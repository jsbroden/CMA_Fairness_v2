{
 "cells": [
  {
   "cell_type": "code",
   "execution_count": 1,
   "id": "f159f837-637b-42ba-96b5-ec9a68c44524",
   "metadata": {
    "execution": {
     "iopub.execute_input": "2025-07-30T21:43:10.219977Z",
     "iopub.status.busy": "2025-07-30T21:43:10.219481Z",
     "iopub.status.idle": "2025-07-30T21:43:10.233547Z",
     "shell.execute_reply": "2025-07-30T21:43:10.231638Z"
    },
    "papermill": {
     "duration": 0.038562,
     "end_time": "2025-07-30T21:43:10.235515",
     "exception": false,
     "start_time": "2025-07-30T21:43:10.196953",
     "status": "completed"
    },
    "tags": []
   },
   "outputs": [
    {
     "name": "stdout",
     "output_type": "stream",
     "text": [
      "/dss/dsshome1/0C/ra93lal2/cma/CMA_Fairness_v2\n"
     ]
    },
    {
     "name": "stderr",
     "output_type": "stream",
     "text": [
      "/dss/dsshome1/0C/ra93lal2/.local/share/virtualenvs/CMA_Fairness_v2-3j10GkSs/lib/python3.10/site-packages/IPython/core/magics/osm.py:393: UserWarning: This is now an optional IPython functionality, using bookmarks requires you to install the `pickleshare` library.\n",
      "  bkms = self.shell.db.get('bookmarks', {})\n",
      "/dss/dsshome1/0C/ra93lal2/.local/share/virtualenvs/CMA_Fairness_v2-3j10GkSs/lib/python3.10/site-packages/IPython/core/magics/osm.py:417: UserWarning: This is now an optional IPython functionality, setting dhist requires you to install the `pickleshare` library.\n",
      "  self.shell.db['dhist'] = compress_dhist(dhist)[-100:]\n"
     ]
    }
   ],
   "source": [
    "%cd ~/cma/CMA_Fairness_v2"
   ]
  },
  {
   "cell_type": "markdown",
   "id": "de2603b9",
   "metadata": {
    "papermill": {
     "duration": 0.018966,
     "end_time": "2025-07-30T21:43:10.274503",
     "exception": false,
     "start_time": "2025-07-30T21:43:10.255537",
     "status": "completed"
    },
    "tags": []
   },
   "source": [
    "The following cell holds the definition of our parameters, these values can be overriden by rendering the with e.g. the following command:\n",
    "\n",
    "papermill -p alpha 0.2 -p ratio 0.3 universe_analysis.ipynb output/test_run.ipynb"
   ]
  },
  {
   "cell_type": "code",
   "execution_count": 2,
   "id": "a80968a0-40bb-4fa9-85ef-2d5eefb01975",
   "metadata": {
    "execution": {
     "iopub.execute_input": "2025-07-30T21:43:10.313154Z",
     "iopub.status.busy": "2025-07-30T21:43:10.312523Z",
     "iopub.status.idle": "2025-07-30T21:43:10.318380Z",
     "shell.execute_reply": "2025-07-30T21:43:10.317489Z"
    },
    "papermill": {
     "duration": 0.026533,
     "end_time": "2025-07-30T21:43:10.319862",
     "exception": false,
     "start_time": "2025-07-30T21:43:10.293329",
     "status": "completed"
    },
    "tags": []
   },
   "outputs": [
    {
     "name": "stdout",
     "output_type": "stream",
     "text": [
      "Current working directory: /dss/dsshome1/0C/ra93lal2/cma/CMA_Fairness_v2\n"
     ]
    }
   ],
   "source": [
    "import os\n",
    "print(\"Current working directory:\", os.getcwd())"
   ]
  },
  {
   "cell_type": "code",
   "execution_count": 3,
   "id": "2dce4c03",
   "metadata": {
    "execution": {
     "iopub.execute_input": "2025-07-30T21:43:10.371665Z",
     "iopub.status.busy": "2025-07-30T21:43:10.371271Z",
     "iopub.status.idle": "2025-07-30T21:43:10.376996Z",
     "shell.execute_reply": "2025-07-30T21:43:10.376193Z"
    },
    "papermill": {
     "duration": 0.047608,
     "end_time": "2025-07-30T21:43:10.386028",
     "exception": false,
     "start_time": "2025-07-30T21:43:10.338420",
     "status": "completed"
    },
    "tags": [
     "parameters"
    ]
   },
   "outputs": [],
   "source": [
    "run_no = 0\n",
    "universe_id = \"test\"\n",
    "universe = {\n",
    "    \"training_size\": \"25k\", # \"25k\", \"5k\", \"1k\"\n",
    "    \"training_year\": \"2014\", # \"2014\", \"2012_14\", \"2010_14\"\n",
    "    \"scale\": \"scale\", # \"scale\", \"do-not-scale\",\n",
    "    #\"stratify_split\": \"target\", # \"none\", \"target\", \"protected-attribute\", \"both\",\n",
    "    \"model\": \"elasticnet\", # \"logreg\", \"penalized_logreg\", \"rf\", \"gbm\", \"elasticnet\"\n",
    "    \"cutoff\": [\"quantile_0.15\", \"quantile_0.30\"],\n",
    "    \"exclude_features\": \"age\", # \"none\", \"nationality\", \"sex\", \"nationality-sex\", \"age\"\n",
    "    \"exclude_subgroups\": \"keep-all\", # \"keep-all\", \"drop-non-german\"\n",
    "    \"eval_fairness_grouping\": [\"majority-minority\", \"nationality-all\"]\n",
    "}\n",
    "\n",
    "output_dir=\"./output\"\n",
    "seed=0"
   ]
  },
  {
   "cell_type": "code",
   "execution_count": 4,
   "id": "17f28cba",
   "metadata": {
    "execution": {
     "iopub.execute_input": "2025-07-30T21:43:10.424600Z",
     "iopub.status.busy": "2025-07-30T21:43:10.423733Z",
     "iopub.status.idle": "2025-07-30T21:43:10.428581Z",
     "shell.execute_reply": "2025-07-30T21:43:10.427645Z"
    },
    "papermill": {
     "duration": 0.025314,
     "end_time": "2025-07-30T21:43:10.430115",
     "exception": false,
     "start_time": "2025-07-30T21:43:10.404801",
     "status": "completed"
    },
    "tags": [
     "injected-parameters"
    ]
   },
   "outputs": [],
   "source": [
    "# Parameters\n",
    "universe_id = \"562d6345d16b8ee6cb17b6fbbc5df911\"\n",
    "run_no = \"14\"\n",
    "universe = \"{\\\"cutoff\\\": [\\\"quantile_0.1\\\", \\\"quantile_0.25\\\"], \\\"eval_fairness_grouping\\\": [\\\"majority-minority\\\", \\\"nationality-all\\\"], \\\"exclude_features\\\": \\\"age\\\", \\\"exclude_subgroups\\\": \\\"keep-all\\\", \\\"model\\\": \\\"elasticnet\\\", \\\"scale\\\": \\\"do-not-scale\\\", \\\"training_size\\\": \\\"1k\\\", \\\"training_year\\\": \\\"2012_14\\\"}\"\n",
    "output_dir = \"output\"\n",
    "seed = \"2023\"\n"
   ]
  },
  {
   "cell_type": "code",
   "execution_count": 5,
   "id": "1650acaf",
   "metadata": {
    "execution": {
     "iopub.execute_input": "2025-07-30T21:43:10.468578Z",
     "iopub.status.busy": "2025-07-30T21:43:10.468173Z",
     "iopub.status.idle": "2025-07-30T21:43:10.472780Z",
     "shell.execute_reply": "2025-07-30T21:43:10.471916Z"
    },
    "papermill": {
     "duration": 0.025463,
     "end_time": "2025-07-30T21:43:10.474473",
     "exception": false,
     "start_time": "2025-07-30T21:43:10.449010",
     "status": "completed"
    },
    "tags": []
   },
   "outputs": [],
   "source": [
    "import json\n",
    "# Parse universe into dict if it is passed as a string\n",
    "if isinstance(universe, str):\n",
    "    universe = json.loads(universe)"
   ]
  },
  {
   "cell_type": "code",
   "execution_count": 6,
   "id": "16620c48",
   "metadata": {
    "execution": {
     "iopub.execute_input": "2025-07-30T21:43:10.513865Z",
     "iopub.status.busy": "2025-07-30T21:43:10.512959Z",
     "iopub.status.idle": "2025-07-30T21:43:10.572662Z",
     "shell.execute_reply": "2025-07-30T21:43:10.571707Z"
    },
    "papermill": {
     "duration": 0.081805,
     "end_time": "2025-07-30T21:43:10.574517",
     "exception": false,
     "start_time": "2025-07-30T21:43:10.492712",
     "status": "completed"
    },
    "tags": []
   },
   "outputs": [],
   "source": [
    "# Auto-reload the custom package\n",
    "%load_ext autoreload\n",
    "%autoreload 1\n",
    "%aimport fairness_multiverse"
   ]
  },
  {
   "cell_type": "code",
   "execution_count": 7,
   "id": "01c5c9f3",
   "metadata": {
    "execution": {
     "iopub.execute_input": "2025-07-30T21:43:10.613734Z",
     "iopub.status.busy": "2025-07-30T21:43:10.613077Z",
     "iopub.status.idle": "2025-07-30T21:43:12.443770Z",
     "shell.execute_reply": "2025-07-30T21:43:12.442731Z"
    },
    "papermill": {
     "duration": 1.852047,
     "end_time": "2025-07-30T21:43:12.445649",
     "exception": false,
     "start_time": "2025-07-30T21:43:10.593602",
     "status": "completed"
    },
    "tags": []
   },
   "outputs": [],
   "source": [
    "from fairness_multiverse.universe import UniverseAnalysis\n",
    "\n",
    "universe_analysis = UniverseAnalysis(\n",
    "    run_no = run_no,\n",
    "    universe_id = universe_id,\n",
    "    universe = universe,\n",
    "    output_dir=output_dir,\n",
    ")"
   ]
  },
  {
   "cell_type": "code",
   "execution_count": 8,
   "id": "106241f5",
   "metadata": {
    "execution": {
     "iopub.execute_input": "2025-07-30T21:43:12.486382Z",
     "iopub.status.busy": "2025-07-30T21:43:12.485618Z",
     "iopub.status.idle": "2025-07-30T21:43:12.494119Z",
     "shell.execute_reply": "2025-07-30T21:43:12.493162Z"
    },
    "papermill": {
     "duration": 0.029404,
     "end_time": "2025-07-30T21:43:12.495540",
     "exception": false,
     "start_time": "2025-07-30T21:43:12.466136",
     "status": "completed"
    },
    "tags": []
   },
   "outputs": [
    {
     "name": "stdout",
     "output_type": "stream",
     "text": [
      "Using Seed: 2023\n"
     ]
    }
   ],
   "source": [
    "import numpy as np\n",
    "parsed_seed = int(seed)\n",
    "np.random.seed(parsed_seed)\n",
    "print(f\"Using Seed: {parsed_seed}\")"
   ]
  },
  {
   "cell_type": "markdown",
   "id": "e0ebdc57",
   "metadata": {
    "papermill": {
     "duration": 0.019377,
     "end_time": "2025-07-30T21:43:12.535320",
     "exception": false,
     "start_time": "2025-07-30T21:43:12.515943",
     "status": "completed"
    },
    "tags": []
   },
   "source": [
    "# Loading Data"
   ]
  },
  {
   "cell_type": "markdown",
   "id": "681925a3",
   "metadata": {
    "papermill": {
     "duration": 0.019278,
     "end_time": "2025-07-30T21:43:12.574171",
     "exception": false,
     "start_time": "2025-07-30T21:43:12.554893",
     "status": "completed"
    },
    "tags": []
   },
   "source": [
    "Load siab_train, siab_test, siab_calib and/or \n",
    "load siab_train_features, siab_train_labels"
   ]
  },
  {
   "cell_type": "code",
   "execution_count": 9,
   "id": "f0496b8a",
   "metadata": {
    "execution": {
     "iopub.execute_input": "2025-07-30T21:43:12.615578Z",
     "iopub.status.busy": "2025-07-30T21:43:12.614771Z",
     "iopub.status.idle": "2025-07-30T21:43:24.355638Z",
     "shell.execute_reply": "2025-07-30T21:43:24.354571Z"
    },
    "papermill": {
     "duration": 11.764145,
     "end_time": "2025-07-30T21:43:24.357295",
     "exception": false,
     "start_time": "2025-07-30T21:43:12.593150",
     "status": "completed"
    },
    "tags": []
   },
   "outputs": [
    {
     "name": "stdout",
     "output_type": "stream",
     "text": [
      "Loading SIAB data from cache: data/siab_cached.csv.gz\n"
     ]
    },
    {
     "name": "stdout",
     "output_type": "stream",
     "text": [
      "(643690, 164)\n"
     ]
    }
   ],
   "source": [
    "from pathlib import Path\n",
    "import pandas as pd\n",
    "\n",
    "# File paths\n",
    "raw_file = Path(\"data/raw/siab.csv\")\n",
    "cache_file = Path(\"data/siab_cached.csv.gz\")\n",
    "\n",
    "# Ensure cache directory exists\n",
    "cache_file.parent.mkdir(parents=True, exist_ok=True)\n",
    "\n",
    "# Load with simple caching\n",
    "if cache_file.exists():\n",
    "    print(f\"Loading SIAB data from cache: {cache_file}\")\n",
    "    siab = pd.read_csv(cache_file, compression='gzip')\n",
    "else:\n",
    "    print(f\"Cache not found. Reading raw SIAB data: {raw_file}\")\n",
    "    siab = pd.read_csv(raw_file)\n",
    "    siab.to_csv(cache_file, index=False, compression='gzip')\n",
    "    print(f\"Cached SIAB data to: {cache_file}\")\n",
    "\n",
    "# Now use `siab` DataFrame as needed\n",
    "print(siab.shape)"
   ]
  },
  {
   "cell_type": "code",
   "execution_count": 10,
   "id": "db0ca512-5f53-4dba-abdb-a2888bca41ba",
   "metadata": {
    "execution": {
     "iopub.execute_input": "2025-07-30T21:43:24.407755Z",
     "iopub.status.busy": "2025-07-30T21:43:24.407129Z",
     "iopub.status.idle": "2025-07-30T21:43:24.413887Z",
     "shell.execute_reply": "2025-07-30T21:43:24.412724Z"
    },
    "papermill": {
     "duration": 0.035571,
     "end_time": "2025-07-30T21:43:24.415527",
     "exception": false,
     "start_time": "2025-07-30T21:43:24.379956",
     "status": "completed"
    },
    "tags": []
   },
   "outputs": [],
   "source": [
    "#siab"
   ]
  },
  {
   "cell_type": "code",
   "execution_count": 11,
   "id": "a0edb063",
   "metadata": {
    "execution": {
     "iopub.execute_input": "2025-07-30T21:43:24.457105Z",
     "iopub.status.busy": "2025-07-30T21:43:24.456457Z",
     "iopub.status.idle": "2025-07-30T21:43:24.461623Z",
     "shell.execute_reply": "2025-07-30T21:43:24.460632Z"
    },
    "papermill": {
     "duration": 0.02736,
     "end_time": "2025-07-30T21:43:24.463132",
     "exception": false,
     "start_time": "2025-07-30T21:43:24.435772",
     "status": "completed"
    },
    "tags": []
   },
   "outputs": [],
   "source": [
    "#import pandas as pd\n",
    "#\n",
    "#X_train = pd.read_csv(\"./data/X_train.csv\")\n",
    "#y_train = pd.read_csv(\"./data/y_train.csv\")"
   ]
  },
  {
   "cell_type": "code",
   "execution_count": 12,
   "id": "63d08085",
   "metadata": {
    "execution": {
     "iopub.execute_input": "2025-07-30T21:43:24.504018Z",
     "iopub.status.busy": "2025-07-30T21:43:24.503233Z",
     "iopub.status.idle": "2025-07-30T21:43:24.508088Z",
     "shell.execute_reply": "2025-07-30T21:43:24.507204Z"
    },
    "papermill": {
     "duration": 0.02649,
     "end_time": "2025-07-30T21:43:24.509734",
     "exception": false,
     "start_time": "2025-07-30T21:43:24.483244",
     "status": "completed"
    },
    "tags": []
   },
   "outputs": [],
   "source": [
    "#X_test = pd.read_csv(\"./data/X_test.csv\")\n",
    "#y_true = pd.read_csv(\"./data/y_test.csv\")"
   ]
  },
  {
   "cell_type": "code",
   "execution_count": 13,
   "id": "98a8d0fa-1d3d-4ed8-bb2c-281470e24add",
   "metadata": {
    "execution": {
     "iopub.execute_input": "2025-07-30T21:43:24.549716Z",
     "iopub.status.busy": "2025-07-30T21:43:24.549117Z",
     "iopub.status.idle": "2025-07-30T21:43:24.554558Z",
     "shell.execute_reply": "2025-07-30T21:43:24.553365Z"
    },
    "papermill": {
     "duration": 0.027189,
     "end_time": "2025-07-30T21:43:24.556674",
     "exception": false,
     "start_time": "2025-07-30T21:43:24.529485",
     "status": "completed"
    },
    "tags": []
   },
   "outputs": [],
   "source": [
    "# Calibration data for conformal\n",
    "#X_calib = pd.read_csv(\"./data/X_calib.csv\")\n",
    "#y_calib = pd.read_csv(\"./data/y_calib.csv\")"
   ]
  },
  {
   "cell_type": "markdown",
   "id": "997051c5-15bd-4b69-9786-c3001a3ce484",
   "metadata": {
    "papermill": {
     "duration": 0.019803,
     "end_time": "2025-07-30T21:43:24.599271",
     "exception": false,
     "start_time": "2025-07-30T21:43:24.579468",
     "status": "completed"
    },
    "tags": []
   },
   "source": [
    "# Splitting Data and Setting Training Data Size"
   ]
  },
  {
   "cell_type": "code",
   "execution_count": 14,
   "id": "e993b61f-042d-41a6-8c81-f55681f86335",
   "metadata": {
    "execution": {
     "iopub.execute_input": "2025-07-30T21:43:24.640955Z",
     "iopub.status.busy": "2025-07-30T21:43:24.640285Z",
     "iopub.status.idle": "2025-07-30T21:43:24.653347Z",
     "shell.execute_reply": "2025-07-30T21:43:24.652345Z"
    },
    "papermill": {
     "duration": 0.036165,
     "end_time": "2025-07-30T21:43:24.655182",
     "exception": false,
     "start_time": "2025-07-30T21:43:24.619017",
     "status": "completed"
    },
    "tags": []
   },
   "outputs": [],
   "source": [
    "def sample_by_year_size(df,\n",
    "                        training_year: str,\n",
    "                        training_size: str,\n",
    "                        random_state: int = 42):\n",
    "    # --- parse training_year into a list of int years ---\n",
    "    if \"_\" in training_year:\n",
    "        start_str, end_str = training_year.split(\"_\", 1)\n",
    "        start = int(start_str)\n",
    "        end   = int(end_str) if len(end_str) == 4 else (int(end_str) + (start // 100)*100)\n",
    "        years = list(range(start, end + 1))\n",
    "    else:\n",
    "        years = [int(training_year)]\n",
    "\n",
    "    df = df[df[\"year\"].isin(years)].reset_index(drop=True)\n",
    "\n",
    "    # --- map training_size to total number of samples ---\n",
    "    total_map = {\"25k\": 25_000, \"5k\": 5_000, \"1k\": 1_000}\n",
    "    if training_size not in total_map:\n",
    "        return df  # e.g. \"all\"\n",
    "\n",
    "    total_samples = total_map[training_size]\n",
    "    n_years       = len(years)\n",
    "    base          = total_samples // n_years\n",
    "    remainder     = total_samples % n_years\n",
    "\n",
    "    # --- build a dict: year -> how many to sample ---\n",
    "    # give +1 to the first `remainder` years in ascending order\n",
    "    quotas = {\n",
    "        year: base + (1 if idx < remainder else 0)\n",
    "        for idx, year in enumerate(sorted(years))\n",
    "    }\n",
    "\n",
    "    # --- sample per‐year according to the quota dict ---\n",
    "    sampled = (\n",
    "        df\n",
    "        .groupby(\"year\", group_keys=False)\n",
    "        .apply(lambda grp: grp.sample(\n",
    "            n=min(len(grp), quotas[grp.name]),\n",
    "            random_state=random_state))\n",
    "        .reset_index(drop=True)\n",
    "    )\n",
    "\n",
    "    return sampled"
   ]
  },
  {
   "cell_type": "code",
   "execution_count": 15,
   "id": "c0ccd338-0e02-41f3-a09d-f56f9266e3fb",
   "metadata": {
    "execution": {
     "iopub.execute_input": "2025-07-30T21:43:24.688616Z",
     "iopub.status.busy": "2025-07-30T21:43:24.688272Z",
     "iopub.status.idle": "2025-07-30T21:43:24.692391Z",
     "shell.execute_reply": "2025-07-30T21:43:24.691530Z"
    },
    "papermill": {
     "duration": 0.018184,
     "end_time": "2025-07-30T21:43:24.694024",
     "exception": false,
     "start_time": "2025-07-30T21:43:24.675840",
     "status": "completed"
    },
    "tags": []
   },
   "outputs": [],
   "source": [
    "#universe[\"training_size\"]"
   ]
  },
  {
   "cell_type": "code",
   "execution_count": 16,
   "id": "ca707fd7-8047-4acd-bfa5-66248fbbf8e6",
   "metadata": {
    "execution": {
     "iopub.execute_input": "2025-07-30T21:43:24.735296Z",
     "iopub.status.busy": "2025-07-30T21:43:24.734602Z",
     "iopub.status.idle": "2025-07-30T21:43:24.739973Z",
     "shell.execute_reply": "2025-07-30T21:43:24.739004Z"
    },
    "papermill": {
     "duration": 0.027535,
     "end_time": "2025-07-30T21:43:24.741621",
     "exception": false,
     "start_time": "2025-07-30T21:43:24.714086",
     "status": "completed"
    },
    "tags": []
   },
   "outputs": [],
   "source": [
    "#universe[\"training_year\"]"
   ]
  },
  {
   "cell_type": "code",
   "execution_count": 17,
   "id": "aea9c6ef-6f46-42c8-85eb-5a62025c1508",
   "metadata": {
    "execution": {
     "iopub.execute_input": "2025-07-30T21:43:24.783891Z",
     "iopub.status.busy": "2025-07-30T21:43:24.783091Z",
     "iopub.status.idle": "2025-07-30T21:43:25.357238Z",
     "shell.execute_reply": "2025-07-30T21:43:25.356156Z"
    },
    "papermill": {
     "duration": 0.597358,
     "end_time": "2025-07-30T21:43:25.359202",
     "exception": false,
     "start_time": "2025-07-30T21:43:24.761844",
     "status": "completed"
    },
    "tags": []
   },
   "outputs": [],
   "source": [
    "siab_train = sample_by_year_size(siab,\n",
    "                               training_year=universe[\"training_year\"],\n",
    "                               training_size=universe[\"training_size\"])"
   ]
  },
  {
   "cell_type": "code",
   "execution_count": 18,
   "id": "8d3afb32-789d-442c-8d5d-9f5aa8dd2eed",
   "metadata": {
    "execution": {
     "iopub.execute_input": "2025-07-30T21:43:25.407516Z",
     "iopub.status.busy": "2025-07-30T21:43:25.406938Z",
     "iopub.status.idle": "2025-07-30T21:43:25.413245Z",
     "shell.execute_reply": "2025-07-30T21:43:25.411961Z"
    },
    "papermill": {
     "duration": 0.033213,
     "end_time": "2025-07-30T21:43:25.415023",
     "exception": false,
     "start_time": "2025-07-30T21:43:25.381810",
     "status": "completed"
    },
    "tags": []
   },
   "outputs": [],
   "source": [
    "#siab_train.shape"
   ]
  },
  {
   "cell_type": "code",
   "execution_count": 19,
   "id": "d582db68-1a4c-47fb-84fc-08518dc1975a",
   "metadata": {
    "execution": {
     "iopub.execute_input": "2025-07-30T21:43:25.473317Z",
     "iopub.status.busy": "2025-07-30T21:43:25.472747Z",
     "iopub.status.idle": "2025-07-30T21:43:25.479228Z",
     "shell.execute_reply": "2025-07-30T21:43:25.478053Z"
    },
    "papermill": {
     "duration": 0.038758,
     "end_time": "2025-07-30T21:43:25.481326",
     "exception": false,
     "start_time": "2025-07-30T21:43:25.442568",
     "status": "completed"
    },
    "tags": []
   },
   "outputs": [],
   "source": [
    "#display(siab_train.groupby(\"year\").size())"
   ]
  },
  {
   "cell_type": "code",
   "execution_count": 20,
   "id": "a561edb4-d032-42cb-8256-22eac1111c64",
   "metadata": {
    "execution": {
     "iopub.execute_input": "2025-07-30T21:43:25.525174Z",
     "iopub.status.busy": "2025-07-30T21:43:25.524217Z",
     "iopub.status.idle": "2025-07-30T21:43:25.750649Z",
     "shell.execute_reply": "2025-07-30T21:43:25.749661Z"
    },
    "papermill": {
     "duration": 0.249545,
     "end_time": "2025-07-30T21:43:25.752704",
     "exception": false,
     "start_time": "2025-07-30T21:43:25.503159",
     "status": "completed"
    },
    "tags": []
   },
   "outputs": [],
   "source": [
    "#siab_train = siab_s[siab_s.year < 2015]\n",
    "siab_calib = siab[siab.year == 2015]\n",
    "siab_test = siab[siab.year == 2016]"
   ]
  },
  {
   "cell_type": "code",
   "execution_count": 21,
   "id": "472de16f-c3db-4916-846b-1f0de9cf1746",
   "metadata": {
    "execution": {
     "iopub.execute_input": "2025-07-30T21:43:25.798736Z",
     "iopub.status.busy": "2025-07-30T21:43:25.798197Z",
     "iopub.status.idle": "2025-07-30T21:43:25.806245Z",
     "shell.execute_reply": "2025-07-30T21:43:25.804689Z"
    },
    "papermill": {
     "duration": 0.03141,
     "end_time": "2025-07-30T21:43:25.808103",
     "exception": false,
     "start_time": "2025-07-30T21:43:25.776693",
     "status": "completed"
    },
    "tags": []
   },
   "outputs": [],
   "source": [
    "X_train = siab_train.iloc[:,4:164]\n",
    "y_train = siab_train.iloc[:, [3]]"
   ]
  },
  {
   "cell_type": "code",
   "execution_count": 22,
   "id": "828c96af-f43a-4ed6-ba47-8ac73a47d56c",
   "metadata": {
    "execution": {
     "iopub.execute_input": "2025-07-30T21:43:25.850871Z",
     "iopub.status.busy": "2025-07-30T21:43:25.850354Z",
     "iopub.status.idle": "2025-07-30T21:43:25.914541Z",
     "shell.execute_reply": "2025-07-30T21:43:25.913451Z"
    },
    "papermill": {
     "duration": 0.08752,
     "end_time": "2025-07-30T21:43:25.916456",
     "exception": false,
     "start_time": "2025-07-30T21:43:25.828936",
     "status": "completed"
    },
    "tags": []
   },
   "outputs": [],
   "source": [
    "X_calib = siab_calib.iloc[:,4:164]\n",
    "y_calib = siab_calib.iloc[:, [3]]"
   ]
  },
  {
   "cell_type": "code",
   "execution_count": 23,
   "id": "c34be9c3-6bd6-476e-acd3-845840e303be",
   "metadata": {
    "execution": {
     "iopub.execute_input": "2025-07-30T21:43:25.963150Z",
     "iopub.status.busy": "2025-07-30T21:43:25.962311Z",
     "iopub.status.idle": "2025-07-30T21:43:26.044376Z",
     "shell.execute_reply": "2025-07-30T21:43:26.043290Z"
    },
    "papermill": {
     "duration": 0.107375,
     "end_time": "2025-07-30T21:43:26.046222",
     "exception": false,
     "start_time": "2025-07-30T21:43:25.938847",
     "status": "completed"
    },
    "tags": []
   },
   "outputs": [],
   "source": [
    "X_test = siab_test.iloc[:,4:164]\n",
    "y_true = siab_test.iloc[:, [3]]"
   ]
  },
  {
   "cell_type": "markdown",
   "id": "9901737e-04df-44f0-9100-f5ad144ed040",
   "metadata": {
    "papermill": {
     "duration": 0.020889,
     "end_time": "2025-07-30T21:43:26.089206",
     "exception": false,
     "start_time": "2025-07-30T21:43:26.068317",
     "status": "completed"
    },
    "tags": []
   },
   "source": [
    "# Splitting Data and Setting Training Data Size OLD VERSION"
   ]
  },
  {
   "cell_type": "code",
   "execution_count": 24,
   "id": "acbc8f7d-8fc8-4e86-8c59-5dcb0f58384b",
   "metadata": {
    "execution": {
     "iopub.execute_input": "2025-07-30T21:43:26.135744Z",
     "iopub.status.busy": "2025-07-30T21:43:26.134892Z",
     "iopub.status.idle": "2025-07-30T21:43:26.140757Z",
     "shell.execute_reply": "2025-07-30T21:43:26.139457Z"
    },
    "papermill": {
     "duration": 0.0324,
     "end_time": "2025-07-30T21:43:26.142739",
     "exception": false,
     "start_time": "2025-07-30T21:43:26.110339",
     "status": "completed"
    },
    "tags": []
   },
   "outputs": [],
   "source": [
    "#def sample_by_year(df, training_size, random_state=42):\n",
    "#    if training_size == \"2014\":\n",
    "#        return df[df[\"year\"] == 2014].reset_index(drop=True)\n",
    "#    \n",
    "#    size_map = {\n",
    "#        \"25k\": 5000,\n",
    "#        \"5k\": 1000,\n",
    "#        \"1k\": 200\n",
    "#    }\n",
    "#\n",
    "#    if training_size not in size_map:\n",
    "#        return df.reset_index(drop=True)  # use all data\n",
    "#\n",
    "#    n_per_year = size_map[training_size]\n",
    "#    grouped = df.groupby(\"year\")\n",
    "#    sampled = grouped.apply(lambda x: x.sample(n=min(n_per_year, len(x)), random_state=random_state))\n",
    "#    return sampled.reset_index(drop=True)"
   ]
  },
  {
   "cell_type": "code",
   "execution_count": 25,
   "id": "6d931f52-beaf-43ff-9e78-9d44a448d54e",
   "metadata": {
    "execution": {
     "iopub.execute_input": "2025-07-30T21:43:26.189047Z",
     "iopub.status.busy": "2025-07-30T21:43:26.188315Z",
     "iopub.status.idle": "2025-07-30T21:43:26.195090Z",
     "shell.execute_reply": "2025-07-30T21:43:26.193846Z"
    },
    "papermill": {
     "duration": 0.031181,
     "end_time": "2025-07-30T21:43:26.196837",
     "exception": false,
     "start_time": "2025-07-30T21:43:26.165656",
     "status": "completed"
    },
    "tags": []
   },
   "outputs": [],
   "source": [
    "#siab_s = sample_by_year(siab, universe[\"training_size\"])"
   ]
  },
  {
   "cell_type": "code",
   "execution_count": 26,
   "id": "5db0a40e-a4e2-4920-be85-b12ae061d70d",
   "metadata": {
    "execution": {
     "iopub.execute_input": "2025-07-30T21:43:26.242440Z",
     "iopub.status.busy": "2025-07-30T21:43:26.241492Z",
     "iopub.status.idle": "2025-07-30T21:43:26.248027Z",
     "shell.execute_reply": "2025-07-30T21:43:26.246788Z"
    },
    "papermill": {
     "duration": 0.031444,
     "end_time": "2025-07-30T21:43:26.249956",
     "exception": false,
     "start_time": "2025-07-30T21:43:26.218512",
     "status": "completed"
    },
    "tags": []
   },
   "outputs": [],
   "source": [
    "#display(siab_s.groupby(\"year\").size())"
   ]
  },
  {
   "cell_type": "code",
   "execution_count": 27,
   "id": "e6c733c5",
   "metadata": {
    "execution": {
     "iopub.execute_input": "2025-07-30T21:43:26.292589Z",
     "iopub.status.busy": "2025-07-30T21:43:26.291848Z",
     "iopub.status.idle": "2025-07-30T21:43:26.480608Z",
     "shell.execute_reply": "2025-07-30T21:43:26.479392Z"
    },
    "papermill": {
     "duration": 0.211792,
     "end_time": "2025-07-30T21:43:26.482142",
     "exception": false,
     "start_time": "2025-07-30T21:43:26.270350",
     "status": "completed"
    },
    "tags": []
   },
   "outputs": [],
   "source": [
    "# Auxiliary data needed downstream in the pipeline\n",
    "\n",
    "org_train = X_train.copy()\n",
    "org_test = X_test.copy()\n",
    "org_calib = X_calib.copy()"
   ]
  },
  {
   "cell_type": "code",
   "execution_count": 28,
   "id": "1466abac-c6da-4492-a62f-4240ae3783af",
   "metadata": {
    "execution": {
     "iopub.execute_input": "2025-07-30T21:43:26.528174Z",
     "iopub.status.busy": "2025-07-30T21:43:26.527064Z",
     "iopub.status.idle": "2025-07-30T21:43:26.534349Z",
     "shell.execute_reply": "2025-07-30T21:43:26.533135Z"
    },
    "papermill": {
     "duration": 0.033152,
     "end_time": "2025-07-30T21:43:26.536355",
     "exception": false,
     "start_time": "2025-07-30T21:43:26.503203",
     "status": "completed"
    },
    "tags": []
   },
   "outputs": [],
   "source": [
    "# put in other script?\n",
    "# Group sizes\n",
    "\n",
    "#def calculate_percentages(df, df_name):\n",
    "#    total_entries = len(df)\n",
    "#\n",
    "#    female_pct = (df['frau1'] == 1).mean() * 100\n",
    "#    non_german_pct = ((df['maxdeutsch1'] == 0) & (df['maxdeutsch.Missing.'] == 0)).mean() * 100\n",
    "#    non_german_male_pct = ((df['frau1'] == 0) & (df['maxdeutsch1'] == 0) & (df['maxdeutsch.Missing.'] == 0)).mean() * 100\n",
    "#    non_german_female_pct = ((df['frau1'] == 1) & (df['maxdeutsch1'] == 0) & (df['maxdeutsch.Missing.'] == 0)).mean() * 100\n",
    "#\n",
    "#    print(f\"--- {df_name} ---\")\n",
    "#    print(f\"Female: {female_pct:.2f}%\")\n",
    "#    print(f\"Non-German: {non_german_pct:.2f}%\")\n",
    "#    print(f\"Non-German Male: {non_german_male_pct:.2f}%\")\n",
    "#    print(f\"Non-German Female: {non_german_female_pct:.2f}%\\n\")\n",
    "#\n",
    "## Calculate for each DataFrame\n",
    "#calculate_percentages(siab_calib, \"siab_calib\")\n",
    "#calculate_percentages(siab_test, \"siab_test\")\n",
    "#calculate_percentages(siab_train, \"siab_train\")"
   ]
  },
  {
   "cell_type": "markdown",
   "id": "0a4a1b33",
   "metadata": {
    "papermill": {
     "duration": 0.021803,
     "end_time": "2025-07-30T21:43:26.581367",
     "exception": false,
     "start_time": "2025-07-30T21:43:26.559564",
     "status": "completed"
    },
    "tags": []
   },
   "source": [
    "# Preprocessing Data"
   ]
  },
  {
   "cell_type": "code",
   "execution_count": 29,
   "id": "ca879031",
   "metadata": {
    "execution": {
     "iopub.execute_input": "2025-07-30T21:43:26.629168Z",
     "iopub.status.busy": "2025-07-30T21:43:26.628201Z",
     "iopub.status.idle": "2025-07-30T21:43:26.636350Z",
     "shell.execute_reply": "2025-07-30T21:43:26.635144Z"
    },
    "papermill": {
     "duration": 0.034082,
     "end_time": "2025-07-30T21:43:26.638224",
     "exception": false,
     "start_time": "2025-07-30T21:43:26.604142",
     "status": "completed"
    },
    "tags": []
   },
   "outputs": [],
   "source": [
    "# EXCLUDE PROTECTED FEATURES\n",
    "# ----------------------\n",
    "# \"exclude_features\": \"none\", # \"nationality\", \"sex\", \"nationality-sex\"\n",
    "\n",
    "excluded_features = universe[\"exclude_features\"].split(\"-\") # split, e.g.: \"nationality-sex\" -> [\"nationality\", \"sex\"]\n",
    "excluded_features_dictionary = {\n",
    "    \"nationality\": [\"maxdeutsch1\", \"maxdeutsch.Missing.\"],\n",
    "    \"sex\": [\"frau1\"],\n",
    "    \"age\": [\"age\"],\n",
    "}\n"
   ]
  },
  {
   "cell_type": "code",
   "execution_count": 30,
   "id": "b745ac60",
   "metadata": {
    "execution": {
     "iopub.execute_input": "2025-07-30T21:43:26.685603Z",
     "iopub.status.busy": "2025-07-30T21:43:26.684653Z",
     "iopub.status.idle": "2025-07-30T21:43:26.692075Z",
     "shell.execute_reply": "2025-07-30T21:43:26.690869Z"
    },
    "papermill": {
     "duration": 0.033068,
     "end_time": "2025-07-30T21:43:26.693947",
     "exception": false,
     "start_time": "2025-07-30T21:43:26.660879",
     "status": "completed"
    },
    "tags": []
   },
   "outputs": [],
   "source": [
    "# Code nice names to column names\n",
    "\n",
    "excluded_features_columns = [\n",
    "    excluded_features_dictionary[f] for f in excluded_features if len(f) > 0 and f != \"none\"\n",
    "]"
   ]
  },
  {
   "cell_type": "code",
   "execution_count": 31,
   "id": "f84f73a2",
   "metadata": {
    "execution": {
     "iopub.execute_input": "2025-07-30T21:43:26.718672Z",
     "iopub.status.busy": "2025-07-30T21:43:26.718332Z",
     "iopub.status.idle": "2025-07-30T21:43:26.723644Z",
     "shell.execute_reply": "2025-07-30T21:43:26.722989Z"
    },
    "papermill": {
     "duration": 0.018391,
     "end_time": "2025-07-30T21:43:26.724955",
     "exception": false,
     "start_time": "2025-07-30T21:43:26.706564",
     "status": "completed"
    },
    "tags": []
   },
   "outputs": [],
   "source": [
    "from utils import flatten_once\n",
    "\n",
    "excluded_features_columns = flatten_once(excluded_features_columns)"
   ]
  },
  {
   "cell_type": "code",
   "execution_count": 32,
   "id": "884dea22",
   "metadata": {
    "execution": {
     "iopub.execute_input": "2025-07-30T21:43:26.750417Z",
     "iopub.status.busy": "2025-07-30T21:43:26.750054Z",
     "iopub.status.idle": "2025-07-30T21:43:26.756617Z",
     "shell.execute_reply": "2025-07-30T21:43:26.755515Z"
    },
    "papermill": {
     "duration": 0.020163,
     "end_time": "2025-07-30T21:43:26.757982",
     "exception": false,
     "start_time": "2025-07-30T21:43:26.737819",
     "status": "completed"
    },
    "tags": []
   },
   "outputs": [
    {
     "name": "stdout",
     "output_type": "stream",
     "text": [
      "Dropping features: ['age']\n"
     ]
    }
   ],
   "source": [
    "if len(excluded_features_columns) > 0:\n",
    "    print(f\"Dropping features: {excluded_features_columns}\")\n",
    "    X_train.drop(excluded_features_columns, axis=1, inplace=True)"
   ]
  },
  {
   "cell_type": "code",
   "execution_count": 33,
   "id": "95ab8b16",
   "metadata": {
    "execution": {
     "iopub.execute_input": "2025-07-30T21:43:26.782965Z",
     "iopub.status.busy": "2025-07-30T21:43:26.782629Z",
     "iopub.status.idle": "2025-07-30T21:43:26.835887Z",
     "shell.execute_reply": "2025-07-30T21:43:26.835094Z"
    },
    "papermill": {
     "duration": 0.066967,
     "end_time": "2025-07-30T21:43:26.837189",
     "exception": false,
     "start_time": "2025-07-30T21:43:26.770222",
     "status": "completed"
    },
    "tags": []
   },
   "outputs": [
    {
     "name": "stdout",
     "output_type": "stream",
     "text": [
      "Dropping features: ['age']\n"
     ]
    }
   ],
   "source": [
    "if len(excluded_features_columns) > 0:\n",
    "    print(f\"Dropping features: {excluded_features_columns}\")\n",
    "    X_test.drop(excluded_features_columns, axis=1, inplace=True)"
   ]
  },
  {
   "cell_type": "code",
   "execution_count": 34,
   "id": "1853aaf5-fb9f-46cb-a2b5-8ea4ae2237e4",
   "metadata": {
    "execution": {
     "iopub.execute_input": "2025-07-30T21:43:26.862585Z",
     "iopub.status.busy": "2025-07-30T21:43:26.862098Z",
     "iopub.status.idle": "2025-07-30T21:43:26.910465Z",
     "shell.execute_reply": "2025-07-30T21:43:26.909635Z"
    },
    "papermill": {
     "duration": 0.062827,
     "end_time": "2025-07-30T21:43:26.912620",
     "exception": false,
     "start_time": "2025-07-30T21:43:26.849793",
     "status": "completed"
    },
    "tags": []
   },
   "outputs": [
    {
     "name": "stdout",
     "output_type": "stream",
     "text": [
      "Dropping features: ['age']\n"
     ]
    }
   ],
   "source": [
    "if len(excluded_features_columns) > 0:\n",
    "    print(f\"Dropping features: {excluded_features_columns}\")\n",
    "    X_calib.drop(excluded_features_columns, axis=1, inplace=True)"
   ]
  },
  {
   "cell_type": "code",
   "execution_count": 35,
   "id": "6727d079-03e5-481e-9d38-292a90b7a0a8",
   "metadata": {
    "execution": {
     "iopub.execute_input": "2025-07-30T21:43:26.979213Z",
     "iopub.status.busy": "2025-07-30T21:43:26.978870Z",
     "iopub.status.idle": "2025-07-30T21:43:26.983162Z",
     "shell.execute_reply": "2025-07-30T21:43:26.982399Z"
    },
    "papermill": {
     "duration": 0.039068,
     "end_time": "2025-07-30T21:43:26.985140",
     "exception": false,
     "start_time": "2025-07-30T21:43:26.946072",
     "status": "completed"
    },
    "tags": []
   },
   "outputs": [],
   "source": [
    "# SPLIT & STRATIFY DATA\n",
    "# ----------------------"
   ]
  },
  {
   "cell_type": "code",
   "execution_count": 36,
   "id": "76c4dc6d",
   "metadata": {
    "execution": {
     "iopub.execute_input": "2025-07-30T21:43:27.050631Z",
     "iopub.status.busy": "2025-07-30T21:43:27.050292Z",
     "iopub.status.idle": "2025-07-30T21:43:27.055153Z",
     "shell.execute_reply": "2025-07-30T21:43:27.054220Z"
    },
    "papermill": {
     "duration": 0.039001,
     "end_time": "2025-07-30T21:43:27.056693",
     "exception": false,
     "start_time": "2025-07-30T21:43:27.017692",
     "status": "completed"
    },
    "tags": []
   },
   "outputs": [],
   "source": [
    "# EXCLUDE CERTAIN SUBGROUPS\n",
    "# ----------------------\n",
    "\n",
    "mode = universe.get(\"exclude_subgroups\", \"keep-all\") \n",
    "# Fetches the exclude_subgroups setting from the universe dict.\n",
    "# Defaults to \"keep-all\" if the key is missing."
   ]
  },
  {
   "cell_type": "code",
   "execution_count": 37,
   "id": "21994072",
   "metadata": {
    "execution": {
     "iopub.execute_input": "2025-07-30T21:43:27.082031Z",
     "iopub.status.busy": "2025-07-30T21:43:27.081630Z",
     "iopub.status.idle": "2025-07-30T21:43:27.088167Z",
     "shell.execute_reply": "2025-07-30T21:43:27.087363Z"
    },
    "papermill": {
     "duration": 0.020158,
     "end_time": "2025-07-30T21:43:27.089453",
     "exception": false,
     "start_time": "2025-07-30T21:43:27.069295",
     "status": "completed"
    },
    "tags": []
   },
   "outputs": [],
   "source": [
    "if mode == \"keep-all\":\n",
    "    keep_mask = pd.Series(True, index=org_train.index)\n",
    "\n",
    "# org_train contains the original feature columns from features_org (in Simson)\n",
    "# features_org contains unprocessed features, for me X_train at beginning ???\n",
    "# For keep-all, creates a boolean Series (keep_mask) of all True, so no rows are removed.\n",
    "\n",
    "elif mode == \"drop-non-german\":\n",
    "    keep_mask = org_train[\"maxdeutsch1\"] == 1 # ??? what about missing values?\n",
    "\n",
    "else:\n",
    "    raise ValueError(f\"Unsupported mode for exclude_subgroups: {mode}\")\n"
   ]
  },
  {
   "cell_type": "code",
   "execution_count": 38,
   "id": "71651440",
   "metadata": {
    "execution": {
     "iopub.execute_input": "2025-07-30T21:43:27.118137Z",
     "iopub.status.busy": "2025-07-30T21:43:27.117600Z",
     "iopub.status.idle": "2025-07-30T21:43:27.122426Z",
     "shell.execute_reply": "2025-07-30T21:43:27.121696Z"
    },
    "papermill": {
     "duration": 0.022476,
     "end_time": "2025-07-30T21:43:27.124341",
     "exception": false,
     "start_time": "2025-07-30T21:43:27.101865",
     "status": "completed"
    },
    "tags": []
   },
   "outputs": [],
   "source": [
    "n_drop = (~keep_mask).sum() # Calculates how many rows are set to be dropped\n",
    "if n_drop > 0:\n",
    "    pct = n_drop / len(keep_mask) * 100\n",
    "    print(f\"Dropping {n_drop} rows ({pct:.2f}%) where mode='{mode}'\")"
   ]
  },
  {
   "cell_type": "code",
   "execution_count": 39,
   "id": "5fb8eee5",
   "metadata": {
    "execution": {
     "iopub.execute_input": "2025-07-30T21:43:27.169247Z",
     "iopub.status.busy": "2025-07-30T21:43:27.168778Z",
     "iopub.status.idle": "2025-07-30T21:43:27.176419Z",
     "shell.execute_reply": "2025-07-30T21:43:27.175433Z"
    },
    "papermill": {
     "duration": 0.031738,
     "end_time": "2025-07-30T21:43:27.178246",
     "exception": false,
     "start_time": "2025-07-30T21:43:27.146508",
     "status": "completed"
    },
    "tags": []
   },
   "outputs": [],
   "source": [
    "X_train = X_train[keep_mask]"
   ]
  },
  {
   "cell_type": "code",
   "execution_count": 40,
   "id": "b202bb3a",
   "metadata": {
    "execution": {
     "iopub.execute_input": "2025-07-30T21:43:27.211922Z",
     "iopub.status.busy": "2025-07-30T21:43:27.211359Z",
     "iopub.status.idle": "2025-07-30T21:43:27.217164Z",
     "shell.execute_reply": "2025-07-30T21:43:27.216269Z"
    },
    "papermill": {
     "duration": 0.020776,
     "end_time": "2025-07-30T21:43:27.218936",
     "exception": false,
     "start_time": "2025-07-30T21:43:27.198160",
     "status": "completed"
    },
    "tags": []
   },
   "outputs": [],
   "source": [
    "y_train = y_train[keep_mask]"
   ]
  },
  {
   "cell_type": "markdown",
   "id": "493e2ac3",
   "metadata": {
    "papermill": {
     "duration": 0.021892,
     "end_time": "2025-07-30T21:43:27.266047",
     "exception": false,
     "start_time": "2025-07-30T21:43:27.244155",
     "status": "completed"
    },
    "tags": []
   },
   "source": [
    "# Model Training"
   ]
  },
  {
   "cell_type": "code",
   "execution_count": 41,
   "id": "679e1268",
   "metadata": {
    "execution": {
     "iopub.execute_input": "2025-07-30T21:43:27.319222Z",
     "iopub.status.busy": "2025-07-30T21:43:27.318670Z",
     "iopub.status.idle": "2025-07-30T21:43:27.436720Z",
     "shell.execute_reply": "2025-07-30T21:43:27.435559Z"
    },
    "papermill": {
     "duration": 0.146385,
     "end_time": "2025-07-30T21:43:27.438531",
     "exception": false,
     "start_time": "2025-07-30T21:43:27.292146",
     "status": "completed"
    },
    "tags": []
   },
   "outputs": [],
   "source": [
    "from sklearn.linear_model import LogisticRegression\n",
    "from sklearn.ensemble import GradientBoostingClassifier, RandomForestClassifier\n",
    "\n",
    "if (universe[\"model\"] == \"logreg\"):\n",
    "    model = LogisticRegression() #penalty=\"none\") #, solver=\"newton-cg\", max_iter=1) # include random_state=19 ?\n",
    "elif (universe[\"model\"] == \"penalized_logreg\"):\n",
    "    model = LogisticRegression(penalty=\"l2\", C=1.0) #, solver=\"newton-cg\", max_iter=1)\n",
    "elif (universe[\"model\"] == \"rf\"):\n",
    "    model = RandomForestClassifier(n_estimators=100, n_jobs=-1)\n",
    "elif (universe[\"model\"] == \"gbm\"):\n",
    "    model = GradientBoostingClassifier()\n",
    "elif (universe[\"model\"] == \"elasticnet\"):\n",
    "    model = LogisticRegression(penalty = 'elasticnet', solver = 'saga', l1_ratio = 0.5, max_iter=5000) # which solver to use?\n",
    "else:\n",
    "    raise \"Unsupported universe.model\""
   ]
  },
  {
   "cell_type": "code",
   "execution_count": 42,
   "id": "0cc8f744",
   "metadata": {
    "execution": {
     "iopub.execute_input": "2025-07-30T21:43:27.488022Z",
     "iopub.status.busy": "2025-07-30T21:43:27.487630Z",
     "iopub.status.idle": "2025-07-30T21:43:27.493840Z",
     "shell.execute_reply": "2025-07-30T21:43:27.493035Z"
    },
    "papermill": {
     "duration": 0.034019,
     "end_time": "2025-07-30T21:43:27.496882",
     "exception": false,
     "start_time": "2025-07-30T21:43:27.462863",
     "status": "completed"
    },
    "tags": []
   },
   "outputs": [],
   "source": [
    "import numpy as np\n",
    "from sklearn.pipeline import Pipeline\n",
    "from sklearn.preprocessing import StandardScaler\n",
    "\n",
    "model = Pipeline([\n",
    "    #(\"continuous_processor\", continuous_processor),\n",
    "    #(\"categorical_preprocessor\", categorical_preprocessor),\n",
    "    (\"scale\", StandardScaler() if universe[\"scale\"] == \"scale\" else None), \n",
    "    (\"model\", model),\n",
    "])"
   ]
  },
  {
   "cell_type": "code",
   "execution_count": 43,
   "id": "9442c04d",
   "metadata": {
    "execution": {
     "iopub.execute_input": "2025-07-30T21:43:27.548879Z",
     "iopub.status.busy": "2025-07-30T21:43:27.548379Z",
     "iopub.status.idle": "2025-07-30T21:43:41.865448Z",
     "shell.execute_reply": "2025-07-30T21:43:41.864513Z"
    },
    "papermill": {
     "duration": 14.344305,
     "end_time": "2025-07-30T21:43:41.867123",
     "exception": false,
     "start_time": "2025-07-30T21:43:27.522818",
     "status": "completed"
    },
    "tags": []
   },
   "outputs": [
    {
     "name": "stderr",
     "output_type": "stream",
     "text": [
      "/dss/dsshome1/0C/ra93lal2/.local/share/virtualenvs/CMA_Fairness_v2-3j10GkSs/lib/python3.10/site-packages/sklearn/linear_model/_sag.py:350: ConvergenceWarning: The max_iter was reached which means the coef_ did not converge\n",
      "  warnings.warn(\n"
     ]
    },
    {
     "data": {
      "text/html": [
       "<style>#sk-container-id-1 {color: black;background-color: white;}#sk-container-id-1 pre{padding: 0;}#sk-container-id-1 div.sk-toggleable {background-color: white;}#sk-container-id-1 label.sk-toggleable__label {cursor: pointer;display: block;width: 100%;margin-bottom: 0;padding: 0.3em;box-sizing: border-box;text-align: center;}#sk-container-id-1 label.sk-toggleable__label-arrow:before {content: \"▸\";float: left;margin-right: 0.25em;color: #696969;}#sk-container-id-1 label.sk-toggleable__label-arrow:hover:before {color: black;}#sk-container-id-1 div.sk-estimator:hover label.sk-toggleable__label-arrow:before {color: black;}#sk-container-id-1 div.sk-toggleable__content {max-height: 0;max-width: 0;overflow: hidden;text-align: left;background-color: #f0f8ff;}#sk-container-id-1 div.sk-toggleable__content pre {margin: 0.2em;color: black;border-radius: 0.25em;background-color: #f0f8ff;}#sk-container-id-1 input.sk-toggleable__control:checked~div.sk-toggleable__content {max-height: 200px;max-width: 100%;overflow: auto;}#sk-container-id-1 input.sk-toggleable__control:checked~label.sk-toggleable__label-arrow:before {content: \"▾\";}#sk-container-id-1 div.sk-estimator input.sk-toggleable__control:checked~label.sk-toggleable__label {background-color: #d4ebff;}#sk-container-id-1 div.sk-label input.sk-toggleable__control:checked~label.sk-toggleable__label {background-color: #d4ebff;}#sk-container-id-1 input.sk-hidden--visually {border: 0;clip: rect(1px 1px 1px 1px);clip: rect(1px, 1px, 1px, 1px);height: 1px;margin: -1px;overflow: hidden;padding: 0;position: absolute;width: 1px;}#sk-container-id-1 div.sk-estimator {font-family: monospace;background-color: #f0f8ff;border: 1px dotted black;border-radius: 0.25em;box-sizing: border-box;margin-bottom: 0.5em;}#sk-container-id-1 div.sk-estimator:hover {background-color: #d4ebff;}#sk-container-id-1 div.sk-parallel-item::after {content: \"\";width: 100%;border-bottom: 1px solid gray;flex-grow: 1;}#sk-container-id-1 div.sk-label:hover label.sk-toggleable__label {background-color: #d4ebff;}#sk-container-id-1 div.sk-serial::before {content: \"\";position: absolute;border-left: 1px solid gray;box-sizing: border-box;top: 0;bottom: 0;left: 50%;z-index: 0;}#sk-container-id-1 div.sk-serial {display: flex;flex-direction: column;align-items: center;background-color: white;padding-right: 0.2em;padding-left: 0.2em;position: relative;}#sk-container-id-1 div.sk-item {position: relative;z-index: 1;}#sk-container-id-1 div.sk-parallel {display: flex;align-items: stretch;justify-content: center;background-color: white;position: relative;}#sk-container-id-1 div.sk-item::before, #sk-container-id-1 div.sk-parallel-item::before {content: \"\";position: absolute;border-left: 1px solid gray;box-sizing: border-box;top: 0;bottom: 0;left: 50%;z-index: -1;}#sk-container-id-1 div.sk-parallel-item {display: flex;flex-direction: column;z-index: 1;position: relative;background-color: white;}#sk-container-id-1 div.sk-parallel-item:first-child::after {align-self: flex-end;width: 50%;}#sk-container-id-1 div.sk-parallel-item:last-child::after {align-self: flex-start;width: 50%;}#sk-container-id-1 div.sk-parallel-item:only-child::after {width: 0;}#sk-container-id-1 div.sk-dashed-wrapped {border: 1px dashed gray;margin: 0 0.4em 0.5em 0.4em;box-sizing: border-box;padding-bottom: 0.4em;background-color: white;}#sk-container-id-1 div.sk-label label {font-family: monospace;font-weight: bold;display: inline-block;line-height: 1.2em;}#sk-container-id-1 div.sk-label-container {text-align: center;}#sk-container-id-1 div.sk-container {/* jupyter's `normalize.less` sets `[hidden] { display: none; }` but bootstrap.min.css set `[hidden] { display: none !important; }` so we also need the `!important` here to be able to override the default hidden behavior on the sphinx rendered scikit-learn.org. See: https://github.com/scikit-learn/scikit-learn/issues/21755 */display: inline-block !important;position: relative;}#sk-container-id-1 div.sk-text-repr-fallback {display: none;}</style><div id=\"sk-container-id-1\" class=\"sk-top-container\"><div class=\"sk-text-repr-fallback\"><pre>Pipeline(steps=[(&#x27;scale&#x27;, None),\n",
       "                (&#x27;model&#x27;,\n",
       "                 LogisticRegression(l1_ratio=0.5, max_iter=5000,\n",
       "                                    penalty=&#x27;elasticnet&#x27;, solver=&#x27;saga&#x27;))])</pre><b>In a Jupyter environment, please rerun this cell to show the HTML representation or trust the notebook. <br />On GitHub, the HTML representation is unable to render, please try loading this page with nbviewer.org.</b></div><div class=\"sk-container\" hidden><div class=\"sk-item sk-dashed-wrapped\"><div class=\"sk-label-container\"><div class=\"sk-label sk-toggleable\"><input class=\"sk-toggleable__control sk-hidden--visually\" id=\"sk-estimator-id-1\" type=\"checkbox\" ><label for=\"sk-estimator-id-1\" class=\"sk-toggleable__label sk-toggleable__label-arrow\">Pipeline</label><div class=\"sk-toggleable__content\"><pre>Pipeline(steps=[(&#x27;scale&#x27;, None),\n",
       "                (&#x27;model&#x27;,\n",
       "                 LogisticRegression(l1_ratio=0.5, max_iter=5000,\n",
       "                                    penalty=&#x27;elasticnet&#x27;, solver=&#x27;saga&#x27;))])</pre></div></div></div><div class=\"sk-serial\"><div class=\"sk-item\"><div class=\"sk-estimator sk-toggleable\"><input class=\"sk-toggleable__control sk-hidden--visually\" id=\"sk-estimator-id-2\" type=\"checkbox\" ><label for=\"sk-estimator-id-2\" class=\"sk-toggleable__label sk-toggleable__label-arrow\">None</label><div class=\"sk-toggleable__content\"><pre>None</pre></div></div></div><div class=\"sk-item\"><div class=\"sk-estimator sk-toggleable\"><input class=\"sk-toggleable__control sk-hidden--visually\" id=\"sk-estimator-id-3\" type=\"checkbox\" ><label for=\"sk-estimator-id-3\" class=\"sk-toggleable__label sk-toggleable__label-arrow\">LogisticRegression</label><div class=\"sk-toggleable__content\"><pre>LogisticRegression(l1_ratio=0.5, max_iter=5000, penalty=&#x27;elasticnet&#x27;,\n",
       "                   solver=&#x27;saga&#x27;)</pre></div></div></div></div></div></div></div>"
      ],
      "text/plain": [
       "Pipeline(steps=[('scale', None),\n",
       "                ('model',\n",
       "                 LogisticRegression(l1_ratio=0.5, max_iter=5000,\n",
       "                                    penalty='elasticnet', solver='saga'))])"
      ]
     },
     "execution_count": 43,
     "metadata": {},
     "output_type": "execute_result"
    }
   ],
   "source": [
    "model.fit(X_train, y_train.values.ravel())"
   ]
  },
  {
   "cell_type": "code",
   "execution_count": 44,
   "id": "af59f8c0",
   "metadata": {
    "execution": {
     "iopub.execute_input": "2025-07-30T21:43:41.921574Z",
     "iopub.status.busy": "2025-07-30T21:43:41.920715Z",
     "iopub.status.idle": "2025-07-30T21:43:41.926444Z",
     "shell.execute_reply": "2025-07-30T21:43:41.925371Z"
    },
    "papermill": {
     "duration": 0.03172,
     "end_time": "2025-07-30T21:43:41.928015",
     "exception": false,
     "start_time": "2025-07-30T21:43:41.896295",
     "status": "completed"
    },
    "tags": []
   },
   "outputs": [],
   "source": [
    "from fairness_multiverse.universe import predict_w_threshold"
   ]
  },
  {
   "cell_type": "code",
   "execution_count": 45,
   "id": "a7cf2e16",
   "metadata": {
    "execution": {
     "iopub.execute_input": "2025-07-30T21:43:41.978248Z",
     "iopub.status.busy": "2025-07-30T21:43:41.977582Z",
     "iopub.status.idle": "2025-07-30T21:43:42.079852Z",
     "shell.execute_reply": "2025-07-30T21:43:42.078886Z"
    },
    "papermill": {
     "duration": 0.128902,
     "end_time": "2025-07-30T21:43:42.081609",
     "exception": false,
     "start_time": "2025-07-30T21:43:41.952707",
     "status": "completed"
    },
    "tags": []
   },
   "outputs": [
    {
     "data": {
      "text/plain": [
       "0.8645858878608851"
      ]
     },
     "execution_count": 45,
     "metadata": {},
     "output_type": "execute_result"
    }
   ],
   "source": [
    "probs_test = model.predict_proba(X_test)\n",
    "\n",
    "'''\n",
    "Below code returns a boolean array (or binary 0/1 array depending on how it’s used) where each element \n",
    "is True if the probability of class 1 is greater than or equal to the threshold, and False otherwise.\n",
    "'''\n",
    "y_pred_default = predict_w_threshold(probs_test, 0.5)\n",
    "\n",
    "from sklearn.metrics import accuracy_score\n",
    "\n",
    "# Naive prediction\n",
    "accuracy_score(y_true = y_true, y_pred = y_pred_default)"
   ]
  },
  {
   "cell_type": "code",
   "execution_count": 46,
   "id": "081964c3",
   "metadata": {
    "execution": {
     "iopub.execute_input": "2025-07-30T21:43:42.203621Z",
     "iopub.status.busy": "2025-07-30T21:43:42.202910Z",
     "iopub.status.idle": "2025-07-30T21:43:42.290590Z",
     "shell.execute_reply": "2025-07-30T21:43:42.289678Z"
    },
    "papermill": {
     "duration": 0.1876,
     "end_time": "2025-07-30T21:43:42.293288",
     "exception": false,
     "start_time": "2025-07-30T21:43:42.105688",
     "status": "completed"
    },
    "tags": []
   },
   "outputs": [
    {
     "data": {
      "text/plain": [
       "array([0, 0, 0, ..., 0, 0, 0])"
      ]
     },
     "execution_count": 46,
     "metadata": {},
     "output_type": "execute_result"
    }
   ],
   "source": [
    "model.predict(X_test)"
   ]
  },
  {
   "cell_type": "markdown",
   "id": "56c9705b",
   "metadata": {
    "papermill": {
     "duration": 0.013343,
     "end_time": "2025-07-30T21:43:42.329075",
     "exception": false,
     "start_time": "2025-07-30T21:43:42.315732",
     "status": "completed"
    },
    "tags": []
   },
   "source": [
    "# Conformal Prediction"
   ]
  },
  {
   "cell_type": "code",
   "execution_count": 47,
   "id": "160ec6ff",
   "metadata": {
    "execution": {
     "iopub.execute_input": "2025-07-30T21:43:42.356132Z",
     "iopub.status.busy": "2025-07-30T21:43:42.355697Z",
     "iopub.status.idle": "2025-07-30T21:43:42.361800Z",
     "shell.execute_reply": "2025-07-30T21:43:42.360153Z"
    },
    "papermill": {
     "duration": 0.021714,
     "end_time": "2025-07-30T21:43:42.363459",
     "exception": false,
     "start_time": "2025-07-30T21:43:42.341745",
     "status": "completed"
    },
    "tags": []
   },
   "outputs": [],
   "source": [
    "# Miscoverage level for conformal prediction (10% allowed error rate => 90% target coverage)\n",
    "alpha = 0.1"
   ]
  },
  {
   "cell_type": "code",
   "execution_count": 48,
   "id": "eadf4555-3dd3-440e-8e35-f82a4ad9f855",
   "metadata": {
    "execution": {
     "iopub.execute_input": "2025-07-30T21:43:42.394591Z",
     "iopub.status.busy": "2025-07-30T21:43:42.394246Z",
     "iopub.status.idle": "2025-07-30T21:43:42.473959Z",
     "shell.execute_reply": "2025-07-30T21:43:42.472989Z"
    },
    "papermill": {
     "duration": 0.095997,
     "end_time": "2025-07-30T21:43:42.475439",
     "exception": false,
     "start_time": "2025-07-30T21:43:42.379442",
     "status": "completed"
    },
    "tags": []
   },
   "outputs": [],
   "source": [
    "probs_calib = model.predict_proba(X_calib)"
   ]
  },
  {
   "cell_type": "code",
   "execution_count": 49,
   "id": "2ed93547-6d5d-4983-9b36-1ecb300da49a",
   "metadata": {
    "execution": {
     "iopub.execute_input": "2025-07-30T21:43:42.513960Z",
     "iopub.status.busy": "2025-07-30T21:43:42.513509Z",
     "iopub.status.idle": "2025-07-30T21:43:42.519213Z",
     "shell.execute_reply": "2025-07-30T21:43:42.517816Z"
    },
    "papermill": {
     "duration": 0.021614,
     "end_time": "2025-07-30T21:43:42.520876",
     "exception": false,
     "start_time": "2025-07-30T21:43:42.499262",
     "status": "completed"
    },
    "tags": []
   },
   "outputs": [],
   "source": [
    "y_calib = y_calib.values.ravel().astype(int)"
   ]
  },
  {
   "cell_type": "code",
   "execution_count": 50,
   "id": "65d1320d-f588-4b38-9072-62af1ae97f7d",
   "metadata": {
    "execution": {
     "iopub.execute_input": "2025-07-30T21:43:42.549183Z",
     "iopub.status.busy": "2025-07-30T21:43:42.548892Z",
     "iopub.status.idle": "2025-07-30T21:43:42.555481Z",
     "shell.execute_reply": "2025-07-30T21:43:42.554486Z"
    },
    "papermill": {
     "duration": 0.022049,
     "end_time": "2025-07-30T21:43:42.557458",
     "exception": false,
     "start_time": "2025-07-30T21:43:42.535409",
     "status": "completed"
    },
    "tags": []
   },
   "outputs": [],
   "source": [
    "from fairness_multiverse.conformal import compute_nc_scores\n",
    "\n",
    "# Compute nonconformity scores on calibration set (1 - probability of true class)\n",
    "nc_scores = compute_nc_scores(probs_calib, y_calib)"
   ]
  },
  {
   "cell_type": "code",
   "execution_count": 51,
   "id": "df3b8ca3-53b7-43d5-9667-7c85da7aeda2",
   "metadata": {
    "execution": {
     "iopub.execute_input": "2025-07-30T21:43:42.628442Z",
     "iopub.status.busy": "2025-07-30T21:43:42.627591Z",
     "iopub.status.idle": "2025-07-30T21:43:42.635294Z",
     "shell.execute_reply": "2025-07-30T21:43:42.634060Z"
    },
    "papermill": {
     "duration": 0.045461,
     "end_time": "2025-07-30T21:43:42.637323",
     "exception": false,
     "start_time": "2025-07-30T21:43:42.591862",
     "status": "completed"
    },
    "tags": []
   },
   "outputs": [],
   "source": [
    "from fairness_multiverse.conformal import find_threshold\n",
    "\n",
    "# Find conformal threshold q_hat for the given alpha (split conformal method)\n",
    "q_hat = find_threshold(nc_scores, alpha)"
   ]
  },
  {
   "cell_type": "code",
   "execution_count": 52,
   "id": "4d29e6c1-0ef6-4aa4-b8fe-4fe79b0d033a",
   "metadata": {
    "execution": {
     "iopub.execute_input": "2025-07-30T21:43:42.707630Z",
     "iopub.status.busy": "2025-07-30T21:43:42.706940Z",
     "iopub.status.idle": "2025-07-30T21:43:42.714679Z",
     "shell.execute_reply": "2025-07-30T21:43:42.713435Z"
    },
    "papermill": {
     "duration": 0.045607,
     "end_time": "2025-07-30T21:43:42.716819",
     "exception": false,
     "start_time": "2025-07-30T21:43:42.671212",
     "status": "completed"
    },
    "tags": []
   },
   "outputs": [
    {
     "data": {
      "text/plain": [
       "0.6837443082682325"
      ]
     },
     "execution_count": 52,
     "metadata": {},
     "output_type": "execute_result"
    }
   ],
   "source": [
    "q_hat"
   ]
  },
  {
   "cell_type": "code",
   "execution_count": 53,
   "id": "92460794-cdac-4be2-ba28-f28c0515a6fb",
   "metadata": {
    "execution": {
     "iopub.execute_input": "2025-07-30T21:43:42.769306Z",
     "iopub.status.busy": "2025-07-30T21:43:42.768897Z",
     "iopub.status.idle": "2025-07-30T21:43:43.555797Z",
     "shell.execute_reply": "2025-07-30T21:43:43.554557Z"
    },
    "papermill": {
     "duration": 0.809816,
     "end_time": "2025-07-30T21:43:43.558081",
     "exception": false,
     "start_time": "2025-07-30T21:43:42.748265",
     "status": "completed"
    },
    "tags": []
   },
   "outputs": [],
   "source": [
    "from fairness_multiverse.conformal import predict_conformal_sets\n",
    "\n",
    "# Generate prediction sets for each test example\n",
    "pred_sets = predict_conformal_sets(model, X_test, q_hat)"
   ]
  },
  {
   "cell_type": "code",
   "execution_count": 54,
   "id": "d90c9a65-e6db-4f5d-80cd-e68fb7e46829",
   "metadata": {
    "execution": {
     "iopub.execute_input": "2025-07-30T21:43:43.617156Z",
     "iopub.status.busy": "2025-07-30T21:43:43.616338Z",
     "iopub.status.idle": "2025-07-30T21:43:43.622751Z",
     "shell.execute_reply": "2025-07-30T21:43:43.621665Z"
    },
    "papermill": {
     "duration": 0.03662,
     "end_time": "2025-07-30T21:43:43.624812",
     "exception": false,
     "start_time": "2025-07-30T21:43:43.588192",
     "status": "completed"
    },
    "tags": []
   },
   "outputs": [],
   "source": [
    "y_true = y_true.squeeze()"
   ]
  },
  {
   "cell_type": "code",
   "execution_count": 55,
   "id": "3a58a54a-1e68-46b9-927a-df01f18aebc8",
   "metadata": {
    "execution": {
     "iopub.execute_input": "2025-07-30T21:43:43.679192Z",
     "iopub.status.busy": "2025-07-30T21:43:43.678185Z",
     "iopub.status.idle": "2025-07-30T21:43:44.747089Z",
     "shell.execute_reply": "2025-07-30T21:43:44.746181Z"
    },
    "papermill": {
     "duration": 1.098651,
     "end_time": "2025-07-30T21:43:44.749100",
     "exception": false,
     "start_time": "2025-07-30T21:43:43.650449",
     "status": "completed"
    },
    "tags": []
   },
   "outputs": [],
   "source": [
    "from fairness_multiverse.conformal import evaluate_sets\n",
    "\n",
    "# Evaluate coverage and average set size on test data\n",
    "metrics = evaluate_sets(pred_sets, y_true)"
   ]
  },
  {
   "cell_type": "markdown",
   "id": "2b569c12-9aaa-4c88-98c9-bbcd0cf3ebb8",
   "metadata": {
    "papermill": {
     "duration": 0.026869,
     "end_time": "2025-07-30T21:43:44.804535",
     "exception": false,
     "start_time": "2025-07-30T21:43:44.777666",
     "status": "completed"
    },
    "tags": []
   },
   "source": [
    "# CP Metrics"
   ]
  },
  {
   "cell_type": "code",
   "execution_count": 56,
   "id": "5ce0a5cb-201f-45a0-ade5-94c7f0bd6095",
   "metadata": {
    "execution": {
     "iopub.execute_input": "2025-07-30T21:43:44.857439Z",
     "iopub.status.busy": "2025-07-30T21:43:44.856867Z",
     "iopub.status.idle": "2025-07-30T21:43:44.865124Z",
     "shell.execute_reply": "2025-07-30T21:43:44.863898Z"
    },
    "papermill": {
     "duration": 0.037136,
     "end_time": "2025-07-30T21:43:44.867061",
     "exception": false,
     "start_time": "2025-07-30T21:43:44.829925",
     "status": "completed"
    },
    "tags": []
   },
   "outputs": [
    {
     "data": {
      "text/plain": [
       "{'coverage': 0.9127967896555568, 'avg_size': 1.2651432393267195}"
      ]
     },
     "execution_count": 56,
     "metadata": {},
     "output_type": "execute_result"
    }
   ],
   "source": [
    "metrics"
   ]
  },
  {
   "cell_type": "code",
   "execution_count": 57,
   "id": "9b9a838d-31c9-430b-ae14-12baee460d17",
   "metadata": {
    "execution": {
     "iopub.execute_input": "2025-07-30T21:43:44.922056Z",
     "iopub.status.busy": "2025-07-30T21:43:44.921096Z",
     "iopub.status.idle": "2025-07-30T21:43:44.928715Z",
     "shell.execute_reply": "2025-07-30T21:43:44.927498Z"
    },
    "papermill": {
     "duration": 0.037364,
     "end_time": "2025-07-30T21:43:44.930541",
     "exception": false,
     "start_time": "2025-07-30T21:43:44.893177",
     "status": "completed"
    },
    "tags": []
   },
   "outputs": [],
   "source": [
    "example_universe = universe.copy()\n",
    "universe_training_year = example_universe.get(\"training_year\")\n",
    "universe_training_size = example_universe.get(\"training_size\")\n",
    "universe_scale = example_universe.get(\"scale\")\n",
    "universe_model = example_universe.get(\"model\")\n",
    "universe_exclude_features = example_universe.get(\"exclude_features\")\n",
    "universe_exclude_subgroups = example_universe.get(\"exclude_subgroups\")"
   ]
  },
  {
   "cell_type": "code",
   "execution_count": 58,
   "id": "f4b6a8ac-9dc0-4245-8a91-5b3b5999c4f9",
   "metadata": {
    "execution": {
     "iopub.execute_input": "2025-07-30T21:43:44.985156Z",
     "iopub.status.busy": "2025-07-30T21:43:44.984644Z",
     "iopub.status.idle": "2025-07-30T21:43:44.992269Z",
     "shell.execute_reply": "2025-07-30T21:43:44.991290Z"
    },
    "papermill": {
     "duration": 0.036502,
     "end_time": "2025-07-30T21:43:44.994035",
     "exception": false,
     "start_time": "2025-07-30T21:43:44.957533",
     "status": "completed"
    },
    "tags": []
   },
   "outputs": [],
   "source": [
    "cp_metrics_dict = {\n",
    "    \"universe_id\": [universe_id],\n",
    "    \"universe_training_year\": [universe_training_year],\n",
    "    \"universe_training_size\": [universe_training_size],\n",
    "    \"universe_scale\": [universe_scale],\n",
    "    \"universe_model\": [universe_model],\n",
    "    \"universe_exclude_features\": [universe_exclude_features],\n",
    "    \"universe_exclude_subgroups\": [universe_exclude_subgroups],\n",
    "    \"q_hat\": [q_hat],\n",
    "    \"coverage\": [metrics[\"coverage\"]],\n",
    "    \"avg_size\": [metrics[\"avg_size\"]],\n",
    "}"
   ]
  },
  {
   "cell_type": "code",
   "execution_count": 59,
   "id": "908acbb1-0371-4915-85ca-3fa520d2efe2",
   "metadata": {
    "execution": {
     "iopub.execute_input": "2025-07-30T21:43:45.050420Z",
     "iopub.status.busy": "2025-07-30T21:43:45.049339Z",
     "iopub.status.idle": "2025-07-30T21:43:45.058345Z",
     "shell.execute_reply": "2025-07-30T21:43:45.057090Z"
    },
    "papermill": {
     "duration": 0.038906,
     "end_time": "2025-07-30T21:43:45.060532",
     "exception": false,
     "start_time": "2025-07-30T21:43:45.021626",
     "status": "completed"
    },
    "tags": []
   },
   "outputs": [
    {
     "data": {
      "text/plain": [
       "{'universe_id': ['562d6345d16b8ee6cb17b6fbbc5df911'],\n",
       " 'universe_training_year': ['2012_14'],\n",
       " 'universe_training_size': ['1k'],\n",
       " 'universe_scale': ['do-not-scale'],\n",
       " 'universe_model': ['elasticnet'],\n",
       " 'universe_exclude_features': ['age'],\n",
       " 'universe_exclude_subgroups': ['keep-all'],\n",
       " 'q_hat': [0.6837443082682325],\n",
       " 'coverage': [0.9127967896555568],\n",
       " 'avg_size': [1.2651432393267195]}"
      ]
     },
     "execution_count": 59,
     "metadata": {},
     "output_type": "execute_result"
    }
   ],
   "source": [
    "cp_metrics_dict"
   ]
  },
  {
   "cell_type": "code",
   "execution_count": 60,
   "id": "33007efc-14e9-4ec6-97ac-56a455c82265",
   "metadata": {
    "execution": {
     "iopub.execute_input": "2025-07-30T21:43:45.117028Z",
     "iopub.status.busy": "2025-07-30T21:43:45.116515Z",
     "iopub.status.idle": "2025-07-30T21:43:45.123664Z",
     "shell.execute_reply": "2025-07-30T21:43:45.122472Z"
    },
    "papermill": {
     "duration": 0.036143,
     "end_time": "2025-07-30T21:43:45.125444",
     "exception": false,
     "start_time": "2025-07-30T21:43:45.089301",
     "status": "completed"
    },
    "tags": []
   },
   "outputs": [],
   "source": [
    "cp_metrics_df = pd.DataFrame(cp_metrics_dict)"
   ]
  },
  {
   "cell_type": "code",
   "execution_count": 61,
   "id": "db12611b-57b2-4910-b9d0-355adfd6e7bf",
   "metadata": {
    "execution": {
     "iopub.execute_input": "2025-07-30T21:43:45.181529Z",
     "iopub.status.busy": "2025-07-30T21:43:45.180998Z",
     "iopub.status.idle": "2025-07-30T21:43:45.199126Z",
     "shell.execute_reply": "2025-07-30T21:43:45.198289Z"
    },
    "papermill": {
     "duration": 0.047447,
     "end_time": "2025-07-30T21:43:45.200868",
     "exception": false,
     "start_time": "2025-07-30T21:43:45.153421",
     "status": "completed"
    },
    "tags": []
   },
   "outputs": [
    {
     "data": {
      "text/html": [
       "<div>\n",
       "<style scoped>\n",
       "    .dataframe tbody tr th:only-of-type {\n",
       "        vertical-align: middle;\n",
       "    }\n",
       "\n",
       "    .dataframe tbody tr th {\n",
       "        vertical-align: top;\n",
       "    }\n",
       "\n",
       "    .dataframe thead th {\n",
       "        text-align: right;\n",
       "    }\n",
       "</style>\n",
       "<table border=\"1\" class=\"dataframe\">\n",
       "  <thead>\n",
       "    <tr style=\"text-align: right;\">\n",
       "      <th></th>\n",
       "      <th>universe_id</th>\n",
       "      <th>universe_training_year</th>\n",
       "      <th>universe_training_size</th>\n",
       "      <th>universe_scale</th>\n",
       "      <th>universe_model</th>\n",
       "      <th>universe_exclude_features</th>\n",
       "      <th>universe_exclude_subgroups</th>\n",
       "      <th>q_hat</th>\n",
       "      <th>coverage</th>\n",
       "      <th>avg_size</th>\n",
       "    </tr>\n",
       "  </thead>\n",
       "  <tbody>\n",
       "    <tr>\n",
       "      <th>0</th>\n",
       "      <td>562d6345d16b8ee6cb17b6fbbc5df911</td>\n",
       "      <td>2012_14</td>\n",
       "      <td>1k</td>\n",
       "      <td>do-not-scale</td>\n",
       "      <td>elasticnet</td>\n",
       "      <td>age</td>\n",
       "      <td>keep-all</td>\n",
       "      <td>0.683744</td>\n",
       "      <td>0.912797</td>\n",
       "      <td>1.265143</td>\n",
       "    </tr>\n",
       "  </tbody>\n",
       "</table>\n",
       "</div>"
      ],
      "text/plain": [
       "                        universe_id universe_training_year  \\\n",
       "0  562d6345d16b8ee6cb17b6fbbc5df911                2012_14   \n",
       "\n",
       "  universe_training_size universe_scale universe_model  \\\n",
       "0                     1k   do-not-scale     elasticnet   \n",
       "\n",
       "  universe_exclude_features universe_exclude_subgroups     q_hat  coverage  \\\n",
       "0                       age                   keep-all  0.683744  0.912797   \n",
       "\n",
       "   avg_size  \n",
       "0  1.265143  "
      ]
     },
     "execution_count": 61,
     "metadata": {},
     "output_type": "execute_result"
    }
   ],
   "source": [
    "cp_metrics_df"
   ]
  },
  {
   "cell_type": "code",
   "execution_count": 62,
   "id": "b7fbde55-a0a1-47e4-9af6-fe4a17fa8c61",
   "metadata": {
    "execution": {
     "iopub.execute_input": "2025-07-30T21:43:45.260900Z",
     "iopub.status.busy": "2025-07-30T21:43:45.260404Z",
     "iopub.status.idle": "2025-07-30T21:43:45.265650Z",
     "shell.execute_reply": "2025-07-30T21:43:45.264730Z"
    },
    "papermill": {
     "duration": 0.035673,
     "end_time": "2025-07-30T21:43:45.267311",
     "exception": false,
     "start_time": "2025-07-30T21:43:45.231638",
     "status": "completed"
    },
    "tags": []
   },
   "outputs": [],
   "source": [
    "# Conditional Coverage & looking at subgroups"
   ]
  },
  {
   "cell_type": "code",
   "execution_count": 63,
   "id": "027ae886-68dd-4141-96c7-805a5450e1ef",
   "metadata": {
    "execution": {
     "iopub.execute_input": "2025-07-30T21:43:45.322503Z",
     "iopub.status.busy": "2025-07-30T21:43:45.321716Z",
     "iopub.status.idle": "2025-07-30T21:43:45.609704Z",
     "shell.execute_reply": "2025-07-30T21:43:45.608666Z"
    },
    "papermill": {
     "duration": 0.318832,
     "end_time": "2025-07-30T21:43:45.611648",
     "exception": false,
     "start_time": "2025-07-30T21:43:45.292816",
     "status": "completed"
    },
    "tags": []
   },
   "outputs": [],
   "source": [
    "from fairness_multiverse.conformal import build_cp_groups\n",
    "\n",
    "cp_groups_df = build_cp_groups(pred_sets, y_true, X_test.index, org_test)\n",
    "#needs universe_id and setting"
   ]
  },
  {
   "cell_type": "code",
   "execution_count": 64,
   "id": "01d5802c-663a-4d1f-9d69-e036faaffbf7",
   "metadata": {
    "execution": {
     "iopub.execute_input": "2025-07-30T21:43:45.662698Z",
     "iopub.status.busy": "2025-07-30T21:43:45.662250Z",
     "iopub.status.idle": "2025-07-30T21:43:45.667202Z",
     "shell.execute_reply": "2025-07-30T21:43:45.666263Z"
    },
    "papermill": {
     "duration": 0.030359,
     "end_time": "2025-07-30T21:43:45.668547",
     "exception": false,
     "start_time": "2025-07-30T21:43:45.638188",
     "status": "completed"
    },
    "tags": []
   },
   "outputs": [],
   "source": [
    "#delete\n",
    "#cp_groups_df"
   ]
  },
  {
   "cell_type": "code",
   "execution_count": 65,
   "id": "fa424af1-d1eb-443d-b717-2d279ada8408",
   "metadata": {
    "execution": {
     "iopub.execute_input": "2025-07-30T21:43:45.704152Z",
     "iopub.status.busy": "2025-07-30T21:43:45.703524Z",
     "iopub.status.idle": "2025-07-30T21:43:45.708280Z",
     "shell.execute_reply": "2025-07-30T21:43:45.707477Z"
    },
    "papermill": {
     "duration": 0.021505,
     "end_time": "2025-07-30T21:43:45.709592",
     "exception": false,
     "start_time": "2025-07-30T21:43:45.688087",
     "status": "completed"
    },
    "tags": []
   },
   "outputs": [],
   "source": [
    "#delete\n",
    "#percentage = (cp_groups_df['nongerman_female'] == 1).mean() * 100\n",
    "#print(percentage)\n"
   ]
  },
  {
   "cell_type": "code",
   "execution_count": 66,
   "id": "6cbdab96-b2b2-45af-ad54-d0516db2e28d",
   "metadata": {
    "execution": {
     "iopub.execute_input": "2025-07-30T21:43:45.745336Z",
     "iopub.status.busy": "2025-07-30T21:43:45.744777Z",
     "iopub.status.idle": "2025-07-30T21:43:47.174391Z",
     "shell.execute_reply": "2025-07-30T21:43:47.173606Z"
    },
    "papermill": {
     "duration": 1.45122,
     "end_time": "2025-07-30T21:43:47.175818",
     "exception": false,
     "start_time": "2025-07-30T21:43:45.724598",
     "status": "completed"
    },
    "tags": []
   },
   "outputs": [],
   "source": [
    "# Define covered = 1 if true_label is in the predicted set\n",
    "cp_groups_df['covered'] = cp_groups_df.apply(\n",
    "    lambda r: int(r['true_label'] in r['pred_set']),\n",
    "    axis=1\n",
    ")"
   ]
  },
  {
   "cell_type": "code",
   "execution_count": 67,
   "id": "338ff529-1a6b-4b87-a931-8e4788d52aad",
   "metadata": {
    "execution": {
     "iopub.execute_input": "2025-07-30T21:43:47.207773Z",
     "iopub.status.busy": "2025-07-30T21:43:47.207266Z",
     "iopub.status.idle": "2025-07-30T21:43:47.211611Z",
     "shell.execute_reply": "2025-07-30T21:43:47.210693Z"
    },
    "papermill": {
     "duration": 0.020592,
     "end_time": "2025-07-30T21:43:47.213053",
     "exception": false,
     "start_time": "2025-07-30T21:43:47.192461",
     "status": "completed"
    },
    "tags": []
   },
   "outputs": [],
   "source": [
    "#cp_groups_df"
   ]
  },
  {
   "cell_type": "code",
   "execution_count": 68,
   "id": "90032e27-66df-4540-9169-4e89cfbaa758",
   "metadata": {
    "execution": {
     "iopub.execute_input": "2025-07-30T21:43:47.243541Z",
     "iopub.status.busy": "2025-07-30T21:43:47.243003Z",
     "iopub.status.idle": "2025-07-30T21:43:47.252315Z",
     "shell.execute_reply": "2025-07-30T21:43:47.251525Z"
    },
    "papermill": {
     "duration": 0.025395,
     "end_time": "2025-07-30T21:43:47.253780",
     "exception": false,
     "start_time": "2025-07-30T21:43:47.228385",
     "status": "completed"
    },
    "tags": []
   },
   "outputs": [],
   "source": [
    "subgroups = ['frau1','nongerman','nongerman_male','nongerman_female']\n",
    "\n",
    "# Conditional coverage for subgroup==1\n",
    "cond_coverage = {\n",
    "    g: cp_groups_df.loc[cp_groups_df[g]==1, 'covered'].mean()\n",
    "    for g in subgroups\n",
    "}"
   ]
  },
  {
   "cell_type": "code",
   "execution_count": 69,
   "id": "1e348fb1-b9c3-45bc-ba23-f016827a7e0d",
   "metadata": {
    "execution": {
     "iopub.execute_input": "2025-07-30T21:43:47.284197Z",
     "iopub.status.busy": "2025-07-30T21:43:47.283700Z",
     "iopub.status.idle": "2025-07-30T21:43:47.290284Z",
     "shell.execute_reply": "2025-07-30T21:43:47.289574Z"
    },
    "papermill": {
     "duration": 0.023567,
     "end_time": "2025-07-30T21:43:47.291766",
     "exception": false,
     "start_time": "2025-07-30T21:43:47.268199",
     "status": "completed"
    },
    "tags": []
   },
   "outputs": [
    {
     "data": {
      "text/plain": [
       "{'frau1': 0.9112279282922227,\n",
       " 'nongerman': 0.9622186043900522,\n",
       " 'nongerman_male': 0.9695577771773395,\n",
       " 'nongerman_female': 0.9500745156482862}"
      ]
     },
     "execution_count": 69,
     "metadata": {},
     "output_type": "execute_result"
    }
   ],
   "source": [
    "cond_coverage"
   ]
  },
  {
   "cell_type": "code",
   "execution_count": 70,
   "id": "f5093324-c3dd-4d63-bc4c-8d945e5c8bbb",
   "metadata": {
    "execution": {
     "iopub.execute_input": "2025-07-30T21:43:47.320229Z",
     "iopub.status.busy": "2025-07-30T21:43:47.319882Z",
     "iopub.status.idle": "2025-07-30T21:43:47.325877Z",
     "shell.execute_reply": "2025-07-30T21:43:47.325120Z"
    },
    "papermill": {
     "duration": 0.021385,
     "end_time": "2025-07-30T21:43:47.327230",
     "exception": false,
     "start_time": "2025-07-30T21:43:47.305845",
     "status": "completed"
    },
    "tags": []
   },
   "outputs": [],
   "source": [
    "for subgroup, cov in cond_coverage.items():\n",
    "    cp_metrics_df[f\"cov_{subgroup}\"] = cov"
   ]
  },
  {
   "cell_type": "code",
   "execution_count": 71,
   "id": "6e872e10-dbe5-49e8-b554-5030c98ff75d",
   "metadata": {
    "execution": {
     "iopub.execute_input": "2025-07-30T21:43:47.370719Z",
     "iopub.status.busy": "2025-07-30T21:43:47.370379Z",
     "iopub.status.idle": "2025-07-30T21:43:47.384746Z",
     "shell.execute_reply": "2025-07-30T21:43:47.383920Z"
    },
    "papermill": {
     "duration": 0.043236,
     "end_time": "2025-07-30T21:43:47.386147",
     "exception": false,
     "start_time": "2025-07-30T21:43:47.342911",
     "status": "completed"
    },
    "tags": []
   },
   "outputs": [
    {
     "data": {
      "text/html": [
       "<div>\n",
       "<style scoped>\n",
       "    .dataframe tbody tr th:only-of-type {\n",
       "        vertical-align: middle;\n",
       "    }\n",
       "\n",
       "    .dataframe tbody tr th {\n",
       "        vertical-align: top;\n",
       "    }\n",
       "\n",
       "    .dataframe thead th {\n",
       "        text-align: right;\n",
       "    }\n",
       "</style>\n",
       "<table border=\"1\" class=\"dataframe\">\n",
       "  <thead>\n",
       "    <tr style=\"text-align: right;\">\n",
       "      <th></th>\n",
       "      <th>universe_id</th>\n",
       "      <th>universe_training_year</th>\n",
       "      <th>universe_training_size</th>\n",
       "      <th>universe_scale</th>\n",
       "      <th>universe_model</th>\n",
       "      <th>universe_exclude_features</th>\n",
       "      <th>universe_exclude_subgroups</th>\n",
       "      <th>q_hat</th>\n",
       "      <th>coverage</th>\n",
       "      <th>avg_size</th>\n",
       "      <th>cov_frau1</th>\n",
       "      <th>cov_nongerman</th>\n",
       "      <th>cov_nongerman_male</th>\n",
       "      <th>cov_nongerman_female</th>\n",
       "    </tr>\n",
       "  </thead>\n",
       "  <tbody>\n",
       "    <tr>\n",
       "      <th>0</th>\n",
       "      <td>562d6345d16b8ee6cb17b6fbbc5df911</td>\n",
       "      <td>2012_14</td>\n",
       "      <td>1k</td>\n",
       "      <td>do-not-scale</td>\n",
       "      <td>elasticnet</td>\n",
       "      <td>age</td>\n",
       "      <td>keep-all</td>\n",
       "      <td>0.683744</td>\n",
       "      <td>0.912797</td>\n",
       "      <td>1.265143</td>\n",
       "      <td>0.911228</td>\n",
       "      <td>0.962219</td>\n",
       "      <td>0.969558</td>\n",
       "      <td>0.950075</td>\n",
       "    </tr>\n",
       "  </tbody>\n",
       "</table>\n",
       "</div>"
      ],
      "text/plain": [
       "                        universe_id universe_training_year  \\\n",
       "0  562d6345d16b8ee6cb17b6fbbc5df911                2012_14   \n",
       "\n",
       "  universe_training_size universe_scale universe_model  \\\n",
       "0                     1k   do-not-scale     elasticnet   \n",
       "\n",
       "  universe_exclude_features universe_exclude_subgroups     q_hat  coverage  \\\n",
       "0                       age                   keep-all  0.683744  0.912797   \n",
       "\n",
       "   avg_size  cov_frau1  cov_nongerman  cov_nongerman_male  \\\n",
       "0  1.265143   0.911228       0.962219            0.969558   \n",
       "\n",
       "   cov_nongerman_female  \n",
       "0              0.950075  "
      ]
     },
     "execution_count": 71,
     "metadata": {},
     "output_type": "execute_result"
    }
   ],
   "source": [
    "cp_metrics_df"
   ]
  },
  {
   "cell_type": "markdown",
   "id": "33774451",
   "metadata": {
    "papermill": {
     "duration": 0.017114,
     "end_time": "2025-07-30T21:43:47.418408",
     "exception": false,
     "start_time": "2025-07-30T21:43:47.401294",
     "status": "completed"
    },
    "tags": []
   },
   "source": [
    "# (Fairness) Metrics"
   ]
  },
  {
   "cell_type": "code",
   "execution_count": 72,
   "id": "debc5d62",
   "metadata": {
    "execution": {
     "iopub.execute_input": "2025-07-30T21:43:47.446823Z",
     "iopub.status.busy": "2025-07-30T21:43:47.446326Z",
     "iopub.status.idle": "2025-07-30T21:43:47.461322Z",
     "shell.execute_reply": "2025-07-30T21:43:47.460624Z"
    },
    "papermill": {
     "duration": 0.030947,
     "end_time": "2025-07-30T21:43:47.462664",
     "exception": false,
     "start_time": "2025-07-30T21:43:47.431717",
     "status": "completed"
    },
    "tags": []
   },
   "outputs": [],
   "source": [
    "# do I need to include maxdeutsch1.missing?\n",
    "\n",
    "import numpy as np\n",
    "\n",
    "colname_to_bin = \"maxdeutsch1\"\n",
    "majority_value = org_train[colname_to_bin].mode()[0]\n",
    "\n",
    "org_test[\"majmin\"] = np.where(org_test[colname_to_bin] == majority_value, \"majority\", \"minority\")"
   ]
  },
  {
   "cell_type": "code",
   "execution_count": 73,
   "id": "06a50de5",
   "metadata": {
    "execution": {
     "iopub.execute_input": "2025-07-30T21:43:47.496781Z",
     "iopub.status.busy": "2025-07-30T21:43:47.496493Z",
     "iopub.status.idle": "2025-07-30T21:43:49.934136Z",
     "shell.execute_reply": "2025-07-30T21:43:49.932832Z"
    },
    "papermill": {
     "duration": 2.456719,
     "end_time": "2025-07-30T21:43:49.936196",
     "exception": false,
     "start_time": "2025-07-30T21:43:47.479477",
     "status": "completed"
    },
    "tags": []
   },
   "outputs": [],
   "source": [
    "example_universe = universe.copy()\n",
    "example_universe[\"cutoff\"] = example_universe[\"cutoff\"][0]\n",
    "example_universe[\"eval_fairness_grouping\"] = example_universe[\"eval_fairness_grouping\"][0]\n",
    "fairness_dict, metric_frame = universe_analysis.compute_metrics(\n",
    "    example_universe,\n",
    "    y_pred_prob=probs_test,\n",
    "    y_test=y_true,\n",
    "    org_test=org_test,\n",
    ")"
   ]
  },
  {
   "cell_type": "markdown",
   "id": "f95d4e02",
   "metadata": {
    "papermill": {
     "duration": 0.026162,
     "end_time": "2025-07-30T21:43:49.989294",
     "exception": false,
     "start_time": "2025-07-30T21:43:49.963132",
     "status": "completed"
    },
    "tags": []
   },
   "source": [
    "# Overall"
   ]
  },
  {
   "cell_type": "markdown",
   "id": "bdee4871",
   "metadata": {
    "papermill": {
     "duration": 0.02675,
     "end_time": "2025-07-30T21:43:50.042223",
     "exception": false,
     "start_time": "2025-07-30T21:43:50.015473",
     "status": "completed"
    },
    "tags": []
   },
   "source": [
    "Fairness\n",
    "Main fairness target: Equalized Odds. Seems to be a better fit than equal opportunity, since we're not only interested in Y = 1. Seems to be a better fit than demographic parity, since we also care about accuracy, not just equal distribution of preds.\n",
    "\n",
    "Pick column for computation of fairness metrics\n",
    "\n",
    "Performance\n",
    "Overall performance measures, most interesting in relation to the measures split by group below"
   ]
  },
  {
   "cell_type": "code",
   "execution_count": 74,
   "id": "c4e067c6",
   "metadata": {
    "execution": {
     "iopub.execute_input": "2025-07-30T21:43:50.101959Z",
     "iopub.status.busy": "2025-07-30T21:43:50.101377Z",
     "iopub.status.idle": "2025-07-30T21:43:50.111589Z",
     "shell.execute_reply": "2025-07-30T21:43:50.110538Z"
    },
    "papermill": {
     "duration": 0.042774,
     "end_time": "2025-07-30T21:43:50.113335",
     "exception": false,
     "start_time": "2025-07-30T21:43:50.070561",
     "status": "completed"
    },
    "tags": []
   },
   "outputs": [
    {
     "data": {
      "text/plain": [
       "accuracy                   0.213321\n",
       "balanced accuracy          0.523914\n",
       "f1                         0.234956\n",
       "precision                  0.134223\n",
       "false positive rate        0.893865\n",
       "false negative rate        0.058307\n",
       "selection rate             0.900000\n",
       "count                  89710.000000\n",
       "dtype: float64"
      ]
     },
     "execution_count": 74,
     "metadata": {},
     "output_type": "execute_result"
    }
   ],
   "source": [
    "metric_frame.overall"
   ]
  },
  {
   "cell_type": "markdown",
   "id": "e968fe9d",
   "metadata": {
    "papermill": {
     "duration": 0.028664,
     "end_time": "2025-07-30T21:43:50.169332",
     "exception": false,
     "start_time": "2025-07-30T21:43:50.140668",
     "status": "completed"
    },
    "tags": []
   },
   "source": [
    "By Group"
   ]
  },
  {
   "cell_type": "code",
   "execution_count": 75,
   "id": "ec325bce",
   "metadata": {
    "execution": {
     "iopub.execute_input": "2025-07-30T21:43:50.228413Z",
     "iopub.status.busy": "2025-07-30T21:43:50.227832Z",
     "iopub.status.idle": "2025-07-30T21:43:50.245282Z",
     "shell.execute_reply": "2025-07-30T21:43:50.244180Z"
    },
    "papermill": {
     "duration": 0.060159,
     "end_time": "2025-07-30T21:43:50.259671",
     "exception": false,
     "start_time": "2025-07-30T21:43:50.199512",
     "status": "completed"
    },
    "tags": []
   },
   "outputs": [
    {
     "data": {
      "text/html": [
       "<div>\n",
       "<style scoped>\n",
       "    .dataframe tbody tr th:only-of-type {\n",
       "        vertical-align: middle;\n",
       "    }\n",
       "\n",
       "    .dataframe tbody tr th {\n",
       "        vertical-align: top;\n",
       "    }\n",
       "\n",
       "    .dataframe thead th {\n",
       "        text-align: right;\n",
       "    }\n",
       "</style>\n",
       "<table border=\"1\" class=\"dataframe\">\n",
       "  <thead>\n",
       "    <tr style=\"text-align: right;\">\n",
       "      <th></th>\n",
       "      <th>accuracy</th>\n",
       "      <th>balanced accuracy</th>\n",
       "      <th>f1</th>\n",
       "      <th>precision</th>\n",
       "      <th>false positive rate</th>\n",
       "      <th>false negative rate</th>\n",
       "      <th>selection rate</th>\n",
       "      <th>count</th>\n",
       "    </tr>\n",
       "    <tr>\n",
       "      <th>majmin</th>\n",
       "      <th></th>\n",
       "      <th></th>\n",
       "      <th></th>\n",
       "      <th></th>\n",
       "      <th></th>\n",
       "      <th></th>\n",
       "      <th></th>\n",
       "      <th></th>\n",
       "    </tr>\n",
       "  </thead>\n",
       "  <tbody>\n",
       "    <tr>\n",
       "      <th>majority</th>\n",
       "      <td>0.234394</td>\n",
       "      <td>0.529696</td>\n",
       "      <td>0.243223</td>\n",
       "      <td>0.139882</td>\n",
       "      <td>0.871681</td>\n",
       "      <td>0.068928</td>\n",
       "      <td>0.879529</td>\n",
       "      <td>69170.0</td>\n",
       "    </tr>\n",
       "    <tr>\n",
       "      <th>minority</th>\n",
       "      <td>0.142356</td>\n",
       "      <td>0.507769</td>\n",
       "      <td>0.208981</td>\n",
       "      <td>0.116923</td>\n",
       "      <td>0.967147</td>\n",
       "      <td>0.017314</td>\n",
       "      <td>0.968939</td>\n",
       "      <td>20540.0</td>\n",
       "    </tr>\n",
       "  </tbody>\n",
       "</table>\n",
       "</div>"
      ],
      "text/plain": [
       "          accuracy  balanced accuracy        f1  precision  \\\n",
       "majmin                                                       \n",
       "majority  0.234394           0.529696  0.243223   0.139882   \n",
       "minority  0.142356           0.507769  0.208981   0.116923   \n",
       "\n",
       "          false positive rate  false negative rate  selection rate    count  \n",
       "majmin                                                                       \n",
       "majority             0.871681             0.068928        0.879529  69170.0  \n",
       "minority             0.967147             0.017314        0.968939  20540.0  "
      ]
     },
     "execution_count": 75,
     "metadata": {},
     "output_type": "execute_result"
    }
   ],
   "source": [
    "metric_frame.by_group"
   ]
  },
  {
   "cell_type": "code",
   "execution_count": 76,
   "id": "a9ddbe63",
   "metadata": {
    "execution": {
     "iopub.execute_input": "2025-07-30T21:43:50.332227Z",
     "iopub.status.busy": "2025-07-30T21:43:50.331757Z",
     "iopub.status.idle": "2025-07-30T21:43:52.741910Z",
     "shell.execute_reply": "2025-07-30T21:43:52.740844Z"
    },
    "papermill": {
     "duration": 2.441439,
     "end_time": "2025-07-30T21:43:52.743415",
     "exception": false,
     "start_time": "2025-07-30T21:43:50.301976",
     "status": "completed"
    },
    "tags": []
   },
   "outputs": [
    {
     "data": {
      "text/plain": [
       "array([[<Axes: title={'center': 'accuracy'}, xlabel='majmin'>,\n",
       "        <Axes: title={'center': 'balanced accuracy'}, xlabel='majmin'>,\n",
       "        <Axes: title={'center': 'f1'}, xlabel='majmin'>],\n",
       "       [<Axes: title={'center': 'precision'}, xlabel='majmin'>,\n",
       "        <Axes: title={'center': 'false positive rate'}, xlabel='majmin'>,\n",
       "        <Axes: title={'center': 'false negative rate'}, xlabel='majmin'>],\n",
       "       [<Axes: title={'center': 'selection rate'}, xlabel='majmin'>,\n",
       "        <Axes: title={'center': 'count'}, xlabel='majmin'>,\n",
       "        <Axes: xlabel='majmin'>]], dtype=object)"
      ]
     },
     "execution_count": 76,
     "metadata": {},
     "output_type": "execute_result"
    },
    {
     "data": {
      "image/png": "[encoded data removed]",
      "text/plain": [
       "<Figure size 1200x800 with 9 Axes>"
      ]
     },
     "metadata": {},
     "output_type": "display_data"
    }
   ],
   "source": [
    "# In a graphic\n",
    "metric_frame.by_group.plot.bar(\n",
    "    subplots=True,\n",
    "    layout=[3, 3],\n",
    "    legend=False,\n",
    "    figsize=[12, 8],\n",
    "    title=\"Show all metrics\",\n",
    ")"
   ]
  },
  {
   "cell_type": "markdown",
   "id": "f57a0bac",
   "metadata": {
    "papermill": {
     "duration": 0.028627,
     "end_time": "2025-07-30T21:43:52.802057",
     "exception": false,
     "start_time": "2025-07-30T21:43:52.773430",
     "status": "completed"
    },
    "tags": []
   },
   "source": [
    "# Final Output"
   ]
  },
  {
   "cell_type": "code",
   "execution_count": 77,
   "id": "96d280a3",
   "metadata": {
    "execution": {
     "iopub.execute_input": "2025-07-30T21:43:52.860595Z",
     "iopub.status.busy": "2025-07-30T21:43:52.859519Z",
     "iopub.status.idle": "2025-07-30T21:43:52.867119Z",
     "shell.execute_reply": "2025-07-30T21:43:52.866103Z"
    },
    "papermill": {
     "duration": 0.038569,
     "end_time": "2025-07-30T21:43:52.868911",
     "exception": false,
     "start_time": "2025-07-30T21:43:52.830342",
     "status": "completed"
    },
    "tags": []
   },
   "outputs": [
    {
     "data": {
      "text/plain": [
       "4"
      ]
     },
     "execution_count": 77,
     "metadata": {},
     "output_type": "execute_result"
    }
   ],
   "source": [
    "sub_universes = universe_analysis.generate_sub_universes()\n",
    "len(sub_universes)"
   ]
  },
  {
   "cell_type": "code",
   "execution_count": 78,
   "id": "92adf7ba",
   "metadata": {
    "execution": {
     "iopub.execute_input": "2025-07-30T21:43:52.931813Z",
     "iopub.status.busy": "2025-07-30T21:43:52.931171Z",
     "iopub.status.idle": "2025-07-30T21:43:52.938849Z",
     "shell.execute_reply": "2025-07-30T21:43:52.937605Z"
    },
    "papermill": {
     "duration": 0.041057,
     "end_time": "2025-07-30T21:43:52.940831",
     "exception": false,
     "start_time": "2025-07-30T21:43:52.899774",
     "status": "completed"
    },
    "tags": []
   },
   "outputs": [],
   "source": [
    "def filter_sub_universe_data(sub_universe, org_test):\n",
    "    # Keep all rows — no filtering\n",
    "    keep_rows_mask = np.ones(org_test.shape[0], dtype=bool)\n",
    "\n",
    "    print(f\"[INFO] Keeping all rows: {keep_rows_mask.sum()} rows retained.\")\n",
    "    return keep_rows_mask"
   ]
  },
  {
   "cell_type": "code",
   "execution_count": 79,
   "id": "4a759155",
   "metadata": {
    "execution": {
     "iopub.execute_input": "2025-07-30T21:43:53.001106Z",
     "iopub.status.busy": "2025-07-30T21:43:53.000579Z",
     "iopub.status.idle": "2025-07-30T21:44:02.928852Z",
     "shell.execute_reply": "2025-07-30T21:44:02.928008Z"
    },
    "papermill": {
     "duration": 9.96019,
     "end_time": "2025-07-30T21:44:02.930091",
     "exception": false,
     "start_time": "2025-07-30T21:43:52.969901",
     "status": "completed"
    },
    "tags": []
   },
   "outputs": [
    {
     "name": "stdout",
     "output_type": "stream",
     "text": [
      "Stopping execution_time clock.\n",
      "[INFO] Keeping all rows: 89710 rows retained.\n"
     ]
    },
    {
     "name": "stdout",
     "output_type": "stream",
     "text": [
      "[INFO] Keeping all rows: 89710 rows retained.\n"
     ]
    },
    {
     "name": "stdout",
     "output_type": "stream",
     "text": [
      "[INFO] Keeping all rows: 89710 rows retained.\n"
     ]
    },
    {
     "name": "stdout",
     "output_type": "stream",
     "text": [
      "[INFO] Keeping all rows: 89710 rows retained.\n"
     ]
    },
    {
     "data": {
      "text/html": [
       "<div>\n",
       "<style scoped>\n",
       "    .dataframe tbody tr th:only-of-type {\n",
       "        vertical-align: middle;\n",
       "    }\n",
       "\n",
       "    .dataframe tbody tr th {\n",
       "        vertical-align: top;\n",
       "    }\n",
       "\n",
       "    .dataframe thead th {\n",
       "        text-align: right;\n",
       "    }\n",
       "</style>\n",
       "<table border=\"1\" class=\"dataframe\">\n",
       "  <thead>\n",
       "    <tr style=\"text-align: right;\">\n",
       "      <th></th>\n",
       "      <th>run_no</th>\n",
       "      <th>universe_id</th>\n",
       "      <th>universe_settings</th>\n",
       "      <th>execution_time</th>\n",
       "      <th>test_size_n</th>\n",
       "      <th>test_size_frac</th>\n",
       "      <th>fair_main_equalized_odds_difference</th>\n",
       "      <th>fair_main_equalized_odds_ratio</th>\n",
       "      <th>fair_main_demographic_parity_difference</th>\n",
       "      <th>fair_main_demographic_parity_ratio</th>\n",
       "      <th>...</th>\n",
       "      <th>perf_grp_precision_0</th>\n",
       "      <th>perf_grp_precision_1</th>\n",
       "      <th>perf_grp_false positive rate_0</th>\n",
       "      <th>perf_grp_false positive rate_1</th>\n",
       "      <th>perf_grp_false negative rate_0</th>\n",
       "      <th>perf_grp_false negative rate_1</th>\n",
       "      <th>perf_grp_selection rate_0</th>\n",
       "      <th>perf_grp_selection rate_1</th>\n",
       "      <th>perf_grp_count_0</th>\n",
       "      <th>perf_grp_count_1</th>\n",
       "    </tr>\n",
       "  </thead>\n",
       "  <tbody>\n",
       "    <tr>\n",
       "      <th>0</th>\n",
       "      <td>14</td>\n",
       "      <td>562d6345d16b8ee6cb17b6fbbc5df911</td>\n",
       "      <td>{\"cutoff\": \"quantile_0.1\", \"eval_fairness_grou...</td>\n",
       "      <td>40.624848</td>\n",
       "      <td>89710</td>\n",
       "      <td>1.0</td>\n",
       "      <td>0.095466</td>\n",
       "      <td>0.901291</td>\n",
       "      <td>0.089410</td>\n",
       "      <td>0.907724</td>\n",
       "      <td>...</td>\n",
       "      <td>NaN</td>\n",
       "      <td>NaN</td>\n",
       "      <td>NaN</td>\n",
       "      <td>NaN</td>\n",
       "      <td>NaN</td>\n",
       "      <td>NaN</td>\n",
       "      <td>NaN</td>\n",
       "      <td>NaN</td>\n",
       "      <td>NaN</td>\n",
       "      <td>NaN</td>\n",
       "    </tr>\n",
       "    <tr>\n",
       "      <th>0</th>\n",
       "      <td>14</td>\n",
       "      <td>562d6345d16b8ee6cb17b6fbbc5df911</td>\n",
       "      <td>{\"cutoff\": \"quantile_0.1\", \"eval_fairness_grou...</td>\n",
       "      <td>40.624848</td>\n",
       "      <td>89710</td>\n",
       "      <td>1.0</td>\n",
       "      <td>0.095466</td>\n",
       "      <td>0.901291</td>\n",
       "      <td>0.089410</td>\n",
       "      <td>0.907724</td>\n",
       "      <td>...</td>\n",
       "      <td>0.116923</td>\n",
       "      <td>0.139882</td>\n",
       "      <td>0.967147</td>\n",
       "      <td>0.871681</td>\n",
       "      <td>0.017314</td>\n",
       "      <td>0.068928</td>\n",
       "      <td>0.968939</td>\n",
       "      <td>0.879529</td>\n",
       "      <td>20540.0</td>\n",
       "      <td>69170.0</td>\n",
       "    </tr>\n",
       "    <tr>\n",
       "      <th>0</th>\n",
       "      <td>14</td>\n",
       "      <td>562d6345d16b8ee6cb17b6fbbc5df911</td>\n",
       "      <td>{\"cutoff\": \"quantile_0.25\", \"eval_fairness_gro...</td>\n",
       "      <td>40.624848</td>\n",
       "      <td>89710</td>\n",
       "      <td>1.0</td>\n",
       "      <td>0.228948</td>\n",
       "      <td>0.749159</td>\n",
       "      <td>0.214945</td>\n",
       "      <td>0.765274</td>\n",
       "      <td>...</td>\n",
       "      <td>NaN</td>\n",
       "      <td>NaN</td>\n",
       "      <td>NaN</td>\n",
       "      <td>NaN</td>\n",
       "      <td>NaN</td>\n",
       "      <td>NaN</td>\n",
       "      <td>NaN</td>\n",
       "      <td>NaN</td>\n",
       "      <td>NaN</td>\n",
       "      <td>NaN</td>\n",
       "    </tr>\n",
       "    <tr>\n",
       "      <th>0</th>\n",
       "      <td>14</td>\n",
       "      <td>562d6345d16b8ee6cb17b6fbbc5df911</td>\n",
       "      <td>{\"cutoff\": \"quantile_0.25\", \"eval_fairness_gro...</td>\n",
       "      <td>40.624848</td>\n",
       "      <td>89710</td>\n",
       "      <td>1.0</td>\n",
       "      <td>0.228948</td>\n",
       "      <td>0.749159</td>\n",
       "      <td>0.214945</td>\n",
       "      <td>0.765274</td>\n",
       "      <td>...</td>\n",
       "      <td>0.118188</td>\n",
       "      <td>0.153199</td>\n",
       "      <td>0.912723</td>\n",
       "      <td>0.683775</td>\n",
       "      <td>0.061233</td>\n",
       "      <td>0.187527</td>\n",
       "      <td>0.915725</td>\n",
       "      <td>0.700781</td>\n",
       "      <td>20540.0</td>\n",
       "      <td>69170.0</td>\n",
       "    </tr>\n",
       "  </tbody>\n",
       "</table>\n",
       "<p>4 rows × 50 columns</p>\n",
       "</div>"
      ],
      "text/plain": [
       "  run_no                       universe_id  \\\n",
       "0     14  562d6345d16b8ee6cb17b6fbbc5df911   \n",
       "0     14  562d6345d16b8ee6cb17b6fbbc5df911   \n",
       "0     14  562d6345d16b8ee6cb17b6fbbc5df911   \n",
       "0     14  562d6345d16b8ee6cb17b6fbbc5df911   \n",
       "\n",
       "                                   universe_settings  execution_time  \\\n",
       "0  {\"cutoff\": \"quantile_0.1\", \"eval_fairness_grou...       40.624848   \n",
       "0  {\"cutoff\": \"quantile_0.1\", \"eval_fairness_grou...       40.624848   \n",
       "0  {\"cutoff\": \"quantile_0.25\", \"eval_fairness_gro...       40.624848   \n",
       "0  {\"cutoff\": \"quantile_0.25\", \"eval_fairness_gro...       40.624848   \n",
       "\n",
       "   test_size_n  test_size_frac  fair_main_equalized_odds_difference  \\\n",
       "0        89710             1.0                             0.095466   \n",
       "0        89710             1.0                             0.095466   \n",
       "0        89710             1.0                             0.228948   \n",
       "0        89710             1.0                             0.228948   \n",
       "\n",
       "   fair_main_equalized_odds_ratio  fair_main_demographic_parity_difference  \\\n",
       "0                        0.901291                                 0.089410   \n",
       "0                        0.901291                                 0.089410   \n",
       "0                        0.749159                                 0.214945   \n",
       "0                        0.749159                                 0.214945   \n",
       "\n",
       "   fair_main_demographic_parity_ratio  ...  perf_grp_precision_0  \\\n",
       "0                            0.907724  ...                   NaN   \n",
       "0                            0.907724  ...              0.116923   \n",
       "0                            0.765274  ...                   NaN   \n",
       "0                            0.765274  ...              0.118188   \n",
       "\n",
       "   perf_grp_precision_1  perf_grp_false positive rate_0  \\\n",
       "0                   NaN                             NaN   \n",
       "0              0.139882                        0.967147   \n",
       "0                   NaN                             NaN   \n",
       "0              0.153199                        0.912723   \n",
       "\n",
       "   perf_grp_false positive rate_1  perf_grp_false negative rate_0  \\\n",
       "0                             NaN                             NaN   \n",
       "0                        0.871681                        0.017314   \n",
       "0                             NaN                             NaN   \n",
       "0                        0.683775                        0.061233   \n",
       "\n",
       "   perf_grp_false negative rate_1  perf_grp_selection rate_0  \\\n",
       "0                             NaN                        NaN   \n",
       "0                        0.068928                   0.968939   \n",
       "0                             NaN                        NaN   \n",
       "0                        0.187527                   0.915725   \n",
       "\n",
       "   perf_grp_selection rate_1  perf_grp_count_0  perf_grp_count_1  \n",
       "0                        NaN               NaN               NaN  \n",
       "0                   0.879529           20540.0           69170.0  \n",
       "0                        NaN               NaN               NaN  \n",
       "0                   0.700781           20540.0           69170.0  \n",
       "\n",
       "[4 rows x 50 columns]"
      ]
     },
     "execution_count": 79,
     "metadata": {},
     "output_type": "execute_result"
    }
   ],
   "source": [
    "final_output = universe_analysis.generate_final_output(\n",
    "    y_pred_prob=probs_test,\n",
    "    y_test=y_true,\n",
    "    org_test=org_test,\n",
    "    filter_data=filter_sub_universe_data,\n",
    "    cp_metrics_df=cp_metrics_df,\n",
    "    save=True,\n",
    ")\n",
    "final_output"
   ]
  },
  {
   "cell_type": "code",
   "execution_count": null,
   "id": "721ff514-cb11-46f8-b6fc-50392f74b5cb",
   "metadata": {
    "papermill": {
     "duration": 0.01515,
     "end_time": "2025-07-30T21:44:02.964142",
     "exception": false,
     "start_time": "2025-07-30T21:44:02.948992",
     "status": "completed"
    },
    "tags": []
   },
   "outputs": [],
   "source": []
  }
 ],
 "metadata": {
  "celltoolbar": "Tags",
  "kernelspec": {
   "display_name": "Python (CMA Fairness)",
   "language": "python",
   "name": "cma_fair_env"
  },
  "language_info": {
   "codemirror_mode": {
    "name": "ipython",
    "version": 3
   },
   "file_extension": ".py",
   "mimetype": "text/x-python",
   "name": "python",
   "nbconvert_exporter": "python",
   "pygments_lexer": "ipython3",
   "version": "3.10.12"
  },
  "papermill": {
   "default_parameters": {},
   "duration": 54.381652,
   "end_time": "2025-07-30T21:44:03.495903",
   "environment_variables": {},
   "exception": null,
   "input_path": "universe_analysis.ipynb",
   "output_path": "output/runs/14/notebooks/m_14-562d6345d16b8ee6cb17b6fbbc5df911.ipynb",
   "parameters": {
    "output_dir": "output",
    "run_no": "14",
    "seed": "2023",
    "universe": "{\"cutoff\": [\"quantile_0.1\", \"quantile_0.25\"], \"eval_fairness_grouping\": [\"majority-minority\", \"nationality-all\"], \"exclude_features\": \"age\", \"exclude_subgroups\": \"keep-all\", \"model\": \"elasticnet\", \"scale\": \"do-not-scale\", \"training_size\": \"1k\", \"training_year\": \"2012_14\"}",
    "universe_id": "562d6345d16b8ee6cb17b6fbbc5df911"
   },
   "start_time": "2025-07-30T21:43:09.114251",
   "version": "2.6.0"
  }
 },
 "nbformat": 4,
 "nbformat_minor": 5
}