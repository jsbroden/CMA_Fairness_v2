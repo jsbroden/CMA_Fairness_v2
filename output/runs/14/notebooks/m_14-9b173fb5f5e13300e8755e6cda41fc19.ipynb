{
 "cells": [
  {
   "cell_type": "code",
   "execution_count": 1,
   "id": "f159f837-637b-42ba-96b5-ec9a68c44524",
   "metadata": {
    "execution": {
     "iopub.execute_input": "2025-07-30T21:51:29.646213Z",
     "iopub.status.busy": "2025-07-30T21:51:29.645625Z",
     "iopub.status.idle": "2025-07-30T21:51:29.661535Z",
     "shell.execute_reply": "2025-07-30T21:51:29.660184Z"
    },
    "papermill": {
     "duration": 0.038863,
     "end_time": "2025-07-30T21:51:29.663158",
     "exception": false,
     "start_time": "2025-07-30T21:51:29.624295",
     "status": "completed"
    },
    "tags": []
   },
   "outputs": [
    {
     "name": "stdout",
     "output_type": "stream",
     "text": [
      "/dss/dsshome1/0C/ra93lal2/cma/CMA_Fairness_v2\n"
     ]
    },
    {
     "name": "stderr",
     "output_type": "stream",
     "text": [
      "/dss/dsshome1/0C/ra93lal2/.local/share/virtualenvs/CMA_Fairness_v2-3j10GkSs/lib/python3.10/site-packages/IPython/core/magics/osm.py:393: UserWarning: This is now an optional IPython functionality, using bookmarks requires you to install the `pickleshare` library.\n",
      "  bkms = self.shell.db.get('bookmarks', {})\n",
      "/dss/dsshome1/0C/ra93lal2/.local/share/virtualenvs/CMA_Fairness_v2-3j10GkSs/lib/python3.10/site-packages/IPython/core/magics/osm.py:417: UserWarning: This is now an optional IPython functionality, setting dhist requires you to install the `pickleshare` library.\n",
      "  self.shell.db['dhist'] = compress_dhist(dhist)[-100:]\n"
     ]
    }
   ],
   "source": [
    "%cd ~/cma/CMA_Fairness_v2"
   ]
  },
  {
   "cell_type": "markdown",
   "id": "de2603b9",
   "metadata": {
    "papermill": {
     "duration": 0.02066,
     "end_time": "2025-07-30T21:51:29.703812",
     "exception": false,
     "start_time": "2025-07-30T21:51:29.683152",
     "status": "completed"
    },
    "tags": []
   },
   "source": [
    "The following cell holds the definition of our parameters, these values can be overriden by rendering the with e.g. the following command:\n",
    "\n",
    "papermill -p alpha 0.2 -p ratio 0.3 universe_analysis.ipynb output/test_run.ipynb"
   ]
  },
  {
   "cell_type": "code",
   "execution_count": 2,
   "id": "a80968a0-40bb-4fa9-85ef-2d5eefb01975",
   "metadata": {
    "execution": {
     "iopub.execute_input": "2025-07-30T21:51:29.745884Z",
     "iopub.status.busy": "2025-07-30T21:51:29.745169Z",
     "iopub.status.idle": "2025-07-30T21:51:29.751397Z",
     "shell.execute_reply": "2025-07-30T21:51:29.750303Z"
    },
    "papermill": {
     "duration": 0.029789,
     "end_time": "2025-07-30T21:51:29.753128",
     "exception": false,
     "start_time": "2025-07-30T21:51:29.723339",
     "status": "completed"
    },
    "tags": []
   },
   "outputs": [
    {
     "name": "stdout",
     "output_type": "stream",
     "text": [
      "Current working directory: /dss/dsshome1/0C/ra93lal2/cma/CMA_Fairness_v2\n"
     ]
    }
   ],
   "source": [
    "import os\n",
    "print(\"Current working directory:\", os.getcwd())"
   ]
  },
  {
   "cell_type": "code",
   "execution_count": 3,
   "id": "2dce4c03",
   "metadata": {
    "execution": {
     "iopub.execute_input": "2025-07-30T21:51:29.797365Z",
     "iopub.status.busy": "2025-07-30T21:51:29.796696Z",
     "iopub.status.idle": "2025-07-30T21:51:29.802904Z",
     "shell.execute_reply": "2025-07-30T21:51:29.801992Z"
    },
    "papermill": {
     "duration": 0.030471,
     "end_time": "2025-07-30T21:51:29.804550",
     "exception": false,
     "start_time": "2025-07-30T21:51:29.774079",
     "status": "completed"
    },
    "tags": [
     "parameters"
    ]
   },
   "outputs": [],
   "source": [
    "run_no = 0\n",
    "universe_id = \"test\"\n",
    "universe = {\n",
    "    \"training_size\": \"25k\", # \"25k\", \"5k\", \"1k\"\n",
    "    \"training_year\": \"2014\", # \"2014\", \"2012_14\", \"2010_14\"\n",
    "    \"scale\": \"scale\", # \"scale\", \"do-not-scale\",\n",
    "    #\"stratify_split\": \"target\", # \"none\", \"target\", \"protected-attribute\", \"both\",\n",
    "    \"model\": \"elasticnet\", # \"logreg\", \"penalized_logreg\", \"rf\", \"gbm\", \"elasticnet\"\n",
    "    \"cutoff\": [\"quantile_0.15\", \"quantile_0.30\"],\n",
    "    \"exclude_features\": \"age\", # \"none\", \"nationality\", \"sex\", \"nationality-sex\", \"age\"\n",
    "    \"exclude_subgroups\": \"keep-all\", # \"keep-all\", \"drop-non-german\"\n",
    "    \"eval_fairness_grouping\": [\"majority-minority\", \"nationality-all\"]\n",
    "}\n",
    "\n",
    "output_dir=\"./output\"\n",
    "seed=0"
   ]
  },
  {
   "cell_type": "code",
   "execution_count": 4,
   "id": "4bd47d35",
   "metadata": {
    "execution": {
     "iopub.execute_input": "2025-07-30T21:51:29.845607Z",
     "iopub.status.busy": "2025-07-30T21:51:29.844927Z",
     "iopub.status.idle": "2025-07-30T21:51:29.850197Z",
     "shell.execute_reply": "2025-07-30T21:51:29.849377Z"
    },
    "papermill": {
     "duration": 0.027148,
     "end_time": "2025-07-30T21:51:29.851646",
     "exception": false,
     "start_time": "2025-07-30T21:51:29.824498",
     "status": "completed"
    },
    "tags": [
     "injected-parameters"
    ]
   },
   "outputs": [],
   "source": [
    "# Parameters\n",
    "universe_id = \"9b173fb5f5e13300e8755e6cda41fc19\"\n",
    "run_no = \"14\"\n",
    "universe = \"{\\\"cutoff\\\": [\\\"quantile_0.1\\\", \\\"quantile_0.25\\\"], \\\"eval_fairness_grouping\\\": [\\\"majority-minority\\\", \\\"nationality-all\\\"], \\\"exclude_features\\\": \\\"nationality-sex\\\", \\\"exclude_subgroups\\\": \\\"keep-all\\\", \\\"model\\\": \\\"rf\\\", \\\"scale\\\": \\\"do-not-scale\\\", \\\"training_size\\\": \\\"1k\\\", \\\"training_year\\\": \\\"2010_14\\\"}\"\n",
    "output_dir = \"output\"\n",
    "seed = \"2023\"\n"
   ]
  },
  {
   "cell_type": "code",
   "execution_count": 5,
   "id": "1650acaf",
   "metadata": {
    "execution": {
     "iopub.execute_input": "2025-07-30T21:51:29.890993Z",
     "iopub.status.busy": "2025-07-30T21:51:29.889852Z",
     "iopub.status.idle": "2025-07-30T21:51:29.895793Z",
     "shell.execute_reply": "2025-07-30T21:51:29.894769Z"
    },
    "papermill": {
     "duration": 0.027168,
     "end_time": "2025-07-30T21:51:29.897802",
     "exception": false,
     "start_time": "2025-07-30T21:51:29.870634",
     "status": "completed"
    },
    "tags": []
   },
   "outputs": [],
   "source": [
    "import json\n",
    "# Parse universe into dict if it is passed as a string\n",
    "if isinstance(universe, str):\n",
    "    universe = json.loads(universe)"
   ]
  },
  {
   "cell_type": "code",
   "execution_count": 6,
   "id": "16620c48",
   "metadata": {
    "execution": {
     "iopub.execute_input": "2025-07-30T21:51:29.938493Z",
     "iopub.status.busy": "2025-07-30T21:51:29.937857Z",
     "iopub.status.idle": "2025-07-30T21:51:29.980638Z",
     "shell.execute_reply": "2025-07-30T21:51:29.979678Z"
    },
    "papermill": {
     "duration": 0.064678,
     "end_time": "2025-07-30T21:51:29.982539",
     "exception": false,
     "start_time": "2025-07-30T21:51:29.917861",
     "status": "completed"
    },
    "tags": []
   },
   "outputs": [],
   "source": [
    "# Auto-reload the custom package\n",
    "%load_ext autoreload\n",
    "%autoreload 1\n",
    "%aimport fairness_multiverse"
   ]
  },
  {
   "cell_type": "code",
   "execution_count": 7,
   "id": "01c5c9f3",
   "metadata": {
    "execution": {
     "iopub.execute_input": "2025-07-30T21:51:30.062965Z",
     "iopub.status.busy": "2025-07-30T21:51:30.062403Z",
     "iopub.status.idle": "2025-07-30T21:51:32.063776Z",
     "shell.execute_reply": "2025-07-30T21:51:32.062863Z"
    },
    "papermill": {
     "duration": 2.025401,
     "end_time": "2025-07-30T21:51:32.065655",
     "exception": false,
     "start_time": "2025-07-30T21:51:30.040254",
     "status": "completed"
    },
    "tags": []
   },
   "outputs": [],
   "source": [
    "from fairness_multiverse.universe import UniverseAnalysis\n",
    "\n",
    "universe_analysis = UniverseAnalysis(\n",
    "    run_no = run_no,\n",
    "    universe_id = universe_id,\n",
    "    universe = universe,\n",
    "    output_dir=output_dir,\n",
    ")"
   ]
  },
  {
   "cell_type": "code",
   "execution_count": 8,
   "id": "106241f5",
   "metadata": {
    "execution": {
     "iopub.execute_input": "2025-07-30T21:51:32.111592Z",
     "iopub.status.busy": "2025-07-30T21:51:32.110586Z",
     "iopub.status.idle": "2025-07-30T21:51:32.117263Z",
     "shell.execute_reply": "2025-07-30T21:51:32.116431Z"
    },
    "papermill": {
     "duration": 0.031402,
     "end_time": "2025-07-30T21:51:32.118746",
     "exception": false,
     "start_time": "2025-07-30T21:51:32.087344",
     "status": "completed"
    },
    "tags": []
   },
   "outputs": [
    {
     "name": "stdout",
     "output_type": "stream",
     "text": [
      "Using Seed: 2023\n"
     ]
    }
   ],
   "source": [
    "import numpy as np\n",
    "parsed_seed = int(seed)\n",
    "np.random.seed(parsed_seed)\n",
    "print(f\"Using Seed: {parsed_seed}\")"
   ]
  },
  {
   "cell_type": "markdown",
   "id": "e0ebdc57",
   "metadata": {
    "papermill": {
     "duration": 0.022019,
     "end_time": "2025-07-30T21:51:32.161755",
     "exception": false,
     "start_time": "2025-07-30T21:51:32.139736",
     "status": "completed"
    },
    "tags": []
   },
   "source": [
    "# Loading Data"
   ]
  },
  {
   "cell_type": "markdown",
   "id": "681925a3",
   "metadata": {
    "papermill": {
     "duration": 0.02064,
     "end_time": "2025-07-30T21:51:32.201560",
     "exception": false,
     "start_time": "2025-07-30T21:51:32.180920",
     "status": "completed"
    },
    "tags": []
   },
   "source": [
    "Load siab_train, siab_test, siab_calib and/or \n",
    "load siab_train_features, siab_train_labels"
   ]
  },
  {
   "cell_type": "code",
   "execution_count": 9,
   "id": "f0496b8a",
   "metadata": {
    "execution": {
     "iopub.execute_input": "2025-07-30T21:51:32.245601Z",
     "iopub.status.busy": "2025-07-30T21:51:32.244874Z",
     "iopub.status.idle": "2025-07-30T21:51:46.162435Z",
     "shell.execute_reply": "2025-07-30T21:51:46.161194Z"
    },
    "papermill": {
     "duration": 13.940349,
     "end_time": "2025-07-30T21:51:46.164114",
     "exception": false,
     "start_time": "2025-07-30T21:51:32.223765",
     "status": "completed"
    },
    "tags": []
   },
   "outputs": [
    {
     "name": "stdout",
     "output_type": "stream",
     "text": [
      "Loading SIAB data from cache: data/siab_cached.csv.gz\n"
     ]
    },
    {
     "name": "stdout",
     "output_type": "stream",
     "text": [
      "(643690, 164)\n"
     ]
    }
   ],
   "source": [
    "from pathlib import Path\n",
    "import pandas as pd\n",
    "\n",
    "# File paths\n",
    "raw_file = Path(\"data/raw/siab.csv\")\n",
    "cache_file = Path(\"data/siab_cached.csv.gz\")\n",
    "\n",
    "# Ensure cache directory exists\n",
    "cache_file.parent.mkdir(parents=True, exist_ok=True)\n",
    "\n",
    "# Load with simple caching\n",
    "if cache_file.exists():\n",
    "    print(f\"Loading SIAB data from cache: {cache_file}\")\n",
    "    siab = pd.read_csv(cache_file, compression='gzip')\n",
    "else:\n",
    "    print(f\"Cache not found. Reading raw SIAB data: {raw_file}\")\n",
    "    siab = pd.read_csv(raw_file)\n",
    "    siab.to_csv(cache_file, index=False, compression='gzip')\n",
    "    print(f\"Cached SIAB data to: {cache_file}\")\n",
    "\n",
    "# Now use `siab` DataFrame as needed\n",
    "print(siab.shape)"
   ]
  },
  {
   "cell_type": "code",
   "execution_count": 10,
   "id": "db0ca512-5f53-4dba-abdb-a2888bca41ba",
   "metadata": {
    "execution": {
     "iopub.execute_input": "2025-07-30T21:51:46.215961Z",
     "iopub.status.busy": "2025-07-30T21:51:46.215420Z",
     "iopub.status.idle": "2025-07-30T21:51:46.221077Z",
     "shell.execute_reply": "2025-07-30T21:51:46.220223Z"
    },
    "papermill": {
     "duration": 0.03072,
     "end_time": "2025-07-30T21:51:46.222338",
     "exception": false,
     "start_time": "2025-07-30T21:51:46.191618",
     "status": "completed"
    },
    "tags": []
   },
   "outputs": [],
   "source": [
    "#siab"
   ]
  },
  {
   "cell_type": "code",
   "execution_count": 11,
   "id": "a0edb063",
   "metadata": {
    "execution": {
     "iopub.execute_input": "2025-07-30T21:51:46.249598Z",
     "iopub.status.busy": "2025-07-30T21:51:46.249228Z",
     "iopub.status.idle": "2025-07-30T21:51:46.253886Z",
     "shell.execute_reply": "2025-07-30T21:51:46.253069Z"
    },
    "papermill": {
     "duration": 0.018694,
     "end_time": "2025-07-30T21:51:46.255263",
     "exception": false,
     "start_time": "2025-07-30T21:51:46.236569",
     "status": "completed"
    },
    "tags": []
   },
   "outputs": [],
   "source": [
    "#import pandas as pd\n",
    "#\n",
    "#X_train = pd.read_csv(\"./data/X_train.csv\")\n",
    "#y_train = pd.read_csv(\"./data/y_train.csv\")"
   ]
  },
  {
   "cell_type": "code",
   "execution_count": 12,
   "id": "63d08085",
   "metadata": {
    "execution": {
     "iopub.execute_input": "2025-07-30T21:51:46.280422Z",
     "iopub.status.busy": "2025-07-30T21:51:46.279995Z",
     "iopub.status.idle": "2025-07-30T21:51:46.284603Z",
     "shell.execute_reply": "2025-07-30T21:51:46.283877Z"
    },
    "papermill": {
     "duration": 0.018304,
     "end_time": "2025-07-30T21:51:46.286131",
     "exception": false,
     "start_time": "2025-07-30T21:51:46.267827",
     "status": "completed"
    },
    "tags": []
   },
   "outputs": [],
   "source": [
    "#X_test = pd.read_csv(\"./data/X_test.csv\")\n",
    "#y_true = pd.read_csv(\"./data/y_test.csv\")"
   ]
  },
  {
   "cell_type": "code",
   "execution_count": 13,
   "id": "98a8d0fa-1d3d-4ed8-bb2c-281470e24add",
   "metadata": {
    "execution": {
     "iopub.execute_input": "2025-07-30T21:51:46.316321Z",
     "iopub.status.busy": "2025-07-30T21:51:46.315782Z",
     "iopub.status.idle": "2025-07-30T21:51:46.320603Z",
     "shell.execute_reply": "2025-07-30T21:51:46.319881Z"
    },
    "papermill": {
     "duration": 0.019517,
     "end_time": "2025-07-30T21:51:46.321850",
     "exception": false,
     "start_time": "2025-07-30T21:51:46.302333",
     "status": "completed"
    },
    "tags": []
   },
   "outputs": [],
   "source": [
    "# Calibration data for conformal\n",
    "#X_calib = pd.read_csv(\"./data/X_calib.csv\")\n",
    "#y_calib = pd.read_csv(\"./data/y_calib.csv\")"
   ]
  },
  {
   "cell_type": "markdown",
   "id": "997051c5-15bd-4b69-9786-c3001a3ce484",
   "metadata": {
    "papermill": {
     "duration": 0.011265,
     "end_time": "2025-07-30T21:51:46.345392",
     "exception": false,
     "start_time": "2025-07-30T21:51:46.334127",
     "status": "completed"
    },
    "tags": []
   },
   "source": [
    "# Splitting Data and Setting Training Data Size"
   ]
  },
  {
   "cell_type": "code",
   "execution_count": 14,
   "id": "e993b61f-042d-41a6-8c81-f55681f86335",
   "metadata": {
    "execution": {
     "iopub.execute_input": "2025-07-30T21:51:46.388794Z",
     "iopub.status.busy": "2025-07-30T21:51:46.388239Z",
     "iopub.status.idle": "2025-07-30T21:51:46.402386Z",
     "shell.execute_reply": "2025-07-30T21:51:46.401382Z"
    },
    "papermill": {
     "duration": 0.041058,
     "end_time": "2025-07-30T21:51:46.404250",
     "exception": false,
     "start_time": "2025-07-30T21:51:46.363192",
     "status": "completed"
    },
    "tags": []
   },
   "outputs": [],
   "source": [
    "def sample_by_year_size(df,\n",
    "                        training_year: str,\n",
    "                        training_size: str,\n",
    "                        random_state: int = 42):\n",
    "    # --- parse training_year into a list of int years ---\n",
    "    if \"_\" in training_year:\n",
    "        start_str, end_str = training_year.split(\"_\", 1)\n",
    "        start = int(start_str)\n",
    "        end   = int(end_str) if len(end_str) == 4 else (int(end_str) + (start // 100)*100)\n",
    "        years = list(range(start, end + 1))\n",
    "    else:\n",
    "        years = [int(training_year)]\n",
    "\n",
    "    df = df[df[\"year\"].isin(years)].reset_index(drop=True)\n",
    "\n",
    "    # --- map training_size to total number of samples ---\n",
    "    total_map = {\"25k\": 25_000, \"5k\": 5_000, \"1k\": 1_000}\n",
    "    if training_size not in total_map:\n",
    "        return df  # e.g. \"all\"\n",
    "\n",
    "    total_samples = total_map[training_size]\n",
    "    n_years       = len(years)\n",
    "    base          = total_samples // n_years\n",
    "    remainder     = total_samples % n_years\n",
    "\n",
    "    # --- build a dict: year -> how many to sample ---\n",
    "    # give +1 to the first `remainder` years in ascending order\n",
    "    quotas = {\n",
    "        year: base + (1 if idx < remainder else 0)\n",
    "        for idx, year in enumerate(sorted(years))\n",
    "    }\n",
    "\n",
    "    # --- sample per‐year according to the quota dict ---\n",
    "    sampled = (\n",
    "        df\n",
    "        .groupby(\"year\", group_keys=False)\n",
    "        .apply(lambda grp: grp.sample(\n",
    "            n=min(len(grp), quotas[grp.name]),\n",
    "            random_state=random_state))\n",
    "        .reset_index(drop=True)\n",
    "    )\n",
    "\n",
    "    return sampled"
   ]
  },
  {
   "cell_type": "code",
   "execution_count": 15,
   "id": "c0ccd338-0e02-41f3-a09d-f56f9266e3fb",
   "metadata": {
    "execution": {
     "iopub.execute_input": "2025-07-30T21:51:46.451887Z",
     "iopub.status.busy": "2025-07-30T21:51:46.451140Z",
     "iopub.status.idle": "2025-07-30T21:51:46.457150Z",
     "shell.execute_reply": "2025-07-30T21:51:46.456094Z"
    },
    "papermill": {
     "duration": 0.03286,
     "end_time": "2025-07-30T21:51:46.458965",
     "exception": false,
     "start_time": "2025-07-30T21:51:46.426105",
     "status": "completed"
    },
    "tags": []
   },
   "outputs": [],
   "source": [
    "#universe[\"training_size\"]"
   ]
  },
  {
   "cell_type": "code",
   "execution_count": 16,
   "id": "ca707fd7-8047-4acd-bfa5-66248fbbf8e6",
   "metadata": {
    "execution": {
     "iopub.execute_input": "2025-07-30T21:51:46.508188Z",
     "iopub.status.busy": "2025-07-30T21:51:46.507409Z",
     "iopub.status.idle": "2025-07-30T21:51:46.513454Z",
     "shell.execute_reply": "2025-07-30T21:51:46.512249Z"
    },
    "papermill": {
     "duration": 0.033008,
     "end_time": "2025-07-30T21:51:46.515435",
     "exception": false,
     "start_time": "2025-07-30T21:51:46.482427",
     "status": "completed"
    },
    "tags": []
   },
   "outputs": [],
   "source": [
    "#universe[\"training_year\"]"
   ]
  },
  {
   "cell_type": "code",
   "execution_count": 17,
   "id": "aea9c6ef-6f46-42c8-85eb-5a62025c1508",
   "metadata": {
    "execution": {
     "iopub.execute_input": "2025-07-30T21:51:46.571939Z",
     "iopub.status.busy": "2025-07-30T21:51:46.571540Z",
     "iopub.status.idle": "2025-07-30T21:51:47.733841Z",
     "shell.execute_reply": "2025-07-30T21:51:47.732791Z"
    },
    "papermill": {
     "duration": 1.197377,
     "end_time": "2025-07-30T21:51:47.735841",
     "exception": false,
     "start_time": "2025-07-30T21:51:46.538464",
     "status": "completed"
    },
    "tags": []
   },
   "outputs": [],
   "source": [
    "siab_train = sample_by_year_size(siab,\n",
    "                               training_year=universe[\"training_year\"],\n",
    "                               training_size=universe[\"training_size\"])"
   ]
  },
  {
   "cell_type": "code",
   "execution_count": 18,
   "id": "8d3afb32-789d-442c-8d5d-9f5aa8dd2eed",
   "metadata": {
    "execution": {
     "iopub.execute_input": "2025-07-30T21:51:47.791544Z",
     "iopub.status.busy": "2025-07-30T21:51:47.790797Z",
     "iopub.status.idle": "2025-07-30T21:51:47.796777Z",
     "shell.execute_reply": "2025-07-30T21:51:47.795602Z"
    },
    "papermill": {
     "duration": 0.036451,
     "end_time": "2025-07-30T21:51:47.798846",
     "exception": false,
     "start_time": "2025-07-30T21:51:47.762395",
     "status": "completed"
    },
    "tags": []
   },
   "outputs": [],
   "source": [
    "#siab_train.shape"
   ]
  },
  {
   "cell_type": "code",
   "execution_count": 19,
   "id": "d582db68-1a4c-47fb-84fc-08518dc1975a",
   "metadata": {
    "execution": {
     "iopub.execute_input": "2025-07-30T21:51:47.854529Z",
     "iopub.status.busy": "2025-07-30T21:51:47.853560Z",
     "iopub.status.idle": "2025-07-30T21:51:47.860002Z",
     "shell.execute_reply": "2025-07-30T21:51:47.858792Z"
    },
    "papermill": {
     "duration": 0.037203,
     "end_time": "2025-07-30T21:51:47.862474",
     "exception": false,
     "start_time": "2025-07-30T21:51:47.825271",
     "status": "completed"
    },
    "tags": []
   },
   "outputs": [],
   "source": [
    "#display(siab_train.groupby(\"year\").size())"
   ]
  },
  {
   "cell_type": "code",
   "execution_count": 20,
   "id": "a561edb4-d032-42cb-8256-22eac1111c64",
   "metadata": {
    "execution": {
     "iopub.execute_input": "2025-07-30T21:51:47.919786Z",
     "iopub.status.busy": "2025-07-30T21:51:47.918807Z",
     "iopub.status.idle": "2025-07-30T21:51:48.182834Z",
     "shell.execute_reply": "2025-07-30T21:51:48.181640Z"
    },
    "papermill": {
     "duration": 0.294581,
     "end_time": "2025-07-30T21:51:48.184797",
     "exception": false,
     "start_time": "2025-07-30T21:51:47.890216",
     "status": "completed"
    },
    "tags": []
   },
   "outputs": [],
   "source": [
    "#siab_train = siab_s[siab_s.year < 2015]\n",
    "siab_calib = siab[siab.year == 2015]\n",
    "siab_test = siab[siab.year == 2016]"
   ]
  },
  {
   "cell_type": "code",
   "execution_count": 21,
   "id": "472de16f-c3db-4916-846b-1f0de9cf1746",
   "metadata": {
    "execution": {
     "iopub.execute_input": "2025-07-30T21:51:48.230673Z",
     "iopub.status.busy": "2025-07-30T21:51:48.229999Z",
     "iopub.status.idle": "2025-07-30T21:51:48.238043Z",
     "shell.execute_reply": "2025-07-30T21:51:48.236779Z"
    },
    "papermill": {
     "duration": 0.032627,
     "end_time": "2025-07-30T21:51:48.242930",
     "exception": false,
     "start_time": "2025-07-30T21:51:48.210303",
     "status": "completed"
    },
    "tags": []
   },
   "outputs": [],
   "source": [
    "X_train = siab_train.iloc[:,4:164]\n",
    "y_train = siab_train.iloc[:, [3]]"
   ]
  },
  {
   "cell_type": "code",
   "execution_count": 22,
   "id": "828c96af-f43a-4ed6-ba47-8ac73a47d56c",
   "metadata": {
    "execution": {
     "iopub.execute_input": "2025-07-30T21:51:48.299027Z",
     "iopub.status.busy": "2025-07-30T21:51:48.298276Z",
     "iopub.status.idle": "2025-07-30T21:51:48.358930Z",
     "shell.execute_reply": "2025-07-30T21:51:48.357661Z"
    },
    "papermill": {
     "duration": 0.090601,
     "end_time": "2025-07-30T21:51:48.360979",
     "exception": false,
     "start_time": "2025-07-30T21:51:48.270378",
     "status": "completed"
    },
    "tags": []
   },
   "outputs": [],
   "source": [
    "X_calib = siab_calib.iloc[:,4:164]\n",
    "y_calib = siab_calib.iloc[:, [3]]"
   ]
  },
  {
   "cell_type": "code",
   "execution_count": 23,
   "id": "c34be9c3-6bd6-476e-acd3-845840e303be",
   "metadata": {
    "execution": {
     "iopub.execute_input": "2025-07-30T21:51:48.417930Z",
     "iopub.status.busy": "2025-07-30T21:51:48.416931Z",
     "iopub.status.idle": "2025-07-30T21:51:48.471962Z",
     "shell.execute_reply": "2025-07-30T21:51:48.470817Z"
    },
    "papermill": {
     "duration": 0.085556,
     "end_time": "2025-07-30T21:51:48.474212",
     "exception": false,
     "start_time": "2025-07-30T21:51:48.388656",
     "status": "completed"
    },
    "tags": []
   },
   "outputs": [],
   "source": [
    "X_test = siab_test.iloc[:,4:164]\n",
    "y_true = siab_test.iloc[:, [3]]"
   ]
  },
  {
   "cell_type": "markdown",
   "id": "9901737e-04df-44f0-9100-f5ad144ed040",
   "metadata": {
    "papermill": {
     "duration": 0.025776,
     "end_time": "2025-07-30T21:51:48.526077",
     "exception": false,
     "start_time": "2025-07-30T21:51:48.500301",
     "status": "completed"
    },
    "tags": []
   },
   "source": [
    "# Splitting Data and Setting Training Data Size OLD VERSION"
   ]
  },
  {
   "cell_type": "code",
   "execution_count": 24,
   "id": "acbc8f7d-8fc8-4e86-8c59-5dcb0f58384b",
   "metadata": {
    "execution": {
     "iopub.execute_input": "2025-07-30T21:51:48.579916Z",
     "iopub.status.busy": "2025-07-30T21:51:48.579252Z",
     "iopub.status.idle": "2025-07-30T21:51:48.585169Z",
     "shell.execute_reply": "2025-07-30T21:51:48.584111Z"
    },
    "papermill": {
     "duration": 0.034845,
     "end_time": "2025-07-30T21:51:48.587065",
     "exception": false,
     "start_time": "2025-07-30T21:51:48.552220",
     "status": "completed"
    },
    "tags": []
   },
   "outputs": [],
   "source": [
    "#def sample_by_year(df, training_size, random_state=42):\n",
    "#    if training_size == \"2014\":\n",
    "#        return df[df[\"year\"] == 2014].reset_index(drop=True)\n",
    "#    \n",
    "#    size_map = {\n",
    "#        \"25k\": 5000,\n",
    "#        \"5k\": 1000,\n",
    "#        \"1k\": 200\n",
    "#    }\n",
    "#\n",
    "#    if training_size not in size_map:\n",
    "#        return df.reset_index(drop=True)  # use all data\n",
    "#\n",
    "#    n_per_year = size_map[training_size]\n",
    "#    grouped = df.groupby(\"year\")\n",
    "#    sampled = grouped.apply(lambda x: x.sample(n=min(n_per_year, len(x)), random_state=random_state))\n",
    "#    return sampled.reset_index(drop=True)"
   ]
  },
  {
   "cell_type": "code",
   "execution_count": 25,
   "id": "6d931f52-beaf-43ff-9e78-9d44a448d54e",
   "metadata": {
    "execution": {
     "iopub.execute_input": "2025-07-30T21:51:48.642271Z",
     "iopub.status.busy": "2025-07-30T21:51:48.641309Z",
     "iopub.status.idle": "2025-07-30T21:51:48.647101Z",
     "shell.execute_reply": "2025-07-30T21:51:48.646100Z"
    },
    "papermill": {
     "duration": 0.034957,
     "end_time": "2025-07-30T21:51:48.648916",
     "exception": false,
     "start_time": "2025-07-30T21:51:48.613959",
     "status": "completed"
    },
    "tags": []
   },
   "outputs": [],
   "source": [
    "#siab_s = sample_by_year(siab, universe[\"training_size\"])"
   ]
  },
  {
   "cell_type": "code",
   "execution_count": 26,
   "id": "5db0a40e-a4e2-4920-be85-b12ae061d70d",
   "metadata": {
    "execution": {
     "iopub.execute_input": "2025-07-30T21:51:48.702085Z",
     "iopub.status.busy": "2025-07-30T21:51:48.701350Z",
     "iopub.status.idle": "2025-07-30T21:51:48.706990Z",
     "shell.execute_reply": "2025-07-30T21:51:48.706004Z"
    },
    "papermill": {
     "duration": 0.033774,
     "end_time": "2025-07-30T21:51:48.708823",
     "exception": false,
     "start_time": "2025-07-30T21:51:48.675049",
     "status": "completed"
    },
    "tags": []
   },
   "outputs": [],
   "source": [
    "#display(siab_s.groupby(\"year\").size())"
   ]
  },
  {
   "cell_type": "code",
   "execution_count": 27,
   "id": "e6c733c5",
   "metadata": {
    "execution": {
     "iopub.execute_input": "2025-07-30T21:51:48.759255Z",
     "iopub.status.busy": "2025-07-30T21:51:48.758329Z",
     "iopub.status.idle": "2025-07-30T21:51:48.857383Z",
     "shell.execute_reply": "2025-07-30T21:51:48.856308Z"
    },
    "papermill": {
     "duration": 0.126375,
     "end_time": "2025-07-30T21:51:48.859531",
     "exception": false,
     "start_time": "2025-07-30T21:51:48.733156",
     "status": "completed"
    },
    "tags": []
   },
   "outputs": [],
   "source": [
    "# Auxiliary data needed downstream in the pipeline\n",
    "\n",
    "org_train = X_train.copy()\n",
    "org_test = X_test.copy()\n",
    "org_calib = X_calib.copy()"
   ]
  },
  {
   "cell_type": "code",
   "execution_count": 28,
   "id": "1466abac-c6da-4492-a62f-4240ae3783af",
   "metadata": {
    "execution": {
     "iopub.execute_input": "2025-07-30T21:51:48.911088Z",
     "iopub.status.busy": "2025-07-30T21:51:48.910359Z",
     "iopub.status.idle": "2025-07-30T21:51:48.916760Z",
     "shell.execute_reply": "2025-07-30T21:51:48.915629Z"
    },
    "papermill": {
     "duration": 0.034146,
     "end_time": "2025-07-30T21:51:48.918653",
     "exception": false,
     "start_time": "2025-07-30T21:51:48.884507",
     "status": "completed"
    },
    "tags": []
   },
   "outputs": [],
   "source": [
    "# put in other script?\n",
    "# Group sizes\n",
    "\n",
    "#def calculate_percentages(df, df_name):\n",
    "#    total_entries = len(df)\n",
    "#\n",
    "#    female_pct = (df['frau1'] == 1).mean() * 100\n",
    "#    non_german_pct = ((df['maxdeutsch1'] == 0) & (df['maxdeutsch.Missing.'] == 0)).mean() * 100\n",
    "#    non_german_male_pct = ((df['frau1'] == 0) & (df['maxdeutsch1'] == 0) & (df['maxdeutsch.Missing.'] == 0)).mean() * 100\n",
    "#    non_german_female_pct = ((df['frau1'] == 1) & (df['maxdeutsch1'] == 0) & (df['maxdeutsch.Missing.'] == 0)).mean() * 100\n",
    "#\n",
    "#    print(f\"--- {df_name} ---\")\n",
    "#    print(f\"Female: {female_pct:.2f}%\")\n",
    "#    print(f\"Non-German: {non_german_pct:.2f}%\")\n",
    "#    print(f\"Non-German Male: {non_german_male_pct:.2f}%\")\n",
    "#    print(f\"Non-German Female: {non_german_female_pct:.2f}%\\n\")\n",
    "#\n",
    "## Calculate for each DataFrame\n",
    "#calculate_percentages(siab_calib, \"siab_calib\")\n",
    "#calculate_percentages(siab_test, \"siab_test\")\n",
    "#calculate_percentages(siab_train, \"siab_train\")"
   ]
  },
  {
   "cell_type": "markdown",
   "id": "0a4a1b33",
   "metadata": {
    "papermill": {
     "duration": 0.023851,
     "end_time": "2025-07-30T21:51:48.967296",
     "exception": false,
     "start_time": "2025-07-30T21:51:48.943445",
     "status": "completed"
    },
    "tags": []
   },
   "source": [
    "# Preprocessing Data"
   ]
  },
  {
   "cell_type": "code",
   "execution_count": 29,
   "id": "ca879031",
   "metadata": {
    "execution": {
     "iopub.execute_input": "2025-07-30T21:51:49.016557Z",
     "iopub.status.busy": "2025-07-30T21:51:49.015855Z",
     "iopub.status.idle": "2025-07-30T21:51:49.022166Z",
     "shell.execute_reply": "2025-07-30T21:51:49.021087Z"
    },
    "papermill": {
     "duration": 0.033271,
     "end_time": "2025-07-30T21:51:49.024126",
     "exception": false,
     "start_time": "2025-07-30T21:51:48.990855",
     "status": "completed"
    },
    "tags": []
   },
   "outputs": [],
   "source": [
    "# EXCLUDE PROTECTED FEATURES\n",
    "# ----------------------\n",
    "# \"exclude_features\": \"none\", # \"nationality\", \"sex\", \"nationality-sex\"\n",
    "\n",
    "excluded_features = universe[\"exclude_features\"].split(\"-\") # split, e.g.: \"nationality-sex\" -> [\"nationality\", \"sex\"]\n",
    "excluded_features_dictionary = {\n",
    "    \"nationality\": [\"maxdeutsch1\", \"maxdeutsch.Missing.\"],\n",
    "    \"sex\": [\"frau1\"],\n",
    "    \"age\": [\"age\"],\n",
    "}\n"
   ]
  },
  {
   "cell_type": "code",
   "execution_count": 30,
   "id": "b745ac60",
   "metadata": {
    "execution": {
     "iopub.execute_input": "2025-07-30T21:51:49.072472Z",
     "iopub.status.busy": "2025-07-30T21:51:49.071927Z",
     "iopub.status.idle": "2025-07-30T21:51:49.077940Z",
     "shell.execute_reply": "2025-07-30T21:51:49.076934Z"
    },
    "papermill": {
     "duration": 0.03168,
     "end_time": "2025-07-30T21:51:49.079730",
     "exception": false,
     "start_time": "2025-07-30T21:51:49.048050",
     "status": "completed"
    },
    "tags": []
   },
   "outputs": [],
   "source": [
    "# Code nice names to column names\n",
    "\n",
    "excluded_features_columns = [\n",
    "    excluded_features_dictionary[f] for f in excluded_features if len(f) > 0 and f != \"none\"\n",
    "]"
   ]
  },
  {
   "cell_type": "code",
   "execution_count": 31,
   "id": "f84f73a2",
   "metadata": {
    "execution": {
     "iopub.execute_input": "2025-07-30T21:51:49.132551Z",
     "iopub.status.busy": "2025-07-30T21:51:49.131544Z",
     "iopub.status.idle": "2025-07-30T21:51:49.137937Z",
     "shell.execute_reply": "2025-07-30T21:51:49.136901Z"
    },
    "papermill": {
     "duration": 0.034611,
     "end_time": "2025-07-30T21:51:49.140079",
     "exception": false,
     "start_time": "2025-07-30T21:51:49.105468",
     "status": "completed"
    },
    "tags": []
   },
   "outputs": [],
   "source": [
    "from utils import flatten_once\n",
    "\n",
    "excluded_features_columns = flatten_once(excluded_features_columns)"
   ]
  },
  {
   "cell_type": "code",
   "execution_count": 32,
   "id": "884dea22",
   "metadata": {
    "execution": {
     "iopub.execute_input": "2025-07-30T21:51:49.191268Z",
     "iopub.status.busy": "2025-07-30T21:51:49.190741Z",
     "iopub.status.idle": "2025-07-30T21:51:49.199383Z",
     "shell.execute_reply": "2025-07-30T21:51:49.198150Z"
    },
    "papermill": {
     "duration": 0.035995,
     "end_time": "2025-07-30T21:51:49.201089",
     "exception": false,
     "start_time": "2025-07-30T21:51:49.165094",
     "status": "completed"
    },
    "tags": []
   },
   "outputs": [
    {
     "name": "stdout",
     "output_type": "stream",
     "text": [
      "Dropping features: ['maxdeutsch1', 'maxdeutsch.Missing.', 'frau1']\n"
     ]
    }
   ],
   "source": [
    "if len(excluded_features_columns) > 0:\n",
    "    print(f\"Dropping features: {excluded_features_columns}\")\n",
    "    X_train.drop(excluded_features_columns, axis=1, inplace=True)"
   ]
  },
  {
   "cell_type": "code",
   "execution_count": 33,
   "id": "95ab8b16",
   "metadata": {
    "execution": {
     "iopub.execute_input": "2025-07-30T21:51:49.255501Z",
     "iopub.status.busy": "2025-07-30T21:51:49.254769Z",
     "iopub.status.idle": "2025-07-30T21:51:49.313946Z",
     "shell.execute_reply": "2025-07-30T21:51:49.312685Z"
    },
    "papermill": {
     "duration": 0.087884,
     "end_time": "2025-07-30T21:51:49.315888",
     "exception": false,
     "start_time": "2025-07-30T21:51:49.228004",
     "status": "completed"
    },
    "tags": []
   },
   "outputs": [
    {
     "name": "stdout",
     "output_type": "stream",
     "text": [
      "Dropping features: ['maxdeutsch1', 'maxdeutsch.Missing.', 'frau1']\n"
     ]
    }
   ],
   "source": [
    "if len(excluded_features_columns) > 0:\n",
    "    print(f\"Dropping features: {excluded_features_columns}\")\n",
    "    X_test.drop(excluded_features_columns, axis=1, inplace=True)"
   ]
  },
  {
   "cell_type": "code",
   "execution_count": 34,
   "id": "1853aaf5-fb9f-46cb-a2b5-8ea4ae2237e4",
   "metadata": {
    "execution": {
     "iopub.execute_input": "2025-07-30T21:51:49.344331Z",
     "iopub.status.busy": "2025-07-30T21:51:49.343916Z",
     "iopub.status.idle": "2025-07-30T21:51:49.394830Z",
     "shell.execute_reply": "2025-07-30T21:51:49.393736Z"
    },
    "papermill": {
     "duration": 0.068131,
     "end_time": "2025-07-30T21:51:49.398549",
     "exception": false,
     "start_time": "2025-07-30T21:51:49.330418",
     "status": "completed"
    },
    "tags": []
   },
   "outputs": [
    {
     "name": "stdout",
     "output_type": "stream",
     "text": [
      "Dropping features: ['maxdeutsch1', 'maxdeutsch.Missing.', 'frau1']\n"
     ]
    }
   ],
   "source": [
    "if len(excluded_features_columns) > 0:\n",
    "    print(f\"Dropping features: {excluded_features_columns}\")\n",
    "    X_calib.drop(excluded_features_columns, axis=1, inplace=True)"
   ]
  },
  {
   "cell_type": "code",
   "execution_count": 35,
   "id": "6727d079-03e5-481e-9d38-292a90b7a0a8",
   "metadata": {
    "execution": {
     "iopub.execute_input": "2025-07-30T21:51:49.428313Z",
     "iopub.status.busy": "2025-07-30T21:51:49.427922Z",
     "iopub.status.idle": "2025-07-30T21:51:49.432566Z",
     "shell.execute_reply": "2025-07-30T21:51:49.431694Z"
    },
    "papermill": {
     "duration": 0.020034,
     "end_time": "2025-07-30T21:51:49.434108",
     "exception": false,
     "start_time": "2025-07-30T21:51:49.414074",
     "status": "completed"
    },
    "tags": []
   },
   "outputs": [],
   "source": [
    "# SPLIT & STRATIFY DATA\n",
    "# ----------------------"
   ]
  },
  {
   "cell_type": "code",
   "execution_count": 36,
   "id": "76c4dc6d",
   "metadata": {
    "execution": {
     "iopub.execute_input": "2025-07-30T21:51:49.462154Z",
     "iopub.status.busy": "2025-07-30T21:51:49.461208Z",
     "iopub.status.idle": "2025-07-30T21:51:49.467262Z",
     "shell.execute_reply": "2025-07-30T21:51:49.466385Z"
    },
    "papermill": {
     "duration": 0.021441,
     "end_time": "2025-07-30T21:51:49.469210",
     "exception": false,
     "start_time": "2025-07-30T21:51:49.447769",
     "status": "completed"
    },
    "tags": []
   },
   "outputs": [],
   "source": [
    "# EXCLUDE CERTAIN SUBGROUPS\n",
    "# ----------------------\n",
    "\n",
    "mode = universe.get(\"exclude_subgroups\", \"keep-all\") \n",
    "# Fetches the exclude_subgroups setting from the universe dict.\n",
    "# Defaults to \"keep-all\" if the key is missing."
   ]
  },
  {
   "cell_type": "code",
   "execution_count": 37,
   "id": "21994072",
   "metadata": {
    "execution": {
     "iopub.execute_input": "2025-07-30T21:51:49.497830Z",
     "iopub.status.busy": "2025-07-30T21:51:49.497239Z",
     "iopub.status.idle": "2025-07-30T21:51:49.503371Z",
     "shell.execute_reply": "2025-07-30T21:51:49.502590Z"
    },
    "papermill": {
     "duration": 0.022413,
     "end_time": "2025-07-30T21:51:49.504964",
     "exception": false,
     "start_time": "2025-07-30T21:51:49.482551",
     "status": "completed"
    },
    "tags": []
   },
   "outputs": [],
   "source": [
    "if mode == \"keep-all\":\n",
    "    keep_mask = pd.Series(True, index=org_train.index)\n",
    "\n",
    "# org_train contains the original feature columns from features_org (in Simson)\n",
    "# features_org contains unprocessed features, for me X_train at beginning ???\n",
    "# For keep-all, creates a boolean Series (keep_mask) of all True, so no rows are removed.\n",
    "\n",
    "elif mode == \"drop-non-german\":\n",
    "    keep_mask = org_train[\"maxdeutsch1\"] == 1 # ??? what about missing values?\n",
    "\n",
    "else:\n",
    "    raise ValueError(f\"Unsupported mode for exclude_subgroups: {mode}\")\n"
   ]
  },
  {
   "cell_type": "code",
   "execution_count": 38,
   "id": "71651440",
   "metadata": {
    "execution": {
     "iopub.execute_input": "2025-07-30T21:51:49.534102Z",
     "iopub.status.busy": "2025-07-30T21:51:49.533660Z",
     "iopub.status.idle": "2025-07-30T21:51:49.541956Z",
     "shell.execute_reply": "2025-07-30T21:51:49.541017Z"
    },
    "papermill": {
     "duration": 0.024995,
     "end_time": "2025-07-30T21:51:49.543559",
     "exception": false,
     "start_time": "2025-07-30T21:51:49.518564",
     "status": "completed"
    },
    "tags": []
   },
   "outputs": [],
   "source": [
    "n_drop = (~keep_mask).sum() # Calculates how many rows are set to be dropped\n",
    "if n_drop > 0:\n",
    "    pct = n_drop / len(keep_mask) * 100\n",
    "    print(f\"Dropping {n_drop} rows ({pct:.2f}%) where mode='{mode}'\")"
   ]
  },
  {
   "cell_type": "code",
   "execution_count": 39,
   "id": "5fb8eee5",
   "metadata": {
    "execution": {
     "iopub.execute_input": "2025-07-30T21:51:49.595721Z",
     "iopub.status.busy": "2025-07-30T21:51:49.594969Z",
     "iopub.status.idle": "2025-07-30T21:51:49.602170Z",
     "shell.execute_reply": "2025-07-30T21:51:49.600878Z"
    },
    "papermill": {
     "duration": 0.036444,
     "end_time": "2025-07-30T21:51:49.604235",
     "exception": false,
     "start_time": "2025-07-30T21:51:49.567791",
     "status": "completed"
    },
    "tags": []
   },
   "outputs": [],
   "source": [
    "X_train = X_train[keep_mask]"
   ]
  },
  {
   "cell_type": "code",
   "execution_count": 40,
   "id": "b202bb3a",
   "metadata": {
    "execution": {
     "iopub.execute_input": "2025-07-30T21:51:49.655196Z",
     "iopub.status.busy": "2025-07-30T21:51:49.654664Z",
     "iopub.status.idle": "2025-07-30T21:51:49.661514Z",
     "shell.execute_reply": "2025-07-30T21:51:49.660391Z"
    },
    "papermill": {
     "duration": 0.033973,
     "end_time": "2025-07-30T21:51:49.663566",
     "exception": false,
     "start_time": "2025-07-30T21:51:49.629593",
     "status": "completed"
    },
    "tags": []
   },
   "outputs": [],
   "source": [
    "y_train = y_train[keep_mask]"
   ]
  },
  {
   "cell_type": "markdown",
   "id": "493e2ac3",
   "metadata": {
    "papermill": {
     "duration": 0.029122,
     "end_time": "2025-07-30T21:51:49.721747",
     "exception": false,
     "start_time": "2025-07-30T21:51:49.692625",
     "status": "completed"
    },
    "tags": []
   },
   "source": [
    "# Model Training"
   ]
  },
  {
   "cell_type": "code",
   "execution_count": 41,
   "id": "679e1268",
   "metadata": {
    "execution": {
     "iopub.execute_input": "2025-07-30T21:51:49.777361Z",
     "iopub.status.busy": "2025-07-30T21:51:49.776885Z",
     "iopub.status.idle": "2025-07-30T21:51:49.889789Z",
     "shell.execute_reply": "2025-07-30T21:51:49.888476Z"
    },
    "papermill": {
     "duration": 0.143159,
     "end_time": "2025-07-30T21:51:49.891416",
     "exception": false,
     "start_time": "2025-07-30T21:51:49.748257",
     "status": "completed"
    },
    "tags": []
   },
   "outputs": [],
   "source": [
    "from sklearn.linear_model import LogisticRegression\n",
    "from sklearn.ensemble import GradientBoostingClassifier, RandomForestClassifier\n",
    "\n",
    "if (universe[\"model\"] == \"logreg\"):\n",
    "    model = LogisticRegression() #penalty=\"none\") #, solver=\"newton-cg\", max_iter=1) # include random_state=19 ?\n",
    "elif (universe[\"model\"] == \"penalized_logreg\"):\n",
    "    model = LogisticRegression(penalty=\"l2\", C=1.0) #, solver=\"newton-cg\", max_iter=1)\n",
    "elif (universe[\"model\"] == \"rf\"):\n",
    "    model = RandomForestClassifier(n_estimators=100, n_jobs=-1)\n",
    "elif (universe[\"model\"] == \"gbm\"):\n",
    "    model = GradientBoostingClassifier()\n",
    "elif (universe[\"model\"] == \"elasticnet\"):\n",
    "    model = LogisticRegression(penalty = 'elasticnet', solver = 'saga', l1_ratio = 0.5, max_iter=5000) # which solver to use?\n",
    "else:\n",
    "    raise \"Unsupported universe.model\""
   ]
  },
  {
   "cell_type": "code",
   "execution_count": 42,
   "id": "0cc8f744",
   "metadata": {
    "execution": {
     "iopub.execute_input": "2025-07-30T21:51:49.942814Z",
     "iopub.status.busy": "2025-07-30T21:51:49.941802Z",
     "iopub.status.idle": "2025-07-30T21:51:49.948732Z",
     "shell.execute_reply": "2025-07-30T21:51:49.947641Z"
    },
    "papermill": {
     "duration": 0.034164,
     "end_time": "2025-07-30T21:51:49.950458",
     "exception": false,
     "start_time": "2025-07-30T21:51:49.916294",
     "status": "completed"
    },
    "tags": []
   },
   "outputs": [],
   "source": [
    "import numpy as np\n",
    "from sklearn.pipeline import Pipeline\n",
    "from sklearn.preprocessing import StandardScaler\n",
    "\n",
    "model = Pipeline([\n",
    "    #(\"continuous_processor\", continuous_processor),\n",
    "    #(\"categorical_preprocessor\", categorical_preprocessor),\n",
    "    (\"scale\", StandardScaler() if universe[\"scale\"] == \"scale\" else None), \n",
    "    (\"model\", model),\n",
    "])"
   ]
  },
  {
   "cell_type": "code",
   "execution_count": 43,
   "id": "9442c04d",
   "metadata": {
    "execution": {
     "iopub.execute_input": "2025-07-30T21:51:50.005147Z",
     "iopub.status.busy": "2025-07-30T21:51:50.004115Z",
     "iopub.status.idle": "2025-07-30T21:51:50.400477Z",
     "shell.execute_reply": "2025-07-30T21:51:50.399513Z"
    },
    "papermill": {
     "duration": 0.424463,
     "end_time": "2025-07-30T21:51:50.402521",
     "exception": false,
     "start_time": "2025-07-30T21:51:49.978058",
     "status": "completed"
    },
    "tags": []
   },
   "outputs": [
    {
     "data": {
      "text/html": [
       "<style>#sk-container-id-1 {color: black;background-color: white;}#sk-container-id-1 pre{padding: 0;}#sk-container-id-1 div.sk-toggleable {background-color: white;}#sk-container-id-1 label.sk-toggleable__label {cursor: pointer;display: block;width: 100%;margin-bottom: 0;padding: 0.3em;box-sizing: border-box;text-align: center;}#sk-container-id-1 label.sk-toggleable__label-arrow:before {content: \"▸\";float: left;margin-right: 0.25em;color: #696969;}#sk-container-id-1 label.sk-toggleable__label-arrow:hover:before {color: black;}#sk-container-id-1 div.sk-estimator:hover label.sk-toggleable__label-arrow:before {color: black;}#sk-container-id-1 div.sk-toggleable__content {max-height: 0;max-width: 0;overflow: hidden;text-align: left;background-color: #f0f8ff;}#sk-container-id-1 div.sk-toggleable__content pre {margin: 0.2em;color: black;border-radius: 0.25em;background-color: #f0f8ff;}#sk-container-id-1 input.sk-toggleable__control:checked~div.sk-toggleable__content {max-height: 200px;max-width: 100%;overflow: auto;}#sk-container-id-1 input.sk-toggleable__control:checked~label.sk-toggleable__label-arrow:before {content: \"▾\";}#sk-container-id-1 div.sk-estimator input.sk-toggleable__control:checked~label.sk-toggleable__label {background-color: #d4ebff;}#sk-container-id-1 div.sk-label input.sk-toggleable__control:checked~label.sk-toggleable__label {background-color: #d4ebff;}#sk-container-id-1 input.sk-hidden--visually {border: 0;clip: rect(1px 1px 1px 1px);clip: rect(1px, 1px, 1px, 1px);height: 1px;margin: -1px;overflow: hidden;padding: 0;position: absolute;width: 1px;}#sk-container-id-1 div.sk-estimator {font-family: monospace;background-color: #f0f8ff;border: 1px dotted black;border-radius: 0.25em;box-sizing: border-box;margin-bottom: 0.5em;}#sk-container-id-1 div.sk-estimator:hover {background-color: #d4ebff;}#sk-container-id-1 div.sk-parallel-item::after {content: \"\";width: 100%;border-bottom: 1px solid gray;flex-grow: 1;}#sk-container-id-1 div.sk-label:hover label.sk-toggleable__label {background-color: #d4ebff;}#sk-container-id-1 div.sk-serial::before {content: \"\";position: absolute;border-left: 1px solid gray;box-sizing: border-box;top: 0;bottom: 0;left: 50%;z-index: 0;}#sk-container-id-1 div.sk-serial {display: flex;flex-direction: column;align-items: center;background-color: white;padding-right: 0.2em;padding-left: 0.2em;position: relative;}#sk-container-id-1 div.sk-item {position: relative;z-index: 1;}#sk-container-id-1 div.sk-parallel {display: flex;align-items: stretch;justify-content: center;background-color: white;position: relative;}#sk-container-id-1 div.sk-item::before, #sk-container-id-1 div.sk-parallel-item::before {content: \"\";position: absolute;border-left: 1px solid gray;box-sizing: border-box;top: 0;bottom: 0;left: 50%;z-index: -1;}#sk-container-id-1 div.sk-parallel-item {display: flex;flex-direction: column;z-index: 1;position: relative;background-color: white;}#sk-container-id-1 div.sk-parallel-item:first-child::after {align-self: flex-end;width: 50%;}#sk-container-id-1 div.sk-parallel-item:last-child::after {align-self: flex-start;width: 50%;}#sk-container-id-1 div.sk-parallel-item:only-child::after {width: 0;}#sk-container-id-1 div.sk-dashed-wrapped {border: 1px dashed gray;margin: 0 0.4em 0.5em 0.4em;box-sizing: border-box;padding-bottom: 0.4em;background-color: white;}#sk-container-id-1 div.sk-label label {font-family: monospace;font-weight: bold;display: inline-block;line-height: 1.2em;}#sk-container-id-1 div.sk-label-container {text-align: center;}#sk-container-id-1 div.sk-container {/* jupyter's `normalize.less` sets `[hidden] { display: none; }` but bootstrap.min.css set `[hidden] { display: none !important; }` so we also need the `!important` here to be able to override the default hidden behavior on the sphinx rendered scikit-learn.org. See: https://github.com/scikit-learn/scikit-learn/issues/21755 */display: inline-block !important;position: relative;}#sk-container-id-1 div.sk-text-repr-fallback {display: none;}</style><div id=\"sk-container-id-1\" class=\"sk-top-container\"><div class=\"sk-text-repr-fallback\"><pre>Pipeline(steps=[(&#x27;scale&#x27;, None), (&#x27;model&#x27;, RandomForestClassifier(n_jobs=-1))])</pre><b>In a Jupyter environment, please rerun this cell to show the HTML representation or trust the notebook. <br />On GitHub, the HTML representation is unable to render, please try loading this page with nbviewer.org.</b></div><div class=\"sk-container\" hidden><div class=\"sk-item sk-dashed-wrapped\"><div class=\"sk-label-container\"><div class=\"sk-label sk-toggleable\"><input class=\"sk-toggleable__control sk-hidden--visually\" id=\"sk-estimator-id-1\" type=\"checkbox\" ><label for=\"sk-estimator-id-1\" class=\"sk-toggleable__label sk-toggleable__label-arrow\">Pipeline</label><div class=\"sk-toggleable__content\"><pre>Pipeline(steps=[(&#x27;scale&#x27;, None), (&#x27;model&#x27;, RandomForestClassifier(n_jobs=-1))])</pre></div></div></div><div class=\"sk-serial\"><div class=\"sk-item\"><div class=\"sk-estimator sk-toggleable\"><input class=\"sk-toggleable__control sk-hidden--visually\" id=\"sk-estimator-id-2\" type=\"checkbox\" ><label for=\"sk-estimator-id-2\" class=\"sk-toggleable__label sk-toggleable__label-arrow\">None</label><div class=\"sk-toggleable__content\"><pre>None</pre></div></div></div><div class=\"sk-item\"><div class=\"sk-estimator sk-toggleable\"><input class=\"sk-toggleable__control sk-hidden--visually\" id=\"sk-estimator-id-3\" type=\"checkbox\" ><label for=\"sk-estimator-id-3\" class=\"sk-toggleable__label sk-toggleable__label-arrow\">RandomForestClassifier</label><div class=\"sk-toggleable__content\"><pre>RandomForestClassifier(n_jobs=-1)</pre></div></div></div></div></div></div></div>"
      ],
      "text/plain": [
       "Pipeline(steps=[('scale', None), ('model', RandomForestClassifier(n_jobs=-1))])"
      ]
     },
     "execution_count": 43,
     "metadata": {},
     "output_type": "execute_result"
    }
   ],
   "source": [
    "model.fit(X_train, y_train.values.ravel())"
   ]
  },
  {
   "cell_type": "code",
   "execution_count": 44,
   "id": "af59f8c0",
   "metadata": {
    "execution": {
     "iopub.execute_input": "2025-07-30T21:51:50.464861Z",
     "iopub.status.busy": "2025-07-30T21:51:50.464074Z",
     "iopub.status.idle": "2025-07-30T21:51:50.470393Z",
     "shell.execute_reply": "2025-07-30T21:51:50.469256Z"
    },
    "papermill": {
     "duration": 0.040188,
     "end_time": "2025-07-30T21:51:50.472787",
     "exception": false,
     "start_time": "2025-07-30T21:51:50.432599",
     "status": "completed"
    },
    "tags": []
   },
   "outputs": [],
   "source": [
    "from fairness_multiverse.universe import predict_w_threshold"
   ]
  },
  {
   "cell_type": "code",
   "execution_count": 45,
   "id": "a7cf2e16",
   "metadata": {
    "execution": {
     "iopub.execute_input": "2025-07-30T21:51:50.535628Z",
     "iopub.status.busy": "2025-07-30T21:51:50.534963Z",
     "iopub.status.idle": "2025-07-30T21:51:51.447719Z",
     "shell.execute_reply": "2025-07-30T21:51:51.446993Z"
    },
    "papermill": {
     "duration": 0.945693,
     "end_time": "2025-07-30T21:51:51.449016",
     "exception": false,
     "start_time": "2025-07-30T21:51:50.503323",
     "status": "completed"
    },
    "tags": []
   },
   "outputs": [
    {
     "data": {
      "text/plain": [
       "0.8617656894437632"
      ]
     },
     "execution_count": 45,
     "metadata": {},
     "output_type": "execute_result"
    }
   ],
   "source": [
    "probs_test = model.predict_proba(X_test)\n",
    "\n",
    "'''\n",
    "Below code returns a boolean array (or binary 0/1 array depending on how it’s used) where each element \n",
    "is True if the probability of class 1 is greater than or equal to the threshold, and False otherwise.\n",
    "'''\n",
    "y_pred_default = predict_w_threshold(probs_test, 0.5)\n",
    "\n",
    "from sklearn.metrics import accuracy_score\n",
    "\n",
    "# Naive prediction\n",
    "accuracy_score(y_true = y_true, y_pred = y_pred_default)"
   ]
  },
  {
   "cell_type": "code",
   "execution_count": 46,
   "id": "081964c3",
   "metadata": {
    "execution": {
     "iopub.execute_input": "2025-07-30T21:51:51.476949Z",
     "iopub.status.busy": "2025-07-30T21:51:51.476434Z",
     "iopub.status.idle": "2025-07-30T21:51:52.357240Z",
     "shell.execute_reply": "2025-07-30T21:51:52.356542Z"
    },
    "papermill": {
     "duration": 0.896021,
     "end_time": "2025-07-30T21:51:52.358527",
     "exception": false,
     "start_time": "2025-07-30T21:51:51.462506",
     "status": "completed"
    },
    "tags": []
   },
   "outputs": [
    {
     "data": {
      "text/plain": [
       "array([0, 0, 0, ..., 0, 0, 0])"
      ]
     },
     "execution_count": 46,
     "metadata": {},
     "output_type": "execute_result"
    }
   ],
   "source": [
    "model.predict(X_test)"
   ]
  },
  {
   "cell_type": "markdown",
   "id": "56c9705b",
   "metadata": {
    "papermill": {
     "duration": 0.026522,
     "end_time": "2025-07-30T21:51:52.411637",
     "exception": false,
     "start_time": "2025-07-30T21:51:52.385115",
     "status": "completed"
    },
    "tags": []
   },
   "source": [
    "# Conformal Prediction"
   ]
  },
  {
   "cell_type": "code",
   "execution_count": 47,
   "id": "160ec6ff",
   "metadata": {
    "execution": {
     "iopub.execute_input": "2025-07-30T21:51:52.458491Z",
     "iopub.status.busy": "2025-07-30T21:51:52.458187Z",
     "iopub.status.idle": "2025-07-30T21:51:52.462726Z",
     "shell.execute_reply": "2025-07-30T21:51:52.461858Z"
    },
    "papermill": {
     "duration": 0.026588,
     "end_time": "2025-07-30T21:51:52.464348",
     "exception": false,
     "start_time": "2025-07-30T21:51:52.437760",
     "status": "completed"
    },
    "tags": []
   },
   "outputs": [],
   "source": [
    "# Miscoverage level for conformal prediction (10% allowed error rate => 90% target coverage)\n",
    "alpha = 0.1"
   ]
  },
  {
   "cell_type": "code",
   "execution_count": 48,
   "id": "eadf4555-3dd3-440e-8e35-f82a4ad9f855",
   "metadata": {
    "execution": {
     "iopub.execute_input": "2025-07-30T21:51:52.493494Z",
     "iopub.status.busy": "2025-07-30T21:51:52.492975Z",
     "iopub.status.idle": "2025-07-30T21:51:53.302513Z",
     "shell.execute_reply": "2025-07-30T21:51:53.301235Z"
    },
    "papermill": {
     "duration": 0.825831,
     "end_time": "2025-07-30T21:51:53.304753",
     "exception": false,
     "start_time": "2025-07-30T21:51:52.478922",
     "status": "completed"
    },
    "tags": []
   },
   "outputs": [],
   "source": [
    "probs_calib = model.predict_proba(X_calib)"
   ]
  },
  {
   "cell_type": "code",
   "execution_count": 49,
   "id": "2ed93547-6d5d-4983-9b36-1ecb300da49a",
   "metadata": {
    "execution": {
     "iopub.execute_input": "2025-07-30T21:51:53.354204Z",
     "iopub.status.busy": "2025-07-30T21:51:53.353856Z",
     "iopub.status.idle": "2025-07-30T21:51:53.358449Z",
     "shell.execute_reply": "2025-07-30T21:51:53.357542Z"
    },
    "papermill": {
     "duration": 0.029633,
     "end_time": "2025-07-30T21:51:53.359868",
     "exception": false,
     "start_time": "2025-07-30T21:51:53.330235",
     "status": "completed"
    },
    "tags": []
   },
   "outputs": [],
   "source": [
    "y_calib = y_calib.values.ravel().astype(int)"
   ]
  },
  {
   "cell_type": "code",
   "execution_count": 50,
   "id": "65d1320d-f588-4b38-9072-62af1ae97f7d",
   "metadata": {
    "execution": {
     "iopub.execute_input": "2025-07-30T21:51:53.393585Z",
     "iopub.status.busy": "2025-07-30T21:51:53.393005Z",
     "iopub.status.idle": "2025-07-30T21:51:53.399628Z",
     "shell.execute_reply": "2025-07-30T21:51:53.398696Z"
    },
    "papermill": {
     "duration": 0.027632,
     "end_time": "2025-07-30T21:51:53.401385",
     "exception": false,
     "start_time": "2025-07-30T21:51:53.373753",
     "status": "completed"
    },
    "tags": []
   },
   "outputs": [],
   "source": [
    "from fairness_multiverse.conformal import compute_nc_scores\n",
    "\n",
    "# Compute nonconformity scores on calibration set (1 - probability of true class)\n",
    "nc_scores = compute_nc_scores(probs_calib, y_calib)"
   ]
  },
  {
   "cell_type": "code",
   "execution_count": 51,
   "id": "df3b8ca3-53b7-43d5-9667-7c85da7aeda2",
   "metadata": {
    "execution": {
     "iopub.execute_input": "2025-07-30T21:51:53.448070Z",
     "iopub.status.busy": "2025-07-30T21:51:53.447569Z",
     "iopub.status.idle": "2025-07-30T21:51:53.453932Z",
     "shell.execute_reply": "2025-07-30T21:51:53.453235Z"
    },
    "papermill": {
     "duration": 0.029492,
     "end_time": "2025-07-30T21:51:53.455264",
     "exception": false,
     "start_time": "2025-07-30T21:51:53.425772",
     "status": "completed"
    },
    "tags": []
   },
   "outputs": [],
   "source": [
    "from fairness_multiverse.conformal import find_threshold\n",
    "\n",
    "# Find conformal threshold q_hat for the given alpha (split conformal method)\n",
    "q_hat = find_threshold(nc_scores, alpha)"
   ]
  },
  {
   "cell_type": "code",
   "execution_count": 52,
   "id": "4d29e6c1-0ef6-4aa4-b8fe-4fe79b0d033a",
   "metadata": {
    "execution": {
     "iopub.execute_input": "2025-07-30T21:51:53.482861Z",
     "iopub.status.busy": "2025-07-30T21:51:53.482361Z",
     "iopub.status.idle": "2025-07-30T21:51:53.489766Z",
     "shell.execute_reply": "2025-07-30T21:51:53.488164Z"
    },
    "papermill": {
     "duration": 0.022847,
     "end_time": "2025-07-30T21:51:53.491696",
     "exception": false,
     "start_time": "2025-07-30T21:51:53.468849",
     "status": "completed"
    },
    "tags": []
   },
   "outputs": [
    {
     "data": {
      "text/plain": [
       "0.65"
      ]
     },
     "execution_count": 52,
     "metadata": {},
     "output_type": "execute_result"
    }
   ],
   "source": [
    "q_hat"
   ]
  },
  {
   "cell_type": "code",
   "execution_count": 53,
   "id": "92460794-cdac-4be2-ba28-f28c0515a6fb",
   "metadata": {
    "execution": {
     "iopub.execute_input": "2025-07-30T21:51:53.521044Z",
     "iopub.status.busy": "2025-07-30T21:51:53.520537Z",
     "iopub.status.idle": "2025-07-30T21:51:54.788217Z",
     "shell.execute_reply": "2025-07-30T21:51:54.787445Z"
    },
    "papermill": {
     "duration": 1.282795,
     "end_time": "2025-07-30T21:51:54.789710",
     "exception": false,
     "start_time": "2025-07-30T21:51:53.506915",
     "status": "completed"
    },
    "tags": []
   },
   "outputs": [],
   "source": [
    "from fairness_multiverse.conformal import predict_conformal_sets\n",
    "\n",
    "# Generate prediction sets for each test example\n",
    "pred_sets = predict_conformal_sets(model, X_test, q_hat)"
   ]
  },
  {
   "cell_type": "code",
   "execution_count": 54,
   "id": "d90c9a65-e6db-4f5d-80cd-e68fb7e46829",
   "metadata": {
    "execution": {
     "iopub.execute_input": "2025-07-30T21:51:54.818487Z",
     "iopub.status.busy": "2025-07-30T21:51:54.817933Z",
     "iopub.status.idle": "2025-07-30T21:51:54.822686Z",
     "shell.execute_reply": "2025-07-30T21:51:54.821879Z"
    },
    "papermill": {
     "duration": 0.020923,
     "end_time": "2025-07-30T21:51:54.824155",
     "exception": false,
     "start_time": "2025-07-30T21:51:54.803232",
     "status": "completed"
    },
    "tags": []
   },
   "outputs": [],
   "source": [
    "y_true = y_true.squeeze()"
   ]
  },
  {
   "cell_type": "code",
   "execution_count": 55,
   "id": "3a58a54a-1e68-46b9-927a-df01f18aebc8",
   "metadata": {
    "execution": {
     "iopub.execute_input": "2025-07-30T21:51:54.853686Z",
     "iopub.status.busy": "2025-07-30T21:51:54.853267Z",
     "iopub.status.idle": "2025-07-30T21:51:55.388579Z",
     "shell.execute_reply": "2025-07-30T21:51:55.387758Z"
    },
    "papermill": {
     "duration": 0.55143,
     "end_time": "2025-07-30T21:51:55.390066",
     "exception": false,
     "start_time": "2025-07-30T21:51:54.838636",
     "status": "completed"
    },
    "tags": []
   },
   "outputs": [],
   "source": [
    "from fairness_multiverse.conformal import evaluate_sets\n",
    "\n",
    "# Evaluate coverage and average set size on test data\n",
    "metrics = evaluate_sets(pred_sets, y_true)"
   ]
  },
  {
   "cell_type": "markdown",
   "id": "2b569c12-9aaa-4c88-98c9-bbcd0cf3ebb8",
   "metadata": {
    "papermill": {
     "duration": 0.027117,
     "end_time": "2025-07-30T21:51:55.434969",
     "exception": false,
     "start_time": "2025-07-30T21:51:55.407852",
     "status": "completed"
    },
    "tags": []
   },
   "source": [
    "# CP Metrics"
   ]
  },
  {
   "cell_type": "code",
   "execution_count": 56,
   "id": "5ce0a5cb-201f-45a0-ade5-94c7f0bd6095",
   "metadata": {
    "execution": {
     "iopub.execute_input": "2025-07-30T21:51:55.494642Z",
     "iopub.status.busy": "2025-07-30T21:51:55.494243Z",
     "iopub.status.idle": "2025-07-30T21:51:55.501065Z",
     "shell.execute_reply": "2025-07-30T21:51:55.500073Z"
    },
    "papermill": {
     "duration": 0.038725,
     "end_time": "2025-07-30T21:51:55.502734",
     "exception": false,
     "start_time": "2025-07-30T21:51:55.464009",
     "status": "completed"
    },
    "tags": []
   },
   "outputs": [
    {
     "data": {
      "text/plain": [
       "{'coverage': 0.9142793445546762, 'avg_size': 1.1539293278341323}"
      ]
     },
     "execution_count": 56,
     "metadata": {},
     "output_type": "execute_result"
    }
   ],
   "source": [
    "metrics"
   ]
  },
  {
   "cell_type": "code",
   "execution_count": 57,
   "id": "9b9a838d-31c9-430b-ae14-12baee460d17",
   "metadata": {
    "execution": {
     "iopub.execute_input": "2025-07-30T21:51:55.553824Z",
     "iopub.status.busy": "2025-07-30T21:51:55.553316Z",
     "iopub.status.idle": "2025-07-30T21:51:55.558816Z",
     "shell.execute_reply": "2025-07-30T21:51:55.558091Z"
    },
    "papermill": {
     "duration": 0.031049,
     "end_time": "2025-07-30T21:51:55.560195",
     "exception": false,
     "start_time": "2025-07-30T21:51:55.529146",
     "status": "completed"
    },
    "tags": []
   },
   "outputs": [],
   "source": [
    "example_universe = universe.copy()\n",
    "universe_training_year = example_universe.get(\"training_year\")\n",
    "universe_training_size = example_universe.get(\"training_size\")\n",
    "universe_scale = example_universe.get(\"scale\")\n",
    "universe_model = example_universe.get(\"model\")\n",
    "universe_exclude_features = example_universe.get(\"exclude_features\")\n",
    "universe_exclude_subgroups = example_universe.get(\"exclude_subgroups\")"
   ]
  },
  {
   "cell_type": "code",
   "execution_count": 58,
   "id": "f4b6a8ac-9dc0-4245-8a91-5b3b5999c4f9",
   "metadata": {
    "execution": {
     "iopub.execute_input": "2025-07-30T21:51:55.590931Z",
     "iopub.status.busy": "2025-07-30T21:51:55.590571Z",
     "iopub.status.idle": "2025-07-30T21:51:55.598027Z",
     "shell.execute_reply": "2025-07-30T21:51:55.596845Z"
    },
    "papermill": {
     "duration": 0.024165,
     "end_time": "2025-07-30T21:51:55.599516",
     "exception": false,
     "start_time": "2025-07-30T21:51:55.575351",
     "status": "completed"
    },
    "tags": []
   },
   "outputs": [],
   "source": [
    "cp_metrics_dict = {\n",
    "    \"universe_id\": [universe_id],\n",
    "    \"universe_training_year\": [universe_training_year],\n",
    "    \"universe_training_size\": [universe_training_size],\n",
    "    \"universe_scale\": [universe_scale],\n",
    "    \"universe_model\": [universe_model],\n",
    "    \"universe_exclude_features\": [universe_exclude_features],\n",
    "    \"universe_exclude_subgroups\": [universe_exclude_subgroups],\n",
    "    \"q_hat\": [q_hat],\n",
    "    \"coverage\": [metrics[\"coverage\"]],\n",
    "    \"avg_size\": [metrics[\"avg_size\"]],\n",
    "}"
   ]
  },
  {
   "cell_type": "code",
   "execution_count": 59,
   "id": "908acbb1-0371-4915-85ca-3fa520d2efe2",
   "metadata": {
    "execution": {
     "iopub.execute_input": "2025-07-30T21:51:55.645081Z",
     "iopub.status.busy": "2025-07-30T21:51:55.643981Z",
     "iopub.status.idle": "2025-07-30T21:51:55.652714Z",
     "shell.execute_reply": "2025-07-30T21:51:55.651506Z"
    },
    "papermill": {
     "duration": 0.037856,
     "end_time": "2025-07-30T21:51:55.654856",
     "exception": false,
     "start_time": "2025-07-30T21:51:55.617000",
     "status": "completed"
    },
    "tags": []
   },
   "outputs": [
    {
     "data": {
      "text/plain": [
       "{'universe_id': ['9b173fb5f5e13300e8755e6cda41fc19'],\n",
       " 'universe_training_year': ['2010_14'],\n",
       " 'universe_training_size': ['1k'],\n",
       " 'universe_scale': ['do-not-scale'],\n",
       " 'universe_model': ['rf'],\n",
       " 'universe_exclude_features': ['nationality-sex'],\n",
       " 'universe_exclude_subgroups': ['keep-all'],\n",
       " 'q_hat': [0.65],\n",
       " 'coverage': [0.9142793445546762],\n",
       " 'avg_size': [1.1539293278341323]}"
      ]
     },
     "execution_count": 59,
     "metadata": {},
     "output_type": "execute_result"
    }
   ],
   "source": [
    "cp_metrics_dict"
   ]
  },
  {
   "cell_type": "code",
   "execution_count": 60,
   "id": "33007efc-14e9-4ec6-97ac-56a455c82265",
   "metadata": {
    "execution": {
     "iopub.execute_input": "2025-07-30T21:51:55.735564Z",
     "iopub.status.busy": "2025-07-30T21:51:55.734934Z",
     "iopub.status.idle": "2025-07-30T21:51:55.743211Z",
     "shell.execute_reply": "2025-07-30T21:51:55.741819Z"
    },
    "papermill": {
     "duration": 0.051498,
     "end_time": "2025-07-30T21:51:55.746249",
     "exception": false,
     "start_time": "2025-07-30T21:51:55.694751",
     "status": "completed"
    },
    "tags": []
   },
   "outputs": [],
   "source": [
    "cp_metrics_df = pd.DataFrame(cp_metrics_dict)"
   ]
  },
  {
   "cell_type": "code",
   "execution_count": 61,
   "id": "db12611b-57b2-4910-b9d0-355adfd6e7bf",
   "metadata": {
    "execution": {
     "iopub.execute_input": "2025-07-30T21:51:55.827338Z",
     "iopub.status.busy": "2025-07-30T21:51:55.826688Z",
     "iopub.status.idle": "2025-07-30T21:51:55.853596Z",
     "shell.execute_reply": "2025-07-30T21:51:55.852457Z"
    },
    "papermill": {
     "duration": 0.069089,
     "end_time": "2025-07-30T21:51:55.855417",
     "exception": false,
     "start_time": "2025-07-30T21:51:55.786328",
     "status": "completed"
    },
    "tags": []
   },
   "outputs": [
    {
     "data": {
      "text/html": [
       "<div>\n",
       "<style scoped>\n",
       "    .dataframe tbody tr th:only-of-type {\n",
       "        vertical-align: middle;\n",
       "    }\n",
       "\n",
       "    .dataframe tbody tr th {\n",
       "        vertical-align: top;\n",
       "    }\n",
       "\n",
       "    .dataframe thead th {\n",
       "        text-align: right;\n",
       "    }\n",
       "</style>\n",
       "<table border=\"1\" class=\"dataframe\">\n",
       "  <thead>\n",
       "    <tr style=\"text-align: right;\">\n",
       "      <th></th>\n",
       "      <th>universe_id</th>\n",
       "      <th>universe_training_year</th>\n",
       "      <th>universe_training_size</th>\n",
       "      <th>universe_scale</th>\n",
       "      <th>universe_model</th>\n",
       "      <th>universe_exclude_features</th>\n",
       "      <th>universe_exclude_subgroups</th>\n",
       "      <th>q_hat</th>\n",
       "      <th>coverage</th>\n",
       "      <th>avg_size</th>\n",
       "    </tr>\n",
       "  </thead>\n",
       "  <tbody>\n",
       "    <tr>\n",
       "      <th>0</th>\n",
       "      <td>9b173fb5f5e13300e8755e6cda41fc19</td>\n",
       "      <td>2010_14</td>\n",
       "      <td>1k</td>\n",
       "      <td>do-not-scale</td>\n",
       "      <td>rf</td>\n",
       "      <td>nationality-sex</td>\n",
       "      <td>keep-all</td>\n",
       "      <td>0.65</td>\n",
       "      <td>0.914279</td>\n",
       "      <td>1.153929</td>\n",
       "    </tr>\n",
       "  </tbody>\n",
       "</table>\n",
       "</div>"
      ],
      "text/plain": [
       "                        universe_id universe_training_year  \\\n",
       "0  9b173fb5f5e13300e8755e6cda41fc19                2010_14   \n",
       "\n",
       "  universe_training_size universe_scale universe_model  \\\n",
       "0                     1k   do-not-scale             rf   \n",
       "\n",
       "  universe_exclude_features universe_exclude_subgroups  q_hat  coverage  \\\n",
       "0           nationality-sex                   keep-all   0.65  0.914279   \n",
       "\n",
       "   avg_size  \n",
       "0  1.153929  "
      ]
     },
     "execution_count": 61,
     "metadata": {},
     "output_type": "execute_result"
    }
   ],
   "source": [
    "cp_metrics_df"
   ]
  },
  {
   "cell_type": "code",
   "execution_count": 62,
   "id": "b7fbde55-a0a1-47e4-9af6-fe4a17fa8c61",
   "metadata": {
    "execution": {
     "iopub.execute_input": "2025-07-30T21:51:55.916455Z",
     "iopub.status.busy": "2025-07-30T21:51:55.915886Z",
     "iopub.status.idle": "2025-07-30T21:51:55.921237Z",
     "shell.execute_reply": "2025-07-30T21:51:55.919345Z"
    },
    "papermill": {
     "duration": 0.039421,
     "end_time": "2025-07-30T21:51:55.922557",
     "exception": false,
     "start_time": "2025-07-30T21:51:55.883136",
     "status": "completed"
    },
    "tags": []
   },
   "outputs": [],
   "source": [
    "# Conditional Coverage & looking at subgroups"
   ]
  },
  {
   "cell_type": "code",
   "execution_count": 63,
   "id": "027ae886-68dd-4141-96c7-805a5450e1ef",
   "metadata": {
    "execution": {
     "iopub.execute_input": "2025-07-30T21:51:55.981804Z",
     "iopub.status.busy": "2025-07-30T21:51:55.981223Z",
     "iopub.status.idle": "2025-07-30T21:51:56.311486Z",
     "shell.execute_reply": "2025-07-30T21:51:56.308133Z"
    },
    "papermill": {
     "duration": 0.362966,
     "end_time": "2025-07-30T21:51:56.314216",
     "exception": false,
     "start_time": "2025-07-30T21:51:55.951250",
     "status": "completed"
    },
    "tags": []
   },
   "outputs": [],
   "source": [
    "from fairness_multiverse.conformal import build_cp_groups\n",
    "\n",
    "cp_groups_df = build_cp_groups(pred_sets, y_true, X_test.index, org_test)\n",
    "#needs universe_id and setting"
   ]
  },
  {
   "cell_type": "code",
   "execution_count": 64,
   "id": "01d5802c-663a-4d1f-9d69-e036faaffbf7",
   "metadata": {
    "execution": {
     "iopub.execute_input": "2025-07-30T21:51:56.380278Z",
     "iopub.status.busy": "2025-07-30T21:51:56.379655Z",
     "iopub.status.idle": "2025-07-30T21:51:56.385027Z",
     "shell.execute_reply": "2025-07-30T21:51:56.383989Z"
    },
    "papermill": {
     "duration": 0.036978,
     "end_time": "2025-07-30T21:51:56.386686",
     "exception": false,
     "start_time": "2025-07-30T21:51:56.349708",
     "status": "completed"
    },
    "tags": []
   },
   "outputs": [],
   "source": [
    "#delete\n",
    "#cp_groups_df"
   ]
  },
  {
   "cell_type": "code",
   "execution_count": 65,
   "id": "fa424af1-d1eb-443d-b717-2d279ada8408",
   "metadata": {
    "execution": {
     "iopub.execute_input": "2025-07-30T21:51:56.439803Z",
     "iopub.status.busy": "2025-07-30T21:51:56.439309Z",
     "iopub.status.idle": "2025-07-30T21:51:56.451071Z",
     "shell.execute_reply": "2025-07-30T21:51:56.449979Z"
    },
    "papermill": {
     "duration": 0.040681,
     "end_time": "2025-07-30T21:51:56.452788",
     "exception": false,
     "start_time": "2025-07-30T21:51:56.412107",
     "status": "completed"
    },
    "tags": []
   },
   "outputs": [],
   "source": [
    "#delete\n",
    "#percentage = (cp_groups_df['nongerman_female'] == 1).mean() * 100\n",
    "#print(percentage)\n"
   ]
  },
  {
   "cell_type": "code",
   "execution_count": 66,
   "id": "6cbdab96-b2b2-45af-ad54-d0516db2e28d",
   "metadata": {
    "execution": {
     "iopub.execute_input": "2025-07-30T21:51:56.510311Z",
     "iopub.status.busy": "2025-07-30T21:51:56.509584Z",
     "iopub.status.idle": "2025-07-30T21:51:58.494294Z",
     "shell.execute_reply": "2025-07-30T21:51:58.493392Z"
    },
    "papermill": {
     "duration": 2.016716,
     "end_time": "2025-07-30T21:51:58.496157",
     "exception": false,
     "start_time": "2025-07-30T21:51:56.479441",
     "status": "completed"
    },
    "tags": []
   },
   "outputs": [],
   "source": [
    "# Define covered = 1 if true_label is in the predicted set\n",
    "cp_groups_df['covered'] = cp_groups_df.apply(\n",
    "    lambda r: int(r['true_label'] in r['pred_set']),\n",
    "    axis=1\n",
    ")"
   ]
  },
  {
   "cell_type": "code",
   "execution_count": 67,
   "id": "338ff529-1a6b-4b87-a931-8e4788d52aad",
   "metadata": {
    "execution": {
     "iopub.execute_input": "2025-07-30T21:51:58.551158Z",
     "iopub.status.busy": "2025-07-30T21:51:58.550695Z",
     "iopub.status.idle": "2025-07-30T21:51:58.555730Z",
     "shell.execute_reply": "2025-07-30T21:51:58.554925Z"
    },
    "papermill": {
     "duration": 0.032727,
     "end_time": "2025-07-30T21:51:58.559194",
     "exception": false,
     "start_time": "2025-07-30T21:51:58.526467",
     "status": "completed"
    },
    "tags": []
   },
   "outputs": [],
   "source": [
    "#cp_groups_df"
   ]
  },
  {
   "cell_type": "code",
   "execution_count": 68,
   "id": "90032e27-66df-4540-9169-4e89cfbaa758",
   "metadata": {
    "execution": {
     "iopub.execute_input": "2025-07-30T21:51:58.609097Z",
     "iopub.status.busy": "2025-07-30T21:51:58.608691Z",
     "iopub.status.idle": "2025-07-30T21:51:58.621035Z",
     "shell.execute_reply": "2025-07-30T21:51:58.620003Z"
    },
    "papermill": {
     "duration": 0.040615,
     "end_time": "2025-07-30T21:51:58.623401",
     "exception": false,
     "start_time": "2025-07-30T21:51:58.582786",
     "status": "completed"
    },
    "tags": []
   },
   "outputs": [],
   "source": [
    "subgroups = ['frau1','nongerman','nongerman_male','nongerman_female']\n",
    "\n",
    "# Conditional coverage for subgroup==1\n",
    "cond_coverage = {\n",
    "    g: cp_groups_df.loc[cp_groups_df[g]==1, 'covered'].mean()\n",
    "    for g in subgroups\n",
    "}"
   ]
  },
  {
   "cell_type": "code",
   "execution_count": 69,
   "id": "1e348fb1-b9c3-45bc-ba23-f016827a7e0d",
   "metadata": {
    "execution": {
     "iopub.execute_input": "2025-07-30T21:51:58.678940Z",
     "iopub.status.busy": "2025-07-30T21:51:58.678420Z",
     "iopub.status.idle": "2025-07-30T21:51:58.685730Z",
     "shell.execute_reply": "2025-07-30T21:51:58.684760Z"
    },
    "papermill": {
     "duration": 0.043093,
     "end_time": "2025-07-30T21:51:58.693065",
     "exception": false,
     "start_time": "2025-07-30T21:51:58.649972",
     "status": "completed"
    },
    "tags": []
   },
   "outputs": [
    {
     "data": {
      "text/plain": [
       "{'frau1': 0.9131149750640248,\n",
       " 'nongerman': 0.9078762701397856,\n",
       " 'nongerman_male': 0.924614968927317,\n",
       " 'nongerman_female': 0.8801788375558868}"
      ]
     },
     "execution_count": 69,
     "metadata": {},
     "output_type": "execute_result"
    }
   ],
   "source": [
    "cond_coverage"
   ]
  },
  {
   "cell_type": "code",
   "execution_count": 70,
   "id": "f5093324-c3dd-4d63-bc4c-8d945e5c8bbb",
   "metadata": {
    "execution": {
     "iopub.execute_input": "2025-07-30T21:51:58.748502Z",
     "iopub.status.busy": "2025-07-30T21:51:58.748110Z",
     "iopub.status.idle": "2025-07-30T21:51:58.755658Z",
     "shell.execute_reply": "2025-07-30T21:51:58.754563Z"
    },
    "papermill": {
     "duration": 0.036795,
     "end_time": "2025-07-30T21:51:58.757210",
     "exception": false,
     "start_time": "2025-07-30T21:51:58.720415",
     "status": "completed"
    },
    "tags": []
   },
   "outputs": [],
   "source": [
    "for subgroup, cov in cond_coverage.items():\n",
    "    cp_metrics_df[f\"cov_{subgroup}\"] = cov"
   ]
  },
  {
   "cell_type": "code",
   "execution_count": 71,
   "id": "6e872e10-dbe5-49e8-b554-5030c98ff75d",
   "metadata": {
    "execution": {
     "iopub.execute_input": "2025-07-30T21:51:58.860266Z",
     "iopub.status.busy": "2025-07-30T21:51:58.859899Z",
     "iopub.status.idle": "2025-07-30T21:51:58.879462Z",
     "shell.execute_reply": "2025-07-30T21:51:58.878620Z"
    },
    "papermill": {
     "duration": 0.064035,
     "end_time": "2025-07-30T21:51:58.881650",
     "exception": false,
     "start_time": "2025-07-30T21:51:58.817615",
     "status": "completed"
    },
    "tags": []
   },
   "outputs": [
    {
     "data": {
      "text/html": [
       "<div>\n",
       "<style scoped>\n",
       "    .dataframe tbody tr th:only-of-type {\n",
       "        vertical-align: middle;\n",
       "    }\n",
       "\n",
       "    .dataframe tbody tr th {\n",
       "        vertical-align: top;\n",
       "    }\n",
       "\n",
       "    .dataframe thead th {\n",
       "        text-align: right;\n",
       "    }\n",
       "</style>\n",
       "<table border=\"1\" class=\"dataframe\">\n",
       "  <thead>\n",
       "    <tr style=\"text-align: right;\">\n",
       "      <th></th>\n",
       "      <th>universe_id</th>\n",
       "      <th>universe_training_year</th>\n",
       "      <th>universe_training_size</th>\n",
       "      <th>universe_scale</th>\n",
       "      <th>universe_model</th>\n",
       "      <th>universe_exclude_features</th>\n",
       "      <th>universe_exclude_subgroups</th>\n",
       "      <th>q_hat</th>\n",
       "      <th>coverage</th>\n",
       "      <th>avg_size</th>\n",
       "      <th>cov_frau1</th>\n",
       "      <th>cov_nongerman</th>\n",
       "      <th>cov_nongerman_male</th>\n",
       "      <th>cov_nongerman_female</th>\n",
       "    </tr>\n",
       "  </thead>\n",
       "  <tbody>\n",
       "    <tr>\n",
       "      <th>0</th>\n",
       "      <td>9b173fb5f5e13300e8755e6cda41fc19</td>\n",
       "      <td>2010_14</td>\n",
       "      <td>1k</td>\n",
       "      <td>do-not-scale</td>\n",
       "      <td>rf</td>\n",
       "      <td>nationality-sex</td>\n",
       "      <td>keep-all</td>\n",
       "      <td>0.65</td>\n",
       "      <td>0.914279</td>\n",
       "      <td>1.153929</td>\n",
       "      <td>0.913115</td>\n",
       "      <td>0.907876</td>\n",
       "      <td>0.924615</td>\n",
       "      <td>0.880179</td>\n",
       "    </tr>\n",
       "  </tbody>\n",
       "</table>\n",
       "</div>"
      ],
      "text/plain": [
       "                        universe_id universe_training_year  \\\n",
       "0  9b173fb5f5e13300e8755e6cda41fc19                2010_14   \n",
       "\n",
       "  universe_training_size universe_scale universe_model  \\\n",
       "0                     1k   do-not-scale             rf   \n",
       "\n",
       "  universe_exclude_features universe_exclude_subgroups  q_hat  coverage  \\\n",
       "0           nationality-sex                   keep-all   0.65  0.914279   \n",
       "\n",
       "   avg_size  cov_frau1  cov_nongerman  cov_nongerman_male  \\\n",
       "0  1.153929   0.913115       0.907876            0.924615   \n",
       "\n",
       "   cov_nongerman_female  \n",
       "0              0.880179  "
      ]
     },
     "execution_count": 71,
     "metadata": {},
     "output_type": "execute_result"
    }
   ],
   "source": [
    "cp_metrics_df"
   ]
  },
  {
   "cell_type": "markdown",
   "id": "33774451",
   "metadata": {
    "papermill": {
     "duration": 0.027528,
     "end_time": "2025-07-30T21:51:58.938326",
     "exception": false,
     "start_time": "2025-07-30T21:51:58.910798",
     "status": "completed"
    },
    "tags": []
   },
   "source": [
    "# (Fairness) Metrics"
   ]
  },
  {
   "cell_type": "code",
   "execution_count": 72,
   "id": "debc5d62",
   "metadata": {
    "execution": {
     "iopub.execute_input": "2025-07-30T21:51:58.991005Z",
     "iopub.status.busy": "2025-07-30T21:51:58.990628Z",
     "iopub.status.idle": "2025-07-30T21:51:59.013426Z",
     "shell.execute_reply": "2025-07-30T21:51:59.009738Z"
    },
    "papermill": {
     "duration": 0.052339,
     "end_time": "2025-07-30T21:51:59.015627",
     "exception": false,
     "start_time": "2025-07-30T21:51:58.963288",
     "status": "completed"
    },
    "tags": []
   },
   "outputs": [],
   "source": [
    "# do I need to include maxdeutsch1.missing?\n",
    "\n",
    "import numpy as np\n",
    "\n",
    "colname_to_bin = \"maxdeutsch1\"\n",
    "majority_value = org_train[colname_to_bin].mode()[0]\n",
    "\n",
    "org_test[\"majmin\"] = np.where(org_test[colname_to_bin] == majority_value, \"majority\", \"minority\")"
   ]
  },
  {
   "cell_type": "code",
   "execution_count": 73,
   "id": "06a50de5",
   "metadata": {
    "execution": {
     "iopub.execute_input": "2025-07-30T21:51:59.070823Z",
     "iopub.status.busy": "2025-07-30T21:51:59.070384Z",
     "iopub.status.idle": "2025-07-30T21:52:02.301753Z",
     "shell.execute_reply": "2025-07-30T21:52:02.300558Z"
    },
    "papermill": {
     "duration": 3.259965,
     "end_time": "2025-07-30T21:52:02.303723",
     "exception": false,
     "start_time": "2025-07-30T21:51:59.043758",
     "status": "completed"
    },
    "tags": []
   },
   "outputs": [],
   "source": [
    "example_universe = universe.copy()\n",
    "example_universe[\"cutoff\"] = example_universe[\"cutoff\"][0]\n",
    "example_universe[\"eval_fairness_grouping\"] = example_universe[\"eval_fairness_grouping\"][0]\n",
    "fairness_dict, metric_frame = universe_analysis.compute_metrics(\n",
    "    example_universe,\n",
    "    y_pred_prob=probs_test,\n",
    "    y_test=y_true,\n",
    "    org_test=org_test,\n",
    ")"
   ]
  },
  {
   "cell_type": "markdown",
   "id": "f95d4e02",
   "metadata": {
    "papermill": {
     "duration": 0.024409,
     "end_time": "2025-07-30T21:52:02.356537",
     "exception": false,
     "start_time": "2025-07-30T21:52:02.332128",
     "status": "completed"
    },
    "tags": []
   },
   "source": [
    "# Overall"
   ]
  },
  {
   "cell_type": "markdown",
   "id": "bdee4871",
   "metadata": {
    "papermill": {
     "duration": 0.052615,
     "end_time": "2025-07-30T21:52:02.453757",
     "exception": false,
     "start_time": "2025-07-30T21:52:02.401142",
     "status": "completed"
    },
    "tags": []
   },
   "source": [
    "Fairness\n",
    "Main fairness target: Equalized Odds. Seems to be a better fit than equal opportunity, since we're not only interested in Y = 1. Seems to be a better fit than demographic parity, since we also care about accuracy, not just equal distribution of preds.\n",
    "\n",
    "Pick column for computation of fairness metrics\n",
    "\n",
    "Performance\n",
    "Overall performance measures, most interesting in relation to the measures split by group below"
   ]
  },
  {
   "cell_type": "code",
   "execution_count": 74,
   "id": "c4e067c6",
   "metadata": {
    "execution": {
     "iopub.execute_input": "2025-07-30T21:52:02.521924Z",
     "iopub.status.busy": "2025-07-30T21:52:02.521115Z",
     "iopub.status.idle": "2025-07-30T21:52:02.530206Z",
     "shell.execute_reply": "2025-07-30T21:52:02.529184Z"
    },
    "papermill": {
     "duration": 0.039605,
     "end_time": "2025-07-30T21:52:02.534253",
     "exception": false,
     "start_time": "2025-07-30T21:52:02.494648",
     "status": "completed"
    },
    "tags": []
   },
   "outputs": [
    {
     "data": {
      "text/plain": [
       "accuracy                   0.208148\n",
       "balanced accuracy          0.533064\n",
       "f1                         0.239147\n",
       "precision                  0.136384\n",
       "false positive rate        0.903979\n",
       "false negative rate        0.029892\n",
       "selection rate             0.912462\n",
       "count                  89710.000000\n",
       "dtype: float64"
      ]
     },
     "execution_count": 74,
     "metadata": {},
     "output_type": "execute_result"
    }
   ],
   "source": [
    "metric_frame.overall"
   ]
  },
  {
   "cell_type": "markdown",
   "id": "e968fe9d",
   "metadata": {
    "papermill": {
     "duration": 0.076757,
     "end_time": "2025-07-30T21:52:02.655110",
     "exception": false,
     "start_time": "2025-07-30T21:52:02.578353",
     "status": "completed"
    },
    "tags": []
   },
   "source": [
    "By Group"
   ]
  },
  {
   "cell_type": "code",
   "execution_count": 75,
   "id": "ec325bce",
   "metadata": {
    "execution": {
     "iopub.execute_input": "2025-07-30T21:52:02.809847Z",
     "iopub.status.busy": "2025-07-30T21:52:02.809467Z",
     "iopub.status.idle": "2025-07-30T21:52:02.834456Z",
     "shell.execute_reply": "2025-07-30T21:52:02.833445Z"
    },
    "papermill": {
     "duration": 0.097189,
     "end_time": "2025-07-30T21:52:02.836505",
     "exception": false,
     "start_time": "2025-07-30T21:52:02.739316",
     "status": "completed"
    },
    "tags": []
   },
   "outputs": [
    {
     "data": {
      "text/html": [
       "<div>\n",
       "<style scoped>\n",
       "    .dataframe tbody tr th:only-of-type {\n",
       "        vertical-align: middle;\n",
       "    }\n",
       "\n",
       "    .dataframe tbody tr th {\n",
       "        vertical-align: top;\n",
       "    }\n",
       "\n",
       "    .dataframe thead th {\n",
       "        text-align: right;\n",
       "    }\n",
       "</style>\n",
       "<table border=\"1\" class=\"dataframe\">\n",
       "  <thead>\n",
       "    <tr style=\"text-align: right;\">\n",
       "      <th></th>\n",
       "      <th>accuracy</th>\n",
       "      <th>balanced accuracy</th>\n",
       "      <th>f1</th>\n",
       "      <th>precision</th>\n",
       "      <th>false positive rate</th>\n",
       "      <th>false negative rate</th>\n",
       "      <th>selection rate</th>\n",
       "      <th>count</th>\n",
       "    </tr>\n",
       "    <tr>\n",
       "      <th>majmin</th>\n",
       "      <th></th>\n",
       "      <th></th>\n",
       "      <th></th>\n",
       "      <th></th>\n",
       "      <th></th>\n",
       "      <th></th>\n",
       "      <th></th>\n",
       "      <th></th>\n",
       "    </tr>\n",
       "  </thead>\n",
       "  <tbody>\n",
       "    <tr>\n",
       "      <th>majority</th>\n",
       "      <td>0.194911</td>\n",
       "      <td>0.531481</td>\n",
       "      <td>0.245072</td>\n",
       "      <td>0.139866</td>\n",
       "      <td>0.925987</td>\n",
       "      <td>0.011050</td>\n",
       "      <td>0.934307</td>\n",
       "      <td>69170.0</td>\n",
       "    </tr>\n",
       "    <tr>\n",
       "      <th>minority</th>\n",
       "      <td>0.252726</td>\n",
       "      <td>0.533051</td>\n",
       "      <td>0.216848</td>\n",
       "      <td>0.123324</td>\n",
       "      <td>0.831279</td>\n",
       "      <td>0.102618</td>\n",
       "      <td>0.838900</td>\n",
       "      <td>20540.0</td>\n",
       "    </tr>\n",
       "  </tbody>\n",
       "</table>\n",
       "</div>"
      ],
      "text/plain": [
       "          accuracy  balanced accuracy        f1  precision  \\\n",
       "majmin                                                       \n",
       "majority  0.194911           0.531481  0.245072   0.139866   \n",
       "minority  0.252726           0.533051  0.216848   0.123324   \n",
       "\n",
       "          false positive rate  false negative rate  selection rate    count  \n",
       "majmin                                                                       \n",
       "majority             0.925987             0.011050        0.934307  69170.0  \n",
       "minority             0.831279             0.102618        0.838900  20540.0  "
      ]
     },
     "execution_count": 75,
     "metadata": {},
     "output_type": "execute_result"
    }
   ],
   "source": [
    "metric_frame.by_group"
   ]
  },
  {
   "cell_type": "code",
   "execution_count": 76,
   "id": "a9ddbe63",
   "metadata": {
    "execution": {
     "iopub.execute_input": "2025-07-30T21:52:02.893099Z",
     "iopub.status.busy": "2025-07-30T21:52:02.892575Z",
     "iopub.status.idle": "2025-07-30T21:52:05.511664Z",
     "shell.execute_reply": "2025-07-30T21:52:05.510727Z"
    },
    "papermill": {
     "duration": 2.650326,
     "end_time": "2025-07-30T21:52:05.513533",
     "exception": false,
     "start_time": "2025-07-30T21:52:02.863207",
     "status": "completed"
    },
    "tags": []
   },
   "outputs": [
    {
     "data": {
      "text/plain": [
       "array([[<Axes: title={'center': 'accuracy'}, xlabel='majmin'>,\n",
       "        <Axes: title={'center': 'balanced accuracy'}, xlabel='majmin'>,\n",
       "        <Axes: title={'center': 'f1'}, xlabel='majmin'>],\n",
       "       [<Axes: title={'center': 'precision'}, xlabel='majmin'>,\n",
       "        <Axes: title={'center': 'false positive rate'}, xlabel='majmin'>,\n",
       "        <Axes: title={'center': 'false negative rate'}, xlabel='majmin'>],\n",
       "       [<Axes: title={'center': 'selection rate'}, xlabel='majmin'>,\n",
       "        <Axes: title={'center': 'count'}, xlabel='majmin'>,\n",
       "        <Axes: xlabel='majmin'>]], dtype=object)"
      ]
     },
     "execution_count": 76,
     "metadata": {},
     "output_type": "execute_result"
    },
    {
     "data": {
      "image/png": "[encoded data removed]",
      "text/plain": [
       "<Figure size 1200x800 with 9 Axes>"
      ]
     },
     "metadata": {},
     "output_type": "display_data"
    }
   ],
   "source": [
    "# In a graphic\n",
    "metric_frame.by_group.plot.bar(\n",
    "    subplots=True,\n",
    "    layout=[3, 3],\n",
    "    legend=False,\n",
    "    figsize=[12, 8],\n",
    "    title=\"Show all metrics\",\n",
    ")"
   ]
  },
  {
   "cell_type": "markdown",
   "id": "f57a0bac",
   "metadata": {
    "papermill": {
     "duration": 0.027478,
     "end_time": "2025-07-30T21:52:05.571153",
     "exception": false,
     "start_time": "2025-07-30T21:52:05.543675",
     "status": "completed"
    },
    "tags": []
   },
   "source": [
    "# Final Output"
   ]
  },
  {
   "cell_type": "code",
   "execution_count": 77,
   "id": "96d280a3",
   "metadata": {
    "execution": {
     "iopub.execute_input": "2025-07-30T21:52:05.636823Z",
     "iopub.status.busy": "2025-07-30T21:52:05.636117Z",
     "iopub.status.idle": "2025-07-30T21:52:05.644863Z",
     "shell.execute_reply": "2025-07-30T21:52:05.643877Z"
    },
    "papermill": {
     "duration": 0.043705,
     "end_time": "2025-07-30T21:52:05.646459",
     "exception": false,
     "start_time": "2025-07-30T21:52:05.602754",
     "status": "completed"
    },
    "tags": []
   },
   "outputs": [
    {
     "data": {
      "text/plain": [
       "4"
      ]
     },
     "execution_count": 77,
     "metadata": {},
     "output_type": "execute_result"
    }
   ],
   "source": [
    "sub_universes = universe_analysis.generate_sub_universes()\n",
    "len(sub_universes)"
   ]
  },
  {
   "cell_type": "code",
   "execution_count": 78,
   "id": "92adf7ba",
   "metadata": {
    "execution": {
     "iopub.execute_input": "2025-07-30T21:52:05.711088Z",
     "iopub.status.busy": "2025-07-30T21:52:05.710590Z",
     "iopub.status.idle": "2025-07-30T21:52:05.717209Z",
     "shell.execute_reply": "2025-07-30T21:52:05.716080Z"
    },
    "papermill": {
     "duration": 0.041575,
     "end_time": "2025-07-30T21:52:05.718961",
     "exception": false,
     "start_time": "2025-07-30T21:52:05.677386",
     "status": "completed"
    },
    "tags": []
   },
   "outputs": [],
   "source": [
    "def filter_sub_universe_data(sub_universe, org_test):\n",
    "    # Keep all rows — no filtering\n",
    "    keep_rows_mask = np.ones(org_test.shape[0], dtype=bool)\n",
    "\n",
    "    print(f\"[INFO] Keeping all rows: {keep_rows_mask.sum()} rows retained.\")\n",
    "    return keep_rows_mask"
   ]
  },
  {
   "cell_type": "code",
   "execution_count": 79,
   "id": "4a759155",
   "metadata": {
    "execution": {
     "iopub.execute_input": "2025-07-30T21:52:05.785511Z",
     "iopub.status.busy": "2025-07-30T21:52:05.784792Z",
     "iopub.status.idle": "2025-07-30T21:52:15.005609Z",
     "shell.execute_reply": "2025-07-30T21:52:15.004825Z"
    },
    "papermill": {
     "duration": 9.25573,
     "end_time": "2025-07-30T21:52:15.006893",
     "exception": false,
     "start_time": "2025-07-30T21:52:05.751163",
     "status": "completed"
    },
    "tags": []
   },
   "outputs": [
    {
     "name": "stdout",
     "output_type": "stream",
     "text": [
      "Stopping execution_time clock.\n",
      "[INFO] Keeping all rows: 89710 rows retained.\n"
     ]
    },
    {
     "name": "stdout",
     "output_type": "stream",
     "text": [
      "[INFO] Keeping all rows: 89710 rows retained.\n"
     ]
    },
    {
     "name": "stdout",
     "output_type": "stream",
     "text": [
      "[INFO] Keeping all rows: 89710 rows retained.\n"
     ]
    },
    {
     "name": "stdout",
     "output_type": "stream",
     "text": [
      "[INFO] Keeping all rows: 89710 rows retained.\n"
     ]
    },
    {
     "data": {
      "text/html": [
       "<div>\n",
       "<style scoped>\n",
       "    .dataframe tbody tr th:only-of-type {\n",
       "        vertical-align: middle;\n",
       "    }\n",
       "\n",
       "    .dataframe tbody tr th {\n",
       "        vertical-align: top;\n",
       "    }\n",
       "\n",
       "    .dataframe thead th {\n",
       "        text-align: right;\n",
       "    }\n",
       "</style>\n",
       "<table border=\"1\" class=\"dataframe\">\n",
       "  <thead>\n",
       "    <tr style=\"text-align: right;\">\n",
       "      <th></th>\n",
       "      <th>run_no</th>\n",
       "      <th>universe_id</th>\n",
       "      <th>universe_settings</th>\n",
       "      <th>execution_time</th>\n",
       "      <th>test_size_n</th>\n",
       "      <th>test_size_frac</th>\n",
       "      <th>fair_main_equalized_odds_difference</th>\n",
       "      <th>fair_main_equalized_odds_ratio</th>\n",
       "      <th>fair_main_demographic_parity_difference</th>\n",
       "      <th>fair_main_demographic_parity_ratio</th>\n",
       "      <th>...</th>\n",
       "      <th>perf_grp_precision_0</th>\n",
       "      <th>perf_grp_precision_1</th>\n",
       "      <th>perf_grp_false positive rate_0</th>\n",
       "      <th>perf_grp_false positive rate_1</th>\n",
       "      <th>perf_grp_false negative rate_0</th>\n",
       "      <th>perf_grp_false negative rate_1</th>\n",
       "      <th>perf_grp_selection rate_0</th>\n",
       "      <th>perf_grp_selection rate_1</th>\n",
       "      <th>perf_grp_count_0</th>\n",
       "      <th>perf_grp_count_1</th>\n",
       "    </tr>\n",
       "  </thead>\n",
       "  <tbody>\n",
       "    <tr>\n",
       "      <th>0</th>\n",
       "      <td>14</td>\n",
       "      <td>9b173fb5f5e13300e8755e6cda41fc19</td>\n",
       "      <td>{\"cutoff\": \"quantile_0.1\", \"eval_fairness_grou...</td>\n",
       "      <td>33.787637</td>\n",
       "      <td>89710</td>\n",
       "      <td>1.0</td>\n",
       "      <td>0.094708</td>\n",
       "      <td>0.897722</td>\n",
       "      <td>0.095407</td>\n",
       "      <td>0.897885</td>\n",
       "      <td>...</td>\n",
       "      <td>NaN</td>\n",
       "      <td>NaN</td>\n",
       "      <td>NaN</td>\n",
       "      <td>NaN</td>\n",
       "      <td>NaN</td>\n",
       "      <td>NaN</td>\n",
       "      <td>NaN</td>\n",
       "      <td>NaN</td>\n",
       "      <td>NaN</td>\n",
       "      <td>NaN</td>\n",
       "    </tr>\n",
       "    <tr>\n",
       "      <th>0</th>\n",
       "      <td>14</td>\n",
       "      <td>9b173fb5f5e13300e8755e6cda41fc19</td>\n",
       "      <td>{\"cutoff\": \"quantile_0.1\", \"eval_fairness_grou...</td>\n",
       "      <td>33.787637</td>\n",
       "      <td>89710</td>\n",
       "      <td>1.0</td>\n",
       "      <td>0.094708</td>\n",
       "      <td>0.897722</td>\n",
       "      <td>0.095407</td>\n",
       "      <td>0.897885</td>\n",
       "      <td>...</td>\n",
       "      <td>0.123324</td>\n",
       "      <td>0.139866</td>\n",
       "      <td>0.831279</td>\n",
       "      <td>0.925987</td>\n",
       "      <td>0.102618</td>\n",
       "      <td>0.011050</td>\n",
       "      <td>0.838900</td>\n",
       "      <td>0.934307</td>\n",
       "      <td>20540.0</td>\n",
       "      <td>69170.0</td>\n",
       "    </tr>\n",
       "    <tr>\n",
       "      <th>0</th>\n",
       "      <td>14</td>\n",
       "      <td>9b173fb5f5e13300e8755e6cda41fc19</td>\n",
       "      <td>{\"cutoff\": \"quantile_0.25\", \"eval_fairness_gro...</td>\n",
       "      <td>33.787637</td>\n",
       "      <td>89710</td>\n",
       "      <td>1.0</td>\n",
       "      <td>0.166997</td>\n",
       "      <td>0.824436</td>\n",
       "      <td>0.121603</td>\n",
       "      <td>0.848592</td>\n",
       "      <td>...</td>\n",
       "      <td>NaN</td>\n",
       "      <td>NaN</td>\n",
       "      <td>NaN</td>\n",
       "      <td>NaN</td>\n",
       "      <td>NaN</td>\n",
       "      <td>NaN</td>\n",
       "      <td>NaN</td>\n",
       "      <td>NaN</td>\n",
       "      <td>NaN</td>\n",
       "      <td>NaN</td>\n",
       "    </tr>\n",
       "    <tr>\n",
       "      <th>0</th>\n",
       "      <td>14</td>\n",
       "      <td>9b173fb5f5e13300e8755e6cda41fc19</td>\n",
       "      <td>{\"cutoff\": \"quantile_0.25\", \"eval_fairness_gro...</td>\n",
       "      <td>33.787637</td>\n",
       "      <td>89710</td>\n",
       "      <td>1.0</td>\n",
       "      <td>0.166997</td>\n",
       "      <td>0.824436</td>\n",
       "      <td>0.121603</td>\n",
       "      <td>0.848592</td>\n",
       "      <td>...</td>\n",
       "      <td>0.132652</td>\n",
       "      <td>0.156496</td>\n",
       "      <td>0.668171</td>\n",
       "      <td>0.780610</td>\n",
       "      <td>0.215794</td>\n",
       "      <td>0.048796</td>\n",
       "      <td>0.681548</td>\n",
       "      <td>0.803152</td>\n",
       "      <td>20540.0</td>\n",
       "      <td>69170.0</td>\n",
       "    </tr>\n",
       "  </tbody>\n",
       "</table>\n",
       "<p>4 rows × 50 columns</p>\n",
       "</div>"
      ],
      "text/plain": [
       "  run_no                       universe_id  \\\n",
       "0     14  9b173fb5f5e13300e8755e6cda41fc19   \n",
       "0     14  9b173fb5f5e13300e8755e6cda41fc19   \n",
       "0     14  9b173fb5f5e13300e8755e6cda41fc19   \n",
       "0     14  9b173fb5f5e13300e8755e6cda41fc19   \n",
       "\n",
       "                                   universe_settings  execution_time  \\\n",
       "0  {\"cutoff\": \"quantile_0.1\", \"eval_fairness_grou...       33.787637   \n",
       "0  {\"cutoff\": \"quantile_0.1\", \"eval_fairness_grou...       33.787637   \n",
       "0  {\"cutoff\": \"quantile_0.25\", \"eval_fairness_gro...       33.787637   \n",
       "0  {\"cutoff\": \"quantile_0.25\", \"eval_fairness_gro...       33.787637   \n",
       "\n",
       "   test_size_n  test_size_frac  fair_main_equalized_odds_difference  \\\n",
       "0        89710             1.0                             0.094708   \n",
       "0        89710             1.0                             0.094708   \n",
       "0        89710             1.0                             0.166997   \n",
       "0        89710             1.0                             0.166997   \n",
       "\n",
       "   fair_main_equalized_odds_ratio  fair_main_demographic_parity_difference  \\\n",
       "0                        0.897722                                 0.095407   \n",
       "0                        0.897722                                 0.095407   \n",
       "0                        0.824436                                 0.121603   \n",
       "0                        0.824436                                 0.121603   \n",
       "\n",
       "   fair_main_demographic_parity_ratio  ...  perf_grp_precision_0  \\\n",
       "0                            0.897885  ...                   NaN   \n",
       "0                            0.897885  ...              0.123324   \n",
       "0                            0.848592  ...                   NaN   \n",
       "0                            0.848592  ...              0.132652   \n",
       "\n",
       "   perf_grp_precision_1  perf_grp_false positive rate_0  \\\n",
       "0                   NaN                             NaN   \n",
       "0              0.139866                        0.831279   \n",
       "0                   NaN                             NaN   \n",
       "0              0.156496                        0.668171   \n",
       "\n",
       "   perf_grp_false positive rate_1  perf_grp_false negative rate_0  \\\n",
       "0                             NaN                             NaN   \n",
       "0                        0.925987                        0.102618   \n",
       "0                             NaN                             NaN   \n",
       "0                        0.780610                        0.215794   \n",
       "\n",
       "   perf_grp_false negative rate_1  perf_grp_selection rate_0  \\\n",
       "0                             NaN                        NaN   \n",
       "0                        0.011050                   0.838900   \n",
       "0                             NaN                        NaN   \n",
       "0                        0.048796                   0.681548   \n",
       "\n",
       "   perf_grp_selection rate_1  perf_grp_count_0  perf_grp_count_1  \n",
       "0                        NaN               NaN               NaN  \n",
       "0                   0.934307           20540.0           69170.0  \n",
       "0                        NaN               NaN               NaN  \n",
       "0                   0.803152           20540.0           69170.0  \n",
       "\n",
       "[4 rows x 50 columns]"
      ]
     },
     "execution_count": 79,
     "metadata": {},
     "output_type": "execute_result"
    }
   ],
   "source": [
    "final_output = universe_analysis.generate_final_output(\n",
    "    y_pred_prob=probs_test,\n",
    "    y_test=y_true,\n",
    "    org_test=org_test,\n",
    "    filter_data=filter_sub_universe_data,\n",
    "    cp_metrics_df=cp_metrics_df,\n",
    "    save=True,\n",
    ")\n",
    "final_output"
   ]
  },
  {
   "cell_type": "code",
   "execution_count": null,
   "id": "721ff514-cb11-46f8-b6fc-50392f74b5cb",
   "metadata": {
    "papermill": {
     "duration": 0.015217,
     "end_time": "2025-07-30T21:52:15.040593",
     "exception": false,
     "start_time": "2025-07-30T21:52:15.025376",
     "status": "completed"
    },
    "tags": []
   },
   "outputs": [],
   "source": []
  }
 ],
 "metadata": {
  "celltoolbar": "Tags",
  "kernelspec": {
   "display_name": "Python (CMA Fairness)",
   "language": "python",
   "name": "cma_fair_env"
  },
  "language_info": {
   "codemirror_mode": {
    "name": "ipython",
    "version": 3
   },
   "file_extension": ".py",
   "mimetype": "text/x-python",
   "name": "python",
   "nbconvert_exporter": "python",
   "pygments_lexer": "ipython3",
   "version": "3.10.12"
  },
  "papermill": {
   "default_parameters": {},
   "duration": 47.252033,
   "end_time": "2025-07-30T21:52:15.773919",
   "environment_variables": {},
   "exception": null,
   "input_path": "universe_analysis.ipynb",
   "output_path": "output/runs/14/notebooks/m_14-9b173fb5f5e13300e8755e6cda41fc19.ipynb",
   "parameters": {
    "output_dir": "output",
    "run_no": "14",
    "seed": "2023",
    "universe": "{\"cutoff\": [\"quantile_0.1\", \"quantile_0.25\"], \"eval_fairness_grouping\": [\"majority-minority\", \"nationality-all\"], \"exclude_features\": \"nationality-sex\", \"exclude_subgroups\": \"keep-all\", \"model\": \"rf\", \"scale\": \"do-not-scale\", \"training_size\": \"1k\", \"training_year\": \"2010_14\"}",
    "universe_id": "9b173fb5f5e13300e8755e6cda41fc19"
   },
   "start_time": "2025-07-30T21:51:28.521886",
   "version": "2.6.0"
  }
 },
 "nbformat": 4,
 "nbformat_minor": 5
}