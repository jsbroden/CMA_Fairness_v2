{
 "cells": [
  {
   "cell_type": "code",
   "execution_count": 1,
   "id": "f159f837-637b-42ba-96b5-ec9a68c44524",
   "metadata": {
    "execution": {
     "iopub.execute_input": "2025-07-30T20:14:56.778436Z",
     "iopub.status.busy": "2025-07-30T20:14:56.777679Z",
     "iopub.status.idle": "2025-07-30T20:14:56.795543Z",
     "shell.execute_reply": "2025-07-30T20:14:56.794278Z"
    },
    "papermill": {
     "duration": 0.033009,
     "end_time": "2025-07-30T20:14:56.798009",
     "exception": false,
     "start_time": "2025-07-30T20:14:56.765000",
     "status": "completed"
    },
    "tags": []
   },
   "outputs": [
    {
     "name": "stdout",
     "output_type": "stream",
     "text": [
      "/dss/dsshome1/0C/ra93lal2/cma/CMA_Fairness_v2\n"
     ]
    },
    {
     "name": "stderr",
     "output_type": "stream",
     "text": [
      "/dss/dsshome1/0C/ra93lal2/.local/share/virtualenvs/CMA_Fairness_v2-3j10GkSs/lib/python3.10/site-packages/IPython/core/magics/osm.py:393: UserWarning: This is now an optional IPython functionality, using bookmarks requires you to install the `pickleshare` library.\n",
      "  bkms = self.shell.db.get('bookmarks', {})\n",
      "/dss/dsshome1/0C/ra93lal2/.local/share/virtualenvs/CMA_Fairness_v2-3j10GkSs/lib/python3.10/site-packages/IPython/core/magics/osm.py:417: UserWarning: This is now an optional IPython functionality, setting dhist requires you to install the `pickleshare` library.\n",
      "  self.shell.db['dhist'] = compress_dhist(dhist)[-100:]\n"
     ]
    }
   ],
   "source": [
    "%cd ~/cma/CMA_Fairness_v2"
   ]
  },
  {
   "cell_type": "markdown",
   "id": "de2603b9",
   "metadata": {
    "papermill": {
     "duration": 0.01892,
     "end_time": "2025-07-30T20:14:56.845469",
     "exception": false,
     "start_time": "2025-07-30T20:14:56.826549",
     "status": "completed"
    },
    "tags": []
   },
   "source": [
    "The following cell holds the definition of our parameters, these values can be overriden by rendering the with e.g. the following command:\n",
    "\n",
    "papermill -p alpha 0.2 -p ratio 0.3 universe_analysis.ipynb output/test_run.ipynb"
   ]
  },
  {
   "cell_type": "code",
   "execution_count": 2,
   "id": "a80968a0-40bb-4fa9-85ef-2d5eefb01975",
   "metadata": {
    "execution": {
     "iopub.execute_input": "2025-07-30T20:14:56.884319Z",
     "iopub.status.busy": "2025-07-30T20:14:56.883971Z",
     "iopub.status.idle": "2025-07-30T20:14:56.895489Z",
     "shell.execute_reply": "2025-07-30T20:14:56.894643Z"
    },
    "papermill": {
     "duration": 0.031806,
     "end_time": "2025-07-30T20:14:56.897000",
     "exception": false,
     "start_time": "2025-07-30T20:14:56.865194",
     "status": "completed"
    },
    "tags": []
   },
   "outputs": [
    {
     "name": "stdout",
     "output_type": "stream",
     "text": [
      "Current working directory: /dss/dsshome1/0C/ra93lal2/cma/CMA_Fairness_v2\n"
     ]
    }
   ],
   "source": [
    "import os\n",
    "print(\"Current working directory:\", os.getcwd())"
   ]
  },
  {
   "cell_type": "code",
   "execution_count": 3,
   "id": "2dce4c03",
   "metadata": {
    "execution": {
     "iopub.execute_input": "2025-07-30T20:14:56.919157Z",
     "iopub.status.busy": "2025-07-30T20:14:56.918671Z",
     "iopub.status.idle": "2025-07-30T20:14:56.924018Z",
     "shell.execute_reply": "2025-07-30T20:14:56.923210Z"
    },
    "papermill": {
     "duration": 0.018354,
     "end_time": "2025-07-30T20:14:56.925831",
     "exception": false,
     "start_time": "2025-07-30T20:14:56.907477",
     "status": "completed"
    },
    "tags": [
     "parameters"
    ]
   },
   "outputs": [],
   "source": [
    "run_no = 0\n",
    "universe_id = \"test\"\n",
    "universe = {\n",
    "    \"training_size\": \"25k\", # \"25k\", \"5k\", \"1k\"\n",
    "    \"training_year\": \"2014\", # \"2014\", \"2012_14\", \"2010_14\"\n",
    "    \"scale\": \"scale\", # \"scale\", \"do-not-scale\",\n",
    "    #\"stratify_split\": \"target\", # \"none\", \"target\", \"protected-attribute\", \"both\",\n",
    "    \"model\": \"elasticnet\", # \"logreg\", \"penalized_logreg\", \"rf\", \"gbm\", \"elasticnet\"\n",
    "    \"cutoff\": [\"quantile_0.15\", \"quantile_0.30\"],\n",
    "    \"exclude_features\": \"age\", # \"none\", \"nationality\", \"sex\", \"nationality-sex\", \"age\"\n",
    "    \"exclude_subgroups\": \"keep-all\", # \"keep-all\", \"drop-non-german\"\n",
    "    \"eval_fairness_grouping\": [\"majority-minority\", \"nationality-all\"]\n",
    "}\n",
    "\n",
    "output_dir=\"./output\"\n",
    "seed=0"
   ]
  },
  {
   "cell_type": "code",
   "execution_count": 4,
   "id": "35d50463",
   "metadata": {
    "execution": {
     "iopub.execute_input": "2025-07-30T20:14:56.951983Z",
     "iopub.status.busy": "2025-07-30T20:14:56.951612Z",
     "iopub.status.idle": "2025-07-30T20:14:56.956709Z",
     "shell.execute_reply": "2025-07-30T20:14:56.955938Z"
    },
    "papermill": {
     "duration": 0.018186,
     "end_time": "2025-07-30T20:14:56.958283",
     "exception": false,
     "start_time": "2025-07-30T20:14:56.940097",
     "status": "completed"
    },
    "tags": [
     "injected-parameters"
    ]
   },
   "outputs": [],
   "source": [
    "# Parameters\n",
    "universe_id = \"21a2f5291dda0cc252f01748b57b0638\"\n",
    "run_no = \"14\"\n",
    "universe = \"{\\\"cutoff\\\": [\\\"quantile_0.1\\\", \\\"quantile_0.25\\\"], \\\"eval_fairness_grouping\\\": [\\\"majority-minority\\\", \\\"nationality-all\\\"], \\\"exclude_features\\\": \\\"age\\\", \\\"exclude_subgroups\\\": \\\"keep-all\\\", \\\"model\\\": \\\"elasticnet\\\", \\\"scale\\\": \\\"scale\\\", \\\"training_size\\\": \\\"25k\\\", \\\"training_year\\\": \\\"2012_14\\\"}\"\n",
    "output_dir = \"output\"\n",
    "seed = \"2023\"\n"
   ]
  },
  {
   "cell_type": "code",
   "execution_count": 5,
   "id": "1650acaf",
   "metadata": {
    "execution": {
     "iopub.execute_input": "2025-07-30T20:14:56.980356Z",
     "iopub.status.busy": "2025-07-30T20:14:56.979959Z",
     "iopub.status.idle": "2025-07-30T20:14:56.984044Z",
     "shell.execute_reply": "2025-07-30T20:14:56.983349Z"
    },
    "papermill": {
     "duration": 0.016282,
     "end_time": "2025-07-30T20:14:56.985833",
     "exception": false,
     "start_time": "2025-07-30T20:14:56.969551",
     "status": "completed"
    },
    "tags": []
   },
   "outputs": [],
   "source": [
    "import json\n",
    "# Parse universe into dict if it is passed as a string\n",
    "if isinstance(universe, str):\n",
    "    universe = json.loads(universe)"
   ]
  },
  {
   "cell_type": "code",
   "execution_count": 6,
   "id": "16620c48",
   "metadata": {
    "execution": {
     "iopub.execute_input": "2025-07-30T20:14:57.028850Z",
     "iopub.status.busy": "2025-07-30T20:14:57.028408Z",
     "iopub.status.idle": "2025-07-30T20:14:57.075840Z",
     "shell.execute_reply": "2025-07-30T20:14:57.075013Z"
    },
    "papermill": {
     "duration": 0.070918,
     "end_time": "2025-07-30T20:14:57.077663",
     "exception": false,
     "start_time": "2025-07-30T20:14:57.006745",
     "status": "completed"
    },
    "tags": []
   },
   "outputs": [],
   "source": [
    "# Auto-reload the custom package\n",
    "%load_ext autoreload\n",
    "%autoreload 1\n",
    "%aimport fairness_multiverse"
   ]
  },
  {
   "cell_type": "code",
   "execution_count": 7,
   "id": "01c5c9f3",
   "metadata": {
    "execution": {
     "iopub.execute_input": "2025-07-30T20:14:57.098888Z",
     "iopub.status.busy": "2025-07-30T20:14:57.098482Z",
     "iopub.status.idle": "2025-07-30T20:14:59.022479Z",
     "shell.execute_reply": "2025-07-30T20:14:59.021458Z"
    },
    "papermill": {
     "duration": 1.936413,
     "end_time": "2025-07-30T20:14:59.024374",
     "exception": false,
     "start_time": "2025-07-30T20:14:57.087961",
     "status": "completed"
    },
    "tags": []
   },
   "outputs": [],
   "source": [
    "from fairness_multiverse.universe import UniverseAnalysis\n",
    "\n",
    "universe_analysis = UniverseAnalysis(\n",
    "    run_no = run_no,\n",
    "    universe_id = universe_id,\n",
    "    universe = universe,\n",
    "    output_dir=output_dir,\n",
    ")"
   ]
  },
  {
   "cell_type": "code",
   "execution_count": 8,
   "id": "106241f5",
   "metadata": {
    "execution": {
     "iopub.execute_input": "2025-07-30T20:14:59.065228Z",
     "iopub.status.busy": "2025-07-30T20:14:59.064712Z",
     "iopub.status.idle": "2025-07-30T20:14:59.071955Z",
     "shell.execute_reply": "2025-07-30T20:14:59.070859Z"
    },
    "papermill": {
     "duration": 0.02987,
     "end_time": "2025-07-30T20:14:59.073759",
     "exception": false,
     "start_time": "2025-07-30T20:14:59.043889",
     "status": "completed"
    },
    "tags": []
   },
   "outputs": [
    {
     "name": "stdout",
     "output_type": "stream",
     "text": [
      "Using Seed: 2023\n"
     ]
    }
   ],
   "source": [
    "import numpy as np\n",
    "parsed_seed = int(seed)\n",
    "np.random.seed(parsed_seed)\n",
    "print(f\"Using Seed: {parsed_seed}\")"
   ]
  },
  {
   "cell_type": "markdown",
   "id": "e0ebdc57",
   "metadata": {
    "papermill": {
     "duration": 0.019003,
     "end_time": "2025-07-30T20:14:59.113457",
     "exception": false,
     "start_time": "2025-07-30T20:14:59.094454",
     "status": "completed"
    },
    "tags": []
   },
   "source": [
    "# Loading Data"
   ]
  },
  {
   "cell_type": "markdown",
   "id": "681925a3",
   "metadata": {
    "papermill": {
     "duration": 0.018851,
     "end_time": "2025-07-30T20:14:59.150687",
     "exception": false,
     "start_time": "2025-07-30T20:14:59.131836",
     "status": "completed"
    },
    "tags": []
   },
   "source": [
    "Load siab_train, siab_test, siab_calib and/or \n",
    "load siab_train_features, siab_train_labels"
   ]
  },
  {
   "cell_type": "code",
   "execution_count": 9,
   "id": "f0496b8a",
   "metadata": {
    "execution": {
     "iopub.execute_input": "2025-07-30T20:14:59.190560Z",
     "iopub.status.busy": "2025-07-30T20:14:59.189580Z",
     "iopub.status.idle": "2025-07-30T20:15:09.500077Z",
     "shell.execute_reply": "2025-07-30T20:15:09.499167Z"
    },
    "papermill": {
     "duration": 10.331479,
     "end_time": "2025-07-30T20:15:09.501515",
     "exception": false,
     "start_time": "2025-07-30T20:14:59.170036",
     "status": "completed"
    },
    "tags": []
   },
   "outputs": [
    {
     "name": "stdout",
     "output_type": "stream",
     "text": [
      "Loading SIAB data from cache: data/siab_cached.csv.gz\n"
     ]
    },
    {
     "name": "stdout",
     "output_type": "stream",
     "text": [
      "(643690, 164)\n"
     ]
    }
   ],
   "source": [
    "from pathlib import Path\n",
    "import pandas as pd\n",
    "\n",
    "# File paths\n",
    "raw_file = Path(\"data/raw/siab.csv\")\n",
    "cache_file = Path(\"data/siab_cached.csv.gz\")\n",
    "\n",
    "# Ensure cache directory exists\n",
    "cache_file.parent.mkdir(parents=True, exist_ok=True)\n",
    "\n",
    "# Load with simple caching\n",
    "if cache_file.exists():\n",
    "    print(f\"Loading SIAB data from cache: {cache_file}\")\n",
    "    siab = pd.read_csv(cache_file, compression='gzip')\n",
    "else:\n",
    "    print(f\"Cache not found. Reading raw SIAB data: {raw_file}\")\n",
    "    siab = pd.read_csv(raw_file)\n",
    "    siab.to_csv(cache_file, index=False, compression='gzip')\n",
    "    print(f\"Cached SIAB data to: {cache_file}\")\n",
    "\n",
    "# Now use `siab` DataFrame as needed\n",
    "print(siab.shape)"
   ]
  },
  {
   "cell_type": "code",
   "execution_count": 10,
   "id": "db0ca512-5f53-4dba-abdb-a2888bca41ba",
   "metadata": {
    "execution": {
     "iopub.execute_input": "2025-07-30T20:15:09.528514Z",
     "iopub.status.busy": "2025-07-30T20:15:09.527790Z",
     "iopub.status.idle": "2025-07-30T20:15:09.533364Z",
     "shell.execute_reply": "2025-07-30T20:15:09.532526Z"
    },
    "papermill": {
     "duration": 0.019747,
     "end_time": "2025-07-30T20:15:09.534794",
     "exception": false,
     "start_time": "2025-07-30T20:15:09.515047",
     "status": "completed"
    },
    "tags": []
   },
   "outputs": [],
   "source": [
    "#siab"
   ]
  },
  {
   "cell_type": "code",
   "execution_count": 11,
   "id": "a0edb063",
   "metadata": {
    "execution": {
     "iopub.execute_input": "2025-07-30T20:15:09.559155Z",
     "iopub.status.busy": "2025-07-30T20:15:09.558649Z",
     "iopub.status.idle": "2025-07-30T20:15:09.563376Z",
     "shell.execute_reply": "2025-07-30T20:15:09.562574Z"
    },
    "papermill": {
     "duration": 0.017753,
     "end_time": "2025-07-30T20:15:09.564742",
     "exception": false,
     "start_time": "2025-07-30T20:15:09.546989",
     "status": "completed"
    },
    "tags": []
   },
   "outputs": [],
   "source": [
    "#import pandas as pd\n",
    "#\n",
    "#X_train = pd.read_csv(\"./data/X_train.csv\")\n",
    "#y_train = pd.read_csv(\"./data/y_train.csv\")"
   ]
  },
  {
   "cell_type": "code",
   "execution_count": 12,
   "id": "63d08085",
   "metadata": {
    "execution": {
     "iopub.execute_input": "2025-07-30T20:15:09.589052Z",
     "iopub.status.busy": "2025-07-30T20:15:09.588549Z",
     "iopub.status.idle": "2025-07-30T20:15:09.592672Z",
     "shell.execute_reply": "2025-07-30T20:15:09.591779Z"
    },
    "papermill": {
     "duration": 0.017585,
     "end_time": "2025-07-30T20:15:09.594257",
     "exception": false,
     "start_time": "2025-07-30T20:15:09.576672",
     "status": "completed"
    },
    "tags": []
   },
   "outputs": [],
   "source": [
    "#X_test = pd.read_csv(\"./data/X_test.csv\")\n",
    "#y_true = pd.read_csv(\"./data/y_test.csv\")"
   ]
  },
  {
   "cell_type": "code",
   "execution_count": 13,
   "id": "98a8d0fa-1d3d-4ed8-bb2c-281470e24add",
   "metadata": {
    "execution": {
     "iopub.execute_input": "2025-07-30T20:15:09.618887Z",
     "iopub.status.busy": "2025-07-30T20:15:09.618527Z",
     "iopub.status.idle": "2025-07-30T20:15:09.623014Z",
     "shell.execute_reply": "2025-07-30T20:15:09.622250Z"
    },
    "papermill": {
     "duration": 0.01783,
     "end_time": "2025-07-30T20:15:09.624410",
     "exception": false,
     "start_time": "2025-07-30T20:15:09.606580",
     "status": "completed"
    },
    "tags": []
   },
   "outputs": [],
   "source": [
    "# Calibration data for conformal\n",
    "#X_calib = pd.read_csv(\"./data/X_calib.csv\")\n",
    "#y_calib = pd.read_csv(\"./data/y_calib.csv\")"
   ]
  },
  {
   "cell_type": "markdown",
   "id": "997051c5-15bd-4b69-9786-c3001a3ce484",
   "metadata": {
    "papermill": {
     "duration": 0.011015,
     "end_time": "2025-07-30T20:15:09.647758",
     "exception": false,
     "start_time": "2025-07-30T20:15:09.636743",
     "status": "completed"
    },
    "tags": []
   },
   "source": [
    "# Splitting Data and Setting Training Data Size"
   ]
  },
  {
   "cell_type": "code",
   "execution_count": 14,
   "id": "e993b61f-042d-41a6-8c81-f55681f86335",
   "metadata": {
    "execution": {
     "iopub.execute_input": "2025-07-30T20:15:09.683933Z",
     "iopub.status.busy": "2025-07-30T20:15:09.683453Z",
     "iopub.status.idle": "2025-07-30T20:15:09.697230Z",
     "shell.execute_reply": "2025-07-30T20:15:09.696212Z"
    },
    "papermill": {
     "duration": 0.0402,
     "end_time": "2025-07-30T20:15:09.699001",
     "exception": false,
     "start_time": "2025-07-30T20:15:09.658801",
     "status": "completed"
    },
    "tags": []
   },
   "outputs": [],
   "source": [
    "def sample_by_year_size(df,\n",
    "                        training_year: str,\n",
    "                        training_size: str,\n",
    "                        random_state: int = 42):\n",
    "    # --- parse training_year into a list of int years ---\n",
    "    if \"_\" in training_year:\n",
    "        start_str, end_str = training_year.split(\"_\", 1)\n",
    "        start = int(start_str)\n",
    "        end   = int(end_str) if len(end_str) == 4 else (int(end_str) + (start // 100)*100)\n",
    "        years = list(range(start, end + 1))\n",
    "    else:\n",
    "        years = [int(training_year)]\n",
    "\n",
    "    df = df[df[\"year\"].isin(years)].reset_index(drop=True)\n",
    "\n",
    "    # --- map training_size to total number of samples ---\n",
    "    total_map = {\"25k\": 25_000, \"5k\": 5_000, \"1k\": 1_000}\n",
    "    if training_size not in total_map:\n",
    "        return df  # e.g. \"all\"\n",
    "\n",
    "    total_samples = total_map[training_size]\n",
    "    n_years       = len(years)\n",
    "    base          = total_samples // n_years\n",
    "    remainder     = total_samples % n_years\n",
    "\n",
    "    # --- build a dict: year -> how many to sample ---\n",
    "    # give +1 to the first `remainder` years in ascending order\n",
    "    quotas = {\n",
    "        year: base + (1 if idx < remainder else 0)\n",
    "        for idx, year in enumerate(sorted(years))\n",
    "    }\n",
    "\n",
    "    # --- sample per‐year according to the quota dict ---\n",
    "    sampled = (\n",
    "        df\n",
    "        .groupby(\"year\", group_keys=False)\n",
    "        .apply(lambda grp: grp.sample(\n",
    "            n=min(len(grp), quotas[grp.name]),\n",
    "            random_state=random_state))\n",
    "        .reset_index(drop=True)\n",
    "    )\n",
    "\n",
    "    return sampled"
   ]
  },
  {
   "cell_type": "code",
   "execution_count": 15,
   "id": "c0ccd338-0e02-41f3-a09d-f56f9266e3fb",
   "metadata": {
    "execution": {
     "iopub.execute_input": "2025-07-30T20:15:09.745892Z",
     "iopub.status.busy": "2025-07-30T20:15:09.745230Z",
     "iopub.status.idle": "2025-07-30T20:15:09.750441Z",
     "shell.execute_reply": "2025-07-30T20:15:09.749375Z"
    },
    "papermill": {
     "duration": 0.029892,
     "end_time": "2025-07-30T20:15:09.752329",
     "exception": false,
     "start_time": "2025-07-30T20:15:09.722437",
     "status": "completed"
    },
    "tags": []
   },
   "outputs": [],
   "source": [
    "#universe[\"training_size\"]"
   ]
  },
  {
   "cell_type": "code",
   "execution_count": 16,
   "id": "ca707fd7-8047-4acd-bfa5-66248fbbf8e6",
   "metadata": {
    "execution": {
     "iopub.execute_input": "2025-07-30T20:15:09.797440Z",
     "iopub.status.busy": "2025-07-30T20:15:09.796785Z",
     "iopub.status.idle": "2025-07-30T20:15:09.802398Z",
     "shell.execute_reply": "2025-07-30T20:15:09.801491Z"
    },
    "papermill": {
     "duration": 0.030061,
     "end_time": "2025-07-30T20:15:09.804204",
     "exception": false,
     "start_time": "2025-07-30T20:15:09.774143",
     "status": "completed"
    },
    "tags": []
   },
   "outputs": [],
   "source": [
    "#universe[\"training_year\"]"
   ]
  },
  {
   "cell_type": "code",
   "execution_count": 17,
   "id": "aea9c6ef-6f46-42c8-85eb-5a62025c1508",
   "metadata": {
    "execution": {
     "iopub.execute_input": "2025-07-30T20:15:09.832963Z",
     "iopub.status.busy": "2025-07-30T20:15:09.832622Z",
     "iopub.status.idle": "2025-07-30T20:15:10.472692Z",
     "shell.execute_reply": "2025-07-30T20:15:10.471942Z"
    },
    "papermill": {
     "duration": 0.654111,
     "end_time": "2025-07-30T20:15:10.474180",
     "exception": false,
     "start_time": "2025-07-30T20:15:09.820069",
     "status": "completed"
    },
    "tags": []
   },
   "outputs": [],
   "source": [
    "siab_train = sample_by_year_size(siab,\n",
    "                               training_year=universe[\"training_year\"],\n",
    "                               training_size=universe[\"training_size\"])"
   ]
  },
  {
   "cell_type": "code",
   "execution_count": 18,
   "id": "8d3afb32-789d-442c-8d5d-9f5aa8dd2eed",
   "metadata": {
    "execution": {
     "iopub.execute_input": "2025-07-30T20:15:10.498849Z",
     "iopub.status.busy": "2025-07-30T20:15:10.498491Z",
     "iopub.status.idle": "2025-07-30T20:15:10.502951Z",
     "shell.execute_reply": "2025-07-30T20:15:10.501912Z"
    },
    "papermill": {
     "duration": 0.018442,
     "end_time": "2025-07-30T20:15:10.504294",
     "exception": false,
     "start_time": "2025-07-30T20:15:10.485852",
     "status": "completed"
    },
    "tags": []
   },
   "outputs": [],
   "source": [
    "#siab_train.shape"
   ]
  },
  {
   "cell_type": "code",
   "execution_count": 19,
   "id": "d582db68-1a4c-47fb-84fc-08518dc1975a",
   "metadata": {
    "execution": {
     "iopub.execute_input": "2025-07-30T20:15:10.529343Z",
     "iopub.status.busy": "2025-07-30T20:15:10.528840Z",
     "iopub.status.idle": "2025-07-30T20:15:10.533177Z",
     "shell.execute_reply": "2025-07-30T20:15:10.532505Z"
    },
    "papermill": {
     "duration": 0.017789,
     "end_time": "2025-07-30T20:15:10.534671",
     "exception": false,
     "start_time": "2025-07-30T20:15:10.516882",
     "status": "completed"
    },
    "tags": []
   },
   "outputs": [],
   "source": [
    "#display(siab_train.groupby(\"year\").size())"
   ]
  },
  {
   "cell_type": "code",
   "execution_count": 20,
   "id": "a561edb4-d032-42cb-8256-22eac1111c64",
   "metadata": {
    "execution": {
     "iopub.execute_input": "2025-07-30T20:15:10.559279Z",
     "iopub.status.busy": "2025-07-30T20:15:10.558313Z",
     "iopub.status.idle": "2025-07-30T20:15:10.764775Z",
     "shell.execute_reply": "2025-07-30T20:15:10.764012Z"
    },
    "papermill": {
     "duration": 0.219248,
     "end_time": "2025-07-30T20:15:10.766182",
     "exception": false,
     "start_time": "2025-07-30T20:15:10.546934",
     "status": "completed"
    },
    "tags": []
   },
   "outputs": [],
   "source": [
    "#siab_train = siab_s[siab_s.year < 2015]\n",
    "siab_calib = siab[siab.year == 2015]\n",
    "siab_test = siab[siab.year == 2016]"
   ]
  },
  {
   "cell_type": "code",
   "execution_count": 21,
   "id": "472de16f-c3db-4916-846b-1f0de9cf1746",
   "metadata": {
    "execution": {
     "iopub.execute_input": "2025-07-30T20:15:10.790133Z",
     "iopub.status.busy": "2025-07-30T20:15:10.789641Z",
     "iopub.status.idle": "2025-07-30T20:15:10.803338Z",
     "shell.execute_reply": "2025-07-30T20:15:10.802454Z"
    },
    "papermill": {
     "duration": 0.027023,
     "end_time": "2025-07-30T20:15:10.805084",
     "exception": false,
     "start_time": "2025-07-30T20:15:10.778061",
     "status": "completed"
    },
    "tags": []
   },
   "outputs": [],
   "source": [
    "X_train = siab_train.iloc[:,4:164]\n",
    "y_train = siab_train.iloc[:, [3]]"
   ]
  },
  {
   "cell_type": "code",
   "execution_count": 22,
   "id": "828c96af-f43a-4ed6-ba47-8ac73a47d56c",
   "metadata": {
    "execution": {
     "iopub.execute_input": "2025-07-30T20:15:10.829964Z",
     "iopub.status.busy": "2025-07-30T20:15:10.829469Z",
     "iopub.status.idle": "2025-07-30T20:15:10.876691Z",
     "shell.execute_reply": "2025-07-30T20:15:10.875781Z"
    },
    "papermill": {
     "duration": 0.060416,
     "end_time": "2025-07-30T20:15:10.878108",
     "exception": false,
     "start_time": "2025-07-30T20:15:10.817692",
     "status": "completed"
    },
    "tags": []
   },
   "outputs": [],
   "source": [
    "X_calib = siab_calib.iloc[:,4:164]\n",
    "y_calib = siab_calib.iloc[:, [3]]"
   ]
  },
  {
   "cell_type": "code",
   "execution_count": 23,
   "id": "c34be9c3-6bd6-476e-acd3-845840e303be",
   "metadata": {
    "execution": {
     "iopub.execute_input": "2025-07-30T20:15:10.902411Z",
     "iopub.status.busy": "2025-07-30T20:15:10.901794Z",
     "iopub.status.idle": "2025-07-30T20:15:10.952592Z",
     "shell.execute_reply": "2025-07-30T20:15:10.951592Z"
    },
    "papermill": {
     "duration": 0.063622,
     "end_time": "2025-07-30T20:15:10.954043",
     "exception": false,
     "start_time": "2025-07-30T20:15:10.890421",
     "status": "completed"
    },
    "tags": []
   },
   "outputs": [],
   "source": [
    "X_test = siab_test.iloc[:,4:164]\n",
    "y_true = siab_test.iloc[:, [3]]"
   ]
  },
  {
   "cell_type": "markdown",
   "id": "9901737e-04df-44f0-9100-f5ad144ed040",
   "metadata": {
    "papermill": {
     "duration": 0.010709,
     "end_time": "2025-07-30T20:15:10.977117",
     "exception": false,
     "start_time": "2025-07-30T20:15:10.966408",
     "status": "completed"
    },
    "tags": []
   },
   "source": [
    "# Splitting Data and Setting Training Data Size OLD VERSION"
   ]
  },
  {
   "cell_type": "code",
   "execution_count": 24,
   "id": "acbc8f7d-8fc8-4e86-8c59-5dcb0f58384b",
   "metadata": {
    "execution": {
     "iopub.execute_input": "2025-07-30T20:15:10.999692Z",
     "iopub.status.busy": "2025-07-30T20:15:10.999197Z",
     "iopub.status.idle": "2025-07-30T20:15:11.004410Z",
     "shell.execute_reply": "2025-07-30T20:15:11.003494Z"
    },
    "papermill": {
     "duration": 0.018228,
     "end_time": "2025-07-30T20:15:11.005804",
     "exception": false,
     "start_time": "2025-07-30T20:15:10.987576",
     "status": "completed"
    },
    "tags": []
   },
   "outputs": [],
   "source": [
    "#def sample_by_year(df, training_size, random_state=42):\n",
    "#    if training_size == \"2014\":\n",
    "#        return df[df[\"year\"] == 2014].reset_index(drop=True)\n",
    "#    \n",
    "#    size_map = {\n",
    "#        \"25k\": 5000,\n",
    "#        \"5k\": 1000,\n",
    "#        \"1k\": 200\n",
    "#    }\n",
    "#\n",
    "#    if training_size not in size_map:\n",
    "#        return df.reset_index(drop=True)  # use all data\n",
    "#\n",
    "#    n_per_year = size_map[training_size]\n",
    "#    grouped = df.groupby(\"year\")\n",
    "#    sampled = grouped.apply(lambda x: x.sample(n=min(n_per_year, len(x)), random_state=random_state))\n",
    "#    return sampled.reset_index(drop=True)"
   ]
  },
  {
   "cell_type": "code",
   "execution_count": 25,
   "id": "6d931f52-beaf-43ff-9e78-9d44a448d54e",
   "metadata": {
    "execution": {
     "iopub.execute_input": "2025-07-30T20:15:11.029613Z",
     "iopub.status.busy": "2025-07-30T20:15:11.029299Z",
     "iopub.status.idle": "2025-07-30T20:15:11.033282Z",
     "shell.execute_reply": "2025-07-30T20:15:11.032433Z"
    },
    "papermill": {
     "duration": 0.017061,
     "end_time": "2025-07-30T20:15:11.034775",
     "exception": false,
     "start_time": "2025-07-30T20:15:11.017714",
     "status": "completed"
    },
    "tags": []
   },
   "outputs": [],
   "source": [
    "#siab_s = sample_by_year(siab, universe[\"training_size\"])"
   ]
  },
  {
   "cell_type": "code",
   "execution_count": 26,
   "id": "5db0a40e-a4e2-4920-be85-b12ae061d70d",
   "metadata": {
    "execution": {
     "iopub.execute_input": "2025-07-30T20:15:11.059619Z",
     "iopub.status.busy": "2025-07-30T20:15:11.059278Z",
     "iopub.status.idle": "2025-07-30T20:15:11.063668Z",
     "shell.execute_reply": "2025-07-30T20:15:11.062797Z"
    },
    "papermill": {
     "duration": 0.017917,
     "end_time": "2025-07-30T20:15:11.065083",
     "exception": false,
     "start_time": "2025-07-30T20:15:11.047166",
     "status": "completed"
    },
    "tags": []
   },
   "outputs": [],
   "source": [
    "#display(siab_s.groupby(\"year\").size())"
   ]
  },
  {
   "cell_type": "code",
   "execution_count": 27,
   "id": "e6c733c5",
   "metadata": {
    "execution": {
     "iopub.execute_input": "2025-07-30T20:15:11.088870Z",
     "iopub.status.busy": "2025-07-30T20:15:11.088542Z",
     "iopub.status.idle": "2025-07-30T20:15:11.180980Z",
     "shell.execute_reply": "2025-07-30T20:15:11.180255Z"
    },
    "papermill": {
     "duration": 0.10546,
     "end_time": "2025-07-30T20:15:11.182500",
     "exception": false,
     "start_time": "2025-07-30T20:15:11.077040",
     "status": "completed"
    },
    "tags": []
   },
   "outputs": [],
   "source": [
    "# Auxiliary data needed downstream in the pipeline\n",
    "\n",
    "org_train = X_train.copy()\n",
    "org_test = X_test.copy()\n",
    "org_calib = X_calib.copy()"
   ]
  },
  {
   "cell_type": "code",
   "execution_count": 28,
   "id": "1466abac-c6da-4492-a62f-4240ae3783af",
   "metadata": {
    "execution": {
     "iopub.execute_input": "2025-07-30T20:15:11.205443Z",
     "iopub.status.busy": "2025-07-30T20:15:11.205101Z",
     "iopub.status.idle": "2025-07-30T20:15:11.209814Z",
     "shell.execute_reply": "2025-07-30T20:15:11.208868Z"
    },
    "papermill": {
     "duration": 0.017406,
     "end_time": "2025-07-30T20:15:11.211135",
     "exception": false,
     "start_time": "2025-07-30T20:15:11.193729",
     "status": "completed"
    },
    "tags": []
   },
   "outputs": [],
   "source": [
    "# put in other script?\n",
    "# Group sizes\n",
    "\n",
    "#def calculate_percentages(df, df_name):\n",
    "#    total_entries = len(df)\n",
    "#\n",
    "#    female_pct = (df['frau1'] == 1).mean() * 100\n",
    "#    non_german_pct = ((df['maxdeutsch1'] == 0) & (df['maxdeutsch.Missing.'] == 0)).mean() * 100\n",
    "#    non_german_male_pct = ((df['frau1'] == 0) & (df['maxdeutsch1'] == 0) & (df['maxdeutsch.Missing.'] == 0)).mean() * 100\n",
    "#    non_german_female_pct = ((df['frau1'] == 1) & (df['maxdeutsch1'] == 0) & (df['maxdeutsch.Missing.'] == 0)).mean() * 100\n",
    "#\n",
    "#    print(f\"--- {df_name} ---\")\n",
    "#    print(f\"Female: {female_pct:.2f}%\")\n",
    "#    print(f\"Non-German: {non_german_pct:.2f}%\")\n",
    "#    print(f\"Non-German Male: {non_german_male_pct:.2f}%\")\n",
    "#    print(f\"Non-German Female: {non_german_female_pct:.2f}%\\n\")\n",
    "#\n",
    "## Calculate for each DataFrame\n",
    "#calculate_percentages(siab_calib, \"siab_calib\")\n",
    "#calculate_percentages(siab_test, \"siab_test\")\n",
    "#calculate_percentages(siab_train, \"siab_train\")"
   ]
  },
  {
   "cell_type": "markdown",
   "id": "0a4a1b33",
   "metadata": {
    "papermill": {
     "duration": 0.010501,
     "end_time": "2025-07-30T20:15:11.233883",
     "exception": false,
     "start_time": "2025-07-30T20:15:11.223382",
     "status": "completed"
    },
    "tags": []
   },
   "source": [
    "# Preprocessing Data"
   ]
  },
  {
   "cell_type": "code",
   "execution_count": 29,
   "id": "ca879031",
   "metadata": {
    "execution": {
     "iopub.execute_input": "2025-07-30T20:15:11.264942Z",
     "iopub.status.busy": "2025-07-30T20:15:11.264428Z",
     "iopub.status.idle": "2025-07-30T20:15:11.270825Z",
     "shell.execute_reply": "2025-07-30T20:15:11.269645Z"
    },
    "papermill": {
     "duration": 0.028077,
     "end_time": "2025-07-30T20:15:11.272739",
     "exception": false,
     "start_time": "2025-07-30T20:15:11.244662",
     "status": "completed"
    },
    "tags": []
   },
   "outputs": [],
   "source": [
    "# EXCLUDE PROTECTED FEATURES\n",
    "# ----------------------\n",
    "# \"exclude_features\": \"none\", # \"nationality\", \"sex\", \"nationality-sex\"\n",
    "\n",
    "excluded_features = universe[\"exclude_features\"].split(\"-\") # split, e.g.: \"nationality-sex\" -> [\"nationality\", \"sex\"]\n",
    "excluded_features_dictionary = {\n",
    "    \"nationality\": [\"maxdeutsch1\", \"maxdeutsch.Missing.\"],\n",
    "    \"sex\": [\"frau1\"],\n",
    "    \"age\": [\"age\"],\n",
    "}\n"
   ]
  },
  {
   "cell_type": "code",
   "execution_count": 30,
   "id": "b745ac60",
   "metadata": {
    "execution": {
     "iopub.execute_input": "2025-07-30T20:15:11.317844Z",
     "iopub.status.busy": "2025-07-30T20:15:11.317016Z",
     "iopub.status.idle": "2025-07-30T20:15:11.323261Z",
     "shell.execute_reply": "2025-07-30T20:15:11.322246Z"
    },
    "papermill": {
     "duration": 0.028695,
     "end_time": "2025-07-30T20:15:11.325191",
     "exception": false,
     "start_time": "2025-07-30T20:15:11.296496",
     "status": "completed"
    },
    "tags": []
   },
   "outputs": [],
   "source": [
    "# Code nice names to column names\n",
    "\n",
    "excluded_features_columns = [\n",
    "    excluded_features_dictionary[f] for f in excluded_features if len(f) > 0 and f != \"none\"\n",
    "]"
   ]
  },
  {
   "cell_type": "code",
   "execution_count": 31,
   "id": "f84f73a2",
   "metadata": {
    "execution": {
     "iopub.execute_input": "2025-07-30T20:15:11.380321Z",
     "iopub.status.busy": "2025-07-30T20:15:11.369865Z",
     "iopub.status.idle": "2025-07-30T20:15:11.385600Z",
     "shell.execute_reply": "2025-07-30T20:15:11.384821Z"
    },
    "papermill": {
     "duration": 0.038147,
     "end_time": "2025-07-30T20:15:11.386882",
     "exception": false,
     "start_time": "2025-07-30T20:15:11.348735",
     "status": "completed"
    },
    "tags": []
   },
   "outputs": [],
   "source": [
    "from utils import flatten_once\n",
    "\n",
    "excluded_features_columns = flatten_once(excluded_features_columns)"
   ]
  },
  {
   "cell_type": "code",
   "execution_count": 32,
   "id": "884dea22",
   "metadata": {
    "execution": {
     "iopub.execute_input": "2025-07-30T20:15:11.412833Z",
     "iopub.status.busy": "2025-07-30T20:15:11.412319Z",
     "iopub.status.idle": "2025-07-30T20:15:11.426189Z",
     "shell.execute_reply": "2025-07-30T20:15:11.425288Z"
    },
    "papermill": {
     "duration": 0.02858,
     "end_time": "2025-07-30T20:15:11.427539",
     "exception": false,
     "start_time": "2025-07-30T20:15:11.398959",
     "status": "completed"
    },
    "tags": []
   },
   "outputs": [
    {
     "name": "stdout",
     "output_type": "stream",
     "text": [
      "Dropping features: ['age']\n"
     ]
    }
   ],
   "source": [
    "if len(excluded_features_columns) > 0:\n",
    "    print(f\"Dropping features: {excluded_features_columns}\")\n",
    "    X_train.drop(excluded_features_columns, axis=1, inplace=True)"
   ]
  },
  {
   "cell_type": "code",
   "execution_count": 33,
   "id": "95ab8b16",
   "metadata": {
    "execution": {
     "iopub.execute_input": "2025-07-30T20:15:11.452958Z",
     "iopub.status.busy": "2025-07-30T20:15:11.452239Z",
     "iopub.status.idle": "2025-07-30T20:15:11.500940Z",
     "shell.execute_reply": "2025-07-30T20:15:11.499924Z"
    },
    "papermill": {
     "duration": 0.061727,
     "end_time": "2025-07-30T20:15:11.502413",
     "exception": false,
     "start_time": "2025-07-30T20:15:11.440686",
     "status": "completed"
    },
    "tags": []
   },
   "outputs": [
    {
     "name": "stdout",
     "output_type": "stream",
     "text": [
      "Dropping features: ['age']\n"
     ]
    }
   ],
   "source": [
    "if len(excluded_features_columns) > 0:\n",
    "    print(f\"Dropping features: {excluded_features_columns}\")\n",
    "    X_test.drop(excluded_features_columns, axis=1, inplace=True)"
   ]
  },
  {
   "cell_type": "code",
   "execution_count": 34,
   "id": "1853aaf5-fb9f-46cb-a2b5-8ea4ae2237e4",
   "metadata": {
    "execution": {
     "iopub.execute_input": "2025-07-30T20:15:11.527720Z",
     "iopub.status.busy": "2025-07-30T20:15:11.527073Z",
     "iopub.status.idle": "2025-07-30T20:15:11.573438Z",
     "shell.execute_reply": "2025-07-30T20:15:11.572672Z"
    },
    "papermill": {
     "duration": 0.059368,
     "end_time": "2025-07-30T20:15:11.574796",
     "exception": false,
     "start_time": "2025-07-30T20:15:11.515428",
     "status": "completed"
    },
    "tags": []
   },
   "outputs": [
    {
     "name": "stdout",
     "output_type": "stream",
     "text": [
      "Dropping features: ['age']\n"
     ]
    }
   ],
   "source": [
    "if len(excluded_features_columns) > 0:\n",
    "    print(f\"Dropping features: {excluded_features_columns}\")\n",
    "    X_calib.drop(excluded_features_columns, axis=1, inplace=True)"
   ]
  },
  {
   "cell_type": "code",
   "execution_count": 35,
   "id": "6727d079-03e5-481e-9d38-292a90b7a0a8",
   "metadata": {
    "execution": {
     "iopub.execute_input": "2025-07-30T20:15:11.599664Z",
     "iopub.status.busy": "2025-07-30T20:15:11.598962Z",
     "iopub.status.idle": "2025-07-30T20:15:11.603154Z",
     "shell.execute_reply": "2025-07-30T20:15:11.602465Z"
    },
    "papermill": {
     "duration": 0.017342,
     "end_time": "2025-07-30T20:15:11.604632",
     "exception": false,
     "start_time": "2025-07-30T20:15:11.587290",
     "status": "completed"
    },
    "tags": []
   },
   "outputs": [],
   "source": [
    "# SPLIT & STRATIFY DATA\n",
    "# ----------------------"
   ]
  },
  {
   "cell_type": "code",
   "execution_count": 36,
   "id": "76c4dc6d",
   "metadata": {
    "execution": {
     "iopub.execute_input": "2025-07-30T20:15:11.629598Z",
     "iopub.status.busy": "2025-07-30T20:15:11.628888Z",
     "iopub.status.idle": "2025-07-30T20:15:11.633546Z",
     "shell.execute_reply": "2025-07-30T20:15:11.632838Z"
    },
    "papermill": {
     "duration": 0.017801,
     "end_time": "2025-07-30T20:15:11.634816",
     "exception": false,
     "start_time": "2025-07-30T20:15:11.617015",
     "status": "completed"
    },
    "tags": []
   },
   "outputs": [],
   "source": [
    "# EXCLUDE CERTAIN SUBGROUPS\n",
    "# ----------------------\n",
    "\n",
    "mode = universe.get(\"exclude_subgroups\", \"keep-all\") \n",
    "# Fetches the exclude_subgroups setting from the universe dict.\n",
    "# Defaults to \"keep-all\" if the key is missing."
   ]
  },
  {
   "cell_type": "code",
   "execution_count": 37,
   "id": "21994072",
   "metadata": {
    "execution": {
     "iopub.execute_input": "2025-07-30T20:15:11.660000Z",
     "iopub.status.busy": "2025-07-30T20:15:11.659650Z",
     "iopub.status.idle": "2025-07-30T20:15:11.666006Z",
     "shell.execute_reply": "2025-07-30T20:15:11.665147Z"
    },
    "papermill": {
     "duration": 0.019915,
     "end_time": "2025-07-30T20:15:11.667535",
     "exception": false,
     "start_time": "2025-07-30T20:15:11.647620",
     "status": "completed"
    },
    "tags": []
   },
   "outputs": [],
   "source": [
    "if mode == \"keep-all\":\n",
    "    keep_mask = pd.Series(True, index=org_train.index)\n",
    "\n",
    "# org_train contains the original feature columns from features_org (in Simson)\n",
    "# features_org contains unprocessed features, for me X_train at beginning ???\n",
    "# For keep-all, creates a boolean Series (keep_mask) of all True, so no rows are removed.\n",
    "\n",
    "elif mode == \"drop-non-german\":\n",
    "    keep_mask = org_train[\"maxdeutsch1\"] == 1 # ??? what about missing values?\n",
    "\n",
    "else:\n",
    "    raise ValueError(f\"Unsupported mode for exclude_subgroups: {mode}\")\n"
   ]
  },
  {
   "cell_type": "code",
   "execution_count": 38,
   "id": "71651440",
   "metadata": {
    "execution": {
     "iopub.execute_input": "2025-07-30T20:15:11.701200Z",
     "iopub.status.busy": "2025-07-30T20:15:11.700516Z",
     "iopub.status.idle": "2025-07-30T20:15:11.706176Z",
     "shell.execute_reply": "2025-07-30T20:15:11.705409Z"
    },
    "papermill": {
     "duration": 0.022996,
     "end_time": "2025-07-30T20:15:11.707594",
     "exception": false,
     "start_time": "2025-07-30T20:15:11.684598",
     "status": "completed"
    },
    "tags": []
   },
   "outputs": [],
   "source": [
    "n_drop = (~keep_mask).sum() # Calculates how many rows are set to be dropped\n",
    "if n_drop > 0:\n",
    "    pct = n_drop / len(keep_mask) * 100\n",
    "    print(f\"Dropping {n_drop} rows ({pct:.2f}%) where mode='{mode}'\")"
   ]
  },
  {
   "cell_type": "code",
   "execution_count": 39,
   "id": "5fb8eee5",
   "metadata": {
    "execution": {
     "iopub.execute_input": "2025-07-30T20:15:11.735403Z",
     "iopub.status.busy": "2025-07-30T20:15:11.734713Z",
     "iopub.status.idle": "2025-07-30T20:15:11.748233Z",
     "shell.execute_reply": "2025-07-30T20:15:11.747334Z"
    },
    "papermill": {
     "duration": 0.028566,
     "end_time": "2025-07-30T20:15:11.749977",
     "exception": false,
     "start_time": "2025-07-30T20:15:11.721411",
     "status": "completed"
    },
    "tags": []
   },
   "outputs": [],
   "source": [
    "X_train = X_train[keep_mask]"
   ]
  },
  {
   "cell_type": "code",
   "execution_count": 40,
   "id": "b202bb3a",
   "metadata": {
    "execution": {
     "iopub.execute_input": "2025-07-30T20:15:11.775904Z",
     "iopub.status.busy": "2025-07-30T20:15:11.775526Z",
     "iopub.status.idle": "2025-07-30T20:15:11.781227Z",
     "shell.execute_reply": "2025-07-30T20:15:11.780545Z"
    },
    "papermill": {
     "duration": 0.019496,
     "end_time": "2025-07-30T20:15:11.782455",
     "exception": false,
     "start_time": "2025-07-30T20:15:11.762959",
     "status": "completed"
    },
    "tags": []
   },
   "outputs": [],
   "source": [
    "y_train = y_train[keep_mask]"
   ]
  },
  {
   "cell_type": "markdown",
   "id": "493e2ac3",
   "metadata": {
    "papermill": {
     "duration": 0.011951,
     "end_time": "2025-07-30T20:15:11.806643",
     "exception": false,
     "start_time": "2025-07-30T20:15:11.794692",
     "status": "completed"
    },
    "tags": []
   },
   "source": [
    "# Model Training"
   ]
  },
  {
   "cell_type": "code",
   "execution_count": 41,
   "id": "679e1268",
   "metadata": {
    "execution": {
     "iopub.execute_input": "2025-07-30T20:15:11.830663Z",
     "iopub.status.busy": "2025-07-30T20:15:11.830176Z",
     "iopub.status.idle": "2025-07-30T20:15:11.904614Z",
     "shell.execute_reply": "2025-07-30T20:15:11.903901Z"
    },
    "papermill": {
     "duration": 0.08802,
     "end_time": "2025-07-30T20:15:11.905981",
     "exception": false,
     "start_time": "2025-07-30T20:15:11.817961",
     "status": "completed"
    },
    "tags": []
   },
   "outputs": [],
   "source": [
    "from sklearn.linear_model import LogisticRegression\n",
    "from sklearn.ensemble import GradientBoostingClassifier, RandomForestClassifier\n",
    "\n",
    "if (universe[\"model\"] == \"logreg\"):\n",
    "    model = LogisticRegression() #penalty=\"none\") #, solver=\"newton-cg\", max_iter=1) # include random_state=19 ?\n",
    "elif (universe[\"model\"] == \"penalized_logreg\"):\n",
    "    model = LogisticRegression(penalty=\"l2\", C=1.0) #, solver=\"newton-cg\", max_iter=1)\n",
    "elif (universe[\"model\"] == \"rf\"):\n",
    "    model = RandomForestClassifier(n_estimators=100, n_jobs=-1)\n",
    "elif (universe[\"model\"] == \"gbm\"):\n",
    "    model = GradientBoostingClassifier()\n",
    "elif (universe[\"model\"] == \"elasticnet\"):\n",
    "    model = LogisticRegression(penalty = 'elasticnet', solver = 'saga', l1_ratio = 0.5, max_iter=5000) # which solver to use?\n",
    "else:\n",
    "    raise \"Unsupported universe.model\""
   ]
  },
  {
   "cell_type": "code",
   "execution_count": 42,
   "id": "0cc8f744",
   "metadata": {
    "execution": {
     "iopub.execute_input": "2025-07-30T20:15:11.930576Z",
     "iopub.status.busy": "2025-07-30T20:15:11.929993Z",
     "iopub.status.idle": "2025-07-30T20:15:11.935286Z",
     "shell.execute_reply": "2025-07-30T20:15:11.934485Z"
    },
    "papermill": {
     "duration": 0.01851,
     "end_time": "2025-07-30T20:15:11.936621",
     "exception": false,
     "start_time": "2025-07-30T20:15:11.918111",
     "status": "completed"
    },
    "tags": []
   },
   "outputs": [],
   "source": [
    "import numpy as np\n",
    "from sklearn.pipeline import Pipeline\n",
    "from sklearn.preprocessing import StandardScaler\n",
    "\n",
    "model = Pipeline([\n",
    "    #(\"continuous_processor\", continuous_processor),\n",
    "    #(\"categorical_preprocessor\", categorical_preprocessor),\n",
    "    (\"scale\", StandardScaler() if universe[\"scale\"] == \"scale\" else None), \n",
    "    (\"model\", model),\n",
    "])"
   ]
  },
  {
   "cell_type": "code",
   "execution_count": 43,
   "id": "9442c04d",
   "metadata": {
    "execution": {
     "iopub.execute_input": "2025-07-30T20:15:11.962097Z",
     "iopub.status.busy": "2025-07-30T20:15:11.961395Z",
     "iopub.status.idle": "2025-07-30T20:15:27.417740Z",
     "shell.execute_reply": "2025-07-30T20:15:27.417047Z"
    },
    "papermill": {
     "duration": 15.469727,
     "end_time": "2025-07-30T20:15:27.418996",
     "exception": false,
     "start_time": "2025-07-30T20:15:11.949269",
     "status": "completed"
    },
    "tags": []
   },
   "outputs": [
    {
     "data": {
      "text/html": [
       "<style>#sk-container-id-1 {color: black;background-color: white;}#sk-container-id-1 pre{padding: 0;}#sk-container-id-1 div.sk-toggleable {background-color: white;}#sk-container-id-1 label.sk-toggleable__label {cursor: pointer;display: block;width: 100%;margin-bottom: 0;padding: 0.3em;box-sizing: border-box;text-align: center;}#sk-container-id-1 label.sk-toggleable__label-arrow:before {content: \"▸\";float: left;margin-right: 0.25em;color: #696969;}#sk-container-id-1 label.sk-toggleable__label-arrow:hover:before {color: black;}#sk-container-id-1 div.sk-estimator:hover label.sk-toggleable__label-arrow:before {color: black;}#sk-container-id-1 div.sk-toggleable__content {max-height: 0;max-width: 0;overflow: hidden;text-align: left;background-color: #f0f8ff;}#sk-container-id-1 div.sk-toggleable__content pre {margin: 0.2em;color: black;border-radius: 0.25em;background-color: #f0f8ff;}#sk-container-id-1 input.sk-toggleable__control:checked~div.sk-toggleable__content {max-height: 200px;max-width: 100%;overflow: auto;}#sk-container-id-1 input.sk-toggleable__control:checked~label.sk-toggleable__label-arrow:before {content: \"▾\";}#sk-container-id-1 div.sk-estimator input.sk-toggleable__control:checked~label.sk-toggleable__label {background-color: #d4ebff;}#sk-container-id-1 div.sk-label input.sk-toggleable__control:checked~label.sk-toggleable__label {background-color: #d4ebff;}#sk-container-id-1 input.sk-hidden--visually {border: 0;clip: rect(1px 1px 1px 1px);clip: rect(1px, 1px, 1px, 1px);height: 1px;margin: -1px;overflow: hidden;padding: 0;position: absolute;width: 1px;}#sk-container-id-1 div.sk-estimator {font-family: monospace;background-color: #f0f8ff;border: 1px dotted black;border-radius: 0.25em;box-sizing: border-box;margin-bottom: 0.5em;}#sk-container-id-1 div.sk-estimator:hover {background-color: #d4ebff;}#sk-container-id-1 div.sk-parallel-item::after {content: \"\";width: 100%;border-bottom: 1px solid gray;flex-grow: 1;}#sk-container-id-1 div.sk-label:hover label.sk-toggleable__label {background-color: #d4ebff;}#sk-container-id-1 div.sk-serial::before {content: \"\";position: absolute;border-left: 1px solid gray;box-sizing: border-box;top: 0;bottom: 0;left: 50%;z-index: 0;}#sk-container-id-1 div.sk-serial {display: flex;flex-direction: column;align-items: center;background-color: white;padding-right: 0.2em;padding-left: 0.2em;position: relative;}#sk-container-id-1 div.sk-item {position: relative;z-index: 1;}#sk-container-id-1 div.sk-parallel {display: flex;align-items: stretch;justify-content: center;background-color: white;position: relative;}#sk-container-id-1 div.sk-item::before, #sk-container-id-1 div.sk-parallel-item::before {content: \"\";position: absolute;border-left: 1px solid gray;box-sizing: border-box;top: 0;bottom: 0;left: 50%;z-index: -1;}#sk-container-id-1 div.sk-parallel-item {display: flex;flex-direction: column;z-index: 1;position: relative;background-color: white;}#sk-container-id-1 div.sk-parallel-item:first-child::after {align-self: flex-end;width: 50%;}#sk-container-id-1 div.sk-parallel-item:last-child::after {align-self: flex-start;width: 50%;}#sk-container-id-1 div.sk-parallel-item:only-child::after {width: 0;}#sk-container-id-1 div.sk-dashed-wrapped {border: 1px dashed gray;margin: 0 0.4em 0.5em 0.4em;box-sizing: border-box;padding-bottom: 0.4em;background-color: white;}#sk-container-id-1 div.sk-label label {font-family: monospace;font-weight: bold;display: inline-block;line-height: 1.2em;}#sk-container-id-1 div.sk-label-container {text-align: center;}#sk-container-id-1 div.sk-container {/* jupyter's `normalize.less` sets `[hidden] { display: none; }` but bootstrap.min.css set `[hidden] { display: none !important; }` so we also need the `!important` here to be able to override the default hidden behavior on the sphinx rendered scikit-learn.org. See: https://github.com/scikit-learn/scikit-learn/issues/21755 */display: inline-block !important;position: relative;}#sk-container-id-1 div.sk-text-repr-fallback {display: none;}</style><div id=\"sk-container-id-1\" class=\"sk-top-container\"><div class=\"sk-text-repr-fallback\"><pre>Pipeline(steps=[(&#x27;scale&#x27;, StandardScaler()),\n",
       "                (&#x27;model&#x27;,\n",
       "                 LogisticRegression(l1_ratio=0.5, max_iter=5000,\n",
       "                                    penalty=&#x27;elasticnet&#x27;, solver=&#x27;saga&#x27;))])</pre><b>In a Jupyter environment, please rerun this cell to show the HTML representation or trust the notebook. <br />On GitHub, the HTML representation is unable to render, please try loading this page with nbviewer.org.</b></div><div class=\"sk-container\" hidden><div class=\"sk-item sk-dashed-wrapped\"><div class=\"sk-label-container\"><div class=\"sk-label sk-toggleable\"><input class=\"sk-toggleable__control sk-hidden--visually\" id=\"sk-estimator-id-1\" type=\"checkbox\" ><label for=\"sk-estimator-id-1\" class=\"sk-toggleable__label sk-toggleable__label-arrow\">Pipeline</label><div class=\"sk-toggleable__content\"><pre>Pipeline(steps=[(&#x27;scale&#x27;, StandardScaler()),\n",
       "                (&#x27;model&#x27;,\n",
       "                 LogisticRegression(l1_ratio=0.5, max_iter=5000,\n",
       "                                    penalty=&#x27;elasticnet&#x27;, solver=&#x27;saga&#x27;))])</pre></div></div></div><div class=\"sk-serial\"><div class=\"sk-item\"><div class=\"sk-estimator sk-toggleable\"><input class=\"sk-toggleable__control sk-hidden--visually\" id=\"sk-estimator-id-2\" type=\"checkbox\" ><label for=\"sk-estimator-id-2\" class=\"sk-toggleable__label sk-toggleable__label-arrow\">StandardScaler</label><div class=\"sk-toggleable__content\"><pre>StandardScaler()</pre></div></div></div><div class=\"sk-item\"><div class=\"sk-estimator sk-toggleable\"><input class=\"sk-toggleable__control sk-hidden--visually\" id=\"sk-estimator-id-3\" type=\"checkbox\" ><label for=\"sk-estimator-id-3\" class=\"sk-toggleable__label sk-toggleable__label-arrow\">LogisticRegression</label><div class=\"sk-toggleable__content\"><pre>LogisticRegression(l1_ratio=0.5, max_iter=5000, penalty=&#x27;elasticnet&#x27;,\n",
       "                   solver=&#x27;saga&#x27;)</pre></div></div></div></div></div></div></div>"
      ],
      "text/plain": [
       "Pipeline(steps=[('scale', StandardScaler()),\n",
       "                ('model',\n",
       "                 LogisticRegression(l1_ratio=0.5, max_iter=5000,\n",
       "                                    penalty='elasticnet', solver='saga'))])"
      ]
     },
     "execution_count": 43,
     "metadata": {},
     "output_type": "execute_result"
    }
   ],
   "source": [
    "model.fit(X_train, y_train.values.ravel())"
   ]
  },
  {
   "cell_type": "code",
   "execution_count": 44,
   "id": "af59f8c0",
   "metadata": {
    "execution": {
     "iopub.execute_input": "2025-07-30T20:15:27.446039Z",
     "iopub.status.busy": "2025-07-30T20:15:27.445729Z",
     "iopub.status.idle": "2025-07-30T20:15:27.450100Z",
     "shell.execute_reply": "2025-07-30T20:15:27.449251Z"
    },
    "papermill": {
     "duration": 0.017838,
     "end_time": "2025-07-30T20:15:27.451391",
     "exception": false,
     "start_time": "2025-07-30T20:15:27.433553",
     "status": "completed"
    },
    "tags": []
   },
   "outputs": [],
   "source": [
    "from fairness_multiverse.universe import predict_w_threshold"
   ]
  },
  {
   "cell_type": "code",
   "execution_count": 45,
   "id": "a7cf2e16",
   "metadata": {
    "execution": {
     "iopub.execute_input": "2025-07-30T20:15:27.495427Z",
     "iopub.status.busy": "2025-07-30T20:15:27.495008Z",
     "iopub.status.idle": "2025-07-30T20:15:27.690570Z",
     "shell.execute_reply": "2025-07-30T20:15:27.689650Z"
    },
    "papermill": {
     "duration": 0.219798,
     "end_time": "2025-07-30T20:15:27.692288",
     "exception": false,
     "start_time": "2025-07-30T20:15:27.472490",
     "status": "completed"
    },
    "tags": []
   },
   "outputs": [
    {
     "data": {
      "text/plain": [
       "0.8607513097759447"
      ]
     },
     "execution_count": 45,
     "metadata": {},
     "output_type": "execute_result"
    }
   ],
   "source": [
    "probs_test = model.predict_proba(X_test)\n",
    "\n",
    "'''\n",
    "Below code returns a boolean array (or binary 0/1 array depending on how it’s used) where each element \n",
    "is True if the probability of class 1 is greater than or equal to the threshold, and False otherwise.\n",
    "'''\n",
    "y_pred_default = predict_w_threshold(probs_test, 0.5)\n",
    "\n",
    "from sklearn.metrics import accuracy_score\n",
    "\n",
    "# Naive prediction\n",
    "accuracy_score(y_true = y_true, y_pred = y_pred_default)"
   ]
  },
  {
   "cell_type": "code",
   "execution_count": 46,
   "id": "081964c3",
   "metadata": {
    "execution": {
     "iopub.execute_input": "2025-07-30T20:15:27.738787Z",
     "iopub.status.busy": "2025-07-30T20:15:27.737900Z",
     "iopub.status.idle": "2025-07-30T20:15:27.916610Z",
     "shell.execute_reply": "2025-07-30T20:15:27.915708Z"
    },
    "papermill": {
     "duration": 0.204028,
     "end_time": "2025-07-30T20:15:27.918290",
     "exception": false,
     "start_time": "2025-07-30T20:15:27.714262",
     "status": "completed"
    },
    "tags": []
   },
   "outputs": [
    {
     "data": {
      "text/plain": [
       "array([0, 0, 0, ..., 0, 0, 0])"
      ]
     },
     "execution_count": 46,
     "metadata": {},
     "output_type": "execute_result"
    }
   ],
   "source": [
    "model.predict(X_test)"
   ]
  },
  {
   "cell_type": "markdown",
   "id": "56c9705b",
   "metadata": {
    "papermill": {
     "duration": 0.024901,
     "end_time": "2025-07-30T20:15:27.968642",
     "exception": false,
     "start_time": "2025-07-30T20:15:27.943741",
     "status": "completed"
    },
    "tags": []
   },
   "source": [
    "# Conformal Prediction"
   ]
  },
  {
   "cell_type": "code",
   "execution_count": 47,
   "id": "160ec6ff",
   "metadata": {
    "execution": {
     "iopub.execute_input": "2025-07-30T20:15:28.021086Z",
     "iopub.status.busy": "2025-07-30T20:15:28.020438Z",
     "iopub.status.idle": "2025-07-30T20:15:28.026767Z",
     "shell.execute_reply": "2025-07-30T20:15:28.025735Z"
    },
    "papermill": {
     "duration": 0.035049,
     "end_time": "2025-07-30T20:15:28.028676",
     "exception": false,
     "start_time": "2025-07-30T20:15:27.993627",
     "status": "completed"
    },
    "tags": []
   },
   "outputs": [],
   "source": [
    "# Miscoverage level for conformal prediction (10% allowed error rate => 90% target coverage)\n",
    "alpha = 0.1"
   ]
  },
  {
   "cell_type": "code",
   "execution_count": 48,
   "id": "eadf4555-3dd3-440e-8e35-f82a4ad9f855",
   "metadata": {
    "execution": {
     "iopub.execute_input": "2025-07-30T20:15:28.081301Z",
     "iopub.status.busy": "2025-07-30T20:15:28.080624Z",
     "iopub.status.idle": "2025-07-30T20:15:28.257440Z",
     "shell.execute_reply": "2025-07-30T20:15:28.256438Z"
    },
    "papermill": {
     "duration": 0.204595,
     "end_time": "2025-07-30T20:15:28.259374",
     "exception": false,
     "start_time": "2025-07-30T20:15:28.054779",
     "status": "completed"
    },
    "tags": []
   },
   "outputs": [],
   "source": [
    "probs_calib = model.predict_proba(X_calib)"
   ]
  },
  {
   "cell_type": "code",
   "execution_count": 49,
   "id": "2ed93547-6d5d-4983-9b36-1ecb300da49a",
   "metadata": {
    "execution": {
     "iopub.execute_input": "2025-07-30T20:15:28.306280Z",
     "iopub.status.busy": "2025-07-30T20:15:28.305444Z",
     "iopub.status.idle": "2025-07-30T20:15:28.311103Z",
     "shell.execute_reply": "2025-07-30T20:15:28.310172Z"
    },
    "papermill": {
     "duration": 0.030663,
     "end_time": "2025-07-30T20:15:28.312949",
     "exception": false,
     "start_time": "2025-07-30T20:15:28.282286",
     "status": "completed"
    },
    "tags": []
   },
   "outputs": [],
   "source": [
    "y_calib = y_calib.values.ravel().astype(int)"
   ]
  },
  {
   "cell_type": "code",
   "execution_count": 50,
   "id": "65d1320d-f588-4b38-9072-62af1ae97f7d",
   "metadata": {
    "execution": {
     "iopub.execute_input": "2025-07-30T20:15:28.364708Z",
     "iopub.status.busy": "2025-07-30T20:15:28.364047Z",
     "iopub.status.idle": "2025-07-30T20:15:28.371633Z",
     "shell.execute_reply": "2025-07-30T20:15:28.370680Z"
    },
    "papermill": {
     "duration": 0.034942,
     "end_time": "2025-07-30T20:15:28.373708",
     "exception": false,
     "start_time": "2025-07-30T20:15:28.338766",
     "status": "completed"
    },
    "tags": []
   },
   "outputs": [],
   "source": [
    "from fairness_multiverse.conformal import compute_nc_scores\n",
    "\n",
    "# Compute nonconformity scores on calibration set (1 - probability of true class)\n",
    "nc_scores = compute_nc_scores(probs_calib, y_calib)"
   ]
  },
  {
   "cell_type": "code",
   "execution_count": 51,
   "id": "df3b8ca3-53b7-43d5-9667-7c85da7aeda2",
   "metadata": {
    "execution": {
     "iopub.execute_input": "2025-07-30T20:15:28.429080Z",
     "iopub.status.busy": "2025-07-30T20:15:28.428407Z",
     "iopub.status.idle": "2025-07-30T20:15:28.435172Z",
     "shell.execute_reply": "2025-07-30T20:15:28.434237Z"
    },
    "papermill": {
     "duration": 0.035867,
     "end_time": "2025-07-30T20:15:28.436930",
     "exception": false,
     "start_time": "2025-07-30T20:15:28.401063",
     "status": "completed"
    },
    "tags": []
   },
   "outputs": [],
   "source": [
    "from fairness_multiverse.conformal import find_threshold\n",
    "\n",
    "# Find conformal threshold q_hat for the given alpha (split conformal method)\n",
    "q_hat = find_threshold(nc_scores, alpha)"
   ]
  },
  {
   "cell_type": "code",
   "execution_count": 52,
   "id": "4d29e6c1-0ef6-4aa4-b8fe-4fe79b0d033a",
   "metadata": {
    "execution": {
     "iopub.execute_input": "2025-07-30T20:15:28.492038Z",
     "iopub.status.busy": "2025-07-30T20:15:28.491378Z",
     "iopub.status.idle": "2025-07-30T20:15:28.499291Z",
     "shell.execute_reply": "2025-07-30T20:15:28.498214Z"
    },
    "papermill": {
     "duration": 0.036958,
     "end_time": "2025-07-30T20:15:28.501159",
     "exception": false,
     "start_time": "2025-07-30T20:15:28.464201",
     "status": "completed"
    },
    "tags": []
   },
   "outputs": [
    {
     "data": {
      "text/plain": [
       "0.6671512285431966"
      ]
     },
     "execution_count": 52,
     "metadata": {},
     "output_type": "execute_result"
    }
   ],
   "source": [
    "q_hat"
   ]
  },
  {
   "cell_type": "code",
   "execution_count": 53,
   "id": "92460794-cdac-4be2-ba28-f28c0515a6fb",
   "metadata": {
    "execution": {
     "iopub.execute_input": "2025-07-30T20:15:28.557001Z",
     "iopub.status.busy": "2025-07-30T20:15:28.556269Z",
     "iopub.status.idle": "2025-07-30T20:15:29.500421Z",
     "shell.execute_reply": "2025-07-30T20:15:29.499453Z"
    },
    "papermill": {
     "duration": 0.973921,
     "end_time": "2025-07-30T20:15:29.502306",
     "exception": false,
     "start_time": "2025-07-30T20:15:28.528385",
     "status": "completed"
    },
    "tags": []
   },
   "outputs": [],
   "source": [
    "from fairness_multiverse.conformal import predict_conformal_sets\n",
    "\n",
    "# Generate prediction sets for each test example\n",
    "pred_sets = predict_conformal_sets(model, X_test, q_hat)"
   ]
  },
  {
   "cell_type": "code",
   "execution_count": 54,
   "id": "d90c9a65-e6db-4f5d-80cd-e68fb7e46829",
   "metadata": {
    "execution": {
     "iopub.execute_input": "2025-07-30T20:15:29.561033Z",
     "iopub.status.busy": "2025-07-30T20:15:29.560536Z",
     "iopub.status.idle": "2025-07-30T20:15:29.566163Z",
     "shell.execute_reply": "2025-07-30T20:15:29.565240Z"
    },
    "papermill": {
     "duration": 0.031392,
     "end_time": "2025-07-30T20:15:29.567642",
     "exception": false,
     "start_time": "2025-07-30T20:15:29.536250",
     "status": "completed"
    },
    "tags": []
   },
   "outputs": [],
   "source": [
    "y_true = y_true.squeeze()"
   ]
  },
  {
   "cell_type": "code",
   "execution_count": 55,
   "id": "3a58a54a-1e68-46b9-927a-df01f18aebc8",
   "metadata": {
    "execution": {
     "iopub.execute_input": "2025-07-30T20:15:29.615669Z",
     "iopub.status.busy": "2025-07-30T20:15:29.615229Z",
     "iopub.status.idle": "2025-07-30T20:15:30.499049Z",
     "shell.execute_reply": "2025-07-30T20:15:30.498053Z"
    },
    "papermill": {
     "duration": 0.909579,
     "end_time": "2025-07-30T20:15:30.501015",
     "exception": false,
     "start_time": "2025-07-30T20:15:29.591436",
     "status": "completed"
    },
    "tags": []
   },
   "outputs": [],
   "source": [
    "from fairness_multiverse.conformal import evaluate_sets\n",
    "\n",
    "# Evaluate coverage and average set size on test data\n",
    "metrics = evaluate_sets(pred_sets, y_true)"
   ]
  },
  {
   "cell_type": "markdown",
   "id": "2b569c12-9aaa-4c88-98c9-bbcd0cf3ebb8",
   "metadata": {
    "papermill": {
     "duration": 0.025454,
     "end_time": "2025-07-30T20:15:30.557896",
     "exception": false,
     "start_time": "2025-07-30T20:15:30.532442",
     "status": "completed"
    },
    "tags": []
   },
   "source": [
    "# CP Metrics"
   ]
  },
  {
   "cell_type": "code",
   "execution_count": 56,
   "id": "5ce0a5cb-201f-45a0-ade5-94c7f0bd6095",
   "metadata": {
    "execution": {
     "iopub.execute_input": "2025-07-30T20:15:30.612160Z",
     "iopub.status.busy": "2025-07-30T20:15:30.611582Z",
     "iopub.status.idle": "2025-07-30T20:15:30.619632Z",
     "shell.execute_reply": "2025-07-30T20:15:30.618567Z"
    },
    "papermill": {
     "duration": 0.037622,
     "end_time": "2025-07-30T20:15:30.621437",
     "exception": false,
     "start_time": "2025-07-30T20:15:30.583815",
     "status": "completed"
    },
    "tags": []
   },
   "outputs": [
    {
     "data": {
      "text/plain": [
       "{'coverage': 0.9110244119942036, 'avg_size': 1.1262735480994315}"
      ]
     },
     "execution_count": 56,
     "metadata": {},
     "output_type": "execute_result"
    }
   ],
   "source": [
    "metrics"
   ]
  },
  {
   "cell_type": "code",
   "execution_count": 57,
   "id": "9b9a838d-31c9-430b-ae14-12baee460d17",
   "metadata": {
    "execution": {
     "iopub.execute_input": "2025-07-30T20:15:30.674166Z",
     "iopub.status.busy": "2025-07-30T20:15:30.673650Z",
     "iopub.status.idle": "2025-07-30T20:15:30.681107Z",
     "shell.execute_reply": "2025-07-30T20:15:30.680072Z"
    },
    "papermill": {
     "duration": 0.036684,
     "end_time": "2025-07-30T20:15:30.682811",
     "exception": false,
     "start_time": "2025-07-30T20:15:30.646127",
     "status": "completed"
    },
    "tags": []
   },
   "outputs": [],
   "source": [
    "example_universe = universe.copy()\n",
    "universe_training_year = example_universe.get(\"training_year\")\n",
    "universe_training_size = example_universe.get(\"training_size\")\n",
    "universe_scale = example_universe.get(\"scale\")\n",
    "universe_model = example_universe.get(\"model\")\n",
    "universe_exclude_features = example_universe.get(\"exclude_features\")\n",
    "universe_exclude_subgroups = example_universe.get(\"exclude_subgroups\")"
   ]
  },
  {
   "cell_type": "code",
   "execution_count": 58,
   "id": "f4b6a8ac-9dc0-4245-8a91-5b3b5999c4f9",
   "metadata": {
    "execution": {
     "iopub.execute_input": "2025-07-30T20:15:30.749978Z",
     "iopub.status.busy": "2025-07-30T20:15:30.749501Z",
     "iopub.status.idle": "2025-07-30T20:15:30.756830Z",
     "shell.execute_reply": "2025-07-30T20:15:30.755771Z"
    },
    "papermill": {
     "duration": 0.043365,
     "end_time": "2025-07-30T20:15:30.759357",
     "exception": false,
     "start_time": "2025-07-30T20:15:30.715992",
     "status": "completed"
    },
    "tags": []
   },
   "outputs": [],
   "source": [
    "cp_metrics_dict = {\n",
    "    \"universe_id\": [universe_id],\n",
    "    \"universe_training_year\": [universe_training_year],\n",
    "    \"universe_training_size\": [universe_training_size],\n",
    "    \"universe_scale\": [universe_scale],\n",
    "    \"universe_model\": [universe_model],\n",
    "    \"universe_exclude_features\": [universe_exclude_features],\n",
    "    \"universe_exclude_subgroups\": [universe_exclude_subgroups],\n",
    "    \"q_hat\": [q_hat],\n",
    "    \"coverage\": [metrics[\"coverage\"]],\n",
    "    \"avg_size\": [metrics[\"avg_size\"]],\n",
    "}"
   ]
  },
  {
   "cell_type": "code",
   "execution_count": 59,
   "id": "908acbb1-0371-4915-85ca-3fa520d2efe2",
   "metadata": {
    "execution": {
     "iopub.execute_input": "2025-07-30T20:15:30.825502Z",
     "iopub.status.busy": "2025-07-30T20:15:30.825032Z",
     "iopub.status.idle": "2025-07-30T20:15:30.832929Z",
     "shell.execute_reply": "2025-07-30T20:15:30.831937Z"
    },
    "papermill": {
     "duration": 0.042939,
     "end_time": "2025-07-30T20:15:30.834963",
     "exception": false,
     "start_time": "2025-07-30T20:15:30.792024",
     "status": "completed"
    },
    "tags": []
   },
   "outputs": [
    {
     "data": {
      "text/plain": [
       "{'universe_id': ['21a2f5291dda0cc252f01748b57b0638'],\n",
       " 'universe_training_year': ['2012_14'],\n",
       " 'universe_training_size': ['25k'],\n",
       " 'universe_scale': ['scale'],\n",
       " 'universe_model': ['elasticnet'],\n",
       " 'universe_exclude_features': ['age'],\n",
       " 'universe_exclude_subgroups': ['keep-all'],\n",
       " 'q_hat': [0.6671512285431966],\n",
       " 'coverage': [0.9110244119942036],\n",
       " 'avg_size': [1.1262735480994315]}"
      ]
     },
     "execution_count": 59,
     "metadata": {},
     "output_type": "execute_result"
    }
   ],
   "source": [
    "cp_metrics_dict"
   ]
  },
  {
   "cell_type": "code",
   "execution_count": 60,
   "id": "33007efc-14e9-4ec6-97ac-56a455c82265",
   "metadata": {
    "execution": {
     "iopub.execute_input": "2025-07-30T20:15:30.899977Z",
     "iopub.status.busy": "2025-07-30T20:15:30.899500Z",
     "iopub.status.idle": "2025-07-30T20:15:30.906188Z",
     "shell.execute_reply": "2025-07-30T20:15:30.905041Z"
    },
    "papermill": {
     "duration": 0.039724,
     "end_time": "2025-07-30T20:15:30.907824",
     "exception": false,
     "start_time": "2025-07-30T20:15:30.868100",
     "status": "completed"
    },
    "tags": []
   },
   "outputs": [],
   "source": [
    "cp_metrics_df = pd.DataFrame(cp_metrics_dict)"
   ]
  },
  {
   "cell_type": "code",
   "execution_count": 61,
   "id": "db12611b-57b2-4910-b9d0-355adfd6e7bf",
   "metadata": {
    "execution": {
     "iopub.execute_input": "2025-07-30T20:15:30.936558Z",
     "iopub.status.busy": "2025-07-30T20:15:30.936205Z",
     "iopub.status.idle": "2025-07-30T20:15:30.950712Z",
     "shell.execute_reply": "2025-07-30T20:15:30.949925Z"
    },
    "papermill": {
     "duration": 0.029552,
     "end_time": "2025-07-30T20:15:30.952372",
     "exception": false,
     "start_time": "2025-07-30T20:15:30.922820",
     "status": "completed"
    },
    "tags": []
   },
   "outputs": [
    {
     "data": {
      "text/html": [
       "<div>\n",
       "<style scoped>\n",
       "    .dataframe tbody tr th:only-of-type {\n",
       "        vertical-align: middle;\n",
       "    }\n",
       "\n",
       "    .dataframe tbody tr th {\n",
       "        vertical-align: top;\n",
       "    }\n",
       "\n",
       "    .dataframe thead th {\n",
       "        text-align: right;\n",
       "    }\n",
       "</style>\n",
       "<table border=\"1\" class=\"dataframe\">\n",
       "  <thead>\n",
       "    <tr style=\"text-align: right;\">\n",
       "      <th></th>\n",
       "      <th>universe_id</th>\n",
       "      <th>universe_training_year</th>\n",
       "      <th>universe_training_size</th>\n",
       "      <th>universe_scale</th>\n",
       "      <th>universe_model</th>\n",
       "      <th>universe_exclude_features</th>\n",
       "      <th>universe_exclude_subgroups</th>\n",
       "      <th>q_hat</th>\n",
       "      <th>coverage</th>\n",
       "      <th>avg_size</th>\n",
       "    </tr>\n",
       "  </thead>\n",
       "  <tbody>\n",
       "    <tr>\n",
       "      <th>0</th>\n",
       "      <td>21a2f5291dda0cc252f01748b57b0638</td>\n",
       "      <td>2012_14</td>\n",
       "      <td>25k</td>\n",
       "      <td>scale</td>\n",
       "      <td>elasticnet</td>\n",
       "      <td>age</td>\n",
       "      <td>keep-all</td>\n",
       "      <td>0.667151</td>\n",
       "      <td>0.911024</td>\n",
       "      <td>1.126274</td>\n",
       "    </tr>\n",
       "  </tbody>\n",
       "</table>\n",
       "</div>"
      ],
      "text/plain": [
       "                        universe_id universe_training_year  \\\n",
       "0  21a2f5291dda0cc252f01748b57b0638                2012_14   \n",
       "\n",
       "  universe_training_size universe_scale universe_model  \\\n",
       "0                    25k          scale     elasticnet   \n",
       "\n",
       "  universe_exclude_features universe_exclude_subgroups     q_hat  coverage  \\\n",
       "0                       age                   keep-all  0.667151  0.911024   \n",
       "\n",
       "   avg_size  \n",
       "0  1.126274  "
      ]
     },
     "execution_count": 61,
     "metadata": {},
     "output_type": "execute_result"
    }
   ],
   "source": [
    "cp_metrics_df"
   ]
  },
  {
   "cell_type": "code",
   "execution_count": 62,
   "id": "b7fbde55-a0a1-47e4-9af6-fe4a17fa8c61",
   "metadata": {
    "execution": {
     "iopub.execute_input": "2025-07-30T20:15:30.989012Z",
     "iopub.status.busy": "2025-07-30T20:15:30.988667Z",
     "iopub.status.idle": "2025-07-30T20:15:30.993459Z",
     "shell.execute_reply": "2025-07-30T20:15:30.992406Z"
    },
    "papermill": {
     "duration": 0.020251,
     "end_time": "2025-07-30T20:15:30.995155",
     "exception": false,
     "start_time": "2025-07-30T20:15:30.974904",
     "status": "completed"
    },
    "tags": []
   },
   "outputs": [],
   "source": [
    "# Conditional Coverage & looking at subgroups"
   ]
  },
  {
   "cell_type": "code",
   "execution_count": 63,
   "id": "027ae886-68dd-4141-96c7-805a5450e1ef",
   "metadata": {
    "execution": {
     "iopub.execute_input": "2025-07-30T20:15:31.033548Z",
     "iopub.status.busy": "2025-07-30T20:15:31.033157Z",
     "iopub.status.idle": "2025-07-30T20:15:31.256527Z",
     "shell.execute_reply": "2025-07-30T20:15:31.255723Z"
    },
    "papermill": {
     "duration": 0.239611,
     "end_time": "2025-07-30T20:15:31.257954",
     "exception": false,
     "start_time": "2025-07-30T20:15:31.018343",
     "status": "completed"
    },
    "tags": []
   },
   "outputs": [],
   "source": [
    "from fairness_multiverse.conformal import build_cp_groups\n",
    "\n",
    "cp_groups_df = build_cp_groups(pred_sets, y_true, X_test.index, org_test)\n",
    "#needs universe_id and setting"
   ]
  },
  {
   "cell_type": "code",
   "execution_count": 64,
   "id": "01d5802c-663a-4d1f-9d69-e036faaffbf7",
   "metadata": {
    "execution": {
     "iopub.execute_input": "2025-07-30T20:15:31.285995Z",
     "iopub.status.busy": "2025-07-30T20:15:31.285383Z",
     "iopub.status.idle": "2025-07-30T20:15:31.290116Z",
     "shell.execute_reply": "2025-07-30T20:15:31.289160Z"
    },
    "papermill": {
     "duration": 0.020065,
     "end_time": "2025-07-30T20:15:31.291771",
     "exception": false,
     "start_time": "2025-07-30T20:15:31.271706",
     "status": "completed"
    },
    "tags": []
   },
   "outputs": [],
   "source": [
    "#delete\n",
    "#cp_groups_df"
   ]
  },
  {
   "cell_type": "code",
   "execution_count": 65,
   "id": "fa424af1-d1eb-443d-b717-2d279ada8408",
   "metadata": {
    "execution": {
     "iopub.execute_input": "2025-07-30T20:15:31.348521Z",
     "iopub.status.busy": "2025-07-30T20:15:31.347837Z",
     "iopub.status.idle": "2025-07-30T20:15:31.352920Z",
     "shell.execute_reply": "2025-07-30T20:15:31.351894Z"
    },
    "papermill": {
     "duration": 0.035056,
     "end_time": "2025-07-30T20:15:31.354520",
     "exception": false,
     "start_time": "2025-07-30T20:15:31.319464",
     "status": "completed"
    },
    "tags": []
   },
   "outputs": [],
   "source": [
    "#delete\n",
    "#percentage = (cp_groups_df['nongerman_female'] == 1).mean() * 100\n",
    "#print(percentage)\n"
   ]
  },
  {
   "cell_type": "code",
   "execution_count": 66,
   "id": "6cbdab96-b2b2-45af-ad54-d0516db2e28d",
   "metadata": {
    "execution": {
     "iopub.execute_input": "2025-07-30T20:15:31.411218Z",
     "iopub.status.busy": "2025-07-30T20:15:31.410585Z",
     "iopub.status.idle": "2025-07-30T20:15:32.980875Z",
     "shell.execute_reply": "2025-07-30T20:15:32.979249Z"
    },
    "papermill": {
     "duration": 1.600855,
     "end_time": "2025-07-30T20:15:32.982955",
     "exception": false,
     "start_time": "2025-07-30T20:15:31.382100",
     "status": "completed"
    },
    "tags": []
   },
   "outputs": [],
   "source": [
    "# Define covered = 1 if true_label is in the predicted set\n",
    "cp_groups_df['covered'] = cp_groups_df.apply(\n",
    "    lambda r: int(r['true_label'] in r['pred_set']),\n",
    "    axis=1\n",
    ")"
   ]
  },
  {
   "cell_type": "code",
   "execution_count": 67,
   "id": "338ff529-1a6b-4b87-a931-8e4788d52aad",
   "metadata": {
    "execution": {
     "iopub.execute_input": "2025-07-30T20:15:33.041578Z",
     "iopub.status.busy": "2025-07-30T20:15:33.041028Z",
     "iopub.status.idle": "2025-07-30T20:15:33.047357Z",
     "shell.execute_reply": "2025-07-30T20:15:33.046228Z"
    },
    "papermill": {
     "duration": 0.037248,
     "end_time": "2025-07-30T20:15:33.049624",
     "exception": false,
     "start_time": "2025-07-30T20:15:33.012376",
     "status": "completed"
    },
    "tags": []
   },
   "outputs": [],
   "source": [
    "#cp_groups_df"
   ]
  },
  {
   "cell_type": "code",
   "execution_count": 68,
   "id": "90032e27-66df-4540-9169-4e89cfbaa758",
   "metadata": {
    "execution": {
     "iopub.execute_input": "2025-07-30T20:15:33.110016Z",
     "iopub.status.busy": "2025-07-30T20:15:33.109344Z",
     "iopub.status.idle": "2025-07-30T20:15:33.121751Z",
     "shell.execute_reply": "2025-07-30T20:15:33.120699Z"
    },
    "papermill": {
     "duration": 0.044083,
     "end_time": "2025-07-30T20:15:33.123395",
     "exception": false,
     "start_time": "2025-07-30T20:15:33.079312",
     "status": "completed"
    },
    "tags": []
   },
   "outputs": [],
   "source": [
    "subgroups = ['frau1','nongerman','nongerman_male','nongerman_female']\n",
    "\n",
    "# Conditional coverage for subgroup==1\n",
    "cond_coverage = {\n",
    "    g: cp_groups_df.loc[cp_groups_df[g]==1, 'covered'].mean()\n",
    "    for g in subgroups\n",
    "}"
   ]
  },
  {
   "cell_type": "code",
   "execution_count": 69,
   "id": "1e348fb1-b9c3-45bc-ba23-f016827a7e0d",
   "metadata": {
    "execution": {
     "iopub.execute_input": "2025-07-30T20:15:33.186330Z",
     "iopub.status.busy": "2025-07-30T20:15:33.185878Z",
     "iopub.status.idle": "2025-07-30T20:15:33.193060Z",
     "shell.execute_reply": "2025-07-30T20:15:33.192184Z"
    },
    "papermill": {
     "duration": 0.037058,
     "end_time": "2025-07-30T20:15:33.194950",
     "exception": false,
     "start_time": "2025-07-30T20:15:33.157892",
     "status": "completed"
    },
    "tags": []
   },
   "outputs": [
    {
     "data": {
      "text/plain": [
       "{'frau1': 0.9088017252999057,\n",
       " 'nongerman': 0.9081569640150452,\n",
       " 'nongerman_male': 0.9251553634152931,\n",
       " 'nongerman_female': 0.8800298062593145}"
      ]
     },
     "execution_count": 69,
     "metadata": {},
     "output_type": "execute_result"
    }
   ],
   "source": [
    "cond_coverage"
   ]
  },
  {
   "cell_type": "code",
   "execution_count": 70,
   "id": "f5093324-c3dd-4d63-bc4c-8d945e5c8bbb",
   "metadata": {
    "execution": {
     "iopub.execute_input": "2025-07-30T20:15:33.226319Z",
     "iopub.status.busy": "2025-07-30T20:15:33.225976Z",
     "iopub.status.idle": "2025-07-30T20:15:33.232140Z",
     "shell.execute_reply": "2025-07-30T20:15:33.231395Z"
    },
    "papermill": {
     "duration": 0.022268,
     "end_time": "2025-07-30T20:15:33.233493",
     "exception": false,
     "start_time": "2025-07-30T20:15:33.211225",
     "status": "completed"
    },
    "tags": []
   },
   "outputs": [],
   "source": [
    "for subgroup, cov in cond_coverage.items():\n",
    "    cp_metrics_df[f\"cov_{subgroup}\"] = cov"
   ]
  },
  {
   "cell_type": "code",
   "execution_count": 71,
   "id": "6e872e10-dbe5-49e8-b554-5030c98ff75d",
   "metadata": {
    "execution": {
     "iopub.execute_input": "2025-07-30T20:15:33.263877Z",
     "iopub.status.busy": "2025-07-30T20:15:33.263453Z",
     "iopub.status.idle": "2025-07-30T20:15:33.283138Z",
     "shell.execute_reply": "2025-07-30T20:15:33.282070Z"
    },
    "papermill": {
     "duration": 0.036727,
     "end_time": "2025-07-30T20:15:33.285054",
     "exception": false,
     "start_time": "2025-07-30T20:15:33.248327",
     "status": "completed"
    },
    "tags": []
   },
   "outputs": [
    {
     "data": {
      "text/html": [
       "<div>\n",
       "<style scoped>\n",
       "    .dataframe tbody tr th:only-of-type {\n",
       "        vertical-align: middle;\n",
       "    }\n",
       "\n",
       "    .dataframe tbody tr th {\n",
       "        vertical-align: top;\n",
       "    }\n",
       "\n",
       "    .dataframe thead th {\n",
       "        text-align: right;\n",
       "    }\n",
       "</style>\n",
       "<table border=\"1\" class=\"dataframe\">\n",
       "  <thead>\n",
       "    <tr style=\"text-align: right;\">\n",
       "      <th></th>\n",
       "      <th>universe_id</th>\n",
       "      <th>universe_training_year</th>\n",
       "      <th>universe_training_size</th>\n",
       "      <th>universe_scale</th>\n",
       "      <th>universe_model</th>\n",
       "      <th>universe_exclude_features</th>\n",
       "      <th>universe_exclude_subgroups</th>\n",
       "      <th>q_hat</th>\n",
       "      <th>coverage</th>\n",
       "      <th>avg_size</th>\n",
       "      <th>cov_frau1</th>\n",
       "      <th>cov_nongerman</th>\n",
       "      <th>cov_nongerman_male</th>\n",
       "      <th>cov_nongerman_female</th>\n",
       "    </tr>\n",
       "  </thead>\n",
       "  <tbody>\n",
       "    <tr>\n",
       "      <th>0</th>\n",
       "      <td>21a2f5291dda0cc252f01748b57b0638</td>\n",
       "      <td>2012_14</td>\n",
       "      <td>25k</td>\n",
       "      <td>scale</td>\n",
       "      <td>elasticnet</td>\n",
       "      <td>age</td>\n",
       "      <td>keep-all</td>\n",
       "      <td>0.667151</td>\n",
       "      <td>0.911024</td>\n",
       "      <td>1.126274</td>\n",
       "      <td>0.908802</td>\n",
       "      <td>0.908157</td>\n",
       "      <td>0.925155</td>\n",
       "      <td>0.88003</td>\n",
       "    </tr>\n",
       "  </tbody>\n",
       "</table>\n",
       "</div>"
      ],
      "text/plain": [
       "                        universe_id universe_training_year  \\\n",
       "0  21a2f5291dda0cc252f01748b57b0638                2012_14   \n",
       "\n",
       "  universe_training_size universe_scale universe_model  \\\n",
       "0                    25k          scale     elasticnet   \n",
       "\n",
       "  universe_exclude_features universe_exclude_subgroups     q_hat  coverage  \\\n",
       "0                       age                   keep-all  0.667151  0.911024   \n",
       "\n",
       "   avg_size  cov_frau1  cov_nongerman  cov_nongerman_male  \\\n",
       "0  1.126274   0.908802       0.908157            0.925155   \n",
       "\n",
       "   cov_nongerman_female  \n",
       "0               0.88003  "
      ]
     },
     "execution_count": 71,
     "metadata": {},
     "output_type": "execute_result"
    }
   ],
   "source": [
    "cp_metrics_df"
   ]
  },
  {
   "cell_type": "markdown",
   "id": "33774451",
   "metadata": {
    "papermill": {
     "duration": 0.02845,
     "end_time": "2025-07-30T20:15:33.382495",
     "exception": false,
     "start_time": "2025-07-30T20:15:33.354045",
     "status": "completed"
    },
    "tags": []
   },
   "source": [
    "# (Fairness) Metrics"
   ]
  },
  {
   "cell_type": "code",
   "execution_count": 72,
   "id": "debc5d62",
   "metadata": {
    "execution": {
     "iopub.execute_input": "2025-07-30T20:15:33.437899Z",
     "iopub.status.busy": "2025-07-30T20:15:33.437364Z",
     "iopub.status.idle": "2025-07-30T20:15:33.459610Z",
     "shell.execute_reply": "2025-07-30T20:15:33.458225Z"
    },
    "papermill": {
     "duration": 0.051818,
     "end_time": "2025-07-30T20:15:33.461990",
     "exception": false,
     "start_time": "2025-07-30T20:15:33.410172",
     "status": "completed"
    },
    "tags": []
   },
   "outputs": [],
   "source": [
    "# do I need to include maxdeutsch1.missing?\n",
    "\n",
    "import numpy as np\n",
    "\n",
    "colname_to_bin = \"maxdeutsch1\"\n",
    "majority_value = org_train[colname_to_bin].mode()[0]\n",
    "\n",
    "org_test[\"majmin\"] = np.where(org_test[colname_to_bin] == majority_value, \"majority\", \"minority\")"
   ]
  },
  {
   "cell_type": "code",
   "execution_count": 73,
   "id": "06a50de5",
   "metadata": {
    "execution": {
     "iopub.execute_input": "2025-07-30T20:15:33.519155Z",
     "iopub.status.busy": "2025-07-30T20:15:33.518814Z",
     "iopub.status.idle": "2025-07-30T20:15:35.620862Z",
     "shell.execute_reply": "2025-07-30T20:15:35.620106Z"
    },
    "papermill": {
     "duration": 2.123736,
     "end_time": "2025-07-30T20:15:35.622617",
     "exception": false,
     "start_time": "2025-07-30T20:15:33.498881",
     "status": "completed"
    },
    "tags": []
   },
   "outputs": [],
   "source": [
    "example_universe = universe.copy()\n",
    "example_universe[\"cutoff\"] = example_universe[\"cutoff\"][0]\n",
    "example_universe[\"eval_fairness_grouping\"] = example_universe[\"eval_fairness_grouping\"][0]\n",
    "fairness_dict, metric_frame = universe_analysis.compute_metrics(\n",
    "    example_universe,\n",
    "    y_pred_prob=probs_test,\n",
    "    y_test=y_true,\n",
    "    org_test=org_test,\n",
    ")"
   ]
  },
  {
   "cell_type": "markdown",
   "id": "f95d4e02",
   "metadata": {
    "papermill": {
     "duration": 0.01308,
     "end_time": "2025-07-30T20:15:35.649924",
     "exception": false,
     "start_time": "2025-07-30T20:15:35.636844",
     "status": "completed"
    },
    "tags": []
   },
   "source": [
    "# Overall"
   ]
  },
  {
   "cell_type": "markdown",
   "id": "bdee4871",
   "metadata": {
    "papermill": {
     "duration": 0.015878,
     "end_time": "2025-07-30T20:15:35.681579",
     "exception": false,
     "start_time": "2025-07-30T20:15:35.665701",
     "status": "completed"
    },
    "tags": []
   },
   "source": [
    "Fairness\n",
    "Main fairness target: Equalized Odds. Seems to be a better fit than equal opportunity, since we're not only interested in Y = 1. Seems to be a better fit than demographic parity, since we also care about accuracy, not just equal distribution of preds.\n",
    "\n",
    "Pick column for computation of fairness metrics\n",
    "\n",
    "Performance\n",
    "Overall performance measures, most interesting in relation to the measures split by group below"
   ]
  },
  {
   "cell_type": "code",
   "execution_count": 74,
   "id": "c4e067c6",
   "metadata": {
    "execution": {
     "iopub.execute_input": "2025-07-30T20:15:35.709450Z",
     "iopub.status.busy": "2025-07-30T20:15:35.709103Z",
     "iopub.status.idle": "2025-07-30T20:15:35.717094Z",
     "shell.execute_reply": "2025-07-30T20:15:35.716090Z"
    },
    "papermill": {
     "duration": 0.025809,
     "end_time": "2025-07-30T20:15:35.720679",
     "exception": false,
     "start_time": "2025-07-30T20:15:35.694870",
     "status": "completed"
    },
    "tags": []
   },
   "outputs": [
    {
     "data": {
      "text/plain": [
       "accuracy                   0.225181\n",
       "balanced accuracy          0.550430\n",
       "f1                         0.246490\n",
       "precision                  0.140812\n",
       "false positive rate        0.887062\n",
       "false negative rate        0.012079\n",
       "selection rate             0.900000\n",
       "count                  89710.000000\n",
       "dtype: float64"
      ]
     },
     "execution_count": 74,
     "metadata": {},
     "output_type": "execute_result"
    }
   ],
   "source": [
    "metric_frame.overall"
   ]
  },
  {
   "cell_type": "markdown",
   "id": "e968fe9d",
   "metadata": {
    "papermill": {
     "duration": 0.013492,
     "end_time": "2025-07-30T20:15:35.750663",
     "exception": false,
     "start_time": "2025-07-30T20:15:35.737171",
     "status": "completed"
    },
    "tags": []
   },
   "source": [
    "By Group"
   ]
  },
  {
   "cell_type": "code",
   "execution_count": 75,
   "id": "ec325bce",
   "metadata": {
    "execution": {
     "iopub.execute_input": "2025-07-30T20:15:35.783582Z",
     "iopub.status.busy": "2025-07-30T20:15:35.783220Z",
     "iopub.status.idle": "2025-07-30T20:15:35.795968Z",
     "shell.execute_reply": "2025-07-30T20:15:35.795195Z"
    },
    "papermill": {
     "duration": 0.033412,
     "end_time": "2025-07-30T20:15:35.797494",
     "exception": false,
     "start_time": "2025-07-30T20:15:35.764082",
     "status": "completed"
    },
    "tags": []
   },
   "outputs": [
    {
     "data": {
      "text/html": [
       "<div>\n",
       "<style scoped>\n",
       "    .dataframe tbody tr th:only-of-type {\n",
       "        vertical-align: middle;\n",
       "    }\n",
       "\n",
       "    .dataframe tbody tr th {\n",
       "        vertical-align: top;\n",
       "    }\n",
       "\n",
       "    .dataframe thead th {\n",
       "        text-align: right;\n",
       "    }\n",
       "</style>\n",
       "<table border=\"1\" class=\"dataframe\">\n",
       "  <thead>\n",
       "    <tr style=\"text-align: right;\">\n",
       "      <th></th>\n",
       "      <th>accuracy</th>\n",
       "      <th>balanced accuracy</th>\n",
       "      <th>f1</th>\n",
       "      <th>precision</th>\n",
       "      <th>false positive rate</th>\n",
       "      <th>false negative rate</th>\n",
       "      <th>selection rate</th>\n",
       "      <th>count</th>\n",
       "    </tr>\n",
       "    <tr>\n",
       "      <th>majmin</th>\n",
       "      <th></th>\n",
       "      <th></th>\n",
       "      <th></th>\n",
       "      <th></th>\n",
       "      <th></th>\n",
       "      <th></th>\n",
       "      <th></th>\n",
       "      <th></th>\n",
       "    </tr>\n",
       "  </thead>\n",
       "  <tbody>\n",
       "    <tr>\n",
       "      <th>majority</th>\n",
       "      <td>0.247853</td>\n",
       "      <td>0.560962</td>\n",
       "      <td>0.257408</td>\n",
       "      <td>0.148014</td>\n",
       "      <td>0.864618</td>\n",
       "      <td>0.013457</td>\n",
       "      <td>0.880729</td>\n",
       "      <td>69170.0</td>\n",
       "    </tr>\n",
       "    <tr>\n",
       "      <th>minority</th>\n",
       "      <td>0.148832</td>\n",
       "      <td>0.516020</td>\n",
       "      <td>0.212016</td>\n",
       "      <td>0.118674</td>\n",
       "      <td>0.961204</td>\n",
       "      <td>0.006757</td>\n",
       "      <td>0.964898</td>\n",
       "      <td>20540.0</td>\n",
       "    </tr>\n",
       "  </tbody>\n",
       "</table>\n",
       "</div>"
      ],
      "text/plain": [
       "          accuracy  balanced accuracy        f1  precision  \\\n",
       "majmin                                                       \n",
       "majority  0.247853           0.560962  0.257408   0.148014   \n",
       "minority  0.148832           0.516020  0.212016   0.118674   \n",
       "\n",
       "          false positive rate  false negative rate  selection rate    count  \n",
       "majmin                                                                       \n",
       "majority             0.864618             0.013457        0.880729  69170.0  \n",
       "minority             0.961204             0.006757        0.964898  20540.0  "
      ]
     },
     "execution_count": 75,
     "metadata": {},
     "output_type": "execute_result"
    }
   ],
   "source": [
    "metric_frame.by_group"
   ]
  },
  {
   "cell_type": "code",
   "execution_count": 76,
   "id": "a9ddbe63",
   "metadata": {
    "execution": {
     "iopub.execute_input": "2025-07-30T20:15:35.826958Z",
     "iopub.status.busy": "2025-07-30T20:15:35.826302Z",
     "iopub.status.idle": "2025-07-30T20:15:37.588560Z",
     "shell.execute_reply": "2025-07-30T20:15:37.587493Z"
    },
    "papermill": {
     "duration": 1.778098,
     "end_time": "2025-07-30T20:15:37.590096",
     "exception": false,
     "start_time": "2025-07-30T20:15:35.811998",
     "status": "completed"
    },
    "tags": []
   },
   "outputs": [
    {
     "data": {
      "text/plain": [
       "array([[<Axes: title={'center': 'accuracy'}, xlabel='majmin'>,\n",
       "        <Axes: title={'center': 'balanced accuracy'}, xlabel='majmin'>,\n",
       "        <Axes: title={'center': 'f1'}, xlabel='majmin'>],\n",
       "       [<Axes: title={'center': 'precision'}, xlabel='majmin'>,\n",
       "        <Axes: title={'center': 'false positive rate'}, xlabel='majmin'>,\n",
       "        <Axes: title={'center': 'false negative rate'}, xlabel='majmin'>],\n",
       "       [<Axes: title={'center': 'selection rate'}, xlabel='majmin'>,\n",
       "        <Axes: title={'center': 'count'}, xlabel='majmin'>,\n",
       "        <Axes: xlabel='majmin'>]], dtype=object)"
      ]
     },
     "execution_count": 76,
     "metadata": {},
     "output_type": "execute_result"
    },
    {
     "data": {
      "image/png": "[encoded data removed]",
      "text/plain": [
       "<Figure size 1200x800 with 9 Axes>"
      ]
     },
     "metadata": {},
     "output_type": "display_data"
    }
   ],
   "source": [
    "# In a graphic\n",
    "metric_frame.by_group.plot.bar(\n",
    "    subplots=True,\n",
    "    layout=[3, 3],\n",
    "    legend=False,\n",
    "    figsize=[12, 8],\n",
    "    title=\"Show all metrics\",\n",
    ")"
   ]
  },
  {
   "cell_type": "markdown",
   "id": "f57a0bac",
   "metadata": {
    "papermill": {
     "duration": 0.027734,
     "end_time": "2025-07-30T20:15:37.646134",
     "exception": false,
     "start_time": "2025-07-30T20:15:37.618400",
     "status": "completed"
    },
    "tags": []
   },
   "source": [
    "# Final Output"
   ]
  },
  {
   "cell_type": "code",
   "execution_count": 77,
   "id": "96d280a3",
   "metadata": {
    "execution": {
     "iopub.execute_input": "2025-07-30T20:15:37.705804Z",
     "iopub.status.busy": "2025-07-30T20:15:37.705150Z",
     "iopub.status.idle": "2025-07-30T20:15:37.714030Z",
     "shell.execute_reply": "2025-07-30T20:15:37.713079Z"
    },
    "papermill": {
     "duration": 0.047233,
     "end_time": "2025-07-30T20:15:37.723361",
     "exception": false,
     "start_time": "2025-07-30T20:15:37.676128",
     "status": "completed"
    },
    "tags": []
   },
   "outputs": [
    {
     "data": {
      "text/plain": [
       "4"
      ]
     },
     "execution_count": 77,
     "metadata": {},
     "output_type": "execute_result"
    }
   ],
   "source": [
    "sub_universes = universe_analysis.generate_sub_universes()\n",
    "len(sub_universes)"
   ]
  },
  {
   "cell_type": "code",
   "execution_count": 78,
   "id": "92adf7ba",
   "metadata": {
    "execution": {
     "iopub.execute_input": "2025-07-30T20:15:37.797847Z",
     "iopub.status.busy": "2025-07-30T20:15:37.797320Z",
     "iopub.status.idle": "2025-07-30T20:15:37.804501Z",
     "shell.execute_reply": "2025-07-30T20:15:37.803413Z"
    },
    "papermill": {
     "duration": 0.04257,
     "end_time": "2025-07-30T20:15:37.806372",
     "exception": false,
     "start_time": "2025-07-30T20:15:37.763802",
     "status": "completed"
    },
    "tags": []
   },
   "outputs": [],
   "source": [
    "def filter_sub_universe_data(sub_universe, org_test):\n",
    "    # Keep all rows — no filtering\n",
    "    keep_rows_mask = np.ones(org_test.shape[0], dtype=bool)\n",
    "\n",
    "    print(f\"[INFO] Keeping all rows: {keep_rows_mask.sum()} rows retained.\")\n",
    "    return keep_rows_mask"
   ]
  },
  {
   "cell_type": "code",
   "execution_count": 79,
   "id": "4a759155",
   "metadata": {
    "execution": {
     "iopub.execute_input": "2025-07-30T20:15:37.863935Z",
     "iopub.status.busy": "2025-07-30T20:15:37.863479Z",
     "iopub.status.idle": "2025-07-30T20:15:46.496375Z",
     "shell.execute_reply": "2025-07-30T20:15:46.495392Z"
    },
    "papermill": {
     "duration": 8.663084,
     "end_time": "2025-07-30T20:15:46.497638",
     "exception": false,
     "start_time": "2025-07-30T20:15:37.834554",
     "status": "completed"
    },
    "tags": []
   },
   "outputs": [
    {
     "name": "stdout",
     "output_type": "stream",
     "text": [
      "Stopping execution_time clock.\n",
      "[INFO] Keeping all rows: 89710 rows retained.\n"
     ]
    },
    {
     "name": "stdout",
     "output_type": "stream",
     "text": [
      "[INFO] Keeping all rows: 89710 rows retained.\n"
     ]
    },
    {
     "name": "stdout",
     "output_type": "stream",
     "text": [
      "[INFO] Keeping all rows: 89710 rows retained.\n"
     ]
    },
    {
     "name": "stdout",
     "output_type": "stream",
     "text": [
      "[INFO] Keeping all rows: 89710 rows retained.\n"
     ]
    },
    {
     "data": {
      "text/html": [
       "<div>\n",
       "<style scoped>\n",
       "    .dataframe tbody tr th:only-of-type {\n",
       "        vertical-align: middle;\n",
       "    }\n",
       "\n",
       "    .dataframe tbody tr th {\n",
       "        vertical-align: top;\n",
       "    }\n",
       "\n",
       "    .dataframe thead th {\n",
       "        text-align: right;\n",
       "    }\n",
       "</style>\n",
       "<table border=\"1\" class=\"dataframe\">\n",
       "  <thead>\n",
       "    <tr style=\"text-align: right;\">\n",
       "      <th></th>\n",
       "      <th>run_no</th>\n",
       "      <th>universe_id</th>\n",
       "      <th>universe_settings</th>\n",
       "      <th>execution_time</th>\n",
       "      <th>test_size_n</th>\n",
       "      <th>test_size_frac</th>\n",
       "      <th>fair_main_equalized_odds_difference</th>\n",
       "      <th>fair_main_equalized_odds_ratio</th>\n",
       "      <th>fair_main_demographic_parity_difference</th>\n",
       "      <th>fair_main_demographic_parity_ratio</th>\n",
       "      <th>...</th>\n",
       "      <th>perf_grp_precision_0</th>\n",
       "      <th>perf_grp_precision_1</th>\n",
       "      <th>perf_grp_false positive rate_0</th>\n",
       "      <th>perf_grp_false positive rate_1</th>\n",
       "      <th>perf_grp_false negative rate_0</th>\n",
       "      <th>perf_grp_false negative rate_1</th>\n",
       "      <th>perf_grp_selection rate_0</th>\n",
       "      <th>perf_grp_selection rate_1</th>\n",
       "      <th>perf_grp_count_0</th>\n",
       "      <th>perf_grp_count_1</th>\n",
       "    </tr>\n",
       "  </thead>\n",
       "  <tbody>\n",
       "    <tr>\n",
       "      <th>0</th>\n",
       "      <td>14</td>\n",
       "      <td>21a2f5291dda0cc252f01748b57b0638</td>\n",
       "      <td>{\"cutoff\": \"quantile_0.1\", \"eval_fairness_grou...</td>\n",
       "      <td>38.901998</td>\n",
       "      <td>89710</td>\n",
       "      <td>1.0</td>\n",
       "      <td>0.096586</td>\n",
       "      <td>0.899515</td>\n",
       "      <td>0.084169</td>\n",
       "      <td>0.912769</td>\n",
       "      <td>...</td>\n",
       "      <td>NaN</td>\n",
       "      <td>NaN</td>\n",
       "      <td>NaN</td>\n",
       "      <td>NaN</td>\n",
       "      <td>NaN</td>\n",
       "      <td>NaN</td>\n",
       "      <td>NaN</td>\n",
       "      <td>NaN</td>\n",
       "      <td>NaN</td>\n",
       "      <td>NaN</td>\n",
       "    </tr>\n",
       "    <tr>\n",
       "      <th>0</th>\n",
       "      <td>14</td>\n",
       "      <td>21a2f5291dda0cc252f01748b57b0638</td>\n",
       "      <td>{\"cutoff\": \"quantile_0.1\", \"eval_fairness_grou...</td>\n",
       "      <td>38.901998</td>\n",
       "      <td>89710</td>\n",
       "      <td>1.0</td>\n",
       "      <td>0.096586</td>\n",
       "      <td>0.899515</td>\n",
       "      <td>0.084169</td>\n",
       "      <td>0.912769</td>\n",
       "      <td>...</td>\n",
       "      <td>0.118674</td>\n",
       "      <td>0.148014</td>\n",
       "      <td>0.961204</td>\n",
       "      <td>0.864618</td>\n",
       "      <td>0.006757</td>\n",
       "      <td>0.013457</td>\n",
       "      <td>0.964898</td>\n",
       "      <td>0.880729</td>\n",
       "      <td>20540.0</td>\n",
       "      <td>69170.0</td>\n",
       "    </tr>\n",
       "    <tr>\n",
       "      <th>0</th>\n",
       "      <td>14</td>\n",
       "      <td>21a2f5291dda0cc252f01748b57b0638</td>\n",
       "      <td>{\"cutoff\": \"quantile_0.25\", \"eval_fairness_gro...</td>\n",
       "      <td>38.901998</td>\n",
       "      <td>89710</td>\n",
       "      <td>1.0</td>\n",
       "      <td>0.171627</td>\n",
       "      <td>0.798682</td>\n",
       "      <td>0.149718</td>\n",
       "      <td>0.827002</td>\n",
       "      <td>...</td>\n",
       "      <td>NaN</td>\n",
       "      <td>NaN</td>\n",
       "      <td>NaN</td>\n",
       "      <td>NaN</td>\n",
       "      <td>NaN</td>\n",
       "      <td>NaN</td>\n",
       "      <td>NaN</td>\n",
       "      <td>NaN</td>\n",
       "      <td>NaN</td>\n",
       "      <td>NaN</td>\n",
       "    </tr>\n",
       "    <tr>\n",
       "      <th>0</th>\n",
       "      <td>14</td>\n",
       "      <td>21a2f5291dda0cc252f01748b57b0638</td>\n",
       "      <td>{\"cutoff\": \"quantile_0.25\", \"eval_fairness_gro...</td>\n",
       "      <td>38.901998</td>\n",
       "      <td>89710</td>\n",
       "      <td>1.0</td>\n",
       "      <td>0.171627</td>\n",
       "      <td>0.798682</td>\n",
       "      <td>0.149718</td>\n",
       "      <td>0.827002</td>\n",
       "      <td>...</td>\n",
       "      <td>0.128488</td>\n",
       "      <td>0.174363</td>\n",
       "      <td>0.852520</td>\n",
       "      <td>0.680893</td>\n",
       "      <td>0.035473</td>\n",
       "      <td>0.055580</td>\n",
       "      <td>0.865433</td>\n",
       "      <td>0.715715</td>\n",
       "      <td>20540.0</td>\n",
       "      <td>69170.0</td>\n",
       "    </tr>\n",
       "  </tbody>\n",
       "</table>\n",
       "<p>4 rows × 50 columns</p>\n",
       "</div>"
      ],
      "text/plain": [
       "  run_no                       universe_id  \\\n",
       "0     14  21a2f5291dda0cc252f01748b57b0638   \n",
       "0     14  21a2f5291dda0cc252f01748b57b0638   \n",
       "0     14  21a2f5291dda0cc252f01748b57b0638   \n",
       "0     14  21a2f5291dda0cc252f01748b57b0638   \n",
       "\n",
       "                                   universe_settings  execution_time  \\\n",
       "0  {\"cutoff\": \"quantile_0.1\", \"eval_fairness_grou...       38.901998   \n",
       "0  {\"cutoff\": \"quantile_0.1\", \"eval_fairness_grou...       38.901998   \n",
       "0  {\"cutoff\": \"quantile_0.25\", \"eval_fairness_gro...       38.901998   \n",
       "0  {\"cutoff\": \"quantile_0.25\", \"eval_fairness_gro...       38.901998   \n",
       "\n",
       "   test_size_n  test_size_frac  fair_main_equalized_odds_difference  \\\n",
       "0        89710             1.0                             0.096586   \n",
       "0        89710             1.0                             0.096586   \n",
       "0        89710             1.0                             0.171627   \n",
       "0        89710             1.0                             0.171627   \n",
       "\n",
       "   fair_main_equalized_odds_ratio  fair_main_demographic_parity_difference  \\\n",
       "0                        0.899515                                 0.084169   \n",
       "0                        0.899515                                 0.084169   \n",
       "0                        0.798682                                 0.149718   \n",
       "0                        0.798682                                 0.149718   \n",
       "\n",
       "   fair_main_demographic_parity_ratio  ...  perf_grp_precision_0  \\\n",
       "0                            0.912769  ...                   NaN   \n",
       "0                            0.912769  ...              0.118674   \n",
       "0                            0.827002  ...                   NaN   \n",
       "0                            0.827002  ...              0.128488   \n",
       "\n",
       "   perf_grp_precision_1  perf_grp_false positive rate_0  \\\n",
       "0                   NaN                             NaN   \n",
       "0              0.148014                        0.961204   \n",
       "0                   NaN                             NaN   \n",
       "0              0.174363                        0.852520   \n",
       "\n",
       "   perf_grp_false positive rate_1  perf_grp_false negative rate_0  \\\n",
       "0                             NaN                             NaN   \n",
       "0                        0.864618                        0.006757   \n",
       "0                             NaN                             NaN   \n",
       "0                        0.680893                        0.035473   \n",
       "\n",
       "   perf_grp_false negative rate_1  perf_grp_selection rate_0  \\\n",
       "0                             NaN                        NaN   \n",
       "0                        0.013457                   0.964898   \n",
       "0                             NaN                        NaN   \n",
       "0                        0.055580                   0.865433   \n",
       "\n",
       "   perf_grp_selection rate_1  perf_grp_count_0  perf_grp_count_1  \n",
       "0                        NaN               NaN               NaN  \n",
       "0                   0.880729           20540.0           69170.0  \n",
       "0                        NaN               NaN               NaN  \n",
       "0                   0.715715           20540.0           69170.0  \n",
       "\n",
       "[4 rows x 50 columns]"
      ]
     },
     "execution_count": 79,
     "metadata": {},
     "output_type": "execute_result"
    }
   ],
   "source": [
    "final_output = universe_analysis.generate_final_output(\n",
    "    y_pred_prob=probs_test,\n",
    "    y_test=y_true,\n",
    "    org_test=org_test,\n",
    "    filter_data=filter_sub_universe_data,\n",
    "    cp_metrics_df=cp_metrics_df,\n",
    "    save=True,\n",
    ")\n",
    "final_output"
   ]
  },
  {
   "cell_type": "code",
   "execution_count": null,
   "id": "721ff514-cb11-46f8-b6fc-50392f74b5cb",
   "metadata": {
    "papermill": {
     "duration": 0.016002,
     "end_time": "2025-07-30T20:15:46.532309",
     "exception": false,
     "start_time": "2025-07-30T20:15:46.516307",
     "status": "completed"
    },
    "tags": []
   },
   "outputs": [],
   "source": []
  }
 ],
 "metadata": {
  "celltoolbar": "Tags",
  "kernelspec": {
   "display_name": "Python (CMA Fairness)",
   "language": "python",
   "name": "cma_fair_env"
  },
  "language_info": {
   "codemirror_mode": {
    "name": "ipython",
    "version": 3
   },
   "file_extension": ".py",
   "mimetype": "text/x-python",
   "name": "python",
   "nbconvert_exporter": "python",
   "pygments_lexer": "ipython3",
   "version": "3.10.12"
  },
  "papermill": {
   "default_parameters": {},
   "duration": 51.506703,
   "end_time": "2025-07-30T20:15:47.265567",
   "environment_variables": {},
   "exception": null,
   "input_path": "universe_analysis.ipynb",
   "output_path": "output/runs/14/notebooks/m_14-21a2f5291dda0cc252f01748b57b0638.ipynb",
   "parameters": {
    "output_dir": "output",
    "run_no": "14",
    "seed": "2023",
    "universe": "{\"cutoff\": [\"quantile_0.1\", \"quantile_0.25\"], \"eval_fairness_grouping\": [\"majority-minority\", \"nationality-all\"], \"exclude_features\": \"age\", \"exclude_subgroups\": \"keep-all\", \"model\": \"elasticnet\", \"scale\": \"scale\", \"training_size\": \"25k\", \"training_year\": \"2012_14\"}",
    "universe_id": "21a2f5291dda0cc252f01748b57b0638"
   },
   "start_time": "2025-07-30T20:14:55.758864",
   "version": "2.6.0"
  }
 },
 "nbformat": 4,
 "nbformat_minor": 5
}