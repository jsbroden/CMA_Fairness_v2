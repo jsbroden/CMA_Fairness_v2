{
 "cells": [
  {
   "cell_type": "code",
   "execution_count": 1,
   "id": "f159f837-637b-42ba-96b5-ec9a68c44524",
   "metadata": {
    "execution": {
     "iopub.execute_input": "2025-07-30T21:46:15.486069Z",
     "iopub.status.busy": "2025-07-30T21:46:15.485609Z",
     "iopub.status.idle": "2025-07-30T21:46:15.499349Z",
     "shell.execute_reply": "2025-07-30T21:46:15.498074Z"
    },
    "papermill": {
     "duration": 0.036208,
     "end_time": "2025-07-30T21:46:15.500990",
     "exception": false,
     "start_time": "2025-07-30T21:46:15.464782",
     "status": "completed"
    },
    "tags": []
   },
   "outputs": [
    {
     "name": "stdout",
     "output_type": "stream",
     "text": [
      "/dss/dsshome1/0C/ra93lal2/cma/CMA_Fairness_v2\n"
     ]
    },
    {
     "name": "stderr",
     "output_type": "stream",
     "text": [
      "/dss/dsshome1/0C/ra93lal2/.local/share/virtualenvs/CMA_Fairness_v2-3j10GkSs/lib/python3.10/site-packages/IPython/core/magics/osm.py:393: UserWarning: This is now an optional IPython functionality, using bookmarks requires you to install the `pickleshare` library.\n",
      "  bkms = self.shell.db.get('bookmarks', {})\n",
      "/dss/dsshome1/0C/ra93lal2/.local/share/virtualenvs/CMA_Fairness_v2-3j10GkSs/lib/python3.10/site-packages/IPython/core/magics/osm.py:417: UserWarning: This is now an optional IPython functionality, setting dhist requires you to install the `pickleshare` library.\n",
      "  self.shell.db['dhist'] = compress_dhist(dhist)[-100:]\n"
     ]
    }
   ],
   "source": [
    "%cd ~/cma/CMA_Fairness_v2"
   ]
  },
  {
   "cell_type": "markdown",
   "id": "de2603b9",
   "metadata": {
    "papermill": {
     "duration": 0.018336,
     "end_time": "2025-07-30T21:46:15.537815",
     "exception": false,
     "start_time": "2025-07-30T21:46:15.519479",
     "status": "completed"
    },
    "tags": []
   },
   "source": [
    "The following cell holds the definition of our parameters, these values can be overriden by rendering the with e.g. the following command:\n",
    "\n",
    "papermill -p alpha 0.2 -p ratio 0.3 universe_analysis.ipynb output/test_run.ipynb"
   ]
  },
  {
   "cell_type": "code",
   "execution_count": 2,
   "id": "a80968a0-40bb-4fa9-85ef-2d5eefb01975",
   "metadata": {
    "execution": {
     "iopub.execute_input": "2025-07-30T21:46:15.575992Z",
     "iopub.status.busy": "2025-07-30T21:46:15.575364Z",
     "iopub.status.idle": "2025-07-30T21:46:15.581039Z",
     "shell.execute_reply": "2025-07-30T21:46:15.580089Z"
    },
    "papermill": {
     "duration": 0.027032,
     "end_time": "2025-07-30T21:46:15.582803",
     "exception": false,
     "start_time": "2025-07-30T21:46:15.555771",
     "status": "completed"
    },
    "tags": []
   },
   "outputs": [
    {
     "name": "stdout",
     "output_type": "stream",
     "text": [
      "Current working directory: /dss/dsshome1/0C/ra93lal2/cma/CMA_Fairness_v2\n"
     ]
    }
   ],
   "source": [
    "import os\n",
    "print(\"Current working directory:\", os.getcwd())"
   ]
  },
  {
   "cell_type": "code",
   "execution_count": 3,
   "id": "2dce4c03",
   "metadata": {
    "execution": {
     "iopub.execute_input": "2025-07-30T21:46:15.623344Z",
     "iopub.status.busy": "2025-07-30T21:46:15.622591Z",
     "iopub.status.idle": "2025-07-30T21:46:15.629344Z",
     "shell.execute_reply": "2025-07-30T21:46:15.628281Z"
    },
    "papermill": {
     "duration": 0.028361,
     "end_time": "2025-07-30T21:46:15.630926",
     "exception": false,
     "start_time": "2025-07-30T21:46:15.602565",
     "status": "completed"
    },
    "tags": [
     "parameters"
    ]
   },
   "outputs": [],
   "source": [
    "run_no = 0\n",
    "universe_id = \"test\"\n",
    "universe = {\n",
    "    \"training_size\": \"25k\", # \"25k\", \"5k\", \"1k\"\n",
    "    \"training_year\": \"2014\", # \"2014\", \"2012_14\", \"2010_14\"\n",
    "    \"scale\": \"scale\", # \"scale\", \"do-not-scale\",\n",
    "    #\"stratify_split\": \"target\", # \"none\", \"target\", \"protected-attribute\", \"both\",\n",
    "    \"model\": \"elasticnet\", # \"logreg\", \"penalized_logreg\", \"rf\", \"gbm\", \"elasticnet\"\n",
    "    \"cutoff\": [\"quantile_0.15\", \"quantile_0.30\"],\n",
    "    \"exclude_features\": \"age\", # \"none\", \"nationality\", \"sex\", \"nationality-sex\", \"age\"\n",
    "    \"exclude_subgroups\": \"keep-all\", # \"keep-all\", \"drop-non-german\"\n",
    "    \"eval_fairness_grouping\": [\"majority-minority\", \"nationality-all\"]\n",
    "}\n",
    "\n",
    "output_dir=\"./output\"\n",
    "seed=0"
   ]
  },
  {
   "cell_type": "code",
   "execution_count": 4,
   "id": "c14f01f0",
   "metadata": {
    "execution": {
     "iopub.execute_input": "2025-07-30T21:46:15.713128Z",
     "iopub.status.busy": "2025-07-30T21:46:15.712679Z",
     "iopub.status.idle": "2025-07-30T21:46:15.718245Z",
     "shell.execute_reply": "2025-07-30T21:46:15.717236Z"
    },
    "papermill": {
     "duration": 0.027247,
     "end_time": "2025-07-30T21:46:15.719975",
     "exception": false,
     "start_time": "2025-07-30T21:46:15.692728",
     "status": "completed"
    },
    "tags": [
     "injected-parameters"
    ]
   },
   "outputs": [],
   "source": [
    "# Parameters\n",
    "universe_id = \"ee77a537ec4d54c5bd45079747630545\"\n",
    "run_no = \"14\"\n",
    "universe = \"{\\\"cutoff\\\": [\\\"quantile_0.1\\\", \\\"quantile_0.25\\\"], \\\"eval_fairness_grouping\\\": [\\\"majority-minority\\\", \\\"nationality-all\\\"], \\\"exclude_features\\\": \\\"nationality-sex\\\", \\\"exclude_subgroups\\\": \\\"keep-all\\\", \\\"model\\\": \\\"rf\\\", \\\"scale\\\": \\\"scale\\\", \\\"training_size\\\": \\\"1k\\\", \\\"training_year\\\": \\\"2010_14\\\"}\"\n",
    "output_dir = \"output\"\n",
    "seed = \"2023\"\n"
   ]
  },
  {
   "cell_type": "code",
   "execution_count": 5,
   "id": "1650acaf",
   "metadata": {
    "execution": {
     "iopub.execute_input": "2025-07-30T21:46:15.760493Z",
     "iopub.status.busy": "2025-07-30T21:46:15.759787Z",
     "iopub.status.idle": "2025-07-30T21:46:15.764892Z",
     "shell.execute_reply": "2025-07-30T21:46:15.763822Z"
    },
    "papermill": {
     "duration": 0.026145,
     "end_time": "2025-07-30T21:46:15.766389",
     "exception": false,
     "start_time": "2025-07-30T21:46:15.740244",
     "status": "completed"
    },
    "tags": []
   },
   "outputs": [],
   "source": [
    "import json\n",
    "# Parse universe into dict if it is passed as a string\n",
    "if isinstance(universe, str):\n",
    "    universe = json.loads(universe)"
   ]
  },
  {
   "cell_type": "code",
   "execution_count": 6,
   "id": "16620c48",
   "metadata": {
    "execution": {
     "iopub.execute_input": "2025-07-30T21:46:15.805948Z",
     "iopub.status.busy": "2025-07-30T21:46:15.805219Z",
     "iopub.status.idle": "2025-07-30T21:46:15.848786Z",
     "shell.execute_reply": "2025-07-30T21:46:15.847867Z"
    },
    "papermill": {
     "duration": 0.064417,
     "end_time": "2025-07-30T21:46:15.850558",
     "exception": false,
     "start_time": "2025-07-30T21:46:15.786141",
     "status": "completed"
    },
    "tags": []
   },
   "outputs": [],
   "source": [
    "# Auto-reload the custom package\n",
    "%load_ext autoreload\n",
    "%autoreload 1\n",
    "%aimport fairness_multiverse"
   ]
  },
  {
   "cell_type": "code",
   "execution_count": 7,
   "id": "01c5c9f3",
   "metadata": {
    "execution": {
     "iopub.execute_input": "2025-07-30T21:46:15.889409Z",
     "iopub.status.busy": "2025-07-30T21:46:15.888878Z",
     "iopub.status.idle": "2025-07-30T21:46:17.724068Z",
     "shell.execute_reply": "2025-07-30T21:46:17.723029Z"
    },
    "papermill": {
     "duration": 1.856437,
     "end_time": "2025-07-30T21:46:17.726002",
     "exception": false,
     "start_time": "2025-07-30T21:46:15.869565",
     "status": "completed"
    },
    "tags": []
   },
   "outputs": [],
   "source": [
    "from fairness_multiverse.universe import UniverseAnalysis\n",
    "\n",
    "universe_analysis = UniverseAnalysis(\n",
    "    run_no = run_no,\n",
    "    universe_id = universe_id,\n",
    "    universe = universe,\n",
    "    output_dir=output_dir,\n",
    ")"
   ]
  },
  {
   "cell_type": "code",
   "execution_count": 8,
   "id": "106241f5",
   "metadata": {
    "execution": {
     "iopub.execute_input": "2025-07-30T21:46:17.769391Z",
     "iopub.status.busy": "2025-07-30T21:46:17.768893Z",
     "iopub.status.idle": "2025-07-30T21:46:17.775575Z",
     "shell.execute_reply": "2025-07-30T21:46:17.774691Z"
    },
    "papermill": {
     "duration": 0.030529,
     "end_time": "2025-07-30T21:46:17.777385",
     "exception": false,
     "start_time": "2025-07-30T21:46:17.746856",
     "status": "completed"
    },
    "tags": []
   },
   "outputs": [
    {
     "name": "stdout",
     "output_type": "stream",
     "text": [
      "Using Seed: 2023\n"
     ]
    }
   ],
   "source": [
    "import numpy as np\n",
    "parsed_seed = int(seed)\n",
    "np.random.seed(parsed_seed)\n",
    "print(f\"Using Seed: {parsed_seed}\")"
   ]
  },
  {
   "cell_type": "markdown",
   "id": "e0ebdc57",
   "metadata": {
    "papermill": {
     "duration": 0.023495,
     "end_time": "2025-07-30T21:46:17.821759",
     "exception": false,
     "start_time": "2025-07-30T21:46:17.798264",
     "status": "completed"
    },
    "tags": []
   },
   "source": [
    "# Loading Data"
   ]
  },
  {
   "cell_type": "markdown",
   "id": "681925a3",
   "metadata": {
    "papermill": {
     "duration": 0.021637,
     "end_time": "2025-07-30T21:46:17.864720",
     "exception": false,
     "start_time": "2025-07-30T21:46:17.843083",
     "status": "completed"
    },
    "tags": []
   },
   "source": [
    "Load siab_train, siab_test, siab_calib and/or \n",
    "load siab_train_features, siab_train_labels"
   ]
  },
  {
   "cell_type": "code",
   "execution_count": 9,
   "id": "f0496b8a",
   "metadata": {
    "execution": {
     "iopub.execute_input": "2025-07-30T21:46:17.911412Z",
     "iopub.status.busy": "2025-07-30T21:46:17.910855Z",
     "iopub.status.idle": "2025-07-30T21:46:30.493031Z",
     "shell.execute_reply": "2025-07-30T21:46:30.491745Z"
    },
    "papermill": {
     "duration": 12.608242,
     "end_time": "2025-07-30T21:46:30.495011",
     "exception": false,
     "start_time": "2025-07-30T21:46:17.886769",
     "status": "completed"
    },
    "tags": []
   },
   "outputs": [
    {
     "name": "stdout",
     "output_type": "stream",
     "text": [
      "Loading SIAB data from cache: data/siab_cached.csv.gz\n"
     ]
    },
    {
     "name": "stdout",
     "output_type": "stream",
     "text": [
      "(643690, 164)\n"
     ]
    }
   ],
   "source": [
    "from pathlib import Path\n",
    "import pandas as pd\n",
    "\n",
    "# File paths\n",
    "raw_file = Path(\"data/raw/siab.csv\")\n",
    "cache_file = Path(\"data/siab_cached.csv.gz\")\n",
    "\n",
    "# Ensure cache directory exists\n",
    "cache_file.parent.mkdir(parents=True, exist_ok=True)\n",
    "\n",
    "# Load with simple caching\n",
    "if cache_file.exists():\n",
    "    print(f\"Loading SIAB data from cache: {cache_file}\")\n",
    "    siab = pd.read_csv(cache_file, compression='gzip')\n",
    "else:\n",
    "    print(f\"Cache not found. Reading raw SIAB data: {raw_file}\")\n",
    "    siab = pd.read_csv(raw_file)\n",
    "    siab.to_csv(cache_file, index=False, compression='gzip')\n",
    "    print(f\"Cached SIAB data to: {cache_file}\")\n",
    "\n",
    "# Now use `siab` DataFrame as needed\n",
    "print(siab.shape)"
   ]
  },
  {
   "cell_type": "code",
   "execution_count": 10,
   "id": "db0ca512-5f53-4dba-abdb-a2888bca41ba",
   "metadata": {
    "execution": {
     "iopub.execute_input": "2025-07-30T21:46:30.550463Z",
     "iopub.status.busy": "2025-07-30T21:46:30.549632Z",
     "iopub.status.idle": "2025-07-30T21:46:30.555797Z",
     "shell.execute_reply": "2025-07-30T21:46:30.554584Z"
    },
    "papermill": {
     "duration": 0.035012,
     "end_time": "2025-07-30T21:46:30.557755",
     "exception": false,
     "start_time": "2025-07-30T21:46:30.522743",
     "status": "completed"
    },
    "tags": []
   },
   "outputs": [],
   "source": [
    "#siab"
   ]
  },
  {
   "cell_type": "code",
   "execution_count": 11,
   "id": "a0edb063",
   "metadata": {
    "execution": {
     "iopub.execute_input": "2025-07-30T21:46:30.611294Z",
     "iopub.status.busy": "2025-07-30T21:46:30.610618Z",
     "iopub.status.idle": "2025-07-30T21:46:30.616486Z",
     "shell.execute_reply": "2025-07-30T21:46:30.615285Z"
    },
    "papermill": {
     "duration": 0.034775,
     "end_time": "2025-07-30T21:46:30.618643",
     "exception": false,
     "start_time": "2025-07-30T21:46:30.583868",
     "status": "completed"
    },
    "tags": []
   },
   "outputs": [],
   "source": [
    "#import pandas as pd\n",
    "#\n",
    "#X_train = pd.read_csv(\"./data/X_train.csv\")\n",
    "#y_train = pd.read_csv(\"./data/y_train.csv\")"
   ]
  },
  {
   "cell_type": "code",
   "execution_count": 12,
   "id": "63d08085",
   "metadata": {
    "execution": {
     "iopub.execute_input": "2025-07-30T21:46:30.673206Z",
     "iopub.status.busy": "2025-07-30T21:46:30.672458Z",
     "iopub.status.idle": "2025-07-30T21:46:30.677924Z",
     "shell.execute_reply": "2025-07-30T21:46:30.676797Z"
    },
    "papermill": {
     "duration": 0.034342,
     "end_time": "2025-07-30T21:46:30.679784",
     "exception": false,
     "start_time": "2025-07-30T21:46:30.645442",
     "status": "completed"
    },
    "tags": []
   },
   "outputs": [],
   "source": [
    "#X_test = pd.read_csv(\"./data/X_test.csv\")\n",
    "#y_true = pd.read_csv(\"./data/y_test.csv\")"
   ]
  },
  {
   "cell_type": "code",
   "execution_count": 13,
   "id": "98a8d0fa-1d3d-4ed8-bb2c-281470e24add",
   "metadata": {
    "execution": {
     "iopub.execute_input": "2025-07-30T21:46:30.724972Z",
     "iopub.status.busy": "2025-07-30T21:46:30.724062Z",
     "iopub.status.idle": "2025-07-30T21:46:30.730304Z",
     "shell.execute_reply": "2025-07-30T21:46:30.729173Z"
    },
    "papermill": {
     "duration": 0.029911,
     "end_time": "2025-07-30T21:46:30.732023",
     "exception": false,
     "start_time": "2025-07-30T21:46:30.702112",
     "status": "completed"
    },
    "tags": []
   },
   "outputs": [],
   "source": [
    "# Calibration data for conformal\n",
    "#X_calib = pd.read_csv(\"./data/X_calib.csv\")\n",
    "#y_calib = pd.read_csv(\"./data/y_calib.csv\")"
   ]
  },
  {
   "cell_type": "markdown",
   "id": "997051c5-15bd-4b69-9786-c3001a3ce484",
   "metadata": {
    "papermill": {
     "duration": 0.021581,
     "end_time": "2025-07-30T21:46:30.775598",
     "exception": false,
     "start_time": "2025-07-30T21:46:30.754017",
     "status": "completed"
    },
    "tags": []
   },
   "source": [
    "# Splitting Data and Setting Training Data Size"
   ]
  },
  {
   "cell_type": "code",
   "execution_count": 14,
   "id": "e993b61f-042d-41a6-8c81-f55681f86335",
   "metadata": {
    "execution": {
     "iopub.execute_input": "2025-07-30T21:46:30.820441Z",
     "iopub.status.busy": "2025-07-30T21:46:30.819738Z",
     "iopub.status.idle": "2025-07-30T21:46:30.835398Z",
     "shell.execute_reply": "2025-07-30T21:46:30.834230Z"
    },
    "papermill": {
     "duration": 0.040073,
     "end_time": "2025-07-30T21:46:30.837239",
     "exception": false,
     "start_time": "2025-07-30T21:46:30.797166",
     "status": "completed"
    },
    "tags": []
   },
   "outputs": [],
   "source": [
    "def sample_by_year_size(df,\n",
    "                        training_year: str,\n",
    "                        training_size: str,\n",
    "                        random_state: int = 42):\n",
    "    # --- parse training_year into a list of int years ---\n",
    "    if \"_\" in training_year:\n",
    "        start_str, end_str = training_year.split(\"_\", 1)\n",
    "        start = int(start_str)\n",
    "        end   = int(end_str) if len(end_str) == 4 else (int(end_str) + (start // 100)*100)\n",
    "        years = list(range(start, end + 1))\n",
    "    else:\n",
    "        years = [int(training_year)]\n",
    "\n",
    "    df = df[df[\"year\"].isin(years)].reset_index(drop=True)\n",
    "\n",
    "    # --- map training_size to total number of samples ---\n",
    "    total_map = {\"25k\": 25_000, \"5k\": 5_000, \"1k\": 1_000}\n",
    "    if training_size not in total_map:\n",
    "        return df  # e.g. \"all\"\n",
    "\n",
    "    total_samples = total_map[training_size]\n",
    "    n_years       = len(years)\n",
    "    base          = total_samples // n_years\n",
    "    remainder     = total_samples % n_years\n",
    "\n",
    "    # --- build a dict: year -> how many to sample ---\n",
    "    # give +1 to the first `remainder` years in ascending order\n",
    "    quotas = {\n",
    "        year: base + (1 if idx < remainder else 0)\n",
    "        for idx, year in enumerate(sorted(years))\n",
    "    }\n",
    "\n",
    "    # --- sample per‐year according to the quota dict ---\n",
    "    sampled = (\n",
    "        df\n",
    "        .groupby(\"year\", group_keys=False)\n",
    "        .apply(lambda grp: grp.sample(\n",
    "            n=min(len(grp), quotas[grp.name]),\n",
    "            random_state=random_state))\n",
    "        .reset_index(drop=True)\n",
    "    )\n",
    "\n",
    "    return sampled"
   ]
  },
  {
   "cell_type": "code",
   "execution_count": 15,
   "id": "c0ccd338-0e02-41f3-a09d-f56f9266e3fb",
   "metadata": {
    "execution": {
     "iopub.execute_input": "2025-07-30T21:46:30.882896Z",
     "iopub.status.busy": "2025-07-30T21:46:30.882071Z",
     "iopub.status.idle": "2025-07-30T21:46:30.887845Z",
     "shell.execute_reply": "2025-07-30T21:46:30.886762Z"
    },
    "papermill": {
     "duration": 0.030086,
     "end_time": "2025-07-30T21:46:30.889814",
     "exception": false,
     "start_time": "2025-07-30T21:46:30.859728",
     "status": "completed"
    },
    "tags": []
   },
   "outputs": [],
   "source": [
    "#universe[\"training_size\"]"
   ]
  },
  {
   "cell_type": "code",
   "execution_count": 16,
   "id": "ca707fd7-8047-4acd-bfa5-66248fbbf8e6",
   "metadata": {
    "execution": {
     "iopub.execute_input": "2025-07-30T21:46:30.936703Z",
     "iopub.status.busy": "2025-07-30T21:46:30.935709Z",
     "iopub.status.idle": "2025-07-30T21:46:30.941216Z",
     "shell.execute_reply": "2025-07-30T21:46:30.940170Z"
    },
    "papermill": {
     "duration": 0.030304,
     "end_time": "2025-07-30T21:46:30.943201",
     "exception": false,
     "start_time": "2025-07-30T21:46:30.912897",
     "status": "completed"
    },
    "tags": []
   },
   "outputs": [],
   "source": [
    "#universe[\"training_year\"]"
   ]
  },
  {
   "cell_type": "code",
   "execution_count": 17,
   "id": "aea9c6ef-6f46-42c8-85eb-5a62025c1508",
   "metadata": {
    "execution": {
     "iopub.execute_input": "2025-07-30T21:46:30.997995Z",
     "iopub.status.busy": "2025-07-30T21:46:30.997259Z",
     "iopub.status.idle": "2025-07-30T21:46:32.638803Z",
     "shell.execute_reply": "2025-07-30T21:46:32.638055Z"
    },
    "papermill": {
     "duration": 1.670245,
     "end_time": "2025-07-30T21:46:32.640327",
     "exception": false,
     "start_time": "2025-07-30T21:46:30.970082",
     "status": "completed"
    },
    "tags": []
   },
   "outputs": [],
   "source": [
    "siab_train = sample_by_year_size(siab,\n",
    "                               training_year=universe[\"training_year\"],\n",
    "                               training_size=universe[\"training_size\"])"
   ]
  },
  {
   "cell_type": "code",
   "execution_count": 18,
   "id": "8d3afb32-789d-442c-8d5d-9f5aa8dd2eed",
   "metadata": {
    "execution": {
     "iopub.execute_input": "2025-07-30T21:46:32.670236Z",
     "iopub.status.busy": "2025-07-30T21:46:32.669855Z",
     "iopub.status.idle": "2025-07-30T21:46:32.674017Z",
     "shell.execute_reply": "2025-07-30T21:46:32.673210Z"
    },
    "papermill": {
     "duration": 0.01788,
     "end_time": "2025-07-30T21:46:32.675305",
     "exception": false,
     "start_time": "2025-07-30T21:46:32.657425",
     "status": "completed"
    },
    "tags": []
   },
   "outputs": [],
   "source": [
    "#siab_train.shape"
   ]
  },
  {
   "cell_type": "code",
   "execution_count": 19,
   "id": "d582db68-1a4c-47fb-84fc-08518dc1975a",
   "metadata": {
    "execution": {
     "iopub.execute_input": "2025-07-30T21:46:32.699624Z",
     "iopub.status.busy": "2025-07-30T21:46:32.699128Z",
     "iopub.status.idle": "2025-07-30T21:46:32.703590Z",
     "shell.execute_reply": "2025-07-30T21:46:32.702870Z"
    },
    "papermill": {
     "duration": 0.017631,
     "end_time": "2025-07-30T21:46:32.704890",
     "exception": false,
     "start_time": "2025-07-30T21:46:32.687259",
     "status": "completed"
    },
    "tags": []
   },
   "outputs": [],
   "source": [
    "#display(siab_train.groupby(\"year\").size())"
   ]
  },
  {
   "cell_type": "code",
   "execution_count": 20,
   "id": "a561edb4-d032-42cb-8256-22eac1111c64",
   "metadata": {
    "execution": {
     "iopub.execute_input": "2025-07-30T21:46:32.733818Z",
     "iopub.status.busy": "2025-07-30T21:46:32.732986Z",
     "iopub.status.idle": "2025-07-30T21:46:32.945203Z",
     "shell.execute_reply": "2025-07-30T21:46:32.944456Z"
    },
    "papermill": {
     "duration": 0.228649,
     "end_time": "2025-07-30T21:46:32.946577",
     "exception": false,
     "start_time": "2025-07-30T21:46:32.717928",
     "status": "completed"
    },
    "tags": []
   },
   "outputs": [],
   "source": [
    "#siab_train = siab_s[siab_s.year < 2015]\n",
    "siab_calib = siab[siab.year == 2015]\n",
    "siab_test = siab[siab.year == 2016]"
   ]
  },
  {
   "cell_type": "code",
   "execution_count": 21,
   "id": "472de16f-c3db-4916-846b-1f0de9cf1746",
   "metadata": {
    "execution": {
     "iopub.execute_input": "2025-07-30T21:46:32.970639Z",
     "iopub.status.busy": "2025-07-30T21:46:32.970129Z",
     "iopub.status.idle": "2025-07-30T21:46:32.975955Z",
     "shell.execute_reply": "2025-07-30T21:46:32.974870Z"
    },
    "papermill": {
     "duration": 0.019289,
     "end_time": "2025-07-30T21:46:32.977523",
     "exception": false,
     "start_time": "2025-07-30T21:46:32.958234",
     "status": "completed"
    },
    "tags": []
   },
   "outputs": [],
   "source": [
    "X_train = siab_train.iloc[:,4:164]\n",
    "y_train = siab_train.iloc[:, [3]]"
   ]
  },
  {
   "cell_type": "code",
   "execution_count": 22,
   "id": "828c96af-f43a-4ed6-ba47-8ac73a47d56c",
   "metadata": {
    "execution": {
     "iopub.execute_input": "2025-07-30T21:46:33.004503Z",
     "iopub.status.busy": "2025-07-30T21:46:33.004012Z",
     "iopub.status.idle": "2025-07-30T21:46:33.052477Z",
     "shell.execute_reply": "2025-07-30T21:46:33.051474Z"
    },
    "papermill": {
     "duration": 0.063894,
     "end_time": "2025-07-30T21:46:33.053854",
     "exception": false,
     "start_time": "2025-07-30T21:46:32.989960",
     "status": "completed"
    },
    "tags": []
   },
   "outputs": [],
   "source": [
    "X_calib = siab_calib.iloc[:,4:164]\n",
    "y_calib = siab_calib.iloc[:, [3]]"
   ]
  },
  {
   "cell_type": "code",
   "execution_count": 23,
   "id": "c34be9c3-6bd6-476e-acd3-845840e303be",
   "metadata": {
    "execution": {
     "iopub.execute_input": "2025-07-30T21:46:33.083565Z",
     "iopub.status.busy": "2025-07-30T21:46:33.082860Z",
     "iopub.status.idle": "2025-07-30T21:46:33.133849Z",
     "shell.execute_reply": "2025-07-30T21:46:33.132976Z"
    },
    "papermill": {
     "duration": 0.068723,
     "end_time": "2025-07-30T21:46:33.135251",
     "exception": false,
     "start_time": "2025-07-30T21:46:33.066528",
     "status": "completed"
    },
    "tags": []
   },
   "outputs": [],
   "source": [
    "X_test = siab_test.iloc[:,4:164]\n",
    "y_true = siab_test.iloc[:, [3]]"
   ]
  },
  {
   "cell_type": "markdown",
   "id": "9901737e-04df-44f0-9100-f5ad144ed040",
   "metadata": {
    "papermill": {
     "duration": 0.032146,
     "end_time": "2025-07-30T21:46:33.184592",
     "exception": false,
     "start_time": "2025-07-30T21:46:33.152446",
     "status": "completed"
    },
    "tags": []
   },
   "source": [
    "# Splitting Data and Setting Training Data Size OLD VERSION"
   ]
  },
  {
   "cell_type": "code",
   "execution_count": 24,
   "id": "acbc8f7d-8fc8-4e86-8c59-5dcb0f58384b",
   "metadata": {
    "execution": {
     "iopub.execute_input": "2025-07-30T21:46:33.249737Z",
     "iopub.status.busy": "2025-07-30T21:46:33.248868Z",
     "iopub.status.idle": "2025-07-30T21:46:33.256286Z",
     "shell.execute_reply": "2025-07-30T21:46:33.254901Z"
    },
    "papermill": {
     "duration": 0.043152,
     "end_time": "2025-07-30T21:46:33.258848",
     "exception": false,
     "start_time": "2025-07-30T21:46:33.215696",
     "status": "completed"
    },
    "tags": []
   },
   "outputs": [],
   "source": [
    "#def sample_by_year(df, training_size, random_state=42):\n",
    "#    if training_size == \"2014\":\n",
    "#        return df[df[\"year\"] == 2014].reset_index(drop=True)\n",
    "#    \n",
    "#    size_map = {\n",
    "#        \"25k\": 5000,\n",
    "#        \"5k\": 1000,\n",
    "#        \"1k\": 200\n",
    "#    }\n",
    "#\n",
    "#    if training_size not in size_map:\n",
    "#        return df.reset_index(drop=True)  # use all data\n",
    "#\n",
    "#    n_per_year = size_map[training_size]\n",
    "#    grouped = df.groupby(\"year\")\n",
    "#    sampled = grouped.apply(lambda x: x.sample(n=min(n_per_year, len(x)), random_state=random_state))\n",
    "#    return sampled.reset_index(drop=True)"
   ]
  },
  {
   "cell_type": "code",
   "execution_count": 25,
   "id": "6d931f52-beaf-43ff-9e78-9d44a448d54e",
   "metadata": {
    "execution": {
     "iopub.execute_input": "2025-07-30T21:46:33.325203Z",
     "iopub.status.busy": "2025-07-30T21:46:33.324713Z",
     "iopub.status.idle": "2025-07-30T21:46:33.331212Z",
     "shell.execute_reply": "2025-07-30T21:46:33.329819Z"
    },
    "papermill": {
     "duration": 0.042274,
     "end_time": "2025-07-30T21:46:33.333840",
     "exception": false,
     "start_time": "2025-07-30T21:46:33.291566",
     "status": "completed"
    },
    "tags": []
   },
   "outputs": [],
   "source": [
    "#siab_s = sample_by_year(siab, universe[\"training_size\"])"
   ]
  },
  {
   "cell_type": "code",
   "execution_count": 26,
   "id": "5db0a40e-a4e2-4920-be85-b12ae061d70d",
   "metadata": {
    "execution": {
     "iopub.execute_input": "2025-07-30T21:46:33.401574Z",
     "iopub.status.busy": "2025-07-30T21:46:33.400496Z",
     "iopub.status.idle": "2025-07-30T21:46:33.408020Z",
     "shell.execute_reply": "2025-07-30T21:46:33.406671Z"
    },
    "papermill": {
     "duration": 0.044476,
     "end_time": "2025-07-30T21:46:33.410448",
     "exception": false,
     "start_time": "2025-07-30T21:46:33.365972",
     "status": "completed"
    },
    "tags": []
   },
   "outputs": [],
   "source": [
    "#display(siab_s.groupby(\"year\").size())"
   ]
  },
  {
   "cell_type": "code",
   "execution_count": 27,
   "id": "e6c733c5",
   "metadata": {
    "execution": {
     "iopub.execute_input": "2025-07-30T21:46:33.455661Z",
     "iopub.status.busy": "2025-07-30T21:46:33.454843Z",
     "iopub.status.idle": "2025-07-30T21:46:33.610470Z",
     "shell.execute_reply": "2025-07-30T21:46:33.609334Z"
    },
    "papermill": {
     "duration": 0.178539,
     "end_time": "2025-07-30T21:46:33.612111",
     "exception": false,
     "start_time": "2025-07-30T21:46:33.433572",
     "status": "completed"
    },
    "tags": []
   },
   "outputs": [],
   "source": [
    "# Auxiliary data needed downstream in the pipeline\n",
    "\n",
    "org_train = X_train.copy()\n",
    "org_test = X_test.copy()\n",
    "org_calib = X_calib.copy()"
   ]
  },
  {
   "cell_type": "code",
   "execution_count": 28,
   "id": "1466abac-c6da-4492-a62f-4240ae3783af",
   "metadata": {
    "execution": {
     "iopub.execute_input": "2025-07-30T21:46:33.651347Z",
     "iopub.status.busy": "2025-07-30T21:46:33.650511Z",
     "iopub.status.idle": "2025-07-30T21:46:33.658783Z",
     "shell.execute_reply": "2025-07-30T21:46:33.657583Z"
    },
    "papermill": {
     "duration": 0.028302,
     "end_time": "2025-07-30T21:46:33.660786",
     "exception": false,
     "start_time": "2025-07-30T21:46:33.632484",
     "status": "completed"
    },
    "tags": []
   },
   "outputs": [],
   "source": [
    "# put in other script?\n",
    "# Group sizes\n",
    "\n",
    "#def calculate_percentages(df, df_name):\n",
    "#    total_entries = len(df)\n",
    "#\n",
    "#    female_pct = (df['frau1'] == 1).mean() * 100\n",
    "#    non_german_pct = ((df['maxdeutsch1'] == 0) & (df['maxdeutsch.Missing.'] == 0)).mean() * 100\n",
    "#    non_german_male_pct = ((df['frau1'] == 0) & (df['maxdeutsch1'] == 0) & (df['maxdeutsch.Missing.'] == 0)).mean() * 100\n",
    "#    non_german_female_pct = ((df['frau1'] == 1) & (df['maxdeutsch1'] == 0) & (df['maxdeutsch.Missing.'] == 0)).mean() * 100\n",
    "#\n",
    "#    print(f\"--- {df_name} ---\")\n",
    "#    print(f\"Female: {female_pct:.2f}%\")\n",
    "#    print(f\"Non-German: {non_german_pct:.2f}%\")\n",
    "#    print(f\"Non-German Male: {non_german_male_pct:.2f}%\")\n",
    "#    print(f\"Non-German Female: {non_german_female_pct:.2f}%\\n\")\n",
    "#\n",
    "## Calculate for each DataFrame\n",
    "#calculate_percentages(siab_calib, \"siab_calib\")\n",
    "#calculate_percentages(siab_test, \"siab_test\")\n",
    "#calculate_percentages(siab_train, \"siab_train\")"
   ]
  },
  {
   "cell_type": "markdown",
   "id": "0a4a1b33",
   "metadata": {
    "papermill": {
     "duration": 0.01742,
     "end_time": "2025-07-30T21:46:33.702480",
     "exception": false,
     "start_time": "2025-07-30T21:46:33.685060",
     "status": "completed"
    },
    "tags": []
   },
   "source": [
    "# Preprocessing Data"
   ]
  },
  {
   "cell_type": "code",
   "execution_count": 29,
   "id": "ca879031",
   "metadata": {
    "execution": {
     "iopub.execute_input": "2025-07-30T21:46:33.749375Z",
     "iopub.status.busy": "2025-07-30T21:46:33.749084Z",
     "iopub.status.idle": "2025-07-30T21:46:33.756585Z",
     "shell.execute_reply": "2025-07-30T21:46:33.755385Z"
    },
    "papermill": {
     "duration": 0.033284,
     "end_time": "2025-07-30T21:46:33.758917",
     "exception": false,
     "start_time": "2025-07-30T21:46:33.725633",
     "status": "completed"
    },
    "tags": []
   },
   "outputs": [],
   "source": [
    "# EXCLUDE PROTECTED FEATURES\n",
    "# ----------------------\n",
    "# \"exclude_features\": \"none\", # \"nationality\", \"sex\", \"nationality-sex\"\n",
    "\n",
    "excluded_features = universe[\"exclude_features\"].split(\"-\") # split, e.g.: \"nationality-sex\" -> [\"nationality\", \"sex\"]\n",
    "excluded_features_dictionary = {\n",
    "    \"nationality\": [\"maxdeutsch1\", \"maxdeutsch.Missing.\"],\n",
    "    \"sex\": [\"frau1\"],\n",
    "    \"age\": [\"age\"],\n",
    "}\n"
   ]
  },
  {
   "cell_type": "code",
   "execution_count": 30,
   "id": "b745ac60",
   "metadata": {
    "execution": {
     "iopub.execute_input": "2025-07-30T21:46:33.818842Z",
     "iopub.status.busy": "2025-07-30T21:46:33.818222Z",
     "iopub.status.idle": "2025-07-30T21:46:33.826235Z",
     "shell.execute_reply": "2025-07-30T21:46:33.825001Z"
    },
    "papermill": {
     "duration": 0.042805,
     "end_time": "2025-07-30T21:46:33.828674",
     "exception": false,
     "start_time": "2025-07-30T21:46:33.785869",
     "status": "completed"
    },
    "tags": []
   },
   "outputs": [],
   "source": [
    "# Code nice names to column names\n",
    "\n",
    "excluded_features_columns = [\n",
    "    excluded_features_dictionary[f] for f in excluded_features if len(f) > 0 and f != \"none\"\n",
    "]"
   ]
  },
  {
   "cell_type": "code",
   "execution_count": 31,
   "id": "f84f73a2",
   "metadata": {
    "execution": {
     "iopub.execute_input": "2025-07-30T21:46:33.893147Z",
     "iopub.status.busy": "2025-07-30T21:46:33.892247Z",
     "iopub.status.idle": "2025-07-30T21:46:33.901022Z",
     "shell.execute_reply": "2025-07-30T21:46:33.899630Z"
    },
    "papermill": {
     "duration": 0.043606,
     "end_time": "2025-07-30T21:46:33.903511",
     "exception": false,
     "start_time": "2025-07-30T21:46:33.859905",
     "status": "completed"
    },
    "tags": []
   },
   "outputs": [],
   "source": [
    "from utils import flatten_once\n",
    "\n",
    "excluded_features_columns = flatten_once(excluded_features_columns)"
   ]
  },
  {
   "cell_type": "code",
   "execution_count": 32,
   "id": "884dea22",
   "metadata": {
    "execution": {
     "iopub.execute_input": "2025-07-30T21:46:33.966375Z",
     "iopub.status.busy": "2025-07-30T21:46:33.965523Z",
     "iopub.status.idle": "2025-07-30T21:46:33.976577Z",
     "shell.execute_reply": "2025-07-30T21:46:33.975096Z"
    },
    "papermill": {
     "duration": 0.044957,
     "end_time": "2025-07-30T21:46:33.978764",
     "exception": false,
     "start_time": "2025-07-30T21:46:33.933807",
     "status": "completed"
    },
    "tags": []
   },
   "outputs": [
    {
     "name": "stdout",
     "output_type": "stream",
     "text": [
      "Dropping features: ['maxdeutsch1', 'maxdeutsch.Missing.', 'frau1']\n"
     ]
    }
   ],
   "source": [
    "if len(excluded_features_columns) > 0:\n",
    "    print(f\"Dropping features: {excluded_features_columns}\")\n",
    "    X_train.drop(excluded_features_columns, axis=1, inplace=True)"
   ]
  },
  {
   "cell_type": "code",
   "execution_count": 33,
   "id": "95ab8b16",
   "metadata": {
    "execution": {
     "iopub.execute_input": "2025-07-30T21:46:34.043498Z",
     "iopub.status.busy": "2025-07-30T21:46:34.042758Z",
     "iopub.status.idle": "2025-07-30T21:46:34.114026Z",
     "shell.execute_reply": "2025-07-30T21:46:34.112457Z"
    },
    "papermill": {
     "duration": 0.106309,
     "end_time": "2025-07-30T21:46:34.116557",
     "exception": false,
     "start_time": "2025-07-30T21:46:34.010248",
     "status": "completed"
    },
    "tags": []
   },
   "outputs": [
    {
     "name": "stdout",
     "output_type": "stream",
     "text": [
      "Dropping features: ['maxdeutsch1', 'maxdeutsch.Missing.', 'frau1']\n"
     ]
    }
   ],
   "source": [
    "if len(excluded_features_columns) > 0:\n",
    "    print(f\"Dropping features: {excluded_features_columns}\")\n",
    "    X_test.drop(excluded_features_columns, axis=1, inplace=True)"
   ]
  },
  {
   "cell_type": "code",
   "execution_count": 34,
   "id": "1853aaf5-fb9f-46cb-a2b5-8ea4ae2237e4",
   "metadata": {
    "execution": {
     "iopub.execute_input": "2025-07-30T21:46:34.175191Z",
     "iopub.status.busy": "2025-07-30T21:46:34.174181Z",
     "iopub.status.idle": "2025-07-30T21:46:34.225396Z",
     "shell.execute_reply": "2025-07-30T21:46:34.224682Z"
    },
    "papermill": {
     "duration": 0.07846,
     "end_time": "2025-07-30T21:46:34.226850",
     "exception": false,
     "start_time": "2025-07-30T21:46:34.148390",
     "status": "completed"
    },
    "tags": []
   },
   "outputs": [
    {
     "name": "stdout",
     "output_type": "stream",
     "text": [
      "Dropping features: ['maxdeutsch1', 'maxdeutsch.Missing.', 'frau1']\n"
     ]
    }
   ],
   "source": [
    "if len(excluded_features_columns) > 0:\n",
    "    print(f\"Dropping features: {excluded_features_columns}\")\n",
    "    X_calib.drop(excluded_features_columns, axis=1, inplace=True)"
   ]
  },
  {
   "cell_type": "code",
   "execution_count": 35,
   "id": "6727d079-03e5-481e-9d38-292a90b7a0a8",
   "metadata": {
    "execution": {
     "iopub.execute_input": "2025-07-30T21:46:34.253002Z",
     "iopub.status.busy": "2025-07-30T21:46:34.252491Z",
     "iopub.status.idle": "2025-07-30T21:46:34.256814Z",
     "shell.execute_reply": "2025-07-30T21:46:34.256010Z"
    },
    "papermill": {
     "duration": 0.018249,
     "end_time": "2025-07-30T21:46:34.258060",
     "exception": false,
     "start_time": "2025-07-30T21:46:34.239811",
     "status": "completed"
    },
    "tags": []
   },
   "outputs": [],
   "source": [
    "# SPLIT & STRATIFY DATA\n",
    "# ----------------------"
   ]
  },
  {
   "cell_type": "code",
   "execution_count": 36,
   "id": "76c4dc6d",
   "metadata": {
    "execution": {
     "iopub.execute_input": "2025-07-30T21:46:34.288476Z",
     "iopub.status.busy": "2025-07-30T21:46:34.288127Z",
     "iopub.status.idle": "2025-07-30T21:46:34.293072Z",
     "shell.execute_reply": "2025-07-30T21:46:34.292269Z"
    },
    "papermill": {
     "duration": 0.019802,
     "end_time": "2025-07-30T21:46:34.294489",
     "exception": false,
     "start_time": "2025-07-30T21:46:34.274687",
     "status": "completed"
    },
    "tags": []
   },
   "outputs": [],
   "source": [
    "# EXCLUDE CERTAIN SUBGROUPS\n",
    "# ----------------------\n",
    "\n",
    "mode = universe.get(\"exclude_subgroups\", \"keep-all\") \n",
    "# Fetches the exclude_subgroups setting from the universe dict.\n",
    "# Defaults to \"keep-all\" if the key is missing."
   ]
  },
  {
   "cell_type": "code",
   "execution_count": 37,
   "id": "21994072",
   "metadata": {
    "execution": {
     "iopub.execute_input": "2025-07-30T21:46:34.321035Z",
     "iopub.status.busy": "2025-07-30T21:46:34.320309Z",
     "iopub.status.idle": "2025-07-30T21:46:34.325945Z",
     "shell.execute_reply": "2025-07-30T21:46:34.325199Z"
    },
    "papermill": {
     "duration": 0.019693,
     "end_time": "2025-07-30T21:46:34.327305",
     "exception": false,
     "start_time": "2025-07-30T21:46:34.307612",
     "status": "completed"
    },
    "tags": []
   },
   "outputs": [],
   "source": [
    "if mode == \"keep-all\":\n",
    "    keep_mask = pd.Series(True, index=org_train.index)\n",
    "\n",
    "# org_train contains the original feature columns from features_org (in Simson)\n",
    "# features_org contains unprocessed features, for me X_train at beginning ???\n",
    "# For keep-all, creates a boolean Series (keep_mask) of all True, so no rows are removed.\n",
    "\n",
    "elif mode == \"drop-non-german\":\n",
    "    keep_mask = org_train[\"maxdeutsch1\"] == 1 # ??? what about missing values?\n",
    "\n",
    "else:\n",
    "    raise ValueError(f\"Unsupported mode for exclude_subgroups: {mode}\")\n"
   ]
  },
  {
   "cell_type": "code",
   "execution_count": 38,
   "id": "71651440",
   "metadata": {
    "execution": {
     "iopub.execute_input": "2025-07-30T21:46:34.358616Z",
     "iopub.status.busy": "2025-07-30T21:46:34.357970Z",
     "iopub.status.idle": "2025-07-30T21:46:34.363539Z",
     "shell.execute_reply": "2025-07-30T21:46:34.362835Z"
    },
    "papermill": {
     "duration": 0.022396,
     "end_time": "2025-07-30T21:46:34.365059",
     "exception": false,
     "start_time": "2025-07-30T21:46:34.342663",
     "status": "completed"
    },
    "tags": []
   },
   "outputs": [],
   "source": [
    "n_drop = (~keep_mask).sum() # Calculates how many rows are set to be dropped\n",
    "if n_drop > 0:\n",
    "    pct = n_drop / len(keep_mask) * 100\n",
    "    print(f\"Dropping {n_drop} rows ({pct:.2f}%) where mode='{mode}'\")"
   ]
  },
  {
   "cell_type": "code",
   "execution_count": 39,
   "id": "5fb8eee5",
   "metadata": {
    "execution": {
     "iopub.execute_input": "2025-07-30T21:46:34.391563Z",
     "iopub.status.busy": "2025-07-30T21:46:34.391057Z",
     "iopub.status.idle": "2025-07-30T21:46:34.397572Z",
     "shell.execute_reply": "2025-07-30T21:46:34.396785Z"
    },
    "papermill": {
     "duration": 0.021161,
     "end_time": "2025-07-30T21:46:34.399193",
     "exception": false,
     "start_time": "2025-07-30T21:46:34.378032",
     "status": "completed"
    },
    "tags": []
   },
   "outputs": [],
   "source": [
    "X_train = X_train[keep_mask]"
   ]
  },
  {
   "cell_type": "code",
   "execution_count": 40,
   "id": "b202bb3a",
   "metadata": {
    "execution": {
     "iopub.execute_input": "2025-07-30T21:46:34.430415Z",
     "iopub.status.busy": "2025-07-30T21:46:34.429907Z",
     "iopub.status.idle": "2025-07-30T21:46:34.435083Z",
     "shell.execute_reply": "2025-07-30T21:46:34.434145Z"
    },
    "papermill": {
     "duration": 0.021058,
     "end_time": "2025-07-30T21:46:34.436600",
     "exception": false,
     "start_time": "2025-07-30T21:46:34.415542",
     "status": "completed"
    },
    "tags": []
   },
   "outputs": [],
   "source": [
    "y_train = y_train[keep_mask]"
   ]
  },
  {
   "cell_type": "markdown",
   "id": "493e2ac3",
   "metadata": {
    "papermill": {
     "duration": 0.012673,
     "end_time": "2025-07-30T21:46:34.463202",
     "exception": false,
     "start_time": "2025-07-30T21:46:34.450529",
     "status": "completed"
    },
    "tags": []
   },
   "source": [
    "# Model Training"
   ]
  },
  {
   "cell_type": "code",
   "execution_count": 41,
   "id": "679e1268",
   "metadata": {
    "execution": {
     "iopub.execute_input": "2025-07-30T21:46:34.489837Z",
     "iopub.status.busy": "2025-07-30T21:46:34.489326Z",
     "iopub.status.idle": "2025-07-30T21:46:34.567466Z",
     "shell.execute_reply": "2025-07-30T21:46:34.566714Z"
    },
    "papermill": {
     "duration": 0.093289,
     "end_time": "2025-07-30T21:46:34.569009",
     "exception": false,
     "start_time": "2025-07-30T21:46:34.475720",
     "status": "completed"
    },
    "tags": []
   },
   "outputs": [],
   "source": [
    "from sklearn.linear_model import LogisticRegression\n",
    "from sklearn.ensemble import GradientBoostingClassifier, RandomForestClassifier\n",
    "\n",
    "if (universe[\"model\"] == \"logreg\"):\n",
    "    model = LogisticRegression() #penalty=\"none\") #, solver=\"newton-cg\", max_iter=1) # include random_state=19 ?\n",
    "elif (universe[\"model\"] == \"penalized_logreg\"):\n",
    "    model = LogisticRegression(penalty=\"l2\", C=1.0) #, solver=\"newton-cg\", max_iter=1)\n",
    "elif (universe[\"model\"] == \"rf\"):\n",
    "    model = RandomForestClassifier(n_estimators=100, n_jobs=-1)\n",
    "elif (universe[\"model\"] == \"gbm\"):\n",
    "    model = GradientBoostingClassifier()\n",
    "elif (universe[\"model\"] == \"elasticnet\"):\n",
    "    model = LogisticRegression(penalty = 'elasticnet', solver = 'saga', l1_ratio = 0.5, max_iter=5000) # which solver to use?\n",
    "else:\n",
    "    raise \"Unsupported universe.model\""
   ]
  },
  {
   "cell_type": "code",
   "execution_count": 42,
   "id": "0cc8f744",
   "metadata": {
    "execution": {
     "iopub.execute_input": "2025-07-30T21:46:34.595843Z",
     "iopub.status.busy": "2025-07-30T21:46:34.595299Z",
     "iopub.status.idle": "2025-07-30T21:46:34.600730Z",
     "shell.execute_reply": "2025-07-30T21:46:34.599808Z"
    },
    "papermill": {
     "duration": 0.020442,
     "end_time": "2025-07-30T21:46:34.602120",
     "exception": false,
     "start_time": "2025-07-30T21:46:34.581678",
     "status": "completed"
    },
    "tags": []
   },
   "outputs": [],
   "source": [
    "import numpy as np\n",
    "from sklearn.pipeline import Pipeline\n",
    "from sklearn.preprocessing import StandardScaler\n",
    "\n",
    "model = Pipeline([\n",
    "    #(\"continuous_processor\", continuous_processor),\n",
    "    #(\"categorical_preprocessor\", categorical_preprocessor),\n",
    "    (\"scale\", StandardScaler() if universe[\"scale\"] == \"scale\" else None), \n",
    "    (\"model\", model),\n",
    "])"
   ]
  },
  {
   "cell_type": "code",
   "execution_count": 43,
   "id": "9442c04d",
   "metadata": {
    "execution": {
     "iopub.execute_input": "2025-07-30T21:46:34.630447Z",
     "iopub.status.busy": "2025-07-30T21:46:34.629902Z",
     "iopub.status.idle": "2025-07-30T21:46:34.963895Z",
     "shell.execute_reply": "2025-07-30T21:46:34.963126Z"
    },
    "papermill": {
     "duration": 0.349734,
     "end_time": "2025-07-30T21:46:34.965857",
     "exception": false,
     "start_time": "2025-07-30T21:46:34.616123",
     "status": "completed"
    },
    "tags": []
   },
   "outputs": [
    {
     "data": {
      "text/html": [
       "<style>#sk-container-id-1 {color: black;background-color: white;}#sk-container-id-1 pre{padding: 0;}#sk-container-id-1 div.sk-toggleable {background-color: white;}#sk-container-id-1 label.sk-toggleable__label {cursor: pointer;display: block;width: 100%;margin-bottom: 0;padding: 0.3em;box-sizing: border-box;text-align: center;}#sk-container-id-1 label.sk-toggleable__label-arrow:before {content: \"▸\";float: left;margin-right: 0.25em;color: #696969;}#sk-container-id-1 label.sk-toggleable__label-arrow:hover:before {color: black;}#sk-container-id-1 div.sk-estimator:hover label.sk-toggleable__label-arrow:before {color: black;}#sk-container-id-1 div.sk-toggleable__content {max-height: 0;max-width: 0;overflow: hidden;text-align: left;background-color: #f0f8ff;}#sk-container-id-1 div.sk-toggleable__content pre {margin: 0.2em;color: black;border-radius: 0.25em;background-color: #f0f8ff;}#sk-container-id-1 input.sk-toggleable__control:checked~div.sk-toggleable__content {max-height: 200px;max-width: 100%;overflow: auto;}#sk-container-id-1 input.sk-toggleable__control:checked~label.sk-toggleable__label-arrow:before {content: \"▾\";}#sk-container-id-1 div.sk-estimator input.sk-toggleable__control:checked~label.sk-toggleable__label {background-color: #d4ebff;}#sk-container-id-1 div.sk-label input.sk-toggleable__control:checked~label.sk-toggleable__label {background-color: #d4ebff;}#sk-container-id-1 input.sk-hidden--visually {border: 0;clip: rect(1px 1px 1px 1px);clip: rect(1px, 1px, 1px, 1px);height: 1px;margin: -1px;overflow: hidden;padding: 0;position: absolute;width: 1px;}#sk-container-id-1 div.sk-estimator {font-family: monospace;background-color: #f0f8ff;border: 1px dotted black;border-radius: 0.25em;box-sizing: border-box;margin-bottom: 0.5em;}#sk-container-id-1 div.sk-estimator:hover {background-color: #d4ebff;}#sk-container-id-1 div.sk-parallel-item::after {content: \"\";width: 100%;border-bottom: 1px solid gray;flex-grow: 1;}#sk-container-id-1 div.sk-label:hover label.sk-toggleable__label {background-color: #d4ebff;}#sk-container-id-1 div.sk-serial::before {content: \"\";position: absolute;border-left: 1px solid gray;box-sizing: border-box;top: 0;bottom: 0;left: 50%;z-index: 0;}#sk-container-id-1 div.sk-serial {display: flex;flex-direction: column;align-items: center;background-color: white;padding-right: 0.2em;padding-left: 0.2em;position: relative;}#sk-container-id-1 div.sk-item {position: relative;z-index: 1;}#sk-container-id-1 div.sk-parallel {display: flex;align-items: stretch;justify-content: center;background-color: white;position: relative;}#sk-container-id-1 div.sk-item::before, #sk-container-id-1 div.sk-parallel-item::before {content: \"\";position: absolute;border-left: 1px solid gray;box-sizing: border-box;top: 0;bottom: 0;left: 50%;z-index: -1;}#sk-container-id-1 div.sk-parallel-item {display: flex;flex-direction: column;z-index: 1;position: relative;background-color: white;}#sk-container-id-1 div.sk-parallel-item:first-child::after {align-self: flex-end;width: 50%;}#sk-container-id-1 div.sk-parallel-item:last-child::after {align-self: flex-start;width: 50%;}#sk-container-id-1 div.sk-parallel-item:only-child::after {width: 0;}#sk-container-id-1 div.sk-dashed-wrapped {border: 1px dashed gray;margin: 0 0.4em 0.5em 0.4em;box-sizing: border-box;padding-bottom: 0.4em;background-color: white;}#sk-container-id-1 div.sk-label label {font-family: monospace;font-weight: bold;display: inline-block;line-height: 1.2em;}#sk-container-id-1 div.sk-label-container {text-align: center;}#sk-container-id-1 div.sk-container {/* jupyter's `normalize.less` sets `[hidden] { display: none; }` but bootstrap.min.css set `[hidden] { display: none !important; }` so we also need the `!important` here to be able to override the default hidden behavior on the sphinx rendered scikit-learn.org. See: https://github.com/scikit-learn/scikit-learn/issues/21755 */display: inline-block !important;position: relative;}#sk-container-id-1 div.sk-text-repr-fallback {display: none;}</style><div id=\"sk-container-id-1\" class=\"sk-top-container\"><div class=\"sk-text-repr-fallback\"><pre>Pipeline(steps=[(&#x27;scale&#x27;, StandardScaler()),\n",
       "                (&#x27;model&#x27;, RandomForestClassifier(n_jobs=-1))])</pre><b>In a Jupyter environment, please rerun this cell to show the HTML representation or trust the notebook. <br />On GitHub, the HTML representation is unable to render, please try loading this page with nbviewer.org.</b></div><div class=\"sk-container\" hidden><div class=\"sk-item sk-dashed-wrapped\"><div class=\"sk-label-container\"><div class=\"sk-label sk-toggleable\"><input class=\"sk-toggleable__control sk-hidden--visually\" id=\"sk-estimator-id-1\" type=\"checkbox\" ><label for=\"sk-estimator-id-1\" class=\"sk-toggleable__label sk-toggleable__label-arrow\">Pipeline</label><div class=\"sk-toggleable__content\"><pre>Pipeline(steps=[(&#x27;scale&#x27;, StandardScaler()),\n",
       "                (&#x27;model&#x27;, RandomForestClassifier(n_jobs=-1))])</pre></div></div></div><div class=\"sk-serial\"><div class=\"sk-item\"><div class=\"sk-estimator sk-toggleable\"><input class=\"sk-toggleable__control sk-hidden--visually\" id=\"sk-estimator-id-2\" type=\"checkbox\" ><label for=\"sk-estimator-id-2\" class=\"sk-toggleable__label sk-toggleable__label-arrow\">StandardScaler</label><div class=\"sk-toggleable__content\"><pre>StandardScaler()</pre></div></div></div><div class=\"sk-item\"><div class=\"sk-estimator sk-toggleable\"><input class=\"sk-toggleable__control sk-hidden--visually\" id=\"sk-estimator-id-3\" type=\"checkbox\" ><label for=\"sk-estimator-id-3\" class=\"sk-toggleable__label sk-toggleable__label-arrow\">RandomForestClassifier</label><div class=\"sk-toggleable__content\"><pre>RandomForestClassifier(n_jobs=-1)</pre></div></div></div></div></div></div></div>"
      ],
      "text/plain": [
       "Pipeline(steps=[('scale', StandardScaler()),\n",
       "                ('model', RandomForestClassifier(n_jobs=-1))])"
      ]
     },
     "execution_count": 43,
     "metadata": {},
     "output_type": "execute_result"
    }
   ],
   "source": [
    "model.fit(X_train, y_train.values.ravel())"
   ]
  },
  {
   "cell_type": "code",
   "execution_count": 44,
   "id": "af59f8c0",
   "metadata": {
    "execution": {
     "iopub.execute_input": "2025-07-30T21:46:35.015365Z",
     "iopub.status.busy": "2025-07-30T21:46:35.014314Z",
     "iopub.status.idle": "2025-07-30T21:46:35.020902Z",
     "shell.execute_reply": "2025-07-30T21:46:35.019311Z"
    },
    "papermill": {
     "duration": 0.035524,
     "end_time": "2025-07-30T21:46:35.023015",
     "exception": false,
     "start_time": "2025-07-30T21:46:34.987491",
     "status": "completed"
    },
    "tags": []
   },
   "outputs": [],
   "source": [
    "from fairness_multiverse.universe import predict_w_threshold"
   ]
  },
  {
   "cell_type": "code",
   "execution_count": 45,
   "id": "a7cf2e16",
   "metadata": {
    "execution": {
     "iopub.execute_input": "2025-07-30T21:46:35.076405Z",
     "iopub.status.busy": "2025-07-30T21:46:35.075835Z",
     "iopub.status.idle": "2025-07-30T21:46:36.062280Z",
     "shell.execute_reply": "2025-07-30T21:46:36.061587Z"
    },
    "papermill": {
     "duration": 1.013615,
     "end_time": "2025-07-30T21:46:36.063536",
     "exception": false,
     "start_time": "2025-07-30T21:46:35.049921",
     "status": "completed"
    },
    "tags": []
   },
   "outputs": [
    {
     "data": {
      "text/plain": [
       "0.8616430721212797"
      ]
     },
     "execution_count": 45,
     "metadata": {},
     "output_type": "execute_result"
    }
   ],
   "source": [
    "probs_test = model.predict_proba(X_test)\n",
    "\n",
    "'''\n",
    "Below code returns a boolean array (or binary 0/1 array depending on how it’s used) where each element \n",
    "is True if the probability of class 1 is greater than or equal to the threshold, and False otherwise.\n",
    "'''\n",
    "y_pred_default = predict_w_threshold(probs_test, 0.5)\n",
    "\n",
    "from sklearn.metrics import accuracy_score\n",
    "\n",
    "# Naive prediction\n",
    "accuracy_score(y_true = y_true, y_pred = y_pred_default)"
   ]
  },
  {
   "cell_type": "code",
   "execution_count": 46,
   "id": "081964c3",
   "metadata": {
    "execution": {
     "iopub.execute_input": "2025-07-30T21:46:36.107752Z",
     "iopub.status.busy": "2025-07-30T21:46:36.107281Z",
     "iopub.status.idle": "2025-07-30T21:46:36.985501Z",
     "shell.execute_reply": "2025-07-30T21:46:36.984381Z"
    },
    "papermill": {
     "duration": 0.910574,
     "end_time": "2025-07-30T21:46:36.987079",
     "exception": false,
     "start_time": "2025-07-30T21:46:36.076505",
     "status": "completed"
    },
    "tags": []
   },
   "outputs": [
    {
     "data": {
      "text/plain": [
       "array([0, 0, 0, ..., 0, 0, 0])"
      ]
     },
     "execution_count": 46,
     "metadata": {},
     "output_type": "execute_result"
    }
   ],
   "source": [
    "model.predict(X_test)"
   ]
  },
  {
   "cell_type": "markdown",
   "id": "56c9705b",
   "metadata": {
    "papermill": {
     "duration": 0.022298,
     "end_time": "2025-07-30T21:46:37.036422",
     "exception": false,
     "start_time": "2025-07-30T21:46:37.014124",
     "status": "completed"
    },
    "tags": []
   },
   "source": [
    "# Conformal Prediction"
   ]
  },
  {
   "cell_type": "code",
   "execution_count": 47,
   "id": "160ec6ff",
   "metadata": {
    "execution": {
     "iopub.execute_input": "2025-07-30T21:46:37.078173Z",
     "iopub.status.busy": "2025-07-30T21:46:37.077834Z",
     "iopub.status.idle": "2025-07-30T21:46:37.082409Z",
     "shell.execute_reply": "2025-07-30T21:46:37.081417Z"
    },
    "papermill": {
     "duration": 0.029293,
     "end_time": "2025-07-30T21:46:37.084103",
     "exception": false,
     "start_time": "2025-07-30T21:46:37.054810",
     "status": "completed"
    },
    "tags": []
   },
   "outputs": [],
   "source": [
    "# Miscoverage level for conformal prediction (10% allowed error rate => 90% target coverage)\n",
    "alpha = 0.1"
   ]
  },
  {
   "cell_type": "code",
   "execution_count": 48,
   "id": "eadf4555-3dd3-440e-8e35-f82a4ad9f855",
   "metadata": {
    "execution": {
     "iopub.execute_input": "2025-07-30T21:46:37.126572Z",
     "iopub.status.busy": "2025-07-30T21:46:37.126104Z",
     "iopub.status.idle": "2025-07-30T21:46:37.908381Z",
     "shell.execute_reply": "2025-07-30T21:46:37.907221Z"
    },
    "papermill": {
     "duration": 0.803146,
     "end_time": "2025-07-30T21:46:37.910264",
     "exception": false,
     "start_time": "2025-07-30T21:46:37.107118",
     "status": "completed"
    },
    "tags": []
   },
   "outputs": [],
   "source": [
    "probs_calib = model.predict_proba(X_calib)"
   ]
  },
  {
   "cell_type": "code",
   "execution_count": 49,
   "id": "2ed93547-6d5d-4983-9b36-1ecb300da49a",
   "metadata": {
    "execution": {
     "iopub.execute_input": "2025-07-30T21:46:37.997214Z",
     "iopub.status.busy": "2025-07-30T21:46:37.996455Z",
     "iopub.status.idle": "2025-07-30T21:46:38.002836Z",
     "shell.execute_reply": "2025-07-30T21:46:38.001720Z"
    },
    "papermill": {
     "duration": 0.039213,
     "end_time": "2025-07-30T21:46:38.005637",
     "exception": false,
     "start_time": "2025-07-30T21:46:37.966424",
     "status": "completed"
    },
    "tags": []
   },
   "outputs": [],
   "source": [
    "y_calib = y_calib.values.ravel().astype(int)"
   ]
  },
  {
   "cell_type": "code",
   "execution_count": 50,
   "id": "65d1320d-f588-4b38-9072-62af1ae97f7d",
   "metadata": {
    "execution": {
     "iopub.execute_input": "2025-07-30T21:46:38.059713Z",
     "iopub.status.busy": "2025-07-30T21:46:38.059310Z",
     "iopub.status.idle": "2025-07-30T21:46:38.066938Z",
     "shell.execute_reply": "2025-07-30T21:46:38.065683Z"
    },
    "papermill": {
     "duration": 0.037919,
     "end_time": "2025-07-30T21:46:38.069905",
     "exception": false,
     "start_time": "2025-07-30T21:46:38.031986",
     "status": "completed"
    },
    "tags": []
   },
   "outputs": [],
   "source": [
    "from fairness_multiverse.conformal import compute_nc_scores\n",
    "\n",
    "# Compute nonconformity scores on calibration set (1 - probability of true class)\n",
    "nc_scores = compute_nc_scores(probs_calib, y_calib)"
   ]
  },
  {
   "cell_type": "code",
   "execution_count": 51,
   "id": "df3b8ca3-53b7-43d5-9667-7c85da7aeda2",
   "metadata": {
    "execution": {
     "iopub.execute_input": "2025-07-30T21:46:38.124430Z",
     "iopub.status.busy": "2025-07-30T21:46:38.123979Z",
     "iopub.status.idle": "2025-07-30T21:46:38.131336Z",
     "shell.execute_reply": "2025-07-30T21:46:38.130154Z"
    },
    "papermill": {
     "duration": 0.038082,
     "end_time": "2025-07-30T21:46:38.134227",
     "exception": false,
     "start_time": "2025-07-30T21:46:38.096145",
     "status": "completed"
    },
    "tags": []
   },
   "outputs": [],
   "source": [
    "from fairness_multiverse.conformal import find_threshold\n",
    "\n",
    "# Find conformal threshold q_hat for the given alpha (split conformal method)\n",
    "q_hat = find_threshold(nc_scores, alpha)"
   ]
  },
  {
   "cell_type": "code",
   "execution_count": 52,
   "id": "4d29e6c1-0ef6-4aa4-b8fe-4fe79b0d033a",
   "metadata": {
    "execution": {
     "iopub.execute_input": "2025-07-30T21:46:38.234611Z",
     "iopub.status.busy": "2025-07-30T21:46:38.234229Z",
     "iopub.status.idle": "2025-07-30T21:46:38.244548Z",
     "shell.execute_reply": "2025-07-30T21:46:38.243488Z"
    },
    "papermill": {
     "duration": 0.072875,
     "end_time": "2025-07-30T21:46:38.246602",
     "exception": false,
     "start_time": "2025-07-30T21:46:38.173727",
     "status": "completed"
    },
    "tags": []
   },
   "outputs": [
    {
     "data": {
      "text/plain": [
       "0.65"
      ]
     },
     "execution_count": 52,
     "metadata": {},
     "output_type": "execute_result"
    }
   ],
   "source": [
    "q_hat"
   ]
  },
  {
   "cell_type": "code",
   "execution_count": 53,
   "id": "92460794-cdac-4be2-ba28-f28c0515a6fb",
   "metadata": {
    "execution": {
     "iopub.execute_input": "2025-07-30T21:46:38.342100Z",
     "iopub.status.busy": "2025-07-30T21:46:38.341674Z",
     "iopub.status.idle": "2025-07-30T21:46:40.216754Z",
     "shell.execute_reply": "2025-07-30T21:46:40.215652Z"
    },
    "papermill": {
     "duration": 1.910591,
     "end_time": "2025-07-30T21:46:40.218795",
     "exception": false,
     "start_time": "2025-07-30T21:46:38.308204",
     "status": "completed"
    },
    "tags": []
   },
   "outputs": [],
   "source": [
    "from fairness_multiverse.conformal import predict_conformal_sets\n",
    "\n",
    "# Generate prediction sets for each test example\n",
    "pred_sets = predict_conformal_sets(model, X_test, q_hat)"
   ]
  },
  {
   "cell_type": "code",
   "execution_count": 54,
   "id": "d90c9a65-e6db-4f5d-80cd-e68fb7e46829",
   "metadata": {
    "execution": {
     "iopub.execute_input": "2025-07-30T21:46:40.315499Z",
     "iopub.status.busy": "2025-07-30T21:46:40.315109Z",
     "iopub.status.idle": "2025-07-30T21:46:40.320968Z",
     "shell.execute_reply": "2025-07-30T21:46:40.319905Z"
    },
    "papermill": {
     "duration": 0.038882,
     "end_time": "2025-07-30T21:46:40.327052",
     "exception": false,
     "start_time": "2025-07-30T21:46:40.288170",
     "status": "completed"
    },
    "tags": []
   },
   "outputs": [],
   "source": [
    "y_true = y_true.squeeze()"
   ]
  },
  {
   "cell_type": "code",
   "execution_count": 55,
   "id": "3a58a54a-1e68-46b9-927a-df01f18aebc8",
   "metadata": {
    "execution": {
     "iopub.execute_input": "2025-07-30T21:46:40.380824Z",
     "iopub.status.busy": "2025-07-30T21:46:40.380411Z",
     "iopub.status.idle": "2025-07-30T21:46:41.392216Z",
     "shell.execute_reply": "2025-07-30T21:46:41.391067Z"
    },
    "papermill": {
     "duration": 1.039479,
     "end_time": "2025-07-30T21:46:41.394357",
     "exception": false,
     "start_time": "2025-07-30T21:46:40.354878",
     "status": "completed"
    },
    "tags": []
   },
   "outputs": [],
   "source": [
    "from fairness_multiverse.conformal import evaluate_sets\n",
    "\n",
    "# Evaluate coverage and average set size on test data\n",
    "metrics = evaluate_sets(pred_sets, y_true)"
   ]
  },
  {
   "cell_type": "markdown",
   "id": "2b569c12-9aaa-4c88-98c9-bbcd0cf3ebb8",
   "metadata": {
    "papermill": {
     "duration": 0.018766,
     "end_time": "2025-07-30T21:46:41.432166",
     "exception": false,
     "start_time": "2025-07-30T21:46:41.413400",
     "status": "completed"
    },
    "tags": []
   },
   "source": [
    "# CP Metrics"
   ]
  },
  {
   "cell_type": "code",
   "execution_count": 56,
   "id": "5ce0a5cb-201f-45a0-ade5-94c7f0bd6095",
   "metadata": {
    "execution": {
     "iopub.execute_input": "2025-07-30T21:46:41.462202Z",
     "iopub.status.busy": "2025-07-30T21:46:41.460996Z",
     "iopub.status.idle": "2025-07-30T21:46:41.471222Z",
     "shell.execute_reply": "2025-07-30T21:46:41.469824Z"
    },
    "papermill": {
     "duration": 0.027762,
     "end_time": "2025-07-30T21:46:41.473769",
     "exception": false,
     "start_time": "2025-07-30T21:46:41.446007",
     "status": "completed"
    },
    "tags": []
   },
   "outputs": [
    {
     "data": {
      "text/plain": [
       "{'coverage': 0.9142904915839929, 'avg_size': 1.1545647085051833}"
      ]
     },
     "execution_count": 56,
     "metadata": {},
     "output_type": "execute_result"
    }
   ],
   "source": [
    "metrics"
   ]
  },
  {
   "cell_type": "code",
   "execution_count": 57,
   "id": "9b9a838d-31c9-430b-ae14-12baee460d17",
   "metadata": {
    "execution": {
     "iopub.execute_input": "2025-07-30T21:46:41.526481Z",
     "iopub.status.busy": "2025-07-30T21:46:41.525929Z",
     "iopub.status.idle": "2025-07-30T21:46:41.532775Z",
     "shell.execute_reply": "2025-07-30T21:46:41.531659Z"
    },
    "papermill": {
     "duration": 0.036395,
     "end_time": "2025-07-30T21:46:41.534650",
     "exception": false,
     "start_time": "2025-07-30T21:46:41.498255",
     "status": "completed"
    },
    "tags": []
   },
   "outputs": [],
   "source": [
    "example_universe = universe.copy()\n",
    "universe_training_year = example_universe.get(\"training_year\")\n",
    "universe_training_size = example_universe.get(\"training_size\")\n",
    "universe_scale = example_universe.get(\"scale\")\n",
    "universe_model = example_universe.get(\"model\")\n",
    "universe_exclude_features = example_universe.get(\"exclude_features\")\n",
    "universe_exclude_subgroups = example_universe.get(\"exclude_subgroups\")"
   ]
  },
  {
   "cell_type": "code",
   "execution_count": 58,
   "id": "f4b6a8ac-9dc0-4245-8a91-5b3b5999c4f9",
   "metadata": {
    "execution": {
     "iopub.execute_input": "2025-07-30T21:46:41.591152Z",
     "iopub.status.busy": "2025-07-30T21:46:41.590683Z",
     "iopub.status.idle": "2025-07-30T21:46:41.603618Z",
     "shell.execute_reply": "2025-07-30T21:46:41.601930Z"
    },
    "papermill": {
     "duration": 0.043748,
     "end_time": "2025-07-30T21:46:41.606037",
     "exception": false,
     "start_time": "2025-07-30T21:46:41.562289",
     "status": "completed"
    },
    "tags": []
   },
   "outputs": [],
   "source": [
    "cp_metrics_dict = {\n",
    "    \"universe_id\": [universe_id],\n",
    "    \"universe_training_year\": [universe_training_year],\n",
    "    \"universe_training_size\": [universe_training_size],\n",
    "    \"universe_scale\": [universe_scale],\n",
    "    \"universe_model\": [universe_model],\n",
    "    \"universe_exclude_features\": [universe_exclude_features],\n",
    "    \"universe_exclude_subgroups\": [universe_exclude_subgroups],\n",
    "    \"q_hat\": [q_hat],\n",
    "    \"coverage\": [metrics[\"coverage\"]],\n",
    "    \"avg_size\": [metrics[\"avg_size\"]],\n",
    "}"
   ]
  },
  {
   "cell_type": "code",
   "execution_count": 59,
   "id": "908acbb1-0371-4915-85ca-3fa520d2efe2",
   "metadata": {
    "execution": {
     "iopub.execute_input": "2025-07-30T21:46:41.675190Z",
     "iopub.status.busy": "2025-07-30T21:46:41.674722Z",
     "iopub.status.idle": "2025-07-30T21:46:41.683050Z",
     "shell.execute_reply": "2025-07-30T21:46:41.682050Z"
    },
    "papermill": {
     "duration": 0.039032,
     "end_time": "2025-07-30T21:46:41.687398",
     "exception": false,
     "start_time": "2025-07-30T21:46:41.648366",
     "status": "completed"
    },
    "tags": []
   },
   "outputs": [
    {
     "data": {
      "text/plain": [
       "{'universe_id': ['ee77a537ec4d54c5bd45079747630545'],\n",
       " 'universe_training_year': ['2010_14'],\n",
       " 'universe_training_size': ['1k'],\n",
       " 'universe_scale': ['scale'],\n",
       " 'universe_model': ['rf'],\n",
       " 'universe_exclude_features': ['nationality-sex'],\n",
       " 'universe_exclude_subgroups': ['keep-all'],\n",
       " 'q_hat': [0.65],\n",
       " 'coverage': [0.9142904915839929],\n",
       " 'avg_size': [1.1545647085051833]}"
      ]
     },
     "execution_count": 59,
     "metadata": {},
     "output_type": "execute_result"
    }
   ],
   "source": [
    "cp_metrics_dict"
   ]
  },
  {
   "cell_type": "code",
   "execution_count": 60,
   "id": "33007efc-14e9-4ec6-97ac-56a455c82265",
   "metadata": {
    "execution": {
     "iopub.execute_input": "2025-07-30T21:46:41.779607Z",
     "iopub.status.busy": "2025-07-30T21:46:41.779212Z",
     "iopub.status.idle": "2025-07-30T21:46:41.787353Z",
     "shell.execute_reply": "2025-07-30T21:46:41.785729Z"
    },
    "papermill": {
     "duration": 0.045649,
     "end_time": "2025-07-30T21:46:41.789942",
     "exception": false,
     "start_time": "2025-07-30T21:46:41.744293",
     "status": "completed"
    },
    "tags": []
   },
   "outputs": [],
   "source": [
    "cp_metrics_df = pd.DataFrame(cp_metrics_dict)"
   ]
  },
  {
   "cell_type": "code",
   "execution_count": 61,
   "id": "db12611b-57b2-4910-b9d0-355adfd6e7bf",
   "metadata": {
    "execution": {
     "iopub.execute_input": "2025-07-30T21:46:41.866376Z",
     "iopub.status.busy": "2025-07-30T21:46:41.865832Z",
     "iopub.status.idle": "2025-07-30T21:46:41.902150Z",
     "shell.execute_reply": "2025-07-30T21:46:41.901207Z"
    },
    "papermill": {
     "duration": 0.063731,
     "end_time": "2025-07-30T21:46:41.904245",
     "exception": false,
     "start_time": "2025-07-30T21:46:41.840514",
     "status": "completed"
    },
    "tags": []
   },
   "outputs": [
    {
     "data": {
      "text/html": [
       "<div>\n",
       "<style scoped>\n",
       "    .dataframe tbody tr th:only-of-type {\n",
       "        vertical-align: middle;\n",
       "    }\n",
       "\n",
       "    .dataframe tbody tr th {\n",
       "        vertical-align: top;\n",
       "    }\n",
       "\n",
       "    .dataframe thead th {\n",
       "        text-align: right;\n",
       "    }\n",
       "</style>\n",
       "<table border=\"1\" class=\"dataframe\">\n",
       "  <thead>\n",
       "    <tr style=\"text-align: right;\">\n",
       "      <th></th>\n",
       "      <th>universe_id</th>\n",
       "      <th>universe_training_year</th>\n",
       "      <th>universe_training_size</th>\n",
       "      <th>universe_scale</th>\n",
       "      <th>universe_model</th>\n",
       "      <th>universe_exclude_features</th>\n",
       "      <th>universe_exclude_subgroups</th>\n",
       "      <th>q_hat</th>\n",
       "      <th>coverage</th>\n",
       "      <th>avg_size</th>\n",
       "    </tr>\n",
       "  </thead>\n",
       "  <tbody>\n",
       "    <tr>\n",
       "      <th>0</th>\n",
       "      <td>ee77a537ec4d54c5bd45079747630545</td>\n",
       "      <td>2010_14</td>\n",
       "      <td>1k</td>\n",
       "      <td>scale</td>\n",
       "      <td>rf</td>\n",
       "      <td>nationality-sex</td>\n",
       "      <td>keep-all</td>\n",
       "      <td>0.65</td>\n",
       "      <td>0.91429</td>\n",
       "      <td>1.154565</td>\n",
       "    </tr>\n",
       "  </tbody>\n",
       "</table>\n",
       "</div>"
      ],
      "text/plain": [
       "                        universe_id universe_training_year  \\\n",
       "0  ee77a537ec4d54c5bd45079747630545                2010_14   \n",
       "\n",
       "  universe_training_size universe_scale universe_model  \\\n",
       "0                     1k          scale             rf   \n",
       "\n",
       "  universe_exclude_features universe_exclude_subgroups  q_hat  coverage  \\\n",
       "0           nationality-sex                   keep-all   0.65   0.91429   \n",
       "\n",
       "   avg_size  \n",
       "0  1.154565  "
      ]
     },
     "execution_count": 61,
     "metadata": {},
     "output_type": "execute_result"
    }
   ],
   "source": [
    "cp_metrics_df"
   ]
  },
  {
   "cell_type": "code",
   "execution_count": 62,
   "id": "b7fbde55-a0a1-47e4-9af6-fe4a17fa8c61",
   "metadata": {
    "execution": {
     "iopub.execute_input": "2025-07-30T21:46:41.977424Z",
     "iopub.status.busy": "2025-07-30T21:46:41.976123Z",
     "iopub.status.idle": "2025-07-30T21:46:41.982755Z",
     "shell.execute_reply": "2025-07-30T21:46:41.981680Z"
    },
    "papermill": {
     "duration": 0.05267,
     "end_time": "2025-07-30T21:46:41.984824",
     "exception": false,
     "start_time": "2025-07-30T21:46:41.932154",
     "status": "completed"
    },
    "tags": []
   },
   "outputs": [],
   "source": [
    "# Conditional Coverage & looking at subgroups"
   ]
  },
  {
   "cell_type": "code",
   "execution_count": 63,
   "id": "027ae886-68dd-4141-96c7-805a5450e1ef",
   "metadata": {
    "execution": {
     "iopub.execute_input": "2025-07-30T21:46:42.030304Z",
     "iopub.status.busy": "2025-07-30T21:46:42.029817Z",
     "iopub.status.idle": "2025-07-30T21:46:42.346903Z",
     "shell.execute_reply": "2025-07-30T21:46:42.345993Z"
    },
    "papermill": {
     "duration": 0.339677,
     "end_time": "2025-07-30T21:46:42.348690",
     "exception": false,
     "start_time": "2025-07-30T21:46:42.009013",
     "status": "completed"
    },
    "tags": []
   },
   "outputs": [],
   "source": [
    "from fairness_multiverse.conformal import build_cp_groups\n",
    "\n",
    "cp_groups_df = build_cp_groups(pred_sets, y_true, X_test.index, org_test)\n",
    "#needs universe_id and setting"
   ]
  },
  {
   "cell_type": "code",
   "execution_count": 64,
   "id": "01d5802c-663a-4d1f-9d69-e036faaffbf7",
   "metadata": {
    "execution": {
     "iopub.execute_input": "2025-07-30T21:46:42.405852Z",
     "iopub.status.busy": "2025-07-30T21:46:42.405073Z",
     "iopub.status.idle": "2025-07-30T21:46:42.409606Z",
     "shell.execute_reply": "2025-07-30T21:46:42.408491Z"
    },
    "papermill": {
     "duration": 0.035086,
     "end_time": "2025-07-30T21:46:42.412287",
     "exception": false,
     "start_time": "2025-07-30T21:46:42.377201",
     "status": "completed"
    },
    "tags": []
   },
   "outputs": [],
   "source": [
    "#delete\n",
    "#cp_groups_df"
   ]
  },
  {
   "cell_type": "code",
   "execution_count": 65,
   "id": "fa424af1-d1eb-443d-b717-2d279ada8408",
   "metadata": {
    "execution": {
     "iopub.execute_input": "2025-07-30T21:46:42.489590Z",
     "iopub.status.busy": "2025-07-30T21:46:42.489187Z",
     "iopub.status.idle": "2025-07-30T21:46:42.494447Z",
     "shell.execute_reply": "2025-07-30T21:46:42.493409Z"
    },
    "papermill": {
     "duration": 0.056357,
     "end_time": "2025-07-30T21:46:42.498607",
     "exception": false,
     "start_time": "2025-07-30T21:46:42.442250",
     "status": "completed"
    },
    "tags": []
   },
   "outputs": [],
   "source": [
    "#delete\n",
    "#percentage = (cp_groups_df['nongerman_female'] == 1).mean() * 100\n",
    "#print(percentage)\n"
   ]
  },
  {
   "cell_type": "code",
   "execution_count": 66,
   "id": "6cbdab96-b2b2-45af-ad54-d0516db2e28d",
   "metadata": {
    "execution": {
     "iopub.execute_input": "2025-07-30T21:46:42.566124Z",
     "iopub.status.busy": "2025-07-30T21:46:42.565591Z",
     "iopub.status.idle": "2025-07-30T21:46:44.312520Z",
     "shell.execute_reply": "2025-07-30T21:46:44.311459Z"
    },
    "papermill": {
     "duration": 1.784413,
     "end_time": "2025-07-30T21:46:44.314317",
     "exception": false,
     "start_time": "2025-07-30T21:46:42.529904",
     "status": "completed"
    },
    "tags": []
   },
   "outputs": [],
   "source": [
    "# Define covered = 1 if true_label is in the predicted set\n",
    "cp_groups_df['covered'] = cp_groups_df.apply(\n",
    "    lambda r: int(r['true_label'] in r['pred_set']),\n",
    "    axis=1\n",
    ")"
   ]
  },
  {
   "cell_type": "code",
   "execution_count": 67,
   "id": "338ff529-1a6b-4b87-a931-8e4788d52aad",
   "metadata": {
    "execution": {
     "iopub.execute_input": "2025-07-30T21:46:44.420583Z",
     "iopub.status.busy": "2025-07-30T21:46:44.420006Z",
     "iopub.status.idle": "2025-07-30T21:46:44.425296Z",
     "shell.execute_reply": "2025-07-30T21:46:44.424395Z"
    },
    "papermill": {
     "duration": 0.066304,
     "end_time": "2025-07-30T21:46:44.427055",
     "exception": false,
     "start_time": "2025-07-30T21:46:44.360751",
     "status": "completed"
    },
    "tags": []
   },
   "outputs": [],
   "source": [
    "#cp_groups_df"
   ]
  },
  {
   "cell_type": "code",
   "execution_count": 68,
   "id": "90032e27-66df-4540-9169-4e89cfbaa758",
   "metadata": {
    "execution": {
     "iopub.execute_input": "2025-07-30T21:46:44.550084Z",
     "iopub.status.busy": "2025-07-30T21:46:44.549657Z",
     "iopub.status.idle": "2025-07-30T21:46:44.567367Z",
     "shell.execute_reply": "2025-07-30T21:46:44.566382Z"
    },
    "papermill": {
     "duration": 0.084859,
     "end_time": "2025-07-30T21:46:44.569669",
     "exception": false,
     "start_time": "2025-07-30T21:46:44.484810",
     "status": "completed"
    },
    "tags": []
   },
   "outputs": [],
   "source": [
    "subgroups = ['frau1','nongerman','nongerman_male','nongerman_female']\n",
    "\n",
    "# Conditional coverage for subgroup==1\n",
    "cond_coverage = {\n",
    "    g: cp_groups_df.loc[cp_groups_df[g]==1, 'covered'].mean()\n",
    "    for g in subgroups\n",
    "}"
   ]
  },
  {
   "cell_type": "code",
   "execution_count": 69,
   "id": "1e348fb1-b9c3-45bc-ba23-f016827a7e0d",
   "metadata": {
    "execution": {
     "iopub.execute_input": "2025-07-30T21:46:44.687511Z",
     "iopub.status.busy": "2025-07-30T21:46:44.687052Z",
     "iopub.status.idle": "2025-07-30T21:46:44.834554Z",
     "shell.execute_reply": "2025-07-30T21:46:44.833745Z"
    },
    "papermill": {
     "duration": 0.21497,
     "end_time": "2025-07-30T21:46:44.835923",
     "exception": false,
     "start_time": "2025-07-30T21:46:44.620953",
     "status": "completed"
    },
    "tags": []
   },
   "outputs": [
    {
     "data": {
      "text/plain": [
       "{'frau1': 0.9131419328750505,\n",
       " 'nongerman': 0.9078762701397856,\n",
       " 'nongerman_male': 0.924705034675313,\n",
       " 'nongerman_female': 0.8800298062593145}"
      ]
     },
     "execution_count": 69,
     "metadata": {},
     "output_type": "execute_result"
    }
   ],
   "source": [
    "cond_coverage"
   ]
  },
  {
   "cell_type": "code",
   "execution_count": 70,
   "id": "f5093324-c3dd-4d63-bc4c-8d945e5c8bbb",
   "metadata": {
    "execution": {
     "iopub.execute_input": "2025-07-30T21:46:44.872217Z",
     "iopub.status.busy": "2025-07-30T21:46:44.871748Z",
     "iopub.status.idle": "2025-07-30T21:46:44.878572Z",
     "shell.execute_reply": "2025-07-30T21:46:44.877534Z"
    },
    "papermill": {
     "duration": 0.028699,
     "end_time": "2025-07-30T21:46:44.880061",
     "exception": false,
     "start_time": "2025-07-30T21:46:44.851362",
     "status": "completed"
    },
    "tags": []
   },
   "outputs": [],
   "source": [
    "for subgroup, cov in cond_coverage.items():\n",
    "    cp_metrics_df[f\"cov_{subgroup}\"] = cov"
   ]
  },
  {
   "cell_type": "code",
   "execution_count": 71,
   "id": "6e872e10-dbe5-49e8-b554-5030c98ff75d",
   "metadata": {
    "execution": {
     "iopub.execute_input": "2025-07-30T21:46:44.912130Z",
     "iopub.status.busy": "2025-07-30T21:46:44.911522Z",
     "iopub.status.idle": "2025-07-30T21:46:44.934745Z",
     "shell.execute_reply": "2025-07-30T21:46:44.933936Z"
    },
    "papermill": {
     "duration": 0.040873,
     "end_time": "2025-07-30T21:46:44.935992",
     "exception": false,
     "start_time": "2025-07-30T21:46:44.895119",
     "status": "completed"
    },
    "tags": []
   },
   "outputs": [
    {
     "data": {
      "text/html": [
       "<div>\n",
       "<style scoped>\n",
       "    .dataframe tbody tr th:only-of-type {\n",
       "        vertical-align: middle;\n",
       "    }\n",
       "\n",
       "    .dataframe tbody tr th {\n",
       "        vertical-align: top;\n",
       "    }\n",
       "\n",
       "    .dataframe thead th {\n",
       "        text-align: right;\n",
       "    }\n",
       "</style>\n",
       "<table border=\"1\" class=\"dataframe\">\n",
       "  <thead>\n",
       "    <tr style=\"text-align: right;\">\n",
       "      <th></th>\n",
       "      <th>universe_id</th>\n",
       "      <th>universe_training_year</th>\n",
       "      <th>universe_training_size</th>\n",
       "      <th>universe_scale</th>\n",
       "      <th>universe_model</th>\n",
       "      <th>universe_exclude_features</th>\n",
       "      <th>universe_exclude_subgroups</th>\n",
       "      <th>q_hat</th>\n",
       "      <th>coverage</th>\n",
       "      <th>avg_size</th>\n",
       "      <th>cov_frau1</th>\n",
       "      <th>cov_nongerman</th>\n",
       "      <th>cov_nongerman_male</th>\n",
       "      <th>cov_nongerman_female</th>\n",
       "    </tr>\n",
       "  </thead>\n",
       "  <tbody>\n",
       "    <tr>\n",
       "      <th>0</th>\n",
       "      <td>ee77a537ec4d54c5bd45079747630545</td>\n",
       "      <td>2010_14</td>\n",
       "      <td>1k</td>\n",
       "      <td>scale</td>\n",
       "      <td>rf</td>\n",
       "      <td>nationality-sex</td>\n",
       "      <td>keep-all</td>\n",
       "      <td>0.65</td>\n",
       "      <td>0.91429</td>\n",
       "      <td>1.154565</td>\n",
       "      <td>0.913142</td>\n",
       "      <td>0.907876</td>\n",
       "      <td>0.924705</td>\n",
       "      <td>0.88003</td>\n",
       "    </tr>\n",
       "  </tbody>\n",
       "</table>\n",
       "</div>"
      ],
      "text/plain": [
       "                        universe_id universe_training_year  \\\n",
       "0  ee77a537ec4d54c5bd45079747630545                2010_14   \n",
       "\n",
       "  universe_training_size universe_scale universe_model  \\\n",
       "0                     1k          scale             rf   \n",
       "\n",
       "  universe_exclude_features universe_exclude_subgroups  q_hat  coverage  \\\n",
       "0           nationality-sex                   keep-all   0.65   0.91429   \n",
       "\n",
       "   avg_size  cov_frau1  cov_nongerman  cov_nongerman_male  \\\n",
       "0  1.154565   0.913142       0.907876            0.924705   \n",
       "\n",
       "   cov_nongerman_female  \n",
       "0               0.88003  "
      ]
     },
     "execution_count": 71,
     "metadata": {},
     "output_type": "execute_result"
    }
   ],
   "source": [
    "cp_metrics_df"
   ]
  },
  {
   "cell_type": "markdown",
   "id": "33774451",
   "metadata": {
    "papermill": {
     "duration": 0.014417,
     "end_time": "2025-07-30T21:46:44.968901",
     "exception": false,
     "start_time": "2025-07-30T21:46:44.954484",
     "status": "completed"
    },
    "tags": []
   },
   "source": [
    "# (Fairness) Metrics"
   ]
  },
  {
   "cell_type": "code",
   "execution_count": 72,
   "id": "debc5d62",
   "metadata": {
    "execution": {
     "iopub.execute_input": "2025-07-30T21:46:44.999814Z",
     "iopub.status.busy": "2025-07-30T21:46:44.999421Z",
     "iopub.status.idle": "2025-07-30T21:46:45.012851Z",
     "shell.execute_reply": "2025-07-30T21:46:45.012113Z"
    },
    "papermill": {
     "duration": 0.031023,
     "end_time": "2025-07-30T21:46:45.014278",
     "exception": false,
     "start_time": "2025-07-30T21:46:44.983255",
     "status": "completed"
    },
    "tags": []
   },
   "outputs": [],
   "source": [
    "# do I need to include maxdeutsch1.missing?\n",
    "\n",
    "import numpy as np\n",
    "\n",
    "colname_to_bin = \"maxdeutsch1\"\n",
    "majority_value = org_train[colname_to_bin].mode()[0]\n",
    "\n",
    "org_test[\"majmin\"] = np.where(org_test[colname_to_bin] == majority_value, \"majority\", \"minority\")"
   ]
  },
  {
   "cell_type": "code",
   "execution_count": 73,
   "id": "06a50de5",
   "metadata": {
    "execution": {
     "iopub.execute_input": "2025-07-30T21:46:45.047941Z",
     "iopub.status.busy": "2025-07-30T21:46:45.047444Z",
     "iopub.status.idle": "2025-07-30T21:46:47.622781Z",
     "shell.execute_reply": "2025-07-30T21:46:47.621827Z"
    },
    "papermill": {
     "duration": 2.594784,
     "end_time": "2025-07-30T21:46:47.624330",
     "exception": false,
     "start_time": "2025-07-30T21:46:45.029546",
     "status": "completed"
    },
    "tags": []
   },
   "outputs": [],
   "source": [
    "example_universe = universe.copy()\n",
    "example_universe[\"cutoff\"] = example_universe[\"cutoff\"][0]\n",
    "example_universe[\"eval_fairness_grouping\"] = example_universe[\"eval_fairness_grouping\"][0]\n",
    "fairness_dict, metric_frame = universe_analysis.compute_metrics(\n",
    "    example_universe,\n",
    "    y_pred_prob=probs_test,\n",
    "    y_test=y_true,\n",
    "    org_test=org_test,\n",
    ")"
   ]
  },
  {
   "cell_type": "markdown",
   "id": "f95d4e02",
   "metadata": {
    "papermill": {
     "duration": 0.030311,
     "end_time": "2025-07-30T21:46:47.672625",
     "exception": false,
     "start_time": "2025-07-30T21:46:47.642314",
     "status": "completed"
    },
    "tags": []
   },
   "source": [
    "# Overall"
   ]
  },
  {
   "cell_type": "markdown",
   "id": "bdee4871",
   "metadata": {
    "papermill": {
     "duration": 0.029505,
     "end_time": "2025-07-30T21:46:47.730084",
     "exception": false,
     "start_time": "2025-07-30T21:46:47.700579",
     "status": "completed"
    },
    "tags": []
   },
   "source": [
    "Fairness\n",
    "Main fairness target: Equalized Odds. Seems to be a better fit than equal opportunity, since we're not only interested in Y = 1. Seems to be a better fit than demographic parity, since we also care about accuracy, not just equal distribution of preds.\n",
    "\n",
    "Pick column for computation of fairness metrics\n",
    "\n",
    "Performance\n",
    "Overall performance measures, most interesting in relation to the measures split by group below"
   ]
  },
  {
   "cell_type": "code",
   "execution_count": 74,
   "id": "c4e067c6",
   "metadata": {
    "execution": {
     "iopub.execute_input": "2025-07-30T21:46:47.787973Z",
     "iopub.status.busy": "2025-07-30T21:46:47.787463Z",
     "iopub.status.idle": "2025-07-30T21:46:47.796773Z",
     "shell.execute_reply": "2025-07-30T21:46:47.795718Z"
    },
    "papermill": {
     "duration": 0.040698,
     "end_time": "2025-07-30T21:46:47.798536",
     "exception": false,
     "start_time": "2025-07-30T21:46:47.757838",
     "status": "completed"
    },
    "tags": []
   },
   "outputs": [
    {
     "data": {
      "text/plain": [
       "accuracy                   0.208227\n",
       "balanced accuracy          0.533109\n",
       "f1                         0.239165\n",
       "precision                  0.136396\n",
       "false positive rate        0.903890\n",
       "false negative rate        0.029892\n",
       "selection rate             0.912384\n",
       "count                  89710.000000\n",
       "dtype: float64"
      ]
     },
     "execution_count": 74,
     "metadata": {},
     "output_type": "execute_result"
    }
   ],
   "source": [
    "metric_frame.overall"
   ]
  },
  {
   "cell_type": "markdown",
   "id": "e968fe9d",
   "metadata": {
    "papermill": {
     "duration": 0.026775,
     "end_time": "2025-07-30T21:46:47.853565",
     "exception": false,
     "start_time": "2025-07-30T21:46:47.826790",
     "status": "completed"
    },
    "tags": []
   },
   "source": [
    "By Group"
   ]
  },
  {
   "cell_type": "code",
   "execution_count": 75,
   "id": "ec325bce",
   "metadata": {
    "execution": {
     "iopub.execute_input": "2025-07-30T21:46:47.906140Z",
     "iopub.status.busy": "2025-07-30T21:46:47.905751Z",
     "iopub.status.idle": "2025-07-30T21:46:47.921523Z",
     "shell.execute_reply": "2025-07-30T21:46:47.920544Z"
    },
    "papermill": {
     "duration": 0.040966,
     "end_time": "2025-07-30T21:46:47.923127",
     "exception": false,
     "start_time": "2025-07-30T21:46:47.882161",
     "status": "completed"
    },
    "tags": []
   },
   "outputs": [
    {
     "data": {
      "text/html": [
       "<div>\n",
       "<style scoped>\n",
       "    .dataframe tbody tr th:only-of-type {\n",
       "        vertical-align: middle;\n",
       "    }\n",
       "\n",
       "    .dataframe tbody tr th {\n",
       "        vertical-align: top;\n",
       "    }\n",
       "\n",
       "    .dataframe thead th {\n",
       "        text-align: right;\n",
       "    }\n",
       "</style>\n",
       "<table border=\"1\" class=\"dataframe\">\n",
       "  <thead>\n",
       "    <tr style=\"text-align: right;\">\n",
       "      <th></th>\n",
       "      <th>accuracy</th>\n",
       "      <th>balanced accuracy</th>\n",
       "      <th>f1</th>\n",
       "      <th>precision</th>\n",
       "      <th>false positive rate</th>\n",
       "      <th>false negative rate</th>\n",
       "      <th>selection rate</th>\n",
       "      <th>count</th>\n",
       "    </tr>\n",
       "    <tr>\n",
       "      <th>majmin</th>\n",
       "      <th></th>\n",
       "      <th></th>\n",
       "      <th></th>\n",
       "      <th></th>\n",
       "      <th></th>\n",
       "      <th></th>\n",
       "      <th></th>\n",
       "      <th></th>\n",
       "    </tr>\n",
       "  </thead>\n",
       "  <tbody>\n",
       "    <tr>\n",
       "      <th>majority</th>\n",
       "      <td>0.194882</td>\n",
       "      <td>0.531465</td>\n",
       "      <td>0.245066</td>\n",
       "      <td>0.139862</td>\n",
       "      <td>0.926020</td>\n",
       "      <td>0.011050</td>\n",
       "      <td>0.934336</td>\n",
       "      <td>69170.0</td>\n",
       "    </tr>\n",
       "    <tr>\n",
       "      <th>minority</th>\n",
       "      <td>0.253165</td>\n",
       "      <td>0.533299</td>\n",
       "      <td>0.216947</td>\n",
       "      <td>0.123389</td>\n",
       "      <td>0.830784</td>\n",
       "      <td>0.102618</td>\n",
       "      <td>0.838462</td>\n",
       "      <td>20540.0</td>\n",
       "    </tr>\n",
       "  </tbody>\n",
       "</table>\n",
       "</div>"
      ],
      "text/plain": [
       "          accuracy  balanced accuracy        f1  precision  \\\n",
       "majmin                                                       \n",
       "majority  0.194882           0.531465  0.245066   0.139862   \n",
       "minority  0.253165           0.533299  0.216947   0.123389   \n",
       "\n",
       "          false positive rate  false negative rate  selection rate    count  \n",
       "majmin                                                                       \n",
       "majority             0.926020             0.011050        0.934336  69170.0  \n",
       "minority             0.830784             0.102618        0.838462  20540.0  "
      ]
     },
     "execution_count": 75,
     "metadata": {},
     "output_type": "execute_result"
    }
   ],
   "source": [
    "metric_frame.by_group"
   ]
  },
  {
   "cell_type": "code",
   "execution_count": 76,
   "id": "a9ddbe63",
   "metadata": {
    "execution": {
     "iopub.execute_input": "2025-07-30T21:46:47.979482Z",
     "iopub.status.busy": "2025-07-30T21:46:47.978956Z",
     "iopub.status.idle": "2025-07-30T21:46:50.380455Z",
     "shell.execute_reply": "2025-07-30T21:46:50.379472Z"
    },
    "papermill": {
     "duration": 2.43112,
     "end_time": "2025-07-30T21:46:50.382067",
     "exception": false,
     "start_time": "2025-07-30T21:46:47.950947",
     "status": "completed"
    },
    "tags": []
   },
   "outputs": [
    {
     "data": {
      "text/plain": [
       "array([[<Axes: title={'center': 'accuracy'}, xlabel='majmin'>,\n",
       "        <Axes: title={'center': 'balanced accuracy'}, xlabel='majmin'>,\n",
       "        <Axes: title={'center': 'f1'}, xlabel='majmin'>],\n",
       "       [<Axes: title={'center': 'precision'}, xlabel='majmin'>,\n",
       "        <Axes: title={'center': 'false positive rate'}, xlabel='majmin'>,\n",
       "        <Axes: title={'center': 'false negative rate'}, xlabel='majmin'>],\n",
       "       [<Axes: title={'center': 'selection rate'}, xlabel='majmin'>,\n",
       "        <Axes: title={'center': 'count'}, xlabel='majmin'>,\n",
       "        <Axes: xlabel='majmin'>]], dtype=object)"
      ]
     },
     "execution_count": 76,
     "metadata": {},
     "output_type": "execute_result"
    },
    {
     "data": {
      "image/png": "[encoded data removed]",
      "text/plain": [
       "<Figure size 1200x800 with 9 Axes>"
      ]
     },
     "metadata": {},
     "output_type": "display_data"
    }
   ],
   "source": [
    "# In a graphic\n",
    "metric_frame.by_group.plot.bar(\n",
    "    subplots=True,\n",
    "    layout=[3, 3],\n",
    "    legend=False,\n",
    "    figsize=[12, 8],\n",
    "    title=\"Show all metrics\",\n",
    ")"
   ]
  },
  {
   "cell_type": "markdown",
   "id": "f57a0bac",
   "metadata": {
    "papermill": {
     "duration": 0.027848,
     "end_time": "2025-07-30T21:46:50.439421",
     "exception": false,
     "start_time": "2025-07-30T21:46:50.411573",
     "status": "completed"
    },
    "tags": []
   },
   "source": [
    "# Final Output"
   ]
  },
  {
   "cell_type": "code",
   "execution_count": 77,
   "id": "96d280a3",
   "metadata": {
    "execution": {
     "iopub.execute_input": "2025-07-30T21:46:50.499314Z",
     "iopub.status.busy": "2025-07-30T21:46:50.498654Z",
     "iopub.status.idle": "2025-07-30T21:46:50.508289Z",
     "shell.execute_reply": "2025-07-30T21:46:50.507193Z"
    },
    "papermill": {
     "duration": 0.042428,
     "end_time": "2025-07-30T21:46:50.510387",
     "exception": false,
     "start_time": "2025-07-30T21:46:50.467959",
     "status": "completed"
    },
    "tags": []
   },
   "outputs": [
    {
     "data": {
      "text/plain": [
       "4"
      ]
     },
     "execution_count": 77,
     "metadata": {},
     "output_type": "execute_result"
    }
   ],
   "source": [
    "sub_universes = universe_analysis.generate_sub_universes()\n",
    "len(sub_universes)"
   ]
  },
  {
   "cell_type": "code",
   "execution_count": 78,
   "id": "92adf7ba",
   "metadata": {
    "execution": {
     "iopub.execute_input": "2025-07-30T21:46:50.581312Z",
     "iopub.status.busy": "2025-07-30T21:46:50.580154Z",
     "iopub.status.idle": "2025-07-30T21:46:50.586999Z",
     "shell.execute_reply": "2025-07-30T21:46:50.585983Z"
    },
    "papermill": {
     "duration": 0.045261,
     "end_time": "2025-07-30T21:46:50.589075",
     "exception": false,
     "start_time": "2025-07-30T21:46:50.543814",
     "status": "completed"
    },
    "tags": []
   },
   "outputs": [],
   "source": [
    "def filter_sub_universe_data(sub_universe, org_test):\n",
    "    # Keep all rows — no filtering\n",
    "    keep_rows_mask = np.ones(org_test.shape[0], dtype=bool)\n",
    "\n",
    "    print(f\"[INFO] Keeping all rows: {keep_rows_mask.sum()} rows retained.\")\n",
    "    return keep_rows_mask"
   ]
  },
  {
   "cell_type": "code",
   "execution_count": 79,
   "id": "4a759155",
   "metadata": {
    "execution": {
     "iopub.execute_input": "2025-07-30T21:46:50.661554Z",
     "iopub.status.busy": "2025-07-30T21:46:50.661030Z",
     "iopub.status.idle": "2025-07-30T21:46:59.836235Z",
     "shell.execute_reply": "2025-07-30T21:46:59.835317Z"
    },
    "papermill": {
     "duration": 9.218824,
     "end_time": "2025-07-30T21:46:59.837886",
     "exception": false,
     "start_time": "2025-07-30T21:46:50.619062",
     "status": "completed"
    },
    "tags": []
   },
   "outputs": [
    {
     "name": "stdout",
     "output_type": "stream",
     "text": [
      "Stopping execution_time clock.\n",
      "[INFO] Keeping all rows: 89710 rows retained.\n"
     ]
    },
    {
     "name": "stdout",
     "output_type": "stream",
     "text": [
      "[INFO] Keeping all rows: 89710 rows retained.\n"
     ]
    },
    {
     "name": "stdout",
     "output_type": "stream",
     "text": [
      "[INFO] Keeping all rows: 89710 rows retained.\n"
     ]
    },
    {
     "name": "stdout",
     "output_type": "stream",
     "text": [
      "[INFO] Keeping all rows: 89710 rows retained.\n"
     ]
    },
    {
     "data": {
      "text/html": [
       "<div>\n",
       "<style scoped>\n",
       "    .dataframe tbody tr th:only-of-type {\n",
       "        vertical-align: middle;\n",
       "    }\n",
       "\n",
       "    .dataframe tbody tr th {\n",
       "        vertical-align: top;\n",
       "    }\n",
       "\n",
       "    .dataframe thead th {\n",
       "        text-align: right;\n",
       "    }\n",
       "</style>\n",
       "<table border=\"1\" class=\"dataframe\">\n",
       "  <thead>\n",
       "    <tr style=\"text-align: right;\">\n",
       "      <th></th>\n",
       "      <th>run_no</th>\n",
       "      <th>universe_id</th>\n",
       "      <th>universe_settings</th>\n",
       "      <th>execution_time</th>\n",
       "      <th>test_size_n</th>\n",
       "      <th>test_size_frac</th>\n",
       "      <th>fair_main_equalized_odds_difference</th>\n",
       "      <th>fair_main_equalized_odds_ratio</th>\n",
       "      <th>fair_main_demographic_parity_difference</th>\n",
       "      <th>fair_main_demographic_parity_ratio</th>\n",
       "      <th>...</th>\n",
       "      <th>perf_grp_precision_0</th>\n",
       "      <th>perf_grp_precision_1</th>\n",
       "      <th>perf_grp_false positive rate_0</th>\n",
       "      <th>perf_grp_false positive rate_1</th>\n",
       "      <th>perf_grp_false negative rate_0</th>\n",
       "      <th>perf_grp_false negative rate_1</th>\n",
       "      <th>perf_grp_selection rate_0</th>\n",
       "      <th>perf_grp_selection rate_1</th>\n",
       "      <th>perf_grp_count_0</th>\n",
       "      <th>perf_grp_count_1</th>\n",
       "    </tr>\n",
       "  </thead>\n",
       "  <tbody>\n",
       "    <tr>\n",
       "      <th>0</th>\n",
       "      <td>14</td>\n",
       "      <td>ee77a537ec4d54c5bd45079747630545</td>\n",
       "      <td>{\"cutoff\": \"quantile_0.1\", \"eval_fairness_grou...</td>\n",
       "      <td>33.002585</td>\n",
       "      <td>89710</td>\n",
       "      <td>1.0</td>\n",
       "      <td>0.095237</td>\n",
       "      <td>0.897155</td>\n",
       "      <td>0.095874</td>\n",
       "      <td>0.897388</td>\n",
       "      <td>...</td>\n",
       "      <td>NaN</td>\n",
       "      <td>NaN</td>\n",
       "      <td>NaN</td>\n",
       "      <td>NaN</td>\n",
       "      <td>NaN</td>\n",
       "      <td>NaN</td>\n",
       "      <td>NaN</td>\n",
       "      <td>NaN</td>\n",
       "      <td>NaN</td>\n",
       "      <td>NaN</td>\n",
       "    </tr>\n",
       "    <tr>\n",
       "      <th>0</th>\n",
       "      <td>14</td>\n",
       "      <td>ee77a537ec4d54c5bd45079747630545</td>\n",
       "      <td>{\"cutoff\": \"quantile_0.1\", \"eval_fairness_grou...</td>\n",
       "      <td>33.002585</td>\n",
       "      <td>89710</td>\n",
       "      <td>1.0</td>\n",
       "      <td>0.095237</td>\n",
       "      <td>0.897155</td>\n",
       "      <td>0.095874</td>\n",
       "      <td>0.897388</td>\n",
       "      <td>...</td>\n",
       "      <td>0.123389</td>\n",
       "      <td>0.139862</td>\n",
       "      <td>0.830784</td>\n",
       "      <td>0.926020</td>\n",
       "      <td>0.102618</td>\n",
       "      <td>0.011050</td>\n",
       "      <td>0.838462</td>\n",
       "      <td>0.934336</td>\n",
       "      <td>20540.0</td>\n",
       "      <td>69170.0</td>\n",
       "    </tr>\n",
       "    <tr>\n",
       "      <th>0</th>\n",
       "      <td>14</td>\n",
       "      <td>ee77a537ec4d54c5bd45079747630545</td>\n",
       "      <td>{\"cutoff\": \"quantile_0.25\", \"eval_fairness_gro...</td>\n",
       "      <td>33.002585</td>\n",
       "      <td>89710</td>\n",
       "      <td>1.0</td>\n",
       "      <td>0.167326</td>\n",
       "      <td>0.824151</td>\n",
       "      <td>0.121643</td>\n",
       "      <td>0.848532</td>\n",
       "      <td>...</td>\n",
       "      <td>NaN</td>\n",
       "      <td>NaN</td>\n",
       "      <td>NaN</td>\n",
       "      <td>NaN</td>\n",
       "      <td>NaN</td>\n",
       "      <td>NaN</td>\n",
       "      <td>NaN</td>\n",
       "      <td>NaN</td>\n",
       "      <td>NaN</td>\n",
       "      <td>NaN</td>\n",
       "    </tr>\n",
       "    <tr>\n",
       "      <th>0</th>\n",
       "      <td>14</td>\n",
       "      <td>ee77a537ec4d54c5bd45079747630545</td>\n",
       "      <td>{\"cutoff\": \"quantile_0.25\", \"eval_fairness_gro...</td>\n",
       "      <td>33.002585</td>\n",
       "      <td>89710</td>\n",
       "      <td>1.0</td>\n",
       "      <td>0.167326</td>\n",
       "      <td>0.824151</td>\n",
       "      <td>0.121643</td>\n",
       "      <td>0.848532</td>\n",
       "      <td>...</td>\n",
       "      <td>0.132671</td>\n",
       "      <td>0.156562</td>\n",
       "      <td>0.668061</td>\n",
       "      <td>0.780493</td>\n",
       "      <td>0.215794</td>\n",
       "      <td>0.048468</td>\n",
       "      <td>0.681451</td>\n",
       "      <td>0.803094</td>\n",
       "      <td>20540.0</td>\n",
       "      <td>69170.0</td>\n",
       "    </tr>\n",
       "  </tbody>\n",
       "</table>\n",
       "<p>4 rows × 50 columns</p>\n",
       "</div>"
      ],
      "text/plain": [
       "  run_no                       universe_id  \\\n",
       "0     14  ee77a537ec4d54c5bd45079747630545   \n",
       "0     14  ee77a537ec4d54c5bd45079747630545   \n",
       "0     14  ee77a537ec4d54c5bd45079747630545   \n",
       "0     14  ee77a537ec4d54c5bd45079747630545   \n",
       "\n",
       "                                   universe_settings  execution_time  \\\n",
       "0  {\"cutoff\": \"quantile_0.1\", \"eval_fairness_grou...       33.002585   \n",
       "0  {\"cutoff\": \"quantile_0.1\", \"eval_fairness_grou...       33.002585   \n",
       "0  {\"cutoff\": \"quantile_0.25\", \"eval_fairness_gro...       33.002585   \n",
       "0  {\"cutoff\": \"quantile_0.25\", \"eval_fairness_gro...       33.002585   \n",
       "\n",
       "   test_size_n  test_size_frac  fair_main_equalized_odds_difference  \\\n",
       "0        89710             1.0                             0.095237   \n",
       "0        89710             1.0                             0.095237   \n",
       "0        89710             1.0                             0.167326   \n",
       "0        89710             1.0                             0.167326   \n",
       "\n",
       "   fair_main_equalized_odds_ratio  fair_main_demographic_parity_difference  \\\n",
       "0                        0.897155                                 0.095874   \n",
       "0                        0.897155                                 0.095874   \n",
       "0                        0.824151                                 0.121643   \n",
       "0                        0.824151                                 0.121643   \n",
       "\n",
       "   fair_main_demographic_parity_ratio  ...  perf_grp_precision_0  \\\n",
       "0                            0.897388  ...                   NaN   \n",
       "0                            0.897388  ...              0.123389   \n",
       "0                            0.848532  ...                   NaN   \n",
       "0                            0.848532  ...              0.132671   \n",
       "\n",
       "   perf_grp_precision_1  perf_grp_false positive rate_0  \\\n",
       "0                   NaN                             NaN   \n",
       "0              0.139862                        0.830784   \n",
       "0                   NaN                             NaN   \n",
       "0              0.156562                        0.668061   \n",
       "\n",
       "   perf_grp_false positive rate_1  perf_grp_false negative rate_0  \\\n",
       "0                             NaN                             NaN   \n",
       "0                        0.926020                        0.102618   \n",
       "0                             NaN                             NaN   \n",
       "0                        0.780493                        0.215794   \n",
       "\n",
       "   perf_grp_false negative rate_1  perf_grp_selection rate_0  \\\n",
       "0                             NaN                        NaN   \n",
       "0                        0.011050                   0.838462   \n",
       "0                             NaN                        NaN   \n",
       "0                        0.048468                   0.681451   \n",
       "\n",
       "   perf_grp_selection rate_1  perf_grp_count_0  perf_grp_count_1  \n",
       "0                        NaN               NaN               NaN  \n",
       "0                   0.934336           20540.0           69170.0  \n",
       "0                        NaN               NaN               NaN  \n",
       "0                   0.803094           20540.0           69170.0  \n",
       "\n",
       "[4 rows x 50 columns]"
      ]
     },
     "execution_count": 79,
     "metadata": {},
     "output_type": "execute_result"
    }
   ],
   "source": [
    "final_output = universe_analysis.generate_final_output(\n",
    "    y_pred_prob=probs_test,\n",
    "    y_test=y_true,\n",
    "    org_test=org_test,\n",
    "    filter_data=filter_sub_universe_data,\n",
    "    cp_metrics_df=cp_metrics_df,\n",
    "    save=True,\n",
    ")\n",
    "final_output"
   ]
  },
  {
   "cell_type": "code",
   "execution_count": null,
   "id": "721ff514-cb11-46f8-b6fc-50392f74b5cb",
   "metadata": {
    "papermill": {
     "duration": 0.031093,
     "end_time": "2025-07-30T21:46:59.903293",
     "exception": false,
     "start_time": "2025-07-30T21:46:59.872200",
     "status": "completed"
    },
    "tags": []
   },
   "outputs": [],
   "source": []
  }
 ],
 "metadata": {
  "celltoolbar": "Tags",
  "kernelspec": {
   "display_name": "Python (CMA Fairness)",
   "language": "python",
   "name": "cma_fair_env"
  },
  "language_info": {
   "codemirror_mode": {
    "name": "ipython",
    "version": 3
   },
   "file_extension": ".py",
   "mimetype": "text/x-python",
   "name": "python",
   "nbconvert_exporter": "python",
   "pygments_lexer": "ipython3",
   "version": "3.10.12"
  },
  "papermill": {
   "default_parameters": {},
   "duration": 46.411902,
   "end_time": "2025-07-30T21:47:00.753760",
   "environment_variables": {},
   "exception": null,
   "input_path": "universe_analysis.ipynb",
   "output_path": "output/runs/14/notebooks/m_14-ee77a537ec4d54c5bd45079747630545.ipynb",
   "parameters": {
    "output_dir": "output",
    "run_no": "14",
    "seed": "2023",
    "universe": "{\"cutoff\": [\"quantile_0.1\", \"quantile_0.25\"], \"eval_fairness_grouping\": [\"majority-minority\", \"nationality-all\"], \"exclude_features\": \"nationality-sex\", \"exclude_subgroups\": \"keep-all\", \"model\": \"rf\", \"scale\": \"scale\", \"training_size\": \"1k\", \"training_year\": \"2010_14\"}",
    "universe_id": "ee77a537ec4d54c5bd45079747630545"
   },
   "start_time": "2025-07-30T21:46:14.341858",
   "version": "2.6.0"
  }
 },
 "nbformat": 4,
 "nbformat_minor": 5
}