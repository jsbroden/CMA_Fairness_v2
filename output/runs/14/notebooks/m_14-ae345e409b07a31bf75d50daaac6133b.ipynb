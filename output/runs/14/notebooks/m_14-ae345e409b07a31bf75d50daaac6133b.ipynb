{
 "cells": [
  {
   "cell_type": "code",
   "execution_count": 1,
   "id": "f159f837-637b-42ba-96b5-ec9a68c44524",
   "metadata": {
    "execution": {
     "iopub.execute_input": "2025-07-30T21:15:32.380713Z",
     "iopub.status.busy": "2025-07-30T21:15:32.380203Z",
     "iopub.status.idle": "2025-07-30T21:15:32.390589Z",
     "shell.execute_reply": "2025-07-30T21:15:32.389689Z"
    },
    "papermill": {
     "duration": 0.03381,
     "end_time": "2025-07-30T21:15:32.391961",
     "exception": false,
     "start_time": "2025-07-30T21:15:32.358151",
     "status": "completed"
    },
    "tags": []
   },
   "outputs": [
    {
     "name": "stdout",
     "output_type": "stream",
     "text": [
      "/dss/dsshome1/0C/ra93lal2/cma/CMA_Fairness_v2\n"
     ]
    },
    {
     "name": "stderr",
     "output_type": "stream",
     "text": [
      "/dss/dsshome1/0C/ra93lal2/.local/share/virtualenvs/CMA_Fairness_v2-3j10GkSs/lib/python3.10/site-packages/IPython/core/magics/osm.py:393: UserWarning: This is now an optional IPython functionality, using bookmarks requires you to install the `pickleshare` library.\n",
      "  bkms = self.shell.db.get('bookmarks', {})\n",
      "/dss/dsshome1/0C/ra93lal2/.local/share/virtualenvs/CMA_Fairness_v2-3j10GkSs/lib/python3.10/site-packages/IPython/core/magics/osm.py:417: UserWarning: This is now an optional IPython functionality, setting dhist requires you to install the `pickleshare` library.\n",
      "  self.shell.db['dhist'] = compress_dhist(dhist)[-100:]\n"
     ]
    }
   ],
   "source": [
    "%cd ~/cma/CMA_Fairness_v2"
   ]
  },
  {
   "cell_type": "markdown",
   "id": "de2603b9",
   "metadata": {
    "papermill": {
     "duration": 0.009928,
     "end_time": "2025-07-30T21:15:32.413480",
     "exception": false,
     "start_time": "2025-07-30T21:15:32.403552",
     "status": "completed"
    },
    "tags": []
   },
   "source": [
    "The following cell holds the definition of our parameters, these values can be overriden by rendering the with e.g. the following command:\n",
    "\n",
    "papermill -p alpha 0.2 -p ratio 0.3 universe_analysis.ipynb output/test_run.ipynb"
   ]
  },
  {
   "cell_type": "code",
   "execution_count": 2,
   "id": "a80968a0-40bb-4fa9-85ef-2d5eefb01975",
   "metadata": {
    "execution": {
     "iopub.execute_input": "2025-07-30T21:15:32.435088Z",
     "iopub.status.busy": "2025-07-30T21:15:32.434607Z",
     "iopub.status.idle": "2025-07-30T21:15:32.439487Z",
     "shell.execute_reply": "2025-07-30T21:15:32.438732Z"
    },
    "papermill": {
     "duration": 0.017177,
     "end_time": "2025-07-30T21:15:32.440822",
     "exception": false,
     "start_time": "2025-07-30T21:15:32.423645",
     "status": "completed"
    },
    "tags": []
   },
   "outputs": [
    {
     "name": "stdout",
     "output_type": "stream",
     "text": [
      "Current working directory: /dss/dsshome1/0C/ra93lal2/cma/CMA_Fairness_v2\n"
     ]
    }
   ],
   "source": [
    "import os\n",
    "print(\"Current working directory:\", os.getcwd())"
   ]
  },
  {
   "cell_type": "code",
   "execution_count": 3,
   "id": "2dce4c03",
   "metadata": {
    "execution": {
     "iopub.execute_input": "2025-07-30T21:15:32.464478Z",
     "iopub.status.busy": "2025-07-30T21:15:32.464106Z",
     "iopub.status.idle": "2025-07-30T21:15:32.468960Z",
     "shell.execute_reply": "2025-07-30T21:15:32.468124Z"
    },
    "papermill": {
     "duration": 0.017433,
     "end_time": "2025-07-30T21:15:32.470107",
     "exception": false,
     "start_time": "2025-07-30T21:15:32.452674",
     "status": "completed"
    },
    "tags": [
     "parameters"
    ]
   },
   "outputs": [],
   "source": [
    "run_no = 0\n",
    "universe_id = \"test\"\n",
    "universe = {\n",
    "    \"training_size\": \"25k\", # \"25k\", \"5k\", \"1k\"\n",
    "    \"training_year\": \"2014\", # \"2014\", \"2012_14\", \"2010_14\"\n",
    "    \"scale\": \"scale\", # \"scale\", \"do-not-scale\",\n",
    "    #\"stratify_split\": \"target\", # \"none\", \"target\", \"protected-attribute\", \"both\",\n",
    "    \"model\": \"elasticnet\", # \"logreg\", \"penalized_logreg\", \"rf\", \"gbm\", \"elasticnet\"\n",
    "    \"cutoff\": [\"quantile_0.15\", \"quantile_0.30\"],\n",
    "    \"exclude_features\": \"age\", # \"none\", \"nationality\", \"sex\", \"nationality-sex\", \"age\"\n",
    "    \"exclude_subgroups\": \"keep-all\", # \"keep-all\", \"drop-non-german\"\n",
    "    \"eval_fairness_grouping\": [\"majority-minority\", \"nationality-all\"]\n",
    "}\n",
    "\n",
    "output_dir=\"./output\"\n",
    "seed=0"
   ]
  },
  {
   "cell_type": "code",
   "execution_count": 4,
   "id": "e28d5def",
   "metadata": {
    "execution": {
     "iopub.execute_input": "2025-07-30T21:15:32.493860Z",
     "iopub.status.busy": "2025-07-30T21:15:32.493495Z",
     "iopub.status.idle": "2025-07-30T21:15:32.498446Z",
     "shell.execute_reply": "2025-07-30T21:15:32.497733Z"
    },
    "papermill": {
     "duration": 0.016982,
     "end_time": "2025-07-30T21:15:32.499614",
     "exception": false,
     "start_time": "2025-07-30T21:15:32.482632",
     "status": "completed"
    },
    "tags": [
     "injected-parameters"
    ]
   },
   "outputs": [],
   "source": [
    "# Parameters\n",
    "universe_id = \"ae345e409b07a31bf75d50daaac6133b\"\n",
    "run_no = \"14\"\n",
    "universe = \"{\\\"cutoff\\\": [\\\"quantile_0.1\\\", \\\"quantile_0.25\\\"], \\\"eval_fairness_grouping\\\": [\\\"majority-minority\\\", \\\"nationality-all\\\"], \\\"exclude_features\\\": \\\"sex\\\", \\\"exclude_subgroups\\\": \\\"drop-non-german\\\", \\\"model\\\": \\\"logreg\\\", \\\"scale\\\": \\\"do-not-scale\\\", \\\"training_size\\\": \\\"5k\\\", \\\"training_year\\\": \\\"2010_14\\\"}\"\n",
    "output_dir = \"output\"\n",
    "seed = \"2023\"\n"
   ]
  },
  {
   "cell_type": "code",
   "execution_count": 5,
   "id": "1650acaf",
   "metadata": {
    "execution": {
     "iopub.execute_input": "2025-07-30T21:15:32.521829Z",
     "iopub.status.busy": "2025-07-30T21:15:32.521476Z",
     "iopub.status.idle": "2025-07-30T21:15:32.526118Z",
     "shell.execute_reply": "2025-07-30T21:15:32.525389Z"
    },
    "papermill": {
     "duration": 0.016891,
     "end_time": "2025-07-30T21:15:32.527532",
     "exception": false,
     "start_time": "2025-07-30T21:15:32.510641",
     "status": "completed"
    },
    "tags": []
   },
   "outputs": [],
   "source": [
    "import json\n",
    "# Parse universe into dict if it is passed as a string\n",
    "if isinstance(universe, str):\n",
    "    universe = json.loads(universe)"
   ]
  },
  {
   "cell_type": "code",
   "execution_count": 6,
   "id": "16620c48",
   "metadata": {
    "execution": {
     "iopub.execute_input": "2025-07-30T21:15:32.570510Z",
     "iopub.status.busy": "2025-07-30T21:15:32.570135Z",
     "iopub.status.idle": "2025-07-30T21:15:32.617474Z",
     "shell.execute_reply": "2025-07-30T21:15:32.616456Z"
    },
    "papermill": {
     "duration": 0.071097,
     "end_time": "2025-07-30T21:15:32.619771",
     "exception": false,
     "start_time": "2025-07-30T21:15:32.548674",
     "status": "completed"
    },
    "tags": []
   },
   "outputs": [],
   "source": [
    "# Auto-reload the custom package\n",
    "%load_ext autoreload\n",
    "%autoreload 1\n",
    "%aimport fairness_multiverse"
   ]
  },
  {
   "cell_type": "code",
   "execution_count": 7,
   "id": "01c5c9f3",
   "metadata": {
    "execution": {
     "iopub.execute_input": "2025-07-30T21:15:32.675412Z",
     "iopub.status.busy": "2025-07-30T21:15:32.674683Z",
     "iopub.status.idle": "2025-07-30T21:15:34.786816Z",
     "shell.execute_reply": "2025-07-30T21:15:34.785501Z"
    },
    "papermill": {
     "duration": 2.142497,
     "end_time": "2025-07-30T21:15:34.789015",
     "exception": false,
     "start_time": "2025-07-30T21:15:32.646518",
     "status": "completed"
    },
    "tags": []
   },
   "outputs": [],
   "source": [
    "from fairness_multiverse.universe import UniverseAnalysis\n",
    "\n",
    "universe_analysis = UniverseAnalysis(\n",
    "    run_no = run_no,\n",
    "    universe_id = universe_id,\n",
    "    universe = universe,\n",
    "    output_dir=output_dir,\n",
    ")"
   ]
  },
  {
   "cell_type": "code",
   "execution_count": 8,
   "id": "106241f5",
   "metadata": {
    "execution": {
     "iopub.execute_input": "2025-07-30T21:15:34.832085Z",
     "iopub.status.busy": "2025-07-30T21:15:34.831474Z",
     "iopub.status.idle": "2025-07-30T21:15:34.838860Z",
     "shell.execute_reply": "2025-07-30T21:15:34.837758Z"
    },
    "papermill": {
     "duration": 0.03106,
     "end_time": "2025-07-30T21:15:34.840835",
     "exception": false,
     "start_time": "2025-07-30T21:15:34.809775",
     "status": "completed"
    },
    "tags": []
   },
   "outputs": [
    {
     "name": "stdout",
     "output_type": "stream",
     "text": [
      "Using Seed: 2023\n"
     ]
    }
   ],
   "source": [
    "import numpy as np\n",
    "parsed_seed = int(seed)\n",
    "np.random.seed(parsed_seed)\n",
    "print(f\"Using Seed: {parsed_seed}\")"
   ]
  },
  {
   "cell_type": "markdown",
   "id": "e0ebdc57",
   "metadata": {
    "papermill": {
     "duration": 0.020681,
     "end_time": "2025-07-30T21:15:34.883365",
     "exception": false,
     "start_time": "2025-07-30T21:15:34.862684",
     "status": "completed"
    },
    "tags": []
   },
   "source": [
    "# Loading Data"
   ]
  },
  {
   "cell_type": "markdown",
   "id": "681925a3",
   "metadata": {
    "papermill": {
     "duration": 0.020498,
     "end_time": "2025-07-30T21:15:34.923732",
     "exception": false,
     "start_time": "2025-07-30T21:15:34.903234",
     "status": "completed"
    },
    "tags": []
   },
   "source": [
    "Load siab_train, siab_test, siab_calib and/or \n",
    "load siab_train_features, siab_train_labels"
   ]
  },
  {
   "cell_type": "code",
   "execution_count": 9,
   "id": "f0496b8a",
   "metadata": {
    "execution": {
     "iopub.execute_input": "2025-07-30T21:15:34.966065Z",
     "iopub.status.busy": "2025-07-30T21:15:34.965588Z",
     "iopub.status.idle": "2025-07-30T21:15:48.363532Z",
     "shell.execute_reply": "2025-07-30T21:15:48.362324Z"
    },
    "papermill": {
     "duration": 13.421074,
     "end_time": "2025-07-30T21:15:48.365666",
     "exception": false,
     "start_time": "2025-07-30T21:15:34.944592",
     "status": "completed"
    },
    "tags": []
   },
   "outputs": [
    {
     "name": "stdout",
     "output_type": "stream",
     "text": [
      "Loading SIAB data from cache: data/siab_cached.csv.gz\n"
     ]
    },
    {
     "name": "stdout",
     "output_type": "stream",
     "text": [
      "(643690, 164)\n"
     ]
    }
   ],
   "source": [
    "from pathlib import Path\n",
    "import pandas as pd\n",
    "\n",
    "# File paths\n",
    "raw_file = Path(\"data/raw/siab.csv\")\n",
    "cache_file = Path(\"data/siab_cached.csv.gz\")\n",
    "\n",
    "# Ensure cache directory exists\n",
    "cache_file.parent.mkdir(parents=True, exist_ok=True)\n",
    "\n",
    "# Load with simple caching\n",
    "if cache_file.exists():\n",
    "    print(f\"Loading SIAB data from cache: {cache_file}\")\n",
    "    siab = pd.read_csv(cache_file, compression='gzip')\n",
    "else:\n",
    "    print(f\"Cache not found. Reading raw SIAB data: {raw_file}\")\n",
    "    siab = pd.read_csv(raw_file)\n",
    "    siab.to_csv(cache_file, index=False, compression='gzip')\n",
    "    print(f\"Cached SIAB data to: {cache_file}\")\n",
    "\n",
    "# Now use `siab` DataFrame as needed\n",
    "print(siab.shape)"
   ]
  },
  {
   "cell_type": "code",
   "execution_count": 10,
   "id": "db0ca512-5f53-4dba-abdb-a2888bca41ba",
   "metadata": {
    "execution": {
     "iopub.execute_input": "2025-07-30T21:15:48.425840Z",
     "iopub.status.busy": "2025-07-30T21:15:48.425066Z",
     "iopub.status.idle": "2025-07-30T21:15:48.431693Z",
     "shell.execute_reply": "2025-07-30T21:15:48.430548Z"
    },
    "papermill": {
     "duration": 0.038233,
     "end_time": "2025-07-30T21:15:48.433864",
     "exception": false,
     "start_time": "2025-07-30T21:15:48.395631",
     "status": "completed"
    },
    "tags": []
   },
   "outputs": [],
   "source": [
    "#siab"
   ]
  },
  {
   "cell_type": "code",
   "execution_count": 11,
   "id": "a0edb063",
   "metadata": {
    "execution": {
     "iopub.execute_input": "2025-07-30T21:15:48.491995Z",
     "iopub.status.busy": "2025-07-30T21:15:48.491445Z",
     "iopub.status.idle": "2025-07-30T21:15:48.497222Z",
     "shell.execute_reply": "2025-07-30T21:15:48.496251Z"
    },
    "papermill": {
     "duration": 0.037019,
     "end_time": "2025-07-30T21:15:48.499553",
     "exception": false,
     "start_time": "2025-07-30T21:15:48.462534",
     "status": "completed"
    },
    "tags": []
   },
   "outputs": [],
   "source": [
    "#import pandas as pd\n",
    "#\n",
    "#X_train = pd.read_csv(\"./data/X_train.csv\")\n",
    "#y_train = pd.read_csv(\"./data/y_train.csv\")"
   ]
  },
  {
   "cell_type": "code",
   "execution_count": 12,
   "id": "63d08085",
   "metadata": {
    "execution": {
     "iopub.execute_input": "2025-07-30T21:15:48.567697Z",
     "iopub.status.busy": "2025-07-30T21:15:48.567159Z",
     "iopub.status.idle": "2025-07-30T21:15:48.572784Z",
     "shell.execute_reply": "2025-07-30T21:15:48.571850Z"
    },
    "papermill": {
     "duration": 0.039438,
     "end_time": "2025-07-30T21:15:48.575375",
     "exception": false,
     "start_time": "2025-07-30T21:15:48.535937",
     "status": "completed"
    },
    "tags": []
   },
   "outputs": [],
   "source": [
    "#X_test = pd.read_csv(\"./data/X_test.csv\")\n",
    "#y_true = pd.read_csv(\"./data/y_test.csv\")"
   ]
  },
  {
   "cell_type": "code",
   "execution_count": 13,
   "id": "98a8d0fa-1d3d-4ed8-bb2c-281470e24add",
   "metadata": {
    "execution": {
     "iopub.execute_input": "2025-07-30T21:15:48.640953Z",
     "iopub.status.busy": "2025-07-30T21:15:48.640361Z",
     "iopub.status.idle": "2025-07-30T21:15:48.646418Z",
     "shell.execute_reply": "2025-07-30T21:15:48.645345Z"
    },
    "papermill": {
     "duration": 0.041259,
     "end_time": "2025-07-30T21:15:48.649344",
     "exception": false,
     "start_time": "2025-07-30T21:15:48.608085",
     "status": "completed"
    },
    "tags": []
   },
   "outputs": [],
   "source": [
    "# Calibration data for conformal\n",
    "#X_calib = pd.read_csv(\"./data/X_calib.csv\")\n",
    "#y_calib = pd.read_csv(\"./data/y_calib.csv\")"
   ]
  },
  {
   "cell_type": "markdown",
   "id": "997051c5-15bd-4b69-9786-c3001a3ce484",
   "metadata": {
    "papermill": {
     "duration": 0.030005,
     "end_time": "2025-07-30T21:15:48.710673",
     "exception": false,
     "start_time": "2025-07-30T21:15:48.680668",
     "status": "completed"
    },
    "tags": []
   },
   "source": [
    "# Splitting Data and Setting Training Data Size"
   ]
  },
  {
   "cell_type": "code",
   "execution_count": 14,
   "id": "e993b61f-042d-41a6-8c81-f55681f86335",
   "metadata": {
    "execution": {
     "iopub.execute_input": "2025-07-30T21:15:48.769036Z",
     "iopub.status.busy": "2025-07-30T21:15:48.768489Z",
     "iopub.status.idle": "2025-07-30T21:15:48.784468Z",
     "shell.execute_reply": "2025-07-30T21:15:48.783148Z"
    },
    "papermill": {
     "duration": 0.045344,
     "end_time": "2025-07-30T21:15:48.786867",
     "exception": false,
     "start_time": "2025-07-30T21:15:48.741523",
     "status": "completed"
    },
    "tags": []
   },
   "outputs": [],
   "source": [
    "def sample_by_year_size(df,\n",
    "                        training_year: str,\n",
    "                        training_size: str,\n",
    "                        random_state: int = 42):\n",
    "    # --- parse training_year into a list of int years ---\n",
    "    if \"_\" in training_year:\n",
    "        start_str, end_str = training_year.split(\"_\", 1)\n",
    "        start = int(start_str)\n",
    "        end   = int(end_str) if len(end_str) == 4 else (int(end_str) + (start // 100)*100)\n",
    "        years = list(range(start, end + 1))\n",
    "    else:\n",
    "        years = [int(training_year)]\n",
    "\n",
    "    df = df[df[\"year\"].isin(years)].reset_index(drop=True)\n",
    "\n",
    "    # --- map training_size to total number of samples ---\n",
    "    total_map = {\"25k\": 25_000, \"5k\": 5_000, \"1k\": 1_000}\n",
    "    if training_size not in total_map:\n",
    "        return df  # e.g. \"all\"\n",
    "\n",
    "    total_samples = total_map[training_size]\n",
    "    n_years       = len(years)\n",
    "    base          = total_samples // n_years\n",
    "    remainder     = total_samples % n_years\n",
    "\n",
    "    # --- build a dict: year -> how many to sample ---\n",
    "    # give +1 to the first `remainder` years in ascending order\n",
    "    quotas = {\n",
    "        year: base + (1 if idx < remainder else 0)\n",
    "        for idx, year in enumerate(sorted(years))\n",
    "    }\n",
    "\n",
    "    # --- sample per‐year according to the quota dict ---\n",
    "    sampled = (\n",
    "        df\n",
    "        .groupby(\"year\", group_keys=False)\n",
    "        .apply(lambda grp: grp.sample(\n",
    "            n=min(len(grp), quotas[grp.name]),\n",
    "            random_state=random_state))\n",
    "        .reset_index(drop=True)\n",
    "    )\n",
    "\n",
    "    return sampled"
   ]
  },
  {
   "cell_type": "code",
   "execution_count": 15,
   "id": "c0ccd338-0e02-41f3-a09d-f56f9266e3fb",
   "metadata": {
    "execution": {
     "iopub.execute_input": "2025-07-30T21:15:48.833672Z",
     "iopub.status.busy": "2025-07-30T21:15:48.833093Z",
     "iopub.status.idle": "2025-07-30T21:15:48.839098Z",
     "shell.execute_reply": "2025-07-30T21:15:48.838068Z"
    },
    "papermill": {
     "duration": 0.031507,
     "end_time": "2025-07-30T21:15:48.841086",
     "exception": false,
     "start_time": "2025-07-30T21:15:48.809579",
     "status": "completed"
    },
    "tags": []
   },
   "outputs": [],
   "source": [
    "#universe[\"training_size\"]"
   ]
  },
  {
   "cell_type": "code",
   "execution_count": 16,
   "id": "ca707fd7-8047-4acd-bfa5-66248fbbf8e6",
   "metadata": {
    "execution": {
     "iopub.execute_input": "2025-07-30T21:15:48.881348Z",
     "iopub.status.busy": "2025-07-30T21:15:48.880995Z",
     "iopub.status.idle": "2025-07-30T21:15:48.885708Z",
     "shell.execute_reply": "2025-07-30T21:15:48.884900Z"
    },
    "papermill": {
     "duration": 0.025182,
     "end_time": "2025-07-30T21:15:48.887191",
     "exception": false,
     "start_time": "2025-07-30T21:15:48.862009",
     "status": "completed"
    },
    "tags": []
   },
   "outputs": [],
   "source": [
    "#universe[\"training_year\"]"
   ]
  },
  {
   "cell_type": "code",
   "execution_count": 17,
   "id": "aea9c6ef-6f46-42c8-85eb-5a62025c1508",
   "metadata": {
    "execution": {
     "iopub.execute_input": "2025-07-30T21:15:48.912582Z",
     "iopub.status.busy": "2025-07-30T21:15:48.912086Z",
     "iopub.status.idle": "2025-07-30T21:15:49.974628Z",
     "shell.execute_reply": "2025-07-30T21:15:49.973425Z"
    },
    "papermill": {
     "duration": 1.077216,
     "end_time": "2025-07-30T21:15:49.976947",
     "exception": false,
     "start_time": "2025-07-30T21:15:48.899731",
     "status": "completed"
    },
    "tags": []
   },
   "outputs": [],
   "source": [
    "siab_train = sample_by_year_size(siab,\n",
    "                               training_year=universe[\"training_year\"],\n",
    "                               training_size=universe[\"training_size\"])"
   ]
  },
  {
   "cell_type": "code",
   "execution_count": 18,
   "id": "8d3afb32-789d-442c-8d5d-9f5aa8dd2eed",
   "metadata": {
    "execution": {
     "iopub.execute_input": "2025-07-30T21:15:50.042876Z",
     "iopub.status.busy": "2025-07-30T21:15:50.042359Z",
     "iopub.status.idle": "2025-07-30T21:15:50.047474Z",
     "shell.execute_reply": "2025-07-30T21:15:50.046572Z"
    },
    "papermill": {
     "duration": 0.037902,
     "end_time": "2025-07-30T21:15:50.049331",
     "exception": false,
     "start_time": "2025-07-30T21:15:50.011429",
     "status": "completed"
    },
    "tags": []
   },
   "outputs": [],
   "source": [
    "#siab_train.shape"
   ]
  },
  {
   "cell_type": "code",
   "execution_count": 19,
   "id": "d582db68-1a4c-47fb-84fc-08518dc1975a",
   "metadata": {
    "execution": {
     "iopub.execute_input": "2025-07-30T21:15:50.094632Z",
     "iopub.status.busy": "2025-07-30T21:15:50.093993Z",
     "iopub.status.idle": "2025-07-30T21:15:50.099088Z",
     "shell.execute_reply": "2025-07-30T21:15:50.098095Z"
    },
    "papermill": {
     "duration": 0.028601,
     "end_time": "2025-07-30T21:15:50.100708",
     "exception": false,
     "start_time": "2025-07-30T21:15:50.072107",
     "status": "completed"
    },
    "tags": []
   },
   "outputs": [],
   "source": [
    "#display(siab_train.groupby(\"year\").size())"
   ]
  },
  {
   "cell_type": "code",
   "execution_count": 20,
   "id": "a561edb4-d032-42cb-8256-22eac1111c64",
   "metadata": {
    "execution": {
     "iopub.execute_input": "2025-07-30T21:15:50.145076Z",
     "iopub.status.busy": "2025-07-30T21:15:50.144618Z",
     "iopub.status.idle": "2025-07-30T21:15:50.375372Z",
     "shell.execute_reply": "2025-07-30T21:15:50.374636Z"
    },
    "papermill": {
     "duration": 0.254398,
     "end_time": "2025-07-30T21:15:50.376898",
     "exception": false,
     "start_time": "2025-07-30T21:15:50.122500",
     "status": "completed"
    },
    "tags": []
   },
   "outputs": [],
   "source": [
    "#siab_train = siab_s[siab_s.year < 2015]\n",
    "siab_calib = siab[siab.year == 2015]\n",
    "siab_test = siab[siab.year == 2016]"
   ]
  },
  {
   "cell_type": "code",
   "execution_count": 21,
   "id": "472de16f-c3db-4916-846b-1f0de9cf1746",
   "metadata": {
    "execution": {
     "iopub.execute_input": "2025-07-30T21:15:50.406269Z",
     "iopub.status.busy": "2025-07-30T21:15:50.405705Z",
     "iopub.status.idle": "2025-07-30T21:15:50.414206Z",
     "shell.execute_reply": "2025-07-30T21:15:50.413292Z"
    },
    "papermill": {
     "duration": 0.027647,
     "end_time": "2025-07-30T21:15:50.415847",
     "exception": false,
     "start_time": "2025-07-30T21:15:50.388200",
     "status": "completed"
    },
    "tags": []
   },
   "outputs": [],
   "source": [
    "X_train = siab_train.iloc[:,4:164]\n",
    "y_train = siab_train.iloc[:, [3]]"
   ]
  },
  {
   "cell_type": "code",
   "execution_count": 22,
   "id": "828c96af-f43a-4ed6-ba47-8ac73a47d56c",
   "metadata": {
    "execution": {
     "iopub.execute_input": "2025-07-30T21:15:50.465480Z",
     "iopub.status.busy": "2025-07-30T21:15:50.464730Z",
     "iopub.status.idle": "2025-07-30T21:15:50.513655Z",
     "shell.execute_reply": "2025-07-30T21:15:50.512434Z"
    },
    "papermill": {
     "duration": 0.077132,
     "end_time": "2025-07-30T21:15:50.516293",
     "exception": false,
     "start_time": "2025-07-30T21:15:50.439161",
     "status": "completed"
    },
    "tags": []
   },
   "outputs": [],
   "source": [
    "X_calib = siab_calib.iloc[:,4:164]\n",
    "y_calib = siab_calib.iloc[:, [3]]"
   ]
  },
  {
   "cell_type": "code",
   "execution_count": 23,
   "id": "c34be9c3-6bd6-476e-acd3-845840e303be",
   "metadata": {
    "execution": {
     "iopub.execute_input": "2025-07-30T21:15:50.561630Z",
     "iopub.status.busy": "2025-07-30T21:15:50.560833Z",
     "iopub.status.idle": "2025-07-30T21:15:50.611349Z",
     "shell.execute_reply": "2025-07-30T21:15:50.610256Z"
    },
    "papermill": {
     "duration": 0.074637,
     "end_time": "2025-07-30T21:15:50.613456",
     "exception": false,
     "start_time": "2025-07-30T21:15:50.538819",
     "status": "completed"
    },
    "tags": []
   },
   "outputs": [],
   "source": [
    "X_test = siab_test.iloc[:,4:164]\n",
    "y_true = siab_test.iloc[:, [3]]"
   ]
  },
  {
   "cell_type": "markdown",
   "id": "9901737e-04df-44f0-9100-f5ad144ed040",
   "metadata": {
    "papermill": {
     "duration": 0.022512,
     "end_time": "2025-07-30T21:15:50.661375",
     "exception": false,
     "start_time": "2025-07-30T21:15:50.638863",
     "status": "completed"
    },
    "tags": []
   },
   "source": [
    "# Splitting Data and Setting Training Data Size OLD VERSION"
   ]
  },
  {
   "cell_type": "code",
   "execution_count": 24,
   "id": "acbc8f7d-8fc8-4e86-8c59-5dcb0f58384b",
   "metadata": {
    "execution": {
     "iopub.execute_input": "2025-07-30T21:15:50.708774Z",
     "iopub.status.busy": "2025-07-30T21:15:50.708295Z",
     "iopub.status.idle": "2025-07-30T21:15:50.713959Z",
     "shell.execute_reply": "2025-07-30T21:15:50.713042Z"
    },
    "papermill": {
     "duration": 0.037889,
     "end_time": "2025-07-30T21:15:50.721551",
     "exception": false,
     "start_time": "2025-07-30T21:15:50.683662",
     "status": "completed"
    },
    "tags": []
   },
   "outputs": [],
   "source": [
    "#def sample_by_year(df, training_size, random_state=42):\n",
    "#    if training_size == \"2014\":\n",
    "#        return df[df[\"year\"] == 2014].reset_index(drop=True)\n",
    "#    \n",
    "#    size_map = {\n",
    "#        \"25k\": 5000,\n",
    "#        \"5k\": 1000,\n",
    "#        \"1k\": 200\n",
    "#    }\n",
    "#\n",
    "#    if training_size not in size_map:\n",
    "#        return df.reset_index(drop=True)  # use all data\n",
    "#\n",
    "#    n_per_year = size_map[training_size]\n",
    "#    grouped = df.groupby(\"year\")\n",
    "#    sampled = grouped.apply(lambda x: x.sample(n=min(n_per_year, len(x)), random_state=random_state))\n",
    "#    return sampled.reset_index(drop=True)"
   ]
  },
  {
   "cell_type": "code",
   "execution_count": 25,
   "id": "6d931f52-beaf-43ff-9e78-9d44a448d54e",
   "metadata": {
    "execution": {
     "iopub.execute_input": "2025-07-30T21:15:50.770511Z",
     "iopub.status.busy": "2025-07-30T21:15:50.769983Z",
     "iopub.status.idle": "2025-07-30T21:15:50.775486Z",
     "shell.execute_reply": "2025-07-30T21:15:50.774490Z"
    },
    "papermill": {
     "duration": 0.031128,
     "end_time": "2025-07-30T21:15:50.777475",
     "exception": false,
     "start_time": "2025-07-30T21:15:50.746347",
     "status": "completed"
    },
    "tags": []
   },
   "outputs": [],
   "source": [
    "#siab_s = sample_by_year(siab, universe[\"training_size\"])"
   ]
  },
  {
   "cell_type": "code",
   "execution_count": 26,
   "id": "5db0a40e-a4e2-4920-be85-b12ae061d70d",
   "metadata": {
    "execution": {
     "iopub.execute_input": "2025-07-30T21:15:50.826370Z",
     "iopub.status.busy": "2025-07-30T21:15:50.825913Z",
     "iopub.status.idle": "2025-07-30T21:15:50.831094Z",
     "shell.execute_reply": "2025-07-30T21:15:50.829981Z"
    },
    "papermill": {
     "duration": 0.030419,
     "end_time": "2025-07-30T21:15:50.832880",
     "exception": false,
     "start_time": "2025-07-30T21:15:50.802461",
     "status": "completed"
    },
    "tags": []
   },
   "outputs": [],
   "source": [
    "#display(siab_s.groupby(\"year\").size())"
   ]
  },
  {
   "cell_type": "code",
   "execution_count": 27,
   "id": "e6c733c5",
   "metadata": {
    "execution": {
     "iopub.execute_input": "2025-07-30T21:15:50.876713Z",
     "iopub.status.busy": "2025-07-30T21:15:50.876245Z",
     "iopub.status.idle": "2025-07-30T21:15:50.973669Z",
     "shell.execute_reply": "2025-07-30T21:15:50.972465Z"
    },
    "papermill": {
     "duration": 0.121178,
     "end_time": "2025-07-30T21:15:50.975951",
     "exception": false,
     "start_time": "2025-07-30T21:15:50.854773",
     "status": "completed"
    },
    "tags": []
   },
   "outputs": [],
   "source": [
    "# Auxiliary data needed downstream in the pipeline\n",
    "\n",
    "org_train = X_train.copy()\n",
    "org_test = X_test.copy()\n",
    "org_calib = X_calib.copy()"
   ]
  },
  {
   "cell_type": "code",
   "execution_count": 28,
   "id": "1466abac-c6da-4492-a62f-4240ae3783af",
   "metadata": {
    "execution": {
     "iopub.execute_input": "2025-07-30T21:15:51.027341Z",
     "iopub.status.busy": "2025-07-30T21:15:51.026862Z",
     "iopub.status.idle": "2025-07-30T21:15:51.033421Z",
     "shell.execute_reply": "2025-07-30T21:15:51.032195Z"
    },
    "papermill": {
     "duration": 0.033113,
     "end_time": "2025-07-30T21:15:51.035036",
     "exception": false,
     "start_time": "2025-07-30T21:15:51.001923",
     "status": "completed"
    },
    "tags": []
   },
   "outputs": [],
   "source": [
    "# put in other script?\n",
    "# Group sizes\n",
    "\n",
    "#def calculate_percentages(df, df_name):\n",
    "#    total_entries = len(df)\n",
    "#\n",
    "#    female_pct = (df['frau1'] == 1).mean() * 100\n",
    "#    non_german_pct = ((df['maxdeutsch1'] == 0) & (df['maxdeutsch.Missing.'] == 0)).mean() * 100\n",
    "#    non_german_male_pct = ((df['frau1'] == 0) & (df['maxdeutsch1'] == 0) & (df['maxdeutsch.Missing.'] == 0)).mean() * 100\n",
    "#    non_german_female_pct = ((df['frau1'] == 1) & (df['maxdeutsch1'] == 0) & (df['maxdeutsch.Missing.'] == 0)).mean() * 100\n",
    "#\n",
    "#    print(f\"--- {df_name} ---\")\n",
    "#    print(f\"Female: {female_pct:.2f}%\")\n",
    "#    print(f\"Non-German: {non_german_pct:.2f}%\")\n",
    "#    print(f\"Non-German Male: {non_german_male_pct:.2f}%\")\n",
    "#    print(f\"Non-German Female: {non_german_female_pct:.2f}%\\n\")\n",
    "#\n",
    "## Calculate for each DataFrame\n",
    "#calculate_percentages(siab_calib, \"siab_calib\")\n",
    "#calculate_percentages(siab_test, \"siab_test\")\n",
    "#calculate_percentages(siab_train, \"siab_train\")"
   ]
  },
  {
   "cell_type": "markdown",
   "id": "0a4a1b33",
   "metadata": {
    "papermill": {
     "duration": 0.022047,
     "end_time": "2025-07-30T21:15:51.080270",
     "exception": false,
     "start_time": "2025-07-30T21:15:51.058223",
     "status": "completed"
    },
    "tags": []
   },
   "source": [
    "# Preprocessing Data"
   ]
  },
  {
   "cell_type": "code",
   "execution_count": 29,
   "id": "ca879031",
   "metadata": {
    "execution": {
     "iopub.execute_input": "2025-07-30T21:15:51.125579Z",
     "iopub.status.busy": "2025-07-30T21:15:51.124933Z",
     "iopub.status.idle": "2025-07-30T21:15:51.131027Z",
     "shell.execute_reply": "2025-07-30T21:15:51.130035Z"
    },
    "papermill": {
     "duration": 0.030389,
     "end_time": "2025-07-30T21:15:51.132696",
     "exception": false,
     "start_time": "2025-07-30T21:15:51.102307",
     "status": "completed"
    },
    "tags": []
   },
   "outputs": [],
   "source": [
    "# EXCLUDE PROTECTED FEATURES\n",
    "# ----------------------\n",
    "# \"exclude_features\": \"none\", # \"nationality\", \"sex\", \"nationality-sex\"\n",
    "\n",
    "excluded_features = universe[\"exclude_features\"].split(\"-\") # split, e.g.: \"nationality-sex\" -> [\"nationality\", \"sex\"]\n",
    "excluded_features_dictionary = {\n",
    "    \"nationality\": [\"maxdeutsch1\", \"maxdeutsch.Missing.\"],\n",
    "    \"sex\": [\"frau1\"],\n",
    "    \"age\": [\"age\"],\n",
    "}\n"
   ]
  },
  {
   "cell_type": "code",
   "execution_count": 30,
   "id": "b745ac60",
   "metadata": {
    "execution": {
     "iopub.execute_input": "2025-07-30T21:15:51.175965Z",
     "iopub.status.busy": "2025-07-30T21:15:51.175462Z",
     "iopub.status.idle": "2025-07-30T21:15:51.181073Z",
     "shell.execute_reply": "2025-07-30T21:15:51.180025Z"
    },
    "papermill": {
     "duration": 0.028367,
     "end_time": "2025-07-30T21:15:51.182721",
     "exception": false,
     "start_time": "2025-07-30T21:15:51.154354",
     "status": "completed"
    },
    "tags": []
   },
   "outputs": [],
   "source": [
    "# Code nice names to column names\n",
    "\n",
    "excluded_features_columns = [\n",
    "    excluded_features_dictionary[f] for f in excluded_features if len(f) > 0 and f != \"none\"\n",
    "]"
   ]
  },
  {
   "cell_type": "code",
   "execution_count": 31,
   "id": "f84f73a2",
   "metadata": {
    "execution": {
     "iopub.execute_input": "2025-07-30T21:15:51.227033Z",
     "iopub.status.busy": "2025-07-30T21:15:51.226211Z",
     "iopub.status.idle": "2025-07-30T21:15:51.233002Z",
     "shell.execute_reply": "2025-07-30T21:15:51.232085Z"
    },
    "papermill": {
     "duration": 0.030484,
     "end_time": "2025-07-30T21:15:51.234581",
     "exception": false,
     "start_time": "2025-07-30T21:15:51.204097",
     "status": "completed"
    },
    "tags": []
   },
   "outputs": [],
   "source": [
    "from utils import flatten_once\n",
    "\n",
    "excluded_features_columns = flatten_once(excluded_features_columns)"
   ]
  },
  {
   "cell_type": "code",
   "execution_count": 32,
   "id": "884dea22",
   "metadata": {
    "execution": {
     "iopub.execute_input": "2025-07-30T21:15:51.290981Z",
     "iopub.status.busy": "2025-07-30T21:15:51.290488Z",
     "iopub.status.idle": "2025-07-30T21:15:51.313118Z",
     "shell.execute_reply": "2025-07-30T21:15:51.299162Z"
    },
    "papermill": {
     "duration": 0.045162,
     "end_time": "2025-07-30T21:15:51.314731",
     "exception": false,
     "start_time": "2025-07-30T21:15:51.269569",
     "status": "completed"
    },
    "tags": []
   },
   "outputs": [
    {
     "name": "stdout",
     "output_type": "stream",
     "text": [
      "Dropping features: ['frau1']\n"
     ]
    }
   ],
   "source": [
    "if len(excluded_features_columns) > 0:\n",
    "    print(f\"Dropping features: {excluded_features_columns}\")\n",
    "    X_train.drop(excluded_features_columns, axis=1, inplace=True)"
   ]
  },
  {
   "cell_type": "code",
   "execution_count": 33,
   "id": "95ab8b16",
   "metadata": {
    "execution": {
     "iopub.execute_input": "2025-07-30T21:15:51.361075Z",
     "iopub.status.busy": "2025-07-30T21:15:51.360328Z",
     "iopub.status.idle": "2025-07-30T21:15:51.417428Z",
     "shell.execute_reply": "2025-07-30T21:15:51.416444Z"
    },
    "papermill": {
     "duration": 0.083929,
     "end_time": "2025-07-30T21:15:51.419927",
     "exception": false,
     "start_time": "2025-07-30T21:15:51.335998",
     "status": "completed"
    },
    "tags": []
   },
   "outputs": [
    {
     "name": "stdout",
     "output_type": "stream",
     "text": [
      "Dropping features: ['frau1']\n"
     ]
    }
   ],
   "source": [
    "if len(excluded_features_columns) > 0:\n",
    "    print(f\"Dropping features: {excluded_features_columns}\")\n",
    "    X_test.drop(excluded_features_columns, axis=1, inplace=True)"
   ]
  },
  {
   "cell_type": "code",
   "execution_count": 34,
   "id": "1853aaf5-fb9f-46cb-a2b5-8ea4ae2237e4",
   "metadata": {
    "execution": {
     "iopub.execute_input": "2025-07-30T21:15:51.470160Z",
     "iopub.status.busy": "2025-07-30T21:15:51.469775Z",
     "iopub.status.idle": "2025-07-30T21:15:51.523066Z",
     "shell.execute_reply": "2025-07-30T21:15:51.522245Z"
    },
    "papermill": {
     "duration": 0.080916,
     "end_time": "2025-07-30T21:15:51.524609",
     "exception": false,
     "start_time": "2025-07-30T21:15:51.443693",
     "status": "completed"
    },
    "tags": []
   },
   "outputs": [
    {
     "name": "stdout",
     "output_type": "stream",
     "text": [
      "Dropping features: ['frau1']\n"
     ]
    }
   ],
   "source": [
    "if len(excluded_features_columns) > 0:\n",
    "    print(f\"Dropping features: {excluded_features_columns}\")\n",
    "    X_calib.drop(excluded_features_columns, axis=1, inplace=True)"
   ]
  },
  {
   "cell_type": "code",
   "execution_count": 35,
   "id": "6727d079-03e5-481e-9d38-292a90b7a0a8",
   "metadata": {
    "execution": {
     "iopub.execute_input": "2025-07-30T21:15:51.582749Z",
     "iopub.status.busy": "2025-07-30T21:15:51.581932Z",
     "iopub.status.idle": "2025-07-30T21:15:51.586920Z",
     "shell.execute_reply": "2025-07-30T21:15:51.585924Z"
    },
    "papermill": {
     "duration": 0.030885,
     "end_time": "2025-07-30T21:15:51.588537",
     "exception": false,
     "start_time": "2025-07-30T21:15:51.557652",
     "status": "completed"
    },
    "tags": []
   },
   "outputs": [],
   "source": [
    "# SPLIT & STRATIFY DATA\n",
    "# ----------------------"
   ]
  },
  {
   "cell_type": "code",
   "execution_count": 36,
   "id": "76c4dc6d",
   "metadata": {
    "execution": {
     "iopub.execute_input": "2025-07-30T21:15:51.640617Z",
     "iopub.status.busy": "2025-07-30T21:15:51.639690Z",
     "iopub.status.idle": "2025-07-30T21:15:51.644885Z",
     "shell.execute_reply": "2025-07-30T21:15:51.644151Z"
    },
    "papermill": {
     "duration": 0.032209,
     "end_time": "2025-07-30T21:15:51.646340",
     "exception": false,
     "start_time": "2025-07-30T21:15:51.614131",
     "status": "completed"
    },
    "tags": []
   },
   "outputs": [],
   "source": [
    "# EXCLUDE CERTAIN SUBGROUPS\n",
    "# ----------------------\n",
    "\n",
    "mode = universe.get(\"exclude_subgroups\", \"keep-all\") \n",
    "# Fetches the exclude_subgroups setting from the universe dict.\n",
    "# Defaults to \"keep-all\" if the key is missing."
   ]
  },
  {
   "cell_type": "code",
   "execution_count": 37,
   "id": "21994072",
   "metadata": {
    "execution": {
     "iopub.execute_input": "2025-07-30T21:15:51.681325Z",
     "iopub.status.busy": "2025-07-30T21:15:51.680602Z",
     "iopub.status.idle": "2025-07-30T21:15:51.686493Z",
     "shell.execute_reply": "2025-07-30T21:15:51.685745Z"
    },
    "papermill": {
     "duration": 0.022129,
     "end_time": "2025-07-30T21:15:51.687966",
     "exception": false,
     "start_time": "2025-07-30T21:15:51.665837",
     "status": "completed"
    },
    "tags": []
   },
   "outputs": [],
   "source": [
    "if mode == \"keep-all\":\n",
    "    keep_mask = pd.Series(True, index=org_train.index)\n",
    "\n",
    "# org_train contains the original feature columns from features_org (in Simson)\n",
    "# features_org contains unprocessed features, for me X_train at beginning ???\n",
    "# For keep-all, creates a boolean Series (keep_mask) of all True, so no rows are removed.\n",
    "\n",
    "elif mode == \"drop-non-german\":\n",
    "    keep_mask = org_train[\"maxdeutsch1\"] == 1 # ??? what about missing values?\n",
    "\n",
    "else:\n",
    "    raise ValueError(f\"Unsupported mode for exclude_subgroups: {mode}\")\n"
   ]
  },
  {
   "cell_type": "code",
   "execution_count": 38,
   "id": "71651440",
   "metadata": {
    "execution": {
     "iopub.execute_input": "2025-07-30T21:15:51.715845Z",
     "iopub.status.busy": "2025-07-30T21:15:51.715329Z",
     "iopub.status.idle": "2025-07-30T21:15:51.722038Z",
     "shell.execute_reply": "2025-07-30T21:15:51.721273Z"
    },
    "papermill": {
     "duration": 0.022647,
     "end_time": "2025-07-30T21:15:51.723522",
     "exception": false,
     "start_time": "2025-07-30T21:15:51.700875",
     "status": "completed"
    },
    "tags": []
   },
   "outputs": [
    {
     "name": "stdout",
     "output_type": "stream",
     "text": [
      "Dropping 657 rows (13.14%) where mode='drop-non-german'\n"
     ]
    }
   ],
   "source": [
    "n_drop = (~keep_mask).sum() # Calculates how many rows are set to be dropped\n",
    "if n_drop > 0:\n",
    "    pct = n_drop / len(keep_mask) * 100\n",
    "    print(f\"Dropping {n_drop} rows ({pct:.2f}%) where mode='{mode}'\")"
   ]
  },
  {
   "cell_type": "code",
   "execution_count": 39,
   "id": "5fb8eee5",
   "metadata": {
    "execution": {
     "iopub.execute_input": "2025-07-30T21:15:51.762261Z",
     "iopub.status.busy": "2025-07-30T21:15:51.761828Z",
     "iopub.status.idle": "2025-07-30T21:15:51.769750Z",
     "shell.execute_reply": "2025-07-30T21:15:51.768690Z"
    },
    "papermill": {
     "duration": 0.031051,
     "end_time": "2025-07-30T21:15:51.771219",
     "exception": false,
     "start_time": "2025-07-30T21:15:51.740168",
     "status": "completed"
    },
    "tags": []
   },
   "outputs": [],
   "source": [
    "X_train = X_train[keep_mask]"
   ]
  },
  {
   "cell_type": "code",
   "execution_count": 40,
   "id": "b202bb3a",
   "metadata": {
    "execution": {
     "iopub.execute_input": "2025-07-30T21:15:51.808054Z",
     "iopub.status.busy": "2025-07-30T21:15:51.807528Z",
     "iopub.status.idle": "2025-07-30T21:15:51.813966Z",
     "shell.execute_reply": "2025-07-30T21:15:51.812730Z"
    },
    "papermill": {
     "duration": 0.032037,
     "end_time": "2025-07-30T21:15:51.816143",
     "exception": false,
     "start_time": "2025-07-30T21:15:51.784106",
     "status": "completed"
    },
    "tags": []
   },
   "outputs": [],
   "source": [
    "y_train = y_train[keep_mask]"
   ]
  },
  {
   "cell_type": "markdown",
   "id": "493e2ac3",
   "metadata": {
    "papermill": {
     "duration": 0.026177,
     "end_time": "2025-07-30T21:15:51.867832",
     "exception": false,
     "start_time": "2025-07-30T21:15:51.841655",
     "status": "completed"
    },
    "tags": []
   },
   "source": [
    "# Model Training"
   ]
  },
  {
   "cell_type": "code",
   "execution_count": 41,
   "id": "679e1268",
   "metadata": {
    "execution": {
     "iopub.execute_input": "2025-07-30T21:15:51.914419Z",
     "iopub.status.busy": "2025-07-30T21:15:51.913882Z",
     "iopub.status.idle": "2025-07-30T21:15:52.041815Z",
     "shell.execute_reply": "2025-07-30T21:15:52.040405Z"
    },
    "papermill": {
     "duration": 0.152802,
     "end_time": "2025-07-30T21:15:52.043855",
     "exception": false,
     "start_time": "2025-07-30T21:15:51.891053",
     "status": "completed"
    },
    "tags": []
   },
   "outputs": [],
   "source": [
    "from sklearn.linear_model import LogisticRegression\n",
    "from sklearn.ensemble import GradientBoostingClassifier, RandomForestClassifier\n",
    "\n",
    "if (universe[\"model\"] == \"logreg\"):\n",
    "    model = LogisticRegression() #penalty=\"none\") #, solver=\"newton-cg\", max_iter=1) # include random_state=19 ?\n",
    "elif (universe[\"model\"] == \"penalized_logreg\"):\n",
    "    model = LogisticRegression(penalty=\"l2\", C=1.0) #, solver=\"newton-cg\", max_iter=1)\n",
    "elif (universe[\"model\"] == \"rf\"):\n",
    "    model = RandomForestClassifier(n_estimators=100, n_jobs=-1)\n",
    "elif (universe[\"model\"] == \"gbm\"):\n",
    "    model = GradientBoostingClassifier()\n",
    "elif (universe[\"model\"] == \"elasticnet\"):\n",
    "    model = LogisticRegression(penalty = 'elasticnet', solver = 'saga', l1_ratio = 0.5, max_iter=5000) # which solver to use?\n",
    "else:\n",
    "    raise \"Unsupported universe.model\""
   ]
  },
  {
   "cell_type": "code",
   "execution_count": 42,
   "id": "0cc8f744",
   "metadata": {
    "execution": {
     "iopub.execute_input": "2025-07-30T21:15:52.114423Z",
     "iopub.status.busy": "2025-07-30T21:15:52.113595Z",
     "iopub.status.idle": "2025-07-30T21:15:52.121927Z",
     "shell.execute_reply": "2025-07-30T21:15:52.120992Z"
    },
    "papermill": {
     "duration": 0.045678,
     "end_time": "2025-07-30T21:15:52.123331",
     "exception": false,
     "start_time": "2025-07-30T21:15:52.077653",
     "status": "completed"
    },
    "tags": []
   },
   "outputs": [],
   "source": [
    "import numpy as np\n",
    "from sklearn.pipeline import Pipeline\n",
    "from sklearn.preprocessing import StandardScaler\n",
    "\n",
    "model = Pipeline([\n",
    "    #(\"continuous_processor\", continuous_processor),\n",
    "    #(\"categorical_preprocessor\", categorical_preprocessor),\n",
    "    (\"scale\", StandardScaler() if universe[\"scale\"] == \"scale\" else None), \n",
    "    (\"model\", model),\n",
    "])"
   ]
  },
  {
   "cell_type": "code",
   "execution_count": 43,
   "id": "9442c04d",
   "metadata": {
    "execution": {
     "iopub.execute_input": "2025-07-30T21:15:52.177681Z",
     "iopub.status.busy": "2025-07-30T21:15:52.176665Z",
     "iopub.status.idle": "2025-07-30T21:15:52.357822Z",
     "shell.execute_reply": "2025-07-30T21:15:52.357031Z"
    },
    "papermill": {
     "duration": 0.209447,
     "end_time": "2025-07-30T21:15:52.359441",
     "exception": false,
     "start_time": "2025-07-30T21:15:52.149994",
     "status": "completed"
    },
    "tags": []
   },
   "outputs": [
    {
     "name": "stderr",
     "output_type": "stream",
     "text": [
      "/dss/dsshome1/0C/ra93lal2/.local/share/virtualenvs/CMA_Fairness_v2-3j10GkSs/lib/python3.10/site-packages/sklearn/linear_model/_logistic.py:444: ConvergenceWarning: lbfgs failed to converge (status=1):\n",
      "STOP: TOTAL NO. of ITERATIONS REACHED LIMIT.\n",
      "\n",
      "Increase the number of iterations (max_iter) or scale the data as shown in:\n",
      "    https://scikit-learn.org/stable/modules/preprocessing.html\n",
      "Please also refer to the documentation for alternative solver options:\n",
      "    https://scikit-learn.org/stable/modules/linear_model.html#logistic-regression\n",
      "  n_iter_i = _check_optimize_result(\n"
     ]
    },
    {
     "data": {
      "text/html": [
       "<style>#sk-container-id-1 {color: black;background-color: white;}#sk-container-id-1 pre{padding: 0;}#sk-container-id-1 div.sk-toggleable {background-color: white;}#sk-container-id-1 label.sk-toggleable__label {cursor: pointer;display: block;width: 100%;margin-bottom: 0;padding: 0.3em;box-sizing: border-box;text-align: center;}#sk-container-id-1 label.sk-toggleable__label-arrow:before {content: \"▸\";float: left;margin-right: 0.25em;color: #696969;}#sk-container-id-1 label.sk-toggleable__label-arrow:hover:before {color: black;}#sk-container-id-1 div.sk-estimator:hover label.sk-toggleable__label-arrow:before {color: black;}#sk-container-id-1 div.sk-toggleable__content {max-height: 0;max-width: 0;overflow: hidden;text-align: left;background-color: #f0f8ff;}#sk-container-id-1 div.sk-toggleable__content pre {margin: 0.2em;color: black;border-radius: 0.25em;background-color: #f0f8ff;}#sk-container-id-1 input.sk-toggleable__control:checked~div.sk-toggleable__content {max-height: 200px;max-width: 100%;overflow: auto;}#sk-container-id-1 input.sk-toggleable__control:checked~label.sk-toggleable__label-arrow:before {content: \"▾\";}#sk-container-id-1 div.sk-estimator input.sk-toggleable__control:checked~label.sk-toggleable__label {background-color: #d4ebff;}#sk-container-id-1 div.sk-label input.sk-toggleable__control:checked~label.sk-toggleable__label {background-color: #d4ebff;}#sk-container-id-1 input.sk-hidden--visually {border: 0;clip: rect(1px 1px 1px 1px);clip: rect(1px, 1px, 1px, 1px);height: 1px;margin: -1px;overflow: hidden;padding: 0;position: absolute;width: 1px;}#sk-container-id-1 div.sk-estimator {font-family: monospace;background-color: #f0f8ff;border: 1px dotted black;border-radius: 0.25em;box-sizing: border-box;margin-bottom: 0.5em;}#sk-container-id-1 div.sk-estimator:hover {background-color: #d4ebff;}#sk-container-id-1 div.sk-parallel-item::after {content: \"\";width: 100%;border-bottom: 1px solid gray;flex-grow: 1;}#sk-container-id-1 div.sk-label:hover label.sk-toggleable__label {background-color: #d4ebff;}#sk-container-id-1 div.sk-serial::before {content: \"\";position: absolute;border-left: 1px solid gray;box-sizing: border-box;top: 0;bottom: 0;left: 50%;z-index: 0;}#sk-container-id-1 div.sk-serial {display: flex;flex-direction: column;align-items: center;background-color: white;padding-right: 0.2em;padding-left: 0.2em;position: relative;}#sk-container-id-1 div.sk-item {position: relative;z-index: 1;}#sk-container-id-1 div.sk-parallel {display: flex;align-items: stretch;justify-content: center;background-color: white;position: relative;}#sk-container-id-1 div.sk-item::before, #sk-container-id-1 div.sk-parallel-item::before {content: \"\";position: absolute;border-left: 1px solid gray;box-sizing: border-box;top: 0;bottom: 0;left: 50%;z-index: -1;}#sk-container-id-1 div.sk-parallel-item {display: flex;flex-direction: column;z-index: 1;position: relative;background-color: white;}#sk-container-id-1 div.sk-parallel-item:first-child::after {align-self: flex-end;width: 50%;}#sk-container-id-1 div.sk-parallel-item:last-child::after {align-self: flex-start;width: 50%;}#sk-container-id-1 div.sk-parallel-item:only-child::after {width: 0;}#sk-container-id-1 div.sk-dashed-wrapped {border: 1px dashed gray;margin: 0 0.4em 0.5em 0.4em;box-sizing: border-box;padding-bottom: 0.4em;background-color: white;}#sk-container-id-1 div.sk-label label {font-family: monospace;font-weight: bold;display: inline-block;line-height: 1.2em;}#sk-container-id-1 div.sk-label-container {text-align: center;}#sk-container-id-1 div.sk-container {/* jupyter's `normalize.less` sets `[hidden] { display: none; }` but bootstrap.min.css set `[hidden] { display: none !important; }` so we also need the `!important` here to be able to override the default hidden behavior on the sphinx rendered scikit-learn.org. See: https://github.com/scikit-learn/scikit-learn/issues/21755 */display: inline-block !important;position: relative;}#sk-container-id-1 div.sk-text-repr-fallback {display: none;}</style><div id=\"sk-container-id-1\" class=\"sk-top-container\"><div class=\"sk-text-repr-fallback\"><pre>Pipeline(steps=[(&#x27;scale&#x27;, None), (&#x27;model&#x27;, LogisticRegression())])</pre><b>In a Jupyter environment, please rerun this cell to show the HTML representation or trust the notebook. <br />On GitHub, the HTML representation is unable to render, please try loading this page with nbviewer.org.</b></div><div class=\"sk-container\" hidden><div class=\"sk-item sk-dashed-wrapped\"><div class=\"sk-label-container\"><div class=\"sk-label sk-toggleable\"><input class=\"sk-toggleable__control sk-hidden--visually\" id=\"sk-estimator-id-1\" type=\"checkbox\" ><label for=\"sk-estimator-id-1\" class=\"sk-toggleable__label sk-toggleable__label-arrow\">Pipeline</label><div class=\"sk-toggleable__content\"><pre>Pipeline(steps=[(&#x27;scale&#x27;, None), (&#x27;model&#x27;, LogisticRegression())])</pre></div></div></div><div class=\"sk-serial\"><div class=\"sk-item\"><div class=\"sk-estimator sk-toggleable\"><input class=\"sk-toggleable__control sk-hidden--visually\" id=\"sk-estimator-id-2\" type=\"checkbox\" ><label for=\"sk-estimator-id-2\" class=\"sk-toggleable__label sk-toggleable__label-arrow\">None</label><div class=\"sk-toggleable__content\"><pre>None</pre></div></div></div><div class=\"sk-item\"><div class=\"sk-estimator sk-toggleable\"><input class=\"sk-toggleable__control sk-hidden--visually\" id=\"sk-estimator-id-3\" type=\"checkbox\" ><label for=\"sk-estimator-id-3\" class=\"sk-toggleable__label sk-toggleable__label-arrow\">LogisticRegression</label><div class=\"sk-toggleable__content\"><pre>LogisticRegression()</pre></div></div></div></div></div></div></div>"
      ],
      "text/plain": [
       "Pipeline(steps=[('scale', None), ('model', LogisticRegression())])"
      ]
     },
     "execution_count": 43,
     "metadata": {},
     "output_type": "execute_result"
    }
   ],
   "source": [
    "model.fit(X_train, y_train.values.ravel())"
   ]
  },
  {
   "cell_type": "code",
   "execution_count": 44,
   "id": "af59f8c0",
   "metadata": {
    "execution": {
     "iopub.execute_input": "2025-07-30T21:15:52.437955Z",
     "iopub.status.busy": "2025-07-30T21:15:52.435982Z",
     "iopub.status.idle": "2025-07-30T21:15:52.444156Z",
     "shell.execute_reply": "2025-07-30T21:15:52.442981Z"
    },
    "papermill": {
     "duration": 0.065871,
     "end_time": "2025-07-30T21:15:52.446671",
     "exception": false,
     "start_time": "2025-07-30T21:15:52.380800",
     "status": "completed"
    },
    "tags": []
   },
   "outputs": [],
   "source": [
    "from fairness_multiverse.universe import predict_w_threshold"
   ]
  },
  {
   "cell_type": "code",
   "execution_count": 45,
   "id": "a7cf2e16",
   "metadata": {
    "execution": {
     "iopub.execute_input": "2025-07-30T21:15:52.513818Z",
     "iopub.status.busy": "2025-07-30T21:15:52.513356Z",
     "iopub.status.idle": "2025-07-30T21:15:52.606735Z",
     "shell.execute_reply": "2025-07-30T21:15:52.605893Z"
    },
    "papermill": {
     "duration": 0.127945,
     "end_time": "2025-07-30T21:15:52.608399",
     "exception": false,
     "start_time": "2025-07-30T21:15:52.480454",
     "status": "completed"
    },
    "tags": []
   },
   "outputs": [
    {
     "data": {
      "text/plain": [
       "0.8591461375543418"
      ]
     },
     "execution_count": 45,
     "metadata": {},
     "output_type": "execute_result"
    }
   ],
   "source": [
    "probs_test = model.predict_proba(X_test)\n",
    "\n",
    "'''\n",
    "Below code returns a boolean array (or binary 0/1 array depending on how it’s used) where each element \n",
    "is True if the probability of class 1 is greater than or equal to the threshold, and False otherwise.\n",
    "'''\n",
    "y_pred_default = predict_w_threshold(probs_test, 0.5)\n",
    "\n",
    "from sklearn.metrics import accuracy_score\n",
    "\n",
    "# Naive prediction\n",
    "accuracy_score(y_true = y_true, y_pred = y_pred_default)"
   ]
  },
  {
   "cell_type": "code",
   "execution_count": 46,
   "id": "081964c3",
   "metadata": {
    "execution": {
     "iopub.execute_input": "2025-07-30T21:15:52.655481Z",
     "iopub.status.busy": "2025-07-30T21:15:52.654831Z",
     "iopub.status.idle": "2025-07-30T21:15:52.749751Z",
     "shell.execute_reply": "2025-07-30T21:15:52.748797Z"
    },
    "papermill": {
     "duration": 0.120343,
     "end_time": "2025-07-30T21:15:52.751366",
     "exception": false,
     "start_time": "2025-07-30T21:15:52.631023",
     "status": "completed"
    },
    "tags": []
   },
   "outputs": [
    {
     "data": {
      "text/plain": [
       "array([0, 0, 0, ..., 0, 0, 0])"
      ]
     },
     "execution_count": 46,
     "metadata": {},
     "output_type": "execute_result"
    }
   ],
   "source": [
    "model.predict(X_test)"
   ]
  },
  {
   "cell_type": "markdown",
   "id": "56c9705b",
   "metadata": {
    "papermill": {
     "duration": 0.024456,
     "end_time": "2025-07-30T21:15:52.799059",
     "exception": false,
     "start_time": "2025-07-30T21:15:52.774603",
     "status": "completed"
    },
    "tags": []
   },
   "source": [
    "# Conformal Prediction"
   ]
  },
  {
   "cell_type": "code",
   "execution_count": 47,
   "id": "160ec6ff",
   "metadata": {
    "execution": {
     "iopub.execute_input": "2025-07-30T21:15:52.845878Z",
     "iopub.status.busy": "2025-07-30T21:15:52.845340Z",
     "iopub.status.idle": "2025-07-30T21:15:52.850649Z",
     "shell.execute_reply": "2025-07-30T21:15:52.849535Z"
    },
    "papermill": {
     "duration": 0.030675,
     "end_time": "2025-07-30T21:15:52.852594",
     "exception": false,
     "start_time": "2025-07-30T21:15:52.821919",
     "status": "completed"
    },
    "tags": []
   },
   "outputs": [],
   "source": [
    "# Miscoverage level for conformal prediction (10% allowed error rate => 90% target coverage)\n",
    "alpha = 0.1"
   ]
  },
  {
   "cell_type": "code",
   "execution_count": 48,
   "id": "eadf4555-3dd3-440e-8e35-f82a4ad9f855",
   "metadata": {
    "execution": {
     "iopub.execute_input": "2025-07-30T21:15:52.901223Z",
     "iopub.status.busy": "2025-07-30T21:15:52.900267Z",
     "iopub.status.idle": "2025-07-30T21:15:52.985294Z",
     "shell.execute_reply": "2025-07-30T21:15:52.984338Z"
    },
    "papermill": {
     "duration": 0.110406,
     "end_time": "2025-07-30T21:15:52.987194",
     "exception": false,
     "start_time": "2025-07-30T21:15:52.876788",
     "status": "completed"
    },
    "tags": []
   },
   "outputs": [],
   "source": [
    "probs_calib = model.predict_proba(X_calib)"
   ]
  },
  {
   "cell_type": "code",
   "execution_count": 49,
   "id": "2ed93547-6d5d-4983-9b36-1ecb300da49a",
   "metadata": {
    "execution": {
     "iopub.execute_input": "2025-07-30T21:15:53.036361Z",
     "iopub.status.busy": "2025-07-30T21:15:53.035628Z",
     "iopub.status.idle": "2025-07-30T21:15:53.041448Z",
     "shell.execute_reply": "2025-07-30T21:15:53.040554Z"
    },
    "papermill": {
     "duration": 0.032172,
     "end_time": "2025-07-30T21:15:53.043153",
     "exception": false,
     "start_time": "2025-07-30T21:15:53.010981",
     "status": "completed"
    },
    "tags": []
   },
   "outputs": [],
   "source": [
    "y_calib = y_calib.values.ravel().astype(int)"
   ]
  },
  {
   "cell_type": "code",
   "execution_count": 50,
   "id": "65d1320d-f588-4b38-9072-62af1ae97f7d",
   "metadata": {
    "execution": {
     "iopub.execute_input": "2025-07-30T21:15:53.100331Z",
     "iopub.status.busy": "2025-07-30T21:15:53.099631Z",
     "iopub.status.idle": "2025-07-30T21:15:53.107549Z",
     "shell.execute_reply": "2025-07-30T21:15:53.106481Z"
    },
    "papermill": {
     "duration": 0.039245,
     "end_time": "2025-07-30T21:15:53.109719",
     "exception": false,
     "start_time": "2025-07-30T21:15:53.070474",
     "status": "completed"
    },
    "tags": []
   },
   "outputs": [],
   "source": [
    "from fairness_multiverse.conformal import compute_nc_scores\n",
    "\n",
    "# Compute nonconformity scores on calibration set (1 - probability of true class)\n",
    "nc_scores = compute_nc_scores(probs_calib, y_calib)"
   ]
  },
  {
   "cell_type": "code",
   "execution_count": 51,
   "id": "df3b8ca3-53b7-43d5-9667-7c85da7aeda2",
   "metadata": {
    "execution": {
     "iopub.execute_input": "2025-07-30T21:15:53.174023Z",
     "iopub.status.busy": "2025-07-30T21:15:53.173381Z",
     "iopub.status.idle": "2025-07-30T21:15:53.180163Z",
     "shell.execute_reply": "2025-07-30T21:15:53.179116Z"
    },
    "papermill": {
     "duration": 0.038941,
     "end_time": "2025-07-30T21:15:53.181926",
     "exception": false,
     "start_time": "2025-07-30T21:15:53.142985",
     "status": "completed"
    },
    "tags": []
   },
   "outputs": [],
   "source": [
    "from fairness_multiverse.conformal import find_threshold\n",
    "\n",
    "# Find conformal threshold q_hat for the given alpha (split conformal method)\n",
    "q_hat = find_threshold(nc_scores, alpha)"
   ]
  },
  {
   "cell_type": "code",
   "execution_count": 52,
   "id": "4d29e6c1-0ef6-4aa4-b8fe-4fe79b0d033a",
   "metadata": {
    "execution": {
     "iopub.execute_input": "2025-07-30T21:15:53.230422Z",
     "iopub.status.busy": "2025-07-30T21:15:53.229493Z",
     "iopub.status.idle": "2025-07-30T21:15:53.237062Z",
     "shell.execute_reply": "2025-07-30T21:15:53.235942Z"
    },
    "papermill": {
     "duration": 0.033593,
     "end_time": "2025-07-30T21:15:53.239155",
     "exception": false,
     "start_time": "2025-07-30T21:15:53.205562",
     "status": "completed"
    },
    "tags": []
   },
   "outputs": [
    {
     "data": {
      "text/plain": [
       "0.6696127534846553"
      ]
     },
     "execution_count": 52,
     "metadata": {},
     "output_type": "execute_result"
    }
   ],
   "source": [
    "q_hat"
   ]
  },
  {
   "cell_type": "code",
   "execution_count": 53,
   "id": "92460794-cdac-4be2-ba28-f28c0515a6fb",
   "metadata": {
    "execution": {
     "iopub.execute_input": "2025-07-30T21:15:53.310108Z",
     "iopub.status.busy": "2025-07-30T21:15:53.309602Z",
     "iopub.status.idle": "2025-07-30T21:15:54.155234Z",
     "shell.execute_reply": "2025-07-30T21:15:54.154407Z"
    },
    "papermill": {
     "duration": 0.871892,
     "end_time": "2025-07-30T21:15:54.156867",
     "exception": false,
     "start_time": "2025-07-30T21:15:53.284975",
     "status": "completed"
    },
    "tags": []
   },
   "outputs": [],
   "source": [
    "from fairness_multiverse.conformal import predict_conformal_sets\n",
    "\n",
    "# Generate prediction sets for each test example\n",
    "pred_sets = predict_conformal_sets(model, X_test, q_hat)"
   ]
  },
  {
   "cell_type": "code",
   "execution_count": 54,
   "id": "d90c9a65-e6db-4f5d-80cd-e68fb7e46829",
   "metadata": {
    "execution": {
     "iopub.execute_input": "2025-07-30T21:15:54.184876Z",
     "iopub.status.busy": "2025-07-30T21:15:54.184259Z",
     "iopub.status.idle": "2025-07-30T21:15:54.191646Z",
     "shell.execute_reply": "2025-07-30T21:15:54.190623Z"
    },
    "papermill": {
     "duration": 0.022814,
     "end_time": "2025-07-30T21:15:54.193412",
     "exception": false,
     "start_time": "2025-07-30T21:15:54.170598",
     "status": "completed"
    },
    "tags": []
   },
   "outputs": [],
   "source": [
    "y_true = y_true.squeeze()"
   ]
  },
  {
   "cell_type": "code",
   "execution_count": 55,
   "id": "3a58a54a-1e68-46b9-927a-df01f18aebc8",
   "metadata": {
    "execution": {
     "iopub.execute_input": "2025-07-30T21:15:54.254687Z",
     "iopub.status.busy": "2025-07-30T21:15:54.254231Z",
     "iopub.status.idle": "2025-07-30T21:15:55.018923Z",
     "shell.execute_reply": "2025-07-30T21:15:55.018171Z"
    },
    "papermill": {
     "duration": 0.797183,
     "end_time": "2025-07-30T21:15:55.021041",
     "exception": false,
     "start_time": "2025-07-30T21:15:54.223858",
     "status": "completed"
    },
    "tags": []
   },
   "outputs": [],
   "source": [
    "from fairness_multiverse.conformal import evaluate_sets\n",
    "\n",
    "# Evaluate coverage and average set size on test data\n",
    "metrics = evaluate_sets(pred_sets, y_true)"
   ]
  },
  {
   "cell_type": "markdown",
   "id": "2b569c12-9aaa-4c88-98c9-bbcd0cf3ebb8",
   "metadata": {
    "papermill": {
     "duration": 0.013002,
     "end_time": "2025-07-30T21:15:55.062638",
     "exception": false,
     "start_time": "2025-07-30T21:15:55.049636",
     "status": "completed"
    },
    "tags": []
   },
   "source": [
    "# CP Metrics"
   ]
  },
  {
   "cell_type": "code",
   "execution_count": 56,
   "id": "5ce0a5cb-201f-45a0-ade5-94c7f0bd6095",
   "metadata": {
    "execution": {
     "iopub.execute_input": "2025-07-30T21:15:55.089204Z",
     "iopub.status.busy": "2025-07-30T21:15:55.088776Z",
     "iopub.status.idle": "2025-07-30T21:15:55.095754Z",
     "shell.execute_reply": "2025-07-30T21:15:55.094860Z"
    },
    "papermill": {
     "duration": 0.023977,
     "end_time": "2025-07-30T21:15:55.098934",
     "exception": false,
     "start_time": "2025-07-30T21:15:55.074957",
     "status": "completed"
    },
    "tags": []
   },
   "outputs": [
    {
     "data": {
      "text/plain": [
       "{'coverage': 0.9123732025415227, 'avg_size': 1.2146583435514435}"
      ]
     },
     "execution_count": 56,
     "metadata": {},
     "output_type": "execute_result"
    }
   ],
   "source": [
    "metrics"
   ]
  },
  {
   "cell_type": "code",
   "execution_count": 57,
   "id": "9b9a838d-31c9-430b-ae14-12baee460d17",
   "metadata": {
    "execution": {
     "iopub.execute_input": "2025-07-30T21:15:55.154203Z",
     "iopub.status.busy": "2025-07-30T21:15:55.153708Z",
     "iopub.status.idle": "2025-07-30T21:15:55.161582Z",
     "shell.execute_reply": "2025-07-30T21:15:55.160198Z"
    },
    "papermill": {
     "duration": 0.036945,
     "end_time": "2025-07-30T21:15:55.163369",
     "exception": false,
     "start_time": "2025-07-30T21:15:55.126424",
     "status": "completed"
    },
    "tags": []
   },
   "outputs": [],
   "source": [
    "example_universe = universe.copy()\n",
    "universe_training_year = example_universe.get(\"training_year\")\n",
    "universe_training_size = example_universe.get(\"training_size\")\n",
    "universe_scale = example_universe.get(\"scale\")\n",
    "universe_model = example_universe.get(\"model\")\n",
    "universe_exclude_features = example_universe.get(\"exclude_features\")\n",
    "universe_exclude_subgroups = example_universe.get(\"exclude_subgroups\")"
   ]
  },
  {
   "cell_type": "code",
   "execution_count": 58,
   "id": "f4b6a8ac-9dc0-4245-8a91-5b3b5999c4f9",
   "metadata": {
    "execution": {
     "iopub.execute_input": "2025-07-30T21:15:55.224636Z",
     "iopub.status.busy": "2025-07-30T21:15:55.223710Z",
     "iopub.status.idle": "2025-07-30T21:15:55.231329Z",
     "shell.execute_reply": "2025-07-30T21:15:55.230292Z"
    },
    "papermill": {
     "duration": 0.039512,
     "end_time": "2025-07-30T21:15:55.233122",
     "exception": false,
     "start_time": "2025-07-30T21:15:55.193610",
     "status": "completed"
    },
    "tags": []
   },
   "outputs": [],
   "source": [
    "cp_metrics_dict = {\n",
    "    \"universe_id\": [universe_id],\n",
    "    \"universe_training_year\": [universe_training_year],\n",
    "    \"universe_training_size\": [universe_training_size],\n",
    "    \"universe_scale\": [universe_scale],\n",
    "    \"universe_model\": [universe_model],\n",
    "    \"universe_exclude_features\": [universe_exclude_features],\n",
    "    \"universe_exclude_subgroups\": [universe_exclude_subgroups],\n",
    "    \"q_hat\": [q_hat],\n",
    "    \"coverage\": [metrics[\"coverage\"]],\n",
    "    \"avg_size\": [metrics[\"avg_size\"]],\n",
    "}"
   ]
  },
  {
   "cell_type": "code",
   "execution_count": 59,
   "id": "908acbb1-0371-4915-85ca-3fa520d2efe2",
   "metadata": {
    "execution": {
     "iopub.execute_input": "2025-07-30T21:15:55.292299Z",
     "iopub.status.busy": "2025-07-30T21:15:55.291129Z",
     "iopub.status.idle": "2025-07-30T21:15:55.426620Z",
     "shell.execute_reply": "2025-07-30T21:15:55.425652Z"
    },
    "papermill": {
     "duration": 0.16716,
     "end_time": "2025-07-30T21:15:55.428448",
     "exception": false,
     "start_time": "2025-07-30T21:15:55.261288",
     "status": "completed"
    },
    "tags": []
   },
   "outputs": [
    {
     "data": {
      "text/plain": [
       "{'universe_id': ['ae345e409b07a31bf75d50daaac6133b'],\n",
       " 'universe_training_year': ['2010_14'],\n",
       " 'universe_training_size': ['5k'],\n",
       " 'universe_scale': ['do-not-scale'],\n",
       " 'universe_model': ['logreg'],\n",
       " 'universe_exclude_features': ['sex'],\n",
       " 'universe_exclude_subgroups': ['drop-non-german'],\n",
       " 'q_hat': [0.6696127534846553],\n",
       " 'coverage': [0.9123732025415227],\n",
       " 'avg_size': [1.2146583435514435]}"
      ]
     },
     "execution_count": 59,
     "metadata": {},
     "output_type": "execute_result"
    }
   ],
   "source": [
    "cp_metrics_dict"
   ]
  },
  {
   "cell_type": "code",
   "execution_count": 60,
   "id": "33007efc-14e9-4ec6-97ac-56a455c82265",
   "metadata": {
    "execution": {
     "iopub.execute_input": "2025-07-30T21:15:55.484592Z",
     "iopub.status.busy": "2025-07-30T21:15:55.484117Z",
     "iopub.status.idle": "2025-07-30T21:15:55.489732Z",
     "shell.execute_reply": "2025-07-30T21:15:55.489052Z"
    },
    "papermill": {
     "duration": 0.035466,
     "end_time": "2025-07-30T21:15:55.491068",
     "exception": false,
     "start_time": "2025-07-30T21:15:55.455602",
     "status": "completed"
    },
    "tags": []
   },
   "outputs": [],
   "source": [
    "cp_metrics_df = pd.DataFrame(cp_metrics_dict)"
   ]
  },
  {
   "cell_type": "code",
   "execution_count": 61,
   "id": "db12611b-57b2-4910-b9d0-355adfd6e7bf",
   "metadata": {
    "execution": {
     "iopub.execute_input": "2025-07-30T21:15:55.520971Z",
     "iopub.status.busy": "2025-07-30T21:15:55.520456Z",
     "iopub.status.idle": "2025-07-30T21:15:55.538440Z",
     "shell.execute_reply": "2025-07-30T21:15:55.537347Z"
    },
    "papermill": {
     "duration": 0.037782,
     "end_time": "2025-07-30T21:15:55.543508",
     "exception": false,
     "start_time": "2025-07-30T21:15:55.505726",
     "status": "completed"
    },
    "tags": []
   },
   "outputs": [
    {
     "data": {
      "text/html": [
       "<div>\n",
       "<style scoped>\n",
       "    .dataframe tbody tr th:only-of-type {\n",
       "        vertical-align: middle;\n",
       "    }\n",
       "\n",
       "    .dataframe tbody tr th {\n",
       "        vertical-align: top;\n",
       "    }\n",
       "\n",
       "    .dataframe thead th {\n",
       "        text-align: right;\n",
       "    }\n",
       "</style>\n",
       "<table border=\"1\" class=\"dataframe\">\n",
       "  <thead>\n",
       "    <tr style=\"text-align: right;\">\n",
       "      <th></th>\n",
       "      <th>universe_id</th>\n",
       "      <th>universe_training_year</th>\n",
       "      <th>universe_training_size</th>\n",
       "      <th>universe_scale</th>\n",
       "      <th>universe_model</th>\n",
       "      <th>universe_exclude_features</th>\n",
       "      <th>universe_exclude_subgroups</th>\n",
       "      <th>q_hat</th>\n",
       "      <th>coverage</th>\n",
       "      <th>avg_size</th>\n",
       "    </tr>\n",
       "  </thead>\n",
       "  <tbody>\n",
       "    <tr>\n",
       "      <th>0</th>\n",
       "      <td>ae345e409b07a31bf75d50daaac6133b</td>\n",
       "      <td>2010_14</td>\n",
       "      <td>5k</td>\n",
       "      <td>do-not-scale</td>\n",
       "      <td>logreg</td>\n",
       "      <td>sex</td>\n",
       "      <td>drop-non-german</td>\n",
       "      <td>0.669613</td>\n",
       "      <td>0.912373</td>\n",
       "      <td>1.214658</td>\n",
       "    </tr>\n",
       "  </tbody>\n",
       "</table>\n",
       "</div>"
      ],
      "text/plain": [
       "                        universe_id universe_training_year  \\\n",
       "0  ae345e409b07a31bf75d50daaac6133b                2010_14   \n",
       "\n",
       "  universe_training_size universe_scale universe_model  \\\n",
       "0                     5k   do-not-scale         logreg   \n",
       "\n",
       "  universe_exclude_features universe_exclude_subgroups     q_hat  coverage  \\\n",
       "0                       sex            drop-non-german  0.669613  0.912373   \n",
       "\n",
       "   avg_size  \n",
       "0  1.214658  "
      ]
     },
     "execution_count": 61,
     "metadata": {},
     "output_type": "execute_result"
    }
   ],
   "source": [
    "cp_metrics_df"
   ]
  },
  {
   "cell_type": "code",
   "execution_count": 62,
   "id": "b7fbde55-a0a1-47e4-9af6-fe4a17fa8c61",
   "metadata": {
    "execution": {
     "iopub.execute_input": "2025-07-30T21:15:55.596767Z",
     "iopub.status.busy": "2025-07-30T21:15:55.596306Z",
     "iopub.status.idle": "2025-07-30T21:15:55.600334Z",
     "shell.execute_reply": "2025-07-30T21:15:55.599570Z"
    },
    "papermill": {
     "duration": 0.020474,
     "end_time": "2025-07-30T21:15:55.601750",
     "exception": false,
     "start_time": "2025-07-30T21:15:55.581276",
     "status": "completed"
    },
    "tags": []
   },
   "outputs": [],
   "source": [
    "# Conditional Coverage & looking at subgroups"
   ]
  },
  {
   "cell_type": "code",
   "execution_count": 63,
   "id": "027ae886-68dd-4141-96c7-805a5450e1ef",
   "metadata": {
    "execution": {
     "iopub.execute_input": "2025-07-30T21:15:55.635695Z",
     "iopub.status.busy": "2025-07-30T21:15:55.635313Z",
     "iopub.status.idle": "2025-07-30T21:15:55.881740Z",
     "shell.execute_reply": "2025-07-30T21:15:55.880572Z"
    },
    "papermill": {
     "duration": 0.2681,
     "end_time": "2025-07-30T21:15:55.883476",
     "exception": false,
     "start_time": "2025-07-30T21:15:55.615376",
     "status": "completed"
    },
    "tags": []
   },
   "outputs": [],
   "source": [
    "from fairness_multiverse.conformal import build_cp_groups\n",
    "\n",
    "cp_groups_df = build_cp_groups(pred_sets, y_true, X_test.index, org_test)\n",
    "#needs universe_id and setting"
   ]
  },
  {
   "cell_type": "code",
   "execution_count": 64,
   "id": "01d5802c-663a-4d1f-9d69-e036faaffbf7",
   "metadata": {
    "execution": {
     "iopub.execute_input": "2025-07-30T21:15:55.937866Z",
     "iopub.status.busy": "2025-07-30T21:15:55.937160Z",
     "iopub.status.idle": "2025-07-30T21:15:55.941289Z",
     "shell.execute_reply": "2025-07-30T21:15:55.940563Z"
    },
    "papermill": {
     "duration": 0.030939,
     "end_time": "2025-07-30T21:15:55.942611",
     "exception": false,
     "start_time": "2025-07-30T21:15:55.911672",
     "status": "completed"
    },
    "tags": []
   },
   "outputs": [],
   "source": [
    "#delete\n",
    "#cp_groups_df"
   ]
  },
  {
   "cell_type": "code",
   "execution_count": 65,
   "id": "fa424af1-d1eb-443d-b717-2d279ada8408",
   "metadata": {
    "execution": {
     "iopub.execute_input": "2025-07-30T21:15:55.974964Z",
     "iopub.status.busy": "2025-07-30T21:15:55.974583Z",
     "iopub.status.idle": "2025-07-30T21:15:55.979344Z",
     "shell.execute_reply": "2025-07-30T21:15:55.978603Z"
    },
    "papermill": {
     "duration": 0.021248,
     "end_time": "2025-07-30T21:15:55.980769",
     "exception": false,
     "start_time": "2025-07-30T21:15:55.959521",
     "status": "completed"
    },
    "tags": []
   },
   "outputs": [],
   "source": [
    "#delete\n",
    "#percentage = (cp_groups_df['nongerman_female'] == 1).mean() * 100\n",
    "#print(percentage)\n"
   ]
  },
  {
   "cell_type": "code",
   "execution_count": 66,
   "id": "6cbdab96-b2b2-45af-ad54-d0516db2e28d",
   "metadata": {
    "execution": {
     "iopub.execute_input": "2025-07-30T21:15:56.082278Z",
     "iopub.status.busy": "2025-07-30T21:15:56.081923Z",
     "iopub.status.idle": "2025-07-30T21:15:57.605633Z",
     "shell.execute_reply": "2025-07-30T21:15:57.604563Z"
    },
    "papermill": {
     "duration": 1.611758,
     "end_time": "2025-07-30T21:15:57.607635",
     "exception": false,
     "start_time": "2025-07-30T21:15:55.995877",
     "status": "completed"
    },
    "tags": []
   },
   "outputs": [],
   "source": [
    "# Define covered = 1 if true_label is in the predicted set\n",
    "cp_groups_df['covered'] = cp_groups_df.apply(\n",
    "    lambda r: int(r['true_label'] in r['pred_set']),\n",
    "    axis=1\n",
    ")"
   ]
  },
  {
   "cell_type": "code",
   "execution_count": 67,
   "id": "338ff529-1a6b-4b87-a931-8e4788d52aad",
   "metadata": {
    "execution": {
     "iopub.execute_input": "2025-07-30T21:15:57.668011Z",
     "iopub.status.busy": "2025-07-30T21:15:57.667163Z",
     "iopub.status.idle": "2025-07-30T21:15:57.673157Z",
     "shell.execute_reply": "2025-07-30T21:15:57.671947Z"
    },
    "papermill": {
     "duration": 0.037763,
     "end_time": "2025-07-30T21:15:57.675066",
     "exception": false,
     "start_time": "2025-07-30T21:15:57.637303",
     "status": "completed"
    },
    "tags": []
   },
   "outputs": [],
   "source": [
    "#cp_groups_df"
   ]
  },
  {
   "cell_type": "code",
   "execution_count": 68,
   "id": "90032e27-66df-4540-9169-4e89cfbaa758",
   "metadata": {
    "execution": {
     "iopub.execute_input": "2025-07-30T21:15:57.746678Z",
     "iopub.status.busy": "2025-07-30T21:15:57.746184Z",
     "iopub.status.idle": "2025-07-30T21:15:57.757967Z",
     "shell.execute_reply": "2025-07-30T21:15:57.756913Z"
    },
    "papermill": {
     "duration": 0.048098,
     "end_time": "2025-07-30T21:15:57.759678",
     "exception": false,
     "start_time": "2025-07-30T21:15:57.711580",
     "status": "completed"
    },
    "tags": []
   },
   "outputs": [],
   "source": [
    "subgroups = ['frau1','nongerman','nongerman_male','nongerman_female']\n",
    "\n",
    "# Conditional coverage for subgroup==1\n",
    "cond_coverage = {\n",
    "    g: cp_groups_df.loc[cp_groups_df[g]==1, 'covered'].mean()\n",
    "    for g in subgroups\n",
    "}"
   ]
  },
  {
   "cell_type": "code",
   "execution_count": 69,
   "id": "1e348fb1-b9c3-45bc-ba23-f016827a7e0d",
   "metadata": {
    "execution": {
     "iopub.execute_input": "2025-07-30T21:15:57.815382Z",
     "iopub.status.busy": "2025-07-30T21:15:57.814615Z",
     "iopub.status.idle": "2025-07-30T21:15:57.821802Z",
     "shell.execute_reply": "2025-07-30T21:15:57.820746Z"
    },
    "papermill": {
     "duration": 0.036717,
     "end_time": "2025-07-30T21:15:57.823510",
     "exception": false,
     "start_time": "2025-07-30T21:15:57.786793",
     "status": "completed"
    },
    "tags": []
   },
   "outputs": [
    {
     "data": {
      "text/plain": [
       "{'frau1': 0.9125758188435099,\n",
       " 'nongerman': 0.9379666535676191,\n",
       " 'nongerman_male': 0.9475817346663064,\n",
       " 'nongerman_female': 0.9220566318926975}"
      ]
     },
     "execution_count": 69,
     "metadata": {},
     "output_type": "execute_result"
    }
   ],
   "source": [
    "cond_coverage"
   ]
  },
  {
   "cell_type": "code",
   "execution_count": 70,
   "id": "f5093324-c3dd-4d63-bc4c-8d945e5c8bbb",
   "metadata": {
    "execution": {
     "iopub.execute_input": "2025-07-30T21:15:57.883035Z",
     "iopub.status.busy": "2025-07-30T21:15:57.882459Z",
     "iopub.status.idle": "2025-07-30T21:15:57.891636Z",
     "shell.execute_reply": "2025-07-30T21:15:57.890490Z"
    },
    "papermill": {
     "duration": 0.040923,
     "end_time": "2025-07-30T21:15:57.893584",
     "exception": false,
     "start_time": "2025-07-30T21:15:57.852661",
     "status": "completed"
    },
    "tags": []
   },
   "outputs": [],
   "source": [
    "for subgroup, cov in cond_coverage.items():\n",
    "    cp_metrics_df[f\"cov_{subgroup}\"] = cov"
   ]
  },
  {
   "cell_type": "code",
   "execution_count": 71,
   "id": "6e872e10-dbe5-49e8-b554-5030c98ff75d",
   "metadata": {
    "execution": {
     "iopub.execute_input": "2025-07-30T21:15:57.956743Z",
     "iopub.status.busy": "2025-07-30T21:15:57.956225Z",
     "iopub.status.idle": "2025-07-30T21:15:57.976126Z",
     "shell.execute_reply": "2025-07-30T21:15:57.975026Z"
    },
    "papermill": {
     "duration": 0.053695,
     "end_time": "2025-07-30T21:15:57.978359",
     "exception": false,
     "start_time": "2025-07-30T21:15:57.924664",
     "status": "completed"
    },
    "tags": []
   },
   "outputs": [
    {
     "data": {
      "text/html": [
       "<div>\n",
       "<style scoped>\n",
       "    .dataframe tbody tr th:only-of-type {\n",
       "        vertical-align: middle;\n",
       "    }\n",
       "\n",
       "    .dataframe tbody tr th {\n",
       "        vertical-align: top;\n",
       "    }\n",
       "\n",
       "    .dataframe thead th {\n",
       "        text-align: right;\n",
       "    }\n",
       "</style>\n",
       "<table border=\"1\" class=\"dataframe\">\n",
       "  <thead>\n",
       "    <tr style=\"text-align: right;\">\n",
       "      <th></th>\n",
       "      <th>universe_id</th>\n",
       "      <th>universe_training_year</th>\n",
       "      <th>universe_training_size</th>\n",
       "      <th>universe_scale</th>\n",
       "      <th>universe_model</th>\n",
       "      <th>universe_exclude_features</th>\n",
       "      <th>universe_exclude_subgroups</th>\n",
       "      <th>q_hat</th>\n",
       "      <th>coverage</th>\n",
       "      <th>avg_size</th>\n",
       "      <th>cov_frau1</th>\n",
       "      <th>cov_nongerman</th>\n",
       "      <th>cov_nongerman_male</th>\n",
       "      <th>cov_nongerman_female</th>\n",
       "    </tr>\n",
       "  </thead>\n",
       "  <tbody>\n",
       "    <tr>\n",
       "      <th>0</th>\n",
       "      <td>ae345e409b07a31bf75d50daaac6133b</td>\n",
       "      <td>2010_14</td>\n",
       "      <td>5k</td>\n",
       "      <td>do-not-scale</td>\n",
       "      <td>logreg</td>\n",
       "      <td>sex</td>\n",
       "      <td>drop-non-german</td>\n",
       "      <td>0.669613</td>\n",
       "      <td>0.912373</td>\n",
       "      <td>1.214658</td>\n",
       "      <td>0.912576</td>\n",
       "      <td>0.937967</td>\n",
       "      <td>0.947582</td>\n",
       "      <td>0.922057</td>\n",
       "    </tr>\n",
       "  </tbody>\n",
       "</table>\n",
       "</div>"
      ],
      "text/plain": [
       "                        universe_id universe_training_year  \\\n",
       "0  ae345e409b07a31bf75d50daaac6133b                2010_14   \n",
       "\n",
       "  universe_training_size universe_scale universe_model  \\\n",
       "0                     5k   do-not-scale         logreg   \n",
       "\n",
       "  universe_exclude_features universe_exclude_subgroups     q_hat  coverage  \\\n",
       "0                       sex            drop-non-german  0.669613  0.912373   \n",
       "\n",
       "   avg_size  cov_frau1  cov_nongerman  cov_nongerman_male  \\\n",
       "0  1.214658   0.912576       0.937967            0.947582   \n",
       "\n",
       "   cov_nongerman_female  \n",
       "0              0.922057  "
      ]
     },
     "execution_count": 71,
     "metadata": {},
     "output_type": "execute_result"
    }
   ],
   "source": [
    "cp_metrics_df"
   ]
  },
  {
   "cell_type": "markdown",
   "id": "33774451",
   "metadata": {
    "papermill": {
     "duration": 0.030029,
     "end_time": "2025-07-30T21:15:58.038951",
     "exception": false,
     "start_time": "2025-07-30T21:15:58.008922",
     "status": "completed"
    },
    "tags": []
   },
   "source": [
    "# (Fairness) Metrics"
   ]
  },
  {
   "cell_type": "code",
   "execution_count": 72,
   "id": "debc5d62",
   "metadata": {
    "execution": {
     "iopub.execute_input": "2025-07-30T21:15:58.101839Z",
     "iopub.status.busy": "2025-07-30T21:15:58.100416Z",
     "iopub.status.idle": "2025-07-30T21:15:58.121869Z",
     "shell.execute_reply": "2025-07-30T21:15:58.120916Z"
    },
    "papermill": {
     "duration": 0.054917,
     "end_time": "2025-07-30T21:15:58.123508",
     "exception": false,
     "start_time": "2025-07-30T21:15:58.068591",
     "status": "completed"
    },
    "tags": []
   },
   "outputs": [],
   "source": [
    "# do I need to include maxdeutsch1.missing?\n",
    "\n",
    "import numpy as np\n",
    "\n",
    "colname_to_bin = \"maxdeutsch1\"\n",
    "majority_value = org_train[colname_to_bin].mode()[0]\n",
    "\n",
    "org_test[\"majmin\"] = np.where(org_test[colname_to_bin] == majority_value, \"majority\", \"minority\")"
   ]
  },
  {
   "cell_type": "code",
   "execution_count": 73,
   "id": "06a50de5",
   "metadata": {
    "execution": {
     "iopub.execute_input": "2025-07-30T21:15:58.186326Z",
     "iopub.status.busy": "2025-07-30T21:15:58.185754Z",
     "iopub.status.idle": "2025-07-30T21:16:00.126861Z",
     "shell.execute_reply": "2025-07-30T21:16:00.126005Z"
    },
    "papermill": {
     "duration": 1.973948,
     "end_time": "2025-07-30T21:16:00.128927",
     "exception": false,
     "start_time": "2025-07-30T21:15:58.154979",
     "status": "completed"
    },
    "tags": []
   },
   "outputs": [],
   "source": [
    "example_universe = universe.copy()\n",
    "example_universe[\"cutoff\"] = example_universe[\"cutoff\"][0]\n",
    "example_universe[\"eval_fairness_grouping\"] = example_universe[\"eval_fairness_grouping\"][0]\n",
    "fairness_dict, metric_frame = universe_analysis.compute_metrics(\n",
    "    example_universe,\n",
    "    y_pred_prob=probs_test,\n",
    "    y_test=y_true,\n",
    "    org_test=org_test,\n",
    ")"
   ]
  },
  {
   "cell_type": "markdown",
   "id": "f95d4e02",
   "metadata": {
    "papermill": {
     "duration": 0.027937,
     "end_time": "2025-07-30T21:16:00.184758",
     "exception": false,
     "start_time": "2025-07-30T21:16:00.156821",
     "status": "completed"
    },
    "tags": []
   },
   "source": [
    "# Overall"
   ]
  },
  {
   "cell_type": "markdown",
   "id": "bdee4871",
   "metadata": {
    "papermill": {
     "duration": 0.028913,
     "end_time": "2025-07-30T21:16:00.238031",
     "exception": false,
     "start_time": "2025-07-30T21:16:00.209118",
     "status": "completed"
    },
    "tags": []
   },
   "source": [
    "Fairness\n",
    "Main fairness target: Equalized Odds. Seems to be a better fit than equal opportunity, since we're not only interested in Y = 1. Seems to be a better fit than demographic parity, since we also care about accuracy, not just equal distribution of preds.\n",
    "\n",
    "Pick column for computation of fairness metrics\n",
    "\n",
    "Performance\n",
    "Overall performance measures, most interesting in relation to the measures split by group below"
   ]
  },
  {
   "cell_type": "code",
   "execution_count": 74,
   "id": "c4e067c6",
   "metadata": {
    "execution": {
     "iopub.execute_input": "2025-07-30T21:16:00.285452Z",
     "iopub.status.busy": "2025-07-30T21:16:00.284708Z",
     "iopub.status.idle": "2025-07-30T21:16:00.293784Z",
     "shell.execute_reply": "2025-07-30T21:16:00.292785Z"
    },
    "papermill": {
     "duration": 0.030347,
     "end_time": "2025-07-30T21:16:00.295383",
     "exception": false,
     "start_time": "2025-07-30T21:16:00.265036",
     "status": "completed"
    },
    "tags": []
   },
   "outputs": [
    {
     "data": {
      "text/plain": [
       "accuracy                   0.217846\n",
       "balanced accuracy          0.534032\n",
       "f1                         0.239357\n",
       "precision                  0.136737\n",
       "false positive rate        0.891269\n",
       "false negative rate        0.040667\n",
       "selection rate             0.900000\n",
       "count                  89710.000000\n",
       "dtype: float64"
      ]
     },
     "execution_count": 74,
     "metadata": {},
     "output_type": "execute_result"
    }
   ],
   "source": [
    "metric_frame.overall"
   ]
  },
  {
   "cell_type": "markdown",
   "id": "e968fe9d",
   "metadata": {
    "papermill": {
     "duration": 0.025399,
     "end_time": "2025-07-30T21:16:00.349955",
     "exception": false,
     "start_time": "2025-07-30T21:16:00.324556",
     "status": "completed"
    },
    "tags": []
   },
   "source": [
    "By Group"
   ]
  },
  {
   "cell_type": "code",
   "execution_count": 75,
   "id": "ec325bce",
   "metadata": {
    "execution": {
     "iopub.execute_input": "2025-07-30T21:16:00.404787Z",
     "iopub.status.busy": "2025-07-30T21:16:00.404440Z",
     "iopub.status.idle": "2025-07-30T21:16:00.416566Z",
     "shell.execute_reply": "2025-07-30T21:16:00.415800Z"
    },
    "papermill": {
     "duration": 0.040151,
     "end_time": "2025-07-30T21:16:00.417835",
     "exception": false,
     "start_time": "2025-07-30T21:16:00.377684",
     "status": "completed"
    },
    "tags": []
   },
   "outputs": [
    {
     "data": {
      "text/html": [
       "<div>\n",
       "<style scoped>\n",
       "    .dataframe tbody tr th:only-of-type {\n",
       "        vertical-align: middle;\n",
       "    }\n",
       "\n",
       "    .dataframe tbody tr th {\n",
       "        vertical-align: top;\n",
       "    }\n",
       "\n",
       "    .dataframe thead th {\n",
       "        text-align: right;\n",
       "    }\n",
       "</style>\n",
       "<table border=\"1\" class=\"dataframe\">\n",
       "  <thead>\n",
       "    <tr style=\"text-align: right;\">\n",
       "      <th></th>\n",
       "      <th>accuracy</th>\n",
       "      <th>balanced accuracy</th>\n",
       "      <th>f1</th>\n",
       "      <th>precision</th>\n",
       "      <th>false positive rate</th>\n",
       "      <th>false negative rate</th>\n",
       "      <th>selection rate</th>\n",
       "      <th>count</th>\n",
       "    </tr>\n",
       "    <tr>\n",
       "      <th>majmin</th>\n",
       "      <th></th>\n",
       "      <th></th>\n",
       "      <th></th>\n",
       "      <th></th>\n",
       "      <th></th>\n",
       "      <th></th>\n",
       "      <th></th>\n",
       "      <th></th>\n",
       "    </tr>\n",
       "  </thead>\n",
       "  <tbody>\n",
       "    <tr>\n",
       "      <th>majority</th>\n",
       "      <td>0.239352</td>\n",
       "      <td>0.541781</td>\n",
       "      <td>0.248715</td>\n",
       "      <td>0.143024</td>\n",
       "      <td>0.869282</td>\n",
       "      <td>0.047155</td>\n",
       "      <td>0.880324</td>\n",
       "      <td>69170.0</td>\n",
       "    </tr>\n",
       "    <tr>\n",
       "      <th>minority</th>\n",
       "      <td>0.145424</td>\n",
       "      <td>0.510237</td>\n",
       "      <td>0.209858</td>\n",
       "      <td>0.117448</td>\n",
       "      <td>0.963901</td>\n",
       "      <td>0.015625</td>\n",
       "      <td>0.966261</td>\n",
       "      <td>20540.0</td>\n",
       "    </tr>\n",
       "  </tbody>\n",
       "</table>\n",
       "</div>"
      ],
      "text/plain": [
       "          accuracy  balanced accuracy        f1  precision  \\\n",
       "majmin                                                       \n",
       "majority  0.239352           0.541781  0.248715   0.143024   \n",
       "minority  0.145424           0.510237  0.209858   0.117448   \n",
       "\n",
       "          false positive rate  false negative rate  selection rate    count  \n",
       "majmin                                                                       \n",
       "majority             0.869282             0.047155        0.880324  69170.0  \n",
       "minority             0.963901             0.015625        0.966261  20540.0  "
      ]
     },
     "execution_count": 75,
     "metadata": {},
     "output_type": "execute_result"
    }
   ],
   "source": [
    "metric_frame.by_group"
   ]
  },
  {
   "cell_type": "code",
   "execution_count": 76,
   "id": "a9ddbe63",
   "metadata": {
    "execution": {
     "iopub.execute_input": "2025-07-30T21:16:00.450376Z",
     "iopub.status.busy": "2025-07-30T21:16:00.449887Z",
     "iopub.status.idle": "2025-07-30T21:16:02.416617Z",
     "shell.execute_reply": "2025-07-30T21:16:02.415661Z"
    },
    "papermill": {
     "duration": 1.984985,
     "end_time": "2025-07-30T21:16:02.418330",
     "exception": false,
     "start_time": "2025-07-30T21:16:00.433345",
     "status": "completed"
    },
    "tags": []
   },
   "outputs": [
    {
     "data": {
      "text/plain": [
       "array([[<Axes: title={'center': 'accuracy'}, xlabel='majmin'>,\n",
       "        <Axes: title={'center': 'balanced accuracy'}, xlabel='majmin'>,\n",
       "        <Axes: title={'center': 'f1'}, xlabel='majmin'>],\n",
       "       [<Axes: title={'center': 'precision'}, xlabel='majmin'>,\n",
       "        <Axes: title={'center': 'false positive rate'}, xlabel='majmin'>,\n",
       "        <Axes: title={'center': 'false negative rate'}, xlabel='majmin'>],\n",
       "       [<Axes: title={'center': 'selection rate'}, xlabel='majmin'>,\n",
       "        <Axes: title={'center': 'count'}, xlabel='majmin'>,\n",
       "        <Axes: xlabel='majmin'>]], dtype=object)"
      ]
     },
     "execution_count": 76,
     "metadata": {},
     "output_type": "execute_result"
    },
    {
     "data": {
      "image/png": "[encoded data removed]",
      "text/plain": [
       "<Figure size 1200x800 with 9 Axes>"
      ]
     },
     "metadata": {},
     "output_type": "display_data"
    }
   ],
   "source": [
    "# In a graphic\n",
    "metric_frame.by_group.plot.bar(\n",
    "    subplots=True,\n",
    "    layout=[3, 3],\n",
    "    legend=False,\n",
    "    figsize=[12, 8],\n",
    "    title=\"Show all metrics\",\n",
    ")"
   ]
  },
  {
   "cell_type": "markdown",
   "id": "f57a0bac",
   "metadata": {
    "papermill": {
     "duration": 0.015809,
     "end_time": "2025-07-30T21:16:02.459716",
     "exception": false,
     "start_time": "2025-07-30T21:16:02.443907",
     "status": "completed"
    },
    "tags": []
   },
   "source": [
    "# Final Output"
   ]
  },
  {
   "cell_type": "code",
   "execution_count": 77,
   "id": "96d280a3",
   "metadata": {
    "execution": {
     "iopub.execute_input": "2025-07-30T21:16:02.491115Z",
     "iopub.status.busy": "2025-07-30T21:16:02.490378Z",
     "iopub.status.idle": "2025-07-30T21:16:02.498812Z",
     "shell.execute_reply": "2025-07-30T21:16:02.497821Z"
    },
    "papermill": {
     "duration": 0.025484,
     "end_time": "2025-07-30T21:16:02.500153",
     "exception": false,
     "start_time": "2025-07-30T21:16:02.474669",
     "status": "completed"
    },
    "tags": []
   },
   "outputs": [
    {
     "data": {
      "text/plain": [
       "4"
      ]
     },
     "execution_count": 77,
     "metadata": {},
     "output_type": "execute_result"
    }
   ],
   "source": [
    "sub_universes = universe_analysis.generate_sub_universes()\n",
    "len(sub_universes)"
   ]
  },
  {
   "cell_type": "code",
   "execution_count": 78,
   "id": "92adf7ba",
   "metadata": {
    "execution": {
     "iopub.execute_input": "2025-07-30T21:16:02.534415Z",
     "iopub.status.busy": "2025-07-30T21:16:02.534109Z",
     "iopub.status.idle": "2025-07-30T21:16:02.538890Z",
     "shell.execute_reply": "2025-07-30T21:16:02.538126Z"
    },
    "papermill": {
     "duration": 0.022153,
     "end_time": "2025-07-30T21:16:02.540668",
     "exception": false,
     "start_time": "2025-07-30T21:16:02.518515",
     "status": "completed"
    },
    "tags": []
   },
   "outputs": [],
   "source": [
    "def filter_sub_universe_data(sub_universe, org_test):\n",
    "    # Keep all rows — no filtering\n",
    "    keep_rows_mask = np.ones(org_test.shape[0], dtype=bool)\n",
    "\n",
    "    print(f\"[INFO] Keeping all rows: {keep_rows_mask.sum()} rows retained.\")\n",
    "    return keep_rows_mask"
   ]
  },
  {
   "cell_type": "code",
   "execution_count": 79,
   "id": "4a759155",
   "metadata": {
    "execution": {
     "iopub.execute_input": "2025-07-30T21:16:02.575248Z",
     "iopub.status.busy": "2025-07-30T21:16:02.574837Z",
     "iopub.status.idle": "2025-07-30T21:16:10.302729Z",
     "shell.execute_reply": "2025-07-30T21:16:10.301678Z"
    },
    "papermill": {
     "duration": 7.746165,
     "end_time": "2025-07-30T21:16:10.304487",
     "exception": false,
     "start_time": "2025-07-30T21:16:02.558322",
     "status": "completed"
    },
    "tags": []
   },
   "outputs": [
    {
     "name": "stdout",
     "output_type": "stream",
     "text": [
      "Stopping execution_time clock.\n",
      "[INFO] Keeping all rows: 89710 rows retained.\n"
     ]
    },
    {
     "name": "stdout",
     "output_type": "stream",
     "text": [
      "[INFO] Keeping all rows: 89710 rows retained.\n"
     ]
    },
    {
     "name": "stdout",
     "output_type": "stream",
     "text": [
      "[INFO] Keeping all rows: 89710 rows retained.\n"
     ]
    },
    {
     "name": "stdout",
     "output_type": "stream",
     "text": [
      "[INFO] Keeping all rows: 89710 rows retained.\n"
     ]
    },
    {
     "data": {
      "text/html": [
       "<div>\n",
       "<style scoped>\n",
       "    .dataframe tbody tr th:only-of-type {\n",
       "        vertical-align: middle;\n",
       "    }\n",
       "\n",
       "    .dataframe tbody tr th {\n",
       "        vertical-align: top;\n",
       "    }\n",
       "\n",
       "    .dataframe thead th {\n",
       "        text-align: right;\n",
       "    }\n",
       "</style>\n",
       "<table border=\"1\" class=\"dataframe\">\n",
       "  <thead>\n",
       "    <tr style=\"text-align: right;\">\n",
       "      <th></th>\n",
       "      <th>run_no</th>\n",
       "      <th>universe_id</th>\n",
       "      <th>universe_settings</th>\n",
       "      <th>execution_time</th>\n",
       "      <th>test_size_n</th>\n",
       "      <th>test_size_frac</th>\n",
       "      <th>fair_main_equalized_odds_difference</th>\n",
       "      <th>fair_main_equalized_odds_ratio</th>\n",
       "      <th>fair_main_demographic_parity_difference</th>\n",
       "      <th>fair_main_demographic_parity_ratio</th>\n",
       "      <th>...</th>\n",
       "      <th>perf_grp_precision_0</th>\n",
       "      <th>perf_grp_precision_1</th>\n",
       "      <th>perf_grp_false positive rate_0</th>\n",
       "      <th>perf_grp_false positive rate_1</th>\n",
       "      <th>perf_grp_false negative rate_0</th>\n",
       "      <th>perf_grp_false negative rate_1</th>\n",
       "      <th>perf_grp_selection rate_0</th>\n",
       "      <th>perf_grp_selection rate_1</th>\n",
       "      <th>perf_grp_count_0</th>\n",
       "      <th>perf_grp_count_1</th>\n",
       "    </tr>\n",
       "  </thead>\n",
       "  <tbody>\n",
       "    <tr>\n",
       "      <th>0</th>\n",
       "      <td>14</td>\n",
       "      <td>ae345e409b07a31bf75d50daaac6133b</td>\n",
       "      <td>{\"cutoff\": \"quantile_0.1\", \"eval_fairness_grou...</td>\n",
       "      <td>27.861938</td>\n",
       "      <td>89710</td>\n",
       "      <td>1.0</td>\n",
       "      <td>0.094618</td>\n",
       "      <td>0.901838</td>\n",
       "      <td>0.085937</td>\n",
       "      <td>0.911062</td>\n",
       "      <td>...</td>\n",
       "      <td>NaN</td>\n",
       "      <td>NaN</td>\n",
       "      <td>NaN</td>\n",
       "      <td>NaN</td>\n",
       "      <td>NaN</td>\n",
       "      <td>NaN</td>\n",
       "      <td>NaN</td>\n",
       "      <td>NaN</td>\n",
       "      <td>NaN</td>\n",
       "      <td>NaN</td>\n",
       "    </tr>\n",
       "    <tr>\n",
       "      <th>0</th>\n",
       "      <td>14</td>\n",
       "      <td>ae345e409b07a31bf75d50daaac6133b</td>\n",
       "      <td>{\"cutoff\": \"quantile_0.1\", \"eval_fairness_grou...</td>\n",
       "      <td>27.861938</td>\n",
       "      <td>89710</td>\n",
       "      <td>1.0</td>\n",
       "      <td>0.094618</td>\n",
       "      <td>0.901838</td>\n",
       "      <td>0.085937</td>\n",
       "      <td>0.911062</td>\n",
       "      <td>...</td>\n",
       "      <td>0.117448</td>\n",
       "      <td>0.143024</td>\n",
       "      <td>0.963901</td>\n",
       "      <td>0.869282</td>\n",
       "      <td>0.015625</td>\n",
       "      <td>0.047155</td>\n",
       "      <td>0.966261</td>\n",
       "      <td>0.880324</td>\n",
       "      <td>20540.0</td>\n",
       "      <td>69170.0</td>\n",
       "    </tr>\n",
       "    <tr>\n",
       "      <th>0</th>\n",
       "      <td>14</td>\n",
       "      <td>ae345e409b07a31bf75d50daaac6133b</td>\n",
       "      <td>{\"cutoff\": \"quantile_0.25\", \"eval_fairness_gro...</td>\n",
       "      <td>27.861938</td>\n",
       "      <td>89710</td>\n",
       "      <td>1.0</td>\n",
       "      <td>0.219810</td>\n",
       "      <td>0.755500</td>\n",
       "      <td>0.201685</td>\n",
       "      <td>0.777267</td>\n",
       "      <td>...</td>\n",
       "      <td>NaN</td>\n",
       "      <td>NaN</td>\n",
       "      <td>NaN</td>\n",
       "      <td>NaN</td>\n",
       "      <td>NaN</td>\n",
       "      <td>NaN</td>\n",
       "      <td>NaN</td>\n",
       "      <td>NaN</td>\n",
       "      <td>NaN</td>\n",
       "      <td>NaN</td>\n",
       "    </tr>\n",
       "    <tr>\n",
       "      <th>0</th>\n",
       "      <td>14</td>\n",
       "      <td>ae345e409b07a31bf75d50daaac6133b</td>\n",
       "      <td>{\"cutoff\": \"quantile_0.25\", \"eval_fairness_gro...</td>\n",
       "      <td>27.861938</td>\n",
       "      <td>89710</td>\n",
       "      <td>1.0</td>\n",
       "      <td>0.219810</td>\n",
       "      <td>0.755500</td>\n",
       "      <td>0.201685</td>\n",
       "      <td>0.777267</td>\n",
       "      <td>...</td>\n",
       "      <td>0.121619</td>\n",
       "      <td>0.162480</td>\n",
       "      <td>0.899020</td>\n",
       "      <td>0.679210</td>\n",
       "      <td>0.044764</td>\n",
       "      <td>0.134573</td>\n",
       "      <td>0.905501</td>\n",
       "      <td>0.703817</td>\n",
       "      <td>20540.0</td>\n",
       "      <td>69170.0</td>\n",
       "    </tr>\n",
       "  </tbody>\n",
       "</table>\n",
       "<p>4 rows × 50 columns</p>\n",
       "</div>"
      ],
      "text/plain": [
       "  run_no                       universe_id  \\\n",
       "0     14  ae345e409b07a31bf75d50daaac6133b   \n",
       "0     14  ae345e409b07a31bf75d50daaac6133b   \n",
       "0     14  ae345e409b07a31bf75d50daaac6133b   \n",
       "0     14  ae345e409b07a31bf75d50daaac6133b   \n",
       "\n",
       "                                   universe_settings  execution_time  \\\n",
       "0  {\"cutoff\": \"quantile_0.1\", \"eval_fairness_grou...       27.861938   \n",
       "0  {\"cutoff\": \"quantile_0.1\", \"eval_fairness_grou...       27.861938   \n",
       "0  {\"cutoff\": \"quantile_0.25\", \"eval_fairness_gro...       27.861938   \n",
       "0  {\"cutoff\": \"quantile_0.25\", \"eval_fairness_gro...       27.861938   \n",
       "\n",
       "   test_size_n  test_size_frac  fair_main_equalized_odds_difference  \\\n",
       "0        89710             1.0                             0.094618   \n",
       "0        89710             1.0                             0.094618   \n",
       "0        89710             1.0                             0.219810   \n",
       "0        89710             1.0                             0.219810   \n",
       "\n",
       "   fair_main_equalized_odds_ratio  fair_main_demographic_parity_difference  \\\n",
       "0                        0.901838                                 0.085937   \n",
       "0                        0.901838                                 0.085937   \n",
       "0                        0.755500                                 0.201685   \n",
       "0                        0.755500                                 0.201685   \n",
       "\n",
       "   fair_main_demographic_parity_ratio  ...  perf_grp_precision_0  \\\n",
       "0                            0.911062  ...                   NaN   \n",
       "0                            0.911062  ...              0.117448   \n",
       "0                            0.777267  ...                   NaN   \n",
       "0                            0.777267  ...              0.121619   \n",
       "\n",
       "   perf_grp_precision_1  perf_grp_false positive rate_0  \\\n",
       "0                   NaN                             NaN   \n",
       "0              0.143024                        0.963901   \n",
       "0                   NaN                             NaN   \n",
       "0              0.162480                        0.899020   \n",
       "\n",
       "   perf_grp_false positive rate_1  perf_grp_false negative rate_0  \\\n",
       "0                             NaN                             NaN   \n",
       "0                        0.869282                        0.015625   \n",
       "0                             NaN                             NaN   \n",
       "0                        0.679210                        0.044764   \n",
       "\n",
       "   perf_grp_false negative rate_1  perf_grp_selection rate_0  \\\n",
       "0                             NaN                        NaN   \n",
       "0                        0.047155                   0.966261   \n",
       "0                             NaN                        NaN   \n",
       "0                        0.134573                   0.905501   \n",
       "\n",
       "   perf_grp_selection rate_1  perf_grp_count_0  perf_grp_count_1  \n",
       "0                        NaN               NaN               NaN  \n",
       "0                   0.880324           20540.0           69170.0  \n",
       "0                        NaN               NaN               NaN  \n",
       "0                   0.703817           20540.0           69170.0  \n",
       "\n",
       "[4 rows x 50 columns]"
      ]
     },
     "execution_count": 79,
     "metadata": {},
     "output_type": "execute_result"
    }
   ],
   "source": [
    "final_output = universe_analysis.generate_final_output(\n",
    "    y_pred_prob=probs_test,\n",
    "    y_test=y_true,\n",
    "    org_test=org_test,\n",
    "    filter_data=filter_sub_universe_data,\n",
    "    cp_metrics_df=cp_metrics_df,\n",
    "    save=True,\n",
    ")\n",
    "final_output"
   ]
  },
  {
   "cell_type": "code",
   "execution_count": null,
   "id": "721ff514-cb11-46f8-b6fc-50392f74b5cb",
   "metadata": {
    "papermill": {
     "duration": 0.031703,
     "end_time": "2025-07-30T21:16:10.369997",
     "exception": false,
     "start_time": "2025-07-30T21:16:10.338294",
     "status": "completed"
    },
    "tags": []
   },
   "outputs": [],
   "source": []
  }
 ],
 "metadata": {
  "celltoolbar": "Tags",
  "kernelspec": {
   "display_name": "Python (CMA Fairness)",
   "language": "python",
   "name": "cma_fair_env"
  },
  "language_info": {
   "codemirror_mode": {
    "name": "ipython",
    "version": 3
   },
   "file_extension": ".py",
   "mimetype": "text/x-python",
   "name": "python",
   "nbconvert_exporter": "python",
   "pygments_lexer": "ipython3",
   "version": "3.10.12"
  },
  "papermill": {
   "default_parameters": {},
   "duration": 39.746964,
   "end_time": "2025-07-30T21:16:11.220192",
   "environment_variables": {},
   "exception": null,
   "input_path": "universe_analysis.ipynb",
   "output_path": "output/runs/14/notebooks/m_14-ae345e409b07a31bf75d50daaac6133b.ipynb",
   "parameters": {
    "output_dir": "output",
    "run_no": "14",
    "seed": "2023",
    "universe": "{\"cutoff\": [\"quantile_0.1\", \"quantile_0.25\"], \"eval_fairness_grouping\": [\"majority-minority\", \"nationality-all\"], \"exclude_features\": \"sex\", \"exclude_subgroups\": \"drop-non-german\", \"model\": \"logreg\", \"scale\": \"do-not-scale\", \"training_size\": \"5k\", \"training_year\": \"2010_14\"}",
    "universe_id": "ae345e409b07a31bf75d50daaac6133b"
   },
   "start_time": "2025-07-30T21:15:31.473228",
   "version": "2.6.0"
  }
 },
 "nbformat": 4,
 "nbformat_minor": 5
}