{
 "cells": [
  {
   "cell_type": "code",
   "execution_count": 1,
   "id": "f159f837-637b-42ba-96b5-ec9a68c44524",
   "metadata": {
    "execution": {
     "iopub.execute_input": "2025-07-30T21:41:49.545190Z",
     "iopub.status.busy": "2025-07-30T21:41:49.544691Z",
     "iopub.status.idle": "2025-07-30T21:41:49.555513Z",
     "shell.execute_reply": "2025-07-30T21:41:49.554728Z"
    },
    "papermill": {
     "duration": 0.033603,
     "end_time": "2025-07-30T21:41:49.556942",
     "exception": false,
     "start_time": "2025-07-30T21:41:49.523339",
     "status": "completed"
    },
    "tags": []
   },
   "outputs": [
    {
     "name": "stdout",
     "output_type": "stream",
     "text": [
      "/dss/dsshome1/0C/ra93lal2/cma/CMA_Fairness_v2\n"
     ]
    },
    {
     "name": "stderr",
     "output_type": "stream",
     "text": [
      "/dss/dsshome1/0C/ra93lal2/.local/share/virtualenvs/CMA_Fairness_v2-3j10GkSs/lib/python3.10/site-packages/IPython/core/magics/osm.py:393: UserWarning: This is now an optional IPython functionality, using bookmarks requires you to install the `pickleshare` library.\n",
      "  bkms = self.shell.db.get('bookmarks', {})\n",
      "/dss/dsshome1/0C/ra93lal2/.local/share/virtualenvs/CMA_Fairness_v2-3j10GkSs/lib/python3.10/site-packages/IPython/core/magics/osm.py:417: UserWarning: This is now an optional IPython functionality, setting dhist requires you to install the `pickleshare` library.\n",
      "  self.shell.db['dhist'] = compress_dhist(dhist)[-100:]\n"
     ]
    }
   ],
   "source": [
    "%cd ~/cma/CMA_Fairness_v2"
   ]
  },
  {
   "cell_type": "markdown",
   "id": "de2603b9",
   "metadata": {
    "papermill": {
     "duration": 0.020219,
     "end_time": "2025-07-30T21:41:49.589796",
     "exception": false,
     "start_time": "2025-07-30T21:41:49.569577",
     "status": "completed"
    },
    "tags": []
   },
   "source": [
    "The following cell holds the definition of our parameters, these values can be overriden by rendering the with e.g. the following command:\n",
    "\n",
    "papermill -p alpha 0.2 -p ratio 0.3 universe_analysis.ipynb output/test_run.ipynb"
   ]
  },
  {
   "cell_type": "code",
   "execution_count": 2,
   "id": "a80968a0-40bb-4fa9-85ef-2d5eefb01975",
   "metadata": {
    "execution": {
     "iopub.execute_input": "2025-07-30T21:41:49.633013Z",
     "iopub.status.busy": "2025-07-30T21:41:49.632537Z",
     "iopub.status.idle": "2025-07-30T21:41:49.637748Z",
     "shell.execute_reply": "2025-07-30T21:41:49.636855Z"
    },
    "papermill": {
     "duration": 0.028701,
     "end_time": "2025-07-30T21:41:49.639120",
     "exception": false,
     "start_time": "2025-07-30T21:41:49.610419",
     "status": "completed"
    },
    "tags": []
   },
   "outputs": [
    {
     "name": "stdout",
     "output_type": "stream",
     "text": [
      "Current working directory: /dss/dsshome1/0C/ra93lal2/cma/CMA_Fairness_v2\n"
     ]
    }
   ],
   "source": [
    "import os\n",
    "print(\"Current working directory:\", os.getcwd())"
   ]
  },
  {
   "cell_type": "code",
   "execution_count": 3,
   "id": "2dce4c03",
   "metadata": {
    "execution": {
     "iopub.execute_input": "2025-07-30T21:41:49.662898Z",
     "iopub.status.busy": "2025-07-30T21:41:49.662402Z",
     "iopub.status.idle": "2025-07-30T21:41:49.667699Z",
     "shell.execute_reply": "2025-07-30T21:41:49.666880Z"
    },
    "papermill": {
     "duration": 0.018417,
     "end_time": "2025-07-30T21:41:49.669152",
     "exception": false,
     "start_time": "2025-07-30T21:41:49.650735",
     "status": "completed"
    },
    "tags": [
     "parameters"
    ]
   },
   "outputs": [],
   "source": [
    "run_no = 0\n",
    "universe_id = \"test\"\n",
    "universe = {\n",
    "    \"training_size\": \"25k\", # \"25k\", \"5k\", \"1k\"\n",
    "    \"training_year\": \"2014\", # \"2014\", \"2012_14\", \"2010_14\"\n",
    "    \"scale\": \"scale\", # \"scale\", \"do-not-scale\",\n",
    "    #\"stratify_split\": \"target\", # \"none\", \"target\", \"protected-attribute\", \"both\",\n",
    "    \"model\": \"elasticnet\", # \"logreg\", \"penalized_logreg\", \"rf\", \"gbm\", \"elasticnet\"\n",
    "    \"cutoff\": [\"quantile_0.15\", \"quantile_0.30\"],\n",
    "    \"exclude_features\": \"age\", # \"none\", \"nationality\", \"sex\", \"nationality-sex\", \"age\"\n",
    "    \"exclude_subgroups\": \"keep-all\", # \"keep-all\", \"drop-non-german\"\n",
    "    \"eval_fairness_grouping\": [\"majority-minority\", \"nationality-all\"]\n",
    "}\n",
    "\n",
    "output_dir=\"./output\"\n",
    "seed=0"
   ]
  },
  {
   "cell_type": "code",
   "execution_count": 4,
   "id": "f95d202d",
   "metadata": {
    "execution": {
     "iopub.execute_input": "2025-07-30T21:41:49.693046Z",
     "iopub.status.busy": "2025-07-30T21:41:49.692558Z",
     "iopub.status.idle": "2025-07-30T21:41:49.696859Z",
     "shell.execute_reply": "2025-07-30T21:41:49.696042Z"
    },
    "papermill": {
     "duration": 0.017204,
     "end_time": "2025-07-30T21:41:49.698319",
     "exception": false,
     "start_time": "2025-07-30T21:41:49.681115",
     "status": "completed"
    },
    "tags": [
     "injected-parameters"
    ]
   },
   "outputs": [],
   "source": [
    "# Parameters\n",
    "universe_id = \"01cc7815d5a94d3566647e5999fd0cf9\"\n",
    "run_no = \"14\"\n",
    "universe = \"{\\\"cutoff\\\": [\\\"quantile_0.1\\\", \\\"quantile_0.25\\\"], \\\"eval_fairness_grouping\\\": [\\\"majority-minority\\\", \\\"nationality-all\\\"], \\\"exclude_features\\\": \\\"none\\\", \\\"exclude_subgroups\\\": \\\"keep-all\\\", \\\"model\\\": \\\"elasticnet\\\", \\\"scale\\\": \\\"do-not-scale\\\", \\\"training_size\\\": \\\"1k\\\", \\\"training_year\\\": \\\"2012_14\\\"}\"\n",
    "output_dir = \"output\"\n",
    "seed = \"2023\"\n"
   ]
  },
  {
   "cell_type": "code",
   "execution_count": 5,
   "id": "1650acaf",
   "metadata": {
    "execution": {
     "iopub.execute_input": "2025-07-30T21:41:49.722322Z",
     "iopub.status.busy": "2025-07-30T21:41:49.721837Z",
     "iopub.status.idle": "2025-07-30T21:41:49.725928Z",
     "shell.execute_reply": "2025-07-30T21:41:49.725176Z"
    },
    "papermill": {
     "duration": 0.017322,
     "end_time": "2025-07-30T21:41:49.727634",
     "exception": false,
     "start_time": "2025-07-30T21:41:49.710312",
     "status": "completed"
    },
    "tags": []
   },
   "outputs": [],
   "source": [
    "import json\n",
    "# Parse universe into dict if it is passed as a string\n",
    "if isinstance(universe, str):\n",
    "    universe = json.loads(universe)"
   ]
  },
  {
   "cell_type": "code",
   "execution_count": 6,
   "id": "16620c48",
   "metadata": {
    "execution": {
     "iopub.execute_input": "2025-07-30T21:41:49.770530Z",
     "iopub.status.busy": "2025-07-30T21:41:49.770035Z",
     "iopub.status.idle": "2025-07-30T21:41:49.815405Z",
     "shell.execute_reply": "2025-07-30T21:41:49.814507Z"
    },
    "papermill": {
     "duration": 0.068484,
     "end_time": "2025-07-30T21:41:49.817319",
     "exception": false,
     "start_time": "2025-07-30T21:41:49.748835",
     "status": "completed"
    },
    "tags": []
   },
   "outputs": [],
   "source": [
    "# Auto-reload the custom package\n",
    "%load_ext autoreload\n",
    "%autoreload 1\n",
    "%aimport fairness_multiverse"
   ]
  },
  {
   "cell_type": "code",
   "execution_count": 7,
   "id": "01c5c9f3",
   "metadata": {
    "execution": {
     "iopub.execute_input": "2025-07-30T21:41:49.863944Z",
     "iopub.status.busy": "2025-07-30T21:41:49.862150Z",
     "iopub.status.idle": "2025-07-30T21:41:51.849880Z",
     "shell.execute_reply": "2025-07-30T21:41:51.848809Z"
    },
    "papermill": {
     "duration": 2.012135,
     "end_time": "2025-07-30T21:41:51.851819",
     "exception": false,
     "start_time": "2025-07-30T21:41:49.839684",
     "status": "completed"
    },
    "tags": []
   },
   "outputs": [],
   "source": [
    "from fairness_multiverse.universe import UniverseAnalysis\n",
    "\n",
    "universe_analysis = UniverseAnalysis(\n",
    "    run_no = run_no,\n",
    "    universe_id = universe_id,\n",
    "    universe = universe,\n",
    "    output_dir=output_dir,\n",
    ")"
   ]
  },
  {
   "cell_type": "code",
   "execution_count": 8,
   "id": "106241f5",
   "metadata": {
    "execution": {
     "iopub.execute_input": "2025-07-30T21:41:51.895650Z",
     "iopub.status.busy": "2025-07-30T21:41:51.894858Z",
     "iopub.status.idle": "2025-07-30T21:41:51.901508Z",
     "shell.execute_reply": "2025-07-30T21:41:51.900437Z"
    },
    "papermill": {
     "duration": 0.029138,
     "end_time": "2025-07-30T21:41:51.903172",
     "exception": false,
     "start_time": "2025-07-30T21:41:51.874034",
     "status": "completed"
    },
    "tags": []
   },
   "outputs": [
    {
     "name": "stdout",
     "output_type": "stream",
     "text": [
      "Using Seed: 2023\n"
     ]
    }
   ],
   "source": [
    "import numpy as np\n",
    "parsed_seed = int(seed)\n",
    "np.random.seed(parsed_seed)\n",
    "print(f\"Using Seed: {parsed_seed}\")"
   ]
  },
  {
   "cell_type": "markdown",
   "id": "e0ebdc57",
   "metadata": {
    "papermill": {
     "duration": 0.020408,
     "end_time": "2025-07-30T21:41:51.945066",
     "exception": false,
     "start_time": "2025-07-30T21:41:51.924658",
     "status": "completed"
    },
    "tags": []
   },
   "source": [
    "# Loading Data"
   ]
  },
  {
   "cell_type": "markdown",
   "id": "681925a3",
   "metadata": {
    "papermill": {
     "duration": 0.019062,
     "end_time": "2025-07-30T21:41:51.984149",
     "exception": false,
     "start_time": "2025-07-30T21:41:51.965087",
     "status": "completed"
    },
    "tags": []
   },
   "source": [
    "Load siab_train, siab_test, siab_calib and/or \n",
    "load siab_train_features, siab_train_labels"
   ]
  },
  {
   "cell_type": "code",
   "execution_count": 9,
   "id": "f0496b8a",
   "metadata": {
    "execution": {
     "iopub.execute_input": "2025-07-30T21:41:52.028174Z",
     "iopub.status.busy": "2025-07-30T21:41:52.027639Z",
     "iopub.status.idle": "2025-07-30T21:42:05.132023Z",
     "shell.execute_reply": "2025-07-30T21:42:05.130865Z"
    },
    "papermill": {
     "duration": 13.127494,
     "end_time": "2025-07-30T21:42:05.133820",
     "exception": false,
     "start_time": "2025-07-30T21:41:52.006326",
     "status": "completed"
    },
    "tags": []
   },
   "outputs": [
    {
     "name": "stdout",
     "output_type": "stream",
     "text": [
      "Loading SIAB data from cache: data/siab_cached.csv.gz\n"
     ]
    },
    {
     "name": "stdout",
     "output_type": "stream",
     "text": [
      "(643690, 164)\n"
     ]
    }
   ],
   "source": [
    "from pathlib import Path\n",
    "import pandas as pd\n",
    "\n",
    "# File paths\n",
    "raw_file = Path(\"data/raw/siab.csv\")\n",
    "cache_file = Path(\"data/siab_cached.csv.gz\")\n",
    "\n",
    "# Ensure cache directory exists\n",
    "cache_file.parent.mkdir(parents=True, exist_ok=True)\n",
    "\n",
    "# Load with simple caching\n",
    "if cache_file.exists():\n",
    "    print(f\"Loading SIAB data from cache: {cache_file}\")\n",
    "    siab = pd.read_csv(cache_file, compression='gzip')\n",
    "else:\n",
    "    print(f\"Cache not found. Reading raw SIAB data: {raw_file}\")\n",
    "    siab = pd.read_csv(raw_file)\n",
    "    siab.to_csv(cache_file, index=False, compression='gzip')\n",
    "    print(f\"Cached SIAB data to: {cache_file}\")\n",
    "\n",
    "# Now use `siab` DataFrame as needed\n",
    "print(siab.shape)"
   ]
  },
  {
   "cell_type": "code",
   "execution_count": 10,
   "id": "db0ca512-5f53-4dba-abdb-a2888bca41ba",
   "metadata": {
    "execution": {
     "iopub.execute_input": "2025-07-30T21:42:05.174432Z",
     "iopub.status.busy": "2025-07-30T21:42:05.173649Z",
     "iopub.status.idle": "2025-07-30T21:42:05.179322Z",
     "shell.execute_reply": "2025-07-30T21:42:05.178625Z"
    },
    "papermill": {
     "duration": 0.022873,
     "end_time": "2025-07-30T21:42:05.180806",
     "exception": false,
     "start_time": "2025-07-30T21:42:05.157933",
     "status": "completed"
    },
    "tags": []
   },
   "outputs": [],
   "source": [
    "#siab"
   ]
  },
  {
   "cell_type": "code",
   "execution_count": 11,
   "id": "a0edb063",
   "metadata": {
    "execution": {
     "iopub.execute_input": "2025-07-30T21:42:05.206046Z",
     "iopub.status.busy": "2025-07-30T21:42:05.205539Z",
     "iopub.status.idle": "2025-07-30T21:42:05.210333Z",
     "shell.execute_reply": "2025-07-30T21:42:05.209315Z"
    },
    "papermill": {
     "duration": 0.018775,
     "end_time": "2025-07-30T21:42:05.211878",
     "exception": false,
     "start_time": "2025-07-30T21:42:05.193103",
     "status": "completed"
    },
    "tags": []
   },
   "outputs": [],
   "source": [
    "#import pandas as pd\n",
    "#\n",
    "#X_train = pd.read_csv(\"./data/X_train.csv\")\n",
    "#y_train = pd.read_csv(\"./data/y_train.csv\")"
   ]
  },
  {
   "cell_type": "code",
   "execution_count": 12,
   "id": "63d08085",
   "metadata": {
    "execution": {
     "iopub.execute_input": "2025-07-30T21:42:05.257451Z",
     "iopub.status.busy": "2025-07-30T21:42:05.256892Z",
     "iopub.status.idle": "2025-07-30T21:42:05.262567Z",
     "shell.execute_reply": "2025-07-30T21:42:05.261411Z"
    },
    "papermill": {
     "duration": 0.030438,
     "end_time": "2025-07-30T21:42:05.264470",
     "exception": false,
     "start_time": "2025-07-30T21:42:05.234032",
     "status": "completed"
    },
    "tags": []
   },
   "outputs": [],
   "source": [
    "#X_test = pd.read_csv(\"./data/X_test.csv\")\n",
    "#y_true = pd.read_csv(\"./data/y_test.csv\")"
   ]
  },
  {
   "cell_type": "code",
   "execution_count": 13,
   "id": "98a8d0fa-1d3d-4ed8-bb2c-281470e24add",
   "metadata": {
    "execution": {
     "iopub.execute_input": "2025-07-30T21:42:05.291461Z",
     "iopub.status.busy": "2025-07-30T21:42:05.291022Z",
     "iopub.status.idle": "2025-07-30T21:42:05.296093Z",
     "shell.execute_reply": "2025-07-30T21:42:05.295329Z"
    },
    "papermill": {
     "duration": 0.018528,
     "end_time": "2025-07-30T21:42:05.297497",
     "exception": false,
     "start_time": "2025-07-30T21:42:05.278969",
     "status": "completed"
    },
    "tags": []
   },
   "outputs": [],
   "source": [
    "# Calibration data for conformal\n",
    "#X_calib = pd.read_csv(\"./data/X_calib.csv\")\n",
    "#y_calib = pd.read_csv(\"./data/y_calib.csv\")"
   ]
  },
  {
   "cell_type": "markdown",
   "id": "997051c5-15bd-4b69-9786-c3001a3ce484",
   "metadata": {
    "papermill": {
     "duration": 0.011687,
     "end_time": "2025-07-30T21:42:05.324941",
     "exception": false,
     "start_time": "2025-07-30T21:42:05.313254",
     "status": "completed"
    },
    "tags": []
   },
   "source": [
    "# Splitting Data and Setting Training Data Size"
   ]
  },
  {
   "cell_type": "code",
   "execution_count": 14,
   "id": "e993b61f-042d-41a6-8c81-f55681f86335",
   "metadata": {
    "execution": {
     "iopub.execute_input": "2025-07-30T21:42:05.368633Z",
     "iopub.status.busy": "2025-07-30T21:42:05.367128Z",
     "iopub.status.idle": "2025-07-30T21:42:05.382056Z",
     "shell.execute_reply": "2025-07-30T21:42:05.380938Z"
    },
    "papermill": {
     "duration": 0.04099,
     "end_time": "2025-07-30T21:42:05.384377",
     "exception": false,
     "start_time": "2025-07-30T21:42:05.343387",
     "status": "completed"
    },
    "tags": []
   },
   "outputs": [],
   "source": [
    "def sample_by_year_size(df,\n",
    "                        training_year: str,\n",
    "                        training_size: str,\n",
    "                        random_state: int = 42):\n",
    "    # --- parse training_year into a list of int years ---\n",
    "    if \"_\" in training_year:\n",
    "        start_str, end_str = training_year.split(\"_\", 1)\n",
    "        start = int(start_str)\n",
    "        end   = int(end_str) if len(end_str) == 4 else (int(end_str) + (start // 100)*100)\n",
    "        years = list(range(start, end + 1))\n",
    "    else:\n",
    "        years = [int(training_year)]\n",
    "\n",
    "    df = df[df[\"year\"].isin(years)].reset_index(drop=True)\n",
    "\n",
    "    # --- map training_size to total number of samples ---\n",
    "    total_map = {\"25k\": 25_000, \"5k\": 5_000, \"1k\": 1_000}\n",
    "    if training_size not in total_map:\n",
    "        return df  # e.g. \"all\"\n",
    "\n",
    "    total_samples = total_map[training_size]\n",
    "    n_years       = len(years)\n",
    "    base          = total_samples // n_years\n",
    "    remainder     = total_samples % n_years\n",
    "\n",
    "    # --- build a dict: year -> how many to sample ---\n",
    "    # give +1 to the first `remainder` years in ascending order\n",
    "    quotas = {\n",
    "        year: base + (1 if idx < remainder else 0)\n",
    "        for idx, year in enumerate(sorted(years))\n",
    "    }\n",
    "\n",
    "    # --- sample per‐year according to the quota dict ---\n",
    "    sampled = (\n",
    "        df\n",
    "        .groupby(\"year\", group_keys=False)\n",
    "        .apply(lambda grp: grp.sample(\n",
    "            n=min(len(grp), quotas[grp.name]),\n",
    "            random_state=random_state))\n",
    "        .reset_index(drop=True)\n",
    "    )\n",
    "\n",
    "    return sampled"
   ]
  },
  {
   "cell_type": "code",
   "execution_count": 15,
   "id": "c0ccd338-0e02-41f3-a09d-f56f9266e3fb",
   "metadata": {
    "execution": {
     "iopub.execute_input": "2025-07-30T21:42:05.428712Z",
     "iopub.status.busy": "2025-07-30T21:42:05.427815Z",
     "iopub.status.idle": "2025-07-30T21:42:05.433703Z",
     "shell.execute_reply": "2025-07-30T21:42:05.432544Z"
    },
    "papermill": {
     "duration": 0.030333,
     "end_time": "2025-07-30T21:42:05.436540",
     "exception": false,
     "start_time": "2025-07-30T21:42:05.406207",
     "status": "completed"
    },
    "tags": []
   },
   "outputs": [],
   "source": [
    "#universe[\"training_size\"]"
   ]
  },
  {
   "cell_type": "code",
   "execution_count": 16,
   "id": "ca707fd7-8047-4acd-bfa5-66248fbbf8e6",
   "metadata": {
    "execution": {
     "iopub.execute_input": "2025-07-30T21:42:05.486611Z",
     "iopub.status.busy": "2025-07-30T21:42:05.486093Z",
     "iopub.status.idle": "2025-07-30T21:42:05.492000Z",
     "shell.execute_reply": "2025-07-30T21:42:05.490771Z"
    },
    "papermill": {
     "duration": 0.033524,
     "end_time": "2025-07-30T21:42:05.498390",
     "exception": false,
     "start_time": "2025-07-30T21:42:05.464866",
     "status": "completed"
    },
    "tags": []
   },
   "outputs": [],
   "source": [
    "#universe[\"training_year\"]"
   ]
  },
  {
   "cell_type": "code",
   "execution_count": 17,
   "id": "aea9c6ef-6f46-42c8-85eb-5a62025c1508",
   "metadata": {
    "execution": {
     "iopub.execute_input": "2025-07-30T21:42:05.548800Z",
     "iopub.status.busy": "2025-07-30T21:42:05.548288Z",
     "iopub.status.idle": "2025-07-30T21:42:06.129679Z",
     "shell.execute_reply": "2025-07-30T21:42:06.128718Z"
    },
    "papermill": {
     "duration": 0.60854,
     "end_time": "2025-07-30T21:42:06.131570",
     "exception": false,
     "start_time": "2025-07-30T21:42:05.523030",
     "status": "completed"
    },
    "tags": []
   },
   "outputs": [],
   "source": [
    "siab_train = sample_by_year_size(siab,\n",
    "                               training_year=universe[\"training_year\"],\n",
    "                               training_size=universe[\"training_size\"])"
   ]
  },
  {
   "cell_type": "code",
   "execution_count": 18,
   "id": "8d3afb32-789d-442c-8d5d-9f5aa8dd2eed",
   "metadata": {
    "execution": {
     "iopub.execute_input": "2025-07-30T21:42:06.175839Z",
     "iopub.status.busy": "2025-07-30T21:42:06.175169Z",
     "iopub.status.idle": "2025-07-30T21:42:06.181551Z",
     "shell.execute_reply": "2025-07-30T21:42:06.180634Z"
    },
    "papermill": {
     "duration": 0.030474,
     "end_time": "2025-07-30T21:42:06.183315",
     "exception": false,
     "start_time": "2025-07-30T21:42:06.152841",
     "status": "completed"
    },
    "tags": []
   },
   "outputs": [],
   "source": [
    "#siab_train.shape"
   ]
  },
  {
   "cell_type": "code",
   "execution_count": 19,
   "id": "d582db68-1a4c-47fb-84fc-08518dc1975a",
   "metadata": {
    "execution": {
     "iopub.execute_input": "2025-07-30T21:42:06.227898Z",
     "iopub.status.busy": "2025-07-30T21:42:06.227420Z",
     "iopub.status.idle": "2025-07-30T21:42:06.232756Z",
     "shell.execute_reply": "2025-07-30T21:42:06.231840Z"
    },
    "papermill": {
     "duration": 0.029703,
     "end_time": "2025-07-30T21:42:06.234837",
     "exception": false,
     "start_time": "2025-07-30T21:42:06.205134",
     "status": "completed"
    },
    "tags": []
   },
   "outputs": [],
   "source": [
    "#display(siab_train.groupby(\"year\").size())"
   ]
  },
  {
   "cell_type": "code",
   "execution_count": 20,
   "id": "a561edb4-d032-42cb-8256-22eac1111c64",
   "metadata": {
    "execution": {
     "iopub.execute_input": "2025-07-30T21:42:06.280334Z",
     "iopub.status.busy": "2025-07-30T21:42:06.279818Z",
     "iopub.status.idle": "2025-07-30T21:42:06.539434Z",
     "shell.execute_reply": "2025-07-30T21:42:06.538302Z"
    },
    "papermill": {
     "duration": 0.28352,
     "end_time": "2025-07-30T21:42:06.541122",
     "exception": false,
     "start_time": "2025-07-30T21:42:06.257602",
     "status": "completed"
    },
    "tags": []
   },
   "outputs": [],
   "source": [
    "#siab_train = siab_s[siab_s.year < 2015]\n",
    "siab_calib = siab[siab.year == 2015]\n",
    "siab_test = siab[siab.year == 2016]"
   ]
  },
  {
   "cell_type": "code",
   "execution_count": 21,
   "id": "472de16f-c3db-4916-846b-1f0de9cf1746",
   "metadata": {
    "execution": {
     "iopub.execute_input": "2025-07-30T21:42:06.596463Z",
     "iopub.status.busy": "2025-07-30T21:42:06.595956Z",
     "iopub.status.idle": "2025-07-30T21:42:06.606590Z",
     "shell.execute_reply": "2025-07-30T21:42:06.605638Z"
    },
    "papermill": {
     "duration": 0.042245,
     "end_time": "2025-07-30T21:42:06.608367",
     "exception": false,
     "start_time": "2025-07-30T21:42:06.566122",
     "status": "completed"
    },
    "tags": []
   },
   "outputs": [],
   "source": [
    "X_train = siab_train.iloc[:,4:164]\n",
    "y_train = siab_train.iloc[:, [3]]"
   ]
  },
  {
   "cell_type": "code",
   "execution_count": 22,
   "id": "828c96af-f43a-4ed6-ba47-8ac73a47d56c",
   "metadata": {
    "execution": {
     "iopub.execute_input": "2025-07-30T21:42:06.650489Z",
     "iopub.status.busy": "2025-07-30T21:42:06.649917Z",
     "iopub.status.idle": "2025-07-30T21:42:06.702577Z",
     "shell.execute_reply": "2025-07-30T21:42:06.701502Z"
    },
    "papermill": {
     "duration": 0.075772,
     "end_time": "2025-07-30T21:42:06.704439",
     "exception": false,
     "start_time": "2025-07-30T21:42:06.628667",
     "status": "completed"
    },
    "tags": []
   },
   "outputs": [],
   "source": [
    "X_calib = siab_calib.iloc[:,4:164]\n",
    "y_calib = siab_calib.iloc[:, [3]]"
   ]
  },
  {
   "cell_type": "code",
   "execution_count": 23,
   "id": "c34be9c3-6bd6-476e-acd3-845840e303be",
   "metadata": {
    "execution": {
     "iopub.execute_input": "2025-07-30T21:42:06.750944Z",
     "iopub.status.busy": "2025-07-30T21:42:06.750392Z",
     "iopub.status.idle": "2025-07-30T21:42:06.805377Z",
     "shell.execute_reply": "2025-07-30T21:42:06.804162Z"
    },
    "papermill": {
     "duration": 0.079938,
     "end_time": "2025-07-30T21:42:06.807398",
     "exception": false,
     "start_time": "2025-07-30T21:42:06.727460",
     "status": "completed"
    },
    "tags": []
   },
   "outputs": [],
   "source": [
    "X_test = siab_test.iloc[:,4:164]\n",
    "y_true = siab_test.iloc[:, [3]]"
   ]
  },
  {
   "cell_type": "markdown",
   "id": "9901737e-04df-44f0-9100-f5ad144ed040",
   "metadata": {
    "papermill": {
     "duration": 0.022024,
     "end_time": "2025-07-30T21:42:06.851602",
     "exception": false,
     "start_time": "2025-07-30T21:42:06.829578",
     "status": "completed"
    },
    "tags": []
   },
   "source": [
    "# Splitting Data and Setting Training Data Size OLD VERSION"
   ]
  },
  {
   "cell_type": "code",
   "execution_count": 24,
   "id": "acbc8f7d-8fc8-4e86-8c59-5dcb0f58384b",
   "metadata": {
    "execution": {
     "iopub.execute_input": "2025-07-30T21:42:06.899299Z",
     "iopub.status.busy": "2025-07-30T21:42:06.898614Z",
     "iopub.status.idle": "2025-07-30T21:42:06.904903Z",
     "shell.execute_reply": "2025-07-30T21:42:06.903727Z"
    },
    "papermill": {
     "duration": 0.032471,
     "end_time": "2025-07-30T21:42:06.906815",
     "exception": false,
     "start_time": "2025-07-30T21:42:06.874344",
     "status": "completed"
    },
    "tags": []
   },
   "outputs": [],
   "source": [
    "#def sample_by_year(df, training_size, random_state=42):\n",
    "#    if training_size == \"2014\":\n",
    "#        return df[df[\"year\"] == 2014].reset_index(drop=True)\n",
    "#    \n",
    "#    size_map = {\n",
    "#        \"25k\": 5000,\n",
    "#        \"5k\": 1000,\n",
    "#        \"1k\": 200\n",
    "#    }\n",
    "#\n",
    "#    if training_size not in size_map:\n",
    "#        return df.reset_index(drop=True)  # use all data\n",
    "#\n",
    "#    n_per_year = size_map[training_size]\n",
    "#    grouped = df.groupby(\"year\")\n",
    "#    sampled = grouped.apply(lambda x: x.sample(n=min(n_per_year, len(x)), random_state=random_state))\n",
    "#    return sampled.reset_index(drop=True)"
   ]
  },
  {
   "cell_type": "code",
   "execution_count": 25,
   "id": "6d931f52-beaf-43ff-9e78-9d44a448d54e",
   "metadata": {
    "execution": {
     "iopub.execute_input": "2025-07-30T21:42:06.965431Z",
     "iopub.status.busy": "2025-07-30T21:42:06.964895Z",
     "iopub.status.idle": "2025-07-30T21:42:06.970472Z",
     "shell.execute_reply": "2025-07-30T21:42:06.969283Z"
    },
    "papermill": {
     "duration": 0.045629,
     "end_time": "2025-07-30T21:42:06.972593",
     "exception": false,
     "start_time": "2025-07-30T21:42:06.926964",
     "status": "completed"
    },
    "tags": []
   },
   "outputs": [],
   "source": [
    "#siab_s = sample_by_year(siab, universe[\"training_size\"])"
   ]
  },
  {
   "cell_type": "code",
   "execution_count": 26,
   "id": "5db0a40e-a4e2-4920-be85-b12ae061d70d",
   "metadata": {
    "execution": {
     "iopub.execute_input": "2025-07-30T21:42:07.018106Z",
     "iopub.status.busy": "2025-07-30T21:42:07.017573Z",
     "iopub.status.idle": "2025-07-30T21:42:07.023414Z",
     "shell.execute_reply": "2025-07-30T21:42:07.022343Z"
    },
    "papermill": {
     "duration": 0.030271,
     "end_time": "2025-07-30T21:42:07.025374",
     "exception": false,
     "start_time": "2025-07-30T21:42:06.995103",
     "status": "completed"
    },
    "tags": []
   },
   "outputs": [],
   "source": [
    "#display(siab_s.groupby(\"year\").size())"
   ]
  },
  {
   "cell_type": "code",
   "execution_count": 27,
   "id": "e6c733c5",
   "metadata": {
    "execution": {
     "iopub.execute_input": "2025-07-30T21:42:07.071675Z",
     "iopub.status.busy": "2025-07-30T21:42:07.071200Z",
     "iopub.status.idle": "2025-07-30T21:42:07.175982Z",
     "shell.execute_reply": "2025-07-30T21:42:07.174990Z"
    },
    "papermill": {
     "duration": 0.134012,
     "end_time": "2025-07-30T21:42:07.181452",
     "exception": false,
     "start_time": "2025-07-30T21:42:07.047440",
     "status": "completed"
    },
    "tags": []
   },
   "outputs": [],
   "source": [
    "# Auxiliary data needed downstream in the pipeline\n",
    "\n",
    "org_train = X_train.copy()\n",
    "org_test = X_test.copy()\n",
    "org_calib = X_calib.copy()"
   ]
  },
  {
   "cell_type": "code",
   "execution_count": 28,
   "id": "1466abac-c6da-4492-a62f-4240ae3783af",
   "metadata": {
    "execution": {
     "iopub.execute_input": "2025-07-30T21:42:07.237495Z",
     "iopub.status.busy": "2025-07-30T21:42:07.236707Z",
     "iopub.status.idle": "2025-07-30T21:42:07.243393Z",
     "shell.execute_reply": "2025-07-30T21:42:07.242301Z"
    },
    "papermill": {
     "duration": 0.041468,
     "end_time": "2025-07-30T21:42:07.245861",
     "exception": false,
     "start_time": "2025-07-30T21:42:07.204393",
     "status": "completed"
    },
    "tags": []
   },
   "outputs": [],
   "source": [
    "# put in other script?\n",
    "# Group sizes\n",
    "\n",
    "#def calculate_percentages(df, df_name):\n",
    "#    total_entries = len(df)\n",
    "#\n",
    "#    female_pct = (df['frau1'] == 1).mean() * 100\n",
    "#    non_german_pct = ((df['maxdeutsch1'] == 0) & (df['maxdeutsch.Missing.'] == 0)).mean() * 100\n",
    "#    non_german_male_pct = ((df['frau1'] == 0) & (df['maxdeutsch1'] == 0) & (df['maxdeutsch.Missing.'] == 0)).mean() * 100\n",
    "#    non_german_female_pct = ((df['frau1'] == 1) & (df['maxdeutsch1'] == 0) & (df['maxdeutsch.Missing.'] == 0)).mean() * 100\n",
    "#\n",
    "#    print(f\"--- {df_name} ---\")\n",
    "#    print(f\"Female: {female_pct:.2f}%\")\n",
    "#    print(f\"Non-German: {non_german_pct:.2f}%\")\n",
    "#    print(f\"Non-German Male: {non_german_male_pct:.2f}%\")\n",
    "#    print(f\"Non-German Female: {non_german_female_pct:.2f}%\\n\")\n",
    "#\n",
    "## Calculate for each DataFrame\n",
    "#calculate_percentages(siab_calib, \"siab_calib\")\n",
    "#calculate_percentages(siab_test, \"siab_test\")\n",
    "#calculate_percentages(siab_train, \"siab_train\")"
   ]
  },
  {
   "cell_type": "markdown",
   "id": "0a4a1b33",
   "metadata": {
    "papermill": {
     "duration": 0.021468,
     "end_time": "2025-07-30T21:42:07.300303",
     "exception": false,
     "start_time": "2025-07-30T21:42:07.278835",
     "status": "completed"
    },
    "tags": []
   },
   "source": [
    "# Preprocessing Data"
   ]
  },
  {
   "cell_type": "code",
   "execution_count": 29,
   "id": "ca879031",
   "metadata": {
    "execution": {
     "iopub.execute_input": "2025-07-30T21:42:07.347786Z",
     "iopub.status.busy": "2025-07-30T21:42:07.347057Z",
     "iopub.status.idle": "2025-07-30T21:42:07.353779Z",
     "shell.execute_reply": "2025-07-30T21:42:07.352563Z"
    },
    "papermill": {
     "duration": 0.034094,
     "end_time": "2025-07-30T21:42:07.355686",
     "exception": false,
     "start_time": "2025-07-30T21:42:07.321592",
     "status": "completed"
    },
    "tags": []
   },
   "outputs": [],
   "source": [
    "# EXCLUDE PROTECTED FEATURES\n",
    "# ----------------------\n",
    "# \"exclude_features\": \"none\", # \"nationality\", \"sex\", \"nationality-sex\"\n",
    "\n",
    "excluded_features = universe[\"exclude_features\"].split(\"-\") # split, e.g.: \"nationality-sex\" -> [\"nationality\", \"sex\"]\n",
    "excluded_features_dictionary = {\n",
    "    \"nationality\": [\"maxdeutsch1\", \"maxdeutsch.Missing.\"],\n",
    "    \"sex\": [\"frau1\"],\n",
    "    \"age\": [\"age\"],\n",
    "}\n"
   ]
  },
  {
   "cell_type": "code",
   "execution_count": 30,
   "id": "b745ac60",
   "metadata": {
    "execution": {
     "iopub.execute_input": "2025-07-30T21:42:07.404003Z",
     "iopub.status.busy": "2025-07-30T21:42:07.403035Z",
     "iopub.status.idle": "2025-07-30T21:42:07.409733Z",
     "shell.execute_reply": "2025-07-30T21:42:07.408539Z"
    },
    "papermill": {
     "duration": 0.031941,
     "end_time": "2025-07-30T21:42:07.411928",
     "exception": false,
     "start_time": "2025-07-30T21:42:07.379987",
     "status": "completed"
    },
    "tags": []
   },
   "outputs": [],
   "source": [
    "# Code nice names to column names\n",
    "\n",
    "excluded_features_columns = [\n",
    "    excluded_features_dictionary[f] for f in excluded_features if len(f) > 0 and f != \"none\"\n",
    "]"
   ]
  },
  {
   "cell_type": "code",
   "execution_count": 31,
   "id": "f84f73a2",
   "metadata": {
    "execution": {
     "iopub.execute_input": "2025-07-30T21:42:07.462389Z",
     "iopub.status.busy": "2025-07-30T21:42:07.461414Z",
     "iopub.status.idle": "2025-07-30T21:42:07.470002Z",
     "shell.execute_reply": "2025-07-30T21:42:07.468719Z"
    },
    "papermill": {
     "duration": 0.035141,
     "end_time": "2025-07-30T21:42:07.472303",
     "exception": false,
     "start_time": "2025-07-30T21:42:07.437162",
     "status": "completed"
    },
    "tags": []
   },
   "outputs": [],
   "source": [
    "from utils import flatten_once\n",
    "\n",
    "excluded_features_columns = flatten_once(excluded_features_columns)"
   ]
  },
  {
   "cell_type": "code",
   "execution_count": 32,
   "id": "884dea22",
   "metadata": {
    "execution": {
     "iopub.execute_input": "2025-07-30T21:42:07.519745Z",
     "iopub.status.busy": "2025-07-30T21:42:07.519057Z",
     "iopub.status.idle": "2025-07-30T21:42:07.525617Z",
     "shell.execute_reply": "2025-07-30T21:42:07.524547Z"
    },
    "papermill": {
     "duration": 0.03244,
     "end_time": "2025-07-30T21:42:07.527240",
     "exception": false,
     "start_time": "2025-07-30T21:42:07.494800",
     "status": "completed"
    },
    "tags": []
   },
   "outputs": [],
   "source": [
    "if len(excluded_features_columns) > 0:\n",
    "    print(f\"Dropping features: {excluded_features_columns}\")\n",
    "    X_train.drop(excluded_features_columns, axis=1, inplace=True)"
   ]
  },
  {
   "cell_type": "code",
   "execution_count": 33,
   "id": "95ab8b16",
   "metadata": {
    "execution": {
     "iopub.execute_input": "2025-07-30T21:42:07.575381Z",
     "iopub.status.busy": "2025-07-30T21:42:07.574657Z",
     "iopub.status.idle": "2025-07-30T21:42:07.580845Z",
     "shell.execute_reply": "2025-07-30T21:42:07.579764Z"
    },
    "papermill": {
     "duration": 0.033081,
     "end_time": "2025-07-30T21:42:07.582816",
     "exception": false,
     "start_time": "2025-07-30T21:42:07.549735",
     "status": "completed"
    },
    "tags": []
   },
   "outputs": [],
   "source": [
    "if len(excluded_features_columns) > 0:\n",
    "    print(f\"Dropping features: {excluded_features_columns}\")\n",
    "    X_test.drop(excluded_features_columns, axis=1, inplace=True)"
   ]
  },
  {
   "cell_type": "code",
   "execution_count": 34,
   "id": "1853aaf5-fb9f-46cb-a2b5-8ea4ae2237e4",
   "metadata": {
    "execution": {
     "iopub.execute_input": "2025-07-30T21:42:07.630918Z",
     "iopub.status.busy": "2025-07-30T21:42:07.630434Z",
     "iopub.status.idle": "2025-07-30T21:42:07.636278Z",
     "shell.execute_reply": "2025-07-30T21:42:07.635201Z"
    },
    "papermill": {
     "duration": 0.031786,
     "end_time": "2025-07-30T21:42:07.638047",
     "exception": false,
     "start_time": "2025-07-30T21:42:07.606261",
     "status": "completed"
    },
    "tags": []
   },
   "outputs": [],
   "source": [
    "if len(excluded_features_columns) > 0:\n",
    "    print(f\"Dropping features: {excluded_features_columns}\")\n",
    "    X_calib.drop(excluded_features_columns, axis=1, inplace=True)"
   ]
  },
  {
   "cell_type": "code",
   "execution_count": 35,
   "id": "6727d079-03e5-481e-9d38-292a90b7a0a8",
   "metadata": {
    "execution": {
     "iopub.execute_input": "2025-07-30T21:42:07.688174Z",
     "iopub.status.busy": "2025-07-30T21:42:07.687453Z",
     "iopub.status.idle": "2025-07-30T21:42:07.692788Z",
     "shell.execute_reply": "2025-07-30T21:42:07.691728Z"
    },
    "papermill": {
     "duration": 0.032267,
     "end_time": "2025-07-30T21:42:07.694513",
     "exception": false,
     "start_time": "2025-07-30T21:42:07.662246",
     "status": "completed"
    },
    "tags": []
   },
   "outputs": [],
   "source": [
    "# SPLIT & STRATIFY DATA\n",
    "# ----------------------"
   ]
  },
  {
   "cell_type": "code",
   "execution_count": 36,
   "id": "76c4dc6d",
   "metadata": {
    "execution": {
     "iopub.execute_input": "2025-07-30T21:42:07.743449Z",
     "iopub.status.busy": "2025-07-30T21:42:07.742774Z",
     "iopub.status.idle": "2025-07-30T21:42:07.748685Z",
     "shell.execute_reply": "2025-07-30T21:42:07.747611Z"
    },
    "papermill": {
     "duration": 0.03333,
     "end_time": "2025-07-30T21:42:07.750492",
     "exception": false,
     "start_time": "2025-07-30T21:42:07.717162",
     "status": "completed"
    },
    "tags": []
   },
   "outputs": [],
   "source": [
    "# EXCLUDE CERTAIN SUBGROUPS\n",
    "# ----------------------\n",
    "\n",
    "mode = universe.get(\"exclude_subgroups\", \"keep-all\") \n",
    "# Fetches the exclude_subgroups setting from the universe dict.\n",
    "# Defaults to \"keep-all\" if the key is missing."
   ]
  },
  {
   "cell_type": "code",
   "execution_count": 37,
   "id": "21994072",
   "metadata": {
    "execution": {
     "iopub.execute_input": "2025-07-30T21:42:07.797557Z",
     "iopub.status.busy": "2025-07-30T21:42:07.797066Z",
     "iopub.status.idle": "2025-07-30T21:42:07.804404Z",
     "shell.execute_reply": "2025-07-30T21:42:07.803331Z"
    },
    "papermill": {
     "duration": 0.032211,
     "end_time": "2025-07-30T21:42:07.806156",
     "exception": false,
     "start_time": "2025-07-30T21:42:07.773945",
     "status": "completed"
    },
    "tags": []
   },
   "outputs": [],
   "source": [
    "if mode == \"keep-all\":\n",
    "    keep_mask = pd.Series(True, index=org_train.index)\n",
    "\n",
    "# org_train contains the original feature columns from features_org (in Simson)\n",
    "# features_org contains unprocessed features, for me X_train at beginning ???\n",
    "# For keep-all, creates a boolean Series (keep_mask) of all True, so no rows are removed.\n",
    "\n",
    "elif mode == \"drop-non-german\":\n",
    "    keep_mask = org_train[\"maxdeutsch1\"] == 1 # ??? what about missing values?\n",
    "\n",
    "else:\n",
    "    raise ValueError(f\"Unsupported mode for exclude_subgroups: {mode}\")\n"
   ]
  },
  {
   "cell_type": "code",
   "execution_count": 38,
   "id": "71651440",
   "metadata": {
    "execution": {
     "iopub.execute_input": "2025-07-30T21:42:07.857696Z",
     "iopub.status.busy": "2025-07-30T21:42:07.857107Z",
     "iopub.status.idle": "2025-07-30T21:42:07.864343Z",
     "shell.execute_reply": "2025-07-30T21:42:07.863211Z"
    },
    "papermill": {
     "duration": 0.034668,
     "end_time": "2025-07-30T21:42:07.866032",
     "exception": false,
     "start_time": "2025-07-30T21:42:07.831364",
     "status": "completed"
    },
    "tags": []
   },
   "outputs": [],
   "source": [
    "n_drop = (~keep_mask).sum() # Calculates how many rows are set to be dropped\n",
    "if n_drop > 0:\n",
    "    pct = n_drop / len(keep_mask) * 100\n",
    "    print(f\"Dropping {n_drop} rows ({pct:.2f}%) where mode='{mode}'\")"
   ]
  },
  {
   "cell_type": "code",
   "execution_count": 39,
   "id": "5fb8eee5",
   "metadata": {
    "execution": {
     "iopub.execute_input": "2025-07-30T21:42:07.920295Z",
     "iopub.status.busy": "2025-07-30T21:42:07.919395Z",
     "iopub.status.idle": "2025-07-30T21:42:07.925954Z",
     "shell.execute_reply": "2025-07-30T21:42:07.925010Z"
    },
    "papermill": {
     "duration": 0.035116,
     "end_time": "2025-07-30T21:42:07.927670",
     "exception": false,
     "start_time": "2025-07-30T21:42:07.892554",
     "status": "completed"
    },
    "tags": []
   },
   "outputs": [],
   "source": [
    "X_train = X_train[keep_mask]"
   ]
  },
  {
   "cell_type": "code",
   "execution_count": 40,
   "id": "b202bb3a",
   "metadata": {
    "execution": {
     "iopub.execute_input": "2025-07-30T21:42:07.958927Z",
     "iopub.status.busy": "2025-07-30T21:42:07.958406Z",
     "iopub.status.idle": "2025-07-30T21:42:07.963647Z",
     "shell.execute_reply": "2025-07-30T21:42:07.962748Z"
    },
    "papermill": {
     "duration": 0.021582,
     "end_time": "2025-07-30T21:42:07.965192",
     "exception": false,
     "start_time": "2025-07-30T21:42:07.943610",
     "status": "completed"
    },
    "tags": []
   },
   "outputs": [],
   "source": [
    "y_train = y_train[keep_mask]"
   ]
  },
  {
   "cell_type": "markdown",
   "id": "493e2ac3",
   "metadata": {
    "papermill": {
     "duration": 0.014712,
     "end_time": "2025-07-30T21:42:07.996843",
     "exception": false,
     "start_time": "2025-07-30T21:42:07.982131",
     "status": "completed"
    },
    "tags": []
   },
   "source": [
    "# Model Training"
   ]
  },
  {
   "cell_type": "code",
   "execution_count": 41,
   "id": "679e1268",
   "metadata": {
    "execution": {
     "iopub.execute_input": "2025-07-30T21:42:08.023390Z",
     "iopub.status.busy": "2025-07-30T21:42:08.022966Z",
     "iopub.status.idle": "2025-07-30T21:42:08.100348Z",
     "shell.execute_reply": "2025-07-30T21:42:08.099548Z"
    },
    "papermill": {
     "duration": 0.092446,
     "end_time": "2025-07-30T21:42:08.101851",
     "exception": false,
     "start_time": "2025-07-30T21:42:08.009405",
     "status": "completed"
    },
    "tags": []
   },
   "outputs": [],
   "source": [
    "from sklearn.linear_model import LogisticRegression\n",
    "from sklearn.ensemble import GradientBoostingClassifier, RandomForestClassifier\n",
    "\n",
    "if (universe[\"model\"] == \"logreg\"):\n",
    "    model = LogisticRegression() #penalty=\"none\") #, solver=\"newton-cg\", max_iter=1) # include random_state=19 ?\n",
    "elif (universe[\"model\"] == \"penalized_logreg\"):\n",
    "    model = LogisticRegression(penalty=\"l2\", C=1.0) #, solver=\"newton-cg\", max_iter=1)\n",
    "elif (universe[\"model\"] == \"rf\"):\n",
    "    model = RandomForestClassifier(n_estimators=100, n_jobs=-1)\n",
    "elif (universe[\"model\"] == \"gbm\"):\n",
    "    model = GradientBoostingClassifier()\n",
    "elif (universe[\"model\"] == \"elasticnet\"):\n",
    "    model = LogisticRegression(penalty = 'elasticnet', solver = 'saga', l1_ratio = 0.5, max_iter=5000) # which solver to use?\n",
    "else:\n",
    "    raise \"Unsupported universe.model\""
   ]
  },
  {
   "cell_type": "code",
   "execution_count": 42,
   "id": "0cc8f744",
   "metadata": {
    "execution": {
     "iopub.execute_input": "2025-07-30T21:42:08.128181Z",
     "iopub.status.busy": "2025-07-30T21:42:08.127780Z",
     "iopub.status.idle": "2025-07-30T21:42:08.133163Z",
     "shell.execute_reply": "2025-07-30T21:42:08.132194Z"
    },
    "papermill": {
     "duration": 0.020263,
     "end_time": "2025-07-30T21:42:08.134478",
     "exception": false,
     "start_time": "2025-07-30T21:42:08.114215",
     "status": "completed"
    },
    "tags": []
   },
   "outputs": [],
   "source": [
    "import numpy as np\n",
    "from sklearn.pipeline import Pipeline\n",
    "from sklearn.preprocessing import StandardScaler\n",
    "\n",
    "model = Pipeline([\n",
    "    #(\"continuous_processor\", continuous_processor),\n",
    "    #(\"categorical_preprocessor\", categorical_preprocessor),\n",
    "    (\"scale\", StandardScaler() if universe[\"scale\"] == \"scale\" else None), \n",
    "    (\"model\", model),\n",
    "])"
   ]
  },
  {
   "cell_type": "code",
   "execution_count": 43,
   "id": "9442c04d",
   "metadata": {
    "execution": {
     "iopub.execute_input": "2025-07-30T21:42:08.161600Z",
     "iopub.status.busy": "2025-07-30T21:42:08.161063Z",
     "iopub.status.idle": "2025-07-30T21:42:27.569121Z",
     "shell.execute_reply": "2025-07-30T21:42:27.568097Z"
    },
    "papermill": {
     "duration": 19.422891,
     "end_time": "2025-07-30T21:42:27.570765",
     "exception": false,
     "start_time": "2025-07-30T21:42:08.147874",
     "status": "completed"
    },
    "tags": []
   },
   "outputs": [
    {
     "name": "stderr",
     "output_type": "stream",
     "text": [
      "/dss/dsshome1/0C/ra93lal2/.local/share/virtualenvs/CMA_Fairness_v2-3j10GkSs/lib/python3.10/site-packages/sklearn/linear_model/_sag.py:350: ConvergenceWarning: The max_iter was reached which means the coef_ did not converge\n",
      "  warnings.warn(\n"
     ]
    },
    {
     "data": {
      "text/html": [
       "<style>#sk-container-id-1 {color: black;background-color: white;}#sk-container-id-1 pre{padding: 0;}#sk-container-id-1 div.sk-toggleable {background-color: white;}#sk-container-id-1 label.sk-toggleable__label {cursor: pointer;display: block;width: 100%;margin-bottom: 0;padding: 0.3em;box-sizing: border-box;text-align: center;}#sk-container-id-1 label.sk-toggleable__label-arrow:before {content: \"▸\";float: left;margin-right: 0.25em;color: #696969;}#sk-container-id-1 label.sk-toggleable__label-arrow:hover:before {color: black;}#sk-container-id-1 div.sk-estimator:hover label.sk-toggleable__label-arrow:before {color: black;}#sk-container-id-1 div.sk-toggleable__content {max-height: 0;max-width: 0;overflow: hidden;text-align: left;background-color: #f0f8ff;}#sk-container-id-1 div.sk-toggleable__content pre {margin: 0.2em;color: black;border-radius: 0.25em;background-color: #f0f8ff;}#sk-container-id-1 input.sk-toggleable__control:checked~div.sk-toggleable__content {max-height: 200px;max-width: 100%;overflow: auto;}#sk-container-id-1 input.sk-toggleable__control:checked~label.sk-toggleable__label-arrow:before {content: \"▾\";}#sk-container-id-1 div.sk-estimator input.sk-toggleable__control:checked~label.sk-toggleable__label {background-color: #d4ebff;}#sk-container-id-1 div.sk-label input.sk-toggleable__control:checked~label.sk-toggleable__label {background-color: #d4ebff;}#sk-container-id-1 input.sk-hidden--visually {border: 0;clip: rect(1px 1px 1px 1px);clip: rect(1px, 1px, 1px, 1px);height: 1px;margin: -1px;overflow: hidden;padding: 0;position: absolute;width: 1px;}#sk-container-id-1 div.sk-estimator {font-family: monospace;background-color: #f0f8ff;border: 1px dotted black;border-radius: 0.25em;box-sizing: border-box;margin-bottom: 0.5em;}#sk-container-id-1 div.sk-estimator:hover {background-color: #d4ebff;}#sk-container-id-1 div.sk-parallel-item::after {content: \"\";width: 100%;border-bottom: 1px solid gray;flex-grow: 1;}#sk-container-id-1 div.sk-label:hover label.sk-toggleable__label {background-color: #d4ebff;}#sk-container-id-1 div.sk-serial::before {content: \"\";position: absolute;border-left: 1px solid gray;box-sizing: border-box;top: 0;bottom: 0;left: 50%;z-index: 0;}#sk-container-id-1 div.sk-serial {display: flex;flex-direction: column;align-items: center;background-color: white;padding-right: 0.2em;padding-left: 0.2em;position: relative;}#sk-container-id-1 div.sk-item {position: relative;z-index: 1;}#sk-container-id-1 div.sk-parallel {display: flex;align-items: stretch;justify-content: center;background-color: white;position: relative;}#sk-container-id-1 div.sk-item::before, #sk-container-id-1 div.sk-parallel-item::before {content: \"\";position: absolute;border-left: 1px solid gray;box-sizing: border-box;top: 0;bottom: 0;left: 50%;z-index: -1;}#sk-container-id-1 div.sk-parallel-item {display: flex;flex-direction: column;z-index: 1;position: relative;background-color: white;}#sk-container-id-1 div.sk-parallel-item:first-child::after {align-self: flex-end;width: 50%;}#sk-container-id-1 div.sk-parallel-item:last-child::after {align-self: flex-start;width: 50%;}#sk-container-id-1 div.sk-parallel-item:only-child::after {width: 0;}#sk-container-id-1 div.sk-dashed-wrapped {border: 1px dashed gray;margin: 0 0.4em 0.5em 0.4em;box-sizing: border-box;padding-bottom: 0.4em;background-color: white;}#sk-container-id-1 div.sk-label label {font-family: monospace;font-weight: bold;display: inline-block;line-height: 1.2em;}#sk-container-id-1 div.sk-label-container {text-align: center;}#sk-container-id-1 div.sk-container {/* jupyter's `normalize.less` sets `[hidden] { display: none; }` but bootstrap.min.css set `[hidden] { display: none !important; }` so we also need the `!important` here to be able to override the default hidden behavior on the sphinx rendered scikit-learn.org. See: https://github.com/scikit-learn/scikit-learn/issues/21755 */display: inline-block !important;position: relative;}#sk-container-id-1 div.sk-text-repr-fallback {display: none;}</style><div id=\"sk-container-id-1\" class=\"sk-top-container\"><div class=\"sk-text-repr-fallback\"><pre>Pipeline(steps=[(&#x27;scale&#x27;, None),\n",
       "                (&#x27;model&#x27;,\n",
       "                 LogisticRegression(l1_ratio=0.5, max_iter=5000,\n",
       "                                    penalty=&#x27;elasticnet&#x27;, solver=&#x27;saga&#x27;))])</pre><b>In a Jupyter environment, please rerun this cell to show the HTML representation or trust the notebook. <br />On GitHub, the HTML representation is unable to render, please try loading this page with nbviewer.org.</b></div><div class=\"sk-container\" hidden><div class=\"sk-item sk-dashed-wrapped\"><div class=\"sk-label-container\"><div class=\"sk-label sk-toggleable\"><input class=\"sk-toggleable__control sk-hidden--visually\" id=\"sk-estimator-id-1\" type=\"checkbox\" ><label for=\"sk-estimator-id-1\" class=\"sk-toggleable__label sk-toggleable__label-arrow\">Pipeline</label><div class=\"sk-toggleable__content\"><pre>Pipeline(steps=[(&#x27;scale&#x27;, None),\n",
       "                (&#x27;model&#x27;,\n",
       "                 LogisticRegression(l1_ratio=0.5, max_iter=5000,\n",
       "                                    penalty=&#x27;elasticnet&#x27;, solver=&#x27;saga&#x27;))])</pre></div></div></div><div class=\"sk-serial\"><div class=\"sk-item\"><div class=\"sk-estimator sk-toggleable\"><input class=\"sk-toggleable__control sk-hidden--visually\" id=\"sk-estimator-id-2\" type=\"checkbox\" ><label for=\"sk-estimator-id-2\" class=\"sk-toggleable__label sk-toggleable__label-arrow\">None</label><div class=\"sk-toggleable__content\"><pre>None</pre></div></div></div><div class=\"sk-item\"><div class=\"sk-estimator sk-toggleable\"><input class=\"sk-toggleable__control sk-hidden--visually\" id=\"sk-estimator-id-3\" type=\"checkbox\" ><label for=\"sk-estimator-id-3\" class=\"sk-toggleable__label sk-toggleable__label-arrow\">LogisticRegression</label><div class=\"sk-toggleable__content\"><pre>LogisticRegression(l1_ratio=0.5, max_iter=5000, penalty=&#x27;elasticnet&#x27;,\n",
       "                   solver=&#x27;saga&#x27;)</pre></div></div></div></div></div></div></div>"
      ],
      "text/plain": [
       "Pipeline(steps=[('scale', None),\n",
       "                ('model',\n",
       "                 LogisticRegression(l1_ratio=0.5, max_iter=5000,\n",
       "                                    penalty='elasticnet', solver='saga'))])"
      ]
     },
     "execution_count": 43,
     "metadata": {},
     "output_type": "execute_result"
    }
   ],
   "source": [
    "model.fit(X_train, y_train.values.ravel())"
   ]
  },
  {
   "cell_type": "code",
   "execution_count": 44,
   "id": "af59f8c0",
   "metadata": {
    "execution": {
     "iopub.execute_input": "2025-07-30T21:42:27.620128Z",
     "iopub.status.busy": "2025-07-30T21:42:27.619562Z",
     "iopub.status.idle": "2025-07-30T21:42:27.625042Z",
     "shell.execute_reply": "2025-07-30T21:42:27.624038Z"
    },
    "papermill": {
     "duration": 0.029463,
     "end_time": "2025-07-30T21:42:27.627027",
     "exception": false,
     "start_time": "2025-07-30T21:42:27.597564",
     "status": "completed"
    },
    "tags": []
   },
   "outputs": [],
   "source": [
    "from fairness_multiverse.universe import predict_w_threshold"
   ]
  },
  {
   "cell_type": "code",
   "execution_count": 45,
   "id": "a7cf2e16",
   "metadata": {
    "execution": {
     "iopub.execute_input": "2025-07-30T21:42:27.677807Z",
     "iopub.status.busy": "2025-07-30T21:42:27.677312Z",
     "iopub.status.idle": "2025-07-30T21:42:27.779969Z",
     "shell.execute_reply": "2025-07-30T21:42:27.778620Z"
    },
    "papermill": {
     "duration": 0.129748,
     "end_time": "2025-07-30T21:42:27.781673",
     "exception": false,
     "start_time": "2025-07-30T21:42:27.651925",
     "status": "completed"
    },
    "tags": []
   },
   "outputs": [
    {
     "data": {
      "text/plain": [
       "0.8651655333853528"
      ]
     },
     "execution_count": 45,
     "metadata": {},
     "output_type": "execute_result"
    }
   ],
   "source": [
    "probs_test = model.predict_proba(X_test)\n",
    "\n",
    "'''\n",
    "Below code returns a boolean array (or binary 0/1 array depending on how it’s used) where each element \n",
    "is True if the probability of class 1 is greater than or equal to the threshold, and False otherwise.\n",
    "'''\n",
    "y_pred_default = predict_w_threshold(probs_test, 0.5)\n",
    "\n",
    "from sklearn.metrics import accuracy_score\n",
    "\n",
    "# Naive prediction\n",
    "accuracy_score(y_true = y_true, y_pred = y_pred_default)"
   ]
  },
  {
   "cell_type": "code",
   "execution_count": 46,
   "id": "081964c3",
   "metadata": {
    "execution": {
     "iopub.execute_input": "2025-07-30T21:42:27.829606Z",
     "iopub.status.busy": "2025-07-30T21:42:27.828870Z",
     "iopub.status.idle": "2025-07-30T21:42:27.913434Z",
     "shell.execute_reply": "2025-07-30T21:42:27.912486Z"
    },
    "papermill": {
     "duration": 0.112928,
     "end_time": "2025-07-30T21:42:27.915114",
     "exception": false,
     "start_time": "2025-07-30T21:42:27.802186",
     "status": "completed"
    },
    "tags": []
   },
   "outputs": [
    {
     "data": {
      "text/plain": [
       "array([0, 0, 0, ..., 0, 0, 0])"
      ]
     },
     "execution_count": 46,
     "metadata": {},
     "output_type": "execute_result"
    }
   ],
   "source": [
    "model.predict(X_test)"
   ]
  },
  {
   "cell_type": "markdown",
   "id": "56c9705b",
   "metadata": {
    "papermill": {
     "duration": 0.024347,
     "end_time": "2025-07-30T21:42:27.965619",
     "exception": false,
     "start_time": "2025-07-30T21:42:27.941272",
     "status": "completed"
    },
    "tags": []
   },
   "source": [
    "# Conformal Prediction"
   ]
  },
  {
   "cell_type": "code",
   "execution_count": 47,
   "id": "160ec6ff",
   "metadata": {
    "execution": {
     "iopub.execute_input": "2025-07-30T21:42:28.016225Z",
     "iopub.status.busy": "2025-07-30T21:42:28.015746Z",
     "iopub.status.idle": "2025-07-30T21:42:28.021430Z",
     "shell.execute_reply": "2025-07-30T21:42:28.020335Z"
    },
    "papermill": {
     "duration": 0.031394,
     "end_time": "2025-07-30T21:42:28.023188",
     "exception": false,
     "start_time": "2025-07-30T21:42:27.991794",
     "status": "completed"
    },
    "tags": []
   },
   "outputs": [],
   "source": [
    "# Miscoverage level for conformal prediction (10% allowed error rate => 90% target coverage)\n",
    "alpha = 0.1"
   ]
  },
  {
   "cell_type": "code",
   "execution_count": 48,
   "id": "eadf4555-3dd3-440e-8e35-f82a4ad9f855",
   "metadata": {
    "execution": {
     "iopub.execute_input": "2025-07-30T21:42:28.076661Z",
     "iopub.status.busy": "2025-07-30T21:42:28.075820Z",
     "iopub.status.idle": "2025-07-30T21:42:28.166379Z",
     "shell.execute_reply": "2025-07-30T21:42:28.165320Z"
    },
    "papermill": {
     "duration": 0.118473,
     "end_time": "2025-07-30T21:42:28.168352",
     "exception": false,
     "start_time": "2025-07-30T21:42:28.049879",
     "status": "completed"
    },
    "tags": []
   },
   "outputs": [],
   "source": [
    "probs_calib = model.predict_proba(X_calib)"
   ]
  },
  {
   "cell_type": "code",
   "execution_count": 49,
   "id": "2ed93547-6d5d-4983-9b36-1ecb300da49a",
   "metadata": {
    "execution": {
     "iopub.execute_input": "2025-07-30T21:42:28.220191Z",
     "iopub.status.busy": "2025-07-30T21:42:28.219501Z",
     "iopub.status.idle": "2025-07-30T21:42:28.225576Z",
     "shell.execute_reply": "2025-07-30T21:42:28.224573Z"
    },
    "papermill": {
     "duration": 0.035455,
     "end_time": "2025-07-30T21:42:28.227408",
     "exception": false,
     "start_time": "2025-07-30T21:42:28.191953",
     "status": "completed"
    },
    "tags": []
   },
   "outputs": [],
   "source": [
    "y_calib = y_calib.values.ravel().astype(int)"
   ]
  },
  {
   "cell_type": "code",
   "execution_count": 50,
   "id": "65d1320d-f588-4b38-9072-62af1ae97f7d",
   "metadata": {
    "execution": {
     "iopub.execute_input": "2025-07-30T21:42:28.279229Z",
     "iopub.status.busy": "2025-07-30T21:42:28.278344Z",
     "iopub.status.idle": "2025-07-30T21:42:28.285836Z",
     "shell.execute_reply": "2025-07-30T21:42:28.284801Z"
    },
    "papermill": {
     "duration": 0.035074,
     "end_time": "2025-07-30T21:42:28.287561",
     "exception": false,
     "start_time": "2025-07-30T21:42:28.252487",
     "status": "completed"
    },
    "tags": []
   },
   "outputs": [],
   "source": [
    "from fairness_multiverse.conformal import compute_nc_scores\n",
    "\n",
    "# Compute nonconformity scores on calibration set (1 - probability of true class)\n",
    "nc_scores = compute_nc_scores(probs_calib, y_calib)"
   ]
  },
  {
   "cell_type": "code",
   "execution_count": 51,
   "id": "df3b8ca3-53b7-43d5-9667-7c85da7aeda2",
   "metadata": {
    "execution": {
     "iopub.execute_input": "2025-07-30T21:42:28.336958Z",
     "iopub.status.busy": "2025-07-30T21:42:28.335980Z",
     "iopub.status.idle": "2025-07-30T21:42:28.343073Z",
     "shell.execute_reply": "2025-07-30T21:42:28.341953Z"
    },
    "papermill": {
     "duration": 0.034556,
     "end_time": "2025-07-30T21:42:28.344736",
     "exception": false,
     "start_time": "2025-07-30T21:42:28.310180",
     "status": "completed"
    },
    "tags": []
   },
   "outputs": [],
   "source": [
    "from fairness_multiverse.conformal import find_threshold\n",
    "\n",
    "# Find conformal threshold q_hat for the given alpha (split conformal method)\n",
    "q_hat = find_threshold(nc_scores, alpha)"
   ]
  },
  {
   "cell_type": "code",
   "execution_count": 52,
   "id": "4d29e6c1-0ef6-4aa4-b8fe-4fe79b0d033a",
   "metadata": {
    "execution": {
     "iopub.execute_input": "2025-07-30T21:42:28.397750Z",
     "iopub.status.busy": "2025-07-30T21:42:28.397272Z",
     "iopub.status.idle": "2025-07-30T21:42:28.408725Z",
     "shell.execute_reply": "2025-07-30T21:42:28.407715Z"
    },
    "papermill": {
     "duration": 0.039797,
     "end_time": "2025-07-30T21:42:28.410304",
     "exception": false,
     "start_time": "2025-07-30T21:42:28.370507",
     "status": "completed"
    },
    "tags": []
   },
   "outputs": [
    {
     "data": {
      "text/plain": [
       "0.69788634827989"
      ]
     },
     "execution_count": 52,
     "metadata": {},
     "output_type": "execute_result"
    }
   ],
   "source": [
    "q_hat"
   ]
  },
  {
   "cell_type": "code",
   "execution_count": 53,
   "id": "92460794-cdac-4be2-ba28-f28c0515a6fb",
   "metadata": {
    "execution": {
     "iopub.execute_input": "2025-07-30T21:42:28.463377Z",
     "iopub.status.busy": "2025-07-30T21:42:28.462953Z",
     "iopub.status.idle": "2025-07-30T21:42:29.301731Z",
     "shell.execute_reply": "2025-07-30T21:42:29.300846Z"
    },
    "papermill": {
     "duration": 0.86831,
     "end_time": "2025-07-30T21:42:29.303477",
     "exception": false,
     "start_time": "2025-07-30T21:42:28.435167",
     "status": "completed"
    },
    "tags": []
   },
   "outputs": [],
   "source": [
    "from fairness_multiverse.conformal import predict_conformal_sets\n",
    "\n",
    "# Generate prediction sets for each test example\n",
    "pred_sets = predict_conformal_sets(model, X_test, q_hat)"
   ]
  },
  {
   "cell_type": "code",
   "execution_count": 54,
   "id": "d90c9a65-e6db-4f5d-80cd-e68fb7e46829",
   "metadata": {
    "execution": {
     "iopub.execute_input": "2025-07-30T21:42:29.349094Z",
     "iopub.status.busy": "2025-07-30T21:42:29.348660Z",
     "iopub.status.idle": "2025-07-30T21:42:29.353664Z",
     "shell.execute_reply": "2025-07-30T21:42:29.352828Z"
    },
    "papermill": {
     "duration": 0.029225,
     "end_time": "2025-07-30T21:42:29.355369",
     "exception": false,
     "start_time": "2025-07-30T21:42:29.326144",
     "status": "completed"
    },
    "tags": []
   },
   "outputs": [],
   "source": [
    "y_true = y_true.squeeze()"
   ]
  },
  {
   "cell_type": "code",
   "execution_count": 55,
   "id": "3a58a54a-1e68-46b9-927a-df01f18aebc8",
   "metadata": {
    "execution": {
     "iopub.execute_input": "2025-07-30T21:42:29.402110Z",
     "iopub.status.busy": "2025-07-30T21:42:29.401359Z",
     "iopub.status.idle": "2025-07-30T21:42:30.274659Z",
     "shell.execute_reply": "2025-07-30T21:42:30.273643Z"
    },
    "papermill": {
     "duration": 0.898294,
     "end_time": "2025-07-30T21:42:30.276704",
     "exception": false,
     "start_time": "2025-07-30T21:42:29.378410",
     "status": "completed"
    },
    "tags": []
   },
   "outputs": [],
   "source": [
    "from fairness_multiverse.conformal import evaluate_sets\n",
    "\n",
    "# Evaluate coverage and average set size on test data\n",
    "metrics = evaluate_sets(pred_sets, y_true)"
   ]
  },
  {
   "cell_type": "markdown",
   "id": "2b569c12-9aaa-4c88-98c9-bbcd0cf3ebb8",
   "metadata": {
    "papermill": {
     "duration": 0.022177,
     "end_time": "2025-07-30T21:42:30.321847",
     "exception": false,
     "start_time": "2025-07-30T21:42:30.299670",
     "status": "completed"
    },
    "tags": []
   },
   "source": [
    "# CP Metrics"
   ]
  },
  {
   "cell_type": "code",
   "execution_count": 56,
   "id": "5ce0a5cb-201f-45a0-ade5-94c7f0bd6095",
   "metadata": {
    "execution": {
     "iopub.execute_input": "2025-07-30T21:42:30.368369Z",
     "iopub.status.busy": "2025-07-30T21:42:30.367917Z",
     "iopub.status.idle": "2025-07-30T21:42:30.375262Z",
     "shell.execute_reply": "2025-07-30T21:42:30.374247Z"
    },
    "papermill": {
     "duration": 0.032767,
     "end_time": "2025-07-30T21:42:30.376977",
     "exception": false,
     "start_time": "2025-07-30T21:42:30.344210",
     "status": "completed"
    },
    "tags": []
   },
   "outputs": [
    {
     "data": {
      "text/plain": [
       "{'coverage': 0.9118938802809051, 'avg_size': 1.2328725894549102}"
      ]
     },
     "execution_count": 56,
     "metadata": {},
     "output_type": "execute_result"
    }
   ],
   "source": [
    "metrics"
   ]
  },
  {
   "cell_type": "code",
   "execution_count": 57,
   "id": "9b9a838d-31c9-430b-ae14-12baee460d17",
   "metadata": {
    "execution": {
     "iopub.execute_input": "2025-07-30T21:42:30.425769Z",
     "iopub.status.busy": "2025-07-30T21:42:30.425255Z",
     "iopub.status.idle": "2025-07-30T21:42:30.432575Z",
     "shell.execute_reply": "2025-07-30T21:42:30.431453Z"
    },
    "papermill": {
     "duration": 0.033012,
     "end_time": "2025-07-30T21:42:30.434264",
     "exception": false,
     "start_time": "2025-07-30T21:42:30.401252",
     "status": "completed"
    },
    "tags": []
   },
   "outputs": [],
   "source": [
    "example_universe = universe.copy()\n",
    "universe_training_year = example_universe.get(\"training_year\")\n",
    "universe_training_size = example_universe.get(\"training_size\")\n",
    "universe_scale = example_universe.get(\"scale\")\n",
    "universe_model = example_universe.get(\"model\")\n",
    "universe_exclude_features = example_universe.get(\"exclude_features\")\n",
    "universe_exclude_subgroups = example_universe.get(\"exclude_subgroups\")"
   ]
  },
  {
   "cell_type": "code",
   "execution_count": 58,
   "id": "f4b6a8ac-9dc0-4245-8a91-5b3b5999c4f9",
   "metadata": {
    "execution": {
     "iopub.execute_input": "2025-07-30T21:42:30.494168Z",
     "iopub.status.busy": "2025-07-30T21:42:30.493737Z",
     "iopub.status.idle": "2025-07-30T21:42:30.501778Z",
     "shell.execute_reply": "2025-07-30T21:42:30.500848Z"
    },
    "papermill": {
     "duration": 0.039597,
     "end_time": "2025-07-30T21:42:30.503549",
     "exception": false,
     "start_time": "2025-07-30T21:42:30.463952",
     "status": "completed"
    },
    "tags": []
   },
   "outputs": [],
   "source": [
    "cp_metrics_dict = {\n",
    "    \"universe_id\": [universe_id],\n",
    "    \"universe_training_year\": [universe_training_year],\n",
    "    \"universe_training_size\": [universe_training_size],\n",
    "    \"universe_scale\": [universe_scale],\n",
    "    \"universe_model\": [universe_model],\n",
    "    \"universe_exclude_features\": [universe_exclude_features],\n",
    "    \"universe_exclude_subgroups\": [universe_exclude_subgroups],\n",
    "    \"q_hat\": [q_hat],\n",
    "    \"coverage\": [metrics[\"coverage\"]],\n",
    "    \"avg_size\": [metrics[\"avg_size\"]],\n",
    "}"
   ]
  },
  {
   "cell_type": "code",
   "execution_count": 59,
   "id": "908acbb1-0371-4915-85ca-3fa520d2efe2",
   "metadata": {
    "execution": {
     "iopub.execute_input": "2025-07-30T21:42:30.562247Z",
     "iopub.status.busy": "2025-07-30T21:42:30.561505Z",
     "iopub.status.idle": "2025-07-30T21:42:30.569845Z",
     "shell.execute_reply": "2025-07-30T21:42:30.568859Z"
    },
    "papermill": {
     "duration": 0.0401,
     "end_time": "2025-07-30T21:42:30.571611",
     "exception": false,
     "start_time": "2025-07-30T21:42:30.531511",
     "status": "completed"
    },
    "tags": []
   },
   "outputs": [
    {
     "data": {
      "text/plain": [
       "{'universe_id': ['01cc7815d5a94d3566647e5999fd0cf9'],\n",
       " 'universe_training_year': ['2012_14'],\n",
       " 'universe_training_size': ['1k'],\n",
       " 'universe_scale': ['do-not-scale'],\n",
       " 'universe_model': ['elasticnet'],\n",
       " 'universe_exclude_features': ['none'],\n",
       " 'universe_exclude_subgroups': ['keep-all'],\n",
       " 'q_hat': [0.69788634827989],\n",
       " 'coverage': [0.9118938802809051],\n",
       " 'avg_size': [1.2328725894549102]}"
      ]
     },
     "execution_count": 59,
     "metadata": {},
     "output_type": "execute_result"
    }
   ],
   "source": [
    "cp_metrics_dict"
   ]
  },
  {
   "cell_type": "code",
   "execution_count": 60,
   "id": "33007efc-14e9-4ec6-97ac-56a455c82265",
   "metadata": {
    "execution": {
     "iopub.execute_input": "2025-07-30T21:42:30.633499Z",
     "iopub.status.busy": "2025-07-30T21:42:30.632973Z",
     "iopub.status.idle": "2025-07-30T21:42:30.639420Z",
     "shell.execute_reply": "2025-07-30T21:42:30.638390Z"
    },
    "papermill": {
     "duration": 0.041733,
     "end_time": "2025-07-30T21:42:30.641269",
     "exception": false,
     "start_time": "2025-07-30T21:42:30.599536",
     "status": "completed"
    },
    "tags": []
   },
   "outputs": [],
   "source": [
    "cp_metrics_df = pd.DataFrame(cp_metrics_dict)"
   ]
  },
  {
   "cell_type": "code",
   "execution_count": 61,
   "id": "db12611b-57b2-4910-b9d0-355adfd6e7bf",
   "metadata": {
    "execution": {
     "iopub.execute_input": "2025-07-30T21:42:30.698874Z",
     "iopub.status.busy": "2025-07-30T21:42:30.698411Z",
     "iopub.status.idle": "2025-07-30T21:42:30.716919Z",
     "shell.execute_reply": "2025-07-30T21:42:30.715835Z"
    },
    "papermill": {
     "duration": 0.055687,
     "end_time": "2025-07-30T21:42:30.725382",
     "exception": false,
     "start_time": "2025-07-30T21:42:30.669695",
     "status": "completed"
    },
    "tags": []
   },
   "outputs": [
    {
     "data": {
      "text/html": [
       "<div>\n",
       "<style scoped>\n",
       "    .dataframe tbody tr th:only-of-type {\n",
       "        vertical-align: middle;\n",
       "    }\n",
       "\n",
       "    .dataframe tbody tr th {\n",
       "        vertical-align: top;\n",
       "    }\n",
       "\n",
       "    .dataframe thead th {\n",
       "        text-align: right;\n",
       "    }\n",
       "</style>\n",
       "<table border=\"1\" class=\"dataframe\">\n",
       "  <thead>\n",
       "    <tr style=\"text-align: right;\">\n",
       "      <th></th>\n",
       "      <th>universe_id</th>\n",
       "      <th>universe_training_year</th>\n",
       "      <th>universe_training_size</th>\n",
       "      <th>universe_scale</th>\n",
       "      <th>universe_model</th>\n",
       "      <th>universe_exclude_features</th>\n",
       "      <th>universe_exclude_subgroups</th>\n",
       "      <th>q_hat</th>\n",
       "      <th>coverage</th>\n",
       "      <th>avg_size</th>\n",
       "    </tr>\n",
       "  </thead>\n",
       "  <tbody>\n",
       "    <tr>\n",
       "      <th>0</th>\n",
       "      <td>01cc7815d5a94d3566647e5999fd0cf9</td>\n",
       "      <td>2012_14</td>\n",
       "      <td>1k</td>\n",
       "      <td>do-not-scale</td>\n",
       "      <td>elasticnet</td>\n",
       "      <td>none</td>\n",
       "      <td>keep-all</td>\n",
       "      <td>0.697886</td>\n",
       "      <td>0.911894</td>\n",
       "      <td>1.232873</td>\n",
       "    </tr>\n",
       "  </tbody>\n",
       "</table>\n",
       "</div>"
      ],
      "text/plain": [
       "                        universe_id universe_training_year  \\\n",
       "0  01cc7815d5a94d3566647e5999fd0cf9                2012_14   \n",
       "\n",
       "  universe_training_size universe_scale universe_model  \\\n",
       "0                     1k   do-not-scale     elasticnet   \n",
       "\n",
       "  universe_exclude_features universe_exclude_subgroups     q_hat  coverage  \\\n",
       "0                      none                   keep-all  0.697886  0.911894   \n",
       "\n",
       "   avg_size  \n",
       "0  1.232873  "
      ]
     },
     "execution_count": 61,
     "metadata": {},
     "output_type": "execute_result"
    }
   ],
   "source": [
    "cp_metrics_df"
   ]
  },
  {
   "cell_type": "code",
   "execution_count": 62,
   "id": "b7fbde55-a0a1-47e4-9af6-fe4a17fa8c61",
   "metadata": {
    "execution": {
     "iopub.execute_input": "2025-07-30T21:42:30.775802Z",
     "iopub.status.busy": "2025-07-30T21:42:30.775333Z",
     "iopub.status.idle": "2025-07-30T21:42:30.782051Z",
     "shell.execute_reply": "2025-07-30T21:42:30.781101Z"
    },
    "papermill": {
     "duration": 0.033617,
     "end_time": "2025-07-30T21:42:30.783627",
     "exception": false,
     "start_time": "2025-07-30T21:42:30.750010",
     "status": "completed"
    },
    "tags": []
   },
   "outputs": [],
   "source": [
    "# Conditional Coverage & looking at subgroups"
   ]
  },
  {
   "cell_type": "code",
   "execution_count": 63,
   "id": "027ae886-68dd-4141-96c7-805a5450e1ef",
   "metadata": {
    "execution": {
     "iopub.execute_input": "2025-07-30T21:42:30.835268Z",
     "iopub.status.busy": "2025-07-30T21:42:30.834901Z",
     "iopub.status.idle": "2025-07-30T21:42:31.040909Z",
     "shell.execute_reply": "2025-07-30T21:42:31.039937Z"
    },
    "papermill": {
     "duration": 0.234416,
     "end_time": "2025-07-30T21:42:31.042836",
     "exception": false,
     "start_time": "2025-07-30T21:42:30.808420",
     "status": "completed"
    },
    "tags": []
   },
   "outputs": [],
   "source": [
    "from fairness_multiverse.conformal import build_cp_groups\n",
    "\n",
    "cp_groups_df = build_cp_groups(pred_sets, y_true, X_test.index, org_test)\n",
    "#needs universe_id and setting"
   ]
  },
  {
   "cell_type": "code",
   "execution_count": 64,
   "id": "01d5802c-663a-4d1f-9d69-e036faaffbf7",
   "metadata": {
    "execution": {
     "iopub.execute_input": "2025-07-30T21:42:31.072594Z",
     "iopub.status.busy": "2025-07-30T21:42:31.072227Z",
     "iopub.status.idle": "2025-07-30T21:42:31.076672Z",
     "shell.execute_reply": "2025-07-30T21:42:31.075923Z"
    },
    "papermill": {
     "duration": 0.019808,
     "end_time": "2025-07-30T21:42:31.078004",
     "exception": false,
     "start_time": "2025-07-30T21:42:31.058196",
     "status": "completed"
    },
    "tags": []
   },
   "outputs": [],
   "source": [
    "#delete\n",
    "#cp_groups_df"
   ]
  },
  {
   "cell_type": "code",
   "execution_count": 65,
   "id": "fa424af1-d1eb-443d-b717-2d279ada8408",
   "metadata": {
    "execution": {
     "iopub.execute_input": "2025-07-30T21:42:31.108101Z",
     "iopub.status.busy": "2025-07-30T21:42:31.107664Z",
     "iopub.status.idle": "2025-07-30T21:42:31.112550Z",
     "shell.execute_reply": "2025-07-30T21:42:31.111653Z"
    },
    "papermill": {
     "duration": 0.02075,
     "end_time": "2025-07-30T21:42:31.114276",
     "exception": false,
     "start_time": "2025-07-30T21:42:31.093526",
     "status": "completed"
    },
    "tags": []
   },
   "outputs": [],
   "source": [
    "#delete\n",
    "#percentage = (cp_groups_df['nongerman_female'] == 1).mean() * 100\n",
    "#print(percentage)\n"
   ]
  },
  {
   "cell_type": "code",
   "execution_count": 66,
   "id": "6cbdab96-b2b2-45af-ad54-d0516db2e28d",
   "metadata": {
    "execution": {
     "iopub.execute_input": "2025-07-30T21:42:31.168891Z",
     "iopub.status.busy": "2025-07-30T21:42:31.168527Z",
     "iopub.status.idle": "2025-07-30T21:42:32.466107Z",
     "shell.execute_reply": "2025-07-30T21:42:32.465142Z"
    },
    "papermill": {
     "duration": 1.325339,
     "end_time": "2025-07-30T21:42:32.467705",
     "exception": false,
     "start_time": "2025-07-30T21:42:31.142366",
     "status": "completed"
    },
    "tags": []
   },
   "outputs": [],
   "source": [
    "# Define covered = 1 if true_label is in the predicted set\n",
    "cp_groups_df['covered'] = cp_groups_df.apply(\n",
    "    lambda r: int(r['true_label'] in r['pred_set']),\n",
    "    axis=1\n",
    ")"
   ]
  },
  {
   "cell_type": "code",
   "execution_count": 67,
   "id": "338ff529-1a6b-4b87-a931-8e4788d52aad",
   "metadata": {
    "execution": {
     "iopub.execute_input": "2025-07-30T21:42:32.505220Z",
     "iopub.status.busy": "2025-07-30T21:42:32.504840Z",
     "iopub.status.idle": "2025-07-30T21:42:32.509102Z",
     "shell.execute_reply": "2025-07-30T21:42:32.508197Z"
    },
    "papermill": {
     "duration": 0.023428,
     "end_time": "2025-07-30T21:42:32.510347",
     "exception": false,
     "start_time": "2025-07-30T21:42:32.486919",
     "status": "completed"
    },
    "tags": []
   },
   "outputs": [],
   "source": [
    "#cp_groups_df"
   ]
  },
  {
   "cell_type": "code",
   "execution_count": 68,
   "id": "90032e27-66df-4540-9169-4e89cfbaa758",
   "metadata": {
    "execution": {
     "iopub.execute_input": "2025-07-30T21:42:32.542723Z",
     "iopub.status.busy": "2025-07-30T21:42:32.542458Z",
     "iopub.status.idle": "2025-07-30T21:42:32.551805Z",
     "shell.execute_reply": "2025-07-30T21:42:32.551035Z"
    },
    "papermill": {
     "duration": 0.02807,
     "end_time": "2025-07-30T21:42:32.553248",
     "exception": false,
     "start_time": "2025-07-30T21:42:32.525178",
     "status": "completed"
    },
    "tags": []
   },
   "outputs": [],
   "source": [
    "subgroups = ['frau1','nongerman','nongerman_male','nongerman_female']\n",
    "\n",
    "# Conditional coverage for subgroup==1\n",
    "cond_coverage = {\n",
    "    g: cp_groups_df.loc[cp_groups_df[g]==1, 'covered'].mean()\n",
    "    for g in subgroups\n",
    "}"
   ]
  },
  {
   "cell_type": "code",
   "execution_count": 69,
   "id": "1e348fb1-b9c3-45bc-ba23-f016827a7e0d",
   "metadata": {
    "execution": {
     "iopub.execute_input": "2025-07-30T21:42:32.580939Z",
     "iopub.status.busy": "2025-07-30T21:42:32.580343Z",
     "iopub.status.idle": "2025-07-30T21:42:32.586108Z",
     "shell.execute_reply": "2025-07-30T21:42:32.585444Z"
    },
    "papermill": {
     "duration": 0.020661,
     "end_time": "2025-07-30T21:42:32.587506",
     "exception": false,
     "start_time": "2025-07-30T21:42:32.566845",
     "status": "completed"
    },
    "tags": []
   },
   "outputs": [
    {
     "data": {
      "text/plain": [
       "{'frau1': 0.909179134654266,\n",
       " 'nongerman': 0.9452085555493179,\n",
       " 'nongerman_male': 0.9553273889939656,\n",
       " 'nongerman_female': 0.9284649776453056}"
      ]
     },
     "execution_count": 69,
     "metadata": {},
     "output_type": "execute_result"
    }
   ],
   "source": [
    "cond_coverage"
   ]
  },
  {
   "cell_type": "code",
   "execution_count": 70,
   "id": "f5093324-c3dd-4d63-bc4c-8d945e5c8bbb",
   "metadata": {
    "execution": {
     "iopub.execute_input": "2025-07-30T21:42:32.616547Z",
     "iopub.status.busy": "2025-07-30T21:42:32.615771Z",
     "iopub.status.idle": "2025-07-30T21:42:32.623171Z",
     "shell.execute_reply": "2025-07-30T21:42:32.622398Z"
    },
    "papermill": {
     "duration": 0.02311,
     "end_time": "2025-07-30T21:42:32.624560",
     "exception": false,
     "start_time": "2025-07-30T21:42:32.601450",
     "status": "completed"
    },
    "tags": []
   },
   "outputs": [],
   "source": [
    "for subgroup, cov in cond_coverage.items():\n",
    "    cp_metrics_df[f\"cov_{subgroup}\"] = cov"
   ]
  },
  {
   "cell_type": "code",
   "execution_count": 71,
   "id": "6e872e10-dbe5-49e8-b554-5030c98ff75d",
   "metadata": {
    "execution": {
     "iopub.execute_input": "2025-07-30T21:42:32.653931Z",
     "iopub.status.busy": "2025-07-30T21:42:32.653349Z",
     "iopub.status.idle": "2025-07-30T21:42:32.668180Z",
     "shell.execute_reply": "2025-07-30T21:42:32.666995Z"
    },
    "papermill": {
     "duration": 0.031616,
     "end_time": "2025-07-30T21:42:32.669808",
     "exception": false,
     "start_time": "2025-07-30T21:42:32.638192",
     "status": "completed"
    },
    "tags": []
   },
   "outputs": [
    {
     "data": {
      "text/html": [
       "<div>\n",
       "<style scoped>\n",
       "    .dataframe tbody tr th:only-of-type {\n",
       "        vertical-align: middle;\n",
       "    }\n",
       "\n",
       "    .dataframe tbody tr th {\n",
       "        vertical-align: top;\n",
       "    }\n",
       "\n",
       "    .dataframe thead th {\n",
       "        text-align: right;\n",
       "    }\n",
       "</style>\n",
       "<table border=\"1\" class=\"dataframe\">\n",
       "  <thead>\n",
       "    <tr style=\"text-align: right;\">\n",
       "      <th></th>\n",
       "      <th>universe_id</th>\n",
       "      <th>universe_training_year</th>\n",
       "      <th>universe_training_size</th>\n",
       "      <th>universe_scale</th>\n",
       "      <th>universe_model</th>\n",
       "      <th>universe_exclude_features</th>\n",
       "      <th>universe_exclude_subgroups</th>\n",
       "      <th>q_hat</th>\n",
       "      <th>coverage</th>\n",
       "      <th>avg_size</th>\n",
       "      <th>cov_frau1</th>\n",
       "      <th>cov_nongerman</th>\n",
       "      <th>cov_nongerman_male</th>\n",
       "      <th>cov_nongerman_female</th>\n",
       "    </tr>\n",
       "  </thead>\n",
       "  <tbody>\n",
       "    <tr>\n",
       "      <th>0</th>\n",
       "      <td>01cc7815d5a94d3566647e5999fd0cf9</td>\n",
       "      <td>2012_14</td>\n",
       "      <td>1k</td>\n",
       "      <td>do-not-scale</td>\n",
       "      <td>elasticnet</td>\n",
       "      <td>none</td>\n",
       "      <td>keep-all</td>\n",
       "      <td>0.697886</td>\n",
       "      <td>0.911894</td>\n",
       "      <td>1.232873</td>\n",
       "      <td>0.909179</td>\n",
       "      <td>0.945209</td>\n",
       "      <td>0.955327</td>\n",
       "      <td>0.928465</td>\n",
       "    </tr>\n",
       "  </tbody>\n",
       "</table>\n",
       "</div>"
      ],
      "text/plain": [
       "                        universe_id universe_training_year  \\\n",
       "0  01cc7815d5a94d3566647e5999fd0cf9                2012_14   \n",
       "\n",
       "  universe_training_size universe_scale universe_model  \\\n",
       "0                     1k   do-not-scale     elasticnet   \n",
       "\n",
       "  universe_exclude_features universe_exclude_subgroups     q_hat  coverage  \\\n",
       "0                      none                   keep-all  0.697886  0.911894   \n",
       "\n",
       "   avg_size  cov_frau1  cov_nongerman  cov_nongerman_male  \\\n",
       "0  1.232873   0.909179       0.945209            0.955327   \n",
       "\n",
       "   cov_nongerman_female  \n",
       "0              0.928465  "
      ]
     },
     "execution_count": 71,
     "metadata": {},
     "output_type": "execute_result"
    }
   ],
   "source": [
    "cp_metrics_df"
   ]
  },
  {
   "cell_type": "markdown",
   "id": "33774451",
   "metadata": {
    "papermill": {
     "duration": 0.02401,
     "end_time": "2025-07-30T21:42:32.722082",
     "exception": false,
     "start_time": "2025-07-30T21:42:32.698072",
     "status": "completed"
    },
    "tags": []
   },
   "source": [
    "# (Fairness) Metrics"
   ]
  },
  {
   "cell_type": "code",
   "execution_count": 72,
   "id": "debc5d62",
   "metadata": {
    "execution": {
     "iopub.execute_input": "2025-07-30T21:42:32.772166Z",
     "iopub.status.busy": "2025-07-30T21:42:32.771720Z",
     "iopub.status.idle": "2025-07-30T21:42:32.785540Z",
     "shell.execute_reply": "2025-07-30T21:42:32.784793Z"
    },
    "papermill": {
     "duration": 0.038076,
     "end_time": "2025-07-30T21:42:32.786978",
     "exception": false,
     "start_time": "2025-07-30T21:42:32.748902",
     "status": "completed"
    },
    "tags": []
   },
   "outputs": [],
   "source": [
    "# do I need to include maxdeutsch1.missing?\n",
    "\n",
    "import numpy as np\n",
    "\n",
    "colname_to_bin = \"maxdeutsch1\"\n",
    "majority_value = org_train[colname_to_bin].mode()[0]\n",
    "\n",
    "org_test[\"majmin\"] = np.where(org_test[colname_to_bin] == majority_value, \"majority\", \"minority\")"
   ]
  },
  {
   "cell_type": "code",
   "execution_count": 73,
   "id": "06a50de5",
   "metadata": {
    "execution": {
     "iopub.execute_input": "2025-07-30T21:42:32.821719Z",
     "iopub.status.busy": "2025-07-30T21:42:32.820936Z",
     "iopub.status.idle": "2025-07-30T21:42:35.150275Z",
     "shell.execute_reply": "2025-07-30T21:42:35.149508Z"
    },
    "papermill": {
     "duration": 2.351251,
     "end_time": "2025-07-30T21:42:35.151706",
     "exception": false,
     "start_time": "2025-07-30T21:42:32.800455",
     "status": "completed"
    },
    "tags": []
   },
   "outputs": [],
   "source": [
    "example_universe = universe.copy()\n",
    "example_universe[\"cutoff\"] = example_universe[\"cutoff\"][0]\n",
    "example_universe[\"eval_fairness_grouping\"] = example_universe[\"eval_fairness_grouping\"][0]\n",
    "fairness_dict, metric_frame = universe_analysis.compute_metrics(\n",
    "    example_universe,\n",
    "    y_pred_prob=probs_test,\n",
    "    y_test=y_true,\n",
    "    org_test=org_test,\n",
    ")"
   ]
  },
  {
   "cell_type": "markdown",
   "id": "f95d4e02",
   "metadata": {
    "papermill": {
     "duration": 0.013144,
     "end_time": "2025-07-30T21:42:35.180815",
     "exception": false,
     "start_time": "2025-07-30T21:42:35.167671",
     "status": "completed"
    },
    "tags": []
   },
   "source": [
    "# Overall"
   ]
  },
  {
   "cell_type": "markdown",
   "id": "bdee4871",
   "metadata": {
    "papermill": {
     "duration": 0.013207,
     "end_time": "2025-07-30T21:42:35.207370",
     "exception": false,
     "start_time": "2025-07-30T21:42:35.194163",
     "status": "completed"
    },
    "tags": []
   },
   "source": [
    "Fairness\n",
    "Main fairness target: Equalized Odds. Seems to be a better fit than equal opportunity, since we're not only interested in Y = 1. Seems to be a better fit than demographic parity, since we also care about accuracy, not just equal distribution of preds.\n",
    "\n",
    "Pick column for computation of fairness metrics\n",
    "\n",
    "Performance\n",
    "Overall performance measures, most interesting in relation to the measures split by group below"
   ]
  },
  {
   "cell_type": "code",
   "execution_count": 74,
   "id": "c4e067c6",
   "metadata": {
    "execution": {
     "iopub.execute_input": "2025-07-30T21:42:35.235127Z",
     "iopub.status.busy": "2025-07-30T21:42:35.234633Z",
     "iopub.status.idle": "2025-07-30T21:42:35.242048Z",
     "shell.execute_reply": "2025-07-30T21:42:35.241277Z"
    },
    "papermill": {
     "duration": 0.023064,
     "end_time": "2025-07-30T21:42:35.243609",
     "exception": false,
     "start_time": "2025-07-30T21:42:35.220545",
     "status": "completed"
    },
    "tags": []
   },
   "outputs": [
    {
     "data": {
      "text/plain": [
       "accuracy                   0.213945\n",
       "balanced accuracy          0.525310\n",
       "f1                         0.235563\n",
       "precision                  0.134569\n",
       "false positive rate        0.893507\n",
       "false negative rate        0.055874\n",
       "selection rate             0.900000\n",
       "count                  89710.000000\n",
       "dtype: float64"
      ]
     },
     "execution_count": 74,
     "metadata": {},
     "output_type": "execute_result"
    }
   ],
   "source": [
    "metric_frame.overall"
   ]
  },
  {
   "cell_type": "markdown",
   "id": "e968fe9d",
   "metadata": {
    "papermill": {
     "duration": 0.013368,
     "end_time": "2025-07-30T21:42:35.272079",
     "exception": false,
     "start_time": "2025-07-30T21:42:35.258711",
     "status": "completed"
    },
    "tags": []
   },
   "source": [
    "By Group"
   ]
  },
  {
   "cell_type": "code",
   "execution_count": 75,
   "id": "ec325bce",
   "metadata": {
    "execution": {
     "iopub.execute_input": "2025-07-30T21:42:35.300672Z",
     "iopub.status.busy": "2025-07-30T21:42:35.300158Z",
     "iopub.status.idle": "2025-07-30T21:42:35.312619Z",
     "shell.execute_reply": "2025-07-30T21:42:35.311872Z"
    },
    "papermill": {
     "duration": 0.028266,
     "end_time": "2025-07-30T21:42:35.313989",
     "exception": false,
     "start_time": "2025-07-30T21:42:35.285723",
     "status": "completed"
    },
    "tags": []
   },
   "outputs": [
    {
     "data": {
      "text/html": [
       "<div>\n",
       "<style scoped>\n",
       "    .dataframe tbody tr th:only-of-type {\n",
       "        vertical-align: middle;\n",
       "    }\n",
       "\n",
       "    .dataframe tbody tr th {\n",
       "        vertical-align: top;\n",
       "    }\n",
       "\n",
       "    .dataframe thead th {\n",
       "        text-align: right;\n",
       "    }\n",
       "</style>\n",
       "<table border=\"1\" class=\"dataframe\">\n",
       "  <thead>\n",
       "    <tr style=\"text-align: right;\">\n",
       "      <th></th>\n",
       "      <th>accuracy</th>\n",
       "      <th>balanced accuracy</th>\n",
       "      <th>f1</th>\n",
       "      <th>precision</th>\n",
       "      <th>false positive rate</th>\n",
       "      <th>false negative rate</th>\n",
       "      <th>selection rate</th>\n",
       "      <th>count</th>\n",
       "    </tr>\n",
       "    <tr>\n",
       "      <th>majmin</th>\n",
       "      <th></th>\n",
       "      <th></th>\n",
       "      <th></th>\n",
       "      <th></th>\n",
       "      <th></th>\n",
       "      <th></th>\n",
       "      <th></th>\n",
       "      <th></th>\n",
       "    </tr>\n",
       "  </thead>\n",
       "  <tbody>\n",
       "    <tr>\n",
       "      <th>majority</th>\n",
       "      <td>0.234972</td>\n",
       "      <td>0.531513</td>\n",
       "      <td>0.244054</td>\n",
       "      <td>0.140353</td>\n",
       "      <td>0.871548</td>\n",
       "      <td>0.065427</td>\n",
       "      <td>0.879876</td>\n",
       "      <td>69170.0</td>\n",
       "    </tr>\n",
       "    <tr>\n",
       "      <th>minority</th>\n",
       "      <td>0.143135</td>\n",
       "      <td>0.507475</td>\n",
       "      <td>0.208847</td>\n",
       "      <td>0.116863</td>\n",
       "      <td>0.966047</td>\n",
       "      <td>0.019003</td>\n",
       "      <td>0.967770</td>\n",
       "      <td>20540.0</td>\n",
       "    </tr>\n",
       "  </tbody>\n",
       "</table>\n",
       "</div>"
      ],
      "text/plain": [
       "          accuracy  balanced accuracy        f1  precision  \\\n",
       "majmin                                                       \n",
       "majority  0.234972           0.531513  0.244054   0.140353   \n",
       "minority  0.143135           0.507475  0.208847   0.116863   \n",
       "\n",
       "          false positive rate  false negative rate  selection rate    count  \n",
       "majmin                                                                       \n",
       "majority             0.871548             0.065427        0.879876  69170.0  \n",
       "minority             0.966047             0.019003        0.967770  20540.0  "
      ]
     },
     "execution_count": 75,
     "metadata": {},
     "output_type": "execute_result"
    }
   ],
   "source": [
    "metric_frame.by_group"
   ]
  },
  {
   "cell_type": "code",
   "execution_count": 76,
   "id": "a9ddbe63",
   "metadata": {
    "execution": {
     "iopub.execute_input": "2025-07-30T21:42:35.344446Z",
     "iopub.status.busy": "2025-07-30T21:42:35.343580Z",
     "iopub.status.idle": "2025-07-30T21:42:36.915150Z",
     "shell.execute_reply": "2025-07-30T21:42:36.914442Z"
    },
    "papermill": {
     "duration": 1.587338,
     "end_time": "2025-07-30T21:42:36.916518",
     "exception": false,
     "start_time": "2025-07-30T21:42:35.329180",
     "status": "completed"
    },
    "tags": []
   },
   "outputs": [
    {
     "data": {
      "text/plain": [
       "array([[<Axes: title={'center': 'accuracy'}, xlabel='majmin'>,\n",
       "        <Axes: title={'center': 'balanced accuracy'}, xlabel='majmin'>,\n",
       "        <Axes: title={'center': 'f1'}, xlabel='majmin'>],\n",
       "       [<Axes: title={'center': 'precision'}, xlabel='majmin'>,\n",
       "        <Axes: title={'center': 'false positive rate'}, xlabel='majmin'>,\n",
       "        <Axes: title={'center': 'false negative rate'}, xlabel='majmin'>],\n",
       "       [<Axes: title={'center': 'selection rate'}, xlabel='majmin'>,\n",
       "        <Axes: title={'center': 'count'}, xlabel='majmin'>,\n",
       "        <Axes: xlabel='majmin'>]], dtype=object)"
      ]
     },
     "execution_count": 76,
     "metadata": {},
     "output_type": "execute_result"
    },
    {
     "data": {
      "image/png": "[encoded data removed]",
      "text/plain": [
       "<Figure size 1200x800 with 9 Axes>"
      ]
     },
     "metadata": {},
     "output_type": "display_data"
    }
   ],
   "source": [
    "# In a graphic\n",
    "metric_frame.by_group.plot.bar(\n",
    "    subplots=True,\n",
    "    layout=[3, 3],\n",
    "    legend=False,\n",
    "    figsize=[12, 8],\n",
    "    title=\"Show all metrics\",\n",
    ")"
   ]
  },
  {
   "cell_type": "markdown",
   "id": "f57a0bac",
   "metadata": {
    "papermill": {
     "duration": 0.014411,
     "end_time": "2025-07-30T21:42:36.948218",
     "exception": false,
     "start_time": "2025-07-30T21:42:36.933807",
     "status": "completed"
    },
    "tags": []
   },
   "source": [
    "# Final Output"
   ]
  },
  {
   "cell_type": "code",
   "execution_count": 77,
   "id": "96d280a3",
   "metadata": {
    "execution": {
     "iopub.execute_input": "2025-07-30T21:42:36.978671Z",
     "iopub.status.busy": "2025-07-30T21:42:36.978206Z",
     "iopub.status.idle": "2025-07-30T21:42:36.985482Z",
     "shell.execute_reply": "2025-07-30T21:42:36.984761Z"
    },
    "papermill": {
     "duration": 0.024053,
     "end_time": "2025-07-30T21:42:36.986791",
     "exception": false,
     "start_time": "2025-07-30T21:42:36.962738",
     "status": "completed"
    },
    "tags": []
   },
   "outputs": [
    {
     "data": {
      "text/plain": [
       "4"
      ]
     },
     "execution_count": 77,
     "metadata": {},
     "output_type": "execute_result"
    }
   ],
   "source": [
    "sub_universes = universe_analysis.generate_sub_universes()\n",
    "len(sub_universes)"
   ]
  },
  {
   "cell_type": "code",
   "execution_count": 78,
   "id": "92adf7ba",
   "metadata": {
    "execution": {
     "iopub.execute_input": "2025-07-30T21:42:37.018772Z",
     "iopub.status.busy": "2025-07-30T21:42:37.018012Z",
     "iopub.status.idle": "2025-07-30T21:42:37.030214Z",
     "shell.execute_reply": "2025-07-30T21:42:37.029536Z"
    },
    "papermill": {
     "duration": 0.029438,
     "end_time": "2025-07-30T21:42:37.031544",
     "exception": false,
     "start_time": "2025-07-30T21:42:37.002106",
     "status": "completed"
    },
    "tags": []
   },
   "outputs": [],
   "source": [
    "def filter_sub_universe_data(sub_universe, org_test):\n",
    "    # Keep all rows — no filtering\n",
    "    keep_rows_mask = np.ones(org_test.shape[0], dtype=bool)\n",
    "\n",
    "    print(f\"[INFO] Keeping all rows: {keep_rows_mask.sum()} rows retained.\")\n",
    "    return keep_rows_mask"
   ]
  },
  {
   "cell_type": "code",
   "execution_count": 79,
   "id": "4a759155",
   "metadata": {
    "execution": {
     "iopub.execute_input": "2025-07-30T21:42:37.064293Z",
     "iopub.status.busy": "2025-07-30T21:42:37.063941Z",
     "iopub.status.idle": "2025-07-30T21:42:43.908983Z",
     "shell.execute_reply": "2025-07-30T21:42:43.908188Z"
    },
    "papermill": {
     "duration": 6.861744,
     "end_time": "2025-07-30T21:42:43.910182",
     "exception": false,
     "start_time": "2025-07-30T21:42:37.048438",
     "status": "completed"
    },
    "tags": []
   },
   "outputs": [
    {
     "name": "stdout",
     "output_type": "stream",
     "text": [
      "Stopping execution_time clock.\n",
      "[INFO] Keeping all rows: 89710 rows retained.\n"
     ]
    },
    {
     "name": "stdout",
     "output_type": "stream",
     "text": [
      "[INFO] Keeping all rows: 89710 rows retained.\n"
     ]
    },
    {
     "name": "stdout",
     "output_type": "stream",
     "text": [
      "[INFO] Keeping all rows: 89710 rows retained.\n"
     ]
    },
    {
     "name": "stdout",
     "output_type": "stream",
     "text": [
      "[INFO] Keeping all rows: 89710 rows retained.\n"
     ]
    },
    {
     "data": {
      "text/html": [
       "<div>\n",
       "<style scoped>\n",
       "    .dataframe tbody tr th:only-of-type {\n",
       "        vertical-align: middle;\n",
       "    }\n",
       "\n",
       "    .dataframe tbody tr th {\n",
       "        vertical-align: top;\n",
       "    }\n",
       "\n",
       "    .dataframe thead th {\n",
       "        text-align: right;\n",
       "    }\n",
       "</style>\n",
       "<table border=\"1\" class=\"dataframe\">\n",
       "  <thead>\n",
       "    <tr style=\"text-align: right;\">\n",
       "      <th></th>\n",
       "      <th>run_no</th>\n",
       "      <th>universe_id</th>\n",
       "      <th>universe_settings</th>\n",
       "      <th>execution_time</th>\n",
       "      <th>test_size_n</th>\n",
       "      <th>test_size_frac</th>\n",
       "      <th>fair_main_equalized_odds_difference</th>\n",
       "      <th>fair_main_equalized_odds_ratio</th>\n",
       "      <th>fair_main_demographic_parity_difference</th>\n",
       "      <th>fair_main_demographic_parity_ratio</th>\n",
       "      <th>...</th>\n",
       "      <th>perf_grp_precision_0</th>\n",
       "      <th>perf_grp_precision_1</th>\n",
       "      <th>perf_grp_false positive rate_0</th>\n",
       "      <th>perf_grp_false positive rate_1</th>\n",
       "      <th>perf_grp_false negative rate_0</th>\n",
       "      <th>perf_grp_false negative rate_1</th>\n",
       "      <th>perf_grp_selection rate_0</th>\n",
       "      <th>perf_grp_selection rate_1</th>\n",
       "      <th>perf_grp_count_0</th>\n",
       "      <th>perf_grp_count_1</th>\n",
       "    </tr>\n",
       "  </thead>\n",
       "  <tbody>\n",
       "    <tr>\n",
       "      <th>0</th>\n",
       "      <td>14</td>\n",
       "      <td>01cc7815d5a94d3566647e5999fd0cf9</td>\n",
       "      <td>{\"cutoff\": \"quantile_0.1\", \"eval_fairness_grou...</td>\n",
       "      <td>45.276592</td>\n",
       "      <td>89710</td>\n",
       "      <td>1.0</td>\n",
       "      <td>0.094499</td>\n",
       "      <td>0.902180</td>\n",
       "      <td>0.087895</td>\n",
       "      <td>0.909178</td>\n",
       "      <td>...</td>\n",
       "      <td>NaN</td>\n",
       "      <td>NaN</td>\n",
       "      <td>NaN</td>\n",
       "      <td>NaN</td>\n",
       "      <td>NaN</td>\n",
       "      <td>NaN</td>\n",
       "      <td>NaN</td>\n",
       "      <td>NaN</td>\n",
       "      <td>NaN</td>\n",
       "      <td>NaN</td>\n",
       "    </tr>\n",
       "    <tr>\n",
       "      <th>0</th>\n",
       "      <td>14</td>\n",
       "      <td>01cc7815d5a94d3566647e5999fd0cf9</td>\n",
       "      <td>{\"cutoff\": \"quantile_0.1\", \"eval_fairness_grou...</td>\n",
       "      <td>45.276592</td>\n",
       "      <td>89710</td>\n",
       "      <td>1.0</td>\n",
       "      <td>0.094499</td>\n",
       "      <td>0.902180</td>\n",
       "      <td>0.087895</td>\n",
       "      <td>0.909178</td>\n",
       "      <td>...</td>\n",
       "      <td>0.116863</td>\n",
       "      <td>0.140353</td>\n",
       "      <td>0.966047</td>\n",
       "      <td>0.871548</td>\n",
       "      <td>0.019003</td>\n",
       "      <td>0.065427</td>\n",
       "      <td>0.967770</td>\n",
       "      <td>0.879876</td>\n",
       "      <td>20540.0</td>\n",
       "      <td>69170.0</td>\n",
       "    </tr>\n",
       "    <tr>\n",
       "      <th>0</th>\n",
       "      <td>14</td>\n",
       "      <td>01cc7815d5a94d3566647e5999fd0cf9</td>\n",
       "      <td>{\"cutoff\": \"quantile_0.25\", \"eval_fairness_gro...</td>\n",
       "      <td>45.276592</td>\n",
       "      <td>89710</td>\n",
       "      <td>1.0</td>\n",
       "      <td>0.223259</td>\n",
       "      <td>0.753654</td>\n",
       "      <td>0.208062</td>\n",
       "      <td>0.771465</td>\n",
       "      <td>...</td>\n",
       "      <td>NaN</td>\n",
       "      <td>NaN</td>\n",
       "      <td>NaN</td>\n",
       "      <td>NaN</td>\n",
       "      <td>NaN</td>\n",
       "      <td>NaN</td>\n",
       "      <td>NaN</td>\n",
       "      <td>NaN</td>\n",
       "      <td>NaN</td>\n",
       "      <td>NaN</td>\n",
       "    </tr>\n",
       "    <tr>\n",
       "      <th>0</th>\n",
       "      <td>14</td>\n",
       "      <td>01cc7815d5a94d3566647e5999fd0cf9</td>\n",
       "      <td>{\"cutoff\": \"quantile_0.25\", \"eval_fairness_gro...</td>\n",
       "      <td>45.276592</td>\n",
       "      <td>89710</td>\n",
       "      <td>1.0</td>\n",
       "      <td>0.223259</td>\n",
       "      <td>0.753654</td>\n",
       "      <td>0.208062</td>\n",
       "      <td>0.771465</td>\n",
       "      <td>...</td>\n",
       "      <td>0.119305</td>\n",
       "      <td>0.156025</td>\n",
       "      <td>0.906284</td>\n",
       "      <td>0.683025</td>\n",
       "      <td>0.057855</td>\n",
       "      <td>0.170678</td>\n",
       "      <td>0.910419</td>\n",
       "      <td>0.702357</td>\n",
       "      <td>20540.0</td>\n",
       "      <td>69170.0</td>\n",
       "    </tr>\n",
       "  </tbody>\n",
       "</table>\n",
       "<p>4 rows × 50 columns</p>\n",
       "</div>"
      ],
      "text/plain": [
       "  run_no                       universe_id  \\\n",
       "0     14  01cc7815d5a94d3566647e5999fd0cf9   \n",
       "0     14  01cc7815d5a94d3566647e5999fd0cf9   \n",
       "0     14  01cc7815d5a94d3566647e5999fd0cf9   \n",
       "0     14  01cc7815d5a94d3566647e5999fd0cf9   \n",
       "\n",
       "                                   universe_settings  execution_time  \\\n",
       "0  {\"cutoff\": \"quantile_0.1\", \"eval_fairness_grou...       45.276592   \n",
       "0  {\"cutoff\": \"quantile_0.1\", \"eval_fairness_grou...       45.276592   \n",
       "0  {\"cutoff\": \"quantile_0.25\", \"eval_fairness_gro...       45.276592   \n",
       "0  {\"cutoff\": \"quantile_0.25\", \"eval_fairness_gro...       45.276592   \n",
       "\n",
       "   test_size_n  test_size_frac  fair_main_equalized_odds_difference  \\\n",
       "0        89710             1.0                             0.094499   \n",
       "0        89710             1.0                             0.094499   \n",
       "0        89710             1.0                             0.223259   \n",
       "0        89710             1.0                             0.223259   \n",
       "\n",
       "   fair_main_equalized_odds_ratio  fair_main_demographic_parity_difference  \\\n",
       "0                        0.902180                                 0.087895   \n",
       "0                        0.902180                                 0.087895   \n",
       "0                        0.753654                                 0.208062   \n",
       "0                        0.753654                                 0.208062   \n",
       "\n",
       "   fair_main_demographic_parity_ratio  ...  perf_grp_precision_0  \\\n",
       "0                            0.909178  ...                   NaN   \n",
       "0                            0.909178  ...              0.116863   \n",
       "0                            0.771465  ...                   NaN   \n",
       "0                            0.771465  ...              0.119305   \n",
       "\n",
       "   perf_grp_precision_1  perf_grp_false positive rate_0  \\\n",
       "0                   NaN                             NaN   \n",
       "0              0.140353                        0.966047   \n",
       "0                   NaN                             NaN   \n",
       "0              0.156025                        0.906284   \n",
       "\n",
       "   perf_grp_false positive rate_1  perf_grp_false negative rate_0  \\\n",
       "0                             NaN                             NaN   \n",
       "0                        0.871548                        0.019003   \n",
       "0                             NaN                             NaN   \n",
       "0                        0.683025                        0.057855   \n",
       "\n",
       "   perf_grp_false negative rate_1  perf_grp_selection rate_0  \\\n",
       "0                             NaN                        NaN   \n",
       "0                        0.065427                   0.967770   \n",
       "0                             NaN                        NaN   \n",
       "0                        0.170678                   0.910419   \n",
       "\n",
       "   perf_grp_selection rate_1  perf_grp_count_0  perf_grp_count_1  \n",
       "0                        NaN               NaN               NaN  \n",
       "0                   0.879876           20540.0           69170.0  \n",
       "0                        NaN               NaN               NaN  \n",
       "0                   0.702357           20540.0           69170.0  \n",
       "\n",
       "[4 rows x 50 columns]"
      ]
     },
     "execution_count": 79,
     "metadata": {},
     "output_type": "execute_result"
    }
   ],
   "source": [
    "final_output = universe_analysis.generate_final_output(\n",
    "    y_pred_prob=probs_test,\n",
    "    y_test=y_true,\n",
    "    org_test=org_test,\n",
    "    filter_data=filter_sub_universe_data,\n",
    "    cp_metrics_df=cp_metrics_df,\n",
    "    save=True,\n",
    ")\n",
    "final_output"
   ]
  },
  {
   "cell_type": "code",
   "execution_count": null,
   "id": "721ff514-cb11-46f8-b6fc-50392f74b5cb",
   "metadata": {
    "papermill": {
     "duration": 0.016624,
     "end_time": "2025-07-30T21:42:43.946189",
     "exception": false,
     "start_time": "2025-07-30T21:42:43.929565",
     "status": "completed"
    },
    "tags": []
   },
   "outputs": [],
   "source": []
  }
 ],
 "metadata": {
  "celltoolbar": "Tags",
  "kernelspec": {
   "display_name": "Python (CMA Fairness)",
   "language": "python",
   "name": "cma_fair_env"
  },
  "language_info": {
   "codemirror_mode": {
    "name": "ipython",
    "version": 3
   },
   "file_extension": ".py",
   "mimetype": "text/x-python",
   "name": "python",
   "nbconvert_exporter": "python",
   "pygments_lexer": "ipython3",
   "version": "3.10.12"
  },
  "papermill": {
   "default_parameters": {},
   "duration": 56.202388,
   "end_time": "2025-07-30T21:42:44.581155",
   "environment_variables": {},
   "exception": null,
   "input_path": "universe_analysis.ipynb",
   "output_path": "output/runs/14/notebooks/m_14-01cc7815d5a94d3566647e5999fd0cf9.ipynb",
   "parameters": {
    "output_dir": "output",
    "run_no": "14",
    "seed": "2023",
    "universe": "{\"cutoff\": [\"quantile_0.1\", \"quantile_0.25\"], \"eval_fairness_grouping\": [\"majority-minority\", \"nationality-all\"], \"exclude_features\": \"none\", \"exclude_subgroups\": \"keep-all\", \"model\": \"elasticnet\", \"scale\": \"do-not-scale\", \"training_size\": \"1k\", \"training_year\": \"2012_14\"}",
    "universe_id": "01cc7815d5a94d3566647e5999fd0cf9"
   },
   "start_time": "2025-07-30T21:41:48.378767",
   "version": "2.6.0"
  }
 },
 "nbformat": 4,
 "nbformat_minor": 5
}