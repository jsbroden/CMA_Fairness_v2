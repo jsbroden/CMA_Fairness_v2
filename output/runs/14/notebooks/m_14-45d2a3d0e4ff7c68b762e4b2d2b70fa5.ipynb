{
 "cells": [
  {
   "cell_type": "code",
   "execution_count": 1,
   "id": "f159f837-637b-42ba-96b5-ec9a68c44524",
   "metadata": {
    "execution": {
     "iopub.execute_input": "2025-07-30T21:06:55.390460Z",
     "iopub.status.busy": "2025-07-30T21:06:55.389538Z",
     "iopub.status.idle": "2025-07-30T21:06:55.403425Z",
     "shell.execute_reply": "2025-07-30T21:06:55.402332Z"
    },
    "papermill": {
     "duration": 0.043956,
     "end_time": "2025-07-30T21:06:55.412216",
     "exception": false,
     "start_time": "2025-07-30T21:06:55.368260",
     "status": "completed"
    },
    "tags": []
   },
   "outputs": [
    {
     "name": "stdout",
     "output_type": "stream",
     "text": [
      "/dss/dsshome1/0C/ra93lal2/cma/CMA_Fairness_v2\n"
     ]
    },
    {
     "name": "stderr",
     "output_type": "stream",
     "text": [
      "/dss/dsshome1/0C/ra93lal2/.local/share/virtualenvs/CMA_Fairness_v2-3j10GkSs/lib/python3.10/site-packages/IPython/core/magics/osm.py:393: UserWarning: This is now an optional IPython functionality, using bookmarks requires you to install the `pickleshare` library.\n",
      "  bkms = self.shell.db.get('bookmarks', {})\n",
      "/dss/dsshome1/0C/ra93lal2/.local/share/virtualenvs/CMA_Fairness_v2-3j10GkSs/lib/python3.10/site-packages/IPython/core/magics/osm.py:417: UserWarning: This is now an optional IPython functionality, setting dhist requires you to install the `pickleshare` library.\n",
      "  self.shell.db['dhist'] = compress_dhist(dhist)[-100:]\n"
     ]
    }
   ],
   "source": [
    "%cd ~/cma/CMA_Fairness_v2"
   ]
  },
  {
   "cell_type": "markdown",
   "id": "de2603b9",
   "metadata": {
    "papermill": {
     "duration": 0.019819,
     "end_time": "2025-07-30T21:06:55.530249",
     "exception": false,
     "start_time": "2025-07-30T21:06:55.510430",
     "status": "completed"
    },
    "tags": []
   },
   "source": [
    "The following cell holds the definition of our parameters, these values can be overriden by rendering the with e.g. the following command:\n",
    "\n",
    "papermill -p alpha 0.2 -p ratio 0.3 universe_analysis.ipynb output/test_run.ipynb"
   ]
  },
  {
   "cell_type": "code",
   "execution_count": 2,
   "id": "a80968a0-40bb-4fa9-85ef-2d5eefb01975",
   "metadata": {
    "execution": {
     "iopub.execute_input": "2025-07-30T21:06:55.570801Z",
     "iopub.status.busy": "2025-07-30T21:06:55.570219Z",
     "iopub.status.idle": "2025-07-30T21:06:55.576291Z",
     "shell.execute_reply": "2025-07-30T21:06:55.575252Z"
    },
    "papermill": {
     "duration": 0.028698,
     "end_time": "2025-07-30T21:06:55.578243",
     "exception": false,
     "start_time": "2025-07-30T21:06:55.549545",
     "status": "completed"
    },
    "tags": []
   },
   "outputs": [
    {
     "name": "stdout",
     "output_type": "stream",
     "text": [
      "Current working directory: /dss/dsshome1/0C/ra93lal2/cma/CMA_Fairness_v2\n"
     ]
    }
   ],
   "source": [
    "import os\n",
    "print(\"Current working directory:\", os.getcwd())"
   ]
  },
  {
   "cell_type": "code",
   "execution_count": 3,
   "id": "2dce4c03",
   "metadata": {
    "execution": {
     "iopub.execute_input": "2025-07-30T21:06:55.626271Z",
     "iopub.status.busy": "2025-07-30T21:06:55.625240Z",
     "iopub.status.idle": "2025-07-30T21:06:55.632604Z",
     "shell.execute_reply": "2025-07-30T21:06:55.631507Z"
    },
    "papermill": {
     "duration": 0.033362,
     "end_time": "2025-07-30T21:06:55.634725",
     "exception": false,
     "start_time": "2025-07-30T21:06:55.601363",
     "status": "completed"
    },
    "tags": [
     "parameters"
    ]
   },
   "outputs": [],
   "source": [
    "run_no = 0\n",
    "universe_id = \"test\"\n",
    "universe = {\n",
    "    \"training_size\": \"25k\", # \"25k\", \"5k\", \"1k\"\n",
    "    \"training_year\": \"2014\", # \"2014\", \"2012_14\", \"2010_14\"\n",
    "    \"scale\": \"scale\", # \"scale\", \"do-not-scale\",\n",
    "    #\"stratify_split\": \"target\", # \"none\", \"target\", \"protected-attribute\", \"both\",\n",
    "    \"model\": \"elasticnet\", # \"logreg\", \"penalized_logreg\", \"rf\", \"gbm\", \"elasticnet\"\n",
    "    \"cutoff\": [\"quantile_0.15\", \"quantile_0.30\"],\n",
    "    \"exclude_features\": \"age\", # \"none\", \"nationality\", \"sex\", \"nationality-sex\", \"age\"\n",
    "    \"exclude_subgroups\": \"keep-all\", # \"keep-all\", \"drop-non-german\"\n",
    "    \"eval_fairness_grouping\": [\"majority-minority\", \"nationality-all\"]\n",
    "}\n",
    "\n",
    "output_dir=\"./output\"\n",
    "seed=0"
   ]
  },
  {
   "cell_type": "code",
   "execution_count": 4,
   "id": "0143782f",
   "metadata": {
    "execution": {
     "iopub.execute_input": "2025-07-30T21:06:55.685667Z",
     "iopub.status.busy": "2025-07-30T21:06:55.685167Z",
     "iopub.status.idle": "2025-07-30T21:06:55.690527Z",
     "shell.execute_reply": "2025-07-30T21:06:55.689590Z"
    },
    "papermill": {
     "duration": 0.032919,
     "end_time": "2025-07-30T21:06:55.692720",
     "exception": false,
     "start_time": "2025-07-30T21:06:55.659801",
     "status": "completed"
    },
    "tags": [
     "injected-parameters"
    ]
   },
   "outputs": [],
   "source": [
    "# Parameters\n",
    "universe_id = \"45d2a3d0e4ff7c68b762e4b2d2b70fa5\"\n",
    "run_no = \"14\"\n",
    "universe = \"{\\\"cutoff\\\": [\\\"quantile_0.1\\\", \\\"quantile_0.25\\\"], \\\"eval_fairness_grouping\\\": [\\\"majority-minority\\\", \\\"nationality-all\\\"], \\\"exclude_features\\\": \\\"none\\\", \\\"exclude_subgroups\\\": \\\"drop-non-german\\\", \\\"model\\\": \\\"elasticnet\\\", \\\"scale\\\": \\\"do-not-scale\\\", \\\"training_size\\\": \\\"5k\\\", \\\"training_year\\\": \\\"2012_14\\\"}\"\n",
    "output_dir = \"output\"\n",
    "seed = \"2023\"\n"
   ]
  },
  {
   "cell_type": "code",
   "execution_count": 5,
   "id": "1650acaf",
   "metadata": {
    "execution": {
     "iopub.execute_input": "2025-07-30T21:06:55.743867Z",
     "iopub.status.busy": "2025-07-30T21:06:55.743386Z",
     "iopub.status.idle": "2025-07-30T21:06:55.748322Z",
     "shell.execute_reply": "2025-07-30T21:06:55.747425Z"
    },
    "papermill": {
     "duration": 0.03226,
     "end_time": "2025-07-30T21:06:55.750221",
     "exception": false,
     "start_time": "2025-07-30T21:06:55.717961",
     "status": "completed"
    },
    "tags": []
   },
   "outputs": [],
   "source": [
    "import json\n",
    "# Parse universe into dict if it is passed as a string\n",
    "if isinstance(universe, str):\n",
    "    universe = json.loads(universe)"
   ]
  },
  {
   "cell_type": "code",
   "execution_count": 6,
   "id": "16620c48",
   "metadata": {
    "execution": {
     "iopub.execute_input": "2025-07-30T21:06:55.802580Z",
     "iopub.status.busy": "2025-07-30T21:06:55.801847Z",
     "iopub.status.idle": "2025-07-30T21:06:55.844847Z",
     "shell.execute_reply": "2025-07-30T21:06:55.843777Z"
    },
    "papermill": {
     "duration": 0.071078,
     "end_time": "2025-07-30T21:06:55.847164",
     "exception": false,
     "start_time": "2025-07-30T21:06:55.776086",
     "status": "completed"
    },
    "tags": []
   },
   "outputs": [],
   "source": [
    "# Auto-reload the custom package\n",
    "%load_ext autoreload\n",
    "%autoreload 1\n",
    "%aimport fairness_multiverse"
   ]
  },
  {
   "cell_type": "code",
   "execution_count": 7,
   "id": "01c5c9f3",
   "metadata": {
    "execution": {
     "iopub.execute_input": "2025-07-30T21:06:55.880799Z",
     "iopub.status.busy": "2025-07-30T21:06:55.880465Z",
     "iopub.status.idle": "2025-07-30T21:06:57.636091Z",
     "shell.execute_reply": "2025-07-30T21:06:57.634717Z"
    },
    "papermill": {
     "duration": 1.769006,
     "end_time": "2025-07-30T21:06:57.638201",
     "exception": false,
     "start_time": "2025-07-30T21:06:55.869195",
     "status": "completed"
    },
    "tags": []
   },
   "outputs": [],
   "source": [
    "from fairness_multiverse.universe import UniverseAnalysis\n",
    "\n",
    "universe_analysis = UniverseAnalysis(\n",
    "    run_no = run_no,\n",
    "    universe_id = universe_id,\n",
    "    universe = universe,\n",
    "    output_dir=output_dir,\n",
    ")"
   ]
  },
  {
   "cell_type": "code",
   "execution_count": 8,
   "id": "106241f5",
   "metadata": {
    "execution": {
     "iopub.execute_input": "2025-07-30T21:06:57.682427Z",
     "iopub.status.busy": "2025-07-30T21:06:57.681726Z",
     "iopub.status.idle": "2025-07-30T21:06:57.688359Z",
     "shell.execute_reply": "2025-07-30T21:06:57.687360Z"
    },
    "papermill": {
     "duration": 0.03128,
     "end_time": "2025-07-30T21:06:57.690017",
     "exception": false,
     "start_time": "2025-07-30T21:06:57.658737",
     "status": "completed"
    },
    "tags": []
   },
   "outputs": [
    {
     "name": "stdout",
     "output_type": "stream",
     "text": [
      "Using Seed: 2023\n"
     ]
    }
   ],
   "source": [
    "import numpy as np\n",
    "parsed_seed = int(seed)\n",
    "np.random.seed(parsed_seed)\n",
    "print(f\"Using Seed: {parsed_seed}\")"
   ]
  },
  {
   "cell_type": "markdown",
   "id": "e0ebdc57",
   "metadata": {
    "papermill": {
     "duration": 0.019604,
     "end_time": "2025-07-30T21:06:57.733822",
     "exception": false,
     "start_time": "2025-07-30T21:06:57.714218",
     "status": "completed"
    },
    "tags": []
   },
   "source": [
    "# Loading Data"
   ]
  },
  {
   "cell_type": "markdown",
   "id": "681925a3",
   "metadata": {
    "papermill": {
     "duration": 0.019872,
     "end_time": "2025-07-30T21:06:57.773845",
     "exception": false,
     "start_time": "2025-07-30T21:06:57.753973",
     "status": "completed"
    },
    "tags": []
   },
   "source": [
    "Load siab_train, siab_test, siab_calib and/or \n",
    "load siab_train_features, siab_train_labels"
   ]
  },
  {
   "cell_type": "code",
   "execution_count": 9,
   "id": "f0496b8a",
   "metadata": {
    "execution": {
     "iopub.execute_input": "2025-07-30T21:06:57.816338Z",
     "iopub.status.busy": "2025-07-30T21:06:57.815640Z",
     "iopub.status.idle": "2025-07-30T21:07:09.651886Z",
     "shell.execute_reply": "2025-07-30T21:07:09.650622Z"
    },
    "papermill": {
     "duration": 11.859887,
     "end_time": "2025-07-30T21:07:09.653492",
     "exception": false,
     "start_time": "2025-07-30T21:06:57.793605",
     "status": "completed"
    },
    "tags": []
   },
   "outputs": [
    {
     "name": "stdout",
     "output_type": "stream",
     "text": [
      "Loading SIAB data from cache: data/siab_cached.csv.gz\n"
     ]
    },
    {
     "name": "stdout",
     "output_type": "stream",
     "text": [
      "(643690, 164)\n"
     ]
    }
   ],
   "source": [
    "from pathlib import Path\n",
    "import pandas as pd\n",
    "\n",
    "# File paths\n",
    "raw_file = Path(\"data/raw/siab.csv\")\n",
    "cache_file = Path(\"data/siab_cached.csv.gz\")\n",
    "\n",
    "# Ensure cache directory exists\n",
    "cache_file.parent.mkdir(parents=True, exist_ok=True)\n",
    "\n",
    "# Load with simple caching\n",
    "if cache_file.exists():\n",
    "    print(f\"Loading SIAB data from cache: {cache_file}\")\n",
    "    siab = pd.read_csv(cache_file, compression='gzip')\n",
    "else:\n",
    "    print(f\"Cache not found. Reading raw SIAB data: {raw_file}\")\n",
    "    siab = pd.read_csv(raw_file)\n",
    "    siab.to_csv(cache_file, index=False, compression='gzip')\n",
    "    print(f\"Cached SIAB data to: {cache_file}\")\n",
    "\n",
    "# Now use `siab` DataFrame as needed\n",
    "print(siab.shape)"
   ]
  },
  {
   "cell_type": "code",
   "execution_count": 10,
   "id": "db0ca512-5f53-4dba-abdb-a2888bca41ba",
   "metadata": {
    "execution": {
     "iopub.execute_input": "2025-07-30T21:07:09.696978Z",
     "iopub.status.busy": "2025-07-30T21:07:09.696411Z",
     "iopub.status.idle": "2025-07-30T21:07:09.702107Z",
     "shell.execute_reply": "2025-07-30T21:07:09.701130Z"
    },
    "papermill": {
     "duration": 0.028215,
     "end_time": "2025-07-30T21:07:09.703746",
     "exception": false,
     "start_time": "2025-07-30T21:07:09.675531",
     "status": "completed"
    },
    "tags": []
   },
   "outputs": [],
   "source": [
    "#siab"
   ]
  },
  {
   "cell_type": "code",
   "execution_count": 11,
   "id": "a0edb063",
   "metadata": {
    "execution": {
     "iopub.execute_input": "2025-07-30T21:07:09.749394Z",
     "iopub.status.busy": "2025-07-30T21:07:09.748895Z",
     "iopub.status.idle": "2025-07-30T21:07:09.754720Z",
     "shell.execute_reply": "2025-07-30T21:07:09.753822Z"
    },
    "papermill": {
     "duration": 0.032264,
     "end_time": "2025-07-30T21:07:09.756391",
     "exception": false,
     "start_time": "2025-07-30T21:07:09.724127",
     "status": "completed"
    },
    "tags": []
   },
   "outputs": [],
   "source": [
    "#import pandas as pd\n",
    "#\n",
    "#X_train = pd.read_csv(\"./data/X_train.csv\")\n",
    "#y_train = pd.read_csv(\"./data/y_train.csv\")"
   ]
  },
  {
   "cell_type": "code",
   "execution_count": 12,
   "id": "63d08085",
   "metadata": {
    "execution": {
     "iopub.execute_input": "2025-07-30T21:07:09.798395Z",
     "iopub.status.busy": "2025-07-30T21:07:09.797376Z",
     "iopub.status.idle": "2025-07-30T21:07:09.845157Z",
     "shell.execute_reply": "2025-07-30T21:07:09.844200Z"
    },
    "papermill": {
     "duration": 0.07077,
     "end_time": "2025-07-30T21:07:09.847406",
     "exception": false,
     "start_time": "2025-07-30T21:07:09.776636",
     "status": "completed"
    },
    "tags": []
   },
   "outputs": [],
   "source": [
    "#X_test = pd.read_csv(\"./data/X_test.csv\")\n",
    "#y_true = pd.read_csv(\"./data/y_test.csv\")"
   ]
  },
  {
   "cell_type": "code",
   "execution_count": 13,
   "id": "98a8d0fa-1d3d-4ed8-bb2c-281470e24add",
   "metadata": {
    "execution": {
     "iopub.execute_input": "2025-07-30T21:07:09.896145Z",
     "iopub.status.busy": "2025-07-30T21:07:09.895647Z",
     "iopub.status.idle": "2025-07-30T21:07:09.900646Z",
     "shell.execute_reply": "2025-07-30T21:07:09.899673Z"
    },
    "papermill": {
     "duration": 0.030241,
     "end_time": "2025-07-30T21:07:09.902245",
     "exception": false,
     "start_time": "2025-07-30T21:07:09.872004",
     "status": "completed"
    },
    "tags": []
   },
   "outputs": [],
   "source": [
    "# Calibration data for conformal\n",
    "#X_calib = pd.read_csv(\"./data/X_calib.csv\")\n",
    "#y_calib = pd.read_csv(\"./data/y_calib.csv\")"
   ]
  },
  {
   "cell_type": "markdown",
   "id": "997051c5-15bd-4b69-9786-c3001a3ce484",
   "metadata": {
    "papermill": {
     "duration": 0.019024,
     "end_time": "2025-07-30T21:07:09.941799",
     "exception": false,
     "start_time": "2025-07-30T21:07:09.922775",
     "status": "completed"
    },
    "tags": []
   },
   "source": [
    "# Splitting Data and Setting Training Data Size"
   ]
  },
  {
   "cell_type": "code",
   "execution_count": 14,
   "id": "e993b61f-042d-41a6-8c81-f55681f86335",
   "metadata": {
    "execution": {
     "iopub.execute_input": "2025-07-30T21:07:09.982102Z",
     "iopub.status.busy": "2025-07-30T21:07:09.981492Z",
     "iopub.status.idle": "2025-07-30T21:07:09.994604Z",
     "shell.execute_reply": "2025-07-30T21:07:09.993579Z"
    },
    "papermill": {
     "duration": 0.035582,
     "end_time": "2025-07-30T21:07:09.996268",
     "exception": false,
     "start_time": "2025-07-30T21:07:09.960686",
     "status": "completed"
    },
    "tags": []
   },
   "outputs": [],
   "source": [
    "def sample_by_year_size(df,\n",
    "                        training_year: str,\n",
    "                        training_size: str,\n",
    "                        random_state: int = 42):\n",
    "    # --- parse training_year into a list of int years ---\n",
    "    if \"_\" in training_year:\n",
    "        start_str, end_str = training_year.split(\"_\", 1)\n",
    "        start = int(start_str)\n",
    "        end   = int(end_str) if len(end_str) == 4 else (int(end_str) + (start // 100)*100)\n",
    "        years = list(range(start, end + 1))\n",
    "    else:\n",
    "        years = [int(training_year)]\n",
    "\n",
    "    df = df[df[\"year\"].isin(years)].reset_index(drop=True)\n",
    "\n",
    "    # --- map training_size to total number of samples ---\n",
    "    total_map = {\"25k\": 25_000, \"5k\": 5_000, \"1k\": 1_000}\n",
    "    if training_size not in total_map:\n",
    "        return df  # e.g. \"all\"\n",
    "\n",
    "    total_samples = total_map[training_size]\n",
    "    n_years       = len(years)\n",
    "    base          = total_samples // n_years\n",
    "    remainder     = total_samples % n_years\n",
    "\n",
    "    # --- build a dict: year -> how many to sample ---\n",
    "    # give +1 to the first `remainder` years in ascending order\n",
    "    quotas = {\n",
    "        year: base + (1 if idx < remainder else 0)\n",
    "        for idx, year in enumerate(sorted(years))\n",
    "    }\n",
    "\n",
    "    # --- sample per‐year according to the quota dict ---\n",
    "    sampled = (\n",
    "        df\n",
    "        .groupby(\"year\", group_keys=False)\n",
    "        .apply(lambda grp: grp.sample(\n",
    "            n=min(len(grp), quotas[grp.name]),\n",
    "            random_state=random_state))\n",
    "        .reset_index(drop=True)\n",
    "    )\n",
    "\n",
    "    return sampled"
   ]
  },
  {
   "cell_type": "code",
   "execution_count": 15,
   "id": "c0ccd338-0e02-41f3-a09d-f56f9266e3fb",
   "metadata": {
    "execution": {
     "iopub.execute_input": "2025-07-30T21:07:10.037825Z",
     "iopub.status.busy": "2025-07-30T21:07:10.037241Z",
     "iopub.status.idle": "2025-07-30T21:07:10.042349Z",
     "shell.execute_reply": "2025-07-30T21:07:10.041272Z"
    },
    "papermill": {
     "duration": 0.033733,
     "end_time": "2025-07-30T21:07:10.051237",
     "exception": false,
     "start_time": "2025-07-30T21:07:10.017504",
     "status": "completed"
    },
    "tags": []
   },
   "outputs": [],
   "source": [
    "#universe[\"training_size\"]"
   ]
  },
  {
   "cell_type": "code",
   "execution_count": 16,
   "id": "ca707fd7-8047-4acd-bfa5-66248fbbf8e6",
   "metadata": {
    "execution": {
     "iopub.execute_input": "2025-07-30T21:07:10.092465Z",
     "iopub.status.busy": "2025-07-30T21:07:10.092042Z",
     "iopub.status.idle": "2025-07-30T21:07:10.096310Z",
     "shell.execute_reply": "2025-07-30T21:07:10.095464Z"
    },
    "papermill": {
     "duration": 0.02555,
     "end_time": "2025-07-30T21:07:10.097991",
     "exception": false,
     "start_time": "2025-07-30T21:07:10.072441",
     "status": "completed"
    },
    "tags": []
   },
   "outputs": [],
   "source": [
    "#universe[\"training_year\"]"
   ]
  },
  {
   "cell_type": "code",
   "execution_count": 17,
   "id": "aea9c6ef-6f46-42c8-85eb-5a62025c1508",
   "metadata": {
    "execution": {
     "iopub.execute_input": "2025-07-30T21:07:10.141427Z",
     "iopub.status.busy": "2025-07-30T21:07:10.141022Z",
     "iopub.status.idle": "2025-07-30T21:07:10.712486Z",
     "shell.execute_reply": "2025-07-30T21:07:10.711500Z"
    },
    "papermill": {
     "duration": 0.595675,
     "end_time": "2025-07-30T21:07:10.714404",
     "exception": false,
     "start_time": "2025-07-30T21:07:10.118729",
     "status": "completed"
    },
    "tags": []
   },
   "outputs": [],
   "source": [
    "siab_train = sample_by_year_size(siab,\n",
    "                               training_year=universe[\"training_year\"],\n",
    "                               training_size=universe[\"training_size\"])"
   ]
  },
  {
   "cell_type": "code",
   "execution_count": 18,
   "id": "8d3afb32-789d-442c-8d5d-9f5aa8dd2eed",
   "metadata": {
    "execution": {
     "iopub.execute_input": "2025-07-30T21:07:10.761598Z",
     "iopub.status.busy": "2025-07-30T21:07:10.761183Z",
     "iopub.status.idle": "2025-07-30T21:07:10.768564Z",
     "shell.execute_reply": "2025-07-30T21:07:10.766179Z"
    },
    "papermill": {
     "duration": 0.033007,
     "end_time": "2025-07-30T21:07:10.770819",
     "exception": false,
     "start_time": "2025-07-30T21:07:10.737812",
     "status": "completed"
    },
    "tags": []
   },
   "outputs": [],
   "source": [
    "#siab_train.shape"
   ]
  },
  {
   "cell_type": "code",
   "execution_count": 19,
   "id": "d582db68-1a4c-47fb-84fc-08518dc1975a",
   "metadata": {
    "execution": {
     "iopub.execute_input": "2025-07-30T21:07:10.827596Z",
     "iopub.status.busy": "2025-07-30T21:07:10.827117Z",
     "iopub.status.idle": "2025-07-30T21:07:10.832355Z",
     "shell.execute_reply": "2025-07-30T21:07:10.831484Z"
    },
    "papermill": {
     "duration": 0.03345,
     "end_time": "2025-07-30T21:07:10.833850",
     "exception": false,
     "start_time": "2025-07-30T21:07:10.800400",
     "status": "completed"
    },
    "tags": []
   },
   "outputs": [],
   "source": [
    "#display(siab_train.groupby(\"year\").size())"
   ]
  },
  {
   "cell_type": "code",
   "execution_count": 20,
   "id": "a561edb4-d032-42cb-8256-22eac1111c64",
   "metadata": {
    "execution": {
     "iopub.execute_input": "2025-07-30T21:07:10.875435Z",
     "iopub.status.busy": "2025-07-30T21:07:10.874939Z",
     "iopub.status.idle": "2025-07-30T21:07:11.114199Z",
     "shell.execute_reply": "2025-07-30T21:07:11.113288Z"
    },
    "papermill": {
     "duration": 0.261349,
     "end_time": "2025-07-30T21:07:11.116089",
     "exception": false,
     "start_time": "2025-07-30T21:07:10.854740",
     "status": "completed"
    },
    "tags": []
   },
   "outputs": [],
   "source": [
    "#siab_train = siab_s[siab_s.year < 2015]\n",
    "siab_calib = siab[siab.year == 2015]\n",
    "siab_test = siab[siab.year == 2016]"
   ]
  },
  {
   "cell_type": "code",
   "execution_count": 21,
   "id": "472de16f-c3db-4916-846b-1f0de9cf1746",
   "metadata": {
    "execution": {
     "iopub.execute_input": "2025-07-30T21:07:11.159223Z",
     "iopub.status.busy": "2025-07-30T21:07:11.158730Z",
     "iopub.status.idle": "2025-07-30T21:07:11.166705Z",
     "shell.execute_reply": "2025-07-30T21:07:11.165765Z"
    },
    "papermill": {
     "duration": 0.031555,
     "end_time": "2025-07-30T21:07:11.168355",
     "exception": false,
     "start_time": "2025-07-30T21:07:11.136800",
     "status": "completed"
    },
    "tags": []
   },
   "outputs": [],
   "source": [
    "X_train = siab_train.iloc[:,4:164]\n",
    "y_train = siab_train.iloc[:, [3]]"
   ]
  },
  {
   "cell_type": "code",
   "execution_count": 22,
   "id": "828c96af-f43a-4ed6-ba47-8ac73a47d56c",
   "metadata": {
    "execution": {
     "iopub.execute_input": "2025-07-30T21:07:11.213748Z",
     "iopub.status.busy": "2025-07-30T21:07:11.213096Z",
     "iopub.status.idle": "2025-07-30T21:07:11.270654Z",
     "shell.execute_reply": "2025-07-30T21:07:11.269612Z"
    },
    "papermill": {
     "duration": 0.082621,
     "end_time": "2025-07-30T21:07:11.272790",
     "exception": false,
     "start_time": "2025-07-30T21:07:11.190169",
     "status": "completed"
    },
    "tags": []
   },
   "outputs": [],
   "source": [
    "X_calib = siab_calib.iloc[:,4:164]\n",
    "y_calib = siab_calib.iloc[:, [3]]"
   ]
  },
  {
   "cell_type": "code",
   "execution_count": 23,
   "id": "c34be9c3-6bd6-476e-acd3-845840e303be",
   "metadata": {
    "execution": {
     "iopub.execute_input": "2025-07-30T21:07:11.315708Z",
     "iopub.status.busy": "2025-07-30T21:07:11.315260Z",
     "iopub.status.idle": "2025-07-30T21:07:11.365551Z",
     "shell.execute_reply": "2025-07-30T21:07:11.364593Z"
    },
    "papermill": {
     "duration": 0.072699,
     "end_time": "2025-07-30T21:07:11.367156",
     "exception": false,
     "start_time": "2025-07-30T21:07:11.294457",
     "status": "completed"
    },
    "tags": []
   },
   "outputs": [],
   "source": [
    "X_test = siab_test.iloc[:,4:164]\n",
    "y_true = siab_test.iloc[:, [3]]"
   ]
  },
  {
   "cell_type": "markdown",
   "id": "9901737e-04df-44f0-9100-f5ad144ed040",
   "metadata": {
    "papermill": {
     "duration": 0.019282,
     "end_time": "2025-07-30T21:07:11.407604",
     "exception": false,
     "start_time": "2025-07-30T21:07:11.388322",
     "status": "completed"
    },
    "tags": []
   },
   "source": [
    "# Splitting Data and Setting Training Data Size OLD VERSION"
   ]
  },
  {
   "cell_type": "code",
   "execution_count": 24,
   "id": "acbc8f7d-8fc8-4e86-8c59-5dcb0f58384b",
   "metadata": {
    "execution": {
     "iopub.execute_input": "2025-07-30T21:07:11.450161Z",
     "iopub.status.busy": "2025-07-30T21:07:11.449681Z",
     "iopub.status.idle": "2025-07-30T21:07:11.464997Z",
     "shell.execute_reply": "2025-07-30T21:07:11.464108Z"
    },
    "papermill": {
     "duration": 0.038998,
     "end_time": "2025-07-30T21:07:11.466584",
     "exception": false,
     "start_time": "2025-07-30T21:07:11.427586",
     "status": "completed"
    },
    "tags": []
   },
   "outputs": [],
   "source": [
    "#def sample_by_year(df, training_size, random_state=42):\n",
    "#    if training_size == \"2014\":\n",
    "#        return df[df[\"year\"] == 2014].reset_index(drop=True)\n",
    "#    \n",
    "#    size_map = {\n",
    "#        \"25k\": 5000,\n",
    "#        \"5k\": 1000,\n",
    "#        \"1k\": 200\n",
    "#    }\n",
    "#\n",
    "#    if training_size not in size_map:\n",
    "#        return df.reset_index(drop=True)  # use all data\n",
    "#\n",
    "#    n_per_year = size_map[training_size]\n",
    "#    grouped = df.groupby(\"year\")\n",
    "#    sampled = grouped.apply(lambda x: x.sample(n=min(n_per_year, len(x)), random_state=random_state))\n",
    "#    return sampled.reset_index(drop=True)"
   ]
  },
  {
   "cell_type": "code",
   "execution_count": 25,
   "id": "6d931f52-beaf-43ff-9e78-9d44a448d54e",
   "metadata": {
    "execution": {
     "iopub.execute_input": "2025-07-30T21:07:11.510506Z",
     "iopub.status.busy": "2025-07-30T21:07:11.510042Z",
     "iopub.status.idle": "2025-07-30T21:07:11.514853Z",
     "shell.execute_reply": "2025-07-30T21:07:11.514031Z"
    },
    "papermill": {
     "duration": 0.027482,
     "end_time": "2025-07-30T21:07:11.516315",
     "exception": false,
     "start_time": "2025-07-30T21:07:11.488833",
     "status": "completed"
    },
    "tags": []
   },
   "outputs": [],
   "source": [
    "#siab_s = sample_by_year(siab, universe[\"training_size\"])"
   ]
  },
  {
   "cell_type": "code",
   "execution_count": 26,
   "id": "5db0a40e-a4e2-4920-be85-b12ae061d70d",
   "metadata": {
    "execution": {
     "iopub.execute_input": "2025-07-30T21:07:11.559760Z",
     "iopub.status.busy": "2025-07-30T21:07:11.559296Z",
     "iopub.status.idle": "2025-07-30T21:07:11.564163Z",
     "shell.execute_reply": "2025-07-30T21:07:11.563216Z"
    },
    "papermill": {
     "duration": 0.028085,
     "end_time": "2025-07-30T21:07:11.565840",
     "exception": false,
     "start_time": "2025-07-30T21:07:11.537755",
     "status": "completed"
    },
    "tags": []
   },
   "outputs": [],
   "source": [
    "#display(siab_s.groupby(\"year\").size())"
   ]
  },
  {
   "cell_type": "code",
   "execution_count": 27,
   "id": "e6c733c5",
   "metadata": {
    "execution": {
     "iopub.execute_input": "2025-07-30T21:07:11.607819Z",
     "iopub.status.busy": "2025-07-30T21:07:11.607224Z",
     "iopub.status.idle": "2025-07-30T21:07:11.700801Z",
     "shell.execute_reply": "2025-07-30T21:07:11.699842Z"
    },
    "papermill": {
     "duration": 0.116219,
     "end_time": "2025-07-30T21:07:11.702704",
     "exception": false,
     "start_time": "2025-07-30T21:07:11.586485",
     "status": "completed"
    },
    "tags": []
   },
   "outputs": [],
   "source": [
    "# Auxiliary data needed downstream in the pipeline\n",
    "\n",
    "org_train = X_train.copy()\n",
    "org_test = X_test.copy()\n",
    "org_calib = X_calib.copy()"
   ]
  },
  {
   "cell_type": "code",
   "execution_count": 28,
   "id": "1466abac-c6da-4492-a62f-4240ae3783af",
   "metadata": {
    "execution": {
     "iopub.execute_input": "2025-07-30T21:07:11.750137Z",
     "iopub.status.busy": "2025-07-30T21:07:11.749627Z",
     "iopub.status.idle": "2025-07-30T21:07:11.755560Z",
     "shell.execute_reply": "2025-07-30T21:07:11.754715Z"
    },
    "papermill": {
     "duration": 0.034057,
     "end_time": "2025-07-30T21:07:11.757200",
     "exception": false,
     "start_time": "2025-07-30T21:07:11.723143",
     "status": "completed"
    },
    "tags": []
   },
   "outputs": [],
   "source": [
    "# put in other script?\n",
    "# Group sizes\n",
    "\n",
    "#def calculate_percentages(df, df_name):\n",
    "#    total_entries = len(df)\n",
    "#\n",
    "#    female_pct = (df['frau1'] == 1).mean() * 100\n",
    "#    non_german_pct = ((df['maxdeutsch1'] == 0) & (df['maxdeutsch.Missing.'] == 0)).mean() * 100\n",
    "#    non_german_male_pct = ((df['frau1'] == 0) & (df['maxdeutsch1'] == 0) & (df['maxdeutsch.Missing.'] == 0)).mean() * 100\n",
    "#    non_german_female_pct = ((df['frau1'] == 1) & (df['maxdeutsch1'] == 0) & (df['maxdeutsch.Missing.'] == 0)).mean() * 100\n",
    "#\n",
    "#    print(f\"--- {df_name} ---\")\n",
    "#    print(f\"Female: {female_pct:.2f}%\")\n",
    "#    print(f\"Non-German: {non_german_pct:.2f}%\")\n",
    "#    print(f\"Non-German Male: {non_german_male_pct:.2f}%\")\n",
    "#    print(f\"Non-German Female: {non_german_female_pct:.2f}%\\n\")\n",
    "#\n",
    "## Calculate for each DataFrame\n",
    "#calculate_percentages(siab_calib, \"siab_calib\")\n",
    "#calculate_percentages(siab_test, \"siab_test\")\n",
    "#calculate_percentages(siab_train, \"siab_train\")"
   ]
  },
  {
   "cell_type": "markdown",
   "id": "0a4a1b33",
   "metadata": {
    "papermill": {
     "duration": 0.020581,
     "end_time": "2025-07-30T21:07:11.798664",
     "exception": false,
     "start_time": "2025-07-30T21:07:11.778083",
     "status": "completed"
    },
    "tags": []
   },
   "source": [
    "# Preprocessing Data"
   ]
  },
  {
   "cell_type": "code",
   "execution_count": 29,
   "id": "ca879031",
   "metadata": {
    "execution": {
     "iopub.execute_input": "2025-07-30T21:07:11.845770Z",
     "iopub.status.busy": "2025-07-30T21:07:11.845129Z",
     "iopub.status.idle": "2025-07-30T21:07:11.851085Z",
     "shell.execute_reply": "2025-07-30T21:07:11.850248Z"
    },
    "papermill": {
     "duration": 0.033519,
     "end_time": "2025-07-30T21:07:11.852674",
     "exception": false,
     "start_time": "2025-07-30T21:07:11.819155",
     "status": "completed"
    },
    "tags": []
   },
   "outputs": [],
   "source": [
    "# EXCLUDE PROTECTED FEATURES\n",
    "# ----------------------\n",
    "# \"exclude_features\": \"none\", # \"nationality\", \"sex\", \"nationality-sex\"\n",
    "\n",
    "excluded_features = universe[\"exclude_features\"].split(\"-\") # split, e.g.: \"nationality-sex\" -> [\"nationality\", \"sex\"]\n",
    "excluded_features_dictionary = {\n",
    "    \"nationality\": [\"maxdeutsch1\", \"maxdeutsch.Missing.\"],\n",
    "    \"sex\": [\"frau1\"],\n",
    "    \"age\": [\"age\"],\n",
    "}\n"
   ]
  },
  {
   "cell_type": "code",
   "execution_count": 30,
   "id": "b745ac60",
   "metadata": {
    "execution": {
     "iopub.execute_input": "2025-07-30T21:07:11.909927Z",
     "iopub.status.busy": "2025-07-30T21:07:11.909112Z",
     "iopub.status.idle": "2025-07-30T21:07:11.914754Z",
     "shell.execute_reply": "2025-07-30T21:07:11.913830Z"
    },
    "papermill": {
     "duration": 0.041616,
     "end_time": "2025-07-30T21:07:11.916454",
     "exception": false,
     "start_time": "2025-07-30T21:07:11.874838",
     "status": "completed"
    },
    "tags": []
   },
   "outputs": [],
   "source": [
    "# Code nice names to column names\n",
    "\n",
    "excluded_features_columns = [\n",
    "    excluded_features_dictionary[f] for f in excluded_features if len(f) > 0 and f != \"none\"\n",
    "]"
   ]
  },
  {
   "cell_type": "code",
   "execution_count": 31,
   "id": "f84f73a2",
   "metadata": {
    "execution": {
     "iopub.execute_input": "2025-07-30T21:07:11.958956Z",
     "iopub.status.busy": "2025-07-30T21:07:11.958551Z",
     "iopub.status.idle": "2025-07-30T21:07:11.964510Z",
     "shell.execute_reply": "2025-07-30T21:07:11.963695Z"
    },
    "papermill": {
     "duration": 0.0287,
     "end_time": "2025-07-30T21:07:11.965956",
     "exception": false,
     "start_time": "2025-07-30T21:07:11.937256",
     "status": "completed"
    },
    "tags": []
   },
   "outputs": [],
   "source": [
    "from utils import flatten_once\n",
    "\n",
    "excluded_features_columns = flatten_once(excluded_features_columns)"
   ]
  },
  {
   "cell_type": "code",
   "execution_count": 32,
   "id": "884dea22",
   "metadata": {
    "execution": {
     "iopub.execute_input": "2025-07-30T21:07:12.008947Z",
     "iopub.status.busy": "2025-07-30T21:07:12.008160Z",
     "iopub.status.idle": "2025-07-30T21:07:12.014091Z",
     "shell.execute_reply": "2025-07-30T21:07:12.013177Z"
    },
    "papermill": {
     "duration": 0.028815,
     "end_time": "2025-07-30T21:07:12.015754",
     "exception": false,
     "start_time": "2025-07-30T21:07:11.986939",
     "status": "completed"
    },
    "tags": []
   },
   "outputs": [],
   "source": [
    "if len(excluded_features_columns) > 0:\n",
    "    print(f\"Dropping features: {excluded_features_columns}\")\n",
    "    X_train.drop(excluded_features_columns, axis=1, inplace=True)"
   ]
  },
  {
   "cell_type": "code",
   "execution_count": 33,
   "id": "95ab8b16",
   "metadata": {
    "execution": {
     "iopub.execute_input": "2025-07-30T21:07:12.059343Z",
     "iopub.status.busy": "2025-07-30T21:07:12.058918Z",
     "iopub.status.idle": "2025-07-30T21:07:12.064230Z",
     "shell.execute_reply": "2025-07-30T21:07:12.063232Z"
    },
    "papermill": {
     "duration": 0.028944,
     "end_time": "2025-07-30T21:07:12.065783",
     "exception": false,
     "start_time": "2025-07-30T21:07:12.036839",
     "status": "completed"
    },
    "tags": []
   },
   "outputs": [],
   "source": [
    "if len(excluded_features_columns) > 0:\n",
    "    print(f\"Dropping features: {excluded_features_columns}\")\n",
    "    X_test.drop(excluded_features_columns, axis=1, inplace=True)"
   ]
  },
  {
   "cell_type": "code",
   "execution_count": 34,
   "id": "1853aaf5-fb9f-46cb-a2b5-8ea4ae2237e4",
   "metadata": {
    "execution": {
     "iopub.execute_input": "2025-07-30T21:07:12.109226Z",
     "iopub.status.busy": "2025-07-30T21:07:12.108435Z",
     "iopub.status.idle": "2025-07-30T21:07:12.114280Z",
     "shell.execute_reply": "2025-07-30T21:07:12.113313Z"
    },
    "papermill": {
     "duration": 0.029424,
     "end_time": "2025-07-30T21:07:12.115980",
     "exception": false,
     "start_time": "2025-07-30T21:07:12.086556",
     "status": "completed"
    },
    "tags": []
   },
   "outputs": [],
   "source": [
    "if len(excluded_features_columns) > 0:\n",
    "    print(f\"Dropping features: {excluded_features_columns}\")\n",
    "    X_calib.drop(excluded_features_columns, axis=1, inplace=True)"
   ]
  },
  {
   "cell_type": "code",
   "execution_count": 35,
   "id": "6727d079-03e5-481e-9d38-292a90b7a0a8",
   "metadata": {
    "execution": {
     "iopub.execute_input": "2025-07-30T21:07:12.159490Z",
     "iopub.status.busy": "2025-07-30T21:07:12.158750Z",
     "iopub.status.idle": "2025-07-30T21:07:12.163901Z",
     "shell.execute_reply": "2025-07-30T21:07:12.162965Z"
    },
    "papermill": {
     "duration": 0.028532,
     "end_time": "2025-07-30T21:07:12.165560",
     "exception": false,
     "start_time": "2025-07-30T21:07:12.137028",
     "status": "completed"
    },
    "tags": []
   },
   "outputs": [],
   "source": [
    "# SPLIT & STRATIFY DATA\n",
    "# ----------------------"
   ]
  },
  {
   "cell_type": "code",
   "execution_count": 36,
   "id": "76c4dc6d",
   "metadata": {
    "execution": {
     "iopub.execute_input": "2025-07-30T21:07:12.210484Z",
     "iopub.status.busy": "2025-07-30T21:07:12.209563Z",
     "iopub.status.idle": "2025-07-30T21:07:12.215292Z",
     "shell.execute_reply": "2025-07-30T21:07:12.214332Z"
    },
    "papermill": {
     "duration": 0.030227,
     "end_time": "2025-07-30T21:07:12.217000",
     "exception": false,
     "start_time": "2025-07-30T21:07:12.186773",
     "status": "completed"
    },
    "tags": []
   },
   "outputs": [],
   "source": [
    "# EXCLUDE CERTAIN SUBGROUPS\n",
    "# ----------------------\n",
    "\n",
    "mode = universe.get(\"exclude_subgroups\", \"keep-all\") \n",
    "# Fetches the exclude_subgroups setting from the universe dict.\n",
    "# Defaults to \"keep-all\" if the key is missing."
   ]
  },
  {
   "cell_type": "code",
   "execution_count": 37,
   "id": "21994072",
   "metadata": {
    "execution": {
     "iopub.execute_input": "2025-07-30T21:07:12.262882Z",
     "iopub.status.busy": "2025-07-30T21:07:12.262025Z",
     "iopub.status.idle": "2025-07-30T21:07:12.269198Z",
     "shell.execute_reply": "2025-07-30T21:07:12.268214Z"
    },
    "papermill": {
     "duration": 0.032635,
     "end_time": "2025-07-30T21:07:12.271346",
     "exception": false,
     "start_time": "2025-07-30T21:07:12.238711",
     "status": "completed"
    },
    "tags": []
   },
   "outputs": [],
   "source": [
    "if mode == \"keep-all\":\n",
    "    keep_mask = pd.Series(True, index=org_train.index)\n",
    "\n",
    "# org_train contains the original feature columns from features_org (in Simson)\n",
    "# features_org contains unprocessed features, for me X_train at beginning ???\n",
    "# For keep-all, creates a boolean Series (keep_mask) of all True, so no rows are removed.\n",
    "\n",
    "elif mode == \"drop-non-german\":\n",
    "    keep_mask = org_train[\"maxdeutsch1\"] == 1 # ??? what about missing values?\n",
    "\n",
    "else:\n",
    "    raise ValueError(f\"Unsupported mode for exclude_subgroups: {mode}\")\n"
   ]
  },
  {
   "cell_type": "code",
   "execution_count": 38,
   "id": "71651440",
   "metadata": {
    "execution": {
     "iopub.execute_input": "2025-07-30T21:07:12.326892Z",
     "iopub.status.busy": "2025-07-30T21:07:12.325991Z",
     "iopub.status.idle": "2025-07-30T21:07:12.333073Z",
     "shell.execute_reply": "2025-07-30T21:07:12.332155Z"
    },
    "papermill": {
     "duration": 0.033174,
     "end_time": "2025-07-30T21:07:12.334727",
     "exception": false,
     "start_time": "2025-07-30T21:07:12.301553",
     "status": "completed"
    },
    "tags": []
   },
   "outputs": [
    {
     "name": "stdout",
     "output_type": "stream",
     "text": [
      "Dropping 665 rows (13.30%) where mode='drop-non-german'\n"
     ]
    }
   ],
   "source": [
    "n_drop = (~keep_mask).sum() # Calculates how many rows are set to be dropped\n",
    "if n_drop > 0:\n",
    "    pct = n_drop / len(keep_mask) * 100\n",
    "    print(f\"Dropping {n_drop} rows ({pct:.2f}%) where mode='{mode}'\")"
   ]
  },
  {
   "cell_type": "code",
   "execution_count": 39,
   "id": "5fb8eee5",
   "metadata": {
    "execution": {
     "iopub.execute_input": "2025-07-30T21:07:12.379718Z",
     "iopub.status.busy": "2025-07-30T21:07:12.379278Z",
     "iopub.status.idle": "2025-07-30T21:07:12.388647Z",
     "shell.execute_reply": "2025-07-30T21:07:12.387569Z"
    },
    "papermill": {
     "duration": 0.033639,
     "end_time": "2025-07-30T21:07:12.390448",
     "exception": false,
     "start_time": "2025-07-30T21:07:12.356809",
     "status": "completed"
    },
    "tags": []
   },
   "outputs": [],
   "source": [
    "X_train = X_train[keep_mask]"
   ]
  },
  {
   "cell_type": "code",
   "execution_count": 40,
   "id": "b202bb3a",
   "metadata": {
    "execution": {
     "iopub.execute_input": "2025-07-30T21:07:12.437062Z",
     "iopub.status.busy": "2025-07-30T21:07:12.436565Z",
     "iopub.status.idle": "2025-07-30T21:07:12.443031Z",
     "shell.execute_reply": "2025-07-30T21:07:12.441993Z"
    },
    "papermill": {
     "duration": 0.030323,
     "end_time": "2025-07-30T21:07:12.444882",
     "exception": false,
     "start_time": "2025-07-30T21:07:12.414559",
     "status": "completed"
    },
    "tags": []
   },
   "outputs": [],
   "source": [
    "y_train = y_train[keep_mask]"
   ]
  },
  {
   "cell_type": "markdown",
   "id": "493e2ac3",
   "metadata": {
    "papermill": {
     "duration": 0.021313,
     "end_time": "2025-07-30T21:07:12.488254",
     "exception": false,
     "start_time": "2025-07-30T21:07:12.466941",
     "status": "completed"
    },
    "tags": []
   },
   "source": [
    "# Model Training"
   ]
  },
  {
   "cell_type": "code",
   "execution_count": 41,
   "id": "679e1268",
   "metadata": {
    "execution": {
     "iopub.execute_input": "2025-07-30T21:07:12.534328Z",
     "iopub.status.busy": "2025-07-30T21:07:12.533813Z",
     "iopub.status.idle": "2025-07-30T21:07:12.639667Z",
     "shell.execute_reply": "2025-07-30T21:07:12.638756Z"
    },
    "papermill": {
     "duration": 0.130749,
     "end_time": "2025-07-30T21:07:12.641962",
     "exception": false,
     "start_time": "2025-07-30T21:07:12.511213",
     "status": "completed"
    },
    "tags": []
   },
   "outputs": [],
   "source": [
    "from sklearn.linear_model import LogisticRegression\n",
    "from sklearn.ensemble import GradientBoostingClassifier, RandomForestClassifier\n",
    "\n",
    "if (universe[\"model\"] == \"logreg\"):\n",
    "    model = LogisticRegression() #penalty=\"none\") #, solver=\"newton-cg\", max_iter=1) # include random_state=19 ?\n",
    "elif (universe[\"model\"] == \"penalized_logreg\"):\n",
    "    model = LogisticRegression(penalty=\"l2\", C=1.0) #, solver=\"newton-cg\", max_iter=1)\n",
    "elif (universe[\"model\"] == \"rf\"):\n",
    "    model = RandomForestClassifier(n_estimators=100, n_jobs=-1)\n",
    "elif (universe[\"model\"] == \"gbm\"):\n",
    "    model = GradientBoostingClassifier()\n",
    "elif (universe[\"model\"] == \"elasticnet\"):\n",
    "    model = LogisticRegression(penalty = 'elasticnet', solver = 'saga', l1_ratio = 0.5, max_iter=5000) # which solver to use?\n",
    "else:\n",
    "    raise \"Unsupported universe.model\""
   ]
  },
  {
   "cell_type": "code",
   "execution_count": 42,
   "id": "0cc8f744",
   "metadata": {
    "execution": {
     "iopub.execute_input": "2025-07-30T21:07:12.689715Z",
     "iopub.status.busy": "2025-07-30T21:07:12.689280Z",
     "iopub.status.idle": "2025-07-30T21:07:12.696358Z",
     "shell.execute_reply": "2025-07-30T21:07:12.695379Z"
    },
    "papermill": {
     "duration": 0.031965,
     "end_time": "2025-07-30T21:07:12.698258",
     "exception": false,
     "start_time": "2025-07-30T21:07:12.666293",
     "status": "completed"
    },
    "tags": []
   },
   "outputs": [],
   "source": [
    "import numpy as np\n",
    "from sklearn.pipeline import Pipeline\n",
    "from sklearn.preprocessing import StandardScaler\n",
    "\n",
    "model = Pipeline([\n",
    "    #(\"continuous_processor\", continuous_processor),\n",
    "    #(\"categorical_preprocessor\", categorical_preprocessor),\n",
    "    (\"scale\", StandardScaler() if universe[\"scale\"] == \"scale\" else None), \n",
    "    (\"model\", model),\n",
    "])"
   ]
  },
  {
   "cell_type": "code",
   "execution_count": 43,
   "id": "9442c04d",
   "metadata": {
    "execution": {
     "iopub.execute_input": "2025-07-30T21:07:12.745178Z",
     "iopub.status.busy": "2025-07-30T21:07:12.744314Z",
     "iopub.status.idle": "2025-07-30T21:08:29.608895Z",
     "shell.execute_reply": "2025-07-30T21:08:29.607854Z"
    },
    "papermill": {
     "duration": 76.91264,
     "end_time": "2025-07-30T21:08:29.633539",
     "exception": false,
     "start_time": "2025-07-30T21:07:12.720899",
     "status": "completed"
    },
    "tags": []
   },
   "outputs": [
    {
     "data": {
      "text/html": [
       "<style>#sk-container-id-1 {color: black;background-color: white;}#sk-container-id-1 pre{padding: 0;}#sk-container-id-1 div.sk-toggleable {background-color: white;}#sk-container-id-1 label.sk-toggleable__label {cursor: pointer;display: block;width: 100%;margin-bottom: 0;padding: 0.3em;box-sizing: border-box;text-align: center;}#sk-container-id-1 label.sk-toggleable__label-arrow:before {content: \"▸\";float: left;margin-right: 0.25em;color: #696969;}#sk-container-id-1 label.sk-toggleable__label-arrow:hover:before {color: black;}#sk-container-id-1 div.sk-estimator:hover label.sk-toggleable__label-arrow:before {color: black;}#sk-container-id-1 div.sk-toggleable__content {max-height: 0;max-width: 0;overflow: hidden;text-align: left;background-color: #f0f8ff;}#sk-container-id-1 div.sk-toggleable__content pre {margin: 0.2em;color: black;border-radius: 0.25em;background-color: #f0f8ff;}#sk-container-id-1 input.sk-toggleable__control:checked~div.sk-toggleable__content {max-height: 200px;max-width: 100%;overflow: auto;}#sk-container-id-1 input.sk-toggleable__control:checked~label.sk-toggleable__label-arrow:before {content: \"▾\";}#sk-container-id-1 div.sk-estimator input.sk-toggleable__control:checked~label.sk-toggleable__label {background-color: #d4ebff;}#sk-container-id-1 div.sk-label input.sk-toggleable__control:checked~label.sk-toggleable__label {background-color: #d4ebff;}#sk-container-id-1 input.sk-hidden--visually {border: 0;clip: rect(1px 1px 1px 1px);clip: rect(1px, 1px, 1px, 1px);height: 1px;margin: -1px;overflow: hidden;padding: 0;position: absolute;width: 1px;}#sk-container-id-1 div.sk-estimator {font-family: monospace;background-color: #f0f8ff;border: 1px dotted black;border-radius: 0.25em;box-sizing: border-box;margin-bottom: 0.5em;}#sk-container-id-1 div.sk-estimator:hover {background-color: #d4ebff;}#sk-container-id-1 div.sk-parallel-item::after {content: \"\";width: 100%;border-bottom: 1px solid gray;flex-grow: 1;}#sk-container-id-1 div.sk-label:hover label.sk-toggleable__label {background-color: #d4ebff;}#sk-container-id-1 div.sk-serial::before {content: \"\";position: absolute;border-left: 1px solid gray;box-sizing: border-box;top: 0;bottom: 0;left: 50%;z-index: 0;}#sk-container-id-1 div.sk-serial {display: flex;flex-direction: column;align-items: center;background-color: white;padding-right: 0.2em;padding-left: 0.2em;position: relative;}#sk-container-id-1 div.sk-item {position: relative;z-index: 1;}#sk-container-id-1 div.sk-parallel {display: flex;align-items: stretch;justify-content: center;background-color: white;position: relative;}#sk-container-id-1 div.sk-item::before, #sk-container-id-1 div.sk-parallel-item::before {content: \"\";position: absolute;border-left: 1px solid gray;box-sizing: border-box;top: 0;bottom: 0;left: 50%;z-index: -1;}#sk-container-id-1 div.sk-parallel-item {display: flex;flex-direction: column;z-index: 1;position: relative;background-color: white;}#sk-container-id-1 div.sk-parallel-item:first-child::after {align-self: flex-end;width: 50%;}#sk-container-id-1 div.sk-parallel-item:last-child::after {align-self: flex-start;width: 50%;}#sk-container-id-1 div.sk-parallel-item:only-child::after {width: 0;}#sk-container-id-1 div.sk-dashed-wrapped {border: 1px dashed gray;margin: 0 0.4em 0.5em 0.4em;box-sizing: border-box;padding-bottom: 0.4em;background-color: white;}#sk-container-id-1 div.sk-label label {font-family: monospace;font-weight: bold;display: inline-block;line-height: 1.2em;}#sk-container-id-1 div.sk-label-container {text-align: center;}#sk-container-id-1 div.sk-container {/* jupyter's `normalize.less` sets `[hidden] { display: none; }` but bootstrap.min.css set `[hidden] { display: none !important; }` so we also need the `!important` here to be able to override the default hidden behavior on the sphinx rendered scikit-learn.org. See: https://github.com/scikit-learn/scikit-learn/issues/21755 */display: inline-block !important;position: relative;}#sk-container-id-1 div.sk-text-repr-fallback {display: none;}</style><div id=\"sk-container-id-1\" class=\"sk-top-container\"><div class=\"sk-text-repr-fallback\"><pre>Pipeline(steps=[(&#x27;scale&#x27;, None),\n",
       "                (&#x27;model&#x27;,\n",
       "                 LogisticRegression(l1_ratio=0.5, max_iter=5000,\n",
       "                                    penalty=&#x27;elasticnet&#x27;, solver=&#x27;saga&#x27;))])</pre><b>In a Jupyter environment, please rerun this cell to show the HTML representation or trust the notebook. <br />On GitHub, the HTML representation is unable to render, please try loading this page with nbviewer.org.</b></div><div class=\"sk-container\" hidden><div class=\"sk-item sk-dashed-wrapped\"><div class=\"sk-label-container\"><div class=\"sk-label sk-toggleable\"><input class=\"sk-toggleable__control sk-hidden--visually\" id=\"sk-estimator-id-1\" type=\"checkbox\" ><label for=\"sk-estimator-id-1\" class=\"sk-toggleable__label sk-toggleable__label-arrow\">Pipeline</label><div class=\"sk-toggleable__content\"><pre>Pipeline(steps=[(&#x27;scale&#x27;, None),\n",
       "                (&#x27;model&#x27;,\n",
       "                 LogisticRegression(l1_ratio=0.5, max_iter=5000,\n",
       "                                    penalty=&#x27;elasticnet&#x27;, solver=&#x27;saga&#x27;))])</pre></div></div></div><div class=\"sk-serial\"><div class=\"sk-item\"><div class=\"sk-estimator sk-toggleable\"><input class=\"sk-toggleable__control sk-hidden--visually\" id=\"sk-estimator-id-2\" type=\"checkbox\" ><label for=\"sk-estimator-id-2\" class=\"sk-toggleable__label sk-toggleable__label-arrow\">None</label><div class=\"sk-toggleable__content\"><pre>None</pre></div></div></div><div class=\"sk-item\"><div class=\"sk-estimator sk-toggleable\"><input class=\"sk-toggleable__control sk-hidden--visually\" id=\"sk-estimator-id-3\" type=\"checkbox\" ><label for=\"sk-estimator-id-3\" class=\"sk-toggleable__label sk-toggleable__label-arrow\">LogisticRegression</label><div class=\"sk-toggleable__content\"><pre>LogisticRegression(l1_ratio=0.5, max_iter=5000, penalty=&#x27;elasticnet&#x27;,\n",
       "                   solver=&#x27;saga&#x27;)</pre></div></div></div></div></div></div></div>"
      ],
      "text/plain": [
       "Pipeline(steps=[('scale', None),\n",
       "                ('model',\n",
       "                 LogisticRegression(l1_ratio=0.5, max_iter=5000,\n",
       "                                    penalty='elasticnet', solver='saga'))])"
      ]
     },
     "execution_count": 43,
     "metadata": {},
     "output_type": "execute_result"
    }
   ],
   "source": [
    "model.fit(X_train, y_train.values.ravel())"
   ]
  },
  {
   "cell_type": "code",
   "execution_count": 44,
   "id": "af59f8c0",
   "metadata": {
    "execution": {
     "iopub.execute_input": "2025-07-30T21:08:29.677355Z",
     "iopub.status.busy": "2025-07-30T21:08:29.676869Z",
     "iopub.status.idle": "2025-07-30T21:08:29.682353Z",
     "shell.execute_reply": "2025-07-30T21:08:29.681428Z"
    },
    "papermill": {
     "duration": 0.029366,
     "end_time": "2025-07-30T21:08:29.683888",
     "exception": false,
     "start_time": "2025-07-30T21:08:29.654522",
     "status": "completed"
    },
    "tags": []
   },
   "outputs": [],
   "source": [
    "from fairness_multiverse.universe import predict_w_threshold"
   ]
  },
  {
   "cell_type": "code",
   "execution_count": 45,
   "id": "a7cf2e16",
   "metadata": {
    "execution": {
     "iopub.execute_input": "2025-07-30T21:08:29.728223Z",
     "iopub.status.busy": "2025-07-30T21:08:29.727793Z",
     "iopub.status.idle": "2025-07-30T21:08:29.830751Z",
     "shell.execute_reply": "2025-07-30T21:08:29.829954Z"
    },
    "papermill": {
     "duration": 0.126474,
     "end_time": "2025-07-30T21:08:29.832328",
     "exception": false,
     "start_time": "2025-07-30T21:08:29.705854",
     "status": "completed"
    },
    "tags": []
   },
   "outputs": [
    {
     "data": {
      "text/plain": [
       "0.8587671385575744"
      ]
     },
     "execution_count": 45,
     "metadata": {},
     "output_type": "execute_result"
    }
   ],
   "source": [
    "probs_test = model.predict_proba(X_test)\n",
    "\n",
    "'''\n",
    "Below code returns a boolean array (or binary 0/1 array depending on how it’s used) where each element \n",
    "is True if the probability of class 1 is greater than or equal to the threshold, and False otherwise.\n",
    "'''\n",
    "y_pred_default = predict_w_threshold(probs_test, 0.5)\n",
    "\n",
    "from sklearn.metrics import accuracy_score\n",
    "\n",
    "# Naive prediction\n",
    "accuracy_score(y_true = y_true, y_pred = y_pred_default)"
   ]
  },
  {
   "cell_type": "code",
   "execution_count": 46,
   "id": "081964c3",
   "metadata": {
    "execution": {
     "iopub.execute_input": "2025-07-30T21:08:29.878386Z",
     "iopub.status.busy": "2025-07-30T21:08:29.877766Z",
     "iopub.status.idle": "2025-07-30T21:08:29.957599Z",
     "shell.execute_reply": "2025-07-30T21:08:29.956731Z"
    },
    "papermill": {
     "duration": 0.104411,
     "end_time": "2025-07-30T21:08:29.959210",
     "exception": false,
     "start_time": "2025-07-30T21:08:29.854799",
     "status": "completed"
    },
    "tags": []
   },
   "outputs": [
    {
     "data": {
      "text/plain": [
       "array([0, 0, 0, ..., 0, 0, 0])"
      ]
     },
     "execution_count": 46,
     "metadata": {},
     "output_type": "execute_result"
    }
   ],
   "source": [
    "model.predict(X_test)"
   ]
  },
  {
   "cell_type": "markdown",
   "id": "56c9705b",
   "metadata": {
    "papermill": {
     "duration": 0.021874,
     "end_time": "2025-07-30T21:08:30.003540",
     "exception": false,
     "start_time": "2025-07-30T21:08:29.981666",
     "status": "completed"
    },
    "tags": []
   },
   "source": [
    "# Conformal Prediction"
   ]
  },
  {
   "cell_type": "code",
   "execution_count": 47,
   "id": "160ec6ff",
   "metadata": {
    "execution": {
     "iopub.execute_input": "2025-07-30T21:08:30.048615Z",
     "iopub.status.busy": "2025-07-30T21:08:30.047972Z",
     "iopub.status.idle": "2025-07-30T21:08:30.052909Z",
     "shell.execute_reply": "2025-07-30T21:08:30.052000Z"
    },
    "papermill": {
     "duration": 0.029289,
     "end_time": "2025-07-30T21:08:30.054503",
     "exception": false,
     "start_time": "2025-07-30T21:08:30.025214",
     "status": "completed"
    },
    "tags": []
   },
   "outputs": [],
   "source": [
    "# Miscoverage level for conformal prediction (10% allowed error rate => 90% target coverage)\n",
    "alpha = 0.1"
   ]
  },
  {
   "cell_type": "code",
   "execution_count": 48,
   "id": "eadf4555-3dd3-440e-8e35-f82a4ad9f855",
   "metadata": {
    "execution": {
     "iopub.execute_input": "2025-07-30T21:08:30.100194Z",
     "iopub.status.busy": "2025-07-30T21:08:30.099565Z",
     "iopub.status.idle": "2025-07-30T21:08:30.181571Z",
     "shell.execute_reply": "2025-07-30T21:08:30.180702Z"
    },
    "papermill": {
     "duration": 0.106318,
     "end_time": "2025-07-30T21:08:30.183348",
     "exception": false,
     "start_time": "2025-07-30T21:08:30.077030",
     "status": "completed"
    },
    "tags": []
   },
   "outputs": [],
   "source": [
    "probs_calib = model.predict_proba(X_calib)"
   ]
  },
  {
   "cell_type": "code",
   "execution_count": 49,
   "id": "2ed93547-6d5d-4983-9b36-1ecb300da49a",
   "metadata": {
    "execution": {
     "iopub.execute_input": "2025-07-30T21:08:30.229464Z",
     "iopub.status.busy": "2025-07-30T21:08:30.228852Z",
     "iopub.status.idle": "2025-07-30T21:08:30.234000Z",
     "shell.execute_reply": "2025-07-30T21:08:30.233134Z"
    },
    "papermill": {
     "duration": 0.029545,
     "end_time": "2025-07-30T21:08:30.235631",
     "exception": false,
     "start_time": "2025-07-30T21:08:30.206086",
     "status": "completed"
    },
    "tags": []
   },
   "outputs": [],
   "source": [
    "y_calib = y_calib.values.ravel().astype(int)"
   ]
  },
  {
   "cell_type": "code",
   "execution_count": 50,
   "id": "65d1320d-f588-4b38-9072-62af1ae97f7d",
   "metadata": {
    "execution": {
     "iopub.execute_input": "2025-07-30T21:08:30.282009Z",
     "iopub.status.busy": "2025-07-30T21:08:30.281413Z",
     "iopub.status.idle": "2025-07-30T21:08:30.288235Z",
     "shell.execute_reply": "2025-07-30T21:08:30.287435Z"
    },
    "papermill": {
     "duration": 0.031053,
     "end_time": "2025-07-30T21:08:30.289851",
     "exception": false,
     "start_time": "2025-07-30T21:08:30.258798",
     "status": "completed"
    },
    "tags": []
   },
   "outputs": [],
   "source": [
    "from fairness_multiverse.conformal import compute_nc_scores\n",
    "\n",
    "# Compute nonconformity scores on calibration set (1 - probability of true class)\n",
    "nc_scores = compute_nc_scores(probs_calib, y_calib)"
   ]
  },
  {
   "cell_type": "code",
   "execution_count": 51,
   "id": "df3b8ca3-53b7-43d5-9667-7c85da7aeda2",
   "metadata": {
    "execution": {
     "iopub.execute_input": "2025-07-30T21:08:30.335896Z",
     "iopub.status.busy": "2025-07-30T21:08:30.335306Z",
     "iopub.status.idle": "2025-07-30T21:08:30.342425Z",
     "shell.execute_reply": "2025-07-30T21:08:30.341489Z"
    },
    "papermill": {
     "duration": 0.031509,
     "end_time": "2025-07-30T21:08:30.344153",
     "exception": false,
     "start_time": "2025-07-30T21:08:30.312644",
     "status": "completed"
    },
    "tags": []
   },
   "outputs": [],
   "source": [
    "from fairness_multiverse.conformal import find_threshold\n",
    "\n",
    "# Find conformal threshold q_hat for the given alpha (split conformal method)\n",
    "q_hat = find_threshold(nc_scores, alpha)"
   ]
  },
  {
   "cell_type": "code",
   "execution_count": 52,
   "id": "4d29e6c1-0ef6-4aa4-b8fe-4fe79b0d033a",
   "metadata": {
    "execution": {
     "iopub.execute_input": "2025-07-30T21:08:30.390451Z",
     "iopub.status.busy": "2025-07-30T21:08:30.389821Z",
     "iopub.status.idle": "2025-07-30T21:08:30.397152Z",
     "shell.execute_reply": "2025-07-30T21:08:30.396295Z"
    },
    "papermill": {
     "duration": 0.031562,
     "end_time": "2025-07-30T21:08:30.398654",
     "exception": false,
     "start_time": "2025-07-30T21:08:30.367092",
     "status": "completed"
    },
    "tags": []
   },
   "outputs": [
    {
     "data": {
      "text/plain": [
       "0.6930954051035132"
      ]
     },
     "execution_count": 52,
     "metadata": {},
     "output_type": "execute_result"
    }
   ],
   "source": [
    "q_hat"
   ]
  },
  {
   "cell_type": "code",
   "execution_count": 53,
   "id": "92460794-cdac-4be2-ba28-f28c0515a6fb",
   "metadata": {
    "execution": {
     "iopub.execute_input": "2025-07-30T21:08:30.445082Z",
     "iopub.status.busy": "2025-07-30T21:08:30.444440Z",
     "iopub.status.idle": "2025-07-30T21:08:31.166324Z",
     "shell.execute_reply": "2025-07-30T21:08:31.165458Z"
    },
    "papermill": {
     "duration": 0.746628,
     "end_time": "2025-07-30T21:08:31.168074",
     "exception": false,
     "start_time": "2025-07-30T21:08:30.421446",
     "status": "completed"
    },
    "tags": []
   },
   "outputs": [],
   "source": [
    "from fairness_multiverse.conformal import predict_conformal_sets\n",
    "\n",
    "# Generate prediction sets for each test example\n",
    "pred_sets = predict_conformal_sets(model, X_test, q_hat)"
   ]
  },
  {
   "cell_type": "code",
   "execution_count": 54,
   "id": "d90c9a65-e6db-4f5d-80cd-e68fb7e46829",
   "metadata": {
    "execution": {
     "iopub.execute_input": "2025-07-30T21:08:31.214989Z",
     "iopub.status.busy": "2025-07-30T21:08:31.214361Z",
     "iopub.status.idle": "2025-07-30T21:08:31.219658Z",
     "shell.execute_reply": "2025-07-30T21:08:31.218787Z"
    },
    "papermill": {
     "duration": 0.030284,
     "end_time": "2025-07-30T21:08:31.221202",
     "exception": false,
     "start_time": "2025-07-30T21:08:31.190918",
     "status": "completed"
    },
    "tags": []
   },
   "outputs": [],
   "source": [
    "y_true = y_true.squeeze()"
   ]
  },
  {
   "cell_type": "code",
   "execution_count": 55,
   "id": "3a58a54a-1e68-46b9-927a-df01f18aebc8",
   "metadata": {
    "execution": {
     "iopub.execute_input": "2025-07-30T21:08:31.268766Z",
     "iopub.status.busy": "2025-07-30T21:08:31.268120Z",
     "iopub.status.idle": "2025-07-30T21:08:32.137765Z",
     "shell.execute_reply": "2025-07-30T21:08:32.136900Z"
    },
    "papermill": {
     "duration": 0.895119,
     "end_time": "2025-07-30T21:08:32.139567",
     "exception": false,
     "start_time": "2025-07-30T21:08:31.244448",
     "status": "completed"
    },
    "tags": []
   },
   "outputs": [],
   "source": [
    "from fairness_multiverse.conformal import evaluate_sets\n",
    "\n",
    "# Evaluate coverage and average set size on test data\n",
    "metrics = evaluate_sets(pred_sets, y_true)"
   ]
  },
  {
   "cell_type": "markdown",
   "id": "2b569c12-9aaa-4c88-98c9-bbcd0cf3ebb8",
   "metadata": {
    "papermill": {
     "duration": 0.022251,
     "end_time": "2025-07-30T21:08:32.184978",
     "exception": false,
     "start_time": "2025-07-30T21:08:32.162727",
     "status": "completed"
    },
    "tags": []
   },
   "source": [
    "# CP Metrics"
   ]
  },
  {
   "cell_type": "code",
   "execution_count": 56,
   "id": "5ce0a5cb-201f-45a0-ade5-94c7f0bd6095",
   "metadata": {
    "execution": {
     "iopub.execute_input": "2025-07-30T21:08:32.231305Z",
     "iopub.status.busy": "2025-07-30T21:08:32.230688Z",
     "iopub.status.idle": "2025-07-30T21:08:32.237454Z",
     "shell.execute_reply": "2025-07-30T21:08:32.236625Z"
    },
    "papermill": {
     "duration": 0.031873,
     "end_time": "2025-07-30T21:08:32.238955",
     "exception": false,
     "start_time": "2025-07-30T21:08:32.207082",
     "status": "completed"
    },
    "tags": []
   },
   "outputs": [
    {
     "data": {
      "text/plain": [
       "{'coverage': 0.9098539739159514, 'avg_size': 1.1515661576189946}"
      ]
     },
     "execution_count": 56,
     "metadata": {},
     "output_type": "execute_result"
    }
   ],
   "source": [
    "metrics"
   ]
  },
  {
   "cell_type": "code",
   "execution_count": 57,
   "id": "9b9a838d-31c9-430b-ae14-12baee460d17",
   "metadata": {
    "execution": {
     "iopub.execute_input": "2025-07-30T21:08:32.286935Z",
     "iopub.status.busy": "2025-07-30T21:08:32.286324Z",
     "iopub.status.idle": "2025-07-30T21:08:32.292603Z",
     "shell.execute_reply": "2025-07-30T21:08:32.291700Z"
    },
    "papermill": {
     "duration": 0.031986,
     "end_time": "2025-07-30T21:08:32.294342",
     "exception": false,
     "start_time": "2025-07-30T21:08:32.262356",
     "status": "completed"
    },
    "tags": []
   },
   "outputs": [],
   "source": [
    "example_universe = universe.copy()\n",
    "universe_training_year = example_universe.get(\"training_year\")\n",
    "universe_training_size = example_universe.get(\"training_size\")\n",
    "universe_scale = example_universe.get(\"scale\")\n",
    "universe_model = example_universe.get(\"model\")\n",
    "universe_exclude_features = example_universe.get(\"exclude_features\")\n",
    "universe_exclude_subgroups = example_universe.get(\"exclude_subgroups\")"
   ]
  },
  {
   "cell_type": "code",
   "execution_count": 58,
   "id": "f4b6a8ac-9dc0-4245-8a91-5b3b5999c4f9",
   "metadata": {
    "execution": {
     "iopub.execute_input": "2025-07-30T21:08:32.345333Z",
     "iopub.status.busy": "2025-07-30T21:08:32.344878Z",
     "iopub.status.idle": "2025-07-30T21:08:32.351408Z",
     "shell.execute_reply": "2025-07-30T21:08:32.350589Z"
    },
    "papermill": {
     "duration": 0.03227,
     "end_time": "2025-07-30T21:08:32.352887",
     "exception": false,
     "start_time": "2025-07-30T21:08:32.320617",
     "status": "completed"
    },
    "tags": []
   },
   "outputs": [],
   "source": [
    "cp_metrics_dict = {\n",
    "    \"universe_id\": [universe_id],\n",
    "    \"universe_training_year\": [universe_training_year],\n",
    "    \"universe_training_size\": [universe_training_size],\n",
    "    \"universe_scale\": [universe_scale],\n",
    "    \"universe_model\": [universe_model],\n",
    "    \"universe_exclude_features\": [universe_exclude_features],\n",
    "    \"universe_exclude_subgroups\": [universe_exclude_subgroups],\n",
    "    \"q_hat\": [q_hat],\n",
    "    \"coverage\": [metrics[\"coverage\"]],\n",
    "    \"avg_size\": [metrics[\"avg_size\"]],\n",
    "}"
   ]
  },
  {
   "cell_type": "code",
   "execution_count": 59,
   "id": "908acbb1-0371-4915-85ca-3fa520d2efe2",
   "metadata": {
    "execution": {
     "iopub.execute_input": "2025-07-30T21:08:32.401446Z",
     "iopub.status.busy": "2025-07-30T21:08:32.400808Z",
     "iopub.status.idle": "2025-07-30T21:08:32.408197Z",
     "shell.execute_reply": "2025-07-30T21:08:32.407335Z"
    },
    "papermill": {
     "duration": 0.033065,
     "end_time": "2025-07-30T21:08:32.409707",
     "exception": false,
     "start_time": "2025-07-30T21:08:32.376642",
     "status": "completed"
    },
    "tags": []
   },
   "outputs": [
    {
     "data": {
      "text/plain": [
       "{'universe_id': ['45d2a3d0e4ff7c68b762e4b2d2b70fa5'],\n",
       " 'universe_training_year': ['2012_14'],\n",
       " 'universe_training_size': ['5k'],\n",
       " 'universe_scale': ['do-not-scale'],\n",
       " 'universe_model': ['elasticnet'],\n",
       " 'universe_exclude_features': ['none'],\n",
       " 'universe_exclude_subgroups': ['drop-non-german'],\n",
       " 'q_hat': [0.6930954051035132],\n",
       " 'coverage': [0.9098539739159514],\n",
       " 'avg_size': [1.1515661576189946]}"
      ]
     },
     "execution_count": 59,
     "metadata": {},
     "output_type": "execute_result"
    }
   ],
   "source": [
    "cp_metrics_dict"
   ]
  },
  {
   "cell_type": "code",
   "execution_count": 60,
   "id": "33007efc-14e9-4ec6-97ac-56a455c82265",
   "metadata": {
    "execution": {
     "iopub.execute_input": "2025-07-30T21:08:32.458185Z",
     "iopub.status.busy": "2025-07-30T21:08:32.457709Z",
     "iopub.status.idle": "2025-07-30T21:08:32.463861Z",
     "shell.execute_reply": "2025-07-30T21:08:32.462939Z"
    },
    "papermill": {
     "duration": 0.03168,
     "end_time": "2025-07-30T21:08:32.465319",
     "exception": false,
     "start_time": "2025-07-30T21:08:32.433639",
     "status": "completed"
    },
    "tags": []
   },
   "outputs": [],
   "source": [
    "cp_metrics_df = pd.DataFrame(cp_metrics_dict)"
   ]
  },
  {
   "cell_type": "code",
   "execution_count": 61,
   "id": "db12611b-57b2-4910-b9d0-355adfd6e7bf",
   "metadata": {
    "execution": {
     "iopub.execute_input": "2025-07-30T21:08:32.514159Z",
     "iopub.status.busy": "2025-07-30T21:08:32.513523Z",
     "iopub.status.idle": "2025-07-30T21:08:32.531608Z",
     "shell.execute_reply": "2025-07-30T21:08:32.530735Z"
    },
    "papermill": {
     "duration": 0.043595,
     "end_time": "2025-07-30T21:08:32.533088",
     "exception": false,
     "start_time": "2025-07-30T21:08:32.489493",
     "status": "completed"
    },
    "tags": []
   },
   "outputs": [
    {
     "data": {
      "text/html": [
       "<div>\n",
       "<style scoped>\n",
       "    .dataframe tbody tr th:only-of-type {\n",
       "        vertical-align: middle;\n",
       "    }\n",
       "\n",
       "    .dataframe tbody tr th {\n",
       "        vertical-align: top;\n",
       "    }\n",
       "\n",
       "    .dataframe thead th {\n",
       "        text-align: right;\n",
       "    }\n",
       "</style>\n",
       "<table border=\"1\" class=\"dataframe\">\n",
       "  <thead>\n",
       "    <tr style=\"text-align: right;\">\n",
       "      <th></th>\n",
       "      <th>universe_id</th>\n",
       "      <th>universe_training_year</th>\n",
       "      <th>universe_training_size</th>\n",
       "      <th>universe_scale</th>\n",
       "      <th>universe_model</th>\n",
       "      <th>universe_exclude_features</th>\n",
       "      <th>universe_exclude_subgroups</th>\n",
       "      <th>q_hat</th>\n",
       "      <th>coverage</th>\n",
       "      <th>avg_size</th>\n",
       "    </tr>\n",
       "  </thead>\n",
       "  <tbody>\n",
       "    <tr>\n",
       "      <th>0</th>\n",
       "      <td>45d2a3d0e4ff7c68b762e4b2d2b70fa5</td>\n",
       "      <td>2012_14</td>\n",
       "      <td>5k</td>\n",
       "      <td>do-not-scale</td>\n",
       "      <td>elasticnet</td>\n",
       "      <td>none</td>\n",
       "      <td>drop-non-german</td>\n",
       "      <td>0.693095</td>\n",
       "      <td>0.909854</td>\n",
       "      <td>1.151566</td>\n",
       "    </tr>\n",
       "  </tbody>\n",
       "</table>\n",
       "</div>"
      ],
      "text/plain": [
       "                        universe_id universe_training_year  \\\n",
       "0  45d2a3d0e4ff7c68b762e4b2d2b70fa5                2012_14   \n",
       "\n",
       "  universe_training_size universe_scale universe_model  \\\n",
       "0                     5k   do-not-scale     elasticnet   \n",
       "\n",
       "  universe_exclude_features universe_exclude_subgroups     q_hat  coverage  \\\n",
       "0                      none            drop-non-german  0.693095  0.909854   \n",
       "\n",
       "   avg_size  \n",
       "0  1.151566  "
      ]
     },
     "execution_count": 61,
     "metadata": {},
     "output_type": "execute_result"
    }
   ],
   "source": [
    "cp_metrics_df"
   ]
  },
  {
   "cell_type": "code",
   "execution_count": 62,
   "id": "b7fbde55-a0a1-47e4-9af6-fe4a17fa8c61",
   "metadata": {
    "execution": {
     "iopub.execute_input": "2025-07-30T21:08:32.583808Z",
     "iopub.status.busy": "2025-07-30T21:08:32.582400Z",
     "iopub.status.idle": "2025-07-30T21:08:32.587861Z",
     "shell.execute_reply": "2025-07-30T21:08:32.587016Z"
    },
    "papermill": {
     "duration": 0.032284,
     "end_time": "2025-07-30T21:08:32.589382",
     "exception": false,
     "start_time": "2025-07-30T21:08:32.557098",
     "status": "completed"
    },
    "tags": []
   },
   "outputs": [],
   "source": [
    "# Conditional Coverage & looking at subgroups"
   ]
  },
  {
   "cell_type": "code",
   "execution_count": 63,
   "id": "027ae886-68dd-4141-96c7-805a5450e1ef",
   "metadata": {
    "execution": {
     "iopub.execute_input": "2025-07-30T21:08:32.639086Z",
     "iopub.status.busy": "2025-07-30T21:08:32.638441Z",
     "iopub.status.idle": "2025-07-30T21:08:32.900060Z",
     "shell.execute_reply": "2025-07-30T21:08:32.899112Z"
    },
    "papermill": {
     "duration": 0.288021,
     "end_time": "2025-07-30T21:08:32.901889",
     "exception": false,
     "start_time": "2025-07-30T21:08:32.613868",
     "status": "completed"
    },
    "tags": []
   },
   "outputs": [],
   "source": [
    "from fairness_multiverse.conformal import build_cp_groups\n",
    "\n",
    "cp_groups_df = build_cp_groups(pred_sets, y_true, X_test.index, org_test)\n",
    "#needs universe_id and setting"
   ]
  },
  {
   "cell_type": "code",
   "execution_count": 64,
   "id": "01d5802c-663a-4d1f-9d69-e036faaffbf7",
   "metadata": {
    "execution": {
     "iopub.execute_input": "2025-07-30T21:08:32.952741Z",
     "iopub.status.busy": "2025-07-30T21:08:32.952249Z",
     "iopub.status.idle": "2025-07-30T21:08:32.957379Z",
     "shell.execute_reply": "2025-07-30T21:08:32.956563Z"
    },
    "papermill": {
     "duration": 0.032215,
     "end_time": "2025-07-30T21:08:32.959118",
     "exception": false,
     "start_time": "2025-07-30T21:08:32.926903",
     "status": "completed"
    },
    "tags": []
   },
   "outputs": [],
   "source": [
    "#delete\n",
    "#cp_groups_df"
   ]
  },
  {
   "cell_type": "code",
   "execution_count": 65,
   "id": "fa424af1-d1eb-443d-b717-2d279ada8408",
   "metadata": {
    "execution": {
     "iopub.execute_input": "2025-07-30T21:08:33.010616Z",
     "iopub.status.busy": "2025-07-30T21:08:33.010151Z",
     "iopub.status.idle": "2025-07-30T21:08:33.015201Z",
     "shell.execute_reply": "2025-07-30T21:08:33.014362Z"
    },
    "papermill": {
     "duration": 0.032324,
     "end_time": "2025-07-30T21:08:33.016758",
     "exception": false,
     "start_time": "2025-07-30T21:08:32.984434",
     "status": "completed"
    },
    "tags": []
   },
   "outputs": [],
   "source": [
    "#delete\n",
    "#percentage = (cp_groups_df['nongerman_female'] == 1).mean() * 100\n",
    "#print(percentage)\n"
   ]
  },
  {
   "cell_type": "code",
   "execution_count": 66,
   "id": "6cbdab96-b2b2-45af-ad54-d0516db2e28d",
   "metadata": {
    "execution": {
     "iopub.execute_input": "2025-07-30T21:08:33.068352Z",
     "iopub.status.busy": "2025-07-30T21:08:33.067874Z",
     "iopub.status.idle": "2025-07-30T21:08:34.572073Z",
     "shell.execute_reply": "2025-07-30T21:08:34.571195Z"
    },
    "papermill": {
     "duration": 1.531701,
     "end_time": "2025-07-30T21:08:34.573868",
     "exception": false,
     "start_time": "2025-07-30T21:08:33.042167",
     "status": "completed"
    },
    "tags": []
   },
   "outputs": [],
   "source": [
    "# Define covered = 1 if true_label is in the predicted set\n",
    "cp_groups_df['covered'] = cp_groups_df.apply(\n",
    "    lambda r: int(r['true_label'] in r['pred_set']),\n",
    "    axis=1\n",
    ")"
   ]
  },
  {
   "cell_type": "code",
   "execution_count": 67,
   "id": "338ff529-1a6b-4b87-a931-8e4788d52aad",
   "metadata": {
    "execution": {
     "iopub.execute_input": "2025-07-30T21:08:34.625140Z",
     "iopub.status.busy": "2025-07-30T21:08:34.624503Z",
     "iopub.status.idle": "2025-07-30T21:08:34.629468Z",
     "shell.execute_reply": "2025-07-30T21:08:34.628645Z"
    },
    "papermill": {
     "duration": 0.032232,
     "end_time": "2025-07-30T21:08:34.631020",
     "exception": false,
     "start_time": "2025-07-30T21:08:34.598788",
     "status": "completed"
    },
    "tags": []
   },
   "outputs": [],
   "source": [
    "#cp_groups_df"
   ]
  },
  {
   "cell_type": "code",
   "execution_count": 68,
   "id": "90032e27-66df-4540-9169-4e89cfbaa758",
   "metadata": {
    "execution": {
     "iopub.execute_input": "2025-07-30T21:08:34.682782Z",
     "iopub.status.busy": "2025-07-30T21:08:34.682141Z",
     "iopub.status.idle": "2025-07-30T21:08:34.694376Z",
     "shell.execute_reply": "2025-07-30T21:08:34.693505Z"
    },
    "papermill": {
     "duration": 0.039438,
     "end_time": "2025-07-30T21:08:34.695984",
     "exception": false,
     "start_time": "2025-07-30T21:08:34.656546",
     "status": "completed"
    },
    "tags": []
   },
   "outputs": [],
   "source": [
    "subgroups = ['frau1','nongerman','nongerman_male','nongerman_female']\n",
    "\n",
    "# Conditional coverage for subgroup==1\n",
    "cond_coverage = {\n",
    "    g: cp_groups_df.loc[cp_groups_df[g]==1, 'covered'].mean()\n",
    "    for g in subgroups\n",
    "}"
   ]
  },
  {
   "cell_type": "code",
   "execution_count": 69,
   "id": "1e348fb1-b9c3-45bc-ba23-f016827a7e0d",
   "metadata": {
    "execution": {
     "iopub.execute_input": "2025-07-30T21:08:34.746535Z",
     "iopub.status.busy": "2025-07-30T21:08:34.745882Z",
     "iopub.status.idle": "2025-07-30T21:08:34.753154Z",
     "shell.execute_reply": "2025-07-30T21:08:34.752210Z"
    },
    "papermill": {
     "duration": 0.034085,
     "end_time": "2025-07-30T21:08:34.754713",
     "exception": false,
     "start_time": "2025-07-30T21:08:34.720628",
     "status": "completed"
    },
    "tags": []
   },
   "outputs": [
    {
     "data": {
      "text/plain": [
       "{'frau1': 0.9065372691737431,\n",
       " 'nongerman': 0.9107393476674339,\n",
       " 'nongerman_male': 0.9265964153832298,\n",
       " 'nongerman_female': 0.8845007451564829}"
      ]
     },
     "execution_count": 69,
     "metadata": {},
     "output_type": "execute_result"
    }
   ],
   "source": [
    "cond_coverage"
   ]
  },
  {
   "cell_type": "code",
   "execution_count": 70,
   "id": "f5093324-c3dd-4d63-bc4c-8d945e5c8bbb",
   "metadata": {
    "execution": {
     "iopub.execute_input": "2025-07-30T21:08:34.806695Z",
     "iopub.status.busy": "2025-07-30T21:08:34.806008Z",
     "iopub.status.idle": "2025-07-30T21:08:34.814636Z",
     "shell.execute_reply": "2025-07-30T21:08:34.813698Z"
    },
    "papermill": {
     "duration": 0.036228,
     "end_time": "2025-07-30T21:08:34.816442",
     "exception": false,
     "start_time": "2025-07-30T21:08:34.780214",
     "status": "completed"
    },
    "tags": []
   },
   "outputs": [],
   "source": [
    "for subgroup, cov in cond_coverage.items():\n",
    "    cp_metrics_df[f\"cov_{subgroup}\"] = cov"
   ]
  },
  {
   "cell_type": "code",
   "execution_count": 71,
   "id": "6e872e10-dbe5-49e8-b554-5030c98ff75d",
   "metadata": {
    "execution": {
     "iopub.execute_input": "2025-07-30T21:08:34.868547Z",
     "iopub.status.busy": "2025-07-30T21:08:34.867899Z",
     "iopub.status.idle": "2025-07-30T21:08:34.886087Z",
     "shell.execute_reply": "2025-07-30T21:08:34.885209Z"
    },
    "papermill": {
     "duration": 0.045872,
     "end_time": "2025-07-30T21:08:34.887710",
     "exception": false,
     "start_time": "2025-07-30T21:08:34.841838",
     "status": "completed"
    },
    "tags": []
   },
   "outputs": [
    {
     "data": {
      "text/html": [
       "<div>\n",
       "<style scoped>\n",
       "    .dataframe tbody tr th:only-of-type {\n",
       "        vertical-align: middle;\n",
       "    }\n",
       "\n",
       "    .dataframe tbody tr th {\n",
       "        vertical-align: top;\n",
       "    }\n",
       "\n",
       "    .dataframe thead th {\n",
       "        text-align: right;\n",
       "    }\n",
       "</style>\n",
       "<table border=\"1\" class=\"dataframe\">\n",
       "  <thead>\n",
       "    <tr style=\"text-align: right;\">\n",
       "      <th></th>\n",
       "      <th>universe_id</th>\n",
       "      <th>universe_training_year</th>\n",
       "      <th>universe_training_size</th>\n",
       "      <th>universe_scale</th>\n",
       "      <th>universe_model</th>\n",
       "      <th>universe_exclude_features</th>\n",
       "      <th>universe_exclude_subgroups</th>\n",
       "      <th>q_hat</th>\n",
       "      <th>coverage</th>\n",
       "      <th>avg_size</th>\n",
       "      <th>cov_frau1</th>\n",
       "      <th>cov_nongerman</th>\n",
       "      <th>cov_nongerman_male</th>\n",
       "      <th>cov_nongerman_female</th>\n",
       "    </tr>\n",
       "  </thead>\n",
       "  <tbody>\n",
       "    <tr>\n",
       "      <th>0</th>\n",
       "      <td>45d2a3d0e4ff7c68b762e4b2d2b70fa5</td>\n",
       "      <td>2012_14</td>\n",
       "      <td>5k</td>\n",
       "      <td>do-not-scale</td>\n",
       "      <td>elasticnet</td>\n",
       "      <td>none</td>\n",
       "      <td>drop-non-german</td>\n",
       "      <td>0.693095</td>\n",
       "      <td>0.909854</td>\n",
       "      <td>1.151566</td>\n",
       "      <td>0.906537</td>\n",
       "      <td>0.910739</td>\n",
       "      <td>0.926596</td>\n",
       "      <td>0.884501</td>\n",
       "    </tr>\n",
       "  </tbody>\n",
       "</table>\n",
       "</div>"
      ],
      "text/plain": [
       "                        universe_id universe_training_year  \\\n",
       "0  45d2a3d0e4ff7c68b762e4b2d2b70fa5                2012_14   \n",
       "\n",
       "  universe_training_size universe_scale universe_model  \\\n",
       "0                     5k   do-not-scale     elasticnet   \n",
       "\n",
       "  universe_exclude_features universe_exclude_subgroups     q_hat  coverage  \\\n",
       "0                      none            drop-non-german  0.693095  0.909854   \n",
       "\n",
       "   avg_size  cov_frau1  cov_nongerman  cov_nongerman_male  \\\n",
       "0  1.151566   0.906537       0.910739            0.926596   \n",
       "\n",
       "   cov_nongerman_female  \n",
       "0              0.884501  "
      ]
     },
     "execution_count": 71,
     "metadata": {},
     "output_type": "execute_result"
    }
   ],
   "source": [
    "cp_metrics_df"
   ]
  },
  {
   "cell_type": "markdown",
   "id": "33774451",
   "metadata": {
    "papermill": {
     "duration": 0.025201,
     "end_time": "2025-07-30T21:08:34.938772",
     "exception": false,
     "start_time": "2025-07-30T21:08:34.913571",
     "status": "completed"
    },
    "tags": []
   },
   "source": [
    "# (Fairness) Metrics"
   ]
  },
  {
   "cell_type": "code",
   "execution_count": 72,
   "id": "debc5d62",
   "metadata": {
    "execution": {
     "iopub.execute_input": "2025-07-30T21:08:34.990855Z",
     "iopub.status.busy": "2025-07-30T21:08:34.990218Z",
     "iopub.status.idle": "2025-07-30T21:08:35.014504Z",
     "shell.execute_reply": "2025-07-30T21:08:35.013585Z"
    },
    "papermill": {
     "duration": 0.052231,
     "end_time": "2025-07-30T21:08:35.016199",
     "exception": false,
     "start_time": "2025-07-30T21:08:34.963968",
     "status": "completed"
    },
    "tags": []
   },
   "outputs": [],
   "source": [
    "# do I need to include maxdeutsch1.missing?\n",
    "\n",
    "import numpy as np\n",
    "\n",
    "colname_to_bin = \"maxdeutsch1\"\n",
    "majority_value = org_train[colname_to_bin].mode()[0]\n",
    "\n",
    "org_test[\"majmin\"] = np.where(org_test[colname_to_bin] == majority_value, \"majority\", \"minority\")"
   ]
  },
  {
   "cell_type": "code",
   "execution_count": 73,
   "id": "06a50de5",
   "metadata": {
    "execution": {
     "iopub.execute_input": "2025-07-30T21:08:35.066467Z",
     "iopub.status.busy": "2025-07-30T21:08:35.066086Z",
     "iopub.status.idle": "2025-07-30T21:08:37.987181Z",
     "shell.execute_reply": "2025-07-30T21:08:37.986193Z"
    },
    "papermill": {
     "duration": 2.948096,
     "end_time": "2025-07-30T21:08:37.989140",
     "exception": false,
     "start_time": "2025-07-30T21:08:35.041044",
     "status": "completed"
    },
    "tags": []
   },
   "outputs": [],
   "source": [
    "example_universe = universe.copy()\n",
    "example_universe[\"cutoff\"] = example_universe[\"cutoff\"][0]\n",
    "example_universe[\"eval_fairness_grouping\"] = example_universe[\"eval_fairness_grouping\"][0]\n",
    "fairness_dict, metric_frame = universe_analysis.compute_metrics(\n",
    "    example_universe,\n",
    "    y_pred_prob=probs_test,\n",
    "    y_test=y_true,\n",
    "    org_test=org_test,\n",
    ")"
   ]
  },
  {
   "cell_type": "markdown",
   "id": "f95d4e02",
   "metadata": {
    "papermill": {
     "duration": 0.023739,
     "end_time": "2025-07-30T21:08:38.038203",
     "exception": false,
     "start_time": "2025-07-30T21:08:38.014464",
     "status": "completed"
    },
    "tags": []
   },
   "source": [
    "# Overall"
   ]
  },
  {
   "cell_type": "markdown",
   "id": "bdee4871",
   "metadata": {
    "papermill": {
     "duration": 0.023626,
     "end_time": "2025-07-30T21:08:38.085962",
     "exception": false,
     "start_time": "2025-07-30T21:08:38.062336",
     "status": "completed"
    },
    "tags": []
   },
   "source": [
    "Fairness\n",
    "Main fairness target: Equalized Odds. Seems to be a better fit than equal opportunity, since we're not only interested in Y = 1. Seems to be a better fit than demographic parity, since we also care about accuracy, not just equal distribution of preds.\n",
    "\n",
    "Pick column for computation of fairness metrics\n",
    "\n",
    "Performance\n",
    "Overall performance measures, most interesting in relation to the measures split by group below"
   ]
  },
  {
   "cell_type": "code",
   "execution_count": 74,
   "id": "c4e067c6",
   "metadata": {
    "execution": {
     "iopub.execute_input": "2025-07-30T21:08:38.135345Z",
     "iopub.status.busy": "2025-07-30T21:08:38.134760Z",
     "iopub.status.idle": "2025-07-30T21:08:38.143059Z",
     "shell.execute_reply": "2025-07-30T21:08:38.142170Z"
    },
    "papermill": {
     "duration": 0.034432,
     "end_time": "2025-07-30T21:08:38.144517",
     "exception": false,
     "start_time": "2025-07-30T21:08:38.110085",
     "status": "completed"
    },
    "tags": []
   },
   "outputs": [
    {
     "data": {
      "text/plain": [
       "accuracy                   0.219407\n",
       "balanced accuracy          0.537521\n",
       "f1                         0.240875\n",
       "precision                  0.137604\n",
       "false positive rate        0.890374\n",
       "false negative rate        0.034585\n",
       "selection rate             0.900000\n",
       "count                  89710.000000\n",
       "dtype: float64"
      ]
     },
     "execution_count": 74,
     "metadata": {},
     "output_type": "execute_result"
    }
   ],
   "source": [
    "metric_frame.overall"
   ]
  },
  {
   "cell_type": "markdown",
   "id": "e968fe9d",
   "metadata": {
    "papermill": {
     "duration": 0.02416,
     "end_time": "2025-07-30T21:08:38.193433",
     "exception": false,
     "start_time": "2025-07-30T21:08:38.169273",
     "status": "completed"
    },
    "tags": []
   },
   "source": [
    "By Group"
   ]
  },
  {
   "cell_type": "code",
   "execution_count": 75,
   "id": "ec325bce",
   "metadata": {
    "execution": {
     "iopub.execute_input": "2025-07-30T21:08:38.243575Z",
     "iopub.status.busy": "2025-07-30T21:08:38.242964Z",
     "iopub.status.idle": "2025-07-30T21:08:38.257885Z",
     "shell.execute_reply": "2025-07-30T21:08:38.257025Z"
    },
    "papermill": {
     "duration": 0.041754,
     "end_time": "2025-07-30T21:08:38.259481",
     "exception": false,
     "start_time": "2025-07-30T21:08:38.217727",
     "status": "completed"
    },
    "tags": []
   },
   "outputs": [
    {
     "data": {
      "text/html": [
       "<div>\n",
       "<style scoped>\n",
       "    .dataframe tbody tr th:only-of-type {\n",
       "        vertical-align: middle;\n",
       "    }\n",
       "\n",
       "    .dataframe tbody tr th {\n",
       "        vertical-align: top;\n",
       "    }\n",
       "\n",
       "    .dataframe thead th {\n",
       "        text-align: right;\n",
       "    }\n",
       "</style>\n",
       "<table border=\"1\" class=\"dataframe\">\n",
       "  <thead>\n",
       "    <tr style=\"text-align: right;\">\n",
       "      <th></th>\n",
       "      <th>accuracy</th>\n",
       "      <th>balanced accuracy</th>\n",
       "      <th>f1</th>\n",
       "      <th>precision</th>\n",
       "      <th>false positive rate</th>\n",
       "      <th>false negative rate</th>\n",
       "      <th>selection rate</th>\n",
       "      <th>count</th>\n",
       "    </tr>\n",
       "    <tr>\n",
       "      <th>majmin</th>\n",
       "      <th></th>\n",
       "      <th></th>\n",
       "      <th></th>\n",
       "      <th></th>\n",
       "      <th></th>\n",
       "      <th></th>\n",
       "      <th></th>\n",
       "      <th></th>\n",
       "    </tr>\n",
       "  </thead>\n",
       "  <tbody>\n",
       "    <tr>\n",
       "      <th>majority</th>\n",
       "      <td>0.241463</td>\n",
       "      <td>0.546522</td>\n",
       "      <td>0.250864</td>\n",
       "      <td>0.144258</td>\n",
       "      <td>0.868116</td>\n",
       "      <td>0.038840</td>\n",
       "      <td>0.880411</td>\n",
       "      <td>69170.0</td>\n",
       "    </tr>\n",
       "    <tr>\n",
       "      <th>minority</th>\n",
       "      <td>0.145131</td>\n",
       "      <td>0.508970</td>\n",
       "      <td>0.209375</td>\n",
       "      <td>0.117182</td>\n",
       "      <td>0.963901</td>\n",
       "      <td>0.018159</td>\n",
       "      <td>0.965969</td>\n",
       "      <td>20540.0</td>\n",
       "    </tr>\n",
       "  </tbody>\n",
       "</table>\n",
       "</div>"
      ],
      "text/plain": [
       "          accuracy  balanced accuracy        f1  precision  \\\n",
       "majmin                                                       \n",
       "majority  0.241463           0.546522  0.250864   0.144258   \n",
       "minority  0.145131           0.508970  0.209375   0.117182   \n",
       "\n",
       "          false positive rate  false negative rate  selection rate    count  \n",
       "majmin                                                                       \n",
       "majority             0.868116             0.038840        0.880411  69170.0  \n",
       "minority             0.963901             0.018159        0.965969  20540.0  "
      ]
     },
     "execution_count": 75,
     "metadata": {},
     "output_type": "execute_result"
    }
   ],
   "source": [
    "metric_frame.by_group"
   ]
  },
  {
   "cell_type": "code",
   "execution_count": 76,
   "id": "a9ddbe63",
   "metadata": {
    "execution": {
     "iopub.execute_input": "2025-07-30T21:08:38.313421Z",
     "iopub.status.busy": "2025-07-30T21:08:38.312782Z",
     "iopub.status.idle": "2025-07-30T21:08:40.531351Z",
     "shell.execute_reply": "2025-07-30T21:08:40.530525Z"
    },
    "papermill": {
     "duration": 2.247115,
     "end_time": "2025-07-30T21:08:40.532842",
     "exception": false,
     "start_time": "2025-07-30T21:08:38.285727",
     "status": "completed"
    },
    "tags": []
   },
   "outputs": [
    {
     "data": {
      "text/plain": [
       "array([[<Axes: title={'center': 'accuracy'}, xlabel='majmin'>,\n",
       "        <Axes: title={'center': 'balanced accuracy'}, xlabel='majmin'>,\n",
       "        <Axes: title={'center': 'f1'}, xlabel='majmin'>],\n",
       "       [<Axes: title={'center': 'precision'}, xlabel='majmin'>,\n",
       "        <Axes: title={'center': 'false positive rate'}, xlabel='majmin'>,\n",
       "        <Axes: title={'center': 'false negative rate'}, xlabel='majmin'>],\n",
       "       [<Axes: title={'center': 'selection rate'}, xlabel='majmin'>,\n",
       "        <Axes: title={'center': 'count'}, xlabel='majmin'>,\n",
       "        <Axes: xlabel='majmin'>]], dtype=object)"
      ]
     },
     "execution_count": 76,
     "metadata": {},
     "output_type": "execute_result"
    },
    {
     "data": {
      "image/png": "[encoded data removed]",
      "text/plain": [
       "<Figure size 1200x800 with 9 Axes>"
      ]
     },
     "metadata": {},
     "output_type": "display_data"
    }
   ],
   "source": [
    "# In a graphic\n",
    "metric_frame.by_group.plot.bar(\n",
    "    subplots=True,\n",
    "    layout=[3, 3],\n",
    "    legend=False,\n",
    "    figsize=[12, 8],\n",
    "    title=\"Show all metrics\",\n",
    ")"
   ]
  },
  {
   "cell_type": "markdown",
   "id": "f57a0bac",
   "metadata": {
    "papermill": {
     "duration": 0.025885,
     "end_time": "2025-07-30T21:08:40.585856",
     "exception": false,
     "start_time": "2025-07-30T21:08:40.559971",
     "status": "completed"
    },
    "tags": []
   },
   "source": [
    "# Final Output"
   ]
  },
  {
   "cell_type": "code",
   "execution_count": 77,
   "id": "96d280a3",
   "metadata": {
    "execution": {
     "iopub.execute_input": "2025-07-30T21:08:40.638896Z",
     "iopub.status.busy": "2025-07-30T21:08:40.638352Z",
     "iopub.status.idle": "2025-07-30T21:08:40.645454Z",
     "shell.execute_reply": "2025-07-30T21:08:40.644598Z"
    },
    "papermill": {
     "duration": 0.0354,
     "end_time": "2025-07-30T21:08:40.646901",
     "exception": false,
     "start_time": "2025-07-30T21:08:40.611501",
     "status": "completed"
    },
    "tags": []
   },
   "outputs": [
    {
     "data": {
      "text/plain": [
       "4"
      ]
     },
     "execution_count": 77,
     "metadata": {},
     "output_type": "execute_result"
    }
   ],
   "source": [
    "sub_universes = universe_analysis.generate_sub_universes()\n",
    "len(sub_universes)"
   ]
  },
  {
   "cell_type": "code",
   "execution_count": 78,
   "id": "92adf7ba",
   "metadata": {
    "execution": {
     "iopub.execute_input": "2025-07-30T21:08:40.701382Z",
     "iopub.status.busy": "2025-07-30T21:08:40.700824Z",
     "iopub.status.idle": "2025-07-30T21:08:40.706246Z",
     "shell.execute_reply": "2025-07-30T21:08:40.705394Z"
    },
    "papermill": {
     "duration": 0.034384,
     "end_time": "2025-07-30T21:08:40.707780",
     "exception": false,
     "start_time": "2025-07-30T21:08:40.673396",
     "status": "completed"
    },
    "tags": []
   },
   "outputs": [],
   "source": [
    "def filter_sub_universe_data(sub_universe, org_test):\n",
    "    # Keep all rows — no filtering\n",
    "    keep_rows_mask = np.ones(org_test.shape[0], dtype=bool)\n",
    "\n",
    "    print(f\"[INFO] Keeping all rows: {keep_rows_mask.sum()} rows retained.\")\n",
    "    return keep_rows_mask"
   ]
  },
  {
   "cell_type": "code",
   "execution_count": 79,
   "id": "4a759155",
   "metadata": {
    "execution": {
     "iopub.execute_input": "2025-07-30T21:08:40.762569Z",
     "iopub.status.busy": "2025-07-30T21:08:40.761854Z",
     "iopub.status.idle": "2025-07-30T21:08:50.945411Z",
     "shell.execute_reply": "2025-07-30T21:08:50.944694Z"
    },
    "papermill": {
     "duration": 10.21223,
     "end_time": "2025-07-30T21:08:50.947240",
     "exception": false,
     "start_time": "2025-07-30T21:08:40.735010",
     "status": "completed"
    },
    "tags": []
   },
   "outputs": [
    {
     "name": "stdout",
     "output_type": "stream",
     "text": [
      "Stopping execution_time clock.\n",
      "[INFO] Keeping all rows: 89710 rows retained.\n"
     ]
    },
    {
     "name": "stdout",
     "output_type": "stream",
     "text": [
      "[INFO] Keeping all rows: 89710 rows retained.\n"
     ]
    },
    {
     "name": "stdout",
     "output_type": "stream",
     "text": [
      "[INFO] Keeping all rows: 89710 rows retained.\n"
     ]
    },
    {
     "name": "stdout",
     "output_type": "stream",
     "text": [
      "[INFO] Keeping all rows: 89710 rows retained.\n"
     ]
    },
    {
     "data": {
      "text/html": [
       "<div>\n",
       "<style scoped>\n",
       "    .dataframe tbody tr th:only-of-type {\n",
       "        vertical-align: middle;\n",
       "    }\n",
       "\n",
       "    .dataframe tbody tr th {\n",
       "        vertical-align: top;\n",
       "    }\n",
       "\n",
       "    .dataframe thead th {\n",
       "        text-align: right;\n",
       "    }\n",
       "</style>\n",
       "<table border=\"1\" class=\"dataframe\">\n",
       "  <thead>\n",
       "    <tr style=\"text-align: right;\">\n",
       "      <th></th>\n",
       "      <th>run_no</th>\n",
       "      <th>universe_id</th>\n",
       "      <th>universe_settings</th>\n",
       "      <th>execution_time</th>\n",
       "      <th>test_size_n</th>\n",
       "      <th>test_size_frac</th>\n",
       "      <th>fair_main_equalized_odds_difference</th>\n",
       "      <th>fair_main_equalized_odds_ratio</th>\n",
       "      <th>fair_main_demographic_parity_difference</th>\n",
       "      <th>fair_main_demographic_parity_ratio</th>\n",
       "      <th>...</th>\n",
       "      <th>perf_grp_precision_0</th>\n",
       "      <th>perf_grp_precision_1</th>\n",
       "      <th>perf_grp_false positive rate_0</th>\n",
       "      <th>perf_grp_false positive rate_1</th>\n",
       "      <th>perf_grp_false negative rate_0</th>\n",
       "      <th>perf_grp_false negative rate_1</th>\n",
       "      <th>perf_grp_selection rate_0</th>\n",
       "      <th>perf_grp_selection rate_1</th>\n",
       "      <th>perf_grp_count_0</th>\n",
       "      <th>perf_grp_count_1</th>\n",
       "    </tr>\n",
       "  </thead>\n",
       "  <tbody>\n",
       "    <tr>\n",
       "      <th>0</th>\n",
       "      <td>14</td>\n",
       "      <td>45d2a3d0e4ff7c68b762e4b2d2b70fa5</td>\n",
       "      <td>{\"cutoff\": \"quantile_0.1\", \"eval_fairness_grou...</td>\n",
       "      <td>103.184741</td>\n",
       "      <td>89710</td>\n",
       "      <td>1.0</td>\n",
       "      <td>0.095785</td>\n",
       "      <td>0.900628</td>\n",
       "      <td>0.085558</td>\n",
       "      <td>0.911428</td>\n",
       "      <td>...</td>\n",
       "      <td>NaN</td>\n",
       "      <td>NaN</td>\n",
       "      <td>NaN</td>\n",
       "      <td>NaN</td>\n",
       "      <td>NaN</td>\n",
       "      <td>NaN</td>\n",
       "      <td>NaN</td>\n",
       "      <td>NaN</td>\n",
       "      <td>NaN</td>\n",
       "      <td>NaN</td>\n",
       "    </tr>\n",
       "    <tr>\n",
       "      <th>0</th>\n",
       "      <td>14</td>\n",
       "      <td>45d2a3d0e4ff7c68b762e4b2d2b70fa5</td>\n",
       "      <td>{\"cutoff\": \"quantile_0.1\", \"eval_fairness_grou...</td>\n",
       "      <td>103.184741</td>\n",
       "      <td>89710</td>\n",
       "      <td>1.0</td>\n",
       "      <td>0.095785</td>\n",
       "      <td>0.900628</td>\n",
       "      <td>0.085558</td>\n",
       "      <td>0.911428</td>\n",
       "      <td>...</td>\n",
       "      <td>0.117182</td>\n",
       "      <td>0.144258</td>\n",
       "      <td>0.963901</td>\n",
       "      <td>0.868116</td>\n",
       "      <td>0.018159</td>\n",
       "      <td>0.038840</td>\n",
       "      <td>0.965969</td>\n",
       "      <td>0.880411</td>\n",
       "      <td>20540.0</td>\n",
       "      <td>69170.0</td>\n",
       "    </tr>\n",
       "    <tr>\n",
       "      <th>0</th>\n",
       "      <td>14</td>\n",
       "      <td>45d2a3d0e4ff7c68b762e4b2d2b70fa5</td>\n",
       "      <td>{\"cutoff\": \"quantile_0.25\", \"eval_fairness_gro...</td>\n",
       "      <td>103.184741</td>\n",
       "      <td>89710</td>\n",
       "      <td>1.0</td>\n",
       "      <td>0.218514</td>\n",
       "      <td>0.756166</td>\n",
       "      <td>0.197454</td>\n",
       "      <td>0.781151</td>\n",
       "      <td>...</td>\n",
       "      <td>NaN</td>\n",
       "      <td>NaN</td>\n",
       "      <td>NaN</td>\n",
       "      <td>NaN</td>\n",
       "      <td>NaN</td>\n",
       "      <td>NaN</td>\n",
       "      <td>NaN</td>\n",
       "      <td>NaN</td>\n",
       "      <td>NaN</td>\n",
       "      <td>NaN</td>\n",
       "    </tr>\n",
       "    <tr>\n",
       "      <th>0</th>\n",
       "      <td>14</td>\n",
       "      <td>45d2a3d0e4ff7c68b762e4b2d2b70fa5</td>\n",
       "      <td>{\"cutoff\": \"quantile_0.25\", \"eval_fairness_gro...</td>\n",
       "      <td>103.184741</td>\n",
       "      <td>89710</td>\n",
       "      <td>1.0</td>\n",
       "      <td>0.218514</td>\n",
       "      <td>0.756166</td>\n",
       "      <td>0.197454</td>\n",
       "      <td>0.781151</td>\n",
       "      <td>...</td>\n",
       "      <td>0.121250</td>\n",
       "      <td>0.165559</td>\n",
       "      <td>0.896159</td>\n",
       "      <td>0.677645</td>\n",
       "      <td>0.051098</td>\n",
       "      <td>0.116958</td>\n",
       "      <td>0.902240</td>\n",
       "      <td>0.704785</td>\n",
       "      <td>20540.0</td>\n",
       "      <td>69170.0</td>\n",
       "    </tr>\n",
       "  </tbody>\n",
       "</table>\n",
       "<p>4 rows × 50 columns</p>\n",
       "</div>"
      ],
      "text/plain": [
       "  run_no                       universe_id  \\\n",
       "0     14  45d2a3d0e4ff7c68b762e4b2d2b70fa5   \n",
       "0     14  45d2a3d0e4ff7c68b762e4b2d2b70fa5   \n",
       "0     14  45d2a3d0e4ff7c68b762e4b2d2b70fa5   \n",
       "0     14  45d2a3d0e4ff7c68b762e4b2d2b70fa5   \n",
       "\n",
       "                                   universe_settings  execution_time  \\\n",
       "0  {\"cutoff\": \"quantile_0.1\", \"eval_fairness_grou...      103.184741   \n",
       "0  {\"cutoff\": \"quantile_0.1\", \"eval_fairness_grou...      103.184741   \n",
       "0  {\"cutoff\": \"quantile_0.25\", \"eval_fairness_gro...      103.184741   \n",
       "0  {\"cutoff\": \"quantile_0.25\", \"eval_fairness_gro...      103.184741   \n",
       "\n",
       "   test_size_n  test_size_frac  fair_main_equalized_odds_difference  \\\n",
       "0        89710             1.0                             0.095785   \n",
       "0        89710             1.0                             0.095785   \n",
       "0        89710             1.0                             0.218514   \n",
       "0        89710             1.0                             0.218514   \n",
       "\n",
       "   fair_main_equalized_odds_ratio  fair_main_demographic_parity_difference  \\\n",
       "0                        0.900628                                 0.085558   \n",
       "0                        0.900628                                 0.085558   \n",
       "0                        0.756166                                 0.197454   \n",
       "0                        0.756166                                 0.197454   \n",
       "\n",
       "   fair_main_demographic_parity_ratio  ...  perf_grp_precision_0  \\\n",
       "0                            0.911428  ...                   NaN   \n",
       "0                            0.911428  ...              0.117182   \n",
       "0                            0.781151  ...                   NaN   \n",
       "0                            0.781151  ...              0.121250   \n",
       "\n",
       "   perf_grp_precision_1  perf_grp_false positive rate_0  \\\n",
       "0                   NaN                             NaN   \n",
       "0              0.144258                        0.963901   \n",
       "0                   NaN                             NaN   \n",
       "0              0.165559                        0.896159   \n",
       "\n",
       "   perf_grp_false positive rate_1  perf_grp_false negative rate_0  \\\n",
       "0                             NaN                             NaN   \n",
       "0                        0.868116                        0.018159   \n",
       "0                             NaN                             NaN   \n",
       "0                        0.677645                        0.051098   \n",
       "\n",
       "   perf_grp_false negative rate_1  perf_grp_selection rate_0  \\\n",
       "0                             NaN                        NaN   \n",
       "0                        0.038840                   0.965969   \n",
       "0                             NaN                        NaN   \n",
       "0                        0.116958                   0.902240   \n",
       "\n",
       "   perf_grp_selection rate_1  perf_grp_count_0  perf_grp_count_1  \n",
       "0                        NaN               NaN               NaN  \n",
       "0                   0.880411           20540.0           69170.0  \n",
       "0                        NaN               NaN               NaN  \n",
       "0                   0.704785           20540.0           69170.0  \n",
       "\n",
       "[4 rows x 50 columns]"
      ]
     },
     "execution_count": 79,
     "metadata": {},
     "output_type": "execute_result"
    }
   ],
   "source": [
    "final_output = universe_analysis.generate_final_output(\n",
    "    y_pred_prob=probs_test,\n",
    "    y_test=y_true,\n",
    "    org_test=org_test,\n",
    "    filter_data=filter_sub_universe_data,\n",
    "    cp_metrics_df=cp_metrics_df,\n",
    "    save=True,\n",
    ")\n",
    "final_output"
   ]
  },
  {
   "cell_type": "code",
   "execution_count": null,
   "id": "721ff514-cb11-46f8-b6fc-50392f74b5cb",
   "metadata": {
    "papermill": {
     "duration": 0.035822,
     "end_time": "2025-07-30T21:08:51.032934",
     "exception": false,
     "start_time": "2025-07-30T21:08:50.997112",
     "status": "completed"
    },
    "tags": []
   },
   "outputs": [],
   "source": []
  }
 ],
 "metadata": {
  "celltoolbar": "Tags",
  "kernelspec": {
   "display_name": "Python (CMA Fairness)",
   "language": "python",
   "name": "cma_fair_env"
  },
  "language_info": {
   "codemirror_mode": {
    "name": "ipython",
    "version": 3
   },
   "file_extension": ".py",
   "mimetype": "text/x-python",
   "name": "python",
   "nbconvert_exporter": "python",
   "pygments_lexer": "ipython3",
   "version": "3.10.12"
  },
  "papermill": {
   "default_parameters": {},
   "duration": 117.576533,
   "end_time": "2025-07-30T21:08:51.792799",
   "environment_variables": {},
   "exception": null,
   "input_path": "universe_analysis.ipynb",
   "output_path": "output/runs/14/notebooks/m_14-45d2a3d0e4ff7c68b762e4b2d2b70fa5.ipynb",
   "parameters": {
    "output_dir": "output",
    "run_no": "14",
    "seed": "2023",
    "universe": "{\"cutoff\": [\"quantile_0.1\", \"quantile_0.25\"], \"eval_fairness_grouping\": [\"majority-minority\", \"nationality-all\"], \"exclude_features\": \"none\", \"exclude_subgroups\": \"drop-non-german\", \"model\": \"elasticnet\", \"scale\": \"do-not-scale\", \"training_size\": \"5k\", \"training_year\": \"2012_14\"}",
    "universe_id": "45d2a3d0e4ff7c68b762e4b2d2b70fa5"
   },
   "start_time": "2025-07-30T21:06:54.216266",
   "version": "2.6.0"
  }
 },
 "nbformat": 4,
 "nbformat_minor": 5
}