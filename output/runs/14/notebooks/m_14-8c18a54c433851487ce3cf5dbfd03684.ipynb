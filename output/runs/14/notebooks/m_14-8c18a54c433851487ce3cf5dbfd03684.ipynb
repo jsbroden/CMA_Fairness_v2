{
 "cells": [
  {
   "cell_type": "code",
   "execution_count": 1,
   "id": "f159f837-637b-42ba-96b5-ec9a68c44524",
   "metadata": {
    "execution": {
     "iopub.execute_input": "2025-07-30T21:36:54.093840Z",
     "iopub.status.busy": "2025-07-30T21:36:54.092965Z",
     "iopub.status.idle": "2025-07-30T21:36:54.106321Z",
     "shell.execute_reply": "2025-07-30T21:36:54.105168Z"
    },
    "papermill": {
     "duration": 0.035606,
     "end_time": "2025-07-30T21:36:54.108007",
     "exception": false,
     "start_time": "2025-07-30T21:36:54.072401",
     "status": "completed"
    },
    "tags": []
   },
   "outputs": [
    {
     "name": "stdout",
     "output_type": "stream",
     "text": [
      "/dss/dsshome1/0C/ra93lal2/cma/CMA_Fairness_v2\n"
     ]
    },
    {
     "name": "stderr",
     "output_type": "stream",
     "text": [
      "/dss/dsshome1/0C/ra93lal2/.local/share/virtualenvs/CMA_Fairness_v2-3j10GkSs/lib/python3.10/site-packages/IPython/core/magics/osm.py:393: UserWarning: This is now an optional IPython functionality, using bookmarks requires you to install the `pickleshare` library.\n",
      "  bkms = self.shell.db.get('bookmarks', {})\n",
      "/dss/dsshome1/0C/ra93lal2/.local/share/virtualenvs/CMA_Fairness_v2-3j10GkSs/lib/python3.10/site-packages/IPython/core/magics/osm.py:417: UserWarning: This is now an optional IPython functionality, setting dhist requires you to install the `pickleshare` library.\n",
      "  self.shell.db['dhist'] = compress_dhist(dhist)[-100:]\n"
     ]
    }
   ],
   "source": [
    "%cd ~/cma/CMA_Fairness_v2"
   ]
  },
  {
   "cell_type": "markdown",
   "id": "de2603b9",
   "metadata": {
    "papermill": {
     "duration": 0.019886,
     "end_time": "2025-07-30T21:36:54.148393",
     "exception": false,
     "start_time": "2025-07-30T21:36:54.128507",
     "status": "completed"
    },
    "tags": []
   },
   "source": [
    "The following cell holds the definition of our parameters, these values can be overriden by rendering the with e.g. the following command:\n",
    "\n",
    "papermill -p alpha 0.2 -p ratio 0.3 universe_analysis.ipynb output/test_run.ipynb"
   ]
  },
  {
   "cell_type": "code",
   "execution_count": 2,
   "id": "a80968a0-40bb-4fa9-85ef-2d5eefb01975",
   "metadata": {
    "execution": {
     "iopub.execute_input": "2025-07-30T21:36:54.191754Z",
     "iopub.status.busy": "2025-07-30T21:36:54.191019Z",
     "iopub.status.idle": "2025-07-30T21:36:54.196952Z",
     "shell.execute_reply": "2025-07-30T21:36:54.195872Z"
    },
    "papermill": {
     "duration": 0.029624,
     "end_time": "2025-07-30T21:36:54.198795",
     "exception": false,
     "start_time": "2025-07-30T21:36:54.169171",
     "status": "completed"
    },
    "tags": []
   },
   "outputs": [
    {
     "name": "stdout",
     "output_type": "stream",
     "text": [
      "Current working directory: /dss/dsshome1/0C/ra93lal2/cma/CMA_Fairness_v2\n"
     ]
    }
   ],
   "source": [
    "import os\n",
    "print(\"Current working directory:\", os.getcwd())"
   ]
  },
  {
   "cell_type": "code",
   "execution_count": 3,
   "id": "2dce4c03",
   "metadata": {
    "execution": {
     "iopub.execute_input": "2025-07-30T21:36:54.241714Z",
     "iopub.status.busy": "2025-07-30T21:36:54.241072Z",
     "iopub.status.idle": "2025-07-30T21:36:54.247400Z",
     "shell.execute_reply": "2025-07-30T21:36:54.246411Z"
    },
    "papermill": {
     "duration": 0.029638,
     "end_time": "2025-07-30T21:36:54.249082",
     "exception": false,
     "start_time": "2025-07-30T21:36:54.219444",
     "status": "completed"
    },
    "tags": [
     "parameters"
    ]
   },
   "outputs": [],
   "source": [
    "run_no = 0\n",
    "universe_id = \"test\"\n",
    "universe = {\n",
    "    \"training_size\": \"25k\", # \"25k\", \"5k\", \"1k\"\n",
    "    \"training_year\": \"2014\", # \"2014\", \"2012_14\", \"2010_14\"\n",
    "    \"scale\": \"scale\", # \"scale\", \"do-not-scale\",\n",
    "    #\"stratify_split\": \"target\", # \"none\", \"target\", \"protected-attribute\", \"both\",\n",
    "    \"model\": \"elasticnet\", # \"logreg\", \"penalized_logreg\", \"rf\", \"gbm\", \"elasticnet\"\n",
    "    \"cutoff\": [\"quantile_0.15\", \"quantile_0.30\"],\n",
    "    \"exclude_features\": \"age\", # \"none\", \"nationality\", \"sex\", \"nationality-sex\", \"age\"\n",
    "    \"exclude_subgroups\": \"keep-all\", # \"keep-all\", \"drop-non-german\"\n",
    "    \"eval_fairness_grouping\": [\"majority-minority\", \"nationality-all\"]\n",
    "}\n",
    "\n",
    "output_dir=\"./output\"\n",
    "seed=0"
   ]
  },
  {
   "cell_type": "code",
   "execution_count": 4,
   "id": "2f1744e1",
   "metadata": {
    "execution": {
     "iopub.execute_input": "2025-07-30T21:36:54.292270Z",
     "iopub.status.busy": "2025-07-30T21:36:54.291630Z",
     "iopub.status.idle": "2025-07-30T21:36:54.296961Z",
     "shell.execute_reply": "2025-07-30T21:36:54.296019Z"
    },
    "papermill": {
     "duration": 0.028695,
     "end_time": "2025-07-30T21:36:54.298653",
     "exception": false,
     "start_time": "2025-07-30T21:36:54.269958",
     "status": "completed"
    },
    "tags": [
     "injected-parameters"
    ]
   },
   "outputs": [],
   "source": [
    "# Parameters\n",
    "universe_id = \"8c18a54c433851487ce3cf5dbfd03684\"\n",
    "run_no = \"14\"\n",
    "universe = \"{\\\"cutoff\\\": [\\\"quantile_0.1\\\", \\\"quantile_0.25\\\"], \\\"eval_fairness_grouping\\\": [\\\"majority-minority\\\", \\\"nationality-all\\\"], \\\"exclude_features\\\": \\\"none\\\", \\\"exclude_subgroups\\\": \\\"drop-non-german\\\", \\\"model\\\": \\\"elasticnet\\\", \\\"scale\\\": \\\"scale\\\", \\\"training_size\\\": \\\"1k\\\", \\\"training_year\\\": \\\"2012_14\\\"}\"\n",
    "output_dir = \"output\"\n",
    "seed = \"2023\"\n"
   ]
  },
  {
   "cell_type": "code",
   "execution_count": 5,
   "id": "1650acaf",
   "metadata": {
    "execution": {
     "iopub.execute_input": "2025-07-30T21:36:54.354291Z",
     "iopub.status.busy": "2025-07-30T21:36:54.353850Z",
     "iopub.status.idle": "2025-07-30T21:36:54.358849Z",
     "shell.execute_reply": "2025-07-30T21:36:54.357991Z"
    },
    "papermill": {
     "duration": 0.040684,
     "end_time": "2025-07-30T21:36:54.360539",
     "exception": false,
     "start_time": "2025-07-30T21:36:54.319855",
     "status": "completed"
    },
    "tags": []
   },
   "outputs": [],
   "source": [
    "import json\n",
    "# Parse universe into dict if it is passed as a string\n",
    "if isinstance(universe, str):\n",
    "    universe = json.loads(universe)"
   ]
  },
  {
   "cell_type": "code",
   "execution_count": 6,
   "id": "16620c48",
   "metadata": {
    "execution": {
     "iopub.execute_input": "2025-07-30T21:36:54.404504Z",
     "iopub.status.busy": "2025-07-30T21:36:54.403522Z",
     "iopub.status.idle": "2025-07-30T21:36:54.452479Z",
     "shell.execute_reply": "2025-07-30T21:36:54.451457Z"
    },
    "papermill": {
     "duration": 0.073259,
     "end_time": "2025-07-30T21:36:54.454366",
     "exception": false,
     "start_time": "2025-07-30T21:36:54.381107",
     "status": "completed"
    },
    "tags": []
   },
   "outputs": [],
   "source": [
    "# Auto-reload the custom package\n",
    "%load_ext autoreload\n",
    "%autoreload 1\n",
    "%aimport fairness_multiverse"
   ]
  },
  {
   "cell_type": "code",
   "execution_count": 7,
   "id": "01c5c9f3",
   "metadata": {
    "execution": {
     "iopub.execute_input": "2025-07-30T21:36:54.497613Z",
     "iopub.status.busy": "2025-07-30T21:36:54.496977Z",
     "iopub.status.idle": "2025-07-30T21:36:56.363558Z",
     "shell.execute_reply": "2025-07-30T21:36:56.362793Z"
    },
    "papermill": {
     "duration": 1.889447,
     "end_time": "2025-07-30T21:36:56.365090",
     "exception": false,
     "start_time": "2025-07-30T21:36:54.475643",
     "status": "completed"
    },
    "tags": []
   },
   "outputs": [],
   "source": [
    "from fairness_multiverse.universe import UniverseAnalysis\n",
    "\n",
    "universe_analysis = UniverseAnalysis(\n",
    "    run_no = run_no,\n",
    "    universe_id = universe_id,\n",
    "    universe = universe,\n",
    "    output_dir=output_dir,\n",
    ")"
   ]
  },
  {
   "cell_type": "code",
   "execution_count": 8,
   "id": "106241f5",
   "metadata": {
    "execution": {
     "iopub.execute_input": "2025-07-30T21:36:56.387765Z",
     "iopub.status.busy": "2025-07-30T21:36:56.387189Z",
     "iopub.status.idle": "2025-07-30T21:36:56.392916Z",
     "shell.execute_reply": "2025-07-30T21:36:56.392081Z"
    },
    "papermill": {
     "duration": 0.018438,
     "end_time": "2025-07-30T21:36:56.394217",
     "exception": false,
     "start_time": "2025-07-30T21:36:56.375779",
     "status": "completed"
    },
    "tags": []
   },
   "outputs": [
    {
     "name": "stdout",
     "output_type": "stream",
     "text": [
      "Using Seed: 2023\n"
     ]
    }
   ],
   "source": [
    "import numpy as np\n",
    "parsed_seed = int(seed)\n",
    "np.random.seed(parsed_seed)\n",
    "print(f\"Using Seed: {parsed_seed}\")"
   ]
  },
  {
   "cell_type": "markdown",
   "id": "e0ebdc57",
   "metadata": {
    "papermill": {
     "duration": 0.010366,
     "end_time": "2025-07-30T21:36:56.415818",
     "exception": false,
     "start_time": "2025-07-30T21:36:56.405452",
     "status": "completed"
    },
    "tags": []
   },
   "source": [
    "# Loading Data"
   ]
  },
  {
   "cell_type": "markdown",
   "id": "681925a3",
   "metadata": {
    "papermill": {
     "duration": 0.010507,
     "end_time": "2025-07-30T21:36:56.436827",
     "exception": false,
     "start_time": "2025-07-30T21:36:56.426320",
     "status": "completed"
    },
    "tags": []
   },
   "source": [
    "Load siab_train, siab_test, siab_calib and/or \n",
    "load siab_train_features, siab_train_labels"
   ]
  },
  {
   "cell_type": "code",
   "execution_count": 9,
   "id": "f0496b8a",
   "metadata": {
    "execution": {
     "iopub.execute_input": "2025-07-30T21:36:56.459430Z",
     "iopub.status.busy": "2025-07-30T21:36:56.458930Z",
     "iopub.status.idle": "2025-07-30T21:37:08.092061Z",
     "shell.execute_reply": "2025-07-30T21:37:08.090718Z"
    },
    "papermill": {
     "duration": 11.646607,
     "end_time": "2025-07-30T21:37:08.093971",
     "exception": false,
     "start_time": "2025-07-30T21:36:56.447364",
     "status": "completed"
    },
    "tags": []
   },
   "outputs": [
    {
     "name": "stdout",
     "output_type": "stream",
     "text": [
      "Loading SIAB data from cache: data/siab_cached.csv.gz\n"
     ]
    },
    {
     "name": "stdout",
     "output_type": "stream",
     "text": [
      "(643690, 164)\n"
     ]
    }
   ],
   "source": [
    "from pathlib import Path\n",
    "import pandas as pd\n",
    "\n",
    "# File paths\n",
    "raw_file = Path(\"data/raw/siab.csv\")\n",
    "cache_file = Path(\"data/siab_cached.csv.gz\")\n",
    "\n",
    "# Ensure cache directory exists\n",
    "cache_file.parent.mkdir(parents=True, exist_ok=True)\n",
    "\n",
    "# Load with simple caching\n",
    "if cache_file.exists():\n",
    "    print(f\"Loading SIAB data from cache: {cache_file}\")\n",
    "    siab = pd.read_csv(cache_file, compression='gzip')\n",
    "else:\n",
    "    print(f\"Cache not found. Reading raw SIAB data: {raw_file}\")\n",
    "    siab = pd.read_csv(raw_file)\n",
    "    siab.to_csv(cache_file, index=False, compression='gzip')\n",
    "    print(f\"Cached SIAB data to: {cache_file}\")\n",
    "\n",
    "# Now use `siab` DataFrame as needed\n",
    "print(siab.shape)"
   ]
  },
  {
   "cell_type": "code",
   "execution_count": 10,
   "id": "db0ca512-5f53-4dba-abdb-a2888bca41ba",
   "metadata": {
    "execution": {
     "iopub.execute_input": "2025-07-30T21:37:08.141649Z",
     "iopub.status.busy": "2025-07-30T21:37:08.140924Z",
     "iopub.status.idle": "2025-07-30T21:37:08.146551Z",
     "shell.execute_reply": "2025-07-30T21:37:08.145637Z"
    },
    "papermill": {
     "duration": 0.02988,
     "end_time": "2025-07-30T21:37:08.148113",
     "exception": false,
     "start_time": "2025-07-30T21:37:08.118233",
     "status": "completed"
    },
    "tags": []
   },
   "outputs": [],
   "source": [
    "#siab"
   ]
  },
  {
   "cell_type": "code",
   "execution_count": 11,
   "id": "a0edb063",
   "metadata": {
    "execution": {
     "iopub.execute_input": "2025-07-30T21:37:08.193405Z",
     "iopub.status.busy": "2025-07-30T21:37:08.192701Z",
     "iopub.status.idle": "2025-07-30T21:37:08.197619Z",
     "shell.execute_reply": "2025-07-30T21:37:08.196669Z"
    },
    "papermill": {
     "duration": 0.029443,
     "end_time": "2025-07-30T21:37:08.199419",
     "exception": false,
     "start_time": "2025-07-30T21:37:08.169976",
     "status": "completed"
    },
    "tags": []
   },
   "outputs": [],
   "source": [
    "#import pandas as pd\n",
    "#\n",
    "#X_train = pd.read_csv(\"./data/X_train.csv\")\n",
    "#y_train = pd.read_csv(\"./data/y_train.csv\")"
   ]
  },
  {
   "cell_type": "code",
   "execution_count": 12,
   "id": "63d08085",
   "metadata": {
    "execution": {
     "iopub.execute_input": "2025-07-30T21:37:08.240115Z",
     "iopub.status.busy": "2025-07-30T21:37:08.239478Z",
     "iopub.status.idle": "2025-07-30T21:37:08.244822Z",
     "shell.execute_reply": "2025-07-30T21:37:08.243664Z"
    },
    "papermill": {
     "duration": 0.024554,
     "end_time": "2025-07-30T21:37:08.246581",
     "exception": false,
     "start_time": "2025-07-30T21:37:08.222027",
     "status": "completed"
    },
    "tags": []
   },
   "outputs": [],
   "source": [
    "#X_test = pd.read_csv(\"./data/X_test.csv\")\n",
    "#y_true = pd.read_csv(\"./data/y_test.csv\")"
   ]
  },
  {
   "cell_type": "code",
   "execution_count": 13,
   "id": "98a8d0fa-1d3d-4ed8-bb2c-281470e24add",
   "metadata": {
    "execution": {
     "iopub.execute_input": "2025-07-30T21:37:08.292681Z",
     "iopub.status.busy": "2025-07-30T21:37:08.292339Z",
     "iopub.status.idle": "2025-07-30T21:37:08.296850Z",
     "shell.execute_reply": "2025-07-30T21:37:08.295763Z"
    },
    "papermill": {
     "duration": 0.02994,
     "end_time": "2025-07-30T21:37:08.298357",
     "exception": false,
     "start_time": "2025-07-30T21:37:08.268417",
     "status": "completed"
    },
    "tags": []
   },
   "outputs": [],
   "source": [
    "# Calibration data for conformal\n",
    "#X_calib = pd.read_csv(\"./data/X_calib.csv\")\n",
    "#y_calib = pd.read_csv(\"./data/y_calib.csv\")"
   ]
  },
  {
   "cell_type": "markdown",
   "id": "997051c5-15bd-4b69-9786-c3001a3ce484",
   "metadata": {
    "papermill": {
     "duration": 0.020769,
     "end_time": "2025-07-30T21:37:08.340485",
     "exception": false,
     "start_time": "2025-07-30T21:37:08.319716",
     "status": "completed"
    },
    "tags": []
   },
   "source": [
    "# Splitting Data and Setting Training Data Size"
   ]
  },
  {
   "cell_type": "code",
   "execution_count": 14,
   "id": "e993b61f-042d-41a6-8c81-f55681f86335",
   "metadata": {
    "execution": {
     "iopub.execute_input": "2025-07-30T21:37:08.383522Z",
     "iopub.status.busy": "2025-07-30T21:37:08.382753Z",
     "iopub.status.idle": "2025-07-30T21:37:08.395800Z",
     "shell.execute_reply": "2025-07-30T21:37:08.394892Z"
    },
    "papermill": {
     "duration": 0.036349,
     "end_time": "2025-07-30T21:37:08.397363",
     "exception": false,
     "start_time": "2025-07-30T21:37:08.361014",
     "status": "completed"
    },
    "tags": []
   },
   "outputs": [],
   "source": [
    "def sample_by_year_size(df,\n",
    "                        training_year: str,\n",
    "                        training_size: str,\n",
    "                        random_state: int = 42):\n",
    "    # --- parse training_year into a list of int years ---\n",
    "    if \"_\" in training_year:\n",
    "        start_str, end_str = training_year.split(\"_\", 1)\n",
    "        start = int(start_str)\n",
    "        end   = int(end_str) if len(end_str) == 4 else (int(end_str) + (start // 100)*100)\n",
    "        years = list(range(start, end + 1))\n",
    "    else:\n",
    "        years = [int(training_year)]\n",
    "\n",
    "    df = df[df[\"year\"].isin(years)].reset_index(drop=True)\n",
    "\n",
    "    # --- map training_size to total number of samples ---\n",
    "    total_map = {\"25k\": 25_000, \"5k\": 5_000, \"1k\": 1_000}\n",
    "    if training_size not in total_map:\n",
    "        return df  # e.g. \"all\"\n",
    "\n",
    "    total_samples = total_map[training_size]\n",
    "    n_years       = len(years)\n",
    "    base          = total_samples // n_years\n",
    "    remainder     = total_samples % n_years\n",
    "\n",
    "    # --- build a dict: year -> how many to sample ---\n",
    "    # give +1 to the first `remainder` years in ascending order\n",
    "    quotas = {\n",
    "        year: base + (1 if idx < remainder else 0)\n",
    "        for idx, year in enumerate(sorted(years))\n",
    "    }\n",
    "\n",
    "    # --- sample per‐year according to the quota dict ---\n",
    "    sampled = (\n",
    "        df\n",
    "        .groupby(\"year\", group_keys=False)\n",
    "        .apply(lambda grp: grp.sample(\n",
    "            n=min(len(grp), quotas[grp.name]),\n",
    "            random_state=random_state))\n",
    "        .reset_index(drop=True)\n",
    "    )\n",
    "\n",
    "    return sampled"
   ]
  },
  {
   "cell_type": "code",
   "execution_count": 15,
   "id": "c0ccd338-0e02-41f3-a09d-f56f9266e3fb",
   "metadata": {
    "execution": {
     "iopub.execute_input": "2025-07-30T21:37:08.443629Z",
     "iopub.status.busy": "2025-07-30T21:37:08.443060Z",
     "iopub.status.idle": "2025-07-30T21:37:08.448071Z",
     "shell.execute_reply": "2025-07-30T21:37:08.447047Z"
    },
    "papermill": {
     "duration": 0.030218,
     "end_time": "2025-07-30T21:37:08.449781",
     "exception": false,
     "start_time": "2025-07-30T21:37:08.419563",
     "status": "completed"
    },
    "tags": []
   },
   "outputs": [],
   "source": [
    "#universe[\"training_size\"]"
   ]
  },
  {
   "cell_type": "code",
   "execution_count": 16,
   "id": "ca707fd7-8047-4acd-bfa5-66248fbbf8e6",
   "metadata": {
    "execution": {
     "iopub.execute_input": "2025-07-30T21:37:08.494990Z",
     "iopub.status.busy": "2025-07-30T21:37:08.494313Z",
     "iopub.status.idle": "2025-07-30T21:37:08.498912Z",
     "shell.execute_reply": "2025-07-30T21:37:08.497954Z"
    },
    "papermill": {
     "duration": 0.028226,
     "end_time": "2025-07-30T21:37:08.500589",
     "exception": false,
     "start_time": "2025-07-30T21:37:08.472363",
     "status": "completed"
    },
    "tags": []
   },
   "outputs": [],
   "source": [
    "#universe[\"training_year\"]"
   ]
  },
  {
   "cell_type": "code",
   "execution_count": 17,
   "id": "aea9c6ef-6f46-42c8-85eb-5a62025c1508",
   "metadata": {
    "execution": {
     "iopub.execute_input": "2025-07-30T21:37:08.544861Z",
     "iopub.status.busy": "2025-07-30T21:37:08.544424Z",
     "iopub.status.idle": "2025-07-30T21:37:09.211884Z",
     "shell.execute_reply": "2025-07-30T21:37:09.210788Z"
    },
    "papermill": {
     "duration": 0.692398,
     "end_time": "2025-07-30T21:37:09.213905",
     "exception": false,
     "start_time": "2025-07-30T21:37:08.521507",
     "status": "completed"
    },
    "tags": []
   },
   "outputs": [],
   "source": [
    "siab_train = sample_by_year_size(siab,\n",
    "                               training_year=universe[\"training_year\"],\n",
    "                               training_size=universe[\"training_size\"])"
   ]
  },
  {
   "cell_type": "code",
   "execution_count": 18,
   "id": "8d3afb32-789d-442c-8d5d-9f5aa8dd2eed",
   "metadata": {
    "execution": {
     "iopub.execute_input": "2025-07-30T21:37:09.262878Z",
     "iopub.status.busy": "2025-07-30T21:37:09.262312Z",
     "iopub.status.idle": "2025-07-30T21:37:09.267988Z",
     "shell.execute_reply": "2025-07-30T21:37:09.267110Z"
    },
    "papermill": {
     "duration": 0.032204,
     "end_time": "2025-07-30T21:37:09.269737",
     "exception": false,
     "start_time": "2025-07-30T21:37:09.237533",
     "status": "completed"
    },
    "tags": []
   },
   "outputs": [],
   "source": [
    "#siab_train.shape"
   ]
  },
  {
   "cell_type": "code",
   "execution_count": 19,
   "id": "d582db68-1a4c-47fb-84fc-08518dc1975a",
   "metadata": {
    "execution": {
     "iopub.execute_input": "2025-07-30T21:37:09.319241Z",
     "iopub.status.busy": "2025-07-30T21:37:09.318713Z",
     "iopub.status.idle": "2025-07-30T21:37:09.324071Z",
     "shell.execute_reply": "2025-07-30T21:37:09.323054Z"
    },
    "papermill": {
     "duration": 0.032489,
     "end_time": "2025-07-30T21:37:09.325898",
     "exception": false,
     "start_time": "2025-07-30T21:37:09.293409",
     "status": "completed"
    },
    "tags": []
   },
   "outputs": [],
   "source": [
    "#display(siab_train.groupby(\"year\").size())"
   ]
  },
  {
   "cell_type": "code",
   "execution_count": 20,
   "id": "a561edb4-d032-42cb-8256-22eac1111c64",
   "metadata": {
    "execution": {
     "iopub.execute_input": "2025-07-30T21:37:09.374898Z",
     "iopub.status.busy": "2025-07-30T21:37:09.374353Z",
     "iopub.status.idle": "2025-07-30T21:37:09.601358Z",
     "shell.execute_reply": "2025-07-30T21:37:09.600229Z"
    },
    "papermill": {
     "duration": 0.254079,
     "end_time": "2025-07-30T21:37:09.603313",
     "exception": false,
     "start_time": "2025-07-30T21:37:09.349234",
     "status": "completed"
    },
    "tags": []
   },
   "outputs": [],
   "source": [
    "#siab_train = siab_s[siab_s.year < 2015]\n",
    "siab_calib = siab[siab.year == 2015]\n",
    "siab_test = siab[siab.year == 2016]"
   ]
  },
  {
   "cell_type": "code",
   "execution_count": 21,
   "id": "472de16f-c3db-4916-846b-1f0de9cf1746",
   "metadata": {
    "execution": {
     "iopub.execute_input": "2025-07-30T21:37:09.655149Z",
     "iopub.status.busy": "2025-07-30T21:37:09.654181Z",
     "iopub.status.idle": "2025-07-30T21:37:09.661971Z",
     "shell.execute_reply": "2025-07-30T21:37:09.660891Z"
    },
    "papermill": {
     "duration": 0.03561,
     "end_time": "2025-07-30T21:37:09.663951",
     "exception": false,
     "start_time": "2025-07-30T21:37:09.628341",
     "status": "completed"
    },
    "tags": []
   },
   "outputs": [],
   "source": [
    "X_train = siab_train.iloc[:,4:164]\n",
    "y_train = siab_train.iloc[:, [3]]"
   ]
  },
  {
   "cell_type": "code",
   "execution_count": 22,
   "id": "828c96af-f43a-4ed6-ba47-8ac73a47d56c",
   "metadata": {
    "execution": {
     "iopub.execute_input": "2025-07-30T21:37:09.714974Z",
     "iopub.status.busy": "2025-07-30T21:37:09.714563Z",
     "iopub.status.idle": "2025-07-30T21:37:09.762501Z",
     "shell.execute_reply": "2025-07-30T21:37:09.761671Z"
    },
    "papermill": {
     "duration": 0.074859,
     "end_time": "2025-07-30T21:37:09.764004",
     "exception": false,
     "start_time": "2025-07-30T21:37:09.689145",
     "status": "completed"
    },
    "tags": []
   },
   "outputs": [],
   "source": [
    "X_calib = siab_calib.iloc[:,4:164]\n",
    "y_calib = siab_calib.iloc[:, [3]]"
   ]
  },
  {
   "cell_type": "code",
   "execution_count": 23,
   "id": "c34be9c3-6bd6-476e-acd3-845840e303be",
   "metadata": {
    "execution": {
     "iopub.execute_input": "2025-07-30T21:37:09.793789Z",
     "iopub.status.busy": "2025-07-30T21:37:09.793150Z",
     "iopub.status.idle": "2025-07-30T21:37:09.870082Z",
     "shell.execute_reply": "2025-07-30T21:37:09.868813Z"
    },
    "papermill": {
     "duration": 0.096304,
     "end_time": "2025-07-30T21:37:09.872069",
     "exception": false,
     "start_time": "2025-07-30T21:37:09.775765",
     "status": "completed"
    },
    "tags": []
   },
   "outputs": [],
   "source": [
    "X_test = siab_test.iloc[:,4:164]\n",
    "y_true = siab_test.iloc[:, [3]]"
   ]
  },
  {
   "cell_type": "markdown",
   "id": "9901737e-04df-44f0-9100-f5ad144ed040",
   "metadata": {
    "papermill": {
     "duration": 0.019588,
     "end_time": "2025-07-30T21:37:09.911657",
     "exception": false,
     "start_time": "2025-07-30T21:37:09.892069",
     "status": "completed"
    },
    "tags": []
   },
   "source": [
    "# Splitting Data and Setting Training Data Size OLD VERSION"
   ]
  },
  {
   "cell_type": "code",
   "execution_count": 24,
   "id": "acbc8f7d-8fc8-4e86-8c59-5dcb0f58384b",
   "metadata": {
    "execution": {
     "iopub.execute_input": "2025-07-30T21:37:09.949301Z",
     "iopub.status.busy": "2025-07-30T21:37:09.948834Z",
     "iopub.status.idle": "2025-07-30T21:37:09.954530Z",
     "shell.execute_reply": "2025-07-30T21:37:09.953579Z"
    },
    "papermill": {
     "duration": 0.024042,
     "end_time": "2025-07-30T21:37:09.955788",
     "exception": false,
     "start_time": "2025-07-30T21:37:09.931746",
     "status": "completed"
    },
    "tags": []
   },
   "outputs": [],
   "source": [
    "#def sample_by_year(df, training_size, random_state=42):\n",
    "#    if training_size == \"2014\":\n",
    "#        return df[df[\"year\"] == 2014].reset_index(drop=True)\n",
    "#    \n",
    "#    size_map = {\n",
    "#        \"25k\": 5000,\n",
    "#        \"5k\": 1000,\n",
    "#        \"1k\": 200\n",
    "#    }\n",
    "#\n",
    "#    if training_size not in size_map:\n",
    "#        return df.reset_index(drop=True)  # use all data\n",
    "#\n",
    "#    n_per_year = size_map[training_size]\n",
    "#    grouped = df.groupby(\"year\")\n",
    "#    sampled = grouped.apply(lambda x: x.sample(n=min(n_per_year, len(x)), random_state=random_state))\n",
    "#    return sampled.reset_index(drop=True)"
   ]
  },
  {
   "cell_type": "code",
   "execution_count": 25,
   "id": "6d931f52-beaf-43ff-9e78-9d44a448d54e",
   "metadata": {
    "execution": {
     "iopub.execute_input": "2025-07-30T21:37:09.980429Z",
     "iopub.status.busy": "2025-07-30T21:37:09.979992Z",
     "iopub.status.idle": "2025-07-30T21:37:09.985924Z",
     "shell.execute_reply": "2025-07-30T21:37:09.985010Z"
    },
    "papermill": {
     "duration": 0.020252,
     "end_time": "2025-07-30T21:37:09.987617",
     "exception": false,
     "start_time": "2025-07-30T21:37:09.967365",
     "status": "completed"
    },
    "tags": []
   },
   "outputs": [],
   "source": [
    "#siab_s = sample_by_year(siab, universe[\"training_size\"])"
   ]
  },
  {
   "cell_type": "code",
   "execution_count": 26,
   "id": "5db0a40e-a4e2-4920-be85-b12ae061d70d",
   "metadata": {
    "execution": {
     "iopub.execute_input": "2025-07-30T21:37:10.034904Z",
     "iopub.status.busy": "2025-07-30T21:37:10.033980Z",
     "iopub.status.idle": "2025-07-30T21:37:10.039125Z",
     "shell.execute_reply": "2025-07-30T21:37:10.038181Z"
    },
    "papermill": {
     "duration": 0.030587,
     "end_time": "2025-07-30T21:37:10.040805",
     "exception": false,
     "start_time": "2025-07-30T21:37:10.010218",
     "status": "completed"
    },
    "tags": []
   },
   "outputs": [],
   "source": [
    "#display(siab_s.groupby(\"year\").size())"
   ]
  },
  {
   "cell_type": "code",
   "execution_count": 27,
   "id": "e6c733c5",
   "metadata": {
    "execution": {
     "iopub.execute_input": "2025-07-30T21:37:10.089880Z",
     "iopub.status.busy": "2025-07-30T21:37:10.089226Z",
     "iopub.status.idle": "2025-07-30T21:37:10.190505Z",
     "shell.execute_reply": "2025-07-30T21:37:10.189518Z"
    },
    "papermill": {
     "duration": 0.127653,
     "end_time": "2025-07-30T21:37:10.192496",
     "exception": false,
     "start_time": "2025-07-30T21:37:10.064843",
     "status": "completed"
    },
    "tags": []
   },
   "outputs": [],
   "source": [
    "# Auxiliary data needed downstream in the pipeline\n",
    "\n",
    "org_train = X_train.copy()\n",
    "org_test = X_test.copy()\n",
    "org_calib = X_calib.copy()"
   ]
  },
  {
   "cell_type": "code",
   "execution_count": 28,
   "id": "1466abac-c6da-4492-a62f-4240ae3783af",
   "metadata": {
    "execution": {
     "iopub.execute_input": "2025-07-30T21:37:10.244443Z",
     "iopub.status.busy": "2025-07-30T21:37:10.243810Z",
     "iopub.status.idle": "2025-07-30T21:37:10.250531Z",
     "shell.execute_reply": "2025-07-30T21:37:10.249123Z"
    },
    "papermill": {
     "duration": 0.035968,
     "end_time": "2025-07-30T21:37:10.252901",
     "exception": false,
     "start_time": "2025-07-30T21:37:10.216933",
     "status": "completed"
    },
    "tags": []
   },
   "outputs": [],
   "source": [
    "# put in other script?\n",
    "# Group sizes\n",
    "\n",
    "#def calculate_percentages(df, df_name):\n",
    "#    total_entries = len(df)\n",
    "#\n",
    "#    female_pct = (df['frau1'] == 1).mean() * 100\n",
    "#    non_german_pct = ((df['maxdeutsch1'] == 0) & (df['maxdeutsch.Missing.'] == 0)).mean() * 100\n",
    "#    non_german_male_pct = ((df['frau1'] == 0) & (df['maxdeutsch1'] == 0) & (df['maxdeutsch.Missing.'] == 0)).mean() * 100\n",
    "#    non_german_female_pct = ((df['frau1'] == 1) & (df['maxdeutsch1'] == 0) & (df['maxdeutsch.Missing.'] == 0)).mean() * 100\n",
    "#\n",
    "#    print(f\"--- {df_name} ---\")\n",
    "#    print(f\"Female: {female_pct:.2f}%\")\n",
    "#    print(f\"Non-German: {non_german_pct:.2f}%\")\n",
    "#    print(f\"Non-German Male: {non_german_male_pct:.2f}%\")\n",
    "#    print(f\"Non-German Female: {non_german_female_pct:.2f}%\\n\")\n",
    "#\n",
    "## Calculate for each DataFrame\n",
    "#calculate_percentages(siab_calib, \"siab_calib\")\n",
    "#calculate_percentages(siab_test, \"siab_test\")\n",
    "#calculate_percentages(siab_train, \"siab_train\")"
   ]
  },
  {
   "cell_type": "markdown",
   "id": "0a4a1b33",
   "metadata": {
    "papermill": {
     "duration": 0.027361,
     "end_time": "2025-07-30T21:37:10.310256",
     "exception": false,
     "start_time": "2025-07-30T21:37:10.282895",
     "status": "completed"
    },
    "tags": []
   },
   "source": [
    "# Preprocessing Data"
   ]
  },
  {
   "cell_type": "code",
   "execution_count": 29,
   "id": "ca879031",
   "metadata": {
    "execution": {
     "iopub.execute_input": "2025-07-30T21:37:10.354696Z",
     "iopub.status.busy": "2025-07-30T21:37:10.353927Z",
     "iopub.status.idle": "2025-07-30T21:37:10.360744Z",
     "shell.execute_reply": "2025-07-30T21:37:10.359716Z"
    },
    "papermill": {
     "duration": 0.030588,
     "end_time": "2025-07-30T21:37:10.362393",
     "exception": false,
     "start_time": "2025-07-30T21:37:10.331805",
     "status": "completed"
    },
    "tags": []
   },
   "outputs": [],
   "source": [
    "# EXCLUDE PROTECTED FEATURES\n",
    "# ----------------------\n",
    "# \"exclude_features\": \"none\", # \"nationality\", \"sex\", \"nationality-sex\"\n",
    "\n",
    "excluded_features = universe[\"exclude_features\"].split(\"-\") # split, e.g.: \"nationality-sex\" -> [\"nationality\", \"sex\"]\n",
    "excluded_features_dictionary = {\n",
    "    \"nationality\": [\"maxdeutsch1\", \"maxdeutsch.Missing.\"],\n",
    "    \"sex\": [\"frau1\"],\n",
    "    \"age\": [\"age\"],\n",
    "}\n"
   ]
  },
  {
   "cell_type": "code",
   "execution_count": 30,
   "id": "b745ac60",
   "metadata": {
    "execution": {
     "iopub.execute_input": "2025-07-30T21:37:10.406055Z",
     "iopub.status.busy": "2025-07-30T21:37:10.405544Z",
     "iopub.status.idle": "2025-07-30T21:37:10.411460Z",
     "shell.execute_reply": "2025-07-30T21:37:10.410399Z"
    },
    "papermill": {
     "duration": 0.029443,
     "end_time": "2025-07-30T21:37:10.413125",
     "exception": false,
     "start_time": "2025-07-30T21:37:10.383682",
     "status": "completed"
    },
    "tags": []
   },
   "outputs": [],
   "source": [
    "# Code nice names to column names\n",
    "\n",
    "excluded_features_columns = [\n",
    "    excluded_features_dictionary[f] for f in excluded_features if len(f) > 0 and f != \"none\"\n",
    "]"
   ]
  },
  {
   "cell_type": "code",
   "execution_count": 31,
   "id": "f84f73a2",
   "metadata": {
    "execution": {
     "iopub.execute_input": "2025-07-30T21:37:10.457502Z",
     "iopub.status.busy": "2025-07-30T21:37:10.456530Z",
     "iopub.status.idle": "2025-07-30T21:37:10.462783Z",
     "shell.execute_reply": "2025-07-30T21:37:10.461917Z"
    },
    "papermill": {
     "duration": 0.029385,
     "end_time": "2025-07-30T21:37:10.464272",
     "exception": false,
     "start_time": "2025-07-30T21:37:10.434887",
     "status": "completed"
    },
    "tags": []
   },
   "outputs": [],
   "source": [
    "from utils import flatten_once\n",
    "\n",
    "excluded_features_columns = flatten_once(excluded_features_columns)"
   ]
  },
  {
   "cell_type": "code",
   "execution_count": 32,
   "id": "884dea22",
   "metadata": {
    "execution": {
     "iopub.execute_input": "2025-07-30T21:37:10.509119Z",
     "iopub.status.busy": "2025-07-30T21:37:10.508270Z",
     "iopub.status.idle": "2025-07-30T21:37:10.514217Z",
     "shell.execute_reply": "2025-07-30T21:37:10.513272Z"
    },
    "papermill": {
     "duration": 0.029889,
     "end_time": "2025-07-30T21:37:10.515868",
     "exception": false,
     "start_time": "2025-07-30T21:37:10.485979",
     "status": "completed"
    },
    "tags": []
   },
   "outputs": [],
   "source": [
    "if len(excluded_features_columns) > 0:\n",
    "    print(f\"Dropping features: {excluded_features_columns}\")\n",
    "    X_train.drop(excluded_features_columns, axis=1, inplace=True)"
   ]
  },
  {
   "cell_type": "code",
   "execution_count": 33,
   "id": "95ab8b16",
   "metadata": {
    "execution": {
     "iopub.execute_input": "2025-07-30T21:37:10.562902Z",
     "iopub.status.busy": "2025-07-30T21:37:10.562218Z",
     "iopub.status.idle": "2025-07-30T21:37:10.567901Z",
     "shell.execute_reply": "2025-07-30T21:37:10.567021Z"
    },
    "papermill": {
     "duration": 0.031661,
     "end_time": "2025-07-30T21:37:10.569715",
     "exception": false,
     "start_time": "2025-07-30T21:37:10.538054",
     "status": "completed"
    },
    "tags": []
   },
   "outputs": [],
   "source": [
    "if len(excluded_features_columns) > 0:\n",
    "    print(f\"Dropping features: {excluded_features_columns}\")\n",
    "    X_test.drop(excluded_features_columns, axis=1, inplace=True)"
   ]
  },
  {
   "cell_type": "code",
   "execution_count": 34,
   "id": "1853aaf5-fb9f-46cb-a2b5-8ea4ae2237e4",
   "metadata": {
    "execution": {
     "iopub.execute_input": "2025-07-30T21:37:10.598095Z",
     "iopub.status.busy": "2025-07-30T21:37:10.597757Z",
     "iopub.status.idle": "2025-07-30T21:37:10.603249Z",
     "shell.execute_reply": "2025-07-30T21:37:10.602307Z"
    },
    "papermill": {
     "duration": 0.019764,
     "end_time": "2025-07-30T21:37:10.604576",
     "exception": false,
     "start_time": "2025-07-30T21:37:10.584812",
     "status": "completed"
    },
    "tags": []
   },
   "outputs": [],
   "source": [
    "if len(excluded_features_columns) > 0:\n",
    "    print(f\"Dropping features: {excluded_features_columns}\")\n",
    "    X_calib.drop(excluded_features_columns, axis=1, inplace=True)"
   ]
  },
  {
   "cell_type": "code",
   "execution_count": 35,
   "id": "6727d079-03e5-481e-9d38-292a90b7a0a8",
   "metadata": {
    "execution": {
     "iopub.execute_input": "2025-07-30T21:37:10.656107Z",
     "iopub.status.busy": "2025-07-30T21:37:10.655234Z",
     "iopub.status.idle": "2025-07-30T21:37:10.660566Z",
     "shell.execute_reply": "2025-07-30T21:37:10.659515Z"
    },
    "papermill": {
     "duration": 0.036255,
     "end_time": "2025-07-30T21:37:10.665112",
     "exception": false,
     "start_time": "2025-07-30T21:37:10.628857",
     "status": "completed"
    },
    "tags": []
   },
   "outputs": [],
   "source": [
    "# SPLIT & STRATIFY DATA\n",
    "# ----------------------"
   ]
  },
  {
   "cell_type": "code",
   "execution_count": 36,
   "id": "76c4dc6d",
   "metadata": {
    "execution": {
     "iopub.execute_input": "2025-07-30T21:37:10.715880Z",
     "iopub.status.busy": "2025-07-30T21:37:10.715431Z",
     "iopub.status.idle": "2025-07-30T21:37:10.721428Z",
     "shell.execute_reply": "2025-07-30T21:37:10.720291Z"
    },
    "papermill": {
     "duration": 0.033805,
     "end_time": "2025-07-30T21:37:10.723356",
     "exception": false,
     "start_time": "2025-07-30T21:37:10.689551",
     "status": "completed"
    },
    "tags": []
   },
   "outputs": [],
   "source": [
    "# EXCLUDE CERTAIN SUBGROUPS\n",
    "# ----------------------\n",
    "\n",
    "mode = universe.get(\"exclude_subgroups\", \"keep-all\") \n",
    "# Fetches the exclude_subgroups setting from the universe dict.\n",
    "# Defaults to \"keep-all\" if the key is missing."
   ]
  },
  {
   "cell_type": "code",
   "execution_count": 37,
   "id": "21994072",
   "metadata": {
    "execution": {
     "iopub.execute_input": "2025-07-30T21:37:10.774083Z",
     "iopub.status.busy": "2025-07-30T21:37:10.773400Z",
     "iopub.status.idle": "2025-07-30T21:37:10.780206Z",
     "shell.execute_reply": "2025-07-30T21:37:10.779315Z"
    },
    "papermill": {
     "duration": 0.034628,
     "end_time": "2025-07-30T21:37:10.783056",
     "exception": false,
     "start_time": "2025-07-30T21:37:10.748428",
     "status": "completed"
    },
    "tags": []
   },
   "outputs": [],
   "source": [
    "if mode == \"keep-all\":\n",
    "    keep_mask = pd.Series(True, index=org_train.index)\n",
    "\n",
    "# org_train contains the original feature columns from features_org (in Simson)\n",
    "# features_org contains unprocessed features, for me X_train at beginning ???\n",
    "# For keep-all, creates a boolean Series (keep_mask) of all True, so no rows are removed.\n",
    "\n",
    "elif mode == \"drop-non-german\":\n",
    "    keep_mask = org_train[\"maxdeutsch1\"] == 1 # ??? what about missing values?\n",
    "\n",
    "else:\n",
    "    raise ValueError(f\"Unsupported mode for exclude_subgroups: {mode}\")\n"
   ]
  },
  {
   "cell_type": "code",
   "execution_count": 38,
   "id": "71651440",
   "metadata": {
    "execution": {
     "iopub.execute_input": "2025-07-30T21:37:10.831204Z",
     "iopub.status.busy": "2025-07-30T21:37:10.830168Z",
     "iopub.status.idle": "2025-07-30T21:37:10.837741Z",
     "shell.execute_reply": "2025-07-30T21:37:10.836703Z"
    },
    "papermill": {
     "duration": 0.035275,
     "end_time": "2025-07-30T21:37:10.839259",
     "exception": false,
     "start_time": "2025-07-30T21:37:10.803984",
     "status": "completed"
    },
    "tags": []
   },
   "outputs": [
    {
     "name": "stdout",
     "output_type": "stream",
     "text": [
      "Dropping 147 rows (14.70%) where mode='drop-non-german'\n"
     ]
    }
   ],
   "source": [
    "n_drop = (~keep_mask).sum() # Calculates how many rows are set to be dropped\n",
    "if n_drop > 0:\n",
    "    pct = n_drop / len(keep_mask) * 100\n",
    "    print(f\"Dropping {n_drop} rows ({pct:.2f}%) where mode='{mode}'\")"
   ]
  },
  {
   "cell_type": "code",
   "execution_count": 39,
   "id": "5fb8eee5",
   "metadata": {
    "execution": {
     "iopub.execute_input": "2025-07-30T21:37:10.866870Z",
     "iopub.status.busy": "2025-07-30T21:37:10.866466Z",
     "iopub.status.idle": "2025-07-30T21:37:10.871393Z",
     "shell.execute_reply": "2025-07-30T21:37:10.870575Z"
    },
    "papermill": {
     "duration": 0.020143,
     "end_time": "2025-07-30T21:37:10.872974",
     "exception": false,
     "start_time": "2025-07-30T21:37:10.852831",
     "status": "completed"
    },
    "tags": []
   },
   "outputs": [],
   "source": [
    "X_train = X_train[keep_mask]"
   ]
  },
  {
   "cell_type": "code",
   "execution_count": 40,
   "id": "b202bb3a",
   "metadata": {
    "execution": {
     "iopub.execute_input": "2025-07-30T21:37:10.920392Z",
     "iopub.status.busy": "2025-07-30T21:37:10.919756Z",
     "iopub.status.idle": "2025-07-30T21:37:10.926062Z",
     "shell.execute_reply": "2025-07-30T21:37:10.925132Z"
    },
    "papermill": {
     "duration": 0.031484,
     "end_time": "2025-07-30T21:37:10.927653",
     "exception": false,
     "start_time": "2025-07-30T21:37:10.896169",
     "status": "completed"
    },
    "tags": []
   },
   "outputs": [],
   "source": [
    "y_train = y_train[keep_mask]"
   ]
  },
  {
   "cell_type": "markdown",
   "id": "493e2ac3",
   "metadata": {
    "papermill": {
     "duration": 0.022413,
     "end_time": "2025-07-30T21:37:10.973189",
     "exception": false,
     "start_time": "2025-07-30T21:37:10.950776",
     "status": "completed"
    },
    "tags": []
   },
   "source": [
    "# Model Training"
   ]
  },
  {
   "cell_type": "code",
   "execution_count": 41,
   "id": "679e1268",
   "metadata": {
    "execution": {
     "iopub.execute_input": "2025-07-30T21:37:11.018587Z",
     "iopub.status.busy": "2025-07-30T21:37:11.018139Z",
     "iopub.status.idle": "2025-07-30T21:37:11.123205Z",
     "shell.execute_reply": "2025-07-30T21:37:11.122341Z"
    },
    "papermill": {
     "duration": 0.129256,
     "end_time": "2025-07-30T21:37:11.125018",
     "exception": false,
     "start_time": "2025-07-30T21:37:10.995762",
     "status": "completed"
    },
    "tags": []
   },
   "outputs": [],
   "source": [
    "from sklearn.linear_model import LogisticRegression\n",
    "from sklearn.ensemble import GradientBoostingClassifier, RandomForestClassifier\n",
    "\n",
    "if (universe[\"model\"] == \"logreg\"):\n",
    "    model = LogisticRegression() #penalty=\"none\") #, solver=\"newton-cg\", max_iter=1) # include random_state=19 ?\n",
    "elif (universe[\"model\"] == \"penalized_logreg\"):\n",
    "    model = LogisticRegression(penalty=\"l2\", C=1.0) #, solver=\"newton-cg\", max_iter=1)\n",
    "elif (universe[\"model\"] == \"rf\"):\n",
    "    model = RandomForestClassifier(n_estimators=100, n_jobs=-1)\n",
    "elif (universe[\"model\"] == \"gbm\"):\n",
    "    model = GradientBoostingClassifier()\n",
    "elif (universe[\"model\"] == \"elasticnet\"):\n",
    "    model = LogisticRegression(penalty = 'elasticnet', solver = 'saga', l1_ratio = 0.5, max_iter=5000) # which solver to use?\n",
    "else:\n",
    "    raise \"Unsupported universe.model\""
   ]
  },
  {
   "cell_type": "code",
   "execution_count": 42,
   "id": "0cc8f744",
   "metadata": {
    "execution": {
     "iopub.execute_input": "2025-07-30T21:37:11.171045Z",
     "iopub.status.busy": "2025-07-30T21:37:11.170335Z",
     "iopub.status.idle": "2025-07-30T21:37:11.176707Z",
     "shell.execute_reply": "2025-07-30T21:37:11.175648Z"
    },
    "papermill": {
     "duration": 0.031278,
     "end_time": "2025-07-30T21:37:11.178579",
     "exception": false,
     "start_time": "2025-07-30T21:37:11.147301",
     "status": "completed"
    },
    "tags": []
   },
   "outputs": [],
   "source": [
    "import numpy as np\n",
    "from sklearn.pipeline import Pipeline\n",
    "from sklearn.preprocessing import StandardScaler\n",
    "\n",
    "model = Pipeline([\n",
    "    #(\"continuous_processor\", continuous_processor),\n",
    "    #(\"categorical_preprocessor\", categorical_preprocessor),\n",
    "    (\"scale\", StandardScaler() if universe[\"scale\"] == \"scale\" else None), \n",
    "    (\"model\", model),\n",
    "])"
   ]
  },
  {
   "cell_type": "code",
   "execution_count": 43,
   "id": "9442c04d",
   "metadata": {
    "execution": {
     "iopub.execute_input": "2025-07-30T21:37:11.226911Z",
     "iopub.status.busy": "2025-07-30T21:37:11.226479Z",
     "iopub.status.idle": "2025-07-30T21:37:14.852107Z",
     "shell.execute_reply": "2025-07-30T21:37:14.851269Z"
    },
    "papermill": {
     "duration": 3.650243,
     "end_time": "2025-07-30T21:37:14.853620",
     "exception": false,
     "start_time": "2025-07-30T21:37:11.203377",
     "status": "completed"
    },
    "tags": []
   },
   "outputs": [
    {
     "data": {
      "text/html": [
       "<style>#sk-container-id-1 {color: black;background-color: white;}#sk-container-id-1 pre{padding: 0;}#sk-container-id-1 div.sk-toggleable {background-color: white;}#sk-container-id-1 label.sk-toggleable__label {cursor: pointer;display: block;width: 100%;margin-bottom: 0;padding: 0.3em;box-sizing: border-box;text-align: center;}#sk-container-id-1 label.sk-toggleable__label-arrow:before {content: \"▸\";float: left;margin-right: 0.25em;color: #696969;}#sk-container-id-1 label.sk-toggleable__label-arrow:hover:before {color: black;}#sk-container-id-1 div.sk-estimator:hover label.sk-toggleable__label-arrow:before {color: black;}#sk-container-id-1 div.sk-toggleable__content {max-height: 0;max-width: 0;overflow: hidden;text-align: left;background-color: #f0f8ff;}#sk-container-id-1 div.sk-toggleable__content pre {margin: 0.2em;color: black;border-radius: 0.25em;background-color: #f0f8ff;}#sk-container-id-1 input.sk-toggleable__control:checked~div.sk-toggleable__content {max-height: 200px;max-width: 100%;overflow: auto;}#sk-container-id-1 input.sk-toggleable__control:checked~label.sk-toggleable__label-arrow:before {content: \"▾\";}#sk-container-id-1 div.sk-estimator input.sk-toggleable__control:checked~label.sk-toggleable__label {background-color: #d4ebff;}#sk-container-id-1 div.sk-label input.sk-toggleable__control:checked~label.sk-toggleable__label {background-color: #d4ebff;}#sk-container-id-1 input.sk-hidden--visually {border: 0;clip: rect(1px 1px 1px 1px);clip: rect(1px, 1px, 1px, 1px);height: 1px;margin: -1px;overflow: hidden;padding: 0;position: absolute;width: 1px;}#sk-container-id-1 div.sk-estimator {font-family: monospace;background-color: #f0f8ff;border: 1px dotted black;border-radius: 0.25em;box-sizing: border-box;margin-bottom: 0.5em;}#sk-container-id-1 div.sk-estimator:hover {background-color: #d4ebff;}#sk-container-id-1 div.sk-parallel-item::after {content: \"\";width: 100%;border-bottom: 1px solid gray;flex-grow: 1;}#sk-container-id-1 div.sk-label:hover label.sk-toggleable__label {background-color: #d4ebff;}#sk-container-id-1 div.sk-serial::before {content: \"\";position: absolute;border-left: 1px solid gray;box-sizing: border-box;top: 0;bottom: 0;left: 50%;z-index: 0;}#sk-container-id-1 div.sk-serial {display: flex;flex-direction: column;align-items: center;background-color: white;padding-right: 0.2em;padding-left: 0.2em;position: relative;}#sk-container-id-1 div.sk-item {position: relative;z-index: 1;}#sk-container-id-1 div.sk-parallel {display: flex;align-items: stretch;justify-content: center;background-color: white;position: relative;}#sk-container-id-1 div.sk-item::before, #sk-container-id-1 div.sk-parallel-item::before {content: \"\";position: absolute;border-left: 1px solid gray;box-sizing: border-box;top: 0;bottom: 0;left: 50%;z-index: -1;}#sk-container-id-1 div.sk-parallel-item {display: flex;flex-direction: column;z-index: 1;position: relative;background-color: white;}#sk-container-id-1 div.sk-parallel-item:first-child::after {align-self: flex-end;width: 50%;}#sk-container-id-1 div.sk-parallel-item:last-child::after {align-self: flex-start;width: 50%;}#sk-container-id-1 div.sk-parallel-item:only-child::after {width: 0;}#sk-container-id-1 div.sk-dashed-wrapped {border: 1px dashed gray;margin: 0 0.4em 0.5em 0.4em;box-sizing: border-box;padding-bottom: 0.4em;background-color: white;}#sk-container-id-1 div.sk-label label {font-family: monospace;font-weight: bold;display: inline-block;line-height: 1.2em;}#sk-container-id-1 div.sk-label-container {text-align: center;}#sk-container-id-1 div.sk-container {/* jupyter's `normalize.less` sets `[hidden] { display: none; }` but bootstrap.min.css set `[hidden] { display: none !important; }` so we also need the `!important` here to be able to override the default hidden behavior on the sphinx rendered scikit-learn.org. See: https://github.com/scikit-learn/scikit-learn/issues/21755 */display: inline-block !important;position: relative;}#sk-container-id-1 div.sk-text-repr-fallback {display: none;}</style><div id=\"sk-container-id-1\" class=\"sk-top-container\"><div class=\"sk-text-repr-fallback\"><pre>Pipeline(steps=[(&#x27;scale&#x27;, StandardScaler()),\n",
       "                (&#x27;model&#x27;,\n",
       "                 LogisticRegression(l1_ratio=0.5, max_iter=5000,\n",
       "                                    penalty=&#x27;elasticnet&#x27;, solver=&#x27;saga&#x27;))])</pre><b>In a Jupyter environment, please rerun this cell to show the HTML representation or trust the notebook. <br />On GitHub, the HTML representation is unable to render, please try loading this page with nbviewer.org.</b></div><div class=\"sk-container\" hidden><div class=\"sk-item sk-dashed-wrapped\"><div class=\"sk-label-container\"><div class=\"sk-label sk-toggleable\"><input class=\"sk-toggleable__control sk-hidden--visually\" id=\"sk-estimator-id-1\" type=\"checkbox\" ><label for=\"sk-estimator-id-1\" class=\"sk-toggleable__label sk-toggleable__label-arrow\">Pipeline</label><div class=\"sk-toggleable__content\"><pre>Pipeline(steps=[(&#x27;scale&#x27;, StandardScaler()),\n",
       "                (&#x27;model&#x27;,\n",
       "                 LogisticRegression(l1_ratio=0.5, max_iter=5000,\n",
       "                                    penalty=&#x27;elasticnet&#x27;, solver=&#x27;saga&#x27;))])</pre></div></div></div><div class=\"sk-serial\"><div class=\"sk-item\"><div class=\"sk-estimator sk-toggleable\"><input class=\"sk-toggleable__control sk-hidden--visually\" id=\"sk-estimator-id-2\" type=\"checkbox\" ><label for=\"sk-estimator-id-2\" class=\"sk-toggleable__label sk-toggleable__label-arrow\">StandardScaler</label><div class=\"sk-toggleable__content\"><pre>StandardScaler()</pre></div></div></div><div class=\"sk-item\"><div class=\"sk-estimator sk-toggleable\"><input class=\"sk-toggleable__control sk-hidden--visually\" id=\"sk-estimator-id-3\" type=\"checkbox\" ><label for=\"sk-estimator-id-3\" class=\"sk-toggleable__label sk-toggleable__label-arrow\">LogisticRegression</label><div class=\"sk-toggleable__content\"><pre>LogisticRegression(l1_ratio=0.5, max_iter=5000, penalty=&#x27;elasticnet&#x27;,\n",
       "                   solver=&#x27;saga&#x27;)</pre></div></div></div></div></div></div></div>"
      ],
      "text/plain": [
       "Pipeline(steps=[('scale', StandardScaler()),\n",
       "                ('model',\n",
       "                 LogisticRegression(l1_ratio=0.5, max_iter=5000,\n",
       "                                    penalty='elasticnet', solver='saga'))])"
      ]
     },
     "execution_count": 43,
     "metadata": {},
     "output_type": "execute_result"
    }
   ],
   "source": [
    "model.fit(X_train, y_train.values.ravel())"
   ]
  },
  {
   "cell_type": "code",
   "execution_count": 44,
   "id": "af59f8c0",
   "metadata": {
    "execution": {
     "iopub.execute_input": "2025-07-30T21:37:14.898906Z",
     "iopub.status.busy": "2025-07-30T21:37:14.898228Z",
     "iopub.status.idle": "2025-07-30T21:37:14.903444Z",
     "shell.execute_reply": "2025-07-30T21:37:14.902426Z"
    },
    "papermill": {
     "duration": 0.029717,
     "end_time": "2025-07-30T21:37:14.904998",
     "exception": false,
     "start_time": "2025-07-30T21:37:14.875281",
     "status": "completed"
    },
    "tags": []
   },
   "outputs": [],
   "source": [
    "from fairness_multiverse.universe import predict_w_threshold"
   ]
  },
  {
   "cell_type": "code",
   "execution_count": 45,
   "id": "a7cf2e16",
   "metadata": {
    "execution": {
     "iopub.execute_input": "2025-07-30T21:37:14.949547Z",
     "iopub.status.busy": "2025-07-30T21:37:14.948924Z",
     "iopub.status.idle": "2025-07-30T21:37:15.146536Z",
     "shell.execute_reply": "2025-07-30T21:37:15.145720Z"
    },
    "papermill": {
     "duration": 0.221575,
     "end_time": "2025-07-30T21:37:15.148169",
     "exception": false,
     "start_time": "2025-07-30T21:37:14.926594",
     "status": "completed"
    },
    "tags": []
   },
   "outputs": [
    {
     "data": {
      "text/plain": [
       "0.8234310556236762"
      ]
     },
     "execution_count": 45,
     "metadata": {},
     "output_type": "execute_result"
    }
   ],
   "source": [
    "probs_test = model.predict_proba(X_test)\n",
    "\n",
    "'''\n",
    "Below code returns a boolean array (or binary 0/1 array depending on how it’s used) where each element \n",
    "is True if the probability of class 1 is greater than or equal to the threshold, and False otherwise.\n",
    "'''\n",
    "y_pred_default = predict_w_threshold(probs_test, 0.5)\n",
    "\n",
    "from sklearn.metrics import accuracy_score\n",
    "\n",
    "# Naive prediction\n",
    "accuracy_score(y_true = y_true, y_pred = y_pred_default)"
   ]
  },
  {
   "cell_type": "code",
   "execution_count": 46,
   "id": "081964c3",
   "metadata": {
    "execution": {
     "iopub.execute_input": "2025-07-30T21:37:15.193594Z",
     "iopub.status.busy": "2025-07-30T21:37:15.192972Z",
     "iopub.status.idle": "2025-07-30T21:37:15.371608Z",
     "shell.execute_reply": "2025-07-30T21:37:15.370661Z"
    },
    "papermill": {
     "duration": 0.202737,
     "end_time": "2025-07-30T21:37:15.373445",
     "exception": false,
     "start_time": "2025-07-30T21:37:15.170708",
     "status": "completed"
    },
    "tags": []
   },
   "outputs": [
    {
     "data": {
      "text/plain": [
       "array([0, 0, 0, ..., 0, 0, 0])"
      ]
     },
     "execution_count": 46,
     "metadata": {},
     "output_type": "execute_result"
    }
   ],
   "source": [
    "model.predict(X_test)"
   ]
  },
  {
   "cell_type": "markdown",
   "id": "56c9705b",
   "metadata": {
    "papermill": {
     "duration": 0.025166,
     "end_time": "2025-07-30T21:37:15.421242",
     "exception": false,
     "start_time": "2025-07-30T21:37:15.396076",
     "status": "completed"
    },
    "tags": []
   },
   "source": [
    "# Conformal Prediction"
   ]
  },
  {
   "cell_type": "code",
   "execution_count": 47,
   "id": "160ec6ff",
   "metadata": {
    "execution": {
     "iopub.execute_input": "2025-07-30T21:37:15.466404Z",
     "iopub.status.busy": "2025-07-30T21:37:15.465751Z",
     "iopub.status.idle": "2025-07-30T21:37:15.470874Z",
     "shell.execute_reply": "2025-07-30T21:37:15.470004Z"
    },
    "papermill": {
     "duration": 0.029552,
     "end_time": "2025-07-30T21:37:15.472633",
     "exception": false,
     "start_time": "2025-07-30T21:37:15.443081",
     "status": "completed"
    },
    "tags": []
   },
   "outputs": [],
   "source": [
    "# Miscoverage level for conformal prediction (10% allowed error rate => 90% target coverage)\n",
    "alpha = 0.1"
   ]
  },
  {
   "cell_type": "code",
   "execution_count": 48,
   "id": "eadf4555-3dd3-440e-8e35-f82a4ad9f855",
   "metadata": {
    "execution": {
     "iopub.execute_input": "2025-07-30T21:37:15.517704Z",
     "iopub.status.busy": "2025-07-30T21:37:15.517091Z",
     "iopub.status.idle": "2025-07-30T21:37:15.692284Z",
     "shell.execute_reply": "2025-07-30T21:37:15.691178Z"
    },
    "papermill": {
     "duration": 0.21088,
     "end_time": "2025-07-30T21:37:15.705446",
     "exception": false,
     "start_time": "2025-07-30T21:37:15.494566",
     "status": "completed"
    },
    "tags": []
   },
   "outputs": [],
   "source": [
    "probs_calib = model.predict_proba(X_calib)"
   ]
  },
  {
   "cell_type": "code",
   "execution_count": 49,
   "id": "2ed93547-6d5d-4983-9b36-1ecb300da49a",
   "metadata": {
    "execution": {
     "iopub.execute_input": "2025-07-30T21:37:15.763865Z",
     "iopub.status.busy": "2025-07-30T21:37:15.763202Z",
     "iopub.status.idle": "2025-07-30T21:37:15.768786Z",
     "shell.execute_reply": "2025-07-30T21:37:15.767697Z"
    },
    "papermill": {
     "duration": 0.039462,
     "end_time": "2025-07-30T21:37:15.770518",
     "exception": false,
     "start_time": "2025-07-30T21:37:15.731056",
     "status": "completed"
    },
    "tags": []
   },
   "outputs": [],
   "source": [
    "y_calib = y_calib.values.ravel().astype(int)"
   ]
  },
  {
   "cell_type": "code",
   "execution_count": 50,
   "id": "65d1320d-f588-4b38-9072-62af1ae97f7d",
   "metadata": {
    "execution": {
     "iopub.execute_input": "2025-07-30T21:37:15.820886Z",
     "iopub.status.busy": "2025-07-30T21:37:15.820167Z",
     "iopub.status.idle": "2025-07-30T21:37:15.827687Z",
     "shell.execute_reply": "2025-07-30T21:37:15.826777Z"
    },
    "papermill": {
     "duration": 0.035262,
     "end_time": "2025-07-30T21:37:15.829316",
     "exception": false,
     "start_time": "2025-07-30T21:37:15.794054",
     "status": "completed"
    },
    "tags": []
   },
   "outputs": [],
   "source": [
    "from fairness_multiverse.conformal import compute_nc_scores\n",
    "\n",
    "# Compute nonconformity scores on calibration set (1 - probability of true class)\n",
    "nc_scores = compute_nc_scores(probs_calib, y_calib)"
   ]
  },
  {
   "cell_type": "code",
   "execution_count": 51,
   "id": "df3b8ca3-53b7-43d5-9667-7c85da7aeda2",
   "metadata": {
    "execution": {
     "iopub.execute_input": "2025-07-30T21:37:15.879531Z",
     "iopub.status.busy": "2025-07-30T21:37:15.878531Z",
     "iopub.status.idle": "2025-07-30T21:37:15.891510Z",
     "shell.execute_reply": "2025-07-30T21:37:15.890538Z"
    },
    "papermill": {
     "duration": 0.039868,
     "end_time": "2025-07-30T21:37:15.893161",
     "exception": false,
     "start_time": "2025-07-30T21:37:15.853293",
     "status": "completed"
    },
    "tags": []
   },
   "outputs": [],
   "source": [
    "from fairness_multiverse.conformal import find_threshold\n",
    "\n",
    "# Find conformal threshold q_hat for the given alpha (split conformal method)\n",
    "q_hat = find_threshold(nc_scores, alpha)"
   ]
  },
  {
   "cell_type": "code",
   "execution_count": 52,
   "id": "4d29e6c1-0ef6-4aa4-b8fe-4fe79b0d033a",
   "metadata": {
    "execution": {
     "iopub.execute_input": "2025-07-30T21:37:15.944732Z",
     "iopub.status.busy": "2025-07-30T21:37:15.943743Z",
     "iopub.status.idle": "2025-07-30T21:37:15.951382Z",
     "shell.execute_reply": "2025-07-30T21:37:15.950523Z"
    },
    "papermill": {
     "duration": 0.034862,
     "end_time": "2025-07-30T21:37:15.953166",
     "exception": false,
     "start_time": "2025-07-30T21:37:15.918304",
     "status": "completed"
    },
    "tags": []
   },
   "outputs": [
    {
     "data": {
      "text/plain": [
       "0.8056147687860856"
      ]
     },
     "execution_count": 52,
     "metadata": {},
     "output_type": "execute_result"
    }
   ],
   "source": [
    "q_hat"
   ]
  },
  {
   "cell_type": "code",
   "execution_count": 53,
   "id": "92460794-cdac-4be2-ba28-f28c0515a6fb",
   "metadata": {
    "execution": {
     "iopub.execute_input": "2025-07-30T21:37:16.005775Z",
     "iopub.status.busy": "2025-07-30T21:37:16.005300Z",
     "iopub.status.idle": "2025-07-30T21:37:16.918438Z",
     "shell.execute_reply": "2025-07-30T21:37:16.917358Z"
    },
    "papermill": {
     "duration": 0.941831,
     "end_time": "2025-07-30T21:37:16.920556",
     "exception": false,
     "start_time": "2025-07-30T21:37:15.978725",
     "status": "completed"
    },
    "tags": []
   },
   "outputs": [],
   "source": [
    "from fairness_multiverse.conformal import predict_conformal_sets\n",
    "\n",
    "# Generate prediction sets for each test example\n",
    "pred_sets = predict_conformal_sets(model, X_test, q_hat)"
   ]
  },
  {
   "cell_type": "code",
   "execution_count": 54,
   "id": "d90c9a65-e6db-4f5d-80cd-e68fb7e46829",
   "metadata": {
    "execution": {
     "iopub.execute_input": "2025-07-30T21:37:16.972725Z",
     "iopub.status.busy": "2025-07-30T21:37:16.972246Z",
     "iopub.status.idle": "2025-07-30T21:37:16.978208Z",
     "shell.execute_reply": "2025-07-30T21:37:16.977237Z"
    },
    "papermill": {
     "duration": 0.034029,
     "end_time": "2025-07-30T21:37:16.979960",
     "exception": false,
     "start_time": "2025-07-30T21:37:16.945931",
     "status": "completed"
    },
    "tags": []
   },
   "outputs": [],
   "source": [
    "y_true = y_true.squeeze()"
   ]
  },
  {
   "cell_type": "code",
   "execution_count": 55,
   "id": "3a58a54a-1e68-46b9-927a-df01f18aebc8",
   "metadata": {
    "execution": {
     "iopub.execute_input": "2025-07-30T21:37:17.036929Z",
     "iopub.status.busy": "2025-07-30T21:37:17.036206Z",
     "iopub.status.idle": "2025-07-30T21:37:18.032322Z",
     "shell.execute_reply": "2025-07-30T21:37:18.031267Z"
    },
    "papermill": {
     "duration": 1.027271,
     "end_time": "2025-07-30T21:37:18.034186",
     "exception": false,
     "start_time": "2025-07-30T21:37:17.006915",
     "status": "completed"
    },
    "tags": []
   },
   "outputs": [],
   "source": [
    "from fairness_multiverse.conformal import evaluate_sets\n",
    "\n",
    "# Evaluate coverage and average set size on test data\n",
    "metrics = evaluate_sets(pred_sets, y_true)"
   ]
  },
  {
   "cell_type": "markdown",
   "id": "2b569c12-9aaa-4c88-98c9-bbcd0cf3ebb8",
   "metadata": {
    "papermill": {
     "duration": 0.024428,
     "end_time": "2025-07-30T21:37:18.151803",
     "exception": false,
     "start_time": "2025-07-30T21:37:18.127375",
     "status": "completed"
    },
    "tags": []
   },
   "source": [
    "# CP Metrics"
   ]
  },
  {
   "cell_type": "code",
   "execution_count": 56,
   "id": "5ce0a5cb-201f-45a0-ade5-94c7f0bd6095",
   "metadata": {
    "execution": {
     "iopub.execute_input": "2025-07-30T21:37:18.202011Z",
     "iopub.status.busy": "2025-07-30T21:37:18.201491Z",
     "iopub.status.idle": "2025-07-30T21:37:18.208749Z",
     "shell.execute_reply": "2025-07-30T21:37:18.207777Z"
    },
    "papermill": {
     "duration": 0.033969,
     "end_time": "2025-07-30T21:37:18.210299",
     "exception": false,
     "start_time": "2025-07-30T21:37:18.176330",
     "status": "completed"
    },
    "tags": []
   },
   "outputs": [
    {
     "data": {
      "text/plain": [
       "{'coverage': 0.9104001783524691, 'avg_size': 1.2563147921079032}"
      ]
     },
     "execution_count": 56,
     "metadata": {},
     "output_type": "execute_result"
    }
   ],
   "source": [
    "metrics"
   ]
  },
  {
   "cell_type": "code",
   "execution_count": 57,
   "id": "9b9a838d-31c9-430b-ae14-12baee460d17",
   "metadata": {
    "execution": {
     "iopub.execute_input": "2025-07-30T21:37:18.261811Z",
     "iopub.status.busy": "2025-07-30T21:37:18.261358Z",
     "iopub.status.idle": "2025-07-30T21:37:18.267844Z",
     "shell.execute_reply": "2025-07-30T21:37:18.266820Z"
    },
    "papermill": {
     "duration": 0.033531,
     "end_time": "2025-07-30T21:37:18.269397",
     "exception": false,
     "start_time": "2025-07-30T21:37:18.235866",
     "status": "completed"
    },
    "tags": []
   },
   "outputs": [],
   "source": [
    "example_universe = universe.copy()\n",
    "universe_training_year = example_universe.get(\"training_year\")\n",
    "universe_training_size = example_universe.get(\"training_size\")\n",
    "universe_scale = example_universe.get(\"scale\")\n",
    "universe_model = example_universe.get(\"model\")\n",
    "universe_exclude_features = example_universe.get(\"exclude_features\")\n",
    "universe_exclude_subgroups = example_universe.get(\"exclude_subgroups\")"
   ]
  },
  {
   "cell_type": "code",
   "execution_count": 58,
   "id": "f4b6a8ac-9dc0-4245-8a91-5b3b5999c4f9",
   "metadata": {
    "execution": {
     "iopub.execute_input": "2025-07-30T21:37:18.322213Z",
     "iopub.status.busy": "2025-07-30T21:37:18.321251Z",
     "iopub.status.idle": "2025-07-30T21:37:18.328001Z",
     "shell.execute_reply": "2025-07-30T21:37:18.327023Z"
    },
    "papermill": {
     "duration": 0.050721,
     "end_time": "2025-07-30T21:37:18.345802",
     "exception": false,
     "start_time": "2025-07-30T21:37:18.295081",
     "status": "completed"
    },
    "tags": []
   },
   "outputs": [],
   "source": [
    "cp_metrics_dict = {\n",
    "    \"universe_id\": [universe_id],\n",
    "    \"universe_training_year\": [universe_training_year],\n",
    "    \"universe_training_size\": [universe_training_size],\n",
    "    \"universe_scale\": [universe_scale],\n",
    "    \"universe_model\": [universe_model],\n",
    "    \"universe_exclude_features\": [universe_exclude_features],\n",
    "    \"universe_exclude_subgroups\": [universe_exclude_subgroups],\n",
    "    \"q_hat\": [q_hat],\n",
    "    \"coverage\": [metrics[\"coverage\"]],\n",
    "    \"avg_size\": [metrics[\"avg_size\"]],\n",
    "}"
   ]
  },
  {
   "cell_type": "code",
   "execution_count": 59,
   "id": "908acbb1-0371-4915-85ca-3fa520d2efe2",
   "metadata": {
    "execution": {
     "iopub.execute_input": "2025-07-30T21:37:18.397087Z",
     "iopub.status.busy": "2025-07-30T21:37:18.396267Z",
     "iopub.status.idle": "2025-07-30T21:37:18.404981Z",
     "shell.execute_reply": "2025-07-30T21:37:18.403892Z"
    },
    "papermill": {
     "duration": 0.035354,
     "end_time": "2025-07-30T21:37:18.406491",
     "exception": false,
     "start_time": "2025-07-30T21:37:18.371137",
     "status": "completed"
    },
    "tags": []
   },
   "outputs": [
    {
     "data": {
      "text/plain": [
       "{'universe_id': ['8c18a54c433851487ce3cf5dbfd03684'],\n",
       " 'universe_training_year': ['2012_14'],\n",
       " 'universe_training_size': ['1k'],\n",
       " 'universe_scale': ['scale'],\n",
       " 'universe_model': ['elasticnet'],\n",
       " 'universe_exclude_features': ['none'],\n",
       " 'universe_exclude_subgroups': ['drop-non-german'],\n",
       " 'q_hat': [0.8056147687860856],\n",
       " 'coverage': [0.9104001783524691],\n",
       " 'avg_size': [1.2563147921079032]}"
      ]
     },
     "execution_count": 59,
     "metadata": {},
     "output_type": "execute_result"
    }
   ],
   "source": [
    "cp_metrics_dict"
   ]
  },
  {
   "cell_type": "code",
   "execution_count": 60,
   "id": "33007efc-14e9-4ec6-97ac-56a455c82265",
   "metadata": {
    "execution": {
     "iopub.execute_input": "2025-07-30T21:37:18.458072Z",
     "iopub.status.busy": "2025-07-30T21:37:18.457426Z",
     "iopub.status.idle": "2025-07-30T21:37:18.464084Z",
     "shell.execute_reply": "2025-07-30T21:37:18.463040Z"
    },
    "papermill": {
     "duration": 0.033701,
     "end_time": "2025-07-30T21:37:18.465728",
     "exception": false,
     "start_time": "2025-07-30T21:37:18.432027",
     "status": "completed"
    },
    "tags": []
   },
   "outputs": [],
   "source": [
    "cp_metrics_df = pd.DataFrame(cp_metrics_dict)"
   ]
  },
  {
   "cell_type": "code",
   "execution_count": 61,
   "id": "db12611b-57b2-4910-b9d0-355adfd6e7bf",
   "metadata": {
    "execution": {
     "iopub.execute_input": "2025-07-30T21:37:18.517771Z",
     "iopub.status.busy": "2025-07-30T21:37:18.516941Z",
     "iopub.status.idle": "2025-07-30T21:37:18.535868Z",
     "shell.execute_reply": "2025-07-30T21:37:18.534750Z"
    },
    "papermill": {
     "duration": 0.045777,
     "end_time": "2025-07-30T21:37:18.537645",
     "exception": false,
     "start_time": "2025-07-30T21:37:18.491868",
     "status": "completed"
    },
    "tags": []
   },
   "outputs": [
    {
     "data": {
      "text/html": [
       "<div>\n",
       "<style scoped>\n",
       "    .dataframe tbody tr th:only-of-type {\n",
       "        vertical-align: middle;\n",
       "    }\n",
       "\n",
       "    .dataframe tbody tr th {\n",
       "        vertical-align: top;\n",
       "    }\n",
       "\n",
       "    .dataframe thead th {\n",
       "        text-align: right;\n",
       "    }\n",
       "</style>\n",
       "<table border=\"1\" class=\"dataframe\">\n",
       "  <thead>\n",
       "    <tr style=\"text-align: right;\">\n",
       "      <th></th>\n",
       "      <th>universe_id</th>\n",
       "      <th>universe_training_year</th>\n",
       "      <th>universe_training_size</th>\n",
       "      <th>universe_scale</th>\n",
       "      <th>universe_model</th>\n",
       "      <th>universe_exclude_features</th>\n",
       "      <th>universe_exclude_subgroups</th>\n",
       "      <th>q_hat</th>\n",
       "      <th>coverage</th>\n",
       "      <th>avg_size</th>\n",
       "    </tr>\n",
       "  </thead>\n",
       "  <tbody>\n",
       "    <tr>\n",
       "      <th>0</th>\n",
       "      <td>8c18a54c433851487ce3cf5dbfd03684</td>\n",
       "      <td>2012_14</td>\n",
       "      <td>1k</td>\n",
       "      <td>scale</td>\n",
       "      <td>elasticnet</td>\n",
       "      <td>none</td>\n",
       "      <td>drop-non-german</td>\n",
       "      <td>0.805615</td>\n",
       "      <td>0.9104</td>\n",
       "      <td>1.256315</td>\n",
       "    </tr>\n",
       "  </tbody>\n",
       "</table>\n",
       "</div>"
      ],
      "text/plain": [
       "                        universe_id universe_training_year  \\\n",
       "0  8c18a54c433851487ce3cf5dbfd03684                2012_14   \n",
       "\n",
       "  universe_training_size universe_scale universe_model  \\\n",
       "0                     1k          scale     elasticnet   \n",
       "\n",
       "  universe_exclude_features universe_exclude_subgroups     q_hat  coverage  \\\n",
       "0                      none            drop-non-german  0.805615    0.9104   \n",
       "\n",
       "   avg_size  \n",
       "0  1.256315  "
      ]
     },
     "execution_count": 61,
     "metadata": {},
     "output_type": "execute_result"
    }
   ],
   "source": [
    "cp_metrics_df"
   ]
  },
  {
   "cell_type": "code",
   "execution_count": 62,
   "id": "b7fbde55-a0a1-47e4-9af6-fe4a17fa8c61",
   "metadata": {
    "execution": {
     "iopub.execute_input": "2025-07-30T21:37:18.590663Z",
     "iopub.status.busy": "2025-07-30T21:37:18.589887Z",
     "iopub.status.idle": "2025-07-30T21:37:18.595406Z",
     "shell.execute_reply": "2025-07-30T21:37:18.594440Z"
    },
    "papermill": {
     "duration": 0.033648,
     "end_time": "2025-07-30T21:37:18.597384",
     "exception": false,
     "start_time": "2025-07-30T21:37:18.563736",
     "status": "completed"
    },
    "tags": []
   },
   "outputs": [],
   "source": [
    "# Conditional Coverage & looking at subgroups"
   ]
  },
  {
   "cell_type": "code",
   "execution_count": 63,
   "id": "027ae886-68dd-4141-96c7-805a5450e1ef",
   "metadata": {
    "execution": {
     "iopub.execute_input": "2025-07-30T21:37:18.650084Z",
     "iopub.status.busy": "2025-07-30T21:37:18.649436Z",
     "iopub.status.idle": "2025-07-30T21:37:18.911687Z",
     "shell.execute_reply": "2025-07-30T21:37:18.910748Z"
    },
    "papermill": {
     "duration": 0.289926,
     "end_time": "2025-07-30T21:37:18.913554",
     "exception": false,
     "start_time": "2025-07-30T21:37:18.623628",
     "status": "completed"
    },
    "tags": []
   },
   "outputs": [],
   "source": [
    "from fairness_multiverse.conformal import build_cp_groups\n",
    "\n",
    "cp_groups_df = build_cp_groups(pred_sets, y_true, X_test.index, org_test)\n",
    "#needs universe_id and setting"
   ]
  },
  {
   "cell_type": "code",
   "execution_count": 64,
   "id": "01d5802c-663a-4d1f-9d69-e036faaffbf7",
   "metadata": {
    "execution": {
     "iopub.execute_input": "2025-07-30T21:37:18.953504Z",
     "iopub.status.busy": "2025-07-30T21:37:18.953101Z",
     "iopub.status.idle": "2025-07-30T21:37:18.958181Z",
     "shell.execute_reply": "2025-07-30T21:37:18.957101Z"
    },
    "papermill": {
     "duration": 0.020954,
     "end_time": "2025-07-30T21:37:18.960005",
     "exception": false,
     "start_time": "2025-07-30T21:37:18.939051",
     "status": "completed"
    },
    "tags": []
   },
   "outputs": [],
   "source": [
    "#delete\n",
    "#cp_groups_df"
   ]
  },
  {
   "cell_type": "code",
   "execution_count": 65,
   "id": "fa424af1-d1eb-443d-b717-2d279ada8408",
   "metadata": {
    "execution": {
     "iopub.execute_input": "2025-07-30T21:37:19.012225Z",
     "iopub.status.busy": "2025-07-30T21:37:19.011488Z",
     "iopub.status.idle": "2025-07-30T21:37:19.016730Z",
     "shell.execute_reply": "2025-07-30T21:37:19.015733Z"
    },
    "papermill": {
     "duration": 0.033318,
     "end_time": "2025-07-30T21:37:19.018648",
     "exception": false,
     "start_time": "2025-07-30T21:37:18.985330",
     "status": "completed"
    },
    "tags": []
   },
   "outputs": [],
   "source": [
    "#delete\n",
    "#percentage = (cp_groups_df['nongerman_female'] == 1).mean() * 100\n",
    "#print(percentage)\n"
   ]
  },
  {
   "cell_type": "code",
   "execution_count": 66,
   "id": "6cbdab96-b2b2-45af-ad54-d0516db2e28d",
   "metadata": {
    "execution": {
     "iopub.execute_input": "2025-07-30T21:37:19.072026Z",
     "iopub.status.busy": "2025-07-30T21:37:19.071600Z",
     "iopub.status.idle": "2025-07-30T21:37:20.708986Z",
     "shell.execute_reply": "2025-07-30T21:37:20.708102Z"
    },
    "papermill": {
     "duration": 1.665421,
     "end_time": "2025-07-30T21:37:20.710682",
     "exception": false,
     "start_time": "2025-07-30T21:37:19.045261",
     "status": "completed"
    },
    "tags": []
   },
   "outputs": [],
   "source": [
    "# Define covered = 1 if true_label is in the predicted set\n",
    "cp_groups_df['covered'] = cp_groups_df.apply(\n",
    "    lambda r: int(r['true_label'] in r['pred_set']),\n",
    "    axis=1\n",
    ")"
   ]
  },
  {
   "cell_type": "code",
   "execution_count": 67,
   "id": "338ff529-1a6b-4b87-a931-8e4788d52aad",
   "metadata": {
    "execution": {
     "iopub.execute_input": "2025-07-30T21:37:20.770751Z",
     "iopub.status.busy": "2025-07-30T21:37:20.770245Z",
     "iopub.status.idle": "2025-07-30T21:37:20.775164Z",
     "shell.execute_reply": "2025-07-30T21:37:20.774345Z"
    },
    "papermill": {
     "duration": 0.037055,
     "end_time": "2025-07-30T21:37:20.777149",
     "exception": false,
     "start_time": "2025-07-30T21:37:20.740094",
     "status": "completed"
    },
    "tags": []
   },
   "outputs": [],
   "source": [
    "#cp_groups_df"
   ]
  },
  {
   "cell_type": "code",
   "execution_count": 68,
   "id": "90032e27-66df-4540-9169-4e89cfbaa758",
   "metadata": {
    "execution": {
     "iopub.execute_input": "2025-07-30T21:37:20.846157Z",
     "iopub.status.busy": "2025-07-30T21:37:20.845288Z",
     "iopub.status.idle": "2025-07-30T21:37:20.858090Z",
     "shell.execute_reply": "2025-07-30T21:37:20.857163Z"
    },
    "papermill": {
     "duration": 0.047488,
     "end_time": "2025-07-30T21:37:20.859781",
     "exception": false,
     "start_time": "2025-07-30T21:37:20.812293",
     "status": "completed"
    },
    "tags": []
   },
   "outputs": [],
   "source": [
    "subgroups = ['frau1','nongerman','nongerman_male','nongerman_female']\n",
    "\n",
    "# Conditional coverage for subgroup==1\n",
    "cond_coverage = {\n",
    "    g: cp_groups_df.loc[cp_groups_df[g]==1, 'covered'].mean()\n",
    "    for g in subgroups\n",
    "}"
   ]
  },
  {
   "cell_type": "code",
   "execution_count": 69,
   "id": "1e348fb1-b9c3-45bc-ba23-f016827a7e0d",
   "metadata": {
    "execution": {
     "iopub.execute_input": "2025-07-30T21:37:20.913406Z",
     "iopub.status.busy": "2025-07-30T21:37:20.912958Z",
     "iopub.status.idle": "2025-07-30T21:37:20.920219Z",
     "shell.execute_reply": "2025-07-30T21:37:20.919057Z"
    },
    "papermill": {
     "duration": 0.036046,
     "end_time": "2025-07-30T21:37:20.922144",
     "exception": false,
     "start_time": "2025-07-30T21:37:20.886098",
     "status": "completed"
    },
    "tags": []
   },
   "outputs": [
    {
     "data": {
      "text/plain": [
       "{'frau1': 0.9006874241811564,\n",
       " 'nongerman': 0.919272441475327,\n",
       " 'nongerman_male': 0.9374043051427542,\n",
       " 'nongerman_female': 0.8892697466467958}"
      ]
     },
     "execution_count": 69,
     "metadata": {},
     "output_type": "execute_result"
    }
   ],
   "source": [
    "cond_coverage"
   ]
  },
  {
   "cell_type": "code",
   "execution_count": 70,
   "id": "f5093324-c3dd-4d63-bc4c-8d945e5c8bbb",
   "metadata": {
    "execution": {
     "iopub.execute_input": "2025-07-30T21:37:20.976046Z",
     "iopub.status.busy": "2025-07-30T21:37:20.975368Z",
     "iopub.status.idle": "2025-07-30T21:37:20.982662Z",
     "shell.execute_reply": "2025-07-30T21:37:20.981725Z"
    },
    "papermill": {
     "duration": 0.035592,
     "end_time": "2025-07-30T21:37:20.984481",
     "exception": false,
     "start_time": "2025-07-30T21:37:20.948889",
     "status": "completed"
    },
    "tags": []
   },
   "outputs": [],
   "source": [
    "for subgroup, cov in cond_coverage.items():\n",
    "    cp_metrics_df[f\"cov_{subgroup}\"] = cov"
   ]
  },
  {
   "cell_type": "code",
   "execution_count": 71,
   "id": "6e872e10-dbe5-49e8-b554-5030c98ff75d",
   "metadata": {
    "execution": {
     "iopub.execute_input": "2025-07-30T21:37:21.038610Z",
     "iopub.status.busy": "2025-07-30T21:37:21.038153Z",
     "iopub.status.idle": "2025-07-30T21:37:21.058465Z",
     "shell.execute_reply": "2025-07-30T21:37:21.057505Z"
    },
    "papermill": {
     "duration": 0.048431,
     "end_time": "2025-07-30T21:37:21.060216",
     "exception": false,
     "start_time": "2025-07-30T21:37:21.011785",
     "status": "completed"
    },
    "tags": []
   },
   "outputs": [
    {
     "data": {
      "text/html": [
       "<div>\n",
       "<style scoped>\n",
       "    .dataframe tbody tr th:only-of-type {\n",
       "        vertical-align: middle;\n",
       "    }\n",
       "\n",
       "    .dataframe tbody tr th {\n",
       "        vertical-align: top;\n",
       "    }\n",
       "\n",
       "    .dataframe thead th {\n",
       "        text-align: right;\n",
       "    }\n",
       "</style>\n",
       "<table border=\"1\" class=\"dataframe\">\n",
       "  <thead>\n",
       "    <tr style=\"text-align: right;\">\n",
       "      <th></th>\n",
       "      <th>universe_id</th>\n",
       "      <th>universe_training_year</th>\n",
       "      <th>universe_training_size</th>\n",
       "      <th>universe_scale</th>\n",
       "      <th>universe_model</th>\n",
       "      <th>universe_exclude_features</th>\n",
       "      <th>universe_exclude_subgroups</th>\n",
       "      <th>q_hat</th>\n",
       "      <th>coverage</th>\n",
       "      <th>avg_size</th>\n",
       "      <th>cov_frau1</th>\n",
       "      <th>cov_nongerman</th>\n",
       "      <th>cov_nongerman_male</th>\n",
       "      <th>cov_nongerman_female</th>\n",
       "    </tr>\n",
       "  </thead>\n",
       "  <tbody>\n",
       "    <tr>\n",
       "      <th>0</th>\n",
       "      <td>8c18a54c433851487ce3cf5dbfd03684</td>\n",
       "      <td>2012_14</td>\n",
       "      <td>1k</td>\n",
       "      <td>scale</td>\n",
       "      <td>elasticnet</td>\n",
       "      <td>none</td>\n",
       "      <td>drop-non-german</td>\n",
       "      <td>0.805615</td>\n",
       "      <td>0.9104</td>\n",
       "      <td>1.256315</td>\n",
       "      <td>0.900687</td>\n",
       "      <td>0.919272</td>\n",
       "      <td>0.937404</td>\n",
       "      <td>0.88927</td>\n",
       "    </tr>\n",
       "  </tbody>\n",
       "</table>\n",
       "</div>"
      ],
      "text/plain": [
       "                        universe_id universe_training_year  \\\n",
       "0  8c18a54c433851487ce3cf5dbfd03684                2012_14   \n",
       "\n",
       "  universe_training_size universe_scale universe_model  \\\n",
       "0                     1k          scale     elasticnet   \n",
       "\n",
       "  universe_exclude_features universe_exclude_subgroups     q_hat  coverage  \\\n",
       "0                      none            drop-non-german  0.805615    0.9104   \n",
       "\n",
       "   avg_size  cov_frau1  cov_nongerman  cov_nongerman_male  \\\n",
       "0  1.256315   0.900687       0.919272            0.937404   \n",
       "\n",
       "   cov_nongerman_female  \n",
       "0               0.88927  "
      ]
     },
     "execution_count": 71,
     "metadata": {},
     "output_type": "execute_result"
    }
   ],
   "source": [
    "cp_metrics_df"
   ]
  },
  {
   "cell_type": "markdown",
   "id": "33774451",
   "metadata": {
    "papermill": {
     "duration": 0.028785,
     "end_time": "2025-07-30T21:37:21.117098",
     "exception": false,
     "start_time": "2025-07-30T21:37:21.088313",
     "status": "completed"
    },
    "tags": []
   },
   "source": [
    "# (Fairness) Metrics"
   ]
  },
  {
   "cell_type": "code",
   "execution_count": 72,
   "id": "debc5d62",
   "metadata": {
    "execution": {
     "iopub.execute_input": "2025-07-30T21:37:21.175659Z",
     "iopub.status.busy": "2025-07-30T21:37:21.175117Z",
     "iopub.status.idle": "2025-07-30T21:37:21.198440Z",
     "shell.execute_reply": "2025-07-30T21:37:21.197381Z"
    },
    "papermill": {
     "duration": 0.055798,
     "end_time": "2025-07-30T21:37:21.200722",
     "exception": false,
     "start_time": "2025-07-30T21:37:21.144924",
     "status": "completed"
    },
    "tags": []
   },
   "outputs": [],
   "source": [
    "# do I need to include maxdeutsch1.missing?\n",
    "\n",
    "import numpy as np\n",
    "\n",
    "colname_to_bin = \"maxdeutsch1\"\n",
    "majority_value = org_train[colname_to_bin].mode()[0]\n",
    "\n",
    "org_test[\"majmin\"] = np.where(org_test[colname_to_bin] == majority_value, \"majority\", \"minority\")"
   ]
  },
  {
   "cell_type": "code",
   "execution_count": 73,
   "id": "06a50de5",
   "metadata": {
    "execution": {
     "iopub.execute_input": "2025-07-30T21:37:21.259906Z",
     "iopub.status.busy": "2025-07-30T21:37:21.259396Z",
     "iopub.status.idle": "2025-07-30T21:37:24.006412Z",
     "shell.execute_reply": "2025-07-30T21:37:24.005290Z"
    },
    "papermill": {
     "duration": 2.780976,
     "end_time": "2025-07-30T21:37:24.008426",
     "exception": false,
     "start_time": "2025-07-30T21:37:21.227450",
     "status": "completed"
    },
    "tags": []
   },
   "outputs": [],
   "source": [
    "example_universe = universe.copy()\n",
    "example_universe[\"cutoff\"] = example_universe[\"cutoff\"][0]\n",
    "example_universe[\"eval_fairness_grouping\"] = example_universe[\"eval_fairness_grouping\"][0]\n",
    "fairness_dict, metric_frame = universe_analysis.compute_metrics(\n",
    "    example_universe,\n",
    "    y_pred_prob=probs_test,\n",
    "    y_test=y_true,\n",
    "    org_test=org_test,\n",
    ")"
   ]
  },
  {
   "cell_type": "markdown",
   "id": "f95d4e02",
   "metadata": {
    "papermill": {
     "duration": 0.02661,
     "end_time": "2025-07-30T21:37:24.062378",
     "exception": false,
     "start_time": "2025-07-30T21:37:24.035768",
     "status": "completed"
    },
    "tags": []
   },
   "source": [
    "# Overall"
   ]
  },
  {
   "cell_type": "markdown",
   "id": "bdee4871",
   "metadata": {
    "papermill": {
     "duration": 0.027711,
     "end_time": "2025-07-30T21:37:24.117563",
     "exception": false,
     "start_time": "2025-07-30T21:37:24.089852",
     "status": "completed"
    },
    "tags": []
   },
   "source": [
    "Fairness\n",
    "Main fairness target: Equalized Odds. Seems to be a better fit than equal opportunity, since we're not only interested in Y = 1. Seems to be a better fit than demographic parity, since we also care about accuracy, not just equal distribution of preds.\n",
    "\n",
    "Pick column for computation of fairness metrics\n",
    "\n",
    "Performance\n",
    "Overall performance measures, most interesting in relation to the measures split by group below"
   ]
  },
  {
   "cell_type": "code",
   "execution_count": 74,
   "id": "c4e067c6",
   "metadata": {
    "execution": {
     "iopub.execute_input": "2025-07-30T21:37:24.173706Z",
     "iopub.status.busy": "2025-07-30T21:37:24.173175Z",
     "iopub.status.idle": "2025-07-30T21:37:24.182492Z",
     "shell.execute_reply": "2025-07-30T21:37:24.181476Z"
    },
    "papermill": {
     "duration": 0.03908,
     "end_time": "2025-07-30T21:37:24.184085",
     "exception": false,
     "start_time": "2025-07-30T21:37:24.145005",
     "status": "completed"
    },
    "tags": []
   },
   "outputs": [
    {
     "data": {
      "text/plain": [
       "accuracy                   0.217088\n",
       "balanced accuracy          0.532337\n",
       "f1                         0.238620\n",
       "precision                  0.136316\n",
       "false positive rate        0.891704\n",
       "false negative rate        0.043622\n",
       "selection rate             0.900000\n",
       "count                  89710.000000\n",
       "dtype: float64"
      ]
     },
     "execution_count": 74,
     "metadata": {},
     "output_type": "execute_result"
    }
   ],
   "source": [
    "metric_frame.overall"
   ]
  },
  {
   "cell_type": "markdown",
   "id": "e968fe9d",
   "metadata": {
    "papermill": {
     "duration": 0.024828,
     "end_time": "2025-07-30T21:37:24.235773",
     "exception": false,
     "start_time": "2025-07-30T21:37:24.210945",
     "status": "completed"
    },
    "tags": []
   },
   "source": [
    "By Group"
   ]
  },
  {
   "cell_type": "code",
   "execution_count": 75,
   "id": "ec325bce",
   "metadata": {
    "execution": {
     "iopub.execute_input": "2025-07-30T21:37:24.287155Z",
     "iopub.status.busy": "2025-07-30T21:37:24.286683Z",
     "iopub.status.idle": "2025-07-30T21:37:24.302761Z",
     "shell.execute_reply": "2025-07-30T21:37:24.301781Z"
    },
    "papermill": {
     "duration": 0.044287,
     "end_time": "2025-07-30T21:37:24.304867",
     "exception": false,
     "start_time": "2025-07-30T21:37:24.260580",
     "status": "completed"
    },
    "tags": []
   },
   "outputs": [
    {
     "data": {
      "text/html": [
       "<div>\n",
       "<style scoped>\n",
       "    .dataframe tbody tr th:only-of-type {\n",
       "        vertical-align: middle;\n",
       "    }\n",
       "\n",
       "    .dataframe tbody tr th {\n",
       "        vertical-align: top;\n",
       "    }\n",
       "\n",
       "    .dataframe thead th {\n",
       "        text-align: right;\n",
       "    }\n",
       "</style>\n",
       "<table border=\"1\" class=\"dataframe\">\n",
       "  <thead>\n",
       "    <tr style=\"text-align: right;\">\n",
       "      <th></th>\n",
       "      <th>accuracy</th>\n",
       "      <th>balanced accuracy</th>\n",
       "      <th>f1</th>\n",
       "      <th>precision</th>\n",
       "      <th>false positive rate</th>\n",
       "      <th>false negative rate</th>\n",
       "      <th>selection rate</th>\n",
       "      <th>count</th>\n",
       "    </tr>\n",
       "    <tr>\n",
       "      <th>majmin</th>\n",
       "      <th></th>\n",
       "      <th></th>\n",
       "      <th></th>\n",
       "      <th></th>\n",
       "      <th></th>\n",
       "      <th></th>\n",
       "      <th></th>\n",
       "      <th></th>\n",
       "    </tr>\n",
       "  </thead>\n",
       "  <tbody>\n",
       "    <tr>\n",
       "      <th>majority</th>\n",
       "      <td>0.232731</td>\n",
       "      <td>0.537456</td>\n",
       "      <td>0.246864</td>\n",
       "      <td>0.141828</td>\n",
       "      <td>0.876728</td>\n",
       "      <td>0.048359</td>\n",
       "      <td>0.886627</td>\n",
       "      <td>69170.0</td>\n",
       "    </tr>\n",
       "    <tr>\n",
       "      <th>minority</th>\n",
       "      <td>0.164411</td>\n",
       "      <td>0.516744</td>\n",
       "      <td>0.211947</td>\n",
       "      <td>0.118902</td>\n",
       "      <td>0.941173</td>\n",
       "      <td>0.025338</td>\n",
       "      <td>0.945034</td>\n",
       "      <td>20540.0</td>\n",
       "    </tr>\n",
       "  </tbody>\n",
       "</table>\n",
       "</div>"
      ],
      "text/plain": [
       "          accuracy  balanced accuracy        f1  precision  \\\n",
       "majmin                                                       \n",
       "majority  0.232731           0.537456  0.246864   0.141828   \n",
       "minority  0.164411           0.516744  0.211947   0.118902   \n",
       "\n",
       "          false positive rate  false negative rate  selection rate    count  \n",
       "majmin                                                                       \n",
       "majority             0.876728             0.048359        0.886627  69170.0  \n",
       "minority             0.941173             0.025338        0.945034  20540.0  "
      ]
     },
     "execution_count": 75,
     "metadata": {},
     "output_type": "execute_result"
    }
   ],
   "source": [
    "metric_frame.by_group"
   ]
  },
  {
   "cell_type": "code",
   "execution_count": 76,
   "id": "a9ddbe63",
   "metadata": {
    "execution": {
     "iopub.execute_input": "2025-07-30T21:37:24.362871Z",
     "iopub.status.busy": "2025-07-30T21:37:24.362412Z",
     "iopub.status.idle": "2025-07-30T21:37:26.659562Z",
     "shell.execute_reply": "2025-07-30T21:37:26.658670Z"
    },
    "papermill": {
     "duration": 2.328079,
     "end_time": "2025-07-30T21:37:26.661258",
     "exception": false,
     "start_time": "2025-07-30T21:37:24.333179",
     "status": "completed"
    },
    "tags": []
   },
   "outputs": [
    {
     "data": {
      "text/plain": [
       "array([[<Axes: title={'center': 'accuracy'}, xlabel='majmin'>,\n",
       "        <Axes: title={'center': 'balanced accuracy'}, xlabel='majmin'>,\n",
       "        <Axes: title={'center': 'f1'}, xlabel='majmin'>],\n",
       "       [<Axes: title={'center': 'precision'}, xlabel='majmin'>,\n",
       "        <Axes: title={'center': 'false positive rate'}, xlabel='majmin'>,\n",
       "        <Axes: title={'center': 'false negative rate'}, xlabel='majmin'>],\n",
       "       [<Axes: title={'center': 'selection rate'}, xlabel='majmin'>,\n",
       "        <Axes: title={'center': 'count'}, xlabel='majmin'>,\n",
       "        <Axes: xlabel='majmin'>]], dtype=object)"
      ]
     },
     "execution_count": 76,
     "metadata": {},
     "output_type": "execute_result"
    },
    {
     "data": {
      "image/png": "[encoded data removed]",
      "text/plain": [
       "<Figure size 1200x800 with 9 Axes>"
      ]
     },
     "metadata": {},
     "output_type": "display_data"
    }
   ],
   "source": [
    "# In a graphic\n",
    "metric_frame.by_group.plot.bar(\n",
    "    subplots=True,\n",
    "    layout=[3, 3],\n",
    "    legend=False,\n",
    "    figsize=[12, 8],\n",
    "    title=\"Show all metrics\",\n",
    ")"
   ]
  },
  {
   "cell_type": "markdown",
   "id": "f57a0bac",
   "metadata": {
    "papermill": {
     "duration": 0.029832,
     "end_time": "2025-07-30T21:37:26.722960",
     "exception": false,
     "start_time": "2025-07-30T21:37:26.693128",
     "status": "completed"
    },
    "tags": []
   },
   "source": [
    "# Final Output"
   ]
  },
  {
   "cell_type": "code",
   "execution_count": 77,
   "id": "96d280a3",
   "metadata": {
    "execution": {
     "iopub.execute_input": "2025-07-30T21:37:26.783895Z",
     "iopub.status.busy": "2025-07-30T21:37:26.783291Z",
     "iopub.status.idle": "2025-07-30T21:37:26.791059Z",
     "shell.execute_reply": "2025-07-30T21:37:26.790210Z"
    },
    "papermill": {
     "duration": 0.040195,
     "end_time": "2025-07-30T21:37:26.792714",
     "exception": false,
     "start_time": "2025-07-30T21:37:26.752519",
     "status": "completed"
    },
    "tags": []
   },
   "outputs": [
    {
     "data": {
      "text/plain": [
       "4"
      ]
     },
     "execution_count": 77,
     "metadata": {},
     "output_type": "execute_result"
    }
   ],
   "source": [
    "sub_universes = universe_analysis.generate_sub_universes()\n",
    "len(sub_universes)"
   ]
  },
  {
   "cell_type": "code",
   "execution_count": 78,
   "id": "92adf7ba",
   "metadata": {
    "execution": {
     "iopub.execute_input": "2025-07-30T21:37:26.847792Z",
     "iopub.status.busy": "2025-07-30T21:37:26.847437Z",
     "iopub.status.idle": "2025-07-30T21:37:26.852832Z",
     "shell.execute_reply": "2025-07-30T21:37:26.852104Z"
    },
    "papermill": {
     "duration": 0.031687,
     "end_time": "2025-07-30T21:37:26.854300",
     "exception": false,
     "start_time": "2025-07-30T21:37:26.822613",
     "status": "completed"
    },
    "tags": []
   },
   "outputs": [],
   "source": [
    "def filter_sub_universe_data(sub_universe, org_test):\n",
    "    # Keep all rows — no filtering\n",
    "    keep_rows_mask = np.ones(org_test.shape[0], dtype=bool)\n",
    "\n",
    "    print(f\"[INFO] Keeping all rows: {keep_rows_mask.sum()} rows retained.\")\n",
    "    return keep_rows_mask"
   ]
  },
  {
   "cell_type": "code",
   "execution_count": 79,
   "id": "4a759155",
   "metadata": {
    "execution": {
     "iopub.execute_input": "2025-07-30T21:37:26.889385Z",
     "iopub.status.busy": "2025-07-30T21:37:26.888608Z",
     "iopub.status.idle": "2025-07-30T21:37:35.660648Z",
     "shell.execute_reply": "2025-07-30T21:37:35.659575Z"
    },
    "papermill": {
     "duration": 8.791492,
     "end_time": "2025-07-30T21:37:35.662369",
     "exception": false,
     "start_time": "2025-07-30T21:37:26.870877",
     "status": "completed"
    },
    "tags": []
   },
   "outputs": [
    {
     "name": "stdout",
     "output_type": "stream",
     "text": [
      "Stopping execution_time clock.\n",
      "[INFO] Keeping all rows: 89710 rows retained.\n"
     ]
    },
    {
     "name": "stdout",
     "output_type": "stream",
     "text": [
      "[INFO] Keeping all rows: 89710 rows retained.\n"
     ]
    },
    {
     "name": "stdout",
     "output_type": "stream",
     "text": [
      "[INFO] Keeping all rows: 89710 rows retained.\n"
     ]
    },
    {
     "name": "stdout",
     "output_type": "stream",
     "text": [
      "[INFO] Keeping all rows: 89710 rows retained.\n"
     ]
    },
    {
     "data": {
      "text/html": [
       "<div>\n",
       "<style scoped>\n",
       "    .dataframe tbody tr th:only-of-type {\n",
       "        vertical-align: middle;\n",
       "    }\n",
       "\n",
       "    .dataframe tbody tr th {\n",
       "        vertical-align: top;\n",
       "    }\n",
       "\n",
       "    .dataframe thead th {\n",
       "        text-align: right;\n",
       "    }\n",
       "</style>\n",
       "<table border=\"1\" class=\"dataframe\">\n",
       "  <thead>\n",
       "    <tr style=\"text-align: right;\">\n",
       "      <th></th>\n",
       "      <th>run_no</th>\n",
       "      <th>universe_id</th>\n",
       "      <th>universe_settings</th>\n",
       "      <th>execution_time</th>\n",
       "      <th>test_size_n</th>\n",
       "      <th>test_size_frac</th>\n",
       "      <th>fair_main_equalized_odds_difference</th>\n",
       "      <th>fair_main_equalized_odds_ratio</th>\n",
       "      <th>fair_main_demographic_parity_difference</th>\n",
       "      <th>fair_main_demographic_parity_ratio</th>\n",
       "      <th>...</th>\n",
       "      <th>perf_grp_precision_0</th>\n",
       "      <th>perf_grp_precision_1</th>\n",
       "      <th>perf_grp_false positive rate_0</th>\n",
       "      <th>perf_grp_false positive rate_1</th>\n",
       "      <th>perf_grp_false negative rate_0</th>\n",
       "      <th>perf_grp_false negative rate_1</th>\n",
       "      <th>perf_grp_selection rate_0</th>\n",
       "      <th>perf_grp_selection rate_1</th>\n",
       "      <th>perf_grp_count_0</th>\n",
       "      <th>perf_grp_count_1</th>\n",
       "    </tr>\n",
       "  </thead>\n",
       "  <tbody>\n",
       "    <tr>\n",
       "      <th>0</th>\n",
       "      <td>14</td>\n",
       "      <td>8c18a54c433851487ce3cf5dbfd03684</td>\n",
       "      <td>{\"cutoff\": \"quantile_0.1\", \"eval_fairness_grou...</td>\n",
       "      <td>30.563882</td>\n",
       "      <td>89710</td>\n",
       "      <td>1.0</td>\n",
       "      <td>0.064445</td>\n",
       "      <td>0.931527</td>\n",
       "      <td>0.058407</td>\n",
       "      <td>0.938196</td>\n",
       "      <td>...</td>\n",
       "      <td>NaN</td>\n",
       "      <td>NaN</td>\n",
       "      <td>NaN</td>\n",
       "      <td>NaN</td>\n",
       "      <td>NaN</td>\n",
       "      <td>NaN</td>\n",
       "      <td>NaN</td>\n",
       "      <td>NaN</td>\n",
       "      <td>NaN</td>\n",
       "      <td>NaN</td>\n",
       "    </tr>\n",
       "    <tr>\n",
       "      <th>0</th>\n",
       "      <td>14</td>\n",
       "      <td>8c18a54c433851487ce3cf5dbfd03684</td>\n",
       "      <td>{\"cutoff\": \"quantile_0.1\", \"eval_fairness_grou...</td>\n",
       "      <td>30.563882</td>\n",
       "      <td>89710</td>\n",
       "      <td>1.0</td>\n",
       "      <td>0.064445</td>\n",
       "      <td>0.931527</td>\n",
       "      <td>0.058407</td>\n",
       "      <td>0.938196</td>\n",
       "      <td>...</td>\n",
       "      <td>0.118902</td>\n",
       "      <td>0.141828</td>\n",
       "      <td>0.941173</td>\n",
       "      <td>0.876728</td>\n",
       "      <td>0.025338</td>\n",
       "      <td>0.048359</td>\n",
       "      <td>0.945034</td>\n",
       "      <td>0.886627</td>\n",
       "      <td>20540.0</td>\n",
       "      <td>69170.0</td>\n",
       "    </tr>\n",
       "    <tr>\n",
       "      <th>0</th>\n",
       "      <td>14</td>\n",
       "      <td>8c18a54c433851487ce3cf5dbfd03684</td>\n",
       "      <td>{\"cutoff\": \"quantile_0.25\", \"eval_fairness_gro...</td>\n",
       "      <td>30.563882</td>\n",
       "      <td>89710</td>\n",
       "      <td>1.0</td>\n",
       "      <td>0.152511</td>\n",
       "      <td>0.820166</td>\n",
       "      <td>0.139489</td>\n",
       "      <td>0.837339</td>\n",
       "      <td>...</td>\n",
       "      <td>NaN</td>\n",
       "      <td>NaN</td>\n",
       "      <td>NaN</td>\n",
       "      <td>NaN</td>\n",
       "      <td>NaN</td>\n",
       "      <td>NaN</td>\n",
       "      <td>NaN</td>\n",
       "      <td>NaN</td>\n",
       "      <td>NaN</td>\n",
       "      <td>NaN</td>\n",
       "    </tr>\n",
       "    <tr>\n",
       "      <th>0</th>\n",
       "      <td>14</td>\n",
       "      <td>8c18a54c433851487ce3cf5dbfd03684</td>\n",
       "      <td>{\"cutoff\": \"quantile_0.25\", \"eval_fairness_gro...</td>\n",
       "      <td>30.563882</td>\n",
       "      <td>89710</td>\n",
       "      <td>1.0</td>\n",
       "      <td>0.152511</td>\n",
       "      <td>0.820166</td>\n",
       "      <td>0.139489</td>\n",
       "      <td>0.837339</td>\n",
       "      <td>...</td>\n",
       "      <td>0.125071</td>\n",
       "      <td>0.159338</td>\n",
       "      <td>0.848063</td>\n",
       "      <td>0.695552</td>\n",
       "      <td>0.069679</td>\n",
       "      <td>0.134136</td>\n",
       "      <td>0.857546</td>\n",
       "      <td>0.718057</td>\n",
       "      <td>20540.0</td>\n",
       "      <td>69170.0</td>\n",
       "    </tr>\n",
       "  </tbody>\n",
       "</table>\n",
       "<p>4 rows × 50 columns</p>\n",
       "</div>"
      ],
      "text/plain": [
       "  run_no                       universe_id  \\\n",
       "0     14  8c18a54c433851487ce3cf5dbfd03684   \n",
       "0     14  8c18a54c433851487ce3cf5dbfd03684   \n",
       "0     14  8c18a54c433851487ce3cf5dbfd03684   \n",
       "0     14  8c18a54c433851487ce3cf5dbfd03684   \n",
       "\n",
       "                                   universe_settings  execution_time  \\\n",
       "0  {\"cutoff\": \"quantile_0.1\", \"eval_fairness_grou...       30.563882   \n",
       "0  {\"cutoff\": \"quantile_0.1\", \"eval_fairness_grou...       30.563882   \n",
       "0  {\"cutoff\": \"quantile_0.25\", \"eval_fairness_gro...       30.563882   \n",
       "0  {\"cutoff\": \"quantile_0.25\", \"eval_fairness_gro...       30.563882   \n",
       "\n",
       "   test_size_n  test_size_frac  fair_main_equalized_odds_difference  \\\n",
       "0        89710             1.0                             0.064445   \n",
       "0        89710             1.0                             0.064445   \n",
       "0        89710             1.0                             0.152511   \n",
       "0        89710             1.0                             0.152511   \n",
       "\n",
       "   fair_main_equalized_odds_ratio  fair_main_demographic_parity_difference  \\\n",
       "0                        0.931527                                 0.058407   \n",
       "0                        0.931527                                 0.058407   \n",
       "0                        0.820166                                 0.139489   \n",
       "0                        0.820166                                 0.139489   \n",
       "\n",
       "   fair_main_demographic_parity_ratio  ...  perf_grp_precision_0  \\\n",
       "0                            0.938196  ...                   NaN   \n",
       "0                            0.938196  ...              0.118902   \n",
       "0                            0.837339  ...                   NaN   \n",
       "0                            0.837339  ...              0.125071   \n",
       "\n",
       "   perf_grp_precision_1  perf_grp_false positive rate_0  \\\n",
       "0                   NaN                             NaN   \n",
       "0              0.141828                        0.941173   \n",
       "0                   NaN                             NaN   \n",
       "0              0.159338                        0.848063   \n",
       "\n",
       "   perf_grp_false positive rate_1  perf_grp_false negative rate_0  \\\n",
       "0                             NaN                             NaN   \n",
       "0                        0.876728                        0.025338   \n",
       "0                             NaN                             NaN   \n",
       "0                        0.695552                        0.069679   \n",
       "\n",
       "   perf_grp_false negative rate_1  perf_grp_selection rate_0  \\\n",
       "0                             NaN                        NaN   \n",
       "0                        0.048359                   0.945034   \n",
       "0                             NaN                        NaN   \n",
       "0                        0.134136                   0.857546   \n",
       "\n",
       "   perf_grp_selection rate_1  perf_grp_count_0  perf_grp_count_1  \n",
       "0                        NaN               NaN               NaN  \n",
       "0                   0.886627           20540.0           69170.0  \n",
       "0                        NaN               NaN               NaN  \n",
       "0                   0.718057           20540.0           69170.0  \n",
       "\n",
       "[4 rows x 50 columns]"
      ]
     },
     "execution_count": 79,
     "metadata": {},
     "output_type": "execute_result"
    }
   ],
   "source": [
    "final_output = universe_analysis.generate_final_output(\n",
    "    y_pred_prob=probs_test,\n",
    "    y_test=y_true,\n",
    "    org_test=org_test,\n",
    "    filter_data=filter_sub_universe_data,\n",
    "    cp_metrics_df=cp_metrics_df,\n",
    "    save=True,\n",
    ")\n",
    "final_output"
   ]
  },
  {
   "cell_type": "code",
   "execution_count": null,
   "id": "721ff514-cb11-46f8-b6fc-50392f74b5cb",
   "metadata": {
    "papermill": {
     "duration": 0.029875,
     "end_time": "2025-07-30T21:37:35.724016",
     "exception": false,
     "start_time": "2025-07-30T21:37:35.694141",
     "status": "completed"
    },
    "tags": []
   },
   "outputs": [],
   "source": []
  }
 ],
 "metadata": {
  "celltoolbar": "Tags",
  "kernelspec": {
   "display_name": "Python (CMA Fairness)",
   "language": "python",
   "name": "cma_fair_env"
  },
  "language_info": {
   "codemirror_mode": {
    "name": "ipython",
    "version": 3
   },
   "file_extension": ".py",
   "mimetype": "text/x-python",
   "name": "python",
   "nbconvert_exporter": "python",
   "pygments_lexer": "ipython3",
   "version": "3.10.12"
  },
  "papermill": {
   "default_parameters": {},
   "duration": 43.576895,
   "end_time": "2025-07-30T21:37:36.574650",
   "environment_variables": {},
   "exception": null,
   "input_path": "universe_analysis.ipynb",
   "output_path": "output/runs/14/notebooks/m_14-8c18a54c433851487ce3cf5dbfd03684.ipynb",
   "parameters": {
    "output_dir": "output",
    "run_no": "14",
    "seed": "2023",
    "universe": "{\"cutoff\": [\"quantile_0.1\", \"quantile_0.25\"], \"eval_fairness_grouping\": [\"majority-minority\", \"nationality-all\"], \"exclude_features\": \"none\", \"exclude_subgroups\": \"drop-non-german\", \"model\": \"elasticnet\", \"scale\": \"scale\", \"training_size\": \"1k\", \"training_year\": \"2012_14\"}",
    "universe_id": "8c18a54c433851487ce3cf5dbfd03684"
   },
   "start_time": "2025-07-30T21:36:52.997755",
   "version": "2.6.0"
  }
 },
 "nbformat": 4,
 "nbformat_minor": 5
}