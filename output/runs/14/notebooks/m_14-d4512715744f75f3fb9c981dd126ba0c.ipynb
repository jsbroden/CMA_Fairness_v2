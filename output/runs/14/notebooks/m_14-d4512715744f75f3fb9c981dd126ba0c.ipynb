{
 "cells": [
  {
   "cell_type": "code",
   "execution_count": 1,
   "id": "f159f837-637b-42ba-96b5-ec9a68c44524",
   "metadata": {
    "execution": {
     "iopub.execute_input": "2025-07-30T21:03:25.767051Z",
     "iopub.status.busy": "2025-07-30T21:03:25.766521Z",
     "iopub.status.idle": "2025-07-30T21:03:25.782999Z",
     "shell.execute_reply": "2025-07-30T21:03:25.781765Z"
    },
    "papermill": {
     "duration": 0.050043,
     "end_time": "2025-07-30T21:03:25.785398",
     "exception": false,
     "start_time": "2025-07-30T21:03:25.735355",
     "status": "completed"
    },
    "tags": []
   },
   "outputs": [
    {
     "name": "stdout",
     "output_type": "stream",
     "text": [
      "/dss/dsshome1/0C/ra93lal2/cma/CMA_Fairness_v2\n"
     ]
    },
    {
     "name": "stderr",
     "output_type": "stream",
     "text": [
      "/dss/dsshome1/0C/ra93lal2/.local/share/virtualenvs/CMA_Fairness_v2-3j10GkSs/lib/python3.10/site-packages/IPython/core/magics/osm.py:393: UserWarning: This is now an optional IPython functionality, using bookmarks requires you to install the `pickleshare` library.\n",
      "  bkms = self.shell.db.get('bookmarks', {})\n",
      "/dss/dsshome1/0C/ra93lal2/.local/share/virtualenvs/CMA_Fairness_v2-3j10GkSs/lib/python3.10/site-packages/IPython/core/magics/osm.py:417: UserWarning: This is now an optional IPython functionality, setting dhist requires you to install the `pickleshare` library.\n",
      "  self.shell.db['dhist'] = compress_dhist(dhist)[-100:]\n"
     ]
    }
   ],
   "source": [
    "%cd ~/cma/CMA_Fairness_v2"
   ]
  },
  {
   "cell_type": "markdown",
   "id": "de2603b9",
   "metadata": {
    "papermill": {
     "duration": 0.030152,
     "end_time": "2025-07-30T21:03:25.846119",
     "exception": false,
     "start_time": "2025-07-30T21:03:25.815967",
     "status": "completed"
    },
    "tags": []
   },
   "source": [
    "The following cell holds the definition of our parameters, these values can be overriden by rendering the with e.g. the following command:\n",
    "\n",
    "papermill -p alpha 0.2 -p ratio 0.3 universe_analysis.ipynb output/test_run.ipynb"
   ]
  },
  {
   "cell_type": "code",
   "execution_count": 2,
   "id": "a80968a0-40bb-4fa9-85ef-2d5eefb01975",
   "metadata": {
    "execution": {
     "iopub.execute_input": "2025-07-30T21:03:25.910133Z",
     "iopub.status.busy": "2025-07-30T21:03:25.909339Z",
     "iopub.status.idle": "2025-07-30T21:03:25.916201Z",
     "shell.execute_reply": "2025-07-30T21:03:25.914856Z"
    },
    "papermill": {
     "duration": 0.041078,
     "end_time": "2025-07-30T21:03:25.918577",
     "exception": false,
     "start_time": "2025-07-30T21:03:25.877499",
     "status": "completed"
    },
    "tags": []
   },
   "outputs": [
    {
     "name": "stdout",
     "output_type": "stream",
     "text": [
      "Current working directory: /dss/dsshome1/0C/ra93lal2/cma/CMA_Fairness_v2\n"
     ]
    }
   ],
   "source": [
    "import os\n",
    "print(\"Current working directory:\", os.getcwd())"
   ]
  },
  {
   "cell_type": "code",
   "execution_count": 3,
   "id": "2dce4c03",
   "metadata": {
    "execution": {
     "iopub.execute_input": "2025-07-30T21:03:25.963813Z",
     "iopub.status.busy": "2025-07-30T21:03:25.963137Z",
     "iopub.status.idle": "2025-07-30T21:03:25.970116Z",
     "shell.execute_reply": "2025-07-30T21:03:25.969108Z"
    },
    "papermill": {
     "duration": 0.036355,
     "end_time": "2025-07-30T21:03:25.978622",
     "exception": false,
     "start_time": "2025-07-30T21:03:25.942267",
     "status": "completed"
    },
    "tags": [
     "parameters"
    ]
   },
   "outputs": [],
   "source": [
    "run_no = 0\n",
    "universe_id = \"test\"\n",
    "universe = {\n",
    "    \"training_size\": \"25k\", # \"25k\", \"5k\", \"1k\"\n",
    "    \"training_year\": \"2014\", # \"2014\", \"2012_14\", \"2010_14\"\n",
    "    \"scale\": \"scale\", # \"scale\", \"do-not-scale\",\n",
    "    #\"stratify_split\": \"target\", # \"none\", \"target\", \"protected-attribute\", \"both\",\n",
    "    \"model\": \"elasticnet\", # \"logreg\", \"penalized_logreg\", \"rf\", \"gbm\", \"elasticnet\"\n",
    "    \"cutoff\": [\"quantile_0.15\", \"quantile_0.30\"],\n",
    "    \"exclude_features\": \"age\", # \"none\", \"nationality\", \"sex\", \"nationality-sex\", \"age\"\n",
    "    \"exclude_subgroups\": \"keep-all\", # \"keep-all\", \"drop-non-german\"\n",
    "    \"eval_fairness_grouping\": [\"majority-minority\", \"nationality-all\"]\n",
    "}\n",
    "\n",
    "output_dir=\"./output\"\n",
    "seed=0"
   ]
  },
  {
   "cell_type": "code",
   "execution_count": 4,
   "id": "791a33e8",
   "metadata": {
    "execution": {
     "iopub.execute_input": "2025-07-30T21:03:26.020538Z",
     "iopub.status.busy": "2025-07-30T21:03:26.019962Z",
     "iopub.status.idle": "2025-07-30T21:03:26.025976Z",
     "shell.execute_reply": "2025-07-30T21:03:26.024928Z"
    },
    "papermill": {
     "duration": 0.030971,
     "end_time": "2025-07-30T21:03:26.027768",
     "exception": false,
     "start_time": "2025-07-30T21:03:25.996797",
     "status": "completed"
    },
    "tags": [
     "injected-parameters"
    ]
   },
   "outputs": [],
   "source": [
    "# Parameters\n",
    "universe_id = \"d4512715744f75f3fb9c981dd126ba0c\"\n",
    "run_no = \"14\"\n",
    "universe = \"{\\\"cutoff\\\": [\\\"quantile_0.1\\\", \\\"quantile_0.25\\\"], \\\"eval_fairness_grouping\\\": [\\\"majority-minority\\\", \\\"nationality-all\\\"], \\\"exclude_features\\\": \\\"age\\\", \\\"exclude_subgroups\\\": \\\"drop-non-german\\\", \\\"model\\\": \\\"logreg\\\", \\\"scale\\\": \\\"do-not-scale\\\", \\\"training_size\\\": \\\"5k\\\", \\\"training_year\\\": \\\"2012_14\\\"}\"\n",
    "output_dir = \"output\"\n",
    "seed = \"2023\"\n"
   ]
  },
  {
   "cell_type": "code",
   "execution_count": 5,
   "id": "1650acaf",
   "metadata": {
    "execution": {
     "iopub.execute_input": "2025-07-30T21:03:26.075496Z",
     "iopub.status.busy": "2025-07-30T21:03:26.075013Z",
     "iopub.status.idle": "2025-07-30T21:03:26.080197Z",
     "shell.execute_reply": "2025-07-30T21:03:26.079159Z"
    },
    "papermill": {
     "duration": 0.030728,
     "end_time": "2025-07-30T21:03:26.082122",
     "exception": false,
     "start_time": "2025-07-30T21:03:26.051394",
     "status": "completed"
    },
    "tags": []
   },
   "outputs": [],
   "source": [
    "import json\n",
    "# Parse universe into dict if it is passed as a string\n",
    "if isinstance(universe, str):\n",
    "    universe = json.loads(universe)"
   ]
  },
  {
   "cell_type": "code",
   "execution_count": 6,
   "id": "16620c48",
   "metadata": {
    "execution": {
     "iopub.execute_input": "2025-07-30T21:03:26.127929Z",
     "iopub.status.busy": "2025-07-30T21:03:26.127160Z",
     "iopub.status.idle": "2025-07-30T21:03:26.179010Z",
     "shell.execute_reply": "2025-07-30T21:03:26.177936Z"
    },
    "papermill": {
     "duration": 0.076408,
     "end_time": "2025-07-30T21:03:26.181132",
     "exception": false,
     "start_time": "2025-07-30T21:03:26.104724",
     "status": "completed"
    },
    "tags": []
   },
   "outputs": [],
   "source": [
    "# Auto-reload the custom package\n",
    "%load_ext autoreload\n",
    "%autoreload 1\n",
    "%aimport fairness_multiverse"
   ]
  },
  {
   "cell_type": "code",
   "execution_count": 7,
   "id": "01c5c9f3",
   "metadata": {
    "execution": {
     "iopub.execute_input": "2025-07-30T21:03:26.229351Z",
     "iopub.status.busy": "2025-07-30T21:03:26.228294Z",
     "iopub.status.idle": "2025-07-30T21:03:28.085102Z",
     "shell.execute_reply": "2025-07-30T21:03:28.084119Z"
    },
    "papermill": {
     "duration": 1.881958,
     "end_time": "2025-07-30T21:03:28.086863",
     "exception": false,
     "start_time": "2025-07-30T21:03:26.204905",
     "status": "completed"
    },
    "tags": []
   },
   "outputs": [],
   "source": [
    "from fairness_multiverse.universe import UniverseAnalysis\n",
    "\n",
    "universe_analysis = UniverseAnalysis(\n",
    "    run_no = run_no,\n",
    "    universe_id = universe_id,\n",
    "    universe = universe,\n",
    "    output_dir=output_dir,\n",
    ")"
   ]
  },
  {
   "cell_type": "code",
   "execution_count": 8,
   "id": "106241f5",
   "metadata": {
    "execution": {
     "iopub.execute_input": "2025-07-30T21:03:28.128930Z",
     "iopub.status.busy": "2025-07-30T21:03:28.128468Z",
     "iopub.status.idle": "2025-07-30T21:03:28.135969Z",
     "shell.execute_reply": "2025-07-30T21:03:28.134927Z"
    },
    "papermill": {
     "duration": 0.031282,
     "end_time": "2025-07-30T21:03:28.138142",
     "exception": false,
     "start_time": "2025-07-30T21:03:28.106860",
     "status": "completed"
    },
    "tags": []
   },
   "outputs": [
    {
     "name": "stdout",
     "output_type": "stream",
     "text": [
      "Using Seed: 2023\n"
     ]
    }
   ],
   "source": [
    "import numpy as np\n",
    "parsed_seed = int(seed)\n",
    "np.random.seed(parsed_seed)\n",
    "print(f\"Using Seed: {parsed_seed}\")"
   ]
  },
  {
   "cell_type": "markdown",
   "id": "e0ebdc57",
   "metadata": {
    "papermill": {
     "duration": 0.022673,
     "end_time": "2025-07-30T21:03:28.183896",
     "exception": false,
     "start_time": "2025-07-30T21:03:28.161223",
     "status": "completed"
    },
    "tags": []
   },
   "source": [
    "# Loading Data"
   ]
  },
  {
   "cell_type": "markdown",
   "id": "681925a3",
   "metadata": {
    "papermill": {
     "duration": 0.017016,
     "end_time": "2025-07-30T21:03:28.222654",
     "exception": false,
     "start_time": "2025-07-30T21:03:28.205638",
     "status": "completed"
    },
    "tags": []
   },
   "source": [
    "Load siab_train, siab_test, siab_calib and/or \n",
    "load siab_train_features, siab_train_labels"
   ]
  },
  {
   "cell_type": "code",
   "execution_count": 9,
   "id": "f0496b8a",
   "metadata": {
    "execution": {
     "iopub.execute_input": "2025-07-30T21:03:28.271374Z",
     "iopub.status.busy": "2025-07-30T21:03:28.270485Z",
     "iopub.status.idle": "2025-07-30T21:03:39.866203Z",
     "shell.execute_reply": "2025-07-30T21:03:39.864719Z"
    },
    "papermill": {
     "duration": 11.622995,
     "end_time": "2025-07-30T21:03:39.868068",
     "exception": false,
     "start_time": "2025-07-30T21:03:28.245073",
     "status": "completed"
    },
    "tags": []
   },
   "outputs": [
    {
     "name": "stdout",
     "output_type": "stream",
     "text": [
      "Loading SIAB data from cache: data/siab_cached.csv.gz\n"
     ]
    },
    {
     "name": "stdout",
     "output_type": "stream",
     "text": [
      "(643690, 164)\n"
     ]
    }
   ],
   "source": [
    "from pathlib import Path\n",
    "import pandas as pd\n",
    "\n",
    "# File paths\n",
    "raw_file = Path(\"data/raw/siab.csv\")\n",
    "cache_file = Path(\"data/siab_cached.csv.gz\")\n",
    "\n",
    "# Ensure cache directory exists\n",
    "cache_file.parent.mkdir(parents=True, exist_ok=True)\n",
    "\n",
    "# Load with simple caching\n",
    "if cache_file.exists():\n",
    "    print(f\"Loading SIAB data from cache: {cache_file}\")\n",
    "    siab = pd.read_csv(cache_file, compression='gzip')\n",
    "else:\n",
    "    print(f\"Cache not found. Reading raw SIAB data: {raw_file}\")\n",
    "    siab = pd.read_csv(raw_file)\n",
    "    siab.to_csv(cache_file, index=False, compression='gzip')\n",
    "    print(f\"Cached SIAB data to: {cache_file}\")\n",
    "\n",
    "# Now use `siab` DataFrame as needed\n",
    "print(siab.shape)"
   ]
  },
  {
   "cell_type": "code",
   "execution_count": 10,
   "id": "db0ca512-5f53-4dba-abdb-a2888bca41ba",
   "metadata": {
    "execution": {
     "iopub.execute_input": "2025-07-30T21:03:39.919529Z",
     "iopub.status.busy": "2025-07-30T21:03:39.919128Z",
     "iopub.status.idle": "2025-07-30T21:03:39.923762Z",
     "shell.execute_reply": "2025-07-30T21:03:39.923046Z"
    },
    "papermill": {
     "duration": 0.030319,
     "end_time": "2025-07-30T21:03:39.925610",
     "exception": false,
     "start_time": "2025-07-30T21:03:39.895291",
     "status": "completed"
    },
    "tags": []
   },
   "outputs": [],
   "source": [
    "#siab"
   ]
  },
  {
   "cell_type": "code",
   "execution_count": 11,
   "id": "a0edb063",
   "metadata": {
    "execution": {
     "iopub.execute_input": "2025-07-30T21:03:39.974906Z",
     "iopub.status.busy": "2025-07-30T21:03:39.974460Z",
     "iopub.status.idle": "2025-07-30T21:03:39.979351Z",
     "shell.execute_reply": "2025-07-30T21:03:39.978363Z"
    },
    "papermill": {
     "duration": 0.030564,
     "end_time": "2025-07-30T21:03:39.980568",
     "exception": false,
     "start_time": "2025-07-30T21:03:39.950004",
     "status": "completed"
    },
    "tags": []
   },
   "outputs": [],
   "source": [
    "#import pandas as pd\n",
    "#\n",
    "#X_train = pd.read_csv(\"./data/X_train.csv\")\n",
    "#y_train = pd.read_csv(\"./data/y_train.csv\")"
   ]
  },
  {
   "cell_type": "code",
   "execution_count": 12,
   "id": "63d08085",
   "metadata": {
    "execution": {
     "iopub.execute_input": "2025-07-30T21:03:40.017142Z",
     "iopub.status.busy": "2025-07-30T21:03:40.016656Z",
     "iopub.status.idle": "2025-07-30T21:03:40.021635Z",
     "shell.execute_reply": "2025-07-30T21:03:40.020601Z"
    },
    "papermill": {
     "duration": 0.03183,
     "end_time": "2025-07-30T21:03:40.023771",
     "exception": false,
     "start_time": "2025-07-30T21:03:39.991941",
     "status": "completed"
    },
    "tags": []
   },
   "outputs": [],
   "source": [
    "#X_test = pd.read_csv(\"./data/X_test.csv\")\n",
    "#y_true = pd.read_csv(\"./data/y_test.csv\")"
   ]
  },
  {
   "cell_type": "code",
   "execution_count": 13,
   "id": "98a8d0fa-1d3d-4ed8-bb2c-281470e24add",
   "metadata": {
    "execution": {
     "iopub.execute_input": "2025-07-30T21:03:40.073515Z",
     "iopub.status.busy": "2025-07-30T21:03:40.073061Z",
     "iopub.status.idle": "2025-07-30T21:03:40.077929Z",
     "shell.execute_reply": "2025-07-30T21:03:40.077055Z"
    },
    "papermill": {
     "duration": 0.031234,
     "end_time": "2025-07-30T21:03:40.079642",
     "exception": false,
     "start_time": "2025-07-30T21:03:40.048408",
     "status": "completed"
    },
    "tags": []
   },
   "outputs": [],
   "source": [
    "# Calibration data for conformal\n",
    "#X_calib = pd.read_csv(\"./data/X_calib.csv\")\n",
    "#y_calib = pd.read_csv(\"./data/y_calib.csv\")"
   ]
  },
  {
   "cell_type": "markdown",
   "id": "997051c5-15bd-4b69-9786-c3001a3ce484",
   "metadata": {
    "papermill": {
     "duration": 0.029374,
     "end_time": "2025-07-30T21:03:40.122738",
     "exception": false,
     "start_time": "2025-07-30T21:03:40.093364",
     "status": "completed"
    },
    "tags": []
   },
   "source": [
    "# Splitting Data and Setting Training Data Size"
   ]
  },
  {
   "cell_type": "code",
   "execution_count": 14,
   "id": "e993b61f-042d-41a6-8c81-f55681f86335",
   "metadata": {
    "execution": {
     "iopub.execute_input": "2025-07-30T21:03:40.159651Z",
     "iopub.status.busy": "2025-07-30T21:03:40.159228Z",
     "iopub.status.idle": "2025-07-30T21:03:40.170334Z",
     "shell.execute_reply": "2025-07-30T21:03:40.169614Z"
    },
    "papermill": {
     "duration": 0.024996,
     "end_time": "2025-07-30T21:03:40.171714",
     "exception": false,
     "start_time": "2025-07-30T21:03:40.146718",
     "status": "completed"
    },
    "tags": []
   },
   "outputs": [],
   "source": [
    "def sample_by_year_size(df,\n",
    "                        training_year: str,\n",
    "                        training_size: str,\n",
    "                        random_state: int = 42):\n",
    "    # --- parse training_year into a list of int years ---\n",
    "    if \"_\" in training_year:\n",
    "        start_str, end_str = training_year.split(\"_\", 1)\n",
    "        start = int(start_str)\n",
    "        end   = int(end_str) if len(end_str) == 4 else (int(end_str) + (start // 100)*100)\n",
    "        years = list(range(start, end + 1))\n",
    "    else:\n",
    "        years = [int(training_year)]\n",
    "\n",
    "    df = df[df[\"year\"].isin(years)].reset_index(drop=True)\n",
    "\n",
    "    # --- map training_size to total number of samples ---\n",
    "    total_map = {\"25k\": 25_000, \"5k\": 5_000, \"1k\": 1_000}\n",
    "    if training_size not in total_map:\n",
    "        return df  # e.g. \"all\"\n",
    "\n",
    "    total_samples = total_map[training_size]\n",
    "    n_years       = len(years)\n",
    "    base          = total_samples // n_years\n",
    "    remainder     = total_samples % n_years\n",
    "\n",
    "    # --- build a dict: year -> how many to sample ---\n",
    "    # give +1 to the first `remainder` years in ascending order\n",
    "    quotas = {\n",
    "        year: base + (1 if idx < remainder else 0)\n",
    "        for idx, year in enumerate(sorted(years))\n",
    "    }\n",
    "\n",
    "    # --- sample per‐year according to the quota dict ---\n",
    "    sampled = (\n",
    "        df\n",
    "        .groupby(\"year\", group_keys=False)\n",
    "        .apply(lambda grp: grp.sample(\n",
    "            n=min(len(grp), quotas[grp.name]),\n",
    "            random_state=random_state))\n",
    "        .reset_index(drop=True)\n",
    "    )\n",
    "\n",
    "    return sampled"
   ]
  },
  {
   "cell_type": "code",
   "execution_count": 15,
   "id": "c0ccd338-0e02-41f3-a09d-f56f9266e3fb",
   "metadata": {
    "execution": {
     "iopub.execute_input": "2025-07-30T21:03:40.206798Z",
     "iopub.status.busy": "2025-07-30T21:03:40.206485Z",
     "iopub.status.idle": "2025-07-30T21:03:40.211524Z",
     "shell.execute_reply": "2025-07-30T21:03:40.210384Z"
    },
    "papermill": {
     "duration": 0.020654,
     "end_time": "2025-07-30T21:03:40.213394",
     "exception": false,
     "start_time": "2025-07-30T21:03:40.192740",
     "status": "completed"
    },
    "tags": []
   },
   "outputs": [],
   "source": [
    "#universe[\"training_size\"]"
   ]
  },
  {
   "cell_type": "code",
   "execution_count": 16,
   "id": "ca707fd7-8047-4acd-bfa5-66248fbbf8e6",
   "metadata": {
    "execution": {
     "iopub.execute_input": "2025-07-30T21:03:40.240413Z",
     "iopub.status.busy": "2025-07-30T21:03:40.240017Z",
     "iopub.status.idle": "2025-07-30T21:03:40.245562Z",
     "shell.execute_reply": "2025-07-30T21:03:40.244479Z"
    },
    "papermill": {
     "duration": 0.021421,
     "end_time": "2025-07-30T21:03:40.247289",
     "exception": false,
     "start_time": "2025-07-30T21:03:40.225868",
     "status": "completed"
    },
    "tags": []
   },
   "outputs": [],
   "source": [
    "#universe[\"training_year\"]"
   ]
  },
  {
   "cell_type": "code",
   "execution_count": 17,
   "id": "aea9c6ef-6f46-42c8-85eb-5a62025c1508",
   "metadata": {
    "execution": {
     "iopub.execute_input": "2025-07-30T21:03:40.294744Z",
     "iopub.status.busy": "2025-07-30T21:03:40.293570Z",
     "iopub.status.idle": "2025-07-30T21:03:40.915990Z",
     "shell.execute_reply": "2025-07-30T21:03:40.915043Z"
    },
    "papermill": {
     "duration": 0.648394,
     "end_time": "2025-07-30T21:03:40.917944",
     "exception": false,
     "start_time": "2025-07-30T21:03:40.269550",
     "status": "completed"
    },
    "tags": []
   },
   "outputs": [],
   "source": [
    "siab_train = sample_by_year_size(siab,\n",
    "                               training_year=universe[\"training_year\"],\n",
    "                               training_size=universe[\"training_size\"])"
   ]
  },
  {
   "cell_type": "code",
   "execution_count": 18,
   "id": "8d3afb32-789d-442c-8d5d-9f5aa8dd2eed",
   "metadata": {
    "execution": {
     "iopub.execute_input": "2025-07-30T21:03:40.968318Z",
     "iopub.status.busy": "2025-07-30T21:03:40.967757Z",
     "iopub.status.idle": "2025-07-30T21:03:40.973447Z",
     "shell.execute_reply": "2025-07-30T21:03:40.972289Z"
    },
    "papermill": {
     "duration": 0.033595,
     "end_time": "2025-07-30T21:03:40.975707",
     "exception": false,
     "start_time": "2025-07-30T21:03:40.942112",
     "status": "completed"
    },
    "tags": []
   },
   "outputs": [],
   "source": [
    "#siab_train.shape"
   ]
  },
  {
   "cell_type": "code",
   "execution_count": 19,
   "id": "d582db68-1a4c-47fb-84fc-08518dc1975a",
   "metadata": {
    "execution": {
     "iopub.execute_input": "2025-07-30T21:03:41.024563Z",
     "iopub.status.busy": "2025-07-30T21:03:41.024040Z",
     "iopub.status.idle": "2025-07-30T21:03:41.028680Z",
     "shell.execute_reply": "2025-07-30T21:03:41.027865Z"
    },
    "papermill": {
     "duration": 0.030191,
     "end_time": "2025-07-30T21:03:41.030343",
     "exception": false,
     "start_time": "2025-07-30T21:03:41.000152",
     "status": "completed"
    },
    "tags": []
   },
   "outputs": [],
   "source": [
    "#display(siab_train.groupby(\"year\").size())"
   ]
  },
  {
   "cell_type": "code",
   "execution_count": 20,
   "id": "a561edb4-d032-42cb-8256-22eac1111c64",
   "metadata": {
    "execution": {
     "iopub.execute_input": "2025-07-30T21:03:41.074613Z",
     "iopub.status.busy": "2025-07-30T21:03:41.073951Z",
     "iopub.status.idle": "2025-07-30T21:03:41.326014Z",
     "shell.execute_reply": "2025-07-30T21:03:41.324730Z"
    },
    "papermill": {
     "duration": 0.276529,
     "end_time": "2025-07-30T21:03:41.328114",
     "exception": false,
     "start_time": "2025-07-30T21:03:41.051585",
     "status": "completed"
    },
    "tags": []
   },
   "outputs": [],
   "source": [
    "#siab_train = siab_s[siab_s.year < 2015]\n",
    "siab_calib = siab[siab.year == 2015]\n",
    "siab_test = siab[siab.year == 2016]"
   ]
  },
  {
   "cell_type": "code",
   "execution_count": 21,
   "id": "472de16f-c3db-4916-846b-1f0de9cf1746",
   "metadata": {
    "execution": {
     "iopub.execute_input": "2025-07-30T21:03:41.375018Z",
     "iopub.status.busy": "2025-07-30T21:03:41.374496Z",
     "iopub.status.idle": "2025-07-30T21:03:41.382992Z",
     "shell.execute_reply": "2025-07-30T21:03:41.381937Z"
    },
    "papermill": {
     "duration": 0.034653,
     "end_time": "2025-07-30T21:03:41.385252",
     "exception": false,
     "start_time": "2025-07-30T21:03:41.350599",
     "status": "completed"
    },
    "tags": []
   },
   "outputs": [],
   "source": [
    "X_train = siab_train.iloc[:,4:164]\n",
    "y_train = siab_train.iloc[:, [3]]"
   ]
  },
  {
   "cell_type": "code",
   "execution_count": 22,
   "id": "828c96af-f43a-4ed6-ba47-8ac73a47d56c",
   "metadata": {
    "execution": {
     "iopub.execute_input": "2025-07-30T21:03:41.432900Z",
     "iopub.status.busy": "2025-07-30T21:03:41.432021Z",
     "iopub.status.idle": "2025-07-30T21:03:41.481518Z",
     "shell.execute_reply": "2025-07-30T21:03:41.480692Z"
    },
    "papermill": {
     "duration": 0.075547,
     "end_time": "2025-07-30T21:03:41.483381",
     "exception": false,
     "start_time": "2025-07-30T21:03:41.407834",
     "status": "completed"
    },
    "tags": []
   },
   "outputs": [],
   "source": [
    "X_calib = siab_calib.iloc[:,4:164]\n",
    "y_calib = siab_calib.iloc[:, [3]]"
   ]
  },
  {
   "cell_type": "code",
   "execution_count": 23,
   "id": "c34be9c3-6bd6-476e-acd3-845840e303be",
   "metadata": {
    "execution": {
     "iopub.execute_input": "2025-07-30T21:03:41.530684Z",
     "iopub.status.busy": "2025-07-30T21:03:41.529819Z",
     "iopub.status.idle": "2025-07-30T21:03:41.598929Z",
     "shell.execute_reply": "2025-07-30T21:03:41.597823Z"
    },
    "papermill": {
     "duration": 0.095063,
     "end_time": "2025-07-30T21:03:41.601394",
     "exception": false,
     "start_time": "2025-07-30T21:03:41.506331",
     "status": "completed"
    },
    "tags": []
   },
   "outputs": [],
   "source": [
    "X_test = siab_test.iloc[:,4:164]\n",
    "y_true = siab_test.iloc[:, [3]]"
   ]
  },
  {
   "cell_type": "markdown",
   "id": "9901737e-04df-44f0-9100-f5ad144ed040",
   "metadata": {
    "papermill": {
     "duration": 0.025088,
     "end_time": "2025-07-30T21:03:41.655399",
     "exception": false,
     "start_time": "2025-07-30T21:03:41.630311",
     "status": "completed"
    },
    "tags": []
   },
   "source": [
    "# Splitting Data and Setting Training Data Size OLD VERSION"
   ]
  },
  {
   "cell_type": "code",
   "execution_count": 24,
   "id": "acbc8f7d-8fc8-4e86-8c59-5dcb0f58384b",
   "metadata": {
    "execution": {
     "iopub.execute_input": "2025-07-30T21:03:41.707526Z",
     "iopub.status.busy": "2025-07-30T21:03:41.706983Z",
     "iopub.status.idle": "2025-07-30T21:03:41.713175Z",
     "shell.execute_reply": "2025-07-30T21:03:41.711935Z"
    },
    "papermill": {
     "duration": 0.03458,
     "end_time": "2025-07-30T21:03:41.714644",
     "exception": false,
     "start_time": "2025-07-30T21:03:41.680064",
     "status": "completed"
    },
    "tags": []
   },
   "outputs": [],
   "source": [
    "#def sample_by_year(df, training_size, random_state=42):\n",
    "#    if training_size == \"2014\":\n",
    "#        return df[df[\"year\"] == 2014].reset_index(drop=True)\n",
    "#    \n",
    "#    size_map = {\n",
    "#        \"25k\": 5000,\n",
    "#        \"5k\": 1000,\n",
    "#        \"1k\": 200\n",
    "#    }\n",
    "#\n",
    "#    if training_size not in size_map:\n",
    "#        return df.reset_index(drop=True)  # use all data\n",
    "#\n",
    "#    n_per_year = size_map[training_size]\n",
    "#    grouped = df.groupby(\"year\")\n",
    "#    sampled = grouped.apply(lambda x: x.sample(n=min(n_per_year, len(x)), random_state=random_state))\n",
    "#    return sampled.reset_index(drop=True)"
   ]
  },
  {
   "cell_type": "code",
   "execution_count": 25,
   "id": "6d931f52-beaf-43ff-9e78-9d44a448d54e",
   "metadata": {
    "execution": {
     "iopub.execute_input": "2025-07-30T21:03:41.762236Z",
     "iopub.status.busy": "2025-07-30T21:03:41.761537Z",
     "iopub.status.idle": "2025-07-30T21:03:41.766635Z",
     "shell.execute_reply": "2025-07-30T21:03:41.765793Z"
    },
    "papermill": {
     "duration": 0.031108,
     "end_time": "2025-07-30T21:03:41.768446",
     "exception": false,
     "start_time": "2025-07-30T21:03:41.737338",
     "status": "completed"
    },
    "tags": []
   },
   "outputs": [],
   "source": [
    "#siab_s = sample_by_year(siab, universe[\"training_size\"])"
   ]
  },
  {
   "cell_type": "code",
   "execution_count": 26,
   "id": "5db0a40e-a4e2-4920-be85-b12ae061d70d",
   "metadata": {
    "execution": {
     "iopub.execute_input": "2025-07-30T21:03:41.817040Z",
     "iopub.status.busy": "2025-07-30T21:03:41.816446Z",
     "iopub.status.idle": "2025-07-30T21:03:41.821739Z",
     "shell.execute_reply": "2025-07-30T21:03:41.820878Z"
    },
    "papermill": {
     "duration": 0.032424,
     "end_time": "2025-07-30T21:03:41.823569",
     "exception": false,
     "start_time": "2025-07-30T21:03:41.791145",
     "status": "completed"
    },
    "tags": []
   },
   "outputs": [],
   "source": [
    "#display(siab_s.groupby(\"year\").size())"
   ]
  },
  {
   "cell_type": "code",
   "execution_count": 27,
   "id": "e6c733c5",
   "metadata": {
    "execution": {
     "iopub.execute_input": "2025-07-30T21:03:41.868933Z",
     "iopub.status.busy": "2025-07-30T21:03:41.868471Z",
     "iopub.status.idle": "2025-07-30T21:03:41.968904Z",
     "shell.execute_reply": "2025-07-30T21:03:41.967736Z"
    },
    "papermill": {
     "duration": 0.125186,
     "end_time": "2025-07-30T21:03:41.970760",
     "exception": false,
     "start_time": "2025-07-30T21:03:41.845574",
     "status": "completed"
    },
    "tags": []
   },
   "outputs": [],
   "source": [
    "# Auxiliary data needed downstream in the pipeline\n",
    "\n",
    "org_train = X_train.copy()\n",
    "org_test = X_test.copy()\n",
    "org_calib = X_calib.copy()"
   ]
  },
  {
   "cell_type": "code",
   "execution_count": 28,
   "id": "1466abac-c6da-4492-a62f-4240ae3783af",
   "metadata": {
    "execution": {
     "iopub.execute_input": "2025-07-30T21:03:42.018622Z",
     "iopub.status.busy": "2025-07-30T21:03:42.018165Z",
     "iopub.status.idle": "2025-07-30T21:03:42.024880Z",
     "shell.execute_reply": "2025-07-30T21:03:42.023708Z"
    },
    "papermill": {
     "duration": 0.032634,
     "end_time": "2025-07-30T21:03:42.026828",
     "exception": false,
     "start_time": "2025-07-30T21:03:41.994194",
     "status": "completed"
    },
    "tags": []
   },
   "outputs": [],
   "source": [
    "# put in other script?\n",
    "# Group sizes\n",
    "\n",
    "#def calculate_percentages(df, df_name):\n",
    "#    total_entries = len(df)\n",
    "#\n",
    "#    female_pct = (df['frau1'] == 1).mean() * 100\n",
    "#    non_german_pct = ((df['maxdeutsch1'] == 0) & (df['maxdeutsch.Missing.'] == 0)).mean() * 100\n",
    "#    non_german_male_pct = ((df['frau1'] == 0) & (df['maxdeutsch1'] == 0) & (df['maxdeutsch.Missing.'] == 0)).mean() * 100\n",
    "#    non_german_female_pct = ((df['frau1'] == 1) & (df['maxdeutsch1'] == 0) & (df['maxdeutsch.Missing.'] == 0)).mean() * 100\n",
    "#\n",
    "#    print(f\"--- {df_name} ---\")\n",
    "#    print(f\"Female: {female_pct:.2f}%\")\n",
    "#    print(f\"Non-German: {non_german_pct:.2f}%\")\n",
    "#    print(f\"Non-German Male: {non_german_male_pct:.2f}%\")\n",
    "#    print(f\"Non-German Female: {non_german_female_pct:.2f}%\\n\")\n",
    "#\n",
    "## Calculate for each DataFrame\n",
    "#calculate_percentages(siab_calib, \"siab_calib\")\n",
    "#calculate_percentages(siab_test, \"siab_test\")\n",
    "#calculate_percentages(siab_train, \"siab_train\")"
   ]
  },
  {
   "cell_type": "markdown",
   "id": "0a4a1b33",
   "metadata": {
    "papermill": {
     "duration": 0.02188,
     "end_time": "2025-07-30T21:03:42.071478",
     "exception": false,
     "start_time": "2025-07-30T21:03:42.049598",
     "status": "completed"
    },
    "tags": []
   },
   "source": [
    "# Preprocessing Data"
   ]
  },
  {
   "cell_type": "code",
   "execution_count": 29,
   "id": "ca879031",
   "metadata": {
    "execution": {
     "iopub.execute_input": "2025-07-30T21:03:42.117720Z",
     "iopub.status.busy": "2025-07-30T21:03:42.117173Z",
     "iopub.status.idle": "2025-07-30T21:03:42.123560Z",
     "shell.execute_reply": "2025-07-30T21:03:42.122627Z"
    },
    "papermill": {
     "duration": 0.030896,
     "end_time": "2025-07-30T21:03:42.125399",
     "exception": false,
     "start_time": "2025-07-30T21:03:42.094503",
     "status": "completed"
    },
    "tags": []
   },
   "outputs": [],
   "source": [
    "# EXCLUDE PROTECTED FEATURES\n",
    "# ----------------------\n",
    "# \"exclude_features\": \"none\", # \"nationality\", \"sex\", \"nationality-sex\"\n",
    "\n",
    "excluded_features = universe[\"exclude_features\"].split(\"-\") # split, e.g.: \"nationality-sex\" -> [\"nationality\", \"sex\"]\n",
    "excluded_features_dictionary = {\n",
    "    \"nationality\": [\"maxdeutsch1\", \"maxdeutsch.Missing.\"],\n",
    "    \"sex\": [\"frau1\"],\n",
    "    \"age\": [\"age\"],\n",
    "}\n"
   ]
  },
  {
   "cell_type": "code",
   "execution_count": 30,
   "id": "b745ac60",
   "metadata": {
    "execution": {
     "iopub.execute_input": "2025-07-30T21:03:42.169128Z",
     "iopub.status.busy": "2025-07-30T21:03:42.168634Z",
     "iopub.status.idle": "2025-07-30T21:03:42.174517Z",
     "shell.execute_reply": "2025-07-30T21:03:42.173534Z"
    },
    "papermill": {
     "duration": 0.029842,
     "end_time": "2025-07-30T21:03:42.176162",
     "exception": false,
     "start_time": "2025-07-30T21:03:42.146320",
     "status": "completed"
    },
    "tags": []
   },
   "outputs": [],
   "source": [
    "# Code nice names to column names\n",
    "\n",
    "excluded_features_columns = [\n",
    "    excluded_features_dictionary[f] for f in excluded_features if len(f) > 0 and f != \"none\"\n",
    "]"
   ]
  },
  {
   "cell_type": "code",
   "execution_count": 31,
   "id": "f84f73a2",
   "metadata": {
    "execution": {
     "iopub.execute_input": "2025-07-30T21:03:42.220672Z",
     "iopub.status.busy": "2025-07-30T21:03:42.220228Z",
     "iopub.status.idle": "2025-07-30T21:03:42.226801Z",
     "shell.execute_reply": "2025-07-30T21:03:42.225861Z"
    },
    "papermill": {
     "duration": 0.031547,
     "end_time": "2025-07-30T21:03:42.229615",
     "exception": false,
     "start_time": "2025-07-30T21:03:42.198068",
     "status": "completed"
    },
    "tags": []
   },
   "outputs": [],
   "source": [
    "from utils import flatten_once\n",
    "\n",
    "excluded_features_columns = flatten_once(excluded_features_columns)"
   ]
  },
  {
   "cell_type": "code",
   "execution_count": 32,
   "id": "884dea22",
   "metadata": {
    "execution": {
     "iopub.execute_input": "2025-07-30T21:03:42.298302Z",
     "iopub.status.busy": "2025-07-30T21:03:42.297715Z",
     "iopub.status.idle": "2025-07-30T21:03:42.306891Z",
     "shell.execute_reply": "2025-07-30T21:03:42.305757Z"
    },
    "papermill": {
     "duration": 0.046982,
     "end_time": "2025-07-30T21:03:42.308778",
     "exception": false,
     "start_time": "2025-07-30T21:03:42.261796",
     "status": "completed"
    },
    "tags": []
   },
   "outputs": [
    {
     "name": "stdout",
     "output_type": "stream",
     "text": [
      "Dropping features: ['age']\n"
     ]
    }
   ],
   "source": [
    "if len(excluded_features_columns) > 0:\n",
    "    print(f\"Dropping features: {excluded_features_columns}\")\n",
    "    X_train.drop(excluded_features_columns, axis=1, inplace=True)"
   ]
  },
  {
   "cell_type": "code",
   "execution_count": 33,
   "id": "95ab8b16",
   "metadata": {
    "execution": {
     "iopub.execute_input": "2025-07-30T21:03:42.354469Z",
     "iopub.status.busy": "2025-07-30T21:03:42.354080Z",
     "iopub.status.idle": "2025-07-30T21:03:42.435559Z",
     "shell.execute_reply": "2025-07-30T21:03:42.434621Z"
    },
    "papermill": {
     "duration": 0.106396,
     "end_time": "2025-07-30T21:03:42.437606",
     "exception": false,
     "start_time": "2025-07-30T21:03:42.331210",
     "status": "completed"
    },
    "tags": []
   },
   "outputs": [
    {
     "name": "stdout",
     "output_type": "stream",
     "text": [
      "Dropping features: ['age']\n"
     ]
    }
   ],
   "source": [
    "if len(excluded_features_columns) > 0:\n",
    "    print(f\"Dropping features: {excluded_features_columns}\")\n",
    "    X_test.drop(excluded_features_columns, axis=1, inplace=True)"
   ]
  },
  {
   "cell_type": "code",
   "execution_count": 34,
   "id": "1853aaf5-fb9f-46cb-a2b5-8ea4ae2237e4",
   "metadata": {
    "execution": {
     "iopub.execute_input": "2025-07-30T21:03:42.490207Z",
     "iopub.status.busy": "2025-07-30T21:03:42.489660Z",
     "iopub.status.idle": "2025-07-30T21:03:42.544559Z",
     "shell.execute_reply": "2025-07-30T21:03:42.543345Z"
    },
    "papermill": {
     "duration": 0.082959,
     "end_time": "2025-07-30T21:03:42.546367",
     "exception": false,
     "start_time": "2025-07-30T21:03:42.463408",
     "status": "completed"
    },
    "tags": []
   },
   "outputs": [
    {
     "name": "stdout",
     "output_type": "stream",
     "text": [
      "Dropping features: ['age']\n"
     ]
    }
   ],
   "source": [
    "if len(excluded_features_columns) > 0:\n",
    "    print(f\"Dropping features: {excluded_features_columns}\")\n",
    "    X_calib.drop(excluded_features_columns, axis=1, inplace=True)"
   ]
  },
  {
   "cell_type": "code",
   "execution_count": 35,
   "id": "6727d079-03e5-481e-9d38-292a90b7a0a8",
   "metadata": {
    "execution": {
     "iopub.execute_input": "2025-07-30T21:03:42.597027Z",
     "iopub.status.busy": "2025-07-30T21:03:42.596396Z",
     "iopub.status.idle": "2025-07-30T21:03:42.601427Z",
     "shell.execute_reply": "2025-07-30T21:03:42.600213Z"
    },
    "papermill": {
     "duration": 0.03208,
     "end_time": "2025-07-30T21:03:42.603275",
     "exception": false,
     "start_time": "2025-07-30T21:03:42.571195",
     "status": "completed"
    },
    "tags": []
   },
   "outputs": [],
   "source": [
    "# SPLIT & STRATIFY DATA\n",
    "# ----------------------"
   ]
  },
  {
   "cell_type": "code",
   "execution_count": 36,
   "id": "76c4dc6d",
   "metadata": {
    "execution": {
     "iopub.execute_input": "2025-07-30T21:03:42.654127Z",
     "iopub.status.busy": "2025-07-30T21:03:42.653740Z",
     "iopub.status.idle": "2025-07-30T21:03:42.659283Z",
     "shell.execute_reply": "2025-07-30T21:03:42.658127Z"
    },
    "papermill": {
     "duration": 0.034419,
     "end_time": "2025-07-30T21:03:42.661133",
     "exception": false,
     "start_time": "2025-07-30T21:03:42.626714",
     "status": "completed"
    },
    "tags": []
   },
   "outputs": [],
   "source": [
    "# EXCLUDE CERTAIN SUBGROUPS\n",
    "# ----------------------\n",
    "\n",
    "mode = universe.get(\"exclude_subgroups\", \"keep-all\") \n",
    "# Fetches the exclude_subgroups setting from the universe dict.\n",
    "# Defaults to \"keep-all\" if the key is missing."
   ]
  },
  {
   "cell_type": "code",
   "execution_count": 37,
   "id": "21994072",
   "metadata": {
    "execution": {
     "iopub.execute_input": "2025-07-30T21:03:42.711916Z",
     "iopub.status.busy": "2025-07-30T21:03:42.711259Z",
     "iopub.status.idle": "2025-07-30T21:03:42.718231Z",
     "shell.execute_reply": "2025-07-30T21:03:42.717309Z"
    },
    "papermill": {
     "duration": 0.034402,
     "end_time": "2025-07-30T21:03:42.720014",
     "exception": false,
     "start_time": "2025-07-30T21:03:42.685612",
     "status": "completed"
    },
    "tags": []
   },
   "outputs": [],
   "source": [
    "if mode == \"keep-all\":\n",
    "    keep_mask = pd.Series(True, index=org_train.index)\n",
    "\n",
    "# org_train contains the original feature columns from features_org (in Simson)\n",
    "# features_org contains unprocessed features, for me X_train at beginning ???\n",
    "# For keep-all, creates a boolean Series (keep_mask) of all True, so no rows are removed.\n",
    "\n",
    "elif mode == \"drop-non-german\":\n",
    "    keep_mask = org_train[\"maxdeutsch1\"] == 1 # ??? what about missing values?\n",
    "\n",
    "else:\n",
    "    raise ValueError(f\"Unsupported mode for exclude_subgroups: {mode}\")\n"
   ]
  },
  {
   "cell_type": "code",
   "execution_count": 38,
   "id": "71651440",
   "metadata": {
    "execution": {
     "iopub.execute_input": "2025-07-30T21:03:42.781405Z",
     "iopub.status.busy": "2025-07-30T21:03:42.780914Z",
     "iopub.status.idle": "2025-07-30T21:03:42.788010Z",
     "shell.execute_reply": "2025-07-30T21:03:42.786952Z"
    },
    "papermill": {
     "duration": 0.045162,
     "end_time": "2025-07-30T21:03:42.789603",
     "exception": false,
     "start_time": "2025-07-30T21:03:42.744441",
     "status": "completed"
    },
    "tags": []
   },
   "outputs": [
    {
     "name": "stdout",
     "output_type": "stream",
     "text": [
      "Dropping 665 rows (13.30%) where mode='drop-non-german'\n"
     ]
    }
   ],
   "source": [
    "n_drop = (~keep_mask).sum() # Calculates how many rows are set to be dropped\n",
    "if n_drop > 0:\n",
    "    pct = n_drop / len(keep_mask) * 100\n",
    "    print(f\"Dropping {n_drop} rows ({pct:.2f}%) where mode='{mode}'\")"
   ]
  },
  {
   "cell_type": "code",
   "execution_count": 39,
   "id": "5fb8eee5",
   "metadata": {
    "execution": {
     "iopub.execute_input": "2025-07-30T21:03:42.840001Z",
     "iopub.status.busy": "2025-07-30T21:03:42.839199Z",
     "iopub.status.idle": "2025-07-30T21:03:42.847275Z",
     "shell.execute_reply": "2025-07-30T21:03:42.846238Z"
    },
    "papermill": {
     "duration": 0.034909,
     "end_time": "2025-07-30T21:03:42.848918",
     "exception": false,
     "start_time": "2025-07-30T21:03:42.814009",
     "status": "completed"
    },
    "tags": []
   },
   "outputs": [],
   "source": [
    "X_train = X_train[keep_mask]"
   ]
  },
  {
   "cell_type": "code",
   "execution_count": 40,
   "id": "b202bb3a",
   "metadata": {
    "execution": {
     "iopub.execute_input": "2025-07-30T21:03:42.900262Z",
     "iopub.status.busy": "2025-07-30T21:03:42.899574Z",
     "iopub.status.idle": "2025-07-30T21:03:42.906096Z",
     "shell.execute_reply": "2025-07-30T21:03:42.905140Z"
    },
    "papermill": {
     "duration": 0.034367,
     "end_time": "2025-07-30T21:03:42.907651",
     "exception": false,
     "start_time": "2025-07-30T21:03:42.873284",
     "status": "completed"
    },
    "tags": []
   },
   "outputs": [],
   "source": [
    "y_train = y_train[keep_mask]"
   ]
  },
  {
   "cell_type": "markdown",
   "id": "493e2ac3",
   "metadata": {
    "papermill": {
     "duration": 0.0231,
     "end_time": "2025-07-30T21:03:42.953235",
     "exception": false,
     "start_time": "2025-07-30T21:03:42.930135",
     "status": "completed"
    },
    "tags": []
   },
   "source": [
    "# Model Training"
   ]
  },
  {
   "cell_type": "code",
   "execution_count": 41,
   "id": "679e1268",
   "metadata": {
    "execution": {
     "iopub.execute_input": "2025-07-30T21:03:43.004956Z",
     "iopub.status.busy": "2025-07-30T21:03:43.003865Z",
     "iopub.status.idle": "2025-07-30T21:03:43.108849Z",
     "shell.execute_reply": "2025-07-30T21:03:43.107820Z"
    },
    "papermill": {
     "duration": 0.133641,
     "end_time": "2025-07-30T21:03:43.110785",
     "exception": false,
     "start_time": "2025-07-30T21:03:42.977144",
     "status": "completed"
    },
    "tags": []
   },
   "outputs": [],
   "source": [
    "from sklearn.linear_model import LogisticRegression\n",
    "from sklearn.ensemble import GradientBoostingClassifier, RandomForestClassifier\n",
    "\n",
    "if (universe[\"model\"] == \"logreg\"):\n",
    "    model = LogisticRegression() #penalty=\"none\") #, solver=\"newton-cg\", max_iter=1) # include random_state=19 ?\n",
    "elif (universe[\"model\"] == \"penalized_logreg\"):\n",
    "    model = LogisticRegression(penalty=\"l2\", C=1.0) #, solver=\"newton-cg\", max_iter=1)\n",
    "elif (universe[\"model\"] == \"rf\"):\n",
    "    model = RandomForestClassifier(n_estimators=100, n_jobs=-1)\n",
    "elif (universe[\"model\"] == \"gbm\"):\n",
    "    model = GradientBoostingClassifier()\n",
    "elif (universe[\"model\"] == \"elasticnet\"):\n",
    "    model = LogisticRegression(penalty = 'elasticnet', solver = 'saga', l1_ratio = 0.5, max_iter=5000) # which solver to use?\n",
    "else:\n",
    "    raise \"Unsupported universe.model\""
   ]
  },
  {
   "cell_type": "code",
   "execution_count": 42,
   "id": "0cc8f744",
   "metadata": {
    "execution": {
     "iopub.execute_input": "2025-07-30T21:03:43.161779Z",
     "iopub.status.busy": "2025-07-30T21:03:43.160920Z",
     "iopub.status.idle": "2025-07-30T21:03:43.167434Z",
     "shell.execute_reply": "2025-07-30T21:03:43.166473Z"
    },
    "papermill": {
     "duration": 0.033185,
     "end_time": "2025-07-30T21:03:43.168971",
     "exception": false,
     "start_time": "2025-07-30T21:03:43.135786",
     "status": "completed"
    },
    "tags": []
   },
   "outputs": [],
   "source": [
    "import numpy as np\n",
    "from sklearn.pipeline import Pipeline\n",
    "from sklearn.preprocessing import StandardScaler\n",
    "\n",
    "model = Pipeline([\n",
    "    #(\"continuous_processor\", continuous_processor),\n",
    "    #(\"categorical_preprocessor\", categorical_preprocessor),\n",
    "    (\"scale\", StandardScaler() if universe[\"scale\"] == \"scale\" else None), \n",
    "    (\"model\", model),\n",
    "])"
   ]
  },
  {
   "cell_type": "code",
   "execution_count": 43,
   "id": "9442c04d",
   "metadata": {
    "execution": {
     "iopub.execute_input": "2025-07-30T21:03:43.213567Z",
     "iopub.status.busy": "2025-07-30T21:03:43.212905Z",
     "iopub.status.idle": "2025-07-30T21:03:43.342573Z",
     "shell.execute_reply": "2025-07-30T21:03:43.341647Z"
    },
    "papermill": {
     "duration": 0.153484,
     "end_time": "2025-07-30T21:03:43.344216",
     "exception": false,
     "start_time": "2025-07-30T21:03:43.190732",
     "status": "completed"
    },
    "tags": []
   },
   "outputs": [
    {
     "name": "stderr",
     "output_type": "stream",
     "text": [
      "/dss/dsshome1/0C/ra93lal2/.local/share/virtualenvs/CMA_Fairness_v2-3j10GkSs/lib/python3.10/site-packages/sklearn/linear_model/_logistic.py:444: ConvergenceWarning: lbfgs failed to converge (status=1):\n",
      "STOP: TOTAL NO. of ITERATIONS REACHED LIMIT.\n",
      "\n",
      "Increase the number of iterations (max_iter) or scale the data as shown in:\n",
      "    https://scikit-learn.org/stable/modules/preprocessing.html\n",
      "Please also refer to the documentation for alternative solver options:\n",
      "    https://scikit-learn.org/stable/modules/linear_model.html#logistic-regression\n",
      "  n_iter_i = _check_optimize_result(\n"
     ]
    },
    {
     "data": {
      "text/html": [
       "<style>#sk-container-id-1 {color: black;background-color: white;}#sk-container-id-1 pre{padding: 0;}#sk-container-id-1 div.sk-toggleable {background-color: white;}#sk-container-id-1 label.sk-toggleable__label {cursor: pointer;display: block;width: 100%;margin-bottom: 0;padding: 0.3em;box-sizing: border-box;text-align: center;}#sk-container-id-1 label.sk-toggleable__label-arrow:before {content: \"▸\";float: left;margin-right: 0.25em;color: #696969;}#sk-container-id-1 label.sk-toggleable__label-arrow:hover:before {color: black;}#sk-container-id-1 div.sk-estimator:hover label.sk-toggleable__label-arrow:before {color: black;}#sk-container-id-1 div.sk-toggleable__content {max-height: 0;max-width: 0;overflow: hidden;text-align: left;background-color: #f0f8ff;}#sk-container-id-1 div.sk-toggleable__content pre {margin: 0.2em;color: black;border-radius: 0.25em;background-color: #f0f8ff;}#sk-container-id-1 input.sk-toggleable__control:checked~div.sk-toggleable__content {max-height: 200px;max-width: 100%;overflow: auto;}#sk-container-id-1 input.sk-toggleable__control:checked~label.sk-toggleable__label-arrow:before {content: \"▾\";}#sk-container-id-1 div.sk-estimator input.sk-toggleable__control:checked~label.sk-toggleable__label {background-color: #d4ebff;}#sk-container-id-1 div.sk-label input.sk-toggleable__control:checked~label.sk-toggleable__label {background-color: #d4ebff;}#sk-container-id-1 input.sk-hidden--visually {border: 0;clip: rect(1px 1px 1px 1px);clip: rect(1px, 1px, 1px, 1px);height: 1px;margin: -1px;overflow: hidden;padding: 0;position: absolute;width: 1px;}#sk-container-id-1 div.sk-estimator {font-family: monospace;background-color: #f0f8ff;border: 1px dotted black;border-radius: 0.25em;box-sizing: border-box;margin-bottom: 0.5em;}#sk-container-id-1 div.sk-estimator:hover {background-color: #d4ebff;}#sk-container-id-1 div.sk-parallel-item::after {content: \"\";width: 100%;border-bottom: 1px solid gray;flex-grow: 1;}#sk-container-id-1 div.sk-label:hover label.sk-toggleable__label {background-color: #d4ebff;}#sk-container-id-1 div.sk-serial::before {content: \"\";position: absolute;border-left: 1px solid gray;box-sizing: border-box;top: 0;bottom: 0;left: 50%;z-index: 0;}#sk-container-id-1 div.sk-serial {display: flex;flex-direction: column;align-items: center;background-color: white;padding-right: 0.2em;padding-left: 0.2em;position: relative;}#sk-container-id-1 div.sk-item {position: relative;z-index: 1;}#sk-container-id-1 div.sk-parallel {display: flex;align-items: stretch;justify-content: center;background-color: white;position: relative;}#sk-container-id-1 div.sk-item::before, #sk-container-id-1 div.sk-parallel-item::before {content: \"\";position: absolute;border-left: 1px solid gray;box-sizing: border-box;top: 0;bottom: 0;left: 50%;z-index: -1;}#sk-container-id-1 div.sk-parallel-item {display: flex;flex-direction: column;z-index: 1;position: relative;background-color: white;}#sk-container-id-1 div.sk-parallel-item:first-child::after {align-self: flex-end;width: 50%;}#sk-container-id-1 div.sk-parallel-item:last-child::after {align-self: flex-start;width: 50%;}#sk-container-id-1 div.sk-parallel-item:only-child::after {width: 0;}#sk-container-id-1 div.sk-dashed-wrapped {border: 1px dashed gray;margin: 0 0.4em 0.5em 0.4em;box-sizing: border-box;padding-bottom: 0.4em;background-color: white;}#sk-container-id-1 div.sk-label label {font-family: monospace;font-weight: bold;display: inline-block;line-height: 1.2em;}#sk-container-id-1 div.sk-label-container {text-align: center;}#sk-container-id-1 div.sk-container {/* jupyter's `normalize.less` sets `[hidden] { display: none; }` but bootstrap.min.css set `[hidden] { display: none !important; }` so we also need the `!important` here to be able to override the default hidden behavior on the sphinx rendered scikit-learn.org. See: https://github.com/scikit-learn/scikit-learn/issues/21755 */display: inline-block !important;position: relative;}#sk-container-id-1 div.sk-text-repr-fallback {display: none;}</style><div id=\"sk-container-id-1\" class=\"sk-top-container\"><div class=\"sk-text-repr-fallback\"><pre>Pipeline(steps=[(&#x27;scale&#x27;, None), (&#x27;model&#x27;, LogisticRegression())])</pre><b>In a Jupyter environment, please rerun this cell to show the HTML representation or trust the notebook. <br />On GitHub, the HTML representation is unable to render, please try loading this page with nbviewer.org.</b></div><div class=\"sk-container\" hidden><div class=\"sk-item sk-dashed-wrapped\"><div class=\"sk-label-container\"><div class=\"sk-label sk-toggleable\"><input class=\"sk-toggleable__control sk-hidden--visually\" id=\"sk-estimator-id-1\" type=\"checkbox\" ><label for=\"sk-estimator-id-1\" class=\"sk-toggleable__label sk-toggleable__label-arrow\">Pipeline</label><div class=\"sk-toggleable__content\"><pre>Pipeline(steps=[(&#x27;scale&#x27;, None), (&#x27;model&#x27;, LogisticRegression())])</pre></div></div></div><div class=\"sk-serial\"><div class=\"sk-item\"><div class=\"sk-estimator sk-toggleable\"><input class=\"sk-toggleable__control sk-hidden--visually\" id=\"sk-estimator-id-2\" type=\"checkbox\" ><label for=\"sk-estimator-id-2\" class=\"sk-toggleable__label sk-toggleable__label-arrow\">None</label><div class=\"sk-toggleable__content\"><pre>None</pre></div></div></div><div class=\"sk-item\"><div class=\"sk-estimator sk-toggleable\"><input class=\"sk-toggleable__control sk-hidden--visually\" id=\"sk-estimator-id-3\" type=\"checkbox\" ><label for=\"sk-estimator-id-3\" class=\"sk-toggleable__label sk-toggleable__label-arrow\">LogisticRegression</label><div class=\"sk-toggleable__content\"><pre>LogisticRegression()</pre></div></div></div></div></div></div></div>"
      ],
      "text/plain": [
       "Pipeline(steps=[('scale', None), ('model', LogisticRegression())])"
      ]
     },
     "execution_count": 43,
     "metadata": {},
     "output_type": "execute_result"
    }
   ],
   "source": [
    "model.fit(X_train, y_train.values.ravel())"
   ]
  },
  {
   "cell_type": "code",
   "execution_count": 44,
   "id": "af59f8c0",
   "metadata": {
    "execution": {
     "iopub.execute_input": "2025-07-30T21:03:43.391375Z",
     "iopub.status.busy": "2025-07-30T21:03:43.390607Z",
     "iopub.status.idle": "2025-07-30T21:03:43.396131Z",
     "shell.execute_reply": "2025-07-30T21:03:43.395176Z"
    },
    "papermill": {
     "duration": 0.03009,
     "end_time": "2025-07-30T21:03:43.397791",
     "exception": false,
     "start_time": "2025-07-30T21:03:43.367701",
     "status": "completed"
    },
    "tags": []
   },
   "outputs": [],
   "source": [
    "from fairness_multiverse.universe import predict_w_threshold"
   ]
  },
  {
   "cell_type": "code",
   "execution_count": 45,
   "id": "a7cf2e16",
   "metadata": {
    "execution": {
     "iopub.execute_input": "2025-07-30T21:03:43.443115Z",
     "iopub.status.busy": "2025-07-30T21:03:43.442411Z",
     "iopub.status.idle": "2025-07-30T21:03:43.536951Z",
     "shell.execute_reply": "2025-07-30T21:03:43.535954Z"
    },
    "papermill": {
     "duration": 0.118661,
     "end_time": "2025-07-30T21:03:43.538498",
     "exception": false,
     "start_time": "2025-07-30T21:03:43.419837",
     "status": "completed"
    },
    "tags": []
   },
   "outputs": [
    {
     "data": {
      "text/plain": [
       "0.858566492029874"
      ]
     },
     "execution_count": 45,
     "metadata": {},
     "output_type": "execute_result"
    }
   ],
   "source": [
    "probs_test = model.predict_proba(X_test)\n",
    "\n",
    "'''\n",
    "Below code returns a boolean array (or binary 0/1 array depending on how it’s used) where each element \n",
    "is True if the probability of class 1 is greater than or equal to the threshold, and False otherwise.\n",
    "'''\n",
    "y_pred_default = predict_w_threshold(probs_test, 0.5)\n",
    "\n",
    "from sklearn.metrics import accuracy_score\n",
    "\n",
    "# Naive prediction\n",
    "accuracy_score(y_true = y_true, y_pred = y_pred_default)"
   ]
  },
  {
   "cell_type": "code",
   "execution_count": 46,
   "id": "081964c3",
   "metadata": {
    "execution": {
     "iopub.execute_input": "2025-07-30T21:03:43.585462Z",
     "iopub.status.busy": "2025-07-30T21:03:43.584985Z",
     "iopub.status.idle": "2025-07-30T21:03:43.664442Z",
     "shell.execute_reply": "2025-07-30T21:03:43.663587Z"
    },
    "papermill": {
     "duration": 0.103721,
     "end_time": "2025-07-30T21:03:43.666074",
     "exception": false,
     "start_time": "2025-07-30T21:03:43.562353",
     "status": "completed"
    },
    "tags": []
   },
   "outputs": [
    {
     "data": {
      "text/plain": [
       "array([0, 0, 0, ..., 0, 0, 0])"
      ]
     },
     "execution_count": 46,
     "metadata": {},
     "output_type": "execute_result"
    }
   ],
   "source": [
    "model.predict(X_test)"
   ]
  },
  {
   "cell_type": "markdown",
   "id": "56c9705b",
   "metadata": {
    "papermill": {
     "duration": 0.02356,
     "end_time": "2025-07-30T21:03:43.714210",
     "exception": false,
     "start_time": "2025-07-30T21:03:43.690650",
     "status": "completed"
    },
    "tags": []
   },
   "source": [
    "# Conformal Prediction"
   ]
  },
  {
   "cell_type": "code",
   "execution_count": 47,
   "id": "160ec6ff",
   "metadata": {
    "execution": {
     "iopub.execute_input": "2025-07-30T21:03:43.767312Z",
     "iopub.status.busy": "2025-07-30T21:03:43.766453Z",
     "iopub.status.idle": "2025-07-30T21:03:43.771570Z",
     "shell.execute_reply": "2025-07-30T21:03:43.770601Z"
    },
    "papermill": {
     "duration": 0.033134,
     "end_time": "2025-07-30T21:03:43.773425",
     "exception": false,
     "start_time": "2025-07-30T21:03:43.740291",
     "status": "completed"
    },
    "tags": []
   },
   "outputs": [],
   "source": [
    "# Miscoverage level for conformal prediction (10% allowed error rate => 90% target coverage)\n",
    "alpha = 0.1"
   ]
  },
  {
   "cell_type": "code",
   "execution_count": 48,
   "id": "eadf4555-3dd3-440e-8e35-f82a4ad9f855",
   "metadata": {
    "execution": {
     "iopub.execute_input": "2025-07-30T21:03:43.806359Z",
     "iopub.status.busy": "2025-07-30T21:03:43.805960Z",
     "iopub.status.idle": "2025-07-30T21:03:43.878512Z",
     "shell.execute_reply": "2025-07-30T21:03:43.877755Z"
    },
    "papermill": {
     "duration": 0.086842,
     "end_time": "2025-07-30T21:03:43.880018",
     "exception": false,
     "start_time": "2025-07-30T21:03:43.793176",
     "status": "completed"
    },
    "tags": []
   },
   "outputs": [],
   "source": [
    "probs_calib = model.predict_proba(X_calib)"
   ]
  },
  {
   "cell_type": "code",
   "execution_count": 49,
   "id": "2ed93547-6d5d-4983-9b36-1ecb300da49a",
   "metadata": {
    "execution": {
     "iopub.execute_input": "2025-07-30T21:03:43.925630Z",
     "iopub.status.busy": "2025-07-30T21:03:43.924904Z",
     "iopub.status.idle": "2025-07-30T21:03:43.930533Z",
     "shell.execute_reply": "2025-07-30T21:03:43.929649Z"
    },
    "papermill": {
     "duration": 0.034969,
     "end_time": "2025-07-30T21:03:43.932269",
     "exception": false,
     "start_time": "2025-07-30T21:03:43.897300",
     "status": "completed"
    },
    "tags": []
   },
   "outputs": [],
   "source": [
    "y_calib = y_calib.values.ravel().astype(int)"
   ]
  },
  {
   "cell_type": "code",
   "execution_count": 50,
   "id": "65d1320d-f588-4b38-9072-62af1ae97f7d",
   "metadata": {
    "execution": {
     "iopub.execute_input": "2025-07-30T21:03:43.959413Z",
     "iopub.status.busy": "2025-07-30T21:03:43.958955Z",
     "iopub.status.idle": "2025-07-30T21:03:43.966359Z",
     "shell.execute_reply": "2025-07-30T21:03:43.965454Z"
    },
    "papermill": {
     "duration": 0.02281,
     "end_time": "2025-07-30T21:03:43.968022",
     "exception": false,
     "start_time": "2025-07-30T21:03:43.945212",
     "status": "completed"
    },
    "tags": []
   },
   "outputs": [],
   "source": [
    "from fairness_multiverse.conformal import compute_nc_scores\n",
    "\n",
    "# Compute nonconformity scores on calibration set (1 - probability of true class)\n",
    "nc_scores = compute_nc_scores(probs_calib, y_calib)"
   ]
  },
  {
   "cell_type": "code",
   "execution_count": 51,
   "id": "df3b8ca3-53b7-43d5-9667-7c85da7aeda2",
   "metadata": {
    "execution": {
     "iopub.execute_input": "2025-07-30T21:03:44.018544Z",
     "iopub.status.busy": "2025-07-30T21:03:44.017829Z",
     "iopub.status.idle": "2025-07-30T21:03:44.025121Z",
     "shell.execute_reply": "2025-07-30T21:03:44.024123Z"
    },
    "papermill": {
     "duration": 0.033742,
     "end_time": "2025-07-30T21:03:44.026773",
     "exception": false,
     "start_time": "2025-07-30T21:03:43.993031",
     "status": "completed"
    },
    "tags": []
   },
   "outputs": [],
   "source": [
    "from fairness_multiverse.conformal import find_threshold\n",
    "\n",
    "# Find conformal threshold q_hat for the given alpha (split conformal method)\n",
    "q_hat = find_threshold(nc_scores, alpha)"
   ]
  },
  {
   "cell_type": "code",
   "execution_count": 52,
   "id": "4d29e6c1-0ef6-4aa4-b8fe-4fe79b0d033a",
   "metadata": {
    "execution": {
     "iopub.execute_input": "2025-07-30T21:03:44.077577Z",
     "iopub.status.busy": "2025-07-30T21:03:44.076648Z",
     "iopub.status.idle": "2025-07-30T21:03:44.084481Z",
     "shell.execute_reply": "2025-07-30T21:03:44.083406Z"
    },
    "papermill": {
     "duration": 0.035562,
     "end_time": "2025-07-30T21:03:44.086302",
     "exception": false,
     "start_time": "2025-07-30T21:03:44.050740",
     "status": "completed"
    },
    "tags": []
   },
   "outputs": [
    {
     "data": {
      "text/plain": [
       "0.6578024925089658"
      ]
     },
     "execution_count": 52,
     "metadata": {},
     "output_type": "execute_result"
    }
   ],
   "source": [
    "q_hat"
   ]
  },
  {
   "cell_type": "code",
   "execution_count": 53,
   "id": "92460794-cdac-4be2-ba28-f28c0515a6fb",
   "metadata": {
    "execution": {
     "iopub.execute_input": "2025-07-30T21:03:44.137492Z",
     "iopub.status.busy": "2025-07-30T21:03:44.137015Z",
     "iopub.status.idle": "2025-07-30T21:03:44.788743Z",
     "shell.execute_reply": "2025-07-30T21:03:44.787715Z"
    },
    "papermill": {
     "duration": 0.678908,
     "end_time": "2025-07-30T21:03:44.790728",
     "exception": false,
     "start_time": "2025-07-30T21:03:44.111820",
     "status": "completed"
    },
    "tags": []
   },
   "outputs": [],
   "source": [
    "from fairness_multiverse.conformal import predict_conformal_sets\n",
    "\n",
    "# Generate prediction sets for each test example\n",
    "pred_sets = predict_conformal_sets(model, X_test, q_hat)"
   ]
  },
  {
   "cell_type": "code",
   "execution_count": 54,
   "id": "d90c9a65-e6db-4f5d-80cd-e68fb7e46829",
   "metadata": {
    "execution": {
     "iopub.execute_input": "2025-07-30T21:03:44.844001Z",
     "iopub.status.busy": "2025-07-30T21:03:44.843482Z",
     "iopub.status.idle": "2025-07-30T21:03:44.849358Z",
     "shell.execute_reply": "2025-07-30T21:03:44.848348Z"
    },
    "papermill": {
     "duration": 0.034375,
     "end_time": "2025-07-30T21:03:44.851094",
     "exception": false,
     "start_time": "2025-07-30T21:03:44.816719",
     "status": "completed"
    },
    "tags": []
   },
   "outputs": [],
   "source": [
    "y_true = y_true.squeeze()"
   ]
  },
  {
   "cell_type": "code",
   "execution_count": 55,
   "id": "3a58a54a-1e68-46b9-927a-df01f18aebc8",
   "metadata": {
    "execution": {
     "iopub.execute_input": "2025-07-30T21:03:44.894280Z",
     "iopub.status.busy": "2025-07-30T21:03:44.893828Z",
     "iopub.status.idle": "2025-07-30T21:03:45.722514Z",
     "shell.execute_reply": "2025-07-30T21:03:45.721499Z"
    },
    "papermill": {
     "duration": 0.856331,
     "end_time": "2025-07-30T21:03:45.724354",
     "exception": false,
     "start_time": "2025-07-30T21:03:44.868023",
     "status": "completed"
    },
    "tags": []
   },
   "outputs": [],
   "source": [
    "from fairness_multiverse.conformal import evaluate_sets\n",
    "\n",
    "# Evaluate coverage and average set size on test data\n",
    "metrics = evaluate_sets(pred_sets, y_true)"
   ]
  },
  {
   "cell_type": "markdown",
   "id": "2b569c12-9aaa-4c88-98c9-bbcd0cf3ebb8",
   "metadata": {
    "papermill": {
     "duration": 0.023427,
     "end_time": "2025-07-30T21:03:45.773043",
     "exception": false,
     "start_time": "2025-07-30T21:03:45.749616",
     "status": "completed"
    },
    "tags": []
   },
   "source": [
    "# CP Metrics"
   ]
  },
  {
   "cell_type": "code",
   "execution_count": 56,
   "id": "5ce0a5cb-201f-45a0-ade5-94c7f0bd6095",
   "metadata": {
    "execution": {
     "iopub.execute_input": "2025-07-30T21:03:45.823128Z",
     "iopub.status.busy": "2025-07-30T21:03:45.822211Z",
     "iopub.status.idle": "2025-07-30T21:03:45.829205Z",
     "shell.execute_reply": "2025-07-30T21:03:45.828271Z"
    },
    "papermill": {
     "duration": 0.033214,
     "end_time": "2025-07-30T21:03:45.830837",
     "exception": false,
     "start_time": "2025-07-30T21:03:45.797623",
     "status": "completed"
    },
    "tags": []
   },
   "outputs": [
    {
     "data": {
      "text/plain": [
       "{'coverage': 0.9127967896555568, 'avg_size': 1.2490134879054733}"
      ]
     },
     "execution_count": 56,
     "metadata": {},
     "output_type": "execute_result"
    }
   ],
   "source": [
    "metrics"
   ]
  },
  {
   "cell_type": "code",
   "execution_count": 57,
   "id": "9b9a838d-31c9-430b-ae14-12baee460d17",
   "metadata": {
    "execution": {
     "iopub.execute_input": "2025-07-30T21:03:45.882325Z",
     "iopub.status.busy": "2025-07-30T21:03:45.881561Z",
     "iopub.status.idle": "2025-07-30T21:03:45.888443Z",
     "shell.execute_reply": "2025-07-30T21:03:45.887457Z"
    },
    "papermill": {
     "duration": 0.033509,
     "end_time": "2025-07-30T21:03:45.890004",
     "exception": false,
     "start_time": "2025-07-30T21:03:45.856495",
     "status": "completed"
    },
    "tags": []
   },
   "outputs": [],
   "source": [
    "example_universe = universe.copy()\n",
    "universe_training_year = example_universe.get(\"training_year\")\n",
    "universe_training_size = example_universe.get(\"training_size\")\n",
    "universe_scale = example_universe.get(\"scale\")\n",
    "universe_model = example_universe.get(\"model\")\n",
    "universe_exclude_features = example_universe.get(\"exclude_features\")\n",
    "universe_exclude_subgroups = example_universe.get(\"exclude_subgroups\")"
   ]
  },
  {
   "cell_type": "code",
   "execution_count": 58,
   "id": "f4b6a8ac-9dc0-4245-8a91-5b3b5999c4f9",
   "metadata": {
    "execution": {
     "iopub.execute_input": "2025-07-30T21:03:45.945825Z",
     "iopub.status.busy": "2025-07-30T21:03:45.944937Z",
     "iopub.status.idle": "2025-07-30T21:03:45.951556Z",
     "shell.execute_reply": "2025-07-30T21:03:45.950609Z"
    },
    "papermill": {
     "duration": 0.036354,
     "end_time": "2025-07-30T21:03:45.953272",
     "exception": false,
     "start_time": "2025-07-30T21:03:45.916918",
     "status": "completed"
    },
    "tags": []
   },
   "outputs": [],
   "source": [
    "cp_metrics_dict = {\n",
    "    \"universe_id\": [universe_id],\n",
    "    \"universe_training_year\": [universe_training_year],\n",
    "    \"universe_training_size\": [universe_training_size],\n",
    "    \"universe_scale\": [universe_scale],\n",
    "    \"universe_model\": [universe_model],\n",
    "    \"universe_exclude_features\": [universe_exclude_features],\n",
    "    \"universe_exclude_subgroups\": [universe_exclude_subgroups],\n",
    "    \"q_hat\": [q_hat],\n",
    "    \"coverage\": [metrics[\"coverage\"]],\n",
    "    \"avg_size\": [metrics[\"avg_size\"]],\n",
    "}"
   ]
  },
  {
   "cell_type": "code",
   "execution_count": 59,
   "id": "908acbb1-0371-4915-85ca-3fa520d2efe2",
   "metadata": {
    "execution": {
     "iopub.execute_input": "2025-07-30T21:03:46.009196Z",
     "iopub.status.busy": "2025-07-30T21:03:46.008324Z",
     "iopub.status.idle": "2025-07-30T21:03:46.015932Z",
     "shell.execute_reply": "2025-07-30T21:03:46.014950Z"
    },
    "papermill": {
     "duration": 0.037153,
     "end_time": "2025-07-30T21:03:46.017594",
     "exception": false,
     "start_time": "2025-07-30T21:03:45.980441",
     "status": "completed"
    },
    "tags": []
   },
   "outputs": [
    {
     "data": {
      "text/plain": [
       "{'universe_id': ['d4512715744f75f3fb9c981dd126ba0c'],\n",
       " 'universe_training_year': ['2012_14'],\n",
       " 'universe_training_size': ['5k'],\n",
       " 'universe_scale': ['do-not-scale'],\n",
       " 'universe_model': ['logreg'],\n",
       " 'universe_exclude_features': ['age'],\n",
       " 'universe_exclude_subgroups': ['drop-non-german'],\n",
       " 'q_hat': [0.6578024925089658],\n",
       " 'coverage': [0.9127967896555568],\n",
       " 'avg_size': [1.2490134879054733]}"
      ]
     },
     "execution_count": 59,
     "metadata": {},
     "output_type": "execute_result"
    }
   ],
   "source": [
    "cp_metrics_dict"
   ]
  },
  {
   "cell_type": "code",
   "execution_count": 60,
   "id": "33007efc-14e9-4ec6-97ac-56a455c82265",
   "metadata": {
    "execution": {
     "iopub.execute_input": "2025-07-30T21:03:46.074646Z",
     "iopub.status.busy": "2025-07-30T21:03:46.073579Z",
     "iopub.status.idle": "2025-07-30T21:03:46.080169Z",
     "shell.execute_reply": "2025-07-30T21:03:46.079226Z"
    },
    "papermill": {
     "duration": 0.0365,
     "end_time": "2025-07-30T21:03:46.081692",
     "exception": false,
     "start_time": "2025-07-30T21:03:46.045192",
     "status": "completed"
    },
    "tags": []
   },
   "outputs": [],
   "source": [
    "cp_metrics_df = pd.DataFrame(cp_metrics_dict)"
   ]
  },
  {
   "cell_type": "code",
   "execution_count": 61,
   "id": "db12611b-57b2-4910-b9d0-355adfd6e7bf",
   "metadata": {
    "execution": {
     "iopub.execute_input": "2025-07-30T21:03:46.134528Z",
     "iopub.status.busy": "2025-07-30T21:03:46.133746Z",
     "iopub.status.idle": "2025-07-30T21:03:46.152312Z",
     "shell.execute_reply": "2025-07-30T21:03:46.151375Z"
    },
    "papermill": {
     "duration": 0.046238,
     "end_time": "2025-07-30T21:03:46.153867",
     "exception": false,
     "start_time": "2025-07-30T21:03:46.107629",
     "status": "completed"
    },
    "tags": []
   },
   "outputs": [
    {
     "data": {
      "text/html": [
       "<div>\n",
       "<style scoped>\n",
       "    .dataframe tbody tr th:only-of-type {\n",
       "        vertical-align: middle;\n",
       "    }\n",
       "\n",
       "    .dataframe tbody tr th {\n",
       "        vertical-align: top;\n",
       "    }\n",
       "\n",
       "    .dataframe thead th {\n",
       "        text-align: right;\n",
       "    }\n",
       "</style>\n",
       "<table border=\"1\" class=\"dataframe\">\n",
       "  <thead>\n",
       "    <tr style=\"text-align: right;\">\n",
       "      <th></th>\n",
       "      <th>universe_id</th>\n",
       "      <th>universe_training_year</th>\n",
       "      <th>universe_training_size</th>\n",
       "      <th>universe_scale</th>\n",
       "      <th>universe_model</th>\n",
       "      <th>universe_exclude_features</th>\n",
       "      <th>universe_exclude_subgroups</th>\n",
       "      <th>q_hat</th>\n",
       "      <th>coverage</th>\n",
       "      <th>avg_size</th>\n",
       "    </tr>\n",
       "  </thead>\n",
       "  <tbody>\n",
       "    <tr>\n",
       "      <th>0</th>\n",
       "      <td>d4512715744f75f3fb9c981dd126ba0c</td>\n",
       "      <td>2012_14</td>\n",
       "      <td>5k</td>\n",
       "      <td>do-not-scale</td>\n",
       "      <td>logreg</td>\n",
       "      <td>age</td>\n",
       "      <td>drop-non-german</td>\n",
       "      <td>0.657802</td>\n",
       "      <td>0.912797</td>\n",
       "      <td>1.249013</td>\n",
       "    </tr>\n",
       "  </tbody>\n",
       "</table>\n",
       "</div>"
      ],
      "text/plain": [
       "                        universe_id universe_training_year  \\\n",
       "0  d4512715744f75f3fb9c981dd126ba0c                2012_14   \n",
       "\n",
       "  universe_training_size universe_scale universe_model  \\\n",
       "0                     5k   do-not-scale         logreg   \n",
       "\n",
       "  universe_exclude_features universe_exclude_subgroups     q_hat  coverage  \\\n",
       "0                       age            drop-non-german  0.657802  0.912797   \n",
       "\n",
       "   avg_size  \n",
       "0  1.249013  "
      ]
     },
     "execution_count": 61,
     "metadata": {},
     "output_type": "execute_result"
    }
   ],
   "source": [
    "cp_metrics_df"
   ]
  },
  {
   "cell_type": "code",
   "execution_count": 62,
   "id": "b7fbde55-a0a1-47e4-9af6-fe4a17fa8c61",
   "metadata": {
    "execution": {
     "iopub.execute_input": "2025-07-30T21:03:46.206699Z",
     "iopub.status.busy": "2025-07-30T21:03:46.205779Z",
     "iopub.status.idle": "2025-07-30T21:03:46.211244Z",
     "shell.execute_reply": "2025-07-30T21:03:46.210331Z"
    },
    "papermill": {
     "duration": 0.03304,
     "end_time": "2025-07-30T21:03:46.212842",
     "exception": false,
     "start_time": "2025-07-30T21:03:46.179802",
     "status": "completed"
    },
    "tags": []
   },
   "outputs": [],
   "source": [
    "# Conditional Coverage & looking at subgroups"
   ]
  },
  {
   "cell_type": "code",
   "execution_count": 63,
   "id": "027ae886-68dd-4141-96c7-805a5450e1ef",
   "metadata": {
    "execution": {
     "iopub.execute_input": "2025-07-30T21:03:46.264418Z",
     "iopub.status.busy": "2025-07-30T21:03:46.263989Z",
     "iopub.status.idle": "2025-07-30T21:03:46.528861Z",
     "shell.execute_reply": "2025-07-30T21:03:46.527566Z"
    },
    "papermill": {
     "duration": 0.29223,
     "end_time": "2025-07-30T21:03:46.530820",
     "exception": false,
     "start_time": "2025-07-30T21:03:46.238590",
     "status": "completed"
    },
    "tags": []
   },
   "outputs": [],
   "source": [
    "from fairness_multiverse.conformal import build_cp_groups\n",
    "\n",
    "cp_groups_df = build_cp_groups(pred_sets, y_true, X_test.index, org_test)\n",
    "#needs universe_id and setting"
   ]
  },
  {
   "cell_type": "code",
   "execution_count": 64,
   "id": "01d5802c-663a-4d1f-9d69-e036faaffbf7",
   "metadata": {
    "execution": {
     "iopub.execute_input": "2025-07-30T21:03:46.600488Z",
     "iopub.status.busy": "2025-07-30T21:03:46.599780Z",
     "iopub.status.idle": "2025-07-30T21:03:46.604950Z",
     "shell.execute_reply": "2025-07-30T21:03:46.603849Z"
    },
    "papermill": {
     "duration": 0.033169,
     "end_time": "2025-07-30T21:03:46.606757",
     "exception": false,
     "start_time": "2025-07-30T21:03:46.573588",
     "status": "completed"
    },
    "tags": []
   },
   "outputs": [],
   "source": [
    "#delete\n",
    "#cp_groups_df"
   ]
  },
  {
   "cell_type": "code",
   "execution_count": 65,
   "id": "fa424af1-d1eb-443d-b717-2d279ada8408",
   "metadata": {
    "execution": {
     "iopub.execute_input": "2025-07-30T21:03:46.660065Z",
     "iopub.status.busy": "2025-07-30T21:03:46.659212Z",
     "iopub.status.idle": "2025-07-30T21:03:46.664344Z",
     "shell.execute_reply": "2025-07-30T21:03:46.663396Z"
    },
    "papermill": {
     "duration": 0.033268,
     "end_time": "2025-07-30T21:03:46.666048",
     "exception": false,
     "start_time": "2025-07-30T21:03:46.632780",
     "status": "completed"
    },
    "tags": []
   },
   "outputs": [],
   "source": [
    "#delete\n",
    "#percentage = (cp_groups_df['nongerman_female'] == 1).mean() * 100\n",
    "#print(percentage)\n"
   ]
  },
  {
   "cell_type": "code",
   "execution_count": 66,
   "id": "6cbdab96-b2b2-45af-ad54-d0516db2e28d",
   "metadata": {
    "execution": {
     "iopub.execute_input": "2025-07-30T21:03:46.720066Z",
     "iopub.status.busy": "2025-07-30T21:03:46.719271Z",
     "iopub.status.idle": "2025-07-30T21:03:48.380093Z",
     "shell.execute_reply": "2025-07-30T21:03:48.379089Z"
    },
    "papermill": {
     "duration": 1.690004,
     "end_time": "2025-07-30T21:03:48.381939",
     "exception": false,
     "start_time": "2025-07-30T21:03:46.691935",
     "status": "completed"
    },
    "tags": []
   },
   "outputs": [],
   "source": [
    "# Define covered = 1 if true_label is in the predicted set\n",
    "cp_groups_df['covered'] = cp_groups_df.apply(\n",
    "    lambda r: int(r['true_label'] in r['pred_set']),\n",
    "    axis=1\n",
    ")"
   ]
  },
  {
   "cell_type": "code",
   "execution_count": 67,
   "id": "338ff529-1a6b-4b87-a931-8e4788d52aad",
   "metadata": {
    "execution": {
     "iopub.execute_input": "2025-07-30T21:03:48.438372Z",
     "iopub.status.busy": "2025-07-30T21:03:48.437523Z",
     "iopub.status.idle": "2025-07-30T21:03:48.442738Z",
     "shell.execute_reply": "2025-07-30T21:03:48.441916Z"
    },
    "papermill": {
     "duration": 0.033658,
     "end_time": "2025-07-30T21:03:48.444488",
     "exception": false,
     "start_time": "2025-07-30T21:03:48.410830",
     "status": "completed"
    },
    "tags": []
   },
   "outputs": [],
   "source": [
    "#cp_groups_df"
   ]
  },
  {
   "cell_type": "code",
   "execution_count": 68,
   "id": "90032e27-66df-4540-9169-4e89cfbaa758",
   "metadata": {
    "execution": {
     "iopub.execute_input": "2025-07-30T21:03:48.498450Z",
     "iopub.status.busy": "2025-07-30T21:03:48.497661Z",
     "iopub.status.idle": "2025-07-30T21:03:48.508825Z",
     "shell.execute_reply": "2025-07-30T21:03:48.507894Z"
    },
    "papermill": {
     "duration": 0.039621,
     "end_time": "2025-07-30T21:03:48.510367",
     "exception": false,
     "start_time": "2025-07-30T21:03:48.470746",
     "status": "completed"
    },
    "tags": []
   },
   "outputs": [],
   "source": [
    "subgroups = ['frau1','nongerman','nongerman_male','nongerman_female']\n",
    "\n",
    "# Conditional coverage for subgroup==1\n",
    "cond_coverage = {\n",
    "    g: cp_groups_df.loc[cp_groups_df[g]==1, 'covered'].mean()\n",
    "    for g in subgroups\n",
    "}"
   ]
  },
  {
   "cell_type": "code",
   "execution_count": 69,
   "id": "1e348fb1-b9c3-45bc-ba23-f016827a7e0d",
   "metadata": {
    "execution": {
     "iopub.execute_input": "2025-07-30T21:03:48.564292Z",
     "iopub.status.busy": "2025-07-30T21:03:48.563612Z",
     "iopub.status.idle": "2025-07-30T21:03:48.570882Z",
     "shell.execute_reply": "2025-07-30T21:03:48.569997Z"
    },
    "papermill": {
     "duration": 0.035888,
     "end_time": "2025-07-30T21:03:48.572428",
     "exception": false,
     "start_time": "2025-07-30T21:03:48.536540",
     "status": "completed"
    },
    "tags": []
   },
   "outputs": [
    {
     "data": {
      "text/plain": [
       "{'frau1': 0.9110392236150424,\n",
       " 'nongerman': 0.960815135013754,\n",
       " 'nongerman_male': 0.9676663964694227,\n",
       " 'nongerman_female': 0.949478390461997}"
      ]
     },
     "execution_count": 69,
     "metadata": {},
     "output_type": "execute_result"
    }
   ],
   "source": [
    "cond_coverage"
   ]
  },
  {
   "cell_type": "code",
   "execution_count": 70,
   "id": "f5093324-c3dd-4d63-bc4c-8d945e5c8bbb",
   "metadata": {
    "execution": {
     "iopub.execute_input": "2025-07-30T21:03:48.626646Z",
     "iopub.status.busy": "2025-07-30T21:03:48.625770Z",
     "iopub.status.idle": "2025-07-30T21:03:48.633103Z",
     "shell.execute_reply": "2025-07-30T21:03:48.632217Z"
    },
    "papermill": {
     "duration": 0.036581,
     "end_time": "2025-07-30T21:03:48.634757",
     "exception": false,
     "start_time": "2025-07-30T21:03:48.598176",
     "status": "completed"
    },
    "tags": []
   },
   "outputs": [],
   "source": [
    "for subgroup, cov in cond_coverage.items():\n",
    "    cp_metrics_df[f\"cov_{subgroup}\"] = cov"
   ]
  },
  {
   "cell_type": "code",
   "execution_count": 71,
   "id": "6e872e10-dbe5-49e8-b554-5030c98ff75d",
   "metadata": {
    "execution": {
     "iopub.execute_input": "2025-07-30T21:03:48.689106Z",
     "iopub.status.busy": "2025-07-30T21:03:48.688188Z",
     "iopub.status.idle": "2025-07-30T21:03:48.706774Z",
     "shell.execute_reply": "2025-07-30T21:03:48.705817Z"
    },
    "papermill": {
     "duration": 0.04797,
     "end_time": "2025-07-30T21:03:48.708258",
     "exception": false,
     "start_time": "2025-07-30T21:03:48.660288",
     "status": "completed"
    },
    "tags": []
   },
   "outputs": [
    {
     "data": {
      "text/html": [
       "<div>\n",
       "<style scoped>\n",
       "    .dataframe tbody tr th:only-of-type {\n",
       "        vertical-align: middle;\n",
       "    }\n",
       "\n",
       "    .dataframe tbody tr th {\n",
       "        vertical-align: top;\n",
       "    }\n",
       "\n",
       "    .dataframe thead th {\n",
       "        text-align: right;\n",
       "    }\n",
       "</style>\n",
       "<table border=\"1\" class=\"dataframe\">\n",
       "  <thead>\n",
       "    <tr style=\"text-align: right;\">\n",
       "      <th></th>\n",
       "      <th>universe_id</th>\n",
       "      <th>universe_training_year</th>\n",
       "      <th>universe_training_size</th>\n",
       "      <th>universe_scale</th>\n",
       "      <th>universe_model</th>\n",
       "      <th>universe_exclude_features</th>\n",
       "      <th>universe_exclude_subgroups</th>\n",
       "      <th>q_hat</th>\n",
       "      <th>coverage</th>\n",
       "      <th>avg_size</th>\n",
       "      <th>cov_frau1</th>\n",
       "      <th>cov_nongerman</th>\n",
       "      <th>cov_nongerman_male</th>\n",
       "      <th>cov_nongerman_female</th>\n",
       "    </tr>\n",
       "  </thead>\n",
       "  <tbody>\n",
       "    <tr>\n",
       "      <th>0</th>\n",
       "      <td>d4512715744f75f3fb9c981dd126ba0c</td>\n",
       "      <td>2012_14</td>\n",
       "      <td>5k</td>\n",
       "      <td>do-not-scale</td>\n",
       "      <td>logreg</td>\n",
       "      <td>age</td>\n",
       "      <td>drop-non-german</td>\n",
       "      <td>0.657802</td>\n",
       "      <td>0.912797</td>\n",
       "      <td>1.249013</td>\n",
       "      <td>0.911039</td>\n",
       "      <td>0.960815</td>\n",
       "      <td>0.967666</td>\n",
       "      <td>0.949478</td>\n",
       "    </tr>\n",
       "  </tbody>\n",
       "</table>\n",
       "</div>"
      ],
      "text/plain": [
       "                        universe_id universe_training_year  \\\n",
       "0  d4512715744f75f3fb9c981dd126ba0c                2012_14   \n",
       "\n",
       "  universe_training_size universe_scale universe_model  \\\n",
       "0                     5k   do-not-scale         logreg   \n",
       "\n",
       "  universe_exclude_features universe_exclude_subgroups     q_hat  coverage  \\\n",
       "0                       age            drop-non-german  0.657802  0.912797   \n",
       "\n",
       "   avg_size  cov_frau1  cov_nongerman  cov_nongerman_male  \\\n",
       "0  1.249013   0.911039       0.960815            0.967666   \n",
       "\n",
       "   cov_nongerman_female  \n",
       "0              0.949478  "
      ]
     },
     "execution_count": 71,
     "metadata": {},
     "output_type": "execute_result"
    }
   ],
   "source": [
    "cp_metrics_df"
   ]
  },
  {
   "cell_type": "markdown",
   "id": "33774451",
   "metadata": {
    "papermill": {
     "duration": 0.026523,
     "end_time": "2025-07-30T21:03:48.762148",
     "exception": false,
     "start_time": "2025-07-30T21:03:48.735625",
     "status": "completed"
    },
    "tags": []
   },
   "source": [
    "# (Fairness) Metrics"
   ]
  },
  {
   "cell_type": "code",
   "execution_count": 72,
   "id": "debc5d62",
   "metadata": {
    "execution": {
     "iopub.execute_input": "2025-07-30T21:03:48.816276Z",
     "iopub.status.busy": "2025-07-30T21:03:48.815526Z",
     "iopub.status.idle": "2025-07-30T21:03:48.835765Z",
     "shell.execute_reply": "2025-07-30T21:03:48.834879Z"
    },
    "papermill": {
     "duration": 0.049915,
     "end_time": "2025-07-30T21:03:48.837674",
     "exception": false,
     "start_time": "2025-07-30T21:03:48.787759",
     "status": "completed"
    },
    "tags": []
   },
   "outputs": [],
   "source": [
    "# do I need to include maxdeutsch1.missing?\n",
    "\n",
    "import numpy as np\n",
    "\n",
    "colname_to_bin = \"maxdeutsch1\"\n",
    "majority_value = org_train[colname_to_bin].mode()[0]\n",
    "\n",
    "org_test[\"majmin\"] = np.where(org_test[colname_to_bin] == majority_value, \"majority\", \"minority\")"
   ]
  },
  {
   "cell_type": "code",
   "execution_count": 73,
   "id": "06a50de5",
   "metadata": {
    "execution": {
     "iopub.execute_input": "2025-07-30T21:03:48.893482Z",
     "iopub.status.busy": "2025-07-30T21:03:48.893032Z",
     "iopub.status.idle": "2025-07-30T21:03:51.643808Z",
     "shell.execute_reply": "2025-07-30T21:03:51.642790Z"
    },
    "papermill": {
     "duration": 2.780915,
     "end_time": "2025-07-30T21:03:51.645711",
     "exception": false,
     "start_time": "2025-07-30T21:03:48.864796",
     "status": "completed"
    },
    "tags": []
   },
   "outputs": [],
   "source": [
    "example_universe = universe.copy()\n",
    "example_universe[\"cutoff\"] = example_universe[\"cutoff\"][0]\n",
    "example_universe[\"eval_fairness_grouping\"] = example_universe[\"eval_fairness_grouping\"][0]\n",
    "fairness_dict, metric_frame = universe_analysis.compute_metrics(\n",
    "    example_universe,\n",
    "    y_pred_prob=probs_test,\n",
    "    y_test=y_true,\n",
    "    org_test=org_test,\n",
    ")"
   ]
  },
  {
   "cell_type": "markdown",
   "id": "f95d4e02",
   "metadata": {
    "papermill": {
     "duration": 0.030658,
     "end_time": "2025-07-30T21:03:51.705015",
     "exception": false,
     "start_time": "2025-07-30T21:03:51.674357",
     "status": "completed"
    },
    "tags": []
   },
   "source": [
    "# Overall"
   ]
  },
  {
   "cell_type": "markdown",
   "id": "bdee4871",
   "metadata": {
    "papermill": {
     "duration": 0.018824,
     "end_time": "2025-07-30T21:03:51.752829",
     "exception": false,
     "start_time": "2025-07-30T21:03:51.734005",
     "status": "completed"
    },
    "tags": []
   },
   "source": [
    "Fairness\n",
    "Main fairness target: Equalized Odds. Seems to be a better fit than equal opportunity, since we're not only interested in Y = 1. Seems to be a better fit than demographic parity, since we also care about accuracy, not just equal distribution of preds.\n",
    "\n",
    "Pick column for computation of fairness metrics\n",
    "\n",
    "Performance\n",
    "Overall performance measures, most interesting in relation to the measures split by group below"
   ]
  },
  {
   "cell_type": "code",
   "execution_count": 74,
   "id": "c4e067c6",
   "metadata": {
    "execution": {
     "iopub.execute_input": "2025-07-30T21:03:51.806290Z",
     "iopub.status.busy": "2025-07-30T21:03:51.805785Z",
     "iopub.status.idle": "2025-07-30T21:03:51.814963Z",
     "shell.execute_reply": "2025-07-30T21:03:51.814043Z"
    },
    "papermill": {
     "duration": 0.036897,
     "end_time": "2025-07-30T21:03:51.816511",
     "exception": false,
     "start_time": "2025-07-30T21:03:51.779614",
     "status": "completed"
    },
    "tags": []
   },
   "outputs": [
    {
     "data": {
      "text/plain": [
       "accuracy                   0.217267\n",
       "balanced accuracy          0.532736\n",
       "f1                         0.238794\n",
       "precision                  0.136415\n",
       "false positive rate        0.891601\n",
       "false negative rate        0.042927\n",
       "selection rate             0.900000\n",
       "count                  89710.000000\n",
       "dtype: float64"
      ]
     },
     "execution_count": 74,
     "metadata": {},
     "output_type": "execute_result"
    }
   ],
   "source": [
    "metric_frame.overall"
   ]
  },
  {
   "cell_type": "markdown",
   "id": "e968fe9d",
   "metadata": {
    "papermill": {
     "duration": 0.027942,
     "end_time": "2025-07-30T21:03:51.874228",
     "exception": false,
     "start_time": "2025-07-30T21:03:51.846286",
     "status": "completed"
    },
    "tags": []
   },
   "source": [
    "By Group"
   ]
  },
  {
   "cell_type": "code",
   "execution_count": 75,
   "id": "ec325bce",
   "metadata": {
    "execution": {
     "iopub.execute_input": "2025-07-30T21:03:51.930508Z",
     "iopub.status.busy": "2025-07-30T21:03:51.929982Z",
     "iopub.status.idle": "2025-07-30T21:03:51.946910Z",
     "shell.execute_reply": "2025-07-30T21:03:51.945908Z"
    },
    "papermill": {
     "duration": 0.048027,
     "end_time": "2025-07-30T21:03:51.948689",
     "exception": false,
     "start_time": "2025-07-30T21:03:51.900662",
     "status": "completed"
    },
    "tags": []
   },
   "outputs": [
    {
     "data": {
      "text/html": [
       "<div>\n",
       "<style scoped>\n",
       "    .dataframe tbody tr th:only-of-type {\n",
       "        vertical-align: middle;\n",
       "    }\n",
       "\n",
       "    .dataframe tbody tr th {\n",
       "        vertical-align: top;\n",
       "    }\n",
       "\n",
       "    .dataframe thead th {\n",
       "        text-align: right;\n",
       "    }\n",
       "</style>\n",
       "<table border=\"1\" class=\"dataframe\">\n",
       "  <thead>\n",
       "    <tr style=\"text-align: right;\">\n",
       "      <th></th>\n",
       "      <th>accuracy</th>\n",
       "      <th>balanced accuracy</th>\n",
       "      <th>f1</th>\n",
       "      <th>precision</th>\n",
       "      <th>false positive rate</th>\n",
       "      <th>false negative rate</th>\n",
       "      <th>selection rate</th>\n",
       "      <th>count</th>\n",
       "    </tr>\n",
       "    <tr>\n",
       "      <th>majmin</th>\n",
       "      <th></th>\n",
       "      <th></th>\n",
       "      <th></th>\n",
       "      <th></th>\n",
       "      <th></th>\n",
       "      <th></th>\n",
       "      <th></th>\n",
       "      <th></th>\n",
       "    </tr>\n",
       "  </thead>\n",
       "  <tbody>\n",
       "    <tr>\n",
       "      <th>majority</th>\n",
       "      <td>0.239410</td>\n",
       "      <td>0.540609</td>\n",
       "      <td>0.248171</td>\n",
       "      <td>0.142728</td>\n",
       "      <td>0.868782</td>\n",
       "      <td>0.050000</td>\n",
       "      <td>0.879514</td>\n",
       "      <td>69170.0</td>\n",
       "    </tr>\n",
       "    <tr>\n",
       "      <th>minority</th>\n",
       "      <td>0.142697</td>\n",
       "      <td>0.508696</td>\n",
       "      <td>0.209331</td>\n",
       "      <td>0.117118</td>\n",
       "      <td>0.966982</td>\n",
       "      <td>0.015625</td>\n",
       "      <td>0.968987</td>\n",
       "      <td>20540.0</td>\n",
       "    </tr>\n",
       "  </tbody>\n",
       "</table>\n",
       "</div>"
      ],
      "text/plain": [
       "          accuracy  balanced accuracy        f1  precision  \\\n",
       "majmin                                                       \n",
       "majority  0.239410           0.540609  0.248171   0.142728   \n",
       "minority  0.142697           0.508696  0.209331   0.117118   \n",
       "\n",
       "          false positive rate  false negative rate  selection rate    count  \n",
       "majmin                                                                       \n",
       "majority             0.868782             0.050000        0.879514  69170.0  \n",
       "minority             0.966982             0.015625        0.968987  20540.0  "
      ]
     },
     "execution_count": 75,
     "metadata": {},
     "output_type": "execute_result"
    }
   ],
   "source": [
    "metric_frame.by_group"
   ]
  },
  {
   "cell_type": "code",
   "execution_count": 76,
   "id": "a9ddbe63",
   "metadata": {
    "execution": {
     "iopub.execute_input": "2025-07-30T21:03:52.005909Z",
     "iopub.status.busy": "2025-07-30T21:03:52.005231Z",
     "iopub.status.idle": "2025-07-30T21:03:54.013119Z",
     "shell.execute_reply": "2025-07-30T21:03:54.012091Z"
    },
    "papermill": {
     "duration": 2.03985,
     "end_time": "2025-07-30T21:03:54.015343",
     "exception": false,
     "start_time": "2025-07-30T21:03:51.975493",
     "status": "completed"
    },
    "tags": []
   },
   "outputs": [
    {
     "data": {
      "text/plain": [
       "array([[<Axes: title={'center': 'accuracy'}, xlabel='majmin'>,\n",
       "        <Axes: title={'center': 'balanced accuracy'}, xlabel='majmin'>,\n",
       "        <Axes: title={'center': 'f1'}, xlabel='majmin'>],\n",
       "       [<Axes: title={'center': 'precision'}, xlabel='majmin'>,\n",
       "        <Axes: title={'center': 'false positive rate'}, xlabel='majmin'>,\n",
       "        <Axes: title={'center': 'false negative rate'}, xlabel='majmin'>],\n",
       "       [<Axes: title={'center': 'selection rate'}, xlabel='majmin'>,\n",
       "        <Axes: title={'center': 'count'}, xlabel='majmin'>,\n",
       "        <Axes: xlabel='majmin'>]], dtype=object)"
      ]
     },
     "execution_count": 76,
     "metadata": {},
     "output_type": "execute_result"
    },
    {
     "data": {
      "image/png": "[encoded data removed]",
      "text/plain": [
       "<Figure size 1200x800 with 9 Axes>"
      ]
     },
     "metadata": {},
     "output_type": "display_data"
    }
   ],
   "source": [
    "# In a graphic\n",
    "metric_frame.by_group.plot.bar(\n",
    "    subplots=True,\n",
    "    layout=[3, 3],\n",
    "    legend=False,\n",
    "    figsize=[12, 8],\n",
    "    title=\"Show all metrics\",\n",
    ")"
   ]
  },
  {
   "cell_type": "markdown",
   "id": "f57a0bac",
   "metadata": {
    "papermill": {
     "duration": 0.043776,
     "end_time": "2025-07-30T21:03:54.101670",
     "exception": false,
     "start_time": "2025-07-30T21:03:54.057894",
     "status": "completed"
    },
    "tags": []
   },
   "source": [
    "# Final Output"
   ]
  },
  {
   "cell_type": "code",
   "execution_count": 77,
   "id": "96d280a3",
   "metadata": {
    "execution": {
     "iopub.execute_input": "2025-07-30T21:03:54.185950Z",
     "iopub.status.busy": "2025-07-30T21:03:54.185295Z",
     "iopub.status.idle": "2025-07-30T21:03:54.194190Z",
     "shell.execute_reply": "2025-07-30T21:03:54.193231Z"
    },
    "papermill": {
     "duration": 0.052668,
     "end_time": "2025-07-30T21:03:54.195692",
     "exception": false,
     "start_time": "2025-07-30T21:03:54.143024",
     "status": "completed"
    },
    "tags": []
   },
   "outputs": [
    {
     "data": {
      "text/plain": [
       "4"
      ]
     },
     "execution_count": 77,
     "metadata": {},
     "output_type": "execute_result"
    }
   ],
   "source": [
    "sub_universes = universe_analysis.generate_sub_universes()\n",
    "len(sub_universes)"
   ]
  },
  {
   "cell_type": "code",
   "execution_count": 78,
   "id": "92adf7ba",
   "metadata": {
    "execution": {
     "iopub.execute_input": "2025-07-30T21:03:54.253475Z",
     "iopub.status.busy": "2025-07-30T21:03:54.252556Z",
     "iopub.status.idle": "2025-07-30T21:03:54.266251Z",
     "shell.execute_reply": "2025-07-30T21:03:54.265350Z"
    },
    "papermill": {
     "duration": 0.044312,
     "end_time": "2025-07-30T21:03:54.267884",
     "exception": false,
     "start_time": "2025-07-30T21:03:54.223572",
     "status": "completed"
    },
    "tags": []
   },
   "outputs": [],
   "source": [
    "def filter_sub_universe_data(sub_universe, org_test):\n",
    "    # Keep all rows — no filtering\n",
    "    keep_rows_mask = np.ones(org_test.shape[0], dtype=bool)\n",
    "\n",
    "    print(f\"[INFO] Keeping all rows: {keep_rows_mask.sum()} rows retained.\")\n",
    "    return keep_rows_mask"
   ]
  },
  {
   "cell_type": "code",
   "execution_count": 79,
   "id": "4a759155",
   "metadata": {
    "execution": {
     "iopub.execute_input": "2025-07-30T21:03:54.334667Z",
     "iopub.status.busy": "2025-07-30T21:03:54.334157Z",
     "iopub.status.idle": "2025-07-30T21:04:05.276425Z",
     "shell.execute_reply": "2025-07-30T21:04:05.275327Z"
    },
    "papermill": {
     "duration": 10.980069,
     "end_time": "2025-07-30T21:04:05.278080",
     "exception": false,
     "start_time": "2025-07-30T21:03:54.298011",
     "status": "completed"
    },
    "tags": []
   },
   "outputs": [
    {
     "name": "stdout",
     "output_type": "stream",
     "text": [
      "Stopping execution_time clock.\n",
      "[INFO] Keeping all rows: 89710 rows retained.\n"
     ]
    },
    {
     "name": "stdout",
     "output_type": "stream",
     "text": [
      "[INFO] Keeping all rows: 89710 rows retained.\n"
     ]
    },
    {
     "name": "stdout",
     "output_type": "stream",
     "text": [
      "[INFO] Keeping all rows: 89710 rows retained.\n"
     ]
    },
    {
     "name": "stdout",
     "output_type": "stream",
     "text": [
      "[INFO] Keeping all rows: 89710 rows retained.\n"
     ]
    },
    {
     "data": {
      "text/html": [
       "<div>\n",
       "<style scoped>\n",
       "    .dataframe tbody tr th:only-of-type {\n",
       "        vertical-align: middle;\n",
       "    }\n",
       "\n",
       "    .dataframe tbody tr th {\n",
       "        vertical-align: top;\n",
       "    }\n",
       "\n",
       "    .dataframe thead th {\n",
       "        text-align: right;\n",
       "    }\n",
       "</style>\n",
       "<table border=\"1\" class=\"dataframe\">\n",
       "  <thead>\n",
       "    <tr style=\"text-align: right;\">\n",
       "      <th></th>\n",
       "      <th>run_no</th>\n",
       "      <th>universe_id</th>\n",
       "      <th>universe_settings</th>\n",
       "      <th>execution_time</th>\n",
       "      <th>test_size_n</th>\n",
       "      <th>test_size_frac</th>\n",
       "      <th>fair_main_equalized_odds_difference</th>\n",
       "      <th>fair_main_equalized_odds_ratio</th>\n",
       "      <th>fair_main_demographic_parity_difference</th>\n",
       "      <th>fair_main_demographic_parity_ratio</th>\n",
       "      <th>...</th>\n",
       "      <th>perf_grp_precision_0</th>\n",
       "      <th>perf_grp_precision_1</th>\n",
       "      <th>perf_grp_false positive rate_0</th>\n",
       "      <th>perf_grp_false positive rate_1</th>\n",
       "      <th>perf_grp_false negative rate_0</th>\n",
       "      <th>perf_grp_false negative rate_1</th>\n",
       "      <th>perf_grp_selection rate_0</th>\n",
       "      <th>perf_grp_selection rate_1</th>\n",
       "      <th>perf_grp_count_0</th>\n",
       "      <th>perf_grp_count_1</th>\n",
       "    </tr>\n",
       "  </thead>\n",
       "  <tbody>\n",
       "    <tr>\n",
       "      <th>0</th>\n",
       "      <td>14</td>\n",
       "      <td>d4512715744f75f3fb9c981dd126ba0c</td>\n",
       "      <td>{\"cutoff\": \"quantile_0.1\", \"eval_fairness_grou...</td>\n",
       "      <td>26.301032</td>\n",
       "      <td>89710</td>\n",
       "      <td>1.0</td>\n",
       "      <td>0.098200</td>\n",
       "      <td>0.898447</td>\n",
       "      <td>0.089473</td>\n",
       "      <td>0.907663</td>\n",
       "      <td>...</td>\n",
       "      <td>NaN</td>\n",
       "      <td>NaN</td>\n",
       "      <td>NaN</td>\n",
       "      <td>NaN</td>\n",
       "      <td>NaN</td>\n",
       "      <td>NaN</td>\n",
       "      <td>NaN</td>\n",
       "      <td>NaN</td>\n",
       "      <td>NaN</td>\n",
       "      <td>NaN</td>\n",
       "    </tr>\n",
       "    <tr>\n",
       "      <th>0</th>\n",
       "      <td>14</td>\n",
       "      <td>d4512715744f75f3fb9c981dd126ba0c</td>\n",
       "      <td>{\"cutoff\": \"quantile_0.1\", \"eval_fairness_grou...</td>\n",
       "      <td>26.301032</td>\n",
       "      <td>89710</td>\n",
       "      <td>1.0</td>\n",
       "      <td>0.098200</td>\n",
       "      <td>0.898447</td>\n",
       "      <td>0.089473</td>\n",
       "      <td>0.907663</td>\n",
       "      <td>...</td>\n",
       "      <td>0.117118</td>\n",
       "      <td>0.142728</td>\n",
       "      <td>0.966982</td>\n",
       "      <td>0.868782</td>\n",
       "      <td>0.015625</td>\n",
       "      <td>0.050000</td>\n",
       "      <td>0.968987</td>\n",
       "      <td>0.879514</td>\n",
       "      <td>20540.0</td>\n",
       "      <td>69170.0</td>\n",
       "    </tr>\n",
       "    <tr>\n",
       "      <th>0</th>\n",
       "      <td>14</td>\n",
       "      <td>d4512715744f75f3fb9c981dd126ba0c</td>\n",
       "      <td>{\"cutoff\": \"quantile_0.25\", \"eval_fairness_gro...</td>\n",
       "      <td>26.301032</td>\n",
       "      <td>89710</td>\n",
       "      <td>1.0</td>\n",
       "      <td>0.230328</td>\n",
       "      <td>0.746884</td>\n",
       "      <td>0.212356</td>\n",
       "      <td>0.767594</td>\n",
       "      <td>...</td>\n",
       "      <td>NaN</td>\n",
       "      <td>NaN</td>\n",
       "      <td>NaN</td>\n",
       "      <td>NaN</td>\n",
       "      <td>NaN</td>\n",
       "      <td>NaN</td>\n",
       "      <td>NaN</td>\n",
       "      <td>NaN</td>\n",
       "      <td>NaN</td>\n",
       "      <td>NaN</td>\n",
       "    </tr>\n",
       "    <tr>\n",
       "      <th>0</th>\n",
       "      <td>14</td>\n",
       "      <td>d4512715744f75f3fb9c981dd126ba0c</td>\n",
       "      <td>{\"cutoff\": \"quantile_0.25\", \"eval_fairness_gro...</td>\n",
       "      <td>26.301032</td>\n",
       "      <td>89710</td>\n",
       "      <td>1.0</td>\n",
       "      <td>0.230328</td>\n",
       "      <td>0.746884</td>\n",
       "      <td>0.212356</td>\n",
       "      <td>0.767594</td>\n",
       "      <td>...</td>\n",
       "      <td>0.118926</td>\n",
       "      <td>0.159026</td>\n",
       "      <td>0.909971</td>\n",
       "      <td>0.679644</td>\n",
       "      <td>0.057432</td>\n",
       "      <td>0.155908</td>\n",
       "      <td>0.913729</td>\n",
       "      <td>0.701373</td>\n",
       "      <td>20540.0</td>\n",
       "      <td>69170.0</td>\n",
       "    </tr>\n",
       "  </tbody>\n",
       "</table>\n",
       "<p>4 rows × 50 columns</p>\n",
       "</div>"
      ],
      "text/plain": [
       "  run_no                       universe_id  \\\n",
       "0     14  d4512715744f75f3fb9c981dd126ba0c   \n",
       "0     14  d4512715744f75f3fb9c981dd126ba0c   \n",
       "0     14  d4512715744f75f3fb9c981dd126ba0c   \n",
       "0     14  d4512715744f75f3fb9c981dd126ba0c   \n",
       "\n",
       "                                   universe_settings  execution_time  \\\n",
       "0  {\"cutoff\": \"quantile_0.1\", \"eval_fairness_grou...       26.301032   \n",
       "0  {\"cutoff\": \"quantile_0.1\", \"eval_fairness_grou...       26.301032   \n",
       "0  {\"cutoff\": \"quantile_0.25\", \"eval_fairness_gro...       26.301032   \n",
       "0  {\"cutoff\": \"quantile_0.25\", \"eval_fairness_gro...       26.301032   \n",
       "\n",
       "   test_size_n  test_size_frac  fair_main_equalized_odds_difference  \\\n",
       "0        89710             1.0                             0.098200   \n",
       "0        89710             1.0                             0.098200   \n",
       "0        89710             1.0                             0.230328   \n",
       "0        89710             1.0                             0.230328   \n",
       "\n",
       "   fair_main_equalized_odds_ratio  fair_main_demographic_parity_difference  \\\n",
       "0                        0.898447                                 0.089473   \n",
       "0                        0.898447                                 0.089473   \n",
       "0                        0.746884                                 0.212356   \n",
       "0                        0.746884                                 0.212356   \n",
       "\n",
       "   fair_main_demographic_parity_ratio  ...  perf_grp_precision_0  \\\n",
       "0                            0.907663  ...                   NaN   \n",
       "0                            0.907663  ...              0.117118   \n",
       "0                            0.767594  ...                   NaN   \n",
       "0                            0.767594  ...              0.118926   \n",
       "\n",
       "   perf_grp_precision_1  perf_grp_false positive rate_0  \\\n",
       "0                   NaN                             NaN   \n",
       "0              0.142728                        0.966982   \n",
       "0                   NaN                             NaN   \n",
       "0              0.159026                        0.909971   \n",
       "\n",
       "   perf_grp_false positive rate_1  perf_grp_false negative rate_0  \\\n",
       "0                             NaN                             NaN   \n",
       "0                        0.868782                        0.015625   \n",
       "0                             NaN                             NaN   \n",
       "0                        0.679644                        0.057432   \n",
       "\n",
       "   perf_grp_false negative rate_1  perf_grp_selection rate_0  \\\n",
       "0                             NaN                        NaN   \n",
       "0                        0.050000                   0.968987   \n",
       "0                             NaN                        NaN   \n",
       "0                        0.155908                   0.913729   \n",
       "\n",
       "   perf_grp_selection rate_1  perf_grp_count_0  perf_grp_count_1  \n",
       "0                        NaN               NaN               NaN  \n",
       "0                   0.879514           20540.0           69170.0  \n",
       "0                        NaN               NaN               NaN  \n",
       "0                   0.701373           20540.0           69170.0  \n",
       "\n",
       "[4 rows x 50 columns]"
      ]
     },
     "execution_count": 79,
     "metadata": {},
     "output_type": "execute_result"
    }
   ],
   "source": [
    "final_output = universe_analysis.generate_final_output(\n",
    "    y_pred_prob=probs_test,\n",
    "    y_test=y_true,\n",
    "    org_test=org_test,\n",
    "    filter_data=filter_sub_universe_data,\n",
    "    cp_metrics_df=cp_metrics_df,\n",
    "    save=True,\n",
    ")\n",
    "final_output"
   ]
  },
  {
   "cell_type": "code",
   "execution_count": null,
   "id": "721ff514-cb11-46f8-b6fc-50392f74b5cb",
   "metadata": {
    "papermill": {
     "duration": 0.028567,
     "end_time": "2025-07-30T21:04:05.342175",
     "exception": false,
     "start_time": "2025-07-30T21:04:05.313608",
     "status": "completed"
    },
    "tags": []
   },
   "outputs": [],
   "source": []
  }
 ],
 "metadata": {
  "celltoolbar": "Tags",
  "kernelspec": {
   "display_name": "Python (CMA Fairness)",
   "language": "python",
   "name": "cma_fair_env"
  },
  "language_info": {
   "codemirror_mode": {
    "name": "ipython",
    "version": 3
   },
   "file_extension": ".py",
   "mimetype": "text/x-python",
   "name": "python",
   "nbconvert_exporter": "python",
   "pygments_lexer": "ipython3",
   "version": "3.10.12"
  },
  "papermill": {
   "default_parameters": {},
   "duration": 41.504225,
   "end_time": "2025-07-30T21:04:06.178542",
   "environment_variables": {},
   "exception": null,
   "input_path": "universe_analysis.ipynb",
   "output_path": "output/runs/14/notebooks/m_14-d4512715744f75f3fb9c981dd126ba0c.ipynb",
   "parameters": {
    "output_dir": "output",
    "run_no": "14",
    "seed": "2023",
    "universe": "{\"cutoff\": [\"quantile_0.1\", \"quantile_0.25\"], \"eval_fairness_grouping\": [\"majority-minority\", \"nationality-all\"], \"exclude_features\": \"age\", \"exclude_subgroups\": \"drop-non-german\", \"model\": \"logreg\", \"scale\": \"do-not-scale\", \"training_size\": \"5k\", \"training_year\": \"2012_14\"}",
    "universe_id": "d4512715744f75f3fb9c981dd126ba0c"
   },
   "start_time": "2025-07-30T21:03:24.674317",
   "version": "2.6.0"
  }
 },
 "nbformat": 4,
 "nbformat_minor": 5
}