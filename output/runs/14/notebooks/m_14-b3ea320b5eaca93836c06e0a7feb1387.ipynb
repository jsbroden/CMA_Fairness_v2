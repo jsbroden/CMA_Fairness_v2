{
 "cells": [
  {
   "cell_type": "code",
   "execution_count": 1,
   "id": "f159f837-637b-42ba-96b5-ec9a68c44524",
   "metadata": {
    "execution": {
     "iopub.execute_input": "2025-07-30T21:30:33.529364Z",
     "iopub.status.busy": "2025-07-30T21:30:33.528642Z",
     "iopub.status.idle": "2025-07-30T21:30:33.543109Z",
     "shell.execute_reply": "2025-07-30T21:30:33.541819Z"
    },
    "papermill": {
     "duration": 0.043658,
     "end_time": "2025-07-30T21:30:33.545136",
     "exception": false,
     "start_time": "2025-07-30T21:30:33.501478",
     "status": "completed"
    },
    "tags": []
   },
   "outputs": [
    {
     "name": "stdout",
     "output_type": "stream",
     "text": [
      "/dss/dsshome1/0C/ra93lal2/cma/CMA_Fairness_v2\n"
     ]
    },
    {
     "name": "stderr",
     "output_type": "stream",
     "text": [
      "/dss/dsshome1/0C/ra93lal2/.local/share/virtualenvs/CMA_Fairness_v2-3j10GkSs/lib/python3.10/site-packages/IPython/core/magics/osm.py:393: UserWarning: This is now an optional IPython functionality, using bookmarks requires you to install the `pickleshare` library.\n",
      "  bkms = self.shell.db.get('bookmarks', {})\n",
      "/dss/dsshome1/0C/ra93lal2/.local/share/virtualenvs/CMA_Fairness_v2-3j10GkSs/lib/python3.10/site-packages/IPython/core/magics/osm.py:417: UserWarning: This is now an optional IPython functionality, setting dhist requires you to install the `pickleshare` library.\n",
      "  self.shell.db['dhist'] = compress_dhist(dhist)[-100:]\n"
     ]
    }
   ],
   "source": [
    "%cd ~/cma/CMA_Fairness_v2"
   ]
  },
  {
   "cell_type": "markdown",
   "id": "de2603b9",
   "metadata": {
    "papermill": {
     "duration": 0.019491,
     "end_time": "2025-07-30T21:30:33.635321",
     "exception": false,
     "start_time": "2025-07-30T21:30:33.615830",
     "status": "completed"
    },
    "tags": []
   },
   "source": [
    "The following cell holds the definition of our parameters, these values can be overriden by rendering the with e.g. the following command:\n",
    "\n",
    "papermill -p alpha 0.2 -p ratio 0.3 universe_analysis.ipynb output/test_run.ipynb"
   ]
  },
  {
   "cell_type": "code",
   "execution_count": 2,
   "id": "a80968a0-40bb-4fa9-85ef-2d5eefb01975",
   "metadata": {
    "execution": {
     "iopub.execute_input": "2025-07-30T21:30:33.678587Z",
     "iopub.status.busy": "2025-07-30T21:30:33.677655Z",
     "iopub.status.idle": "2025-07-30T21:30:33.683577Z",
     "shell.execute_reply": "2025-07-30T21:30:33.682620Z"
    },
    "papermill": {
     "duration": 0.029032,
     "end_time": "2025-07-30T21:30:33.685532",
     "exception": false,
     "start_time": "2025-07-30T21:30:33.656500",
     "status": "completed"
    },
    "tags": []
   },
   "outputs": [
    {
     "name": "stdout",
     "output_type": "stream",
     "text": [
      "Current working directory: /dss/dsshome1/0C/ra93lal2/cma/CMA_Fairness_v2\n"
     ]
    }
   ],
   "source": [
    "import os\n",
    "print(\"Current working directory:\", os.getcwd())"
   ]
  },
  {
   "cell_type": "code",
   "execution_count": 3,
   "id": "2dce4c03",
   "metadata": {
    "execution": {
     "iopub.execute_input": "2025-07-30T21:30:33.732885Z",
     "iopub.status.busy": "2025-07-30T21:30:33.731936Z",
     "iopub.status.idle": "2025-07-30T21:30:33.738535Z",
     "shell.execute_reply": "2025-07-30T21:30:33.737581Z"
    },
    "papermill": {
     "duration": 0.031314,
     "end_time": "2025-07-30T21:30:33.740455",
     "exception": false,
     "start_time": "2025-07-30T21:30:33.709141",
     "status": "completed"
    },
    "tags": [
     "parameters"
    ]
   },
   "outputs": [],
   "source": [
    "run_no = 0\n",
    "universe_id = \"test\"\n",
    "universe = {\n",
    "    \"training_size\": \"25k\", # \"25k\", \"5k\", \"1k\"\n",
    "    \"training_year\": \"2014\", # \"2014\", \"2012_14\", \"2010_14\"\n",
    "    \"scale\": \"scale\", # \"scale\", \"do-not-scale\",\n",
    "    #\"stratify_split\": \"target\", # \"none\", \"target\", \"protected-attribute\", \"both\",\n",
    "    \"model\": \"elasticnet\", # \"logreg\", \"penalized_logreg\", \"rf\", \"gbm\", \"elasticnet\"\n",
    "    \"cutoff\": [\"quantile_0.15\", \"quantile_0.30\"],\n",
    "    \"exclude_features\": \"age\", # \"none\", \"nationality\", \"sex\", \"nationality-sex\", \"age\"\n",
    "    \"exclude_subgroups\": \"keep-all\", # \"keep-all\", \"drop-non-german\"\n",
    "    \"eval_fairness_grouping\": [\"majority-minority\", \"nationality-all\"]\n",
    "}\n",
    "\n",
    "output_dir=\"./output\"\n",
    "seed=0"
   ]
  },
  {
   "cell_type": "code",
   "execution_count": 4,
   "id": "8cab838c",
   "metadata": {
    "execution": {
     "iopub.execute_input": "2025-07-30T21:30:33.787358Z",
     "iopub.status.busy": "2025-07-30T21:30:33.786760Z",
     "iopub.status.idle": "2025-07-30T21:30:33.792346Z",
     "shell.execute_reply": "2025-07-30T21:30:33.791373Z"
    },
    "papermill": {
     "duration": 0.030205,
     "end_time": "2025-07-30T21:30:33.794144",
     "exception": false,
     "start_time": "2025-07-30T21:30:33.763939",
     "status": "completed"
    },
    "tags": [
     "injected-parameters"
    ]
   },
   "outputs": [],
   "source": [
    "# Parameters\n",
    "universe_id = \"b3ea320b5eaca93836c06e0a7feb1387\"\n",
    "run_no = \"14\"\n",
    "universe = \"{\\\"cutoff\\\": [\\\"quantile_0.1\\\", \\\"quantile_0.25\\\"], \\\"eval_fairness_grouping\\\": [\\\"majority-minority\\\", \\\"nationality-all\\\"], \\\"exclude_features\\\": \\\"sex\\\", \\\"exclude_subgroups\\\": \\\"drop-non-german\\\", \\\"model\\\": \\\"gbm\\\", \\\"scale\\\": \\\"do-not-scale\\\", \\\"training_size\\\": \\\"1k\\\", \\\"training_year\\\": \\\"2014\\\"}\"\n",
    "output_dir = \"output\"\n",
    "seed = \"2023\"\n"
   ]
  },
  {
   "cell_type": "code",
   "execution_count": 5,
   "id": "1650acaf",
   "metadata": {
    "execution": {
     "iopub.execute_input": "2025-07-30T21:30:33.837657Z",
     "iopub.status.busy": "2025-07-30T21:30:33.837210Z",
     "iopub.status.idle": "2025-07-30T21:30:33.843048Z",
     "shell.execute_reply": "2025-07-30T21:30:33.842140Z"
    },
    "papermill": {
     "duration": 0.029061,
     "end_time": "2025-07-30T21:30:33.845047",
     "exception": false,
     "start_time": "2025-07-30T21:30:33.815986",
     "status": "completed"
    },
    "tags": []
   },
   "outputs": [],
   "source": [
    "import json\n",
    "# Parse universe into dict if it is passed as a string\n",
    "if isinstance(universe, str):\n",
    "    universe = json.loads(universe)"
   ]
  },
  {
   "cell_type": "code",
   "execution_count": 6,
   "id": "16620c48",
   "metadata": {
    "execution": {
     "iopub.execute_input": "2025-07-30T21:30:33.891394Z",
     "iopub.status.busy": "2025-07-30T21:30:33.890909Z",
     "iopub.status.idle": "2025-07-30T21:30:33.940324Z",
     "shell.execute_reply": "2025-07-30T21:30:33.939278Z"
    },
    "papermill": {
     "duration": 0.075907,
     "end_time": "2025-07-30T21:30:33.942538",
     "exception": false,
     "start_time": "2025-07-30T21:30:33.866631",
     "status": "completed"
    },
    "tags": []
   },
   "outputs": [],
   "source": [
    "# Auto-reload the custom package\n",
    "%load_ext autoreload\n",
    "%autoreload 1\n",
    "%aimport fairness_multiverse"
   ]
  },
  {
   "cell_type": "code",
   "execution_count": 7,
   "id": "01c5c9f3",
   "metadata": {
    "execution": {
     "iopub.execute_input": "2025-07-30T21:30:33.996304Z",
     "iopub.status.busy": "2025-07-30T21:30:33.995821Z",
     "iopub.status.idle": "2025-07-30T21:30:36.312754Z",
     "shell.execute_reply": "2025-07-30T21:30:36.301149Z"
    },
    "papermill": {
     "duration": 2.342609,
     "end_time": "2025-07-30T21:30:36.314757",
     "exception": false,
     "start_time": "2025-07-30T21:30:33.972148",
     "status": "completed"
    },
    "tags": []
   },
   "outputs": [],
   "source": [
    "from fairness_multiverse.universe import UniverseAnalysis\n",
    "\n",
    "universe_analysis = UniverseAnalysis(\n",
    "    run_no = run_no,\n",
    "    universe_id = universe_id,\n",
    "    universe = universe,\n",
    "    output_dir=output_dir,\n",
    ")"
   ]
  },
  {
   "cell_type": "code",
   "execution_count": 8,
   "id": "106241f5",
   "metadata": {
    "execution": {
     "iopub.execute_input": "2025-07-30T21:30:36.361381Z",
     "iopub.status.busy": "2025-07-30T21:30:36.360797Z",
     "iopub.status.idle": "2025-07-30T21:30:36.368154Z",
     "shell.execute_reply": "2025-07-30T21:30:36.366854Z"
    },
    "papermill": {
     "duration": 0.034747,
     "end_time": "2025-07-30T21:30:36.370380",
     "exception": false,
     "start_time": "2025-07-30T21:30:36.335633",
     "status": "completed"
    },
    "tags": []
   },
   "outputs": [
    {
     "name": "stdout",
     "output_type": "stream",
     "text": [
      "Using Seed: 2023\n"
     ]
    }
   ],
   "source": [
    "import numpy as np\n",
    "parsed_seed = int(seed)\n",
    "np.random.seed(parsed_seed)\n",
    "print(f\"Using Seed: {parsed_seed}\")"
   ]
  },
  {
   "cell_type": "markdown",
   "id": "e0ebdc57",
   "metadata": {
    "papermill": {
     "duration": 0.021692,
     "end_time": "2025-07-30T21:30:36.413672",
     "exception": false,
     "start_time": "2025-07-30T21:30:36.391980",
     "status": "completed"
    },
    "tags": []
   },
   "source": [
    "# Loading Data"
   ]
  },
  {
   "cell_type": "markdown",
   "id": "681925a3",
   "metadata": {
    "papermill": {
     "duration": 0.020392,
     "end_time": "2025-07-30T21:30:36.456609",
     "exception": false,
     "start_time": "2025-07-30T21:30:36.436217",
     "status": "completed"
    },
    "tags": []
   },
   "source": [
    "Load siab_train, siab_test, siab_calib and/or \n",
    "load siab_train_features, siab_train_labels"
   ]
  },
  {
   "cell_type": "code",
   "execution_count": 9,
   "id": "f0496b8a",
   "metadata": {
    "execution": {
     "iopub.execute_input": "2025-07-30T21:30:36.500564Z",
     "iopub.status.busy": "2025-07-30T21:30:36.500116Z",
     "iopub.status.idle": "2025-07-30T21:30:50.084234Z",
     "shell.execute_reply": "2025-07-30T21:30:50.083007Z"
    },
    "papermill": {
     "duration": 13.608658,
     "end_time": "2025-07-30T21:30:50.085832",
     "exception": false,
     "start_time": "2025-07-30T21:30:36.477174",
     "status": "completed"
    },
    "tags": []
   },
   "outputs": [
    {
     "name": "stdout",
     "output_type": "stream",
     "text": [
      "Loading SIAB data from cache: data/siab_cached.csv.gz\n"
     ]
    },
    {
     "name": "stdout",
     "output_type": "stream",
     "text": [
      "(643690, 164)\n"
     ]
    }
   ],
   "source": [
    "from pathlib import Path\n",
    "import pandas as pd\n",
    "\n",
    "# File paths\n",
    "raw_file = Path(\"data/raw/siab.csv\")\n",
    "cache_file = Path(\"data/siab_cached.csv.gz\")\n",
    "\n",
    "# Ensure cache directory exists\n",
    "cache_file.parent.mkdir(parents=True, exist_ok=True)\n",
    "\n",
    "# Load with simple caching\n",
    "if cache_file.exists():\n",
    "    print(f\"Loading SIAB data from cache: {cache_file}\")\n",
    "    siab = pd.read_csv(cache_file, compression='gzip')\n",
    "else:\n",
    "    print(f\"Cache not found. Reading raw SIAB data: {raw_file}\")\n",
    "    siab = pd.read_csv(raw_file)\n",
    "    siab.to_csv(cache_file, index=False, compression='gzip')\n",
    "    print(f\"Cached SIAB data to: {cache_file}\")\n",
    "\n",
    "# Now use `siab` DataFrame as needed\n",
    "print(siab.shape)"
   ]
  },
  {
   "cell_type": "code",
   "execution_count": 10,
   "id": "db0ca512-5f53-4dba-abdb-a2888bca41ba",
   "metadata": {
    "execution": {
     "iopub.execute_input": "2025-07-30T21:30:50.148258Z",
     "iopub.status.busy": "2025-07-30T21:30:50.147607Z",
     "iopub.status.idle": "2025-07-30T21:30:50.154418Z",
     "shell.execute_reply": "2025-07-30T21:30:50.153396Z"
    },
    "papermill": {
     "duration": 0.044494,
     "end_time": "2025-07-30T21:30:50.156339",
     "exception": false,
     "start_time": "2025-07-30T21:30:50.111845",
     "status": "completed"
    },
    "tags": []
   },
   "outputs": [],
   "source": [
    "#siab"
   ]
  },
  {
   "cell_type": "code",
   "execution_count": 11,
   "id": "a0edb063",
   "metadata": {
    "execution": {
     "iopub.execute_input": "2025-07-30T21:30:50.209439Z",
     "iopub.status.busy": "2025-07-30T21:30:50.208603Z",
     "iopub.status.idle": "2025-07-30T21:30:50.220717Z",
     "shell.execute_reply": "2025-07-30T21:30:50.219700Z"
    },
    "papermill": {
     "duration": 0.040474,
     "end_time": "2025-07-30T21:30:50.222196",
     "exception": false,
     "start_time": "2025-07-30T21:30:50.181722",
     "status": "completed"
    },
    "tags": []
   },
   "outputs": [],
   "source": [
    "#import pandas as pd\n",
    "#\n",
    "#X_train = pd.read_csv(\"./data/X_train.csv\")\n",
    "#y_train = pd.read_csv(\"./data/y_train.csv\")"
   ]
  },
  {
   "cell_type": "code",
   "execution_count": 12,
   "id": "63d08085",
   "metadata": {
    "execution": {
     "iopub.execute_input": "2025-07-30T21:30:50.273092Z",
     "iopub.status.busy": "2025-07-30T21:30:50.272533Z",
     "iopub.status.idle": "2025-07-30T21:30:50.278249Z",
     "shell.execute_reply": "2025-07-30T21:30:50.277164Z"
    },
    "papermill": {
     "duration": 0.034372,
     "end_time": "2025-07-30T21:30:50.280498",
     "exception": false,
     "start_time": "2025-07-30T21:30:50.246126",
     "status": "completed"
    },
    "tags": []
   },
   "outputs": [],
   "source": [
    "#X_test = pd.read_csv(\"./data/X_test.csv\")\n",
    "#y_true = pd.read_csv(\"./data/y_test.csv\")"
   ]
  },
  {
   "cell_type": "code",
   "execution_count": 13,
   "id": "98a8d0fa-1d3d-4ed8-bb2c-281470e24add",
   "metadata": {
    "execution": {
     "iopub.execute_input": "2025-07-30T21:30:50.327609Z",
     "iopub.status.busy": "2025-07-30T21:30:50.326556Z",
     "iopub.status.idle": "2025-07-30T21:30:50.333324Z",
     "shell.execute_reply": "2025-07-30T21:30:50.331979Z"
    },
    "papermill": {
     "duration": 0.034101,
     "end_time": "2025-07-30T21:30:50.335552",
     "exception": false,
     "start_time": "2025-07-30T21:30:50.301451",
     "status": "completed"
    },
    "tags": []
   },
   "outputs": [],
   "source": [
    "# Calibration data for conformal\n",
    "#X_calib = pd.read_csv(\"./data/X_calib.csv\")\n",
    "#y_calib = pd.read_csv(\"./data/y_calib.csv\")"
   ]
  },
  {
   "cell_type": "markdown",
   "id": "997051c5-15bd-4b69-9786-c3001a3ce484",
   "metadata": {
    "papermill": {
     "duration": 0.024004,
     "end_time": "2025-07-30T21:30:50.384899",
     "exception": false,
     "start_time": "2025-07-30T21:30:50.360895",
     "status": "completed"
    },
    "tags": []
   },
   "source": [
    "# Splitting Data and Setting Training Data Size"
   ]
  },
  {
   "cell_type": "code",
   "execution_count": 14,
   "id": "e993b61f-042d-41a6-8c81-f55681f86335",
   "metadata": {
    "execution": {
     "iopub.execute_input": "2025-07-30T21:30:50.434068Z",
     "iopub.status.busy": "2025-07-30T21:30:50.433477Z",
     "iopub.status.idle": "2025-07-30T21:30:50.450621Z",
     "shell.execute_reply": "2025-07-30T21:30:50.449420Z"
    },
    "papermill": {
     "duration": 0.043752,
     "end_time": "2025-07-30T21:30:50.452871",
     "exception": false,
     "start_time": "2025-07-30T21:30:50.409119",
     "status": "completed"
    },
    "tags": []
   },
   "outputs": [],
   "source": [
    "def sample_by_year_size(df,\n",
    "                        training_year: str,\n",
    "                        training_size: str,\n",
    "                        random_state: int = 42):\n",
    "    # --- parse training_year into a list of int years ---\n",
    "    if \"_\" in training_year:\n",
    "        start_str, end_str = training_year.split(\"_\", 1)\n",
    "        start = int(start_str)\n",
    "        end   = int(end_str) if len(end_str) == 4 else (int(end_str) + (start // 100)*100)\n",
    "        years = list(range(start, end + 1))\n",
    "    else:\n",
    "        years = [int(training_year)]\n",
    "\n",
    "    df = df[df[\"year\"].isin(years)].reset_index(drop=True)\n",
    "\n",
    "    # --- map training_size to total number of samples ---\n",
    "    total_map = {\"25k\": 25_000, \"5k\": 5_000, \"1k\": 1_000}\n",
    "    if training_size not in total_map:\n",
    "        return df  # e.g. \"all\"\n",
    "\n",
    "    total_samples = total_map[training_size]\n",
    "    n_years       = len(years)\n",
    "    base          = total_samples // n_years\n",
    "    remainder     = total_samples % n_years\n",
    "\n",
    "    # --- build a dict: year -> how many to sample ---\n",
    "    # give +1 to the first `remainder` years in ascending order\n",
    "    quotas = {\n",
    "        year: base + (1 if idx < remainder else 0)\n",
    "        for idx, year in enumerate(sorted(years))\n",
    "    }\n",
    "\n",
    "    # --- sample per‐year according to the quota dict ---\n",
    "    sampled = (\n",
    "        df\n",
    "        .groupby(\"year\", group_keys=False)\n",
    "        .apply(lambda grp: grp.sample(\n",
    "            n=min(len(grp), quotas[grp.name]),\n",
    "            random_state=random_state))\n",
    "        .reset_index(drop=True)\n",
    "    )\n",
    "\n",
    "    return sampled"
   ]
  },
  {
   "cell_type": "code",
   "execution_count": 15,
   "id": "c0ccd338-0e02-41f3-a09d-f56f9266e3fb",
   "metadata": {
    "execution": {
     "iopub.execute_input": "2025-07-30T21:30:50.499195Z",
     "iopub.status.busy": "2025-07-30T21:30:50.498112Z",
     "iopub.status.idle": "2025-07-30T21:30:50.504500Z",
     "shell.execute_reply": "2025-07-30T21:30:50.503296Z"
    },
    "papermill": {
     "duration": 0.031593,
     "end_time": "2025-07-30T21:30:50.506793",
     "exception": false,
     "start_time": "2025-07-30T21:30:50.475200",
     "status": "completed"
    },
    "tags": []
   },
   "outputs": [],
   "source": [
    "#universe[\"training_size\"]"
   ]
  },
  {
   "cell_type": "code",
   "execution_count": 16,
   "id": "ca707fd7-8047-4acd-bfa5-66248fbbf8e6",
   "metadata": {
    "execution": {
     "iopub.execute_input": "2025-07-30T21:30:50.562455Z",
     "iopub.status.busy": "2025-07-30T21:30:50.561750Z",
     "iopub.status.idle": "2025-07-30T21:30:50.569136Z",
     "shell.execute_reply": "2025-07-30T21:30:50.567948Z"
    },
    "papermill": {
     "duration": 0.038232,
     "end_time": "2025-07-30T21:30:50.571196",
     "exception": false,
     "start_time": "2025-07-30T21:30:50.532964",
     "status": "completed"
    },
    "tags": []
   },
   "outputs": [],
   "source": [
    "#universe[\"training_year\"]"
   ]
  },
  {
   "cell_type": "code",
   "execution_count": 17,
   "id": "aea9c6ef-6f46-42c8-85eb-5a62025c1508",
   "metadata": {
    "execution": {
     "iopub.execute_input": "2025-07-30T21:30:50.624279Z",
     "iopub.status.busy": "2025-07-30T21:30:50.623818Z",
     "iopub.status.idle": "2025-07-30T21:30:50.871992Z",
     "shell.execute_reply": "2025-07-30T21:30:50.870920Z"
    },
    "papermill": {
     "duration": 0.276349,
     "end_time": "2025-07-30T21:30:50.874138",
     "exception": false,
     "start_time": "2025-07-30T21:30:50.597789",
     "status": "completed"
    },
    "tags": []
   },
   "outputs": [],
   "source": [
    "siab_train = sample_by_year_size(siab,\n",
    "                               training_year=universe[\"training_year\"],\n",
    "                               training_size=universe[\"training_size\"])"
   ]
  },
  {
   "cell_type": "code",
   "execution_count": 18,
   "id": "8d3afb32-789d-442c-8d5d-9f5aa8dd2eed",
   "metadata": {
    "execution": {
     "iopub.execute_input": "2025-07-30T21:30:50.927164Z",
     "iopub.status.busy": "2025-07-30T21:30:50.926590Z",
     "iopub.status.idle": "2025-07-30T21:30:50.931849Z",
     "shell.execute_reply": "2025-07-30T21:30:50.930876Z"
    },
    "papermill": {
     "duration": 0.034532,
     "end_time": "2025-07-30T21:30:50.933765",
     "exception": false,
     "start_time": "2025-07-30T21:30:50.899233",
     "status": "completed"
    },
    "tags": []
   },
   "outputs": [],
   "source": [
    "#siab_train.shape"
   ]
  },
  {
   "cell_type": "code",
   "execution_count": 19,
   "id": "d582db68-1a4c-47fb-84fc-08518dc1975a",
   "metadata": {
    "execution": {
     "iopub.execute_input": "2025-07-30T21:30:50.983840Z",
     "iopub.status.busy": "2025-07-30T21:30:50.983036Z",
     "iopub.status.idle": "2025-07-30T21:30:50.990314Z",
     "shell.execute_reply": "2025-07-30T21:30:50.988706Z"
    },
    "papermill": {
     "duration": 0.035176,
     "end_time": "2025-07-30T21:30:50.992682",
     "exception": false,
     "start_time": "2025-07-30T21:30:50.957506",
     "status": "completed"
    },
    "tags": []
   },
   "outputs": [],
   "source": [
    "#display(siab_train.groupby(\"year\").size())"
   ]
  },
  {
   "cell_type": "code",
   "execution_count": 20,
   "id": "a561edb4-d032-42cb-8256-22eac1111c64",
   "metadata": {
    "execution": {
     "iopub.execute_input": "2025-07-30T21:30:51.040967Z",
     "iopub.status.busy": "2025-07-30T21:30:51.039836Z",
     "iopub.status.idle": "2025-07-30T21:30:51.293679Z",
     "shell.execute_reply": "2025-07-30T21:30:51.292886Z"
    },
    "papermill": {
     "duration": 0.280183,
     "end_time": "2025-07-30T21:30:51.295555",
     "exception": false,
     "start_time": "2025-07-30T21:30:51.015372",
     "status": "completed"
    },
    "tags": []
   },
   "outputs": [],
   "source": [
    "#siab_train = siab_s[siab_s.year < 2015]\n",
    "siab_calib = siab[siab.year == 2015]\n",
    "siab_test = siab[siab.year == 2016]"
   ]
  },
  {
   "cell_type": "code",
   "execution_count": 21,
   "id": "472de16f-c3db-4916-846b-1f0de9cf1746",
   "metadata": {
    "execution": {
     "iopub.execute_input": "2025-07-30T21:30:51.345733Z",
     "iopub.status.busy": "2025-07-30T21:30:51.345386Z",
     "iopub.status.idle": "2025-07-30T21:30:51.352274Z",
     "shell.execute_reply": "2025-07-30T21:30:51.351349Z"
    },
    "papermill": {
     "duration": 0.034524,
     "end_time": "2025-07-30T21:30:51.353750",
     "exception": false,
     "start_time": "2025-07-30T21:30:51.319226",
     "status": "completed"
    },
    "tags": []
   },
   "outputs": [],
   "source": [
    "X_train = siab_train.iloc[:,4:164]\n",
    "y_train = siab_train.iloc[:, [3]]"
   ]
  },
  {
   "cell_type": "code",
   "execution_count": 22,
   "id": "828c96af-f43a-4ed6-ba47-8ac73a47d56c",
   "metadata": {
    "execution": {
     "iopub.execute_input": "2025-07-30T21:30:51.394935Z",
     "iopub.status.busy": "2025-07-30T21:30:51.394385Z",
     "iopub.status.idle": "2025-07-30T21:30:51.459460Z",
     "shell.execute_reply": "2025-07-30T21:30:51.457782Z"
    },
    "papermill": {
     "duration": 0.095267,
     "end_time": "2025-07-30T21:30:51.461909",
     "exception": false,
     "start_time": "2025-07-30T21:30:51.366642",
     "status": "completed"
    },
    "tags": []
   },
   "outputs": [],
   "source": [
    "X_calib = siab_calib.iloc[:,4:164]\n",
    "y_calib = siab_calib.iloc[:, [3]]"
   ]
  },
  {
   "cell_type": "code",
   "execution_count": 23,
   "id": "c34be9c3-6bd6-476e-acd3-845840e303be",
   "metadata": {
    "execution": {
     "iopub.execute_input": "2025-07-30T21:30:51.513868Z",
     "iopub.status.busy": "2025-07-30T21:30:51.513317Z",
     "iopub.status.idle": "2025-07-30T21:30:51.572563Z",
     "shell.execute_reply": "2025-07-30T21:30:51.571357Z"
    },
    "papermill": {
     "duration": 0.08632,
     "end_time": "2025-07-30T21:30:51.574322",
     "exception": false,
     "start_time": "2025-07-30T21:30:51.488002",
     "status": "completed"
    },
    "tags": []
   },
   "outputs": [],
   "source": [
    "X_test = siab_test.iloc[:,4:164]\n",
    "y_true = siab_test.iloc[:, [3]]"
   ]
  },
  {
   "cell_type": "markdown",
   "id": "9901737e-04df-44f0-9100-f5ad144ed040",
   "metadata": {
    "papermill": {
     "duration": 0.024047,
     "end_time": "2025-07-30T21:30:51.617275",
     "exception": false,
     "start_time": "2025-07-30T21:30:51.593228",
     "status": "completed"
    },
    "tags": []
   },
   "source": [
    "# Splitting Data and Setting Training Data Size OLD VERSION"
   ]
  },
  {
   "cell_type": "code",
   "execution_count": 24,
   "id": "acbc8f7d-8fc8-4e86-8c59-5dcb0f58384b",
   "metadata": {
    "execution": {
     "iopub.execute_input": "2025-07-30T21:30:51.666556Z",
     "iopub.status.busy": "2025-07-30T21:30:51.666051Z",
     "iopub.status.idle": "2025-07-30T21:30:51.671882Z",
     "shell.execute_reply": "2025-07-30T21:30:51.670845Z"
    },
    "papermill": {
     "duration": 0.03179,
     "end_time": "2025-07-30T21:30:51.674114",
     "exception": false,
     "start_time": "2025-07-30T21:30:51.642324",
     "status": "completed"
    },
    "tags": []
   },
   "outputs": [],
   "source": [
    "#def sample_by_year(df, training_size, random_state=42):\n",
    "#    if training_size == \"2014\":\n",
    "#        return df[df[\"year\"] == 2014].reset_index(drop=True)\n",
    "#    \n",
    "#    size_map = {\n",
    "#        \"25k\": 5000,\n",
    "#        \"5k\": 1000,\n",
    "#        \"1k\": 200\n",
    "#    }\n",
    "#\n",
    "#    if training_size not in size_map:\n",
    "#        return df.reset_index(drop=True)  # use all data\n",
    "#\n",
    "#    n_per_year = size_map[training_size]\n",
    "#    grouped = df.groupby(\"year\")\n",
    "#    sampled = grouped.apply(lambda x: x.sample(n=min(n_per_year, len(x)), random_state=random_state))\n",
    "#    return sampled.reset_index(drop=True)"
   ]
  },
  {
   "cell_type": "code",
   "execution_count": 25,
   "id": "6d931f52-beaf-43ff-9e78-9d44a448d54e",
   "metadata": {
    "execution": {
     "iopub.execute_input": "2025-07-30T21:30:51.725423Z",
     "iopub.status.busy": "2025-07-30T21:30:51.724911Z",
     "iopub.status.idle": "2025-07-30T21:30:51.731875Z",
     "shell.execute_reply": "2025-07-30T21:30:51.730703Z"
    },
    "papermill": {
     "duration": 0.034661,
     "end_time": "2025-07-30T21:30:51.734676",
     "exception": false,
     "start_time": "2025-07-30T21:30:51.700015",
     "status": "completed"
    },
    "tags": []
   },
   "outputs": [],
   "source": [
    "#siab_s = sample_by_year(siab, universe[\"training_size\"])"
   ]
  },
  {
   "cell_type": "code",
   "execution_count": 26,
   "id": "5db0a40e-a4e2-4920-be85-b12ae061d70d",
   "metadata": {
    "execution": {
     "iopub.execute_input": "2025-07-30T21:30:51.787187Z",
     "iopub.status.busy": "2025-07-30T21:30:51.786676Z",
     "iopub.status.idle": "2025-07-30T21:30:51.792380Z",
     "shell.execute_reply": "2025-07-30T21:30:51.791219Z"
    },
    "papermill": {
     "duration": 0.034794,
     "end_time": "2025-07-30T21:30:51.795089",
     "exception": false,
     "start_time": "2025-07-30T21:30:51.760295",
     "status": "completed"
    },
    "tags": []
   },
   "outputs": [],
   "source": [
    "#display(siab_s.groupby(\"year\").size())"
   ]
  },
  {
   "cell_type": "code",
   "execution_count": 27,
   "id": "e6c733c5",
   "metadata": {
    "execution": {
     "iopub.execute_input": "2025-07-30T21:30:51.841277Z",
     "iopub.status.busy": "2025-07-30T21:30:51.840924Z",
     "iopub.status.idle": "2025-07-30T21:30:51.939098Z",
     "shell.execute_reply": "2025-07-30T21:30:51.938339Z"
    },
    "papermill": {
     "duration": 0.126822,
     "end_time": "2025-07-30T21:30:51.940680",
     "exception": false,
     "start_time": "2025-07-30T21:30:51.813858",
     "status": "completed"
    },
    "tags": []
   },
   "outputs": [],
   "source": [
    "# Auxiliary data needed downstream in the pipeline\n",
    "\n",
    "org_train = X_train.copy()\n",
    "org_test = X_test.copy()\n",
    "org_calib = X_calib.copy()"
   ]
  },
  {
   "cell_type": "code",
   "execution_count": 28,
   "id": "1466abac-c6da-4492-a62f-4240ae3783af",
   "metadata": {
    "execution": {
     "iopub.execute_input": "2025-07-30T21:30:51.972941Z",
     "iopub.status.busy": "2025-07-30T21:30:51.971866Z",
     "iopub.status.idle": "2025-07-30T21:30:51.977323Z",
     "shell.execute_reply": "2025-07-30T21:30:51.976420Z"
    },
    "papermill": {
     "duration": 0.025585,
     "end_time": "2025-07-30T21:30:51.978856",
     "exception": false,
     "start_time": "2025-07-30T21:30:51.953271",
     "status": "completed"
    },
    "tags": []
   },
   "outputs": [],
   "source": [
    "# put in other script?\n",
    "# Group sizes\n",
    "\n",
    "#def calculate_percentages(df, df_name):\n",
    "#    total_entries = len(df)\n",
    "#\n",
    "#    female_pct = (df['frau1'] == 1).mean() * 100\n",
    "#    non_german_pct = ((df['maxdeutsch1'] == 0) & (df['maxdeutsch.Missing.'] == 0)).mean() * 100\n",
    "#    non_german_male_pct = ((df['frau1'] == 0) & (df['maxdeutsch1'] == 0) & (df['maxdeutsch.Missing.'] == 0)).mean() * 100\n",
    "#    non_german_female_pct = ((df['frau1'] == 1) & (df['maxdeutsch1'] == 0) & (df['maxdeutsch.Missing.'] == 0)).mean() * 100\n",
    "#\n",
    "#    print(f\"--- {df_name} ---\")\n",
    "#    print(f\"Female: {female_pct:.2f}%\")\n",
    "#    print(f\"Non-German: {non_german_pct:.2f}%\")\n",
    "#    print(f\"Non-German Male: {non_german_male_pct:.2f}%\")\n",
    "#    print(f\"Non-German Female: {non_german_female_pct:.2f}%\\n\")\n",
    "#\n",
    "## Calculate for each DataFrame\n",
    "#calculate_percentages(siab_calib, \"siab_calib\")\n",
    "#calculate_percentages(siab_test, \"siab_test\")\n",
    "#calculate_percentages(siab_train, \"siab_train\")"
   ]
  },
  {
   "cell_type": "markdown",
   "id": "0a4a1b33",
   "metadata": {
    "papermill": {
     "duration": 0.040511,
     "end_time": "2025-07-30T21:30:52.033356",
     "exception": false,
     "start_time": "2025-07-30T21:30:51.992845",
     "status": "completed"
    },
    "tags": []
   },
   "source": [
    "# Preprocessing Data"
   ]
  },
  {
   "cell_type": "code",
   "execution_count": 29,
   "id": "ca879031",
   "metadata": {
    "execution": {
     "iopub.execute_input": "2025-07-30T21:30:52.087048Z",
     "iopub.status.busy": "2025-07-30T21:30:52.086419Z",
     "iopub.status.idle": "2025-07-30T21:30:52.094148Z",
     "shell.execute_reply": "2025-07-30T21:30:52.092453Z"
    },
    "papermill": {
     "duration": 0.036307,
     "end_time": "2025-07-30T21:30:52.095990",
     "exception": false,
     "start_time": "2025-07-30T21:30:52.059683",
     "status": "completed"
    },
    "tags": []
   },
   "outputs": [],
   "source": [
    "# EXCLUDE PROTECTED FEATURES\n",
    "# ----------------------\n",
    "# \"exclude_features\": \"none\", # \"nationality\", \"sex\", \"nationality-sex\"\n",
    "\n",
    "excluded_features = universe[\"exclude_features\"].split(\"-\") # split, e.g.: \"nationality-sex\" -> [\"nationality\", \"sex\"]\n",
    "excluded_features_dictionary = {\n",
    "    \"nationality\": [\"maxdeutsch1\", \"maxdeutsch.Missing.\"],\n",
    "    \"sex\": [\"frau1\"],\n",
    "    \"age\": [\"age\"],\n",
    "}\n"
   ]
  },
  {
   "cell_type": "code",
   "execution_count": 30,
   "id": "b745ac60",
   "metadata": {
    "execution": {
     "iopub.execute_input": "2025-07-30T21:30:52.144493Z",
     "iopub.status.busy": "2025-07-30T21:30:52.143573Z",
     "iopub.status.idle": "2025-07-30T21:30:52.149703Z",
     "shell.execute_reply": "2025-07-30T21:30:52.148719Z"
    },
    "papermill": {
     "duration": 0.035179,
     "end_time": "2025-07-30T21:30:52.152459",
     "exception": false,
     "start_time": "2025-07-30T21:30:52.117280",
     "status": "completed"
    },
    "tags": []
   },
   "outputs": [],
   "source": [
    "# Code nice names to column names\n",
    "\n",
    "excluded_features_columns = [\n",
    "    excluded_features_dictionary[f] for f in excluded_features if len(f) > 0 and f != \"none\"\n",
    "]"
   ]
  },
  {
   "cell_type": "code",
   "execution_count": 31,
   "id": "f84f73a2",
   "metadata": {
    "execution": {
     "iopub.execute_input": "2025-07-30T21:30:52.197399Z",
     "iopub.status.busy": "2025-07-30T21:30:52.197021Z",
     "iopub.status.idle": "2025-07-30T21:30:52.202366Z",
     "shell.execute_reply": "2025-07-30T21:30:52.201673Z"
    },
    "papermill": {
     "duration": 0.029004,
     "end_time": "2025-07-30T21:30:52.203662",
     "exception": false,
     "start_time": "2025-07-30T21:30:52.174658",
     "status": "completed"
    },
    "tags": []
   },
   "outputs": [],
   "source": [
    "from utils import flatten_once\n",
    "\n",
    "excluded_features_columns = flatten_once(excluded_features_columns)"
   ]
  },
  {
   "cell_type": "code",
   "execution_count": 32,
   "id": "884dea22",
   "metadata": {
    "execution": {
     "iopub.execute_input": "2025-07-30T21:30:52.239141Z",
     "iopub.status.busy": "2025-07-30T21:30:52.238074Z",
     "iopub.status.idle": "2025-07-30T21:30:52.272652Z",
     "shell.execute_reply": "2025-07-30T21:30:52.271648Z"
    },
    "papermill": {
     "duration": 0.057663,
     "end_time": "2025-07-30T21:30:52.274548",
     "exception": false,
     "start_time": "2025-07-30T21:30:52.216885",
     "status": "completed"
    },
    "tags": []
   },
   "outputs": [
    {
     "name": "stdout",
     "output_type": "stream",
     "text": [
      "Dropping features: ['frau1']\n"
     ]
    }
   ],
   "source": [
    "if len(excluded_features_columns) > 0:\n",
    "    print(f\"Dropping features: {excluded_features_columns}\")\n",
    "    X_train.drop(excluded_features_columns, axis=1, inplace=True)"
   ]
  },
  {
   "cell_type": "code",
   "execution_count": 33,
   "id": "95ab8b16",
   "metadata": {
    "execution": {
     "iopub.execute_input": "2025-07-30T21:30:52.333001Z",
     "iopub.status.busy": "2025-07-30T21:30:52.332473Z",
     "iopub.status.idle": "2025-07-30T21:30:52.402226Z",
     "shell.execute_reply": "2025-07-30T21:30:52.401089Z"
    },
    "papermill": {
     "duration": 0.103166,
     "end_time": "2025-07-30T21:30:52.404006",
     "exception": false,
     "start_time": "2025-07-30T21:30:52.300840",
     "status": "completed"
    },
    "tags": []
   },
   "outputs": [
    {
     "name": "stdout",
     "output_type": "stream",
     "text": [
      "Dropping features: ['frau1']\n"
     ]
    }
   ],
   "source": [
    "if len(excluded_features_columns) > 0:\n",
    "    print(f\"Dropping features: {excluded_features_columns}\")\n",
    "    X_test.drop(excluded_features_columns, axis=1, inplace=True)"
   ]
  },
  {
   "cell_type": "code",
   "execution_count": 34,
   "id": "1853aaf5-fb9f-46cb-a2b5-8ea4ae2237e4",
   "metadata": {
    "execution": {
     "iopub.execute_input": "2025-07-30T21:30:52.457299Z",
     "iopub.status.busy": "2025-07-30T21:30:52.456698Z",
     "iopub.status.idle": "2025-07-30T21:30:52.510682Z",
     "shell.execute_reply": "2025-07-30T21:30:52.509819Z"
    },
    "papermill": {
     "duration": 0.082014,
     "end_time": "2025-07-30T21:30:52.512074",
     "exception": false,
     "start_time": "2025-07-30T21:30:52.430060",
     "status": "completed"
    },
    "tags": []
   },
   "outputs": [
    {
     "name": "stdout",
     "output_type": "stream",
     "text": [
      "Dropping features: ['frau1']\n"
     ]
    }
   ],
   "source": [
    "if len(excluded_features_columns) > 0:\n",
    "    print(f\"Dropping features: {excluded_features_columns}\")\n",
    "    X_calib.drop(excluded_features_columns, axis=1, inplace=True)"
   ]
  },
  {
   "cell_type": "code",
   "execution_count": 35,
   "id": "6727d079-03e5-481e-9d38-292a90b7a0a8",
   "metadata": {
    "execution": {
     "iopub.execute_input": "2025-07-30T21:30:52.539862Z",
     "iopub.status.busy": "2025-07-30T21:30:52.539392Z",
     "iopub.status.idle": "2025-07-30T21:30:52.543640Z",
     "shell.execute_reply": "2025-07-30T21:30:52.542683Z"
    },
    "papermill": {
     "duration": 0.018653,
     "end_time": "2025-07-30T21:30:52.545109",
     "exception": false,
     "start_time": "2025-07-30T21:30:52.526456",
     "status": "completed"
    },
    "tags": []
   },
   "outputs": [],
   "source": [
    "# SPLIT & STRATIFY DATA\n",
    "# ----------------------"
   ]
  },
  {
   "cell_type": "code",
   "execution_count": 36,
   "id": "76c4dc6d",
   "metadata": {
    "execution": {
     "iopub.execute_input": "2025-07-30T21:30:52.590938Z",
     "iopub.status.busy": "2025-07-30T21:30:52.590354Z",
     "iopub.status.idle": "2025-07-30T21:30:52.595088Z",
     "shell.execute_reply": "2025-07-30T21:30:52.594349Z"
    },
    "papermill": {
     "duration": 0.032112,
     "end_time": "2025-07-30T21:30:52.596660",
     "exception": false,
     "start_time": "2025-07-30T21:30:52.564548",
     "status": "completed"
    },
    "tags": []
   },
   "outputs": [],
   "source": [
    "# EXCLUDE CERTAIN SUBGROUPS\n",
    "# ----------------------\n",
    "\n",
    "mode = universe.get(\"exclude_subgroups\", \"keep-all\") \n",
    "# Fetches the exclude_subgroups setting from the universe dict.\n",
    "# Defaults to \"keep-all\" if the key is missing."
   ]
  },
  {
   "cell_type": "code",
   "execution_count": 37,
   "id": "21994072",
   "metadata": {
    "execution": {
     "iopub.execute_input": "2025-07-30T21:30:52.654561Z",
     "iopub.status.busy": "2025-07-30T21:30:52.654031Z",
     "iopub.status.idle": "2025-07-30T21:30:52.662026Z",
     "shell.execute_reply": "2025-07-30T21:30:52.660807Z"
    },
    "papermill": {
     "duration": 0.04018,
     "end_time": "2025-07-30T21:30:52.663948",
     "exception": false,
     "start_time": "2025-07-30T21:30:52.623768",
     "status": "completed"
    },
    "tags": []
   },
   "outputs": [],
   "source": [
    "if mode == \"keep-all\":\n",
    "    keep_mask = pd.Series(True, index=org_train.index)\n",
    "\n",
    "# org_train contains the original feature columns from features_org (in Simson)\n",
    "# features_org contains unprocessed features, for me X_train at beginning ???\n",
    "# For keep-all, creates a boolean Series (keep_mask) of all True, so no rows are removed.\n",
    "\n",
    "elif mode == \"drop-non-german\":\n",
    "    keep_mask = org_train[\"maxdeutsch1\"] == 1 # ??? what about missing values?\n",
    "\n",
    "else:\n",
    "    raise ValueError(f\"Unsupported mode for exclude_subgroups: {mode}\")\n"
   ]
  },
  {
   "cell_type": "code",
   "execution_count": 38,
   "id": "71651440",
   "metadata": {
    "execution": {
     "iopub.execute_input": "2025-07-30T21:30:52.718488Z",
     "iopub.status.busy": "2025-07-30T21:30:52.717706Z",
     "iopub.status.idle": "2025-07-30T21:30:52.725155Z",
     "shell.execute_reply": "2025-07-30T21:30:52.723954Z"
    },
    "papermill": {
     "duration": 0.036098,
     "end_time": "2025-07-30T21:30:52.726833",
     "exception": false,
     "start_time": "2025-07-30T21:30:52.690735",
     "status": "completed"
    },
    "tags": []
   },
   "outputs": [
    {
     "name": "stdout",
     "output_type": "stream",
     "text": [
      "Dropping 147 rows (14.70%) where mode='drop-non-german'\n"
     ]
    }
   ],
   "source": [
    "n_drop = (~keep_mask).sum() # Calculates how many rows are set to be dropped\n",
    "if n_drop > 0:\n",
    "    pct = n_drop / len(keep_mask) * 100\n",
    "    print(f\"Dropping {n_drop} rows ({pct:.2f}%) where mode='{mode}'\")"
   ]
  },
  {
   "cell_type": "code",
   "execution_count": 39,
   "id": "5fb8eee5",
   "metadata": {
    "execution": {
     "iopub.execute_input": "2025-07-30T21:30:52.782473Z",
     "iopub.status.busy": "2025-07-30T21:30:52.781574Z",
     "iopub.status.idle": "2025-07-30T21:30:52.788745Z",
     "shell.execute_reply": "2025-07-30T21:30:52.787570Z"
    },
    "papermill": {
     "duration": 0.036257,
     "end_time": "2025-07-30T21:30:52.790753",
     "exception": false,
     "start_time": "2025-07-30T21:30:52.754496",
     "status": "completed"
    },
    "tags": []
   },
   "outputs": [],
   "source": [
    "X_train = X_train[keep_mask]"
   ]
  },
  {
   "cell_type": "code",
   "execution_count": 40,
   "id": "b202bb3a",
   "metadata": {
    "execution": {
     "iopub.execute_input": "2025-07-30T21:30:52.845205Z",
     "iopub.status.busy": "2025-07-30T21:30:52.844524Z",
     "iopub.status.idle": "2025-07-30T21:30:52.850718Z",
     "shell.execute_reply": "2025-07-30T21:30:52.849722Z"
    },
    "papermill": {
     "duration": 0.03563,
     "end_time": "2025-07-30T21:30:52.852685",
     "exception": false,
     "start_time": "2025-07-30T21:30:52.817055",
     "status": "completed"
    },
    "tags": []
   },
   "outputs": [],
   "source": [
    "y_train = y_train[keep_mask]"
   ]
  },
  {
   "cell_type": "markdown",
   "id": "493e2ac3",
   "metadata": {
    "papermill": {
     "duration": 0.025519,
     "end_time": "2025-07-30T21:30:52.905238",
     "exception": false,
     "start_time": "2025-07-30T21:30:52.879719",
     "status": "completed"
    },
    "tags": []
   },
   "source": [
    "# Model Training"
   ]
  },
  {
   "cell_type": "code",
   "execution_count": 41,
   "id": "679e1268",
   "metadata": {
    "execution": {
     "iopub.execute_input": "2025-07-30T21:30:52.957985Z",
     "iopub.status.busy": "2025-07-30T21:30:52.957501Z",
     "iopub.status.idle": "2025-07-30T21:30:53.067197Z",
     "shell.execute_reply": "2025-07-30T21:30:53.066206Z"
    },
    "papermill": {
     "duration": 0.138684,
     "end_time": "2025-07-30T21:30:53.069302",
     "exception": false,
     "start_time": "2025-07-30T21:30:52.930618",
     "status": "completed"
    },
    "tags": []
   },
   "outputs": [],
   "source": [
    "from sklearn.linear_model import LogisticRegression\n",
    "from sklearn.ensemble import GradientBoostingClassifier, RandomForestClassifier\n",
    "\n",
    "if (universe[\"model\"] == \"logreg\"):\n",
    "    model = LogisticRegression() #penalty=\"none\") #, solver=\"newton-cg\", max_iter=1) # include random_state=19 ?\n",
    "elif (universe[\"model\"] == \"penalized_logreg\"):\n",
    "    model = LogisticRegression(penalty=\"l2\", C=1.0) #, solver=\"newton-cg\", max_iter=1)\n",
    "elif (universe[\"model\"] == \"rf\"):\n",
    "    model = RandomForestClassifier(n_estimators=100, n_jobs=-1)\n",
    "elif (universe[\"model\"] == \"gbm\"):\n",
    "    model = GradientBoostingClassifier()\n",
    "elif (universe[\"model\"] == \"elasticnet\"):\n",
    "    model = LogisticRegression(penalty = 'elasticnet', solver = 'saga', l1_ratio = 0.5, max_iter=5000) # which solver to use?\n",
    "else:\n",
    "    raise \"Unsupported universe.model\""
   ]
  },
  {
   "cell_type": "code",
   "execution_count": 42,
   "id": "0cc8f744",
   "metadata": {
    "execution": {
     "iopub.execute_input": "2025-07-30T21:30:53.122754Z",
     "iopub.status.busy": "2025-07-30T21:30:53.122231Z",
     "iopub.status.idle": "2025-07-30T21:30:53.129055Z",
     "shell.execute_reply": "2025-07-30T21:30:53.127886Z"
    },
    "papermill": {
     "duration": 0.035259,
     "end_time": "2025-07-30T21:30:53.131231",
     "exception": false,
     "start_time": "2025-07-30T21:30:53.095972",
     "status": "completed"
    },
    "tags": []
   },
   "outputs": [],
   "source": [
    "import numpy as np\n",
    "from sklearn.pipeline import Pipeline\n",
    "from sklearn.preprocessing import StandardScaler\n",
    "\n",
    "model = Pipeline([\n",
    "    #(\"continuous_processor\", continuous_processor),\n",
    "    #(\"categorical_preprocessor\", categorical_preprocessor),\n",
    "    (\"scale\", StandardScaler() if universe[\"scale\"] == \"scale\" else None), \n",
    "    (\"model\", model),\n",
    "])"
   ]
  },
  {
   "cell_type": "code",
   "execution_count": 43,
   "id": "9442c04d",
   "metadata": {
    "execution": {
     "iopub.execute_input": "2025-07-30T21:30:53.185731Z",
     "iopub.status.busy": "2025-07-30T21:30:53.185264Z",
     "iopub.status.idle": "2025-07-30T21:30:54.186506Z",
     "shell.execute_reply": "2025-07-30T21:30:54.185436Z"
    },
    "papermill": {
     "duration": 1.030567,
     "end_time": "2025-07-30T21:30:54.188541",
     "exception": false,
     "start_time": "2025-07-30T21:30:53.157974",
     "status": "completed"
    },
    "tags": []
   },
   "outputs": [
    {
     "data": {
      "text/html": [
       "<style>#sk-container-id-1 {color: black;background-color: white;}#sk-container-id-1 pre{padding: 0;}#sk-container-id-1 div.sk-toggleable {background-color: white;}#sk-container-id-1 label.sk-toggleable__label {cursor: pointer;display: block;width: 100%;margin-bottom: 0;padding: 0.3em;box-sizing: border-box;text-align: center;}#sk-container-id-1 label.sk-toggleable__label-arrow:before {content: \"▸\";float: left;margin-right: 0.25em;color: #696969;}#sk-container-id-1 label.sk-toggleable__label-arrow:hover:before {color: black;}#sk-container-id-1 div.sk-estimator:hover label.sk-toggleable__label-arrow:before {color: black;}#sk-container-id-1 div.sk-toggleable__content {max-height: 0;max-width: 0;overflow: hidden;text-align: left;background-color: #f0f8ff;}#sk-container-id-1 div.sk-toggleable__content pre {margin: 0.2em;color: black;border-radius: 0.25em;background-color: #f0f8ff;}#sk-container-id-1 input.sk-toggleable__control:checked~div.sk-toggleable__content {max-height: 200px;max-width: 100%;overflow: auto;}#sk-container-id-1 input.sk-toggleable__control:checked~label.sk-toggleable__label-arrow:before {content: \"▾\";}#sk-container-id-1 div.sk-estimator input.sk-toggleable__control:checked~label.sk-toggleable__label {background-color: #d4ebff;}#sk-container-id-1 div.sk-label input.sk-toggleable__control:checked~label.sk-toggleable__label {background-color: #d4ebff;}#sk-container-id-1 input.sk-hidden--visually {border: 0;clip: rect(1px 1px 1px 1px);clip: rect(1px, 1px, 1px, 1px);height: 1px;margin: -1px;overflow: hidden;padding: 0;position: absolute;width: 1px;}#sk-container-id-1 div.sk-estimator {font-family: monospace;background-color: #f0f8ff;border: 1px dotted black;border-radius: 0.25em;box-sizing: border-box;margin-bottom: 0.5em;}#sk-container-id-1 div.sk-estimator:hover {background-color: #d4ebff;}#sk-container-id-1 div.sk-parallel-item::after {content: \"\";width: 100%;border-bottom: 1px solid gray;flex-grow: 1;}#sk-container-id-1 div.sk-label:hover label.sk-toggleable__label {background-color: #d4ebff;}#sk-container-id-1 div.sk-serial::before {content: \"\";position: absolute;border-left: 1px solid gray;box-sizing: border-box;top: 0;bottom: 0;left: 50%;z-index: 0;}#sk-container-id-1 div.sk-serial {display: flex;flex-direction: column;align-items: center;background-color: white;padding-right: 0.2em;padding-left: 0.2em;position: relative;}#sk-container-id-1 div.sk-item {position: relative;z-index: 1;}#sk-container-id-1 div.sk-parallel {display: flex;align-items: stretch;justify-content: center;background-color: white;position: relative;}#sk-container-id-1 div.sk-item::before, #sk-container-id-1 div.sk-parallel-item::before {content: \"\";position: absolute;border-left: 1px solid gray;box-sizing: border-box;top: 0;bottom: 0;left: 50%;z-index: -1;}#sk-container-id-1 div.sk-parallel-item {display: flex;flex-direction: column;z-index: 1;position: relative;background-color: white;}#sk-container-id-1 div.sk-parallel-item:first-child::after {align-self: flex-end;width: 50%;}#sk-container-id-1 div.sk-parallel-item:last-child::after {align-self: flex-start;width: 50%;}#sk-container-id-1 div.sk-parallel-item:only-child::after {width: 0;}#sk-container-id-1 div.sk-dashed-wrapped {border: 1px dashed gray;margin: 0 0.4em 0.5em 0.4em;box-sizing: border-box;padding-bottom: 0.4em;background-color: white;}#sk-container-id-1 div.sk-label label {font-family: monospace;font-weight: bold;display: inline-block;line-height: 1.2em;}#sk-container-id-1 div.sk-label-container {text-align: center;}#sk-container-id-1 div.sk-container {/* jupyter's `normalize.less` sets `[hidden] { display: none; }` but bootstrap.min.css set `[hidden] { display: none !important; }` so we also need the `!important` here to be able to override the default hidden behavior on the sphinx rendered scikit-learn.org. See: https://github.com/scikit-learn/scikit-learn/issues/21755 */display: inline-block !important;position: relative;}#sk-container-id-1 div.sk-text-repr-fallback {display: none;}</style><div id=\"sk-container-id-1\" class=\"sk-top-container\"><div class=\"sk-text-repr-fallback\"><pre>Pipeline(steps=[(&#x27;scale&#x27;, None), (&#x27;model&#x27;, GradientBoostingClassifier())])</pre><b>In a Jupyter environment, please rerun this cell to show the HTML representation or trust the notebook. <br />On GitHub, the HTML representation is unable to render, please try loading this page with nbviewer.org.</b></div><div class=\"sk-container\" hidden><div class=\"sk-item sk-dashed-wrapped\"><div class=\"sk-label-container\"><div class=\"sk-label sk-toggleable\"><input class=\"sk-toggleable__control sk-hidden--visually\" id=\"sk-estimator-id-1\" type=\"checkbox\" ><label for=\"sk-estimator-id-1\" class=\"sk-toggleable__label sk-toggleable__label-arrow\">Pipeline</label><div class=\"sk-toggleable__content\"><pre>Pipeline(steps=[(&#x27;scale&#x27;, None), (&#x27;model&#x27;, GradientBoostingClassifier())])</pre></div></div></div><div class=\"sk-serial\"><div class=\"sk-item\"><div class=\"sk-estimator sk-toggleable\"><input class=\"sk-toggleable__control sk-hidden--visually\" id=\"sk-estimator-id-2\" type=\"checkbox\" ><label for=\"sk-estimator-id-2\" class=\"sk-toggleable__label sk-toggleable__label-arrow\">None</label><div class=\"sk-toggleable__content\"><pre>None</pre></div></div></div><div class=\"sk-item\"><div class=\"sk-estimator sk-toggleable\"><input class=\"sk-toggleable__control sk-hidden--visually\" id=\"sk-estimator-id-3\" type=\"checkbox\" ><label for=\"sk-estimator-id-3\" class=\"sk-toggleable__label sk-toggleable__label-arrow\">GradientBoostingClassifier</label><div class=\"sk-toggleable__content\"><pre>GradientBoostingClassifier()</pre></div></div></div></div></div></div></div>"
      ],
      "text/plain": [
       "Pipeline(steps=[('scale', None), ('model', GradientBoostingClassifier())])"
      ]
     },
     "execution_count": 43,
     "metadata": {},
     "output_type": "execute_result"
    }
   ],
   "source": [
    "model.fit(X_train, y_train.values.ravel())"
   ]
  },
  {
   "cell_type": "code",
   "execution_count": 44,
   "id": "af59f8c0",
   "metadata": {
    "execution": {
     "iopub.execute_input": "2025-07-30T21:30:54.246066Z",
     "iopub.status.busy": "2025-07-30T21:30:54.245245Z",
     "iopub.status.idle": "2025-07-30T21:30:54.251359Z",
     "shell.execute_reply": "2025-07-30T21:30:54.250091Z"
    },
    "papermill": {
     "duration": 0.036082,
     "end_time": "2025-07-30T21:30:54.253307",
     "exception": false,
     "start_time": "2025-07-30T21:30:54.217225",
     "status": "completed"
    },
    "tags": []
   },
   "outputs": [],
   "source": [
    "from fairness_multiverse.universe import predict_w_threshold"
   ]
  },
  {
   "cell_type": "code",
   "execution_count": 45,
   "id": "a7cf2e16",
   "metadata": {
    "execution": {
     "iopub.execute_input": "2025-07-30T21:30:54.306968Z",
     "iopub.status.busy": "2025-07-30T21:30:54.306495Z",
     "iopub.status.idle": "2025-07-30T21:30:55.012511Z",
     "shell.execute_reply": "2025-07-30T21:30:55.011673Z"
    },
    "papermill": {
     "duration": 0.733538,
     "end_time": "2025-07-30T21:30:55.014093",
     "exception": false,
     "start_time": "2025-07-30T21:30:54.280555",
     "status": "completed"
    },
    "tags": []
   },
   "outputs": [
    {
     "data": {
      "text/plain": [
       "0.8485118715862223"
      ]
     },
     "execution_count": 45,
     "metadata": {},
     "output_type": "execute_result"
    }
   ],
   "source": [
    "probs_test = model.predict_proba(X_test)\n",
    "\n",
    "'''\n",
    "Below code returns a boolean array (or binary 0/1 array depending on how it’s used) where each element \n",
    "is True if the probability of class 1 is greater than or equal to the threshold, and False otherwise.\n",
    "'''\n",
    "y_pred_default = predict_w_threshold(probs_test, 0.5)\n",
    "\n",
    "from sklearn.metrics import accuracy_score\n",
    "\n",
    "# Naive prediction\n",
    "accuracy_score(y_true = y_true, y_pred = y_pred_default)"
   ]
  },
  {
   "cell_type": "code",
   "execution_count": 46,
   "id": "081964c3",
   "metadata": {
    "execution": {
     "iopub.execute_input": "2025-07-30T21:30:55.067528Z",
     "iopub.status.busy": "2025-07-30T21:30:55.066872Z",
     "iopub.status.idle": "2025-07-30T21:30:55.662271Z",
     "shell.execute_reply": "2025-07-30T21:30:55.661396Z"
    },
    "papermill": {
     "duration": 0.62114,
     "end_time": "2025-07-30T21:30:55.663857",
     "exception": false,
     "start_time": "2025-07-30T21:30:55.042717",
     "status": "completed"
    },
    "tags": []
   },
   "outputs": [
    {
     "data": {
      "text/plain": [
       "array([0, 0, 0, ..., 0, 0, 0])"
      ]
     },
     "execution_count": 46,
     "metadata": {},
     "output_type": "execute_result"
    }
   ],
   "source": [
    "model.predict(X_test)"
   ]
  },
  {
   "cell_type": "markdown",
   "id": "56c9705b",
   "metadata": {
    "papermill": {
     "duration": 0.025766,
     "end_time": "2025-07-30T21:30:55.713360",
     "exception": false,
     "start_time": "2025-07-30T21:30:55.687594",
     "status": "completed"
    },
    "tags": []
   },
   "source": [
    "# Conformal Prediction"
   ]
  },
  {
   "cell_type": "code",
   "execution_count": 47,
   "id": "160ec6ff",
   "metadata": {
    "execution": {
     "iopub.execute_input": "2025-07-30T21:30:55.761764Z",
     "iopub.status.busy": "2025-07-30T21:30:55.761297Z",
     "iopub.status.idle": "2025-07-30T21:30:55.766526Z",
     "shell.execute_reply": "2025-07-30T21:30:55.765558Z"
    },
    "papermill": {
     "duration": 0.031008,
     "end_time": "2025-07-30T21:30:55.768130",
     "exception": false,
     "start_time": "2025-07-30T21:30:55.737122",
     "status": "completed"
    },
    "tags": []
   },
   "outputs": [],
   "source": [
    "# Miscoverage level for conformal prediction (10% allowed error rate => 90% target coverage)\n",
    "alpha = 0.1"
   ]
  },
  {
   "cell_type": "code",
   "execution_count": 48,
   "id": "eadf4555-3dd3-440e-8e35-f82a4ad9f855",
   "metadata": {
    "execution": {
     "iopub.execute_input": "2025-07-30T21:30:55.816555Z",
     "iopub.status.busy": "2025-07-30T21:30:55.815973Z",
     "iopub.status.idle": "2025-07-30T21:30:56.304764Z",
     "shell.execute_reply": "2025-07-30T21:30:56.303801Z"
    },
    "papermill": {
     "duration": 0.514816,
     "end_time": "2025-07-30T21:30:56.306621",
     "exception": false,
     "start_time": "2025-07-30T21:30:55.791805",
     "status": "completed"
    },
    "tags": []
   },
   "outputs": [],
   "source": [
    "probs_calib = model.predict_proba(X_calib)"
   ]
  },
  {
   "cell_type": "code",
   "execution_count": 49,
   "id": "2ed93547-6d5d-4983-9b36-1ecb300da49a",
   "metadata": {
    "execution": {
     "iopub.execute_input": "2025-07-30T21:30:56.363167Z",
     "iopub.status.busy": "2025-07-30T21:30:56.362592Z",
     "iopub.status.idle": "2025-07-30T21:30:56.369152Z",
     "shell.execute_reply": "2025-07-30T21:30:56.367978Z"
    },
    "papermill": {
     "duration": 0.0374,
     "end_time": "2025-07-30T21:30:56.370895",
     "exception": false,
     "start_time": "2025-07-30T21:30:56.333495",
     "status": "completed"
    },
    "tags": []
   },
   "outputs": [],
   "source": [
    "y_calib = y_calib.values.ravel().astype(int)"
   ]
  },
  {
   "cell_type": "code",
   "execution_count": 50,
   "id": "65d1320d-f588-4b38-9072-62af1ae97f7d",
   "metadata": {
    "execution": {
     "iopub.execute_input": "2025-07-30T21:30:56.425758Z",
     "iopub.status.busy": "2025-07-30T21:30:56.425280Z",
     "iopub.status.idle": "2025-07-30T21:30:56.433766Z",
     "shell.execute_reply": "2025-07-30T21:30:56.432543Z"
    },
    "papermill": {
     "duration": 0.037703,
     "end_time": "2025-07-30T21:30:56.436060",
     "exception": false,
     "start_time": "2025-07-30T21:30:56.398357",
     "status": "completed"
    },
    "tags": []
   },
   "outputs": [],
   "source": [
    "from fairness_multiverse.conformal import compute_nc_scores\n",
    "\n",
    "# Compute nonconformity scores on calibration set (1 - probability of true class)\n",
    "nc_scores = compute_nc_scores(probs_calib, y_calib)"
   ]
  },
  {
   "cell_type": "code",
   "execution_count": 51,
   "id": "df3b8ca3-53b7-43d5-9667-7c85da7aeda2",
   "metadata": {
    "execution": {
     "iopub.execute_input": "2025-07-30T21:30:56.491543Z",
     "iopub.status.busy": "2025-07-30T21:30:56.490622Z",
     "iopub.status.idle": "2025-07-30T21:30:56.500413Z",
     "shell.execute_reply": "2025-07-30T21:30:56.499371Z"
    },
    "papermill": {
     "duration": 0.039187,
     "end_time": "2025-07-30T21:30:56.502241",
     "exception": false,
     "start_time": "2025-07-30T21:30:56.463054",
     "status": "completed"
    },
    "tags": []
   },
   "outputs": [],
   "source": [
    "from fairness_multiverse.conformal import find_threshold\n",
    "\n",
    "# Find conformal threshold q_hat for the given alpha (split conformal method)\n",
    "q_hat = find_threshold(nc_scores, alpha)"
   ]
  },
  {
   "cell_type": "code",
   "execution_count": 52,
   "id": "4d29e6c1-0ef6-4aa4-b8fe-4fe79b0d033a",
   "metadata": {
    "execution": {
     "iopub.execute_input": "2025-07-30T21:30:56.557661Z",
     "iopub.status.busy": "2025-07-30T21:30:56.557286Z",
     "iopub.status.idle": "2025-07-30T21:30:56.563298Z",
     "shell.execute_reply": "2025-07-30T21:30:56.562100Z"
    },
    "papermill": {
     "duration": 0.035891,
     "end_time": "2025-07-30T21:30:56.564897",
     "exception": false,
     "start_time": "2025-07-30T21:30:56.529006",
     "status": "completed"
    },
    "tags": []
   },
   "outputs": [
    {
     "data": {
      "text/plain": [
       "0.7585012094516693"
      ]
     },
     "execution_count": 52,
     "metadata": {},
     "output_type": "execute_result"
    }
   ],
   "source": [
    "q_hat"
   ]
  },
  {
   "cell_type": "code",
   "execution_count": 53,
   "id": "92460794-cdac-4be2-ba28-f28c0515a6fb",
   "metadata": {
    "execution": {
     "iopub.execute_input": "2025-07-30T21:30:56.595396Z",
     "iopub.status.busy": "2025-07-30T21:30:56.594931Z",
     "iopub.status.idle": "2025-07-30T21:30:57.741495Z",
     "shell.execute_reply": "2025-07-30T21:30:57.740410Z"
    },
    "papermill": {
     "duration": 1.163821,
     "end_time": "2025-07-30T21:30:57.743641",
     "exception": false,
     "start_time": "2025-07-30T21:30:56.579820",
     "status": "completed"
    },
    "tags": []
   },
   "outputs": [],
   "source": [
    "from fairness_multiverse.conformal import predict_conformal_sets\n",
    "\n",
    "# Generate prediction sets for each test example\n",
    "pred_sets = predict_conformal_sets(model, X_test, q_hat)"
   ]
  },
  {
   "cell_type": "code",
   "execution_count": 54,
   "id": "d90c9a65-e6db-4f5d-80cd-e68fb7e46829",
   "metadata": {
    "execution": {
     "iopub.execute_input": "2025-07-30T21:30:57.817445Z",
     "iopub.status.busy": "2025-07-30T21:30:57.816899Z",
     "iopub.status.idle": "2025-07-30T21:30:57.824309Z",
     "shell.execute_reply": "2025-07-30T21:30:57.823077Z"
    },
    "papermill": {
     "duration": 0.038452,
     "end_time": "2025-07-30T21:30:57.826143",
     "exception": false,
     "start_time": "2025-07-30T21:30:57.787691",
     "status": "completed"
    },
    "tags": []
   },
   "outputs": [],
   "source": [
    "y_true = y_true.squeeze()"
   ]
  },
  {
   "cell_type": "code",
   "execution_count": 55,
   "id": "3a58a54a-1e68-46b9-927a-df01f18aebc8",
   "metadata": {
    "execution": {
     "iopub.execute_input": "2025-07-30T21:30:57.880824Z",
     "iopub.status.busy": "2025-07-30T21:30:57.880218Z",
     "iopub.status.idle": "2025-07-30T21:30:59.143561Z",
     "shell.execute_reply": "2025-07-30T21:30:59.142549Z"
    },
    "papermill": {
     "duration": 1.293244,
     "end_time": "2025-07-30T21:30:59.145493",
     "exception": false,
     "start_time": "2025-07-30T21:30:57.852249",
     "status": "completed"
    },
    "tags": []
   },
   "outputs": [],
   "source": [
    "from fairness_multiverse.conformal import evaluate_sets\n",
    "\n",
    "# Evaluate coverage and average set size on test data\n",
    "metrics = evaluate_sets(pred_sets, y_true)"
   ]
  },
  {
   "cell_type": "markdown",
   "id": "2b569c12-9aaa-4c88-98c9-bbcd0cf3ebb8",
   "metadata": {
    "papermill": {
     "duration": 0.026468,
     "end_time": "2025-07-30T21:30:59.197379",
     "exception": false,
     "start_time": "2025-07-30T21:30:59.170911",
     "status": "completed"
    },
    "tags": []
   },
   "source": [
    "# CP Metrics"
   ]
  },
  {
   "cell_type": "code",
   "execution_count": 56,
   "id": "5ce0a5cb-201f-45a0-ade5-94c7f0bd6095",
   "metadata": {
    "execution": {
     "iopub.execute_input": "2025-07-30T21:30:59.237256Z",
     "iopub.status.busy": "2025-07-30T21:30:59.236644Z",
     "iopub.status.idle": "2025-07-30T21:30:59.244669Z",
     "shell.execute_reply": "2025-07-30T21:30:59.243825Z"
    },
    "papermill": {
     "duration": 0.025784,
     "end_time": "2025-07-30T21:30:59.245942",
     "exception": false,
     "start_time": "2025-07-30T21:30:59.220158",
     "status": "completed"
    },
    "tags": []
   },
   "outputs": [
    {
     "data": {
      "text/plain": [
       "{'coverage': 0.9089956526585665, 'avg_size': 1.1580202875933563}"
      ]
     },
     "execution_count": 56,
     "metadata": {},
     "output_type": "execute_result"
    }
   ],
   "source": [
    "metrics"
   ]
  },
  {
   "cell_type": "code",
   "execution_count": 57,
   "id": "9b9a838d-31c9-430b-ae14-12baee460d17",
   "metadata": {
    "execution": {
     "iopub.execute_input": "2025-07-30T21:30:59.279477Z",
     "iopub.status.busy": "2025-07-30T21:30:59.278901Z",
     "iopub.status.idle": "2025-07-30T21:30:59.284731Z",
     "shell.execute_reply": "2025-07-30T21:30:59.283921Z"
    },
    "papermill": {
     "duration": 0.023426,
     "end_time": "2025-07-30T21:30:59.286115",
     "exception": false,
     "start_time": "2025-07-30T21:30:59.262689",
     "status": "completed"
    },
    "tags": []
   },
   "outputs": [],
   "source": [
    "example_universe = universe.copy()\n",
    "universe_training_year = example_universe.get(\"training_year\")\n",
    "universe_training_size = example_universe.get(\"training_size\")\n",
    "universe_scale = example_universe.get(\"scale\")\n",
    "universe_model = example_universe.get(\"model\")\n",
    "universe_exclude_features = example_universe.get(\"exclude_features\")\n",
    "universe_exclude_subgroups = example_universe.get(\"exclude_subgroups\")"
   ]
  },
  {
   "cell_type": "code",
   "execution_count": 58,
   "id": "f4b6a8ac-9dc0-4245-8a91-5b3b5999c4f9",
   "metadata": {
    "execution": {
     "iopub.execute_input": "2025-07-30T21:30:59.336341Z",
     "iopub.status.busy": "2025-07-30T21:30:59.335341Z",
     "iopub.status.idle": "2025-07-30T21:30:59.343130Z",
     "shell.execute_reply": "2025-07-30T21:30:59.341754Z"
    },
    "papermill": {
     "duration": 0.042195,
     "end_time": "2025-07-30T21:30:59.345168",
     "exception": false,
     "start_time": "2025-07-30T21:30:59.302973",
     "status": "completed"
    },
    "tags": []
   },
   "outputs": [],
   "source": [
    "cp_metrics_dict = {\n",
    "    \"universe_id\": [universe_id],\n",
    "    \"universe_training_year\": [universe_training_year],\n",
    "    \"universe_training_size\": [universe_training_size],\n",
    "    \"universe_scale\": [universe_scale],\n",
    "    \"universe_model\": [universe_model],\n",
    "    \"universe_exclude_features\": [universe_exclude_features],\n",
    "    \"universe_exclude_subgroups\": [universe_exclude_subgroups],\n",
    "    \"q_hat\": [q_hat],\n",
    "    \"coverage\": [metrics[\"coverage\"]],\n",
    "    \"avg_size\": [metrics[\"avg_size\"]],\n",
    "}"
   ]
  },
  {
   "cell_type": "code",
   "execution_count": 59,
   "id": "908acbb1-0371-4915-85ca-3fa520d2efe2",
   "metadata": {
    "execution": {
     "iopub.execute_input": "2025-07-30T21:30:59.408771Z",
     "iopub.status.busy": "2025-07-30T21:30:59.408246Z",
     "iopub.status.idle": "2025-07-30T21:30:59.415375Z",
     "shell.execute_reply": "2025-07-30T21:30:59.414569Z"
    },
    "papermill": {
     "duration": 0.04751,
     "end_time": "2025-07-30T21:30:59.424076",
     "exception": false,
     "start_time": "2025-07-30T21:30:59.376566",
     "status": "completed"
    },
    "tags": []
   },
   "outputs": [
    {
     "data": {
      "text/plain": [
       "{'universe_id': ['b3ea320b5eaca93836c06e0a7feb1387'],\n",
       " 'universe_training_year': ['2014'],\n",
       " 'universe_training_size': ['1k'],\n",
       " 'universe_scale': ['do-not-scale'],\n",
       " 'universe_model': ['gbm'],\n",
       " 'universe_exclude_features': ['sex'],\n",
       " 'universe_exclude_subgroups': ['drop-non-german'],\n",
       " 'q_hat': [0.7585012094516693],\n",
       " 'coverage': [0.9089956526585665],\n",
       " 'avg_size': [1.1580202875933563]}"
      ]
     },
     "execution_count": 59,
     "metadata": {},
     "output_type": "execute_result"
    }
   ],
   "source": [
    "cp_metrics_dict"
   ]
  },
  {
   "cell_type": "code",
   "execution_count": 60,
   "id": "33007efc-14e9-4ec6-97ac-56a455c82265",
   "metadata": {
    "execution": {
     "iopub.execute_input": "2025-07-30T21:30:59.501665Z",
     "iopub.status.busy": "2025-07-30T21:30:59.501129Z",
     "iopub.status.idle": "2025-07-30T21:30:59.508456Z",
     "shell.execute_reply": "2025-07-30T21:30:59.507390Z"
    },
    "papermill": {
     "duration": 0.039127,
     "end_time": "2025-07-30T21:30:59.510130",
     "exception": false,
     "start_time": "2025-07-30T21:30:59.471003",
     "status": "completed"
    },
    "tags": []
   },
   "outputs": [],
   "source": [
    "cp_metrics_df = pd.DataFrame(cp_metrics_dict)"
   ]
  },
  {
   "cell_type": "code",
   "execution_count": 61,
   "id": "db12611b-57b2-4910-b9d0-355adfd6e7bf",
   "metadata": {
    "execution": {
     "iopub.execute_input": "2025-07-30T21:30:59.565764Z",
     "iopub.status.busy": "2025-07-30T21:30:59.565239Z",
     "iopub.status.idle": "2025-07-30T21:30:59.581274Z",
     "shell.execute_reply": "2025-07-30T21:30:59.580447Z"
    },
    "papermill": {
     "duration": 0.047948,
     "end_time": "2025-07-30T21:30:59.582780",
     "exception": false,
     "start_time": "2025-07-30T21:30:59.534832",
     "status": "completed"
    },
    "tags": []
   },
   "outputs": [
    {
     "data": {
      "text/html": [
       "<div>\n",
       "<style scoped>\n",
       "    .dataframe tbody tr th:only-of-type {\n",
       "        vertical-align: middle;\n",
       "    }\n",
       "\n",
       "    .dataframe tbody tr th {\n",
       "        vertical-align: top;\n",
       "    }\n",
       "\n",
       "    .dataframe thead th {\n",
       "        text-align: right;\n",
       "    }\n",
       "</style>\n",
       "<table border=\"1\" class=\"dataframe\">\n",
       "  <thead>\n",
       "    <tr style=\"text-align: right;\">\n",
       "      <th></th>\n",
       "      <th>universe_id</th>\n",
       "      <th>universe_training_year</th>\n",
       "      <th>universe_training_size</th>\n",
       "      <th>universe_scale</th>\n",
       "      <th>universe_model</th>\n",
       "      <th>universe_exclude_features</th>\n",
       "      <th>universe_exclude_subgroups</th>\n",
       "      <th>q_hat</th>\n",
       "      <th>coverage</th>\n",
       "      <th>avg_size</th>\n",
       "    </tr>\n",
       "  </thead>\n",
       "  <tbody>\n",
       "    <tr>\n",
       "      <th>0</th>\n",
       "      <td>b3ea320b5eaca93836c06e0a7feb1387</td>\n",
       "      <td>2014</td>\n",
       "      <td>1k</td>\n",
       "      <td>do-not-scale</td>\n",
       "      <td>gbm</td>\n",
       "      <td>sex</td>\n",
       "      <td>drop-non-german</td>\n",
       "      <td>0.758501</td>\n",
       "      <td>0.908996</td>\n",
       "      <td>1.15802</td>\n",
       "    </tr>\n",
       "  </tbody>\n",
       "</table>\n",
       "</div>"
      ],
      "text/plain": [
       "                        universe_id universe_training_year  \\\n",
       "0  b3ea320b5eaca93836c06e0a7feb1387                   2014   \n",
       "\n",
       "  universe_training_size universe_scale universe_model  \\\n",
       "0                     1k   do-not-scale            gbm   \n",
       "\n",
       "  universe_exclude_features universe_exclude_subgroups     q_hat  coverage  \\\n",
       "0                       sex            drop-non-german  0.758501  0.908996   \n",
       "\n",
       "   avg_size  \n",
       "0   1.15802  "
      ]
     },
     "execution_count": 61,
     "metadata": {},
     "output_type": "execute_result"
    }
   ],
   "source": [
    "cp_metrics_df"
   ]
  },
  {
   "cell_type": "code",
   "execution_count": 62,
   "id": "b7fbde55-a0a1-47e4-9af6-fe4a17fa8c61",
   "metadata": {
    "execution": {
     "iopub.execute_input": "2025-07-30T21:30:59.618784Z",
     "iopub.status.busy": "2025-07-30T21:30:59.618107Z",
     "iopub.status.idle": "2025-07-30T21:30:59.661172Z",
     "shell.execute_reply": "2025-07-30T21:30:59.659975Z"
    },
    "papermill": {
     "duration": 0.064611,
     "end_time": "2025-07-30T21:30:59.663237",
     "exception": false,
     "start_time": "2025-07-30T21:30:59.598626",
     "status": "completed"
    },
    "tags": []
   },
   "outputs": [],
   "source": [
    "# Conditional Coverage & looking at subgroups"
   ]
  },
  {
   "cell_type": "code",
   "execution_count": 63,
   "id": "027ae886-68dd-4141-96c7-805a5450e1ef",
   "metadata": {
    "execution": {
     "iopub.execute_input": "2025-07-30T21:30:59.712125Z",
     "iopub.status.busy": "2025-07-30T21:30:59.711571Z",
     "iopub.status.idle": "2025-07-30T21:30:59.916941Z",
     "shell.execute_reply": "2025-07-30T21:30:59.915774Z"
    },
    "papermill": {
     "duration": 0.226138,
     "end_time": "2025-07-30T21:30:59.919111",
     "exception": false,
     "start_time": "2025-07-30T21:30:59.692973",
     "status": "completed"
    },
    "tags": []
   },
   "outputs": [],
   "source": [
    "from fairness_multiverse.conformal import build_cp_groups\n",
    "\n",
    "cp_groups_df = build_cp_groups(pred_sets, y_true, X_test.index, org_test)\n",
    "#needs universe_id and setting"
   ]
  },
  {
   "cell_type": "code",
   "execution_count": 64,
   "id": "01d5802c-663a-4d1f-9d69-e036faaffbf7",
   "metadata": {
    "execution": {
     "iopub.execute_input": "2025-07-30T21:30:59.983766Z",
     "iopub.status.busy": "2025-07-30T21:30:59.982770Z",
     "iopub.status.idle": "2025-07-30T21:30:59.988150Z",
     "shell.execute_reply": "2025-07-30T21:30:59.987064Z"
    },
    "papermill": {
     "duration": 0.038658,
     "end_time": "2025-07-30T21:30:59.989992",
     "exception": false,
     "start_time": "2025-07-30T21:30:59.951334",
     "status": "completed"
    },
    "tags": []
   },
   "outputs": [],
   "source": [
    "#delete\n",
    "#cp_groups_df"
   ]
  },
  {
   "cell_type": "code",
   "execution_count": 65,
   "id": "fa424af1-d1eb-443d-b717-2d279ada8408",
   "metadata": {
    "execution": {
     "iopub.execute_input": "2025-07-30T21:31:00.050183Z",
     "iopub.status.busy": "2025-07-30T21:31:00.049504Z",
     "iopub.status.idle": "2025-07-30T21:31:00.056060Z",
     "shell.execute_reply": "2025-07-30T21:31:00.054924Z"
    },
    "papermill": {
     "duration": 0.043366,
     "end_time": "2025-07-30T21:31:00.057825",
     "exception": false,
     "start_time": "2025-07-30T21:31:00.014459",
     "status": "completed"
    },
    "tags": []
   },
   "outputs": [],
   "source": [
    "#delete\n",
    "#percentage = (cp_groups_df['nongerman_female'] == 1).mean() * 100\n",
    "#print(percentage)\n"
   ]
  },
  {
   "cell_type": "code",
   "execution_count": 66,
   "id": "6cbdab96-b2b2-45af-ad54-d0516db2e28d",
   "metadata": {
    "execution": {
     "iopub.execute_input": "2025-07-30T21:31:00.118439Z",
     "iopub.status.busy": "2025-07-30T21:31:00.117900Z",
     "iopub.status.idle": "2025-07-30T21:31:01.895850Z",
     "shell.execute_reply": "2025-07-30T21:31:01.894827Z"
    },
    "papermill": {
     "duration": 1.811433,
     "end_time": "2025-07-30T21:31:01.897769",
     "exception": false,
     "start_time": "2025-07-30T21:31:00.086336",
     "status": "completed"
    },
    "tags": []
   },
   "outputs": [],
   "source": [
    "# Define covered = 1 if true_label is in the predicted set\n",
    "cp_groups_df['covered'] = cp_groups_df.apply(\n",
    "    lambda r: int(r['true_label'] in r['pred_set']),\n",
    "    axis=1\n",
    ")"
   ]
  },
  {
   "cell_type": "code",
   "execution_count": 67,
   "id": "338ff529-1a6b-4b87-a931-8e4788d52aad",
   "metadata": {
    "execution": {
     "iopub.execute_input": "2025-07-30T21:31:01.954481Z",
     "iopub.status.busy": "2025-07-30T21:31:01.953447Z",
     "iopub.status.idle": "2025-07-30T21:31:01.958766Z",
     "shell.execute_reply": "2025-07-30T21:31:01.957806Z"
    },
    "papermill": {
     "duration": 0.03517,
     "end_time": "2025-07-30T21:31:01.960574",
     "exception": false,
     "start_time": "2025-07-30T21:31:01.925404",
     "status": "completed"
    },
    "tags": []
   },
   "outputs": [],
   "source": [
    "#cp_groups_df"
   ]
  },
  {
   "cell_type": "code",
   "execution_count": 68,
   "id": "90032e27-66df-4540-9169-4e89cfbaa758",
   "metadata": {
    "execution": {
     "iopub.execute_input": "2025-07-30T21:31:02.018452Z",
     "iopub.status.busy": "2025-07-30T21:31:02.017963Z",
     "iopub.status.idle": "2025-07-30T21:31:02.030568Z",
     "shell.execute_reply": "2025-07-30T21:31:02.029528Z"
    },
    "papermill": {
     "duration": 0.04262,
     "end_time": "2025-07-30T21:31:02.032433",
     "exception": false,
     "start_time": "2025-07-30T21:31:01.989813",
     "status": "completed"
    },
    "tags": []
   },
   "outputs": [],
   "source": [
    "subgroups = ['frau1','nongerman','nongerman_male','nongerman_female']\n",
    "\n",
    "# Conditional coverage for subgroup==1\n",
    "cond_coverage = {\n",
    "    g: cp_groups_df.loc[cp_groups_df[g]==1, 'covered'].mean()\n",
    "    for g in subgroups\n",
    "}"
   ]
  },
  {
   "cell_type": "code",
   "execution_count": 69,
   "id": "1e348fb1-b9c3-45bc-ba23-f016827a7e0d",
   "metadata": {
    "execution": {
     "iopub.execute_input": "2025-07-30T21:31:02.090190Z",
     "iopub.status.busy": "2025-07-30T21:31:02.089517Z",
     "iopub.status.idle": "2025-07-30T21:31:02.096949Z",
     "shell.execute_reply": "2025-07-30T21:31:02.096056Z"
    },
    "papermill": {
     "duration": 0.037151,
     "end_time": "2025-07-30T21:31:02.098517",
     "exception": false,
     "start_time": "2025-07-30T21:31:02.061366",
     "status": "completed"
    },
    "tags": []
   },
   "outputs": [
    {
     "data": {
      "text/plain": [
       "{'frau1': 0.9078042862919531,\n",
       " 'nongerman': 0.9075955762645259,\n",
       " 'nongerman_male': 0.9229937854633883,\n",
       " 'nongerman_female': 0.8821162444113264}"
      ]
     },
     "execution_count": 69,
     "metadata": {},
     "output_type": "execute_result"
    }
   ],
   "source": [
    "cond_coverage"
   ]
  },
  {
   "cell_type": "code",
   "execution_count": 70,
   "id": "f5093324-c3dd-4d63-bc4c-8d945e5c8bbb",
   "metadata": {
    "execution": {
     "iopub.execute_input": "2025-07-30T21:31:02.153447Z",
     "iopub.status.busy": "2025-07-30T21:31:02.152706Z",
     "iopub.status.idle": "2025-07-30T21:31:02.161103Z",
     "shell.execute_reply": "2025-07-30T21:31:02.160089Z"
    },
    "papermill": {
     "duration": 0.036974,
     "end_time": "2025-07-30T21:31:02.162675",
     "exception": false,
     "start_time": "2025-07-30T21:31:02.125701",
     "status": "completed"
    },
    "tags": []
   },
   "outputs": [],
   "source": [
    "for subgroup, cov in cond_coverage.items():\n",
    "    cp_metrics_df[f\"cov_{subgroup}\"] = cov"
   ]
  },
  {
   "cell_type": "code",
   "execution_count": 71,
   "id": "6e872e10-dbe5-49e8-b554-5030c98ff75d",
   "metadata": {
    "execution": {
     "iopub.execute_input": "2025-07-30T21:31:02.221154Z",
     "iopub.status.busy": "2025-07-30T21:31:02.220280Z",
     "iopub.status.idle": "2025-07-30T21:31:02.239852Z",
     "shell.execute_reply": "2025-07-30T21:31:02.238915Z"
    },
    "papermill": {
     "duration": 0.050967,
     "end_time": "2025-07-30T21:31:02.241394",
     "exception": false,
     "start_time": "2025-07-30T21:31:02.190427",
     "status": "completed"
    },
    "tags": []
   },
   "outputs": [
    {
     "data": {
      "text/html": [
       "<div>\n",
       "<style scoped>\n",
       "    .dataframe tbody tr th:only-of-type {\n",
       "        vertical-align: middle;\n",
       "    }\n",
       "\n",
       "    .dataframe tbody tr th {\n",
       "        vertical-align: top;\n",
       "    }\n",
       "\n",
       "    .dataframe thead th {\n",
       "        text-align: right;\n",
       "    }\n",
       "</style>\n",
       "<table border=\"1\" class=\"dataframe\">\n",
       "  <thead>\n",
       "    <tr style=\"text-align: right;\">\n",
       "      <th></th>\n",
       "      <th>universe_id</th>\n",
       "      <th>universe_training_year</th>\n",
       "      <th>universe_training_size</th>\n",
       "      <th>universe_scale</th>\n",
       "      <th>universe_model</th>\n",
       "      <th>universe_exclude_features</th>\n",
       "      <th>universe_exclude_subgroups</th>\n",
       "      <th>q_hat</th>\n",
       "      <th>coverage</th>\n",
       "      <th>avg_size</th>\n",
       "      <th>cov_frau1</th>\n",
       "      <th>cov_nongerman</th>\n",
       "      <th>cov_nongerman_male</th>\n",
       "      <th>cov_nongerman_female</th>\n",
       "    </tr>\n",
       "  </thead>\n",
       "  <tbody>\n",
       "    <tr>\n",
       "      <th>0</th>\n",
       "      <td>b3ea320b5eaca93836c06e0a7feb1387</td>\n",
       "      <td>2014</td>\n",
       "      <td>1k</td>\n",
       "      <td>do-not-scale</td>\n",
       "      <td>gbm</td>\n",
       "      <td>sex</td>\n",
       "      <td>drop-non-german</td>\n",
       "      <td>0.758501</td>\n",
       "      <td>0.908996</td>\n",
       "      <td>1.15802</td>\n",
       "      <td>0.907804</td>\n",
       "      <td>0.907596</td>\n",
       "      <td>0.922994</td>\n",
       "      <td>0.882116</td>\n",
       "    </tr>\n",
       "  </tbody>\n",
       "</table>\n",
       "</div>"
      ],
      "text/plain": [
       "                        universe_id universe_training_year  \\\n",
       "0  b3ea320b5eaca93836c06e0a7feb1387                   2014   \n",
       "\n",
       "  universe_training_size universe_scale universe_model  \\\n",
       "0                     1k   do-not-scale            gbm   \n",
       "\n",
       "  universe_exclude_features universe_exclude_subgroups     q_hat  coverage  \\\n",
       "0                       sex            drop-non-german  0.758501  0.908996   \n",
       "\n",
       "   avg_size  cov_frau1  cov_nongerman  cov_nongerman_male  \\\n",
       "0   1.15802   0.907804       0.907596            0.922994   \n",
       "\n",
       "   cov_nongerman_female  \n",
       "0              0.882116  "
      ]
     },
     "execution_count": 71,
     "metadata": {},
     "output_type": "execute_result"
    }
   ],
   "source": [
    "cp_metrics_df"
   ]
  },
  {
   "cell_type": "markdown",
   "id": "33774451",
   "metadata": {
    "papermill": {
     "duration": 0.026429,
     "end_time": "2025-07-30T21:31:02.294087",
     "exception": false,
     "start_time": "2025-07-30T21:31:02.267658",
     "status": "completed"
    },
    "tags": []
   },
   "source": [
    "# (Fairness) Metrics"
   ]
  },
  {
   "cell_type": "code",
   "execution_count": 72,
   "id": "debc5d62",
   "metadata": {
    "execution": {
     "iopub.execute_input": "2025-07-30T21:31:02.351309Z",
     "iopub.status.busy": "2025-07-30T21:31:02.350578Z",
     "iopub.status.idle": "2025-07-30T21:31:02.373233Z",
     "shell.execute_reply": "2025-07-30T21:31:02.372239Z"
    },
    "papermill": {
     "duration": 0.053343,
     "end_time": "2025-07-30T21:31:02.375128",
     "exception": false,
     "start_time": "2025-07-30T21:31:02.321785",
     "status": "completed"
    },
    "tags": []
   },
   "outputs": [],
   "source": [
    "# do I need to include maxdeutsch1.missing?\n",
    "\n",
    "import numpy as np\n",
    "\n",
    "colname_to_bin = \"maxdeutsch1\"\n",
    "majority_value = org_train[colname_to_bin].mode()[0]\n",
    "\n",
    "org_test[\"majmin\"] = np.where(org_test[colname_to_bin] == majority_value, \"majority\", \"minority\")"
   ]
  },
  {
   "cell_type": "code",
   "execution_count": 73,
   "id": "06a50de5",
   "metadata": {
    "execution": {
     "iopub.execute_input": "2025-07-30T21:31:02.431041Z",
     "iopub.status.busy": "2025-07-30T21:31:02.430352Z",
     "iopub.status.idle": "2025-07-30T21:31:05.446363Z",
     "shell.execute_reply": "2025-07-30T21:31:05.445495Z"
    },
    "papermill": {
     "duration": 3.045475,
     "end_time": "2025-07-30T21:31:05.448159",
     "exception": false,
     "start_time": "2025-07-30T21:31:02.402684",
     "status": "completed"
    },
    "tags": []
   },
   "outputs": [],
   "source": [
    "example_universe = universe.copy()\n",
    "example_universe[\"cutoff\"] = example_universe[\"cutoff\"][0]\n",
    "example_universe[\"eval_fairness_grouping\"] = example_universe[\"eval_fairness_grouping\"][0]\n",
    "fairness_dict, metric_frame = universe_analysis.compute_metrics(\n",
    "    example_universe,\n",
    "    y_pred_prob=probs_test,\n",
    "    y_test=y_true,\n",
    "    org_test=org_test,\n",
    ")"
   ]
  },
  {
   "cell_type": "markdown",
   "id": "f95d4e02",
   "metadata": {
    "papermill": {
     "duration": 0.02664,
     "end_time": "2025-07-30T21:31:05.503422",
     "exception": false,
     "start_time": "2025-07-30T21:31:05.476782",
     "status": "completed"
    },
    "tags": []
   },
   "source": [
    "# Overall"
   ]
  },
  {
   "cell_type": "markdown",
   "id": "bdee4871",
   "metadata": {
    "papermill": {
     "duration": 0.024593,
     "end_time": "2025-07-30T21:31:05.553189",
     "exception": false,
     "start_time": "2025-07-30T21:31:05.528596",
     "status": "completed"
    },
    "tags": []
   },
   "source": [
    "Fairness\n",
    "Main fairness target: Equalized Odds. Seems to be a better fit than equal opportunity, since we're not only interested in Y = 1. Seems to be a better fit than demographic parity, since we also care about accuracy, not just equal distribution of preds.\n",
    "\n",
    "Pick column for computation of fairness metrics\n",
    "\n",
    "Performance\n",
    "Overall performance measures, most interesting in relation to the measures split by group below"
   ]
  },
  {
   "cell_type": "code",
   "execution_count": 74,
   "id": "c4e067c6",
   "metadata": {
    "execution": {
     "iopub.execute_input": "2025-07-30T21:31:05.608502Z",
     "iopub.status.busy": "2025-07-30T21:31:05.607805Z",
     "iopub.status.idle": "2025-07-30T21:31:05.616376Z",
     "shell.execute_reply": "2025-07-30T21:31:05.615448Z"
    },
    "papermill": {
     "duration": 0.037276,
     "end_time": "2025-07-30T21:31:05.617887",
     "exception": false,
     "start_time": "2025-07-30T21:31:05.580611",
     "status": "completed"
    },
    "tags": []
   },
   "outputs": [
    {
     "data": {
      "text/plain": [
       "accuracy                   0.221146\n",
       "balanced accuracy          0.541409\n",
       "f1                         0.242566\n",
       "precision                  0.138570\n",
       "false positive rate        0.889376\n",
       "false negative rate        0.027807\n",
       "selection rate             0.900000\n",
       "count                  89710.000000\n",
       "dtype: float64"
      ]
     },
     "execution_count": 74,
     "metadata": {},
     "output_type": "execute_result"
    }
   ],
   "source": [
    "metric_frame.overall"
   ]
  },
  {
   "cell_type": "markdown",
   "id": "e968fe9d",
   "metadata": {
    "papermill": {
     "duration": 0.025503,
     "end_time": "2025-07-30T21:31:05.669944",
     "exception": false,
     "start_time": "2025-07-30T21:31:05.644441",
     "status": "completed"
    },
    "tags": []
   },
   "source": [
    "By Group"
   ]
  },
  {
   "cell_type": "code",
   "execution_count": 75,
   "id": "ec325bce",
   "metadata": {
    "execution": {
     "iopub.execute_input": "2025-07-30T21:31:05.724801Z",
     "iopub.status.busy": "2025-07-30T21:31:05.724113Z",
     "iopub.status.idle": "2025-07-30T21:31:05.739437Z",
     "shell.execute_reply": "2025-07-30T21:31:05.738519Z"
    },
    "papermill": {
     "duration": 0.04342,
     "end_time": "2025-07-30T21:31:05.740963",
     "exception": false,
     "start_time": "2025-07-30T21:31:05.697543",
     "status": "completed"
    },
    "tags": []
   },
   "outputs": [
    {
     "data": {
      "text/html": [
       "<div>\n",
       "<style scoped>\n",
       "    .dataframe tbody tr th:only-of-type {\n",
       "        vertical-align: middle;\n",
       "    }\n",
       "\n",
       "    .dataframe tbody tr th {\n",
       "        vertical-align: top;\n",
       "    }\n",
       "\n",
       "    .dataframe thead th {\n",
       "        text-align: right;\n",
       "    }\n",
       "</style>\n",
       "<table border=\"1\" class=\"dataframe\">\n",
       "  <thead>\n",
       "    <tr style=\"text-align: right;\">\n",
       "      <th></th>\n",
       "      <th>accuracy</th>\n",
       "      <th>balanced accuracy</th>\n",
       "      <th>f1</th>\n",
       "      <th>precision</th>\n",
       "      <th>false positive rate</th>\n",
       "      <th>false negative rate</th>\n",
       "      <th>selection rate</th>\n",
       "      <th>count</th>\n",
       "    </tr>\n",
       "    <tr>\n",
       "      <th>majmin</th>\n",
       "      <th></th>\n",
       "      <th></th>\n",
       "      <th></th>\n",
       "      <th></th>\n",
       "      <th></th>\n",
       "      <th></th>\n",
       "      <th></th>\n",
       "      <th></th>\n",
       "    </tr>\n",
       "  </thead>\n",
       "  <tbody>\n",
       "    <tr>\n",
       "      <th>majority</th>\n",
       "      <td>0.240509</td>\n",
       "      <td>0.549218</td>\n",
       "      <td>0.252121</td>\n",
       "      <td>0.144917</td>\n",
       "      <td>0.870381</td>\n",
       "      <td>0.031182</td>\n",
       "      <td>0.883389</td>\n",
       "      <td>69170.0</td>\n",
       "    </tr>\n",
       "    <tr>\n",
       "      <th>minority</th>\n",
       "      <td>0.155940</td>\n",
       "      <td>0.516548</td>\n",
       "      <td>0.212062</td>\n",
       "      <td>0.118818</td>\n",
       "      <td>0.952124</td>\n",
       "      <td>0.014780</td>\n",
       "      <td>0.955940</td>\n",
       "      <td>20540.0</td>\n",
       "    </tr>\n",
       "  </tbody>\n",
       "</table>\n",
       "</div>"
      ],
      "text/plain": [
       "          accuracy  balanced accuracy        f1  precision  \\\n",
       "majmin                                                       \n",
       "majority  0.240509           0.549218  0.252121   0.144917   \n",
       "minority  0.155940           0.516548  0.212062   0.118818   \n",
       "\n",
       "          false positive rate  false negative rate  selection rate    count  \n",
       "majmin                                                                       \n",
       "majority             0.870381             0.031182        0.883389  69170.0  \n",
       "minority             0.952124             0.014780        0.955940  20540.0  "
      ]
     },
     "execution_count": 75,
     "metadata": {},
     "output_type": "execute_result"
    }
   ],
   "source": [
    "metric_frame.by_group"
   ]
  },
  {
   "cell_type": "code",
   "execution_count": 76,
   "id": "a9ddbe63",
   "metadata": {
    "execution": {
     "iopub.execute_input": "2025-07-30T21:31:05.793573Z",
     "iopub.status.busy": "2025-07-30T21:31:05.792953Z",
     "iopub.status.idle": "2025-07-30T21:31:08.126253Z",
     "shell.execute_reply": "2025-07-30T21:31:08.125335Z"
    },
    "papermill": {
     "duration": 2.360819,
     "end_time": "2025-07-30T21:31:08.127831",
     "exception": false,
     "start_time": "2025-07-30T21:31:05.767012",
     "status": "completed"
    },
    "tags": []
   },
   "outputs": [
    {
     "data": {
      "text/plain": [
       "array([[<Axes: title={'center': 'accuracy'}, xlabel='majmin'>,\n",
       "        <Axes: title={'center': 'balanced accuracy'}, xlabel='majmin'>,\n",
       "        <Axes: title={'center': 'f1'}, xlabel='majmin'>],\n",
       "       [<Axes: title={'center': 'precision'}, xlabel='majmin'>,\n",
       "        <Axes: title={'center': 'false positive rate'}, xlabel='majmin'>,\n",
       "        <Axes: title={'center': 'false negative rate'}, xlabel='majmin'>],\n",
       "       [<Axes: title={'center': 'selection rate'}, xlabel='majmin'>,\n",
       "        <Axes: title={'center': 'count'}, xlabel='majmin'>,\n",
       "        <Axes: xlabel='majmin'>]], dtype=object)"
      ]
     },
     "execution_count": 76,
     "metadata": {},
     "output_type": "execute_result"
    },
    {
     "data": {
      "image/png": "[encoded data removed]",
      "text/plain": [
       "<Figure size 1200x800 with 9 Axes>"
      ]
     },
     "metadata": {},
     "output_type": "display_data"
    }
   ],
   "source": [
    "# In a graphic\n",
    "metric_frame.by_group.plot.bar(\n",
    "    subplots=True,\n",
    "    layout=[3, 3],\n",
    "    legend=False,\n",
    "    figsize=[12, 8],\n",
    "    title=\"Show all metrics\",\n",
    ")"
   ]
  },
  {
   "cell_type": "markdown",
   "id": "f57a0bac",
   "metadata": {
    "papermill": {
     "duration": 0.030687,
     "end_time": "2025-07-30T21:31:08.187649",
     "exception": false,
     "start_time": "2025-07-30T21:31:08.156962",
     "status": "completed"
    },
    "tags": []
   },
   "source": [
    "# Final Output"
   ]
  },
  {
   "cell_type": "code",
   "execution_count": 77,
   "id": "96d280a3",
   "metadata": {
    "execution": {
     "iopub.execute_input": "2025-07-30T21:31:08.246860Z",
     "iopub.status.busy": "2025-07-30T21:31:08.246012Z",
     "iopub.status.idle": "2025-07-30T21:31:08.254228Z",
     "shell.execute_reply": "2025-07-30T21:31:08.253364Z"
    },
    "papermill": {
     "duration": 0.038061,
     "end_time": "2025-07-30T21:31:08.255943",
     "exception": false,
     "start_time": "2025-07-30T21:31:08.217882",
     "status": "completed"
    },
    "tags": []
   },
   "outputs": [
    {
     "data": {
      "text/plain": [
       "4"
      ]
     },
     "execution_count": 77,
     "metadata": {},
     "output_type": "execute_result"
    }
   ],
   "source": [
    "sub_universes = universe_analysis.generate_sub_universes()\n",
    "len(sub_universes)"
   ]
  },
  {
   "cell_type": "code",
   "execution_count": 78,
   "id": "92adf7ba",
   "metadata": {
    "execution": {
     "iopub.execute_input": "2025-07-30T21:31:08.317906Z",
     "iopub.status.busy": "2025-07-30T21:31:08.317072Z",
     "iopub.status.idle": "2025-07-30T21:31:08.323668Z",
     "shell.execute_reply": "2025-07-30T21:31:08.322775Z"
    },
    "papermill": {
     "duration": 0.037948,
     "end_time": "2025-07-30T21:31:08.325236",
     "exception": false,
     "start_time": "2025-07-30T21:31:08.287288",
     "status": "completed"
    },
    "tags": []
   },
   "outputs": [],
   "source": [
    "def filter_sub_universe_data(sub_universe, org_test):\n",
    "    # Keep all rows — no filtering\n",
    "    keep_rows_mask = np.ones(org_test.shape[0], dtype=bool)\n",
    "\n",
    "    print(f\"[INFO] Keeping all rows: {keep_rows_mask.sum()} rows retained.\")\n",
    "    return keep_rows_mask"
   ]
  },
  {
   "cell_type": "code",
   "execution_count": 79,
   "id": "4a759155",
   "metadata": {
    "execution": {
     "iopub.execute_input": "2025-07-30T21:31:08.386934Z",
     "iopub.status.busy": "2025-07-30T21:31:08.386459Z",
     "iopub.status.idle": "2025-07-30T21:31:16.190425Z",
     "shell.execute_reply": "2025-07-30T21:31:16.189398Z"
    },
    "papermill": {
     "duration": 7.836081,
     "end_time": "2025-07-30T21:31:16.191702",
     "exception": false,
     "start_time": "2025-07-30T21:31:08.355621",
     "status": "completed"
    },
    "tags": []
   },
   "outputs": [
    {
     "name": "stdout",
     "output_type": "stream",
     "text": [
      "Stopping execution_time clock.\n",
      "[INFO] Keeping all rows: 89710 rows retained.\n"
     ]
    },
    {
     "name": "stdout",
     "output_type": "stream",
     "text": [
      "[INFO] Keeping all rows: 89710 rows retained.\n"
     ]
    },
    {
     "name": "stdout",
     "output_type": "stream",
     "text": [
      "[INFO] Keeping all rows: 89710 rows retained.\n"
     ]
    },
    {
     "name": "stdout",
     "output_type": "stream",
     "text": [
      "[INFO] Keeping all rows: 89710 rows retained.\n"
     ]
    },
    {
     "data": {
      "text/html": [
       "<div>\n",
       "<style scoped>\n",
       "    .dataframe tbody tr th:only-of-type {\n",
       "        vertical-align: middle;\n",
       "    }\n",
       "\n",
       "    .dataframe tbody tr th {\n",
       "        vertical-align: top;\n",
       "    }\n",
       "\n",
       "    .dataframe thead th {\n",
       "        text-align: right;\n",
       "    }\n",
       "</style>\n",
       "<table border=\"1\" class=\"dataframe\">\n",
       "  <thead>\n",
       "    <tr style=\"text-align: right;\">\n",
       "      <th></th>\n",
       "      <th>run_no</th>\n",
       "      <th>universe_id</th>\n",
       "      <th>universe_settings</th>\n",
       "      <th>execution_time</th>\n",
       "      <th>test_size_n</th>\n",
       "      <th>test_size_frac</th>\n",
       "      <th>fair_main_equalized_odds_difference</th>\n",
       "      <th>fair_main_equalized_odds_ratio</th>\n",
       "      <th>fair_main_demographic_parity_difference</th>\n",
       "      <th>fair_main_demographic_parity_ratio</th>\n",
       "      <th>...</th>\n",
       "      <th>perf_grp_precision_0</th>\n",
       "      <th>perf_grp_precision_1</th>\n",
       "      <th>perf_grp_false positive rate_0</th>\n",
       "      <th>perf_grp_false positive rate_1</th>\n",
       "      <th>perf_grp_false negative rate_0</th>\n",
       "      <th>perf_grp_false negative rate_1</th>\n",
       "      <th>perf_grp_selection rate_0</th>\n",
       "      <th>perf_grp_selection rate_1</th>\n",
       "      <th>perf_grp_count_0</th>\n",
       "      <th>perf_grp_count_1</th>\n",
       "    </tr>\n",
       "  </thead>\n",
       "  <tbody>\n",
       "    <tr>\n",
       "      <th>0</th>\n",
       "      <td>14</td>\n",
       "      <td>b3ea320b5eaca93836c06e0a7feb1387</td>\n",
       "      <td>{\"cutoff\": \"quantile_0.1\", \"eval_fairness_grou...</td>\n",
       "      <td>32.158353</td>\n",
       "      <td>89710</td>\n",
       "      <td>1.0</td>\n",
       "      <td>0.081743</td>\n",
       "      <td>0.914147</td>\n",
       "      <td>0.072551</td>\n",
       "      <td>0.924105</td>\n",
       "      <td>...</td>\n",
       "      <td>NaN</td>\n",
       "      <td>NaN</td>\n",
       "      <td>NaN</td>\n",
       "      <td>NaN</td>\n",
       "      <td>NaN</td>\n",
       "      <td>NaN</td>\n",
       "      <td>NaN</td>\n",
       "      <td>NaN</td>\n",
       "      <td>NaN</td>\n",
       "      <td>NaN</td>\n",
       "    </tr>\n",
       "    <tr>\n",
       "      <th>0</th>\n",
       "      <td>14</td>\n",
       "      <td>b3ea320b5eaca93836c06e0a7feb1387</td>\n",
       "      <td>{\"cutoff\": \"quantile_0.1\", \"eval_fairness_grou...</td>\n",
       "      <td>32.158353</td>\n",
       "      <td>89710</td>\n",
       "      <td>1.0</td>\n",
       "      <td>0.081743</td>\n",
       "      <td>0.914147</td>\n",
       "      <td>0.072551</td>\n",
       "      <td>0.924105</td>\n",
       "      <td>...</td>\n",
       "      <td>0.118818</td>\n",
       "      <td>0.144917</td>\n",
       "      <td>0.952124</td>\n",
       "      <td>0.870381</td>\n",
       "      <td>0.014780</td>\n",
       "      <td>0.031182</td>\n",
       "      <td>0.955940</td>\n",
       "      <td>0.883389</td>\n",
       "      <td>20540.0</td>\n",
       "      <td>69170.0</td>\n",
       "    </tr>\n",
       "    <tr>\n",
       "      <th>0</th>\n",
       "      <td>14</td>\n",
       "      <td>b3ea320b5eaca93836c06e0a7feb1387</td>\n",
       "      <td>{\"cutoff\": \"quantile_0.25\", \"eval_fairness_gro...</td>\n",
       "      <td>32.158353</td>\n",
       "      <td>89710</td>\n",
       "      <td>1.0</td>\n",
       "      <td>0.178256</td>\n",
       "      <td>0.793756</td>\n",
       "      <td>0.159037</td>\n",
       "      <td>0.818005</td>\n",
       "      <td>...</td>\n",
       "      <td>NaN</td>\n",
       "      <td>NaN</td>\n",
       "      <td>NaN</td>\n",
       "      <td>NaN</td>\n",
       "      <td>NaN</td>\n",
       "      <td>NaN</td>\n",
       "      <td>NaN</td>\n",
       "      <td>NaN</td>\n",
       "      <td>NaN</td>\n",
       "      <td>NaN</td>\n",
       "    </tr>\n",
       "    <tr>\n",
       "      <th>0</th>\n",
       "      <td>14</td>\n",
       "      <td>b3ea320b5eaca93836c06e0a7feb1387</td>\n",
       "      <td>{\"cutoff\": \"quantile_0.25\", \"eval_fairness_gro...</td>\n",
       "      <td>32.158353</td>\n",
       "      <td>89710</td>\n",
       "      <td>1.0</td>\n",
       "      <td>0.178256</td>\n",
       "      <td>0.793756</td>\n",
       "      <td>0.159037</td>\n",
       "      <td>0.818005</td>\n",
       "      <td>...</td>\n",
       "      <td>0.124965</td>\n",
       "      <td>0.167078</td>\n",
       "      <td>0.864297</td>\n",
       "      <td>0.686040</td>\n",
       "      <td>0.052787</td>\n",
       "      <td>0.096171</td>\n",
       "      <td>0.873856</td>\n",
       "      <td>0.714819</td>\n",
       "      <td>20540.0</td>\n",
       "      <td>69170.0</td>\n",
       "    </tr>\n",
       "  </tbody>\n",
       "</table>\n",
       "<p>4 rows × 50 columns</p>\n",
       "</div>"
      ],
      "text/plain": [
       "  run_no                       universe_id  \\\n",
       "0     14  b3ea320b5eaca93836c06e0a7feb1387   \n",
       "0     14  b3ea320b5eaca93836c06e0a7feb1387   \n",
       "0     14  b3ea320b5eaca93836c06e0a7feb1387   \n",
       "0     14  b3ea320b5eaca93836c06e0a7feb1387   \n",
       "\n",
       "                                   universe_settings  execution_time  \\\n",
       "0  {\"cutoff\": \"quantile_0.1\", \"eval_fairness_grou...       32.158353   \n",
       "0  {\"cutoff\": \"quantile_0.1\", \"eval_fairness_grou...       32.158353   \n",
       "0  {\"cutoff\": \"quantile_0.25\", \"eval_fairness_gro...       32.158353   \n",
       "0  {\"cutoff\": \"quantile_0.25\", \"eval_fairness_gro...       32.158353   \n",
       "\n",
       "   test_size_n  test_size_frac  fair_main_equalized_odds_difference  \\\n",
       "0        89710             1.0                             0.081743   \n",
       "0        89710             1.0                             0.081743   \n",
       "0        89710             1.0                             0.178256   \n",
       "0        89710             1.0                             0.178256   \n",
       "\n",
       "   fair_main_equalized_odds_ratio  fair_main_demographic_parity_difference  \\\n",
       "0                        0.914147                                 0.072551   \n",
       "0                        0.914147                                 0.072551   \n",
       "0                        0.793756                                 0.159037   \n",
       "0                        0.793756                                 0.159037   \n",
       "\n",
       "   fair_main_demographic_parity_ratio  ...  perf_grp_precision_0  \\\n",
       "0                            0.924105  ...                   NaN   \n",
       "0                            0.924105  ...              0.118818   \n",
       "0                            0.818005  ...                   NaN   \n",
       "0                            0.818005  ...              0.124965   \n",
       "\n",
       "   perf_grp_precision_1  perf_grp_false positive rate_0  \\\n",
       "0                   NaN                             NaN   \n",
       "0              0.144917                        0.952124   \n",
       "0                   NaN                             NaN   \n",
       "0              0.167078                        0.864297   \n",
       "\n",
       "   perf_grp_false positive rate_1  perf_grp_false negative rate_0  \\\n",
       "0                             NaN                             NaN   \n",
       "0                        0.870381                        0.014780   \n",
       "0                             NaN                             NaN   \n",
       "0                        0.686040                        0.052787   \n",
       "\n",
       "   perf_grp_false negative rate_1  perf_grp_selection rate_0  \\\n",
       "0                             NaN                        NaN   \n",
       "0                        0.031182                   0.955940   \n",
       "0                             NaN                        NaN   \n",
       "0                        0.096171                   0.873856   \n",
       "\n",
       "   perf_grp_selection rate_1  perf_grp_count_0  perf_grp_count_1  \n",
       "0                        NaN               NaN               NaN  \n",
       "0                   0.883389           20540.0           69170.0  \n",
       "0                        NaN               NaN               NaN  \n",
       "0                   0.714819           20540.0           69170.0  \n",
       "\n",
       "[4 rows x 50 columns]"
      ]
     },
     "execution_count": 79,
     "metadata": {},
     "output_type": "execute_result"
    }
   ],
   "source": [
    "final_output = universe_analysis.generate_final_output(\n",
    "    y_pred_prob=probs_test,\n",
    "    y_test=y_true,\n",
    "    org_test=org_test,\n",
    "    filter_data=filter_sub_universe_data,\n",
    "    cp_metrics_df=cp_metrics_df,\n",
    "    save=True,\n",
    ")\n",
    "final_output"
   ]
  },
  {
   "cell_type": "code",
   "execution_count": null,
   "id": "721ff514-cb11-46f8-b6fc-50392f74b5cb",
   "metadata": {
    "papermill": {
     "duration": 0.015608,
     "end_time": "2025-07-30T21:31:16.225963",
     "exception": false,
     "start_time": "2025-07-30T21:31:16.210355",
     "status": "completed"
    },
    "tags": []
   },
   "outputs": [],
   "source": []
  }
 ],
 "metadata": {
  "celltoolbar": "Tags",
  "kernelspec": {
   "display_name": "Python (CMA Fairness)",
   "language": "python",
   "name": "cma_fair_env"
  },
  "language_info": {
   "codemirror_mode": {
    "name": "ipython",
    "version": 3
   },
   "file_extension": ".py",
   "mimetype": "text/x-python",
   "name": "python",
   "nbconvert_exporter": "python",
   "pygments_lexer": "ipython3",
   "version": "3.10.12"
  },
  "papermill": {
   "default_parameters": {},
   "duration": 50.618073,
   "end_time": "2025-07-30T21:31:16.859815",
   "environment_variables": {},
   "exception": null,
   "input_path": "universe_analysis.ipynb",
   "output_path": "output/runs/14/notebooks/m_14-b3ea320b5eaca93836c06e0a7feb1387.ipynb",
   "parameters": {
    "output_dir": "output",
    "run_no": "14",
    "seed": "2023",
    "universe": "{\"cutoff\": [\"quantile_0.1\", \"quantile_0.25\"], \"eval_fairness_grouping\": [\"majority-minority\", \"nationality-all\"], \"exclude_features\": \"sex\", \"exclude_subgroups\": \"drop-non-german\", \"model\": \"gbm\", \"scale\": \"do-not-scale\", \"training_size\": \"1k\", \"training_year\": \"2014\"}",
    "universe_id": "b3ea320b5eaca93836c06e0a7feb1387"
   },
   "start_time": "2025-07-30T21:30:26.241742",
   "version": "2.6.0"
  }
 },
 "nbformat": 4,
 "nbformat_minor": 5
}