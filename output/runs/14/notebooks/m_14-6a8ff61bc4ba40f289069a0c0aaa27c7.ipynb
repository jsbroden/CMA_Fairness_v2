{
 "cells": [
  {
   "cell_type": "code",
   "execution_count": 1,
   "id": "f159f837-637b-42ba-96b5-ec9a68c44524",
   "metadata": {
    "execution": {
     "iopub.execute_input": "2025-07-30T20:20:18.405056Z",
     "iopub.status.busy": "2025-07-30T20:20:18.404599Z",
     "iopub.status.idle": "2025-07-30T20:20:18.418958Z",
     "shell.execute_reply": "2025-07-30T20:20:18.417859Z"
    },
    "papermill": {
     "duration": 0.039769,
     "end_time": "2025-07-30T20:20:18.420963",
     "exception": false,
     "start_time": "2025-07-30T20:20:18.381194",
     "status": "completed"
    },
    "tags": []
   },
   "outputs": [
    {
     "name": "stdout",
     "output_type": "stream",
     "text": [
      "/dss/dsshome1/0C/ra93lal2/cma/CMA_Fairness_v2\n"
     ]
    },
    {
     "name": "stderr",
     "output_type": "stream",
     "text": [
      "/dss/dsshome1/0C/ra93lal2/.local/share/virtualenvs/CMA_Fairness_v2-3j10GkSs/lib/python3.10/site-packages/IPython/core/magics/osm.py:393: UserWarning: This is now an optional IPython functionality, using bookmarks requires you to install the `pickleshare` library.\n",
      "  bkms = self.shell.db.get('bookmarks', {})\n",
      "/dss/dsshome1/0C/ra93lal2/.local/share/virtualenvs/CMA_Fairness_v2-3j10GkSs/lib/python3.10/site-packages/IPython/core/magics/osm.py:417: UserWarning: This is now an optional IPython functionality, setting dhist requires you to install the `pickleshare` library.\n",
      "  self.shell.db['dhist'] = compress_dhist(dhist)[-100:]\n"
     ]
    }
   ],
   "source": [
    "%cd ~/cma/CMA_Fairness_v2"
   ]
  },
  {
   "cell_type": "markdown",
   "id": "de2603b9",
   "metadata": {
    "papermill": {
     "duration": 0.020034,
     "end_time": "2025-07-30T20:20:18.463211",
     "exception": false,
     "start_time": "2025-07-30T20:20:18.443177",
     "status": "completed"
    },
    "tags": []
   },
   "source": [
    "The following cell holds the definition of our parameters, these values can be overriden by rendering the with e.g. the following command:\n",
    "\n",
    "papermill -p alpha 0.2 -p ratio 0.3 universe_analysis.ipynb output/test_run.ipynb"
   ]
  },
  {
   "cell_type": "code",
   "execution_count": 2,
   "id": "a80968a0-40bb-4fa9-85ef-2d5eefb01975",
   "metadata": {
    "execution": {
     "iopub.execute_input": "2025-07-30T20:20:18.506139Z",
     "iopub.status.busy": "2025-07-30T20:20:18.505663Z",
     "iopub.status.idle": "2025-07-30T20:20:18.511522Z",
     "shell.execute_reply": "2025-07-30T20:20:18.510659Z"
    },
    "papermill": {
     "duration": 0.028944,
     "end_time": "2025-07-30T20:20:18.513312",
     "exception": false,
     "start_time": "2025-07-30T20:20:18.484368",
     "status": "completed"
    },
    "tags": []
   },
   "outputs": [
    {
     "name": "stdout",
     "output_type": "stream",
     "text": [
      "Current working directory: /dss/dsshome1/0C/ra93lal2/cma/CMA_Fairness_v2\n"
     ]
    }
   ],
   "source": [
    "import os\n",
    "print(\"Current working directory:\", os.getcwd())"
   ]
  },
  {
   "cell_type": "code",
   "execution_count": 3,
   "id": "2dce4c03",
   "metadata": {
    "execution": {
     "iopub.execute_input": "2025-07-30T20:20:18.556860Z",
     "iopub.status.busy": "2025-07-30T20:20:18.556382Z",
     "iopub.status.idle": "2025-07-30T20:20:18.564020Z",
     "shell.execute_reply": "2025-07-30T20:20:18.561761Z"
    },
    "papermill": {
     "duration": 0.035299,
     "end_time": "2025-07-30T20:20:18.570700",
     "exception": false,
     "start_time": "2025-07-30T20:20:18.535401",
     "status": "completed"
    },
    "tags": [
     "parameters"
    ]
   },
   "outputs": [],
   "source": [
    "run_no = 0\n",
    "universe_id = \"test\"\n",
    "universe = {\n",
    "    \"training_size\": \"25k\", # \"25k\", \"5k\", \"1k\"\n",
    "    \"training_year\": \"2014\", # \"2014\", \"2012_14\", \"2010_14\"\n",
    "    \"scale\": \"scale\", # \"scale\", \"do-not-scale\",\n",
    "    #\"stratify_split\": \"target\", # \"none\", \"target\", \"protected-attribute\", \"both\",\n",
    "    \"model\": \"elasticnet\", # \"logreg\", \"penalized_logreg\", \"rf\", \"gbm\", \"elasticnet\"\n",
    "    \"cutoff\": [\"quantile_0.15\", \"quantile_0.30\"],\n",
    "    \"exclude_features\": \"age\", # \"none\", \"nationality\", \"sex\", \"nationality-sex\", \"age\"\n",
    "    \"exclude_subgroups\": \"keep-all\", # \"keep-all\", \"drop-non-german\"\n",
    "    \"eval_fairness_grouping\": [\"majority-minority\", \"nationality-all\"]\n",
    "}\n",
    "\n",
    "output_dir=\"./output\"\n",
    "seed=0"
   ]
  },
  {
   "cell_type": "code",
   "execution_count": 4,
   "id": "74a438e1",
   "metadata": {
    "execution": {
     "iopub.execute_input": "2025-07-30T20:20:18.616609Z",
     "iopub.status.busy": "2025-07-30T20:20:18.615711Z",
     "iopub.status.idle": "2025-07-30T20:20:18.621902Z",
     "shell.execute_reply": "2025-07-30T20:20:18.620922Z"
    },
    "papermill": {
     "duration": 0.031277,
     "end_time": "2025-07-30T20:20:18.623833",
     "exception": false,
     "start_time": "2025-07-30T20:20:18.592556",
     "status": "completed"
    },
    "tags": [
     "injected-parameters"
    ]
   },
   "outputs": [],
   "source": [
    "# Parameters\n",
    "universe_id = \"6a8ff61bc4ba40f289069a0c0aaa27c7\"\n",
    "run_no = \"14\"\n",
    "universe = \"{\\\"cutoff\\\": [\\\"quantile_0.1\\\", \\\"quantile_0.25\\\"], \\\"eval_fairness_grouping\\\": [\\\"majority-minority\\\", \\\"nationality-all\\\"], \\\"exclude_features\\\": \\\"none\\\", \\\"exclude_subgroups\\\": \\\"drop-non-german\\\", \\\"model\\\": \\\"elasticnet\\\", \\\"scale\\\": \\\"do-not-scale\\\", \\\"training_size\\\": \\\"25k\\\", \\\"training_year\\\": \\\"2012_14\\\"}\"\n",
    "output_dir = \"output\"\n",
    "seed = \"2023\"\n"
   ]
  },
  {
   "cell_type": "code",
   "execution_count": 5,
   "id": "1650acaf",
   "metadata": {
    "execution": {
     "iopub.execute_input": "2025-07-30T20:20:18.668063Z",
     "iopub.status.busy": "2025-07-30T20:20:18.667619Z",
     "iopub.status.idle": "2025-07-30T20:20:18.673190Z",
     "shell.execute_reply": "2025-07-30T20:20:18.672193Z"
    },
    "papermill": {
     "duration": 0.030462,
     "end_time": "2025-07-30T20:20:18.676672",
     "exception": false,
     "start_time": "2025-07-30T20:20:18.646210",
     "status": "completed"
    },
    "tags": []
   },
   "outputs": [],
   "source": [
    "import json\n",
    "# Parse universe into dict if it is passed as a string\n",
    "if isinstance(universe, str):\n",
    "    universe = json.loads(universe)"
   ]
  },
  {
   "cell_type": "code",
   "execution_count": 6,
   "id": "16620c48",
   "metadata": {
    "execution": {
     "iopub.execute_input": "2025-07-30T20:20:18.704557Z",
     "iopub.status.busy": "2025-07-30T20:20:18.703919Z",
     "iopub.status.idle": "2025-07-30T20:20:18.736146Z",
     "shell.execute_reply": "2025-07-30T20:20:18.735359Z"
    },
    "papermill": {
     "duration": 0.046249,
     "end_time": "2025-07-30T20:20:18.737854",
     "exception": false,
     "start_time": "2025-07-30T20:20:18.691605",
     "status": "completed"
    },
    "tags": []
   },
   "outputs": [],
   "source": [
    "# Auto-reload the custom package\n",
    "%load_ext autoreload\n",
    "%autoreload 1\n",
    "%aimport fairness_multiverse"
   ]
  },
  {
   "cell_type": "code",
   "execution_count": 7,
   "id": "01c5c9f3",
   "metadata": {
    "execution": {
     "iopub.execute_input": "2025-07-30T20:20:18.791200Z",
     "iopub.status.busy": "2025-07-30T20:20:18.790121Z",
     "iopub.status.idle": "2025-07-30T20:20:20.807096Z",
     "shell.execute_reply": "2025-07-30T20:20:20.806355Z"
    },
    "papermill": {
     "duration": 2.044026,
     "end_time": "2025-07-30T20:20:20.808958",
     "exception": false,
     "start_time": "2025-07-30T20:20:18.764932",
     "status": "completed"
    },
    "tags": []
   },
   "outputs": [],
   "source": [
    "from fairness_multiverse.universe import UniverseAnalysis\n",
    "\n",
    "universe_analysis = UniverseAnalysis(\n",
    "    run_no = run_no,\n",
    "    universe_id = universe_id,\n",
    "    universe = universe,\n",
    "    output_dir=output_dir,\n",
    ")"
   ]
  },
  {
   "cell_type": "code",
   "execution_count": 8,
   "id": "106241f5",
   "metadata": {
    "execution": {
     "iopub.execute_input": "2025-07-30T20:20:20.851895Z",
     "iopub.status.busy": "2025-07-30T20:20:20.851362Z",
     "iopub.status.idle": "2025-07-30T20:20:20.858550Z",
     "shell.execute_reply": "2025-07-30T20:20:20.857613Z"
    },
    "papermill": {
     "duration": 0.030296,
     "end_time": "2025-07-30T20:20:20.860317",
     "exception": false,
     "start_time": "2025-07-30T20:20:20.830021",
     "status": "completed"
    },
    "tags": []
   },
   "outputs": [
    {
     "name": "stdout",
     "output_type": "stream",
     "text": [
      "Using Seed: 2023\n"
     ]
    }
   ],
   "source": [
    "import numpy as np\n",
    "parsed_seed = int(seed)\n",
    "np.random.seed(parsed_seed)\n",
    "print(f\"Using Seed: {parsed_seed}\")"
   ]
  },
  {
   "cell_type": "markdown",
   "id": "e0ebdc57",
   "metadata": {
    "papermill": {
     "duration": 0.020547,
     "end_time": "2025-07-30T20:20:20.902329",
     "exception": false,
     "start_time": "2025-07-30T20:20:20.881782",
     "status": "completed"
    },
    "tags": []
   },
   "source": [
    "# Loading Data"
   ]
  },
  {
   "cell_type": "markdown",
   "id": "681925a3",
   "metadata": {
    "papermill": {
     "duration": 0.022432,
     "end_time": "2025-07-30T20:20:20.946390",
     "exception": false,
     "start_time": "2025-07-30T20:20:20.923958",
     "status": "completed"
    },
    "tags": []
   },
   "source": [
    "Load siab_train, siab_test, siab_calib and/or \n",
    "load siab_train_features, siab_train_labels"
   ]
  },
  {
   "cell_type": "code",
   "execution_count": 9,
   "id": "f0496b8a",
   "metadata": {
    "execution": {
     "iopub.execute_input": "2025-07-30T20:20:20.990427Z",
     "iopub.status.busy": "2025-07-30T20:20:20.990002Z",
     "iopub.status.idle": "2025-07-30T20:20:33.441216Z",
     "shell.execute_reply": "2025-07-30T20:20:33.440116Z"
    },
    "papermill": {
     "duration": 12.475363,
     "end_time": "2025-07-30T20:20:33.442786",
     "exception": false,
     "start_time": "2025-07-30T20:20:20.967423",
     "status": "completed"
    },
    "tags": []
   },
   "outputs": [
    {
     "name": "stdout",
     "output_type": "stream",
     "text": [
      "Loading SIAB data from cache: data/siab_cached.csv.gz\n"
     ]
    },
    {
     "name": "stdout",
     "output_type": "stream",
     "text": [
      "(643690, 164)\n"
     ]
    }
   ],
   "source": [
    "from pathlib import Path\n",
    "import pandas as pd\n",
    "\n",
    "# File paths\n",
    "raw_file = Path(\"data/raw/siab.csv\")\n",
    "cache_file = Path(\"data/siab_cached.csv.gz\")\n",
    "\n",
    "# Ensure cache directory exists\n",
    "cache_file.parent.mkdir(parents=True, exist_ok=True)\n",
    "\n",
    "# Load with simple caching\n",
    "if cache_file.exists():\n",
    "    print(f\"Loading SIAB data from cache: {cache_file}\")\n",
    "    siab = pd.read_csv(cache_file, compression='gzip')\n",
    "else:\n",
    "    print(f\"Cache not found. Reading raw SIAB data: {raw_file}\")\n",
    "    siab = pd.read_csv(raw_file)\n",
    "    siab.to_csv(cache_file, index=False, compression='gzip')\n",
    "    print(f\"Cached SIAB data to: {cache_file}\")\n",
    "\n",
    "# Now use `siab` DataFrame as needed\n",
    "print(siab.shape)"
   ]
  },
  {
   "cell_type": "code",
   "execution_count": 10,
   "id": "db0ca512-5f53-4dba-abdb-a2888bca41ba",
   "metadata": {
    "execution": {
     "iopub.execute_input": "2025-07-30T20:20:33.490842Z",
     "iopub.status.busy": "2025-07-30T20:20:33.490265Z",
     "iopub.status.idle": "2025-07-30T20:20:33.496503Z",
     "shell.execute_reply": "2025-07-30T20:20:33.495218Z"
    },
    "papermill": {
     "duration": 0.033505,
     "end_time": "2025-07-30T20:20:33.498279",
     "exception": false,
     "start_time": "2025-07-30T20:20:33.464774",
     "status": "completed"
    },
    "tags": []
   },
   "outputs": [],
   "source": [
    "#siab"
   ]
  },
  {
   "cell_type": "code",
   "execution_count": 11,
   "id": "a0edb063",
   "metadata": {
    "execution": {
     "iopub.execute_input": "2025-07-30T20:20:33.544726Z",
     "iopub.status.busy": "2025-07-30T20:20:33.543973Z",
     "iopub.status.idle": "2025-07-30T20:20:33.549872Z",
     "shell.execute_reply": "2025-07-30T20:20:33.548641Z"
    },
    "papermill": {
     "duration": 0.031166,
     "end_time": "2025-07-30T20:20:33.551903",
     "exception": false,
     "start_time": "2025-07-30T20:20:33.520737",
     "status": "completed"
    },
    "tags": []
   },
   "outputs": [],
   "source": [
    "#import pandas as pd\n",
    "#\n",
    "#X_train = pd.read_csv(\"./data/X_train.csv\")\n",
    "#y_train = pd.read_csv(\"./data/y_train.csv\")"
   ]
  },
  {
   "cell_type": "code",
   "execution_count": 12,
   "id": "63d08085",
   "metadata": {
    "execution": {
     "iopub.execute_input": "2025-07-30T20:20:33.598099Z",
     "iopub.status.busy": "2025-07-30T20:20:33.597401Z",
     "iopub.status.idle": "2025-07-30T20:20:33.603497Z",
     "shell.execute_reply": "2025-07-30T20:20:33.602420Z"
    },
    "papermill": {
     "duration": 0.030618,
     "end_time": "2025-07-30T20:20:33.605379",
     "exception": false,
     "start_time": "2025-07-30T20:20:33.574761",
     "status": "completed"
    },
    "tags": []
   },
   "outputs": [],
   "source": [
    "#X_test = pd.read_csv(\"./data/X_test.csv\")\n",
    "#y_true = pd.read_csv(\"./data/y_test.csv\")"
   ]
  },
  {
   "cell_type": "code",
   "execution_count": 13,
   "id": "98a8d0fa-1d3d-4ed8-bb2c-281470e24add",
   "metadata": {
    "execution": {
     "iopub.execute_input": "2025-07-30T20:20:33.652233Z",
     "iopub.status.busy": "2025-07-30T20:20:33.651730Z",
     "iopub.status.idle": "2025-07-30T20:20:33.657076Z",
     "shell.execute_reply": "2025-07-30T20:20:33.655978Z"
    },
    "papermill": {
     "duration": 0.030179,
     "end_time": "2025-07-30T20:20:33.658798",
     "exception": false,
     "start_time": "2025-07-30T20:20:33.628619",
     "status": "completed"
    },
    "tags": []
   },
   "outputs": [],
   "source": [
    "# Calibration data for conformal\n",
    "#X_calib = pd.read_csv(\"./data/X_calib.csv\")\n",
    "#y_calib = pd.read_csv(\"./data/y_calib.csv\")"
   ]
  },
  {
   "cell_type": "markdown",
   "id": "997051c5-15bd-4b69-9786-c3001a3ce484",
   "metadata": {
    "papermill": {
     "duration": 0.021366,
     "end_time": "2025-07-30T20:20:33.703669",
     "exception": false,
     "start_time": "2025-07-30T20:20:33.682303",
     "status": "completed"
    },
    "tags": []
   },
   "source": [
    "# Splitting Data and Setting Training Data Size"
   ]
  },
  {
   "cell_type": "code",
   "execution_count": 14,
   "id": "e993b61f-042d-41a6-8c81-f55681f86335",
   "metadata": {
    "execution": {
     "iopub.execute_input": "2025-07-30T20:20:33.749925Z",
     "iopub.status.busy": "2025-07-30T20:20:33.749348Z",
     "iopub.status.idle": "2025-07-30T20:20:33.766989Z",
     "shell.execute_reply": "2025-07-30T20:20:33.765766Z"
    },
    "papermill": {
     "duration": 0.043307,
     "end_time": "2025-07-30T20:20:33.769096",
     "exception": false,
     "start_time": "2025-07-30T20:20:33.725789",
     "status": "completed"
    },
    "tags": []
   },
   "outputs": [],
   "source": [
    "def sample_by_year_size(df,\n",
    "                        training_year: str,\n",
    "                        training_size: str,\n",
    "                        random_state: int = 42):\n",
    "    # --- parse training_year into a list of int years ---\n",
    "    if \"_\" in training_year:\n",
    "        start_str, end_str = training_year.split(\"_\", 1)\n",
    "        start = int(start_str)\n",
    "        end   = int(end_str) if len(end_str) == 4 else (int(end_str) + (start // 100)*100)\n",
    "        years = list(range(start, end + 1))\n",
    "    else:\n",
    "        years = [int(training_year)]\n",
    "\n",
    "    df = df[df[\"year\"].isin(years)].reset_index(drop=True)\n",
    "\n",
    "    # --- map training_size to total number of samples ---\n",
    "    total_map = {\"25k\": 25_000, \"5k\": 5_000, \"1k\": 1_000}\n",
    "    if training_size not in total_map:\n",
    "        return df  # e.g. \"all\"\n",
    "\n",
    "    total_samples = total_map[training_size]\n",
    "    n_years       = len(years)\n",
    "    base          = total_samples // n_years\n",
    "    remainder     = total_samples % n_years\n",
    "\n",
    "    # --- build a dict: year -> how many to sample ---\n",
    "    # give +1 to the first `remainder` years in ascending order\n",
    "    quotas = {\n",
    "        year: base + (1 if idx < remainder else 0)\n",
    "        for idx, year in enumerate(sorted(years))\n",
    "    }\n",
    "\n",
    "    # --- sample per‐year according to the quota dict ---\n",
    "    sampled = (\n",
    "        df\n",
    "        .groupby(\"year\", group_keys=False)\n",
    "        .apply(lambda grp: grp.sample(\n",
    "            n=min(len(grp), quotas[grp.name]),\n",
    "            random_state=random_state))\n",
    "        .reset_index(drop=True)\n",
    "    )\n",
    "\n",
    "    return sampled"
   ]
  },
  {
   "cell_type": "code",
   "execution_count": 15,
   "id": "c0ccd338-0e02-41f3-a09d-f56f9266e3fb",
   "metadata": {
    "execution": {
     "iopub.execute_input": "2025-07-30T20:20:33.815697Z",
     "iopub.status.busy": "2025-07-30T20:20:33.814802Z",
     "iopub.status.idle": "2025-07-30T20:20:33.821261Z",
     "shell.execute_reply": "2025-07-30T20:20:33.820012Z"
    },
    "papermill": {
     "duration": 0.031271,
     "end_time": "2025-07-30T20:20:33.823223",
     "exception": false,
     "start_time": "2025-07-30T20:20:33.791952",
     "status": "completed"
    },
    "tags": []
   },
   "outputs": [],
   "source": [
    "#universe[\"training_size\"]"
   ]
  },
  {
   "cell_type": "code",
   "execution_count": 16,
   "id": "ca707fd7-8047-4acd-bfa5-66248fbbf8e6",
   "metadata": {
    "execution": {
     "iopub.execute_input": "2025-07-30T20:20:33.870004Z",
     "iopub.status.busy": "2025-07-30T20:20:33.869286Z",
     "iopub.status.idle": "2025-07-30T20:20:33.874505Z",
     "shell.execute_reply": "2025-07-30T20:20:33.873535Z"
    },
    "papermill": {
     "duration": 0.030408,
     "end_time": "2025-07-30T20:20:33.876163",
     "exception": false,
     "start_time": "2025-07-30T20:20:33.845755",
     "status": "completed"
    },
    "tags": []
   },
   "outputs": [],
   "source": [
    "#universe[\"training_year\"]"
   ]
  },
  {
   "cell_type": "code",
   "execution_count": 17,
   "id": "aea9c6ef-6f46-42c8-85eb-5a62025c1508",
   "metadata": {
    "execution": {
     "iopub.execute_input": "2025-07-30T20:20:33.922352Z",
     "iopub.status.busy": "2025-07-30T20:20:33.921850Z",
     "iopub.status.idle": "2025-07-30T20:20:34.578664Z",
     "shell.execute_reply": "2025-07-30T20:20:34.577579Z"
    },
    "papermill": {
     "duration": 0.682247,
     "end_time": "2025-07-30T20:20:34.580913",
     "exception": false,
     "start_time": "2025-07-30T20:20:33.898666",
     "status": "completed"
    },
    "tags": []
   },
   "outputs": [],
   "source": [
    "siab_train = sample_by_year_size(siab,\n",
    "                               training_year=universe[\"training_year\"],\n",
    "                               training_size=universe[\"training_size\"])"
   ]
  },
  {
   "cell_type": "code",
   "execution_count": 18,
   "id": "8d3afb32-789d-442c-8d5d-9f5aa8dd2eed",
   "metadata": {
    "execution": {
     "iopub.execute_input": "2025-07-30T20:20:34.627230Z",
     "iopub.status.busy": "2025-07-30T20:20:34.626712Z",
     "iopub.status.idle": "2025-07-30T20:20:34.631918Z",
     "shell.execute_reply": "2025-07-30T20:20:34.630814Z"
    },
    "papermill": {
     "duration": 0.03092,
     "end_time": "2025-07-30T20:20:34.633846",
     "exception": false,
     "start_time": "2025-07-30T20:20:34.602926",
     "status": "completed"
    },
    "tags": []
   },
   "outputs": [],
   "source": [
    "#siab_train.shape"
   ]
  },
  {
   "cell_type": "code",
   "execution_count": 19,
   "id": "d582db68-1a4c-47fb-84fc-08518dc1975a",
   "metadata": {
    "execution": {
     "iopub.execute_input": "2025-07-30T20:20:34.681243Z",
     "iopub.status.busy": "2025-07-30T20:20:34.680734Z",
     "iopub.status.idle": "2025-07-30T20:20:34.685706Z",
     "shell.execute_reply": "2025-07-30T20:20:34.684843Z"
    },
    "papermill": {
     "duration": 0.03023,
     "end_time": "2025-07-30T20:20:34.687297",
     "exception": false,
     "start_time": "2025-07-30T20:20:34.657067",
     "status": "completed"
    },
    "tags": []
   },
   "outputs": [],
   "source": [
    "#display(siab_train.groupby(\"year\").size())"
   ]
  },
  {
   "cell_type": "code",
   "execution_count": 20,
   "id": "a561edb4-d032-42cb-8256-22eac1111c64",
   "metadata": {
    "execution": {
     "iopub.execute_input": "2025-07-30T20:20:34.733455Z",
     "iopub.status.busy": "2025-07-30T20:20:34.732969Z",
     "iopub.status.idle": "2025-07-30T20:20:35.007439Z",
     "shell.execute_reply": "2025-07-30T20:20:35.006553Z"
    },
    "papermill": {
     "duration": 0.300285,
     "end_time": "2025-07-30T20:20:35.009705",
     "exception": false,
     "start_time": "2025-07-30T20:20:34.709420",
     "status": "completed"
    },
    "tags": []
   },
   "outputs": [],
   "source": [
    "#siab_train = siab_s[siab_s.year < 2015]\n",
    "siab_calib = siab[siab.year == 2015]\n",
    "siab_test = siab[siab.year == 2016]"
   ]
  },
  {
   "cell_type": "code",
   "execution_count": 21,
   "id": "472de16f-c3db-4916-846b-1f0de9cf1746",
   "metadata": {
    "execution": {
     "iopub.execute_input": "2025-07-30T20:20:35.064966Z",
     "iopub.status.busy": "2025-07-30T20:20:35.063630Z",
     "iopub.status.idle": "2025-07-30T20:20:35.089171Z",
     "shell.execute_reply": "2025-07-30T20:20:35.087935Z"
    },
    "papermill": {
     "duration": 0.058974,
     "end_time": "2025-07-30T20:20:35.091360",
     "exception": false,
     "start_time": "2025-07-30T20:20:35.032386",
     "status": "completed"
    },
    "tags": []
   },
   "outputs": [],
   "source": [
    "X_train = siab_train.iloc[:,4:164]\n",
    "y_train = siab_train.iloc[:, [3]]"
   ]
  },
  {
   "cell_type": "code",
   "execution_count": 22,
   "id": "828c96af-f43a-4ed6-ba47-8ac73a47d56c",
   "metadata": {
    "execution": {
     "iopub.execute_input": "2025-07-30T20:20:35.143282Z",
     "iopub.status.busy": "2025-07-30T20:20:35.142742Z",
     "iopub.status.idle": "2025-07-30T20:20:35.221236Z",
     "shell.execute_reply": "2025-07-30T20:20:35.220172Z"
    },
    "papermill": {
     "duration": 0.103857,
     "end_time": "2025-07-30T20:20:35.223268",
     "exception": false,
     "start_time": "2025-07-30T20:20:35.119411",
     "status": "completed"
    },
    "tags": []
   },
   "outputs": [],
   "source": [
    "X_calib = siab_calib.iloc[:,4:164]\n",
    "y_calib = siab_calib.iloc[:, [3]]"
   ]
  },
  {
   "cell_type": "code",
   "execution_count": 23,
   "id": "c34be9c3-6bd6-476e-acd3-845840e303be",
   "metadata": {
    "execution": {
     "iopub.execute_input": "2025-07-30T20:20:35.283428Z",
     "iopub.status.busy": "2025-07-30T20:20:35.282693Z",
     "iopub.status.idle": "2025-07-30T20:20:35.337526Z",
     "shell.execute_reply": "2025-07-30T20:20:35.336505Z"
    },
    "papermill": {
     "duration": 0.078744,
     "end_time": "2025-07-30T20:20:35.339311",
     "exception": false,
     "start_time": "2025-07-30T20:20:35.260567",
     "status": "completed"
    },
    "tags": []
   },
   "outputs": [],
   "source": [
    "X_test = siab_test.iloc[:,4:164]\n",
    "y_true = siab_test.iloc[:, [3]]"
   ]
  },
  {
   "cell_type": "markdown",
   "id": "9901737e-04df-44f0-9100-f5ad144ed040",
   "metadata": {
    "papermill": {
     "duration": 0.02031,
     "end_time": "2025-07-30T20:20:35.380285",
     "exception": false,
     "start_time": "2025-07-30T20:20:35.359975",
     "status": "completed"
    },
    "tags": []
   },
   "source": [
    "# Splitting Data and Setting Training Data Size OLD VERSION"
   ]
  },
  {
   "cell_type": "code",
   "execution_count": 24,
   "id": "acbc8f7d-8fc8-4e86-8c59-5dcb0f58384b",
   "metadata": {
    "execution": {
     "iopub.execute_input": "2025-07-30T20:20:35.424502Z",
     "iopub.status.busy": "2025-07-30T20:20:35.423795Z",
     "iopub.status.idle": "2025-07-30T20:20:35.430591Z",
     "shell.execute_reply": "2025-07-30T20:20:35.429437Z"
    },
    "papermill": {
     "duration": 0.03021,
     "end_time": "2025-07-30T20:20:35.432422",
     "exception": false,
     "start_time": "2025-07-30T20:20:35.402212",
     "status": "completed"
    },
    "tags": []
   },
   "outputs": [],
   "source": [
    "#def sample_by_year(df, training_size, random_state=42):\n",
    "#    if training_size == \"2014\":\n",
    "#        return df[df[\"year\"] == 2014].reset_index(drop=True)\n",
    "#    \n",
    "#    size_map = {\n",
    "#        \"25k\": 5000,\n",
    "#        \"5k\": 1000,\n",
    "#        \"1k\": 200\n",
    "#    }\n",
    "#\n",
    "#    if training_size not in size_map:\n",
    "#        return df.reset_index(drop=True)  # use all data\n",
    "#\n",
    "#    n_per_year = size_map[training_size]\n",
    "#    grouped = df.groupby(\"year\")\n",
    "#    sampled = grouped.apply(lambda x: x.sample(n=min(n_per_year, len(x)), random_state=random_state))\n",
    "#    return sampled.reset_index(drop=True)"
   ]
  },
  {
   "cell_type": "code",
   "execution_count": 25,
   "id": "6d931f52-beaf-43ff-9e78-9d44a448d54e",
   "metadata": {
    "execution": {
     "iopub.execute_input": "2025-07-30T20:20:35.477795Z",
     "iopub.status.busy": "2025-07-30T20:20:35.477094Z",
     "iopub.status.idle": "2025-07-30T20:20:35.482294Z",
     "shell.execute_reply": "2025-07-30T20:20:35.481331Z"
    },
    "papermill": {
     "duration": 0.029228,
     "end_time": "2025-07-30T20:20:35.484013",
     "exception": false,
     "start_time": "2025-07-30T20:20:35.454785",
     "status": "completed"
    },
    "tags": []
   },
   "outputs": [],
   "source": [
    "#siab_s = sample_by_year(siab, universe[\"training_size\"])"
   ]
  },
  {
   "cell_type": "code",
   "execution_count": 26,
   "id": "5db0a40e-a4e2-4920-be85-b12ae061d70d",
   "metadata": {
    "execution": {
     "iopub.execute_input": "2025-07-30T20:20:35.527868Z",
     "iopub.status.busy": "2025-07-30T20:20:35.527032Z",
     "iopub.status.idle": "2025-07-30T20:20:35.532561Z",
     "shell.execute_reply": "2025-07-30T20:20:35.531615Z"
    },
    "papermill": {
     "duration": 0.02938,
     "end_time": "2025-07-30T20:20:35.534246",
     "exception": false,
     "start_time": "2025-07-30T20:20:35.504866",
     "status": "completed"
    },
    "tags": []
   },
   "outputs": [],
   "source": [
    "#display(siab_s.groupby(\"year\").size())"
   ]
  },
  {
   "cell_type": "code",
   "execution_count": 27,
   "id": "e6c733c5",
   "metadata": {
    "execution": {
     "iopub.execute_input": "2025-07-30T20:20:35.577508Z",
     "iopub.status.busy": "2025-07-30T20:20:35.576948Z",
     "iopub.status.idle": "2025-07-30T20:20:35.682095Z",
     "shell.execute_reply": "2025-07-30T20:20:35.681190Z"
    },
    "papermill": {
     "duration": 0.128606,
     "end_time": "2025-07-30T20:20:35.683942",
     "exception": false,
     "start_time": "2025-07-30T20:20:35.555336",
     "status": "completed"
    },
    "tags": []
   },
   "outputs": [],
   "source": [
    "# Auxiliary data needed downstream in the pipeline\n",
    "\n",
    "org_train = X_train.copy()\n",
    "org_test = X_test.copy()\n",
    "org_calib = X_calib.copy()"
   ]
  },
  {
   "cell_type": "code",
   "execution_count": 28,
   "id": "1466abac-c6da-4492-a62f-4240ae3783af",
   "metadata": {
    "execution": {
     "iopub.execute_input": "2025-07-30T20:20:35.736799Z",
     "iopub.status.busy": "2025-07-30T20:20:35.735809Z",
     "iopub.status.idle": "2025-07-30T20:20:35.743975Z",
     "shell.execute_reply": "2025-07-30T20:20:35.742602Z"
    },
    "papermill": {
     "duration": 0.036271,
     "end_time": "2025-07-30T20:20:35.746040",
     "exception": false,
     "start_time": "2025-07-30T20:20:35.709769",
     "status": "completed"
    },
    "tags": []
   },
   "outputs": [],
   "source": [
    "# put in other script?\n",
    "# Group sizes\n",
    "\n",
    "#def calculate_percentages(df, df_name):\n",
    "#    total_entries = len(df)\n",
    "#\n",
    "#    female_pct = (df['frau1'] == 1).mean() * 100\n",
    "#    non_german_pct = ((df['maxdeutsch1'] == 0) & (df['maxdeutsch.Missing.'] == 0)).mean() * 100\n",
    "#    non_german_male_pct = ((df['frau1'] == 0) & (df['maxdeutsch1'] == 0) & (df['maxdeutsch.Missing.'] == 0)).mean() * 100\n",
    "#    non_german_female_pct = ((df['frau1'] == 1) & (df['maxdeutsch1'] == 0) & (df['maxdeutsch.Missing.'] == 0)).mean() * 100\n",
    "#\n",
    "#    print(f\"--- {df_name} ---\")\n",
    "#    print(f\"Female: {female_pct:.2f}%\")\n",
    "#    print(f\"Non-German: {non_german_pct:.2f}%\")\n",
    "#    print(f\"Non-German Male: {non_german_male_pct:.2f}%\")\n",
    "#    print(f\"Non-German Female: {non_german_female_pct:.2f}%\\n\")\n",
    "#\n",
    "## Calculate for each DataFrame\n",
    "#calculate_percentages(siab_calib, \"siab_calib\")\n",
    "#calculate_percentages(siab_test, \"siab_test\")\n",
    "#calculate_percentages(siab_train, \"siab_train\")"
   ]
  },
  {
   "cell_type": "markdown",
   "id": "0a4a1b33",
   "metadata": {
    "papermill": {
     "duration": 0.020566,
     "end_time": "2025-07-30T20:20:35.792341",
     "exception": false,
     "start_time": "2025-07-30T20:20:35.771775",
     "status": "completed"
    },
    "tags": []
   },
   "source": [
    "# Preprocessing Data"
   ]
  },
  {
   "cell_type": "code",
   "execution_count": 29,
   "id": "ca879031",
   "metadata": {
    "execution": {
     "iopub.execute_input": "2025-07-30T20:20:35.835513Z",
     "iopub.status.busy": "2025-07-30T20:20:35.835163Z",
     "iopub.status.idle": "2025-07-30T20:20:35.840170Z",
     "shell.execute_reply": "2025-07-30T20:20:35.839199Z"
    },
    "papermill": {
     "duration": 0.028846,
     "end_time": "2025-07-30T20:20:35.841631",
     "exception": false,
     "start_time": "2025-07-30T20:20:35.812785",
     "status": "completed"
    },
    "tags": []
   },
   "outputs": [],
   "source": [
    "# EXCLUDE PROTECTED FEATURES\n",
    "# ----------------------\n",
    "# \"exclude_features\": \"none\", # \"nationality\", \"sex\", \"nationality-sex\"\n",
    "\n",
    "excluded_features = universe[\"exclude_features\"].split(\"-\") # split, e.g.: \"nationality-sex\" -> [\"nationality\", \"sex\"]\n",
    "excluded_features_dictionary = {\n",
    "    \"nationality\": [\"maxdeutsch1\", \"maxdeutsch.Missing.\"],\n",
    "    \"sex\": [\"frau1\"],\n",
    "    \"age\": [\"age\"],\n",
    "}\n"
   ]
  },
  {
   "cell_type": "code",
   "execution_count": 30,
   "id": "b745ac60",
   "metadata": {
    "execution": {
     "iopub.execute_input": "2025-07-30T20:20:35.870013Z",
     "iopub.status.busy": "2025-07-30T20:20:35.869659Z",
     "iopub.status.idle": "2025-07-30T20:20:35.874985Z",
     "shell.execute_reply": "2025-07-30T20:20:35.874122Z"
    },
    "papermill": {
     "duration": 0.022216,
     "end_time": "2025-07-30T20:20:35.876536",
     "exception": false,
     "start_time": "2025-07-30T20:20:35.854320",
     "status": "completed"
    },
    "tags": []
   },
   "outputs": [],
   "source": [
    "# Code nice names to column names\n",
    "\n",
    "excluded_features_columns = [\n",
    "    excluded_features_dictionary[f] for f in excluded_features if len(f) > 0 and f != \"none\"\n",
    "]"
   ]
  },
  {
   "cell_type": "code",
   "execution_count": 31,
   "id": "f84f73a2",
   "metadata": {
    "execution": {
     "iopub.execute_input": "2025-07-30T20:20:35.908763Z",
     "iopub.status.busy": "2025-07-30T20:20:35.908413Z",
     "iopub.status.idle": "2025-07-30T20:20:35.914129Z",
     "shell.execute_reply": "2025-07-30T20:20:35.913374Z"
    },
    "papermill": {
     "duration": 0.020642,
     "end_time": "2025-07-30T20:20:35.915474",
     "exception": false,
     "start_time": "2025-07-30T20:20:35.894832",
     "status": "completed"
    },
    "tags": []
   },
   "outputs": [],
   "source": [
    "from utils import flatten_once\n",
    "\n",
    "excluded_features_columns = flatten_once(excluded_features_columns)"
   ]
  },
  {
   "cell_type": "code",
   "execution_count": 32,
   "id": "884dea22",
   "metadata": {
    "execution": {
     "iopub.execute_input": "2025-07-30T20:20:35.941371Z",
     "iopub.status.busy": "2025-07-30T20:20:35.940811Z",
     "iopub.status.idle": "2025-07-30T20:20:35.948465Z",
     "shell.execute_reply": "2025-07-30T20:20:35.947360Z"
    },
    "papermill": {
     "duration": 0.022235,
     "end_time": "2025-07-30T20:20:35.950388",
     "exception": false,
     "start_time": "2025-07-30T20:20:35.928153",
     "status": "completed"
    },
    "tags": []
   },
   "outputs": [],
   "source": [
    "if len(excluded_features_columns) > 0:\n",
    "    print(f\"Dropping features: {excluded_features_columns}\")\n",
    "    X_train.drop(excluded_features_columns, axis=1, inplace=True)"
   ]
  },
  {
   "cell_type": "code",
   "execution_count": 33,
   "id": "95ab8b16",
   "metadata": {
    "execution": {
     "iopub.execute_input": "2025-07-30T20:20:35.994444Z",
     "iopub.status.busy": "2025-07-30T20:20:35.993940Z",
     "iopub.status.idle": "2025-07-30T20:20:35.999683Z",
     "shell.execute_reply": "2025-07-30T20:20:35.998745Z"
    },
    "papermill": {
     "duration": 0.029617,
     "end_time": "2025-07-30T20:20:36.001749",
     "exception": false,
     "start_time": "2025-07-30T20:20:35.972132",
     "status": "completed"
    },
    "tags": []
   },
   "outputs": [],
   "source": [
    "if len(excluded_features_columns) > 0:\n",
    "    print(f\"Dropping features: {excluded_features_columns}\")\n",
    "    X_test.drop(excluded_features_columns, axis=1, inplace=True)"
   ]
  },
  {
   "cell_type": "code",
   "execution_count": 34,
   "id": "1853aaf5-fb9f-46cb-a2b5-8ea4ae2237e4",
   "metadata": {
    "execution": {
     "iopub.execute_input": "2025-07-30T20:20:36.049403Z",
     "iopub.status.busy": "2025-07-30T20:20:36.048725Z",
     "iopub.status.idle": "2025-07-30T20:20:36.054597Z",
     "shell.execute_reply": "2025-07-30T20:20:36.053585Z"
    },
    "papermill": {
     "duration": 0.034458,
     "end_time": "2025-07-30T20:20:36.056482",
     "exception": false,
     "start_time": "2025-07-30T20:20:36.022024",
     "status": "completed"
    },
    "tags": []
   },
   "outputs": [],
   "source": [
    "if len(excluded_features_columns) > 0:\n",
    "    print(f\"Dropping features: {excluded_features_columns}\")\n",
    "    X_calib.drop(excluded_features_columns, axis=1, inplace=True)"
   ]
  },
  {
   "cell_type": "code",
   "execution_count": 35,
   "id": "6727d079-03e5-481e-9d38-292a90b7a0a8",
   "metadata": {
    "execution": {
     "iopub.execute_input": "2025-07-30T20:20:36.094709Z",
     "iopub.status.busy": "2025-07-30T20:20:36.094215Z",
     "iopub.status.idle": "2025-07-30T20:20:36.099179Z",
     "shell.execute_reply": "2025-07-30T20:20:36.098176Z"
    },
    "papermill": {
     "duration": 0.022915,
     "end_time": "2025-07-30T20:20:36.101052",
     "exception": false,
     "start_time": "2025-07-30T20:20:36.078137",
     "status": "completed"
    },
    "tags": []
   },
   "outputs": [],
   "source": [
    "# SPLIT & STRATIFY DATA\n",
    "# ----------------------"
   ]
  },
  {
   "cell_type": "code",
   "execution_count": 36,
   "id": "76c4dc6d",
   "metadata": {
    "execution": {
     "iopub.execute_input": "2025-07-30T20:20:36.134035Z",
     "iopub.status.busy": "2025-07-30T20:20:36.133641Z",
     "iopub.status.idle": "2025-07-30T20:20:36.138964Z",
     "shell.execute_reply": "2025-07-30T20:20:36.138173Z"
    },
    "papermill": {
     "duration": 0.019607,
     "end_time": "2025-07-30T20:20:36.140337",
     "exception": false,
     "start_time": "2025-07-30T20:20:36.120730",
     "status": "completed"
    },
    "tags": []
   },
   "outputs": [],
   "source": [
    "# EXCLUDE CERTAIN SUBGROUPS\n",
    "# ----------------------\n",
    "\n",
    "mode = universe.get(\"exclude_subgroups\", \"keep-all\") \n",
    "# Fetches the exclude_subgroups setting from the universe dict.\n",
    "# Defaults to \"keep-all\" if the key is missing."
   ]
  },
  {
   "cell_type": "code",
   "execution_count": 37,
   "id": "21994072",
   "metadata": {
    "execution": {
     "iopub.execute_input": "2025-07-30T20:20:36.171252Z",
     "iopub.status.busy": "2025-07-30T20:20:36.170833Z",
     "iopub.status.idle": "2025-07-30T20:20:36.177627Z",
     "shell.execute_reply": "2025-07-30T20:20:36.176878Z"
    },
    "papermill": {
     "duration": 0.02283,
     "end_time": "2025-07-30T20:20:36.178968",
     "exception": false,
     "start_time": "2025-07-30T20:20:36.156138",
     "status": "completed"
    },
    "tags": []
   },
   "outputs": [],
   "source": [
    "if mode == \"keep-all\":\n",
    "    keep_mask = pd.Series(True, index=org_train.index)\n",
    "\n",
    "# org_train contains the original feature columns from features_org (in Simson)\n",
    "# features_org contains unprocessed features, for me X_train at beginning ???\n",
    "# For keep-all, creates a boolean Series (keep_mask) of all True, so no rows are removed.\n",
    "\n",
    "elif mode == \"drop-non-german\":\n",
    "    keep_mask = org_train[\"maxdeutsch1\"] == 1 # ??? what about missing values?\n",
    "\n",
    "else:\n",
    "    raise ValueError(f\"Unsupported mode for exclude_subgroups: {mode}\")\n"
   ]
  },
  {
   "cell_type": "code",
   "execution_count": 38,
   "id": "71651440",
   "metadata": {
    "execution": {
     "iopub.execute_input": "2025-07-30T20:20:36.205966Z",
     "iopub.status.busy": "2025-07-30T20:20:36.205475Z",
     "iopub.status.idle": "2025-07-30T20:20:36.211897Z",
     "shell.execute_reply": "2025-07-30T20:20:36.211191Z"
    },
    "papermill": {
     "duration": 0.021217,
     "end_time": "2025-07-30T20:20:36.213308",
     "exception": false,
     "start_time": "2025-07-30T20:20:36.192091",
     "status": "completed"
    },
    "tags": []
   },
   "outputs": [
    {
     "name": "stdout",
     "output_type": "stream",
     "text": [
      "Dropping 3481 rows (13.92%) where mode='drop-non-german'\n"
     ]
    }
   ],
   "source": [
    "n_drop = (~keep_mask).sum() # Calculates how many rows are set to be dropped\n",
    "if n_drop > 0:\n",
    "    pct = n_drop / len(keep_mask) * 100\n",
    "    print(f\"Dropping {n_drop} rows ({pct:.2f}%) where mode='{mode}'\")"
   ]
  },
  {
   "cell_type": "code",
   "execution_count": 39,
   "id": "5fb8eee5",
   "metadata": {
    "execution": {
     "iopub.execute_input": "2025-07-30T20:20:36.243940Z",
     "iopub.status.busy": "2025-07-30T20:20:36.243384Z",
     "iopub.status.idle": "2025-07-30T20:20:36.263055Z",
     "shell.execute_reply": "2025-07-30T20:20:36.262074Z"
    },
    "papermill": {
     "duration": 0.036345,
     "end_time": "2025-07-30T20:20:36.266286",
     "exception": false,
     "start_time": "2025-07-30T20:20:36.229941",
     "status": "completed"
    },
    "tags": []
   },
   "outputs": [],
   "source": [
    "X_train = X_train[keep_mask]"
   ]
  },
  {
   "cell_type": "code",
   "execution_count": 40,
   "id": "b202bb3a",
   "metadata": {
    "execution": {
     "iopub.execute_input": "2025-07-30T20:20:36.319609Z",
     "iopub.status.busy": "2025-07-30T20:20:36.319132Z",
     "iopub.status.idle": "2025-07-30T20:20:36.326243Z",
     "shell.execute_reply": "2025-07-30T20:20:36.325206Z"
    },
    "papermill": {
     "duration": 0.034746,
     "end_time": "2025-07-30T20:20:36.328278",
     "exception": false,
     "start_time": "2025-07-30T20:20:36.293532",
     "status": "completed"
    },
    "tags": []
   },
   "outputs": [],
   "source": [
    "y_train = y_train[keep_mask]"
   ]
  },
  {
   "cell_type": "markdown",
   "id": "493e2ac3",
   "metadata": {
    "papermill": {
     "duration": 0.019973,
     "end_time": "2025-07-30T20:20:36.374588",
     "exception": false,
     "start_time": "2025-07-30T20:20:36.354615",
     "status": "completed"
    },
    "tags": []
   },
   "source": [
    "# Model Training"
   ]
  },
  {
   "cell_type": "code",
   "execution_count": 41,
   "id": "679e1268",
   "metadata": {
    "execution": {
     "iopub.execute_input": "2025-07-30T20:20:36.413373Z",
     "iopub.status.busy": "2025-07-30T20:20:36.412938Z",
     "iopub.status.idle": "2025-07-30T20:20:36.508407Z",
     "shell.execute_reply": "2025-07-30T20:20:36.507674Z"
    },
    "papermill": {
     "duration": 0.120156,
     "end_time": "2025-07-30T20:20:36.510265",
     "exception": false,
     "start_time": "2025-07-30T20:20:36.390109",
     "status": "completed"
    },
    "tags": []
   },
   "outputs": [],
   "source": [
    "from sklearn.linear_model import LogisticRegression\n",
    "from sklearn.ensemble import GradientBoostingClassifier, RandomForestClassifier\n",
    "\n",
    "if (universe[\"model\"] == \"logreg\"):\n",
    "    model = LogisticRegression() #penalty=\"none\") #, solver=\"newton-cg\", max_iter=1) # include random_state=19 ?\n",
    "elif (universe[\"model\"] == \"penalized_logreg\"):\n",
    "    model = LogisticRegression(penalty=\"l2\", C=1.0) #, solver=\"newton-cg\", max_iter=1)\n",
    "elif (universe[\"model\"] == \"rf\"):\n",
    "    model = RandomForestClassifier(n_estimators=100, n_jobs=-1)\n",
    "elif (universe[\"model\"] == \"gbm\"):\n",
    "    model = GradientBoostingClassifier()\n",
    "elif (universe[\"model\"] == \"elasticnet\"):\n",
    "    model = LogisticRegression(penalty = 'elasticnet', solver = 'saga', l1_ratio = 0.5, max_iter=5000) # which solver to use?\n",
    "else:\n",
    "    raise \"Unsupported universe.model\""
   ]
  },
  {
   "cell_type": "code",
   "execution_count": 42,
   "id": "0cc8f744",
   "metadata": {
    "execution": {
     "iopub.execute_input": "2025-07-30T20:20:36.576917Z",
     "iopub.status.busy": "2025-07-30T20:20:36.576396Z",
     "iopub.status.idle": "2025-07-30T20:20:36.583160Z",
     "shell.execute_reply": "2025-07-30T20:20:36.582029Z"
    },
    "papermill": {
     "duration": 0.034336,
     "end_time": "2025-07-30T20:20:36.584921",
     "exception": false,
     "start_time": "2025-07-30T20:20:36.550585",
     "status": "completed"
    },
    "tags": []
   },
   "outputs": [],
   "source": [
    "import numpy as np\n",
    "from sklearn.pipeline import Pipeline\n",
    "from sklearn.preprocessing import StandardScaler\n",
    "\n",
    "model = Pipeline([\n",
    "    #(\"continuous_processor\", continuous_processor),\n",
    "    #(\"categorical_preprocessor\", categorical_preprocessor),\n",
    "    (\"scale\", StandardScaler() if universe[\"scale\"] == \"scale\" else None), \n",
    "    (\"model\", model),\n",
    "])"
   ]
  },
  {
   "cell_type": "code",
   "execution_count": 43,
   "id": "9442c04d",
   "metadata": {
    "execution": {
     "iopub.execute_input": "2025-07-30T20:20:36.631685Z",
     "iopub.status.busy": "2025-07-30T20:20:36.630934Z",
     "iopub.status.idle": "2025-07-30T20:23:50.790109Z",
     "shell.execute_reply": "2025-07-30T20:23:50.789072Z"
    },
    "papermill": {
     "duration": 194.197321,
     "end_time": "2025-07-30T20:23:50.805394",
     "exception": false,
     "start_time": "2025-07-30T20:20:36.608073",
     "status": "completed"
    },
    "tags": []
   },
   "outputs": [
    {
     "data": {
      "text/html": [
       "<style>#sk-container-id-1 {color: black;background-color: white;}#sk-container-id-1 pre{padding: 0;}#sk-container-id-1 div.sk-toggleable {background-color: white;}#sk-container-id-1 label.sk-toggleable__label {cursor: pointer;display: block;width: 100%;margin-bottom: 0;padding: 0.3em;box-sizing: border-box;text-align: center;}#sk-container-id-1 label.sk-toggleable__label-arrow:before {content: \"▸\";float: left;margin-right: 0.25em;color: #696969;}#sk-container-id-1 label.sk-toggleable__label-arrow:hover:before {color: black;}#sk-container-id-1 div.sk-estimator:hover label.sk-toggleable__label-arrow:before {color: black;}#sk-container-id-1 div.sk-toggleable__content {max-height: 0;max-width: 0;overflow: hidden;text-align: left;background-color: #f0f8ff;}#sk-container-id-1 div.sk-toggleable__content pre {margin: 0.2em;color: black;border-radius: 0.25em;background-color: #f0f8ff;}#sk-container-id-1 input.sk-toggleable__control:checked~div.sk-toggleable__content {max-height: 200px;max-width: 100%;overflow: auto;}#sk-container-id-1 input.sk-toggleable__control:checked~label.sk-toggleable__label-arrow:before {content: \"▾\";}#sk-container-id-1 div.sk-estimator input.sk-toggleable__control:checked~label.sk-toggleable__label {background-color: #d4ebff;}#sk-container-id-1 div.sk-label input.sk-toggleable__control:checked~label.sk-toggleable__label {background-color: #d4ebff;}#sk-container-id-1 input.sk-hidden--visually {border: 0;clip: rect(1px 1px 1px 1px);clip: rect(1px, 1px, 1px, 1px);height: 1px;margin: -1px;overflow: hidden;padding: 0;position: absolute;width: 1px;}#sk-container-id-1 div.sk-estimator {font-family: monospace;background-color: #f0f8ff;border: 1px dotted black;border-radius: 0.25em;box-sizing: border-box;margin-bottom: 0.5em;}#sk-container-id-1 div.sk-estimator:hover {background-color: #d4ebff;}#sk-container-id-1 div.sk-parallel-item::after {content: \"\";width: 100%;border-bottom: 1px solid gray;flex-grow: 1;}#sk-container-id-1 div.sk-label:hover label.sk-toggleable__label {background-color: #d4ebff;}#sk-container-id-1 div.sk-serial::before {content: \"\";position: absolute;border-left: 1px solid gray;box-sizing: border-box;top: 0;bottom: 0;left: 50%;z-index: 0;}#sk-container-id-1 div.sk-serial {display: flex;flex-direction: column;align-items: center;background-color: white;padding-right: 0.2em;padding-left: 0.2em;position: relative;}#sk-container-id-1 div.sk-item {position: relative;z-index: 1;}#sk-container-id-1 div.sk-parallel {display: flex;align-items: stretch;justify-content: center;background-color: white;position: relative;}#sk-container-id-1 div.sk-item::before, #sk-container-id-1 div.sk-parallel-item::before {content: \"\";position: absolute;border-left: 1px solid gray;box-sizing: border-box;top: 0;bottom: 0;left: 50%;z-index: -1;}#sk-container-id-1 div.sk-parallel-item {display: flex;flex-direction: column;z-index: 1;position: relative;background-color: white;}#sk-container-id-1 div.sk-parallel-item:first-child::after {align-self: flex-end;width: 50%;}#sk-container-id-1 div.sk-parallel-item:last-child::after {align-self: flex-start;width: 50%;}#sk-container-id-1 div.sk-parallel-item:only-child::after {width: 0;}#sk-container-id-1 div.sk-dashed-wrapped {border: 1px dashed gray;margin: 0 0.4em 0.5em 0.4em;box-sizing: border-box;padding-bottom: 0.4em;background-color: white;}#sk-container-id-1 div.sk-label label {font-family: monospace;font-weight: bold;display: inline-block;line-height: 1.2em;}#sk-container-id-1 div.sk-label-container {text-align: center;}#sk-container-id-1 div.sk-container {/* jupyter's `normalize.less` sets `[hidden] { display: none; }` but bootstrap.min.css set `[hidden] { display: none !important; }` so we also need the `!important` here to be able to override the default hidden behavior on the sphinx rendered scikit-learn.org. See: https://github.com/scikit-learn/scikit-learn/issues/21755 */display: inline-block !important;position: relative;}#sk-container-id-1 div.sk-text-repr-fallback {display: none;}</style><div id=\"sk-container-id-1\" class=\"sk-top-container\"><div class=\"sk-text-repr-fallback\"><pre>Pipeline(steps=[(&#x27;scale&#x27;, None),\n",
       "                (&#x27;model&#x27;,\n",
       "                 LogisticRegression(l1_ratio=0.5, max_iter=5000,\n",
       "                                    penalty=&#x27;elasticnet&#x27;, solver=&#x27;saga&#x27;))])</pre><b>In a Jupyter environment, please rerun this cell to show the HTML representation or trust the notebook. <br />On GitHub, the HTML representation is unable to render, please try loading this page with nbviewer.org.</b></div><div class=\"sk-container\" hidden><div class=\"sk-item sk-dashed-wrapped\"><div class=\"sk-label-container\"><div class=\"sk-label sk-toggleable\"><input class=\"sk-toggleable__control sk-hidden--visually\" id=\"sk-estimator-id-1\" type=\"checkbox\" ><label for=\"sk-estimator-id-1\" class=\"sk-toggleable__label sk-toggleable__label-arrow\">Pipeline</label><div class=\"sk-toggleable__content\"><pre>Pipeline(steps=[(&#x27;scale&#x27;, None),\n",
       "                (&#x27;model&#x27;,\n",
       "                 LogisticRegression(l1_ratio=0.5, max_iter=5000,\n",
       "                                    penalty=&#x27;elasticnet&#x27;, solver=&#x27;saga&#x27;))])</pre></div></div></div><div class=\"sk-serial\"><div class=\"sk-item\"><div class=\"sk-estimator sk-toggleable\"><input class=\"sk-toggleable__control sk-hidden--visually\" id=\"sk-estimator-id-2\" type=\"checkbox\" ><label for=\"sk-estimator-id-2\" class=\"sk-toggleable__label sk-toggleable__label-arrow\">None</label><div class=\"sk-toggleable__content\"><pre>None</pre></div></div></div><div class=\"sk-item\"><div class=\"sk-estimator sk-toggleable\"><input class=\"sk-toggleable__control sk-hidden--visually\" id=\"sk-estimator-id-3\" type=\"checkbox\" ><label for=\"sk-estimator-id-3\" class=\"sk-toggleable__label sk-toggleable__label-arrow\">LogisticRegression</label><div class=\"sk-toggleable__content\"><pre>LogisticRegression(l1_ratio=0.5, max_iter=5000, penalty=&#x27;elasticnet&#x27;,\n",
       "                   solver=&#x27;saga&#x27;)</pre></div></div></div></div></div></div></div>"
      ],
      "text/plain": [
       "Pipeline(steps=[('scale', None),\n",
       "                ('model',\n",
       "                 LogisticRegression(l1_ratio=0.5, max_iter=5000,\n",
       "                                    penalty='elasticnet', solver='saga'))])"
      ]
     },
     "execution_count": 43,
     "metadata": {},
     "output_type": "execute_result"
    }
   ],
   "source": [
    "model.fit(X_train, y_train.values.ravel())"
   ]
  },
  {
   "cell_type": "code",
   "execution_count": 44,
   "id": "af59f8c0",
   "metadata": {
    "execution": {
     "iopub.execute_input": "2025-07-30T20:23:50.849915Z",
     "iopub.status.busy": "2025-07-30T20:23:50.849220Z",
     "iopub.status.idle": "2025-07-30T20:23:50.854929Z",
     "shell.execute_reply": "2025-07-30T20:23:50.854103Z"
    },
    "papermill": {
     "duration": 0.029966,
     "end_time": "2025-07-30T20:23:50.856436",
     "exception": false,
     "start_time": "2025-07-30T20:23:50.826470",
     "status": "completed"
    },
    "tags": []
   },
   "outputs": [],
   "source": [
    "from fairness_multiverse.universe import predict_w_threshold"
   ]
  },
  {
   "cell_type": "code",
   "execution_count": 45,
   "id": "a7cf2e16",
   "metadata": {
    "execution": {
     "iopub.execute_input": "2025-07-30T20:23:50.901221Z",
     "iopub.status.busy": "2025-07-30T20:23:50.900574Z",
     "iopub.status.idle": "2025-07-30T20:23:51.002516Z",
     "shell.execute_reply": "2025-07-30T20:23:51.001649Z"
    },
    "papermill": {
     "duration": 0.125818,
     "end_time": "2025-07-30T20:23:51.004132",
     "exception": false,
     "start_time": "2025-07-30T20:23:50.878314",
     "status": "completed"
    },
    "tags": []
   },
   "outputs": [
    {
     "data": {
      "text/plain": [
       "0.853650652101215"
      ]
     },
     "execution_count": 45,
     "metadata": {},
     "output_type": "execute_result"
    }
   ],
   "source": [
    "probs_test = model.predict_proba(X_test)\n",
    "\n",
    "'''\n",
    "Below code returns a boolean array (or binary 0/1 array depending on how it’s used) where each element \n",
    "is True if the probability of class 1 is greater than or equal to the threshold, and False otherwise.\n",
    "'''\n",
    "y_pred_default = predict_w_threshold(probs_test, 0.5)\n",
    "\n",
    "from sklearn.metrics import accuracy_score\n",
    "\n",
    "# Naive prediction\n",
    "accuracy_score(y_true = y_true, y_pred = y_pred_default)"
   ]
  },
  {
   "cell_type": "code",
   "execution_count": 46,
   "id": "081964c3",
   "metadata": {
    "execution": {
     "iopub.execute_input": "2025-07-30T20:23:51.049005Z",
     "iopub.status.busy": "2025-07-30T20:23:51.048190Z",
     "iopub.status.idle": "2025-07-30T20:23:51.132366Z",
     "shell.execute_reply": "2025-07-30T20:23:51.131068Z"
    },
    "papermill": {
     "duration": 0.107998,
     "end_time": "2025-07-30T20:23:51.133916",
     "exception": false,
     "start_time": "2025-07-30T20:23:51.025918",
     "status": "completed"
    },
    "tags": []
   },
   "outputs": [
    {
     "data": {
      "text/plain": [
       "array([0, 0, 0, ..., 0, 0, 0])"
      ]
     },
     "execution_count": 46,
     "metadata": {},
     "output_type": "execute_result"
    }
   ],
   "source": [
    "model.predict(X_test)"
   ]
  },
  {
   "cell_type": "markdown",
   "id": "56c9705b",
   "metadata": {
    "papermill": {
     "duration": 0.020956,
     "end_time": "2025-07-30T20:23:51.176723",
     "exception": false,
     "start_time": "2025-07-30T20:23:51.155767",
     "status": "completed"
    },
    "tags": []
   },
   "source": [
    "# Conformal Prediction"
   ]
  },
  {
   "cell_type": "code",
   "execution_count": 47,
   "id": "160ec6ff",
   "metadata": {
    "execution": {
     "iopub.execute_input": "2025-07-30T20:23:51.281666Z",
     "iopub.status.busy": "2025-07-30T20:23:51.280939Z",
     "iopub.status.idle": "2025-07-30T20:23:51.286520Z",
     "shell.execute_reply": "2025-07-30T20:23:51.285606Z"
    },
    "papermill": {
     "duration": 0.090051,
     "end_time": "2025-07-30T20:23:51.288053",
     "exception": false,
     "start_time": "2025-07-30T20:23:51.198002",
     "status": "completed"
    },
    "tags": []
   },
   "outputs": [],
   "source": [
    "# Miscoverage level for conformal prediction (10% allowed error rate => 90% target coverage)\n",
    "alpha = 0.1"
   ]
  },
  {
   "cell_type": "code",
   "execution_count": 48,
   "id": "eadf4555-3dd3-440e-8e35-f82a4ad9f855",
   "metadata": {
    "execution": {
     "iopub.execute_input": "2025-07-30T20:23:51.333893Z",
     "iopub.status.busy": "2025-07-30T20:23:51.333260Z",
     "iopub.status.idle": "2025-07-30T20:23:51.418959Z",
     "shell.execute_reply": "2025-07-30T20:23:51.418058Z"
    },
    "papermill": {
     "duration": 0.110173,
     "end_time": "2025-07-30T20:23:51.420864",
     "exception": false,
     "start_time": "2025-07-30T20:23:51.310691",
     "status": "completed"
    },
    "tags": []
   },
   "outputs": [],
   "source": [
    "probs_calib = model.predict_proba(X_calib)"
   ]
  },
  {
   "cell_type": "code",
   "execution_count": 49,
   "id": "2ed93547-6d5d-4983-9b36-1ecb300da49a",
   "metadata": {
    "execution": {
     "iopub.execute_input": "2025-07-30T20:23:51.466039Z",
     "iopub.status.busy": "2025-07-30T20:23:51.465377Z",
     "iopub.status.idle": "2025-07-30T20:23:51.470988Z",
     "shell.execute_reply": "2025-07-30T20:23:51.469972Z"
    },
    "papermill": {
     "duration": 0.029817,
     "end_time": "2025-07-30T20:23:51.472883",
     "exception": false,
     "start_time": "2025-07-30T20:23:51.443066",
     "status": "completed"
    },
    "tags": []
   },
   "outputs": [],
   "source": [
    "y_calib = y_calib.values.ravel().astype(int)"
   ]
  },
  {
   "cell_type": "code",
   "execution_count": 50,
   "id": "65d1320d-f588-4b38-9072-62af1ae97f7d",
   "metadata": {
    "execution": {
     "iopub.execute_input": "2025-07-30T20:23:51.518304Z",
     "iopub.status.busy": "2025-07-30T20:23:51.517670Z",
     "iopub.status.idle": "2025-07-30T20:23:51.525241Z",
     "shell.execute_reply": "2025-07-30T20:23:51.524377Z"
    },
    "papermill": {
     "duration": 0.031447,
     "end_time": "2025-07-30T20:23:51.526810",
     "exception": false,
     "start_time": "2025-07-30T20:23:51.495363",
     "status": "completed"
    },
    "tags": []
   },
   "outputs": [],
   "source": [
    "from fairness_multiverse.conformal import compute_nc_scores\n",
    "\n",
    "# Compute nonconformity scores on calibration set (1 - probability of true class)\n",
    "nc_scores = compute_nc_scores(probs_calib, y_calib)"
   ]
  },
  {
   "cell_type": "code",
   "execution_count": 51,
   "id": "df3b8ca3-53b7-43d5-9667-7c85da7aeda2",
   "metadata": {
    "execution": {
     "iopub.execute_input": "2025-07-30T20:23:51.572371Z",
     "iopub.status.busy": "2025-07-30T20:23:51.571693Z",
     "iopub.status.idle": "2025-07-30T20:23:51.578642Z",
     "shell.execute_reply": "2025-07-30T20:23:51.577609Z"
    },
    "papermill": {
     "duration": 0.031129,
     "end_time": "2025-07-30T20:23:51.580339",
     "exception": false,
     "start_time": "2025-07-30T20:23:51.549210",
     "status": "completed"
    },
    "tags": []
   },
   "outputs": [],
   "source": [
    "from fairness_multiverse.conformal import find_threshold\n",
    "\n",
    "# Find conformal threshold q_hat for the given alpha (split conformal method)\n",
    "q_hat = find_threshold(nc_scores, alpha)"
   ]
  },
  {
   "cell_type": "code",
   "execution_count": 52,
   "id": "4d29e6c1-0ef6-4aa4-b8fe-4fe79b0d033a",
   "metadata": {
    "execution": {
     "iopub.execute_input": "2025-07-30T20:23:51.626042Z",
     "iopub.status.busy": "2025-07-30T20:23:51.625120Z",
     "iopub.status.idle": "2025-07-30T20:23:51.632739Z",
     "shell.execute_reply": "2025-07-30T20:23:51.631733Z"
    },
    "papermill": {
     "duration": 0.031712,
     "end_time": "2025-07-30T20:23:51.634323",
     "exception": false,
     "start_time": "2025-07-30T20:23:51.602611",
     "status": "completed"
    },
    "tags": []
   },
   "outputs": [
    {
     "data": {
      "text/plain": [
       "0.6838542577215365"
      ]
     },
     "execution_count": 52,
     "metadata": {},
     "output_type": "execute_result"
    }
   ],
   "source": [
    "q_hat"
   ]
  },
  {
   "cell_type": "code",
   "execution_count": 53,
   "id": "92460794-cdac-4be2-ba28-f28c0515a6fb",
   "metadata": {
    "execution": {
     "iopub.execute_input": "2025-07-30T20:23:51.680185Z",
     "iopub.status.busy": "2025-07-30T20:23:51.679510Z",
     "iopub.status.idle": "2025-07-30T20:23:52.305096Z",
     "shell.execute_reply": "2025-07-30T20:23:52.304352Z"
    },
    "papermill": {
     "duration": 0.649925,
     "end_time": "2025-07-30T20:23:52.306853",
     "exception": false,
     "start_time": "2025-07-30T20:23:51.656928",
     "status": "completed"
    },
    "tags": []
   },
   "outputs": [],
   "source": [
    "from fairness_multiverse.conformal import predict_conformal_sets\n",
    "\n",
    "# Generate prediction sets for each test example\n",
    "pred_sets = predict_conformal_sets(model, X_test, q_hat)"
   ]
  },
  {
   "cell_type": "code",
   "execution_count": 54,
   "id": "d90c9a65-e6db-4f5d-80cd-e68fb7e46829",
   "metadata": {
    "execution": {
     "iopub.execute_input": "2025-07-30T20:23:52.355190Z",
     "iopub.status.busy": "2025-07-30T20:23:52.354332Z",
     "iopub.status.idle": "2025-07-30T20:23:52.360359Z",
     "shell.execute_reply": "2025-07-30T20:23:52.359448Z"
    },
    "papermill": {
     "duration": 0.031705,
     "end_time": "2025-07-30T20:23:52.362103",
     "exception": false,
     "start_time": "2025-07-30T20:23:52.330398",
     "status": "completed"
    },
    "tags": []
   },
   "outputs": [],
   "source": [
    "y_true = y_true.squeeze()"
   ]
  },
  {
   "cell_type": "code",
   "execution_count": 55,
   "id": "3a58a54a-1e68-46b9-927a-df01f18aebc8",
   "metadata": {
    "execution": {
     "iopub.execute_input": "2025-07-30T20:23:52.412654Z",
     "iopub.status.busy": "2025-07-30T20:23:52.411958Z",
     "iopub.status.idle": "2025-07-30T20:23:53.293608Z",
     "shell.execute_reply": "2025-07-30T20:23:53.292615Z"
    },
    "papermill": {
     "duration": 0.90676,
     "end_time": "2025-07-30T20:23:53.295032",
     "exception": false,
     "start_time": "2025-07-30T20:23:52.388272",
     "status": "completed"
    },
    "tags": []
   },
   "outputs": [],
   "source": [
    "from fairness_multiverse.conformal import evaluate_sets\n",
    "\n",
    "# Evaluate coverage and average set size on test data\n",
    "metrics = evaluate_sets(pred_sets, y_true)"
   ]
  },
  {
   "cell_type": "markdown",
   "id": "2b569c12-9aaa-4c88-98c9-bbcd0cf3ebb8",
   "metadata": {
    "papermill": {
     "duration": 0.022121,
     "end_time": "2025-07-30T20:23:53.356923",
     "exception": false,
     "start_time": "2025-07-30T20:23:53.334802",
     "status": "completed"
    },
    "tags": []
   },
   "source": [
    "# CP Metrics"
   ]
  },
  {
   "cell_type": "code",
   "execution_count": 56,
   "id": "5ce0a5cb-201f-45a0-ade5-94c7f0bd6095",
   "metadata": {
    "execution": {
     "iopub.execute_input": "2025-07-30T20:23:53.402019Z",
     "iopub.status.busy": "2025-07-30T20:23:53.401627Z",
     "iopub.status.idle": "2025-07-30T20:23:53.409084Z",
     "shell.execute_reply": "2025-07-30T20:23:53.407982Z"
    },
    "papermill": {
     "duration": 0.031922,
     "end_time": "2025-07-30T20:23:53.410582",
     "exception": false,
     "start_time": "2025-07-30T20:23:53.378660",
     "status": "completed"
    },
    "tags": []
   },
   "outputs": [
    {
     "data": {
      "text/plain": [
       "{'coverage': 0.908906476424033, 'avg_size': 1.1325827666926764}"
      ]
     },
     "execution_count": 56,
     "metadata": {},
     "output_type": "execute_result"
    }
   ],
   "source": [
    "metrics"
   ]
  },
  {
   "cell_type": "code",
   "execution_count": 57,
   "id": "9b9a838d-31c9-430b-ae14-12baee460d17",
   "metadata": {
    "execution": {
     "iopub.execute_input": "2025-07-30T20:23:53.457464Z",
     "iopub.status.busy": "2025-07-30T20:23:53.457023Z",
     "iopub.status.idle": "2025-07-30T20:23:53.463319Z",
     "shell.execute_reply": "2025-07-30T20:23:53.462269Z"
    },
    "papermill": {
     "duration": 0.030846,
     "end_time": "2025-07-30T20:23:53.465049",
     "exception": false,
     "start_time": "2025-07-30T20:23:53.434203",
     "status": "completed"
    },
    "tags": []
   },
   "outputs": [],
   "source": [
    "example_universe = universe.copy()\n",
    "universe_training_year = example_universe.get(\"training_year\")\n",
    "universe_training_size = example_universe.get(\"training_size\")\n",
    "universe_scale = example_universe.get(\"scale\")\n",
    "universe_model = example_universe.get(\"model\")\n",
    "universe_exclude_features = example_universe.get(\"exclude_features\")\n",
    "universe_exclude_subgroups = example_universe.get(\"exclude_subgroups\")"
   ]
  },
  {
   "cell_type": "code",
   "execution_count": 58,
   "id": "f4b6a8ac-9dc0-4245-8a91-5b3b5999c4f9",
   "metadata": {
    "execution": {
     "iopub.execute_input": "2025-07-30T20:23:53.514294Z",
     "iopub.status.busy": "2025-07-30T20:23:53.513760Z",
     "iopub.status.idle": "2025-07-30T20:23:53.520925Z",
     "shell.execute_reply": "2025-07-30T20:23:53.519972Z"
    },
    "papermill": {
     "duration": 0.03292,
     "end_time": "2025-07-30T20:23:53.522449",
     "exception": false,
     "start_time": "2025-07-30T20:23:53.489529",
     "status": "completed"
    },
    "tags": []
   },
   "outputs": [],
   "source": [
    "cp_metrics_dict = {\n",
    "    \"universe_id\": [universe_id],\n",
    "    \"universe_training_year\": [universe_training_year],\n",
    "    \"universe_training_size\": [universe_training_size],\n",
    "    \"universe_scale\": [universe_scale],\n",
    "    \"universe_model\": [universe_model],\n",
    "    \"universe_exclude_features\": [universe_exclude_features],\n",
    "    \"universe_exclude_subgroups\": [universe_exclude_subgroups],\n",
    "    \"q_hat\": [q_hat],\n",
    "    \"coverage\": [metrics[\"coverage\"]],\n",
    "    \"avg_size\": [metrics[\"avg_size\"]],\n",
    "}"
   ]
  },
  {
   "cell_type": "code",
   "execution_count": 59,
   "id": "908acbb1-0371-4915-85ca-3fa520d2efe2",
   "metadata": {
    "execution": {
     "iopub.execute_input": "2025-07-30T20:23:53.571149Z",
     "iopub.status.busy": "2025-07-30T20:23:53.570658Z",
     "iopub.status.idle": "2025-07-30T20:23:53.578834Z",
     "shell.execute_reply": "2025-07-30T20:23:53.577709Z"
    },
    "papermill": {
     "duration": 0.034112,
     "end_time": "2025-07-30T20:23:53.580511",
     "exception": false,
     "start_time": "2025-07-30T20:23:53.546399",
     "status": "completed"
    },
    "tags": []
   },
   "outputs": [
    {
     "data": {
      "text/plain": [
       "{'universe_id': ['6a8ff61bc4ba40f289069a0c0aaa27c7'],\n",
       " 'universe_training_year': ['2012_14'],\n",
       " 'universe_training_size': ['25k'],\n",
       " 'universe_scale': ['do-not-scale'],\n",
       " 'universe_model': ['elasticnet'],\n",
       " 'universe_exclude_features': ['none'],\n",
       " 'universe_exclude_subgroups': ['drop-non-german'],\n",
       " 'q_hat': [0.6838542577215365],\n",
       " 'coverage': [0.908906476424033],\n",
       " 'avg_size': [1.1325827666926764]}"
      ]
     },
     "execution_count": 59,
     "metadata": {},
     "output_type": "execute_result"
    }
   ],
   "source": [
    "cp_metrics_dict"
   ]
  },
  {
   "cell_type": "code",
   "execution_count": 60,
   "id": "33007efc-14e9-4ec6-97ac-56a455c82265",
   "metadata": {
    "execution": {
     "iopub.execute_input": "2025-07-30T20:23:53.628963Z",
     "iopub.status.busy": "2025-07-30T20:23:53.628453Z",
     "iopub.status.idle": "2025-07-30T20:23:53.634523Z",
     "shell.execute_reply": "2025-07-30T20:23:53.633725Z"
    },
    "papermill": {
     "duration": 0.032153,
     "end_time": "2025-07-30T20:23:53.636026",
     "exception": false,
     "start_time": "2025-07-30T20:23:53.603873",
     "status": "completed"
    },
    "tags": []
   },
   "outputs": [],
   "source": [
    "cp_metrics_df = pd.DataFrame(cp_metrics_dict)"
   ]
  },
  {
   "cell_type": "code",
   "execution_count": 61,
   "id": "db12611b-57b2-4910-b9d0-355adfd6e7bf",
   "metadata": {
    "execution": {
     "iopub.execute_input": "2025-07-30T20:23:53.685982Z",
     "iopub.status.busy": "2025-07-30T20:23:53.685339Z",
     "iopub.status.idle": "2025-07-30T20:23:53.703931Z",
     "shell.execute_reply": "2025-07-30T20:23:53.702873Z"
    },
    "papermill": {
     "duration": 0.045168,
     "end_time": "2025-07-30T20:23:53.705755",
     "exception": false,
     "start_time": "2025-07-30T20:23:53.660587",
     "status": "completed"
    },
    "tags": []
   },
   "outputs": [
    {
     "data": {
      "text/html": [
       "<div>\n",
       "<style scoped>\n",
       "    .dataframe tbody tr th:only-of-type {\n",
       "        vertical-align: middle;\n",
       "    }\n",
       "\n",
       "    .dataframe tbody tr th {\n",
       "        vertical-align: top;\n",
       "    }\n",
       "\n",
       "    .dataframe thead th {\n",
       "        text-align: right;\n",
       "    }\n",
       "</style>\n",
       "<table border=\"1\" class=\"dataframe\">\n",
       "  <thead>\n",
       "    <tr style=\"text-align: right;\">\n",
       "      <th></th>\n",
       "      <th>universe_id</th>\n",
       "      <th>universe_training_year</th>\n",
       "      <th>universe_training_size</th>\n",
       "      <th>universe_scale</th>\n",
       "      <th>universe_model</th>\n",
       "      <th>universe_exclude_features</th>\n",
       "      <th>universe_exclude_subgroups</th>\n",
       "      <th>q_hat</th>\n",
       "      <th>coverage</th>\n",
       "      <th>avg_size</th>\n",
       "    </tr>\n",
       "  </thead>\n",
       "  <tbody>\n",
       "    <tr>\n",
       "      <th>0</th>\n",
       "      <td>6a8ff61bc4ba40f289069a0c0aaa27c7</td>\n",
       "      <td>2012_14</td>\n",
       "      <td>25k</td>\n",
       "      <td>do-not-scale</td>\n",
       "      <td>elasticnet</td>\n",
       "      <td>none</td>\n",
       "      <td>drop-non-german</td>\n",
       "      <td>0.683854</td>\n",
       "      <td>0.908906</td>\n",
       "      <td>1.132583</td>\n",
       "    </tr>\n",
       "  </tbody>\n",
       "</table>\n",
       "</div>"
      ],
      "text/plain": [
       "                        universe_id universe_training_year  \\\n",
       "0  6a8ff61bc4ba40f289069a0c0aaa27c7                2012_14   \n",
       "\n",
       "  universe_training_size universe_scale universe_model  \\\n",
       "0                    25k   do-not-scale     elasticnet   \n",
       "\n",
       "  universe_exclude_features universe_exclude_subgroups     q_hat  coverage  \\\n",
       "0                      none            drop-non-german  0.683854  0.908906   \n",
       "\n",
       "   avg_size  \n",
       "0  1.132583  "
      ]
     },
     "execution_count": 61,
     "metadata": {},
     "output_type": "execute_result"
    }
   ],
   "source": [
    "cp_metrics_df"
   ]
  },
  {
   "cell_type": "code",
   "execution_count": 62,
   "id": "b7fbde55-a0a1-47e4-9af6-fe4a17fa8c61",
   "metadata": {
    "execution": {
     "iopub.execute_input": "2025-07-30T20:23:53.753811Z",
     "iopub.status.busy": "2025-07-30T20:23:53.752996Z",
     "iopub.status.idle": "2025-07-30T20:23:53.758341Z",
     "shell.execute_reply": "2025-07-30T20:23:53.757398Z"
    },
    "papermill": {
     "duration": 0.030657,
     "end_time": "2025-07-30T20:23:53.760075",
     "exception": false,
     "start_time": "2025-07-30T20:23:53.729418",
     "status": "completed"
    },
    "tags": []
   },
   "outputs": [],
   "source": [
    "# Conditional Coverage & looking at subgroups"
   ]
  },
  {
   "cell_type": "code",
   "execution_count": 63,
   "id": "027ae886-68dd-4141-96c7-805a5450e1ef",
   "metadata": {
    "execution": {
     "iopub.execute_input": "2025-07-30T20:23:53.817967Z",
     "iopub.status.busy": "2025-07-30T20:23:53.817267Z",
     "iopub.status.idle": "2025-07-30T20:23:54.068463Z",
     "shell.execute_reply": "2025-07-30T20:23:54.067691Z"
    },
    "papermill": {
     "duration": 0.280463,
     "end_time": "2025-07-30T20:23:54.070166",
     "exception": false,
     "start_time": "2025-07-30T20:23:53.789703",
     "status": "completed"
    },
    "tags": []
   },
   "outputs": [],
   "source": [
    "from fairness_multiverse.conformal import build_cp_groups\n",
    "\n",
    "cp_groups_df = build_cp_groups(pred_sets, y_true, X_test.index, org_test)\n",
    "#needs universe_id and setting"
   ]
  },
  {
   "cell_type": "code",
   "execution_count": 64,
   "id": "01d5802c-663a-4d1f-9d69-e036faaffbf7",
   "metadata": {
    "execution": {
     "iopub.execute_input": "2025-07-30T20:23:54.119119Z",
     "iopub.status.busy": "2025-07-30T20:23:54.118643Z",
     "iopub.status.idle": "2025-07-30T20:23:54.123214Z",
     "shell.execute_reply": "2025-07-30T20:23:54.122389Z"
    },
    "papermill": {
     "duration": 0.030779,
     "end_time": "2025-07-30T20:23:54.125143",
     "exception": false,
     "start_time": "2025-07-30T20:23:54.094364",
     "status": "completed"
    },
    "tags": []
   },
   "outputs": [],
   "source": [
    "#delete\n",
    "#cp_groups_df"
   ]
  },
  {
   "cell_type": "code",
   "execution_count": 65,
   "id": "fa424af1-d1eb-443d-b717-2d279ada8408",
   "metadata": {
    "execution": {
     "iopub.execute_input": "2025-07-30T20:23:54.174703Z",
     "iopub.status.busy": "2025-07-30T20:23:54.174179Z",
     "iopub.status.idle": "2025-07-30T20:23:54.179375Z",
     "shell.execute_reply": "2025-07-30T20:23:54.178546Z"
    },
    "papermill": {
     "duration": 0.032047,
     "end_time": "2025-07-30T20:23:54.181151",
     "exception": false,
     "start_time": "2025-07-30T20:23:54.149104",
     "status": "completed"
    },
    "tags": []
   },
   "outputs": [],
   "source": [
    "#delete\n",
    "#percentage = (cp_groups_df['nongerman_female'] == 1).mean() * 100\n",
    "#print(percentage)\n"
   ]
  },
  {
   "cell_type": "code",
   "execution_count": 66,
   "id": "6cbdab96-b2b2-45af-ad54-d0516db2e28d",
   "metadata": {
    "execution": {
     "iopub.execute_input": "2025-07-30T20:23:54.231419Z",
     "iopub.status.busy": "2025-07-30T20:23:54.230929Z",
     "iopub.status.idle": "2025-07-30T20:23:55.835428Z",
     "shell.execute_reply": "2025-07-30T20:23:55.834543Z"
    },
    "papermill": {
     "duration": 1.631247,
     "end_time": "2025-07-30T20:23:55.837224",
     "exception": false,
     "start_time": "2025-07-30T20:23:54.205977",
     "status": "completed"
    },
    "tags": []
   },
   "outputs": [],
   "source": [
    "# Define covered = 1 if true_label is in the predicted set\n",
    "cp_groups_df['covered'] = cp_groups_df.apply(\n",
    "    lambda r: int(r['true_label'] in r['pred_set']),\n",
    "    axis=1\n",
    ")"
   ]
  },
  {
   "cell_type": "code",
   "execution_count": 67,
   "id": "338ff529-1a6b-4b87-a931-8e4788d52aad",
   "metadata": {
    "execution": {
     "iopub.execute_input": "2025-07-30T20:23:55.885221Z",
     "iopub.status.busy": "2025-07-30T20:23:55.884742Z",
     "iopub.status.idle": "2025-07-30T20:23:55.890254Z",
     "shell.execute_reply": "2025-07-30T20:23:55.889303Z"
    },
    "papermill": {
     "duration": 0.031189,
     "end_time": "2025-07-30T20:23:55.892091",
     "exception": false,
     "start_time": "2025-07-30T20:23:55.860902",
     "status": "completed"
    },
    "tags": []
   },
   "outputs": [],
   "source": [
    "#cp_groups_df"
   ]
  },
  {
   "cell_type": "code",
   "execution_count": 68,
   "id": "90032e27-66df-4540-9169-4e89cfbaa758",
   "metadata": {
    "execution": {
     "iopub.execute_input": "2025-07-30T20:23:55.965717Z",
     "iopub.status.busy": "2025-07-30T20:23:55.965237Z",
     "iopub.status.idle": "2025-07-30T20:23:55.976822Z",
     "shell.execute_reply": "2025-07-30T20:23:55.976006Z"
    },
    "papermill": {
     "duration": 0.037346,
     "end_time": "2025-07-30T20:23:55.978325",
     "exception": false,
     "start_time": "2025-07-30T20:23:55.940979",
     "status": "completed"
    },
    "tags": []
   },
   "outputs": [],
   "source": [
    "subgroups = ['frau1','nongerman','nongerman_male','nongerman_female']\n",
    "\n",
    "# Conditional coverage for subgroup==1\n",
    "cond_coverage = {\n",
    "    g: cp_groups_df.loc[cp_groups_df[g]==1, 'covered'].mean()\n",
    "    for g in subgroups\n",
    "}"
   ]
  },
  {
   "cell_type": "code",
   "execution_count": 69,
   "id": "1e348fb1-b9c3-45bc-ba23-f016827a7e0d",
   "metadata": {
    "execution": {
     "iopub.execute_input": "2025-07-30T20:23:56.008619Z",
     "iopub.status.busy": "2025-07-30T20:23:56.008291Z",
     "iopub.status.idle": "2025-07-30T20:23:56.014457Z",
     "shell.execute_reply": "2025-07-30T20:23:56.013633Z"
    },
    "papermill": {
     "duration": 0.02221,
     "end_time": "2025-07-30T20:23:56.015831",
     "exception": false,
     "start_time": "2025-07-30T20:23:55.993621",
     "status": "completed"
    },
    "tags": []
   },
   "outputs": [
    {
     "data": {
      "text/plain": [
       "{'frau1': 0.9071033832052837,\n",
       " 'nongerman': 0.9072026048391624,\n",
       " 'nongerman_male': 0.9229937854633883,\n",
       " 'nongerman_female': 0.8810730253353204}"
      ]
     },
     "execution_count": 69,
     "metadata": {},
     "output_type": "execute_result"
    }
   ],
   "source": [
    "cond_coverage"
   ]
  },
  {
   "cell_type": "code",
   "execution_count": 70,
   "id": "f5093324-c3dd-4d63-bc4c-8d945e5c8bbb",
   "metadata": {
    "execution": {
     "iopub.execute_input": "2025-07-30T20:23:56.076491Z",
     "iopub.status.busy": "2025-07-30T20:23:56.075976Z",
     "iopub.status.idle": "2025-07-30T20:23:56.084440Z",
     "shell.execute_reply": "2025-07-30T20:23:56.083397Z"
    },
    "papermill": {
     "duration": 0.04777,
     "end_time": "2025-07-30T20:23:56.086925",
     "exception": false,
     "start_time": "2025-07-30T20:23:56.039155",
     "status": "completed"
    },
    "tags": []
   },
   "outputs": [],
   "source": [
    "for subgroup, cov in cond_coverage.items():\n",
    "    cp_metrics_df[f\"cov_{subgroup}\"] = cov"
   ]
  },
  {
   "cell_type": "code",
   "execution_count": 71,
   "id": "6e872e10-dbe5-49e8-b554-5030c98ff75d",
   "metadata": {
    "execution": {
     "iopub.execute_input": "2025-07-30T20:23:56.141057Z",
     "iopub.status.busy": "2025-07-30T20:23:56.140716Z",
     "iopub.status.idle": "2025-07-30T20:23:56.155152Z",
     "shell.execute_reply": "2025-07-30T20:23:56.154075Z"
    },
    "papermill": {
     "duration": 0.034386,
     "end_time": "2025-07-30T20:23:56.157031",
     "exception": false,
     "start_time": "2025-07-30T20:23:56.122645",
     "status": "completed"
    },
    "tags": []
   },
   "outputs": [
    {
     "data": {
      "text/html": [
       "<div>\n",
       "<style scoped>\n",
       "    .dataframe tbody tr th:only-of-type {\n",
       "        vertical-align: middle;\n",
       "    }\n",
       "\n",
       "    .dataframe tbody tr th {\n",
       "        vertical-align: top;\n",
       "    }\n",
       "\n",
       "    .dataframe thead th {\n",
       "        text-align: right;\n",
       "    }\n",
       "</style>\n",
       "<table border=\"1\" class=\"dataframe\">\n",
       "  <thead>\n",
       "    <tr style=\"text-align: right;\">\n",
       "      <th></th>\n",
       "      <th>universe_id</th>\n",
       "      <th>universe_training_year</th>\n",
       "      <th>universe_training_size</th>\n",
       "      <th>universe_scale</th>\n",
       "      <th>universe_model</th>\n",
       "      <th>universe_exclude_features</th>\n",
       "      <th>universe_exclude_subgroups</th>\n",
       "      <th>q_hat</th>\n",
       "      <th>coverage</th>\n",
       "      <th>avg_size</th>\n",
       "      <th>cov_frau1</th>\n",
       "      <th>cov_nongerman</th>\n",
       "      <th>cov_nongerman_male</th>\n",
       "      <th>cov_nongerman_female</th>\n",
       "    </tr>\n",
       "  </thead>\n",
       "  <tbody>\n",
       "    <tr>\n",
       "      <th>0</th>\n",
       "      <td>6a8ff61bc4ba40f289069a0c0aaa27c7</td>\n",
       "      <td>2012_14</td>\n",
       "      <td>25k</td>\n",
       "      <td>do-not-scale</td>\n",
       "      <td>elasticnet</td>\n",
       "      <td>none</td>\n",
       "      <td>drop-non-german</td>\n",
       "      <td>0.683854</td>\n",
       "      <td>0.908906</td>\n",
       "      <td>1.132583</td>\n",
       "      <td>0.907103</td>\n",
       "      <td>0.907203</td>\n",
       "      <td>0.922994</td>\n",
       "      <td>0.881073</td>\n",
       "    </tr>\n",
       "  </tbody>\n",
       "</table>\n",
       "</div>"
      ],
      "text/plain": [
       "                        universe_id universe_training_year  \\\n",
       "0  6a8ff61bc4ba40f289069a0c0aaa27c7                2012_14   \n",
       "\n",
       "  universe_training_size universe_scale universe_model  \\\n",
       "0                    25k   do-not-scale     elasticnet   \n",
       "\n",
       "  universe_exclude_features universe_exclude_subgroups     q_hat  coverage  \\\n",
       "0                      none            drop-non-german  0.683854  0.908906   \n",
       "\n",
       "   avg_size  cov_frau1  cov_nongerman  cov_nongerman_male  \\\n",
       "0  1.132583   0.907103       0.907203            0.922994   \n",
       "\n",
       "   cov_nongerman_female  \n",
       "0              0.881073  "
      ]
     },
     "execution_count": 71,
     "metadata": {},
     "output_type": "execute_result"
    }
   ],
   "source": [
    "cp_metrics_df"
   ]
  },
  {
   "cell_type": "markdown",
   "id": "33774451",
   "metadata": {
    "papermill": {
     "duration": 0.033909,
     "end_time": "2025-07-30T20:23:56.213854",
     "exception": false,
     "start_time": "2025-07-30T20:23:56.179945",
     "status": "completed"
    },
    "tags": []
   },
   "source": [
    "# (Fairness) Metrics"
   ]
  },
  {
   "cell_type": "code",
   "execution_count": 72,
   "id": "debc5d62",
   "metadata": {
    "execution": {
     "iopub.execute_input": "2025-07-30T20:23:56.275809Z",
     "iopub.status.busy": "2025-07-30T20:23:56.275408Z",
     "iopub.status.idle": "2025-07-30T20:23:56.297702Z",
     "shell.execute_reply": "2025-07-30T20:23:56.296872Z"
    },
    "papermill": {
     "duration": 0.049159,
     "end_time": "2025-07-30T20:23:56.299514",
     "exception": false,
     "start_time": "2025-07-30T20:23:56.250355",
     "status": "completed"
    },
    "tags": []
   },
   "outputs": [],
   "source": [
    "# do I need to include maxdeutsch1.missing?\n",
    "\n",
    "import numpy as np\n",
    "\n",
    "colname_to_bin = \"maxdeutsch1\"\n",
    "majority_value = org_train[colname_to_bin].mode()[0]\n",
    "\n",
    "org_test[\"majmin\"] = np.where(org_test[colname_to_bin] == majority_value, \"majority\", \"minority\")"
   ]
  },
  {
   "cell_type": "code",
   "execution_count": 73,
   "id": "06a50de5",
   "metadata": {
    "execution": {
     "iopub.execute_input": "2025-07-30T20:23:56.367004Z",
     "iopub.status.busy": "2025-07-30T20:23:56.366426Z",
     "iopub.status.idle": "2025-07-30T20:23:57.949324Z",
     "shell.execute_reply": "2025-07-30T20:23:57.948583Z"
    },
    "papermill": {
     "duration": 1.612909,
     "end_time": "2025-07-30T20:23:57.950702",
     "exception": false,
     "start_time": "2025-07-30T20:23:56.337793",
     "status": "completed"
    },
    "tags": []
   },
   "outputs": [],
   "source": [
    "example_universe = universe.copy()\n",
    "example_universe[\"cutoff\"] = example_universe[\"cutoff\"][0]\n",
    "example_universe[\"eval_fairness_grouping\"] = example_universe[\"eval_fairness_grouping\"][0]\n",
    "fairness_dict, metric_frame = universe_analysis.compute_metrics(\n",
    "    example_universe,\n",
    "    y_pred_prob=probs_test,\n",
    "    y_test=y_true,\n",
    "    org_test=org_test,\n",
    ")"
   ]
  },
  {
   "cell_type": "markdown",
   "id": "f95d4e02",
   "metadata": {
    "papermill": {
     "duration": 0.013086,
     "end_time": "2025-07-30T20:23:57.977739",
     "exception": false,
     "start_time": "2025-07-30T20:23:57.964653",
     "status": "completed"
    },
    "tags": []
   },
   "source": [
    "# Overall"
   ]
  },
  {
   "cell_type": "markdown",
   "id": "bdee4871",
   "metadata": {
    "papermill": {
     "duration": 0.012964,
     "end_time": "2025-07-30T20:23:58.003600",
     "exception": false,
     "start_time": "2025-07-30T20:23:57.990636",
     "status": "completed"
    },
    "tags": []
   },
   "source": [
    "Fairness\n",
    "Main fairness target: Equalized Odds. Seems to be a better fit than equal opportunity, since we're not only interested in Y = 1. Seems to be a better fit than demographic parity, since we also care about accuracy, not just equal distribution of preds.\n",
    "\n",
    "Pick column for computation of fairness metrics\n",
    "\n",
    "Performance\n",
    "Overall performance measures, most interesting in relation to the measures split by group below"
   ]
  },
  {
   "cell_type": "code",
   "execution_count": 74,
   "id": "c4e067c6",
   "metadata": {
    "execution": {
     "iopub.execute_input": "2025-07-30T20:23:58.031348Z",
     "iopub.status.busy": "2025-07-30T20:23:58.030848Z",
     "iopub.status.idle": "2025-07-30T20:23:58.038675Z",
     "shell.execute_reply": "2025-07-30T20:23:58.037827Z"
    },
    "papermill": {
     "duration": 0.02339,
     "end_time": "2025-07-30T20:23:58.040130",
     "exception": false,
     "start_time": "2025-07-30T20:23:58.016740",
     "status": "completed"
    },
    "tags": []
   },
   "outputs": [
    {
     "data": {
      "text/plain": [
       "accuracy                   0.220589\n",
       "balanced accuracy          0.540162\n",
       "f1                         0.242024\n",
       "precision                  0.138260\n",
       "false positive rate        0.889696\n",
       "false negative rate        0.029979\n",
       "selection rate             0.900000\n",
       "count                  89710.000000\n",
       "dtype: float64"
      ]
     },
     "execution_count": 74,
     "metadata": {},
     "output_type": "execute_result"
    }
   ],
   "source": [
    "metric_frame.overall"
   ]
  },
  {
   "cell_type": "markdown",
   "id": "e968fe9d",
   "metadata": {
    "papermill": {
     "duration": 0.013373,
     "end_time": "2025-07-30T20:23:58.067822",
     "exception": false,
     "start_time": "2025-07-30T20:23:58.054449",
     "status": "completed"
    },
    "tags": []
   },
   "source": [
    "By Group"
   ]
  },
  {
   "cell_type": "code",
   "execution_count": 75,
   "id": "ec325bce",
   "metadata": {
    "execution": {
     "iopub.execute_input": "2025-07-30T20:23:58.095846Z",
     "iopub.status.busy": "2025-07-30T20:23:58.095163Z",
     "iopub.status.idle": "2025-07-30T20:23:58.107138Z",
     "shell.execute_reply": "2025-07-30T20:23:58.106456Z"
    },
    "papermill": {
     "duration": 0.027549,
     "end_time": "2025-07-30T20:23:58.108581",
     "exception": false,
     "start_time": "2025-07-30T20:23:58.081032",
     "status": "completed"
    },
    "tags": []
   },
   "outputs": [
    {
     "data": {
      "text/html": [
       "<div>\n",
       "<style scoped>\n",
       "    .dataframe tbody tr th:only-of-type {\n",
       "        vertical-align: middle;\n",
       "    }\n",
       "\n",
       "    .dataframe tbody tr th {\n",
       "        vertical-align: top;\n",
       "    }\n",
       "\n",
       "    .dataframe thead th {\n",
       "        text-align: right;\n",
       "    }\n",
       "</style>\n",
       "<table border=\"1\" class=\"dataframe\">\n",
       "  <thead>\n",
       "    <tr style=\"text-align: right;\">\n",
       "      <th></th>\n",
       "      <th>accuracy</th>\n",
       "      <th>balanced accuracy</th>\n",
       "      <th>f1</th>\n",
       "      <th>precision</th>\n",
       "      <th>false positive rate</th>\n",
       "      <th>false negative rate</th>\n",
       "      <th>selection rate</th>\n",
       "      <th>count</th>\n",
       "    </tr>\n",
       "    <tr>\n",
       "      <th>majmin</th>\n",
       "      <th></th>\n",
       "      <th></th>\n",
       "      <th></th>\n",
       "      <th></th>\n",
       "      <th></th>\n",
       "      <th></th>\n",
       "      <th></th>\n",
       "      <th></th>\n",
       "    </tr>\n",
       "  </thead>\n",
       "  <tbody>\n",
       "    <tr>\n",
       "      <th>majority</th>\n",
       "      <td>0.242533</td>\n",
       "      <td>0.549364</td>\n",
       "      <td>0.252155</td>\n",
       "      <td>0.144993</td>\n",
       "      <td>0.867683</td>\n",
       "      <td>0.033589</td>\n",
       "      <td>0.880729</td>\n",
       "      <td>69170.0</td>\n",
       "    </tr>\n",
       "    <tr>\n",
       "      <th>minority</th>\n",
       "      <td>0.146689</td>\n",
       "      <td>0.510769</td>\n",
       "      <td>0.210033</td>\n",
       "      <td>0.117564</td>\n",
       "      <td>0.962415</td>\n",
       "      <td>0.016047</td>\n",
       "      <td>0.964898</td>\n",
       "      <td>20540.0</td>\n",
       "    </tr>\n",
       "  </tbody>\n",
       "</table>\n",
       "</div>"
      ],
      "text/plain": [
       "          accuracy  balanced accuracy        f1  precision  \\\n",
       "majmin                                                       \n",
       "majority  0.242533           0.549364  0.252155   0.144993   \n",
       "minority  0.146689           0.510769  0.210033   0.117564   \n",
       "\n",
       "          false positive rate  false negative rate  selection rate    count  \n",
       "majmin                                                                       \n",
       "majority             0.867683             0.033589        0.880729  69170.0  \n",
       "minority             0.962415             0.016047        0.964898  20540.0  "
      ]
     },
     "execution_count": 75,
     "metadata": {},
     "output_type": "execute_result"
    }
   ],
   "source": [
    "metric_frame.by_group"
   ]
  },
  {
   "cell_type": "code",
   "execution_count": 76,
   "id": "a9ddbe63",
   "metadata": {
    "execution": {
     "iopub.execute_input": "2025-07-30T20:23:58.138494Z",
     "iopub.status.busy": "2025-07-30T20:23:58.137859Z",
     "iopub.status.idle": "2025-07-30T20:24:00.326117Z",
     "shell.execute_reply": "2025-07-30T20:24:00.325247Z"
    },
    "papermill": {
     "duration": 2.204177,
     "end_time": "2025-07-30T20:24:00.327673",
     "exception": false,
     "start_time": "2025-07-30T20:23:58.123496",
     "status": "completed"
    },
    "tags": []
   },
   "outputs": [
    {
     "data": {
      "text/plain": [
       "array([[<Axes: title={'center': 'accuracy'}, xlabel='majmin'>,\n",
       "        <Axes: title={'center': 'balanced accuracy'}, xlabel='majmin'>,\n",
       "        <Axes: title={'center': 'f1'}, xlabel='majmin'>],\n",
       "       [<Axes: title={'center': 'precision'}, xlabel='majmin'>,\n",
       "        <Axes: title={'center': 'false positive rate'}, xlabel='majmin'>,\n",
       "        <Axes: title={'center': 'false negative rate'}, xlabel='majmin'>],\n",
       "       [<Axes: title={'center': 'selection rate'}, xlabel='majmin'>,\n",
       "        <Axes: title={'center': 'count'}, xlabel='majmin'>,\n",
       "        <Axes: xlabel='majmin'>]], dtype=object)"
      ]
     },
     "execution_count": 76,
     "metadata": {},
     "output_type": "execute_result"
    },
    {
     "data": {
      "image/png": "[encoded data removed]",
      "text/plain": [
       "<Figure size 1200x800 with 9 Axes>"
      ]
     },
     "metadata": {},
     "output_type": "display_data"
    }
   ],
   "source": [
    "# In a graphic\n",
    "metric_frame.by_group.plot.bar(\n",
    "    subplots=True,\n",
    "    layout=[3, 3],\n",
    "    legend=False,\n",
    "    figsize=[12, 8],\n",
    "    title=\"Show all metrics\",\n",
    ")"
   ]
  },
  {
   "cell_type": "markdown",
   "id": "f57a0bac",
   "metadata": {
    "papermill": {
     "duration": 0.027588,
     "end_time": "2025-07-30T20:24:00.384812",
     "exception": false,
     "start_time": "2025-07-30T20:24:00.357224",
     "status": "completed"
    },
    "tags": []
   },
   "source": [
    "# Final Output"
   ]
  },
  {
   "cell_type": "code",
   "execution_count": 77,
   "id": "96d280a3",
   "metadata": {
    "execution": {
     "iopub.execute_input": "2025-07-30T20:24:00.439528Z",
     "iopub.status.busy": "2025-07-30T20:24:00.438680Z",
     "iopub.status.idle": "2025-07-30T20:24:00.446881Z",
     "shell.execute_reply": "2025-07-30T20:24:00.446054Z"
    },
    "papermill": {
     "duration": 0.0377,
     "end_time": "2025-07-30T20:24:00.448443",
     "exception": false,
     "start_time": "2025-07-30T20:24:00.410743",
     "status": "completed"
    },
    "tags": []
   },
   "outputs": [
    {
     "data": {
      "text/plain": [
       "4"
      ]
     },
     "execution_count": 77,
     "metadata": {},
     "output_type": "execute_result"
    }
   ],
   "source": [
    "sub_universes = universe_analysis.generate_sub_universes()\n",
    "len(sub_universes)"
   ]
  },
  {
   "cell_type": "code",
   "execution_count": 78,
   "id": "92adf7ba",
   "metadata": {
    "execution": {
     "iopub.execute_input": "2025-07-30T20:24:00.503733Z",
     "iopub.status.busy": "2025-07-30T20:24:00.503103Z",
     "iopub.status.idle": "2025-07-30T20:24:00.509277Z",
     "shell.execute_reply": "2025-07-30T20:24:00.508143Z"
    },
    "papermill": {
     "duration": 0.03464,
     "end_time": "2025-07-30T20:24:00.510786",
     "exception": false,
     "start_time": "2025-07-30T20:24:00.476146",
     "status": "completed"
    },
    "tags": []
   },
   "outputs": [],
   "source": [
    "def filter_sub_universe_data(sub_universe, org_test):\n",
    "    # Keep all rows — no filtering\n",
    "    keep_rows_mask = np.ones(org_test.shape[0], dtype=bool)\n",
    "\n",
    "    print(f\"[INFO] Keeping all rows: {keep_rows_mask.sum()} rows retained.\")\n",
    "    return keep_rows_mask"
   ]
  },
  {
   "cell_type": "code",
   "execution_count": 79,
   "id": "4a759155",
   "metadata": {
    "execution": {
     "iopub.execute_input": "2025-07-30T20:24:00.567789Z",
     "iopub.status.busy": "2025-07-30T20:24:00.567156Z",
     "iopub.status.idle": "2025-07-30T20:24:08.538141Z",
     "shell.execute_reply": "2025-07-30T20:24:08.537290Z"
    },
    "papermill": {
     "duration": 8.000132,
     "end_time": "2025-07-30T20:24:08.539619",
     "exception": false,
     "start_time": "2025-07-30T20:24:00.539487",
     "status": "completed"
    },
    "tags": []
   },
   "outputs": [
    {
     "name": "stdout",
     "output_type": "stream",
     "text": [
      "Stopping execution_time clock.\n",
      "[INFO] Keeping all rows: 89710 rows retained.\n"
     ]
    },
    {
     "name": "stdout",
     "output_type": "stream",
     "text": [
      "[INFO] Keeping all rows: 89710 rows retained.\n"
     ]
    },
    {
     "name": "stdout",
     "output_type": "stream",
     "text": [
      "[INFO] Keeping all rows: 89710 rows retained.\n"
     ]
    },
    {
     "name": "stdout",
     "output_type": "stream",
     "text": [
      "[INFO] Keeping all rows: 89710 rows retained.\n"
     ]
    },
    {
     "data": {
      "text/html": [
       "<div>\n",
       "<style scoped>\n",
       "    .dataframe tbody tr th:only-of-type {\n",
       "        vertical-align: middle;\n",
       "    }\n",
       "\n",
       "    .dataframe tbody tr th {\n",
       "        vertical-align: top;\n",
       "    }\n",
       "\n",
       "    .dataframe thead th {\n",
       "        text-align: right;\n",
       "    }\n",
       "</style>\n",
       "<table border=\"1\" class=\"dataframe\">\n",
       "  <thead>\n",
       "    <tr style=\"text-align: right;\">\n",
       "      <th></th>\n",
       "      <th>run_no</th>\n",
       "      <th>universe_id</th>\n",
       "      <th>universe_settings</th>\n",
       "      <th>execution_time</th>\n",
       "      <th>test_size_n</th>\n",
       "      <th>test_size_frac</th>\n",
       "      <th>fair_main_equalized_odds_difference</th>\n",
       "      <th>fair_main_equalized_odds_ratio</th>\n",
       "      <th>fair_main_demographic_parity_difference</th>\n",
       "      <th>fair_main_demographic_parity_ratio</th>\n",
       "      <th>...</th>\n",
       "      <th>perf_grp_precision_0</th>\n",
       "      <th>perf_grp_precision_1</th>\n",
       "      <th>perf_grp_false positive rate_0</th>\n",
       "      <th>perf_grp_false positive rate_1</th>\n",
       "      <th>perf_grp_false negative rate_0</th>\n",
       "      <th>perf_grp_false negative rate_1</th>\n",
       "      <th>perf_grp_selection rate_0</th>\n",
       "      <th>perf_grp_selection rate_1</th>\n",
       "      <th>perf_grp_count_0</th>\n",
       "      <th>perf_grp_count_1</th>\n",
       "    </tr>\n",
       "  </thead>\n",
       "  <tbody>\n",
       "    <tr>\n",
       "      <th>0</th>\n",
       "      <td>14</td>\n",
       "      <td>6a8ff61bc4ba40f289069a0c0aaa27c7</td>\n",
       "      <td>{\"cutoff\": \"quantile_0.1\", \"eval_fairness_grou...</td>\n",
       "      <td>219.822098</td>\n",
       "      <td>89710</td>\n",
       "      <td>1.0</td>\n",
       "      <td>0.094732</td>\n",
       "      <td>0.901569</td>\n",
       "      <td>0.084169</td>\n",
       "      <td>0.912769</td>\n",
       "      <td>...</td>\n",
       "      <td>NaN</td>\n",
       "      <td>NaN</td>\n",
       "      <td>NaN</td>\n",
       "      <td>NaN</td>\n",
       "      <td>NaN</td>\n",
       "      <td>NaN</td>\n",
       "      <td>NaN</td>\n",
       "      <td>NaN</td>\n",
       "      <td>NaN</td>\n",
       "      <td>NaN</td>\n",
       "    </tr>\n",
       "    <tr>\n",
       "      <th>0</th>\n",
       "      <td>14</td>\n",
       "      <td>6a8ff61bc4ba40f289069a0c0aaa27c7</td>\n",
       "      <td>{\"cutoff\": \"quantile_0.1\", \"eval_fairness_grou...</td>\n",
       "      <td>219.822098</td>\n",
       "      <td>89710</td>\n",
       "      <td>1.0</td>\n",
       "      <td>0.094732</td>\n",
       "      <td>0.901569</td>\n",
       "      <td>0.084169</td>\n",
       "      <td>0.912769</td>\n",
       "      <td>...</td>\n",
       "      <td>0.117564</td>\n",
       "      <td>0.144993</td>\n",
       "      <td>0.962415</td>\n",
       "      <td>0.867683</td>\n",
       "      <td>0.016047</td>\n",
       "      <td>0.033589</td>\n",
       "      <td>0.964898</td>\n",
       "      <td>0.880729</td>\n",
       "      <td>20540.0</td>\n",
       "      <td>69170.0</td>\n",
       "    </tr>\n",
       "    <tr>\n",
       "      <th>0</th>\n",
       "      <td>14</td>\n",
       "      <td>6a8ff61bc4ba40f289069a0c0aaa27c7</td>\n",
       "      <td>{\"cutoff\": \"quantile_0.25\", \"eval_fairness_gro...</td>\n",
       "      <td>219.822098</td>\n",
       "      <td>89710</td>\n",
       "      <td>1.0</td>\n",
       "      <td>0.209219</td>\n",
       "      <td>0.764295</td>\n",
       "      <td>0.186467</td>\n",
       "      <td>0.791369</td>\n",
       "      <td>...</td>\n",
       "      <td>NaN</td>\n",
       "      <td>NaN</td>\n",
       "      <td>NaN</td>\n",
       "      <td>NaN</td>\n",
       "      <td>NaN</td>\n",
       "      <td>NaN</td>\n",
       "      <td>NaN</td>\n",
       "      <td>NaN</td>\n",
       "      <td>NaN</td>\n",
       "      <td>NaN</td>\n",
       "    </tr>\n",
       "    <tr>\n",
       "      <th>0</th>\n",
       "      <td>14</td>\n",
       "      <td>6a8ff61bc4ba40f289069a0c0aaa27c7</td>\n",
       "      <td>{\"cutoff\": \"quantile_0.25\", \"eval_fairness_gro...</td>\n",
       "      <td>219.822098</td>\n",
       "      <td>89710</td>\n",
       "      <td>1.0</td>\n",
       "      <td>0.209219</td>\n",
       "      <td>0.764295</td>\n",
       "      <td>0.186467</td>\n",
       "      <td>0.791369</td>\n",
       "      <td>...</td>\n",
       "      <td>0.121364</td>\n",
       "      <td>0.167586</td>\n",
       "      <td>0.887629</td>\n",
       "      <td>0.678411</td>\n",
       "      <td>0.059122</td>\n",
       "      <td>0.102954</td>\n",
       "      <td>0.893768</td>\n",
       "      <td>0.707301</td>\n",
       "      <td>20540.0</td>\n",
       "      <td>69170.0</td>\n",
       "    </tr>\n",
       "  </tbody>\n",
       "</table>\n",
       "<p>4 rows × 50 columns</p>\n",
       "</div>"
      ],
      "text/plain": [
       "  run_no                       universe_id  \\\n",
       "0     14  6a8ff61bc4ba40f289069a0c0aaa27c7   \n",
       "0     14  6a8ff61bc4ba40f289069a0c0aaa27c7   \n",
       "0     14  6a8ff61bc4ba40f289069a0c0aaa27c7   \n",
       "0     14  6a8ff61bc4ba40f289069a0c0aaa27c7   \n",
       "\n",
       "                                   universe_settings  execution_time  \\\n",
       "0  {\"cutoff\": \"quantile_0.1\", \"eval_fairness_grou...      219.822098   \n",
       "0  {\"cutoff\": \"quantile_0.1\", \"eval_fairness_grou...      219.822098   \n",
       "0  {\"cutoff\": \"quantile_0.25\", \"eval_fairness_gro...      219.822098   \n",
       "0  {\"cutoff\": \"quantile_0.25\", \"eval_fairness_gro...      219.822098   \n",
       "\n",
       "   test_size_n  test_size_frac  fair_main_equalized_odds_difference  \\\n",
       "0        89710             1.0                             0.094732   \n",
       "0        89710             1.0                             0.094732   \n",
       "0        89710             1.0                             0.209219   \n",
       "0        89710             1.0                             0.209219   \n",
       "\n",
       "   fair_main_equalized_odds_ratio  fair_main_demographic_parity_difference  \\\n",
       "0                        0.901569                                 0.084169   \n",
       "0                        0.901569                                 0.084169   \n",
       "0                        0.764295                                 0.186467   \n",
       "0                        0.764295                                 0.186467   \n",
       "\n",
       "   fair_main_demographic_parity_ratio  ...  perf_grp_precision_0  \\\n",
       "0                            0.912769  ...                   NaN   \n",
       "0                            0.912769  ...              0.117564   \n",
       "0                            0.791369  ...                   NaN   \n",
       "0                            0.791369  ...              0.121364   \n",
       "\n",
       "   perf_grp_precision_1  perf_grp_false positive rate_0  \\\n",
       "0                   NaN                             NaN   \n",
       "0              0.144993                        0.962415   \n",
       "0                   NaN                             NaN   \n",
       "0              0.167586                        0.887629   \n",
       "\n",
       "   perf_grp_false positive rate_1  perf_grp_false negative rate_0  \\\n",
       "0                             NaN                             NaN   \n",
       "0                        0.867683                        0.016047   \n",
       "0                             NaN                             NaN   \n",
       "0                        0.678411                        0.059122   \n",
       "\n",
       "   perf_grp_false negative rate_1  perf_grp_selection rate_0  \\\n",
       "0                             NaN                        NaN   \n",
       "0                        0.033589                   0.964898   \n",
       "0                             NaN                        NaN   \n",
       "0                        0.102954                   0.893768   \n",
       "\n",
       "   perf_grp_selection rate_1  perf_grp_count_0  perf_grp_count_1  \n",
       "0                        NaN               NaN               NaN  \n",
       "0                   0.880729           20540.0           69170.0  \n",
       "0                        NaN               NaN               NaN  \n",
       "0                   0.707301           20540.0           69170.0  \n",
       "\n",
       "[4 rows x 50 columns]"
      ]
     },
     "execution_count": 79,
     "metadata": {},
     "output_type": "execute_result"
    }
   ],
   "source": [
    "final_output = universe_analysis.generate_final_output(\n",
    "    y_pred_prob=probs_test,\n",
    "    y_test=y_true,\n",
    "    org_test=org_test,\n",
    "    filter_data=filter_sub_universe_data,\n",
    "    cp_metrics_df=cp_metrics_df,\n",
    "    save=True,\n",
    ")\n",
    "final_output"
   ]
  },
  {
   "cell_type": "code",
   "execution_count": null,
   "id": "721ff514-cb11-46f8-b6fc-50392f74b5cb",
   "metadata": {
    "papermill": {
     "duration": 0.027403,
     "end_time": "2025-07-30T20:24:08.597321",
     "exception": false,
     "start_time": "2025-07-30T20:24:08.569918",
     "status": "completed"
    },
    "tags": []
   },
   "outputs": [],
   "source": []
  }
 ],
 "metadata": {
  "celltoolbar": "Tags",
  "kernelspec": {
   "display_name": "Python (CMA Fairness)",
   "language": "python",
   "name": "cma_fair_env"
  },
  "language_info": {
   "codemirror_mode": {
    "name": "ipython",
    "version": 3
   },
   "file_extension": ".py",
   "mimetype": "text/x-python",
   "name": "python",
   "nbconvert_exporter": "python",
   "pygments_lexer": "ipython3",
   "version": "3.10.12"
  },
  "papermill": {
   "default_parameters": {},
   "duration": 232.383311,
   "end_time": "2025-07-30T20:24:09.343574",
   "environment_variables": {},
   "exception": null,
   "input_path": "universe_analysis.ipynb",
   "output_path": "output/runs/14/notebooks/m_14-6a8ff61bc4ba40f289069a0c0aaa27c7.ipynb",
   "parameters": {
    "output_dir": "output",
    "run_no": "14",
    "seed": "2023",
    "universe": "{\"cutoff\": [\"quantile_0.1\", \"quantile_0.25\"], \"eval_fairness_grouping\": [\"majority-minority\", \"nationality-all\"], \"exclude_features\": \"none\", \"exclude_subgroups\": \"drop-non-german\", \"model\": \"elasticnet\", \"scale\": \"do-not-scale\", \"training_size\": \"25k\", \"training_year\": \"2012_14\"}",
    "universe_id": "6a8ff61bc4ba40f289069a0c0aaa27c7"
   },
   "start_time": "2025-07-30T20:20:16.960263",
   "version": "2.6.0"
  }
 },
 "nbformat": 4,
 "nbformat_minor": 5
}