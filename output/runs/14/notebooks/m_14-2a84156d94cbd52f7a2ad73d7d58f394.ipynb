{
 "cells": [
  {
   "cell_type": "code",
   "execution_count": 1,
   "id": "f159f837-637b-42ba-96b5-ec9a68c44524",
   "metadata": {
    "execution": {
     "iopub.execute_input": "2025-07-30T21:05:02.069549Z",
     "iopub.status.busy": "2025-07-30T21:05:02.069062Z",
     "iopub.status.idle": "2025-07-30T21:05:02.082668Z",
     "shell.execute_reply": "2025-07-30T21:05:02.081746Z"
    },
    "papermill": {
     "duration": 0.035185,
     "end_time": "2025-07-30T21:05:02.084314",
     "exception": false,
     "start_time": "2025-07-30T21:05:02.049129",
     "status": "completed"
    },
    "tags": []
   },
   "outputs": [
    {
     "name": "stdout",
     "output_type": "stream",
     "text": [
      "/dss/dsshome1/0C/ra93lal2/cma/CMA_Fairness_v2\n"
     ]
    },
    {
     "name": "stderr",
     "output_type": "stream",
     "text": [
      "/dss/dsshome1/0C/ra93lal2/.local/share/virtualenvs/CMA_Fairness_v2-3j10GkSs/lib/python3.10/site-packages/IPython/core/magics/osm.py:393: UserWarning: This is now an optional IPython functionality, using bookmarks requires you to install the `pickleshare` library.\n",
      "  bkms = self.shell.db.get('bookmarks', {})\n",
      "/dss/dsshome1/0C/ra93lal2/.local/share/virtualenvs/CMA_Fairness_v2-3j10GkSs/lib/python3.10/site-packages/IPython/core/magics/osm.py:417: UserWarning: This is now an optional IPython functionality, setting dhist requires you to install the `pickleshare` library.\n",
      "  self.shell.db['dhist'] = compress_dhist(dhist)[-100:]\n"
     ]
    }
   ],
   "source": [
    "%cd ~/cma/CMA_Fairness_v2"
   ]
  },
  {
   "cell_type": "markdown",
   "id": "de2603b9",
   "metadata": {
    "papermill": {
     "duration": 0.019843,
     "end_time": "2025-07-30T21:05:02.123019",
     "exception": false,
     "start_time": "2025-07-30T21:05:02.103176",
     "status": "completed"
    },
    "tags": []
   },
   "source": [
    "The following cell holds the definition of our parameters, these values can be overriden by rendering the with e.g. the following command:\n",
    "\n",
    "papermill -p alpha 0.2 -p ratio 0.3 universe_analysis.ipynb output/test_run.ipynb"
   ]
  },
  {
   "cell_type": "code",
   "execution_count": 2,
   "id": "a80968a0-40bb-4fa9-85ef-2d5eefb01975",
   "metadata": {
    "execution": {
     "iopub.execute_input": "2025-07-30T21:05:02.162061Z",
     "iopub.status.busy": "2025-07-30T21:05:02.161428Z",
     "iopub.status.idle": "2025-07-30T21:05:02.166932Z",
     "shell.execute_reply": "2025-07-30T21:05:02.165895Z"
    },
    "papermill": {
     "duration": 0.026815,
     "end_time": "2025-07-30T21:05:02.168588",
     "exception": false,
     "start_time": "2025-07-30T21:05:02.141773",
     "status": "completed"
    },
    "tags": []
   },
   "outputs": [
    {
     "name": "stdout",
     "output_type": "stream",
     "text": [
      "Current working directory: /dss/dsshome1/0C/ra93lal2/cma/CMA_Fairness_v2\n"
     ]
    }
   ],
   "source": [
    "import os\n",
    "print(\"Current working directory:\", os.getcwd())"
   ]
  },
  {
   "cell_type": "code",
   "execution_count": 3,
   "id": "2dce4c03",
   "metadata": {
    "execution": {
     "iopub.execute_input": "2025-07-30T21:05:02.210955Z",
     "iopub.status.busy": "2025-07-30T21:05:02.210296Z",
     "iopub.status.idle": "2025-07-30T21:05:02.216662Z",
     "shell.execute_reply": "2025-07-30T21:05:02.215683Z"
    },
    "papermill": {
     "duration": 0.028716,
     "end_time": "2025-07-30T21:05:02.218207",
     "exception": false,
     "start_time": "2025-07-30T21:05:02.189491",
     "status": "completed"
    },
    "tags": [
     "parameters"
    ]
   },
   "outputs": [],
   "source": [
    "run_no = 0\n",
    "universe_id = \"test\"\n",
    "universe = {\n",
    "    \"training_size\": \"25k\", # \"25k\", \"5k\", \"1k\"\n",
    "    \"training_year\": \"2014\", # \"2014\", \"2012_14\", \"2010_14\"\n",
    "    \"scale\": \"scale\", # \"scale\", \"do-not-scale\",\n",
    "    #\"stratify_split\": \"target\", # \"none\", \"target\", \"protected-attribute\", \"both\",\n",
    "    \"model\": \"elasticnet\", # \"logreg\", \"penalized_logreg\", \"rf\", \"gbm\", \"elasticnet\"\n",
    "    \"cutoff\": [\"quantile_0.15\", \"quantile_0.30\"],\n",
    "    \"exclude_features\": \"age\", # \"none\", \"nationality\", \"sex\", \"nationality-sex\", \"age\"\n",
    "    \"exclude_subgroups\": \"keep-all\", # \"keep-all\", \"drop-non-german\"\n",
    "    \"eval_fairness_grouping\": [\"majority-minority\", \"nationality-all\"]\n",
    "}\n",
    "\n",
    "output_dir=\"./output\"\n",
    "seed=0"
   ]
  },
  {
   "cell_type": "code",
   "execution_count": 4,
   "id": "6a98f901",
   "metadata": {
    "execution": {
     "iopub.execute_input": "2025-07-30T21:05:02.262603Z",
     "iopub.status.busy": "2025-07-30T21:05:02.261961Z",
     "iopub.status.idle": "2025-07-30T21:05:02.267603Z",
     "shell.execute_reply": "2025-07-30T21:05:02.266436Z"
    },
    "papermill": {
     "duration": 0.030926,
     "end_time": "2025-07-30T21:05:02.269272",
     "exception": false,
     "start_time": "2025-07-30T21:05:02.238346",
     "status": "completed"
    },
    "tags": [
     "injected-parameters"
    ]
   },
   "outputs": [],
   "source": [
    "# Parameters\n",
    "universe_id = \"2a84156d94cbd52f7a2ad73d7d58f394\"\n",
    "run_no = \"14\"\n",
    "universe = \"{\\\"cutoff\\\": [\\\"quantile_0.1\\\", \\\"quantile_0.25\\\"], \\\"eval_fairness_grouping\\\": [\\\"majority-minority\\\", \\\"nationality-all\\\"], \\\"exclude_features\\\": \\\"sex\\\", \\\"exclude_subgroups\\\": \\\"drop-non-german\\\", \\\"model\\\": \\\"rf\\\", \\\"scale\\\": \\\"do-not-scale\\\", \\\"training_size\\\": \\\"5k\\\", \\\"training_year\\\": \\\"2012_14\\\"}\"\n",
    "output_dir = \"output\"\n",
    "seed = \"2023\"\n"
   ]
  },
  {
   "cell_type": "code",
   "execution_count": 5,
   "id": "1650acaf",
   "metadata": {
    "execution": {
     "iopub.execute_input": "2025-07-30T21:05:02.321345Z",
     "iopub.status.busy": "2025-07-30T21:05:02.320636Z",
     "iopub.status.idle": "2025-07-30T21:05:02.326925Z",
     "shell.execute_reply": "2025-07-30T21:05:02.325777Z"
    },
    "papermill": {
     "duration": 0.036255,
     "end_time": "2025-07-30T21:05:02.328824",
     "exception": false,
     "start_time": "2025-07-30T21:05:02.292569",
     "status": "completed"
    },
    "tags": []
   },
   "outputs": [],
   "source": [
    "import json\n",
    "# Parse universe into dict if it is passed as a string\n",
    "if isinstance(universe, str):\n",
    "    universe = json.loads(universe)"
   ]
  },
  {
   "cell_type": "code",
   "execution_count": 6,
   "id": "16620c48",
   "metadata": {
    "execution": {
     "iopub.execute_input": "2025-07-30T21:05:02.374838Z",
     "iopub.status.busy": "2025-07-30T21:05:02.374440Z",
     "iopub.status.idle": "2025-07-30T21:05:02.405105Z",
     "shell.execute_reply": "2025-07-30T21:05:02.404258Z"
    },
    "papermill": {
     "duration": 0.054889,
     "end_time": "2025-07-30T21:05:02.406649",
     "exception": false,
     "start_time": "2025-07-30T21:05:02.351760",
     "status": "completed"
    },
    "tags": []
   },
   "outputs": [],
   "source": [
    "# Auto-reload the custom package\n",
    "%load_ext autoreload\n",
    "%autoreload 1\n",
    "%aimport fairness_multiverse"
   ]
  },
  {
   "cell_type": "code",
   "execution_count": 7,
   "id": "01c5c9f3",
   "metadata": {
    "execution": {
     "iopub.execute_input": "2025-07-30T21:05:02.430535Z",
     "iopub.status.busy": "2025-07-30T21:05:02.430163Z",
     "iopub.status.idle": "2025-07-30T21:05:04.148848Z",
     "shell.execute_reply": "2025-07-30T21:05:04.147965Z"
    },
    "papermill": {
     "duration": 1.731802,
     "end_time": "2025-07-30T21:05:04.150406",
     "exception": false,
     "start_time": "2025-07-30T21:05:02.418604",
     "status": "completed"
    },
    "tags": []
   },
   "outputs": [],
   "source": [
    "from fairness_multiverse.universe import UniverseAnalysis\n",
    "\n",
    "universe_analysis = UniverseAnalysis(\n",
    "    run_no = run_no,\n",
    "    universe_id = universe_id,\n",
    "    universe = universe,\n",
    "    output_dir=output_dir,\n",
    ")"
   ]
  },
  {
   "cell_type": "code",
   "execution_count": 8,
   "id": "106241f5",
   "metadata": {
    "execution": {
     "iopub.execute_input": "2025-07-30T21:05:04.173179Z",
     "iopub.status.busy": "2025-07-30T21:05:04.172639Z",
     "iopub.status.idle": "2025-07-30T21:05:04.178431Z",
     "shell.execute_reply": "2025-07-30T21:05:04.177602Z"
    },
    "papermill": {
     "duration": 0.018301,
     "end_time": "2025-07-30T21:05:04.179682",
     "exception": false,
     "start_time": "2025-07-30T21:05:04.161381",
     "status": "completed"
    },
    "tags": []
   },
   "outputs": [
    {
     "name": "stdout",
     "output_type": "stream",
     "text": [
      "Using Seed: 2023\n"
     ]
    }
   ],
   "source": [
    "import numpy as np\n",
    "parsed_seed = int(seed)\n",
    "np.random.seed(parsed_seed)\n",
    "print(f\"Using Seed: {parsed_seed}\")"
   ]
  },
  {
   "cell_type": "markdown",
   "id": "e0ebdc57",
   "metadata": {
    "papermill": {
     "duration": 0.014856,
     "end_time": "2025-07-30T21:05:04.206802",
     "exception": false,
     "start_time": "2025-07-30T21:05:04.191946",
     "status": "completed"
    },
    "tags": []
   },
   "source": [
    "# Loading Data"
   ]
  },
  {
   "cell_type": "markdown",
   "id": "681925a3",
   "metadata": {
    "papermill": {
     "duration": 0.009969,
     "end_time": "2025-07-30T21:05:04.227224",
     "exception": false,
     "start_time": "2025-07-30T21:05:04.217255",
     "status": "completed"
    },
    "tags": []
   },
   "source": [
    "Load siab_train, siab_test, siab_calib and/or \n",
    "load siab_train_features, siab_train_labels"
   ]
  },
  {
   "cell_type": "code",
   "execution_count": 9,
   "id": "f0496b8a",
   "metadata": {
    "execution": {
     "iopub.execute_input": "2025-07-30T21:05:04.248967Z",
     "iopub.status.busy": "2025-07-30T21:05:04.248617Z",
     "iopub.status.idle": "2025-07-30T21:05:16.917240Z",
     "shell.execute_reply": "2025-07-30T21:05:16.915843Z"
    },
    "papermill": {
     "duration": 12.681861,
     "end_time": "2025-07-30T21:05:16.919086",
     "exception": false,
     "start_time": "2025-07-30T21:05:04.237225",
     "status": "completed"
    },
    "tags": []
   },
   "outputs": [
    {
     "name": "stdout",
     "output_type": "stream",
     "text": [
      "Loading SIAB data from cache: data/siab_cached.csv.gz\n"
     ]
    },
    {
     "name": "stdout",
     "output_type": "stream",
     "text": [
      "(643690, 164)\n"
     ]
    }
   ],
   "source": [
    "from pathlib import Path\n",
    "import pandas as pd\n",
    "\n",
    "# File paths\n",
    "raw_file = Path(\"data/raw/siab.csv\")\n",
    "cache_file = Path(\"data/siab_cached.csv.gz\")\n",
    "\n",
    "# Ensure cache directory exists\n",
    "cache_file.parent.mkdir(parents=True, exist_ok=True)\n",
    "\n",
    "# Load with simple caching\n",
    "if cache_file.exists():\n",
    "    print(f\"Loading SIAB data from cache: {cache_file}\")\n",
    "    siab = pd.read_csv(cache_file, compression='gzip')\n",
    "else:\n",
    "    print(f\"Cache not found. Reading raw SIAB data: {raw_file}\")\n",
    "    siab = pd.read_csv(raw_file)\n",
    "    siab.to_csv(cache_file, index=False, compression='gzip')\n",
    "    print(f\"Cached SIAB data to: {cache_file}\")\n",
    "\n",
    "# Now use `siab` DataFrame as needed\n",
    "print(siab.shape)"
   ]
  },
  {
   "cell_type": "code",
   "execution_count": 10,
   "id": "db0ca512-5f53-4dba-abdb-a2888bca41ba",
   "metadata": {
    "execution": {
     "iopub.execute_input": "2025-07-30T21:05:16.967433Z",
     "iopub.status.busy": "2025-07-30T21:05:16.966928Z",
     "iopub.status.idle": "2025-07-30T21:05:16.972931Z",
     "shell.execute_reply": "2025-07-30T21:05:16.971806Z"
    },
    "papermill": {
     "duration": 0.031054,
     "end_time": "2025-07-30T21:05:16.974601",
     "exception": false,
     "start_time": "2025-07-30T21:05:16.943547",
     "status": "completed"
    },
    "tags": []
   },
   "outputs": [],
   "source": [
    "#siab"
   ]
  },
  {
   "cell_type": "code",
   "execution_count": 11,
   "id": "a0edb063",
   "metadata": {
    "execution": {
     "iopub.execute_input": "2025-07-30T21:05:17.013331Z",
     "iopub.status.busy": "2025-07-30T21:05:17.012934Z",
     "iopub.status.idle": "2025-07-30T21:05:17.017477Z",
     "shell.execute_reply": "2025-07-30T21:05:17.016559Z"
    },
    "papermill": {
     "duration": 0.0233,
     "end_time": "2025-07-30T21:05:17.018787",
     "exception": false,
     "start_time": "2025-07-30T21:05:16.995487",
     "status": "completed"
    },
    "tags": []
   },
   "outputs": [],
   "source": [
    "#import pandas as pd\n",
    "#\n",
    "#X_train = pd.read_csv(\"./data/X_train.csv\")\n",
    "#y_train = pd.read_csv(\"./data/y_train.csv\")"
   ]
  },
  {
   "cell_type": "code",
   "execution_count": 12,
   "id": "63d08085",
   "metadata": {
    "execution": {
     "iopub.execute_input": "2025-07-30T21:05:17.049366Z",
     "iopub.status.busy": "2025-07-30T21:05:17.048867Z",
     "iopub.status.idle": "2025-07-30T21:05:17.053937Z",
     "shell.execute_reply": "2025-07-30T21:05:17.053013Z"
    },
    "papermill": {
     "duration": 0.023805,
     "end_time": "2025-07-30T21:05:17.055780",
     "exception": false,
     "start_time": "2025-07-30T21:05:17.031975",
     "status": "completed"
    },
    "tags": []
   },
   "outputs": [],
   "source": [
    "#X_test = pd.read_csv(\"./data/X_test.csv\")\n",
    "#y_true = pd.read_csv(\"./data/y_test.csv\")"
   ]
  },
  {
   "cell_type": "code",
   "execution_count": 13,
   "id": "98a8d0fa-1d3d-4ed8-bb2c-281470e24add",
   "metadata": {
    "execution": {
     "iopub.execute_input": "2025-07-30T21:05:17.105716Z",
     "iopub.status.busy": "2025-07-30T21:05:17.105056Z",
     "iopub.status.idle": "2025-07-30T21:05:17.110378Z",
     "shell.execute_reply": "2025-07-30T21:05:17.109346Z"
    },
    "papermill": {
     "duration": 0.033159,
     "end_time": "2025-07-30T21:05:17.112448",
     "exception": false,
     "start_time": "2025-07-30T21:05:17.079289",
     "status": "completed"
    },
    "tags": []
   },
   "outputs": [],
   "source": [
    "# Calibration data for conformal\n",
    "#X_calib = pd.read_csv(\"./data/X_calib.csv\")\n",
    "#y_calib = pd.read_csv(\"./data/y_calib.csv\")"
   ]
  },
  {
   "cell_type": "markdown",
   "id": "997051c5-15bd-4b69-9786-c3001a3ce484",
   "metadata": {
    "papermill": {
     "duration": 0.020252,
     "end_time": "2025-07-30T21:05:17.154160",
     "exception": false,
     "start_time": "2025-07-30T21:05:17.133908",
     "status": "completed"
    },
    "tags": []
   },
   "source": [
    "# Splitting Data and Setting Training Data Size"
   ]
  },
  {
   "cell_type": "code",
   "execution_count": 14,
   "id": "e993b61f-042d-41a6-8c81-f55681f86335",
   "metadata": {
    "execution": {
     "iopub.execute_input": "2025-07-30T21:05:17.199066Z",
     "iopub.status.busy": "2025-07-30T21:05:17.198552Z",
     "iopub.status.idle": "2025-07-30T21:05:17.212740Z",
     "shell.execute_reply": "2025-07-30T21:05:17.211652Z"
    },
    "papermill": {
     "duration": 0.039752,
     "end_time": "2025-07-30T21:05:17.214460",
     "exception": false,
     "start_time": "2025-07-30T21:05:17.174708",
     "status": "completed"
    },
    "tags": []
   },
   "outputs": [],
   "source": [
    "def sample_by_year_size(df,\n",
    "                        training_year: str,\n",
    "                        training_size: str,\n",
    "                        random_state: int = 42):\n",
    "    # --- parse training_year into a list of int years ---\n",
    "    if \"_\" in training_year:\n",
    "        start_str, end_str = training_year.split(\"_\", 1)\n",
    "        start = int(start_str)\n",
    "        end   = int(end_str) if len(end_str) == 4 else (int(end_str) + (start // 100)*100)\n",
    "        years = list(range(start, end + 1))\n",
    "    else:\n",
    "        years = [int(training_year)]\n",
    "\n",
    "    df = df[df[\"year\"].isin(years)].reset_index(drop=True)\n",
    "\n",
    "    # --- map training_size to total number of samples ---\n",
    "    total_map = {\"25k\": 25_000, \"5k\": 5_000, \"1k\": 1_000}\n",
    "    if training_size not in total_map:\n",
    "        return df  # e.g. \"all\"\n",
    "\n",
    "    total_samples = total_map[training_size]\n",
    "    n_years       = len(years)\n",
    "    base          = total_samples // n_years\n",
    "    remainder     = total_samples % n_years\n",
    "\n",
    "    # --- build a dict: year -> how many to sample ---\n",
    "    # give +1 to the first `remainder` years in ascending order\n",
    "    quotas = {\n",
    "        year: base + (1 if idx < remainder else 0)\n",
    "        for idx, year in enumerate(sorted(years))\n",
    "    }\n",
    "\n",
    "    # --- sample per‐year according to the quota dict ---\n",
    "    sampled = (\n",
    "        df\n",
    "        .groupby(\"year\", group_keys=False)\n",
    "        .apply(lambda grp: grp.sample(\n",
    "            n=min(len(grp), quotas[grp.name]),\n",
    "            random_state=random_state))\n",
    "        .reset_index(drop=True)\n",
    "    )\n",
    "\n",
    "    return sampled"
   ]
  },
  {
   "cell_type": "code",
   "execution_count": 15,
   "id": "c0ccd338-0e02-41f3-a09d-f56f9266e3fb",
   "metadata": {
    "execution": {
     "iopub.execute_input": "2025-07-30T21:05:17.269510Z",
     "iopub.status.busy": "2025-07-30T21:05:17.268940Z",
     "iopub.status.idle": "2025-07-30T21:05:17.274120Z",
     "shell.execute_reply": "2025-07-30T21:05:17.273262Z"
    },
    "papermill": {
     "duration": 0.039661,
     "end_time": "2025-07-30T21:05:17.275813",
     "exception": false,
     "start_time": "2025-07-30T21:05:17.236152",
     "status": "completed"
    },
    "tags": []
   },
   "outputs": [],
   "source": [
    "#universe[\"training_size\"]"
   ]
  },
  {
   "cell_type": "code",
   "execution_count": 16,
   "id": "ca707fd7-8047-4acd-bfa5-66248fbbf8e6",
   "metadata": {
    "execution": {
     "iopub.execute_input": "2025-07-30T21:05:17.322706Z",
     "iopub.status.busy": "2025-07-30T21:05:17.322279Z",
     "iopub.status.idle": "2025-07-30T21:05:17.327272Z",
     "shell.execute_reply": "2025-07-30T21:05:17.326325Z"
    },
    "papermill": {
     "duration": 0.030509,
     "end_time": "2025-07-30T21:05:17.329176",
     "exception": false,
     "start_time": "2025-07-30T21:05:17.298667",
     "status": "completed"
    },
    "tags": []
   },
   "outputs": [],
   "source": [
    "#universe[\"training_year\"]"
   ]
  },
  {
   "cell_type": "code",
   "execution_count": 17,
   "id": "aea9c6ef-6f46-42c8-85eb-5a62025c1508",
   "metadata": {
    "execution": {
     "iopub.execute_input": "2025-07-30T21:05:17.374759Z",
     "iopub.status.busy": "2025-07-30T21:05:17.374308Z",
     "iopub.status.idle": "2025-07-30T21:05:17.995627Z",
     "shell.execute_reply": "2025-07-30T21:05:17.994752Z"
    },
    "papermill": {
     "duration": 0.647003,
     "end_time": "2025-07-30T21:05:17.997559",
     "exception": false,
     "start_time": "2025-07-30T21:05:17.350556",
     "status": "completed"
    },
    "tags": []
   },
   "outputs": [],
   "source": [
    "siab_train = sample_by_year_size(siab,\n",
    "                               training_year=universe[\"training_year\"],\n",
    "                               training_size=universe[\"training_size\"])"
   ]
  },
  {
   "cell_type": "code",
   "execution_count": 18,
   "id": "8d3afb32-789d-442c-8d5d-9f5aa8dd2eed",
   "metadata": {
    "execution": {
     "iopub.execute_input": "2025-07-30T21:05:18.035442Z",
     "iopub.status.busy": "2025-07-30T21:05:18.035062Z",
     "iopub.status.idle": "2025-07-30T21:05:18.039762Z",
     "shell.execute_reply": "2025-07-30T21:05:18.039051Z"
    },
    "papermill": {
     "duration": 0.02084,
     "end_time": "2025-07-30T21:05:18.041690",
     "exception": false,
     "start_time": "2025-07-30T21:05:18.020850",
     "status": "completed"
    },
    "tags": []
   },
   "outputs": [],
   "source": [
    "#siab_train.shape"
   ]
  },
  {
   "cell_type": "code",
   "execution_count": 19,
   "id": "d582db68-1a4c-47fb-84fc-08518dc1975a",
   "metadata": {
    "execution": {
     "iopub.execute_input": "2025-07-30T21:05:18.084690Z",
     "iopub.status.busy": "2025-07-30T21:05:18.083624Z",
     "iopub.status.idle": "2025-07-30T21:05:18.089483Z",
     "shell.execute_reply": "2025-07-30T21:05:18.088422Z"
    },
    "papermill": {
     "duration": 0.029576,
     "end_time": "2025-07-30T21:05:18.091100",
     "exception": false,
     "start_time": "2025-07-30T21:05:18.061524",
     "status": "completed"
    },
    "tags": []
   },
   "outputs": [],
   "source": [
    "#display(siab_train.groupby(\"year\").size())"
   ]
  },
  {
   "cell_type": "code",
   "execution_count": 20,
   "id": "a561edb4-d032-42cb-8256-22eac1111c64",
   "metadata": {
    "execution": {
     "iopub.execute_input": "2025-07-30T21:05:18.138493Z",
     "iopub.status.busy": "2025-07-30T21:05:18.138142Z",
     "iopub.status.idle": "2025-07-30T21:05:18.375356Z",
     "shell.execute_reply": "2025-07-30T21:05:18.374471Z"
    },
    "papermill": {
     "duration": 0.260433,
     "end_time": "2025-07-30T21:05:18.377411",
     "exception": false,
     "start_time": "2025-07-30T21:05:18.116978",
     "status": "completed"
    },
    "tags": []
   },
   "outputs": [],
   "source": [
    "#siab_train = siab_s[siab_s.year < 2015]\n",
    "siab_calib = siab[siab.year == 2015]\n",
    "siab_test = siab[siab.year == 2016]"
   ]
  },
  {
   "cell_type": "code",
   "execution_count": 21,
   "id": "472de16f-c3db-4916-846b-1f0de9cf1746",
   "metadata": {
    "execution": {
     "iopub.execute_input": "2025-07-30T21:05:18.422247Z",
     "iopub.status.busy": "2025-07-30T21:05:18.421412Z",
     "iopub.status.idle": "2025-07-30T21:05:18.429881Z",
     "shell.execute_reply": "2025-07-30T21:05:18.429033Z"
    },
    "papermill": {
     "duration": 0.032744,
     "end_time": "2025-07-30T21:05:18.431429",
     "exception": false,
     "start_time": "2025-07-30T21:05:18.398685",
     "status": "completed"
    },
    "tags": []
   },
   "outputs": [],
   "source": [
    "X_train = siab_train.iloc[:,4:164]\n",
    "y_train = siab_train.iloc[:, [3]]"
   ]
  },
  {
   "cell_type": "code",
   "execution_count": 22,
   "id": "828c96af-f43a-4ed6-ba47-8ac73a47d56c",
   "metadata": {
    "execution": {
     "iopub.execute_input": "2025-07-30T21:05:18.477416Z",
     "iopub.status.busy": "2025-07-30T21:05:18.476958Z",
     "iopub.status.idle": "2025-07-30T21:05:18.532231Z",
     "shell.execute_reply": "2025-07-30T21:05:18.530933Z"
    },
    "papermill": {
     "duration": 0.079821,
     "end_time": "2025-07-30T21:05:18.534039",
     "exception": false,
     "start_time": "2025-07-30T21:05:18.454218",
     "status": "completed"
    },
    "tags": []
   },
   "outputs": [],
   "source": [
    "X_calib = siab_calib.iloc[:,4:164]\n",
    "y_calib = siab_calib.iloc[:, [3]]"
   ]
  },
  {
   "cell_type": "code",
   "execution_count": 23,
   "id": "c34be9c3-6bd6-476e-acd3-845840e303be",
   "metadata": {
    "execution": {
     "iopub.execute_input": "2025-07-30T21:05:18.587800Z",
     "iopub.status.busy": "2025-07-30T21:05:18.587401Z",
     "iopub.status.idle": "2025-07-30T21:05:18.643230Z",
     "shell.execute_reply": "2025-07-30T21:05:18.642099Z"
    },
    "papermill": {
     "duration": 0.079998,
     "end_time": "2025-07-30T21:05:18.645056",
     "exception": false,
     "start_time": "2025-07-30T21:05:18.565058",
     "status": "completed"
    },
    "tags": []
   },
   "outputs": [],
   "source": [
    "X_test = siab_test.iloc[:,4:164]\n",
    "y_true = siab_test.iloc[:, [3]]"
   ]
  },
  {
   "cell_type": "markdown",
   "id": "9901737e-04df-44f0-9100-f5ad144ed040",
   "metadata": {
    "papermill": {
     "duration": 0.023611,
     "end_time": "2025-07-30T21:05:18.692271",
     "exception": false,
     "start_time": "2025-07-30T21:05:18.668660",
     "status": "completed"
    },
    "tags": []
   },
   "source": [
    "# Splitting Data and Setting Training Data Size OLD VERSION"
   ]
  },
  {
   "cell_type": "code",
   "execution_count": 24,
   "id": "acbc8f7d-8fc8-4e86-8c59-5dcb0f58384b",
   "metadata": {
    "execution": {
     "iopub.execute_input": "2025-07-30T21:05:18.738543Z",
     "iopub.status.busy": "2025-07-30T21:05:18.737627Z",
     "iopub.status.idle": "2025-07-30T21:05:18.743625Z",
     "shell.execute_reply": "2025-07-30T21:05:18.742804Z"
    },
    "papermill": {
     "duration": 0.030496,
     "end_time": "2025-07-30T21:05:18.745044",
     "exception": false,
     "start_time": "2025-07-30T21:05:18.714548",
     "status": "completed"
    },
    "tags": []
   },
   "outputs": [],
   "source": [
    "#def sample_by_year(df, training_size, random_state=42):\n",
    "#    if training_size == \"2014\":\n",
    "#        return df[df[\"year\"] == 2014].reset_index(drop=True)\n",
    "#    \n",
    "#    size_map = {\n",
    "#        \"25k\": 5000,\n",
    "#        \"5k\": 1000,\n",
    "#        \"1k\": 200\n",
    "#    }\n",
    "#\n",
    "#    if training_size not in size_map:\n",
    "#        return df.reset_index(drop=True)  # use all data\n",
    "#\n",
    "#    n_per_year = size_map[training_size]\n",
    "#    grouped = df.groupby(\"year\")\n",
    "#    sampled = grouped.apply(lambda x: x.sample(n=min(n_per_year, len(x)), random_state=random_state))\n",
    "#    return sampled.reset_index(drop=True)"
   ]
  },
  {
   "cell_type": "code",
   "execution_count": 25,
   "id": "6d931f52-beaf-43ff-9e78-9d44a448d54e",
   "metadata": {
    "execution": {
     "iopub.execute_input": "2025-07-30T21:05:18.793189Z",
     "iopub.status.busy": "2025-07-30T21:05:18.792537Z",
     "iopub.status.idle": "2025-07-30T21:05:18.797423Z",
     "shell.execute_reply": "2025-07-30T21:05:18.796371Z"
    },
    "papermill": {
     "duration": 0.030442,
     "end_time": "2025-07-30T21:05:18.799259",
     "exception": false,
     "start_time": "2025-07-30T21:05:18.768817",
     "status": "completed"
    },
    "tags": []
   },
   "outputs": [],
   "source": [
    "#siab_s = sample_by_year(siab, universe[\"training_size\"])"
   ]
  },
  {
   "cell_type": "code",
   "execution_count": 26,
   "id": "5db0a40e-a4e2-4920-be85-b12ae061d70d",
   "metadata": {
    "execution": {
     "iopub.execute_input": "2025-07-30T21:05:18.845979Z",
     "iopub.status.busy": "2025-07-30T21:05:18.845209Z",
     "iopub.status.idle": "2025-07-30T21:05:18.850236Z",
     "shell.execute_reply": "2025-07-30T21:05:18.849299Z"
    },
    "papermill": {
     "duration": 0.031184,
     "end_time": "2025-07-30T21:05:18.852173",
     "exception": false,
     "start_time": "2025-07-30T21:05:18.820989",
     "status": "completed"
    },
    "tags": []
   },
   "outputs": [],
   "source": [
    "#display(siab_s.groupby(\"year\").size())"
   ]
  },
  {
   "cell_type": "code",
   "execution_count": 27,
   "id": "e6c733c5",
   "metadata": {
    "execution": {
     "iopub.execute_input": "2025-07-30T21:05:18.897492Z",
     "iopub.status.busy": "2025-07-30T21:05:18.897032Z",
     "iopub.status.idle": "2025-07-30T21:05:19.001221Z",
     "shell.execute_reply": "2025-07-30T21:05:19.000140Z"
    },
    "papermill": {
     "duration": 0.128638,
     "end_time": "2025-07-30T21:05:19.003143",
     "exception": false,
     "start_time": "2025-07-30T21:05:18.874505",
     "status": "completed"
    },
    "tags": []
   },
   "outputs": [],
   "source": [
    "# Auxiliary data needed downstream in the pipeline\n",
    "\n",
    "org_train = X_train.copy()\n",
    "org_test = X_test.copy()\n",
    "org_calib = X_calib.copy()"
   ]
  },
  {
   "cell_type": "code",
   "execution_count": 28,
   "id": "1466abac-c6da-4492-a62f-4240ae3783af",
   "metadata": {
    "execution": {
     "iopub.execute_input": "2025-07-30T21:05:19.043974Z",
     "iopub.status.busy": "2025-07-30T21:05:19.043607Z",
     "iopub.status.idle": "2025-07-30T21:05:19.049498Z",
     "shell.execute_reply": "2025-07-30T21:05:19.048529Z"
    },
    "papermill": {
     "duration": 0.026578,
     "end_time": "2025-07-30T21:05:19.052642",
     "exception": false,
     "start_time": "2025-07-30T21:05:19.026064",
     "status": "completed"
    },
    "tags": []
   },
   "outputs": [],
   "source": [
    "# put in other script?\n",
    "# Group sizes\n",
    "\n",
    "#def calculate_percentages(df, df_name):\n",
    "#    total_entries = len(df)\n",
    "#\n",
    "#    female_pct = (df['frau1'] == 1).mean() * 100\n",
    "#    non_german_pct = ((df['maxdeutsch1'] == 0) & (df['maxdeutsch.Missing.'] == 0)).mean() * 100\n",
    "#    non_german_male_pct = ((df['frau1'] == 0) & (df['maxdeutsch1'] == 0) & (df['maxdeutsch.Missing.'] == 0)).mean() * 100\n",
    "#    non_german_female_pct = ((df['frau1'] == 1) & (df['maxdeutsch1'] == 0) & (df['maxdeutsch.Missing.'] == 0)).mean() * 100\n",
    "#\n",
    "#    print(f\"--- {df_name} ---\")\n",
    "#    print(f\"Female: {female_pct:.2f}%\")\n",
    "#    print(f\"Non-German: {non_german_pct:.2f}%\")\n",
    "#    print(f\"Non-German Male: {non_german_male_pct:.2f}%\")\n",
    "#    print(f\"Non-German Female: {non_german_female_pct:.2f}%\\n\")\n",
    "#\n",
    "## Calculate for each DataFrame\n",
    "#calculate_percentages(siab_calib, \"siab_calib\")\n",
    "#calculate_percentages(siab_test, \"siab_test\")\n",
    "#calculate_percentages(siab_train, \"siab_train\")"
   ]
  },
  {
   "cell_type": "markdown",
   "id": "0a4a1b33",
   "metadata": {
    "papermill": {
     "duration": 0.021515,
     "end_time": "2025-07-30T21:05:19.091723",
     "exception": false,
     "start_time": "2025-07-30T21:05:19.070208",
     "status": "completed"
    },
    "tags": []
   },
   "source": [
    "# Preprocessing Data"
   ]
  },
  {
   "cell_type": "code",
   "execution_count": 29,
   "id": "ca879031",
   "metadata": {
    "execution": {
     "iopub.execute_input": "2025-07-30T21:05:19.141511Z",
     "iopub.status.busy": "2025-07-30T21:05:19.141075Z",
     "iopub.status.idle": "2025-07-30T21:05:19.147575Z",
     "shell.execute_reply": "2025-07-30T21:05:19.146474Z"
    },
    "papermill": {
     "duration": 0.040108,
     "end_time": "2025-07-30T21:05:19.150855",
     "exception": false,
     "start_time": "2025-07-30T21:05:19.110747",
     "status": "completed"
    },
    "tags": []
   },
   "outputs": [],
   "source": [
    "# EXCLUDE PROTECTED FEATURES\n",
    "# ----------------------\n",
    "# \"exclude_features\": \"none\", # \"nationality\", \"sex\", \"nationality-sex\"\n",
    "\n",
    "excluded_features = universe[\"exclude_features\"].split(\"-\") # split, e.g.: \"nationality-sex\" -> [\"nationality\", \"sex\"]\n",
    "excluded_features_dictionary = {\n",
    "    \"nationality\": [\"maxdeutsch1\", \"maxdeutsch.Missing.\"],\n",
    "    \"sex\": [\"frau1\"],\n",
    "    \"age\": [\"age\"],\n",
    "}\n"
   ]
  },
  {
   "cell_type": "code",
   "execution_count": 30,
   "id": "b745ac60",
   "metadata": {
    "execution": {
     "iopub.execute_input": "2025-07-30T21:05:19.200918Z",
     "iopub.status.busy": "2025-07-30T21:05:19.200469Z",
     "iopub.status.idle": "2025-07-30T21:05:19.206843Z",
     "shell.execute_reply": "2025-07-30T21:05:19.205702Z"
    },
    "papermill": {
     "duration": 0.033278,
     "end_time": "2025-07-30T21:05:19.209180",
     "exception": false,
     "start_time": "2025-07-30T21:05:19.175902",
     "status": "completed"
    },
    "tags": []
   },
   "outputs": [],
   "source": [
    "# Code nice names to column names\n",
    "\n",
    "excluded_features_columns = [\n",
    "    excluded_features_dictionary[f] for f in excluded_features if len(f) > 0 and f != \"none\"\n",
    "]"
   ]
  },
  {
   "cell_type": "code",
   "execution_count": 31,
   "id": "f84f73a2",
   "metadata": {
    "execution": {
     "iopub.execute_input": "2025-07-30T21:05:19.256597Z",
     "iopub.status.busy": "2025-07-30T21:05:19.256133Z",
     "iopub.status.idle": "2025-07-30T21:05:19.262513Z",
     "shell.execute_reply": "2025-07-30T21:05:19.261529Z"
    },
    "papermill": {
     "duration": 0.032495,
     "end_time": "2025-07-30T21:05:19.264642",
     "exception": false,
     "start_time": "2025-07-30T21:05:19.232147",
     "status": "completed"
    },
    "tags": []
   },
   "outputs": [],
   "source": [
    "from utils import flatten_once\n",
    "\n",
    "excluded_features_columns = flatten_once(excluded_features_columns)"
   ]
  },
  {
   "cell_type": "code",
   "execution_count": 32,
   "id": "884dea22",
   "metadata": {
    "execution": {
     "iopub.execute_input": "2025-07-30T21:05:19.311302Z",
     "iopub.status.busy": "2025-07-30T21:05:19.310340Z",
     "iopub.status.idle": "2025-07-30T21:05:19.321988Z",
     "shell.execute_reply": "2025-07-30T21:05:19.320860Z"
    },
    "papermill": {
     "duration": 0.038891,
     "end_time": "2025-07-30T21:05:19.326573",
     "exception": false,
     "start_time": "2025-07-30T21:05:19.287682",
     "status": "completed"
    },
    "tags": []
   },
   "outputs": [
    {
     "name": "stdout",
     "output_type": "stream",
     "text": [
      "Dropping features: ['frau1']\n"
     ]
    }
   ],
   "source": [
    "if len(excluded_features_columns) > 0:\n",
    "    print(f\"Dropping features: {excluded_features_columns}\")\n",
    "    X_train.drop(excluded_features_columns, axis=1, inplace=True)"
   ]
  },
  {
   "cell_type": "code",
   "execution_count": 33,
   "id": "95ab8b16",
   "metadata": {
    "execution": {
     "iopub.execute_input": "2025-07-30T21:05:19.376834Z",
     "iopub.status.busy": "2025-07-30T21:05:19.376404Z",
     "iopub.status.idle": "2025-07-30T21:05:19.434317Z",
     "shell.execute_reply": "2025-07-30T21:05:19.433206Z"
    },
    "papermill": {
     "duration": 0.086242,
     "end_time": "2025-07-30T21:05:19.436386",
     "exception": false,
     "start_time": "2025-07-30T21:05:19.350144",
     "status": "completed"
    },
    "tags": []
   },
   "outputs": [
    {
     "name": "stdout",
     "output_type": "stream",
     "text": [
      "Dropping features: ['frau1']\n"
     ]
    }
   ],
   "source": [
    "if len(excluded_features_columns) > 0:\n",
    "    print(f\"Dropping features: {excluded_features_columns}\")\n",
    "    X_test.drop(excluded_features_columns, axis=1, inplace=True)"
   ]
  },
  {
   "cell_type": "code",
   "execution_count": 34,
   "id": "1853aaf5-fb9f-46cb-a2b5-8ea4ae2237e4",
   "metadata": {
    "execution": {
     "iopub.execute_input": "2025-07-30T21:05:19.485618Z",
     "iopub.status.busy": "2025-07-30T21:05:19.485197Z",
     "iopub.status.idle": "2025-07-30T21:05:19.546140Z",
     "shell.execute_reply": "2025-07-30T21:05:19.545079Z"
    },
    "papermill": {
     "duration": 0.087605,
     "end_time": "2025-07-30T21:05:19.547785",
     "exception": false,
     "start_time": "2025-07-30T21:05:19.460180",
     "status": "completed"
    },
    "tags": []
   },
   "outputs": [
    {
     "name": "stdout",
     "output_type": "stream",
     "text": [
      "Dropping features: ['frau1']\n"
     ]
    }
   ],
   "source": [
    "if len(excluded_features_columns) > 0:\n",
    "    print(f\"Dropping features: {excluded_features_columns}\")\n",
    "    X_calib.drop(excluded_features_columns, axis=1, inplace=True)"
   ]
  },
  {
   "cell_type": "code",
   "execution_count": 35,
   "id": "6727d079-03e5-481e-9d38-292a90b7a0a8",
   "metadata": {
    "execution": {
     "iopub.execute_input": "2025-07-30T21:05:19.601513Z",
     "iopub.status.busy": "2025-07-30T21:05:19.600294Z",
     "iopub.status.idle": "2025-07-30T21:05:19.607658Z",
     "shell.execute_reply": "2025-07-30T21:05:19.606440Z"
    },
    "papermill": {
     "duration": 0.040257,
     "end_time": "2025-07-30T21:05:19.613306",
     "exception": false,
     "start_time": "2025-07-30T21:05:19.573049",
     "status": "completed"
    },
    "tags": []
   },
   "outputs": [],
   "source": [
    "# SPLIT & STRATIFY DATA\n",
    "# ----------------------"
   ]
  },
  {
   "cell_type": "code",
   "execution_count": 36,
   "id": "76c4dc6d",
   "metadata": {
    "execution": {
     "iopub.execute_input": "2025-07-30T21:05:19.661688Z",
     "iopub.status.busy": "2025-07-30T21:05:19.661298Z",
     "iopub.status.idle": "2025-07-30T21:05:19.667305Z",
     "shell.execute_reply": "2025-07-30T21:05:19.666111Z"
    },
    "papermill": {
     "duration": 0.03267,
     "end_time": "2025-07-30T21:05:19.669614",
     "exception": false,
     "start_time": "2025-07-30T21:05:19.636944",
     "status": "completed"
    },
    "tags": []
   },
   "outputs": [],
   "source": [
    "# EXCLUDE CERTAIN SUBGROUPS\n",
    "# ----------------------\n",
    "\n",
    "mode = universe.get(\"exclude_subgroups\", \"keep-all\") \n",
    "# Fetches the exclude_subgroups setting from the universe dict.\n",
    "# Defaults to \"keep-all\" if the key is missing."
   ]
  },
  {
   "cell_type": "code",
   "execution_count": 37,
   "id": "21994072",
   "metadata": {
    "execution": {
     "iopub.execute_input": "2025-07-30T21:05:19.720137Z",
     "iopub.status.busy": "2025-07-30T21:05:19.719595Z",
     "iopub.status.idle": "2025-07-30T21:05:19.728583Z",
     "shell.execute_reply": "2025-07-30T21:05:19.727279Z"
    },
    "papermill": {
     "duration": 0.036178,
     "end_time": "2025-07-30T21:05:19.730560",
     "exception": false,
     "start_time": "2025-07-30T21:05:19.694382",
     "status": "completed"
    },
    "tags": []
   },
   "outputs": [],
   "source": [
    "if mode == \"keep-all\":\n",
    "    keep_mask = pd.Series(True, index=org_train.index)\n",
    "\n",
    "# org_train contains the original feature columns from features_org (in Simson)\n",
    "# features_org contains unprocessed features, for me X_train at beginning ???\n",
    "# For keep-all, creates a boolean Series (keep_mask) of all True, so no rows are removed.\n",
    "\n",
    "elif mode == \"drop-non-german\":\n",
    "    keep_mask = org_train[\"maxdeutsch1\"] == 1 # ??? what about missing values?\n",
    "\n",
    "else:\n",
    "    raise ValueError(f\"Unsupported mode for exclude_subgroups: {mode}\")\n"
   ]
  },
  {
   "cell_type": "code",
   "execution_count": 38,
   "id": "71651440",
   "metadata": {
    "execution": {
     "iopub.execute_input": "2025-07-30T21:05:19.779923Z",
     "iopub.status.busy": "2025-07-30T21:05:19.779402Z",
     "iopub.status.idle": "2025-07-30T21:05:19.787200Z",
     "shell.execute_reply": "2025-07-30T21:05:19.786185Z"
    },
    "papermill": {
     "duration": 0.035836,
     "end_time": "2025-07-30T21:05:19.789061",
     "exception": false,
     "start_time": "2025-07-30T21:05:19.753225",
     "status": "completed"
    },
    "tags": []
   },
   "outputs": [
    {
     "name": "stdout",
     "output_type": "stream",
     "text": [
      "Dropping 665 rows (13.30%) where mode='drop-non-german'\n"
     ]
    }
   ],
   "source": [
    "n_drop = (~keep_mask).sum() # Calculates how many rows are set to be dropped\n",
    "if n_drop > 0:\n",
    "    pct = n_drop / len(keep_mask) * 100\n",
    "    print(f\"Dropping {n_drop} rows ({pct:.2f}%) where mode='{mode}'\")"
   ]
  },
  {
   "cell_type": "code",
   "execution_count": 39,
   "id": "5fb8eee5",
   "metadata": {
    "execution": {
     "iopub.execute_input": "2025-07-30T21:05:19.837478Z",
     "iopub.status.busy": "2025-07-30T21:05:19.836938Z",
     "iopub.status.idle": "2025-07-30T21:05:19.844647Z",
     "shell.execute_reply": "2025-07-30T21:05:19.843572Z"
    },
    "papermill": {
     "duration": 0.032221,
     "end_time": "2025-07-30T21:05:19.846457",
     "exception": false,
     "start_time": "2025-07-30T21:05:19.814236",
     "status": "completed"
    },
    "tags": []
   },
   "outputs": [],
   "source": [
    "X_train = X_train[keep_mask]"
   ]
  },
  {
   "cell_type": "code",
   "execution_count": 40,
   "id": "b202bb3a",
   "metadata": {
    "execution": {
     "iopub.execute_input": "2025-07-30T21:05:19.889364Z",
     "iopub.status.busy": "2025-07-30T21:05:19.888935Z",
     "iopub.status.idle": "2025-07-30T21:05:19.894982Z",
     "shell.execute_reply": "2025-07-30T21:05:19.894225Z"
    },
    "papermill": {
     "duration": 0.02544,
     "end_time": "2025-07-30T21:05:19.896378",
     "exception": false,
     "start_time": "2025-07-30T21:05:19.870938",
     "status": "completed"
    },
    "tags": []
   },
   "outputs": [],
   "source": [
    "y_train = y_train[keep_mask]"
   ]
  },
  {
   "cell_type": "markdown",
   "id": "493e2ac3",
   "metadata": {
    "papermill": {
     "duration": 0.014026,
     "end_time": "2025-07-30T21:05:19.922855",
     "exception": false,
     "start_time": "2025-07-30T21:05:19.908829",
     "status": "completed"
    },
    "tags": []
   },
   "source": [
    "# Model Training"
   ]
  },
  {
   "cell_type": "code",
   "execution_count": 41,
   "id": "679e1268",
   "metadata": {
    "execution": {
     "iopub.execute_input": "2025-07-30T21:05:19.948018Z",
     "iopub.status.busy": "2025-07-30T21:05:19.947668Z",
     "iopub.status.idle": "2025-07-30T21:05:20.132960Z",
     "shell.execute_reply": "2025-07-30T21:05:20.115059Z"
    },
    "papermill": {
     "duration": 0.200088,
     "end_time": "2025-07-30T21:05:20.134813",
     "exception": false,
     "start_time": "2025-07-30T21:05:19.934725",
     "status": "completed"
    },
    "tags": []
   },
   "outputs": [],
   "source": [
    "from sklearn.linear_model import LogisticRegression\n",
    "from sklearn.ensemble import GradientBoostingClassifier, RandomForestClassifier\n",
    "\n",
    "if (universe[\"model\"] == \"logreg\"):\n",
    "    model = LogisticRegression() #penalty=\"none\") #, solver=\"newton-cg\", max_iter=1) # include random_state=19 ?\n",
    "elif (universe[\"model\"] == \"penalized_logreg\"):\n",
    "    model = LogisticRegression(penalty=\"l2\", C=1.0) #, solver=\"newton-cg\", max_iter=1)\n",
    "elif (universe[\"model\"] == \"rf\"):\n",
    "    model = RandomForestClassifier(n_estimators=100, n_jobs=-1)\n",
    "elif (universe[\"model\"] == \"gbm\"):\n",
    "    model = GradientBoostingClassifier()\n",
    "elif (universe[\"model\"] == \"elasticnet\"):\n",
    "    model = LogisticRegression(penalty = 'elasticnet', solver = 'saga', l1_ratio = 0.5, max_iter=5000) # which solver to use?\n",
    "else:\n",
    "    raise \"Unsupported universe.model\""
   ]
  },
  {
   "cell_type": "code",
   "execution_count": 42,
   "id": "0cc8f744",
   "metadata": {
    "execution": {
     "iopub.execute_input": "2025-07-30T21:05:20.223436Z",
     "iopub.status.busy": "2025-07-30T21:05:20.222432Z",
     "iopub.status.idle": "2025-07-30T21:05:20.229745Z",
     "shell.execute_reply": "2025-07-30T21:05:20.228484Z"
    },
    "papermill": {
     "duration": 0.034692,
     "end_time": "2025-07-30T21:05:20.232152",
     "exception": false,
     "start_time": "2025-07-30T21:05:20.197460",
     "status": "completed"
    },
    "tags": []
   },
   "outputs": [],
   "source": [
    "import numpy as np\n",
    "from sklearn.pipeline import Pipeline\n",
    "from sklearn.preprocessing import StandardScaler\n",
    "\n",
    "model = Pipeline([\n",
    "    #(\"continuous_processor\", continuous_processor),\n",
    "    #(\"categorical_preprocessor\", categorical_preprocessor),\n",
    "    (\"scale\", StandardScaler() if universe[\"scale\"] == \"scale\" else None), \n",
    "    (\"model\", model),\n",
    "])"
   ]
  },
  {
   "cell_type": "code",
   "execution_count": 43,
   "id": "9442c04d",
   "metadata": {
    "execution": {
     "iopub.execute_input": "2025-07-30T21:05:20.300279Z",
     "iopub.status.busy": "2025-07-30T21:05:20.299858Z",
     "iopub.status.idle": "2025-07-30T21:05:21.388411Z",
     "shell.execute_reply": "2025-07-30T21:05:21.387285Z"
    },
    "papermill": {
     "duration": 1.115747,
     "end_time": "2025-07-30T21:05:21.390064",
     "exception": false,
     "start_time": "2025-07-30T21:05:20.274317",
     "status": "completed"
    },
    "tags": []
   },
   "outputs": [
    {
     "data": {
      "text/html": [
       "<style>#sk-container-id-1 {color: black;background-color: white;}#sk-container-id-1 pre{padding: 0;}#sk-container-id-1 div.sk-toggleable {background-color: white;}#sk-container-id-1 label.sk-toggleable__label {cursor: pointer;display: block;width: 100%;margin-bottom: 0;padding: 0.3em;box-sizing: border-box;text-align: center;}#sk-container-id-1 label.sk-toggleable__label-arrow:before {content: \"▸\";float: left;margin-right: 0.25em;color: #696969;}#sk-container-id-1 label.sk-toggleable__label-arrow:hover:before {color: black;}#sk-container-id-1 div.sk-estimator:hover label.sk-toggleable__label-arrow:before {color: black;}#sk-container-id-1 div.sk-toggleable__content {max-height: 0;max-width: 0;overflow: hidden;text-align: left;background-color: #f0f8ff;}#sk-container-id-1 div.sk-toggleable__content pre {margin: 0.2em;color: black;border-radius: 0.25em;background-color: #f0f8ff;}#sk-container-id-1 input.sk-toggleable__control:checked~div.sk-toggleable__content {max-height: 200px;max-width: 100%;overflow: auto;}#sk-container-id-1 input.sk-toggleable__control:checked~label.sk-toggleable__label-arrow:before {content: \"▾\";}#sk-container-id-1 div.sk-estimator input.sk-toggleable__control:checked~label.sk-toggleable__label {background-color: #d4ebff;}#sk-container-id-1 div.sk-label input.sk-toggleable__control:checked~label.sk-toggleable__label {background-color: #d4ebff;}#sk-container-id-1 input.sk-hidden--visually {border: 0;clip: rect(1px 1px 1px 1px);clip: rect(1px, 1px, 1px, 1px);height: 1px;margin: -1px;overflow: hidden;padding: 0;position: absolute;width: 1px;}#sk-container-id-1 div.sk-estimator {font-family: monospace;background-color: #f0f8ff;border: 1px dotted black;border-radius: 0.25em;box-sizing: border-box;margin-bottom: 0.5em;}#sk-container-id-1 div.sk-estimator:hover {background-color: #d4ebff;}#sk-container-id-1 div.sk-parallel-item::after {content: \"\";width: 100%;border-bottom: 1px solid gray;flex-grow: 1;}#sk-container-id-1 div.sk-label:hover label.sk-toggleable__label {background-color: #d4ebff;}#sk-container-id-1 div.sk-serial::before {content: \"\";position: absolute;border-left: 1px solid gray;box-sizing: border-box;top: 0;bottom: 0;left: 50%;z-index: 0;}#sk-container-id-1 div.sk-serial {display: flex;flex-direction: column;align-items: center;background-color: white;padding-right: 0.2em;padding-left: 0.2em;position: relative;}#sk-container-id-1 div.sk-item {position: relative;z-index: 1;}#sk-container-id-1 div.sk-parallel {display: flex;align-items: stretch;justify-content: center;background-color: white;position: relative;}#sk-container-id-1 div.sk-item::before, #sk-container-id-1 div.sk-parallel-item::before {content: \"\";position: absolute;border-left: 1px solid gray;box-sizing: border-box;top: 0;bottom: 0;left: 50%;z-index: -1;}#sk-container-id-1 div.sk-parallel-item {display: flex;flex-direction: column;z-index: 1;position: relative;background-color: white;}#sk-container-id-1 div.sk-parallel-item:first-child::after {align-self: flex-end;width: 50%;}#sk-container-id-1 div.sk-parallel-item:last-child::after {align-self: flex-start;width: 50%;}#sk-container-id-1 div.sk-parallel-item:only-child::after {width: 0;}#sk-container-id-1 div.sk-dashed-wrapped {border: 1px dashed gray;margin: 0 0.4em 0.5em 0.4em;box-sizing: border-box;padding-bottom: 0.4em;background-color: white;}#sk-container-id-1 div.sk-label label {font-family: monospace;font-weight: bold;display: inline-block;line-height: 1.2em;}#sk-container-id-1 div.sk-label-container {text-align: center;}#sk-container-id-1 div.sk-container {/* jupyter's `normalize.less` sets `[hidden] { display: none; }` but bootstrap.min.css set `[hidden] { display: none !important; }` so we also need the `!important` here to be able to override the default hidden behavior on the sphinx rendered scikit-learn.org. See: https://github.com/scikit-learn/scikit-learn/issues/21755 */display: inline-block !important;position: relative;}#sk-container-id-1 div.sk-text-repr-fallback {display: none;}</style><div id=\"sk-container-id-1\" class=\"sk-top-container\"><div class=\"sk-text-repr-fallback\"><pre>Pipeline(steps=[(&#x27;scale&#x27;, None), (&#x27;model&#x27;, RandomForestClassifier(n_jobs=-1))])</pre><b>In a Jupyter environment, please rerun this cell to show the HTML representation or trust the notebook. <br />On GitHub, the HTML representation is unable to render, please try loading this page with nbviewer.org.</b></div><div class=\"sk-container\" hidden><div class=\"sk-item sk-dashed-wrapped\"><div class=\"sk-label-container\"><div class=\"sk-label sk-toggleable\"><input class=\"sk-toggleable__control sk-hidden--visually\" id=\"sk-estimator-id-1\" type=\"checkbox\" ><label for=\"sk-estimator-id-1\" class=\"sk-toggleable__label sk-toggleable__label-arrow\">Pipeline</label><div class=\"sk-toggleable__content\"><pre>Pipeline(steps=[(&#x27;scale&#x27;, None), (&#x27;model&#x27;, RandomForestClassifier(n_jobs=-1))])</pre></div></div></div><div class=\"sk-serial\"><div class=\"sk-item\"><div class=\"sk-estimator sk-toggleable\"><input class=\"sk-toggleable__control sk-hidden--visually\" id=\"sk-estimator-id-2\" type=\"checkbox\" ><label for=\"sk-estimator-id-2\" class=\"sk-toggleable__label sk-toggleable__label-arrow\">None</label><div class=\"sk-toggleable__content\"><pre>None</pre></div></div></div><div class=\"sk-item\"><div class=\"sk-estimator sk-toggleable\"><input class=\"sk-toggleable__control sk-hidden--visually\" id=\"sk-estimator-id-3\" type=\"checkbox\" ><label for=\"sk-estimator-id-3\" class=\"sk-toggleable__label sk-toggleable__label-arrow\">RandomForestClassifier</label><div class=\"sk-toggleable__content\"><pre>RandomForestClassifier(n_jobs=-1)</pre></div></div></div></div></div></div></div>"
      ],
      "text/plain": [
       "Pipeline(steps=[('scale', None), ('model', RandomForestClassifier(n_jobs=-1))])"
      ]
     },
     "execution_count": 43,
     "metadata": {},
     "output_type": "execute_result"
    }
   ],
   "source": [
    "model.fit(X_train, y_train.values.ravel())"
   ]
  },
  {
   "cell_type": "code",
   "execution_count": 44,
   "id": "af59f8c0",
   "metadata": {
    "execution": {
     "iopub.execute_input": "2025-07-30T21:05:21.467837Z",
     "iopub.status.busy": "2025-07-30T21:05:21.467299Z",
     "iopub.status.idle": "2025-07-30T21:05:21.473787Z",
     "shell.execute_reply": "2025-07-30T21:05:21.472494Z"
    },
    "papermill": {
     "duration": 0.036673,
     "end_time": "2025-07-30T21:05:21.477265",
     "exception": false,
     "start_time": "2025-07-30T21:05:21.440592",
     "status": "completed"
    },
    "tags": []
   },
   "outputs": [],
   "source": [
    "from fairness_multiverse.universe import predict_w_threshold"
   ]
  },
  {
   "cell_type": "code",
   "execution_count": 45,
   "id": "a7cf2e16",
   "metadata": {
    "execution": {
     "iopub.execute_input": "2025-07-30T21:05:21.534106Z",
     "iopub.status.busy": "2025-07-30T21:05:21.533639Z",
     "iopub.status.idle": "2025-07-30T21:05:22.468421Z",
     "shell.execute_reply": "2025-07-30T21:05:22.467374Z"
    },
    "papermill": {
     "duration": 0.964372,
     "end_time": "2025-07-30T21:05:22.469897",
     "exception": false,
     "start_time": "2025-07-30T21:05:21.505525",
     "status": "completed"
    },
    "tags": []
   },
   "outputs": [
    {
     "data": {
      "text/plain": [
       "0.8656671497046037"
      ]
     },
     "execution_count": 45,
     "metadata": {},
     "output_type": "execute_result"
    }
   ],
   "source": [
    "probs_test = model.predict_proba(X_test)\n",
    "\n",
    "'''\n",
    "Below code returns a boolean array (or binary 0/1 array depending on how it’s used) where each element \n",
    "is True if the probability of class 1 is greater than or equal to the threshold, and False otherwise.\n",
    "'''\n",
    "y_pred_default = predict_w_threshold(probs_test, 0.5)\n",
    "\n",
    "from sklearn.metrics import accuracy_score\n",
    "\n",
    "# Naive prediction\n",
    "accuracy_score(y_true = y_true, y_pred = y_pred_default)"
   ]
  },
  {
   "cell_type": "code",
   "execution_count": 46,
   "id": "081964c3",
   "metadata": {
    "execution": {
     "iopub.execute_input": "2025-07-30T21:05:22.578410Z",
     "iopub.status.busy": "2025-07-30T21:05:22.577997Z",
     "iopub.status.idle": "2025-07-30T21:05:23.408938Z",
     "shell.execute_reply": "2025-07-30T21:05:23.408002Z"
    },
    "papermill": {
     "duration": 0.88956,
     "end_time": "2025-07-30T21:05:23.410406",
     "exception": false,
     "start_time": "2025-07-30T21:05:22.520846",
     "status": "completed"
    },
    "tags": []
   },
   "outputs": [
    {
     "data": {
      "text/plain": [
       "array([0, 0, 0, ..., 0, 0, 0])"
      ]
     },
     "execution_count": 46,
     "metadata": {},
     "output_type": "execute_result"
    }
   ],
   "source": [
    "model.predict(X_test)"
   ]
  },
  {
   "cell_type": "markdown",
   "id": "56c9705b",
   "metadata": {
    "papermill": {
     "duration": 0.025587,
     "end_time": "2025-07-30T21:05:23.486185",
     "exception": false,
     "start_time": "2025-07-30T21:05:23.460598",
     "status": "completed"
    },
    "tags": []
   },
   "source": [
    "# Conformal Prediction"
   ]
  },
  {
   "cell_type": "code",
   "execution_count": 47,
   "id": "160ec6ff",
   "metadata": {
    "execution": {
     "iopub.execute_input": "2025-07-30T21:05:23.572818Z",
     "iopub.status.busy": "2025-07-30T21:05:23.572426Z",
     "iopub.status.idle": "2025-07-30T21:05:23.578063Z",
     "shell.execute_reply": "2025-07-30T21:05:23.576881Z"
    },
    "papermill": {
     "duration": 0.070699,
     "end_time": "2025-07-30T21:05:23.581299",
     "exception": false,
     "start_time": "2025-07-30T21:05:23.510600",
     "status": "completed"
    },
    "tags": []
   },
   "outputs": [],
   "source": [
    "# Miscoverage level for conformal prediction (10% allowed error rate => 90% target coverage)\n",
    "alpha = 0.1"
   ]
  },
  {
   "cell_type": "code",
   "execution_count": 48,
   "id": "eadf4555-3dd3-440e-8e35-f82a4ad9f855",
   "metadata": {
    "execution": {
     "iopub.execute_input": "2025-07-30T21:05:23.650220Z",
     "iopub.status.busy": "2025-07-30T21:05:23.649823Z",
     "iopub.status.idle": "2025-07-30T21:05:24.472125Z",
     "shell.execute_reply": "2025-07-30T21:05:24.470981Z"
    },
    "papermill": {
     "duration": 0.850386,
     "end_time": "2025-07-30T21:05:24.473932",
     "exception": false,
     "start_time": "2025-07-30T21:05:23.623546",
     "status": "completed"
    },
    "tags": []
   },
   "outputs": [],
   "source": [
    "probs_calib = model.predict_proba(X_calib)"
   ]
  },
  {
   "cell_type": "code",
   "execution_count": 49,
   "id": "2ed93547-6d5d-4983-9b36-1ecb300da49a",
   "metadata": {
    "execution": {
     "iopub.execute_input": "2025-07-30T21:05:24.526698Z",
     "iopub.status.busy": "2025-07-30T21:05:24.526120Z",
     "iopub.status.idle": "2025-07-30T21:05:24.532143Z",
     "shell.execute_reply": "2025-07-30T21:05:24.531091Z"
    },
    "papermill": {
     "duration": 0.035434,
     "end_time": "2025-07-30T21:05:24.534160",
     "exception": false,
     "start_time": "2025-07-30T21:05:24.498726",
     "status": "completed"
    },
    "tags": []
   },
   "outputs": [],
   "source": [
    "y_calib = y_calib.values.ravel().astype(int)"
   ]
  },
  {
   "cell_type": "code",
   "execution_count": 50,
   "id": "65d1320d-f588-4b38-9072-62af1ae97f7d",
   "metadata": {
    "execution": {
     "iopub.execute_input": "2025-07-30T21:05:24.588089Z",
     "iopub.status.busy": "2025-07-30T21:05:24.587192Z",
     "iopub.status.idle": "2025-07-30T21:05:24.594649Z",
     "shell.execute_reply": "2025-07-30T21:05:24.593592Z"
    },
    "papermill": {
     "duration": 0.036804,
     "end_time": "2025-07-30T21:05:24.597581",
     "exception": false,
     "start_time": "2025-07-30T21:05:24.560777",
     "status": "completed"
    },
    "tags": []
   },
   "outputs": [],
   "source": [
    "from fairness_multiverse.conformal import compute_nc_scores\n",
    "\n",
    "# Compute nonconformity scores on calibration set (1 - probability of true class)\n",
    "nc_scores = compute_nc_scores(probs_calib, y_calib)"
   ]
  },
  {
   "cell_type": "code",
   "execution_count": 51,
   "id": "df3b8ca3-53b7-43d5-9667-7c85da7aeda2",
   "metadata": {
    "execution": {
     "iopub.execute_input": "2025-07-30T21:05:24.651806Z",
     "iopub.status.busy": "2025-07-30T21:05:24.651173Z",
     "iopub.status.idle": "2025-07-30T21:05:24.658035Z",
     "shell.execute_reply": "2025-07-30T21:05:24.657040Z"
    },
    "papermill": {
     "duration": 0.035584,
     "end_time": "2025-07-30T21:05:24.660225",
     "exception": false,
     "start_time": "2025-07-30T21:05:24.624641",
     "status": "completed"
    },
    "tags": []
   },
   "outputs": [],
   "source": [
    "from fairness_multiverse.conformal import find_threshold\n",
    "\n",
    "# Find conformal threshold q_hat for the given alpha (split conformal method)\n",
    "q_hat = find_threshold(nc_scores, alpha)"
   ]
  },
  {
   "cell_type": "code",
   "execution_count": 52,
   "id": "4d29e6c1-0ef6-4aa4-b8fe-4fe79b0d033a",
   "metadata": {
    "execution": {
     "iopub.execute_input": "2025-07-30T21:05:24.717730Z",
     "iopub.status.busy": "2025-07-30T21:05:24.716793Z",
     "iopub.status.idle": "2025-07-30T21:05:24.724600Z",
     "shell.execute_reply": "2025-07-30T21:05:24.723429Z"
    },
    "papermill": {
     "duration": 0.037427,
     "end_time": "2025-07-30T21:05:24.726375",
     "exception": false,
     "start_time": "2025-07-30T21:05:24.688948",
     "status": "completed"
    },
    "tags": []
   },
   "outputs": [
    {
     "data": {
      "text/plain": [
       "0.6699999999999999"
      ]
     },
     "execution_count": 52,
     "metadata": {},
     "output_type": "execute_result"
    }
   ],
   "source": [
    "q_hat"
   ]
  },
  {
   "cell_type": "code",
   "execution_count": 53,
   "id": "92460794-cdac-4be2-ba28-f28c0515a6fb",
   "metadata": {
    "execution": {
     "iopub.execute_input": "2025-07-30T21:05:24.782064Z",
     "iopub.status.busy": "2025-07-30T21:05:24.781677Z",
     "iopub.status.idle": "2025-07-30T21:05:26.341909Z",
     "shell.execute_reply": "2025-07-30T21:05:26.340988Z"
    },
    "papermill": {
     "duration": 1.590518,
     "end_time": "2025-07-30T21:05:26.343724",
     "exception": false,
     "start_time": "2025-07-30T21:05:24.753206",
     "status": "completed"
    },
    "tags": []
   },
   "outputs": [],
   "source": [
    "from fairness_multiverse.conformal import predict_conformal_sets\n",
    "\n",
    "# Generate prediction sets for each test example\n",
    "pred_sets = predict_conformal_sets(model, X_test, q_hat)"
   ]
  },
  {
   "cell_type": "code",
   "execution_count": 54,
   "id": "d90c9a65-e6db-4f5d-80cd-e68fb7e46829",
   "metadata": {
    "execution": {
     "iopub.execute_input": "2025-07-30T21:05:26.397096Z",
     "iopub.status.busy": "2025-07-30T21:05:26.396260Z",
     "iopub.status.idle": "2025-07-30T21:05:26.401388Z",
     "shell.execute_reply": "2025-07-30T21:05:26.400517Z"
    },
    "papermill": {
     "duration": 0.034393,
     "end_time": "2025-07-30T21:05:26.403192",
     "exception": false,
     "start_time": "2025-07-30T21:05:26.368799",
     "status": "completed"
    },
    "tags": []
   },
   "outputs": [],
   "source": [
    "y_true = y_true.squeeze()"
   ]
  },
  {
   "cell_type": "code",
   "execution_count": 55,
   "id": "3a58a54a-1e68-46b9-927a-df01f18aebc8",
   "metadata": {
    "execution": {
     "iopub.execute_input": "2025-07-30T21:05:26.457214Z",
     "iopub.status.busy": "2025-07-30T21:05:26.456726Z",
     "iopub.status.idle": "2025-07-30T21:05:27.177586Z",
     "shell.execute_reply": "2025-07-30T21:05:27.176842Z"
    },
    "papermill": {
     "duration": 0.74986,
     "end_time": "2025-07-30T21:05:27.178988",
     "exception": false,
     "start_time": "2025-07-30T21:05:26.429128",
     "status": "completed"
    },
    "tags": []
   },
   "outputs": [],
   "source": [
    "from fairness_multiverse.conformal import evaluate_sets\n",
    "\n",
    "# Evaluate coverage and average set size on test data\n",
    "metrics = evaluate_sets(pred_sets, y_true)"
   ]
  },
  {
   "cell_type": "markdown",
   "id": "2b569c12-9aaa-4c88-98c9-bbcd0cf3ebb8",
   "metadata": {
    "papermill": {
     "duration": 0.013444,
     "end_time": "2025-07-30T21:05:27.205208",
     "exception": false,
     "start_time": "2025-07-30T21:05:27.191764",
     "status": "completed"
    },
    "tags": []
   },
   "source": [
    "# CP Metrics"
   ]
  },
  {
   "cell_type": "code",
   "execution_count": 56,
   "id": "5ce0a5cb-201f-45a0-ade5-94c7f0bd6095",
   "metadata": {
    "execution": {
     "iopub.execute_input": "2025-07-30T21:05:27.233458Z",
     "iopub.status.busy": "2025-07-30T21:05:27.232910Z",
     "iopub.status.idle": "2025-07-30T21:05:27.238895Z",
     "shell.execute_reply": "2025-07-30T21:05:27.238193Z"
    },
    "papermill": {
     "duration": 0.020458,
     "end_time": "2025-07-30T21:05:27.240290",
     "exception": false,
     "start_time": "2025-07-30T21:05:27.219832",
     "status": "completed"
    },
    "tags": []
   },
   "outputs": [
    {
     "data": {
      "text/plain": [
       "{'coverage': 0.9126072901571731, 'avg_size': 1.1426819752535948}"
      ]
     },
     "execution_count": 56,
     "metadata": {},
     "output_type": "execute_result"
    }
   ],
   "source": [
    "metrics"
   ]
  },
  {
   "cell_type": "code",
   "execution_count": 57,
   "id": "9b9a838d-31c9-430b-ae14-12baee460d17",
   "metadata": {
    "execution": {
     "iopub.execute_input": "2025-07-30T21:05:27.271531Z",
     "iopub.status.busy": "2025-07-30T21:05:27.270945Z",
     "iopub.status.idle": "2025-07-30T21:05:27.275989Z",
     "shell.execute_reply": "2025-07-30T21:05:27.275249Z"
    },
    "papermill": {
     "duration": 0.024152,
     "end_time": "2025-07-30T21:05:27.277582",
     "exception": false,
     "start_time": "2025-07-30T21:05:27.253430",
     "status": "completed"
    },
    "tags": []
   },
   "outputs": [],
   "source": [
    "example_universe = universe.copy()\n",
    "universe_training_year = example_universe.get(\"training_year\")\n",
    "universe_training_size = example_universe.get(\"training_size\")\n",
    "universe_scale = example_universe.get(\"scale\")\n",
    "universe_model = example_universe.get(\"model\")\n",
    "universe_exclude_features = example_universe.get(\"exclude_features\")\n",
    "universe_exclude_subgroups = example_universe.get(\"exclude_subgroups\")"
   ]
  },
  {
   "cell_type": "code",
   "execution_count": 58,
   "id": "f4b6a8ac-9dc0-4245-8a91-5b3b5999c4f9",
   "metadata": {
    "execution": {
     "iopub.execute_input": "2025-07-30T21:05:27.304621Z",
     "iopub.status.busy": "2025-07-30T21:05:27.303940Z",
     "iopub.status.idle": "2025-07-30T21:05:27.309294Z",
     "shell.execute_reply": "2025-07-30T21:05:27.308515Z"
    },
    "papermill": {
     "duration": 0.019718,
     "end_time": "2025-07-30T21:05:27.310551",
     "exception": false,
     "start_time": "2025-07-30T21:05:27.290833",
     "status": "completed"
    },
    "tags": []
   },
   "outputs": [],
   "source": [
    "cp_metrics_dict = {\n",
    "    \"universe_id\": [universe_id],\n",
    "    \"universe_training_year\": [universe_training_year],\n",
    "    \"universe_training_size\": [universe_training_size],\n",
    "    \"universe_scale\": [universe_scale],\n",
    "    \"universe_model\": [universe_model],\n",
    "    \"universe_exclude_features\": [universe_exclude_features],\n",
    "    \"universe_exclude_subgroups\": [universe_exclude_subgroups],\n",
    "    \"q_hat\": [q_hat],\n",
    "    \"coverage\": [metrics[\"coverage\"]],\n",
    "    \"avg_size\": [metrics[\"avg_size\"]],\n",
    "}"
   ]
  },
  {
   "cell_type": "code",
   "execution_count": 59,
   "id": "908acbb1-0371-4915-85ca-3fa520d2efe2",
   "metadata": {
    "execution": {
     "iopub.execute_input": "2025-07-30T21:05:27.343541Z",
     "iopub.status.busy": "2025-07-30T21:05:27.342891Z",
     "iopub.status.idle": "2025-07-30T21:05:27.349512Z",
     "shell.execute_reply": "2025-07-30T21:05:27.348703Z"
    },
    "papermill": {
     "duration": 0.021233,
     "end_time": "2025-07-30T21:05:27.350777",
     "exception": false,
     "start_time": "2025-07-30T21:05:27.329544",
     "status": "completed"
    },
    "tags": []
   },
   "outputs": [
    {
     "data": {
      "text/plain": [
       "{'universe_id': ['2a84156d94cbd52f7a2ad73d7d58f394'],\n",
       " 'universe_training_year': ['2012_14'],\n",
       " 'universe_training_size': ['5k'],\n",
       " 'universe_scale': ['do-not-scale'],\n",
       " 'universe_model': ['rf'],\n",
       " 'universe_exclude_features': ['sex'],\n",
       " 'universe_exclude_subgroups': ['drop-non-german'],\n",
       " 'q_hat': [0.6699999999999999],\n",
       " 'coverage': [0.9126072901571731],\n",
       " 'avg_size': [1.1426819752535948]}"
      ]
     },
     "execution_count": 59,
     "metadata": {},
     "output_type": "execute_result"
    }
   ],
   "source": [
    "cp_metrics_dict"
   ]
  },
  {
   "cell_type": "code",
   "execution_count": 60,
   "id": "33007efc-14e9-4ec6-97ac-56a455c82265",
   "metadata": {
    "execution": {
     "iopub.execute_input": "2025-07-30T21:05:27.383164Z",
     "iopub.status.busy": "2025-07-30T21:05:27.382560Z",
     "iopub.status.idle": "2025-07-30T21:05:27.387892Z",
     "shell.execute_reply": "2025-07-30T21:05:27.387208Z"
    },
    "papermill": {
     "duration": 0.025178,
     "end_time": "2025-07-30T21:05:27.389255",
     "exception": false,
     "start_time": "2025-07-30T21:05:27.364077",
     "status": "completed"
    },
    "tags": []
   },
   "outputs": [],
   "source": [
    "cp_metrics_df = pd.DataFrame(cp_metrics_dict)"
   ]
  },
  {
   "cell_type": "code",
   "execution_count": 61,
   "id": "db12611b-57b2-4910-b9d0-355adfd6e7bf",
   "metadata": {
    "execution": {
     "iopub.execute_input": "2025-07-30T21:05:27.416332Z",
     "iopub.status.busy": "2025-07-30T21:05:27.415939Z",
     "iopub.status.idle": "2025-07-30T21:05:27.433805Z",
     "shell.execute_reply": "2025-07-30T21:05:27.432580Z"
    },
    "papermill": {
     "duration": 0.032647,
     "end_time": "2025-07-30T21:05:27.435389",
     "exception": false,
     "start_time": "2025-07-30T21:05:27.402742",
     "status": "completed"
    },
    "tags": []
   },
   "outputs": [
    {
     "data": {
      "text/html": [
       "<div>\n",
       "<style scoped>\n",
       "    .dataframe tbody tr th:only-of-type {\n",
       "        vertical-align: middle;\n",
       "    }\n",
       "\n",
       "    .dataframe tbody tr th {\n",
       "        vertical-align: top;\n",
       "    }\n",
       "\n",
       "    .dataframe thead th {\n",
       "        text-align: right;\n",
       "    }\n",
       "</style>\n",
       "<table border=\"1\" class=\"dataframe\">\n",
       "  <thead>\n",
       "    <tr style=\"text-align: right;\">\n",
       "      <th></th>\n",
       "      <th>universe_id</th>\n",
       "      <th>universe_training_year</th>\n",
       "      <th>universe_training_size</th>\n",
       "      <th>universe_scale</th>\n",
       "      <th>universe_model</th>\n",
       "      <th>universe_exclude_features</th>\n",
       "      <th>universe_exclude_subgroups</th>\n",
       "      <th>q_hat</th>\n",
       "      <th>coverage</th>\n",
       "      <th>avg_size</th>\n",
       "    </tr>\n",
       "  </thead>\n",
       "  <tbody>\n",
       "    <tr>\n",
       "      <th>0</th>\n",
       "      <td>2a84156d94cbd52f7a2ad73d7d58f394</td>\n",
       "      <td>2012_14</td>\n",
       "      <td>5k</td>\n",
       "      <td>do-not-scale</td>\n",
       "      <td>rf</td>\n",
       "      <td>sex</td>\n",
       "      <td>drop-non-german</td>\n",
       "      <td>0.67</td>\n",
       "      <td>0.912607</td>\n",
       "      <td>1.142682</td>\n",
       "    </tr>\n",
       "  </tbody>\n",
       "</table>\n",
       "</div>"
      ],
      "text/plain": [
       "                        universe_id universe_training_year  \\\n",
       "0  2a84156d94cbd52f7a2ad73d7d58f394                2012_14   \n",
       "\n",
       "  universe_training_size universe_scale universe_model  \\\n",
       "0                     5k   do-not-scale             rf   \n",
       "\n",
       "  universe_exclude_features universe_exclude_subgroups  q_hat  coverage  \\\n",
       "0                       sex            drop-non-german   0.67  0.912607   \n",
       "\n",
       "   avg_size  \n",
       "0  1.142682  "
      ]
     },
     "execution_count": 61,
     "metadata": {},
     "output_type": "execute_result"
    }
   ],
   "source": [
    "cp_metrics_df"
   ]
  },
  {
   "cell_type": "code",
   "execution_count": 62,
   "id": "b7fbde55-a0a1-47e4-9af6-fe4a17fa8c61",
   "metadata": {
    "execution": {
     "iopub.execute_input": "2025-07-30T21:05:27.491245Z",
     "iopub.status.busy": "2025-07-30T21:05:27.490661Z",
     "iopub.status.idle": "2025-07-30T21:05:27.495903Z",
     "shell.execute_reply": "2025-07-30T21:05:27.494897Z"
    },
    "papermill": {
     "duration": 0.030767,
     "end_time": "2025-07-30T21:05:27.497571",
     "exception": false,
     "start_time": "2025-07-30T21:05:27.466804",
     "status": "completed"
    },
    "tags": []
   },
   "outputs": [],
   "source": [
    "# Conditional Coverage & looking at subgroups"
   ]
  },
  {
   "cell_type": "code",
   "execution_count": 63,
   "id": "027ae886-68dd-4141-96c7-805a5450e1ef",
   "metadata": {
    "execution": {
     "iopub.execute_input": "2025-07-30T21:05:27.553917Z",
     "iopub.status.busy": "2025-07-30T21:05:27.553285Z",
     "iopub.status.idle": "2025-07-30T21:05:27.829496Z",
     "shell.execute_reply": "2025-07-30T21:05:27.825916Z"
    },
    "papermill": {
     "duration": 0.305797,
     "end_time": "2025-07-30T21:05:27.831163",
     "exception": false,
     "start_time": "2025-07-30T21:05:27.525366",
     "status": "completed"
    },
    "tags": []
   },
   "outputs": [],
   "source": [
    "from fairness_multiverse.conformal import build_cp_groups\n",
    "\n",
    "cp_groups_df = build_cp_groups(pred_sets, y_true, X_test.index, org_test)\n",
    "#needs universe_id and setting"
   ]
  },
  {
   "cell_type": "code",
   "execution_count": 64,
   "id": "01d5802c-663a-4d1f-9d69-e036faaffbf7",
   "metadata": {
    "execution": {
     "iopub.execute_input": "2025-07-30T21:05:27.897688Z",
     "iopub.status.busy": "2025-07-30T21:05:27.897270Z",
     "iopub.status.idle": "2025-07-30T21:05:27.902672Z",
     "shell.execute_reply": "2025-07-30T21:05:27.901551Z"
    },
    "papermill": {
     "duration": 0.04577,
     "end_time": "2025-07-30T21:05:27.905980",
     "exception": false,
     "start_time": "2025-07-30T21:05:27.860210",
     "status": "completed"
    },
    "tags": []
   },
   "outputs": [],
   "source": [
    "#delete\n",
    "#cp_groups_df"
   ]
  },
  {
   "cell_type": "code",
   "execution_count": 65,
   "id": "fa424af1-d1eb-443d-b717-2d279ada8408",
   "metadata": {
    "execution": {
     "iopub.execute_input": "2025-07-30T21:05:27.953878Z",
     "iopub.status.busy": "2025-07-30T21:05:27.953475Z",
     "iopub.status.idle": "2025-07-30T21:05:27.958360Z",
     "shell.execute_reply": "2025-07-30T21:05:27.957636Z"
    },
    "papermill": {
     "duration": 0.031667,
     "end_time": "2025-07-30T21:05:27.959903",
     "exception": false,
     "start_time": "2025-07-30T21:05:27.928236",
     "status": "completed"
    },
    "tags": []
   },
   "outputs": [],
   "source": [
    "#delete\n",
    "#percentage = (cp_groups_df['nongerman_female'] == 1).mean() * 100\n",
    "#print(percentage)\n"
   ]
  },
  {
   "cell_type": "code",
   "execution_count": 66,
   "id": "6cbdab96-b2b2-45af-ad54-d0516db2e28d",
   "metadata": {
    "execution": {
     "iopub.execute_input": "2025-07-30T21:05:28.009824Z",
     "iopub.status.busy": "2025-07-30T21:05:28.008876Z",
     "iopub.status.idle": "2025-07-30T21:05:29.686508Z",
     "shell.execute_reply": "2025-07-30T21:05:29.685477Z"
    },
    "papermill": {
     "duration": 1.703047,
     "end_time": "2025-07-30T21:05:29.688689",
     "exception": false,
     "start_time": "2025-07-30T21:05:27.985642",
     "status": "completed"
    },
    "tags": []
   },
   "outputs": [],
   "source": [
    "# Define covered = 1 if true_label is in the predicted set\n",
    "cp_groups_df['covered'] = cp_groups_df.apply(\n",
    "    lambda r: int(r['true_label'] in r['pred_set']),\n",
    "    axis=1\n",
    ")"
   ]
  },
  {
   "cell_type": "code",
   "execution_count": 67,
   "id": "338ff529-1a6b-4b87-a931-8e4788d52aad",
   "metadata": {
    "execution": {
     "iopub.execute_input": "2025-07-30T21:05:29.749911Z",
     "iopub.status.busy": "2025-07-30T21:05:29.748958Z",
     "iopub.status.idle": "2025-07-30T21:05:29.754769Z",
     "shell.execute_reply": "2025-07-30T21:05:29.753732Z"
    },
    "papermill": {
     "duration": 0.040935,
     "end_time": "2025-07-30T21:05:29.756810",
     "exception": false,
     "start_time": "2025-07-30T21:05:29.715875",
     "status": "completed"
    },
    "tags": []
   },
   "outputs": [],
   "source": [
    "#cp_groups_df"
   ]
  },
  {
   "cell_type": "code",
   "execution_count": 68,
   "id": "90032e27-66df-4540-9169-4e89cfbaa758",
   "metadata": {
    "execution": {
     "iopub.execute_input": "2025-07-30T21:05:29.825041Z",
     "iopub.status.busy": "2025-07-30T21:05:29.824543Z",
     "iopub.status.idle": "2025-07-30T21:05:29.835981Z",
     "shell.execute_reply": "2025-07-30T21:05:29.835015Z"
    },
    "papermill": {
     "duration": 0.033208,
     "end_time": "2025-07-30T21:05:29.837867",
     "exception": false,
     "start_time": "2025-07-30T21:05:29.804659",
     "status": "completed"
    },
    "tags": []
   },
   "outputs": [],
   "source": [
    "subgroups = ['frau1','nongerman','nongerman_male','nongerman_female']\n",
    "\n",
    "# Conditional coverage for subgroup==1\n",
    "cond_coverage = {\n",
    "    g: cp_groups_df.loc[cp_groups_df[g]==1, 'covered'].mean()\n",
    "    for g in subgroups\n",
    "}"
   ]
  },
  {
   "cell_type": "code",
   "execution_count": 69,
   "id": "1e348fb1-b9c3-45bc-ba23-f016827a7e0d",
   "metadata": {
    "execution": {
     "iopub.execute_input": "2025-07-30T21:05:29.905379Z",
     "iopub.status.busy": "2025-07-30T21:05:29.904909Z",
     "iopub.status.idle": "2025-07-30T21:05:29.911969Z",
     "shell.execute_reply": "2025-07-30T21:05:29.911268Z"
    },
    "papermill": {
     "duration": 0.047691,
     "end_time": "2025-07-30T21:05:29.913459",
     "exception": false,
     "start_time": "2025-07-30T21:05:29.865768",
     "status": "completed"
    },
    "tags": []
   },
   "outputs": [
    {
     "data": {
      "text/plain": [
       "{'frau1': 0.9078851597250304,\n",
       " 'nongerman': 0.9069780497389547,\n",
       " 'nongerman_male': 0.9255156264072774,\n",
       " 'nongerman_female': 0.8763040238450075}"
      ]
     },
     "execution_count": 69,
     "metadata": {},
     "output_type": "execute_result"
    }
   ],
   "source": [
    "cond_coverage"
   ]
  },
  {
   "cell_type": "code",
   "execution_count": 70,
   "id": "f5093324-c3dd-4d63-bc4c-8d945e5c8bbb",
   "metadata": {
    "execution": {
     "iopub.execute_input": "2025-07-30T21:05:29.943564Z",
     "iopub.status.busy": "2025-07-30T21:05:29.943204Z",
     "iopub.status.idle": "2025-07-30T21:05:29.949319Z",
     "shell.execute_reply": "2025-07-30T21:05:29.948473Z"
    },
    "papermill": {
     "duration": 0.022099,
     "end_time": "2025-07-30T21:05:29.950699",
     "exception": false,
     "start_time": "2025-07-30T21:05:29.928600",
     "status": "completed"
    },
    "tags": []
   },
   "outputs": [],
   "source": [
    "for subgroup, cov in cond_coverage.items():\n",
    "    cp_metrics_df[f\"cov_{subgroup}\"] = cov"
   ]
  },
  {
   "cell_type": "code",
   "execution_count": 71,
   "id": "6e872e10-dbe5-49e8-b554-5030c98ff75d",
   "metadata": {
    "execution": {
     "iopub.execute_input": "2025-07-30T21:05:29.982575Z",
     "iopub.status.busy": "2025-07-30T21:05:29.982191Z",
     "iopub.status.idle": "2025-07-30T21:05:30.008746Z",
     "shell.execute_reply": "2025-07-30T21:05:30.003490Z"
    },
    "papermill": {
     "duration": 0.0444,
     "end_time": "2025-07-30T21:05:30.010525",
     "exception": false,
     "start_time": "2025-07-30T21:05:29.966125",
     "status": "completed"
    },
    "tags": []
   },
   "outputs": [
    {
     "data": {
      "text/html": [
       "<div>\n",
       "<style scoped>\n",
       "    .dataframe tbody tr th:only-of-type {\n",
       "        vertical-align: middle;\n",
       "    }\n",
       "\n",
       "    .dataframe tbody tr th {\n",
       "        vertical-align: top;\n",
       "    }\n",
       "\n",
       "    .dataframe thead th {\n",
       "        text-align: right;\n",
       "    }\n",
       "</style>\n",
       "<table border=\"1\" class=\"dataframe\">\n",
       "  <thead>\n",
       "    <tr style=\"text-align: right;\">\n",
       "      <th></th>\n",
       "      <th>universe_id</th>\n",
       "      <th>universe_training_year</th>\n",
       "      <th>universe_training_size</th>\n",
       "      <th>universe_scale</th>\n",
       "      <th>universe_model</th>\n",
       "      <th>universe_exclude_features</th>\n",
       "      <th>universe_exclude_subgroups</th>\n",
       "      <th>q_hat</th>\n",
       "      <th>coverage</th>\n",
       "      <th>avg_size</th>\n",
       "      <th>cov_frau1</th>\n",
       "      <th>cov_nongerman</th>\n",
       "      <th>cov_nongerman_male</th>\n",
       "      <th>cov_nongerman_female</th>\n",
       "    </tr>\n",
       "  </thead>\n",
       "  <tbody>\n",
       "    <tr>\n",
       "      <th>0</th>\n",
       "      <td>2a84156d94cbd52f7a2ad73d7d58f394</td>\n",
       "      <td>2012_14</td>\n",
       "      <td>5k</td>\n",
       "      <td>do-not-scale</td>\n",
       "      <td>rf</td>\n",
       "      <td>sex</td>\n",
       "      <td>drop-non-german</td>\n",
       "      <td>0.67</td>\n",
       "      <td>0.912607</td>\n",
       "      <td>1.142682</td>\n",
       "      <td>0.907885</td>\n",
       "      <td>0.906978</td>\n",
       "      <td>0.925516</td>\n",
       "      <td>0.876304</td>\n",
       "    </tr>\n",
       "  </tbody>\n",
       "</table>\n",
       "</div>"
      ],
      "text/plain": [
       "                        universe_id universe_training_year  \\\n",
       "0  2a84156d94cbd52f7a2ad73d7d58f394                2012_14   \n",
       "\n",
       "  universe_training_size universe_scale universe_model  \\\n",
       "0                     5k   do-not-scale             rf   \n",
       "\n",
       "  universe_exclude_features universe_exclude_subgroups  q_hat  coverage  \\\n",
       "0                       sex            drop-non-german   0.67  0.912607   \n",
       "\n",
       "   avg_size  cov_frau1  cov_nongerman  cov_nongerman_male  \\\n",
       "0  1.142682   0.907885       0.906978            0.925516   \n",
       "\n",
       "   cov_nongerman_female  \n",
       "0              0.876304  "
      ]
     },
     "execution_count": 71,
     "metadata": {},
     "output_type": "execute_result"
    }
   ],
   "source": [
    "cp_metrics_df"
   ]
  },
  {
   "cell_type": "markdown",
   "id": "33774451",
   "metadata": {
    "papermill": {
     "duration": 0.050932,
     "end_time": "2025-07-30T21:05:30.117284",
     "exception": false,
     "start_time": "2025-07-30T21:05:30.066352",
     "status": "completed"
    },
    "tags": []
   },
   "source": [
    "# (Fairness) Metrics"
   ]
  },
  {
   "cell_type": "code",
   "execution_count": 72,
   "id": "debc5d62",
   "metadata": {
    "execution": {
     "iopub.execute_input": "2025-07-30T21:05:30.215871Z",
     "iopub.status.busy": "2025-07-30T21:05:30.215474Z",
     "iopub.status.idle": "2025-07-30T21:05:30.262953Z",
     "shell.execute_reply": "2025-07-30T21:05:30.261977Z"
    },
    "papermill": {
     "duration": 0.080243,
     "end_time": "2025-07-30T21:05:30.264762",
     "exception": false,
     "start_time": "2025-07-30T21:05:30.184519",
     "status": "completed"
    },
    "tags": []
   },
   "outputs": [],
   "source": [
    "# do I need to include maxdeutsch1.missing?\n",
    "\n",
    "import numpy as np\n",
    "\n",
    "colname_to_bin = \"maxdeutsch1\"\n",
    "majority_value = org_train[colname_to_bin].mode()[0]\n",
    "\n",
    "org_test[\"majmin\"] = np.where(org_test[colname_to_bin] == majority_value, \"majority\", \"minority\")"
   ]
  },
  {
   "cell_type": "code",
   "execution_count": 73,
   "id": "06a50de5",
   "metadata": {
    "execution": {
     "iopub.execute_input": "2025-07-30T21:05:30.371637Z",
     "iopub.status.busy": "2025-07-30T21:05:30.370679Z",
     "iopub.status.idle": "2025-07-30T21:05:33.289719Z",
     "shell.execute_reply": "2025-07-30T21:05:33.288653Z"
    },
    "papermill": {
     "duration": 2.951342,
     "end_time": "2025-07-30T21:05:33.291658",
     "exception": false,
     "start_time": "2025-07-30T21:05:30.340316",
     "status": "completed"
    },
    "tags": []
   },
   "outputs": [],
   "source": [
    "example_universe = universe.copy()\n",
    "example_universe[\"cutoff\"] = example_universe[\"cutoff\"][0]\n",
    "example_universe[\"eval_fairness_grouping\"] = example_universe[\"eval_fairness_grouping\"][0]\n",
    "fairness_dict, metric_frame = universe_analysis.compute_metrics(\n",
    "    example_universe,\n",
    "    y_pred_prob=probs_test,\n",
    "    y_test=y_true,\n",
    "    org_test=org_test,\n",
    ")"
   ]
  },
  {
   "cell_type": "markdown",
   "id": "f95d4e02",
   "metadata": {
    "papermill": {
     "duration": 0.029804,
     "end_time": "2025-07-30T21:05:33.351466",
     "exception": false,
     "start_time": "2025-07-30T21:05:33.321662",
     "status": "completed"
    },
    "tags": []
   },
   "source": [
    "# Overall"
   ]
  },
  {
   "cell_type": "markdown",
   "id": "bdee4871",
   "metadata": {
    "papermill": {
     "duration": 0.028758,
     "end_time": "2025-07-30T21:05:33.408719",
     "exception": false,
     "start_time": "2025-07-30T21:05:33.379961",
     "status": "completed"
    },
    "tags": []
   },
   "source": [
    "Fairness\n",
    "Main fairness target: Equalized Odds. Seems to be a better fit than equal opportunity, since we're not only interested in Y = 1. Seems to be a better fit than demographic parity, since we also care about accuracy, not just equal distribution of preds.\n",
    "\n",
    "Pick column for computation of fairness metrics\n",
    "\n",
    "Performance\n",
    "Overall performance measures, most interesting in relation to the measures split by group below"
   ]
  },
  {
   "cell_type": "code",
   "execution_count": 74,
   "id": "c4e067c6",
   "metadata": {
    "execution": {
     "iopub.execute_input": "2025-07-30T21:05:33.467877Z",
     "iopub.status.busy": "2025-07-30T21:05:33.467365Z",
     "iopub.status.idle": "2025-07-30T21:05:33.476262Z",
     "shell.execute_reply": "2025-07-30T21:05:33.475164Z"
    },
    "papermill": {
     "duration": 0.040595,
     "end_time": "2025-07-30T21:05:33.477941",
     "exception": false,
     "start_time": "2025-07-30T21:05:33.437346",
     "status": "completed"
    },
    "tags": []
   },
   "outputs": [
    {
     "data": {
      "text/plain": [
       "accuracy                   0.204035\n",
       "balanced accuracy          0.536671\n",
       "f1                         0.240814\n",
       "precision                  0.137193\n",
       "false positive rate        0.910757\n",
       "false negative rate        0.015902\n",
       "selection rate             0.920165\n",
       "count                  89710.000000\n",
       "dtype: float64"
      ]
     },
     "execution_count": 74,
     "metadata": {},
     "output_type": "execute_result"
    }
   ],
   "source": [
    "metric_frame.overall"
   ]
  },
  {
   "cell_type": "markdown",
   "id": "e968fe9d",
   "metadata": {
    "papermill": {
     "duration": 0.02874,
     "end_time": "2025-07-30T21:05:33.536317",
     "exception": false,
     "start_time": "2025-07-30T21:05:33.507577",
     "status": "completed"
    },
    "tags": []
   },
   "source": [
    "By Group"
   ]
  },
  {
   "cell_type": "code",
   "execution_count": 75,
   "id": "ec325bce",
   "metadata": {
    "execution": {
     "iopub.execute_input": "2025-07-30T21:05:33.595089Z",
     "iopub.status.busy": "2025-07-30T21:05:33.594374Z",
     "iopub.status.idle": "2025-07-30T21:05:33.611211Z",
     "shell.execute_reply": "2025-07-30T21:05:33.610266Z"
    },
    "papermill": {
     "duration": 0.048174,
     "end_time": "2025-07-30T21:05:33.612799",
     "exception": false,
     "start_time": "2025-07-30T21:05:33.564625",
     "status": "completed"
    },
    "tags": []
   },
   "outputs": [
    {
     "data": {
      "text/html": [
       "<div>\n",
       "<style scoped>\n",
       "    .dataframe tbody tr th:only-of-type {\n",
       "        vertical-align: middle;\n",
       "    }\n",
       "\n",
       "    .dataframe tbody tr th {\n",
       "        vertical-align: top;\n",
       "    }\n",
       "\n",
       "    .dataframe thead th {\n",
       "        text-align: right;\n",
       "    }\n",
       "</style>\n",
       "<table border=\"1\" class=\"dataframe\">\n",
       "  <thead>\n",
       "    <tr style=\"text-align: right;\">\n",
       "      <th></th>\n",
       "      <th>accuracy</th>\n",
       "      <th>balanced accuracy</th>\n",
       "      <th>f1</th>\n",
       "      <th>precision</th>\n",
       "      <th>false positive rate</th>\n",
       "      <th>false negative rate</th>\n",
       "      <th>selection rate</th>\n",
       "      <th>count</th>\n",
       "    </tr>\n",
       "    <tr>\n",
       "      <th>majmin</th>\n",
       "      <th></th>\n",
       "      <th></th>\n",
       "      <th></th>\n",
       "      <th></th>\n",
       "      <th></th>\n",
       "      <th></th>\n",
       "      <th></th>\n",
       "      <th></th>\n",
       "    </tr>\n",
       "  </thead>\n",
       "  <tbody>\n",
       "    <tr>\n",
       "      <th>majority</th>\n",
       "      <td>0.206086</td>\n",
       "      <td>0.537224</td>\n",
       "      <td>0.247358</td>\n",
       "      <td>0.141391</td>\n",
       "      <td>0.912860</td>\n",
       "      <td>0.012691</td>\n",
       "      <td>0.922698</td>\n",
       "      <td>69170.0</td>\n",
       "    </tr>\n",
       "    <tr>\n",
       "      <th>minority</th>\n",
       "      <td>0.197128</td>\n",
       "      <td>0.533949</td>\n",
       "      <td>0.218177</td>\n",
       "      <td>0.122884</td>\n",
       "      <td>0.903808</td>\n",
       "      <td>0.028294</td>\n",
       "      <td>0.911636</td>\n",
       "      <td>20540.0</td>\n",
       "    </tr>\n",
       "  </tbody>\n",
       "</table>\n",
       "</div>"
      ],
      "text/plain": [
       "          accuracy  balanced accuracy        f1  precision  \\\n",
       "majmin                                                       \n",
       "majority  0.206086           0.537224  0.247358   0.141391   \n",
       "minority  0.197128           0.533949  0.218177   0.122884   \n",
       "\n",
       "          false positive rate  false negative rate  selection rate    count  \n",
       "majmin                                                                       \n",
       "majority             0.912860             0.012691        0.922698  69170.0  \n",
       "minority             0.903808             0.028294        0.911636  20540.0  "
      ]
     },
     "execution_count": 75,
     "metadata": {},
     "output_type": "execute_result"
    }
   ],
   "source": [
    "metric_frame.by_group"
   ]
  },
  {
   "cell_type": "code",
   "execution_count": 76,
   "id": "a9ddbe63",
   "metadata": {
    "execution": {
     "iopub.execute_input": "2025-07-30T21:05:33.697459Z",
     "iopub.status.busy": "2025-07-30T21:05:33.696870Z",
     "iopub.status.idle": "2025-07-30T21:05:36.393072Z",
     "shell.execute_reply": "2025-07-30T21:05:36.392022Z"
    },
    "papermill": {
     "duration": 2.752294,
     "end_time": "2025-07-30T21:05:36.394868",
     "exception": false,
     "start_time": "2025-07-30T21:05:33.642574",
     "status": "completed"
    },
    "tags": []
   },
   "outputs": [
    {
     "data": {
      "text/plain": [
       "array([[<Axes: title={'center': 'accuracy'}, xlabel='majmin'>,\n",
       "        <Axes: title={'center': 'balanced accuracy'}, xlabel='majmin'>,\n",
       "        <Axes: title={'center': 'f1'}, xlabel='majmin'>],\n",
       "       [<Axes: title={'center': 'precision'}, xlabel='majmin'>,\n",
       "        <Axes: title={'center': 'false positive rate'}, xlabel='majmin'>,\n",
       "        <Axes: title={'center': 'false negative rate'}, xlabel='majmin'>],\n",
       "       [<Axes: title={'center': 'selection rate'}, xlabel='majmin'>,\n",
       "        <Axes: title={'center': 'count'}, xlabel='majmin'>,\n",
       "        <Axes: xlabel='majmin'>]], dtype=object)"
      ]
     },
     "execution_count": 76,
     "metadata": {},
     "output_type": "execute_result"
    },
    {
     "data": {
      "image/png": "[encoded data removed]",
      "text/plain": [
       "<Figure size 1200x800 with 9 Axes>"
      ]
     },
     "metadata": {},
     "output_type": "display_data"
    }
   ],
   "source": [
    "# In a graphic\n",
    "metric_frame.by_group.plot.bar(\n",
    "    subplots=True,\n",
    "    layout=[3, 3],\n",
    "    legend=False,\n",
    "    figsize=[12, 8],\n",
    "    title=\"Show all metrics\",\n",
    ")"
   ]
  },
  {
   "cell_type": "markdown",
   "id": "f57a0bac",
   "metadata": {
    "papermill": {
     "duration": 0.01866,
     "end_time": "2025-07-30T21:05:36.443748",
     "exception": false,
     "start_time": "2025-07-30T21:05:36.425088",
     "status": "completed"
    },
    "tags": []
   },
   "source": [
    "# Final Output"
   ]
  },
  {
   "cell_type": "code",
   "execution_count": 77,
   "id": "96d280a3",
   "metadata": {
    "execution": {
     "iopub.execute_input": "2025-07-30T21:05:36.505110Z",
     "iopub.status.busy": "2025-07-30T21:05:36.504385Z",
     "iopub.status.idle": "2025-07-30T21:05:36.512744Z",
     "shell.execute_reply": "2025-07-30T21:05:36.511688Z"
    },
    "papermill": {
     "duration": 0.040148,
     "end_time": "2025-07-30T21:05:36.514338",
     "exception": false,
     "start_time": "2025-07-30T21:05:36.474190",
     "status": "completed"
    },
    "tags": []
   },
   "outputs": [
    {
     "data": {
      "text/plain": [
       "4"
      ]
     },
     "execution_count": 77,
     "metadata": {},
     "output_type": "execute_result"
    }
   ],
   "source": [
    "sub_universes = universe_analysis.generate_sub_universes()\n",
    "len(sub_universes)"
   ]
  },
  {
   "cell_type": "code",
   "execution_count": 78,
   "id": "92adf7ba",
   "metadata": {
    "execution": {
     "iopub.execute_input": "2025-07-30T21:05:36.579877Z",
     "iopub.status.busy": "2025-07-30T21:05:36.579167Z",
     "iopub.status.idle": "2025-07-30T21:05:36.585596Z",
     "shell.execute_reply": "2025-07-30T21:05:36.584504Z"
    },
    "papermill": {
     "duration": 0.040949,
     "end_time": "2025-07-30T21:05:36.587376",
     "exception": false,
     "start_time": "2025-07-30T21:05:36.546427",
     "status": "completed"
    },
    "tags": []
   },
   "outputs": [],
   "source": [
    "def filter_sub_universe_data(sub_universe, org_test):\n",
    "    # Keep all rows — no filtering\n",
    "    keep_rows_mask = np.ones(org_test.shape[0], dtype=bool)\n",
    "\n",
    "    print(f\"[INFO] Keeping all rows: {keep_rows_mask.sum()} rows retained.\")\n",
    "    return keep_rows_mask"
   ]
  },
  {
   "cell_type": "code",
   "execution_count": 79,
   "id": "4a759155",
   "metadata": {
    "execution": {
     "iopub.execute_input": "2025-07-30T21:05:36.648862Z",
     "iopub.status.busy": "2025-07-30T21:05:36.648000Z",
     "iopub.status.idle": "2025-07-30T21:05:47.415045Z",
     "shell.execute_reply": "2025-07-30T21:05:47.414339Z"
    },
    "papermill": {
     "duration": 10.798263,
     "end_time": "2025-07-30T21:05:47.416326",
     "exception": false,
     "start_time": "2025-07-30T21:05:36.618063",
     "status": "completed"
    },
    "tags": []
   },
   "outputs": [
    {
     "name": "stdout",
     "output_type": "stream",
     "text": [
      "Stopping execution_time clock.\n",
      "[INFO] Keeping all rows: 89710 rows retained.\n"
     ]
    },
    {
     "name": "stdout",
     "output_type": "stream",
     "text": [
      "[INFO] Keeping all rows: 89710 rows retained.\n"
     ]
    },
    {
     "name": "stdout",
     "output_type": "stream",
     "text": [
      "[INFO] Keeping all rows: 89710 rows retained.\n"
     ]
    },
    {
     "name": "stdout",
     "output_type": "stream",
     "text": [
      "[INFO] Keeping all rows: 89710 rows retained.\n"
     ]
    },
    {
     "data": {
      "text/html": [
       "<div>\n",
       "<style scoped>\n",
       "    .dataframe tbody tr th:only-of-type {\n",
       "        vertical-align: middle;\n",
       "    }\n",
       "\n",
       "    .dataframe tbody tr th {\n",
       "        vertical-align: top;\n",
       "    }\n",
       "\n",
       "    .dataframe thead th {\n",
       "        text-align: right;\n",
       "    }\n",
       "</style>\n",
       "<table border=\"1\" class=\"dataframe\">\n",
       "  <thead>\n",
       "    <tr style=\"text-align: right;\">\n",
       "      <th></th>\n",
       "      <th>run_no</th>\n",
       "      <th>universe_id</th>\n",
       "      <th>universe_settings</th>\n",
       "      <th>execution_time</th>\n",
       "      <th>test_size_n</th>\n",
       "      <th>test_size_frac</th>\n",
       "      <th>fair_main_equalized_odds_difference</th>\n",
       "      <th>fair_main_equalized_odds_ratio</th>\n",
       "      <th>fair_main_demographic_parity_difference</th>\n",
       "      <th>fair_main_demographic_parity_ratio</th>\n",
       "      <th>...</th>\n",
       "      <th>perf_grp_precision_0</th>\n",
       "      <th>perf_grp_precision_1</th>\n",
       "      <th>perf_grp_false positive rate_0</th>\n",
       "      <th>perf_grp_false positive rate_1</th>\n",
       "      <th>perf_grp_false negative rate_0</th>\n",
       "      <th>perf_grp_false negative rate_1</th>\n",
       "      <th>perf_grp_selection rate_0</th>\n",
       "      <th>perf_grp_selection rate_1</th>\n",
       "      <th>perf_grp_count_0</th>\n",
       "      <th>perf_grp_count_1</th>\n",
       "    </tr>\n",
       "  </thead>\n",
       "  <tbody>\n",
       "    <tr>\n",
       "      <th>0</th>\n",
       "      <td>14</td>\n",
       "      <td>2a84156d94cbd52f7a2ad73d7d58f394</td>\n",
       "      <td>{\"cutoff\": \"quantile_0.1\", \"eval_fairness_grou...</td>\n",
       "      <td>32.581668</td>\n",
       "      <td>89710</td>\n",
       "      <td>1.0</td>\n",
       "      <td>0.015602</td>\n",
       "      <td>0.984197</td>\n",
       "      <td>0.011062</td>\n",
       "      <td>0.988011</td>\n",
       "      <td>...</td>\n",
       "      <td>NaN</td>\n",
       "      <td>NaN</td>\n",
       "      <td>NaN</td>\n",
       "      <td>NaN</td>\n",
       "      <td>NaN</td>\n",
       "      <td>NaN</td>\n",
       "      <td>NaN</td>\n",
       "      <td>NaN</td>\n",
       "      <td>NaN</td>\n",
       "      <td>NaN</td>\n",
       "    </tr>\n",
       "    <tr>\n",
       "      <th>0</th>\n",
       "      <td>14</td>\n",
       "      <td>2a84156d94cbd52f7a2ad73d7d58f394</td>\n",
       "      <td>{\"cutoff\": \"quantile_0.1\", \"eval_fairness_grou...</td>\n",
       "      <td>32.581668</td>\n",
       "      <td>89710</td>\n",
       "      <td>1.0</td>\n",
       "      <td>0.015602</td>\n",
       "      <td>0.984197</td>\n",
       "      <td>0.011062</td>\n",
       "      <td>0.988011</td>\n",
       "      <td>...</td>\n",
       "      <td>0.122884</td>\n",
       "      <td>0.141391</td>\n",
       "      <td>0.903808</td>\n",
       "      <td>0.912860</td>\n",
       "      <td>0.028294</td>\n",
       "      <td>0.012691</td>\n",
       "      <td>0.911636</td>\n",
       "      <td>0.922698</td>\n",
       "      <td>20540.0</td>\n",
       "      <td>69170.0</td>\n",
       "    </tr>\n",
       "    <tr>\n",
       "      <th>0</th>\n",
       "      <td>14</td>\n",
       "      <td>2a84156d94cbd52f7a2ad73d7d58f394</td>\n",
       "      <td>{\"cutoff\": \"quantile_0.25\", \"eval_fairness_gro...</td>\n",
       "      <td>32.581668</td>\n",
       "      <td>89710</td>\n",
       "      <td>1.0</td>\n",
       "      <td>0.064431</td>\n",
       "      <td>0.931722</td>\n",
       "      <td>0.006713</td>\n",
       "      <td>0.991126</td>\n",
       "      <td>...</td>\n",
       "      <td>NaN</td>\n",
       "      <td>NaN</td>\n",
       "      <td>NaN</td>\n",
       "      <td>NaN</td>\n",
       "      <td>NaN</td>\n",
       "      <td>NaN</td>\n",
       "      <td>NaN</td>\n",
       "      <td>NaN</td>\n",
       "      <td>NaN</td>\n",
       "      <td>NaN</td>\n",
       "    </tr>\n",
       "    <tr>\n",
       "      <th>0</th>\n",
       "      <td>14</td>\n",
       "      <td>2a84156d94cbd52f7a2ad73d7d58f394</td>\n",
       "      <td>{\"cutoff\": \"quantile_0.25\", \"eval_fairness_gro...</td>\n",
       "      <td>32.581668</td>\n",
       "      <td>89710</td>\n",
       "      <td>1.0</td>\n",
       "      <td>0.064431</td>\n",
       "      <td>0.931722</td>\n",
       "      <td>0.006713</td>\n",
       "      <td>0.991126</td>\n",
       "      <td>...</td>\n",
       "      <td>0.135195</td>\n",
       "      <td>0.164835</td>\n",
       "      <td>0.732886</td>\n",
       "      <td>0.727969</td>\n",
       "      <td>0.120777</td>\n",
       "      <td>0.056346</td>\n",
       "      <td>0.749757</td>\n",
       "      <td>0.756470</td>\n",
       "      <td>20540.0</td>\n",
       "      <td>69170.0</td>\n",
       "    </tr>\n",
       "  </tbody>\n",
       "</table>\n",
       "<p>4 rows × 50 columns</p>\n",
       "</div>"
      ],
      "text/plain": [
       "  run_no                       universe_id  \\\n",
       "0     14  2a84156d94cbd52f7a2ad73d7d58f394   \n",
       "0     14  2a84156d94cbd52f7a2ad73d7d58f394   \n",
       "0     14  2a84156d94cbd52f7a2ad73d7d58f394   \n",
       "0     14  2a84156d94cbd52f7a2ad73d7d58f394   \n",
       "\n",
       "                                   universe_settings  execution_time  \\\n",
       "0  {\"cutoff\": \"quantile_0.1\", \"eval_fairness_grou...       32.581668   \n",
       "0  {\"cutoff\": \"quantile_0.1\", \"eval_fairness_grou...       32.581668   \n",
       "0  {\"cutoff\": \"quantile_0.25\", \"eval_fairness_gro...       32.581668   \n",
       "0  {\"cutoff\": \"quantile_0.25\", \"eval_fairness_gro...       32.581668   \n",
       "\n",
       "   test_size_n  test_size_frac  fair_main_equalized_odds_difference  \\\n",
       "0        89710             1.0                             0.015602   \n",
       "0        89710             1.0                             0.015602   \n",
       "0        89710             1.0                             0.064431   \n",
       "0        89710             1.0                             0.064431   \n",
       "\n",
       "   fair_main_equalized_odds_ratio  fair_main_demographic_parity_difference  \\\n",
       "0                        0.984197                                 0.011062   \n",
       "0                        0.984197                                 0.011062   \n",
       "0                        0.931722                                 0.006713   \n",
       "0                        0.931722                                 0.006713   \n",
       "\n",
       "   fair_main_demographic_parity_ratio  ...  perf_grp_precision_0  \\\n",
       "0                            0.988011  ...                   NaN   \n",
       "0                            0.988011  ...              0.122884   \n",
       "0                            0.991126  ...                   NaN   \n",
       "0                            0.991126  ...              0.135195   \n",
       "\n",
       "   perf_grp_precision_1  perf_grp_false positive rate_0  \\\n",
       "0                   NaN                             NaN   \n",
       "0              0.141391                        0.903808   \n",
       "0                   NaN                             NaN   \n",
       "0              0.164835                        0.732886   \n",
       "\n",
       "   perf_grp_false positive rate_1  perf_grp_false negative rate_0  \\\n",
       "0                             NaN                             NaN   \n",
       "0                        0.912860                        0.028294   \n",
       "0                             NaN                             NaN   \n",
       "0                        0.727969                        0.120777   \n",
       "\n",
       "   perf_grp_false negative rate_1  perf_grp_selection rate_0  \\\n",
       "0                             NaN                        NaN   \n",
       "0                        0.012691                   0.911636   \n",
       "0                             NaN                        NaN   \n",
       "0                        0.056346                   0.749757   \n",
       "\n",
       "   perf_grp_selection rate_1  perf_grp_count_0  perf_grp_count_1  \n",
       "0                        NaN               NaN               NaN  \n",
       "0                   0.922698           20540.0           69170.0  \n",
       "0                        NaN               NaN               NaN  \n",
       "0                   0.756470           20540.0           69170.0  \n",
       "\n",
       "[4 rows x 50 columns]"
      ]
     },
     "execution_count": 79,
     "metadata": {},
     "output_type": "execute_result"
    }
   ],
   "source": [
    "final_output = universe_analysis.generate_final_output(\n",
    "    y_pred_prob=probs_test,\n",
    "    y_test=y_true,\n",
    "    org_test=org_test,\n",
    "    filter_data=filter_sub_universe_data,\n",
    "    cp_metrics_df=cp_metrics_df,\n",
    "    save=True,\n",
    ")\n",
    "final_output"
   ]
  },
  {
   "cell_type": "code",
   "execution_count": null,
   "id": "721ff514-cb11-46f8-b6fc-50392f74b5cb",
   "metadata": {
    "papermill": {
     "duration": 0.015405,
     "end_time": "2025-07-30T21:05:47.452165",
     "exception": false,
     "start_time": "2025-07-30T21:05:47.436760",
     "status": "completed"
    },
    "tags": []
   },
   "outputs": [],
   "source": []
  }
 ],
 "metadata": {
  "celltoolbar": "Tags",
  "kernelspec": {
   "display_name": "Python (CMA Fairness)",
   "language": "python",
   "name": "cma_fair_env"
  },
  "language_info": {
   "codemirror_mode": {
    "name": "ipython",
    "version": 3
   },
   "file_extension": ".py",
   "mimetype": "text/x-python",
   "name": "python",
   "nbconvert_exporter": "python",
   "pygments_lexer": "ipython3",
   "version": "3.10.12"
  },
  "papermill": {
   "default_parameters": {},
   "duration": 47.332872,
   "end_time": "2025-07-30T21:05:48.196752",
   "environment_variables": {},
   "exception": null,
   "input_path": "universe_analysis.ipynb",
   "output_path": "output/runs/14/notebooks/m_14-2a84156d94cbd52f7a2ad73d7d58f394.ipynb",
   "parameters": {
    "output_dir": "output",
    "run_no": "14",
    "seed": "2023",
    "universe": "{\"cutoff\": [\"quantile_0.1\", \"quantile_0.25\"], \"eval_fairness_grouping\": [\"majority-minority\", \"nationality-all\"], \"exclude_features\": \"sex\", \"exclude_subgroups\": \"drop-non-german\", \"model\": \"rf\", \"scale\": \"do-not-scale\", \"training_size\": \"5k\", \"training_year\": \"2012_14\"}",
    "universe_id": "2a84156d94cbd52f7a2ad73d7d58f394"
   },
   "start_time": "2025-07-30T21:05:00.863880",
   "version": "2.6.0"
  }
 },
 "nbformat": 4,
 "nbformat_minor": 5
}