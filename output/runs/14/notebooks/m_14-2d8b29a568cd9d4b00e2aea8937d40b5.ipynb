{
 "cells": [
  {
   "cell_type": "code",
   "execution_count": 1,
   "id": "f159f837-637b-42ba-96b5-ec9a68c44524",
   "metadata": {
    "execution": {
     "iopub.execute_input": "2025-07-30T20:47:04.252821Z",
     "iopub.status.busy": "2025-07-30T20:47:04.252348Z",
     "iopub.status.idle": "2025-07-30T20:47:04.265415Z",
     "shell.execute_reply": "2025-07-30T20:47:04.264585Z"
    },
    "papermill": {
     "duration": 0.039304,
     "end_time": "2025-07-30T20:47:04.267180",
     "exception": false,
     "start_time": "2025-07-30T20:47:04.227876",
     "status": "completed"
    },
    "tags": []
   },
   "outputs": [
    {
     "name": "stdout",
     "output_type": "stream",
     "text": [
      "/dss/dsshome1/0C/ra93lal2/cma/CMA_Fairness_v2\n"
     ]
    },
    {
     "name": "stderr",
     "output_type": "stream",
     "text": [
      "/dss/dsshome1/0C/ra93lal2/.local/share/virtualenvs/CMA_Fairness_v2-3j10GkSs/lib/python3.10/site-packages/IPython/core/magics/osm.py:393: UserWarning: This is now an optional IPython functionality, using bookmarks requires you to install the `pickleshare` library.\n",
      "  bkms = self.shell.db.get('bookmarks', {})\n",
      "/dss/dsshome1/0C/ra93lal2/.local/share/virtualenvs/CMA_Fairness_v2-3j10GkSs/lib/python3.10/site-packages/IPython/core/magics/osm.py:417: UserWarning: This is now an optional IPython functionality, setting dhist requires you to install the `pickleshare` library.\n",
      "  self.shell.db['dhist'] = compress_dhist(dhist)[-100:]\n"
     ]
    }
   ],
   "source": [
    "%cd ~/cma/CMA_Fairness_v2"
   ]
  },
  {
   "cell_type": "markdown",
   "id": "de2603b9",
   "metadata": {
    "papermill": {
     "duration": 0.017645,
     "end_time": "2025-07-30T20:47:04.304173",
     "exception": false,
     "start_time": "2025-07-30T20:47:04.286528",
     "status": "completed"
    },
    "tags": []
   },
   "source": [
    "The following cell holds the definition of our parameters, these values can be overriden by rendering the with e.g. the following command:\n",
    "\n",
    "papermill -p alpha 0.2 -p ratio 0.3 universe_analysis.ipynb output/test_run.ipynb"
   ]
  },
  {
   "cell_type": "code",
   "execution_count": 2,
   "id": "a80968a0-40bb-4fa9-85ef-2d5eefb01975",
   "metadata": {
    "execution": {
     "iopub.execute_input": "2025-07-30T20:47:04.342738Z",
     "iopub.status.busy": "2025-07-30T20:47:04.341672Z",
     "iopub.status.idle": "2025-07-30T20:47:04.347388Z",
     "shell.execute_reply": "2025-07-30T20:47:04.346415Z"
    },
    "papermill": {
     "duration": 0.026746,
     "end_time": "2025-07-30T20:47:04.348960",
     "exception": false,
     "start_time": "2025-07-30T20:47:04.322214",
     "status": "completed"
    },
    "tags": []
   },
   "outputs": [
    {
     "name": "stdout",
     "output_type": "stream",
     "text": [
      "Current working directory: /dss/dsshome1/0C/ra93lal2/cma/CMA_Fairness_v2\n"
     ]
    }
   ],
   "source": [
    "import os\n",
    "print(\"Current working directory:\", os.getcwd())"
   ]
  },
  {
   "cell_type": "code",
   "execution_count": 3,
   "id": "2dce4c03",
   "metadata": {
    "execution": {
     "iopub.execute_input": "2025-07-30T20:47:04.387374Z",
     "iopub.status.busy": "2025-07-30T20:47:04.386875Z",
     "iopub.status.idle": "2025-07-30T20:47:04.392815Z",
     "shell.execute_reply": "2025-07-30T20:47:04.391927Z"
    },
    "papermill": {
     "duration": 0.026616,
     "end_time": "2025-07-30T20:47:04.394313",
     "exception": false,
     "start_time": "2025-07-30T20:47:04.367697",
     "status": "completed"
    },
    "tags": [
     "parameters"
    ]
   },
   "outputs": [],
   "source": [
    "run_no = 0\n",
    "universe_id = \"test\"\n",
    "universe = {\n",
    "    \"training_size\": \"25k\", # \"25k\", \"5k\", \"1k\"\n",
    "    \"training_year\": \"2014\", # \"2014\", \"2012_14\", \"2010_14\"\n",
    "    \"scale\": \"scale\", # \"scale\", \"do-not-scale\",\n",
    "    #\"stratify_split\": \"target\", # \"none\", \"target\", \"protected-attribute\", \"both\",\n",
    "    \"model\": \"elasticnet\", # \"logreg\", \"penalized_logreg\", \"rf\", \"gbm\", \"elasticnet\"\n",
    "    \"cutoff\": [\"quantile_0.15\", \"quantile_0.30\"],\n",
    "    \"exclude_features\": \"age\", # \"none\", \"nationality\", \"sex\", \"nationality-sex\", \"age\"\n",
    "    \"exclude_subgroups\": \"keep-all\", # \"keep-all\", \"drop-non-german\"\n",
    "    \"eval_fairness_grouping\": [\"majority-minority\", \"nationality-all\"]\n",
    "}\n",
    "\n",
    "output_dir=\"./output\"\n",
    "seed=0"
   ]
  },
  {
   "cell_type": "code",
   "execution_count": 4,
   "id": "63730e07",
   "metadata": {
    "execution": {
     "iopub.execute_input": "2025-07-30T20:47:04.432945Z",
     "iopub.status.busy": "2025-07-30T20:47:04.432237Z",
     "iopub.status.idle": "2025-07-30T20:47:04.437506Z",
     "shell.execute_reply": "2025-07-30T20:47:04.436704Z"
    },
    "papermill": {
     "duration": 0.026295,
     "end_time": "2025-07-30T20:47:04.438960",
     "exception": false,
     "start_time": "2025-07-30T20:47:04.412665",
     "status": "completed"
    },
    "tags": [
     "injected-parameters"
    ]
   },
   "outputs": [],
   "source": [
    "# Parameters\n",
    "universe_id = \"2d8b29a568cd9d4b00e2aea8937d40b5\"\n",
    "run_no = \"14\"\n",
    "universe = \"{\\\"cutoff\\\": [\\\"quantile_0.1\\\", \\\"quantile_0.25\\\"], \\\"eval_fairness_grouping\\\": [\\\"majority-minority\\\", \\\"nationality-all\\\"], \\\"exclude_features\\\": \\\"age\\\", \\\"exclude_subgroups\\\": \\\"drop-non-german\\\", \\\"model\\\": \\\"rf\\\", \\\"scale\\\": \\\"scale\\\", \\\"training_size\\\": \\\"5k\\\", \\\"training_year\\\": \\\"2014\\\"}\"\n",
    "output_dir = \"output\"\n",
    "seed = \"2023\"\n"
   ]
  },
  {
   "cell_type": "code",
   "execution_count": 5,
   "id": "1650acaf",
   "metadata": {
    "execution": {
     "iopub.execute_input": "2025-07-30T20:47:04.476560Z",
     "iopub.status.busy": "2025-07-30T20:47:04.475977Z",
     "iopub.status.idle": "2025-07-30T20:47:04.481863Z",
     "shell.execute_reply": "2025-07-30T20:47:04.480990Z"
    },
    "papermill": {
     "duration": 0.026196,
     "end_time": "2025-07-30T20:47:04.483365",
     "exception": false,
     "start_time": "2025-07-30T20:47:04.457169",
     "status": "completed"
    },
    "tags": []
   },
   "outputs": [],
   "source": [
    "import json\n",
    "# Parse universe into dict if it is passed as a string\n",
    "if isinstance(universe, str):\n",
    "    universe = json.loads(universe)"
   ]
  },
  {
   "cell_type": "code",
   "execution_count": 6,
   "id": "16620c48",
   "metadata": {
    "execution": {
     "iopub.execute_input": "2025-07-30T20:47:04.522214Z",
     "iopub.status.busy": "2025-07-30T20:47:04.521768Z",
     "iopub.status.idle": "2025-07-30T20:47:04.564154Z",
     "shell.execute_reply": "2025-07-30T20:47:04.563280Z"
    },
    "papermill": {
     "duration": 0.063822,
     "end_time": "2025-07-30T20:47:04.566023",
     "exception": false,
     "start_time": "2025-07-30T20:47:04.502201",
     "status": "completed"
    },
    "tags": []
   },
   "outputs": [],
   "source": [
    "# Auto-reload the custom package\n",
    "%load_ext autoreload\n",
    "%autoreload 1\n",
    "%aimport fairness_multiverse"
   ]
  },
  {
   "cell_type": "code",
   "execution_count": 7,
   "id": "01c5c9f3",
   "metadata": {
    "execution": {
     "iopub.execute_input": "2025-07-30T20:47:04.605843Z",
     "iopub.status.busy": "2025-07-30T20:47:04.605132Z",
     "iopub.status.idle": "2025-07-30T20:47:06.496107Z",
     "shell.execute_reply": "2025-07-30T20:47:06.495190Z"
    },
    "papermill": {
     "duration": 1.912548,
     "end_time": "2025-07-30T20:47:06.497815",
     "exception": false,
     "start_time": "2025-07-30T20:47:04.585267",
     "status": "completed"
    },
    "tags": []
   },
   "outputs": [],
   "source": [
    "from fairness_multiverse.universe import UniverseAnalysis\n",
    "\n",
    "universe_analysis = UniverseAnalysis(\n",
    "    run_no = run_no,\n",
    "    universe_id = universe_id,\n",
    "    universe = universe,\n",
    "    output_dir=output_dir,\n",
    ")"
   ]
  },
  {
   "cell_type": "code",
   "execution_count": 8,
   "id": "106241f5",
   "metadata": {
    "execution": {
     "iopub.execute_input": "2025-07-30T20:47:06.541313Z",
     "iopub.status.busy": "2025-07-30T20:47:06.540767Z",
     "iopub.status.idle": "2025-07-30T20:47:06.547955Z",
     "shell.execute_reply": "2025-07-30T20:47:06.547076Z"
    },
    "papermill": {
     "duration": 0.028869,
     "end_time": "2025-07-30T20:47:06.549581",
     "exception": false,
     "start_time": "2025-07-30T20:47:06.520712",
     "status": "completed"
    },
    "tags": []
   },
   "outputs": [
    {
     "name": "stdout",
     "output_type": "stream",
     "text": [
      "Using Seed: 2023\n"
     ]
    }
   ],
   "source": [
    "import numpy as np\n",
    "parsed_seed = int(seed)\n",
    "np.random.seed(parsed_seed)\n",
    "print(f\"Using Seed: {parsed_seed}\")"
   ]
  },
  {
   "cell_type": "markdown",
   "id": "e0ebdc57",
   "metadata": {
    "papermill": {
     "duration": 0.019287,
     "end_time": "2025-07-30T20:47:06.587856",
     "exception": false,
     "start_time": "2025-07-30T20:47:06.568569",
     "status": "completed"
    },
    "tags": []
   },
   "source": [
    "# Loading Data"
   ]
  },
  {
   "cell_type": "markdown",
   "id": "681925a3",
   "metadata": {
    "papermill": {
     "duration": 0.019202,
     "end_time": "2025-07-30T20:47:06.627639",
     "exception": false,
     "start_time": "2025-07-30T20:47:06.608437",
     "status": "completed"
    },
    "tags": []
   },
   "source": [
    "Load siab_train, siab_test, siab_calib and/or \n",
    "load siab_train_features, siab_train_labels"
   ]
  },
  {
   "cell_type": "code",
   "execution_count": 9,
   "id": "f0496b8a",
   "metadata": {
    "execution": {
     "iopub.execute_input": "2025-07-30T20:47:06.667859Z",
     "iopub.status.busy": "2025-07-30T20:47:06.667018Z",
     "iopub.status.idle": "2025-07-30T20:47:18.367319Z",
     "shell.execute_reply": "2025-07-30T20:47:18.366470Z"
    },
    "papermill": {
     "duration": 11.722051,
     "end_time": "2025-07-30T20:47:18.368648",
     "exception": false,
     "start_time": "2025-07-30T20:47:06.646597",
     "status": "completed"
    },
    "tags": []
   },
   "outputs": [
    {
     "name": "stdout",
     "output_type": "stream",
     "text": [
      "Loading SIAB data from cache: data/siab_cached.csv.gz\n"
     ]
    },
    {
     "name": "stdout",
     "output_type": "stream",
     "text": [
      "(643690, 164)\n"
     ]
    }
   ],
   "source": [
    "from pathlib import Path\n",
    "import pandas as pd\n",
    "\n",
    "# File paths\n",
    "raw_file = Path(\"data/raw/siab.csv\")\n",
    "cache_file = Path(\"data/siab_cached.csv.gz\")\n",
    "\n",
    "# Ensure cache directory exists\n",
    "cache_file.parent.mkdir(parents=True, exist_ok=True)\n",
    "\n",
    "# Load with simple caching\n",
    "if cache_file.exists():\n",
    "    print(f\"Loading SIAB data from cache: {cache_file}\")\n",
    "    siab = pd.read_csv(cache_file, compression='gzip')\n",
    "else:\n",
    "    print(f\"Cache not found. Reading raw SIAB data: {raw_file}\")\n",
    "    siab = pd.read_csv(raw_file)\n",
    "    siab.to_csv(cache_file, index=False, compression='gzip')\n",
    "    print(f\"Cached SIAB data to: {cache_file}\")\n",
    "\n",
    "# Now use `siab` DataFrame as needed\n",
    "print(siab.shape)"
   ]
  },
  {
   "cell_type": "code",
   "execution_count": 10,
   "id": "db0ca512-5f53-4dba-abdb-a2888bca41ba",
   "metadata": {
    "execution": {
     "iopub.execute_input": "2025-07-30T20:47:18.396876Z",
     "iopub.status.busy": "2025-07-30T20:47:18.396481Z",
     "iopub.status.idle": "2025-07-30T20:47:18.401118Z",
     "shell.execute_reply": "2025-07-30T20:47:18.400167Z"
    },
    "papermill": {
     "duration": 0.020183,
     "end_time": "2025-07-30T20:47:18.402459",
     "exception": false,
     "start_time": "2025-07-30T20:47:18.382276",
     "status": "completed"
    },
    "tags": []
   },
   "outputs": [],
   "source": [
    "#siab"
   ]
  },
  {
   "cell_type": "code",
   "execution_count": 11,
   "id": "a0edb063",
   "metadata": {
    "execution": {
     "iopub.execute_input": "2025-07-30T20:47:18.426920Z",
     "iopub.status.busy": "2025-07-30T20:47:18.426480Z",
     "iopub.status.idle": "2025-07-30T20:47:18.431829Z",
     "shell.execute_reply": "2025-07-30T20:47:18.430800Z"
    },
    "papermill": {
     "duration": 0.019121,
     "end_time": "2025-07-30T20:47:18.433576",
     "exception": false,
     "start_time": "2025-07-30T20:47:18.414455",
     "status": "completed"
    },
    "tags": []
   },
   "outputs": [],
   "source": [
    "#import pandas as pd\n",
    "#\n",
    "#X_train = pd.read_csv(\"./data/X_train.csv\")\n",
    "#y_train = pd.read_csv(\"./data/y_train.csv\")"
   ]
  },
  {
   "cell_type": "code",
   "execution_count": 12,
   "id": "63d08085",
   "metadata": {
    "execution": {
     "iopub.execute_input": "2025-07-30T20:47:18.481411Z",
     "iopub.status.busy": "2025-07-30T20:47:18.480721Z",
     "iopub.status.idle": "2025-07-30T20:47:18.485930Z",
     "shell.execute_reply": "2025-07-30T20:47:18.484958Z"
    },
    "papermill": {
     "duration": 0.029146,
     "end_time": "2025-07-30T20:47:18.487782",
     "exception": false,
     "start_time": "2025-07-30T20:47:18.458636",
     "status": "completed"
    },
    "tags": []
   },
   "outputs": [],
   "source": [
    "#X_test = pd.read_csv(\"./data/X_test.csv\")\n",
    "#y_true = pd.read_csv(\"./data/y_test.csv\")"
   ]
  },
  {
   "cell_type": "code",
   "execution_count": 13,
   "id": "98a8d0fa-1d3d-4ed8-bb2c-281470e24add",
   "metadata": {
    "execution": {
     "iopub.execute_input": "2025-07-30T20:47:18.530634Z",
     "iopub.status.busy": "2025-07-30T20:47:18.529689Z",
     "iopub.status.idle": "2025-07-30T20:47:18.536615Z",
     "shell.execute_reply": "2025-07-30T20:47:18.535699Z"
    },
    "papermill": {
     "duration": 0.044711,
     "end_time": "2025-07-30T20:47:18.553175",
     "exception": false,
     "start_time": "2025-07-30T20:47:18.508464",
     "status": "completed"
    },
    "tags": []
   },
   "outputs": [],
   "source": [
    "# Calibration data for conformal\n",
    "#X_calib = pd.read_csv(\"./data/X_calib.csv\")\n",
    "#y_calib = pd.read_csv(\"./data/y_calib.csv\")"
   ]
  },
  {
   "cell_type": "markdown",
   "id": "997051c5-15bd-4b69-9786-c3001a3ce484",
   "metadata": {
    "papermill": {
     "duration": 0.020261,
     "end_time": "2025-07-30T20:47:18.602047",
     "exception": false,
     "start_time": "2025-07-30T20:47:18.581786",
     "status": "completed"
    },
    "tags": []
   },
   "source": [
    "# Splitting Data and Setting Training Data Size"
   ]
  },
  {
   "cell_type": "code",
   "execution_count": 14,
   "id": "e993b61f-042d-41a6-8c81-f55681f86335",
   "metadata": {
    "execution": {
     "iopub.execute_input": "2025-07-30T20:47:18.645690Z",
     "iopub.status.busy": "2025-07-30T20:47:18.645198Z",
     "iopub.status.idle": "2025-07-30T20:47:18.659870Z",
     "shell.execute_reply": "2025-07-30T20:47:18.658758Z"
    },
    "papermill": {
     "duration": 0.039222,
     "end_time": "2025-07-30T20:47:18.661794",
     "exception": false,
     "start_time": "2025-07-30T20:47:18.622572",
     "status": "completed"
    },
    "tags": []
   },
   "outputs": [],
   "source": [
    "def sample_by_year_size(df,\n",
    "                        training_year: str,\n",
    "                        training_size: str,\n",
    "                        random_state: int = 42):\n",
    "    # --- parse training_year into a list of int years ---\n",
    "    if \"_\" in training_year:\n",
    "        start_str, end_str = training_year.split(\"_\", 1)\n",
    "        start = int(start_str)\n",
    "        end   = int(end_str) if len(end_str) == 4 else (int(end_str) + (start // 100)*100)\n",
    "        years = list(range(start, end + 1))\n",
    "    else:\n",
    "        years = [int(training_year)]\n",
    "\n",
    "    df = df[df[\"year\"].isin(years)].reset_index(drop=True)\n",
    "\n",
    "    # --- map training_size to total number of samples ---\n",
    "    total_map = {\"25k\": 25_000, \"5k\": 5_000, \"1k\": 1_000}\n",
    "    if training_size not in total_map:\n",
    "        return df  # e.g. \"all\"\n",
    "\n",
    "    total_samples = total_map[training_size]\n",
    "    n_years       = len(years)\n",
    "    base          = total_samples // n_years\n",
    "    remainder     = total_samples % n_years\n",
    "\n",
    "    # --- build a dict: year -> how many to sample ---\n",
    "    # give +1 to the first `remainder` years in ascending order\n",
    "    quotas = {\n",
    "        year: base + (1 if idx < remainder else 0)\n",
    "        for idx, year in enumerate(sorted(years))\n",
    "    }\n",
    "\n",
    "    # --- sample per‐year according to the quota dict ---\n",
    "    sampled = (\n",
    "        df\n",
    "        .groupby(\"year\", group_keys=False)\n",
    "        .apply(lambda grp: grp.sample(\n",
    "            n=min(len(grp), quotas[grp.name]),\n",
    "            random_state=random_state))\n",
    "        .reset_index(drop=True)\n",
    "    )\n",
    "\n",
    "    return sampled"
   ]
  },
  {
   "cell_type": "code",
   "execution_count": 15,
   "id": "c0ccd338-0e02-41f3-a09d-f56f9266e3fb",
   "metadata": {
    "execution": {
     "iopub.execute_input": "2025-07-30T20:47:18.705243Z",
     "iopub.status.busy": "2025-07-30T20:47:18.704557Z",
     "iopub.status.idle": "2025-07-30T20:47:18.709672Z",
     "shell.execute_reply": "2025-07-30T20:47:18.708763Z"
    },
    "papermill": {
     "duration": 0.027898,
     "end_time": "2025-07-30T20:47:18.711308",
     "exception": false,
     "start_time": "2025-07-30T20:47:18.683410",
     "status": "completed"
    },
    "tags": []
   },
   "outputs": [],
   "source": [
    "#universe[\"training_size\"]"
   ]
  },
  {
   "cell_type": "code",
   "execution_count": 16,
   "id": "ca707fd7-8047-4acd-bfa5-66248fbbf8e6",
   "metadata": {
    "execution": {
     "iopub.execute_input": "2025-07-30T20:47:18.755266Z",
     "iopub.status.busy": "2025-07-30T20:47:18.754575Z",
     "iopub.status.idle": "2025-07-30T20:47:18.759981Z",
     "shell.execute_reply": "2025-07-30T20:47:18.759066Z"
    },
    "papermill": {
     "duration": 0.029148,
     "end_time": "2025-07-30T20:47:18.761991",
     "exception": false,
     "start_time": "2025-07-30T20:47:18.732843",
     "status": "completed"
    },
    "tags": []
   },
   "outputs": [],
   "source": [
    "#universe[\"training_year\"]"
   ]
  },
  {
   "cell_type": "code",
   "execution_count": 17,
   "id": "aea9c6ef-6f46-42c8-85eb-5a62025c1508",
   "metadata": {
    "execution": {
     "iopub.execute_input": "2025-07-30T20:47:18.805222Z",
     "iopub.status.busy": "2025-07-30T20:47:18.804725Z",
     "iopub.status.idle": "2025-07-30T20:47:19.030092Z",
     "shell.execute_reply": "2025-07-30T20:47:19.029103Z"
    },
    "papermill": {
     "duration": 0.249244,
     "end_time": "2025-07-30T20:47:19.031980",
     "exception": false,
     "start_time": "2025-07-30T20:47:18.782736",
     "status": "completed"
    },
    "tags": []
   },
   "outputs": [],
   "source": [
    "siab_train = sample_by_year_size(siab,\n",
    "                               training_year=universe[\"training_year\"],\n",
    "                               training_size=universe[\"training_size\"])"
   ]
  },
  {
   "cell_type": "code",
   "execution_count": 18,
   "id": "8d3afb32-789d-442c-8d5d-9f5aa8dd2eed",
   "metadata": {
    "execution": {
     "iopub.execute_input": "2025-07-30T20:47:19.075299Z",
     "iopub.status.busy": "2025-07-30T20:47:19.074449Z",
     "iopub.status.idle": "2025-07-30T20:47:19.080415Z",
     "shell.execute_reply": "2025-07-30T20:47:19.079389Z"
    },
    "papermill": {
     "duration": 0.029108,
     "end_time": "2025-07-30T20:47:19.082223",
     "exception": false,
     "start_time": "2025-07-30T20:47:19.053115",
     "status": "completed"
    },
    "tags": []
   },
   "outputs": [],
   "source": [
    "#siab_train.shape"
   ]
  },
  {
   "cell_type": "code",
   "execution_count": 19,
   "id": "d582db68-1a4c-47fb-84fc-08518dc1975a",
   "metadata": {
    "execution": {
     "iopub.execute_input": "2025-07-30T20:47:19.126526Z",
     "iopub.status.busy": "2025-07-30T20:47:19.125676Z",
     "iopub.status.idle": "2025-07-30T20:47:19.130758Z",
     "shell.execute_reply": "2025-07-30T20:47:19.129892Z"
    },
    "papermill": {
     "duration": 0.028642,
     "end_time": "2025-07-30T20:47:19.132543",
     "exception": false,
     "start_time": "2025-07-30T20:47:19.103901",
     "status": "completed"
    },
    "tags": []
   },
   "outputs": [],
   "source": [
    "#display(siab_train.groupby(\"year\").size())"
   ]
  },
  {
   "cell_type": "code",
   "execution_count": 20,
   "id": "a561edb4-d032-42cb-8256-22eac1111c64",
   "metadata": {
    "execution": {
     "iopub.execute_input": "2025-07-30T20:47:19.177032Z",
     "iopub.status.busy": "2025-07-30T20:47:19.176185Z",
     "iopub.status.idle": "2025-07-30T20:47:19.416707Z",
     "shell.execute_reply": "2025-07-30T20:47:19.415755Z"
    },
    "papermill": {
     "duration": 0.265043,
     "end_time": "2025-07-30T20:47:19.418722",
     "exception": false,
     "start_time": "2025-07-30T20:47:19.153679",
     "status": "completed"
    },
    "tags": []
   },
   "outputs": [],
   "source": [
    "#siab_train = siab_s[siab_s.year < 2015]\n",
    "siab_calib = siab[siab.year == 2015]\n",
    "siab_test = siab[siab.year == 2016]"
   ]
  },
  {
   "cell_type": "code",
   "execution_count": 21,
   "id": "472de16f-c3db-4916-846b-1f0de9cf1746",
   "metadata": {
    "execution": {
     "iopub.execute_input": "2025-07-30T20:47:19.462708Z",
     "iopub.status.busy": "2025-07-30T20:47:19.462061Z",
     "iopub.status.idle": "2025-07-30T20:47:19.470577Z",
     "shell.execute_reply": "2025-07-30T20:47:19.469624Z"
    },
    "papermill": {
     "duration": 0.032059,
     "end_time": "2025-07-30T20:47:19.472154",
     "exception": false,
     "start_time": "2025-07-30T20:47:19.440095",
     "status": "completed"
    },
    "tags": []
   },
   "outputs": [],
   "source": [
    "X_train = siab_train.iloc[:,4:164]\n",
    "y_train = siab_train.iloc[:, [3]]"
   ]
  },
  {
   "cell_type": "code",
   "execution_count": 22,
   "id": "828c96af-f43a-4ed6-ba47-8ac73a47d56c",
   "metadata": {
    "execution": {
     "iopub.execute_input": "2025-07-30T20:47:19.516339Z",
     "iopub.status.busy": "2025-07-30T20:47:19.515531Z",
     "iopub.status.idle": "2025-07-30T20:47:19.568914Z",
     "shell.execute_reply": "2025-07-30T20:47:19.567905Z"
    },
    "papermill": {
     "duration": 0.077536,
     "end_time": "2025-07-30T20:47:19.570625",
     "exception": false,
     "start_time": "2025-07-30T20:47:19.493089",
     "status": "completed"
    },
    "tags": []
   },
   "outputs": [],
   "source": [
    "X_calib = siab_calib.iloc[:,4:164]\n",
    "y_calib = siab_calib.iloc[:, [3]]"
   ]
  },
  {
   "cell_type": "code",
   "execution_count": 23,
   "id": "c34be9c3-6bd6-476e-acd3-845840e303be",
   "metadata": {
    "execution": {
     "iopub.execute_input": "2025-07-30T20:47:19.615320Z",
     "iopub.status.busy": "2025-07-30T20:47:19.614458Z",
     "iopub.status.idle": "2025-07-30T20:47:19.668350Z",
     "shell.execute_reply": "2025-07-30T20:47:19.667213Z"
    },
    "papermill": {
     "duration": 0.077189,
     "end_time": "2025-07-30T20:47:19.670116",
     "exception": false,
     "start_time": "2025-07-30T20:47:19.592927",
     "status": "completed"
    },
    "tags": []
   },
   "outputs": [],
   "source": [
    "X_test = siab_test.iloc[:,4:164]\n",
    "y_true = siab_test.iloc[:, [3]]"
   ]
  },
  {
   "cell_type": "markdown",
   "id": "9901737e-04df-44f0-9100-f5ad144ed040",
   "metadata": {
    "papermill": {
     "duration": 0.020282,
     "end_time": "2025-07-30T20:47:19.712803",
     "exception": false,
     "start_time": "2025-07-30T20:47:19.692521",
     "status": "completed"
    },
    "tags": []
   },
   "source": [
    "# Splitting Data and Setting Training Data Size OLD VERSION"
   ]
  },
  {
   "cell_type": "code",
   "execution_count": 24,
   "id": "acbc8f7d-8fc8-4e86-8c59-5dcb0f58384b",
   "metadata": {
    "execution": {
     "iopub.execute_input": "2025-07-30T20:47:19.756253Z",
     "iopub.status.busy": "2025-07-30T20:47:19.755833Z",
     "iopub.status.idle": "2025-07-30T20:47:19.760985Z",
     "shell.execute_reply": "2025-07-30T20:47:19.760132Z"
    },
    "papermill": {
     "duration": 0.029027,
     "end_time": "2025-07-30T20:47:19.762584",
     "exception": false,
     "start_time": "2025-07-30T20:47:19.733557",
     "status": "completed"
    },
    "tags": []
   },
   "outputs": [],
   "source": [
    "#def sample_by_year(df, training_size, random_state=42):\n",
    "#    if training_size == \"2014\":\n",
    "#        return df[df[\"year\"] == 2014].reset_index(drop=True)\n",
    "#    \n",
    "#    size_map = {\n",
    "#        \"25k\": 5000,\n",
    "#        \"5k\": 1000,\n",
    "#        \"1k\": 200\n",
    "#    }\n",
    "#\n",
    "#    if training_size not in size_map:\n",
    "#        return df.reset_index(drop=True)  # use all data\n",
    "#\n",
    "#    n_per_year = size_map[training_size]\n",
    "#    grouped = df.groupby(\"year\")\n",
    "#    sampled = grouped.apply(lambda x: x.sample(n=min(n_per_year, len(x)), random_state=random_state))\n",
    "#    return sampled.reset_index(drop=True)"
   ]
  },
  {
   "cell_type": "code",
   "execution_count": 25,
   "id": "6d931f52-beaf-43ff-9e78-9d44a448d54e",
   "metadata": {
    "execution": {
     "iopub.execute_input": "2025-07-30T20:47:19.807056Z",
     "iopub.status.busy": "2025-07-30T20:47:19.806051Z",
     "iopub.status.idle": "2025-07-30T20:47:19.811480Z",
     "shell.execute_reply": "2025-07-30T20:47:19.810552Z"
    },
    "papermill": {
     "duration": 0.029732,
     "end_time": "2025-07-30T20:47:19.813205",
     "exception": false,
     "start_time": "2025-07-30T20:47:19.783473",
     "status": "completed"
    },
    "tags": []
   },
   "outputs": [],
   "source": [
    "#siab_s = sample_by_year(siab, universe[\"training_size\"])"
   ]
  },
  {
   "cell_type": "code",
   "execution_count": 26,
   "id": "5db0a40e-a4e2-4920-be85-b12ae061d70d",
   "metadata": {
    "execution": {
     "iopub.execute_input": "2025-07-30T20:47:19.858232Z",
     "iopub.status.busy": "2025-07-30T20:47:19.857278Z",
     "iopub.status.idle": "2025-07-30T20:47:19.862644Z",
     "shell.execute_reply": "2025-07-30T20:47:19.861619Z"
    },
    "papermill": {
     "duration": 0.029144,
     "end_time": "2025-07-30T20:47:19.864244",
     "exception": false,
     "start_time": "2025-07-30T20:47:19.835100",
     "status": "completed"
    },
    "tags": []
   },
   "outputs": [],
   "source": [
    "#display(siab_s.groupby(\"year\").size())"
   ]
  },
  {
   "cell_type": "code",
   "execution_count": 27,
   "id": "e6c733c5",
   "metadata": {
    "execution": {
     "iopub.execute_input": "2025-07-30T20:47:19.909251Z",
     "iopub.status.busy": "2025-07-30T20:47:19.908793Z",
     "iopub.status.idle": "2025-07-30T20:47:20.005502Z",
     "shell.execute_reply": "2025-07-30T20:47:20.004523Z"
    },
    "papermill": {
     "duration": 0.120662,
     "end_time": "2025-07-30T20:47:20.007360",
     "exception": false,
     "start_time": "2025-07-30T20:47:19.886698",
     "status": "completed"
    },
    "tags": []
   },
   "outputs": [],
   "source": [
    "# Auxiliary data needed downstream in the pipeline\n",
    "\n",
    "org_train = X_train.copy()\n",
    "org_test = X_test.copy()\n",
    "org_calib = X_calib.copy()"
   ]
  },
  {
   "cell_type": "code",
   "execution_count": 28,
   "id": "1466abac-c6da-4492-a62f-4240ae3783af",
   "metadata": {
    "execution": {
     "iopub.execute_input": "2025-07-30T20:47:20.052790Z",
     "iopub.status.busy": "2025-07-30T20:47:20.051838Z",
     "iopub.status.idle": "2025-07-30T20:47:20.057879Z",
     "shell.execute_reply": "2025-07-30T20:47:20.056833Z"
    },
    "papermill": {
     "duration": 0.029788,
     "end_time": "2025-07-30T20:47:20.059444",
     "exception": false,
     "start_time": "2025-07-30T20:47:20.029656",
     "status": "completed"
    },
    "tags": []
   },
   "outputs": [],
   "source": [
    "# put in other script?\n",
    "# Group sizes\n",
    "\n",
    "#def calculate_percentages(df, df_name):\n",
    "#    total_entries = len(df)\n",
    "#\n",
    "#    female_pct = (df['frau1'] == 1).mean() * 100\n",
    "#    non_german_pct = ((df['maxdeutsch1'] == 0) & (df['maxdeutsch.Missing.'] == 0)).mean() * 100\n",
    "#    non_german_male_pct = ((df['frau1'] == 0) & (df['maxdeutsch1'] == 0) & (df['maxdeutsch.Missing.'] == 0)).mean() * 100\n",
    "#    non_german_female_pct = ((df['frau1'] == 1) & (df['maxdeutsch1'] == 0) & (df['maxdeutsch.Missing.'] == 0)).mean() * 100\n",
    "#\n",
    "#    print(f\"--- {df_name} ---\")\n",
    "#    print(f\"Female: {female_pct:.2f}%\")\n",
    "#    print(f\"Non-German: {non_german_pct:.2f}%\")\n",
    "#    print(f\"Non-German Male: {non_german_male_pct:.2f}%\")\n",
    "#    print(f\"Non-German Female: {non_german_female_pct:.2f}%\\n\")\n",
    "#\n",
    "## Calculate for each DataFrame\n",
    "#calculate_percentages(siab_calib, \"siab_calib\")\n",
    "#calculate_percentages(siab_test, \"siab_test\")\n",
    "#calculate_percentages(siab_train, \"siab_train\")"
   ]
  },
  {
   "cell_type": "markdown",
   "id": "0a4a1b33",
   "metadata": {
    "papermill": {
     "duration": 0.022125,
     "end_time": "2025-07-30T20:47:20.104044",
     "exception": false,
     "start_time": "2025-07-30T20:47:20.081919",
     "status": "completed"
    },
    "tags": []
   },
   "source": [
    "# Preprocessing Data"
   ]
  },
  {
   "cell_type": "code",
   "execution_count": 29,
   "id": "ca879031",
   "metadata": {
    "execution": {
     "iopub.execute_input": "2025-07-30T20:47:20.149201Z",
     "iopub.status.busy": "2025-07-30T20:47:20.148486Z",
     "iopub.status.idle": "2025-07-30T20:47:20.154869Z",
     "shell.execute_reply": "2025-07-30T20:47:20.153899Z"
    },
    "papermill": {
     "duration": 0.031223,
     "end_time": "2025-07-30T20:47:20.156634",
     "exception": false,
     "start_time": "2025-07-30T20:47:20.125411",
     "status": "completed"
    },
    "tags": []
   },
   "outputs": [],
   "source": [
    "# EXCLUDE PROTECTED FEATURES\n",
    "# ----------------------\n",
    "# \"exclude_features\": \"none\", # \"nationality\", \"sex\", \"nationality-sex\"\n",
    "\n",
    "excluded_features = universe[\"exclude_features\"].split(\"-\") # split, e.g.: \"nationality-sex\" -> [\"nationality\", \"sex\"]\n",
    "excluded_features_dictionary = {\n",
    "    \"nationality\": [\"maxdeutsch1\", \"maxdeutsch.Missing.\"],\n",
    "    \"sex\": [\"frau1\"],\n",
    "    \"age\": [\"age\"],\n",
    "}\n"
   ]
  },
  {
   "cell_type": "code",
   "execution_count": 30,
   "id": "b745ac60",
   "metadata": {
    "execution": {
     "iopub.execute_input": "2025-07-30T20:47:20.202944Z",
     "iopub.status.busy": "2025-07-30T20:47:20.202242Z",
     "iopub.status.idle": "2025-07-30T20:47:20.208276Z",
     "shell.execute_reply": "2025-07-30T20:47:20.207384Z"
    },
    "papermill": {
     "duration": 0.030524,
     "end_time": "2025-07-30T20:47:20.209859",
     "exception": false,
     "start_time": "2025-07-30T20:47:20.179335",
     "status": "completed"
    },
    "tags": []
   },
   "outputs": [],
   "source": [
    "# Code nice names to column names\n",
    "\n",
    "excluded_features_columns = [\n",
    "    excluded_features_dictionary[f] for f in excluded_features if len(f) > 0 and f != \"none\"\n",
    "]"
   ]
  },
  {
   "cell_type": "code",
   "execution_count": 31,
   "id": "f84f73a2",
   "metadata": {
    "execution": {
     "iopub.execute_input": "2025-07-30T20:47:20.254642Z",
     "iopub.status.busy": "2025-07-30T20:47:20.254157Z",
     "iopub.status.idle": "2025-07-30T20:47:20.260428Z",
     "shell.execute_reply": "2025-07-30T20:47:20.259536Z"
    },
    "papermill": {
     "duration": 0.03078,
     "end_time": "2025-07-30T20:47:20.262006",
     "exception": false,
     "start_time": "2025-07-30T20:47:20.231226",
     "status": "completed"
    },
    "tags": []
   },
   "outputs": [],
   "source": [
    "from utils import flatten_once\n",
    "\n",
    "excluded_features_columns = flatten_once(excluded_features_columns)"
   ]
  },
  {
   "cell_type": "code",
   "execution_count": 32,
   "id": "884dea22",
   "metadata": {
    "execution": {
     "iopub.execute_input": "2025-07-30T20:47:20.306570Z",
     "iopub.status.busy": "2025-07-30T20:47:20.306096Z",
     "iopub.status.idle": "2025-07-30T20:47:20.315856Z",
     "shell.execute_reply": "2025-07-30T20:47:20.314987Z"
    },
    "papermill": {
     "duration": 0.033585,
     "end_time": "2025-07-30T20:47:20.317274",
     "exception": false,
     "start_time": "2025-07-30T20:47:20.283689",
     "status": "completed"
    },
    "tags": []
   },
   "outputs": [
    {
     "name": "stdout",
     "output_type": "stream",
     "text": [
      "Dropping features: ['age']\n"
     ]
    }
   ],
   "source": [
    "if len(excluded_features_columns) > 0:\n",
    "    print(f\"Dropping features: {excluded_features_columns}\")\n",
    "    X_train.drop(excluded_features_columns, axis=1, inplace=True)"
   ]
  },
  {
   "cell_type": "code",
   "execution_count": 33,
   "id": "95ab8b16",
   "metadata": {
    "execution": {
     "iopub.execute_input": "2025-07-30T20:47:20.362617Z",
     "iopub.status.busy": "2025-07-30T20:47:20.361637Z",
     "iopub.status.idle": "2025-07-30T20:47:20.415172Z",
     "shell.execute_reply": "2025-07-30T20:47:20.414148Z"
    },
    "papermill": {
     "duration": 0.077366,
     "end_time": "2025-07-30T20:47:20.417013",
     "exception": false,
     "start_time": "2025-07-30T20:47:20.339647",
     "status": "completed"
    },
    "tags": []
   },
   "outputs": [
    {
     "name": "stdout",
     "output_type": "stream",
     "text": [
      "Dropping features: ['age']\n"
     ]
    }
   ],
   "source": [
    "if len(excluded_features_columns) > 0:\n",
    "    print(f\"Dropping features: {excluded_features_columns}\")\n",
    "    X_test.drop(excluded_features_columns, axis=1, inplace=True)"
   ]
  },
  {
   "cell_type": "code",
   "execution_count": 34,
   "id": "1853aaf5-fb9f-46cb-a2b5-8ea4ae2237e4",
   "metadata": {
    "execution": {
     "iopub.execute_input": "2025-07-30T20:47:20.462941Z",
     "iopub.status.busy": "2025-07-30T20:47:20.462249Z",
     "iopub.status.idle": "2025-07-30T20:47:20.513864Z",
     "shell.execute_reply": "2025-07-30T20:47:20.512882Z"
    },
    "papermill": {
     "duration": 0.07584,
     "end_time": "2025-07-30T20:47:20.515604",
     "exception": false,
     "start_time": "2025-07-30T20:47:20.439764",
     "status": "completed"
    },
    "tags": []
   },
   "outputs": [
    {
     "name": "stdout",
     "output_type": "stream",
     "text": [
      "Dropping features: ['age']\n"
     ]
    }
   ],
   "source": [
    "if len(excluded_features_columns) > 0:\n",
    "    print(f\"Dropping features: {excluded_features_columns}\")\n",
    "    X_calib.drop(excluded_features_columns, axis=1, inplace=True)"
   ]
  },
  {
   "cell_type": "code",
   "execution_count": 35,
   "id": "6727d079-03e5-481e-9d38-292a90b7a0a8",
   "metadata": {
    "execution": {
     "iopub.execute_input": "2025-07-30T20:47:20.563730Z",
     "iopub.status.busy": "2025-07-30T20:47:20.562784Z",
     "iopub.status.idle": "2025-07-30T20:47:20.569203Z",
     "shell.execute_reply": "2025-07-30T20:47:20.568081Z"
    },
    "papermill": {
     "duration": 0.031966,
     "end_time": "2025-07-30T20:47:20.571065",
     "exception": false,
     "start_time": "2025-07-30T20:47:20.539099",
     "status": "completed"
    },
    "tags": []
   },
   "outputs": [],
   "source": [
    "# SPLIT & STRATIFY DATA\n",
    "# ----------------------"
   ]
  },
  {
   "cell_type": "code",
   "execution_count": 36,
   "id": "76c4dc6d",
   "metadata": {
    "execution": {
     "iopub.execute_input": "2025-07-30T20:47:20.620423Z",
     "iopub.status.busy": "2025-07-30T20:47:20.619731Z",
     "iopub.status.idle": "2025-07-30T20:47:20.624971Z",
     "shell.execute_reply": "2025-07-30T20:47:20.624062Z"
    },
    "papermill": {
     "duration": 0.030309,
     "end_time": "2025-07-30T20:47:20.626428",
     "exception": false,
     "start_time": "2025-07-30T20:47:20.596119",
     "status": "completed"
    },
    "tags": []
   },
   "outputs": [],
   "source": [
    "# EXCLUDE CERTAIN SUBGROUPS\n",
    "# ----------------------\n",
    "\n",
    "mode = universe.get(\"exclude_subgroups\", \"keep-all\") \n",
    "# Fetches the exclude_subgroups setting from the universe dict.\n",
    "# Defaults to \"keep-all\" if the key is missing."
   ]
  },
  {
   "cell_type": "code",
   "execution_count": 37,
   "id": "21994072",
   "metadata": {
    "execution": {
     "iopub.execute_input": "2025-07-30T20:47:20.672929Z",
     "iopub.status.busy": "2025-07-30T20:47:20.672222Z",
     "iopub.status.idle": "2025-07-30T20:47:20.679062Z",
     "shell.execute_reply": "2025-07-30T20:47:20.678124Z"
    },
    "papermill": {
     "duration": 0.032115,
     "end_time": "2025-07-30T20:47:20.680669",
     "exception": false,
     "start_time": "2025-07-30T20:47:20.648554",
     "status": "completed"
    },
    "tags": []
   },
   "outputs": [],
   "source": [
    "if mode == \"keep-all\":\n",
    "    keep_mask = pd.Series(True, index=org_train.index)\n",
    "\n",
    "# org_train contains the original feature columns from features_org (in Simson)\n",
    "# features_org contains unprocessed features, for me X_train at beginning ???\n",
    "# For keep-all, creates a boolean Series (keep_mask) of all True, so no rows are removed.\n",
    "\n",
    "elif mode == \"drop-non-german\":\n",
    "    keep_mask = org_train[\"maxdeutsch1\"] == 1 # ??? what about missing values?\n",
    "\n",
    "else:\n",
    "    raise ValueError(f\"Unsupported mode for exclude_subgroups: {mode}\")\n"
   ]
  },
  {
   "cell_type": "code",
   "execution_count": 38,
   "id": "71651440",
   "metadata": {
    "execution": {
     "iopub.execute_input": "2025-07-30T20:47:20.726724Z",
     "iopub.status.busy": "2025-07-30T20:47:20.725819Z",
     "iopub.status.idle": "2025-07-30T20:47:20.733423Z",
     "shell.execute_reply": "2025-07-30T20:47:20.732380Z"
    },
    "papermill": {
     "duration": 0.031895,
     "end_time": "2025-07-30T20:47:20.734996",
     "exception": false,
     "start_time": "2025-07-30T20:47:20.703101",
     "status": "completed"
    },
    "tags": []
   },
   "outputs": [
    {
     "name": "stdout",
     "output_type": "stream",
     "text": [
      "Dropping 741 rows (14.82%) where mode='drop-non-german'\n"
     ]
    }
   ],
   "source": [
    "n_drop = (~keep_mask).sum() # Calculates how many rows are set to be dropped\n",
    "if n_drop > 0:\n",
    "    pct = n_drop / len(keep_mask) * 100\n",
    "    print(f\"Dropping {n_drop} rows ({pct:.2f}%) where mode='{mode}'\")"
   ]
  },
  {
   "cell_type": "code",
   "execution_count": 39,
   "id": "5fb8eee5",
   "metadata": {
    "execution": {
     "iopub.execute_input": "2025-07-30T20:47:20.781866Z",
     "iopub.status.busy": "2025-07-30T20:47:20.781167Z",
     "iopub.status.idle": "2025-07-30T20:47:20.789080Z",
     "shell.execute_reply": "2025-07-30T20:47:20.787977Z"
    },
    "papermill": {
     "duration": 0.032608,
     "end_time": "2025-07-30T20:47:20.790827",
     "exception": false,
     "start_time": "2025-07-30T20:47:20.758219",
     "status": "completed"
    },
    "tags": []
   },
   "outputs": [],
   "source": [
    "X_train = X_train[keep_mask]"
   ]
  },
  {
   "cell_type": "code",
   "execution_count": 40,
   "id": "b202bb3a",
   "metadata": {
    "execution": {
     "iopub.execute_input": "2025-07-30T20:47:20.837912Z",
     "iopub.status.busy": "2025-07-30T20:47:20.836963Z",
     "iopub.status.idle": "2025-07-30T20:47:20.843211Z",
     "shell.execute_reply": "2025-07-30T20:47:20.842223Z"
    },
    "papermill": {
     "duration": 0.031081,
     "end_time": "2025-07-30T20:47:20.844838",
     "exception": false,
     "start_time": "2025-07-30T20:47:20.813757",
     "status": "completed"
    },
    "tags": []
   },
   "outputs": [],
   "source": [
    "y_train = y_train[keep_mask]"
   ]
  },
  {
   "cell_type": "markdown",
   "id": "493e2ac3",
   "metadata": {
    "papermill": {
     "duration": 0.021804,
     "end_time": "2025-07-30T20:47:20.889897",
     "exception": false,
     "start_time": "2025-07-30T20:47:20.868093",
     "status": "completed"
    },
    "tags": []
   },
   "source": [
    "# Model Training"
   ]
  },
  {
   "cell_type": "code",
   "execution_count": 41,
   "id": "679e1268",
   "metadata": {
    "execution": {
     "iopub.execute_input": "2025-07-30T20:47:20.937818Z",
     "iopub.status.busy": "2025-07-30T20:47:20.936954Z",
     "iopub.status.idle": "2025-07-30T20:47:21.038530Z",
     "shell.execute_reply": "2025-07-30T20:47:21.037549Z"
    },
    "papermill": {
     "duration": 0.127223,
     "end_time": "2025-07-30T20:47:21.040548",
     "exception": false,
     "start_time": "2025-07-30T20:47:20.913325",
     "status": "completed"
    },
    "tags": []
   },
   "outputs": [],
   "source": [
    "from sklearn.linear_model import LogisticRegression\n",
    "from sklearn.ensemble import GradientBoostingClassifier, RandomForestClassifier\n",
    "\n",
    "if (universe[\"model\"] == \"logreg\"):\n",
    "    model = LogisticRegression() #penalty=\"none\") #, solver=\"newton-cg\", max_iter=1) # include random_state=19 ?\n",
    "elif (universe[\"model\"] == \"penalized_logreg\"):\n",
    "    model = LogisticRegression(penalty=\"l2\", C=1.0) #, solver=\"newton-cg\", max_iter=1)\n",
    "elif (universe[\"model\"] == \"rf\"):\n",
    "    model = RandomForestClassifier(n_estimators=100, n_jobs=-1)\n",
    "elif (universe[\"model\"] == \"gbm\"):\n",
    "    model = GradientBoostingClassifier()\n",
    "elif (universe[\"model\"] == \"elasticnet\"):\n",
    "    model = LogisticRegression(penalty = 'elasticnet', solver = 'saga', l1_ratio = 0.5, max_iter=5000) # which solver to use?\n",
    "else:\n",
    "    raise \"Unsupported universe.model\""
   ]
  },
  {
   "cell_type": "code",
   "execution_count": 42,
   "id": "0cc8f744",
   "metadata": {
    "execution": {
     "iopub.execute_input": "2025-07-30T20:47:21.088826Z",
     "iopub.status.busy": "2025-07-30T20:47:21.087878Z",
     "iopub.status.idle": "2025-07-30T20:47:21.094670Z",
     "shell.execute_reply": "2025-07-30T20:47:21.093582Z"
    },
    "papermill": {
     "duration": 0.032294,
     "end_time": "2025-07-30T20:47:21.096374",
     "exception": false,
     "start_time": "2025-07-30T20:47:21.064080",
     "status": "completed"
    },
    "tags": []
   },
   "outputs": [],
   "source": [
    "import numpy as np\n",
    "from sklearn.pipeline import Pipeline\n",
    "from sklearn.preprocessing import StandardScaler\n",
    "\n",
    "model = Pipeline([\n",
    "    #(\"continuous_processor\", continuous_processor),\n",
    "    #(\"categorical_preprocessor\", categorical_preprocessor),\n",
    "    (\"scale\", StandardScaler() if universe[\"scale\"] == \"scale\" else None), \n",
    "    (\"model\", model),\n",
    "])"
   ]
  },
  {
   "cell_type": "code",
   "execution_count": 43,
   "id": "9442c04d",
   "metadata": {
    "execution": {
     "iopub.execute_input": "2025-07-30T20:47:21.144209Z",
     "iopub.status.busy": "2025-07-30T20:47:21.143172Z",
     "iopub.status.idle": "2025-07-30T20:47:21.983645Z",
     "shell.execute_reply": "2025-07-30T20:47:21.982588Z"
    },
    "papermill": {
     "duration": 0.866243,
     "end_time": "2025-07-30T20:47:21.985328",
     "exception": false,
     "start_time": "2025-07-30T20:47:21.119085",
     "status": "completed"
    },
    "tags": []
   },
   "outputs": [
    {
     "data": {
      "text/html": [
       "<style>#sk-container-id-1 {color: black;background-color: white;}#sk-container-id-1 pre{padding: 0;}#sk-container-id-1 div.sk-toggleable {background-color: white;}#sk-container-id-1 label.sk-toggleable__label {cursor: pointer;display: block;width: 100%;margin-bottom: 0;padding: 0.3em;box-sizing: border-box;text-align: center;}#sk-container-id-1 label.sk-toggleable__label-arrow:before {content: \"▸\";float: left;margin-right: 0.25em;color: #696969;}#sk-container-id-1 label.sk-toggleable__label-arrow:hover:before {color: black;}#sk-container-id-1 div.sk-estimator:hover label.sk-toggleable__label-arrow:before {color: black;}#sk-container-id-1 div.sk-toggleable__content {max-height: 0;max-width: 0;overflow: hidden;text-align: left;background-color: #f0f8ff;}#sk-container-id-1 div.sk-toggleable__content pre {margin: 0.2em;color: black;border-radius: 0.25em;background-color: #f0f8ff;}#sk-container-id-1 input.sk-toggleable__control:checked~div.sk-toggleable__content {max-height: 200px;max-width: 100%;overflow: auto;}#sk-container-id-1 input.sk-toggleable__control:checked~label.sk-toggleable__label-arrow:before {content: \"▾\";}#sk-container-id-1 div.sk-estimator input.sk-toggleable__control:checked~label.sk-toggleable__label {background-color: #d4ebff;}#sk-container-id-1 div.sk-label input.sk-toggleable__control:checked~label.sk-toggleable__label {background-color: #d4ebff;}#sk-container-id-1 input.sk-hidden--visually {border: 0;clip: rect(1px 1px 1px 1px);clip: rect(1px, 1px, 1px, 1px);height: 1px;margin: -1px;overflow: hidden;padding: 0;position: absolute;width: 1px;}#sk-container-id-1 div.sk-estimator {font-family: monospace;background-color: #f0f8ff;border: 1px dotted black;border-radius: 0.25em;box-sizing: border-box;margin-bottom: 0.5em;}#sk-container-id-1 div.sk-estimator:hover {background-color: #d4ebff;}#sk-container-id-1 div.sk-parallel-item::after {content: \"\";width: 100%;border-bottom: 1px solid gray;flex-grow: 1;}#sk-container-id-1 div.sk-label:hover label.sk-toggleable__label {background-color: #d4ebff;}#sk-container-id-1 div.sk-serial::before {content: \"\";position: absolute;border-left: 1px solid gray;box-sizing: border-box;top: 0;bottom: 0;left: 50%;z-index: 0;}#sk-container-id-1 div.sk-serial {display: flex;flex-direction: column;align-items: center;background-color: white;padding-right: 0.2em;padding-left: 0.2em;position: relative;}#sk-container-id-1 div.sk-item {position: relative;z-index: 1;}#sk-container-id-1 div.sk-parallel {display: flex;align-items: stretch;justify-content: center;background-color: white;position: relative;}#sk-container-id-1 div.sk-item::before, #sk-container-id-1 div.sk-parallel-item::before {content: \"\";position: absolute;border-left: 1px solid gray;box-sizing: border-box;top: 0;bottom: 0;left: 50%;z-index: -1;}#sk-container-id-1 div.sk-parallel-item {display: flex;flex-direction: column;z-index: 1;position: relative;background-color: white;}#sk-container-id-1 div.sk-parallel-item:first-child::after {align-self: flex-end;width: 50%;}#sk-container-id-1 div.sk-parallel-item:last-child::after {align-self: flex-start;width: 50%;}#sk-container-id-1 div.sk-parallel-item:only-child::after {width: 0;}#sk-container-id-1 div.sk-dashed-wrapped {border: 1px dashed gray;margin: 0 0.4em 0.5em 0.4em;box-sizing: border-box;padding-bottom: 0.4em;background-color: white;}#sk-container-id-1 div.sk-label label {font-family: monospace;font-weight: bold;display: inline-block;line-height: 1.2em;}#sk-container-id-1 div.sk-label-container {text-align: center;}#sk-container-id-1 div.sk-container {/* jupyter's `normalize.less` sets `[hidden] { display: none; }` but bootstrap.min.css set `[hidden] { display: none !important; }` so we also need the `!important` here to be able to override the default hidden behavior on the sphinx rendered scikit-learn.org. See: https://github.com/scikit-learn/scikit-learn/issues/21755 */display: inline-block !important;position: relative;}#sk-container-id-1 div.sk-text-repr-fallback {display: none;}</style><div id=\"sk-container-id-1\" class=\"sk-top-container\"><div class=\"sk-text-repr-fallback\"><pre>Pipeline(steps=[(&#x27;scale&#x27;, StandardScaler()),\n",
       "                (&#x27;model&#x27;, RandomForestClassifier(n_jobs=-1))])</pre><b>In a Jupyter environment, please rerun this cell to show the HTML representation or trust the notebook. <br />On GitHub, the HTML representation is unable to render, please try loading this page with nbviewer.org.</b></div><div class=\"sk-container\" hidden><div class=\"sk-item sk-dashed-wrapped\"><div class=\"sk-label-container\"><div class=\"sk-label sk-toggleable\"><input class=\"sk-toggleable__control sk-hidden--visually\" id=\"sk-estimator-id-1\" type=\"checkbox\" ><label for=\"sk-estimator-id-1\" class=\"sk-toggleable__label sk-toggleable__label-arrow\">Pipeline</label><div class=\"sk-toggleable__content\"><pre>Pipeline(steps=[(&#x27;scale&#x27;, StandardScaler()),\n",
       "                (&#x27;model&#x27;, RandomForestClassifier(n_jobs=-1))])</pre></div></div></div><div class=\"sk-serial\"><div class=\"sk-item\"><div class=\"sk-estimator sk-toggleable\"><input class=\"sk-toggleable__control sk-hidden--visually\" id=\"sk-estimator-id-2\" type=\"checkbox\" ><label for=\"sk-estimator-id-2\" class=\"sk-toggleable__label sk-toggleable__label-arrow\">StandardScaler</label><div class=\"sk-toggleable__content\"><pre>StandardScaler()</pre></div></div></div><div class=\"sk-item\"><div class=\"sk-estimator sk-toggleable\"><input class=\"sk-toggleable__control sk-hidden--visually\" id=\"sk-estimator-id-3\" type=\"checkbox\" ><label for=\"sk-estimator-id-3\" class=\"sk-toggleable__label sk-toggleable__label-arrow\">RandomForestClassifier</label><div class=\"sk-toggleable__content\"><pre>RandomForestClassifier(n_jobs=-1)</pre></div></div></div></div></div></div></div>"
      ],
      "text/plain": [
       "Pipeline(steps=[('scale', StandardScaler()),\n",
       "                ('model', RandomForestClassifier(n_jobs=-1))])"
      ]
     },
     "execution_count": 43,
     "metadata": {},
     "output_type": "execute_result"
    }
   ],
   "source": [
    "model.fit(X_train, y_train.values.ravel())"
   ]
  },
  {
   "cell_type": "code",
   "execution_count": 44,
   "id": "af59f8c0",
   "metadata": {
    "execution": {
     "iopub.execute_input": "2025-07-30T20:47:22.033823Z",
     "iopub.status.busy": "2025-07-30T20:47:22.032903Z",
     "iopub.status.idle": "2025-07-30T20:47:22.038546Z",
     "shell.execute_reply": "2025-07-30T20:47:22.037594Z"
    },
    "papermill": {
     "duration": 0.031093,
     "end_time": "2025-07-30T20:47:22.040673",
     "exception": false,
     "start_time": "2025-07-30T20:47:22.009580",
     "status": "completed"
    },
    "tags": []
   },
   "outputs": [],
   "source": [
    "from fairness_multiverse.universe import predict_w_threshold"
   ]
  },
  {
   "cell_type": "code",
   "execution_count": 45,
   "id": "a7cf2e16",
   "metadata": {
    "execution": {
     "iopub.execute_input": "2025-07-30T20:47:22.089152Z",
     "iopub.status.busy": "2025-07-30T20:47:22.088443Z",
     "iopub.status.idle": "2025-07-30T20:47:23.063870Z",
     "shell.execute_reply": "2025-07-30T20:47:23.063164Z"
    },
    "papermill": {
     "duration": 1.000417,
     "end_time": "2025-07-30T20:47:23.065184",
     "exception": false,
     "start_time": "2025-07-30T20:47:22.064767",
     "status": "completed"
    },
    "tags": []
   },
   "outputs": [
    {
     "data": {
      "text/plain": [
       "0.8635826552223832"
      ]
     },
     "execution_count": 45,
     "metadata": {},
     "output_type": "execute_result"
    }
   ],
   "source": [
    "probs_test = model.predict_proba(X_test)\n",
    "\n",
    "'''\n",
    "Below code returns a boolean array (or binary 0/1 array depending on how it’s used) where each element \n",
    "is True if the probability of class 1 is greater than or equal to the threshold, and False otherwise.\n",
    "'''\n",
    "y_pred_default = predict_w_threshold(probs_test, 0.5)\n",
    "\n",
    "from sklearn.metrics import accuracy_score\n",
    "\n",
    "# Naive prediction\n",
    "accuracy_score(y_true = y_true, y_pred = y_pred_default)"
   ]
  },
  {
   "cell_type": "code",
   "execution_count": 46,
   "id": "081964c3",
   "metadata": {
    "execution": {
     "iopub.execute_input": "2025-07-30T20:47:23.091943Z",
     "iopub.status.busy": "2025-07-30T20:47:23.091435Z",
     "iopub.status.idle": "2025-07-30T20:47:24.333644Z",
     "shell.execute_reply": "2025-07-30T20:47:24.332946Z"
    },
    "papermill": {
     "duration": 1.256752,
     "end_time": "2025-07-30T20:47:24.334822",
     "exception": false,
     "start_time": "2025-07-30T20:47:23.078070",
     "status": "completed"
    },
    "tags": []
   },
   "outputs": [
    {
     "data": {
      "text/plain": [
       "array([0, 0, 0, ..., 0, 0, 0])"
      ]
     },
     "execution_count": 46,
     "metadata": {},
     "output_type": "execute_result"
    }
   ],
   "source": [
    "model.predict(X_test)"
   ]
  },
  {
   "cell_type": "markdown",
   "id": "56c9705b",
   "metadata": {
    "papermill": {
     "duration": 0.016404,
     "end_time": "2025-07-30T20:47:24.364329",
     "exception": false,
     "start_time": "2025-07-30T20:47:24.347925",
     "status": "completed"
    },
    "tags": []
   },
   "source": [
    "# Conformal Prediction"
   ]
  },
  {
   "cell_type": "code",
   "execution_count": 47,
   "id": "160ec6ff",
   "metadata": {
    "execution": {
     "iopub.execute_input": "2025-07-30T20:47:24.390414Z",
     "iopub.status.busy": "2025-07-30T20:47:24.390053Z",
     "iopub.status.idle": "2025-07-30T20:47:24.394802Z",
     "shell.execute_reply": "2025-07-30T20:47:24.394062Z"
    },
    "papermill": {
     "duration": 0.019335,
     "end_time": "2025-07-30T20:47:24.396090",
     "exception": false,
     "start_time": "2025-07-30T20:47:24.376755",
     "status": "completed"
    },
    "tags": []
   },
   "outputs": [],
   "source": [
    "# Miscoverage level for conformal prediction (10% allowed error rate => 90% target coverage)\n",
    "alpha = 0.1"
   ]
  },
  {
   "cell_type": "code",
   "execution_count": 48,
   "id": "eadf4555-3dd3-440e-8e35-f82a4ad9f855",
   "metadata": {
    "execution": {
     "iopub.execute_input": "2025-07-30T20:47:24.427422Z",
     "iopub.status.busy": "2025-07-30T20:47:24.426704Z",
     "iopub.status.idle": "2025-07-30T20:47:25.456333Z",
     "shell.execute_reply": "2025-07-30T20:47:25.455219Z"
    },
    "papermill": {
     "duration": 1.045751,
     "end_time": "2025-07-30T20:47:25.458634",
     "exception": false,
     "start_time": "2025-07-30T20:47:24.412883",
     "status": "completed"
    },
    "tags": []
   },
   "outputs": [],
   "source": [
    "probs_calib = model.predict_proba(X_calib)"
   ]
  },
  {
   "cell_type": "code",
   "execution_count": 49,
   "id": "2ed93547-6d5d-4983-9b36-1ecb300da49a",
   "metadata": {
    "execution": {
     "iopub.execute_input": "2025-07-30T20:47:25.518613Z",
     "iopub.status.busy": "2025-07-30T20:47:25.518023Z",
     "iopub.status.idle": "2025-07-30T20:47:25.524134Z",
     "shell.execute_reply": "2025-07-30T20:47:25.523077Z"
    },
    "papermill": {
     "duration": 0.036374,
     "end_time": "2025-07-30T20:47:25.525952",
     "exception": false,
     "start_time": "2025-07-30T20:47:25.489578",
     "status": "completed"
    },
    "tags": []
   },
   "outputs": [],
   "source": [
    "y_calib = y_calib.values.ravel().astype(int)"
   ]
  },
  {
   "cell_type": "code",
   "execution_count": 50,
   "id": "65d1320d-f588-4b38-9072-62af1ae97f7d",
   "metadata": {
    "execution": {
     "iopub.execute_input": "2025-07-30T20:47:25.577803Z",
     "iopub.status.busy": "2025-07-30T20:47:25.577267Z",
     "iopub.status.idle": "2025-07-30T20:47:25.585444Z",
     "shell.execute_reply": "2025-07-30T20:47:25.584451Z"
    },
    "papermill": {
     "duration": 0.036826,
     "end_time": "2025-07-30T20:47:25.587411",
     "exception": false,
     "start_time": "2025-07-30T20:47:25.550585",
     "status": "completed"
    },
    "tags": []
   },
   "outputs": [],
   "source": [
    "from fairness_multiverse.conformal import compute_nc_scores\n",
    "\n",
    "# Compute nonconformity scores on calibration set (1 - probability of true class)\n",
    "nc_scores = compute_nc_scores(probs_calib, y_calib)"
   ]
  },
  {
   "cell_type": "code",
   "execution_count": 51,
   "id": "df3b8ca3-53b7-43d5-9667-7c85da7aeda2",
   "metadata": {
    "execution": {
     "iopub.execute_input": "2025-07-30T20:47:25.649747Z",
     "iopub.status.busy": "2025-07-30T20:47:25.648506Z",
     "iopub.status.idle": "2025-07-30T20:47:25.656621Z",
     "shell.execute_reply": "2025-07-30T20:47:25.655304Z"
    },
    "papermill": {
     "duration": 0.051783,
     "end_time": "2025-07-30T20:47:25.669786",
     "exception": false,
     "start_time": "2025-07-30T20:47:25.618003",
     "status": "completed"
    },
    "tags": []
   },
   "outputs": [],
   "source": [
    "from fairness_multiverse.conformal import find_threshold\n",
    "\n",
    "# Find conformal threshold q_hat for the given alpha (split conformal method)\n",
    "q_hat = find_threshold(nc_scores, alpha)"
   ]
  },
  {
   "cell_type": "code",
   "execution_count": 52,
   "id": "4d29e6c1-0ef6-4aa4-b8fe-4fe79b0d033a",
   "metadata": {
    "execution": {
     "iopub.execute_input": "2025-07-30T20:47:25.726323Z",
     "iopub.status.busy": "2025-07-30T20:47:25.725380Z",
     "iopub.status.idle": "2025-07-30T20:47:25.732491Z",
     "shell.execute_reply": "2025-07-30T20:47:25.731569Z"
    },
    "papermill": {
     "duration": 0.03355,
     "end_time": "2025-07-30T20:47:25.734084",
     "exception": false,
     "start_time": "2025-07-30T20:47:25.700534",
     "status": "completed"
    },
    "tags": []
   },
   "outputs": [
    {
     "data": {
      "text/plain": [
       "0.6599999999999999"
      ]
     },
     "execution_count": 52,
     "metadata": {},
     "output_type": "execute_result"
    }
   ],
   "source": [
    "q_hat"
   ]
  },
  {
   "cell_type": "code",
   "execution_count": 53,
   "id": "92460794-cdac-4be2-ba28-f28c0515a6fb",
   "metadata": {
    "execution": {
     "iopub.execute_input": "2025-07-30T20:47:25.784552Z",
     "iopub.status.busy": "2025-07-30T20:47:25.783658Z",
     "iopub.status.idle": "2025-07-30T20:47:27.270242Z",
     "shell.execute_reply": "2025-07-30T20:47:27.269495Z"
    },
    "papermill": {
     "duration": 1.512527,
     "end_time": "2025-07-30T20:47:27.271612",
     "exception": false,
     "start_time": "2025-07-30T20:47:25.759085",
     "status": "completed"
    },
    "tags": []
   },
   "outputs": [],
   "source": [
    "from fairness_multiverse.conformal import predict_conformal_sets\n",
    "\n",
    "# Generate prediction sets for each test example\n",
    "pred_sets = predict_conformal_sets(model, X_test, q_hat)"
   ]
  },
  {
   "cell_type": "code",
   "execution_count": 54,
   "id": "d90c9a65-e6db-4f5d-80cd-e68fb7e46829",
   "metadata": {
    "execution": {
     "iopub.execute_input": "2025-07-30T20:47:27.306732Z",
     "iopub.status.busy": "2025-07-30T20:47:27.306044Z",
     "iopub.status.idle": "2025-07-30T20:47:27.310981Z",
     "shell.execute_reply": "2025-07-30T20:47:27.310288Z"
    },
    "papermill": {
     "duration": 0.022766,
     "end_time": "2025-07-30T20:47:27.312242",
     "exception": false,
     "start_time": "2025-07-30T20:47:27.289476",
     "status": "completed"
    },
    "tags": []
   },
   "outputs": [],
   "source": [
    "y_true = y_true.squeeze()"
   ]
  },
  {
   "cell_type": "code",
   "execution_count": 55,
   "id": "3a58a54a-1e68-46b9-927a-df01f18aebc8",
   "metadata": {
    "execution": {
     "iopub.execute_input": "2025-07-30T20:47:27.345652Z",
     "iopub.status.busy": "2025-07-30T20:47:27.344819Z",
     "iopub.status.idle": "2025-07-30T20:47:28.276633Z",
     "shell.execute_reply": "2025-07-30T20:47:28.275633Z"
    },
    "papermill": {
     "duration": 0.95342,
     "end_time": "2025-07-30T20:47:28.278699",
     "exception": false,
     "start_time": "2025-07-30T20:47:27.325279",
     "status": "completed"
    },
    "tags": []
   },
   "outputs": [],
   "source": [
    "from fairness_multiverse.conformal import evaluate_sets\n",
    "\n",
    "# Evaluate coverage and average set size on test data\n",
    "metrics = evaluate_sets(pred_sets, y_true)"
   ]
  },
  {
   "cell_type": "markdown",
   "id": "2b569c12-9aaa-4c88-98c9-bbcd0cf3ebb8",
   "metadata": {
    "papermill": {
     "duration": 0.023352,
     "end_time": "2025-07-30T20:47:28.327609",
     "exception": false,
     "start_time": "2025-07-30T20:47:28.304257",
     "status": "completed"
    },
    "tags": []
   },
   "source": [
    "# CP Metrics"
   ]
  },
  {
   "cell_type": "code",
   "execution_count": 56,
   "id": "5ce0a5cb-201f-45a0-ade5-94c7f0bd6095",
   "metadata": {
    "execution": {
     "iopub.execute_input": "2025-07-30T20:47:28.377838Z",
     "iopub.status.busy": "2025-07-30T20:47:28.377329Z",
     "iopub.status.idle": "2025-07-30T20:47:28.384018Z",
     "shell.execute_reply": "2025-07-30T20:47:28.383167Z"
    },
    "papermill": {
     "duration": 0.03378,
     "end_time": "2025-07-30T20:47:28.385497",
     "exception": false,
     "start_time": "2025-07-30T20:47:28.351717",
     "status": "completed"
    },
    "tags": []
   },
   "outputs": [
    {
     "data": {
      "text/plain": [
       "{'coverage': 0.9104224724111024, 'avg_size': 1.1372087838591016}"
      ]
     },
     "execution_count": 56,
     "metadata": {},
     "output_type": "execute_result"
    }
   ],
   "source": [
    "metrics"
   ]
  },
  {
   "cell_type": "code",
   "execution_count": 57,
   "id": "9b9a838d-31c9-430b-ae14-12baee460d17",
   "metadata": {
    "execution": {
     "iopub.execute_input": "2025-07-30T20:47:28.436300Z",
     "iopub.status.busy": "2025-07-30T20:47:28.435832Z",
     "iopub.status.idle": "2025-07-30T20:47:28.442430Z",
     "shell.execute_reply": "2025-07-30T20:47:28.441554Z"
    },
    "papermill": {
     "duration": 0.033956,
     "end_time": "2025-07-30T20:47:28.443916",
     "exception": false,
     "start_time": "2025-07-30T20:47:28.409960",
     "status": "completed"
    },
    "tags": []
   },
   "outputs": [],
   "source": [
    "example_universe = universe.copy()\n",
    "universe_training_year = example_universe.get(\"training_year\")\n",
    "universe_training_size = example_universe.get(\"training_size\")\n",
    "universe_scale = example_universe.get(\"scale\")\n",
    "universe_model = example_universe.get(\"model\")\n",
    "universe_exclude_features = example_universe.get(\"exclude_features\")\n",
    "universe_exclude_subgroups = example_universe.get(\"exclude_subgroups\")"
   ]
  },
  {
   "cell_type": "code",
   "execution_count": 58,
   "id": "f4b6a8ac-9dc0-4245-8a91-5b3b5999c4f9",
   "metadata": {
    "execution": {
     "iopub.execute_input": "2025-07-30T20:47:28.495749Z",
     "iopub.status.busy": "2025-07-30T20:47:28.495036Z",
     "iopub.status.idle": "2025-07-30T20:47:28.501505Z",
     "shell.execute_reply": "2025-07-30T20:47:28.500585Z"
    },
    "papermill": {
     "duration": 0.034132,
     "end_time": "2025-07-30T20:47:28.503222",
     "exception": false,
     "start_time": "2025-07-30T20:47:28.469090",
     "status": "completed"
    },
    "tags": []
   },
   "outputs": [],
   "source": [
    "cp_metrics_dict = {\n",
    "    \"universe_id\": [universe_id],\n",
    "    \"universe_training_year\": [universe_training_year],\n",
    "    \"universe_training_size\": [universe_training_size],\n",
    "    \"universe_scale\": [universe_scale],\n",
    "    \"universe_model\": [universe_model],\n",
    "    \"universe_exclude_features\": [universe_exclude_features],\n",
    "    \"universe_exclude_subgroups\": [universe_exclude_subgroups],\n",
    "    \"q_hat\": [q_hat],\n",
    "    \"coverage\": [metrics[\"coverage\"]],\n",
    "    \"avg_size\": [metrics[\"avg_size\"]],\n",
    "}"
   ]
  },
  {
   "cell_type": "code",
   "execution_count": 59,
   "id": "908acbb1-0371-4915-85ca-3fa520d2efe2",
   "metadata": {
    "execution": {
     "iopub.execute_input": "2025-07-30T20:47:28.554244Z",
     "iopub.status.busy": "2025-07-30T20:47:28.553599Z",
     "iopub.status.idle": "2025-07-30T20:47:28.561237Z",
     "shell.execute_reply": "2025-07-30T20:47:28.560318Z"
    },
    "papermill": {
     "duration": 0.03467,
     "end_time": "2025-07-30T20:47:28.562725",
     "exception": false,
     "start_time": "2025-07-30T20:47:28.528055",
     "status": "completed"
    },
    "tags": []
   },
   "outputs": [
    {
     "data": {
      "text/plain": [
       "{'universe_id': ['2d8b29a568cd9d4b00e2aea8937d40b5'],\n",
       " 'universe_training_year': ['2014'],\n",
       " 'universe_training_size': ['5k'],\n",
       " 'universe_scale': ['scale'],\n",
       " 'universe_model': ['rf'],\n",
       " 'universe_exclude_features': ['age'],\n",
       " 'universe_exclude_subgroups': ['drop-non-german'],\n",
       " 'q_hat': [0.6599999999999999],\n",
       " 'coverage': [0.9104224724111024],\n",
       " 'avg_size': [1.1372087838591016]}"
      ]
     },
     "execution_count": 59,
     "metadata": {},
     "output_type": "execute_result"
    }
   ],
   "source": [
    "cp_metrics_dict"
   ]
  },
  {
   "cell_type": "code",
   "execution_count": 60,
   "id": "33007efc-14e9-4ec6-97ac-56a455c82265",
   "metadata": {
    "execution": {
     "iopub.execute_input": "2025-07-30T20:47:28.613369Z",
     "iopub.status.busy": "2025-07-30T20:47:28.612685Z",
     "iopub.status.idle": "2025-07-30T20:47:28.619270Z",
     "shell.execute_reply": "2025-07-30T20:47:28.618399Z"
    },
    "papermill": {
     "duration": 0.032428,
     "end_time": "2025-07-30T20:47:28.620854",
     "exception": false,
     "start_time": "2025-07-30T20:47:28.588426",
     "status": "completed"
    },
    "tags": []
   },
   "outputs": [],
   "source": [
    "cp_metrics_df = pd.DataFrame(cp_metrics_dict)"
   ]
  },
  {
   "cell_type": "code",
   "execution_count": 61,
   "id": "db12611b-57b2-4910-b9d0-355adfd6e7bf",
   "metadata": {
    "execution": {
     "iopub.execute_input": "2025-07-30T20:47:28.673486Z",
     "iopub.status.busy": "2025-07-30T20:47:28.672852Z",
     "iopub.status.idle": "2025-07-30T20:47:28.691646Z",
     "shell.execute_reply": "2025-07-30T20:47:28.690749Z"
    },
    "papermill": {
     "duration": 0.045164,
     "end_time": "2025-07-30T20:47:28.693395",
     "exception": false,
     "start_time": "2025-07-30T20:47:28.648231",
     "status": "completed"
    },
    "tags": []
   },
   "outputs": [
    {
     "data": {
      "text/html": [
       "<div>\n",
       "<style scoped>\n",
       "    .dataframe tbody tr th:only-of-type {\n",
       "        vertical-align: middle;\n",
       "    }\n",
       "\n",
       "    .dataframe tbody tr th {\n",
       "        vertical-align: top;\n",
       "    }\n",
       "\n",
       "    .dataframe thead th {\n",
       "        text-align: right;\n",
       "    }\n",
       "</style>\n",
       "<table border=\"1\" class=\"dataframe\">\n",
       "  <thead>\n",
       "    <tr style=\"text-align: right;\">\n",
       "      <th></th>\n",
       "      <th>universe_id</th>\n",
       "      <th>universe_training_year</th>\n",
       "      <th>universe_training_size</th>\n",
       "      <th>universe_scale</th>\n",
       "      <th>universe_model</th>\n",
       "      <th>universe_exclude_features</th>\n",
       "      <th>universe_exclude_subgroups</th>\n",
       "      <th>q_hat</th>\n",
       "      <th>coverage</th>\n",
       "      <th>avg_size</th>\n",
       "    </tr>\n",
       "  </thead>\n",
       "  <tbody>\n",
       "    <tr>\n",
       "      <th>0</th>\n",
       "      <td>2d8b29a568cd9d4b00e2aea8937d40b5</td>\n",
       "      <td>2014</td>\n",
       "      <td>5k</td>\n",
       "      <td>scale</td>\n",
       "      <td>rf</td>\n",
       "      <td>age</td>\n",
       "      <td>drop-non-german</td>\n",
       "      <td>0.66</td>\n",
       "      <td>0.910422</td>\n",
       "      <td>1.137209</td>\n",
       "    </tr>\n",
       "  </tbody>\n",
       "</table>\n",
       "</div>"
      ],
      "text/plain": [
       "                        universe_id universe_training_year  \\\n",
       "0  2d8b29a568cd9d4b00e2aea8937d40b5                   2014   \n",
       "\n",
       "  universe_training_size universe_scale universe_model  \\\n",
       "0                     5k          scale             rf   \n",
       "\n",
       "  universe_exclude_features universe_exclude_subgroups  q_hat  coverage  \\\n",
       "0                       age            drop-non-german   0.66  0.910422   \n",
       "\n",
       "   avg_size  \n",
       "0  1.137209  "
      ]
     },
     "execution_count": 61,
     "metadata": {},
     "output_type": "execute_result"
    }
   ],
   "source": [
    "cp_metrics_df"
   ]
  },
  {
   "cell_type": "code",
   "execution_count": 62,
   "id": "b7fbde55-a0a1-47e4-9af6-fe4a17fa8c61",
   "metadata": {
    "execution": {
     "iopub.execute_input": "2025-07-30T20:47:28.742590Z",
     "iopub.status.busy": "2025-07-30T20:47:28.741733Z",
     "iopub.status.idle": "2025-07-30T20:47:28.746872Z",
     "shell.execute_reply": "2025-07-30T20:47:28.745906Z"
    },
    "papermill": {
     "duration": 0.031378,
     "end_time": "2025-07-30T20:47:28.748525",
     "exception": false,
     "start_time": "2025-07-30T20:47:28.717147",
     "status": "completed"
    },
    "tags": []
   },
   "outputs": [],
   "source": [
    "# Conditional Coverage & looking at subgroups"
   ]
  },
  {
   "cell_type": "code",
   "execution_count": 63,
   "id": "027ae886-68dd-4141-96c7-805a5450e1ef",
   "metadata": {
    "execution": {
     "iopub.execute_input": "2025-07-30T20:47:28.797650Z",
     "iopub.status.busy": "2025-07-30T20:47:28.796988Z",
     "iopub.status.idle": "2025-07-30T20:47:29.079643Z",
     "shell.execute_reply": "2025-07-30T20:47:29.078543Z"
    },
    "papermill": {
     "duration": 0.308732,
     "end_time": "2025-07-30T20:47:29.081624",
     "exception": false,
     "start_time": "2025-07-30T20:47:28.772892",
     "status": "completed"
    },
    "tags": []
   },
   "outputs": [],
   "source": [
    "from fairness_multiverse.conformal import build_cp_groups\n",
    "\n",
    "cp_groups_df = build_cp_groups(pred_sets, y_true, X_test.index, org_test)\n",
    "#needs universe_id and setting"
   ]
  },
  {
   "cell_type": "code",
   "execution_count": 64,
   "id": "01d5802c-663a-4d1f-9d69-e036faaffbf7",
   "metadata": {
    "execution": {
     "iopub.execute_input": "2025-07-30T20:47:29.133054Z",
     "iopub.status.busy": "2025-07-30T20:47:29.132129Z",
     "iopub.status.idle": "2025-07-30T20:47:29.136968Z",
     "shell.execute_reply": "2025-07-30T20:47:29.136020Z"
    },
    "papermill": {
     "duration": 0.031911,
     "end_time": "2025-07-30T20:47:29.138864",
     "exception": false,
     "start_time": "2025-07-30T20:47:29.106953",
     "status": "completed"
    },
    "tags": []
   },
   "outputs": [],
   "source": [
    "#delete\n",
    "#cp_groups_df"
   ]
  },
  {
   "cell_type": "code",
   "execution_count": 65,
   "id": "fa424af1-d1eb-443d-b717-2d279ada8408",
   "metadata": {
    "execution": {
     "iopub.execute_input": "2025-07-30T20:47:29.205956Z",
     "iopub.status.busy": "2025-07-30T20:47:29.205238Z",
     "iopub.status.idle": "2025-07-30T20:47:29.210901Z",
     "shell.execute_reply": "2025-07-30T20:47:29.209974Z"
    },
    "papermill": {
     "duration": 0.041175,
     "end_time": "2025-07-30T20:47:29.212757",
     "exception": false,
     "start_time": "2025-07-30T20:47:29.171582",
     "status": "completed"
    },
    "tags": []
   },
   "outputs": [],
   "source": [
    "#delete\n",
    "#percentage = (cp_groups_df['nongerman_female'] == 1).mean() * 100\n",
    "#print(percentage)\n"
   ]
  },
  {
   "cell_type": "code",
   "execution_count": 66,
   "id": "6cbdab96-b2b2-45af-ad54-d0516db2e28d",
   "metadata": {
    "execution": {
     "iopub.execute_input": "2025-07-30T20:47:29.279660Z",
     "iopub.status.busy": "2025-07-30T20:47:29.278980Z",
     "iopub.status.idle": "2025-07-30T20:47:31.286152Z",
     "shell.execute_reply": "2025-07-30T20:47:31.285403Z"
    },
    "papermill": {
     "duration": 2.042072,
     "end_time": "2025-07-30T20:47:31.287594",
     "exception": false,
     "start_time": "2025-07-30T20:47:29.245522",
     "status": "completed"
    },
    "tags": []
   },
   "outputs": [],
   "source": [
    "# Define covered = 1 if true_label is in the predicted set\n",
    "cp_groups_df['covered'] = cp_groups_df.apply(\n",
    "    lambda r: int(r['true_label'] in r['pred_set']),\n",
    "    axis=1\n",
    ")"
   ]
  },
  {
   "cell_type": "code",
   "execution_count": 67,
   "id": "338ff529-1a6b-4b87-a931-8e4788d52aad",
   "metadata": {
    "execution": {
     "iopub.execute_input": "2025-07-30T20:47:31.319829Z",
     "iopub.status.busy": "2025-07-30T20:47:31.319059Z",
     "iopub.status.idle": "2025-07-30T20:47:31.323573Z",
     "shell.execute_reply": "2025-07-30T20:47:31.322804Z"
    },
    "papermill": {
     "duration": 0.020704,
     "end_time": "2025-07-30T20:47:31.324794",
     "exception": false,
     "start_time": "2025-07-30T20:47:31.304090",
     "status": "completed"
    },
    "tags": []
   },
   "outputs": [],
   "source": [
    "#cp_groups_df"
   ]
  },
  {
   "cell_type": "code",
   "execution_count": 68,
   "id": "90032e27-66df-4540-9169-4e89cfbaa758",
   "metadata": {
    "execution": {
     "iopub.execute_input": "2025-07-30T20:47:31.354531Z",
     "iopub.status.busy": "2025-07-30T20:47:31.354031Z",
     "iopub.status.idle": "2025-07-30T20:47:31.363519Z",
     "shell.execute_reply": "2025-07-30T20:47:31.362734Z"
    },
    "papermill": {
     "duration": 0.025393,
     "end_time": "2025-07-30T20:47:31.364952",
     "exception": false,
     "start_time": "2025-07-30T20:47:31.339559",
     "status": "completed"
    },
    "tags": []
   },
   "outputs": [],
   "source": [
    "subgroups = ['frau1','nongerman','nongerman_male','nongerman_female']\n",
    "\n",
    "# Conditional coverage for subgroup==1\n",
    "cond_coverage = {\n",
    "    g: cp_groups_df.loc[cp_groups_df[g]==1, 'covered'].mean()\n",
    "    for g in subgroups\n",
    "}"
   ]
  },
  {
   "cell_type": "code",
   "execution_count": 69,
   "id": "1e348fb1-b9c3-45bc-ba23-f016827a7e0d",
   "metadata": {
    "execution": {
     "iopub.execute_input": "2025-07-30T20:47:31.394587Z",
     "iopub.status.busy": "2025-07-30T20:47:31.394081Z",
     "iopub.status.idle": "2025-07-30T20:47:31.400883Z",
     "shell.execute_reply": "2025-07-30T20:47:31.400181Z"
    },
    "papermill": {
     "duration": 0.022936,
     "end_time": "2025-07-30T20:47:31.402206",
     "exception": false,
     "start_time": "2025-07-30T20:47:31.379270",
     "status": "completed"
    },
    "tags": []
   },
   "outputs": [
    {
     "data": {
      "text/plain": [
       "{'frau1': 0.9115244642135059,\n",
       " 'nongerman': 0.8963678212541403,\n",
       " 'nongerman_male': 0.9029991894082681,\n",
       " 'nongerman_female': 0.8853949329359165}"
      ]
     },
     "execution_count": 69,
     "metadata": {},
     "output_type": "execute_result"
    }
   ],
   "source": [
    "cond_coverage"
   ]
  },
  {
   "cell_type": "code",
   "execution_count": 70,
   "id": "f5093324-c3dd-4d63-bc4c-8d945e5c8bbb",
   "metadata": {
    "execution": {
     "iopub.execute_input": "2025-07-30T20:47:31.432408Z",
     "iopub.status.busy": "2025-07-30T20:47:31.431847Z",
     "iopub.status.idle": "2025-07-30T20:47:31.438453Z",
     "shell.execute_reply": "2025-07-30T20:47:31.437691Z"
    },
    "papermill": {
     "duration": 0.022578,
     "end_time": "2025-07-30T20:47:31.439790",
     "exception": false,
     "start_time": "2025-07-30T20:47:31.417212",
     "status": "completed"
    },
    "tags": []
   },
   "outputs": [],
   "source": [
    "for subgroup, cov in cond_coverage.items():\n",
    "    cp_metrics_df[f\"cov_{subgroup}\"] = cov"
   ]
  },
  {
   "cell_type": "code",
   "execution_count": 71,
   "id": "6e872e10-dbe5-49e8-b554-5030c98ff75d",
   "metadata": {
    "execution": {
     "iopub.execute_input": "2025-07-30T20:47:31.494285Z",
     "iopub.status.busy": "2025-07-30T20:47:31.493829Z",
     "iopub.status.idle": "2025-07-30T20:47:31.509548Z",
     "shell.execute_reply": "2025-07-30T20:47:31.508740Z"
    },
    "papermill": {
     "duration": 0.04586,
     "end_time": "2025-07-30T20:47:31.511045",
     "exception": false,
     "start_time": "2025-07-30T20:47:31.465185",
     "status": "completed"
    },
    "tags": []
   },
   "outputs": [
    {
     "data": {
      "text/html": [
       "<div>\n",
       "<style scoped>\n",
       "    .dataframe tbody tr th:only-of-type {\n",
       "        vertical-align: middle;\n",
       "    }\n",
       "\n",
       "    .dataframe tbody tr th {\n",
       "        vertical-align: top;\n",
       "    }\n",
       "\n",
       "    .dataframe thead th {\n",
       "        text-align: right;\n",
       "    }\n",
       "</style>\n",
       "<table border=\"1\" class=\"dataframe\">\n",
       "  <thead>\n",
       "    <tr style=\"text-align: right;\">\n",
       "      <th></th>\n",
       "      <th>universe_id</th>\n",
       "      <th>universe_training_year</th>\n",
       "      <th>universe_training_size</th>\n",
       "      <th>universe_scale</th>\n",
       "      <th>universe_model</th>\n",
       "      <th>universe_exclude_features</th>\n",
       "      <th>universe_exclude_subgroups</th>\n",
       "      <th>q_hat</th>\n",
       "      <th>coverage</th>\n",
       "      <th>avg_size</th>\n",
       "      <th>cov_frau1</th>\n",
       "      <th>cov_nongerman</th>\n",
       "      <th>cov_nongerman_male</th>\n",
       "      <th>cov_nongerman_female</th>\n",
       "    </tr>\n",
       "  </thead>\n",
       "  <tbody>\n",
       "    <tr>\n",
       "      <th>0</th>\n",
       "      <td>2d8b29a568cd9d4b00e2aea8937d40b5</td>\n",
       "      <td>2014</td>\n",
       "      <td>5k</td>\n",
       "      <td>scale</td>\n",
       "      <td>rf</td>\n",
       "      <td>age</td>\n",
       "      <td>drop-non-german</td>\n",
       "      <td>0.66</td>\n",
       "      <td>0.910422</td>\n",
       "      <td>1.137209</td>\n",
       "      <td>0.911524</td>\n",
       "      <td>0.896368</td>\n",
       "      <td>0.902999</td>\n",
       "      <td>0.885395</td>\n",
       "    </tr>\n",
       "  </tbody>\n",
       "</table>\n",
       "</div>"
      ],
      "text/plain": [
       "                        universe_id universe_training_year  \\\n",
       "0  2d8b29a568cd9d4b00e2aea8937d40b5                   2014   \n",
       "\n",
       "  universe_training_size universe_scale universe_model  \\\n",
       "0                     5k          scale             rf   \n",
       "\n",
       "  universe_exclude_features universe_exclude_subgroups  q_hat  coverage  \\\n",
       "0                       age            drop-non-german   0.66  0.910422   \n",
       "\n",
       "   avg_size  cov_frau1  cov_nongerman  cov_nongerman_male  \\\n",
       "0  1.137209   0.911524       0.896368            0.902999   \n",
       "\n",
       "   cov_nongerman_female  \n",
       "0              0.885395  "
      ]
     },
     "execution_count": 71,
     "metadata": {},
     "output_type": "execute_result"
    }
   ],
   "source": [
    "cp_metrics_df"
   ]
  },
  {
   "cell_type": "markdown",
   "id": "33774451",
   "metadata": {
    "papermill": {
     "duration": 0.014024,
     "end_time": "2025-07-30T20:47:31.540405",
     "exception": false,
     "start_time": "2025-07-30T20:47:31.526381",
     "status": "completed"
    },
    "tags": []
   },
   "source": [
    "# (Fairness) Metrics"
   ]
  },
  {
   "cell_type": "code",
   "execution_count": 72,
   "id": "debc5d62",
   "metadata": {
    "execution": {
     "iopub.execute_input": "2025-07-30T20:47:31.573458Z",
     "iopub.status.busy": "2025-07-30T20:47:31.572878Z",
     "iopub.status.idle": "2025-07-30T20:47:31.587637Z",
     "shell.execute_reply": "2025-07-30T20:47:31.586925Z"
    },
    "papermill": {
     "duration": 0.031834,
     "end_time": "2025-07-30T20:47:31.589069",
     "exception": false,
     "start_time": "2025-07-30T20:47:31.557235",
     "status": "completed"
    },
    "tags": []
   },
   "outputs": [],
   "source": [
    "# do I need to include maxdeutsch1.missing?\n",
    "\n",
    "import numpy as np\n",
    "\n",
    "colname_to_bin = \"maxdeutsch1\"\n",
    "majority_value = org_train[colname_to_bin].mode()[0]\n",
    "\n",
    "org_test[\"majmin\"] = np.where(org_test[colname_to_bin] == majority_value, \"majority\", \"minority\")"
   ]
  },
  {
   "cell_type": "code",
   "execution_count": 73,
   "id": "06a50de5",
   "metadata": {
    "execution": {
     "iopub.execute_input": "2025-07-30T20:47:31.642548Z",
     "iopub.status.busy": "2025-07-30T20:47:31.642208Z",
     "iopub.status.idle": "2025-07-30T20:47:34.257046Z",
     "shell.execute_reply": "2025-07-30T20:47:34.255646Z"
    },
    "papermill": {
     "duration": 2.651746,
     "end_time": "2025-07-30T20:47:34.258694",
     "exception": false,
     "start_time": "2025-07-30T20:47:31.606948",
     "status": "completed"
    },
    "tags": []
   },
   "outputs": [],
   "source": [
    "example_universe = universe.copy()\n",
    "example_universe[\"cutoff\"] = example_universe[\"cutoff\"][0]\n",
    "example_universe[\"eval_fairness_grouping\"] = example_universe[\"eval_fairness_grouping\"][0]\n",
    "fairness_dict, metric_frame = universe_analysis.compute_metrics(\n",
    "    example_universe,\n",
    "    y_pred_prob=probs_test,\n",
    "    y_test=y_true,\n",
    "    org_test=org_test,\n",
    ")"
   ]
  },
  {
   "cell_type": "markdown",
   "id": "f95d4e02",
   "metadata": {
    "papermill": {
     "duration": 0.035236,
     "end_time": "2025-07-30T20:47:34.327562",
     "exception": false,
     "start_time": "2025-07-30T20:47:34.292326",
     "status": "completed"
    },
    "tags": []
   },
   "source": [
    "# Overall"
   ]
  },
  {
   "cell_type": "markdown",
   "id": "bdee4871",
   "metadata": {
    "papermill": {
     "duration": 0.034271,
     "end_time": "2025-07-30T20:47:34.398587",
     "exception": false,
     "start_time": "2025-07-30T20:47:34.364316",
     "status": "completed"
    },
    "tags": []
   },
   "source": [
    "Fairness\n",
    "Main fairness target: Equalized Odds. Seems to be a better fit than equal opportunity, since we're not only interested in Y = 1. Seems to be a better fit than demographic parity, since we also care about accuracy, not just equal distribution of preds.\n",
    "\n",
    "Pick column for computation of fairness metrics\n",
    "\n",
    "Performance\n",
    "Overall performance measures, most interesting in relation to the measures split by group below"
   ]
  },
  {
   "cell_type": "code",
   "execution_count": 74,
   "id": "c4e067c6",
   "metadata": {
    "execution": {
     "iopub.execute_input": "2025-07-30T20:47:34.450082Z",
     "iopub.status.busy": "2025-07-30T20:47:34.449588Z",
     "iopub.status.idle": "2025-07-30T20:47:34.458283Z",
     "shell.execute_reply": "2025-07-30T20:47:34.457276Z"
    },
    "papermill": {
     "duration": 0.037295,
     "end_time": "2025-07-30T20:47:34.460532",
     "exception": false,
     "start_time": "2025-07-30T20:47:34.423237",
     "status": "completed"
    },
    "tags": []
   },
   "outputs": [
    {
     "data": {
      "text/plain": [
       "accuracy                   0.198551\n",
       "balanced accuracy          0.532339\n",
       "f1                         0.239046\n",
       "precision                  0.136100\n",
       "false positive rate        0.916639\n",
       "false negative rate        0.018683\n",
       "selection rate             0.924936\n",
       "count                  89710.000000\n",
       "dtype: float64"
      ]
     },
     "execution_count": 74,
     "metadata": {},
     "output_type": "execute_result"
    }
   ],
   "source": [
    "metric_frame.overall"
   ]
  },
  {
   "cell_type": "markdown",
   "id": "e968fe9d",
   "metadata": {
    "papermill": {
     "duration": 0.037776,
     "end_time": "2025-07-30T20:47:34.535379",
     "exception": false,
     "start_time": "2025-07-30T20:47:34.497603",
     "status": "completed"
    },
    "tags": []
   },
   "source": [
    "By Group"
   ]
  },
  {
   "cell_type": "code",
   "execution_count": 75,
   "id": "ec325bce",
   "metadata": {
    "execution": {
     "iopub.execute_input": "2025-07-30T20:47:34.595277Z",
     "iopub.status.busy": "2025-07-30T20:47:34.594588Z",
     "iopub.status.idle": "2025-07-30T20:47:34.610924Z",
     "shell.execute_reply": "2025-07-30T20:47:34.609928Z"
    },
    "papermill": {
     "duration": 0.044969,
     "end_time": "2025-07-30T20:47:34.612812",
     "exception": false,
     "start_time": "2025-07-30T20:47:34.567843",
     "status": "completed"
    },
    "tags": []
   },
   "outputs": [
    {
     "data": {
      "text/html": [
       "<div>\n",
       "<style scoped>\n",
       "    .dataframe tbody tr th:only-of-type {\n",
       "        vertical-align: middle;\n",
       "    }\n",
       "\n",
       "    .dataframe tbody tr th {\n",
       "        vertical-align: top;\n",
       "    }\n",
       "\n",
       "    .dataframe thead th {\n",
       "        text-align: right;\n",
       "    }\n",
       "</style>\n",
       "<table border=\"1\" class=\"dataframe\">\n",
       "  <thead>\n",
       "    <tr style=\"text-align: right;\">\n",
       "      <th></th>\n",
       "      <th>accuracy</th>\n",
       "      <th>balanced accuracy</th>\n",
       "      <th>f1</th>\n",
       "      <th>precision</th>\n",
       "      <th>false positive rate</th>\n",
       "      <th>false negative rate</th>\n",
       "      <th>selection rate</th>\n",
       "      <th>count</th>\n",
       "    </tr>\n",
       "    <tr>\n",
       "      <th>majmin</th>\n",
       "      <th></th>\n",
       "      <th></th>\n",
       "      <th></th>\n",
       "      <th></th>\n",
       "      <th></th>\n",
       "      <th></th>\n",
       "      <th></th>\n",
       "      <th></th>\n",
       "    </tr>\n",
       "  </thead>\n",
       "  <tbody>\n",
       "    <tr>\n",
       "      <th>majority</th>\n",
       "      <td>0.197542</td>\n",
       "      <td>0.533415</td>\n",
       "      <td>0.245863</td>\n",
       "      <td>0.140362</td>\n",
       "      <td>0.923105</td>\n",
       "      <td>0.010066</td>\n",
       "      <td>0.931936</td>\n",
       "      <td>69170.0</td>\n",
       "    </tr>\n",
       "    <tr>\n",
       "      <th>minority</th>\n",
       "      <td>0.201947</td>\n",
       "      <td>0.526389</td>\n",
       "      <td>0.215018</td>\n",
       "      <td>0.121260</td>\n",
       "      <td>0.895278</td>\n",
       "      <td>0.051943</td>\n",
       "      <td>0.901363</td>\n",
       "      <td>20540.0</td>\n",
       "    </tr>\n",
       "  </tbody>\n",
       "</table>\n",
       "</div>"
      ],
      "text/plain": [
       "          accuracy  balanced accuracy        f1  precision  \\\n",
       "majmin                                                       \n",
       "majority  0.197542           0.533415  0.245863   0.140362   \n",
       "minority  0.201947           0.526389  0.215018   0.121260   \n",
       "\n",
       "          false positive rate  false negative rate  selection rate    count  \n",
       "majmin                                                                       \n",
       "majority             0.923105             0.010066        0.931936  69170.0  \n",
       "minority             0.895278             0.051943        0.901363  20540.0  "
      ]
     },
     "execution_count": 75,
     "metadata": {},
     "output_type": "execute_result"
    }
   ],
   "source": [
    "metric_frame.by_group"
   ]
  },
  {
   "cell_type": "code",
   "execution_count": 76,
   "id": "a9ddbe63",
   "metadata": {
    "execution": {
     "iopub.execute_input": "2025-07-30T20:47:34.676555Z",
     "iopub.status.busy": "2025-07-30T20:47:34.675659Z",
     "iopub.status.idle": "2025-07-30T20:47:37.069759Z",
     "shell.execute_reply": "2025-07-30T20:47:37.069051Z"
    },
    "papermill": {
     "duration": 2.425297,
     "end_time": "2025-07-30T20:47:37.071199",
     "exception": false,
     "start_time": "2025-07-30T20:47:34.645902",
     "status": "completed"
    },
    "tags": []
   },
   "outputs": [
    {
     "data": {
      "text/plain": [
       "array([[<Axes: title={'center': 'accuracy'}, xlabel='majmin'>,\n",
       "        <Axes: title={'center': 'balanced accuracy'}, xlabel='majmin'>,\n",
       "        <Axes: title={'center': 'f1'}, xlabel='majmin'>],\n",
       "       [<Axes: title={'center': 'precision'}, xlabel='majmin'>,\n",
       "        <Axes: title={'center': 'false positive rate'}, xlabel='majmin'>,\n",
       "        <Axes: title={'center': 'false negative rate'}, xlabel='majmin'>],\n",
       "       [<Axes: title={'center': 'selection rate'}, xlabel='majmin'>,\n",
       "        <Axes: title={'center': 'count'}, xlabel='majmin'>,\n",
       "        <Axes: xlabel='majmin'>]], dtype=object)"
      ]
     },
     "execution_count": 76,
     "metadata": {},
     "output_type": "execute_result"
    },
    {
     "data": {
      "image/png": "[encoded data removed]",
      "text/plain": [
       "<Figure size 1200x800 with 9 Axes>"
      ]
     },
     "metadata": {},
     "output_type": "display_data"
    }
   ],
   "source": [
    "# In a graphic\n",
    "metric_frame.by_group.plot.bar(\n",
    "    subplots=True,\n",
    "    layout=[3, 3],\n",
    "    legend=False,\n",
    "    figsize=[12, 8],\n",
    "    title=\"Show all metrics\",\n",
    ")"
   ]
  },
  {
   "cell_type": "markdown",
   "id": "f57a0bac",
   "metadata": {
    "papermill": {
     "duration": 0.027689,
     "end_time": "2025-07-30T20:47:37.132062",
     "exception": false,
     "start_time": "2025-07-30T20:47:37.104373",
     "status": "completed"
    },
    "tags": []
   },
   "source": [
    "# Final Output"
   ]
  },
  {
   "cell_type": "code",
   "execution_count": 77,
   "id": "96d280a3",
   "metadata": {
    "execution": {
     "iopub.execute_input": "2025-07-30T20:47:37.189548Z",
     "iopub.status.busy": "2025-07-30T20:47:37.188892Z",
     "iopub.status.idle": "2025-07-30T20:47:37.197234Z",
     "shell.execute_reply": "2025-07-30T20:47:37.196295Z"
    },
    "papermill": {
     "duration": 0.038782,
     "end_time": "2025-07-30T20:47:37.198732",
     "exception": false,
     "start_time": "2025-07-30T20:47:37.159950",
     "status": "completed"
    },
    "tags": []
   },
   "outputs": [
    {
     "data": {
      "text/plain": [
       "4"
      ]
     },
     "execution_count": 77,
     "metadata": {},
     "output_type": "execute_result"
    }
   ],
   "source": [
    "sub_universes = universe_analysis.generate_sub_universes()\n",
    "len(sub_universes)"
   ]
  },
  {
   "cell_type": "code",
   "execution_count": 78,
   "id": "92adf7ba",
   "metadata": {
    "execution": {
     "iopub.execute_input": "2025-07-30T20:47:37.258624Z",
     "iopub.status.busy": "2025-07-30T20:47:37.257704Z",
     "iopub.status.idle": "2025-07-30T20:47:37.263998Z",
     "shell.execute_reply": "2025-07-30T20:47:37.263025Z"
    },
    "papermill": {
     "duration": 0.038011,
     "end_time": "2025-07-30T20:47:37.265744",
     "exception": false,
     "start_time": "2025-07-30T20:47:37.227733",
     "status": "completed"
    },
    "tags": []
   },
   "outputs": [],
   "source": [
    "def filter_sub_universe_data(sub_universe, org_test):\n",
    "    # Keep all rows — no filtering\n",
    "    keep_rows_mask = np.ones(org_test.shape[0], dtype=bool)\n",
    "\n",
    "    print(f\"[INFO] Keeping all rows: {keep_rows_mask.sum()} rows retained.\")\n",
    "    return keep_rows_mask"
   ]
  },
  {
   "cell_type": "code",
   "execution_count": 79,
   "id": "4a759155",
   "metadata": {
    "execution": {
     "iopub.execute_input": "2025-07-30T20:47:37.324473Z",
     "iopub.status.busy": "2025-07-30T20:47:37.323973Z",
     "iopub.status.idle": "2025-07-30T20:47:45.984615Z",
     "shell.execute_reply": "2025-07-30T20:47:45.983639Z"
    },
    "papermill": {
     "duration": 8.691765,
     "end_time": "2025-07-30T20:47:45.986375",
     "exception": false,
     "start_time": "2025-07-30T20:47:37.294610",
     "status": "completed"
    },
    "tags": []
   },
   "outputs": [
    {
     "name": "stdout",
     "output_type": "stream",
     "text": [
      "Stopping execution_time clock.\n",
      "[INFO] Keeping all rows: 89710 rows retained.\n"
     ]
    },
    {
     "name": "stdout",
     "output_type": "stream",
     "text": [
      "[INFO] Keeping all rows: 89710 rows retained.\n"
     ]
    },
    {
     "name": "stdout",
     "output_type": "stream",
     "text": [
      "[INFO] Keeping all rows: 89710 rows retained.\n"
     ]
    },
    {
     "name": "stdout",
     "output_type": "stream",
     "text": [
      "[INFO] Keeping all rows: 89710 rows retained.\n"
     ]
    },
    {
     "data": {
      "text/html": [
       "<div>\n",
       "<style scoped>\n",
       "    .dataframe tbody tr th:only-of-type {\n",
       "        vertical-align: middle;\n",
       "    }\n",
       "\n",
       "    .dataframe tbody tr th {\n",
       "        vertical-align: top;\n",
       "    }\n",
       "\n",
       "    .dataframe thead th {\n",
       "        text-align: right;\n",
       "    }\n",
       "</style>\n",
       "<table border=\"1\" class=\"dataframe\">\n",
       "  <thead>\n",
       "    <tr style=\"text-align: right;\">\n",
       "      <th></th>\n",
       "      <th>run_no</th>\n",
       "      <th>universe_id</th>\n",
       "      <th>universe_settings</th>\n",
       "      <th>execution_time</th>\n",
       "      <th>test_size_n</th>\n",
       "      <th>test_size_frac</th>\n",
       "      <th>fair_main_equalized_odds_difference</th>\n",
       "      <th>fair_main_equalized_odds_ratio</th>\n",
       "      <th>fair_main_demographic_parity_difference</th>\n",
       "      <th>fair_main_demographic_parity_ratio</th>\n",
       "      <th>...</th>\n",
       "      <th>perf_grp_precision_0</th>\n",
       "      <th>perf_grp_precision_1</th>\n",
       "      <th>perf_grp_false positive rate_0</th>\n",
       "      <th>perf_grp_false positive rate_1</th>\n",
       "      <th>perf_grp_false negative rate_0</th>\n",
       "      <th>perf_grp_false negative rate_1</th>\n",
       "      <th>perf_grp_selection rate_0</th>\n",
       "      <th>perf_grp_selection rate_1</th>\n",
       "      <th>perf_grp_count_0</th>\n",
       "      <th>perf_grp_count_1</th>\n",
       "    </tr>\n",
       "  </thead>\n",
       "  <tbody>\n",
       "    <tr>\n",
       "      <th>0</th>\n",
       "      <td>14</td>\n",
       "      <td>2d8b29a568cd9d4b00e2aea8937d40b5</td>\n",
       "      <td>{\"cutoff\": \"quantile_0.1\", \"eval_fairness_grou...</td>\n",
       "      <td>30.886946</td>\n",
       "      <td>89710</td>\n",
       "      <td>1.0</td>\n",
       "      <td>0.041877</td>\n",
       "      <td>0.957697</td>\n",
       "      <td>0.030573</td>\n",
       "      <td>0.967195</td>\n",
       "      <td>...</td>\n",
       "      <td>NaN</td>\n",
       "      <td>NaN</td>\n",
       "      <td>NaN</td>\n",
       "      <td>NaN</td>\n",
       "      <td>NaN</td>\n",
       "      <td>NaN</td>\n",
       "      <td>NaN</td>\n",
       "      <td>NaN</td>\n",
       "      <td>NaN</td>\n",
       "      <td>NaN</td>\n",
       "    </tr>\n",
       "    <tr>\n",
       "      <th>0</th>\n",
       "      <td>14</td>\n",
       "      <td>2d8b29a568cd9d4b00e2aea8937d40b5</td>\n",
       "      <td>{\"cutoff\": \"quantile_0.1\", \"eval_fairness_grou...</td>\n",
       "      <td>30.886946</td>\n",
       "      <td>89710</td>\n",
       "      <td>1.0</td>\n",
       "      <td>0.041877</td>\n",
       "      <td>0.957697</td>\n",
       "      <td>0.030573</td>\n",
       "      <td>0.967195</td>\n",
       "      <td>...</td>\n",
       "      <td>0.121260</td>\n",
       "      <td>0.140362</td>\n",
       "      <td>0.895278</td>\n",
       "      <td>0.923105</td>\n",
       "      <td>0.051943</td>\n",
       "      <td>0.010066</td>\n",
       "      <td>0.901363</td>\n",
       "      <td>0.931936</td>\n",
       "      <td>20540.0</td>\n",
       "      <td>69170.0</td>\n",
       "    </tr>\n",
       "    <tr>\n",
       "      <th>0</th>\n",
       "      <td>14</td>\n",
       "      <td>2d8b29a568cd9d4b00e2aea8937d40b5</td>\n",
       "      <td>{\"cutoff\": \"quantile_0.25\", \"eval_fairness_gro...</td>\n",
       "      <td>30.886946</td>\n",
       "      <td>89710</td>\n",
       "      <td>1.0</td>\n",
       "      <td>0.094745</td>\n",
       "      <td>0.899318</td>\n",
       "      <td>0.038933</td>\n",
       "      <td>0.949048</td>\n",
       "      <td>...</td>\n",
       "      <td>NaN</td>\n",
       "      <td>NaN</td>\n",
       "      <td>NaN</td>\n",
       "      <td>NaN</td>\n",
       "      <td>NaN</td>\n",
       "      <td>NaN</td>\n",
       "      <td>NaN</td>\n",
       "      <td>NaN</td>\n",
       "      <td>NaN</td>\n",
       "      <td>NaN</td>\n",
       "    </tr>\n",
       "    <tr>\n",
       "      <th>0</th>\n",
       "      <td>14</td>\n",
       "      <td>2d8b29a568cd9d4b00e2aea8937d40b5</td>\n",
       "      <td>{\"cutoff\": \"quantile_0.25\", \"eval_fairness_gro...</td>\n",
       "      <td>30.886946</td>\n",
       "      <td>89710</td>\n",
       "      <td>1.0</td>\n",
       "      <td>0.094745</td>\n",
       "      <td>0.899318</td>\n",
       "      <td>0.038933</td>\n",
       "      <td>0.949048</td>\n",
       "      <td>...</td>\n",
       "      <td>0.134542</td>\n",
       "      <td>0.162734</td>\n",
       "      <td>0.709388</td>\n",
       "      <td>0.737165</td>\n",
       "      <td>0.153716</td>\n",
       "      <td>0.058972</td>\n",
       "      <td>0.725170</td>\n",
       "      <td>0.764103</td>\n",
       "      <td>20540.0</td>\n",
       "      <td>69170.0</td>\n",
       "    </tr>\n",
       "  </tbody>\n",
       "</table>\n",
       "<p>4 rows × 50 columns</p>\n",
       "</div>"
      ],
      "text/plain": [
       "  run_no                       universe_id  \\\n",
       "0     14  2d8b29a568cd9d4b00e2aea8937d40b5   \n",
       "0     14  2d8b29a568cd9d4b00e2aea8937d40b5   \n",
       "0     14  2d8b29a568cd9d4b00e2aea8937d40b5   \n",
       "0     14  2d8b29a568cd9d4b00e2aea8937d40b5   \n",
       "\n",
       "                                   universe_settings  execution_time  \\\n",
       "0  {\"cutoff\": \"quantile_0.1\", \"eval_fairness_grou...       30.886946   \n",
       "0  {\"cutoff\": \"quantile_0.1\", \"eval_fairness_grou...       30.886946   \n",
       "0  {\"cutoff\": \"quantile_0.25\", \"eval_fairness_gro...       30.886946   \n",
       "0  {\"cutoff\": \"quantile_0.25\", \"eval_fairness_gro...       30.886946   \n",
       "\n",
       "   test_size_n  test_size_frac  fair_main_equalized_odds_difference  \\\n",
       "0        89710             1.0                             0.041877   \n",
       "0        89710             1.0                             0.041877   \n",
       "0        89710             1.0                             0.094745   \n",
       "0        89710             1.0                             0.094745   \n",
       "\n",
       "   fair_main_equalized_odds_ratio  fair_main_demographic_parity_difference  \\\n",
       "0                        0.957697                                 0.030573   \n",
       "0                        0.957697                                 0.030573   \n",
       "0                        0.899318                                 0.038933   \n",
       "0                        0.899318                                 0.038933   \n",
       "\n",
       "   fair_main_demographic_parity_ratio  ...  perf_grp_precision_0  \\\n",
       "0                            0.967195  ...                   NaN   \n",
       "0                            0.967195  ...              0.121260   \n",
       "0                            0.949048  ...                   NaN   \n",
       "0                            0.949048  ...              0.134542   \n",
       "\n",
       "   perf_grp_precision_1  perf_grp_false positive rate_0  \\\n",
       "0                   NaN                             NaN   \n",
       "0              0.140362                        0.895278   \n",
       "0                   NaN                             NaN   \n",
       "0              0.162734                        0.709388   \n",
       "\n",
       "   perf_grp_false positive rate_1  perf_grp_false negative rate_0  \\\n",
       "0                             NaN                             NaN   \n",
       "0                        0.923105                        0.051943   \n",
       "0                             NaN                             NaN   \n",
       "0                        0.737165                        0.153716   \n",
       "\n",
       "   perf_grp_false negative rate_1  perf_grp_selection rate_0  \\\n",
       "0                             NaN                        NaN   \n",
       "0                        0.010066                   0.901363   \n",
       "0                             NaN                        NaN   \n",
       "0                        0.058972                   0.725170   \n",
       "\n",
       "   perf_grp_selection rate_1  perf_grp_count_0  perf_grp_count_1  \n",
       "0                        NaN               NaN               NaN  \n",
       "0                   0.931936           20540.0           69170.0  \n",
       "0                        NaN               NaN               NaN  \n",
       "0                   0.764103           20540.0           69170.0  \n",
       "\n",
       "[4 rows x 50 columns]"
      ]
     },
     "execution_count": 79,
     "metadata": {},
     "output_type": "execute_result"
    }
   ],
   "source": [
    "final_output = universe_analysis.generate_final_output(\n",
    "    y_pred_prob=probs_test,\n",
    "    y_test=y_true,\n",
    "    org_test=org_test,\n",
    "    filter_data=filter_sub_universe_data,\n",
    "    cp_metrics_df=cp_metrics_df,\n",
    "    save=True,\n",
    ")\n",
    "final_output"
   ]
  },
  {
   "cell_type": "code",
   "execution_count": null,
   "id": "721ff514-cb11-46f8-b6fc-50392f74b5cb",
   "metadata": {
    "papermill": {
     "duration": 0.027934,
     "end_time": "2025-07-30T20:47:46.042328",
     "exception": false,
     "start_time": "2025-07-30T20:47:46.014394",
     "status": "completed"
    },
    "tags": []
   },
   "outputs": [],
   "source": []
  }
 ],
 "metadata": {
  "celltoolbar": "Tags",
  "kernelspec": {
   "display_name": "Python (CMA Fairness)",
   "language": "python",
   "name": "cma_fair_env"
  },
  "language_info": {
   "codemirror_mode": {
    "name": "ipython",
    "version": 3
   },
   "file_extension": ".py",
   "mimetype": "text/x-python",
   "name": "python",
   "nbconvert_exporter": "python",
   "pygments_lexer": "ipython3",
   "version": "3.10.12"
  },
  "papermill": {
   "default_parameters": {},
   "duration": 43.672445,
   "end_time": "2025-07-30T20:47:46.791546",
   "environment_variables": {},
   "exception": null,
   "input_path": "universe_analysis.ipynb",
   "output_path": "output/runs/14/notebooks/m_14-2d8b29a568cd9d4b00e2aea8937d40b5.ipynb",
   "parameters": {
    "output_dir": "output",
    "run_no": "14",
    "seed": "2023",
    "universe": "{\"cutoff\": [\"quantile_0.1\", \"quantile_0.25\"], \"eval_fairness_grouping\": [\"majority-minority\", \"nationality-all\"], \"exclude_features\": \"age\", \"exclude_subgroups\": \"drop-non-german\", \"model\": \"rf\", \"scale\": \"scale\", \"training_size\": \"5k\", \"training_year\": \"2014\"}",
    "universe_id": "2d8b29a568cd9d4b00e2aea8937d40b5"
   },
   "start_time": "2025-07-30T20:47:03.119101",
   "version": "2.6.0"
  }
 },
 "nbformat": 4,
 "nbformat_minor": 5
}