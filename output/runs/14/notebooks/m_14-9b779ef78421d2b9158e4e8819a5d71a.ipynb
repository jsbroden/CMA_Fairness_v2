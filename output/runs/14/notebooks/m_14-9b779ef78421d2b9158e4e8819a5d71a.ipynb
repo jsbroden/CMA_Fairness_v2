{
 "cells": [
  {
   "cell_type": "code",
   "execution_count": 1,
   "id": "f159f837-637b-42ba-96b5-ec9a68c44524",
   "metadata": {
    "execution": {
     "iopub.execute_input": "2025-07-30T19:56:51.694067Z",
     "iopub.status.busy": "2025-07-30T19:56:51.693165Z",
     "iopub.status.idle": "2025-07-30T19:56:51.707482Z",
     "shell.execute_reply": "2025-07-30T19:56:51.706359Z"
    },
    "papermill": {
     "duration": 0.036284,
     "end_time": "2025-07-30T19:56:51.709167",
     "exception": false,
     "start_time": "2025-07-30T19:56:51.672883",
     "status": "completed"
    },
    "tags": []
   },
   "outputs": [
    {
     "name": "stdout",
     "output_type": "stream",
     "text": [
      "/dss/dsshome1/0C/ra93lal2/cma/CMA_Fairness_v2\n"
     ]
    },
    {
     "name": "stderr",
     "output_type": "stream",
     "text": [
      "/dss/dsshome1/0C/ra93lal2/.local/share/virtualenvs/CMA_Fairness_v2-3j10GkSs/lib/python3.10/site-packages/IPython/core/magics/osm.py:393: UserWarning: This is now an optional IPython functionality, using bookmarks requires you to install the `pickleshare` library.\n",
      "  bkms = self.shell.db.get('bookmarks', {})\n",
      "/dss/dsshome1/0C/ra93lal2/.local/share/virtualenvs/CMA_Fairness_v2-3j10GkSs/lib/python3.10/site-packages/IPython/core/magics/osm.py:417: UserWarning: This is now an optional IPython functionality, setting dhist requires you to install the `pickleshare` library.\n",
      "  self.shell.db['dhist'] = compress_dhist(dhist)[-100:]\n"
     ]
    }
   ],
   "source": [
    "%cd ~/cma/CMA_Fairness_v2"
   ]
  },
  {
   "cell_type": "markdown",
   "id": "de2603b9",
   "metadata": {
    "papermill": {
     "duration": 0.01531,
     "end_time": "2025-07-30T19:56:51.759110",
     "exception": false,
     "start_time": "2025-07-30T19:56:51.743800",
     "status": "completed"
    },
    "tags": []
   },
   "source": [
    "The following cell holds the definition of our parameters, these values can be overriden by rendering the with e.g. the following command:\n",
    "\n",
    "papermill -p alpha 0.2 -p ratio 0.3 universe_analysis.ipynb output/test_run.ipynb"
   ]
  },
  {
   "cell_type": "code",
   "execution_count": 2,
   "id": "a80968a0-40bb-4fa9-85ef-2d5eefb01975",
   "metadata": {
    "execution": {
     "iopub.execute_input": "2025-07-30T19:56:51.791924Z",
     "iopub.status.busy": "2025-07-30T19:56:51.791424Z",
     "iopub.status.idle": "2025-07-30T19:56:51.796965Z",
     "shell.execute_reply": "2025-07-30T19:56:51.796043Z"
    },
    "papermill": {
     "duration": 0.022192,
     "end_time": "2025-07-30T19:56:51.798435",
     "exception": false,
     "start_time": "2025-07-30T19:56:51.776243",
     "status": "completed"
    },
    "tags": []
   },
   "outputs": [
    {
     "name": "stdout",
     "output_type": "stream",
     "text": [
      "Current working directory: /dss/dsshome1/0C/ra93lal2/cma/CMA_Fairness_v2\n"
     ]
    }
   ],
   "source": [
    "import os\n",
    "print(\"Current working directory:\", os.getcwd())"
   ]
  },
  {
   "cell_type": "code",
   "execution_count": 3,
   "id": "2dce4c03",
   "metadata": {
    "execution": {
     "iopub.execute_input": "2025-07-30T19:56:51.837364Z",
     "iopub.status.busy": "2025-07-30T19:56:51.836998Z",
     "iopub.status.idle": "2025-07-30T19:56:51.843322Z",
     "shell.execute_reply": "2025-07-30T19:56:51.842642Z"
    },
    "papermill": {
     "duration": 0.025704,
     "end_time": "2025-07-30T19:56:51.844733",
     "exception": false,
     "start_time": "2025-07-30T19:56:51.819029",
     "status": "completed"
    },
    "tags": [
     "parameters"
    ]
   },
   "outputs": [],
   "source": [
    "run_no = 0\n",
    "universe_id = \"test\"\n",
    "universe = {\n",
    "    \"training_size\": \"25k\", # \"25k\", \"5k\", \"1k\"\n",
    "    \"training_year\": \"2014\", # \"2014\", \"2012_14\", \"2010_14\"\n",
    "    \"scale\": \"scale\", # \"scale\", \"do-not-scale\",\n",
    "    #\"stratify_split\": \"target\", # \"none\", \"target\", \"protected-attribute\", \"both\",\n",
    "    \"model\": \"elasticnet\", # \"logreg\", \"penalized_logreg\", \"rf\", \"gbm\", \"elasticnet\"\n",
    "    \"cutoff\": [\"quantile_0.15\", \"quantile_0.30\"],\n",
    "    \"exclude_features\": \"age\", # \"none\", \"nationality\", \"sex\", \"nationality-sex\", \"age\"\n",
    "    \"exclude_subgroups\": \"keep-all\", # \"keep-all\", \"drop-non-german\"\n",
    "    \"eval_fairness_grouping\": [\"majority-minority\", \"nationality-all\"]\n",
    "}\n",
    "\n",
    "output_dir=\"./output\"\n",
    "seed=0"
   ]
  },
  {
   "cell_type": "code",
   "execution_count": 4,
   "id": "ee95629f",
   "metadata": {
    "execution": {
     "iopub.execute_input": "2025-07-30T19:56:51.867581Z",
     "iopub.status.busy": "2025-07-30T19:56:51.867096Z",
     "iopub.status.idle": "2025-07-30T19:56:51.871879Z",
     "shell.execute_reply": "2025-07-30T19:56:51.870872Z"
    },
    "papermill": {
     "duration": 0.017877,
     "end_time": "2025-07-30T19:56:51.873569",
     "exception": false,
     "start_time": "2025-07-30T19:56:51.855692",
     "status": "completed"
    },
    "tags": [
     "injected-parameters"
    ]
   },
   "outputs": [],
   "source": [
    "# Parameters\n",
    "universe_id = \"9b779ef78421d2b9158e4e8819a5d71a\"\n",
    "run_no = \"14\"\n",
    "universe = \"{\\\"cutoff\\\": [\\\"quantile_0.1\\\", \\\"quantile_0.25\\\"], \\\"eval_fairness_grouping\\\": [\\\"majority-minority\\\", \\\"nationality-all\\\"], \\\"exclude_features\\\": \\\"nationality\\\", \\\"exclude_subgroups\\\": \\\"keep-all\\\", \\\"model\\\": \\\"logreg\\\", \\\"scale\\\": \\\"do-not-scale\\\", \\\"training_size\\\": \\\"25k\\\", \\\"training_year\\\": \\\"2014\\\"}\"\n",
    "output_dir = \"output\"\n",
    "seed = \"2023\"\n"
   ]
  },
  {
   "cell_type": "code",
   "execution_count": 5,
   "id": "1650acaf",
   "metadata": {
    "execution": {
     "iopub.execute_input": "2025-07-30T19:56:51.914183Z",
     "iopub.status.busy": "2025-07-30T19:56:51.913742Z",
     "iopub.status.idle": "2025-07-30T19:56:51.918592Z",
     "shell.execute_reply": "2025-07-30T19:56:51.917666Z"
    },
    "papermill": {
     "duration": 0.028143,
     "end_time": "2025-07-30T19:56:51.920246",
     "exception": false,
     "start_time": "2025-07-30T19:56:51.892103",
     "status": "completed"
    },
    "tags": []
   },
   "outputs": [],
   "source": [
    "import json\n",
    "# Parse universe into dict if it is passed as a string\n",
    "if isinstance(universe, str):\n",
    "    universe = json.loads(universe)"
   ]
  },
  {
   "cell_type": "code",
   "execution_count": 6,
   "id": "16620c48",
   "metadata": {
    "execution": {
     "iopub.execute_input": "2025-07-30T19:56:51.964552Z",
     "iopub.status.busy": "2025-07-30T19:56:51.964079Z",
     "iopub.status.idle": "2025-07-30T19:56:52.009803Z",
     "shell.execute_reply": "2025-07-30T19:56:52.008898Z"
    },
    "papermill": {
     "duration": 0.070573,
     "end_time": "2025-07-30T19:56:52.011632",
     "exception": false,
     "start_time": "2025-07-30T19:56:51.941059",
     "status": "completed"
    },
    "tags": []
   },
   "outputs": [],
   "source": [
    "# Auto-reload the custom package\n",
    "%load_ext autoreload\n",
    "%autoreload 1\n",
    "%aimport fairness_multiverse"
   ]
  },
  {
   "cell_type": "code",
   "execution_count": 7,
   "id": "01c5c9f3",
   "metadata": {
    "execution": {
     "iopub.execute_input": "2025-07-30T19:56:52.054603Z",
     "iopub.status.busy": "2025-07-30T19:56:52.053996Z",
     "iopub.status.idle": "2025-07-30T19:56:53.962613Z",
     "shell.execute_reply": "2025-07-30T19:56:53.961811Z"
    },
    "papermill": {
     "duration": 1.931079,
     "end_time": "2025-07-30T19:56:53.964081",
     "exception": false,
     "start_time": "2025-07-30T19:56:52.033002",
     "status": "completed"
    },
    "tags": []
   },
   "outputs": [],
   "source": [
    "from fairness_multiverse.universe import UniverseAnalysis\n",
    "\n",
    "universe_analysis = UniverseAnalysis(\n",
    "    run_no = run_no,\n",
    "    universe_id = universe_id,\n",
    "    universe = universe,\n",
    "    output_dir=output_dir,\n",
    ")"
   ]
  },
  {
   "cell_type": "code",
   "execution_count": 8,
   "id": "106241f5",
   "metadata": {
    "execution": {
     "iopub.execute_input": "2025-07-30T19:56:53.987623Z",
     "iopub.status.busy": "2025-07-30T19:56:53.987339Z",
     "iopub.status.idle": "2025-07-30T19:56:53.994509Z",
     "shell.execute_reply": "2025-07-30T19:56:53.993574Z"
    },
    "papermill": {
     "duration": 0.021327,
     "end_time": "2025-07-30T19:56:53.996388",
     "exception": false,
     "start_time": "2025-07-30T19:56:53.975061",
     "status": "completed"
    },
    "tags": []
   },
   "outputs": [
    {
     "name": "stdout",
     "output_type": "stream",
     "text": [
      "Using Seed: 2023\n"
     ]
    }
   ],
   "source": [
    "import numpy as np\n",
    "parsed_seed = int(seed)\n",
    "np.random.seed(parsed_seed)\n",
    "print(f\"Using Seed: {parsed_seed}\")"
   ]
  },
  {
   "cell_type": "markdown",
   "id": "e0ebdc57",
   "metadata": {
    "papermill": {
     "duration": 0.020772,
     "end_time": "2025-07-30T19:56:54.038263",
     "exception": false,
     "start_time": "2025-07-30T19:56:54.017491",
     "status": "completed"
    },
    "tags": []
   },
   "source": [
    "# Loading Data"
   ]
  },
  {
   "cell_type": "markdown",
   "id": "681925a3",
   "metadata": {
    "papermill": {
     "duration": 0.020605,
     "end_time": "2025-07-30T19:56:54.079985",
     "exception": false,
     "start_time": "2025-07-30T19:56:54.059380",
     "status": "completed"
    },
    "tags": []
   },
   "source": [
    "Load siab_train, siab_test, siab_calib and/or \n",
    "load siab_train_features, siab_train_labels"
   ]
  },
  {
   "cell_type": "code",
   "execution_count": 9,
   "id": "f0496b8a",
   "metadata": {
    "execution": {
     "iopub.execute_input": "2025-07-30T19:56:54.121672Z",
     "iopub.status.busy": "2025-07-30T19:56:54.120842Z",
     "iopub.status.idle": "2025-07-30T19:57:06.498633Z",
     "shell.execute_reply": "2025-07-30T19:57:06.497479Z"
    },
    "papermill": {
     "duration": 12.402171,
     "end_time": "2025-07-30T19:57:06.500179",
     "exception": false,
     "start_time": "2025-07-30T19:56:54.098008",
     "status": "completed"
    },
    "tags": []
   },
   "outputs": [
    {
     "name": "stdout",
     "output_type": "stream",
     "text": [
      "Loading SIAB data from cache: data/siab_cached.csv.gz\n"
     ]
    },
    {
     "name": "stdout",
     "output_type": "stream",
     "text": [
      "(643690, 164)\n"
     ]
    }
   ],
   "source": [
    "from pathlib import Path\n",
    "import pandas as pd\n",
    "\n",
    "# File paths\n",
    "raw_file = Path(\"data/raw/siab.csv\")\n",
    "cache_file = Path(\"data/siab_cached.csv.gz\")\n",
    "\n",
    "# Ensure cache directory exists\n",
    "cache_file.parent.mkdir(parents=True, exist_ok=True)\n",
    "\n",
    "# Load with simple caching\n",
    "if cache_file.exists():\n",
    "    print(f\"Loading SIAB data from cache: {cache_file}\")\n",
    "    siab = pd.read_csv(cache_file, compression='gzip')\n",
    "else:\n",
    "    print(f\"Cache not found. Reading raw SIAB data: {raw_file}\")\n",
    "    siab = pd.read_csv(raw_file)\n",
    "    siab.to_csv(cache_file, index=False, compression='gzip')\n",
    "    print(f\"Cached SIAB data to: {cache_file}\")\n",
    "\n",
    "# Now use `siab` DataFrame as needed\n",
    "print(siab.shape)"
   ]
  },
  {
   "cell_type": "code",
   "execution_count": 10,
   "id": "db0ca512-5f53-4dba-abdb-a2888bca41ba",
   "metadata": {
    "execution": {
     "iopub.execute_input": "2025-07-30T19:57:06.543250Z",
     "iopub.status.busy": "2025-07-30T19:57:06.542819Z",
     "iopub.status.idle": "2025-07-30T19:57:06.548782Z",
     "shell.execute_reply": "2025-07-30T19:57:06.547780Z"
    },
    "papermill": {
     "duration": 0.028582,
     "end_time": "2025-07-30T19:57:06.550410",
     "exception": false,
     "start_time": "2025-07-30T19:57:06.521828",
     "status": "completed"
    },
    "tags": []
   },
   "outputs": [],
   "source": [
    "#siab"
   ]
  },
  {
   "cell_type": "code",
   "execution_count": 11,
   "id": "a0edb063",
   "metadata": {
    "execution": {
     "iopub.execute_input": "2025-07-30T19:57:06.598780Z",
     "iopub.status.busy": "2025-07-30T19:57:06.598105Z",
     "iopub.status.idle": "2025-07-30T19:57:06.604269Z",
     "shell.execute_reply": "2025-07-30T19:57:06.603234Z"
    },
    "papermill": {
     "duration": 0.032817,
     "end_time": "2025-07-30T19:57:06.606041",
     "exception": false,
     "start_time": "2025-07-30T19:57:06.573224",
     "status": "completed"
    },
    "tags": []
   },
   "outputs": [],
   "source": [
    "#import pandas as pd\n",
    "#\n",
    "#X_train = pd.read_csv(\"./data/X_train.csv\")\n",
    "#y_train = pd.read_csv(\"./data/y_train.csv\")"
   ]
  },
  {
   "cell_type": "code",
   "execution_count": 12,
   "id": "63d08085",
   "metadata": {
    "execution": {
     "iopub.execute_input": "2025-07-30T19:57:06.650859Z",
     "iopub.status.busy": "2025-07-30T19:57:06.649929Z",
     "iopub.status.idle": "2025-07-30T19:57:06.655670Z",
     "shell.execute_reply": "2025-07-30T19:57:06.654651Z"
    },
    "papermill": {
     "duration": 0.031065,
     "end_time": "2025-07-30T19:57:06.658955",
     "exception": false,
     "start_time": "2025-07-30T19:57:06.627890",
     "status": "completed"
    },
    "tags": []
   },
   "outputs": [],
   "source": [
    "#X_test = pd.read_csv(\"./data/X_test.csv\")\n",
    "#y_true = pd.read_csv(\"./data/y_test.csv\")"
   ]
  },
  {
   "cell_type": "code",
   "execution_count": 13,
   "id": "98a8d0fa-1d3d-4ed8-bb2c-281470e24add",
   "metadata": {
    "execution": {
     "iopub.execute_input": "2025-07-30T19:57:06.704151Z",
     "iopub.status.busy": "2025-07-30T19:57:06.703642Z",
     "iopub.status.idle": "2025-07-30T19:57:06.708654Z",
     "shell.execute_reply": "2025-07-30T19:57:06.707732Z"
    },
    "papermill": {
     "duration": 0.02842,
     "end_time": "2025-07-30T19:57:06.710443",
     "exception": false,
     "start_time": "2025-07-30T19:57:06.682023",
     "status": "completed"
    },
    "tags": []
   },
   "outputs": [],
   "source": [
    "# Calibration data for conformal\n",
    "#X_calib = pd.read_csv(\"./data/X_calib.csv\")\n",
    "#y_calib = pd.read_csv(\"./data/y_calib.csv\")"
   ]
  },
  {
   "cell_type": "markdown",
   "id": "997051c5-15bd-4b69-9786-c3001a3ce484",
   "metadata": {
    "papermill": {
     "duration": 0.020907,
     "end_time": "2025-07-30T19:57:06.753413",
     "exception": false,
     "start_time": "2025-07-30T19:57:06.732506",
     "status": "completed"
    },
    "tags": []
   },
   "source": [
    "# Splitting Data and Setting Training Data Size"
   ]
  },
  {
   "cell_type": "code",
   "execution_count": 14,
   "id": "e993b61f-042d-41a6-8c81-f55681f86335",
   "metadata": {
    "execution": {
     "iopub.execute_input": "2025-07-30T19:57:06.797318Z",
     "iopub.status.busy": "2025-07-30T19:57:06.796815Z",
     "iopub.status.idle": "2025-07-30T19:57:06.811421Z",
     "shell.execute_reply": "2025-07-30T19:57:06.810322Z"
    },
    "papermill": {
     "duration": 0.038517,
     "end_time": "2025-07-30T19:57:06.813315",
     "exception": false,
     "start_time": "2025-07-30T19:57:06.774798",
     "status": "completed"
    },
    "tags": []
   },
   "outputs": [],
   "source": [
    "def sample_by_year_size(df,\n",
    "                        training_year: str,\n",
    "                        training_size: str,\n",
    "                        random_state: int = 42):\n",
    "    # --- parse training_year into a list of int years ---\n",
    "    if \"_\" in training_year:\n",
    "        start_str, end_str = training_year.split(\"_\", 1)\n",
    "        start = int(start_str)\n",
    "        end   = int(end_str) if len(end_str) == 4 else (int(end_str) + (start // 100)*100)\n",
    "        years = list(range(start, end + 1))\n",
    "    else:\n",
    "        years = [int(training_year)]\n",
    "\n",
    "    df = df[df[\"year\"].isin(years)].reset_index(drop=True)\n",
    "\n",
    "    # --- map training_size to total number of samples ---\n",
    "    total_map = {\"25k\": 25_000, \"5k\": 5_000, \"1k\": 1_000}\n",
    "    if training_size not in total_map:\n",
    "        return df  # e.g. \"all\"\n",
    "\n",
    "    total_samples = total_map[training_size]\n",
    "    n_years       = len(years)\n",
    "    base          = total_samples // n_years\n",
    "    remainder     = total_samples % n_years\n",
    "\n",
    "    # --- build a dict: year -> how many to sample ---\n",
    "    # give +1 to the first `remainder` years in ascending order\n",
    "    quotas = {\n",
    "        year: base + (1 if idx < remainder else 0)\n",
    "        for idx, year in enumerate(sorted(years))\n",
    "    }\n",
    "\n",
    "    # --- sample per‐year according to the quota dict ---\n",
    "    sampled = (\n",
    "        df\n",
    "        .groupby(\"year\", group_keys=False)\n",
    "        .apply(lambda grp: grp.sample(\n",
    "            n=min(len(grp), quotas[grp.name]),\n",
    "            random_state=random_state))\n",
    "        .reset_index(drop=True)\n",
    "    )\n",
    "\n",
    "    return sampled"
   ]
  },
  {
   "cell_type": "code",
   "execution_count": 15,
   "id": "c0ccd338-0e02-41f3-a09d-f56f9266e3fb",
   "metadata": {
    "execution": {
     "iopub.execute_input": "2025-07-30T19:57:06.858892Z",
     "iopub.status.busy": "2025-07-30T19:57:06.858100Z",
     "iopub.status.idle": "2025-07-30T19:57:06.863468Z",
     "shell.execute_reply": "2025-07-30T19:57:06.862455Z"
    },
    "papermill": {
     "duration": 0.029363,
     "end_time": "2025-07-30T19:57:06.865369",
     "exception": false,
     "start_time": "2025-07-30T19:57:06.836006",
     "status": "completed"
    },
    "tags": []
   },
   "outputs": [],
   "source": [
    "#universe[\"training_size\"]"
   ]
  },
  {
   "cell_type": "code",
   "execution_count": 16,
   "id": "ca707fd7-8047-4acd-bfa5-66248fbbf8e6",
   "metadata": {
    "execution": {
     "iopub.execute_input": "2025-07-30T19:57:06.910349Z",
     "iopub.status.busy": "2025-07-30T19:57:06.909756Z",
     "iopub.status.idle": "2025-07-30T19:57:06.914999Z",
     "shell.execute_reply": "2025-07-30T19:57:06.913946Z"
    },
    "papermill": {
     "duration": 0.029684,
     "end_time": "2025-07-30T19:57:06.916826",
     "exception": false,
     "start_time": "2025-07-30T19:57:06.887142",
     "status": "completed"
    },
    "tags": []
   },
   "outputs": [],
   "source": [
    "#universe[\"training_year\"]"
   ]
  },
  {
   "cell_type": "code",
   "execution_count": 17,
   "id": "aea9c6ef-6f46-42c8-85eb-5a62025c1508",
   "metadata": {
    "execution": {
     "iopub.execute_input": "2025-07-30T19:57:06.960992Z",
     "iopub.status.busy": "2025-07-30T19:57:06.960358Z",
     "iopub.status.idle": "2025-07-30T19:57:07.256690Z",
     "shell.execute_reply": "2025-07-30T19:57:07.255437Z"
    },
    "papermill": {
     "duration": 0.320626,
     "end_time": "2025-07-30T19:57:07.258887",
     "exception": false,
     "start_time": "2025-07-30T19:57:06.938261",
     "status": "completed"
    },
    "tags": []
   },
   "outputs": [],
   "source": [
    "siab_train = sample_by_year_size(siab,\n",
    "                               training_year=universe[\"training_year\"],\n",
    "                               training_size=universe[\"training_size\"])"
   ]
  },
  {
   "cell_type": "code",
   "execution_count": 18,
   "id": "8d3afb32-789d-442c-8d5d-9f5aa8dd2eed",
   "metadata": {
    "execution": {
     "iopub.execute_input": "2025-07-30T19:57:07.307957Z",
     "iopub.status.busy": "2025-07-30T19:57:07.307262Z",
     "iopub.status.idle": "2025-07-30T19:57:07.312305Z",
     "shell.execute_reply": "2025-07-30T19:57:07.311467Z"
    },
    "papermill": {
     "duration": 0.03094,
     "end_time": "2025-07-30T19:57:07.313781",
     "exception": false,
     "start_time": "2025-07-30T19:57:07.282841",
     "status": "completed"
    },
    "tags": []
   },
   "outputs": [],
   "source": [
    "#siab_train.shape"
   ]
  },
  {
   "cell_type": "code",
   "execution_count": 19,
   "id": "d582db68-1a4c-47fb-84fc-08518dc1975a",
   "metadata": {
    "execution": {
     "iopub.execute_input": "2025-07-30T19:57:07.355516Z",
     "iopub.status.busy": "2025-07-30T19:57:07.355065Z",
     "iopub.status.idle": "2025-07-30T19:57:07.360388Z",
     "shell.execute_reply": "2025-07-30T19:57:07.359414Z"
    },
    "papermill": {
     "duration": 0.03058,
     "end_time": "2025-07-30T19:57:07.362358",
     "exception": false,
     "start_time": "2025-07-30T19:57:07.331778",
     "status": "completed"
    },
    "tags": []
   },
   "outputs": [],
   "source": [
    "#display(siab_train.groupby(\"year\").size())"
   ]
  },
  {
   "cell_type": "code",
   "execution_count": 20,
   "id": "a561edb4-d032-42cb-8256-22eac1111c64",
   "metadata": {
    "execution": {
     "iopub.execute_input": "2025-07-30T19:57:07.400102Z",
     "iopub.status.busy": "2025-07-30T19:57:07.399713Z",
     "iopub.status.idle": "2025-07-30T19:57:07.640691Z",
     "shell.execute_reply": "2025-07-30T19:57:07.639736Z"
    },
    "papermill": {
     "duration": 0.256689,
     "end_time": "2025-07-30T19:57:07.642565",
     "exception": false,
     "start_time": "2025-07-30T19:57:07.385876",
     "status": "completed"
    },
    "tags": []
   },
   "outputs": [],
   "source": [
    "#siab_train = siab_s[siab_s.year < 2015]\n",
    "siab_calib = siab[siab.year == 2015]\n",
    "siab_test = siab[siab.year == 2016]"
   ]
  },
  {
   "cell_type": "code",
   "execution_count": 21,
   "id": "472de16f-c3db-4916-846b-1f0de9cf1746",
   "metadata": {
    "execution": {
     "iopub.execute_input": "2025-07-30T19:57:07.688874Z",
     "iopub.status.busy": "2025-07-30T19:57:07.688223Z",
     "iopub.status.idle": "2025-07-30T19:57:07.714195Z",
     "shell.execute_reply": "2025-07-30T19:57:07.713183Z"
    },
    "papermill": {
     "duration": 0.051313,
     "end_time": "2025-07-30T19:57:07.716372",
     "exception": false,
     "start_time": "2025-07-30T19:57:07.665059",
     "status": "completed"
    },
    "tags": []
   },
   "outputs": [],
   "source": [
    "X_train = siab_train.iloc[:,4:164]\n",
    "y_train = siab_train.iloc[:, [3]]"
   ]
  },
  {
   "cell_type": "code",
   "execution_count": 22,
   "id": "828c96af-f43a-4ed6-ba47-8ac73a47d56c",
   "metadata": {
    "execution": {
     "iopub.execute_input": "2025-07-30T19:57:07.762686Z",
     "iopub.status.busy": "2025-07-30T19:57:07.762073Z",
     "iopub.status.idle": "2025-07-30T19:57:07.813513Z",
     "shell.execute_reply": "2025-07-30T19:57:07.812219Z"
    },
    "papermill": {
     "duration": 0.075851,
     "end_time": "2025-07-30T19:57:07.815300",
     "exception": false,
     "start_time": "2025-07-30T19:57:07.739449",
     "status": "completed"
    },
    "tags": []
   },
   "outputs": [],
   "source": [
    "X_calib = siab_calib.iloc[:,4:164]\n",
    "y_calib = siab_calib.iloc[:, [3]]"
   ]
  },
  {
   "cell_type": "code",
   "execution_count": 23,
   "id": "c34be9c3-6bd6-476e-acd3-845840e303be",
   "metadata": {
    "execution": {
     "iopub.execute_input": "2025-07-30T19:57:07.861032Z",
     "iopub.status.busy": "2025-07-30T19:57:07.860586Z",
     "iopub.status.idle": "2025-07-30T19:57:07.913515Z",
     "shell.execute_reply": "2025-07-30T19:57:07.912455Z"
    },
    "papermill": {
     "duration": 0.078568,
     "end_time": "2025-07-30T19:57:07.915469",
     "exception": false,
     "start_time": "2025-07-30T19:57:07.836901",
     "status": "completed"
    },
    "tags": []
   },
   "outputs": [],
   "source": [
    "X_test = siab_test.iloc[:,4:164]\n",
    "y_true = siab_test.iloc[:, [3]]"
   ]
  },
  {
   "cell_type": "markdown",
   "id": "9901737e-04df-44f0-9100-f5ad144ed040",
   "metadata": {
    "papermill": {
     "duration": 0.022559,
     "end_time": "2025-07-30T19:57:07.960802",
     "exception": false,
     "start_time": "2025-07-30T19:57:07.938243",
     "status": "completed"
    },
    "tags": []
   },
   "source": [
    "# Splitting Data and Setting Training Data Size OLD VERSION"
   ]
  },
  {
   "cell_type": "code",
   "execution_count": 24,
   "id": "acbc8f7d-8fc8-4e86-8c59-5dcb0f58384b",
   "metadata": {
    "execution": {
     "iopub.execute_input": "2025-07-30T19:57:08.003956Z",
     "iopub.status.busy": "2025-07-30T19:57:08.003443Z",
     "iopub.status.idle": "2025-07-30T19:57:08.009497Z",
     "shell.execute_reply": "2025-07-30T19:57:08.008545Z"
    },
    "papermill": {
     "duration": 0.02967,
     "end_time": "2025-07-30T19:57:08.011204",
     "exception": false,
     "start_time": "2025-07-30T19:57:07.981534",
     "status": "completed"
    },
    "tags": []
   },
   "outputs": [],
   "source": [
    "#def sample_by_year(df, training_size, random_state=42):\n",
    "#    if training_size == \"2014\":\n",
    "#        return df[df[\"year\"] == 2014].reset_index(drop=True)\n",
    "#    \n",
    "#    size_map = {\n",
    "#        \"25k\": 5000,\n",
    "#        \"5k\": 1000,\n",
    "#        \"1k\": 200\n",
    "#    }\n",
    "#\n",
    "#    if training_size not in size_map:\n",
    "#        return df.reset_index(drop=True)  # use all data\n",
    "#\n",
    "#    n_per_year = size_map[training_size]\n",
    "#    grouped = df.groupby(\"year\")\n",
    "#    sampled = grouped.apply(lambda x: x.sample(n=min(n_per_year, len(x)), random_state=random_state))\n",
    "#    return sampled.reset_index(drop=True)"
   ]
  },
  {
   "cell_type": "code",
   "execution_count": 25,
   "id": "6d931f52-beaf-43ff-9e78-9d44a448d54e",
   "metadata": {
    "execution": {
     "iopub.execute_input": "2025-07-30T19:57:08.055786Z",
     "iopub.status.busy": "2025-07-30T19:57:08.055313Z",
     "iopub.status.idle": "2025-07-30T19:57:08.060567Z",
     "shell.execute_reply": "2025-07-30T19:57:08.059675Z"
    },
    "papermill": {
     "duration": 0.029384,
     "end_time": "2025-07-30T19:57:08.062326",
     "exception": false,
     "start_time": "2025-07-30T19:57:08.032942",
     "status": "completed"
    },
    "tags": []
   },
   "outputs": [],
   "source": [
    "#siab_s = sample_by_year(siab, universe[\"training_size\"])"
   ]
  },
  {
   "cell_type": "code",
   "execution_count": 26,
   "id": "5db0a40e-a4e2-4920-be85-b12ae061d70d",
   "metadata": {
    "execution": {
     "iopub.execute_input": "2025-07-30T19:57:08.105166Z",
     "iopub.status.busy": "2025-07-30T19:57:08.104682Z",
     "iopub.status.idle": "2025-07-30T19:57:08.109666Z",
     "shell.execute_reply": "2025-07-30T19:57:08.108854Z"
    },
    "papermill": {
     "duration": 0.027844,
     "end_time": "2025-07-30T19:57:08.111384",
     "exception": false,
     "start_time": "2025-07-30T19:57:08.083540",
     "status": "completed"
    },
    "tags": []
   },
   "outputs": [],
   "source": [
    "#display(siab_s.groupby(\"year\").size())"
   ]
  },
  {
   "cell_type": "code",
   "execution_count": 27,
   "id": "e6c733c5",
   "metadata": {
    "execution": {
     "iopub.execute_input": "2025-07-30T19:57:08.154986Z",
     "iopub.status.busy": "2025-07-30T19:57:08.154485Z",
     "iopub.status.idle": "2025-07-30T19:57:08.254000Z",
     "shell.execute_reply": "2025-07-30T19:57:08.253043Z"
    },
    "papermill": {
     "duration": 0.123134,
     "end_time": "2025-07-30T19:57:08.255846",
     "exception": false,
     "start_time": "2025-07-30T19:57:08.132712",
     "status": "completed"
    },
    "tags": []
   },
   "outputs": [],
   "source": [
    "# Auxiliary data needed downstream in the pipeline\n",
    "\n",
    "org_train = X_train.copy()\n",
    "org_test = X_test.copy()\n",
    "org_calib = X_calib.copy()"
   ]
  },
  {
   "cell_type": "code",
   "execution_count": 28,
   "id": "1466abac-c6da-4492-a62f-4240ae3783af",
   "metadata": {
    "execution": {
     "iopub.execute_input": "2025-07-30T19:57:08.300253Z",
     "iopub.status.busy": "2025-07-30T19:57:08.299470Z",
     "iopub.status.idle": "2025-07-30T19:57:08.305231Z",
     "shell.execute_reply": "2025-07-30T19:57:08.304350Z"
    },
    "papermill": {
     "duration": 0.028668,
     "end_time": "2025-07-30T19:57:08.306910",
     "exception": false,
     "start_time": "2025-07-30T19:57:08.278242",
     "status": "completed"
    },
    "tags": []
   },
   "outputs": [],
   "source": [
    "# put in other script?\n",
    "# Group sizes\n",
    "\n",
    "#def calculate_percentages(df, df_name):\n",
    "#    total_entries = len(df)\n",
    "#\n",
    "#    female_pct = (df['frau1'] == 1).mean() * 100\n",
    "#    non_german_pct = ((df['maxdeutsch1'] == 0) & (df['maxdeutsch.Missing.'] == 0)).mean() * 100\n",
    "#    non_german_male_pct = ((df['frau1'] == 0) & (df['maxdeutsch1'] == 0) & (df['maxdeutsch.Missing.'] == 0)).mean() * 100\n",
    "#    non_german_female_pct = ((df['frau1'] == 1) & (df['maxdeutsch1'] == 0) & (df['maxdeutsch.Missing.'] == 0)).mean() * 100\n",
    "#\n",
    "#    print(f\"--- {df_name} ---\")\n",
    "#    print(f\"Female: {female_pct:.2f}%\")\n",
    "#    print(f\"Non-German: {non_german_pct:.2f}%\")\n",
    "#    print(f\"Non-German Male: {non_german_male_pct:.2f}%\")\n",
    "#    print(f\"Non-German Female: {non_german_female_pct:.2f}%\\n\")\n",
    "#\n",
    "## Calculate for each DataFrame\n",
    "#calculate_percentages(siab_calib, \"siab_calib\")\n",
    "#calculate_percentages(siab_test, \"siab_test\")\n",
    "#calculate_percentages(siab_train, \"siab_train\")"
   ]
  },
  {
   "cell_type": "markdown",
   "id": "0a4a1b33",
   "metadata": {
    "papermill": {
     "duration": 0.020309,
     "end_time": "2025-07-30T19:57:08.348925",
     "exception": false,
     "start_time": "2025-07-30T19:57:08.328616",
     "status": "completed"
    },
    "tags": []
   },
   "source": [
    "# Preprocessing Data"
   ]
  },
  {
   "cell_type": "code",
   "execution_count": 29,
   "id": "ca879031",
   "metadata": {
    "execution": {
     "iopub.execute_input": "2025-07-30T19:57:08.393238Z",
     "iopub.status.busy": "2025-07-30T19:57:08.392741Z",
     "iopub.status.idle": "2025-07-30T19:57:08.398697Z",
     "shell.execute_reply": "2025-07-30T19:57:08.397830Z"
    },
    "papermill": {
     "duration": 0.030531,
     "end_time": "2025-07-30T19:57:08.400498",
     "exception": false,
     "start_time": "2025-07-30T19:57:08.369967",
     "status": "completed"
    },
    "tags": []
   },
   "outputs": [],
   "source": [
    "# EXCLUDE PROTECTED FEATURES\n",
    "# ----------------------\n",
    "# \"exclude_features\": \"none\", # \"nationality\", \"sex\", \"nationality-sex\"\n",
    "\n",
    "excluded_features = universe[\"exclude_features\"].split(\"-\") # split, e.g.: \"nationality-sex\" -> [\"nationality\", \"sex\"]\n",
    "excluded_features_dictionary = {\n",
    "    \"nationality\": [\"maxdeutsch1\", \"maxdeutsch.Missing.\"],\n",
    "    \"sex\": [\"frau1\"],\n",
    "    \"age\": [\"age\"],\n",
    "}\n"
   ]
  },
  {
   "cell_type": "code",
   "execution_count": 30,
   "id": "b745ac60",
   "metadata": {
    "execution": {
     "iopub.execute_input": "2025-07-30T19:57:08.444762Z",
     "iopub.status.busy": "2025-07-30T19:57:08.444310Z",
     "iopub.status.idle": "2025-07-30T19:57:08.450316Z",
     "shell.execute_reply": "2025-07-30T19:57:08.449419Z"
    },
    "papermill": {
     "duration": 0.030094,
     "end_time": "2025-07-30T19:57:08.452178",
     "exception": false,
     "start_time": "2025-07-30T19:57:08.422084",
     "status": "completed"
    },
    "tags": []
   },
   "outputs": [],
   "source": [
    "# Code nice names to column names\n",
    "\n",
    "excluded_features_columns = [\n",
    "    excluded_features_dictionary[f] for f in excluded_features if len(f) > 0 and f != \"none\"\n",
    "]"
   ]
  },
  {
   "cell_type": "code",
   "execution_count": 31,
   "id": "f84f73a2",
   "metadata": {
    "execution": {
     "iopub.execute_input": "2025-07-30T19:57:08.497326Z",
     "iopub.status.busy": "2025-07-30T19:57:08.496876Z",
     "iopub.status.idle": "2025-07-30T19:57:08.502901Z",
     "shell.execute_reply": "2025-07-30T19:57:08.501933Z"
    },
    "papermill": {
     "duration": 0.030322,
     "end_time": "2025-07-30T19:57:08.504474",
     "exception": false,
     "start_time": "2025-07-30T19:57:08.474152",
     "status": "completed"
    },
    "tags": []
   },
   "outputs": [],
   "source": [
    "from utils import flatten_once\n",
    "\n",
    "excluded_features_columns = flatten_once(excluded_features_columns)"
   ]
  },
  {
   "cell_type": "code",
   "execution_count": 32,
   "id": "884dea22",
   "metadata": {
    "execution": {
     "iopub.execute_input": "2025-07-30T19:57:08.549148Z",
     "iopub.status.busy": "2025-07-30T19:57:08.548661Z",
     "iopub.status.idle": "2025-07-30T19:57:08.576063Z",
     "shell.execute_reply": "2025-07-30T19:57:08.574699Z"
    },
    "papermill": {
     "duration": 0.052036,
     "end_time": "2025-07-30T19:57:08.577941",
     "exception": false,
     "start_time": "2025-07-30T19:57:08.525905",
     "status": "completed"
    },
    "tags": []
   },
   "outputs": [
    {
     "name": "stdout",
     "output_type": "stream",
     "text": [
      "Dropping features: ['maxdeutsch1', 'maxdeutsch.Missing.']\n"
     ]
    }
   ],
   "source": [
    "if len(excluded_features_columns) > 0:\n",
    "    print(f\"Dropping features: {excluded_features_columns}\")\n",
    "    X_train.drop(excluded_features_columns, axis=1, inplace=True)"
   ]
  },
  {
   "cell_type": "code",
   "execution_count": 33,
   "id": "95ab8b16",
   "metadata": {
    "execution": {
     "iopub.execute_input": "2025-07-30T19:57:08.624672Z",
     "iopub.status.busy": "2025-07-30T19:57:08.624215Z",
     "iopub.status.idle": "2025-07-30T19:57:08.680476Z",
     "shell.execute_reply": "2025-07-30T19:57:08.679442Z"
    },
    "papermill": {
     "duration": 0.079497,
     "end_time": "2025-07-30T19:57:08.682275",
     "exception": false,
     "start_time": "2025-07-30T19:57:08.602778",
     "status": "completed"
    },
    "tags": []
   },
   "outputs": [
    {
     "name": "stdout",
     "output_type": "stream",
     "text": [
      "Dropping features: ['maxdeutsch1', 'maxdeutsch.Missing.']\n"
     ]
    }
   ],
   "source": [
    "if len(excluded_features_columns) > 0:\n",
    "    print(f\"Dropping features: {excluded_features_columns}\")\n",
    "    X_test.drop(excluded_features_columns, axis=1, inplace=True)"
   ]
  },
  {
   "cell_type": "code",
   "execution_count": 34,
   "id": "1853aaf5-fb9f-46cb-a2b5-8ea4ae2237e4",
   "metadata": {
    "execution": {
     "iopub.execute_input": "2025-07-30T19:57:08.729480Z",
     "iopub.status.busy": "2025-07-30T19:57:08.728959Z",
     "iopub.status.idle": "2025-07-30T19:57:08.782217Z",
     "shell.execute_reply": "2025-07-30T19:57:08.781114Z"
    },
    "papermill": {
     "duration": 0.07836,
     "end_time": "2025-07-30T19:57:08.784070",
     "exception": false,
     "start_time": "2025-07-30T19:57:08.705710",
     "status": "completed"
    },
    "tags": []
   },
   "outputs": [
    {
     "name": "stdout",
     "output_type": "stream",
     "text": [
      "Dropping features: ['maxdeutsch1', 'maxdeutsch.Missing.']\n"
     ]
    }
   ],
   "source": [
    "if len(excluded_features_columns) > 0:\n",
    "    print(f\"Dropping features: {excluded_features_columns}\")\n",
    "    X_calib.drop(excluded_features_columns, axis=1, inplace=True)"
   ]
  },
  {
   "cell_type": "code",
   "execution_count": 35,
   "id": "6727d079-03e5-481e-9d38-292a90b7a0a8",
   "metadata": {
    "execution": {
     "iopub.execute_input": "2025-07-30T19:57:08.833823Z",
     "iopub.status.busy": "2025-07-30T19:57:08.833325Z",
     "iopub.status.idle": "2025-07-30T19:57:08.838279Z",
     "shell.execute_reply": "2025-07-30T19:57:08.837341Z"
    },
    "papermill": {
     "duration": 0.030955,
     "end_time": "2025-07-30T19:57:08.840001",
     "exception": false,
     "start_time": "2025-07-30T19:57:08.809046",
     "status": "completed"
    },
    "tags": []
   },
   "outputs": [],
   "source": [
    "# SPLIT & STRATIFY DATA\n",
    "# ----------------------"
   ]
  },
  {
   "cell_type": "code",
   "execution_count": 36,
   "id": "76c4dc6d",
   "metadata": {
    "execution": {
     "iopub.execute_input": "2025-07-30T19:57:08.889123Z",
     "iopub.status.busy": "2025-07-30T19:57:08.888655Z",
     "iopub.status.idle": "2025-07-30T19:57:08.894022Z",
     "shell.execute_reply": "2025-07-30T19:57:08.893111Z"
    },
    "papermill": {
     "duration": 0.031289,
     "end_time": "2025-07-30T19:57:08.895991",
     "exception": false,
     "start_time": "2025-07-30T19:57:08.864702",
     "status": "completed"
    },
    "tags": []
   },
   "outputs": [],
   "source": [
    "# EXCLUDE CERTAIN SUBGROUPS\n",
    "# ----------------------\n",
    "\n",
    "mode = universe.get(\"exclude_subgroups\", \"keep-all\") \n",
    "# Fetches the exclude_subgroups setting from the universe dict.\n",
    "# Defaults to \"keep-all\" if the key is missing."
   ]
  },
  {
   "cell_type": "code",
   "execution_count": 37,
   "id": "21994072",
   "metadata": {
    "execution": {
     "iopub.execute_input": "2025-07-30T19:57:08.944106Z",
     "iopub.status.busy": "2025-07-30T19:57:08.943596Z",
     "iopub.status.idle": "2025-07-30T19:57:08.950055Z",
     "shell.execute_reply": "2025-07-30T19:57:08.949150Z"
    },
    "papermill": {
     "duration": 0.032231,
     "end_time": "2025-07-30T19:57:08.951474",
     "exception": false,
     "start_time": "2025-07-30T19:57:08.919243",
     "status": "completed"
    },
    "tags": []
   },
   "outputs": [],
   "source": [
    "if mode == \"keep-all\":\n",
    "    keep_mask = pd.Series(True, index=org_train.index)\n",
    "\n",
    "# org_train contains the original feature columns from features_org (in Simson)\n",
    "# features_org contains unprocessed features, for me X_train at beginning ???\n",
    "# For keep-all, creates a boolean Series (keep_mask) of all True, so no rows are removed.\n",
    "\n",
    "elif mode == \"drop-non-german\":\n",
    "    keep_mask = org_train[\"maxdeutsch1\"] == 1 # ??? what about missing values?\n",
    "\n",
    "else:\n",
    "    raise ValueError(f\"Unsupported mode for exclude_subgroups: {mode}\")\n"
   ]
  },
  {
   "cell_type": "code",
   "execution_count": 38,
   "id": "71651440",
   "metadata": {
    "execution": {
     "iopub.execute_input": "2025-07-30T19:57:08.998693Z",
     "iopub.status.busy": "2025-07-30T19:57:08.997747Z",
     "iopub.status.idle": "2025-07-30T19:57:09.015772Z",
     "shell.execute_reply": "2025-07-30T19:57:09.014751Z"
    },
    "papermill": {
     "duration": 0.044264,
     "end_time": "2025-07-30T19:57:09.017723",
     "exception": false,
     "start_time": "2025-07-30T19:57:08.973459",
     "status": "completed"
    },
    "tags": []
   },
   "outputs": [],
   "source": [
    "n_drop = (~keep_mask).sum() # Calculates how many rows are set to be dropped\n",
    "if n_drop > 0:\n",
    "    pct = n_drop / len(keep_mask) * 100\n",
    "    print(f\"Dropping {n_drop} rows ({pct:.2f}%) where mode='{mode}'\")"
   ]
  },
  {
   "cell_type": "code",
   "execution_count": 39,
   "id": "5fb8eee5",
   "metadata": {
    "execution": {
     "iopub.execute_input": "2025-07-30T19:57:09.066713Z",
     "iopub.status.busy": "2025-07-30T19:57:09.066256Z",
     "iopub.status.idle": "2025-07-30T19:57:09.084001Z",
     "shell.execute_reply": "2025-07-30T19:57:09.082462Z"
    },
    "papermill": {
     "duration": 0.043736,
     "end_time": "2025-07-30T19:57:09.085905",
     "exception": false,
     "start_time": "2025-07-30T19:57:09.042169",
     "status": "completed"
    },
    "tags": []
   },
   "outputs": [],
   "source": [
    "X_train = X_train[keep_mask]"
   ]
  },
  {
   "cell_type": "code",
   "execution_count": 40,
   "id": "b202bb3a",
   "metadata": {
    "execution": {
     "iopub.execute_input": "2025-07-30T19:57:09.136569Z",
     "iopub.status.busy": "2025-07-30T19:57:09.136014Z",
     "iopub.status.idle": "2025-07-30T19:57:09.142909Z",
     "shell.execute_reply": "2025-07-30T19:57:09.141920Z"
    },
    "papermill": {
     "duration": 0.033882,
     "end_time": "2025-07-30T19:57:09.144627",
     "exception": false,
     "start_time": "2025-07-30T19:57:09.110745",
     "status": "completed"
    },
    "tags": []
   },
   "outputs": [],
   "source": [
    "y_train = y_train[keep_mask]"
   ]
  },
  {
   "cell_type": "markdown",
   "id": "493e2ac3",
   "metadata": {
    "papermill": {
     "duration": 0.027905,
     "end_time": "2025-07-30T19:57:09.196574",
     "exception": false,
     "start_time": "2025-07-30T19:57:09.168669",
     "status": "completed"
    },
    "tags": []
   },
   "source": [
    "# Model Training"
   ]
  },
  {
   "cell_type": "code",
   "execution_count": 41,
   "id": "679e1268",
   "metadata": {
    "execution": {
     "iopub.execute_input": "2025-07-30T19:57:09.243607Z",
     "iopub.status.busy": "2025-07-30T19:57:09.243109Z",
     "iopub.status.idle": "2025-07-30T19:57:09.345571Z",
     "shell.execute_reply": "2025-07-30T19:57:09.344571Z"
    },
    "papermill": {
     "duration": 0.128028,
     "end_time": "2025-07-30T19:57:09.347593",
     "exception": false,
     "start_time": "2025-07-30T19:57:09.219565",
     "status": "completed"
    },
    "tags": []
   },
   "outputs": [],
   "source": [
    "from sklearn.linear_model import LogisticRegression\n",
    "from sklearn.ensemble import GradientBoostingClassifier, RandomForestClassifier\n",
    "\n",
    "if (universe[\"model\"] == \"logreg\"):\n",
    "    model = LogisticRegression() #penalty=\"none\") #, solver=\"newton-cg\", max_iter=1) # include random_state=19 ?\n",
    "elif (universe[\"model\"] == \"penalized_logreg\"):\n",
    "    model = LogisticRegression(penalty=\"l2\", C=1.0) #, solver=\"newton-cg\", max_iter=1)\n",
    "elif (universe[\"model\"] == \"rf\"):\n",
    "    model = RandomForestClassifier(n_estimators=100, n_jobs=-1)\n",
    "elif (universe[\"model\"] == \"gbm\"):\n",
    "    model = GradientBoostingClassifier()\n",
    "elif (universe[\"model\"] == \"elasticnet\"):\n",
    "    model = LogisticRegression(penalty = 'elasticnet', solver = 'saga', l1_ratio = 0.5, max_iter=5000) # which solver to use?\n",
    "else:\n",
    "    raise \"Unsupported universe.model\""
   ]
  },
  {
   "cell_type": "code",
   "execution_count": 42,
   "id": "0cc8f744",
   "metadata": {
    "execution": {
     "iopub.execute_input": "2025-07-30T19:57:09.396882Z",
     "iopub.status.busy": "2025-07-30T19:57:09.396281Z",
     "iopub.status.idle": "2025-07-30T19:57:09.403221Z",
     "shell.execute_reply": "2025-07-30T19:57:09.402073Z"
    },
    "papermill": {
     "duration": 0.034044,
     "end_time": "2025-07-30T19:57:09.405008",
     "exception": false,
     "start_time": "2025-07-30T19:57:09.370964",
     "status": "completed"
    },
    "tags": []
   },
   "outputs": [],
   "source": [
    "import numpy as np\n",
    "from sklearn.pipeline import Pipeline\n",
    "from sklearn.preprocessing import StandardScaler\n",
    "\n",
    "model = Pipeline([\n",
    "    #(\"continuous_processor\", continuous_processor),\n",
    "    #(\"categorical_preprocessor\", categorical_preprocessor),\n",
    "    (\"scale\", StandardScaler() if universe[\"scale\"] == \"scale\" else None), \n",
    "    (\"model\", model),\n",
    "])"
   ]
  },
  {
   "cell_type": "code",
   "execution_count": 43,
   "id": "9442c04d",
   "metadata": {
    "execution": {
     "iopub.execute_input": "2025-07-30T19:57:09.453114Z",
     "iopub.status.busy": "2025-07-30T19:57:09.452345Z",
     "iopub.status.idle": "2025-07-30T19:57:10.198263Z",
     "shell.execute_reply": "2025-07-30T19:57:10.197404Z"
    },
    "papermill": {
     "duration": 0.771284,
     "end_time": "2025-07-30T19:57:10.199868",
     "exception": false,
     "start_time": "2025-07-30T19:57:09.428584",
     "status": "completed"
    },
    "tags": []
   },
   "outputs": [
    {
     "name": "stderr",
     "output_type": "stream",
     "text": [
      "/dss/dsshome1/0C/ra93lal2/.local/share/virtualenvs/CMA_Fairness_v2-3j10GkSs/lib/python3.10/site-packages/sklearn/linear_model/_logistic.py:444: ConvergenceWarning: lbfgs failed to converge (status=1):\n",
      "STOP: TOTAL NO. of ITERATIONS REACHED LIMIT.\n",
      "\n",
      "Increase the number of iterations (max_iter) or scale the data as shown in:\n",
      "    https://scikit-learn.org/stable/modules/preprocessing.html\n",
      "Please also refer to the documentation for alternative solver options:\n",
      "    https://scikit-learn.org/stable/modules/linear_model.html#logistic-regression\n",
      "  n_iter_i = _check_optimize_result(\n"
     ]
    },
    {
     "data": {
      "text/html": [
       "<style>#sk-container-id-1 {color: black;background-color: white;}#sk-container-id-1 pre{padding: 0;}#sk-container-id-1 div.sk-toggleable {background-color: white;}#sk-container-id-1 label.sk-toggleable__label {cursor: pointer;display: block;width: 100%;margin-bottom: 0;padding: 0.3em;box-sizing: border-box;text-align: center;}#sk-container-id-1 label.sk-toggleable__label-arrow:before {content: \"▸\";float: left;margin-right: 0.25em;color: #696969;}#sk-container-id-1 label.sk-toggleable__label-arrow:hover:before {color: black;}#sk-container-id-1 div.sk-estimator:hover label.sk-toggleable__label-arrow:before {color: black;}#sk-container-id-1 div.sk-toggleable__content {max-height: 0;max-width: 0;overflow: hidden;text-align: left;background-color: #f0f8ff;}#sk-container-id-1 div.sk-toggleable__content pre {margin: 0.2em;color: black;border-radius: 0.25em;background-color: #f0f8ff;}#sk-container-id-1 input.sk-toggleable__control:checked~div.sk-toggleable__content {max-height: 200px;max-width: 100%;overflow: auto;}#sk-container-id-1 input.sk-toggleable__control:checked~label.sk-toggleable__label-arrow:before {content: \"▾\";}#sk-container-id-1 div.sk-estimator input.sk-toggleable__control:checked~label.sk-toggleable__label {background-color: #d4ebff;}#sk-container-id-1 div.sk-label input.sk-toggleable__control:checked~label.sk-toggleable__label {background-color: #d4ebff;}#sk-container-id-1 input.sk-hidden--visually {border: 0;clip: rect(1px 1px 1px 1px);clip: rect(1px, 1px, 1px, 1px);height: 1px;margin: -1px;overflow: hidden;padding: 0;position: absolute;width: 1px;}#sk-container-id-1 div.sk-estimator {font-family: monospace;background-color: #f0f8ff;border: 1px dotted black;border-radius: 0.25em;box-sizing: border-box;margin-bottom: 0.5em;}#sk-container-id-1 div.sk-estimator:hover {background-color: #d4ebff;}#sk-container-id-1 div.sk-parallel-item::after {content: \"\";width: 100%;border-bottom: 1px solid gray;flex-grow: 1;}#sk-container-id-1 div.sk-label:hover label.sk-toggleable__label {background-color: #d4ebff;}#sk-container-id-1 div.sk-serial::before {content: \"\";position: absolute;border-left: 1px solid gray;box-sizing: border-box;top: 0;bottom: 0;left: 50%;z-index: 0;}#sk-container-id-1 div.sk-serial {display: flex;flex-direction: column;align-items: center;background-color: white;padding-right: 0.2em;padding-left: 0.2em;position: relative;}#sk-container-id-1 div.sk-item {position: relative;z-index: 1;}#sk-container-id-1 div.sk-parallel {display: flex;align-items: stretch;justify-content: center;background-color: white;position: relative;}#sk-container-id-1 div.sk-item::before, #sk-container-id-1 div.sk-parallel-item::before {content: \"\";position: absolute;border-left: 1px solid gray;box-sizing: border-box;top: 0;bottom: 0;left: 50%;z-index: -1;}#sk-container-id-1 div.sk-parallel-item {display: flex;flex-direction: column;z-index: 1;position: relative;background-color: white;}#sk-container-id-1 div.sk-parallel-item:first-child::after {align-self: flex-end;width: 50%;}#sk-container-id-1 div.sk-parallel-item:last-child::after {align-self: flex-start;width: 50%;}#sk-container-id-1 div.sk-parallel-item:only-child::after {width: 0;}#sk-container-id-1 div.sk-dashed-wrapped {border: 1px dashed gray;margin: 0 0.4em 0.5em 0.4em;box-sizing: border-box;padding-bottom: 0.4em;background-color: white;}#sk-container-id-1 div.sk-label label {font-family: monospace;font-weight: bold;display: inline-block;line-height: 1.2em;}#sk-container-id-1 div.sk-label-container {text-align: center;}#sk-container-id-1 div.sk-container {/* jupyter's `normalize.less` sets `[hidden] { display: none; }` but bootstrap.min.css set `[hidden] { display: none !important; }` so we also need the `!important` here to be able to override the default hidden behavior on the sphinx rendered scikit-learn.org. See: https://github.com/scikit-learn/scikit-learn/issues/21755 */display: inline-block !important;position: relative;}#sk-container-id-1 div.sk-text-repr-fallback {display: none;}</style><div id=\"sk-container-id-1\" class=\"sk-top-container\"><div class=\"sk-text-repr-fallback\"><pre>Pipeline(steps=[(&#x27;scale&#x27;, None), (&#x27;model&#x27;, LogisticRegression())])</pre><b>In a Jupyter environment, please rerun this cell to show the HTML representation or trust the notebook. <br />On GitHub, the HTML representation is unable to render, please try loading this page with nbviewer.org.</b></div><div class=\"sk-container\" hidden><div class=\"sk-item sk-dashed-wrapped\"><div class=\"sk-label-container\"><div class=\"sk-label sk-toggleable\"><input class=\"sk-toggleable__control sk-hidden--visually\" id=\"sk-estimator-id-1\" type=\"checkbox\" ><label for=\"sk-estimator-id-1\" class=\"sk-toggleable__label sk-toggleable__label-arrow\">Pipeline</label><div class=\"sk-toggleable__content\"><pre>Pipeline(steps=[(&#x27;scale&#x27;, None), (&#x27;model&#x27;, LogisticRegression())])</pre></div></div></div><div class=\"sk-serial\"><div class=\"sk-item\"><div class=\"sk-estimator sk-toggleable\"><input class=\"sk-toggleable__control sk-hidden--visually\" id=\"sk-estimator-id-2\" type=\"checkbox\" ><label for=\"sk-estimator-id-2\" class=\"sk-toggleable__label sk-toggleable__label-arrow\">None</label><div class=\"sk-toggleable__content\"><pre>None</pre></div></div></div><div class=\"sk-item\"><div class=\"sk-estimator sk-toggleable\"><input class=\"sk-toggleable__control sk-hidden--visually\" id=\"sk-estimator-id-3\" type=\"checkbox\" ><label for=\"sk-estimator-id-3\" class=\"sk-toggleable__label sk-toggleable__label-arrow\">LogisticRegression</label><div class=\"sk-toggleable__content\"><pre>LogisticRegression()</pre></div></div></div></div></div></div></div>"
      ],
      "text/plain": [
       "Pipeline(steps=[('scale', None), ('model', LogisticRegression())])"
      ]
     },
     "execution_count": 43,
     "metadata": {},
     "output_type": "execute_result"
    }
   ],
   "source": [
    "model.fit(X_train, y_train.values.ravel())"
   ]
  },
  {
   "cell_type": "code",
   "execution_count": 44,
   "id": "af59f8c0",
   "metadata": {
    "execution": {
     "iopub.execute_input": "2025-07-30T19:57:10.247600Z",
     "iopub.status.busy": "2025-07-30T19:57:10.246697Z",
     "iopub.status.idle": "2025-07-30T19:57:10.252488Z",
     "shell.execute_reply": "2025-07-30T19:57:10.251557Z"
    },
    "papermill": {
     "duration": 0.031721,
     "end_time": "2025-07-30T19:57:10.254198",
     "exception": false,
     "start_time": "2025-07-30T19:57:10.222477",
     "status": "completed"
    },
    "tags": []
   },
   "outputs": [],
   "source": [
    "from fairness_multiverse.universe import predict_w_threshold"
   ]
  },
  {
   "cell_type": "code",
   "execution_count": 45,
   "id": "a7cf2e16",
   "metadata": {
    "execution": {
     "iopub.execute_input": "2025-07-30T19:57:10.300530Z",
     "iopub.status.busy": "2025-07-30T19:57:10.299632Z",
     "iopub.status.idle": "2025-07-30T19:57:10.395518Z",
     "shell.execute_reply": "2025-07-30T19:57:10.394589Z"
    },
    "papermill": {
     "duration": 0.12066,
     "end_time": "2025-07-30T19:57:10.397274",
     "exception": false,
     "start_time": "2025-07-30T19:57:10.276614",
     "status": "completed"
    },
    "tags": []
   },
   "outputs": [
    {
     "data": {
      "text/plain": [
       "0.8634377438412663"
      ]
     },
     "execution_count": 45,
     "metadata": {},
     "output_type": "execute_result"
    }
   ],
   "source": [
    "probs_test = model.predict_proba(X_test)\n",
    "\n",
    "'''\n",
    "Below code returns a boolean array (or binary 0/1 array depending on how it’s used) where each element \n",
    "is True if the probability of class 1 is greater than or equal to the threshold, and False otherwise.\n",
    "'''\n",
    "y_pred_default = predict_w_threshold(probs_test, 0.5)\n",
    "\n",
    "from sklearn.metrics import accuracy_score\n",
    "\n",
    "# Naive prediction\n",
    "accuracy_score(y_true = y_true, y_pred = y_pred_default)"
   ]
  },
  {
   "cell_type": "code",
   "execution_count": 46,
   "id": "081964c3",
   "metadata": {
    "execution": {
     "iopub.execute_input": "2025-07-30T19:57:10.444699Z",
     "iopub.status.busy": "2025-07-30T19:57:10.444133Z",
     "iopub.status.idle": "2025-07-30T19:57:10.528993Z",
     "shell.execute_reply": "2025-07-30T19:57:10.528023Z"
    },
    "papermill": {
     "duration": 0.110357,
     "end_time": "2025-07-30T19:57:10.530875",
     "exception": false,
     "start_time": "2025-07-30T19:57:10.420518",
     "status": "completed"
    },
    "tags": []
   },
   "outputs": [
    {
     "data": {
      "text/plain": [
       "array([0, 0, 0, ..., 0, 0, 0])"
      ]
     },
     "execution_count": 46,
     "metadata": {},
     "output_type": "execute_result"
    }
   ],
   "source": [
    "model.predict(X_test)"
   ]
  },
  {
   "cell_type": "markdown",
   "id": "56c9705b",
   "metadata": {
    "papermill": {
     "duration": 0.023114,
     "end_time": "2025-07-30T19:57:10.576968",
     "exception": false,
     "start_time": "2025-07-30T19:57:10.553854",
     "status": "completed"
    },
    "tags": []
   },
   "source": [
    "# Conformal Prediction"
   ]
  },
  {
   "cell_type": "code",
   "execution_count": 47,
   "id": "160ec6ff",
   "metadata": {
    "execution": {
     "iopub.execute_input": "2025-07-30T19:57:10.625150Z",
     "iopub.status.busy": "2025-07-30T19:57:10.624295Z",
     "iopub.status.idle": "2025-07-30T19:57:10.629483Z",
     "shell.execute_reply": "2025-07-30T19:57:10.628640Z"
    },
    "papermill": {
     "duration": 0.031864,
     "end_time": "2025-07-30T19:57:10.631077",
     "exception": false,
     "start_time": "2025-07-30T19:57:10.599213",
     "status": "completed"
    },
    "tags": []
   },
   "outputs": [],
   "source": [
    "# Miscoverage level for conformal prediction (10% allowed error rate => 90% target coverage)\n",
    "alpha = 0.1"
   ]
  },
  {
   "cell_type": "code",
   "execution_count": 48,
   "id": "eadf4555-3dd3-440e-8e35-f82a4ad9f855",
   "metadata": {
    "execution": {
     "iopub.execute_input": "2025-07-30T19:57:10.678673Z",
     "iopub.status.busy": "2025-07-30T19:57:10.678138Z",
     "iopub.status.idle": "2025-07-30T19:57:10.761328Z",
     "shell.execute_reply": "2025-07-30T19:57:10.760322Z"
    },
    "papermill": {
     "duration": 0.109071,
     "end_time": "2025-07-30T19:57:10.763251",
     "exception": false,
     "start_time": "2025-07-30T19:57:10.654180",
     "status": "completed"
    },
    "tags": []
   },
   "outputs": [],
   "source": [
    "probs_calib = model.predict_proba(X_calib)"
   ]
  },
  {
   "cell_type": "code",
   "execution_count": 49,
   "id": "2ed93547-6d5d-4983-9b36-1ecb300da49a",
   "metadata": {
    "execution": {
     "iopub.execute_input": "2025-07-30T19:57:10.812018Z",
     "iopub.status.busy": "2025-07-30T19:57:10.811258Z",
     "iopub.status.idle": "2025-07-30T19:57:10.816481Z",
     "shell.execute_reply": "2025-07-30T19:57:10.815662Z"
    },
    "papermill": {
     "duration": 0.029912,
     "end_time": "2025-07-30T19:57:10.817913",
     "exception": false,
     "start_time": "2025-07-30T19:57:10.788001",
     "status": "completed"
    },
    "tags": []
   },
   "outputs": [],
   "source": [
    "y_calib = y_calib.values.ravel().astype(int)"
   ]
  },
  {
   "cell_type": "code",
   "execution_count": 50,
   "id": "65d1320d-f588-4b38-9072-62af1ae97f7d",
   "metadata": {
    "execution": {
     "iopub.execute_input": "2025-07-30T19:57:10.870436Z",
     "iopub.status.busy": "2025-07-30T19:57:10.868182Z",
     "iopub.status.idle": "2025-07-30T19:57:10.876881Z",
     "shell.execute_reply": "2025-07-30T19:57:10.875904Z"
    },
    "papermill": {
     "duration": 0.035115,
     "end_time": "2025-07-30T19:57:10.878354",
     "exception": false,
     "start_time": "2025-07-30T19:57:10.843239",
     "status": "completed"
    },
    "tags": []
   },
   "outputs": [],
   "source": [
    "from fairness_multiverse.conformal import compute_nc_scores\n",
    "\n",
    "# Compute nonconformity scores on calibration set (1 - probability of true class)\n",
    "nc_scores = compute_nc_scores(probs_calib, y_calib)"
   ]
  },
  {
   "cell_type": "code",
   "execution_count": 51,
   "id": "df3b8ca3-53b7-43d5-9667-7c85da7aeda2",
   "metadata": {
    "execution": {
     "iopub.execute_input": "2025-07-30T19:57:10.928478Z",
     "iopub.status.busy": "2025-07-30T19:57:10.927709Z",
     "iopub.status.idle": "2025-07-30T19:57:10.934682Z",
     "shell.execute_reply": "2025-07-30T19:57:10.933848Z"
    },
    "papermill": {
     "duration": 0.034129,
     "end_time": "2025-07-30T19:57:10.936315",
     "exception": false,
     "start_time": "2025-07-30T19:57:10.902186",
     "status": "completed"
    },
    "tags": []
   },
   "outputs": [],
   "source": [
    "from fairness_multiverse.conformal import find_threshold\n",
    "\n",
    "# Find conformal threshold q_hat for the given alpha (split conformal method)\n",
    "q_hat = find_threshold(nc_scores, alpha)"
   ]
  },
  {
   "cell_type": "code",
   "execution_count": 52,
   "id": "4d29e6c1-0ef6-4aa4-b8fe-4fe79b0d033a",
   "metadata": {
    "execution": {
     "iopub.execute_input": "2025-07-30T19:57:10.985812Z",
     "iopub.status.busy": "2025-07-30T19:57:10.985332Z",
     "iopub.status.idle": "2025-07-30T19:57:10.992566Z",
     "shell.execute_reply": "2025-07-30T19:57:10.991628Z"
    },
    "papermill": {
     "duration": 0.033957,
     "end_time": "2025-07-30T19:57:10.994480",
     "exception": false,
     "start_time": "2025-07-30T19:57:10.960523",
     "status": "completed"
    },
    "tags": []
   },
   "outputs": [
    {
     "data": {
      "text/plain": [
       "0.6782422413743783"
      ]
     },
     "execution_count": 52,
     "metadata": {},
     "output_type": "execute_result"
    }
   ],
   "source": [
    "q_hat"
   ]
  },
  {
   "cell_type": "code",
   "execution_count": 53,
   "id": "92460794-cdac-4be2-ba28-f28c0515a6fb",
   "metadata": {
    "execution": {
     "iopub.execute_input": "2025-07-30T19:57:11.046080Z",
     "iopub.status.busy": "2025-07-30T19:57:11.045592Z",
     "iopub.status.idle": "2025-07-30T19:57:11.835522Z",
     "shell.execute_reply": "2025-07-30T19:57:11.834434Z"
    },
    "papermill": {
     "duration": 0.817607,
     "end_time": "2025-07-30T19:57:11.837488",
     "exception": false,
     "start_time": "2025-07-30T19:57:11.019881",
     "status": "completed"
    },
    "tags": []
   },
   "outputs": [],
   "source": [
    "from fairness_multiverse.conformal import predict_conformal_sets\n",
    "\n",
    "# Generate prediction sets for each test example\n",
    "pred_sets = predict_conformal_sets(model, X_test, q_hat)"
   ]
  },
  {
   "cell_type": "code",
   "execution_count": 54,
   "id": "d90c9a65-e6db-4f5d-80cd-e68fb7e46829",
   "metadata": {
    "execution": {
     "iopub.execute_input": "2025-07-30T19:57:11.889178Z",
     "iopub.status.busy": "2025-07-30T19:57:11.888645Z",
     "iopub.status.idle": "2025-07-30T19:57:11.894765Z",
     "shell.execute_reply": "2025-07-30T19:57:11.893797Z"
    },
    "papermill": {
     "duration": 0.033719,
     "end_time": "2025-07-30T19:57:11.896409",
     "exception": false,
     "start_time": "2025-07-30T19:57:11.862690",
     "status": "completed"
    },
    "tags": []
   },
   "outputs": [],
   "source": [
    "y_true = y_true.squeeze()"
   ]
  },
  {
   "cell_type": "code",
   "execution_count": 55,
   "id": "3a58a54a-1e68-46b9-927a-df01f18aebc8",
   "metadata": {
    "execution": {
     "iopub.execute_input": "2025-07-30T19:57:11.948613Z",
     "iopub.status.busy": "2025-07-30T19:57:11.948076Z",
     "iopub.status.idle": "2025-07-30T19:57:12.895177Z",
     "shell.execute_reply": "2025-07-30T19:57:12.894146Z"
    },
    "papermill": {
     "duration": 0.975278,
     "end_time": "2025-07-30T19:57:12.897184",
     "exception": false,
     "start_time": "2025-07-30T19:57:11.921906",
     "status": "completed"
    },
    "tags": []
   },
   "outputs": [],
   "source": [
    "from fairness_multiverse.conformal import evaluate_sets\n",
    "\n",
    "# Evaluate coverage and average set size on test data\n",
    "metrics = evaluate_sets(pred_sets, y_true)"
   ]
  },
  {
   "cell_type": "markdown",
   "id": "2b569c12-9aaa-4c88-98c9-bbcd0cf3ebb8",
   "metadata": {
    "papermill": {
     "duration": 0.023963,
     "end_time": "2025-07-30T19:57:12.946468",
     "exception": false,
     "start_time": "2025-07-30T19:57:12.922505",
     "status": "completed"
    },
    "tags": []
   },
   "source": [
    "# CP Metrics"
   ]
  },
  {
   "cell_type": "code",
   "execution_count": 56,
   "id": "5ce0a5cb-201f-45a0-ade5-94c7f0bd6095",
   "metadata": {
    "execution": {
     "iopub.execute_input": "2025-07-30T19:57:12.997974Z",
     "iopub.status.busy": "2025-07-30T19:57:12.997529Z",
     "iopub.status.idle": "2025-07-30T19:57:13.004973Z",
     "shell.execute_reply": "2025-07-30T19:57:13.003846Z"
    },
    "papermill": {
     "duration": 0.035047,
     "end_time": "2025-07-30T19:57:13.006675",
     "exception": false,
     "start_time": "2025-07-30T19:57:12.971628",
     "status": "completed"
    },
    "tags": []
   },
   "outputs": [
    {
     "data": {
      "text/plain": [
       "{'coverage': 0.9119050273102218, 'avg_size': 1.199788206442983}"
      ]
     },
     "execution_count": 56,
     "metadata": {},
     "output_type": "execute_result"
    }
   ],
   "source": [
    "metrics"
   ]
  },
  {
   "cell_type": "code",
   "execution_count": 57,
   "id": "9b9a838d-31c9-430b-ae14-12baee460d17",
   "metadata": {
    "execution": {
     "iopub.execute_input": "2025-07-30T19:57:13.060663Z",
     "iopub.status.busy": "2025-07-30T19:57:13.060162Z",
     "iopub.status.idle": "2025-07-30T19:57:13.066950Z",
     "shell.execute_reply": "2025-07-30T19:57:13.065850Z"
    },
    "papermill": {
     "duration": 0.036001,
     "end_time": "2025-07-30T19:57:13.068803",
     "exception": false,
     "start_time": "2025-07-30T19:57:13.032802",
     "status": "completed"
    },
    "tags": []
   },
   "outputs": [],
   "source": [
    "example_universe = universe.copy()\n",
    "universe_training_year = example_universe.get(\"training_year\")\n",
    "universe_training_size = example_universe.get(\"training_size\")\n",
    "universe_scale = example_universe.get(\"scale\")\n",
    "universe_model = example_universe.get(\"model\")\n",
    "universe_exclude_features = example_universe.get(\"exclude_features\")\n",
    "universe_exclude_subgroups = example_universe.get(\"exclude_subgroups\")"
   ]
  },
  {
   "cell_type": "code",
   "execution_count": 58,
   "id": "f4b6a8ac-9dc0-4245-8a91-5b3b5999c4f9",
   "metadata": {
    "execution": {
     "iopub.execute_input": "2025-07-30T19:57:13.121658Z",
     "iopub.status.busy": "2025-07-30T19:57:13.121185Z",
     "iopub.status.idle": "2025-07-30T19:57:13.126025Z",
     "shell.execute_reply": "2025-07-30T19:57:13.125257Z"
    },
    "papermill": {
     "duration": 0.032337,
     "end_time": "2025-07-30T19:57:13.127873",
     "exception": false,
     "start_time": "2025-07-30T19:57:13.095536",
     "status": "completed"
    },
    "tags": []
   },
   "outputs": [],
   "source": [
    "cp_metrics_dict = {\n",
    "    \"universe_id\": [universe_id],\n",
    "    \"universe_training_year\": [universe_training_year],\n",
    "    \"universe_training_size\": [universe_training_size],\n",
    "    \"universe_scale\": [universe_scale],\n",
    "    \"universe_model\": [universe_model],\n",
    "    \"universe_exclude_features\": [universe_exclude_features],\n",
    "    \"universe_exclude_subgroups\": [universe_exclude_subgroups],\n",
    "    \"q_hat\": [q_hat],\n",
    "    \"coverage\": [metrics[\"coverage\"]],\n",
    "    \"avg_size\": [metrics[\"avg_size\"]],\n",
    "}"
   ]
  },
  {
   "cell_type": "code",
   "execution_count": 59,
   "id": "908acbb1-0371-4915-85ca-3fa520d2efe2",
   "metadata": {
    "execution": {
     "iopub.execute_input": "2025-07-30T19:57:13.180589Z",
     "iopub.status.busy": "2025-07-30T19:57:13.180230Z",
     "iopub.status.idle": "2025-07-30T19:57:13.186636Z",
     "shell.execute_reply": "2025-07-30T19:57:13.185750Z"
    },
    "papermill": {
     "duration": 0.033531,
     "end_time": "2025-07-30T19:57:13.187838",
     "exception": false,
     "start_time": "2025-07-30T19:57:13.154307",
     "status": "completed"
    },
    "tags": []
   },
   "outputs": [
    {
     "data": {
      "text/plain": [
       "{'universe_id': ['9b779ef78421d2b9158e4e8819a5d71a'],\n",
       " 'universe_training_year': ['2014'],\n",
       " 'universe_training_size': ['25k'],\n",
       " 'universe_scale': ['do-not-scale'],\n",
       " 'universe_model': ['logreg'],\n",
       " 'universe_exclude_features': ['nationality'],\n",
       " 'universe_exclude_subgroups': ['keep-all'],\n",
       " 'q_hat': [0.6782422413743783],\n",
       " 'coverage': [0.9119050273102218],\n",
       " 'avg_size': [1.199788206442983]}"
      ]
     },
     "execution_count": 59,
     "metadata": {},
     "output_type": "execute_result"
    }
   ],
   "source": [
    "cp_metrics_dict"
   ]
  },
  {
   "cell_type": "code",
   "execution_count": 60,
   "id": "33007efc-14e9-4ec6-97ac-56a455c82265",
   "metadata": {
    "execution": {
     "iopub.execute_input": "2025-07-30T19:57:13.216468Z",
     "iopub.status.busy": "2025-07-30T19:57:13.216129Z",
     "iopub.status.idle": "2025-07-30T19:57:13.221089Z",
     "shell.execute_reply": "2025-07-30T19:57:13.220313Z"
    },
    "papermill": {
     "duration": 0.020244,
     "end_time": "2025-07-30T19:57:13.222417",
     "exception": false,
     "start_time": "2025-07-30T19:57:13.202173",
     "status": "completed"
    },
    "tags": []
   },
   "outputs": [],
   "source": [
    "cp_metrics_df = pd.DataFrame(cp_metrics_dict)"
   ]
  },
  {
   "cell_type": "code",
   "execution_count": 61,
   "id": "db12611b-57b2-4910-b9d0-355adfd6e7bf",
   "metadata": {
    "execution": {
     "iopub.execute_input": "2025-07-30T19:57:13.251057Z",
     "iopub.status.busy": "2025-07-30T19:57:13.250634Z",
     "iopub.status.idle": "2025-07-30T19:57:13.269547Z",
     "shell.execute_reply": "2025-07-30T19:57:13.268685Z"
    },
    "papermill": {
     "duration": 0.034329,
     "end_time": "2025-07-30T19:57:13.270714",
     "exception": false,
     "start_time": "2025-07-30T19:57:13.236385",
     "status": "completed"
    },
    "tags": []
   },
   "outputs": [
    {
     "data": {
      "text/html": [
       "<div>\n",
       "<style scoped>\n",
       "    .dataframe tbody tr th:only-of-type {\n",
       "        vertical-align: middle;\n",
       "    }\n",
       "\n",
       "    .dataframe tbody tr th {\n",
       "        vertical-align: top;\n",
       "    }\n",
       "\n",
       "    .dataframe thead th {\n",
       "        text-align: right;\n",
       "    }\n",
       "</style>\n",
       "<table border=\"1\" class=\"dataframe\">\n",
       "  <thead>\n",
       "    <tr style=\"text-align: right;\">\n",
       "      <th></th>\n",
       "      <th>universe_id</th>\n",
       "      <th>universe_training_year</th>\n",
       "      <th>universe_training_size</th>\n",
       "      <th>universe_scale</th>\n",
       "      <th>universe_model</th>\n",
       "      <th>universe_exclude_features</th>\n",
       "      <th>universe_exclude_subgroups</th>\n",
       "      <th>q_hat</th>\n",
       "      <th>coverage</th>\n",
       "      <th>avg_size</th>\n",
       "    </tr>\n",
       "  </thead>\n",
       "  <tbody>\n",
       "    <tr>\n",
       "      <th>0</th>\n",
       "      <td>9b779ef78421d2b9158e4e8819a5d71a</td>\n",
       "      <td>2014</td>\n",
       "      <td>25k</td>\n",
       "      <td>do-not-scale</td>\n",
       "      <td>logreg</td>\n",
       "      <td>nationality</td>\n",
       "      <td>keep-all</td>\n",
       "      <td>0.678242</td>\n",
       "      <td>0.911905</td>\n",
       "      <td>1.199788</td>\n",
       "    </tr>\n",
       "  </tbody>\n",
       "</table>\n",
       "</div>"
      ],
      "text/plain": [
       "                        universe_id universe_training_year  \\\n",
       "0  9b779ef78421d2b9158e4e8819a5d71a                   2014   \n",
       "\n",
       "  universe_training_size universe_scale universe_model  \\\n",
       "0                    25k   do-not-scale         logreg   \n",
       "\n",
       "  universe_exclude_features universe_exclude_subgroups     q_hat  coverage  \\\n",
       "0               nationality                   keep-all  0.678242  0.911905   \n",
       "\n",
       "   avg_size  \n",
       "0  1.199788  "
      ]
     },
     "execution_count": 61,
     "metadata": {},
     "output_type": "execute_result"
    }
   ],
   "source": [
    "cp_metrics_df"
   ]
  },
  {
   "cell_type": "code",
   "execution_count": 62,
   "id": "b7fbde55-a0a1-47e4-9af6-fe4a17fa8c61",
   "metadata": {
    "execution": {
     "iopub.execute_input": "2025-07-30T19:57:13.299527Z",
     "iopub.status.busy": "2025-07-30T19:57:13.299086Z",
     "iopub.status.idle": "2025-07-30T19:57:13.304511Z",
     "shell.execute_reply": "2025-07-30T19:57:13.303606Z"
    },
    "papermill": {
     "duration": 0.021323,
     "end_time": "2025-07-30T19:57:13.305867",
     "exception": false,
     "start_time": "2025-07-30T19:57:13.284544",
     "status": "completed"
    },
    "tags": []
   },
   "outputs": [],
   "source": [
    "# Conditional Coverage & looking at subgroups"
   ]
  },
  {
   "cell_type": "code",
   "execution_count": 63,
   "id": "027ae886-68dd-4141-96c7-805a5450e1ef",
   "metadata": {
    "execution": {
     "iopub.execute_input": "2025-07-30T19:57:13.334916Z",
     "iopub.status.busy": "2025-07-30T19:57:13.334419Z",
     "iopub.status.idle": "2025-07-30T19:57:13.538601Z",
     "shell.execute_reply": "2025-07-30T19:57:13.537783Z"
    },
    "papermill": {
     "duration": 0.220142,
     "end_time": "2025-07-30T19:57:13.540197",
     "exception": false,
     "start_time": "2025-07-30T19:57:13.320055",
     "status": "completed"
    },
    "tags": []
   },
   "outputs": [],
   "source": [
    "from fairness_multiverse.conformal import build_cp_groups\n",
    "\n",
    "cp_groups_df = build_cp_groups(pred_sets, y_true, X_test.index, org_test)\n",
    "#needs universe_id and setting"
   ]
  },
  {
   "cell_type": "code",
   "execution_count": 64,
   "id": "01d5802c-663a-4d1f-9d69-e036faaffbf7",
   "metadata": {
    "execution": {
     "iopub.execute_input": "2025-07-30T19:57:13.570063Z",
     "iopub.status.busy": "2025-07-30T19:57:13.569558Z",
     "iopub.status.idle": "2025-07-30T19:57:13.573678Z",
     "shell.execute_reply": "2025-07-30T19:57:13.572932Z"
    },
    "papermill": {
     "duration": 0.020355,
     "end_time": "2025-07-30T19:57:13.575057",
     "exception": false,
     "start_time": "2025-07-30T19:57:13.554702",
     "status": "completed"
    },
    "tags": []
   },
   "outputs": [],
   "source": [
    "#delete\n",
    "#cp_groups_df"
   ]
  },
  {
   "cell_type": "code",
   "execution_count": 65,
   "id": "fa424af1-d1eb-443d-b717-2d279ada8408",
   "metadata": {
    "execution": {
     "iopub.execute_input": "2025-07-30T19:57:13.609292Z",
     "iopub.status.busy": "2025-07-30T19:57:13.608904Z",
     "iopub.status.idle": "2025-07-30T19:57:13.613165Z",
     "shell.execute_reply": "2025-07-30T19:57:13.612427Z"
    },
    "papermill": {
     "duration": 0.021662,
     "end_time": "2025-07-30T19:57:13.614550",
     "exception": false,
     "start_time": "2025-07-30T19:57:13.592888",
     "status": "completed"
    },
    "tags": []
   },
   "outputs": [],
   "source": [
    "#delete\n",
    "#percentage = (cp_groups_df['nongerman_female'] == 1).mean() * 100\n",
    "#print(percentage)\n"
   ]
  },
  {
   "cell_type": "code",
   "execution_count": 66,
   "id": "6cbdab96-b2b2-45af-ad54-d0516db2e28d",
   "metadata": {
    "execution": {
     "iopub.execute_input": "2025-07-30T19:57:13.644647Z",
     "iopub.status.busy": "2025-07-30T19:57:13.644274Z",
     "iopub.status.idle": "2025-07-30T19:57:14.982530Z",
     "shell.execute_reply": "2025-07-30T19:57:14.981804Z"
    },
    "papermill": {
     "duration": 1.354264,
     "end_time": "2025-07-30T19:57:14.983904",
     "exception": false,
     "start_time": "2025-07-30T19:57:13.629640",
     "status": "completed"
    },
    "tags": []
   },
   "outputs": [],
   "source": [
    "# Define covered = 1 if true_label is in the predicted set\n",
    "cp_groups_df['covered'] = cp_groups_df.apply(\n",
    "    lambda r: int(r['true_label'] in r['pred_set']),\n",
    "    axis=1\n",
    ")"
   ]
  },
  {
   "cell_type": "code",
   "execution_count": 67,
   "id": "338ff529-1a6b-4b87-a931-8e4788d52aad",
   "metadata": {
    "execution": {
     "iopub.execute_input": "2025-07-30T19:57:15.015528Z",
     "iopub.status.busy": "2025-07-30T19:57:15.014608Z",
     "iopub.status.idle": "2025-07-30T19:57:15.021220Z",
     "shell.execute_reply": "2025-07-30T19:57:15.020162Z"
    },
    "papermill": {
     "duration": 0.023297,
     "end_time": "2025-07-30T19:57:15.023564",
     "exception": false,
     "start_time": "2025-07-30T19:57:15.000267",
     "status": "completed"
    },
    "tags": []
   },
   "outputs": [],
   "source": [
    "#cp_groups_df"
   ]
  },
  {
   "cell_type": "code",
   "execution_count": 68,
   "id": "90032e27-66df-4540-9169-4e89cfbaa758",
   "metadata": {
    "execution": {
     "iopub.execute_input": "2025-07-30T19:57:15.094145Z",
     "iopub.status.busy": "2025-07-30T19:57:15.093671Z",
     "iopub.status.idle": "2025-07-30T19:57:15.106386Z",
     "shell.execute_reply": "2025-07-30T19:57:15.105237Z"
    },
    "papermill": {
     "duration": 0.050476,
     "end_time": "2025-07-30T19:57:15.108438",
     "exception": false,
     "start_time": "2025-07-30T19:57:15.057962",
     "status": "completed"
    },
    "tags": []
   },
   "outputs": [],
   "source": [
    "subgroups = ['frau1','nongerman','nongerman_male','nongerman_female']\n",
    "\n",
    "# Conditional coverage for subgroup==1\n",
    "cond_coverage = {\n",
    "    g: cp_groups_df.loc[cp_groups_df[g]==1, 'covered'].mean()\n",
    "    for g in subgroups\n",
    "}"
   ]
  },
  {
   "cell_type": "code",
   "execution_count": 69,
   "id": "1e348fb1-b9c3-45bc-ba23-f016827a7e0d",
   "metadata": {
    "execution": {
     "iopub.execute_input": "2025-07-30T19:57:15.169309Z",
     "iopub.status.busy": "2025-07-30T19:57:15.168832Z",
     "iopub.status.idle": "2025-07-30T19:57:15.176793Z",
     "shell.execute_reply": "2025-07-30T19:57:15.175983Z"
    },
    "papermill": {
     "duration": 0.041198,
     "end_time": "2025-07-30T19:57:15.178782",
     "exception": false,
     "start_time": "2025-07-30T19:57:15.137584",
     "status": "completed"
    },
    "tags": []
   },
   "outputs": [
    {
     "data": {
      "text/plain": [
       "{'frau1': 0.9105270252055533,\n",
       " 'nongerman': 0.9291528658844664,\n",
       " 'nongerman_male': 0.9428082500225164,\n",
       " 'nongerman_female': 0.9065573770491804}"
      ]
     },
     "execution_count": 69,
     "metadata": {},
     "output_type": "execute_result"
    }
   ],
   "source": [
    "cond_coverage"
   ]
  },
  {
   "cell_type": "code",
   "execution_count": 70,
   "id": "f5093324-c3dd-4d63-bc4c-8d945e5c8bbb",
   "metadata": {
    "execution": {
     "iopub.execute_input": "2025-07-30T19:57:15.235912Z",
     "iopub.status.busy": "2025-07-30T19:57:15.235569Z",
     "iopub.status.idle": "2025-07-30T19:57:15.241393Z",
     "shell.execute_reply": "2025-07-30T19:57:15.240521Z"
    },
    "papermill": {
     "duration": 0.028577,
     "end_time": "2025-07-30T19:57:15.242808",
     "exception": false,
     "start_time": "2025-07-30T19:57:15.214231",
     "status": "completed"
    },
    "tags": []
   },
   "outputs": [],
   "source": [
    "for subgroup, cov in cond_coverage.items():\n",
    "    cp_metrics_df[f\"cov_{subgroup}\"] = cov"
   ]
  },
  {
   "cell_type": "code",
   "execution_count": 71,
   "id": "6e872e10-dbe5-49e8-b554-5030c98ff75d",
   "metadata": {
    "execution": {
     "iopub.execute_input": "2025-07-30T19:57:15.275770Z",
     "iopub.status.busy": "2025-07-30T19:57:15.275032Z",
     "iopub.status.idle": "2025-07-30T19:57:15.314674Z",
     "shell.execute_reply": "2025-07-30T19:57:15.313553Z"
    },
    "papermill": {
     "duration": 0.058911,
     "end_time": "2025-07-30T19:57:15.316623",
     "exception": false,
     "start_time": "2025-07-30T19:57:15.257712",
     "status": "completed"
    },
    "tags": []
   },
   "outputs": [
    {
     "data": {
      "text/html": [
       "<div>\n",
       "<style scoped>\n",
       "    .dataframe tbody tr th:only-of-type {\n",
       "        vertical-align: middle;\n",
       "    }\n",
       "\n",
       "    .dataframe tbody tr th {\n",
       "        vertical-align: top;\n",
       "    }\n",
       "\n",
       "    .dataframe thead th {\n",
       "        text-align: right;\n",
       "    }\n",
       "</style>\n",
       "<table border=\"1\" class=\"dataframe\">\n",
       "  <thead>\n",
       "    <tr style=\"text-align: right;\">\n",
       "      <th></th>\n",
       "      <th>universe_id</th>\n",
       "      <th>universe_training_year</th>\n",
       "      <th>universe_training_size</th>\n",
       "      <th>universe_scale</th>\n",
       "      <th>universe_model</th>\n",
       "      <th>universe_exclude_features</th>\n",
       "      <th>universe_exclude_subgroups</th>\n",
       "      <th>q_hat</th>\n",
       "      <th>coverage</th>\n",
       "      <th>avg_size</th>\n",
       "      <th>cov_frau1</th>\n",
       "      <th>cov_nongerman</th>\n",
       "      <th>cov_nongerman_male</th>\n",
       "      <th>cov_nongerman_female</th>\n",
       "    </tr>\n",
       "  </thead>\n",
       "  <tbody>\n",
       "    <tr>\n",
       "      <th>0</th>\n",
       "      <td>9b779ef78421d2b9158e4e8819a5d71a</td>\n",
       "      <td>2014</td>\n",
       "      <td>25k</td>\n",
       "      <td>do-not-scale</td>\n",
       "      <td>logreg</td>\n",
       "      <td>nationality</td>\n",
       "      <td>keep-all</td>\n",
       "      <td>0.678242</td>\n",
       "      <td>0.911905</td>\n",
       "      <td>1.199788</td>\n",
       "      <td>0.910527</td>\n",
       "      <td>0.929153</td>\n",
       "      <td>0.942808</td>\n",
       "      <td>0.906557</td>\n",
       "    </tr>\n",
       "  </tbody>\n",
       "</table>\n",
       "</div>"
      ],
      "text/plain": [
       "                        universe_id universe_training_year  \\\n",
       "0  9b779ef78421d2b9158e4e8819a5d71a                   2014   \n",
       "\n",
       "  universe_training_size universe_scale universe_model  \\\n",
       "0                    25k   do-not-scale         logreg   \n",
       "\n",
       "  universe_exclude_features universe_exclude_subgroups     q_hat  coverage  \\\n",
       "0               nationality                   keep-all  0.678242  0.911905   \n",
       "\n",
       "   avg_size  cov_frau1  cov_nongerman  cov_nongerman_male  \\\n",
       "0  1.199788   0.910527       0.929153            0.942808   \n",
       "\n",
       "   cov_nongerman_female  \n",
       "0              0.906557  "
      ]
     },
     "execution_count": 71,
     "metadata": {},
     "output_type": "execute_result"
    }
   ],
   "source": [
    "cp_metrics_df"
   ]
  },
  {
   "cell_type": "markdown",
   "id": "33774451",
   "metadata": {
    "papermill": {
     "duration": 0.02811,
     "end_time": "2025-07-30T19:57:15.373015",
     "exception": false,
     "start_time": "2025-07-30T19:57:15.344905",
     "status": "completed"
    },
    "tags": []
   },
   "source": [
    "# (Fairness) Metrics"
   ]
  },
  {
   "cell_type": "code",
   "execution_count": 72,
   "id": "debc5d62",
   "metadata": {
    "execution": {
     "iopub.execute_input": "2025-07-30T19:57:15.430665Z",
     "iopub.status.busy": "2025-07-30T19:57:15.430164Z",
     "iopub.status.idle": "2025-07-30T19:57:15.464434Z",
     "shell.execute_reply": "2025-07-30T19:57:15.453328Z"
    },
    "papermill": {
     "duration": 0.065526,
     "end_time": "2025-07-30T19:57:15.465714",
     "exception": false,
     "start_time": "2025-07-30T19:57:15.400188",
     "status": "completed"
    },
    "tags": []
   },
   "outputs": [],
   "source": [
    "# do I need to include maxdeutsch1.missing?\n",
    "\n",
    "import numpy as np\n",
    "\n",
    "colname_to_bin = \"maxdeutsch1\"\n",
    "majority_value = org_train[colname_to_bin].mode()[0]\n",
    "\n",
    "org_test[\"majmin\"] = np.where(org_test[colname_to_bin] == majority_value, \"majority\", \"minority\")"
   ]
  },
  {
   "cell_type": "code",
   "execution_count": 73,
   "id": "06a50de5",
   "metadata": {
    "execution": {
     "iopub.execute_input": "2025-07-30T19:57:15.497784Z",
     "iopub.status.busy": "2025-07-30T19:57:15.497097Z",
     "iopub.status.idle": "2025-07-30T19:57:17.553706Z",
     "shell.execute_reply": "2025-07-30T19:57:17.552734Z"
    },
    "papermill": {
     "duration": 2.072738,
     "end_time": "2025-07-30T19:57:17.555576",
     "exception": false,
     "start_time": "2025-07-30T19:57:15.482838",
     "status": "completed"
    },
    "tags": []
   },
   "outputs": [],
   "source": [
    "example_universe = universe.copy()\n",
    "example_universe[\"cutoff\"] = example_universe[\"cutoff\"][0]\n",
    "example_universe[\"eval_fairness_grouping\"] = example_universe[\"eval_fairness_grouping\"][0]\n",
    "fairness_dict, metric_frame = universe_analysis.compute_metrics(\n",
    "    example_universe,\n",
    "    y_pred_prob=probs_test,\n",
    "    y_test=y_true,\n",
    "    org_test=org_test,\n",
    ")"
   ]
  },
  {
   "cell_type": "markdown",
   "id": "f95d4e02",
   "metadata": {
    "papermill": {
     "duration": 0.0291,
     "end_time": "2025-07-30T19:57:17.614647",
     "exception": false,
     "start_time": "2025-07-30T19:57:17.585547",
     "status": "completed"
    },
    "tags": []
   },
   "source": [
    "# Overall"
   ]
  },
  {
   "cell_type": "markdown",
   "id": "bdee4871",
   "metadata": {
    "papermill": {
     "duration": 0.018371,
     "end_time": "2025-07-30T19:57:17.659328",
     "exception": false,
     "start_time": "2025-07-30T19:57:17.640957",
     "status": "completed"
    },
    "tags": []
   },
   "source": [
    "Fairness\n",
    "Main fairness target: Equalized Odds. Seems to be a better fit than equal opportunity, since we're not only interested in Y = 1. Seems to be a better fit than demographic parity, since we also care about accuracy, not just equal distribution of preds.\n",
    "\n",
    "Pick column for computation of fairness metrics\n",
    "\n",
    "Performance\n",
    "Overall performance measures, most interesting in relation to the measures split by group below"
   ]
  },
  {
   "cell_type": "code",
   "execution_count": 74,
   "id": "c4e067c6",
   "metadata": {
    "execution": {
     "iopub.execute_input": "2025-07-30T19:57:17.715602Z",
     "iopub.status.busy": "2025-07-30T19:57:17.714613Z",
     "iopub.status.idle": "2025-07-30T19:57:17.723759Z",
     "shell.execute_reply": "2025-07-30T19:57:17.722695Z"
    },
    "papermill": {
     "duration": 0.037234,
     "end_time": "2025-07-30T19:57:17.725494",
     "exception": false,
     "start_time": "2025-07-30T19:57:17.688260",
     "status": "completed"
    },
    "tags": []
   },
   "outputs": [
    {
     "data": {
      "text/plain": [
       "accuracy                   0.217022\n",
       "balanced accuracy          0.532188\n",
       "f1                         0.238555\n",
       "precision                  0.136279\n",
       "false positive rate        0.891742\n",
       "false negative rate        0.043883\n",
       "selection rate             0.900000\n",
       "count                  89710.000000\n",
       "dtype: float64"
      ]
     },
     "execution_count": 74,
     "metadata": {},
     "output_type": "execute_result"
    }
   ],
   "source": [
    "metric_frame.overall"
   ]
  },
  {
   "cell_type": "markdown",
   "id": "e968fe9d",
   "metadata": {
    "papermill": {
     "duration": 0.02796,
     "end_time": "2025-07-30T19:57:17.782815",
     "exception": false,
     "start_time": "2025-07-30T19:57:17.754855",
     "status": "completed"
    },
    "tags": []
   },
   "source": [
    "By Group"
   ]
  },
  {
   "cell_type": "code",
   "execution_count": 75,
   "id": "ec325bce",
   "metadata": {
    "execution": {
     "iopub.execute_input": "2025-07-30T19:57:17.817885Z",
     "iopub.status.busy": "2025-07-30T19:57:17.817459Z",
     "iopub.status.idle": "2025-07-30T19:57:17.837584Z",
     "shell.execute_reply": "2025-07-30T19:57:17.836541Z"
    },
    "papermill": {
     "duration": 0.038962,
     "end_time": "2025-07-30T19:57:17.839486",
     "exception": false,
     "start_time": "2025-07-30T19:57:17.800524",
     "status": "completed"
    },
    "tags": []
   },
   "outputs": [
    {
     "data": {
      "text/html": [
       "<div>\n",
       "<style scoped>\n",
       "    .dataframe tbody tr th:only-of-type {\n",
       "        vertical-align: middle;\n",
       "    }\n",
       "\n",
       "    .dataframe tbody tr th {\n",
       "        vertical-align: top;\n",
       "    }\n",
       "\n",
       "    .dataframe thead th {\n",
       "        text-align: right;\n",
       "    }\n",
       "</style>\n",
       "<table border=\"1\" class=\"dataframe\">\n",
       "  <thead>\n",
       "    <tr style=\"text-align: right;\">\n",
       "      <th></th>\n",
       "      <th>accuracy</th>\n",
       "      <th>balanced accuracy</th>\n",
       "      <th>f1</th>\n",
       "      <th>precision</th>\n",
       "      <th>false positive rate</th>\n",
       "      <th>false negative rate</th>\n",
       "      <th>selection rate</th>\n",
       "      <th>count</th>\n",
       "    </tr>\n",
       "    <tr>\n",
       "      <th>majmin</th>\n",
       "      <th></th>\n",
       "      <th></th>\n",
       "      <th></th>\n",
       "      <th></th>\n",
       "      <th></th>\n",
       "      <th></th>\n",
       "      <th></th>\n",
       "      <th></th>\n",
       "    </tr>\n",
       "  </thead>\n",
       "  <tbody>\n",
       "    <tr>\n",
       "      <th>majority</th>\n",
       "      <td>0.238875</td>\n",
       "      <td>0.539605</td>\n",
       "      <td>0.247717</td>\n",
       "      <td>0.142465</td>\n",
       "      <td>0.869149</td>\n",
       "      <td>0.051641</td>\n",
       "      <td>0.879615</td>\n",
       "      <td>69170.0</td>\n",
       "    </tr>\n",
       "    <tr>\n",
       "      <th>minority</th>\n",
       "      <td>0.143427</td>\n",
       "      <td>0.509844</td>\n",
       "      <td>0.209756</td>\n",
       "      <td>0.117360</td>\n",
       "      <td>0.966377</td>\n",
       "      <td>0.013936</td>\n",
       "      <td>0.968647</td>\n",
       "      <td>20540.0</td>\n",
       "    </tr>\n",
       "  </tbody>\n",
       "</table>\n",
       "</div>"
      ],
      "text/plain": [
       "          accuracy  balanced accuracy        f1  precision  \\\n",
       "majmin                                                       \n",
       "majority  0.238875           0.539605  0.247717   0.142465   \n",
       "minority  0.143427           0.509844  0.209756   0.117360   \n",
       "\n",
       "          false positive rate  false negative rate  selection rate    count  \n",
       "majmin                                                                       \n",
       "majority             0.869149             0.051641        0.879615  69170.0  \n",
       "minority             0.966377             0.013936        0.968647  20540.0  "
      ]
     },
     "execution_count": 75,
     "metadata": {},
     "output_type": "execute_result"
    }
   ],
   "source": [
    "metric_frame.by_group"
   ]
  },
  {
   "cell_type": "code",
   "execution_count": 76,
   "id": "a9ddbe63",
   "metadata": {
    "execution": {
     "iopub.execute_input": "2025-07-30T19:57:17.909476Z",
     "iopub.status.busy": "2025-07-30T19:57:17.909008Z",
     "iopub.status.idle": "2025-07-30T19:57:20.343257Z",
     "shell.execute_reply": "2025-07-30T19:57:20.342308Z"
    },
    "papermill": {
     "duration": 2.470969,
     "end_time": "2025-07-30T19:57:20.344899",
     "exception": false,
     "start_time": "2025-07-30T19:57:17.873930",
     "status": "completed"
    },
    "tags": []
   },
   "outputs": [
    {
     "data": {
      "text/plain": [
       "array([[<Axes: title={'center': 'accuracy'}, xlabel='majmin'>,\n",
       "        <Axes: title={'center': 'balanced accuracy'}, xlabel='majmin'>,\n",
       "        <Axes: title={'center': 'f1'}, xlabel='majmin'>],\n",
       "       [<Axes: title={'center': 'precision'}, xlabel='majmin'>,\n",
       "        <Axes: title={'center': 'false positive rate'}, xlabel='majmin'>,\n",
       "        <Axes: title={'center': 'false negative rate'}, xlabel='majmin'>],\n",
       "       [<Axes: title={'center': 'selection rate'}, xlabel='majmin'>,\n",
       "        <Axes: title={'center': 'count'}, xlabel='majmin'>,\n",
       "        <Axes: xlabel='majmin'>]], dtype=object)"
      ]
     },
     "execution_count": 76,
     "metadata": {},
     "output_type": "execute_result"
    },
    {
     "data": {
      "image/png": "[encoded data removed]",
      "text/plain": [
       "<Figure size 1200x800 with 9 Axes>"
      ]
     },
     "metadata": {},
     "output_type": "display_data"
    }
   ],
   "source": [
    "# In a graphic\n",
    "metric_frame.by_group.plot.bar(\n",
    "    subplots=True,\n",
    "    layout=[3, 3],\n",
    "    legend=False,\n",
    "    figsize=[12, 8],\n",
    "    title=\"Show all metrics\",\n",
    ")"
   ]
  },
  {
   "cell_type": "markdown",
   "id": "f57a0bac",
   "metadata": {
    "papermill": {
     "duration": 0.032577,
     "end_time": "2025-07-30T19:57:20.409699",
     "exception": false,
     "start_time": "2025-07-30T19:57:20.377122",
     "status": "completed"
    },
    "tags": []
   },
   "source": [
    "# Final Output"
   ]
  },
  {
   "cell_type": "code",
   "execution_count": 77,
   "id": "96d280a3",
   "metadata": {
    "execution": {
     "iopub.execute_input": "2025-07-30T19:57:20.469375Z",
     "iopub.status.busy": "2025-07-30T19:57:20.468778Z",
     "iopub.status.idle": "2025-07-30T19:57:20.476704Z",
     "shell.execute_reply": "2025-07-30T19:57:20.475791Z"
    },
    "papermill": {
     "duration": 0.038628,
     "end_time": "2025-07-30T19:57:20.478346",
     "exception": false,
     "start_time": "2025-07-30T19:57:20.439718",
     "status": "completed"
    },
    "tags": []
   },
   "outputs": [
    {
     "data": {
      "text/plain": [
       "4"
      ]
     },
     "execution_count": 77,
     "metadata": {},
     "output_type": "execute_result"
    }
   ],
   "source": [
    "sub_universes = universe_analysis.generate_sub_universes()\n",
    "len(sub_universes)"
   ]
  },
  {
   "cell_type": "code",
   "execution_count": 78,
   "id": "92adf7ba",
   "metadata": {
    "execution": {
     "iopub.execute_input": "2025-07-30T19:57:20.542937Z",
     "iopub.status.busy": "2025-07-30T19:57:20.541945Z",
     "iopub.status.idle": "2025-07-30T19:57:20.548594Z",
     "shell.execute_reply": "2025-07-30T19:57:20.547537Z"
    },
    "papermill": {
     "duration": 0.046836,
     "end_time": "2025-07-30T19:57:20.553317",
     "exception": false,
     "start_time": "2025-07-30T19:57:20.506481",
     "status": "completed"
    },
    "tags": []
   },
   "outputs": [],
   "source": [
    "def filter_sub_universe_data(sub_universe, org_test):\n",
    "    # Keep all rows — no filtering\n",
    "    keep_rows_mask = np.ones(org_test.shape[0], dtype=bool)\n",
    "\n",
    "    print(f\"[INFO] Keeping all rows: {keep_rows_mask.sum()} rows retained.\")\n",
    "    return keep_rows_mask"
   ]
  },
  {
   "cell_type": "code",
   "execution_count": 79,
   "id": "4a759155",
   "metadata": {
    "execution": {
     "iopub.execute_input": "2025-07-30T19:57:20.618367Z",
     "iopub.status.busy": "2025-07-30T19:57:20.617926Z",
     "iopub.status.idle": "2025-07-30T19:57:29.001287Z",
     "shell.execute_reply": "2025-07-30T19:57:29.000352Z"
    },
    "papermill": {
     "duration": 8.417313,
     "end_time": "2025-07-30T19:57:29.002868",
     "exception": false,
     "start_time": "2025-07-30T19:57:20.585555",
     "status": "completed"
    },
    "tags": []
   },
   "outputs": [
    {
     "name": "stdout",
     "output_type": "stream",
     "text": [
      "Stopping execution_time clock.\n",
      "[INFO] Keeping all rows: 89710 rows retained.\n"
     ]
    },
    {
     "name": "stdout",
     "output_type": "stream",
     "text": [
      "[INFO] Keeping all rows: 89710 rows retained.\n"
     ]
    },
    {
     "name": "stdout",
     "output_type": "stream",
     "text": [
      "[INFO] Keeping all rows: 89710 rows retained.\n"
     ]
    },
    {
     "name": "stdout",
     "output_type": "stream",
     "text": [
      "[INFO] Keeping all rows: 89710 rows retained.\n"
     ]
    },
    {
     "data": {
      "text/html": [
       "<div>\n",
       "<style scoped>\n",
       "    .dataframe tbody tr th:only-of-type {\n",
       "        vertical-align: middle;\n",
       "    }\n",
       "\n",
       "    .dataframe tbody tr th {\n",
       "        vertical-align: top;\n",
       "    }\n",
       "\n",
       "    .dataframe thead th {\n",
       "        text-align: right;\n",
       "    }\n",
       "</style>\n",
       "<table border=\"1\" class=\"dataframe\">\n",
       "  <thead>\n",
       "    <tr style=\"text-align: right;\">\n",
       "      <th></th>\n",
       "      <th>run_no</th>\n",
       "      <th>universe_id</th>\n",
       "      <th>universe_settings</th>\n",
       "      <th>execution_time</th>\n",
       "      <th>test_size_n</th>\n",
       "      <th>test_size_frac</th>\n",
       "      <th>fair_main_equalized_odds_difference</th>\n",
       "      <th>fair_main_equalized_odds_ratio</th>\n",
       "      <th>fair_main_demographic_parity_difference</th>\n",
       "      <th>fair_main_demographic_parity_ratio</th>\n",
       "      <th>...</th>\n",
       "      <th>perf_grp_precision_0</th>\n",
       "      <th>perf_grp_precision_1</th>\n",
       "      <th>perf_grp_false positive rate_0</th>\n",
       "      <th>perf_grp_false positive rate_1</th>\n",
       "      <th>perf_grp_false negative rate_0</th>\n",
       "      <th>perf_grp_false negative rate_1</th>\n",
       "      <th>perf_grp_selection rate_0</th>\n",
       "      <th>perf_grp_selection rate_1</th>\n",
       "      <th>perf_grp_count_0</th>\n",
       "      <th>perf_grp_count_1</th>\n",
       "    </tr>\n",
       "  </thead>\n",
       "  <tbody>\n",
       "    <tr>\n",
       "      <th>0</th>\n",
       "      <td>14</td>\n",
       "      <td>9b779ef78421d2b9158e4e8819a5d71a</td>\n",
       "      <td>{\"cutoff\": \"quantile_0.1\", \"eval_fairness_grou...</td>\n",
       "      <td>26.692605</td>\n",
       "      <td>89710</td>\n",
       "      <td>1.0</td>\n",
       "      <td>0.097228</td>\n",
       "      <td>0.899389</td>\n",
       "      <td>0.089031</td>\n",
       "      <td>0.908087</td>\n",
       "      <td>...</td>\n",
       "      <td>NaN</td>\n",
       "      <td>NaN</td>\n",
       "      <td>NaN</td>\n",
       "      <td>NaN</td>\n",
       "      <td>NaN</td>\n",
       "      <td>NaN</td>\n",
       "      <td>NaN</td>\n",
       "      <td>NaN</td>\n",
       "      <td>NaN</td>\n",
       "      <td>NaN</td>\n",
       "    </tr>\n",
       "    <tr>\n",
       "      <th>0</th>\n",
       "      <td>14</td>\n",
       "      <td>9b779ef78421d2b9158e4e8819a5d71a</td>\n",
       "      <td>{\"cutoff\": \"quantile_0.1\", \"eval_fairness_grou...</td>\n",
       "      <td>26.692605</td>\n",
       "      <td>89710</td>\n",
       "      <td>1.0</td>\n",
       "      <td>0.097228</td>\n",
       "      <td>0.899389</td>\n",
       "      <td>0.089031</td>\n",
       "      <td>0.908087</td>\n",
       "      <td>...</td>\n",
       "      <td>0.117360</td>\n",
       "      <td>0.142465</td>\n",
       "      <td>0.966377</td>\n",
       "      <td>0.869149</td>\n",
       "      <td>0.013936</td>\n",
       "      <td>0.051641</td>\n",
       "      <td>0.968647</td>\n",
       "      <td>0.879615</td>\n",
       "      <td>20540.0</td>\n",
       "      <td>69170.0</td>\n",
       "    </tr>\n",
       "    <tr>\n",
       "      <th>0</th>\n",
       "      <td>14</td>\n",
       "      <td>9b779ef78421d2b9158e4e8819a5d71a</td>\n",
       "      <td>{\"cutoff\": \"quantile_0.25\", \"eval_fairness_gro...</td>\n",
       "      <td>26.692605</td>\n",
       "      <td>89710</td>\n",
       "      <td>1.0</td>\n",
       "      <td>0.213323</td>\n",
       "      <td>0.761299</td>\n",
       "      <td>0.195434</td>\n",
       "      <td>0.783016</td>\n",
       "      <td>...</td>\n",
       "      <td>NaN</td>\n",
       "      <td>NaN</td>\n",
       "      <td>NaN</td>\n",
       "      <td>NaN</td>\n",
       "      <td>NaN</td>\n",
       "      <td>NaN</td>\n",
       "      <td>NaN</td>\n",
       "      <td>NaN</td>\n",
       "      <td>NaN</td>\n",
       "      <td>NaN</td>\n",
       "    </tr>\n",
       "    <tr>\n",
       "      <th>0</th>\n",
       "      <td>14</td>\n",
       "      <td>9b779ef78421d2b9158e4e8819a5d71a</td>\n",
       "      <td>{\"cutoff\": \"quantile_0.25\", \"eval_fairness_gro...</td>\n",
       "      <td>26.692605</td>\n",
       "      <td>89710</td>\n",
       "      <td>1.0</td>\n",
       "      <td>0.213323</td>\n",
       "      <td>0.761299</td>\n",
       "      <td>0.195434</td>\n",
       "      <td>0.783016</td>\n",
       "      <td>...</td>\n",
       "      <td>0.122162</td>\n",
       "      <td>0.162765</td>\n",
       "      <td>0.893683</td>\n",
       "      <td>0.680360</td>\n",
       "      <td>0.045608</td>\n",
       "      <td>0.131291</td>\n",
       "      <td>0.900682</td>\n",
       "      <td>0.705248</td>\n",
       "      <td>20540.0</td>\n",
       "      <td>69170.0</td>\n",
       "    </tr>\n",
       "  </tbody>\n",
       "</table>\n",
       "<p>4 rows × 50 columns</p>\n",
       "</div>"
      ],
      "text/plain": [
       "  run_no                       universe_id  \\\n",
       "0     14  9b779ef78421d2b9158e4e8819a5d71a   \n",
       "0     14  9b779ef78421d2b9158e4e8819a5d71a   \n",
       "0     14  9b779ef78421d2b9158e4e8819a5d71a   \n",
       "0     14  9b779ef78421d2b9158e4e8819a5d71a   \n",
       "\n",
       "                                   universe_settings  execution_time  \\\n",
       "0  {\"cutoff\": \"quantile_0.1\", \"eval_fairness_grou...       26.692605   \n",
       "0  {\"cutoff\": \"quantile_0.1\", \"eval_fairness_grou...       26.692605   \n",
       "0  {\"cutoff\": \"quantile_0.25\", \"eval_fairness_gro...       26.692605   \n",
       "0  {\"cutoff\": \"quantile_0.25\", \"eval_fairness_gro...       26.692605   \n",
       "\n",
       "   test_size_n  test_size_frac  fair_main_equalized_odds_difference  \\\n",
       "0        89710             1.0                             0.097228   \n",
       "0        89710             1.0                             0.097228   \n",
       "0        89710             1.0                             0.213323   \n",
       "0        89710             1.0                             0.213323   \n",
       "\n",
       "   fair_main_equalized_odds_ratio  fair_main_demographic_parity_difference  \\\n",
       "0                        0.899389                                 0.089031   \n",
       "0                        0.899389                                 0.089031   \n",
       "0                        0.761299                                 0.195434   \n",
       "0                        0.761299                                 0.195434   \n",
       "\n",
       "   fair_main_demographic_parity_ratio  ...  perf_grp_precision_0  \\\n",
       "0                            0.908087  ...                   NaN   \n",
       "0                            0.908087  ...              0.117360   \n",
       "0                            0.783016  ...                   NaN   \n",
       "0                            0.783016  ...              0.122162   \n",
       "\n",
       "   perf_grp_precision_1  perf_grp_false positive rate_0  \\\n",
       "0                   NaN                             NaN   \n",
       "0              0.142465                        0.966377   \n",
       "0                   NaN                             NaN   \n",
       "0              0.162765                        0.893683   \n",
       "\n",
       "   perf_grp_false positive rate_1  perf_grp_false negative rate_0  \\\n",
       "0                             NaN                             NaN   \n",
       "0                        0.869149                        0.013936   \n",
       "0                             NaN                             NaN   \n",
       "0                        0.680360                        0.045608   \n",
       "\n",
       "   perf_grp_false negative rate_1  perf_grp_selection rate_0  \\\n",
       "0                             NaN                        NaN   \n",
       "0                        0.051641                   0.968647   \n",
       "0                             NaN                        NaN   \n",
       "0                        0.131291                   0.900682   \n",
       "\n",
       "   perf_grp_selection rate_1  perf_grp_count_0  perf_grp_count_1  \n",
       "0                        NaN               NaN               NaN  \n",
       "0                   0.879615           20540.0           69170.0  \n",
       "0                        NaN               NaN               NaN  \n",
       "0                   0.705248           20540.0           69170.0  \n",
       "\n",
       "[4 rows x 50 columns]"
      ]
     },
     "execution_count": 79,
     "metadata": {},
     "output_type": "execute_result"
    }
   ],
   "source": [
    "final_output = universe_analysis.generate_final_output(\n",
    "    y_pred_prob=probs_test,\n",
    "    y_test=y_true,\n",
    "    org_test=org_test,\n",
    "    filter_data=filter_sub_universe_data,\n",
    "    cp_metrics_df=cp_metrics_df,\n",
    "    save=True,\n",
    ")\n",
    "final_output"
   ]
  },
  {
   "cell_type": "code",
   "execution_count": null,
   "id": "721ff514-cb11-46f8-b6fc-50392f74b5cb",
   "metadata": {
    "papermill": {
     "duration": 0.029831,
     "end_time": "2025-07-30T19:57:29.063994",
     "exception": false,
     "start_time": "2025-07-30T19:57:29.034163",
     "status": "completed"
    },
    "tags": []
   },
   "outputs": [],
   "source": []
  }
 ],
 "metadata": {
  "celltoolbar": "Tags",
  "kernelspec": {
   "display_name": "Python (CMA Fairness)",
   "language": "python",
   "name": "cma_fair_env"
  },
  "language_info": {
   "codemirror_mode": {
    "name": "ipython",
    "version": 3
   },
   "file_extension": ".py",
   "mimetype": "text/x-python",
   "name": "python",
   "nbconvert_exporter": "python",
   "pygments_lexer": "ipython3",
   "version": "3.10.12"
  },
  "papermill": {
   "default_parameters": {},
   "duration": 39.367035,
   "end_time": "2025-07-30T19:57:29.912549",
   "environment_variables": {},
   "exception": null,
   "input_path": "universe_analysis.ipynb",
   "output_path": "output/runs/14/notebooks/m_14-9b779ef78421d2b9158e4e8819a5d71a.ipynb",
   "parameters": {
    "output_dir": "output",
    "run_no": "14",
    "seed": "2023",
    "universe": "{\"cutoff\": [\"quantile_0.1\", \"quantile_0.25\"], \"eval_fairness_grouping\": [\"majority-minority\", \"nationality-all\"], \"exclude_features\": \"nationality\", \"exclude_subgroups\": \"keep-all\", \"model\": \"logreg\", \"scale\": \"do-not-scale\", \"training_size\": \"25k\", \"training_year\": \"2014\"}",
    "universe_id": "9b779ef78421d2b9158e4e8819a5d71a"
   },
   "start_time": "2025-07-30T19:56:50.545514",
   "version": "2.6.0"
  }
 },
 "nbformat": 4,
 "nbformat_minor": 5
}