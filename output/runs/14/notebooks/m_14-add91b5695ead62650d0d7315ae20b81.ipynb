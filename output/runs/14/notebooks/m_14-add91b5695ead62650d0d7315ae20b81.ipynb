{
 "cells": [
  {
   "cell_type": "code",
   "execution_count": 1,
   "id": "f159f837-637b-42ba-96b5-ec9a68c44524",
   "metadata": {
    "execution": {
     "iopub.execute_input": "2025-07-30T21:52:25.999633Z",
     "iopub.status.busy": "2025-07-30T21:52:25.999136Z",
     "iopub.status.idle": "2025-07-30T21:52:26.012603Z",
     "shell.execute_reply": "2025-07-30T21:52:26.011602Z"
    },
    "papermill": {
     "duration": 0.037018,
     "end_time": "2025-07-30T21:52:26.014225",
     "exception": false,
     "start_time": "2025-07-30T21:52:25.977207",
     "status": "completed"
    },
    "tags": []
   },
   "outputs": [
    {
     "name": "stdout",
     "output_type": "stream",
     "text": [
      "/dss/dsshome1/0C/ra93lal2/cma/CMA_Fairness_v2\n"
     ]
    },
    {
     "name": "stderr",
     "output_type": "stream",
     "text": [
      "/dss/dsshome1/0C/ra93lal2/.local/share/virtualenvs/CMA_Fairness_v2-3j10GkSs/lib/python3.10/site-packages/IPython/core/magics/osm.py:393: UserWarning: This is now an optional IPython functionality, using bookmarks requires you to install the `pickleshare` library.\n",
      "  bkms = self.shell.db.get('bookmarks', {})\n",
      "/dss/dsshome1/0C/ra93lal2/.local/share/virtualenvs/CMA_Fairness_v2-3j10GkSs/lib/python3.10/site-packages/IPython/core/magics/osm.py:417: UserWarning: This is now an optional IPython functionality, setting dhist requires you to install the `pickleshare` library.\n",
      "  self.shell.db['dhist'] = compress_dhist(dhist)[-100:]\n"
     ]
    }
   ],
   "source": [
    "%cd ~/cma/CMA_Fairness_v2"
   ]
  },
  {
   "cell_type": "markdown",
   "id": "de2603b9",
   "metadata": {
    "papermill": {
     "duration": 0.016993,
     "end_time": "2025-07-30T21:52:26.054388",
     "exception": false,
     "start_time": "2025-07-30T21:52:26.037395",
     "status": "completed"
    },
    "tags": []
   },
   "source": [
    "The following cell holds the definition of our parameters, these values can be overriden by rendering the with e.g. the following command:\n",
    "\n",
    "papermill -p alpha 0.2 -p ratio 0.3 universe_analysis.ipynb output/test_run.ipynb"
   ]
  },
  {
   "cell_type": "code",
   "execution_count": 2,
   "id": "a80968a0-40bb-4fa9-85ef-2d5eefb01975",
   "metadata": {
    "execution": {
     "iopub.execute_input": "2025-07-30T21:52:26.076621Z",
     "iopub.status.busy": "2025-07-30T21:52:26.076150Z",
     "iopub.status.idle": "2025-07-30T21:52:26.081701Z",
     "shell.execute_reply": "2025-07-30T21:52:26.080948Z"
    },
    "papermill": {
     "duration": 0.01832,
     "end_time": "2025-07-30T21:52:26.083121",
     "exception": false,
     "start_time": "2025-07-30T21:52:26.064801",
     "status": "completed"
    },
    "tags": []
   },
   "outputs": [
    {
     "name": "stdout",
     "output_type": "stream",
     "text": [
      "Current working directory: /dss/dsshome1/0C/ra93lal2/cma/CMA_Fairness_v2\n"
     ]
    }
   ],
   "source": [
    "import os\n",
    "print(\"Current working directory:\", os.getcwd())"
   ]
  },
  {
   "cell_type": "code",
   "execution_count": 3,
   "id": "2dce4c03",
   "metadata": {
    "execution": {
     "iopub.execute_input": "2025-07-30T21:52:26.106376Z",
     "iopub.status.busy": "2025-07-30T21:52:26.105888Z",
     "iopub.status.idle": "2025-07-30T21:52:26.111058Z",
     "shell.execute_reply": "2025-07-30T21:52:26.110385Z"
    },
    "papermill": {
     "duration": 0.017699,
     "end_time": "2025-07-30T21:52:26.112325",
     "exception": false,
     "start_time": "2025-07-30T21:52:26.094626",
     "status": "completed"
    },
    "tags": [
     "parameters"
    ]
   },
   "outputs": [],
   "source": [
    "run_no = 0\n",
    "universe_id = \"test\"\n",
    "universe = {\n",
    "    \"training_size\": \"25k\", # \"25k\", \"5k\", \"1k\"\n",
    "    \"training_year\": \"2014\", # \"2014\", \"2012_14\", \"2010_14\"\n",
    "    \"scale\": \"scale\", # \"scale\", \"do-not-scale\",\n",
    "    #\"stratify_split\": \"target\", # \"none\", \"target\", \"protected-attribute\", \"both\",\n",
    "    \"model\": \"elasticnet\", # \"logreg\", \"penalized_logreg\", \"rf\", \"gbm\", \"elasticnet\"\n",
    "    \"cutoff\": [\"quantile_0.15\", \"quantile_0.30\"],\n",
    "    \"exclude_features\": \"age\", # \"none\", \"nationality\", \"sex\", \"nationality-sex\", \"age\"\n",
    "    \"exclude_subgroups\": \"keep-all\", # \"keep-all\", \"drop-non-german\"\n",
    "    \"eval_fairness_grouping\": [\"majority-minority\", \"nationality-all\"]\n",
    "}\n",
    "\n",
    "output_dir=\"./output\"\n",
    "seed=0"
   ]
  },
  {
   "cell_type": "code",
   "execution_count": 4,
   "id": "01e1275e",
   "metadata": {
    "execution": {
     "iopub.execute_input": "2025-07-30T21:52:26.135808Z",
     "iopub.status.busy": "2025-07-30T21:52:26.135320Z",
     "iopub.status.idle": "2025-07-30T21:52:26.139515Z",
     "shell.execute_reply": "2025-07-30T21:52:26.138839Z"
    },
    "papermill": {
     "duration": 0.017241,
     "end_time": "2025-07-30T21:52:26.140908",
     "exception": false,
     "start_time": "2025-07-30T21:52:26.123667",
     "status": "completed"
    },
    "tags": [
     "injected-parameters"
    ]
   },
   "outputs": [],
   "source": [
    "# Parameters\n",
    "universe_id = \"add91b5695ead62650d0d7315ae20b81\"\n",
    "run_no = \"14\"\n",
    "universe = \"{\\\"cutoff\\\": [\\\"quantile_0.1\\\", \\\"quantile_0.25\\\"], \\\"eval_fairness_grouping\\\": [\\\"majority-minority\\\", \\\"nationality-all\\\"], \\\"exclude_features\\\": \\\"nationality-sex\\\", \\\"exclude_subgroups\\\": \\\"drop-non-german\\\", \\\"model\\\": \\\"gbm\\\", \\\"scale\\\": \\\"do-not-scale\\\", \\\"training_size\\\": \\\"1k\\\", \\\"training_year\\\": \\\"2010_14\\\"}\"\n",
    "output_dir = \"output\"\n",
    "seed = \"2023\"\n"
   ]
  },
  {
   "cell_type": "code",
   "execution_count": 5,
   "id": "1650acaf",
   "metadata": {
    "execution": {
     "iopub.execute_input": "2025-07-30T21:52:26.173203Z",
     "iopub.status.busy": "2025-07-30T21:52:26.172751Z",
     "iopub.status.idle": "2025-07-30T21:52:26.178111Z",
     "shell.execute_reply": "2025-07-30T21:52:26.177191Z"
    },
    "papermill": {
     "duration": 0.0275,
     "end_time": "2025-07-30T21:52:26.179959",
     "exception": false,
     "start_time": "2025-07-30T21:52:26.152459",
     "status": "completed"
    },
    "tags": []
   },
   "outputs": [],
   "source": [
    "import json\n",
    "# Parse universe into dict if it is passed as a string\n",
    "if isinstance(universe, str):\n",
    "    universe = json.loads(universe)"
   ]
  },
  {
   "cell_type": "code",
   "execution_count": 6,
   "id": "16620c48",
   "metadata": {
    "execution": {
     "iopub.execute_input": "2025-07-30T21:52:26.214110Z",
     "iopub.status.busy": "2025-07-30T21:52:26.213598Z",
     "iopub.status.idle": "2025-07-30T21:52:26.259503Z",
     "shell.execute_reply": "2025-07-30T21:52:26.258317Z"
    },
    "papermill": {
     "duration": 0.060062,
     "end_time": "2025-07-30T21:52:26.261857",
     "exception": false,
     "start_time": "2025-07-30T21:52:26.201795",
     "status": "completed"
    },
    "tags": []
   },
   "outputs": [],
   "source": [
    "# Auto-reload the custom package\n",
    "%load_ext autoreload\n",
    "%autoreload 1\n",
    "%aimport fairness_multiverse"
   ]
  },
  {
   "cell_type": "code",
   "execution_count": 7,
   "id": "01c5c9f3",
   "metadata": {
    "execution": {
     "iopub.execute_input": "2025-07-30T21:52:26.306159Z",
     "iopub.status.busy": "2025-07-30T21:52:26.305425Z",
     "iopub.status.idle": "2025-07-30T21:52:28.196390Z",
     "shell.execute_reply": "2025-07-30T21:52:28.195455Z"
    },
    "papermill": {
     "duration": 1.91415,
     "end_time": "2025-07-30T21:52:28.198240",
     "exception": false,
     "start_time": "2025-07-30T21:52:26.284090",
     "status": "completed"
    },
    "tags": []
   },
   "outputs": [],
   "source": [
    "from fairness_multiverse.universe import UniverseAnalysis\n",
    "\n",
    "universe_analysis = UniverseAnalysis(\n",
    "    run_no = run_no,\n",
    "    universe_id = universe_id,\n",
    "    universe = universe,\n",
    "    output_dir=output_dir,\n",
    ")"
   ]
  },
  {
   "cell_type": "code",
   "execution_count": 8,
   "id": "106241f5",
   "metadata": {
    "execution": {
     "iopub.execute_input": "2025-07-30T21:52:28.240273Z",
     "iopub.status.busy": "2025-07-30T21:52:28.239741Z",
     "iopub.status.idle": "2025-07-30T21:52:28.247468Z",
     "shell.execute_reply": "2025-07-30T21:52:28.246204Z"
    },
    "papermill": {
     "duration": 0.030583,
     "end_time": "2025-07-30T21:52:28.249151",
     "exception": false,
     "start_time": "2025-07-30T21:52:28.218568",
     "status": "completed"
    },
    "tags": []
   },
   "outputs": [
    {
     "name": "stdout",
     "output_type": "stream",
     "text": [
      "Using Seed: 2023\n"
     ]
    }
   ],
   "source": [
    "import numpy as np\n",
    "parsed_seed = int(seed)\n",
    "np.random.seed(parsed_seed)\n",
    "print(f\"Using Seed: {parsed_seed}\")"
   ]
  },
  {
   "cell_type": "markdown",
   "id": "e0ebdc57",
   "metadata": {
    "papermill": {
     "duration": 0.020697,
     "end_time": "2025-07-30T21:52:28.291333",
     "exception": false,
     "start_time": "2025-07-30T21:52:28.270636",
     "status": "completed"
    },
    "tags": []
   },
   "source": [
    "# Loading Data"
   ]
  },
  {
   "cell_type": "markdown",
   "id": "681925a3",
   "metadata": {
    "papermill": {
     "duration": 0.019833,
     "end_time": "2025-07-30T21:52:28.332121",
     "exception": false,
     "start_time": "2025-07-30T21:52:28.312288",
     "status": "completed"
    },
    "tags": []
   },
   "source": [
    "Load siab_train, siab_test, siab_calib and/or \n",
    "load siab_train_features, siab_train_labels"
   ]
  },
  {
   "cell_type": "code",
   "execution_count": 9,
   "id": "f0496b8a",
   "metadata": {
    "execution": {
     "iopub.execute_input": "2025-07-30T21:52:28.374979Z",
     "iopub.status.busy": "2025-07-30T21:52:28.374426Z",
     "iopub.status.idle": "2025-07-30T21:52:41.621955Z",
     "shell.execute_reply": "2025-07-30T21:52:41.620482Z"
    },
    "papermill": {
     "duration": 13.271462,
     "end_time": "2025-07-30T21:52:41.623782",
     "exception": false,
     "start_time": "2025-07-30T21:52:28.352320",
     "status": "completed"
    },
    "tags": []
   },
   "outputs": [
    {
     "name": "stdout",
     "output_type": "stream",
     "text": [
      "Loading SIAB data from cache: data/siab_cached.csv.gz\n"
     ]
    },
    {
     "name": "stdout",
     "output_type": "stream",
     "text": [
      "(643690, 164)\n"
     ]
    }
   ],
   "source": [
    "from pathlib import Path\n",
    "import pandas as pd\n",
    "\n",
    "# File paths\n",
    "raw_file = Path(\"data/raw/siab.csv\")\n",
    "cache_file = Path(\"data/siab_cached.csv.gz\")\n",
    "\n",
    "# Ensure cache directory exists\n",
    "cache_file.parent.mkdir(parents=True, exist_ok=True)\n",
    "\n",
    "# Load with simple caching\n",
    "if cache_file.exists():\n",
    "    print(f\"Loading SIAB data from cache: {cache_file}\")\n",
    "    siab = pd.read_csv(cache_file, compression='gzip')\n",
    "else:\n",
    "    print(f\"Cache not found. Reading raw SIAB data: {raw_file}\")\n",
    "    siab = pd.read_csv(raw_file)\n",
    "    siab.to_csv(cache_file, index=False, compression='gzip')\n",
    "    print(f\"Cached SIAB data to: {cache_file}\")\n",
    "\n",
    "# Now use `siab` DataFrame as needed\n",
    "print(siab.shape)"
   ]
  },
  {
   "cell_type": "code",
   "execution_count": 10,
   "id": "db0ca512-5f53-4dba-abdb-a2888bca41ba",
   "metadata": {
    "execution": {
     "iopub.execute_input": "2025-07-30T21:52:41.681373Z",
     "iopub.status.busy": "2025-07-30T21:52:41.680913Z",
     "iopub.status.idle": "2025-07-30T21:52:41.687888Z",
     "shell.execute_reply": "2025-07-30T21:52:41.686649Z"
    },
    "papermill": {
     "duration": 0.040166,
     "end_time": "2025-07-30T21:52:41.690015",
     "exception": false,
     "start_time": "2025-07-30T21:52:41.649849",
     "status": "completed"
    },
    "tags": []
   },
   "outputs": [],
   "source": [
    "#siab"
   ]
  },
  {
   "cell_type": "code",
   "execution_count": 11,
   "id": "a0edb063",
   "metadata": {
    "execution": {
     "iopub.execute_input": "2025-07-30T21:52:41.721312Z",
     "iopub.status.busy": "2025-07-30T21:52:41.720848Z",
     "iopub.status.idle": "2025-07-30T21:52:41.733401Z",
     "shell.execute_reply": "2025-07-30T21:52:41.732236Z"
    },
    "papermill": {
     "duration": 0.028636,
     "end_time": "2025-07-30T21:52:41.735531",
     "exception": false,
     "start_time": "2025-07-30T21:52:41.706895",
     "status": "completed"
    },
    "tags": []
   },
   "outputs": [],
   "source": [
    "#import pandas as pd\n",
    "#\n",
    "#X_train = pd.read_csv(\"./data/X_train.csv\")\n",
    "#y_train = pd.read_csv(\"./data/y_train.csv\")"
   ]
  },
  {
   "cell_type": "code",
   "execution_count": 12,
   "id": "63d08085",
   "metadata": {
    "execution": {
     "iopub.execute_input": "2025-07-30T21:52:41.767764Z",
     "iopub.status.busy": "2025-07-30T21:52:41.767184Z",
     "iopub.status.idle": "2025-07-30T21:52:41.773086Z",
     "shell.execute_reply": "2025-07-30T21:52:41.772007Z"
    },
    "papermill": {
     "duration": 0.021632,
     "end_time": "2025-07-30T21:52:41.774932",
     "exception": false,
     "start_time": "2025-07-30T21:52:41.753300",
     "status": "completed"
    },
    "tags": []
   },
   "outputs": [],
   "source": [
    "#X_test = pd.read_csv(\"./data/X_test.csv\")\n",
    "#y_true = pd.read_csv(\"./data/y_test.csv\")"
   ]
  },
  {
   "cell_type": "code",
   "execution_count": 13,
   "id": "98a8d0fa-1d3d-4ed8-bb2c-281470e24add",
   "metadata": {
    "execution": {
     "iopub.execute_input": "2025-07-30T21:52:41.829938Z",
     "iopub.status.busy": "2025-07-30T21:52:41.829412Z",
     "iopub.status.idle": "2025-07-30T21:52:41.835301Z",
     "shell.execute_reply": "2025-07-30T21:52:41.834153Z"
    },
    "papermill": {
     "duration": 0.038912,
     "end_time": "2025-07-30T21:52:41.837769",
     "exception": false,
     "start_time": "2025-07-30T21:52:41.798857",
     "status": "completed"
    },
    "tags": []
   },
   "outputs": [],
   "source": [
    "# Calibration data for conformal\n",
    "#X_calib = pd.read_csv(\"./data/X_calib.csv\")\n",
    "#y_calib = pd.read_csv(\"./data/y_calib.csv\")"
   ]
  },
  {
   "cell_type": "markdown",
   "id": "997051c5-15bd-4b69-9786-c3001a3ce484",
   "metadata": {
    "papermill": {
     "duration": 0.023023,
     "end_time": "2025-07-30T21:52:41.880984",
     "exception": false,
     "start_time": "2025-07-30T21:52:41.857961",
     "status": "completed"
    },
    "tags": []
   },
   "source": [
    "# Splitting Data and Setting Training Data Size"
   ]
  },
  {
   "cell_type": "code",
   "execution_count": 14,
   "id": "e993b61f-042d-41a6-8c81-f55681f86335",
   "metadata": {
    "execution": {
     "iopub.execute_input": "2025-07-30T21:52:41.930086Z",
     "iopub.status.busy": "2025-07-30T21:52:41.929561Z",
     "iopub.status.idle": "2025-07-30T21:52:41.943036Z",
     "shell.execute_reply": "2025-07-30T21:52:41.941960Z"
    },
    "papermill": {
     "duration": 0.036211,
     "end_time": "2025-07-30T21:52:41.944444",
     "exception": false,
     "start_time": "2025-07-30T21:52:41.908233",
     "status": "completed"
    },
    "tags": []
   },
   "outputs": [],
   "source": [
    "def sample_by_year_size(df,\n",
    "                        training_year: str,\n",
    "                        training_size: str,\n",
    "                        random_state: int = 42):\n",
    "    # --- parse training_year into a list of int years ---\n",
    "    if \"_\" in training_year:\n",
    "        start_str, end_str = training_year.split(\"_\", 1)\n",
    "        start = int(start_str)\n",
    "        end   = int(end_str) if len(end_str) == 4 else (int(end_str) + (start // 100)*100)\n",
    "        years = list(range(start, end + 1))\n",
    "    else:\n",
    "        years = [int(training_year)]\n",
    "\n",
    "    df = df[df[\"year\"].isin(years)].reset_index(drop=True)\n",
    "\n",
    "    # --- map training_size to total number of samples ---\n",
    "    total_map = {\"25k\": 25_000, \"5k\": 5_000, \"1k\": 1_000}\n",
    "    if training_size not in total_map:\n",
    "        return df  # e.g. \"all\"\n",
    "\n",
    "    total_samples = total_map[training_size]\n",
    "    n_years       = len(years)\n",
    "    base          = total_samples // n_years\n",
    "    remainder     = total_samples % n_years\n",
    "\n",
    "    # --- build a dict: year -> how many to sample ---\n",
    "    # give +1 to the first `remainder` years in ascending order\n",
    "    quotas = {\n",
    "        year: base + (1 if idx < remainder else 0)\n",
    "        for idx, year in enumerate(sorted(years))\n",
    "    }\n",
    "\n",
    "    # --- sample per‐year according to the quota dict ---\n",
    "    sampled = (\n",
    "        df\n",
    "        .groupby(\"year\", group_keys=False)\n",
    "        .apply(lambda grp: grp.sample(\n",
    "            n=min(len(grp), quotas[grp.name]),\n",
    "            random_state=random_state))\n",
    "        .reset_index(drop=True)\n",
    "    )\n",
    "\n",
    "    return sampled"
   ]
  },
  {
   "cell_type": "code",
   "execution_count": 15,
   "id": "c0ccd338-0e02-41f3-a09d-f56f9266e3fb",
   "metadata": {
    "execution": {
     "iopub.execute_input": "2025-07-30T21:52:41.971594Z",
     "iopub.status.busy": "2025-07-30T21:52:41.970658Z",
     "iopub.status.idle": "2025-07-30T21:52:41.975687Z",
     "shell.execute_reply": "2025-07-30T21:52:41.975025Z"
    },
    "papermill": {
     "duration": 0.020318,
     "end_time": "2025-07-30T21:52:41.977113",
     "exception": false,
     "start_time": "2025-07-30T21:52:41.956795",
     "status": "completed"
    },
    "tags": []
   },
   "outputs": [],
   "source": [
    "#universe[\"training_size\"]"
   ]
  },
  {
   "cell_type": "code",
   "execution_count": 16,
   "id": "ca707fd7-8047-4acd-bfa5-66248fbbf8e6",
   "metadata": {
    "execution": {
     "iopub.execute_input": "2025-07-30T21:52:42.013451Z",
     "iopub.status.busy": "2025-07-30T21:52:42.012949Z",
     "iopub.status.idle": "2025-07-30T21:52:42.067639Z",
     "shell.execute_reply": "2025-07-30T21:52:42.066261Z"
    },
    "papermill": {
     "duration": 0.077888,
     "end_time": "2025-07-30T21:52:42.070592",
     "exception": false,
     "start_time": "2025-07-30T21:52:41.992704",
     "status": "completed"
    },
    "tags": []
   },
   "outputs": [],
   "source": [
    "#universe[\"training_year\"]"
   ]
  },
  {
   "cell_type": "code",
   "execution_count": 17,
   "id": "aea9c6ef-6f46-42c8-85eb-5a62025c1508",
   "metadata": {
    "execution": {
     "iopub.execute_input": "2025-07-30T21:52:42.119014Z",
     "iopub.status.busy": "2025-07-30T21:52:42.118543Z",
     "iopub.status.idle": "2025-07-30T21:52:43.127199Z",
     "shell.execute_reply": "2025-07-30T21:52:43.126461Z"
    },
    "papermill": {
     "duration": 1.026634,
     "end_time": "2025-07-30T21:52:43.128705",
     "exception": false,
     "start_time": "2025-07-30T21:52:42.102071",
     "status": "completed"
    },
    "tags": []
   },
   "outputs": [],
   "source": [
    "siab_train = sample_by_year_size(siab,\n",
    "                               training_year=universe[\"training_year\"],\n",
    "                               training_size=universe[\"training_size\"])"
   ]
  },
  {
   "cell_type": "code",
   "execution_count": 18,
   "id": "8d3afb32-789d-442c-8d5d-9f5aa8dd2eed",
   "metadata": {
    "execution": {
     "iopub.execute_input": "2025-07-30T21:52:43.152531Z",
     "iopub.status.busy": "2025-07-30T21:52:43.152017Z",
     "iopub.status.idle": "2025-07-30T21:52:43.156751Z",
     "shell.execute_reply": "2025-07-30T21:52:43.155701Z"
    },
    "papermill": {
     "duration": 0.018195,
     "end_time": "2025-07-30T21:52:43.158213",
     "exception": false,
     "start_time": "2025-07-30T21:52:43.140018",
     "status": "completed"
    },
    "tags": []
   },
   "outputs": [],
   "source": [
    "#siab_train.shape"
   ]
  },
  {
   "cell_type": "code",
   "execution_count": 19,
   "id": "d582db68-1a4c-47fb-84fc-08518dc1975a",
   "metadata": {
    "execution": {
     "iopub.execute_input": "2025-07-30T21:52:43.200671Z",
     "iopub.status.busy": "2025-07-30T21:52:43.199814Z",
     "iopub.status.idle": "2025-07-30T21:52:43.204316Z",
     "shell.execute_reply": "2025-07-30T21:52:43.203403Z"
    },
    "papermill": {
     "duration": 0.028477,
     "end_time": "2025-07-30T21:52:43.205971",
     "exception": false,
     "start_time": "2025-07-30T21:52:43.177494",
     "status": "completed"
    },
    "tags": []
   },
   "outputs": [],
   "source": [
    "#display(siab_train.groupby(\"year\").size())"
   ]
  },
  {
   "cell_type": "code",
   "execution_count": 20,
   "id": "a561edb4-d032-42cb-8256-22eac1111c64",
   "metadata": {
    "execution": {
     "iopub.execute_input": "2025-07-30T21:52:43.232221Z",
     "iopub.status.busy": "2025-07-30T21:52:43.231843Z",
     "iopub.status.idle": "2025-07-30T21:52:43.466238Z",
     "shell.execute_reply": "2025-07-30T21:52:43.465208Z"
    },
    "papermill": {
     "duration": 0.248153,
     "end_time": "2025-07-30T21:52:43.468270",
     "exception": false,
     "start_time": "2025-07-30T21:52:43.220117",
     "status": "completed"
    },
    "tags": []
   },
   "outputs": [],
   "source": [
    "#siab_train = siab_s[siab_s.year < 2015]\n",
    "siab_calib = siab[siab.year == 2015]\n",
    "siab_test = siab[siab.year == 2016]"
   ]
  },
  {
   "cell_type": "code",
   "execution_count": 21,
   "id": "472de16f-c3db-4916-846b-1f0de9cf1746",
   "metadata": {
    "execution": {
     "iopub.execute_input": "2025-07-30T21:52:43.502023Z",
     "iopub.status.busy": "2025-07-30T21:52:43.501597Z",
     "iopub.status.idle": "2025-07-30T21:52:43.507691Z",
     "shell.execute_reply": "2025-07-30T21:52:43.507021Z"
    },
    "papermill": {
     "duration": 0.020158,
     "end_time": "2025-07-30T21:52:43.509014",
     "exception": false,
     "start_time": "2025-07-30T21:52:43.488856",
     "status": "completed"
    },
    "tags": []
   },
   "outputs": [],
   "source": [
    "X_train = siab_train.iloc[:,4:164]\n",
    "y_train = siab_train.iloc[:, [3]]"
   ]
  },
  {
   "cell_type": "code",
   "execution_count": 22,
   "id": "828c96af-f43a-4ed6-ba47-8ac73a47d56c",
   "metadata": {
    "execution": {
     "iopub.execute_input": "2025-07-30T21:52:43.534628Z",
     "iopub.status.busy": "2025-07-30T21:52:43.534279Z",
     "iopub.status.idle": "2025-07-30T21:52:43.585170Z",
     "shell.execute_reply": "2025-07-30T21:52:43.584271Z"
    },
    "papermill": {
     "duration": 0.065568,
     "end_time": "2025-07-30T21:52:43.586610",
     "exception": false,
     "start_time": "2025-07-30T21:52:43.521042",
     "status": "completed"
    },
    "tags": []
   },
   "outputs": [],
   "source": [
    "X_calib = siab_calib.iloc[:,4:164]\n",
    "y_calib = siab_calib.iloc[:, [3]]"
   ]
  },
  {
   "cell_type": "code",
   "execution_count": 23,
   "id": "c34be9c3-6bd6-476e-acd3-845840e303be",
   "metadata": {
    "execution": {
     "iopub.execute_input": "2025-07-30T21:52:43.611467Z",
     "iopub.status.busy": "2025-07-30T21:52:43.610948Z",
     "iopub.status.idle": "2025-07-30T21:52:43.661515Z",
     "shell.execute_reply": "2025-07-30T21:52:43.660466Z"
    },
    "papermill": {
     "duration": 0.064207,
     "end_time": "2025-07-30T21:52:43.663127",
     "exception": false,
     "start_time": "2025-07-30T21:52:43.598920",
     "status": "completed"
    },
    "tags": []
   },
   "outputs": [],
   "source": [
    "X_test = siab_test.iloc[:,4:164]\n",
    "y_true = siab_test.iloc[:, [3]]"
   ]
  },
  {
   "cell_type": "markdown",
   "id": "9901737e-04df-44f0-9100-f5ad144ed040",
   "metadata": {
    "papermill": {
     "duration": 0.016388,
     "end_time": "2025-07-30T21:52:43.702914",
     "exception": false,
     "start_time": "2025-07-30T21:52:43.686526",
     "status": "completed"
    },
    "tags": []
   },
   "source": [
    "# Splitting Data and Setting Training Data Size OLD VERSION"
   ]
  },
  {
   "cell_type": "code",
   "execution_count": 24,
   "id": "acbc8f7d-8fc8-4e86-8c59-5dcb0f58384b",
   "metadata": {
    "execution": {
     "iopub.execute_input": "2025-07-30T21:52:43.727680Z",
     "iopub.status.busy": "2025-07-30T21:52:43.727327Z",
     "iopub.status.idle": "2025-07-30T21:52:43.731902Z",
     "shell.execute_reply": "2025-07-30T21:52:43.731155Z"
    },
    "papermill": {
     "duration": 0.018403,
     "end_time": "2025-07-30T21:52:43.733272",
     "exception": false,
     "start_time": "2025-07-30T21:52:43.714869",
     "status": "completed"
    },
    "tags": []
   },
   "outputs": [],
   "source": [
    "#def sample_by_year(df, training_size, random_state=42):\n",
    "#    if training_size == \"2014\":\n",
    "#        return df[df[\"year\"] == 2014].reset_index(drop=True)\n",
    "#    \n",
    "#    size_map = {\n",
    "#        \"25k\": 5000,\n",
    "#        \"5k\": 1000,\n",
    "#        \"1k\": 200\n",
    "#    }\n",
    "#\n",
    "#    if training_size not in size_map:\n",
    "#        return df.reset_index(drop=True)  # use all data\n",
    "#\n",
    "#    n_per_year = size_map[training_size]\n",
    "#    grouped = df.groupby(\"year\")\n",
    "#    sampled = grouped.apply(lambda x: x.sample(n=min(n_per_year, len(x)), random_state=random_state))\n",
    "#    return sampled.reset_index(drop=True)"
   ]
  },
  {
   "cell_type": "code",
   "execution_count": 25,
   "id": "6d931f52-beaf-43ff-9e78-9d44a448d54e",
   "metadata": {
    "execution": {
     "iopub.execute_input": "2025-07-30T21:52:43.772955Z",
     "iopub.status.busy": "2025-07-30T21:52:43.772446Z",
     "iopub.status.idle": "2025-07-30T21:52:43.778089Z",
     "shell.execute_reply": "2025-07-30T21:52:43.777065Z"
    },
    "papermill": {
     "duration": 0.032419,
     "end_time": "2025-07-30T21:52:43.779856",
     "exception": false,
     "start_time": "2025-07-30T21:52:43.747437",
     "status": "completed"
    },
    "tags": []
   },
   "outputs": [],
   "source": [
    "#siab_s = sample_by_year(siab, universe[\"training_size\"])"
   ]
  },
  {
   "cell_type": "code",
   "execution_count": 26,
   "id": "5db0a40e-a4e2-4920-be85-b12ae061d70d",
   "metadata": {
    "execution": {
     "iopub.execute_input": "2025-07-30T21:52:43.824882Z",
     "iopub.status.busy": "2025-07-30T21:52:43.824196Z",
     "iopub.status.idle": "2025-07-30T21:52:43.829744Z",
     "shell.execute_reply": "2025-07-30T21:52:43.828802Z"
    },
    "papermill": {
     "duration": 0.028341,
     "end_time": "2025-07-30T21:52:43.831545",
     "exception": false,
     "start_time": "2025-07-30T21:52:43.803204",
     "status": "completed"
    },
    "tags": []
   },
   "outputs": [],
   "source": [
    "#display(siab_s.groupby(\"year\").size())"
   ]
  },
  {
   "cell_type": "code",
   "execution_count": 27,
   "id": "e6c733c5",
   "metadata": {
    "execution": {
     "iopub.execute_input": "2025-07-30T21:52:43.878038Z",
     "iopub.status.busy": "2025-07-30T21:52:43.877545Z",
     "iopub.status.idle": "2025-07-30T21:52:43.977836Z",
     "shell.execute_reply": "2025-07-30T21:52:43.976737Z"
    },
    "papermill": {
     "duration": 0.127301,
     "end_time": "2025-07-30T21:52:43.981950",
     "exception": false,
     "start_time": "2025-07-30T21:52:43.854649",
     "status": "completed"
    },
    "tags": []
   },
   "outputs": [],
   "source": [
    "# Auxiliary data needed downstream in the pipeline\n",
    "\n",
    "org_train = X_train.copy()\n",
    "org_test = X_test.copy()\n",
    "org_calib = X_calib.copy()"
   ]
  },
  {
   "cell_type": "code",
   "execution_count": 28,
   "id": "1466abac-c6da-4492-a62f-4240ae3783af",
   "metadata": {
    "execution": {
     "iopub.execute_input": "2025-07-30T21:52:44.026766Z",
     "iopub.status.busy": "2025-07-30T21:52:44.026354Z",
     "iopub.status.idle": "2025-07-30T21:52:44.032713Z",
     "shell.execute_reply": "2025-07-30T21:52:44.031434Z"
    },
    "papermill": {
     "duration": 0.034379,
     "end_time": "2025-07-30T21:52:44.034345",
     "exception": false,
     "start_time": "2025-07-30T21:52:43.999966",
     "status": "completed"
    },
    "tags": []
   },
   "outputs": [],
   "source": [
    "# put in other script?\n",
    "# Group sizes\n",
    "\n",
    "#def calculate_percentages(df, df_name):\n",
    "#    total_entries = len(df)\n",
    "#\n",
    "#    female_pct = (df['frau1'] == 1).mean() * 100\n",
    "#    non_german_pct = ((df['maxdeutsch1'] == 0) & (df['maxdeutsch.Missing.'] == 0)).mean() * 100\n",
    "#    non_german_male_pct = ((df['frau1'] == 0) & (df['maxdeutsch1'] == 0) & (df['maxdeutsch.Missing.'] == 0)).mean() * 100\n",
    "#    non_german_female_pct = ((df['frau1'] == 1) & (df['maxdeutsch1'] == 0) & (df['maxdeutsch.Missing.'] == 0)).mean() * 100\n",
    "#\n",
    "#    print(f\"--- {df_name} ---\")\n",
    "#    print(f\"Female: {female_pct:.2f}%\")\n",
    "#    print(f\"Non-German: {non_german_pct:.2f}%\")\n",
    "#    print(f\"Non-German Male: {non_german_male_pct:.2f}%\")\n",
    "#    print(f\"Non-German Female: {non_german_female_pct:.2f}%\\n\")\n",
    "#\n",
    "## Calculate for each DataFrame\n",
    "#calculate_percentages(siab_calib, \"siab_calib\")\n",
    "#calculate_percentages(siab_test, \"siab_test\")\n",
    "#calculate_percentages(siab_train, \"siab_train\")"
   ]
  },
  {
   "cell_type": "markdown",
   "id": "0a4a1b33",
   "metadata": {
    "papermill": {
     "duration": 0.03336,
     "end_time": "2025-07-30T21:52:44.091743",
     "exception": false,
     "start_time": "2025-07-30T21:52:44.058383",
     "status": "completed"
    },
    "tags": []
   },
   "source": [
    "# Preprocessing Data"
   ]
  },
  {
   "cell_type": "code",
   "execution_count": 29,
   "id": "ca879031",
   "metadata": {
    "execution": {
     "iopub.execute_input": "2025-07-30T21:52:44.142043Z",
     "iopub.status.busy": "2025-07-30T21:52:44.141551Z",
     "iopub.status.idle": "2025-07-30T21:52:44.148805Z",
     "shell.execute_reply": "2025-07-30T21:52:44.147090Z"
    },
    "papermill": {
     "duration": 0.034374,
     "end_time": "2025-07-30T21:52:44.150899",
     "exception": false,
     "start_time": "2025-07-30T21:52:44.116525",
     "status": "completed"
    },
    "tags": []
   },
   "outputs": [],
   "source": [
    "# EXCLUDE PROTECTED FEATURES\n",
    "# ----------------------\n",
    "# \"exclude_features\": \"none\", # \"nationality\", \"sex\", \"nationality-sex\"\n",
    "\n",
    "excluded_features = universe[\"exclude_features\"].split(\"-\") # split, e.g.: \"nationality-sex\" -> [\"nationality\", \"sex\"]\n",
    "excluded_features_dictionary = {\n",
    "    \"nationality\": [\"maxdeutsch1\", \"maxdeutsch.Missing.\"],\n",
    "    \"sex\": [\"frau1\"],\n",
    "    \"age\": [\"age\"],\n",
    "}\n"
   ]
  },
  {
   "cell_type": "code",
   "execution_count": 30,
   "id": "b745ac60",
   "metadata": {
    "execution": {
     "iopub.execute_input": "2025-07-30T21:52:44.208682Z",
     "iopub.status.busy": "2025-07-30T21:52:44.208140Z",
     "iopub.status.idle": "2025-07-30T21:52:44.214996Z",
     "shell.execute_reply": "2025-07-30T21:52:44.213973Z"
    },
    "papermill": {
     "duration": 0.040029,
     "end_time": "2025-07-30T21:52:44.216850",
     "exception": false,
     "start_time": "2025-07-30T21:52:44.176821",
     "status": "completed"
    },
    "tags": []
   },
   "outputs": [],
   "source": [
    "# Code nice names to column names\n",
    "\n",
    "excluded_features_columns = [\n",
    "    excluded_features_dictionary[f] for f in excluded_features if len(f) > 0 and f != \"none\"\n",
    "]"
   ]
  },
  {
   "cell_type": "code",
   "execution_count": 31,
   "id": "f84f73a2",
   "metadata": {
    "execution": {
     "iopub.execute_input": "2025-07-30T21:52:44.268173Z",
     "iopub.status.busy": "2025-07-30T21:52:44.267612Z",
     "iopub.status.idle": "2025-07-30T21:52:44.274336Z",
     "shell.execute_reply": "2025-07-30T21:52:44.273376Z"
    },
    "papermill": {
     "duration": 0.03398,
     "end_time": "2025-07-30T21:52:44.276068",
     "exception": false,
     "start_time": "2025-07-30T21:52:44.242088",
     "status": "completed"
    },
    "tags": []
   },
   "outputs": [],
   "source": [
    "from utils import flatten_once\n",
    "\n",
    "excluded_features_columns = flatten_once(excluded_features_columns)"
   ]
  },
  {
   "cell_type": "code",
   "execution_count": 32,
   "id": "884dea22",
   "metadata": {
    "execution": {
     "iopub.execute_input": "2025-07-30T21:52:44.322067Z",
     "iopub.status.busy": "2025-07-30T21:52:44.321694Z",
     "iopub.status.idle": "2025-07-30T21:52:44.341406Z",
     "shell.execute_reply": "2025-07-30T21:52:44.340375Z"
    },
    "papermill": {
     "duration": 0.045358,
     "end_time": "2025-07-30T21:52:44.343264",
     "exception": false,
     "start_time": "2025-07-30T21:52:44.297906",
     "status": "completed"
    },
    "tags": []
   },
   "outputs": [
    {
     "name": "stdout",
     "output_type": "stream",
     "text": [
      "Dropping features: ['maxdeutsch1', 'maxdeutsch.Missing.', 'frau1']\n"
     ]
    }
   ],
   "source": [
    "if len(excluded_features_columns) > 0:\n",
    "    print(f\"Dropping features: {excluded_features_columns}\")\n",
    "    X_train.drop(excluded_features_columns, axis=1, inplace=True)"
   ]
  },
  {
   "cell_type": "code",
   "execution_count": 33,
   "id": "95ab8b16",
   "metadata": {
    "execution": {
     "iopub.execute_input": "2025-07-30T21:52:44.396809Z",
     "iopub.status.busy": "2025-07-30T21:52:44.396005Z",
     "iopub.status.idle": "2025-07-30T21:52:44.461345Z",
     "shell.execute_reply": "2025-07-30T21:52:44.460163Z"
    },
    "papermill": {
     "duration": 0.093968,
     "end_time": "2025-07-30T21:52:44.462995",
     "exception": false,
     "start_time": "2025-07-30T21:52:44.369027",
     "status": "completed"
    },
    "tags": []
   },
   "outputs": [
    {
     "name": "stdout",
     "output_type": "stream",
     "text": [
      "Dropping features: ['maxdeutsch1', 'maxdeutsch.Missing.', 'frau1']\n"
     ]
    }
   ],
   "source": [
    "if len(excluded_features_columns) > 0:\n",
    "    print(f\"Dropping features: {excluded_features_columns}\")\n",
    "    X_test.drop(excluded_features_columns, axis=1, inplace=True)"
   ]
  },
  {
   "cell_type": "code",
   "execution_count": 34,
   "id": "1853aaf5-fb9f-46cb-a2b5-8ea4ae2237e4",
   "metadata": {
    "execution": {
     "iopub.execute_input": "2025-07-30T21:52:44.509146Z",
     "iopub.status.busy": "2025-07-30T21:52:44.508794Z",
     "iopub.status.idle": "2025-07-30T21:52:44.562927Z",
     "shell.execute_reply": "2025-07-30T21:52:44.561826Z"
    },
    "papermill": {
     "duration": 0.07967,
     "end_time": "2025-07-30T21:52:44.564980",
     "exception": false,
     "start_time": "2025-07-30T21:52:44.485310",
     "status": "completed"
    },
    "tags": []
   },
   "outputs": [
    {
     "name": "stdout",
     "output_type": "stream",
     "text": [
      "Dropping features: ['maxdeutsch1', 'maxdeutsch.Missing.', 'frau1']\n"
     ]
    }
   ],
   "source": [
    "if len(excluded_features_columns) > 0:\n",
    "    print(f\"Dropping features: {excluded_features_columns}\")\n",
    "    X_calib.drop(excluded_features_columns, axis=1, inplace=True)"
   ]
  },
  {
   "cell_type": "code",
   "execution_count": 35,
   "id": "6727d079-03e5-481e-9d38-292a90b7a0a8",
   "metadata": {
    "execution": {
     "iopub.execute_input": "2025-07-30T21:52:44.615360Z",
     "iopub.status.busy": "2025-07-30T21:52:44.614334Z",
     "iopub.status.idle": "2025-07-30T21:52:44.620781Z",
     "shell.execute_reply": "2025-07-30T21:52:44.619349Z"
    },
    "papermill": {
     "duration": 0.035144,
     "end_time": "2025-07-30T21:52:44.622650",
     "exception": false,
     "start_time": "2025-07-30T21:52:44.587506",
     "status": "completed"
    },
    "tags": []
   },
   "outputs": [],
   "source": [
    "# SPLIT & STRATIFY DATA\n",
    "# ----------------------"
   ]
  },
  {
   "cell_type": "code",
   "execution_count": 36,
   "id": "76c4dc6d",
   "metadata": {
    "execution": {
     "iopub.execute_input": "2025-07-30T21:52:44.679073Z",
     "iopub.status.busy": "2025-07-30T21:52:44.678534Z",
     "iopub.status.idle": "2025-07-30T21:52:44.685159Z",
     "shell.execute_reply": "2025-07-30T21:52:44.683961Z"
    },
    "papermill": {
     "duration": 0.042752,
     "end_time": "2025-07-30T21:52:44.688170",
     "exception": false,
     "start_time": "2025-07-30T21:52:44.645418",
     "status": "completed"
    },
    "tags": []
   },
   "outputs": [],
   "source": [
    "# EXCLUDE CERTAIN SUBGROUPS\n",
    "# ----------------------\n",
    "\n",
    "mode = universe.get(\"exclude_subgroups\", \"keep-all\") \n",
    "# Fetches the exclude_subgroups setting from the universe dict.\n",
    "# Defaults to \"keep-all\" if the key is missing."
   ]
  },
  {
   "cell_type": "code",
   "execution_count": 37,
   "id": "21994072",
   "metadata": {
    "execution": {
     "iopub.execute_input": "2025-07-30T21:52:44.733655Z",
     "iopub.status.busy": "2025-07-30T21:52:44.732789Z",
     "iopub.status.idle": "2025-07-30T21:52:44.740746Z",
     "shell.execute_reply": "2025-07-30T21:52:44.739758Z"
    },
    "papermill": {
     "duration": 0.033044,
     "end_time": "2025-07-30T21:52:44.742709",
     "exception": false,
     "start_time": "2025-07-30T21:52:44.709665",
     "status": "completed"
    },
    "tags": []
   },
   "outputs": [],
   "source": [
    "if mode == \"keep-all\":\n",
    "    keep_mask = pd.Series(True, index=org_train.index)\n",
    "\n",
    "# org_train contains the original feature columns from features_org (in Simson)\n",
    "# features_org contains unprocessed features, for me X_train at beginning ???\n",
    "# For keep-all, creates a boolean Series (keep_mask) of all True, so no rows are removed.\n",
    "\n",
    "elif mode == \"drop-non-german\":\n",
    "    keep_mask = org_train[\"maxdeutsch1\"] == 1 # ??? what about missing values?\n",
    "\n",
    "else:\n",
    "    raise ValueError(f\"Unsupported mode for exclude_subgroups: {mode}\")\n"
   ]
  },
  {
   "cell_type": "code",
   "execution_count": 38,
   "id": "71651440",
   "metadata": {
    "execution": {
     "iopub.execute_input": "2025-07-30T21:52:44.797070Z",
     "iopub.status.busy": "2025-07-30T21:52:44.796475Z",
     "iopub.status.idle": "2025-07-30T21:52:44.805801Z",
     "shell.execute_reply": "2025-07-30T21:52:44.804592Z"
    },
    "papermill": {
     "duration": 0.038423,
     "end_time": "2025-07-30T21:52:44.807812",
     "exception": false,
     "start_time": "2025-07-30T21:52:44.769389",
     "status": "completed"
    },
    "tags": []
   },
   "outputs": [
    {
     "name": "stdout",
     "output_type": "stream",
     "text": [
      "Dropping 131 rows (13.10%) where mode='drop-non-german'\n"
     ]
    }
   ],
   "source": [
    "n_drop = (~keep_mask).sum() # Calculates how many rows are set to be dropped\n",
    "if n_drop > 0:\n",
    "    pct = n_drop / len(keep_mask) * 100\n",
    "    print(f\"Dropping {n_drop} rows ({pct:.2f}%) where mode='{mode}'\")"
   ]
  },
  {
   "cell_type": "code",
   "execution_count": 39,
   "id": "5fb8eee5",
   "metadata": {
    "execution": {
     "iopub.execute_input": "2025-07-30T21:52:44.857145Z",
     "iopub.status.busy": "2025-07-30T21:52:44.856600Z",
     "iopub.status.idle": "2025-07-30T21:52:44.863634Z",
     "shell.execute_reply": "2025-07-30T21:52:44.862702Z"
    },
    "papermill": {
     "duration": 0.03353,
     "end_time": "2025-07-30T21:52:44.865571",
     "exception": false,
     "start_time": "2025-07-30T21:52:44.832041",
     "status": "completed"
    },
    "tags": []
   },
   "outputs": [],
   "source": [
    "X_train = X_train[keep_mask]"
   ]
  },
  {
   "cell_type": "code",
   "execution_count": 40,
   "id": "b202bb3a",
   "metadata": {
    "execution": {
     "iopub.execute_input": "2025-07-30T21:52:44.915532Z",
     "iopub.status.busy": "2025-07-30T21:52:44.915059Z",
     "iopub.status.idle": "2025-07-30T21:52:44.921575Z",
     "shell.execute_reply": "2025-07-30T21:52:44.920513Z"
    },
    "papermill": {
     "duration": 0.032966,
     "end_time": "2025-07-30T21:52:44.923478",
     "exception": false,
     "start_time": "2025-07-30T21:52:44.890512",
     "status": "completed"
    },
    "tags": []
   },
   "outputs": [],
   "source": [
    "y_train = y_train[keep_mask]"
   ]
  },
  {
   "cell_type": "markdown",
   "id": "493e2ac3",
   "metadata": {
    "papermill": {
     "duration": 0.024633,
     "end_time": "2025-07-30T21:52:44.972215",
     "exception": false,
     "start_time": "2025-07-30T21:52:44.947582",
     "status": "completed"
    },
    "tags": []
   },
   "source": [
    "# Model Training"
   ]
  },
  {
   "cell_type": "code",
   "execution_count": 41,
   "id": "679e1268",
   "metadata": {
    "execution": {
     "iopub.execute_input": "2025-07-30T21:52:45.018919Z",
     "iopub.status.busy": "2025-07-30T21:52:45.018431Z",
     "iopub.status.idle": "2025-07-30T21:52:45.126573Z",
     "shell.execute_reply": "2025-07-30T21:52:45.125580Z"
    },
    "papermill": {
     "duration": 0.133014,
     "end_time": "2025-07-30T21:52:45.128674",
     "exception": false,
     "start_time": "2025-07-30T21:52:44.995660",
     "status": "completed"
    },
    "tags": []
   },
   "outputs": [],
   "source": [
    "from sklearn.linear_model import LogisticRegression\n",
    "from sklearn.ensemble import GradientBoostingClassifier, RandomForestClassifier\n",
    "\n",
    "if (universe[\"model\"] == \"logreg\"):\n",
    "    model = LogisticRegression() #penalty=\"none\") #, solver=\"newton-cg\", max_iter=1) # include random_state=19 ?\n",
    "elif (universe[\"model\"] == \"penalized_logreg\"):\n",
    "    model = LogisticRegression(penalty=\"l2\", C=1.0) #, solver=\"newton-cg\", max_iter=1)\n",
    "elif (universe[\"model\"] == \"rf\"):\n",
    "    model = RandomForestClassifier(n_estimators=100, n_jobs=-1)\n",
    "elif (universe[\"model\"] == \"gbm\"):\n",
    "    model = GradientBoostingClassifier()\n",
    "elif (universe[\"model\"] == \"elasticnet\"):\n",
    "    model = LogisticRegression(penalty = 'elasticnet', solver = 'saga', l1_ratio = 0.5, max_iter=5000) # which solver to use?\n",
    "else:\n",
    "    raise \"Unsupported universe.model\""
   ]
  },
  {
   "cell_type": "code",
   "execution_count": 42,
   "id": "0cc8f744",
   "metadata": {
    "execution": {
     "iopub.execute_input": "2025-07-30T21:52:45.175274Z",
     "iopub.status.busy": "2025-07-30T21:52:45.174555Z",
     "iopub.status.idle": "2025-07-30T21:52:45.181722Z",
     "shell.execute_reply": "2025-07-30T21:52:45.180644Z"
    },
    "papermill": {
     "duration": 0.03362,
     "end_time": "2025-07-30T21:52:45.183526",
     "exception": false,
     "start_time": "2025-07-30T21:52:45.149906",
     "status": "completed"
    },
    "tags": []
   },
   "outputs": [],
   "source": [
    "import numpy as np\n",
    "from sklearn.pipeline import Pipeline\n",
    "from sklearn.preprocessing import StandardScaler\n",
    "\n",
    "model = Pipeline([\n",
    "    #(\"continuous_processor\", continuous_processor),\n",
    "    #(\"categorical_preprocessor\", categorical_preprocessor),\n",
    "    (\"scale\", StandardScaler() if universe[\"scale\"] == \"scale\" else None), \n",
    "    (\"model\", model),\n",
    "])"
   ]
  },
  {
   "cell_type": "code",
   "execution_count": 43,
   "id": "9442c04d",
   "metadata": {
    "execution": {
     "iopub.execute_input": "2025-07-30T21:52:45.225935Z",
     "iopub.status.busy": "2025-07-30T21:52:45.225582Z",
     "iopub.status.idle": "2025-07-30T21:52:46.008128Z",
     "shell.execute_reply": "2025-07-30T21:52:46.007364Z"
    },
    "papermill": {
     "duration": 0.802542,
     "end_time": "2025-07-30T21:52:46.009457",
     "exception": false,
     "start_time": "2025-07-30T21:52:45.206915",
     "status": "completed"
    },
    "tags": []
   },
   "outputs": [
    {
     "data": {
      "text/html": [
       "<style>#sk-container-id-1 {color: black;background-color: white;}#sk-container-id-1 pre{padding: 0;}#sk-container-id-1 div.sk-toggleable {background-color: white;}#sk-container-id-1 label.sk-toggleable__label {cursor: pointer;display: block;width: 100%;margin-bottom: 0;padding: 0.3em;box-sizing: border-box;text-align: center;}#sk-container-id-1 label.sk-toggleable__label-arrow:before {content: \"▸\";float: left;margin-right: 0.25em;color: #696969;}#sk-container-id-1 label.sk-toggleable__label-arrow:hover:before {color: black;}#sk-container-id-1 div.sk-estimator:hover label.sk-toggleable__label-arrow:before {color: black;}#sk-container-id-1 div.sk-toggleable__content {max-height: 0;max-width: 0;overflow: hidden;text-align: left;background-color: #f0f8ff;}#sk-container-id-1 div.sk-toggleable__content pre {margin: 0.2em;color: black;border-radius: 0.25em;background-color: #f0f8ff;}#sk-container-id-1 input.sk-toggleable__control:checked~div.sk-toggleable__content {max-height: 200px;max-width: 100%;overflow: auto;}#sk-container-id-1 input.sk-toggleable__control:checked~label.sk-toggleable__label-arrow:before {content: \"▾\";}#sk-container-id-1 div.sk-estimator input.sk-toggleable__control:checked~label.sk-toggleable__label {background-color: #d4ebff;}#sk-container-id-1 div.sk-label input.sk-toggleable__control:checked~label.sk-toggleable__label {background-color: #d4ebff;}#sk-container-id-1 input.sk-hidden--visually {border: 0;clip: rect(1px 1px 1px 1px);clip: rect(1px, 1px, 1px, 1px);height: 1px;margin: -1px;overflow: hidden;padding: 0;position: absolute;width: 1px;}#sk-container-id-1 div.sk-estimator {font-family: monospace;background-color: #f0f8ff;border: 1px dotted black;border-radius: 0.25em;box-sizing: border-box;margin-bottom: 0.5em;}#sk-container-id-1 div.sk-estimator:hover {background-color: #d4ebff;}#sk-container-id-1 div.sk-parallel-item::after {content: \"\";width: 100%;border-bottom: 1px solid gray;flex-grow: 1;}#sk-container-id-1 div.sk-label:hover label.sk-toggleable__label {background-color: #d4ebff;}#sk-container-id-1 div.sk-serial::before {content: \"\";position: absolute;border-left: 1px solid gray;box-sizing: border-box;top: 0;bottom: 0;left: 50%;z-index: 0;}#sk-container-id-1 div.sk-serial {display: flex;flex-direction: column;align-items: center;background-color: white;padding-right: 0.2em;padding-left: 0.2em;position: relative;}#sk-container-id-1 div.sk-item {position: relative;z-index: 1;}#sk-container-id-1 div.sk-parallel {display: flex;align-items: stretch;justify-content: center;background-color: white;position: relative;}#sk-container-id-1 div.sk-item::before, #sk-container-id-1 div.sk-parallel-item::before {content: \"\";position: absolute;border-left: 1px solid gray;box-sizing: border-box;top: 0;bottom: 0;left: 50%;z-index: -1;}#sk-container-id-1 div.sk-parallel-item {display: flex;flex-direction: column;z-index: 1;position: relative;background-color: white;}#sk-container-id-1 div.sk-parallel-item:first-child::after {align-self: flex-end;width: 50%;}#sk-container-id-1 div.sk-parallel-item:last-child::after {align-self: flex-start;width: 50%;}#sk-container-id-1 div.sk-parallel-item:only-child::after {width: 0;}#sk-container-id-1 div.sk-dashed-wrapped {border: 1px dashed gray;margin: 0 0.4em 0.5em 0.4em;box-sizing: border-box;padding-bottom: 0.4em;background-color: white;}#sk-container-id-1 div.sk-label label {font-family: monospace;font-weight: bold;display: inline-block;line-height: 1.2em;}#sk-container-id-1 div.sk-label-container {text-align: center;}#sk-container-id-1 div.sk-container {/* jupyter's `normalize.less` sets `[hidden] { display: none; }` but bootstrap.min.css set `[hidden] { display: none !important; }` so we also need the `!important` here to be able to override the default hidden behavior on the sphinx rendered scikit-learn.org. See: https://github.com/scikit-learn/scikit-learn/issues/21755 */display: inline-block !important;position: relative;}#sk-container-id-1 div.sk-text-repr-fallback {display: none;}</style><div id=\"sk-container-id-1\" class=\"sk-top-container\"><div class=\"sk-text-repr-fallback\"><pre>Pipeline(steps=[(&#x27;scale&#x27;, None), (&#x27;model&#x27;, GradientBoostingClassifier())])</pre><b>In a Jupyter environment, please rerun this cell to show the HTML representation or trust the notebook. <br />On GitHub, the HTML representation is unable to render, please try loading this page with nbviewer.org.</b></div><div class=\"sk-container\" hidden><div class=\"sk-item sk-dashed-wrapped\"><div class=\"sk-label-container\"><div class=\"sk-label sk-toggleable\"><input class=\"sk-toggleable__control sk-hidden--visually\" id=\"sk-estimator-id-1\" type=\"checkbox\" ><label for=\"sk-estimator-id-1\" class=\"sk-toggleable__label sk-toggleable__label-arrow\">Pipeline</label><div class=\"sk-toggleable__content\"><pre>Pipeline(steps=[(&#x27;scale&#x27;, None), (&#x27;model&#x27;, GradientBoostingClassifier())])</pre></div></div></div><div class=\"sk-serial\"><div class=\"sk-item\"><div class=\"sk-estimator sk-toggleable\"><input class=\"sk-toggleable__control sk-hidden--visually\" id=\"sk-estimator-id-2\" type=\"checkbox\" ><label for=\"sk-estimator-id-2\" class=\"sk-toggleable__label sk-toggleable__label-arrow\">None</label><div class=\"sk-toggleable__content\"><pre>None</pre></div></div></div><div class=\"sk-item\"><div class=\"sk-estimator sk-toggleable\"><input class=\"sk-toggleable__control sk-hidden--visually\" id=\"sk-estimator-id-3\" type=\"checkbox\" ><label for=\"sk-estimator-id-3\" class=\"sk-toggleable__label sk-toggleable__label-arrow\">GradientBoostingClassifier</label><div class=\"sk-toggleable__content\"><pre>GradientBoostingClassifier()</pre></div></div></div></div></div></div></div>"
      ],
      "text/plain": [
       "Pipeline(steps=[('scale', None), ('model', GradientBoostingClassifier())])"
      ]
     },
     "execution_count": 43,
     "metadata": {},
     "output_type": "execute_result"
    }
   ],
   "source": [
    "model.fit(X_train, y_train.values.ravel())"
   ]
  },
  {
   "cell_type": "code",
   "execution_count": 44,
   "id": "af59f8c0",
   "metadata": {
    "execution": {
     "iopub.execute_input": "2025-07-30T21:52:46.053390Z",
     "iopub.status.busy": "2025-07-30T21:52:46.052868Z",
     "iopub.status.idle": "2025-07-30T21:52:46.058410Z",
     "shell.execute_reply": "2025-07-30T21:52:46.057370Z"
    },
    "papermill": {
     "duration": 0.036696,
     "end_time": "2025-07-30T21:52:46.060518",
     "exception": false,
     "start_time": "2025-07-30T21:52:46.023822",
     "status": "completed"
    },
    "tags": []
   },
   "outputs": [],
   "source": [
    "from fairness_multiverse.universe import predict_w_threshold"
   ]
  },
  {
   "cell_type": "code",
   "execution_count": 45,
   "id": "a7cf2e16",
   "metadata": {
    "execution": {
     "iopub.execute_input": "2025-07-30T21:52:46.112274Z",
     "iopub.status.busy": "2025-07-30T21:52:46.111328Z",
     "iopub.status.idle": "2025-07-30T21:52:46.875546Z",
     "shell.execute_reply": "2025-07-30T21:52:46.874832Z"
    },
    "papermill": {
     "duration": 0.79279,
     "end_time": "2025-07-30T21:52:46.877266",
     "exception": false,
     "start_time": "2025-07-30T21:52:46.084476",
     "status": "completed"
    },
    "tags": []
   },
   "outputs": [
    {
     "data": {
      "text/plain": [
       "0.8269089287704827"
      ]
     },
     "execution_count": 45,
     "metadata": {},
     "output_type": "execute_result"
    }
   ],
   "source": [
    "probs_test = model.predict_proba(X_test)\n",
    "\n",
    "'''\n",
    "Below code returns a boolean array (or binary 0/1 array depending on how it’s used) where each element \n",
    "is True if the probability of class 1 is greater than or equal to the threshold, and False otherwise.\n",
    "'''\n",
    "y_pred_default = predict_w_threshold(probs_test, 0.5)\n",
    "\n",
    "from sklearn.metrics import accuracy_score\n",
    "\n",
    "# Naive prediction\n",
    "accuracy_score(y_true = y_true, y_pred = y_pred_default)"
   ]
  },
  {
   "cell_type": "code",
   "execution_count": 46,
   "id": "081964c3",
   "metadata": {
    "execution": {
     "iopub.execute_input": "2025-07-30T21:52:46.934629Z",
     "iopub.status.busy": "2025-07-30T21:52:46.934210Z",
     "iopub.status.idle": "2025-07-30T21:52:47.351109Z",
     "shell.execute_reply": "2025-07-30T21:52:47.350422Z"
    },
    "papermill": {
     "duration": 0.445825,
     "end_time": "2025-07-30T21:52:47.352644",
     "exception": false,
     "start_time": "2025-07-30T21:52:46.906819",
     "status": "completed"
    },
    "tags": []
   },
   "outputs": [
    {
     "data": {
      "text/plain": [
       "array([0, 0, 0, ..., 1, 0, 0])"
      ]
     },
     "execution_count": 46,
     "metadata": {},
     "output_type": "execute_result"
    }
   ],
   "source": [
    "model.predict(X_test)"
   ]
  },
  {
   "cell_type": "markdown",
   "id": "56c9705b",
   "metadata": {
    "papermill": {
     "duration": 0.024827,
     "end_time": "2025-07-30T21:52:47.403353",
     "exception": false,
     "start_time": "2025-07-30T21:52:47.378526",
     "status": "completed"
    },
    "tags": []
   },
   "source": [
    "# Conformal Prediction"
   ]
  },
  {
   "cell_type": "code",
   "execution_count": 47,
   "id": "160ec6ff",
   "metadata": {
    "execution": {
     "iopub.execute_input": "2025-07-30T21:52:47.448790Z",
     "iopub.status.busy": "2025-07-30T21:52:47.448263Z",
     "iopub.status.idle": "2025-07-30T21:52:47.453992Z",
     "shell.execute_reply": "2025-07-30T21:52:47.452848Z"
    },
    "papermill": {
     "duration": 0.028824,
     "end_time": "2025-07-30T21:52:47.455578",
     "exception": false,
     "start_time": "2025-07-30T21:52:47.426754",
     "status": "completed"
    },
    "tags": []
   },
   "outputs": [],
   "source": [
    "# Miscoverage level for conformal prediction (10% allowed error rate => 90% target coverage)\n",
    "alpha = 0.1"
   ]
  },
  {
   "cell_type": "code",
   "execution_count": 48,
   "id": "eadf4555-3dd3-440e-8e35-f82a4ad9f855",
   "metadata": {
    "execution": {
     "iopub.execute_input": "2025-07-30T21:52:47.504267Z",
     "iopub.status.busy": "2025-07-30T21:52:47.503851Z",
     "iopub.status.idle": "2025-07-30T21:52:48.094204Z",
     "shell.execute_reply": "2025-07-30T21:52:48.093231Z"
    },
    "papermill": {
     "duration": 0.616913,
     "end_time": "2025-07-30T21:52:48.096170",
     "exception": false,
     "start_time": "2025-07-30T21:52:47.479257",
     "status": "completed"
    },
    "tags": []
   },
   "outputs": [],
   "source": [
    "probs_calib = model.predict_proba(X_calib)"
   ]
  },
  {
   "cell_type": "code",
   "execution_count": 49,
   "id": "2ed93547-6d5d-4983-9b36-1ecb300da49a",
   "metadata": {
    "execution": {
     "iopub.execute_input": "2025-07-30T21:52:48.161448Z",
     "iopub.status.busy": "2025-07-30T21:52:48.160914Z",
     "iopub.status.idle": "2025-07-30T21:52:48.166630Z",
     "shell.execute_reply": "2025-07-30T21:52:48.165637Z"
    },
    "papermill": {
     "duration": 0.035302,
     "end_time": "2025-07-30T21:52:48.168438",
     "exception": false,
     "start_time": "2025-07-30T21:52:48.133136",
     "status": "completed"
    },
    "tags": []
   },
   "outputs": [],
   "source": [
    "y_calib = y_calib.values.ravel().astype(int)"
   ]
  },
  {
   "cell_type": "code",
   "execution_count": 50,
   "id": "65d1320d-f588-4b38-9072-62af1ae97f7d",
   "metadata": {
    "execution": {
     "iopub.execute_input": "2025-07-30T21:52:48.215252Z",
     "iopub.status.busy": "2025-07-30T21:52:48.214598Z",
     "iopub.status.idle": "2025-07-30T21:52:48.221886Z",
     "shell.execute_reply": "2025-07-30T21:52:48.220857Z"
    },
    "papermill": {
     "duration": 0.031514,
     "end_time": "2025-07-30T21:52:48.223476",
     "exception": false,
     "start_time": "2025-07-30T21:52:48.191962",
     "status": "completed"
    },
    "tags": []
   },
   "outputs": [],
   "source": [
    "from fairness_multiverse.conformal import compute_nc_scores\n",
    "\n",
    "# Compute nonconformity scores on calibration set (1 - probability of true class)\n",
    "nc_scores = compute_nc_scores(probs_calib, y_calib)"
   ]
  },
  {
   "cell_type": "code",
   "execution_count": 51,
   "id": "df3b8ca3-53b7-43d5-9667-7c85da7aeda2",
   "metadata": {
    "execution": {
     "iopub.execute_input": "2025-07-30T21:52:48.269733Z",
     "iopub.status.busy": "2025-07-30T21:52:48.269068Z",
     "iopub.status.idle": "2025-07-30T21:52:48.275865Z",
     "shell.execute_reply": "2025-07-30T21:52:48.274909Z"
    },
    "papermill": {
     "duration": 0.031041,
     "end_time": "2025-07-30T21:52:48.277708",
     "exception": false,
     "start_time": "2025-07-30T21:52:48.246667",
     "status": "completed"
    },
    "tags": []
   },
   "outputs": [],
   "source": [
    "from fairness_multiverse.conformal import find_threshold\n",
    "\n",
    "# Find conformal threshold q_hat for the given alpha (split conformal method)\n",
    "q_hat = find_threshold(nc_scores, alpha)"
   ]
  },
  {
   "cell_type": "code",
   "execution_count": 52,
   "id": "4d29e6c1-0ef6-4aa4-b8fe-4fe79b0d033a",
   "metadata": {
    "execution": {
     "iopub.execute_input": "2025-07-30T21:52:48.325082Z",
     "iopub.status.busy": "2025-07-30T21:52:48.324413Z",
     "iopub.status.idle": "2025-07-30T21:52:48.331597Z",
     "shell.execute_reply": "2025-07-30T21:52:48.330576Z"
    },
    "papermill": {
     "duration": 0.032313,
     "end_time": "2025-07-30T21:52:48.333293",
     "exception": false,
     "start_time": "2025-07-30T21:52:48.300980",
     "status": "completed"
    },
    "tags": []
   },
   "outputs": [
    {
     "data": {
      "text/plain": [
       "0.7789081050436404"
      ]
     },
     "execution_count": 52,
     "metadata": {},
     "output_type": "execute_result"
    }
   ],
   "source": [
    "q_hat"
   ]
  },
  {
   "cell_type": "code",
   "execution_count": 53,
   "id": "92460794-cdac-4be2-ba28-f28c0515a6fb",
   "metadata": {
    "execution": {
     "iopub.execute_input": "2025-07-30T21:52:48.380789Z",
     "iopub.status.busy": "2025-07-30T21:52:48.380069Z",
     "iopub.status.idle": "2025-07-30T21:52:49.744107Z",
     "shell.execute_reply": "2025-07-30T21:52:49.743376Z"
    },
    "papermill": {
     "duration": 1.389605,
     "end_time": "2025-07-30T21:52:49.745512",
     "exception": false,
     "start_time": "2025-07-30T21:52:48.355907",
     "status": "completed"
    },
    "tags": []
   },
   "outputs": [],
   "source": [
    "from fairness_multiverse.conformal import predict_conformal_sets\n",
    "\n",
    "# Generate prediction sets for each test example\n",
    "pred_sets = predict_conformal_sets(model, X_test, q_hat)"
   ]
  },
  {
   "cell_type": "code",
   "execution_count": 54,
   "id": "d90c9a65-e6db-4f5d-80cd-e68fb7e46829",
   "metadata": {
    "execution": {
     "iopub.execute_input": "2025-07-30T21:52:49.781513Z",
     "iopub.status.busy": "2025-07-30T21:52:49.780865Z",
     "iopub.status.idle": "2025-07-30T21:52:49.786400Z",
     "shell.execute_reply": "2025-07-30T21:52:49.785512Z"
    },
    "papermill": {
     "duration": 0.031443,
     "end_time": "2025-07-30T21:52:49.790282",
     "exception": false,
     "start_time": "2025-07-30T21:52:49.758839",
     "status": "completed"
    },
    "tags": []
   },
   "outputs": [],
   "source": [
    "y_true = y_true.squeeze()"
   ]
  },
  {
   "cell_type": "code",
   "execution_count": 55,
   "id": "3a58a54a-1e68-46b9-927a-df01f18aebc8",
   "metadata": {
    "execution": {
     "iopub.execute_input": "2025-07-30T21:52:49.837835Z",
     "iopub.status.busy": "2025-07-30T21:52:49.837007Z",
     "iopub.status.idle": "2025-07-30T21:52:50.770741Z",
     "shell.execute_reply": "2025-07-30T21:52:50.769822Z"
    },
    "papermill": {
     "duration": 0.962577,
     "end_time": "2025-07-30T21:52:50.772621",
     "exception": false,
     "start_time": "2025-07-30T21:52:49.810044",
     "status": "completed"
    },
    "tags": []
   },
   "outputs": [],
   "source": [
    "from fairness_multiverse.conformal import evaluate_sets\n",
    "\n",
    "# Evaluate coverage and average set size on test data\n",
    "metrics = evaluate_sets(pred_sets, y_true)"
   ]
  },
  {
   "cell_type": "markdown",
   "id": "2b569c12-9aaa-4c88-98c9-bbcd0cf3ebb8",
   "metadata": {
    "papermill": {
     "duration": 0.023019,
     "end_time": "2025-07-30T21:52:50.860293",
     "exception": false,
     "start_time": "2025-07-30T21:52:50.837274",
     "status": "completed"
    },
    "tags": []
   },
   "source": [
    "# CP Metrics"
   ]
  },
  {
   "cell_type": "code",
   "execution_count": 56,
   "id": "5ce0a5cb-201f-45a0-ade5-94c7f0bd6095",
   "metadata": {
    "execution": {
     "iopub.execute_input": "2025-07-30T21:52:50.907386Z",
     "iopub.status.busy": "2025-07-30T21:52:50.906896Z",
     "iopub.status.idle": "2025-07-30T21:52:50.914063Z",
     "shell.execute_reply": "2025-07-30T21:52:50.912950Z"
    },
    "papermill": {
     "duration": 0.033541,
     "end_time": "2025-07-30T21:52:50.916359",
     "exception": false,
     "start_time": "2025-07-30T21:52:50.882818",
     "status": "completed"
    },
    "tags": []
   },
   "outputs": [
    {
     "data": {
      "text/plain": [
       "{'coverage': 0.9077917734923643, 'avg_size': 1.1968453907033776}"
      ]
     },
     "execution_count": 56,
     "metadata": {},
     "output_type": "execute_result"
    }
   ],
   "source": [
    "metrics"
   ]
  },
  {
   "cell_type": "code",
   "execution_count": 57,
   "id": "9b9a838d-31c9-430b-ae14-12baee460d17",
   "metadata": {
    "execution": {
     "iopub.execute_input": "2025-07-30T21:52:50.964201Z",
     "iopub.status.busy": "2025-07-30T21:52:50.963686Z",
     "iopub.status.idle": "2025-07-30T21:52:50.969914Z",
     "shell.execute_reply": "2025-07-30T21:52:50.969060Z"
    },
    "papermill": {
     "duration": 0.031791,
     "end_time": "2025-07-30T21:52:50.971471",
     "exception": false,
     "start_time": "2025-07-30T21:52:50.939680",
     "status": "completed"
    },
    "tags": []
   },
   "outputs": [],
   "source": [
    "example_universe = universe.copy()\n",
    "universe_training_year = example_universe.get(\"training_year\")\n",
    "universe_training_size = example_universe.get(\"training_size\")\n",
    "universe_scale = example_universe.get(\"scale\")\n",
    "universe_model = example_universe.get(\"model\")\n",
    "universe_exclude_features = example_universe.get(\"exclude_features\")\n",
    "universe_exclude_subgroups = example_universe.get(\"exclude_subgroups\")"
   ]
  },
  {
   "cell_type": "code",
   "execution_count": 58,
   "id": "f4b6a8ac-9dc0-4245-8a91-5b3b5999c4f9",
   "metadata": {
    "execution": {
     "iopub.execute_input": "2025-07-30T21:52:51.020296Z",
     "iopub.status.busy": "2025-07-30T21:52:51.019658Z",
     "iopub.status.idle": "2025-07-30T21:52:51.026542Z",
     "shell.execute_reply": "2025-07-30T21:52:51.025728Z"
    },
    "papermill": {
     "duration": 0.03267,
     "end_time": "2025-07-30T21:52:51.028206",
     "exception": false,
     "start_time": "2025-07-30T21:52:50.995536",
     "status": "completed"
    },
    "tags": []
   },
   "outputs": [],
   "source": [
    "cp_metrics_dict = {\n",
    "    \"universe_id\": [universe_id],\n",
    "    \"universe_training_year\": [universe_training_year],\n",
    "    \"universe_training_size\": [universe_training_size],\n",
    "    \"universe_scale\": [universe_scale],\n",
    "    \"universe_model\": [universe_model],\n",
    "    \"universe_exclude_features\": [universe_exclude_features],\n",
    "    \"universe_exclude_subgroups\": [universe_exclude_subgroups],\n",
    "    \"q_hat\": [q_hat],\n",
    "    \"coverage\": [metrics[\"coverage\"]],\n",
    "    \"avg_size\": [metrics[\"avg_size\"]],\n",
    "}"
   ]
  },
  {
   "cell_type": "code",
   "execution_count": 59,
   "id": "908acbb1-0371-4915-85ca-3fa520d2efe2",
   "metadata": {
    "execution": {
     "iopub.execute_input": "2025-07-30T21:52:51.076713Z",
     "iopub.status.busy": "2025-07-30T21:52:51.076188Z",
     "iopub.status.idle": "2025-07-30T21:52:51.083876Z",
     "shell.execute_reply": "2025-07-30T21:52:51.082914Z"
    },
    "papermill": {
     "duration": 0.033705,
     "end_time": "2025-07-30T21:52:51.085464",
     "exception": false,
     "start_time": "2025-07-30T21:52:51.051759",
     "status": "completed"
    },
    "tags": []
   },
   "outputs": [
    {
     "data": {
      "text/plain": [
       "{'universe_id': ['add91b5695ead62650d0d7315ae20b81'],\n",
       " 'universe_training_year': ['2010_14'],\n",
       " 'universe_training_size': ['1k'],\n",
       " 'universe_scale': ['do-not-scale'],\n",
       " 'universe_model': ['gbm'],\n",
       " 'universe_exclude_features': ['nationality-sex'],\n",
       " 'universe_exclude_subgroups': ['drop-non-german'],\n",
       " 'q_hat': [0.7789081050436404],\n",
       " 'coverage': [0.9077917734923643],\n",
       " 'avg_size': [1.1968453907033776]}"
      ]
     },
     "execution_count": 59,
     "metadata": {},
     "output_type": "execute_result"
    }
   ],
   "source": [
    "cp_metrics_dict"
   ]
  },
  {
   "cell_type": "code",
   "execution_count": 60,
   "id": "33007efc-14e9-4ec6-97ac-56a455c82265",
   "metadata": {
    "execution": {
     "iopub.execute_input": "2025-07-30T21:52:51.135075Z",
     "iopub.status.busy": "2025-07-30T21:52:51.134675Z",
     "iopub.status.idle": "2025-07-30T21:52:51.140609Z",
     "shell.execute_reply": "2025-07-30T21:52:51.139743Z"
    },
    "papermill": {
     "duration": 0.032021,
     "end_time": "2025-07-30T21:52:51.142000",
     "exception": false,
     "start_time": "2025-07-30T21:52:51.109979",
     "status": "completed"
    },
    "tags": []
   },
   "outputs": [],
   "source": [
    "cp_metrics_df = pd.DataFrame(cp_metrics_dict)"
   ]
  },
  {
   "cell_type": "code",
   "execution_count": 61,
   "id": "db12611b-57b2-4910-b9d0-355adfd6e7bf",
   "metadata": {
    "execution": {
     "iopub.execute_input": "2025-07-30T21:52:51.191602Z",
     "iopub.status.busy": "2025-07-30T21:52:51.191165Z",
     "iopub.status.idle": "2025-07-30T21:52:51.216203Z",
     "shell.execute_reply": "2025-07-30T21:52:51.215375Z"
    },
    "papermill": {
     "duration": 0.053782,
     "end_time": "2025-07-30T21:52:51.220872",
     "exception": false,
     "start_time": "2025-07-30T21:52:51.167090",
     "status": "completed"
    },
    "tags": []
   },
   "outputs": [
    {
     "data": {
      "text/html": [
       "<div>\n",
       "<style scoped>\n",
       "    .dataframe tbody tr th:only-of-type {\n",
       "        vertical-align: middle;\n",
       "    }\n",
       "\n",
       "    .dataframe tbody tr th {\n",
       "        vertical-align: top;\n",
       "    }\n",
       "\n",
       "    .dataframe thead th {\n",
       "        text-align: right;\n",
       "    }\n",
       "</style>\n",
       "<table border=\"1\" class=\"dataframe\">\n",
       "  <thead>\n",
       "    <tr style=\"text-align: right;\">\n",
       "      <th></th>\n",
       "      <th>universe_id</th>\n",
       "      <th>universe_training_year</th>\n",
       "      <th>universe_training_size</th>\n",
       "      <th>universe_scale</th>\n",
       "      <th>universe_model</th>\n",
       "      <th>universe_exclude_features</th>\n",
       "      <th>universe_exclude_subgroups</th>\n",
       "      <th>q_hat</th>\n",
       "      <th>coverage</th>\n",
       "      <th>avg_size</th>\n",
       "    </tr>\n",
       "  </thead>\n",
       "  <tbody>\n",
       "    <tr>\n",
       "      <th>0</th>\n",
       "      <td>add91b5695ead62650d0d7315ae20b81</td>\n",
       "      <td>2010_14</td>\n",
       "      <td>1k</td>\n",
       "      <td>do-not-scale</td>\n",
       "      <td>gbm</td>\n",
       "      <td>nationality-sex</td>\n",
       "      <td>drop-non-german</td>\n",
       "      <td>0.778908</td>\n",
       "      <td>0.907792</td>\n",
       "      <td>1.196845</td>\n",
       "    </tr>\n",
       "  </tbody>\n",
       "</table>\n",
       "</div>"
      ],
      "text/plain": [
       "                        universe_id universe_training_year  \\\n",
       "0  add91b5695ead62650d0d7315ae20b81                2010_14   \n",
       "\n",
       "  universe_training_size universe_scale universe_model  \\\n",
       "0                     1k   do-not-scale            gbm   \n",
       "\n",
       "  universe_exclude_features universe_exclude_subgroups     q_hat  coverage  \\\n",
       "0           nationality-sex            drop-non-german  0.778908  0.907792   \n",
       "\n",
       "   avg_size  \n",
       "0  1.196845  "
      ]
     },
     "execution_count": 61,
     "metadata": {},
     "output_type": "execute_result"
    }
   ],
   "source": [
    "cp_metrics_df"
   ]
  },
  {
   "cell_type": "code",
   "execution_count": 62,
   "id": "b7fbde55-a0a1-47e4-9af6-fe4a17fa8c61",
   "metadata": {
    "execution": {
     "iopub.execute_input": "2025-07-30T21:52:51.270752Z",
     "iopub.status.busy": "2025-07-30T21:52:51.270037Z",
     "iopub.status.idle": "2025-07-30T21:52:51.275918Z",
     "shell.execute_reply": "2025-07-30T21:52:51.274942Z"
    },
    "papermill": {
     "duration": 0.032013,
     "end_time": "2025-07-30T21:52:51.277570",
     "exception": false,
     "start_time": "2025-07-30T21:52:51.245557",
     "status": "completed"
    },
    "tags": []
   },
   "outputs": [],
   "source": [
    "# Conditional Coverage & looking at subgroups"
   ]
  },
  {
   "cell_type": "code",
   "execution_count": 63,
   "id": "027ae886-68dd-4141-96c7-805a5450e1ef",
   "metadata": {
    "execution": {
     "iopub.execute_input": "2025-07-30T21:52:51.326929Z",
     "iopub.status.busy": "2025-07-30T21:52:51.325864Z",
     "iopub.status.idle": "2025-07-30T21:52:51.586645Z",
     "shell.execute_reply": "2025-07-30T21:52:51.585637Z"
    },
    "papermill": {
     "duration": 0.287174,
     "end_time": "2025-07-30T21:52:51.588638",
     "exception": false,
     "start_time": "2025-07-30T21:52:51.301464",
     "status": "completed"
    },
    "tags": []
   },
   "outputs": [],
   "source": [
    "from fairness_multiverse.conformal import build_cp_groups\n",
    "\n",
    "cp_groups_df = build_cp_groups(pred_sets, y_true, X_test.index, org_test)\n",
    "#needs universe_id and setting"
   ]
  },
  {
   "cell_type": "code",
   "execution_count": 64,
   "id": "01d5802c-663a-4d1f-9d69-e036faaffbf7",
   "metadata": {
    "execution": {
     "iopub.execute_input": "2025-07-30T21:52:51.641661Z",
     "iopub.status.busy": "2025-07-30T21:52:51.640776Z",
     "iopub.status.idle": "2025-07-30T21:52:51.646126Z",
     "shell.execute_reply": "2025-07-30T21:52:51.645098Z"
    },
    "papermill": {
     "duration": 0.034323,
     "end_time": "2025-07-30T21:52:51.648183",
     "exception": false,
     "start_time": "2025-07-30T21:52:51.613860",
     "status": "completed"
    },
    "tags": []
   },
   "outputs": [],
   "source": [
    "#delete\n",
    "#cp_groups_df"
   ]
  },
  {
   "cell_type": "code",
   "execution_count": 65,
   "id": "fa424af1-d1eb-443d-b717-2d279ada8408",
   "metadata": {
    "execution": {
     "iopub.execute_input": "2025-07-30T21:52:51.711821Z",
     "iopub.status.busy": "2025-07-30T21:52:51.711349Z",
     "iopub.status.idle": "2025-07-30T21:52:51.716697Z",
     "shell.execute_reply": "2025-07-30T21:52:51.715706Z"
    },
    "papermill": {
     "duration": 0.032916,
     "end_time": "2025-07-30T21:52:51.718272",
     "exception": false,
     "start_time": "2025-07-30T21:52:51.685356",
     "status": "completed"
    },
    "tags": []
   },
   "outputs": [],
   "source": [
    "#delete\n",
    "#percentage = (cp_groups_df['nongerman_female'] == 1).mean() * 100\n",
    "#print(percentage)\n"
   ]
  },
  {
   "cell_type": "code",
   "execution_count": 66,
   "id": "6cbdab96-b2b2-45af-ad54-d0516db2e28d",
   "metadata": {
    "execution": {
     "iopub.execute_input": "2025-07-30T21:52:51.769400Z",
     "iopub.status.busy": "2025-07-30T21:52:51.768948Z",
     "iopub.status.idle": "2025-07-30T21:52:53.337013Z",
     "shell.execute_reply": "2025-07-30T21:52:53.336097Z"
    },
    "papermill": {
     "duration": 1.595454,
     "end_time": "2025-07-30T21:52:53.338871",
     "exception": false,
     "start_time": "2025-07-30T21:52:51.743417",
     "status": "completed"
    },
    "tags": []
   },
   "outputs": [],
   "source": [
    "# Define covered = 1 if true_label is in the predicted set\n",
    "cp_groups_df['covered'] = cp_groups_df.apply(\n",
    "    lambda r: int(r['true_label'] in r['pred_set']),\n",
    "    axis=1\n",
    ")"
   ]
  },
  {
   "cell_type": "code",
   "execution_count": 67,
   "id": "338ff529-1a6b-4b87-a931-8e4788d52aad",
   "metadata": {
    "execution": {
     "iopub.execute_input": "2025-07-30T21:52:53.387852Z",
     "iopub.status.busy": "2025-07-30T21:52:53.387243Z",
     "iopub.status.idle": "2025-07-30T21:52:53.391693Z",
     "shell.execute_reply": "2025-07-30T21:52:53.390732Z"
    },
    "papermill": {
     "duration": 0.029957,
     "end_time": "2025-07-30T21:52:53.393521",
     "exception": false,
     "start_time": "2025-07-30T21:52:53.363564",
     "status": "completed"
    },
    "tags": []
   },
   "outputs": [],
   "source": [
    "#cp_groups_df"
   ]
  },
  {
   "cell_type": "code",
   "execution_count": 68,
   "id": "90032e27-66df-4540-9169-4e89cfbaa758",
   "metadata": {
    "execution": {
     "iopub.execute_input": "2025-07-30T21:52:53.449099Z",
     "iopub.status.busy": "2025-07-30T21:52:53.448729Z",
     "iopub.status.idle": "2025-07-30T21:52:53.459415Z",
     "shell.execute_reply": "2025-07-30T21:52:53.458440Z"
    },
    "papermill": {
     "duration": 0.040812,
     "end_time": "2025-07-30T21:52:53.461156",
     "exception": false,
     "start_time": "2025-07-30T21:52:53.420344",
     "status": "completed"
    },
    "tags": []
   },
   "outputs": [],
   "source": [
    "subgroups = ['frau1','nongerman','nongerman_male','nongerman_female']\n",
    "\n",
    "# Conditional coverage for subgroup==1\n",
    "cond_coverage = {\n",
    "    g: cp_groups_df.loc[cp_groups_df[g]==1, 'covered'].mean()\n",
    "    for g in subgroups\n",
    "}"
   ]
  },
  {
   "cell_type": "code",
   "execution_count": 69,
   "id": "1e348fb1-b9c3-45bc-ba23-f016827a7e0d",
   "metadata": {
    "execution": {
     "iopub.execute_input": "2025-07-30T21:52:53.513494Z",
     "iopub.status.busy": "2025-07-30T21:52:53.513130Z",
     "iopub.status.idle": "2025-07-30T21:52:53.519586Z",
     "shell.execute_reply": "2025-07-30T21:52:53.518861Z"
    },
    "papermill": {
     "duration": 0.035931,
     "end_time": "2025-07-30T21:52:53.520846",
     "exception": false,
     "start_time": "2025-07-30T21:52:53.484915",
     "status": "completed"
    },
    "tags": []
   },
   "outputs": [
    {
     "data": {
      "text/plain": [
       "{'frau1': 0.9063216066855372,\n",
       " 'nongerman': 0.90596755178802,\n",
       " 'nongerman_male': 0.9235341799513644,\n",
       " 'nongerman_female': 0.8769001490312965}"
      ]
     },
     "execution_count": 69,
     "metadata": {},
     "output_type": "execute_result"
    }
   ],
   "source": [
    "cond_coverage"
   ]
  },
  {
   "cell_type": "code",
   "execution_count": 70,
   "id": "f5093324-c3dd-4d63-bc4c-8d945e5c8bbb",
   "metadata": {
    "execution": {
     "iopub.execute_input": "2025-07-30T21:52:53.554889Z",
     "iopub.status.busy": "2025-07-30T21:52:53.554578Z",
     "iopub.status.idle": "2025-07-30T21:52:53.559997Z",
     "shell.execute_reply": "2025-07-30T21:52:53.559173Z"
    },
    "papermill": {
     "duration": 0.023715,
     "end_time": "2025-07-30T21:52:53.561337",
     "exception": false,
     "start_time": "2025-07-30T21:52:53.537622",
     "status": "completed"
    },
    "tags": []
   },
   "outputs": [],
   "source": [
    "for subgroup, cov in cond_coverage.items():\n",
    "    cp_metrics_df[f\"cov_{subgroup}\"] = cov"
   ]
  },
  {
   "cell_type": "code",
   "execution_count": 71,
   "id": "6e872e10-dbe5-49e8-b554-5030c98ff75d",
   "metadata": {
    "execution": {
     "iopub.execute_input": "2025-07-30T21:52:53.593890Z",
     "iopub.status.busy": "2025-07-30T21:52:53.593476Z",
     "iopub.status.idle": "2025-07-30T21:52:53.606926Z",
     "shell.execute_reply": "2025-07-30T21:52:53.606141Z"
    },
    "papermill": {
     "duration": 0.029222,
     "end_time": "2025-07-30T21:52:53.608215",
     "exception": false,
     "start_time": "2025-07-30T21:52:53.578993",
     "status": "completed"
    },
    "tags": []
   },
   "outputs": [
    {
     "data": {
      "text/html": [
       "<div>\n",
       "<style scoped>\n",
       "    .dataframe tbody tr th:only-of-type {\n",
       "        vertical-align: middle;\n",
       "    }\n",
       "\n",
       "    .dataframe tbody tr th {\n",
       "        vertical-align: top;\n",
       "    }\n",
       "\n",
       "    .dataframe thead th {\n",
       "        text-align: right;\n",
       "    }\n",
       "</style>\n",
       "<table border=\"1\" class=\"dataframe\">\n",
       "  <thead>\n",
       "    <tr style=\"text-align: right;\">\n",
       "      <th></th>\n",
       "      <th>universe_id</th>\n",
       "      <th>universe_training_year</th>\n",
       "      <th>universe_training_size</th>\n",
       "      <th>universe_scale</th>\n",
       "      <th>universe_model</th>\n",
       "      <th>universe_exclude_features</th>\n",
       "      <th>universe_exclude_subgroups</th>\n",
       "      <th>q_hat</th>\n",
       "      <th>coverage</th>\n",
       "      <th>avg_size</th>\n",
       "      <th>cov_frau1</th>\n",
       "      <th>cov_nongerman</th>\n",
       "      <th>cov_nongerman_male</th>\n",
       "      <th>cov_nongerman_female</th>\n",
       "    </tr>\n",
       "  </thead>\n",
       "  <tbody>\n",
       "    <tr>\n",
       "      <th>0</th>\n",
       "      <td>add91b5695ead62650d0d7315ae20b81</td>\n",
       "      <td>2010_14</td>\n",
       "      <td>1k</td>\n",
       "      <td>do-not-scale</td>\n",
       "      <td>gbm</td>\n",
       "      <td>nationality-sex</td>\n",
       "      <td>drop-non-german</td>\n",
       "      <td>0.778908</td>\n",
       "      <td>0.907792</td>\n",
       "      <td>1.196845</td>\n",
       "      <td>0.906322</td>\n",
       "      <td>0.905968</td>\n",
       "      <td>0.923534</td>\n",
       "      <td>0.8769</td>\n",
       "    </tr>\n",
       "  </tbody>\n",
       "</table>\n",
       "</div>"
      ],
      "text/plain": [
       "                        universe_id universe_training_year  \\\n",
       "0  add91b5695ead62650d0d7315ae20b81                2010_14   \n",
       "\n",
       "  universe_training_size universe_scale universe_model  \\\n",
       "0                     1k   do-not-scale            gbm   \n",
       "\n",
       "  universe_exclude_features universe_exclude_subgroups     q_hat  coverage  \\\n",
       "0           nationality-sex            drop-non-german  0.778908  0.907792   \n",
       "\n",
       "   avg_size  cov_frau1  cov_nongerman  cov_nongerman_male  \\\n",
       "0  1.196845   0.906322       0.905968            0.923534   \n",
       "\n",
       "   cov_nongerman_female  \n",
       "0                0.8769  "
      ]
     },
     "execution_count": 71,
     "metadata": {},
     "output_type": "execute_result"
    }
   ],
   "source": [
    "cp_metrics_df"
   ]
  },
  {
   "cell_type": "markdown",
   "id": "33774451",
   "metadata": {
    "papermill": {
     "duration": 0.013122,
     "end_time": "2025-07-30T21:52:53.634966",
     "exception": false,
     "start_time": "2025-07-30T21:52:53.621844",
     "status": "completed"
    },
    "tags": []
   },
   "source": [
    "# (Fairness) Metrics"
   ]
  },
  {
   "cell_type": "code",
   "execution_count": 72,
   "id": "debc5d62",
   "metadata": {
    "execution": {
     "iopub.execute_input": "2025-07-30T21:52:53.677038Z",
     "iopub.status.busy": "2025-07-30T21:52:53.676686Z",
     "iopub.status.idle": "2025-07-30T21:52:53.690500Z",
     "shell.execute_reply": "2025-07-30T21:52:53.689714Z"
    },
    "papermill": {
     "duration": 0.034774,
     "end_time": "2025-07-30T21:52:53.691977",
     "exception": false,
     "start_time": "2025-07-30T21:52:53.657203",
     "status": "completed"
    },
    "tags": []
   },
   "outputs": [],
   "source": [
    "# do I need to include maxdeutsch1.missing?\n",
    "\n",
    "import numpy as np\n",
    "\n",
    "colname_to_bin = \"maxdeutsch1\"\n",
    "majority_value = org_train[colname_to_bin].mode()[0]\n",
    "\n",
    "org_test[\"majmin\"] = np.where(org_test[colname_to_bin] == majority_value, \"majority\", \"minority\")"
   ]
  },
  {
   "cell_type": "code",
   "execution_count": 73,
   "id": "06a50de5",
   "metadata": {
    "execution": {
     "iopub.execute_input": "2025-07-30T21:52:53.722666Z",
     "iopub.status.busy": "2025-07-30T21:52:53.722161Z",
     "iopub.status.idle": "2025-07-30T21:52:56.543614Z",
     "shell.execute_reply": "2025-07-30T21:52:56.542485Z"
    },
    "papermill": {
     "duration": 2.838551,
     "end_time": "2025-07-30T21:52:56.545767",
     "exception": false,
     "start_time": "2025-07-30T21:52:53.707216",
     "status": "completed"
    },
    "tags": []
   },
   "outputs": [],
   "source": [
    "example_universe = universe.copy()\n",
    "example_universe[\"cutoff\"] = example_universe[\"cutoff\"][0]\n",
    "example_universe[\"eval_fairness_grouping\"] = example_universe[\"eval_fairness_grouping\"][0]\n",
    "fairness_dict, metric_frame = universe_analysis.compute_metrics(\n",
    "    example_universe,\n",
    "    y_pred_prob=probs_test,\n",
    "    y_test=y_true,\n",
    "    org_test=org_test,\n",
    ")"
   ]
  },
  {
   "cell_type": "markdown",
   "id": "f95d4e02",
   "metadata": {
    "papermill": {
     "duration": 0.025493,
     "end_time": "2025-07-30T21:52:56.602199",
     "exception": false,
     "start_time": "2025-07-30T21:52:56.576706",
     "status": "completed"
    },
    "tags": []
   },
   "source": [
    "# Overall"
   ]
  },
  {
   "cell_type": "markdown",
   "id": "bdee4871",
   "metadata": {
    "papermill": {
     "duration": 0.025214,
     "end_time": "2025-07-30T21:52:56.653884",
     "exception": false,
     "start_time": "2025-07-30T21:52:56.628670",
     "status": "completed"
    },
    "tags": []
   },
   "source": [
    "Fairness\n",
    "Main fairness target: Equalized Odds. Seems to be a better fit than equal opportunity, since we're not only interested in Y = 1. Seems to be a better fit than demographic parity, since we also care about accuracy, not just equal distribution of preds.\n",
    "\n",
    "Pick column for computation of fairness metrics\n",
    "\n",
    "Performance\n",
    "Overall performance measures, most interesting in relation to the measures split by group below"
   ]
  },
  {
   "cell_type": "code",
   "execution_count": 74,
   "id": "c4e067c6",
   "metadata": {
    "execution": {
     "iopub.execute_input": "2025-07-30T21:52:56.709572Z",
     "iopub.status.busy": "2025-07-30T21:52:56.709039Z",
     "iopub.status.idle": "2025-07-30T21:52:56.717848Z",
     "shell.execute_reply": "2025-07-30T21:52:56.716887Z"
    },
    "papermill": {
     "duration": 0.040338,
     "end_time": "2025-07-30T21:52:56.719458",
     "exception": false,
     "start_time": "2025-07-30T21:52:56.679120",
     "status": "completed"
    },
    "tags": []
   },
   "outputs": [
    {
     "data": {
      "text/plain": [
       "accuracy                   0.222617\n",
       "balanced accuracy          0.544698\n",
       "f1                         0.243997\n",
       "precision                  0.139387\n",
       "false positive rate        0.888532\n",
       "false negative rate        0.022072\n",
       "selection rate             0.900000\n",
       "count                  89710.000000\n",
       "dtype: float64"
      ]
     },
     "execution_count": 74,
     "metadata": {},
     "output_type": "execute_result"
    }
   ],
   "source": [
    "metric_frame.overall"
   ]
  },
  {
   "cell_type": "markdown",
   "id": "e968fe9d",
   "metadata": {
    "papermill": {
     "duration": 0.026766,
     "end_time": "2025-07-30T21:52:56.773685",
     "exception": false,
     "start_time": "2025-07-30T21:52:56.746919",
     "status": "completed"
    },
    "tags": []
   },
   "source": [
    "By Group"
   ]
  },
  {
   "cell_type": "code",
   "execution_count": 75,
   "id": "ec325bce",
   "metadata": {
    "execution": {
     "iopub.execute_input": "2025-07-30T21:52:56.829838Z",
     "iopub.status.busy": "2025-07-30T21:52:56.829184Z",
     "iopub.status.idle": "2025-07-30T21:52:56.845313Z",
     "shell.execute_reply": "2025-07-30T21:52:56.844454Z"
    },
    "papermill": {
     "duration": 0.04671,
     "end_time": "2025-07-30T21:52:56.846879",
     "exception": false,
     "start_time": "2025-07-30T21:52:56.800169",
     "status": "completed"
    },
    "tags": []
   },
   "outputs": [
    {
     "data": {
      "text/html": [
       "<div>\n",
       "<style scoped>\n",
       "    .dataframe tbody tr th:only-of-type {\n",
       "        vertical-align: middle;\n",
       "    }\n",
       "\n",
       "    .dataframe tbody tr th {\n",
       "        vertical-align: top;\n",
       "    }\n",
       "\n",
       "    .dataframe thead th {\n",
       "        text-align: right;\n",
       "    }\n",
       "</style>\n",
       "<table border=\"1\" class=\"dataframe\">\n",
       "  <thead>\n",
       "    <tr style=\"text-align: right;\">\n",
       "      <th></th>\n",
       "      <th>accuracy</th>\n",
       "      <th>balanced accuracy</th>\n",
       "      <th>f1</th>\n",
       "      <th>precision</th>\n",
       "      <th>false positive rate</th>\n",
       "      <th>false negative rate</th>\n",
       "      <th>selection rate</th>\n",
       "      <th>count</th>\n",
       "    </tr>\n",
       "    <tr>\n",
       "      <th>majmin</th>\n",
       "      <th></th>\n",
       "      <th></th>\n",
       "      <th></th>\n",
       "      <th></th>\n",
       "      <th></th>\n",
       "      <th></th>\n",
       "      <th></th>\n",
       "      <th></th>\n",
       "    </tr>\n",
       "  </thead>\n",
       "  <tbody>\n",
       "    <tr>\n",
       "      <th>majority</th>\n",
       "      <td>0.239584</td>\n",
       "      <td>0.551514</td>\n",
       "      <td>0.253188</td>\n",
       "      <td>0.145472</td>\n",
       "      <td>0.872464</td>\n",
       "      <td>0.024508</td>\n",
       "      <td>0.886078</td>\n",
       "      <td>69170.0</td>\n",
       "    </tr>\n",
       "    <tr>\n",
       "      <th>minority</th>\n",
       "      <td>0.165482</td>\n",
       "      <td>0.522859</td>\n",
       "      <td>0.214328</td>\n",
       "      <td>0.120212</td>\n",
       "      <td>0.941613</td>\n",
       "      <td>0.012669</td>\n",
       "      <td>0.946884</td>\n",
       "      <td>20540.0</td>\n",
       "    </tr>\n",
       "  </tbody>\n",
       "</table>\n",
       "</div>"
      ],
      "text/plain": [
       "          accuracy  balanced accuracy        f1  precision  \\\n",
       "majmin                                                       \n",
       "majority  0.239584           0.551514  0.253188   0.145472   \n",
       "minority  0.165482           0.522859  0.214328   0.120212   \n",
       "\n",
       "          false positive rate  false negative rate  selection rate    count  \n",
       "majmin                                                                       \n",
       "majority             0.872464             0.024508        0.886078  69170.0  \n",
       "minority             0.941613             0.012669        0.946884  20540.0  "
      ]
     },
     "execution_count": 75,
     "metadata": {},
     "output_type": "execute_result"
    }
   ],
   "source": [
    "metric_frame.by_group"
   ]
  },
  {
   "cell_type": "code",
   "execution_count": 76,
   "id": "a9ddbe63",
   "metadata": {
    "execution": {
     "iopub.execute_input": "2025-07-30T21:52:56.901284Z",
     "iopub.status.busy": "2025-07-30T21:52:56.900702Z",
     "iopub.status.idle": "2025-07-30T21:52:59.257459Z",
     "shell.execute_reply": "2025-07-30T21:52:59.256619Z"
    },
    "papermill": {
     "duration": 2.384411,
     "end_time": "2025-07-30T21:52:59.258948",
     "exception": false,
     "start_time": "2025-07-30T21:52:56.874537",
     "status": "completed"
    },
    "tags": []
   },
   "outputs": [
    {
     "data": {
      "text/plain": [
       "array([[<Axes: title={'center': 'accuracy'}, xlabel='majmin'>,\n",
       "        <Axes: title={'center': 'balanced accuracy'}, xlabel='majmin'>,\n",
       "        <Axes: title={'center': 'f1'}, xlabel='majmin'>],\n",
       "       [<Axes: title={'center': 'precision'}, xlabel='majmin'>,\n",
       "        <Axes: title={'center': 'false positive rate'}, xlabel='majmin'>,\n",
       "        <Axes: title={'center': 'false negative rate'}, xlabel='majmin'>],\n",
       "       [<Axes: title={'center': 'selection rate'}, xlabel='majmin'>,\n",
       "        <Axes: title={'center': 'count'}, xlabel='majmin'>,\n",
       "        <Axes: xlabel='majmin'>]], dtype=object)"
      ]
     },
     "execution_count": 76,
     "metadata": {},
     "output_type": "execute_result"
    },
    {
     "data": {
      "image/png": "[encoded data removed]",
      "text/plain": [
       "<Figure size 1200x800 with 9 Axes>"
      ]
     },
     "metadata": {},
     "output_type": "display_data"
    }
   ],
   "source": [
    "# In a graphic\n",
    "metric_frame.by_group.plot.bar(\n",
    "    subplots=True,\n",
    "    layout=[3, 3],\n",
    "    legend=False,\n",
    "    figsize=[12, 8],\n",
    "    title=\"Show all metrics\",\n",
    ")"
   ]
  },
  {
   "cell_type": "markdown",
   "id": "f57a0bac",
   "metadata": {
    "papermill": {
     "duration": 0.02824,
     "end_time": "2025-07-30T21:52:59.316843",
     "exception": false,
     "start_time": "2025-07-30T21:52:59.288603",
     "status": "completed"
    },
    "tags": []
   },
   "source": [
    "# Final Output"
   ]
  },
  {
   "cell_type": "code",
   "execution_count": 77,
   "id": "96d280a3",
   "metadata": {
    "execution": {
     "iopub.execute_input": "2025-07-30T21:52:59.371579Z",
     "iopub.status.busy": "2025-07-30T21:52:59.370974Z",
     "iopub.status.idle": "2025-07-30T21:52:59.379160Z",
     "shell.execute_reply": "2025-07-30T21:52:59.378301Z"
    },
    "papermill": {
     "duration": 0.037384,
     "end_time": "2025-07-30T21:52:59.380650",
     "exception": false,
     "start_time": "2025-07-30T21:52:59.343266",
     "status": "completed"
    },
    "tags": []
   },
   "outputs": [
    {
     "data": {
      "text/plain": [
       "4"
      ]
     },
     "execution_count": 77,
     "metadata": {},
     "output_type": "execute_result"
    }
   ],
   "source": [
    "sub_universes = universe_analysis.generate_sub_universes()\n",
    "len(sub_universes)"
   ]
  },
  {
   "cell_type": "code",
   "execution_count": 78,
   "id": "92adf7ba",
   "metadata": {
    "execution": {
     "iopub.execute_input": "2025-07-30T21:52:59.439629Z",
     "iopub.status.busy": "2025-07-30T21:52:59.438975Z",
     "iopub.status.idle": "2025-07-30T21:52:59.445896Z",
     "shell.execute_reply": "2025-07-30T21:52:59.444956Z"
    },
    "papermill": {
     "duration": 0.037738,
     "end_time": "2025-07-30T21:52:59.447580",
     "exception": false,
     "start_time": "2025-07-30T21:52:59.409842",
     "status": "completed"
    },
    "tags": []
   },
   "outputs": [],
   "source": [
    "def filter_sub_universe_data(sub_universe, org_test):\n",
    "    # Keep all rows — no filtering\n",
    "    keep_rows_mask = np.ones(org_test.shape[0], dtype=bool)\n",
    "\n",
    "    print(f\"[INFO] Keeping all rows: {keep_rows_mask.sum()} rows retained.\")\n",
    "    return keep_rows_mask"
   ]
  },
  {
   "cell_type": "code",
   "execution_count": 79,
   "id": "4a759155",
   "metadata": {
    "execution": {
     "iopub.execute_input": "2025-07-30T21:52:59.505248Z",
     "iopub.status.busy": "2025-07-30T21:52:59.504596Z",
     "iopub.status.idle": "2025-07-30T21:53:09.429229Z",
     "shell.execute_reply": "2025-07-30T21:53:09.427941Z"
    },
    "papermill": {
     "duration": 9.955168,
     "end_time": "2025-07-30T21:53:09.431048",
     "exception": false,
     "start_time": "2025-07-30T21:52:59.475880",
     "status": "completed"
    },
    "tags": []
   },
   "outputs": [
    {
     "name": "stdout",
     "output_type": "stream",
     "text": [
      "Stopping execution_time clock.\n",
      "[INFO] Keeping all rows: 89710 rows retained.\n"
     ]
    },
    {
     "name": "stdout",
     "output_type": "stream",
     "text": [
      "[INFO] Keeping all rows: 89710 rows retained.\n"
     ]
    },
    {
     "name": "stdout",
     "output_type": "stream",
     "text": [
      "[INFO] Keeping all rows: 89710 rows retained.\n"
     ]
    },
    {
     "name": "stdout",
     "output_type": "stream",
     "text": [
      "[INFO] Keeping all rows: 89710 rows retained.\n"
     ]
    },
    {
     "data": {
      "text/html": [
       "<div>\n",
       "<style scoped>\n",
       "    .dataframe tbody tr th:only-of-type {\n",
       "        vertical-align: middle;\n",
       "    }\n",
       "\n",
       "    .dataframe tbody tr th {\n",
       "        vertical-align: top;\n",
       "    }\n",
       "\n",
       "    .dataframe thead th {\n",
       "        text-align: right;\n",
       "    }\n",
       "</style>\n",
       "<table border=\"1\" class=\"dataframe\">\n",
       "  <thead>\n",
       "    <tr style=\"text-align: right;\">\n",
       "      <th></th>\n",
       "      <th>run_no</th>\n",
       "      <th>universe_id</th>\n",
       "      <th>universe_settings</th>\n",
       "      <th>execution_time</th>\n",
       "      <th>test_size_n</th>\n",
       "      <th>test_size_frac</th>\n",
       "      <th>fair_main_equalized_odds_difference</th>\n",
       "      <th>fair_main_equalized_odds_ratio</th>\n",
       "      <th>fair_main_demographic_parity_difference</th>\n",
       "      <th>fair_main_demographic_parity_ratio</th>\n",
       "      <th>...</th>\n",
       "      <th>perf_grp_precision_0</th>\n",
       "      <th>perf_grp_precision_1</th>\n",
       "      <th>perf_grp_false positive rate_0</th>\n",
       "      <th>perf_grp_false positive rate_1</th>\n",
       "      <th>perf_grp_false negative rate_0</th>\n",
       "      <th>perf_grp_false negative rate_1</th>\n",
       "      <th>perf_grp_selection rate_0</th>\n",
       "      <th>perf_grp_selection rate_1</th>\n",
       "      <th>perf_grp_count_0</th>\n",
       "      <th>perf_grp_count_1</th>\n",
       "    </tr>\n",
       "  </thead>\n",
       "  <tbody>\n",
       "    <tr>\n",
       "      <th>0</th>\n",
       "      <td>14</td>\n",
       "      <td>add91b5695ead62650d0d7315ae20b81</td>\n",
       "      <td>{\"cutoff\": \"quantile_0.1\", \"eval_fairness_grou...</td>\n",
       "      <td>31.366056</td>\n",
       "      <td>89710</td>\n",
       "      <td>1.0</td>\n",
       "      <td>0.069150</td>\n",
       "      <td>0.926563</td>\n",
       "      <td>0.060806</td>\n",
       "      <td>0.935783</td>\n",
       "      <td>...</td>\n",
       "      <td>NaN</td>\n",
       "      <td>NaN</td>\n",
       "      <td>NaN</td>\n",
       "      <td>NaN</td>\n",
       "      <td>NaN</td>\n",
       "      <td>NaN</td>\n",
       "      <td>NaN</td>\n",
       "      <td>NaN</td>\n",
       "      <td>NaN</td>\n",
       "      <td>NaN</td>\n",
       "    </tr>\n",
       "    <tr>\n",
       "      <th>0</th>\n",
       "      <td>14</td>\n",
       "      <td>add91b5695ead62650d0d7315ae20b81</td>\n",
       "      <td>{\"cutoff\": \"quantile_0.1\", \"eval_fairness_grou...</td>\n",
       "      <td>31.366056</td>\n",
       "      <td>89710</td>\n",
       "      <td>1.0</td>\n",
       "      <td>0.069150</td>\n",
       "      <td>0.926563</td>\n",
       "      <td>0.060806</td>\n",
       "      <td>0.935783</td>\n",
       "      <td>...</td>\n",
       "      <td>0.120212</td>\n",
       "      <td>0.145472</td>\n",
       "      <td>0.941613</td>\n",
       "      <td>0.872464</td>\n",
       "      <td>0.012669</td>\n",
       "      <td>0.024508</td>\n",
       "      <td>0.946884</td>\n",
       "      <td>0.886078</td>\n",
       "      <td>20540.0</td>\n",
       "      <td>69170.0</td>\n",
       "    </tr>\n",
       "    <tr>\n",
       "      <th>0</th>\n",
       "      <td>14</td>\n",
       "      <td>add91b5695ead62650d0d7315ae20b81</td>\n",
       "      <td>{\"cutoff\": \"quantile_0.25\", \"eval_fairness_gro...</td>\n",
       "      <td>31.366056</td>\n",
       "      <td>89710</td>\n",
       "      <td>1.0</td>\n",
       "      <td>0.150672</td>\n",
       "      <td>0.820670</td>\n",
       "      <td>0.134438</td>\n",
       "      <td>0.842514</td>\n",
       "      <td>...</td>\n",
       "      <td>NaN</td>\n",
       "      <td>NaN</td>\n",
       "      <td>NaN</td>\n",
       "      <td>NaN</td>\n",
       "      <td>NaN</td>\n",
       "      <td>NaN</td>\n",
       "      <td>NaN</td>\n",
       "      <td>NaN</td>\n",
       "      <td>NaN</td>\n",
       "      <td>NaN</td>\n",
       "    </tr>\n",
       "    <tr>\n",
       "      <th>0</th>\n",
       "      <td>14</td>\n",
       "      <td>add91b5695ead62650d0d7315ae20b81</td>\n",
       "      <td>{\"cutoff\": \"quantile_0.25\", \"eval_fairness_gro...</td>\n",
       "      <td>31.366056</td>\n",
       "      <td>89710</td>\n",
       "      <td>1.0</td>\n",
       "      <td>0.150672</td>\n",
       "      <td>0.820670</td>\n",
       "      <td>0.134438</td>\n",
       "      <td>0.842514</td>\n",
       "      <td>...</td>\n",
       "      <td>0.129235</td>\n",
       "      <td>0.167967</td>\n",
       "      <td>0.840194</td>\n",
       "      <td>0.689522</td>\n",
       "      <td>0.043074</td>\n",
       "      <td>0.085777</td>\n",
       "      <td>0.853651</td>\n",
       "      <td>0.719214</td>\n",
       "      <td>20540.0</td>\n",
       "      <td>69170.0</td>\n",
       "    </tr>\n",
       "  </tbody>\n",
       "</table>\n",
       "<p>4 rows × 50 columns</p>\n",
       "</div>"
      ],
      "text/plain": [
       "  run_no                       universe_id  \\\n",
       "0     14  add91b5695ead62650d0d7315ae20b81   \n",
       "0     14  add91b5695ead62650d0d7315ae20b81   \n",
       "0     14  add91b5695ead62650d0d7315ae20b81   \n",
       "0     14  add91b5695ead62650d0d7315ae20b81   \n",
       "\n",
       "                                   universe_settings  execution_time  \\\n",
       "0  {\"cutoff\": \"quantile_0.1\", \"eval_fairness_grou...       31.366056   \n",
       "0  {\"cutoff\": \"quantile_0.1\", \"eval_fairness_grou...       31.366056   \n",
       "0  {\"cutoff\": \"quantile_0.25\", \"eval_fairness_gro...       31.366056   \n",
       "0  {\"cutoff\": \"quantile_0.25\", \"eval_fairness_gro...       31.366056   \n",
       "\n",
       "   test_size_n  test_size_frac  fair_main_equalized_odds_difference  \\\n",
       "0        89710             1.0                             0.069150   \n",
       "0        89710             1.0                             0.069150   \n",
       "0        89710             1.0                             0.150672   \n",
       "0        89710             1.0                             0.150672   \n",
       "\n",
       "   fair_main_equalized_odds_ratio  fair_main_demographic_parity_difference  \\\n",
       "0                        0.926563                                 0.060806   \n",
       "0                        0.926563                                 0.060806   \n",
       "0                        0.820670                                 0.134438   \n",
       "0                        0.820670                                 0.134438   \n",
       "\n",
       "   fair_main_demographic_parity_ratio  ...  perf_grp_precision_0  \\\n",
       "0                            0.935783  ...                   NaN   \n",
       "0                            0.935783  ...              0.120212   \n",
       "0                            0.842514  ...                   NaN   \n",
       "0                            0.842514  ...              0.129235   \n",
       "\n",
       "   perf_grp_precision_1  perf_grp_false positive rate_0  \\\n",
       "0                   NaN                             NaN   \n",
       "0              0.145472                        0.941613   \n",
       "0                   NaN                             NaN   \n",
       "0              0.167967                        0.840194   \n",
       "\n",
       "   perf_grp_false positive rate_1  perf_grp_false negative rate_0  \\\n",
       "0                             NaN                             NaN   \n",
       "0                        0.872464                        0.012669   \n",
       "0                             NaN                             NaN   \n",
       "0                        0.689522                        0.043074   \n",
       "\n",
       "   perf_grp_false negative rate_1  perf_grp_selection rate_0  \\\n",
       "0                             NaN                        NaN   \n",
       "0                        0.024508                   0.946884   \n",
       "0                             NaN                        NaN   \n",
       "0                        0.085777                   0.853651   \n",
       "\n",
       "   perf_grp_selection rate_1  perf_grp_count_0  perf_grp_count_1  \n",
       "0                        NaN               NaN               NaN  \n",
       "0                   0.886078           20540.0           69170.0  \n",
       "0                        NaN               NaN               NaN  \n",
       "0                   0.719214           20540.0           69170.0  \n",
       "\n",
       "[4 rows x 50 columns]"
      ]
     },
     "execution_count": 79,
     "metadata": {},
     "output_type": "execute_result"
    }
   ],
   "source": [
    "final_output = universe_analysis.generate_final_output(\n",
    "    y_pred_prob=probs_test,\n",
    "    y_test=y_true,\n",
    "    org_test=org_test,\n",
    "    filter_data=filter_sub_universe_data,\n",
    "    cp_metrics_df=cp_metrics_df,\n",
    "    save=True,\n",
    ")\n",
    "final_output"
   ]
  },
  {
   "cell_type": "code",
   "execution_count": null,
   "id": "721ff514-cb11-46f8-b6fc-50392f74b5cb",
   "metadata": {
    "papermill": {
     "duration": 0.030972,
     "end_time": "2025-07-30T21:53:09.495794",
     "exception": false,
     "start_time": "2025-07-30T21:53:09.464822",
     "status": "completed"
    },
    "tags": []
   },
   "outputs": [],
   "source": []
  }
 ],
 "metadata": {
  "celltoolbar": "Tags",
  "kernelspec": {
   "display_name": "Python (CMA Fairness)",
   "language": "python",
   "name": "cma_fair_env"
  },
  "language_info": {
   "codemirror_mode": {
    "name": "ipython",
    "version": 3
   },
   "file_extension": ".py",
   "mimetype": "text/x-python",
   "name": "python",
   "nbconvert_exporter": "python",
   "pygments_lexer": "ipython3",
   "version": "3.10.12"
  },
  "papermill": {
   "default_parameters": {},
   "duration": 45.613899,
   "end_time": "2025-07-30T21:53:10.448285",
   "environment_variables": {},
   "exception": null,
   "input_path": "universe_analysis.ipynb",
   "output_path": "output/runs/14/notebooks/m_14-add91b5695ead62650d0d7315ae20b81.ipynb",
   "parameters": {
    "output_dir": "output",
    "run_no": "14",
    "seed": "2023",
    "universe": "{\"cutoff\": [\"quantile_0.1\", \"quantile_0.25\"], \"eval_fairness_grouping\": [\"majority-minority\", \"nationality-all\"], \"exclude_features\": \"nationality-sex\", \"exclude_subgroups\": \"drop-non-german\", \"model\": \"gbm\", \"scale\": \"do-not-scale\", \"training_size\": \"1k\", \"training_year\": \"2010_14\"}",
    "universe_id": "add91b5695ead62650d0d7315ae20b81"
   },
   "start_time": "2025-07-30T21:52:24.834386",
   "version": "2.6.0"
  }
 },
 "nbformat": 4,
 "nbformat_minor": 5
}