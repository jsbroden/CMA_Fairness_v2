{
 "cells": [
  {
   "cell_type": "code",
   "execution_count": 1,
   "id": "f159f837-637b-42ba-96b5-ec9a68c44524",
   "metadata": {
    "execution": {
     "iopub.execute_input": "2025-07-30T21:07:08.944914Z",
     "iopub.status.busy": "2025-07-30T21:07:08.944154Z",
     "iopub.status.idle": "2025-07-30T21:07:08.958300Z",
     "shell.execute_reply": "2025-07-30T21:07:08.957232Z"
    },
    "papermill": {
     "duration": 0.03983,
     "end_time": "2025-07-30T21:07:08.960097",
     "exception": false,
     "start_time": "2025-07-30T21:07:08.920267",
     "status": "completed"
    },
    "tags": []
   },
   "outputs": [
    {
     "name": "stdout",
     "output_type": "stream",
     "text": [
      "/dss/dsshome1/0C/ra93lal2/cma/CMA_Fairness_v2\n"
     ]
    },
    {
     "name": "stderr",
     "output_type": "stream",
     "text": [
      "/dss/dsshome1/0C/ra93lal2/.local/share/virtualenvs/CMA_Fairness_v2-3j10GkSs/lib/python3.10/site-packages/IPython/core/magics/osm.py:393: UserWarning: This is now an optional IPython functionality, using bookmarks requires you to install the `pickleshare` library.\n",
      "  bkms = self.shell.db.get('bookmarks', {})\n",
      "/dss/dsshome1/0C/ra93lal2/.local/share/virtualenvs/CMA_Fairness_v2-3j10GkSs/lib/python3.10/site-packages/IPython/core/magics/osm.py:417: UserWarning: This is now an optional IPython functionality, setting dhist requires you to install the `pickleshare` library.\n",
      "  self.shell.db['dhist'] = compress_dhist(dhist)[-100:]\n"
     ]
    }
   ],
   "source": [
    "%cd ~/cma/CMA_Fairness_v2"
   ]
  },
  {
   "cell_type": "markdown",
   "id": "de2603b9",
   "metadata": {
    "papermill": {
     "duration": 0.022404,
     "end_time": "2025-07-30T21:07:09.005318",
     "exception": false,
     "start_time": "2025-07-30T21:07:08.982914",
     "status": "completed"
    },
    "tags": []
   },
   "source": [
    "The following cell holds the definition of our parameters, these values can be overriden by rendering the with e.g. the following command:\n",
    "\n",
    "papermill -p alpha 0.2 -p ratio 0.3 universe_analysis.ipynb output/test_run.ipynb"
   ]
  },
  {
   "cell_type": "code",
   "execution_count": 2,
   "id": "a80968a0-40bb-4fa9-85ef-2d5eefb01975",
   "metadata": {
    "execution": {
     "iopub.execute_input": "2025-07-30T21:07:09.052207Z",
     "iopub.status.busy": "2025-07-30T21:07:09.051434Z",
     "iopub.status.idle": "2025-07-30T21:07:09.057596Z",
     "shell.execute_reply": "2025-07-30T21:07:09.056549Z"
    },
    "papermill": {
     "duration": 0.031883,
     "end_time": "2025-07-30T21:07:09.059381",
     "exception": false,
     "start_time": "2025-07-30T21:07:09.027498",
     "status": "completed"
    },
    "tags": []
   },
   "outputs": [
    {
     "name": "stdout",
     "output_type": "stream",
     "text": [
      "Current working directory: /dss/dsshome1/0C/ra93lal2/cma/CMA_Fairness_v2\n"
     ]
    }
   ],
   "source": [
    "import os\n",
    "print(\"Current working directory:\", os.getcwd())"
   ]
  },
  {
   "cell_type": "code",
   "execution_count": 3,
   "id": "2dce4c03",
   "metadata": {
    "execution": {
     "iopub.execute_input": "2025-07-30T21:07:09.108073Z",
     "iopub.status.busy": "2025-07-30T21:07:09.107068Z",
     "iopub.status.idle": "2025-07-30T21:07:09.113505Z",
     "shell.execute_reply": "2025-07-30T21:07:09.112530Z"
    },
    "papermill": {
     "duration": 0.032441,
     "end_time": "2025-07-30T21:07:09.115293",
     "exception": false,
     "start_time": "2025-07-30T21:07:09.082852",
     "status": "completed"
    },
    "tags": [
     "parameters"
    ]
   },
   "outputs": [],
   "source": [
    "run_no = 0\n",
    "universe_id = \"test\"\n",
    "universe = {\n",
    "    \"training_size\": \"25k\", # \"25k\", \"5k\", \"1k\"\n",
    "    \"training_year\": \"2014\", # \"2014\", \"2012_14\", \"2010_14\"\n",
    "    \"scale\": \"scale\", # \"scale\", \"do-not-scale\",\n",
    "    #\"stratify_split\": \"target\", # \"none\", \"target\", \"protected-attribute\", \"both\",\n",
    "    \"model\": \"elasticnet\", # \"logreg\", \"penalized_logreg\", \"rf\", \"gbm\", \"elasticnet\"\n",
    "    \"cutoff\": [\"quantile_0.15\", \"quantile_0.30\"],\n",
    "    \"exclude_features\": \"age\", # \"none\", \"nationality\", \"sex\", \"nationality-sex\", \"age\"\n",
    "    \"exclude_subgroups\": \"keep-all\", # \"keep-all\", \"drop-non-german\"\n",
    "    \"eval_fairness_grouping\": [\"majority-minority\", \"nationality-all\"]\n",
    "}\n",
    "\n",
    "output_dir=\"./output\"\n",
    "seed=0"
   ]
  },
  {
   "cell_type": "code",
   "execution_count": 4,
   "id": "9352b816",
   "metadata": {
    "execution": {
     "iopub.execute_input": "2025-07-30T21:07:09.164326Z",
     "iopub.status.busy": "2025-07-30T21:07:09.163284Z",
     "iopub.status.idle": "2025-07-30T21:07:09.169579Z",
     "shell.execute_reply": "2025-07-30T21:07:09.168587Z"
    },
    "papermill": {
     "duration": 0.032764,
     "end_time": "2025-07-30T21:07:09.171597",
     "exception": false,
     "start_time": "2025-07-30T21:07:09.138833",
     "status": "completed"
    },
    "tags": [
     "injected-parameters"
    ]
   },
   "outputs": [],
   "source": [
    "# Parameters\n",
    "universe_id = \"99782de0877ed794252b15f7335e26f3\"\n",
    "run_no = \"14\"\n",
    "universe = \"{\\\"cutoff\\\": [\\\"quantile_0.1\\\", \\\"quantile_0.25\\\"], \\\"eval_fairness_grouping\\\": [\\\"majority-minority\\\", \\\"nationality-all\\\"], \\\"exclude_features\\\": \\\"nationality\\\", \\\"exclude_subgroups\\\": \\\"drop-non-german\\\", \\\"model\\\": \\\"elasticnet\\\", \\\"scale\\\": \\\"do-not-scale\\\", \\\"training_size\\\": \\\"5k\\\", \\\"training_year\\\": \\\"2012_14\\\"}\"\n",
    "output_dir = \"output\"\n",
    "seed = \"2023\"\n"
   ]
  },
  {
   "cell_type": "code",
   "execution_count": 5,
   "id": "1650acaf",
   "metadata": {
    "execution": {
     "iopub.execute_input": "2025-07-30T21:07:09.220702Z",
     "iopub.status.busy": "2025-07-30T21:07:09.219820Z",
     "iopub.status.idle": "2025-07-30T21:07:09.225474Z",
     "shell.execute_reply": "2025-07-30T21:07:09.224490Z"
    },
    "papermill": {
     "duration": 0.032351,
     "end_time": "2025-07-30T21:07:09.227354",
     "exception": false,
     "start_time": "2025-07-30T21:07:09.195003",
     "status": "completed"
    },
    "tags": []
   },
   "outputs": [],
   "source": [
    "import json\n",
    "# Parse universe into dict if it is passed as a string\n",
    "if isinstance(universe, str):\n",
    "    universe = json.loads(universe)"
   ]
  },
  {
   "cell_type": "code",
   "execution_count": 6,
   "id": "16620c48",
   "metadata": {
    "execution": {
     "iopub.execute_input": "2025-07-30T21:07:09.277091Z",
     "iopub.status.busy": "2025-07-30T21:07:09.276497Z",
     "iopub.status.idle": "2025-07-30T21:07:09.325041Z",
     "shell.execute_reply": "2025-07-30T21:07:09.323888Z"
    },
    "papermill": {
     "duration": 0.075831,
     "end_time": "2025-07-30T21:07:09.327295",
     "exception": false,
     "start_time": "2025-07-30T21:07:09.251464",
     "status": "completed"
    },
    "tags": []
   },
   "outputs": [],
   "source": [
    "# Auto-reload the custom package\n",
    "%load_ext autoreload\n",
    "%autoreload 1\n",
    "%aimport fairness_multiverse"
   ]
  },
  {
   "cell_type": "code",
   "execution_count": 7,
   "id": "01c5c9f3",
   "metadata": {
    "execution": {
     "iopub.execute_input": "2025-07-30T21:07:09.372239Z",
     "iopub.status.busy": "2025-07-30T21:07:09.371494Z",
     "iopub.status.idle": "2025-07-30T21:07:11.227835Z",
     "shell.execute_reply": "2025-07-30T21:07:11.226922Z"
    },
    "papermill": {
     "duration": 1.879535,
     "end_time": "2025-07-30T21:07:11.230237",
     "exception": false,
     "start_time": "2025-07-30T21:07:09.350702",
     "status": "completed"
    },
    "tags": []
   },
   "outputs": [],
   "source": [
    "from fairness_multiverse.universe import UniverseAnalysis\n",
    "\n",
    "universe_analysis = UniverseAnalysis(\n",
    "    run_no = run_no,\n",
    "    universe_id = universe_id,\n",
    "    universe = universe,\n",
    "    output_dir=output_dir,\n",
    ")"
   ]
  },
  {
   "cell_type": "code",
   "execution_count": 8,
   "id": "106241f5",
   "metadata": {
    "execution": {
     "iopub.execute_input": "2025-07-30T21:07:11.272444Z",
     "iopub.status.busy": "2025-07-30T21:07:11.271494Z",
     "iopub.status.idle": "2025-07-30T21:07:11.291116Z",
     "shell.execute_reply": "2025-07-30T21:07:11.289878Z"
    },
    "papermill": {
     "duration": 0.055229,
     "end_time": "2025-07-30T21:07:11.305070",
     "exception": false,
     "start_time": "2025-07-30T21:07:11.249841",
     "status": "completed"
    },
    "tags": []
   },
   "outputs": [
    {
     "name": "stdout",
     "output_type": "stream",
     "text": [
      "Using Seed: 2023\n"
     ]
    }
   ],
   "source": [
    "import numpy as np\n",
    "parsed_seed = int(seed)\n",
    "np.random.seed(parsed_seed)\n",
    "print(f\"Using Seed: {parsed_seed}\")"
   ]
  },
  {
   "cell_type": "markdown",
   "id": "e0ebdc57",
   "metadata": {
    "papermill": {
     "duration": 0.019326,
     "end_time": "2025-07-30T21:07:11.343524",
     "exception": false,
     "start_time": "2025-07-30T21:07:11.324198",
     "status": "completed"
    },
    "tags": []
   },
   "source": [
    "# Loading Data"
   ]
  },
  {
   "cell_type": "markdown",
   "id": "681925a3",
   "metadata": {
    "papermill": {
     "duration": 0.019728,
     "end_time": "2025-07-30T21:07:11.384279",
     "exception": false,
     "start_time": "2025-07-30T21:07:11.364551",
     "status": "completed"
    },
    "tags": []
   },
   "source": [
    "Load siab_train, siab_test, siab_calib and/or \n",
    "load siab_train_features, siab_train_labels"
   ]
  },
  {
   "cell_type": "code",
   "execution_count": 9,
   "id": "f0496b8a",
   "metadata": {
    "execution": {
     "iopub.execute_input": "2025-07-30T21:07:11.424393Z",
     "iopub.status.busy": "2025-07-30T21:07:11.423879Z",
     "iopub.status.idle": "2025-07-30T21:07:23.591545Z",
     "shell.execute_reply": "2025-07-30T21:07:23.590282Z"
    },
    "papermill": {
     "duration": 12.190807,
     "end_time": "2025-07-30T21:07:23.593413",
     "exception": false,
     "start_time": "2025-07-30T21:07:11.402606",
     "status": "completed"
    },
    "tags": []
   },
   "outputs": [
    {
     "name": "stdout",
     "output_type": "stream",
     "text": [
      "Loading SIAB data from cache: data/siab_cached.csv.gz\n"
     ]
    },
    {
     "name": "stdout",
     "output_type": "stream",
     "text": [
      "(643690, 164)\n"
     ]
    }
   ],
   "source": [
    "from pathlib import Path\n",
    "import pandas as pd\n",
    "\n",
    "# File paths\n",
    "raw_file = Path(\"data/raw/siab.csv\")\n",
    "cache_file = Path(\"data/siab_cached.csv.gz\")\n",
    "\n",
    "# Ensure cache directory exists\n",
    "cache_file.parent.mkdir(parents=True, exist_ok=True)\n",
    "\n",
    "# Load with simple caching\n",
    "if cache_file.exists():\n",
    "    print(f\"Loading SIAB data from cache: {cache_file}\")\n",
    "    siab = pd.read_csv(cache_file, compression='gzip')\n",
    "else:\n",
    "    print(f\"Cache not found. Reading raw SIAB data: {raw_file}\")\n",
    "    siab = pd.read_csv(raw_file)\n",
    "    siab.to_csv(cache_file, index=False, compression='gzip')\n",
    "    print(f\"Cached SIAB data to: {cache_file}\")\n",
    "\n",
    "# Now use `siab` DataFrame as needed\n",
    "print(siab.shape)"
   ]
  },
  {
   "cell_type": "code",
   "execution_count": 10,
   "id": "db0ca512-5f53-4dba-abdb-a2888bca41ba",
   "metadata": {
    "execution": {
     "iopub.execute_input": "2025-07-30T21:07:23.637378Z",
     "iopub.status.busy": "2025-07-30T21:07:23.636882Z",
     "iopub.status.idle": "2025-07-30T21:07:23.642518Z",
     "shell.execute_reply": "2025-07-30T21:07:23.641601Z"
    },
    "papermill": {
     "duration": 0.029284,
     "end_time": "2025-07-30T21:07:23.644669",
     "exception": false,
     "start_time": "2025-07-30T21:07:23.615385",
     "status": "completed"
    },
    "tags": []
   },
   "outputs": [],
   "source": [
    "#siab"
   ]
  },
  {
   "cell_type": "code",
   "execution_count": 11,
   "id": "a0edb063",
   "metadata": {
    "execution": {
     "iopub.execute_input": "2025-07-30T21:07:23.693362Z",
     "iopub.status.busy": "2025-07-30T21:07:23.692487Z",
     "iopub.status.idle": "2025-07-30T21:07:23.697629Z",
     "shell.execute_reply": "2025-07-30T21:07:23.696679Z"
    },
    "papermill": {
     "duration": 0.030544,
     "end_time": "2025-07-30T21:07:23.699754",
     "exception": false,
     "start_time": "2025-07-30T21:07:23.669210",
     "status": "completed"
    },
    "tags": []
   },
   "outputs": [],
   "source": [
    "#import pandas as pd\n",
    "#\n",
    "#X_train = pd.read_csv(\"./data/X_train.csv\")\n",
    "#y_train = pd.read_csv(\"./data/y_train.csv\")"
   ]
  },
  {
   "cell_type": "code",
   "execution_count": 12,
   "id": "63d08085",
   "metadata": {
    "execution": {
     "iopub.execute_input": "2025-07-30T21:07:23.742604Z",
     "iopub.status.busy": "2025-07-30T21:07:23.742139Z",
     "iopub.status.idle": "2025-07-30T21:07:23.746921Z",
     "shell.execute_reply": "2025-07-30T21:07:23.745982Z"
    },
    "papermill": {
     "duration": 0.028461,
     "end_time": "2025-07-30T21:07:23.748789",
     "exception": false,
     "start_time": "2025-07-30T21:07:23.720328",
     "status": "completed"
    },
    "tags": []
   },
   "outputs": [],
   "source": [
    "#X_test = pd.read_csv(\"./data/X_test.csv\")\n",
    "#y_true = pd.read_csv(\"./data/y_test.csv\")"
   ]
  },
  {
   "cell_type": "code",
   "execution_count": 13,
   "id": "98a8d0fa-1d3d-4ed8-bb2c-281470e24add",
   "metadata": {
    "execution": {
     "iopub.execute_input": "2025-07-30T21:07:23.793352Z",
     "iopub.status.busy": "2025-07-30T21:07:23.792931Z",
     "iopub.status.idle": "2025-07-30T21:07:23.797312Z",
     "shell.execute_reply": "2025-07-30T21:07:23.796425Z"
    },
    "papermill": {
     "duration": 0.027792,
     "end_time": "2025-07-30T21:07:23.799102",
     "exception": false,
     "start_time": "2025-07-30T21:07:23.771310",
     "status": "completed"
    },
    "tags": []
   },
   "outputs": [],
   "source": [
    "# Calibration data for conformal\n",
    "#X_calib = pd.read_csv(\"./data/X_calib.csv\")\n",
    "#y_calib = pd.read_csv(\"./data/y_calib.csv\")"
   ]
  },
  {
   "cell_type": "markdown",
   "id": "997051c5-15bd-4b69-9786-c3001a3ce484",
   "metadata": {
    "papermill": {
     "duration": 0.021266,
     "end_time": "2025-07-30T21:07:23.842229",
     "exception": false,
     "start_time": "2025-07-30T21:07:23.820963",
     "status": "completed"
    },
    "tags": []
   },
   "source": [
    "# Splitting Data and Setting Training Data Size"
   ]
  },
  {
   "cell_type": "code",
   "execution_count": 14,
   "id": "e993b61f-042d-41a6-8c81-f55681f86335",
   "metadata": {
    "execution": {
     "iopub.execute_input": "2025-07-30T21:07:23.886906Z",
     "iopub.status.busy": "2025-07-30T21:07:23.886474Z",
     "iopub.status.idle": "2025-07-30T21:07:23.899623Z",
     "shell.execute_reply": "2025-07-30T21:07:23.898634Z"
    },
    "papermill": {
     "duration": 0.037761,
     "end_time": "2025-07-30T21:07:23.901481",
     "exception": false,
     "start_time": "2025-07-30T21:07:23.863720",
     "status": "completed"
    },
    "tags": []
   },
   "outputs": [],
   "source": [
    "def sample_by_year_size(df,\n",
    "                        training_year: str,\n",
    "                        training_size: str,\n",
    "                        random_state: int = 42):\n",
    "    # --- parse training_year into a list of int years ---\n",
    "    if \"_\" in training_year:\n",
    "        start_str, end_str = training_year.split(\"_\", 1)\n",
    "        start = int(start_str)\n",
    "        end   = int(end_str) if len(end_str) == 4 else (int(end_str) + (start // 100)*100)\n",
    "        years = list(range(start, end + 1))\n",
    "    else:\n",
    "        years = [int(training_year)]\n",
    "\n",
    "    df = df[df[\"year\"].isin(years)].reset_index(drop=True)\n",
    "\n",
    "    # --- map training_size to total number of samples ---\n",
    "    total_map = {\"25k\": 25_000, \"5k\": 5_000, \"1k\": 1_000}\n",
    "    if training_size not in total_map:\n",
    "        return df  # e.g. \"all\"\n",
    "\n",
    "    total_samples = total_map[training_size]\n",
    "    n_years       = len(years)\n",
    "    base          = total_samples // n_years\n",
    "    remainder     = total_samples % n_years\n",
    "\n",
    "    # --- build a dict: year -> how many to sample ---\n",
    "    # give +1 to the first `remainder` years in ascending order\n",
    "    quotas = {\n",
    "        year: base + (1 if idx < remainder else 0)\n",
    "        for idx, year in enumerate(sorted(years))\n",
    "    }\n",
    "\n",
    "    # --- sample per‐year according to the quota dict ---\n",
    "    sampled = (\n",
    "        df\n",
    "        .groupby(\"year\", group_keys=False)\n",
    "        .apply(lambda grp: grp.sample(\n",
    "            n=min(len(grp), quotas[grp.name]),\n",
    "            random_state=random_state))\n",
    "        .reset_index(drop=True)\n",
    "    )\n",
    "\n",
    "    return sampled"
   ]
  },
  {
   "cell_type": "code",
   "execution_count": 15,
   "id": "c0ccd338-0e02-41f3-a09d-f56f9266e3fb",
   "metadata": {
    "execution": {
     "iopub.execute_input": "2025-07-30T21:07:23.943654Z",
     "iopub.status.busy": "2025-07-30T21:07:23.943203Z",
     "iopub.status.idle": "2025-07-30T21:07:23.947958Z",
     "shell.execute_reply": "2025-07-30T21:07:23.947019Z"
    },
    "papermill": {
     "duration": 0.02759,
     "end_time": "2025-07-30T21:07:23.949616",
     "exception": false,
     "start_time": "2025-07-30T21:07:23.922026",
     "status": "completed"
    },
    "tags": []
   },
   "outputs": [],
   "source": [
    "#universe[\"training_size\"]"
   ]
  },
  {
   "cell_type": "code",
   "execution_count": 16,
   "id": "ca707fd7-8047-4acd-bfa5-66248fbbf8e6",
   "metadata": {
    "execution": {
     "iopub.execute_input": "2025-07-30T21:07:23.992624Z",
     "iopub.status.busy": "2025-07-30T21:07:23.991656Z",
     "iopub.status.idle": "2025-07-30T21:07:23.996499Z",
     "shell.execute_reply": "2025-07-30T21:07:23.995655Z"
    },
    "papermill": {
     "duration": 0.036255,
     "end_time": "2025-07-30T21:07:24.006155",
     "exception": false,
     "start_time": "2025-07-30T21:07:23.969900",
     "status": "completed"
    },
    "tags": []
   },
   "outputs": [],
   "source": [
    "#universe[\"training_year\"]"
   ]
  },
  {
   "cell_type": "code",
   "execution_count": 17,
   "id": "aea9c6ef-6f46-42c8-85eb-5a62025c1508",
   "metadata": {
    "execution": {
     "iopub.execute_input": "2025-07-30T21:07:24.049968Z",
     "iopub.status.busy": "2025-07-30T21:07:24.049455Z",
     "iopub.status.idle": "2025-07-30T21:07:24.668748Z",
     "shell.execute_reply": "2025-07-30T21:07:24.667800Z"
    },
    "papermill": {
     "duration": 0.642624,
     "end_time": "2025-07-30T21:07:24.670575",
     "exception": false,
     "start_time": "2025-07-30T21:07:24.027951",
     "status": "completed"
    },
    "tags": []
   },
   "outputs": [],
   "source": [
    "siab_train = sample_by_year_size(siab,\n",
    "                               training_year=universe[\"training_year\"],\n",
    "                               training_size=universe[\"training_size\"])"
   ]
  },
  {
   "cell_type": "code",
   "execution_count": 18,
   "id": "8d3afb32-789d-442c-8d5d-9f5aa8dd2eed",
   "metadata": {
    "execution": {
     "iopub.execute_input": "2025-07-30T21:07:24.713130Z",
     "iopub.status.busy": "2025-07-30T21:07:24.712425Z",
     "iopub.status.idle": "2025-07-30T21:07:24.717546Z",
     "shell.execute_reply": "2025-07-30T21:07:24.716607Z"
    },
    "papermill": {
     "duration": 0.034184,
     "end_time": "2025-07-30T21:07:24.725152",
     "exception": false,
     "start_time": "2025-07-30T21:07:24.690968",
     "status": "completed"
    },
    "tags": []
   },
   "outputs": [],
   "source": [
    "#siab_train.shape"
   ]
  },
  {
   "cell_type": "code",
   "execution_count": 19,
   "id": "d582db68-1a4c-47fb-84fc-08518dc1975a",
   "metadata": {
    "execution": {
     "iopub.execute_input": "2025-07-30T21:07:24.767108Z",
     "iopub.status.busy": "2025-07-30T21:07:24.766662Z",
     "iopub.status.idle": "2025-07-30T21:07:24.771588Z",
     "shell.execute_reply": "2025-07-30T21:07:24.770692Z"
    },
    "papermill": {
     "duration": 0.028089,
     "end_time": "2025-07-30T21:07:24.773343",
     "exception": false,
     "start_time": "2025-07-30T21:07:24.745254",
     "status": "completed"
    },
    "tags": []
   },
   "outputs": [],
   "source": [
    "#display(siab_train.groupby(\"year\").size())"
   ]
  },
  {
   "cell_type": "code",
   "execution_count": 20,
   "id": "a561edb4-d032-42cb-8256-22eac1111c64",
   "metadata": {
    "execution": {
     "iopub.execute_input": "2025-07-30T21:07:24.816820Z",
     "iopub.status.busy": "2025-07-30T21:07:24.816327Z",
     "iopub.status.idle": "2025-07-30T21:07:25.092110Z",
     "shell.execute_reply": "2025-07-30T21:07:25.091111Z"
    },
    "papermill": {
     "duration": 0.299571,
     "end_time": "2025-07-30T21:07:25.094003",
     "exception": false,
     "start_time": "2025-07-30T21:07:24.794432",
     "status": "completed"
    },
    "tags": []
   },
   "outputs": [],
   "source": [
    "#siab_train = siab_s[siab_s.year < 2015]\n",
    "siab_calib = siab[siab.year == 2015]\n",
    "siab_test = siab[siab.year == 2016]"
   ]
  },
  {
   "cell_type": "code",
   "execution_count": 21,
   "id": "472de16f-c3db-4916-846b-1f0de9cf1746",
   "metadata": {
    "execution": {
     "iopub.execute_input": "2025-07-30T21:07:25.139075Z",
     "iopub.status.busy": "2025-07-30T21:07:25.138669Z",
     "iopub.status.idle": "2025-07-30T21:07:25.145919Z",
     "shell.execute_reply": "2025-07-30T21:07:25.145122Z"
    },
    "papermill": {
     "duration": 0.031894,
     "end_time": "2025-07-30T21:07:25.147106",
     "exception": false,
     "start_time": "2025-07-30T21:07:25.115212",
     "status": "completed"
    },
    "tags": []
   },
   "outputs": [],
   "source": [
    "X_train = siab_train.iloc[:,4:164]\n",
    "y_train = siab_train.iloc[:, [3]]"
   ]
  },
  {
   "cell_type": "code",
   "execution_count": 22,
   "id": "828c96af-f43a-4ed6-ba47-8ac73a47d56c",
   "metadata": {
    "execution": {
     "iopub.execute_input": "2025-07-30T21:07:25.174122Z",
     "iopub.status.busy": "2025-07-30T21:07:25.173707Z",
     "iopub.status.idle": "2025-07-30T21:07:25.210704Z",
     "shell.execute_reply": "2025-07-30T21:07:25.209657Z"
    },
    "papermill": {
     "duration": 0.053738,
     "end_time": "2025-07-30T21:07:25.212723",
     "exception": false,
     "start_time": "2025-07-30T21:07:25.158985",
     "status": "completed"
    },
    "tags": []
   },
   "outputs": [],
   "source": [
    "X_calib = siab_calib.iloc[:,4:164]\n",
    "y_calib = siab_calib.iloc[:, [3]]"
   ]
  },
  {
   "cell_type": "code",
   "execution_count": 23,
   "id": "c34be9c3-6bd6-476e-acd3-845840e303be",
   "metadata": {
    "execution": {
     "iopub.execute_input": "2025-07-30T21:07:25.261719Z",
     "iopub.status.busy": "2025-07-30T21:07:25.260824Z",
     "iopub.status.idle": "2025-07-30T21:07:25.314010Z",
     "shell.execute_reply": "2025-07-30T21:07:25.312867Z"
    },
    "papermill": {
     "duration": 0.07902,
     "end_time": "2025-07-30T21:07:25.316083",
     "exception": false,
     "start_time": "2025-07-30T21:07:25.237063",
     "status": "completed"
    },
    "tags": []
   },
   "outputs": [],
   "source": [
    "X_test = siab_test.iloc[:,4:164]\n",
    "y_true = siab_test.iloc[:, [3]]"
   ]
  },
  {
   "cell_type": "markdown",
   "id": "9901737e-04df-44f0-9100-f5ad144ed040",
   "metadata": {
    "papermill": {
     "duration": 0.020855,
     "end_time": "2025-07-30T21:07:25.358576",
     "exception": false,
     "start_time": "2025-07-30T21:07:25.337721",
     "status": "completed"
    },
    "tags": []
   },
   "source": [
    "# Splitting Data and Setting Training Data Size OLD VERSION"
   ]
  },
  {
   "cell_type": "code",
   "execution_count": 24,
   "id": "acbc8f7d-8fc8-4e86-8c59-5dcb0f58384b",
   "metadata": {
    "execution": {
     "iopub.execute_input": "2025-07-30T21:07:25.401642Z",
     "iopub.status.busy": "2025-07-30T21:07:25.401142Z",
     "iopub.status.idle": "2025-07-30T21:07:25.407057Z",
     "shell.execute_reply": "2025-07-30T21:07:25.406174Z"
    },
    "papermill": {
     "duration": 0.029408,
     "end_time": "2025-07-30T21:07:25.408636",
     "exception": false,
     "start_time": "2025-07-30T21:07:25.379228",
     "status": "completed"
    },
    "tags": []
   },
   "outputs": [],
   "source": [
    "#def sample_by_year(df, training_size, random_state=42):\n",
    "#    if training_size == \"2014\":\n",
    "#        return df[df[\"year\"] == 2014].reset_index(drop=True)\n",
    "#    \n",
    "#    size_map = {\n",
    "#        \"25k\": 5000,\n",
    "#        \"5k\": 1000,\n",
    "#        \"1k\": 200\n",
    "#    }\n",
    "#\n",
    "#    if training_size not in size_map:\n",
    "#        return df.reset_index(drop=True)  # use all data\n",
    "#\n",
    "#    n_per_year = size_map[training_size]\n",
    "#    grouped = df.groupby(\"year\")\n",
    "#    sampled = grouped.apply(lambda x: x.sample(n=min(n_per_year, len(x)), random_state=random_state))\n",
    "#    return sampled.reset_index(drop=True)"
   ]
  },
  {
   "cell_type": "code",
   "execution_count": 25,
   "id": "6d931f52-beaf-43ff-9e78-9d44a448d54e",
   "metadata": {
    "execution": {
     "iopub.execute_input": "2025-07-30T21:07:25.451621Z",
     "iopub.status.busy": "2025-07-30T21:07:25.450994Z",
     "iopub.status.idle": "2025-07-30T21:07:25.455910Z",
     "shell.execute_reply": "2025-07-30T21:07:25.455065Z"
    },
    "papermill": {
     "duration": 0.027874,
     "end_time": "2025-07-30T21:07:25.457381",
     "exception": false,
     "start_time": "2025-07-30T21:07:25.429507",
     "status": "completed"
    },
    "tags": []
   },
   "outputs": [],
   "source": [
    "#siab_s = sample_by_year(siab, universe[\"training_size\"])"
   ]
  },
  {
   "cell_type": "code",
   "execution_count": 26,
   "id": "5db0a40e-a4e2-4920-be85-b12ae061d70d",
   "metadata": {
    "execution": {
     "iopub.execute_input": "2025-07-30T21:07:25.498433Z",
     "iopub.status.busy": "2025-07-30T21:07:25.497579Z",
     "iopub.status.idle": "2025-07-30T21:07:25.502336Z",
     "shell.execute_reply": "2025-07-30T21:07:25.501509Z"
    },
    "papermill": {
     "duration": 0.026639,
     "end_time": "2025-07-30T21:07:25.503915",
     "exception": false,
     "start_time": "2025-07-30T21:07:25.477276",
     "status": "completed"
    },
    "tags": []
   },
   "outputs": [],
   "source": [
    "#display(siab_s.groupby(\"year\").size())"
   ]
  },
  {
   "cell_type": "code",
   "execution_count": 27,
   "id": "e6c733c5",
   "metadata": {
    "execution": {
     "iopub.execute_input": "2025-07-30T21:07:25.544603Z",
     "iopub.status.busy": "2025-07-30T21:07:25.543981Z",
     "iopub.status.idle": "2025-07-30T21:07:25.641956Z",
     "shell.execute_reply": "2025-07-30T21:07:25.641049Z"
    },
    "papermill": {
     "duration": 0.120104,
     "end_time": "2025-07-30T21:07:25.643793",
     "exception": false,
     "start_time": "2025-07-30T21:07:25.523689",
     "status": "completed"
    },
    "tags": []
   },
   "outputs": [],
   "source": [
    "# Auxiliary data needed downstream in the pipeline\n",
    "\n",
    "org_train = X_train.copy()\n",
    "org_test = X_test.copy()\n",
    "org_calib = X_calib.copy()"
   ]
  },
  {
   "cell_type": "code",
   "execution_count": 28,
   "id": "1466abac-c6da-4492-a62f-4240ae3783af",
   "metadata": {
    "execution": {
     "iopub.execute_input": "2025-07-30T21:07:25.686076Z",
     "iopub.status.busy": "2025-07-30T21:07:25.685452Z",
     "iopub.status.idle": "2025-07-30T21:07:25.691283Z",
     "shell.execute_reply": "2025-07-30T21:07:25.690337Z"
    },
    "papermill": {
     "duration": 0.028291,
     "end_time": "2025-07-30T21:07:25.693008",
     "exception": false,
     "start_time": "2025-07-30T21:07:25.664717",
     "status": "completed"
    },
    "tags": []
   },
   "outputs": [],
   "source": [
    "# put in other script?\n",
    "# Group sizes\n",
    "\n",
    "#def calculate_percentages(df, df_name):\n",
    "#    total_entries = len(df)\n",
    "#\n",
    "#    female_pct = (df['frau1'] == 1).mean() * 100\n",
    "#    non_german_pct = ((df['maxdeutsch1'] == 0) & (df['maxdeutsch.Missing.'] == 0)).mean() * 100\n",
    "#    non_german_male_pct = ((df['frau1'] == 0) & (df['maxdeutsch1'] == 0) & (df['maxdeutsch.Missing.'] == 0)).mean() * 100\n",
    "#    non_german_female_pct = ((df['frau1'] == 1) & (df['maxdeutsch1'] == 0) & (df['maxdeutsch.Missing.'] == 0)).mean() * 100\n",
    "#\n",
    "#    print(f\"--- {df_name} ---\")\n",
    "#    print(f\"Female: {female_pct:.2f}%\")\n",
    "#    print(f\"Non-German: {non_german_pct:.2f}%\")\n",
    "#    print(f\"Non-German Male: {non_german_male_pct:.2f}%\")\n",
    "#    print(f\"Non-German Female: {non_german_female_pct:.2f}%\\n\")\n",
    "#\n",
    "## Calculate for each DataFrame\n",
    "#calculate_percentages(siab_calib, \"siab_calib\")\n",
    "#calculate_percentages(siab_test, \"siab_test\")\n",
    "#calculate_percentages(siab_train, \"siab_train\")"
   ]
  },
  {
   "cell_type": "markdown",
   "id": "0a4a1b33",
   "metadata": {
    "papermill": {
     "duration": 0.020102,
     "end_time": "2025-07-30T21:07:25.733913",
     "exception": false,
     "start_time": "2025-07-30T21:07:25.713811",
     "status": "completed"
    },
    "tags": []
   },
   "source": [
    "# Preprocessing Data"
   ]
  },
  {
   "cell_type": "code",
   "execution_count": 29,
   "id": "ca879031",
   "metadata": {
    "execution": {
     "iopub.execute_input": "2025-07-30T21:07:25.775982Z",
     "iopub.status.busy": "2025-07-30T21:07:25.775343Z",
     "iopub.status.idle": "2025-07-30T21:07:25.781065Z",
     "shell.execute_reply": "2025-07-30T21:07:25.780238Z"
    },
    "papermill": {
     "duration": 0.028579,
     "end_time": "2025-07-30T21:07:25.782653",
     "exception": false,
     "start_time": "2025-07-30T21:07:25.754074",
     "status": "completed"
    },
    "tags": []
   },
   "outputs": [],
   "source": [
    "# EXCLUDE PROTECTED FEATURES\n",
    "# ----------------------\n",
    "# \"exclude_features\": \"none\", # \"nationality\", \"sex\", \"nationality-sex\"\n",
    "\n",
    "excluded_features = universe[\"exclude_features\"].split(\"-\") # split, e.g.: \"nationality-sex\" -> [\"nationality\", \"sex\"]\n",
    "excluded_features_dictionary = {\n",
    "    \"nationality\": [\"maxdeutsch1\", \"maxdeutsch.Missing.\"],\n",
    "    \"sex\": [\"frau1\"],\n",
    "    \"age\": [\"age\"],\n",
    "}\n"
   ]
  },
  {
   "cell_type": "code",
   "execution_count": 30,
   "id": "b745ac60",
   "metadata": {
    "execution": {
     "iopub.execute_input": "2025-07-30T21:07:25.825486Z",
     "iopub.status.busy": "2025-07-30T21:07:25.825033Z",
     "iopub.status.idle": "2025-07-30T21:07:25.830597Z",
     "shell.execute_reply": "2025-07-30T21:07:25.829676Z"
    },
    "papermill": {
     "duration": 0.028981,
     "end_time": "2025-07-30T21:07:25.832371",
     "exception": false,
     "start_time": "2025-07-30T21:07:25.803390",
     "status": "completed"
    },
    "tags": []
   },
   "outputs": [],
   "source": [
    "# Code nice names to column names\n",
    "\n",
    "excluded_features_columns = [\n",
    "    excluded_features_dictionary[f] for f in excluded_features if len(f) > 0 and f != \"none\"\n",
    "]"
   ]
  },
  {
   "cell_type": "code",
   "execution_count": 31,
   "id": "f84f73a2",
   "metadata": {
    "execution": {
     "iopub.execute_input": "2025-07-30T21:07:25.876050Z",
     "iopub.status.busy": "2025-07-30T21:07:25.875355Z",
     "iopub.status.idle": "2025-07-30T21:07:25.881992Z",
     "shell.execute_reply": "2025-07-30T21:07:25.881070Z"
    },
    "papermill": {
     "duration": 0.030345,
     "end_time": "2025-07-30T21:07:25.883629",
     "exception": false,
     "start_time": "2025-07-30T21:07:25.853284",
     "status": "completed"
    },
    "tags": []
   },
   "outputs": [],
   "source": [
    "from utils import flatten_once\n",
    "\n",
    "excluded_features_columns = flatten_once(excluded_features_columns)"
   ]
  },
  {
   "cell_type": "code",
   "execution_count": 32,
   "id": "884dea22",
   "metadata": {
    "execution": {
     "iopub.execute_input": "2025-07-30T21:07:25.928376Z",
     "iopub.status.busy": "2025-07-30T21:07:25.927450Z",
     "iopub.status.idle": "2025-07-30T21:07:25.939345Z",
     "shell.execute_reply": "2025-07-30T21:07:25.938389Z"
    },
    "papermill": {
     "duration": 0.035504,
     "end_time": "2025-07-30T21:07:25.940765",
     "exception": false,
     "start_time": "2025-07-30T21:07:25.905261",
     "status": "completed"
    },
    "tags": []
   },
   "outputs": [
    {
     "name": "stdout",
     "output_type": "stream",
     "text": [
      "Dropping features: ['maxdeutsch1', 'maxdeutsch.Missing.']\n"
     ]
    }
   ],
   "source": [
    "if len(excluded_features_columns) > 0:\n",
    "    print(f\"Dropping features: {excluded_features_columns}\")\n",
    "    X_train.drop(excluded_features_columns, axis=1, inplace=True)"
   ]
  },
  {
   "cell_type": "code",
   "execution_count": 33,
   "id": "95ab8b16",
   "metadata": {
    "execution": {
     "iopub.execute_input": "2025-07-30T21:07:25.985279Z",
     "iopub.status.busy": "2025-07-30T21:07:25.984595Z",
     "iopub.status.idle": "2025-07-30T21:07:26.036904Z",
     "shell.execute_reply": "2025-07-30T21:07:26.035867Z"
    },
    "papermill": {
     "duration": 0.07619,
     "end_time": "2025-07-30T21:07:26.038649",
     "exception": false,
     "start_time": "2025-07-30T21:07:25.962459",
     "status": "completed"
    },
    "tags": []
   },
   "outputs": [
    {
     "name": "stdout",
     "output_type": "stream",
     "text": [
      "Dropping features: ['maxdeutsch1', 'maxdeutsch.Missing.']\n"
     ]
    }
   ],
   "source": [
    "if len(excluded_features_columns) > 0:\n",
    "    print(f\"Dropping features: {excluded_features_columns}\")\n",
    "    X_test.drop(excluded_features_columns, axis=1, inplace=True)"
   ]
  },
  {
   "cell_type": "code",
   "execution_count": 34,
   "id": "1853aaf5-fb9f-46cb-a2b5-8ea4ae2237e4",
   "metadata": {
    "execution": {
     "iopub.execute_input": "2025-07-30T21:07:26.083510Z",
     "iopub.status.busy": "2025-07-30T21:07:26.082616Z",
     "iopub.status.idle": "2025-07-30T21:07:26.132422Z",
     "shell.execute_reply": "2025-07-30T21:07:26.131385Z"
    },
    "papermill": {
     "duration": 0.073696,
     "end_time": "2025-07-30T21:07:26.134046",
     "exception": false,
     "start_time": "2025-07-30T21:07:26.060350",
     "status": "completed"
    },
    "tags": []
   },
   "outputs": [
    {
     "name": "stdout",
     "output_type": "stream",
     "text": [
      "Dropping features: ['maxdeutsch1', 'maxdeutsch.Missing.']\n"
     ]
    }
   ],
   "source": [
    "if len(excluded_features_columns) > 0:\n",
    "    print(f\"Dropping features: {excluded_features_columns}\")\n",
    "    X_calib.drop(excluded_features_columns, axis=1, inplace=True)"
   ]
  },
  {
   "cell_type": "code",
   "execution_count": 35,
   "id": "6727d079-03e5-481e-9d38-292a90b7a0a8",
   "metadata": {
    "execution": {
     "iopub.execute_input": "2025-07-30T21:07:26.177701Z",
     "iopub.status.busy": "2025-07-30T21:07:26.177053Z",
     "iopub.status.idle": "2025-07-30T21:07:26.181686Z",
     "shell.execute_reply": "2025-07-30T21:07:26.180876Z"
    },
    "papermill": {
     "duration": 0.027325,
     "end_time": "2025-07-30T21:07:26.183253",
     "exception": false,
     "start_time": "2025-07-30T21:07:26.155928",
     "status": "completed"
    },
    "tags": []
   },
   "outputs": [],
   "source": [
    "# SPLIT & STRATIFY DATA\n",
    "# ----------------------"
   ]
  },
  {
   "cell_type": "code",
   "execution_count": 36,
   "id": "76c4dc6d",
   "metadata": {
    "execution": {
     "iopub.execute_input": "2025-07-30T21:07:26.225865Z",
     "iopub.status.busy": "2025-07-30T21:07:26.225250Z",
     "iopub.status.idle": "2025-07-30T21:07:26.230269Z",
     "shell.execute_reply": "2025-07-30T21:07:26.229437Z"
    },
    "papermill": {
     "duration": 0.028263,
     "end_time": "2025-07-30T21:07:26.232006",
     "exception": false,
     "start_time": "2025-07-30T21:07:26.203743",
     "status": "completed"
    },
    "tags": []
   },
   "outputs": [],
   "source": [
    "# EXCLUDE CERTAIN SUBGROUPS\n",
    "# ----------------------\n",
    "\n",
    "mode = universe.get(\"exclude_subgroups\", \"keep-all\") \n",
    "# Fetches the exclude_subgroups setting from the universe dict.\n",
    "# Defaults to \"keep-all\" if the key is missing."
   ]
  },
  {
   "cell_type": "code",
   "execution_count": 37,
   "id": "21994072",
   "metadata": {
    "execution": {
     "iopub.execute_input": "2025-07-30T21:07:26.276015Z",
     "iopub.status.busy": "2025-07-30T21:07:26.275385Z",
     "iopub.status.idle": "2025-07-30T21:07:26.282125Z",
     "shell.execute_reply": "2025-07-30T21:07:26.281193Z"
    },
    "papermill": {
     "duration": 0.03058,
     "end_time": "2025-07-30T21:07:26.283712",
     "exception": false,
     "start_time": "2025-07-30T21:07:26.253132",
     "status": "completed"
    },
    "tags": []
   },
   "outputs": [],
   "source": [
    "if mode == \"keep-all\":\n",
    "    keep_mask = pd.Series(True, index=org_train.index)\n",
    "\n",
    "# org_train contains the original feature columns from features_org (in Simson)\n",
    "# features_org contains unprocessed features, for me X_train at beginning ???\n",
    "# For keep-all, creates a boolean Series (keep_mask) of all True, so no rows are removed.\n",
    "\n",
    "elif mode == \"drop-non-german\":\n",
    "    keep_mask = org_train[\"maxdeutsch1\"] == 1 # ??? what about missing values?\n",
    "\n",
    "else:\n",
    "    raise ValueError(f\"Unsupported mode for exclude_subgroups: {mode}\")\n"
   ]
  },
  {
   "cell_type": "code",
   "execution_count": 38,
   "id": "71651440",
   "metadata": {
    "execution": {
     "iopub.execute_input": "2025-07-30T21:07:26.328785Z",
     "iopub.status.busy": "2025-07-30T21:07:26.328320Z",
     "iopub.status.idle": "2025-07-30T21:07:26.335534Z",
     "shell.execute_reply": "2025-07-30T21:07:26.334594Z"
    },
    "papermill": {
     "duration": 0.031433,
     "end_time": "2025-07-30T21:07:26.337105",
     "exception": false,
     "start_time": "2025-07-30T21:07:26.305672",
     "status": "completed"
    },
    "tags": []
   },
   "outputs": [
    {
     "name": "stdout",
     "output_type": "stream",
     "text": [
      "Dropping 665 rows (13.30%) where mode='drop-non-german'\n"
     ]
    }
   ],
   "source": [
    "n_drop = (~keep_mask).sum() # Calculates how many rows are set to be dropped\n",
    "if n_drop > 0:\n",
    "    pct = n_drop / len(keep_mask) * 100\n",
    "    print(f\"Dropping {n_drop} rows ({pct:.2f}%) where mode='{mode}'\")"
   ]
  },
  {
   "cell_type": "code",
   "execution_count": 39,
   "id": "5fb8eee5",
   "metadata": {
    "execution": {
     "iopub.execute_input": "2025-07-30T21:07:26.384981Z",
     "iopub.status.busy": "2025-07-30T21:07:26.384288Z",
     "iopub.status.idle": "2025-07-30T21:07:26.391862Z",
     "shell.execute_reply": "2025-07-30T21:07:26.391060Z"
    },
    "papermill": {
     "duration": 0.032724,
     "end_time": "2025-07-30T21:07:26.393564",
     "exception": false,
     "start_time": "2025-07-30T21:07:26.360840",
     "status": "completed"
    },
    "tags": []
   },
   "outputs": [],
   "source": [
    "X_train = X_train[keep_mask]"
   ]
  },
  {
   "cell_type": "code",
   "execution_count": 40,
   "id": "b202bb3a",
   "metadata": {
    "execution": {
     "iopub.execute_input": "2025-07-30T21:07:26.440667Z",
     "iopub.status.busy": "2025-07-30T21:07:26.440160Z",
     "iopub.status.idle": "2025-07-30T21:07:26.445828Z",
     "shell.execute_reply": "2025-07-30T21:07:26.445050Z"
    },
    "papermill": {
     "duration": 0.031201,
     "end_time": "2025-07-30T21:07:26.447270",
     "exception": false,
     "start_time": "2025-07-30T21:07:26.416069",
     "status": "completed"
    },
    "tags": []
   },
   "outputs": [],
   "source": [
    "y_train = y_train[keep_mask]"
   ]
  },
  {
   "cell_type": "markdown",
   "id": "493e2ac3",
   "metadata": {
    "papermill": {
     "duration": 0.022286,
     "end_time": "2025-07-30T21:07:26.492619",
     "exception": false,
     "start_time": "2025-07-30T21:07:26.470333",
     "status": "completed"
    },
    "tags": []
   },
   "source": [
    "# Model Training"
   ]
  },
  {
   "cell_type": "code",
   "execution_count": 41,
   "id": "679e1268",
   "metadata": {
    "execution": {
     "iopub.execute_input": "2025-07-30T21:07:26.535776Z",
     "iopub.status.busy": "2025-07-30T21:07:26.535282Z",
     "iopub.status.idle": "2025-07-30T21:07:26.636306Z",
     "shell.execute_reply": "2025-07-30T21:07:26.635310Z"
    },
    "papermill": {
     "duration": 0.124844,
     "end_time": "2025-07-30T21:07:26.638194",
     "exception": false,
     "start_time": "2025-07-30T21:07:26.513350",
     "status": "completed"
    },
    "tags": []
   },
   "outputs": [],
   "source": [
    "from sklearn.linear_model import LogisticRegression\n",
    "from sklearn.ensemble import GradientBoostingClassifier, RandomForestClassifier\n",
    "\n",
    "if (universe[\"model\"] == \"logreg\"):\n",
    "    model = LogisticRegression() #penalty=\"none\") #, solver=\"newton-cg\", max_iter=1) # include random_state=19 ?\n",
    "elif (universe[\"model\"] == \"penalized_logreg\"):\n",
    "    model = LogisticRegression(penalty=\"l2\", C=1.0) #, solver=\"newton-cg\", max_iter=1)\n",
    "elif (universe[\"model\"] == \"rf\"):\n",
    "    model = RandomForestClassifier(n_estimators=100, n_jobs=-1)\n",
    "elif (universe[\"model\"] == \"gbm\"):\n",
    "    model = GradientBoostingClassifier()\n",
    "elif (universe[\"model\"] == \"elasticnet\"):\n",
    "    model = LogisticRegression(penalty = 'elasticnet', solver = 'saga', l1_ratio = 0.5, max_iter=5000) # which solver to use?\n",
    "else:\n",
    "    raise \"Unsupported universe.model\""
   ]
  },
  {
   "cell_type": "code",
   "execution_count": 42,
   "id": "0cc8f744",
   "metadata": {
    "execution": {
     "iopub.execute_input": "2025-07-30T21:07:26.684002Z",
     "iopub.status.busy": "2025-07-30T21:07:26.683522Z",
     "iopub.status.idle": "2025-07-30T21:07:26.689840Z",
     "shell.execute_reply": "2025-07-30T21:07:26.688906Z"
    },
    "papermill": {
     "duration": 0.030025,
     "end_time": "2025-07-30T21:07:26.691438",
     "exception": false,
     "start_time": "2025-07-30T21:07:26.661413",
     "status": "completed"
    },
    "tags": []
   },
   "outputs": [],
   "source": [
    "import numpy as np\n",
    "from sklearn.pipeline import Pipeline\n",
    "from sklearn.preprocessing import StandardScaler\n",
    "\n",
    "model = Pipeline([\n",
    "    #(\"continuous_processor\", continuous_processor),\n",
    "    #(\"categorical_preprocessor\", categorical_preprocessor),\n",
    "    (\"scale\", StandardScaler() if universe[\"scale\"] == \"scale\" else None), \n",
    "    (\"model\", model),\n",
    "])"
   ]
  },
  {
   "cell_type": "code",
   "execution_count": 43,
   "id": "9442c04d",
   "metadata": {
    "execution": {
     "iopub.execute_input": "2025-07-30T21:07:26.738341Z",
     "iopub.status.busy": "2025-07-30T21:07:26.737682Z",
     "iopub.status.idle": "2025-07-30T21:08:44.994016Z",
     "shell.execute_reply": "2025-07-30T21:08:44.992913Z"
    },
    "papermill": {
     "duration": 78.293366,
     "end_time": "2025-07-30T21:08:45.007766",
     "exception": false,
     "start_time": "2025-07-30T21:07:26.714400",
     "status": "completed"
    },
    "tags": []
   },
   "outputs": [
    {
     "data": {
      "text/html": [
       "<style>#sk-container-id-1 {color: black;background-color: white;}#sk-container-id-1 pre{padding: 0;}#sk-container-id-1 div.sk-toggleable {background-color: white;}#sk-container-id-1 label.sk-toggleable__label {cursor: pointer;display: block;width: 100%;margin-bottom: 0;padding: 0.3em;box-sizing: border-box;text-align: center;}#sk-container-id-1 label.sk-toggleable__label-arrow:before {content: \"▸\";float: left;margin-right: 0.25em;color: #696969;}#sk-container-id-1 label.sk-toggleable__label-arrow:hover:before {color: black;}#sk-container-id-1 div.sk-estimator:hover label.sk-toggleable__label-arrow:before {color: black;}#sk-container-id-1 div.sk-toggleable__content {max-height: 0;max-width: 0;overflow: hidden;text-align: left;background-color: #f0f8ff;}#sk-container-id-1 div.sk-toggleable__content pre {margin: 0.2em;color: black;border-radius: 0.25em;background-color: #f0f8ff;}#sk-container-id-1 input.sk-toggleable__control:checked~div.sk-toggleable__content {max-height: 200px;max-width: 100%;overflow: auto;}#sk-container-id-1 input.sk-toggleable__control:checked~label.sk-toggleable__label-arrow:before {content: \"▾\";}#sk-container-id-1 div.sk-estimator input.sk-toggleable__control:checked~label.sk-toggleable__label {background-color: #d4ebff;}#sk-container-id-1 div.sk-label input.sk-toggleable__control:checked~label.sk-toggleable__label {background-color: #d4ebff;}#sk-container-id-1 input.sk-hidden--visually {border: 0;clip: rect(1px 1px 1px 1px);clip: rect(1px, 1px, 1px, 1px);height: 1px;margin: -1px;overflow: hidden;padding: 0;position: absolute;width: 1px;}#sk-container-id-1 div.sk-estimator {font-family: monospace;background-color: #f0f8ff;border: 1px dotted black;border-radius: 0.25em;box-sizing: border-box;margin-bottom: 0.5em;}#sk-container-id-1 div.sk-estimator:hover {background-color: #d4ebff;}#sk-container-id-1 div.sk-parallel-item::after {content: \"\";width: 100%;border-bottom: 1px solid gray;flex-grow: 1;}#sk-container-id-1 div.sk-label:hover label.sk-toggleable__label {background-color: #d4ebff;}#sk-container-id-1 div.sk-serial::before {content: \"\";position: absolute;border-left: 1px solid gray;box-sizing: border-box;top: 0;bottom: 0;left: 50%;z-index: 0;}#sk-container-id-1 div.sk-serial {display: flex;flex-direction: column;align-items: center;background-color: white;padding-right: 0.2em;padding-left: 0.2em;position: relative;}#sk-container-id-1 div.sk-item {position: relative;z-index: 1;}#sk-container-id-1 div.sk-parallel {display: flex;align-items: stretch;justify-content: center;background-color: white;position: relative;}#sk-container-id-1 div.sk-item::before, #sk-container-id-1 div.sk-parallel-item::before {content: \"\";position: absolute;border-left: 1px solid gray;box-sizing: border-box;top: 0;bottom: 0;left: 50%;z-index: -1;}#sk-container-id-1 div.sk-parallel-item {display: flex;flex-direction: column;z-index: 1;position: relative;background-color: white;}#sk-container-id-1 div.sk-parallel-item:first-child::after {align-self: flex-end;width: 50%;}#sk-container-id-1 div.sk-parallel-item:last-child::after {align-self: flex-start;width: 50%;}#sk-container-id-1 div.sk-parallel-item:only-child::after {width: 0;}#sk-container-id-1 div.sk-dashed-wrapped {border: 1px dashed gray;margin: 0 0.4em 0.5em 0.4em;box-sizing: border-box;padding-bottom: 0.4em;background-color: white;}#sk-container-id-1 div.sk-label label {font-family: monospace;font-weight: bold;display: inline-block;line-height: 1.2em;}#sk-container-id-1 div.sk-label-container {text-align: center;}#sk-container-id-1 div.sk-container {/* jupyter's `normalize.less` sets `[hidden] { display: none; }` but bootstrap.min.css set `[hidden] { display: none !important; }` so we also need the `!important` here to be able to override the default hidden behavior on the sphinx rendered scikit-learn.org. See: https://github.com/scikit-learn/scikit-learn/issues/21755 */display: inline-block !important;position: relative;}#sk-container-id-1 div.sk-text-repr-fallback {display: none;}</style><div id=\"sk-container-id-1\" class=\"sk-top-container\"><div class=\"sk-text-repr-fallback\"><pre>Pipeline(steps=[(&#x27;scale&#x27;, None),\n",
       "                (&#x27;model&#x27;,\n",
       "                 LogisticRegression(l1_ratio=0.5, max_iter=5000,\n",
       "                                    penalty=&#x27;elasticnet&#x27;, solver=&#x27;saga&#x27;))])</pre><b>In a Jupyter environment, please rerun this cell to show the HTML representation or trust the notebook. <br />On GitHub, the HTML representation is unable to render, please try loading this page with nbviewer.org.</b></div><div class=\"sk-container\" hidden><div class=\"sk-item sk-dashed-wrapped\"><div class=\"sk-label-container\"><div class=\"sk-label sk-toggleable\"><input class=\"sk-toggleable__control sk-hidden--visually\" id=\"sk-estimator-id-1\" type=\"checkbox\" ><label for=\"sk-estimator-id-1\" class=\"sk-toggleable__label sk-toggleable__label-arrow\">Pipeline</label><div class=\"sk-toggleable__content\"><pre>Pipeline(steps=[(&#x27;scale&#x27;, None),\n",
       "                (&#x27;model&#x27;,\n",
       "                 LogisticRegression(l1_ratio=0.5, max_iter=5000,\n",
       "                                    penalty=&#x27;elasticnet&#x27;, solver=&#x27;saga&#x27;))])</pre></div></div></div><div class=\"sk-serial\"><div class=\"sk-item\"><div class=\"sk-estimator sk-toggleable\"><input class=\"sk-toggleable__control sk-hidden--visually\" id=\"sk-estimator-id-2\" type=\"checkbox\" ><label for=\"sk-estimator-id-2\" class=\"sk-toggleable__label sk-toggleable__label-arrow\">None</label><div class=\"sk-toggleable__content\"><pre>None</pre></div></div></div><div class=\"sk-item\"><div class=\"sk-estimator sk-toggleable\"><input class=\"sk-toggleable__control sk-hidden--visually\" id=\"sk-estimator-id-3\" type=\"checkbox\" ><label for=\"sk-estimator-id-3\" class=\"sk-toggleable__label sk-toggleable__label-arrow\">LogisticRegression</label><div class=\"sk-toggleable__content\"><pre>LogisticRegression(l1_ratio=0.5, max_iter=5000, penalty=&#x27;elasticnet&#x27;,\n",
       "                   solver=&#x27;saga&#x27;)</pre></div></div></div></div></div></div></div>"
      ],
      "text/plain": [
       "Pipeline(steps=[('scale', None),\n",
       "                ('model',\n",
       "                 LogisticRegression(l1_ratio=0.5, max_iter=5000,\n",
       "                                    penalty='elasticnet', solver='saga'))])"
      ]
     },
     "execution_count": 43,
     "metadata": {},
     "output_type": "execute_result"
    }
   ],
   "source": [
    "model.fit(X_train, y_train.values.ravel())"
   ]
  },
  {
   "cell_type": "code",
   "execution_count": 44,
   "id": "af59f8c0",
   "metadata": {
    "execution": {
     "iopub.execute_input": "2025-07-30T21:08:45.051926Z",
     "iopub.status.busy": "2025-07-30T21:08:45.051273Z",
     "iopub.status.idle": "2025-07-30T21:08:45.056753Z",
     "shell.execute_reply": "2025-07-30T21:08:45.055820Z"
    },
    "papermill": {
     "duration": 0.029113,
     "end_time": "2025-07-30T21:08:45.058192",
     "exception": false,
     "start_time": "2025-07-30T21:08:45.029079",
     "status": "completed"
    },
    "tags": []
   },
   "outputs": [],
   "source": [
    "from fairness_multiverse.universe import predict_w_threshold"
   ]
  },
  {
   "cell_type": "code",
   "execution_count": 45,
   "id": "a7cf2e16",
   "metadata": {
    "execution": {
     "iopub.execute_input": "2025-07-30T21:08:45.102399Z",
     "iopub.status.busy": "2025-07-30T21:08:45.101820Z",
     "iopub.status.idle": "2025-07-30T21:08:45.208807Z",
     "shell.execute_reply": "2025-07-30T21:08:45.207913Z"
    },
    "papermill": {
     "duration": 0.130417,
     "end_time": "2025-07-30T21:08:45.210332",
     "exception": false,
     "start_time": "2025-07-30T21:08:45.079915",
     "status": "completed"
    },
    "tags": []
   },
   "outputs": [
    {
     "data": {
      "text/plain": [
       "0.8587559915282578"
      ]
     },
     "execution_count": 45,
     "metadata": {},
     "output_type": "execute_result"
    }
   ],
   "source": [
    "probs_test = model.predict_proba(X_test)\n",
    "\n",
    "'''\n",
    "Below code returns a boolean array (or binary 0/1 array depending on how it’s used) where each element \n",
    "is True if the probability of class 1 is greater than or equal to the threshold, and False otherwise.\n",
    "'''\n",
    "y_pred_default = predict_w_threshold(probs_test, 0.5)\n",
    "\n",
    "from sklearn.metrics import accuracy_score\n",
    "\n",
    "# Naive prediction\n",
    "accuracy_score(y_true = y_true, y_pred = y_pred_default)"
   ]
  },
  {
   "cell_type": "code",
   "execution_count": 46,
   "id": "081964c3",
   "metadata": {
    "execution": {
     "iopub.execute_input": "2025-07-30T21:08:45.255808Z",
     "iopub.status.busy": "2025-07-30T21:08:45.255221Z",
     "iopub.status.idle": "2025-07-30T21:08:45.310364Z",
     "shell.execute_reply": "2025-07-30T21:08:45.309405Z"
    },
    "papermill": {
     "duration": 0.078847,
     "end_time": "2025-07-30T21:08:45.311937",
     "exception": false,
     "start_time": "2025-07-30T21:08:45.233090",
     "status": "completed"
    },
    "tags": []
   },
   "outputs": [
    {
     "data": {
      "text/plain": [
       "array([0, 0, 0, ..., 0, 0, 0])"
      ]
     },
     "execution_count": 46,
     "metadata": {},
     "output_type": "execute_result"
    }
   ],
   "source": [
    "model.predict(X_test)"
   ]
  },
  {
   "cell_type": "markdown",
   "id": "56c9705b",
   "metadata": {
    "papermill": {
     "duration": 0.02141,
     "end_time": "2025-07-30T21:08:45.356022",
     "exception": false,
     "start_time": "2025-07-30T21:08:45.334612",
     "status": "completed"
    },
    "tags": []
   },
   "source": [
    "# Conformal Prediction"
   ]
  },
  {
   "cell_type": "code",
   "execution_count": 47,
   "id": "160ec6ff",
   "metadata": {
    "execution": {
     "iopub.execute_input": "2025-07-30T21:08:45.400544Z",
     "iopub.status.busy": "2025-07-30T21:08:45.399945Z",
     "iopub.status.idle": "2025-07-30T21:08:45.404477Z",
     "shell.execute_reply": "2025-07-30T21:08:45.403577Z"
    },
    "papermill": {
     "duration": 0.028479,
     "end_time": "2025-07-30T21:08:45.405929",
     "exception": false,
     "start_time": "2025-07-30T21:08:45.377450",
     "status": "completed"
    },
    "tags": []
   },
   "outputs": [],
   "source": [
    "# Miscoverage level for conformal prediction (10% allowed error rate => 90% target coverage)\n",
    "alpha = 0.1"
   ]
  },
  {
   "cell_type": "code",
   "execution_count": 48,
   "id": "eadf4555-3dd3-440e-8e35-f82a4ad9f855",
   "metadata": {
    "execution": {
     "iopub.execute_input": "2025-07-30T21:08:45.452140Z",
     "iopub.status.busy": "2025-07-30T21:08:45.451552Z",
     "iopub.status.idle": "2025-07-30T21:08:45.508793Z",
     "shell.execute_reply": "2025-07-30T21:08:45.507920Z"
    },
    "papermill": {
     "duration": 0.081564,
     "end_time": "2025-07-30T21:08:45.510721",
     "exception": false,
     "start_time": "2025-07-30T21:08:45.429157",
     "status": "completed"
    },
    "tags": []
   },
   "outputs": [],
   "source": [
    "probs_calib = model.predict_proba(X_calib)"
   ]
  },
  {
   "cell_type": "code",
   "execution_count": 49,
   "id": "2ed93547-6d5d-4983-9b36-1ecb300da49a",
   "metadata": {
    "execution": {
     "iopub.execute_input": "2025-07-30T21:08:45.566211Z",
     "iopub.status.busy": "2025-07-30T21:08:45.565566Z",
     "iopub.status.idle": "2025-07-30T21:08:45.572140Z",
     "shell.execute_reply": "2025-07-30T21:08:45.571245Z"
    },
    "papermill": {
     "duration": 0.038504,
     "end_time": "2025-07-30T21:08:45.573876",
     "exception": false,
     "start_time": "2025-07-30T21:08:45.535372",
     "status": "completed"
    },
    "tags": []
   },
   "outputs": [],
   "source": [
    "y_calib = y_calib.values.ravel().astype(int)"
   ]
  },
  {
   "cell_type": "code",
   "execution_count": 50,
   "id": "65d1320d-f588-4b38-9072-62af1ae97f7d",
   "metadata": {
    "execution": {
     "iopub.execute_input": "2025-07-30T21:08:45.622789Z",
     "iopub.status.busy": "2025-07-30T21:08:45.622381Z",
     "iopub.status.idle": "2025-07-30T21:08:45.629494Z",
     "shell.execute_reply": "2025-07-30T21:08:45.628650Z"
    },
    "papermill": {
     "duration": 0.03204,
     "end_time": "2025-07-30T21:08:45.630955",
     "exception": false,
     "start_time": "2025-07-30T21:08:45.598915",
     "status": "completed"
    },
    "tags": []
   },
   "outputs": [],
   "source": [
    "from fairness_multiverse.conformal import compute_nc_scores\n",
    "\n",
    "# Compute nonconformity scores on calibration set (1 - probability of true class)\n",
    "nc_scores = compute_nc_scores(probs_calib, y_calib)"
   ]
  },
  {
   "cell_type": "code",
   "execution_count": 51,
   "id": "df3b8ca3-53b7-43d5-9667-7c85da7aeda2",
   "metadata": {
    "execution": {
     "iopub.execute_input": "2025-07-30T21:08:45.677126Z",
     "iopub.status.busy": "2025-07-30T21:08:45.676362Z",
     "iopub.status.idle": "2025-07-30T21:08:45.682875Z",
     "shell.execute_reply": "2025-07-30T21:08:45.682057Z"
    },
    "papermill": {
     "duration": 0.030955,
     "end_time": "2025-07-30T21:08:45.684421",
     "exception": false,
     "start_time": "2025-07-30T21:08:45.653466",
     "status": "completed"
    },
    "tags": []
   },
   "outputs": [],
   "source": [
    "from fairness_multiverse.conformal import find_threshold\n",
    "\n",
    "# Find conformal threshold q_hat for the given alpha (split conformal method)\n",
    "q_hat = find_threshold(nc_scores, alpha)"
   ]
  },
  {
   "cell_type": "code",
   "execution_count": 52,
   "id": "4d29e6c1-0ef6-4aa4-b8fe-4fe79b0d033a",
   "metadata": {
    "execution": {
     "iopub.execute_input": "2025-07-30T21:08:45.730453Z",
     "iopub.status.busy": "2025-07-30T21:08:45.729713Z",
     "iopub.status.idle": "2025-07-30T21:08:45.736144Z",
     "shell.execute_reply": "2025-07-30T21:08:45.735290Z"
    },
    "papermill": {
     "duration": 0.03076,
     "end_time": "2025-07-30T21:08:45.737558",
     "exception": false,
     "start_time": "2025-07-30T21:08:45.706798",
     "status": "completed"
    },
    "tags": []
   },
   "outputs": [
    {
     "data": {
      "text/plain": [
       "0.6931658918026404"
      ]
     },
     "execution_count": 52,
     "metadata": {},
     "output_type": "execute_result"
    }
   ],
   "source": [
    "q_hat"
   ]
  },
  {
   "cell_type": "code",
   "execution_count": 53,
   "id": "92460794-cdac-4be2-ba28-f28c0515a6fb",
   "metadata": {
    "execution": {
     "iopub.execute_input": "2025-07-30T21:08:45.783936Z",
     "iopub.status.busy": "2025-07-30T21:08:45.783216Z",
     "iopub.status.idle": "2025-07-30T21:08:46.530838Z",
     "shell.execute_reply": "2025-07-30T21:08:46.529963Z"
    },
    "papermill": {
     "duration": 0.772479,
     "end_time": "2025-07-30T21:08:46.532644",
     "exception": false,
     "start_time": "2025-07-30T21:08:45.760165",
     "status": "completed"
    },
    "tags": []
   },
   "outputs": [],
   "source": [
    "from fairness_multiverse.conformal import predict_conformal_sets\n",
    "\n",
    "# Generate prediction sets for each test example\n",
    "pred_sets = predict_conformal_sets(model, X_test, q_hat)"
   ]
  },
  {
   "cell_type": "code",
   "execution_count": 54,
   "id": "d90c9a65-e6db-4f5d-80cd-e68fb7e46829",
   "metadata": {
    "execution": {
     "iopub.execute_input": "2025-07-30T21:08:46.581585Z",
     "iopub.status.busy": "2025-07-30T21:08:46.580938Z",
     "iopub.status.idle": "2025-07-30T21:08:46.586757Z",
     "shell.execute_reply": "2025-07-30T21:08:46.585850Z"
    },
    "papermill": {
     "duration": 0.031857,
     "end_time": "2025-07-30T21:08:46.588371",
     "exception": false,
     "start_time": "2025-07-30T21:08:46.556514",
     "status": "completed"
    },
    "tags": []
   },
   "outputs": [],
   "source": [
    "y_true = y_true.squeeze()"
   ]
  },
  {
   "cell_type": "code",
   "execution_count": 55,
   "id": "3a58a54a-1e68-46b9-927a-df01f18aebc8",
   "metadata": {
    "execution": {
     "iopub.execute_input": "2025-07-30T21:08:46.636933Z",
     "iopub.status.busy": "2025-07-30T21:08:46.636018Z",
     "iopub.status.idle": "2025-07-30T21:08:47.608594Z",
     "shell.execute_reply": "2025-07-30T21:08:47.607596Z"
    },
    "papermill": {
     "duration": 0.998402,
     "end_time": "2025-07-30T21:08:47.610423",
     "exception": false,
     "start_time": "2025-07-30T21:08:46.612021",
     "status": "completed"
    },
    "tags": []
   },
   "outputs": [],
   "source": [
    "from fairness_multiverse.conformal import evaluate_sets\n",
    "\n",
    "# Evaluate coverage and average set size on test data\n",
    "metrics = evaluate_sets(pred_sets, y_true)"
   ]
  },
  {
   "cell_type": "markdown",
   "id": "2b569c12-9aaa-4c88-98c9-bbcd0cf3ebb8",
   "metadata": {
    "papermill": {
     "duration": 0.023866,
     "end_time": "2025-07-30T21:08:47.661183",
     "exception": false,
     "start_time": "2025-07-30T21:08:47.637317",
     "status": "completed"
    },
    "tags": []
   },
   "source": [
    "# CP Metrics"
   ]
  },
  {
   "cell_type": "code",
   "execution_count": 56,
   "id": "5ce0a5cb-201f-45a0-ade5-94c7f0bd6095",
   "metadata": {
    "execution": {
     "iopub.execute_input": "2025-07-30T21:08:47.709908Z",
     "iopub.status.busy": "2025-07-30T21:08:47.709447Z",
     "iopub.status.idle": "2025-07-30T21:08:47.717000Z",
     "shell.execute_reply": "2025-07-30T21:08:47.715861Z"
    },
    "papermill": {
     "duration": 0.034022,
     "end_time": "2025-07-30T21:08:47.718805",
     "exception": false,
     "start_time": "2025-07-30T21:08:47.684783",
     "status": "completed"
    },
    "tags": []
   },
   "outputs": [
    {
     "data": {
      "text/plain": [
       "{'coverage': 0.9098651209452681, 'avg_size': 1.151655333853528}"
      ]
     },
     "execution_count": 56,
     "metadata": {},
     "output_type": "execute_result"
    }
   ],
   "source": [
    "metrics"
   ]
  },
  {
   "cell_type": "code",
   "execution_count": 57,
   "id": "9b9a838d-31c9-430b-ae14-12baee460d17",
   "metadata": {
    "execution": {
     "iopub.execute_input": "2025-07-30T21:08:47.767501Z",
     "iopub.status.busy": "2025-07-30T21:08:47.767084Z",
     "iopub.status.idle": "2025-07-30T21:08:47.773274Z",
     "shell.execute_reply": "2025-07-30T21:08:47.772416Z"
    },
    "papermill": {
     "duration": 0.03216,
     "end_time": "2025-07-30T21:08:47.774775",
     "exception": false,
     "start_time": "2025-07-30T21:08:47.742615",
     "status": "completed"
    },
    "tags": []
   },
   "outputs": [],
   "source": [
    "example_universe = universe.copy()\n",
    "universe_training_year = example_universe.get(\"training_year\")\n",
    "universe_training_size = example_universe.get(\"training_size\")\n",
    "universe_scale = example_universe.get(\"scale\")\n",
    "universe_model = example_universe.get(\"model\")\n",
    "universe_exclude_features = example_universe.get(\"exclude_features\")\n",
    "universe_exclude_subgroups = example_universe.get(\"exclude_subgroups\")"
   ]
  },
  {
   "cell_type": "code",
   "execution_count": 58,
   "id": "f4b6a8ac-9dc0-4245-8a91-5b3b5999c4f9",
   "metadata": {
    "execution": {
     "iopub.execute_input": "2025-07-30T21:08:47.830474Z",
     "iopub.status.busy": "2025-07-30T21:08:47.829902Z",
     "iopub.status.idle": "2025-07-30T21:08:47.836506Z",
     "shell.execute_reply": "2025-07-30T21:08:47.835454Z"
    },
    "papermill": {
     "duration": 0.036061,
     "end_time": "2025-07-30T21:08:47.838112",
     "exception": false,
     "start_time": "2025-07-30T21:08:47.802051",
     "status": "completed"
    },
    "tags": []
   },
   "outputs": [],
   "source": [
    "cp_metrics_dict = {\n",
    "    \"universe_id\": [universe_id],\n",
    "    \"universe_training_year\": [universe_training_year],\n",
    "    \"universe_training_size\": [universe_training_size],\n",
    "    \"universe_scale\": [universe_scale],\n",
    "    \"universe_model\": [universe_model],\n",
    "    \"universe_exclude_features\": [universe_exclude_features],\n",
    "    \"universe_exclude_subgroups\": [universe_exclude_subgroups],\n",
    "    \"q_hat\": [q_hat],\n",
    "    \"coverage\": [metrics[\"coverage\"]],\n",
    "    \"avg_size\": [metrics[\"avg_size\"]],\n",
    "}"
   ]
  },
  {
   "cell_type": "code",
   "execution_count": 59,
   "id": "908acbb1-0371-4915-85ca-3fa520d2efe2",
   "metadata": {
    "execution": {
     "iopub.execute_input": "2025-07-30T21:08:47.888600Z",
     "iopub.status.busy": "2025-07-30T21:08:47.887963Z",
     "iopub.status.idle": "2025-07-30T21:08:47.895611Z",
     "shell.execute_reply": "2025-07-30T21:08:47.894736Z"
    },
    "papermill": {
     "duration": 0.033685,
     "end_time": "2025-07-30T21:08:47.897166",
     "exception": false,
     "start_time": "2025-07-30T21:08:47.863481",
     "status": "completed"
    },
    "tags": []
   },
   "outputs": [
    {
     "data": {
      "text/plain": [
       "{'universe_id': ['99782de0877ed794252b15f7335e26f3'],\n",
       " 'universe_training_year': ['2012_14'],\n",
       " 'universe_training_size': ['5k'],\n",
       " 'universe_scale': ['do-not-scale'],\n",
       " 'universe_model': ['elasticnet'],\n",
       " 'universe_exclude_features': ['nationality'],\n",
       " 'universe_exclude_subgroups': ['drop-non-german'],\n",
       " 'q_hat': [0.6931658918026404],\n",
       " 'coverage': [0.9098651209452681],\n",
       " 'avg_size': [1.151655333853528]}"
      ]
     },
     "execution_count": 59,
     "metadata": {},
     "output_type": "execute_result"
    }
   ],
   "source": [
    "cp_metrics_dict"
   ]
  },
  {
   "cell_type": "code",
   "execution_count": 60,
   "id": "33007efc-14e9-4ec6-97ac-56a455c82265",
   "metadata": {
    "execution": {
     "iopub.execute_input": "2025-07-30T21:08:47.950207Z",
     "iopub.status.busy": "2025-07-30T21:08:47.949575Z",
     "iopub.status.idle": "2025-07-30T21:08:47.956339Z",
     "shell.execute_reply": "2025-07-30T21:08:47.955373Z"
    },
    "papermill": {
     "duration": 0.034682,
     "end_time": "2025-07-30T21:08:47.958208",
     "exception": false,
     "start_time": "2025-07-30T21:08:47.923526",
     "status": "completed"
    },
    "tags": []
   },
   "outputs": [],
   "source": [
    "cp_metrics_df = pd.DataFrame(cp_metrics_dict)"
   ]
  },
  {
   "cell_type": "code",
   "execution_count": 61,
   "id": "db12611b-57b2-4910-b9d0-355adfd6e7bf",
   "metadata": {
    "execution": {
     "iopub.execute_input": "2025-07-30T21:08:48.009469Z",
     "iopub.status.busy": "2025-07-30T21:08:48.009030Z",
     "iopub.status.idle": "2025-07-30T21:08:48.026514Z",
     "shell.execute_reply": "2025-07-30T21:08:48.025630Z"
    },
    "papermill": {
     "duration": 0.045208,
     "end_time": "2025-07-30T21:08:48.028319",
     "exception": false,
     "start_time": "2025-07-30T21:08:47.983111",
     "status": "completed"
    },
    "tags": []
   },
   "outputs": [
    {
     "data": {
      "text/html": [
       "<div>\n",
       "<style scoped>\n",
       "    .dataframe tbody tr th:only-of-type {\n",
       "        vertical-align: middle;\n",
       "    }\n",
       "\n",
       "    .dataframe tbody tr th {\n",
       "        vertical-align: top;\n",
       "    }\n",
       "\n",
       "    .dataframe thead th {\n",
       "        text-align: right;\n",
       "    }\n",
       "</style>\n",
       "<table border=\"1\" class=\"dataframe\">\n",
       "  <thead>\n",
       "    <tr style=\"text-align: right;\">\n",
       "      <th></th>\n",
       "      <th>universe_id</th>\n",
       "      <th>universe_training_year</th>\n",
       "      <th>universe_training_size</th>\n",
       "      <th>universe_scale</th>\n",
       "      <th>universe_model</th>\n",
       "      <th>universe_exclude_features</th>\n",
       "      <th>universe_exclude_subgroups</th>\n",
       "      <th>q_hat</th>\n",
       "      <th>coverage</th>\n",
       "      <th>avg_size</th>\n",
       "    </tr>\n",
       "  </thead>\n",
       "  <tbody>\n",
       "    <tr>\n",
       "      <th>0</th>\n",
       "      <td>99782de0877ed794252b15f7335e26f3</td>\n",
       "      <td>2012_14</td>\n",
       "      <td>5k</td>\n",
       "      <td>do-not-scale</td>\n",
       "      <td>elasticnet</td>\n",
       "      <td>nationality</td>\n",
       "      <td>drop-non-german</td>\n",
       "      <td>0.693166</td>\n",
       "      <td>0.909865</td>\n",
       "      <td>1.151655</td>\n",
       "    </tr>\n",
       "  </tbody>\n",
       "</table>\n",
       "</div>"
      ],
      "text/plain": [
       "                        universe_id universe_training_year  \\\n",
       "0  99782de0877ed794252b15f7335e26f3                2012_14   \n",
       "\n",
       "  universe_training_size universe_scale universe_model  \\\n",
       "0                     5k   do-not-scale     elasticnet   \n",
       "\n",
       "  universe_exclude_features universe_exclude_subgroups     q_hat  coverage  \\\n",
       "0               nationality            drop-non-german  0.693166  0.909865   \n",
       "\n",
       "   avg_size  \n",
       "0  1.151655  "
      ]
     },
     "execution_count": 61,
     "metadata": {},
     "output_type": "execute_result"
    }
   ],
   "source": [
    "cp_metrics_df"
   ]
  },
  {
   "cell_type": "code",
   "execution_count": 62,
   "id": "b7fbde55-a0a1-47e4-9af6-fe4a17fa8c61",
   "metadata": {
    "execution": {
     "iopub.execute_input": "2025-07-30T21:08:48.080232Z",
     "iopub.status.busy": "2025-07-30T21:08:48.079785Z",
     "iopub.status.idle": "2025-07-30T21:08:48.084759Z",
     "shell.execute_reply": "2025-07-30T21:08:48.083894Z"
    },
    "papermill": {
     "duration": 0.032593,
     "end_time": "2025-07-30T21:08:48.086578",
     "exception": false,
     "start_time": "2025-07-30T21:08:48.053985",
     "status": "completed"
    },
    "tags": []
   },
   "outputs": [],
   "source": [
    "# Conditional Coverage & looking at subgroups"
   ]
  },
  {
   "cell_type": "code",
   "execution_count": 63,
   "id": "027ae886-68dd-4141-96c7-805a5450e1ef",
   "metadata": {
    "execution": {
     "iopub.execute_input": "2025-07-30T21:08:48.137102Z",
     "iopub.status.busy": "2025-07-30T21:08:48.136671Z",
     "iopub.status.idle": "2025-07-30T21:08:48.386575Z",
     "shell.execute_reply": "2025-07-30T21:08:48.385441Z"
    },
    "papermill": {
     "duration": 0.277013,
     "end_time": "2025-07-30T21:08:48.388423",
     "exception": false,
     "start_time": "2025-07-30T21:08:48.111410",
     "status": "completed"
    },
    "tags": []
   },
   "outputs": [],
   "source": [
    "from fairness_multiverse.conformal import build_cp_groups\n",
    "\n",
    "cp_groups_df = build_cp_groups(pred_sets, y_true, X_test.index, org_test)\n",
    "#needs universe_id and setting"
   ]
  },
  {
   "cell_type": "code",
   "execution_count": 64,
   "id": "01d5802c-663a-4d1f-9d69-e036faaffbf7",
   "metadata": {
    "execution": {
     "iopub.execute_input": "2025-07-30T21:08:48.439585Z",
     "iopub.status.busy": "2025-07-30T21:08:48.439135Z",
     "iopub.status.idle": "2025-07-30T21:08:48.443713Z",
     "shell.execute_reply": "2025-07-30T21:08:48.442894Z"
    },
    "papermill": {
     "duration": 0.031185,
     "end_time": "2025-07-30T21:08:48.445328",
     "exception": false,
     "start_time": "2025-07-30T21:08:48.414143",
     "status": "completed"
    },
    "tags": []
   },
   "outputs": [],
   "source": [
    "#delete\n",
    "#cp_groups_df"
   ]
  },
  {
   "cell_type": "code",
   "execution_count": 65,
   "id": "fa424af1-d1eb-443d-b717-2d279ada8408",
   "metadata": {
    "execution": {
     "iopub.execute_input": "2025-07-30T21:08:48.495438Z",
     "iopub.status.busy": "2025-07-30T21:08:48.495037Z",
     "iopub.status.idle": "2025-07-30T21:08:48.499400Z",
     "shell.execute_reply": "2025-07-30T21:08:48.498598Z"
    },
    "papermill": {
     "duration": 0.031329,
     "end_time": "2025-07-30T21:08:48.501099",
     "exception": false,
     "start_time": "2025-07-30T21:08:48.469770",
     "status": "completed"
    },
    "tags": []
   },
   "outputs": [],
   "source": [
    "#delete\n",
    "#percentage = (cp_groups_df['nongerman_female'] == 1).mean() * 100\n",
    "#print(percentage)\n"
   ]
  },
  {
   "cell_type": "code",
   "execution_count": 66,
   "id": "6cbdab96-b2b2-45af-ad54-d0516db2e28d",
   "metadata": {
    "execution": {
     "iopub.execute_input": "2025-07-30T21:08:48.552640Z",
     "iopub.status.busy": "2025-07-30T21:08:48.551935Z",
     "iopub.status.idle": "2025-07-30T21:08:50.322156Z",
     "shell.execute_reply": "2025-07-30T21:08:50.321124Z"
    },
    "papermill": {
     "duration": 1.797944,
     "end_time": "2025-07-30T21:08:50.323963",
     "exception": false,
     "start_time": "2025-07-30T21:08:48.526019",
     "status": "completed"
    },
    "tags": []
   },
   "outputs": [],
   "source": [
    "# Define covered = 1 if true_label is in the predicted set\n",
    "cp_groups_df['covered'] = cp_groups_df.apply(\n",
    "    lambda r: int(r['true_label'] in r['pred_set']),\n",
    "    axis=1\n",
    ")"
   ]
  },
  {
   "cell_type": "code",
   "execution_count": 67,
   "id": "338ff529-1a6b-4b87-a931-8e4788d52aad",
   "metadata": {
    "execution": {
     "iopub.execute_input": "2025-07-30T21:08:50.376445Z",
     "iopub.status.busy": "2025-07-30T21:08:50.375748Z",
     "iopub.status.idle": "2025-07-30T21:08:50.381039Z",
     "shell.execute_reply": "2025-07-30T21:08:50.379984Z"
    },
    "papermill": {
     "duration": 0.032447,
     "end_time": "2025-07-30T21:08:50.382620",
     "exception": false,
     "start_time": "2025-07-30T21:08:50.350173",
     "status": "completed"
    },
    "tags": []
   },
   "outputs": [],
   "source": [
    "#cp_groups_df"
   ]
  },
  {
   "cell_type": "code",
   "execution_count": 68,
   "id": "90032e27-66df-4540-9169-4e89cfbaa758",
   "metadata": {
    "execution": {
     "iopub.execute_input": "2025-07-30T21:08:50.433684Z",
     "iopub.status.busy": "2025-07-30T21:08:50.433100Z",
     "iopub.status.idle": "2025-07-30T21:08:50.445572Z",
     "shell.execute_reply": "2025-07-30T21:08:50.444577Z"
    },
    "papermill": {
     "duration": 0.039479,
     "end_time": "2025-07-30T21:08:50.447358",
     "exception": false,
     "start_time": "2025-07-30T21:08:50.407879",
     "status": "completed"
    },
    "tags": []
   },
   "outputs": [],
   "source": [
    "subgroups = ['frau1','nongerman','nongerman_male','nongerman_female']\n",
    "\n",
    "# Conditional coverage for subgroup==1\n",
    "cond_coverage = {\n",
    "    g: cp_groups_df.loc[cp_groups_df[g]==1, 'covered'].mean()\n",
    "    for g in subgroups\n",
    "}"
   ]
  },
  {
   "cell_type": "code",
   "execution_count": 69,
   "id": "1e348fb1-b9c3-45bc-ba23-f016827a7e0d",
   "metadata": {
    "execution": {
     "iopub.execute_input": "2025-07-30T21:08:50.498483Z",
     "iopub.status.busy": "2025-07-30T21:08:50.497679Z",
     "iopub.status.idle": "2025-07-30T21:08:50.504681Z",
     "shell.execute_reply": "2025-07-30T21:08:50.503707Z"
    },
    "papermill": {
     "duration": 0.033196,
     "end_time": "2025-07-30T21:08:50.506230",
     "exception": false,
     "start_time": "2025-07-30T21:08:50.473034",
     "status": "completed"
    },
    "tags": []
   },
   "outputs": [
    {
     "data": {
      "text/plain": [
       "{'frau1': 0.9065372691737431,\n",
       " 'nongerman': 0.9107393476674339,\n",
       " 'nongerman_male': 0.9265964153832298,\n",
       " 'nongerman_female': 0.8845007451564829}"
      ]
     },
     "execution_count": 69,
     "metadata": {},
     "output_type": "execute_result"
    }
   ],
   "source": [
    "cond_coverage"
   ]
  },
  {
   "cell_type": "code",
   "execution_count": 70,
   "id": "f5093324-c3dd-4d63-bc4c-8d945e5c8bbb",
   "metadata": {
    "execution": {
     "iopub.execute_input": "2025-07-30T21:08:50.557682Z",
     "iopub.status.busy": "2025-07-30T21:08:50.556972Z",
     "iopub.status.idle": "2025-07-30T21:08:50.563359Z",
     "shell.execute_reply": "2025-07-30T21:08:50.562644Z"
    },
    "papermill": {
     "duration": 0.033911,
     "end_time": "2025-07-30T21:08:50.564783",
     "exception": false,
     "start_time": "2025-07-30T21:08:50.530872",
     "status": "completed"
    },
    "tags": []
   },
   "outputs": [],
   "source": [
    "for subgroup, cov in cond_coverage.items():\n",
    "    cp_metrics_df[f\"cov_{subgroup}\"] = cov"
   ]
  },
  {
   "cell_type": "code",
   "execution_count": 71,
   "id": "6e872e10-dbe5-49e8-b554-5030c98ff75d",
   "metadata": {
    "execution": {
     "iopub.execute_input": "2025-07-30T21:08:50.594940Z",
     "iopub.status.busy": "2025-07-30T21:08:50.594334Z",
     "iopub.status.idle": "2025-07-30T21:08:50.608763Z",
     "shell.execute_reply": "2025-07-30T21:08:50.607906Z"
    },
    "papermill": {
     "duration": 0.030298,
     "end_time": "2025-07-30T21:08:50.610102",
     "exception": false,
     "start_time": "2025-07-30T21:08:50.579804",
     "status": "completed"
    },
    "tags": []
   },
   "outputs": [
    {
     "data": {
      "text/html": [
       "<div>\n",
       "<style scoped>\n",
       "    .dataframe tbody tr th:only-of-type {\n",
       "        vertical-align: middle;\n",
       "    }\n",
       "\n",
       "    .dataframe tbody tr th {\n",
       "        vertical-align: top;\n",
       "    }\n",
       "\n",
       "    .dataframe thead th {\n",
       "        text-align: right;\n",
       "    }\n",
       "</style>\n",
       "<table border=\"1\" class=\"dataframe\">\n",
       "  <thead>\n",
       "    <tr style=\"text-align: right;\">\n",
       "      <th></th>\n",
       "      <th>universe_id</th>\n",
       "      <th>universe_training_year</th>\n",
       "      <th>universe_training_size</th>\n",
       "      <th>universe_scale</th>\n",
       "      <th>universe_model</th>\n",
       "      <th>universe_exclude_features</th>\n",
       "      <th>universe_exclude_subgroups</th>\n",
       "      <th>q_hat</th>\n",
       "      <th>coverage</th>\n",
       "      <th>avg_size</th>\n",
       "      <th>cov_frau1</th>\n",
       "      <th>cov_nongerman</th>\n",
       "      <th>cov_nongerman_male</th>\n",
       "      <th>cov_nongerman_female</th>\n",
       "    </tr>\n",
       "  </thead>\n",
       "  <tbody>\n",
       "    <tr>\n",
       "      <th>0</th>\n",
       "      <td>99782de0877ed794252b15f7335e26f3</td>\n",
       "      <td>2012_14</td>\n",
       "      <td>5k</td>\n",
       "      <td>do-not-scale</td>\n",
       "      <td>elasticnet</td>\n",
       "      <td>nationality</td>\n",
       "      <td>drop-non-german</td>\n",
       "      <td>0.693166</td>\n",
       "      <td>0.909865</td>\n",
       "      <td>1.151655</td>\n",
       "      <td>0.906537</td>\n",
       "      <td>0.910739</td>\n",
       "      <td>0.926596</td>\n",
       "      <td>0.884501</td>\n",
       "    </tr>\n",
       "  </tbody>\n",
       "</table>\n",
       "</div>"
      ],
      "text/plain": [
       "                        universe_id universe_training_year  \\\n",
       "0  99782de0877ed794252b15f7335e26f3                2012_14   \n",
       "\n",
       "  universe_training_size universe_scale universe_model  \\\n",
       "0                     5k   do-not-scale     elasticnet   \n",
       "\n",
       "  universe_exclude_features universe_exclude_subgroups     q_hat  coverage  \\\n",
       "0               nationality            drop-non-german  0.693166  0.909865   \n",
       "\n",
       "   avg_size  cov_frau1  cov_nongerman  cov_nongerman_male  \\\n",
       "0  1.151655   0.906537       0.910739            0.926596   \n",
       "\n",
       "   cov_nongerman_female  \n",
       "0              0.884501  "
      ]
     },
     "execution_count": 71,
     "metadata": {},
     "output_type": "execute_result"
    }
   ],
   "source": [
    "cp_metrics_df"
   ]
  },
  {
   "cell_type": "markdown",
   "id": "33774451",
   "metadata": {
    "papermill": {
     "duration": 0.013484,
     "end_time": "2025-07-30T21:08:50.638332",
     "exception": false,
     "start_time": "2025-07-30T21:08:50.624848",
     "status": "completed"
    },
    "tags": []
   },
   "source": [
    "# (Fairness) Metrics"
   ]
  },
  {
   "cell_type": "code",
   "execution_count": 72,
   "id": "debc5d62",
   "metadata": {
    "execution": {
     "iopub.execute_input": "2025-07-30T21:08:50.665767Z",
     "iopub.status.busy": "2025-07-30T21:08:50.665166Z",
     "iopub.status.idle": "2025-07-30T21:08:50.678638Z",
     "shell.execute_reply": "2025-07-30T21:08:50.677858Z"
    },
    "papermill": {
     "duration": 0.028439,
     "end_time": "2025-07-30T21:08:50.679927",
     "exception": false,
     "start_time": "2025-07-30T21:08:50.651488",
     "status": "completed"
    },
    "tags": []
   },
   "outputs": [],
   "source": [
    "# do I need to include maxdeutsch1.missing?\n",
    "\n",
    "import numpy as np\n",
    "\n",
    "colname_to_bin = \"maxdeutsch1\"\n",
    "majority_value = org_train[colname_to_bin].mode()[0]\n",
    "\n",
    "org_test[\"majmin\"] = np.where(org_test[colname_to_bin] == majority_value, \"majority\", \"minority\")"
   ]
  },
  {
   "cell_type": "code",
   "execution_count": 73,
   "id": "06a50de5",
   "metadata": {
    "execution": {
     "iopub.execute_input": "2025-07-30T21:08:50.733466Z",
     "iopub.status.busy": "2025-07-30T21:08:50.732642Z",
     "iopub.status.idle": "2025-07-30T21:08:53.662056Z",
     "shell.execute_reply": "2025-07-30T21:08:53.661328Z"
    },
    "papermill": {
     "duration": 2.958709,
     "end_time": "2025-07-30T21:08:53.663930",
     "exception": false,
     "start_time": "2025-07-30T21:08:50.705221",
     "status": "completed"
    },
    "tags": []
   },
   "outputs": [],
   "source": [
    "example_universe = universe.copy()\n",
    "example_universe[\"cutoff\"] = example_universe[\"cutoff\"][0]\n",
    "example_universe[\"eval_fairness_grouping\"] = example_universe[\"eval_fairness_grouping\"][0]\n",
    "fairness_dict, metric_frame = universe_analysis.compute_metrics(\n",
    "    example_universe,\n",
    "    y_pred_prob=probs_test,\n",
    "    y_test=y_true,\n",
    "    org_test=org_test,\n",
    ")"
   ]
  },
  {
   "cell_type": "markdown",
   "id": "f95d4e02",
   "metadata": {
    "papermill": {
     "duration": 0.029529,
     "end_time": "2025-07-30T21:08:53.724827",
     "exception": false,
     "start_time": "2025-07-30T21:08:53.695298",
     "status": "completed"
    },
    "tags": []
   },
   "source": [
    "# Overall"
   ]
  },
  {
   "cell_type": "markdown",
   "id": "bdee4871",
   "metadata": {
    "papermill": {
     "duration": 0.01563,
     "end_time": "2025-07-30T21:08:53.768533",
     "exception": false,
     "start_time": "2025-07-30T21:08:53.752903",
     "status": "completed"
    },
    "tags": []
   },
   "source": [
    "Fairness\n",
    "Main fairness target: Equalized Odds. Seems to be a better fit than equal opportunity, since we're not only interested in Y = 1. Seems to be a better fit than demographic parity, since we also care about accuracy, not just equal distribution of preds.\n",
    "\n",
    "Pick column for computation of fairness metrics\n",
    "\n",
    "Performance\n",
    "Overall performance measures, most interesting in relation to the measures split by group below"
   ]
  },
  {
   "cell_type": "code",
   "execution_count": 74,
   "id": "c4e067c6",
   "metadata": {
    "execution": {
     "iopub.execute_input": "2025-07-30T21:08:53.798497Z",
     "iopub.status.busy": "2025-07-30T21:08:53.798056Z",
     "iopub.status.idle": "2025-07-30T21:08:53.805652Z",
     "shell.execute_reply": "2025-07-30T21:08:53.804925Z"
    },
    "papermill": {
     "duration": 0.023805,
     "end_time": "2025-07-30T21:08:53.806930",
     "exception": false,
     "start_time": "2025-07-30T21:08:53.783125",
     "status": "completed"
    },
    "tags": []
   },
   "outputs": [
    {
     "data": {
      "text/plain": [
       "accuracy                   0.219362\n",
       "balanced accuracy          0.537421\n",
       "f1                         0.240832\n",
       "precision                  0.137579\n",
       "false positive rate        0.890399\n",
       "false negative rate        0.034758\n",
       "selection rate             0.900000\n",
       "count                  89710.000000\n",
       "dtype: float64"
      ]
     },
     "execution_count": 74,
     "metadata": {},
     "output_type": "execute_result"
    }
   ],
   "source": [
    "metric_frame.overall"
   ]
  },
  {
   "cell_type": "markdown",
   "id": "e968fe9d",
   "metadata": {
    "papermill": {
     "duration": 0.013949,
     "end_time": "2025-07-30T21:08:53.839706",
     "exception": false,
     "start_time": "2025-07-30T21:08:53.825757",
     "status": "completed"
    },
    "tags": []
   },
   "source": [
    "By Group"
   ]
  },
  {
   "cell_type": "code",
   "execution_count": 75,
   "id": "ec325bce",
   "metadata": {
    "execution": {
     "iopub.execute_input": "2025-07-30T21:08:53.868771Z",
     "iopub.status.busy": "2025-07-30T21:08:53.868185Z",
     "iopub.status.idle": "2025-07-30T21:08:53.884442Z",
     "shell.execute_reply": "2025-07-30T21:08:53.883274Z"
    },
    "papermill": {
     "duration": 0.032246,
     "end_time": "2025-07-30T21:08:53.885912",
     "exception": false,
     "start_time": "2025-07-30T21:08:53.853666",
     "status": "completed"
    },
    "tags": []
   },
   "outputs": [
    {
     "data": {
      "text/html": [
       "<div>\n",
       "<style scoped>\n",
       "    .dataframe tbody tr th:only-of-type {\n",
       "        vertical-align: middle;\n",
       "    }\n",
       "\n",
       "    .dataframe tbody tr th {\n",
       "        vertical-align: top;\n",
       "    }\n",
       "\n",
       "    .dataframe thead th {\n",
       "        text-align: right;\n",
       "    }\n",
       "</style>\n",
       "<table border=\"1\" class=\"dataframe\">\n",
       "  <thead>\n",
       "    <tr style=\"text-align: right;\">\n",
       "      <th></th>\n",
       "      <th>accuracy</th>\n",
       "      <th>balanced accuracy</th>\n",
       "      <th>f1</th>\n",
       "      <th>precision</th>\n",
       "      <th>false positive rate</th>\n",
       "      <th>false negative rate</th>\n",
       "      <th>selection rate</th>\n",
       "      <th>count</th>\n",
       "    </tr>\n",
       "    <tr>\n",
       "      <th>majmin</th>\n",
       "      <th></th>\n",
       "      <th></th>\n",
       "      <th></th>\n",
       "      <th></th>\n",
       "      <th></th>\n",
       "      <th></th>\n",
       "      <th></th>\n",
       "      <th></th>\n",
       "    </tr>\n",
       "  </thead>\n",
       "  <tbody>\n",
       "    <tr>\n",
       "      <th>majority</th>\n",
       "      <td>0.241376</td>\n",
       "      <td>0.546379</td>\n",
       "      <td>0.250800</td>\n",
       "      <td>0.144220</td>\n",
       "      <td>0.868183</td>\n",
       "      <td>0.039059</td>\n",
       "      <td>0.880439</td>\n",
       "      <td>69170.0</td>\n",
       "    </tr>\n",
       "    <tr>\n",
       "      <th>minority</th>\n",
       "      <td>0.145229</td>\n",
       "      <td>0.509025</td>\n",
       "      <td>0.209393</td>\n",
       "      <td>0.117193</td>\n",
       "      <td>0.963790</td>\n",
       "      <td>0.018159</td>\n",
       "      <td>0.965871</td>\n",
       "      <td>20540.0</td>\n",
       "    </tr>\n",
       "  </tbody>\n",
       "</table>\n",
       "</div>"
      ],
      "text/plain": [
       "          accuracy  balanced accuracy        f1  precision  \\\n",
       "majmin                                                       \n",
       "majority  0.241376           0.546379  0.250800   0.144220   \n",
       "minority  0.145229           0.509025  0.209393   0.117193   \n",
       "\n",
       "          false positive rate  false negative rate  selection rate    count  \n",
       "majmin                                                                       \n",
       "majority             0.868183             0.039059        0.880439  69170.0  \n",
       "minority             0.963790             0.018159        0.965871  20540.0  "
      ]
     },
     "execution_count": 75,
     "metadata": {},
     "output_type": "execute_result"
    }
   ],
   "source": [
    "metric_frame.by_group"
   ]
  },
  {
   "cell_type": "code",
   "execution_count": 76,
   "id": "a9ddbe63",
   "metadata": {
    "execution": {
     "iopub.execute_input": "2025-07-30T21:08:53.947124Z",
     "iopub.status.busy": "2025-07-30T21:08:53.946641Z",
     "iopub.status.idle": "2025-07-30T21:08:56.391194Z",
     "shell.execute_reply": "2025-07-30T21:08:56.390241Z"
    },
    "papermill": {
     "duration": 2.477915,
     "end_time": "2025-07-30T21:08:56.392976",
     "exception": false,
     "start_time": "2025-07-30T21:08:53.915061",
     "status": "completed"
    },
    "tags": []
   },
   "outputs": [
    {
     "data": {
      "text/plain": [
       "array([[<Axes: title={'center': 'accuracy'}, xlabel='majmin'>,\n",
       "        <Axes: title={'center': 'balanced accuracy'}, xlabel='majmin'>,\n",
       "        <Axes: title={'center': 'f1'}, xlabel='majmin'>],\n",
       "       [<Axes: title={'center': 'precision'}, xlabel='majmin'>,\n",
       "        <Axes: title={'center': 'false positive rate'}, xlabel='majmin'>,\n",
       "        <Axes: title={'center': 'false negative rate'}, xlabel='majmin'>],\n",
       "       [<Axes: title={'center': 'selection rate'}, xlabel='majmin'>,\n",
       "        <Axes: title={'center': 'count'}, xlabel='majmin'>,\n",
       "        <Axes: xlabel='majmin'>]], dtype=object)"
      ]
     },
     "execution_count": 76,
     "metadata": {},
     "output_type": "execute_result"
    },
    {
     "data": {
      "image/png": "[encoded data removed]",
      "text/plain": [
       "<Figure size 1200x800 with 9 Axes>"
      ]
     },
     "metadata": {},
     "output_type": "display_data"
    }
   ],
   "source": [
    "# In a graphic\n",
    "metric_frame.by_group.plot.bar(\n",
    "    subplots=True,\n",
    "    layout=[3, 3],\n",
    "    legend=False,\n",
    "    figsize=[12, 8],\n",
    "    title=\"Show all metrics\",\n",
    ")"
   ]
  },
  {
   "cell_type": "markdown",
   "id": "f57a0bac",
   "metadata": {
    "papermill": {
     "duration": 0.028253,
     "end_time": "2025-07-30T21:08:56.451251",
     "exception": false,
     "start_time": "2025-07-30T21:08:56.422998",
     "status": "completed"
    },
    "tags": []
   },
   "source": [
    "# Final Output"
   ]
  },
  {
   "cell_type": "code",
   "execution_count": 77,
   "id": "96d280a3",
   "metadata": {
    "execution": {
     "iopub.execute_input": "2025-07-30T21:08:56.511144Z",
     "iopub.status.busy": "2025-07-30T21:08:56.510447Z",
     "iopub.status.idle": "2025-07-30T21:08:56.518844Z",
     "shell.execute_reply": "2025-07-30T21:08:56.517974Z"
    },
    "papermill": {
     "duration": 0.039761,
     "end_time": "2025-07-30T21:08:56.520400",
     "exception": false,
     "start_time": "2025-07-30T21:08:56.480639",
     "status": "completed"
    },
    "tags": []
   },
   "outputs": [
    {
     "data": {
      "text/plain": [
       "4"
      ]
     },
     "execution_count": 77,
     "metadata": {},
     "output_type": "execute_result"
    }
   ],
   "source": [
    "sub_universes = universe_analysis.generate_sub_universes()\n",
    "len(sub_universes)"
   ]
  },
  {
   "cell_type": "code",
   "execution_count": 78,
   "id": "92adf7ba",
   "metadata": {
    "execution": {
     "iopub.execute_input": "2025-07-30T21:08:56.581507Z",
     "iopub.status.busy": "2025-07-30T21:08:56.580625Z",
     "iopub.status.idle": "2025-07-30T21:08:56.586929Z",
     "shell.execute_reply": "2025-07-30T21:08:56.585888Z"
    },
    "papermill": {
     "duration": 0.038526,
     "end_time": "2025-07-30T21:08:56.588412",
     "exception": false,
     "start_time": "2025-07-30T21:08:56.549886",
     "status": "completed"
    },
    "tags": []
   },
   "outputs": [],
   "source": [
    "def filter_sub_universe_data(sub_universe, org_test):\n",
    "    # Keep all rows — no filtering\n",
    "    keep_rows_mask = np.ones(org_test.shape[0], dtype=bool)\n",
    "\n",
    "    print(f\"[INFO] Keeping all rows: {keep_rows_mask.sum()} rows retained.\")\n",
    "    return keep_rows_mask"
   ]
  },
  {
   "cell_type": "code",
   "execution_count": 79,
   "id": "4a759155",
   "metadata": {
    "execution": {
     "iopub.execute_input": "2025-07-30T21:08:56.648350Z",
     "iopub.status.busy": "2025-07-30T21:08:56.647862Z",
     "iopub.status.idle": "2025-07-30T21:09:07.027574Z",
     "shell.execute_reply": "2025-07-30T21:09:07.026741Z"
    },
    "papermill": {
     "duration": 10.410691,
     "end_time": "2025-07-30T21:09:07.029107",
     "exception": false,
     "start_time": "2025-07-30T21:08:56.618416",
     "status": "completed"
    },
    "tags": []
   },
   "outputs": [
    {
     "name": "stdout",
     "output_type": "stream",
     "text": [
      "Stopping execution_time clock.\n",
      "[INFO] Keeping all rows: 89710 rows retained.\n"
     ]
    },
    {
     "name": "stdout",
     "output_type": "stream",
     "text": [
      "[INFO] Keeping all rows: 89710 rows retained.\n"
     ]
    },
    {
     "name": "stdout",
     "output_type": "stream",
     "text": [
      "[INFO] Keeping all rows: 89710 rows retained.\n"
     ]
    },
    {
     "name": "stdout",
     "output_type": "stream",
     "text": [
      "[INFO] Keeping all rows: 89710 rows retained.\n"
     ]
    },
    {
     "data": {
      "text/html": [
       "<div>\n",
       "<style scoped>\n",
       "    .dataframe tbody tr th:only-of-type {\n",
       "        vertical-align: middle;\n",
       "    }\n",
       "\n",
       "    .dataframe tbody tr th {\n",
       "        vertical-align: top;\n",
       "    }\n",
       "\n",
       "    .dataframe thead th {\n",
       "        text-align: right;\n",
       "    }\n",
       "</style>\n",
       "<table border=\"1\" class=\"dataframe\">\n",
       "  <thead>\n",
       "    <tr style=\"text-align: right;\">\n",
       "      <th></th>\n",
       "      <th>run_no</th>\n",
       "      <th>universe_id</th>\n",
       "      <th>universe_settings</th>\n",
       "      <th>execution_time</th>\n",
       "      <th>test_size_n</th>\n",
       "      <th>test_size_frac</th>\n",
       "      <th>fair_main_equalized_odds_difference</th>\n",
       "      <th>fair_main_equalized_odds_ratio</th>\n",
       "      <th>fair_main_demographic_parity_difference</th>\n",
       "      <th>fair_main_demographic_parity_ratio</th>\n",
       "      <th>...</th>\n",
       "      <th>perf_grp_precision_0</th>\n",
       "      <th>perf_grp_precision_1</th>\n",
       "      <th>perf_grp_false positive rate_0</th>\n",
       "      <th>perf_grp_false positive rate_1</th>\n",
       "      <th>perf_grp_false negative rate_0</th>\n",
       "      <th>perf_grp_false negative rate_1</th>\n",
       "      <th>perf_grp_selection rate_0</th>\n",
       "      <th>perf_grp_selection rate_1</th>\n",
       "      <th>perf_grp_count_0</th>\n",
       "      <th>perf_grp_count_1</th>\n",
       "    </tr>\n",
       "  </thead>\n",
       "  <tbody>\n",
       "    <tr>\n",
       "      <th>0</th>\n",
       "      <td>14</td>\n",
       "      <td>99782de0877ed794252b15f7335e26f3</td>\n",
       "      <td>{\"cutoff\": \"quantile_0.1\", \"eval_fairness_grou...</td>\n",
       "      <td>105.481702</td>\n",
       "      <td>89710</td>\n",
       "      <td>1.0</td>\n",
       "      <td>0.095608</td>\n",
       "      <td>0.900800</td>\n",
       "      <td>0.085432</td>\n",
       "      <td>0.911549</td>\n",
       "      <td>...</td>\n",
       "      <td>NaN</td>\n",
       "      <td>NaN</td>\n",
       "      <td>NaN</td>\n",
       "      <td>NaN</td>\n",
       "      <td>NaN</td>\n",
       "      <td>NaN</td>\n",
       "      <td>NaN</td>\n",
       "      <td>NaN</td>\n",
       "      <td>NaN</td>\n",
       "      <td>NaN</td>\n",
       "    </tr>\n",
       "    <tr>\n",
       "      <th>0</th>\n",
       "      <td>14</td>\n",
       "      <td>99782de0877ed794252b15f7335e26f3</td>\n",
       "      <td>{\"cutoff\": \"quantile_0.1\", \"eval_fairness_grou...</td>\n",
       "      <td>105.481702</td>\n",
       "      <td>89710</td>\n",
       "      <td>1.0</td>\n",
       "      <td>0.095608</td>\n",
       "      <td>0.900800</td>\n",
       "      <td>0.085432</td>\n",
       "      <td>0.911549</td>\n",
       "      <td>...</td>\n",
       "      <td>0.117193</td>\n",
       "      <td>0.144220</td>\n",
       "      <td>0.963790</td>\n",
       "      <td>0.868183</td>\n",
       "      <td>0.018159</td>\n",
       "      <td>0.039059</td>\n",
       "      <td>0.965871</td>\n",
       "      <td>0.880439</td>\n",
       "      <td>20540.0</td>\n",
       "      <td>69170.0</td>\n",
       "    </tr>\n",
       "    <tr>\n",
       "      <th>0</th>\n",
       "      <td>14</td>\n",
       "      <td>99782de0877ed794252b15f7335e26f3</td>\n",
       "      <td>{\"cutoff\": \"quantile_0.25\", \"eval_fairness_gro...</td>\n",
       "      <td>105.481702</td>\n",
       "      <td>89710</td>\n",
       "      <td>1.0</td>\n",
       "      <td>0.218228</td>\n",
       "      <td>0.756426</td>\n",
       "      <td>0.197202</td>\n",
       "      <td>0.781384</td>\n",
       "      <td>...</td>\n",
       "      <td>NaN</td>\n",
       "      <td>NaN</td>\n",
       "      <td>NaN</td>\n",
       "      <td>NaN</td>\n",
       "      <td>NaN</td>\n",
       "      <td>NaN</td>\n",
       "      <td>NaN</td>\n",
       "      <td>NaN</td>\n",
       "      <td>NaN</td>\n",
       "      <td>NaN</td>\n",
       "    </tr>\n",
       "    <tr>\n",
       "      <th>0</th>\n",
       "      <td>14</td>\n",
       "      <td>99782de0877ed794252b15f7335e26f3</td>\n",
       "      <td>{\"cutoff\": \"quantile_0.25\", \"eval_fairness_gro...</td>\n",
       "      <td>105.481702</td>\n",
       "      <td>89710</td>\n",
       "      <td>1.0</td>\n",
       "      <td>0.218228</td>\n",
       "      <td>0.756426</td>\n",
       "      <td>0.197202</td>\n",
       "      <td>0.781384</td>\n",
       "      <td>...</td>\n",
       "      <td>0.121276</td>\n",
       "      <td>0.165545</td>\n",
       "      <td>0.895939</td>\n",
       "      <td>0.677711</td>\n",
       "      <td>0.051098</td>\n",
       "      <td>0.116958</td>\n",
       "      <td>0.902045</td>\n",
       "      <td>0.704843</td>\n",
       "      <td>20540.0</td>\n",
       "      <td>69170.0</td>\n",
       "    </tr>\n",
       "  </tbody>\n",
       "</table>\n",
       "<p>4 rows × 50 columns</p>\n",
       "</div>"
      ],
      "text/plain": [
       "  run_no                       universe_id  \\\n",
       "0     14  99782de0877ed794252b15f7335e26f3   \n",
       "0     14  99782de0877ed794252b15f7335e26f3   \n",
       "0     14  99782de0877ed794252b15f7335e26f3   \n",
       "0     14  99782de0877ed794252b15f7335e26f3   \n",
       "\n",
       "                                   universe_settings  execution_time  \\\n",
       "0  {\"cutoff\": \"quantile_0.1\", \"eval_fairness_grou...      105.481702   \n",
       "0  {\"cutoff\": \"quantile_0.1\", \"eval_fairness_grou...      105.481702   \n",
       "0  {\"cutoff\": \"quantile_0.25\", \"eval_fairness_gro...      105.481702   \n",
       "0  {\"cutoff\": \"quantile_0.25\", \"eval_fairness_gro...      105.481702   \n",
       "\n",
       "   test_size_n  test_size_frac  fair_main_equalized_odds_difference  \\\n",
       "0        89710             1.0                             0.095608   \n",
       "0        89710             1.0                             0.095608   \n",
       "0        89710             1.0                             0.218228   \n",
       "0        89710             1.0                             0.218228   \n",
       "\n",
       "   fair_main_equalized_odds_ratio  fair_main_demographic_parity_difference  \\\n",
       "0                        0.900800                                 0.085432   \n",
       "0                        0.900800                                 0.085432   \n",
       "0                        0.756426                                 0.197202   \n",
       "0                        0.756426                                 0.197202   \n",
       "\n",
       "   fair_main_demographic_parity_ratio  ...  perf_grp_precision_0  \\\n",
       "0                            0.911549  ...                   NaN   \n",
       "0                            0.911549  ...              0.117193   \n",
       "0                            0.781384  ...                   NaN   \n",
       "0                            0.781384  ...              0.121276   \n",
       "\n",
       "   perf_grp_precision_1  perf_grp_false positive rate_0  \\\n",
       "0                   NaN                             NaN   \n",
       "0              0.144220                        0.963790   \n",
       "0                   NaN                             NaN   \n",
       "0              0.165545                        0.895939   \n",
       "\n",
       "   perf_grp_false positive rate_1  perf_grp_false negative rate_0  \\\n",
       "0                             NaN                             NaN   \n",
       "0                        0.868183                        0.018159   \n",
       "0                             NaN                             NaN   \n",
       "0                        0.677711                        0.051098   \n",
       "\n",
       "   perf_grp_false negative rate_1  perf_grp_selection rate_0  \\\n",
       "0                             NaN                        NaN   \n",
       "0                        0.039059                   0.965871   \n",
       "0                             NaN                        NaN   \n",
       "0                        0.116958                   0.902045   \n",
       "\n",
       "   perf_grp_selection rate_1  perf_grp_count_0  perf_grp_count_1  \n",
       "0                        NaN               NaN               NaN  \n",
       "0                   0.880439           20540.0           69170.0  \n",
       "0                        NaN               NaN               NaN  \n",
       "0                   0.704843           20540.0           69170.0  \n",
       "\n",
       "[4 rows x 50 columns]"
      ]
     },
     "execution_count": 79,
     "metadata": {},
     "output_type": "execute_result"
    }
   ],
   "source": [
    "final_output = universe_analysis.generate_final_output(\n",
    "    y_pred_prob=probs_test,\n",
    "    y_test=y_true,\n",
    "    org_test=org_test,\n",
    "    filter_data=filter_sub_universe_data,\n",
    "    cp_metrics_df=cp_metrics_df,\n",
    "    save=True,\n",
    ")\n",
    "final_output"
   ]
  },
  {
   "cell_type": "code",
   "execution_count": null,
   "id": "721ff514-cb11-46f8-b6fc-50392f74b5cb",
   "metadata": {
    "papermill": {
     "duration": 0.029162,
     "end_time": "2025-07-30T21:09:07.090252",
     "exception": false,
     "start_time": "2025-07-30T21:09:07.061090",
     "status": "completed"
    },
    "tags": []
   },
   "outputs": [],
   "source": []
  }
 ],
 "metadata": {
  "celltoolbar": "Tags",
  "kernelspec": {
   "display_name": "Python (CMA Fairness)",
   "language": "python",
   "name": "cma_fair_env"
  },
  "language_info": {
   "codemirror_mode": {
    "name": "ipython",
    "version": 3
   },
   "file_extension": ".py",
   "mimetype": "text/x-python",
   "name": "python",
   "nbconvert_exporter": "python",
   "pygments_lexer": "ipython3",
   "version": "3.10.12"
  },
  "papermill": {
   "default_parameters": {},
   "duration": 120.209416,
   "end_time": "2025-07-30T21:09:07.927168",
   "environment_variables": {},
   "exception": null,
   "input_path": "universe_analysis.ipynb",
   "output_path": "output/runs/14/notebooks/m_14-99782de0877ed794252b15f7335e26f3.ipynb",
   "parameters": {
    "output_dir": "output",
    "run_no": "14",
    "seed": "2023",
    "universe": "{\"cutoff\": [\"quantile_0.1\", \"quantile_0.25\"], \"eval_fairness_grouping\": [\"majority-minority\", \"nationality-all\"], \"exclude_features\": \"nationality\", \"exclude_subgroups\": \"drop-non-german\", \"model\": \"elasticnet\", \"scale\": \"do-not-scale\", \"training_size\": \"5k\", \"training_year\": \"2012_14\"}",
    "universe_id": "99782de0877ed794252b15f7335e26f3"
   },
   "start_time": "2025-07-30T21:07:07.717752",
   "version": "2.6.0"
  }
 },
 "nbformat": 4,
 "nbformat_minor": 5
}