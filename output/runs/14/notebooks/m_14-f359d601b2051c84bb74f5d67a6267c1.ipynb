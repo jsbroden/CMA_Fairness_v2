{
 "cells": [
  {
   "cell_type": "code",
   "execution_count": 1,
   "id": "f159f837-637b-42ba-96b5-ec9a68c44524",
   "metadata": {
    "execution": {
     "iopub.execute_input": "2025-07-30T21:47:01.964956Z",
     "iopub.status.busy": "2025-07-30T21:47:01.963952Z",
     "iopub.status.idle": "2025-07-30T21:47:01.978719Z",
     "shell.execute_reply": "2025-07-30T21:47:01.977853Z"
    },
    "papermill": {
     "duration": 0.036115,
     "end_time": "2025-07-30T21:47:01.980300",
     "exception": false,
     "start_time": "2025-07-30T21:47:01.944185",
     "status": "completed"
    },
    "tags": []
   },
   "outputs": [
    {
     "name": "stdout",
     "output_type": "stream",
     "text": [
      "/dss/dsshome1/0C/ra93lal2/cma/CMA_Fairness_v2\n"
     ]
    },
    {
     "name": "stderr",
     "output_type": "stream",
     "text": [
      "/dss/dsshome1/0C/ra93lal2/.local/share/virtualenvs/CMA_Fairness_v2-3j10GkSs/lib/python3.10/site-packages/IPython/core/magics/osm.py:393: UserWarning: This is now an optional IPython functionality, using bookmarks requires you to install the `pickleshare` library.\n",
      "  bkms = self.shell.db.get('bookmarks', {})\n",
      "/dss/dsshome1/0C/ra93lal2/.local/share/virtualenvs/CMA_Fairness_v2-3j10GkSs/lib/python3.10/site-packages/IPython/core/magics/osm.py:417: UserWarning: This is now an optional IPython functionality, setting dhist requires you to install the `pickleshare` library.\n",
      "  self.shell.db['dhist'] = compress_dhist(dhist)[-100:]\n"
     ]
    }
   ],
   "source": [
    "%cd ~/cma/CMA_Fairness_v2"
   ]
  },
  {
   "cell_type": "markdown",
   "id": "de2603b9",
   "metadata": {
    "papermill": {
     "duration": 0.018733,
     "end_time": "2025-07-30T21:47:02.017811",
     "exception": false,
     "start_time": "2025-07-30T21:47:01.999078",
     "status": "completed"
    },
    "tags": []
   },
   "source": [
    "The following cell holds the definition of our parameters, these values can be overriden by rendering the with e.g. the following command:\n",
    "\n",
    "papermill -p alpha 0.2 -p ratio 0.3 universe_analysis.ipynb output/test_run.ipynb"
   ]
  },
  {
   "cell_type": "code",
   "execution_count": 2,
   "id": "a80968a0-40bb-4fa9-85ef-2d5eefb01975",
   "metadata": {
    "execution": {
     "iopub.execute_input": "2025-07-30T21:47:02.056971Z",
     "iopub.status.busy": "2025-07-30T21:47:02.056322Z",
     "iopub.status.idle": "2025-07-30T21:47:02.061666Z",
     "shell.execute_reply": "2025-07-30T21:47:02.060824Z"
    },
    "papermill": {
     "duration": 0.025962,
     "end_time": "2025-07-30T21:47:02.063241",
     "exception": false,
     "start_time": "2025-07-30T21:47:02.037279",
     "status": "completed"
    },
    "tags": []
   },
   "outputs": [
    {
     "name": "stdout",
     "output_type": "stream",
     "text": [
      "Current working directory: /dss/dsshome1/0C/ra93lal2/cma/CMA_Fairness_v2\n"
     ]
    }
   ],
   "source": [
    "import os\n",
    "print(\"Current working directory:\", os.getcwd())"
   ]
  },
  {
   "cell_type": "code",
   "execution_count": 3,
   "id": "2dce4c03",
   "metadata": {
    "execution": {
     "iopub.execute_input": "2025-07-30T21:47:02.103132Z",
     "iopub.status.busy": "2025-07-30T21:47:02.102696Z",
     "iopub.status.idle": "2025-07-30T21:47:02.108733Z",
     "shell.execute_reply": "2025-07-30T21:47:02.107736Z"
    },
    "papermill": {
     "duration": 0.027898,
     "end_time": "2025-07-30T21:47:02.110464",
     "exception": false,
     "start_time": "2025-07-30T21:47:02.082566",
     "status": "completed"
    },
    "tags": [
     "parameters"
    ]
   },
   "outputs": [],
   "source": [
    "run_no = 0\n",
    "universe_id = \"test\"\n",
    "universe = {\n",
    "    \"training_size\": \"25k\", # \"25k\", \"5k\", \"1k\"\n",
    "    \"training_year\": \"2014\", # \"2014\", \"2012_14\", \"2010_14\"\n",
    "    \"scale\": \"scale\", # \"scale\", \"do-not-scale\",\n",
    "    #\"stratify_split\": \"target\", # \"none\", \"target\", \"protected-attribute\", \"both\",\n",
    "    \"model\": \"elasticnet\", # \"logreg\", \"penalized_logreg\", \"rf\", \"gbm\", \"elasticnet\"\n",
    "    \"cutoff\": [\"quantile_0.15\", \"quantile_0.30\"],\n",
    "    \"exclude_features\": \"age\", # \"none\", \"nationality\", \"sex\", \"nationality-sex\", \"age\"\n",
    "    \"exclude_subgroups\": \"keep-all\", # \"keep-all\", \"drop-non-german\"\n",
    "    \"eval_fairness_grouping\": [\"majority-minority\", \"nationality-all\"]\n",
    "}\n",
    "\n",
    "output_dir=\"./output\"\n",
    "seed=0"
   ]
  },
  {
   "cell_type": "code",
   "execution_count": 4,
   "id": "f09c3f8e",
   "metadata": {
    "execution": {
     "iopub.execute_input": "2025-07-30T21:47:02.148883Z",
     "iopub.status.busy": "2025-07-30T21:47:02.148381Z",
     "iopub.status.idle": "2025-07-30T21:47:02.153727Z",
     "shell.execute_reply": "2025-07-30T21:47:02.152827Z"
    },
    "papermill": {
     "duration": 0.02604,
     "end_time": "2025-07-30T21:47:02.155214",
     "exception": false,
     "start_time": "2025-07-30T21:47:02.129174",
     "status": "completed"
    },
    "tags": [
     "injected-parameters"
    ]
   },
   "outputs": [],
   "source": [
    "# Parameters\n",
    "universe_id = \"f359d601b2051c84bb74f5d67a6267c1\"\n",
    "run_no = \"14\"\n",
    "universe = \"{\\\"cutoff\\\": [\\\"quantile_0.1\\\", \\\"quantile_0.25\\\"], \\\"eval_fairness_grouping\\\": [\\\"majority-minority\\\", \\\"nationality-all\\\"], \\\"exclude_features\\\": \\\"nationality\\\", \\\"exclude_subgroups\\\": \\\"drop-non-german\\\", \\\"model\\\": \\\"gbm\\\", \\\"scale\\\": \\\"scale\\\", \\\"training_size\\\": \\\"1k\\\", \\\"training_year\\\": \\\"2010_14\\\"}\"\n",
    "output_dir = \"output\"\n",
    "seed = \"2023\"\n"
   ]
  },
  {
   "cell_type": "code",
   "execution_count": 5,
   "id": "1650acaf",
   "metadata": {
    "execution": {
     "iopub.execute_input": "2025-07-30T21:47:02.193241Z",
     "iopub.status.busy": "2025-07-30T21:47:02.192690Z",
     "iopub.status.idle": "2025-07-30T21:47:02.198011Z",
     "shell.execute_reply": "2025-07-30T21:47:02.197009Z"
    },
    "papermill": {
     "duration": 0.026083,
     "end_time": "2025-07-30T21:47:02.199765",
     "exception": false,
     "start_time": "2025-07-30T21:47:02.173682",
     "status": "completed"
    },
    "tags": []
   },
   "outputs": [],
   "source": [
    "import json\n",
    "# Parse universe into dict if it is passed as a string\n",
    "if isinstance(universe, str):\n",
    "    universe = json.loads(universe)"
   ]
  },
  {
   "cell_type": "code",
   "execution_count": 6,
   "id": "16620c48",
   "metadata": {
    "execution": {
     "iopub.execute_input": "2025-07-30T21:47:02.240299Z",
     "iopub.status.busy": "2025-07-30T21:47:02.239799Z",
     "iopub.status.idle": "2025-07-30T21:47:02.284900Z",
     "shell.execute_reply": "2025-07-30T21:47:02.283952Z"
    },
    "papermill": {
     "duration": 0.067039,
     "end_time": "2025-07-30T21:47:02.286641",
     "exception": false,
     "start_time": "2025-07-30T21:47:02.219602",
     "status": "completed"
    },
    "tags": []
   },
   "outputs": [],
   "source": [
    "# Auto-reload the custom package\n",
    "%load_ext autoreload\n",
    "%autoreload 1\n",
    "%aimport fairness_multiverse"
   ]
  },
  {
   "cell_type": "code",
   "execution_count": 7,
   "id": "01c5c9f3",
   "metadata": {
    "execution": {
     "iopub.execute_input": "2025-07-30T21:47:02.325431Z",
     "iopub.status.busy": "2025-07-30T21:47:02.324880Z",
     "iopub.status.idle": "2025-07-30T21:47:04.255633Z",
     "shell.execute_reply": "2025-07-30T21:47:04.254753Z"
    },
    "papermill": {
     "duration": 1.951469,
     "end_time": "2025-07-30T21:47:04.257542",
     "exception": false,
     "start_time": "2025-07-30T21:47:02.306073",
     "status": "completed"
    },
    "tags": []
   },
   "outputs": [],
   "source": [
    "from fairness_multiverse.universe import UniverseAnalysis\n",
    "\n",
    "universe_analysis = UniverseAnalysis(\n",
    "    run_no = run_no,\n",
    "    universe_id = universe_id,\n",
    "    universe = universe,\n",
    "    output_dir=output_dir,\n",
    ")"
   ]
  },
  {
   "cell_type": "code",
   "execution_count": 8,
   "id": "106241f5",
   "metadata": {
    "execution": {
     "iopub.execute_input": "2025-07-30T21:47:04.297543Z",
     "iopub.status.busy": "2025-07-30T21:47:04.297119Z",
     "iopub.status.idle": "2025-07-30T21:47:04.302957Z",
     "shell.execute_reply": "2025-07-30T21:47:04.302167Z"
    },
    "papermill": {
     "duration": 0.027408,
     "end_time": "2025-07-30T21:47:04.304517",
     "exception": false,
     "start_time": "2025-07-30T21:47:04.277109",
     "status": "completed"
    },
    "tags": []
   },
   "outputs": [
    {
     "name": "stdout",
     "output_type": "stream",
     "text": [
      "Using Seed: 2023\n"
     ]
    }
   ],
   "source": [
    "import numpy as np\n",
    "parsed_seed = int(seed)\n",
    "np.random.seed(parsed_seed)\n",
    "print(f\"Using Seed: {parsed_seed}\")"
   ]
  },
  {
   "cell_type": "markdown",
   "id": "e0ebdc57",
   "metadata": {
    "papermill": {
     "duration": 0.018681,
     "end_time": "2025-07-30T21:47:04.342684",
     "exception": false,
     "start_time": "2025-07-30T21:47:04.324003",
     "status": "completed"
    },
    "tags": []
   },
   "source": [
    "# Loading Data"
   ]
  },
  {
   "cell_type": "markdown",
   "id": "681925a3",
   "metadata": {
    "papermill": {
     "duration": 0.019985,
     "end_time": "2025-07-30T21:47:04.383659",
     "exception": false,
     "start_time": "2025-07-30T21:47:04.363674",
     "status": "completed"
    },
    "tags": []
   },
   "source": [
    "Load siab_train, siab_test, siab_calib and/or \n",
    "load siab_train_features, siab_train_labels"
   ]
  },
  {
   "cell_type": "code",
   "execution_count": 9,
   "id": "f0496b8a",
   "metadata": {
    "execution": {
     "iopub.execute_input": "2025-07-30T21:47:04.427348Z",
     "iopub.status.busy": "2025-07-30T21:47:04.426665Z",
     "iopub.status.idle": "2025-07-30T21:47:16.366188Z",
     "shell.execute_reply": "2025-07-30T21:47:16.365105Z"
    },
    "papermill": {
     "duration": 11.96147,
     "end_time": "2025-07-30T21:47:16.367819",
     "exception": false,
     "start_time": "2025-07-30T21:47:04.406349",
     "status": "completed"
    },
    "tags": []
   },
   "outputs": [
    {
     "name": "stdout",
     "output_type": "stream",
     "text": [
      "Loading SIAB data from cache: data/siab_cached.csv.gz\n"
     ]
    },
    {
     "name": "stdout",
     "output_type": "stream",
     "text": [
      "(643690, 164)\n"
     ]
    }
   ],
   "source": [
    "from pathlib import Path\n",
    "import pandas as pd\n",
    "\n",
    "# File paths\n",
    "raw_file = Path(\"data/raw/siab.csv\")\n",
    "cache_file = Path(\"data/siab_cached.csv.gz\")\n",
    "\n",
    "# Ensure cache directory exists\n",
    "cache_file.parent.mkdir(parents=True, exist_ok=True)\n",
    "\n",
    "# Load with simple caching\n",
    "if cache_file.exists():\n",
    "    print(f\"Loading SIAB data from cache: {cache_file}\")\n",
    "    siab = pd.read_csv(cache_file, compression='gzip')\n",
    "else:\n",
    "    print(f\"Cache not found. Reading raw SIAB data: {raw_file}\")\n",
    "    siab = pd.read_csv(raw_file)\n",
    "    siab.to_csv(cache_file, index=False, compression='gzip')\n",
    "    print(f\"Cached SIAB data to: {cache_file}\")\n",
    "\n",
    "# Now use `siab` DataFrame as needed\n",
    "print(siab.shape)"
   ]
  },
  {
   "cell_type": "code",
   "execution_count": 10,
   "id": "db0ca512-5f53-4dba-abdb-a2888bca41ba",
   "metadata": {
    "execution": {
     "iopub.execute_input": "2025-07-30T21:47:16.416595Z",
     "iopub.status.busy": "2025-07-30T21:47:16.415996Z",
     "iopub.status.idle": "2025-07-30T21:47:16.422080Z",
     "shell.execute_reply": "2025-07-30T21:47:16.421178Z"
    },
    "papermill": {
     "duration": 0.032274,
     "end_time": "2025-07-30T21:47:16.423469",
     "exception": false,
     "start_time": "2025-07-30T21:47:16.391195",
     "status": "completed"
    },
    "tags": []
   },
   "outputs": [],
   "source": [
    "#siab"
   ]
  },
  {
   "cell_type": "code",
   "execution_count": 11,
   "id": "a0edb063",
   "metadata": {
    "execution": {
     "iopub.execute_input": "2025-07-30T21:47:16.474460Z",
     "iopub.status.busy": "2025-07-30T21:47:16.473997Z",
     "iopub.status.idle": "2025-07-30T21:47:16.478481Z",
     "shell.execute_reply": "2025-07-30T21:47:16.477742Z"
    },
    "papermill": {
     "duration": 0.031675,
     "end_time": "2025-07-30T21:47:16.479753",
     "exception": false,
     "start_time": "2025-07-30T21:47:16.448078",
     "status": "completed"
    },
    "tags": []
   },
   "outputs": [],
   "source": [
    "#import pandas as pd\n",
    "#\n",
    "#X_train = pd.read_csv(\"./data/X_train.csv\")\n",
    "#y_train = pd.read_csv(\"./data/y_train.csv\")"
   ]
  },
  {
   "cell_type": "code",
   "execution_count": 12,
   "id": "63d08085",
   "metadata": {
    "execution": {
     "iopub.execute_input": "2025-07-30T21:47:16.503566Z",
     "iopub.status.busy": "2025-07-30T21:47:16.502738Z",
     "iopub.status.idle": "2025-07-30T21:47:16.507870Z",
     "shell.execute_reply": "2025-07-30T21:47:16.507110Z"
    },
    "papermill": {
     "duration": 0.01818,
     "end_time": "2025-07-30T21:47:16.509382",
     "exception": false,
     "start_time": "2025-07-30T21:47:16.491202",
     "status": "completed"
    },
    "tags": []
   },
   "outputs": [],
   "source": [
    "#X_test = pd.read_csv(\"./data/X_test.csv\")\n",
    "#y_true = pd.read_csv(\"./data/y_test.csv\")"
   ]
  },
  {
   "cell_type": "code",
   "execution_count": 13,
   "id": "98a8d0fa-1d3d-4ed8-bb2c-281470e24add",
   "metadata": {
    "execution": {
     "iopub.execute_input": "2025-07-30T21:47:16.533164Z",
     "iopub.status.busy": "2025-07-30T21:47:16.532797Z",
     "iopub.status.idle": "2025-07-30T21:47:16.536988Z",
     "shell.execute_reply": "2025-07-30T21:47:16.536080Z"
    },
    "papermill": {
     "duration": 0.017094,
     "end_time": "2025-07-30T21:47:16.538311",
     "exception": false,
     "start_time": "2025-07-30T21:47:16.521217",
     "status": "completed"
    },
    "tags": []
   },
   "outputs": [],
   "source": [
    "# Calibration data for conformal\n",
    "#X_calib = pd.read_csv(\"./data/X_calib.csv\")\n",
    "#y_calib = pd.read_csv(\"./data/y_calib.csv\")"
   ]
  },
  {
   "cell_type": "markdown",
   "id": "997051c5-15bd-4b69-9786-c3001a3ce484",
   "metadata": {
    "papermill": {
     "duration": 0.010406,
     "end_time": "2025-07-30T21:47:16.560930",
     "exception": false,
     "start_time": "2025-07-30T21:47:16.550524",
     "status": "completed"
    },
    "tags": []
   },
   "source": [
    "# Splitting Data and Setting Training Data Size"
   ]
  },
  {
   "cell_type": "code",
   "execution_count": 14,
   "id": "e993b61f-042d-41a6-8c81-f55681f86335",
   "metadata": {
    "execution": {
     "iopub.execute_input": "2025-07-30T21:47:16.583603Z",
     "iopub.status.busy": "2025-07-30T21:47:16.583086Z",
     "iopub.status.idle": "2025-07-30T21:47:16.593050Z",
     "shell.execute_reply": "2025-07-30T21:47:16.592008Z"
    },
    "papermill": {
     "duration": 0.023077,
     "end_time": "2025-07-30T21:47:16.594663",
     "exception": false,
     "start_time": "2025-07-30T21:47:16.571586",
     "status": "completed"
    },
    "tags": []
   },
   "outputs": [],
   "source": [
    "def sample_by_year_size(df,\n",
    "                        training_year: str,\n",
    "                        training_size: str,\n",
    "                        random_state: int = 42):\n",
    "    # --- parse training_year into a list of int years ---\n",
    "    if \"_\" in training_year:\n",
    "        start_str, end_str = training_year.split(\"_\", 1)\n",
    "        start = int(start_str)\n",
    "        end   = int(end_str) if len(end_str) == 4 else (int(end_str) + (start // 100)*100)\n",
    "        years = list(range(start, end + 1))\n",
    "    else:\n",
    "        years = [int(training_year)]\n",
    "\n",
    "    df = df[df[\"year\"].isin(years)].reset_index(drop=True)\n",
    "\n",
    "    # --- map training_size to total number of samples ---\n",
    "    total_map = {\"25k\": 25_000, \"5k\": 5_000, \"1k\": 1_000}\n",
    "    if training_size not in total_map:\n",
    "        return df  # e.g. \"all\"\n",
    "\n",
    "    total_samples = total_map[training_size]\n",
    "    n_years       = len(years)\n",
    "    base          = total_samples // n_years\n",
    "    remainder     = total_samples % n_years\n",
    "\n",
    "    # --- build a dict: year -> how many to sample ---\n",
    "    # give +1 to the first `remainder` years in ascending order\n",
    "    quotas = {\n",
    "        year: base + (1 if idx < remainder else 0)\n",
    "        for idx, year in enumerate(sorted(years))\n",
    "    }\n",
    "\n",
    "    # --- sample per‐year according to the quota dict ---\n",
    "    sampled = (\n",
    "        df\n",
    "        .groupby(\"year\", group_keys=False)\n",
    "        .apply(lambda grp: grp.sample(\n",
    "            n=min(len(grp), quotas[grp.name]),\n",
    "            random_state=random_state))\n",
    "        .reset_index(drop=True)\n",
    "    )\n",
    "\n",
    "    return sampled"
   ]
  },
  {
   "cell_type": "code",
   "execution_count": 15,
   "id": "c0ccd338-0e02-41f3-a09d-f56f9266e3fb",
   "metadata": {
    "execution": {
     "iopub.execute_input": "2025-07-30T21:47:16.642730Z",
     "iopub.status.busy": "2025-07-30T21:47:16.641439Z",
     "iopub.status.idle": "2025-07-30T21:47:16.648253Z",
     "shell.execute_reply": "2025-07-30T21:47:16.647066Z"
    },
    "papermill": {
     "duration": 0.033259,
     "end_time": "2025-07-30T21:47:16.650049",
     "exception": false,
     "start_time": "2025-07-30T21:47:16.616790",
     "status": "completed"
    },
    "tags": []
   },
   "outputs": [],
   "source": [
    "#universe[\"training_size\"]"
   ]
  },
  {
   "cell_type": "code",
   "execution_count": 16,
   "id": "ca707fd7-8047-4acd-bfa5-66248fbbf8e6",
   "metadata": {
    "execution": {
     "iopub.execute_input": "2025-07-30T21:47:16.698438Z",
     "iopub.status.busy": "2025-07-30T21:47:16.697652Z",
     "iopub.status.idle": "2025-07-30T21:47:16.703580Z",
     "shell.execute_reply": "2025-07-30T21:47:16.702501Z"
    },
    "papermill": {
     "duration": 0.0317,
     "end_time": "2025-07-30T21:47:16.705628",
     "exception": false,
     "start_time": "2025-07-30T21:47:16.673928",
     "status": "completed"
    },
    "tags": []
   },
   "outputs": [],
   "source": [
    "#universe[\"training_year\"]"
   ]
  },
  {
   "cell_type": "code",
   "execution_count": 17,
   "id": "aea9c6ef-6f46-42c8-85eb-5a62025c1508",
   "metadata": {
    "execution": {
     "iopub.execute_input": "2025-07-30T21:47:16.753887Z",
     "iopub.status.busy": "2025-07-30T21:47:16.752928Z",
     "iopub.status.idle": "2025-07-30T21:47:17.802225Z",
     "shell.execute_reply": "2025-07-30T21:47:17.801055Z"
    },
    "papermill": {
     "duration": 1.074221,
     "end_time": "2025-07-30T21:47:17.804064",
     "exception": false,
     "start_time": "2025-07-30T21:47:16.729843",
     "status": "completed"
    },
    "tags": []
   },
   "outputs": [],
   "source": [
    "siab_train = sample_by_year_size(siab,\n",
    "                               training_year=universe[\"training_year\"],\n",
    "                               training_size=universe[\"training_size\"])"
   ]
  },
  {
   "cell_type": "code",
   "execution_count": 18,
   "id": "8d3afb32-789d-442c-8d5d-9f5aa8dd2eed",
   "metadata": {
    "execution": {
     "iopub.execute_input": "2025-07-30T21:47:17.849320Z",
     "iopub.status.busy": "2025-07-30T21:47:17.848388Z",
     "iopub.status.idle": "2025-07-30T21:47:17.853959Z",
     "shell.execute_reply": "2025-07-30T21:47:17.852992Z"
    },
    "papermill": {
     "duration": 0.030085,
     "end_time": "2025-07-30T21:47:17.855554",
     "exception": false,
     "start_time": "2025-07-30T21:47:17.825469",
     "status": "completed"
    },
    "tags": []
   },
   "outputs": [],
   "source": [
    "#siab_train.shape"
   ]
  },
  {
   "cell_type": "code",
   "execution_count": 19,
   "id": "d582db68-1a4c-47fb-84fc-08518dc1975a",
   "metadata": {
    "execution": {
     "iopub.execute_input": "2025-07-30T21:47:17.901606Z",
     "iopub.status.busy": "2025-07-30T21:47:17.900490Z",
     "iopub.status.idle": "2025-07-30T21:47:17.905891Z",
     "shell.execute_reply": "2025-07-30T21:47:17.904942Z"
    },
    "papermill": {
     "duration": 0.028786,
     "end_time": "2025-07-30T21:47:17.907608",
     "exception": false,
     "start_time": "2025-07-30T21:47:17.878822",
     "status": "completed"
    },
    "tags": []
   },
   "outputs": [],
   "source": [
    "#display(siab_train.groupby(\"year\").size())"
   ]
  },
  {
   "cell_type": "code",
   "execution_count": 20,
   "id": "a561edb4-d032-42cb-8256-22eac1111c64",
   "metadata": {
    "execution": {
     "iopub.execute_input": "2025-07-30T21:47:17.952438Z",
     "iopub.status.busy": "2025-07-30T21:47:17.951723Z",
     "iopub.status.idle": "2025-07-30T21:47:18.207324Z",
     "shell.execute_reply": "2025-07-30T21:47:18.206212Z"
    },
    "papermill": {
     "duration": 0.279931,
     "end_time": "2025-07-30T21:47:18.209549",
     "exception": false,
     "start_time": "2025-07-30T21:47:17.929618",
     "status": "completed"
    },
    "tags": []
   },
   "outputs": [],
   "source": [
    "#siab_train = siab_s[siab_s.year < 2015]\n",
    "siab_calib = siab[siab.year == 2015]\n",
    "siab_test = siab[siab.year == 2016]"
   ]
  },
  {
   "cell_type": "code",
   "execution_count": 21,
   "id": "472de16f-c3db-4916-846b-1f0de9cf1746",
   "metadata": {
    "execution": {
     "iopub.execute_input": "2025-07-30T21:47:18.261111Z",
     "iopub.status.busy": "2025-07-30T21:47:18.259985Z",
     "iopub.status.idle": "2025-07-30T21:47:18.268549Z",
     "shell.execute_reply": "2025-07-30T21:47:18.267340Z"
    },
    "papermill": {
     "duration": 0.036189,
     "end_time": "2025-07-30T21:47:18.270670",
     "exception": false,
     "start_time": "2025-07-30T21:47:18.234481",
     "status": "completed"
    },
    "tags": []
   },
   "outputs": [],
   "source": [
    "X_train = siab_train.iloc[:,4:164]\n",
    "y_train = siab_train.iloc[:, [3]]"
   ]
  },
  {
   "cell_type": "code",
   "execution_count": 22,
   "id": "828c96af-f43a-4ed6-ba47-8ac73a47d56c",
   "metadata": {
    "execution": {
     "iopub.execute_input": "2025-07-30T21:47:18.322922Z",
     "iopub.status.busy": "2025-07-30T21:47:18.321928Z",
     "iopub.status.idle": "2025-07-30T21:47:18.383939Z",
     "shell.execute_reply": "2025-07-30T21:47:18.382854Z"
    },
    "papermill": {
     "duration": 0.08996,
     "end_time": "2025-07-30T21:47:18.385870",
     "exception": false,
     "start_time": "2025-07-30T21:47:18.295910",
     "status": "completed"
    },
    "tags": []
   },
   "outputs": [],
   "source": [
    "X_calib = siab_calib.iloc[:,4:164]\n",
    "y_calib = siab_calib.iloc[:, [3]]"
   ]
  },
  {
   "cell_type": "code",
   "execution_count": 23,
   "id": "c34be9c3-6bd6-476e-acd3-845840e303be",
   "metadata": {
    "execution": {
     "iopub.execute_input": "2025-07-30T21:47:18.437326Z",
     "iopub.status.busy": "2025-07-30T21:47:18.436316Z",
     "iopub.status.idle": "2025-07-30T21:47:18.496828Z",
     "shell.execute_reply": "2025-07-30T21:47:18.495622Z"
    },
    "papermill": {
     "duration": 0.087656,
     "end_time": "2025-07-30T21:47:18.498661",
     "exception": false,
     "start_time": "2025-07-30T21:47:18.411005",
     "status": "completed"
    },
    "tags": []
   },
   "outputs": [],
   "source": [
    "X_test = siab_test.iloc[:,4:164]\n",
    "y_true = siab_test.iloc[:, [3]]"
   ]
  },
  {
   "cell_type": "markdown",
   "id": "9901737e-04df-44f0-9100-f5ad144ed040",
   "metadata": {
    "papermill": {
     "duration": 0.024203,
     "end_time": "2025-07-30T21:47:18.545588",
     "exception": false,
     "start_time": "2025-07-30T21:47:18.521385",
     "status": "completed"
    },
    "tags": []
   },
   "source": [
    "# Splitting Data and Setting Training Data Size OLD VERSION"
   ]
  },
  {
   "cell_type": "code",
   "execution_count": 24,
   "id": "acbc8f7d-8fc8-4e86-8c59-5dcb0f58384b",
   "metadata": {
    "execution": {
     "iopub.execute_input": "2025-07-30T21:47:18.595207Z",
     "iopub.status.busy": "2025-07-30T21:47:18.594211Z",
     "iopub.status.idle": "2025-07-30T21:47:18.600579Z",
     "shell.execute_reply": "2025-07-30T21:47:18.599519Z"
    },
    "papermill": {
     "duration": 0.033084,
     "end_time": "2025-07-30T21:47:18.602448",
     "exception": false,
     "start_time": "2025-07-30T21:47:18.569364",
     "status": "completed"
    },
    "tags": []
   },
   "outputs": [],
   "source": [
    "#def sample_by_year(df, training_size, random_state=42):\n",
    "#    if training_size == \"2014\":\n",
    "#        return df[df[\"year\"] == 2014].reset_index(drop=True)\n",
    "#    \n",
    "#    size_map = {\n",
    "#        \"25k\": 5000,\n",
    "#        \"5k\": 1000,\n",
    "#        \"1k\": 200\n",
    "#    }\n",
    "#\n",
    "#    if training_size not in size_map:\n",
    "#        return df.reset_index(drop=True)  # use all data\n",
    "#\n",
    "#    n_per_year = size_map[training_size]\n",
    "#    grouped = df.groupby(\"year\")\n",
    "#    sampled = grouped.apply(lambda x: x.sample(n=min(n_per_year, len(x)), random_state=random_state))\n",
    "#    return sampled.reset_index(drop=True)"
   ]
  },
  {
   "cell_type": "code",
   "execution_count": 25,
   "id": "6d931f52-beaf-43ff-9e78-9d44a448d54e",
   "metadata": {
    "execution": {
     "iopub.execute_input": "2025-07-30T21:47:18.651354Z",
     "iopub.status.busy": "2025-07-30T21:47:18.650424Z",
     "iopub.status.idle": "2025-07-30T21:47:18.656098Z",
     "shell.execute_reply": "2025-07-30T21:47:18.655067Z"
    },
    "papermill": {
     "duration": 0.032918,
     "end_time": "2025-07-30T21:47:18.657750",
     "exception": false,
     "start_time": "2025-07-30T21:47:18.624832",
     "status": "completed"
    },
    "tags": []
   },
   "outputs": [],
   "source": [
    "#siab_s = sample_by_year(siab, universe[\"training_size\"])"
   ]
  },
  {
   "cell_type": "code",
   "execution_count": 26,
   "id": "5db0a40e-a4e2-4920-be85-b12ae061d70d",
   "metadata": {
    "execution": {
     "iopub.execute_input": "2025-07-30T21:47:18.705552Z",
     "iopub.status.busy": "2025-07-30T21:47:18.704901Z",
     "iopub.status.idle": "2025-07-30T21:47:18.710122Z",
     "shell.execute_reply": "2025-07-30T21:47:18.709117Z"
    },
    "papermill": {
     "duration": 0.029667,
     "end_time": "2025-07-30T21:47:18.711606",
     "exception": false,
     "start_time": "2025-07-30T21:47:18.681939",
     "status": "completed"
    },
    "tags": []
   },
   "outputs": [],
   "source": [
    "#display(siab_s.groupby(\"year\").size())"
   ]
  },
  {
   "cell_type": "code",
   "execution_count": 27,
   "id": "e6c733c5",
   "metadata": {
    "execution": {
     "iopub.execute_input": "2025-07-30T21:47:18.759014Z",
     "iopub.status.busy": "2025-07-30T21:47:18.758013Z",
     "iopub.status.idle": "2025-07-30T21:47:18.869973Z",
     "shell.execute_reply": "2025-07-30T21:47:18.868865Z"
    },
    "papermill": {
     "duration": 0.138297,
     "end_time": "2025-07-30T21:47:18.871773",
     "exception": false,
     "start_time": "2025-07-30T21:47:18.733476",
     "status": "completed"
    },
    "tags": []
   },
   "outputs": [],
   "source": [
    "# Auxiliary data needed downstream in the pipeline\n",
    "\n",
    "org_train = X_train.copy()\n",
    "org_test = X_test.copy()\n",
    "org_calib = X_calib.copy()"
   ]
  },
  {
   "cell_type": "code",
   "execution_count": 28,
   "id": "1466abac-c6da-4492-a62f-4240ae3783af",
   "metadata": {
    "execution": {
     "iopub.execute_input": "2025-07-30T21:47:18.920312Z",
     "iopub.status.busy": "2025-07-30T21:47:18.919584Z",
     "iopub.status.idle": "2025-07-30T21:47:18.926665Z",
     "shell.execute_reply": "2025-07-30T21:47:18.925466Z"
    },
    "papermill": {
     "duration": 0.033426,
     "end_time": "2025-07-30T21:47:18.928206",
     "exception": false,
     "start_time": "2025-07-30T21:47:18.894780",
     "status": "completed"
    },
    "tags": []
   },
   "outputs": [],
   "source": [
    "# put in other script?\n",
    "# Group sizes\n",
    "\n",
    "#def calculate_percentages(df, df_name):\n",
    "#    total_entries = len(df)\n",
    "#\n",
    "#    female_pct = (df['frau1'] == 1).mean() * 100\n",
    "#    non_german_pct = ((df['maxdeutsch1'] == 0) & (df['maxdeutsch.Missing.'] == 0)).mean() * 100\n",
    "#    non_german_male_pct = ((df['frau1'] == 0) & (df['maxdeutsch1'] == 0) & (df['maxdeutsch.Missing.'] == 0)).mean() * 100\n",
    "#    non_german_female_pct = ((df['frau1'] == 1) & (df['maxdeutsch1'] == 0) & (df['maxdeutsch.Missing.'] == 0)).mean() * 100\n",
    "#\n",
    "#    print(f\"--- {df_name} ---\")\n",
    "#    print(f\"Female: {female_pct:.2f}%\")\n",
    "#    print(f\"Non-German: {non_german_pct:.2f}%\")\n",
    "#    print(f\"Non-German Male: {non_german_male_pct:.2f}%\")\n",
    "#    print(f\"Non-German Female: {non_german_female_pct:.2f}%\\n\")\n",
    "#\n",
    "## Calculate for each DataFrame\n",
    "#calculate_percentages(siab_calib, \"siab_calib\")\n",
    "#calculate_percentages(siab_test, \"siab_test\")\n",
    "#calculate_percentages(siab_train, \"siab_train\")"
   ]
  },
  {
   "cell_type": "markdown",
   "id": "0a4a1b33",
   "metadata": {
    "papermill": {
     "duration": 0.022902,
     "end_time": "2025-07-30T21:47:18.973927",
     "exception": false,
     "start_time": "2025-07-30T21:47:18.951025",
     "status": "completed"
    },
    "tags": []
   },
   "source": [
    "# Preprocessing Data"
   ]
  },
  {
   "cell_type": "code",
   "execution_count": 29,
   "id": "ca879031",
   "metadata": {
    "execution": {
     "iopub.execute_input": "2025-07-30T21:47:19.021410Z",
     "iopub.status.busy": "2025-07-30T21:47:19.020491Z",
     "iopub.status.idle": "2025-07-30T21:47:19.027020Z",
     "shell.execute_reply": "2025-07-30T21:47:19.026023Z"
    },
    "papermill": {
     "duration": 0.031671,
     "end_time": "2025-07-30T21:47:19.028944",
     "exception": false,
     "start_time": "2025-07-30T21:47:18.997273",
     "status": "completed"
    },
    "tags": []
   },
   "outputs": [],
   "source": [
    "# EXCLUDE PROTECTED FEATURES\n",
    "# ----------------------\n",
    "# \"exclude_features\": \"none\", # \"nationality\", \"sex\", \"nationality-sex\"\n",
    "\n",
    "excluded_features = universe[\"exclude_features\"].split(\"-\") # split, e.g.: \"nationality-sex\" -> [\"nationality\", \"sex\"]\n",
    "excluded_features_dictionary = {\n",
    "    \"nationality\": [\"maxdeutsch1\", \"maxdeutsch.Missing.\"],\n",
    "    \"sex\": [\"frau1\"],\n",
    "    \"age\": [\"age\"],\n",
    "}\n"
   ]
  },
  {
   "cell_type": "code",
   "execution_count": 30,
   "id": "b745ac60",
   "metadata": {
    "execution": {
     "iopub.execute_input": "2025-07-30T21:47:19.077726Z",
     "iopub.status.busy": "2025-07-30T21:47:19.077003Z",
     "iopub.status.idle": "2025-07-30T21:47:19.082974Z",
     "shell.execute_reply": "2025-07-30T21:47:19.082126Z"
    },
    "papermill": {
     "duration": 0.032002,
     "end_time": "2025-07-30T21:47:19.084757",
     "exception": false,
     "start_time": "2025-07-30T21:47:19.052755",
     "status": "completed"
    },
    "tags": []
   },
   "outputs": [],
   "source": [
    "# Code nice names to column names\n",
    "\n",
    "excluded_features_columns = [\n",
    "    excluded_features_dictionary[f] for f in excluded_features if len(f) > 0 and f != \"none\"\n",
    "]"
   ]
  },
  {
   "cell_type": "code",
   "execution_count": 31,
   "id": "f84f73a2",
   "metadata": {
    "execution": {
     "iopub.execute_input": "2025-07-30T21:47:19.135257Z",
     "iopub.status.busy": "2025-07-30T21:47:19.134649Z",
     "iopub.status.idle": "2025-07-30T21:47:19.142458Z",
     "shell.execute_reply": "2025-07-30T21:47:19.141607Z"
    },
    "papermill": {
     "duration": 0.037393,
     "end_time": "2025-07-30T21:47:19.144606",
     "exception": false,
     "start_time": "2025-07-30T21:47:19.107213",
     "status": "completed"
    },
    "tags": []
   },
   "outputs": [],
   "source": [
    "from utils import flatten_once\n",
    "\n",
    "excluded_features_columns = flatten_once(excluded_features_columns)"
   ]
  },
  {
   "cell_type": "code",
   "execution_count": 32,
   "id": "884dea22",
   "metadata": {
    "execution": {
     "iopub.execute_input": "2025-07-30T21:47:19.193691Z",
     "iopub.status.busy": "2025-07-30T21:47:19.192759Z",
     "iopub.status.idle": "2025-07-30T21:47:19.201784Z",
     "shell.execute_reply": "2025-07-30T21:47:19.200723Z"
    },
    "papermill": {
     "duration": 0.035438,
     "end_time": "2025-07-30T21:47:19.203428",
     "exception": false,
     "start_time": "2025-07-30T21:47:19.167990",
     "status": "completed"
    },
    "tags": []
   },
   "outputs": [
    {
     "name": "stdout",
     "output_type": "stream",
     "text": [
      "Dropping features: ['maxdeutsch1', 'maxdeutsch.Missing.']\n"
     ]
    }
   ],
   "source": [
    "if len(excluded_features_columns) > 0:\n",
    "    print(f\"Dropping features: {excluded_features_columns}\")\n",
    "    X_train.drop(excluded_features_columns, axis=1, inplace=True)"
   ]
  },
  {
   "cell_type": "code",
   "execution_count": 33,
   "id": "95ab8b16",
   "metadata": {
    "execution": {
     "iopub.execute_input": "2025-07-30T21:47:19.252742Z",
     "iopub.status.busy": "2025-07-30T21:47:19.251719Z",
     "iopub.status.idle": "2025-07-30T21:47:19.307146Z",
     "shell.execute_reply": "2025-07-30T21:47:19.305886Z"
    },
    "papermill": {
     "duration": 0.08112,
     "end_time": "2025-07-30T21:47:19.309067",
     "exception": false,
     "start_time": "2025-07-30T21:47:19.227947",
     "status": "completed"
    },
    "tags": []
   },
   "outputs": [
    {
     "name": "stdout",
     "output_type": "stream",
     "text": [
      "Dropping features: ['maxdeutsch1', 'maxdeutsch.Missing.']\n"
     ]
    }
   ],
   "source": [
    "if len(excluded_features_columns) > 0:\n",
    "    print(f\"Dropping features: {excluded_features_columns}\")\n",
    "    X_test.drop(excluded_features_columns, axis=1, inplace=True)"
   ]
  },
  {
   "cell_type": "code",
   "execution_count": 34,
   "id": "1853aaf5-fb9f-46cb-a2b5-8ea4ae2237e4",
   "metadata": {
    "execution": {
     "iopub.execute_input": "2025-07-30T21:47:19.356586Z",
     "iopub.status.busy": "2025-07-30T21:47:19.355840Z",
     "iopub.status.idle": "2025-07-30T21:47:19.410129Z",
     "shell.execute_reply": "2025-07-30T21:47:19.409108Z"
    },
    "papermill": {
     "duration": 0.079476,
     "end_time": "2025-07-30T21:47:19.411997",
     "exception": false,
     "start_time": "2025-07-30T21:47:19.332521",
     "status": "completed"
    },
    "tags": []
   },
   "outputs": [
    {
     "name": "stdout",
     "output_type": "stream",
     "text": [
      "Dropping features: ['maxdeutsch1', 'maxdeutsch.Missing.']\n"
     ]
    }
   ],
   "source": [
    "if len(excluded_features_columns) > 0:\n",
    "    print(f\"Dropping features: {excluded_features_columns}\")\n",
    "    X_calib.drop(excluded_features_columns, axis=1, inplace=True)"
   ]
  },
  {
   "cell_type": "code",
   "execution_count": 35,
   "id": "6727d079-03e5-481e-9d38-292a90b7a0a8",
   "metadata": {
    "execution": {
     "iopub.execute_input": "2025-07-30T21:47:19.460598Z",
     "iopub.status.busy": "2025-07-30T21:47:19.459908Z",
     "iopub.status.idle": "2025-07-30T21:47:19.464799Z",
     "shell.execute_reply": "2025-07-30T21:47:19.463854Z"
    },
    "papermill": {
     "duration": 0.030255,
     "end_time": "2025-07-30T21:47:19.466264",
     "exception": false,
     "start_time": "2025-07-30T21:47:19.436009",
     "status": "completed"
    },
    "tags": []
   },
   "outputs": [],
   "source": [
    "# SPLIT & STRATIFY DATA\n",
    "# ----------------------"
   ]
  },
  {
   "cell_type": "code",
   "execution_count": 36,
   "id": "76c4dc6d",
   "metadata": {
    "execution": {
     "iopub.execute_input": "2025-07-30T21:47:19.515492Z",
     "iopub.status.busy": "2025-07-30T21:47:19.514648Z",
     "iopub.status.idle": "2025-07-30T21:47:19.520668Z",
     "shell.execute_reply": "2025-07-30T21:47:19.519681Z"
    },
    "papermill": {
     "duration": 0.032368,
     "end_time": "2025-07-30T21:47:19.522319",
     "exception": false,
     "start_time": "2025-07-30T21:47:19.489951",
     "status": "completed"
    },
    "tags": []
   },
   "outputs": [],
   "source": [
    "# EXCLUDE CERTAIN SUBGROUPS\n",
    "# ----------------------\n",
    "\n",
    "mode = universe.get(\"exclude_subgroups\", \"keep-all\") \n",
    "# Fetches the exclude_subgroups setting from the universe dict.\n",
    "# Defaults to \"keep-all\" if the key is missing."
   ]
  },
  {
   "cell_type": "code",
   "execution_count": 37,
   "id": "21994072",
   "metadata": {
    "execution": {
     "iopub.execute_input": "2025-07-30T21:47:19.574629Z",
     "iopub.status.busy": "2025-07-30T21:47:19.573637Z",
     "iopub.status.idle": "2025-07-30T21:47:19.581194Z",
     "shell.execute_reply": "2025-07-30T21:47:19.580218Z"
    },
    "papermill": {
     "duration": 0.035288,
     "end_time": "2025-07-30T21:47:19.582886",
     "exception": false,
     "start_time": "2025-07-30T21:47:19.547598",
     "status": "completed"
    },
    "tags": []
   },
   "outputs": [],
   "source": [
    "if mode == \"keep-all\":\n",
    "    keep_mask = pd.Series(True, index=org_train.index)\n",
    "\n",
    "# org_train contains the original feature columns from features_org (in Simson)\n",
    "# features_org contains unprocessed features, for me X_train at beginning ???\n",
    "# For keep-all, creates a boolean Series (keep_mask) of all True, so no rows are removed.\n",
    "\n",
    "elif mode == \"drop-non-german\":\n",
    "    keep_mask = org_train[\"maxdeutsch1\"] == 1 # ??? what about missing values?\n",
    "\n",
    "else:\n",
    "    raise ValueError(f\"Unsupported mode for exclude_subgroups: {mode}\")\n"
   ]
  },
  {
   "cell_type": "code",
   "execution_count": 38,
   "id": "71651440",
   "metadata": {
    "execution": {
     "iopub.execute_input": "2025-07-30T21:47:19.634112Z",
     "iopub.status.busy": "2025-07-30T21:47:19.633369Z",
     "iopub.status.idle": "2025-07-30T21:47:19.641422Z",
     "shell.execute_reply": "2025-07-30T21:47:19.640438Z"
    },
    "papermill": {
     "duration": 0.035715,
     "end_time": "2025-07-30T21:47:19.643130",
     "exception": false,
     "start_time": "2025-07-30T21:47:19.607415",
     "status": "completed"
    },
    "tags": []
   },
   "outputs": [
    {
     "name": "stdout",
     "output_type": "stream",
     "text": [
      "Dropping 131 rows (13.10%) where mode='drop-non-german'\n"
     ]
    }
   ],
   "source": [
    "n_drop = (~keep_mask).sum() # Calculates how many rows are set to be dropped\n",
    "if n_drop > 0:\n",
    "    pct = n_drop / len(keep_mask) * 100\n",
    "    print(f\"Dropping {n_drop} rows ({pct:.2f}%) where mode='{mode}'\")"
   ]
  },
  {
   "cell_type": "code",
   "execution_count": 39,
   "id": "5fb8eee5",
   "metadata": {
    "execution": {
     "iopub.execute_input": "2025-07-30T21:47:19.694844Z",
     "iopub.status.busy": "2025-07-30T21:47:19.693922Z",
     "iopub.status.idle": "2025-07-30T21:47:19.700547Z",
     "shell.execute_reply": "2025-07-30T21:47:19.699586Z"
    },
    "papermill": {
     "duration": 0.034629,
     "end_time": "2025-07-30T21:47:19.702069",
     "exception": false,
     "start_time": "2025-07-30T21:47:19.667440",
     "status": "completed"
    },
    "tags": []
   },
   "outputs": [],
   "source": [
    "X_train = X_train[keep_mask]"
   ]
  },
  {
   "cell_type": "code",
   "execution_count": 40,
   "id": "b202bb3a",
   "metadata": {
    "execution": {
     "iopub.execute_input": "2025-07-30T21:47:19.752960Z",
     "iopub.status.busy": "2025-07-30T21:47:19.751983Z",
     "iopub.status.idle": "2025-07-30T21:47:19.758316Z",
     "shell.execute_reply": "2025-07-30T21:47:19.757417Z"
    },
    "papermill": {
     "duration": 0.033479,
     "end_time": "2025-07-30T21:47:19.760011",
     "exception": false,
     "start_time": "2025-07-30T21:47:19.726532",
     "status": "completed"
    },
    "tags": []
   },
   "outputs": [],
   "source": [
    "y_train = y_train[keep_mask]"
   ]
  },
  {
   "cell_type": "markdown",
   "id": "493e2ac3",
   "metadata": {
    "papermill": {
     "duration": 0.025084,
     "end_time": "2025-07-30T21:47:19.808174",
     "exception": false,
     "start_time": "2025-07-30T21:47:19.783090",
     "status": "completed"
    },
    "tags": []
   },
   "source": [
    "# Model Training"
   ]
  },
  {
   "cell_type": "code",
   "execution_count": 41,
   "id": "679e1268",
   "metadata": {
    "execution": {
     "iopub.execute_input": "2025-07-30T21:47:19.857287Z",
     "iopub.status.busy": "2025-07-30T21:47:19.856460Z",
     "iopub.status.idle": "2025-07-30T21:47:20.020206Z",
     "shell.execute_reply": "2025-07-30T21:47:20.019158Z"
    },
    "papermill": {
     "duration": 0.189987,
     "end_time": "2025-07-30T21:47:20.022099",
     "exception": false,
     "start_time": "2025-07-30T21:47:19.832112",
     "status": "completed"
    },
    "tags": []
   },
   "outputs": [],
   "source": [
    "from sklearn.linear_model import LogisticRegression\n",
    "from sklearn.ensemble import GradientBoostingClassifier, RandomForestClassifier\n",
    "\n",
    "if (universe[\"model\"] == \"logreg\"):\n",
    "    model = LogisticRegression() #penalty=\"none\") #, solver=\"newton-cg\", max_iter=1) # include random_state=19 ?\n",
    "elif (universe[\"model\"] == \"penalized_logreg\"):\n",
    "    model = LogisticRegression(penalty=\"l2\", C=1.0) #, solver=\"newton-cg\", max_iter=1)\n",
    "elif (universe[\"model\"] == \"rf\"):\n",
    "    model = RandomForestClassifier(n_estimators=100, n_jobs=-1)\n",
    "elif (universe[\"model\"] == \"gbm\"):\n",
    "    model = GradientBoostingClassifier()\n",
    "elif (universe[\"model\"] == \"elasticnet\"):\n",
    "    model = LogisticRegression(penalty = 'elasticnet', solver = 'saga', l1_ratio = 0.5, max_iter=5000) # which solver to use?\n",
    "else:\n",
    "    raise \"Unsupported universe.model\""
   ]
  },
  {
   "cell_type": "code",
   "execution_count": 42,
   "id": "0cc8f744",
   "metadata": {
    "execution": {
     "iopub.execute_input": "2025-07-30T21:47:20.072646Z",
     "iopub.status.busy": "2025-07-30T21:47:20.071559Z",
     "iopub.status.idle": "2025-07-30T21:47:20.078366Z",
     "shell.execute_reply": "2025-07-30T21:47:20.077457Z"
    },
    "papermill": {
     "duration": 0.034109,
     "end_time": "2025-07-30T21:47:20.079997",
     "exception": false,
     "start_time": "2025-07-30T21:47:20.045888",
     "status": "completed"
    },
    "tags": []
   },
   "outputs": [],
   "source": [
    "import numpy as np\n",
    "from sklearn.pipeline import Pipeline\n",
    "from sklearn.preprocessing import StandardScaler\n",
    "\n",
    "model = Pipeline([\n",
    "    #(\"continuous_processor\", continuous_processor),\n",
    "    #(\"categorical_preprocessor\", categorical_preprocessor),\n",
    "    (\"scale\", StandardScaler() if universe[\"scale\"] == \"scale\" else None), \n",
    "    (\"model\", model),\n",
    "])"
   ]
  },
  {
   "cell_type": "code",
   "execution_count": 43,
   "id": "9442c04d",
   "metadata": {
    "execution": {
     "iopub.execute_input": "2025-07-30T21:47:20.130107Z",
     "iopub.status.busy": "2025-07-30T21:47:20.129238Z",
     "iopub.status.idle": "2025-07-30T21:47:21.126156Z",
     "shell.execute_reply": "2025-07-30T21:47:21.125241Z"
    },
    "papermill": {
     "duration": 1.023587,
     "end_time": "2025-07-30T21:47:21.127854",
     "exception": false,
     "start_time": "2025-07-30T21:47:20.104267",
     "status": "completed"
    },
    "tags": []
   },
   "outputs": [
    {
     "data": {
      "text/html": [
       "<style>#sk-container-id-1 {color: black;background-color: white;}#sk-container-id-1 pre{padding: 0;}#sk-container-id-1 div.sk-toggleable {background-color: white;}#sk-container-id-1 label.sk-toggleable__label {cursor: pointer;display: block;width: 100%;margin-bottom: 0;padding: 0.3em;box-sizing: border-box;text-align: center;}#sk-container-id-1 label.sk-toggleable__label-arrow:before {content: \"▸\";float: left;margin-right: 0.25em;color: #696969;}#sk-container-id-1 label.sk-toggleable__label-arrow:hover:before {color: black;}#sk-container-id-1 div.sk-estimator:hover label.sk-toggleable__label-arrow:before {color: black;}#sk-container-id-1 div.sk-toggleable__content {max-height: 0;max-width: 0;overflow: hidden;text-align: left;background-color: #f0f8ff;}#sk-container-id-1 div.sk-toggleable__content pre {margin: 0.2em;color: black;border-radius: 0.25em;background-color: #f0f8ff;}#sk-container-id-1 input.sk-toggleable__control:checked~div.sk-toggleable__content {max-height: 200px;max-width: 100%;overflow: auto;}#sk-container-id-1 input.sk-toggleable__control:checked~label.sk-toggleable__label-arrow:before {content: \"▾\";}#sk-container-id-1 div.sk-estimator input.sk-toggleable__control:checked~label.sk-toggleable__label {background-color: #d4ebff;}#sk-container-id-1 div.sk-label input.sk-toggleable__control:checked~label.sk-toggleable__label {background-color: #d4ebff;}#sk-container-id-1 input.sk-hidden--visually {border: 0;clip: rect(1px 1px 1px 1px);clip: rect(1px, 1px, 1px, 1px);height: 1px;margin: -1px;overflow: hidden;padding: 0;position: absolute;width: 1px;}#sk-container-id-1 div.sk-estimator {font-family: monospace;background-color: #f0f8ff;border: 1px dotted black;border-radius: 0.25em;box-sizing: border-box;margin-bottom: 0.5em;}#sk-container-id-1 div.sk-estimator:hover {background-color: #d4ebff;}#sk-container-id-1 div.sk-parallel-item::after {content: \"\";width: 100%;border-bottom: 1px solid gray;flex-grow: 1;}#sk-container-id-1 div.sk-label:hover label.sk-toggleable__label {background-color: #d4ebff;}#sk-container-id-1 div.sk-serial::before {content: \"\";position: absolute;border-left: 1px solid gray;box-sizing: border-box;top: 0;bottom: 0;left: 50%;z-index: 0;}#sk-container-id-1 div.sk-serial {display: flex;flex-direction: column;align-items: center;background-color: white;padding-right: 0.2em;padding-left: 0.2em;position: relative;}#sk-container-id-1 div.sk-item {position: relative;z-index: 1;}#sk-container-id-1 div.sk-parallel {display: flex;align-items: stretch;justify-content: center;background-color: white;position: relative;}#sk-container-id-1 div.sk-item::before, #sk-container-id-1 div.sk-parallel-item::before {content: \"\";position: absolute;border-left: 1px solid gray;box-sizing: border-box;top: 0;bottom: 0;left: 50%;z-index: -1;}#sk-container-id-1 div.sk-parallel-item {display: flex;flex-direction: column;z-index: 1;position: relative;background-color: white;}#sk-container-id-1 div.sk-parallel-item:first-child::after {align-self: flex-end;width: 50%;}#sk-container-id-1 div.sk-parallel-item:last-child::after {align-self: flex-start;width: 50%;}#sk-container-id-1 div.sk-parallel-item:only-child::after {width: 0;}#sk-container-id-1 div.sk-dashed-wrapped {border: 1px dashed gray;margin: 0 0.4em 0.5em 0.4em;box-sizing: border-box;padding-bottom: 0.4em;background-color: white;}#sk-container-id-1 div.sk-label label {font-family: monospace;font-weight: bold;display: inline-block;line-height: 1.2em;}#sk-container-id-1 div.sk-label-container {text-align: center;}#sk-container-id-1 div.sk-container {/* jupyter's `normalize.less` sets `[hidden] { display: none; }` but bootstrap.min.css set `[hidden] { display: none !important; }` so we also need the `!important` here to be able to override the default hidden behavior on the sphinx rendered scikit-learn.org. See: https://github.com/scikit-learn/scikit-learn/issues/21755 */display: inline-block !important;position: relative;}#sk-container-id-1 div.sk-text-repr-fallback {display: none;}</style><div id=\"sk-container-id-1\" class=\"sk-top-container\"><div class=\"sk-text-repr-fallback\"><pre>Pipeline(steps=[(&#x27;scale&#x27;, StandardScaler()),\n",
       "                (&#x27;model&#x27;, GradientBoostingClassifier())])</pre><b>In a Jupyter environment, please rerun this cell to show the HTML representation or trust the notebook. <br />On GitHub, the HTML representation is unable to render, please try loading this page with nbviewer.org.</b></div><div class=\"sk-container\" hidden><div class=\"sk-item sk-dashed-wrapped\"><div class=\"sk-label-container\"><div class=\"sk-label sk-toggleable\"><input class=\"sk-toggleable__control sk-hidden--visually\" id=\"sk-estimator-id-1\" type=\"checkbox\" ><label for=\"sk-estimator-id-1\" class=\"sk-toggleable__label sk-toggleable__label-arrow\">Pipeline</label><div class=\"sk-toggleable__content\"><pre>Pipeline(steps=[(&#x27;scale&#x27;, StandardScaler()),\n",
       "                (&#x27;model&#x27;, GradientBoostingClassifier())])</pre></div></div></div><div class=\"sk-serial\"><div class=\"sk-item\"><div class=\"sk-estimator sk-toggleable\"><input class=\"sk-toggleable__control sk-hidden--visually\" id=\"sk-estimator-id-2\" type=\"checkbox\" ><label for=\"sk-estimator-id-2\" class=\"sk-toggleable__label sk-toggleable__label-arrow\">StandardScaler</label><div class=\"sk-toggleable__content\"><pre>StandardScaler()</pre></div></div></div><div class=\"sk-item\"><div class=\"sk-estimator sk-toggleable\"><input class=\"sk-toggleable__control sk-hidden--visually\" id=\"sk-estimator-id-3\" type=\"checkbox\" ><label for=\"sk-estimator-id-3\" class=\"sk-toggleable__label sk-toggleable__label-arrow\">GradientBoostingClassifier</label><div class=\"sk-toggleable__content\"><pre>GradientBoostingClassifier()</pre></div></div></div></div></div></div></div>"
      ],
      "text/plain": [
       "Pipeline(steps=[('scale', StandardScaler()),\n",
       "                ('model', GradientBoostingClassifier())])"
      ]
     },
     "execution_count": 43,
     "metadata": {},
     "output_type": "execute_result"
    }
   ],
   "source": [
    "model.fit(X_train, y_train.values.ravel())"
   ]
  },
  {
   "cell_type": "code",
   "execution_count": 44,
   "id": "af59f8c0",
   "metadata": {
    "execution": {
     "iopub.execute_input": "2025-07-30T21:47:21.182177Z",
     "iopub.status.busy": "2025-07-30T21:47:21.181499Z",
     "iopub.status.idle": "2025-07-30T21:47:21.187157Z",
     "shell.execute_reply": "2025-07-30T21:47:21.186000Z"
    },
    "papermill": {
     "duration": 0.033878,
     "end_time": "2025-07-30T21:47:21.189088",
     "exception": false,
     "start_time": "2025-07-30T21:47:21.155210",
     "status": "completed"
    },
    "tags": []
   },
   "outputs": [],
   "source": [
    "from fairness_multiverse.universe import predict_w_threshold"
   ]
  },
  {
   "cell_type": "code",
   "execution_count": 45,
   "id": "a7cf2e16",
   "metadata": {
    "execution": {
     "iopub.execute_input": "2025-07-30T21:47:21.241159Z",
     "iopub.status.busy": "2025-07-30T21:47:21.240271Z",
     "iopub.status.idle": "2025-07-30T21:47:22.098776Z",
     "shell.execute_reply": "2025-07-30T21:47:22.097785Z"
    },
    "papermill": {
     "duration": 0.886424,
     "end_time": "2025-07-30T21:47:22.100964",
     "exception": false,
     "start_time": "2025-07-30T21:47:21.214540",
     "status": "completed"
    },
    "tags": []
   },
   "outputs": [
    {
     "data": {
      "text/plain": [
       "0.8294170103667373"
      ]
     },
     "execution_count": 45,
     "metadata": {},
     "output_type": "execute_result"
    }
   ],
   "source": [
    "probs_test = model.predict_proba(X_test)\n",
    "\n",
    "'''\n",
    "Below code returns a boolean array (or binary 0/1 array depending on how it’s used) where each element \n",
    "is True if the probability of class 1 is greater than or equal to the threshold, and False otherwise.\n",
    "'''\n",
    "y_pred_default = predict_w_threshold(probs_test, 0.5)\n",
    "\n",
    "from sklearn.metrics import accuracy_score\n",
    "\n",
    "# Naive prediction\n",
    "accuracy_score(y_true = y_true, y_pred = y_pred_default)"
   ]
  },
  {
   "cell_type": "code",
   "execution_count": 46,
   "id": "081964c3",
   "metadata": {
    "execution": {
     "iopub.execute_input": "2025-07-30T21:47:22.181014Z",
     "iopub.status.busy": "2025-07-30T21:47:22.180155Z",
     "iopub.status.idle": "2025-07-30T21:47:23.026612Z",
     "shell.execute_reply": "2025-07-30T21:47:23.025289Z"
    },
    "papermill": {
     "duration": 0.875399,
     "end_time": "2025-07-30T21:47:23.028873",
     "exception": false,
     "start_time": "2025-07-30T21:47:22.153474",
     "status": "completed"
    },
    "tags": []
   },
   "outputs": [
    {
     "data": {
      "text/plain": [
       "array([0, 0, 0, ..., 1, 0, 0])"
      ]
     },
     "execution_count": 46,
     "metadata": {},
     "output_type": "execute_result"
    }
   ],
   "source": [
    "model.predict(X_test)"
   ]
  },
  {
   "cell_type": "markdown",
   "id": "56c9705b",
   "metadata": {
    "papermill": {
     "duration": 0.025256,
     "end_time": "2025-07-30T21:47:23.080456",
     "exception": false,
     "start_time": "2025-07-30T21:47:23.055200",
     "status": "completed"
    },
    "tags": []
   },
   "source": [
    "# Conformal Prediction"
   ]
  },
  {
   "cell_type": "code",
   "execution_count": 47,
   "id": "160ec6ff",
   "metadata": {
    "execution": {
     "iopub.execute_input": "2025-07-30T21:47:23.135539Z",
     "iopub.status.busy": "2025-07-30T21:47:23.134550Z",
     "iopub.status.idle": "2025-07-30T21:47:23.141574Z",
     "shell.execute_reply": "2025-07-30T21:47:23.140289Z"
    },
    "papermill": {
     "duration": 0.038017,
     "end_time": "2025-07-30T21:47:23.143184",
     "exception": false,
     "start_time": "2025-07-30T21:47:23.105167",
     "status": "completed"
    },
    "tags": []
   },
   "outputs": [],
   "source": [
    "# Miscoverage level for conformal prediction (10% allowed error rate => 90% target coverage)\n",
    "alpha = 0.1"
   ]
  },
  {
   "cell_type": "code",
   "execution_count": 48,
   "id": "eadf4555-3dd3-440e-8e35-f82a4ad9f855",
   "metadata": {
    "execution": {
     "iopub.execute_input": "2025-07-30T21:47:23.197815Z",
     "iopub.status.busy": "2025-07-30T21:47:23.197140Z",
     "iopub.status.idle": "2025-07-30T21:47:23.914243Z",
     "shell.execute_reply": "2025-07-30T21:47:23.913490Z"
    },
    "papermill": {
     "duration": 0.746101,
     "end_time": "2025-07-30T21:47:23.915575",
     "exception": false,
     "start_time": "2025-07-30T21:47:23.169474",
     "status": "completed"
    },
    "tags": []
   },
   "outputs": [],
   "source": [
    "probs_calib = model.predict_proba(X_calib)"
   ]
  },
  {
   "cell_type": "code",
   "execution_count": 49,
   "id": "2ed93547-6d5d-4983-9b36-1ecb300da49a",
   "metadata": {
    "execution": {
     "iopub.execute_input": "2025-07-30T21:47:23.945707Z",
     "iopub.status.busy": "2025-07-30T21:47:23.944210Z",
     "iopub.status.idle": "2025-07-30T21:47:23.950606Z",
     "shell.execute_reply": "2025-07-30T21:47:23.949636Z"
    },
    "papermill": {
     "duration": 0.023058,
     "end_time": "2025-07-30T21:47:23.952475",
     "exception": false,
     "start_time": "2025-07-30T21:47:23.929417",
     "status": "completed"
    },
    "tags": []
   },
   "outputs": [],
   "source": [
    "y_calib = y_calib.values.ravel().astype(int)"
   ]
  },
  {
   "cell_type": "code",
   "execution_count": 50,
   "id": "65d1320d-f588-4b38-9072-62af1ae97f7d",
   "metadata": {
    "execution": {
     "iopub.execute_input": "2025-07-30T21:47:23.987723Z",
     "iopub.status.busy": "2025-07-30T21:47:23.987296Z",
     "iopub.status.idle": "2025-07-30T21:47:23.993837Z",
     "shell.execute_reply": "2025-07-30T21:47:23.993101Z"
    },
    "papermill": {
     "duration": 0.028458,
     "end_time": "2025-07-30T21:47:23.995194",
     "exception": false,
     "start_time": "2025-07-30T21:47:23.966736",
     "status": "completed"
    },
    "tags": []
   },
   "outputs": [],
   "source": [
    "from fairness_multiverse.conformal import compute_nc_scores\n",
    "\n",
    "# Compute nonconformity scores on calibration set (1 - probability of true class)\n",
    "nc_scores = compute_nc_scores(probs_calib, y_calib)"
   ]
  },
  {
   "cell_type": "code",
   "execution_count": 51,
   "id": "df3b8ca3-53b7-43d5-9667-7c85da7aeda2",
   "metadata": {
    "execution": {
     "iopub.execute_input": "2025-07-30T21:47:24.031995Z",
     "iopub.status.busy": "2025-07-30T21:47:24.031642Z",
     "iopub.status.idle": "2025-07-30T21:47:24.037013Z",
     "shell.execute_reply": "2025-07-30T21:47:24.036292Z"
    },
    "papermill": {
     "duration": 0.020806,
     "end_time": "2025-07-30T21:47:24.038238",
     "exception": false,
     "start_time": "2025-07-30T21:47:24.017432",
     "status": "completed"
    },
    "tags": []
   },
   "outputs": [],
   "source": [
    "from fairness_multiverse.conformal import find_threshold\n",
    "\n",
    "# Find conformal threshold q_hat for the given alpha (split conformal method)\n",
    "q_hat = find_threshold(nc_scores, alpha)"
   ]
  },
  {
   "cell_type": "code",
   "execution_count": 52,
   "id": "4d29e6c1-0ef6-4aa4-b8fe-4fe79b0d033a",
   "metadata": {
    "execution": {
     "iopub.execute_input": "2025-07-30T21:47:24.083737Z",
     "iopub.status.busy": "2025-07-30T21:47:24.082765Z",
     "iopub.status.idle": "2025-07-30T21:47:24.091928Z",
     "shell.execute_reply": "2025-07-30T21:47:24.090656Z"
    },
    "papermill": {
     "duration": 0.04203,
     "end_time": "2025-07-30T21:47:24.094365",
     "exception": false,
     "start_time": "2025-07-30T21:47:24.052335",
     "status": "completed"
    },
    "tags": []
   },
   "outputs": [
    {
     "data": {
      "text/plain": [
       "0.7769523505050311"
      ]
     },
     "execution_count": 52,
     "metadata": {},
     "output_type": "execute_result"
    }
   ],
   "source": [
    "q_hat"
   ]
  },
  {
   "cell_type": "code",
   "execution_count": 53,
   "id": "92460794-cdac-4be2-ba28-f28c0515a6fb",
   "metadata": {
    "execution": {
     "iopub.execute_input": "2025-07-30T21:47:24.150282Z",
     "iopub.status.busy": "2025-07-30T21:47:24.149235Z",
     "iopub.status.idle": "2025-07-30T21:47:25.804700Z",
     "shell.execute_reply": "2025-07-30T21:47:25.803734Z"
    },
    "papermill": {
     "duration": 1.686617,
     "end_time": "2025-07-30T21:47:25.806170",
     "exception": false,
     "start_time": "2025-07-30T21:47:24.119553",
     "status": "completed"
    },
    "tags": []
   },
   "outputs": [],
   "source": [
    "from fairness_multiverse.conformal import predict_conformal_sets\n",
    "\n",
    "# Generate prediction sets for each test example\n",
    "pred_sets = predict_conformal_sets(model, X_test, q_hat)"
   ]
  },
  {
   "cell_type": "code",
   "execution_count": 54,
   "id": "d90c9a65-e6db-4f5d-80cd-e68fb7e46829",
   "metadata": {
    "execution": {
     "iopub.execute_input": "2025-07-30T21:47:25.837706Z",
     "iopub.status.busy": "2025-07-30T21:47:25.837141Z",
     "iopub.status.idle": "2025-07-30T21:47:25.841744Z",
     "shell.execute_reply": "2025-07-30T21:47:25.841007Z"
    },
    "papermill": {
     "duration": 0.020126,
     "end_time": "2025-07-30T21:47:25.843014",
     "exception": false,
     "start_time": "2025-07-30T21:47:25.822888",
     "status": "completed"
    },
    "tags": []
   },
   "outputs": [],
   "source": [
    "y_true = y_true.squeeze()"
   ]
  },
  {
   "cell_type": "code",
   "execution_count": 55,
   "id": "3a58a54a-1e68-46b9-927a-df01f18aebc8",
   "metadata": {
    "execution": {
     "iopub.execute_input": "2025-07-30T21:47:25.874557Z",
     "iopub.status.busy": "2025-07-30T21:47:25.873890Z",
     "iopub.status.idle": "2025-07-30T21:47:26.747043Z",
     "shell.execute_reply": "2025-07-30T21:47:26.745934Z"
    },
    "papermill": {
     "duration": 0.890959,
     "end_time": "2025-07-30T21:47:26.749007",
     "exception": false,
     "start_time": "2025-07-30T21:47:25.858048",
     "status": "completed"
    },
    "tags": []
   },
   "outputs": [],
   "source": [
    "from fairness_multiverse.conformal import evaluate_sets\n",
    "\n",
    "# Evaluate coverage and average set size on test data\n",
    "metrics = evaluate_sets(pred_sets, y_true)"
   ]
  },
  {
   "cell_type": "markdown",
   "id": "2b569c12-9aaa-4c88-98c9-bbcd0cf3ebb8",
   "metadata": {
    "papermill": {
     "duration": 0.014782,
     "end_time": "2025-07-30T21:47:26.781672",
     "exception": false,
     "start_time": "2025-07-30T21:47:26.766890",
     "status": "completed"
    },
    "tags": []
   },
   "source": [
    "# CP Metrics"
   ]
  },
  {
   "cell_type": "code",
   "execution_count": 56,
   "id": "5ce0a5cb-201f-45a0-ade5-94c7f0bd6095",
   "metadata": {
    "execution": {
     "iopub.execute_input": "2025-07-30T21:47:26.830096Z",
     "iopub.status.busy": "2025-07-30T21:47:26.829672Z",
     "iopub.status.idle": "2025-07-30T21:47:26.837221Z",
     "shell.execute_reply": "2025-07-30T21:47:26.836223Z"
    },
    "papermill": {
     "duration": 0.052837,
     "end_time": "2025-07-30T21:47:26.853519",
     "exception": false,
     "start_time": "2025-07-30T21:47:26.800682",
     "status": "completed"
    },
    "tags": []
   },
   "outputs": [
    {
     "data": {
      "text/plain": [
       "{'coverage': 0.9091294170103668, 'avg_size': 1.1982945045145468}"
      ]
     },
     "execution_count": 56,
     "metadata": {},
     "output_type": "execute_result"
    }
   ],
   "source": [
    "metrics"
   ]
  },
  {
   "cell_type": "code",
   "execution_count": 57,
   "id": "9b9a838d-31c9-430b-ae14-12baee460d17",
   "metadata": {
    "execution": {
     "iopub.execute_input": "2025-07-30T21:47:26.909390Z",
     "iopub.status.busy": "2025-07-30T21:47:26.908794Z",
     "iopub.status.idle": "2025-07-30T21:47:26.915768Z",
     "shell.execute_reply": "2025-07-30T21:47:26.914789Z"
    },
    "papermill": {
     "duration": 0.035959,
     "end_time": "2025-07-30T21:47:26.917968",
     "exception": false,
     "start_time": "2025-07-30T21:47:26.882009",
     "status": "completed"
    },
    "tags": []
   },
   "outputs": [],
   "source": [
    "example_universe = universe.copy()\n",
    "universe_training_year = example_universe.get(\"training_year\")\n",
    "universe_training_size = example_universe.get(\"training_size\")\n",
    "universe_scale = example_universe.get(\"scale\")\n",
    "universe_model = example_universe.get(\"model\")\n",
    "universe_exclude_features = example_universe.get(\"exclude_features\")\n",
    "universe_exclude_subgroups = example_universe.get(\"exclude_subgroups\")"
   ]
  },
  {
   "cell_type": "code",
   "execution_count": 58,
   "id": "f4b6a8ac-9dc0-4245-8a91-5b3b5999c4f9",
   "metadata": {
    "execution": {
     "iopub.execute_input": "2025-07-30T21:47:26.975799Z",
     "iopub.status.busy": "2025-07-30T21:47:26.974489Z",
     "iopub.status.idle": "2025-07-30T21:47:26.983342Z",
     "shell.execute_reply": "2025-07-30T21:47:26.982027Z"
    },
    "papermill": {
     "duration": 0.039543,
     "end_time": "2025-07-30T21:47:26.985353",
     "exception": false,
     "start_time": "2025-07-30T21:47:26.945810",
     "status": "completed"
    },
    "tags": []
   },
   "outputs": [],
   "source": [
    "cp_metrics_dict = {\n",
    "    \"universe_id\": [universe_id],\n",
    "    \"universe_training_year\": [universe_training_year],\n",
    "    \"universe_training_size\": [universe_training_size],\n",
    "    \"universe_scale\": [universe_scale],\n",
    "    \"universe_model\": [universe_model],\n",
    "    \"universe_exclude_features\": [universe_exclude_features],\n",
    "    \"universe_exclude_subgroups\": [universe_exclude_subgroups],\n",
    "    \"q_hat\": [q_hat],\n",
    "    \"coverage\": [metrics[\"coverage\"]],\n",
    "    \"avg_size\": [metrics[\"avg_size\"]],\n",
    "}"
   ]
  },
  {
   "cell_type": "code",
   "execution_count": 59,
   "id": "908acbb1-0371-4915-85ca-3fa520d2efe2",
   "metadata": {
    "execution": {
     "iopub.execute_input": "2025-07-30T21:47:27.041661Z",
     "iopub.status.busy": "2025-07-30T21:47:27.041046Z",
     "iopub.status.idle": "2025-07-30T21:47:27.050375Z",
     "shell.execute_reply": "2025-07-30T21:47:27.049135Z"
    },
    "papermill": {
     "duration": 0.038853,
     "end_time": "2025-07-30T21:47:27.052009",
     "exception": false,
     "start_time": "2025-07-30T21:47:27.013156",
     "status": "completed"
    },
    "tags": []
   },
   "outputs": [
    {
     "data": {
      "text/plain": [
       "{'universe_id': ['f359d601b2051c84bb74f5d67a6267c1'],\n",
       " 'universe_training_year': ['2010_14'],\n",
       " 'universe_training_size': ['1k'],\n",
       " 'universe_scale': ['scale'],\n",
       " 'universe_model': ['gbm'],\n",
       " 'universe_exclude_features': ['nationality'],\n",
       " 'universe_exclude_subgroups': ['drop-non-german'],\n",
       " 'q_hat': [0.7769523505050311],\n",
       " 'coverage': [0.9091294170103668],\n",
       " 'avg_size': [1.1982945045145468]}"
      ]
     },
     "execution_count": 59,
     "metadata": {},
     "output_type": "execute_result"
    }
   ],
   "source": [
    "cp_metrics_dict"
   ]
  },
  {
   "cell_type": "code",
   "execution_count": 60,
   "id": "33007efc-14e9-4ec6-97ac-56a455c82265",
   "metadata": {
    "execution": {
     "iopub.execute_input": "2025-07-30T21:47:27.106818Z",
     "iopub.status.busy": "2025-07-30T21:47:27.106031Z",
     "iopub.status.idle": "2025-07-30T21:47:27.113423Z",
     "shell.execute_reply": "2025-07-30T21:47:27.112396Z"
    },
    "papermill": {
     "duration": 0.035095,
     "end_time": "2025-07-30T21:47:27.115238",
     "exception": false,
     "start_time": "2025-07-30T21:47:27.080143",
     "status": "completed"
    },
    "tags": []
   },
   "outputs": [],
   "source": [
    "cp_metrics_df = pd.DataFrame(cp_metrics_dict)"
   ]
  },
  {
   "cell_type": "code",
   "execution_count": 61,
   "id": "db12611b-57b2-4910-b9d0-355adfd6e7bf",
   "metadata": {
    "execution": {
     "iopub.execute_input": "2025-07-30T21:47:27.160608Z",
     "iopub.status.busy": "2025-07-30T21:47:27.160141Z",
     "iopub.status.idle": "2025-07-30T21:47:27.175391Z",
     "shell.execute_reply": "2025-07-30T21:47:27.174540Z"
    },
    "papermill": {
     "duration": 0.034028,
     "end_time": "2025-07-30T21:47:27.176881",
     "exception": false,
     "start_time": "2025-07-30T21:47:27.142853",
     "status": "completed"
    },
    "tags": []
   },
   "outputs": [
    {
     "data": {
      "text/html": [
       "<div>\n",
       "<style scoped>\n",
       "    .dataframe tbody tr th:only-of-type {\n",
       "        vertical-align: middle;\n",
       "    }\n",
       "\n",
       "    .dataframe tbody tr th {\n",
       "        vertical-align: top;\n",
       "    }\n",
       "\n",
       "    .dataframe thead th {\n",
       "        text-align: right;\n",
       "    }\n",
       "</style>\n",
       "<table border=\"1\" class=\"dataframe\">\n",
       "  <thead>\n",
       "    <tr style=\"text-align: right;\">\n",
       "      <th></th>\n",
       "      <th>universe_id</th>\n",
       "      <th>universe_training_year</th>\n",
       "      <th>universe_training_size</th>\n",
       "      <th>universe_scale</th>\n",
       "      <th>universe_model</th>\n",
       "      <th>universe_exclude_features</th>\n",
       "      <th>universe_exclude_subgroups</th>\n",
       "      <th>q_hat</th>\n",
       "      <th>coverage</th>\n",
       "      <th>avg_size</th>\n",
       "    </tr>\n",
       "  </thead>\n",
       "  <tbody>\n",
       "    <tr>\n",
       "      <th>0</th>\n",
       "      <td>f359d601b2051c84bb74f5d67a6267c1</td>\n",
       "      <td>2010_14</td>\n",
       "      <td>1k</td>\n",
       "      <td>scale</td>\n",
       "      <td>gbm</td>\n",
       "      <td>nationality</td>\n",
       "      <td>drop-non-german</td>\n",
       "      <td>0.776952</td>\n",
       "      <td>0.909129</td>\n",
       "      <td>1.198295</td>\n",
       "    </tr>\n",
       "  </tbody>\n",
       "</table>\n",
       "</div>"
      ],
      "text/plain": [
       "                        universe_id universe_training_year  \\\n",
       "0  f359d601b2051c84bb74f5d67a6267c1                2010_14   \n",
       "\n",
       "  universe_training_size universe_scale universe_model  \\\n",
       "0                     1k          scale            gbm   \n",
       "\n",
       "  universe_exclude_features universe_exclude_subgroups     q_hat  coverage  \\\n",
       "0               nationality            drop-non-german  0.776952  0.909129   \n",
       "\n",
       "   avg_size  \n",
       "0  1.198295  "
      ]
     },
     "execution_count": 61,
     "metadata": {},
     "output_type": "execute_result"
    }
   ],
   "source": [
    "cp_metrics_df"
   ]
  },
  {
   "cell_type": "code",
   "execution_count": 62,
   "id": "b7fbde55-a0a1-47e4-9af6-fe4a17fa8c61",
   "metadata": {
    "execution": {
     "iopub.execute_input": "2025-07-30T21:47:27.213380Z",
     "iopub.status.busy": "2025-07-30T21:47:27.212935Z",
     "iopub.status.idle": "2025-07-30T21:47:27.218675Z",
     "shell.execute_reply": "2025-07-30T21:47:27.217431Z"
    },
    "papermill": {
     "duration": 0.028442,
     "end_time": "2025-07-30T21:47:27.220332",
     "exception": false,
     "start_time": "2025-07-30T21:47:27.191890",
     "status": "completed"
    },
    "tags": []
   },
   "outputs": [],
   "source": [
    "# Conditional Coverage & looking at subgroups"
   ]
  },
  {
   "cell_type": "code",
   "execution_count": 63,
   "id": "027ae886-68dd-4141-96c7-805a5450e1ef",
   "metadata": {
    "execution": {
     "iopub.execute_input": "2025-07-30T21:47:27.267735Z",
     "iopub.status.busy": "2025-07-30T21:47:27.267338Z",
     "iopub.status.idle": "2025-07-30T21:47:27.524095Z",
     "shell.execute_reply": "2025-07-30T21:47:27.523029Z"
    },
    "papermill": {
     "duration": 0.277283,
     "end_time": "2025-07-30T21:47:27.525839",
     "exception": false,
     "start_time": "2025-07-30T21:47:27.248556",
     "status": "completed"
    },
    "tags": []
   },
   "outputs": [],
   "source": [
    "from fairness_multiverse.conformal import build_cp_groups\n",
    "\n",
    "cp_groups_df = build_cp_groups(pred_sets, y_true, X_test.index, org_test)\n",
    "#needs universe_id and setting"
   ]
  },
  {
   "cell_type": "code",
   "execution_count": 64,
   "id": "01d5802c-663a-4d1f-9d69-e036faaffbf7",
   "metadata": {
    "execution": {
     "iopub.execute_input": "2025-07-30T21:47:27.581184Z",
     "iopub.status.busy": "2025-07-30T21:47:27.580732Z",
     "iopub.status.idle": "2025-07-30T21:47:27.586061Z",
     "shell.execute_reply": "2025-07-30T21:47:27.585090Z"
    },
    "papermill": {
     "duration": 0.032647,
     "end_time": "2025-07-30T21:47:27.587627",
     "exception": false,
     "start_time": "2025-07-30T21:47:27.554980",
     "status": "completed"
    },
    "tags": []
   },
   "outputs": [],
   "source": [
    "#delete\n",
    "#cp_groups_df"
   ]
  },
  {
   "cell_type": "code",
   "execution_count": 65,
   "id": "fa424af1-d1eb-443d-b717-2d279ada8408",
   "metadata": {
    "execution": {
     "iopub.execute_input": "2025-07-30T21:47:27.647234Z",
     "iopub.status.busy": "2025-07-30T21:47:27.646737Z",
     "iopub.status.idle": "2025-07-30T21:47:27.652705Z",
     "shell.execute_reply": "2025-07-30T21:47:27.651529Z"
    },
    "papermill": {
     "duration": 0.036527,
     "end_time": "2025-07-30T21:47:27.654816",
     "exception": false,
     "start_time": "2025-07-30T21:47:27.618289",
     "status": "completed"
    },
    "tags": []
   },
   "outputs": [],
   "source": [
    "#delete\n",
    "#percentage = (cp_groups_df['nongerman_female'] == 1).mean() * 100\n",
    "#print(percentage)\n"
   ]
  },
  {
   "cell_type": "code",
   "execution_count": 66,
   "id": "6cbdab96-b2b2-45af-ad54-d0516db2e28d",
   "metadata": {
    "execution": {
     "iopub.execute_input": "2025-07-30T21:47:27.714725Z",
     "iopub.status.busy": "2025-07-30T21:47:27.714161Z",
     "iopub.status.idle": "2025-07-30T21:47:30.146218Z",
     "shell.execute_reply": "2025-07-30T21:47:30.145063Z"
    },
    "papermill": {
     "duration": 2.464951,
     "end_time": "2025-07-30T21:47:30.148825",
     "exception": false,
     "start_time": "2025-07-30T21:47:27.683874",
     "status": "completed"
    },
    "tags": []
   },
   "outputs": [],
   "source": [
    "# Define covered = 1 if true_label is in the predicted set\n",
    "cp_groups_df['covered'] = cp_groups_df.apply(\n",
    "    lambda r: int(r['true_label'] in r['pred_set']),\n",
    "    axis=1\n",
    ")"
   ]
  },
  {
   "cell_type": "code",
   "execution_count": 67,
   "id": "338ff529-1a6b-4b87-a931-8e4788d52aad",
   "metadata": {
    "execution": {
     "iopub.execute_input": "2025-07-30T21:47:30.225612Z",
     "iopub.status.busy": "2025-07-30T21:47:30.224859Z",
     "iopub.status.idle": "2025-07-30T21:47:30.230959Z",
     "shell.execute_reply": "2025-07-30T21:47:30.229819Z"
    },
    "papermill": {
     "duration": 0.047834,
     "end_time": "2025-07-30T21:47:30.233754",
     "exception": false,
     "start_time": "2025-07-30T21:47:30.185920",
     "status": "completed"
    },
    "tags": []
   },
   "outputs": [],
   "source": [
    "#cp_groups_df"
   ]
  },
  {
   "cell_type": "code",
   "execution_count": 68,
   "id": "90032e27-66df-4540-9169-4e89cfbaa758",
   "metadata": {
    "execution": {
     "iopub.execute_input": "2025-07-30T21:47:30.318659Z",
     "iopub.status.busy": "2025-07-30T21:47:30.318326Z",
     "iopub.status.idle": "2025-07-30T21:47:30.331666Z",
     "shell.execute_reply": "2025-07-30T21:47:30.330469Z"
    },
    "papermill": {
     "duration": 0.059866,
     "end_time": "2025-07-30T21:47:30.334407",
     "exception": false,
     "start_time": "2025-07-30T21:47:30.274541",
     "status": "completed"
    },
    "tags": []
   },
   "outputs": [],
   "source": [
    "subgroups = ['frau1','nongerman','nongerman_male','nongerman_female']\n",
    "\n",
    "# Conditional coverage for subgroup==1\n",
    "cond_coverage = {\n",
    "    g: cp_groups_df.loc[cp_groups_df[g]==1, 'covered'].mean()\n",
    "    for g in subgroups\n",
    "}"
   ]
  },
  {
   "cell_type": "code",
   "execution_count": 69,
   "id": "1e348fb1-b9c3-45bc-ba23-f016827a7e0d",
   "metadata": {
    "execution": {
     "iopub.execute_input": "2025-07-30T21:47:30.421856Z",
     "iopub.status.busy": "2025-07-30T21:47:30.421257Z",
     "iopub.status.idle": "2025-07-30T21:47:30.429816Z",
     "shell.execute_reply": "2025-07-30T21:47:30.428699Z"
    },
    "papermill": {
     "duration": 0.055708,
     "end_time": "2025-07-30T21:47:30.432232",
     "exception": false,
     "start_time": "2025-07-30T21:47:30.376524",
     "status": "completed"
    },
    "tags": []
   },
   "outputs": [
    {
     "data": {
      "text/plain": [
       "{'frau1': 0.9076964550478501,\n",
       " 'nongerman': 0.9077639925896817,\n",
       " 'nongerman_male': 0.9236242456993605,\n",
       " 'nongerman_female': 0.8815201192250373}"
      ]
     },
     "execution_count": 69,
     "metadata": {},
     "output_type": "execute_result"
    }
   ],
   "source": [
    "cond_coverage"
   ]
  },
  {
   "cell_type": "code",
   "execution_count": 70,
   "id": "f5093324-c3dd-4d63-bc4c-8d945e5c8bbb",
   "metadata": {
    "execution": {
     "iopub.execute_input": "2025-07-30T21:47:30.515214Z",
     "iopub.status.busy": "2025-07-30T21:47:30.514788Z",
     "iopub.status.idle": "2025-07-30T21:47:30.523977Z",
     "shell.execute_reply": "2025-07-30T21:47:30.522465Z"
    },
    "papermill": {
     "duration": 0.053436,
     "end_time": "2025-07-30T21:47:30.526767",
     "exception": false,
     "start_time": "2025-07-30T21:47:30.473331",
     "status": "completed"
    },
    "tags": []
   },
   "outputs": [],
   "source": [
    "for subgroup, cov in cond_coverage.items():\n",
    "    cp_metrics_df[f\"cov_{subgroup}\"] = cov"
   ]
  },
  {
   "cell_type": "code",
   "execution_count": 71,
   "id": "6e872e10-dbe5-49e8-b554-5030c98ff75d",
   "metadata": {
    "execution": {
     "iopub.execute_input": "2025-07-30T21:47:30.608394Z",
     "iopub.status.busy": "2025-07-30T21:47:30.607464Z",
     "iopub.status.idle": "2025-07-30T21:47:30.636966Z",
     "shell.execute_reply": "2025-07-30T21:47:30.634803Z"
    },
    "papermill": {
     "duration": 0.083348,
     "end_time": "2025-07-30T21:47:30.650038",
     "exception": false,
     "start_time": "2025-07-30T21:47:30.566690",
     "status": "completed"
    },
    "tags": []
   },
   "outputs": [
    {
     "data": {
      "text/html": [
       "<div>\n",
       "<style scoped>\n",
       "    .dataframe tbody tr th:only-of-type {\n",
       "        vertical-align: middle;\n",
       "    }\n",
       "\n",
       "    .dataframe tbody tr th {\n",
       "        vertical-align: top;\n",
       "    }\n",
       "\n",
       "    .dataframe thead th {\n",
       "        text-align: right;\n",
       "    }\n",
       "</style>\n",
       "<table border=\"1\" class=\"dataframe\">\n",
       "  <thead>\n",
       "    <tr style=\"text-align: right;\">\n",
       "      <th></th>\n",
       "      <th>universe_id</th>\n",
       "      <th>universe_training_year</th>\n",
       "      <th>universe_training_size</th>\n",
       "      <th>universe_scale</th>\n",
       "      <th>universe_model</th>\n",
       "      <th>universe_exclude_features</th>\n",
       "      <th>universe_exclude_subgroups</th>\n",
       "      <th>q_hat</th>\n",
       "      <th>coverage</th>\n",
       "      <th>avg_size</th>\n",
       "      <th>cov_frau1</th>\n",
       "      <th>cov_nongerman</th>\n",
       "      <th>cov_nongerman_male</th>\n",
       "      <th>cov_nongerman_female</th>\n",
       "    </tr>\n",
       "  </thead>\n",
       "  <tbody>\n",
       "    <tr>\n",
       "      <th>0</th>\n",
       "      <td>f359d601b2051c84bb74f5d67a6267c1</td>\n",
       "      <td>2010_14</td>\n",
       "      <td>1k</td>\n",
       "      <td>scale</td>\n",
       "      <td>gbm</td>\n",
       "      <td>nationality</td>\n",
       "      <td>drop-non-german</td>\n",
       "      <td>0.776952</td>\n",
       "      <td>0.909129</td>\n",
       "      <td>1.198295</td>\n",
       "      <td>0.907696</td>\n",
       "      <td>0.907764</td>\n",
       "      <td>0.923624</td>\n",
       "      <td>0.88152</td>\n",
       "    </tr>\n",
       "  </tbody>\n",
       "</table>\n",
       "</div>"
      ],
      "text/plain": [
       "                        universe_id universe_training_year  \\\n",
       "0  f359d601b2051c84bb74f5d67a6267c1                2010_14   \n",
       "\n",
       "  universe_training_size universe_scale universe_model  \\\n",
       "0                     1k          scale            gbm   \n",
       "\n",
       "  universe_exclude_features universe_exclude_subgroups     q_hat  coverage  \\\n",
       "0               nationality            drop-non-german  0.776952  0.909129   \n",
       "\n",
       "   avg_size  cov_frau1  cov_nongerman  cov_nongerman_male  \\\n",
       "0  1.198295   0.907696       0.907764            0.923624   \n",
       "\n",
       "   cov_nongerman_female  \n",
       "0               0.88152  "
      ]
     },
     "execution_count": 71,
     "metadata": {},
     "output_type": "execute_result"
    }
   ],
   "source": [
    "cp_metrics_df"
   ]
  },
  {
   "cell_type": "markdown",
   "id": "33774451",
   "metadata": {
    "papermill": {
     "duration": 0.039009,
     "end_time": "2025-07-30T21:47:30.725640",
     "exception": false,
     "start_time": "2025-07-30T21:47:30.686631",
     "status": "completed"
    },
    "tags": []
   },
   "source": [
    "# (Fairness) Metrics"
   ]
  },
  {
   "cell_type": "code",
   "execution_count": 72,
   "id": "debc5d62",
   "metadata": {
    "execution": {
     "iopub.execute_input": "2025-07-30T21:47:30.805976Z",
     "iopub.status.busy": "2025-07-30T21:47:30.805415Z",
     "iopub.status.idle": "2025-07-30T21:47:30.829610Z",
     "shell.execute_reply": "2025-07-30T21:47:30.828253Z"
    },
    "papermill": {
     "duration": 0.067594,
     "end_time": "2025-07-30T21:47:30.831804",
     "exception": false,
     "start_time": "2025-07-30T21:47:30.764210",
     "status": "completed"
    },
    "tags": []
   },
   "outputs": [],
   "source": [
    "# do I need to include maxdeutsch1.missing?\n",
    "\n",
    "import numpy as np\n",
    "\n",
    "colname_to_bin = \"maxdeutsch1\"\n",
    "majority_value = org_train[colname_to_bin].mode()[0]\n",
    "\n",
    "org_test[\"majmin\"] = np.where(org_test[colname_to_bin] == majority_value, \"majority\", \"minority\")"
   ]
  },
  {
   "cell_type": "code",
   "execution_count": 73,
   "id": "06a50de5",
   "metadata": {
    "execution": {
     "iopub.execute_input": "2025-07-30T21:47:30.891682Z",
     "iopub.status.busy": "2025-07-30T21:47:30.891019Z",
     "iopub.status.idle": "2025-07-30T21:47:33.751533Z",
     "shell.execute_reply": "2025-07-30T21:47:33.750806Z"
    },
    "papermill": {
     "duration": 2.891455,
     "end_time": "2025-07-30T21:47:33.752936",
     "exception": false,
     "start_time": "2025-07-30T21:47:30.861481",
     "status": "completed"
    },
    "tags": []
   },
   "outputs": [],
   "source": [
    "example_universe = universe.copy()\n",
    "example_universe[\"cutoff\"] = example_universe[\"cutoff\"][0]\n",
    "example_universe[\"eval_fairness_grouping\"] = example_universe[\"eval_fairness_grouping\"][0]\n",
    "fairness_dict, metric_frame = universe_analysis.compute_metrics(\n",
    "    example_universe,\n",
    "    y_pred_prob=probs_test,\n",
    "    y_test=y_true,\n",
    "    org_test=org_test,\n",
    ")"
   ]
  },
  {
   "cell_type": "markdown",
   "id": "f95d4e02",
   "metadata": {
    "papermill": {
     "duration": 0.019792,
     "end_time": "2025-07-30T21:47:33.789803",
     "exception": false,
     "start_time": "2025-07-30T21:47:33.770011",
     "status": "completed"
    },
    "tags": []
   },
   "source": [
    "# Overall"
   ]
  },
  {
   "cell_type": "markdown",
   "id": "bdee4871",
   "metadata": {
    "papermill": {
     "duration": 0.013289,
     "end_time": "2025-07-30T21:47:33.818107",
     "exception": false,
     "start_time": "2025-07-30T21:47:33.804818",
     "status": "completed"
    },
    "tags": []
   },
   "source": [
    "Fairness\n",
    "Main fairness target: Equalized Odds. Seems to be a better fit than equal opportunity, since we're not only interested in Y = 1. Seems to be a better fit than demographic parity, since we also care about accuracy, not just equal distribution of preds.\n",
    "\n",
    "Pick column for computation of fairness metrics\n",
    "\n",
    "Performance\n",
    "Overall performance measures, most interesting in relation to the measures split by group below"
   ]
  },
  {
   "cell_type": "code",
   "execution_count": 74,
   "id": "c4e067c6",
   "metadata": {
    "execution": {
     "iopub.execute_input": "2025-07-30T21:47:33.851073Z",
     "iopub.status.busy": "2025-07-30T21:47:33.850704Z",
     "iopub.status.idle": "2025-07-30T21:47:33.857959Z",
     "shell.execute_reply": "2025-07-30T21:47:33.857169Z"
    },
    "papermill": {
     "duration": 0.027483,
     "end_time": "2025-07-30T21:47:33.859271",
     "exception": false,
     "start_time": "2025-07-30T21:47:33.831788",
     "status": "completed"
    },
    "tags": []
   },
   "outputs": [
    {
     "data": {
      "text/plain": [
       "accuracy                   0.222729\n",
       "balanced accuracy          0.544947\n",
       "f1                         0.244105\n",
       "precision                  0.139449\n",
       "false positive rate        0.888468\n",
       "false negative rate        0.021637\n",
       "selection rate             0.900000\n",
       "count                  89710.000000\n",
       "dtype: float64"
      ]
     },
     "execution_count": 74,
     "metadata": {},
     "output_type": "execute_result"
    }
   ],
   "source": [
    "metric_frame.overall"
   ]
  },
  {
   "cell_type": "markdown",
   "id": "e968fe9d",
   "metadata": {
    "papermill": {
     "duration": 0.021818,
     "end_time": "2025-07-30T21:47:33.896501",
     "exception": false,
     "start_time": "2025-07-30T21:47:33.874683",
     "status": "completed"
    },
    "tags": []
   },
   "source": [
    "By Group"
   ]
  },
  {
   "cell_type": "code",
   "execution_count": 75,
   "id": "ec325bce",
   "metadata": {
    "execution": {
     "iopub.execute_input": "2025-07-30T21:47:33.955497Z",
     "iopub.status.busy": "2025-07-30T21:47:33.954986Z",
     "iopub.status.idle": "2025-07-30T21:47:33.970291Z",
     "shell.execute_reply": "2025-07-30T21:47:33.969351Z"
    },
    "papermill": {
     "duration": 0.047226,
     "end_time": "2025-07-30T21:47:33.971950",
     "exception": false,
     "start_time": "2025-07-30T21:47:33.924724",
     "status": "completed"
    },
    "tags": []
   },
   "outputs": [
    {
     "data": {
      "text/html": [
       "<div>\n",
       "<style scoped>\n",
       "    .dataframe tbody tr th:only-of-type {\n",
       "        vertical-align: middle;\n",
       "    }\n",
       "\n",
       "    .dataframe tbody tr th {\n",
       "        vertical-align: top;\n",
       "    }\n",
       "\n",
       "    .dataframe thead th {\n",
       "        text-align: right;\n",
       "    }\n",
       "</style>\n",
       "<table border=\"1\" class=\"dataframe\">\n",
       "  <thead>\n",
       "    <tr style=\"text-align: right;\">\n",
       "      <th></th>\n",
       "      <th>accuracy</th>\n",
       "      <th>balanced accuracy</th>\n",
       "      <th>f1</th>\n",
       "      <th>precision</th>\n",
       "      <th>false positive rate</th>\n",
       "      <th>false negative rate</th>\n",
       "      <th>selection rate</th>\n",
       "      <th>count</th>\n",
       "    </tr>\n",
       "    <tr>\n",
       "      <th>majmin</th>\n",
       "      <th></th>\n",
       "      <th></th>\n",
       "      <th></th>\n",
       "      <th></th>\n",
       "      <th></th>\n",
       "      <th></th>\n",
       "      <th></th>\n",
       "      <th></th>\n",
       "    </tr>\n",
       "  </thead>\n",
       "  <tbody>\n",
       "    <tr>\n",
       "      <th>majority</th>\n",
       "      <td>0.239569</td>\n",
       "      <td>0.551738</td>\n",
       "      <td>0.253290</td>\n",
       "      <td>0.145528</td>\n",
       "      <td>0.872564</td>\n",
       "      <td>0.023961</td>\n",
       "      <td>0.886237</td>\n",
       "      <td>69170.0</td>\n",
       "    </tr>\n",
       "    <tr>\n",
       "      <th>minority</th>\n",
       "      <td>0.166018</td>\n",
       "      <td>0.523161</td>\n",
       "      <td>0.214436</td>\n",
       "      <td>0.120280</td>\n",
       "      <td>0.941008</td>\n",
       "      <td>0.012669</td>\n",
       "      <td>0.946349</td>\n",
       "      <td>20540.0</td>\n",
       "    </tr>\n",
       "  </tbody>\n",
       "</table>\n",
       "</div>"
      ],
      "text/plain": [
       "          accuracy  balanced accuracy        f1  precision  \\\n",
       "majmin                                                       \n",
       "majority  0.239569           0.551738  0.253290   0.145528   \n",
       "minority  0.166018           0.523161  0.214436   0.120280   \n",
       "\n",
       "          false positive rate  false negative rate  selection rate    count  \n",
       "majmin                                                                       \n",
       "majority             0.872564             0.023961        0.886237  69170.0  \n",
       "minority             0.941008             0.012669        0.946349  20540.0  "
      ]
     },
     "execution_count": 75,
     "metadata": {},
     "output_type": "execute_result"
    }
   ],
   "source": [
    "metric_frame.by_group"
   ]
  },
  {
   "cell_type": "code",
   "execution_count": 76,
   "id": "a9ddbe63",
   "metadata": {
    "execution": {
     "iopub.execute_input": "2025-07-30T21:47:34.033827Z",
     "iopub.status.busy": "2025-07-30T21:47:34.033159Z",
     "iopub.status.idle": "2025-07-30T21:47:36.811775Z",
     "shell.execute_reply": "2025-07-30T21:47:36.811035Z"
    },
    "papermill": {
     "duration": 2.811833,
     "end_time": "2025-07-30T21:47:36.813536",
     "exception": false,
     "start_time": "2025-07-30T21:47:34.001703",
     "status": "completed"
    },
    "tags": []
   },
   "outputs": [
    {
     "data": {
      "text/plain": [
       "array([[<Axes: title={'center': 'accuracy'}, xlabel='majmin'>,\n",
       "        <Axes: title={'center': 'balanced accuracy'}, xlabel='majmin'>,\n",
       "        <Axes: title={'center': 'f1'}, xlabel='majmin'>],\n",
       "       [<Axes: title={'center': 'precision'}, xlabel='majmin'>,\n",
       "        <Axes: title={'center': 'false positive rate'}, xlabel='majmin'>,\n",
       "        <Axes: title={'center': 'false negative rate'}, xlabel='majmin'>],\n",
       "       [<Axes: title={'center': 'selection rate'}, xlabel='majmin'>,\n",
       "        <Axes: title={'center': 'count'}, xlabel='majmin'>,\n",
       "        <Axes: xlabel='majmin'>]], dtype=object)"
      ]
     },
     "execution_count": 76,
     "metadata": {},
     "output_type": "execute_result"
    },
    {
     "data": {
      "image/png": "[encoded data removed]",
      "text/plain": [
       "<Figure size 1200x800 with 9 Axes>"
      ]
     },
     "metadata": {},
     "output_type": "display_data"
    }
   ],
   "source": [
    "# In a graphic\n",
    "metric_frame.by_group.plot.bar(\n",
    "    subplots=True,\n",
    "    layout=[3, 3],\n",
    "    legend=False,\n",
    "    figsize=[12, 8],\n",
    "    title=\"Show all metrics\",\n",
    ")"
   ]
  },
  {
   "cell_type": "markdown",
   "id": "f57a0bac",
   "metadata": {
    "papermill": {
     "duration": 0.029699,
     "end_time": "2025-07-30T21:47:36.902396",
     "exception": false,
     "start_time": "2025-07-30T21:47:36.872697",
     "status": "completed"
    },
    "tags": []
   },
   "source": [
    "# Final Output"
   ]
  },
  {
   "cell_type": "code",
   "execution_count": 77,
   "id": "96d280a3",
   "metadata": {
    "execution": {
     "iopub.execute_input": "2025-07-30T21:47:36.964358Z",
     "iopub.status.busy": "2025-07-30T21:47:36.963686Z",
     "iopub.status.idle": "2025-07-30T21:47:36.972634Z",
     "shell.execute_reply": "2025-07-30T21:47:36.971488Z"
    },
    "papermill": {
     "duration": 0.041395,
     "end_time": "2025-07-30T21:47:36.974080",
     "exception": false,
     "start_time": "2025-07-30T21:47:36.932685",
     "status": "completed"
    },
    "tags": []
   },
   "outputs": [
    {
     "data": {
      "text/plain": [
       "4"
      ]
     },
     "execution_count": 77,
     "metadata": {},
     "output_type": "execute_result"
    }
   ],
   "source": [
    "sub_universes = universe_analysis.generate_sub_universes()\n",
    "len(sub_universes)"
   ]
  },
  {
   "cell_type": "code",
   "execution_count": 78,
   "id": "92adf7ba",
   "metadata": {
    "execution": {
     "iopub.execute_input": "2025-07-30T21:47:37.032600Z",
     "iopub.status.busy": "2025-07-30T21:47:37.031998Z",
     "iopub.status.idle": "2025-07-30T21:47:37.039886Z",
     "shell.execute_reply": "2025-07-30T21:47:37.038608Z"
    },
    "papermill": {
     "duration": 0.039368,
     "end_time": "2025-07-30T21:47:37.041961",
     "exception": false,
     "start_time": "2025-07-30T21:47:37.002593",
     "status": "completed"
    },
    "tags": []
   },
   "outputs": [],
   "source": [
    "def filter_sub_universe_data(sub_universe, org_test):\n",
    "    # Keep all rows — no filtering\n",
    "    keep_rows_mask = np.ones(org_test.shape[0], dtype=bool)\n",
    "\n",
    "    print(f\"[INFO] Keeping all rows: {keep_rows_mask.sum()} rows retained.\")\n",
    "    return keep_rows_mask"
   ]
  },
  {
   "cell_type": "code",
   "execution_count": 79,
   "id": "4a759155",
   "metadata": {
    "execution": {
     "iopub.execute_input": "2025-07-30T21:47:37.110590Z",
     "iopub.status.busy": "2025-07-30T21:47:37.109601Z",
     "iopub.status.idle": "2025-07-30T21:47:47.976328Z",
     "shell.execute_reply": "2025-07-30T21:47:47.975168Z"
    },
    "papermill": {
     "duration": 10.902386,
     "end_time": "2025-07-30T21:47:47.978185",
     "exception": false,
     "start_time": "2025-07-30T21:47:37.075799",
     "status": "completed"
    },
    "tags": []
   },
   "outputs": [
    {
     "name": "stdout",
     "output_type": "stream",
     "text": [
      "Stopping execution_time clock.\n",
      "[INFO] Keeping all rows: 89710 rows retained.\n"
     ]
    },
    {
     "name": "stdout",
     "output_type": "stream",
     "text": [
      "[INFO] Keeping all rows: 89710 rows retained.\n"
     ]
    },
    {
     "name": "stdout",
     "output_type": "stream",
     "text": [
      "[INFO] Keeping all rows: 89710 rows retained.\n"
     ]
    },
    {
     "name": "stdout",
     "output_type": "stream",
     "text": [
      "[INFO] Keeping all rows: 89710 rows retained.\n"
     ]
    },
    {
     "data": {
      "text/html": [
       "<div>\n",
       "<style scoped>\n",
       "    .dataframe tbody tr th:only-of-type {\n",
       "        vertical-align: middle;\n",
       "    }\n",
       "\n",
       "    .dataframe tbody tr th {\n",
       "        vertical-align: top;\n",
       "    }\n",
       "\n",
       "    .dataframe thead th {\n",
       "        text-align: right;\n",
       "    }\n",
       "</style>\n",
       "<table border=\"1\" class=\"dataframe\">\n",
       "  <thead>\n",
       "    <tr style=\"text-align: right;\">\n",
       "      <th></th>\n",
       "      <th>run_no</th>\n",
       "      <th>universe_id</th>\n",
       "      <th>universe_settings</th>\n",
       "      <th>execution_time</th>\n",
       "      <th>test_size_n</th>\n",
       "      <th>test_size_frac</th>\n",
       "      <th>fair_main_equalized_odds_difference</th>\n",
       "      <th>fair_main_equalized_odds_ratio</th>\n",
       "      <th>fair_main_demographic_parity_difference</th>\n",
       "      <th>fair_main_demographic_parity_ratio</th>\n",
       "      <th>...</th>\n",
       "      <th>perf_grp_precision_0</th>\n",
       "      <th>perf_grp_precision_1</th>\n",
       "      <th>perf_grp_false positive rate_0</th>\n",
       "      <th>perf_grp_false positive rate_1</th>\n",
       "      <th>perf_grp_false negative rate_0</th>\n",
       "      <th>perf_grp_false negative rate_1</th>\n",
       "      <th>perf_grp_selection rate_0</th>\n",
       "      <th>perf_grp_selection rate_1</th>\n",
       "      <th>perf_grp_count_0</th>\n",
       "      <th>perf_grp_count_1</th>\n",
       "    </tr>\n",
       "  </thead>\n",
       "  <tbody>\n",
       "    <tr>\n",
       "      <th>0</th>\n",
       "      <td>14</td>\n",
       "      <td>f359d601b2051c84bb74f5d67a6267c1</td>\n",
       "      <td>{\"cutoff\": \"quantile_0.1\", \"eval_fairness_grou...</td>\n",
       "      <td>32.91324</td>\n",
       "      <td>89710</td>\n",
       "      <td>1.0</td>\n",
       "      <td>0.068444</td>\n",
       "      <td>0.927265</td>\n",
       "      <td>0.060112</td>\n",
       "      <td>0.936480</td>\n",
       "      <td>...</td>\n",
       "      <td>NaN</td>\n",
       "      <td>NaN</td>\n",
       "      <td>NaN</td>\n",
       "      <td>NaN</td>\n",
       "      <td>NaN</td>\n",
       "      <td>NaN</td>\n",
       "      <td>NaN</td>\n",
       "      <td>NaN</td>\n",
       "      <td>NaN</td>\n",
       "      <td>NaN</td>\n",
       "    </tr>\n",
       "    <tr>\n",
       "      <th>0</th>\n",
       "      <td>14</td>\n",
       "      <td>f359d601b2051c84bb74f5d67a6267c1</td>\n",
       "      <td>{\"cutoff\": \"quantile_0.1\", \"eval_fairness_grou...</td>\n",
       "      <td>32.91324</td>\n",
       "      <td>89710</td>\n",
       "      <td>1.0</td>\n",
       "      <td>0.068444</td>\n",
       "      <td>0.927265</td>\n",
       "      <td>0.060112</td>\n",
       "      <td>0.936480</td>\n",
       "      <td>...</td>\n",
       "      <td>0.120280</td>\n",
       "      <td>0.145528</td>\n",
       "      <td>0.941008</td>\n",
       "      <td>0.872564</td>\n",
       "      <td>0.012669</td>\n",
       "      <td>0.023961</td>\n",
       "      <td>0.946349</td>\n",
       "      <td>0.886237</td>\n",
       "      <td>20540.0</td>\n",
       "      <td>69170.0</td>\n",
       "    </tr>\n",
       "    <tr>\n",
       "      <th>0</th>\n",
       "      <td>14</td>\n",
       "      <td>f359d601b2051c84bb74f5d67a6267c1</td>\n",
       "      <td>{\"cutoff\": \"quantile_0.25\", \"eval_fairness_gro...</td>\n",
       "      <td>32.91324</td>\n",
       "      <td>89710</td>\n",
       "      <td>1.0</td>\n",
       "      <td>0.150115</td>\n",
       "      <td>0.821239</td>\n",
       "      <td>0.133870</td>\n",
       "      <td>0.843099</td>\n",
       "      <td>...</td>\n",
       "      <td>NaN</td>\n",
       "      <td>NaN</td>\n",
       "      <td>NaN</td>\n",
       "      <td>NaN</td>\n",
       "      <td>NaN</td>\n",
       "      <td>NaN</td>\n",
       "      <td>NaN</td>\n",
       "      <td>NaN</td>\n",
       "      <td>NaN</td>\n",
       "      <td>NaN</td>\n",
       "    </tr>\n",
       "    <tr>\n",
       "      <th>0</th>\n",
       "      <td>14</td>\n",
       "      <td>f359d601b2051c84bb74f5d67a6267c1</td>\n",
       "      <td>{\"cutoff\": \"quantile_0.25\", \"eval_fairness_gro...</td>\n",
       "      <td>32.91324</td>\n",
       "      <td>89710</td>\n",
       "      <td>1.0</td>\n",
       "      <td>0.150115</td>\n",
       "      <td>0.821239</td>\n",
       "      <td>0.133870</td>\n",
       "      <td>0.843099</td>\n",
       "      <td>...</td>\n",
       "      <td>0.129244</td>\n",
       "      <td>0.167976</td>\n",
       "      <td>0.839753</td>\n",
       "      <td>0.689639</td>\n",
       "      <td>0.043497</td>\n",
       "      <td>0.085558</td>\n",
       "      <td>0.853213</td>\n",
       "      <td>0.719344</td>\n",
       "      <td>20540.0</td>\n",
       "      <td>69170.0</td>\n",
       "    </tr>\n",
       "  </tbody>\n",
       "</table>\n",
       "<p>4 rows × 50 columns</p>\n",
       "</div>"
      ],
      "text/plain": [
       "  run_no                       universe_id  \\\n",
       "0     14  f359d601b2051c84bb74f5d67a6267c1   \n",
       "0     14  f359d601b2051c84bb74f5d67a6267c1   \n",
       "0     14  f359d601b2051c84bb74f5d67a6267c1   \n",
       "0     14  f359d601b2051c84bb74f5d67a6267c1   \n",
       "\n",
       "                                   universe_settings  execution_time  \\\n",
       "0  {\"cutoff\": \"quantile_0.1\", \"eval_fairness_grou...        32.91324   \n",
       "0  {\"cutoff\": \"quantile_0.1\", \"eval_fairness_grou...        32.91324   \n",
       "0  {\"cutoff\": \"quantile_0.25\", \"eval_fairness_gro...        32.91324   \n",
       "0  {\"cutoff\": \"quantile_0.25\", \"eval_fairness_gro...        32.91324   \n",
       "\n",
       "   test_size_n  test_size_frac  fair_main_equalized_odds_difference  \\\n",
       "0        89710             1.0                             0.068444   \n",
       "0        89710             1.0                             0.068444   \n",
       "0        89710             1.0                             0.150115   \n",
       "0        89710             1.0                             0.150115   \n",
       "\n",
       "   fair_main_equalized_odds_ratio  fair_main_demographic_parity_difference  \\\n",
       "0                        0.927265                                 0.060112   \n",
       "0                        0.927265                                 0.060112   \n",
       "0                        0.821239                                 0.133870   \n",
       "0                        0.821239                                 0.133870   \n",
       "\n",
       "   fair_main_demographic_parity_ratio  ...  perf_grp_precision_0  \\\n",
       "0                            0.936480  ...                   NaN   \n",
       "0                            0.936480  ...              0.120280   \n",
       "0                            0.843099  ...                   NaN   \n",
       "0                            0.843099  ...              0.129244   \n",
       "\n",
       "   perf_grp_precision_1  perf_grp_false positive rate_0  \\\n",
       "0                   NaN                             NaN   \n",
       "0              0.145528                        0.941008   \n",
       "0                   NaN                             NaN   \n",
       "0              0.167976                        0.839753   \n",
       "\n",
       "   perf_grp_false positive rate_1  perf_grp_false negative rate_0  \\\n",
       "0                             NaN                             NaN   \n",
       "0                        0.872564                        0.012669   \n",
       "0                             NaN                             NaN   \n",
       "0                        0.689639                        0.043497   \n",
       "\n",
       "   perf_grp_false negative rate_1  perf_grp_selection rate_0  \\\n",
       "0                             NaN                        NaN   \n",
       "0                        0.023961                   0.946349   \n",
       "0                             NaN                        NaN   \n",
       "0                        0.085558                   0.853213   \n",
       "\n",
       "   perf_grp_selection rate_1  perf_grp_count_0  perf_grp_count_1  \n",
       "0                        NaN               NaN               NaN  \n",
       "0                   0.886237           20540.0           69170.0  \n",
       "0                        NaN               NaN               NaN  \n",
       "0                   0.719344           20540.0           69170.0  \n",
       "\n",
       "[4 rows x 50 columns]"
      ]
     },
     "execution_count": 79,
     "metadata": {},
     "output_type": "execute_result"
    }
   ],
   "source": [
    "final_output = universe_analysis.generate_final_output(\n",
    "    y_pred_prob=probs_test,\n",
    "    y_test=y_true,\n",
    "    org_test=org_test,\n",
    "    filter_data=filter_sub_universe_data,\n",
    "    cp_metrics_df=cp_metrics_df,\n",
    "    save=True,\n",
    ")\n",
    "final_output"
   ]
  },
  {
   "cell_type": "code",
   "execution_count": null,
   "id": "721ff514-cb11-46f8-b6fc-50392f74b5cb",
   "metadata": {
    "papermill": {
     "duration": 0.031719,
     "end_time": "2025-07-30T21:47:48.043098",
     "exception": false,
     "start_time": "2025-07-30T21:47:48.011379",
     "status": "completed"
    },
    "tags": []
   },
   "outputs": [],
   "source": []
  }
 ],
 "metadata": {
  "celltoolbar": "Tags",
  "kernelspec": {
   "display_name": "Python (CMA Fairness)",
   "language": "python",
   "name": "cma_fair_env"
  },
  "language_info": {
   "codemirror_mode": {
    "name": "ipython",
    "version": 3
   },
   "file_extension": ".py",
   "mimetype": "text/x-python",
   "name": "python",
   "nbconvert_exporter": "python",
   "pygments_lexer": "ipython3",
   "version": "3.10.12"
  },
  "papermill": {
   "default_parameters": {},
   "duration": 48.071058,
   "end_time": "2025-07-30T21:47:48.894496",
   "environment_variables": {},
   "exception": null,
   "input_path": "universe_analysis.ipynb",
   "output_path": "output/runs/14/notebooks/m_14-f359d601b2051c84bb74f5d67a6267c1.ipynb",
   "parameters": {
    "output_dir": "output",
    "run_no": "14",
    "seed": "2023",
    "universe": "{\"cutoff\": [\"quantile_0.1\", \"quantile_0.25\"], \"eval_fairness_grouping\": [\"majority-minority\", \"nationality-all\"], \"exclude_features\": \"nationality\", \"exclude_subgroups\": \"drop-non-german\", \"model\": \"gbm\", \"scale\": \"scale\", \"training_size\": \"1k\", \"training_year\": \"2010_14\"}",
    "universe_id": "f359d601b2051c84bb74f5d67a6267c1"
   },
   "start_time": "2025-07-30T21:47:00.823438",
   "version": "2.6.0"
  }
 },
 "nbformat": 4,
 "nbformat_minor": 5
}