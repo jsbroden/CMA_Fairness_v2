{
 "cells": [
  {
   "cell_type": "code",
   "execution_count": 1,
   "id": "f159f837-637b-42ba-96b5-ec9a68c44524",
   "metadata": {
    "execution": {
     "iopub.execute_input": "2025-07-30T21:37:51.003939Z",
     "iopub.status.busy": "2025-07-30T21:37:51.003453Z",
     "iopub.status.idle": "2025-07-30T21:37:51.013575Z",
     "shell.execute_reply": "2025-07-30T21:37:51.012826Z"
    },
    "papermill": {
     "duration": 0.025341,
     "end_time": "2025-07-30T21:37:51.014860",
     "exception": false,
     "start_time": "2025-07-30T21:37:50.989519",
     "status": "completed"
    },
    "tags": []
   },
   "outputs": [
    {
     "name": "stdout",
     "output_type": "stream",
     "text": [
      "/dss/dsshome1/0C/ra93lal2/cma/CMA_Fairness_v2\n"
     ]
    },
    {
     "name": "stderr",
     "output_type": "stream",
     "text": [
      "/dss/dsshome1/0C/ra93lal2/.local/share/virtualenvs/CMA_Fairness_v2-3j10GkSs/lib/python3.10/site-packages/IPython/core/magics/osm.py:393: UserWarning: This is now an optional IPython functionality, using bookmarks requires you to install the `pickleshare` library.\n",
      "  bkms = self.shell.db.get('bookmarks', {})\n",
      "/dss/dsshome1/0C/ra93lal2/.local/share/virtualenvs/CMA_Fairness_v2-3j10GkSs/lib/python3.10/site-packages/IPython/core/magics/osm.py:417: UserWarning: This is now an optional IPython functionality, setting dhist requires you to install the `pickleshare` library.\n",
      "  self.shell.db['dhist'] = compress_dhist(dhist)[-100:]\n"
     ]
    }
   ],
   "source": [
    "%cd ~/cma/CMA_Fairness_v2"
   ]
  },
  {
   "cell_type": "markdown",
   "id": "de2603b9",
   "metadata": {
    "papermill": {
     "duration": 0.009766,
     "end_time": "2025-07-30T21:37:51.035679",
     "exception": false,
     "start_time": "2025-07-30T21:37:51.025913",
     "status": "completed"
    },
    "tags": []
   },
   "source": [
    "The following cell holds the definition of our parameters, these values can be overriden by rendering the with e.g. the following command:\n",
    "\n",
    "papermill -p alpha 0.2 -p ratio 0.3 universe_analysis.ipynb output/test_run.ipynb"
   ]
  },
  {
   "cell_type": "code",
   "execution_count": 2,
   "id": "a80968a0-40bb-4fa9-85ef-2d5eefb01975",
   "metadata": {
    "execution": {
     "iopub.execute_input": "2025-07-30T21:37:51.057084Z",
     "iopub.status.busy": "2025-07-30T21:37:51.056604Z",
     "iopub.status.idle": "2025-07-30T21:37:51.061416Z",
     "shell.execute_reply": "2025-07-30T21:37:51.060737Z"
    },
    "papermill": {
     "duration": 0.017144,
     "end_time": "2025-07-30T21:37:51.062804",
     "exception": false,
     "start_time": "2025-07-30T21:37:51.045660",
     "status": "completed"
    },
    "tags": []
   },
   "outputs": [
    {
     "name": "stdout",
     "output_type": "stream",
     "text": [
      "Current working directory: /dss/dsshome1/0C/ra93lal2/cma/CMA_Fairness_v2\n"
     ]
    }
   ],
   "source": [
    "import os\n",
    "print(\"Current working directory:\", os.getcwd())"
   ]
  },
  {
   "cell_type": "code",
   "execution_count": 3,
   "id": "2dce4c03",
   "metadata": {
    "execution": {
     "iopub.execute_input": "2025-07-30T21:37:51.084993Z",
     "iopub.status.busy": "2025-07-30T21:37:51.084530Z",
     "iopub.status.idle": "2025-07-30T21:37:51.089268Z",
     "shell.execute_reply": "2025-07-30T21:37:51.088637Z"
    },
    "papermill": {
     "duration": 0.017024,
     "end_time": "2025-07-30T21:37:51.090570",
     "exception": false,
     "start_time": "2025-07-30T21:37:51.073546",
     "status": "completed"
    },
    "tags": [
     "parameters"
    ]
   },
   "outputs": [],
   "source": [
    "run_no = 0\n",
    "universe_id = \"test\"\n",
    "universe = {\n",
    "    \"training_size\": \"25k\", # \"25k\", \"5k\", \"1k\"\n",
    "    \"training_year\": \"2014\", # \"2014\", \"2012_14\", \"2010_14\"\n",
    "    \"scale\": \"scale\", # \"scale\", \"do-not-scale\",\n",
    "    #\"stratify_split\": \"target\", # \"none\", \"target\", \"protected-attribute\", \"both\",\n",
    "    \"model\": \"elasticnet\", # \"logreg\", \"penalized_logreg\", \"rf\", \"gbm\", \"elasticnet\"\n",
    "    \"cutoff\": [\"quantile_0.15\", \"quantile_0.30\"],\n",
    "    \"exclude_features\": \"age\", # \"none\", \"nationality\", \"sex\", \"nationality-sex\", \"age\"\n",
    "    \"exclude_subgroups\": \"keep-all\", # \"keep-all\", \"drop-non-german\"\n",
    "    \"eval_fairness_grouping\": [\"majority-minority\", \"nationality-all\"]\n",
    "}\n",
    "\n",
    "output_dir=\"./output\"\n",
    "seed=0"
   ]
  },
  {
   "cell_type": "code",
   "execution_count": 4,
   "id": "ffceca88",
   "metadata": {
    "execution": {
     "iopub.execute_input": "2025-07-30T21:37:51.117445Z",
     "iopub.status.busy": "2025-07-30T21:37:51.116749Z",
     "iopub.status.idle": "2025-07-30T21:37:51.136081Z",
     "shell.execute_reply": "2025-07-30T21:37:51.120909Z"
    },
    "papermill": {
     "duration": 0.045327,
     "end_time": "2025-07-30T21:37:51.146370",
     "exception": false,
     "start_time": "2025-07-30T21:37:51.101043",
     "status": "completed"
    },
    "tags": [
     "injected-parameters"
    ]
   },
   "outputs": [],
   "source": [
    "# Parameters\n",
    "universe_id = \"6acb694263c600510b083b6c26bf1957\"\n",
    "run_no = \"14\"\n",
    "universe = \"{\\\"cutoff\\\": [\\\"quantile_0.1\\\", \\\"quantile_0.25\\\"], \\\"eval_fairness_grouping\\\": [\\\"majority-minority\\\", \\\"nationality-all\\\"], \\\"exclude_features\\\": \\\"age\\\", \\\"exclude_subgroups\\\": \\\"drop-non-german\\\", \\\"model\\\": \\\"elasticnet\\\", \\\"scale\\\": \\\"scale\\\", \\\"training_size\\\": \\\"1k\\\", \\\"training_year\\\": \\\"2012_14\\\"}\"\n",
    "output_dir = \"output\"\n",
    "seed = \"2023\"\n"
   ]
  },
  {
   "cell_type": "code",
   "execution_count": 5,
   "id": "1650acaf",
   "metadata": {
    "execution": {
     "iopub.execute_input": "2025-07-30T21:37:51.187547Z",
     "iopub.status.busy": "2025-07-30T21:37:51.187128Z",
     "iopub.status.idle": "2025-07-30T21:37:51.191802Z",
     "shell.execute_reply": "2025-07-30T21:37:51.190949Z"
    },
    "papermill": {
     "duration": 0.028521,
     "end_time": "2025-07-30T21:37:51.193398",
     "exception": false,
     "start_time": "2025-07-30T21:37:51.164877",
     "status": "completed"
    },
    "tags": []
   },
   "outputs": [],
   "source": [
    "import json\n",
    "# Parse universe into dict if it is passed as a string\n",
    "if isinstance(universe, str):\n",
    "    universe = json.loads(universe)"
   ]
  },
  {
   "cell_type": "code",
   "execution_count": 6,
   "id": "16620c48",
   "metadata": {
    "execution": {
     "iopub.execute_input": "2025-07-30T21:37:51.234589Z",
     "iopub.status.busy": "2025-07-30T21:37:51.233930Z",
     "iopub.status.idle": "2025-07-30T21:37:51.278016Z",
     "shell.execute_reply": "2025-07-30T21:37:51.277020Z"
    },
    "papermill": {
     "duration": 0.068979,
     "end_time": "2025-07-30T21:37:51.280439",
     "exception": false,
     "start_time": "2025-07-30T21:37:51.211460",
     "status": "completed"
    },
    "tags": []
   },
   "outputs": [],
   "source": [
    "# Auto-reload the custom package\n",
    "%load_ext autoreload\n",
    "%autoreload 1\n",
    "%aimport fairness_multiverse"
   ]
  },
  {
   "cell_type": "code",
   "execution_count": 7,
   "id": "01c5c9f3",
   "metadata": {
    "execution": {
     "iopub.execute_input": "2025-07-30T21:37:51.324759Z",
     "iopub.status.busy": "2025-07-30T21:37:51.324125Z",
     "iopub.status.idle": "2025-07-30T21:37:53.340620Z",
     "shell.execute_reply": "2025-07-30T21:37:53.339722Z"
    },
    "papermill": {
     "duration": 2.040136,
     "end_time": "2025-07-30T21:37:53.342110",
     "exception": false,
     "start_time": "2025-07-30T21:37:51.301974",
     "status": "completed"
    },
    "tags": []
   },
   "outputs": [],
   "source": [
    "from fairness_multiverse.universe import UniverseAnalysis\n",
    "\n",
    "universe_analysis = UniverseAnalysis(\n",
    "    run_no = run_no,\n",
    "    universe_id = universe_id,\n",
    "    universe = universe,\n",
    "    output_dir=output_dir,\n",
    ")"
   ]
  },
  {
   "cell_type": "code",
   "execution_count": 8,
   "id": "106241f5",
   "metadata": {
    "execution": {
     "iopub.execute_input": "2025-07-30T21:37:53.368261Z",
     "iopub.status.busy": "2025-07-30T21:37:53.367867Z",
     "iopub.status.idle": "2025-07-30T21:37:53.375693Z",
     "shell.execute_reply": "2025-07-30T21:37:53.374828Z"
    },
    "papermill": {
     "duration": 0.021796,
     "end_time": "2025-07-30T21:37:53.377562",
     "exception": false,
     "start_time": "2025-07-30T21:37:53.355766",
     "status": "completed"
    },
    "tags": []
   },
   "outputs": [
    {
     "name": "stdout",
     "output_type": "stream",
     "text": [
      "Using Seed: 2023\n"
     ]
    }
   ],
   "source": [
    "import numpy as np\n",
    "parsed_seed = int(seed)\n",
    "np.random.seed(parsed_seed)\n",
    "print(f\"Using Seed: {parsed_seed}\")"
   ]
  },
  {
   "cell_type": "markdown",
   "id": "e0ebdc57",
   "metadata": {
    "papermill": {
     "duration": 0.018915,
     "end_time": "2025-07-30T21:37:53.417116",
     "exception": false,
     "start_time": "2025-07-30T21:37:53.398201",
     "status": "completed"
    },
    "tags": []
   },
   "source": [
    "# Loading Data"
   ]
  },
  {
   "cell_type": "markdown",
   "id": "681925a3",
   "metadata": {
    "papermill": {
     "duration": 0.028459,
     "end_time": "2025-07-30T21:37:53.474413",
     "exception": false,
     "start_time": "2025-07-30T21:37:53.445954",
     "status": "completed"
    },
    "tags": []
   },
   "source": [
    "Load siab_train, siab_test, siab_calib and/or \n",
    "load siab_train_features, siab_train_labels"
   ]
  },
  {
   "cell_type": "code",
   "execution_count": 9,
   "id": "f0496b8a",
   "metadata": {
    "execution": {
     "iopub.execute_input": "2025-07-30T21:37:53.534157Z",
     "iopub.status.busy": "2025-07-30T21:37:53.533493Z",
     "iopub.status.idle": "2025-07-30T21:38:06.162350Z",
     "shell.execute_reply": "2025-07-30T21:38:06.161088Z"
    },
    "papermill": {
     "duration": 12.661651,
     "end_time": "2025-07-30T21:38:06.164229",
     "exception": false,
     "start_time": "2025-07-30T21:37:53.502578",
     "status": "completed"
    },
    "tags": []
   },
   "outputs": [
    {
     "name": "stdout",
     "output_type": "stream",
     "text": [
      "Loading SIAB data from cache: data/siab_cached.csv.gz\n"
     ]
    },
    {
     "name": "stdout",
     "output_type": "stream",
     "text": [
      "(643690, 164)\n"
     ]
    }
   ],
   "source": [
    "from pathlib import Path\n",
    "import pandas as pd\n",
    "\n",
    "# File paths\n",
    "raw_file = Path(\"data/raw/siab.csv\")\n",
    "cache_file = Path(\"data/siab_cached.csv.gz\")\n",
    "\n",
    "# Ensure cache directory exists\n",
    "cache_file.parent.mkdir(parents=True, exist_ok=True)\n",
    "\n",
    "# Load with simple caching\n",
    "if cache_file.exists():\n",
    "    print(f\"Loading SIAB data from cache: {cache_file}\")\n",
    "    siab = pd.read_csv(cache_file, compression='gzip')\n",
    "else:\n",
    "    print(f\"Cache not found. Reading raw SIAB data: {raw_file}\")\n",
    "    siab = pd.read_csv(raw_file)\n",
    "    siab.to_csv(cache_file, index=False, compression='gzip')\n",
    "    print(f\"Cached SIAB data to: {cache_file}\")\n",
    "\n",
    "# Now use `siab` DataFrame as needed\n",
    "print(siab.shape)"
   ]
  },
  {
   "cell_type": "code",
   "execution_count": 10,
   "id": "db0ca512-5f53-4dba-abdb-a2888bca41ba",
   "metadata": {
    "execution": {
     "iopub.execute_input": "2025-07-30T21:38:06.211112Z",
     "iopub.status.busy": "2025-07-30T21:38:06.210261Z",
     "iopub.status.idle": "2025-07-30T21:38:06.216574Z",
     "shell.execute_reply": "2025-07-30T21:38:06.215219Z"
    },
    "papermill": {
     "duration": 0.029784,
     "end_time": "2025-07-30T21:38:06.218391",
     "exception": false,
     "start_time": "2025-07-30T21:38:06.188607",
     "status": "completed"
    },
    "tags": []
   },
   "outputs": [],
   "source": [
    "#siab"
   ]
  },
  {
   "cell_type": "code",
   "execution_count": 11,
   "id": "a0edb063",
   "metadata": {
    "execution": {
     "iopub.execute_input": "2025-07-30T21:38:06.262719Z",
     "iopub.status.busy": "2025-07-30T21:38:06.262284Z",
     "iopub.status.idle": "2025-07-30T21:38:06.267171Z",
     "shell.execute_reply": "2025-07-30T21:38:06.266290Z"
    },
    "papermill": {
     "duration": 0.029505,
     "end_time": "2025-07-30T21:38:06.268825",
     "exception": false,
     "start_time": "2025-07-30T21:38:06.239320",
     "status": "completed"
    },
    "tags": []
   },
   "outputs": [],
   "source": [
    "#import pandas as pd\n",
    "#\n",
    "#X_train = pd.read_csv(\"./data/X_train.csv\")\n",
    "#y_train = pd.read_csv(\"./data/y_train.csv\")"
   ]
  },
  {
   "cell_type": "code",
   "execution_count": 12,
   "id": "63d08085",
   "metadata": {
    "execution": {
     "iopub.execute_input": "2025-07-30T21:38:06.315946Z",
     "iopub.status.busy": "2025-07-30T21:38:06.315125Z",
     "iopub.status.idle": "2025-07-30T21:38:06.320219Z",
     "shell.execute_reply": "2025-07-30T21:38:06.319299Z"
    },
    "papermill": {
     "duration": 0.031309,
     "end_time": "2025-07-30T21:38:06.321892",
     "exception": false,
     "start_time": "2025-07-30T21:38:06.290583",
     "status": "completed"
    },
    "tags": []
   },
   "outputs": [],
   "source": [
    "#X_test = pd.read_csv(\"./data/X_test.csv\")\n",
    "#y_true = pd.read_csv(\"./data/y_test.csv\")"
   ]
  },
  {
   "cell_type": "code",
   "execution_count": 13,
   "id": "98a8d0fa-1d3d-4ed8-bb2c-281470e24add",
   "metadata": {
    "execution": {
     "iopub.execute_input": "2025-07-30T21:38:06.366846Z",
     "iopub.status.busy": "2025-07-30T21:38:06.366111Z",
     "iopub.status.idle": "2025-07-30T21:38:06.371217Z",
     "shell.execute_reply": "2025-07-30T21:38:06.370307Z"
    },
    "papermill": {
     "duration": 0.029296,
     "end_time": "2025-07-30T21:38:06.372833",
     "exception": false,
     "start_time": "2025-07-30T21:38:06.343537",
     "status": "completed"
    },
    "tags": []
   },
   "outputs": [],
   "source": [
    "# Calibration data for conformal\n",
    "#X_calib = pd.read_csv(\"./data/X_calib.csv\")\n",
    "#y_calib = pd.read_csv(\"./data/y_calib.csv\")"
   ]
  },
  {
   "cell_type": "markdown",
   "id": "997051c5-15bd-4b69-9786-c3001a3ce484",
   "metadata": {
    "papermill": {
     "duration": 0.024413,
     "end_time": "2025-07-30T21:38:06.420426",
     "exception": false,
     "start_time": "2025-07-30T21:38:06.396013",
     "status": "completed"
    },
    "tags": []
   },
   "source": [
    "# Splitting Data and Setting Training Data Size"
   ]
  },
  {
   "cell_type": "code",
   "execution_count": 14,
   "id": "e993b61f-042d-41a6-8c81-f55681f86335",
   "metadata": {
    "execution": {
     "iopub.execute_input": "2025-07-30T21:38:06.467188Z",
     "iopub.status.busy": "2025-07-30T21:38:06.466474Z",
     "iopub.status.idle": "2025-07-30T21:38:06.480440Z",
     "shell.execute_reply": "2025-07-30T21:38:06.479313Z"
    },
    "papermill": {
     "duration": 0.040099,
     "end_time": "2025-07-30T21:38:06.482373",
     "exception": false,
     "start_time": "2025-07-30T21:38:06.442274",
     "status": "completed"
    },
    "tags": []
   },
   "outputs": [],
   "source": [
    "def sample_by_year_size(df,\n",
    "                        training_year: str,\n",
    "                        training_size: str,\n",
    "                        random_state: int = 42):\n",
    "    # --- parse training_year into a list of int years ---\n",
    "    if \"_\" in training_year:\n",
    "        start_str, end_str = training_year.split(\"_\", 1)\n",
    "        start = int(start_str)\n",
    "        end   = int(end_str) if len(end_str) == 4 else (int(end_str) + (start // 100)*100)\n",
    "        years = list(range(start, end + 1))\n",
    "    else:\n",
    "        years = [int(training_year)]\n",
    "\n",
    "    df = df[df[\"year\"].isin(years)].reset_index(drop=True)\n",
    "\n",
    "    # --- map training_size to total number of samples ---\n",
    "    total_map = {\"25k\": 25_000, \"5k\": 5_000, \"1k\": 1_000}\n",
    "    if training_size not in total_map:\n",
    "        return df  # e.g. \"all\"\n",
    "\n",
    "    total_samples = total_map[training_size]\n",
    "    n_years       = len(years)\n",
    "    base          = total_samples // n_years\n",
    "    remainder     = total_samples % n_years\n",
    "\n",
    "    # --- build a dict: year -> how many to sample ---\n",
    "    # give +1 to the first `remainder` years in ascending order\n",
    "    quotas = {\n",
    "        year: base + (1 if idx < remainder else 0)\n",
    "        for idx, year in enumerate(sorted(years))\n",
    "    }\n",
    "\n",
    "    # --- sample per‐year according to the quota dict ---\n",
    "    sampled = (\n",
    "        df\n",
    "        .groupby(\"year\", group_keys=False)\n",
    "        .apply(lambda grp: grp.sample(\n",
    "            n=min(len(grp), quotas[grp.name]),\n",
    "            random_state=random_state))\n",
    "        .reset_index(drop=True)\n",
    "    )\n",
    "\n",
    "    return sampled"
   ]
  },
  {
   "cell_type": "code",
   "execution_count": 15,
   "id": "c0ccd338-0e02-41f3-a09d-f56f9266e3fb",
   "metadata": {
    "execution": {
     "iopub.execute_input": "2025-07-30T21:38:06.536363Z",
     "iopub.status.busy": "2025-07-30T21:38:06.535646Z",
     "iopub.status.idle": "2025-07-30T21:38:06.540895Z",
     "shell.execute_reply": "2025-07-30T21:38:06.539988Z"
    },
    "papermill": {
     "duration": 0.034466,
     "end_time": "2025-07-30T21:38:06.542358",
     "exception": false,
     "start_time": "2025-07-30T21:38:06.507892",
     "status": "completed"
    },
    "tags": []
   },
   "outputs": [],
   "source": [
    "#universe[\"training_size\"]"
   ]
  },
  {
   "cell_type": "code",
   "execution_count": 16,
   "id": "ca707fd7-8047-4acd-bfa5-66248fbbf8e6",
   "metadata": {
    "execution": {
     "iopub.execute_input": "2025-07-30T21:38:06.588899Z",
     "iopub.status.busy": "2025-07-30T21:38:06.588082Z",
     "iopub.status.idle": "2025-07-30T21:38:06.593258Z",
     "shell.execute_reply": "2025-07-30T21:38:06.592206Z"
    },
    "papermill": {
     "duration": 0.02974,
     "end_time": "2025-07-30T21:38:06.594914",
     "exception": false,
     "start_time": "2025-07-30T21:38:06.565174",
     "status": "completed"
    },
    "tags": []
   },
   "outputs": [],
   "source": [
    "#universe[\"training_year\"]"
   ]
  },
  {
   "cell_type": "code",
   "execution_count": 17,
   "id": "aea9c6ef-6f46-42c8-85eb-5a62025c1508",
   "metadata": {
    "execution": {
     "iopub.execute_input": "2025-07-30T21:38:06.641484Z",
     "iopub.status.busy": "2025-07-30T21:38:06.640855Z",
     "iopub.status.idle": "2025-07-30T21:38:07.263583Z",
     "shell.execute_reply": "2025-07-30T21:38:07.262420Z"
    },
    "papermill": {
     "duration": 0.64882,
     "end_time": "2025-07-30T21:38:07.265628",
     "exception": false,
     "start_time": "2025-07-30T21:38:06.616808",
     "status": "completed"
    },
    "tags": []
   },
   "outputs": [],
   "source": [
    "siab_train = sample_by_year_size(siab,\n",
    "                               training_year=universe[\"training_year\"],\n",
    "                               training_size=universe[\"training_size\"])"
   ]
  },
  {
   "cell_type": "code",
   "execution_count": 18,
   "id": "8d3afb32-789d-442c-8d5d-9f5aa8dd2eed",
   "metadata": {
    "execution": {
     "iopub.execute_input": "2025-07-30T21:38:07.310358Z",
     "iopub.status.busy": "2025-07-30T21:38:07.309522Z",
     "iopub.status.idle": "2025-07-30T21:38:07.315591Z",
     "shell.execute_reply": "2025-07-30T21:38:07.314526Z"
    },
    "papermill": {
     "duration": 0.03065,
     "end_time": "2025-07-30T21:38:07.317560",
     "exception": false,
     "start_time": "2025-07-30T21:38:07.286910",
     "status": "completed"
    },
    "tags": []
   },
   "outputs": [],
   "source": [
    "#siab_train.shape"
   ]
  },
  {
   "cell_type": "code",
   "execution_count": 19,
   "id": "d582db68-1a4c-47fb-84fc-08518dc1975a",
   "metadata": {
    "execution": {
     "iopub.execute_input": "2025-07-30T21:38:07.361911Z",
     "iopub.status.busy": "2025-07-30T21:38:07.361363Z",
     "iopub.status.idle": "2025-07-30T21:38:07.366813Z",
     "shell.execute_reply": "2025-07-30T21:38:07.365852Z"
    },
    "papermill": {
     "duration": 0.029772,
     "end_time": "2025-07-30T21:38:07.368741",
     "exception": false,
     "start_time": "2025-07-30T21:38:07.338969",
     "status": "completed"
    },
    "tags": []
   },
   "outputs": [],
   "source": [
    "#display(siab_train.groupby(\"year\").size())"
   ]
  },
  {
   "cell_type": "code",
   "execution_count": 20,
   "id": "a561edb4-d032-42cb-8256-22eac1111c64",
   "metadata": {
    "execution": {
     "iopub.execute_input": "2025-07-30T21:38:07.418585Z",
     "iopub.status.busy": "2025-07-30T21:38:07.418187Z",
     "iopub.status.idle": "2025-07-30T21:38:07.704381Z",
     "shell.execute_reply": "2025-07-30T21:38:07.703300Z"
    },
    "papermill": {
     "duration": 0.312871,
     "end_time": "2025-07-30T21:38:07.706278",
     "exception": false,
     "start_time": "2025-07-30T21:38:07.393407",
     "status": "completed"
    },
    "tags": []
   },
   "outputs": [],
   "source": [
    "#siab_train = siab_s[siab_s.year < 2015]\n",
    "siab_calib = siab[siab.year == 2015]\n",
    "siab_test = siab[siab.year == 2016]"
   ]
  },
  {
   "cell_type": "code",
   "execution_count": 21,
   "id": "472de16f-c3db-4916-846b-1f0de9cf1746",
   "metadata": {
    "execution": {
     "iopub.execute_input": "2025-07-30T21:38:07.750483Z",
     "iopub.status.busy": "2025-07-30T21:38:07.749605Z",
     "iopub.status.idle": "2025-07-30T21:38:07.757412Z",
     "shell.execute_reply": "2025-07-30T21:38:07.756512Z"
    },
    "papermill": {
     "duration": 0.030971,
     "end_time": "2025-07-30T21:38:07.759172",
     "exception": false,
     "start_time": "2025-07-30T21:38:07.728201",
     "status": "completed"
    },
    "tags": []
   },
   "outputs": [],
   "source": [
    "X_train = siab_train.iloc[:,4:164]\n",
    "y_train = siab_train.iloc[:, [3]]"
   ]
  },
  {
   "cell_type": "code",
   "execution_count": 22,
   "id": "828c96af-f43a-4ed6-ba47-8ac73a47d56c",
   "metadata": {
    "execution": {
     "iopub.execute_input": "2025-07-30T21:38:07.810799Z",
     "iopub.status.busy": "2025-07-30T21:38:07.810067Z",
     "iopub.status.idle": "2025-07-30T21:38:07.867190Z",
     "shell.execute_reply": "2025-07-30T21:38:07.866061Z"
    },
    "papermill": {
     "duration": 0.084491,
     "end_time": "2025-07-30T21:38:07.868820",
     "exception": false,
     "start_time": "2025-07-30T21:38:07.784329",
     "status": "completed"
    },
    "tags": []
   },
   "outputs": [],
   "source": [
    "X_calib = siab_calib.iloc[:,4:164]\n",
    "y_calib = siab_calib.iloc[:, [3]]"
   ]
  },
  {
   "cell_type": "code",
   "execution_count": 23,
   "id": "c34be9c3-6bd6-476e-acd3-845840e303be",
   "metadata": {
    "execution": {
     "iopub.execute_input": "2025-07-30T21:38:07.913624Z",
     "iopub.status.busy": "2025-07-30T21:38:07.912857Z",
     "iopub.status.idle": "2025-07-30T21:38:07.968085Z",
     "shell.execute_reply": "2025-07-30T21:38:07.967086Z"
    },
    "papermill": {
     "duration": 0.078954,
     "end_time": "2025-07-30T21:38:07.969782",
     "exception": false,
     "start_time": "2025-07-30T21:38:07.890828",
     "status": "completed"
    },
    "tags": []
   },
   "outputs": [],
   "source": [
    "X_test = siab_test.iloc[:,4:164]\n",
    "y_true = siab_test.iloc[:, [3]]"
   ]
  },
  {
   "cell_type": "markdown",
   "id": "9901737e-04df-44f0-9100-f5ad144ed040",
   "metadata": {
    "papermill": {
     "duration": 0.020333,
     "end_time": "2025-07-30T21:38:08.011265",
     "exception": false,
     "start_time": "2025-07-30T21:38:07.990932",
     "status": "completed"
    },
    "tags": []
   },
   "source": [
    "# Splitting Data and Setting Training Data Size OLD VERSION"
   ]
  },
  {
   "cell_type": "code",
   "execution_count": 24,
   "id": "acbc8f7d-8fc8-4e86-8c59-5dcb0f58384b",
   "metadata": {
    "execution": {
     "iopub.execute_input": "2025-07-30T21:38:08.055460Z",
     "iopub.status.busy": "2025-07-30T21:38:08.054592Z",
     "iopub.status.idle": "2025-07-30T21:38:08.060693Z",
     "shell.execute_reply": "2025-07-30T21:38:08.059650Z"
    },
    "papermill": {
     "duration": 0.030438,
     "end_time": "2025-07-30T21:38:08.062360",
     "exception": false,
     "start_time": "2025-07-30T21:38:08.031922",
     "status": "completed"
    },
    "tags": []
   },
   "outputs": [],
   "source": [
    "#def sample_by_year(df, training_size, random_state=42):\n",
    "#    if training_size == \"2014\":\n",
    "#        return df[df[\"year\"] == 2014].reset_index(drop=True)\n",
    "#    \n",
    "#    size_map = {\n",
    "#        \"25k\": 5000,\n",
    "#        \"5k\": 1000,\n",
    "#        \"1k\": 200\n",
    "#    }\n",
    "#\n",
    "#    if training_size not in size_map:\n",
    "#        return df.reset_index(drop=True)  # use all data\n",
    "#\n",
    "#    n_per_year = size_map[training_size]\n",
    "#    grouped = df.groupby(\"year\")\n",
    "#    sampled = grouped.apply(lambda x: x.sample(n=min(n_per_year, len(x)), random_state=random_state))\n",
    "#    return sampled.reset_index(drop=True)"
   ]
  },
  {
   "cell_type": "code",
   "execution_count": 25,
   "id": "6d931f52-beaf-43ff-9e78-9d44a448d54e",
   "metadata": {
    "execution": {
     "iopub.execute_input": "2025-07-30T21:38:08.105260Z",
     "iopub.status.busy": "2025-07-30T21:38:08.104746Z",
     "iopub.status.idle": "2025-07-30T21:38:08.109873Z",
     "shell.execute_reply": "2025-07-30T21:38:08.108846Z"
    },
    "papermill": {
     "duration": 0.029132,
     "end_time": "2025-07-30T21:38:08.111408",
     "exception": false,
     "start_time": "2025-07-30T21:38:08.082276",
     "status": "completed"
    },
    "tags": []
   },
   "outputs": [],
   "source": [
    "#siab_s = sample_by_year(siab, universe[\"training_size\"])"
   ]
  },
  {
   "cell_type": "code",
   "execution_count": 26,
   "id": "5db0a40e-a4e2-4920-be85-b12ae061d70d",
   "metadata": {
    "execution": {
     "iopub.execute_input": "2025-07-30T21:38:08.153791Z",
     "iopub.status.busy": "2025-07-30T21:38:08.153057Z",
     "iopub.status.idle": "2025-07-30T21:38:08.158769Z",
     "shell.execute_reply": "2025-07-30T21:38:08.157808Z"
    },
    "papermill": {
     "duration": 0.028638,
     "end_time": "2025-07-30T21:38:08.160421",
     "exception": false,
     "start_time": "2025-07-30T21:38:08.131783",
     "status": "completed"
    },
    "tags": []
   },
   "outputs": [],
   "source": [
    "#display(siab_s.groupby(\"year\").size())"
   ]
  },
  {
   "cell_type": "code",
   "execution_count": 27,
   "id": "e6c733c5",
   "metadata": {
    "execution": {
     "iopub.execute_input": "2025-07-30T21:38:08.201340Z",
     "iopub.status.busy": "2025-07-30T21:38:08.200603Z",
     "iopub.status.idle": "2025-07-30T21:38:08.300788Z",
     "shell.execute_reply": "2025-07-30T21:38:08.299764Z"
    },
    "papermill": {
     "duration": 0.122582,
     "end_time": "2025-07-30T21:38:08.302743",
     "exception": false,
     "start_time": "2025-07-30T21:38:08.180161",
     "status": "completed"
    },
    "tags": []
   },
   "outputs": [],
   "source": [
    "# Auxiliary data needed downstream in the pipeline\n",
    "\n",
    "org_train = X_train.copy()\n",
    "org_test = X_test.copy()\n",
    "org_calib = X_calib.copy()"
   ]
  },
  {
   "cell_type": "code",
   "execution_count": 28,
   "id": "1466abac-c6da-4492-a62f-4240ae3783af",
   "metadata": {
    "execution": {
     "iopub.execute_input": "2025-07-30T21:38:08.347513Z",
     "iopub.status.busy": "2025-07-30T21:38:08.346958Z",
     "iopub.status.idle": "2025-07-30T21:38:08.352774Z",
     "shell.execute_reply": "2025-07-30T21:38:08.351806Z"
    },
    "papermill": {
     "duration": 0.029321,
     "end_time": "2025-07-30T21:38:08.354205",
     "exception": false,
     "start_time": "2025-07-30T21:38:08.324884",
     "status": "completed"
    },
    "tags": []
   },
   "outputs": [],
   "source": [
    "# put in other script?\n",
    "# Group sizes\n",
    "\n",
    "#def calculate_percentages(df, df_name):\n",
    "#    total_entries = len(df)\n",
    "#\n",
    "#    female_pct = (df['frau1'] == 1).mean() * 100\n",
    "#    non_german_pct = ((df['maxdeutsch1'] == 0) & (df['maxdeutsch.Missing.'] == 0)).mean() * 100\n",
    "#    non_german_male_pct = ((df['frau1'] == 0) & (df['maxdeutsch1'] == 0) & (df['maxdeutsch.Missing.'] == 0)).mean() * 100\n",
    "#    non_german_female_pct = ((df['frau1'] == 1) & (df['maxdeutsch1'] == 0) & (df['maxdeutsch.Missing.'] == 0)).mean() * 100\n",
    "#\n",
    "#    print(f\"--- {df_name} ---\")\n",
    "#    print(f\"Female: {female_pct:.2f}%\")\n",
    "#    print(f\"Non-German: {non_german_pct:.2f}%\")\n",
    "#    print(f\"Non-German Male: {non_german_male_pct:.2f}%\")\n",
    "#    print(f\"Non-German Female: {non_german_female_pct:.2f}%\\n\")\n",
    "#\n",
    "## Calculate for each DataFrame\n",
    "#calculate_percentages(siab_calib, \"siab_calib\")\n",
    "#calculate_percentages(siab_test, \"siab_test\")\n",
    "#calculate_percentages(siab_train, \"siab_train\")"
   ]
  },
  {
   "cell_type": "markdown",
   "id": "0a4a1b33",
   "metadata": {
    "papermill": {
     "duration": 0.019841,
     "end_time": "2025-07-30T21:38:08.394021",
     "exception": false,
     "start_time": "2025-07-30T21:38:08.374180",
     "status": "completed"
    },
    "tags": []
   },
   "source": [
    "# Preprocessing Data"
   ]
  },
  {
   "cell_type": "code",
   "execution_count": 29,
   "id": "ca879031",
   "metadata": {
    "execution": {
     "iopub.execute_input": "2025-07-30T21:38:08.435608Z",
     "iopub.status.busy": "2025-07-30T21:38:08.435124Z",
     "iopub.status.idle": "2025-07-30T21:38:08.441424Z",
     "shell.execute_reply": "2025-07-30T21:38:08.440504Z"
    },
    "papermill": {
     "duration": 0.029315,
     "end_time": "2025-07-30T21:38:08.443341",
     "exception": false,
     "start_time": "2025-07-30T21:38:08.414026",
     "status": "completed"
    },
    "tags": []
   },
   "outputs": [],
   "source": [
    "# EXCLUDE PROTECTED FEATURES\n",
    "# ----------------------\n",
    "# \"exclude_features\": \"none\", # \"nationality\", \"sex\", \"nationality-sex\"\n",
    "\n",
    "excluded_features = universe[\"exclude_features\"].split(\"-\") # split, e.g.: \"nationality-sex\" -> [\"nationality\", \"sex\"]\n",
    "excluded_features_dictionary = {\n",
    "    \"nationality\": [\"maxdeutsch1\", \"maxdeutsch.Missing.\"],\n",
    "    \"sex\": [\"frau1\"],\n",
    "    \"age\": [\"age\"],\n",
    "}\n"
   ]
  },
  {
   "cell_type": "code",
   "execution_count": 30,
   "id": "b745ac60",
   "metadata": {
    "execution": {
     "iopub.execute_input": "2025-07-30T21:38:08.488337Z",
     "iopub.status.busy": "2025-07-30T21:38:08.487900Z",
     "iopub.status.idle": "2025-07-30T21:38:08.493325Z",
     "shell.execute_reply": "2025-07-30T21:38:08.492339Z"
    },
    "papermill": {
     "duration": 0.029419,
     "end_time": "2025-07-30T21:38:08.494987",
     "exception": false,
     "start_time": "2025-07-30T21:38:08.465568",
     "status": "completed"
    },
    "tags": []
   },
   "outputs": [],
   "source": [
    "# Code nice names to column names\n",
    "\n",
    "excluded_features_columns = [\n",
    "    excluded_features_dictionary[f] for f in excluded_features if len(f) > 0 and f != \"none\"\n",
    "]"
   ]
  },
  {
   "cell_type": "code",
   "execution_count": 31,
   "id": "f84f73a2",
   "metadata": {
    "execution": {
     "iopub.execute_input": "2025-07-30T21:38:08.539906Z",
     "iopub.status.busy": "2025-07-30T21:38:08.539252Z",
     "iopub.status.idle": "2025-07-30T21:38:08.545826Z",
     "shell.execute_reply": "2025-07-30T21:38:08.544902Z"
    },
    "papermill": {
     "duration": 0.030573,
     "end_time": "2025-07-30T21:38:08.547499",
     "exception": false,
     "start_time": "2025-07-30T21:38:08.516926",
     "status": "completed"
    },
    "tags": []
   },
   "outputs": [],
   "source": [
    "from utils import flatten_once\n",
    "\n",
    "excluded_features_columns = flatten_once(excluded_features_columns)"
   ]
  },
  {
   "cell_type": "code",
   "execution_count": 32,
   "id": "884dea22",
   "metadata": {
    "execution": {
     "iopub.execute_input": "2025-07-30T21:38:08.594597Z",
     "iopub.status.busy": "2025-07-30T21:38:08.594122Z",
     "iopub.status.idle": "2025-07-30T21:38:08.601694Z",
     "shell.execute_reply": "2025-07-30T21:38:08.600687Z"
    },
    "papermill": {
     "duration": 0.032933,
     "end_time": "2025-07-30T21:38:08.603208",
     "exception": false,
     "start_time": "2025-07-30T21:38:08.570275",
     "status": "completed"
    },
    "tags": []
   },
   "outputs": [
    {
     "name": "stdout",
     "output_type": "stream",
     "text": [
      "Dropping features: ['age']\n"
     ]
    }
   ],
   "source": [
    "if len(excluded_features_columns) > 0:\n",
    "    print(f\"Dropping features: {excluded_features_columns}\")\n",
    "    X_train.drop(excluded_features_columns, axis=1, inplace=True)"
   ]
  },
  {
   "cell_type": "code",
   "execution_count": 33,
   "id": "95ab8b16",
   "metadata": {
    "execution": {
     "iopub.execute_input": "2025-07-30T21:38:08.649213Z",
     "iopub.status.busy": "2025-07-30T21:38:08.648538Z",
     "iopub.status.idle": "2025-07-30T21:38:08.700712Z",
     "shell.execute_reply": "2025-07-30T21:38:08.699810Z"
    },
    "papermill": {
     "duration": 0.077486,
     "end_time": "2025-07-30T21:38:08.703139",
     "exception": false,
     "start_time": "2025-07-30T21:38:08.625653",
     "status": "completed"
    },
    "tags": []
   },
   "outputs": [
    {
     "name": "stdout",
     "output_type": "stream",
     "text": [
      "Dropping features: ['age']\n"
     ]
    }
   ],
   "source": [
    "if len(excluded_features_columns) > 0:\n",
    "    print(f\"Dropping features: {excluded_features_columns}\")\n",
    "    X_test.drop(excluded_features_columns, axis=1, inplace=True)"
   ]
  },
  {
   "cell_type": "code",
   "execution_count": 34,
   "id": "1853aaf5-fb9f-46cb-a2b5-8ea4ae2237e4",
   "metadata": {
    "execution": {
     "iopub.execute_input": "2025-07-30T21:38:08.749066Z",
     "iopub.status.busy": "2025-07-30T21:38:08.748607Z",
     "iopub.status.idle": "2025-07-30T21:38:08.800727Z",
     "shell.execute_reply": "2025-07-30T21:38:08.799742Z"
    },
    "papermill": {
     "duration": 0.07696,
     "end_time": "2025-07-30T21:38:08.802352",
     "exception": false,
     "start_time": "2025-07-30T21:38:08.725392",
     "status": "completed"
    },
    "tags": []
   },
   "outputs": [
    {
     "name": "stdout",
     "output_type": "stream",
     "text": [
      "Dropping features: ['age']\n"
     ]
    }
   ],
   "source": [
    "if len(excluded_features_columns) > 0:\n",
    "    print(f\"Dropping features: {excluded_features_columns}\")\n",
    "    X_calib.drop(excluded_features_columns, axis=1, inplace=True)"
   ]
  },
  {
   "cell_type": "code",
   "execution_count": 35,
   "id": "6727d079-03e5-481e-9d38-292a90b7a0a8",
   "metadata": {
    "execution": {
     "iopub.execute_input": "2025-07-30T21:38:08.848810Z",
     "iopub.status.busy": "2025-07-30T21:38:08.848267Z",
     "iopub.status.idle": "2025-07-30T21:38:08.853202Z",
     "shell.execute_reply": "2025-07-30T21:38:08.852205Z"
    },
    "papermill": {
     "duration": 0.029595,
     "end_time": "2025-07-30T21:38:08.854845",
     "exception": false,
     "start_time": "2025-07-30T21:38:08.825250",
     "status": "completed"
    },
    "tags": []
   },
   "outputs": [],
   "source": [
    "# SPLIT & STRATIFY DATA\n",
    "# ----------------------"
   ]
  },
  {
   "cell_type": "code",
   "execution_count": 36,
   "id": "76c4dc6d",
   "metadata": {
    "execution": {
     "iopub.execute_input": "2025-07-30T21:38:08.897221Z",
     "iopub.status.busy": "2025-07-30T21:38:08.896688Z",
     "iopub.status.idle": "2025-07-30T21:38:08.901836Z",
     "shell.execute_reply": "2025-07-30T21:38:08.900958Z"
    },
    "papermill": {
     "duration": 0.024502,
     "end_time": "2025-07-30T21:38:08.903238",
     "exception": false,
     "start_time": "2025-07-30T21:38:08.878736",
     "status": "completed"
    },
    "tags": []
   },
   "outputs": [],
   "source": [
    "# EXCLUDE CERTAIN SUBGROUPS\n",
    "# ----------------------\n",
    "\n",
    "mode = universe.get(\"exclude_subgroups\", \"keep-all\") \n",
    "# Fetches the exclude_subgroups setting from the universe dict.\n",
    "# Defaults to \"keep-all\" if the key is missing."
   ]
  },
  {
   "cell_type": "code",
   "execution_count": 37,
   "id": "21994072",
   "metadata": {
    "execution": {
     "iopub.execute_input": "2025-07-30T21:38:08.928224Z",
     "iopub.status.busy": "2025-07-30T21:38:08.927893Z",
     "iopub.status.idle": "2025-07-30T21:38:08.948925Z",
     "shell.execute_reply": "2025-07-30T21:38:08.948215Z"
    },
    "papermill": {
     "duration": 0.03512,
     "end_time": "2025-07-30T21:38:08.950122",
     "exception": false,
     "start_time": "2025-07-30T21:38:08.915002",
     "status": "completed"
    },
    "tags": []
   },
   "outputs": [],
   "source": [
    "if mode == \"keep-all\":\n",
    "    keep_mask = pd.Series(True, index=org_train.index)\n",
    "\n",
    "# org_train contains the original feature columns from features_org (in Simson)\n",
    "# features_org contains unprocessed features, for me X_train at beginning ???\n",
    "# For keep-all, creates a boolean Series (keep_mask) of all True, so no rows are removed.\n",
    "\n",
    "elif mode == \"drop-non-german\":\n",
    "    keep_mask = org_train[\"maxdeutsch1\"] == 1 # ??? what about missing values?\n",
    "\n",
    "else:\n",
    "    raise ValueError(f\"Unsupported mode for exclude_subgroups: {mode}\")\n"
   ]
  },
  {
   "cell_type": "code",
   "execution_count": 38,
   "id": "71651440",
   "metadata": {
    "execution": {
     "iopub.execute_input": "2025-07-30T21:38:08.978326Z",
     "iopub.status.busy": "2025-07-30T21:38:08.977907Z",
     "iopub.status.idle": "2025-07-30T21:38:08.984594Z",
     "shell.execute_reply": "2025-07-30T21:38:08.983748Z"
    },
    "papermill": {
     "duration": 0.021027,
     "end_time": "2025-07-30T21:38:08.985770",
     "exception": false,
     "start_time": "2025-07-30T21:38:08.964743",
     "status": "completed"
    },
    "tags": []
   },
   "outputs": [
    {
     "name": "stdout",
     "output_type": "stream",
     "text": [
      "Dropping 147 rows (14.70%) where mode='drop-non-german'\n"
     ]
    }
   ],
   "source": [
    "n_drop = (~keep_mask).sum() # Calculates how many rows are set to be dropped\n",
    "if n_drop > 0:\n",
    "    pct = n_drop / len(keep_mask) * 100\n",
    "    print(f\"Dropping {n_drop} rows ({pct:.2f}%) where mode='{mode}'\")"
   ]
  },
  {
   "cell_type": "code",
   "execution_count": 39,
   "id": "5fb8eee5",
   "metadata": {
    "execution": {
     "iopub.execute_input": "2025-07-30T21:38:09.011336Z",
     "iopub.status.busy": "2025-07-30T21:38:09.010916Z",
     "iopub.status.idle": "2025-07-30T21:38:09.016546Z",
     "shell.execute_reply": "2025-07-30T21:38:09.015647Z"
    },
    "papermill": {
     "duration": 0.020298,
     "end_time": "2025-07-30T21:38:09.018170",
     "exception": false,
     "start_time": "2025-07-30T21:38:08.997872",
     "status": "completed"
    },
    "tags": []
   },
   "outputs": [],
   "source": [
    "X_train = X_train[keep_mask]"
   ]
  },
  {
   "cell_type": "code",
   "execution_count": 40,
   "id": "b202bb3a",
   "metadata": {
    "execution": {
     "iopub.execute_input": "2025-07-30T21:38:09.065010Z",
     "iopub.status.busy": "2025-07-30T21:38:09.064671Z",
     "iopub.status.idle": "2025-07-30T21:38:09.069351Z",
     "shell.execute_reply": "2025-07-30T21:38:09.068487Z"
    },
    "papermill": {
     "duration": 0.028662,
     "end_time": "2025-07-30T21:38:09.070886",
     "exception": false,
     "start_time": "2025-07-30T21:38:09.042224",
     "status": "completed"
    },
    "tags": []
   },
   "outputs": [],
   "source": [
    "y_train = y_train[keep_mask]"
   ]
  },
  {
   "cell_type": "markdown",
   "id": "493e2ac3",
   "metadata": {
    "papermill": {
     "duration": 0.02199,
     "end_time": "2025-07-30T21:38:09.115724",
     "exception": false,
     "start_time": "2025-07-30T21:38:09.093734",
     "status": "completed"
    },
    "tags": []
   },
   "source": [
    "# Model Training"
   ]
  },
  {
   "cell_type": "code",
   "execution_count": 41,
   "id": "679e1268",
   "metadata": {
    "execution": {
     "iopub.execute_input": "2025-07-30T21:38:09.167809Z",
     "iopub.status.busy": "2025-07-30T21:38:09.166166Z",
     "iopub.status.idle": "2025-07-30T21:38:09.244220Z",
     "shell.execute_reply": "2025-07-30T21:38:09.243435Z"
    },
    "papermill": {
     "duration": 0.108683,
     "end_time": "2025-07-30T21:38:09.245691",
     "exception": false,
     "start_time": "2025-07-30T21:38:09.137008",
     "status": "completed"
    },
    "tags": []
   },
   "outputs": [],
   "source": [
    "from sklearn.linear_model import LogisticRegression\n",
    "from sklearn.ensemble import GradientBoostingClassifier, RandomForestClassifier\n",
    "\n",
    "if (universe[\"model\"] == \"logreg\"):\n",
    "    model = LogisticRegression() #penalty=\"none\") #, solver=\"newton-cg\", max_iter=1) # include random_state=19 ?\n",
    "elif (universe[\"model\"] == \"penalized_logreg\"):\n",
    "    model = LogisticRegression(penalty=\"l2\", C=1.0) #, solver=\"newton-cg\", max_iter=1)\n",
    "elif (universe[\"model\"] == \"rf\"):\n",
    "    model = RandomForestClassifier(n_estimators=100, n_jobs=-1)\n",
    "elif (universe[\"model\"] == \"gbm\"):\n",
    "    model = GradientBoostingClassifier()\n",
    "elif (universe[\"model\"] == \"elasticnet\"):\n",
    "    model = LogisticRegression(penalty = 'elasticnet', solver = 'saga', l1_ratio = 0.5, max_iter=5000) # which solver to use?\n",
    "else:\n",
    "    raise \"Unsupported universe.model\""
   ]
  },
  {
   "cell_type": "code",
   "execution_count": 42,
   "id": "0cc8f744",
   "metadata": {
    "execution": {
     "iopub.execute_input": "2025-07-30T21:38:09.275137Z",
     "iopub.status.busy": "2025-07-30T21:38:09.274807Z",
     "iopub.status.idle": "2025-07-30T21:38:09.280007Z",
     "shell.execute_reply": "2025-07-30T21:38:09.279268Z"
    },
    "papermill": {
     "duration": 0.023087,
     "end_time": "2025-07-30T21:38:09.281396",
     "exception": false,
     "start_time": "2025-07-30T21:38:09.258309",
     "status": "completed"
    },
    "tags": []
   },
   "outputs": [],
   "source": [
    "import numpy as np\n",
    "from sklearn.pipeline import Pipeline\n",
    "from sklearn.preprocessing import StandardScaler\n",
    "\n",
    "model = Pipeline([\n",
    "    #(\"continuous_processor\", continuous_processor),\n",
    "    #(\"categorical_preprocessor\", categorical_preprocessor),\n",
    "    (\"scale\", StandardScaler() if universe[\"scale\"] == \"scale\" else None), \n",
    "    (\"model\", model),\n",
    "])"
   ]
  },
  {
   "cell_type": "code",
   "execution_count": 43,
   "id": "9442c04d",
   "metadata": {
    "execution": {
     "iopub.execute_input": "2025-07-30T21:38:09.306097Z",
     "iopub.status.busy": "2025-07-30T21:38:09.305494Z",
     "iopub.status.idle": "2025-07-30T21:38:12.766984Z",
     "shell.execute_reply": "2025-07-30T21:38:12.766299Z"
    },
    "papermill": {
     "duration": 3.47503,
     "end_time": "2025-07-30T21:38:12.768615",
     "exception": false,
     "start_time": "2025-07-30T21:38:09.293585",
     "status": "completed"
    },
    "tags": []
   },
   "outputs": [
    {
     "data": {
      "text/html": [
       "<style>#sk-container-id-1 {color: black;background-color: white;}#sk-container-id-1 pre{padding: 0;}#sk-container-id-1 div.sk-toggleable {background-color: white;}#sk-container-id-1 label.sk-toggleable__label {cursor: pointer;display: block;width: 100%;margin-bottom: 0;padding: 0.3em;box-sizing: border-box;text-align: center;}#sk-container-id-1 label.sk-toggleable__label-arrow:before {content: \"▸\";float: left;margin-right: 0.25em;color: #696969;}#sk-container-id-1 label.sk-toggleable__label-arrow:hover:before {color: black;}#sk-container-id-1 div.sk-estimator:hover label.sk-toggleable__label-arrow:before {color: black;}#sk-container-id-1 div.sk-toggleable__content {max-height: 0;max-width: 0;overflow: hidden;text-align: left;background-color: #f0f8ff;}#sk-container-id-1 div.sk-toggleable__content pre {margin: 0.2em;color: black;border-radius: 0.25em;background-color: #f0f8ff;}#sk-container-id-1 input.sk-toggleable__control:checked~div.sk-toggleable__content {max-height: 200px;max-width: 100%;overflow: auto;}#sk-container-id-1 input.sk-toggleable__control:checked~label.sk-toggleable__label-arrow:before {content: \"▾\";}#sk-container-id-1 div.sk-estimator input.sk-toggleable__control:checked~label.sk-toggleable__label {background-color: #d4ebff;}#sk-container-id-1 div.sk-label input.sk-toggleable__control:checked~label.sk-toggleable__label {background-color: #d4ebff;}#sk-container-id-1 input.sk-hidden--visually {border: 0;clip: rect(1px 1px 1px 1px);clip: rect(1px, 1px, 1px, 1px);height: 1px;margin: -1px;overflow: hidden;padding: 0;position: absolute;width: 1px;}#sk-container-id-1 div.sk-estimator {font-family: monospace;background-color: #f0f8ff;border: 1px dotted black;border-radius: 0.25em;box-sizing: border-box;margin-bottom: 0.5em;}#sk-container-id-1 div.sk-estimator:hover {background-color: #d4ebff;}#sk-container-id-1 div.sk-parallel-item::after {content: \"\";width: 100%;border-bottom: 1px solid gray;flex-grow: 1;}#sk-container-id-1 div.sk-label:hover label.sk-toggleable__label {background-color: #d4ebff;}#sk-container-id-1 div.sk-serial::before {content: \"\";position: absolute;border-left: 1px solid gray;box-sizing: border-box;top: 0;bottom: 0;left: 50%;z-index: 0;}#sk-container-id-1 div.sk-serial {display: flex;flex-direction: column;align-items: center;background-color: white;padding-right: 0.2em;padding-left: 0.2em;position: relative;}#sk-container-id-1 div.sk-item {position: relative;z-index: 1;}#sk-container-id-1 div.sk-parallel {display: flex;align-items: stretch;justify-content: center;background-color: white;position: relative;}#sk-container-id-1 div.sk-item::before, #sk-container-id-1 div.sk-parallel-item::before {content: \"\";position: absolute;border-left: 1px solid gray;box-sizing: border-box;top: 0;bottom: 0;left: 50%;z-index: -1;}#sk-container-id-1 div.sk-parallel-item {display: flex;flex-direction: column;z-index: 1;position: relative;background-color: white;}#sk-container-id-1 div.sk-parallel-item:first-child::after {align-self: flex-end;width: 50%;}#sk-container-id-1 div.sk-parallel-item:last-child::after {align-self: flex-start;width: 50%;}#sk-container-id-1 div.sk-parallel-item:only-child::after {width: 0;}#sk-container-id-1 div.sk-dashed-wrapped {border: 1px dashed gray;margin: 0 0.4em 0.5em 0.4em;box-sizing: border-box;padding-bottom: 0.4em;background-color: white;}#sk-container-id-1 div.sk-label label {font-family: monospace;font-weight: bold;display: inline-block;line-height: 1.2em;}#sk-container-id-1 div.sk-label-container {text-align: center;}#sk-container-id-1 div.sk-container {/* jupyter's `normalize.less` sets `[hidden] { display: none; }` but bootstrap.min.css set `[hidden] { display: none !important; }` so we also need the `!important` here to be able to override the default hidden behavior on the sphinx rendered scikit-learn.org. See: https://github.com/scikit-learn/scikit-learn/issues/21755 */display: inline-block !important;position: relative;}#sk-container-id-1 div.sk-text-repr-fallback {display: none;}</style><div id=\"sk-container-id-1\" class=\"sk-top-container\"><div class=\"sk-text-repr-fallback\"><pre>Pipeline(steps=[(&#x27;scale&#x27;, StandardScaler()),\n",
       "                (&#x27;model&#x27;,\n",
       "                 LogisticRegression(l1_ratio=0.5, max_iter=5000,\n",
       "                                    penalty=&#x27;elasticnet&#x27;, solver=&#x27;saga&#x27;))])</pre><b>In a Jupyter environment, please rerun this cell to show the HTML representation or trust the notebook. <br />On GitHub, the HTML representation is unable to render, please try loading this page with nbviewer.org.</b></div><div class=\"sk-container\" hidden><div class=\"sk-item sk-dashed-wrapped\"><div class=\"sk-label-container\"><div class=\"sk-label sk-toggleable\"><input class=\"sk-toggleable__control sk-hidden--visually\" id=\"sk-estimator-id-1\" type=\"checkbox\" ><label for=\"sk-estimator-id-1\" class=\"sk-toggleable__label sk-toggleable__label-arrow\">Pipeline</label><div class=\"sk-toggleable__content\"><pre>Pipeline(steps=[(&#x27;scale&#x27;, StandardScaler()),\n",
       "                (&#x27;model&#x27;,\n",
       "                 LogisticRegression(l1_ratio=0.5, max_iter=5000,\n",
       "                                    penalty=&#x27;elasticnet&#x27;, solver=&#x27;saga&#x27;))])</pre></div></div></div><div class=\"sk-serial\"><div class=\"sk-item\"><div class=\"sk-estimator sk-toggleable\"><input class=\"sk-toggleable__control sk-hidden--visually\" id=\"sk-estimator-id-2\" type=\"checkbox\" ><label for=\"sk-estimator-id-2\" class=\"sk-toggleable__label sk-toggleable__label-arrow\">StandardScaler</label><div class=\"sk-toggleable__content\"><pre>StandardScaler()</pre></div></div></div><div class=\"sk-item\"><div class=\"sk-estimator sk-toggleable\"><input class=\"sk-toggleable__control sk-hidden--visually\" id=\"sk-estimator-id-3\" type=\"checkbox\" ><label for=\"sk-estimator-id-3\" class=\"sk-toggleable__label sk-toggleable__label-arrow\">LogisticRegression</label><div class=\"sk-toggleable__content\"><pre>LogisticRegression(l1_ratio=0.5, max_iter=5000, penalty=&#x27;elasticnet&#x27;,\n",
       "                   solver=&#x27;saga&#x27;)</pre></div></div></div></div></div></div></div>"
      ],
      "text/plain": [
       "Pipeline(steps=[('scale', StandardScaler()),\n",
       "                ('model',\n",
       "                 LogisticRegression(l1_ratio=0.5, max_iter=5000,\n",
       "                                    penalty='elasticnet', solver='saga'))])"
      ]
     },
     "execution_count": 43,
     "metadata": {},
     "output_type": "execute_result"
    }
   ],
   "source": [
    "model.fit(X_train, y_train.values.ravel())"
   ]
  },
  {
   "cell_type": "code",
   "execution_count": 44,
   "id": "af59f8c0",
   "metadata": {
    "execution": {
     "iopub.execute_input": "2025-07-30T21:38:12.827665Z",
     "iopub.status.busy": "2025-07-30T21:38:12.827164Z",
     "iopub.status.idle": "2025-07-30T21:38:12.832452Z",
     "shell.execute_reply": "2025-07-30T21:38:12.831564Z"
    },
    "papermill": {
     "duration": 0.021604,
     "end_time": "2025-07-30T21:38:12.833839",
     "exception": false,
     "start_time": "2025-07-30T21:38:12.812235",
     "status": "completed"
    },
    "tags": []
   },
   "outputs": [],
   "source": [
    "from fairness_multiverse.universe import predict_w_threshold"
   ]
  },
  {
   "cell_type": "code",
   "execution_count": 45,
   "id": "a7cf2e16",
   "metadata": {
    "execution": {
     "iopub.execute_input": "2025-07-30T21:38:12.863342Z",
     "iopub.status.busy": "2025-07-30T21:38:12.862616Z",
     "iopub.status.idle": "2025-07-30T21:38:13.059392Z",
     "shell.execute_reply": "2025-07-30T21:38:13.058473Z"
    },
    "papermill": {
     "duration": 0.213778,
     "end_time": "2025-07-30T21:38:13.061677",
     "exception": false,
     "start_time": "2025-07-30T21:38:12.847899",
     "status": "completed"
    },
    "tags": []
   },
   "outputs": [
    {
     "data": {
      "text/plain": [
       "0.82365399621001"
      ]
     },
     "execution_count": 45,
     "metadata": {},
     "output_type": "execute_result"
    }
   ],
   "source": [
    "probs_test = model.predict_proba(X_test)\n",
    "\n",
    "'''\n",
    "Below code returns a boolean array (or binary 0/1 array depending on how it’s used) where each element \n",
    "is True if the probability of class 1 is greater than or equal to the threshold, and False otherwise.\n",
    "'''\n",
    "y_pred_default = predict_w_threshold(probs_test, 0.5)\n",
    "\n",
    "from sklearn.metrics import accuracy_score\n",
    "\n",
    "# Naive prediction\n",
    "accuracy_score(y_true = y_true, y_pred = y_pred_default)"
   ]
  },
  {
   "cell_type": "code",
   "execution_count": 46,
   "id": "081964c3",
   "metadata": {
    "execution": {
     "iopub.execute_input": "2025-07-30T21:38:13.112849Z",
     "iopub.status.busy": "2025-07-30T21:38:13.111955Z",
     "iopub.status.idle": "2025-07-30T21:38:13.300572Z",
     "shell.execute_reply": "2025-07-30T21:38:13.299590Z"
    },
    "papermill": {
     "duration": 0.215232,
     "end_time": "2025-07-30T21:38:13.302172",
     "exception": false,
     "start_time": "2025-07-30T21:38:13.086940",
     "status": "completed"
    },
    "tags": []
   },
   "outputs": [
    {
     "data": {
      "text/plain": [
       "array([0, 0, 0, ..., 0, 0, 0])"
      ]
     },
     "execution_count": 46,
     "metadata": {},
     "output_type": "execute_result"
    }
   ],
   "source": [
    "model.predict(X_test)"
   ]
  },
  {
   "cell_type": "markdown",
   "id": "56c9705b",
   "metadata": {
    "papermill": {
     "duration": 0.021519,
     "end_time": "2025-07-30T21:38:13.348508",
     "exception": false,
     "start_time": "2025-07-30T21:38:13.326989",
     "status": "completed"
    },
    "tags": []
   },
   "source": [
    "# Conformal Prediction"
   ]
  },
  {
   "cell_type": "code",
   "execution_count": 47,
   "id": "160ec6ff",
   "metadata": {
    "execution": {
     "iopub.execute_input": "2025-07-30T21:38:13.395994Z",
     "iopub.status.busy": "2025-07-30T21:38:13.395186Z",
     "iopub.status.idle": "2025-07-30T21:38:13.400870Z",
     "shell.execute_reply": "2025-07-30T21:38:13.399729Z"
    },
    "papermill": {
     "duration": 0.028742,
     "end_time": "2025-07-30T21:38:13.402450",
     "exception": false,
     "start_time": "2025-07-30T21:38:13.373708",
     "status": "completed"
    },
    "tags": []
   },
   "outputs": [],
   "source": [
    "# Miscoverage level for conformal prediction (10% allowed error rate => 90% target coverage)\n",
    "alpha = 0.1"
   ]
  },
  {
   "cell_type": "code",
   "execution_count": 48,
   "id": "eadf4555-3dd3-440e-8e35-f82a4ad9f855",
   "metadata": {
    "execution": {
     "iopub.execute_input": "2025-07-30T21:38:13.450855Z",
     "iopub.status.busy": "2025-07-30T21:38:13.449924Z",
     "iopub.status.idle": "2025-07-30T21:38:13.628949Z",
     "shell.execute_reply": "2025-07-30T21:38:13.627971Z"
    },
    "papermill": {
     "duration": 0.203488,
     "end_time": "2025-07-30T21:38:13.630926",
     "exception": false,
     "start_time": "2025-07-30T21:38:13.427438",
     "status": "completed"
    },
    "tags": []
   },
   "outputs": [],
   "source": [
    "probs_calib = model.predict_proba(X_calib)"
   ]
  },
  {
   "cell_type": "code",
   "execution_count": 49,
   "id": "2ed93547-6d5d-4983-9b36-1ecb300da49a",
   "metadata": {
    "execution": {
     "iopub.execute_input": "2025-07-30T21:38:13.684189Z",
     "iopub.status.busy": "2025-07-30T21:38:13.683685Z",
     "iopub.status.idle": "2025-07-30T21:38:13.689024Z",
     "shell.execute_reply": "2025-07-30T21:38:13.688069Z"
    },
    "papermill": {
     "duration": 0.034146,
     "end_time": "2025-07-30T21:38:13.690880",
     "exception": false,
     "start_time": "2025-07-30T21:38:13.656734",
     "status": "completed"
    },
    "tags": []
   },
   "outputs": [],
   "source": [
    "y_calib = y_calib.values.ravel().astype(int)"
   ]
  },
  {
   "cell_type": "code",
   "execution_count": 50,
   "id": "65d1320d-f588-4b38-9072-62af1ae97f7d",
   "metadata": {
    "execution": {
     "iopub.execute_input": "2025-07-30T21:38:13.744583Z",
     "iopub.status.busy": "2025-07-30T21:38:13.744093Z",
     "iopub.status.idle": "2025-07-30T21:38:13.751353Z",
     "shell.execute_reply": "2025-07-30T21:38:13.750395Z"
    },
    "papermill": {
     "duration": 0.036081,
     "end_time": "2025-07-30T21:38:13.752920",
     "exception": false,
     "start_time": "2025-07-30T21:38:13.716839",
     "status": "completed"
    },
    "tags": []
   },
   "outputs": [],
   "source": [
    "from fairness_multiverse.conformal import compute_nc_scores\n",
    "\n",
    "# Compute nonconformity scores on calibration set (1 - probability of true class)\n",
    "nc_scores = compute_nc_scores(probs_calib, y_calib)"
   ]
  },
  {
   "cell_type": "code",
   "execution_count": 51,
   "id": "df3b8ca3-53b7-43d5-9667-7c85da7aeda2",
   "metadata": {
    "execution": {
     "iopub.execute_input": "2025-07-30T21:38:13.805653Z",
     "iopub.status.busy": "2025-07-30T21:38:13.805176Z",
     "iopub.status.idle": "2025-07-30T21:38:13.812078Z",
     "shell.execute_reply": "2025-07-30T21:38:13.811114Z"
    },
    "papermill": {
     "duration": 0.034906,
     "end_time": "2025-07-30T21:38:13.813703",
     "exception": false,
     "start_time": "2025-07-30T21:38:13.778797",
     "status": "completed"
    },
    "tags": []
   },
   "outputs": [],
   "source": [
    "from fairness_multiverse.conformal import find_threshold\n",
    "\n",
    "# Find conformal threshold q_hat for the given alpha (split conformal method)\n",
    "q_hat = find_threshold(nc_scores, alpha)"
   ]
  },
  {
   "cell_type": "code",
   "execution_count": 52,
   "id": "4d29e6c1-0ef6-4aa4-b8fe-4fe79b0d033a",
   "metadata": {
    "execution": {
     "iopub.execute_input": "2025-07-30T21:38:13.904907Z",
     "iopub.status.busy": "2025-07-30T21:38:13.904390Z",
     "iopub.status.idle": "2025-07-30T21:38:13.911680Z",
     "shell.execute_reply": "2025-07-30T21:38:13.910642Z"
    },
    "papermill": {
     "duration": 0.033509,
     "end_time": "2025-07-30T21:38:13.913619",
     "exception": false,
     "start_time": "2025-07-30T21:38:13.880110",
     "status": "completed"
    },
    "tags": []
   },
   "outputs": [
    {
     "data": {
      "text/plain": [
       "0.8075248310991203"
      ]
     },
     "execution_count": 52,
     "metadata": {},
     "output_type": "execute_result"
    }
   ],
   "source": [
    "q_hat"
   ]
  },
  {
   "cell_type": "code",
   "execution_count": 53,
   "id": "92460794-cdac-4be2-ba28-f28c0515a6fb",
   "metadata": {
    "execution": {
     "iopub.execute_input": "2025-07-30T21:38:13.965738Z",
     "iopub.status.busy": "2025-07-30T21:38:13.965140Z",
     "iopub.status.idle": "2025-07-30T21:38:14.870798Z",
     "shell.execute_reply": "2025-07-30T21:38:14.870029Z"
    },
    "papermill": {
     "duration": 0.934434,
     "end_time": "2025-07-30T21:38:14.872666",
     "exception": false,
     "start_time": "2025-07-30T21:38:13.938232",
     "status": "completed"
    },
    "tags": []
   },
   "outputs": [],
   "source": [
    "from fairness_multiverse.conformal import predict_conformal_sets\n",
    "\n",
    "# Generate prediction sets for each test example\n",
    "pred_sets = predict_conformal_sets(model, X_test, q_hat)"
   ]
  },
  {
   "cell_type": "code",
   "execution_count": 54,
   "id": "d90c9a65-e6db-4f5d-80cd-e68fb7e46829",
   "metadata": {
    "execution": {
     "iopub.execute_input": "2025-07-30T21:38:14.923482Z",
     "iopub.status.busy": "2025-07-30T21:38:14.922885Z",
     "iopub.status.idle": "2025-07-30T21:38:14.929496Z",
     "shell.execute_reply": "2025-07-30T21:38:14.928406Z"
    },
    "papermill": {
     "duration": 0.034197,
     "end_time": "2025-07-30T21:38:14.931527",
     "exception": false,
     "start_time": "2025-07-30T21:38:14.897330",
     "status": "completed"
    },
    "tags": []
   },
   "outputs": [],
   "source": [
    "y_true = y_true.squeeze()"
   ]
  },
  {
   "cell_type": "code",
   "execution_count": 55,
   "id": "3a58a54a-1e68-46b9-927a-df01f18aebc8",
   "metadata": {
    "execution": {
     "iopub.execute_input": "2025-07-30T21:38:14.983942Z",
     "iopub.status.busy": "2025-07-30T21:38:14.983470Z",
     "iopub.status.idle": "2025-07-30T21:38:15.934998Z",
     "shell.execute_reply": "2025-07-30T21:38:15.934026Z"
    },
    "papermill": {
     "duration": 0.978385,
     "end_time": "2025-07-30T21:38:15.936915",
     "exception": false,
     "start_time": "2025-07-30T21:38:14.958530",
     "status": "completed"
    },
    "tags": []
   },
   "outputs": [],
   "source": [
    "from fairness_multiverse.conformal import evaluate_sets\n",
    "\n",
    "# Evaluate coverage and average set size on test data\n",
    "metrics = evaluate_sets(pred_sets, y_true)"
   ]
  },
  {
   "cell_type": "markdown",
   "id": "2b569c12-9aaa-4c88-98c9-bbcd0cf3ebb8",
   "metadata": {
    "papermill": {
     "duration": 0.024313,
     "end_time": "2025-07-30T21:38:15.990519",
     "exception": false,
     "start_time": "2025-07-30T21:38:15.966206",
     "status": "completed"
    },
    "tags": []
   },
   "source": [
    "# CP Metrics"
   ]
  },
  {
   "cell_type": "code",
   "execution_count": 56,
   "id": "5ce0a5cb-201f-45a0-ade5-94c7f0bd6095",
   "metadata": {
    "execution": {
     "iopub.execute_input": "2025-07-30T21:38:16.037909Z",
     "iopub.status.busy": "2025-07-30T21:38:16.037402Z",
     "iopub.status.idle": "2025-07-30T21:38:16.044255Z",
     "shell.execute_reply": "2025-07-30T21:38:16.043222Z"
    },
    "papermill": {
     "duration": 0.032636,
     "end_time": "2025-07-30T21:38:16.045999",
     "exception": false,
     "start_time": "2025-07-30T21:38:16.013363",
     "status": "completed"
    },
    "tags": []
   },
   "outputs": [
    {
     "data": {
      "text/plain": [
       "{'coverage': 0.9100546204436518, 'avg_size': 1.2526251254040799}"
      ]
     },
     "execution_count": 56,
     "metadata": {},
     "output_type": "execute_result"
    }
   ],
   "source": [
    "metrics"
   ]
  },
  {
   "cell_type": "code",
   "execution_count": 57,
   "id": "9b9a838d-31c9-430b-ae14-12baee460d17",
   "metadata": {
    "execution": {
     "iopub.execute_input": "2025-07-30T21:38:16.099825Z",
     "iopub.status.busy": "2025-07-30T21:38:16.099373Z",
     "iopub.status.idle": "2025-07-30T21:38:16.105913Z",
     "shell.execute_reply": "2025-07-30T21:38:16.104973Z"
    },
    "papermill": {
     "duration": 0.03537,
     "end_time": "2025-07-30T21:38:16.107462",
     "exception": false,
     "start_time": "2025-07-30T21:38:16.072092",
     "status": "completed"
    },
    "tags": []
   },
   "outputs": [],
   "source": [
    "example_universe = universe.copy()\n",
    "universe_training_year = example_universe.get(\"training_year\")\n",
    "universe_training_size = example_universe.get(\"training_size\")\n",
    "universe_scale = example_universe.get(\"scale\")\n",
    "universe_model = example_universe.get(\"model\")\n",
    "universe_exclude_features = example_universe.get(\"exclude_features\")\n",
    "universe_exclude_subgroups = example_universe.get(\"exclude_subgroups\")"
   ]
  },
  {
   "cell_type": "code",
   "execution_count": 58,
   "id": "f4b6a8ac-9dc0-4245-8a91-5b3b5999c4f9",
   "metadata": {
    "execution": {
     "iopub.execute_input": "2025-07-30T21:38:16.156221Z",
     "iopub.status.busy": "2025-07-30T21:38:16.155724Z",
     "iopub.status.idle": "2025-07-30T21:38:16.162169Z",
     "shell.execute_reply": "2025-07-30T21:38:16.161260Z"
    },
    "papermill": {
     "duration": 0.032459,
     "end_time": "2025-07-30T21:38:16.163751",
     "exception": false,
     "start_time": "2025-07-30T21:38:16.131292",
     "status": "completed"
    },
    "tags": []
   },
   "outputs": [],
   "source": [
    "cp_metrics_dict = {\n",
    "    \"universe_id\": [universe_id],\n",
    "    \"universe_training_year\": [universe_training_year],\n",
    "    \"universe_training_size\": [universe_training_size],\n",
    "    \"universe_scale\": [universe_scale],\n",
    "    \"universe_model\": [universe_model],\n",
    "    \"universe_exclude_features\": [universe_exclude_features],\n",
    "    \"universe_exclude_subgroups\": [universe_exclude_subgroups],\n",
    "    \"q_hat\": [q_hat],\n",
    "    \"coverage\": [metrics[\"coverage\"]],\n",
    "    \"avg_size\": [metrics[\"avg_size\"]],\n",
    "}"
   ]
  },
  {
   "cell_type": "code",
   "execution_count": 59,
   "id": "908acbb1-0371-4915-85ca-3fa520d2efe2",
   "metadata": {
    "execution": {
     "iopub.execute_input": "2025-07-30T21:38:16.216797Z",
     "iopub.status.busy": "2025-07-30T21:38:16.216150Z",
     "iopub.status.idle": "2025-07-30T21:38:16.224261Z",
     "shell.execute_reply": "2025-07-30T21:38:16.223321Z"
    },
    "papermill": {
     "duration": 0.035815,
     "end_time": "2025-07-30T21:38:16.225681",
     "exception": false,
     "start_time": "2025-07-30T21:38:16.189866",
     "status": "completed"
    },
    "tags": []
   },
   "outputs": [
    {
     "data": {
      "text/plain": [
       "{'universe_id': ['6acb694263c600510b083b6c26bf1957'],\n",
       " 'universe_training_year': ['2012_14'],\n",
       " 'universe_training_size': ['1k'],\n",
       " 'universe_scale': ['scale'],\n",
       " 'universe_model': ['elasticnet'],\n",
       " 'universe_exclude_features': ['age'],\n",
       " 'universe_exclude_subgroups': ['drop-non-german'],\n",
       " 'q_hat': [0.8075248310991203],\n",
       " 'coverage': [0.9100546204436518],\n",
       " 'avg_size': [1.2526251254040799]}"
      ]
     },
     "execution_count": 59,
     "metadata": {},
     "output_type": "execute_result"
    }
   ],
   "source": [
    "cp_metrics_dict"
   ]
  },
  {
   "cell_type": "code",
   "execution_count": 60,
   "id": "33007efc-14e9-4ec6-97ac-56a455c82265",
   "metadata": {
    "execution": {
     "iopub.execute_input": "2025-07-30T21:38:16.259320Z",
     "iopub.status.busy": "2025-07-30T21:38:16.258687Z",
     "iopub.status.idle": "2025-07-30T21:38:16.263705Z",
     "shell.execute_reply": "2025-07-30T21:38:16.263029Z"
    },
    "papermill": {
     "duration": 0.019774,
     "end_time": "2025-07-30T21:38:16.264966",
     "exception": false,
     "start_time": "2025-07-30T21:38:16.245192",
     "status": "completed"
    },
    "tags": []
   },
   "outputs": [],
   "source": [
    "cp_metrics_df = pd.DataFrame(cp_metrics_dict)"
   ]
  },
  {
   "cell_type": "code",
   "execution_count": 61,
   "id": "db12611b-57b2-4910-b9d0-355adfd6e7bf",
   "metadata": {
    "execution": {
     "iopub.execute_input": "2025-07-30T21:38:16.291769Z",
     "iopub.status.busy": "2025-07-30T21:38:16.291483Z",
     "iopub.status.idle": "2025-07-30T21:38:16.305722Z",
     "shell.execute_reply": "2025-07-30T21:38:16.304771Z"
    },
    "papermill": {
     "duration": 0.029252,
     "end_time": "2025-07-30T21:38:16.307335",
     "exception": false,
     "start_time": "2025-07-30T21:38:16.278083",
     "status": "completed"
    },
    "tags": []
   },
   "outputs": [
    {
     "data": {
      "text/html": [
       "<div>\n",
       "<style scoped>\n",
       "    .dataframe tbody tr th:only-of-type {\n",
       "        vertical-align: middle;\n",
       "    }\n",
       "\n",
       "    .dataframe tbody tr th {\n",
       "        vertical-align: top;\n",
       "    }\n",
       "\n",
       "    .dataframe thead th {\n",
       "        text-align: right;\n",
       "    }\n",
       "</style>\n",
       "<table border=\"1\" class=\"dataframe\">\n",
       "  <thead>\n",
       "    <tr style=\"text-align: right;\">\n",
       "      <th></th>\n",
       "      <th>universe_id</th>\n",
       "      <th>universe_training_year</th>\n",
       "      <th>universe_training_size</th>\n",
       "      <th>universe_scale</th>\n",
       "      <th>universe_model</th>\n",
       "      <th>universe_exclude_features</th>\n",
       "      <th>universe_exclude_subgroups</th>\n",
       "      <th>q_hat</th>\n",
       "      <th>coverage</th>\n",
       "      <th>avg_size</th>\n",
       "    </tr>\n",
       "  </thead>\n",
       "  <tbody>\n",
       "    <tr>\n",
       "      <th>0</th>\n",
       "      <td>6acb694263c600510b083b6c26bf1957</td>\n",
       "      <td>2012_14</td>\n",
       "      <td>1k</td>\n",
       "      <td>scale</td>\n",
       "      <td>elasticnet</td>\n",
       "      <td>age</td>\n",
       "      <td>drop-non-german</td>\n",
       "      <td>0.807525</td>\n",
       "      <td>0.910055</td>\n",
       "      <td>1.252625</td>\n",
       "    </tr>\n",
       "  </tbody>\n",
       "</table>\n",
       "</div>"
      ],
      "text/plain": [
       "                        universe_id universe_training_year  \\\n",
       "0  6acb694263c600510b083b6c26bf1957                2012_14   \n",
       "\n",
       "  universe_training_size universe_scale universe_model  \\\n",
       "0                     1k          scale     elasticnet   \n",
       "\n",
       "  universe_exclude_features universe_exclude_subgroups     q_hat  coverage  \\\n",
       "0                       age            drop-non-german  0.807525  0.910055   \n",
       "\n",
       "   avg_size  \n",
       "0  1.252625  "
      ]
     },
     "execution_count": 61,
     "metadata": {},
     "output_type": "execute_result"
    }
   ],
   "source": [
    "cp_metrics_df"
   ]
  },
  {
   "cell_type": "code",
   "execution_count": 62,
   "id": "b7fbde55-a0a1-47e4-9af6-fe4a17fa8c61",
   "metadata": {
    "execution": {
     "iopub.execute_input": "2025-07-30T21:38:16.360948Z",
     "iopub.status.busy": "2025-07-30T21:38:16.359972Z",
     "iopub.status.idle": "2025-07-30T21:38:16.365409Z",
     "shell.execute_reply": "2025-07-30T21:38:16.364528Z"
    },
    "papermill": {
     "duration": 0.035072,
     "end_time": "2025-07-30T21:38:16.367041",
     "exception": false,
     "start_time": "2025-07-30T21:38:16.331969",
     "status": "completed"
    },
    "tags": []
   },
   "outputs": [],
   "source": [
    "# Conditional Coverage & looking at subgroups"
   ]
  },
  {
   "cell_type": "code",
   "execution_count": 63,
   "id": "027ae886-68dd-4141-96c7-805a5450e1ef",
   "metadata": {
    "execution": {
     "iopub.execute_input": "2025-07-30T21:38:16.418687Z",
     "iopub.status.busy": "2025-07-30T21:38:16.417855Z",
     "iopub.status.idle": "2025-07-30T21:38:16.690446Z",
     "shell.execute_reply": "2025-07-30T21:38:16.689417Z"
    },
    "papermill": {
     "duration": 0.302238,
     "end_time": "2025-07-30T21:38:16.692587",
     "exception": false,
     "start_time": "2025-07-30T21:38:16.390349",
     "status": "completed"
    },
    "tags": []
   },
   "outputs": [],
   "source": [
    "from fairness_multiverse.conformal import build_cp_groups\n",
    "\n",
    "cp_groups_df = build_cp_groups(pred_sets, y_true, X_test.index, org_test)\n",
    "#needs universe_id and setting"
   ]
  },
  {
   "cell_type": "code",
   "execution_count": 64,
   "id": "01d5802c-663a-4d1f-9d69-e036faaffbf7",
   "metadata": {
    "execution": {
     "iopub.execute_input": "2025-07-30T21:38:16.749217Z",
     "iopub.status.busy": "2025-07-30T21:38:16.748551Z",
     "iopub.status.idle": "2025-07-30T21:38:16.753452Z",
     "shell.execute_reply": "2025-07-30T21:38:16.752495Z"
    },
    "papermill": {
     "duration": 0.034806,
     "end_time": "2025-07-30T21:38:16.755121",
     "exception": false,
     "start_time": "2025-07-30T21:38:16.720315",
     "status": "completed"
    },
    "tags": []
   },
   "outputs": [],
   "source": [
    "#delete\n",
    "#cp_groups_df"
   ]
  },
  {
   "cell_type": "code",
   "execution_count": 65,
   "id": "fa424af1-d1eb-443d-b717-2d279ada8408",
   "metadata": {
    "execution": {
     "iopub.execute_input": "2025-07-30T21:38:16.809395Z",
     "iopub.status.busy": "2025-07-30T21:38:16.808777Z",
     "iopub.status.idle": "2025-07-30T21:38:16.813731Z",
     "shell.execute_reply": "2025-07-30T21:38:16.812892Z"
    },
    "papermill": {
     "duration": 0.033363,
     "end_time": "2025-07-30T21:38:16.815359",
     "exception": false,
     "start_time": "2025-07-30T21:38:16.781996",
     "status": "completed"
    },
    "tags": []
   },
   "outputs": [],
   "source": [
    "#delete\n",
    "#percentage = (cp_groups_df['nongerman_female'] == 1).mean() * 100\n",
    "#print(percentage)\n"
   ]
  },
  {
   "cell_type": "code",
   "execution_count": 66,
   "id": "6cbdab96-b2b2-45af-ad54-d0516db2e28d",
   "metadata": {
    "execution": {
     "iopub.execute_input": "2025-07-30T21:38:16.869057Z",
     "iopub.status.busy": "2025-07-30T21:38:16.868071Z",
     "iopub.status.idle": "2025-07-30T21:38:18.558858Z",
     "shell.execute_reply": "2025-07-30T21:38:18.557833Z"
    },
    "papermill": {
     "duration": 1.719828,
     "end_time": "2025-07-30T21:38:18.560734",
     "exception": false,
     "start_time": "2025-07-30T21:38:16.840906",
     "status": "completed"
    },
    "tags": []
   },
   "outputs": [],
   "source": [
    "# Define covered = 1 if true_label is in the predicted set\n",
    "cp_groups_df['covered'] = cp_groups_df.apply(\n",
    "    lambda r: int(r['true_label'] in r['pred_set']),\n",
    "    axis=1\n",
    ")"
   ]
  },
  {
   "cell_type": "code",
   "execution_count": 67,
   "id": "338ff529-1a6b-4b87-a931-8e4788d52aad",
   "metadata": {
    "execution": {
     "iopub.execute_input": "2025-07-30T21:38:18.615646Z",
     "iopub.status.busy": "2025-07-30T21:38:18.615149Z",
     "iopub.status.idle": "2025-07-30T21:38:18.621504Z",
     "shell.execute_reply": "2025-07-30T21:38:18.620601Z"
    },
    "papermill": {
     "duration": 0.036143,
     "end_time": "2025-07-30T21:38:18.623499",
     "exception": false,
     "start_time": "2025-07-30T21:38:18.587356",
     "status": "completed"
    },
    "tags": []
   },
   "outputs": [],
   "source": [
    "#cp_groups_df"
   ]
  },
  {
   "cell_type": "code",
   "execution_count": 68,
   "id": "90032e27-66df-4540-9169-4e89cfbaa758",
   "metadata": {
    "execution": {
     "iopub.execute_input": "2025-07-30T21:38:18.682916Z",
     "iopub.status.busy": "2025-07-30T21:38:18.682409Z",
     "iopub.status.idle": "2025-07-30T21:38:18.693914Z",
     "shell.execute_reply": "2025-07-30T21:38:18.692873Z"
    },
    "papermill": {
     "duration": 0.042965,
     "end_time": "2025-07-30T21:38:18.695669",
     "exception": false,
     "start_time": "2025-07-30T21:38:18.652704",
     "status": "completed"
    },
    "tags": []
   },
   "outputs": [],
   "source": [
    "subgroups = ['frau1','nongerman','nongerman_male','nongerman_female']\n",
    "\n",
    "# Conditional coverage for subgroup==1\n",
    "cond_coverage = {\n",
    "    g: cp_groups_df.loc[cp_groups_df[g]==1, 'covered'].mean()\n",
    "    for g in subgroups\n",
    "}"
   ]
  },
  {
   "cell_type": "code",
   "execution_count": 69,
   "id": "1e348fb1-b9c3-45bc-ba23-f016827a7e0d",
   "metadata": {
    "execution": {
     "iopub.execute_input": "2025-07-30T21:38:18.756157Z",
     "iopub.status.busy": "2025-07-30T21:38:18.755468Z",
     "iopub.status.idle": "2025-07-30T21:38:18.762763Z",
     "shell.execute_reply": "2025-07-30T21:38:18.761831Z"
    },
    "papermill": {
     "duration": 0.039339,
     "end_time": "2025-07-30T21:38:18.764443",
     "exception": false,
     "start_time": "2025-07-30T21:38:18.725104",
     "status": "completed"
    },
    "tags": []
   },
   "outputs": [
    {
     "data": {
      "text/plain": [
       "{'frau1': 0.9002560992047446,\n",
       " 'nongerman': 0.9150058945713805,\n",
       " 'nongerman_male': 0.9338016752229127,\n",
       " 'nongerman_female': 0.8839046199701938}"
      ]
     },
     "execution_count": 69,
     "metadata": {},
     "output_type": "execute_result"
    }
   ],
   "source": [
    "cond_coverage"
   ]
  },
  {
   "cell_type": "code",
   "execution_count": 70,
   "id": "f5093324-c3dd-4d63-bc4c-8d945e5c8bbb",
   "metadata": {
    "execution": {
     "iopub.execute_input": "2025-07-30T21:38:18.826278Z",
     "iopub.status.busy": "2025-07-30T21:38:18.825363Z",
     "iopub.status.idle": "2025-07-30T21:38:18.833442Z",
     "shell.execute_reply": "2025-07-30T21:38:18.832407Z"
    },
    "papermill": {
     "duration": 0.040994,
     "end_time": "2025-07-30T21:38:18.835123",
     "exception": false,
     "start_time": "2025-07-30T21:38:18.794129",
     "status": "completed"
    },
    "tags": []
   },
   "outputs": [],
   "source": [
    "for subgroup, cov in cond_coverage.items():\n",
    "    cp_metrics_df[f\"cov_{subgroup}\"] = cov"
   ]
  },
  {
   "cell_type": "code",
   "execution_count": 71,
   "id": "6e872e10-dbe5-49e8-b554-5030c98ff75d",
   "metadata": {
    "execution": {
     "iopub.execute_input": "2025-07-30T21:38:18.896450Z",
     "iopub.status.busy": "2025-07-30T21:38:18.895750Z",
     "iopub.status.idle": "2025-07-30T21:38:18.914175Z",
     "shell.execute_reply": "2025-07-30T21:38:18.913236Z"
    },
    "papermill": {
     "duration": 0.050509,
     "end_time": "2025-07-30T21:38:18.915754",
     "exception": false,
     "start_time": "2025-07-30T21:38:18.865245",
     "status": "completed"
    },
    "tags": []
   },
   "outputs": [
    {
     "data": {
      "text/html": [
       "<div>\n",
       "<style scoped>\n",
       "    .dataframe tbody tr th:only-of-type {\n",
       "        vertical-align: middle;\n",
       "    }\n",
       "\n",
       "    .dataframe tbody tr th {\n",
       "        vertical-align: top;\n",
       "    }\n",
       "\n",
       "    .dataframe thead th {\n",
       "        text-align: right;\n",
       "    }\n",
       "</style>\n",
       "<table border=\"1\" class=\"dataframe\">\n",
       "  <thead>\n",
       "    <tr style=\"text-align: right;\">\n",
       "      <th></th>\n",
       "      <th>universe_id</th>\n",
       "      <th>universe_training_year</th>\n",
       "      <th>universe_training_size</th>\n",
       "      <th>universe_scale</th>\n",
       "      <th>universe_model</th>\n",
       "      <th>universe_exclude_features</th>\n",
       "      <th>universe_exclude_subgroups</th>\n",
       "      <th>q_hat</th>\n",
       "      <th>coverage</th>\n",
       "      <th>avg_size</th>\n",
       "      <th>cov_frau1</th>\n",
       "      <th>cov_nongerman</th>\n",
       "      <th>cov_nongerman_male</th>\n",
       "      <th>cov_nongerman_female</th>\n",
       "    </tr>\n",
       "  </thead>\n",
       "  <tbody>\n",
       "    <tr>\n",
       "      <th>0</th>\n",
       "      <td>6acb694263c600510b083b6c26bf1957</td>\n",
       "      <td>2012_14</td>\n",
       "      <td>1k</td>\n",
       "      <td>scale</td>\n",
       "      <td>elasticnet</td>\n",
       "      <td>age</td>\n",
       "      <td>drop-non-german</td>\n",
       "      <td>0.807525</td>\n",
       "      <td>0.910055</td>\n",
       "      <td>1.252625</td>\n",
       "      <td>0.900256</td>\n",
       "      <td>0.915006</td>\n",
       "      <td>0.933802</td>\n",
       "      <td>0.883905</td>\n",
       "    </tr>\n",
       "  </tbody>\n",
       "</table>\n",
       "</div>"
      ],
      "text/plain": [
       "                        universe_id universe_training_year  \\\n",
       "0  6acb694263c600510b083b6c26bf1957                2012_14   \n",
       "\n",
       "  universe_training_size universe_scale universe_model  \\\n",
       "0                     1k          scale     elasticnet   \n",
       "\n",
       "  universe_exclude_features universe_exclude_subgroups     q_hat  coverage  \\\n",
       "0                       age            drop-non-german  0.807525  0.910055   \n",
       "\n",
       "   avg_size  cov_frau1  cov_nongerman  cov_nongerman_male  \\\n",
       "0  1.252625   0.900256       0.915006            0.933802   \n",
       "\n",
       "   cov_nongerman_female  \n",
       "0              0.883905  "
      ]
     },
     "execution_count": 71,
     "metadata": {},
     "output_type": "execute_result"
    }
   ],
   "source": [
    "cp_metrics_df"
   ]
  },
  {
   "cell_type": "markdown",
   "id": "33774451",
   "metadata": {
    "papermill": {
     "duration": 0.027827,
     "end_time": "2025-07-30T21:38:18.971017",
     "exception": false,
     "start_time": "2025-07-30T21:38:18.943190",
     "status": "completed"
    },
    "tags": []
   },
   "source": [
    "# (Fairness) Metrics"
   ]
  },
  {
   "cell_type": "code",
   "execution_count": 72,
   "id": "debc5d62",
   "metadata": {
    "execution": {
     "iopub.execute_input": "2025-07-30T21:38:19.026389Z",
     "iopub.status.busy": "2025-07-30T21:38:19.025896Z",
     "iopub.status.idle": "2025-07-30T21:38:19.048533Z",
     "shell.execute_reply": "2025-07-30T21:38:19.045028Z"
    },
    "papermill": {
     "duration": 0.051987,
     "end_time": "2025-07-30T21:38:19.050467",
     "exception": false,
     "start_time": "2025-07-30T21:38:18.998480",
     "status": "completed"
    },
    "tags": []
   },
   "outputs": [],
   "source": [
    "# do I need to include maxdeutsch1.missing?\n",
    "\n",
    "import numpy as np\n",
    "\n",
    "colname_to_bin = \"maxdeutsch1\"\n",
    "majority_value = org_train[colname_to_bin].mode()[0]\n",
    "\n",
    "org_test[\"majmin\"] = np.where(org_test[colname_to_bin] == majority_value, \"majority\", \"minority\")"
   ]
  },
  {
   "cell_type": "code",
   "execution_count": 73,
   "id": "06a50de5",
   "metadata": {
    "execution": {
     "iopub.execute_input": "2025-07-30T21:38:19.084130Z",
     "iopub.status.busy": "2025-07-30T21:38:19.083673Z",
     "iopub.status.idle": "2025-07-30T21:38:21.172465Z",
     "shell.execute_reply": "2025-07-30T21:38:21.171595Z"
    },
    "papermill": {
     "duration": 2.104776,
     "end_time": "2025-07-30T21:38:21.173917",
     "exception": false,
     "start_time": "2025-07-30T21:38:19.069141",
     "status": "completed"
    },
    "tags": []
   },
   "outputs": [],
   "source": [
    "example_universe = universe.copy()\n",
    "example_universe[\"cutoff\"] = example_universe[\"cutoff\"][0]\n",
    "example_universe[\"eval_fairness_grouping\"] = example_universe[\"eval_fairness_grouping\"][0]\n",
    "fairness_dict, metric_frame = universe_analysis.compute_metrics(\n",
    "    example_universe,\n",
    "    y_pred_prob=probs_test,\n",
    "    y_test=y_true,\n",
    "    org_test=org_test,\n",
    ")"
   ]
  },
  {
   "cell_type": "markdown",
   "id": "f95d4e02",
   "metadata": {
    "papermill": {
     "duration": 0.014355,
     "end_time": "2025-07-30T21:38:21.205167",
     "exception": false,
     "start_time": "2025-07-30T21:38:21.190812",
     "status": "completed"
    },
    "tags": []
   },
   "source": [
    "# Overall"
   ]
  },
  {
   "cell_type": "markdown",
   "id": "bdee4871",
   "metadata": {
    "papermill": {
     "duration": 0.015742,
     "end_time": "2025-07-30T21:38:21.234603",
     "exception": false,
     "start_time": "2025-07-30T21:38:21.218861",
     "status": "completed"
    },
    "tags": []
   },
   "source": [
    "Fairness\n",
    "Main fairness target: Equalized Odds. Seems to be a better fit than equal opportunity, since we're not only interested in Y = 1. Seems to be a better fit than demographic parity, since we also care about accuracy, not just equal distribution of preds.\n",
    "\n",
    "Pick column for computation of fairness metrics\n",
    "\n",
    "Performance\n",
    "Overall performance measures, most interesting in relation to the measures split by group below"
   ]
  },
  {
   "cell_type": "code",
   "execution_count": 74,
   "id": "c4e067c6",
   "metadata": {
    "execution": {
     "iopub.execute_input": "2025-07-30T21:38:21.270315Z",
     "iopub.status.busy": "2025-07-30T21:38:21.269607Z",
     "iopub.status.idle": "2025-07-30T21:38:21.277070Z",
     "shell.execute_reply": "2025-07-30T21:38:21.276229Z"
    },
    "papermill": {
     "duration": 0.023774,
     "end_time": "2025-07-30T21:38:21.278378",
     "exception": false,
     "start_time": "2025-07-30T21:38:21.254604",
     "status": "completed"
    },
    "tags": []
   },
   "outputs": [
    {
     "data": {
      "text/plain": [
       "accuracy                   0.216932\n",
       "balanced accuracy          0.531988\n",
       "f1                         0.238468\n",
       "precision                  0.136229\n",
       "false positive rate        0.891793\n",
       "false negative rate        0.044230\n",
       "selection rate             0.900000\n",
       "count                  89710.000000\n",
       "dtype: float64"
      ]
     },
     "execution_count": 74,
     "metadata": {},
     "output_type": "execute_result"
    }
   ],
   "source": [
    "metric_frame.overall"
   ]
  },
  {
   "cell_type": "markdown",
   "id": "e968fe9d",
   "metadata": {
    "papermill": {
     "duration": 0.01457,
     "end_time": "2025-07-30T21:38:21.308130",
     "exception": false,
     "start_time": "2025-07-30T21:38:21.293560",
     "status": "completed"
    },
    "tags": []
   },
   "source": [
    "By Group"
   ]
  },
  {
   "cell_type": "code",
   "execution_count": 75,
   "id": "ec325bce",
   "metadata": {
    "execution": {
     "iopub.execute_input": "2025-07-30T21:38:21.342886Z",
     "iopub.status.busy": "2025-07-30T21:38:21.342172Z",
     "iopub.status.idle": "2025-07-30T21:38:21.354763Z",
     "shell.execute_reply": "2025-07-30T21:38:21.353932Z"
    },
    "papermill": {
     "duration": 0.033495,
     "end_time": "2025-07-30T21:38:21.356125",
     "exception": false,
     "start_time": "2025-07-30T21:38:21.322630",
     "status": "completed"
    },
    "tags": []
   },
   "outputs": [
    {
     "data": {
      "text/html": [
       "<div>\n",
       "<style scoped>\n",
       "    .dataframe tbody tr th:only-of-type {\n",
       "        vertical-align: middle;\n",
       "    }\n",
       "\n",
       "    .dataframe tbody tr th {\n",
       "        vertical-align: top;\n",
       "    }\n",
       "\n",
       "    .dataframe thead th {\n",
       "        text-align: right;\n",
       "    }\n",
       "</style>\n",
       "<table border=\"1\" class=\"dataframe\">\n",
       "  <thead>\n",
       "    <tr style=\"text-align: right;\">\n",
       "      <th></th>\n",
       "      <th>accuracy</th>\n",
       "      <th>balanced accuracy</th>\n",
       "      <th>f1</th>\n",
       "      <th>precision</th>\n",
       "      <th>false positive rate</th>\n",
       "      <th>false negative rate</th>\n",
       "      <th>selection rate</th>\n",
       "      <th>count</th>\n",
       "    </tr>\n",
       "    <tr>\n",
       "      <th>majmin</th>\n",
       "      <th></th>\n",
       "      <th></th>\n",
       "      <th></th>\n",
       "      <th></th>\n",
       "      <th></th>\n",
       "      <th></th>\n",
       "      <th></th>\n",
       "      <th></th>\n",
       "    </tr>\n",
       "  </thead>\n",
       "  <tbody>\n",
       "    <tr>\n",
       "      <th>majority</th>\n",
       "      <td>0.231892</td>\n",
       "      <td>0.536788</td>\n",
       "      <td>0.246575</td>\n",
       "      <td>0.141647</td>\n",
       "      <td>0.877628</td>\n",
       "      <td>0.048796</td>\n",
       "      <td>0.88735</td>\n",
       "      <td>69170.0</td>\n",
       "    </tr>\n",
       "    <tr>\n",
       "      <th>minority</th>\n",
       "      <td>0.166553</td>\n",
       "      <td>0.517404</td>\n",
       "      <td>0.212159</td>\n",
       "      <td>0.119054</td>\n",
       "      <td>0.938587</td>\n",
       "      <td>0.026605</td>\n",
       "      <td>0.94260</td>\n",
       "      <td>20540.0</td>\n",
       "    </tr>\n",
       "  </tbody>\n",
       "</table>\n",
       "</div>"
      ],
      "text/plain": [
       "          accuracy  balanced accuracy        f1  precision  \\\n",
       "majmin                                                       \n",
       "majority  0.231892           0.536788  0.246575   0.141647   \n",
       "minority  0.166553           0.517404  0.212159   0.119054   \n",
       "\n",
       "          false positive rate  false negative rate  selection rate    count  \n",
       "majmin                                                                       \n",
       "majority             0.877628             0.048796         0.88735  69170.0  \n",
       "minority             0.938587             0.026605         0.94260  20540.0  "
      ]
     },
     "execution_count": 75,
     "metadata": {},
     "output_type": "execute_result"
    }
   ],
   "source": [
    "metric_frame.by_group"
   ]
  },
  {
   "cell_type": "code",
   "execution_count": 76,
   "id": "a9ddbe63",
   "metadata": {
    "execution": {
     "iopub.execute_input": "2025-07-30T21:38:21.392216Z",
     "iopub.status.busy": "2025-07-30T21:38:21.391515Z",
     "iopub.status.idle": "2025-07-30T21:38:23.729849Z",
     "shell.execute_reply": "2025-07-30T21:38:23.728826Z"
    },
    "papermill": {
     "duration": 2.360228,
     "end_time": "2025-07-30T21:38:23.731934",
     "exception": false,
     "start_time": "2025-07-30T21:38:21.371706",
     "status": "completed"
    },
    "tags": []
   },
   "outputs": [
    {
     "data": {
      "text/plain": [
       "array([[<Axes: title={'center': 'accuracy'}, xlabel='majmin'>,\n",
       "        <Axes: title={'center': 'balanced accuracy'}, xlabel='majmin'>,\n",
       "        <Axes: title={'center': 'f1'}, xlabel='majmin'>],\n",
       "       [<Axes: title={'center': 'precision'}, xlabel='majmin'>,\n",
       "        <Axes: title={'center': 'false positive rate'}, xlabel='majmin'>,\n",
       "        <Axes: title={'center': 'false negative rate'}, xlabel='majmin'>],\n",
       "       [<Axes: title={'center': 'selection rate'}, xlabel='majmin'>,\n",
       "        <Axes: title={'center': 'count'}, xlabel='majmin'>,\n",
       "        <Axes: xlabel='majmin'>]], dtype=object)"
      ]
     },
     "execution_count": 76,
     "metadata": {},
     "output_type": "execute_result"
    },
    {
     "data": {
      "image/png": "[encoded data removed]",
      "text/plain": [
       "<Figure size 1200x800 with 9 Axes>"
      ]
     },
     "metadata": {},
     "output_type": "display_data"
    }
   ],
   "source": [
    "# In a graphic\n",
    "metric_frame.by_group.plot.bar(\n",
    "    subplots=True,\n",
    "    layout=[3, 3],\n",
    "    legend=False,\n",
    "    figsize=[12, 8],\n",
    "    title=\"Show all metrics\",\n",
    ")"
   ]
  },
  {
   "cell_type": "markdown",
   "id": "f57a0bac",
   "metadata": {
    "papermill": {
     "duration": 0.029657,
     "end_time": "2025-07-30T21:38:23.795655",
     "exception": false,
     "start_time": "2025-07-30T21:38:23.765998",
     "status": "completed"
    },
    "tags": []
   },
   "source": [
    "# Final Output"
   ]
  },
  {
   "cell_type": "code",
   "execution_count": 77,
   "id": "96d280a3",
   "metadata": {
    "execution": {
     "iopub.execute_input": "2025-07-30T21:38:23.842451Z",
     "iopub.status.busy": "2025-07-30T21:38:23.841748Z",
     "iopub.status.idle": "2025-07-30T21:38:23.851260Z",
     "shell.execute_reply": "2025-07-30T21:38:23.850189Z"
    },
    "papermill": {
     "duration": 0.036532,
     "end_time": "2025-07-30T21:38:23.853371",
     "exception": false,
     "start_time": "2025-07-30T21:38:23.816839",
     "status": "completed"
    },
    "tags": []
   },
   "outputs": [
    {
     "data": {
      "text/plain": [
       "4"
      ]
     },
     "execution_count": 77,
     "metadata": {},
     "output_type": "execute_result"
    }
   ],
   "source": [
    "sub_universes = universe_analysis.generate_sub_universes()\n",
    "len(sub_universes)"
   ]
  },
  {
   "cell_type": "code",
   "execution_count": 78,
   "id": "92adf7ba",
   "metadata": {
    "execution": {
     "iopub.execute_input": "2025-07-30T21:38:23.924551Z",
     "iopub.status.busy": "2025-07-30T21:38:23.924003Z",
     "iopub.status.idle": "2025-07-30T21:38:23.930770Z",
     "shell.execute_reply": "2025-07-30T21:38:23.929859Z"
    },
    "papermill": {
     "duration": 0.040104,
     "end_time": "2025-07-30T21:38:23.932401",
     "exception": false,
     "start_time": "2025-07-30T21:38:23.892297",
     "status": "completed"
    },
    "tags": []
   },
   "outputs": [],
   "source": [
    "def filter_sub_universe_data(sub_universe, org_test):\n",
    "    # Keep all rows — no filtering\n",
    "    keep_rows_mask = np.ones(org_test.shape[0], dtype=bool)\n",
    "\n",
    "    print(f\"[INFO] Keeping all rows: {keep_rows_mask.sum()} rows retained.\")\n",
    "    return keep_rows_mask"
   ]
  },
  {
   "cell_type": "code",
   "execution_count": 79,
   "id": "4a759155",
   "metadata": {
    "execution": {
     "iopub.execute_input": "2025-07-30T21:38:23.979293Z",
     "iopub.status.busy": "2025-07-30T21:38:23.978869Z",
     "iopub.status.idle": "2025-07-30T21:38:33.136161Z",
     "shell.execute_reply": "2025-07-30T21:38:33.135064Z"
    },
    "papermill": {
     "duration": 9.177619,
     "end_time": "2025-07-30T21:38:33.137978",
     "exception": false,
     "start_time": "2025-07-30T21:38:23.960359",
     "status": "completed"
    },
    "tags": []
   },
   "outputs": [
    {
     "name": "stdout",
     "output_type": "stream",
     "text": [
      "Stopping execution_time clock.\n",
      "[INFO] Keeping all rows: 89710 rows retained.\n"
     ]
    },
    {
     "name": "stdout",
     "output_type": "stream",
     "text": [
      "[INFO] Keeping all rows: 89710 rows retained.\n"
     ]
    },
    {
     "name": "stdout",
     "output_type": "stream",
     "text": [
      "[INFO] Keeping all rows: 89710 rows retained.\n"
     ]
    },
    {
     "name": "stdout",
     "output_type": "stream",
     "text": [
      "[INFO] Keeping all rows: 89710 rows retained.\n"
     ]
    },
    {
     "data": {
      "text/html": [
       "<div>\n",
       "<style scoped>\n",
       "    .dataframe tbody tr th:only-of-type {\n",
       "        vertical-align: middle;\n",
       "    }\n",
       "\n",
       "    .dataframe tbody tr th {\n",
       "        vertical-align: top;\n",
       "    }\n",
       "\n",
       "    .dataframe thead th {\n",
       "        text-align: right;\n",
       "    }\n",
       "</style>\n",
       "<table border=\"1\" class=\"dataframe\">\n",
       "  <thead>\n",
       "    <tr style=\"text-align: right;\">\n",
       "      <th></th>\n",
       "      <th>run_no</th>\n",
       "      <th>universe_id</th>\n",
       "      <th>universe_settings</th>\n",
       "      <th>execution_time</th>\n",
       "      <th>test_size_n</th>\n",
       "      <th>test_size_frac</th>\n",
       "      <th>fair_main_equalized_odds_difference</th>\n",
       "      <th>fair_main_equalized_odds_ratio</th>\n",
       "      <th>fair_main_demographic_parity_difference</th>\n",
       "      <th>fair_main_demographic_parity_ratio</th>\n",
       "      <th>...</th>\n",
       "      <th>perf_grp_precision_0</th>\n",
       "      <th>perf_grp_precision_1</th>\n",
       "      <th>perf_grp_false positive rate_0</th>\n",
       "      <th>perf_grp_false positive rate_1</th>\n",
       "      <th>perf_grp_false negative rate_0</th>\n",
       "      <th>perf_grp_false negative rate_1</th>\n",
       "      <th>perf_grp_selection rate_0</th>\n",
       "      <th>perf_grp_selection rate_1</th>\n",
       "      <th>perf_grp_count_0</th>\n",
       "      <th>perf_grp_count_1</th>\n",
       "    </tr>\n",
       "  </thead>\n",
       "  <tbody>\n",
       "    <tr>\n",
       "      <th>0</th>\n",
       "      <td>14</td>\n",
       "      <td>6acb694263c600510b083b6c26bf1957</td>\n",
       "      <td>{\"cutoff\": \"quantile_0.1\", \"eval_fairness_grou...</td>\n",
       "      <td>30.6996</td>\n",
       "      <td>89710</td>\n",
       "      <td>1.0</td>\n",
       "      <td>0.060959</td>\n",
       "      <td>0.935052</td>\n",
       "      <td>0.055250</td>\n",
       "      <td>0.941386</td>\n",
       "      <td>...</td>\n",
       "      <td>NaN</td>\n",
       "      <td>NaN</td>\n",
       "      <td>NaN</td>\n",
       "      <td>NaN</td>\n",
       "      <td>NaN</td>\n",
       "      <td>NaN</td>\n",
       "      <td>NaN</td>\n",
       "      <td>NaN</td>\n",
       "      <td>NaN</td>\n",
       "      <td>NaN</td>\n",
       "    </tr>\n",
       "    <tr>\n",
       "      <th>0</th>\n",
       "      <td>14</td>\n",
       "      <td>6acb694263c600510b083b6c26bf1957</td>\n",
       "      <td>{\"cutoff\": \"quantile_0.1\", \"eval_fairness_grou...</td>\n",
       "      <td>30.6996</td>\n",
       "      <td>89710</td>\n",
       "      <td>1.0</td>\n",
       "      <td>0.060959</td>\n",
       "      <td>0.935052</td>\n",
       "      <td>0.055250</td>\n",
       "      <td>0.941386</td>\n",
       "      <td>...</td>\n",
       "      <td>0.119054</td>\n",
       "      <td>0.141647</td>\n",
       "      <td>0.938587</td>\n",
       "      <td>0.877628</td>\n",
       "      <td>0.026605</td>\n",
       "      <td>0.048796</td>\n",
       "      <td>0.942600</td>\n",
       "      <td>0.887350</td>\n",
       "      <td>20540.0</td>\n",
       "      <td>69170.0</td>\n",
       "    </tr>\n",
       "    <tr>\n",
       "      <th>0</th>\n",
       "      <td>14</td>\n",
       "      <td>6acb694263c600510b083b6c26bf1957</td>\n",
       "      <td>{\"cutoff\": \"quantile_0.25\", \"eval_fairness_gro...</td>\n",
       "      <td>30.6996</td>\n",
       "      <td>89710</td>\n",
       "      <td>1.0</td>\n",
       "      <td>0.146252</td>\n",
       "      <td>0.826555</td>\n",
       "      <td>0.133806</td>\n",
       "      <td>0.843165</td>\n",
       "      <td>...</td>\n",
       "      <td>NaN</td>\n",
       "      <td>NaN</td>\n",
       "      <td>NaN</td>\n",
       "      <td>NaN</td>\n",
       "      <td>NaN</td>\n",
       "      <td>NaN</td>\n",
       "      <td>NaN</td>\n",
       "      <td>NaN</td>\n",
       "      <td>NaN</td>\n",
       "      <td>NaN</td>\n",
       "    </tr>\n",
       "    <tr>\n",
       "      <th>0</th>\n",
       "      <td>14</td>\n",
       "      <td>6acb694263c600510b083b6c26bf1957</td>\n",
       "      <td>{\"cutoff\": \"quantile_0.25\", \"eval_fairness_gro...</td>\n",
       "      <td>30.6996</td>\n",
       "      <td>89710</td>\n",
       "      <td>1.0</td>\n",
       "      <td>0.146252</td>\n",
       "      <td>0.826555</td>\n",
       "      <td>0.133806</td>\n",
       "      <td>0.843165</td>\n",
       "      <td>...</td>\n",
       "      <td>0.125599</td>\n",
       "      <td>0.159150</td>\n",
       "      <td>0.843220</td>\n",
       "      <td>0.696968</td>\n",
       "      <td>0.070524</td>\n",
       "      <td>0.133589</td>\n",
       "      <td>0.853165</td>\n",
       "      <td>0.719358</td>\n",
       "      <td>20540.0</td>\n",
       "      <td>69170.0</td>\n",
       "    </tr>\n",
       "  </tbody>\n",
       "</table>\n",
       "<p>4 rows × 50 columns</p>\n",
       "</div>"
      ],
      "text/plain": [
       "  run_no                       universe_id  \\\n",
       "0     14  6acb694263c600510b083b6c26bf1957   \n",
       "0     14  6acb694263c600510b083b6c26bf1957   \n",
       "0     14  6acb694263c600510b083b6c26bf1957   \n",
       "0     14  6acb694263c600510b083b6c26bf1957   \n",
       "\n",
       "                                   universe_settings  execution_time  \\\n",
       "0  {\"cutoff\": \"quantile_0.1\", \"eval_fairness_grou...         30.6996   \n",
       "0  {\"cutoff\": \"quantile_0.1\", \"eval_fairness_grou...         30.6996   \n",
       "0  {\"cutoff\": \"quantile_0.25\", \"eval_fairness_gro...         30.6996   \n",
       "0  {\"cutoff\": \"quantile_0.25\", \"eval_fairness_gro...         30.6996   \n",
       "\n",
       "   test_size_n  test_size_frac  fair_main_equalized_odds_difference  \\\n",
       "0        89710             1.0                             0.060959   \n",
       "0        89710             1.0                             0.060959   \n",
       "0        89710             1.0                             0.146252   \n",
       "0        89710             1.0                             0.146252   \n",
       "\n",
       "   fair_main_equalized_odds_ratio  fair_main_demographic_parity_difference  \\\n",
       "0                        0.935052                                 0.055250   \n",
       "0                        0.935052                                 0.055250   \n",
       "0                        0.826555                                 0.133806   \n",
       "0                        0.826555                                 0.133806   \n",
       "\n",
       "   fair_main_demographic_parity_ratio  ...  perf_grp_precision_0  \\\n",
       "0                            0.941386  ...                   NaN   \n",
       "0                            0.941386  ...              0.119054   \n",
       "0                            0.843165  ...                   NaN   \n",
       "0                            0.843165  ...              0.125599   \n",
       "\n",
       "   perf_grp_precision_1  perf_grp_false positive rate_0  \\\n",
       "0                   NaN                             NaN   \n",
       "0              0.141647                        0.938587   \n",
       "0                   NaN                             NaN   \n",
       "0              0.159150                        0.843220   \n",
       "\n",
       "   perf_grp_false positive rate_1  perf_grp_false negative rate_0  \\\n",
       "0                             NaN                             NaN   \n",
       "0                        0.877628                        0.026605   \n",
       "0                             NaN                             NaN   \n",
       "0                        0.696968                        0.070524   \n",
       "\n",
       "   perf_grp_false negative rate_1  perf_grp_selection rate_0  \\\n",
       "0                             NaN                        NaN   \n",
       "0                        0.048796                   0.942600   \n",
       "0                             NaN                        NaN   \n",
       "0                        0.133589                   0.853165   \n",
       "\n",
       "   perf_grp_selection rate_1  perf_grp_count_0  perf_grp_count_1  \n",
       "0                        NaN               NaN               NaN  \n",
       "0                   0.887350           20540.0           69170.0  \n",
       "0                        NaN               NaN               NaN  \n",
       "0                   0.719358           20540.0           69170.0  \n",
       "\n",
       "[4 rows x 50 columns]"
      ]
     },
     "execution_count": 79,
     "metadata": {},
     "output_type": "execute_result"
    }
   ],
   "source": [
    "final_output = universe_analysis.generate_final_output(\n",
    "    y_pred_prob=probs_test,\n",
    "    y_test=y_true,\n",
    "    org_test=org_test,\n",
    "    filter_data=filter_sub_universe_data,\n",
    "    cp_metrics_df=cp_metrics_df,\n",
    "    save=True,\n",
    ")\n",
    "final_output"
   ]
  },
  {
   "cell_type": "code",
   "execution_count": null,
   "id": "721ff514-cb11-46f8-b6fc-50392f74b5cb",
   "metadata": {
    "papermill": {
     "duration": 0.028693,
     "end_time": "2025-07-30T21:38:33.201070",
     "exception": false,
     "start_time": "2025-07-30T21:38:33.172377",
     "status": "completed"
    },
    "tags": []
   },
   "outputs": [],
   "source": []
  }
 ],
 "metadata": {
  "celltoolbar": "Tags",
  "kernelspec": {
   "display_name": "Python (CMA Fairness)",
   "language": "python",
   "name": "cma_fair_env"
  },
  "language_info": {
   "codemirror_mode": {
    "name": "ipython",
    "version": 3
   },
   "file_extension": ".py",
   "mimetype": "text/x-python",
   "name": "python",
   "nbconvert_exporter": "python",
   "pygments_lexer": "ipython3",
   "version": "3.10.12"
  },
  "papermill": {
   "default_parameters": {},
   "duration": 44.173354,
   "end_time": "2025-07-30T21:38:34.152546",
   "environment_variables": {},
   "exception": null,
   "input_path": "universe_analysis.ipynb",
   "output_path": "output/runs/14/notebooks/m_14-6acb694263c600510b083b6c26bf1957.ipynb",
   "parameters": {
    "output_dir": "output",
    "run_no": "14",
    "seed": "2023",
    "universe": "{\"cutoff\": [\"quantile_0.1\", \"quantile_0.25\"], \"eval_fairness_grouping\": [\"majority-minority\", \"nationality-all\"], \"exclude_features\": \"age\", \"exclude_subgroups\": \"drop-non-german\", \"model\": \"elasticnet\", \"scale\": \"scale\", \"training_size\": \"1k\", \"training_year\": \"2012_14\"}",
    "universe_id": "6acb694263c600510b083b6c26bf1957"
   },
   "start_time": "2025-07-30T21:37:49.979192",
   "version": "2.6.0"
  }
 },
 "nbformat": 4,
 "nbformat_minor": 5
}