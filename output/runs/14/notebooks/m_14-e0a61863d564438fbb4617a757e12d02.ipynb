{
 "cells": [
  {
   "cell_type": "code",
   "execution_count": 1,
   "id": "f159f837-637b-42ba-96b5-ec9a68c44524",
   "metadata": {
    "execution": {
     "iopub.execute_input": "2025-07-30T21:50:54.814273Z",
     "iopub.status.busy": "2025-07-30T21:50:54.813320Z",
     "iopub.status.idle": "2025-07-30T21:50:54.827446Z",
     "shell.execute_reply": "2025-07-30T21:50:54.826455Z"
    },
    "papermill": {
     "duration": 0.037298,
     "end_time": "2025-07-30T21:50:54.829143",
     "exception": false,
     "start_time": "2025-07-30T21:50:54.791845",
     "status": "completed"
    },
    "tags": []
   },
   "outputs": [
    {
     "name": "stdout",
     "output_type": "stream",
     "text": [
      "/dss/dsshome1/0C/ra93lal2/cma/CMA_Fairness_v2\n"
     ]
    },
    {
     "name": "stderr",
     "output_type": "stream",
     "text": [
      "/dss/dsshome1/0C/ra93lal2/.local/share/virtualenvs/CMA_Fairness_v2-3j10GkSs/lib/python3.10/site-packages/IPython/core/magics/osm.py:393: UserWarning: This is now an optional IPython functionality, using bookmarks requires you to install the `pickleshare` library.\n",
      "  bkms = self.shell.db.get('bookmarks', {})\n",
      "/dss/dsshome1/0C/ra93lal2/.local/share/virtualenvs/CMA_Fairness_v2-3j10GkSs/lib/python3.10/site-packages/IPython/core/magics/osm.py:417: UserWarning: This is now an optional IPython functionality, setting dhist requires you to install the `pickleshare` library.\n",
      "  self.shell.db['dhist'] = compress_dhist(dhist)[-100:]\n"
     ]
    }
   ],
   "source": [
    "%cd ~/cma/CMA_Fairness_v2"
   ]
  },
  {
   "cell_type": "markdown",
   "id": "de2603b9",
   "metadata": {
    "papermill": {
     "duration": 0.019909,
     "end_time": "2025-07-30T21:50:54.869724",
     "exception": false,
     "start_time": "2025-07-30T21:50:54.849815",
     "status": "completed"
    },
    "tags": []
   },
   "source": [
    "The following cell holds the definition of our parameters, these values can be overriden by rendering the with e.g. the following command:\n",
    "\n",
    "papermill -p alpha 0.2 -p ratio 0.3 universe_analysis.ipynb output/test_run.ipynb"
   ]
  },
  {
   "cell_type": "code",
   "execution_count": 2,
   "id": "a80968a0-40bb-4fa9-85ef-2d5eefb01975",
   "metadata": {
    "execution": {
     "iopub.execute_input": "2025-07-30T21:50:54.910776Z",
     "iopub.status.busy": "2025-07-30T21:50:54.909892Z",
     "iopub.status.idle": "2025-07-30T21:50:54.915947Z",
     "shell.execute_reply": "2025-07-30T21:50:54.914751Z"
    },
    "papermill": {
     "duration": 0.028282,
     "end_time": "2025-07-30T21:50:54.917823",
     "exception": false,
     "start_time": "2025-07-30T21:50:54.889541",
     "status": "completed"
    },
    "tags": []
   },
   "outputs": [
    {
     "name": "stdout",
     "output_type": "stream",
     "text": [
      "Current working directory: /dss/dsshome1/0C/ra93lal2/cma/CMA_Fairness_v2\n"
     ]
    }
   ],
   "source": [
    "import os\n",
    "print(\"Current working directory:\", os.getcwd())"
   ]
  },
  {
   "cell_type": "code",
   "execution_count": 3,
   "id": "2dce4c03",
   "metadata": {
    "execution": {
     "iopub.execute_input": "2025-07-30T21:50:54.961765Z",
     "iopub.status.busy": "2025-07-30T21:50:54.960872Z",
     "iopub.status.idle": "2025-07-30T21:50:54.967565Z",
     "shell.execute_reply": "2025-07-30T21:50:54.966600Z"
    },
    "papermill": {
     "duration": 0.030188,
     "end_time": "2025-07-30T21:50:54.969479",
     "exception": false,
     "start_time": "2025-07-30T21:50:54.939291",
     "status": "completed"
    },
    "tags": [
     "parameters"
    ]
   },
   "outputs": [],
   "source": [
    "run_no = 0\n",
    "universe_id = \"test\"\n",
    "universe = {\n",
    "    \"training_size\": \"25k\", # \"25k\", \"5k\", \"1k\"\n",
    "    \"training_year\": \"2014\", # \"2014\", \"2012_14\", \"2010_14\"\n",
    "    \"scale\": \"scale\", # \"scale\", \"do-not-scale\",\n",
    "    #\"stratify_split\": \"target\", # \"none\", \"target\", \"protected-attribute\", \"both\",\n",
    "    \"model\": \"elasticnet\", # \"logreg\", \"penalized_logreg\", \"rf\", \"gbm\", \"elasticnet\"\n",
    "    \"cutoff\": [\"quantile_0.15\", \"quantile_0.30\"],\n",
    "    \"exclude_features\": \"age\", # \"none\", \"nationality\", \"sex\", \"nationality-sex\", \"age\"\n",
    "    \"exclude_subgroups\": \"keep-all\", # \"keep-all\", \"drop-non-german\"\n",
    "    \"eval_fairness_grouping\": [\"majority-minority\", \"nationality-all\"]\n",
    "}\n",
    "\n",
    "output_dir=\"./output\"\n",
    "seed=0"
   ]
  },
  {
   "cell_type": "code",
   "execution_count": 4,
   "id": "a4c5db15",
   "metadata": {
    "execution": {
     "iopub.execute_input": "2025-07-30T21:50:55.012231Z",
     "iopub.status.busy": "2025-07-30T21:50:55.011530Z",
     "iopub.status.idle": "2025-07-30T21:50:55.017182Z",
     "shell.execute_reply": "2025-07-30T21:50:55.016075Z"
    },
    "papermill": {
     "duration": 0.028955,
     "end_time": "2025-07-30T21:50:55.018999",
     "exception": false,
     "start_time": "2025-07-30T21:50:54.990044",
     "status": "completed"
    },
    "tags": [
     "injected-parameters"
    ]
   },
   "outputs": [],
   "source": [
    "# Parameters\n",
    "universe_id = \"e0a61863d564438fbb4617a757e12d02\"\n",
    "run_no = \"14\"\n",
    "universe = \"{\\\"cutoff\\\": [\\\"quantile_0.1\\\", \\\"quantile_0.25\\\"], \\\"eval_fairness_grouping\\\": [\\\"majority-minority\\\", \\\"nationality-all\\\"], \\\"exclude_features\\\": \\\"sex\\\", \\\"exclude_subgroups\\\": \\\"keep-all\\\", \\\"model\\\": \\\"rf\\\", \\\"scale\\\": \\\"do-not-scale\\\", \\\"training_size\\\": \\\"1k\\\", \\\"training_year\\\": \\\"2010_14\\\"}\"\n",
    "output_dir = \"output\"\n",
    "seed = \"2023\"\n"
   ]
  },
  {
   "cell_type": "code",
   "execution_count": 5,
   "id": "1650acaf",
   "metadata": {
    "execution": {
     "iopub.execute_input": "2025-07-30T21:50:55.062326Z",
     "iopub.status.busy": "2025-07-30T21:50:55.061676Z",
     "iopub.status.idle": "2025-07-30T21:50:55.066783Z",
     "shell.execute_reply": "2025-07-30T21:50:55.065678Z"
    },
    "papermill": {
     "duration": 0.028376,
     "end_time": "2025-07-30T21:50:55.068684",
     "exception": false,
     "start_time": "2025-07-30T21:50:55.040308",
     "status": "completed"
    },
    "tags": []
   },
   "outputs": [],
   "source": [
    "import json\n",
    "# Parse universe into dict if it is passed as a string\n",
    "if isinstance(universe, str):\n",
    "    universe = json.loads(universe)"
   ]
  },
  {
   "cell_type": "code",
   "execution_count": 6,
   "id": "16620c48",
   "metadata": {
    "execution": {
     "iopub.execute_input": "2025-07-30T21:50:55.112206Z",
     "iopub.status.busy": "2025-07-30T21:50:55.111501Z",
     "iopub.status.idle": "2025-07-30T21:50:55.158839Z",
     "shell.execute_reply": "2025-07-30T21:50:55.157955Z"
    },
    "papermill": {
     "duration": 0.071447,
     "end_time": "2025-07-30T21:50:55.161141",
     "exception": false,
     "start_time": "2025-07-30T21:50:55.089694",
     "status": "completed"
    },
    "tags": []
   },
   "outputs": [],
   "source": [
    "# Auto-reload the custom package\n",
    "%load_ext autoreload\n",
    "%autoreload 1\n",
    "%aimport fairness_multiverse"
   ]
  },
  {
   "cell_type": "code",
   "execution_count": 7,
   "id": "01c5c9f3",
   "metadata": {
    "execution": {
     "iopub.execute_input": "2025-07-30T21:50:55.220090Z",
     "iopub.status.busy": "2025-07-30T21:50:55.219532Z",
     "iopub.status.idle": "2025-07-30T21:50:56.982753Z",
     "shell.execute_reply": "2025-07-30T21:50:56.981984Z"
    },
    "papermill": {
     "duration": 1.79415,
     "end_time": "2025-07-30T21:50:56.984209",
     "exception": false,
     "start_time": "2025-07-30T21:50:55.190059",
     "status": "completed"
    },
    "tags": []
   },
   "outputs": [],
   "source": [
    "from fairness_multiverse.universe import UniverseAnalysis\n",
    "\n",
    "universe_analysis = UniverseAnalysis(\n",
    "    run_no = run_no,\n",
    "    universe_id = universe_id,\n",
    "    universe = universe,\n",
    "    output_dir=output_dir,\n",
    ")"
   ]
  },
  {
   "cell_type": "code",
   "execution_count": 8,
   "id": "106241f5",
   "metadata": {
    "execution": {
     "iopub.execute_input": "2025-07-30T21:50:57.020085Z",
     "iopub.status.busy": "2025-07-30T21:50:57.019624Z",
     "iopub.status.idle": "2025-07-30T21:50:57.025914Z",
     "shell.execute_reply": "2025-07-30T21:50:57.025030Z"
    },
    "papermill": {
     "duration": 0.029644,
     "end_time": "2025-07-30T21:50:57.027539",
     "exception": false,
     "start_time": "2025-07-30T21:50:56.997895",
     "status": "completed"
    },
    "tags": []
   },
   "outputs": [
    {
     "name": "stdout",
     "output_type": "stream",
     "text": [
      "Using Seed: 2023\n"
     ]
    }
   ],
   "source": [
    "import numpy as np\n",
    "parsed_seed = int(seed)\n",
    "np.random.seed(parsed_seed)\n",
    "print(f\"Using Seed: {parsed_seed}\")"
   ]
  },
  {
   "cell_type": "markdown",
   "id": "e0ebdc57",
   "metadata": {
    "papermill": {
     "duration": 0.01973,
     "end_time": "2025-07-30T21:50:57.068246",
     "exception": false,
     "start_time": "2025-07-30T21:50:57.048516",
     "status": "completed"
    },
    "tags": []
   },
   "source": [
    "# Loading Data"
   ]
  },
  {
   "cell_type": "markdown",
   "id": "681925a3",
   "metadata": {
    "papermill": {
     "duration": 0.010295,
     "end_time": "2025-07-30T21:50:57.112937",
     "exception": false,
     "start_time": "2025-07-30T21:50:57.102642",
     "status": "completed"
    },
    "tags": []
   },
   "source": [
    "Load siab_train, siab_test, siab_calib and/or \n",
    "load siab_train_features, siab_train_labels"
   ]
  },
  {
   "cell_type": "code",
   "execution_count": 9,
   "id": "f0496b8a",
   "metadata": {
    "execution": {
     "iopub.execute_input": "2025-07-30T21:50:57.134663Z",
     "iopub.status.busy": "2025-07-30T21:50:57.134313Z",
     "iopub.status.idle": "2025-07-30T21:51:07.789345Z",
     "shell.execute_reply": "2025-07-30T21:51:07.788217Z"
    },
    "papermill": {
     "duration": 10.668339,
     "end_time": "2025-07-30T21:51:07.791550",
     "exception": false,
     "start_time": "2025-07-30T21:50:57.123211",
     "status": "completed"
    },
    "tags": []
   },
   "outputs": [
    {
     "name": "stdout",
     "output_type": "stream",
     "text": [
      "Loading SIAB data from cache: data/siab_cached.csv.gz\n"
     ]
    },
    {
     "name": "stdout",
     "output_type": "stream",
     "text": [
      "(643690, 164)\n"
     ]
    }
   ],
   "source": [
    "from pathlib import Path\n",
    "import pandas as pd\n",
    "\n",
    "# File paths\n",
    "raw_file = Path(\"data/raw/siab.csv\")\n",
    "cache_file = Path(\"data/siab_cached.csv.gz\")\n",
    "\n",
    "# Ensure cache directory exists\n",
    "cache_file.parent.mkdir(parents=True, exist_ok=True)\n",
    "\n",
    "# Load with simple caching\n",
    "if cache_file.exists():\n",
    "    print(f\"Loading SIAB data from cache: {cache_file}\")\n",
    "    siab = pd.read_csv(cache_file, compression='gzip')\n",
    "else:\n",
    "    print(f\"Cache not found. Reading raw SIAB data: {raw_file}\")\n",
    "    siab = pd.read_csv(raw_file)\n",
    "    siab.to_csv(cache_file, index=False, compression='gzip')\n",
    "    print(f\"Cached SIAB data to: {cache_file}\")\n",
    "\n",
    "# Now use `siab` DataFrame as needed\n",
    "print(siab.shape)"
   ]
  },
  {
   "cell_type": "code",
   "execution_count": 10,
   "id": "db0ca512-5f53-4dba-abdb-a2888bca41ba",
   "metadata": {
    "execution": {
     "iopub.execute_input": "2025-07-30T21:51:07.859759Z",
     "iopub.status.busy": "2025-07-30T21:51:07.859282Z",
     "iopub.status.idle": "2025-07-30T21:51:07.864926Z",
     "shell.execute_reply": "2025-07-30T21:51:07.863782Z"
    },
    "papermill": {
     "duration": 0.049096,
     "end_time": "2025-07-30T21:51:07.876293",
     "exception": false,
     "start_time": "2025-07-30T21:51:07.827197",
     "status": "completed"
    },
    "tags": []
   },
   "outputs": [],
   "source": [
    "#siab"
   ]
  },
  {
   "cell_type": "code",
   "execution_count": 11,
   "id": "a0edb063",
   "metadata": {
    "execution": {
     "iopub.execute_input": "2025-07-30T21:51:07.941125Z",
     "iopub.status.busy": "2025-07-30T21:51:07.940665Z",
     "iopub.status.idle": "2025-07-30T21:51:07.946089Z",
     "shell.execute_reply": "2025-07-30T21:51:07.945082Z"
    },
    "papermill": {
     "duration": 0.040747,
     "end_time": "2025-07-30T21:51:07.948445",
     "exception": false,
     "start_time": "2025-07-30T21:51:07.907698",
     "status": "completed"
    },
    "tags": []
   },
   "outputs": [],
   "source": [
    "#import pandas as pd\n",
    "#\n",
    "#X_train = pd.read_csv(\"./data/X_train.csv\")\n",
    "#y_train = pd.read_csv(\"./data/y_train.csv\")"
   ]
  },
  {
   "cell_type": "code",
   "execution_count": 12,
   "id": "63d08085",
   "metadata": {
    "execution": {
     "iopub.execute_input": "2025-07-30T21:51:08.000386Z",
     "iopub.status.busy": "2025-07-30T21:51:07.999369Z",
     "iopub.status.idle": "2025-07-30T21:51:08.004981Z",
     "shell.execute_reply": "2025-07-30T21:51:08.003836Z"
    },
    "papermill": {
     "duration": 0.050393,
     "end_time": "2025-07-30T21:51:08.024527",
     "exception": false,
     "start_time": "2025-07-30T21:51:07.974134",
     "status": "completed"
    },
    "tags": []
   },
   "outputs": [],
   "source": [
    "#X_test = pd.read_csv(\"./data/X_test.csv\")\n",
    "#y_true = pd.read_csv(\"./data/y_test.csv\")"
   ]
  },
  {
   "cell_type": "code",
   "execution_count": 13,
   "id": "98a8d0fa-1d3d-4ed8-bb2c-281470e24add",
   "metadata": {
    "execution": {
     "iopub.execute_input": "2025-07-30T21:51:08.107554Z",
     "iopub.status.busy": "2025-07-30T21:51:08.107144Z",
     "iopub.status.idle": "2025-07-30T21:51:08.113059Z",
     "shell.execute_reply": "2025-07-30T21:51:08.111896Z"
    },
    "papermill": {
     "duration": 0.038272,
     "end_time": "2025-07-30T21:51:08.114803",
     "exception": false,
     "start_time": "2025-07-30T21:51:08.076531",
     "status": "completed"
    },
    "tags": []
   },
   "outputs": [],
   "source": [
    "# Calibration data for conformal\n",
    "#X_calib = pd.read_csv(\"./data/X_calib.csv\")\n",
    "#y_calib = pd.read_csv(\"./data/y_calib.csv\")"
   ]
  },
  {
   "cell_type": "markdown",
   "id": "997051c5-15bd-4b69-9786-c3001a3ce484",
   "metadata": {
    "papermill": {
     "duration": 0.021962,
     "end_time": "2025-07-30T21:51:08.172396",
     "exception": false,
     "start_time": "2025-07-30T21:51:08.150434",
     "status": "completed"
    },
    "tags": []
   },
   "source": [
    "# Splitting Data and Setting Training Data Size"
   ]
  },
  {
   "cell_type": "code",
   "execution_count": 14,
   "id": "e993b61f-042d-41a6-8c81-f55681f86335",
   "metadata": {
    "execution": {
     "iopub.execute_input": "2025-07-30T21:51:08.221861Z",
     "iopub.status.busy": "2025-07-30T21:51:08.221437Z",
     "iopub.status.idle": "2025-07-30T21:51:08.236282Z",
     "shell.execute_reply": "2025-07-30T21:51:08.235105Z"
    },
    "papermill": {
     "duration": 0.047852,
     "end_time": "2025-07-30T21:51:08.240201",
     "exception": false,
     "start_time": "2025-07-30T21:51:08.192349",
     "status": "completed"
    },
    "tags": []
   },
   "outputs": [],
   "source": [
    "def sample_by_year_size(df,\n",
    "                        training_year: str,\n",
    "                        training_size: str,\n",
    "                        random_state: int = 42):\n",
    "    # --- parse training_year into a list of int years ---\n",
    "    if \"_\" in training_year:\n",
    "        start_str, end_str = training_year.split(\"_\", 1)\n",
    "        start = int(start_str)\n",
    "        end   = int(end_str) if len(end_str) == 4 else (int(end_str) + (start // 100)*100)\n",
    "        years = list(range(start, end + 1))\n",
    "    else:\n",
    "        years = [int(training_year)]\n",
    "\n",
    "    df = df[df[\"year\"].isin(years)].reset_index(drop=True)\n",
    "\n",
    "    # --- map training_size to total number of samples ---\n",
    "    total_map = {\"25k\": 25_000, \"5k\": 5_000, \"1k\": 1_000}\n",
    "    if training_size not in total_map:\n",
    "        return df  # e.g. \"all\"\n",
    "\n",
    "    total_samples = total_map[training_size]\n",
    "    n_years       = len(years)\n",
    "    base          = total_samples // n_years\n",
    "    remainder     = total_samples % n_years\n",
    "\n",
    "    # --- build a dict: year -> how many to sample ---\n",
    "    # give +1 to the first `remainder` years in ascending order\n",
    "    quotas = {\n",
    "        year: base + (1 if idx < remainder else 0)\n",
    "        for idx, year in enumerate(sorted(years))\n",
    "    }\n",
    "\n",
    "    # --- sample per‐year according to the quota dict ---\n",
    "    sampled = (\n",
    "        df\n",
    "        .groupby(\"year\", group_keys=False)\n",
    "        .apply(lambda grp: grp.sample(\n",
    "            n=min(len(grp), quotas[grp.name]),\n",
    "            random_state=random_state))\n",
    "        .reset_index(drop=True)\n",
    "    )\n",
    "\n",
    "    return sampled"
   ]
  },
  {
   "cell_type": "code",
   "execution_count": 15,
   "id": "c0ccd338-0e02-41f3-a09d-f56f9266e3fb",
   "metadata": {
    "execution": {
     "iopub.execute_input": "2025-07-30T21:51:08.288971Z",
     "iopub.status.busy": "2025-07-30T21:51:08.288554Z",
     "iopub.status.idle": "2025-07-30T21:51:08.294438Z",
     "shell.execute_reply": "2025-07-30T21:51:08.293306Z"
    },
    "papermill": {
     "duration": 0.035639,
     "end_time": "2025-07-30T21:51:08.300730",
     "exception": false,
     "start_time": "2025-07-30T21:51:08.265091",
     "status": "completed"
    },
    "tags": []
   },
   "outputs": [],
   "source": [
    "#universe[\"training_size\"]"
   ]
  },
  {
   "cell_type": "code",
   "execution_count": 16,
   "id": "ca707fd7-8047-4acd-bfa5-66248fbbf8e6",
   "metadata": {
    "execution": {
     "iopub.execute_input": "2025-07-30T21:51:08.349627Z",
     "iopub.status.busy": "2025-07-30T21:51:08.349341Z",
     "iopub.status.idle": "2025-07-30T21:51:08.354474Z",
     "shell.execute_reply": "2025-07-30T21:51:08.353376Z"
    },
    "papermill": {
     "duration": 0.031649,
     "end_time": "2025-07-30T21:51:08.356590",
     "exception": false,
     "start_time": "2025-07-30T21:51:08.324941",
     "status": "completed"
    },
    "tags": []
   },
   "outputs": [],
   "source": [
    "#universe[\"training_year\"]"
   ]
  },
  {
   "cell_type": "code",
   "execution_count": 17,
   "id": "aea9c6ef-6f46-42c8-85eb-5a62025c1508",
   "metadata": {
    "execution": {
     "iopub.execute_input": "2025-07-30T21:51:08.383121Z",
     "iopub.status.busy": "2025-07-30T21:51:08.382604Z",
     "iopub.status.idle": "2025-07-30T21:51:09.468880Z",
     "shell.execute_reply": "2025-07-30T21:51:09.468139Z"
    },
    "papermill": {
     "duration": 1.100302,
     "end_time": "2025-07-30T21:51:09.470353",
     "exception": false,
     "start_time": "2025-07-30T21:51:08.370051",
     "status": "completed"
    },
    "tags": []
   },
   "outputs": [],
   "source": [
    "siab_train = sample_by_year_size(siab,\n",
    "                               training_year=universe[\"training_year\"],\n",
    "                               training_size=universe[\"training_size\"])"
   ]
  },
  {
   "cell_type": "code",
   "execution_count": 18,
   "id": "8d3afb32-789d-442c-8d5d-9f5aa8dd2eed",
   "metadata": {
    "execution": {
     "iopub.execute_input": "2025-07-30T21:51:09.500969Z",
     "iopub.status.busy": "2025-07-30T21:51:09.500619Z",
     "iopub.status.idle": "2025-07-30T21:51:09.504620Z",
     "shell.execute_reply": "2025-07-30T21:51:09.503865Z"
    },
    "papermill": {
     "duration": 0.022113,
     "end_time": "2025-07-30T21:51:09.505990",
     "exception": false,
     "start_time": "2025-07-30T21:51:09.483877",
     "status": "completed"
    },
    "tags": []
   },
   "outputs": [],
   "source": [
    "#siab_train.shape"
   ]
  },
  {
   "cell_type": "code",
   "execution_count": 19,
   "id": "d582db68-1a4c-47fb-84fc-08518dc1975a",
   "metadata": {
    "execution": {
     "iopub.execute_input": "2025-07-30T21:51:09.536473Z",
     "iopub.status.busy": "2025-07-30T21:51:09.535935Z",
     "iopub.status.idle": "2025-07-30T21:51:09.540263Z",
     "shell.execute_reply": "2025-07-30T21:51:09.539447Z"
    },
    "papermill": {
     "duration": 0.020379,
     "end_time": "2025-07-30T21:51:09.541480",
     "exception": false,
     "start_time": "2025-07-30T21:51:09.521101",
     "status": "completed"
    },
    "tags": []
   },
   "outputs": [],
   "source": [
    "#display(siab_train.groupby(\"year\").size())"
   ]
  },
  {
   "cell_type": "code",
   "execution_count": 20,
   "id": "a561edb4-d032-42cb-8256-22eac1111c64",
   "metadata": {
    "execution": {
     "iopub.execute_input": "2025-07-30T21:51:09.569269Z",
     "iopub.status.busy": "2025-07-30T21:51:09.568895Z",
     "iopub.status.idle": "2025-07-30T21:51:09.833471Z",
     "shell.execute_reply": "2025-07-30T21:51:09.832128Z"
    },
    "papermill": {
     "duration": 0.28153,
     "end_time": "2025-07-30T21:51:09.835883",
     "exception": false,
     "start_time": "2025-07-30T21:51:09.554353",
     "status": "completed"
    },
    "tags": []
   },
   "outputs": [],
   "source": [
    "#siab_train = siab_s[siab_s.year < 2015]\n",
    "siab_calib = siab[siab.year == 2015]\n",
    "siab_test = siab[siab.year == 2016]"
   ]
  },
  {
   "cell_type": "code",
   "execution_count": 21,
   "id": "472de16f-c3db-4916-846b-1f0de9cf1746",
   "metadata": {
    "execution": {
     "iopub.execute_input": "2025-07-30T21:51:09.913513Z",
     "iopub.status.busy": "2025-07-30T21:51:09.912780Z",
     "iopub.status.idle": "2025-07-30T21:51:09.919330Z",
     "shell.execute_reply": "2025-07-30T21:51:09.918505Z"
    },
    "papermill": {
     "duration": 0.03803,
     "end_time": "2025-07-30T21:51:09.921056",
     "exception": false,
     "start_time": "2025-07-30T21:51:09.883026",
     "status": "completed"
    },
    "tags": []
   },
   "outputs": [],
   "source": [
    "X_train = siab_train.iloc[:,4:164]\n",
    "y_train = siab_train.iloc[:, [3]]"
   ]
  },
  {
   "cell_type": "code",
   "execution_count": 22,
   "id": "828c96af-f43a-4ed6-ba47-8ac73a47d56c",
   "metadata": {
    "execution": {
     "iopub.execute_input": "2025-07-30T21:51:09.999144Z",
     "iopub.status.busy": "2025-07-30T21:51:09.998794Z",
     "iopub.status.idle": "2025-07-30T21:51:10.087676Z",
     "shell.execute_reply": "2025-07-30T21:51:10.086461Z"
    },
    "papermill": {
     "duration": 0.114375,
     "end_time": "2025-07-30T21:51:10.090152",
     "exception": false,
     "start_time": "2025-07-30T21:51:09.975777",
     "status": "completed"
    },
    "tags": []
   },
   "outputs": [],
   "source": [
    "X_calib = siab_calib.iloc[:,4:164]\n",
    "y_calib = siab_calib.iloc[:, [3]]"
   ]
  },
  {
   "cell_type": "code",
   "execution_count": 23,
   "id": "c34be9c3-6bd6-476e-acd3-845840e303be",
   "metadata": {
    "execution": {
     "iopub.execute_input": "2025-07-30T21:51:10.195109Z",
     "iopub.status.busy": "2025-07-30T21:51:10.194610Z",
     "iopub.status.idle": "2025-07-30T21:51:10.247014Z",
     "shell.execute_reply": "2025-07-30T21:51:10.245953Z"
    },
    "papermill": {
     "duration": 0.094709,
     "end_time": "2025-07-30T21:51:10.248791",
     "exception": false,
     "start_time": "2025-07-30T21:51:10.154082",
     "status": "completed"
    },
    "tags": []
   },
   "outputs": [],
   "source": [
    "X_test = siab_test.iloc[:,4:164]\n",
    "y_true = siab_test.iloc[:, [3]]"
   ]
  },
  {
   "cell_type": "markdown",
   "id": "9901737e-04df-44f0-9100-f5ad144ed040",
   "metadata": {
    "papermill": {
     "duration": 0.020415,
     "end_time": "2025-07-30T21:51:10.291315",
     "exception": false,
     "start_time": "2025-07-30T21:51:10.270900",
     "status": "completed"
    },
    "tags": []
   },
   "source": [
    "# Splitting Data and Setting Training Data Size OLD VERSION"
   ]
  },
  {
   "cell_type": "code",
   "execution_count": 24,
   "id": "acbc8f7d-8fc8-4e86-8c59-5dcb0f58384b",
   "metadata": {
    "execution": {
     "iopub.execute_input": "2025-07-30T21:51:10.338855Z",
     "iopub.status.busy": "2025-07-30T21:51:10.338346Z",
     "iopub.status.idle": "2025-07-30T21:51:10.344845Z",
     "shell.execute_reply": "2025-07-30T21:51:10.343782Z"
    },
    "papermill": {
     "duration": 0.032749,
     "end_time": "2025-07-30T21:51:10.346606",
     "exception": false,
     "start_time": "2025-07-30T21:51:10.313857",
     "status": "completed"
    },
    "tags": []
   },
   "outputs": [],
   "source": [
    "#def sample_by_year(df, training_size, random_state=42):\n",
    "#    if training_size == \"2014\":\n",
    "#        return df[df[\"year\"] == 2014].reset_index(drop=True)\n",
    "#    \n",
    "#    size_map = {\n",
    "#        \"25k\": 5000,\n",
    "#        \"5k\": 1000,\n",
    "#        \"1k\": 200\n",
    "#    }\n",
    "#\n",
    "#    if training_size not in size_map:\n",
    "#        return df.reset_index(drop=True)  # use all data\n",
    "#\n",
    "#    n_per_year = size_map[training_size]\n",
    "#    grouped = df.groupby(\"year\")\n",
    "#    sampled = grouped.apply(lambda x: x.sample(n=min(n_per_year, len(x)), random_state=random_state))\n",
    "#    return sampled.reset_index(drop=True)"
   ]
  },
  {
   "cell_type": "code",
   "execution_count": 25,
   "id": "6d931f52-beaf-43ff-9e78-9d44a448d54e",
   "metadata": {
    "execution": {
     "iopub.execute_input": "2025-07-30T21:51:10.431243Z",
     "iopub.status.busy": "2025-07-30T21:51:10.430786Z",
     "iopub.status.idle": "2025-07-30T21:51:10.437485Z",
     "shell.execute_reply": "2025-07-30T21:51:10.436592Z"
    },
    "papermill": {
     "duration": 0.065574,
     "end_time": "2025-07-30T21:51:10.439182",
     "exception": false,
     "start_time": "2025-07-30T21:51:10.373608",
     "status": "completed"
    },
    "tags": []
   },
   "outputs": [],
   "source": [
    "#siab_s = sample_by_year(siab, universe[\"training_size\"])"
   ]
  },
  {
   "cell_type": "code",
   "execution_count": 26,
   "id": "5db0a40e-a4e2-4920-be85-b12ae061d70d",
   "metadata": {
    "execution": {
     "iopub.execute_input": "2025-07-30T21:51:10.520503Z",
     "iopub.status.busy": "2025-07-30T21:51:10.519968Z",
     "iopub.status.idle": "2025-07-30T21:51:10.525559Z",
     "shell.execute_reply": "2025-07-30T21:51:10.524618Z"
    },
    "papermill": {
     "duration": 0.044366,
     "end_time": "2025-07-30T21:51:10.528022",
     "exception": false,
     "start_time": "2025-07-30T21:51:10.483656",
     "status": "completed"
    },
    "tags": []
   },
   "outputs": [],
   "source": [
    "#display(siab_s.groupby(\"year\").size())"
   ]
  },
  {
   "cell_type": "code",
   "execution_count": 27,
   "id": "e6c733c5",
   "metadata": {
    "execution": {
     "iopub.execute_input": "2025-07-30T21:51:10.582053Z",
     "iopub.status.busy": "2025-07-30T21:51:10.581564Z",
     "iopub.status.idle": "2025-07-30T21:51:10.690790Z",
     "shell.execute_reply": "2025-07-30T21:51:10.689733Z"
    },
    "papermill": {
     "duration": 0.139485,
     "end_time": "2025-07-30T21:51:10.693188",
     "exception": false,
     "start_time": "2025-07-30T21:51:10.553703",
     "status": "completed"
    },
    "tags": []
   },
   "outputs": [],
   "source": [
    "# Auxiliary data needed downstream in the pipeline\n",
    "\n",
    "org_train = X_train.copy()\n",
    "org_test = X_test.copy()\n",
    "org_calib = X_calib.copy()"
   ]
  },
  {
   "cell_type": "code",
   "execution_count": 28,
   "id": "1466abac-c6da-4492-a62f-4240ae3783af",
   "metadata": {
    "execution": {
     "iopub.execute_input": "2025-07-30T21:51:10.748482Z",
     "iopub.status.busy": "2025-07-30T21:51:10.747942Z",
     "iopub.status.idle": "2025-07-30T21:51:10.754832Z",
     "shell.execute_reply": "2025-07-30T21:51:10.753616Z"
    },
    "papermill": {
     "duration": 0.037982,
     "end_time": "2025-07-30T21:51:10.758409",
     "exception": false,
     "start_time": "2025-07-30T21:51:10.720427",
     "status": "completed"
    },
    "tags": []
   },
   "outputs": [],
   "source": [
    "# put in other script?\n",
    "# Group sizes\n",
    "\n",
    "#def calculate_percentages(df, df_name):\n",
    "#    total_entries = len(df)\n",
    "#\n",
    "#    female_pct = (df['frau1'] == 1).mean() * 100\n",
    "#    non_german_pct = ((df['maxdeutsch1'] == 0) & (df['maxdeutsch.Missing.'] == 0)).mean() * 100\n",
    "#    non_german_male_pct = ((df['frau1'] == 0) & (df['maxdeutsch1'] == 0) & (df['maxdeutsch.Missing.'] == 0)).mean() * 100\n",
    "#    non_german_female_pct = ((df['frau1'] == 1) & (df['maxdeutsch1'] == 0) & (df['maxdeutsch.Missing.'] == 0)).mean() * 100\n",
    "#\n",
    "#    print(f\"--- {df_name} ---\")\n",
    "#    print(f\"Female: {female_pct:.2f}%\")\n",
    "#    print(f\"Non-German: {non_german_pct:.2f}%\")\n",
    "#    print(f\"Non-German Male: {non_german_male_pct:.2f}%\")\n",
    "#    print(f\"Non-German Female: {non_german_female_pct:.2f}%\\n\")\n",
    "#\n",
    "## Calculate for each DataFrame\n",
    "#calculate_percentages(siab_calib, \"siab_calib\")\n",
    "#calculate_percentages(siab_test, \"siab_test\")\n",
    "#calculate_percentages(siab_train, \"siab_train\")"
   ]
  },
  {
   "cell_type": "markdown",
   "id": "0a4a1b33",
   "metadata": {
    "papermill": {
     "duration": 0.025244,
     "end_time": "2025-07-30T21:51:10.809738",
     "exception": false,
     "start_time": "2025-07-30T21:51:10.784494",
     "status": "completed"
    },
    "tags": []
   },
   "source": [
    "# Preprocessing Data"
   ]
  },
  {
   "cell_type": "code",
   "execution_count": 29,
   "id": "ca879031",
   "metadata": {
    "execution": {
     "iopub.execute_input": "2025-07-30T21:51:10.864354Z",
     "iopub.status.busy": "2025-07-30T21:51:10.863920Z",
     "iopub.status.idle": "2025-07-30T21:51:10.869865Z",
     "shell.execute_reply": "2025-07-30T21:51:10.869045Z"
    },
    "papermill": {
     "duration": 0.032651,
     "end_time": "2025-07-30T21:51:10.871347",
     "exception": false,
     "start_time": "2025-07-30T21:51:10.838696",
     "status": "completed"
    },
    "tags": []
   },
   "outputs": [],
   "source": [
    "# EXCLUDE PROTECTED FEATURES\n",
    "# ----------------------\n",
    "# \"exclude_features\": \"none\", # \"nationality\", \"sex\", \"nationality-sex\"\n",
    "\n",
    "excluded_features = universe[\"exclude_features\"].split(\"-\") # split, e.g.: \"nationality-sex\" -> [\"nationality\", \"sex\"]\n",
    "excluded_features_dictionary = {\n",
    "    \"nationality\": [\"maxdeutsch1\", \"maxdeutsch.Missing.\"],\n",
    "    \"sex\": [\"frau1\"],\n",
    "    \"age\": [\"age\"],\n",
    "}\n"
   ]
  },
  {
   "cell_type": "code",
   "execution_count": 30,
   "id": "b745ac60",
   "metadata": {
    "execution": {
     "iopub.execute_input": "2025-07-30T21:51:10.916968Z",
     "iopub.status.busy": "2025-07-30T21:51:10.916570Z",
     "iopub.status.idle": "2025-07-30T21:51:10.922250Z",
     "shell.execute_reply": "2025-07-30T21:51:10.921328Z"
    },
    "papermill": {
     "duration": 0.031532,
     "end_time": "2025-07-30T21:51:10.924044",
     "exception": false,
     "start_time": "2025-07-30T21:51:10.892512",
     "status": "completed"
    },
    "tags": []
   },
   "outputs": [],
   "source": [
    "# Code nice names to column names\n",
    "\n",
    "excluded_features_columns = [\n",
    "    excluded_features_dictionary[f] for f in excluded_features if len(f) > 0 and f != \"none\"\n",
    "]"
   ]
  },
  {
   "cell_type": "code",
   "execution_count": 31,
   "id": "f84f73a2",
   "metadata": {
    "execution": {
     "iopub.execute_input": "2025-07-30T21:51:11.009368Z",
     "iopub.status.busy": "2025-07-30T21:51:11.008976Z",
     "iopub.status.idle": "2025-07-30T21:51:11.014628Z",
     "shell.execute_reply": "2025-07-30T21:51:11.013911Z"
    },
    "papermill": {
     "duration": 0.050128,
     "end_time": "2025-07-30T21:51:11.016107",
     "exception": false,
     "start_time": "2025-07-30T21:51:10.965979",
     "status": "completed"
    },
    "tags": []
   },
   "outputs": [],
   "source": [
    "from utils import flatten_once\n",
    "\n",
    "excluded_features_columns = flatten_once(excluded_features_columns)"
   ]
  },
  {
   "cell_type": "code",
   "execution_count": 32,
   "id": "884dea22",
   "metadata": {
    "execution": {
     "iopub.execute_input": "2025-07-30T21:51:11.063363Z",
     "iopub.status.busy": "2025-07-30T21:51:11.062887Z",
     "iopub.status.idle": "2025-07-30T21:51:11.071870Z",
     "shell.execute_reply": "2025-07-30T21:51:11.071130Z"
    },
    "papermill": {
     "duration": 0.036329,
     "end_time": "2025-07-30T21:51:11.073200",
     "exception": false,
     "start_time": "2025-07-30T21:51:11.036871",
     "status": "completed"
    },
    "tags": []
   },
   "outputs": [
    {
     "name": "stdout",
     "output_type": "stream",
     "text": [
      "Dropping features: ['frau1']\n"
     ]
    }
   ],
   "source": [
    "if len(excluded_features_columns) > 0:\n",
    "    print(f\"Dropping features: {excluded_features_columns}\")\n",
    "    X_train.drop(excluded_features_columns, axis=1, inplace=True)"
   ]
  },
  {
   "cell_type": "code",
   "execution_count": 33,
   "id": "95ab8b16",
   "metadata": {
    "execution": {
     "iopub.execute_input": "2025-07-30T21:51:11.102014Z",
     "iopub.status.busy": "2025-07-30T21:51:11.101575Z",
     "iopub.status.idle": "2025-07-30T21:51:11.266797Z",
     "shell.execute_reply": "2025-07-30T21:51:11.265960Z"
    },
    "papermill": {
     "duration": 0.180784,
     "end_time": "2025-07-30T21:51:11.268181",
     "exception": false,
     "start_time": "2025-07-30T21:51:11.087397",
     "status": "completed"
    },
    "tags": []
   },
   "outputs": [
    {
     "name": "stdout",
     "output_type": "stream",
     "text": [
      "Dropping features: ['frau1']\n"
     ]
    }
   ],
   "source": [
    "if len(excluded_features_columns) > 0:\n",
    "    print(f\"Dropping features: {excluded_features_columns}\")\n",
    "    X_test.drop(excluded_features_columns, axis=1, inplace=True)"
   ]
  },
  {
   "cell_type": "code",
   "execution_count": 34,
   "id": "1853aaf5-fb9f-46cb-a2b5-8ea4ae2237e4",
   "metadata": {
    "execution": {
     "iopub.execute_input": "2025-07-30T21:51:11.297414Z",
     "iopub.status.busy": "2025-07-30T21:51:11.296893Z",
     "iopub.status.idle": "2025-07-30T21:51:11.333030Z",
     "shell.execute_reply": "2025-07-30T21:51:11.331884Z"
    },
    "papermill": {
     "duration": 0.053197,
     "end_time": "2025-07-30T21:51:11.334908",
     "exception": false,
     "start_time": "2025-07-30T21:51:11.281711",
     "status": "completed"
    },
    "tags": []
   },
   "outputs": [
    {
     "name": "stdout",
     "output_type": "stream",
     "text": [
      "Dropping features: ['frau1']\n"
     ]
    }
   ],
   "source": [
    "if len(excluded_features_columns) > 0:\n",
    "    print(f\"Dropping features: {excluded_features_columns}\")\n",
    "    X_calib.drop(excluded_features_columns, axis=1, inplace=True)"
   ]
  },
  {
   "cell_type": "code",
   "execution_count": 35,
   "id": "6727d079-03e5-481e-9d38-292a90b7a0a8",
   "metadata": {
    "execution": {
     "iopub.execute_input": "2025-07-30T21:51:11.396852Z",
     "iopub.status.busy": "2025-07-30T21:51:11.396464Z",
     "iopub.status.idle": "2025-07-30T21:51:11.409433Z",
     "shell.execute_reply": "2025-07-30T21:51:11.408321Z"
    },
    "papermill": {
     "duration": 0.045603,
     "end_time": "2025-07-30T21:51:11.418235",
     "exception": false,
     "start_time": "2025-07-30T21:51:11.372632",
     "status": "completed"
    },
    "tags": []
   },
   "outputs": [],
   "source": [
    "# SPLIT & STRATIFY DATA\n",
    "# ----------------------"
   ]
  },
  {
   "cell_type": "code",
   "execution_count": 36,
   "id": "76c4dc6d",
   "metadata": {
    "execution": {
     "iopub.execute_input": "2025-07-30T21:51:11.531454Z",
     "iopub.status.busy": "2025-07-30T21:51:11.531046Z",
     "iopub.status.idle": "2025-07-30T21:51:11.536993Z",
     "shell.execute_reply": "2025-07-30T21:51:11.536161Z"
    },
    "papermill": {
     "duration": 0.061126,
     "end_time": "2025-07-30T21:51:11.541432",
     "exception": false,
     "start_time": "2025-07-30T21:51:11.480306",
     "status": "completed"
    },
    "tags": []
   },
   "outputs": [],
   "source": [
    "# EXCLUDE CERTAIN SUBGROUPS\n",
    "# ----------------------\n",
    "\n",
    "mode = universe.get(\"exclude_subgroups\", \"keep-all\") \n",
    "# Fetches the exclude_subgroups setting from the universe dict.\n",
    "# Defaults to \"keep-all\" if the key is missing."
   ]
  },
  {
   "cell_type": "code",
   "execution_count": 37,
   "id": "21994072",
   "metadata": {
    "execution": {
     "iopub.execute_input": "2025-07-30T21:51:11.597740Z",
     "iopub.status.busy": "2025-07-30T21:51:11.597309Z",
     "iopub.status.idle": "2025-07-30T21:51:11.604887Z",
     "shell.execute_reply": "2025-07-30T21:51:11.603866Z"
    },
    "papermill": {
     "duration": 0.038547,
     "end_time": "2025-07-30T21:51:11.607042",
     "exception": false,
     "start_time": "2025-07-30T21:51:11.568495",
     "status": "completed"
    },
    "tags": []
   },
   "outputs": [],
   "source": [
    "if mode == \"keep-all\":\n",
    "    keep_mask = pd.Series(True, index=org_train.index)\n",
    "\n",
    "# org_train contains the original feature columns from features_org (in Simson)\n",
    "# features_org contains unprocessed features, for me X_train at beginning ???\n",
    "# For keep-all, creates a boolean Series (keep_mask) of all True, so no rows are removed.\n",
    "\n",
    "elif mode == \"drop-non-german\":\n",
    "    keep_mask = org_train[\"maxdeutsch1\"] == 1 # ??? what about missing values?\n",
    "\n",
    "else:\n",
    "    raise ValueError(f\"Unsupported mode for exclude_subgroups: {mode}\")\n"
   ]
  },
  {
   "cell_type": "code",
   "execution_count": 38,
   "id": "71651440",
   "metadata": {
    "execution": {
     "iopub.execute_input": "2025-07-30T21:51:11.670308Z",
     "iopub.status.busy": "2025-07-30T21:51:11.669871Z",
     "iopub.status.idle": "2025-07-30T21:51:11.678811Z",
     "shell.execute_reply": "2025-07-30T21:51:11.676488Z"
    },
    "papermill": {
     "duration": 0.048063,
     "end_time": "2025-07-30T21:51:11.681453",
     "exception": false,
     "start_time": "2025-07-30T21:51:11.633390",
     "status": "completed"
    },
    "tags": []
   },
   "outputs": [],
   "source": [
    "n_drop = (~keep_mask).sum() # Calculates how many rows are set to be dropped\n",
    "if n_drop > 0:\n",
    "    pct = n_drop / len(keep_mask) * 100\n",
    "    print(f\"Dropping {n_drop} rows ({pct:.2f}%) where mode='{mode}'\")"
   ]
  },
  {
   "cell_type": "code",
   "execution_count": 39,
   "id": "5fb8eee5",
   "metadata": {
    "execution": {
     "iopub.execute_input": "2025-07-30T21:51:11.737034Z",
     "iopub.status.busy": "2025-07-30T21:51:11.736606Z",
     "iopub.status.idle": "2025-07-30T21:51:11.742730Z",
     "shell.execute_reply": "2025-07-30T21:51:11.741719Z"
    },
    "papermill": {
     "duration": 0.031238,
     "end_time": "2025-07-30T21:51:11.745052",
     "exception": false,
     "start_time": "2025-07-30T21:51:11.713814",
     "status": "completed"
    },
    "tags": []
   },
   "outputs": [],
   "source": [
    "X_train = X_train[keep_mask]"
   ]
  },
  {
   "cell_type": "code",
   "execution_count": 40,
   "id": "b202bb3a",
   "metadata": {
    "execution": {
     "iopub.execute_input": "2025-07-30T21:51:11.835740Z",
     "iopub.status.busy": "2025-07-30T21:51:11.835395Z",
     "iopub.status.idle": "2025-07-30T21:51:11.840858Z",
     "shell.execute_reply": "2025-07-30T21:51:11.840079Z"
    },
    "papermill": {
     "duration": 0.070624,
     "end_time": "2025-07-30T21:51:11.842736",
     "exception": false,
     "start_time": "2025-07-30T21:51:11.772112",
     "status": "completed"
    },
    "tags": []
   },
   "outputs": [],
   "source": [
    "y_train = y_train[keep_mask]"
   ]
  },
  {
   "cell_type": "markdown",
   "id": "493e2ac3",
   "metadata": {
    "papermill": {
     "duration": 0.02554,
     "end_time": "2025-07-30T21:51:11.895065",
     "exception": false,
     "start_time": "2025-07-30T21:51:11.869525",
     "status": "completed"
    },
    "tags": []
   },
   "source": [
    "# Model Training"
   ]
  },
  {
   "cell_type": "code",
   "execution_count": 41,
   "id": "679e1268",
   "metadata": {
    "execution": {
     "iopub.execute_input": "2025-07-30T21:51:11.945221Z",
     "iopub.status.busy": "2025-07-30T21:51:11.944731Z",
     "iopub.status.idle": "2025-07-30T21:51:12.063271Z",
     "shell.execute_reply": "2025-07-30T21:51:12.062218Z"
    },
    "papermill": {
     "duration": 0.147886,
     "end_time": "2025-07-30T21:51:12.065454",
     "exception": false,
     "start_time": "2025-07-30T21:51:11.917568",
     "status": "completed"
    },
    "tags": []
   },
   "outputs": [],
   "source": [
    "from sklearn.linear_model import LogisticRegression\n",
    "from sklearn.ensemble import GradientBoostingClassifier, RandomForestClassifier\n",
    "\n",
    "if (universe[\"model\"] == \"logreg\"):\n",
    "    model = LogisticRegression() #penalty=\"none\") #, solver=\"newton-cg\", max_iter=1) # include random_state=19 ?\n",
    "elif (universe[\"model\"] == \"penalized_logreg\"):\n",
    "    model = LogisticRegression(penalty=\"l2\", C=1.0) #, solver=\"newton-cg\", max_iter=1)\n",
    "elif (universe[\"model\"] == \"rf\"):\n",
    "    model = RandomForestClassifier(n_estimators=100, n_jobs=-1)\n",
    "elif (universe[\"model\"] == \"gbm\"):\n",
    "    model = GradientBoostingClassifier()\n",
    "elif (universe[\"model\"] == \"elasticnet\"):\n",
    "    model = LogisticRegression(penalty = 'elasticnet', solver = 'saga', l1_ratio = 0.5, max_iter=5000) # which solver to use?\n",
    "else:\n",
    "    raise \"Unsupported universe.model\""
   ]
  },
  {
   "cell_type": "code",
   "execution_count": 42,
   "id": "0cc8f744",
   "metadata": {
    "execution": {
     "iopub.execute_input": "2025-07-30T21:51:12.121692Z",
     "iopub.status.busy": "2025-07-30T21:51:12.121284Z",
     "iopub.status.idle": "2025-07-30T21:51:12.128219Z",
     "shell.execute_reply": "2025-07-30T21:51:12.127080Z"
    },
    "papermill": {
     "duration": 0.034592,
     "end_time": "2025-07-30T21:51:12.130532",
     "exception": false,
     "start_time": "2025-07-30T21:51:12.095940",
     "status": "completed"
    },
    "tags": []
   },
   "outputs": [],
   "source": [
    "import numpy as np\n",
    "from sklearn.pipeline import Pipeline\n",
    "from sklearn.preprocessing import StandardScaler\n",
    "\n",
    "model = Pipeline([\n",
    "    #(\"continuous_processor\", continuous_processor),\n",
    "    #(\"categorical_preprocessor\", categorical_preprocessor),\n",
    "    (\"scale\", StandardScaler() if universe[\"scale\"] == \"scale\" else None), \n",
    "    (\"model\", model),\n",
    "])"
   ]
  },
  {
   "cell_type": "code",
   "execution_count": 43,
   "id": "9442c04d",
   "metadata": {
    "execution": {
     "iopub.execute_input": "2025-07-30T21:51:12.185161Z",
     "iopub.status.busy": "2025-07-30T21:51:12.184669Z",
     "iopub.status.idle": "2025-07-30T21:51:12.770883Z",
     "shell.execute_reply": "2025-07-30T21:51:12.770083Z"
    },
    "papermill": {
     "duration": 0.616992,
     "end_time": "2025-07-30T21:51:12.772642",
     "exception": false,
     "start_time": "2025-07-30T21:51:12.155650",
     "status": "completed"
    },
    "tags": []
   },
   "outputs": [
    {
     "data": {
      "text/html": [
       "<style>#sk-container-id-1 {color: black;background-color: white;}#sk-container-id-1 pre{padding: 0;}#sk-container-id-1 div.sk-toggleable {background-color: white;}#sk-container-id-1 label.sk-toggleable__label {cursor: pointer;display: block;width: 100%;margin-bottom: 0;padding: 0.3em;box-sizing: border-box;text-align: center;}#sk-container-id-1 label.sk-toggleable__label-arrow:before {content: \"▸\";float: left;margin-right: 0.25em;color: #696969;}#sk-container-id-1 label.sk-toggleable__label-arrow:hover:before {color: black;}#sk-container-id-1 div.sk-estimator:hover label.sk-toggleable__label-arrow:before {color: black;}#sk-container-id-1 div.sk-toggleable__content {max-height: 0;max-width: 0;overflow: hidden;text-align: left;background-color: #f0f8ff;}#sk-container-id-1 div.sk-toggleable__content pre {margin: 0.2em;color: black;border-radius: 0.25em;background-color: #f0f8ff;}#sk-container-id-1 input.sk-toggleable__control:checked~div.sk-toggleable__content {max-height: 200px;max-width: 100%;overflow: auto;}#sk-container-id-1 input.sk-toggleable__control:checked~label.sk-toggleable__label-arrow:before {content: \"▾\";}#sk-container-id-1 div.sk-estimator input.sk-toggleable__control:checked~label.sk-toggleable__label {background-color: #d4ebff;}#sk-container-id-1 div.sk-label input.sk-toggleable__control:checked~label.sk-toggleable__label {background-color: #d4ebff;}#sk-container-id-1 input.sk-hidden--visually {border: 0;clip: rect(1px 1px 1px 1px);clip: rect(1px, 1px, 1px, 1px);height: 1px;margin: -1px;overflow: hidden;padding: 0;position: absolute;width: 1px;}#sk-container-id-1 div.sk-estimator {font-family: monospace;background-color: #f0f8ff;border: 1px dotted black;border-radius: 0.25em;box-sizing: border-box;margin-bottom: 0.5em;}#sk-container-id-1 div.sk-estimator:hover {background-color: #d4ebff;}#sk-container-id-1 div.sk-parallel-item::after {content: \"\";width: 100%;border-bottom: 1px solid gray;flex-grow: 1;}#sk-container-id-1 div.sk-label:hover label.sk-toggleable__label {background-color: #d4ebff;}#sk-container-id-1 div.sk-serial::before {content: \"\";position: absolute;border-left: 1px solid gray;box-sizing: border-box;top: 0;bottom: 0;left: 50%;z-index: 0;}#sk-container-id-1 div.sk-serial {display: flex;flex-direction: column;align-items: center;background-color: white;padding-right: 0.2em;padding-left: 0.2em;position: relative;}#sk-container-id-1 div.sk-item {position: relative;z-index: 1;}#sk-container-id-1 div.sk-parallel {display: flex;align-items: stretch;justify-content: center;background-color: white;position: relative;}#sk-container-id-1 div.sk-item::before, #sk-container-id-1 div.sk-parallel-item::before {content: \"\";position: absolute;border-left: 1px solid gray;box-sizing: border-box;top: 0;bottom: 0;left: 50%;z-index: -1;}#sk-container-id-1 div.sk-parallel-item {display: flex;flex-direction: column;z-index: 1;position: relative;background-color: white;}#sk-container-id-1 div.sk-parallel-item:first-child::after {align-self: flex-end;width: 50%;}#sk-container-id-1 div.sk-parallel-item:last-child::after {align-self: flex-start;width: 50%;}#sk-container-id-1 div.sk-parallel-item:only-child::after {width: 0;}#sk-container-id-1 div.sk-dashed-wrapped {border: 1px dashed gray;margin: 0 0.4em 0.5em 0.4em;box-sizing: border-box;padding-bottom: 0.4em;background-color: white;}#sk-container-id-1 div.sk-label label {font-family: monospace;font-weight: bold;display: inline-block;line-height: 1.2em;}#sk-container-id-1 div.sk-label-container {text-align: center;}#sk-container-id-1 div.sk-container {/* jupyter's `normalize.less` sets `[hidden] { display: none; }` but bootstrap.min.css set `[hidden] { display: none !important; }` so we also need the `!important` here to be able to override the default hidden behavior on the sphinx rendered scikit-learn.org. See: https://github.com/scikit-learn/scikit-learn/issues/21755 */display: inline-block !important;position: relative;}#sk-container-id-1 div.sk-text-repr-fallback {display: none;}</style><div id=\"sk-container-id-1\" class=\"sk-top-container\"><div class=\"sk-text-repr-fallback\"><pre>Pipeline(steps=[(&#x27;scale&#x27;, None), (&#x27;model&#x27;, RandomForestClassifier(n_jobs=-1))])</pre><b>In a Jupyter environment, please rerun this cell to show the HTML representation or trust the notebook. <br />On GitHub, the HTML representation is unable to render, please try loading this page with nbviewer.org.</b></div><div class=\"sk-container\" hidden><div class=\"sk-item sk-dashed-wrapped\"><div class=\"sk-label-container\"><div class=\"sk-label sk-toggleable\"><input class=\"sk-toggleable__control sk-hidden--visually\" id=\"sk-estimator-id-1\" type=\"checkbox\" ><label for=\"sk-estimator-id-1\" class=\"sk-toggleable__label sk-toggleable__label-arrow\">Pipeline</label><div class=\"sk-toggleable__content\"><pre>Pipeline(steps=[(&#x27;scale&#x27;, None), (&#x27;model&#x27;, RandomForestClassifier(n_jobs=-1))])</pre></div></div></div><div class=\"sk-serial\"><div class=\"sk-item\"><div class=\"sk-estimator sk-toggleable\"><input class=\"sk-toggleable__control sk-hidden--visually\" id=\"sk-estimator-id-2\" type=\"checkbox\" ><label for=\"sk-estimator-id-2\" class=\"sk-toggleable__label sk-toggleable__label-arrow\">None</label><div class=\"sk-toggleable__content\"><pre>None</pre></div></div></div><div class=\"sk-item\"><div class=\"sk-estimator sk-toggleable\"><input class=\"sk-toggleable__control sk-hidden--visually\" id=\"sk-estimator-id-3\" type=\"checkbox\" ><label for=\"sk-estimator-id-3\" class=\"sk-toggleable__label sk-toggleable__label-arrow\">RandomForestClassifier</label><div class=\"sk-toggleable__content\"><pre>RandomForestClassifier(n_jobs=-1)</pre></div></div></div></div></div></div></div>"
      ],
      "text/plain": [
       "Pipeline(steps=[('scale', None), ('model', RandomForestClassifier(n_jobs=-1))])"
      ]
     },
     "execution_count": 43,
     "metadata": {},
     "output_type": "execute_result"
    }
   ],
   "source": [
    "model.fit(X_train, y_train.values.ravel())"
   ]
  },
  {
   "cell_type": "code",
   "execution_count": 44,
   "id": "af59f8c0",
   "metadata": {
    "execution": {
     "iopub.execute_input": "2025-07-30T21:51:12.871090Z",
     "iopub.status.busy": "2025-07-30T21:51:12.870676Z",
     "iopub.status.idle": "2025-07-30T21:51:12.876833Z",
     "shell.execute_reply": "2025-07-30T21:51:12.875583Z"
    },
    "papermill": {
     "duration": 0.060963,
     "end_time": "2025-07-30T21:51:12.883803",
     "exception": false,
     "start_time": "2025-07-30T21:51:12.822840",
     "status": "completed"
    },
    "tags": []
   },
   "outputs": [],
   "source": [
    "from fairness_multiverse.universe import predict_w_threshold"
   ]
  },
  {
   "cell_type": "code",
   "execution_count": 45,
   "id": "a7cf2e16",
   "metadata": {
    "execution": {
     "iopub.execute_input": "2025-07-30T21:51:12.948464Z",
     "iopub.status.busy": "2025-07-30T21:51:12.947934Z",
     "iopub.status.idle": "2025-07-30T21:51:13.902127Z",
     "shell.execute_reply": "2025-07-30T21:51:13.901287Z"
    },
    "papermill": {
     "duration": 0.980009,
     "end_time": "2025-07-30T21:51:13.903947",
     "exception": false,
     "start_time": "2025-07-30T21:51:12.923938",
     "status": "completed"
    },
    "tags": []
   },
   "outputs": [
    {
     "data": {
      "text/plain": [
       "0.861241779065879"
      ]
     },
     "execution_count": 45,
     "metadata": {},
     "output_type": "execute_result"
    }
   ],
   "source": [
    "probs_test = model.predict_proba(X_test)\n",
    "\n",
    "'''\n",
    "Below code returns a boolean array (or binary 0/1 array depending on how it’s used) where each element \n",
    "is True if the probability of class 1 is greater than or equal to the threshold, and False otherwise.\n",
    "'''\n",
    "y_pred_default = predict_w_threshold(probs_test, 0.5)\n",
    "\n",
    "from sklearn.metrics import accuracy_score\n",
    "\n",
    "# Naive prediction\n",
    "accuracy_score(y_true = y_true, y_pred = y_pred_default)"
   ]
  },
  {
   "cell_type": "code",
   "execution_count": 46,
   "id": "081964c3",
   "metadata": {
    "execution": {
     "iopub.execute_input": "2025-07-30T21:51:13.957102Z",
     "iopub.status.busy": "2025-07-30T21:51:13.956581Z",
     "iopub.status.idle": "2025-07-30T21:51:14.691606Z",
     "shell.execute_reply": "2025-07-30T21:51:14.690772Z"
    },
    "papermill": {
     "duration": 0.761883,
     "end_time": "2025-07-30T21:51:14.693160",
     "exception": false,
     "start_time": "2025-07-30T21:51:13.931277",
     "status": "completed"
    },
    "tags": []
   },
   "outputs": [
    {
     "data": {
      "text/plain": [
       "array([0, 0, 0, ..., 0, 0, 0])"
      ]
     },
     "execution_count": 46,
     "metadata": {},
     "output_type": "execute_result"
    }
   ],
   "source": [
    "model.predict(X_test)"
   ]
  },
  {
   "cell_type": "markdown",
   "id": "56c9705b",
   "metadata": {
    "papermill": {
     "duration": 0.024621,
     "end_time": "2025-07-30T21:51:14.759738",
     "exception": false,
     "start_time": "2025-07-30T21:51:14.735117",
     "status": "completed"
    },
    "tags": []
   },
   "source": [
    "# Conformal Prediction"
   ]
  },
  {
   "cell_type": "code",
   "execution_count": 47,
   "id": "160ec6ff",
   "metadata": {
    "execution": {
     "iopub.execute_input": "2025-07-30T21:51:14.816147Z",
     "iopub.status.busy": "2025-07-30T21:51:14.814975Z",
     "iopub.status.idle": "2025-07-30T21:51:14.821638Z",
     "shell.execute_reply": "2025-07-30T21:51:14.820428Z"
    },
    "papermill": {
     "duration": 0.040568,
     "end_time": "2025-07-30T21:51:14.824576",
     "exception": false,
     "start_time": "2025-07-30T21:51:14.784008",
     "status": "completed"
    },
    "tags": []
   },
   "outputs": [],
   "source": [
    "# Miscoverage level for conformal prediction (10% allowed error rate => 90% target coverage)\n",
    "alpha = 0.1"
   ]
  },
  {
   "cell_type": "code",
   "execution_count": 48,
   "id": "eadf4555-3dd3-440e-8e35-f82a4ad9f855",
   "metadata": {
    "execution": {
     "iopub.execute_input": "2025-07-30T21:51:14.884783Z",
     "iopub.status.busy": "2025-07-30T21:51:14.884375Z",
     "iopub.status.idle": "2025-07-30T21:51:15.685475Z",
     "shell.execute_reply": "2025-07-30T21:51:15.684519Z"
    },
    "papermill": {
     "duration": 0.833854,
     "end_time": "2025-07-30T21:51:15.687950",
     "exception": false,
     "start_time": "2025-07-30T21:51:14.854096",
     "status": "completed"
    },
    "tags": []
   },
   "outputs": [],
   "source": [
    "probs_calib = model.predict_proba(X_calib)"
   ]
  },
  {
   "cell_type": "code",
   "execution_count": 49,
   "id": "2ed93547-6d5d-4983-9b36-1ecb300da49a",
   "metadata": {
    "execution": {
     "iopub.execute_input": "2025-07-30T21:51:15.751622Z",
     "iopub.status.busy": "2025-07-30T21:51:15.751118Z",
     "iopub.status.idle": "2025-07-30T21:51:15.757353Z",
     "shell.execute_reply": "2025-07-30T21:51:15.756258Z"
    },
    "papermill": {
     "duration": 0.043124,
     "end_time": "2025-07-30T21:51:15.760812",
     "exception": false,
     "start_time": "2025-07-30T21:51:15.717688",
     "status": "completed"
    },
    "tags": []
   },
   "outputs": [],
   "source": [
    "y_calib = y_calib.values.ravel().astype(int)"
   ]
  },
  {
   "cell_type": "code",
   "execution_count": 50,
   "id": "65d1320d-f588-4b38-9072-62af1ae97f7d",
   "metadata": {
    "execution": {
     "iopub.execute_input": "2025-07-30T21:51:15.824799Z",
     "iopub.status.busy": "2025-07-30T21:51:15.824371Z",
     "iopub.status.idle": "2025-07-30T21:51:15.831346Z",
     "shell.execute_reply": "2025-07-30T21:51:15.830464Z"
    },
    "papermill": {
     "duration": 0.043304,
     "end_time": "2025-07-30T21:51:15.833822",
     "exception": false,
     "start_time": "2025-07-30T21:51:15.790518",
     "status": "completed"
    },
    "tags": []
   },
   "outputs": [],
   "source": [
    "from fairness_multiverse.conformal import compute_nc_scores\n",
    "\n",
    "# Compute nonconformity scores on calibration set (1 - probability of true class)\n",
    "nc_scores = compute_nc_scores(probs_calib, y_calib)"
   ]
  },
  {
   "cell_type": "code",
   "execution_count": 51,
   "id": "df3b8ca3-53b7-43d5-9667-7c85da7aeda2",
   "metadata": {
    "execution": {
     "iopub.execute_input": "2025-07-30T21:51:15.885724Z",
     "iopub.status.busy": "2025-07-30T21:51:15.885238Z",
     "iopub.status.idle": "2025-07-30T21:51:15.893343Z",
     "shell.execute_reply": "2025-07-30T21:51:15.892419Z"
    },
    "papermill": {
     "duration": 0.038735,
     "end_time": "2025-07-30T21:51:15.896019",
     "exception": false,
     "start_time": "2025-07-30T21:51:15.857284",
     "status": "completed"
    },
    "tags": []
   },
   "outputs": [],
   "source": [
    "from fairness_multiverse.conformal import find_threshold\n",
    "\n",
    "# Find conformal threshold q_hat for the given alpha (split conformal method)\n",
    "q_hat = find_threshold(nc_scores, alpha)"
   ]
  },
  {
   "cell_type": "code",
   "execution_count": 52,
   "id": "4d29e6c1-0ef6-4aa4-b8fe-4fe79b0d033a",
   "metadata": {
    "execution": {
     "iopub.execute_input": "2025-07-30T21:51:16.004536Z",
     "iopub.status.busy": "2025-07-30T21:51:16.004078Z",
     "iopub.status.idle": "2025-07-30T21:51:16.012082Z",
     "shell.execute_reply": "2025-07-30T21:51:16.010977Z"
    },
    "papermill": {
     "duration": 0.06192,
     "end_time": "2025-07-30T21:51:16.015912",
     "exception": false,
     "start_time": "2025-07-30T21:51:15.953992",
     "status": "completed"
    },
    "tags": []
   },
   "outputs": [
    {
     "data": {
      "text/plain": [
       "0.65"
      ]
     },
     "execution_count": 52,
     "metadata": {},
     "output_type": "execute_result"
    }
   ],
   "source": [
    "q_hat"
   ]
  },
  {
   "cell_type": "code",
   "execution_count": 53,
   "id": "92460794-cdac-4be2-ba28-f28c0515a6fb",
   "metadata": {
    "execution": {
     "iopub.execute_input": "2025-07-30T21:51:16.139023Z",
     "iopub.status.busy": "2025-07-30T21:51:16.138597Z",
     "iopub.status.idle": "2025-07-30T21:51:17.699179Z",
     "shell.execute_reply": "2025-07-30T21:51:17.698171Z"
    },
    "papermill": {
     "duration": 1.620716,
     "end_time": "2025-07-30T21:51:17.701338",
     "exception": false,
     "start_time": "2025-07-30T21:51:16.080622",
     "status": "completed"
    },
    "tags": []
   },
   "outputs": [],
   "source": [
    "from fairness_multiverse.conformal import predict_conformal_sets\n",
    "\n",
    "# Generate prediction sets for each test example\n",
    "pred_sets = predict_conformal_sets(model, X_test, q_hat)"
   ]
  },
  {
   "cell_type": "code",
   "execution_count": 54,
   "id": "d90c9a65-e6db-4f5d-80cd-e68fb7e46829",
   "metadata": {
    "execution": {
     "iopub.execute_input": "2025-07-30T21:51:17.750703Z",
     "iopub.status.busy": "2025-07-30T21:51:17.750164Z",
     "iopub.status.idle": "2025-07-30T21:51:17.755711Z",
     "shell.execute_reply": "2025-07-30T21:51:17.754718Z"
    },
    "papermill": {
     "duration": 0.032622,
     "end_time": "2025-07-30T21:51:17.757406",
     "exception": false,
     "start_time": "2025-07-30T21:51:17.724784",
     "status": "completed"
    },
    "tags": []
   },
   "outputs": [],
   "source": [
    "y_true = y_true.squeeze()"
   ]
  },
  {
   "cell_type": "code",
   "execution_count": 55,
   "id": "3a58a54a-1e68-46b9-927a-df01f18aebc8",
   "metadata": {
    "execution": {
     "iopub.execute_input": "2025-07-30T21:51:17.808829Z",
     "iopub.status.busy": "2025-07-30T21:51:17.807824Z",
     "iopub.status.idle": "2025-07-30T21:51:18.734553Z",
     "shell.execute_reply": "2025-07-30T21:51:18.733394Z"
    },
    "papermill": {
     "duration": 0.953657,
     "end_time": "2025-07-30T21:51:18.736316",
     "exception": false,
     "start_time": "2025-07-30T21:51:17.782659",
     "status": "completed"
    },
    "tags": []
   },
   "outputs": [],
   "source": [
    "from fairness_multiverse.conformal import evaluate_sets\n",
    "\n",
    "# Evaluate coverage and average set size on test data\n",
    "metrics = evaluate_sets(pred_sets, y_true)"
   ]
  },
  {
   "cell_type": "markdown",
   "id": "2b569c12-9aaa-4c88-98c9-bbcd0cf3ebb8",
   "metadata": {
    "papermill": {
     "duration": 0.024689,
     "end_time": "2025-07-30T21:51:18.785060",
     "exception": false,
     "start_time": "2025-07-30T21:51:18.760371",
     "status": "completed"
    },
    "tags": []
   },
   "source": [
    "# CP Metrics"
   ]
  },
  {
   "cell_type": "code",
   "execution_count": 56,
   "id": "5ce0a5cb-201f-45a0-ade5-94c7f0bd6095",
   "metadata": {
    "execution": {
     "iopub.execute_input": "2025-07-30T21:51:18.834227Z",
     "iopub.status.busy": "2025-07-30T21:51:18.833699Z",
     "iopub.status.idle": "2025-07-30T21:51:18.847454Z",
     "shell.execute_reply": "2025-07-30T21:51:18.846215Z"
    },
    "papermill": {
     "duration": 0.040416,
     "end_time": "2025-07-30T21:51:18.848995",
     "exception": false,
     "start_time": "2025-07-30T21:51:18.808579",
     "status": "completed"
    },
    "tags": []
   },
   "outputs": [
    {
     "data": {
      "text/plain": [
       "{'coverage': 0.9125961431278564, 'avg_size': 1.1458588786088508}"
      ]
     },
     "execution_count": 56,
     "metadata": {},
     "output_type": "execute_result"
    }
   ],
   "source": [
    "metrics"
   ]
  },
  {
   "cell_type": "code",
   "execution_count": 57,
   "id": "9b9a838d-31c9-430b-ae14-12baee460d17",
   "metadata": {
    "execution": {
     "iopub.execute_input": "2025-07-30T21:51:18.900484Z",
     "iopub.status.busy": "2025-07-30T21:51:18.899785Z",
     "iopub.status.idle": "2025-07-30T21:51:18.907818Z",
     "shell.execute_reply": "2025-07-30T21:51:18.905981Z"
    },
    "papermill": {
     "duration": 0.037125,
     "end_time": "2025-07-30T21:51:18.911169",
     "exception": false,
     "start_time": "2025-07-30T21:51:18.874044",
     "status": "completed"
    },
    "tags": []
   },
   "outputs": [],
   "source": [
    "example_universe = universe.copy()\n",
    "universe_training_year = example_universe.get(\"training_year\")\n",
    "universe_training_size = example_universe.get(\"training_size\")\n",
    "universe_scale = example_universe.get(\"scale\")\n",
    "universe_model = example_universe.get(\"model\")\n",
    "universe_exclude_features = example_universe.get(\"exclude_features\")\n",
    "universe_exclude_subgroups = example_universe.get(\"exclude_subgroups\")"
   ]
  },
  {
   "cell_type": "code",
   "execution_count": 58,
   "id": "f4b6a8ac-9dc0-4245-8a91-5b3b5999c4f9",
   "metadata": {
    "execution": {
     "iopub.execute_input": "2025-07-30T21:51:18.961912Z",
     "iopub.status.busy": "2025-07-30T21:51:18.960995Z",
     "iopub.status.idle": "2025-07-30T21:51:18.968246Z",
     "shell.execute_reply": "2025-07-30T21:51:18.967131Z"
    },
    "papermill": {
     "duration": 0.034129,
     "end_time": "2025-07-30T21:51:18.970052",
     "exception": false,
     "start_time": "2025-07-30T21:51:18.935923",
     "status": "completed"
    },
    "tags": []
   },
   "outputs": [],
   "source": [
    "cp_metrics_dict = {\n",
    "    \"universe_id\": [universe_id],\n",
    "    \"universe_training_year\": [universe_training_year],\n",
    "    \"universe_training_size\": [universe_training_size],\n",
    "    \"universe_scale\": [universe_scale],\n",
    "    \"universe_model\": [universe_model],\n",
    "    \"universe_exclude_features\": [universe_exclude_features],\n",
    "    \"universe_exclude_subgroups\": [universe_exclude_subgroups],\n",
    "    \"q_hat\": [q_hat],\n",
    "    \"coverage\": [metrics[\"coverage\"]],\n",
    "    \"avg_size\": [metrics[\"avg_size\"]],\n",
    "}"
   ]
  },
  {
   "cell_type": "code",
   "execution_count": 59,
   "id": "908acbb1-0371-4915-85ca-3fa520d2efe2",
   "metadata": {
    "execution": {
     "iopub.execute_input": "2025-07-30T21:51:19.020056Z",
     "iopub.status.busy": "2025-07-30T21:51:19.019252Z",
     "iopub.status.idle": "2025-07-30T21:51:19.027065Z",
     "shell.execute_reply": "2025-07-30T21:51:19.026121Z"
    },
    "papermill": {
     "duration": 0.033612,
     "end_time": "2025-07-30T21:51:19.028639",
     "exception": false,
     "start_time": "2025-07-30T21:51:18.995027",
     "status": "completed"
    },
    "tags": []
   },
   "outputs": [
    {
     "data": {
      "text/plain": [
       "{'universe_id': ['e0a61863d564438fbb4617a757e12d02'],\n",
       " 'universe_training_year': ['2010_14'],\n",
       " 'universe_training_size': ['1k'],\n",
       " 'universe_scale': ['do-not-scale'],\n",
       " 'universe_model': ['rf'],\n",
       " 'universe_exclude_features': ['sex'],\n",
       " 'universe_exclude_subgroups': ['keep-all'],\n",
       " 'q_hat': [0.65],\n",
       " 'coverage': [0.9125961431278564],\n",
       " 'avg_size': [1.1458588786088508]}"
      ]
     },
     "execution_count": 59,
     "metadata": {},
     "output_type": "execute_result"
    }
   ],
   "source": [
    "cp_metrics_dict"
   ]
  },
  {
   "cell_type": "code",
   "execution_count": 60,
   "id": "33007efc-14e9-4ec6-97ac-56a455c82265",
   "metadata": {
    "execution": {
     "iopub.execute_input": "2025-07-30T21:51:19.079890Z",
     "iopub.status.busy": "2025-07-30T21:51:19.078758Z",
     "iopub.status.idle": "2025-07-30T21:51:19.084658Z",
     "shell.execute_reply": "2025-07-30T21:51:19.083869Z"
    },
    "papermill": {
     "duration": 0.032444,
     "end_time": "2025-07-30T21:51:19.086013",
     "exception": false,
     "start_time": "2025-07-30T21:51:19.053569",
     "status": "completed"
    },
    "tags": []
   },
   "outputs": [],
   "source": [
    "cp_metrics_df = pd.DataFrame(cp_metrics_dict)"
   ]
  },
  {
   "cell_type": "code",
   "execution_count": 61,
   "id": "db12611b-57b2-4910-b9d0-355adfd6e7bf",
   "metadata": {
    "execution": {
     "iopub.execute_input": "2025-07-30T21:51:19.114595Z",
     "iopub.status.busy": "2025-07-30T21:51:19.114089Z",
     "iopub.status.idle": "2025-07-30T21:51:19.128592Z",
     "shell.execute_reply": "2025-07-30T21:51:19.127816Z"
    },
    "papermill": {
     "duration": 0.029817,
     "end_time": "2025-07-30T21:51:19.130000",
     "exception": false,
     "start_time": "2025-07-30T21:51:19.100183",
     "status": "completed"
    },
    "tags": []
   },
   "outputs": [
    {
     "data": {
      "text/html": [
       "<div>\n",
       "<style scoped>\n",
       "    .dataframe tbody tr th:only-of-type {\n",
       "        vertical-align: middle;\n",
       "    }\n",
       "\n",
       "    .dataframe tbody tr th {\n",
       "        vertical-align: top;\n",
       "    }\n",
       "\n",
       "    .dataframe thead th {\n",
       "        text-align: right;\n",
       "    }\n",
       "</style>\n",
       "<table border=\"1\" class=\"dataframe\">\n",
       "  <thead>\n",
       "    <tr style=\"text-align: right;\">\n",
       "      <th></th>\n",
       "      <th>universe_id</th>\n",
       "      <th>universe_training_year</th>\n",
       "      <th>universe_training_size</th>\n",
       "      <th>universe_scale</th>\n",
       "      <th>universe_model</th>\n",
       "      <th>universe_exclude_features</th>\n",
       "      <th>universe_exclude_subgroups</th>\n",
       "      <th>q_hat</th>\n",
       "      <th>coverage</th>\n",
       "      <th>avg_size</th>\n",
       "    </tr>\n",
       "  </thead>\n",
       "  <tbody>\n",
       "    <tr>\n",
       "      <th>0</th>\n",
       "      <td>e0a61863d564438fbb4617a757e12d02</td>\n",
       "      <td>2010_14</td>\n",
       "      <td>1k</td>\n",
       "      <td>do-not-scale</td>\n",
       "      <td>rf</td>\n",
       "      <td>sex</td>\n",
       "      <td>keep-all</td>\n",
       "      <td>0.65</td>\n",
       "      <td>0.912596</td>\n",
       "      <td>1.145859</td>\n",
       "    </tr>\n",
       "  </tbody>\n",
       "</table>\n",
       "</div>"
      ],
      "text/plain": [
       "                        universe_id universe_training_year  \\\n",
       "0  e0a61863d564438fbb4617a757e12d02                2010_14   \n",
       "\n",
       "  universe_training_size universe_scale universe_model  \\\n",
       "0                     1k   do-not-scale             rf   \n",
       "\n",
       "  universe_exclude_features universe_exclude_subgroups  q_hat  coverage  \\\n",
       "0                       sex                   keep-all   0.65  0.912596   \n",
       "\n",
       "   avg_size  \n",
       "0  1.145859  "
      ]
     },
     "execution_count": 61,
     "metadata": {},
     "output_type": "execute_result"
    }
   ],
   "source": [
    "cp_metrics_df"
   ]
  },
  {
   "cell_type": "code",
   "execution_count": 62,
   "id": "b7fbde55-a0a1-47e4-9af6-fe4a17fa8c61",
   "metadata": {
    "execution": {
     "iopub.execute_input": "2025-07-30T21:51:19.170417Z",
     "iopub.status.busy": "2025-07-30T21:51:19.169772Z",
     "iopub.status.idle": "2025-07-30T21:51:19.175087Z",
     "shell.execute_reply": "2025-07-30T21:51:19.174000Z"
    },
    "papermill": {
     "duration": 0.03094,
     "end_time": "2025-07-30T21:51:19.176894",
     "exception": false,
     "start_time": "2025-07-30T21:51:19.145954",
     "status": "completed"
    },
    "tags": []
   },
   "outputs": [],
   "source": [
    "# Conditional Coverage & looking at subgroups"
   ]
  },
  {
   "cell_type": "code",
   "execution_count": 63,
   "id": "027ae886-68dd-4141-96c7-805a5450e1ef",
   "metadata": {
    "execution": {
     "iopub.execute_input": "2025-07-30T21:51:19.232272Z",
     "iopub.status.busy": "2025-07-30T21:51:19.231739Z",
     "iopub.status.idle": "2025-07-30T21:51:19.487056Z",
     "shell.execute_reply": "2025-07-30T21:51:19.486169Z"
    },
    "papermill": {
     "duration": 0.282782,
     "end_time": "2025-07-30T21:51:19.488992",
     "exception": false,
     "start_time": "2025-07-30T21:51:19.206210",
     "status": "completed"
    },
    "tags": []
   },
   "outputs": [],
   "source": [
    "from fairness_multiverse.conformal import build_cp_groups\n",
    "\n",
    "cp_groups_df = build_cp_groups(pred_sets, y_true, X_test.index, org_test)\n",
    "#needs universe_id and setting"
   ]
  },
  {
   "cell_type": "code",
   "execution_count": 64,
   "id": "01d5802c-663a-4d1f-9d69-e036faaffbf7",
   "metadata": {
    "execution": {
     "iopub.execute_input": "2025-07-30T21:51:19.547577Z",
     "iopub.status.busy": "2025-07-30T21:51:19.546923Z",
     "iopub.status.idle": "2025-07-30T21:51:19.551887Z",
     "shell.execute_reply": "2025-07-30T21:51:19.550902Z"
    },
    "papermill": {
     "duration": 0.031594,
     "end_time": "2025-07-30T21:51:19.553416",
     "exception": false,
     "start_time": "2025-07-30T21:51:19.521822",
     "status": "completed"
    },
    "tags": []
   },
   "outputs": [],
   "source": [
    "#delete\n",
    "#cp_groups_df"
   ]
  },
  {
   "cell_type": "code",
   "execution_count": 65,
   "id": "fa424af1-d1eb-443d-b717-2d279ada8408",
   "metadata": {
    "execution": {
     "iopub.execute_input": "2025-07-30T21:51:19.609571Z",
     "iopub.status.busy": "2025-07-30T21:51:19.609137Z",
     "iopub.status.idle": "2025-07-30T21:51:19.613960Z",
     "shell.execute_reply": "2025-07-30T21:51:19.612996Z"
    },
    "papermill": {
     "duration": 0.03482,
     "end_time": "2025-07-30T21:51:19.615908",
     "exception": false,
     "start_time": "2025-07-30T21:51:19.581088",
     "status": "completed"
    },
    "tags": []
   },
   "outputs": [],
   "source": [
    "#delete\n",
    "#percentage = (cp_groups_df['nongerman_female'] == 1).mean() * 100\n",
    "#print(percentage)\n"
   ]
  },
  {
   "cell_type": "code",
   "execution_count": 66,
   "id": "6cbdab96-b2b2-45af-ad54-d0516db2e28d",
   "metadata": {
    "execution": {
     "iopub.execute_input": "2025-07-30T21:51:19.673575Z",
     "iopub.status.busy": "2025-07-30T21:51:19.672906Z",
     "iopub.status.idle": "2025-07-30T21:51:21.210384Z",
     "shell.execute_reply": "2025-07-30T21:51:21.209410Z"
    },
    "papermill": {
     "duration": 1.568729,
     "end_time": "2025-07-30T21:51:21.212388",
     "exception": false,
     "start_time": "2025-07-30T21:51:19.643659",
     "status": "completed"
    },
    "tags": []
   },
   "outputs": [],
   "source": [
    "# Define covered = 1 if true_label is in the predicted set\n",
    "cp_groups_df['covered'] = cp_groups_df.apply(\n",
    "    lambda r: int(r['true_label'] in r['pred_set']),\n",
    "    axis=1\n",
    ")"
   ]
  },
  {
   "cell_type": "code",
   "execution_count": 67,
   "id": "338ff529-1a6b-4b87-a931-8e4788d52aad",
   "metadata": {
    "execution": {
     "iopub.execute_input": "2025-07-30T21:51:21.275273Z",
     "iopub.status.busy": "2025-07-30T21:51:21.274324Z",
     "iopub.status.idle": "2025-07-30T21:51:21.279549Z",
     "shell.execute_reply": "2025-07-30T21:51:21.278597Z"
    },
    "papermill": {
     "duration": 0.037125,
     "end_time": "2025-07-30T21:51:21.281451",
     "exception": false,
     "start_time": "2025-07-30T21:51:21.244326",
     "status": "completed"
    },
    "tags": []
   },
   "outputs": [],
   "source": [
    "#cp_groups_df"
   ]
  },
  {
   "cell_type": "code",
   "execution_count": 68,
   "id": "90032e27-66df-4540-9169-4e89cfbaa758",
   "metadata": {
    "execution": {
     "iopub.execute_input": "2025-07-30T21:51:21.332675Z",
     "iopub.status.busy": "2025-07-30T21:51:21.332077Z",
     "iopub.status.idle": "2025-07-30T21:51:21.343710Z",
     "shell.execute_reply": "2025-07-30T21:51:21.342537Z"
    },
    "papermill": {
     "duration": 0.03793,
     "end_time": "2025-07-30T21:51:21.345336",
     "exception": false,
     "start_time": "2025-07-30T21:51:21.307406",
     "status": "completed"
    },
    "tags": []
   },
   "outputs": [],
   "source": [
    "subgroups = ['frau1','nongerman','nongerman_male','nongerman_female']\n",
    "\n",
    "# Conditional coverage for subgroup==1\n",
    "cond_coverage = {\n",
    "    g: cp_groups_df.loc[cp_groups_df[g]==1, 'covered'].mean()\n",
    "    for g in subgroups\n",
    "}"
   ]
  },
  {
   "cell_type": "code",
   "execution_count": 69,
   "id": "1e348fb1-b9c3-45bc-ba23-f016827a7e0d",
   "metadata": {
    "execution": {
     "iopub.execute_input": "2025-07-30T21:51:21.395989Z",
     "iopub.status.busy": "2025-07-30T21:51:21.395245Z",
     "iopub.status.idle": "2025-07-30T21:51:21.403096Z",
     "shell.execute_reply": "2025-07-30T21:51:21.402161Z"
    },
    "papermill": {
     "duration": 0.03429,
     "end_time": "2025-07-30T21:51:21.404808",
     "exception": false,
     "start_time": "2025-07-30T21:51:21.370518",
     "status": "completed"
    },
    "tags": []
   },
   "outputs": [
    {
     "data": {
      "text/plain": [
       "{'frau1': 0.9106078986386306,\n",
       " 'nongerman': 0.9069219109639027,\n",
       " 'nongerman_male': 0.9234441142033685,\n",
       " 'nongerman_female': 0.8795827123695976}"
      ]
     },
     "execution_count": 69,
     "metadata": {},
     "output_type": "execute_result"
    }
   ],
   "source": [
    "cond_coverage"
   ]
  },
  {
   "cell_type": "code",
   "execution_count": 70,
   "id": "f5093324-c3dd-4d63-bc4c-8d945e5c8bbb",
   "metadata": {
    "execution": {
     "iopub.execute_input": "2025-07-30T21:51:21.453912Z",
     "iopub.status.busy": "2025-07-30T21:51:21.453535Z",
     "iopub.status.idle": "2025-07-30T21:51:21.458704Z",
     "shell.execute_reply": "2025-07-30T21:51:21.458062Z"
    },
    "papermill": {
     "duration": 0.031093,
     "end_time": "2025-07-30T21:51:21.459974",
     "exception": false,
     "start_time": "2025-07-30T21:51:21.428881",
     "status": "completed"
    },
    "tags": []
   },
   "outputs": [],
   "source": [
    "for subgroup, cov in cond_coverage.items():\n",
    "    cp_metrics_df[f\"cov_{subgroup}\"] = cov"
   ]
  },
  {
   "cell_type": "code",
   "execution_count": 71,
   "id": "6e872e10-dbe5-49e8-b554-5030c98ff75d",
   "metadata": {
    "execution": {
     "iopub.execute_input": "2025-07-30T21:51:21.488356Z",
     "iopub.status.busy": "2025-07-30T21:51:21.487830Z",
     "iopub.status.idle": "2025-07-30T21:51:21.501346Z",
     "shell.execute_reply": "2025-07-30T21:51:21.500699Z"
    },
    "papermill": {
     "duration": 0.028906,
     "end_time": "2025-07-30T21:51:21.502654",
     "exception": false,
     "start_time": "2025-07-30T21:51:21.473748",
     "status": "completed"
    },
    "tags": []
   },
   "outputs": [
    {
     "data": {
      "text/html": [
       "<div>\n",
       "<style scoped>\n",
       "    .dataframe tbody tr th:only-of-type {\n",
       "        vertical-align: middle;\n",
       "    }\n",
       "\n",
       "    .dataframe tbody tr th {\n",
       "        vertical-align: top;\n",
       "    }\n",
       "\n",
       "    .dataframe thead th {\n",
       "        text-align: right;\n",
       "    }\n",
       "</style>\n",
       "<table border=\"1\" class=\"dataframe\">\n",
       "  <thead>\n",
       "    <tr style=\"text-align: right;\">\n",
       "      <th></th>\n",
       "      <th>universe_id</th>\n",
       "      <th>universe_training_year</th>\n",
       "      <th>universe_training_size</th>\n",
       "      <th>universe_scale</th>\n",
       "      <th>universe_model</th>\n",
       "      <th>universe_exclude_features</th>\n",
       "      <th>universe_exclude_subgroups</th>\n",
       "      <th>q_hat</th>\n",
       "      <th>coverage</th>\n",
       "      <th>avg_size</th>\n",
       "      <th>cov_frau1</th>\n",
       "      <th>cov_nongerman</th>\n",
       "      <th>cov_nongerman_male</th>\n",
       "      <th>cov_nongerman_female</th>\n",
       "    </tr>\n",
       "  </thead>\n",
       "  <tbody>\n",
       "    <tr>\n",
       "      <th>0</th>\n",
       "      <td>e0a61863d564438fbb4617a757e12d02</td>\n",
       "      <td>2010_14</td>\n",
       "      <td>1k</td>\n",
       "      <td>do-not-scale</td>\n",
       "      <td>rf</td>\n",
       "      <td>sex</td>\n",
       "      <td>keep-all</td>\n",
       "      <td>0.65</td>\n",
       "      <td>0.912596</td>\n",
       "      <td>1.145859</td>\n",
       "      <td>0.910608</td>\n",
       "      <td>0.906922</td>\n",
       "      <td>0.923444</td>\n",
       "      <td>0.879583</td>\n",
       "    </tr>\n",
       "  </tbody>\n",
       "</table>\n",
       "</div>"
      ],
      "text/plain": [
       "                        universe_id universe_training_year  \\\n",
       "0  e0a61863d564438fbb4617a757e12d02                2010_14   \n",
       "\n",
       "  universe_training_size universe_scale universe_model  \\\n",
       "0                     1k   do-not-scale             rf   \n",
       "\n",
       "  universe_exclude_features universe_exclude_subgroups  q_hat  coverage  \\\n",
       "0                       sex                   keep-all   0.65  0.912596   \n",
       "\n",
       "   avg_size  cov_frau1  cov_nongerman  cov_nongerman_male  \\\n",
       "0  1.145859   0.910608       0.906922            0.923444   \n",
       "\n",
       "   cov_nongerman_female  \n",
       "0              0.879583  "
      ]
     },
     "execution_count": 71,
     "metadata": {},
     "output_type": "execute_result"
    }
   ],
   "source": [
    "cp_metrics_df"
   ]
  },
  {
   "cell_type": "markdown",
   "id": "33774451",
   "metadata": {
    "papermill": {
     "duration": 0.013075,
     "end_time": "2025-07-30T21:51:21.529759",
     "exception": false,
     "start_time": "2025-07-30T21:51:21.516684",
     "status": "completed"
    },
    "tags": []
   },
   "source": [
    "# (Fairness) Metrics"
   ]
  },
  {
   "cell_type": "code",
   "execution_count": 72,
   "id": "debc5d62",
   "metadata": {
    "execution": {
     "iopub.execute_input": "2025-07-30T21:51:21.558535Z",
     "iopub.status.busy": "2025-07-30T21:51:21.557734Z",
     "iopub.status.idle": "2025-07-30T21:51:21.573849Z",
     "shell.execute_reply": "2025-07-30T21:51:21.573126Z"
    },
    "papermill": {
     "duration": 0.031822,
     "end_time": "2025-07-30T21:51:21.575225",
     "exception": false,
     "start_time": "2025-07-30T21:51:21.543403",
     "status": "completed"
    },
    "tags": []
   },
   "outputs": [],
   "source": [
    "# do I need to include maxdeutsch1.missing?\n",
    "\n",
    "import numpy as np\n",
    "\n",
    "colname_to_bin = \"maxdeutsch1\"\n",
    "majority_value = org_train[colname_to_bin].mode()[0]\n",
    "\n",
    "org_test[\"majmin\"] = np.where(org_test[colname_to_bin] == majority_value, \"majority\", \"minority\")"
   ]
  },
  {
   "cell_type": "code",
   "execution_count": 73,
   "id": "06a50de5",
   "metadata": {
    "execution": {
     "iopub.execute_input": "2025-07-30T21:51:21.605751Z",
     "iopub.status.busy": "2025-07-30T21:51:21.605106Z",
     "iopub.status.idle": "2025-07-30T21:51:24.478481Z",
     "shell.execute_reply": "2025-07-30T21:51:24.477543Z"
    },
    "papermill": {
     "duration": 2.889835,
     "end_time": "2025-07-30T21:51:24.480591",
     "exception": false,
     "start_time": "2025-07-30T21:51:21.590756",
     "status": "completed"
    },
    "tags": []
   },
   "outputs": [],
   "source": [
    "example_universe = universe.copy()\n",
    "example_universe[\"cutoff\"] = example_universe[\"cutoff\"][0]\n",
    "example_universe[\"eval_fairness_grouping\"] = example_universe[\"eval_fairness_grouping\"][0]\n",
    "fairness_dict, metric_frame = universe_analysis.compute_metrics(\n",
    "    example_universe,\n",
    "    y_pred_prob=probs_test,\n",
    "    y_test=y_true,\n",
    "    org_test=org_test,\n",
    ")"
   ]
  },
  {
   "cell_type": "markdown",
   "id": "f95d4e02",
   "metadata": {
    "papermill": {
     "duration": 0.026045,
     "end_time": "2025-07-30T21:51:24.534965",
     "exception": false,
     "start_time": "2025-07-30T21:51:24.508920",
     "status": "completed"
    },
    "tags": []
   },
   "source": [
    "# Overall"
   ]
  },
  {
   "cell_type": "markdown",
   "id": "bdee4871",
   "metadata": {
    "papermill": {
     "duration": 0.024752,
     "end_time": "2025-07-30T21:51:24.585258",
     "exception": false,
     "start_time": "2025-07-30T21:51:24.560506",
     "status": "completed"
    },
    "tags": []
   },
   "source": [
    "Fairness\n",
    "Main fairness target: Equalized Odds. Seems to be a better fit than equal opportunity, since we're not only interested in Y = 1. Seems to be a better fit than demographic parity, since we also care about accuracy, not just equal distribution of preds.\n",
    "\n",
    "Pick column for computation of fairness metrics\n",
    "\n",
    "Performance\n",
    "Overall performance measures, most interesting in relation to the measures split by group below"
   ]
  },
  {
   "cell_type": "code",
   "execution_count": 74,
   "id": "c4e067c6",
   "metadata": {
    "execution": {
     "iopub.execute_input": "2025-07-30T21:51:24.641197Z",
     "iopub.status.busy": "2025-07-30T21:51:24.640635Z",
     "iopub.status.idle": "2025-07-30T21:51:24.649472Z",
     "shell.execute_reply": "2025-07-30T21:51:24.648585Z"
    },
    "papermill": {
     "duration": 0.039157,
     "end_time": "2025-07-30T21:51:24.651015",
     "exception": false,
     "start_time": "2025-07-30T21:51:24.611858",
     "status": "completed"
    },
    "tags": []
   },
   "outputs": [
    {
     "data": {
      "text/plain": [
       "accuracy                   0.206677\n",
       "balanced accuracy          0.532368\n",
       "f1                         0.238875\n",
       "precision                  0.136200\n",
       "false positive rate        0.905719\n",
       "false negative rate        0.029545\n",
       "selection rate             0.914023\n",
       "count                  89710.000000\n",
       "dtype: float64"
      ]
     },
     "execution_count": 74,
     "metadata": {},
     "output_type": "execute_result"
    }
   ],
   "source": [
    "metric_frame.overall"
   ]
  },
  {
   "cell_type": "markdown",
   "id": "e968fe9d",
   "metadata": {
    "papermill": {
     "duration": 0.025364,
     "end_time": "2025-07-30T21:51:24.702981",
     "exception": false,
     "start_time": "2025-07-30T21:51:24.677617",
     "status": "completed"
    },
    "tags": []
   },
   "source": [
    "By Group"
   ]
  },
  {
   "cell_type": "code",
   "execution_count": 75,
   "id": "ec325bce",
   "metadata": {
    "execution": {
     "iopub.execute_input": "2025-07-30T21:51:24.757561Z",
     "iopub.status.busy": "2025-07-30T21:51:24.757075Z",
     "iopub.status.idle": "2025-07-30T21:51:24.773298Z",
     "shell.execute_reply": "2025-07-30T21:51:24.772314Z"
    },
    "papermill": {
     "duration": 0.045136,
     "end_time": "2025-07-30T21:51:24.774746",
     "exception": false,
     "start_time": "2025-07-30T21:51:24.729610",
     "status": "completed"
    },
    "tags": []
   },
   "outputs": [
    {
     "data": {
      "text/html": [
       "<div>\n",
       "<style scoped>\n",
       "    .dataframe tbody tr th:only-of-type {\n",
       "        vertical-align: middle;\n",
       "    }\n",
       "\n",
       "    .dataframe tbody tr th {\n",
       "        vertical-align: top;\n",
       "    }\n",
       "\n",
       "    .dataframe thead th {\n",
       "        text-align: right;\n",
       "    }\n",
       "</style>\n",
       "<table border=\"1\" class=\"dataframe\">\n",
       "  <thead>\n",
       "    <tr style=\"text-align: right;\">\n",
       "      <th></th>\n",
       "      <th>accuracy</th>\n",
       "      <th>balanced accuracy</th>\n",
       "      <th>f1</th>\n",
       "      <th>precision</th>\n",
       "      <th>false positive rate</th>\n",
       "      <th>false negative rate</th>\n",
       "      <th>selection rate</th>\n",
       "      <th>count</th>\n",
       "    </tr>\n",
       "    <tr>\n",
       "      <th>majmin</th>\n",
       "      <th></th>\n",
       "      <th></th>\n",
       "      <th></th>\n",
       "      <th></th>\n",
       "      <th></th>\n",
       "      <th></th>\n",
       "      <th></th>\n",
       "      <th></th>\n",
       "    </tr>\n",
       "  </thead>\n",
       "  <tbody>\n",
       "    <tr>\n",
       "      <th>majority</th>\n",
       "      <td>0.196111</td>\n",
       "      <td>0.531755</td>\n",
       "      <td>0.245164</td>\n",
       "      <td>0.139946</td>\n",
       "      <td>0.924454</td>\n",
       "      <td>0.012035</td>\n",
       "      <td>0.932847</td>\n",
       "      <td>69170.0</td>\n",
       "    </tr>\n",
       "    <tr>\n",
       "      <th>minority</th>\n",
       "      <td>0.242259</td>\n",
       "      <td>0.529523</td>\n",
       "      <td>0.215524</td>\n",
       "      <td>0.122367</td>\n",
       "      <td>0.843826</td>\n",
       "      <td>0.097128</td>\n",
       "      <td>0.850633</td>\n",
       "      <td>20540.0</td>\n",
       "    </tr>\n",
       "  </tbody>\n",
       "</table>\n",
       "</div>"
      ],
      "text/plain": [
       "          accuracy  balanced accuracy        f1  precision  \\\n",
       "majmin                                                       \n",
       "majority  0.196111           0.531755  0.245164   0.139946   \n",
       "minority  0.242259           0.529523  0.215524   0.122367   \n",
       "\n",
       "          false positive rate  false negative rate  selection rate    count  \n",
       "majmin                                                                       \n",
       "majority             0.924454             0.012035        0.932847  69170.0  \n",
       "minority             0.843826             0.097128        0.850633  20540.0  "
      ]
     },
     "execution_count": 75,
     "metadata": {},
     "output_type": "execute_result"
    }
   ],
   "source": [
    "metric_frame.by_group"
   ]
  },
  {
   "cell_type": "code",
   "execution_count": 76,
   "id": "a9ddbe63",
   "metadata": {
    "execution": {
     "iopub.execute_input": "2025-07-30T21:51:24.834535Z",
     "iopub.status.busy": "2025-07-30T21:51:24.834053Z",
     "iopub.status.idle": "2025-07-30T21:51:27.155462Z",
     "shell.execute_reply": "2025-07-30T21:51:27.154607Z"
    },
    "papermill": {
     "duration": 2.354,
     "end_time": "2025-07-30T21:51:27.157028",
     "exception": false,
     "start_time": "2025-07-30T21:51:24.803028",
     "status": "completed"
    },
    "tags": []
   },
   "outputs": [
    {
     "data": {
      "text/plain": [
       "array([[<Axes: title={'center': 'accuracy'}, xlabel='majmin'>,\n",
       "        <Axes: title={'center': 'balanced accuracy'}, xlabel='majmin'>,\n",
       "        <Axes: title={'center': 'f1'}, xlabel='majmin'>],\n",
       "       [<Axes: title={'center': 'precision'}, xlabel='majmin'>,\n",
       "        <Axes: title={'center': 'false positive rate'}, xlabel='majmin'>,\n",
       "        <Axes: title={'center': 'false negative rate'}, xlabel='majmin'>],\n",
       "       [<Axes: title={'center': 'selection rate'}, xlabel='majmin'>,\n",
       "        <Axes: title={'center': 'count'}, xlabel='majmin'>,\n",
       "        <Axes: xlabel='majmin'>]], dtype=object)"
      ]
     },
     "execution_count": 76,
     "metadata": {},
     "output_type": "execute_result"
    },
    {
     "data": {
      "image/png": "[encoded data removed]",
      "text/plain": [
       "<Figure size 1200x800 with 9 Axes>"
      ]
     },
     "metadata": {},
     "output_type": "display_data"
    }
   ],
   "source": [
    "# In a graphic\n",
    "metric_frame.by_group.plot.bar(\n",
    "    subplots=True,\n",
    "    layout=[3, 3],\n",
    "    legend=False,\n",
    "    figsize=[12, 8],\n",
    "    title=\"Show all metrics\",\n",
    ")"
   ]
  },
  {
   "cell_type": "markdown",
   "id": "f57a0bac",
   "metadata": {
    "papermill": {
     "duration": 0.027277,
     "end_time": "2025-07-30T21:51:27.212241",
     "exception": false,
     "start_time": "2025-07-30T21:51:27.184964",
     "status": "completed"
    },
    "tags": []
   },
   "source": [
    "# Final Output"
   ]
  },
  {
   "cell_type": "code",
   "execution_count": 77,
   "id": "96d280a3",
   "metadata": {
    "execution": {
     "iopub.execute_input": "2025-07-30T21:51:27.270140Z",
     "iopub.status.busy": "2025-07-30T21:51:27.269539Z",
     "iopub.status.idle": "2025-07-30T21:51:27.277678Z",
     "shell.execute_reply": "2025-07-30T21:51:27.276894Z"
    },
    "papermill": {
     "duration": 0.038389,
     "end_time": "2025-07-30T21:51:27.279100",
     "exception": false,
     "start_time": "2025-07-30T21:51:27.240711",
     "status": "completed"
    },
    "tags": []
   },
   "outputs": [
    {
     "data": {
      "text/plain": [
       "4"
      ]
     },
     "execution_count": 77,
     "metadata": {},
     "output_type": "execute_result"
    }
   ],
   "source": [
    "sub_universes = universe_analysis.generate_sub_universes()\n",
    "len(sub_universes)"
   ]
  },
  {
   "cell_type": "code",
   "execution_count": 78,
   "id": "92adf7ba",
   "metadata": {
    "execution": {
     "iopub.execute_input": "2025-07-30T21:51:27.336310Z",
     "iopub.status.busy": "2025-07-30T21:51:27.335583Z",
     "iopub.status.idle": "2025-07-30T21:51:27.341593Z",
     "shell.execute_reply": "2025-07-30T21:51:27.340689Z"
    },
    "papermill": {
     "duration": 0.036045,
     "end_time": "2025-07-30T21:51:27.343133",
     "exception": false,
     "start_time": "2025-07-30T21:51:27.307088",
     "status": "completed"
    },
    "tags": []
   },
   "outputs": [],
   "source": [
    "def filter_sub_universe_data(sub_universe, org_test):\n",
    "    # Keep all rows — no filtering\n",
    "    keep_rows_mask = np.ones(org_test.shape[0], dtype=bool)\n",
    "\n",
    "    print(f\"[INFO] Keeping all rows: {keep_rows_mask.sum()} rows retained.\")\n",
    "    return keep_rows_mask"
   ]
  },
  {
   "cell_type": "code",
   "execution_count": 79,
   "id": "4a759155",
   "metadata": {
    "execution": {
     "iopub.execute_input": "2025-07-30T21:51:27.399453Z",
     "iopub.status.busy": "2025-07-30T21:51:27.398602Z",
     "iopub.status.idle": "2025-07-30T21:51:36.880620Z",
     "shell.execute_reply": "2025-07-30T21:51:36.879792Z"
    },
    "papermill": {
     "duration": 9.511458,
     "end_time": "2025-07-30T21:51:36.882289",
     "exception": false,
     "start_time": "2025-07-30T21:51:27.370831",
     "status": "completed"
    },
    "tags": []
   },
   "outputs": [
    {
     "name": "stdout",
     "output_type": "stream",
     "text": [
      "Stopping execution_time clock.\n",
      "[INFO] Keeping all rows: 89710 rows retained.\n"
     ]
    },
    {
     "name": "stdout",
     "output_type": "stream",
     "text": [
      "[INFO] Keeping all rows: 89710 rows retained.\n"
     ]
    },
    {
     "name": "stdout",
     "output_type": "stream",
     "text": [
      "[INFO] Keeping all rows: 89710 rows retained.\n"
     ]
    },
    {
     "name": "stdout",
     "output_type": "stream",
     "text": [
      "[INFO] Keeping all rows: 89710 rows retained.\n"
     ]
    },
    {
     "data": {
      "text/html": [
       "<div>\n",
       "<style scoped>\n",
       "    .dataframe tbody tr th:only-of-type {\n",
       "        vertical-align: middle;\n",
       "    }\n",
       "\n",
       "    .dataframe tbody tr th {\n",
       "        vertical-align: top;\n",
       "    }\n",
       "\n",
       "    .dataframe thead th {\n",
       "        text-align: right;\n",
       "    }\n",
       "</style>\n",
       "<table border=\"1\" class=\"dataframe\">\n",
       "  <thead>\n",
       "    <tr style=\"text-align: right;\">\n",
       "      <th></th>\n",
       "      <th>run_no</th>\n",
       "      <th>universe_id</th>\n",
       "      <th>universe_settings</th>\n",
       "      <th>execution_time</th>\n",
       "      <th>test_size_n</th>\n",
       "      <th>test_size_frac</th>\n",
       "      <th>fair_main_equalized_odds_difference</th>\n",
       "      <th>fair_main_equalized_odds_ratio</th>\n",
       "      <th>fair_main_demographic_parity_difference</th>\n",
       "      <th>fair_main_demographic_parity_ratio</th>\n",
       "      <th>...</th>\n",
       "      <th>perf_grp_precision_0</th>\n",
       "      <th>perf_grp_precision_1</th>\n",
       "      <th>perf_grp_false positive rate_0</th>\n",
       "      <th>perf_grp_false positive rate_1</th>\n",
       "      <th>perf_grp_false negative rate_0</th>\n",
       "      <th>perf_grp_false negative rate_1</th>\n",
       "      <th>perf_grp_selection rate_0</th>\n",
       "      <th>perf_grp_selection rate_1</th>\n",
       "      <th>perf_grp_count_0</th>\n",
       "      <th>perf_grp_count_1</th>\n",
       "    </tr>\n",
       "  </thead>\n",
       "  <tbody>\n",
       "    <tr>\n",
       "      <th>0</th>\n",
       "      <td>14</td>\n",
       "      <td>e0a61863d564438fbb4617a757e12d02</td>\n",
       "      <td>{\"cutoff\": \"quantile_0.1\", \"eval_fairness_grou...</td>\n",
       "      <td>30.454516</td>\n",
       "      <td>89710</td>\n",
       "      <td>1.0</td>\n",
       "      <td>0.085093</td>\n",
       "      <td>0.912782</td>\n",
       "      <td>0.082214</td>\n",
       "      <td>0.911868</td>\n",
       "      <td>...</td>\n",
       "      <td>NaN</td>\n",
       "      <td>NaN</td>\n",
       "      <td>NaN</td>\n",
       "      <td>NaN</td>\n",
       "      <td>NaN</td>\n",
       "      <td>NaN</td>\n",
       "      <td>NaN</td>\n",
       "      <td>NaN</td>\n",
       "      <td>NaN</td>\n",
       "      <td>NaN</td>\n",
       "    </tr>\n",
       "    <tr>\n",
       "      <th>0</th>\n",
       "      <td>14</td>\n",
       "      <td>e0a61863d564438fbb4617a757e12d02</td>\n",
       "      <td>{\"cutoff\": \"quantile_0.1\", \"eval_fairness_grou...</td>\n",
       "      <td>30.454516</td>\n",
       "      <td>89710</td>\n",
       "      <td>1.0</td>\n",
       "      <td>0.085093</td>\n",
       "      <td>0.912782</td>\n",
       "      <td>0.082214</td>\n",
       "      <td>0.911868</td>\n",
       "      <td>...</td>\n",
       "      <td>0.122367</td>\n",
       "      <td>0.139946</td>\n",
       "      <td>0.843826</td>\n",
       "      <td>0.924454</td>\n",
       "      <td>0.097128</td>\n",
       "      <td>0.012035</td>\n",
       "      <td>0.850633</td>\n",
       "      <td>0.932847</td>\n",
       "      <td>20540.0</td>\n",
       "      <td>69170.0</td>\n",
       "    </tr>\n",
       "    <tr>\n",
       "      <th>0</th>\n",
       "      <td>14</td>\n",
       "      <td>e0a61863d564438fbb4617a757e12d02</td>\n",
       "      <td>{\"cutoff\": \"quantile_0.25\", \"eval_fairness_gro...</td>\n",
       "      <td>30.454516</td>\n",
       "      <td>89710</td>\n",
       "      <td>1.0</td>\n",
       "      <td>0.153968</td>\n",
       "      <td>0.838431</td>\n",
       "      <td>0.107157</td>\n",
       "      <td>0.866516</td>\n",
       "      <td>...</td>\n",
       "      <td>NaN</td>\n",
       "      <td>NaN</td>\n",
       "      <td>NaN</td>\n",
       "      <td>NaN</td>\n",
       "      <td>NaN</td>\n",
       "      <td>NaN</td>\n",
       "      <td>NaN</td>\n",
       "      <td>NaN</td>\n",
       "      <td>NaN</td>\n",
       "      <td>NaN</td>\n",
       "    </tr>\n",
       "    <tr>\n",
       "      <th>0</th>\n",
       "      <td>14</td>\n",
       "      <td>e0a61863d564438fbb4617a757e12d02</td>\n",
       "      <td>{\"cutoff\": \"quantile_0.25\", \"eval_fairness_gro...</td>\n",
       "      <td>30.454516</td>\n",
       "      <td>89710</td>\n",
       "      <td>1.0</td>\n",
       "      <td>0.153968</td>\n",
       "      <td>0.838431</td>\n",
       "      <td>0.107157</td>\n",
       "      <td>0.866516</td>\n",
       "      <td>...</td>\n",
       "      <td>0.132419</td>\n",
       "      <td>0.156858</td>\n",
       "      <td>0.682148</td>\n",
       "      <td>0.779910</td>\n",
       "      <td>0.201014</td>\n",
       "      <td>0.047046</td>\n",
       "      <td>0.695618</td>\n",
       "      <td>0.802776</td>\n",
       "      <td>20540.0</td>\n",
       "      <td>69170.0</td>\n",
       "    </tr>\n",
       "  </tbody>\n",
       "</table>\n",
       "<p>4 rows × 50 columns</p>\n",
       "</div>"
      ],
      "text/plain": [
       "  run_no                       universe_id  \\\n",
       "0     14  e0a61863d564438fbb4617a757e12d02   \n",
       "0     14  e0a61863d564438fbb4617a757e12d02   \n",
       "0     14  e0a61863d564438fbb4617a757e12d02   \n",
       "0     14  e0a61863d564438fbb4617a757e12d02   \n",
       "\n",
       "                                   universe_settings  execution_time  \\\n",
       "0  {\"cutoff\": \"quantile_0.1\", \"eval_fairness_grou...       30.454516   \n",
       "0  {\"cutoff\": \"quantile_0.1\", \"eval_fairness_grou...       30.454516   \n",
       "0  {\"cutoff\": \"quantile_0.25\", \"eval_fairness_gro...       30.454516   \n",
       "0  {\"cutoff\": \"quantile_0.25\", \"eval_fairness_gro...       30.454516   \n",
       "\n",
       "   test_size_n  test_size_frac  fair_main_equalized_odds_difference  \\\n",
       "0        89710             1.0                             0.085093   \n",
       "0        89710             1.0                             0.085093   \n",
       "0        89710             1.0                             0.153968   \n",
       "0        89710             1.0                             0.153968   \n",
       "\n",
       "   fair_main_equalized_odds_ratio  fair_main_demographic_parity_difference  \\\n",
       "0                        0.912782                                 0.082214   \n",
       "0                        0.912782                                 0.082214   \n",
       "0                        0.838431                                 0.107157   \n",
       "0                        0.838431                                 0.107157   \n",
       "\n",
       "   fair_main_demographic_parity_ratio  ...  perf_grp_precision_0  \\\n",
       "0                            0.911868  ...                   NaN   \n",
       "0                            0.911868  ...              0.122367   \n",
       "0                            0.866516  ...                   NaN   \n",
       "0                            0.866516  ...              0.132419   \n",
       "\n",
       "   perf_grp_precision_1  perf_grp_false positive rate_0  \\\n",
       "0                   NaN                             NaN   \n",
       "0              0.139946                        0.843826   \n",
       "0                   NaN                             NaN   \n",
       "0              0.156858                        0.682148   \n",
       "\n",
       "   perf_grp_false positive rate_1  perf_grp_false negative rate_0  \\\n",
       "0                             NaN                             NaN   \n",
       "0                        0.924454                        0.097128   \n",
       "0                             NaN                             NaN   \n",
       "0                        0.779910                        0.201014   \n",
       "\n",
       "   perf_grp_false negative rate_1  perf_grp_selection rate_0  \\\n",
       "0                             NaN                        NaN   \n",
       "0                        0.012035                   0.850633   \n",
       "0                             NaN                        NaN   \n",
       "0                        0.047046                   0.695618   \n",
       "\n",
       "   perf_grp_selection rate_1  perf_grp_count_0  perf_grp_count_1  \n",
       "0                        NaN               NaN               NaN  \n",
       "0                   0.932847           20540.0           69170.0  \n",
       "0                        NaN               NaN               NaN  \n",
       "0                   0.802776           20540.0           69170.0  \n",
       "\n",
       "[4 rows x 50 columns]"
      ]
     },
     "execution_count": 79,
     "metadata": {},
     "output_type": "execute_result"
    }
   ],
   "source": [
    "final_output = universe_analysis.generate_final_output(\n",
    "    y_pred_prob=probs_test,\n",
    "    y_test=y_true,\n",
    "    org_test=org_test,\n",
    "    filter_data=filter_sub_universe_data,\n",
    "    cp_metrics_df=cp_metrics_df,\n",
    "    save=True,\n",
    ")\n",
    "final_output"
   ]
  },
  {
   "cell_type": "code",
   "execution_count": null,
   "id": "721ff514-cb11-46f8-b6fc-50392f74b5cb",
   "metadata": {
    "papermill": {
     "duration": 0.016634,
     "end_time": "2025-07-30T21:51:36.931514",
     "exception": false,
     "start_time": "2025-07-30T21:51:36.914880",
     "status": "completed"
    },
    "tags": []
   },
   "outputs": [],
   "source": []
  }
 ],
 "metadata": {
  "celltoolbar": "Tags",
  "kernelspec": {
   "display_name": "Python (CMA Fairness)",
   "language": "python",
   "name": "cma_fair_env"
  },
  "language_info": {
   "codemirror_mode": {
    "name": "ipython",
    "version": 3
   },
   "file_extension": ".py",
   "mimetype": "text/x-python",
   "name": "python",
   "nbconvert_exporter": "python",
   "pygments_lexer": "ipython3",
   "version": "3.10.12"
  },
  "papermill": {
   "default_parameters": {},
   "duration": 44.299412,
   "end_time": "2025-07-30T21:51:37.974539",
   "environment_variables": {},
   "exception": null,
   "input_path": "universe_analysis.ipynb",
   "output_path": "output/runs/14/notebooks/m_14-e0a61863d564438fbb4617a757e12d02.ipynb",
   "parameters": {
    "output_dir": "output",
    "run_no": "14",
    "seed": "2023",
    "universe": "{\"cutoff\": [\"quantile_0.1\", \"quantile_0.25\"], \"eval_fairness_grouping\": [\"majority-minority\", \"nationality-all\"], \"exclude_features\": \"sex\", \"exclude_subgroups\": \"keep-all\", \"model\": \"rf\", \"scale\": \"do-not-scale\", \"training_size\": \"1k\", \"training_year\": \"2010_14\"}",
    "universe_id": "e0a61863d564438fbb4617a757e12d02"
   },
   "start_time": "2025-07-30T21:50:53.675127",
   "version": "2.6.0"
  }
 },
 "nbformat": 4,
 "nbformat_minor": 5
}