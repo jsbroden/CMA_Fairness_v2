{
 "cells": [
  {
   "cell_type": "code",
   "execution_count": 1,
   "id": "f159f837-637b-42ba-96b5-ec9a68c44524",
   "metadata": {
    "execution": {
     "iopub.execute_input": "2025-07-30T21:41:48.726192Z",
     "iopub.status.busy": "2025-07-30T21:41:48.725788Z",
     "iopub.status.idle": "2025-07-30T21:41:48.738867Z",
     "shell.execute_reply": "2025-07-30T21:41:48.737863Z"
    },
    "papermill": {
     "duration": 0.036028,
     "end_time": "2025-07-30T21:41:48.749316",
     "exception": false,
     "start_time": "2025-07-30T21:41:48.713288",
     "status": "completed"
    },
    "tags": []
   },
   "outputs": [
    {
     "name": "stdout",
     "output_type": "stream",
     "text": [
      "/dss/dsshome1/0C/ra93lal2/cma/CMA_Fairness_v2\n"
     ]
    },
    {
     "name": "stderr",
     "output_type": "stream",
     "text": [
      "/dss/dsshome1/0C/ra93lal2/.local/share/virtualenvs/CMA_Fairness_v2-3j10GkSs/lib/python3.10/site-packages/IPython/core/magics/osm.py:393: UserWarning: This is now an optional IPython functionality, using bookmarks requires you to install the `pickleshare` library.\n",
      "  bkms = self.shell.db.get('bookmarks', {})\n",
      "/dss/dsshome1/0C/ra93lal2/.local/share/virtualenvs/CMA_Fairness_v2-3j10GkSs/lib/python3.10/site-packages/IPython/core/magics/osm.py:417: UserWarning: This is now an optional IPython functionality, setting dhist requires you to install the `pickleshare` library.\n",
      "  self.shell.db['dhist'] = compress_dhist(dhist)[-100:]\n"
     ]
    }
   ],
   "source": [
    "%cd ~/cma/CMA_Fairness_v2"
   ]
  },
  {
   "cell_type": "markdown",
   "id": "de2603b9",
   "metadata": {
    "papermill": {
     "duration": 0.011553,
     "end_time": "2025-07-30T21:41:48.773461",
     "exception": false,
     "start_time": "2025-07-30T21:41:48.761908",
     "status": "completed"
    },
    "tags": []
   },
   "source": [
    "The following cell holds the definition of our parameters, these values can be overriden by rendering the with e.g. the following command:\n",
    "\n",
    "papermill -p alpha 0.2 -p ratio 0.3 universe_analysis.ipynb output/test_run.ipynb"
   ]
  },
  {
   "cell_type": "code",
   "execution_count": 2,
   "id": "a80968a0-40bb-4fa9-85ef-2d5eefb01975",
   "metadata": {
    "execution": {
     "iopub.execute_input": "2025-07-30T21:41:48.798453Z",
     "iopub.status.busy": "2025-07-30T21:41:48.797933Z",
     "iopub.status.idle": "2025-07-30T21:41:48.803429Z",
     "shell.execute_reply": "2025-07-30T21:41:48.802392Z"
    },
    "papermill": {
     "duration": 0.020303,
     "end_time": "2025-07-30T21:41:48.805319",
     "exception": false,
     "start_time": "2025-07-30T21:41:48.785016",
     "status": "completed"
    },
    "tags": []
   },
   "outputs": [
    {
     "name": "stdout",
     "output_type": "stream",
     "text": [
      "Current working directory: /dss/dsshome1/0C/ra93lal2/cma/CMA_Fairness_v2\n"
     ]
    }
   ],
   "source": [
    "import os\n",
    "print(\"Current working directory:\", os.getcwd())"
   ]
  },
  {
   "cell_type": "code",
   "execution_count": 3,
   "id": "2dce4c03",
   "metadata": {
    "execution": {
     "iopub.execute_input": "2025-07-30T21:41:48.854255Z",
     "iopub.status.busy": "2025-07-30T21:41:48.853499Z",
     "iopub.status.idle": "2025-07-30T21:41:48.860401Z",
     "shell.execute_reply": "2025-07-30T21:41:48.859264Z"
    },
    "papermill": {
     "duration": 0.032992,
     "end_time": "2025-07-30T21:41:48.862306",
     "exception": false,
     "start_time": "2025-07-30T21:41:48.829314",
     "status": "completed"
    },
    "tags": [
     "parameters"
    ]
   },
   "outputs": [],
   "source": [
    "run_no = 0\n",
    "universe_id = \"test\"\n",
    "universe = {\n",
    "    \"training_size\": \"25k\", # \"25k\", \"5k\", \"1k\"\n",
    "    \"training_year\": \"2014\", # \"2014\", \"2012_14\", \"2010_14\"\n",
    "    \"scale\": \"scale\", # \"scale\", \"do-not-scale\",\n",
    "    #\"stratify_split\": \"target\", # \"none\", \"target\", \"protected-attribute\", \"both\",\n",
    "    \"model\": \"elasticnet\", # \"logreg\", \"penalized_logreg\", \"rf\", \"gbm\", \"elasticnet\"\n",
    "    \"cutoff\": [\"quantile_0.15\", \"quantile_0.30\"],\n",
    "    \"exclude_features\": \"age\", # \"none\", \"nationality\", \"sex\", \"nationality-sex\", \"age\"\n",
    "    \"exclude_subgroups\": \"keep-all\", # \"keep-all\", \"drop-non-german\"\n",
    "    \"eval_fairness_grouping\": [\"majority-minority\", \"nationality-all\"]\n",
    "}\n",
    "\n",
    "output_dir=\"./output\"\n",
    "seed=0"
   ]
  },
  {
   "cell_type": "code",
   "execution_count": 4,
   "id": "587d7023",
   "metadata": {
    "execution": {
     "iopub.execute_input": "2025-07-30T21:41:48.909997Z",
     "iopub.status.busy": "2025-07-30T21:41:48.909511Z",
     "iopub.status.idle": "2025-07-30T21:41:48.914889Z",
     "shell.execute_reply": "2025-07-30T21:41:48.913825Z"
    },
    "papermill": {
     "duration": 0.030544,
     "end_time": "2025-07-30T21:41:48.916821",
     "exception": false,
     "start_time": "2025-07-30T21:41:48.886277",
     "status": "completed"
    },
    "tags": [
     "injected-parameters"
    ]
   },
   "outputs": [],
   "source": [
    "# Parameters\n",
    "universe_id = \"9fabf678e79965f0138a17ecd262e347\"\n",
    "run_no = \"14\"\n",
    "universe = \"{\\\"cutoff\\\": [\\\"quantile_0.1\\\", \\\"quantile_0.25\\\"], \\\"eval_fairness_grouping\\\": [\\\"majority-minority\\\", \\\"nationality-all\\\"], \\\"exclude_features\\\": \\\"age\\\", \\\"exclude_subgroups\\\": \\\"keep-all\\\", \\\"model\\\": \\\"gbm\\\", \\\"scale\\\": \\\"do-not-scale\\\", \\\"training_size\\\": \\\"1k\\\", \\\"training_year\\\": \\\"2012_14\\\"}\"\n",
    "output_dir = \"output\"\n",
    "seed = \"2023\"\n"
   ]
  },
  {
   "cell_type": "code",
   "execution_count": 5,
   "id": "1650acaf",
   "metadata": {
    "execution": {
     "iopub.execute_input": "2025-07-30T21:41:48.964661Z",
     "iopub.status.busy": "2025-07-30T21:41:48.964165Z",
     "iopub.status.idle": "2025-07-30T21:41:48.969507Z",
     "shell.execute_reply": "2025-07-30T21:41:48.968470Z"
    },
    "papermill": {
     "duration": 0.031575,
     "end_time": "2025-07-30T21:41:48.971399",
     "exception": false,
     "start_time": "2025-07-30T21:41:48.939824",
     "status": "completed"
    },
    "tags": []
   },
   "outputs": [],
   "source": [
    "import json\n",
    "# Parse universe into dict if it is passed as a string\n",
    "if isinstance(universe, str):\n",
    "    universe = json.loads(universe)"
   ]
  },
  {
   "cell_type": "code",
   "execution_count": 6,
   "id": "16620c48",
   "metadata": {
    "execution": {
     "iopub.execute_input": "2025-07-30T21:41:49.016760Z",
     "iopub.status.busy": "2025-07-30T21:41:49.016369Z",
     "iopub.status.idle": "2025-07-30T21:41:49.065653Z",
     "shell.execute_reply": "2025-07-30T21:41:49.064488Z"
    },
    "papermill": {
     "duration": 0.078487,
     "end_time": "2025-07-30T21:41:49.073184",
     "exception": false,
     "start_time": "2025-07-30T21:41:48.994697",
     "status": "completed"
    },
    "tags": []
   },
   "outputs": [],
   "source": [
    "# Auto-reload the custom package\n",
    "%load_ext autoreload\n",
    "%autoreload 1\n",
    "%aimport fairness_multiverse"
   ]
  },
  {
   "cell_type": "code",
   "execution_count": 7,
   "id": "01c5c9f3",
   "metadata": {
    "execution": {
     "iopub.execute_input": "2025-07-30T21:41:49.120956Z",
     "iopub.status.busy": "2025-07-30T21:41:49.119982Z",
     "iopub.status.idle": "2025-07-30T21:41:51.088418Z",
     "shell.execute_reply": "2025-07-30T21:41:51.087360Z"
    },
    "papermill": {
     "duration": 1.993145,
     "end_time": "2025-07-30T21:41:51.090229",
     "exception": false,
     "start_time": "2025-07-30T21:41:49.097084",
     "status": "completed"
    },
    "tags": []
   },
   "outputs": [],
   "source": [
    "from fairness_multiverse.universe import UniverseAnalysis\n",
    "\n",
    "universe_analysis = UniverseAnalysis(\n",
    "    run_no = run_no,\n",
    "    universe_id = universe_id,\n",
    "    universe = universe,\n",
    "    output_dir=output_dir,\n",
    ")"
   ]
  },
  {
   "cell_type": "code",
   "execution_count": 8,
   "id": "106241f5",
   "metadata": {
    "execution": {
     "iopub.execute_input": "2025-07-30T21:41:51.136479Z",
     "iopub.status.busy": "2025-07-30T21:41:51.135820Z",
     "iopub.status.idle": "2025-07-30T21:41:51.143599Z",
     "shell.execute_reply": "2025-07-30T21:41:51.142618Z"
    },
    "papermill": {
     "duration": 0.032051,
     "end_time": "2025-07-30T21:41:51.145209",
     "exception": false,
     "start_time": "2025-07-30T21:41:51.113158",
     "status": "completed"
    },
    "tags": []
   },
   "outputs": [
    {
     "name": "stdout",
     "output_type": "stream",
     "text": [
      "Using Seed: 2023\n"
     ]
    }
   ],
   "source": [
    "import numpy as np\n",
    "parsed_seed = int(seed)\n",
    "np.random.seed(parsed_seed)\n",
    "print(f\"Using Seed: {parsed_seed}\")"
   ]
  },
  {
   "cell_type": "markdown",
   "id": "e0ebdc57",
   "metadata": {
    "papermill": {
     "duration": 0.020463,
     "end_time": "2025-07-30T21:41:51.187572",
     "exception": false,
     "start_time": "2025-07-30T21:41:51.167109",
     "status": "completed"
    },
    "tags": []
   },
   "source": [
    "# Loading Data"
   ]
  },
  {
   "cell_type": "markdown",
   "id": "681925a3",
   "metadata": {
    "papermill": {
     "duration": 0.018589,
     "end_time": "2025-07-30T21:41:51.226319",
     "exception": false,
     "start_time": "2025-07-30T21:41:51.207730",
     "status": "completed"
    },
    "tags": []
   },
   "source": [
    "Load siab_train, siab_test, siab_calib and/or \n",
    "load siab_train_features, siab_train_labels"
   ]
  },
  {
   "cell_type": "code",
   "execution_count": 9,
   "id": "f0496b8a",
   "metadata": {
    "execution": {
     "iopub.execute_input": "2025-07-30T21:41:51.249069Z",
     "iopub.status.busy": "2025-07-30T21:41:51.248719Z",
     "iopub.status.idle": "2025-07-30T21:42:02.372276Z",
     "shell.execute_reply": "2025-07-30T21:42:02.370905Z"
    },
    "papermill": {
     "duration": 11.137433,
     "end_time": "2025-07-30T21:42:02.374185",
     "exception": false,
     "start_time": "2025-07-30T21:41:51.236752",
     "status": "completed"
    },
    "tags": []
   },
   "outputs": [
    {
     "name": "stdout",
     "output_type": "stream",
     "text": [
      "Loading SIAB data from cache: data/siab_cached.csv.gz\n"
     ]
    },
    {
     "name": "stdout",
     "output_type": "stream",
     "text": [
      "(643690, 164)\n"
     ]
    }
   ],
   "source": [
    "from pathlib import Path\n",
    "import pandas as pd\n",
    "\n",
    "# File paths\n",
    "raw_file = Path(\"data/raw/siab.csv\")\n",
    "cache_file = Path(\"data/siab_cached.csv.gz\")\n",
    "\n",
    "# Ensure cache directory exists\n",
    "cache_file.parent.mkdir(parents=True, exist_ok=True)\n",
    "\n",
    "# Load with simple caching\n",
    "if cache_file.exists():\n",
    "    print(f\"Loading SIAB data from cache: {cache_file}\")\n",
    "    siab = pd.read_csv(cache_file, compression='gzip')\n",
    "else:\n",
    "    print(f\"Cache not found. Reading raw SIAB data: {raw_file}\")\n",
    "    siab = pd.read_csv(raw_file)\n",
    "    siab.to_csv(cache_file, index=False, compression='gzip')\n",
    "    print(f\"Cached SIAB data to: {cache_file}\")\n",
    "\n",
    "# Now use `siab` DataFrame as needed\n",
    "print(siab.shape)"
   ]
  },
  {
   "cell_type": "code",
   "execution_count": 10,
   "id": "db0ca512-5f53-4dba-abdb-a2888bca41ba",
   "metadata": {
    "execution": {
     "iopub.execute_input": "2025-07-30T21:42:02.425789Z",
     "iopub.status.busy": "2025-07-30T21:42:02.425203Z",
     "iopub.status.idle": "2025-07-30T21:42:02.431022Z",
     "shell.execute_reply": "2025-07-30T21:42:02.430058Z"
    },
    "papermill": {
     "duration": 0.031818,
     "end_time": "2025-07-30T21:42:02.432811",
     "exception": false,
     "start_time": "2025-07-30T21:42:02.400993",
     "status": "completed"
    },
    "tags": []
   },
   "outputs": [],
   "source": [
    "#siab"
   ]
  },
  {
   "cell_type": "code",
   "execution_count": 11,
   "id": "a0edb063",
   "metadata": {
    "execution": {
     "iopub.execute_input": "2025-07-30T21:42:02.471338Z",
     "iopub.status.busy": "2025-07-30T21:42:02.470985Z",
     "iopub.status.idle": "2025-07-30T21:42:02.475091Z",
     "shell.execute_reply": "2025-07-30T21:42:02.474350Z"
    },
    "papermill": {
     "duration": 0.023355,
     "end_time": "2025-07-30T21:42:02.476443",
     "exception": false,
     "start_time": "2025-07-30T21:42:02.453088",
     "status": "completed"
    },
    "tags": []
   },
   "outputs": [],
   "source": [
    "#import pandas as pd\n",
    "#\n",
    "#X_train = pd.read_csv(\"./data/X_train.csv\")\n",
    "#y_train = pd.read_csv(\"./data/y_train.csv\")"
   ]
  },
  {
   "cell_type": "code",
   "execution_count": 12,
   "id": "63d08085",
   "metadata": {
    "execution": {
     "iopub.execute_input": "2025-07-30T21:42:02.510290Z",
     "iopub.status.busy": "2025-07-30T21:42:02.509906Z",
     "iopub.status.idle": "2025-07-30T21:42:02.515329Z",
     "shell.execute_reply": "2025-07-30T21:42:02.513943Z"
    },
    "papermill": {
     "duration": 0.028797,
     "end_time": "2025-07-30T21:42:02.517010",
     "exception": false,
     "start_time": "2025-07-30T21:42:02.488213",
     "status": "completed"
    },
    "tags": []
   },
   "outputs": [],
   "source": [
    "#X_test = pd.read_csv(\"./data/X_test.csv\")\n",
    "#y_true = pd.read_csv(\"./data/y_test.csv\")"
   ]
  },
  {
   "cell_type": "code",
   "execution_count": 13,
   "id": "98a8d0fa-1d3d-4ed8-bb2c-281470e24add",
   "metadata": {
    "execution": {
     "iopub.execute_input": "2025-07-30T21:42:02.545771Z",
     "iopub.status.busy": "2025-07-30T21:42:02.545280Z",
     "iopub.status.idle": "2025-07-30T21:42:02.550365Z",
     "shell.execute_reply": "2025-07-30T21:42:02.549465Z"
    },
    "papermill": {
     "duration": 0.023007,
     "end_time": "2025-07-30T21:42:02.552429",
     "exception": false,
     "start_time": "2025-07-30T21:42:02.529422",
     "status": "completed"
    },
    "tags": []
   },
   "outputs": [],
   "source": [
    "# Calibration data for conformal\n",
    "#X_calib = pd.read_csv(\"./data/X_calib.csv\")\n",
    "#y_calib = pd.read_csv(\"./data/y_calib.csv\")"
   ]
  },
  {
   "cell_type": "markdown",
   "id": "997051c5-15bd-4b69-9786-c3001a3ce484",
   "metadata": {
    "papermill": {
     "duration": 0.023164,
     "end_time": "2025-07-30T21:42:02.598032",
     "exception": false,
     "start_time": "2025-07-30T21:42:02.574868",
     "status": "completed"
    },
    "tags": []
   },
   "source": [
    "# Splitting Data and Setting Training Data Size"
   ]
  },
  {
   "cell_type": "code",
   "execution_count": 14,
   "id": "e993b61f-042d-41a6-8c81-f55681f86335",
   "metadata": {
    "execution": {
     "iopub.execute_input": "2025-07-30T21:42:02.645055Z",
     "iopub.status.busy": "2025-07-30T21:42:02.644592Z",
     "iopub.status.idle": "2025-07-30T21:42:02.658480Z",
     "shell.execute_reply": "2025-07-30T21:42:02.657500Z"
    },
    "papermill": {
     "duration": 0.040032,
     "end_time": "2025-07-30T21:42:02.660450",
     "exception": false,
     "start_time": "2025-07-30T21:42:02.620418",
     "status": "completed"
    },
    "tags": []
   },
   "outputs": [],
   "source": [
    "def sample_by_year_size(df,\n",
    "                        training_year: str,\n",
    "                        training_size: str,\n",
    "                        random_state: int = 42):\n",
    "    # --- parse training_year into a list of int years ---\n",
    "    if \"_\" in training_year:\n",
    "        start_str, end_str = training_year.split(\"_\", 1)\n",
    "        start = int(start_str)\n",
    "        end   = int(end_str) if len(end_str) == 4 else (int(end_str) + (start // 100)*100)\n",
    "        years = list(range(start, end + 1))\n",
    "    else:\n",
    "        years = [int(training_year)]\n",
    "\n",
    "    df = df[df[\"year\"].isin(years)].reset_index(drop=True)\n",
    "\n",
    "    # --- map training_size to total number of samples ---\n",
    "    total_map = {\"25k\": 25_000, \"5k\": 5_000, \"1k\": 1_000}\n",
    "    if training_size not in total_map:\n",
    "        return df  # e.g. \"all\"\n",
    "\n",
    "    total_samples = total_map[training_size]\n",
    "    n_years       = len(years)\n",
    "    base          = total_samples // n_years\n",
    "    remainder     = total_samples % n_years\n",
    "\n",
    "    # --- build a dict: year -> how many to sample ---\n",
    "    # give +1 to the first `remainder` years in ascending order\n",
    "    quotas = {\n",
    "        year: base + (1 if idx < remainder else 0)\n",
    "        for idx, year in enumerate(sorted(years))\n",
    "    }\n",
    "\n",
    "    # --- sample per‐year according to the quota dict ---\n",
    "    sampled = (\n",
    "        df\n",
    "        .groupby(\"year\", group_keys=False)\n",
    "        .apply(lambda grp: grp.sample(\n",
    "            n=min(len(grp), quotas[grp.name]),\n",
    "            random_state=random_state))\n",
    "        .reset_index(drop=True)\n",
    "    )\n",
    "\n",
    "    return sampled"
   ]
  },
  {
   "cell_type": "code",
   "execution_count": 15,
   "id": "c0ccd338-0e02-41f3-a09d-f56f9266e3fb",
   "metadata": {
    "execution": {
     "iopub.execute_input": "2025-07-30T21:42:02.716969Z",
     "iopub.status.busy": "2025-07-30T21:42:02.716536Z",
     "iopub.status.idle": "2025-07-30T21:42:02.722099Z",
     "shell.execute_reply": "2025-07-30T21:42:02.721117Z"
    },
    "papermill": {
     "duration": 0.039443,
     "end_time": "2025-07-30T21:42:02.724121",
     "exception": false,
     "start_time": "2025-07-30T21:42:02.684678",
     "status": "completed"
    },
    "tags": []
   },
   "outputs": [],
   "source": [
    "#universe[\"training_size\"]"
   ]
  },
  {
   "cell_type": "code",
   "execution_count": 16,
   "id": "ca707fd7-8047-4acd-bfa5-66248fbbf8e6",
   "metadata": {
    "execution": {
     "iopub.execute_input": "2025-07-30T21:42:02.774274Z",
     "iopub.status.busy": "2025-07-30T21:42:02.773486Z",
     "iopub.status.idle": "2025-07-30T21:42:02.778659Z",
     "shell.execute_reply": "2025-07-30T21:42:02.777736Z"
    },
    "papermill": {
     "duration": 0.031945,
     "end_time": "2025-07-30T21:42:02.780360",
     "exception": false,
     "start_time": "2025-07-30T21:42:02.748415",
     "status": "completed"
    },
    "tags": []
   },
   "outputs": [],
   "source": [
    "#universe[\"training_year\"]"
   ]
  },
  {
   "cell_type": "code",
   "execution_count": 17,
   "id": "aea9c6ef-6f46-42c8-85eb-5a62025c1508",
   "metadata": {
    "execution": {
     "iopub.execute_input": "2025-07-30T21:42:02.824467Z",
     "iopub.status.busy": "2025-07-30T21:42:02.822809Z",
     "iopub.status.idle": "2025-07-30T21:42:03.498914Z",
     "shell.execute_reply": "2025-07-30T21:42:03.498146Z"
    },
    "papermill": {
     "duration": 0.699094,
     "end_time": "2025-07-30T21:42:03.500920",
     "exception": false,
     "start_time": "2025-07-30T21:42:02.801826",
     "status": "completed"
    },
    "tags": []
   },
   "outputs": [],
   "source": [
    "siab_train = sample_by_year_size(siab,\n",
    "                               training_year=universe[\"training_year\"],\n",
    "                               training_size=universe[\"training_size\"])"
   ]
  },
  {
   "cell_type": "code",
   "execution_count": 18,
   "id": "8d3afb32-789d-442c-8d5d-9f5aa8dd2eed",
   "metadata": {
    "execution": {
     "iopub.execute_input": "2025-07-30T21:42:03.544664Z",
     "iopub.status.busy": "2025-07-30T21:42:03.544150Z",
     "iopub.status.idle": "2025-07-30T21:42:03.549251Z",
     "shell.execute_reply": "2025-07-30T21:42:03.548322Z"
    },
    "papermill": {
     "duration": 0.029959,
     "end_time": "2025-07-30T21:42:03.550957",
     "exception": false,
     "start_time": "2025-07-30T21:42:03.520998",
     "status": "completed"
    },
    "tags": []
   },
   "outputs": [],
   "source": [
    "#siab_train.shape"
   ]
  },
  {
   "cell_type": "code",
   "execution_count": 19,
   "id": "d582db68-1a4c-47fb-84fc-08518dc1975a",
   "metadata": {
    "execution": {
     "iopub.execute_input": "2025-07-30T21:42:03.597978Z",
     "iopub.status.busy": "2025-07-30T21:42:03.597379Z",
     "iopub.status.idle": "2025-07-30T21:42:03.603135Z",
     "shell.execute_reply": "2025-07-30T21:42:03.602094Z"
    },
    "papermill": {
     "duration": 0.029351,
     "end_time": "2025-07-30T21:42:03.604690",
     "exception": false,
     "start_time": "2025-07-30T21:42:03.575339",
     "status": "completed"
    },
    "tags": []
   },
   "outputs": [],
   "source": [
    "#display(siab_train.groupby(\"year\").size())"
   ]
  },
  {
   "cell_type": "code",
   "execution_count": 20,
   "id": "a561edb4-d032-42cb-8256-22eac1111c64",
   "metadata": {
    "execution": {
     "iopub.execute_input": "2025-07-30T21:42:03.648470Z",
     "iopub.status.busy": "2025-07-30T21:42:03.647460Z",
     "iopub.status.idle": "2025-07-30T21:42:03.907934Z",
     "shell.execute_reply": "2025-07-30T21:42:03.906735Z"
    },
    "papermill": {
     "duration": 0.284501,
     "end_time": "2025-07-30T21:42:03.910009",
     "exception": false,
     "start_time": "2025-07-30T21:42:03.625508",
     "status": "completed"
    },
    "tags": []
   },
   "outputs": [],
   "source": [
    "#siab_train = siab_s[siab_s.year < 2015]\n",
    "siab_calib = siab[siab.year == 2015]\n",
    "siab_test = siab[siab.year == 2016]"
   ]
  },
  {
   "cell_type": "code",
   "execution_count": 21,
   "id": "472de16f-c3db-4916-846b-1f0de9cf1746",
   "metadata": {
    "execution": {
     "iopub.execute_input": "2025-07-30T21:42:03.955122Z",
     "iopub.status.busy": "2025-07-30T21:42:03.954210Z",
     "iopub.status.idle": "2025-07-30T21:42:03.961242Z",
     "shell.execute_reply": "2025-07-30T21:42:03.960352Z"
    },
    "papermill": {
     "duration": 0.031198,
     "end_time": "2025-07-30T21:42:03.962909",
     "exception": false,
     "start_time": "2025-07-30T21:42:03.931711",
     "status": "completed"
    },
    "tags": []
   },
   "outputs": [],
   "source": [
    "X_train = siab_train.iloc[:,4:164]\n",
    "y_train = siab_train.iloc[:, [3]]"
   ]
  },
  {
   "cell_type": "code",
   "execution_count": 22,
   "id": "828c96af-f43a-4ed6-ba47-8ac73a47d56c",
   "metadata": {
    "execution": {
     "iopub.execute_input": "2025-07-30T21:42:04.009824Z",
     "iopub.status.busy": "2025-07-30T21:42:04.009309Z",
     "iopub.status.idle": "2025-07-30T21:42:04.068381Z",
     "shell.execute_reply": "2025-07-30T21:42:04.067073Z"
    },
    "papermill": {
     "duration": 0.085445,
     "end_time": "2025-07-30T21:42:04.070269",
     "exception": false,
     "start_time": "2025-07-30T21:42:03.984824",
     "status": "completed"
    },
    "tags": []
   },
   "outputs": [],
   "source": [
    "X_calib = siab_calib.iloc[:,4:164]\n",
    "y_calib = siab_calib.iloc[:, [3]]"
   ]
  },
  {
   "cell_type": "code",
   "execution_count": 23,
   "id": "c34be9c3-6bd6-476e-acd3-845840e303be",
   "metadata": {
    "execution": {
     "iopub.execute_input": "2025-07-30T21:42:04.114187Z",
     "iopub.status.busy": "2025-07-30T21:42:04.113755Z",
     "iopub.status.idle": "2025-07-30T21:42:04.170289Z",
     "shell.execute_reply": "2025-07-30T21:42:04.168459Z"
    },
    "papermill": {
     "duration": 0.083209,
     "end_time": "2025-07-30T21:42:04.175537",
     "exception": false,
     "start_time": "2025-07-30T21:42:04.092328",
     "status": "completed"
    },
    "tags": []
   },
   "outputs": [],
   "source": [
    "X_test = siab_test.iloc[:,4:164]\n",
    "y_true = siab_test.iloc[:, [3]]"
   ]
  },
  {
   "cell_type": "markdown",
   "id": "9901737e-04df-44f0-9100-f5ad144ed040",
   "metadata": {
    "papermill": {
     "duration": 0.022358,
     "end_time": "2025-07-30T21:42:04.221384",
     "exception": false,
     "start_time": "2025-07-30T21:42:04.199026",
     "status": "completed"
    },
    "tags": []
   },
   "source": [
    "# Splitting Data and Setting Training Data Size OLD VERSION"
   ]
  },
  {
   "cell_type": "code",
   "execution_count": 24,
   "id": "acbc8f7d-8fc8-4e86-8c59-5dcb0f58384b",
   "metadata": {
    "execution": {
     "iopub.execute_input": "2025-07-30T21:42:04.268149Z",
     "iopub.status.busy": "2025-07-30T21:42:04.267576Z",
     "iopub.status.idle": "2025-07-30T21:42:04.272939Z",
     "shell.execute_reply": "2025-07-30T21:42:04.272068Z"
    },
    "papermill": {
     "duration": 0.029953,
     "end_time": "2025-07-30T21:42:04.274536",
     "exception": false,
     "start_time": "2025-07-30T21:42:04.244583",
     "status": "completed"
    },
    "tags": []
   },
   "outputs": [],
   "source": [
    "#def sample_by_year(df, training_size, random_state=42):\n",
    "#    if training_size == \"2014\":\n",
    "#        return df[df[\"year\"] == 2014].reset_index(drop=True)\n",
    "#    \n",
    "#    size_map = {\n",
    "#        \"25k\": 5000,\n",
    "#        \"5k\": 1000,\n",
    "#        \"1k\": 200\n",
    "#    }\n",
    "#\n",
    "#    if training_size not in size_map:\n",
    "#        return df.reset_index(drop=True)  # use all data\n",
    "#\n",
    "#    n_per_year = size_map[training_size]\n",
    "#    grouped = df.groupby(\"year\")\n",
    "#    sampled = grouped.apply(lambda x: x.sample(n=min(n_per_year, len(x)), random_state=random_state))\n",
    "#    return sampled.reset_index(drop=True)"
   ]
  },
  {
   "cell_type": "code",
   "execution_count": 25,
   "id": "6d931f52-beaf-43ff-9e78-9d44a448d54e",
   "metadata": {
    "execution": {
     "iopub.execute_input": "2025-07-30T21:42:04.319403Z",
     "iopub.status.busy": "2025-07-30T21:42:04.318948Z",
     "iopub.status.idle": "2025-07-30T21:42:04.324913Z",
     "shell.execute_reply": "2025-07-30T21:42:04.323574Z"
    },
    "papermill": {
     "duration": 0.03269,
     "end_time": "2025-07-30T21:42:04.329389",
     "exception": false,
     "start_time": "2025-07-30T21:42:04.296699",
     "status": "completed"
    },
    "tags": []
   },
   "outputs": [],
   "source": [
    "#siab_s = sample_by_year(siab, universe[\"training_size\"])"
   ]
  },
  {
   "cell_type": "code",
   "execution_count": 26,
   "id": "5db0a40e-a4e2-4920-be85-b12ae061d70d",
   "metadata": {
    "execution": {
     "iopub.execute_input": "2025-07-30T21:42:04.375179Z",
     "iopub.status.busy": "2025-07-30T21:42:04.374683Z",
     "iopub.status.idle": "2025-07-30T21:42:04.379467Z",
     "shell.execute_reply": "2025-07-30T21:42:04.378562Z"
    },
    "papermill": {
     "duration": 0.029378,
     "end_time": "2025-07-30T21:42:04.380930",
     "exception": false,
     "start_time": "2025-07-30T21:42:04.351552",
     "status": "completed"
    },
    "tags": []
   },
   "outputs": [],
   "source": [
    "#display(siab_s.groupby(\"year\").size())"
   ]
  },
  {
   "cell_type": "code",
   "execution_count": 27,
   "id": "e6c733c5",
   "metadata": {
    "execution": {
     "iopub.execute_input": "2025-07-30T21:42:04.425832Z",
     "iopub.status.busy": "2025-07-30T21:42:04.425333Z",
     "iopub.status.idle": "2025-07-30T21:42:04.524208Z",
     "shell.execute_reply": "2025-07-30T21:42:04.523178Z"
    },
    "papermill": {
     "duration": 0.123369,
     "end_time": "2025-07-30T21:42:04.526071",
     "exception": false,
     "start_time": "2025-07-30T21:42:04.402702",
     "status": "completed"
    },
    "tags": []
   },
   "outputs": [],
   "source": [
    "# Auxiliary data needed downstream in the pipeline\n",
    "\n",
    "org_train = X_train.copy()\n",
    "org_test = X_test.copy()\n",
    "org_calib = X_calib.copy()"
   ]
  },
  {
   "cell_type": "code",
   "execution_count": 28,
   "id": "1466abac-c6da-4492-a62f-4240ae3783af",
   "metadata": {
    "execution": {
     "iopub.execute_input": "2025-07-30T21:42:04.569965Z",
     "iopub.status.busy": "2025-07-30T21:42:04.569478Z",
     "iopub.status.idle": "2025-07-30T21:42:04.575345Z",
     "shell.execute_reply": "2025-07-30T21:42:04.574314Z"
    },
    "papermill": {
     "duration": 0.02925,
     "end_time": "2025-07-30T21:42:04.576888",
     "exception": false,
     "start_time": "2025-07-30T21:42:04.547638",
     "status": "completed"
    },
    "tags": []
   },
   "outputs": [],
   "source": [
    "# put in other script?\n",
    "# Group sizes\n",
    "\n",
    "#def calculate_percentages(df, df_name):\n",
    "#    total_entries = len(df)\n",
    "#\n",
    "#    female_pct = (df['frau1'] == 1).mean() * 100\n",
    "#    non_german_pct = ((df['maxdeutsch1'] == 0) & (df['maxdeutsch.Missing.'] == 0)).mean() * 100\n",
    "#    non_german_male_pct = ((df['frau1'] == 0) & (df['maxdeutsch1'] == 0) & (df['maxdeutsch.Missing.'] == 0)).mean() * 100\n",
    "#    non_german_female_pct = ((df['frau1'] == 1) & (df['maxdeutsch1'] == 0) & (df['maxdeutsch.Missing.'] == 0)).mean() * 100\n",
    "#\n",
    "#    print(f\"--- {df_name} ---\")\n",
    "#    print(f\"Female: {female_pct:.2f}%\")\n",
    "#    print(f\"Non-German: {non_german_pct:.2f}%\")\n",
    "#    print(f\"Non-German Male: {non_german_male_pct:.2f}%\")\n",
    "#    print(f\"Non-German Female: {non_german_female_pct:.2f}%\\n\")\n",
    "#\n",
    "## Calculate for each DataFrame\n",
    "#calculate_percentages(siab_calib, \"siab_calib\")\n",
    "#calculate_percentages(siab_test, \"siab_test\")\n",
    "#calculate_percentages(siab_train, \"siab_train\")"
   ]
  },
  {
   "cell_type": "markdown",
   "id": "0a4a1b33",
   "metadata": {
    "papermill": {
     "duration": 0.020891,
     "end_time": "2025-07-30T21:42:04.620288",
     "exception": false,
     "start_time": "2025-07-30T21:42:04.599397",
     "status": "completed"
    },
    "tags": []
   },
   "source": [
    "# Preprocessing Data"
   ]
  },
  {
   "cell_type": "code",
   "execution_count": 29,
   "id": "ca879031",
   "metadata": {
    "execution": {
     "iopub.execute_input": "2025-07-30T21:42:04.664488Z",
     "iopub.status.busy": "2025-07-30T21:42:04.663949Z",
     "iopub.status.idle": "2025-07-30T21:42:04.670500Z",
     "shell.execute_reply": "2025-07-30T21:42:04.669572Z"
    },
    "papermill": {
     "duration": 0.031211,
     "end_time": "2025-07-30T21:42:04.672434",
     "exception": false,
     "start_time": "2025-07-30T21:42:04.641223",
     "status": "completed"
    },
    "tags": []
   },
   "outputs": [],
   "source": [
    "# EXCLUDE PROTECTED FEATURES\n",
    "# ----------------------\n",
    "# \"exclude_features\": \"none\", # \"nationality\", \"sex\", \"nationality-sex\"\n",
    "\n",
    "excluded_features = universe[\"exclude_features\"].split(\"-\") # split, e.g.: \"nationality-sex\" -> [\"nationality\", \"sex\"]\n",
    "excluded_features_dictionary = {\n",
    "    \"nationality\": [\"maxdeutsch1\", \"maxdeutsch.Missing.\"],\n",
    "    \"sex\": [\"frau1\"],\n",
    "    \"age\": [\"age\"],\n",
    "}\n"
   ]
  },
  {
   "cell_type": "code",
   "execution_count": 30,
   "id": "b745ac60",
   "metadata": {
    "execution": {
     "iopub.execute_input": "2025-07-30T21:42:04.718004Z",
     "iopub.status.busy": "2025-07-30T21:42:04.717496Z",
     "iopub.status.idle": "2025-07-30T21:42:04.723720Z",
     "shell.execute_reply": "2025-07-30T21:42:04.722798Z"
    },
    "papermill": {
     "duration": 0.03075,
     "end_time": "2025-07-30T21:42:04.725562",
     "exception": false,
     "start_time": "2025-07-30T21:42:04.694812",
     "status": "completed"
    },
    "tags": []
   },
   "outputs": [],
   "source": [
    "# Code nice names to column names\n",
    "\n",
    "excluded_features_columns = [\n",
    "    excluded_features_dictionary[f] for f in excluded_features if len(f) > 0 and f != \"none\"\n",
    "]"
   ]
  },
  {
   "cell_type": "code",
   "execution_count": 31,
   "id": "f84f73a2",
   "metadata": {
    "execution": {
     "iopub.execute_input": "2025-07-30T21:42:04.770889Z",
     "iopub.status.busy": "2025-07-30T21:42:04.770424Z",
     "iopub.status.idle": "2025-07-30T21:42:04.776607Z",
     "shell.execute_reply": "2025-07-30T21:42:04.775654Z"
    },
    "papermill": {
     "duration": 0.030128,
     "end_time": "2025-07-30T21:42:04.778498",
     "exception": false,
     "start_time": "2025-07-30T21:42:04.748370",
     "status": "completed"
    },
    "tags": []
   },
   "outputs": [],
   "source": [
    "from utils import flatten_once\n",
    "\n",
    "excluded_features_columns = flatten_once(excluded_features_columns)"
   ]
  },
  {
   "cell_type": "code",
   "execution_count": 32,
   "id": "884dea22",
   "metadata": {
    "execution": {
     "iopub.execute_input": "2025-07-30T21:42:04.824653Z",
     "iopub.status.busy": "2025-07-30T21:42:04.823945Z",
     "iopub.status.idle": "2025-07-30T21:42:04.831888Z",
     "shell.execute_reply": "2025-07-30T21:42:04.830810Z"
    },
    "papermill": {
     "duration": 0.032043,
     "end_time": "2025-07-30T21:42:04.833422",
     "exception": false,
     "start_time": "2025-07-30T21:42:04.801379",
     "status": "completed"
    },
    "tags": []
   },
   "outputs": [
    {
     "name": "stdout",
     "output_type": "stream",
     "text": [
      "Dropping features: ['age']\n"
     ]
    }
   ],
   "source": [
    "if len(excluded_features_columns) > 0:\n",
    "    print(f\"Dropping features: {excluded_features_columns}\")\n",
    "    X_train.drop(excluded_features_columns, axis=1, inplace=True)"
   ]
  },
  {
   "cell_type": "code",
   "execution_count": 33,
   "id": "95ab8b16",
   "metadata": {
    "execution": {
     "iopub.execute_input": "2025-07-30T21:42:04.878784Z",
     "iopub.status.busy": "2025-07-30T21:42:04.878277Z",
     "iopub.status.idle": "2025-07-30T21:42:04.934654Z",
     "shell.execute_reply": "2025-07-30T21:42:04.933624Z"
    },
    "papermill": {
     "duration": 0.081213,
     "end_time": "2025-07-30T21:42:04.936443",
     "exception": false,
     "start_time": "2025-07-30T21:42:04.855230",
     "status": "completed"
    },
    "tags": []
   },
   "outputs": [
    {
     "name": "stdout",
     "output_type": "stream",
     "text": [
      "Dropping features: ['age']\n"
     ]
    }
   ],
   "source": [
    "if len(excluded_features_columns) > 0:\n",
    "    print(f\"Dropping features: {excluded_features_columns}\")\n",
    "    X_test.drop(excluded_features_columns, axis=1, inplace=True)"
   ]
  },
  {
   "cell_type": "code",
   "execution_count": 34,
   "id": "1853aaf5-fb9f-46cb-a2b5-8ea4ae2237e4",
   "metadata": {
    "execution": {
     "iopub.execute_input": "2025-07-30T21:42:04.994349Z",
     "iopub.status.busy": "2025-07-30T21:42:04.993705Z",
     "iopub.status.idle": "2025-07-30T21:42:05.051859Z",
     "shell.execute_reply": "2025-07-30T21:42:05.047368Z"
    },
    "papermill": {
     "duration": 0.086334,
     "end_time": "2025-07-30T21:42:05.054192",
     "exception": false,
     "start_time": "2025-07-30T21:42:04.967858",
     "status": "completed"
    },
    "tags": []
   },
   "outputs": [
    {
     "name": "stdout",
     "output_type": "stream",
     "text": [
      "Dropping features: ['age']\n"
     ]
    }
   ],
   "source": [
    "if len(excluded_features_columns) > 0:\n",
    "    print(f\"Dropping features: {excluded_features_columns}\")\n",
    "    X_calib.drop(excluded_features_columns, axis=1, inplace=True)"
   ]
  },
  {
   "cell_type": "code",
   "execution_count": 35,
   "id": "6727d079-03e5-481e-9d38-292a90b7a0a8",
   "metadata": {
    "execution": {
     "iopub.execute_input": "2025-07-30T21:42:05.114735Z",
     "iopub.status.busy": "2025-07-30T21:42:05.114278Z",
     "iopub.status.idle": "2025-07-30T21:42:05.119311Z",
     "shell.execute_reply": "2025-07-30T21:42:05.118286Z"
    },
    "papermill": {
     "duration": 0.033838,
     "end_time": "2025-07-30T21:42:05.121203",
     "exception": false,
     "start_time": "2025-07-30T21:42:05.087365",
     "status": "completed"
    },
    "tags": []
   },
   "outputs": [],
   "source": [
    "# SPLIT & STRATIFY DATA\n",
    "# ----------------------"
   ]
  },
  {
   "cell_type": "code",
   "execution_count": 36,
   "id": "76c4dc6d",
   "metadata": {
    "execution": {
     "iopub.execute_input": "2025-07-30T21:42:05.154493Z",
     "iopub.status.busy": "2025-07-30T21:42:05.153752Z",
     "iopub.status.idle": "2025-07-30T21:42:05.158957Z",
     "shell.execute_reply": "2025-07-30T21:42:05.157870Z"
    },
    "papermill": {
     "duration": 0.021963,
     "end_time": "2025-07-30T21:42:05.161077",
     "exception": false,
     "start_time": "2025-07-30T21:42:05.139114",
     "status": "completed"
    },
    "tags": []
   },
   "outputs": [],
   "source": [
    "# EXCLUDE CERTAIN SUBGROUPS\n",
    "# ----------------------\n",
    "\n",
    "mode = universe.get(\"exclude_subgroups\", \"keep-all\") \n",
    "# Fetches the exclude_subgroups setting from the universe dict.\n",
    "# Defaults to \"keep-all\" if the key is missing."
   ]
  },
  {
   "cell_type": "code",
   "execution_count": 37,
   "id": "21994072",
   "metadata": {
    "execution": {
     "iopub.execute_input": "2025-07-30T21:42:05.211362Z",
     "iopub.status.busy": "2025-07-30T21:42:05.210456Z",
     "iopub.status.idle": "2025-07-30T21:42:05.216249Z",
     "shell.execute_reply": "2025-07-30T21:42:05.215438Z"
    },
    "papermill": {
     "duration": 0.032535,
     "end_time": "2025-07-30T21:42:05.217713",
     "exception": false,
     "start_time": "2025-07-30T21:42:05.185178",
     "status": "completed"
    },
    "tags": []
   },
   "outputs": [],
   "source": [
    "if mode == \"keep-all\":\n",
    "    keep_mask = pd.Series(True, index=org_train.index)\n",
    "\n",
    "# org_train contains the original feature columns from features_org (in Simson)\n",
    "# features_org contains unprocessed features, for me X_train at beginning ???\n",
    "# For keep-all, creates a boolean Series (keep_mask) of all True, so no rows are removed.\n",
    "\n",
    "elif mode == \"drop-non-german\":\n",
    "    keep_mask = org_train[\"maxdeutsch1\"] == 1 # ??? what about missing values?\n",
    "\n",
    "else:\n",
    "    raise ValueError(f\"Unsupported mode for exclude_subgroups: {mode}\")\n"
   ]
  },
  {
   "cell_type": "code",
   "execution_count": 38,
   "id": "71651440",
   "metadata": {
    "execution": {
     "iopub.execute_input": "2025-07-30T21:42:05.249028Z",
     "iopub.status.busy": "2025-07-30T21:42:05.248270Z",
     "iopub.status.idle": "2025-07-30T21:42:05.254000Z",
     "shell.execute_reply": "2025-07-30T21:42:05.253314Z"
    },
    "papermill": {
     "duration": 0.021326,
     "end_time": "2025-07-30T21:42:05.255441",
     "exception": false,
     "start_time": "2025-07-30T21:42:05.234115",
     "status": "completed"
    },
    "tags": []
   },
   "outputs": [],
   "source": [
    "n_drop = (~keep_mask).sum() # Calculates how many rows are set to be dropped\n",
    "if n_drop > 0:\n",
    "    pct = n_drop / len(keep_mask) * 100\n",
    "    print(f\"Dropping {n_drop} rows ({pct:.2f}%) where mode='{mode}'\")"
   ]
  },
  {
   "cell_type": "code",
   "execution_count": 39,
   "id": "5fb8eee5",
   "metadata": {
    "execution": {
     "iopub.execute_input": "2025-07-30T21:42:05.303285Z",
     "iopub.status.busy": "2025-07-30T21:42:05.302786Z",
     "iopub.status.idle": "2025-07-30T21:42:05.309986Z",
     "shell.execute_reply": "2025-07-30T21:42:05.308957Z"
    },
    "papermill": {
     "duration": 0.034952,
     "end_time": "2025-07-30T21:42:05.311748",
     "exception": false,
     "start_time": "2025-07-30T21:42:05.276796",
     "status": "completed"
    },
    "tags": []
   },
   "outputs": [],
   "source": [
    "X_train = X_train[keep_mask]"
   ]
  },
  {
   "cell_type": "code",
   "execution_count": 40,
   "id": "b202bb3a",
   "metadata": {
    "execution": {
     "iopub.execute_input": "2025-07-30T21:42:05.363943Z",
     "iopub.status.busy": "2025-07-30T21:42:05.363460Z",
     "iopub.status.idle": "2025-07-30T21:42:05.373826Z",
     "shell.execute_reply": "2025-07-30T21:42:05.372712Z"
    },
    "papermill": {
     "duration": 0.039071,
     "end_time": "2025-07-30T21:42:05.375696",
     "exception": false,
     "start_time": "2025-07-30T21:42:05.336625",
     "status": "completed"
    },
    "tags": []
   },
   "outputs": [],
   "source": [
    "y_train = y_train[keep_mask]"
   ]
  },
  {
   "cell_type": "markdown",
   "id": "493e2ac3",
   "metadata": {
    "papermill": {
     "duration": 0.023367,
     "end_time": "2025-07-30T21:42:05.417586",
     "exception": false,
     "start_time": "2025-07-30T21:42:05.394219",
     "status": "completed"
    },
    "tags": []
   },
   "source": [
    "# Model Training"
   ]
  },
  {
   "cell_type": "code",
   "execution_count": 41,
   "id": "679e1268",
   "metadata": {
    "execution": {
     "iopub.execute_input": "2025-07-30T21:42:05.454243Z",
     "iopub.status.busy": "2025-07-30T21:42:05.453877Z",
     "iopub.status.idle": "2025-07-30T21:42:05.552492Z",
     "shell.execute_reply": "2025-07-30T21:42:05.549766Z"
    },
    "papermill": {
     "duration": 0.115407,
     "end_time": "2025-07-30T21:42:05.554388",
     "exception": false,
     "start_time": "2025-07-30T21:42:05.438981",
     "status": "completed"
    },
    "tags": []
   },
   "outputs": [],
   "source": [
    "from sklearn.linear_model import LogisticRegression\n",
    "from sklearn.ensemble import GradientBoostingClassifier, RandomForestClassifier\n",
    "\n",
    "if (universe[\"model\"] == \"logreg\"):\n",
    "    model = LogisticRegression() #penalty=\"none\") #, solver=\"newton-cg\", max_iter=1) # include random_state=19 ?\n",
    "elif (universe[\"model\"] == \"penalized_logreg\"):\n",
    "    model = LogisticRegression(penalty=\"l2\", C=1.0) #, solver=\"newton-cg\", max_iter=1)\n",
    "elif (universe[\"model\"] == \"rf\"):\n",
    "    model = RandomForestClassifier(n_estimators=100, n_jobs=-1)\n",
    "elif (universe[\"model\"] == \"gbm\"):\n",
    "    model = GradientBoostingClassifier()\n",
    "elif (universe[\"model\"] == \"elasticnet\"):\n",
    "    model = LogisticRegression(penalty = 'elasticnet', solver = 'saga', l1_ratio = 0.5, max_iter=5000) # which solver to use?\n",
    "else:\n",
    "    raise \"Unsupported universe.model\""
   ]
  },
  {
   "cell_type": "code",
   "execution_count": 42,
   "id": "0cc8f744",
   "metadata": {
    "execution": {
     "iopub.execute_input": "2025-07-30T21:42:05.621883Z",
     "iopub.status.busy": "2025-07-30T21:42:05.621156Z",
     "iopub.status.idle": "2025-07-30T21:42:05.628045Z",
     "shell.execute_reply": "2025-07-30T21:42:05.626824Z"
    },
    "papermill": {
     "duration": 0.034316,
     "end_time": "2025-07-30T21:42:05.630026",
     "exception": false,
     "start_time": "2025-07-30T21:42:05.595710",
     "status": "completed"
    },
    "tags": []
   },
   "outputs": [],
   "source": [
    "import numpy as np\n",
    "from sklearn.pipeline import Pipeline\n",
    "from sklearn.preprocessing import StandardScaler\n",
    "\n",
    "model = Pipeline([\n",
    "    #(\"continuous_processor\", continuous_processor),\n",
    "    #(\"categorical_preprocessor\", categorical_preprocessor),\n",
    "    (\"scale\", StandardScaler() if universe[\"scale\"] == \"scale\" else None), \n",
    "    (\"model\", model),\n",
    "])"
   ]
  },
  {
   "cell_type": "code",
   "execution_count": 43,
   "id": "9442c04d",
   "metadata": {
    "execution": {
     "iopub.execute_input": "2025-07-30T21:42:05.678981Z",
     "iopub.status.busy": "2025-07-30T21:42:05.678231Z",
     "iopub.status.idle": "2025-07-30T21:42:06.683245Z",
     "shell.execute_reply": "2025-07-30T21:42:06.682320Z"
    },
    "papermill": {
     "duration": 1.032515,
     "end_time": "2025-07-30T21:42:06.685003",
     "exception": false,
     "start_time": "2025-07-30T21:42:05.652488",
     "status": "completed"
    },
    "tags": []
   },
   "outputs": [
    {
     "data": {
      "text/html": [
       "<style>#sk-container-id-1 {color: black;background-color: white;}#sk-container-id-1 pre{padding: 0;}#sk-container-id-1 div.sk-toggleable {background-color: white;}#sk-container-id-1 label.sk-toggleable__label {cursor: pointer;display: block;width: 100%;margin-bottom: 0;padding: 0.3em;box-sizing: border-box;text-align: center;}#sk-container-id-1 label.sk-toggleable__label-arrow:before {content: \"▸\";float: left;margin-right: 0.25em;color: #696969;}#sk-container-id-1 label.sk-toggleable__label-arrow:hover:before {color: black;}#sk-container-id-1 div.sk-estimator:hover label.sk-toggleable__label-arrow:before {color: black;}#sk-container-id-1 div.sk-toggleable__content {max-height: 0;max-width: 0;overflow: hidden;text-align: left;background-color: #f0f8ff;}#sk-container-id-1 div.sk-toggleable__content pre {margin: 0.2em;color: black;border-radius: 0.25em;background-color: #f0f8ff;}#sk-container-id-1 input.sk-toggleable__control:checked~div.sk-toggleable__content {max-height: 200px;max-width: 100%;overflow: auto;}#sk-container-id-1 input.sk-toggleable__control:checked~label.sk-toggleable__label-arrow:before {content: \"▾\";}#sk-container-id-1 div.sk-estimator input.sk-toggleable__control:checked~label.sk-toggleable__label {background-color: #d4ebff;}#sk-container-id-1 div.sk-label input.sk-toggleable__control:checked~label.sk-toggleable__label {background-color: #d4ebff;}#sk-container-id-1 input.sk-hidden--visually {border: 0;clip: rect(1px 1px 1px 1px);clip: rect(1px, 1px, 1px, 1px);height: 1px;margin: -1px;overflow: hidden;padding: 0;position: absolute;width: 1px;}#sk-container-id-1 div.sk-estimator {font-family: monospace;background-color: #f0f8ff;border: 1px dotted black;border-radius: 0.25em;box-sizing: border-box;margin-bottom: 0.5em;}#sk-container-id-1 div.sk-estimator:hover {background-color: #d4ebff;}#sk-container-id-1 div.sk-parallel-item::after {content: \"\";width: 100%;border-bottom: 1px solid gray;flex-grow: 1;}#sk-container-id-1 div.sk-label:hover label.sk-toggleable__label {background-color: #d4ebff;}#sk-container-id-1 div.sk-serial::before {content: \"\";position: absolute;border-left: 1px solid gray;box-sizing: border-box;top: 0;bottom: 0;left: 50%;z-index: 0;}#sk-container-id-1 div.sk-serial {display: flex;flex-direction: column;align-items: center;background-color: white;padding-right: 0.2em;padding-left: 0.2em;position: relative;}#sk-container-id-1 div.sk-item {position: relative;z-index: 1;}#sk-container-id-1 div.sk-parallel {display: flex;align-items: stretch;justify-content: center;background-color: white;position: relative;}#sk-container-id-1 div.sk-item::before, #sk-container-id-1 div.sk-parallel-item::before {content: \"\";position: absolute;border-left: 1px solid gray;box-sizing: border-box;top: 0;bottom: 0;left: 50%;z-index: -1;}#sk-container-id-1 div.sk-parallel-item {display: flex;flex-direction: column;z-index: 1;position: relative;background-color: white;}#sk-container-id-1 div.sk-parallel-item:first-child::after {align-self: flex-end;width: 50%;}#sk-container-id-1 div.sk-parallel-item:last-child::after {align-self: flex-start;width: 50%;}#sk-container-id-1 div.sk-parallel-item:only-child::after {width: 0;}#sk-container-id-1 div.sk-dashed-wrapped {border: 1px dashed gray;margin: 0 0.4em 0.5em 0.4em;box-sizing: border-box;padding-bottom: 0.4em;background-color: white;}#sk-container-id-1 div.sk-label label {font-family: monospace;font-weight: bold;display: inline-block;line-height: 1.2em;}#sk-container-id-1 div.sk-label-container {text-align: center;}#sk-container-id-1 div.sk-container {/* jupyter's `normalize.less` sets `[hidden] { display: none; }` but bootstrap.min.css set `[hidden] { display: none !important; }` so we also need the `!important` here to be able to override the default hidden behavior on the sphinx rendered scikit-learn.org. See: https://github.com/scikit-learn/scikit-learn/issues/21755 */display: inline-block !important;position: relative;}#sk-container-id-1 div.sk-text-repr-fallback {display: none;}</style><div id=\"sk-container-id-1\" class=\"sk-top-container\"><div class=\"sk-text-repr-fallback\"><pre>Pipeline(steps=[(&#x27;scale&#x27;, None), (&#x27;model&#x27;, GradientBoostingClassifier())])</pre><b>In a Jupyter environment, please rerun this cell to show the HTML representation or trust the notebook. <br />On GitHub, the HTML representation is unable to render, please try loading this page with nbviewer.org.</b></div><div class=\"sk-container\" hidden><div class=\"sk-item sk-dashed-wrapped\"><div class=\"sk-label-container\"><div class=\"sk-label sk-toggleable\"><input class=\"sk-toggleable__control sk-hidden--visually\" id=\"sk-estimator-id-1\" type=\"checkbox\" ><label for=\"sk-estimator-id-1\" class=\"sk-toggleable__label sk-toggleable__label-arrow\">Pipeline</label><div class=\"sk-toggleable__content\"><pre>Pipeline(steps=[(&#x27;scale&#x27;, None), (&#x27;model&#x27;, GradientBoostingClassifier())])</pre></div></div></div><div class=\"sk-serial\"><div class=\"sk-item\"><div class=\"sk-estimator sk-toggleable\"><input class=\"sk-toggleable__control sk-hidden--visually\" id=\"sk-estimator-id-2\" type=\"checkbox\" ><label for=\"sk-estimator-id-2\" class=\"sk-toggleable__label sk-toggleable__label-arrow\">None</label><div class=\"sk-toggleable__content\"><pre>None</pre></div></div></div><div class=\"sk-item\"><div class=\"sk-estimator sk-toggleable\"><input class=\"sk-toggleable__control sk-hidden--visually\" id=\"sk-estimator-id-3\" type=\"checkbox\" ><label for=\"sk-estimator-id-3\" class=\"sk-toggleable__label sk-toggleable__label-arrow\">GradientBoostingClassifier</label><div class=\"sk-toggleable__content\"><pre>GradientBoostingClassifier()</pre></div></div></div></div></div></div></div>"
      ],
      "text/plain": [
       "Pipeline(steps=[('scale', None), ('model', GradientBoostingClassifier())])"
      ]
     },
     "execution_count": 43,
     "metadata": {},
     "output_type": "execute_result"
    }
   ],
   "source": [
    "model.fit(X_train, y_train.values.ravel())"
   ]
  },
  {
   "cell_type": "code",
   "execution_count": 44,
   "id": "af59f8c0",
   "metadata": {
    "execution": {
     "iopub.execute_input": "2025-07-30T21:42:06.737714Z",
     "iopub.status.busy": "2025-07-30T21:42:06.737232Z",
     "iopub.status.idle": "2025-07-30T21:42:06.742615Z",
     "shell.execute_reply": "2025-07-30T21:42:06.741739Z"
    },
    "papermill": {
     "duration": 0.03332,
     "end_time": "2025-07-30T21:42:06.744183",
     "exception": false,
     "start_time": "2025-07-30T21:42:06.710863",
     "status": "completed"
    },
    "tags": []
   },
   "outputs": [],
   "source": [
    "from fairness_multiverse.universe import predict_w_threshold"
   ]
  },
  {
   "cell_type": "code",
   "execution_count": 45,
   "id": "a7cf2e16",
   "metadata": {
    "execution": {
     "iopub.execute_input": "2025-07-30T21:42:06.794954Z",
     "iopub.status.busy": "2025-07-30T21:42:06.794450Z",
     "iopub.status.idle": "2025-07-30T21:42:07.385812Z",
     "shell.execute_reply": "2025-07-30T21:42:07.385036Z"
    },
    "papermill": {
     "duration": 0.61727,
     "end_time": "2025-07-30T21:42:07.387099",
     "exception": false,
     "start_time": "2025-07-30T21:42:06.769829",
     "status": "completed"
    },
    "tags": []
   },
   "outputs": [
    {
     "data": {
      "text/plain": [
       "0.8399621001003232"
      ]
     },
     "execution_count": 45,
     "metadata": {},
     "output_type": "execute_result"
    }
   ],
   "source": [
    "probs_test = model.predict_proba(X_test)\n",
    "\n",
    "'''\n",
    "Below code returns a boolean array (or binary 0/1 array depending on how it’s used) where each element \n",
    "is True if the probability of class 1 is greater than or equal to the threshold, and False otherwise.\n",
    "'''\n",
    "y_pred_default = predict_w_threshold(probs_test, 0.5)\n",
    "\n",
    "from sklearn.metrics import accuracy_score\n",
    "\n",
    "# Naive prediction\n",
    "accuracy_score(y_true = y_true, y_pred = y_pred_default)"
   ]
  },
  {
   "cell_type": "code",
   "execution_count": 46,
   "id": "081964c3",
   "metadata": {
    "execution": {
     "iopub.execute_input": "2025-07-30T21:42:07.421299Z",
     "iopub.status.busy": "2025-07-30T21:42:07.420936Z",
     "iopub.status.idle": "2025-07-30T21:42:08.026816Z",
     "shell.execute_reply": "2025-07-30T21:42:08.026067Z"
    },
    "papermill": {
     "duration": 0.627959,
     "end_time": "2025-07-30T21:42:08.028549",
     "exception": false,
     "start_time": "2025-07-30T21:42:07.400590",
     "status": "completed"
    },
    "tags": []
   },
   "outputs": [
    {
     "data": {
      "text/plain": [
       "array([0, 0, 0, ..., 0, 0, 0])"
      ]
     },
     "execution_count": 46,
     "metadata": {},
     "output_type": "execute_result"
    }
   ],
   "source": [
    "model.predict(X_test)"
   ]
  },
  {
   "cell_type": "markdown",
   "id": "56c9705b",
   "metadata": {
    "papermill": {
     "duration": 0.111638,
     "end_time": "2025-07-30T21:42:08.171762",
     "exception": false,
     "start_time": "2025-07-30T21:42:08.060124",
     "status": "completed"
    },
    "tags": []
   },
   "source": [
    "# Conformal Prediction"
   ]
  },
  {
   "cell_type": "code",
   "execution_count": 47,
   "id": "160ec6ff",
   "metadata": {
    "execution": {
     "iopub.execute_input": "2025-07-30T21:42:08.223979Z",
     "iopub.status.busy": "2025-07-30T21:42:08.223194Z",
     "iopub.status.idle": "2025-07-30T21:42:08.228986Z",
     "shell.execute_reply": "2025-07-30T21:42:08.227958Z"
    },
    "papermill": {
     "duration": 0.034286,
     "end_time": "2025-07-30T21:42:08.231142",
     "exception": false,
     "start_time": "2025-07-30T21:42:08.196856",
     "status": "completed"
    },
    "tags": []
   },
   "outputs": [],
   "source": [
    "# Miscoverage level for conformal prediction (10% allowed error rate => 90% target coverage)\n",
    "alpha = 0.1"
   ]
  },
  {
   "cell_type": "code",
   "execution_count": 48,
   "id": "eadf4555-3dd3-440e-8e35-f82a4ad9f855",
   "metadata": {
    "execution": {
     "iopub.execute_input": "2025-07-30T21:42:08.284504Z",
     "iopub.status.busy": "2025-07-30T21:42:08.283990Z",
     "iopub.status.idle": "2025-07-30T21:42:08.841440Z",
     "shell.execute_reply": "2025-07-30T21:42:08.839847Z"
    },
    "papermill": {
     "duration": 0.586761,
     "end_time": "2025-07-30T21:42:08.843958",
     "exception": false,
     "start_time": "2025-07-30T21:42:08.257197",
     "status": "completed"
    },
    "tags": []
   },
   "outputs": [],
   "source": [
    "probs_calib = model.predict_proba(X_calib)"
   ]
  },
  {
   "cell_type": "code",
   "execution_count": 49,
   "id": "2ed93547-6d5d-4983-9b36-1ecb300da49a",
   "metadata": {
    "execution": {
     "iopub.execute_input": "2025-07-30T21:42:08.899256Z",
     "iopub.status.busy": "2025-07-30T21:42:08.898753Z",
     "iopub.status.idle": "2025-07-30T21:42:08.904889Z",
     "shell.execute_reply": "2025-07-30T21:42:08.903813Z"
    },
    "papermill": {
     "duration": 0.034882,
     "end_time": "2025-07-30T21:42:08.906747",
     "exception": false,
     "start_time": "2025-07-30T21:42:08.871865",
     "status": "completed"
    },
    "tags": []
   },
   "outputs": [],
   "source": [
    "y_calib = y_calib.values.ravel().astype(int)"
   ]
  },
  {
   "cell_type": "code",
   "execution_count": 50,
   "id": "65d1320d-f588-4b38-9072-62af1ae97f7d",
   "metadata": {
    "execution": {
     "iopub.execute_input": "2025-07-30T21:42:08.964564Z",
     "iopub.status.busy": "2025-07-30T21:42:08.963753Z",
     "iopub.status.idle": "2025-07-30T21:42:08.971584Z",
     "shell.execute_reply": "2025-07-30T21:42:08.970486Z"
    },
    "papermill": {
     "duration": 0.038243,
     "end_time": "2025-07-30T21:42:08.973339",
     "exception": false,
     "start_time": "2025-07-30T21:42:08.935096",
     "status": "completed"
    },
    "tags": []
   },
   "outputs": [],
   "source": [
    "from fairness_multiverse.conformal import compute_nc_scores\n",
    "\n",
    "# Compute nonconformity scores on calibration set (1 - probability of true class)\n",
    "nc_scores = compute_nc_scores(probs_calib, y_calib)"
   ]
  },
  {
   "cell_type": "code",
   "execution_count": 51,
   "id": "df3b8ca3-53b7-43d5-9667-7c85da7aeda2",
   "metadata": {
    "execution": {
     "iopub.execute_input": "2025-07-30T21:42:09.030040Z",
     "iopub.status.busy": "2025-07-30T21:42:09.029352Z",
     "iopub.status.idle": "2025-07-30T21:42:09.037083Z",
     "shell.execute_reply": "2025-07-30T21:42:09.035943Z"
    },
    "papermill": {
     "duration": 0.037665,
     "end_time": "2025-07-30T21:42:09.039046",
     "exception": false,
     "start_time": "2025-07-30T21:42:09.001381",
     "status": "completed"
    },
    "tags": []
   },
   "outputs": [],
   "source": [
    "from fairness_multiverse.conformal import find_threshold\n",
    "\n",
    "# Find conformal threshold q_hat for the given alpha (split conformal method)\n",
    "q_hat = find_threshold(nc_scores, alpha)"
   ]
  },
  {
   "cell_type": "code",
   "execution_count": 52,
   "id": "4d29e6c1-0ef6-4aa4-b8fe-4fe79b0d033a",
   "metadata": {
    "execution": {
     "iopub.execute_input": "2025-07-30T21:42:09.096150Z",
     "iopub.status.busy": "2025-07-30T21:42:09.095476Z",
     "iopub.status.idle": "2025-07-30T21:42:09.102915Z",
     "shell.execute_reply": "2025-07-30T21:42:09.101859Z"
    },
    "papermill": {
     "duration": 0.03775,
     "end_time": "2025-07-30T21:42:09.104740",
     "exception": false,
     "start_time": "2025-07-30T21:42:09.066990",
     "status": "completed"
    },
    "tags": []
   },
   "outputs": [
    {
     "data": {
      "text/plain": [
       "0.768678212754365"
      ]
     },
     "execution_count": 52,
     "metadata": {},
     "output_type": "execute_result"
    }
   ],
   "source": [
    "q_hat"
   ]
  },
  {
   "cell_type": "code",
   "execution_count": 53,
   "id": "92460794-cdac-4be2-ba28-f28c0515a6fb",
   "metadata": {
    "execution": {
     "iopub.execute_input": "2025-07-30T21:42:09.162715Z",
     "iopub.status.busy": "2025-07-30T21:42:09.162097Z",
     "iopub.status.idle": "2025-07-30T21:42:10.372002Z",
     "shell.execute_reply": "2025-07-30T21:42:10.371233Z"
    },
    "papermill": {
     "duration": 1.24065,
     "end_time": "2025-07-30T21:42:10.373454",
     "exception": false,
     "start_time": "2025-07-30T21:42:09.132804",
     "status": "completed"
    },
    "tags": []
   },
   "outputs": [],
   "source": [
    "from fairness_multiverse.conformal import predict_conformal_sets\n",
    "\n",
    "# Generate prediction sets for each test example\n",
    "pred_sets = predict_conformal_sets(model, X_test, q_hat)"
   ]
  },
  {
   "cell_type": "code",
   "execution_count": 54,
   "id": "d90c9a65-e6db-4f5d-80cd-e68fb7e46829",
   "metadata": {
    "execution": {
     "iopub.execute_input": "2025-07-30T21:42:10.405011Z",
     "iopub.status.busy": "2025-07-30T21:42:10.404662Z",
     "iopub.status.idle": "2025-07-30T21:42:10.409363Z",
     "shell.execute_reply": "2025-07-30T21:42:10.408429Z"
    },
    "papermill": {
     "duration": 0.019962,
     "end_time": "2025-07-30T21:42:10.410865",
     "exception": false,
     "start_time": "2025-07-30T21:42:10.390903",
     "status": "completed"
    },
    "tags": []
   },
   "outputs": [],
   "source": [
    "y_true = y_true.squeeze()"
   ]
  },
  {
   "cell_type": "code",
   "execution_count": 55,
   "id": "3a58a54a-1e68-46b9-927a-df01f18aebc8",
   "metadata": {
    "execution": {
     "iopub.execute_input": "2025-07-30T21:42:10.438460Z",
     "iopub.status.busy": "2025-07-30T21:42:10.438221Z",
     "iopub.status.idle": "2025-07-30T21:42:11.138253Z",
     "shell.execute_reply": "2025-07-30T21:42:11.137515Z"
    },
    "papermill": {
     "duration": 0.714804,
     "end_time": "2025-07-30T21:42:11.139618",
     "exception": false,
     "start_time": "2025-07-30T21:42:10.424814",
     "status": "completed"
    },
    "tags": []
   },
   "outputs": [],
   "source": [
    "from fairness_multiverse.conformal import evaluate_sets\n",
    "\n",
    "# Evaluate coverage and average set size on test data\n",
    "metrics = evaluate_sets(pred_sets, y_true)"
   ]
  },
  {
   "cell_type": "markdown",
   "id": "2b569c12-9aaa-4c88-98c9-bbcd0cf3ebb8",
   "metadata": {
    "papermill": {
     "duration": 0.012362,
     "end_time": "2025-07-30T21:42:11.165817",
     "exception": false,
     "start_time": "2025-07-30T21:42:11.153455",
     "status": "completed"
    },
    "tags": []
   },
   "source": [
    "# CP Metrics"
   ]
  },
  {
   "cell_type": "code",
   "execution_count": 56,
   "id": "5ce0a5cb-201f-45a0-ade5-94c7f0bd6095",
   "metadata": {
    "execution": {
     "iopub.execute_input": "2025-07-30T21:42:11.192222Z",
     "iopub.status.busy": "2025-07-30T21:42:11.191760Z",
     "iopub.status.idle": "2025-07-30T21:42:11.199004Z",
     "shell.execute_reply": "2025-07-30T21:42:11.198157Z"
    },
    "papermill": {
     "duration": 0.022778,
     "end_time": "2025-07-30T21:42:11.200928",
     "exception": false,
     "start_time": "2025-07-30T21:42:11.178150",
     "status": "completed"
    },
    "tags": []
   },
   "outputs": [
    {
     "data": {
      "text/plain": [
       "{'coverage': 0.9103890313231524, 'avg_size': 1.1800691115817634}"
      ]
     },
     "execution_count": 56,
     "metadata": {},
     "output_type": "execute_result"
    }
   ],
   "source": [
    "metrics"
   ]
  },
  {
   "cell_type": "code",
   "execution_count": 57,
   "id": "9b9a838d-31c9-430b-ae14-12baee460d17",
   "metadata": {
    "execution": {
     "iopub.execute_input": "2025-07-30T21:42:11.259817Z",
     "iopub.status.busy": "2025-07-30T21:42:11.259268Z",
     "iopub.status.idle": "2025-07-30T21:42:11.266643Z",
     "shell.execute_reply": "2025-07-30T21:42:11.265647Z"
    },
    "papermill": {
     "duration": 0.038314,
     "end_time": "2025-07-30T21:42:11.268461",
     "exception": false,
     "start_time": "2025-07-30T21:42:11.230147",
     "status": "completed"
    },
    "tags": []
   },
   "outputs": [],
   "source": [
    "example_universe = universe.copy()\n",
    "universe_training_year = example_universe.get(\"training_year\")\n",
    "universe_training_size = example_universe.get(\"training_size\")\n",
    "universe_scale = example_universe.get(\"scale\")\n",
    "universe_model = example_universe.get(\"model\")\n",
    "universe_exclude_features = example_universe.get(\"exclude_features\")\n",
    "universe_exclude_subgroups = example_universe.get(\"exclude_subgroups\")"
   ]
  },
  {
   "cell_type": "code",
   "execution_count": 58,
   "id": "f4b6a8ac-9dc0-4245-8a91-5b3b5999c4f9",
   "metadata": {
    "execution": {
     "iopub.execute_input": "2025-07-30T21:42:11.327231Z",
     "iopub.status.busy": "2025-07-30T21:42:11.326777Z",
     "iopub.status.idle": "2025-07-30T21:42:11.333271Z",
     "shell.execute_reply": "2025-07-30T21:42:11.332321Z"
    },
    "papermill": {
     "duration": 0.037829,
     "end_time": "2025-07-30T21:42:11.335033",
     "exception": false,
     "start_time": "2025-07-30T21:42:11.297204",
     "status": "completed"
    },
    "tags": []
   },
   "outputs": [],
   "source": [
    "cp_metrics_dict = {\n",
    "    \"universe_id\": [universe_id],\n",
    "    \"universe_training_year\": [universe_training_year],\n",
    "    \"universe_training_size\": [universe_training_size],\n",
    "    \"universe_scale\": [universe_scale],\n",
    "    \"universe_model\": [universe_model],\n",
    "    \"universe_exclude_features\": [universe_exclude_features],\n",
    "    \"universe_exclude_subgroups\": [universe_exclude_subgroups],\n",
    "    \"q_hat\": [q_hat],\n",
    "    \"coverage\": [metrics[\"coverage\"]],\n",
    "    \"avg_size\": [metrics[\"avg_size\"]],\n",
    "}"
   ]
  },
  {
   "cell_type": "code",
   "execution_count": 59,
   "id": "908acbb1-0371-4915-85ca-3fa520d2efe2",
   "metadata": {
    "execution": {
     "iopub.execute_input": "2025-07-30T21:42:11.395262Z",
     "iopub.status.busy": "2025-07-30T21:42:11.394802Z",
     "iopub.status.idle": "2025-07-30T21:42:11.402385Z",
     "shell.execute_reply": "2025-07-30T21:42:11.401384Z"
    },
    "papermill": {
     "duration": 0.039532,
     "end_time": "2025-07-30T21:42:11.404286",
     "exception": false,
     "start_time": "2025-07-30T21:42:11.364754",
     "status": "completed"
    },
    "tags": []
   },
   "outputs": [
    {
     "data": {
      "text/plain": [
       "{'universe_id': ['9fabf678e79965f0138a17ecd262e347'],\n",
       " 'universe_training_year': ['2012_14'],\n",
       " 'universe_training_size': ['1k'],\n",
       " 'universe_scale': ['do-not-scale'],\n",
       " 'universe_model': ['gbm'],\n",
       " 'universe_exclude_features': ['age'],\n",
       " 'universe_exclude_subgroups': ['keep-all'],\n",
       " 'q_hat': [0.768678212754365],\n",
       " 'coverage': [0.9103890313231524],\n",
       " 'avg_size': [1.1800691115817634]}"
      ]
     },
     "execution_count": 59,
     "metadata": {},
     "output_type": "execute_result"
    }
   ],
   "source": [
    "cp_metrics_dict"
   ]
  },
  {
   "cell_type": "code",
   "execution_count": 60,
   "id": "33007efc-14e9-4ec6-97ac-56a455c82265",
   "metadata": {
    "execution": {
     "iopub.execute_input": "2025-07-30T21:42:11.465057Z",
     "iopub.status.busy": "2025-07-30T21:42:11.464580Z",
     "iopub.status.idle": "2025-07-30T21:42:11.471429Z",
     "shell.execute_reply": "2025-07-30T21:42:11.470341Z"
    },
    "papermill": {
     "duration": 0.038857,
     "end_time": "2025-07-30T21:42:11.473255",
     "exception": false,
     "start_time": "2025-07-30T21:42:11.434398",
     "status": "completed"
    },
    "tags": []
   },
   "outputs": [],
   "source": [
    "cp_metrics_df = pd.DataFrame(cp_metrics_dict)"
   ]
  },
  {
   "cell_type": "code",
   "execution_count": 61,
   "id": "db12611b-57b2-4910-b9d0-355adfd6e7bf",
   "metadata": {
    "execution": {
     "iopub.execute_input": "2025-07-30T21:42:11.533853Z",
     "iopub.status.busy": "2025-07-30T21:42:11.533352Z",
     "iopub.status.idle": "2025-07-30T21:42:11.555016Z",
     "shell.execute_reply": "2025-07-30T21:42:11.552882Z"
    },
    "papermill": {
     "duration": 0.053561,
     "end_time": "2025-07-30T21:42:11.556862",
     "exception": false,
     "start_time": "2025-07-30T21:42:11.503301",
     "status": "completed"
    },
    "tags": []
   },
   "outputs": [
    {
     "data": {
      "text/html": [
       "<div>\n",
       "<style scoped>\n",
       "    .dataframe tbody tr th:only-of-type {\n",
       "        vertical-align: middle;\n",
       "    }\n",
       "\n",
       "    .dataframe tbody tr th {\n",
       "        vertical-align: top;\n",
       "    }\n",
       "\n",
       "    .dataframe thead th {\n",
       "        text-align: right;\n",
       "    }\n",
       "</style>\n",
       "<table border=\"1\" class=\"dataframe\">\n",
       "  <thead>\n",
       "    <tr style=\"text-align: right;\">\n",
       "      <th></th>\n",
       "      <th>universe_id</th>\n",
       "      <th>universe_training_year</th>\n",
       "      <th>universe_training_size</th>\n",
       "      <th>universe_scale</th>\n",
       "      <th>universe_model</th>\n",
       "      <th>universe_exclude_features</th>\n",
       "      <th>universe_exclude_subgroups</th>\n",
       "      <th>q_hat</th>\n",
       "      <th>coverage</th>\n",
       "      <th>avg_size</th>\n",
       "    </tr>\n",
       "  </thead>\n",
       "  <tbody>\n",
       "    <tr>\n",
       "      <th>0</th>\n",
       "      <td>9fabf678e79965f0138a17ecd262e347</td>\n",
       "      <td>2012_14</td>\n",
       "      <td>1k</td>\n",
       "      <td>do-not-scale</td>\n",
       "      <td>gbm</td>\n",
       "      <td>age</td>\n",
       "      <td>keep-all</td>\n",
       "      <td>0.768678</td>\n",
       "      <td>0.910389</td>\n",
       "      <td>1.180069</td>\n",
       "    </tr>\n",
       "  </tbody>\n",
       "</table>\n",
       "</div>"
      ],
      "text/plain": [
       "                        universe_id universe_training_year  \\\n",
       "0  9fabf678e79965f0138a17ecd262e347                2012_14   \n",
       "\n",
       "  universe_training_size universe_scale universe_model  \\\n",
       "0                     1k   do-not-scale            gbm   \n",
       "\n",
       "  universe_exclude_features universe_exclude_subgroups     q_hat  coverage  \\\n",
       "0                       age                   keep-all  0.768678  0.910389   \n",
       "\n",
       "   avg_size  \n",
       "0  1.180069  "
      ]
     },
     "execution_count": 61,
     "metadata": {},
     "output_type": "execute_result"
    }
   ],
   "source": [
    "cp_metrics_df"
   ]
  },
  {
   "cell_type": "code",
   "execution_count": 62,
   "id": "b7fbde55-a0a1-47e4-9af6-fe4a17fa8c61",
   "metadata": {
    "execution": {
     "iopub.execute_input": "2025-07-30T21:42:11.618017Z",
     "iopub.status.busy": "2025-07-30T21:42:11.617672Z",
     "iopub.status.idle": "2025-07-30T21:42:11.621890Z",
     "shell.execute_reply": "2025-07-30T21:42:11.621086Z"
    },
    "papermill": {
     "duration": 0.036302,
     "end_time": "2025-07-30T21:42:11.623404",
     "exception": false,
     "start_time": "2025-07-30T21:42:11.587102",
     "status": "completed"
    },
    "tags": []
   },
   "outputs": [],
   "source": [
    "# Conditional Coverage & looking at subgroups"
   ]
  },
  {
   "cell_type": "code",
   "execution_count": 63,
   "id": "027ae886-68dd-4141-96c7-805a5450e1ef",
   "metadata": {
    "execution": {
     "iopub.execute_input": "2025-07-30T21:42:11.650926Z",
     "iopub.status.busy": "2025-07-30T21:42:11.650544Z",
     "iopub.status.idle": "2025-07-30T21:42:11.839852Z",
     "shell.execute_reply": "2025-07-30T21:42:11.839118Z"
    },
    "papermill": {
     "duration": 0.204017,
     "end_time": "2025-07-30T21:42:11.841259",
     "exception": false,
     "start_time": "2025-07-30T21:42:11.637242",
     "status": "completed"
    },
    "tags": []
   },
   "outputs": [],
   "source": [
    "from fairness_multiverse.conformal import build_cp_groups\n",
    "\n",
    "cp_groups_df = build_cp_groups(pred_sets, y_true, X_test.index, org_test)\n",
    "#needs universe_id and setting"
   ]
  },
  {
   "cell_type": "code",
   "execution_count": 64,
   "id": "01d5802c-663a-4d1f-9d69-e036faaffbf7",
   "metadata": {
    "execution": {
     "iopub.execute_input": "2025-07-30T21:42:11.877947Z",
     "iopub.status.busy": "2025-07-30T21:42:11.877606Z",
     "iopub.status.idle": "2025-07-30T21:42:11.881782Z",
     "shell.execute_reply": "2025-07-30T21:42:11.880841Z"
    },
    "papermill": {
     "duration": 0.02802,
     "end_time": "2025-07-30T21:42:11.883016",
     "exception": false,
     "start_time": "2025-07-30T21:42:11.854996",
     "status": "completed"
    },
    "tags": []
   },
   "outputs": [],
   "source": [
    "#delete\n",
    "#cp_groups_df"
   ]
  },
  {
   "cell_type": "code",
   "execution_count": 65,
   "id": "fa424af1-d1eb-443d-b717-2d279ada8408",
   "metadata": {
    "execution": {
     "iopub.execute_input": "2025-07-30T21:42:11.913128Z",
     "iopub.status.busy": "2025-07-30T21:42:11.912590Z",
     "iopub.status.idle": "2025-07-30T21:42:11.917038Z",
     "shell.execute_reply": "2025-07-30T21:42:11.916112Z"
    },
    "papermill": {
     "duration": 0.019975,
     "end_time": "2025-07-30T21:42:11.918381",
     "exception": false,
     "start_time": "2025-07-30T21:42:11.898406",
     "status": "completed"
    },
    "tags": []
   },
   "outputs": [],
   "source": [
    "#delete\n",
    "#percentage = (cp_groups_df['nongerman_female'] == 1).mean() * 100\n",
    "#print(percentage)\n"
   ]
  },
  {
   "cell_type": "code",
   "execution_count": 66,
   "id": "6cbdab96-b2b2-45af-ad54-d0516db2e28d",
   "metadata": {
    "execution": {
     "iopub.execute_input": "2025-07-30T21:42:11.947959Z",
     "iopub.status.busy": "2025-07-30T21:42:11.947321Z",
     "iopub.status.idle": "2025-07-30T21:42:13.367773Z",
     "shell.execute_reply": "2025-07-30T21:42:13.366800Z"
    },
    "papermill": {
     "duration": 1.43655,
     "end_time": "2025-07-30T21:42:13.369717",
     "exception": false,
     "start_time": "2025-07-30T21:42:11.933167",
     "status": "completed"
    },
    "tags": []
   },
   "outputs": [],
   "source": [
    "# Define covered = 1 if true_label is in the predicted set\n",
    "cp_groups_df['covered'] = cp_groups_df.apply(\n",
    "    lambda r: int(r['true_label'] in r['pred_set']),\n",
    "    axis=1\n",
    ")"
   ]
  },
  {
   "cell_type": "code",
   "execution_count": 67,
   "id": "338ff529-1a6b-4b87-a931-8e4788d52aad",
   "metadata": {
    "execution": {
     "iopub.execute_input": "2025-07-30T21:42:13.432239Z",
     "iopub.status.busy": "2025-07-30T21:42:13.431695Z",
     "iopub.status.idle": "2025-07-30T21:42:13.437173Z",
     "shell.execute_reply": "2025-07-30T21:42:13.435900Z"
    },
    "papermill": {
     "duration": 0.039155,
     "end_time": "2025-07-30T21:42:13.439152",
     "exception": false,
     "start_time": "2025-07-30T21:42:13.399997",
     "status": "completed"
    },
    "tags": []
   },
   "outputs": [],
   "source": [
    "#cp_groups_df"
   ]
  },
  {
   "cell_type": "code",
   "execution_count": 68,
   "id": "90032e27-66df-4540-9169-4e89cfbaa758",
   "metadata": {
    "execution": {
     "iopub.execute_input": "2025-07-30T21:42:13.498293Z",
     "iopub.status.busy": "2025-07-30T21:42:13.497489Z",
     "iopub.status.idle": "2025-07-30T21:42:13.510200Z",
     "shell.execute_reply": "2025-07-30T21:42:13.509155Z"
    },
    "papermill": {
     "duration": 0.043703,
     "end_time": "2025-07-30T21:42:13.512061",
     "exception": false,
     "start_time": "2025-07-30T21:42:13.468358",
     "status": "completed"
    },
    "tags": []
   },
   "outputs": [],
   "source": [
    "subgroups = ['frau1','nongerman','nongerman_male','nongerman_female']\n",
    "\n",
    "# Conditional coverage for subgroup==1\n",
    "cond_coverage = {\n",
    "    g: cp_groups_df.loc[cp_groups_df[g]==1, 'covered'].mean()\n",
    "    for g in subgroups\n",
    "}"
   ]
  },
  {
   "cell_type": "code",
   "execution_count": 69,
   "id": "1e348fb1-b9c3-45bc-ba23-f016827a7e0d",
   "metadata": {
    "execution": {
     "iopub.execute_input": "2025-07-30T21:42:13.574805Z",
     "iopub.status.busy": "2025-07-30T21:42:13.573833Z",
     "iopub.status.idle": "2025-07-30T21:42:13.582865Z",
     "shell.execute_reply": "2025-07-30T21:42:13.581963Z"
    },
    "papermill": {
     "duration": 0.041871,
     "end_time": "2025-07-30T21:42:13.584722",
     "exception": false,
     "start_time": "2025-07-30T21:42:13.542851",
     "status": "completed"
    },
    "tags": []
   },
   "outputs": [
    {
     "data": {
      "text/plain": [
       "{'frau1': 0.9070494675832322,\n",
       " 'nongerman': 0.9101779599169146,\n",
       " 'nongerman_male': 0.927136809871206,\n",
       " 'nongerman_female': 0.8821162444113264}"
      ]
     },
     "execution_count": 69,
     "metadata": {},
     "output_type": "execute_result"
    }
   ],
   "source": [
    "cond_coverage"
   ]
  },
  {
   "cell_type": "code",
   "execution_count": 70,
   "id": "f5093324-c3dd-4d63-bc4c-8d945e5c8bbb",
   "metadata": {
    "execution": {
     "iopub.execute_input": "2025-07-30T21:42:13.637093Z",
     "iopub.status.busy": "2025-07-30T21:42:13.636310Z",
     "iopub.status.idle": "2025-07-30T21:42:13.642920Z",
     "shell.execute_reply": "2025-07-30T21:42:13.642097Z"
    },
    "papermill": {
     "duration": 0.033942,
     "end_time": "2025-07-30T21:42:13.644975",
     "exception": false,
     "start_time": "2025-07-30T21:42:13.611033",
     "status": "completed"
    },
    "tags": []
   },
   "outputs": [],
   "source": [
    "for subgroup, cov in cond_coverage.items():\n",
    "    cp_metrics_df[f\"cov_{subgroup}\"] = cov"
   ]
  },
  {
   "cell_type": "code",
   "execution_count": 71,
   "id": "6e872e10-dbe5-49e8-b554-5030c98ff75d",
   "metadata": {
    "execution": {
     "iopub.execute_input": "2025-07-30T21:42:13.698334Z",
     "iopub.status.busy": "2025-07-30T21:42:13.697671Z",
     "iopub.status.idle": "2025-07-30T21:42:13.719064Z",
     "shell.execute_reply": "2025-07-30T21:42:13.718000Z"
    },
    "papermill": {
     "duration": 0.050738,
     "end_time": "2025-07-30T21:42:13.721311",
     "exception": false,
     "start_time": "2025-07-30T21:42:13.670573",
     "status": "completed"
    },
    "tags": []
   },
   "outputs": [
    {
     "data": {
      "text/html": [
       "<div>\n",
       "<style scoped>\n",
       "    .dataframe tbody tr th:only-of-type {\n",
       "        vertical-align: middle;\n",
       "    }\n",
       "\n",
       "    .dataframe tbody tr th {\n",
       "        vertical-align: top;\n",
       "    }\n",
       "\n",
       "    .dataframe thead th {\n",
       "        text-align: right;\n",
       "    }\n",
       "</style>\n",
       "<table border=\"1\" class=\"dataframe\">\n",
       "  <thead>\n",
       "    <tr style=\"text-align: right;\">\n",
       "      <th></th>\n",
       "      <th>universe_id</th>\n",
       "      <th>universe_training_year</th>\n",
       "      <th>universe_training_size</th>\n",
       "      <th>universe_scale</th>\n",
       "      <th>universe_model</th>\n",
       "      <th>universe_exclude_features</th>\n",
       "      <th>universe_exclude_subgroups</th>\n",
       "      <th>q_hat</th>\n",
       "      <th>coverage</th>\n",
       "      <th>avg_size</th>\n",
       "      <th>cov_frau1</th>\n",
       "      <th>cov_nongerman</th>\n",
       "      <th>cov_nongerman_male</th>\n",
       "      <th>cov_nongerman_female</th>\n",
       "    </tr>\n",
       "  </thead>\n",
       "  <tbody>\n",
       "    <tr>\n",
       "      <th>0</th>\n",
       "      <td>9fabf678e79965f0138a17ecd262e347</td>\n",
       "      <td>2012_14</td>\n",
       "      <td>1k</td>\n",
       "      <td>do-not-scale</td>\n",
       "      <td>gbm</td>\n",
       "      <td>age</td>\n",
       "      <td>keep-all</td>\n",
       "      <td>0.768678</td>\n",
       "      <td>0.910389</td>\n",
       "      <td>1.180069</td>\n",
       "      <td>0.907049</td>\n",
       "      <td>0.910178</td>\n",
       "      <td>0.927137</td>\n",
       "      <td>0.882116</td>\n",
       "    </tr>\n",
       "  </tbody>\n",
       "</table>\n",
       "</div>"
      ],
      "text/plain": [
       "                        universe_id universe_training_year  \\\n",
       "0  9fabf678e79965f0138a17ecd262e347                2012_14   \n",
       "\n",
       "  universe_training_size universe_scale universe_model  \\\n",
       "0                     1k   do-not-scale            gbm   \n",
       "\n",
       "  universe_exclude_features universe_exclude_subgroups     q_hat  coverage  \\\n",
       "0                       age                   keep-all  0.768678  0.910389   \n",
       "\n",
       "   avg_size  cov_frau1  cov_nongerman  cov_nongerman_male  \\\n",
       "0  1.180069   0.907049       0.910178            0.927137   \n",
       "\n",
       "   cov_nongerman_female  \n",
       "0              0.882116  "
      ]
     },
     "execution_count": 71,
     "metadata": {},
     "output_type": "execute_result"
    }
   ],
   "source": [
    "cp_metrics_df"
   ]
  },
  {
   "cell_type": "markdown",
   "id": "33774451",
   "metadata": {
    "papermill": {
     "duration": 0.028431,
     "end_time": "2025-07-30T21:42:13.779831",
     "exception": false,
     "start_time": "2025-07-30T21:42:13.751400",
     "status": "completed"
    },
    "tags": []
   },
   "source": [
    "# (Fairness) Metrics"
   ]
  },
  {
   "cell_type": "code",
   "execution_count": 72,
   "id": "debc5d62",
   "metadata": {
    "execution": {
     "iopub.execute_input": "2025-07-30T21:42:13.841724Z",
     "iopub.status.busy": "2025-07-30T21:42:13.841230Z",
     "iopub.status.idle": "2025-07-30T21:42:13.864187Z",
     "shell.execute_reply": "2025-07-30T21:42:13.863224Z"
    },
    "papermill": {
     "duration": 0.058887,
     "end_time": "2025-07-30T21:42:13.867861",
     "exception": false,
     "start_time": "2025-07-30T21:42:13.808974",
     "status": "completed"
    },
    "tags": []
   },
   "outputs": [],
   "source": [
    "# do I need to include maxdeutsch1.missing?\n",
    "\n",
    "import numpy as np\n",
    "\n",
    "colname_to_bin = \"maxdeutsch1\"\n",
    "majority_value = org_train[colname_to_bin].mode()[0]\n",
    "\n",
    "org_test[\"majmin\"] = np.where(org_test[colname_to_bin] == majority_value, \"majority\", \"minority\")"
   ]
  },
  {
   "cell_type": "code",
   "execution_count": 73,
   "id": "06a50de5",
   "metadata": {
    "execution": {
     "iopub.execute_input": "2025-07-30T21:42:13.927371Z",
     "iopub.status.busy": "2025-07-30T21:42:13.926805Z",
     "iopub.status.idle": "2025-07-30T21:42:16.790254Z",
     "shell.execute_reply": "2025-07-30T21:42:16.789243Z"
    },
    "papermill": {
     "duration": 2.895759,
     "end_time": "2025-07-30T21:42:16.792421",
     "exception": false,
     "start_time": "2025-07-30T21:42:13.896662",
     "status": "completed"
    },
    "tags": []
   },
   "outputs": [],
   "source": [
    "example_universe = universe.copy()\n",
    "example_universe[\"cutoff\"] = example_universe[\"cutoff\"][0]\n",
    "example_universe[\"eval_fairness_grouping\"] = example_universe[\"eval_fairness_grouping\"][0]\n",
    "fairness_dict, metric_frame = universe_analysis.compute_metrics(\n",
    "    example_universe,\n",
    "    y_pred_prob=probs_test,\n",
    "    y_test=y_true,\n",
    "    org_test=org_test,\n",
    ")"
   ]
  },
  {
   "cell_type": "markdown",
   "id": "f95d4e02",
   "metadata": {
    "papermill": {
     "duration": 0.029505,
     "end_time": "2025-07-30T21:42:16.852714",
     "exception": false,
     "start_time": "2025-07-30T21:42:16.823209",
     "status": "completed"
    },
    "tags": []
   },
   "source": [
    "# Overall"
   ]
  },
  {
   "cell_type": "markdown",
   "id": "bdee4871",
   "metadata": {
    "papermill": {
     "duration": 0.030543,
     "end_time": "2025-07-30T21:42:16.912903",
     "exception": false,
     "start_time": "2025-07-30T21:42:16.882360",
     "status": "completed"
    },
    "tags": []
   },
   "source": [
    "Fairness\n",
    "Main fairness target: Equalized Odds. Seems to be a better fit than equal opportunity, since we're not only interested in Y = 1. Seems to be a better fit than demographic parity, since we also care about accuracy, not just equal distribution of preds.\n",
    "\n",
    "Pick column for computation of fairness metrics\n",
    "\n",
    "Performance\n",
    "Overall performance measures, most interesting in relation to the measures split by group below"
   ]
  },
  {
   "cell_type": "code",
   "execution_count": 74,
   "id": "c4e067c6",
   "metadata": {
    "execution": {
     "iopub.execute_input": "2025-07-30T21:42:16.974365Z",
     "iopub.status.busy": "2025-07-30T21:42:16.973350Z",
     "iopub.status.idle": "2025-07-30T21:42:16.982711Z",
     "shell.execute_reply": "2025-07-30T21:42:16.981563Z"
    },
    "papermill": {
     "duration": 0.042037,
     "end_time": "2025-07-30T21:42:16.984674",
     "exception": false,
     "start_time": "2025-07-30T21:42:16.942637",
     "status": "completed"
    },
    "tags": []
   },
   "outputs": [
    {
     "data": {
      "text/plain": [
       "accuracy                   0.221915\n",
       "balanced accuracy          0.543258\n",
       "f1                         0.243372\n",
       "precision                  0.139029\n",
       "false positive rate        0.888980\n",
       "false negative rate        0.024505\n",
       "selection rate             0.900078\n",
       "count                  89710.000000\n",
       "dtype: float64"
      ]
     },
     "execution_count": 74,
     "metadata": {},
     "output_type": "execute_result"
    }
   ],
   "source": [
    "metric_frame.overall"
   ]
  },
  {
   "cell_type": "markdown",
   "id": "e968fe9d",
   "metadata": {
    "papermill": {
     "duration": 0.029002,
     "end_time": "2025-07-30T21:42:17.043069",
     "exception": false,
     "start_time": "2025-07-30T21:42:17.014067",
     "status": "completed"
    },
    "tags": []
   },
   "source": [
    "By Group"
   ]
  },
  {
   "cell_type": "code",
   "execution_count": 75,
   "id": "ec325bce",
   "metadata": {
    "execution": {
     "iopub.execute_input": "2025-07-30T21:42:17.101292Z",
     "iopub.status.busy": "2025-07-30T21:42:17.100433Z",
     "iopub.status.idle": "2025-07-30T21:42:17.119124Z",
     "shell.execute_reply": "2025-07-30T21:42:17.117993Z"
    },
    "papermill": {
     "duration": 0.050158,
     "end_time": "2025-07-30T21:42:17.121012",
     "exception": false,
     "start_time": "2025-07-30T21:42:17.070854",
     "status": "completed"
    },
    "tags": []
   },
   "outputs": [
    {
     "data": {
      "text/html": [
       "<div>\n",
       "<style scoped>\n",
       "    .dataframe tbody tr th:only-of-type {\n",
       "        vertical-align: middle;\n",
       "    }\n",
       "\n",
       "    .dataframe tbody tr th {\n",
       "        vertical-align: top;\n",
       "    }\n",
       "\n",
       "    .dataframe thead th {\n",
       "        text-align: right;\n",
       "    }\n",
       "</style>\n",
       "<table border=\"1\" class=\"dataframe\">\n",
       "  <thead>\n",
       "    <tr style=\"text-align: right;\">\n",
       "      <th></th>\n",
       "      <th>accuracy</th>\n",
       "      <th>balanced accuracy</th>\n",
       "      <th>f1</th>\n",
       "      <th>precision</th>\n",
       "      <th>false positive rate</th>\n",
       "      <th>false negative rate</th>\n",
       "      <th>selection rate</th>\n",
       "      <th>count</th>\n",
       "    </tr>\n",
       "    <tr>\n",
       "      <th>majmin</th>\n",
       "      <th></th>\n",
       "      <th></th>\n",
       "      <th></th>\n",
       "      <th></th>\n",
       "      <th></th>\n",
       "      <th></th>\n",
       "      <th></th>\n",
       "      <th></th>\n",
       "    </tr>\n",
       "  </thead>\n",
       "  <tbody>\n",
       "    <tr>\n",
       "      <th>majority</th>\n",
       "      <td>0.239439</td>\n",
       "      <td>0.549993</td>\n",
       "      <td>0.252494</td>\n",
       "      <td>0.145090</td>\n",
       "      <td>0.872114</td>\n",
       "      <td>0.027899</td>\n",
       "      <td>0.885326</td>\n",
       "      <td>69170.0</td>\n",
       "    </tr>\n",
       "    <tr>\n",
       "      <th>minority</th>\n",
       "      <td>0.162902</td>\n",
       "      <td>0.521951</td>\n",
       "      <td>0.214025</td>\n",
       "      <td>0.120002</td>\n",
       "      <td>0.944695</td>\n",
       "      <td>0.011402</td>\n",
       "      <td>0.949757</td>\n",
       "      <td>20540.0</td>\n",
       "    </tr>\n",
       "  </tbody>\n",
       "</table>\n",
       "</div>"
      ],
      "text/plain": [
       "          accuracy  balanced accuracy        f1  precision  \\\n",
       "majmin                                                       \n",
       "majority  0.239439           0.549993  0.252494   0.145090   \n",
       "minority  0.162902           0.521951  0.214025   0.120002   \n",
       "\n",
       "          false positive rate  false negative rate  selection rate    count  \n",
       "majmin                                                                       \n",
       "majority             0.872114             0.027899        0.885326  69170.0  \n",
       "minority             0.944695             0.011402        0.949757  20540.0  "
      ]
     },
     "execution_count": 75,
     "metadata": {},
     "output_type": "execute_result"
    }
   ],
   "source": [
    "metric_frame.by_group"
   ]
  },
  {
   "cell_type": "code",
   "execution_count": 76,
   "id": "a9ddbe63",
   "metadata": {
    "execution": {
     "iopub.execute_input": "2025-07-30T21:42:17.180866Z",
     "iopub.status.busy": "2025-07-30T21:42:17.179941Z",
     "iopub.status.idle": "2025-07-30T21:42:19.175836Z",
     "shell.execute_reply": "2025-07-30T21:42:19.174932Z"
    },
    "papermill": {
     "duration": 2.026808,
     "end_time": "2025-07-30T21:42:19.177429",
     "exception": false,
     "start_time": "2025-07-30T21:42:17.150621",
     "status": "completed"
    },
    "tags": []
   },
   "outputs": [
    {
     "data": {
      "text/plain": [
       "array([[<Axes: title={'center': 'accuracy'}, xlabel='majmin'>,\n",
       "        <Axes: title={'center': 'balanced accuracy'}, xlabel='majmin'>,\n",
       "        <Axes: title={'center': 'f1'}, xlabel='majmin'>],\n",
       "       [<Axes: title={'center': 'precision'}, xlabel='majmin'>,\n",
       "        <Axes: title={'center': 'false positive rate'}, xlabel='majmin'>,\n",
       "        <Axes: title={'center': 'false negative rate'}, xlabel='majmin'>],\n",
       "       [<Axes: title={'center': 'selection rate'}, xlabel='majmin'>,\n",
       "        <Axes: title={'center': 'count'}, xlabel='majmin'>,\n",
       "        <Axes: xlabel='majmin'>]], dtype=object)"
      ]
     },
     "execution_count": 76,
     "metadata": {},
     "output_type": "execute_result"
    },
    {
     "data": {
      "image/png": "[encoded data removed]",
      "text/plain": [
       "<Figure size 1200x800 with 9 Axes>"
      ]
     },
     "metadata": {},
     "output_type": "display_data"
    }
   ],
   "source": [
    "# In a graphic\n",
    "metric_frame.by_group.plot.bar(\n",
    "    subplots=True,\n",
    "    layout=[3, 3],\n",
    "    legend=False,\n",
    "    figsize=[12, 8],\n",
    "    title=\"Show all metrics\",\n",
    ")"
   ]
  },
  {
   "cell_type": "markdown",
   "id": "f57a0bac",
   "metadata": {
    "papermill": {
     "duration": 0.028873,
     "end_time": "2025-07-30T21:42:19.235592",
     "exception": false,
     "start_time": "2025-07-30T21:42:19.206719",
     "status": "completed"
    },
    "tags": []
   },
   "source": [
    "# Final Output"
   ]
  },
  {
   "cell_type": "code",
   "execution_count": 77,
   "id": "96d280a3",
   "metadata": {
    "execution": {
     "iopub.execute_input": "2025-07-30T21:42:19.293725Z",
     "iopub.status.busy": "2025-07-30T21:42:19.293108Z",
     "iopub.status.idle": "2025-07-30T21:42:19.301047Z",
     "shell.execute_reply": "2025-07-30T21:42:19.300174Z"
    },
    "papermill": {
     "duration": 0.039166,
     "end_time": "2025-07-30T21:42:19.302511",
     "exception": false,
     "start_time": "2025-07-30T21:42:19.263345",
     "status": "completed"
    },
    "tags": []
   },
   "outputs": [
    {
     "data": {
      "text/plain": [
       "4"
      ]
     },
     "execution_count": 77,
     "metadata": {},
     "output_type": "execute_result"
    }
   ],
   "source": [
    "sub_universes = universe_analysis.generate_sub_universes()\n",
    "len(sub_universes)"
   ]
  },
  {
   "cell_type": "code",
   "execution_count": 78,
   "id": "92adf7ba",
   "metadata": {
    "execution": {
     "iopub.execute_input": "2025-07-30T21:42:19.362774Z",
     "iopub.status.busy": "2025-07-30T21:42:19.362055Z",
     "iopub.status.idle": "2025-07-30T21:42:19.387114Z",
     "shell.execute_reply": "2025-07-30T21:42:19.386018Z"
    },
    "papermill": {
     "duration": 0.057997,
     "end_time": "2025-07-30T21:42:19.389014",
     "exception": false,
     "start_time": "2025-07-30T21:42:19.331017",
     "status": "completed"
    },
    "tags": []
   },
   "outputs": [],
   "source": [
    "def filter_sub_universe_data(sub_universe, org_test):\n",
    "    # Keep all rows — no filtering\n",
    "    keep_rows_mask = np.ones(org_test.shape[0], dtype=bool)\n",
    "\n",
    "    print(f\"[INFO] Keeping all rows: {keep_rows_mask.sum()} rows retained.\")\n",
    "    return keep_rows_mask"
   ]
  },
  {
   "cell_type": "code",
   "execution_count": 79,
   "id": "4a759155",
   "metadata": {
    "execution": {
     "iopub.execute_input": "2025-07-30T21:42:19.449865Z",
     "iopub.status.busy": "2025-07-30T21:42:19.449204Z",
     "iopub.status.idle": "2025-07-30T21:42:30.485119Z",
     "shell.execute_reply": "2025-07-30T21:42:30.484104Z"
    },
    "papermill": {
     "duration": 11.066859,
     "end_time": "2025-07-30T21:42:30.486701",
     "exception": false,
     "start_time": "2025-07-30T21:42:19.419842",
     "status": "completed"
    },
    "tags": []
   },
   "outputs": [
    {
     "name": "stdout",
     "output_type": "stream",
     "text": [
      "Stopping execution_time clock.\n",
      "[INFO] Keeping all rows: 89710 rows retained.\n"
     ]
    },
    {
     "name": "stdout",
     "output_type": "stream",
     "text": [
      "[INFO] Keeping all rows: 89710 rows retained.\n"
     ]
    },
    {
     "name": "stdout",
     "output_type": "stream",
     "text": [
      "[INFO] Keeping all rows: 89710 rows retained.\n"
     ]
    },
    {
     "name": "stdout",
     "output_type": "stream",
     "text": [
      "[INFO] Keeping all rows: 89710 rows retained.\n"
     ]
    },
    {
     "data": {
      "text/html": [
       "<div>\n",
       "<style scoped>\n",
       "    .dataframe tbody tr th:only-of-type {\n",
       "        vertical-align: middle;\n",
       "    }\n",
       "\n",
       "    .dataframe tbody tr th {\n",
       "        vertical-align: top;\n",
       "    }\n",
       "\n",
       "    .dataframe thead th {\n",
       "        text-align: right;\n",
       "    }\n",
       "</style>\n",
       "<table border=\"1\" class=\"dataframe\">\n",
       "  <thead>\n",
       "    <tr style=\"text-align: right;\">\n",
       "      <th></th>\n",
       "      <th>run_no</th>\n",
       "      <th>universe_id</th>\n",
       "      <th>universe_settings</th>\n",
       "      <th>execution_time</th>\n",
       "      <th>test_size_n</th>\n",
       "      <th>test_size_frac</th>\n",
       "      <th>fair_main_equalized_odds_difference</th>\n",
       "      <th>fair_main_equalized_odds_ratio</th>\n",
       "      <th>fair_main_demographic_parity_difference</th>\n",
       "      <th>fair_main_demographic_parity_ratio</th>\n",
       "      <th>...</th>\n",
       "      <th>perf_grp_precision_0</th>\n",
       "      <th>perf_grp_precision_1</th>\n",
       "      <th>perf_grp_false positive rate_0</th>\n",
       "      <th>perf_grp_false positive rate_1</th>\n",
       "      <th>perf_grp_false negative rate_0</th>\n",
       "      <th>perf_grp_false negative rate_1</th>\n",
       "      <th>perf_grp_selection rate_0</th>\n",
       "      <th>perf_grp_selection rate_1</th>\n",
       "      <th>perf_grp_count_0</th>\n",
       "      <th>perf_grp_count_1</th>\n",
       "    </tr>\n",
       "  </thead>\n",
       "  <tbody>\n",
       "    <tr>\n",
       "      <th>0</th>\n",
       "      <td>14</td>\n",
       "      <td>9fabf678e79965f0138a17ecd262e347</td>\n",
       "      <td>{\"cutoff\": \"quantile_0.1\", \"eval_fairness_grou...</td>\n",
       "      <td>28.397768</td>\n",
       "      <td>89710</td>\n",
       "      <td>1.0</td>\n",
       "      <td>0.072581</td>\n",
       "      <td>0.923170</td>\n",
       "      <td>0.064431</td>\n",
       "      <td>0.932161</td>\n",
       "      <td>...</td>\n",
       "      <td>NaN</td>\n",
       "      <td>NaN</td>\n",
       "      <td>NaN</td>\n",
       "      <td>NaN</td>\n",
       "      <td>NaN</td>\n",
       "      <td>NaN</td>\n",
       "      <td>NaN</td>\n",
       "      <td>NaN</td>\n",
       "      <td>NaN</td>\n",
       "      <td>NaN</td>\n",
       "    </tr>\n",
       "    <tr>\n",
       "      <th>0</th>\n",
       "      <td>14</td>\n",
       "      <td>9fabf678e79965f0138a17ecd262e347</td>\n",
       "      <td>{\"cutoff\": \"quantile_0.1\", \"eval_fairness_grou...</td>\n",
       "      <td>28.397768</td>\n",
       "      <td>89710</td>\n",
       "      <td>1.0</td>\n",
       "      <td>0.072581</td>\n",
       "      <td>0.923170</td>\n",
       "      <td>0.064431</td>\n",
       "      <td>0.932161</td>\n",
       "      <td>...</td>\n",
       "      <td>0.120002</td>\n",
       "      <td>0.145090</td>\n",
       "      <td>0.944695</td>\n",
       "      <td>0.872114</td>\n",
       "      <td>0.011402</td>\n",
       "      <td>0.027899</td>\n",
       "      <td>0.949757</td>\n",
       "      <td>0.885326</td>\n",
       "      <td>20540.0</td>\n",
       "      <td>69170.0</td>\n",
       "    </tr>\n",
       "    <tr>\n",
       "      <th>0</th>\n",
       "      <td>14</td>\n",
       "      <td>9fabf678e79965f0138a17ecd262e347</td>\n",
       "      <td>{\"cutoff\": \"quantile_0.25\", \"eval_fairness_gro...</td>\n",
       "      <td>28.397768</td>\n",
       "      <td>89710</td>\n",
       "      <td>1.0</td>\n",
       "      <td>0.141079</td>\n",
       "      <td>0.830925</td>\n",
       "      <td>0.124272</td>\n",
       "      <td>0.853074</td>\n",
       "      <td>...</td>\n",
       "      <td>NaN</td>\n",
       "      <td>NaN</td>\n",
       "      <td>NaN</td>\n",
       "      <td>NaN</td>\n",
       "      <td>NaN</td>\n",
       "      <td>NaN</td>\n",
       "      <td>NaN</td>\n",
       "      <td>NaN</td>\n",
       "      <td>NaN</td>\n",
       "      <td>NaN</td>\n",
       "    </tr>\n",
       "    <tr>\n",
       "      <th>0</th>\n",
       "      <td>14</td>\n",
       "      <td>9fabf678e79965f0138a17ecd262e347</td>\n",
       "      <td>{\"cutoff\": \"quantile_0.25\", \"eval_fairness_gro...</td>\n",
       "      <td>28.397768</td>\n",
       "      <td>89710</td>\n",
       "      <td>1.0</td>\n",
       "      <td>0.141079</td>\n",
       "      <td>0.830925</td>\n",
       "      <td>0.124272</td>\n",
       "      <td>0.853074</td>\n",
       "      <td>...</td>\n",
       "      <td>0.127209</td>\n",
       "      <td>0.166062</td>\n",
       "      <td>0.834416</td>\n",
       "      <td>0.693337</td>\n",
       "      <td>0.066723</td>\n",
       "      <td>0.093217</td>\n",
       "      <td>0.845813</td>\n",
       "      <td>0.721541</td>\n",
       "      <td>20540.0</td>\n",
       "      <td>69170.0</td>\n",
       "    </tr>\n",
       "  </tbody>\n",
       "</table>\n",
       "<p>4 rows × 50 columns</p>\n",
       "</div>"
      ],
      "text/plain": [
       "  run_no                       universe_id  \\\n",
       "0     14  9fabf678e79965f0138a17ecd262e347   \n",
       "0     14  9fabf678e79965f0138a17ecd262e347   \n",
       "0     14  9fabf678e79965f0138a17ecd262e347   \n",
       "0     14  9fabf678e79965f0138a17ecd262e347   \n",
       "\n",
       "                                   universe_settings  execution_time  \\\n",
       "0  {\"cutoff\": \"quantile_0.1\", \"eval_fairness_grou...       28.397768   \n",
       "0  {\"cutoff\": \"quantile_0.1\", \"eval_fairness_grou...       28.397768   \n",
       "0  {\"cutoff\": \"quantile_0.25\", \"eval_fairness_gro...       28.397768   \n",
       "0  {\"cutoff\": \"quantile_0.25\", \"eval_fairness_gro...       28.397768   \n",
       "\n",
       "   test_size_n  test_size_frac  fair_main_equalized_odds_difference  \\\n",
       "0        89710             1.0                             0.072581   \n",
       "0        89710             1.0                             0.072581   \n",
       "0        89710             1.0                             0.141079   \n",
       "0        89710             1.0                             0.141079   \n",
       "\n",
       "   fair_main_equalized_odds_ratio  fair_main_demographic_parity_difference  \\\n",
       "0                        0.923170                                 0.064431   \n",
       "0                        0.923170                                 0.064431   \n",
       "0                        0.830925                                 0.124272   \n",
       "0                        0.830925                                 0.124272   \n",
       "\n",
       "   fair_main_demographic_parity_ratio  ...  perf_grp_precision_0  \\\n",
       "0                            0.932161  ...                   NaN   \n",
       "0                            0.932161  ...              0.120002   \n",
       "0                            0.853074  ...                   NaN   \n",
       "0                            0.853074  ...              0.127209   \n",
       "\n",
       "   perf_grp_precision_1  perf_grp_false positive rate_0  \\\n",
       "0                   NaN                             NaN   \n",
       "0              0.145090                        0.944695   \n",
       "0                   NaN                             NaN   \n",
       "0              0.166062                        0.834416   \n",
       "\n",
       "   perf_grp_false positive rate_1  perf_grp_false negative rate_0  \\\n",
       "0                             NaN                             NaN   \n",
       "0                        0.872114                        0.011402   \n",
       "0                             NaN                             NaN   \n",
       "0                        0.693337                        0.066723   \n",
       "\n",
       "   perf_grp_false negative rate_1  perf_grp_selection rate_0  \\\n",
       "0                             NaN                        NaN   \n",
       "0                        0.027899                   0.949757   \n",
       "0                             NaN                        NaN   \n",
       "0                        0.093217                   0.845813   \n",
       "\n",
       "   perf_grp_selection rate_1  perf_grp_count_0  perf_grp_count_1  \n",
       "0                        NaN               NaN               NaN  \n",
       "0                   0.885326           20540.0           69170.0  \n",
       "0                        NaN               NaN               NaN  \n",
       "0                   0.721541           20540.0           69170.0  \n",
       "\n",
       "[4 rows x 50 columns]"
      ]
     },
     "execution_count": 79,
     "metadata": {},
     "output_type": "execute_result"
    }
   ],
   "source": [
    "final_output = universe_analysis.generate_final_output(\n",
    "    y_pred_prob=probs_test,\n",
    "    y_test=y_true,\n",
    "    org_test=org_test,\n",
    "    filter_data=filter_sub_universe_data,\n",
    "    cp_metrics_df=cp_metrics_df,\n",
    "    save=True,\n",
    ")\n",
    "final_output"
   ]
  },
  {
   "cell_type": "code",
   "execution_count": null,
   "id": "721ff514-cb11-46f8-b6fc-50392f74b5cb",
   "metadata": {
    "papermill": {
     "duration": 0.03089,
     "end_time": "2025-07-30T21:42:30.550285",
     "exception": false,
     "start_time": "2025-07-30T21:42:30.519395",
     "status": "completed"
    },
    "tags": []
   },
   "outputs": [],
   "source": []
  }
 ],
 "metadata": {
  "celltoolbar": "Tags",
  "kernelspec": {
   "display_name": "Python (CMA Fairness)",
   "language": "python",
   "name": "cma_fair_env"
  },
  "language_info": {
   "codemirror_mode": {
    "name": "ipython",
    "version": 3
   },
   "file_extension": ".py",
   "mimetype": "text/x-python",
   "name": "python",
   "nbconvert_exporter": "python",
   "pygments_lexer": "ipython3",
   "version": "3.10.12"
  },
  "papermill": {
   "default_parameters": {},
   "duration": 43.79371,
   "end_time": "2025-07-30T21:42:31.300309",
   "environment_variables": {},
   "exception": null,
   "input_path": "universe_analysis.ipynb",
   "output_path": "output/runs/14/notebooks/m_14-9fabf678e79965f0138a17ecd262e347.ipynb",
   "parameters": {
    "output_dir": "output",
    "run_no": "14",
    "seed": "2023",
    "universe": "{\"cutoff\": [\"quantile_0.1\", \"quantile_0.25\"], \"eval_fairness_grouping\": [\"majority-minority\", \"nationality-all\"], \"exclude_features\": \"age\", \"exclude_subgroups\": \"keep-all\", \"model\": \"gbm\", \"scale\": \"do-not-scale\", \"training_size\": \"1k\", \"training_year\": \"2012_14\"}",
    "universe_id": "9fabf678e79965f0138a17ecd262e347"
   },
   "start_time": "2025-07-30T21:41:47.506599",
   "version": "2.6.0"
  }
 },
 "nbformat": 4,
 "nbformat_minor": 5
}