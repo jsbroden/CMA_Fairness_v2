{
 "cells": [
  {
   "cell_type": "code",
   "execution_count": 1,
   "id": "f159f837-637b-42ba-96b5-ec9a68c44524",
   "metadata": {
    "execution": {
     "iopub.execute_input": "2025-07-30T20:16:14.770153Z",
     "iopub.status.busy": "2025-07-30T20:16:14.769673Z",
     "iopub.status.idle": "2025-07-30T20:16:14.782550Z",
     "shell.execute_reply": "2025-07-30T20:16:14.781608Z"
    },
    "papermill": {
     "duration": 0.035274,
     "end_time": "2025-07-30T20:16:14.784093",
     "exception": false,
     "start_time": "2025-07-30T20:16:14.748819",
     "status": "completed"
    },
    "tags": []
   },
   "outputs": [
    {
     "name": "stdout",
     "output_type": "stream",
     "text": [
      "/dss/dsshome1/0C/ra93lal2/cma/CMA_Fairness_v2\n"
     ]
    },
    {
     "name": "stderr",
     "output_type": "stream",
     "text": [
      "/dss/dsshome1/0C/ra93lal2/.local/share/virtualenvs/CMA_Fairness_v2-3j10GkSs/lib/python3.10/site-packages/IPython/core/magics/osm.py:393: UserWarning: This is now an optional IPython functionality, using bookmarks requires you to install the `pickleshare` library.\n",
      "  bkms = self.shell.db.get('bookmarks', {})\n",
      "/dss/dsshome1/0C/ra93lal2/.local/share/virtualenvs/CMA_Fairness_v2-3j10GkSs/lib/python3.10/site-packages/IPython/core/magics/osm.py:417: UserWarning: This is now an optional IPython functionality, setting dhist requires you to install the `pickleshare` library.\n",
      "  self.shell.db['dhist'] = compress_dhist(dhist)[-100:]\n"
     ]
    }
   ],
   "source": [
    "%cd ~/cma/CMA_Fairness_v2"
   ]
  },
  {
   "cell_type": "markdown",
   "id": "de2603b9",
   "metadata": {
    "papermill": {
     "duration": 0.019798,
     "end_time": "2025-07-30T20:16:14.823366",
     "exception": false,
     "start_time": "2025-07-30T20:16:14.803568",
     "status": "completed"
    },
    "tags": []
   },
   "source": [
    "The following cell holds the definition of our parameters, these values can be overriden by rendering the with e.g. the following command:\n",
    "\n",
    "papermill -p alpha 0.2 -p ratio 0.3 universe_analysis.ipynb output/test_run.ipynb"
   ]
  },
  {
   "cell_type": "code",
   "execution_count": 2,
   "id": "a80968a0-40bb-4fa9-85ef-2d5eefb01975",
   "metadata": {
    "execution": {
     "iopub.execute_input": "2025-07-30T20:16:14.864450Z",
     "iopub.status.busy": "2025-07-30T20:16:14.863775Z",
     "iopub.status.idle": "2025-07-30T20:16:14.868889Z",
     "shell.execute_reply": "2025-07-30T20:16:14.868022Z"
    },
    "papermill": {
     "duration": 0.026442,
     "end_time": "2025-07-30T20:16:14.870382",
     "exception": false,
     "start_time": "2025-07-30T20:16:14.843940",
     "status": "completed"
    },
    "tags": []
   },
   "outputs": [
    {
     "name": "stdout",
     "output_type": "stream",
     "text": [
      "Current working directory: /dss/dsshome1/0C/ra93lal2/cma/CMA_Fairness_v2\n"
     ]
    }
   ],
   "source": [
    "import os\n",
    "print(\"Current working directory:\", os.getcwd())"
   ]
  },
  {
   "cell_type": "code",
   "execution_count": 3,
   "id": "2dce4c03",
   "metadata": {
    "execution": {
     "iopub.execute_input": "2025-07-30T20:16:14.911975Z",
     "iopub.status.busy": "2025-07-30T20:16:14.911522Z",
     "iopub.status.idle": "2025-07-30T20:16:14.917817Z",
     "shell.execute_reply": "2025-07-30T20:16:14.916911Z"
    },
    "papermill": {
     "duration": 0.028228,
     "end_time": "2025-07-30T20:16:14.919278",
     "exception": false,
     "start_time": "2025-07-30T20:16:14.891050",
     "status": "completed"
    },
    "tags": [
     "parameters"
    ]
   },
   "outputs": [],
   "source": [
    "run_no = 0\n",
    "universe_id = \"test\"\n",
    "universe = {\n",
    "    \"training_size\": \"25k\", # \"25k\", \"5k\", \"1k\"\n",
    "    \"training_year\": \"2014\", # \"2014\", \"2012_14\", \"2010_14\"\n",
    "    \"scale\": \"scale\", # \"scale\", \"do-not-scale\",\n",
    "    #\"stratify_split\": \"target\", # \"none\", \"target\", \"protected-attribute\", \"both\",\n",
    "    \"model\": \"elasticnet\", # \"logreg\", \"penalized_logreg\", \"rf\", \"gbm\", \"elasticnet\"\n",
    "    \"cutoff\": [\"quantile_0.15\", \"quantile_0.30\"],\n",
    "    \"exclude_features\": \"age\", # \"none\", \"nationality\", \"sex\", \"nationality-sex\", \"age\"\n",
    "    \"exclude_subgroups\": \"keep-all\", # \"keep-all\", \"drop-non-german\"\n",
    "    \"eval_fairness_grouping\": [\"majority-minority\", \"nationality-all\"]\n",
    "}\n",
    "\n",
    "output_dir=\"./output\"\n",
    "seed=0"
   ]
  },
  {
   "cell_type": "code",
   "execution_count": 4,
   "id": "7672b1e6",
   "metadata": {
    "execution": {
     "iopub.execute_input": "2025-07-30T20:16:14.961338Z",
     "iopub.status.busy": "2025-07-30T20:16:14.960658Z",
     "iopub.status.idle": "2025-07-30T20:16:14.966113Z",
     "shell.execute_reply": "2025-07-30T20:16:14.965242Z"
    },
    "papermill": {
     "duration": 0.028123,
     "end_time": "2025-07-30T20:16:14.967602",
     "exception": false,
     "start_time": "2025-07-30T20:16:14.939479",
     "status": "completed"
    },
    "tags": [
     "injected-parameters"
    ]
   },
   "outputs": [],
   "source": [
    "# Parameters\n",
    "universe_id = \"86635513dfa50a83659cc8d46fcf1675\"\n",
    "run_no = \"14\"\n",
    "universe = \"{\\\"cutoff\\\": [\\\"quantile_0.1\\\", \\\"quantile_0.25\\\"], \\\"eval_fairness_grouping\\\": [\\\"majority-minority\\\", \\\"nationality-all\\\"], \\\"exclude_features\\\": \\\"age\\\", \\\"exclude_subgroups\\\": \\\"drop-non-german\\\", \\\"model\\\": \\\"logreg\\\", \\\"scale\\\": \\\"do-not-scale\\\", \\\"training_size\\\": \\\"25k\\\", \\\"training_year\\\": \\\"2012_14\\\"}\"\n",
    "output_dir = \"output\"\n",
    "seed = \"2023\"\n"
   ]
  },
  {
   "cell_type": "code",
   "execution_count": 5,
   "id": "1650acaf",
   "metadata": {
    "execution": {
     "iopub.execute_input": "2025-07-30T20:16:15.023995Z",
     "iopub.status.busy": "2025-07-30T20:16:15.023494Z",
     "iopub.status.idle": "2025-07-30T20:16:15.028587Z",
     "shell.execute_reply": "2025-07-30T20:16:15.027599Z"
    },
    "papermill": {
     "duration": 0.042579,
     "end_time": "2025-07-30T20:16:15.030210",
     "exception": false,
     "start_time": "2025-07-30T20:16:14.987631",
     "status": "completed"
    },
    "tags": []
   },
   "outputs": [],
   "source": [
    "import json\n",
    "# Parse universe into dict if it is passed as a string\n",
    "if isinstance(universe, str):\n",
    "    universe = json.loads(universe)"
   ]
  },
  {
   "cell_type": "code",
   "execution_count": 6,
   "id": "16620c48",
   "metadata": {
    "execution": {
     "iopub.execute_input": "2025-07-30T20:16:15.073588Z",
     "iopub.status.busy": "2025-07-30T20:16:15.073120Z",
     "iopub.status.idle": "2025-07-30T20:16:15.115679Z",
     "shell.execute_reply": "2025-07-30T20:16:15.114826Z"
    },
    "papermill": {
     "duration": 0.066465,
     "end_time": "2025-07-30T20:16:15.117367",
     "exception": false,
     "start_time": "2025-07-30T20:16:15.050902",
     "status": "completed"
    },
    "tags": []
   },
   "outputs": [],
   "source": [
    "# Auto-reload the custom package\n",
    "%load_ext autoreload\n",
    "%autoreload 1\n",
    "%aimport fairness_multiverse"
   ]
  },
  {
   "cell_type": "code",
   "execution_count": 7,
   "id": "01c5c9f3",
   "metadata": {
    "execution": {
     "iopub.execute_input": "2025-07-30T20:16:15.158024Z",
     "iopub.status.busy": "2025-07-30T20:16:15.157143Z",
     "iopub.status.idle": "2025-07-30T20:16:17.140316Z",
     "shell.execute_reply": "2025-07-30T20:16:17.139416Z"
    },
    "papermill": {
     "duration": 2.004971,
     "end_time": "2025-07-30T20:16:17.142102",
     "exception": false,
     "start_time": "2025-07-30T20:16:15.137131",
     "status": "completed"
    },
    "tags": []
   },
   "outputs": [],
   "source": [
    "from fairness_multiverse.universe import UniverseAnalysis\n",
    "\n",
    "universe_analysis = UniverseAnalysis(\n",
    "    run_no = run_no,\n",
    "    universe_id = universe_id,\n",
    "    universe = universe,\n",
    "    output_dir=output_dir,\n",
    ")"
   ]
  },
  {
   "cell_type": "code",
   "execution_count": 8,
   "id": "106241f5",
   "metadata": {
    "execution": {
     "iopub.execute_input": "2025-07-30T20:16:17.184630Z",
     "iopub.status.busy": "2025-07-30T20:16:17.184131Z",
     "iopub.status.idle": "2025-07-30T20:16:17.190494Z",
     "shell.execute_reply": "2025-07-30T20:16:17.189446Z"
    },
    "papermill": {
     "duration": 0.030173,
     "end_time": "2025-07-30T20:16:17.193025",
     "exception": false,
     "start_time": "2025-07-30T20:16:17.162852",
     "status": "completed"
    },
    "tags": []
   },
   "outputs": [
    {
     "name": "stdout",
     "output_type": "stream",
     "text": [
      "Using Seed: 2023\n"
     ]
    }
   ],
   "source": [
    "import numpy as np\n",
    "parsed_seed = int(seed)\n",
    "np.random.seed(parsed_seed)\n",
    "print(f\"Using Seed: {parsed_seed}\")"
   ]
  },
  {
   "cell_type": "markdown",
   "id": "e0ebdc57",
   "metadata": {
    "papermill": {
     "duration": 0.020509,
     "end_time": "2025-07-30T20:16:17.234301",
     "exception": false,
     "start_time": "2025-07-30T20:16:17.213792",
     "status": "completed"
    },
    "tags": []
   },
   "source": [
    "# Loading Data"
   ]
  },
  {
   "cell_type": "markdown",
   "id": "681925a3",
   "metadata": {
    "papermill": {
     "duration": 0.019338,
     "end_time": "2025-07-30T20:16:17.273938",
     "exception": false,
     "start_time": "2025-07-30T20:16:17.254600",
     "status": "completed"
    },
    "tags": []
   },
   "source": [
    "Load siab_train, siab_test, siab_calib and/or \n",
    "load siab_train_features, siab_train_labels"
   ]
  },
  {
   "cell_type": "code",
   "execution_count": 9,
   "id": "f0496b8a",
   "metadata": {
    "execution": {
     "iopub.execute_input": "2025-07-30T20:16:17.317284Z",
     "iopub.status.busy": "2025-07-30T20:16:17.316571Z",
     "iopub.status.idle": "2025-07-30T20:16:28.669148Z",
     "shell.execute_reply": "2025-07-30T20:16:28.668022Z"
    },
    "papermill": {
     "duration": 11.376234,
     "end_time": "2025-07-30T20:16:28.670733",
     "exception": false,
     "start_time": "2025-07-30T20:16:17.294499",
     "status": "completed"
    },
    "tags": []
   },
   "outputs": [
    {
     "name": "stdout",
     "output_type": "stream",
     "text": [
      "Loading SIAB data from cache: data/siab_cached.csv.gz\n"
     ]
    },
    {
     "name": "stdout",
     "output_type": "stream",
     "text": [
      "(643690, 164)\n"
     ]
    }
   ],
   "source": [
    "from pathlib import Path\n",
    "import pandas as pd\n",
    "\n",
    "# File paths\n",
    "raw_file = Path(\"data/raw/siab.csv\")\n",
    "cache_file = Path(\"data/siab_cached.csv.gz\")\n",
    "\n",
    "# Ensure cache directory exists\n",
    "cache_file.parent.mkdir(parents=True, exist_ok=True)\n",
    "\n",
    "# Load with simple caching\n",
    "if cache_file.exists():\n",
    "    print(f\"Loading SIAB data from cache: {cache_file}\")\n",
    "    siab = pd.read_csv(cache_file, compression='gzip')\n",
    "else:\n",
    "    print(f\"Cache not found. Reading raw SIAB data: {raw_file}\")\n",
    "    siab = pd.read_csv(raw_file)\n",
    "    siab.to_csv(cache_file, index=False, compression='gzip')\n",
    "    print(f\"Cached SIAB data to: {cache_file}\")\n",
    "\n",
    "# Now use `siab` DataFrame as needed\n",
    "print(siab.shape)"
   ]
  },
  {
   "cell_type": "code",
   "execution_count": 10,
   "id": "db0ca512-5f53-4dba-abdb-a2888bca41ba",
   "metadata": {
    "execution": {
     "iopub.execute_input": "2025-07-30T20:16:28.714367Z",
     "iopub.status.busy": "2025-07-30T20:16:28.713848Z",
     "iopub.status.idle": "2025-07-30T20:16:28.719388Z",
     "shell.execute_reply": "2025-07-30T20:16:28.718411Z"
    },
    "papermill": {
     "duration": 0.028061,
     "end_time": "2025-07-30T20:16:28.721030",
     "exception": false,
     "start_time": "2025-07-30T20:16:28.692969",
     "status": "completed"
    },
    "tags": []
   },
   "outputs": [],
   "source": [
    "#siab"
   ]
  },
  {
   "cell_type": "code",
   "execution_count": 11,
   "id": "a0edb063",
   "metadata": {
    "execution": {
     "iopub.execute_input": "2025-07-30T20:16:28.761671Z",
     "iopub.status.busy": "2025-07-30T20:16:28.761129Z",
     "iopub.status.idle": "2025-07-30T20:16:28.766056Z",
     "shell.execute_reply": "2025-07-30T20:16:28.765164Z"
    },
    "papermill": {
     "duration": 0.026759,
     "end_time": "2025-07-30T20:16:28.767604",
     "exception": false,
     "start_time": "2025-07-30T20:16:28.740845",
     "status": "completed"
    },
    "tags": []
   },
   "outputs": [],
   "source": [
    "#import pandas as pd\n",
    "#\n",
    "#X_train = pd.read_csv(\"./data/X_train.csv\")\n",
    "#y_train = pd.read_csv(\"./data/y_train.csv\")"
   ]
  },
  {
   "cell_type": "code",
   "execution_count": 12,
   "id": "63d08085",
   "metadata": {
    "execution": {
     "iopub.execute_input": "2025-07-30T20:16:28.810028Z",
     "iopub.status.busy": "2025-07-30T20:16:28.809239Z",
     "iopub.status.idle": "2025-07-30T20:16:28.814530Z",
     "shell.execute_reply": "2025-07-30T20:16:28.813590Z"
    },
    "papermill": {
     "duration": 0.02853,
     "end_time": "2025-07-30T20:16:28.816000",
     "exception": false,
     "start_time": "2025-07-30T20:16:28.787470",
     "status": "completed"
    },
    "tags": []
   },
   "outputs": [],
   "source": [
    "#X_test = pd.read_csv(\"./data/X_test.csv\")\n",
    "#y_true = pd.read_csv(\"./data/y_test.csv\")"
   ]
  },
  {
   "cell_type": "code",
   "execution_count": 13,
   "id": "98a8d0fa-1d3d-4ed8-bb2c-281470e24add",
   "metadata": {
    "execution": {
     "iopub.execute_input": "2025-07-30T20:16:28.857770Z",
     "iopub.status.busy": "2025-07-30T20:16:28.857127Z",
     "iopub.status.idle": "2025-07-30T20:16:28.862127Z",
     "shell.execute_reply": "2025-07-30T20:16:28.861306Z"
    },
    "papermill": {
     "duration": 0.02762,
     "end_time": "2025-07-30T20:16:28.863633",
     "exception": false,
     "start_time": "2025-07-30T20:16:28.836013",
     "status": "completed"
    },
    "tags": []
   },
   "outputs": [],
   "source": [
    "# Calibration data for conformal\n",
    "#X_calib = pd.read_csv(\"./data/X_calib.csv\")\n",
    "#y_calib = pd.read_csv(\"./data/y_calib.csv\")"
   ]
  },
  {
   "cell_type": "markdown",
   "id": "997051c5-15bd-4b69-9786-c3001a3ce484",
   "metadata": {
    "papermill": {
     "duration": 0.019396,
     "end_time": "2025-07-30T20:16:28.902801",
     "exception": false,
     "start_time": "2025-07-30T20:16:28.883405",
     "status": "completed"
    },
    "tags": []
   },
   "source": [
    "# Splitting Data and Setting Training Data Size"
   ]
  },
  {
   "cell_type": "code",
   "execution_count": 14,
   "id": "e993b61f-042d-41a6-8c81-f55681f86335",
   "metadata": {
    "execution": {
     "iopub.execute_input": "2025-07-30T20:16:28.946962Z",
     "iopub.status.busy": "2025-07-30T20:16:28.946400Z",
     "iopub.status.idle": "2025-07-30T20:16:28.959902Z",
     "shell.execute_reply": "2025-07-30T20:16:28.958927Z"
    },
    "papermill": {
     "duration": 0.036199,
     "end_time": "2025-07-30T20:16:28.961562",
     "exception": false,
     "start_time": "2025-07-30T20:16:28.925363",
     "status": "completed"
    },
    "tags": []
   },
   "outputs": [],
   "source": [
    "def sample_by_year_size(df,\n",
    "                        training_year: str,\n",
    "                        training_size: str,\n",
    "                        random_state: int = 42):\n",
    "    # --- parse training_year into a list of int years ---\n",
    "    if \"_\" in training_year:\n",
    "        start_str, end_str = training_year.split(\"_\", 1)\n",
    "        start = int(start_str)\n",
    "        end   = int(end_str) if len(end_str) == 4 else (int(end_str) + (start // 100)*100)\n",
    "        years = list(range(start, end + 1))\n",
    "    else:\n",
    "        years = [int(training_year)]\n",
    "\n",
    "    df = df[df[\"year\"].isin(years)].reset_index(drop=True)\n",
    "\n",
    "    # --- map training_size to total number of samples ---\n",
    "    total_map = {\"25k\": 25_000, \"5k\": 5_000, \"1k\": 1_000}\n",
    "    if training_size not in total_map:\n",
    "        return df  # e.g. \"all\"\n",
    "\n",
    "    total_samples = total_map[training_size]\n",
    "    n_years       = len(years)\n",
    "    base          = total_samples // n_years\n",
    "    remainder     = total_samples % n_years\n",
    "\n",
    "    # --- build a dict: year -> how many to sample ---\n",
    "    # give +1 to the first `remainder` years in ascending order\n",
    "    quotas = {\n",
    "        year: base + (1 if idx < remainder else 0)\n",
    "        for idx, year in enumerate(sorted(years))\n",
    "    }\n",
    "\n",
    "    # --- sample per‐year according to the quota dict ---\n",
    "    sampled = (\n",
    "        df\n",
    "        .groupby(\"year\", group_keys=False)\n",
    "        .apply(lambda grp: grp.sample(\n",
    "            n=min(len(grp), quotas[grp.name]),\n",
    "            random_state=random_state))\n",
    "        .reset_index(drop=True)\n",
    "    )\n",
    "\n",
    "    return sampled"
   ]
  },
  {
   "cell_type": "code",
   "execution_count": 15,
   "id": "c0ccd338-0e02-41f3-a09d-f56f9266e3fb",
   "metadata": {
    "execution": {
     "iopub.execute_input": "2025-07-30T20:16:29.003878Z",
     "iopub.status.busy": "2025-07-30T20:16:29.003099Z",
     "iopub.status.idle": "2025-07-30T20:16:29.008923Z",
     "shell.execute_reply": "2025-07-30T20:16:29.007924Z"
    },
    "papermill": {
     "duration": 0.028403,
     "end_time": "2025-07-30T20:16:29.010588",
     "exception": false,
     "start_time": "2025-07-30T20:16:28.982185",
     "status": "completed"
    },
    "tags": []
   },
   "outputs": [],
   "source": [
    "#universe[\"training_size\"]"
   ]
  },
  {
   "cell_type": "code",
   "execution_count": 16,
   "id": "ca707fd7-8047-4acd-bfa5-66248fbbf8e6",
   "metadata": {
    "execution": {
     "iopub.execute_input": "2025-07-30T20:16:29.053072Z",
     "iopub.status.busy": "2025-07-30T20:16:29.052253Z",
     "iopub.status.idle": "2025-07-30T20:16:29.057307Z",
     "shell.execute_reply": "2025-07-30T20:16:29.056365Z"
    },
    "papermill": {
     "duration": 0.027421,
     "end_time": "2025-07-30T20:16:29.058939",
     "exception": false,
     "start_time": "2025-07-30T20:16:29.031518",
     "status": "completed"
    },
    "tags": []
   },
   "outputs": [],
   "source": [
    "#universe[\"training_year\"]"
   ]
  },
  {
   "cell_type": "code",
   "execution_count": 17,
   "id": "aea9c6ef-6f46-42c8-85eb-5a62025c1508",
   "metadata": {
    "execution": {
     "iopub.execute_input": "2025-07-30T20:16:29.103411Z",
     "iopub.status.busy": "2025-07-30T20:16:29.102776Z",
     "iopub.status.idle": "2025-07-30T20:16:29.749852Z",
     "shell.execute_reply": "2025-07-30T20:16:29.748900Z"
    },
    "papermill": {
     "duration": 0.670422,
     "end_time": "2025-07-30T20:16:29.751629",
     "exception": false,
     "start_time": "2025-07-30T20:16:29.081207",
     "status": "completed"
    },
    "tags": []
   },
   "outputs": [],
   "source": [
    "siab_train = sample_by_year_size(siab,\n",
    "                               training_year=universe[\"training_year\"],\n",
    "                               training_size=universe[\"training_size\"])"
   ]
  },
  {
   "cell_type": "code",
   "execution_count": 18,
   "id": "8d3afb32-789d-442c-8d5d-9f5aa8dd2eed",
   "metadata": {
    "execution": {
     "iopub.execute_input": "2025-07-30T20:16:29.795135Z",
     "iopub.status.busy": "2025-07-30T20:16:29.794547Z",
     "iopub.status.idle": "2025-07-30T20:16:29.799609Z",
     "shell.execute_reply": "2025-07-30T20:16:29.798666Z"
    },
    "papermill": {
     "duration": 0.02787,
     "end_time": "2025-07-30T20:16:29.801185",
     "exception": false,
     "start_time": "2025-07-30T20:16:29.773315",
     "status": "completed"
    },
    "tags": []
   },
   "outputs": [],
   "source": [
    "#siab_train.shape"
   ]
  },
  {
   "cell_type": "code",
   "execution_count": 19,
   "id": "d582db68-1a4c-47fb-84fc-08518dc1975a",
   "metadata": {
    "execution": {
     "iopub.execute_input": "2025-07-30T20:16:29.844127Z",
     "iopub.status.busy": "2025-07-30T20:16:29.843429Z",
     "iopub.status.idle": "2025-07-30T20:16:29.848573Z",
     "shell.execute_reply": "2025-07-30T20:16:29.847580Z"
    },
    "papermill": {
     "duration": 0.027949,
     "end_time": "2025-07-30T20:16:29.850072",
     "exception": false,
     "start_time": "2025-07-30T20:16:29.822123",
     "status": "completed"
    },
    "tags": []
   },
   "outputs": [],
   "source": [
    "#display(siab_train.groupby(\"year\").size())"
   ]
  },
  {
   "cell_type": "code",
   "execution_count": 20,
   "id": "a561edb4-d032-42cb-8256-22eac1111c64",
   "metadata": {
    "execution": {
     "iopub.execute_input": "2025-07-30T20:16:29.893647Z",
     "iopub.status.busy": "2025-07-30T20:16:29.893003Z",
     "iopub.status.idle": "2025-07-30T20:16:30.116210Z",
     "shell.execute_reply": "2025-07-30T20:16:30.115111Z"
    },
    "papermill": {
     "duration": 0.246574,
     "end_time": "2025-07-30T20:16:30.118036",
     "exception": false,
     "start_time": "2025-07-30T20:16:29.871462",
     "status": "completed"
    },
    "tags": []
   },
   "outputs": [],
   "source": [
    "#siab_train = siab_s[siab_s.year < 2015]\n",
    "siab_calib = siab[siab.year == 2015]\n",
    "siab_test = siab[siab.year == 2016]"
   ]
  },
  {
   "cell_type": "code",
   "execution_count": 21,
   "id": "472de16f-c3db-4916-846b-1f0de9cf1746",
   "metadata": {
    "execution": {
     "iopub.execute_input": "2025-07-30T20:16:30.177678Z",
     "iopub.status.busy": "2025-07-30T20:16:30.177159Z",
     "iopub.status.idle": "2025-07-30T20:16:30.192671Z",
     "shell.execute_reply": "2025-07-30T20:16:30.191497Z"
    },
    "papermill": {
     "duration": 0.040101,
     "end_time": "2025-07-30T20:16:30.194406",
     "exception": false,
     "start_time": "2025-07-30T20:16:30.154305",
     "status": "completed"
    },
    "tags": []
   },
   "outputs": [],
   "source": [
    "X_train = siab_train.iloc[:,4:164]\n",
    "y_train = siab_train.iloc[:, [3]]"
   ]
  },
  {
   "cell_type": "code",
   "execution_count": 22,
   "id": "828c96af-f43a-4ed6-ba47-8ac73a47d56c",
   "metadata": {
    "execution": {
     "iopub.execute_input": "2025-07-30T20:16:30.241347Z",
     "iopub.status.busy": "2025-07-30T20:16:30.240413Z",
     "iopub.status.idle": "2025-07-30T20:16:30.310472Z",
     "shell.execute_reply": "2025-07-30T20:16:30.309527Z"
    },
    "papermill": {
     "duration": 0.095995,
     "end_time": "2025-07-30T20:16:30.312606",
     "exception": false,
     "start_time": "2025-07-30T20:16:30.216611",
     "status": "completed"
    },
    "tags": []
   },
   "outputs": [],
   "source": [
    "X_calib = siab_calib.iloc[:,4:164]\n",
    "y_calib = siab_calib.iloc[:, [3]]"
   ]
  },
  {
   "cell_type": "code",
   "execution_count": 23,
   "id": "c34be9c3-6bd6-476e-acd3-845840e303be",
   "metadata": {
    "execution": {
     "iopub.execute_input": "2025-07-30T20:16:30.358606Z",
     "iopub.status.busy": "2025-07-30T20:16:30.357576Z",
     "iopub.status.idle": "2025-07-30T20:16:30.417492Z",
     "shell.execute_reply": "2025-07-30T20:16:30.416400Z"
    },
    "papermill": {
     "duration": 0.084646,
     "end_time": "2025-07-30T20:16:30.419679",
     "exception": false,
     "start_time": "2025-07-30T20:16:30.335033",
     "status": "completed"
    },
    "tags": []
   },
   "outputs": [],
   "source": [
    "X_test = siab_test.iloc[:,4:164]\n",
    "y_true = siab_test.iloc[:, [3]]"
   ]
  },
  {
   "cell_type": "markdown",
   "id": "9901737e-04df-44f0-9100-f5ad144ed040",
   "metadata": {
    "papermill": {
     "duration": 0.021074,
     "end_time": "2025-07-30T20:16:30.464729",
     "exception": false,
     "start_time": "2025-07-30T20:16:30.443655",
     "status": "completed"
    },
    "tags": []
   },
   "source": [
    "# Splitting Data and Setting Training Data Size OLD VERSION"
   ]
  },
  {
   "cell_type": "code",
   "execution_count": 24,
   "id": "acbc8f7d-8fc8-4e86-8c59-5dcb0f58384b",
   "metadata": {
    "execution": {
     "iopub.execute_input": "2025-07-30T20:16:30.511880Z",
     "iopub.status.busy": "2025-07-30T20:16:30.510904Z",
     "iopub.status.idle": "2025-07-30T20:16:30.517791Z",
     "shell.execute_reply": "2025-07-30T20:16:30.516783Z"
    },
    "papermill": {
     "duration": 0.031848,
     "end_time": "2025-07-30T20:16:30.519272",
     "exception": false,
     "start_time": "2025-07-30T20:16:30.487424",
     "status": "completed"
    },
    "tags": []
   },
   "outputs": [],
   "source": [
    "#def sample_by_year(df, training_size, random_state=42):\n",
    "#    if training_size == \"2014\":\n",
    "#        return df[df[\"year\"] == 2014].reset_index(drop=True)\n",
    "#    \n",
    "#    size_map = {\n",
    "#        \"25k\": 5000,\n",
    "#        \"5k\": 1000,\n",
    "#        \"1k\": 200\n",
    "#    }\n",
    "#\n",
    "#    if training_size not in size_map:\n",
    "#        return df.reset_index(drop=True)  # use all data\n",
    "#\n",
    "#    n_per_year = size_map[training_size]\n",
    "#    grouped = df.groupby(\"year\")\n",
    "#    sampled = grouped.apply(lambda x: x.sample(n=min(n_per_year, len(x)), random_state=random_state))\n",
    "#    return sampled.reset_index(drop=True)"
   ]
  },
  {
   "cell_type": "code",
   "execution_count": 25,
   "id": "6d931f52-beaf-43ff-9e78-9d44a448d54e",
   "metadata": {
    "execution": {
     "iopub.execute_input": "2025-07-30T20:16:30.566495Z",
     "iopub.status.busy": "2025-07-30T20:16:30.565814Z",
     "iopub.status.idle": "2025-07-30T20:16:30.571365Z",
     "shell.execute_reply": "2025-07-30T20:16:30.570373Z"
    },
    "papermill": {
     "duration": 0.030814,
     "end_time": "2025-07-30T20:16:30.573106",
     "exception": false,
     "start_time": "2025-07-30T20:16:30.542292",
     "status": "completed"
    },
    "tags": []
   },
   "outputs": [],
   "source": [
    "#siab_s = sample_by_year(siab, universe[\"training_size\"])"
   ]
  },
  {
   "cell_type": "code",
   "execution_count": 26,
   "id": "5db0a40e-a4e2-4920-be85-b12ae061d70d",
   "metadata": {
    "execution": {
     "iopub.execute_input": "2025-07-30T20:16:30.618081Z",
     "iopub.status.busy": "2025-07-30T20:16:30.617230Z",
     "iopub.status.idle": "2025-07-30T20:16:30.622687Z",
     "shell.execute_reply": "2025-07-30T20:16:30.621498Z"
    },
    "papermill": {
     "duration": 0.029965,
     "end_time": "2025-07-30T20:16:30.624629",
     "exception": false,
     "start_time": "2025-07-30T20:16:30.594664",
     "status": "completed"
    },
    "tags": []
   },
   "outputs": [],
   "source": [
    "#display(siab_s.groupby(\"year\").size())"
   ]
  },
  {
   "cell_type": "code",
   "execution_count": 27,
   "id": "e6c733c5",
   "metadata": {
    "execution": {
     "iopub.execute_input": "2025-07-30T20:16:30.672665Z",
     "iopub.status.busy": "2025-07-30T20:16:30.671944Z",
     "iopub.status.idle": "2025-07-30T20:16:30.778504Z",
     "shell.execute_reply": "2025-07-30T20:16:30.777507Z"
    },
    "papermill": {
     "duration": 0.131699,
     "end_time": "2025-07-30T20:16:30.780346",
     "exception": false,
     "start_time": "2025-07-30T20:16:30.648647",
     "status": "completed"
    },
    "tags": []
   },
   "outputs": [],
   "source": [
    "# Auxiliary data needed downstream in the pipeline\n",
    "\n",
    "org_train = X_train.copy()\n",
    "org_test = X_test.copy()\n",
    "org_calib = X_calib.copy()"
   ]
  },
  {
   "cell_type": "code",
   "execution_count": 28,
   "id": "1466abac-c6da-4492-a62f-4240ae3783af",
   "metadata": {
    "execution": {
     "iopub.execute_input": "2025-07-30T20:16:30.825520Z",
     "iopub.status.busy": "2025-07-30T20:16:30.824393Z",
     "iopub.status.idle": "2025-07-30T20:16:30.830887Z",
     "shell.execute_reply": "2025-07-30T20:16:30.829872Z"
    },
    "papermill": {
     "duration": 0.030386,
     "end_time": "2025-07-30T20:16:30.832558",
     "exception": false,
     "start_time": "2025-07-30T20:16:30.802172",
     "status": "completed"
    },
    "tags": []
   },
   "outputs": [],
   "source": [
    "# put in other script?\n",
    "# Group sizes\n",
    "\n",
    "#def calculate_percentages(df, df_name):\n",
    "#    total_entries = len(df)\n",
    "#\n",
    "#    female_pct = (df['frau1'] == 1).mean() * 100\n",
    "#    non_german_pct = ((df['maxdeutsch1'] == 0) & (df['maxdeutsch.Missing.'] == 0)).mean() * 100\n",
    "#    non_german_male_pct = ((df['frau1'] == 0) & (df['maxdeutsch1'] == 0) & (df['maxdeutsch.Missing.'] == 0)).mean() * 100\n",
    "#    non_german_female_pct = ((df['frau1'] == 1) & (df['maxdeutsch1'] == 0) & (df['maxdeutsch.Missing.'] == 0)).mean() * 100\n",
    "#\n",
    "#    print(f\"--- {df_name} ---\")\n",
    "#    print(f\"Female: {female_pct:.2f}%\")\n",
    "#    print(f\"Non-German: {non_german_pct:.2f}%\")\n",
    "#    print(f\"Non-German Male: {non_german_male_pct:.2f}%\")\n",
    "#    print(f\"Non-German Female: {non_german_female_pct:.2f}%\\n\")\n",
    "#\n",
    "## Calculate for each DataFrame\n",
    "#calculate_percentages(siab_calib, \"siab_calib\")\n",
    "#calculate_percentages(siab_test, \"siab_test\")\n",
    "#calculate_percentages(siab_train, \"siab_train\")"
   ]
  },
  {
   "cell_type": "markdown",
   "id": "0a4a1b33",
   "metadata": {
    "papermill": {
     "duration": 0.020916,
     "end_time": "2025-07-30T20:16:30.874899",
     "exception": false,
     "start_time": "2025-07-30T20:16:30.853983",
     "status": "completed"
    },
    "tags": []
   },
   "source": [
    "# Preprocessing Data"
   ]
  },
  {
   "cell_type": "code",
   "execution_count": 29,
   "id": "ca879031",
   "metadata": {
    "execution": {
     "iopub.execute_input": "2025-07-30T20:16:30.917903Z",
     "iopub.status.busy": "2025-07-30T20:16:30.917331Z",
     "iopub.status.idle": "2025-07-30T20:16:30.923548Z",
     "shell.execute_reply": "2025-07-30T20:16:30.922571Z"
    },
    "papermill": {
     "duration": 0.029584,
     "end_time": "2025-07-30T20:16:30.925301",
     "exception": false,
     "start_time": "2025-07-30T20:16:30.895717",
     "status": "completed"
    },
    "tags": []
   },
   "outputs": [],
   "source": [
    "# EXCLUDE PROTECTED FEATURES\n",
    "# ----------------------\n",
    "# \"exclude_features\": \"none\", # \"nationality\", \"sex\", \"nationality-sex\"\n",
    "\n",
    "excluded_features = universe[\"exclude_features\"].split(\"-\") # split, e.g.: \"nationality-sex\" -> [\"nationality\", \"sex\"]\n",
    "excluded_features_dictionary = {\n",
    "    \"nationality\": [\"maxdeutsch1\", \"maxdeutsch.Missing.\"],\n",
    "    \"sex\": [\"frau1\"],\n",
    "    \"age\": [\"age\"],\n",
    "}\n"
   ]
  },
  {
   "cell_type": "code",
   "execution_count": 30,
   "id": "b745ac60",
   "metadata": {
    "execution": {
     "iopub.execute_input": "2025-07-30T20:16:30.969443Z",
     "iopub.status.busy": "2025-07-30T20:16:30.968950Z",
     "iopub.status.idle": "2025-07-30T20:16:30.974927Z",
     "shell.execute_reply": "2025-07-30T20:16:30.973984Z"
    },
    "papermill": {
     "duration": 0.030164,
     "end_time": "2025-07-30T20:16:30.976616",
     "exception": false,
     "start_time": "2025-07-30T20:16:30.946452",
     "status": "completed"
    },
    "tags": []
   },
   "outputs": [],
   "source": [
    "# Code nice names to column names\n",
    "\n",
    "excluded_features_columns = [\n",
    "    excluded_features_dictionary[f] for f in excluded_features if len(f) > 0 and f != \"none\"\n",
    "]"
   ]
  },
  {
   "cell_type": "code",
   "execution_count": 31,
   "id": "f84f73a2",
   "metadata": {
    "execution": {
     "iopub.execute_input": "2025-07-30T20:16:31.022704Z",
     "iopub.status.busy": "2025-07-30T20:16:31.021746Z",
     "iopub.status.idle": "2025-07-30T20:16:31.029045Z",
     "shell.execute_reply": "2025-07-30T20:16:31.027829Z"
    },
    "papermill": {
     "duration": 0.031465,
     "end_time": "2025-07-30T20:16:31.030541",
     "exception": false,
     "start_time": "2025-07-30T20:16:30.999076",
     "status": "completed"
    },
    "tags": []
   },
   "outputs": [],
   "source": [
    "from utils import flatten_once\n",
    "\n",
    "excluded_features_columns = flatten_once(excluded_features_columns)"
   ]
  },
  {
   "cell_type": "code",
   "execution_count": 32,
   "id": "884dea22",
   "metadata": {
    "execution": {
     "iopub.execute_input": "2025-07-30T20:16:31.076562Z",
     "iopub.status.busy": "2025-07-30T20:16:31.075953Z",
     "iopub.status.idle": "2025-07-30T20:16:31.092904Z",
     "shell.execute_reply": "2025-07-30T20:16:31.091938Z"
    },
    "papermill": {
     "duration": 0.041737,
     "end_time": "2025-07-30T20:16:31.094740",
     "exception": false,
     "start_time": "2025-07-30T20:16:31.053003",
     "status": "completed"
    },
    "tags": []
   },
   "outputs": [
    {
     "name": "stdout",
     "output_type": "stream",
     "text": [
      "Dropping features: ['age']\n"
     ]
    }
   ],
   "source": [
    "if len(excluded_features_columns) > 0:\n",
    "    print(f\"Dropping features: {excluded_features_columns}\")\n",
    "    X_train.drop(excluded_features_columns, axis=1, inplace=True)"
   ]
  },
  {
   "cell_type": "code",
   "execution_count": 33,
   "id": "95ab8b16",
   "metadata": {
    "execution": {
     "iopub.execute_input": "2025-07-30T20:16:31.141109Z",
     "iopub.status.busy": "2025-07-30T20:16:31.140658Z",
     "iopub.status.idle": "2025-07-30T20:16:31.195054Z",
     "shell.execute_reply": "2025-07-30T20:16:31.194027Z"
    },
    "papermill": {
     "duration": 0.079175,
     "end_time": "2025-07-30T20:16:31.196758",
     "exception": false,
     "start_time": "2025-07-30T20:16:31.117583",
     "status": "completed"
    },
    "tags": []
   },
   "outputs": [
    {
     "name": "stdout",
     "output_type": "stream",
     "text": [
      "Dropping features: ['age']\n"
     ]
    }
   ],
   "source": [
    "if len(excluded_features_columns) > 0:\n",
    "    print(f\"Dropping features: {excluded_features_columns}\")\n",
    "    X_test.drop(excluded_features_columns, axis=1, inplace=True)"
   ]
  },
  {
   "cell_type": "code",
   "execution_count": 34,
   "id": "1853aaf5-fb9f-46cb-a2b5-8ea4ae2237e4",
   "metadata": {
    "execution": {
     "iopub.execute_input": "2025-07-30T20:16:31.242836Z",
     "iopub.status.busy": "2025-07-30T20:16:31.242376Z",
     "iopub.status.idle": "2025-07-30T20:16:31.293444Z",
     "shell.execute_reply": "2025-07-30T20:16:31.292463Z"
    },
    "papermill": {
     "duration": 0.07537,
     "end_time": "2025-07-30T20:16:31.295144",
     "exception": false,
     "start_time": "2025-07-30T20:16:31.219774",
     "status": "completed"
    },
    "tags": []
   },
   "outputs": [
    {
     "name": "stdout",
     "output_type": "stream",
     "text": [
      "Dropping features: ['age']\n"
     ]
    }
   ],
   "source": [
    "if len(excluded_features_columns) > 0:\n",
    "    print(f\"Dropping features: {excluded_features_columns}\")\n",
    "    X_calib.drop(excluded_features_columns, axis=1, inplace=True)"
   ]
  },
  {
   "cell_type": "code",
   "execution_count": 35,
   "id": "6727d079-03e5-481e-9d38-292a90b7a0a8",
   "metadata": {
    "execution": {
     "iopub.execute_input": "2025-07-30T20:16:31.342873Z",
     "iopub.status.busy": "2025-07-30T20:16:31.342367Z",
     "iopub.status.idle": "2025-07-30T20:16:31.347685Z",
     "shell.execute_reply": "2025-07-30T20:16:31.346732Z"
    },
    "papermill": {
     "duration": 0.030578,
     "end_time": "2025-07-30T20:16:31.349436",
     "exception": false,
     "start_time": "2025-07-30T20:16:31.318858",
     "status": "completed"
    },
    "tags": []
   },
   "outputs": [],
   "source": [
    "# SPLIT & STRATIFY DATA\n",
    "# ----------------------"
   ]
  },
  {
   "cell_type": "code",
   "execution_count": 36,
   "id": "76c4dc6d",
   "metadata": {
    "execution": {
     "iopub.execute_input": "2025-07-30T20:16:31.397932Z",
     "iopub.status.busy": "2025-07-30T20:16:31.397275Z",
     "iopub.status.idle": "2025-07-30T20:16:31.402797Z",
     "shell.execute_reply": "2025-07-30T20:16:31.401894Z"
    },
    "papermill": {
     "duration": 0.030984,
     "end_time": "2025-07-30T20:16:31.404507",
     "exception": false,
     "start_time": "2025-07-30T20:16:31.373523",
     "status": "completed"
    },
    "tags": []
   },
   "outputs": [],
   "source": [
    "# EXCLUDE CERTAIN SUBGROUPS\n",
    "# ----------------------\n",
    "\n",
    "mode = universe.get(\"exclude_subgroups\", \"keep-all\") \n",
    "# Fetches the exclude_subgroups setting from the universe dict.\n",
    "# Defaults to \"keep-all\" if the key is missing."
   ]
  },
  {
   "cell_type": "code",
   "execution_count": 37,
   "id": "21994072",
   "metadata": {
    "execution": {
     "iopub.execute_input": "2025-07-30T20:16:31.452977Z",
     "iopub.status.busy": "2025-07-30T20:16:31.452317Z",
     "iopub.status.idle": "2025-07-30T20:16:31.459601Z",
     "shell.execute_reply": "2025-07-30T20:16:31.458719Z"
    },
    "papermill": {
     "duration": 0.03408,
     "end_time": "2025-07-30T20:16:31.461207",
     "exception": false,
     "start_time": "2025-07-30T20:16:31.427127",
     "status": "completed"
    },
    "tags": []
   },
   "outputs": [],
   "source": [
    "if mode == \"keep-all\":\n",
    "    keep_mask = pd.Series(True, index=org_train.index)\n",
    "\n",
    "# org_train contains the original feature columns from features_org (in Simson)\n",
    "# features_org contains unprocessed features, for me X_train at beginning ???\n",
    "# For keep-all, creates a boolean Series (keep_mask) of all True, so no rows are removed.\n",
    "\n",
    "elif mode == \"drop-non-german\":\n",
    "    keep_mask = org_train[\"maxdeutsch1\"] == 1 # ??? what about missing values?\n",
    "\n",
    "else:\n",
    "    raise ValueError(f\"Unsupported mode for exclude_subgroups: {mode}\")\n"
   ]
  },
  {
   "cell_type": "code",
   "execution_count": 38,
   "id": "71651440",
   "metadata": {
    "execution": {
     "iopub.execute_input": "2025-07-30T20:16:31.509506Z",
     "iopub.status.busy": "2025-07-30T20:16:31.508843Z",
     "iopub.status.idle": "2025-07-30T20:16:31.516700Z",
     "shell.execute_reply": "2025-07-30T20:16:31.515690Z"
    },
    "papermill": {
     "duration": 0.033442,
     "end_time": "2025-07-30T20:16:31.518312",
     "exception": false,
     "start_time": "2025-07-30T20:16:31.484870",
     "status": "completed"
    },
    "tags": []
   },
   "outputs": [
    {
     "name": "stdout",
     "output_type": "stream",
     "text": [
      "Dropping 3481 rows (13.92%) where mode='drop-non-german'\n"
     ]
    }
   ],
   "source": [
    "n_drop = (~keep_mask).sum() # Calculates how many rows are set to be dropped\n",
    "if n_drop > 0:\n",
    "    pct = n_drop / len(keep_mask) * 100\n",
    "    print(f\"Dropping {n_drop} rows ({pct:.2f}%) where mode='{mode}'\")"
   ]
  },
  {
   "cell_type": "code",
   "execution_count": 39,
   "id": "5fb8eee5",
   "metadata": {
    "execution": {
     "iopub.execute_input": "2025-07-30T20:16:31.565593Z",
     "iopub.status.busy": "2025-07-30T20:16:31.565038Z",
     "iopub.status.idle": "2025-07-30T20:16:31.580672Z",
     "shell.execute_reply": "2025-07-30T20:16:31.579706Z"
    },
    "papermill": {
     "duration": 0.040549,
     "end_time": "2025-07-30T20:16:31.582430",
     "exception": false,
     "start_time": "2025-07-30T20:16:31.541881",
     "status": "completed"
    },
    "tags": []
   },
   "outputs": [],
   "source": [
    "X_train = X_train[keep_mask]"
   ]
  },
  {
   "cell_type": "code",
   "execution_count": 40,
   "id": "b202bb3a",
   "metadata": {
    "execution": {
     "iopub.execute_input": "2025-07-30T20:16:31.629788Z",
     "iopub.status.busy": "2025-07-30T20:16:31.628911Z",
     "iopub.status.idle": "2025-07-30T20:16:31.635379Z",
     "shell.execute_reply": "2025-07-30T20:16:31.634572Z"
    },
    "papermill": {
     "duration": 0.031607,
     "end_time": "2025-07-30T20:16:31.637043",
     "exception": false,
     "start_time": "2025-07-30T20:16:31.605436",
     "status": "completed"
    },
    "tags": []
   },
   "outputs": [],
   "source": [
    "y_train = y_train[keep_mask]"
   ]
  },
  {
   "cell_type": "markdown",
   "id": "493e2ac3",
   "metadata": {
    "papermill": {
     "duration": 0.021893,
     "end_time": "2025-07-30T20:16:31.681779",
     "exception": false,
     "start_time": "2025-07-30T20:16:31.659886",
     "status": "completed"
    },
    "tags": []
   },
   "source": [
    "# Model Training"
   ]
  },
  {
   "cell_type": "code",
   "execution_count": 41,
   "id": "679e1268",
   "metadata": {
    "execution": {
     "iopub.execute_input": "2025-07-30T20:16:31.728152Z",
     "iopub.status.busy": "2025-07-30T20:16:31.727626Z",
     "iopub.status.idle": "2025-07-30T20:16:31.832596Z",
     "shell.execute_reply": "2025-07-30T20:16:31.831593Z"
    },
    "papermill": {
     "duration": 0.130391,
     "end_time": "2025-07-30T20:16:31.834502",
     "exception": false,
     "start_time": "2025-07-30T20:16:31.704111",
     "status": "completed"
    },
    "tags": []
   },
   "outputs": [],
   "source": [
    "from sklearn.linear_model import LogisticRegression\n",
    "from sklearn.ensemble import GradientBoostingClassifier, RandomForestClassifier\n",
    "\n",
    "if (universe[\"model\"] == \"logreg\"):\n",
    "    model = LogisticRegression() #penalty=\"none\") #, solver=\"newton-cg\", max_iter=1) # include random_state=19 ?\n",
    "elif (universe[\"model\"] == \"penalized_logreg\"):\n",
    "    model = LogisticRegression(penalty=\"l2\", C=1.0) #, solver=\"newton-cg\", max_iter=1)\n",
    "elif (universe[\"model\"] == \"rf\"):\n",
    "    model = RandomForestClassifier(n_estimators=100, n_jobs=-1)\n",
    "elif (universe[\"model\"] == \"gbm\"):\n",
    "    model = GradientBoostingClassifier()\n",
    "elif (universe[\"model\"] == \"elasticnet\"):\n",
    "    model = LogisticRegression(penalty = 'elasticnet', solver = 'saga', l1_ratio = 0.5, max_iter=5000) # which solver to use?\n",
    "else:\n",
    "    raise \"Unsupported universe.model\""
   ]
  },
  {
   "cell_type": "code",
   "execution_count": 42,
   "id": "0cc8f744",
   "metadata": {
    "execution": {
     "iopub.execute_input": "2025-07-30T20:16:31.880003Z",
     "iopub.status.busy": "2025-07-30T20:16:31.879360Z",
     "iopub.status.idle": "2025-07-30T20:16:31.885761Z",
     "shell.execute_reply": "2025-07-30T20:16:31.884789Z"
    },
    "papermill": {
     "duration": 0.03062,
     "end_time": "2025-07-30T20:16:31.887299",
     "exception": false,
     "start_time": "2025-07-30T20:16:31.856679",
     "status": "completed"
    },
    "tags": []
   },
   "outputs": [],
   "source": [
    "import numpy as np\n",
    "from sklearn.pipeline import Pipeline\n",
    "from sklearn.preprocessing import StandardScaler\n",
    "\n",
    "model = Pipeline([\n",
    "    #(\"continuous_processor\", continuous_processor),\n",
    "    #(\"categorical_preprocessor\", categorical_preprocessor),\n",
    "    (\"scale\", StandardScaler() if universe[\"scale\"] == \"scale\" else None), \n",
    "    (\"model\", model),\n",
    "])"
   ]
  },
  {
   "cell_type": "code",
   "execution_count": 43,
   "id": "9442c04d",
   "metadata": {
    "execution": {
     "iopub.execute_input": "2025-07-30T20:16:31.933033Z",
     "iopub.status.busy": "2025-07-30T20:16:31.932396Z",
     "iopub.status.idle": "2025-07-30T20:16:32.611988Z",
     "shell.execute_reply": "2025-07-30T20:16:32.611171Z"
    },
    "papermill": {
     "duration": 0.704294,
     "end_time": "2025-07-30T20:16:32.613862",
     "exception": false,
     "start_time": "2025-07-30T20:16:31.909568",
     "status": "completed"
    },
    "tags": []
   },
   "outputs": [
    {
     "name": "stderr",
     "output_type": "stream",
     "text": [
      "/dss/dsshome1/0C/ra93lal2/.local/share/virtualenvs/CMA_Fairness_v2-3j10GkSs/lib/python3.10/site-packages/sklearn/linear_model/_logistic.py:444: ConvergenceWarning: lbfgs failed to converge (status=1):\n",
      "STOP: TOTAL NO. of ITERATIONS REACHED LIMIT.\n",
      "\n",
      "Increase the number of iterations (max_iter) or scale the data as shown in:\n",
      "    https://scikit-learn.org/stable/modules/preprocessing.html\n",
      "Please also refer to the documentation for alternative solver options:\n",
      "    https://scikit-learn.org/stable/modules/linear_model.html#logistic-regression\n",
      "  n_iter_i = _check_optimize_result(\n"
     ]
    },
    {
     "data": {
      "text/html": [
       "<style>#sk-container-id-1 {color: black;background-color: white;}#sk-container-id-1 pre{padding: 0;}#sk-container-id-1 div.sk-toggleable {background-color: white;}#sk-container-id-1 label.sk-toggleable__label {cursor: pointer;display: block;width: 100%;margin-bottom: 0;padding: 0.3em;box-sizing: border-box;text-align: center;}#sk-container-id-1 label.sk-toggleable__label-arrow:before {content: \"▸\";float: left;margin-right: 0.25em;color: #696969;}#sk-container-id-1 label.sk-toggleable__label-arrow:hover:before {color: black;}#sk-container-id-1 div.sk-estimator:hover label.sk-toggleable__label-arrow:before {color: black;}#sk-container-id-1 div.sk-toggleable__content {max-height: 0;max-width: 0;overflow: hidden;text-align: left;background-color: #f0f8ff;}#sk-container-id-1 div.sk-toggleable__content pre {margin: 0.2em;color: black;border-radius: 0.25em;background-color: #f0f8ff;}#sk-container-id-1 input.sk-toggleable__control:checked~div.sk-toggleable__content {max-height: 200px;max-width: 100%;overflow: auto;}#sk-container-id-1 input.sk-toggleable__control:checked~label.sk-toggleable__label-arrow:before {content: \"▾\";}#sk-container-id-1 div.sk-estimator input.sk-toggleable__control:checked~label.sk-toggleable__label {background-color: #d4ebff;}#sk-container-id-1 div.sk-label input.sk-toggleable__control:checked~label.sk-toggleable__label {background-color: #d4ebff;}#sk-container-id-1 input.sk-hidden--visually {border: 0;clip: rect(1px 1px 1px 1px);clip: rect(1px, 1px, 1px, 1px);height: 1px;margin: -1px;overflow: hidden;padding: 0;position: absolute;width: 1px;}#sk-container-id-1 div.sk-estimator {font-family: monospace;background-color: #f0f8ff;border: 1px dotted black;border-radius: 0.25em;box-sizing: border-box;margin-bottom: 0.5em;}#sk-container-id-1 div.sk-estimator:hover {background-color: #d4ebff;}#sk-container-id-1 div.sk-parallel-item::after {content: \"\";width: 100%;border-bottom: 1px solid gray;flex-grow: 1;}#sk-container-id-1 div.sk-label:hover label.sk-toggleable__label {background-color: #d4ebff;}#sk-container-id-1 div.sk-serial::before {content: \"\";position: absolute;border-left: 1px solid gray;box-sizing: border-box;top: 0;bottom: 0;left: 50%;z-index: 0;}#sk-container-id-1 div.sk-serial {display: flex;flex-direction: column;align-items: center;background-color: white;padding-right: 0.2em;padding-left: 0.2em;position: relative;}#sk-container-id-1 div.sk-item {position: relative;z-index: 1;}#sk-container-id-1 div.sk-parallel {display: flex;align-items: stretch;justify-content: center;background-color: white;position: relative;}#sk-container-id-1 div.sk-item::before, #sk-container-id-1 div.sk-parallel-item::before {content: \"\";position: absolute;border-left: 1px solid gray;box-sizing: border-box;top: 0;bottom: 0;left: 50%;z-index: -1;}#sk-container-id-1 div.sk-parallel-item {display: flex;flex-direction: column;z-index: 1;position: relative;background-color: white;}#sk-container-id-1 div.sk-parallel-item:first-child::after {align-self: flex-end;width: 50%;}#sk-container-id-1 div.sk-parallel-item:last-child::after {align-self: flex-start;width: 50%;}#sk-container-id-1 div.sk-parallel-item:only-child::after {width: 0;}#sk-container-id-1 div.sk-dashed-wrapped {border: 1px dashed gray;margin: 0 0.4em 0.5em 0.4em;box-sizing: border-box;padding-bottom: 0.4em;background-color: white;}#sk-container-id-1 div.sk-label label {font-family: monospace;font-weight: bold;display: inline-block;line-height: 1.2em;}#sk-container-id-1 div.sk-label-container {text-align: center;}#sk-container-id-1 div.sk-container {/* jupyter's `normalize.less` sets `[hidden] { display: none; }` but bootstrap.min.css set `[hidden] { display: none !important; }` so we also need the `!important` here to be able to override the default hidden behavior on the sphinx rendered scikit-learn.org. See: https://github.com/scikit-learn/scikit-learn/issues/21755 */display: inline-block !important;position: relative;}#sk-container-id-1 div.sk-text-repr-fallback {display: none;}</style><div id=\"sk-container-id-1\" class=\"sk-top-container\"><div class=\"sk-text-repr-fallback\"><pre>Pipeline(steps=[(&#x27;scale&#x27;, None), (&#x27;model&#x27;, LogisticRegression())])</pre><b>In a Jupyter environment, please rerun this cell to show the HTML representation or trust the notebook. <br />On GitHub, the HTML representation is unable to render, please try loading this page with nbviewer.org.</b></div><div class=\"sk-container\" hidden><div class=\"sk-item sk-dashed-wrapped\"><div class=\"sk-label-container\"><div class=\"sk-label sk-toggleable\"><input class=\"sk-toggleable__control sk-hidden--visually\" id=\"sk-estimator-id-1\" type=\"checkbox\" ><label for=\"sk-estimator-id-1\" class=\"sk-toggleable__label sk-toggleable__label-arrow\">Pipeline</label><div class=\"sk-toggleable__content\"><pre>Pipeline(steps=[(&#x27;scale&#x27;, None), (&#x27;model&#x27;, LogisticRegression())])</pre></div></div></div><div class=\"sk-serial\"><div class=\"sk-item\"><div class=\"sk-estimator sk-toggleable\"><input class=\"sk-toggleable__control sk-hidden--visually\" id=\"sk-estimator-id-2\" type=\"checkbox\" ><label for=\"sk-estimator-id-2\" class=\"sk-toggleable__label sk-toggleable__label-arrow\">None</label><div class=\"sk-toggleable__content\"><pre>None</pre></div></div></div><div class=\"sk-item\"><div class=\"sk-estimator sk-toggleable\"><input class=\"sk-toggleable__control sk-hidden--visually\" id=\"sk-estimator-id-3\" type=\"checkbox\" ><label for=\"sk-estimator-id-3\" class=\"sk-toggleable__label sk-toggleable__label-arrow\">LogisticRegression</label><div class=\"sk-toggleable__content\"><pre>LogisticRegression()</pre></div></div></div></div></div></div></div>"
      ],
      "text/plain": [
       "Pipeline(steps=[('scale', None), ('model', LogisticRegression())])"
      ]
     },
     "execution_count": 43,
     "metadata": {},
     "output_type": "execute_result"
    }
   ],
   "source": [
    "model.fit(X_train, y_train.values.ravel())"
   ]
  },
  {
   "cell_type": "code",
   "execution_count": 44,
   "id": "af59f8c0",
   "metadata": {
    "execution": {
     "iopub.execute_input": "2025-07-30T20:16:32.665722Z",
     "iopub.status.busy": "2025-07-30T20:16:32.664997Z",
     "iopub.status.idle": "2025-07-30T20:16:32.670839Z",
     "shell.execute_reply": "2025-07-30T20:16:32.669922Z"
    },
    "papermill": {
     "duration": 0.032663,
     "end_time": "2025-07-30T20:16:32.672546",
     "exception": false,
     "start_time": "2025-07-30T20:16:32.639883",
     "status": "completed"
    },
    "tags": []
   },
   "outputs": [],
   "source": [
    "from fairness_multiverse.universe import predict_w_threshold"
   ]
  },
  {
   "cell_type": "code",
   "execution_count": 45,
   "id": "a7cf2e16",
   "metadata": {
    "execution": {
     "iopub.execute_input": "2025-07-30T20:16:32.721637Z",
     "iopub.status.busy": "2025-07-30T20:16:32.720981Z",
     "iopub.status.idle": "2025-07-30T20:16:32.817029Z",
     "shell.execute_reply": "2025-07-30T20:16:32.816059Z"
    },
    "papermill": {
     "duration": 0.122575,
     "end_time": "2025-07-30T20:16:32.819064",
     "exception": false,
     "start_time": "2025-07-30T20:16:32.696489",
     "status": "completed"
    },
    "tags": []
   },
   "outputs": [
    {
     "data": {
      "text/plain": [
       "0.8603388696912273"
      ]
     },
     "execution_count": 45,
     "metadata": {},
     "output_type": "execute_result"
    }
   ],
   "source": [
    "probs_test = model.predict_proba(X_test)\n",
    "\n",
    "'''\n",
    "Below code returns a boolean array (or binary 0/1 array depending on how it’s used) where each element \n",
    "is True if the probability of class 1 is greater than or equal to the threshold, and False otherwise.\n",
    "'''\n",
    "y_pred_default = predict_w_threshold(probs_test, 0.5)\n",
    "\n",
    "from sklearn.metrics import accuracy_score\n",
    "\n",
    "# Naive prediction\n",
    "accuracy_score(y_true = y_true, y_pred = y_pred_default)"
   ]
  },
  {
   "cell_type": "code",
   "execution_count": 46,
   "id": "081964c3",
   "metadata": {
    "execution": {
     "iopub.execute_input": "2025-07-30T20:16:32.867733Z",
     "iopub.status.busy": "2025-07-30T20:16:32.867085Z",
     "iopub.status.idle": "2025-07-30T20:16:32.949996Z",
     "shell.execute_reply": "2025-07-30T20:16:32.949105Z"
    },
    "papermill": {
     "duration": 0.108808,
     "end_time": "2025-07-30T20:16:32.951656",
     "exception": false,
     "start_time": "2025-07-30T20:16:32.842848",
     "status": "completed"
    },
    "tags": []
   },
   "outputs": [
    {
     "data": {
      "text/plain": [
       "array([0, 0, 0, ..., 0, 0, 0])"
      ]
     },
     "execution_count": 46,
     "metadata": {},
     "output_type": "execute_result"
    }
   ],
   "source": [
    "model.predict(X_test)"
   ]
  },
  {
   "cell_type": "markdown",
   "id": "56c9705b",
   "metadata": {
    "papermill": {
     "duration": 0.023231,
     "end_time": "2025-07-30T20:16:32.999392",
     "exception": false,
     "start_time": "2025-07-30T20:16:32.976161",
     "status": "completed"
    },
    "tags": []
   },
   "source": [
    "# Conformal Prediction"
   ]
  },
  {
   "cell_type": "code",
   "execution_count": 47,
   "id": "160ec6ff",
   "metadata": {
    "execution": {
     "iopub.execute_input": "2025-07-30T20:16:33.049624Z",
     "iopub.status.busy": "2025-07-30T20:16:33.048982Z",
     "iopub.status.idle": "2025-07-30T20:16:33.054561Z",
     "shell.execute_reply": "2025-07-30T20:16:33.053686Z"
    },
    "papermill": {
     "duration": 0.03351,
     "end_time": "2025-07-30T20:16:33.056238",
     "exception": false,
     "start_time": "2025-07-30T20:16:33.022728",
     "status": "completed"
    },
    "tags": []
   },
   "outputs": [],
   "source": [
    "# Miscoverage level for conformal prediction (10% allowed error rate => 90% target coverage)\n",
    "alpha = 0.1"
   ]
  },
  {
   "cell_type": "code",
   "execution_count": 48,
   "id": "eadf4555-3dd3-440e-8e35-f82a4ad9f855",
   "metadata": {
    "execution": {
     "iopub.execute_input": "2025-07-30T20:16:33.107808Z",
     "iopub.status.busy": "2025-07-30T20:16:33.106714Z",
     "iopub.status.idle": "2025-07-30T20:16:33.193012Z",
     "shell.execute_reply": "2025-07-30T20:16:33.191828Z"
    },
    "papermill": {
     "duration": 0.113663,
     "end_time": "2025-07-30T20:16:33.194953",
     "exception": false,
     "start_time": "2025-07-30T20:16:33.081290",
     "status": "completed"
    },
    "tags": []
   },
   "outputs": [],
   "source": [
    "probs_calib = model.predict_proba(X_calib)"
   ]
  },
  {
   "cell_type": "code",
   "execution_count": 49,
   "id": "2ed93547-6d5d-4983-9b36-1ecb300da49a",
   "metadata": {
    "execution": {
     "iopub.execute_input": "2025-07-30T20:16:33.245613Z",
     "iopub.status.busy": "2025-07-30T20:16:33.244729Z",
     "iopub.status.idle": "2025-07-30T20:16:33.250404Z",
     "shell.execute_reply": "2025-07-30T20:16:33.249466Z"
    },
    "papermill": {
     "duration": 0.031375,
     "end_time": "2025-07-30T20:16:33.251976",
     "exception": false,
     "start_time": "2025-07-30T20:16:33.220601",
     "status": "completed"
    },
    "tags": []
   },
   "outputs": [],
   "source": [
    "y_calib = y_calib.values.ravel().astype(int)"
   ]
  },
  {
   "cell_type": "code",
   "execution_count": 50,
   "id": "65d1320d-f588-4b38-9072-62af1ae97f7d",
   "metadata": {
    "execution": {
     "iopub.execute_input": "2025-07-30T20:16:33.301748Z",
     "iopub.status.busy": "2025-07-30T20:16:33.300649Z",
     "iopub.status.idle": "2025-07-30T20:16:33.308177Z",
     "shell.execute_reply": "2025-07-30T20:16:33.307162Z"
    },
    "papermill": {
     "duration": 0.033682,
     "end_time": "2025-07-30T20:16:33.309962",
     "exception": false,
     "start_time": "2025-07-30T20:16:33.276280",
     "status": "completed"
    },
    "tags": []
   },
   "outputs": [],
   "source": [
    "from fairness_multiverse.conformal import compute_nc_scores\n",
    "\n",
    "# Compute nonconformity scores on calibration set (1 - probability of true class)\n",
    "nc_scores = compute_nc_scores(probs_calib, y_calib)"
   ]
  },
  {
   "cell_type": "code",
   "execution_count": 51,
   "id": "df3b8ca3-53b7-43d5-9667-7c85da7aeda2",
   "metadata": {
    "execution": {
     "iopub.execute_input": "2025-07-30T20:16:33.363063Z",
     "iopub.status.busy": "2025-07-30T20:16:33.362416Z",
     "iopub.status.idle": "2025-07-30T20:16:33.369386Z",
     "shell.execute_reply": "2025-07-30T20:16:33.368506Z"
    },
    "papermill": {
     "duration": 0.035872,
     "end_time": "2025-07-30T20:16:33.370934",
     "exception": false,
     "start_time": "2025-07-30T20:16:33.335062",
     "status": "completed"
    },
    "tags": []
   },
   "outputs": [],
   "source": [
    "from fairness_multiverse.conformal import find_threshold\n",
    "\n",
    "# Find conformal threshold q_hat for the given alpha (split conformal method)\n",
    "q_hat = find_threshold(nc_scores, alpha)"
   ]
  },
  {
   "cell_type": "code",
   "execution_count": 52,
   "id": "4d29e6c1-0ef6-4aa4-b8fe-4fe79b0d033a",
   "metadata": {
    "execution": {
     "iopub.execute_input": "2025-07-30T20:16:33.424273Z",
     "iopub.status.busy": "2025-07-30T20:16:33.423527Z",
     "iopub.status.idle": "2025-07-30T20:16:33.431163Z",
     "shell.execute_reply": "2025-07-30T20:16:33.430201Z"
    },
    "papermill": {
     "duration": 0.035565,
     "end_time": "2025-07-30T20:16:33.432980",
     "exception": false,
     "start_time": "2025-07-30T20:16:33.397415",
     "status": "completed"
    },
    "tags": []
   },
   "outputs": [
    {
     "data": {
      "text/plain": [
       "0.6487226087484721"
      ]
     },
     "execution_count": 52,
     "metadata": {},
     "output_type": "execute_result"
    }
   ],
   "source": [
    "q_hat"
   ]
  },
  {
   "cell_type": "code",
   "execution_count": 53,
   "id": "92460794-cdac-4be2-ba28-f28c0515a6fb",
   "metadata": {
    "execution": {
     "iopub.execute_input": "2025-07-30T20:16:33.484087Z",
     "iopub.status.busy": "2025-07-30T20:16:33.483406Z",
     "iopub.status.idle": "2025-07-30T20:16:34.254134Z",
     "shell.execute_reply": "2025-07-30T20:16:34.253190Z"
    },
    "papermill": {
     "duration": 0.797796,
     "end_time": "2025-07-30T20:16:34.255997",
     "exception": false,
     "start_time": "2025-07-30T20:16:33.458201",
     "status": "completed"
    },
    "tags": []
   },
   "outputs": [],
   "source": [
    "from fairness_multiverse.conformal import predict_conformal_sets\n",
    "\n",
    "# Generate prediction sets for each test example\n",
    "pred_sets = predict_conformal_sets(model, X_test, q_hat)"
   ]
  },
  {
   "cell_type": "code",
   "execution_count": 54,
   "id": "d90c9a65-e6db-4f5d-80cd-e68fb7e46829",
   "metadata": {
    "execution": {
     "iopub.execute_input": "2025-07-30T20:16:34.307588Z",
     "iopub.status.busy": "2025-07-30T20:16:34.306602Z",
     "iopub.status.idle": "2025-07-30T20:16:34.312576Z",
     "shell.execute_reply": "2025-07-30T20:16:34.311585Z"
    },
    "papermill": {
     "duration": 0.032732,
     "end_time": "2025-07-30T20:16:34.314182",
     "exception": false,
     "start_time": "2025-07-30T20:16:34.281450",
     "status": "completed"
    },
    "tags": []
   },
   "outputs": [],
   "source": [
    "y_true = y_true.squeeze()"
   ]
  },
  {
   "cell_type": "code",
   "execution_count": 55,
   "id": "3a58a54a-1e68-46b9-927a-df01f18aebc8",
   "metadata": {
    "execution": {
     "iopub.execute_input": "2025-07-30T20:16:34.366100Z",
     "iopub.status.busy": "2025-07-30T20:16:34.365051Z",
     "iopub.status.idle": "2025-07-30T20:16:35.276606Z",
     "shell.execute_reply": "2025-07-30T20:16:35.275689Z"
    },
    "papermill": {
     "duration": 0.940337,
     "end_time": "2025-07-30T20:16:35.278518",
     "exception": false,
     "start_time": "2025-07-30T20:16:34.338181",
     "status": "completed"
    },
    "tags": []
   },
   "outputs": [],
   "source": [
    "from fairness_multiverse.conformal import evaluate_sets\n",
    "\n",
    "# Evaluate coverage and average set size on test data\n",
    "metrics = evaluate_sets(pred_sets, y_true)"
   ]
  },
  {
   "cell_type": "markdown",
   "id": "2b569c12-9aaa-4c88-98c9-bbcd0cf3ebb8",
   "metadata": {
    "papermill": {
     "duration": 0.028172,
     "end_time": "2025-07-30T20:16:35.330340",
     "exception": false,
     "start_time": "2025-07-30T20:16:35.302168",
     "status": "completed"
    },
    "tags": []
   },
   "source": [
    "# CP Metrics"
   ]
  },
  {
   "cell_type": "code",
   "execution_count": 56,
   "id": "5ce0a5cb-201f-45a0-ade5-94c7f0bd6095",
   "metadata": {
    "execution": {
     "iopub.execute_input": "2025-07-30T20:16:35.381285Z",
     "iopub.status.busy": "2025-07-30T20:16:35.380382Z",
     "iopub.status.idle": "2025-07-30T20:16:35.388132Z",
     "shell.execute_reply": "2025-07-30T20:16:35.386892Z"
    },
    "papermill": {
     "duration": 0.034671,
     "end_time": "2025-07-30T20:16:35.389833",
     "exception": false,
     "start_time": "2025-07-30T20:16:35.355162",
     "status": "completed"
    },
    "tags": []
   },
   "outputs": [
    {
     "data": {
      "text/plain": [
       "{'coverage': 0.9128859658900903, 'avg_size': 1.2522684204659458}"
      ]
     },
     "execution_count": 56,
     "metadata": {},
     "output_type": "execute_result"
    }
   ],
   "source": [
    "metrics"
   ]
  },
  {
   "cell_type": "code",
   "execution_count": 57,
   "id": "9b9a838d-31c9-430b-ae14-12baee460d17",
   "metadata": {
    "execution": {
     "iopub.execute_input": "2025-07-30T20:16:35.441252Z",
     "iopub.status.busy": "2025-07-30T20:16:35.440291Z",
     "iopub.status.idle": "2025-07-30T20:16:35.447066Z",
     "shell.execute_reply": "2025-07-30T20:16:35.446178Z"
    },
    "papermill": {
     "duration": 0.033633,
     "end_time": "2025-07-30T20:16:35.448761",
     "exception": false,
     "start_time": "2025-07-30T20:16:35.415128",
     "status": "completed"
    },
    "tags": []
   },
   "outputs": [],
   "source": [
    "example_universe = universe.copy()\n",
    "universe_training_year = example_universe.get(\"training_year\")\n",
    "universe_training_size = example_universe.get(\"training_size\")\n",
    "universe_scale = example_universe.get(\"scale\")\n",
    "universe_model = example_universe.get(\"model\")\n",
    "universe_exclude_features = example_universe.get(\"exclude_features\")\n",
    "universe_exclude_subgroups = example_universe.get(\"exclude_subgroups\")"
   ]
  },
  {
   "cell_type": "code",
   "execution_count": 58,
   "id": "f4b6a8ac-9dc0-4245-8a91-5b3b5999c4f9",
   "metadata": {
    "execution": {
     "iopub.execute_input": "2025-07-30T20:16:35.499268Z",
     "iopub.status.busy": "2025-07-30T20:16:35.498584Z",
     "iopub.status.idle": "2025-07-30T20:16:35.505450Z",
     "shell.execute_reply": "2025-07-30T20:16:35.504433Z"
    },
    "papermill": {
     "duration": 0.033031,
     "end_time": "2025-07-30T20:16:35.507019",
     "exception": false,
     "start_time": "2025-07-30T20:16:35.473988",
     "status": "completed"
    },
    "tags": []
   },
   "outputs": [],
   "source": [
    "cp_metrics_dict = {\n",
    "    \"universe_id\": [universe_id],\n",
    "    \"universe_training_year\": [universe_training_year],\n",
    "    \"universe_training_size\": [universe_training_size],\n",
    "    \"universe_scale\": [universe_scale],\n",
    "    \"universe_model\": [universe_model],\n",
    "    \"universe_exclude_features\": [universe_exclude_features],\n",
    "    \"universe_exclude_subgroups\": [universe_exclude_subgroups],\n",
    "    \"q_hat\": [q_hat],\n",
    "    \"coverage\": [metrics[\"coverage\"]],\n",
    "    \"avg_size\": [metrics[\"avg_size\"]],\n",
    "}"
   ]
  },
  {
   "cell_type": "code",
   "execution_count": 59,
   "id": "908acbb1-0371-4915-85ca-3fa520d2efe2",
   "metadata": {
    "execution": {
     "iopub.execute_input": "2025-07-30T20:16:35.558059Z",
     "iopub.status.busy": "2025-07-30T20:16:35.557422Z",
     "iopub.status.idle": "2025-07-30T20:16:35.565023Z",
     "shell.execute_reply": "2025-07-30T20:16:35.564120Z"
    },
    "papermill": {
     "duration": 0.034571,
     "end_time": "2025-07-30T20:16:35.566515",
     "exception": false,
     "start_time": "2025-07-30T20:16:35.531944",
     "status": "completed"
    },
    "tags": []
   },
   "outputs": [
    {
     "data": {
      "text/plain": [
       "{'universe_id': ['86635513dfa50a83659cc8d46fcf1675'],\n",
       " 'universe_training_year': ['2012_14'],\n",
       " 'universe_training_size': ['25k'],\n",
       " 'universe_scale': ['do-not-scale'],\n",
       " 'universe_model': ['logreg'],\n",
       " 'universe_exclude_features': ['age'],\n",
       " 'universe_exclude_subgroups': ['drop-non-german'],\n",
       " 'q_hat': [0.6487226087484721],\n",
       " 'coverage': [0.9128859658900903],\n",
       " 'avg_size': [1.2522684204659458]}"
      ]
     },
     "execution_count": 59,
     "metadata": {},
     "output_type": "execute_result"
    }
   ],
   "source": [
    "cp_metrics_dict"
   ]
  },
  {
   "cell_type": "code",
   "execution_count": 60,
   "id": "33007efc-14e9-4ec6-97ac-56a455c82265",
   "metadata": {
    "execution": {
     "iopub.execute_input": "2025-07-30T20:16:35.616280Z",
     "iopub.status.busy": "2025-07-30T20:16:35.615524Z",
     "iopub.status.idle": "2025-07-30T20:16:35.622217Z",
     "shell.execute_reply": "2025-07-30T20:16:35.621147Z"
    },
    "papermill": {
     "duration": 0.03324,
     "end_time": "2025-07-30T20:16:35.623928",
     "exception": false,
     "start_time": "2025-07-30T20:16:35.590688",
     "status": "completed"
    },
    "tags": []
   },
   "outputs": [],
   "source": [
    "cp_metrics_df = pd.DataFrame(cp_metrics_dict)"
   ]
  },
  {
   "cell_type": "code",
   "execution_count": 61,
   "id": "db12611b-57b2-4910-b9d0-355adfd6e7bf",
   "metadata": {
    "execution": {
     "iopub.execute_input": "2025-07-30T20:16:35.682167Z",
     "iopub.status.busy": "2025-07-30T20:16:35.681490Z",
     "iopub.status.idle": "2025-07-30T20:16:35.702097Z",
     "shell.execute_reply": "2025-07-30T20:16:35.701137Z"
    },
    "papermill": {
     "duration": 0.050706,
     "end_time": "2025-07-30T20:16:35.703741",
     "exception": false,
     "start_time": "2025-07-30T20:16:35.653035",
     "status": "completed"
    },
    "tags": []
   },
   "outputs": [
    {
     "data": {
      "text/html": [
       "<div>\n",
       "<style scoped>\n",
       "    .dataframe tbody tr th:only-of-type {\n",
       "        vertical-align: middle;\n",
       "    }\n",
       "\n",
       "    .dataframe tbody tr th {\n",
       "        vertical-align: top;\n",
       "    }\n",
       "\n",
       "    .dataframe thead th {\n",
       "        text-align: right;\n",
       "    }\n",
       "</style>\n",
       "<table border=\"1\" class=\"dataframe\">\n",
       "  <thead>\n",
       "    <tr style=\"text-align: right;\">\n",
       "      <th></th>\n",
       "      <th>universe_id</th>\n",
       "      <th>universe_training_year</th>\n",
       "      <th>universe_training_size</th>\n",
       "      <th>universe_scale</th>\n",
       "      <th>universe_model</th>\n",
       "      <th>universe_exclude_features</th>\n",
       "      <th>universe_exclude_subgroups</th>\n",
       "      <th>q_hat</th>\n",
       "      <th>coverage</th>\n",
       "      <th>avg_size</th>\n",
       "    </tr>\n",
       "  </thead>\n",
       "  <tbody>\n",
       "    <tr>\n",
       "      <th>0</th>\n",
       "      <td>86635513dfa50a83659cc8d46fcf1675</td>\n",
       "      <td>2012_14</td>\n",
       "      <td>25k</td>\n",
       "      <td>do-not-scale</td>\n",
       "      <td>logreg</td>\n",
       "      <td>age</td>\n",
       "      <td>drop-non-german</td>\n",
       "      <td>0.648723</td>\n",
       "      <td>0.912886</td>\n",
       "      <td>1.252268</td>\n",
       "    </tr>\n",
       "  </tbody>\n",
       "</table>\n",
       "</div>"
      ],
      "text/plain": [
       "                        universe_id universe_training_year  \\\n",
       "0  86635513dfa50a83659cc8d46fcf1675                2012_14   \n",
       "\n",
       "  universe_training_size universe_scale universe_model  \\\n",
       "0                    25k   do-not-scale         logreg   \n",
       "\n",
       "  universe_exclude_features universe_exclude_subgroups     q_hat  coverage  \\\n",
       "0                       age            drop-non-german  0.648723  0.912886   \n",
       "\n",
       "   avg_size  \n",
       "0  1.252268  "
      ]
     },
     "execution_count": 61,
     "metadata": {},
     "output_type": "execute_result"
    }
   ],
   "source": [
    "cp_metrics_df"
   ]
  },
  {
   "cell_type": "code",
   "execution_count": 62,
   "id": "b7fbde55-a0a1-47e4-9af6-fe4a17fa8c61",
   "metadata": {
    "execution": {
     "iopub.execute_input": "2025-07-30T20:16:35.757524Z",
     "iopub.status.busy": "2025-07-30T20:16:35.756983Z",
     "iopub.status.idle": "2025-07-30T20:16:35.770355Z",
     "shell.execute_reply": "2025-07-30T20:16:35.769689Z"
    },
    "papermill": {
     "duration": 0.040921,
     "end_time": "2025-07-30T20:16:35.771549",
     "exception": false,
     "start_time": "2025-07-30T20:16:35.730628",
     "status": "completed"
    },
    "tags": []
   },
   "outputs": [],
   "source": [
    "# Conditional Coverage & looking at subgroups"
   ]
  },
  {
   "cell_type": "code",
   "execution_count": 63,
   "id": "027ae886-68dd-4141-96c7-805a5450e1ef",
   "metadata": {
    "execution": {
     "iopub.execute_input": "2025-07-30T20:16:35.800735Z",
     "iopub.status.busy": "2025-07-30T20:16:35.800126Z",
     "iopub.status.idle": "2025-07-30T20:16:35.986687Z",
     "shell.execute_reply": "2025-07-30T20:16:35.985873Z"
    },
    "papermill": {
     "duration": 0.203192,
     "end_time": "2025-07-30T20:16:35.988579",
     "exception": false,
     "start_time": "2025-07-30T20:16:35.785387",
     "status": "completed"
    },
    "tags": []
   },
   "outputs": [],
   "source": [
    "from fairness_multiverse.conformal import build_cp_groups\n",
    "\n",
    "cp_groups_df = build_cp_groups(pred_sets, y_true, X_test.index, org_test)\n",
    "#needs universe_id and setting"
   ]
  },
  {
   "cell_type": "code",
   "execution_count": 64,
   "id": "01d5802c-663a-4d1f-9d69-e036faaffbf7",
   "metadata": {
    "execution": {
     "iopub.execute_input": "2025-07-30T20:16:36.046139Z",
     "iopub.status.busy": "2025-07-30T20:16:36.045428Z",
     "iopub.status.idle": "2025-07-30T20:16:36.051155Z",
     "shell.execute_reply": "2025-07-30T20:16:36.050244Z"
    },
    "papermill": {
     "duration": 0.035815,
     "end_time": "2025-07-30T20:16:36.053000",
     "exception": false,
     "start_time": "2025-07-30T20:16:36.017185",
     "status": "completed"
    },
    "tags": []
   },
   "outputs": [],
   "source": [
    "#delete\n",
    "#cp_groups_df"
   ]
  },
  {
   "cell_type": "code",
   "execution_count": 65,
   "id": "fa424af1-d1eb-443d-b717-2d279ada8408",
   "metadata": {
    "execution": {
     "iopub.execute_input": "2025-07-30T20:16:36.112603Z",
     "iopub.status.busy": "2025-07-30T20:16:36.111759Z",
     "iopub.status.idle": "2025-07-30T20:16:36.116812Z",
     "shell.execute_reply": "2025-07-30T20:16:36.115905Z"
    },
    "papermill": {
     "duration": 0.035021,
     "end_time": "2025-07-30T20:16:36.118465",
     "exception": false,
     "start_time": "2025-07-30T20:16:36.083444",
     "status": "completed"
    },
    "tags": []
   },
   "outputs": [],
   "source": [
    "#delete\n",
    "#percentage = (cp_groups_df['nongerman_female'] == 1).mean() * 100\n",
    "#print(percentage)\n"
   ]
  },
  {
   "cell_type": "code",
   "execution_count": 66,
   "id": "6cbdab96-b2b2-45af-ad54-d0516db2e28d",
   "metadata": {
    "execution": {
     "iopub.execute_input": "2025-07-30T20:16:36.173977Z",
     "iopub.status.busy": "2025-07-30T20:16:36.173299Z",
     "iopub.status.idle": "2025-07-30T20:16:37.143289Z",
     "shell.execute_reply": "2025-07-30T20:16:37.142544Z"
    },
    "papermill": {
     "duration": 0.999462,
     "end_time": "2025-07-30T20:16:37.145400",
     "exception": false,
     "start_time": "2025-07-30T20:16:36.145938",
     "status": "completed"
    },
    "tags": []
   },
   "outputs": [],
   "source": [
    "# Define covered = 1 if true_label is in the predicted set\n",
    "cp_groups_df['covered'] = cp_groups_df.apply(\n",
    "    lambda r: int(r['true_label'] in r['pred_set']),\n",
    "    axis=1\n",
    ")"
   ]
  },
  {
   "cell_type": "code",
   "execution_count": 67,
   "id": "338ff529-1a6b-4b87-a931-8e4788d52aad",
   "metadata": {
    "execution": {
     "iopub.execute_input": "2025-07-30T20:16:37.213944Z",
     "iopub.status.busy": "2025-07-30T20:16:37.213225Z",
     "iopub.status.idle": "2025-07-30T20:16:37.219253Z",
     "shell.execute_reply": "2025-07-30T20:16:37.218098Z"
    },
    "papermill": {
     "duration": 0.042358,
     "end_time": "2025-07-30T20:16:37.221136",
     "exception": false,
     "start_time": "2025-07-30T20:16:37.178778",
     "status": "completed"
    },
    "tags": []
   },
   "outputs": [],
   "source": [
    "#cp_groups_df"
   ]
  },
  {
   "cell_type": "code",
   "execution_count": 68,
   "id": "90032e27-66df-4540-9169-4e89cfbaa758",
   "metadata": {
    "execution": {
     "iopub.execute_input": "2025-07-30T20:16:37.279607Z",
     "iopub.status.busy": "2025-07-30T20:16:37.279120Z",
     "iopub.status.idle": "2025-07-30T20:16:37.294802Z",
     "shell.execute_reply": "2025-07-30T20:16:37.293353Z"
    },
    "papermill": {
     "duration": 0.047367,
     "end_time": "2025-07-30T20:16:37.296979",
     "exception": false,
     "start_time": "2025-07-30T20:16:37.249612",
     "status": "completed"
    },
    "tags": []
   },
   "outputs": [],
   "source": [
    "subgroups = ['frau1','nongerman','nongerman_male','nongerman_female']\n",
    "\n",
    "# Conditional coverage for subgroup==1\n",
    "cond_coverage = {\n",
    "    g: cp_groups_df.loc[cp_groups_df[g]==1, 'covered'].mean()\n",
    "    for g in subgroups\n",
    "}"
   ]
  },
  {
   "cell_type": "code",
   "execution_count": 69,
   "id": "1e348fb1-b9c3-45bc-ba23-f016827a7e0d",
   "metadata": {
    "execution": {
     "iopub.execute_input": "2025-07-30T20:16:37.334132Z",
     "iopub.status.busy": "2025-07-30T20:16:37.333779Z",
     "iopub.status.idle": "2025-07-30T20:16:37.339894Z",
     "shell.execute_reply": "2025-07-30T20:16:37.339184Z"
    },
    "papermill": {
     "duration": 0.023946,
     "end_time": "2025-07-30T20:16:37.342292",
     "exception": false,
     "start_time": "2025-07-30T20:16:37.318346",
     "status": "completed"
    },
    "tags": []
   },
   "outputs": [
    {
     "data": {
      "text/plain": [
       "{'frau1': 0.9129801860088961,\n",
       " 'nongerman': 0.9628361309156234,\n",
       " 'nongerman_male': 0.9682968567053949,\n",
       " 'nongerman_female': 0.9538002980625931}"
      ]
     },
     "execution_count": 69,
     "metadata": {},
     "output_type": "execute_result"
    }
   ],
   "source": [
    "cond_coverage"
   ]
  },
  {
   "cell_type": "code",
   "execution_count": 70,
   "id": "f5093324-c3dd-4d63-bc4c-8d945e5c8bbb",
   "metadata": {
    "execution": {
     "iopub.execute_input": "2025-07-30T20:16:37.420637Z",
     "iopub.status.busy": "2025-07-30T20:16:37.420239Z",
     "iopub.status.idle": "2025-07-30T20:16:37.426741Z",
     "shell.execute_reply": "2025-07-30T20:16:37.425323Z"
    },
    "papermill": {
     "duration": 0.049001,
     "end_time": "2025-07-30T20:16:37.427999",
     "exception": false,
     "start_time": "2025-07-30T20:16:37.378998",
     "status": "completed"
    },
    "tags": []
   },
   "outputs": [],
   "source": [
    "for subgroup, cov in cond_coverage.items():\n",
    "    cp_metrics_df[f\"cov_{subgroup}\"] = cov"
   ]
  },
  {
   "cell_type": "code",
   "execution_count": 71,
   "id": "6e872e10-dbe5-49e8-b554-5030c98ff75d",
   "metadata": {
    "execution": {
     "iopub.execute_input": "2025-07-30T20:16:37.487695Z",
     "iopub.status.busy": "2025-07-30T20:16:37.487145Z",
     "iopub.status.idle": "2025-07-30T20:16:37.507758Z",
     "shell.execute_reply": "2025-07-30T20:16:37.506713Z"
    },
    "papermill": {
     "duration": 0.051559,
     "end_time": "2025-07-30T20:16:37.509361",
     "exception": false,
     "start_time": "2025-07-30T20:16:37.457802",
     "status": "completed"
    },
    "tags": []
   },
   "outputs": [
    {
     "data": {
      "text/html": [
       "<div>\n",
       "<style scoped>\n",
       "    .dataframe tbody tr th:only-of-type {\n",
       "        vertical-align: middle;\n",
       "    }\n",
       "\n",
       "    .dataframe tbody tr th {\n",
       "        vertical-align: top;\n",
       "    }\n",
       "\n",
       "    .dataframe thead th {\n",
       "        text-align: right;\n",
       "    }\n",
       "</style>\n",
       "<table border=\"1\" class=\"dataframe\">\n",
       "  <thead>\n",
       "    <tr style=\"text-align: right;\">\n",
       "      <th></th>\n",
       "      <th>universe_id</th>\n",
       "      <th>universe_training_year</th>\n",
       "      <th>universe_training_size</th>\n",
       "      <th>universe_scale</th>\n",
       "      <th>universe_model</th>\n",
       "      <th>universe_exclude_features</th>\n",
       "      <th>universe_exclude_subgroups</th>\n",
       "      <th>q_hat</th>\n",
       "      <th>coverage</th>\n",
       "      <th>avg_size</th>\n",
       "      <th>cov_frau1</th>\n",
       "      <th>cov_nongerman</th>\n",
       "      <th>cov_nongerman_male</th>\n",
       "      <th>cov_nongerman_female</th>\n",
       "    </tr>\n",
       "  </thead>\n",
       "  <tbody>\n",
       "    <tr>\n",
       "      <th>0</th>\n",
       "      <td>86635513dfa50a83659cc8d46fcf1675</td>\n",
       "      <td>2012_14</td>\n",
       "      <td>25k</td>\n",
       "      <td>do-not-scale</td>\n",
       "      <td>logreg</td>\n",
       "      <td>age</td>\n",
       "      <td>drop-non-german</td>\n",
       "      <td>0.648723</td>\n",
       "      <td>0.912886</td>\n",
       "      <td>1.252268</td>\n",
       "      <td>0.91298</td>\n",
       "      <td>0.962836</td>\n",
       "      <td>0.968297</td>\n",
       "      <td>0.9538</td>\n",
       "    </tr>\n",
       "  </tbody>\n",
       "</table>\n",
       "</div>"
      ],
      "text/plain": [
       "                        universe_id universe_training_year  \\\n",
       "0  86635513dfa50a83659cc8d46fcf1675                2012_14   \n",
       "\n",
       "  universe_training_size universe_scale universe_model  \\\n",
       "0                    25k   do-not-scale         logreg   \n",
       "\n",
       "  universe_exclude_features universe_exclude_subgroups     q_hat  coverage  \\\n",
       "0                       age            drop-non-german  0.648723  0.912886   \n",
       "\n",
       "   avg_size  cov_frau1  cov_nongerman  cov_nongerman_male  \\\n",
       "0  1.252268    0.91298       0.962836            0.968297   \n",
       "\n",
       "   cov_nongerman_female  \n",
       "0                0.9538  "
      ]
     },
     "execution_count": 71,
     "metadata": {},
     "output_type": "execute_result"
    }
   ],
   "source": [
    "cp_metrics_df"
   ]
  },
  {
   "cell_type": "markdown",
   "id": "33774451",
   "metadata": {
    "papermill": {
     "duration": 0.028624,
     "end_time": "2025-07-30T20:16:37.571219",
     "exception": false,
     "start_time": "2025-07-30T20:16:37.542595",
     "status": "completed"
    },
    "tags": []
   },
   "source": [
    "# (Fairness) Metrics"
   ]
  },
  {
   "cell_type": "code",
   "execution_count": 72,
   "id": "debc5d62",
   "metadata": {
    "execution": {
     "iopub.execute_input": "2025-07-30T20:16:37.630243Z",
     "iopub.status.busy": "2025-07-30T20:16:37.629611Z",
     "iopub.status.idle": "2025-07-30T20:16:37.653918Z",
     "shell.execute_reply": "2025-07-30T20:16:37.652788Z"
    },
    "papermill": {
     "duration": 0.056424,
     "end_time": "2025-07-30T20:16:37.655879",
     "exception": false,
     "start_time": "2025-07-30T20:16:37.599455",
     "status": "completed"
    },
    "tags": []
   },
   "outputs": [],
   "source": [
    "# do I need to include maxdeutsch1.missing?\n",
    "\n",
    "import numpy as np\n",
    "\n",
    "colname_to_bin = \"maxdeutsch1\"\n",
    "majority_value = org_train[colname_to_bin].mode()[0]\n",
    "\n",
    "org_test[\"majmin\"] = np.where(org_test[colname_to_bin] == majority_value, \"majority\", \"minority\")"
   ]
  },
  {
   "cell_type": "code",
   "execution_count": 73,
   "id": "06a50de5",
   "metadata": {
    "execution": {
     "iopub.execute_input": "2025-07-30T20:16:37.715442Z",
     "iopub.status.busy": "2025-07-30T20:16:37.714814Z",
     "iopub.status.idle": "2025-07-30T20:16:40.126166Z",
     "shell.execute_reply": "2025-07-30T20:16:40.125017Z"
    },
    "papermill": {
     "duration": 2.444646,
     "end_time": "2025-07-30T20:16:40.128744",
     "exception": false,
     "start_time": "2025-07-30T20:16:37.684098",
     "status": "completed"
    },
    "tags": []
   },
   "outputs": [],
   "source": [
    "example_universe = universe.copy()\n",
    "example_universe[\"cutoff\"] = example_universe[\"cutoff\"][0]\n",
    "example_universe[\"eval_fairness_grouping\"] = example_universe[\"eval_fairness_grouping\"][0]\n",
    "fairness_dict, metric_frame = universe_analysis.compute_metrics(\n",
    "    example_universe,\n",
    "    y_pred_prob=probs_test,\n",
    "    y_test=y_true,\n",
    "    org_test=org_test,\n",
    ")"
   ]
  },
  {
   "cell_type": "markdown",
   "id": "f95d4e02",
   "metadata": {
    "papermill": {
     "duration": 0.02189,
     "end_time": "2025-07-30T20:16:40.189071",
     "exception": false,
     "start_time": "2025-07-30T20:16:40.167181",
     "status": "completed"
    },
    "tags": []
   },
   "source": [
    "# Overall"
   ]
  },
  {
   "cell_type": "markdown",
   "id": "bdee4871",
   "metadata": {
    "papermill": {
     "duration": 0.013945,
     "end_time": "2025-07-30T20:16:40.223861",
     "exception": false,
     "start_time": "2025-07-30T20:16:40.209916",
     "status": "completed"
    },
    "tags": []
   },
   "source": [
    "Fairness\n",
    "Main fairness target: Equalized Odds. Seems to be a better fit than equal opportunity, since we're not only interested in Y = 1. Seems to be a better fit than demographic parity, since we also care about accuracy, not just equal distribution of preds.\n",
    "\n",
    "Pick column for computation of fairness metrics\n",
    "\n",
    "Performance\n",
    "Overall performance measures, most interesting in relation to the measures split by group below"
   ]
  },
  {
   "cell_type": "code",
   "execution_count": 74,
   "id": "c4e067c6",
   "metadata": {
    "execution": {
     "iopub.execute_input": "2025-07-30T20:16:40.253529Z",
     "iopub.status.busy": "2025-07-30T20:16:40.253153Z",
     "iopub.status.idle": "2025-07-30T20:16:40.260505Z",
     "shell.execute_reply": "2025-07-30T20:16:40.259751Z"
    },
    "papermill": {
     "duration": 0.023798,
     "end_time": "2025-07-30T20:16:40.261926",
     "exception": false,
     "start_time": "2025-07-30T20:16:40.238128",
     "status": "completed"
    },
    "tags": []
   },
   "outputs": [
    {
     "data": {
      "text/plain": [
       "accuracy                   0.217423\n",
       "balanced accuracy          0.533085\n",
       "f1                         0.238945\n",
       "precision                  0.136502\n",
       "false positive rate        0.891512\n",
       "false negative rate        0.042318\n",
       "selection rate             0.900000\n",
       "count                  89710.000000\n",
       "dtype: float64"
      ]
     },
     "execution_count": 74,
     "metadata": {},
     "output_type": "execute_result"
    }
   ],
   "source": [
    "metric_frame.overall"
   ]
  },
  {
   "cell_type": "markdown",
   "id": "e968fe9d",
   "metadata": {
    "papermill": {
     "duration": 0.015359,
     "end_time": "2025-07-30T20:16:40.292525",
     "exception": false,
     "start_time": "2025-07-30T20:16:40.277166",
     "status": "completed"
    },
    "tags": []
   },
   "source": [
    "By Group"
   ]
  },
  {
   "cell_type": "code",
   "execution_count": 75,
   "id": "ec325bce",
   "metadata": {
    "execution": {
     "iopub.execute_input": "2025-07-30T20:16:40.349211Z",
     "iopub.status.busy": "2025-07-30T20:16:40.348585Z",
     "iopub.status.idle": "2025-07-30T20:16:40.368651Z",
     "shell.execute_reply": "2025-07-30T20:16:40.367553Z"
    },
    "papermill": {
     "duration": 0.050659,
     "end_time": "2025-07-30T20:16:40.371356",
     "exception": false,
     "start_time": "2025-07-30T20:16:40.320697",
     "status": "completed"
    },
    "tags": []
   },
   "outputs": [
    {
     "data": {
      "text/html": [
       "<div>\n",
       "<style scoped>\n",
       "    .dataframe tbody tr th:only-of-type {\n",
       "        vertical-align: middle;\n",
       "    }\n",
       "\n",
       "    .dataframe tbody tr th {\n",
       "        vertical-align: top;\n",
       "    }\n",
       "\n",
       "    .dataframe thead th {\n",
       "        text-align: right;\n",
       "    }\n",
       "</style>\n",
       "<table border=\"1\" class=\"dataframe\">\n",
       "  <thead>\n",
       "    <tr style=\"text-align: right;\">\n",
       "      <th></th>\n",
       "      <th>accuracy</th>\n",
       "      <th>balanced accuracy</th>\n",
       "      <th>f1</th>\n",
       "      <th>precision</th>\n",
       "      <th>false positive rate</th>\n",
       "      <th>false negative rate</th>\n",
       "      <th>selection rate</th>\n",
       "      <th>count</th>\n",
       "    </tr>\n",
       "    <tr>\n",
       "      <th>majmin</th>\n",
       "      <th></th>\n",
       "      <th></th>\n",
       "      <th></th>\n",
       "      <th></th>\n",
       "      <th></th>\n",
       "      <th></th>\n",
       "      <th></th>\n",
       "      <th></th>\n",
       "    </tr>\n",
       "  </thead>\n",
       "  <tbody>\n",
       "    <tr>\n",
       "      <th>majority</th>\n",
       "      <td>0.239916</td>\n",
       "      <td>0.541086</td>\n",
       "      <td>0.248381</td>\n",
       "      <td>0.142857</td>\n",
       "      <td>0.868266</td>\n",
       "      <td>0.049562</td>\n",
       "      <td>0.879124</td>\n",
       "      <td>69170.0</td>\n",
       "    </tr>\n",
       "    <tr>\n",
       "      <th>minority</th>\n",
       "      <td>0.141675</td>\n",
       "      <td>0.508670</td>\n",
       "      <td>0.209346</td>\n",
       "      <td>0.117110</td>\n",
       "      <td>0.968303</td>\n",
       "      <td>0.014358</td>\n",
       "      <td>0.970302</td>\n",
       "      <td>20540.0</td>\n",
       "    </tr>\n",
       "  </tbody>\n",
       "</table>\n",
       "</div>"
      ],
      "text/plain": [
       "          accuracy  balanced accuracy        f1  precision  \\\n",
       "majmin                                                       \n",
       "majority  0.239916           0.541086  0.248381   0.142857   \n",
       "minority  0.141675           0.508670  0.209346   0.117110   \n",
       "\n",
       "          false positive rate  false negative rate  selection rate    count  \n",
       "majmin                                                                       \n",
       "majority             0.868266             0.049562        0.879124  69170.0  \n",
       "minority             0.968303             0.014358        0.970302  20540.0  "
      ]
     },
     "execution_count": 75,
     "metadata": {},
     "output_type": "execute_result"
    }
   ],
   "source": [
    "metric_frame.by_group"
   ]
  },
  {
   "cell_type": "code",
   "execution_count": 76,
   "id": "a9ddbe63",
   "metadata": {
    "execution": {
     "iopub.execute_input": "2025-07-30T20:16:40.460639Z",
     "iopub.status.busy": "2025-07-30T20:16:40.460163Z",
     "iopub.status.idle": "2025-07-30T20:16:43.040358Z",
     "shell.execute_reply": "2025-07-30T20:16:43.039335Z"
    },
    "papermill": {
     "duration": 2.625404,
     "end_time": "2025-07-30T20:16:43.042050",
     "exception": false,
     "start_time": "2025-07-30T20:16:40.416646",
     "status": "completed"
    },
    "tags": []
   },
   "outputs": [
    {
     "data": {
      "text/plain": [
       "array([[<Axes: title={'center': 'accuracy'}, xlabel='majmin'>,\n",
       "        <Axes: title={'center': 'balanced accuracy'}, xlabel='majmin'>,\n",
       "        <Axes: title={'center': 'f1'}, xlabel='majmin'>],\n",
       "       [<Axes: title={'center': 'precision'}, xlabel='majmin'>,\n",
       "        <Axes: title={'center': 'false positive rate'}, xlabel='majmin'>,\n",
       "        <Axes: title={'center': 'false negative rate'}, xlabel='majmin'>],\n",
       "       [<Axes: title={'center': 'selection rate'}, xlabel='majmin'>,\n",
       "        <Axes: title={'center': 'count'}, xlabel='majmin'>,\n",
       "        <Axes: xlabel='majmin'>]], dtype=object)"
      ]
     },
     "execution_count": 76,
     "metadata": {},
     "output_type": "execute_result"
    },
    {
     "data": {
      "image/png": "[encoded data removed]",
      "text/plain": [
       "<Figure size 1200x800 with 9 Axes>"
      ]
     },
     "metadata": {},
     "output_type": "display_data"
    }
   ],
   "source": [
    "# In a graphic\n",
    "metric_frame.by_group.plot.bar(\n",
    "    subplots=True,\n",
    "    layout=[3, 3],\n",
    "    legend=False,\n",
    "    figsize=[12, 8],\n",
    "    title=\"Show all metrics\",\n",
    ")"
   ]
  },
  {
   "cell_type": "markdown",
   "id": "f57a0bac",
   "metadata": {
    "papermill": {
     "duration": 0.032032,
     "end_time": "2025-07-30T20:16:43.106208",
     "exception": false,
     "start_time": "2025-07-30T20:16:43.074176",
     "status": "completed"
    },
    "tags": []
   },
   "source": [
    "# Final Output"
   ]
  },
  {
   "cell_type": "code",
   "execution_count": 77,
   "id": "96d280a3",
   "metadata": {
    "execution": {
     "iopub.execute_input": "2025-07-30T20:16:43.171588Z",
     "iopub.status.busy": "2025-07-30T20:16:43.170874Z",
     "iopub.status.idle": "2025-07-30T20:16:43.179518Z",
     "shell.execute_reply": "2025-07-30T20:16:43.178612Z"
    },
    "papermill": {
     "duration": 0.046073,
     "end_time": "2025-07-30T20:16:43.181921",
     "exception": false,
     "start_time": "2025-07-30T20:16:43.135848",
     "status": "completed"
    },
    "tags": []
   },
   "outputs": [
    {
     "data": {
      "text/plain": [
       "4"
      ]
     },
     "execution_count": 77,
     "metadata": {},
     "output_type": "execute_result"
    }
   ],
   "source": [
    "sub_universes = universe_analysis.generate_sub_universes()\n",
    "len(sub_universes)"
   ]
  },
  {
   "cell_type": "code",
   "execution_count": 78,
   "id": "92adf7ba",
   "metadata": {
    "execution": {
     "iopub.execute_input": "2025-07-30T20:16:43.246071Z",
     "iopub.status.busy": "2025-07-30T20:16:43.245706Z",
     "iopub.status.idle": "2025-07-30T20:16:43.250698Z",
     "shell.execute_reply": "2025-07-30T20:16:43.249972Z"
    },
    "papermill": {
     "duration": 0.038583,
     "end_time": "2025-07-30T20:16:43.252012",
     "exception": false,
     "start_time": "2025-07-30T20:16:43.213429",
     "status": "completed"
    },
    "tags": []
   },
   "outputs": [],
   "source": [
    "def filter_sub_universe_data(sub_universe, org_test):\n",
    "    # Keep all rows — no filtering\n",
    "    keep_rows_mask = np.ones(org_test.shape[0], dtype=bool)\n",
    "\n",
    "    print(f\"[INFO] Keeping all rows: {keep_rows_mask.sum()} rows retained.\")\n",
    "    return keep_rows_mask"
   ]
  },
  {
   "cell_type": "code",
   "execution_count": 79,
   "id": "4a759155",
   "metadata": {
    "execution": {
     "iopub.execute_input": "2025-07-30T20:16:43.287068Z",
     "iopub.status.busy": "2025-07-30T20:16:43.286689Z",
     "iopub.status.idle": "2025-07-30T20:16:53.420327Z",
     "shell.execute_reply": "2025-07-30T20:16:53.419582Z"
    },
    "papermill": {
     "duration": 10.152455,
     "end_time": "2025-07-30T20:16:53.421575",
     "exception": false,
     "start_time": "2025-07-30T20:16:43.269120",
     "status": "completed"
    },
    "tags": []
   },
   "outputs": [
    {
     "name": "stdout",
     "output_type": "stream",
     "text": [
      "Stopping execution_time clock.\n",
      "[INFO] Keeping all rows: 89710 rows retained.\n"
     ]
    },
    {
     "name": "stdout",
     "output_type": "stream",
     "text": [
      "[INFO] Keeping all rows: 89710 rows retained.\n"
     ]
    },
    {
     "name": "stdout",
     "output_type": "stream",
     "text": [
      "[INFO] Keeping all rows: 89710 rows retained.\n"
     ]
    },
    {
     "name": "stdout",
     "output_type": "stream",
     "text": [
      "[INFO] Keeping all rows: 89710 rows retained.\n"
     ]
    },
    {
     "data": {
      "text/html": [
       "<div>\n",
       "<style scoped>\n",
       "    .dataframe tbody tr th:only-of-type {\n",
       "        vertical-align: middle;\n",
       "    }\n",
       "\n",
       "    .dataframe tbody tr th {\n",
       "        vertical-align: top;\n",
       "    }\n",
       "\n",
       "    .dataframe thead th {\n",
       "        text-align: right;\n",
       "    }\n",
       "</style>\n",
       "<table border=\"1\" class=\"dataframe\">\n",
       "  <thead>\n",
       "    <tr style=\"text-align: right;\">\n",
       "      <th></th>\n",
       "      <th>run_no</th>\n",
       "      <th>universe_id</th>\n",
       "      <th>universe_settings</th>\n",
       "      <th>execution_time</th>\n",
       "      <th>test_size_n</th>\n",
       "      <th>test_size_frac</th>\n",
       "      <th>fair_main_equalized_odds_difference</th>\n",
       "      <th>fair_main_equalized_odds_ratio</th>\n",
       "      <th>fair_main_demographic_parity_difference</th>\n",
       "      <th>fair_main_demographic_parity_ratio</th>\n",
       "      <th>...</th>\n",
       "      <th>perf_grp_precision_0</th>\n",
       "      <th>perf_grp_precision_1</th>\n",
       "      <th>perf_grp_false positive rate_0</th>\n",
       "      <th>perf_grp_false positive rate_1</th>\n",
       "      <th>perf_grp_false negative rate_0</th>\n",
       "      <th>perf_grp_false negative rate_1</th>\n",
       "      <th>perf_grp_selection rate_0</th>\n",
       "      <th>perf_grp_selection rate_1</th>\n",
       "      <th>perf_grp_count_0</th>\n",
       "      <th>perf_grp_count_1</th>\n",
       "    </tr>\n",
       "  </thead>\n",
       "  <tbody>\n",
       "    <tr>\n",
       "      <th>0</th>\n",
       "      <td>14</td>\n",
       "      <td>86635513dfa50a83659cc8d46fcf1675</td>\n",
       "      <td>{\"cutoff\": \"quantile_0.1\", \"eval_fairness_grou...</td>\n",
       "      <td>26.211738</td>\n",
       "      <td>89710</td>\n",
       "      <td>1.0</td>\n",
       "      <td>0.100037</td>\n",
       "      <td>0.896688</td>\n",
       "      <td>0.091178</td>\n",
       "      <td>0.906031</td>\n",
       "      <td>...</td>\n",
       "      <td>NaN</td>\n",
       "      <td>NaN</td>\n",
       "      <td>NaN</td>\n",
       "      <td>NaN</td>\n",
       "      <td>NaN</td>\n",
       "      <td>NaN</td>\n",
       "      <td>NaN</td>\n",
       "      <td>NaN</td>\n",
       "      <td>NaN</td>\n",
       "      <td>NaN</td>\n",
       "    </tr>\n",
       "    <tr>\n",
       "      <th>0</th>\n",
       "      <td>14</td>\n",
       "      <td>86635513dfa50a83659cc8d46fcf1675</td>\n",
       "      <td>{\"cutoff\": \"quantile_0.1\", \"eval_fairness_grou...</td>\n",
       "      <td>26.211738</td>\n",
       "      <td>89710</td>\n",
       "      <td>1.0</td>\n",
       "      <td>0.100037</td>\n",
       "      <td>0.896688</td>\n",
       "      <td>0.091178</td>\n",
       "      <td>0.906031</td>\n",
       "      <td>...</td>\n",
       "      <td>0.117110</td>\n",
       "      <td>0.142857</td>\n",
       "      <td>0.968303</td>\n",
       "      <td>0.868266</td>\n",
       "      <td>0.014358</td>\n",
       "      <td>0.049562</td>\n",
       "      <td>0.970302</td>\n",
       "      <td>0.879124</td>\n",
       "      <td>20540.0</td>\n",
       "      <td>69170.0</td>\n",
       "    </tr>\n",
       "    <tr>\n",
       "      <th>0</th>\n",
       "      <td>14</td>\n",
       "      <td>86635513dfa50a83659cc8d46fcf1675</td>\n",
       "      <td>{\"cutoff\": \"quantile_0.25\", \"eval_fairness_gro...</td>\n",
       "      <td>26.211738</td>\n",
       "      <td>89710</td>\n",
       "      <td>1.0</td>\n",
       "      <td>0.235630</td>\n",
       "      <td>0.741947</td>\n",
       "      <td>0.217344</td>\n",
       "      <td>0.763132</td>\n",
       "      <td>...</td>\n",
       "      <td>NaN</td>\n",
       "      <td>NaN</td>\n",
       "      <td>NaN</td>\n",
       "      <td>NaN</td>\n",
       "      <td>NaN</td>\n",
       "      <td>NaN</td>\n",
       "      <td>NaN</td>\n",
       "      <td>NaN</td>\n",
       "      <td>NaN</td>\n",
       "      <td>NaN</td>\n",
       "    </tr>\n",
       "    <tr>\n",
       "      <th>0</th>\n",
       "      <td>14</td>\n",
       "      <td>86635513dfa50a83659cc8d46fcf1675</td>\n",
       "      <td>{\"cutoff\": \"quantile_0.25\", \"eval_fairness_gro...</td>\n",
       "      <td>26.211738</td>\n",
       "      <td>89710</td>\n",
       "      <td>1.0</td>\n",
       "      <td>0.235630</td>\n",
       "      <td>0.741947</td>\n",
       "      <td>0.217344</td>\n",
       "      <td>0.763132</td>\n",
       "      <td>...</td>\n",
       "      <td>0.119595</td>\n",
       "      <td>0.160339</td>\n",
       "      <td>0.913108</td>\n",
       "      <td>0.677478</td>\n",
       "      <td>0.048142</td>\n",
       "      <td>0.150328</td>\n",
       "      <td>0.917575</td>\n",
       "      <td>0.700231</td>\n",
       "      <td>20540.0</td>\n",
       "      <td>69170.0</td>\n",
       "    </tr>\n",
       "  </tbody>\n",
       "</table>\n",
       "<p>4 rows × 50 columns</p>\n",
       "</div>"
      ],
      "text/plain": [
       "  run_no                       universe_id  \\\n",
       "0     14  86635513dfa50a83659cc8d46fcf1675   \n",
       "0     14  86635513dfa50a83659cc8d46fcf1675   \n",
       "0     14  86635513dfa50a83659cc8d46fcf1675   \n",
       "0     14  86635513dfa50a83659cc8d46fcf1675   \n",
       "\n",
       "                                   universe_settings  execution_time  \\\n",
       "0  {\"cutoff\": \"quantile_0.1\", \"eval_fairness_grou...       26.211738   \n",
       "0  {\"cutoff\": \"quantile_0.1\", \"eval_fairness_grou...       26.211738   \n",
       "0  {\"cutoff\": \"quantile_0.25\", \"eval_fairness_gro...       26.211738   \n",
       "0  {\"cutoff\": \"quantile_0.25\", \"eval_fairness_gro...       26.211738   \n",
       "\n",
       "   test_size_n  test_size_frac  fair_main_equalized_odds_difference  \\\n",
       "0        89710             1.0                             0.100037   \n",
       "0        89710             1.0                             0.100037   \n",
       "0        89710             1.0                             0.235630   \n",
       "0        89710             1.0                             0.235630   \n",
       "\n",
       "   fair_main_equalized_odds_ratio  fair_main_demographic_parity_difference  \\\n",
       "0                        0.896688                                 0.091178   \n",
       "0                        0.896688                                 0.091178   \n",
       "0                        0.741947                                 0.217344   \n",
       "0                        0.741947                                 0.217344   \n",
       "\n",
       "   fair_main_demographic_parity_ratio  ...  perf_grp_precision_0  \\\n",
       "0                            0.906031  ...                   NaN   \n",
       "0                            0.906031  ...              0.117110   \n",
       "0                            0.763132  ...                   NaN   \n",
       "0                            0.763132  ...              0.119595   \n",
       "\n",
       "   perf_grp_precision_1  perf_grp_false positive rate_0  \\\n",
       "0                   NaN                             NaN   \n",
       "0              0.142857                        0.968303   \n",
       "0                   NaN                             NaN   \n",
       "0              0.160339                        0.913108   \n",
       "\n",
       "   perf_grp_false positive rate_1  perf_grp_false negative rate_0  \\\n",
       "0                             NaN                             NaN   \n",
       "0                        0.868266                        0.014358   \n",
       "0                             NaN                             NaN   \n",
       "0                        0.677478                        0.048142   \n",
       "\n",
       "   perf_grp_false negative rate_1  perf_grp_selection rate_0  \\\n",
       "0                             NaN                        NaN   \n",
       "0                        0.049562                   0.970302   \n",
       "0                             NaN                        NaN   \n",
       "0                        0.150328                   0.917575   \n",
       "\n",
       "   perf_grp_selection rate_1  perf_grp_count_0  perf_grp_count_1  \n",
       "0                        NaN               NaN               NaN  \n",
       "0                   0.879124           20540.0           69170.0  \n",
       "0                        NaN               NaN               NaN  \n",
       "0                   0.700231           20540.0           69170.0  \n",
       "\n",
       "[4 rows x 50 columns]"
      ]
     },
     "execution_count": 79,
     "metadata": {},
     "output_type": "execute_result"
    }
   ],
   "source": [
    "final_output = universe_analysis.generate_final_output(\n",
    "    y_pred_prob=probs_test,\n",
    "    y_test=y_true,\n",
    "    org_test=org_test,\n",
    "    filter_data=filter_sub_universe_data,\n",
    "    cp_metrics_df=cp_metrics_df,\n",
    "    save=True,\n",
    ")\n",
    "final_output"
   ]
  },
  {
   "cell_type": "code",
   "execution_count": null,
   "id": "721ff514-cb11-46f8-b6fc-50392f74b5cb",
   "metadata": {
    "papermill": {
     "duration": 0.017263,
     "end_time": "2025-07-30T20:16:53.458489",
     "exception": false,
     "start_time": "2025-07-30T20:16:53.441226",
     "status": "completed"
    },
    "tags": []
   },
   "outputs": [],
   "source": []
  }
 ],
 "metadata": {
  "celltoolbar": "Tags",
  "kernelspec": {
   "display_name": "Python (CMA Fairness)",
   "language": "python",
   "name": "cma_fair_env"
  },
  "language_info": {
   "codemirror_mode": {
    "name": "ipython",
    "version": 3
   },
   "file_extension": ".py",
   "mimetype": "text/x-python",
   "name": "python",
   "nbconvert_exporter": "python",
   "pygments_lexer": "ipython3",
   "version": "3.10.12"
  },
  "papermill": {
   "default_parameters": {},
   "duration": 40.680411,
   "end_time": "2025-07-30T20:16:54.296731",
   "environment_variables": {},
   "exception": null,
   "input_path": "universe_analysis.ipynb",
   "output_path": "output/runs/14/notebooks/m_14-86635513dfa50a83659cc8d46fcf1675.ipynb",
   "parameters": {
    "output_dir": "output",
    "run_no": "14",
    "seed": "2023",
    "universe": "{\"cutoff\": [\"quantile_0.1\", \"quantile_0.25\"], \"eval_fairness_grouping\": [\"majority-minority\", \"nationality-all\"], \"exclude_features\": \"age\", \"exclude_subgroups\": \"drop-non-german\", \"model\": \"logreg\", \"scale\": \"do-not-scale\", \"training_size\": \"25k\", \"training_year\": \"2012_14\"}",
    "universe_id": "86635513dfa50a83659cc8d46fcf1675"
   },
   "start_time": "2025-07-30T20:16:13.616320",
   "version": "2.6.0"
  }
 },
 "nbformat": 4,
 "nbformat_minor": 5
}