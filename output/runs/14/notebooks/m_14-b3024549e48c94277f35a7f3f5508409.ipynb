{
 "cells": [
  {
   "cell_type": "code",
   "execution_count": 1,
   "id": "f159f837-637b-42ba-96b5-ec9a68c44524",
   "metadata": {
    "execution": {
     "iopub.execute_input": "2025-07-30T21:32:15.750072Z",
     "iopub.status.busy": "2025-07-30T21:32:15.749214Z",
     "iopub.status.idle": "2025-07-30T21:32:15.762767Z",
     "shell.execute_reply": "2025-07-30T21:32:15.761788Z"
    },
    "papermill": {
     "duration": 0.035182,
     "end_time": "2025-07-30T21:32:15.764410",
     "exception": false,
     "start_time": "2025-07-30T21:32:15.729228",
     "status": "completed"
    },
    "tags": []
   },
   "outputs": [
    {
     "name": "stdout",
     "output_type": "stream",
     "text": [
      "/dss/dsshome1/0C/ra93lal2/cma/CMA_Fairness_v2\n"
     ]
    },
    {
     "name": "stderr",
     "output_type": "stream",
     "text": [
      "/dss/dsshome1/0C/ra93lal2/.local/share/virtualenvs/CMA_Fairness_v2-3j10GkSs/lib/python3.10/site-packages/IPython/core/magics/osm.py:393: UserWarning: This is now an optional IPython functionality, using bookmarks requires you to install the `pickleshare` library.\n",
      "  bkms = self.shell.db.get('bookmarks', {})\n",
      "/dss/dsshome1/0C/ra93lal2/.local/share/virtualenvs/CMA_Fairness_v2-3j10GkSs/lib/python3.10/site-packages/IPython/core/magics/osm.py:417: UserWarning: This is now an optional IPython functionality, setting dhist requires you to install the `pickleshare` library.\n",
      "  self.shell.db['dhist'] = compress_dhist(dhist)[-100:]\n"
     ]
    }
   ],
   "source": [
    "%cd ~/cma/CMA_Fairness_v2"
   ]
  },
  {
   "cell_type": "markdown",
   "id": "de2603b9",
   "metadata": {
    "papermill": {
     "duration": 0.018186,
     "end_time": "2025-07-30T21:32:15.802589",
     "exception": false,
     "start_time": "2025-07-30T21:32:15.784403",
     "status": "completed"
    },
    "tags": []
   },
   "source": [
    "The following cell holds the definition of our parameters, these values can be overriden by rendering the with e.g. the following command:\n",
    "\n",
    "papermill -p alpha 0.2 -p ratio 0.3 universe_analysis.ipynb output/test_run.ipynb"
   ]
  },
  {
   "cell_type": "code",
   "execution_count": 2,
   "id": "a80968a0-40bb-4fa9-85ef-2d5eefb01975",
   "metadata": {
    "execution": {
     "iopub.execute_input": "2025-07-30T21:32:15.840451Z",
     "iopub.status.busy": "2025-07-30T21:32:15.839773Z",
     "iopub.status.idle": "2025-07-30T21:32:15.845261Z",
     "shell.execute_reply": "2025-07-30T21:32:15.844277Z"
    },
    "papermill": {
     "duration": 0.026062,
     "end_time": "2025-07-30T21:32:15.846711",
     "exception": false,
     "start_time": "2025-07-30T21:32:15.820649",
     "status": "completed"
    },
    "tags": []
   },
   "outputs": [
    {
     "name": "stdout",
     "output_type": "stream",
     "text": [
      "Current working directory: /dss/dsshome1/0C/ra93lal2/cma/CMA_Fairness_v2\n"
     ]
    }
   ],
   "source": [
    "import os\n",
    "print(\"Current working directory:\", os.getcwd())"
   ]
  },
  {
   "cell_type": "code",
   "execution_count": 3,
   "id": "2dce4c03",
   "metadata": {
    "execution": {
     "iopub.execute_input": "2025-07-30T21:32:15.885362Z",
     "iopub.status.busy": "2025-07-30T21:32:15.884749Z",
     "iopub.status.idle": "2025-07-30T21:32:15.890792Z",
     "shell.execute_reply": "2025-07-30T21:32:15.889795Z"
    },
    "papermill": {
     "duration": 0.027194,
     "end_time": "2025-07-30T21:32:15.892506",
     "exception": false,
     "start_time": "2025-07-30T21:32:15.865312",
     "status": "completed"
    },
    "tags": [
     "parameters"
    ]
   },
   "outputs": [],
   "source": [
    "run_no = 0\n",
    "universe_id = \"test\"\n",
    "universe = {\n",
    "    \"training_size\": \"25k\", # \"25k\", \"5k\", \"1k\"\n",
    "    \"training_year\": \"2014\", # \"2014\", \"2012_14\", \"2010_14\"\n",
    "    \"scale\": \"scale\", # \"scale\", \"do-not-scale\",\n",
    "    #\"stratify_split\": \"target\", # \"none\", \"target\", \"protected-attribute\", \"both\",\n",
    "    \"model\": \"elasticnet\", # \"logreg\", \"penalized_logreg\", \"rf\", \"gbm\", \"elasticnet\"\n",
    "    \"cutoff\": [\"quantile_0.15\", \"quantile_0.30\"],\n",
    "    \"exclude_features\": \"age\", # \"none\", \"nationality\", \"sex\", \"nationality-sex\", \"age\"\n",
    "    \"exclude_subgroups\": \"keep-all\", # \"keep-all\", \"drop-non-german\"\n",
    "    \"eval_fairness_grouping\": [\"majority-minority\", \"nationality-all\"]\n",
    "}\n",
    "\n",
    "output_dir=\"./output\"\n",
    "seed=0"
   ]
  },
  {
   "cell_type": "code",
   "execution_count": 4,
   "id": "6350b916",
   "metadata": {
    "execution": {
     "iopub.execute_input": "2025-07-30T21:32:15.932754Z",
     "iopub.status.busy": "2025-07-30T21:32:15.932141Z",
     "iopub.status.idle": "2025-07-30T21:32:15.937185Z",
     "shell.execute_reply": "2025-07-30T21:32:15.936355Z"
    },
    "papermill": {
     "duration": 0.02569,
     "end_time": "2025-07-30T21:32:15.938660",
     "exception": false,
     "start_time": "2025-07-30T21:32:15.912970",
     "status": "completed"
    },
    "tags": [
     "injected-parameters"
    ]
   },
   "outputs": [],
   "source": [
    "# Parameters\n",
    "universe_id = \"b3024549e48c94277f35a7f3f5508409\"\n",
    "run_no = \"14\"\n",
    "universe = \"{\\\"cutoff\\\": [\\\"quantile_0.1\\\", \\\"quantile_0.25\\\"], \\\"eval_fairness_grouping\\\": [\\\"majority-minority\\\", \\\"nationality-all\\\"], \\\"exclude_features\\\": \\\"age\\\", \\\"exclude_subgroups\\\": \\\"keep-all\\\", \\\"model\\\": \\\"elasticnet\\\", \\\"scale\\\": \\\"do-not-scale\\\", \\\"training_size\\\": \\\"1k\\\", \\\"training_year\\\": \\\"2014\\\"}\"\n",
    "output_dir = \"output\"\n",
    "seed = \"2023\"\n"
   ]
  },
  {
   "cell_type": "code",
   "execution_count": 5,
   "id": "1650acaf",
   "metadata": {
    "execution": {
     "iopub.execute_input": "2025-07-30T21:32:15.976984Z",
     "iopub.status.busy": "2025-07-30T21:32:15.976400Z",
     "iopub.status.idle": "2025-07-30T21:32:15.981332Z",
     "shell.execute_reply": "2025-07-30T21:32:15.980502Z"
    },
    "papermill": {
     "duration": 0.025941,
     "end_time": "2025-07-30T21:32:15.982824",
     "exception": false,
     "start_time": "2025-07-30T21:32:15.956883",
     "status": "completed"
    },
    "tags": []
   },
   "outputs": [],
   "source": [
    "import json\n",
    "# Parse universe into dict if it is passed as a string\n",
    "if isinstance(universe, str):\n",
    "    universe = json.loads(universe)"
   ]
  },
  {
   "cell_type": "code",
   "execution_count": 6,
   "id": "16620c48",
   "metadata": {
    "execution": {
     "iopub.execute_input": "2025-07-30T21:32:16.022220Z",
     "iopub.status.busy": "2025-07-30T21:32:16.021392Z",
     "iopub.status.idle": "2025-07-30T21:32:16.065979Z",
     "shell.execute_reply": "2025-07-30T21:32:16.065099Z"
    },
    "papermill": {
     "duration": 0.0667,
     "end_time": "2025-07-30T21:32:16.067986",
     "exception": false,
     "start_time": "2025-07-30T21:32:16.001286",
     "status": "completed"
    },
    "tags": []
   },
   "outputs": [],
   "source": [
    "# Auto-reload the custom package\n",
    "%load_ext autoreload\n",
    "%autoreload 1\n",
    "%aimport fairness_multiverse"
   ]
  },
  {
   "cell_type": "code",
   "execution_count": 7,
   "id": "01c5c9f3",
   "metadata": {
    "execution": {
     "iopub.execute_input": "2025-07-30T21:32:16.107097Z",
     "iopub.status.busy": "2025-07-30T21:32:16.106469Z",
     "iopub.status.idle": "2025-07-30T21:32:18.046287Z",
     "shell.execute_reply": "2025-07-30T21:32:18.045179Z"
    },
    "papermill": {
     "duration": 1.961575,
     "end_time": "2025-07-30T21:32:18.048516",
     "exception": false,
     "start_time": "2025-07-30T21:32:16.086941",
     "status": "completed"
    },
    "tags": []
   },
   "outputs": [],
   "source": [
    "from fairness_multiverse.universe import UniverseAnalysis\n",
    "\n",
    "universe_analysis = UniverseAnalysis(\n",
    "    run_no = run_no,\n",
    "    universe_id = universe_id,\n",
    "    universe = universe,\n",
    "    output_dir=output_dir,\n",
    ")"
   ]
  },
  {
   "cell_type": "code",
   "execution_count": 8,
   "id": "106241f5",
   "metadata": {
    "execution": {
     "iopub.execute_input": "2025-07-30T21:32:18.101118Z",
     "iopub.status.busy": "2025-07-30T21:32:18.100604Z",
     "iopub.status.idle": "2025-07-30T21:32:18.107304Z",
     "shell.execute_reply": "2025-07-30T21:32:18.106426Z"
    },
    "papermill": {
     "duration": 0.035798,
     "end_time": "2025-07-30T21:32:18.109521",
     "exception": false,
     "start_time": "2025-07-30T21:32:18.073723",
     "status": "completed"
    },
    "tags": []
   },
   "outputs": [
    {
     "name": "stdout",
     "output_type": "stream",
     "text": [
      "Using Seed: 2023\n"
     ]
    }
   ],
   "source": [
    "import numpy as np\n",
    "parsed_seed = int(seed)\n",
    "np.random.seed(parsed_seed)\n",
    "print(f\"Using Seed: {parsed_seed}\")"
   ]
  },
  {
   "cell_type": "markdown",
   "id": "e0ebdc57",
   "metadata": {
    "papermill": {
     "duration": 0.026275,
     "end_time": "2025-07-30T21:32:18.161976",
     "exception": false,
     "start_time": "2025-07-30T21:32:18.135701",
     "status": "completed"
    },
    "tags": []
   },
   "source": [
    "# Loading Data"
   ]
  },
  {
   "cell_type": "markdown",
   "id": "681925a3",
   "metadata": {
    "papermill": {
     "duration": 0.028027,
     "end_time": "2025-07-30T21:32:18.218127",
     "exception": false,
     "start_time": "2025-07-30T21:32:18.190100",
     "status": "completed"
    },
    "tags": []
   },
   "source": [
    "Load siab_train, siab_test, siab_calib and/or \n",
    "load siab_train_features, siab_train_labels"
   ]
  },
  {
   "cell_type": "code",
   "execution_count": 9,
   "id": "f0496b8a",
   "metadata": {
    "execution": {
     "iopub.execute_input": "2025-07-30T21:32:18.280588Z",
     "iopub.status.busy": "2025-07-30T21:32:18.280172Z",
     "iopub.status.idle": "2025-07-30T21:32:30.045488Z",
     "shell.execute_reply": "2025-07-30T21:32:30.044388Z"
    },
    "papermill": {
     "duration": 11.798826,
     "end_time": "2025-07-30T21:32:30.047114",
     "exception": false,
     "start_time": "2025-07-30T21:32:18.248288",
     "status": "completed"
    },
    "tags": []
   },
   "outputs": [
    {
     "name": "stdout",
     "output_type": "stream",
     "text": [
      "Loading SIAB data from cache: data/siab_cached.csv.gz\n"
     ]
    },
    {
     "name": "stdout",
     "output_type": "stream",
     "text": [
      "(643690, 164)\n"
     ]
    }
   ],
   "source": [
    "from pathlib import Path\n",
    "import pandas as pd\n",
    "\n",
    "# File paths\n",
    "raw_file = Path(\"data/raw/siab.csv\")\n",
    "cache_file = Path(\"data/siab_cached.csv.gz\")\n",
    "\n",
    "# Ensure cache directory exists\n",
    "cache_file.parent.mkdir(parents=True, exist_ok=True)\n",
    "\n",
    "# Load with simple caching\n",
    "if cache_file.exists():\n",
    "    print(f\"Loading SIAB data from cache: {cache_file}\")\n",
    "    siab = pd.read_csv(cache_file, compression='gzip')\n",
    "else:\n",
    "    print(f\"Cache not found. Reading raw SIAB data: {raw_file}\")\n",
    "    siab = pd.read_csv(raw_file)\n",
    "    siab.to_csv(cache_file, index=False, compression='gzip')\n",
    "    print(f\"Cached SIAB data to: {cache_file}\")\n",
    "\n",
    "# Now use `siab` DataFrame as needed\n",
    "print(siab.shape)"
   ]
  },
  {
   "cell_type": "code",
   "execution_count": 10,
   "id": "db0ca512-5f53-4dba-abdb-a2888bca41ba",
   "metadata": {
    "execution": {
     "iopub.execute_input": "2025-07-30T21:32:30.090921Z",
     "iopub.status.busy": "2025-07-30T21:32:30.090429Z",
     "iopub.status.idle": "2025-07-30T21:32:30.096385Z",
     "shell.execute_reply": "2025-07-30T21:32:30.094819Z"
    },
    "papermill": {
     "duration": 0.029233,
     "end_time": "2025-07-30T21:32:30.097779",
     "exception": false,
     "start_time": "2025-07-30T21:32:30.068546",
     "status": "completed"
    },
    "tags": []
   },
   "outputs": [],
   "source": [
    "#siab"
   ]
  },
  {
   "cell_type": "code",
   "execution_count": 11,
   "id": "a0edb063",
   "metadata": {
    "execution": {
     "iopub.execute_input": "2025-07-30T21:32:30.141974Z",
     "iopub.status.busy": "2025-07-30T21:32:30.141034Z",
     "iopub.status.idle": "2025-07-30T21:32:30.147758Z",
     "shell.execute_reply": "2025-07-30T21:32:30.146874Z"
    },
    "papermill": {
     "duration": 0.030081,
     "end_time": "2025-07-30T21:32:30.149161",
     "exception": false,
     "start_time": "2025-07-30T21:32:30.119080",
     "status": "completed"
    },
    "tags": []
   },
   "outputs": [],
   "source": [
    "#import pandas as pd\n",
    "#\n",
    "#X_train = pd.read_csv(\"./data/X_train.csv\")\n",
    "#y_train = pd.read_csv(\"./data/y_train.csv\")"
   ]
  },
  {
   "cell_type": "code",
   "execution_count": 12,
   "id": "63d08085",
   "metadata": {
    "execution": {
     "iopub.execute_input": "2025-07-30T21:32:30.195087Z",
     "iopub.status.busy": "2025-07-30T21:32:30.194652Z",
     "iopub.status.idle": "2025-07-30T21:32:30.199668Z",
     "shell.execute_reply": "2025-07-30T21:32:30.198560Z"
    },
    "papermill": {
     "duration": 0.029382,
     "end_time": "2025-07-30T21:32:30.201206",
     "exception": false,
     "start_time": "2025-07-30T21:32:30.171824",
     "status": "completed"
    },
    "tags": []
   },
   "outputs": [],
   "source": [
    "#X_test = pd.read_csv(\"./data/X_test.csv\")\n",
    "#y_true = pd.read_csv(\"./data/y_test.csv\")"
   ]
  },
  {
   "cell_type": "code",
   "execution_count": 13,
   "id": "98a8d0fa-1d3d-4ed8-bb2c-281470e24add",
   "metadata": {
    "execution": {
     "iopub.execute_input": "2025-07-30T21:32:30.225323Z",
     "iopub.status.busy": "2025-07-30T21:32:30.224978Z",
     "iopub.status.idle": "2025-07-30T21:32:30.243602Z",
     "shell.execute_reply": "2025-07-30T21:32:30.242772Z"
    },
    "papermill": {
     "duration": 0.032633,
     "end_time": "2025-07-30T21:32:30.245290",
     "exception": false,
     "start_time": "2025-07-30T21:32:30.212657",
     "status": "completed"
    },
    "tags": []
   },
   "outputs": [],
   "source": [
    "# Calibration data for conformal\n",
    "#X_calib = pd.read_csv(\"./data/X_calib.csv\")\n",
    "#y_calib = pd.read_csv(\"./data/y_calib.csv\")"
   ]
  },
  {
   "cell_type": "markdown",
   "id": "997051c5-15bd-4b69-9786-c3001a3ce484",
   "metadata": {
    "papermill": {
     "duration": 0.01184,
     "end_time": "2025-07-30T21:32:30.269107",
     "exception": false,
     "start_time": "2025-07-30T21:32:30.257267",
     "status": "completed"
    },
    "tags": []
   },
   "source": [
    "# Splitting Data and Setting Training Data Size"
   ]
  },
  {
   "cell_type": "code",
   "execution_count": 14,
   "id": "e993b61f-042d-41a6-8c81-f55681f86335",
   "metadata": {
    "execution": {
     "iopub.execute_input": "2025-07-30T21:32:30.292969Z",
     "iopub.status.busy": "2025-07-30T21:32:30.292554Z",
     "iopub.status.idle": "2025-07-30T21:32:30.305987Z",
     "shell.execute_reply": "2025-07-30T21:32:30.305058Z"
    },
    "papermill": {
     "duration": 0.03054,
     "end_time": "2025-07-30T21:32:30.310488",
     "exception": false,
     "start_time": "2025-07-30T21:32:30.279948",
     "status": "completed"
    },
    "tags": []
   },
   "outputs": [],
   "source": [
    "def sample_by_year_size(df,\n",
    "                        training_year: str,\n",
    "                        training_size: str,\n",
    "                        random_state: int = 42):\n",
    "    # --- parse training_year into a list of int years ---\n",
    "    if \"_\" in training_year:\n",
    "        start_str, end_str = training_year.split(\"_\", 1)\n",
    "        start = int(start_str)\n",
    "        end   = int(end_str) if len(end_str) == 4 else (int(end_str) + (start // 100)*100)\n",
    "        years = list(range(start, end + 1))\n",
    "    else:\n",
    "        years = [int(training_year)]\n",
    "\n",
    "    df = df[df[\"year\"].isin(years)].reset_index(drop=True)\n",
    "\n",
    "    # --- map training_size to total number of samples ---\n",
    "    total_map = {\"25k\": 25_000, \"5k\": 5_000, \"1k\": 1_000}\n",
    "    if training_size not in total_map:\n",
    "        return df  # e.g. \"all\"\n",
    "\n",
    "    total_samples = total_map[training_size]\n",
    "    n_years       = len(years)\n",
    "    base          = total_samples // n_years\n",
    "    remainder     = total_samples % n_years\n",
    "\n",
    "    # --- build a dict: year -> how many to sample ---\n",
    "    # give +1 to the first `remainder` years in ascending order\n",
    "    quotas = {\n",
    "        year: base + (1 if idx < remainder else 0)\n",
    "        for idx, year in enumerate(sorted(years))\n",
    "    }\n",
    "\n",
    "    # --- sample per‐year according to the quota dict ---\n",
    "    sampled = (\n",
    "        df\n",
    "        .groupby(\"year\", group_keys=False)\n",
    "        .apply(lambda grp: grp.sample(\n",
    "            n=min(len(grp), quotas[grp.name]),\n",
    "            random_state=random_state))\n",
    "        .reset_index(drop=True)\n",
    "    )\n",
    "\n",
    "    return sampled"
   ]
  },
  {
   "cell_type": "code",
   "execution_count": 15,
   "id": "c0ccd338-0e02-41f3-a09d-f56f9266e3fb",
   "metadata": {
    "execution": {
     "iopub.execute_input": "2025-07-30T21:32:30.352349Z",
     "iopub.status.busy": "2025-07-30T21:32:30.351831Z",
     "iopub.status.idle": "2025-07-30T21:32:30.356851Z",
     "shell.execute_reply": "2025-07-30T21:32:30.355871Z"
    },
    "papermill": {
     "duration": 0.026087,
     "end_time": "2025-07-30T21:32:30.358478",
     "exception": false,
     "start_time": "2025-07-30T21:32:30.332391",
     "status": "completed"
    },
    "tags": []
   },
   "outputs": [],
   "source": [
    "#universe[\"training_size\"]"
   ]
  },
  {
   "cell_type": "code",
   "execution_count": 16,
   "id": "ca707fd7-8047-4acd-bfa5-66248fbbf8e6",
   "metadata": {
    "execution": {
     "iopub.execute_input": "2025-07-30T21:32:30.403638Z",
     "iopub.status.busy": "2025-07-30T21:32:30.402842Z",
     "iopub.status.idle": "2025-07-30T21:32:30.407819Z",
     "shell.execute_reply": "2025-07-30T21:32:30.406963Z"
    },
    "papermill": {
     "duration": 0.029032,
     "end_time": "2025-07-30T21:32:30.409475",
     "exception": false,
     "start_time": "2025-07-30T21:32:30.380443",
     "status": "completed"
    },
    "tags": []
   },
   "outputs": [],
   "source": [
    "#universe[\"training_year\"]"
   ]
  },
  {
   "cell_type": "code",
   "execution_count": 17,
   "id": "aea9c6ef-6f46-42c8-85eb-5a62025c1508",
   "metadata": {
    "execution": {
     "iopub.execute_input": "2025-07-30T21:32:30.457644Z",
     "iopub.status.busy": "2025-07-30T21:32:30.456879Z",
     "iopub.status.idle": "2025-07-30T21:32:30.631107Z",
     "shell.execute_reply": "2025-07-30T21:32:30.630153Z"
    },
    "papermill": {
     "duration": 0.202051,
     "end_time": "2025-07-30T21:32:30.633317",
     "exception": false,
     "start_time": "2025-07-30T21:32:30.431266",
     "status": "completed"
    },
    "tags": []
   },
   "outputs": [],
   "source": [
    "siab_train = sample_by_year_size(siab,\n",
    "                               training_year=universe[\"training_year\"],\n",
    "                               training_size=universe[\"training_size\"])"
   ]
  },
  {
   "cell_type": "code",
   "execution_count": 18,
   "id": "8d3afb32-789d-442c-8d5d-9f5aa8dd2eed",
   "metadata": {
    "execution": {
     "iopub.execute_input": "2025-07-30T21:32:30.662081Z",
     "iopub.status.busy": "2025-07-30T21:32:30.661728Z",
     "iopub.status.idle": "2025-07-30T21:32:30.665971Z",
     "shell.execute_reply": "2025-07-30T21:32:30.665316Z"
    },
    "papermill": {
     "duration": 0.017578,
     "end_time": "2025-07-30T21:32:30.667217",
     "exception": false,
     "start_time": "2025-07-30T21:32:30.649639",
     "status": "completed"
    },
    "tags": []
   },
   "outputs": [],
   "source": [
    "#siab_train.shape"
   ]
  },
  {
   "cell_type": "code",
   "execution_count": 19,
   "id": "d582db68-1a4c-47fb-84fc-08518dc1975a",
   "metadata": {
    "execution": {
     "iopub.execute_input": "2025-07-30T21:32:30.694468Z",
     "iopub.status.busy": "2025-07-30T21:32:30.693552Z",
     "iopub.status.idle": "2025-07-30T21:32:30.698971Z",
     "shell.execute_reply": "2025-07-30T21:32:30.698072Z"
    },
    "papermill": {
     "duration": 0.021674,
     "end_time": "2025-07-30T21:32:30.700617",
     "exception": false,
     "start_time": "2025-07-30T21:32:30.678943",
     "status": "completed"
    },
    "tags": []
   },
   "outputs": [],
   "source": [
    "#display(siab_train.groupby(\"year\").size())"
   ]
  },
  {
   "cell_type": "code",
   "execution_count": 20,
   "id": "a561edb4-d032-42cb-8256-22eac1111c64",
   "metadata": {
    "execution": {
     "iopub.execute_input": "2025-07-30T21:32:30.748928Z",
     "iopub.status.busy": "2025-07-30T21:32:30.748567Z",
     "iopub.status.idle": "2025-07-30T21:32:30.943212Z",
     "shell.execute_reply": "2025-07-30T21:32:30.942472Z"
    },
    "papermill": {
     "duration": 0.22233,
     "end_time": "2025-07-30T21:32:30.944704",
     "exception": false,
     "start_time": "2025-07-30T21:32:30.722374",
     "status": "completed"
    },
    "tags": []
   },
   "outputs": [],
   "source": [
    "#siab_train = siab_s[siab_s.year < 2015]\n",
    "siab_calib = siab[siab.year == 2015]\n",
    "siab_test = siab[siab.year == 2016]"
   ]
  },
  {
   "cell_type": "code",
   "execution_count": 21,
   "id": "472de16f-c3db-4916-846b-1f0de9cf1746",
   "metadata": {
    "execution": {
     "iopub.execute_input": "2025-07-30T21:32:30.972071Z",
     "iopub.status.busy": "2025-07-30T21:32:30.971753Z",
     "iopub.status.idle": "2025-07-30T21:32:30.977328Z",
     "shell.execute_reply": "2025-07-30T21:32:30.976541Z"
    },
    "papermill": {
     "duration": 0.02263,
     "end_time": "2025-07-30T21:32:30.978517",
     "exception": false,
     "start_time": "2025-07-30T21:32:30.955887",
     "status": "completed"
    },
    "tags": []
   },
   "outputs": [],
   "source": [
    "X_train = siab_train.iloc[:,4:164]\n",
    "y_train = siab_train.iloc[:, [3]]"
   ]
  },
  {
   "cell_type": "code",
   "execution_count": 22,
   "id": "828c96af-f43a-4ed6-ba47-8ac73a47d56c",
   "metadata": {
    "execution": {
     "iopub.execute_input": "2025-07-30T21:32:31.001185Z",
     "iopub.status.busy": "2025-07-30T21:32:31.000820Z",
     "iopub.status.idle": "2025-07-30T21:32:31.048935Z",
     "shell.execute_reply": "2025-07-30T21:32:31.048192Z"
    },
    "papermill": {
     "duration": 0.060589,
     "end_time": "2025-07-30T21:32:31.050213",
     "exception": false,
     "start_time": "2025-07-30T21:32:30.989624",
     "status": "completed"
    },
    "tags": []
   },
   "outputs": [],
   "source": [
    "X_calib = siab_calib.iloc[:,4:164]\n",
    "y_calib = siab_calib.iloc[:, [3]]"
   ]
  },
  {
   "cell_type": "code",
   "execution_count": 23,
   "id": "c34be9c3-6bd6-476e-acd3-845840e303be",
   "metadata": {
    "execution": {
     "iopub.execute_input": "2025-07-30T21:32:31.077058Z",
     "iopub.status.busy": "2025-07-30T21:32:31.076743Z",
     "iopub.status.idle": "2025-07-30T21:32:31.125596Z",
     "shell.execute_reply": "2025-07-30T21:32:31.124406Z"
    },
    "papermill": {
     "duration": 0.065609,
     "end_time": "2025-07-30T21:32:31.127527",
     "exception": false,
     "start_time": "2025-07-30T21:32:31.061918",
     "status": "completed"
    },
    "tags": []
   },
   "outputs": [],
   "source": [
    "X_test = siab_test.iloc[:,4:164]\n",
    "y_true = siab_test.iloc[:, [3]]"
   ]
  },
  {
   "cell_type": "markdown",
   "id": "9901737e-04df-44f0-9100-f5ad144ed040",
   "metadata": {
    "papermill": {
     "duration": 0.011297,
     "end_time": "2025-07-30T21:32:31.150551",
     "exception": false,
     "start_time": "2025-07-30T21:32:31.139254",
     "status": "completed"
    },
    "tags": []
   },
   "source": [
    "# Splitting Data and Setting Training Data Size OLD VERSION"
   ]
  },
  {
   "cell_type": "code",
   "execution_count": 24,
   "id": "acbc8f7d-8fc8-4e86-8c59-5dcb0f58384b",
   "metadata": {
    "execution": {
     "iopub.execute_input": "2025-07-30T21:32:31.173995Z",
     "iopub.status.busy": "2025-07-30T21:32:31.173194Z",
     "iopub.status.idle": "2025-07-30T21:32:31.177767Z",
     "shell.execute_reply": "2025-07-30T21:32:31.177125Z"
    },
    "papermill": {
     "duration": 0.017352,
     "end_time": "2025-07-30T21:32:31.179020",
     "exception": false,
     "start_time": "2025-07-30T21:32:31.161668",
     "status": "completed"
    },
    "tags": []
   },
   "outputs": [],
   "source": [
    "#def sample_by_year(df, training_size, random_state=42):\n",
    "#    if training_size == \"2014\":\n",
    "#        return df[df[\"year\"] == 2014].reset_index(drop=True)\n",
    "#    \n",
    "#    size_map = {\n",
    "#        \"25k\": 5000,\n",
    "#        \"5k\": 1000,\n",
    "#        \"1k\": 200\n",
    "#    }\n",
    "#\n",
    "#    if training_size not in size_map:\n",
    "#        return df.reset_index(drop=True)  # use all data\n",
    "#\n",
    "#    n_per_year = size_map[training_size]\n",
    "#    grouped = df.groupby(\"year\")\n",
    "#    sampled = grouped.apply(lambda x: x.sample(n=min(n_per_year, len(x)), random_state=random_state))\n",
    "#    return sampled.reset_index(drop=True)"
   ]
  },
  {
   "cell_type": "code",
   "execution_count": 25,
   "id": "6d931f52-beaf-43ff-9e78-9d44a448d54e",
   "metadata": {
    "execution": {
     "iopub.execute_input": "2025-07-30T21:32:31.202181Z",
     "iopub.status.busy": "2025-07-30T21:32:31.201606Z",
     "iopub.status.idle": "2025-07-30T21:32:31.205745Z",
     "shell.execute_reply": "2025-07-30T21:32:31.204956Z"
    },
    "papermill": {
     "duration": 0.016848,
     "end_time": "2025-07-30T21:32:31.206940",
     "exception": false,
     "start_time": "2025-07-30T21:32:31.190092",
     "status": "completed"
    },
    "tags": []
   },
   "outputs": [],
   "source": [
    "#siab_s = sample_by_year(siab, universe[\"training_size\"])"
   ]
  },
  {
   "cell_type": "code",
   "execution_count": 26,
   "id": "5db0a40e-a4e2-4920-be85-b12ae061d70d",
   "metadata": {
    "execution": {
     "iopub.execute_input": "2025-07-30T21:32:31.246101Z",
     "iopub.status.busy": "2025-07-30T21:32:31.245747Z",
     "iopub.status.idle": "2025-07-30T21:32:31.250121Z",
     "shell.execute_reply": "2025-07-30T21:32:31.249254Z"
    },
    "papermill": {
     "duration": 0.028372,
     "end_time": "2025-07-30T21:32:31.251638",
     "exception": false,
     "start_time": "2025-07-30T21:32:31.223266",
     "status": "completed"
    },
    "tags": []
   },
   "outputs": [],
   "source": [
    "#display(siab_s.groupby(\"year\").size())"
   ]
  },
  {
   "cell_type": "code",
   "execution_count": 27,
   "id": "e6c733c5",
   "metadata": {
    "execution": {
     "iopub.execute_input": "2025-07-30T21:32:31.295113Z",
     "iopub.status.busy": "2025-07-30T21:32:31.294816Z",
     "iopub.status.idle": "2025-07-30T21:32:31.399198Z",
     "shell.execute_reply": "2025-07-30T21:32:31.398287Z"
    },
    "papermill": {
     "duration": 0.128381,
     "end_time": "2025-07-30T21:32:31.401262",
     "exception": false,
     "start_time": "2025-07-30T21:32:31.272881",
     "status": "completed"
    },
    "tags": []
   },
   "outputs": [],
   "source": [
    "# Auxiliary data needed downstream in the pipeline\n",
    "\n",
    "org_train = X_train.copy()\n",
    "org_test = X_test.copy()\n",
    "org_calib = X_calib.copy()"
   ]
  },
  {
   "cell_type": "code",
   "execution_count": 28,
   "id": "1466abac-c6da-4492-a62f-4240ae3783af",
   "metadata": {
    "execution": {
     "iopub.execute_input": "2025-07-30T21:32:31.445639Z",
     "iopub.status.busy": "2025-07-30T21:32:31.444885Z",
     "iopub.status.idle": "2025-07-30T21:32:31.450132Z",
     "shell.execute_reply": "2025-07-30T21:32:31.449375Z"
    },
    "papermill": {
     "duration": 0.027304,
     "end_time": "2025-07-30T21:32:31.451521",
     "exception": false,
     "start_time": "2025-07-30T21:32:31.424217",
     "status": "completed"
    },
    "tags": []
   },
   "outputs": [],
   "source": [
    "# put in other script?\n",
    "# Group sizes\n",
    "\n",
    "#def calculate_percentages(df, df_name):\n",
    "#    total_entries = len(df)\n",
    "#\n",
    "#    female_pct = (df['frau1'] == 1).mean() * 100\n",
    "#    non_german_pct = ((df['maxdeutsch1'] == 0) & (df['maxdeutsch.Missing.'] == 0)).mean() * 100\n",
    "#    non_german_male_pct = ((df['frau1'] == 0) & (df['maxdeutsch1'] == 0) & (df['maxdeutsch.Missing.'] == 0)).mean() * 100\n",
    "#    non_german_female_pct = ((df['frau1'] == 1) & (df['maxdeutsch1'] == 0) & (df['maxdeutsch.Missing.'] == 0)).mean() * 100\n",
    "#\n",
    "#    print(f\"--- {df_name} ---\")\n",
    "#    print(f\"Female: {female_pct:.2f}%\")\n",
    "#    print(f\"Non-German: {non_german_pct:.2f}%\")\n",
    "#    print(f\"Non-German Male: {non_german_male_pct:.2f}%\")\n",
    "#    print(f\"Non-German Female: {non_german_female_pct:.2f}%\\n\")\n",
    "#\n",
    "## Calculate for each DataFrame\n",
    "#calculate_percentages(siab_calib, \"siab_calib\")\n",
    "#calculate_percentages(siab_test, \"siab_test\")\n",
    "#calculate_percentages(siab_train, \"siab_train\")"
   ]
  },
  {
   "cell_type": "markdown",
   "id": "0a4a1b33",
   "metadata": {
    "papermill": {
     "duration": 0.01956,
     "end_time": "2025-07-30T21:32:31.491050",
     "exception": false,
     "start_time": "2025-07-30T21:32:31.471490",
     "status": "completed"
    },
    "tags": []
   },
   "source": [
    "# Preprocessing Data"
   ]
  },
  {
   "cell_type": "code",
   "execution_count": 29,
   "id": "ca879031",
   "metadata": {
    "execution": {
     "iopub.execute_input": "2025-07-30T21:32:31.531935Z",
     "iopub.status.busy": "2025-07-30T21:32:31.531350Z",
     "iopub.status.idle": "2025-07-30T21:32:31.536576Z",
     "shell.execute_reply": "2025-07-30T21:32:31.535729Z"
    },
    "papermill": {
     "duration": 0.027322,
     "end_time": "2025-07-30T21:32:31.538113",
     "exception": false,
     "start_time": "2025-07-30T21:32:31.510791",
     "status": "completed"
    },
    "tags": []
   },
   "outputs": [],
   "source": [
    "# EXCLUDE PROTECTED FEATURES\n",
    "# ----------------------\n",
    "# \"exclude_features\": \"none\", # \"nationality\", \"sex\", \"nationality-sex\"\n",
    "\n",
    "excluded_features = universe[\"exclude_features\"].split(\"-\") # split, e.g.: \"nationality-sex\" -> [\"nationality\", \"sex\"]\n",
    "excluded_features_dictionary = {\n",
    "    \"nationality\": [\"maxdeutsch1\", \"maxdeutsch.Missing.\"],\n",
    "    \"sex\": [\"frau1\"],\n",
    "    \"age\": [\"age\"],\n",
    "}\n"
   ]
  },
  {
   "cell_type": "code",
   "execution_count": 30,
   "id": "b745ac60",
   "metadata": {
    "execution": {
     "iopub.execute_input": "2025-07-30T21:32:31.578565Z",
     "iopub.status.busy": "2025-07-30T21:32:31.578216Z",
     "iopub.status.idle": "2025-07-30T21:32:31.583197Z",
     "shell.execute_reply": "2025-07-30T21:32:31.582327Z"
    },
    "papermill": {
     "duration": 0.026937,
     "end_time": "2025-07-30T21:32:31.584690",
     "exception": false,
     "start_time": "2025-07-30T21:32:31.557753",
     "status": "completed"
    },
    "tags": []
   },
   "outputs": [],
   "source": [
    "# Code nice names to column names\n",
    "\n",
    "excluded_features_columns = [\n",
    "    excluded_features_dictionary[f] for f in excluded_features if len(f) > 0 and f != \"none\"\n",
    "]"
   ]
  },
  {
   "cell_type": "code",
   "execution_count": 31,
   "id": "f84f73a2",
   "metadata": {
    "execution": {
     "iopub.execute_input": "2025-07-30T21:32:31.627233Z",
     "iopub.status.busy": "2025-07-30T21:32:31.626593Z",
     "iopub.status.idle": "2025-07-30T21:32:31.632922Z",
     "shell.execute_reply": "2025-07-30T21:32:31.632105Z"
    },
    "papermill": {
     "duration": 0.029162,
     "end_time": "2025-07-30T21:32:31.634333",
     "exception": false,
     "start_time": "2025-07-30T21:32:31.605171",
     "status": "completed"
    },
    "tags": []
   },
   "outputs": [],
   "source": [
    "from utils import flatten_once\n",
    "\n",
    "excluded_features_columns = flatten_once(excluded_features_columns)"
   ]
  },
  {
   "cell_type": "code",
   "execution_count": 32,
   "id": "884dea22",
   "metadata": {
    "execution": {
     "iopub.execute_input": "2025-07-30T21:32:31.677501Z",
     "iopub.status.busy": "2025-07-30T21:32:31.676834Z",
     "iopub.status.idle": "2025-07-30T21:32:31.684844Z",
     "shell.execute_reply": "2025-07-30T21:32:31.683930Z"
    },
    "papermill": {
     "duration": 0.031233,
     "end_time": "2025-07-30T21:32:31.686322",
     "exception": false,
     "start_time": "2025-07-30T21:32:31.655089",
     "status": "completed"
    },
    "tags": []
   },
   "outputs": [
    {
     "name": "stdout",
     "output_type": "stream",
     "text": [
      "Dropping features: ['age']\n"
     ]
    }
   ],
   "source": [
    "if len(excluded_features_columns) > 0:\n",
    "    print(f\"Dropping features: {excluded_features_columns}\")\n",
    "    X_train.drop(excluded_features_columns, axis=1, inplace=True)"
   ]
  },
  {
   "cell_type": "code",
   "execution_count": 33,
   "id": "95ab8b16",
   "metadata": {
    "execution": {
     "iopub.execute_input": "2025-07-30T21:32:31.729696Z",
     "iopub.status.busy": "2025-07-30T21:32:31.729051Z",
     "iopub.status.idle": "2025-07-30T21:32:31.780015Z",
     "shell.execute_reply": "2025-07-30T21:32:31.778920Z"
    },
    "papermill": {
     "duration": 0.074956,
     "end_time": "2025-07-30T21:32:31.782329",
     "exception": false,
     "start_time": "2025-07-30T21:32:31.707373",
     "status": "completed"
    },
    "tags": []
   },
   "outputs": [
    {
     "name": "stdout",
     "output_type": "stream",
     "text": [
      "Dropping features: ['age']\n"
     ]
    }
   ],
   "source": [
    "if len(excluded_features_columns) > 0:\n",
    "    print(f\"Dropping features: {excluded_features_columns}\")\n",
    "    X_test.drop(excluded_features_columns, axis=1, inplace=True)"
   ]
  },
  {
   "cell_type": "code",
   "execution_count": 34,
   "id": "1853aaf5-fb9f-46cb-a2b5-8ea4ae2237e4",
   "metadata": {
    "execution": {
     "iopub.execute_input": "2025-07-30T21:32:31.826143Z",
     "iopub.status.busy": "2025-07-30T21:32:31.825503Z",
     "iopub.status.idle": "2025-07-30T21:32:31.874632Z",
     "shell.execute_reply": "2025-07-30T21:32:31.873652Z"
    },
    "papermill": {
     "duration": 0.073608,
     "end_time": "2025-07-30T21:32:31.877252",
     "exception": false,
     "start_time": "2025-07-30T21:32:31.803644",
     "status": "completed"
    },
    "tags": []
   },
   "outputs": [
    {
     "name": "stdout",
     "output_type": "stream",
     "text": [
      "Dropping features: ['age']\n"
     ]
    }
   ],
   "source": [
    "if len(excluded_features_columns) > 0:\n",
    "    print(f\"Dropping features: {excluded_features_columns}\")\n",
    "    X_calib.drop(excluded_features_columns, axis=1, inplace=True)"
   ]
  },
  {
   "cell_type": "code",
   "execution_count": 35,
   "id": "6727d079-03e5-481e-9d38-292a90b7a0a8",
   "metadata": {
    "execution": {
     "iopub.execute_input": "2025-07-30T21:32:31.962652Z",
     "iopub.status.busy": "2025-07-30T21:32:31.962008Z",
     "iopub.status.idle": "2025-07-30T21:32:31.966773Z",
     "shell.execute_reply": "2025-07-30T21:32:31.965893Z"
    },
    "papermill": {
     "duration": 0.069385,
     "end_time": "2025-07-30T21:32:31.968204",
     "exception": false,
     "start_time": "2025-07-30T21:32:31.898819",
     "status": "completed"
    },
    "tags": []
   },
   "outputs": [],
   "source": [
    "# SPLIT & STRATIFY DATA\n",
    "# ----------------------"
   ]
  },
  {
   "cell_type": "code",
   "execution_count": 36,
   "id": "76c4dc6d",
   "metadata": {
    "execution": {
     "iopub.execute_input": "2025-07-30T21:32:32.012427Z",
     "iopub.status.busy": "2025-07-30T21:32:32.011775Z",
     "iopub.status.idle": "2025-07-30T21:32:32.017070Z",
     "shell.execute_reply": "2025-07-30T21:32:32.016110Z"
    },
    "papermill": {
     "duration": 0.028971,
     "end_time": "2025-07-30T21:32:32.018667",
     "exception": false,
     "start_time": "2025-07-30T21:32:31.989696",
     "status": "completed"
    },
    "tags": []
   },
   "outputs": [],
   "source": [
    "# EXCLUDE CERTAIN SUBGROUPS\n",
    "# ----------------------\n",
    "\n",
    "mode = universe.get(\"exclude_subgroups\", \"keep-all\") \n",
    "# Fetches the exclude_subgroups setting from the universe dict.\n",
    "# Defaults to \"keep-all\" if the key is missing."
   ]
  },
  {
   "cell_type": "code",
   "execution_count": 37,
   "id": "21994072",
   "metadata": {
    "execution": {
     "iopub.execute_input": "2025-07-30T21:32:32.062947Z",
     "iopub.status.busy": "2025-07-30T21:32:32.062308Z",
     "iopub.status.idle": "2025-07-30T21:32:32.069241Z",
     "shell.execute_reply": "2025-07-30T21:32:32.068384Z"
    },
    "papermill": {
     "duration": 0.03063,
     "end_time": "2025-07-30T21:32:32.070890",
     "exception": false,
     "start_time": "2025-07-30T21:32:32.040260",
     "status": "completed"
    },
    "tags": []
   },
   "outputs": [],
   "source": [
    "if mode == \"keep-all\":\n",
    "    keep_mask = pd.Series(True, index=org_train.index)\n",
    "\n",
    "# org_train contains the original feature columns from features_org (in Simson)\n",
    "# features_org contains unprocessed features, for me X_train at beginning ???\n",
    "# For keep-all, creates a boolean Series (keep_mask) of all True, so no rows are removed.\n",
    "\n",
    "elif mode == \"drop-non-german\":\n",
    "    keep_mask = org_train[\"maxdeutsch1\"] == 1 # ??? what about missing values?\n",
    "\n",
    "else:\n",
    "    raise ValueError(f\"Unsupported mode for exclude_subgroups: {mode}\")\n"
   ]
  },
  {
   "cell_type": "code",
   "execution_count": 38,
   "id": "71651440",
   "metadata": {
    "execution": {
     "iopub.execute_input": "2025-07-30T21:32:32.115021Z",
     "iopub.status.busy": "2025-07-30T21:32:32.114572Z",
     "iopub.status.idle": "2025-07-30T21:32:32.120762Z",
     "shell.execute_reply": "2025-07-30T21:32:32.119953Z"
    },
    "papermill": {
     "duration": 0.029788,
     "end_time": "2025-07-30T21:32:32.122293",
     "exception": false,
     "start_time": "2025-07-30T21:32:32.092505",
     "status": "completed"
    },
    "tags": []
   },
   "outputs": [],
   "source": [
    "n_drop = (~keep_mask).sum() # Calculates how many rows are set to be dropped\n",
    "if n_drop > 0:\n",
    "    pct = n_drop / len(keep_mask) * 100\n",
    "    print(f\"Dropping {n_drop} rows ({pct:.2f}%) where mode='{mode}'\")"
   ]
  },
  {
   "cell_type": "code",
   "execution_count": 39,
   "id": "5fb8eee5",
   "metadata": {
    "execution": {
     "iopub.execute_input": "2025-07-30T21:32:32.167229Z",
     "iopub.status.busy": "2025-07-30T21:32:32.166591Z",
     "iopub.status.idle": "2025-07-30T21:32:32.172595Z",
     "shell.execute_reply": "2025-07-30T21:32:32.171753Z"
    },
    "papermill": {
     "duration": 0.03003,
     "end_time": "2025-07-30T21:32:32.174231",
     "exception": false,
     "start_time": "2025-07-30T21:32:32.144201",
     "status": "completed"
    },
    "tags": []
   },
   "outputs": [],
   "source": [
    "X_train = X_train[keep_mask]"
   ]
  },
  {
   "cell_type": "code",
   "execution_count": 40,
   "id": "b202bb3a",
   "metadata": {
    "execution": {
     "iopub.execute_input": "2025-07-30T21:32:32.219319Z",
     "iopub.status.busy": "2025-07-30T21:32:32.218840Z",
     "iopub.status.idle": "2025-07-30T21:32:32.224825Z",
     "shell.execute_reply": "2025-07-30T21:32:32.223862Z"
    },
    "papermill": {
     "duration": 0.030091,
     "end_time": "2025-07-30T21:32:32.226289",
     "exception": false,
     "start_time": "2025-07-30T21:32:32.196198",
     "status": "completed"
    },
    "tags": []
   },
   "outputs": [],
   "source": [
    "y_train = y_train[keep_mask]"
   ]
  },
  {
   "cell_type": "markdown",
   "id": "493e2ac3",
   "metadata": {
    "papermill": {
     "duration": 0.020916,
     "end_time": "2025-07-30T21:32:32.268881",
     "exception": false,
     "start_time": "2025-07-30T21:32:32.247965",
     "status": "completed"
    },
    "tags": []
   },
   "source": [
    "# Model Training"
   ]
  },
  {
   "cell_type": "code",
   "execution_count": 41,
   "id": "679e1268",
   "metadata": {
    "execution": {
     "iopub.execute_input": "2025-07-30T21:32:32.313360Z",
     "iopub.status.busy": "2025-07-30T21:32:32.312904Z",
     "iopub.status.idle": "2025-07-30T21:32:32.412100Z",
     "shell.execute_reply": "2025-07-30T21:32:32.411256Z"
    },
    "papermill": {
     "duration": 0.123572,
     "end_time": "2025-07-30T21:32:32.413836",
     "exception": false,
     "start_time": "2025-07-30T21:32:32.290264",
     "status": "completed"
    },
    "tags": []
   },
   "outputs": [],
   "source": [
    "from sklearn.linear_model import LogisticRegression\n",
    "from sklearn.ensemble import GradientBoostingClassifier, RandomForestClassifier\n",
    "\n",
    "if (universe[\"model\"] == \"logreg\"):\n",
    "    model = LogisticRegression() #penalty=\"none\") #, solver=\"newton-cg\", max_iter=1) # include random_state=19 ?\n",
    "elif (universe[\"model\"] == \"penalized_logreg\"):\n",
    "    model = LogisticRegression(penalty=\"l2\", C=1.0) #, solver=\"newton-cg\", max_iter=1)\n",
    "elif (universe[\"model\"] == \"rf\"):\n",
    "    model = RandomForestClassifier(n_estimators=100, n_jobs=-1)\n",
    "elif (universe[\"model\"] == \"gbm\"):\n",
    "    model = GradientBoostingClassifier()\n",
    "elif (universe[\"model\"] == \"elasticnet\"):\n",
    "    model = LogisticRegression(penalty = 'elasticnet', solver = 'saga', l1_ratio = 0.5, max_iter=5000) # which solver to use?\n",
    "else:\n",
    "    raise \"Unsupported universe.model\""
   ]
  },
  {
   "cell_type": "code",
   "execution_count": 42,
   "id": "0cc8f744",
   "metadata": {
    "execution": {
     "iopub.execute_input": "2025-07-30T21:32:32.461377Z",
     "iopub.status.busy": "2025-07-30T21:32:32.460863Z",
     "iopub.status.idle": "2025-07-30T21:32:32.466935Z",
     "shell.execute_reply": "2025-07-30T21:32:32.466081Z"
    },
    "papermill": {
     "duration": 0.033048,
     "end_time": "2025-07-30T21:32:32.468560",
     "exception": false,
     "start_time": "2025-07-30T21:32:32.435512",
     "status": "completed"
    },
    "tags": []
   },
   "outputs": [],
   "source": [
    "import numpy as np\n",
    "from sklearn.pipeline import Pipeline\n",
    "from sklearn.preprocessing import StandardScaler\n",
    "\n",
    "model = Pipeline([\n",
    "    #(\"continuous_processor\", continuous_processor),\n",
    "    #(\"categorical_preprocessor\", categorical_preprocessor),\n",
    "    (\"scale\", StandardScaler() if universe[\"scale\"] == \"scale\" else None), \n",
    "    (\"model\", model),\n",
    "])"
   ]
  },
  {
   "cell_type": "code",
   "execution_count": 43,
   "id": "9442c04d",
   "metadata": {
    "execution": {
     "iopub.execute_input": "2025-07-30T21:32:32.517537Z",
     "iopub.status.busy": "2025-07-30T21:32:32.517159Z",
     "iopub.status.idle": "2025-07-30T21:32:51.093614Z",
     "shell.execute_reply": "2025-07-30T21:32:51.092824Z"
    },
    "papermill": {
     "duration": 18.604606,
     "end_time": "2025-07-30T21:32:51.094991",
     "exception": false,
     "start_time": "2025-07-30T21:32:32.490385",
     "status": "completed"
    },
    "tags": []
   },
   "outputs": [
    {
     "name": "stderr",
     "output_type": "stream",
     "text": [
      "/dss/dsshome1/0C/ra93lal2/.local/share/virtualenvs/CMA_Fairness_v2-3j10GkSs/lib/python3.10/site-packages/sklearn/linear_model/_sag.py:350: ConvergenceWarning: The max_iter was reached which means the coef_ did not converge\n",
      "  warnings.warn(\n"
     ]
    },
    {
     "data": {
      "text/html": [
       "<style>#sk-container-id-1 {color: black;background-color: white;}#sk-container-id-1 pre{padding: 0;}#sk-container-id-1 div.sk-toggleable {background-color: white;}#sk-container-id-1 label.sk-toggleable__label {cursor: pointer;display: block;width: 100%;margin-bottom: 0;padding: 0.3em;box-sizing: border-box;text-align: center;}#sk-container-id-1 label.sk-toggleable__label-arrow:before {content: \"▸\";float: left;margin-right: 0.25em;color: #696969;}#sk-container-id-1 label.sk-toggleable__label-arrow:hover:before {color: black;}#sk-container-id-1 div.sk-estimator:hover label.sk-toggleable__label-arrow:before {color: black;}#sk-container-id-1 div.sk-toggleable__content {max-height: 0;max-width: 0;overflow: hidden;text-align: left;background-color: #f0f8ff;}#sk-container-id-1 div.sk-toggleable__content pre {margin: 0.2em;color: black;border-radius: 0.25em;background-color: #f0f8ff;}#sk-container-id-1 input.sk-toggleable__control:checked~div.sk-toggleable__content {max-height: 200px;max-width: 100%;overflow: auto;}#sk-container-id-1 input.sk-toggleable__control:checked~label.sk-toggleable__label-arrow:before {content: \"▾\";}#sk-container-id-1 div.sk-estimator input.sk-toggleable__control:checked~label.sk-toggleable__label {background-color: #d4ebff;}#sk-container-id-1 div.sk-label input.sk-toggleable__control:checked~label.sk-toggleable__label {background-color: #d4ebff;}#sk-container-id-1 input.sk-hidden--visually {border: 0;clip: rect(1px 1px 1px 1px);clip: rect(1px, 1px, 1px, 1px);height: 1px;margin: -1px;overflow: hidden;padding: 0;position: absolute;width: 1px;}#sk-container-id-1 div.sk-estimator {font-family: monospace;background-color: #f0f8ff;border: 1px dotted black;border-radius: 0.25em;box-sizing: border-box;margin-bottom: 0.5em;}#sk-container-id-1 div.sk-estimator:hover {background-color: #d4ebff;}#sk-container-id-1 div.sk-parallel-item::after {content: \"\";width: 100%;border-bottom: 1px solid gray;flex-grow: 1;}#sk-container-id-1 div.sk-label:hover label.sk-toggleable__label {background-color: #d4ebff;}#sk-container-id-1 div.sk-serial::before {content: \"\";position: absolute;border-left: 1px solid gray;box-sizing: border-box;top: 0;bottom: 0;left: 50%;z-index: 0;}#sk-container-id-1 div.sk-serial {display: flex;flex-direction: column;align-items: center;background-color: white;padding-right: 0.2em;padding-left: 0.2em;position: relative;}#sk-container-id-1 div.sk-item {position: relative;z-index: 1;}#sk-container-id-1 div.sk-parallel {display: flex;align-items: stretch;justify-content: center;background-color: white;position: relative;}#sk-container-id-1 div.sk-item::before, #sk-container-id-1 div.sk-parallel-item::before {content: \"\";position: absolute;border-left: 1px solid gray;box-sizing: border-box;top: 0;bottom: 0;left: 50%;z-index: -1;}#sk-container-id-1 div.sk-parallel-item {display: flex;flex-direction: column;z-index: 1;position: relative;background-color: white;}#sk-container-id-1 div.sk-parallel-item:first-child::after {align-self: flex-end;width: 50%;}#sk-container-id-1 div.sk-parallel-item:last-child::after {align-self: flex-start;width: 50%;}#sk-container-id-1 div.sk-parallel-item:only-child::after {width: 0;}#sk-container-id-1 div.sk-dashed-wrapped {border: 1px dashed gray;margin: 0 0.4em 0.5em 0.4em;box-sizing: border-box;padding-bottom: 0.4em;background-color: white;}#sk-container-id-1 div.sk-label label {font-family: monospace;font-weight: bold;display: inline-block;line-height: 1.2em;}#sk-container-id-1 div.sk-label-container {text-align: center;}#sk-container-id-1 div.sk-container {/* jupyter's `normalize.less` sets `[hidden] { display: none; }` but bootstrap.min.css set `[hidden] { display: none !important; }` so we also need the `!important` here to be able to override the default hidden behavior on the sphinx rendered scikit-learn.org. See: https://github.com/scikit-learn/scikit-learn/issues/21755 */display: inline-block !important;position: relative;}#sk-container-id-1 div.sk-text-repr-fallback {display: none;}</style><div id=\"sk-container-id-1\" class=\"sk-top-container\"><div class=\"sk-text-repr-fallback\"><pre>Pipeline(steps=[(&#x27;scale&#x27;, None),\n",
       "                (&#x27;model&#x27;,\n",
       "                 LogisticRegression(l1_ratio=0.5, max_iter=5000,\n",
       "                                    penalty=&#x27;elasticnet&#x27;, solver=&#x27;saga&#x27;))])</pre><b>In a Jupyter environment, please rerun this cell to show the HTML representation or trust the notebook. <br />On GitHub, the HTML representation is unable to render, please try loading this page with nbviewer.org.</b></div><div class=\"sk-container\" hidden><div class=\"sk-item sk-dashed-wrapped\"><div class=\"sk-label-container\"><div class=\"sk-label sk-toggleable\"><input class=\"sk-toggleable__control sk-hidden--visually\" id=\"sk-estimator-id-1\" type=\"checkbox\" ><label for=\"sk-estimator-id-1\" class=\"sk-toggleable__label sk-toggleable__label-arrow\">Pipeline</label><div class=\"sk-toggleable__content\"><pre>Pipeline(steps=[(&#x27;scale&#x27;, None),\n",
       "                (&#x27;model&#x27;,\n",
       "                 LogisticRegression(l1_ratio=0.5, max_iter=5000,\n",
       "                                    penalty=&#x27;elasticnet&#x27;, solver=&#x27;saga&#x27;))])</pre></div></div></div><div class=\"sk-serial\"><div class=\"sk-item\"><div class=\"sk-estimator sk-toggleable\"><input class=\"sk-toggleable__control sk-hidden--visually\" id=\"sk-estimator-id-2\" type=\"checkbox\" ><label for=\"sk-estimator-id-2\" class=\"sk-toggleable__label sk-toggleable__label-arrow\">None</label><div class=\"sk-toggleable__content\"><pre>None</pre></div></div></div><div class=\"sk-item\"><div class=\"sk-estimator sk-toggleable\"><input class=\"sk-toggleable__control sk-hidden--visually\" id=\"sk-estimator-id-3\" type=\"checkbox\" ><label for=\"sk-estimator-id-3\" class=\"sk-toggleable__label sk-toggleable__label-arrow\">LogisticRegression</label><div class=\"sk-toggleable__content\"><pre>LogisticRegression(l1_ratio=0.5, max_iter=5000, penalty=&#x27;elasticnet&#x27;,\n",
       "                   solver=&#x27;saga&#x27;)</pre></div></div></div></div></div></div></div>"
      ],
      "text/plain": [
       "Pipeline(steps=[('scale', None),\n",
       "                ('model',\n",
       "                 LogisticRegression(l1_ratio=0.5, max_iter=5000,\n",
       "                                    penalty='elasticnet', solver='saga'))])"
      ]
     },
     "execution_count": 43,
     "metadata": {},
     "output_type": "execute_result"
    }
   ],
   "source": [
    "model.fit(X_train, y_train.values.ravel())"
   ]
  },
  {
   "cell_type": "code",
   "execution_count": 44,
   "id": "af59f8c0",
   "metadata": {
    "execution": {
     "iopub.execute_input": "2025-07-30T21:32:51.127137Z",
     "iopub.status.busy": "2025-07-30T21:32:51.126545Z",
     "iopub.status.idle": "2025-07-30T21:32:51.131965Z",
     "shell.execute_reply": "2025-07-30T21:32:51.130897Z"
    },
    "papermill": {
     "duration": 0.02252,
     "end_time": "2025-07-30T21:32:51.133631",
     "exception": false,
     "start_time": "2025-07-30T21:32:51.111111",
     "status": "completed"
    },
    "tags": []
   },
   "outputs": [],
   "source": [
    "from fairness_multiverse.universe import predict_w_threshold"
   ]
  },
  {
   "cell_type": "code",
   "execution_count": 45,
   "id": "a7cf2e16",
   "metadata": {
    "execution": {
     "iopub.execute_input": "2025-07-30T21:32:51.161763Z",
     "iopub.status.busy": "2025-07-30T21:32:51.161240Z",
     "iopub.status.idle": "2025-07-30T21:32:51.263269Z",
     "shell.execute_reply": "2025-07-30T21:32:51.261908Z"
    },
    "papermill": {
     "duration": 0.117475,
     "end_time": "2025-07-30T21:32:51.265103",
     "exception": false,
     "start_time": "2025-07-30T21:32:51.147628",
     "status": "completed"
    },
    "tags": []
   },
   "outputs": [
    {
     "data": {
      "text/plain": [
       "0.8423029762568276"
      ]
     },
     "execution_count": 45,
     "metadata": {},
     "output_type": "execute_result"
    }
   ],
   "source": [
    "probs_test = model.predict_proba(X_test)\n",
    "\n",
    "'''\n",
    "Below code returns a boolean array (or binary 0/1 array depending on how it’s used) where each element \n",
    "is True if the probability of class 1 is greater than or equal to the threshold, and False otherwise.\n",
    "'''\n",
    "y_pred_default = predict_w_threshold(probs_test, 0.5)\n",
    "\n",
    "from sklearn.metrics import accuracy_score\n",
    "\n",
    "# Naive prediction\n",
    "accuracy_score(y_true = y_true, y_pred = y_pred_default)"
   ]
  },
  {
   "cell_type": "code",
   "execution_count": 46,
   "id": "081964c3",
   "metadata": {
    "execution": {
     "iopub.execute_input": "2025-07-30T21:32:51.319027Z",
     "iopub.status.busy": "2025-07-30T21:32:51.318463Z",
     "iopub.status.idle": "2025-07-30T21:32:51.407077Z",
     "shell.execute_reply": "2025-07-30T21:32:51.405974Z"
    },
    "papermill": {
     "duration": 0.117352,
     "end_time": "2025-07-30T21:32:51.408885",
     "exception": false,
     "start_time": "2025-07-30T21:32:51.291533",
     "status": "completed"
    },
    "tags": []
   },
   "outputs": [
    {
     "data": {
      "text/plain": [
       "array([0, 0, 0, ..., 0, 0, 0])"
      ]
     },
     "execution_count": 46,
     "metadata": {},
     "output_type": "execute_result"
    }
   ],
   "source": [
    "model.predict(X_test)"
   ]
  },
  {
   "cell_type": "markdown",
   "id": "56c9705b",
   "metadata": {
    "papermill": {
     "duration": 0.023211,
     "end_time": "2025-07-30T21:32:51.457423",
     "exception": false,
     "start_time": "2025-07-30T21:32:51.434212",
     "status": "completed"
    },
    "tags": []
   },
   "source": [
    "# Conformal Prediction"
   ]
  },
  {
   "cell_type": "code",
   "execution_count": 47,
   "id": "160ec6ff",
   "metadata": {
    "execution": {
     "iopub.execute_input": "2025-07-30T21:32:51.513868Z",
     "iopub.status.busy": "2025-07-30T21:32:51.513165Z",
     "iopub.status.idle": "2025-07-30T21:32:51.518993Z",
     "shell.execute_reply": "2025-07-30T21:32:51.517776Z"
    },
    "papermill": {
     "duration": 0.036066,
     "end_time": "2025-07-30T21:32:51.521267",
     "exception": false,
     "start_time": "2025-07-30T21:32:51.485201",
     "status": "completed"
    },
    "tags": []
   },
   "outputs": [],
   "source": [
    "# Miscoverage level for conformal prediction (10% allowed error rate => 90% target coverage)\n",
    "alpha = 0.1"
   ]
  },
  {
   "cell_type": "code",
   "execution_count": 48,
   "id": "eadf4555-3dd3-440e-8e35-f82a4ad9f855",
   "metadata": {
    "execution": {
     "iopub.execute_input": "2025-07-30T21:32:51.576177Z",
     "iopub.status.busy": "2025-07-30T21:32:51.575581Z",
     "iopub.status.idle": "2025-07-30T21:32:51.668269Z",
     "shell.execute_reply": "2025-07-30T21:32:51.667262Z"
    },
    "papermill": {
     "duration": 0.12252,
     "end_time": "2025-07-30T21:32:51.670148",
     "exception": false,
     "start_time": "2025-07-30T21:32:51.547628",
     "status": "completed"
    },
    "tags": []
   },
   "outputs": [],
   "source": [
    "probs_calib = model.predict_proba(X_calib)"
   ]
  },
  {
   "cell_type": "code",
   "execution_count": 49,
   "id": "2ed93547-6d5d-4983-9b36-1ecb300da49a",
   "metadata": {
    "execution": {
     "iopub.execute_input": "2025-07-30T21:32:51.720706Z",
     "iopub.status.busy": "2025-07-30T21:32:51.719799Z",
     "iopub.status.idle": "2025-07-30T21:32:51.725409Z",
     "shell.execute_reply": "2025-07-30T21:32:51.724446Z"
    },
    "papermill": {
     "duration": 0.033056,
     "end_time": "2025-07-30T21:32:51.727175",
     "exception": false,
     "start_time": "2025-07-30T21:32:51.694119",
     "status": "completed"
    },
    "tags": []
   },
   "outputs": [],
   "source": [
    "y_calib = y_calib.values.ravel().astype(int)"
   ]
  },
  {
   "cell_type": "code",
   "execution_count": 50,
   "id": "65d1320d-f588-4b38-9072-62af1ae97f7d",
   "metadata": {
    "execution": {
     "iopub.execute_input": "2025-07-30T21:32:51.755949Z",
     "iopub.status.busy": "2025-07-30T21:32:51.755622Z",
     "iopub.status.idle": "2025-07-30T21:32:51.761795Z",
     "shell.execute_reply": "2025-07-30T21:32:51.760748Z"
    },
    "papermill": {
     "duration": 0.021732,
     "end_time": "2025-07-30T21:32:51.763602",
     "exception": false,
     "start_time": "2025-07-30T21:32:51.741870",
     "status": "completed"
    },
    "tags": []
   },
   "outputs": [],
   "source": [
    "from fairness_multiverse.conformal import compute_nc_scores\n",
    "\n",
    "# Compute nonconformity scores on calibration set (1 - probability of true class)\n",
    "nc_scores = compute_nc_scores(probs_calib, y_calib)"
   ]
  },
  {
   "cell_type": "code",
   "execution_count": 51,
   "id": "df3b8ca3-53b7-43d5-9667-7c85da7aeda2",
   "metadata": {
    "execution": {
     "iopub.execute_input": "2025-07-30T21:32:51.818298Z",
     "iopub.status.busy": "2025-07-30T21:32:51.817627Z",
     "iopub.status.idle": "2025-07-30T21:32:51.824235Z",
     "shell.execute_reply": "2025-07-30T21:32:51.823160Z"
    },
    "papermill": {
     "duration": 0.035925,
     "end_time": "2025-07-30T21:32:51.826378",
     "exception": false,
     "start_time": "2025-07-30T21:32:51.790453",
     "status": "completed"
    },
    "tags": []
   },
   "outputs": [],
   "source": [
    "from fairness_multiverse.conformal import find_threshold\n",
    "\n",
    "# Find conformal threshold q_hat for the given alpha (split conformal method)\n",
    "q_hat = find_threshold(nc_scores, alpha)"
   ]
  },
  {
   "cell_type": "code",
   "execution_count": 52,
   "id": "4d29e6c1-0ef6-4aa4-b8fe-4fe79b0d033a",
   "metadata": {
    "execution": {
     "iopub.execute_input": "2025-07-30T21:32:51.882300Z",
     "iopub.status.busy": "2025-07-30T21:32:51.881864Z",
     "iopub.status.idle": "2025-07-30T21:32:51.889734Z",
     "shell.execute_reply": "2025-07-30T21:32:51.888280Z"
    },
    "papermill": {
     "duration": 0.037379,
     "end_time": "2025-07-30T21:32:51.891610",
     "exception": false,
     "start_time": "2025-07-30T21:32:51.854231",
     "status": "completed"
    },
    "tags": []
   },
   "outputs": [
    {
     "data": {
      "text/plain": [
       "0.6651244090462421"
      ]
     },
     "execution_count": 52,
     "metadata": {},
     "output_type": "execute_result"
    }
   ],
   "source": [
    "q_hat"
   ]
  },
  {
   "cell_type": "code",
   "execution_count": 53,
   "id": "92460794-cdac-4be2-ba28-f28c0515a6fb",
   "metadata": {
    "execution": {
     "iopub.execute_input": "2025-07-30T21:32:51.947904Z",
     "iopub.status.busy": "2025-07-30T21:32:51.947454Z",
     "iopub.status.idle": "2025-07-30T21:32:52.913481Z",
     "shell.execute_reply": "2025-07-30T21:32:52.912464Z"
    },
    "papermill": {
     "duration": 0.995738,
     "end_time": "2025-07-30T21:32:52.915474",
     "exception": false,
     "start_time": "2025-07-30T21:32:51.919736",
     "status": "completed"
    },
    "tags": []
   },
   "outputs": [],
   "source": [
    "from fairness_multiverse.conformal import predict_conformal_sets\n",
    "\n",
    "# Generate prediction sets for each test example\n",
    "pred_sets = predict_conformal_sets(model, X_test, q_hat)"
   ]
  },
  {
   "cell_type": "code",
   "execution_count": 54,
   "id": "d90c9a65-e6db-4f5d-80cd-e68fb7e46829",
   "metadata": {
    "execution": {
     "iopub.execute_input": "2025-07-30T21:32:52.969257Z",
     "iopub.status.busy": "2025-07-30T21:32:52.968765Z",
     "iopub.status.idle": "2025-07-30T21:32:52.974510Z",
     "shell.execute_reply": "2025-07-30T21:32:52.973519Z"
    },
    "papermill": {
     "duration": 0.033929,
     "end_time": "2025-07-30T21:32:52.976600",
     "exception": false,
     "start_time": "2025-07-30T21:32:52.942671",
     "status": "completed"
    },
    "tags": []
   },
   "outputs": [],
   "source": [
    "y_true = y_true.squeeze()"
   ]
  },
  {
   "cell_type": "code",
   "execution_count": 55,
   "id": "3a58a54a-1e68-46b9-927a-df01f18aebc8",
   "metadata": {
    "execution": {
     "iopub.execute_input": "2025-07-30T21:32:53.029719Z",
     "iopub.status.busy": "2025-07-30T21:32:53.029186Z",
     "iopub.status.idle": "2025-07-30T21:32:53.766851Z",
     "shell.execute_reply": "2025-07-30T21:32:53.765832Z"
    },
    "papermill": {
     "duration": 0.766269,
     "end_time": "2025-07-30T21:32:53.768895",
     "exception": false,
     "start_time": "2025-07-30T21:32:53.002626",
     "status": "completed"
    },
    "tags": []
   },
   "outputs": [],
   "source": [
    "from fairness_multiverse.conformal import evaluate_sets\n",
    "\n",
    "# Evaluate coverage and average set size on test data\n",
    "metrics = evaluate_sets(pred_sets, y_true)"
   ]
  },
  {
   "cell_type": "markdown",
   "id": "2b569c12-9aaa-4c88-98c9-bbcd0cf3ebb8",
   "metadata": {
    "papermill": {
     "duration": 0.024362,
     "end_time": "2025-07-30T21:32:53.818185",
     "exception": false,
     "start_time": "2025-07-30T21:32:53.793823",
     "status": "completed"
    },
    "tags": []
   },
   "source": [
    "# CP Metrics"
   ]
  },
  {
   "cell_type": "code",
   "execution_count": 56,
   "id": "5ce0a5cb-201f-45a0-ade5-94c7f0bd6095",
   "metadata": {
    "execution": {
     "iopub.execute_input": "2025-07-30T21:32:53.870934Z",
     "iopub.status.busy": "2025-07-30T21:32:53.870427Z",
     "iopub.status.idle": "2025-07-30T21:32:53.877680Z",
     "shell.execute_reply": "2025-07-30T21:32:53.876703Z"
    },
    "papermill": {
     "duration": 0.036116,
     "end_time": "2025-07-30T21:32:53.879572",
     "exception": false,
     "start_time": "2025-07-30T21:32:53.843456",
     "status": "completed"
    },
    "tags": []
   },
   "outputs": [
    {
     "data": {
      "text/plain": [
       "{'coverage': 0.9114257050496043, 'avg_size': 1.2682198194181251}"
      ]
     },
     "execution_count": 56,
     "metadata": {},
     "output_type": "execute_result"
    }
   ],
   "source": [
    "metrics"
   ]
  },
  {
   "cell_type": "code",
   "execution_count": 57,
   "id": "9b9a838d-31c9-430b-ae14-12baee460d17",
   "metadata": {
    "execution": {
     "iopub.execute_input": "2025-07-30T21:32:53.927811Z",
     "iopub.status.busy": "2025-07-30T21:32:53.927368Z",
     "iopub.status.idle": "2025-07-30T21:32:53.932607Z",
     "shell.execute_reply": "2025-07-30T21:32:53.931867Z"
    },
    "papermill": {
     "duration": 0.026942,
     "end_time": "2025-07-30T21:32:53.934068",
     "exception": false,
     "start_time": "2025-07-30T21:32:53.907126",
     "status": "completed"
    },
    "tags": []
   },
   "outputs": [],
   "source": [
    "example_universe = universe.copy()\n",
    "universe_training_year = example_universe.get(\"training_year\")\n",
    "universe_training_size = example_universe.get(\"training_size\")\n",
    "universe_scale = example_universe.get(\"scale\")\n",
    "universe_model = example_universe.get(\"model\")\n",
    "universe_exclude_features = example_universe.get(\"exclude_features\")\n",
    "universe_exclude_subgroups = example_universe.get(\"exclude_subgroups\")"
   ]
  },
  {
   "cell_type": "code",
   "execution_count": 58,
   "id": "f4b6a8ac-9dc0-4245-8a91-5b3b5999c4f9",
   "metadata": {
    "execution": {
     "iopub.execute_input": "2025-07-30T21:32:53.964242Z",
     "iopub.status.busy": "2025-07-30T21:32:53.963836Z",
     "iopub.status.idle": "2025-07-30T21:32:53.969166Z",
     "shell.execute_reply": "2025-07-30T21:32:53.968476Z"
    },
    "papermill": {
     "duration": 0.02122,
     "end_time": "2025-07-30T21:32:53.970556",
     "exception": false,
     "start_time": "2025-07-30T21:32:53.949336",
     "status": "completed"
    },
    "tags": []
   },
   "outputs": [],
   "source": [
    "cp_metrics_dict = {\n",
    "    \"universe_id\": [universe_id],\n",
    "    \"universe_training_year\": [universe_training_year],\n",
    "    \"universe_training_size\": [universe_training_size],\n",
    "    \"universe_scale\": [universe_scale],\n",
    "    \"universe_model\": [universe_model],\n",
    "    \"universe_exclude_features\": [universe_exclude_features],\n",
    "    \"universe_exclude_subgroups\": [universe_exclude_subgroups],\n",
    "    \"q_hat\": [q_hat],\n",
    "    \"coverage\": [metrics[\"coverage\"]],\n",
    "    \"avg_size\": [metrics[\"avg_size\"]],\n",
    "}"
   ]
  },
  {
   "cell_type": "code",
   "execution_count": 59,
   "id": "908acbb1-0371-4915-85ca-3fa520d2efe2",
   "metadata": {
    "execution": {
     "iopub.execute_input": "2025-07-30T21:32:54.004055Z",
     "iopub.status.busy": "2025-07-30T21:32:54.003690Z",
     "iopub.status.idle": "2025-07-30T21:32:54.010176Z",
     "shell.execute_reply": "2025-07-30T21:32:54.009066Z"
    },
    "papermill": {
     "duration": 0.021826,
     "end_time": "2025-07-30T21:32:54.011856",
     "exception": false,
     "start_time": "2025-07-30T21:32:53.990030",
     "status": "completed"
    },
    "tags": []
   },
   "outputs": [
    {
     "data": {
      "text/plain": [
       "{'universe_id': ['b3024549e48c94277f35a7f3f5508409'],\n",
       " 'universe_training_year': ['2014'],\n",
       " 'universe_training_size': ['1k'],\n",
       " 'universe_scale': ['do-not-scale'],\n",
       " 'universe_model': ['elasticnet'],\n",
       " 'universe_exclude_features': ['age'],\n",
       " 'universe_exclude_subgroups': ['keep-all'],\n",
       " 'q_hat': [0.6651244090462421],\n",
       " 'coverage': [0.9114257050496043],\n",
       " 'avg_size': [1.2682198194181251]}"
      ]
     },
     "execution_count": 59,
     "metadata": {},
     "output_type": "execute_result"
    }
   ],
   "source": [
    "cp_metrics_dict"
   ]
  },
  {
   "cell_type": "code",
   "execution_count": 60,
   "id": "33007efc-14e9-4ec6-97ac-56a455c82265",
   "metadata": {
    "execution": {
     "iopub.execute_input": "2025-07-30T21:32:54.063879Z",
     "iopub.status.busy": "2025-07-30T21:32:54.063257Z",
     "iopub.status.idle": "2025-07-30T21:32:54.069769Z",
     "shell.execute_reply": "2025-07-30T21:32:54.068611Z"
    },
    "papermill": {
     "duration": 0.033827,
     "end_time": "2025-07-30T21:32:54.071782",
     "exception": false,
     "start_time": "2025-07-30T21:32:54.037955",
     "status": "completed"
    },
    "tags": []
   },
   "outputs": [],
   "source": [
    "cp_metrics_df = pd.DataFrame(cp_metrics_dict)"
   ]
  },
  {
   "cell_type": "code",
   "execution_count": 61,
   "id": "db12611b-57b2-4910-b9d0-355adfd6e7bf",
   "metadata": {
    "execution": {
     "iopub.execute_input": "2025-07-30T21:32:54.124623Z",
     "iopub.status.busy": "2025-07-30T21:32:54.123556Z",
     "iopub.status.idle": "2025-07-30T21:32:54.143663Z",
     "shell.execute_reply": "2025-07-30T21:32:54.142720Z"
    },
    "papermill": {
     "duration": 0.047561,
     "end_time": "2025-07-30T21:32:54.145490",
     "exception": false,
     "start_time": "2025-07-30T21:32:54.097929",
     "status": "completed"
    },
    "tags": []
   },
   "outputs": [
    {
     "data": {
      "text/html": [
       "<div>\n",
       "<style scoped>\n",
       "    .dataframe tbody tr th:only-of-type {\n",
       "        vertical-align: middle;\n",
       "    }\n",
       "\n",
       "    .dataframe tbody tr th {\n",
       "        vertical-align: top;\n",
       "    }\n",
       "\n",
       "    .dataframe thead th {\n",
       "        text-align: right;\n",
       "    }\n",
       "</style>\n",
       "<table border=\"1\" class=\"dataframe\">\n",
       "  <thead>\n",
       "    <tr style=\"text-align: right;\">\n",
       "      <th></th>\n",
       "      <th>universe_id</th>\n",
       "      <th>universe_training_year</th>\n",
       "      <th>universe_training_size</th>\n",
       "      <th>universe_scale</th>\n",
       "      <th>universe_model</th>\n",
       "      <th>universe_exclude_features</th>\n",
       "      <th>universe_exclude_subgroups</th>\n",
       "      <th>q_hat</th>\n",
       "      <th>coverage</th>\n",
       "      <th>avg_size</th>\n",
       "    </tr>\n",
       "  </thead>\n",
       "  <tbody>\n",
       "    <tr>\n",
       "      <th>0</th>\n",
       "      <td>b3024549e48c94277f35a7f3f5508409</td>\n",
       "      <td>2014</td>\n",
       "      <td>1k</td>\n",
       "      <td>do-not-scale</td>\n",
       "      <td>elasticnet</td>\n",
       "      <td>age</td>\n",
       "      <td>keep-all</td>\n",
       "      <td>0.665124</td>\n",
       "      <td>0.911426</td>\n",
       "      <td>1.26822</td>\n",
       "    </tr>\n",
       "  </tbody>\n",
       "</table>\n",
       "</div>"
      ],
      "text/plain": [
       "                        universe_id universe_training_year  \\\n",
       "0  b3024549e48c94277f35a7f3f5508409                   2014   \n",
       "\n",
       "  universe_training_size universe_scale universe_model  \\\n",
       "0                     1k   do-not-scale     elasticnet   \n",
       "\n",
       "  universe_exclude_features universe_exclude_subgroups     q_hat  coverage  \\\n",
       "0                       age                   keep-all  0.665124  0.911426   \n",
       "\n",
       "   avg_size  \n",
       "0   1.26822  "
      ]
     },
     "execution_count": 61,
     "metadata": {},
     "output_type": "execute_result"
    }
   ],
   "source": [
    "cp_metrics_df"
   ]
  },
  {
   "cell_type": "code",
   "execution_count": 62,
   "id": "b7fbde55-a0a1-47e4-9af6-fe4a17fa8c61",
   "metadata": {
    "execution": {
     "iopub.execute_input": "2025-07-30T21:32:54.205656Z",
     "iopub.status.busy": "2025-07-30T21:32:54.205015Z",
     "iopub.status.idle": "2025-07-30T21:32:54.210601Z",
     "shell.execute_reply": "2025-07-30T21:32:54.209502Z"
    },
    "papermill": {
     "duration": 0.041839,
     "end_time": "2025-07-30T21:32:54.212311",
     "exception": false,
     "start_time": "2025-07-30T21:32:54.170472",
     "status": "completed"
    },
    "tags": []
   },
   "outputs": [],
   "source": [
    "# Conditional Coverage & looking at subgroups"
   ]
  },
  {
   "cell_type": "code",
   "execution_count": 63,
   "id": "027ae886-68dd-4141-96c7-805a5450e1ef",
   "metadata": {
    "execution": {
     "iopub.execute_input": "2025-07-30T21:32:54.263998Z",
     "iopub.status.busy": "2025-07-30T21:32:54.263368Z",
     "iopub.status.idle": "2025-07-30T21:32:54.527627Z",
     "shell.execute_reply": "2025-07-30T21:32:54.526716Z"
    },
    "papermill": {
     "duration": 0.29252,
     "end_time": "2025-07-30T21:32:54.529654",
     "exception": false,
     "start_time": "2025-07-30T21:32:54.237134",
     "status": "completed"
    },
    "tags": []
   },
   "outputs": [],
   "source": [
    "from fairness_multiverse.conformal import build_cp_groups\n",
    "\n",
    "cp_groups_df = build_cp_groups(pred_sets, y_true, X_test.index, org_test)\n",
    "#needs universe_id and setting"
   ]
  },
  {
   "cell_type": "code",
   "execution_count": 64,
   "id": "01d5802c-663a-4d1f-9d69-e036faaffbf7",
   "metadata": {
    "execution": {
     "iopub.execute_input": "2025-07-30T21:32:54.580858Z",
     "iopub.status.busy": "2025-07-30T21:32:54.580106Z",
     "iopub.status.idle": "2025-07-30T21:32:54.585458Z",
     "shell.execute_reply": "2025-07-30T21:32:54.584456Z"
    },
    "papermill": {
     "duration": 0.031222,
     "end_time": "2025-07-30T21:32:54.586968",
     "exception": false,
     "start_time": "2025-07-30T21:32:54.555746",
     "status": "completed"
    },
    "tags": []
   },
   "outputs": [],
   "source": [
    "#delete\n",
    "#cp_groups_df"
   ]
  },
  {
   "cell_type": "code",
   "execution_count": 65,
   "id": "fa424af1-d1eb-443d-b717-2d279ada8408",
   "metadata": {
    "execution": {
     "iopub.execute_input": "2025-07-30T21:32:54.638128Z",
     "iopub.status.busy": "2025-07-30T21:32:54.637273Z",
     "iopub.status.idle": "2025-07-30T21:32:54.642384Z",
     "shell.execute_reply": "2025-07-30T21:32:54.641564Z"
    },
    "papermill": {
     "duration": 0.032107,
     "end_time": "2025-07-30T21:32:54.643853",
     "exception": false,
     "start_time": "2025-07-30T21:32:54.611746",
     "status": "completed"
    },
    "tags": []
   },
   "outputs": [],
   "source": [
    "#delete\n",
    "#percentage = (cp_groups_df['nongerman_female'] == 1).mean() * 100\n",
    "#print(percentage)\n"
   ]
  },
  {
   "cell_type": "code",
   "execution_count": 66,
   "id": "6cbdab96-b2b2-45af-ad54-d0516db2e28d",
   "metadata": {
    "execution": {
     "iopub.execute_input": "2025-07-30T21:32:54.697370Z",
     "iopub.status.busy": "2025-07-30T21:32:54.696310Z",
     "iopub.status.idle": "2025-07-30T21:32:56.441180Z",
     "shell.execute_reply": "2025-07-30T21:32:56.439906Z"
    },
    "papermill": {
     "duration": 1.77441,
     "end_time": "2025-07-30T21:32:56.443114",
     "exception": false,
     "start_time": "2025-07-30T21:32:54.668704",
     "status": "completed"
    },
    "tags": []
   },
   "outputs": [],
   "source": [
    "# Define covered = 1 if true_label is in the predicted set\n",
    "cp_groups_df['covered'] = cp_groups_df.apply(\n",
    "    lambda r: int(r['true_label'] in r['pred_set']),\n",
    "    axis=1\n",
    ")"
   ]
  },
  {
   "cell_type": "code",
   "execution_count": 67,
   "id": "338ff529-1a6b-4b87-a931-8e4788d52aad",
   "metadata": {
    "execution": {
     "iopub.execute_input": "2025-07-30T21:32:56.509989Z",
     "iopub.status.busy": "2025-07-30T21:32:56.508996Z",
     "iopub.status.idle": "2025-07-30T21:32:56.514650Z",
     "shell.execute_reply": "2025-07-30T21:32:56.513708Z"
    },
    "papermill": {
     "duration": 0.043154,
     "end_time": "2025-07-30T21:32:56.516260",
     "exception": false,
     "start_time": "2025-07-30T21:32:56.473106",
     "status": "completed"
    },
    "tags": []
   },
   "outputs": [],
   "source": [
    "#cp_groups_df"
   ]
  },
  {
   "cell_type": "code",
   "execution_count": 68,
   "id": "90032e27-66df-4540-9169-4e89cfbaa758",
   "metadata": {
    "execution": {
     "iopub.execute_input": "2025-07-30T21:32:56.576959Z",
     "iopub.status.busy": "2025-07-30T21:32:56.576081Z",
     "iopub.status.idle": "2025-07-30T21:32:56.588607Z",
     "shell.execute_reply": "2025-07-30T21:32:56.587591Z"
    },
    "papermill": {
     "duration": 0.044262,
     "end_time": "2025-07-30T21:32:56.590278",
     "exception": false,
     "start_time": "2025-07-30T21:32:56.546016",
     "status": "completed"
    },
    "tags": []
   },
   "outputs": [],
   "source": [
    "subgroups = ['frau1','nongerman','nongerman_male','nongerman_female']\n",
    "\n",
    "# Conditional coverage for subgroup==1\n",
    "cond_coverage = {\n",
    "    g: cp_groups_df.loc[cp_groups_df[g]==1, 'covered'].mean()\n",
    "    for g in subgroups\n",
    "}"
   ]
  },
  {
   "cell_type": "code",
   "execution_count": 69,
   "id": "1e348fb1-b9c3-45bc-ba23-f016827a7e0d",
   "metadata": {
    "execution": {
     "iopub.execute_input": "2025-07-30T21:32:56.650946Z",
     "iopub.status.busy": "2025-07-30T21:32:56.649893Z",
     "iopub.status.idle": "2025-07-30T21:32:56.658115Z",
     "shell.execute_reply": "2025-07-30T21:32:56.657106Z"
    },
    "papermill": {
     "duration": 0.041457,
     "end_time": "2025-07-30T21:32:56.659710",
     "exception": false,
     "start_time": "2025-07-30T21:32:56.618253",
     "status": "completed"
    },
    "tags": []
   },
   "outputs": [
    {
     "data": {
      "text/plain": [
       "{'frau1': 0.9099878689850384,\n",
       " 'nongerman': 0.9591309717621962,\n",
       " 'nongerman_male': 0.9665856074934702,\n",
       " 'nongerman_female': 0.9467958271236959}"
      ]
     },
     "execution_count": 69,
     "metadata": {},
     "output_type": "execute_result"
    }
   ],
   "source": [
    "cond_coverage"
   ]
  },
  {
   "cell_type": "code",
   "execution_count": 70,
   "id": "f5093324-c3dd-4d63-bc4c-8d945e5c8bbb",
   "metadata": {
    "execution": {
     "iopub.execute_input": "2025-07-30T21:32:56.722824Z",
     "iopub.status.busy": "2025-07-30T21:32:56.722067Z",
     "iopub.status.idle": "2025-07-30T21:32:56.730967Z",
     "shell.execute_reply": "2025-07-30T21:32:56.729856Z"
    },
    "papermill": {
     "duration": 0.042944,
     "end_time": "2025-07-30T21:32:56.733091",
     "exception": false,
     "start_time": "2025-07-30T21:32:56.690147",
     "status": "completed"
    },
    "tags": []
   },
   "outputs": [],
   "source": [
    "for subgroup, cov in cond_coverage.items():\n",
    "    cp_metrics_df[f\"cov_{subgroup}\"] = cov"
   ]
  },
  {
   "cell_type": "code",
   "execution_count": 71,
   "id": "6e872e10-dbe5-49e8-b554-5030c98ff75d",
   "metadata": {
    "execution": {
     "iopub.execute_input": "2025-07-30T21:32:56.795948Z",
     "iopub.status.busy": "2025-07-30T21:32:56.795372Z",
     "iopub.status.idle": "2025-07-30T21:32:56.818068Z",
     "shell.execute_reply": "2025-07-30T21:32:56.816791Z"
    },
    "papermill": {
     "duration": 0.056967,
     "end_time": "2025-07-30T21:32:56.819947",
     "exception": false,
     "start_time": "2025-07-30T21:32:56.762980",
     "status": "completed"
    },
    "tags": []
   },
   "outputs": [
    {
     "data": {
      "text/html": [
       "<div>\n",
       "<style scoped>\n",
       "    .dataframe tbody tr th:only-of-type {\n",
       "        vertical-align: middle;\n",
       "    }\n",
       "\n",
       "    .dataframe tbody tr th {\n",
       "        vertical-align: top;\n",
       "    }\n",
       "\n",
       "    .dataframe thead th {\n",
       "        text-align: right;\n",
       "    }\n",
       "</style>\n",
       "<table border=\"1\" class=\"dataframe\">\n",
       "  <thead>\n",
       "    <tr style=\"text-align: right;\">\n",
       "      <th></th>\n",
       "      <th>universe_id</th>\n",
       "      <th>universe_training_year</th>\n",
       "      <th>universe_training_size</th>\n",
       "      <th>universe_scale</th>\n",
       "      <th>universe_model</th>\n",
       "      <th>universe_exclude_features</th>\n",
       "      <th>universe_exclude_subgroups</th>\n",
       "      <th>q_hat</th>\n",
       "      <th>coverage</th>\n",
       "      <th>avg_size</th>\n",
       "      <th>cov_frau1</th>\n",
       "      <th>cov_nongerman</th>\n",
       "      <th>cov_nongerman_male</th>\n",
       "      <th>cov_nongerman_female</th>\n",
       "    </tr>\n",
       "  </thead>\n",
       "  <tbody>\n",
       "    <tr>\n",
       "      <th>0</th>\n",
       "      <td>b3024549e48c94277f35a7f3f5508409</td>\n",
       "      <td>2014</td>\n",
       "      <td>1k</td>\n",
       "      <td>do-not-scale</td>\n",
       "      <td>elasticnet</td>\n",
       "      <td>age</td>\n",
       "      <td>keep-all</td>\n",
       "      <td>0.665124</td>\n",
       "      <td>0.911426</td>\n",
       "      <td>1.26822</td>\n",
       "      <td>0.909988</td>\n",
       "      <td>0.959131</td>\n",
       "      <td>0.966586</td>\n",
       "      <td>0.946796</td>\n",
       "    </tr>\n",
       "  </tbody>\n",
       "</table>\n",
       "</div>"
      ],
      "text/plain": [
       "                        universe_id universe_training_year  \\\n",
       "0  b3024549e48c94277f35a7f3f5508409                   2014   \n",
       "\n",
       "  universe_training_size universe_scale universe_model  \\\n",
       "0                     1k   do-not-scale     elasticnet   \n",
       "\n",
       "  universe_exclude_features universe_exclude_subgroups     q_hat  coverage  \\\n",
       "0                       age                   keep-all  0.665124  0.911426   \n",
       "\n",
       "   avg_size  cov_frau1  cov_nongerman  cov_nongerman_male  \\\n",
       "0   1.26822   0.909988       0.959131            0.966586   \n",
       "\n",
       "   cov_nongerman_female  \n",
       "0              0.946796  "
      ]
     },
     "execution_count": 71,
     "metadata": {},
     "output_type": "execute_result"
    }
   ],
   "source": [
    "cp_metrics_df"
   ]
  },
  {
   "cell_type": "markdown",
   "id": "33774451",
   "metadata": {
    "papermill": {
     "duration": 0.030713,
     "end_time": "2025-07-30T21:32:56.881620",
     "exception": false,
     "start_time": "2025-07-30T21:32:56.850907",
     "status": "completed"
    },
    "tags": []
   },
   "source": [
    "# (Fairness) Metrics"
   ]
  },
  {
   "cell_type": "code",
   "execution_count": 72,
   "id": "debc5d62",
   "metadata": {
    "execution": {
     "iopub.execute_input": "2025-07-30T21:32:56.944965Z",
     "iopub.status.busy": "2025-07-30T21:32:56.944447Z",
     "iopub.status.idle": "2025-07-30T21:32:56.968166Z",
     "shell.execute_reply": "2025-07-30T21:32:56.967146Z"
    },
    "papermill": {
     "duration": 0.058414,
     "end_time": "2025-07-30T21:32:56.970283",
     "exception": false,
     "start_time": "2025-07-30T21:32:56.911869",
     "status": "completed"
    },
    "tags": []
   },
   "outputs": [],
   "source": [
    "# do I need to include maxdeutsch1.missing?\n",
    "\n",
    "import numpy as np\n",
    "\n",
    "colname_to_bin = \"maxdeutsch1\"\n",
    "majority_value = org_train[colname_to_bin].mode()[0]\n",
    "\n",
    "org_test[\"majmin\"] = np.where(org_test[colname_to_bin] == majority_value, \"majority\", \"minority\")"
   ]
  },
  {
   "cell_type": "code",
   "execution_count": 73,
   "id": "06a50de5",
   "metadata": {
    "execution": {
     "iopub.execute_input": "2025-07-30T21:32:57.033714Z",
     "iopub.status.busy": "2025-07-30T21:32:57.032771Z",
     "iopub.status.idle": "2025-07-30T21:33:00.063708Z",
     "shell.execute_reply": "2025-07-30T21:33:00.062750Z"
    },
    "papermill": {
     "duration": 3.06599,
     "end_time": "2025-07-30T21:33:00.066998",
     "exception": false,
     "start_time": "2025-07-30T21:32:57.001008",
     "status": "completed"
    },
    "tags": []
   },
   "outputs": [],
   "source": [
    "example_universe = universe.copy()\n",
    "example_universe[\"cutoff\"] = example_universe[\"cutoff\"][0]\n",
    "example_universe[\"eval_fairness_grouping\"] = example_universe[\"eval_fairness_grouping\"][0]\n",
    "fairness_dict, metric_frame = universe_analysis.compute_metrics(\n",
    "    example_universe,\n",
    "    y_pred_prob=probs_test,\n",
    "    y_test=y_true,\n",
    "    org_test=org_test,\n",
    ")"
   ]
  },
  {
   "cell_type": "markdown",
   "id": "f95d4e02",
   "metadata": {
    "papermill": {
     "duration": 0.026752,
     "end_time": "2025-07-30T21:33:00.122326",
     "exception": false,
     "start_time": "2025-07-30T21:33:00.095574",
     "status": "completed"
    },
    "tags": []
   },
   "source": [
    "# Overall"
   ]
  },
  {
   "cell_type": "markdown",
   "id": "bdee4871",
   "metadata": {
    "papermill": {
     "duration": 0.026202,
     "end_time": "2025-07-30T21:33:00.176511",
     "exception": false,
     "start_time": "2025-07-30T21:33:00.150309",
     "status": "completed"
    },
    "tags": []
   },
   "source": [
    "Fairness\n",
    "Main fairness target: Equalized Odds. Seems to be a better fit than equal opportunity, since we're not only interested in Y = 1. Seems to be a better fit than demographic parity, since we also care about accuracy, not just equal distribution of preds.\n",
    "\n",
    "Pick column for computation of fairness metrics\n",
    "\n",
    "Performance\n",
    "Overall performance measures, most interesting in relation to the measures split by group below"
   ]
  },
  {
   "cell_type": "code",
   "execution_count": 74,
   "id": "c4e067c6",
   "metadata": {
    "execution": {
     "iopub.execute_input": "2025-07-30T21:33:00.235156Z",
     "iopub.status.busy": "2025-07-30T21:33:00.234646Z",
     "iopub.status.idle": "2025-07-30T21:33:00.243353Z",
     "shell.execute_reply": "2025-07-30T21:33:00.242405Z"
    },
    "papermill": {
     "duration": 0.043033,
     "end_time": "2025-07-30T21:33:00.245038",
     "exception": false,
     "start_time": "2025-07-30T21:33:00.202005",
     "status": "completed"
    },
    "tags": []
   },
   "outputs": [
    {
     "data": {
      "text/plain": [
       "accuracy                   0.214770\n",
       "balanced accuracy          0.527154\n",
       "f1                         0.236365\n",
       "precision                  0.135028\n",
       "false positive rate        0.893033\n",
       "false negative rate        0.052659\n",
       "selection rate             0.900000\n",
       "count                  89710.000000\n",
       "dtype: float64"
      ]
     },
     "execution_count": 74,
     "metadata": {},
     "output_type": "execute_result"
    }
   ],
   "source": [
    "metric_frame.overall"
   ]
  },
  {
   "cell_type": "markdown",
   "id": "e968fe9d",
   "metadata": {
    "papermill": {
     "duration": 0.026442,
     "end_time": "2025-07-30T21:33:00.298562",
     "exception": false,
     "start_time": "2025-07-30T21:33:00.272120",
     "status": "completed"
    },
    "tags": []
   },
   "source": [
    "By Group"
   ]
  },
  {
   "cell_type": "code",
   "execution_count": 75,
   "id": "ec325bce",
   "metadata": {
    "execution": {
     "iopub.execute_input": "2025-07-30T21:33:00.352275Z",
     "iopub.status.busy": "2025-07-30T21:33:00.351800Z",
     "iopub.status.idle": "2025-07-30T21:33:00.366816Z",
     "shell.execute_reply": "2025-07-30T21:33:00.366007Z"
    },
    "papermill": {
     "duration": 0.044096,
     "end_time": "2025-07-30T21:33:00.368512",
     "exception": false,
     "start_time": "2025-07-30T21:33:00.324416",
     "status": "completed"
    },
    "tags": []
   },
   "outputs": [
    {
     "data": {
      "text/html": [
       "<div>\n",
       "<style scoped>\n",
       "    .dataframe tbody tr th:only-of-type {\n",
       "        vertical-align: middle;\n",
       "    }\n",
       "\n",
       "    .dataframe tbody tr th {\n",
       "        vertical-align: top;\n",
       "    }\n",
       "\n",
       "    .dataframe thead th {\n",
       "        text-align: right;\n",
       "    }\n",
       "</style>\n",
       "<table border=\"1\" class=\"dataframe\">\n",
       "  <thead>\n",
       "    <tr style=\"text-align: right;\">\n",
       "      <th></th>\n",
       "      <th>accuracy</th>\n",
       "      <th>balanced accuracy</th>\n",
       "      <th>f1</th>\n",
       "      <th>precision</th>\n",
       "      <th>false positive rate</th>\n",
       "      <th>false negative rate</th>\n",
       "      <th>selection rate</th>\n",
       "      <th>count</th>\n",
       "    </tr>\n",
       "    <tr>\n",
       "      <th>majmin</th>\n",
       "      <th></th>\n",
       "      <th></th>\n",
       "      <th></th>\n",
       "      <th></th>\n",
       "      <th></th>\n",
       "      <th></th>\n",
       "      <th></th>\n",
       "      <th></th>\n",
       "    </tr>\n",
       "  </thead>\n",
       "  <tbody>\n",
       "    <tr>\n",
       "      <th>majority</th>\n",
       "      <td>0.235940</td>\n",
       "      <td>0.53388</td>\n",
       "      <td>0.245129</td>\n",
       "      <td>0.140968</td>\n",
       "      <td>0.871081</td>\n",
       "      <td>0.061160</td>\n",
       "      <td>0.880035</td>\n",
       "      <td>69170.0</td>\n",
       "    </tr>\n",
       "    <tr>\n",
       "      <th>minority</th>\n",
       "      <td>0.143476</td>\n",
       "      <td>0.50730</td>\n",
       "      <td>0.208770</td>\n",
       "      <td>0.116827</td>\n",
       "      <td>0.965551</td>\n",
       "      <td>0.019848</td>\n",
       "      <td>0.967235</td>\n",
       "      <td>20540.0</td>\n",
       "    </tr>\n",
       "  </tbody>\n",
       "</table>\n",
       "</div>"
      ],
      "text/plain": [
       "          accuracy  balanced accuracy        f1  precision  \\\n",
       "majmin                                                       \n",
       "majority  0.235940            0.53388  0.245129   0.140968   \n",
       "minority  0.143476            0.50730  0.208770   0.116827   \n",
       "\n",
       "          false positive rate  false negative rate  selection rate    count  \n",
       "majmin                                                                       \n",
       "majority             0.871081             0.061160        0.880035  69170.0  \n",
       "minority             0.965551             0.019848        0.967235  20540.0  "
      ]
     },
     "execution_count": 75,
     "metadata": {},
     "output_type": "execute_result"
    }
   ],
   "source": [
    "metric_frame.by_group"
   ]
  },
  {
   "cell_type": "code",
   "execution_count": 76,
   "id": "a9ddbe63",
   "metadata": {
    "execution": {
     "iopub.execute_input": "2025-07-30T21:33:00.426383Z",
     "iopub.status.busy": "2025-07-30T21:33:00.425611Z",
     "iopub.status.idle": "2025-07-30T21:33:02.817734Z",
     "shell.execute_reply": "2025-07-30T21:33:02.816782Z"
    },
    "papermill": {
     "duration": 2.422749,
     "end_time": "2025-07-30T21:33:02.819389",
     "exception": false,
     "start_time": "2025-07-30T21:33:00.396640",
     "status": "completed"
    },
    "tags": []
   },
   "outputs": [
    {
     "data": {
      "text/plain": [
       "array([[<Axes: title={'center': 'accuracy'}, xlabel='majmin'>,\n",
       "        <Axes: title={'center': 'balanced accuracy'}, xlabel='majmin'>,\n",
       "        <Axes: title={'center': 'f1'}, xlabel='majmin'>],\n",
       "       [<Axes: title={'center': 'precision'}, xlabel='majmin'>,\n",
       "        <Axes: title={'center': 'false positive rate'}, xlabel='majmin'>,\n",
       "        <Axes: title={'center': 'false negative rate'}, xlabel='majmin'>],\n",
       "       [<Axes: title={'center': 'selection rate'}, xlabel='majmin'>,\n",
       "        <Axes: title={'center': 'count'}, xlabel='majmin'>,\n",
       "        <Axes: xlabel='majmin'>]], dtype=object)"
      ]
     },
     "execution_count": 76,
     "metadata": {},
     "output_type": "execute_result"
    },
    {
     "data": {
      "image/png": "[encoded data removed]",
      "text/plain": [
       "<Figure size 1200x800 with 9 Axes>"
      ]
     },
     "metadata": {},
     "output_type": "display_data"
    }
   ],
   "source": [
    "# In a graphic\n",
    "metric_frame.by_group.plot.bar(\n",
    "    subplots=True,\n",
    "    layout=[3, 3],\n",
    "    legend=False,\n",
    "    figsize=[12, 8],\n",
    "    title=\"Show all metrics\",\n",
    ")"
   ]
  },
  {
   "cell_type": "markdown",
   "id": "f57a0bac",
   "metadata": {
    "papermill": {
     "duration": 0.028565,
     "end_time": "2025-07-30T21:33:02.878263",
     "exception": false,
     "start_time": "2025-07-30T21:33:02.849698",
     "status": "completed"
    },
    "tags": []
   },
   "source": [
    "# Final Output"
   ]
  },
  {
   "cell_type": "code",
   "execution_count": 77,
   "id": "96d280a3",
   "metadata": {
    "execution": {
     "iopub.execute_input": "2025-07-30T21:33:02.938573Z",
     "iopub.status.busy": "2025-07-30T21:33:02.937979Z",
     "iopub.status.idle": "2025-07-30T21:33:02.945925Z",
     "shell.execute_reply": "2025-07-30T21:33:02.945002Z"
    },
    "papermill": {
     "duration": 0.039327,
     "end_time": "2025-07-30T21:33:02.947426",
     "exception": false,
     "start_time": "2025-07-30T21:33:02.908099",
     "status": "completed"
    },
    "tags": []
   },
   "outputs": [
    {
     "data": {
      "text/plain": [
       "4"
      ]
     },
     "execution_count": 77,
     "metadata": {},
     "output_type": "execute_result"
    }
   ],
   "source": [
    "sub_universes = universe_analysis.generate_sub_universes()\n",
    "len(sub_universes)"
   ]
  },
  {
   "cell_type": "code",
   "execution_count": 78,
   "id": "92adf7ba",
   "metadata": {
    "execution": {
     "iopub.execute_input": "2025-07-30T21:33:03.008858Z",
     "iopub.status.busy": "2025-07-30T21:33:03.007998Z",
     "iopub.status.idle": "2025-07-30T21:33:03.014637Z",
     "shell.execute_reply": "2025-07-30T21:33:03.013593Z"
    },
    "papermill": {
     "duration": 0.039074,
     "end_time": "2025-07-30T21:33:03.016688",
     "exception": false,
     "start_time": "2025-07-30T21:33:02.977614",
     "status": "completed"
    },
    "tags": []
   },
   "outputs": [],
   "source": [
    "def filter_sub_universe_data(sub_universe, org_test):\n",
    "    # Keep all rows — no filtering\n",
    "    keep_rows_mask = np.ones(org_test.shape[0], dtype=bool)\n",
    "\n",
    "    print(f\"[INFO] Keeping all rows: {keep_rows_mask.sum()} rows retained.\")\n",
    "    return keep_rows_mask"
   ]
  },
  {
   "cell_type": "code",
   "execution_count": 79,
   "id": "4a759155",
   "metadata": {
    "execution": {
     "iopub.execute_input": "2025-07-30T21:33:03.081210Z",
     "iopub.status.busy": "2025-07-30T21:33:03.080724Z",
     "iopub.status.idle": "2025-07-30T21:33:14.222852Z",
     "shell.execute_reply": "2025-07-30T21:33:14.221844Z"
    },
    "papermill": {
     "duration": 11.177202,
     "end_time": "2025-07-30T21:33:14.224428",
     "exception": false,
     "start_time": "2025-07-30T21:33:03.047226",
     "status": "completed"
    },
    "tags": []
   },
   "outputs": [
    {
     "name": "stdout",
     "output_type": "stream",
     "text": [
      "Stopping execution_time clock.\n",
      "[INFO] Keeping all rows: 89710 rows retained.\n"
     ]
    },
    {
     "name": "stdout",
     "output_type": "stream",
     "text": [
      "[INFO] Keeping all rows: 89710 rows retained.\n"
     ]
    },
    {
     "name": "stdout",
     "output_type": "stream",
     "text": [
      "[INFO] Keeping all rows: 89710 rows retained.\n"
     ]
    },
    {
     "name": "stdout",
     "output_type": "stream",
     "text": [
      "[INFO] Keeping all rows: 89710 rows retained.\n"
     ]
    },
    {
     "data": {
      "text/html": [
       "<div>\n",
       "<style scoped>\n",
       "    .dataframe tbody tr th:only-of-type {\n",
       "        vertical-align: middle;\n",
       "    }\n",
       "\n",
       "    .dataframe tbody tr th {\n",
       "        vertical-align: top;\n",
       "    }\n",
       "\n",
       "    .dataframe thead th {\n",
       "        text-align: right;\n",
       "    }\n",
       "</style>\n",
       "<table border=\"1\" class=\"dataframe\">\n",
       "  <thead>\n",
       "    <tr style=\"text-align: right;\">\n",
       "      <th></th>\n",
       "      <th>run_no</th>\n",
       "      <th>universe_id</th>\n",
       "      <th>universe_settings</th>\n",
       "      <th>execution_time</th>\n",
       "      <th>test_size_n</th>\n",
       "      <th>test_size_frac</th>\n",
       "      <th>fair_main_equalized_odds_difference</th>\n",
       "      <th>fair_main_equalized_odds_ratio</th>\n",
       "      <th>fair_main_demographic_parity_difference</th>\n",
       "      <th>fair_main_demographic_parity_ratio</th>\n",
       "      <th>...</th>\n",
       "      <th>perf_grp_precision_0</th>\n",
       "      <th>perf_grp_precision_1</th>\n",
       "      <th>perf_grp_false positive rate_0</th>\n",
       "      <th>perf_grp_false positive rate_1</th>\n",
       "      <th>perf_grp_false negative rate_0</th>\n",
       "      <th>perf_grp_false negative rate_1</th>\n",
       "      <th>perf_grp_selection rate_0</th>\n",
       "      <th>perf_grp_selection rate_1</th>\n",
       "      <th>perf_grp_count_0</th>\n",
       "      <th>perf_grp_count_1</th>\n",
       "    </tr>\n",
       "  </thead>\n",
       "  <tbody>\n",
       "    <tr>\n",
       "      <th>0</th>\n",
       "      <td>14</td>\n",
       "      <td>b3024549e48c94277f35a7f3f5508409</td>\n",
       "      <td>{\"cutoff\": \"quantile_0.1\", \"eval_fairness_grou...</td>\n",
       "      <td>45.094834</td>\n",
       "      <td>89710</td>\n",
       "      <td>1.0</td>\n",
       "      <td>0.094470</td>\n",
       "      <td>0.902159</td>\n",
       "      <td>0.087200</td>\n",
       "      <td>0.909846</td>\n",
       "      <td>...</td>\n",
       "      <td>NaN</td>\n",
       "      <td>NaN</td>\n",
       "      <td>NaN</td>\n",
       "      <td>NaN</td>\n",
       "      <td>NaN</td>\n",
       "      <td>NaN</td>\n",
       "      <td>NaN</td>\n",
       "      <td>NaN</td>\n",
       "      <td>NaN</td>\n",
       "      <td>NaN</td>\n",
       "    </tr>\n",
       "    <tr>\n",
       "      <th>0</th>\n",
       "      <td>14</td>\n",
       "      <td>b3024549e48c94277f35a7f3f5508409</td>\n",
       "      <td>{\"cutoff\": \"quantile_0.1\", \"eval_fairness_grou...</td>\n",
       "      <td>45.094834</td>\n",
       "      <td>89710</td>\n",
       "      <td>1.0</td>\n",
       "      <td>0.094470</td>\n",
       "      <td>0.902159</td>\n",
       "      <td>0.087200</td>\n",
       "      <td>0.909846</td>\n",
       "      <td>...</td>\n",
       "      <td>0.116827</td>\n",
       "      <td>0.140968</td>\n",
       "      <td>0.965551</td>\n",
       "      <td>0.871081</td>\n",
       "      <td>0.019848</td>\n",
       "      <td>0.061160</td>\n",
       "      <td>0.967235</td>\n",
       "      <td>0.880035</td>\n",
       "      <td>20540.0</td>\n",
       "      <td>69170.0</td>\n",
       "    </tr>\n",
       "    <tr>\n",
       "      <th>0</th>\n",
       "      <td>14</td>\n",
       "      <td>b3024549e48c94277f35a7f3f5508409</td>\n",
       "      <td>{\"cutoff\": \"quantile_0.25\", \"eval_fairness_gro...</td>\n",
       "      <td>45.094834</td>\n",
       "      <td>89710</td>\n",
       "      <td>1.0</td>\n",
       "      <td>0.223956</td>\n",
       "      <td>0.753125</td>\n",
       "      <td>0.207746</td>\n",
       "      <td>0.771751</td>\n",
       "      <td>...</td>\n",
       "      <td>NaN</td>\n",
       "      <td>NaN</td>\n",
       "      <td>NaN</td>\n",
       "      <td>NaN</td>\n",
       "      <td>NaN</td>\n",
       "      <td>NaN</td>\n",
       "      <td>NaN</td>\n",
       "      <td>NaN</td>\n",
       "      <td>NaN</td>\n",
       "      <td>NaN</td>\n",
       "    </tr>\n",
       "    <tr>\n",
       "      <th>0</th>\n",
       "      <td>14</td>\n",
       "      <td>b3024549e48c94277f35a7f3f5508409</td>\n",
       "      <td>{\"cutoff\": \"quantile_0.25\", \"eval_fairness_gro...</td>\n",
       "      <td>45.094834</td>\n",
       "      <td>89710</td>\n",
       "      <td>1.0</td>\n",
       "      <td>0.223956</td>\n",
       "      <td>0.753125</td>\n",
       "      <td>0.207746</td>\n",
       "      <td>0.771751</td>\n",
       "      <td>...</td>\n",
       "      <td>0.118213</td>\n",
       "      <td>0.155885</td>\n",
       "      <td>0.907165</td>\n",
       "      <td>0.683208</td>\n",
       "      <td>0.066723</td>\n",
       "      <td>0.171335</td>\n",
       "      <td>0.910175</td>\n",
       "      <td>0.702429</td>\n",
       "      <td>20540.0</td>\n",
       "      <td>69170.0</td>\n",
       "    </tr>\n",
       "  </tbody>\n",
       "</table>\n",
       "<p>4 rows × 50 columns</p>\n",
       "</div>"
      ],
      "text/plain": [
       "  run_no                       universe_id  \\\n",
       "0     14  b3024549e48c94277f35a7f3f5508409   \n",
       "0     14  b3024549e48c94277f35a7f3f5508409   \n",
       "0     14  b3024549e48c94277f35a7f3f5508409   \n",
       "0     14  b3024549e48c94277f35a7f3f5508409   \n",
       "\n",
       "                                   universe_settings  execution_time  \\\n",
       "0  {\"cutoff\": \"quantile_0.1\", \"eval_fairness_grou...       45.094834   \n",
       "0  {\"cutoff\": \"quantile_0.1\", \"eval_fairness_grou...       45.094834   \n",
       "0  {\"cutoff\": \"quantile_0.25\", \"eval_fairness_gro...       45.094834   \n",
       "0  {\"cutoff\": \"quantile_0.25\", \"eval_fairness_gro...       45.094834   \n",
       "\n",
       "   test_size_n  test_size_frac  fair_main_equalized_odds_difference  \\\n",
       "0        89710             1.0                             0.094470   \n",
       "0        89710             1.0                             0.094470   \n",
       "0        89710             1.0                             0.223956   \n",
       "0        89710             1.0                             0.223956   \n",
       "\n",
       "   fair_main_equalized_odds_ratio  fair_main_demographic_parity_difference  \\\n",
       "0                        0.902159                                 0.087200   \n",
       "0                        0.902159                                 0.087200   \n",
       "0                        0.753125                                 0.207746   \n",
       "0                        0.753125                                 0.207746   \n",
       "\n",
       "   fair_main_demographic_parity_ratio  ...  perf_grp_precision_0  \\\n",
       "0                            0.909846  ...                   NaN   \n",
       "0                            0.909846  ...              0.116827   \n",
       "0                            0.771751  ...                   NaN   \n",
       "0                            0.771751  ...              0.118213   \n",
       "\n",
       "   perf_grp_precision_1  perf_grp_false positive rate_0  \\\n",
       "0                   NaN                             NaN   \n",
       "0              0.140968                        0.965551   \n",
       "0                   NaN                             NaN   \n",
       "0              0.155885                        0.907165   \n",
       "\n",
       "   perf_grp_false positive rate_1  perf_grp_false negative rate_0  \\\n",
       "0                             NaN                             NaN   \n",
       "0                        0.871081                        0.019848   \n",
       "0                             NaN                             NaN   \n",
       "0                        0.683208                        0.066723   \n",
       "\n",
       "   perf_grp_false negative rate_1  perf_grp_selection rate_0  \\\n",
       "0                             NaN                        NaN   \n",
       "0                        0.061160                   0.967235   \n",
       "0                             NaN                        NaN   \n",
       "0                        0.171335                   0.910175   \n",
       "\n",
       "   perf_grp_selection rate_1  perf_grp_count_0  perf_grp_count_1  \n",
       "0                        NaN               NaN               NaN  \n",
       "0                   0.880035           20540.0           69170.0  \n",
       "0                        NaN               NaN               NaN  \n",
       "0                   0.702429           20540.0           69170.0  \n",
       "\n",
       "[4 rows x 50 columns]"
      ]
     },
     "execution_count": 79,
     "metadata": {},
     "output_type": "execute_result"
    }
   ],
   "source": [
    "final_output = universe_analysis.generate_final_output(\n",
    "    y_pred_prob=probs_test,\n",
    "    y_test=y_true,\n",
    "    org_test=org_test,\n",
    "    filter_data=filter_sub_universe_data,\n",
    "    cp_metrics_df=cp_metrics_df,\n",
    "    save=True,\n",
    ")\n",
    "final_output"
   ]
  },
  {
   "cell_type": "code",
   "execution_count": null,
   "id": "721ff514-cb11-46f8-b6fc-50392f74b5cb",
   "metadata": {
    "papermill": {
     "duration": 0.031202,
     "end_time": "2025-07-30T21:33:14.287915",
     "exception": false,
     "start_time": "2025-07-30T21:33:14.256713",
     "status": "completed"
    },
    "tags": []
   },
   "outputs": [],
   "source": []
  }
 ],
 "metadata": {
  "celltoolbar": "Tags",
  "kernelspec": {
   "display_name": "Python (CMA Fairness)",
   "language": "python",
   "name": "cma_fair_env"
  },
  "language_info": {
   "codemirror_mode": {
    "name": "ipython",
    "version": 3
   },
   "file_extension": ".py",
   "mimetype": "text/x-python",
   "name": "python",
   "nbconvert_exporter": "python",
   "pygments_lexer": "ipython3",
   "version": "3.10.12"
  },
  "papermill": {
   "default_parameters": {},
   "duration": 60.531689,
   "end_time": "2025-07-30T21:33:15.137689",
   "environment_variables": {},
   "exception": null,
   "input_path": "universe_analysis.ipynb",
   "output_path": "output/runs/14/notebooks/m_14-b3024549e48c94277f35a7f3f5508409.ipynb",
   "parameters": {
    "output_dir": "output",
    "run_no": "14",
    "seed": "2023",
    "universe": "{\"cutoff\": [\"quantile_0.1\", \"quantile_0.25\"], \"eval_fairness_grouping\": [\"majority-minority\", \"nationality-all\"], \"exclude_features\": \"age\", \"exclude_subgroups\": \"keep-all\", \"model\": \"elasticnet\", \"scale\": \"do-not-scale\", \"training_size\": \"1k\", \"training_year\": \"2014\"}",
    "universe_id": "b3024549e48c94277f35a7f3f5508409"
   },
   "start_time": "2025-07-30T21:32:14.606000",
   "version": "2.6.0"
  }
 },
 "nbformat": 4,
 "nbformat_minor": 5
}