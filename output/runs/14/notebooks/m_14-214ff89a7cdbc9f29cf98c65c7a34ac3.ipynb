{
 "cells": [
  {
   "cell_type": "code",
   "execution_count": 1,
   "id": "f159f837-637b-42ba-96b5-ec9a68c44524",
   "metadata": {
    "execution": {
     "iopub.execute_input": "2025-07-30T21:35:41.744018Z",
     "iopub.status.busy": "2025-07-30T21:35:41.743555Z",
     "iopub.status.idle": "2025-07-30T21:35:41.756523Z",
     "shell.execute_reply": "2025-07-30T21:35:41.755596Z"
    },
    "papermill": {
     "duration": 0.03778,
     "end_time": "2025-07-30T21:35:41.758099",
     "exception": false,
     "start_time": "2025-07-30T21:35:41.720319",
     "status": "completed"
    },
    "tags": []
   },
   "outputs": [
    {
     "name": "stdout",
     "output_type": "stream",
     "text": [
      "/dss/dsshome1/0C/ra93lal2/cma/CMA_Fairness_v2\n"
     ]
    },
    {
     "name": "stderr",
     "output_type": "stream",
     "text": [
      "/dss/dsshome1/0C/ra93lal2/.local/share/virtualenvs/CMA_Fairness_v2-3j10GkSs/lib/python3.10/site-packages/IPython/core/magics/osm.py:393: UserWarning: This is now an optional IPython functionality, using bookmarks requires you to install the `pickleshare` library.\n",
      "  bkms = self.shell.db.get('bookmarks', {})\n",
      "/dss/dsshome1/0C/ra93lal2/.local/share/virtualenvs/CMA_Fairness_v2-3j10GkSs/lib/python3.10/site-packages/IPython/core/magics/osm.py:417: UserWarning: This is now an optional IPython functionality, setting dhist requires you to install the `pickleshare` library.\n",
      "  self.shell.db['dhist'] = compress_dhist(dhist)[-100:]\n"
     ]
    }
   ],
   "source": [
    "%cd ~/cma/CMA_Fairness_v2"
   ]
  },
  {
   "cell_type": "markdown",
   "id": "de2603b9",
   "metadata": {
    "papermill": {
     "duration": 0.018047,
     "end_time": "2025-07-30T21:35:41.795125",
     "exception": false,
     "start_time": "2025-07-30T21:35:41.777078",
     "status": "completed"
    },
    "tags": []
   },
   "source": [
    "The following cell holds the definition of our parameters, these values can be overriden by rendering the with e.g. the following command:\n",
    "\n",
    "papermill -p alpha 0.2 -p ratio 0.3 universe_analysis.ipynb output/test_run.ipynb"
   ]
  },
  {
   "cell_type": "code",
   "execution_count": 2,
   "id": "a80968a0-40bb-4fa9-85ef-2d5eefb01975",
   "metadata": {
    "execution": {
     "iopub.execute_input": "2025-07-30T21:35:41.835810Z",
     "iopub.status.busy": "2025-07-30T21:35:41.835407Z",
     "iopub.status.idle": "2025-07-30T21:35:41.840748Z",
     "shell.execute_reply": "2025-07-30T21:35:41.839712Z"
    },
    "papermill": {
     "duration": 0.029333,
     "end_time": "2025-07-30T21:35:41.843095",
     "exception": false,
     "start_time": "2025-07-30T21:35:41.813762",
     "status": "completed"
    },
    "tags": []
   },
   "outputs": [
    {
     "name": "stdout",
     "output_type": "stream",
     "text": [
      "Current working directory: /dss/dsshome1/0C/ra93lal2/cma/CMA_Fairness_v2\n"
     ]
    }
   ],
   "source": [
    "import os\n",
    "print(\"Current working directory:\", os.getcwd())"
   ]
  },
  {
   "cell_type": "code",
   "execution_count": 3,
   "id": "2dce4c03",
   "metadata": {
    "execution": {
     "iopub.execute_input": "2025-07-30T21:35:41.883389Z",
     "iopub.status.busy": "2025-07-30T21:35:41.882897Z",
     "iopub.status.idle": "2025-07-30T21:35:41.891704Z",
     "shell.execute_reply": "2025-07-30T21:35:41.891019Z"
    },
    "papermill": {
     "duration": 0.031033,
     "end_time": "2025-07-30T21:35:41.893538",
     "exception": false,
     "start_time": "2025-07-30T21:35:41.862505",
     "status": "completed"
    },
    "tags": [
     "parameters"
    ]
   },
   "outputs": [],
   "source": [
    "run_no = 0\n",
    "universe_id = \"test\"\n",
    "universe = {\n",
    "    \"training_size\": \"25k\", # \"25k\", \"5k\", \"1k\"\n",
    "    \"training_year\": \"2014\", # \"2014\", \"2012_14\", \"2010_14\"\n",
    "    \"scale\": \"scale\", # \"scale\", \"do-not-scale\",\n",
    "    #\"stratify_split\": \"target\", # \"none\", \"target\", \"protected-attribute\", \"both\",\n",
    "    \"model\": \"elasticnet\", # \"logreg\", \"penalized_logreg\", \"rf\", \"gbm\", \"elasticnet\"\n",
    "    \"cutoff\": [\"quantile_0.15\", \"quantile_0.30\"],\n",
    "    \"exclude_features\": \"age\", # \"none\", \"nationality\", \"sex\", \"nationality-sex\", \"age\"\n",
    "    \"exclude_subgroups\": \"keep-all\", # \"keep-all\", \"drop-non-german\"\n",
    "    \"eval_fairness_grouping\": [\"majority-minority\", \"nationality-all\"]\n",
    "}\n",
    "\n",
    "output_dir=\"./output\"\n",
    "seed=0"
   ]
  },
  {
   "cell_type": "code",
   "execution_count": 4,
   "id": "07b122df",
   "metadata": {
    "execution": {
     "iopub.execute_input": "2025-07-30T21:35:41.938445Z",
     "iopub.status.busy": "2025-07-30T21:35:41.937909Z",
     "iopub.status.idle": "2025-07-30T21:35:41.943858Z",
     "shell.execute_reply": "2025-07-30T21:35:41.942842Z"
    },
    "papermill": {
     "duration": 0.031939,
     "end_time": "2025-07-30T21:35:41.945597",
     "exception": false,
     "start_time": "2025-07-30T21:35:41.913658",
     "status": "completed"
    },
    "tags": [
     "injected-parameters"
    ]
   },
   "outputs": [],
   "source": [
    "# Parameters\n",
    "universe_id = \"214ff89a7cdbc9f29cf98c65c7a34ac3\"\n",
    "run_no = \"14\"\n",
    "universe = \"{\\\"cutoff\\\": [\\\"quantile_0.1\\\", \\\"quantile_0.25\\\"], \\\"eval_fairness_grouping\\\": [\\\"majority-minority\\\", \\\"nationality-all\\\"], \\\"exclude_features\\\": \\\"age\\\", \\\"exclude_subgroups\\\": \\\"drop-non-german\\\", \\\"model\\\": \\\"rf\\\", \\\"scale\\\": \\\"scale\\\", \\\"training_size\\\": \\\"1k\\\", \\\"training_year\\\": \\\"2012_14\\\"}\"\n",
    "output_dir = \"output\"\n",
    "seed = \"2023\"\n"
   ]
  },
  {
   "cell_type": "code",
   "execution_count": 5,
   "id": "1650acaf",
   "metadata": {
    "execution": {
     "iopub.execute_input": "2025-07-30T21:35:41.984881Z",
     "iopub.status.busy": "2025-07-30T21:35:41.984407Z",
     "iopub.status.idle": "2025-07-30T21:35:41.989154Z",
     "shell.execute_reply": "2025-07-30T21:35:41.988328Z"
    },
    "papermill": {
     "duration": 0.025122,
     "end_time": "2025-07-30T21:35:41.990596",
     "exception": false,
     "start_time": "2025-07-30T21:35:41.965474",
     "status": "completed"
    },
    "tags": []
   },
   "outputs": [],
   "source": [
    "import json\n",
    "# Parse universe into dict if it is passed as a string\n",
    "if isinstance(universe, str):\n",
    "    universe = json.loads(universe)"
   ]
  },
  {
   "cell_type": "code",
   "execution_count": 6,
   "id": "16620c48",
   "metadata": {
    "execution": {
     "iopub.execute_input": "2025-07-30T21:35:42.034307Z",
     "iopub.status.busy": "2025-07-30T21:35:42.033602Z",
     "iopub.status.idle": "2025-07-30T21:35:42.081820Z",
     "shell.execute_reply": "2025-07-30T21:35:42.080770Z"
    },
    "papermill": {
     "duration": 0.071894,
     "end_time": "2025-07-30T21:35:42.083243",
     "exception": false,
     "start_time": "2025-07-30T21:35:42.011349",
     "status": "completed"
    },
    "tags": []
   },
   "outputs": [],
   "source": [
    "# Auto-reload the custom package\n",
    "%load_ext autoreload\n",
    "%autoreload 1\n",
    "%aimport fairness_multiverse"
   ]
  },
  {
   "cell_type": "code",
   "execution_count": 7,
   "id": "01c5c9f3",
   "metadata": {
    "execution": {
     "iopub.execute_input": "2025-07-30T21:35:42.126067Z",
     "iopub.status.busy": "2025-07-30T21:35:42.125234Z",
     "iopub.status.idle": "2025-07-30T21:35:44.071041Z",
     "shell.execute_reply": "2025-07-30T21:35:44.070094Z"
    },
    "papermill": {
     "duration": 1.969937,
     "end_time": "2025-07-30T21:35:44.072973",
     "exception": false,
     "start_time": "2025-07-30T21:35:42.103036",
     "status": "completed"
    },
    "tags": []
   },
   "outputs": [],
   "source": [
    "from fairness_multiverse.universe import UniverseAnalysis\n",
    "\n",
    "universe_analysis = UniverseAnalysis(\n",
    "    run_no = run_no,\n",
    "    universe_id = universe_id,\n",
    "    universe = universe,\n",
    "    output_dir=output_dir,\n",
    ")"
   ]
  },
  {
   "cell_type": "code",
   "execution_count": 8,
   "id": "106241f5",
   "metadata": {
    "execution": {
     "iopub.execute_input": "2025-07-30T21:35:44.119968Z",
     "iopub.status.busy": "2025-07-30T21:35:44.119251Z",
     "iopub.status.idle": "2025-07-30T21:35:44.126980Z",
     "shell.execute_reply": "2025-07-30T21:35:44.126146Z"
    },
    "papermill": {
     "duration": 0.030762,
     "end_time": "2025-07-30T21:35:44.128963",
     "exception": false,
     "start_time": "2025-07-30T21:35:44.098201",
     "status": "completed"
    },
    "tags": []
   },
   "outputs": [
    {
     "name": "stdout",
     "output_type": "stream",
     "text": [
      "Using Seed: 2023\n"
     ]
    }
   ],
   "source": [
    "import numpy as np\n",
    "parsed_seed = int(seed)\n",
    "np.random.seed(parsed_seed)\n",
    "print(f\"Using Seed: {parsed_seed}\")"
   ]
  },
  {
   "cell_type": "markdown",
   "id": "e0ebdc57",
   "metadata": {
    "papermill": {
     "duration": 0.020317,
     "end_time": "2025-07-30T21:35:44.169729",
     "exception": false,
     "start_time": "2025-07-30T21:35:44.149412",
     "status": "completed"
    },
    "tags": []
   },
   "source": [
    "# Loading Data"
   ]
  },
  {
   "cell_type": "markdown",
   "id": "681925a3",
   "metadata": {
    "papermill": {
     "duration": 0.018321,
     "end_time": "2025-07-30T21:35:44.207023",
     "exception": false,
     "start_time": "2025-07-30T21:35:44.188702",
     "status": "completed"
    },
    "tags": []
   },
   "source": [
    "Load siab_train, siab_test, siab_calib and/or \n",
    "load siab_train_features, siab_train_labels"
   ]
  },
  {
   "cell_type": "code",
   "execution_count": 9,
   "id": "f0496b8a",
   "metadata": {
    "execution": {
     "iopub.execute_input": "2025-07-30T21:35:44.246009Z",
     "iopub.status.busy": "2025-07-30T21:35:44.245527Z",
     "iopub.status.idle": "2025-07-30T21:35:57.422839Z",
     "shell.execute_reply": "2025-07-30T21:35:57.421509Z"
    },
    "papermill": {
     "duration": 13.198693,
     "end_time": "2025-07-30T21:35:57.424887",
     "exception": false,
     "start_time": "2025-07-30T21:35:44.226194",
     "status": "completed"
    },
    "tags": []
   },
   "outputs": [
    {
     "name": "stdout",
     "output_type": "stream",
     "text": [
      "Loading SIAB data from cache: data/siab_cached.csv.gz\n"
     ]
    },
    {
     "name": "stdout",
     "output_type": "stream",
     "text": [
      "(643690, 164)\n"
     ]
    }
   ],
   "source": [
    "from pathlib import Path\n",
    "import pandas as pd\n",
    "\n",
    "# File paths\n",
    "raw_file = Path(\"data/raw/siab.csv\")\n",
    "cache_file = Path(\"data/siab_cached.csv.gz\")\n",
    "\n",
    "# Ensure cache directory exists\n",
    "cache_file.parent.mkdir(parents=True, exist_ok=True)\n",
    "\n",
    "# Load with simple caching\n",
    "if cache_file.exists():\n",
    "    print(f\"Loading SIAB data from cache: {cache_file}\")\n",
    "    siab = pd.read_csv(cache_file, compression='gzip')\n",
    "else:\n",
    "    print(f\"Cache not found. Reading raw SIAB data: {raw_file}\")\n",
    "    siab = pd.read_csv(raw_file)\n",
    "    siab.to_csv(cache_file, index=False, compression='gzip')\n",
    "    print(f\"Cached SIAB data to: {cache_file}\")\n",
    "\n",
    "# Now use `siab` DataFrame as needed\n",
    "print(siab.shape)"
   ]
  },
  {
   "cell_type": "code",
   "execution_count": 10,
   "id": "db0ca512-5f53-4dba-abdb-a2888bca41ba",
   "metadata": {
    "execution": {
     "iopub.execute_input": "2025-07-30T21:35:57.475445Z",
     "iopub.status.busy": "2025-07-30T21:35:57.474439Z",
     "iopub.status.idle": "2025-07-30T21:35:57.479646Z",
     "shell.execute_reply": "2025-07-30T21:35:57.478963Z"
    },
    "papermill": {
     "duration": 0.030176,
     "end_time": "2025-07-30T21:35:57.481029",
     "exception": false,
     "start_time": "2025-07-30T21:35:57.450853",
     "status": "completed"
    },
    "tags": []
   },
   "outputs": [],
   "source": [
    "#siab"
   ]
  },
  {
   "cell_type": "code",
   "execution_count": 11,
   "id": "a0edb063",
   "metadata": {
    "execution": {
     "iopub.execute_input": "2025-07-30T21:35:57.515819Z",
     "iopub.status.busy": "2025-07-30T21:35:57.515413Z",
     "iopub.status.idle": "2025-07-30T21:35:57.520852Z",
     "shell.execute_reply": "2025-07-30T21:35:57.519686Z"
    },
    "papermill": {
     "duration": 0.024934,
     "end_time": "2025-07-30T21:35:57.523608",
     "exception": false,
     "start_time": "2025-07-30T21:35:57.498674",
     "status": "completed"
    },
    "tags": []
   },
   "outputs": [],
   "source": [
    "#import pandas as pd\n",
    "#\n",
    "#X_train = pd.read_csv(\"./data/X_train.csv\")\n",
    "#y_train = pd.read_csv(\"./data/y_train.csv\")"
   ]
  },
  {
   "cell_type": "code",
   "execution_count": 12,
   "id": "63d08085",
   "metadata": {
    "execution": {
     "iopub.execute_input": "2025-07-30T21:35:57.570436Z",
     "iopub.status.busy": "2025-07-30T21:35:57.569993Z",
     "iopub.status.idle": "2025-07-30T21:35:57.575596Z",
     "shell.execute_reply": "2025-07-30T21:35:57.574440Z"
    },
    "papermill": {
     "duration": 0.031238,
     "end_time": "2025-07-30T21:35:57.577821",
     "exception": false,
     "start_time": "2025-07-30T21:35:57.546583",
     "status": "completed"
    },
    "tags": []
   },
   "outputs": [],
   "source": [
    "#X_test = pd.read_csv(\"./data/X_test.csv\")\n",
    "#y_true = pd.read_csv(\"./data/y_test.csv\")"
   ]
  },
  {
   "cell_type": "code",
   "execution_count": 13,
   "id": "98a8d0fa-1d3d-4ed8-bb2c-281470e24add",
   "metadata": {
    "execution": {
     "iopub.execute_input": "2025-07-30T21:35:57.626348Z",
     "iopub.status.busy": "2025-07-30T21:35:57.625911Z",
     "iopub.status.idle": "2025-07-30T21:35:57.631351Z",
     "shell.execute_reply": "2025-07-30T21:35:57.630358Z"
    },
    "papermill": {
     "duration": 0.033283,
     "end_time": "2025-07-30T21:35:57.634812",
     "exception": false,
     "start_time": "2025-07-30T21:35:57.601529",
     "status": "completed"
    },
    "tags": []
   },
   "outputs": [],
   "source": [
    "# Calibration data for conformal\n",
    "#X_calib = pd.read_csv(\"./data/X_calib.csv\")\n",
    "#y_calib = pd.read_csv(\"./data/y_calib.csv\")"
   ]
  },
  {
   "cell_type": "markdown",
   "id": "997051c5-15bd-4b69-9786-c3001a3ce484",
   "metadata": {
    "papermill": {
     "duration": 0.021799,
     "end_time": "2025-07-30T21:35:57.679997",
     "exception": false,
     "start_time": "2025-07-30T21:35:57.658198",
     "status": "completed"
    },
    "tags": []
   },
   "source": [
    "# Splitting Data and Setting Training Data Size"
   ]
  },
  {
   "cell_type": "code",
   "execution_count": 14,
   "id": "e993b61f-042d-41a6-8c81-f55681f86335",
   "metadata": {
    "execution": {
     "iopub.execute_input": "2025-07-30T21:35:57.725912Z",
     "iopub.status.busy": "2025-07-30T21:35:57.725408Z",
     "iopub.status.idle": "2025-07-30T21:35:57.739115Z",
     "shell.execute_reply": "2025-07-30T21:35:57.738016Z"
    },
    "papermill": {
     "duration": 0.038854,
     "end_time": "2025-07-30T21:35:57.740984",
     "exception": false,
     "start_time": "2025-07-30T21:35:57.702130",
     "status": "completed"
    },
    "tags": []
   },
   "outputs": [],
   "source": [
    "def sample_by_year_size(df,\n",
    "                        training_year: str,\n",
    "                        training_size: str,\n",
    "                        random_state: int = 42):\n",
    "    # --- parse training_year into a list of int years ---\n",
    "    if \"_\" in training_year:\n",
    "        start_str, end_str = training_year.split(\"_\", 1)\n",
    "        start = int(start_str)\n",
    "        end   = int(end_str) if len(end_str) == 4 else (int(end_str) + (start // 100)*100)\n",
    "        years = list(range(start, end + 1))\n",
    "    else:\n",
    "        years = [int(training_year)]\n",
    "\n",
    "    df = df[df[\"year\"].isin(years)].reset_index(drop=True)\n",
    "\n",
    "    # --- map training_size to total number of samples ---\n",
    "    total_map = {\"25k\": 25_000, \"5k\": 5_000, \"1k\": 1_000}\n",
    "    if training_size not in total_map:\n",
    "        return df  # e.g. \"all\"\n",
    "\n",
    "    total_samples = total_map[training_size]\n",
    "    n_years       = len(years)\n",
    "    base          = total_samples // n_years\n",
    "    remainder     = total_samples % n_years\n",
    "\n",
    "    # --- build a dict: year -> how many to sample ---\n",
    "    # give +1 to the first `remainder` years in ascending order\n",
    "    quotas = {\n",
    "        year: base + (1 if idx < remainder else 0)\n",
    "        for idx, year in enumerate(sorted(years))\n",
    "    }\n",
    "\n",
    "    # --- sample per‐year according to the quota dict ---\n",
    "    sampled = (\n",
    "        df\n",
    "        .groupby(\"year\", group_keys=False)\n",
    "        .apply(lambda grp: grp.sample(\n",
    "            n=min(len(grp), quotas[grp.name]),\n",
    "            random_state=random_state))\n",
    "        .reset_index(drop=True)\n",
    "    )\n",
    "\n",
    "    return sampled"
   ]
  },
  {
   "cell_type": "code",
   "execution_count": 15,
   "id": "c0ccd338-0e02-41f3-a09d-f56f9266e3fb",
   "metadata": {
    "execution": {
     "iopub.execute_input": "2025-07-30T21:35:57.790419Z",
     "iopub.status.busy": "2025-07-30T21:35:57.789722Z",
     "iopub.status.idle": "2025-07-30T21:35:57.795781Z",
     "shell.execute_reply": "2025-07-30T21:35:57.794683Z"
    },
    "papermill": {
     "duration": 0.032892,
     "end_time": "2025-07-30T21:35:57.797939",
     "exception": false,
     "start_time": "2025-07-30T21:35:57.765047",
     "status": "completed"
    },
    "tags": []
   },
   "outputs": [],
   "source": [
    "#universe[\"training_size\"]"
   ]
  },
  {
   "cell_type": "code",
   "execution_count": 16,
   "id": "ca707fd7-8047-4acd-bfa5-66248fbbf8e6",
   "metadata": {
    "execution": {
     "iopub.execute_input": "2025-07-30T21:35:57.847479Z",
     "iopub.status.busy": "2025-07-30T21:35:57.846551Z",
     "iopub.status.idle": "2025-07-30T21:35:57.851902Z",
     "shell.execute_reply": "2025-07-30T21:35:57.850872Z"
    },
    "papermill": {
     "duration": 0.031954,
     "end_time": "2025-07-30T21:35:57.853982",
     "exception": false,
     "start_time": "2025-07-30T21:35:57.822028",
     "status": "completed"
    },
    "tags": []
   },
   "outputs": [],
   "source": [
    "#universe[\"training_year\"]"
   ]
  },
  {
   "cell_type": "code",
   "execution_count": 17,
   "id": "aea9c6ef-6f46-42c8-85eb-5a62025c1508",
   "metadata": {
    "execution": {
     "iopub.execute_input": "2025-07-30T21:35:57.904010Z",
     "iopub.status.busy": "2025-07-30T21:35:57.903217Z",
     "iopub.status.idle": "2025-07-30T21:35:58.500281Z",
     "shell.execute_reply": "2025-07-30T21:35:58.499222Z"
    },
    "papermill": {
     "duration": 0.624064,
     "end_time": "2025-07-30T21:35:58.502343",
     "exception": false,
     "start_time": "2025-07-30T21:35:57.878279",
     "status": "completed"
    },
    "tags": []
   },
   "outputs": [],
   "source": [
    "siab_train = sample_by_year_size(siab,\n",
    "                               training_year=universe[\"training_year\"],\n",
    "                               training_size=universe[\"training_size\"])"
   ]
  },
  {
   "cell_type": "code",
   "execution_count": 18,
   "id": "8d3afb32-789d-442c-8d5d-9f5aa8dd2eed",
   "metadata": {
    "execution": {
     "iopub.execute_input": "2025-07-30T21:35:58.546758Z",
     "iopub.status.busy": "2025-07-30T21:35:58.546311Z",
     "iopub.status.idle": "2025-07-30T21:35:58.551861Z",
     "shell.execute_reply": "2025-07-30T21:35:58.550847Z"
    },
    "papermill": {
     "duration": 0.03079,
     "end_time": "2025-07-30T21:35:58.554692",
     "exception": false,
     "start_time": "2025-07-30T21:35:58.523902",
     "status": "completed"
    },
    "tags": []
   },
   "outputs": [],
   "source": [
    "#siab_train.shape"
   ]
  },
  {
   "cell_type": "code",
   "execution_count": 19,
   "id": "d582db68-1a4c-47fb-84fc-08518dc1975a",
   "metadata": {
    "execution": {
     "iopub.execute_input": "2025-07-30T21:35:58.605462Z",
     "iopub.status.busy": "2025-07-30T21:35:58.605041Z",
     "iopub.status.idle": "2025-07-30T21:35:58.610099Z",
     "shell.execute_reply": "2025-07-30T21:35:58.609152Z"
    },
    "papermill": {
     "duration": 0.030704,
     "end_time": "2025-07-30T21:35:58.612914",
     "exception": false,
     "start_time": "2025-07-30T21:35:58.582210",
     "status": "completed"
    },
    "tags": []
   },
   "outputs": [],
   "source": [
    "#display(siab_train.groupby(\"year\").size())"
   ]
  },
  {
   "cell_type": "code",
   "execution_count": 20,
   "id": "a561edb4-d032-42cb-8256-22eac1111c64",
   "metadata": {
    "execution": {
     "iopub.execute_input": "2025-07-30T21:35:58.657463Z",
     "iopub.status.busy": "2025-07-30T21:35:58.656856Z",
     "iopub.status.idle": "2025-07-30T21:35:58.938608Z",
     "shell.execute_reply": "2025-07-30T21:35:58.937662Z"
    },
    "papermill": {
     "duration": 0.305612,
     "end_time": "2025-07-30T21:35:58.940326",
     "exception": false,
     "start_time": "2025-07-30T21:35:58.634714",
     "status": "completed"
    },
    "tags": []
   },
   "outputs": [],
   "source": [
    "#siab_train = siab_s[siab_s.year < 2015]\n",
    "siab_calib = siab[siab.year == 2015]\n",
    "siab_test = siab[siab.year == 2016]"
   ]
  },
  {
   "cell_type": "code",
   "execution_count": 21,
   "id": "472de16f-c3db-4916-846b-1f0de9cf1746",
   "metadata": {
    "execution": {
     "iopub.execute_input": "2025-07-30T21:35:59.001323Z",
     "iopub.status.busy": "2025-07-30T21:35:59.000941Z",
     "iopub.status.idle": "2025-07-30T21:35:59.023171Z",
     "shell.execute_reply": "2025-07-30T21:35:59.022125Z"
    },
    "papermill": {
     "duration": 0.045555,
     "end_time": "2025-07-30T21:35:59.025387",
     "exception": false,
     "start_time": "2025-07-30T21:35:58.979832",
     "status": "completed"
    },
    "tags": []
   },
   "outputs": [],
   "source": [
    "X_train = siab_train.iloc[:,4:164]\n",
    "y_train = siab_train.iloc[:, [3]]"
   ]
  },
  {
   "cell_type": "code",
   "execution_count": 22,
   "id": "828c96af-f43a-4ed6-ba47-8ac73a47d56c",
   "metadata": {
    "execution": {
     "iopub.execute_input": "2025-07-30T21:35:59.078648Z",
     "iopub.status.busy": "2025-07-30T21:35:59.078271Z",
     "iopub.status.idle": "2025-07-30T21:35:59.133516Z",
     "shell.execute_reply": "2025-07-30T21:35:59.132415Z"
    },
    "papermill": {
     "duration": 0.07691,
     "end_time": "2025-07-30T21:35:59.135311",
     "exception": false,
     "start_time": "2025-07-30T21:35:59.058401",
     "status": "completed"
    },
    "tags": []
   },
   "outputs": [],
   "source": [
    "X_calib = siab_calib.iloc[:,4:164]\n",
    "y_calib = siab_calib.iloc[:, [3]]"
   ]
  },
  {
   "cell_type": "code",
   "execution_count": 23,
   "id": "c34be9c3-6bd6-476e-acd3-845840e303be",
   "metadata": {
    "execution": {
     "iopub.execute_input": "2025-07-30T21:35:59.213238Z",
     "iopub.status.busy": "2025-07-30T21:35:59.212773Z",
     "iopub.status.idle": "2025-07-30T21:35:59.270606Z",
     "shell.execute_reply": "2025-07-30T21:35:59.269723Z"
    },
    "papermill": {
     "duration": 0.104174,
     "end_time": "2025-07-30T21:35:59.272341",
     "exception": false,
     "start_time": "2025-07-30T21:35:59.168167",
     "status": "completed"
    },
    "tags": []
   },
   "outputs": [],
   "source": [
    "X_test = siab_test.iloc[:,4:164]\n",
    "y_true = siab_test.iloc[:, [3]]"
   ]
  },
  {
   "cell_type": "markdown",
   "id": "9901737e-04df-44f0-9100-f5ad144ed040",
   "metadata": {
    "papermill": {
     "duration": 0.024834,
     "end_time": "2025-07-30T21:35:59.318859",
     "exception": false,
     "start_time": "2025-07-30T21:35:59.294025",
     "status": "completed"
    },
    "tags": []
   },
   "source": [
    "# Splitting Data and Setting Training Data Size OLD VERSION"
   ]
  },
  {
   "cell_type": "code",
   "execution_count": 24,
   "id": "acbc8f7d-8fc8-4e86-8c59-5dcb0f58384b",
   "metadata": {
    "execution": {
     "iopub.execute_input": "2025-07-30T21:35:59.414319Z",
     "iopub.status.busy": "2025-07-30T21:35:59.413856Z",
     "iopub.status.idle": "2025-07-30T21:35:59.420116Z",
     "shell.execute_reply": "2025-07-30T21:35:59.418993Z"
    },
    "papermill": {
     "duration": 0.05962,
     "end_time": "2025-07-30T21:35:59.421754",
     "exception": false,
     "start_time": "2025-07-30T21:35:59.362134",
     "status": "completed"
    },
    "tags": []
   },
   "outputs": [],
   "source": [
    "#def sample_by_year(df, training_size, random_state=42):\n",
    "#    if training_size == \"2014\":\n",
    "#        return df[df[\"year\"] == 2014].reset_index(drop=True)\n",
    "#    \n",
    "#    size_map = {\n",
    "#        \"25k\": 5000,\n",
    "#        \"5k\": 1000,\n",
    "#        \"1k\": 200\n",
    "#    }\n",
    "#\n",
    "#    if training_size not in size_map:\n",
    "#        return df.reset_index(drop=True)  # use all data\n",
    "#\n",
    "#    n_per_year = size_map[training_size]\n",
    "#    grouped = df.groupby(\"year\")\n",
    "#    sampled = grouped.apply(lambda x: x.sample(n=min(n_per_year, len(x)), random_state=random_state))\n",
    "#    return sampled.reset_index(drop=True)"
   ]
  },
  {
   "cell_type": "code",
   "execution_count": 25,
   "id": "6d931f52-beaf-43ff-9e78-9d44a448d54e",
   "metadata": {
    "execution": {
     "iopub.execute_input": "2025-07-30T21:35:59.467648Z",
     "iopub.status.busy": "2025-07-30T21:35:59.467232Z",
     "iopub.status.idle": "2025-07-30T21:35:59.475684Z",
     "shell.execute_reply": "2025-07-30T21:35:59.474831Z"
    },
    "papermill": {
     "duration": 0.034037,
     "end_time": "2025-07-30T21:35:59.477371",
     "exception": false,
     "start_time": "2025-07-30T21:35:59.443334",
     "status": "completed"
    },
    "tags": []
   },
   "outputs": [],
   "source": [
    "#siab_s = sample_by_year(siab, universe[\"training_size\"])"
   ]
  },
  {
   "cell_type": "code",
   "execution_count": 26,
   "id": "5db0a40e-a4e2-4920-be85-b12ae061d70d",
   "metadata": {
    "execution": {
     "iopub.execute_input": "2025-07-30T21:35:59.521740Z",
     "iopub.status.busy": "2025-07-30T21:35:59.521147Z",
     "iopub.status.idle": "2025-07-30T21:35:59.526688Z",
     "shell.execute_reply": "2025-07-30T21:35:59.525742Z"
    },
    "papermill": {
     "duration": 0.029524,
     "end_time": "2025-07-30T21:35:59.528399",
     "exception": false,
     "start_time": "2025-07-30T21:35:59.498875",
     "status": "completed"
    },
    "tags": []
   },
   "outputs": [],
   "source": [
    "#display(siab_s.groupby(\"year\").size())"
   ]
  },
  {
   "cell_type": "code",
   "execution_count": 27,
   "id": "e6c733c5",
   "metadata": {
    "execution": {
     "iopub.execute_input": "2025-07-30T21:35:59.574553Z",
     "iopub.status.busy": "2025-07-30T21:35:59.573864Z",
     "iopub.status.idle": "2025-07-30T21:35:59.707844Z",
     "shell.execute_reply": "2025-07-30T21:35:59.706653Z"
    },
    "papermill": {
     "duration": 0.158739,
     "end_time": "2025-07-30T21:35:59.710079",
     "exception": false,
     "start_time": "2025-07-30T21:35:59.551340",
     "status": "completed"
    },
    "tags": []
   },
   "outputs": [],
   "source": [
    "# Auxiliary data needed downstream in the pipeline\n",
    "\n",
    "org_train = X_train.copy()\n",
    "org_test = X_test.copy()\n",
    "org_calib = X_calib.copy()"
   ]
  },
  {
   "cell_type": "code",
   "execution_count": 28,
   "id": "1466abac-c6da-4492-a62f-4240ae3783af",
   "metadata": {
    "execution": {
     "iopub.execute_input": "2025-07-30T21:35:59.755323Z",
     "iopub.status.busy": "2025-07-30T21:35:59.754799Z",
     "iopub.status.idle": "2025-07-30T21:35:59.760871Z",
     "shell.execute_reply": "2025-07-30T21:35:59.759623Z"
    },
    "papermill": {
     "duration": 0.030849,
     "end_time": "2025-07-30T21:35:59.762550",
     "exception": false,
     "start_time": "2025-07-30T21:35:59.731701",
     "status": "completed"
    },
    "tags": []
   },
   "outputs": [],
   "source": [
    "# put in other script?\n",
    "# Group sizes\n",
    "\n",
    "#def calculate_percentages(df, df_name):\n",
    "#    total_entries = len(df)\n",
    "#\n",
    "#    female_pct = (df['frau1'] == 1).mean() * 100\n",
    "#    non_german_pct = ((df['maxdeutsch1'] == 0) & (df['maxdeutsch.Missing.'] == 0)).mean() * 100\n",
    "#    non_german_male_pct = ((df['frau1'] == 0) & (df['maxdeutsch1'] == 0) & (df['maxdeutsch.Missing.'] == 0)).mean() * 100\n",
    "#    non_german_female_pct = ((df['frau1'] == 1) & (df['maxdeutsch1'] == 0) & (df['maxdeutsch.Missing.'] == 0)).mean() * 100\n",
    "#\n",
    "#    print(f\"--- {df_name} ---\")\n",
    "#    print(f\"Female: {female_pct:.2f}%\")\n",
    "#    print(f\"Non-German: {non_german_pct:.2f}%\")\n",
    "#    print(f\"Non-German Male: {non_german_male_pct:.2f}%\")\n",
    "#    print(f\"Non-German Female: {non_german_female_pct:.2f}%\\n\")\n",
    "#\n",
    "## Calculate for each DataFrame\n",
    "#calculate_percentages(siab_calib, \"siab_calib\")\n",
    "#calculate_percentages(siab_test, \"siab_test\")\n",
    "#calculate_percentages(siab_train, \"siab_train\")"
   ]
  },
  {
   "cell_type": "markdown",
   "id": "0a4a1b33",
   "metadata": {
    "papermill": {
     "duration": 0.020315,
     "end_time": "2025-07-30T21:35:59.805267",
     "exception": false,
     "start_time": "2025-07-30T21:35:59.784952",
     "status": "completed"
    },
    "tags": []
   },
   "source": [
    "# Preprocessing Data"
   ]
  },
  {
   "cell_type": "code",
   "execution_count": 29,
   "id": "ca879031",
   "metadata": {
    "execution": {
     "iopub.execute_input": "2025-07-30T21:35:59.848983Z",
     "iopub.status.busy": "2025-07-30T21:35:59.848583Z",
     "iopub.status.idle": "2025-07-30T21:35:59.855300Z",
     "shell.execute_reply": "2025-07-30T21:35:59.854238Z"
    },
    "papermill": {
     "duration": 0.031417,
     "end_time": "2025-07-30T21:35:59.857032",
     "exception": false,
     "start_time": "2025-07-30T21:35:59.825615",
     "status": "completed"
    },
    "tags": []
   },
   "outputs": [],
   "source": [
    "# EXCLUDE PROTECTED FEATURES\n",
    "# ----------------------\n",
    "# \"exclude_features\": \"none\", # \"nationality\", \"sex\", \"nationality-sex\"\n",
    "\n",
    "excluded_features = universe[\"exclude_features\"].split(\"-\") # split, e.g.: \"nationality-sex\" -> [\"nationality\", \"sex\"]\n",
    "excluded_features_dictionary = {\n",
    "    \"nationality\": [\"maxdeutsch1\", \"maxdeutsch.Missing.\"],\n",
    "    \"sex\": [\"frau1\"],\n",
    "    \"age\": [\"age\"],\n",
    "}\n"
   ]
  },
  {
   "cell_type": "code",
   "execution_count": 30,
   "id": "b745ac60",
   "metadata": {
    "execution": {
     "iopub.execute_input": "2025-07-30T21:35:59.902453Z",
     "iopub.status.busy": "2025-07-30T21:35:59.902058Z",
     "iopub.status.idle": "2025-07-30T21:35:59.908216Z",
     "shell.execute_reply": "2025-07-30T21:35:59.907206Z"
    },
    "papermill": {
     "duration": 0.031886,
     "end_time": "2025-07-30T21:35:59.910905",
     "exception": false,
     "start_time": "2025-07-30T21:35:59.879019",
     "status": "completed"
    },
    "tags": []
   },
   "outputs": [],
   "source": [
    "# Code nice names to column names\n",
    "\n",
    "excluded_features_columns = [\n",
    "    excluded_features_dictionary[f] for f in excluded_features if len(f) > 0 and f != \"none\"\n",
    "]"
   ]
  },
  {
   "cell_type": "code",
   "execution_count": 31,
   "id": "f84f73a2",
   "metadata": {
    "execution": {
     "iopub.execute_input": "2025-07-30T21:35:59.973989Z",
     "iopub.status.busy": "2025-07-30T21:35:59.973587Z",
     "iopub.status.idle": "2025-07-30T21:35:59.979858Z",
     "shell.execute_reply": "2025-07-30T21:35:59.978858Z"
    },
    "papermill": {
     "duration": 0.038822,
     "end_time": "2025-07-30T21:35:59.982889",
     "exception": false,
     "start_time": "2025-07-30T21:35:59.944067",
     "status": "completed"
    },
    "tags": []
   },
   "outputs": [],
   "source": [
    "from utils import flatten_once\n",
    "\n",
    "excluded_features_columns = flatten_once(excluded_features_columns)"
   ]
  },
  {
   "cell_type": "code",
   "execution_count": 32,
   "id": "884dea22",
   "metadata": {
    "execution": {
     "iopub.execute_input": "2025-07-30T21:36:00.026833Z",
     "iopub.status.busy": "2025-07-30T21:36:00.026442Z",
     "iopub.status.idle": "2025-07-30T21:36:00.034237Z",
     "shell.execute_reply": "2025-07-30T21:36:00.033247Z"
    },
    "papermill": {
     "duration": 0.033459,
     "end_time": "2025-07-30T21:36:00.037819",
     "exception": false,
     "start_time": "2025-07-30T21:36:00.004360",
     "status": "completed"
    },
    "tags": []
   },
   "outputs": [
    {
     "name": "stdout",
     "output_type": "stream",
     "text": [
      "Dropping features: ['age']\n"
     ]
    }
   ],
   "source": [
    "if len(excluded_features_columns) > 0:\n",
    "    print(f\"Dropping features: {excluded_features_columns}\")\n",
    "    X_train.drop(excluded_features_columns, axis=1, inplace=True)"
   ]
  },
  {
   "cell_type": "code",
   "execution_count": 33,
   "id": "95ab8b16",
   "metadata": {
    "execution": {
     "iopub.execute_input": "2025-07-30T21:36:00.084093Z",
     "iopub.status.busy": "2025-07-30T21:36:00.083596Z",
     "iopub.status.idle": "2025-07-30T21:36:00.170637Z",
     "shell.execute_reply": "2025-07-30T21:36:00.169744Z"
    },
    "papermill": {
     "duration": 0.112631,
     "end_time": "2025-07-30T21:36:00.172853",
     "exception": false,
     "start_time": "2025-07-30T21:36:00.060222",
     "status": "completed"
    },
    "tags": []
   },
   "outputs": [
    {
     "name": "stdout",
     "output_type": "stream",
     "text": [
      "Dropping features: ['age']\n"
     ]
    }
   ],
   "source": [
    "if len(excluded_features_columns) > 0:\n",
    "    print(f\"Dropping features: {excluded_features_columns}\")\n",
    "    X_test.drop(excluded_features_columns, axis=1, inplace=True)"
   ]
  },
  {
   "cell_type": "code",
   "execution_count": 34,
   "id": "1853aaf5-fb9f-46cb-a2b5-8ea4ae2237e4",
   "metadata": {
    "execution": {
     "iopub.execute_input": "2025-07-30T21:36:00.237022Z",
     "iopub.status.busy": "2025-07-30T21:36:00.236590Z",
     "iopub.status.idle": "2025-07-30T21:36:00.291510Z",
     "shell.execute_reply": "2025-07-30T21:36:00.290589Z"
    },
    "papermill": {
     "duration": 0.096193,
     "end_time": "2025-07-30T21:36:00.293229",
     "exception": false,
     "start_time": "2025-07-30T21:36:00.197036",
     "status": "completed"
    },
    "tags": []
   },
   "outputs": [
    {
     "name": "stdout",
     "output_type": "stream",
     "text": [
      "Dropping features: ['age']\n"
     ]
    }
   ],
   "source": [
    "if len(excluded_features_columns) > 0:\n",
    "    print(f\"Dropping features: {excluded_features_columns}\")\n",
    "    X_calib.drop(excluded_features_columns, axis=1, inplace=True)"
   ]
  },
  {
   "cell_type": "code",
   "execution_count": 35,
   "id": "6727d079-03e5-481e-9d38-292a90b7a0a8",
   "metadata": {
    "execution": {
     "iopub.execute_input": "2025-07-30T21:36:00.346312Z",
     "iopub.status.busy": "2025-07-30T21:36:00.345749Z",
     "iopub.status.idle": "2025-07-30T21:36:00.351137Z",
     "shell.execute_reply": "2025-07-30T21:36:00.350004Z"
    },
    "papermill": {
     "duration": 0.028375,
     "end_time": "2025-07-30T21:36:00.353043",
     "exception": false,
     "start_time": "2025-07-30T21:36:00.324668",
     "status": "completed"
    },
    "tags": []
   },
   "outputs": [],
   "source": [
    "# SPLIT & STRATIFY DATA\n",
    "# ----------------------"
   ]
  },
  {
   "cell_type": "code",
   "execution_count": 36,
   "id": "76c4dc6d",
   "metadata": {
    "execution": {
     "iopub.execute_input": "2025-07-30T21:36:00.402319Z",
     "iopub.status.busy": "2025-07-30T21:36:00.401929Z",
     "iopub.status.idle": "2025-07-30T21:36:00.406970Z",
     "shell.execute_reply": "2025-07-30T21:36:00.406053Z"
    },
    "papermill": {
     "duration": 0.031231,
     "end_time": "2025-07-30T21:36:00.408809",
     "exception": false,
     "start_time": "2025-07-30T21:36:00.377578",
     "status": "completed"
    },
    "tags": []
   },
   "outputs": [],
   "source": [
    "# EXCLUDE CERTAIN SUBGROUPS\n",
    "# ----------------------\n",
    "\n",
    "mode = universe.get(\"exclude_subgroups\", \"keep-all\") \n",
    "# Fetches the exclude_subgroups setting from the universe dict.\n",
    "# Defaults to \"keep-all\" if the key is missing."
   ]
  },
  {
   "cell_type": "code",
   "execution_count": 37,
   "id": "21994072",
   "metadata": {
    "execution": {
     "iopub.execute_input": "2025-07-30T21:36:00.456249Z",
     "iopub.status.busy": "2025-07-30T21:36:00.455874Z",
     "iopub.status.idle": "2025-07-30T21:36:00.461198Z",
     "shell.execute_reply": "2025-07-30T21:36:00.460323Z"
    },
    "papermill": {
     "duration": 0.029521,
     "end_time": "2025-07-30T21:36:00.462455",
     "exception": false,
     "start_time": "2025-07-30T21:36:00.432934",
     "status": "completed"
    },
    "tags": []
   },
   "outputs": [],
   "source": [
    "if mode == \"keep-all\":\n",
    "    keep_mask = pd.Series(True, index=org_train.index)\n",
    "\n",
    "# org_train contains the original feature columns from features_org (in Simson)\n",
    "# features_org contains unprocessed features, for me X_train at beginning ???\n",
    "# For keep-all, creates a boolean Series (keep_mask) of all True, so no rows are removed.\n",
    "\n",
    "elif mode == \"drop-non-german\":\n",
    "    keep_mask = org_train[\"maxdeutsch1\"] == 1 # ??? what about missing values?\n",
    "\n",
    "else:\n",
    "    raise ValueError(f\"Unsupported mode for exclude_subgroups: {mode}\")\n"
   ]
  },
  {
   "cell_type": "code",
   "execution_count": 38,
   "id": "71651440",
   "metadata": {
    "execution": {
     "iopub.execute_input": "2025-07-30T21:36:00.505052Z",
     "iopub.status.busy": "2025-07-30T21:36:00.504571Z",
     "iopub.status.idle": "2025-07-30T21:36:00.511486Z",
     "shell.execute_reply": "2025-07-30T21:36:00.510618Z"
    },
    "papermill": {
     "duration": 0.03176,
     "end_time": "2025-07-30T21:36:00.513125",
     "exception": false,
     "start_time": "2025-07-30T21:36:00.481365",
     "status": "completed"
    },
    "tags": []
   },
   "outputs": [
    {
     "name": "stdout",
     "output_type": "stream",
     "text": [
      "Dropping 147 rows (14.70%) where mode='drop-non-german'\n"
     ]
    }
   ],
   "source": [
    "n_drop = (~keep_mask).sum() # Calculates how many rows are set to be dropped\n",
    "if n_drop > 0:\n",
    "    pct = n_drop / len(keep_mask) * 100\n",
    "    print(f\"Dropping {n_drop} rows ({pct:.2f}%) where mode='{mode}'\")"
   ]
  },
  {
   "cell_type": "code",
   "execution_count": 39,
   "id": "5fb8eee5",
   "metadata": {
    "execution": {
     "iopub.execute_input": "2025-07-30T21:36:00.561394Z",
     "iopub.status.busy": "2025-07-30T21:36:00.560595Z",
     "iopub.status.idle": "2025-07-30T21:36:00.566888Z",
     "shell.execute_reply": "2025-07-30T21:36:00.565851Z"
    },
    "papermill": {
     "duration": 0.032524,
     "end_time": "2025-07-30T21:36:00.568383",
     "exception": false,
     "start_time": "2025-07-30T21:36:00.535859",
     "status": "completed"
    },
    "tags": []
   },
   "outputs": [],
   "source": [
    "X_train = X_train[keep_mask]"
   ]
  },
  {
   "cell_type": "code",
   "execution_count": 40,
   "id": "b202bb3a",
   "metadata": {
    "execution": {
     "iopub.execute_input": "2025-07-30T21:36:00.615212Z",
     "iopub.status.busy": "2025-07-30T21:36:00.614727Z",
     "iopub.status.idle": "2025-07-30T21:36:00.620553Z",
     "shell.execute_reply": "2025-07-30T21:36:00.619640Z"
    },
    "papermill": {
     "duration": 0.032299,
     "end_time": "2025-07-30T21:36:00.622323",
     "exception": false,
     "start_time": "2025-07-30T21:36:00.590024",
     "status": "completed"
    },
    "tags": []
   },
   "outputs": [],
   "source": [
    "y_train = y_train[keep_mask]"
   ]
  },
  {
   "cell_type": "markdown",
   "id": "493e2ac3",
   "metadata": {
    "papermill": {
     "duration": 0.022653,
     "end_time": "2025-07-30T21:36:00.668982",
     "exception": false,
     "start_time": "2025-07-30T21:36:00.646329",
     "status": "completed"
    },
    "tags": []
   },
   "source": [
    "# Model Training"
   ]
  },
  {
   "cell_type": "code",
   "execution_count": 41,
   "id": "679e1268",
   "metadata": {
    "execution": {
     "iopub.execute_input": "2025-07-30T21:36:00.718065Z",
     "iopub.status.busy": "2025-07-30T21:36:00.717373Z",
     "iopub.status.idle": "2025-07-30T21:36:00.822655Z",
     "shell.execute_reply": "2025-07-30T21:36:00.821630Z"
    },
    "papermill": {
     "duration": 0.132067,
     "end_time": "2025-07-30T21:36:00.824788",
     "exception": false,
     "start_time": "2025-07-30T21:36:00.692721",
     "status": "completed"
    },
    "tags": []
   },
   "outputs": [],
   "source": [
    "from sklearn.linear_model import LogisticRegression\n",
    "from sklearn.ensemble import GradientBoostingClassifier, RandomForestClassifier\n",
    "\n",
    "if (universe[\"model\"] == \"logreg\"):\n",
    "    model = LogisticRegression() #penalty=\"none\") #, solver=\"newton-cg\", max_iter=1) # include random_state=19 ?\n",
    "elif (universe[\"model\"] == \"penalized_logreg\"):\n",
    "    model = LogisticRegression(penalty=\"l2\", C=1.0) #, solver=\"newton-cg\", max_iter=1)\n",
    "elif (universe[\"model\"] == \"rf\"):\n",
    "    model = RandomForestClassifier(n_estimators=100, n_jobs=-1)\n",
    "elif (universe[\"model\"] == \"gbm\"):\n",
    "    model = GradientBoostingClassifier()\n",
    "elif (universe[\"model\"] == \"elasticnet\"):\n",
    "    model = LogisticRegression(penalty = 'elasticnet', solver = 'saga', l1_ratio = 0.5, max_iter=5000) # which solver to use?\n",
    "else:\n",
    "    raise \"Unsupported universe.model\""
   ]
  },
  {
   "cell_type": "code",
   "execution_count": 42,
   "id": "0cc8f744",
   "metadata": {
    "execution": {
     "iopub.execute_input": "2025-07-30T21:36:00.874369Z",
     "iopub.status.busy": "2025-07-30T21:36:00.873952Z",
     "iopub.status.idle": "2025-07-30T21:36:00.880959Z",
     "shell.execute_reply": "2025-07-30T21:36:00.879740Z"
    },
    "papermill": {
     "duration": 0.033926,
     "end_time": "2025-07-30T21:36:00.883172",
     "exception": false,
     "start_time": "2025-07-30T21:36:00.849246",
     "status": "completed"
    },
    "tags": []
   },
   "outputs": [],
   "source": [
    "import numpy as np\n",
    "from sklearn.pipeline import Pipeline\n",
    "from sklearn.preprocessing import StandardScaler\n",
    "\n",
    "model = Pipeline([\n",
    "    #(\"continuous_processor\", continuous_processor),\n",
    "    #(\"categorical_preprocessor\", categorical_preprocessor),\n",
    "    (\"scale\", StandardScaler() if universe[\"scale\"] == \"scale\" else None), \n",
    "    (\"model\", model),\n",
    "])"
   ]
  },
  {
   "cell_type": "code",
   "execution_count": 43,
   "id": "9442c04d",
   "metadata": {
    "execution": {
     "iopub.execute_input": "2025-07-30T21:36:00.930818Z",
     "iopub.status.busy": "2025-07-30T21:36:00.930388Z",
     "iopub.status.idle": "2025-07-30T21:36:01.436001Z",
     "shell.execute_reply": "2025-07-30T21:36:01.435067Z"
    },
    "papermill": {
     "duration": 0.531349,
     "end_time": "2025-07-30T21:36:01.437808",
     "exception": false,
     "start_time": "2025-07-30T21:36:00.906459",
     "status": "completed"
    },
    "tags": []
   },
   "outputs": [
    {
     "data": {
      "text/html": [
       "<style>#sk-container-id-1 {color: black;background-color: white;}#sk-container-id-1 pre{padding: 0;}#sk-container-id-1 div.sk-toggleable {background-color: white;}#sk-container-id-1 label.sk-toggleable__label {cursor: pointer;display: block;width: 100%;margin-bottom: 0;padding: 0.3em;box-sizing: border-box;text-align: center;}#sk-container-id-1 label.sk-toggleable__label-arrow:before {content: \"▸\";float: left;margin-right: 0.25em;color: #696969;}#sk-container-id-1 label.sk-toggleable__label-arrow:hover:before {color: black;}#sk-container-id-1 div.sk-estimator:hover label.sk-toggleable__label-arrow:before {color: black;}#sk-container-id-1 div.sk-toggleable__content {max-height: 0;max-width: 0;overflow: hidden;text-align: left;background-color: #f0f8ff;}#sk-container-id-1 div.sk-toggleable__content pre {margin: 0.2em;color: black;border-radius: 0.25em;background-color: #f0f8ff;}#sk-container-id-1 input.sk-toggleable__control:checked~div.sk-toggleable__content {max-height: 200px;max-width: 100%;overflow: auto;}#sk-container-id-1 input.sk-toggleable__control:checked~label.sk-toggleable__label-arrow:before {content: \"▾\";}#sk-container-id-1 div.sk-estimator input.sk-toggleable__control:checked~label.sk-toggleable__label {background-color: #d4ebff;}#sk-container-id-1 div.sk-label input.sk-toggleable__control:checked~label.sk-toggleable__label {background-color: #d4ebff;}#sk-container-id-1 input.sk-hidden--visually {border: 0;clip: rect(1px 1px 1px 1px);clip: rect(1px, 1px, 1px, 1px);height: 1px;margin: -1px;overflow: hidden;padding: 0;position: absolute;width: 1px;}#sk-container-id-1 div.sk-estimator {font-family: monospace;background-color: #f0f8ff;border: 1px dotted black;border-radius: 0.25em;box-sizing: border-box;margin-bottom: 0.5em;}#sk-container-id-1 div.sk-estimator:hover {background-color: #d4ebff;}#sk-container-id-1 div.sk-parallel-item::after {content: \"\";width: 100%;border-bottom: 1px solid gray;flex-grow: 1;}#sk-container-id-1 div.sk-label:hover label.sk-toggleable__label {background-color: #d4ebff;}#sk-container-id-1 div.sk-serial::before {content: \"\";position: absolute;border-left: 1px solid gray;box-sizing: border-box;top: 0;bottom: 0;left: 50%;z-index: 0;}#sk-container-id-1 div.sk-serial {display: flex;flex-direction: column;align-items: center;background-color: white;padding-right: 0.2em;padding-left: 0.2em;position: relative;}#sk-container-id-1 div.sk-item {position: relative;z-index: 1;}#sk-container-id-1 div.sk-parallel {display: flex;align-items: stretch;justify-content: center;background-color: white;position: relative;}#sk-container-id-1 div.sk-item::before, #sk-container-id-1 div.sk-parallel-item::before {content: \"\";position: absolute;border-left: 1px solid gray;box-sizing: border-box;top: 0;bottom: 0;left: 50%;z-index: -1;}#sk-container-id-1 div.sk-parallel-item {display: flex;flex-direction: column;z-index: 1;position: relative;background-color: white;}#sk-container-id-1 div.sk-parallel-item:first-child::after {align-self: flex-end;width: 50%;}#sk-container-id-1 div.sk-parallel-item:last-child::after {align-self: flex-start;width: 50%;}#sk-container-id-1 div.sk-parallel-item:only-child::after {width: 0;}#sk-container-id-1 div.sk-dashed-wrapped {border: 1px dashed gray;margin: 0 0.4em 0.5em 0.4em;box-sizing: border-box;padding-bottom: 0.4em;background-color: white;}#sk-container-id-1 div.sk-label label {font-family: monospace;font-weight: bold;display: inline-block;line-height: 1.2em;}#sk-container-id-1 div.sk-label-container {text-align: center;}#sk-container-id-1 div.sk-container {/* jupyter's `normalize.less` sets `[hidden] { display: none; }` but bootstrap.min.css set `[hidden] { display: none !important; }` so we also need the `!important` here to be able to override the default hidden behavior on the sphinx rendered scikit-learn.org. See: https://github.com/scikit-learn/scikit-learn/issues/21755 */display: inline-block !important;position: relative;}#sk-container-id-1 div.sk-text-repr-fallback {display: none;}</style><div id=\"sk-container-id-1\" class=\"sk-top-container\"><div class=\"sk-text-repr-fallback\"><pre>Pipeline(steps=[(&#x27;scale&#x27;, StandardScaler()),\n",
       "                (&#x27;model&#x27;, RandomForestClassifier(n_jobs=-1))])</pre><b>In a Jupyter environment, please rerun this cell to show the HTML representation or trust the notebook. <br />On GitHub, the HTML representation is unable to render, please try loading this page with nbviewer.org.</b></div><div class=\"sk-container\" hidden><div class=\"sk-item sk-dashed-wrapped\"><div class=\"sk-label-container\"><div class=\"sk-label sk-toggleable\"><input class=\"sk-toggleable__control sk-hidden--visually\" id=\"sk-estimator-id-1\" type=\"checkbox\" ><label for=\"sk-estimator-id-1\" class=\"sk-toggleable__label sk-toggleable__label-arrow\">Pipeline</label><div class=\"sk-toggleable__content\"><pre>Pipeline(steps=[(&#x27;scale&#x27;, StandardScaler()),\n",
       "                (&#x27;model&#x27;, RandomForestClassifier(n_jobs=-1))])</pre></div></div></div><div class=\"sk-serial\"><div class=\"sk-item\"><div class=\"sk-estimator sk-toggleable\"><input class=\"sk-toggleable__control sk-hidden--visually\" id=\"sk-estimator-id-2\" type=\"checkbox\" ><label for=\"sk-estimator-id-2\" class=\"sk-toggleable__label sk-toggleable__label-arrow\">StandardScaler</label><div class=\"sk-toggleable__content\"><pre>StandardScaler()</pre></div></div></div><div class=\"sk-item\"><div class=\"sk-estimator sk-toggleable\"><input class=\"sk-toggleable__control sk-hidden--visually\" id=\"sk-estimator-id-3\" type=\"checkbox\" ><label for=\"sk-estimator-id-3\" class=\"sk-toggleable__label sk-toggleable__label-arrow\">RandomForestClassifier</label><div class=\"sk-toggleable__content\"><pre>RandomForestClassifier(n_jobs=-1)</pre></div></div></div></div></div></div></div>"
      ],
      "text/plain": [
       "Pipeline(steps=[('scale', StandardScaler()),\n",
       "                ('model', RandomForestClassifier(n_jobs=-1))])"
      ]
     },
     "execution_count": 43,
     "metadata": {},
     "output_type": "execute_result"
    }
   ],
   "source": [
    "model.fit(X_train, y_train.values.ravel())"
   ]
  },
  {
   "cell_type": "code",
   "execution_count": 44,
   "id": "af59f8c0",
   "metadata": {
    "execution": {
     "iopub.execute_input": "2025-07-30T21:36:01.490159Z",
     "iopub.status.busy": "2025-07-30T21:36:01.489629Z",
     "iopub.status.idle": "2025-07-30T21:36:01.495398Z",
     "shell.execute_reply": "2025-07-30T21:36:01.494460Z"
    },
    "papermill": {
     "duration": 0.034103,
     "end_time": "2025-07-30T21:36:01.496928",
     "exception": false,
     "start_time": "2025-07-30T21:36:01.462825",
     "status": "completed"
    },
    "tags": []
   },
   "outputs": [],
   "source": [
    "from fairness_multiverse.universe import predict_w_threshold"
   ]
  },
  {
   "cell_type": "code",
   "execution_count": 45,
   "id": "a7cf2e16",
   "metadata": {
    "execution": {
     "iopub.execute_input": "2025-07-30T21:36:01.551207Z",
     "iopub.status.busy": "2025-07-30T21:36:01.550536Z",
     "iopub.status.idle": "2025-07-30T21:36:02.315446Z",
     "shell.execute_reply": "2025-07-30T21:36:02.314694Z"
    },
    "papermill": {
     "duration": 0.794486,
     "end_time": "2025-07-30T21:36:02.316822",
     "exception": false,
     "start_time": "2025-07-30T21:36:01.522336",
     "status": "completed"
    },
    "tags": []
   },
   "outputs": [
    {
     "data": {
      "text/plain": [
       "0.855645970348902"
      ]
     },
     "execution_count": 45,
     "metadata": {},
     "output_type": "execute_result"
    }
   ],
   "source": [
    "probs_test = model.predict_proba(X_test)\n",
    "\n",
    "'''\n",
    "Below code returns a boolean array (or binary 0/1 array depending on how it’s used) where each element \n",
    "is True if the probability of class 1 is greater than or equal to the threshold, and False otherwise.\n",
    "'''\n",
    "y_pred_default = predict_w_threshold(probs_test, 0.5)\n",
    "\n",
    "from sklearn.metrics import accuracy_score\n",
    "\n",
    "# Naive prediction\n",
    "accuracy_score(y_true = y_true, y_pred = y_pred_default)"
   ]
  },
  {
   "cell_type": "code",
   "execution_count": 46,
   "id": "081964c3",
   "metadata": {
    "execution": {
     "iopub.execute_input": "2025-07-30T21:36:02.344128Z",
     "iopub.status.busy": "2025-07-30T21:36:02.343716Z",
     "iopub.status.idle": "2025-07-30T21:36:03.044397Z",
     "shell.execute_reply": "2025-07-30T21:36:03.043419Z"
    },
    "papermill": {
     "duration": 0.716089,
     "end_time": "2025-07-30T21:36:03.046187",
     "exception": false,
     "start_time": "2025-07-30T21:36:02.330098",
     "status": "completed"
    },
    "tags": []
   },
   "outputs": [
    {
     "data": {
      "text/plain": [
       "array([0, 0, 0, ..., 0, 0, 0])"
      ]
     },
     "execution_count": 46,
     "metadata": {},
     "output_type": "execute_result"
    }
   ],
   "source": [
    "model.predict(X_test)"
   ]
  },
  {
   "cell_type": "markdown",
   "id": "56c9705b",
   "metadata": {
    "papermill": {
     "duration": 0.012985,
     "end_time": "2025-07-30T21:36:03.077642",
     "exception": false,
     "start_time": "2025-07-30T21:36:03.064657",
     "status": "completed"
    },
    "tags": []
   },
   "source": [
    "# Conformal Prediction"
   ]
  },
  {
   "cell_type": "code",
   "execution_count": 47,
   "id": "160ec6ff",
   "metadata": {
    "execution": {
     "iopub.execute_input": "2025-07-30T21:36:03.103361Z",
     "iopub.status.busy": "2025-07-30T21:36:03.103014Z",
     "iopub.status.idle": "2025-07-30T21:36:03.107994Z",
     "shell.execute_reply": "2025-07-30T21:36:03.106860Z"
    },
    "papermill": {
     "duration": 0.019956,
     "end_time": "2025-07-30T21:36:03.109679",
     "exception": false,
     "start_time": "2025-07-30T21:36:03.089723",
     "status": "completed"
    },
    "tags": []
   },
   "outputs": [],
   "source": [
    "# Miscoverage level for conformal prediction (10% allowed error rate => 90% target coverage)\n",
    "alpha = 0.1"
   ]
  },
  {
   "cell_type": "code",
   "execution_count": 48,
   "id": "eadf4555-3dd3-440e-8e35-f82a4ad9f855",
   "metadata": {
    "execution": {
     "iopub.execute_input": "2025-07-30T21:36:03.157187Z",
     "iopub.status.busy": "2025-07-30T21:36:03.156851Z",
     "iopub.status.idle": "2025-07-30T21:36:03.919387Z",
     "shell.execute_reply": "2025-07-30T21:36:03.918130Z"
    },
    "papermill": {
     "duration": 0.787577,
     "end_time": "2025-07-30T21:36:03.921617",
     "exception": false,
     "start_time": "2025-07-30T21:36:03.134040",
     "status": "completed"
    },
    "tags": []
   },
   "outputs": [],
   "source": [
    "probs_calib = model.predict_proba(X_calib)"
   ]
  },
  {
   "cell_type": "code",
   "execution_count": 49,
   "id": "2ed93547-6d5d-4983-9b36-1ecb300da49a",
   "metadata": {
    "execution": {
     "iopub.execute_input": "2025-07-30T21:36:03.975688Z",
     "iopub.status.busy": "2025-07-30T21:36:03.975117Z",
     "iopub.status.idle": "2025-07-30T21:36:03.981139Z",
     "shell.execute_reply": "2025-07-30T21:36:03.980101Z"
    },
    "papermill": {
     "duration": 0.034642,
     "end_time": "2025-07-30T21:36:03.982905",
     "exception": false,
     "start_time": "2025-07-30T21:36:03.948263",
     "status": "completed"
    },
    "tags": []
   },
   "outputs": [],
   "source": [
    "y_calib = y_calib.values.ravel().astype(int)"
   ]
  },
  {
   "cell_type": "code",
   "execution_count": 50,
   "id": "65d1320d-f588-4b38-9072-62af1ae97f7d",
   "metadata": {
    "execution": {
     "iopub.execute_input": "2025-07-30T21:36:04.039040Z",
     "iopub.status.busy": "2025-07-30T21:36:04.038125Z",
     "iopub.status.idle": "2025-07-30T21:36:04.045672Z",
     "shell.execute_reply": "2025-07-30T21:36:04.044611Z"
    },
    "papermill": {
     "duration": 0.037446,
     "end_time": "2025-07-30T21:36:04.047398",
     "exception": false,
     "start_time": "2025-07-30T21:36:04.009952",
     "status": "completed"
    },
    "tags": []
   },
   "outputs": [],
   "source": [
    "from fairness_multiverse.conformal import compute_nc_scores\n",
    "\n",
    "# Compute nonconformity scores on calibration set (1 - probability of true class)\n",
    "nc_scores = compute_nc_scores(probs_calib, y_calib)"
   ]
  },
  {
   "cell_type": "code",
   "execution_count": 51,
   "id": "df3b8ca3-53b7-43d5-9667-7c85da7aeda2",
   "metadata": {
    "execution": {
     "iopub.execute_input": "2025-07-30T21:36:04.084299Z",
     "iopub.status.busy": "2025-07-30T21:36:04.083923Z",
     "iopub.status.idle": "2025-07-30T21:36:04.089466Z",
     "shell.execute_reply": "2025-07-30T21:36:04.088708Z"
    },
    "papermill": {
     "duration": 0.021569,
     "end_time": "2025-07-30T21:36:04.090773",
     "exception": false,
     "start_time": "2025-07-30T21:36:04.069204",
     "status": "completed"
    },
    "tags": []
   },
   "outputs": [],
   "source": [
    "from fairness_multiverse.conformal import find_threshold\n",
    "\n",
    "# Find conformal threshold q_hat for the given alpha (split conformal method)\n",
    "q_hat = find_threshold(nc_scores, alpha)"
   ]
  },
  {
   "cell_type": "code",
   "execution_count": 52,
   "id": "4d29e6c1-0ef6-4aa4-b8fe-4fe79b0d033a",
   "metadata": {
    "execution": {
     "iopub.execute_input": "2025-07-30T21:36:04.120147Z",
     "iopub.status.busy": "2025-07-30T21:36:04.119683Z",
     "iopub.status.idle": "2025-07-30T21:36:04.127558Z",
     "shell.execute_reply": "2025-07-30T21:36:04.126439Z"
    },
    "papermill": {
     "duration": 0.024196,
     "end_time": "2025-07-30T21:36:04.129402",
     "exception": false,
     "start_time": "2025-07-30T21:36:04.105206",
     "status": "completed"
    },
    "tags": []
   },
   "outputs": [
    {
     "data": {
      "text/plain": [
       "0.6699999999999999"
      ]
     },
     "execution_count": 52,
     "metadata": {},
     "output_type": "execute_result"
    }
   ],
   "source": [
    "q_hat"
   ]
  },
  {
   "cell_type": "code",
   "execution_count": 53,
   "id": "92460794-cdac-4be2-ba28-f28c0515a6fb",
   "metadata": {
    "execution": {
     "iopub.execute_input": "2025-07-30T21:36:04.160763Z",
     "iopub.status.busy": "2025-07-30T21:36:04.160393Z",
     "iopub.status.idle": "2025-07-30T21:36:05.616807Z",
     "shell.execute_reply": "2025-07-30T21:36:05.615841Z"
    },
    "papermill": {
     "duration": 1.473191,
     "end_time": "2025-07-30T21:36:05.618708",
     "exception": false,
     "start_time": "2025-07-30T21:36:04.145517",
     "status": "completed"
    },
    "tags": []
   },
   "outputs": [],
   "source": [
    "from fairness_multiverse.conformal import predict_conformal_sets\n",
    "\n",
    "# Generate prediction sets for each test example\n",
    "pred_sets = predict_conformal_sets(model, X_test, q_hat)"
   ]
  },
  {
   "cell_type": "code",
   "execution_count": 54,
   "id": "d90c9a65-e6db-4f5d-80cd-e68fb7e46829",
   "metadata": {
    "execution": {
     "iopub.execute_input": "2025-07-30T21:36:05.682049Z",
     "iopub.status.busy": "2025-07-30T21:36:05.681207Z",
     "iopub.status.idle": "2025-07-30T21:36:05.688900Z",
     "shell.execute_reply": "2025-07-30T21:36:05.687614Z"
    },
    "papermill": {
     "duration": 0.044776,
     "end_time": "2025-07-30T21:36:05.691166",
     "exception": false,
     "start_time": "2025-07-30T21:36:05.646390",
     "status": "completed"
    },
    "tags": []
   },
   "outputs": [],
   "source": [
    "y_true = y_true.squeeze()"
   ]
  },
  {
   "cell_type": "code",
   "execution_count": 55,
   "id": "3a58a54a-1e68-46b9-927a-df01f18aebc8",
   "metadata": {
    "execution": {
     "iopub.execute_input": "2025-07-30T21:36:05.760201Z",
     "iopub.status.busy": "2025-07-30T21:36:05.759408Z",
     "iopub.status.idle": "2025-07-30T21:36:06.755979Z",
     "shell.execute_reply": "2025-07-30T21:36:06.754960Z"
    },
    "papermill": {
     "duration": 1.033076,
     "end_time": "2025-07-30T21:36:06.757859",
     "exception": false,
     "start_time": "2025-07-30T21:36:05.724783",
     "status": "completed"
    },
    "tags": []
   },
   "outputs": [],
   "source": [
    "from fairness_multiverse.conformal import evaluate_sets\n",
    "\n",
    "# Evaluate coverage and average set size on test data\n",
    "metrics = evaluate_sets(pred_sets, y_true)"
   ]
  },
  {
   "cell_type": "markdown",
   "id": "2b569c12-9aaa-4c88-98c9-bbcd0cf3ebb8",
   "metadata": {
    "papermill": {
     "duration": 0.026776,
     "end_time": "2025-07-30T21:36:06.809328",
     "exception": false,
     "start_time": "2025-07-30T21:36:06.782552",
     "status": "completed"
    },
    "tags": []
   },
   "source": [
    "# CP Metrics"
   ]
  },
  {
   "cell_type": "code",
   "execution_count": 56,
   "id": "5ce0a5cb-201f-45a0-ade5-94c7f0bd6095",
   "metadata": {
    "execution": {
     "iopub.execute_input": "2025-07-30T21:36:06.859693Z",
     "iopub.status.busy": "2025-07-30T21:36:06.858791Z",
     "iopub.status.idle": "2025-07-30T21:36:06.867318Z",
     "shell.execute_reply": "2025-07-30T21:36:06.866304Z"
    },
    "papermill": {
     "duration": 0.036164,
     "end_time": "2025-07-30T21:36:06.869272",
     "exception": false,
     "start_time": "2025-07-30T21:36:06.833108",
     "status": "completed"
    },
    "tags": []
   },
   "outputs": [
    {
     "data": {
      "text/plain": [
       "{'coverage': 0.9140118158510757, 'avg_size': 1.1826217812952848}"
      ]
     },
     "execution_count": 56,
     "metadata": {},
     "output_type": "execute_result"
    }
   ],
   "source": [
    "metrics"
   ]
  },
  {
   "cell_type": "code",
   "execution_count": 57,
   "id": "9b9a838d-31c9-430b-ae14-12baee460d17",
   "metadata": {
    "execution": {
     "iopub.execute_input": "2025-07-30T21:36:06.934327Z",
     "iopub.status.busy": "2025-07-30T21:36:06.933637Z",
     "iopub.status.idle": "2025-07-30T21:36:06.941114Z",
     "shell.execute_reply": "2025-07-30T21:36:06.940080Z"
    },
    "papermill": {
     "duration": 0.041964,
     "end_time": "2025-07-30T21:36:06.942908",
     "exception": false,
     "start_time": "2025-07-30T21:36:06.900944",
     "status": "completed"
    },
    "tags": []
   },
   "outputs": [],
   "source": [
    "example_universe = universe.copy()\n",
    "universe_training_year = example_universe.get(\"training_year\")\n",
    "universe_training_size = example_universe.get(\"training_size\")\n",
    "universe_scale = example_universe.get(\"scale\")\n",
    "universe_model = example_universe.get(\"model\")\n",
    "universe_exclude_features = example_universe.get(\"exclude_features\")\n",
    "universe_exclude_subgroups = example_universe.get(\"exclude_subgroups\")"
   ]
  },
  {
   "cell_type": "code",
   "execution_count": 58,
   "id": "f4b6a8ac-9dc0-4245-8a91-5b3b5999c4f9",
   "metadata": {
    "execution": {
     "iopub.execute_input": "2025-07-30T21:36:07.002974Z",
     "iopub.status.busy": "2025-07-30T21:36:07.002460Z",
     "iopub.status.idle": "2025-07-30T21:36:07.009520Z",
     "shell.execute_reply": "2025-07-30T21:36:07.008460Z"
    },
    "papermill": {
     "duration": 0.042707,
     "end_time": "2025-07-30T21:36:07.011475",
     "exception": false,
     "start_time": "2025-07-30T21:36:06.968768",
     "status": "completed"
    },
    "tags": []
   },
   "outputs": [],
   "source": [
    "cp_metrics_dict = {\n",
    "    \"universe_id\": [universe_id],\n",
    "    \"universe_training_year\": [universe_training_year],\n",
    "    \"universe_training_size\": [universe_training_size],\n",
    "    \"universe_scale\": [universe_scale],\n",
    "    \"universe_model\": [universe_model],\n",
    "    \"universe_exclude_features\": [universe_exclude_features],\n",
    "    \"universe_exclude_subgroups\": [universe_exclude_subgroups],\n",
    "    \"q_hat\": [q_hat],\n",
    "    \"coverage\": [metrics[\"coverage\"]],\n",
    "    \"avg_size\": [metrics[\"avg_size\"]],\n",
    "}"
   ]
  },
  {
   "cell_type": "code",
   "execution_count": 59,
   "id": "908acbb1-0371-4915-85ca-3fa520d2efe2",
   "metadata": {
    "execution": {
     "iopub.execute_input": "2025-07-30T21:36:07.077381Z",
     "iopub.status.busy": "2025-07-30T21:36:07.076417Z",
     "iopub.status.idle": "2025-07-30T21:36:07.084628Z",
     "shell.execute_reply": "2025-07-30T21:36:07.083595Z"
    },
    "papermill": {
     "duration": 0.042707,
     "end_time": "2025-07-30T21:36:07.086658",
     "exception": false,
     "start_time": "2025-07-30T21:36:07.043951",
     "status": "completed"
    },
    "tags": []
   },
   "outputs": [
    {
     "data": {
      "text/plain": [
       "{'universe_id': ['214ff89a7cdbc9f29cf98c65c7a34ac3'],\n",
       " 'universe_training_year': ['2012_14'],\n",
       " 'universe_training_size': ['1k'],\n",
       " 'universe_scale': ['scale'],\n",
       " 'universe_model': ['rf'],\n",
       " 'universe_exclude_features': ['age'],\n",
       " 'universe_exclude_subgroups': ['drop-non-german'],\n",
       " 'q_hat': [0.6699999999999999],\n",
       " 'coverage': [0.9140118158510757],\n",
       " 'avg_size': [1.1826217812952848]}"
      ]
     },
     "execution_count": 59,
     "metadata": {},
     "output_type": "execute_result"
    }
   ],
   "source": [
    "cp_metrics_dict"
   ]
  },
  {
   "cell_type": "code",
   "execution_count": 60,
   "id": "33007efc-14e9-4ec6-97ac-56a455c82265",
   "metadata": {
    "execution": {
     "iopub.execute_input": "2025-07-30T21:36:07.153672Z",
     "iopub.status.busy": "2025-07-30T21:36:07.152935Z",
     "iopub.status.idle": "2025-07-30T21:36:07.159947Z",
     "shell.execute_reply": "2025-07-30T21:36:07.158902Z"
    },
    "papermill": {
     "duration": 0.042805,
     "end_time": "2025-07-30T21:36:07.162190",
     "exception": false,
     "start_time": "2025-07-30T21:36:07.119385",
     "status": "completed"
    },
    "tags": []
   },
   "outputs": [],
   "source": [
    "cp_metrics_df = pd.DataFrame(cp_metrics_dict)"
   ]
  },
  {
   "cell_type": "code",
   "execution_count": 61,
   "id": "db12611b-57b2-4910-b9d0-355adfd6e7bf",
   "metadata": {
    "execution": {
     "iopub.execute_input": "2025-07-30T21:36:07.229967Z",
     "iopub.status.busy": "2025-07-30T21:36:07.229490Z",
     "iopub.status.idle": "2025-07-30T21:36:07.253934Z",
     "shell.execute_reply": "2025-07-30T21:36:07.252879Z"
    },
    "papermill": {
     "duration": 0.061024,
     "end_time": "2025-07-30T21:36:07.255813",
     "exception": false,
     "start_time": "2025-07-30T21:36:07.194789",
     "status": "completed"
    },
    "tags": []
   },
   "outputs": [
    {
     "data": {
      "text/html": [
       "<div>\n",
       "<style scoped>\n",
       "    .dataframe tbody tr th:only-of-type {\n",
       "        vertical-align: middle;\n",
       "    }\n",
       "\n",
       "    .dataframe tbody tr th {\n",
       "        vertical-align: top;\n",
       "    }\n",
       "\n",
       "    .dataframe thead th {\n",
       "        text-align: right;\n",
       "    }\n",
       "</style>\n",
       "<table border=\"1\" class=\"dataframe\">\n",
       "  <thead>\n",
       "    <tr style=\"text-align: right;\">\n",
       "      <th></th>\n",
       "      <th>universe_id</th>\n",
       "      <th>universe_training_year</th>\n",
       "      <th>universe_training_size</th>\n",
       "      <th>universe_scale</th>\n",
       "      <th>universe_model</th>\n",
       "      <th>universe_exclude_features</th>\n",
       "      <th>universe_exclude_subgroups</th>\n",
       "      <th>q_hat</th>\n",
       "      <th>coverage</th>\n",
       "      <th>avg_size</th>\n",
       "    </tr>\n",
       "  </thead>\n",
       "  <tbody>\n",
       "    <tr>\n",
       "      <th>0</th>\n",
       "      <td>214ff89a7cdbc9f29cf98c65c7a34ac3</td>\n",
       "      <td>2012_14</td>\n",
       "      <td>1k</td>\n",
       "      <td>scale</td>\n",
       "      <td>rf</td>\n",
       "      <td>age</td>\n",
       "      <td>drop-non-german</td>\n",
       "      <td>0.67</td>\n",
       "      <td>0.914012</td>\n",
       "      <td>1.182622</td>\n",
       "    </tr>\n",
       "  </tbody>\n",
       "</table>\n",
       "</div>"
      ],
      "text/plain": [
       "                        universe_id universe_training_year  \\\n",
       "0  214ff89a7cdbc9f29cf98c65c7a34ac3                2012_14   \n",
       "\n",
       "  universe_training_size universe_scale universe_model  \\\n",
       "0                     1k          scale             rf   \n",
       "\n",
       "  universe_exclude_features universe_exclude_subgroups  q_hat  coverage  \\\n",
       "0                       age            drop-non-german   0.67  0.914012   \n",
       "\n",
       "   avg_size  \n",
       "0  1.182622  "
      ]
     },
     "execution_count": 61,
     "metadata": {},
     "output_type": "execute_result"
    }
   ],
   "source": [
    "cp_metrics_df"
   ]
  },
  {
   "cell_type": "code",
   "execution_count": 62,
   "id": "b7fbde55-a0a1-47e4-9af6-fe4a17fa8c61",
   "metadata": {
    "execution": {
     "iopub.execute_input": "2025-07-30T21:36:07.331364Z",
     "iopub.status.busy": "2025-07-30T21:36:07.330936Z",
     "iopub.status.idle": "2025-07-30T21:36:07.336970Z",
     "shell.execute_reply": "2025-07-30T21:36:07.335696Z"
    },
    "papermill": {
     "duration": 0.036295,
     "end_time": "2025-07-30T21:36:07.338769",
     "exception": false,
     "start_time": "2025-07-30T21:36:07.302474",
     "status": "completed"
    },
    "tags": []
   },
   "outputs": [],
   "source": [
    "# Conditional Coverage & looking at subgroups"
   ]
  },
  {
   "cell_type": "code",
   "execution_count": 63,
   "id": "027ae886-68dd-4141-96c7-805a5450e1ef",
   "metadata": {
    "execution": {
     "iopub.execute_input": "2025-07-30T21:36:07.396166Z",
     "iopub.status.busy": "2025-07-30T21:36:07.395643Z",
     "iopub.status.idle": "2025-07-30T21:36:07.681116Z",
     "shell.execute_reply": "2025-07-30T21:36:07.680143Z"
    },
    "papermill": {
     "duration": 0.316342,
     "end_time": "2025-07-30T21:36:07.683000",
     "exception": false,
     "start_time": "2025-07-30T21:36:07.366658",
     "status": "completed"
    },
    "tags": []
   },
   "outputs": [],
   "source": [
    "from fairness_multiverse.conformal import build_cp_groups\n",
    "\n",
    "cp_groups_df = build_cp_groups(pred_sets, y_true, X_test.index, org_test)\n",
    "#needs universe_id and setting"
   ]
  },
  {
   "cell_type": "code",
   "execution_count": 64,
   "id": "01d5802c-663a-4d1f-9d69-e036faaffbf7",
   "metadata": {
    "execution": {
     "iopub.execute_input": "2025-07-30T21:36:07.739082Z",
     "iopub.status.busy": "2025-07-30T21:36:07.738576Z",
     "iopub.status.idle": "2025-07-30T21:36:07.743511Z",
     "shell.execute_reply": "2025-07-30T21:36:07.742506Z"
    },
    "papermill": {
     "duration": 0.035315,
     "end_time": "2025-07-30T21:36:07.745367",
     "exception": false,
     "start_time": "2025-07-30T21:36:07.710052",
     "status": "completed"
    },
    "tags": []
   },
   "outputs": [],
   "source": [
    "#delete\n",
    "#cp_groups_df"
   ]
  },
  {
   "cell_type": "code",
   "execution_count": 65,
   "id": "fa424af1-d1eb-443d-b717-2d279ada8408",
   "metadata": {
    "execution": {
     "iopub.execute_input": "2025-07-30T21:36:07.799302Z",
     "iopub.status.busy": "2025-07-30T21:36:07.798838Z",
     "iopub.status.idle": "2025-07-30T21:36:07.803825Z",
     "shell.execute_reply": "2025-07-30T21:36:07.802946Z"
    },
    "papermill": {
     "duration": 0.034338,
     "end_time": "2025-07-30T21:36:07.805480",
     "exception": false,
     "start_time": "2025-07-30T21:36:07.771142",
     "status": "completed"
    },
    "tags": []
   },
   "outputs": [],
   "source": [
    "#delete\n",
    "#percentage = (cp_groups_df['nongerman_female'] == 1).mean() * 100\n",
    "#print(percentage)\n"
   ]
  },
  {
   "cell_type": "code",
   "execution_count": 66,
   "id": "6cbdab96-b2b2-45af-ad54-d0516db2e28d",
   "metadata": {
    "execution": {
     "iopub.execute_input": "2025-07-30T21:36:07.861887Z",
     "iopub.status.busy": "2025-07-30T21:36:07.861014Z",
     "iopub.status.idle": "2025-07-30T21:36:09.565094Z",
     "shell.execute_reply": "2025-07-30T21:36:09.563959Z"
    },
    "papermill": {
     "duration": 1.734855,
     "end_time": "2025-07-30T21:36:09.566469",
     "exception": false,
     "start_time": "2025-07-30T21:36:07.831614",
     "status": "completed"
    },
    "tags": []
   },
   "outputs": [],
   "source": [
    "# Define covered = 1 if true_label is in the predicted set\n",
    "cp_groups_df['covered'] = cp_groups_df.apply(\n",
    "    lambda r: int(r['true_label'] in r['pred_set']),\n",
    "    axis=1\n",
    ")"
   ]
  },
  {
   "cell_type": "code",
   "execution_count": 67,
   "id": "338ff529-1a6b-4b87-a931-8e4788d52aad",
   "metadata": {
    "execution": {
     "iopub.execute_input": "2025-07-30T21:36:09.626432Z",
     "iopub.status.busy": "2025-07-30T21:36:09.625881Z",
     "iopub.status.idle": "2025-07-30T21:36:09.632013Z",
     "shell.execute_reply": "2025-07-30T21:36:09.630758Z"
    },
    "papermill": {
     "duration": 0.040239,
     "end_time": "2025-07-30T21:36:09.634388",
     "exception": false,
     "start_time": "2025-07-30T21:36:09.594149",
     "status": "completed"
    },
    "tags": []
   },
   "outputs": [],
   "source": [
    "#cp_groups_df"
   ]
  },
  {
   "cell_type": "code",
   "execution_count": 68,
   "id": "90032e27-66df-4540-9169-4e89cfbaa758",
   "metadata": {
    "execution": {
     "iopub.execute_input": "2025-07-30T21:36:09.679193Z",
     "iopub.status.busy": "2025-07-30T21:36:09.678724Z",
     "iopub.status.idle": "2025-07-30T21:36:09.690824Z",
     "shell.execute_reply": "2025-07-30T21:36:09.689778Z"
    },
    "papermill": {
     "duration": 0.029603,
     "end_time": "2025-07-30T21:36:09.692779",
     "exception": false,
     "start_time": "2025-07-30T21:36:09.663176",
     "status": "completed"
    },
    "tags": []
   },
   "outputs": [],
   "source": [
    "subgroups = ['frau1','nongerman','nongerman_male','nongerman_female']\n",
    "\n",
    "# Conditional coverage for subgroup==1\n",
    "cond_coverage = {\n",
    "    g: cp_groups_df.loc[cp_groups_df[g]==1, 'covered'].mean()\n",
    "    for g in subgroups\n",
    "}"
   ]
  },
  {
   "cell_type": "code",
   "execution_count": 69,
   "id": "1e348fb1-b9c3-45bc-ba23-f016827a7e0d",
   "metadata": {
    "execution": {
     "iopub.execute_input": "2025-07-30T21:36:09.763433Z",
     "iopub.status.busy": "2025-07-30T21:36:09.762593Z",
     "iopub.status.idle": "2025-07-30T21:36:09.770227Z",
     "shell.execute_reply": "2025-07-30T21:36:09.769181Z"
    },
    "papermill": {
     "duration": 0.046758,
     "end_time": "2025-07-30T21:36:09.771832",
     "exception": false,
     "start_time": "2025-07-30T21:36:09.725074",
     "status": "completed"
    },
    "tags": []
   },
   "outputs": [
    {
     "data": {
      "text/plain": [
       "{'frau1': 0.914462865615312,\n",
       " 'nongerman': 0.9077078538146298,\n",
       " 'nongerman_male': 0.9160587228676934,\n",
       " 'nongerman_female': 0.8938897168405365}"
      ]
     },
     "execution_count": 69,
     "metadata": {},
     "output_type": "execute_result"
    }
   ],
   "source": [
    "cond_coverage"
   ]
  },
  {
   "cell_type": "code",
   "execution_count": 70,
   "id": "f5093324-c3dd-4d63-bc4c-8d945e5c8bbb",
   "metadata": {
    "execution": {
     "iopub.execute_input": "2025-07-30T21:36:09.831313Z",
     "iopub.status.busy": "2025-07-30T21:36:09.830919Z",
     "iopub.status.idle": "2025-07-30T21:36:09.838130Z",
     "shell.execute_reply": "2025-07-30T21:36:09.836991Z"
    },
    "papermill": {
     "duration": 0.041153,
     "end_time": "2025-07-30T21:36:09.843016",
     "exception": false,
     "start_time": "2025-07-30T21:36:09.801863",
     "status": "completed"
    },
    "tags": []
   },
   "outputs": [],
   "source": [
    "for subgroup, cov in cond_coverage.items():\n",
    "    cp_metrics_df[f\"cov_{subgroup}\"] = cov"
   ]
  },
  {
   "cell_type": "code",
   "execution_count": 71,
   "id": "6e872e10-dbe5-49e8-b554-5030c98ff75d",
   "metadata": {
    "execution": {
     "iopub.execute_input": "2025-07-30T21:36:09.919358Z",
     "iopub.status.busy": "2025-07-30T21:36:09.918313Z",
     "iopub.status.idle": "2025-07-30T21:36:09.938509Z",
     "shell.execute_reply": "2025-07-30T21:36:09.937563Z"
    },
    "papermill": {
     "duration": 0.059776,
     "end_time": "2025-07-30T21:36:09.940443",
     "exception": false,
     "start_time": "2025-07-30T21:36:09.880667",
     "status": "completed"
    },
    "tags": []
   },
   "outputs": [
    {
     "data": {
      "text/html": [
       "<div>\n",
       "<style scoped>\n",
       "    .dataframe tbody tr th:only-of-type {\n",
       "        vertical-align: middle;\n",
       "    }\n",
       "\n",
       "    .dataframe tbody tr th {\n",
       "        vertical-align: top;\n",
       "    }\n",
       "\n",
       "    .dataframe thead th {\n",
       "        text-align: right;\n",
       "    }\n",
       "</style>\n",
       "<table border=\"1\" class=\"dataframe\">\n",
       "  <thead>\n",
       "    <tr style=\"text-align: right;\">\n",
       "      <th></th>\n",
       "      <th>universe_id</th>\n",
       "      <th>universe_training_year</th>\n",
       "      <th>universe_training_size</th>\n",
       "      <th>universe_scale</th>\n",
       "      <th>universe_model</th>\n",
       "      <th>universe_exclude_features</th>\n",
       "      <th>universe_exclude_subgroups</th>\n",
       "      <th>q_hat</th>\n",
       "      <th>coverage</th>\n",
       "      <th>avg_size</th>\n",
       "      <th>cov_frau1</th>\n",
       "      <th>cov_nongerman</th>\n",
       "      <th>cov_nongerman_male</th>\n",
       "      <th>cov_nongerman_female</th>\n",
       "    </tr>\n",
       "  </thead>\n",
       "  <tbody>\n",
       "    <tr>\n",
       "      <th>0</th>\n",
       "      <td>214ff89a7cdbc9f29cf98c65c7a34ac3</td>\n",
       "      <td>2012_14</td>\n",
       "      <td>1k</td>\n",
       "      <td>scale</td>\n",
       "      <td>rf</td>\n",
       "      <td>age</td>\n",
       "      <td>drop-non-german</td>\n",
       "      <td>0.67</td>\n",
       "      <td>0.914012</td>\n",
       "      <td>1.182622</td>\n",
       "      <td>0.914463</td>\n",
       "      <td>0.907708</td>\n",
       "      <td>0.916059</td>\n",
       "      <td>0.89389</td>\n",
       "    </tr>\n",
       "  </tbody>\n",
       "</table>\n",
       "</div>"
      ],
      "text/plain": [
       "                        universe_id universe_training_year  \\\n",
       "0  214ff89a7cdbc9f29cf98c65c7a34ac3                2012_14   \n",
       "\n",
       "  universe_training_size universe_scale universe_model  \\\n",
       "0                     1k          scale             rf   \n",
       "\n",
       "  universe_exclude_features universe_exclude_subgroups  q_hat  coverage  \\\n",
       "0                       age            drop-non-german   0.67  0.914012   \n",
       "\n",
       "   avg_size  cov_frau1  cov_nongerman  cov_nongerman_male  \\\n",
       "0  1.182622   0.914463       0.907708            0.916059   \n",
       "\n",
       "   cov_nongerman_female  \n",
       "0               0.89389  "
      ]
     },
     "execution_count": 71,
     "metadata": {},
     "output_type": "execute_result"
    }
   ],
   "source": [
    "cp_metrics_df"
   ]
  },
  {
   "cell_type": "markdown",
   "id": "33774451",
   "metadata": {
    "papermill": {
     "duration": 0.025399,
     "end_time": "2025-07-30T21:36:10.003942",
     "exception": false,
     "start_time": "2025-07-30T21:36:09.978543",
     "status": "completed"
    },
    "tags": []
   },
   "source": [
    "# (Fairness) Metrics"
   ]
  },
  {
   "cell_type": "code",
   "execution_count": 72,
   "id": "debc5d62",
   "metadata": {
    "execution": {
     "iopub.execute_input": "2025-07-30T21:36:10.052931Z",
     "iopub.status.busy": "2025-07-30T21:36:10.052085Z",
     "iopub.status.idle": "2025-07-30T21:36:10.074267Z",
     "shell.execute_reply": "2025-07-30T21:36:10.073279Z"
    },
    "papermill": {
     "duration": 0.049036,
     "end_time": "2025-07-30T21:36:10.076400",
     "exception": false,
     "start_time": "2025-07-30T21:36:10.027364",
     "status": "completed"
    },
    "tags": []
   },
   "outputs": [],
   "source": [
    "# do I need to include maxdeutsch1.missing?\n",
    "\n",
    "import numpy as np\n",
    "\n",
    "colname_to_bin = \"maxdeutsch1\"\n",
    "majority_value = org_train[colname_to_bin].mode()[0]\n",
    "\n",
    "org_test[\"majmin\"] = np.where(org_test[colname_to_bin] == majority_value, \"majority\", \"minority\")"
   ]
  },
  {
   "cell_type": "code",
   "execution_count": 73,
   "id": "06a50de5",
   "metadata": {
    "execution": {
     "iopub.execute_input": "2025-07-30T21:36:10.133670Z",
     "iopub.status.busy": "2025-07-30T21:36:10.133178Z",
     "iopub.status.idle": "2025-07-30T21:36:12.466133Z",
     "shell.execute_reply": "2025-07-30T21:36:12.465365Z"
    },
    "papermill": {
     "duration": 2.362675,
     "end_time": "2025-07-30T21:36:12.467639",
     "exception": false,
     "start_time": "2025-07-30T21:36:10.104964",
     "status": "completed"
    },
    "tags": []
   },
   "outputs": [],
   "source": [
    "example_universe = universe.copy()\n",
    "example_universe[\"cutoff\"] = example_universe[\"cutoff\"][0]\n",
    "example_universe[\"eval_fairness_grouping\"] = example_universe[\"eval_fairness_grouping\"][0]\n",
    "fairness_dict, metric_frame = universe_analysis.compute_metrics(\n",
    "    example_universe,\n",
    "    y_pred_prob=probs_test,\n",
    "    y_test=y_true,\n",
    "    org_test=org_test,\n",
    ")"
   ]
  },
  {
   "cell_type": "markdown",
   "id": "f95d4e02",
   "metadata": {
    "papermill": {
     "duration": 0.014922,
     "end_time": "2025-07-30T21:36:12.499666",
     "exception": false,
     "start_time": "2025-07-30T21:36:12.484744",
     "status": "completed"
    },
    "tags": []
   },
   "source": [
    "# Overall"
   ]
  },
  {
   "cell_type": "markdown",
   "id": "bdee4871",
   "metadata": {
    "papermill": {
     "duration": 0.013855,
     "end_time": "2025-07-30T21:36:12.528519",
     "exception": false,
     "start_time": "2025-07-30T21:36:12.514664",
     "status": "completed"
    },
    "tags": []
   },
   "source": [
    "Fairness\n",
    "Main fairness target: Equalized Odds. Seems to be a better fit than equal opportunity, since we're not only interested in Y = 1. Seems to be a better fit than demographic parity, since we also care about accuracy, not just equal distribution of preds.\n",
    "\n",
    "Pick column for computation of fairness metrics\n",
    "\n",
    "Performance\n",
    "Overall performance measures, most interesting in relation to the measures split by group below"
   ]
  },
  {
   "cell_type": "code",
   "execution_count": 74,
   "id": "c4e067c6",
   "metadata": {
    "execution": {
     "iopub.execute_input": "2025-07-30T21:36:12.558303Z",
     "iopub.status.busy": "2025-07-30T21:36:12.557801Z",
     "iopub.status.idle": "2025-07-30T21:36:12.565076Z",
     "shell.execute_reply": "2025-07-30T21:36:12.564270Z"
    },
    "papermill": {
     "duration": 0.023911,
     "end_time": "2025-07-30T21:36:12.566469",
     "exception": false,
     "start_time": "2025-07-30T21:36:12.542558",
     "status": "completed"
    },
    "tags": []
   },
   "outputs": [
    {
     "data": {
      "text/plain": [
       "accuracy                   0.212184\n",
       "balanced accuracy          0.540344\n",
       "f1                         0.242262\n",
       "precision                  0.138180\n",
       "false positive rate        0.901064\n",
       "false negative rate        0.018248\n",
       "selection rate             0.911415\n",
       "count                  89710.000000\n",
       "dtype: float64"
      ]
     },
     "execution_count": 74,
     "metadata": {},
     "output_type": "execute_result"
    }
   ],
   "source": [
    "metric_frame.overall"
   ]
  },
  {
   "cell_type": "markdown",
   "id": "e968fe9d",
   "metadata": {
    "papermill": {
     "duration": 0.014169,
     "end_time": "2025-07-30T21:36:12.595876",
     "exception": false,
     "start_time": "2025-07-30T21:36:12.581707",
     "status": "completed"
    },
    "tags": []
   },
   "source": [
    "By Group"
   ]
  },
  {
   "cell_type": "code",
   "execution_count": 75,
   "id": "ec325bce",
   "metadata": {
    "execution": {
     "iopub.execute_input": "2025-07-30T21:36:12.625814Z",
     "iopub.status.busy": "2025-07-30T21:36:12.625466Z",
     "iopub.status.idle": "2025-07-30T21:36:12.638172Z",
     "shell.execute_reply": "2025-07-30T21:36:12.637140Z"
    },
    "papermill": {
     "duration": 0.029603,
     "end_time": "2025-07-30T21:36:12.639975",
     "exception": false,
     "start_time": "2025-07-30T21:36:12.610372",
     "status": "completed"
    },
    "tags": []
   },
   "outputs": [
    {
     "data": {
      "text/html": [
       "<div>\n",
       "<style scoped>\n",
       "    .dataframe tbody tr th:only-of-type {\n",
       "        vertical-align: middle;\n",
       "    }\n",
       "\n",
       "    .dataframe tbody tr th {\n",
       "        vertical-align: top;\n",
       "    }\n",
       "\n",
       "    .dataframe thead th {\n",
       "        text-align: right;\n",
       "    }\n",
       "</style>\n",
       "<table border=\"1\" class=\"dataframe\">\n",
       "  <thead>\n",
       "    <tr style=\"text-align: right;\">\n",
       "      <th></th>\n",
       "      <th>accuracy</th>\n",
       "      <th>balanced accuracy</th>\n",
       "      <th>f1</th>\n",
       "      <th>precision</th>\n",
       "      <th>false positive rate</th>\n",
       "      <th>false negative rate</th>\n",
       "      <th>selection rate</th>\n",
       "      <th>count</th>\n",
       "    </tr>\n",
       "    <tr>\n",
       "      <th>majmin</th>\n",
       "      <th></th>\n",
       "      <th></th>\n",
       "      <th></th>\n",
       "      <th></th>\n",
       "      <th></th>\n",
       "      <th></th>\n",
       "      <th></th>\n",
       "      <th></th>\n",
       "    </tr>\n",
       "  </thead>\n",
       "  <tbody>\n",
       "    <tr>\n",
       "      <th>majority</th>\n",
       "      <td>0.218838</td>\n",
       "      <td>0.542855</td>\n",
       "      <td>0.249615</td>\n",
       "      <td>0.142953</td>\n",
       "      <td>0.897551</td>\n",
       "      <td>0.016740</td>\n",
       "      <td>0.908877</td>\n",
       "      <td>69170.0</td>\n",
       "    </tr>\n",
       "    <tr>\n",
       "      <th>minority</th>\n",
       "      <td>0.189776</td>\n",
       "      <td>0.531631</td>\n",
       "      <td>0.217363</td>\n",
       "      <td>0.122301</td>\n",
       "      <td>0.912668</td>\n",
       "      <td>0.024071</td>\n",
       "      <td>0.919961</td>\n",
       "      <td>20540.0</td>\n",
       "    </tr>\n",
       "  </tbody>\n",
       "</table>\n",
       "</div>"
      ],
      "text/plain": [
       "          accuracy  balanced accuracy        f1  precision  \\\n",
       "majmin                                                       \n",
       "majority  0.218838           0.542855  0.249615   0.142953   \n",
       "minority  0.189776           0.531631  0.217363   0.122301   \n",
       "\n",
       "          false positive rate  false negative rate  selection rate    count  \n",
       "majmin                                                                       \n",
       "majority             0.897551             0.016740        0.908877  69170.0  \n",
       "minority             0.912668             0.024071        0.919961  20540.0  "
      ]
     },
     "execution_count": 75,
     "metadata": {},
     "output_type": "execute_result"
    }
   ],
   "source": [
    "metric_frame.by_group"
   ]
  },
  {
   "cell_type": "code",
   "execution_count": 76,
   "id": "a9ddbe63",
   "metadata": {
    "execution": {
     "iopub.execute_input": "2025-07-30T21:36:12.699018Z",
     "iopub.status.busy": "2025-07-30T21:36:12.698180Z",
     "iopub.status.idle": "2025-07-30T21:36:15.020203Z",
     "shell.execute_reply": "2025-07-30T21:36:15.018081Z"
    },
    "papermill": {
     "duration": 2.353012,
     "end_time": "2025-07-30T21:36:15.021685",
     "exception": false,
     "start_time": "2025-07-30T21:36:12.668673",
     "status": "completed"
    },
    "tags": []
   },
   "outputs": [
    {
     "data": {
      "text/plain": [
       "array([[<Axes: title={'center': 'accuracy'}, xlabel='majmin'>,\n",
       "        <Axes: title={'center': 'balanced accuracy'}, xlabel='majmin'>,\n",
       "        <Axes: title={'center': 'f1'}, xlabel='majmin'>],\n",
       "       [<Axes: title={'center': 'precision'}, xlabel='majmin'>,\n",
       "        <Axes: title={'center': 'false positive rate'}, xlabel='majmin'>,\n",
       "        <Axes: title={'center': 'false negative rate'}, xlabel='majmin'>],\n",
       "       [<Axes: title={'center': 'selection rate'}, xlabel='majmin'>,\n",
       "        <Axes: title={'center': 'count'}, xlabel='majmin'>,\n",
       "        <Axes: xlabel='majmin'>]], dtype=object)"
      ]
     },
     "execution_count": 76,
     "metadata": {},
     "output_type": "execute_result"
    },
    {
     "data": {
      "image/png": "[encoded data removed]",
      "text/plain": [
       "<Figure size 1200x800 with 9 Axes>"
      ]
     },
     "metadata": {},
     "output_type": "display_data"
    }
   ],
   "source": [
    "# In a graphic\n",
    "metric_frame.by_group.plot.bar(\n",
    "    subplots=True,\n",
    "    layout=[3, 3],\n",
    "    legend=False,\n",
    "    figsize=[12, 8],\n",
    "    title=\"Show all metrics\",\n",
    ")"
   ]
  },
  {
   "cell_type": "markdown",
   "id": "f57a0bac",
   "metadata": {
    "papermill": {
     "duration": 0.015425,
     "end_time": "2025-07-30T21:36:15.053705",
     "exception": false,
     "start_time": "2025-07-30T21:36:15.038280",
     "status": "completed"
    },
    "tags": []
   },
   "source": [
    "# Final Output"
   ]
  },
  {
   "cell_type": "code",
   "execution_count": 77,
   "id": "96d280a3",
   "metadata": {
    "execution": {
     "iopub.execute_input": "2025-07-30T21:36:15.086576Z",
     "iopub.status.busy": "2025-07-30T21:36:15.086097Z",
     "iopub.status.idle": "2025-07-30T21:36:15.093238Z",
     "shell.execute_reply": "2025-07-30T21:36:15.092469Z"
    },
    "papermill": {
     "duration": 0.025181,
     "end_time": "2025-07-30T21:36:15.094648",
     "exception": false,
     "start_time": "2025-07-30T21:36:15.069467",
     "status": "completed"
    },
    "tags": []
   },
   "outputs": [
    {
     "data": {
      "text/plain": [
       "4"
      ]
     },
     "execution_count": 77,
     "metadata": {},
     "output_type": "execute_result"
    }
   ],
   "source": [
    "sub_universes = universe_analysis.generate_sub_universes()\n",
    "len(sub_universes)"
   ]
  },
  {
   "cell_type": "code",
   "execution_count": 78,
   "id": "92adf7ba",
   "metadata": {
    "execution": {
     "iopub.execute_input": "2025-07-30T21:36:15.127776Z",
     "iopub.status.busy": "2025-07-30T21:36:15.127243Z",
     "iopub.status.idle": "2025-07-30T21:36:15.146297Z",
     "shell.execute_reply": "2025-07-30T21:36:15.145401Z"
    },
    "papermill": {
     "duration": 0.037534,
     "end_time": "2025-07-30T21:36:15.147958",
     "exception": false,
     "start_time": "2025-07-30T21:36:15.110424",
     "status": "completed"
    },
    "tags": []
   },
   "outputs": [],
   "source": [
    "def filter_sub_universe_data(sub_universe, org_test):\n",
    "    # Keep all rows — no filtering\n",
    "    keep_rows_mask = np.ones(org_test.shape[0], dtype=bool)\n",
    "\n",
    "    print(f\"[INFO] Keeping all rows: {keep_rows_mask.sum()} rows retained.\")\n",
    "    return keep_rows_mask"
   ]
  },
  {
   "cell_type": "code",
   "execution_count": 79,
   "id": "4a759155",
   "metadata": {
    "execution": {
     "iopub.execute_input": "2025-07-30T21:36:15.182448Z",
     "iopub.status.busy": "2025-07-30T21:36:15.181946Z",
     "iopub.status.idle": "2025-07-30T21:36:25.043384Z",
     "shell.execute_reply": "2025-07-30T21:36:25.042285Z"
    },
    "papermill": {
     "duration": 9.880052,
     "end_time": "2025-07-30T21:36:25.045162",
     "exception": false,
     "start_time": "2025-07-30T21:36:15.165110",
     "status": "completed"
    },
    "tags": []
   },
   "outputs": [
    {
     "name": "stdout",
     "output_type": "stream",
     "text": [
      "Stopping execution_time clock.\n",
      "[INFO] Keeping all rows: 89710 rows retained.\n"
     ]
    },
    {
     "name": "stdout",
     "output_type": "stream",
     "text": [
      "[INFO] Keeping all rows: 89710 rows retained.\n"
     ]
    },
    {
     "name": "stdout",
     "output_type": "stream",
     "text": [
      "[INFO] Keeping all rows: 89710 rows retained.\n"
     ]
    },
    {
     "name": "stdout",
     "output_type": "stream",
     "text": [
      "[INFO] Keeping all rows: 89710 rows retained.\n"
     ]
    },
    {
     "data": {
      "text/html": [
       "<div>\n",
       "<style scoped>\n",
       "    .dataframe tbody tr th:only-of-type {\n",
       "        vertical-align: middle;\n",
       "    }\n",
       "\n",
       "    .dataframe tbody tr th {\n",
       "        vertical-align: top;\n",
       "    }\n",
       "\n",
       "    .dataframe thead th {\n",
       "        text-align: right;\n",
       "    }\n",
       "</style>\n",
       "<table border=\"1\" class=\"dataframe\">\n",
       "  <thead>\n",
       "    <tr style=\"text-align: right;\">\n",
       "      <th></th>\n",
       "      <th>run_no</th>\n",
       "      <th>universe_id</th>\n",
       "      <th>universe_settings</th>\n",
       "      <th>execution_time</th>\n",
       "      <th>test_size_n</th>\n",
       "      <th>test_size_frac</th>\n",
       "      <th>fair_main_equalized_odds_difference</th>\n",
       "      <th>fair_main_equalized_odds_ratio</th>\n",
       "      <th>fair_main_demographic_parity_difference</th>\n",
       "      <th>fair_main_demographic_parity_ratio</th>\n",
       "      <th>...</th>\n",
       "      <th>perf_grp_precision_0</th>\n",
       "      <th>perf_grp_precision_1</th>\n",
       "      <th>perf_grp_false positive rate_0</th>\n",
       "      <th>perf_grp_false positive rate_1</th>\n",
       "      <th>perf_grp_false negative rate_0</th>\n",
       "      <th>perf_grp_false negative rate_1</th>\n",
       "      <th>perf_grp_selection rate_0</th>\n",
       "      <th>perf_grp_selection rate_1</th>\n",
       "      <th>perf_grp_count_0</th>\n",
       "      <th>perf_grp_count_1</th>\n",
       "    </tr>\n",
       "  </thead>\n",
       "  <tbody>\n",
       "    <tr>\n",
       "      <th>0</th>\n",
       "      <td>14</td>\n",
       "      <td>214ff89a7cdbc9f29cf98c65c7a34ac3</td>\n",
       "      <td>{\"cutoff\": \"quantile_0.1\", \"eval_fairness_grou...</td>\n",
       "      <td>31.16938</td>\n",
       "      <td>89710</td>\n",
       "      <td>1.0</td>\n",
       "      <td>0.015117</td>\n",
       "      <td>0.983437</td>\n",
       "      <td>0.011084</td>\n",
       "      <td>0.987951</td>\n",
       "      <td>...</td>\n",
       "      <td>NaN</td>\n",
       "      <td>NaN</td>\n",
       "      <td>NaN</td>\n",
       "      <td>NaN</td>\n",
       "      <td>NaN</td>\n",
       "      <td>NaN</td>\n",
       "      <td>NaN</td>\n",
       "      <td>NaN</td>\n",
       "      <td>NaN</td>\n",
       "      <td>NaN</td>\n",
       "    </tr>\n",
       "    <tr>\n",
       "      <th>0</th>\n",
       "      <td>14</td>\n",
       "      <td>214ff89a7cdbc9f29cf98c65c7a34ac3</td>\n",
       "      <td>{\"cutoff\": \"quantile_0.1\", \"eval_fairness_grou...</td>\n",
       "      <td>31.16938</td>\n",
       "      <td>89710</td>\n",
       "      <td>1.0</td>\n",
       "      <td>0.015117</td>\n",
       "      <td>0.983437</td>\n",
       "      <td>0.011084</td>\n",
       "      <td>0.987951</td>\n",
       "      <td>...</td>\n",
       "      <td>0.122301</td>\n",
       "      <td>0.142953</td>\n",
       "      <td>0.912668</td>\n",
       "      <td>0.897551</td>\n",
       "      <td>0.024071</td>\n",
       "      <td>0.01674</td>\n",
       "      <td>0.919961</td>\n",
       "      <td>0.908877</td>\n",
       "      <td>20540.0</td>\n",
       "      <td>69170.0</td>\n",
       "    </tr>\n",
       "    <tr>\n",
       "      <th>0</th>\n",
       "      <td>14</td>\n",
       "      <td>214ff89a7cdbc9f29cf98c65c7a34ac3</td>\n",
       "      <td>{\"cutoff\": \"quantile_0.25\", \"eval_fairness_gro...</td>\n",
       "      <td>31.16938</td>\n",
       "      <td>89710</td>\n",
       "      <td>1.0</td>\n",
       "      <td>0.060711</td>\n",
       "      <td>0.923316</td>\n",
       "      <td>0.045854</td>\n",
       "      <td>0.942991</td>\n",
       "      <td>...</td>\n",
       "      <td>NaN</td>\n",
       "      <td>NaN</td>\n",
       "      <td>NaN</td>\n",
       "      <td>NaN</td>\n",
       "      <td>NaN</td>\n",
       "      <td>NaN</td>\n",
       "      <td>NaN</td>\n",
       "      <td>NaN</td>\n",
       "      <td>NaN</td>\n",
       "      <td>NaN</td>\n",
       "    </tr>\n",
       "    <tr>\n",
       "      <th>0</th>\n",
       "      <td>14</td>\n",
       "      <td>214ff89a7cdbc9f29cf98c65c7a34ac3</td>\n",
       "      <td>{\"cutoff\": \"quantile_0.25\", \"eval_fairness_gro...</td>\n",
       "      <td>31.16938</td>\n",
       "      <td>89710</td>\n",
       "      <td>1.0</td>\n",
       "      <td>0.060711</td>\n",
       "      <td>0.923316</td>\n",
       "      <td>0.045854</td>\n",
       "      <td>0.942991</td>\n",
       "      <td>...</td>\n",
       "      <td>0.129169</td>\n",
       "      <td>0.163579</td>\n",
       "      <td>0.791713</td>\n",
       "      <td>0.731001</td>\n",
       "      <td>0.098818</td>\n",
       "      <td>0.06105</td>\n",
       "      <td>0.804333</td>\n",
       "      <td>0.758479</td>\n",
       "      <td>20540.0</td>\n",
       "      <td>69170.0</td>\n",
       "    </tr>\n",
       "  </tbody>\n",
       "</table>\n",
       "<p>4 rows × 50 columns</p>\n",
       "</div>"
      ],
      "text/plain": [
       "  run_no                       universe_id  \\\n",
       "0     14  214ff89a7cdbc9f29cf98c65c7a34ac3   \n",
       "0     14  214ff89a7cdbc9f29cf98c65c7a34ac3   \n",
       "0     14  214ff89a7cdbc9f29cf98c65c7a34ac3   \n",
       "0     14  214ff89a7cdbc9f29cf98c65c7a34ac3   \n",
       "\n",
       "                                   universe_settings  execution_time  \\\n",
       "0  {\"cutoff\": \"quantile_0.1\", \"eval_fairness_grou...        31.16938   \n",
       "0  {\"cutoff\": \"quantile_0.1\", \"eval_fairness_grou...        31.16938   \n",
       "0  {\"cutoff\": \"quantile_0.25\", \"eval_fairness_gro...        31.16938   \n",
       "0  {\"cutoff\": \"quantile_0.25\", \"eval_fairness_gro...        31.16938   \n",
       "\n",
       "   test_size_n  test_size_frac  fair_main_equalized_odds_difference  \\\n",
       "0        89710             1.0                             0.015117   \n",
       "0        89710             1.0                             0.015117   \n",
       "0        89710             1.0                             0.060711   \n",
       "0        89710             1.0                             0.060711   \n",
       "\n",
       "   fair_main_equalized_odds_ratio  fair_main_demographic_parity_difference  \\\n",
       "0                        0.983437                                 0.011084   \n",
       "0                        0.983437                                 0.011084   \n",
       "0                        0.923316                                 0.045854   \n",
       "0                        0.923316                                 0.045854   \n",
       "\n",
       "   fair_main_demographic_parity_ratio  ...  perf_grp_precision_0  \\\n",
       "0                            0.987951  ...                   NaN   \n",
       "0                            0.987951  ...              0.122301   \n",
       "0                            0.942991  ...                   NaN   \n",
       "0                            0.942991  ...              0.129169   \n",
       "\n",
       "   perf_grp_precision_1  perf_grp_false positive rate_0  \\\n",
       "0                   NaN                             NaN   \n",
       "0              0.142953                        0.912668   \n",
       "0                   NaN                             NaN   \n",
       "0              0.163579                        0.791713   \n",
       "\n",
       "   perf_grp_false positive rate_1  perf_grp_false negative rate_0  \\\n",
       "0                             NaN                             NaN   \n",
       "0                        0.897551                        0.024071   \n",
       "0                             NaN                             NaN   \n",
       "0                        0.731001                        0.098818   \n",
       "\n",
       "   perf_grp_false negative rate_1  perf_grp_selection rate_0  \\\n",
       "0                             NaN                        NaN   \n",
       "0                         0.01674                   0.919961   \n",
       "0                             NaN                        NaN   \n",
       "0                         0.06105                   0.804333   \n",
       "\n",
       "   perf_grp_selection rate_1  perf_grp_count_0  perf_grp_count_1  \n",
       "0                        NaN               NaN               NaN  \n",
       "0                   0.908877           20540.0           69170.0  \n",
       "0                        NaN               NaN               NaN  \n",
       "0                   0.758479           20540.0           69170.0  \n",
       "\n",
       "[4 rows x 50 columns]"
      ]
     },
     "execution_count": 79,
     "metadata": {},
     "output_type": "execute_result"
    }
   ],
   "source": [
    "final_output = universe_analysis.generate_final_output(\n",
    "    y_pred_prob=probs_test,\n",
    "    y_test=y_true,\n",
    "    org_test=org_test,\n",
    "    filter_data=filter_sub_universe_data,\n",
    "    cp_metrics_df=cp_metrics_df,\n",
    "    save=True,\n",
    ")\n",
    "final_output"
   ]
  },
  {
   "cell_type": "code",
   "execution_count": null,
   "id": "721ff514-cb11-46f8-b6fc-50392f74b5cb",
   "metadata": {
    "papermill": {
     "duration": 0.032617,
     "end_time": "2025-07-30T21:36:25.113060",
     "exception": false,
     "start_time": "2025-07-30T21:36:25.080443",
     "status": "completed"
    },
    "tags": []
   },
   "outputs": [],
   "source": []
  }
 ],
 "metadata": {
  "celltoolbar": "Tags",
  "kernelspec": {
   "display_name": "Python (CMA Fairness)",
   "language": "python",
   "name": "cma_fair_env"
  },
  "language_info": {
   "codemirror_mode": {
    "name": "ipython",
    "version": 3
   },
   "file_extension": ".py",
   "mimetype": "text/x-python",
   "name": "python",
   "nbconvert_exporter": "python",
   "pygments_lexer": "ipython3",
   "version": "3.10.12"
  },
  "papermill": {
   "default_parameters": {},
   "duration": 45.441615,
   "end_time": "2025-07-30T21:36:25.965088",
   "environment_variables": {},
   "exception": null,
   "input_path": "universe_analysis.ipynb",
   "output_path": "output/runs/14/notebooks/m_14-214ff89a7cdbc9f29cf98c65c7a34ac3.ipynb",
   "parameters": {
    "output_dir": "output",
    "run_no": "14",
    "seed": "2023",
    "universe": "{\"cutoff\": [\"quantile_0.1\", \"quantile_0.25\"], \"eval_fairness_grouping\": [\"majority-minority\", \"nationality-all\"], \"exclude_features\": \"age\", \"exclude_subgroups\": \"drop-non-german\", \"model\": \"rf\", \"scale\": \"scale\", \"training_size\": \"1k\", \"training_year\": \"2012_14\"}",
    "universe_id": "214ff89a7cdbc9f29cf98c65c7a34ac3"
   },
   "start_time": "2025-07-30T21:35:40.523473",
   "version": "2.6.0"
  }
 },
 "nbformat": 4,
 "nbformat_minor": 5
}