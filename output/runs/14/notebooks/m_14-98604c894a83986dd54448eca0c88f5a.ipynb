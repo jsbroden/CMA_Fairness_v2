{
 "cells": [
  {
   "cell_type": "code",
   "execution_count": 1,
   "id": "f159f837-637b-42ba-96b5-ec9a68c44524",
   "metadata": {
    "execution": {
     "iopub.execute_input": "2025-07-30T21:33:42.970309Z",
     "iopub.status.busy": "2025-07-30T21:33:42.969455Z",
     "iopub.status.idle": "2025-07-30T21:33:42.982843Z",
     "shell.execute_reply": "2025-07-30T21:33:42.981820Z"
    },
    "papermill": {
     "duration": 0.034855,
     "end_time": "2025-07-30T21:33:42.984371",
     "exception": false,
     "start_time": "2025-07-30T21:33:42.949516",
     "status": "completed"
    },
    "tags": []
   },
   "outputs": [
    {
     "name": "stdout",
     "output_type": "stream",
     "text": [
      "/dss/dsshome1/0C/ra93lal2/cma/CMA_Fairness_v2\n"
     ]
    },
    {
     "name": "stderr",
     "output_type": "stream",
     "text": [
      "/dss/dsshome1/0C/ra93lal2/.local/share/virtualenvs/CMA_Fairness_v2-3j10GkSs/lib/python3.10/site-packages/IPython/core/magics/osm.py:393: UserWarning: This is now an optional IPython functionality, using bookmarks requires you to install the `pickleshare` library.\n",
      "  bkms = self.shell.db.get('bookmarks', {})\n",
      "/dss/dsshome1/0C/ra93lal2/.local/share/virtualenvs/CMA_Fairness_v2-3j10GkSs/lib/python3.10/site-packages/IPython/core/magics/osm.py:417: UserWarning: This is now an optional IPython functionality, setting dhist requires you to install the `pickleshare` library.\n",
      "  self.shell.db['dhist'] = compress_dhist(dhist)[-100:]\n"
     ]
    }
   ],
   "source": [
    "%cd ~/cma/CMA_Fairness_v2"
   ]
  },
  {
   "cell_type": "markdown",
   "id": "de2603b9",
   "metadata": {
    "papermill": {
     "duration": 0.018613,
     "end_time": "2025-07-30T21:33:43.022420",
     "exception": false,
     "start_time": "2025-07-30T21:33:43.003807",
     "status": "completed"
    },
    "tags": []
   },
   "source": [
    "The following cell holds the definition of our parameters, these values can be overriden by rendering the with e.g. the following command:\n",
    "\n",
    "papermill -p alpha 0.2 -p ratio 0.3 universe_analysis.ipynb output/test_run.ipynb"
   ]
  },
  {
   "cell_type": "code",
   "execution_count": 2,
   "id": "a80968a0-40bb-4fa9-85ef-2d5eefb01975",
   "metadata": {
    "execution": {
     "iopub.execute_input": "2025-07-30T21:33:43.060553Z",
     "iopub.status.busy": "2025-07-30T21:33:43.059771Z",
     "iopub.status.idle": "2025-07-30T21:33:43.065701Z",
     "shell.execute_reply": "2025-07-30T21:33:43.064661Z"
    },
    "papermill": {
     "duration": 0.02688,
     "end_time": "2025-07-30T21:33:43.067206",
     "exception": false,
     "start_time": "2025-07-30T21:33:43.040326",
     "status": "completed"
    },
    "tags": []
   },
   "outputs": [
    {
     "name": "stdout",
     "output_type": "stream",
     "text": [
      "Current working directory: /dss/dsshome1/0C/ra93lal2/cma/CMA_Fairness_v2\n"
     ]
    }
   ],
   "source": [
    "import os\n",
    "print(\"Current working directory:\", os.getcwd())"
   ]
  },
  {
   "cell_type": "code",
   "execution_count": 3,
   "id": "2dce4c03",
   "metadata": {
    "execution": {
     "iopub.execute_input": "2025-07-30T21:33:43.105991Z",
     "iopub.status.busy": "2025-07-30T21:33:43.105318Z",
     "iopub.status.idle": "2025-07-30T21:33:43.111883Z",
     "shell.execute_reply": "2025-07-30T21:33:43.110982Z"
    },
    "papermill": {
     "duration": 0.027641,
     "end_time": "2025-07-30T21:33:43.113536",
     "exception": false,
     "start_time": "2025-07-30T21:33:43.085895",
     "status": "completed"
    },
    "tags": [
     "parameters"
    ]
   },
   "outputs": [],
   "source": [
    "run_no = 0\n",
    "universe_id = \"test\"\n",
    "universe = {\n",
    "    \"training_size\": \"25k\", # \"25k\", \"5k\", \"1k\"\n",
    "    \"training_year\": \"2014\", # \"2014\", \"2012_14\", \"2010_14\"\n",
    "    \"scale\": \"scale\", # \"scale\", \"do-not-scale\",\n",
    "    #\"stratify_split\": \"target\", # \"none\", \"target\", \"protected-attribute\", \"both\",\n",
    "    \"model\": \"elasticnet\", # \"logreg\", \"penalized_logreg\", \"rf\", \"gbm\", \"elasticnet\"\n",
    "    \"cutoff\": [\"quantile_0.15\", \"quantile_0.30\"],\n",
    "    \"exclude_features\": \"age\", # \"none\", \"nationality\", \"sex\", \"nationality-sex\", \"age\"\n",
    "    \"exclude_subgroups\": \"keep-all\", # \"keep-all\", \"drop-non-german\"\n",
    "    \"eval_fairness_grouping\": [\"majority-minority\", \"nationality-all\"]\n",
    "}\n",
    "\n",
    "output_dir=\"./output\"\n",
    "seed=0"
   ]
  },
  {
   "cell_type": "code",
   "execution_count": 4,
   "id": "26960642",
   "metadata": {
    "execution": {
     "iopub.execute_input": "2025-07-30T21:33:43.153404Z",
     "iopub.status.busy": "2025-07-30T21:33:43.152713Z",
     "iopub.status.idle": "2025-07-30T21:33:43.158592Z",
     "shell.execute_reply": "2025-07-30T21:33:43.157669Z"
    },
    "papermill": {
     "duration": 0.027406,
     "end_time": "2025-07-30T21:33:43.160291",
     "exception": false,
     "start_time": "2025-07-30T21:33:43.132885",
     "status": "completed"
    },
    "tags": [
     "injected-parameters"
    ]
   },
   "outputs": [],
   "source": [
    "# Parameters\n",
    "universe_id = \"98604c894a83986dd54448eca0c88f5a\"\n",
    "run_no = \"14\"\n",
    "universe = \"{\\\"cutoff\\\": [\\\"quantile_0.1\\\", \\\"quantile_0.25\\\"], \\\"eval_fairness_grouping\\\": [\\\"majority-minority\\\", \\\"nationality-all\\\"], \\\"exclude_features\\\": \\\"age\\\", \\\"exclude_subgroups\\\": \\\"drop-non-german\\\", \\\"model\\\": \\\"logreg\\\", \\\"scale\\\": \\\"scale\\\", \\\"training_size\\\": \\\"1k\\\", \\\"training_year\\\": \\\"2012_14\\\"}\"\n",
    "output_dir = \"output\"\n",
    "seed = \"2023\"\n"
   ]
  },
  {
   "cell_type": "code",
   "execution_count": 5,
   "id": "1650acaf",
   "metadata": {
    "execution": {
     "iopub.execute_input": "2025-07-30T21:33:43.200346Z",
     "iopub.status.busy": "2025-07-30T21:33:43.199654Z",
     "iopub.status.idle": "2025-07-30T21:33:43.204905Z",
     "shell.execute_reply": "2025-07-30T21:33:43.203997Z"
    },
    "papermill": {
     "duration": 0.027061,
     "end_time": "2025-07-30T21:33:43.206684",
     "exception": false,
     "start_time": "2025-07-30T21:33:43.179623",
     "status": "completed"
    },
    "tags": []
   },
   "outputs": [],
   "source": [
    "import json\n",
    "# Parse universe into dict if it is passed as a string\n",
    "if isinstance(universe, str):\n",
    "    universe = json.loads(universe)"
   ]
  },
  {
   "cell_type": "code",
   "execution_count": 6,
   "id": "16620c48",
   "metadata": {
    "execution": {
     "iopub.execute_input": "2025-07-30T21:33:43.247571Z",
     "iopub.status.busy": "2025-07-30T21:33:43.246879Z",
     "iopub.status.idle": "2025-07-30T21:33:43.293102Z",
     "shell.execute_reply": "2025-07-30T21:33:43.292232Z"
    },
    "papermill": {
     "duration": 0.067919,
     "end_time": "2025-07-30T21:33:43.294887",
     "exception": false,
     "start_time": "2025-07-30T21:33:43.226968",
     "status": "completed"
    },
    "tags": []
   },
   "outputs": [],
   "source": [
    "# Auto-reload the custom package\n",
    "%load_ext autoreload\n",
    "%autoreload 1\n",
    "%aimport fairness_multiverse"
   ]
  },
  {
   "cell_type": "code",
   "execution_count": 7,
   "id": "01c5c9f3",
   "metadata": {
    "execution": {
     "iopub.execute_input": "2025-07-30T21:33:43.335055Z",
     "iopub.status.busy": "2025-07-30T21:33:43.334388Z",
     "iopub.status.idle": "2025-07-30T21:33:45.262070Z",
     "shell.execute_reply": "2025-07-30T21:33:45.261038Z"
    },
    "papermill": {
     "duration": 1.949463,
     "end_time": "2025-07-30T21:33:45.264282",
     "exception": false,
     "start_time": "2025-07-30T21:33:43.314819",
     "status": "completed"
    },
    "tags": []
   },
   "outputs": [],
   "source": [
    "from fairness_multiverse.universe import UniverseAnalysis\n",
    "\n",
    "universe_analysis = UniverseAnalysis(\n",
    "    run_no = run_no,\n",
    "    universe_id = universe_id,\n",
    "    universe = universe,\n",
    "    output_dir=output_dir,\n",
    ")"
   ]
  },
  {
   "cell_type": "code",
   "execution_count": 8,
   "id": "106241f5",
   "metadata": {
    "execution": {
     "iopub.execute_input": "2025-07-30T21:33:45.322294Z",
     "iopub.status.busy": "2025-07-30T21:33:45.321554Z",
     "iopub.status.idle": "2025-07-30T21:33:45.329046Z",
     "shell.execute_reply": "2025-07-30T21:33:45.327889Z"
    },
    "papermill": {
     "duration": 0.039538,
     "end_time": "2025-07-30T21:33:45.330971",
     "exception": false,
     "start_time": "2025-07-30T21:33:45.291433",
     "status": "completed"
    },
    "tags": []
   },
   "outputs": [
    {
     "name": "stdout",
     "output_type": "stream",
     "text": [
      "Using Seed: 2023\n"
     ]
    }
   ],
   "source": [
    "import numpy as np\n",
    "parsed_seed = int(seed)\n",
    "np.random.seed(parsed_seed)\n",
    "print(f\"Using Seed: {parsed_seed}\")"
   ]
  },
  {
   "cell_type": "markdown",
   "id": "e0ebdc57",
   "metadata": {
    "papermill": {
     "duration": 0.020314,
     "end_time": "2025-07-30T21:33:45.375897",
     "exception": false,
     "start_time": "2025-07-30T21:33:45.355583",
     "status": "completed"
    },
    "tags": []
   },
   "source": [
    "# Loading Data"
   ]
  },
  {
   "cell_type": "markdown",
   "id": "681925a3",
   "metadata": {
    "papermill": {
     "duration": 0.019768,
     "end_time": "2025-07-30T21:33:45.415919",
     "exception": false,
     "start_time": "2025-07-30T21:33:45.396151",
     "status": "completed"
    },
    "tags": []
   },
   "source": [
    "Load siab_train, siab_test, siab_calib and/or \n",
    "load siab_train_features, siab_train_labels"
   ]
  },
  {
   "cell_type": "code",
   "execution_count": 9,
   "id": "f0496b8a",
   "metadata": {
    "execution": {
     "iopub.execute_input": "2025-07-30T21:33:45.457896Z",
     "iopub.status.busy": "2025-07-30T21:33:45.457392Z",
     "iopub.status.idle": "2025-07-30T21:33:57.663386Z",
     "shell.execute_reply": "2025-07-30T21:33:57.662102Z"
    },
    "papermill": {
     "duration": 12.229333,
     "end_time": "2025-07-30T21:33:57.665096",
     "exception": false,
     "start_time": "2025-07-30T21:33:45.435763",
     "status": "completed"
    },
    "tags": []
   },
   "outputs": [
    {
     "name": "stdout",
     "output_type": "stream",
     "text": [
      "Loading SIAB data from cache: data/siab_cached.csv.gz\n"
     ]
    },
    {
     "name": "stdout",
     "output_type": "stream",
     "text": [
      "(643690, 164)\n"
     ]
    }
   ],
   "source": [
    "from pathlib import Path\n",
    "import pandas as pd\n",
    "\n",
    "# File paths\n",
    "raw_file = Path(\"data/raw/siab.csv\")\n",
    "cache_file = Path(\"data/siab_cached.csv.gz\")\n",
    "\n",
    "# Ensure cache directory exists\n",
    "cache_file.parent.mkdir(parents=True, exist_ok=True)\n",
    "\n",
    "# Load with simple caching\n",
    "if cache_file.exists():\n",
    "    print(f\"Loading SIAB data from cache: {cache_file}\")\n",
    "    siab = pd.read_csv(cache_file, compression='gzip')\n",
    "else:\n",
    "    print(f\"Cache not found. Reading raw SIAB data: {raw_file}\")\n",
    "    siab = pd.read_csv(raw_file)\n",
    "    siab.to_csv(cache_file, index=False, compression='gzip')\n",
    "    print(f\"Cached SIAB data to: {cache_file}\")\n",
    "\n",
    "# Now use `siab` DataFrame as needed\n",
    "print(siab.shape)"
   ]
  },
  {
   "cell_type": "code",
   "execution_count": 10,
   "id": "db0ca512-5f53-4dba-abdb-a2888bca41ba",
   "metadata": {
    "execution": {
     "iopub.execute_input": "2025-07-30T21:33:57.710343Z",
     "iopub.status.busy": "2025-07-30T21:33:57.709641Z",
     "iopub.status.idle": "2025-07-30T21:33:57.715476Z",
     "shell.execute_reply": "2025-07-30T21:33:57.714546Z"
    },
    "papermill": {
     "duration": 0.029483,
     "end_time": "2025-07-30T21:33:57.717044",
     "exception": false,
     "start_time": "2025-07-30T21:33:57.687561",
     "status": "completed"
    },
    "tags": []
   },
   "outputs": [],
   "source": [
    "#siab"
   ]
  },
  {
   "cell_type": "code",
   "execution_count": 11,
   "id": "a0edb063",
   "metadata": {
    "execution": {
     "iopub.execute_input": "2025-07-30T21:33:57.759248Z",
     "iopub.status.busy": "2025-07-30T21:33:57.758537Z",
     "iopub.status.idle": "2025-07-30T21:33:57.764137Z",
     "shell.execute_reply": "2025-07-30T21:33:57.763253Z"
    },
    "papermill": {
     "duration": 0.028512,
     "end_time": "2025-07-30T21:33:57.765681",
     "exception": false,
     "start_time": "2025-07-30T21:33:57.737169",
     "status": "completed"
    },
    "tags": []
   },
   "outputs": [],
   "source": [
    "#import pandas as pd\n",
    "#\n",
    "#X_train = pd.read_csv(\"./data/X_train.csv\")\n",
    "#y_train = pd.read_csv(\"./data/y_train.csv\")"
   ]
  },
  {
   "cell_type": "code",
   "execution_count": 12,
   "id": "63d08085",
   "metadata": {
    "execution": {
     "iopub.execute_input": "2025-07-30T21:33:57.808443Z",
     "iopub.status.busy": "2025-07-30T21:33:57.807710Z",
     "iopub.status.idle": "2025-07-30T21:33:57.813079Z",
     "shell.execute_reply": "2025-07-30T21:33:57.811999Z"
    },
    "papermill": {
     "duration": 0.028163,
     "end_time": "2025-07-30T21:33:57.814701",
     "exception": false,
     "start_time": "2025-07-30T21:33:57.786538",
     "status": "completed"
    },
    "tags": []
   },
   "outputs": [],
   "source": [
    "#X_test = pd.read_csv(\"./data/X_test.csv\")\n",
    "#y_true = pd.read_csv(\"./data/y_test.csv\")"
   ]
  },
  {
   "cell_type": "code",
   "execution_count": 13,
   "id": "98a8d0fa-1d3d-4ed8-bb2c-281470e24add",
   "metadata": {
    "execution": {
     "iopub.execute_input": "2025-07-30T21:33:57.861126Z",
     "iopub.status.busy": "2025-07-30T21:33:57.860474Z",
     "iopub.status.idle": "2025-07-30T21:33:57.865926Z",
     "shell.execute_reply": "2025-07-30T21:33:57.865133Z"
    },
    "papermill": {
     "duration": 0.028899,
     "end_time": "2025-07-30T21:33:57.867384",
     "exception": false,
     "start_time": "2025-07-30T21:33:57.838485",
     "status": "completed"
    },
    "tags": []
   },
   "outputs": [],
   "source": [
    "# Calibration data for conformal\n",
    "#X_calib = pd.read_csv(\"./data/X_calib.csv\")\n",
    "#y_calib = pd.read_csv(\"./data/y_calib.csv\")"
   ]
  },
  {
   "cell_type": "markdown",
   "id": "997051c5-15bd-4b69-9786-c3001a3ce484",
   "metadata": {
    "papermill": {
     "duration": 0.019382,
     "end_time": "2025-07-30T21:33:57.906607",
     "exception": false,
     "start_time": "2025-07-30T21:33:57.887225",
     "status": "completed"
    },
    "tags": []
   },
   "source": [
    "# Splitting Data and Setting Training Data Size"
   ]
  },
  {
   "cell_type": "code",
   "execution_count": 14,
   "id": "e993b61f-042d-41a6-8c81-f55681f86335",
   "metadata": {
    "execution": {
     "iopub.execute_input": "2025-07-30T21:33:57.946497Z",
     "iopub.status.busy": "2025-07-30T21:33:57.945992Z",
     "iopub.status.idle": "2025-07-30T21:33:57.959585Z",
     "shell.execute_reply": "2025-07-30T21:33:57.958707Z"
    },
    "papermill": {
     "duration": 0.035481,
     "end_time": "2025-07-30T21:33:57.961190",
     "exception": false,
     "start_time": "2025-07-30T21:33:57.925709",
     "status": "completed"
    },
    "tags": []
   },
   "outputs": [],
   "source": [
    "def sample_by_year_size(df,\n",
    "                        training_year: str,\n",
    "                        training_size: str,\n",
    "                        random_state: int = 42):\n",
    "    # --- parse training_year into a list of int years ---\n",
    "    if \"_\" in training_year:\n",
    "        start_str, end_str = training_year.split(\"_\", 1)\n",
    "        start = int(start_str)\n",
    "        end   = int(end_str) if len(end_str) == 4 else (int(end_str) + (start // 100)*100)\n",
    "        years = list(range(start, end + 1))\n",
    "    else:\n",
    "        years = [int(training_year)]\n",
    "\n",
    "    df = df[df[\"year\"].isin(years)].reset_index(drop=True)\n",
    "\n",
    "    # --- map training_size to total number of samples ---\n",
    "    total_map = {\"25k\": 25_000, \"5k\": 5_000, \"1k\": 1_000}\n",
    "    if training_size not in total_map:\n",
    "        return df  # e.g. \"all\"\n",
    "\n",
    "    total_samples = total_map[training_size]\n",
    "    n_years       = len(years)\n",
    "    base          = total_samples // n_years\n",
    "    remainder     = total_samples % n_years\n",
    "\n",
    "    # --- build a dict: year -> how many to sample ---\n",
    "    # give +1 to the first `remainder` years in ascending order\n",
    "    quotas = {\n",
    "        year: base + (1 if idx < remainder else 0)\n",
    "        for idx, year in enumerate(sorted(years))\n",
    "    }\n",
    "\n",
    "    # --- sample per‐year according to the quota dict ---\n",
    "    sampled = (\n",
    "        df\n",
    "        .groupby(\"year\", group_keys=False)\n",
    "        .apply(lambda grp: grp.sample(\n",
    "            n=min(len(grp), quotas[grp.name]),\n",
    "            random_state=random_state))\n",
    "        .reset_index(drop=True)\n",
    "    )\n",
    "\n",
    "    return sampled"
   ]
  },
  {
   "cell_type": "code",
   "execution_count": 15,
   "id": "c0ccd338-0e02-41f3-a09d-f56f9266e3fb",
   "metadata": {
    "execution": {
     "iopub.execute_input": "2025-07-30T21:33:58.001590Z",
     "iopub.status.busy": "2025-07-30T21:33:58.001148Z",
     "iopub.status.idle": "2025-07-30T21:33:58.006036Z",
     "shell.execute_reply": "2025-07-30T21:33:58.005170Z"
    },
    "papermill": {
     "duration": 0.026542,
     "end_time": "2025-07-30T21:33:58.007468",
     "exception": false,
     "start_time": "2025-07-30T21:33:57.980926",
     "status": "completed"
    },
    "tags": []
   },
   "outputs": [],
   "source": [
    "#universe[\"training_size\"]"
   ]
  },
  {
   "cell_type": "code",
   "execution_count": 16,
   "id": "ca707fd7-8047-4acd-bfa5-66248fbbf8e6",
   "metadata": {
    "execution": {
     "iopub.execute_input": "2025-07-30T21:33:58.047576Z",
     "iopub.status.busy": "2025-07-30T21:33:58.046832Z",
     "iopub.status.idle": "2025-07-30T21:33:58.051788Z",
     "shell.execute_reply": "2025-07-30T21:33:58.050846Z"
    },
    "papermill": {
     "duration": 0.026583,
     "end_time": "2025-07-30T21:33:58.053338",
     "exception": false,
     "start_time": "2025-07-30T21:33:58.026755",
     "status": "completed"
    },
    "tags": []
   },
   "outputs": [],
   "source": [
    "#universe[\"training_year\"]"
   ]
  },
  {
   "cell_type": "code",
   "execution_count": 17,
   "id": "aea9c6ef-6f46-42c8-85eb-5a62025c1508",
   "metadata": {
    "execution": {
     "iopub.execute_input": "2025-07-30T21:33:58.094832Z",
     "iopub.status.busy": "2025-07-30T21:33:58.094329Z",
     "iopub.status.idle": "2025-07-30T21:33:58.704819Z",
     "shell.execute_reply": "2025-07-30T21:33:58.703749Z"
    },
    "papermill": {
     "duration": 0.633514,
     "end_time": "2025-07-30T21:33:58.706779",
     "exception": false,
     "start_time": "2025-07-30T21:33:58.073265",
     "status": "completed"
    },
    "tags": []
   },
   "outputs": [],
   "source": [
    "siab_train = sample_by_year_size(siab,\n",
    "                               training_year=universe[\"training_year\"],\n",
    "                               training_size=universe[\"training_size\"])"
   ]
  },
  {
   "cell_type": "code",
   "execution_count": 18,
   "id": "8d3afb32-789d-442c-8d5d-9f5aa8dd2eed",
   "metadata": {
    "execution": {
     "iopub.execute_input": "2025-07-30T21:33:58.755727Z",
     "iopub.status.busy": "2025-07-30T21:33:58.754937Z",
     "iopub.status.idle": "2025-07-30T21:33:58.760182Z",
     "shell.execute_reply": "2025-07-30T21:33:58.759275Z"
    },
    "papermill": {
     "duration": 0.035866,
     "end_time": "2025-07-30T21:33:58.765268",
     "exception": false,
     "start_time": "2025-07-30T21:33:58.729402",
     "status": "completed"
    },
    "tags": []
   },
   "outputs": [],
   "source": [
    "#siab_train.shape"
   ]
  },
  {
   "cell_type": "code",
   "execution_count": 19,
   "id": "d582db68-1a4c-47fb-84fc-08518dc1975a",
   "metadata": {
    "execution": {
     "iopub.execute_input": "2025-07-30T21:33:58.812442Z",
     "iopub.status.busy": "2025-07-30T21:33:58.811825Z",
     "iopub.status.idle": "2025-07-30T21:33:58.817302Z",
     "shell.execute_reply": "2025-07-30T21:33:58.816242Z"
    },
    "papermill": {
     "duration": 0.031005,
     "end_time": "2025-07-30T21:33:58.818913",
     "exception": false,
     "start_time": "2025-07-30T21:33:58.787908",
     "status": "completed"
    },
    "tags": []
   },
   "outputs": [],
   "source": [
    "#display(siab_train.groupby(\"year\").size())"
   ]
  },
  {
   "cell_type": "code",
   "execution_count": 20,
   "id": "a561edb4-d032-42cb-8256-22eac1111c64",
   "metadata": {
    "execution": {
     "iopub.execute_input": "2025-07-30T21:33:58.866219Z",
     "iopub.status.busy": "2025-07-30T21:33:58.864933Z",
     "iopub.status.idle": "2025-07-30T21:33:59.114388Z",
     "shell.execute_reply": "2025-07-30T21:33:59.113350Z"
    },
    "papermill": {
     "duration": 0.275097,
     "end_time": "2025-07-30T21:33:59.116260",
     "exception": false,
     "start_time": "2025-07-30T21:33:58.841163",
     "status": "completed"
    },
    "tags": []
   },
   "outputs": [],
   "source": [
    "#siab_train = siab_s[siab_s.year < 2015]\n",
    "siab_calib = siab[siab.year == 2015]\n",
    "siab_test = siab[siab.year == 2016]"
   ]
  },
  {
   "cell_type": "code",
   "execution_count": 21,
   "id": "472de16f-c3db-4916-846b-1f0de9cf1746",
   "metadata": {
    "execution": {
     "iopub.execute_input": "2025-07-30T21:33:59.166102Z",
     "iopub.status.busy": "2025-07-30T21:33:59.165521Z",
     "iopub.status.idle": "2025-07-30T21:33:59.173160Z",
     "shell.execute_reply": "2025-07-30T21:33:59.172106Z"
    },
    "papermill": {
     "duration": 0.035657,
     "end_time": "2025-07-30T21:33:59.175856",
     "exception": false,
     "start_time": "2025-07-30T21:33:59.140199",
     "status": "completed"
    },
    "tags": []
   },
   "outputs": [],
   "source": [
    "X_train = siab_train.iloc[:,4:164]\n",
    "y_train = siab_train.iloc[:, [3]]"
   ]
  },
  {
   "cell_type": "code",
   "execution_count": 22,
   "id": "828c96af-f43a-4ed6-ba47-8ac73a47d56c",
   "metadata": {
    "execution": {
     "iopub.execute_input": "2025-07-30T21:33:59.245127Z",
     "iopub.status.busy": "2025-07-30T21:33:59.244390Z",
     "iopub.status.idle": "2025-07-30T21:33:59.302696Z",
     "shell.execute_reply": "2025-07-30T21:33:59.301453Z"
    },
    "papermill": {
     "duration": 0.095179,
     "end_time": "2025-07-30T21:33:59.304501",
     "exception": false,
     "start_time": "2025-07-30T21:33:59.209322",
     "status": "completed"
    },
    "tags": []
   },
   "outputs": [],
   "source": [
    "X_calib = siab_calib.iloc[:,4:164]\n",
    "y_calib = siab_calib.iloc[:, [3]]"
   ]
  },
  {
   "cell_type": "code",
   "execution_count": 23,
   "id": "c34be9c3-6bd6-476e-acd3-845840e303be",
   "metadata": {
    "execution": {
     "iopub.execute_input": "2025-07-30T21:33:59.353903Z",
     "iopub.status.busy": "2025-07-30T21:33:59.353169Z",
     "iopub.status.idle": "2025-07-30T21:33:59.408016Z",
     "shell.execute_reply": "2025-07-30T21:33:59.406898Z"
    },
    "papermill": {
     "duration": 0.081349,
     "end_time": "2025-07-30T21:33:59.409916",
     "exception": false,
     "start_time": "2025-07-30T21:33:59.328567",
     "status": "completed"
    },
    "tags": []
   },
   "outputs": [],
   "source": [
    "X_test = siab_test.iloc[:,4:164]\n",
    "y_true = siab_test.iloc[:, [3]]"
   ]
  },
  {
   "cell_type": "markdown",
   "id": "9901737e-04df-44f0-9100-f5ad144ed040",
   "metadata": {
    "papermill": {
     "duration": 0.023515,
     "end_time": "2025-07-30T21:33:59.457285",
     "exception": false,
     "start_time": "2025-07-30T21:33:59.433770",
     "status": "completed"
    },
    "tags": []
   },
   "source": [
    "# Splitting Data and Setting Training Data Size OLD VERSION"
   ]
  },
  {
   "cell_type": "code",
   "execution_count": 24,
   "id": "acbc8f7d-8fc8-4e86-8c59-5dcb0f58384b",
   "metadata": {
    "execution": {
     "iopub.execute_input": "2025-07-30T21:33:59.505762Z",
     "iopub.status.busy": "2025-07-30T21:33:59.504767Z",
     "iopub.status.idle": "2025-07-30T21:33:59.510607Z",
     "shell.execute_reply": "2025-07-30T21:33:59.509591Z"
    },
    "papermill": {
     "duration": 0.032482,
     "end_time": "2025-07-30T21:33:59.512406",
     "exception": false,
     "start_time": "2025-07-30T21:33:59.479924",
     "status": "completed"
    },
    "tags": []
   },
   "outputs": [],
   "source": [
    "#def sample_by_year(df, training_size, random_state=42):\n",
    "#    if training_size == \"2014\":\n",
    "#        return df[df[\"year\"] == 2014].reset_index(drop=True)\n",
    "#    \n",
    "#    size_map = {\n",
    "#        \"25k\": 5000,\n",
    "#        \"5k\": 1000,\n",
    "#        \"1k\": 200\n",
    "#    }\n",
    "#\n",
    "#    if training_size not in size_map:\n",
    "#        return df.reset_index(drop=True)  # use all data\n",
    "#\n",
    "#    n_per_year = size_map[training_size]\n",
    "#    grouped = df.groupby(\"year\")\n",
    "#    sampled = grouped.apply(lambda x: x.sample(n=min(n_per_year, len(x)), random_state=random_state))\n",
    "#    return sampled.reset_index(drop=True)"
   ]
  },
  {
   "cell_type": "code",
   "execution_count": 25,
   "id": "6d931f52-beaf-43ff-9e78-9d44a448d54e",
   "metadata": {
    "execution": {
     "iopub.execute_input": "2025-07-30T21:33:59.561653Z",
     "iopub.status.busy": "2025-07-30T21:33:59.561096Z",
     "iopub.status.idle": "2025-07-30T21:33:59.566761Z",
     "shell.execute_reply": "2025-07-30T21:33:59.565477Z"
    },
    "papermill": {
     "duration": 0.032336,
     "end_time": "2025-07-30T21:33:59.568526",
     "exception": false,
     "start_time": "2025-07-30T21:33:59.536190",
     "status": "completed"
    },
    "tags": []
   },
   "outputs": [],
   "source": [
    "#siab_s = sample_by_year(siab, universe[\"training_size\"])"
   ]
  },
  {
   "cell_type": "code",
   "execution_count": 26,
   "id": "5db0a40e-a4e2-4920-be85-b12ae061d70d",
   "metadata": {
    "execution": {
     "iopub.execute_input": "2025-07-30T21:33:59.618450Z",
     "iopub.status.busy": "2025-07-30T21:33:59.617535Z",
     "iopub.status.idle": "2025-07-30T21:33:59.622793Z",
     "shell.execute_reply": "2025-07-30T21:33:59.621866Z"
    },
    "papermill": {
     "duration": 0.032683,
     "end_time": "2025-07-30T21:33:59.624721",
     "exception": false,
     "start_time": "2025-07-30T21:33:59.592038",
     "status": "completed"
    },
    "tags": []
   },
   "outputs": [],
   "source": [
    "#display(siab_s.groupby(\"year\").size())"
   ]
  },
  {
   "cell_type": "code",
   "execution_count": 27,
   "id": "e6c733c5",
   "metadata": {
    "execution": {
     "iopub.execute_input": "2025-07-30T21:33:59.674751Z",
     "iopub.status.busy": "2025-07-30T21:33:59.674266Z",
     "iopub.status.idle": "2025-07-30T21:33:59.774367Z",
     "shell.execute_reply": "2025-07-30T21:33:59.773378Z"
    },
    "papermill": {
     "duration": 0.126963,
     "end_time": "2025-07-30T21:33:59.776569",
     "exception": false,
     "start_time": "2025-07-30T21:33:59.649606",
     "status": "completed"
    },
    "tags": []
   },
   "outputs": [],
   "source": [
    "# Auxiliary data needed downstream in the pipeline\n",
    "\n",
    "org_train = X_train.copy()\n",
    "org_test = X_test.copy()\n",
    "org_calib = X_calib.copy()"
   ]
  },
  {
   "cell_type": "code",
   "execution_count": 28,
   "id": "1466abac-c6da-4492-a62f-4240ae3783af",
   "metadata": {
    "execution": {
     "iopub.execute_input": "2025-07-30T21:33:59.827864Z",
     "iopub.status.busy": "2025-07-30T21:33:59.826982Z",
     "iopub.status.idle": "2025-07-30T21:33:59.833473Z",
     "shell.execute_reply": "2025-07-30T21:33:59.832422Z"
    },
    "papermill": {
     "duration": 0.035351,
     "end_time": "2025-07-30T21:33:59.835297",
     "exception": false,
     "start_time": "2025-07-30T21:33:59.799946",
     "status": "completed"
    },
    "tags": []
   },
   "outputs": [],
   "source": [
    "# put in other script?\n",
    "# Group sizes\n",
    "\n",
    "#def calculate_percentages(df, df_name):\n",
    "#    total_entries = len(df)\n",
    "#\n",
    "#    female_pct = (df['frau1'] == 1).mean() * 100\n",
    "#    non_german_pct = ((df['maxdeutsch1'] == 0) & (df['maxdeutsch.Missing.'] == 0)).mean() * 100\n",
    "#    non_german_male_pct = ((df['frau1'] == 0) & (df['maxdeutsch1'] == 0) & (df['maxdeutsch.Missing.'] == 0)).mean() * 100\n",
    "#    non_german_female_pct = ((df['frau1'] == 1) & (df['maxdeutsch1'] == 0) & (df['maxdeutsch.Missing.'] == 0)).mean() * 100\n",
    "#\n",
    "#    print(f\"--- {df_name} ---\")\n",
    "#    print(f\"Female: {female_pct:.2f}%\")\n",
    "#    print(f\"Non-German: {non_german_pct:.2f}%\")\n",
    "#    print(f\"Non-German Male: {non_german_male_pct:.2f}%\")\n",
    "#    print(f\"Non-German Female: {non_german_female_pct:.2f}%\\n\")\n",
    "#\n",
    "## Calculate for each DataFrame\n",
    "#calculate_percentages(siab_calib, \"siab_calib\")\n",
    "#calculate_percentages(siab_test, \"siab_test\")\n",
    "#calculate_percentages(siab_train, \"siab_train\")"
   ]
  },
  {
   "cell_type": "markdown",
   "id": "0a4a1b33",
   "metadata": {
    "papermill": {
     "duration": 0.023387,
     "end_time": "2025-07-30T21:33:59.883465",
     "exception": false,
     "start_time": "2025-07-30T21:33:59.860078",
     "status": "completed"
    },
    "tags": []
   },
   "source": [
    "# Preprocessing Data"
   ]
  },
  {
   "cell_type": "code",
   "execution_count": 29,
   "id": "ca879031",
   "metadata": {
    "execution": {
     "iopub.execute_input": "2025-07-30T21:33:59.933017Z",
     "iopub.status.busy": "2025-07-30T21:33:59.931931Z",
     "iopub.status.idle": "2025-07-30T21:33:59.938651Z",
     "shell.execute_reply": "2025-07-30T21:33:59.937617Z"
    },
    "papermill": {
     "duration": 0.033636,
     "end_time": "2025-07-30T21:33:59.940488",
     "exception": false,
     "start_time": "2025-07-30T21:33:59.906852",
     "status": "completed"
    },
    "tags": []
   },
   "outputs": [],
   "source": [
    "# EXCLUDE PROTECTED FEATURES\n",
    "# ----------------------\n",
    "# \"exclude_features\": \"none\", # \"nationality\", \"sex\", \"nationality-sex\"\n",
    "\n",
    "excluded_features = universe[\"exclude_features\"].split(\"-\") # split, e.g.: \"nationality-sex\" -> [\"nationality\", \"sex\"]\n",
    "excluded_features_dictionary = {\n",
    "    \"nationality\": [\"maxdeutsch1\", \"maxdeutsch.Missing.\"],\n",
    "    \"sex\": [\"frau1\"],\n",
    "    \"age\": [\"age\"],\n",
    "}\n"
   ]
  },
  {
   "cell_type": "code",
   "execution_count": 30,
   "id": "b745ac60",
   "metadata": {
    "execution": {
     "iopub.execute_input": "2025-07-30T21:33:59.988753Z",
     "iopub.status.busy": "2025-07-30T21:33:59.988237Z",
     "iopub.status.idle": "2025-07-30T21:33:59.994917Z",
     "shell.execute_reply": "2025-07-30T21:33:59.993937Z"
    },
    "papermill": {
     "duration": 0.032091,
     "end_time": "2025-07-30T21:33:59.996747",
     "exception": false,
     "start_time": "2025-07-30T21:33:59.964656",
     "status": "completed"
    },
    "tags": []
   },
   "outputs": [],
   "source": [
    "# Code nice names to column names\n",
    "\n",
    "excluded_features_columns = [\n",
    "    excluded_features_dictionary[f] for f in excluded_features if len(f) > 0 and f != \"none\"\n",
    "]"
   ]
  },
  {
   "cell_type": "code",
   "execution_count": 31,
   "id": "f84f73a2",
   "metadata": {
    "execution": {
     "iopub.execute_input": "2025-07-30T21:34:00.045235Z",
     "iopub.status.busy": "2025-07-30T21:34:00.044173Z",
     "iopub.status.idle": "2025-07-30T21:34:00.051119Z",
     "shell.execute_reply": "2025-07-30T21:34:00.050136Z"
    },
    "papermill": {
     "duration": 0.03353,
     "end_time": "2025-07-30T21:34:00.053056",
     "exception": false,
     "start_time": "2025-07-30T21:34:00.019526",
     "status": "completed"
    },
    "tags": []
   },
   "outputs": [],
   "source": [
    "from utils import flatten_once\n",
    "\n",
    "excluded_features_columns = flatten_once(excluded_features_columns)"
   ]
  },
  {
   "cell_type": "code",
   "execution_count": 32,
   "id": "884dea22",
   "metadata": {
    "execution": {
     "iopub.execute_input": "2025-07-30T21:34:00.099000Z",
     "iopub.status.busy": "2025-07-30T21:34:00.098535Z",
     "iopub.status.idle": "2025-07-30T21:34:00.106338Z",
     "shell.execute_reply": "2025-07-30T21:34:00.105351Z"
    },
    "papermill": {
     "duration": 0.032569,
     "end_time": "2025-07-30T21:34:00.108017",
     "exception": false,
     "start_time": "2025-07-30T21:34:00.075448",
     "status": "completed"
    },
    "tags": []
   },
   "outputs": [
    {
     "name": "stdout",
     "output_type": "stream",
     "text": [
      "Dropping features: ['age']\n"
     ]
    }
   ],
   "source": [
    "if len(excluded_features_columns) > 0:\n",
    "    print(f\"Dropping features: {excluded_features_columns}\")\n",
    "    X_train.drop(excluded_features_columns, axis=1, inplace=True)"
   ]
  },
  {
   "cell_type": "code",
   "execution_count": 33,
   "id": "95ab8b16",
   "metadata": {
    "execution": {
     "iopub.execute_input": "2025-07-30T21:34:00.156501Z",
     "iopub.status.busy": "2025-07-30T21:34:00.155495Z",
     "iopub.status.idle": "2025-07-30T21:34:00.214774Z",
     "shell.execute_reply": "2025-07-30T21:34:00.213711Z"
    },
    "papermill": {
     "duration": 0.085095,
     "end_time": "2025-07-30T21:34:00.216912",
     "exception": false,
     "start_time": "2025-07-30T21:34:00.131817",
     "status": "completed"
    },
    "tags": []
   },
   "outputs": [
    {
     "name": "stdout",
     "output_type": "stream",
     "text": [
      "Dropping features: ['age']\n"
     ]
    }
   ],
   "source": [
    "if len(excluded_features_columns) > 0:\n",
    "    print(f\"Dropping features: {excluded_features_columns}\")\n",
    "    X_test.drop(excluded_features_columns, axis=1, inplace=True)"
   ]
  },
  {
   "cell_type": "code",
   "execution_count": 34,
   "id": "1853aaf5-fb9f-46cb-a2b5-8ea4ae2237e4",
   "metadata": {
    "execution": {
     "iopub.execute_input": "2025-07-30T21:34:00.269798Z",
     "iopub.status.busy": "2025-07-30T21:34:00.269074Z",
     "iopub.status.idle": "2025-07-30T21:34:00.328571Z",
     "shell.execute_reply": "2025-07-30T21:34:00.327337Z"
    },
    "papermill": {
     "duration": 0.091606,
     "end_time": "2025-07-30T21:34:00.333258",
     "exception": false,
     "start_time": "2025-07-30T21:34:00.241652",
     "status": "completed"
    },
    "tags": []
   },
   "outputs": [
    {
     "name": "stdout",
     "output_type": "stream",
     "text": [
      "Dropping features: ['age']\n"
     ]
    }
   ],
   "source": [
    "if len(excluded_features_columns) > 0:\n",
    "    print(f\"Dropping features: {excluded_features_columns}\")\n",
    "    X_calib.drop(excluded_features_columns, axis=1, inplace=True)"
   ]
  },
  {
   "cell_type": "code",
   "execution_count": 35,
   "id": "6727d079-03e5-481e-9d38-292a90b7a0a8",
   "metadata": {
    "execution": {
     "iopub.execute_input": "2025-07-30T21:34:00.393442Z",
     "iopub.status.busy": "2025-07-30T21:34:00.392541Z",
     "iopub.status.idle": "2025-07-30T21:34:00.398265Z",
     "shell.execute_reply": "2025-07-30T21:34:00.397197Z"
    },
    "papermill": {
     "duration": 0.037179,
     "end_time": "2025-07-30T21:34:00.400301",
     "exception": false,
     "start_time": "2025-07-30T21:34:00.363122",
     "status": "completed"
    },
    "tags": []
   },
   "outputs": [],
   "source": [
    "# SPLIT & STRATIFY DATA\n",
    "# ----------------------"
   ]
  },
  {
   "cell_type": "code",
   "execution_count": 36,
   "id": "76c4dc6d",
   "metadata": {
    "execution": {
     "iopub.execute_input": "2025-07-30T21:34:00.455169Z",
     "iopub.status.busy": "2025-07-30T21:34:00.454247Z",
     "iopub.status.idle": "2025-07-30T21:34:00.460020Z",
     "shell.execute_reply": "2025-07-30T21:34:00.459021Z"
    },
    "papermill": {
     "duration": 0.035827,
     "end_time": "2025-07-30T21:34:00.462022",
     "exception": false,
     "start_time": "2025-07-30T21:34:00.426195",
     "status": "completed"
    },
    "tags": []
   },
   "outputs": [],
   "source": [
    "# EXCLUDE CERTAIN SUBGROUPS\n",
    "# ----------------------\n",
    "\n",
    "mode = universe.get(\"exclude_subgroups\", \"keep-all\") \n",
    "# Fetches the exclude_subgroups setting from the universe dict.\n",
    "# Defaults to \"keep-all\" if the key is missing."
   ]
  },
  {
   "cell_type": "code",
   "execution_count": 37,
   "id": "21994072",
   "metadata": {
    "execution": {
     "iopub.execute_input": "2025-07-30T21:34:00.517411Z",
     "iopub.status.busy": "2025-07-30T21:34:00.516881Z",
     "iopub.status.idle": "2025-07-30T21:34:00.524336Z",
     "shell.execute_reply": "2025-07-30T21:34:00.523129Z"
    },
    "papermill": {
     "duration": 0.037149,
     "end_time": "2025-07-30T21:34:00.526176",
     "exception": false,
     "start_time": "2025-07-30T21:34:00.489027",
     "status": "completed"
    },
    "tags": []
   },
   "outputs": [],
   "source": [
    "if mode == \"keep-all\":\n",
    "    keep_mask = pd.Series(True, index=org_train.index)\n",
    "\n",
    "# org_train contains the original feature columns from features_org (in Simson)\n",
    "# features_org contains unprocessed features, for me X_train at beginning ???\n",
    "# For keep-all, creates a boolean Series (keep_mask) of all True, so no rows are removed.\n",
    "\n",
    "elif mode == \"drop-non-german\":\n",
    "    keep_mask = org_train[\"maxdeutsch1\"] == 1 # ??? what about missing values?\n",
    "\n",
    "else:\n",
    "    raise ValueError(f\"Unsupported mode for exclude_subgroups: {mode}\")\n"
   ]
  },
  {
   "cell_type": "code",
   "execution_count": 38,
   "id": "71651440",
   "metadata": {
    "execution": {
     "iopub.execute_input": "2025-07-30T21:34:00.582255Z",
     "iopub.status.busy": "2025-07-30T21:34:00.581247Z",
     "iopub.status.idle": "2025-07-30T21:34:00.589717Z",
     "shell.execute_reply": "2025-07-30T21:34:00.588598Z"
    },
    "papermill": {
     "duration": 0.037296,
     "end_time": "2025-07-30T21:34:00.591577",
     "exception": false,
     "start_time": "2025-07-30T21:34:00.554281",
     "status": "completed"
    },
    "tags": []
   },
   "outputs": [
    {
     "name": "stdout",
     "output_type": "stream",
     "text": [
      "Dropping 147 rows (14.70%) where mode='drop-non-german'\n"
     ]
    }
   ],
   "source": [
    "n_drop = (~keep_mask).sum() # Calculates how many rows are set to be dropped\n",
    "if n_drop > 0:\n",
    "    pct = n_drop / len(keep_mask) * 100\n",
    "    print(f\"Dropping {n_drop} rows ({pct:.2f}%) where mode='{mode}'\")"
   ]
  },
  {
   "cell_type": "code",
   "execution_count": 39,
   "id": "5fb8eee5",
   "metadata": {
    "execution": {
     "iopub.execute_input": "2025-07-30T21:34:00.647279Z",
     "iopub.status.busy": "2025-07-30T21:34:00.646243Z",
     "iopub.status.idle": "2025-07-30T21:34:00.653386Z",
     "shell.execute_reply": "2025-07-30T21:34:00.652130Z"
    },
    "papermill": {
     "duration": 0.036484,
     "end_time": "2025-07-30T21:34:00.655174",
     "exception": false,
     "start_time": "2025-07-30T21:34:00.618690",
     "status": "completed"
    },
    "tags": []
   },
   "outputs": [],
   "source": [
    "X_train = X_train[keep_mask]"
   ]
  },
  {
   "cell_type": "code",
   "execution_count": 40,
   "id": "b202bb3a",
   "metadata": {
    "execution": {
     "iopub.execute_input": "2025-07-30T21:34:00.712190Z",
     "iopub.status.busy": "2025-07-30T21:34:00.711502Z",
     "iopub.status.idle": "2025-07-30T21:34:00.718193Z",
     "shell.execute_reply": "2025-07-30T21:34:00.717181Z"
    },
    "papermill": {
     "duration": 0.037758,
     "end_time": "2025-07-30T21:34:00.720254",
     "exception": false,
     "start_time": "2025-07-30T21:34:00.682496",
     "status": "completed"
    },
    "tags": []
   },
   "outputs": [],
   "source": [
    "y_train = y_train[keep_mask]"
   ]
  },
  {
   "cell_type": "markdown",
   "id": "493e2ac3",
   "metadata": {
    "papermill": {
     "duration": 0.026997,
     "end_time": "2025-07-30T21:34:00.774197",
     "exception": false,
     "start_time": "2025-07-30T21:34:00.747200",
     "status": "completed"
    },
    "tags": []
   },
   "source": [
    "# Model Training"
   ]
  },
  {
   "cell_type": "code",
   "execution_count": 41,
   "id": "679e1268",
   "metadata": {
    "execution": {
     "iopub.execute_input": "2025-07-30T21:34:00.829502Z",
     "iopub.status.busy": "2025-07-30T21:34:00.828951Z",
     "iopub.status.idle": "2025-07-30T21:34:00.937068Z",
     "shell.execute_reply": "2025-07-30T21:34:00.936020Z"
    },
    "papermill": {
     "duration": 0.139099,
     "end_time": "2025-07-30T21:34:00.939015",
     "exception": false,
     "start_time": "2025-07-30T21:34:00.799916",
     "status": "completed"
    },
    "tags": []
   },
   "outputs": [],
   "source": [
    "from sklearn.linear_model import LogisticRegression\n",
    "from sklearn.ensemble import GradientBoostingClassifier, RandomForestClassifier\n",
    "\n",
    "if (universe[\"model\"] == \"logreg\"):\n",
    "    model = LogisticRegression() #penalty=\"none\") #, solver=\"newton-cg\", max_iter=1) # include random_state=19 ?\n",
    "elif (universe[\"model\"] == \"penalized_logreg\"):\n",
    "    model = LogisticRegression(penalty=\"l2\", C=1.0) #, solver=\"newton-cg\", max_iter=1)\n",
    "elif (universe[\"model\"] == \"rf\"):\n",
    "    model = RandomForestClassifier(n_estimators=100, n_jobs=-1)\n",
    "elif (universe[\"model\"] == \"gbm\"):\n",
    "    model = GradientBoostingClassifier()\n",
    "elif (universe[\"model\"] == \"elasticnet\"):\n",
    "    model = LogisticRegression(penalty = 'elasticnet', solver = 'saga', l1_ratio = 0.5, max_iter=5000) # which solver to use?\n",
    "else:\n",
    "    raise \"Unsupported universe.model\""
   ]
  },
  {
   "cell_type": "code",
   "execution_count": 42,
   "id": "0cc8f744",
   "metadata": {
    "execution": {
     "iopub.execute_input": "2025-07-30T21:34:00.994898Z",
     "iopub.status.busy": "2025-07-30T21:34:00.993742Z",
     "iopub.status.idle": "2025-07-30T21:34:01.001074Z",
     "shell.execute_reply": "2025-07-30T21:34:00.999883Z"
    },
    "papermill": {
     "duration": 0.037152,
     "end_time": "2025-07-30T21:34:01.002776",
     "exception": false,
     "start_time": "2025-07-30T21:34:00.965624",
     "status": "completed"
    },
    "tags": []
   },
   "outputs": [],
   "source": [
    "import numpy as np\n",
    "from sklearn.pipeline import Pipeline\n",
    "from sklearn.preprocessing import StandardScaler\n",
    "\n",
    "model = Pipeline([\n",
    "    #(\"continuous_processor\", continuous_processor),\n",
    "    #(\"categorical_preprocessor\", categorical_preprocessor),\n",
    "    (\"scale\", StandardScaler() if universe[\"scale\"] == \"scale\" else None), \n",
    "    (\"model\", model),\n",
    "])"
   ]
  },
  {
   "cell_type": "code",
   "execution_count": 43,
   "id": "9442c04d",
   "metadata": {
    "execution": {
     "iopub.execute_input": "2025-07-30T21:34:01.053825Z",
     "iopub.status.busy": "2025-07-30T21:34:01.053246Z",
     "iopub.status.idle": "2025-07-30T21:34:01.133752Z",
     "shell.execute_reply": "2025-07-30T21:34:01.132780Z"
    },
    "papermill": {
     "duration": 0.107684,
     "end_time": "2025-07-30T21:34:01.135465",
     "exception": false,
     "start_time": "2025-07-30T21:34:01.027781",
     "status": "completed"
    },
    "tags": []
   },
   "outputs": [
    {
     "name": "stderr",
     "output_type": "stream",
     "text": [
      "/dss/dsshome1/0C/ra93lal2/.local/share/virtualenvs/CMA_Fairness_v2-3j10GkSs/lib/python3.10/site-packages/sklearn/linear_model/_logistic.py:444: ConvergenceWarning: lbfgs failed to converge (status=1):\n",
      "STOP: TOTAL NO. of ITERATIONS REACHED LIMIT.\n",
      "\n",
      "Increase the number of iterations (max_iter) or scale the data as shown in:\n",
      "    https://scikit-learn.org/stable/modules/preprocessing.html\n",
      "Please also refer to the documentation for alternative solver options:\n",
      "    https://scikit-learn.org/stable/modules/linear_model.html#logistic-regression\n",
      "  n_iter_i = _check_optimize_result(\n"
     ]
    },
    {
     "data": {
      "text/html": [
       "<style>#sk-container-id-1 {color: black;background-color: white;}#sk-container-id-1 pre{padding: 0;}#sk-container-id-1 div.sk-toggleable {background-color: white;}#sk-container-id-1 label.sk-toggleable__label {cursor: pointer;display: block;width: 100%;margin-bottom: 0;padding: 0.3em;box-sizing: border-box;text-align: center;}#sk-container-id-1 label.sk-toggleable__label-arrow:before {content: \"▸\";float: left;margin-right: 0.25em;color: #696969;}#sk-container-id-1 label.sk-toggleable__label-arrow:hover:before {color: black;}#sk-container-id-1 div.sk-estimator:hover label.sk-toggleable__label-arrow:before {color: black;}#sk-container-id-1 div.sk-toggleable__content {max-height: 0;max-width: 0;overflow: hidden;text-align: left;background-color: #f0f8ff;}#sk-container-id-1 div.sk-toggleable__content pre {margin: 0.2em;color: black;border-radius: 0.25em;background-color: #f0f8ff;}#sk-container-id-1 input.sk-toggleable__control:checked~div.sk-toggleable__content {max-height: 200px;max-width: 100%;overflow: auto;}#sk-container-id-1 input.sk-toggleable__control:checked~label.sk-toggleable__label-arrow:before {content: \"▾\";}#sk-container-id-1 div.sk-estimator input.sk-toggleable__control:checked~label.sk-toggleable__label {background-color: #d4ebff;}#sk-container-id-1 div.sk-label input.sk-toggleable__control:checked~label.sk-toggleable__label {background-color: #d4ebff;}#sk-container-id-1 input.sk-hidden--visually {border: 0;clip: rect(1px 1px 1px 1px);clip: rect(1px, 1px, 1px, 1px);height: 1px;margin: -1px;overflow: hidden;padding: 0;position: absolute;width: 1px;}#sk-container-id-1 div.sk-estimator {font-family: monospace;background-color: #f0f8ff;border: 1px dotted black;border-radius: 0.25em;box-sizing: border-box;margin-bottom: 0.5em;}#sk-container-id-1 div.sk-estimator:hover {background-color: #d4ebff;}#sk-container-id-1 div.sk-parallel-item::after {content: \"\";width: 100%;border-bottom: 1px solid gray;flex-grow: 1;}#sk-container-id-1 div.sk-label:hover label.sk-toggleable__label {background-color: #d4ebff;}#sk-container-id-1 div.sk-serial::before {content: \"\";position: absolute;border-left: 1px solid gray;box-sizing: border-box;top: 0;bottom: 0;left: 50%;z-index: 0;}#sk-container-id-1 div.sk-serial {display: flex;flex-direction: column;align-items: center;background-color: white;padding-right: 0.2em;padding-left: 0.2em;position: relative;}#sk-container-id-1 div.sk-item {position: relative;z-index: 1;}#sk-container-id-1 div.sk-parallel {display: flex;align-items: stretch;justify-content: center;background-color: white;position: relative;}#sk-container-id-1 div.sk-item::before, #sk-container-id-1 div.sk-parallel-item::before {content: \"\";position: absolute;border-left: 1px solid gray;box-sizing: border-box;top: 0;bottom: 0;left: 50%;z-index: -1;}#sk-container-id-1 div.sk-parallel-item {display: flex;flex-direction: column;z-index: 1;position: relative;background-color: white;}#sk-container-id-1 div.sk-parallel-item:first-child::after {align-self: flex-end;width: 50%;}#sk-container-id-1 div.sk-parallel-item:last-child::after {align-self: flex-start;width: 50%;}#sk-container-id-1 div.sk-parallel-item:only-child::after {width: 0;}#sk-container-id-1 div.sk-dashed-wrapped {border: 1px dashed gray;margin: 0 0.4em 0.5em 0.4em;box-sizing: border-box;padding-bottom: 0.4em;background-color: white;}#sk-container-id-1 div.sk-label label {font-family: monospace;font-weight: bold;display: inline-block;line-height: 1.2em;}#sk-container-id-1 div.sk-label-container {text-align: center;}#sk-container-id-1 div.sk-container {/* jupyter's `normalize.less` sets `[hidden] { display: none; }` but bootstrap.min.css set `[hidden] { display: none !important; }` so we also need the `!important` here to be able to override the default hidden behavior on the sphinx rendered scikit-learn.org. See: https://github.com/scikit-learn/scikit-learn/issues/21755 */display: inline-block !important;position: relative;}#sk-container-id-1 div.sk-text-repr-fallback {display: none;}</style><div id=\"sk-container-id-1\" class=\"sk-top-container\"><div class=\"sk-text-repr-fallback\"><pre>Pipeline(steps=[(&#x27;scale&#x27;, StandardScaler()), (&#x27;model&#x27;, LogisticRegression())])</pre><b>In a Jupyter environment, please rerun this cell to show the HTML representation or trust the notebook. <br />On GitHub, the HTML representation is unable to render, please try loading this page with nbviewer.org.</b></div><div class=\"sk-container\" hidden><div class=\"sk-item sk-dashed-wrapped\"><div class=\"sk-label-container\"><div class=\"sk-label sk-toggleable\"><input class=\"sk-toggleable__control sk-hidden--visually\" id=\"sk-estimator-id-1\" type=\"checkbox\" ><label for=\"sk-estimator-id-1\" class=\"sk-toggleable__label sk-toggleable__label-arrow\">Pipeline</label><div class=\"sk-toggleable__content\"><pre>Pipeline(steps=[(&#x27;scale&#x27;, StandardScaler()), (&#x27;model&#x27;, LogisticRegression())])</pre></div></div></div><div class=\"sk-serial\"><div class=\"sk-item\"><div class=\"sk-estimator sk-toggleable\"><input class=\"sk-toggleable__control sk-hidden--visually\" id=\"sk-estimator-id-2\" type=\"checkbox\" ><label for=\"sk-estimator-id-2\" class=\"sk-toggleable__label sk-toggleable__label-arrow\">StandardScaler</label><div class=\"sk-toggleable__content\"><pre>StandardScaler()</pre></div></div></div><div class=\"sk-item\"><div class=\"sk-estimator sk-toggleable\"><input class=\"sk-toggleable__control sk-hidden--visually\" id=\"sk-estimator-id-3\" type=\"checkbox\" ><label for=\"sk-estimator-id-3\" class=\"sk-toggleable__label sk-toggleable__label-arrow\">LogisticRegression</label><div class=\"sk-toggleable__content\"><pre>LogisticRegression()</pre></div></div></div></div></div></div></div>"
      ],
      "text/plain": [
       "Pipeline(steps=[('scale', StandardScaler()), ('model', LogisticRegression())])"
      ]
     },
     "execution_count": 43,
     "metadata": {},
     "output_type": "execute_result"
    }
   ],
   "source": [
    "model.fit(X_train, y_train.values.ravel())"
   ]
  },
  {
   "cell_type": "code",
   "execution_count": 44,
   "id": "af59f8c0",
   "metadata": {
    "execution": {
     "iopub.execute_input": "2025-07-30T21:34:01.185272Z",
     "iopub.status.busy": "2025-07-30T21:34:01.184533Z",
     "iopub.status.idle": "2025-07-30T21:34:01.190406Z",
     "shell.execute_reply": "2025-07-30T21:34:01.189203Z"
    },
    "papermill": {
     "duration": 0.032633,
     "end_time": "2025-07-30T21:34:01.192318",
     "exception": false,
     "start_time": "2025-07-30T21:34:01.159685",
     "status": "completed"
    },
    "tags": []
   },
   "outputs": [],
   "source": [
    "from fairness_multiverse.universe import predict_w_threshold"
   ]
  },
  {
   "cell_type": "code",
   "execution_count": 45,
   "id": "a7cf2e16",
   "metadata": {
    "execution": {
     "iopub.execute_input": "2025-07-30T21:34:01.243702Z",
     "iopub.status.busy": "2025-07-30T21:34:01.243030Z",
     "iopub.status.idle": "2025-07-30T21:34:01.461521Z",
     "shell.execute_reply": "2025-07-30T21:34:01.460441Z"
    },
    "papermill": {
     "duration": 0.245877,
     "end_time": "2025-07-30T21:34:01.463301",
     "exception": false,
     "start_time": "2025-07-30T21:34:01.217424",
     "status": "completed"
    },
    "tags": []
   },
   "outputs": [
    {
     "data": {
      "text/plain": [
       "0.8169880726786312"
      ]
     },
     "execution_count": 45,
     "metadata": {},
     "output_type": "execute_result"
    }
   ],
   "source": [
    "probs_test = model.predict_proba(X_test)\n",
    "\n",
    "'''\n",
    "Below code returns a boolean array (or binary 0/1 array depending on how it’s used) where each element \n",
    "is True if the probability of class 1 is greater than or equal to the threshold, and False otherwise.\n",
    "'''\n",
    "y_pred_default = predict_w_threshold(probs_test, 0.5)\n",
    "\n",
    "from sklearn.metrics import accuracy_score\n",
    "\n",
    "# Naive prediction\n",
    "accuracy_score(y_true = y_true, y_pred = y_pred_default)"
   ]
  },
  {
   "cell_type": "code",
   "execution_count": 46,
   "id": "081964c3",
   "metadata": {
    "execution": {
     "iopub.execute_input": "2025-07-30T21:34:01.514895Z",
     "iopub.status.busy": "2025-07-30T21:34:01.513947Z",
     "iopub.status.idle": "2025-07-30T21:34:01.703721Z",
     "shell.execute_reply": "2025-07-30T21:34:01.702531Z"
    },
    "papermill": {
     "duration": 0.217122,
     "end_time": "2025-07-30T21:34:01.705451",
     "exception": false,
     "start_time": "2025-07-30T21:34:01.488329",
     "status": "completed"
    },
    "tags": []
   },
   "outputs": [
    {
     "data": {
      "text/plain": [
       "array([0, 0, 1, ..., 0, 0, 0])"
      ]
     },
     "execution_count": 46,
     "metadata": {},
     "output_type": "execute_result"
    }
   ],
   "source": [
    "model.predict(X_test)"
   ]
  },
  {
   "cell_type": "markdown",
   "id": "56c9705b",
   "metadata": {
    "papermill": {
     "duration": 0.024369,
     "end_time": "2025-07-30T21:34:01.758570",
     "exception": false,
     "start_time": "2025-07-30T21:34:01.734201",
     "status": "completed"
    },
    "tags": []
   },
   "source": [
    "# Conformal Prediction"
   ]
  },
  {
   "cell_type": "code",
   "execution_count": 47,
   "id": "160ec6ff",
   "metadata": {
    "execution": {
     "iopub.execute_input": "2025-07-30T21:34:01.809236Z",
     "iopub.status.busy": "2025-07-30T21:34:01.808771Z",
     "iopub.status.idle": "2025-07-30T21:34:01.813541Z",
     "shell.execute_reply": "2025-07-30T21:34:01.812688Z"
    },
    "papermill": {
     "duration": 0.032452,
     "end_time": "2025-07-30T21:34:01.815147",
     "exception": false,
     "start_time": "2025-07-30T21:34:01.782695",
     "status": "completed"
    },
    "tags": []
   },
   "outputs": [],
   "source": [
    "# Miscoverage level for conformal prediction (10% allowed error rate => 90% target coverage)\n",
    "alpha = 0.1"
   ]
  },
  {
   "cell_type": "code",
   "execution_count": 48,
   "id": "eadf4555-3dd3-440e-8e35-f82a4ad9f855",
   "metadata": {
    "execution": {
     "iopub.execute_input": "2025-07-30T21:34:01.864889Z",
     "iopub.status.busy": "2025-07-30T21:34:01.864401Z",
     "iopub.status.idle": "2025-07-30T21:34:02.044975Z",
     "shell.execute_reply": "2025-07-30T21:34:02.043958Z"
    },
    "papermill": {
     "duration": 0.207795,
     "end_time": "2025-07-30T21:34:02.046847",
     "exception": false,
     "start_time": "2025-07-30T21:34:01.839052",
     "status": "completed"
    },
    "tags": []
   },
   "outputs": [],
   "source": [
    "probs_calib = model.predict_proba(X_calib)"
   ]
  },
  {
   "cell_type": "code",
   "execution_count": 49,
   "id": "2ed93547-6d5d-4983-9b36-1ecb300da49a",
   "metadata": {
    "execution": {
     "iopub.execute_input": "2025-07-30T21:34:02.098855Z",
     "iopub.status.busy": "2025-07-30T21:34:02.098361Z",
     "iopub.status.idle": "2025-07-30T21:34:02.104195Z",
     "shell.execute_reply": "2025-07-30T21:34:02.103337Z"
    },
    "papermill": {
     "duration": 0.035016,
     "end_time": "2025-07-30T21:34:02.105984",
     "exception": false,
     "start_time": "2025-07-30T21:34:02.070968",
     "status": "completed"
    },
    "tags": []
   },
   "outputs": [],
   "source": [
    "y_calib = y_calib.values.ravel().astype(int)"
   ]
  },
  {
   "cell_type": "code",
   "execution_count": 50,
   "id": "65d1320d-f588-4b38-9072-62af1ae97f7d",
   "metadata": {
    "execution": {
     "iopub.execute_input": "2025-07-30T21:34:02.156778Z",
     "iopub.status.busy": "2025-07-30T21:34:02.156293Z",
     "iopub.status.idle": "2025-07-30T21:34:02.163421Z",
     "shell.execute_reply": "2025-07-30T21:34:02.162560Z"
    },
    "papermill": {
     "duration": 0.034754,
     "end_time": "2025-07-30T21:34:02.165163",
     "exception": false,
     "start_time": "2025-07-30T21:34:02.130409",
     "status": "completed"
    },
    "tags": []
   },
   "outputs": [],
   "source": [
    "from fairness_multiverse.conformal import compute_nc_scores\n",
    "\n",
    "# Compute nonconformity scores on calibration set (1 - probability of true class)\n",
    "nc_scores = compute_nc_scores(probs_calib, y_calib)"
   ]
  },
  {
   "cell_type": "code",
   "execution_count": 51,
   "id": "df3b8ca3-53b7-43d5-9667-7c85da7aeda2",
   "metadata": {
    "execution": {
     "iopub.execute_input": "2025-07-30T21:34:02.215284Z",
     "iopub.status.busy": "2025-07-30T21:34:02.214643Z",
     "iopub.status.idle": "2025-07-30T21:34:02.222311Z",
     "shell.execute_reply": "2025-07-30T21:34:02.221382Z"
    },
    "papermill": {
     "duration": 0.033746,
     "end_time": "2025-07-30T21:34:02.223800",
     "exception": false,
     "start_time": "2025-07-30T21:34:02.190054",
     "status": "completed"
    },
    "tags": []
   },
   "outputs": [],
   "source": [
    "from fairness_multiverse.conformal import find_threshold\n",
    "\n",
    "# Find conformal threshold q_hat for the given alpha (split conformal method)\n",
    "q_hat = find_threshold(nc_scores, alpha)"
   ]
  },
  {
   "cell_type": "code",
   "execution_count": 52,
   "id": "4d29e6c1-0ef6-4aa4-b8fe-4fe79b0d033a",
   "metadata": {
    "execution": {
     "iopub.execute_input": "2025-07-30T21:34:02.274043Z",
     "iopub.status.busy": "2025-07-30T21:34:02.273258Z",
     "iopub.status.idle": "2025-07-30T21:34:02.281178Z",
     "shell.execute_reply": "2025-07-30T21:34:02.279949Z"
    },
    "papermill": {
     "duration": 0.033752,
     "end_time": "2025-07-30T21:34:02.283300",
     "exception": false,
     "start_time": "2025-07-30T21:34:02.249548",
     "status": "completed"
    },
    "tags": []
   },
   "outputs": [
    {
     "data": {
      "text/plain": [
       "0.8266080162236921"
      ]
     },
     "execution_count": 52,
     "metadata": {},
     "output_type": "execute_result"
    }
   ],
   "source": [
    "q_hat"
   ]
  },
  {
   "cell_type": "code",
   "execution_count": 53,
   "id": "92460794-cdac-4be2-ba28-f28c0515a6fb",
   "metadata": {
    "execution": {
     "iopub.execute_input": "2025-07-30T21:34:02.338246Z",
     "iopub.status.busy": "2025-07-30T21:34:02.337335Z",
     "iopub.status.idle": "2025-07-30T21:34:03.275287Z",
     "shell.execute_reply": "2025-07-30T21:34:03.274364Z"
    },
    "papermill": {
     "duration": 0.968577,
     "end_time": "2025-07-30T21:34:03.277537",
     "exception": false,
     "start_time": "2025-07-30T21:34:02.308960",
     "status": "completed"
    },
    "tags": []
   },
   "outputs": [],
   "source": [
    "from fairness_multiverse.conformal import predict_conformal_sets\n",
    "\n",
    "# Generate prediction sets for each test example\n",
    "pred_sets = predict_conformal_sets(model, X_test, q_hat)"
   ]
  },
  {
   "cell_type": "code",
   "execution_count": 54,
   "id": "d90c9a65-e6db-4f5d-80cd-e68fb7e46829",
   "metadata": {
    "execution": {
     "iopub.execute_input": "2025-07-30T21:34:03.329582Z",
     "iopub.status.busy": "2025-07-30T21:34:03.328932Z",
     "iopub.status.idle": "2025-07-30T21:34:03.334493Z",
     "shell.execute_reply": "2025-07-30T21:34:03.333625Z"
    },
    "papermill": {
     "duration": 0.032057,
     "end_time": "2025-07-30T21:34:03.336197",
     "exception": false,
     "start_time": "2025-07-30T21:34:03.304140",
     "status": "completed"
    },
    "tags": []
   },
   "outputs": [],
   "source": [
    "y_true = y_true.squeeze()"
   ]
  },
  {
   "cell_type": "code",
   "execution_count": 55,
   "id": "3a58a54a-1e68-46b9-927a-df01f18aebc8",
   "metadata": {
    "execution": {
     "iopub.execute_input": "2025-07-30T21:34:03.390052Z",
     "iopub.status.busy": "2025-07-30T21:34:03.389569Z",
     "iopub.status.idle": "2025-07-30T21:34:04.342171Z",
     "shell.execute_reply": "2025-07-30T21:34:04.341095Z"
    },
    "papermill": {
     "duration": 0.981541,
     "end_time": "2025-07-30T21:34:04.344027",
     "exception": false,
     "start_time": "2025-07-30T21:34:03.362486",
     "status": "completed"
    },
    "tags": []
   },
   "outputs": [],
   "source": [
    "from fairness_multiverse.conformal import evaluate_sets\n",
    "\n",
    "# Evaluate coverage and average set size on test data\n",
    "metrics = evaluate_sets(pred_sets, y_true)"
   ]
  },
  {
   "cell_type": "markdown",
   "id": "2b569c12-9aaa-4c88-98c9-bbcd0cf3ebb8",
   "metadata": {
    "papermill": {
     "duration": 0.026193,
     "end_time": "2025-07-30T21:34:04.396306",
     "exception": false,
     "start_time": "2025-07-30T21:34:04.370113",
     "status": "completed"
    },
    "tags": []
   },
   "source": [
    "# CP Metrics"
   ]
  },
  {
   "cell_type": "code",
   "execution_count": 56,
   "id": "5ce0a5cb-201f-45a0-ade5-94c7f0bd6095",
   "metadata": {
    "execution": {
     "iopub.execute_input": "2025-07-30T21:34:04.449526Z",
     "iopub.status.busy": "2025-07-30T21:34:04.449062Z",
     "iopub.status.idle": "2025-07-30T21:34:04.456760Z",
     "shell.execute_reply": "2025-07-30T21:34:04.455661Z"
    },
    "papermill": {
     "duration": 0.036948,
     "end_time": "2025-07-30T21:34:04.458781",
     "exception": false,
     "start_time": "2025-07-30T21:34:04.421833",
     "status": "completed"
    },
    "tags": []
   },
   "outputs": [
    {
     "data": {
      "text/plain": [
       "{'coverage': 0.9093635046260171, 'avg_size': 1.2739493924869023}"
      ]
     },
     "execution_count": 56,
     "metadata": {},
     "output_type": "execute_result"
    }
   ],
   "source": [
    "metrics"
   ]
  },
  {
   "cell_type": "code",
   "execution_count": 57,
   "id": "9b9a838d-31c9-430b-ae14-12baee460d17",
   "metadata": {
    "execution": {
     "iopub.execute_input": "2025-07-30T21:34:04.512545Z",
     "iopub.status.busy": "2025-07-30T21:34:04.511999Z",
     "iopub.status.idle": "2025-07-30T21:34:04.519024Z",
     "shell.execute_reply": "2025-07-30T21:34:04.517967Z"
    },
    "papermill": {
     "duration": 0.035907,
     "end_time": "2025-07-30T21:34:04.520822",
     "exception": false,
     "start_time": "2025-07-30T21:34:04.484915",
     "status": "completed"
    },
    "tags": []
   },
   "outputs": [],
   "source": [
    "example_universe = universe.copy()\n",
    "universe_training_year = example_universe.get(\"training_year\")\n",
    "universe_training_size = example_universe.get(\"training_size\")\n",
    "universe_scale = example_universe.get(\"scale\")\n",
    "universe_model = example_universe.get(\"model\")\n",
    "universe_exclude_features = example_universe.get(\"exclude_features\")\n",
    "universe_exclude_subgroups = example_universe.get(\"exclude_subgroups\")"
   ]
  },
  {
   "cell_type": "code",
   "execution_count": 58,
   "id": "f4b6a8ac-9dc0-4245-8a91-5b3b5999c4f9",
   "metadata": {
    "execution": {
     "iopub.execute_input": "2025-07-30T21:34:04.575409Z",
     "iopub.status.busy": "2025-07-30T21:34:04.574673Z",
     "iopub.status.idle": "2025-07-30T21:34:04.582210Z",
     "shell.execute_reply": "2025-07-30T21:34:04.581214Z"
    },
    "papermill": {
     "duration": 0.036453,
     "end_time": "2025-07-30T21:34:04.583965",
     "exception": false,
     "start_time": "2025-07-30T21:34:04.547512",
     "status": "completed"
    },
    "tags": []
   },
   "outputs": [],
   "source": [
    "cp_metrics_dict = {\n",
    "    \"universe_id\": [universe_id],\n",
    "    \"universe_training_year\": [universe_training_year],\n",
    "    \"universe_training_size\": [universe_training_size],\n",
    "    \"universe_scale\": [universe_scale],\n",
    "    \"universe_model\": [universe_model],\n",
    "    \"universe_exclude_features\": [universe_exclude_features],\n",
    "    \"universe_exclude_subgroups\": [universe_exclude_subgroups],\n",
    "    \"q_hat\": [q_hat],\n",
    "    \"coverage\": [metrics[\"coverage\"]],\n",
    "    \"avg_size\": [metrics[\"avg_size\"]],\n",
    "}"
   ]
  },
  {
   "cell_type": "code",
   "execution_count": 59,
   "id": "908acbb1-0371-4915-85ca-3fa520d2efe2",
   "metadata": {
    "execution": {
     "iopub.execute_input": "2025-07-30T21:34:04.639055Z",
     "iopub.status.busy": "2025-07-30T21:34:04.638451Z",
     "iopub.status.idle": "2025-07-30T21:34:04.648150Z",
     "shell.execute_reply": "2025-07-30T21:34:04.646983Z"
    },
    "papermill": {
     "duration": 0.038804,
     "end_time": "2025-07-30T21:34:04.650123",
     "exception": false,
     "start_time": "2025-07-30T21:34:04.611319",
     "status": "completed"
    },
    "tags": []
   },
   "outputs": [
    {
     "data": {
      "text/plain": [
       "{'universe_id': ['98604c894a83986dd54448eca0c88f5a'],\n",
       " 'universe_training_year': ['2012_14'],\n",
       " 'universe_training_size': ['1k'],\n",
       " 'universe_scale': ['scale'],\n",
       " 'universe_model': ['logreg'],\n",
       " 'universe_exclude_features': ['age'],\n",
       " 'universe_exclude_subgroups': ['drop-non-german'],\n",
       " 'q_hat': [0.8266080162236921],\n",
       " 'coverage': [0.9093635046260171],\n",
       " 'avg_size': [1.2739493924869023]}"
      ]
     },
     "execution_count": 59,
     "metadata": {},
     "output_type": "execute_result"
    }
   ],
   "source": [
    "cp_metrics_dict"
   ]
  },
  {
   "cell_type": "code",
   "execution_count": 60,
   "id": "33007efc-14e9-4ec6-97ac-56a455c82265",
   "metadata": {
    "execution": {
     "iopub.execute_input": "2025-07-30T21:34:04.704517Z",
     "iopub.status.busy": "2025-07-30T21:34:04.703579Z",
     "iopub.status.idle": "2025-07-30T21:34:04.711347Z",
     "shell.execute_reply": "2025-07-30T21:34:04.710269Z"
    },
    "papermill": {
     "duration": 0.036045,
     "end_time": "2025-07-30T21:34:04.713076",
     "exception": false,
     "start_time": "2025-07-30T21:34:04.677031",
     "status": "completed"
    },
    "tags": []
   },
   "outputs": [],
   "source": [
    "cp_metrics_df = pd.DataFrame(cp_metrics_dict)"
   ]
  },
  {
   "cell_type": "code",
   "execution_count": 61,
   "id": "db12611b-57b2-4910-b9d0-355adfd6e7bf",
   "metadata": {
    "execution": {
     "iopub.execute_input": "2025-07-30T21:34:04.766732Z",
     "iopub.status.busy": "2025-07-30T21:34:04.766011Z",
     "iopub.status.idle": "2025-07-30T21:34:04.790107Z",
     "shell.execute_reply": "2025-07-30T21:34:04.789008Z"
    },
    "papermill": {
     "duration": 0.053066,
     "end_time": "2025-07-30T21:34:04.791937",
     "exception": false,
     "start_time": "2025-07-30T21:34:04.738871",
     "status": "completed"
    },
    "tags": []
   },
   "outputs": [
    {
     "data": {
      "text/html": [
       "<div>\n",
       "<style scoped>\n",
       "    .dataframe tbody tr th:only-of-type {\n",
       "        vertical-align: middle;\n",
       "    }\n",
       "\n",
       "    .dataframe tbody tr th {\n",
       "        vertical-align: top;\n",
       "    }\n",
       "\n",
       "    .dataframe thead th {\n",
       "        text-align: right;\n",
       "    }\n",
       "</style>\n",
       "<table border=\"1\" class=\"dataframe\">\n",
       "  <thead>\n",
       "    <tr style=\"text-align: right;\">\n",
       "      <th></th>\n",
       "      <th>universe_id</th>\n",
       "      <th>universe_training_year</th>\n",
       "      <th>universe_training_size</th>\n",
       "      <th>universe_scale</th>\n",
       "      <th>universe_model</th>\n",
       "      <th>universe_exclude_features</th>\n",
       "      <th>universe_exclude_subgroups</th>\n",
       "      <th>q_hat</th>\n",
       "      <th>coverage</th>\n",
       "      <th>avg_size</th>\n",
       "    </tr>\n",
       "  </thead>\n",
       "  <tbody>\n",
       "    <tr>\n",
       "      <th>0</th>\n",
       "      <td>98604c894a83986dd54448eca0c88f5a</td>\n",
       "      <td>2012_14</td>\n",
       "      <td>1k</td>\n",
       "      <td>scale</td>\n",
       "      <td>logreg</td>\n",
       "      <td>age</td>\n",
       "      <td>drop-non-german</td>\n",
       "      <td>0.826608</td>\n",
       "      <td>0.909364</td>\n",
       "      <td>1.273949</td>\n",
       "    </tr>\n",
       "  </tbody>\n",
       "</table>\n",
       "</div>"
      ],
      "text/plain": [
       "                        universe_id universe_training_year  \\\n",
       "0  98604c894a83986dd54448eca0c88f5a                2012_14   \n",
       "\n",
       "  universe_training_size universe_scale universe_model  \\\n",
       "0                     1k          scale         logreg   \n",
       "\n",
       "  universe_exclude_features universe_exclude_subgroups     q_hat  coverage  \\\n",
       "0                       age            drop-non-german  0.826608  0.909364   \n",
       "\n",
       "   avg_size  \n",
       "0  1.273949  "
      ]
     },
     "execution_count": 61,
     "metadata": {},
     "output_type": "execute_result"
    }
   ],
   "source": [
    "cp_metrics_df"
   ]
  },
  {
   "cell_type": "code",
   "execution_count": 62,
   "id": "b7fbde55-a0a1-47e4-9af6-fe4a17fa8c61",
   "metadata": {
    "execution": {
     "iopub.execute_input": "2025-07-30T21:34:04.844642Z",
     "iopub.status.busy": "2025-07-30T21:34:04.844179Z",
     "iopub.status.idle": "2025-07-30T21:34:04.849466Z",
     "shell.execute_reply": "2025-07-30T21:34:04.848499Z"
    },
    "papermill": {
     "duration": 0.033316,
     "end_time": "2025-07-30T21:34:04.851169",
     "exception": false,
     "start_time": "2025-07-30T21:34:04.817853",
     "status": "completed"
    },
    "tags": []
   },
   "outputs": [],
   "source": [
    "# Conditional Coverage & looking at subgroups"
   ]
  },
  {
   "cell_type": "code",
   "execution_count": 63,
   "id": "027ae886-68dd-4141-96c7-805a5450e1ef",
   "metadata": {
    "execution": {
     "iopub.execute_input": "2025-07-30T21:34:04.904676Z",
     "iopub.status.busy": "2025-07-30T21:34:04.904289Z",
     "iopub.status.idle": "2025-07-30T21:34:05.178660Z",
     "shell.execute_reply": "2025-07-30T21:34:05.177600Z"
    },
    "papermill": {
     "duration": 0.303125,
     "end_time": "2025-07-30T21:34:05.181038",
     "exception": false,
     "start_time": "2025-07-30T21:34:04.877913",
     "status": "completed"
    },
    "tags": []
   },
   "outputs": [],
   "source": [
    "from fairness_multiverse.conformal import build_cp_groups\n",
    "\n",
    "cp_groups_df = build_cp_groups(pred_sets, y_true, X_test.index, org_test)\n",
    "#needs universe_id and setting"
   ]
  },
  {
   "cell_type": "code",
   "execution_count": 64,
   "id": "01d5802c-663a-4d1f-9d69-e036faaffbf7",
   "metadata": {
    "execution": {
     "iopub.execute_input": "2025-07-30T21:34:05.258702Z",
     "iopub.status.busy": "2025-07-30T21:34:05.257986Z",
     "iopub.status.idle": "2025-07-30T21:34:05.264451Z",
     "shell.execute_reply": "2025-07-30T21:34:05.263337Z"
    },
    "papermill": {
     "duration": 0.046853,
     "end_time": "2025-07-30T21:34:05.266178",
     "exception": false,
     "start_time": "2025-07-30T21:34:05.219325",
     "status": "completed"
    },
    "tags": []
   },
   "outputs": [],
   "source": [
    "#delete\n",
    "#cp_groups_df"
   ]
  },
  {
   "cell_type": "code",
   "execution_count": 65,
   "id": "fa424af1-d1eb-443d-b717-2d279ada8408",
   "metadata": {
    "execution": {
     "iopub.execute_input": "2025-07-30T21:34:05.324280Z",
     "iopub.status.busy": "2025-07-30T21:34:05.323247Z",
     "iopub.status.idle": "2025-07-30T21:34:05.330353Z",
     "shell.execute_reply": "2025-07-30T21:34:05.329197Z"
    },
    "papermill": {
     "duration": 0.041624,
     "end_time": "2025-07-30T21:34:05.332195",
     "exception": false,
     "start_time": "2025-07-30T21:34:05.290571",
     "status": "completed"
    },
    "tags": []
   },
   "outputs": [],
   "source": [
    "#delete\n",
    "#percentage = (cp_groups_df['nongerman_female'] == 1).mean() * 100\n",
    "#print(percentage)\n"
   ]
  },
  {
   "cell_type": "code",
   "execution_count": 66,
   "id": "6cbdab96-b2b2-45af-ad54-d0516db2e28d",
   "metadata": {
    "execution": {
     "iopub.execute_input": "2025-07-30T21:34:05.384064Z",
     "iopub.status.busy": "2025-07-30T21:34:05.383316Z",
     "iopub.status.idle": "2025-07-30T21:34:06.950853Z",
     "shell.execute_reply": "2025-07-30T21:34:06.949747Z"
    },
    "papermill": {
     "duration": 1.595068,
     "end_time": "2025-07-30T21:34:06.952435",
     "exception": false,
     "start_time": "2025-07-30T21:34:05.357367",
     "status": "completed"
    },
    "tags": []
   },
   "outputs": [],
   "source": [
    "# Define covered = 1 if true_label is in the predicted set\n",
    "cp_groups_df['covered'] = cp_groups_df.apply(\n",
    "    lambda r: int(r['true_label'] in r['pred_set']),\n",
    "    axis=1\n",
    ")"
   ]
  },
  {
   "cell_type": "code",
   "execution_count": 67,
   "id": "338ff529-1a6b-4b87-a931-8e4788d52aad",
   "metadata": {
    "execution": {
     "iopub.execute_input": "2025-07-30T21:34:07.002748Z",
     "iopub.status.busy": "2025-07-30T21:34:07.002248Z",
     "iopub.status.idle": "2025-07-30T21:34:07.008824Z",
     "shell.execute_reply": "2025-07-30T21:34:07.007637Z"
    },
    "papermill": {
     "duration": 0.030904,
     "end_time": "2025-07-30T21:34:07.010815",
     "exception": false,
     "start_time": "2025-07-30T21:34:06.979911",
     "status": "completed"
    },
    "tags": []
   },
   "outputs": [],
   "source": [
    "#cp_groups_df"
   ]
  },
  {
   "cell_type": "code",
   "execution_count": 68,
   "id": "90032e27-66df-4540-9169-4e89cfbaa758",
   "metadata": {
    "execution": {
     "iopub.execute_input": "2025-07-30T21:34:07.069798Z",
     "iopub.status.busy": "2025-07-30T21:34:07.068767Z",
     "iopub.status.idle": "2025-07-30T21:34:07.080677Z",
     "shell.execute_reply": "2025-07-30T21:34:07.079613Z"
    },
    "papermill": {
     "duration": 0.043561,
     "end_time": "2025-07-30T21:34:07.082468",
     "exception": false,
     "start_time": "2025-07-30T21:34:07.038907",
     "status": "completed"
    },
    "tags": []
   },
   "outputs": [],
   "source": [
    "subgroups = ['frau1','nongerman','nongerman_male','nongerman_female']\n",
    "\n",
    "# Conditional coverage for subgroup==1\n",
    "cond_coverage = {\n",
    "    g: cp_groups_df.loc[cp_groups_df[g]==1, 'covered'].mean()\n",
    "    for g in subgroups\n",
    "}"
   ]
  },
  {
   "cell_type": "code",
   "execution_count": 69,
   "id": "1e348fb1-b9c3-45bc-ba23-f016827a7e0d",
   "metadata": {
    "execution": {
     "iopub.execute_input": "2025-07-30T21:34:07.136707Z",
     "iopub.status.busy": "2025-07-30T21:34:07.135615Z",
     "iopub.status.idle": "2025-07-30T21:34:07.144040Z",
     "shell.execute_reply": "2025-07-30T21:34:07.142976Z"
    },
    "papermill": {
     "duration": 0.03865,
     "end_time": "2025-07-30T21:34:07.145733",
     "exception": false,
     "start_time": "2025-07-30T21:34:07.107083",
     "status": "completed"
    },
    "tags": []
   },
   "outputs": [
    {
     "data": {
      "text/plain": [
       "{'frau1': 0.8998247742283326,\n",
       " 'nongerman': 0.9172514455734576,\n",
       " 'nongerman_male': 0.9370440421507701,\n",
       " 'nongerman_female': 0.8845007451564829}"
      ]
     },
     "execution_count": 69,
     "metadata": {},
     "output_type": "execute_result"
    }
   ],
   "source": [
    "cond_coverage"
   ]
  },
  {
   "cell_type": "code",
   "execution_count": 70,
   "id": "f5093324-c3dd-4d63-bc4c-8d945e5c8bbb",
   "metadata": {
    "execution": {
     "iopub.execute_input": "2025-07-30T21:34:07.202286Z",
     "iopub.status.busy": "2025-07-30T21:34:07.201831Z",
     "iopub.status.idle": "2025-07-30T21:34:07.212340Z",
     "shell.execute_reply": "2025-07-30T21:34:07.211123Z"
    },
    "papermill": {
     "duration": 0.041253,
     "end_time": "2025-07-30T21:34:07.213930",
     "exception": false,
     "start_time": "2025-07-30T21:34:07.172677",
     "status": "completed"
    },
    "tags": []
   },
   "outputs": [],
   "source": [
    "for subgroup, cov in cond_coverage.items():\n",
    "    cp_metrics_df[f\"cov_{subgroup}\"] = cov"
   ]
  },
  {
   "cell_type": "code",
   "execution_count": 71,
   "id": "6e872e10-dbe5-49e8-b554-5030c98ff75d",
   "metadata": {
    "execution": {
     "iopub.execute_input": "2025-07-30T21:34:07.272846Z",
     "iopub.status.busy": "2025-07-30T21:34:07.272387Z",
     "iopub.status.idle": "2025-07-30T21:34:07.293528Z",
     "shell.execute_reply": "2025-07-30T21:34:07.292756Z"
    },
    "papermill": {
     "duration": 0.051559,
     "end_time": "2025-07-30T21:34:07.294802",
     "exception": false,
     "start_time": "2025-07-30T21:34:07.243243",
     "status": "completed"
    },
    "tags": []
   },
   "outputs": [
    {
     "data": {
      "text/html": [
       "<div>\n",
       "<style scoped>\n",
       "    .dataframe tbody tr th:only-of-type {\n",
       "        vertical-align: middle;\n",
       "    }\n",
       "\n",
       "    .dataframe tbody tr th {\n",
       "        vertical-align: top;\n",
       "    }\n",
       "\n",
       "    .dataframe thead th {\n",
       "        text-align: right;\n",
       "    }\n",
       "</style>\n",
       "<table border=\"1\" class=\"dataframe\">\n",
       "  <thead>\n",
       "    <tr style=\"text-align: right;\">\n",
       "      <th></th>\n",
       "      <th>universe_id</th>\n",
       "      <th>universe_training_year</th>\n",
       "      <th>universe_training_size</th>\n",
       "      <th>universe_scale</th>\n",
       "      <th>universe_model</th>\n",
       "      <th>universe_exclude_features</th>\n",
       "      <th>universe_exclude_subgroups</th>\n",
       "      <th>q_hat</th>\n",
       "      <th>coverage</th>\n",
       "      <th>avg_size</th>\n",
       "      <th>cov_frau1</th>\n",
       "      <th>cov_nongerman</th>\n",
       "      <th>cov_nongerman_male</th>\n",
       "      <th>cov_nongerman_female</th>\n",
       "    </tr>\n",
       "  </thead>\n",
       "  <tbody>\n",
       "    <tr>\n",
       "      <th>0</th>\n",
       "      <td>98604c894a83986dd54448eca0c88f5a</td>\n",
       "      <td>2012_14</td>\n",
       "      <td>1k</td>\n",
       "      <td>scale</td>\n",
       "      <td>logreg</td>\n",
       "      <td>age</td>\n",
       "      <td>drop-non-german</td>\n",
       "      <td>0.826608</td>\n",
       "      <td>0.909364</td>\n",
       "      <td>1.273949</td>\n",
       "      <td>0.899825</td>\n",
       "      <td>0.917251</td>\n",
       "      <td>0.937044</td>\n",
       "      <td>0.884501</td>\n",
       "    </tr>\n",
       "  </tbody>\n",
       "</table>\n",
       "</div>"
      ],
      "text/plain": [
       "                        universe_id universe_training_year  \\\n",
       "0  98604c894a83986dd54448eca0c88f5a                2012_14   \n",
       "\n",
       "  universe_training_size universe_scale universe_model  \\\n",
       "0                     1k          scale         logreg   \n",
       "\n",
       "  universe_exclude_features universe_exclude_subgroups     q_hat  coverage  \\\n",
       "0                       age            drop-non-german  0.826608  0.909364   \n",
       "\n",
       "   avg_size  cov_frau1  cov_nongerman  cov_nongerman_male  \\\n",
       "0  1.273949   0.899825       0.917251            0.937044   \n",
       "\n",
       "   cov_nongerman_female  \n",
       "0              0.884501  "
      ]
     },
     "execution_count": 71,
     "metadata": {},
     "output_type": "execute_result"
    }
   ],
   "source": [
    "cp_metrics_df"
   ]
  },
  {
   "cell_type": "markdown",
   "id": "33774451",
   "metadata": {
    "papermill": {
     "duration": 0.013727,
     "end_time": "2025-07-30T21:34:07.323434",
     "exception": false,
     "start_time": "2025-07-30T21:34:07.309707",
     "status": "completed"
    },
    "tags": []
   },
   "source": [
    "# (Fairness) Metrics"
   ]
  },
  {
   "cell_type": "code",
   "execution_count": 72,
   "id": "debc5d62",
   "metadata": {
    "execution": {
     "iopub.execute_input": "2025-07-30T21:34:07.355316Z",
     "iopub.status.busy": "2025-07-30T21:34:07.354816Z",
     "iopub.status.idle": "2025-07-30T21:34:07.371043Z",
     "shell.execute_reply": "2025-07-30T21:34:07.370228Z"
    },
    "papermill": {
     "duration": 0.033491,
     "end_time": "2025-07-30T21:34:07.372752",
     "exception": false,
     "start_time": "2025-07-30T21:34:07.339261",
     "status": "completed"
    },
    "tags": []
   },
   "outputs": [],
   "source": [
    "# do I need to include maxdeutsch1.missing?\n",
    "\n",
    "import numpy as np\n",
    "\n",
    "colname_to_bin = \"maxdeutsch1\"\n",
    "majority_value = org_train[colname_to_bin].mode()[0]\n",
    "\n",
    "org_test[\"majmin\"] = np.where(org_test[colname_to_bin] == majority_value, \"majority\", \"minority\")"
   ]
  },
  {
   "cell_type": "code",
   "execution_count": 73,
   "id": "06a50de5",
   "metadata": {
    "execution": {
     "iopub.execute_input": "2025-07-30T21:34:07.403101Z",
     "iopub.status.busy": "2025-07-30T21:34:07.402598Z",
     "iopub.status.idle": "2025-07-30T21:34:09.725033Z",
     "shell.execute_reply": "2025-07-30T21:34:09.724268Z"
    },
    "papermill": {
     "duration": 2.339302,
     "end_time": "2025-07-30T21:34:09.726750",
     "exception": false,
     "start_time": "2025-07-30T21:34:07.387448",
     "status": "completed"
    },
    "tags": []
   },
   "outputs": [],
   "source": [
    "example_universe = universe.copy()\n",
    "example_universe[\"cutoff\"] = example_universe[\"cutoff\"][0]\n",
    "example_universe[\"eval_fairness_grouping\"] = example_universe[\"eval_fairness_grouping\"][0]\n",
    "fairness_dict, metric_frame = universe_analysis.compute_metrics(\n",
    "    example_universe,\n",
    "    y_pred_prob=probs_test,\n",
    "    y_test=y_true,\n",
    "    org_test=org_test,\n",
    ")"
   ]
  },
  {
   "cell_type": "markdown",
   "id": "f95d4e02",
   "metadata": {
    "papermill": {
     "duration": 0.034979,
     "end_time": "2025-07-30T21:34:09.782458",
     "exception": false,
     "start_time": "2025-07-30T21:34:09.747479",
     "status": "completed"
    },
    "tags": []
   },
   "source": [
    "# Overall"
   ]
  },
  {
   "cell_type": "markdown",
   "id": "bdee4871",
   "metadata": {
    "papermill": {
     "duration": 0.035506,
     "end_time": "2025-07-30T21:34:09.853296",
     "exception": false,
     "start_time": "2025-07-30T21:34:09.817790",
     "status": "completed"
    },
    "tags": []
   },
   "source": [
    "Fairness\n",
    "Main fairness target: Equalized Odds. Seems to be a better fit than equal opportunity, since we're not only interested in Y = 1. Seems to be a better fit than demographic parity, since we also care about accuracy, not just equal distribution of preds.\n",
    "\n",
    "Pick column for computation of fairness metrics\n",
    "\n",
    "Performance\n",
    "Overall performance measures, most interesting in relation to the measures split by group below"
   ]
  },
  {
   "cell_type": "code",
   "execution_count": 74,
   "id": "c4e067c6",
   "metadata": {
    "execution": {
     "iopub.execute_input": "2025-07-30T21:34:09.925010Z",
     "iopub.status.busy": "2025-07-30T21:34:09.924551Z",
     "iopub.status.idle": "2025-07-30T21:34:09.934087Z",
     "shell.execute_reply": "2025-07-30T21:34:09.933057Z"
    },
    "papermill": {
     "duration": 0.048093,
     "end_time": "2025-07-30T21:34:09.935883",
     "exception": false,
     "start_time": "2025-07-30T21:34:09.887790",
     "status": "completed"
    },
    "tags": []
   },
   "outputs": [
    {
     "data": {
      "text/plain": [
       "accuracy                   0.216620\n",
       "balanced accuracy          0.531291\n",
       "f1                         0.238165\n",
       "precision                  0.136056\n",
       "false positive rate        0.891972\n",
       "false negative rate        0.045447\n",
       "selection rate             0.900000\n",
       "count                  89710.000000\n",
       "dtype: float64"
      ]
     },
     "execution_count": 74,
     "metadata": {},
     "output_type": "execute_result"
    }
   ],
   "source": [
    "metric_frame.overall"
   ]
  },
  {
   "cell_type": "markdown",
   "id": "e968fe9d",
   "metadata": {
    "papermill": {
     "duration": 0.03374,
     "end_time": "2025-07-30T21:34:10.004916",
     "exception": false,
     "start_time": "2025-07-30T21:34:09.971176",
     "status": "completed"
    },
    "tags": []
   },
   "source": [
    "By Group"
   ]
  },
  {
   "cell_type": "code",
   "execution_count": 75,
   "id": "ec325bce",
   "metadata": {
    "execution": {
     "iopub.execute_input": "2025-07-30T21:34:10.033377Z",
     "iopub.status.busy": "2025-07-30T21:34:10.033033Z",
     "iopub.status.idle": "2025-07-30T21:34:10.049223Z",
     "shell.execute_reply": "2025-07-30T21:34:10.048088Z"
    },
    "papermill": {
     "duration": 0.032149,
     "end_time": "2025-07-30T21:34:10.050935",
     "exception": false,
     "start_time": "2025-07-30T21:34:10.018786",
     "status": "completed"
    },
    "tags": []
   },
   "outputs": [
    {
     "data": {
      "text/html": [
       "<div>\n",
       "<style scoped>\n",
       "    .dataframe tbody tr th:only-of-type {\n",
       "        vertical-align: middle;\n",
       "    }\n",
       "\n",
       "    .dataframe tbody tr th {\n",
       "        vertical-align: top;\n",
       "    }\n",
       "\n",
       "    .dataframe thead th {\n",
       "        text-align: right;\n",
       "    }\n",
       "</style>\n",
       "<table border=\"1\" class=\"dataframe\">\n",
       "  <thead>\n",
       "    <tr style=\"text-align: right;\">\n",
       "      <th></th>\n",
       "      <th>accuracy</th>\n",
       "      <th>balanced accuracy</th>\n",
       "      <th>f1</th>\n",
       "      <th>precision</th>\n",
       "      <th>false positive rate</th>\n",
       "      <th>false negative rate</th>\n",
       "      <th>selection rate</th>\n",
       "      <th>count</th>\n",
       "    </tr>\n",
       "    <tr>\n",
       "      <th>majmin</th>\n",
       "      <th></th>\n",
       "      <th></th>\n",
       "      <th></th>\n",
       "      <th></th>\n",
       "      <th></th>\n",
       "      <th></th>\n",
       "      <th></th>\n",
       "      <th></th>\n",
       "    </tr>\n",
       "  </thead>\n",
       "  <tbody>\n",
       "    <tr>\n",
       "      <th>majority</th>\n",
       "      <td>0.231372</td>\n",
       "      <td>0.535885</td>\n",
       "      <td>0.246172</td>\n",
       "      <td>0.141412</td>\n",
       "      <td>0.878011</td>\n",
       "      <td>0.050219</td>\n",
       "      <td>0.887495</td>\n",
       "      <td>69170.0</td>\n",
       "    </tr>\n",
       "    <tr>\n",
       "      <th>minority</th>\n",
       "      <td>0.166943</td>\n",
       "      <td>0.517441</td>\n",
       "      <td>0.212164</td>\n",
       "      <td>0.119064</td>\n",
       "      <td>0.938092</td>\n",
       "      <td>0.027027</td>\n",
       "      <td>0.942113</td>\n",
       "      <td>20540.0</td>\n",
       "    </tr>\n",
       "  </tbody>\n",
       "</table>\n",
       "</div>"
      ],
      "text/plain": [
       "          accuracy  balanced accuracy        f1  precision  \\\n",
       "majmin                                                       \n",
       "majority  0.231372           0.535885  0.246172   0.141412   \n",
       "minority  0.166943           0.517441  0.212164   0.119064   \n",
       "\n",
       "          false positive rate  false negative rate  selection rate    count  \n",
       "majmin                                                                       \n",
       "majority             0.878011             0.050219        0.887495  69170.0  \n",
       "minority             0.938092             0.027027        0.942113  20540.0  "
      ]
     },
     "execution_count": 75,
     "metadata": {},
     "output_type": "execute_result"
    }
   ],
   "source": [
    "metric_frame.by_group"
   ]
  },
  {
   "cell_type": "code",
   "execution_count": 76,
   "id": "a9ddbe63",
   "metadata": {
    "execution": {
     "iopub.execute_input": "2025-07-30T21:34:10.110458Z",
     "iopub.status.busy": "2025-07-30T21:34:10.109813Z",
     "iopub.status.idle": "2025-07-30T21:34:12.267158Z",
     "shell.execute_reply": "2025-07-30T21:34:12.266174Z"
    },
    "papermill": {
     "duration": 2.188553,
     "end_time": "2025-07-30T21:34:12.268445",
     "exception": false,
     "start_time": "2025-07-30T21:34:10.079892",
     "status": "completed"
    },
    "tags": []
   },
   "outputs": [
    {
     "data": {
      "text/plain": [
       "array([[<Axes: title={'center': 'accuracy'}, xlabel='majmin'>,\n",
       "        <Axes: title={'center': 'balanced accuracy'}, xlabel='majmin'>,\n",
       "        <Axes: title={'center': 'f1'}, xlabel='majmin'>],\n",
       "       [<Axes: title={'center': 'precision'}, xlabel='majmin'>,\n",
       "        <Axes: title={'center': 'false positive rate'}, xlabel='majmin'>,\n",
       "        <Axes: title={'center': 'false negative rate'}, xlabel='majmin'>],\n",
       "       [<Axes: title={'center': 'selection rate'}, xlabel='majmin'>,\n",
       "        <Axes: title={'center': 'count'}, xlabel='majmin'>,\n",
       "        <Axes: xlabel='majmin'>]], dtype=object)"
      ]
     },
     "execution_count": 76,
     "metadata": {},
     "output_type": "execute_result"
    },
    {
     "data": {
      "image/png": "[encoded data removed]",
      "text/plain": [
       "<Figure size 1200x800 with 9 Axes>"
      ]
     },
     "metadata": {},
     "output_type": "display_data"
    }
   ],
   "source": [
    "# In a graphic\n",
    "metric_frame.by_group.plot.bar(\n",
    "    subplots=True,\n",
    "    layout=[3, 3],\n",
    "    legend=False,\n",
    "    figsize=[12, 8],\n",
    "    title=\"Show all metrics\",\n",
    ")"
   ]
  },
  {
   "cell_type": "markdown",
   "id": "f57a0bac",
   "metadata": {
    "papermill": {
     "duration": 0.015843,
     "end_time": "2025-07-30T21:34:12.301843",
     "exception": false,
     "start_time": "2025-07-30T21:34:12.286000",
     "status": "completed"
    },
    "tags": []
   },
   "source": [
    "# Final Output"
   ]
  },
  {
   "cell_type": "code",
   "execution_count": 77,
   "id": "96d280a3",
   "metadata": {
    "execution": {
     "iopub.execute_input": "2025-07-30T21:34:12.366715Z",
     "iopub.status.busy": "2025-07-30T21:34:12.366148Z",
     "iopub.status.idle": "2025-07-30T21:34:12.373268Z",
     "shell.execute_reply": "2025-07-30T21:34:12.372201Z"
    },
    "papermill": {
     "duration": 0.04118,
     "end_time": "2025-07-30T21:34:12.375259",
     "exception": false,
     "start_time": "2025-07-30T21:34:12.334079",
     "status": "completed"
    },
    "tags": []
   },
   "outputs": [
    {
     "data": {
      "text/plain": [
       "4"
      ]
     },
     "execution_count": 77,
     "metadata": {},
     "output_type": "execute_result"
    }
   ],
   "source": [
    "sub_universes = universe_analysis.generate_sub_universes()\n",
    "len(sub_universes)"
   ]
  },
  {
   "cell_type": "code",
   "execution_count": 78,
   "id": "92adf7ba",
   "metadata": {
    "execution": {
     "iopub.execute_input": "2025-07-30T21:34:12.432820Z",
     "iopub.status.busy": "2025-07-30T21:34:12.432320Z",
     "iopub.status.idle": "2025-07-30T21:34:12.437157Z",
     "shell.execute_reply": "2025-07-30T21:34:12.436461Z"
    },
    "papermill": {
     "duration": 0.031907,
     "end_time": "2025-07-30T21:34:12.438576",
     "exception": false,
     "start_time": "2025-07-30T21:34:12.406669",
     "status": "completed"
    },
    "tags": []
   },
   "outputs": [],
   "source": [
    "def filter_sub_universe_data(sub_universe, org_test):\n",
    "    # Keep all rows — no filtering\n",
    "    keep_rows_mask = np.ones(org_test.shape[0], dtype=bool)\n",
    "\n",
    "    print(f\"[INFO] Keeping all rows: {keep_rows_mask.sum()} rows retained.\")\n",
    "    return keep_rows_mask"
   ]
  },
  {
   "cell_type": "code",
   "execution_count": 79,
   "id": "4a759155",
   "metadata": {
    "execution": {
     "iopub.execute_input": "2025-07-30T21:34:12.472763Z",
     "iopub.status.busy": "2025-07-30T21:34:12.472314Z",
     "iopub.status.idle": "2025-07-30T21:34:22.371874Z",
     "shell.execute_reply": "2025-07-30T21:34:22.370918Z"
    },
    "papermill": {
     "duration": 9.919361,
     "end_time": "2025-07-30T21:34:22.373610",
     "exception": false,
     "start_time": "2025-07-30T21:34:12.454249",
     "status": "completed"
    },
    "tags": []
   },
   "outputs": [
    {
     "name": "stdout",
     "output_type": "stream",
     "text": [
      "Stopping execution_time clock.\n",
      "[INFO] Keeping all rows: 89710 rows retained.\n"
     ]
    },
    {
     "name": "stdout",
     "output_type": "stream",
     "text": [
      "[INFO] Keeping all rows: 89710 rows retained.\n"
     ]
    },
    {
     "name": "stdout",
     "output_type": "stream",
     "text": [
      "[INFO] Keeping all rows: 89710 rows retained.\n"
     ]
    },
    {
     "name": "stdout",
     "output_type": "stream",
     "text": [
      "[INFO] Keeping all rows: 89710 rows retained.\n"
     ]
    },
    {
     "data": {
      "text/html": [
       "<div>\n",
       "<style scoped>\n",
       "    .dataframe tbody tr th:only-of-type {\n",
       "        vertical-align: middle;\n",
       "    }\n",
       "\n",
       "    .dataframe tbody tr th {\n",
       "        vertical-align: top;\n",
       "    }\n",
       "\n",
       "    .dataframe thead th {\n",
       "        text-align: right;\n",
       "    }\n",
       "</style>\n",
       "<table border=\"1\" class=\"dataframe\">\n",
       "  <thead>\n",
       "    <tr style=\"text-align: right;\">\n",
       "      <th></th>\n",
       "      <th>run_no</th>\n",
       "      <th>universe_id</th>\n",
       "      <th>universe_settings</th>\n",
       "      <th>execution_time</th>\n",
       "      <th>test_size_n</th>\n",
       "      <th>test_size_frac</th>\n",
       "      <th>fair_main_equalized_odds_difference</th>\n",
       "      <th>fair_main_equalized_odds_ratio</th>\n",
       "      <th>fair_main_demographic_parity_difference</th>\n",
       "      <th>fair_main_demographic_parity_ratio</th>\n",
       "      <th>...</th>\n",
       "      <th>perf_grp_precision_0</th>\n",
       "      <th>perf_grp_precision_1</th>\n",
       "      <th>perf_grp_false positive rate_0</th>\n",
       "      <th>perf_grp_false positive rate_1</th>\n",
       "      <th>perf_grp_false negative rate_0</th>\n",
       "      <th>perf_grp_false negative rate_1</th>\n",
       "      <th>perf_grp_selection rate_0</th>\n",
       "      <th>perf_grp_selection rate_1</th>\n",
       "      <th>perf_grp_count_0</th>\n",
       "      <th>perf_grp_count_1</th>\n",
       "    </tr>\n",
       "  </thead>\n",
       "  <tbody>\n",
       "    <tr>\n",
       "      <th>0</th>\n",
       "      <td>14</td>\n",
       "      <td>98604c894a83986dd54448eca0c88f5a</td>\n",
       "      <td>{\"cutoff\": \"quantile_0.1\", \"eval_fairness_grou...</td>\n",
       "      <td>27.273289</td>\n",
       "      <td>89710</td>\n",
       "      <td>1.0</td>\n",
       "      <td>0.060081</td>\n",
       "      <td>0.935954</td>\n",
       "      <td>0.054618</td>\n",
       "      <td>0.942026</td>\n",
       "      <td>...</td>\n",
       "      <td>NaN</td>\n",
       "      <td>NaN</td>\n",
       "      <td>NaN</td>\n",
       "      <td>NaN</td>\n",
       "      <td>NaN</td>\n",
       "      <td>NaN</td>\n",
       "      <td>NaN</td>\n",
       "      <td>NaN</td>\n",
       "      <td>NaN</td>\n",
       "      <td>NaN</td>\n",
       "    </tr>\n",
       "    <tr>\n",
       "      <th>0</th>\n",
       "      <td>14</td>\n",
       "      <td>98604c894a83986dd54448eca0c88f5a</td>\n",
       "      <td>{\"cutoff\": \"quantile_0.1\", \"eval_fairness_grou...</td>\n",
       "      <td>27.273289</td>\n",
       "      <td>89710</td>\n",
       "      <td>1.0</td>\n",
       "      <td>0.060081</td>\n",
       "      <td>0.935954</td>\n",
       "      <td>0.054618</td>\n",
       "      <td>0.942026</td>\n",
       "      <td>...</td>\n",
       "      <td>0.119064</td>\n",
       "      <td>0.141412</td>\n",
       "      <td>0.938092</td>\n",
       "      <td>0.878011</td>\n",
       "      <td>0.027027</td>\n",
       "      <td>0.050219</td>\n",
       "      <td>0.942113</td>\n",
       "      <td>0.887495</td>\n",
       "      <td>20540.0</td>\n",
       "      <td>69170.0</td>\n",
       "    </tr>\n",
       "    <tr>\n",
       "      <th>0</th>\n",
       "      <td>14</td>\n",
       "      <td>98604c894a83986dd54448eca0c88f5a</td>\n",
       "      <td>{\"cutoff\": \"quantile_0.25\", \"eval_fairness_gro...</td>\n",
       "      <td>27.273289</td>\n",
       "      <td>89710</td>\n",
       "      <td>1.0</td>\n",
       "      <td>0.144634</td>\n",
       "      <td>0.828396</td>\n",
       "      <td>0.132796</td>\n",
       "      <td>0.844206</td>\n",
       "      <td>...</td>\n",
       "      <td>NaN</td>\n",
       "      <td>NaN</td>\n",
       "      <td>NaN</td>\n",
       "      <td>NaN</td>\n",
       "      <td>NaN</td>\n",
       "      <td>NaN</td>\n",
       "      <td>NaN</td>\n",
       "      <td>NaN</td>\n",
       "      <td>NaN</td>\n",
       "      <td>NaN</td>\n",
       "    </tr>\n",
       "    <tr>\n",
       "      <th>0</th>\n",
       "      <td>14</td>\n",
       "      <td>98604c894a83986dd54448eca0c88f5a</td>\n",
       "      <td>{\"cutoff\": \"quantile_0.25\", \"eval_fairness_gro...</td>\n",
       "      <td>27.273289</td>\n",
       "      <td>89710</td>\n",
       "      <td>1.0</td>\n",
       "      <td>0.144634</td>\n",
       "      <td>0.828396</td>\n",
       "      <td>0.132796</td>\n",
       "      <td>0.844206</td>\n",
       "      <td>...</td>\n",
       "      <td>0.125200</td>\n",
       "      <td>0.157934</td>\n",
       "      <td>0.842835</td>\n",
       "      <td>0.698201</td>\n",
       "      <td>0.074324</td>\n",
       "      <td>0.139934</td>\n",
       "      <td>0.852386</td>\n",
       "      <td>0.719589</td>\n",
       "      <td>20540.0</td>\n",
       "      <td>69170.0</td>\n",
       "    </tr>\n",
       "  </tbody>\n",
       "</table>\n",
       "<p>4 rows × 50 columns</p>\n",
       "</div>"
      ],
      "text/plain": [
       "  run_no                       universe_id  \\\n",
       "0     14  98604c894a83986dd54448eca0c88f5a   \n",
       "0     14  98604c894a83986dd54448eca0c88f5a   \n",
       "0     14  98604c894a83986dd54448eca0c88f5a   \n",
       "0     14  98604c894a83986dd54448eca0c88f5a   \n",
       "\n",
       "                                   universe_settings  execution_time  \\\n",
       "0  {\"cutoff\": \"quantile_0.1\", \"eval_fairness_grou...       27.273289   \n",
       "0  {\"cutoff\": \"quantile_0.1\", \"eval_fairness_grou...       27.273289   \n",
       "0  {\"cutoff\": \"quantile_0.25\", \"eval_fairness_gro...       27.273289   \n",
       "0  {\"cutoff\": \"quantile_0.25\", \"eval_fairness_gro...       27.273289   \n",
       "\n",
       "   test_size_n  test_size_frac  fair_main_equalized_odds_difference  \\\n",
       "0        89710             1.0                             0.060081   \n",
       "0        89710             1.0                             0.060081   \n",
       "0        89710             1.0                             0.144634   \n",
       "0        89710             1.0                             0.144634   \n",
       "\n",
       "   fair_main_equalized_odds_ratio  fair_main_demographic_parity_difference  \\\n",
       "0                        0.935954                                 0.054618   \n",
       "0                        0.935954                                 0.054618   \n",
       "0                        0.828396                                 0.132796   \n",
       "0                        0.828396                                 0.132796   \n",
       "\n",
       "   fair_main_demographic_parity_ratio  ...  perf_grp_precision_0  \\\n",
       "0                            0.942026  ...                   NaN   \n",
       "0                            0.942026  ...              0.119064   \n",
       "0                            0.844206  ...                   NaN   \n",
       "0                            0.844206  ...              0.125200   \n",
       "\n",
       "   perf_grp_precision_1  perf_grp_false positive rate_0  \\\n",
       "0                   NaN                             NaN   \n",
       "0              0.141412                        0.938092   \n",
       "0                   NaN                             NaN   \n",
       "0              0.157934                        0.842835   \n",
       "\n",
       "   perf_grp_false positive rate_1  perf_grp_false negative rate_0  \\\n",
       "0                             NaN                             NaN   \n",
       "0                        0.878011                        0.027027   \n",
       "0                             NaN                             NaN   \n",
       "0                        0.698201                        0.074324   \n",
       "\n",
       "   perf_grp_false negative rate_1  perf_grp_selection rate_0  \\\n",
       "0                             NaN                        NaN   \n",
       "0                        0.050219                   0.942113   \n",
       "0                             NaN                        NaN   \n",
       "0                        0.139934                   0.852386   \n",
       "\n",
       "   perf_grp_selection rate_1  perf_grp_count_0  perf_grp_count_1  \n",
       "0                        NaN               NaN               NaN  \n",
       "0                   0.887495           20540.0           69170.0  \n",
       "0                        NaN               NaN               NaN  \n",
       "0                   0.719589           20540.0           69170.0  \n",
       "\n",
       "[4 rows x 50 columns]"
      ]
     },
     "execution_count": 79,
     "metadata": {},
     "output_type": "execute_result"
    }
   ],
   "source": [
    "final_output = universe_analysis.generate_final_output(\n",
    "    y_pred_prob=probs_test,\n",
    "    y_test=y_true,\n",
    "    org_test=org_test,\n",
    "    filter_data=filter_sub_universe_data,\n",
    "    cp_metrics_df=cp_metrics_df,\n",
    "    save=True,\n",
    ")\n",
    "final_output"
   ]
  },
  {
   "cell_type": "code",
   "execution_count": null,
   "id": "721ff514-cb11-46f8-b6fc-50392f74b5cb",
   "metadata": {
    "papermill": {
     "duration": 0.040279,
     "end_time": "2025-07-30T21:34:22.451293",
     "exception": false,
     "start_time": "2025-07-30T21:34:22.411014",
     "status": "completed"
    },
    "tags": []
   },
   "outputs": [],
   "source": []
  }
 ],
 "metadata": {
  "celltoolbar": "Tags",
  "kernelspec": {
   "display_name": "Python (CMA Fairness)",
   "language": "python",
   "name": "cma_fair_env"
  },
  "language_info": {
   "codemirror_mode": {
    "name": "ipython",
    "version": 3
   },
   "file_extension": ".py",
   "mimetype": "text/x-python",
   "name": "python",
   "nbconvert_exporter": "python",
   "pygments_lexer": "ipython3",
   "version": "3.10.12"
  },
  "papermill": {
   "default_parameters": {},
   "duration": 41.362031,
   "end_time": "2025-07-30T21:34:23.199006",
   "environment_variables": {},
   "exception": null,
   "input_path": "universe_analysis.ipynb",
   "output_path": "output/runs/14/notebooks/m_14-98604c894a83986dd54448eca0c88f5a.ipynb",
   "parameters": {
    "output_dir": "output",
    "run_no": "14",
    "seed": "2023",
    "universe": "{\"cutoff\": [\"quantile_0.1\", \"quantile_0.25\"], \"eval_fairness_grouping\": [\"majority-minority\", \"nationality-all\"], \"exclude_features\": \"age\", \"exclude_subgroups\": \"drop-non-german\", \"model\": \"logreg\", \"scale\": \"scale\", \"training_size\": \"1k\", \"training_year\": \"2012_14\"}",
    "universe_id": "98604c894a83986dd54448eca0c88f5a"
   },
   "start_time": "2025-07-30T21:33:41.836975",
   "version": "2.6.0"
  }
 },
 "nbformat": 4,
 "nbformat_minor": 5
}