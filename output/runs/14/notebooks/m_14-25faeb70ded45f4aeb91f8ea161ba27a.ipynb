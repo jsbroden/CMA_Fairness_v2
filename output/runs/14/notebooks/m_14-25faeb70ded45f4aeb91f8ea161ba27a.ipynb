{
 "cells": [
  {
   "cell_type": "code",
   "execution_count": 1,
   "id": "f159f837-637b-42ba-96b5-ec9a68c44524",
   "metadata": {
    "execution": {
     "iopub.execute_input": "2025-07-30T19:55:58.066104Z",
     "iopub.status.busy": "2025-07-30T19:55:58.065093Z",
     "iopub.status.idle": "2025-07-30T19:55:58.079759Z",
     "shell.execute_reply": "2025-07-30T19:55:58.078849Z"
    },
    "papermill": {
     "duration": 0.041645,
     "end_time": "2025-07-30T19:55:58.081455",
     "exception": false,
     "start_time": "2025-07-30T19:55:58.039810",
     "status": "completed"
    },
    "tags": []
   },
   "outputs": [
    {
     "name": "stdout",
     "output_type": "stream",
     "text": [
      "/dss/dsshome1/0C/ra93lal2/cma/CMA_Fairness_v2\n"
     ]
    },
    {
     "name": "stderr",
     "output_type": "stream",
     "text": [
      "/dss/dsshome1/0C/ra93lal2/.local/share/virtualenvs/CMA_Fairness_v2-3j10GkSs/lib/python3.10/site-packages/IPython/core/magics/osm.py:393: UserWarning: This is now an optional IPython functionality, using bookmarks requires you to install the `pickleshare` library.\n",
      "  bkms = self.shell.db.get('bookmarks', {})\n",
      "/dss/dsshome1/0C/ra93lal2/.local/share/virtualenvs/CMA_Fairness_v2-3j10GkSs/lib/python3.10/site-packages/IPython/core/magics/osm.py:417: UserWarning: This is now an optional IPython functionality, setting dhist requires you to install the `pickleshare` library.\n",
      "  self.shell.db['dhist'] = compress_dhist(dhist)[-100:]\n"
     ]
    }
   ],
   "source": [
    "%cd ~/cma/CMA_Fairness_v2"
   ]
  },
  {
   "cell_type": "markdown",
   "id": "de2603b9",
   "metadata": {
    "papermill": {
     "duration": 0.019713,
     "end_time": "2025-07-30T19:55:58.121721",
     "exception": false,
     "start_time": "2025-07-30T19:55:58.102008",
     "status": "completed"
    },
    "tags": []
   },
   "source": [
    "The following cell holds the definition of our parameters, these values can be overriden by rendering the with e.g. the following command:\n",
    "\n",
    "papermill -p alpha 0.2 -p ratio 0.3 universe_analysis.ipynb output/test_run.ipynb"
   ]
  },
  {
   "cell_type": "code",
   "execution_count": 2,
   "id": "a80968a0-40bb-4fa9-85ef-2d5eefb01975",
   "metadata": {
    "execution": {
     "iopub.execute_input": "2025-07-30T19:55:58.161855Z",
     "iopub.status.busy": "2025-07-30T19:55:58.161430Z",
     "iopub.status.idle": "2025-07-30T19:55:58.168520Z",
     "shell.execute_reply": "2025-07-30T19:55:58.167353Z"
    },
    "papermill": {
     "duration": 0.029808,
     "end_time": "2025-07-30T19:55:58.170318",
     "exception": false,
     "start_time": "2025-07-30T19:55:58.140510",
     "status": "completed"
    },
    "tags": []
   },
   "outputs": [
    {
     "name": "stdout",
     "output_type": "stream",
     "text": [
      "Current working directory: /dss/dsshome1/0C/ra93lal2/cma/CMA_Fairness_v2\n"
     ]
    }
   ],
   "source": [
    "import os\n",
    "print(\"Current working directory:\", os.getcwd())"
   ]
  },
  {
   "cell_type": "code",
   "execution_count": 3,
   "id": "2dce4c03",
   "metadata": {
    "execution": {
     "iopub.execute_input": "2025-07-30T19:55:58.288460Z",
     "iopub.status.busy": "2025-07-30T19:55:58.287889Z",
     "iopub.status.idle": "2025-07-30T19:55:58.294775Z",
     "shell.execute_reply": "2025-07-30T19:55:58.293717Z"
    },
    "papermill": {
     "duration": 0.030871,
     "end_time": "2025-07-30T19:55:58.296592",
     "exception": false,
     "start_time": "2025-07-30T19:55:58.265721",
     "status": "completed"
    },
    "tags": [
     "parameters"
    ]
   },
   "outputs": [],
   "source": [
    "run_no = 0\n",
    "universe_id = \"test\"\n",
    "universe = {\n",
    "    \"training_size\": \"25k\", # \"25k\", \"5k\", \"1k\"\n",
    "    \"training_year\": \"2014\", # \"2014\", \"2012_14\", \"2010_14\"\n",
    "    \"scale\": \"scale\", # \"scale\", \"do-not-scale\",\n",
    "    #\"stratify_split\": \"target\", # \"none\", \"target\", \"protected-attribute\", \"both\",\n",
    "    \"model\": \"elasticnet\", # \"logreg\", \"penalized_logreg\", \"rf\", \"gbm\", \"elasticnet\"\n",
    "    \"cutoff\": [\"quantile_0.15\", \"quantile_0.30\"],\n",
    "    \"exclude_features\": \"age\", # \"none\", \"nationality\", \"sex\", \"nationality-sex\", \"age\"\n",
    "    \"exclude_subgroups\": \"keep-all\", # \"keep-all\", \"drop-non-german\"\n",
    "    \"eval_fairness_grouping\": [\"majority-minority\", \"nationality-all\"]\n",
    "}\n",
    "\n",
    "output_dir=\"./output\"\n",
    "seed=0"
   ]
  },
  {
   "cell_type": "code",
   "execution_count": 4,
   "id": "4c446087",
   "metadata": {
    "execution": {
     "iopub.execute_input": "2025-07-30T19:55:58.340543Z",
     "iopub.status.busy": "2025-07-30T19:55:58.340084Z",
     "iopub.status.idle": "2025-07-30T19:55:58.345366Z",
     "shell.execute_reply": "2025-07-30T19:55:58.344421Z"
    },
    "papermill": {
     "duration": 0.02899,
     "end_time": "2025-07-30T19:55:58.347004",
     "exception": false,
     "start_time": "2025-07-30T19:55:58.318014",
     "status": "completed"
    },
    "tags": [
     "injected-parameters"
    ]
   },
   "outputs": [],
   "source": [
    "# Parameters\n",
    "universe_id = \"25faeb70ded45f4aeb91f8ea161ba27a\"\n",
    "run_no = \"14\"\n",
    "universe = \"{\\\"cutoff\\\": [\\\"quantile_0.1\\\", \\\"quantile_0.25\\\"], \\\"eval_fairness_grouping\\\": [\\\"majority-minority\\\", \\\"nationality-all\\\"], \\\"exclude_features\\\": \\\"age\\\", \\\"exclude_subgroups\\\": \\\"keep-all\\\", \\\"model\\\": \\\"elasticnet\\\", \\\"scale\\\": \\\"scale\\\", \\\"training_size\\\": \\\"25k\\\", \\\"training_year\\\": \\\"2014\\\"}\"\n",
    "output_dir = \"output\"\n",
    "seed = \"2023\"\n"
   ]
  },
  {
   "cell_type": "code",
   "execution_count": 5,
   "id": "1650acaf",
   "metadata": {
    "execution": {
     "iopub.execute_input": "2025-07-30T19:55:58.389946Z",
     "iopub.status.busy": "2025-07-30T19:55:58.389292Z",
     "iopub.status.idle": "2025-07-30T19:55:58.394287Z",
     "shell.execute_reply": "2025-07-30T19:55:58.393411Z"
    },
    "papermill": {
     "duration": 0.02854,
     "end_time": "2025-07-30T19:55:58.395917",
     "exception": false,
     "start_time": "2025-07-30T19:55:58.367377",
     "status": "completed"
    },
    "tags": []
   },
   "outputs": [],
   "source": [
    "import json\n",
    "# Parse universe into dict if it is passed as a string\n",
    "if isinstance(universe, str):\n",
    "    universe = json.loads(universe)"
   ]
  },
  {
   "cell_type": "code",
   "execution_count": 6,
   "id": "16620c48",
   "metadata": {
    "execution": {
     "iopub.execute_input": "2025-07-30T19:55:58.439117Z",
     "iopub.status.busy": "2025-07-30T19:55:58.438469Z",
     "iopub.status.idle": "2025-07-30T19:55:58.482108Z",
     "shell.execute_reply": "2025-07-30T19:55:58.481193Z"
    },
    "papermill": {
     "duration": 0.067763,
     "end_time": "2025-07-30T19:55:58.484182",
     "exception": false,
     "start_time": "2025-07-30T19:55:58.416419",
     "status": "completed"
    },
    "tags": []
   },
   "outputs": [],
   "source": [
    "# Auto-reload the custom package\n",
    "%load_ext autoreload\n",
    "%autoreload 1\n",
    "%aimport fairness_multiverse"
   ]
  },
  {
   "cell_type": "code",
   "execution_count": 7,
   "id": "01c5c9f3",
   "metadata": {
    "execution": {
     "iopub.execute_input": "2025-07-30T19:55:58.527791Z",
     "iopub.status.busy": "2025-07-30T19:55:58.527154Z",
     "iopub.status.idle": "2025-07-30T19:56:00.447245Z",
     "shell.execute_reply": "2025-07-30T19:56:00.446314Z"
    },
    "papermill": {
     "duration": 1.943217,
     "end_time": "2025-07-30T19:56:00.449246",
     "exception": false,
     "start_time": "2025-07-30T19:55:58.506029",
     "status": "completed"
    },
    "tags": []
   },
   "outputs": [],
   "source": [
    "from fairness_multiverse.universe import UniverseAnalysis\n",
    "\n",
    "universe_analysis = UniverseAnalysis(\n",
    "    run_no = run_no,\n",
    "    universe_id = universe_id,\n",
    "    universe = universe,\n",
    "    output_dir=output_dir,\n",
    ")"
   ]
  },
  {
   "cell_type": "code",
   "execution_count": 8,
   "id": "106241f5",
   "metadata": {
    "execution": {
     "iopub.execute_input": "2025-07-30T19:56:00.491600Z",
     "iopub.status.busy": "2025-07-30T19:56:00.490926Z",
     "iopub.status.idle": "2025-07-30T19:56:00.497831Z",
     "shell.execute_reply": "2025-07-30T19:56:00.496961Z"
    },
    "papermill": {
     "duration": 0.029954,
     "end_time": "2025-07-30T19:56:00.499384",
     "exception": false,
     "start_time": "2025-07-30T19:56:00.469430",
     "status": "completed"
    },
    "tags": []
   },
   "outputs": [
    {
     "name": "stdout",
     "output_type": "stream",
     "text": [
      "Using Seed: 2023\n"
     ]
    }
   ],
   "source": [
    "import numpy as np\n",
    "parsed_seed = int(seed)\n",
    "np.random.seed(parsed_seed)\n",
    "print(f\"Using Seed: {parsed_seed}\")"
   ]
  },
  {
   "cell_type": "markdown",
   "id": "e0ebdc57",
   "metadata": {
    "papermill": {
     "duration": 0.019626,
     "end_time": "2025-07-30T19:56:00.539042",
     "exception": false,
     "start_time": "2025-07-30T19:56:00.519416",
     "status": "completed"
    },
    "tags": []
   },
   "source": [
    "# Loading Data"
   ]
  },
  {
   "cell_type": "markdown",
   "id": "681925a3",
   "metadata": {
    "papermill": {
     "duration": 0.019957,
     "end_time": "2025-07-30T19:56:00.579063",
     "exception": false,
     "start_time": "2025-07-30T19:56:00.559106",
     "status": "completed"
    },
    "tags": []
   },
   "source": [
    "Load siab_train, siab_test, siab_calib and/or \n",
    "load siab_train_features, siab_train_labels"
   ]
  },
  {
   "cell_type": "code",
   "execution_count": 9,
   "id": "f0496b8a",
   "metadata": {
    "execution": {
     "iopub.execute_input": "2025-07-30T19:56:00.621238Z",
     "iopub.status.busy": "2025-07-30T19:56:00.620570Z",
     "iopub.status.idle": "2025-07-30T19:56:12.670272Z",
     "shell.execute_reply": "2025-07-30T19:56:12.669198Z"
    },
    "papermill": {
     "duration": 12.072608,
     "end_time": "2025-07-30T19:56:12.671809",
     "exception": false,
     "start_time": "2025-07-30T19:56:00.599201",
     "status": "completed"
    },
    "tags": []
   },
   "outputs": [
    {
     "name": "stdout",
     "output_type": "stream",
     "text": [
      "Loading SIAB data from cache: data/siab_cached.csv.gz\n"
     ]
    },
    {
     "name": "stdout",
     "output_type": "stream",
     "text": [
      "(643690, 164)\n"
     ]
    }
   ],
   "source": [
    "from pathlib import Path\n",
    "import pandas as pd\n",
    "\n",
    "# File paths\n",
    "raw_file = Path(\"data/raw/siab.csv\")\n",
    "cache_file = Path(\"data/siab_cached.csv.gz\")\n",
    "\n",
    "# Ensure cache directory exists\n",
    "cache_file.parent.mkdir(parents=True, exist_ok=True)\n",
    "\n",
    "# Load with simple caching\n",
    "if cache_file.exists():\n",
    "    print(f\"Loading SIAB data from cache: {cache_file}\")\n",
    "    siab = pd.read_csv(cache_file, compression='gzip')\n",
    "else:\n",
    "    print(f\"Cache not found. Reading raw SIAB data: {raw_file}\")\n",
    "    siab = pd.read_csv(raw_file)\n",
    "    siab.to_csv(cache_file, index=False, compression='gzip')\n",
    "    print(f\"Cached SIAB data to: {cache_file}\")\n",
    "\n",
    "# Now use `siab` DataFrame as needed\n",
    "print(siab.shape)"
   ]
  },
  {
   "cell_type": "code",
   "execution_count": 10,
   "id": "db0ca512-5f53-4dba-abdb-a2888bca41ba",
   "metadata": {
    "execution": {
     "iopub.execute_input": "2025-07-30T19:56:12.714069Z",
     "iopub.status.busy": "2025-07-30T19:56:12.713386Z",
     "iopub.status.idle": "2025-07-30T19:56:12.718948Z",
     "shell.execute_reply": "2025-07-30T19:56:12.717880Z"
    },
    "papermill": {
     "duration": 0.027434,
     "end_time": "2025-07-30T19:56:12.720748",
     "exception": false,
     "start_time": "2025-07-30T19:56:12.693314",
     "status": "completed"
    },
    "tags": []
   },
   "outputs": [],
   "source": [
    "#siab"
   ]
  },
  {
   "cell_type": "code",
   "execution_count": 11,
   "id": "a0edb063",
   "metadata": {
    "execution": {
     "iopub.execute_input": "2025-07-30T19:56:12.760083Z",
     "iopub.status.busy": "2025-07-30T19:56:12.759434Z",
     "iopub.status.idle": "2025-07-30T19:56:12.764273Z",
     "shell.execute_reply": "2025-07-30T19:56:12.763310Z"
    },
    "papermill": {
     "duration": 0.02617,
     "end_time": "2025-07-30T19:56:12.765860",
     "exception": false,
     "start_time": "2025-07-30T19:56:12.739690",
     "status": "completed"
    },
    "tags": []
   },
   "outputs": [],
   "source": [
    "#import pandas as pd\n",
    "#\n",
    "#X_train = pd.read_csv(\"./data/X_train.csv\")\n",
    "#y_train = pd.read_csv(\"./data/y_train.csv\")"
   ]
  },
  {
   "cell_type": "code",
   "execution_count": 12,
   "id": "63d08085",
   "metadata": {
    "execution": {
     "iopub.execute_input": "2025-07-30T19:56:12.805154Z",
     "iopub.status.busy": "2025-07-30T19:56:12.804536Z",
     "iopub.status.idle": "2025-07-30T19:56:12.809285Z",
     "shell.execute_reply": "2025-07-30T19:56:12.808417Z"
    },
    "papermill": {
     "duration": 0.026009,
     "end_time": "2025-07-30T19:56:12.810851",
     "exception": false,
     "start_time": "2025-07-30T19:56:12.784842",
     "status": "completed"
    },
    "tags": []
   },
   "outputs": [],
   "source": [
    "#X_test = pd.read_csv(\"./data/X_test.csv\")\n",
    "#y_true = pd.read_csv(\"./data/y_test.csv\")"
   ]
  },
  {
   "cell_type": "code",
   "execution_count": 13,
   "id": "98a8d0fa-1d3d-4ed8-bb2c-281470e24add",
   "metadata": {
    "execution": {
     "iopub.execute_input": "2025-07-30T19:56:12.850628Z",
     "iopub.status.busy": "2025-07-30T19:56:12.849761Z",
     "iopub.status.idle": "2025-07-30T19:56:12.854615Z",
     "shell.execute_reply": "2025-07-30T19:56:12.853695Z"
    },
    "papermill": {
     "duration": 0.026339,
     "end_time": "2025-07-30T19:56:12.856313",
     "exception": false,
     "start_time": "2025-07-30T19:56:12.829974",
     "status": "completed"
    },
    "tags": []
   },
   "outputs": [],
   "source": [
    "# Calibration data for conformal\n",
    "#X_calib = pd.read_csv(\"./data/X_calib.csv\")\n",
    "#y_calib = pd.read_csv(\"./data/y_calib.csv\")"
   ]
  },
  {
   "cell_type": "markdown",
   "id": "997051c5-15bd-4b69-9786-c3001a3ce484",
   "metadata": {
    "papermill": {
     "duration": 0.018617,
     "end_time": "2025-07-30T19:56:12.893919",
     "exception": false,
     "start_time": "2025-07-30T19:56:12.875302",
     "status": "completed"
    },
    "tags": []
   },
   "source": [
    "# Splitting Data and Setting Training Data Size"
   ]
  },
  {
   "cell_type": "code",
   "execution_count": 14,
   "id": "e993b61f-042d-41a6-8c81-f55681f86335",
   "metadata": {
    "execution": {
     "iopub.execute_input": "2025-07-30T19:56:12.932646Z",
     "iopub.status.busy": "2025-07-30T19:56:12.931994Z",
     "iopub.status.idle": "2025-07-30T19:56:12.944560Z",
     "shell.execute_reply": "2025-07-30T19:56:12.943628Z"
    },
    "papermill": {
     "duration": 0.033845,
     "end_time": "2025-07-30T19:56:12.946299",
     "exception": false,
     "start_time": "2025-07-30T19:56:12.912454",
     "status": "completed"
    },
    "tags": []
   },
   "outputs": [],
   "source": [
    "def sample_by_year_size(df,\n",
    "                        training_year: str,\n",
    "                        training_size: str,\n",
    "                        random_state: int = 42):\n",
    "    # --- parse training_year into a list of int years ---\n",
    "    if \"_\" in training_year:\n",
    "        start_str, end_str = training_year.split(\"_\", 1)\n",
    "        start = int(start_str)\n",
    "        end   = int(end_str) if len(end_str) == 4 else (int(end_str) + (start // 100)*100)\n",
    "        years = list(range(start, end + 1))\n",
    "    else:\n",
    "        years = [int(training_year)]\n",
    "\n",
    "    df = df[df[\"year\"].isin(years)].reset_index(drop=True)\n",
    "\n",
    "    # --- map training_size to total number of samples ---\n",
    "    total_map = {\"25k\": 25_000, \"5k\": 5_000, \"1k\": 1_000}\n",
    "    if training_size not in total_map:\n",
    "        return df  # e.g. \"all\"\n",
    "\n",
    "    total_samples = total_map[training_size]\n",
    "    n_years       = len(years)\n",
    "    base          = total_samples // n_years\n",
    "    remainder     = total_samples % n_years\n",
    "\n",
    "    # --- build a dict: year -> how many to sample ---\n",
    "    # give +1 to the first `remainder` years in ascending order\n",
    "    quotas = {\n",
    "        year: base + (1 if idx < remainder else 0)\n",
    "        for idx, year in enumerate(sorted(years))\n",
    "    }\n",
    "\n",
    "    # --- sample per‐year according to the quota dict ---\n",
    "    sampled = (\n",
    "        df\n",
    "        .groupby(\"year\", group_keys=False)\n",
    "        .apply(lambda grp: grp.sample(\n",
    "            n=min(len(grp), quotas[grp.name]),\n",
    "            random_state=random_state))\n",
    "        .reset_index(drop=True)\n",
    "    )\n",
    "\n",
    "    return sampled"
   ]
  },
  {
   "cell_type": "code",
   "execution_count": 15,
   "id": "c0ccd338-0e02-41f3-a09d-f56f9266e3fb",
   "metadata": {
    "execution": {
     "iopub.execute_input": "2025-07-30T19:56:12.985658Z",
     "iopub.status.busy": "2025-07-30T19:56:12.985219Z",
     "iopub.status.idle": "2025-07-30T19:56:12.990222Z",
     "shell.execute_reply": "2025-07-30T19:56:12.989238Z"
    },
    "papermill": {
     "duration": 0.026018,
     "end_time": "2025-07-30T19:56:12.991742",
     "exception": false,
     "start_time": "2025-07-30T19:56:12.965724",
     "status": "completed"
    },
    "tags": []
   },
   "outputs": [],
   "source": [
    "#universe[\"training_size\"]"
   ]
  },
  {
   "cell_type": "code",
   "execution_count": 16,
   "id": "ca707fd7-8047-4acd-bfa5-66248fbbf8e6",
   "metadata": {
    "execution": {
     "iopub.execute_input": "2025-07-30T19:56:13.031860Z",
     "iopub.status.busy": "2025-07-30T19:56:13.031237Z",
     "iopub.status.idle": "2025-07-30T19:56:13.036211Z",
     "shell.execute_reply": "2025-07-30T19:56:13.035330Z"
    },
    "papermill": {
     "duration": 0.026328,
     "end_time": "2025-07-30T19:56:13.037792",
     "exception": false,
     "start_time": "2025-07-30T19:56:13.011464",
     "status": "completed"
    },
    "tags": []
   },
   "outputs": [],
   "source": [
    "#universe[\"training_year\"]"
   ]
  },
  {
   "cell_type": "code",
   "execution_count": 17,
   "id": "aea9c6ef-6f46-42c8-85eb-5a62025c1508",
   "metadata": {
    "execution": {
     "iopub.execute_input": "2025-07-30T19:56:13.077679Z",
     "iopub.status.busy": "2025-07-30T19:56:13.077054Z",
     "iopub.status.idle": "2025-07-30T19:56:13.335813Z",
     "shell.execute_reply": "2025-07-30T19:56:13.334952Z"
    },
    "papermill": {
     "duration": 0.280619,
     "end_time": "2025-07-30T19:56:13.337689",
     "exception": false,
     "start_time": "2025-07-30T19:56:13.057070",
     "status": "completed"
    },
    "tags": []
   },
   "outputs": [],
   "source": [
    "siab_train = sample_by_year_size(siab,\n",
    "                               training_year=universe[\"training_year\"],\n",
    "                               training_size=universe[\"training_size\"])"
   ]
  },
  {
   "cell_type": "code",
   "execution_count": 18,
   "id": "8d3afb32-789d-442c-8d5d-9f5aa8dd2eed",
   "metadata": {
    "execution": {
     "iopub.execute_input": "2025-07-30T19:56:13.378529Z",
     "iopub.status.busy": "2025-07-30T19:56:13.377889Z",
     "iopub.status.idle": "2025-07-30T19:56:13.382848Z",
     "shell.execute_reply": "2025-07-30T19:56:13.381950Z"
    },
    "papermill": {
     "duration": 0.026487,
     "end_time": "2025-07-30T19:56:13.384297",
     "exception": false,
     "start_time": "2025-07-30T19:56:13.357810",
     "status": "completed"
    },
    "tags": []
   },
   "outputs": [],
   "source": [
    "#siab_train.shape"
   ]
  },
  {
   "cell_type": "code",
   "execution_count": 19,
   "id": "d582db68-1a4c-47fb-84fc-08518dc1975a",
   "metadata": {
    "execution": {
     "iopub.execute_input": "2025-07-30T19:56:13.424560Z",
     "iopub.status.busy": "2025-07-30T19:56:13.423888Z",
     "iopub.status.idle": "2025-07-30T19:56:13.428960Z",
     "shell.execute_reply": "2025-07-30T19:56:13.427851Z"
    },
    "papermill": {
     "duration": 0.026755,
     "end_time": "2025-07-30T19:56:13.430559",
     "exception": false,
     "start_time": "2025-07-30T19:56:13.403804",
     "status": "completed"
    },
    "tags": []
   },
   "outputs": [],
   "source": [
    "#display(siab_train.groupby(\"year\").size())"
   ]
  },
  {
   "cell_type": "code",
   "execution_count": 20,
   "id": "a561edb4-d032-42cb-8256-22eac1111c64",
   "metadata": {
    "execution": {
     "iopub.execute_input": "2025-07-30T19:56:13.470887Z",
     "iopub.status.busy": "2025-07-30T19:56:13.470265Z",
     "iopub.status.idle": "2025-07-30T19:56:13.687302Z",
     "shell.execute_reply": "2025-07-30T19:56:13.686425Z"
    },
    "papermill": {
     "duration": 0.239097,
     "end_time": "2025-07-30T19:56:13.689258",
     "exception": false,
     "start_time": "2025-07-30T19:56:13.450161",
     "status": "completed"
    },
    "tags": []
   },
   "outputs": [],
   "source": [
    "#siab_train = siab_s[siab_s.year < 2015]\n",
    "siab_calib = siab[siab.year == 2015]\n",
    "siab_test = siab[siab.year == 2016]"
   ]
  },
  {
   "cell_type": "code",
   "execution_count": 21,
   "id": "472de16f-c3db-4916-846b-1f0de9cf1746",
   "metadata": {
    "execution": {
     "iopub.execute_input": "2025-07-30T19:56:13.730865Z",
     "iopub.status.busy": "2025-07-30T19:56:13.730222Z",
     "iopub.status.idle": "2025-07-30T19:56:13.744164Z",
     "shell.execute_reply": "2025-07-30T19:56:13.743122Z"
    },
    "papermill": {
     "duration": 0.036303,
     "end_time": "2025-07-30T19:56:13.745739",
     "exception": false,
     "start_time": "2025-07-30T19:56:13.709436",
     "status": "completed"
    },
    "tags": []
   },
   "outputs": [],
   "source": [
    "X_train = siab_train.iloc[:,4:164]\n",
    "y_train = siab_train.iloc[:, [3]]"
   ]
  },
  {
   "cell_type": "code",
   "execution_count": 22,
   "id": "828c96af-f43a-4ed6-ba47-8ac73a47d56c",
   "metadata": {
    "execution": {
     "iopub.execute_input": "2025-07-30T19:56:13.786455Z",
     "iopub.status.busy": "2025-07-30T19:56:13.785824Z",
     "iopub.status.idle": "2025-07-30T19:56:13.833589Z",
     "shell.execute_reply": "2025-07-30T19:56:13.832660Z"
    },
    "papermill": {
     "duration": 0.069528,
     "end_time": "2025-07-30T19:56:13.835339",
     "exception": false,
     "start_time": "2025-07-30T19:56:13.765811",
     "status": "completed"
    },
    "tags": []
   },
   "outputs": [],
   "source": [
    "X_calib = siab_calib.iloc[:,4:164]\n",
    "y_calib = siab_calib.iloc[:, [3]]"
   ]
  },
  {
   "cell_type": "code",
   "execution_count": 23,
   "id": "c34be9c3-6bd6-476e-acd3-845840e303be",
   "metadata": {
    "execution": {
     "iopub.execute_input": "2025-07-30T19:56:13.877503Z",
     "iopub.status.busy": "2025-07-30T19:56:13.876568Z",
     "iopub.status.idle": "2025-07-30T19:56:13.928881Z",
     "shell.execute_reply": "2025-07-30T19:56:13.927990Z"
    },
    "papermill": {
     "duration": 0.074775,
     "end_time": "2025-07-30T19:56:13.930656",
     "exception": false,
     "start_time": "2025-07-30T19:56:13.855881",
     "status": "completed"
    },
    "tags": []
   },
   "outputs": [],
   "source": [
    "X_test = siab_test.iloc[:,4:164]\n",
    "y_true = siab_test.iloc[:, [3]]"
   ]
  },
  {
   "cell_type": "markdown",
   "id": "9901737e-04df-44f0-9100-f5ad144ed040",
   "metadata": {
    "papermill": {
     "duration": 0.020041,
     "end_time": "2025-07-30T19:56:13.971584",
     "exception": false,
     "start_time": "2025-07-30T19:56:13.951543",
     "status": "completed"
    },
    "tags": []
   },
   "source": [
    "# Splitting Data and Setting Training Data Size OLD VERSION"
   ]
  },
  {
   "cell_type": "code",
   "execution_count": 24,
   "id": "acbc8f7d-8fc8-4e86-8c59-5dcb0f58384b",
   "metadata": {
    "execution": {
     "iopub.execute_input": "2025-07-30T19:56:14.013445Z",
     "iopub.status.busy": "2025-07-30T19:56:14.012778Z",
     "iopub.status.idle": "2025-07-30T19:56:14.018295Z",
     "shell.execute_reply": "2025-07-30T19:56:14.017385Z"
    },
    "papermill": {
     "duration": 0.02828,
     "end_time": "2025-07-30T19:56:14.019802",
     "exception": false,
     "start_time": "2025-07-30T19:56:13.991522",
     "status": "completed"
    },
    "tags": []
   },
   "outputs": [],
   "source": [
    "#def sample_by_year(df, training_size, random_state=42):\n",
    "#    if training_size == \"2014\":\n",
    "#        return df[df[\"year\"] == 2014].reset_index(drop=True)\n",
    "#    \n",
    "#    size_map = {\n",
    "#        \"25k\": 5000,\n",
    "#        \"5k\": 1000,\n",
    "#        \"1k\": 200\n",
    "#    }\n",
    "#\n",
    "#    if training_size not in size_map:\n",
    "#        return df.reset_index(drop=True)  # use all data\n",
    "#\n",
    "#    n_per_year = size_map[training_size]\n",
    "#    grouped = df.groupby(\"year\")\n",
    "#    sampled = grouped.apply(lambda x: x.sample(n=min(n_per_year, len(x)), random_state=random_state))\n",
    "#    return sampled.reset_index(drop=True)"
   ]
  },
  {
   "cell_type": "code",
   "execution_count": 25,
   "id": "6d931f52-beaf-43ff-9e78-9d44a448d54e",
   "metadata": {
    "execution": {
     "iopub.execute_input": "2025-07-30T19:56:14.062498Z",
     "iopub.status.busy": "2025-07-30T19:56:14.061804Z",
     "iopub.status.idle": "2025-07-30T19:56:14.067041Z",
     "shell.execute_reply": "2025-07-30T19:56:14.066075Z"
    },
    "papermill": {
     "duration": 0.028511,
     "end_time": "2025-07-30T19:56:14.068750",
     "exception": false,
     "start_time": "2025-07-30T19:56:14.040239",
     "status": "completed"
    },
    "tags": []
   },
   "outputs": [],
   "source": [
    "#siab_s = sample_by_year(siab, universe[\"training_size\"])"
   ]
  },
  {
   "cell_type": "code",
   "execution_count": 26,
   "id": "5db0a40e-a4e2-4920-be85-b12ae061d70d",
   "metadata": {
    "execution": {
     "iopub.execute_input": "2025-07-30T19:56:14.112887Z",
     "iopub.status.busy": "2025-07-30T19:56:14.112147Z",
     "iopub.status.idle": "2025-07-30T19:56:14.117491Z",
     "shell.execute_reply": "2025-07-30T19:56:14.116371Z"
    },
    "papermill": {
     "duration": 0.028605,
     "end_time": "2025-07-30T19:56:14.118902",
     "exception": false,
     "start_time": "2025-07-30T19:56:14.090297",
     "status": "completed"
    },
    "tags": []
   },
   "outputs": [],
   "source": [
    "#display(siab_s.groupby(\"year\").size())"
   ]
  },
  {
   "cell_type": "code",
   "execution_count": 27,
   "id": "e6c733c5",
   "metadata": {
    "execution": {
     "iopub.execute_input": "2025-07-30T19:56:14.160008Z",
     "iopub.status.busy": "2025-07-30T19:56:14.159387Z",
     "iopub.status.idle": "2025-07-30T19:56:14.253215Z",
     "shell.execute_reply": "2025-07-30T19:56:14.252318Z"
    },
    "papermill": {
     "duration": 0.116342,
     "end_time": "2025-07-30T19:56:14.255065",
     "exception": false,
     "start_time": "2025-07-30T19:56:14.138723",
     "status": "completed"
    },
    "tags": []
   },
   "outputs": [],
   "source": [
    "# Auxiliary data needed downstream in the pipeline\n",
    "\n",
    "org_train = X_train.copy()\n",
    "org_test = X_test.copy()\n",
    "org_calib = X_calib.copy()"
   ]
  },
  {
   "cell_type": "code",
   "execution_count": 28,
   "id": "1466abac-c6da-4492-a62f-4240ae3783af",
   "metadata": {
    "execution": {
     "iopub.execute_input": "2025-07-30T19:56:14.297800Z",
     "iopub.status.busy": "2025-07-30T19:56:14.297143Z",
     "iopub.status.idle": "2025-07-30T19:56:14.303176Z",
     "shell.execute_reply": "2025-07-30T19:56:14.302215Z"
    },
    "papermill": {
     "duration": 0.029375,
     "end_time": "2025-07-30T19:56:14.304886",
     "exception": false,
     "start_time": "2025-07-30T19:56:14.275511",
     "status": "completed"
    },
    "tags": []
   },
   "outputs": [],
   "source": [
    "# put in other script?\n",
    "# Group sizes\n",
    "\n",
    "#def calculate_percentages(df, df_name):\n",
    "#    total_entries = len(df)\n",
    "#\n",
    "#    female_pct = (df['frau1'] == 1).mean() * 100\n",
    "#    non_german_pct = ((df['maxdeutsch1'] == 0) & (df['maxdeutsch.Missing.'] == 0)).mean() * 100\n",
    "#    non_german_male_pct = ((df['frau1'] == 0) & (df['maxdeutsch1'] == 0) & (df['maxdeutsch.Missing.'] == 0)).mean() * 100\n",
    "#    non_german_female_pct = ((df['frau1'] == 1) & (df['maxdeutsch1'] == 0) & (df['maxdeutsch.Missing.'] == 0)).mean() * 100\n",
    "#\n",
    "#    print(f\"--- {df_name} ---\")\n",
    "#    print(f\"Female: {female_pct:.2f}%\")\n",
    "#    print(f\"Non-German: {non_german_pct:.2f}%\")\n",
    "#    print(f\"Non-German Male: {non_german_male_pct:.2f}%\")\n",
    "#    print(f\"Non-German Female: {non_german_female_pct:.2f}%\\n\")\n",
    "#\n",
    "## Calculate for each DataFrame\n",
    "#calculate_percentages(siab_calib, \"siab_calib\")\n",
    "#calculate_percentages(siab_test, \"siab_test\")\n",
    "#calculate_percentages(siab_train, \"siab_train\")"
   ]
  },
  {
   "cell_type": "markdown",
   "id": "0a4a1b33",
   "metadata": {
    "papermill": {
     "duration": 0.020397,
     "end_time": "2025-07-30T19:56:14.346452",
     "exception": false,
     "start_time": "2025-07-30T19:56:14.326055",
     "status": "completed"
    },
    "tags": []
   },
   "source": [
    "# Preprocessing Data"
   ]
  },
  {
   "cell_type": "code",
   "execution_count": 29,
   "id": "ca879031",
   "metadata": {
    "execution": {
     "iopub.execute_input": "2025-07-30T19:56:14.387041Z",
     "iopub.status.busy": "2025-07-30T19:56:14.386569Z",
     "iopub.status.idle": "2025-07-30T19:56:14.392996Z",
     "shell.execute_reply": "2025-07-30T19:56:14.392069Z"
    },
    "papermill": {
     "duration": 0.028468,
     "end_time": "2025-07-30T19:56:14.394517",
     "exception": false,
     "start_time": "2025-07-30T19:56:14.366049",
     "status": "completed"
    },
    "tags": []
   },
   "outputs": [],
   "source": [
    "# EXCLUDE PROTECTED FEATURES\n",
    "# ----------------------\n",
    "# \"exclude_features\": \"none\", # \"nationality\", \"sex\", \"nationality-sex\"\n",
    "\n",
    "excluded_features = universe[\"exclude_features\"].split(\"-\") # split, e.g.: \"nationality-sex\" -> [\"nationality\", \"sex\"]\n",
    "excluded_features_dictionary = {\n",
    "    \"nationality\": [\"maxdeutsch1\", \"maxdeutsch.Missing.\"],\n",
    "    \"sex\": [\"frau1\"],\n",
    "    \"age\": [\"age\"],\n",
    "}\n"
   ]
  },
  {
   "cell_type": "code",
   "execution_count": 30,
   "id": "b745ac60",
   "metadata": {
    "execution": {
     "iopub.execute_input": "2025-07-30T19:56:14.435717Z",
     "iopub.status.busy": "2025-07-30T19:56:14.435077Z",
     "iopub.status.idle": "2025-07-30T19:56:14.441778Z",
     "shell.execute_reply": "2025-07-30T19:56:14.440580Z"
    },
    "papermill": {
     "duration": 0.029002,
     "end_time": "2025-07-30T19:56:14.443394",
     "exception": false,
     "start_time": "2025-07-30T19:56:14.414392",
     "status": "completed"
    },
    "tags": []
   },
   "outputs": [],
   "source": [
    "# Code nice names to column names\n",
    "\n",
    "excluded_features_columns = [\n",
    "    excluded_features_dictionary[f] for f in excluded_features if len(f) > 0 and f != \"none\"\n",
    "]"
   ]
  },
  {
   "cell_type": "code",
   "execution_count": 31,
   "id": "f84f73a2",
   "metadata": {
    "execution": {
     "iopub.execute_input": "2025-07-30T19:56:14.485293Z",
     "iopub.status.busy": "2025-07-30T19:56:14.484668Z",
     "iopub.status.idle": "2025-07-30T19:56:14.491956Z",
     "shell.execute_reply": "2025-07-30T19:56:14.490092Z"
    },
    "papermill": {
     "duration": 0.029859,
     "end_time": "2025-07-30T19:56:14.493530",
     "exception": false,
     "start_time": "2025-07-30T19:56:14.463671",
     "status": "completed"
    },
    "tags": []
   },
   "outputs": [],
   "source": [
    "from utils import flatten_once\n",
    "\n",
    "excluded_features_columns = flatten_once(excluded_features_columns)"
   ]
  },
  {
   "cell_type": "code",
   "execution_count": 32,
   "id": "884dea22",
   "metadata": {
    "execution": {
     "iopub.execute_input": "2025-07-30T19:56:14.537329Z",
     "iopub.status.busy": "2025-07-30T19:56:14.536686Z",
     "iopub.status.idle": "2025-07-30T19:56:14.552392Z",
     "shell.execute_reply": "2025-07-30T19:56:14.551330Z"
    },
    "papermill": {
     "duration": 0.039162,
     "end_time": "2025-07-30T19:56:14.554065",
     "exception": false,
     "start_time": "2025-07-30T19:56:14.514903",
     "status": "completed"
    },
    "tags": []
   },
   "outputs": [
    {
     "name": "stdout",
     "output_type": "stream",
     "text": [
      "Dropping features: ['age']\n"
     ]
    }
   ],
   "source": [
    "if len(excluded_features_columns) > 0:\n",
    "    print(f\"Dropping features: {excluded_features_columns}\")\n",
    "    X_train.drop(excluded_features_columns, axis=1, inplace=True)"
   ]
  },
  {
   "cell_type": "code",
   "execution_count": 33,
   "id": "95ab8b16",
   "metadata": {
    "execution": {
     "iopub.execute_input": "2025-07-30T19:56:14.597528Z",
     "iopub.status.busy": "2025-07-30T19:56:14.596860Z",
     "iopub.status.idle": "2025-07-30T19:56:14.648396Z",
     "shell.execute_reply": "2025-07-30T19:56:14.647307Z"
    },
    "papermill": {
     "duration": 0.075525,
     "end_time": "2025-07-30T19:56:14.650759",
     "exception": false,
     "start_time": "2025-07-30T19:56:14.575234",
     "status": "completed"
    },
    "tags": []
   },
   "outputs": [
    {
     "name": "stdout",
     "output_type": "stream",
     "text": [
      "Dropping features: ['age']\n"
     ]
    }
   ],
   "source": [
    "if len(excluded_features_columns) > 0:\n",
    "    print(f\"Dropping features: {excluded_features_columns}\")\n",
    "    X_test.drop(excluded_features_columns, axis=1, inplace=True)"
   ]
  },
  {
   "cell_type": "code",
   "execution_count": 34,
   "id": "1853aaf5-fb9f-46cb-a2b5-8ea4ae2237e4",
   "metadata": {
    "execution": {
     "iopub.execute_input": "2025-07-30T19:56:14.693900Z",
     "iopub.status.busy": "2025-07-30T19:56:14.693335Z",
     "iopub.status.idle": "2025-07-30T19:56:14.744703Z",
     "shell.execute_reply": "2025-07-30T19:56:14.743566Z"
    },
    "papermill": {
     "duration": 0.074085,
     "end_time": "2025-07-30T19:56:14.746286",
     "exception": false,
     "start_time": "2025-07-30T19:56:14.672201",
     "status": "completed"
    },
    "tags": []
   },
   "outputs": [
    {
     "name": "stdout",
     "output_type": "stream",
     "text": [
      "Dropping features: ['age']\n"
     ]
    }
   ],
   "source": [
    "if len(excluded_features_columns) > 0:\n",
    "    print(f\"Dropping features: {excluded_features_columns}\")\n",
    "    X_calib.drop(excluded_features_columns, axis=1, inplace=True)"
   ]
  },
  {
   "cell_type": "code",
   "execution_count": 35,
   "id": "6727d079-03e5-481e-9d38-292a90b7a0a8",
   "metadata": {
    "execution": {
     "iopub.execute_input": "2025-07-30T19:56:14.790141Z",
     "iopub.status.busy": "2025-07-30T19:56:14.789685Z",
     "iopub.status.idle": "2025-07-30T19:56:14.795511Z",
     "shell.execute_reply": "2025-07-30T19:56:14.794502Z"
    },
    "papermill": {
     "duration": 0.029645,
     "end_time": "2025-07-30T19:56:14.797199",
     "exception": false,
     "start_time": "2025-07-30T19:56:14.767554",
     "status": "completed"
    },
    "tags": []
   },
   "outputs": [],
   "source": [
    "# SPLIT & STRATIFY DATA\n",
    "# ----------------------"
   ]
  },
  {
   "cell_type": "code",
   "execution_count": 36,
   "id": "76c4dc6d",
   "metadata": {
    "execution": {
     "iopub.execute_input": "2025-07-30T19:56:14.841330Z",
     "iopub.status.busy": "2025-07-30T19:56:14.840357Z",
     "iopub.status.idle": "2025-07-30T19:56:14.845849Z",
     "shell.execute_reply": "2025-07-30T19:56:14.844996Z"
    },
    "papermill": {
     "duration": 0.029043,
     "end_time": "2025-07-30T19:56:14.847284",
     "exception": false,
     "start_time": "2025-07-30T19:56:14.818241",
     "status": "completed"
    },
    "tags": []
   },
   "outputs": [],
   "source": [
    "# EXCLUDE CERTAIN SUBGROUPS\n",
    "# ----------------------\n",
    "\n",
    "mode = universe.get(\"exclude_subgroups\", \"keep-all\") \n",
    "# Fetches the exclude_subgroups setting from the universe dict.\n",
    "# Defaults to \"keep-all\" if the key is missing."
   ]
  },
  {
   "cell_type": "code",
   "execution_count": 37,
   "id": "21994072",
   "metadata": {
    "execution": {
     "iopub.execute_input": "2025-07-30T19:56:14.891229Z",
     "iopub.status.busy": "2025-07-30T19:56:14.889703Z",
     "iopub.status.idle": "2025-07-30T19:56:14.897978Z",
     "shell.execute_reply": "2025-07-30T19:56:14.897129Z"
    },
    "papermill": {
     "duration": 0.03098,
     "end_time": "2025-07-30T19:56:14.899462",
     "exception": false,
     "start_time": "2025-07-30T19:56:14.868482",
     "status": "completed"
    },
    "tags": []
   },
   "outputs": [],
   "source": [
    "if mode == \"keep-all\":\n",
    "    keep_mask = pd.Series(True, index=org_train.index)\n",
    "\n",
    "# org_train contains the original feature columns from features_org (in Simson)\n",
    "# features_org contains unprocessed features, for me X_train at beginning ???\n",
    "# For keep-all, creates a boolean Series (keep_mask) of all True, so no rows are removed.\n",
    "\n",
    "elif mode == \"drop-non-german\":\n",
    "    keep_mask = org_train[\"maxdeutsch1\"] == 1 # ??? what about missing values?\n",
    "\n",
    "else:\n",
    "    raise ValueError(f\"Unsupported mode for exclude_subgroups: {mode}\")\n"
   ]
  },
  {
   "cell_type": "code",
   "execution_count": 38,
   "id": "71651440",
   "metadata": {
    "execution": {
     "iopub.execute_input": "2025-07-30T19:56:14.942879Z",
     "iopub.status.busy": "2025-07-30T19:56:14.942342Z",
     "iopub.status.idle": "2025-07-30T19:56:14.951154Z",
     "shell.execute_reply": "2025-07-30T19:56:14.948721Z"
    },
    "papermill": {
     "duration": 0.031848,
     "end_time": "2025-07-30T19:56:14.952889",
     "exception": false,
     "start_time": "2025-07-30T19:56:14.921041",
     "status": "completed"
    },
    "tags": []
   },
   "outputs": [],
   "source": [
    "n_drop = (~keep_mask).sum() # Calculates how many rows are set to be dropped\n",
    "if n_drop > 0:\n",
    "    pct = n_drop / len(keep_mask) * 100\n",
    "    print(f\"Dropping {n_drop} rows ({pct:.2f}%) where mode='{mode}'\")"
   ]
  },
  {
   "cell_type": "code",
   "execution_count": 39,
   "id": "5fb8eee5",
   "metadata": {
    "execution": {
     "iopub.execute_input": "2025-07-30T19:56:14.996806Z",
     "iopub.status.busy": "2025-07-30T19:56:14.996165Z",
     "iopub.status.idle": "2025-07-30T19:56:15.011815Z",
     "shell.execute_reply": "2025-07-30T19:56:15.010679Z"
    },
    "papermill": {
     "duration": 0.039206,
     "end_time": "2025-07-30T19:56:15.013729",
     "exception": false,
     "start_time": "2025-07-30T19:56:14.974523",
     "status": "completed"
    },
    "tags": []
   },
   "outputs": [],
   "source": [
    "X_train = X_train[keep_mask]"
   ]
  },
  {
   "cell_type": "code",
   "execution_count": 40,
   "id": "b202bb3a",
   "metadata": {
    "execution": {
     "iopub.execute_input": "2025-07-30T19:56:15.059588Z",
     "iopub.status.busy": "2025-07-30T19:56:15.058938Z",
     "iopub.status.idle": "2025-07-30T19:56:15.065281Z",
     "shell.execute_reply": "2025-07-30T19:56:15.064450Z"
    },
    "papermill": {
     "duration": 0.031003,
     "end_time": "2025-07-30T19:56:15.066864",
     "exception": false,
     "start_time": "2025-07-30T19:56:15.035861",
     "status": "completed"
    },
    "tags": []
   },
   "outputs": [],
   "source": [
    "y_train = y_train[keep_mask]"
   ]
  },
  {
   "cell_type": "markdown",
   "id": "493e2ac3",
   "metadata": {
    "papermill": {
     "duration": 0.022273,
     "end_time": "2025-07-30T19:56:15.112402",
     "exception": false,
     "start_time": "2025-07-30T19:56:15.090129",
     "status": "completed"
    },
    "tags": []
   },
   "source": [
    "# Model Training"
   ]
  },
  {
   "cell_type": "code",
   "execution_count": 41,
   "id": "679e1268",
   "metadata": {
    "execution": {
     "iopub.execute_input": "2025-07-30T19:56:15.158521Z",
     "iopub.status.busy": "2025-07-30T19:56:15.157872Z",
     "iopub.status.idle": "2025-07-30T19:56:15.258379Z",
     "shell.execute_reply": "2025-07-30T19:56:15.257535Z"
    },
    "papermill": {
     "duration": 0.125575,
     "end_time": "2025-07-30T19:56:15.260202",
     "exception": false,
     "start_time": "2025-07-30T19:56:15.134627",
     "status": "completed"
    },
    "tags": []
   },
   "outputs": [],
   "source": [
    "from sklearn.linear_model import LogisticRegression\n",
    "from sklearn.ensemble import GradientBoostingClassifier, RandomForestClassifier\n",
    "\n",
    "if (universe[\"model\"] == \"logreg\"):\n",
    "    model = LogisticRegression() #penalty=\"none\") #, solver=\"newton-cg\", max_iter=1) # include random_state=19 ?\n",
    "elif (universe[\"model\"] == \"penalized_logreg\"):\n",
    "    model = LogisticRegression(penalty=\"l2\", C=1.0) #, solver=\"newton-cg\", max_iter=1)\n",
    "elif (universe[\"model\"] == \"rf\"):\n",
    "    model = RandomForestClassifier(n_estimators=100, n_jobs=-1)\n",
    "elif (universe[\"model\"] == \"gbm\"):\n",
    "    model = GradientBoostingClassifier()\n",
    "elif (universe[\"model\"] == \"elasticnet\"):\n",
    "    model = LogisticRegression(penalty = 'elasticnet', solver = 'saga', l1_ratio = 0.5, max_iter=5000) # which solver to use?\n",
    "else:\n",
    "    raise \"Unsupported universe.model\""
   ]
  },
  {
   "cell_type": "code",
   "execution_count": 42,
   "id": "0cc8f744",
   "metadata": {
    "execution": {
     "iopub.execute_input": "2025-07-30T19:56:15.306706Z",
     "iopub.status.busy": "2025-07-30T19:56:15.306068Z",
     "iopub.status.idle": "2025-07-30T19:56:15.312528Z",
     "shell.execute_reply": "2025-07-30T19:56:15.311480Z"
    },
    "papermill": {
     "duration": 0.032162,
     "end_time": "2025-07-30T19:56:15.314162",
     "exception": false,
     "start_time": "2025-07-30T19:56:15.282000",
     "status": "completed"
    },
    "tags": []
   },
   "outputs": [],
   "source": [
    "import numpy as np\n",
    "from sklearn.pipeline import Pipeline\n",
    "from sklearn.preprocessing import StandardScaler\n",
    "\n",
    "model = Pipeline([\n",
    "    #(\"continuous_processor\", continuous_processor),\n",
    "    #(\"categorical_preprocessor\", categorical_preprocessor),\n",
    "    (\"scale\", StandardScaler() if universe[\"scale\"] == \"scale\" else None), \n",
    "    (\"model\", model),\n",
    "])"
   ]
  },
  {
   "cell_type": "code",
   "execution_count": 43,
   "id": "9442c04d",
   "metadata": {
    "execution": {
     "iopub.execute_input": "2025-07-30T19:56:15.357837Z",
     "iopub.status.busy": "2025-07-30T19:56:15.357203Z",
     "iopub.status.idle": "2025-07-30T19:56:38.481491Z",
     "shell.execute_reply": "2025-07-30T19:56:38.480311Z"
    },
    "papermill": {
     "duration": 23.147388,
     "end_time": "2025-07-30T19:56:38.483115",
     "exception": false,
     "start_time": "2025-07-30T19:56:15.335727",
     "status": "completed"
    },
    "tags": []
   },
   "outputs": [
    {
     "data": {
      "text/html": [
       "<style>#sk-container-id-1 {color: black;background-color: white;}#sk-container-id-1 pre{padding: 0;}#sk-container-id-1 div.sk-toggleable {background-color: white;}#sk-container-id-1 label.sk-toggleable__label {cursor: pointer;display: block;width: 100%;margin-bottom: 0;padding: 0.3em;box-sizing: border-box;text-align: center;}#sk-container-id-1 label.sk-toggleable__label-arrow:before {content: \"▸\";float: left;margin-right: 0.25em;color: #696969;}#sk-container-id-1 label.sk-toggleable__label-arrow:hover:before {color: black;}#sk-container-id-1 div.sk-estimator:hover label.sk-toggleable__label-arrow:before {color: black;}#sk-container-id-1 div.sk-toggleable__content {max-height: 0;max-width: 0;overflow: hidden;text-align: left;background-color: #f0f8ff;}#sk-container-id-1 div.sk-toggleable__content pre {margin: 0.2em;color: black;border-radius: 0.25em;background-color: #f0f8ff;}#sk-container-id-1 input.sk-toggleable__control:checked~div.sk-toggleable__content {max-height: 200px;max-width: 100%;overflow: auto;}#sk-container-id-1 input.sk-toggleable__control:checked~label.sk-toggleable__label-arrow:before {content: \"▾\";}#sk-container-id-1 div.sk-estimator input.sk-toggleable__control:checked~label.sk-toggleable__label {background-color: #d4ebff;}#sk-container-id-1 div.sk-label input.sk-toggleable__control:checked~label.sk-toggleable__label {background-color: #d4ebff;}#sk-container-id-1 input.sk-hidden--visually {border: 0;clip: rect(1px 1px 1px 1px);clip: rect(1px, 1px, 1px, 1px);height: 1px;margin: -1px;overflow: hidden;padding: 0;position: absolute;width: 1px;}#sk-container-id-1 div.sk-estimator {font-family: monospace;background-color: #f0f8ff;border: 1px dotted black;border-radius: 0.25em;box-sizing: border-box;margin-bottom: 0.5em;}#sk-container-id-1 div.sk-estimator:hover {background-color: #d4ebff;}#sk-container-id-1 div.sk-parallel-item::after {content: \"\";width: 100%;border-bottom: 1px solid gray;flex-grow: 1;}#sk-container-id-1 div.sk-label:hover label.sk-toggleable__label {background-color: #d4ebff;}#sk-container-id-1 div.sk-serial::before {content: \"\";position: absolute;border-left: 1px solid gray;box-sizing: border-box;top: 0;bottom: 0;left: 50%;z-index: 0;}#sk-container-id-1 div.sk-serial {display: flex;flex-direction: column;align-items: center;background-color: white;padding-right: 0.2em;padding-left: 0.2em;position: relative;}#sk-container-id-1 div.sk-item {position: relative;z-index: 1;}#sk-container-id-1 div.sk-parallel {display: flex;align-items: stretch;justify-content: center;background-color: white;position: relative;}#sk-container-id-1 div.sk-item::before, #sk-container-id-1 div.sk-parallel-item::before {content: \"\";position: absolute;border-left: 1px solid gray;box-sizing: border-box;top: 0;bottom: 0;left: 50%;z-index: -1;}#sk-container-id-1 div.sk-parallel-item {display: flex;flex-direction: column;z-index: 1;position: relative;background-color: white;}#sk-container-id-1 div.sk-parallel-item:first-child::after {align-self: flex-end;width: 50%;}#sk-container-id-1 div.sk-parallel-item:last-child::after {align-self: flex-start;width: 50%;}#sk-container-id-1 div.sk-parallel-item:only-child::after {width: 0;}#sk-container-id-1 div.sk-dashed-wrapped {border: 1px dashed gray;margin: 0 0.4em 0.5em 0.4em;box-sizing: border-box;padding-bottom: 0.4em;background-color: white;}#sk-container-id-1 div.sk-label label {font-family: monospace;font-weight: bold;display: inline-block;line-height: 1.2em;}#sk-container-id-1 div.sk-label-container {text-align: center;}#sk-container-id-1 div.sk-container {/* jupyter's `normalize.less` sets `[hidden] { display: none; }` but bootstrap.min.css set `[hidden] { display: none !important; }` so we also need the `!important` here to be able to override the default hidden behavior on the sphinx rendered scikit-learn.org. See: https://github.com/scikit-learn/scikit-learn/issues/21755 */display: inline-block !important;position: relative;}#sk-container-id-1 div.sk-text-repr-fallback {display: none;}</style><div id=\"sk-container-id-1\" class=\"sk-top-container\"><div class=\"sk-text-repr-fallback\"><pre>Pipeline(steps=[(&#x27;scale&#x27;, StandardScaler()),\n",
       "                (&#x27;model&#x27;,\n",
       "                 LogisticRegression(l1_ratio=0.5, max_iter=5000,\n",
       "                                    penalty=&#x27;elasticnet&#x27;, solver=&#x27;saga&#x27;))])</pre><b>In a Jupyter environment, please rerun this cell to show the HTML representation or trust the notebook. <br />On GitHub, the HTML representation is unable to render, please try loading this page with nbviewer.org.</b></div><div class=\"sk-container\" hidden><div class=\"sk-item sk-dashed-wrapped\"><div class=\"sk-label-container\"><div class=\"sk-label sk-toggleable\"><input class=\"sk-toggleable__control sk-hidden--visually\" id=\"sk-estimator-id-1\" type=\"checkbox\" ><label for=\"sk-estimator-id-1\" class=\"sk-toggleable__label sk-toggleable__label-arrow\">Pipeline</label><div class=\"sk-toggleable__content\"><pre>Pipeline(steps=[(&#x27;scale&#x27;, StandardScaler()),\n",
       "                (&#x27;model&#x27;,\n",
       "                 LogisticRegression(l1_ratio=0.5, max_iter=5000,\n",
       "                                    penalty=&#x27;elasticnet&#x27;, solver=&#x27;saga&#x27;))])</pre></div></div></div><div class=\"sk-serial\"><div class=\"sk-item\"><div class=\"sk-estimator sk-toggleable\"><input class=\"sk-toggleable__control sk-hidden--visually\" id=\"sk-estimator-id-2\" type=\"checkbox\" ><label for=\"sk-estimator-id-2\" class=\"sk-toggleable__label sk-toggleable__label-arrow\">StandardScaler</label><div class=\"sk-toggleable__content\"><pre>StandardScaler()</pre></div></div></div><div class=\"sk-item\"><div class=\"sk-estimator sk-toggleable\"><input class=\"sk-toggleable__control sk-hidden--visually\" id=\"sk-estimator-id-3\" type=\"checkbox\" ><label for=\"sk-estimator-id-3\" class=\"sk-toggleable__label sk-toggleable__label-arrow\">LogisticRegression</label><div class=\"sk-toggleable__content\"><pre>LogisticRegression(l1_ratio=0.5, max_iter=5000, penalty=&#x27;elasticnet&#x27;,\n",
       "                   solver=&#x27;saga&#x27;)</pre></div></div></div></div></div></div></div>"
      ],
      "text/plain": [
       "Pipeline(steps=[('scale', StandardScaler()),\n",
       "                ('model',\n",
       "                 LogisticRegression(l1_ratio=0.5, max_iter=5000,\n",
       "                                    penalty='elasticnet', solver='saga'))])"
      ]
     },
     "execution_count": 43,
     "metadata": {},
     "output_type": "execute_result"
    }
   ],
   "source": [
    "model.fit(X_train, y_train.values.ravel())"
   ]
  },
  {
   "cell_type": "code",
   "execution_count": 44,
   "id": "af59f8c0",
   "metadata": {
    "execution": {
     "iopub.execute_input": "2025-07-30T19:56:38.531854Z",
     "iopub.status.busy": "2025-07-30T19:56:38.531100Z",
     "iopub.status.idle": "2025-07-30T19:56:38.537064Z",
     "shell.execute_reply": "2025-07-30T19:56:38.536065Z"
    },
    "papermill": {
     "duration": 0.030895,
     "end_time": "2025-07-30T19:56:38.538791",
     "exception": false,
     "start_time": "2025-07-30T19:56:38.507896",
     "status": "completed"
    },
    "tags": []
   },
   "outputs": [],
   "source": [
    "from fairness_multiverse.universe import predict_w_threshold"
   ]
  },
  {
   "cell_type": "code",
   "execution_count": 45,
   "id": "a7cf2e16",
   "metadata": {
    "execution": {
     "iopub.execute_input": "2025-07-30T19:56:38.586060Z",
     "iopub.status.busy": "2025-07-30T19:56:38.585385Z",
     "iopub.status.idle": "2025-07-30T19:56:38.794860Z",
     "shell.execute_reply": "2025-07-30T19:56:38.793993Z"
    },
    "papermill": {
     "duration": 0.234859,
     "end_time": "2025-07-30T19:56:38.796724",
     "exception": false,
     "start_time": "2025-07-30T19:56:38.561865",
     "status": "completed"
    },
    "tags": []
   },
   "outputs": [
    {
     "data": {
      "text/plain": [
       "0.864730799242002"
      ]
     },
     "execution_count": 45,
     "metadata": {},
     "output_type": "execute_result"
    }
   ],
   "source": [
    "probs_test = model.predict_proba(X_test)\n",
    "\n",
    "'''\n",
    "Below code returns a boolean array (or binary 0/1 array depending on how it’s used) where each element \n",
    "is True if the probability of class 1 is greater than or equal to the threshold, and False otherwise.\n",
    "'''\n",
    "y_pred_default = predict_w_threshold(probs_test, 0.5)\n",
    "\n",
    "from sklearn.metrics import accuracy_score\n",
    "\n",
    "# Naive prediction\n",
    "accuracy_score(y_true = y_true, y_pred = y_pred_default)"
   ]
  },
  {
   "cell_type": "code",
   "execution_count": 46,
   "id": "081964c3",
   "metadata": {
    "execution": {
     "iopub.execute_input": "2025-07-30T19:56:38.845563Z",
     "iopub.status.busy": "2025-07-30T19:56:38.844896Z",
     "iopub.status.idle": "2025-07-30T19:56:39.021328Z",
     "shell.execute_reply": "2025-07-30T19:56:39.020373Z"
    },
    "papermill": {
     "duration": 0.202074,
     "end_time": "2025-07-30T19:56:39.023241",
     "exception": false,
     "start_time": "2025-07-30T19:56:38.821167",
     "status": "completed"
    },
    "tags": []
   },
   "outputs": [
    {
     "data": {
      "text/plain": [
       "array([0, 0, 0, ..., 0, 0, 0])"
      ]
     },
     "execution_count": 46,
     "metadata": {},
     "output_type": "execute_result"
    }
   ],
   "source": [
    "model.predict(X_test)"
   ]
  },
  {
   "cell_type": "markdown",
   "id": "56c9705b",
   "metadata": {
    "papermill": {
     "duration": 0.022785,
     "end_time": "2025-07-30T19:56:39.070065",
     "exception": false,
     "start_time": "2025-07-30T19:56:39.047280",
     "status": "completed"
    },
    "tags": []
   },
   "source": [
    "# Conformal Prediction"
   ]
  },
  {
   "cell_type": "code",
   "execution_count": 47,
   "id": "160ec6ff",
   "metadata": {
    "execution": {
     "iopub.execute_input": "2025-07-30T19:56:39.115273Z",
     "iopub.status.busy": "2025-07-30T19:56:39.114627Z",
     "iopub.status.idle": "2025-07-30T19:56:39.119873Z",
     "shell.execute_reply": "2025-07-30T19:56:39.119011Z"
    },
    "papermill": {
     "duration": 0.029582,
     "end_time": "2025-07-30T19:56:39.121506",
     "exception": false,
     "start_time": "2025-07-30T19:56:39.091924",
     "status": "completed"
    },
    "tags": []
   },
   "outputs": [],
   "source": [
    "# Miscoverage level for conformal prediction (10% allowed error rate => 90% target coverage)\n",
    "alpha = 0.1"
   ]
  },
  {
   "cell_type": "code",
   "execution_count": 48,
   "id": "eadf4555-3dd3-440e-8e35-f82a4ad9f855",
   "metadata": {
    "execution": {
     "iopub.execute_input": "2025-07-30T19:56:39.168796Z",
     "iopub.status.busy": "2025-07-30T19:56:39.168331Z",
     "iopub.status.idle": "2025-07-30T19:56:39.345259Z",
     "shell.execute_reply": "2025-07-30T19:56:39.344270Z"
    },
    "papermill": {
     "duration": 0.20164,
     "end_time": "2025-07-30T19:56:39.347186",
     "exception": false,
     "start_time": "2025-07-30T19:56:39.145546",
     "status": "completed"
    },
    "tags": []
   },
   "outputs": [],
   "source": [
    "probs_calib = model.predict_proba(X_calib)"
   ]
  },
  {
   "cell_type": "code",
   "execution_count": 49,
   "id": "2ed93547-6d5d-4983-9b36-1ecb300da49a",
   "metadata": {
    "execution": {
     "iopub.execute_input": "2025-07-30T19:56:39.410793Z",
     "iopub.status.busy": "2025-07-30T19:56:39.410303Z",
     "iopub.status.idle": "2025-07-30T19:56:39.415794Z",
     "shell.execute_reply": "2025-07-30T19:56:39.414875Z"
    },
    "papermill": {
     "duration": 0.03139,
     "end_time": "2025-07-30T19:56:39.417516",
     "exception": false,
     "start_time": "2025-07-30T19:56:39.386126",
     "status": "completed"
    },
    "tags": []
   },
   "outputs": [],
   "source": [
    "y_calib = y_calib.values.ravel().astype(int)"
   ]
  },
  {
   "cell_type": "code",
   "execution_count": 50,
   "id": "65d1320d-f588-4b38-9072-62af1ae97f7d",
   "metadata": {
    "execution": {
     "iopub.execute_input": "2025-07-30T19:56:39.470077Z",
     "iopub.status.busy": "2025-07-30T19:56:39.469451Z",
     "iopub.status.idle": "2025-07-30T19:56:39.477215Z",
     "shell.execute_reply": "2025-07-30T19:56:39.476310Z"
    },
    "papermill": {
     "duration": 0.035592,
     "end_time": "2025-07-30T19:56:39.478800",
     "exception": false,
     "start_time": "2025-07-30T19:56:39.443208",
     "status": "completed"
    },
    "tags": []
   },
   "outputs": [],
   "source": [
    "from fairness_multiverse.conformal import compute_nc_scores\n",
    "\n",
    "# Compute nonconformity scores on calibration set (1 - probability of true class)\n",
    "nc_scores = compute_nc_scores(probs_calib, y_calib)"
   ]
  },
  {
   "cell_type": "code",
   "execution_count": 51,
   "id": "df3b8ca3-53b7-43d5-9667-7c85da7aeda2",
   "metadata": {
    "execution": {
     "iopub.execute_input": "2025-07-30T19:56:39.531663Z",
     "iopub.status.busy": "2025-07-30T19:56:39.530814Z",
     "iopub.status.idle": "2025-07-30T19:56:39.537229Z",
     "shell.execute_reply": "2025-07-30T19:56:39.536397Z"
    },
    "papermill": {
     "duration": 0.034285,
     "end_time": "2025-07-30T19:56:39.538751",
     "exception": false,
     "start_time": "2025-07-30T19:56:39.504466",
     "status": "completed"
    },
    "tags": []
   },
   "outputs": [],
   "source": [
    "from fairness_multiverse.conformal import find_threshold\n",
    "\n",
    "# Find conformal threshold q_hat for the given alpha (split conformal method)\n",
    "q_hat = find_threshold(nc_scores, alpha)"
   ]
  },
  {
   "cell_type": "code",
   "execution_count": 52,
   "id": "4d29e6c1-0ef6-4aa4-b8fe-4fe79b0d033a",
   "metadata": {
    "execution": {
     "iopub.execute_input": "2025-07-30T19:56:39.591813Z",
     "iopub.status.busy": "2025-07-30T19:56:39.591207Z",
     "iopub.status.idle": "2025-07-30T19:56:39.602734Z",
     "shell.execute_reply": "2025-07-30T19:56:39.601639Z"
    },
    "papermill": {
     "duration": 0.040314,
     "end_time": "2025-07-30T19:56:39.604550",
     "exception": false,
     "start_time": "2025-07-30T19:56:39.564236",
     "status": "completed"
    },
    "tags": []
   },
   "outputs": [
    {
     "data": {
      "text/plain": [
       "0.6781072490416822"
      ]
     },
     "execution_count": 52,
     "metadata": {},
     "output_type": "execute_result"
    }
   ],
   "source": [
    "q_hat"
   ]
  },
  {
   "cell_type": "code",
   "execution_count": 53,
   "id": "92460794-cdac-4be2-ba28-f28c0515a6fb",
   "metadata": {
    "execution": {
     "iopub.execute_input": "2025-07-30T19:56:39.658333Z",
     "iopub.status.busy": "2025-07-30T19:56:39.657869Z",
     "iopub.status.idle": "2025-07-30T19:56:40.539854Z",
     "shell.execute_reply": "2025-07-30T19:56:40.538903Z"
    },
    "papermill": {
     "duration": 0.910558,
     "end_time": "2025-07-30T19:56:40.541930",
     "exception": false,
     "start_time": "2025-07-30T19:56:39.631372",
     "status": "completed"
    },
    "tags": []
   },
   "outputs": [],
   "source": [
    "from fairness_multiverse.conformal import predict_conformal_sets\n",
    "\n",
    "# Generate prediction sets for each test example\n",
    "pred_sets = predict_conformal_sets(model, X_test, q_hat)"
   ]
  },
  {
   "cell_type": "code",
   "execution_count": 54,
   "id": "d90c9a65-e6db-4f5d-80cd-e68fb7e46829",
   "metadata": {
    "execution": {
     "iopub.execute_input": "2025-07-30T19:56:40.597332Z",
     "iopub.status.busy": "2025-07-30T19:56:40.596665Z",
     "iopub.status.idle": "2025-07-30T19:56:40.602373Z",
     "shell.execute_reply": "2025-07-30T19:56:40.601320Z"
    },
    "papermill": {
     "duration": 0.034961,
     "end_time": "2025-07-30T19:56:40.604197",
     "exception": false,
     "start_time": "2025-07-30T19:56:40.569236",
     "status": "completed"
    },
    "tags": []
   },
   "outputs": [],
   "source": [
    "y_true = y_true.squeeze()"
   ]
  },
  {
   "cell_type": "code",
   "execution_count": 55,
   "id": "3a58a54a-1e68-46b9-927a-df01f18aebc8",
   "metadata": {
    "execution": {
     "iopub.execute_input": "2025-07-30T19:56:40.659540Z",
     "iopub.status.busy": "2025-07-30T19:56:40.658886Z",
     "iopub.status.idle": "2025-07-30T19:56:41.558087Z",
     "shell.execute_reply": "2025-07-30T19:56:41.557063Z"
    },
    "papermill": {
     "duration": 0.928356,
     "end_time": "2025-07-30T19:56:41.559943",
     "exception": false,
     "start_time": "2025-07-30T19:56:40.631587",
     "status": "completed"
    },
    "tags": []
   },
   "outputs": [],
   "source": [
    "from fairness_multiverse.conformal import evaluate_sets\n",
    "\n",
    "# Evaluate coverage and average set size on test data\n",
    "metrics = evaluate_sets(pred_sets, y_true)"
   ]
  },
  {
   "cell_type": "markdown",
   "id": "2b569c12-9aaa-4c88-98c9-bbcd0cf3ebb8",
   "metadata": {
    "papermill": {
     "duration": 0.025532,
     "end_time": "2025-07-30T19:56:41.611776",
     "exception": false,
     "start_time": "2025-07-30T19:56:41.586244",
     "status": "completed"
    },
    "tags": []
   },
   "source": [
    "# CP Metrics"
   ]
  },
  {
   "cell_type": "code",
   "execution_count": 56,
   "id": "5ce0a5cb-201f-45a0-ade5-94c7f0bd6095",
   "metadata": {
    "execution": {
     "iopub.execute_input": "2025-07-30T19:56:41.664425Z",
     "iopub.status.busy": "2025-07-30T19:56:41.663930Z",
     "iopub.status.idle": "2025-07-30T19:56:41.671426Z",
     "shell.execute_reply": "2025-07-30T19:56:41.670492Z"
    },
    "papermill": {
     "duration": 0.036182,
     "end_time": "2025-07-30T19:56:41.673537",
     "exception": false,
     "start_time": "2025-07-30T19:56:41.637355",
     "status": "completed"
    },
    "tags": []
   },
   "outputs": [
    {
     "data": {
      "text/plain": [
       "{'coverage': 0.9124623787760562, 'avg_size': 1.1266525470961988}"
      ]
     },
     "execution_count": 56,
     "metadata": {},
     "output_type": "execute_result"
    }
   ],
   "source": [
    "metrics"
   ]
  },
  {
   "cell_type": "code",
   "execution_count": 57,
   "id": "9b9a838d-31c9-430b-ae14-12baee460d17",
   "metadata": {
    "execution": {
     "iopub.execute_input": "2025-07-30T19:56:41.722360Z",
     "iopub.status.busy": "2025-07-30T19:56:41.721888Z",
     "iopub.status.idle": "2025-07-30T19:56:41.728676Z",
     "shell.execute_reply": "2025-07-30T19:56:41.727627Z"
    },
    "papermill": {
     "duration": 0.034011,
     "end_time": "2025-07-30T19:56:41.730392",
     "exception": false,
     "start_time": "2025-07-30T19:56:41.696381",
     "status": "completed"
    },
    "tags": []
   },
   "outputs": [],
   "source": [
    "example_universe = universe.copy()\n",
    "universe_training_year = example_universe.get(\"training_year\")\n",
    "universe_training_size = example_universe.get(\"training_size\")\n",
    "universe_scale = example_universe.get(\"scale\")\n",
    "universe_model = example_universe.get(\"model\")\n",
    "universe_exclude_features = example_universe.get(\"exclude_features\")\n",
    "universe_exclude_subgroups = example_universe.get(\"exclude_subgroups\")"
   ]
  },
  {
   "cell_type": "code",
   "execution_count": 58,
   "id": "f4b6a8ac-9dc0-4245-8a91-5b3b5999c4f9",
   "metadata": {
    "execution": {
     "iopub.execute_input": "2025-07-30T19:56:41.780999Z",
     "iopub.status.busy": "2025-07-30T19:56:41.780334Z",
     "iopub.status.idle": "2025-07-30T19:56:41.786844Z",
     "shell.execute_reply": "2025-07-30T19:56:41.785942Z"
    },
    "papermill": {
     "duration": 0.033513,
     "end_time": "2025-07-30T19:56:41.788538",
     "exception": false,
     "start_time": "2025-07-30T19:56:41.755025",
     "status": "completed"
    },
    "tags": []
   },
   "outputs": [],
   "source": [
    "cp_metrics_dict = {\n",
    "    \"universe_id\": [universe_id],\n",
    "    \"universe_training_year\": [universe_training_year],\n",
    "    \"universe_training_size\": [universe_training_size],\n",
    "    \"universe_scale\": [universe_scale],\n",
    "    \"universe_model\": [universe_model],\n",
    "    \"universe_exclude_features\": [universe_exclude_features],\n",
    "    \"universe_exclude_subgroups\": [universe_exclude_subgroups],\n",
    "    \"q_hat\": [q_hat],\n",
    "    \"coverage\": [metrics[\"coverage\"]],\n",
    "    \"avg_size\": [metrics[\"avg_size\"]],\n",
    "}"
   ]
  },
  {
   "cell_type": "code",
   "execution_count": 59,
   "id": "908acbb1-0371-4915-85ca-3fa520d2efe2",
   "metadata": {
    "execution": {
     "iopub.execute_input": "2025-07-30T19:56:41.837944Z",
     "iopub.status.busy": "2025-07-30T19:56:41.837299Z",
     "iopub.status.idle": "2025-07-30T19:56:41.845232Z",
     "shell.execute_reply": "2025-07-30T19:56:41.844121Z"
    },
    "papermill": {
     "duration": 0.033461,
     "end_time": "2025-07-30T19:56:41.846726",
     "exception": false,
     "start_time": "2025-07-30T19:56:41.813265",
     "status": "completed"
    },
    "tags": []
   },
   "outputs": [
    {
     "data": {
      "text/plain": [
       "{'universe_id': ['25faeb70ded45f4aeb91f8ea161ba27a'],\n",
       " 'universe_training_year': ['2014'],\n",
       " 'universe_training_size': ['25k'],\n",
       " 'universe_scale': ['scale'],\n",
       " 'universe_model': ['elasticnet'],\n",
       " 'universe_exclude_features': ['age'],\n",
       " 'universe_exclude_subgroups': ['keep-all'],\n",
       " 'q_hat': [0.6781072490416822],\n",
       " 'coverage': [0.9124623787760562],\n",
       " 'avg_size': [1.1266525470961988]}"
      ]
     },
     "execution_count": 59,
     "metadata": {},
     "output_type": "execute_result"
    }
   ],
   "source": [
    "cp_metrics_dict"
   ]
  },
  {
   "cell_type": "code",
   "execution_count": 60,
   "id": "33007efc-14e9-4ec6-97ac-56a455c82265",
   "metadata": {
    "execution": {
     "iopub.execute_input": "2025-07-30T19:56:41.897165Z",
     "iopub.status.busy": "2025-07-30T19:56:41.896500Z",
     "iopub.status.idle": "2025-07-30T19:56:41.902887Z",
     "shell.execute_reply": "2025-07-30T19:56:41.901912Z"
    },
    "papermill": {
     "duration": 0.033001,
     "end_time": "2025-07-30T19:56:41.904619",
     "exception": false,
     "start_time": "2025-07-30T19:56:41.871618",
     "status": "completed"
    },
    "tags": []
   },
   "outputs": [],
   "source": [
    "cp_metrics_df = pd.DataFrame(cp_metrics_dict)"
   ]
  },
  {
   "cell_type": "code",
   "execution_count": 61,
   "id": "db12611b-57b2-4910-b9d0-355adfd6e7bf",
   "metadata": {
    "execution": {
     "iopub.execute_input": "2025-07-30T19:56:41.955975Z",
     "iopub.status.busy": "2025-07-30T19:56:41.955315Z",
     "iopub.status.idle": "2025-07-30T19:56:41.973860Z",
     "shell.execute_reply": "2025-07-30T19:56:41.972891Z"
    },
    "papermill": {
     "duration": 0.045159,
     "end_time": "2025-07-30T19:56:41.975393",
     "exception": false,
     "start_time": "2025-07-30T19:56:41.930234",
     "status": "completed"
    },
    "tags": []
   },
   "outputs": [
    {
     "data": {
      "text/html": [
       "<div>\n",
       "<style scoped>\n",
       "    .dataframe tbody tr th:only-of-type {\n",
       "        vertical-align: middle;\n",
       "    }\n",
       "\n",
       "    .dataframe tbody tr th {\n",
       "        vertical-align: top;\n",
       "    }\n",
       "\n",
       "    .dataframe thead th {\n",
       "        text-align: right;\n",
       "    }\n",
       "</style>\n",
       "<table border=\"1\" class=\"dataframe\">\n",
       "  <thead>\n",
       "    <tr style=\"text-align: right;\">\n",
       "      <th></th>\n",
       "      <th>universe_id</th>\n",
       "      <th>universe_training_year</th>\n",
       "      <th>universe_training_size</th>\n",
       "      <th>universe_scale</th>\n",
       "      <th>universe_model</th>\n",
       "      <th>universe_exclude_features</th>\n",
       "      <th>universe_exclude_subgroups</th>\n",
       "      <th>q_hat</th>\n",
       "      <th>coverage</th>\n",
       "      <th>avg_size</th>\n",
       "    </tr>\n",
       "  </thead>\n",
       "  <tbody>\n",
       "    <tr>\n",
       "      <th>0</th>\n",
       "      <td>25faeb70ded45f4aeb91f8ea161ba27a</td>\n",
       "      <td>2014</td>\n",
       "      <td>25k</td>\n",
       "      <td>scale</td>\n",
       "      <td>elasticnet</td>\n",
       "      <td>age</td>\n",
       "      <td>keep-all</td>\n",
       "      <td>0.678107</td>\n",
       "      <td>0.912462</td>\n",
       "      <td>1.126653</td>\n",
       "    </tr>\n",
       "  </tbody>\n",
       "</table>\n",
       "</div>"
      ],
      "text/plain": [
       "                        universe_id universe_training_year  \\\n",
       "0  25faeb70ded45f4aeb91f8ea161ba27a                   2014   \n",
       "\n",
       "  universe_training_size universe_scale universe_model  \\\n",
       "0                    25k          scale     elasticnet   \n",
       "\n",
       "  universe_exclude_features universe_exclude_subgroups     q_hat  coverage  \\\n",
       "0                       age                   keep-all  0.678107  0.912462   \n",
       "\n",
       "   avg_size  \n",
       "0  1.126653  "
      ]
     },
     "execution_count": 61,
     "metadata": {},
     "output_type": "execute_result"
    }
   ],
   "source": [
    "cp_metrics_df"
   ]
  },
  {
   "cell_type": "code",
   "execution_count": 62,
   "id": "b7fbde55-a0a1-47e4-9af6-fe4a17fa8c61",
   "metadata": {
    "execution": {
     "iopub.execute_input": "2025-07-30T19:56:42.029080Z",
     "iopub.status.busy": "2025-07-30T19:56:42.028134Z",
     "iopub.status.idle": "2025-07-30T19:56:42.033369Z",
     "shell.execute_reply": "2025-07-30T19:56:42.032396Z"
    },
    "papermill": {
     "duration": 0.042161,
     "end_time": "2025-07-30T19:56:42.042044",
     "exception": false,
     "start_time": "2025-07-30T19:56:41.999883",
     "status": "completed"
    },
    "tags": []
   },
   "outputs": [],
   "source": [
    "# Conditional Coverage & looking at subgroups"
   ]
  },
  {
   "cell_type": "code",
   "execution_count": 63,
   "id": "027ae886-68dd-4141-96c7-805a5450e1ef",
   "metadata": {
    "execution": {
     "iopub.execute_input": "2025-07-30T19:56:42.094748Z",
     "iopub.status.busy": "2025-07-30T19:56:42.094257Z",
     "iopub.status.idle": "2025-07-30T19:56:42.316740Z",
     "shell.execute_reply": "2025-07-30T19:56:42.315891Z"
    },
    "papermill": {
     "duration": 0.251425,
     "end_time": "2025-07-30T19:56:42.318221",
     "exception": false,
     "start_time": "2025-07-30T19:56:42.066796",
     "status": "completed"
    },
    "tags": []
   },
   "outputs": [],
   "source": [
    "from fairness_multiverse.conformal import build_cp_groups\n",
    "\n",
    "cp_groups_df = build_cp_groups(pred_sets, y_true, X_test.index, org_test)\n",
    "#needs universe_id and setting"
   ]
  },
  {
   "cell_type": "code",
   "execution_count": 64,
   "id": "01d5802c-663a-4d1f-9d69-e036faaffbf7",
   "metadata": {
    "execution": {
     "iopub.execute_input": "2025-07-30T19:56:42.347831Z",
     "iopub.status.busy": "2025-07-30T19:56:42.347325Z",
     "iopub.status.idle": "2025-07-30T19:56:42.352168Z",
     "shell.execute_reply": "2025-07-30T19:56:42.351295Z"
    },
    "papermill": {
     "duration": 0.021331,
     "end_time": "2025-07-30T19:56:42.353593",
     "exception": false,
     "start_time": "2025-07-30T19:56:42.332262",
     "status": "completed"
    },
    "tags": []
   },
   "outputs": [],
   "source": [
    "#delete\n",
    "#cp_groups_df"
   ]
  },
  {
   "cell_type": "code",
   "execution_count": 65,
   "id": "fa424af1-d1eb-443d-b717-2d279ada8408",
   "metadata": {
    "execution": {
     "iopub.execute_input": "2025-07-30T19:56:42.391631Z",
     "iopub.status.busy": "2025-07-30T19:56:42.391179Z",
     "iopub.status.idle": "2025-07-30T19:56:42.396346Z",
     "shell.execute_reply": "2025-07-30T19:56:42.395335Z"
    },
    "papermill": {
     "duration": 0.029227,
     "end_time": "2025-07-30T19:56:42.398142",
     "exception": false,
     "start_time": "2025-07-30T19:56:42.368915",
     "status": "completed"
    },
    "tags": []
   },
   "outputs": [],
   "source": [
    "#delete\n",
    "#percentage = (cp_groups_df['nongerman_female'] == 1).mean() * 100\n",
    "#print(percentage)\n"
   ]
  },
  {
   "cell_type": "code",
   "execution_count": 66,
   "id": "6cbdab96-b2b2-45af-ad54-d0516db2e28d",
   "metadata": {
    "execution": {
     "iopub.execute_input": "2025-07-30T19:56:42.444118Z",
     "iopub.status.busy": "2025-07-30T19:56:42.443442Z",
     "iopub.status.idle": "2025-07-30T19:56:43.866797Z",
     "shell.execute_reply": "2025-07-30T19:56:43.866059Z"
    },
    "papermill": {
     "duration": 1.443348,
     "end_time": "2025-07-30T19:56:43.868275",
     "exception": false,
     "start_time": "2025-07-30T19:56:42.424927",
     "status": "completed"
    },
    "tags": []
   },
   "outputs": [],
   "source": [
    "# Define covered = 1 if true_label is in the predicted set\n",
    "cp_groups_df['covered'] = cp_groups_df.apply(\n",
    "    lambda r: int(r['true_label'] in r['pred_set']),\n",
    "    axis=1\n",
    ")"
   ]
  },
  {
   "cell_type": "code",
   "execution_count": 67,
   "id": "338ff529-1a6b-4b87-a931-8e4788d52aad",
   "metadata": {
    "execution": {
     "iopub.execute_input": "2025-07-30T19:56:43.896646Z",
     "iopub.status.busy": "2025-07-30T19:56:43.895945Z",
     "iopub.status.idle": "2025-07-30T19:56:43.900116Z",
     "shell.execute_reply": "2025-07-30T19:56:43.899433Z"
    },
    "papermill": {
     "duration": 0.01937,
     "end_time": "2025-07-30T19:56:43.901428",
     "exception": false,
     "start_time": "2025-07-30T19:56:43.882058",
     "status": "completed"
    },
    "tags": []
   },
   "outputs": [],
   "source": [
    "#cp_groups_df"
   ]
  },
  {
   "cell_type": "code",
   "execution_count": 68,
   "id": "90032e27-66df-4540-9169-4e89cfbaa758",
   "metadata": {
    "execution": {
     "iopub.execute_input": "2025-07-30T19:56:43.929484Z",
     "iopub.status.busy": "2025-07-30T19:56:43.928874Z",
     "iopub.status.idle": "2025-07-30T19:56:43.937710Z",
     "shell.execute_reply": "2025-07-30T19:56:43.937031Z"
    },
    "papermill": {
     "duration": 0.023558,
     "end_time": "2025-07-30T19:56:43.938939",
     "exception": false,
     "start_time": "2025-07-30T19:56:43.915381",
     "status": "completed"
    },
    "tags": []
   },
   "outputs": [],
   "source": [
    "subgroups = ['frau1','nongerman','nongerman_male','nongerman_female']\n",
    "\n",
    "# Conditional coverage for subgroup==1\n",
    "cond_coverage = {\n",
    "    g: cp_groups_df.loc[cp_groups_df[g]==1, 'covered'].mean()\n",
    "    for g in subgroups\n",
    "}"
   ]
  },
  {
   "cell_type": "code",
   "execution_count": 69,
   "id": "1e348fb1-b9c3-45bc-ba23-f016827a7e0d",
   "metadata": {
    "execution": {
     "iopub.execute_input": "2025-07-30T19:56:43.966724Z",
     "iopub.status.busy": "2025-07-30T19:56:43.966099Z",
     "iopub.status.idle": "2025-07-30T19:56:43.972191Z",
     "shell.execute_reply": "2025-07-30T19:56:43.971401Z"
    },
    "papermill": {
     "duration": 0.021268,
     "end_time": "2025-07-30T19:56:43.973551",
     "exception": false,
     "start_time": "2025-07-30T19:56:43.952283",
     "status": "completed"
    },
    "tags": []
   },
   "outputs": [
    {
     "data": {
      "text/plain": [
       "{'frau1': 0.9115783798355573,\n",
       " 'nongerman': 0.9105147925672262,\n",
       " 'nongerman_male': 0.9257858236512654,\n",
       " 'nongerman_female': 0.8852459016393442}"
      ]
     },
     "execution_count": 69,
     "metadata": {},
     "output_type": "execute_result"
    }
   ],
   "source": [
    "cond_coverage"
   ]
  },
  {
   "cell_type": "code",
   "execution_count": 70,
   "id": "f5093324-c3dd-4d63-bc4c-8d945e5c8bbb",
   "metadata": {
    "execution": {
     "iopub.execute_input": "2025-07-30T19:56:44.002004Z",
     "iopub.status.busy": "2025-07-30T19:56:44.001284Z",
     "iopub.status.idle": "2025-07-30T19:56:44.007090Z",
     "shell.execute_reply": "2025-07-30T19:56:44.006283Z"
    },
    "papermill": {
     "duration": 0.020768,
     "end_time": "2025-07-30T19:56:44.008432",
     "exception": false,
     "start_time": "2025-07-30T19:56:43.987664",
     "status": "completed"
    },
    "tags": []
   },
   "outputs": [],
   "source": [
    "for subgroup, cov in cond_coverage.items():\n",
    "    cp_metrics_df[f\"cov_{subgroup}\"] = cov"
   ]
  },
  {
   "cell_type": "code",
   "execution_count": 71,
   "id": "6e872e10-dbe5-49e8-b554-5030c98ff75d",
   "metadata": {
    "execution": {
     "iopub.execute_input": "2025-07-30T19:56:44.036791Z",
     "iopub.status.busy": "2025-07-30T19:56:44.036020Z",
     "iopub.status.idle": "2025-07-30T19:56:44.049583Z",
     "shell.execute_reply": "2025-07-30T19:56:44.048682Z"
    },
    "papermill": {
     "duration": 0.028637,
     "end_time": "2025-07-30T19:56:44.050846",
     "exception": false,
     "start_time": "2025-07-30T19:56:44.022209",
     "status": "completed"
    },
    "tags": []
   },
   "outputs": [
    {
     "data": {
      "text/html": [
       "<div>\n",
       "<style scoped>\n",
       "    .dataframe tbody tr th:only-of-type {\n",
       "        vertical-align: middle;\n",
       "    }\n",
       "\n",
       "    .dataframe tbody tr th {\n",
       "        vertical-align: top;\n",
       "    }\n",
       "\n",
       "    .dataframe thead th {\n",
       "        text-align: right;\n",
       "    }\n",
       "</style>\n",
       "<table border=\"1\" class=\"dataframe\">\n",
       "  <thead>\n",
       "    <tr style=\"text-align: right;\">\n",
       "      <th></th>\n",
       "      <th>universe_id</th>\n",
       "      <th>universe_training_year</th>\n",
       "      <th>universe_training_size</th>\n",
       "      <th>universe_scale</th>\n",
       "      <th>universe_model</th>\n",
       "      <th>universe_exclude_features</th>\n",
       "      <th>universe_exclude_subgroups</th>\n",
       "      <th>q_hat</th>\n",
       "      <th>coverage</th>\n",
       "      <th>avg_size</th>\n",
       "      <th>cov_frau1</th>\n",
       "      <th>cov_nongerman</th>\n",
       "      <th>cov_nongerman_male</th>\n",
       "      <th>cov_nongerman_female</th>\n",
       "    </tr>\n",
       "  </thead>\n",
       "  <tbody>\n",
       "    <tr>\n",
       "      <th>0</th>\n",
       "      <td>25faeb70ded45f4aeb91f8ea161ba27a</td>\n",
       "      <td>2014</td>\n",
       "      <td>25k</td>\n",
       "      <td>scale</td>\n",
       "      <td>elasticnet</td>\n",
       "      <td>age</td>\n",
       "      <td>keep-all</td>\n",
       "      <td>0.678107</td>\n",
       "      <td>0.912462</td>\n",
       "      <td>1.126653</td>\n",
       "      <td>0.911578</td>\n",
       "      <td>0.910515</td>\n",
       "      <td>0.925786</td>\n",
       "      <td>0.885246</td>\n",
       "    </tr>\n",
       "  </tbody>\n",
       "</table>\n",
       "</div>"
      ],
      "text/plain": [
       "                        universe_id universe_training_year  \\\n",
       "0  25faeb70ded45f4aeb91f8ea161ba27a                   2014   \n",
       "\n",
       "  universe_training_size universe_scale universe_model  \\\n",
       "0                    25k          scale     elasticnet   \n",
       "\n",
       "  universe_exclude_features universe_exclude_subgroups     q_hat  coverage  \\\n",
       "0                       age                   keep-all  0.678107  0.912462   \n",
       "\n",
       "   avg_size  cov_frau1  cov_nongerman  cov_nongerman_male  \\\n",
       "0  1.126653   0.911578       0.910515            0.925786   \n",
       "\n",
       "   cov_nongerman_female  \n",
       "0              0.885246  "
      ]
     },
     "execution_count": 71,
     "metadata": {},
     "output_type": "execute_result"
    }
   ],
   "source": [
    "cp_metrics_df"
   ]
  },
  {
   "cell_type": "markdown",
   "id": "33774451",
   "metadata": {
    "papermill": {
     "duration": 0.013068,
     "end_time": "2025-07-30T19:56:44.078453",
     "exception": false,
     "start_time": "2025-07-30T19:56:44.065385",
     "status": "completed"
    },
    "tags": []
   },
   "source": [
    "# (Fairness) Metrics"
   ]
  },
  {
   "cell_type": "code",
   "execution_count": 72,
   "id": "debc5d62",
   "metadata": {
    "execution": {
     "iopub.execute_input": "2025-07-30T19:56:44.106291Z",
     "iopub.status.busy": "2025-07-30T19:56:44.105602Z",
     "iopub.status.idle": "2025-07-30T19:56:44.120144Z",
     "shell.execute_reply": "2025-07-30T19:56:44.119283Z"
    },
    "papermill": {
     "duration": 0.029886,
     "end_time": "2025-07-30T19:56:44.121398",
     "exception": false,
     "start_time": "2025-07-30T19:56:44.091512",
     "status": "completed"
    },
    "tags": []
   },
   "outputs": [],
   "source": [
    "# do I need to include maxdeutsch1.missing?\n",
    "\n",
    "import numpy as np\n",
    "\n",
    "colname_to_bin = \"maxdeutsch1\"\n",
    "majority_value = org_train[colname_to_bin].mode()[0]\n",
    "\n",
    "org_test[\"majmin\"] = np.where(org_test[colname_to_bin] == majority_value, \"majority\", \"minority\")"
   ]
  },
  {
   "cell_type": "code",
   "execution_count": 73,
   "id": "06a50de5",
   "metadata": {
    "execution": {
     "iopub.execute_input": "2025-07-30T19:56:44.152501Z",
     "iopub.status.busy": "2025-07-30T19:56:44.151777Z",
     "iopub.status.idle": "2025-07-30T19:56:46.012064Z",
     "shell.execute_reply": "2025-07-30T19:56:46.011316Z"
    },
    "papermill": {
     "duration": 1.877985,
     "end_time": "2025-07-30T19:56:46.013513",
     "exception": false,
     "start_time": "2025-07-30T19:56:44.135528",
     "status": "completed"
    },
    "tags": []
   },
   "outputs": [],
   "source": [
    "example_universe = universe.copy()\n",
    "example_universe[\"cutoff\"] = example_universe[\"cutoff\"][0]\n",
    "example_universe[\"eval_fairness_grouping\"] = example_universe[\"eval_fairness_grouping\"][0]\n",
    "fairness_dict, metric_frame = universe_analysis.compute_metrics(\n",
    "    example_universe,\n",
    "    y_pred_prob=probs_test,\n",
    "    y_test=y_true,\n",
    "    org_test=org_test,\n",
    ")"
   ]
  },
  {
   "cell_type": "markdown",
   "id": "f95d4e02",
   "metadata": {
    "papermill": {
     "duration": 0.01443,
     "end_time": "2025-07-30T19:56:46.042082",
     "exception": false,
     "start_time": "2025-07-30T19:56:46.027652",
     "status": "completed"
    },
    "tags": []
   },
   "source": [
    "# Overall"
   ]
  },
  {
   "cell_type": "markdown",
   "id": "bdee4871",
   "metadata": {
    "papermill": {
     "duration": 0.013076,
     "end_time": "2025-07-30T19:56:46.068273",
     "exception": false,
     "start_time": "2025-07-30T19:56:46.055197",
     "status": "completed"
    },
    "tags": []
   },
   "source": [
    "Fairness\n",
    "Main fairness target: Equalized Odds. Seems to be a better fit than equal opportunity, since we're not only interested in Y = 1. Seems to be a better fit than demographic parity, since we also care about accuracy, not just equal distribution of preds.\n",
    "\n",
    "Pick column for computation of fairness metrics\n",
    "\n",
    "Performance\n",
    "Overall performance measures, most interesting in relation to the measures split by group below"
   ]
  },
  {
   "cell_type": "code",
   "execution_count": 74,
   "id": "c4e067c6",
   "metadata": {
    "execution": {
     "iopub.execute_input": "2025-07-30T19:56:46.095907Z",
     "iopub.status.busy": "2025-07-30T19:56:46.095565Z",
     "iopub.status.idle": "2025-07-30T19:56:46.102732Z",
     "shell.execute_reply": "2025-07-30T19:56:46.101969Z"
    },
    "papermill": {
     "duration": 0.022857,
     "end_time": "2025-07-30T19:56:46.104120",
     "exception": false,
     "start_time": "2025-07-30T19:56:46.081263",
     "status": "completed"
    },
    "tags": []
   },
   "outputs": [
    {
     "data": {
      "text/plain": [
       "accuracy                   0.225270\n",
       "balanced accuracy          0.550629\n",
       "f1                         0.246577\n",
       "precision                  0.140861\n",
       "false positive rate        0.887011\n",
       "false negative rate        0.011731\n",
       "selection rate             0.900000\n",
       "count                  89710.000000\n",
       "dtype: float64"
      ]
     },
     "execution_count": 74,
     "metadata": {},
     "output_type": "execute_result"
    }
   ],
   "source": [
    "metric_frame.overall"
   ]
  },
  {
   "cell_type": "markdown",
   "id": "e968fe9d",
   "metadata": {
    "papermill": {
     "duration": 0.013141,
     "end_time": "2025-07-30T19:56:46.131311",
     "exception": false,
     "start_time": "2025-07-30T19:56:46.118170",
     "status": "completed"
    },
    "tags": []
   },
   "source": [
    "By Group"
   ]
  },
  {
   "cell_type": "code",
   "execution_count": 75,
   "id": "ec325bce",
   "metadata": {
    "execution": {
     "iopub.execute_input": "2025-07-30T19:56:46.159560Z",
     "iopub.status.busy": "2025-07-30T19:56:46.159061Z",
     "iopub.status.idle": "2025-07-30T19:56:46.171205Z",
     "shell.execute_reply": "2025-07-30T19:56:46.170433Z"
    },
    "papermill": {
     "duration": 0.027886,
     "end_time": "2025-07-30T19:56:46.172668",
     "exception": false,
     "start_time": "2025-07-30T19:56:46.144782",
     "status": "completed"
    },
    "tags": []
   },
   "outputs": [
    {
     "data": {
      "text/html": [
       "<div>\n",
       "<style scoped>\n",
       "    .dataframe tbody tr th:only-of-type {\n",
       "        vertical-align: middle;\n",
       "    }\n",
       "\n",
       "    .dataframe tbody tr th {\n",
       "        vertical-align: top;\n",
       "    }\n",
       "\n",
       "    .dataframe thead th {\n",
       "        text-align: right;\n",
       "    }\n",
       "</style>\n",
       "<table border=\"1\" class=\"dataframe\">\n",
       "  <thead>\n",
       "    <tr style=\"text-align: right;\">\n",
       "      <th></th>\n",
       "      <th>accuracy</th>\n",
       "      <th>balanced accuracy</th>\n",
       "      <th>f1</th>\n",
       "      <th>precision</th>\n",
       "      <th>false positive rate</th>\n",
       "      <th>false negative rate</th>\n",
       "      <th>selection rate</th>\n",
       "      <th>count</th>\n",
       "    </tr>\n",
       "    <tr>\n",
       "      <th>majmin</th>\n",
       "      <th></th>\n",
       "      <th></th>\n",
       "      <th></th>\n",
       "      <th></th>\n",
       "      <th></th>\n",
       "      <th></th>\n",
       "      <th></th>\n",
       "      <th></th>\n",
       "    </tr>\n",
       "  </thead>\n",
       "  <tbody>\n",
       "    <tr>\n",
       "      <th>majority</th>\n",
       "      <td>0.248272</td>\n",
       "      <td>0.561297</td>\n",
       "      <td>0.257557</td>\n",
       "      <td>0.148107</td>\n",
       "      <td>0.864168</td>\n",
       "      <td>0.013239</td>\n",
       "      <td>0.880367</td>\n",
       "      <td>69170.0</td>\n",
       "    </tr>\n",
       "    <tr>\n",
       "      <th>minority</th>\n",
       "      <td>0.147809</td>\n",
       "      <td>0.515809</td>\n",
       "      <td>0.211958</td>\n",
       "      <td>0.118625</td>\n",
       "      <td>0.962470</td>\n",
       "      <td>0.005912</td>\n",
       "      <td>0.966115</td>\n",
       "      <td>20540.0</td>\n",
       "    </tr>\n",
       "  </tbody>\n",
       "</table>\n",
       "</div>"
      ],
      "text/plain": [
       "          accuracy  balanced accuracy        f1  precision  \\\n",
       "majmin                                                       \n",
       "majority  0.248272           0.561297  0.257557   0.148107   \n",
       "minority  0.147809           0.515809  0.211958   0.118625   \n",
       "\n",
       "          false positive rate  false negative rate  selection rate    count  \n",
       "majmin                                                                       \n",
       "majority             0.864168             0.013239        0.880367  69170.0  \n",
       "minority             0.962470             0.005912        0.966115  20540.0  "
      ]
     },
     "execution_count": 75,
     "metadata": {},
     "output_type": "execute_result"
    }
   ],
   "source": [
    "metric_frame.by_group"
   ]
  },
  {
   "cell_type": "code",
   "execution_count": 76,
   "id": "a9ddbe63",
   "metadata": {
    "execution": {
     "iopub.execute_input": "2025-07-30T19:56:46.201895Z",
     "iopub.status.busy": "2025-07-30T19:56:46.201144Z",
     "iopub.status.idle": "2025-07-30T19:56:47.928276Z",
     "shell.execute_reply": "2025-07-30T19:56:47.927477Z"
    },
    "papermill": {
     "duration": 1.743025,
     "end_time": "2025-07-30T19:56:47.929864",
     "exception": false,
     "start_time": "2025-07-30T19:56:46.186839",
     "status": "completed"
    },
    "tags": []
   },
   "outputs": [
    {
     "data": {
      "text/plain": [
       "array([[<Axes: title={'center': 'accuracy'}, xlabel='majmin'>,\n",
       "        <Axes: title={'center': 'balanced accuracy'}, xlabel='majmin'>,\n",
       "        <Axes: title={'center': 'f1'}, xlabel='majmin'>],\n",
       "       [<Axes: title={'center': 'precision'}, xlabel='majmin'>,\n",
       "        <Axes: title={'center': 'false positive rate'}, xlabel='majmin'>,\n",
       "        <Axes: title={'center': 'false negative rate'}, xlabel='majmin'>],\n",
       "       [<Axes: title={'center': 'selection rate'}, xlabel='majmin'>,\n",
       "        <Axes: title={'center': 'count'}, xlabel='majmin'>,\n",
       "        <Axes: xlabel='majmin'>]], dtype=object)"
      ]
     },
     "execution_count": 76,
     "metadata": {},
     "output_type": "execute_result"
    },
    {
     "data": {
      "image/png": "[encoded data removed]",
      "text/plain": [
       "<Figure size 1200x800 with 9 Axes>"
      ]
     },
     "metadata": {},
     "output_type": "display_data"
    }
   ],
   "source": [
    "# In a graphic\n",
    "metric_frame.by_group.plot.bar(\n",
    "    subplots=True,\n",
    "    layout=[3, 3],\n",
    "    legend=False,\n",
    "    figsize=[12, 8],\n",
    "    title=\"Show all metrics\",\n",
    ")"
   ]
  },
  {
   "cell_type": "markdown",
   "id": "f57a0bac",
   "metadata": {
    "papermill": {
     "duration": 0.02629,
     "end_time": "2025-07-30T19:56:47.983237",
     "exception": false,
     "start_time": "2025-07-30T19:56:47.956947",
     "status": "completed"
    },
    "tags": []
   },
   "source": [
    "# Final Output"
   ]
  },
  {
   "cell_type": "code",
   "execution_count": 77,
   "id": "96d280a3",
   "metadata": {
    "execution": {
     "iopub.execute_input": "2025-07-30T19:56:48.037712Z",
     "iopub.status.busy": "2025-07-30T19:56:48.037095Z",
     "iopub.status.idle": "2025-07-30T19:56:48.045526Z",
     "shell.execute_reply": "2025-07-30T19:56:48.044684Z"
    },
    "papermill": {
     "duration": 0.037615,
     "end_time": "2025-07-30T19:56:48.046967",
     "exception": false,
     "start_time": "2025-07-30T19:56:48.009352",
     "status": "completed"
    },
    "tags": []
   },
   "outputs": [
    {
     "data": {
      "text/plain": [
       "4"
      ]
     },
     "execution_count": 77,
     "metadata": {},
     "output_type": "execute_result"
    }
   ],
   "source": [
    "sub_universes = universe_analysis.generate_sub_universes()\n",
    "len(sub_universes)"
   ]
  },
  {
   "cell_type": "code",
   "execution_count": 78,
   "id": "92adf7ba",
   "metadata": {
    "execution": {
     "iopub.execute_input": "2025-07-30T19:56:48.104566Z",
     "iopub.status.busy": "2025-07-30T19:56:48.103901Z",
     "iopub.status.idle": "2025-07-30T19:56:48.109880Z",
     "shell.execute_reply": "2025-07-30T19:56:48.109049Z"
    },
    "papermill": {
     "duration": 0.036759,
     "end_time": "2025-07-30T19:56:48.111418",
     "exception": false,
     "start_time": "2025-07-30T19:56:48.074659",
     "status": "completed"
    },
    "tags": []
   },
   "outputs": [],
   "source": [
    "def filter_sub_universe_data(sub_universe, org_test):\n",
    "    # Keep all rows — no filtering\n",
    "    keep_rows_mask = np.ones(org_test.shape[0], dtype=bool)\n",
    "\n",
    "    print(f\"[INFO] Keeping all rows: {keep_rows_mask.sum()} rows retained.\")\n",
    "    return keep_rows_mask"
   ]
  },
  {
   "cell_type": "code",
   "execution_count": 79,
   "id": "4a759155",
   "metadata": {
    "execution": {
     "iopub.execute_input": "2025-07-30T19:56:48.167731Z",
     "iopub.status.busy": "2025-07-30T19:56:48.166759Z",
     "iopub.status.idle": "2025-07-30T19:56:58.357869Z",
     "shell.execute_reply": "2025-07-30T19:56:58.356822Z"
    },
    "papermill": {
     "duration": 10.220698,
     "end_time": "2025-07-30T19:56:58.359510",
     "exception": false,
     "start_time": "2025-07-30T19:56:48.138812",
     "status": "completed"
    },
    "tags": []
   },
   "outputs": [
    {
     "name": "stdout",
     "output_type": "stream",
     "text": [
      "Stopping execution_time clock.\n",
      "[INFO] Keeping all rows: 89710 rows retained.\n"
     ]
    },
    {
     "name": "stdout",
     "output_type": "stream",
     "text": [
      "[INFO] Keeping all rows: 89710 rows retained.\n"
     ]
    },
    {
     "name": "stdout",
     "output_type": "stream",
     "text": [
      "[INFO] Keeping all rows: 89710 rows retained.\n"
     ]
    },
    {
     "name": "stdout",
     "output_type": "stream",
     "text": [
      "[INFO] Keeping all rows: 89710 rows retained.\n"
     ]
    },
    {
     "data": {
      "text/html": [
       "<div>\n",
       "<style scoped>\n",
       "    .dataframe tbody tr th:only-of-type {\n",
       "        vertical-align: middle;\n",
       "    }\n",
       "\n",
       "    .dataframe tbody tr th {\n",
       "        vertical-align: top;\n",
       "    }\n",
       "\n",
       "    .dataframe thead th {\n",
       "        text-align: right;\n",
       "    }\n",
       "</style>\n",
       "<table border=\"1\" class=\"dataframe\">\n",
       "  <thead>\n",
       "    <tr style=\"text-align: right;\">\n",
       "      <th></th>\n",
       "      <th>run_no</th>\n",
       "      <th>universe_id</th>\n",
       "      <th>universe_settings</th>\n",
       "      <th>execution_time</th>\n",
       "      <th>test_size_n</th>\n",
       "      <th>test_size_frac</th>\n",
       "      <th>fair_main_equalized_odds_difference</th>\n",
       "      <th>fair_main_equalized_odds_ratio</th>\n",
       "      <th>fair_main_demographic_parity_difference</th>\n",
       "      <th>fair_main_demographic_parity_ratio</th>\n",
       "      <th>...</th>\n",
       "      <th>perf_grp_precision_0</th>\n",
       "      <th>perf_grp_precision_1</th>\n",
       "      <th>perf_grp_false positive rate_0</th>\n",
       "      <th>perf_grp_false positive rate_1</th>\n",
       "      <th>perf_grp_false negative rate_0</th>\n",
       "      <th>perf_grp_false negative rate_1</th>\n",
       "      <th>perf_grp_selection rate_0</th>\n",
       "      <th>perf_grp_selection rate_1</th>\n",
       "      <th>perf_grp_count_0</th>\n",
       "      <th>perf_grp_count_1</th>\n",
       "    </tr>\n",
       "  </thead>\n",
       "  <tbody>\n",
       "    <tr>\n",
       "      <th>0</th>\n",
       "      <td>14</td>\n",
       "      <td>25faeb70ded45f4aeb91f8ea161ba27a</td>\n",
       "      <td>{\"cutoff\": \"quantile_0.1\", \"eval_fairness_grou...</td>\n",
       "      <td>47.778129</td>\n",
       "      <td>89710</td>\n",
       "      <td>1.0</td>\n",
       "      <td>0.098302</td>\n",
       "      <td>0.897865</td>\n",
       "      <td>0.085748</td>\n",
       "      <td>0.911245</td>\n",
       "      <td>...</td>\n",
       "      <td>NaN</td>\n",
       "      <td>NaN</td>\n",
       "      <td>NaN</td>\n",
       "      <td>NaN</td>\n",
       "      <td>NaN</td>\n",
       "      <td>NaN</td>\n",
       "      <td>NaN</td>\n",
       "      <td>NaN</td>\n",
       "      <td>NaN</td>\n",
       "      <td>NaN</td>\n",
       "    </tr>\n",
       "    <tr>\n",
       "      <th>0</th>\n",
       "      <td>14</td>\n",
       "      <td>25faeb70ded45f4aeb91f8ea161ba27a</td>\n",
       "      <td>{\"cutoff\": \"quantile_0.1\", \"eval_fairness_grou...</td>\n",
       "      <td>47.778129</td>\n",
       "      <td>89710</td>\n",
       "      <td>1.0</td>\n",
       "      <td>0.098302</td>\n",
       "      <td>0.897865</td>\n",
       "      <td>0.085748</td>\n",
       "      <td>0.911245</td>\n",
       "      <td>...</td>\n",
       "      <td>0.118625</td>\n",
       "      <td>0.148107</td>\n",
       "      <td>0.962470</td>\n",
       "      <td>0.864168</td>\n",
       "      <td>0.005912</td>\n",
       "      <td>0.013239</td>\n",
       "      <td>0.966115</td>\n",
       "      <td>0.880367</td>\n",
       "      <td>20540.0</td>\n",
       "      <td>69170.0</td>\n",
       "    </tr>\n",
       "    <tr>\n",
       "      <th>0</th>\n",
       "      <td>14</td>\n",
       "      <td>25faeb70ded45f4aeb91f8ea161ba27a</td>\n",
       "      <td>{\"cutoff\": \"quantile_0.25\", \"eval_fairness_gro...</td>\n",
       "      <td>47.778129</td>\n",
       "      <td>89710</td>\n",
       "      <td>1.0</td>\n",
       "      <td>0.181189</td>\n",
       "      <td>0.789303</td>\n",
       "      <td>0.158243</td>\n",
       "      <td>0.818530</td>\n",
       "      <td>...</td>\n",
       "      <td>NaN</td>\n",
       "      <td>NaN</td>\n",
       "      <td>NaN</td>\n",
       "      <td>NaN</td>\n",
       "      <td>NaN</td>\n",
       "      <td>NaN</td>\n",
       "      <td>NaN</td>\n",
       "      <td>NaN</td>\n",
       "      <td>NaN</td>\n",
       "      <td>NaN</td>\n",
       "    </tr>\n",
       "    <tr>\n",
       "      <th>0</th>\n",
       "      <td>14</td>\n",
       "      <td>25faeb70ded45f4aeb91f8ea161ba27a</td>\n",
       "      <td>{\"cutoff\": \"quantile_0.25\", \"eval_fairness_gro...</td>\n",
       "      <td>47.778129</td>\n",
       "      <td>89710</td>\n",
       "      <td>1.0</td>\n",
       "      <td>0.181189</td>\n",
       "      <td>0.789303</td>\n",
       "      <td>0.158243</td>\n",
       "      <td>0.818530</td>\n",
       "      <td>...</td>\n",
       "      <td>0.127519</td>\n",
       "      <td>0.174698</td>\n",
       "      <td>0.859949</td>\n",
       "      <td>0.678761</td>\n",
       "      <td>0.035473</td>\n",
       "      <td>0.056346</td>\n",
       "      <td>0.872006</td>\n",
       "      <td>0.713763</td>\n",
       "      <td>20540.0</td>\n",
       "      <td>69170.0</td>\n",
       "    </tr>\n",
       "  </tbody>\n",
       "</table>\n",
       "<p>4 rows × 50 columns</p>\n",
       "</div>"
      ],
      "text/plain": [
       "  run_no                       universe_id  \\\n",
       "0     14  25faeb70ded45f4aeb91f8ea161ba27a   \n",
       "0     14  25faeb70ded45f4aeb91f8ea161ba27a   \n",
       "0     14  25faeb70ded45f4aeb91f8ea161ba27a   \n",
       "0     14  25faeb70ded45f4aeb91f8ea161ba27a   \n",
       "\n",
       "                                   universe_settings  execution_time  \\\n",
       "0  {\"cutoff\": \"quantile_0.1\", \"eval_fairness_grou...       47.778129   \n",
       "0  {\"cutoff\": \"quantile_0.1\", \"eval_fairness_grou...       47.778129   \n",
       "0  {\"cutoff\": \"quantile_0.25\", \"eval_fairness_gro...       47.778129   \n",
       "0  {\"cutoff\": \"quantile_0.25\", \"eval_fairness_gro...       47.778129   \n",
       "\n",
       "   test_size_n  test_size_frac  fair_main_equalized_odds_difference  \\\n",
       "0        89710             1.0                             0.098302   \n",
       "0        89710             1.0                             0.098302   \n",
       "0        89710             1.0                             0.181189   \n",
       "0        89710             1.0                             0.181189   \n",
       "\n",
       "   fair_main_equalized_odds_ratio  fair_main_demographic_parity_difference  \\\n",
       "0                        0.897865                                 0.085748   \n",
       "0                        0.897865                                 0.085748   \n",
       "0                        0.789303                                 0.158243   \n",
       "0                        0.789303                                 0.158243   \n",
       "\n",
       "   fair_main_demographic_parity_ratio  ...  perf_grp_precision_0  \\\n",
       "0                            0.911245  ...                   NaN   \n",
       "0                            0.911245  ...              0.118625   \n",
       "0                            0.818530  ...                   NaN   \n",
       "0                            0.818530  ...              0.127519   \n",
       "\n",
       "   perf_grp_precision_1  perf_grp_false positive rate_0  \\\n",
       "0                   NaN                             NaN   \n",
       "0              0.148107                        0.962470   \n",
       "0                   NaN                             NaN   \n",
       "0              0.174698                        0.859949   \n",
       "\n",
       "   perf_grp_false positive rate_1  perf_grp_false negative rate_0  \\\n",
       "0                             NaN                             NaN   \n",
       "0                        0.864168                        0.005912   \n",
       "0                             NaN                             NaN   \n",
       "0                        0.678761                        0.035473   \n",
       "\n",
       "   perf_grp_false negative rate_1  perf_grp_selection rate_0  \\\n",
       "0                             NaN                        NaN   \n",
       "0                        0.013239                   0.966115   \n",
       "0                             NaN                        NaN   \n",
       "0                        0.056346                   0.872006   \n",
       "\n",
       "   perf_grp_selection rate_1  perf_grp_count_0  perf_grp_count_1  \n",
       "0                        NaN               NaN               NaN  \n",
       "0                   0.880367           20540.0           69170.0  \n",
       "0                        NaN               NaN               NaN  \n",
       "0                   0.713763           20540.0           69170.0  \n",
       "\n",
       "[4 rows x 50 columns]"
      ]
     },
     "execution_count": 79,
     "metadata": {},
     "output_type": "execute_result"
    }
   ],
   "source": [
    "final_output = universe_analysis.generate_final_output(\n",
    "    y_pred_prob=probs_test,\n",
    "    y_test=y_true,\n",
    "    org_test=org_test,\n",
    "    filter_data=filter_sub_universe_data,\n",
    "    cp_metrics_df=cp_metrics_df,\n",
    "    save=True,\n",
    ")\n",
    "final_output"
   ]
  },
  {
   "cell_type": "code",
   "execution_count": null,
   "id": "721ff514-cb11-46f8-b6fc-50392f74b5cb",
   "metadata": {
    "papermill": {
     "duration": 0.029638,
     "end_time": "2025-07-30T19:56:58.420967",
     "exception": false,
     "start_time": "2025-07-30T19:56:58.391329",
     "status": "completed"
    },
    "tags": []
   },
   "outputs": [],
   "source": []
  }
 ],
 "metadata": {
  "celltoolbar": "Tags",
  "kernelspec": {
   "display_name": "Python (CMA Fairness)",
   "language": "python",
   "name": "cma_fair_env"
  },
  "language_info": {
   "codemirror_mode": {
    "name": "ipython",
    "version": 3
   },
   "file_extension": ".py",
   "mimetype": "text/x-python",
   "name": "python",
   "nbconvert_exporter": "python",
   "pygments_lexer": "ipython3",
   "version": "3.10.12"
  },
  "papermill": {
   "default_parameters": {},
   "duration": 62.312766,
   "end_time": "2025-07-30T19:56:59.270345",
   "environment_variables": {},
   "exception": null,
   "input_path": "universe_analysis.ipynb",
   "output_path": "output/runs/14/notebooks/m_14-25faeb70ded45f4aeb91f8ea161ba27a.ipynb",
   "parameters": {
    "output_dir": "output",
    "run_no": "14",
    "seed": "2023",
    "universe": "{\"cutoff\": [\"quantile_0.1\", \"quantile_0.25\"], \"eval_fairness_grouping\": [\"majority-minority\", \"nationality-all\"], \"exclude_features\": \"age\", \"exclude_subgroups\": \"keep-all\", \"model\": \"elasticnet\", \"scale\": \"scale\", \"training_size\": \"25k\", \"training_year\": \"2014\"}",
    "universe_id": "25faeb70ded45f4aeb91f8ea161ba27a"
   },
   "start_time": "2025-07-30T19:55:56.957579",
   "version": "2.6.0"
  }
 },
 "nbformat": 4,
 "nbformat_minor": 5
}