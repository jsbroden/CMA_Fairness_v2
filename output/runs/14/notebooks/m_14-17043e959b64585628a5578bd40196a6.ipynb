{
 "cells": [
  {
   "cell_type": "code",
   "execution_count": 1,
   "id": "f159f837-637b-42ba-96b5-ec9a68c44524",
   "metadata": {
    "execution": {
     "iopub.execute_input": "2025-07-30T21:35:13.898239Z",
     "iopub.status.busy": "2025-07-30T21:35:13.897670Z",
     "iopub.status.idle": "2025-07-30T21:35:13.914364Z",
     "shell.execute_reply": "2025-07-30T21:35:13.913205Z"
    },
    "papermill": {
     "duration": 0.039878,
     "end_time": "2025-07-30T21:35:13.916316",
     "exception": false,
     "start_time": "2025-07-30T21:35:13.876438",
     "status": "completed"
    },
    "tags": []
   },
   "outputs": [
    {
     "name": "stdout",
     "output_type": "stream",
     "text": [
      "/dss/dsshome1/0C/ra93lal2/cma/CMA_Fairness_v2\n"
     ]
    },
    {
     "name": "stderr",
     "output_type": "stream",
     "text": [
      "/dss/dsshome1/0C/ra93lal2/.local/share/virtualenvs/CMA_Fairness_v2-3j10GkSs/lib/python3.10/site-packages/IPython/core/magics/osm.py:393: UserWarning: This is now an optional IPython functionality, using bookmarks requires you to install the `pickleshare` library.\n",
      "  bkms = self.shell.db.get('bookmarks', {})\n",
      "/dss/dsshome1/0C/ra93lal2/.local/share/virtualenvs/CMA_Fairness_v2-3j10GkSs/lib/python3.10/site-packages/IPython/core/magics/osm.py:417: UserWarning: This is now an optional IPython functionality, setting dhist requires you to install the `pickleshare` library.\n",
      "  self.shell.db['dhist'] = compress_dhist(dhist)[-100:]\n"
     ]
    }
   ],
   "source": [
    "%cd ~/cma/CMA_Fairness_v2"
   ]
  },
  {
   "cell_type": "markdown",
   "id": "de2603b9",
   "metadata": {
    "papermill": {
     "duration": 0.018839,
     "end_time": "2025-07-30T21:35:13.956679",
     "exception": false,
     "start_time": "2025-07-30T21:35:13.937840",
     "status": "completed"
    },
    "tags": []
   },
   "source": [
    "The following cell holds the definition of our parameters, these values can be overriden by rendering the with e.g. the following command:\n",
    "\n",
    "papermill -p alpha 0.2 -p ratio 0.3 universe_analysis.ipynb output/test_run.ipynb"
   ]
  },
  {
   "cell_type": "code",
   "execution_count": 2,
   "id": "a80968a0-40bb-4fa9-85ef-2d5eefb01975",
   "metadata": {
    "execution": {
     "iopub.execute_input": "2025-07-30T21:35:13.995154Z",
     "iopub.status.busy": "2025-07-30T21:35:13.994712Z",
     "iopub.status.idle": "2025-07-30T21:35:14.000624Z",
     "shell.execute_reply": "2025-07-30T21:35:13.999597Z"
    },
    "papermill": {
     "duration": 0.029412,
     "end_time": "2025-07-30T21:35:14.004500",
     "exception": false,
     "start_time": "2025-07-30T21:35:13.975088",
     "status": "completed"
    },
    "tags": []
   },
   "outputs": [
    {
     "name": "stdout",
     "output_type": "stream",
     "text": [
      "Current working directory: /dss/dsshome1/0C/ra93lal2/cma/CMA_Fairness_v2\n"
     ]
    }
   ],
   "source": [
    "import os\n",
    "print(\"Current working directory:\", os.getcwd())"
   ]
  },
  {
   "cell_type": "code",
   "execution_count": 3,
   "id": "2dce4c03",
   "metadata": {
    "execution": {
     "iopub.execute_input": "2025-07-30T21:35:14.071448Z",
     "iopub.status.busy": "2025-07-30T21:35:14.071078Z",
     "iopub.status.idle": "2025-07-30T21:35:14.076918Z",
     "shell.execute_reply": "2025-07-30T21:35:14.076121Z"
    },
    "papermill": {
     "duration": 0.042867,
     "end_time": "2025-07-30T21:35:14.079087",
     "exception": false,
     "start_time": "2025-07-30T21:35:14.036220",
     "status": "completed"
    },
    "tags": [
     "parameters"
    ]
   },
   "outputs": [],
   "source": [
    "run_no = 0\n",
    "universe_id = \"test\"\n",
    "universe = {\n",
    "    \"training_size\": \"25k\", # \"25k\", \"5k\", \"1k\"\n",
    "    \"training_year\": \"2014\", # \"2014\", \"2012_14\", \"2010_14\"\n",
    "    \"scale\": \"scale\", # \"scale\", \"do-not-scale\",\n",
    "    #\"stratify_split\": \"target\", # \"none\", \"target\", \"protected-attribute\", \"both\",\n",
    "    \"model\": \"elasticnet\", # \"logreg\", \"penalized_logreg\", \"rf\", \"gbm\", \"elasticnet\"\n",
    "    \"cutoff\": [\"quantile_0.15\", \"quantile_0.30\"],\n",
    "    \"exclude_features\": \"age\", # \"none\", \"nationality\", \"sex\", \"nationality-sex\", \"age\"\n",
    "    \"exclude_subgroups\": \"keep-all\", # \"keep-all\", \"drop-non-german\"\n",
    "    \"eval_fairness_grouping\": [\"majority-minority\", \"nationality-all\"]\n",
    "}\n",
    "\n",
    "output_dir=\"./output\"\n",
    "seed=0"
   ]
  },
  {
   "cell_type": "code",
   "execution_count": 4,
   "id": "e293fda4",
   "metadata": {
    "execution": {
     "iopub.execute_input": "2025-07-30T21:35:14.131119Z",
     "iopub.status.busy": "2025-07-30T21:35:14.130686Z",
     "iopub.status.idle": "2025-07-30T21:35:14.143823Z",
     "shell.execute_reply": "2025-07-30T21:35:14.142843Z"
    },
    "papermill": {
     "duration": 0.038232,
     "end_time": "2025-07-30T21:35:14.145795",
     "exception": false,
     "start_time": "2025-07-30T21:35:14.107563",
     "status": "completed"
    },
    "tags": [
     "injected-parameters"
    ]
   },
   "outputs": [],
   "source": [
    "# Parameters\n",
    "universe_id = \"17043e959b64585628a5578bd40196a6\"\n",
    "run_no = \"14\"\n",
    "universe = \"{\\\"cutoff\\\": [\\\"quantile_0.1\\\", \\\"quantile_0.25\\\"], \\\"eval_fairness_grouping\\\": [\\\"majority-minority\\\", \\\"nationality-all\\\"], \\\"exclude_features\\\": \\\"sex\\\", \\\"exclude_subgroups\\\": \\\"drop-non-german\\\", \\\"model\\\": \\\"rf\\\", \\\"scale\\\": \\\"scale\\\", \\\"training_size\\\": \\\"1k\\\", \\\"training_year\\\": \\\"2012_14\\\"}\"\n",
    "output_dir = \"output\"\n",
    "seed = \"2023\"\n"
   ]
  },
  {
   "cell_type": "code",
   "execution_count": 5,
   "id": "1650acaf",
   "metadata": {
    "execution": {
     "iopub.execute_input": "2025-07-30T21:35:14.217541Z",
     "iopub.status.busy": "2025-07-30T21:35:14.216552Z",
     "iopub.status.idle": "2025-07-30T21:35:14.222139Z",
     "shell.execute_reply": "2025-07-30T21:35:14.221231Z"
    },
    "papermill": {
     "duration": 0.048696,
     "end_time": "2025-07-30T21:35:14.225246",
     "exception": false,
     "start_time": "2025-07-30T21:35:14.176550",
     "status": "completed"
    },
    "tags": []
   },
   "outputs": [],
   "source": [
    "import json\n",
    "# Parse universe into dict if it is passed as a string\n",
    "if isinstance(universe, str):\n",
    "    universe = json.loads(universe)"
   ]
  },
  {
   "cell_type": "code",
   "execution_count": 6,
   "id": "16620c48",
   "metadata": {
    "execution": {
     "iopub.execute_input": "2025-07-30T21:35:14.322151Z",
     "iopub.status.busy": "2025-07-30T21:35:14.321786Z",
     "iopub.status.idle": "2025-07-30T21:35:14.392011Z",
     "shell.execute_reply": "2025-07-30T21:35:14.390882Z"
    },
    "papermill": {
     "duration": 0.107691,
     "end_time": "2025-07-30T21:35:14.394581",
     "exception": false,
     "start_time": "2025-07-30T21:35:14.286890",
     "status": "completed"
    },
    "tags": []
   },
   "outputs": [],
   "source": [
    "# Auto-reload the custom package\n",
    "%load_ext autoreload\n",
    "%autoreload 1\n",
    "%aimport fairness_multiverse"
   ]
  },
  {
   "cell_type": "code",
   "execution_count": 7,
   "id": "01c5c9f3",
   "metadata": {
    "execution": {
     "iopub.execute_input": "2025-07-30T21:35:14.497323Z",
     "iopub.status.busy": "2025-07-30T21:35:14.496876Z",
     "iopub.status.idle": "2025-07-30T21:35:16.980575Z",
     "shell.execute_reply": "2025-07-30T21:35:16.979462Z"
    },
    "papermill": {
     "duration": 2.54794,
     "end_time": "2025-07-30T21:35:16.982751",
     "exception": false,
     "start_time": "2025-07-30T21:35:14.434811",
     "status": "completed"
    },
    "tags": []
   },
   "outputs": [],
   "source": [
    "from fairness_multiverse.universe import UniverseAnalysis\n",
    "\n",
    "universe_analysis = UniverseAnalysis(\n",
    "    run_no = run_no,\n",
    "    universe_id = universe_id,\n",
    "    universe = universe,\n",
    "    output_dir=output_dir,\n",
    ")"
   ]
  },
  {
   "cell_type": "code",
   "execution_count": 8,
   "id": "106241f5",
   "metadata": {
    "execution": {
     "iopub.execute_input": "2025-07-30T21:35:17.022821Z",
     "iopub.status.busy": "2025-07-30T21:35:17.022423Z",
     "iopub.status.idle": "2025-07-30T21:35:17.028906Z",
     "shell.execute_reply": "2025-07-30T21:35:17.028037Z"
    },
    "papermill": {
     "duration": 0.03001,
     "end_time": "2025-07-30T21:35:17.032539",
     "exception": false,
     "start_time": "2025-07-30T21:35:17.002529",
     "status": "completed"
    },
    "tags": []
   },
   "outputs": [
    {
     "name": "stdout",
     "output_type": "stream",
     "text": [
      "Using Seed: 2023\n"
     ]
    }
   ],
   "source": [
    "import numpy as np\n",
    "parsed_seed = int(seed)\n",
    "np.random.seed(parsed_seed)\n",
    "print(f\"Using Seed: {parsed_seed}\")"
   ]
  },
  {
   "cell_type": "markdown",
   "id": "e0ebdc57",
   "metadata": {
    "papermill": {
     "duration": 0.018217,
     "end_time": "2025-07-30T21:35:17.068189",
     "exception": false,
     "start_time": "2025-07-30T21:35:17.049972",
     "status": "completed"
    },
    "tags": []
   },
   "source": [
    "# Loading Data"
   ]
  },
  {
   "cell_type": "markdown",
   "id": "681925a3",
   "metadata": {
    "papermill": {
     "duration": 0.01956,
     "end_time": "2025-07-30T21:35:17.106505",
     "exception": false,
     "start_time": "2025-07-30T21:35:17.086945",
     "status": "completed"
    },
    "tags": []
   },
   "source": [
    "Load siab_train, siab_test, siab_calib and/or \n",
    "load siab_train_features, siab_train_labels"
   ]
  },
  {
   "cell_type": "code",
   "execution_count": 9,
   "id": "f0496b8a",
   "metadata": {
    "execution": {
     "iopub.execute_input": "2025-07-30T21:35:17.145377Z",
     "iopub.status.busy": "2025-07-30T21:35:17.144995Z",
     "iopub.status.idle": "2025-07-30T21:35:29.472452Z",
     "shell.execute_reply": "2025-07-30T21:35:29.464113Z"
    },
    "papermill": {
     "duration": 12.348629,
     "end_time": "2025-07-30T21:35:29.474395",
     "exception": false,
     "start_time": "2025-07-30T21:35:17.125766",
     "status": "completed"
    },
    "tags": []
   },
   "outputs": [
    {
     "name": "stdout",
     "output_type": "stream",
     "text": [
      "Loading SIAB data from cache: data/siab_cached.csv.gz\n"
     ]
    },
    {
     "name": "stdout",
     "output_type": "stream",
     "text": [
      "(643690, 164)\n"
     ]
    }
   ],
   "source": [
    "from pathlib import Path\n",
    "import pandas as pd\n",
    "\n",
    "# File paths\n",
    "raw_file = Path(\"data/raw/siab.csv\")\n",
    "cache_file = Path(\"data/siab_cached.csv.gz\")\n",
    "\n",
    "# Ensure cache directory exists\n",
    "cache_file.parent.mkdir(parents=True, exist_ok=True)\n",
    "\n",
    "# Load with simple caching\n",
    "if cache_file.exists():\n",
    "    print(f\"Loading SIAB data from cache: {cache_file}\")\n",
    "    siab = pd.read_csv(cache_file, compression='gzip')\n",
    "else:\n",
    "    print(f\"Cache not found. Reading raw SIAB data: {raw_file}\")\n",
    "    siab = pd.read_csv(raw_file)\n",
    "    siab.to_csv(cache_file, index=False, compression='gzip')\n",
    "    print(f\"Cached SIAB data to: {cache_file}\")\n",
    "\n",
    "# Now use `siab` DataFrame as needed\n",
    "print(siab.shape)"
   ]
  },
  {
   "cell_type": "code",
   "execution_count": 10,
   "id": "db0ca512-5f53-4dba-abdb-a2888bca41ba",
   "metadata": {
    "execution": {
     "iopub.execute_input": "2025-07-30T21:35:29.541601Z",
     "iopub.status.busy": "2025-07-30T21:35:29.541151Z",
     "iopub.status.idle": "2025-07-30T21:35:29.547312Z",
     "shell.execute_reply": "2025-07-30T21:35:29.546398Z"
    },
    "papermill": {
     "duration": 0.031808,
     "end_time": "2025-07-30T21:35:29.550582",
     "exception": false,
     "start_time": "2025-07-30T21:35:29.518774",
     "status": "completed"
    },
    "tags": []
   },
   "outputs": [],
   "source": [
    "#siab"
   ]
  },
  {
   "cell_type": "code",
   "execution_count": 11,
   "id": "a0edb063",
   "metadata": {
    "execution": {
     "iopub.execute_input": "2025-07-30T21:35:29.618220Z",
     "iopub.status.busy": "2025-07-30T21:35:29.617816Z",
     "iopub.status.idle": "2025-07-30T21:35:29.623325Z",
     "shell.execute_reply": "2025-07-30T21:35:29.622337Z"
    },
    "papermill": {
     "duration": 0.049953,
     "end_time": "2025-07-30T21:35:29.626471",
     "exception": false,
     "start_time": "2025-07-30T21:35:29.576518",
     "status": "completed"
    },
    "tags": []
   },
   "outputs": [],
   "source": [
    "#import pandas as pd\n",
    "#\n",
    "#X_train = pd.read_csv(\"./data/X_train.csv\")\n",
    "#y_train = pd.read_csv(\"./data/y_train.csv\")"
   ]
  },
  {
   "cell_type": "code",
   "execution_count": 12,
   "id": "63d08085",
   "metadata": {
    "execution": {
     "iopub.execute_input": "2025-07-30T21:35:29.706563Z",
     "iopub.status.busy": "2025-07-30T21:35:29.706139Z",
     "iopub.status.idle": "2025-07-30T21:35:29.711626Z",
     "shell.execute_reply": "2025-07-30T21:35:29.710696Z"
    },
    "papermill": {
     "duration": 0.062154,
     "end_time": "2025-07-30T21:35:29.714713",
     "exception": false,
     "start_time": "2025-07-30T21:35:29.652559",
     "status": "completed"
    },
    "tags": []
   },
   "outputs": [],
   "source": [
    "#X_test = pd.read_csv(\"./data/X_test.csv\")\n",
    "#y_true = pd.read_csv(\"./data/y_test.csv\")"
   ]
  },
  {
   "cell_type": "code",
   "execution_count": 13,
   "id": "98a8d0fa-1d3d-4ed8-bb2c-281470e24add",
   "metadata": {
    "execution": {
     "iopub.execute_input": "2025-07-30T21:35:29.760680Z",
     "iopub.status.busy": "2025-07-30T21:35:29.760267Z",
     "iopub.status.idle": "2025-07-30T21:35:29.765960Z",
     "shell.execute_reply": "2025-07-30T21:35:29.764906Z"
    },
    "papermill": {
     "duration": 0.030298,
     "end_time": "2025-07-30T21:35:29.769068",
     "exception": false,
     "start_time": "2025-07-30T21:35:29.738770",
     "status": "completed"
    },
    "tags": []
   },
   "outputs": [],
   "source": [
    "# Calibration data for conformal\n",
    "#X_calib = pd.read_csv(\"./data/X_calib.csv\")\n",
    "#y_calib = pd.read_csv(\"./data/y_calib.csv\")"
   ]
  },
  {
   "cell_type": "markdown",
   "id": "997051c5-15bd-4b69-9786-c3001a3ce484",
   "metadata": {
    "papermill": {
     "duration": 0.020376,
     "end_time": "2025-07-30T21:35:29.811235",
     "exception": false,
     "start_time": "2025-07-30T21:35:29.790859",
     "status": "completed"
    },
    "tags": []
   },
   "source": [
    "# Splitting Data and Setting Training Data Size"
   ]
  },
  {
   "cell_type": "code",
   "execution_count": 14,
   "id": "e993b61f-042d-41a6-8c81-f55681f86335",
   "metadata": {
    "execution": {
     "iopub.execute_input": "2025-07-30T21:35:29.866251Z",
     "iopub.status.busy": "2025-07-30T21:35:29.865802Z",
     "iopub.status.idle": "2025-07-30T21:35:29.879271Z",
     "shell.execute_reply": "2025-07-30T21:35:29.878310Z"
    },
    "papermill": {
     "duration": 0.049687,
     "end_time": "2025-07-30T21:35:29.881251",
     "exception": false,
     "start_time": "2025-07-30T21:35:29.831564",
     "status": "completed"
    },
    "tags": []
   },
   "outputs": [],
   "source": [
    "def sample_by_year_size(df,\n",
    "                        training_year: str,\n",
    "                        training_size: str,\n",
    "                        random_state: int = 42):\n",
    "    # --- parse training_year into a list of int years ---\n",
    "    if \"_\" in training_year:\n",
    "        start_str, end_str = training_year.split(\"_\", 1)\n",
    "        start = int(start_str)\n",
    "        end   = int(end_str) if len(end_str) == 4 else (int(end_str) + (start // 100)*100)\n",
    "        years = list(range(start, end + 1))\n",
    "    else:\n",
    "        years = [int(training_year)]\n",
    "\n",
    "    df = df[df[\"year\"].isin(years)].reset_index(drop=True)\n",
    "\n",
    "    # --- map training_size to total number of samples ---\n",
    "    total_map = {\"25k\": 25_000, \"5k\": 5_000, \"1k\": 1_000}\n",
    "    if training_size not in total_map:\n",
    "        return df  # e.g. \"all\"\n",
    "\n",
    "    total_samples = total_map[training_size]\n",
    "    n_years       = len(years)\n",
    "    base          = total_samples // n_years\n",
    "    remainder     = total_samples % n_years\n",
    "\n",
    "    # --- build a dict: year -> how many to sample ---\n",
    "    # give +1 to the first `remainder` years in ascending order\n",
    "    quotas = {\n",
    "        year: base + (1 if idx < remainder else 0)\n",
    "        for idx, year in enumerate(sorted(years))\n",
    "    }\n",
    "\n",
    "    # --- sample per‐year according to the quota dict ---\n",
    "    sampled = (\n",
    "        df\n",
    "        .groupby(\"year\", group_keys=False)\n",
    "        .apply(lambda grp: grp.sample(\n",
    "            n=min(len(grp), quotas[grp.name]),\n",
    "            random_state=random_state))\n",
    "        .reset_index(drop=True)\n",
    "    )\n",
    "\n",
    "    return sampled"
   ]
  },
  {
   "cell_type": "code",
   "execution_count": 15,
   "id": "c0ccd338-0e02-41f3-a09d-f56f9266e3fb",
   "metadata": {
    "execution": {
     "iopub.execute_input": "2025-07-30T21:35:29.924875Z",
     "iopub.status.busy": "2025-07-30T21:35:29.924381Z",
     "iopub.status.idle": "2025-07-30T21:35:29.929304Z",
     "shell.execute_reply": "2025-07-30T21:35:29.928395Z"
    },
    "papermill": {
     "duration": 0.028603,
     "end_time": "2025-07-30T21:35:29.931121",
     "exception": false,
     "start_time": "2025-07-30T21:35:29.902518",
     "status": "completed"
    },
    "tags": []
   },
   "outputs": [],
   "source": [
    "#universe[\"training_size\"]"
   ]
  },
  {
   "cell_type": "code",
   "execution_count": 16,
   "id": "ca707fd7-8047-4acd-bfa5-66248fbbf8e6",
   "metadata": {
    "execution": {
     "iopub.execute_input": "2025-07-30T21:35:29.974906Z",
     "iopub.status.busy": "2025-07-30T21:35:29.974339Z",
     "iopub.status.idle": "2025-07-30T21:35:29.979332Z",
     "shell.execute_reply": "2025-07-30T21:35:29.978438Z"
    },
    "papermill": {
     "duration": 0.029514,
     "end_time": "2025-07-30T21:35:29.980997",
     "exception": false,
     "start_time": "2025-07-30T21:35:29.951483",
     "status": "completed"
    },
    "tags": []
   },
   "outputs": [],
   "source": [
    "#universe[\"training_year\"]"
   ]
  },
  {
   "cell_type": "code",
   "execution_count": 17,
   "id": "aea9c6ef-6f46-42c8-85eb-5a62025c1508",
   "metadata": {
    "execution": {
     "iopub.execute_input": "2025-07-30T21:35:30.026651Z",
     "iopub.status.busy": "2025-07-30T21:35:30.025742Z",
     "iopub.status.idle": "2025-07-30T21:35:30.809629Z",
     "shell.execute_reply": "2025-07-30T21:35:30.808192Z"
    },
    "papermill": {
     "duration": 0.808116,
     "end_time": "2025-07-30T21:35:30.811376",
     "exception": false,
     "start_time": "2025-07-30T21:35:30.003260",
     "status": "completed"
    },
    "tags": []
   },
   "outputs": [],
   "source": [
    "siab_train = sample_by_year_size(siab,\n",
    "                               training_year=universe[\"training_year\"],\n",
    "                               training_size=universe[\"training_size\"])"
   ]
  },
  {
   "cell_type": "code",
   "execution_count": 18,
   "id": "8d3afb32-789d-442c-8d5d-9f5aa8dd2eed",
   "metadata": {
    "execution": {
     "iopub.execute_input": "2025-07-30T21:35:30.867069Z",
     "iopub.status.busy": "2025-07-30T21:35:30.866577Z",
     "iopub.status.idle": "2025-07-30T21:35:30.872934Z",
     "shell.execute_reply": "2025-07-30T21:35:30.871740Z"
    },
    "papermill": {
     "duration": 0.035624,
     "end_time": "2025-07-30T21:35:30.874913",
     "exception": false,
     "start_time": "2025-07-30T21:35:30.839289",
     "status": "completed"
    },
    "tags": []
   },
   "outputs": [],
   "source": [
    "#siab_train.shape"
   ]
  },
  {
   "cell_type": "code",
   "execution_count": 19,
   "id": "d582db68-1a4c-47fb-84fc-08518dc1975a",
   "metadata": {
    "execution": {
     "iopub.execute_input": "2025-07-30T21:35:30.931738Z",
     "iopub.status.busy": "2025-07-30T21:35:30.930663Z",
     "iopub.status.idle": "2025-07-30T21:35:30.937418Z",
     "shell.execute_reply": "2025-07-30T21:35:30.936486Z"
    },
    "papermill": {
     "duration": 0.037342,
     "end_time": "2025-07-30T21:35:30.939575",
     "exception": false,
     "start_time": "2025-07-30T21:35:30.902233",
     "status": "completed"
    },
    "tags": []
   },
   "outputs": [],
   "source": [
    "#display(siab_train.groupby(\"year\").size())"
   ]
  },
  {
   "cell_type": "code",
   "execution_count": 20,
   "id": "a561edb4-d032-42cb-8256-22eac1111c64",
   "metadata": {
    "execution": {
     "iopub.execute_input": "2025-07-30T21:35:30.994993Z",
     "iopub.status.busy": "2025-07-30T21:35:30.993965Z",
     "iopub.status.idle": "2025-07-30T21:35:31.335513Z",
     "shell.execute_reply": "2025-07-30T21:35:31.334268Z"
    },
    "papermill": {
     "duration": 0.370785,
     "end_time": "2025-07-30T21:35:31.337257",
     "exception": false,
     "start_time": "2025-07-30T21:35:30.966472",
     "status": "completed"
    },
    "tags": []
   },
   "outputs": [],
   "source": [
    "#siab_train = siab_s[siab_s.year < 2015]\n",
    "siab_calib = siab[siab.year == 2015]\n",
    "siab_test = siab[siab.year == 2016]"
   ]
  },
  {
   "cell_type": "code",
   "execution_count": 21,
   "id": "472de16f-c3db-4916-846b-1f0de9cf1746",
   "metadata": {
    "execution": {
     "iopub.execute_input": "2025-07-30T21:35:31.446572Z",
     "iopub.status.busy": "2025-07-30T21:35:31.446137Z",
     "iopub.status.idle": "2025-07-30T21:35:31.453585Z",
     "shell.execute_reply": "2025-07-30T21:35:31.452537Z"
    },
    "papermill": {
     "duration": 0.072503,
     "end_time": "2025-07-30T21:35:31.455107",
     "exception": false,
     "start_time": "2025-07-30T21:35:31.382604",
     "status": "completed"
    },
    "tags": []
   },
   "outputs": [],
   "source": [
    "X_train = siab_train.iloc[:,4:164]\n",
    "y_train = siab_train.iloc[:, [3]]"
   ]
  },
  {
   "cell_type": "code",
   "execution_count": 22,
   "id": "828c96af-f43a-4ed6-ba47-8ac73a47d56c",
   "metadata": {
    "execution": {
     "iopub.execute_input": "2025-07-30T21:35:31.522862Z",
     "iopub.status.busy": "2025-07-30T21:35:31.522440Z",
     "iopub.status.idle": "2025-07-30T21:35:31.602356Z",
     "shell.execute_reply": "2025-07-30T21:35:31.599488Z"
    },
    "papermill": {
     "duration": 0.132158,
     "end_time": "2025-07-30T21:35:31.617293",
     "exception": false,
     "start_time": "2025-07-30T21:35:31.485135",
     "status": "completed"
    },
    "tags": []
   },
   "outputs": [],
   "source": [
    "X_calib = siab_calib.iloc[:,4:164]\n",
    "y_calib = siab_calib.iloc[:, [3]]"
   ]
  },
  {
   "cell_type": "code",
   "execution_count": 23,
   "id": "c34be9c3-6bd6-476e-acd3-845840e303be",
   "metadata": {
    "execution": {
     "iopub.execute_input": "2025-07-30T21:35:31.678082Z",
     "iopub.status.busy": "2025-07-30T21:35:31.677791Z",
     "iopub.status.idle": "2025-07-30T21:35:31.755040Z",
     "shell.execute_reply": "2025-07-30T21:35:31.754022Z"
    },
    "papermill": {
     "duration": 0.109149,
     "end_time": "2025-07-30T21:35:31.757145",
     "exception": false,
     "start_time": "2025-07-30T21:35:31.647996",
     "status": "completed"
    },
    "tags": []
   },
   "outputs": [],
   "source": [
    "X_test = siab_test.iloc[:,4:164]\n",
    "y_true = siab_test.iloc[:, [3]]"
   ]
  },
  {
   "cell_type": "markdown",
   "id": "9901737e-04df-44f0-9100-f5ad144ed040",
   "metadata": {
    "papermill": {
     "duration": 0.019325,
     "end_time": "2025-07-30T21:35:31.796885",
     "exception": false,
     "start_time": "2025-07-30T21:35:31.777560",
     "status": "completed"
    },
    "tags": []
   },
   "source": [
    "# Splitting Data and Setting Training Data Size OLD VERSION"
   ]
  },
  {
   "cell_type": "code",
   "execution_count": 24,
   "id": "acbc8f7d-8fc8-4e86-8c59-5dcb0f58384b",
   "metadata": {
    "execution": {
     "iopub.execute_input": "2025-07-30T21:35:31.842636Z",
     "iopub.status.busy": "2025-07-30T21:35:31.842194Z",
     "iopub.status.idle": "2025-07-30T21:35:31.847820Z",
     "shell.execute_reply": "2025-07-30T21:35:31.846924Z"
    },
    "papermill": {
     "duration": 0.037656,
     "end_time": "2025-07-30T21:35:31.850659",
     "exception": false,
     "start_time": "2025-07-30T21:35:31.813003",
     "status": "completed"
    },
    "tags": []
   },
   "outputs": [],
   "source": [
    "#def sample_by_year(df, training_size, random_state=42):\n",
    "#    if training_size == \"2014\":\n",
    "#        return df[df[\"year\"] == 2014].reset_index(drop=True)\n",
    "#    \n",
    "#    size_map = {\n",
    "#        \"25k\": 5000,\n",
    "#        \"5k\": 1000,\n",
    "#        \"1k\": 200\n",
    "#    }\n",
    "#\n",
    "#    if training_size not in size_map:\n",
    "#        return df.reset_index(drop=True)  # use all data\n",
    "#\n",
    "#    n_per_year = size_map[training_size]\n",
    "#    grouped = df.groupby(\"year\")\n",
    "#    sampled = grouped.apply(lambda x: x.sample(n=min(n_per_year, len(x)), random_state=random_state))\n",
    "#    return sampled.reset_index(drop=True)"
   ]
  },
  {
   "cell_type": "code",
   "execution_count": 25,
   "id": "6d931f52-beaf-43ff-9e78-9d44a448d54e",
   "metadata": {
    "execution": {
     "iopub.execute_input": "2025-07-30T21:35:31.907070Z",
     "iopub.status.busy": "2025-07-30T21:35:31.906697Z",
     "iopub.status.idle": "2025-07-30T21:35:31.911521Z",
     "shell.execute_reply": "2025-07-30T21:35:31.910683Z"
    },
    "papermill": {
     "duration": 0.02845,
     "end_time": "2025-07-30T21:35:31.913060",
     "exception": false,
     "start_time": "2025-07-30T21:35:31.884610",
     "status": "completed"
    },
    "tags": []
   },
   "outputs": [],
   "source": [
    "#siab_s = sample_by_year(siab, universe[\"training_size\"])"
   ]
  },
  {
   "cell_type": "code",
   "execution_count": 26,
   "id": "5db0a40e-a4e2-4920-be85-b12ae061d70d",
   "metadata": {
    "execution": {
     "iopub.execute_input": "2025-07-30T21:35:31.942427Z",
     "iopub.status.busy": "2025-07-30T21:35:31.942077Z",
     "iopub.status.idle": "2025-07-30T21:35:31.946361Z",
     "shell.execute_reply": "2025-07-30T21:35:31.945673Z"
    },
    "papermill": {
     "duration": 0.017991,
     "end_time": "2025-07-30T21:35:31.947675",
     "exception": false,
     "start_time": "2025-07-30T21:35:31.929684",
     "status": "completed"
    },
    "tags": []
   },
   "outputs": [],
   "source": [
    "#display(siab_s.groupby(\"year\").size())"
   ]
  },
  {
   "cell_type": "code",
   "execution_count": 27,
   "id": "e6c733c5",
   "metadata": {
    "execution": {
     "iopub.execute_input": "2025-07-30T21:35:31.971485Z",
     "iopub.status.busy": "2025-07-30T21:35:31.971139Z",
     "iopub.status.idle": "2025-07-30T21:35:32.058643Z",
     "shell.execute_reply": "2025-07-30T21:35:32.057785Z"
    },
    "papermill": {
     "duration": 0.100924,
     "end_time": "2025-07-30T21:35:32.060324",
     "exception": false,
     "start_time": "2025-07-30T21:35:31.959400",
     "status": "completed"
    },
    "tags": []
   },
   "outputs": [],
   "source": [
    "# Auxiliary data needed downstream in the pipeline\n",
    "\n",
    "org_train = X_train.copy()\n",
    "org_test = X_test.copy()\n",
    "org_calib = X_calib.copy()"
   ]
  },
  {
   "cell_type": "code",
   "execution_count": 28,
   "id": "1466abac-c6da-4492-a62f-4240ae3783af",
   "metadata": {
    "execution": {
     "iopub.execute_input": "2025-07-30T21:35:32.088910Z",
     "iopub.status.busy": "2025-07-30T21:35:32.088399Z",
     "iopub.status.idle": "2025-07-30T21:35:32.093198Z",
     "shell.execute_reply": "2025-07-30T21:35:32.092439Z"
    },
    "papermill": {
     "duration": 0.019073,
     "end_time": "2025-07-30T21:35:32.094836",
     "exception": false,
     "start_time": "2025-07-30T21:35:32.075763",
     "status": "completed"
    },
    "tags": []
   },
   "outputs": [],
   "source": [
    "# put in other script?\n",
    "# Group sizes\n",
    "\n",
    "#def calculate_percentages(df, df_name):\n",
    "#    total_entries = len(df)\n",
    "#\n",
    "#    female_pct = (df['frau1'] == 1).mean() * 100\n",
    "#    non_german_pct = ((df['maxdeutsch1'] == 0) & (df['maxdeutsch.Missing.'] == 0)).mean() * 100\n",
    "#    non_german_male_pct = ((df['frau1'] == 0) & (df['maxdeutsch1'] == 0) & (df['maxdeutsch.Missing.'] == 0)).mean() * 100\n",
    "#    non_german_female_pct = ((df['frau1'] == 1) & (df['maxdeutsch1'] == 0) & (df['maxdeutsch.Missing.'] == 0)).mean() * 100\n",
    "#\n",
    "#    print(f\"--- {df_name} ---\")\n",
    "#    print(f\"Female: {female_pct:.2f}%\")\n",
    "#    print(f\"Non-German: {non_german_pct:.2f}%\")\n",
    "#    print(f\"Non-German Male: {non_german_male_pct:.2f}%\")\n",
    "#    print(f\"Non-German Female: {non_german_female_pct:.2f}%\\n\")\n",
    "#\n",
    "## Calculate for each DataFrame\n",
    "#calculate_percentages(siab_calib, \"siab_calib\")\n",
    "#calculate_percentages(siab_test, \"siab_test\")\n",
    "#calculate_percentages(siab_train, \"siab_train\")"
   ]
  },
  {
   "cell_type": "markdown",
   "id": "0a4a1b33",
   "metadata": {
    "papermill": {
     "duration": 0.011007,
     "end_time": "2025-07-30T21:35:32.118192",
     "exception": false,
     "start_time": "2025-07-30T21:35:32.107185",
     "status": "completed"
    },
    "tags": []
   },
   "source": [
    "# Preprocessing Data"
   ]
  },
  {
   "cell_type": "code",
   "execution_count": 29,
   "id": "ca879031",
   "metadata": {
    "execution": {
     "iopub.execute_input": "2025-07-30T21:35:32.142986Z",
     "iopub.status.busy": "2025-07-30T21:35:32.142485Z",
     "iopub.status.idle": "2025-07-30T21:35:32.147537Z",
     "shell.execute_reply": "2025-07-30T21:35:32.146863Z"
    },
    "papermill": {
     "duration": 0.019273,
     "end_time": "2025-07-30T21:35:32.148936",
     "exception": false,
     "start_time": "2025-07-30T21:35:32.129663",
     "status": "completed"
    },
    "tags": []
   },
   "outputs": [],
   "source": [
    "# EXCLUDE PROTECTED FEATURES\n",
    "# ----------------------\n",
    "# \"exclude_features\": \"none\", # \"nationality\", \"sex\", \"nationality-sex\"\n",
    "\n",
    "excluded_features = universe[\"exclude_features\"].split(\"-\") # split, e.g.: \"nationality-sex\" -> [\"nationality\", \"sex\"]\n",
    "excluded_features_dictionary = {\n",
    "    \"nationality\": [\"maxdeutsch1\", \"maxdeutsch.Missing.\"],\n",
    "    \"sex\": [\"frau1\"],\n",
    "    \"age\": [\"age\"],\n",
    "}\n"
   ]
  },
  {
   "cell_type": "code",
   "execution_count": 30,
   "id": "b745ac60",
   "metadata": {
    "execution": {
     "iopub.execute_input": "2025-07-30T21:35:32.174220Z",
     "iopub.status.busy": "2025-07-30T21:35:32.173713Z",
     "iopub.status.idle": "2025-07-30T21:35:32.178747Z",
     "shell.execute_reply": "2025-07-30T21:35:32.178056Z"
    },
    "papermill": {
     "duration": 0.018986,
     "end_time": "2025-07-30T21:35:32.180154",
     "exception": false,
     "start_time": "2025-07-30T21:35:32.161168",
     "status": "completed"
    },
    "tags": []
   },
   "outputs": [],
   "source": [
    "# Code nice names to column names\n",
    "\n",
    "excluded_features_columns = [\n",
    "    excluded_features_dictionary[f] for f in excluded_features if len(f) > 0 and f != \"none\"\n",
    "]"
   ]
  },
  {
   "cell_type": "code",
   "execution_count": 31,
   "id": "f84f73a2",
   "metadata": {
    "execution": {
     "iopub.execute_input": "2025-07-30T21:35:32.205760Z",
     "iopub.status.busy": "2025-07-30T21:35:32.205115Z",
     "iopub.status.idle": "2025-07-30T21:35:32.210640Z",
     "shell.execute_reply": "2025-07-30T21:35:32.209929Z"
    },
    "papermill": {
     "duration": 0.019398,
     "end_time": "2025-07-30T21:35:32.211866",
     "exception": false,
     "start_time": "2025-07-30T21:35:32.192468",
     "status": "completed"
    },
    "tags": []
   },
   "outputs": [],
   "source": [
    "from utils import flatten_once\n",
    "\n",
    "excluded_features_columns = flatten_once(excluded_features_columns)"
   ]
  },
  {
   "cell_type": "code",
   "execution_count": 32,
   "id": "884dea22",
   "metadata": {
    "execution": {
     "iopub.execute_input": "2025-07-30T21:35:32.236235Z",
     "iopub.status.busy": "2025-07-30T21:35:32.235671Z",
     "iopub.status.idle": "2025-07-30T21:35:32.242306Z",
     "shell.execute_reply": "2025-07-30T21:35:32.241394Z"
    },
    "papermill": {
     "duration": 0.019937,
     "end_time": "2025-07-30T21:35:32.243638",
     "exception": false,
     "start_time": "2025-07-30T21:35:32.223701",
     "status": "completed"
    },
    "tags": []
   },
   "outputs": [
    {
     "name": "stdout",
     "output_type": "stream",
     "text": [
      "Dropping features: ['frau1']\n"
     ]
    }
   ],
   "source": [
    "if len(excluded_features_columns) > 0:\n",
    "    print(f\"Dropping features: {excluded_features_columns}\")\n",
    "    X_train.drop(excluded_features_columns, axis=1, inplace=True)"
   ]
  },
  {
   "cell_type": "code",
   "execution_count": 33,
   "id": "95ab8b16",
   "metadata": {
    "execution": {
     "iopub.execute_input": "2025-07-30T21:35:32.268163Z",
     "iopub.status.busy": "2025-07-30T21:35:32.267601Z",
     "iopub.status.idle": "2025-07-30T21:35:32.316752Z",
     "shell.execute_reply": "2025-07-30T21:35:32.315934Z"
    },
    "papermill": {
     "duration": 0.062387,
     "end_time": "2025-07-30T21:35:32.317986",
     "exception": false,
     "start_time": "2025-07-30T21:35:32.255599",
     "status": "completed"
    },
    "tags": []
   },
   "outputs": [
    {
     "name": "stdout",
     "output_type": "stream",
     "text": [
      "Dropping features: ['frau1']\n"
     ]
    }
   ],
   "source": [
    "if len(excluded_features_columns) > 0:\n",
    "    print(f\"Dropping features: {excluded_features_columns}\")\n",
    "    X_test.drop(excluded_features_columns, axis=1, inplace=True)"
   ]
  },
  {
   "cell_type": "code",
   "execution_count": 34,
   "id": "1853aaf5-fb9f-46cb-a2b5-8ea4ae2237e4",
   "metadata": {
    "execution": {
     "iopub.execute_input": "2025-07-30T21:35:32.343135Z",
     "iopub.status.busy": "2025-07-30T21:35:32.342320Z",
     "iopub.status.idle": "2025-07-30T21:35:32.389482Z",
     "shell.execute_reply": "2025-07-30T21:35:32.388670Z"
    },
    "papermill": {
     "duration": 0.06077,
     "end_time": "2025-07-30T21:35:32.390778",
     "exception": false,
     "start_time": "2025-07-30T21:35:32.330008",
     "status": "completed"
    },
    "tags": []
   },
   "outputs": [
    {
     "name": "stdout",
     "output_type": "stream",
     "text": [
      "Dropping features: ['frau1']\n"
     ]
    }
   ],
   "source": [
    "if len(excluded_features_columns) > 0:\n",
    "    print(f\"Dropping features: {excluded_features_columns}\")\n",
    "    X_calib.drop(excluded_features_columns, axis=1, inplace=True)"
   ]
  },
  {
   "cell_type": "code",
   "execution_count": 35,
   "id": "6727d079-03e5-481e-9d38-292a90b7a0a8",
   "metadata": {
    "execution": {
     "iopub.execute_input": "2025-07-30T21:35:32.415841Z",
     "iopub.status.busy": "2025-07-30T21:35:32.415446Z",
     "iopub.status.idle": "2025-07-30T21:35:32.419469Z",
     "shell.execute_reply": "2025-07-30T21:35:32.418741Z"
    },
    "papermill": {
     "duration": 0.017562,
     "end_time": "2025-07-30T21:35:32.420835",
     "exception": false,
     "start_time": "2025-07-30T21:35:32.403273",
     "status": "completed"
    },
    "tags": []
   },
   "outputs": [],
   "source": [
    "# SPLIT & STRATIFY DATA\n",
    "# ----------------------"
   ]
  },
  {
   "cell_type": "code",
   "execution_count": 36,
   "id": "76c4dc6d",
   "metadata": {
    "execution": {
     "iopub.execute_input": "2025-07-30T21:35:32.463009Z",
     "iopub.status.busy": "2025-07-30T21:35:32.462573Z",
     "iopub.status.idle": "2025-07-30T21:35:32.468137Z",
     "shell.execute_reply": "2025-07-30T21:35:32.467139Z"
    },
    "papermill": {
     "duration": 0.029065,
     "end_time": "2025-07-30T21:35:32.469729",
     "exception": false,
     "start_time": "2025-07-30T21:35:32.440664",
     "status": "completed"
    },
    "tags": []
   },
   "outputs": [],
   "source": [
    "# EXCLUDE CERTAIN SUBGROUPS\n",
    "# ----------------------\n",
    "\n",
    "mode = universe.get(\"exclude_subgroups\", \"keep-all\") \n",
    "# Fetches the exclude_subgroups setting from the universe dict.\n",
    "# Defaults to \"keep-all\" if the key is missing."
   ]
  },
  {
   "cell_type": "code",
   "execution_count": 37,
   "id": "21994072",
   "metadata": {
    "execution": {
     "iopub.execute_input": "2025-07-30T21:35:32.513876Z",
     "iopub.status.busy": "2025-07-30T21:35:32.513417Z",
     "iopub.status.idle": "2025-07-30T21:35:32.520397Z",
     "shell.execute_reply": "2025-07-30T21:35:32.519262Z"
    },
    "papermill": {
     "duration": 0.032436,
     "end_time": "2025-07-30T21:35:32.521840",
     "exception": false,
     "start_time": "2025-07-30T21:35:32.489404",
     "status": "completed"
    },
    "tags": []
   },
   "outputs": [],
   "source": [
    "if mode == \"keep-all\":\n",
    "    keep_mask = pd.Series(True, index=org_train.index)\n",
    "\n",
    "# org_train contains the original feature columns from features_org (in Simson)\n",
    "# features_org contains unprocessed features, for me X_train at beginning ???\n",
    "# For keep-all, creates a boolean Series (keep_mask) of all True, so no rows are removed.\n",
    "\n",
    "elif mode == \"drop-non-german\":\n",
    "    keep_mask = org_train[\"maxdeutsch1\"] == 1 # ??? what about missing values?\n",
    "\n",
    "else:\n",
    "    raise ValueError(f\"Unsupported mode for exclude_subgroups: {mode}\")\n"
   ]
  },
  {
   "cell_type": "code",
   "execution_count": 38,
   "id": "71651440",
   "metadata": {
    "execution": {
     "iopub.execute_input": "2025-07-30T21:35:32.568524Z",
     "iopub.status.busy": "2025-07-30T21:35:32.568125Z",
     "iopub.status.idle": "2025-07-30T21:35:32.575415Z",
     "shell.execute_reply": "2025-07-30T21:35:32.574420Z"
    },
    "papermill": {
     "duration": 0.03687,
     "end_time": "2025-07-30T21:35:32.581125",
     "exception": false,
     "start_time": "2025-07-30T21:35:32.544255",
     "status": "completed"
    },
    "tags": []
   },
   "outputs": [
    {
     "name": "stdout",
     "output_type": "stream",
     "text": [
      "Dropping 147 rows (14.70%) where mode='drop-non-german'\n"
     ]
    }
   ],
   "source": [
    "n_drop = (~keep_mask).sum() # Calculates how many rows are set to be dropped\n",
    "if n_drop > 0:\n",
    "    pct = n_drop / len(keep_mask) * 100\n",
    "    print(f\"Dropping {n_drop} rows ({pct:.2f}%) where mode='{mode}'\")"
   ]
  },
  {
   "cell_type": "code",
   "execution_count": 39,
   "id": "5fb8eee5",
   "metadata": {
    "execution": {
     "iopub.execute_input": "2025-07-30T21:35:32.626369Z",
     "iopub.status.busy": "2025-07-30T21:35:32.625880Z",
     "iopub.status.idle": "2025-07-30T21:35:32.632483Z",
     "shell.execute_reply": "2025-07-30T21:35:32.631586Z"
    },
    "papermill": {
     "duration": 0.029364,
     "end_time": "2025-07-30T21:35:32.634216",
     "exception": false,
     "start_time": "2025-07-30T21:35:32.604852",
     "status": "completed"
    },
    "tags": []
   },
   "outputs": [],
   "source": [
    "X_train = X_train[keep_mask]"
   ]
  },
  {
   "cell_type": "code",
   "execution_count": 40,
   "id": "b202bb3a",
   "metadata": {
    "execution": {
     "iopub.execute_input": "2025-07-30T21:35:32.682468Z",
     "iopub.status.busy": "2025-07-30T21:35:32.681994Z",
     "iopub.status.idle": "2025-07-30T21:35:32.687971Z",
     "shell.execute_reply": "2025-07-30T21:35:32.686875Z"
    },
    "papermill": {
     "duration": 0.031831,
     "end_time": "2025-07-30T21:35:32.689733",
     "exception": false,
     "start_time": "2025-07-30T21:35:32.657902",
     "status": "completed"
    },
    "tags": []
   },
   "outputs": [],
   "source": [
    "y_train = y_train[keep_mask]"
   ]
  },
  {
   "cell_type": "markdown",
   "id": "493e2ac3",
   "metadata": {
    "papermill": {
     "duration": 0.017278,
     "end_time": "2025-07-30T21:35:32.726757",
     "exception": false,
     "start_time": "2025-07-30T21:35:32.709479",
     "status": "completed"
    },
    "tags": []
   },
   "source": [
    "# Model Training"
   ]
  },
  {
   "cell_type": "code",
   "execution_count": 41,
   "id": "679e1268",
   "metadata": {
    "execution": {
     "iopub.execute_input": "2025-07-30T21:35:32.774053Z",
     "iopub.status.busy": "2025-07-30T21:35:32.773383Z",
     "iopub.status.idle": "2025-07-30T21:35:32.875144Z",
     "shell.execute_reply": "2025-07-30T21:35:32.874134Z"
    },
    "papermill": {
     "duration": 0.127133,
     "end_time": "2025-07-30T21:35:32.877322",
     "exception": false,
     "start_time": "2025-07-30T21:35:32.750189",
     "status": "completed"
    },
    "tags": []
   },
   "outputs": [],
   "source": [
    "from sklearn.linear_model import LogisticRegression\n",
    "from sklearn.ensemble import GradientBoostingClassifier, RandomForestClassifier\n",
    "\n",
    "if (universe[\"model\"] == \"logreg\"):\n",
    "    model = LogisticRegression() #penalty=\"none\") #, solver=\"newton-cg\", max_iter=1) # include random_state=19 ?\n",
    "elif (universe[\"model\"] == \"penalized_logreg\"):\n",
    "    model = LogisticRegression(penalty=\"l2\", C=1.0) #, solver=\"newton-cg\", max_iter=1)\n",
    "elif (universe[\"model\"] == \"rf\"):\n",
    "    model = RandomForestClassifier(n_estimators=100, n_jobs=-1)\n",
    "elif (universe[\"model\"] == \"gbm\"):\n",
    "    model = GradientBoostingClassifier()\n",
    "elif (universe[\"model\"] == \"elasticnet\"):\n",
    "    model = LogisticRegression(penalty = 'elasticnet', solver = 'saga', l1_ratio = 0.5, max_iter=5000) # which solver to use?\n",
    "else:\n",
    "    raise \"Unsupported universe.model\""
   ]
  },
  {
   "cell_type": "code",
   "execution_count": 42,
   "id": "0cc8f744",
   "metadata": {
    "execution": {
     "iopub.execute_input": "2025-07-30T21:35:32.939734Z",
     "iopub.status.busy": "2025-07-30T21:35:32.939018Z",
     "iopub.status.idle": "2025-07-30T21:35:32.946527Z",
     "shell.execute_reply": "2025-07-30T21:35:32.945435Z"
    },
    "papermill": {
     "duration": 0.040952,
     "end_time": "2025-07-30T21:35:32.948469",
     "exception": false,
     "start_time": "2025-07-30T21:35:32.907517",
     "status": "completed"
    },
    "tags": []
   },
   "outputs": [],
   "source": [
    "import numpy as np\n",
    "from sklearn.pipeline import Pipeline\n",
    "from sklearn.preprocessing import StandardScaler\n",
    "\n",
    "model = Pipeline([\n",
    "    #(\"continuous_processor\", continuous_processor),\n",
    "    #(\"categorical_preprocessor\", categorical_preprocessor),\n",
    "    (\"scale\", StandardScaler() if universe[\"scale\"] == \"scale\" else None), \n",
    "    (\"model\", model),\n",
    "])"
   ]
  },
  {
   "cell_type": "code",
   "execution_count": 43,
   "id": "9442c04d",
   "metadata": {
    "execution": {
     "iopub.execute_input": "2025-07-30T21:35:33.011154Z",
     "iopub.status.busy": "2025-07-30T21:35:33.010452Z",
     "iopub.status.idle": "2025-07-30T21:35:33.388848Z",
     "shell.execute_reply": "2025-07-30T21:35:33.387711Z"
    },
    "papermill": {
     "duration": 0.411746,
     "end_time": "2025-07-30T21:35:33.390677",
     "exception": false,
     "start_time": "2025-07-30T21:35:32.978931",
     "status": "completed"
    },
    "tags": []
   },
   "outputs": [
    {
     "data": {
      "text/html": [
       "<style>#sk-container-id-1 {color: black;background-color: white;}#sk-container-id-1 pre{padding: 0;}#sk-container-id-1 div.sk-toggleable {background-color: white;}#sk-container-id-1 label.sk-toggleable__label {cursor: pointer;display: block;width: 100%;margin-bottom: 0;padding: 0.3em;box-sizing: border-box;text-align: center;}#sk-container-id-1 label.sk-toggleable__label-arrow:before {content: \"▸\";float: left;margin-right: 0.25em;color: #696969;}#sk-container-id-1 label.sk-toggleable__label-arrow:hover:before {color: black;}#sk-container-id-1 div.sk-estimator:hover label.sk-toggleable__label-arrow:before {color: black;}#sk-container-id-1 div.sk-toggleable__content {max-height: 0;max-width: 0;overflow: hidden;text-align: left;background-color: #f0f8ff;}#sk-container-id-1 div.sk-toggleable__content pre {margin: 0.2em;color: black;border-radius: 0.25em;background-color: #f0f8ff;}#sk-container-id-1 input.sk-toggleable__control:checked~div.sk-toggleable__content {max-height: 200px;max-width: 100%;overflow: auto;}#sk-container-id-1 input.sk-toggleable__control:checked~label.sk-toggleable__label-arrow:before {content: \"▾\";}#sk-container-id-1 div.sk-estimator input.sk-toggleable__control:checked~label.sk-toggleable__label {background-color: #d4ebff;}#sk-container-id-1 div.sk-label input.sk-toggleable__control:checked~label.sk-toggleable__label {background-color: #d4ebff;}#sk-container-id-1 input.sk-hidden--visually {border: 0;clip: rect(1px 1px 1px 1px);clip: rect(1px, 1px, 1px, 1px);height: 1px;margin: -1px;overflow: hidden;padding: 0;position: absolute;width: 1px;}#sk-container-id-1 div.sk-estimator {font-family: monospace;background-color: #f0f8ff;border: 1px dotted black;border-radius: 0.25em;box-sizing: border-box;margin-bottom: 0.5em;}#sk-container-id-1 div.sk-estimator:hover {background-color: #d4ebff;}#sk-container-id-1 div.sk-parallel-item::after {content: \"\";width: 100%;border-bottom: 1px solid gray;flex-grow: 1;}#sk-container-id-1 div.sk-label:hover label.sk-toggleable__label {background-color: #d4ebff;}#sk-container-id-1 div.sk-serial::before {content: \"\";position: absolute;border-left: 1px solid gray;box-sizing: border-box;top: 0;bottom: 0;left: 50%;z-index: 0;}#sk-container-id-1 div.sk-serial {display: flex;flex-direction: column;align-items: center;background-color: white;padding-right: 0.2em;padding-left: 0.2em;position: relative;}#sk-container-id-1 div.sk-item {position: relative;z-index: 1;}#sk-container-id-1 div.sk-parallel {display: flex;align-items: stretch;justify-content: center;background-color: white;position: relative;}#sk-container-id-1 div.sk-item::before, #sk-container-id-1 div.sk-parallel-item::before {content: \"\";position: absolute;border-left: 1px solid gray;box-sizing: border-box;top: 0;bottom: 0;left: 50%;z-index: -1;}#sk-container-id-1 div.sk-parallel-item {display: flex;flex-direction: column;z-index: 1;position: relative;background-color: white;}#sk-container-id-1 div.sk-parallel-item:first-child::after {align-self: flex-end;width: 50%;}#sk-container-id-1 div.sk-parallel-item:last-child::after {align-self: flex-start;width: 50%;}#sk-container-id-1 div.sk-parallel-item:only-child::after {width: 0;}#sk-container-id-1 div.sk-dashed-wrapped {border: 1px dashed gray;margin: 0 0.4em 0.5em 0.4em;box-sizing: border-box;padding-bottom: 0.4em;background-color: white;}#sk-container-id-1 div.sk-label label {font-family: monospace;font-weight: bold;display: inline-block;line-height: 1.2em;}#sk-container-id-1 div.sk-label-container {text-align: center;}#sk-container-id-1 div.sk-container {/* jupyter's `normalize.less` sets `[hidden] { display: none; }` but bootstrap.min.css set `[hidden] { display: none !important; }` so we also need the `!important` here to be able to override the default hidden behavior on the sphinx rendered scikit-learn.org. See: https://github.com/scikit-learn/scikit-learn/issues/21755 */display: inline-block !important;position: relative;}#sk-container-id-1 div.sk-text-repr-fallback {display: none;}</style><div id=\"sk-container-id-1\" class=\"sk-top-container\"><div class=\"sk-text-repr-fallback\"><pre>Pipeline(steps=[(&#x27;scale&#x27;, StandardScaler()),\n",
       "                (&#x27;model&#x27;, RandomForestClassifier(n_jobs=-1))])</pre><b>In a Jupyter environment, please rerun this cell to show the HTML representation or trust the notebook. <br />On GitHub, the HTML representation is unable to render, please try loading this page with nbviewer.org.</b></div><div class=\"sk-container\" hidden><div class=\"sk-item sk-dashed-wrapped\"><div class=\"sk-label-container\"><div class=\"sk-label sk-toggleable\"><input class=\"sk-toggleable__control sk-hidden--visually\" id=\"sk-estimator-id-1\" type=\"checkbox\" ><label for=\"sk-estimator-id-1\" class=\"sk-toggleable__label sk-toggleable__label-arrow\">Pipeline</label><div class=\"sk-toggleable__content\"><pre>Pipeline(steps=[(&#x27;scale&#x27;, StandardScaler()),\n",
       "                (&#x27;model&#x27;, RandomForestClassifier(n_jobs=-1))])</pre></div></div></div><div class=\"sk-serial\"><div class=\"sk-item\"><div class=\"sk-estimator sk-toggleable\"><input class=\"sk-toggleable__control sk-hidden--visually\" id=\"sk-estimator-id-2\" type=\"checkbox\" ><label for=\"sk-estimator-id-2\" class=\"sk-toggleable__label sk-toggleable__label-arrow\">StandardScaler</label><div class=\"sk-toggleable__content\"><pre>StandardScaler()</pre></div></div></div><div class=\"sk-item\"><div class=\"sk-estimator sk-toggleable\"><input class=\"sk-toggleable__control sk-hidden--visually\" id=\"sk-estimator-id-3\" type=\"checkbox\" ><label for=\"sk-estimator-id-3\" class=\"sk-toggleable__label sk-toggleable__label-arrow\">RandomForestClassifier</label><div class=\"sk-toggleable__content\"><pre>RandomForestClassifier(n_jobs=-1)</pre></div></div></div></div></div></div></div>"
      ],
      "text/plain": [
       "Pipeline(steps=[('scale', StandardScaler()),\n",
       "                ('model', RandomForestClassifier(n_jobs=-1))])"
      ]
     },
     "execution_count": 43,
     "metadata": {},
     "output_type": "execute_result"
    }
   ],
   "source": [
    "model.fit(X_train, y_train.values.ravel())"
   ]
  },
  {
   "cell_type": "code",
   "execution_count": 44,
   "id": "af59f8c0",
   "metadata": {
    "execution": {
     "iopub.execute_input": "2025-07-30T21:35:33.428720Z",
     "iopub.status.busy": "2025-07-30T21:35:33.428344Z",
     "iopub.status.idle": "2025-07-30T21:35:33.433433Z",
     "shell.execute_reply": "2025-07-30T21:35:33.432812Z"
    },
    "papermill": {
     "duration": 0.020432,
     "end_time": "2025-07-30T21:35:33.434895",
     "exception": false,
     "start_time": "2025-07-30T21:35:33.414463",
     "status": "completed"
    },
    "tags": []
   },
   "outputs": [],
   "source": [
    "from fairness_multiverse.universe import predict_w_threshold"
   ]
  },
  {
   "cell_type": "code",
   "execution_count": 45,
   "id": "a7cf2e16",
   "metadata": {
    "execution": {
     "iopub.execute_input": "2025-07-30T21:35:33.462764Z",
     "iopub.status.busy": "2025-07-30T21:35:33.462372Z",
     "iopub.status.idle": "2025-07-30T21:35:34.263676Z",
     "shell.execute_reply": "2025-07-30T21:35:34.262667Z"
    },
    "papermill": {
     "duration": 0.818,
     "end_time": "2025-07-30T21:35:34.267808",
     "exception": false,
     "start_time": "2025-07-30T21:35:33.449808",
     "status": "completed"
    },
    "tags": []
   },
   "outputs": [
    {
     "data": {
      "text/plain": [
       "0.8578865232415561"
      ]
     },
     "execution_count": 45,
     "metadata": {},
     "output_type": "execute_result"
    }
   ],
   "source": [
    "probs_test = model.predict_proba(X_test)\n",
    "\n",
    "'''\n",
    "Below code returns a boolean array (or binary 0/1 array depending on how it’s used) where each element \n",
    "is True if the probability of class 1 is greater than or equal to the threshold, and False otherwise.\n",
    "'''\n",
    "y_pred_default = predict_w_threshold(probs_test, 0.5)\n",
    "\n",
    "from sklearn.metrics import accuracy_score\n",
    "\n",
    "# Naive prediction\n",
    "accuracy_score(y_true = y_true, y_pred = y_pred_default)"
   ]
  },
  {
   "cell_type": "code",
   "execution_count": 46,
   "id": "081964c3",
   "metadata": {
    "execution": {
     "iopub.execute_input": "2025-07-30T21:35:34.316797Z",
     "iopub.status.busy": "2025-07-30T21:35:34.316381Z",
     "iopub.status.idle": "2025-07-30T21:35:35.090040Z",
     "shell.execute_reply": "2025-07-30T21:35:35.089304Z"
    },
    "papermill": {
     "duration": 0.800311,
     "end_time": "2025-07-30T21:35:35.091327",
     "exception": false,
     "start_time": "2025-07-30T21:35:34.291016",
     "status": "completed"
    },
    "tags": []
   },
   "outputs": [
    {
     "data": {
      "text/plain": [
       "array([0, 0, 0, ..., 0, 0, 0])"
      ]
     },
     "execution_count": 46,
     "metadata": {},
     "output_type": "execute_result"
    }
   ],
   "source": [
    "model.predict(X_test)"
   ]
  },
  {
   "cell_type": "markdown",
   "id": "56c9705b",
   "metadata": {
    "papermill": {
     "duration": 0.02456,
     "end_time": "2025-07-30T21:35:35.129385",
     "exception": false,
     "start_time": "2025-07-30T21:35:35.104825",
     "status": "completed"
    },
    "tags": []
   },
   "source": [
    "# Conformal Prediction"
   ]
  },
  {
   "cell_type": "code",
   "execution_count": 47,
   "id": "160ec6ff",
   "metadata": {
    "execution": {
     "iopub.execute_input": "2025-07-30T21:35:35.170671Z",
     "iopub.status.busy": "2025-07-30T21:35:35.170379Z",
     "iopub.status.idle": "2025-07-30T21:35:35.175246Z",
     "shell.execute_reply": "2025-07-30T21:35:35.174481Z"
    },
    "papermill": {
     "duration": 0.022175,
     "end_time": "2025-07-30T21:35:35.176552",
     "exception": false,
     "start_time": "2025-07-30T21:35:35.154377",
     "status": "completed"
    },
    "tags": []
   },
   "outputs": [],
   "source": [
    "# Miscoverage level for conformal prediction (10% allowed error rate => 90% target coverage)\n",
    "alpha = 0.1"
   ]
  },
  {
   "cell_type": "code",
   "execution_count": 48,
   "id": "eadf4555-3dd3-440e-8e35-f82a4ad9f855",
   "metadata": {
    "execution": {
     "iopub.execute_input": "2025-07-30T21:35:35.205942Z",
     "iopub.status.busy": "2025-07-30T21:35:35.205417Z",
     "iopub.status.idle": "2025-07-30T21:35:35.936634Z",
     "shell.execute_reply": "2025-07-30T21:35:35.935586Z"
    },
    "papermill": {
     "duration": 0.748052,
     "end_time": "2025-07-30T21:35:35.938196",
     "exception": false,
     "start_time": "2025-07-30T21:35:35.190144",
     "status": "completed"
    },
    "tags": []
   },
   "outputs": [],
   "source": [
    "probs_calib = model.predict_proba(X_calib)"
   ]
  },
  {
   "cell_type": "code",
   "execution_count": 49,
   "id": "2ed93547-6d5d-4983-9b36-1ecb300da49a",
   "metadata": {
    "execution": {
     "iopub.execute_input": "2025-07-30T21:35:35.976454Z",
     "iopub.status.busy": "2025-07-30T21:35:35.976104Z",
     "iopub.status.idle": "2025-07-30T21:35:35.980704Z",
     "shell.execute_reply": "2025-07-30T21:35:35.980012Z"
    },
    "papermill": {
     "duration": 0.020064,
     "end_time": "2025-07-30T21:35:35.982055",
     "exception": false,
     "start_time": "2025-07-30T21:35:35.961991",
     "status": "completed"
    },
    "tags": []
   },
   "outputs": [],
   "source": [
    "y_calib = y_calib.values.ravel().astype(int)"
   ]
  },
  {
   "cell_type": "code",
   "execution_count": 50,
   "id": "65d1320d-f588-4b38-9072-62af1ae97f7d",
   "metadata": {
    "execution": {
     "iopub.execute_input": "2025-07-30T21:35:36.008016Z",
     "iopub.status.busy": "2025-07-30T21:35:36.007628Z",
     "iopub.status.idle": "2025-07-30T21:35:36.013301Z",
     "shell.execute_reply": "2025-07-30T21:35:36.012574Z"
    },
    "papermill": {
     "duration": 0.019834,
     "end_time": "2025-07-30T21:35:36.014526",
     "exception": false,
     "start_time": "2025-07-30T21:35:35.994692",
     "status": "completed"
    },
    "tags": []
   },
   "outputs": [],
   "source": [
    "from fairness_multiverse.conformal import compute_nc_scores\n",
    "\n",
    "# Compute nonconformity scores on calibration set (1 - probability of true class)\n",
    "nc_scores = compute_nc_scores(probs_calib, y_calib)"
   ]
  },
  {
   "cell_type": "code",
   "execution_count": 51,
   "id": "df3b8ca3-53b7-43d5-9667-7c85da7aeda2",
   "metadata": {
    "execution": {
     "iopub.execute_input": "2025-07-30T21:35:36.051342Z",
     "iopub.status.busy": "2025-07-30T21:35:36.051037Z",
     "iopub.status.idle": "2025-07-30T21:35:36.057395Z",
     "shell.execute_reply": "2025-07-30T21:35:36.056370Z"
    },
    "papermill": {
     "duration": 0.029753,
     "end_time": "2025-07-30T21:35:36.058919",
     "exception": false,
     "start_time": "2025-07-30T21:35:36.029166",
     "status": "completed"
    },
    "tags": []
   },
   "outputs": [],
   "source": [
    "from fairness_multiverse.conformal import find_threshold\n",
    "\n",
    "# Find conformal threshold q_hat for the given alpha (split conformal method)\n",
    "q_hat = find_threshold(nc_scores, alpha)"
   ]
  },
  {
   "cell_type": "code",
   "execution_count": 52,
   "id": "4d29e6c1-0ef6-4aa4-b8fe-4fe79b0d033a",
   "metadata": {
    "execution": {
     "iopub.execute_input": "2025-07-30T21:35:36.102444Z",
     "iopub.status.busy": "2025-07-30T21:35:36.101815Z",
     "iopub.status.idle": "2025-07-30T21:35:36.108685Z",
     "shell.execute_reply": "2025-07-30T21:35:36.107594Z"
    },
    "papermill": {
     "duration": 0.02832,
     "end_time": "2025-07-30T21:35:36.110541",
     "exception": false,
     "start_time": "2025-07-30T21:35:36.082221",
     "status": "completed"
    },
    "tags": []
   },
   "outputs": [
    {
     "data": {
      "text/plain": [
       "0.6699999999999999"
      ]
     },
     "execution_count": 52,
     "metadata": {},
     "output_type": "execute_result"
    }
   ],
   "source": [
    "q_hat"
   ]
  },
  {
   "cell_type": "code",
   "execution_count": 53,
   "id": "92460794-cdac-4be2-ba28-f28c0515a6fb",
   "metadata": {
    "execution": {
     "iopub.execute_input": "2025-07-30T21:35:36.150281Z",
     "iopub.status.busy": "2025-07-30T21:35:36.149881Z",
     "iopub.status.idle": "2025-07-30T21:35:37.724613Z",
     "shell.execute_reply": "2025-07-30T21:35:37.722012Z"
    },
    "papermill": {
     "duration": 1.594975,
     "end_time": "2025-07-30T21:35:37.726425",
     "exception": false,
     "start_time": "2025-07-30T21:35:36.131450",
     "status": "completed"
    },
    "tags": []
   },
   "outputs": [],
   "source": [
    "from fairness_multiverse.conformal import predict_conformal_sets\n",
    "\n",
    "# Generate prediction sets for each test example\n",
    "pred_sets = predict_conformal_sets(model, X_test, q_hat)"
   ]
  },
  {
   "cell_type": "code",
   "execution_count": 54,
   "id": "d90c9a65-e6db-4f5d-80cd-e68fb7e46829",
   "metadata": {
    "execution": {
     "iopub.execute_input": "2025-07-30T21:35:37.837581Z",
     "iopub.status.busy": "2025-07-30T21:35:37.837186Z",
     "iopub.status.idle": "2025-07-30T21:35:37.844216Z",
     "shell.execute_reply": "2025-07-30T21:35:37.843205Z"
    },
    "papermill": {
     "duration": 0.06911,
     "end_time": "2025-07-30T21:35:37.846270",
     "exception": false,
     "start_time": "2025-07-30T21:35:37.777160",
     "status": "completed"
    },
    "tags": []
   },
   "outputs": [],
   "source": [
    "y_true = y_true.squeeze()"
   ]
  },
  {
   "cell_type": "code",
   "execution_count": 55,
   "id": "3a58a54a-1e68-46b9-927a-df01f18aebc8",
   "metadata": {
    "execution": {
     "iopub.execute_input": "2025-07-30T21:35:37.892254Z",
     "iopub.status.busy": "2025-07-30T21:35:37.891823Z",
     "iopub.status.idle": "2025-07-30T21:35:38.861576Z",
     "shell.execute_reply": "2025-07-30T21:35:38.860507Z"
    },
    "papermill": {
     "duration": 0.991405,
     "end_time": "2025-07-30T21:35:38.863413",
     "exception": false,
     "start_time": "2025-07-30T21:35:37.872008",
     "status": "completed"
    },
    "tags": []
   },
   "outputs": [],
   "source": [
    "from fairness_multiverse.conformal import evaluate_sets\n",
    "\n",
    "# Evaluate coverage and average set size on test data\n",
    "metrics = evaluate_sets(pred_sets, y_true)"
   ]
  },
  {
   "cell_type": "markdown",
   "id": "2b569c12-9aaa-4c88-98c9-bbcd0cf3ebb8",
   "metadata": {
    "papermill": {
     "duration": 0.050371,
     "end_time": "2025-07-30T21:35:38.949423",
     "exception": false,
     "start_time": "2025-07-30T21:35:38.899052",
     "status": "completed"
    },
    "tags": []
   },
   "source": [
    "# CP Metrics"
   ]
  },
  {
   "cell_type": "code",
   "execution_count": 56,
   "id": "5ce0a5cb-201f-45a0-ade5-94c7f0bd6095",
   "metadata": {
    "execution": {
     "iopub.execute_input": "2025-07-30T21:35:39.016313Z",
     "iopub.status.busy": "2025-07-30T21:35:39.015785Z",
     "iopub.status.idle": "2025-07-30T21:35:39.023294Z",
     "shell.execute_reply": "2025-07-30T21:35:39.022334Z"
    },
    "papermill": {
     "duration": 0.033496,
     "end_time": "2025-07-30T21:35:39.025107",
     "exception": false,
     "start_time": "2025-07-30T21:35:38.991611",
     "status": "completed"
    },
    "tags": []
   },
   "outputs": [
    {
     "data": {
      "text/plain": [
       "{'coverage': 0.9161074573626129, 'avg_size': 1.1801471407869804}"
      ]
     },
     "execution_count": 56,
     "metadata": {},
     "output_type": "execute_result"
    }
   ],
   "source": [
    "metrics"
   ]
  },
  {
   "cell_type": "code",
   "execution_count": 57,
   "id": "9b9a838d-31c9-430b-ae14-12baee460d17",
   "metadata": {
    "execution": {
     "iopub.execute_input": "2025-07-30T21:35:39.073478Z",
     "iopub.status.busy": "2025-07-30T21:35:39.072926Z",
     "iopub.status.idle": "2025-07-30T21:35:39.079630Z",
     "shell.execute_reply": "2025-07-30T21:35:39.078686Z"
    },
    "papermill": {
     "duration": 0.032463,
     "end_time": "2025-07-30T21:35:39.081123",
     "exception": false,
     "start_time": "2025-07-30T21:35:39.048660",
     "status": "completed"
    },
    "tags": []
   },
   "outputs": [],
   "source": [
    "example_universe = universe.copy()\n",
    "universe_training_year = example_universe.get(\"training_year\")\n",
    "universe_training_size = example_universe.get(\"training_size\")\n",
    "universe_scale = example_universe.get(\"scale\")\n",
    "universe_model = example_universe.get(\"model\")\n",
    "universe_exclude_features = example_universe.get(\"exclude_features\")\n",
    "universe_exclude_subgroups = example_universe.get(\"exclude_subgroups\")"
   ]
  },
  {
   "cell_type": "code",
   "execution_count": 58,
   "id": "f4b6a8ac-9dc0-4245-8a91-5b3b5999c4f9",
   "metadata": {
    "execution": {
     "iopub.execute_input": "2025-07-30T21:35:39.129289Z",
     "iopub.status.busy": "2025-07-30T21:35:39.128675Z",
     "iopub.status.idle": "2025-07-30T21:35:39.134989Z",
     "shell.execute_reply": "2025-07-30T21:35:39.134134Z"
    },
    "papermill": {
     "duration": 0.032254,
     "end_time": "2025-07-30T21:35:39.136884",
     "exception": false,
     "start_time": "2025-07-30T21:35:39.104630",
     "status": "completed"
    },
    "tags": []
   },
   "outputs": [],
   "source": [
    "cp_metrics_dict = {\n",
    "    \"universe_id\": [universe_id],\n",
    "    \"universe_training_year\": [universe_training_year],\n",
    "    \"universe_training_size\": [universe_training_size],\n",
    "    \"universe_scale\": [universe_scale],\n",
    "    \"universe_model\": [universe_model],\n",
    "    \"universe_exclude_features\": [universe_exclude_features],\n",
    "    \"universe_exclude_subgroups\": [universe_exclude_subgroups],\n",
    "    \"q_hat\": [q_hat],\n",
    "    \"coverage\": [metrics[\"coverage\"]],\n",
    "    \"avg_size\": [metrics[\"avg_size\"]],\n",
    "}"
   ]
  },
  {
   "cell_type": "code",
   "execution_count": 59,
   "id": "908acbb1-0371-4915-85ca-3fa520d2efe2",
   "metadata": {
    "execution": {
     "iopub.execute_input": "2025-07-30T21:35:39.185743Z",
     "iopub.status.busy": "2025-07-30T21:35:39.185218Z",
     "iopub.status.idle": "2025-07-30T21:35:39.193226Z",
     "shell.execute_reply": "2025-07-30T21:35:39.192262Z"
    },
    "papermill": {
     "duration": 0.034299,
     "end_time": "2025-07-30T21:35:39.194806",
     "exception": false,
     "start_time": "2025-07-30T21:35:39.160507",
     "status": "completed"
    },
    "tags": []
   },
   "outputs": [
    {
     "data": {
      "text/plain": [
       "{'universe_id': ['17043e959b64585628a5578bd40196a6'],\n",
       " 'universe_training_year': ['2012_14'],\n",
       " 'universe_training_size': ['1k'],\n",
       " 'universe_scale': ['scale'],\n",
       " 'universe_model': ['rf'],\n",
       " 'universe_exclude_features': ['sex'],\n",
       " 'universe_exclude_subgroups': ['drop-non-german'],\n",
       " 'q_hat': [0.6699999999999999],\n",
       " 'coverage': [0.9161074573626129],\n",
       " 'avg_size': [1.1801471407869804]}"
      ]
     },
     "execution_count": 59,
     "metadata": {},
     "output_type": "execute_result"
    }
   ],
   "source": [
    "cp_metrics_dict"
   ]
  },
  {
   "cell_type": "code",
   "execution_count": 60,
   "id": "33007efc-14e9-4ec6-97ac-56a455c82265",
   "metadata": {
    "execution": {
     "iopub.execute_input": "2025-07-30T21:35:39.247286Z",
     "iopub.status.busy": "2025-07-30T21:35:39.246734Z",
     "iopub.status.idle": "2025-07-30T21:35:39.254244Z",
     "shell.execute_reply": "2025-07-30T21:35:39.253133Z"
    },
    "papermill": {
     "duration": 0.035053,
     "end_time": "2025-07-30T21:35:39.255942",
     "exception": false,
     "start_time": "2025-07-30T21:35:39.220889",
     "status": "completed"
    },
    "tags": []
   },
   "outputs": [],
   "source": [
    "cp_metrics_df = pd.DataFrame(cp_metrics_dict)"
   ]
  },
  {
   "cell_type": "code",
   "execution_count": 61,
   "id": "db12611b-57b2-4910-b9d0-355adfd6e7bf",
   "metadata": {
    "execution": {
     "iopub.execute_input": "2025-07-30T21:35:39.308253Z",
     "iopub.status.busy": "2025-07-30T21:35:39.307727Z",
     "iopub.status.idle": "2025-07-30T21:35:39.329657Z",
     "shell.execute_reply": "2025-07-30T21:35:39.328696Z"
    },
    "papermill": {
     "duration": 0.049187,
     "end_time": "2025-07-30T21:35:39.331369",
     "exception": false,
     "start_time": "2025-07-30T21:35:39.282182",
     "status": "completed"
    },
    "tags": []
   },
   "outputs": [
    {
     "data": {
      "text/html": [
       "<div>\n",
       "<style scoped>\n",
       "    .dataframe tbody tr th:only-of-type {\n",
       "        vertical-align: middle;\n",
       "    }\n",
       "\n",
       "    .dataframe tbody tr th {\n",
       "        vertical-align: top;\n",
       "    }\n",
       "\n",
       "    .dataframe thead th {\n",
       "        text-align: right;\n",
       "    }\n",
       "</style>\n",
       "<table border=\"1\" class=\"dataframe\">\n",
       "  <thead>\n",
       "    <tr style=\"text-align: right;\">\n",
       "      <th></th>\n",
       "      <th>universe_id</th>\n",
       "      <th>universe_training_year</th>\n",
       "      <th>universe_training_size</th>\n",
       "      <th>universe_scale</th>\n",
       "      <th>universe_model</th>\n",
       "      <th>universe_exclude_features</th>\n",
       "      <th>universe_exclude_subgroups</th>\n",
       "      <th>q_hat</th>\n",
       "      <th>coverage</th>\n",
       "      <th>avg_size</th>\n",
       "    </tr>\n",
       "  </thead>\n",
       "  <tbody>\n",
       "    <tr>\n",
       "      <th>0</th>\n",
       "      <td>17043e959b64585628a5578bd40196a6</td>\n",
       "      <td>2012_14</td>\n",
       "      <td>1k</td>\n",
       "      <td>scale</td>\n",
       "      <td>rf</td>\n",
       "      <td>sex</td>\n",
       "      <td>drop-non-german</td>\n",
       "      <td>0.67</td>\n",
       "      <td>0.916107</td>\n",
       "      <td>1.180147</td>\n",
       "    </tr>\n",
       "  </tbody>\n",
       "</table>\n",
       "</div>"
      ],
      "text/plain": [
       "                        universe_id universe_training_year  \\\n",
       "0  17043e959b64585628a5578bd40196a6                2012_14   \n",
       "\n",
       "  universe_training_size universe_scale universe_model  \\\n",
       "0                     1k          scale             rf   \n",
       "\n",
       "  universe_exclude_features universe_exclude_subgroups  q_hat  coverage  \\\n",
       "0                       sex            drop-non-german   0.67  0.916107   \n",
       "\n",
       "   avg_size  \n",
       "0  1.180147  "
      ]
     },
     "execution_count": 61,
     "metadata": {},
     "output_type": "execute_result"
    }
   ],
   "source": [
    "cp_metrics_df"
   ]
  },
  {
   "cell_type": "code",
   "execution_count": 62,
   "id": "b7fbde55-a0a1-47e4-9af6-fe4a17fa8c61",
   "metadata": {
    "execution": {
     "iopub.execute_input": "2025-07-30T21:35:39.383918Z",
     "iopub.status.busy": "2025-07-30T21:35:39.382978Z",
     "iopub.status.idle": "2025-07-30T21:35:39.429079Z",
     "shell.execute_reply": "2025-07-30T21:35:39.420822Z"
    },
    "papermill": {
     "duration": 0.073901,
     "end_time": "2025-07-30T21:35:39.431191",
     "exception": false,
     "start_time": "2025-07-30T21:35:39.357290",
     "status": "completed"
    },
    "tags": []
   },
   "outputs": [],
   "source": [
    "# Conditional Coverage & looking at subgroups"
   ]
  },
  {
   "cell_type": "code",
   "execution_count": 63,
   "id": "027ae886-68dd-4141-96c7-805a5450e1ef",
   "metadata": {
    "execution": {
     "iopub.execute_input": "2025-07-30T21:35:39.482183Z",
     "iopub.status.busy": "2025-07-30T21:35:39.481013Z",
     "iopub.status.idle": "2025-07-30T21:35:39.829386Z",
     "shell.execute_reply": "2025-07-30T21:35:39.828133Z"
    },
    "papermill": {
     "duration": 0.3754,
     "end_time": "2025-07-30T21:35:39.831323",
     "exception": false,
     "start_time": "2025-07-30T21:35:39.455923",
     "status": "completed"
    },
    "tags": []
   },
   "outputs": [],
   "source": [
    "from fairness_multiverse.conformal import build_cp_groups\n",
    "\n",
    "cp_groups_df = build_cp_groups(pred_sets, y_true, X_test.index, org_test)\n",
    "#needs universe_id and setting"
   ]
  },
  {
   "cell_type": "code",
   "execution_count": 64,
   "id": "01d5802c-663a-4d1f-9d69-e036faaffbf7",
   "metadata": {
    "execution": {
     "iopub.execute_input": "2025-07-30T21:35:39.886814Z",
     "iopub.status.busy": "2025-07-30T21:35:39.885661Z",
     "iopub.status.idle": "2025-07-30T21:35:39.891671Z",
     "shell.execute_reply": "2025-07-30T21:35:39.890682Z"
    },
    "papermill": {
     "duration": 0.040074,
     "end_time": "2025-07-30T21:35:39.899177",
     "exception": false,
     "start_time": "2025-07-30T21:35:39.859103",
     "status": "completed"
    },
    "tags": []
   },
   "outputs": [],
   "source": [
    "#delete\n",
    "#cp_groups_df"
   ]
  },
  {
   "cell_type": "code",
   "execution_count": 65,
   "id": "fa424af1-d1eb-443d-b717-2d279ada8408",
   "metadata": {
    "execution": {
     "iopub.execute_input": "2025-07-30T21:35:39.974050Z",
     "iopub.status.busy": "2025-07-30T21:35:39.973684Z",
     "iopub.status.idle": "2025-07-30T21:35:39.990374Z",
     "shell.execute_reply": "2025-07-30T21:35:39.989141Z"
    },
    "papermill": {
     "duration": 0.056835,
     "end_time": "2025-07-30T21:35:39.992938",
     "exception": false,
     "start_time": "2025-07-30T21:35:39.936103",
     "status": "completed"
    },
    "tags": []
   },
   "outputs": [],
   "source": [
    "#delete\n",
    "#percentage = (cp_groups_df['nongerman_female'] == 1).mean() * 100\n",
    "#print(percentage)\n"
   ]
  },
  {
   "cell_type": "code",
   "execution_count": 66,
   "id": "6cbdab96-b2b2-45af-ad54-d0516db2e28d",
   "metadata": {
    "execution": {
     "iopub.execute_input": "2025-07-30T21:35:40.071866Z",
     "iopub.status.busy": "2025-07-30T21:35:40.071468Z",
     "iopub.status.idle": "2025-07-30T21:35:41.809792Z",
     "shell.execute_reply": "2025-07-30T21:35:41.809045Z"
    },
    "papermill": {
     "duration": 1.779623,
     "end_time": "2025-07-30T21:35:41.811222",
     "exception": false,
     "start_time": "2025-07-30T21:35:40.031599",
     "status": "completed"
    },
    "tags": []
   },
   "outputs": [],
   "source": [
    "# Define covered = 1 if true_label is in the predicted set\n",
    "cp_groups_df['covered'] = cp_groups_df.apply(\n",
    "    lambda r: int(r['true_label'] in r['pred_set']),\n",
    "    axis=1\n",
    ")"
   ]
  },
  {
   "cell_type": "code",
   "execution_count": 67,
   "id": "338ff529-1a6b-4b87-a931-8e4788d52aad",
   "metadata": {
    "execution": {
     "iopub.execute_input": "2025-07-30T21:35:41.850708Z",
     "iopub.status.busy": "2025-07-30T21:35:41.850356Z",
     "iopub.status.idle": "2025-07-30T21:35:41.854504Z",
     "shell.execute_reply": "2025-07-30T21:35:41.853808Z"
    },
    "papermill": {
     "duration": 0.028436,
     "end_time": "2025-07-30T21:35:41.855709",
     "exception": false,
     "start_time": "2025-07-30T21:35:41.827273",
     "status": "completed"
    },
    "tags": []
   },
   "outputs": [],
   "source": [
    "#cp_groups_df"
   ]
  },
  {
   "cell_type": "code",
   "execution_count": 68,
   "id": "90032e27-66df-4540-9169-4e89cfbaa758",
   "metadata": {
    "execution": {
     "iopub.execute_input": "2025-07-30T21:35:41.887834Z",
     "iopub.status.busy": "2025-07-30T21:35:41.886921Z",
     "iopub.status.idle": "2025-07-30T21:35:41.898261Z",
     "shell.execute_reply": "2025-07-30T21:35:41.897333Z"
    },
    "papermill": {
     "duration": 0.029917,
     "end_time": "2025-07-30T21:35:41.900209",
     "exception": false,
     "start_time": "2025-07-30T21:35:41.870292",
     "status": "completed"
    },
    "tags": []
   },
   "outputs": [],
   "source": [
    "subgroups = ['frau1','nongerman','nongerman_male','nongerman_female']\n",
    "\n",
    "# Conditional coverage for subgroup==1\n",
    "cond_coverage = {\n",
    "    g: cp_groups_df.loc[cp_groups_df[g]==1, 'covered'].mean()\n",
    "    for g in subgroups\n",
    "}"
   ]
  },
  {
   "cell_type": "code",
   "execution_count": 69,
   "id": "1e348fb1-b9c3-45bc-ba23-f016827a7e0d",
   "metadata": {
    "execution": {
     "iopub.execute_input": "2025-07-30T21:35:41.958539Z",
     "iopub.status.busy": "2025-07-30T21:35:41.957460Z",
     "iopub.status.idle": "2025-07-30T21:35:41.965633Z",
     "shell.execute_reply": "2025-07-30T21:35:41.964491Z"
    },
    "papermill": {
     "duration": 0.036886,
     "end_time": "2025-07-30T21:35:41.967728",
     "exception": false,
     "start_time": "2025-07-30T21:35:41.930842",
     "status": "completed"
    },
    "tags": []
   },
   "outputs": [
    {
     "data": {
      "text/plain": [
       "{'frau1': 0.9172664779619895,\n",
       " 'nongerman': 0.9128726211194071,\n",
       " 'nongerman_male': 0.924614968927317,\n",
       " 'nongerman_female': 0.8934426229508197}"
      ]
     },
     "execution_count": 69,
     "metadata": {},
     "output_type": "execute_result"
    }
   ],
   "source": [
    "cond_coverage"
   ]
  },
  {
   "cell_type": "code",
   "execution_count": 70,
   "id": "f5093324-c3dd-4d63-bc4c-8d945e5c8bbb",
   "metadata": {
    "execution": {
     "iopub.execute_input": "2025-07-30T21:35:42.030088Z",
     "iopub.status.busy": "2025-07-30T21:35:42.029621Z",
     "iopub.status.idle": "2025-07-30T21:35:42.040111Z",
     "shell.execute_reply": "2025-07-30T21:35:42.036322Z"
    },
    "papermill": {
     "duration": 0.043705,
     "end_time": "2025-07-30T21:35:42.042047",
     "exception": false,
     "start_time": "2025-07-30T21:35:41.998342",
     "status": "completed"
    },
    "tags": []
   },
   "outputs": [],
   "source": [
    "for subgroup, cov in cond_coverage.items():\n",
    "    cp_metrics_df[f\"cov_{subgroup}\"] = cov"
   ]
  },
  {
   "cell_type": "code",
   "execution_count": 71,
   "id": "6e872e10-dbe5-49e8-b554-5030c98ff75d",
   "metadata": {
    "execution": {
     "iopub.execute_input": "2025-07-30T21:35:42.104759Z",
     "iopub.status.busy": "2025-07-30T21:35:42.104216Z",
     "iopub.status.idle": "2025-07-30T21:35:42.126784Z",
     "shell.execute_reply": "2025-07-30T21:35:42.125635Z"
    },
    "papermill": {
     "duration": 0.056533,
     "end_time": "2025-07-30T21:35:42.128691",
     "exception": false,
     "start_time": "2025-07-30T21:35:42.072158",
     "status": "completed"
    },
    "tags": []
   },
   "outputs": [
    {
     "data": {
      "text/html": [
       "<div>\n",
       "<style scoped>\n",
       "    .dataframe tbody tr th:only-of-type {\n",
       "        vertical-align: middle;\n",
       "    }\n",
       "\n",
       "    .dataframe tbody tr th {\n",
       "        vertical-align: top;\n",
       "    }\n",
       "\n",
       "    .dataframe thead th {\n",
       "        text-align: right;\n",
       "    }\n",
       "</style>\n",
       "<table border=\"1\" class=\"dataframe\">\n",
       "  <thead>\n",
       "    <tr style=\"text-align: right;\">\n",
       "      <th></th>\n",
       "      <th>universe_id</th>\n",
       "      <th>universe_training_year</th>\n",
       "      <th>universe_training_size</th>\n",
       "      <th>universe_scale</th>\n",
       "      <th>universe_model</th>\n",
       "      <th>universe_exclude_features</th>\n",
       "      <th>universe_exclude_subgroups</th>\n",
       "      <th>q_hat</th>\n",
       "      <th>coverage</th>\n",
       "      <th>avg_size</th>\n",
       "      <th>cov_frau1</th>\n",
       "      <th>cov_nongerman</th>\n",
       "      <th>cov_nongerman_male</th>\n",
       "      <th>cov_nongerman_female</th>\n",
       "    </tr>\n",
       "  </thead>\n",
       "  <tbody>\n",
       "    <tr>\n",
       "      <th>0</th>\n",
       "      <td>17043e959b64585628a5578bd40196a6</td>\n",
       "      <td>2012_14</td>\n",
       "      <td>1k</td>\n",
       "      <td>scale</td>\n",
       "      <td>rf</td>\n",
       "      <td>sex</td>\n",
       "      <td>drop-non-german</td>\n",
       "      <td>0.67</td>\n",
       "      <td>0.916107</td>\n",
       "      <td>1.180147</td>\n",
       "      <td>0.917266</td>\n",
       "      <td>0.912873</td>\n",
       "      <td>0.924615</td>\n",
       "      <td>0.893443</td>\n",
       "    </tr>\n",
       "  </tbody>\n",
       "</table>\n",
       "</div>"
      ],
      "text/plain": [
       "                        universe_id universe_training_year  \\\n",
       "0  17043e959b64585628a5578bd40196a6                2012_14   \n",
       "\n",
       "  universe_training_size universe_scale universe_model  \\\n",
       "0                     1k          scale             rf   \n",
       "\n",
       "  universe_exclude_features universe_exclude_subgroups  q_hat  coverage  \\\n",
       "0                       sex            drop-non-german   0.67  0.916107   \n",
       "\n",
       "   avg_size  cov_frau1  cov_nongerman  cov_nongerman_male  \\\n",
       "0  1.180147   0.917266       0.912873            0.924615   \n",
       "\n",
       "   cov_nongerman_female  \n",
       "0              0.893443  "
      ]
     },
     "execution_count": 71,
     "metadata": {},
     "output_type": "execute_result"
    }
   ],
   "source": [
    "cp_metrics_df"
   ]
  },
  {
   "cell_type": "markdown",
   "id": "33774451",
   "metadata": {
    "papermill": {
     "duration": 0.029549,
     "end_time": "2025-07-30T21:35:42.189722",
     "exception": false,
     "start_time": "2025-07-30T21:35:42.160173",
     "status": "completed"
    },
    "tags": []
   },
   "source": [
    "# (Fairness) Metrics"
   ]
  },
  {
   "cell_type": "code",
   "execution_count": 72,
   "id": "debc5d62",
   "metadata": {
    "execution": {
     "iopub.execute_input": "2025-07-30T21:35:42.250538Z",
     "iopub.status.busy": "2025-07-30T21:35:42.249601Z",
     "iopub.status.idle": "2025-07-30T21:35:42.275158Z",
     "shell.execute_reply": "2025-07-30T21:35:42.273765Z"
    },
    "papermill": {
     "duration": 0.058142,
     "end_time": "2025-07-30T21:35:42.277668",
     "exception": false,
     "start_time": "2025-07-30T21:35:42.219526",
     "status": "completed"
    },
    "tags": []
   },
   "outputs": [],
   "source": [
    "# do I need to include maxdeutsch1.missing?\n",
    "\n",
    "import numpy as np\n",
    "\n",
    "colname_to_bin = \"maxdeutsch1\"\n",
    "majority_value = org_train[colname_to_bin].mode()[0]\n",
    "\n",
    "org_test[\"majmin\"] = np.where(org_test[colname_to_bin] == majority_value, \"majority\", \"minority\")"
   ]
  },
  {
   "cell_type": "code",
   "execution_count": 73,
   "id": "06a50de5",
   "metadata": {
    "execution": {
     "iopub.execute_input": "2025-07-30T21:35:42.353834Z",
     "iopub.status.busy": "2025-07-30T21:35:42.353081Z",
     "iopub.status.idle": "2025-07-30T21:35:45.121776Z",
     "shell.execute_reply": "2025-07-30T21:35:45.120688Z"
    },
    "papermill": {
     "duration": 2.814484,
     "end_time": "2025-07-30T21:35:45.129430",
     "exception": false,
     "start_time": "2025-07-30T21:35:42.314946",
     "status": "completed"
    },
    "tags": []
   },
   "outputs": [],
   "source": [
    "example_universe = universe.copy()\n",
    "example_universe[\"cutoff\"] = example_universe[\"cutoff\"][0]\n",
    "example_universe[\"eval_fairness_grouping\"] = example_universe[\"eval_fairness_grouping\"][0]\n",
    "fairness_dict, metric_frame = universe_analysis.compute_metrics(\n",
    "    example_universe,\n",
    "    y_pred_prob=probs_test,\n",
    "    y_test=y_true,\n",
    "    org_test=org_test,\n",
    ")"
   ]
  },
  {
   "cell_type": "markdown",
   "id": "f95d4e02",
   "metadata": {
    "papermill": {
     "duration": 0.025904,
     "end_time": "2025-07-30T21:35:45.181627",
     "exception": false,
     "start_time": "2025-07-30T21:35:45.155723",
     "status": "completed"
    },
    "tags": []
   },
   "source": [
    "# Overall"
   ]
  },
  {
   "cell_type": "markdown",
   "id": "bdee4871",
   "metadata": {
    "papermill": {
     "duration": 0.026176,
     "end_time": "2025-07-30T21:35:45.233538",
     "exception": false,
     "start_time": "2025-07-30T21:35:45.207362",
     "status": "completed"
    },
    "tags": []
   },
   "source": [
    "Fairness\n",
    "Main fairness target: Equalized Odds. Seems to be a better fit than equal opportunity, since we're not only interested in Y = 1. Seems to be a better fit than demographic parity, since we also care about accuracy, not just equal distribution of preds.\n",
    "\n",
    "Pick column for computation of fairness metrics\n",
    "\n",
    "Performance\n",
    "Overall performance measures, most interesting in relation to the measures split by group below"
   ]
  },
  {
   "cell_type": "code",
   "execution_count": 74,
   "id": "c4e067c6",
   "metadata": {
    "execution": {
     "iopub.execute_input": "2025-07-30T21:35:45.285180Z",
     "iopub.status.busy": "2025-07-30T21:35:45.284637Z",
     "iopub.status.idle": "2025-07-30T21:35:45.296100Z",
     "shell.execute_reply": "2025-07-30T21:35:45.294486Z"
    },
    "papermill": {
     "duration": 0.039846,
     "end_time": "2025-07-30T21:35:45.298198",
     "exception": false,
     "start_time": "2025-07-30T21:35:45.258352",
     "status": "completed"
    },
    "tags": []
   },
   "outputs": [
    {
     "data": {
      "text/plain": [
       "accuracy                   0.218493\n",
       "balanced accuracy          0.543889\n",
       "f1                         0.243708\n",
       "precision                  0.139125\n",
       "false positive rate        0.893801\n",
       "false negative rate        0.018422\n",
       "selection rate             0.905061\n",
       "count                  89710.000000\n",
       "dtype: float64"
      ]
     },
     "execution_count": 74,
     "metadata": {},
     "output_type": "execute_result"
    }
   ],
   "source": [
    "metric_frame.overall"
   ]
  },
  {
   "cell_type": "markdown",
   "id": "e968fe9d",
   "metadata": {
    "papermill": {
     "duration": 0.025503,
     "end_time": "2025-07-30T21:35:45.351643",
     "exception": false,
     "start_time": "2025-07-30T21:35:45.326140",
     "status": "completed"
    },
    "tags": []
   },
   "source": [
    "By Group"
   ]
  },
  {
   "cell_type": "code",
   "execution_count": 75,
   "id": "ec325bce",
   "metadata": {
    "execution": {
     "iopub.execute_input": "2025-07-30T21:35:45.407015Z",
     "iopub.status.busy": "2025-07-30T21:35:45.406633Z",
     "iopub.status.idle": "2025-07-30T21:35:45.424954Z",
     "shell.execute_reply": "2025-07-30T21:35:45.423939Z"
    },
    "papermill": {
     "duration": 0.047317,
     "end_time": "2025-07-30T21:35:45.426999",
     "exception": false,
     "start_time": "2025-07-30T21:35:45.379682",
     "status": "completed"
    },
    "tags": []
   },
   "outputs": [
    {
     "data": {
      "text/html": [
       "<div>\n",
       "<style scoped>\n",
       "    .dataframe tbody tr th:only-of-type {\n",
       "        vertical-align: middle;\n",
       "    }\n",
       "\n",
       "    .dataframe tbody tr th {\n",
       "        vertical-align: top;\n",
       "    }\n",
       "\n",
       "    .dataframe thead th {\n",
       "        text-align: right;\n",
       "    }\n",
       "</style>\n",
       "<table border=\"1\" class=\"dataframe\">\n",
       "  <thead>\n",
       "    <tr style=\"text-align: right;\">\n",
       "      <th></th>\n",
       "      <th>accuracy</th>\n",
       "      <th>balanced accuracy</th>\n",
       "      <th>f1</th>\n",
       "      <th>precision</th>\n",
       "      <th>false positive rate</th>\n",
       "      <th>false negative rate</th>\n",
       "      <th>selection rate</th>\n",
       "      <th>count</th>\n",
       "    </tr>\n",
       "    <tr>\n",
       "      <th>majmin</th>\n",
       "      <th></th>\n",
       "      <th></th>\n",
       "      <th></th>\n",
       "      <th></th>\n",
       "      <th></th>\n",
       "      <th></th>\n",
       "      <th></th>\n",
       "      <th></th>\n",
       "    </tr>\n",
       "  </thead>\n",
       "  <tbody>\n",
       "    <tr>\n",
       "      <th>majority</th>\n",
       "      <td>0.230071</td>\n",
       "      <td>0.548584</td>\n",
       "      <td>0.252001</td>\n",
       "      <td>0.144558</td>\n",
       "      <td>0.884341</td>\n",
       "      <td>0.018490</td>\n",
       "      <td>0.897181</td>\n",
       "      <td>69170.0</td>\n",
       "    </tr>\n",
       "    <tr>\n",
       "      <th>minority</th>\n",
       "      <td>0.179503</td>\n",
       "      <td>0.528396</td>\n",
       "      <td>0.216249</td>\n",
       "      <td>0.121505</td>\n",
       "      <td>0.925050</td>\n",
       "      <td>0.018159</td>\n",
       "      <td>0.931597</td>\n",
       "      <td>20540.0</td>\n",
       "    </tr>\n",
       "  </tbody>\n",
       "</table>\n",
       "</div>"
      ],
      "text/plain": [
       "          accuracy  balanced accuracy        f1  precision  \\\n",
       "majmin                                                       \n",
       "majority  0.230071           0.548584  0.252001   0.144558   \n",
       "minority  0.179503           0.528396  0.216249   0.121505   \n",
       "\n",
       "          false positive rate  false negative rate  selection rate    count  \n",
       "majmin                                                                       \n",
       "majority             0.884341             0.018490        0.897181  69170.0  \n",
       "minority             0.925050             0.018159        0.931597  20540.0  "
      ]
     },
     "execution_count": 75,
     "metadata": {},
     "output_type": "execute_result"
    }
   ],
   "source": [
    "metric_frame.by_group"
   ]
  },
  {
   "cell_type": "code",
   "execution_count": 76,
   "id": "a9ddbe63",
   "metadata": {
    "execution": {
     "iopub.execute_input": "2025-07-30T21:35:45.482854Z",
     "iopub.status.busy": "2025-07-30T21:35:45.482435Z",
     "iopub.status.idle": "2025-07-30T21:35:47.916473Z",
     "shell.execute_reply": "2025-07-30T21:35:47.915390Z"
    },
    "papermill": {
     "duration": 2.462767,
     "end_time": "2025-07-30T21:35:47.918135",
     "exception": false,
     "start_time": "2025-07-30T21:35:45.455368",
     "status": "completed"
    },
    "tags": []
   },
   "outputs": [
    {
     "data": {
      "text/plain": [
       "array([[<Axes: title={'center': 'accuracy'}, xlabel='majmin'>,\n",
       "        <Axes: title={'center': 'balanced accuracy'}, xlabel='majmin'>,\n",
       "        <Axes: title={'center': 'f1'}, xlabel='majmin'>],\n",
       "       [<Axes: title={'center': 'precision'}, xlabel='majmin'>,\n",
       "        <Axes: title={'center': 'false positive rate'}, xlabel='majmin'>,\n",
       "        <Axes: title={'center': 'false negative rate'}, xlabel='majmin'>],\n",
       "       [<Axes: title={'center': 'selection rate'}, xlabel='majmin'>,\n",
       "        <Axes: title={'center': 'count'}, xlabel='majmin'>,\n",
       "        <Axes: xlabel='majmin'>]], dtype=object)"
      ]
     },
     "execution_count": 76,
     "metadata": {},
     "output_type": "execute_result"
    },
    {
     "data": {
      "image/png": "[encoded data removed]",
      "text/plain": [
       "<Figure size 1200x800 with 9 Axes>"
      ]
     },
     "metadata": {},
     "output_type": "display_data"
    }
   ],
   "source": [
    "# In a graphic\n",
    "metric_frame.by_group.plot.bar(\n",
    "    subplots=True,\n",
    "    layout=[3, 3],\n",
    "    legend=False,\n",
    "    figsize=[12, 8],\n",
    "    title=\"Show all metrics\",\n",
    ")"
   ]
  },
  {
   "cell_type": "markdown",
   "id": "f57a0bac",
   "metadata": {
    "papermill": {
     "duration": 0.027848,
     "end_time": "2025-07-30T21:35:47.975402",
     "exception": false,
     "start_time": "2025-07-30T21:35:47.947554",
     "status": "completed"
    },
    "tags": []
   },
   "source": [
    "# Final Output"
   ]
  },
  {
   "cell_type": "code",
   "execution_count": 77,
   "id": "96d280a3",
   "metadata": {
    "execution": {
     "iopub.execute_input": "2025-07-30T21:35:48.032372Z",
     "iopub.status.busy": "2025-07-30T21:35:48.031704Z",
     "iopub.status.idle": "2025-07-30T21:35:48.039885Z",
     "shell.execute_reply": "2025-07-30T21:35:48.038971Z"
    },
    "papermill": {
     "duration": 0.038628,
     "end_time": "2025-07-30T21:35:48.041812",
     "exception": false,
     "start_time": "2025-07-30T21:35:48.003184",
     "status": "completed"
    },
    "tags": []
   },
   "outputs": [
    {
     "data": {
      "text/plain": [
       "4"
      ]
     },
     "execution_count": 77,
     "metadata": {},
     "output_type": "execute_result"
    }
   ],
   "source": [
    "sub_universes = universe_analysis.generate_sub_universes()\n",
    "len(sub_universes)"
   ]
  },
  {
   "cell_type": "code",
   "execution_count": 78,
   "id": "92adf7ba",
   "metadata": {
    "execution": {
     "iopub.execute_input": "2025-07-30T21:35:48.109669Z",
     "iopub.status.busy": "2025-07-30T21:35:48.108884Z",
     "iopub.status.idle": "2025-07-30T21:35:48.116045Z",
     "shell.execute_reply": "2025-07-30T21:35:48.114808Z"
    },
    "papermill": {
     "duration": 0.043681,
     "end_time": "2025-07-30T21:35:48.118242",
     "exception": false,
     "start_time": "2025-07-30T21:35:48.074561",
     "status": "completed"
    },
    "tags": []
   },
   "outputs": [],
   "source": [
    "def filter_sub_universe_data(sub_universe, org_test):\n",
    "    # Keep all rows — no filtering\n",
    "    keep_rows_mask = np.ones(org_test.shape[0], dtype=bool)\n",
    "\n",
    "    print(f\"[INFO] Keeping all rows: {keep_rows_mask.sum()} rows retained.\")\n",
    "    return keep_rows_mask"
   ]
  },
  {
   "cell_type": "code",
   "execution_count": 79,
   "id": "4a759155",
   "metadata": {
    "execution": {
     "iopub.execute_input": "2025-07-30T21:35:48.184713Z",
     "iopub.status.busy": "2025-07-30T21:35:48.183981Z",
     "iopub.status.idle": "2025-07-30T21:35:57.843420Z",
     "shell.execute_reply": "2025-07-30T21:35:57.842281Z"
    },
    "papermill": {
     "duration": 9.69452,
     "end_time": "2025-07-30T21:35:57.845549",
     "exception": false,
     "start_time": "2025-07-30T21:35:48.151029",
     "status": "completed"
    },
    "tags": []
   },
   "outputs": [
    {
     "name": "stdout",
     "output_type": "stream",
     "text": [
      "Stopping execution_time clock.\n",
      "[INFO] Keeping all rows: 89710 rows retained.\n"
     ]
    },
    {
     "name": "stdout",
     "output_type": "stream",
     "text": [
      "[INFO] Keeping all rows: 89710 rows retained.\n"
     ]
    },
    {
     "name": "stdout",
     "output_type": "stream",
     "text": [
      "[INFO] Keeping all rows: 89710 rows retained.\n"
     ]
    },
    {
     "name": "stdout",
     "output_type": "stream",
     "text": [
      "[INFO] Keeping all rows: 89710 rows retained.\n"
     ]
    },
    {
     "data": {
      "text/html": [
       "<div>\n",
       "<style scoped>\n",
       "    .dataframe tbody tr th:only-of-type {\n",
       "        vertical-align: middle;\n",
       "    }\n",
       "\n",
       "    .dataframe tbody tr th {\n",
       "        vertical-align: top;\n",
       "    }\n",
       "\n",
       "    .dataframe thead th {\n",
       "        text-align: right;\n",
       "    }\n",
       "</style>\n",
       "<table border=\"1\" class=\"dataframe\">\n",
       "  <thead>\n",
       "    <tr style=\"text-align: right;\">\n",
       "      <th></th>\n",
       "      <th>run_no</th>\n",
       "      <th>universe_id</th>\n",
       "      <th>universe_settings</th>\n",
       "      <th>execution_time</th>\n",
       "      <th>test_size_n</th>\n",
       "      <th>test_size_frac</th>\n",
       "      <th>fair_main_equalized_odds_difference</th>\n",
       "      <th>fair_main_equalized_odds_ratio</th>\n",
       "      <th>fair_main_demographic_parity_difference</th>\n",
       "      <th>fair_main_demographic_parity_ratio</th>\n",
       "      <th>...</th>\n",
       "      <th>perf_grp_precision_0</th>\n",
       "      <th>perf_grp_precision_1</th>\n",
       "      <th>perf_grp_false positive rate_0</th>\n",
       "      <th>perf_grp_false positive rate_1</th>\n",
       "      <th>perf_grp_false negative rate_0</th>\n",
       "      <th>perf_grp_false negative rate_1</th>\n",
       "      <th>perf_grp_selection rate_0</th>\n",
       "      <th>perf_grp_selection rate_1</th>\n",
       "      <th>perf_grp_count_0</th>\n",
       "      <th>perf_grp_count_1</th>\n",
       "    </tr>\n",
       "  </thead>\n",
       "  <tbody>\n",
       "    <tr>\n",
       "      <th>0</th>\n",
       "      <td>14</td>\n",
       "      <td>17043e959b64585628a5578bd40196a6</td>\n",
       "      <td>{\"cutoff\": \"quantile_0.1\", \"eval_fairness_grou...</td>\n",
       "      <td>31.266742</td>\n",
       "      <td>89710</td>\n",
       "      <td>1.0</td>\n",
       "      <td>0.040708</td>\n",
       "      <td>0.955993</td>\n",
       "      <td>0.034416</td>\n",
       "      <td>0.963057</td>\n",
       "      <td>...</td>\n",
       "      <td>NaN</td>\n",
       "      <td>NaN</td>\n",
       "      <td>NaN</td>\n",
       "      <td>NaN</td>\n",
       "      <td>NaN</td>\n",
       "      <td>NaN</td>\n",
       "      <td>NaN</td>\n",
       "      <td>NaN</td>\n",
       "      <td>NaN</td>\n",
       "      <td>NaN</td>\n",
       "    </tr>\n",
       "    <tr>\n",
       "      <th>0</th>\n",
       "      <td>14</td>\n",
       "      <td>17043e959b64585628a5578bd40196a6</td>\n",
       "      <td>{\"cutoff\": \"quantile_0.1\", \"eval_fairness_grou...</td>\n",
       "      <td>31.266742</td>\n",
       "      <td>89710</td>\n",
       "      <td>1.0</td>\n",
       "      <td>0.040708</td>\n",
       "      <td>0.955993</td>\n",
       "      <td>0.034416</td>\n",
       "      <td>0.963057</td>\n",
       "      <td>...</td>\n",
       "      <td>0.121505</td>\n",
       "      <td>0.144558</td>\n",
       "      <td>0.925050</td>\n",
       "      <td>0.884341</td>\n",
       "      <td>0.018159</td>\n",
       "      <td>0.018490</td>\n",
       "      <td>0.931597</td>\n",
       "      <td>0.897181</td>\n",
       "      <td>20540.0</td>\n",
       "      <td>69170.0</td>\n",
       "    </tr>\n",
       "    <tr>\n",
       "      <th>0</th>\n",
       "      <td>14</td>\n",
       "      <td>17043e959b64585628a5578bd40196a6</td>\n",
       "      <td>{\"cutoff\": \"quantile_0.25\", \"eval_fairness_gro...</td>\n",
       "      <td>31.266742</td>\n",
       "      <td>89710</td>\n",
       "      <td>1.0</td>\n",
       "      <td>0.092060</td>\n",
       "      <td>0.885886</td>\n",
       "      <td>0.075130</td>\n",
       "      <td>0.908271</td>\n",
       "      <td>...</td>\n",
       "      <td>NaN</td>\n",
       "      <td>NaN</td>\n",
       "      <td>NaN</td>\n",
       "      <td>NaN</td>\n",
       "      <td>NaN</td>\n",
       "      <td>NaN</td>\n",
       "      <td>NaN</td>\n",
       "      <td>NaN</td>\n",
       "      <td>NaN</td>\n",
       "      <td>NaN</td>\n",
       "    </tr>\n",
       "    <tr>\n",
       "      <th>0</th>\n",
       "      <td>14</td>\n",
       "      <td>17043e959b64585628a5578bd40196a6</td>\n",
       "      <td>{\"cutoff\": \"quantile_0.25\", \"eval_fairness_gro...</td>\n",
       "      <td>31.266742</td>\n",
       "      <td>89710</td>\n",
       "      <td>1.0</td>\n",
       "      <td>0.092060</td>\n",
       "      <td>0.885886</td>\n",
       "      <td>0.075130</td>\n",
       "      <td>0.908271</td>\n",
       "      <td>...</td>\n",
       "      <td>0.128574</td>\n",
       "      <td>0.166239</td>\n",
       "      <td>0.806736</td>\n",
       "      <td>0.714676</td>\n",
       "      <td>0.086571</td>\n",
       "      <td>0.064114</td>\n",
       "      <td>0.819036</td>\n",
       "      <td>0.743906</td>\n",
       "      <td>20540.0</td>\n",
       "      <td>69170.0</td>\n",
       "    </tr>\n",
       "  </tbody>\n",
       "</table>\n",
       "<p>4 rows × 50 columns</p>\n",
       "</div>"
      ],
      "text/plain": [
       "  run_no                       universe_id  \\\n",
       "0     14  17043e959b64585628a5578bd40196a6   \n",
       "0     14  17043e959b64585628a5578bd40196a6   \n",
       "0     14  17043e959b64585628a5578bd40196a6   \n",
       "0     14  17043e959b64585628a5578bd40196a6   \n",
       "\n",
       "                                   universe_settings  execution_time  \\\n",
       "0  {\"cutoff\": \"quantile_0.1\", \"eval_fairness_grou...       31.266742   \n",
       "0  {\"cutoff\": \"quantile_0.1\", \"eval_fairness_grou...       31.266742   \n",
       "0  {\"cutoff\": \"quantile_0.25\", \"eval_fairness_gro...       31.266742   \n",
       "0  {\"cutoff\": \"quantile_0.25\", \"eval_fairness_gro...       31.266742   \n",
       "\n",
       "   test_size_n  test_size_frac  fair_main_equalized_odds_difference  \\\n",
       "0        89710             1.0                             0.040708   \n",
       "0        89710             1.0                             0.040708   \n",
       "0        89710             1.0                             0.092060   \n",
       "0        89710             1.0                             0.092060   \n",
       "\n",
       "   fair_main_equalized_odds_ratio  fair_main_demographic_parity_difference  \\\n",
       "0                        0.955993                                 0.034416   \n",
       "0                        0.955993                                 0.034416   \n",
       "0                        0.885886                                 0.075130   \n",
       "0                        0.885886                                 0.075130   \n",
       "\n",
       "   fair_main_demographic_parity_ratio  ...  perf_grp_precision_0  \\\n",
       "0                            0.963057  ...                   NaN   \n",
       "0                            0.963057  ...              0.121505   \n",
       "0                            0.908271  ...                   NaN   \n",
       "0                            0.908271  ...              0.128574   \n",
       "\n",
       "   perf_grp_precision_1  perf_grp_false positive rate_0  \\\n",
       "0                   NaN                             NaN   \n",
       "0              0.144558                        0.925050   \n",
       "0                   NaN                             NaN   \n",
       "0              0.166239                        0.806736   \n",
       "\n",
       "   perf_grp_false positive rate_1  perf_grp_false negative rate_0  \\\n",
       "0                             NaN                             NaN   \n",
       "0                        0.884341                        0.018159   \n",
       "0                             NaN                             NaN   \n",
       "0                        0.714676                        0.086571   \n",
       "\n",
       "   perf_grp_false negative rate_1  perf_grp_selection rate_0  \\\n",
       "0                             NaN                        NaN   \n",
       "0                        0.018490                   0.931597   \n",
       "0                             NaN                        NaN   \n",
       "0                        0.064114                   0.819036   \n",
       "\n",
       "   perf_grp_selection rate_1  perf_grp_count_0  perf_grp_count_1  \n",
       "0                        NaN               NaN               NaN  \n",
       "0                   0.897181           20540.0           69170.0  \n",
       "0                        NaN               NaN               NaN  \n",
       "0                   0.743906           20540.0           69170.0  \n",
       "\n",
       "[4 rows x 50 columns]"
      ]
     },
     "execution_count": 79,
     "metadata": {},
     "output_type": "execute_result"
    }
   ],
   "source": [
    "final_output = universe_analysis.generate_final_output(\n",
    "    y_pred_prob=probs_test,\n",
    "    y_test=y_true,\n",
    "    org_test=org_test,\n",
    "    filter_data=filter_sub_universe_data,\n",
    "    cp_metrics_df=cp_metrics_df,\n",
    "    save=True,\n",
    ")\n",
    "final_output"
   ]
  },
  {
   "cell_type": "code",
   "execution_count": null,
   "id": "721ff514-cb11-46f8-b6fc-50392f74b5cb",
   "metadata": {
    "papermill": {
     "duration": 0.037628,
     "end_time": "2025-07-30T21:35:57.927424",
     "exception": false,
     "start_time": "2025-07-30T21:35:57.889796",
     "status": "completed"
    },
    "tags": []
   },
   "outputs": [],
   "source": []
  }
 ],
 "metadata": {
  "celltoolbar": "Tags",
  "kernelspec": {
   "display_name": "Python (CMA Fairness)",
   "language": "python",
   "name": "cma_fair_env"
  },
  "language_info": {
   "codemirror_mode": {
    "name": "ipython",
    "version": 3
   },
   "file_extension": ".py",
   "mimetype": "text/x-python",
   "name": "python",
   "nbconvert_exporter": "python",
   "pygments_lexer": "ipython3",
   "version": "3.10.12"
  },
  "papermill": {
   "default_parameters": {},
   "duration": 46.703107,
   "end_time": "2025-07-30T21:35:59.006147",
   "environment_variables": {},
   "exception": null,
   "input_path": "universe_analysis.ipynb",
   "output_path": "output/runs/14/notebooks/m_14-17043e959b64585628a5578bd40196a6.ipynb",
   "parameters": {
    "output_dir": "output",
    "run_no": "14",
    "seed": "2023",
    "universe": "{\"cutoff\": [\"quantile_0.1\", \"quantile_0.25\"], \"eval_fairness_grouping\": [\"majority-minority\", \"nationality-all\"], \"exclude_features\": \"sex\", \"exclude_subgroups\": \"drop-non-german\", \"model\": \"rf\", \"scale\": \"scale\", \"training_size\": \"1k\", \"training_year\": \"2012_14\"}",
    "universe_id": "17043e959b64585628a5578bd40196a6"
   },
   "start_time": "2025-07-30T21:35:12.303040",
   "version": "2.6.0"
  }
 },
 "nbformat": 4,
 "nbformat_minor": 5
}