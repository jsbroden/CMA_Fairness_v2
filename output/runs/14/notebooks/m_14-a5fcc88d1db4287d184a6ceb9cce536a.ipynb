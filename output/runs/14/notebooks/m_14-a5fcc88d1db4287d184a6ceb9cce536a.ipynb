{
 "cells": [
  {
   "cell_type": "code",
   "execution_count": 1,
   "id": "f159f837-637b-42ba-96b5-ec9a68c44524",
   "metadata": {
    "execution": {
     "iopub.execute_input": "2025-07-30T20:54:42.110933Z",
     "iopub.status.busy": "2025-07-30T20:54:42.110405Z",
     "iopub.status.idle": "2025-07-30T20:54:42.123971Z",
     "shell.execute_reply": "2025-07-30T20:54:42.123025Z"
    },
    "papermill": {
     "duration": 0.039055,
     "end_time": "2025-07-30T20:54:42.125659",
     "exception": false,
     "start_time": "2025-07-30T20:54:42.086604",
     "status": "completed"
    },
    "tags": []
   },
   "outputs": [
    {
     "name": "stdout",
     "output_type": "stream",
     "text": [
      "/dss/dsshome1/0C/ra93lal2/cma/CMA_Fairness_v2\n"
     ]
    },
    {
     "name": "stderr",
     "output_type": "stream",
     "text": [
      "/dss/dsshome1/0C/ra93lal2/.local/share/virtualenvs/CMA_Fairness_v2-3j10GkSs/lib/python3.10/site-packages/IPython/core/magics/osm.py:393: UserWarning: This is now an optional IPython functionality, using bookmarks requires you to install the `pickleshare` library.\n",
      "  bkms = self.shell.db.get('bookmarks', {})\n",
      "/dss/dsshome1/0C/ra93lal2/.local/share/virtualenvs/CMA_Fairness_v2-3j10GkSs/lib/python3.10/site-packages/IPython/core/magics/osm.py:417: UserWarning: This is now an optional IPython functionality, setting dhist requires you to install the `pickleshare` library.\n",
      "  self.shell.db['dhist'] = compress_dhist(dhist)[-100:]\n"
     ]
    }
   ],
   "source": [
    "%cd ~/cma/CMA_Fairness_v2"
   ]
  },
  {
   "cell_type": "markdown",
   "id": "de2603b9",
   "metadata": {
    "papermill": {
     "duration": 0.018392,
     "end_time": "2025-07-30T20:54:42.163784",
     "exception": false,
     "start_time": "2025-07-30T20:54:42.145392",
     "status": "completed"
    },
    "tags": []
   },
   "source": [
    "The following cell holds the definition of our parameters, these values can be overriden by rendering the with e.g. the following command:\n",
    "\n",
    "papermill -p alpha 0.2 -p ratio 0.3 universe_analysis.ipynb output/test_run.ipynb"
   ]
  },
  {
   "cell_type": "code",
   "execution_count": 2,
   "id": "a80968a0-40bb-4fa9-85ef-2d5eefb01975",
   "metadata": {
    "execution": {
     "iopub.execute_input": "2025-07-30T20:54:42.206558Z",
     "iopub.status.busy": "2025-07-30T20:54:42.205674Z",
     "iopub.status.idle": "2025-07-30T20:54:42.211930Z",
     "shell.execute_reply": "2025-07-30T20:54:42.210942Z"
    },
    "papermill": {
     "duration": 0.029018,
     "end_time": "2025-07-30T20:54:42.213781",
     "exception": false,
     "start_time": "2025-07-30T20:54:42.184763",
     "status": "completed"
    },
    "tags": []
   },
   "outputs": [
    {
     "name": "stdout",
     "output_type": "stream",
     "text": [
      "Current working directory: /dss/dsshome1/0C/ra93lal2/cma/CMA_Fairness_v2\n"
     ]
    }
   ],
   "source": [
    "import os\n",
    "print(\"Current working directory:\", os.getcwd())"
   ]
  },
  {
   "cell_type": "code",
   "execution_count": 3,
   "id": "2dce4c03",
   "metadata": {
    "execution": {
     "iopub.execute_input": "2025-07-30T20:54:42.257047Z",
     "iopub.status.busy": "2025-07-30T20:54:42.256559Z",
     "iopub.status.idle": "2025-07-30T20:54:42.262636Z",
     "shell.execute_reply": "2025-07-30T20:54:42.261709Z"
    },
    "papermill": {
     "duration": 0.030131,
     "end_time": "2025-07-30T20:54:42.264333",
     "exception": false,
     "start_time": "2025-07-30T20:54:42.234202",
     "status": "completed"
    },
    "tags": [
     "parameters"
    ]
   },
   "outputs": [],
   "source": [
    "run_no = 0\n",
    "universe_id = \"test\"\n",
    "universe = {\n",
    "    \"training_size\": \"25k\", # \"25k\", \"5k\", \"1k\"\n",
    "    \"training_year\": \"2014\", # \"2014\", \"2012_14\", \"2010_14\"\n",
    "    \"scale\": \"scale\", # \"scale\", \"do-not-scale\",\n",
    "    #\"stratify_split\": \"target\", # \"none\", \"target\", \"protected-attribute\", \"both\",\n",
    "    \"model\": \"elasticnet\", # \"logreg\", \"penalized_logreg\", \"rf\", \"gbm\", \"elasticnet\"\n",
    "    \"cutoff\": [\"quantile_0.15\", \"quantile_0.30\"],\n",
    "    \"exclude_features\": \"age\", # \"none\", \"nationality\", \"sex\", \"nationality-sex\", \"age\"\n",
    "    \"exclude_subgroups\": \"keep-all\", # \"keep-all\", \"drop-non-german\"\n",
    "    \"eval_fairness_grouping\": [\"majority-minority\", \"nationality-all\"]\n",
    "}\n",
    "\n",
    "output_dir=\"./output\"\n",
    "seed=0"
   ]
  },
  {
   "cell_type": "code",
   "execution_count": 4,
   "id": "74476b73",
   "metadata": {
    "execution": {
     "iopub.execute_input": "2025-07-30T20:54:42.307792Z",
     "iopub.status.busy": "2025-07-30T20:54:42.307168Z",
     "iopub.status.idle": "2025-07-30T20:54:42.312709Z",
     "shell.execute_reply": "2025-07-30T20:54:42.311692Z"
    },
    "papermill": {
     "duration": 0.028717,
     "end_time": "2025-07-30T20:54:42.314610",
     "exception": false,
     "start_time": "2025-07-30T20:54:42.285893",
     "status": "completed"
    },
    "tags": [
     "injected-parameters"
    ]
   },
   "outputs": [],
   "source": [
    "# Parameters\n",
    "universe_id = \"a5fcc88d1db4287d184a6ceb9cce536a\"\n",
    "run_no = \"14\"\n",
    "universe = \"{\\\"cutoff\\\": [\\\"quantile_0.1\\\", \\\"quantile_0.25\\\"], \\\"eval_fairness_grouping\\\": [\\\"majority-minority\\\", \\\"nationality-all\\\"], \\\"exclude_features\\\": \\\"sex\\\", \\\"exclude_subgroups\\\": \\\"keep-all\\\", \\\"model\\\": \\\"elasticnet\\\", \\\"scale\\\": \\\"do-not-scale\\\", \\\"training_size\\\": \\\"5k\\\", \\\"training_year\\\": \\\"2014\\\"}\"\n",
    "output_dir = \"output\"\n",
    "seed = \"2023\"\n"
   ]
  },
  {
   "cell_type": "code",
   "execution_count": 5,
   "id": "1650acaf",
   "metadata": {
    "execution": {
     "iopub.execute_input": "2025-07-30T20:54:42.356514Z",
     "iopub.status.busy": "2025-07-30T20:54:42.355708Z",
     "iopub.status.idle": "2025-07-30T20:54:42.360971Z",
     "shell.execute_reply": "2025-07-30T20:54:42.360318Z"
    },
    "papermill": {
     "duration": 0.026126,
     "end_time": "2025-07-30T20:54:42.362425",
     "exception": false,
     "start_time": "2025-07-30T20:54:42.336299",
     "status": "completed"
    },
    "tags": []
   },
   "outputs": [],
   "source": [
    "import json\n",
    "# Parse universe into dict if it is passed as a string\n",
    "if isinstance(universe, str):\n",
    "    universe = json.loads(universe)"
   ]
  },
  {
   "cell_type": "code",
   "execution_count": 6,
   "id": "16620c48",
   "metadata": {
    "execution": {
     "iopub.execute_input": "2025-07-30T20:54:42.398281Z",
     "iopub.status.busy": "2025-07-30T20:54:42.397743Z",
     "iopub.status.idle": "2025-07-30T20:54:42.443993Z",
     "shell.execute_reply": "2025-07-30T20:54:42.443143Z"
    },
    "papermill": {
     "duration": 0.071516,
     "end_time": "2025-07-30T20:54:42.445966",
     "exception": false,
     "start_time": "2025-07-30T20:54:42.374450",
     "status": "completed"
    },
    "tags": []
   },
   "outputs": [],
   "source": [
    "# Auto-reload the custom package\n",
    "%load_ext autoreload\n",
    "%autoreload 1\n",
    "%aimport fairness_multiverse"
   ]
  },
  {
   "cell_type": "code",
   "execution_count": 7,
   "id": "01c5c9f3",
   "metadata": {
    "execution": {
     "iopub.execute_input": "2025-07-30T20:54:42.487903Z",
     "iopub.status.busy": "2025-07-30T20:54:42.487059Z",
     "iopub.status.idle": "2025-07-30T20:54:44.400987Z",
     "shell.execute_reply": "2025-07-30T20:54:44.399848Z"
    },
    "papermill": {
     "duration": 1.936906,
     "end_time": "2025-07-30T20:54:44.402888",
     "exception": false,
     "start_time": "2025-07-30T20:54:42.465982",
     "status": "completed"
    },
    "tags": []
   },
   "outputs": [],
   "source": [
    "from fairness_multiverse.universe import UniverseAnalysis\n",
    "\n",
    "universe_analysis = UniverseAnalysis(\n",
    "    run_no = run_no,\n",
    "    universe_id = universe_id,\n",
    "    universe = universe,\n",
    "    output_dir=output_dir,\n",
    ")"
   ]
  },
  {
   "cell_type": "code",
   "execution_count": 8,
   "id": "106241f5",
   "metadata": {
    "execution": {
     "iopub.execute_input": "2025-07-30T20:54:44.449153Z",
     "iopub.status.busy": "2025-07-30T20:54:44.448626Z",
     "iopub.status.idle": "2025-07-30T20:54:44.455826Z",
     "shell.execute_reply": "2025-07-30T20:54:44.454864Z"
    },
    "papermill": {
     "duration": 0.031354,
     "end_time": "2025-07-30T20:54:44.457481",
     "exception": false,
     "start_time": "2025-07-30T20:54:44.426127",
     "status": "completed"
    },
    "tags": []
   },
   "outputs": [
    {
     "name": "stdout",
     "output_type": "stream",
     "text": [
      "Using Seed: 2023\n"
     ]
    }
   ],
   "source": [
    "import numpy as np\n",
    "parsed_seed = int(seed)\n",
    "np.random.seed(parsed_seed)\n",
    "print(f\"Using Seed: {parsed_seed}\")"
   ]
  },
  {
   "cell_type": "markdown",
   "id": "e0ebdc57",
   "metadata": {
    "papermill": {
     "duration": 0.020821,
     "end_time": "2025-07-30T20:54:44.500543",
     "exception": false,
     "start_time": "2025-07-30T20:54:44.479722",
     "status": "completed"
    },
    "tags": []
   },
   "source": [
    "# Loading Data"
   ]
  },
  {
   "cell_type": "markdown",
   "id": "681925a3",
   "metadata": {
    "papermill": {
     "duration": 0.019794,
     "end_time": "2025-07-30T20:54:44.541307",
     "exception": false,
     "start_time": "2025-07-30T20:54:44.521513",
     "status": "completed"
    },
    "tags": []
   },
   "source": [
    "Load siab_train, siab_test, siab_calib and/or \n",
    "load siab_train_features, siab_train_labels"
   ]
  },
  {
   "cell_type": "code",
   "execution_count": 9,
   "id": "f0496b8a",
   "metadata": {
    "execution": {
     "iopub.execute_input": "2025-07-30T20:54:44.584025Z",
     "iopub.status.busy": "2025-07-30T20:54:44.583526Z",
     "iopub.status.idle": "2025-07-30T20:54:57.466732Z",
     "shell.execute_reply": "2025-07-30T20:54:57.465752Z"
    },
    "papermill": {
     "duration": 12.906327,
     "end_time": "2025-07-30T20:54:57.468013",
     "exception": false,
     "start_time": "2025-07-30T20:54:44.561686",
     "status": "completed"
    },
    "tags": []
   },
   "outputs": [
    {
     "name": "stdout",
     "output_type": "stream",
     "text": [
      "Loading SIAB data from cache: data/siab_cached.csv.gz\n"
     ]
    },
    {
     "name": "stdout",
     "output_type": "stream",
     "text": [
      "(643690, 164)\n"
     ]
    }
   ],
   "source": [
    "from pathlib import Path\n",
    "import pandas as pd\n",
    "\n",
    "# File paths\n",
    "raw_file = Path(\"data/raw/siab.csv\")\n",
    "cache_file = Path(\"data/siab_cached.csv.gz\")\n",
    "\n",
    "# Ensure cache directory exists\n",
    "cache_file.parent.mkdir(parents=True, exist_ok=True)\n",
    "\n",
    "# Load with simple caching\n",
    "if cache_file.exists():\n",
    "    print(f\"Loading SIAB data from cache: {cache_file}\")\n",
    "    siab = pd.read_csv(cache_file, compression='gzip')\n",
    "else:\n",
    "    print(f\"Cache not found. Reading raw SIAB data: {raw_file}\")\n",
    "    siab = pd.read_csv(raw_file)\n",
    "    siab.to_csv(cache_file, index=False, compression='gzip')\n",
    "    print(f\"Cached SIAB data to: {cache_file}\")\n",
    "\n",
    "# Now use `siab` DataFrame as needed\n",
    "print(siab.shape)"
   ]
  },
  {
   "cell_type": "code",
   "execution_count": 10,
   "id": "db0ca512-5f53-4dba-abdb-a2888bca41ba",
   "metadata": {
    "execution": {
     "iopub.execute_input": "2025-07-30T20:54:57.496949Z",
     "iopub.status.busy": "2025-07-30T20:54:57.496651Z",
     "iopub.status.idle": "2025-07-30T20:54:57.501309Z",
     "shell.execute_reply": "2025-07-30T20:54:57.500520Z"
    },
    "papermill": {
     "duration": 0.021648,
     "end_time": "2025-07-30T20:54:57.502656",
     "exception": false,
     "start_time": "2025-07-30T20:54:57.481008",
     "status": "completed"
    },
    "tags": []
   },
   "outputs": [],
   "source": [
    "#siab"
   ]
  },
  {
   "cell_type": "code",
   "execution_count": 11,
   "id": "a0edb063",
   "metadata": {
    "execution": {
     "iopub.execute_input": "2025-07-30T20:54:57.535064Z",
     "iopub.status.busy": "2025-07-30T20:54:57.534676Z",
     "iopub.status.idle": "2025-07-30T20:54:57.539320Z",
     "shell.execute_reply": "2025-07-30T20:54:57.538353Z"
    },
    "papermill": {
     "duration": 0.027929,
     "end_time": "2025-07-30T20:54:57.541830",
     "exception": false,
     "start_time": "2025-07-30T20:54:57.513901",
     "status": "completed"
    },
    "tags": []
   },
   "outputs": [],
   "source": [
    "#import pandas as pd\n",
    "#\n",
    "#X_train = pd.read_csv(\"./data/X_train.csv\")\n",
    "#y_train = pd.read_csv(\"./data/y_train.csv\")"
   ]
  },
  {
   "cell_type": "code",
   "execution_count": 12,
   "id": "63d08085",
   "metadata": {
    "execution": {
     "iopub.execute_input": "2025-07-30T20:54:57.586625Z",
     "iopub.status.busy": "2025-07-30T20:54:57.586234Z",
     "iopub.status.idle": "2025-07-30T20:54:57.591722Z",
     "shell.execute_reply": "2025-07-30T20:54:57.589835Z"
    },
    "papermill": {
     "duration": 0.031105,
     "end_time": "2025-07-30T20:54:57.594712",
     "exception": false,
     "start_time": "2025-07-30T20:54:57.563607",
     "status": "completed"
    },
    "tags": []
   },
   "outputs": [],
   "source": [
    "#X_test = pd.read_csv(\"./data/X_test.csv\")\n",
    "#y_true = pd.read_csv(\"./data/y_test.csv\")"
   ]
  },
  {
   "cell_type": "code",
   "execution_count": 13,
   "id": "98a8d0fa-1d3d-4ed8-bb2c-281470e24add",
   "metadata": {
    "execution": {
     "iopub.execute_input": "2025-07-30T20:54:57.639664Z",
     "iopub.status.busy": "2025-07-30T20:54:57.639280Z",
     "iopub.status.idle": "2025-07-30T20:54:57.643955Z",
     "shell.execute_reply": "2025-07-30T20:54:57.643066Z"
    },
    "papermill": {
     "duration": 0.028499,
     "end_time": "2025-07-30T20:54:57.645638",
     "exception": false,
     "start_time": "2025-07-30T20:54:57.617139",
     "status": "completed"
    },
    "tags": []
   },
   "outputs": [],
   "source": [
    "# Calibration data for conformal\n",
    "#X_calib = pd.read_csv(\"./data/X_calib.csv\")\n",
    "#y_calib = pd.read_csv(\"./data/y_calib.csv\")"
   ]
  },
  {
   "cell_type": "markdown",
   "id": "997051c5-15bd-4b69-9786-c3001a3ce484",
   "metadata": {
    "papermill": {
     "duration": 0.010977,
     "end_time": "2025-07-30T20:54:57.672156",
     "exception": false,
     "start_time": "2025-07-30T20:54:57.661179",
     "status": "completed"
    },
    "tags": []
   },
   "source": [
    "# Splitting Data and Setting Training Data Size"
   ]
  },
  {
   "cell_type": "code",
   "execution_count": 14,
   "id": "e993b61f-042d-41a6-8c81-f55681f86335",
   "metadata": {
    "execution": {
     "iopub.execute_input": "2025-07-30T20:54:57.694147Z",
     "iopub.status.busy": "2025-07-30T20:54:57.693713Z",
     "iopub.status.idle": "2025-07-30T20:54:57.703828Z",
     "shell.execute_reply": "2025-07-30T20:54:57.702802Z"
    },
    "papermill": {
     "duration": 0.023321,
     "end_time": "2025-07-30T20:54:57.705833",
     "exception": false,
     "start_time": "2025-07-30T20:54:57.682512",
     "status": "completed"
    },
    "tags": []
   },
   "outputs": [],
   "source": [
    "def sample_by_year_size(df,\n",
    "                        training_year: str,\n",
    "                        training_size: str,\n",
    "                        random_state: int = 42):\n",
    "    # --- parse training_year into a list of int years ---\n",
    "    if \"_\" in training_year:\n",
    "        start_str, end_str = training_year.split(\"_\", 1)\n",
    "        start = int(start_str)\n",
    "        end   = int(end_str) if len(end_str) == 4 else (int(end_str) + (start // 100)*100)\n",
    "        years = list(range(start, end + 1))\n",
    "    else:\n",
    "        years = [int(training_year)]\n",
    "\n",
    "    df = df[df[\"year\"].isin(years)].reset_index(drop=True)\n",
    "\n",
    "    # --- map training_size to total number of samples ---\n",
    "    total_map = {\"25k\": 25_000, \"5k\": 5_000, \"1k\": 1_000}\n",
    "    if training_size not in total_map:\n",
    "        return df  # e.g. \"all\"\n",
    "\n",
    "    total_samples = total_map[training_size]\n",
    "    n_years       = len(years)\n",
    "    base          = total_samples // n_years\n",
    "    remainder     = total_samples % n_years\n",
    "\n",
    "    # --- build a dict: year -> how many to sample ---\n",
    "    # give +1 to the first `remainder` years in ascending order\n",
    "    quotas = {\n",
    "        year: base + (1 if idx < remainder else 0)\n",
    "        for idx, year in enumerate(sorted(years))\n",
    "    }\n",
    "\n",
    "    # --- sample per‐year according to the quota dict ---\n",
    "    sampled = (\n",
    "        df\n",
    "        .groupby(\"year\", group_keys=False)\n",
    "        .apply(lambda grp: grp.sample(\n",
    "            n=min(len(grp), quotas[grp.name]),\n",
    "            random_state=random_state))\n",
    "        .reset_index(drop=True)\n",
    "    )\n",
    "\n",
    "    return sampled"
   ]
  },
  {
   "cell_type": "code",
   "execution_count": 15,
   "id": "c0ccd338-0e02-41f3-a09d-f56f9266e3fb",
   "metadata": {
    "execution": {
     "iopub.execute_input": "2025-07-30T20:54:57.773296Z",
     "iopub.status.busy": "2025-07-30T20:54:57.772901Z",
     "iopub.status.idle": "2025-07-30T20:54:57.777730Z",
     "shell.execute_reply": "2025-07-30T20:54:57.776921Z"
    },
    "papermill": {
     "duration": 0.041462,
     "end_time": "2025-07-30T20:54:57.779107",
     "exception": false,
     "start_time": "2025-07-30T20:54:57.737645",
     "status": "completed"
    },
    "tags": []
   },
   "outputs": [],
   "source": [
    "#universe[\"training_size\"]"
   ]
  },
  {
   "cell_type": "code",
   "execution_count": 16,
   "id": "ca707fd7-8047-4acd-bfa5-66248fbbf8e6",
   "metadata": {
    "execution": {
     "iopub.execute_input": "2025-07-30T20:54:57.802479Z",
     "iopub.status.busy": "2025-07-30T20:54:57.802004Z",
     "iopub.status.idle": "2025-07-30T20:54:57.807600Z",
     "shell.execute_reply": "2025-07-30T20:54:57.806622Z"
    },
    "papermill": {
     "duration": 0.019163,
     "end_time": "2025-07-30T20:54:57.809894",
     "exception": false,
     "start_time": "2025-07-30T20:54:57.790731",
     "status": "completed"
    },
    "tags": []
   },
   "outputs": [],
   "source": [
    "#universe[\"training_year\"]"
   ]
  },
  {
   "cell_type": "code",
   "execution_count": 17,
   "id": "aea9c6ef-6f46-42c8-85eb-5a62025c1508",
   "metadata": {
    "execution": {
     "iopub.execute_input": "2025-07-30T20:54:57.861251Z",
     "iopub.status.busy": "2025-07-30T20:54:57.860371Z",
     "iopub.status.idle": "2025-07-30T20:54:58.078208Z",
     "shell.execute_reply": "2025-07-30T20:54:58.077163Z"
    },
    "papermill": {
     "duration": 0.239393,
     "end_time": "2025-07-30T20:54:58.080207",
     "exception": false,
     "start_time": "2025-07-30T20:54:57.840814",
     "status": "completed"
    },
    "tags": []
   },
   "outputs": [],
   "source": [
    "siab_train = sample_by_year_size(siab,\n",
    "                               training_year=universe[\"training_year\"],\n",
    "                               training_size=universe[\"training_size\"])"
   ]
  },
  {
   "cell_type": "code",
   "execution_count": 18,
   "id": "8d3afb32-789d-442c-8d5d-9f5aa8dd2eed",
   "metadata": {
    "execution": {
     "iopub.execute_input": "2025-07-30T20:54:58.121798Z",
     "iopub.status.busy": "2025-07-30T20:54:58.121125Z",
     "iopub.status.idle": "2025-07-30T20:54:58.126427Z",
     "shell.execute_reply": "2025-07-30T20:54:58.125409Z"
    },
    "papermill": {
     "duration": 0.024853,
     "end_time": "2025-07-30T20:54:58.128396",
     "exception": false,
     "start_time": "2025-07-30T20:54:58.103543",
     "status": "completed"
    },
    "tags": []
   },
   "outputs": [],
   "source": [
    "#siab_train.shape"
   ]
  },
  {
   "cell_type": "code",
   "execution_count": 19,
   "id": "d582db68-1a4c-47fb-84fc-08518dc1975a",
   "metadata": {
    "execution": {
     "iopub.execute_input": "2025-07-30T20:54:58.176120Z",
     "iopub.status.busy": "2025-07-30T20:54:58.175555Z",
     "iopub.status.idle": "2025-07-30T20:54:58.180700Z",
     "shell.execute_reply": "2025-07-30T20:54:58.179544Z"
    },
    "papermill": {
     "duration": 0.030605,
     "end_time": "2025-07-30T20:54:58.182538",
     "exception": false,
     "start_time": "2025-07-30T20:54:58.151933",
     "status": "completed"
    },
    "tags": []
   },
   "outputs": [],
   "source": [
    "#display(siab_train.groupby(\"year\").size())"
   ]
  },
  {
   "cell_type": "code",
   "execution_count": 20,
   "id": "a561edb4-d032-42cb-8256-22eac1111c64",
   "metadata": {
    "execution": {
     "iopub.execute_input": "2025-07-30T20:54:58.231978Z",
     "iopub.status.busy": "2025-07-30T20:54:58.231453Z",
     "iopub.status.idle": "2025-07-30T20:54:58.451835Z",
     "shell.execute_reply": "2025-07-30T20:54:58.450850Z"
    },
    "papermill": {
     "duration": 0.247852,
     "end_time": "2025-07-30T20:54:58.453886",
     "exception": false,
     "start_time": "2025-07-30T20:54:58.206034",
     "status": "completed"
    },
    "tags": []
   },
   "outputs": [],
   "source": [
    "#siab_train = siab_s[siab_s.year < 2015]\n",
    "siab_calib = siab[siab.year == 2015]\n",
    "siab_test = siab[siab.year == 2016]"
   ]
  },
  {
   "cell_type": "code",
   "execution_count": 21,
   "id": "472de16f-c3db-4916-846b-1f0de9cf1746",
   "metadata": {
    "execution": {
     "iopub.execute_input": "2025-07-30T20:54:58.498258Z",
     "iopub.status.busy": "2025-07-30T20:54:58.497675Z",
     "iopub.status.idle": "2025-07-30T20:54:58.505996Z",
     "shell.execute_reply": "2025-07-30T20:54:58.504804Z"
    },
    "papermill": {
     "duration": 0.033202,
     "end_time": "2025-07-30T20:54:58.507828",
     "exception": false,
     "start_time": "2025-07-30T20:54:58.474626",
     "status": "completed"
    },
    "tags": []
   },
   "outputs": [],
   "source": [
    "X_train = siab_train.iloc[:,4:164]\n",
    "y_train = siab_train.iloc[:, [3]]"
   ]
  },
  {
   "cell_type": "code",
   "execution_count": 22,
   "id": "828c96af-f43a-4ed6-ba47-8ac73a47d56c",
   "metadata": {
    "execution": {
     "iopub.execute_input": "2025-07-30T20:54:58.552436Z",
     "iopub.status.busy": "2025-07-30T20:54:58.551970Z",
     "iopub.status.idle": "2025-07-30T20:54:58.602257Z",
     "shell.execute_reply": "2025-07-30T20:54:58.601152Z"
    },
    "papermill": {
     "duration": 0.074636,
     "end_time": "2025-07-30T20:54:58.603950",
     "exception": false,
     "start_time": "2025-07-30T20:54:58.529314",
     "status": "completed"
    },
    "tags": []
   },
   "outputs": [],
   "source": [
    "X_calib = siab_calib.iloc[:,4:164]\n",
    "y_calib = siab_calib.iloc[:, [3]]"
   ]
  },
  {
   "cell_type": "code",
   "execution_count": 23,
   "id": "c34be9c3-6bd6-476e-acd3-845840e303be",
   "metadata": {
    "execution": {
     "iopub.execute_input": "2025-07-30T20:54:58.641318Z",
     "iopub.status.busy": "2025-07-30T20:54:58.640923Z",
     "iopub.status.idle": "2025-07-30T20:54:58.689124Z",
     "shell.execute_reply": "2025-07-30T20:54:58.688098Z"
    },
    "papermill": {
     "duration": 0.06419,
     "end_time": "2025-07-30T20:54:58.690476",
     "exception": false,
     "start_time": "2025-07-30T20:54:58.626286",
     "status": "completed"
    },
    "tags": []
   },
   "outputs": [],
   "source": [
    "X_test = siab_test.iloc[:,4:164]\n",
    "y_true = siab_test.iloc[:, [3]]"
   ]
  },
  {
   "cell_type": "markdown",
   "id": "9901737e-04df-44f0-9100-f5ad144ed040",
   "metadata": {
    "papermill": {
     "duration": 0.010833,
     "end_time": "2025-07-30T20:54:58.714030",
     "exception": false,
     "start_time": "2025-07-30T20:54:58.703197",
     "status": "completed"
    },
    "tags": []
   },
   "source": [
    "# Splitting Data and Setting Training Data Size OLD VERSION"
   ]
  },
  {
   "cell_type": "code",
   "execution_count": 24,
   "id": "acbc8f7d-8fc8-4e86-8c59-5dcb0f58384b",
   "metadata": {
    "execution": {
     "iopub.execute_input": "2025-07-30T20:54:58.737350Z",
     "iopub.status.busy": "2025-07-30T20:54:58.736705Z",
     "iopub.status.idle": "2025-07-30T20:54:58.741389Z",
     "shell.execute_reply": "2025-07-30T20:54:58.740693Z"
    },
    "papermill": {
     "duration": 0.017735,
     "end_time": "2025-07-30T20:54:58.742759",
     "exception": false,
     "start_time": "2025-07-30T20:54:58.725024",
     "status": "completed"
    },
    "tags": []
   },
   "outputs": [],
   "source": [
    "#def sample_by_year(df, training_size, random_state=42):\n",
    "#    if training_size == \"2014\":\n",
    "#        return df[df[\"year\"] == 2014].reset_index(drop=True)\n",
    "#    \n",
    "#    size_map = {\n",
    "#        \"25k\": 5000,\n",
    "#        \"5k\": 1000,\n",
    "#        \"1k\": 200\n",
    "#    }\n",
    "#\n",
    "#    if training_size not in size_map:\n",
    "#        return df.reset_index(drop=True)  # use all data\n",
    "#\n",
    "#    n_per_year = size_map[training_size]\n",
    "#    grouped = df.groupby(\"year\")\n",
    "#    sampled = grouped.apply(lambda x: x.sample(n=min(n_per_year, len(x)), random_state=random_state))\n",
    "#    return sampled.reset_index(drop=True)"
   ]
  },
  {
   "cell_type": "code",
   "execution_count": 25,
   "id": "6d931f52-beaf-43ff-9e78-9d44a448d54e",
   "metadata": {
    "execution": {
     "iopub.execute_input": "2025-07-30T20:54:58.787615Z",
     "iopub.status.busy": "2025-07-30T20:54:58.787207Z",
     "iopub.status.idle": "2025-07-30T20:54:58.791933Z",
     "shell.execute_reply": "2025-07-30T20:54:58.791101Z"
    },
    "papermill": {
     "duration": 0.028826,
     "end_time": "2025-07-30T20:54:58.793509",
     "exception": false,
     "start_time": "2025-07-30T20:54:58.764683",
     "status": "completed"
    },
    "tags": []
   },
   "outputs": [],
   "source": [
    "#siab_s = sample_by_year(siab, universe[\"training_size\"])"
   ]
  },
  {
   "cell_type": "code",
   "execution_count": 26,
   "id": "5db0a40e-a4e2-4920-be85-b12ae061d70d",
   "metadata": {
    "execution": {
     "iopub.execute_input": "2025-07-30T20:54:58.836536Z",
     "iopub.status.busy": "2025-07-30T20:54:58.836119Z",
     "iopub.status.idle": "2025-07-30T20:54:58.840683Z",
     "shell.execute_reply": "2025-07-30T20:54:58.839632Z"
    },
    "papermill": {
     "duration": 0.028948,
     "end_time": "2025-07-30T20:54:58.842433",
     "exception": false,
     "start_time": "2025-07-30T20:54:58.813485",
     "status": "completed"
    },
    "tags": []
   },
   "outputs": [],
   "source": [
    "#display(siab_s.groupby(\"year\").size())"
   ]
  },
  {
   "cell_type": "code",
   "execution_count": 27,
   "id": "e6c733c5",
   "metadata": {
    "execution": {
     "iopub.execute_input": "2025-07-30T20:54:58.887060Z",
     "iopub.status.busy": "2025-07-30T20:54:58.886657Z",
     "iopub.status.idle": "2025-07-30T20:54:58.977962Z",
     "shell.execute_reply": "2025-07-30T20:54:58.976997Z"
    },
    "papermill": {
     "duration": 0.116727,
     "end_time": "2025-07-30T20:54:58.979879",
     "exception": false,
     "start_time": "2025-07-30T20:54:58.863152",
     "status": "completed"
    },
    "tags": []
   },
   "outputs": [],
   "source": [
    "# Auxiliary data needed downstream in the pipeline\n",
    "\n",
    "org_train = X_train.copy()\n",
    "org_test = X_test.copy()\n",
    "org_calib = X_calib.copy()"
   ]
  },
  {
   "cell_type": "code",
   "execution_count": 28,
   "id": "1466abac-c6da-4492-a62f-4240ae3783af",
   "metadata": {
    "execution": {
     "iopub.execute_input": "2025-07-30T20:54:59.029976Z",
     "iopub.status.busy": "2025-07-30T20:54:59.029174Z",
     "iopub.status.idle": "2025-07-30T20:54:59.035264Z",
     "shell.execute_reply": "2025-07-30T20:54:59.034187Z"
    },
    "papermill": {
     "duration": 0.03261,
     "end_time": "2025-07-30T20:54:59.036982",
     "exception": false,
     "start_time": "2025-07-30T20:54:59.004372",
     "status": "completed"
    },
    "tags": []
   },
   "outputs": [],
   "source": [
    "# put in other script?\n",
    "# Group sizes\n",
    "\n",
    "#def calculate_percentages(df, df_name):\n",
    "#    total_entries = len(df)\n",
    "#\n",
    "#    female_pct = (df['frau1'] == 1).mean() * 100\n",
    "#    non_german_pct = ((df['maxdeutsch1'] == 0) & (df['maxdeutsch.Missing.'] == 0)).mean() * 100\n",
    "#    non_german_male_pct = ((df['frau1'] == 0) & (df['maxdeutsch1'] == 0) & (df['maxdeutsch.Missing.'] == 0)).mean() * 100\n",
    "#    non_german_female_pct = ((df['frau1'] == 1) & (df['maxdeutsch1'] == 0) & (df['maxdeutsch.Missing.'] == 0)).mean() * 100\n",
    "#\n",
    "#    print(f\"--- {df_name} ---\")\n",
    "#    print(f\"Female: {female_pct:.2f}%\")\n",
    "#    print(f\"Non-German: {non_german_pct:.2f}%\")\n",
    "#    print(f\"Non-German Male: {non_german_male_pct:.2f}%\")\n",
    "#    print(f\"Non-German Female: {non_german_female_pct:.2f}%\\n\")\n",
    "#\n",
    "## Calculate for each DataFrame\n",
    "#calculate_percentages(siab_calib, \"siab_calib\")\n",
    "#calculate_percentages(siab_test, \"siab_test\")\n",
    "#calculate_percentages(siab_train, \"siab_train\")"
   ]
  },
  {
   "cell_type": "markdown",
   "id": "0a4a1b33",
   "metadata": {
    "papermill": {
     "duration": 0.019714,
     "end_time": "2025-07-30T20:54:59.078449",
     "exception": false,
     "start_time": "2025-07-30T20:54:59.058735",
     "status": "completed"
    },
    "tags": []
   },
   "source": [
    "# Preprocessing Data"
   ]
  },
  {
   "cell_type": "code",
   "execution_count": 29,
   "id": "ca879031",
   "metadata": {
    "execution": {
     "iopub.execute_input": "2025-07-30T20:54:59.121106Z",
     "iopub.status.busy": "2025-07-30T20:54:59.120627Z",
     "iopub.status.idle": "2025-07-30T20:54:59.126734Z",
     "shell.execute_reply": "2025-07-30T20:54:59.125712Z"
    },
    "papermill": {
     "duration": 0.030066,
     "end_time": "2025-07-30T20:54:59.128560",
     "exception": false,
     "start_time": "2025-07-30T20:54:59.098494",
     "status": "completed"
    },
    "tags": []
   },
   "outputs": [],
   "source": [
    "# EXCLUDE PROTECTED FEATURES\n",
    "# ----------------------\n",
    "# \"exclude_features\": \"none\", # \"nationality\", \"sex\", \"nationality-sex\"\n",
    "\n",
    "excluded_features = universe[\"exclude_features\"].split(\"-\") # split, e.g.: \"nationality-sex\" -> [\"nationality\", \"sex\"]\n",
    "excluded_features_dictionary = {\n",
    "    \"nationality\": [\"maxdeutsch1\", \"maxdeutsch.Missing.\"],\n",
    "    \"sex\": [\"frau1\"],\n",
    "    \"age\": [\"age\"],\n",
    "}\n"
   ]
  },
  {
   "cell_type": "code",
   "execution_count": 30,
   "id": "b745ac60",
   "metadata": {
    "execution": {
     "iopub.execute_input": "2025-07-30T20:54:59.173591Z",
     "iopub.status.busy": "2025-07-30T20:54:59.172957Z",
     "iopub.status.idle": "2025-07-30T20:54:59.178739Z",
     "shell.execute_reply": "2025-07-30T20:54:59.177776Z"
    },
    "papermill": {
     "duration": 0.029433,
     "end_time": "2025-07-30T20:54:59.180452",
     "exception": false,
     "start_time": "2025-07-30T20:54:59.151019",
     "status": "completed"
    },
    "tags": []
   },
   "outputs": [],
   "source": [
    "# Code nice names to column names\n",
    "\n",
    "excluded_features_columns = [\n",
    "    excluded_features_dictionary[f] for f in excluded_features if len(f) > 0 and f != \"none\"\n",
    "]"
   ]
  },
  {
   "cell_type": "code",
   "execution_count": 31,
   "id": "f84f73a2",
   "metadata": {
    "execution": {
     "iopub.execute_input": "2025-07-30T20:54:59.225559Z",
     "iopub.status.busy": "2025-07-30T20:54:59.224687Z",
     "iopub.status.idle": "2025-07-30T20:54:59.230977Z",
     "shell.execute_reply": "2025-07-30T20:54:59.229808Z"
    },
    "papermill": {
     "duration": 0.030539,
     "end_time": "2025-07-30T20:54:59.232810",
     "exception": false,
     "start_time": "2025-07-30T20:54:59.202271",
     "status": "completed"
    },
    "tags": []
   },
   "outputs": [],
   "source": [
    "from utils import flatten_once\n",
    "\n",
    "excluded_features_columns = flatten_once(excluded_features_columns)"
   ]
  },
  {
   "cell_type": "code",
   "execution_count": 32,
   "id": "884dea22",
   "metadata": {
    "execution": {
     "iopub.execute_input": "2025-07-30T20:54:59.276884Z",
     "iopub.status.busy": "2025-07-30T20:54:59.275977Z",
     "iopub.status.idle": "2025-07-30T20:54:59.285577Z",
     "shell.execute_reply": "2025-07-30T20:54:59.284735Z"
    },
    "papermill": {
     "duration": 0.031681,
     "end_time": "2025-07-30T20:54:59.287131",
     "exception": false,
     "start_time": "2025-07-30T20:54:59.255450",
     "status": "completed"
    },
    "tags": []
   },
   "outputs": [
    {
     "name": "stdout",
     "output_type": "stream",
     "text": [
      "Dropping features: ['frau1']\n"
     ]
    }
   ],
   "source": [
    "if len(excluded_features_columns) > 0:\n",
    "    print(f\"Dropping features: {excluded_features_columns}\")\n",
    "    X_train.drop(excluded_features_columns, axis=1, inplace=True)"
   ]
  },
  {
   "cell_type": "code",
   "execution_count": 33,
   "id": "95ab8b16",
   "metadata": {
    "execution": {
     "iopub.execute_input": "2025-07-30T20:54:59.329732Z",
     "iopub.status.busy": "2025-07-30T20:54:59.329022Z",
     "iopub.status.idle": "2025-07-30T20:54:59.379489Z",
     "shell.execute_reply": "2025-07-30T20:54:59.378449Z"
    },
    "papermill": {
     "duration": 0.073077,
     "end_time": "2025-07-30T20:54:59.381378",
     "exception": false,
     "start_time": "2025-07-30T20:54:59.308301",
     "status": "completed"
    },
    "tags": []
   },
   "outputs": [
    {
     "name": "stdout",
     "output_type": "stream",
     "text": [
      "Dropping features: ['frau1']\n"
     ]
    }
   ],
   "source": [
    "if len(excluded_features_columns) > 0:\n",
    "    print(f\"Dropping features: {excluded_features_columns}\")\n",
    "    X_test.drop(excluded_features_columns, axis=1, inplace=True)"
   ]
  },
  {
   "cell_type": "code",
   "execution_count": 34,
   "id": "1853aaf5-fb9f-46cb-a2b5-8ea4ae2237e4",
   "metadata": {
    "execution": {
     "iopub.execute_input": "2025-07-30T20:54:59.424792Z",
     "iopub.status.busy": "2025-07-30T20:54:59.423893Z",
     "iopub.status.idle": "2025-07-30T20:54:59.474064Z",
     "shell.execute_reply": "2025-07-30T20:54:59.473205Z"
    },
    "papermill": {
     "duration": 0.072894,
     "end_time": "2025-07-30T20:54:59.475881",
     "exception": false,
     "start_time": "2025-07-30T20:54:59.402987",
     "status": "completed"
    },
    "tags": []
   },
   "outputs": [
    {
     "name": "stdout",
     "output_type": "stream",
     "text": [
      "Dropping features: ['frau1']\n"
     ]
    }
   ],
   "source": [
    "if len(excluded_features_columns) > 0:\n",
    "    print(f\"Dropping features: {excluded_features_columns}\")\n",
    "    X_calib.drop(excluded_features_columns, axis=1, inplace=True)"
   ]
  },
  {
   "cell_type": "code",
   "execution_count": 35,
   "id": "6727d079-03e5-481e-9d38-292a90b7a0a8",
   "metadata": {
    "execution": {
     "iopub.execute_input": "2025-07-30T20:54:59.526770Z",
     "iopub.status.busy": "2025-07-30T20:54:59.526016Z",
     "iopub.status.idle": "2025-07-30T20:54:59.530882Z",
     "shell.execute_reply": "2025-07-30T20:54:59.529947Z"
    },
    "papermill": {
     "duration": 0.031419,
     "end_time": "2025-07-30T20:54:59.532706",
     "exception": false,
     "start_time": "2025-07-30T20:54:59.501287",
     "status": "completed"
    },
    "tags": []
   },
   "outputs": [],
   "source": [
    "# SPLIT & STRATIFY DATA\n",
    "# ----------------------"
   ]
  },
  {
   "cell_type": "code",
   "execution_count": 36,
   "id": "76c4dc6d",
   "metadata": {
    "execution": {
     "iopub.execute_input": "2025-07-30T20:54:59.582743Z",
     "iopub.status.busy": "2025-07-30T20:54:59.582426Z",
     "iopub.status.idle": "2025-07-30T20:54:59.587441Z",
     "shell.execute_reply": "2025-07-30T20:54:59.586386Z"
    },
    "papermill": {
     "duration": 0.031685,
     "end_time": "2025-07-30T20:54:59.589305",
     "exception": false,
     "start_time": "2025-07-30T20:54:59.557620",
     "status": "completed"
    },
    "tags": []
   },
   "outputs": [],
   "source": [
    "# EXCLUDE CERTAIN SUBGROUPS\n",
    "# ----------------------\n",
    "\n",
    "mode = universe.get(\"exclude_subgroups\", \"keep-all\") \n",
    "# Fetches the exclude_subgroups setting from the universe dict.\n",
    "# Defaults to \"keep-all\" if the key is missing."
   ]
  },
  {
   "cell_type": "code",
   "execution_count": 37,
   "id": "21994072",
   "metadata": {
    "execution": {
     "iopub.execute_input": "2025-07-30T20:54:59.633055Z",
     "iopub.status.busy": "2025-07-30T20:54:59.632677Z",
     "iopub.status.idle": "2025-07-30T20:54:59.638676Z",
     "shell.execute_reply": "2025-07-30T20:54:59.637796Z"
    },
    "papermill": {
     "duration": 0.029403,
     "end_time": "2025-07-30T20:54:59.640480",
     "exception": false,
     "start_time": "2025-07-30T20:54:59.611077",
     "status": "completed"
    },
    "tags": []
   },
   "outputs": [],
   "source": [
    "if mode == \"keep-all\":\n",
    "    keep_mask = pd.Series(True, index=org_train.index)\n",
    "\n",
    "# org_train contains the original feature columns from features_org (in Simson)\n",
    "# features_org contains unprocessed features, for me X_train at beginning ???\n",
    "# For keep-all, creates a boolean Series (keep_mask) of all True, so no rows are removed.\n",
    "\n",
    "elif mode == \"drop-non-german\":\n",
    "    keep_mask = org_train[\"maxdeutsch1\"] == 1 # ??? what about missing values?\n",
    "\n",
    "else:\n",
    "    raise ValueError(f\"Unsupported mode for exclude_subgroups: {mode}\")\n"
   ]
  },
  {
   "cell_type": "code",
   "execution_count": 38,
   "id": "71651440",
   "metadata": {
    "execution": {
     "iopub.execute_input": "2025-07-30T20:54:59.684239Z",
     "iopub.status.busy": "2025-07-30T20:54:59.683844Z",
     "iopub.status.idle": "2025-07-30T20:54:59.690122Z",
     "shell.execute_reply": "2025-07-30T20:54:59.689231Z"
    },
    "papermill": {
     "duration": 0.029433,
     "end_time": "2025-07-30T20:54:59.691813",
     "exception": false,
     "start_time": "2025-07-30T20:54:59.662380",
     "status": "completed"
    },
    "tags": []
   },
   "outputs": [],
   "source": [
    "n_drop = (~keep_mask).sum() # Calculates how many rows are set to be dropped\n",
    "if n_drop > 0:\n",
    "    pct = n_drop / len(keep_mask) * 100\n",
    "    print(f\"Dropping {n_drop} rows ({pct:.2f}%) where mode='{mode}'\")"
   ]
  },
  {
   "cell_type": "code",
   "execution_count": 39,
   "id": "5fb8eee5",
   "metadata": {
    "execution": {
     "iopub.execute_input": "2025-07-30T20:54:59.742802Z",
     "iopub.status.busy": "2025-07-30T20:54:59.742082Z",
     "iopub.status.idle": "2025-07-30T20:54:59.749478Z",
     "shell.execute_reply": "2025-07-30T20:54:59.748476Z"
    },
    "papermill": {
     "duration": 0.034069,
     "end_time": "2025-07-30T20:54:59.751191",
     "exception": false,
     "start_time": "2025-07-30T20:54:59.717122",
     "status": "completed"
    },
    "tags": []
   },
   "outputs": [],
   "source": [
    "X_train = X_train[keep_mask]"
   ]
  },
  {
   "cell_type": "code",
   "execution_count": 40,
   "id": "b202bb3a",
   "metadata": {
    "execution": {
     "iopub.execute_input": "2025-07-30T20:54:59.802349Z",
     "iopub.status.busy": "2025-07-30T20:54:59.801937Z",
     "iopub.status.idle": "2025-07-30T20:54:59.807632Z",
     "shell.execute_reply": "2025-07-30T20:54:59.806790Z"
    },
    "papermill": {
     "duration": 0.032586,
     "end_time": "2025-07-30T20:54:59.809203",
     "exception": false,
     "start_time": "2025-07-30T20:54:59.776617",
     "status": "completed"
    },
    "tags": []
   },
   "outputs": [],
   "source": [
    "y_train = y_train[keep_mask]"
   ]
  },
  {
   "cell_type": "markdown",
   "id": "493e2ac3",
   "metadata": {
    "papermill": {
     "duration": 0.021872,
     "end_time": "2025-07-30T20:54:59.853014",
     "exception": false,
     "start_time": "2025-07-30T20:54:59.831142",
     "status": "completed"
    },
    "tags": []
   },
   "source": [
    "# Model Training"
   ]
  },
  {
   "cell_type": "code",
   "execution_count": 41,
   "id": "679e1268",
   "metadata": {
    "execution": {
     "iopub.execute_input": "2025-07-30T20:54:59.896271Z",
     "iopub.status.busy": "2025-07-30T20:54:59.895567Z",
     "iopub.status.idle": "2025-07-30T20:54:59.999418Z",
     "shell.execute_reply": "2025-07-30T20:54:59.998558Z"
    },
    "papermill": {
     "duration": 0.127075,
     "end_time": "2025-07-30T20:55:00.001111",
     "exception": false,
     "start_time": "2025-07-30T20:54:59.874036",
     "status": "completed"
    },
    "tags": []
   },
   "outputs": [],
   "source": [
    "from sklearn.linear_model import LogisticRegression\n",
    "from sklearn.ensemble import GradientBoostingClassifier, RandomForestClassifier\n",
    "\n",
    "if (universe[\"model\"] == \"logreg\"):\n",
    "    model = LogisticRegression() #penalty=\"none\") #, solver=\"newton-cg\", max_iter=1) # include random_state=19 ?\n",
    "elif (universe[\"model\"] == \"penalized_logreg\"):\n",
    "    model = LogisticRegression(penalty=\"l2\", C=1.0) #, solver=\"newton-cg\", max_iter=1)\n",
    "elif (universe[\"model\"] == \"rf\"):\n",
    "    model = RandomForestClassifier(n_estimators=100, n_jobs=-1)\n",
    "elif (universe[\"model\"] == \"gbm\"):\n",
    "    model = GradientBoostingClassifier()\n",
    "elif (universe[\"model\"] == \"elasticnet\"):\n",
    "    model = LogisticRegression(penalty = 'elasticnet', solver = 'saga', l1_ratio = 0.5, max_iter=5000) # which solver to use?\n",
    "else:\n",
    "    raise \"Unsupported universe.model\""
   ]
  },
  {
   "cell_type": "code",
   "execution_count": 42,
   "id": "0cc8f744",
   "metadata": {
    "execution": {
     "iopub.execute_input": "2025-07-30T20:55:00.045038Z",
     "iopub.status.busy": "2025-07-30T20:55:00.044662Z",
     "iopub.status.idle": "2025-07-30T20:55:00.050494Z",
     "shell.execute_reply": "2025-07-30T20:55:00.049603Z"
    },
    "papermill": {
     "duration": 0.029121,
     "end_time": "2025-07-30T20:55:00.052151",
     "exception": false,
     "start_time": "2025-07-30T20:55:00.023030",
     "status": "completed"
    },
    "tags": []
   },
   "outputs": [],
   "source": [
    "import numpy as np\n",
    "from sklearn.pipeline import Pipeline\n",
    "from sklearn.preprocessing import StandardScaler\n",
    "\n",
    "model = Pipeline([\n",
    "    #(\"continuous_processor\", continuous_processor),\n",
    "    #(\"categorical_preprocessor\", categorical_preprocessor),\n",
    "    (\"scale\", StandardScaler() if universe[\"scale\"] == \"scale\" else None), \n",
    "    (\"model\", model),\n",
    "])"
   ]
  },
  {
   "cell_type": "code",
   "execution_count": 43,
   "id": "9442c04d",
   "metadata": {
    "execution": {
     "iopub.execute_input": "2025-07-30T20:55:00.098835Z",
     "iopub.status.busy": "2025-07-30T20:55:00.098085Z",
     "iopub.status.idle": "2025-07-30T20:56:18.326021Z",
     "shell.execute_reply": "2025-07-30T20:56:18.324930Z"
    },
    "papermill": {
     "duration": 78.261624,
     "end_time": "2025-07-30T20:56:18.336843",
     "exception": false,
     "start_time": "2025-07-30T20:55:00.075219",
     "status": "completed"
    },
    "tags": []
   },
   "outputs": [
    {
     "data": {
      "text/html": [
       "<style>#sk-container-id-1 {color: black;background-color: white;}#sk-container-id-1 pre{padding: 0;}#sk-container-id-1 div.sk-toggleable {background-color: white;}#sk-container-id-1 label.sk-toggleable__label {cursor: pointer;display: block;width: 100%;margin-bottom: 0;padding: 0.3em;box-sizing: border-box;text-align: center;}#sk-container-id-1 label.sk-toggleable__label-arrow:before {content: \"▸\";float: left;margin-right: 0.25em;color: #696969;}#sk-container-id-1 label.sk-toggleable__label-arrow:hover:before {color: black;}#sk-container-id-1 div.sk-estimator:hover label.sk-toggleable__label-arrow:before {color: black;}#sk-container-id-1 div.sk-toggleable__content {max-height: 0;max-width: 0;overflow: hidden;text-align: left;background-color: #f0f8ff;}#sk-container-id-1 div.sk-toggleable__content pre {margin: 0.2em;color: black;border-radius: 0.25em;background-color: #f0f8ff;}#sk-container-id-1 input.sk-toggleable__control:checked~div.sk-toggleable__content {max-height: 200px;max-width: 100%;overflow: auto;}#sk-container-id-1 input.sk-toggleable__control:checked~label.sk-toggleable__label-arrow:before {content: \"▾\";}#sk-container-id-1 div.sk-estimator input.sk-toggleable__control:checked~label.sk-toggleable__label {background-color: #d4ebff;}#sk-container-id-1 div.sk-label input.sk-toggleable__control:checked~label.sk-toggleable__label {background-color: #d4ebff;}#sk-container-id-1 input.sk-hidden--visually {border: 0;clip: rect(1px 1px 1px 1px);clip: rect(1px, 1px, 1px, 1px);height: 1px;margin: -1px;overflow: hidden;padding: 0;position: absolute;width: 1px;}#sk-container-id-1 div.sk-estimator {font-family: monospace;background-color: #f0f8ff;border: 1px dotted black;border-radius: 0.25em;box-sizing: border-box;margin-bottom: 0.5em;}#sk-container-id-1 div.sk-estimator:hover {background-color: #d4ebff;}#sk-container-id-1 div.sk-parallel-item::after {content: \"\";width: 100%;border-bottom: 1px solid gray;flex-grow: 1;}#sk-container-id-1 div.sk-label:hover label.sk-toggleable__label {background-color: #d4ebff;}#sk-container-id-1 div.sk-serial::before {content: \"\";position: absolute;border-left: 1px solid gray;box-sizing: border-box;top: 0;bottom: 0;left: 50%;z-index: 0;}#sk-container-id-1 div.sk-serial {display: flex;flex-direction: column;align-items: center;background-color: white;padding-right: 0.2em;padding-left: 0.2em;position: relative;}#sk-container-id-1 div.sk-item {position: relative;z-index: 1;}#sk-container-id-1 div.sk-parallel {display: flex;align-items: stretch;justify-content: center;background-color: white;position: relative;}#sk-container-id-1 div.sk-item::before, #sk-container-id-1 div.sk-parallel-item::before {content: \"\";position: absolute;border-left: 1px solid gray;box-sizing: border-box;top: 0;bottom: 0;left: 50%;z-index: -1;}#sk-container-id-1 div.sk-parallel-item {display: flex;flex-direction: column;z-index: 1;position: relative;background-color: white;}#sk-container-id-1 div.sk-parallel-item:first-child::after {align-self: flex-end;width: 50%;}#sk-container-id-1 div.sk-parallel-item:last-child::after {align-self: flex-start;width: 50%;}#sk-container-id-1 div.sk-parallel-item:only-child::after {width: 0;}#sk-container-id-1 div.sk-dashed-wrapped {border: 1px dashed gray;margin: 0 0.4em 0.5em 0.4em;box-sizing: border-box;padding-bottom: 0.4em;background-color: white;}#sk-container-id-1 div.sk-label label {font-family: monospace;font-weight: bold;display: inline-block;line-height: 1.2em;}#sk-container-id-1 div.sk-label-container {text-align: center;}#sk-container-id-1 div.sk-container {/* jupyter's `normalize.less` sets `[hidden] { display: none; }` but bootstrap.min.css set `[hidden] { display: none !important; }` so we also need the `!important` here to be able to override the default hidden behavior on the sphinx rendered scikit-learn.org. See: https://github.com/scikit-learn/scikit-learn/issues/21755 */display: inline-block !important;position: relative;}#sk-container-id-1 div.sk-text-repr-fallback {display: none;}</style><div id=\"sk-container-id-1\" class=\"sk-top-container\"><div class=\"sk-text-repr-fallback\"><pre>Pipeline(steps=[(&#x27;scale&#x27;, None),\n",
       "                (&#x27;model&#x27;,\n",
       "                 LogisticRegression(l1_ratio=0.5, max_iter=5000,\n",
       "                                    penalty=&#x27;elasticnet&#x27;, solver=&#x27;saga&#x27;))])</pre><b>In a Jupyter environment, please rerun this cell to show the HTML representation or trust the notebook. <br />On GitHub, the HTML representation is unable to render, please try loading this page with nbviewer.org.</b></div><div class=\"sk-container\" hidden><div class=\"sk-item sk-dashed-wrapped\"><div class=\"sk-label-container\"><div class=\"sk-label sk-toggleable\"><input class=\"sk-toggleable__control sk-hidden--visually\" id=\"sk-estimator-id-1\" type=\"checkbox\" ><label for=\"sk-estimator-id-1\" class=\"sk-toggleable__label sk-toggleable__label-arrow\">Pipeline</label><div class=\"sk-toggleable__content\"><pre>Pipeline(steps=[(&#x27;scale&#x27;, None),\n",
       "                (&#x27;model&#x27;,\n",
       "                 LogisticRegression(l1_ratio=0.5, max_iter=5000,\n",
       "                                    penalty=&#x27;elasticnet&#x27;, solver=&#x27;saga&#x27;))])</pre></div></div></div><div class=\"sk-serial\"><div class=\"sk-item\"><div class=\"sk-estimator sk-toggleable\"><input class=\"sk-toggleable__control sk-hidden--visually\" id=\"sk-estimator-id-2\" type=\"checkbox\" ><label for=\"sk-estimator-id-2\" class=\"sk-toggleable__label sk-toggleable__label-arrow\">None</label><div class=\"sk-toggleable__content\"><pre>None</pre></div></div></div><div class=\"sk-item\"><div class=\"sk-estimator sk-toggleable\"><input class=\"sk-toggleable__control sk-hidden--visually\" id=\"sk-estimator-id-3\" type=\"checkbox\" ><label for=\"sk-estimator-id-3\" class=\"sk-toggleable__label sk-toggleable__label-arrow\">LogisticRegression</label><div class=\"sk-toggleable__content\"><pre>LogisticRegression(l1_ratio=0.5, max_iter=5000, penalty=&#x27;elasticnet&#x27;,\n",
       "                   solver=&#x27;saga&#x27;)</pre></div></div></div></div></div></div></div>"
      ],
      "text/plain": [
       "Pipeline(steps=[('scale', None),\n",
       "                ('model',\n",
       "                 LogisticRegression(l1_ratio=0.5, max_iter=5000,\n",
       "                                    penalty='elasticnet', solver='saga'))])"
      ]
     },
     "execution_count": 43,
     "metadata": {},
     "output_type": "execute_result"
    }
   ],
   "source": [
    "model.fit(X_train, y_train.values.ravel())"
   ]
  },
  {
   "cell_type": "code",
   "execution_count": 44,
   "id": "af59f8c0",
   "metadata": {
    "execution": {
     "iopub.execute_input": "2025-07-30T20:56:18.382385Z",
     "iopub.status.busy": "2025-07-30T20:56:18.381704Z",
     "iopub.status.idle": "2025-07-30T20:56:18.387476Z",
     "shell.execute_reply": "2025-07-30T20:56:18.386462Z"
    },
    "papermill": {
     "duration": 0.030302,
     "end_time": "2025-07-30T20:56:18.389028",
     "exception": false,
     "start_time": "2025-07-30T20:56:18.358726",
     "status": "completed"
    },
    "tags": []
   },
   "outputs": [],
   "source": [
    "from fairness_multiverse.universe import predict_w_threshold"
   ]
  },
  {
   "cell_type": "code",
   "execution_count": 45,
   "id": "a7cf2e16",
   "metadata": {
    "execution": {
     "iopub.execute_input": "2025-07-30T20:56:18.434500Z",
     "iopub.status.busy": "2025-07-30T20:56:18.433847Z",
     "iopub.status.idle": "2025-07-30T20:56:18.534153Z",
     "shell.execute_reply": "2025-07-30T20:56:18.533337Z"
    },
    "papermill": {
     "duration": 0.124204,
     "end_time": "2025-07-30T20:56:18.535708",
     "exception": false,
     "start_time": "2025-07-30T20:56:18.411504",
     "status": "completed"
    },
    "tags": []
   },
   "outputs": [
    {
     "data": {
      "text/plain": [
       "0.8604614870137108"
      ]
     },
     "execution_count": 45,
     "metadata": {},
     "output_type": "execute_result"
    }
   ],
   "source": [
    "probs_test = model.predict_proba(X_test)\n",
    "\n",
    "'''\n",
    "Below code returns a boolean array (or binary 0/1 array depending on how it’s used) where each element \n",
    "is True if the probability of class 1 is greater than or equal to the threshold, and False otherwise.\n",
    "'''\n",
    "y_pred_default = predict_w_threshold(probs_test, 0.5)\n",
    "\n",
    "from sklearn.metrics import accuracy_score\n",
    "\n",
    "# Naive prediction\n",
    "accuracy_score(y_true = y_true, y_pred = y_pred_default)"
   ]
  },
  {
   "cell_type": "code",
   "execution_count": 46,
   "id": "081964c3",
   "metadata": {
    "execution": {
     "iopub.execute_input": "2025-07-30T20:56:18.581044Z",
     "iopub.status.busy": "2025-07-30T20:56:18.580464Z",
     "iopub.status.idle": "2025-07-30T20:56:18.659890Z",
     "shell.execute_reply": "2025-07-30T20:56:18.659077Z"
    },
    "papermill": {
     "duration": 0.102968,
     "end_time": "2025-07-30T20:56:18.661416",
     "exception": false,
     "start_time": "2025-07-30T20:56:18.558448",
     "status": "completed"
    },
    "tags": []
   },
   "outputs": [
    {
     "data": {
      "text/plain": [
       "array([0, 0, 0, ..., 0, 0, 0])"
      ]
     },
     "execution_count": 46,
     "metadata": {},
     "output_type": "execute_result"
    }
   ],
   "source": [
    "model.predict(X_test)"
   ]
  },
  {
   "cell_type": "markdown",
   "id": "56c9705b",
   "metadata": {
    "papermill": {
     "duration": 0.021151,
     "end_time": "2025-07-30T20:56:18.704697",
     "exception": false,
     "start_time": "2025-07-30T20:56:18.683546",
     "status": "completed"
    },
    "tags": []
   },
   "source": [
    "# Conformal Prediction"
   ]
  },
  {
   "cell_type": "code",
   "execution_count": 47,
   "id": "160ec6ff",
   "metadata": {
    "execution": {
     "iopub.execute_input": "2025-07-30T20:56:18.748697Z",
     "iopub.status.busy": "2025-07-30T20:56:18.748089Z",
     "iopub.status.idle": "2025-07-30T20:56:18.752972Z",
     "shell.execute_reply": "2025-07-30T20:56:18.752083Z"
    },
    "papermill": {
     "duration": 0.02887,
     "end_time": "2025-07-30T20:56:18.754642",
     "exception": false,
     "start_time": "2025-07-30T20:56:18.725772",
     "status": "completed"
    },
    "tags": []
   },
   "outputs": [],
   "source": [
    "# Miscoverage level for conformal prediction (10% allowed error rate => 90% target coverage)\n",
    "alpha = 0.1"
   ]
  },
  {
   "cell_type": "code",
   "execution_count": 48,
   "id": "eadf4555-3dd3-440e-8e35-f82a4ad9f855",
   "metadata": {
    "execution": {
     "iopub.execute_input": "2025-07-30T20:56:18.799185Z",
     "iopub.status.busy": "2025-07-30T20:56:18.798816Z",
     "iopub.status.idle": "2025-07-30T20:56:18.881459Z",
     "shell.execute_reply": "2025-07-30T20:56:18.880571Z"
    },
    "papermill": {
     "duration": 0.106611,
     "end_time": "2025-07-30T20:56:18.883221",
     "exception": false,
     "start_time": "2025-07-30T20:56:18.776610",
     "status": "completed"
    },
    "tags": []
   },
   "outputs": [],
   "source": [
    "probs_calib = model.predict_proba(X_calib)"
   ]
  },
  {
   "cell_type": "code",
   "execution_count": 49,
   "id": "2ed93547-6d5d-4983-9b36-1ecb300da49a",
   "metadata": {
    "execution": {
     "iopub.execute_input": "2025-07-30T20:56:18.926558Z",
     "iopub.status.busy": "2025-07-30T20:56:18.926158Z",
     "iopub.status.idle": "2025-07-30T20:56:18.931229Z",
     "shell.execute_reply": "2025-07-30T20:56:18.930269Z"
    },
    "papermill": {
     "duration": 0.027211,
     "end_time": "2025-07-30T20:56:18.932936",
     "exception": false,
     "start_time": "2025-07-30T20:56:18.905725",
     "status": "completed"
    },
    "tags": []
   },
   "outputs": [],
   "source": [
    "y_calib = y_calib.values.ravel().astype(int)"
   ]
  },
  {
   "cell_type": "code",
   "execution_count": 50,
   "id": "65d1320d-f588-4b38-9072-62af1ae97f7d",
   "metadata": {
    "execution": {
     "iopub.execute_input": "2025-07-30T20:56:18.983331Z",
     "iopub.status.busy": "2025-07-30T20:56:18.982618Z",
     "iopub.status.idle": "2025-07-30T20:56:18.989852Z",
     "shell.execute_reply": "2025-07-30T20:56:18.988915Z"
    },
    "papermill": {
     "duration": 0.033577,
     "end_time": "2025-07-30T20:56:18.991551",
     "exception": false,
     "start_time": "2025-07-30T20:56:18.957974",
     "status": "completed"
    },
    "tags": []
   },
   "outputs": [],
   "source": [
    "from fairness_multiverse.conformal import compute_nc_scores\n",
    "\n",
    "# Compute nonconformity scores on calibration set (1 - probability of true class)\n",
    "nc_scores = compute_nc_scores(probs_calib, y_calib)"
   ]
  },
  {
   "cell_type": "code",
   "execution_count": 51,
   "id": "df3b8ca3-53b7-43d5-9667-7c85da7aeda2",
   "metadata": {
    "execution": {
     "iopub.execute_input": "2025-07-30T20:56:19.043856Z",
     "iopub.status.busy": "2025-07-30T20:56:19.043492Z",
     "iopub.status.idle": "2025-07-30T20:56:19.050789Z",
     "shell.execute_reply": "2025-07-30T20:56:19.049855Z"
    },
    "papermill": {
     "duration": 0.035925,
     "end_time": "2025-07-30T20:56:19.052401",
     "exception": false,
     "start_time": "2025-07-30T20:56:19.016476",
     "status": "completed"
    },
    "tags": []
   },
   "outputs": [],
   "source": [
    "from fairness_multiverse.conformal import find_threshold\n",
    "\n",
    "# Find conformal threshold q_hat for the given alpha (split conformal method)\n",
    "q_hat = find_threshold(nc_scores, alpha)"
   ]
  },
  {
   "cell_type": "code",
   "execution_count": 52,
   "id": "4d29e6c1-0ef6-4aa4-b8fe-4fe79b0d033a",
   "metadata": {
    "execution": {
     "iopub.execute_input": "2025-07-30T20:56:19.102914Z",
     "iopub.status.busy": "2025-07-30T20:56:19.102064Z",
     "iopub.status.idle": "2025-07-30T20:56:19.117687Z",
     "shell.execute_reply": "2025-07-30T20:56:19.116751Z"
    },
    "papermill": {
     "duration": 0.042753,
     "end_time": "2025-07-30T20:56:19.119363",
     "exception": false,
     "start_time": "2025-07-30T20:56:19.076610",
     "status": "completed"
    },
    "tags": []
   },
   "outputs": [
    {
     "data": {
      "text/plain": [
       "0.689871193766016"
      ]
     },
     "execution_count": 52,
     "metadata": {},
     "output_type": "execute_result"
    }
   ],
   "source": [
    "q_hat"
   ]
  },
  {
   "cell_type": "code",
   "execution_count": 53,
   "id": "92460794-cdac-4be2-ba28-f28c0515a6fb",
   "metadata": {
    "execution": {
     "iopub.execute_input": "2025-07-30T20:56:19.167386Z",
     "iopub.status.busy": "2025-07-30T20:56:19.166880Z",
     "iopub.status.idle": "2025-07-30T20:56:19.902019Z",
     "shell.execute_reply": "2025-07-30T20:56:19.901014Z"
    },
    "papermill": {
     "duration": 0.76157,
     "end_time": "2025-07-30T20:56:19.903923",
     "exception": false,
     "start_time": "2025-07-30T20:56:19.142353",
     "status": "completed"
    },
    "tags": []
   },
   "outputs": [],
   "source": [
    "from fairness_multiverse.conformal import predict_conformal_sets\n",
    "\n",
    "# Generate prediction sets for each test example\n",
    "pred_sets = predict_conformal_sets(model, X_test, q_hat)"
   ]
  },
  {
   "cell_type": "code",
   "execution_count": 54,
   "id": "d90c9a65-e6db-4f5d-80cd-e68fb7e46829",
   "metadata": {
    "execution": {
     "iopub.execute_input": "2025-07-30T20:56:19.956200Z",
     "iopub.status.busy": "2025-07-30T20:56:19.955428Z",
     "iopub.status.idle": "2025-07-30T20:56:19.960963Z",
     "shell.execute_reply": "2025-07-30T20:56:19.959927Z"
    },
    "papermill": {
     "duration": 0.033393,
     "end_time": "2025-07-30T20:56:19.962714",
     "exception": false,
     "start_time": "2025-07-30T20:56:19.929321",
     "status": "completed"
    },
    "tags": []
   },
   "outputs": [],
   "source": [
    "y_true = y_true.squeeze()"
   ]
  },
  {
   "cell_type": "code",
   "execution_count": 55,
   "id": "3a58a54a-1e68-46b9-927a-df01f18aebc8",
   "metadata": {
    "execution": {
     "iopub.execute_input": "2025-07-30T20:56:20.014771Z",
     "iopub.status.busy": "2025-07-30T20:56:20.014116Z",
     "iopub.status.idle": "2025-07-30T20:56:20.905214Z",
     "shell.execute_reply": "2025-07-30T20:56:20.904344Z"
    },
    "papermill": {
     "duration": 0.918205,
     "end_time": "2025-07-30T20:56:20.907137",
     "exception": false,
     "start_time": "2025-07-30T20:56:19.988932",
     "status": "completed"
    },
    "tags": []
   },
   "outputs": [],
   "source": [
    "from fairness_multiverse.conformal import evaluate_sets\n",
    "\n",
    "# Evaluate coverage and average set size on test data\n",
    "metrics = evaluate_sets(pred_sets, y_true)"
   ]
  },
  {
   "cell_type": "markdown",
   "id": "2b569c12-9aaa-4c88-98c9-bbcd0cf3ebb8",
   "metadata": {
    "papermill": {
     "duration": 0.025739,
     "end_time": "2025-07-30T20:56:20.976713",
     "exception": false,
     "start_time": "2025-07-30T20:56:20.950974",
     "status": "completed"
    },
    "tags": []
   },
   "source": [
    "# CP Metrics"
   ]
  },
  {
   "cell_type": "code",
   "execution_count": 56,
   "id": "5ce0a5cb-201f-45a0-ade5-94c7f0bd6095",
   "metadata": {
    "execution": {
     "iopub.execute_input": "2025-07-30T20:56:21.029673Z",
     "iopub.status.busy": "2025-07-30T20:56:21.029050Z",
     "iopub.status.idle": "2025-07-30T20:56:21.036129Z",
     "shell.execute_reply": "2025-07-30T20:56:21.035141Z"
    },
    "papermill": {
     "duration": 0.035395,
     "end_time": "2025-07-30T20:56:21.037789",
     "exception": false,
     "start_time": "2025-07-30T20:56:21.002394",
     "status": "completed"
    },
    "tags": []
   },
   "outputs": [
    {
     "data": {
      "text/plain": [
       "{'coverage': 0.9101103555902352, 'avg_size': 1.1485230186155388}"
      ]
     },
     "execution_count": 56,
     "metadata": {},
     "output_type": "execute_result"
    }
   ],
   "source": [
    "metrics"
   ]
  },
  {
   "cell_type": "code",
   "execution_count": 57,
   "id": "9b9a838d-31c9-430b-ae14-12baee460d17",
   "metadata": {
    "execution": {
     "iopub.execute_input": "2025-07-30T20:56:21.092352Z",
     "iopub.status.busy": "2025-07-30T20:56:21.091776Z",
     "iopub.status.idle": "2025-07-30T20:56:21.097799Z",
     "shell.execute_reply": "2025-07-30T20:56:21.096889Z"
    },
    "papermill": {
     "duration": 0.034788,
     "end_time": "2025-07-30T20:56:21.099400",
     "exception": false,
     "start_time": "2025-07-30T20:56:21.064612",
     "status": "completed"
    },
    "tags": []
   },
   "outputs": [],
   "source": [
    "example_universe = universe.copy()\n",
    "universe_training_year = example_universe.get(\"training_year\")\n",
    "universe_training_size = example_universe.get(\"training_size\")\n",
    "universe_scale = example_universe.get(\"scale\")\n",
    "universe_model = example_universe.get(\"model\")\n",
    "universe_exclude_features = example_universe.get(\"exclude_features\")\n",
    "universe_exclude_subgroups = example_universe.get(\"exclude_subgroups\")"
   ]
  },
  {
   "cell_type": "code",
   "execution_count": 58,
   "id": "f4b6a8ac-9dc0-4245-8a91-5b3b5999c4f9",
   "metadata": {
    "execution": {
     "iopub.execute_input": "2025-07-30T20:56:21.153743Z",
     "iopub.status.busy": "2025-07-30T20:56:21.153037Z",
     "iopub.status.idle": "2025-07-30T20:56:21.159553Z",
     "shell.execute_reply": "2025-07-30T20:56:21.158530Z"
    },
    "papermill": {
     "duration": 0.035044,
     "end_time": "2025-07-30T20:56:21.161327",
     "exception": false,
     "start_time": "2025-07-30T20:56:21.126283",
     "status": "completed"
    },
    "tags": []
   },
   "outputs": [],
   "source": [
    "cp_metrics_dict = {\n",
    "    \"universe_id\": [universe_id],\n",
    "    \"universe_training_year\": [universe_training_year],\n",
    "    \"universe_training_size\": [universe_training_size],\n",
    "    \"universe_scale\": [universe_scale],\n",
    "    \"universe_model\": [universe_model],\n",
    "    \"universe_exclude_features\": [universe_exclude_features],\n",
    "    \"universe_exclude_subgroups\": [universe_exclude_subgroups],\n",
    "    \"q_hat\": [q_hat],\n",
    "    \"coverage\": [metrics[\"coverage\"]],\n",
    "    \"avg_size\": [metrics[\"avg_size\"]],\n",
    "}"
   ]
  },
  {
   "cell_type": "code",
   "execution_count": 59,
   "id": "908acbb1-0371-4915-85ca-3fa520d2efe2",
   "metadata": {
    "execution": {
     "iopub.execute_input": "2025-07-30T20:56:21.216197Z",
     "iopub.status.busy": "2025-07-30T20:56:21.215395Z",
     "iopub.status.idle": "2025-07-30T20:56:21.223545Z",
     "shell.execute_reply": "2025-07-30T20:56:21.222533Z"
    },
    "papermill": {
     "duration": 0.036744,
     "end_time": "2025-07-30T20:56:21.225229",
     "exception": false,
     "start_time": "2025-07-30T20:56:21.188485",
     "status": "completed"
    },
    "tags": []
   },
   "outputs": [
    {
     "data": {
      "text/plain": [
       "{'universe_id': ['a5fcc88d1db4287d184a6ceb9cce536a'],\n",
       " 'universe_training_year': ['2014'],\n",
       " 'universe_training_size': ['5k'],\n",
       " 'universe_scale': ['do-not-scale'],\n",
       " 'universe_model': ['elasticnet'],\n",
       " 'universe_exclude_features': ['sex'],\n",
       " 'universe_exclude_subgroups': ['keep-all'],\n",
       " 'q_hat': [0.689871193766016],\n",
       " 'coverage': [0.9101103555902352],\n",
       " 'avg_size': [1.1485230186155388]}"
      ]
     },
     "execution_count": 59,
     "metadata": {},
     "output_type": "execute_result"
    }
   ],
   "source": [
    "cp_metrics_dict"
   ]
  },
  {
   "cell_type": "code",
   "execution_count": 60,
   "id": "33007efc-14e9-4ec6-97ac-56a455c82265",
   "metadata": {
    "execution": {
     "iopub.execute_input": "2025-07-30T20:56:21.283418Z",
     "iopub.status.busy": "2025-07-30T20:56:21.282697Z",
     "iopub.status.idle": "2025-07-30T20:56:21.289849Z",
     "shell.execute_reply": "2025-07-30T20:56:21.288954Z"
    },
    "papermill": {
     "duration": 0.038169,
     "end_time": "2025-07-30T20:56:21.291707",
     "exception": false,
     "start_time": "2025-07-30T20:56:21.253538",
     "status": "completed"
    },
    "tags": []
   },
   "outputs": [],
   "source": [
    "cp_metrics_df = pd.DataFrame(cp_metrics_dict)"
   ]
  },
  {
   "cell_type": "code",
   "execution_count": 61,
   "id": "db12611b-57b2-4910-b9d0-355adfd6e7bf",
   "metadata": {
    "execution": {
     "iopub.execute_input": "2025-07-30T20:56:21.347091Z",
     "iopub.status.busy": "2025-07-30T20:56:21.346325Z",
     "iopub.status.idle": "2025-07-30T20:56:21.363533Z",
     "shell.execute_reply": "2025-07-30T20:56:21.362571Z"
    },
    "papermill": {
     "duration": 0.046012,
     "end_time": "2025-07-30T20:56:21.365134",
     "exception": false,
     "start_time": "2025-07-30T20:56:21.319122",
     "status": "completed"
    },
    "tags": []
   },
   "outputs": [
    {
     "data": {
      "text/html": [
       "<div>\n",
       "<style scoped>\n",
       "    .dataframe tbody tr th:only-of-type {\n",
       "        vertical-align: middle;\n",
       "    }\n",
       "\n",
       "    .dataframe tbody tr th {\n",
       "        vertical-align: top;\n",
       "    }\n",
       "\n",
       "    .dataframe thead th {\n",
       "        text-align: right;\n",
       "    }\n",
       "</style>\n",
       "<table border=\"1\" class=\"dataframe\">\n",
       "  <thead>\n",
       "    <tr style=\"text-align: right;\">\n",
       "      <th></th>\n",
       "      <th>universe_id</th>\n",
       "      <th>universe_training_year</th>\n",
       "      <th>universe_training_size</th>\n",
       "      <th>universe_scale</th>\n",
       "      <th>universe_model</th>\n",
       "      <th>universe_exclude_features</th>\n",
       "      <th>universe_exclude_subgroups</th>\n",
       "      <th>q_hat</th>\n",
       "      <th>coverage</th>\n",
       "      <th>avg_size</th>\n",
       "    </tr>\n",
       "  </thead>\n",
       "  <tbody>\n",
       "    <tr>\n",
       "      <th>0</th>\n",
       "      <td>a5fcc88d1db4287d184a6ceb9cce536a</td>\n",
       "      <td>2014</td>\n",
       "      <td>5k</td>\n",
       "      <td>do-not-scale</td>\n",
       "      <td>elasticnet</td>\n",
       "      <td>sex</td>\n",
       "      <td>keep-all</td>\n",
       "      <td>0.689871</td>\n",
       "      <td>0.91011</td>\n",
       "      <td>1.148523</td>\n",
       "    </tr>\n",
       "  </tbody>\n",
       "</table>\n",
       "</div>"
      ],
      "text/plain": [
       "                        universe_id universe_training_year  \\\n",
       "0  a5fcc88d1db4287d184a6ceb9cce536a                   2014   \n",
       "\n",
       "  universe_training_size universe_scale universe_model  \\\n",
       "0                     5k   do-not-scale     elasticnet   \n",
       "\n",
       "  universe_exclude_features universe_exclude_subgroups     q_hat  coverage  \\\n",
       "0                       sex                   keep-all  0.689871   0.91011   \n",
       "\n",
       "   avg_size  \n",
       "0  1.148523  "
      ]
     },
     "execution_count": 61,
     "metadata": {},
     "output_type": "execute_result"
    }
   ],
   "source": [
    "cp_metrics_df"
   ]
  },
  {
   "cell_type": "code",
   "execution_count": 62,
   "id": "b7fbde55-a0a1-47e4-9af6-fe4a17fa8c61",
   "metadata": {
    "execution": {
     "iopub.execute_input": "2025-07-30T20:56:21.420472Z",
     "iopub.status.busy": "2025-07-30T20:56:21.419801Z",
     "iopub.status.idle": "2025-07-30T20:56:21.425337Z",
     "shell.execute_reply": "2025-07-30T20:56:21.424201Z"
    },
    "papermill": {
     "duration": 0.034616,
     "end_time": "2025-07-30T20:56:21.427249",
     "exception": false,
     "start_time": "2025-07-30T20:56:21.392633",
     "status": "completed"
    },
    "tags": []
   },
   "outputs": [],
   "source": [
    "# Conditional Coverage & looking at subgroups"
   ]
  },
  {
   "cell_type": "code",
   "execution_count": 63,
   "id": "027ae886-68dd-4141-96c7-805a5450e1ef",
   "metadata": {
    "execution": {
     "iopub.execute_input": "2025-07-30T20:56:21.483385Z",
     "iopub.status.busy": "2025-07-30T20:56:21.482656Z",
     "iopub.status.idle": "2025-07-30T20:56:21.739023Z",
     "shell.execute_reply": "2025-07-30T20:56:21.738067Z"
    },
    "papermill": {
     "duration": 0.285742,
     "end_time": "2025-07-30T20:56:21.740886",
     "exception": false,
     "start_time": "2025-07-30T20:56:21.455144",
     "status": "completed"
    },
    "tags": []
   },
   "outputs": [],
   "source": [
    "from fairness_multiverse.conformal import build_cp_groups\n",
    "\n",
    "cp_groups_df = build_cp_groups(pred_sets, y_true, X_test.index, org_test)\n",
    "#needs universe_id and setting"
   ]
  },
  {
   "cell_type": "code",
   "execution_count": 64,
   "id": "01d5802c-663a-4d1f-9d69-e036faaffbf7",
   "metadata": {
    "execution": {
     "iopub.execute_input": "2025-07-30T20:56:21.793411Z",
     "iopub.status.busy": "2025-07-30T20:56:21.792643Z",
     "iopub.status.idle": "2025-07-30T20:56:21.797645Z",
     "shell.execute_reply": "2025-07-30T20:56:21.796712Z"
    },
    "papermill": {
     "duration": 0.031453,
     "end_time": "2025-07-30T20:56:21.799359",
     "exception": false,
     "start_time": "2025-07-30T20:56:21.767906",
     "status": "completed"
    },
    "tags": []
   },
   "outputs": [],
   "source": [
    "#delete\n",
    "#cp_groups_df"
   ]
  },
  {
   "cell_type": "code",
   "execution_count": 65,
   "id": "fa424af1-d1eb-443d-b717-2d279ada8408",
   "metadata": {
    "execution": {
     "iopub.execute_input": "2025-07-30T20:56:21.842360Z",
     "iopub.status.busy": "2025-07-30T20:56:21.841394Z",
     "iopub.status.idle": "2025-07-30T20:56:21.846593Z",
     "shell.execute_reply": "2025-07-30T20:56:21.845472Z"
    },
    "papermill": {
     "duration": 0.022733,
     "end_time": "2025-07-30T20:56:21.848295",
     "exception": false,
     "start_time": "2025-07-30T20:56:21.825562",
     "status": "completed"
    },
    "tags": []
   },
   "outputs": [],
   "source": [
    "#delete\n",
    "#percentage = (cp_groups_df['nongerman_female'] == 1).mean() * 100\n",
    "#print(percentage)\n"
   ]
  },
  {
   "cell_type": "code",
   "execution_count": 66,
   "id": "6cbdab96-b2b2-45af-ad54-d0516db2e28d",
   "metadata": {
    "execution": {
     "iopub.execute_input": "2025-07-30T20:56:21.901961Z",
     "iopub.status.busy": "2025-07-30T20:56:21.901543Z",
     "iopub.status.idle": "2025-07-30T20:56:23.462058Z",
     "shell.execute_reply": "2025-07-30T20:56:23.460915Z"
    },
    "papermill": {
     "duration": 1.589274,
     "end_time": "2025-07-30T20:56:23.464085",
     "exception": false,
     "start_time": "2025-07-30T20:56:21.874811",
     "status": "completed"
    },
    "tags": []
   },
   "outputs": [],
   "source": [
    "# Define covered = 1 if true_label is in the predicted set\n",
    "cp_groups_df['covered'] = cp_groups_df.apply(\n",
    "    lambda r: int(r['true_label'] in r['pred_set']),\n",
    "    axis=1\n",
    ")"
   ]
  },
  {
   "cell_type": "code",
   "execution_count": 67,
   "id": "338ff529-1a6b-4b87-a931-8e4788d52aad",
   "metadata": {
    "execution": {
     "iopub.execute_input": "2025-07-30T20:56:23.515275Z",
     "iopub.status.busy": "2025-07-30T20:56:23.514605Z",
     "iopub.status.idle": "2025-07-30T20:56:23.520017Z",
     "shell.execute_reply": "2025-07-30T20:56:23.519080Z"
    },
    "papermill": {
     "duration": 0.032145,
     "end_time": "2025-07-30T20:56:23.521763",
     "exception": false,
     "start_time": "2025-07-30T20:56:23.489618",
     "status": "completed"
    },
    "tags": []
   },
   "outputs": [],
   "source": [
    "#cp_groups_df"
   ]
  },
  {
   "cell_type": "code",
   "execution_count": 68,
   "id": "90032e27-66df-4540-9169-4e89cfbaa758",
   "metadata": {
    "execution": {
     "iopub.execute_input": "2025-07-30T20:56:23.570955Z",
     "iopub.status.busy": "2025-07-30T20:56:23.570182Z",
     "iopub.status.idle": "2025-07-30T20:56:23.582299Z",
     "shell.execute_reply": "2025-07-30T20:56:23.581467Z"
    },
    "papermill": {
     "duration": 0.03796,
     "end_time": "2025-07-30T20:56:23.584023",
     "exception": false,
     "start_time": "2025-07-30T20:56:23.546063",
     "status": "completed"
    },
    "tags": []
   },
   "outputs": [],
   "source": [
    "subgroups = ['frau1','nongerman','nongerman_male','nongerman_female']\n",
    "\n",
    "# Conditional coverage for subgroup==1\n",
    "cond_coverage = {\n",
    "    g: cp_groups_df.loc[cp_groups_df[g]==1, 'covered'].mean()\n",
    "    for g in subgroups\n",
    "}"
   ]
  },
  {
   "cell_type": "code",
   "execution_count": 69,
   "id": "1e348fb1-b9c3-45bc-ba23-f016827a7e0d",
   "metadata": {
    "execution": {
     "iopub.execute_input": "2025-07-30T20:56:23.634112Z",
     "iopub.status.busy": "2025-07-30T20:56:23.633611Z",
     "iopub.status.idle": "2025-07-30T20:56:23.640906Z",
     "shell.execute_reply": "2025-07-30T20:56:23.640086Z"
    },
    "papermill": {
     "duration": 0.033569,
     "end_time": "2025-07-30T20:56:23.642435",
     "exception": false,
     "start_time": "2025-07-30T20:56:23.608866",
     "status": "completed"
    },
    "tags": []
   },
   "outputs": [
    {
     "data": {
      "text/plain": [
       "{'frau1': 0.9076425394257986,\n",
       " 'nongerman': 0.9092236007410318,\n",
       " 'nongerman_male': 0.9256056921552733,\n",
       " 'nongerman_female': 0.8821162444113264}"
      ]
     },
     "execution_count": 69,
     "metadata": {},
     "output_type": "execute_result"
    }
   ],
   "source": [
    "cond_coverage"
   ]
  },
  {
   "cell_type": "code",
   "execution_count": 70,
   "id": "f5093324-c3dd-4d63-bc4c-8d945e5c8bbb",
   "metadata": {
    "execution": {
     "iopub.execute_input": "2025-07-30T20:56:23.693637Z",
     "iopub.status.busy": "2025-07-30T20:56:23.692997Z",
     "iopub.status.idle": "2025-07-30T20:56:23.701030Z",
     "shell.execute_reply": "2025-07-30T20:56:23.699869Z"
    },
    "papermill": {
     "duration": 0.035801,
     "end_time": "2025-07-30T20:56:23.702836",
     "exception": false,
     "start_time": "2025-07-30T20:56:23.667035",
     "status": "completed"
    },
    "tags": []
   },
   "outputs": [],
   "source": [
    "for subgroup, cov in cond_coverage.items():\n",
    "    cp_metrics_df[f\"cov_{subgroup}\"] = cov"
   ]
  },
  {
   "cell_type": "code",
   "execution_count": 71,
   "id": "6e872e10-dbe5-49e8-b554-5030c98ff75d",
   "metadata": {
    "execution": {
     "iopub.execute_input": "2025-07-30T20:56:23.758466Z",
     "iopub.status.busy": "2025-07-30T20:56:23.757839Z",
     "iopub.status.idle": "2025-07-30T20:56:23.777424Z",
     "shell.execute_reply": "2025-07-30T20:56:23.776497Z"
    },
    "papermill": {
     "duration": 0.047444,
     "end_time": "2025-07-30T20:56:23.779074",
     "exception": false,
     "start_time": "2025-07-30T20:56:23.731630",
     "status": "completed"
    },
    "tags": []
   },
   "outputs": [
    {
     "data": {
      "text/html": [
       "<div>\n",
       "<style scoped>\n",
       "    .dataframe tbody tr th:only-of-type {\n",
       "        vertical-align: middle;\n",
       "    }\n",
       "\n",
       "    .dataframe tbody tr th {\n",
       "        vertical-align: top;\n",
       "    }\n",
       "\n",
       "    .dataframe thead th {\n",
       "        text-align: right;\n",
       "    }\n",
       "</style>\n",
       "<table border=\"1\" class=\"dataframe\">\n",
       "  <thead>\n",
       "    <tr style=\"text-align: right;\">\n",
       "      <th></th>\n",
       "      <th>universe_id</th>\n",
       "      <th>universe_training_year</th>\n",
       "      <th>universe_training_size</th>\n",
       "      <th>universe_scale</th>\n",
       "      <th>universe_model</th>\n",
       "      <th>universe_exclude_features</th>\n",
       "      <th>universe_exclude_subgroups</th>\n",
       "      <th>q_hat</th>\n",
       "      <th>coverage</th>\n",
       "      <th>avg_size</th>\n",
       "      <th>cov_frau1</th>\n",
       "      <th>cov_nongerman</th>\n",
       "      <th>cov_nongerman_male</th>\n",
       "      <th>cov_nongerman_female</th>\n",
       "    </tr>\n",
       "  </thead>\n",
       "  <tbody>\n",
       "    <tr>\n",
       "      <th>0</th>\n",
       "      <td>a5fcc88d1db4287d184a6ceb9cce536a</td>\n",
       "      <td>2014</td>\n",
       "      <td>5k</td>\n",
       "      <td>do-not-scale</td>\n",
       "      <td>elasticnet</td>\n",
       "      <td>sex</td>\n",
       "      <td>keep-all</td>\n",
       "      <td>0.689871</td>\n",
       "      <td>0.91011</td>\n",
       "      <td>1.148523</td>\n",
       "      <td>0.907643</td>\n",
       "      <td>0.909224</td>\n",
       "      <td>0.925606</td>\n",
       "      <td>0.882116</td>\n",
       "    </tr>\n",
       "  </tbody>\n",
       "</table>\n",
       "</div>"
      ],
      "text/plain": [
       "                        universe_id universe_training_year  \\\n",
       "0  a5fcc88d1db4287d184a6ceb9cce536a                   2014   \n",
       "\n",
       "  universe_training_size universe_scale universe_model  \\\n",
       "0                     5k   do-not-scale     elasticnet   \n",
       "\n",
       "  universe_exclude_features universe_exclude_subgroups     q_hat  coverage  \\\n",
       "0                       sex                   keep-all  0.689871   0.91011   \n",
       "\n",
       "   avg_size  cov_frau1  cov_nongerman  cov_nongerman_male  \\\n",
       "0  1.148523   0.907643       0.909224            0.925606   \n",
       "\n",
       "   cov_nongerman_female  \n",
       "0              0.882116  "
      ]
     },
     "execution_count": 71,
     "metadata": {},
     "output_type": "execute_result"
    }
   ],
   "source": [
    "cp_metrics_df"
   ]
  },
  {
   "cell_type": "markdown",
   "id": "33774451",
   "metadata": {
    "papermill": {
     "duration": 0.02476,
     "end_time": "2025-07-30T20:56:23.829275",
     "exception": false,
     "start_time": "2025-07-30T20:56:23.804515",
     "status": "completed"
    },
    "tags": []
   },
   "source": [
    "# (Fairness) Metrics"
   ]
  },
  {
   "cell_type": "code",
   "execution_count": 72,
   "id": "debc5d62",
   "metadata": {
    "execution": {
     "iopub.execute_input": "2025-07-30T20:56:23.879122Z",
     "iopub.status.busy": "2025-07-30T20:56:23.878500Z",
     "iopub.status.idle": "2025-07-30T20:56:23.900212Z",
     "shell.execute_reply": "2025-07-30T20:56:23.899205Z"
    },
    "papermill": {
     "duration": 0.048478,
     "end_time": "2025-07-30T20:56:23.901808",
     "exception": false,
     "start_time": "2025-07-30T20:56:23.853330",
     "status": "completed"
    },
    "tags": []
   },
   "outputs": [],
   "source": [
    "# do I need to include maxdeutsch1.missing?\n",
    "\n",
    "import numpy as np\n",
    "\n",
    "colname_to_bin = \"maxdeutsch1\"\n",
    "majority_value = org_train[colname_to_bin].mode()[0]\n",
    "\n",
    "org_test[\"majmin\"] = np.where(org_test[colname_to_bin] == majority_value, \"majority\", \"minority\")"
   ]
  },
  {
   "cell_type": "code",
   "execution_count": 73,
   "id": "06a50de5",
   "metadata": {
    "execution": {
     "iopub.execute_input": "2025-07-30T20:56:23.953405Z",
     "iopub.status.busy": "2025-07-30T20:56:23.952799Z",
     "iopub.status.idle": "2025-07-30T20:56:26.881752Z",
     "shell.execute_reply": "2025-07-30T20:56:26.880763Z"
    },
    "papermill": {
     "duration": 2.954904,
     "end_time": "2025-07-30T20:56:26.883134",
     "exception": false,
     "start_time": "2025-07-30T20:56:23.928230",
     "status": "completed"
    },
    "tags": []
   },
   "outputs": [],
   "source": [
    "example_universe = universe.copy()\n",
    "example_universe[\"cutoff\"] = example_universe[\"cutoff\"][0]\n",
    "example_universe[\"eval_fairness_grouping\"] = example_universe[\"eval_fairness_grouping\"][0]\n",
    "fairness_dict, metric_frame = universe_analysis.compute_metrics(\n",
    "    example_universe,\n",
    "    y_pred_prob=probs_test,\n",
    "    y_test=y_true,\n",
    "    org_test=org_test,\n",
    ")"
   ]
  },
  {
   "cell_type": "markdown",
   "id": "f95d4e02",
   "metadata": {
    "papermill": {
     "duration": 0.025587,
     "end_time": "2025-07-30T20:56:26.938406",
     "exception": false,
     "start_time": "2025-07-30T20:56:26.912819",
     "status": "completed"
    },
    "tags": []
   },
   "source": [
    "# Overall"
   ]
  },
  {
   "cell_type": "markdown",
   "id": "bdee4871",
   "metadata": {
    "papermill": {
     "duration": 0.02697,
     "end_time": "2025-07-30T20:56:26.991498",
     "exception": false,
     "start_time": "2025-07-30T20:56:26.964528",
     "status": "completed"
    },
    "tags": []
   },
   "source": [
    "Fairness\n",
    "Main fairness target: Equalized Odds. Seems to be a better fit than equal opportunity, since we're not only interested in Y = 1. Seems to be a better fit than demographic parity, since we also care about accuracy, not just equal distribution of preds.\n",
    "\n",
    "Pick column for computation of fairness metrics\n",
    "\n",
    "Performance\n",
    "Overall performance measures, most interesting in relation to the measures split by group below"
   ]
  },
  {
   "cell_type": "code",
   "execution_count": 74,
   "id": "c4e067c6",
   "metadata": {
    "execution": {
     "iopub.execute_input": "2025-07-30T20:56:27.054179Z",
     "iopub.status.busy": "2025-07-30T20:56:27.053491Z",
     "iopub.status.idle": "2025-07-30T20:56:27.062847Z",
     "shell.execute_reply": "2025-07-30T20:56:27.061699Z"
    },
    "papermill": {
     "duration": 0.048056,
     "end_time": "2025-07-30T20:56:27.064938",
     "exception": false,
     "start_time": "2025-07-30T20:56:27.016882",
     "status": "completed"
    },
    "tags": []
   },
   "outputs": [
    {
     "data": {
      "text/plain": [
       "accuracy                   0.219541\n",
       "balanced accuracy          0.537820\n",
       "f1                         0.241005\n",
       "precision                  0.137678\n",
       "false positive rate        0.890297\n",
       "false negative rate        0.034063\n",
       "selection rate             0.900000\n",
       "count                  89710.000000\n",
       "dtype: float64"
      ]
     },
     "execution_count": 74,
     "metadata": {},
     "output_type": "execute_result"
    }
   ],
   "source": [
    "metric_frame.overall"
   ]
  },
  {
   "cell_type": "markdown",
   "id": "e968fe9d",
   "metadata": {
    "papermill": {
     "duration": 0.024502,
     "end_time": "2025-07-30T20:56:27.120389",
     "exception": false,
     "start_time": "2025-07-30T20:56:27.095887",
     "status": "completed"
    },
    "tags": []
   },
   "source": [
    "By Group"
   ]
  },
  {
   "cell_type": "code",
   "execution_count": 75,
   "id": "ec325bce",
   "metadata": {
    "execution": {
     "iopub.execute_input": "2025-07-30T20:56:27.171253Z",
     "iopub.status.busy": "2025-07-30T20:56:27.170604Z",
     "iopub.status.idle": "2025-07-30T20:56:27.186176Z",
     "shell.execute_reply": "2025-07-30T20:56:27.185166Z"
    },
    "papermill": {
     "duration": 0.043347,
     "end_time": "2025-07-30T20:56:27.188198",
     "exception": false,
     "start_time": "2025-07-30T20:56:27.144851",
     "status": "completed"
    },
    "tags": []
   },
   "outputs": [
    {
     "data": {
      "text/html": [
       "<div>\n",
       "<style scoped>\n",
       "    .dataframe tbody tr th:only-of-type {\n",
       "        vertical-align: middle;\n",
       "    }\n",
       "\n",
       "    .dataframe tbody tr th {\n",
       "        vertical-align: top;\n",
       "    }\n",
       "\n",
       "    .dataframe thead th {\n",
       "        text-align: right;\n",
       "    }\n",
       "</style>\n",
       "<table border=\"1\" class=\"dataframe\">\n",
       "  <thead>\n",
       "    <tr style=\"text-align: right;\">\n",
       "      <th></th>\n",
       "      <th>accuracy</th>\n",
       "      <th>balanced accuracy</th>\n",
       "      <th>f1</th>\n",
       "      <th>precision</th>\n",
       "      <th>false positive rate</th>\n",
       "      <th>false negative rate</th>\n",
       "      <th>selection rate</th>\n",
       "      <th>count</th>\n",
       "    </tr>\n",
       "    <tr>\n",
       "      <th>majmin</th>\n",
       "      <th></th>\n",
       "      <th></th>\n",
       "      <th></th>\n",
       "      <th></th>\n",
       "      <th></th>\n",
       "      <th></th>\n",
       "      <th></th>\n",
       "      <th></th>\n",
       "    </tr>\n",
       "  </thead>\n",
       "  <tbody>\n",
       "    <tr>\n",
       "      <th>majority</th>\n",
       "      <td>0.241087</td>\n",
       "      <td>0.546259</td>\n",
       "      <td>0.250749</td>\n",
       "      <td>0.144184</td>\n",
       "      <td>0.868532</td>\n",
       "      <td>0.038950</td>\n",
       "      <td>0.880758</td>\n",
       "      <td>69170.0</td>\n",
       "    </tr>\n",
       "    <tr>\n",
       "      <th>minority</th>\n",
       "      <td>0.146981</td>\n",
       "      <td>0.511301</td>\n",
       "      <td>0.210232</td>\n",
       "      <td>0.117677</td>\n",
       "      <td>0.962195</td>\n",
       "      <td>0.015203</td>\n",
       "      <td>0.964800</td>\n",
       "      <td>20540.0</td>\n",
       "    </tr>\n",
       "  </tbody>\n",
       "</table>\n",
       "</div>"
      ],
      "text/plain": [
       "          accuracy  balanced accuracy        f1  precision  \\\n",
       "majmin                                                       \n",
       "majority  0.241087           0.546259  0.250749   0.144184   \n",
       "minority  0.146981           0.511301  0.210232   0.117677   \n",
       "\n",
       "          false positive rate  false negative rate  selection rate    count  \n",
       "majmin                                                                       \n",
       "majority             0.868532             0.038950        0.880758  69170.0  \n",
       "minority             0.962195             0.015203        0.964800  20540.0  "
      ]
     },
     "execution_count": 75,
     "metadata": {},
     "output_type": "execute_result"
    }
   ],
   "source": [
    "metric_frame.by_group"
   ]
  },
  {
   "cell_type": "code",
   "execution_count": 76,
   "id": "a9ddbe63",
   "metadata": {
    "execution": {
     "iopub.execute_input": "2025-07-30T20:56:27.241170Z",
     "iopub.status.busy": "2025-07-30T20:56:27.240303Z",
     "iopub.status.idle": "2025-07-30T20:56:29.551041Z",
     "shell.execute_reply": "2025-07-30T20:56:29.550074Z"
    },
    "papermill": {
     "duration": 2.338223,
     "end_time": "2025-07-30T20:56:29.552638",
     "exception": false,
     "start_time": "2025-07-30T20:56:27.214415",
     "status": "completed"
    },
    "tags": []
   },
   "outputs": [
    {
     "data": {
      "text/plain": [
       "array([[<Axes: title={'center': 'accuracy'}, xlabel='majmin'>,\n",
       "        <Axes: title={'center': 'balanced accuracy'}, xlabel='majmin'>,\n",
       "        <Axes: title={'center': 'f1'}, xlabel='majmin'>],\n",
       "       [<Axes: title={'center': 'precision'}, xlabel='majmin'>,\n",
       "        <Axes: title={'center': 'false positive rate'}, xlabel='majmin'>,\n",
       "        <Axes: title={'center': 'false negative rate'}, xlabel='majmin'>],\n",
       "       [<Axes: title={'center': 'selection rate'}, xlabel='majmin'>,\n",
       "        <Axes: title={'center': 'count'}, xlabel='majmin'>,\n",
       "        <Axes: xlabel='majmin'>]], dtype=object)"
      ]
     },
     "execution_count": 76,
     "metadata": {},
     "output_type": "execute_result"
    },
    {
     "data": {
      "image/png": "[encoded data removed]",
      "text/plain": [
       "<Figure size 1200x800 with 9 Axes>"
      ]
     },
     "metadata": {},
     "output_type": "display_data"
    }
   ],
   "source": [
    "# In a graphic\n",
    "metric_frame.by_group.plot.bar(\n",
    "    subplots=True,\n",
    "    layout=[3, 3],\n",
    "    legend=False,\n",
    "    figsize=[12, 8],\n",
    "    title=\"Show all metrics\",\n",
    ")"
   ]
  },
  {
   "cell_type": "markdown",
   "id": "f57a0bac",
   "metadata": {
    "papermill": {
     "duration": 0.026155,
     "end_time": "2025-07-30T20:56:29.609490",
     "exception": false,
     "start_time": "2025-07-30T20:56:29.583335",
     "status": "completed"
    },
    "tags": []
   },
   "source": [
    "# Final Output"
   ]
  },
  {
   "cell_type": "code",
   "execution_count": 77,
   "id": "96d280a3",
   "metadata": {
    "execution": {
     "iopub.execute_input": "2025-07-30T20:56:29.664933Z",
     "iopub.status.busy": "2025-07-30T20:56:29.663830Z",
     "iopub.status.idle": "2025-07-30T20:56:29.673172Z",
     "shell.execute_reply": "2025-07-30T20:56:29.671956Z"
    },
    "papermill": {
     "duration": 0.037867,
     "end_time": "2025-07-30T20:56:29.674626",
     "exception": false,
     "start_time": "2025-07-30T20:56:29.636759",
     "status": "completed"
    },
    "tags": []
   },
   "outputs": [
    {
     "data": {
      "text/plain": [
       "4"
      ]
     },
     "execution_count": 77,
     "metadata": {},
     "output_type": "execute_result"
    }
   ],
   "source": [
    "sub_universes = universe_analysis.generate_sub_universes()\n",
    "len(sub_universes)"
   ]
  },
  {
   "cell_type": "code",
   "execution_count": 78,
   "id": "92adf7ba",
   "metadata": {
    "execution": {
     "iopub.execute_input": "2025-07-30T20:56:29.731268Z",
     "iopub.status.busy": "2025-07-30T20:56:29.730445Z",
     "iopub.status.idle": "2025-07-30T20:56:29.736558Z",
     "shell.execute_reply": "2025-07-30T20:56:29.735490Z"
    },
    "papermill": {
     "duration": 0.036737,
     "end_time": "2025-07-30T20:56:29.738324",
     "exception": false,
     "start_time": "2025-07-30T20:56:29.701587",
     "status": "completed"
    },
    "tags": []
   },
   "outputs": [],
   "source": [
    "def filter_sub_universe_data(sub_universe, org_test):\n",
    "    # Keep all rows — no filtering\n",
    "    keep_rows_mask = np.ones(org_test.shape[0], dtype=bool)\n",
    "\n",
    "    print(f\"[INFO] Keeping all rows: {keep_rows_mask.sum()} rows retained.\")\n",
    "    return keep_rows_mask"
   ]
  },
  {
   "cell_type": "code",
   "execution_count": 79,
   "id": "4a759155",
   "metadata": {
    "execution": {
     "iopub.execute_input": "2025-07-30T20:56:29.799851Z",
     "iopub.status.busy": "2025-07-30T20:56:29.799208Z",
     "iopub.status.idle": "2025-07-30T20:56:39.074979Z",
     "shell.execute_reply": "2025-07-30T20:56:39.074095Z"
    },
    "papermill": {
     "duration": 9.307846,
     "end_time": "2025-07-30T20:56:39.076604",
     "exception": false,
     "start_time": "2025-07-30T20:56:29.768758",
     "status": "completed"
    },
    "tags": []
   },
   "outputs": [
    {
     "name": "stdout",
     "output_type": "stream",
     "text": [
      "Stopping execution_time clock.\n",
      "[INFO] Keeping all rows: 89710 rows retained.\n"
     ]
    },
    {
     "name": "stdout",
     "output_type": "stream",
     "text": [
      "[INFO] Keeping all rows: 89710 rows retained.\n"
     ]
    },
    {
     "name": "stdout",
     "output_type": "stream",
     "text": [
      "[INFO] Keeping all rows: 89710 rows retained.\n"
     ]
    },
    {
     "name": "stdout",
     "output_type": "stream",
     "text": [
      "[INFO] Keeping all rows: 89710 rows retained.\n"
     ]
    },
    {
     "data": {
      "text/html": [
       "<div>\n",
       "<style scoped>\n",
       "    .dataframe tbody tr th:only-of-type {\n",
       "        vertical-align: middle;\n",
       "    }\n",
       "\n",
       "    .dataframe tbody tr th {\n",
       "        vertical-align: top;\n",
       "    }\n",
       "\n",
       "    .dataframe thead th {\n",
       "        text-align: right;\n",
       "    }\n",
       "</style>\n",
       "<table border=\"1\" class=\"dataframe\">\n",
       "  <thead>\n",
       "    <tr style=\"text-align: right;\">\n",
       "      <th></th>\n",
       "      <th>run_no</th>\n",
       "      <th>universe_id</th>\n",
       "      <th>universe_settings</th>\n",
       "      <th>execution_time</th>\n",
       "      <th>test_size_n</th>\n",
       "      <th>test_size_frac</th>\n",
       "      <th>fair_main_equalized_odds_difference</th>\n",
       "      <th>fair_main_equalized_odds_ratio</th>\n",
       "      <th>fair_main_demographic_parity_difference</th>\n",
       "      <th>fair_main_demographic_parity_ratio</th>\n",
       "      <th>...</th>\n",
       "      <th>perf_grp_precision_0</th>\n",
       "      <th>perf_grp_precision_1</th>\n",
       "      <th>perf_grp_false positive rate_0</th>\n",
       "      <th>perf_grp_false positive rate_1</th>\n",
       "      <th>perf_grp_false negative rate_0</th>\n",
       "      <th>perf_grp_false negative rate_1</th>\n",
       "      <th>perf_grp_selection rate_0</th>\n",
       "      <th>perf_grp_selection rate_1</th>\n",
       "      <th>perf_grp_count_0</th>\n",
       "      <th>perf_grp_count_1</th>\n",
       "    </tr>\n",
       "  </thead>\n",
       "  <tbody>\n",
       "    <tr>\n",
       "      <th>0</th>\n",
       "      <td>14</td>\n",
       "      <td>a5fcc88d1db4287d184a6ceb9cce536a</td>\n",
       "      <td>{\"cutoff\": \"quantile_0.1\", \"eval_fairness_grou...</td>\n",
       "      <td>105.459803</td>\n",
       "      <td>89710</td>\n",
       "      <td>1.0</td>\n",
       "      <td>0.093662</td>\n",
       "      <td>0.902658</td>\n",
       "      <td>0.084043</td>\n",
       "      <td>0.912891</td>\n",
       "      <td>...</td>\n",
       "      <td>NaN</td>\n",
       "      <td>NaN</td>\n",
       "      <td>NaN</td>\n",
       "      <td>NaN</td>\n",
       "      <td>NaN</td>\n",
       "      <td>NaN</td>\n",
       "      <td>NaN</td>\n",
       "      <td>NaN</td>\n",
       "      <td>NaN</td>\n",
       "      <td>NaN</td>\n",
       "    </tr>\n",
       "    <tr>\n",
       "      <th>0</th>\n",
       "      <td>14</td>\n",
       "      <td>a5fcc88d1db4287d184a6ceb9cce536a</td>\n",
       "      <td>{\"cutoff\": \"quantile_0.1\", \"eval_fairness_grou...</td>\n",
       "      <td>105.459803</td>\n",
       "      <td>89710</td>\n",
       "      <td>1.0</td>\n",
       "      <td>0.093662</td>\n",
       "      <td>0.902658</td>\n",
       "      <td>0.084043</td>\n",
       "      <td>0.912891</td>\n",
       "      <td>...</td>\n",
       "      <td>0.117677</td>\n",
       "      <td>0.144184</td>\n",
       "      <td>0.962195</td>\n",
       "      <td>0.868532</td>\n",
       "      <td>0.015203</td>\n",
       "      <td>0.038950</td>\n",
       "      <td>0.964800</td>\n",
       "      <td>0.880758</td>\n",
       "      <td>20540.0</td>\n",
       "      <td>69170.0</td>\n",
       "    </tr>\n",
       "    <tr>\n",
       "      <th>0</th>\n",
       "      <td>14</td>\n",
       "      <td>a5fcc88d1db4287d184a6ceb9cce536a</td>\n",
       "      <td>{\"cutoff\": \"quantile_0.25\", \"eval_fairness_gro...</td>\n",
       "      <td>105.459803</td>\n",
       "      <td>89710</td>\n",
       "      <td>1.0</td>\n",
       "      <td>0.208828</td>\n",
       "      <td>0.765099</td>\n",
       "      <td>0.189183</td>\n",
       "      <td>0.788826</td>\n",
       "      <td>...</td>\n",
       "      <td>NaN</td>\n",
       "      <td>NaN</td>\n",
       "      <td>NaN</td>\n",
       "      <td>NaN</td>\n",
       "      <td>NaN</td>\n",
       "      <td>NaN</td>\n",
       "      <td>NaN</td>\n",
       "      <td>NaN</td>\n",
       "      <td>NaN</td>\n",
       "      <td>NaN</td>\n",
       "    </tr>\n",
       "    <tr>\n",
       "      <th>0</th>\n",
       "      <td>14</td>\n",
       "      <td>a5fcc88d1db4287d184a6ceb9cce536a</td>\n",
       "      <td>{\"cutoff\": \"quantile_0.25\", \"eval_fairness_gro...</td>\n",
       "      <td>105.459803</td>\n",
       "      <td>89710</td>\n",
       "      <td>1.0</td>\n",
       "      <td>0.208828</td>\n",
       "      <td>0.765099</td>\n",
       "      <td>0.189183</td>\n",
       "      <td>0.788826</td>\n",
       "      <td>...</td>\n",
       "      <td>0.122059</td>\n",
       "      <td>0.164686</td>\n",
       "      <td>0.889005</td>\n",
       "      <td>0.680177</td>\n",
       "      <td>0.051520</td>\n",
       "      <td>0.119256</td>\n",
       "      <td>0.895862</td>\n",
       "      <td>0.706679</td>\n",
       "      <td>20540.0</td>\n",
       "      <td>69170.0</td>\n",
       "    </tr>\n",
       "  </tbody>\n",
       "</table>\n",
       "<p>4 rows × 50 columns</p>\n",
       "</div>"
      ],
      "text/plain": [
       "  run_no                       universe_id  \\\n",
       "0     14  a5fcc88d1db4287d184a6ceb9cce536a   \n",
       "0     14  a5fcc88d1db4287d184a6ceb9cce536a   \n",
       "0     14  a5fcc88d1db4287d184a6ceb9cce536a   \n",
       "0     14  a5fcc88d1db4287d184a6ceb9cce536a   \n",
       "\n",
       "                                   universe_settings  execution_time  \\\n",
       "0  {\"cutoff\": \"quantile_0.1\", \"eval_fairness_grou...      105.459803   \n",
       "0  {\"cutoff\": \"quantile_0.1\", \"eval_fairness_grou...      105.459803   \n",
       "0  {\"cutoff\": \"quantile_0.25\", \"eval_fairness_gro...      105.459803   \n",
       "0  {\"cutoff\": \"quantile_0.25\", \"eval_fairness_gro...      105.459803   \n",
       "\n",
       "   test_size_n  test_size_frac  fair_main_equalized_odds_difference  \\\n",
       "0        89710             1.0                             0.093662   \n",
       "0        89710             1.0                             0.093662   \n",
       "0        89710             1.0                             0.208828   \n",
       "0        89710             1.0                             0.208828   \n",
       "\n",
       "   fair_main_equalized_odds_ratio  fair_main_demographic_parity_difference  \\\n",
       "0                        0.902658                                 0.084043   \n",
       "0                        0.902658                                 0.084043   \n",
       "0                        0.765099                                 0.189183   \n",
       "0                        0.765099                                 0.189183   \n",
       "\n",
       "   fair_main_demographic_parity_ratio  ...  perf_grp_precision_0  \\\n",
       "0                            0.912891  ...                   NaN   \n",
       "0                            0.912891  ...              0.117677   \n",
       "0                            0.788826  ...                   NaN   \n",
       "0                            0.788826  ...              0.122059   \n",
       "\n",
       "   perf_grp_precision_1  perf_grp_false positive rate_0  \\\n",
       "0                   NaN                             NaN   \n",
       "0              0.144184                        0.962195   \n",
       "0                   NaN                             NaN   \n",
       "0              0.164686                        0.889005   \n",
       "\n",
       "   perf_grp_false positive rate_1  perf_grp_false negative rate_0  \\\n",
       "0                             NaN                             NaN   \n",
       "0                        0.868532                        0.015203   \n",
       "0                             NaN                             NaN   \n",
       "0                        0.680177                        0.051520   \n",
       "\n",
       "   perf_grp_false negative rate_1  perf_grp_selection rate_0  \\\n",
       "0                             NaN                        NaN   \n",
       "0                        0.038950                   0.964800   \n",
       "0                             NaN                        NaN   \n",
       "0                        0.119256                   0.895862   \n",
       "\n",
       "   perf_grp_selection rate_1  perf_grp_count_0  perf_grp_count_1  \n",
       "0                        NaN               NaN               NaN  \n",
       "0                   0.880758           20540.0           69170.0  \n",
       "0                        NaN               NaN               NaN  \n",
       "0                   0.706679           20540.0           69170.0  \n",
       "\n",
       "[4 rows x 50 columns]"
      ]
     },
     "execution_count": 79,
     "metadata": {},
     "output_type": "execute_result"
    }
   ],
   "source": [
    "final_output = universe_analysis.generate_final_output(\n",
    "    y_pred_prob=probs_test,\n",
    "    y_test=y_true,\n",
    "    org_test=org_test,\n",
    "    filter_data=filter_sub_universe_data,\n",
    "    cp_metrics_df=cp_metrics_df,\n",
    "    save=True,\n",
    ")\n",
    "final_output"
   ]
  },
  {
   "cell_type": "code",
   "execution_count": null,
   "id": "721ff514-cb11-46f8-b6fc-50392f74b5cb",
   "metadata": {
    "papermill": {
     "duration": 0.031072,
     "end_time": "2025-07-30T20:56:39.140760",
     "exception": false,
     "start_time": "2025-07-30T20:56:39.109688",
     "status": "completed"
    },
    "tags": []
   },
   "outputs": [],
   "source": []
  }
 ],
 "metadata": {
  "celltoolbar": "Tags",
  "kernelspec": {
   "display_name": "Python (CMA Fairness)",
   "language": "python",
   "name": "cma_fair_env"
  },
  "language_info": {
   "codemirror_mode": {
    "name": "ipython",
    "version": 3
   },
   "file_extension": ".py",
   "mimetype": "text/x-python",
   "name": "python",
   "nbconvert_exporter": "python",
   "pygments_lexer": "ipython3",
   "version": "3.10.12"
  },
  "papermill": {
   "default_parameters": {},
   "duration": 118.943359,
   "end_time": "2025-07-30T20:56:39.889136",
   "environment_variables": {},
   "exception": null,
   "input_path": "universe_analysis.ipynb",
   "output_path": "output/runs/14/notebooks/m_14-a5fcc88d1db4287d184a6ceb9cce536a.ipynb",
   "parameters": {
    "output_dir": "output",
    "run_no": "14",
    "seed": "2023",
    "universe": "{\"cutoff\": [\"quantile_0.1\", \"quantile_0.25\"], \"eval_fairness_grouping\": [\"majority-minority\", \"nationality-all\"], \"exclude_features\": \"sex\", \"exclude_subgroups\": \"keep-all\", \"model\": \"elasticnet\", \"scale\": \"do-not-scale\", \"training_size\": \"5k\", \"training_year\": \"2014\"}",
    "universe_id": "a5fcc88d1db4287d184a6ceb9cce536a"
   },
   "start_time": "2025-07-30T20:54:40.945777",
   "version": "2.6.0"
  }
 },
 "nbformat": 4,
 "nbformat_minor": 5
}