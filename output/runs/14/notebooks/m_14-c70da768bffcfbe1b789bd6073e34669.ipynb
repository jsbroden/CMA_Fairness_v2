{
 "cells": [
  {
   "cell_type": "code",
   "execution_count": 1,
   "id": "f159f837-637b-42ba-96b5-ec9a68c44524",
   "metadata": {
    "execution": {
     "iopub.execute_input": "2025-07-30T20:01:15.561794Z",
     "iopub.status.busy": "2025-07-30T20:01:15.561295Z",
     "iopub.status.idle": "2025-07-30T20:01:15.574566Z",
     "shell.execute_reply": "2025-07-30T20:01:15.573522Z"
    },
    "papermill": {
     "duration": 0.036666,
     "end_time": "2025-07-30T20:01:15.576214",
     "exception": false,
     "start_time": "2025-07-30T20:01:15.539548",
     "status": "completed"
    },
    "tags": []
   },
   "outputs": [
    {
     "name": "stdout",
     "output_type": "stream",
     "text": [
      "/dss/dsshome1/0C/ra93lal2/cma/CMA_Fairness_v2\n"
     ]
    },
    {
     "name": "stderr",
     "output_type": "stream",
     "text": [
      "/dss/dsshome1/0C/ra93lal2/.local/share/virtualenvs/CMA_Fairness_v2-3j10GkSs/lib/python3.10/site-packages/IPython/core/magics/osm.py:393: UserWarning: This is now an optional IPython functionality, using bookmarks requires you to install the `pickleshare` library.\n",
      "  bkms = self.shell.db.get('bookmarks', {})\n",
      "/dss/dsshome1/0C/ra93lal2/.local/share/virtualenvs/CMA_Fairness_v2-3j10GkSs/lib/python3.10/site-packages/IPython/core/magics/osm.py:417: UserWarning: This is now an optional IPython functionality, setting dhist requires you to install the `pickleshare` library.\n",
      "  self.shell.db['dhist'] = compress_dhist(dhist)[-100:]\n"
     ]
    }
   ],
   "source": [
    "%cd ~/cma/CMA_Fairness_v2"
   ]
  },
  {
   "cell_type": "markdown",
   "id": "de2603b9",
   "metadata": {
    "papermill": {
     "duration": 0.019655,
     "end_time": "2025-07-30T20:01:15.617339",
     "exception": false,
     "start_time": "2025-07-30T20:01:15.597684",
     "status": "completed"
    },
    "tags": []
   },
   "source": [
    "The following cell holds the definition of our parameters, these values can be overriden by rendering the with e.g. the following command:\n",
    "\n",
    "papermill -p alpha 0.2 -p ratio 0.3 universe_analysis.ipynb output/test_run.ipynb"
   ]
  },
  {
   "cell_type": "code",
   "execution_count": 2,
   "id": "a80968a0-40bb-4fa9-85ef-2d5eefb01975",
   "metadata": {
    "execution": {
     "iopub.execute_input": "2025-07-30T20:01:15.658660Z",
     "iopub.status.busy": "2025-07-30T20:01:15.658179Z",
     "iopub.status.idle": "2025-07-30T20:01:15.664445Z",
     "shell.execute_reply": "2025-07-30T20:01:15.663490Z"
    },
    "papermill": {
     "duration": 0.028872,
     "end_time": "2025-07-30T20:01:15.666096",
     "exception": false,
     "start_time": "2025-07-30T20:01:15.637224",
     "status": "completed"
    },
    "tags": []
   },
   "outputs": [
    {
     "name": "stdout",
     "output_type": "stream",
     "text": [
      "Current working directory: /dss/dsshome1/0C/ra93lal2/cma/CMA_Fairness_v2\n"
     ]
    }
   ],
   "source": [
    "import os\n",
    "print(\"Current working directory:\", os.getcwd())"
   ]
  },
  {
   "cell_type": "code",
   "execution_count": 3,
   "id": "2dce4c03",
   "metadata": {
    "execution": {
     "iopub.execute_input": "2025-07-30T20:01:15.708907Z",
     "iopub.status.busy": "2025-07-30T20:01:15.708125Z",
     "iopub.status.idle": "2025-07-30T20:01:15.714703Z",
     "shell.execute_reply": "2025-07-30T20:01:15.713692Z"
    },
    "papermill": {
     "duration": 0.029185,
     "end_time": "2025-07-30T20:01:15.716441",
     "exception": false,
     "start_time": "2025-07-30T20:01:15.687256",
     "status": "completed"
    },
    "tags": [
     "parameters"
    ]
   },
   "outputs": [],
   "source": [
    "run_no = 0\n",
    "universe_id = \"test\"\n",
    "universe = {\n",
    "    \"training_size\": \"25k\", # \"25k\", \"5k\", \"1k\"\n",
    "    \"training_year\": \"2014\", # \"2014\", \"2012_14\", \"2010_14\"\n",
    "    \"scale\": \"scale\", # \"scale\", \"do-not-scale\",\n",
    "    #\"stratify_split\": \"target\", # \"none\", \"target\", \"protected-attribute\", \"both\",\n",
    "    \"model\": \"elasticnet\", # \"logreg\", \"penalized_logreg\", \"rf\", \"gbm\", \"elasticnet\"\n",
    "    \"cutoff\": [\"quantile_0.15\", \"quantile_0.30\"],\n",
    "    \"exclude_features\": \"age\", # \"none\", \"nationality\", \"sex\", \"nationality-sex\", \"age\"\n",
    "    \"exclude_subgroups\": \"keep-all\", # \"keep-all\", \"drop-non-german\"\n",
    "    \"eval_fairness_grouping\": [\"majority-minority\", \"nationality-all\"]\n",
    "}\n",
    "\n",
    "output_dir=\"./output\"\n",
    "seed=0"
   ]
  },
  {
   "cell_type": "code",
   "execution_count": 4,
   "id": "451cae0e",
   "metadata": {
    "execution": {
     "iopub.execute_input": "2025-07-30T20:01:15.761463Z",
     "iopub.status.busy": "2025-07-30T20:01:15.760549Z",
     "iopub.status.idle": "2025-07-30T20:01:15.766504Z",
     "shell.execute_reply": "2025-07-30T20:01:15.765376Z"
    },
    "papermill": {
     "duration": 0.029997,
     "end_time": "2025-07-30T20:01:15.768254",
     "exception": false,
     "start_time": "2025-07-30T20:01:15.738257",
     "status": "completed"
    },
    "tags": [
     "injected-parameters"
    ]
   },
   "outputs": [],
   "source": [
    "# Parameters\n",
    "universe_id = \"c70da768bffcfbe1b789bd6073e34669\"\n",
    "run_no = \"14\"\n",
    "universe = \"{\\\"cutoff\\\": [\\\"quantile_0.1\\\", \\\"quantile_0.25\\\"], \\\"eval_fairness_grouping\\\": [\\\"majority-minority\\\", \\\"nationality-all\\\"], \\\"exclude_features\\\": \\\"none\\\", \\\"exclude_subgroups\\\": \\\"keep-all\\\", \\\"model\\\": \\\"elasticnet\\\", \\\"scale\\\": \\\"do-not-scale\\\", \\\"training_size\\\": \\\"25k\\\", \\\"training_year\\\": \\\"2014\\\"}\"\n",
    "output_dir = \"output\"\n",
    "seed = \"2023\"\n"
   ]
  },
  {
   "cell_type": "code",
   "execution_count": 5,
   "id": "1650acaf",
   "metadata": {
    "execution": {
     "iopub.execute_input": "2025-07-30T20:01:15.811630Z",
     "iopub.status.busy": "2025-07-30T20:01:15.810927Z",
     "iopub.status.idle": "2025-07-30T20:01:15.816791Z",
     "shell.execute_reply": "2025-07-30T20:01:15.815763Z"
    },
    "papermill": {
     "duration": 0.029885,
     "end_time": "2025-07-30T20:01:15.818569",
     "exception": false,
     "start_time": "2025-07-30T20:01:15.788684",
     "status": "completed"
    },
    "tags": []
   },
   "outputs": [],
   "source": [
    "import json\n",
    "# Parse universe into dict if it is passed as a string\n",
    "if isinstance(universe, str):\n",
    "    universe = json.loads(universe)"
   ]
  },
  {
   "cell_type": "code",
   "execution_count": 6,
   "id": "16620c48",
   "metadata": {
    "execution": {
     "iopub.execute_input": "2025-07-30T20:01:15.862658Z",
     "iopub.status.busy": "2025-07-30T20:01:15.862185Z",
     "iopub.status.idle": "2025-07-30T20:01:15.907774Z",
     "shell.execute_reply": "2025-07-30T20:01:15.906829Z"
    },
    "papermill": {
     "duration": 0.069418,
     "end_time": "2025-07-30T20:01:15.909645",
     "exception": false,
     "start_time": "2025-07-30T20:01:15.840227",
     "status": "completed"
    },
    "tags": []
   },
   "outputs": [],
   "source": [
    "# Auto-reload the custom package\n",
    "%load_ext autoreload\n",
    "%autoreload 1\n",
    "%aimport fairness_multiverse"
   ]
  },
  {
   "cell_type": "code",
   "execution_count": 7,
   "id": "01c5c9f3",
   "metadata": {
    "execution": {
     "iopub.execute_input": "2025-07-30T20:01:15.951016Z",
     "iopub.status.busy": "2025-07-30T20:01:15.950204Z",
     "iopub.status.idle": "2025-07-30T20:01:17.667292Z",
     "shell.execute_reply": "2025-07-30T20:01:17.666490Z"
    },
    "papermill": {
     "duration": 1.738848,
     "end_time": "2025-07-30T20:01:17.668790",
     "exception": false,
     "start_time": "2025-07-30T20:01:15.929942",
     "status": "completed"
    },
    "tags": []
   },
   "outputs": [],
   "source": [
    "from fairness_multiverse.universe import UniverseAnalysis\n",
    "\n",
    "universe_analysis = UniverseAnalysis(\n",
    "    run_no = run_no,\n",
    "    universe_id = universe_id,\n",
    "    universe = universe,\n",
    "    output_dir=output_dir,\n",
    ")"
   ]
  },
  {
   "cell_type": "code",
   "execution_count": 8,
   "id": "106241f5",
   "metadata": {
    "execution": {
     "iopub.execute_input": "2025-07-30T20:01:17.691980Z",
     "iopub.status.busy": "2025-07-30T20:01:17.691575Z",
     "iopub.status.idle": "2025-07-30T20:01:17.698617Z",
     "shell.execute_reply": "2025-07-30T20:01:17.697723Z"
    },
    "papermill": {
     "duration": 0.020142,
     "end_time": "2025-07-30T20:01:17.700460",
     "exception": false,
     "start_time": "2025-07-30T20:01:17.680318",
     "status": "completed"
    },
    "tags": []
   },
   "outputs": [
    {
     "name": "stdout",
     "output_type": "stream",
     "text": [
      "Using Seed: 2023\n"
     ]
    }
   ],
   "source": [
    "import numpy as np\n",
    "parsed_seed = int(seed)\n",
    "np.random.seed(parsed_seed)\n",
    "print(f\"Using Seed: {parsed_seed}\")"
   ]
  },
  {
   "cell_type": "markdown",
   "id": "e0ebdc57",
   "metadata": {
    "papermill": {
     "duration": 0.020159,
     "end_time": "2025-07-30T20:01:17.741641",
     "exception": false,
     "start_time": "2025-07-30T20:01:17.721482",
     "status": "completed"
    },
    "tags": []
   },
   "source": [
    "# Loading Data"
   ]
  },
  {
   "cell_type": "markdown",
   "id": "681925a3",
   "metadata": {
    "papermill": {
     "duration": 0.019719,
     "end_time": "2025-07-30T20:01:17.781115",
     "exception": false,
     "start_time": "2025-07-30T20:01:17.761396",
     "status": "completed"
    },
    "tags": []
   },
   "source": [
    "Load siab_train, siab_test, siab_calib and/or \n",
    "load siab_train_features, siab_train_labels"
   ]
  },
  {
   "cell_type": "code",
   "execution_count": 9,
   "id": "f0496b8a",
   "metadata": {
    "execution": {
     "iopub.execute_input": "2025-07-30T20:01:17.823275Z",
     "iopub.status.busy": "2025-07-30T20:01:17.822552Z",
     "iopub.status.idle": "2025-07-30T20:01:30.282981Z",
     "shell.execute_reply": "2025-07-30T20:01:30.281875Z"
    },
    "papermill": {
     "duration": 12.48331,
     "end_time": "2025-07-30T20:01:30.284686",
     "exception": false,
     "start_time": "2025-07-30T20:01:17.801376",
     "status": "completed"
    },
    "tags": []
   },
   "outputs": [
    {
     "name": "stdout",
     "output_type": "stream",
     "text": [
      "Loading SIAB data from cache: data/siab_cached.csv.gz\n"
     ]
    },
    {
     "name": "stdout",
     "output_type": "stream",
     "text": [
      "(643690, 164)\n"
     ]
    }
   ],
   "source": [
    "from pathlib import Path\n",
    "import pandas as pd\n",
    "\n",
    "# File paths\n",
    "raw_file = Path(\"data/raw/siab.csv\")\n",
    "cache_file = Path(\"data/siab_cached.csv.gz\")\n",
    "\n",
    "# Ensure cache directory exists\n",
    "cache_file.parent.mkdir(parents=True, exist_ok=True)\n",
    "\n",
    "# Load with simple caching\n",
    "if cache_file.exists():\n",
    "    print(f\"Loading SIAB data from cache: {cache_file}\")\n",
    "    siab = pd.read_csv(cache_file, compression='gzip')\n",
    "else:\n",
    "    print(f\"Cache not found. Reading raw SIAB data: {raw_file}\")\n",
    "    siab = pd.read_csv(raw_file)\n",
    "    siab.to_csv(cache_file, index=False, compression='gzip')\n",
    "    print(f\"Cached SIAB data to: {cache_file}\")\n",
    "\n",
    "# Now use `siab` DataFrame as needed\n",
    "print(siab.shape)"
   ]
  },
  {
   "cell_type": "code",
   "execution_count": 10,
   "id": "db0ca512-5f53-4dba-abdb-a2888bca41ba",
   "metadata": {
    "execution": {
     "iopub.execute_input": "2025-07-30T20:01:30.328326Z",
     "iopub.status.busy": "2025-07-30T20:01:30.327791Z",
     "iopub.status.idle": "2025-07-30T20:01:30.333181Z",
     "shell.execute_reply": "2025-07-30T20:01:30.332277Z"
    },
    "papermill": {
     "duration": 0.028234,
     "end_time": "2025-07-30T20:01:30.334945",
     "exception": false,
     "start_time": "2025-07-30T20:01:30.306711",
     "status": "completed"
    },
    "tags": []
   },
   "outputs": [],
   "source": [
    "#siab"
   ]
  },
  {
   "cell_type": "code",
   "execution_count": 11,
   "id": "a0edb063",
   "metadata": {
    "execution": {
     "iopub.execute_input": "2025-07-30T20:01:30.362191Z",
     "iopub.status.busy": "2025-07-30T20:01:30.361764Z",
     "iopub.status.idle": "2025-07-30T20:01:30.366582Z",
     "shell.execute_reply": "2025-07-30T20:01:30.365780Z"
    },
    "papermill": {
     "duration": 0.018448,
     "end_time": "2025-07-30T20:01:30.367750",
     "exception": false,
     "start_time": "2025-07-30T20:01:30.349302",
     "status": "completed"
    },
    "tags": []
   },
   "outputs": [],
   "source": [
    "#import pandas as pd\n",
    "#\n",
    "#X_train = pd.read_csv(\"./data/X_train.csv\")\n",
    "#y_train = pd.read_csv(\"./data/y_train.csv\")"
   ]
  },
  {
   "cell_type": "code",
   "execution_count": 12,
   "id": "63d08085",
   "metadata": {
    "execution": {
     "iopub.execute_input": "2025-07-30T20:01:30.401342Z",
     "iopub.status.busy": "2025-07-30T20:01:30.400834Z",
     "iopub.status.idle": "2025-07-30T20:01:30.405716Z",
     "shell.execute_reply": "2025-07-30T20:01:30.404768Z"
    },
    "papermill": {
     "duration": 0.02763,
     "end_time": "2025-07-30T20:01:30.407624",
     "exception": false,
     "start_time": "2025-07-30T20:01:30.379994",
     "status": "completed"
    },
    "tags": []
   },
   "outputs": [],
   "source": [
    "#X_test = pd.read_csv(\"./data/X_test.csv\")\n",
    "#y_true = pd.read_csv(\"./data/y_test.csv\")"
   ]
  },
  {
   "cell_type": "code",
   "execution_count": 13,
   "id": "98a8d0fa-1d3d-4ed8-bb2c-281470e24add",
   "metadata": {
    "execution": {
     "iopub.execute_input": "2025-07-30T20:01:30.465083Z",
     "iopub.status.busy": "2025-07-30T20:01:30.464385Z",
     "iopub.status.idle": "2025-07-30T20:01:30.470196Z",
     "shell.execute_reply": "2025-07-30T20:01:30.469037Z"
    },
    "papermill": {
     "duration": 0.03677,
     "end_time": "2025-07-30T20:01:30.472334",
     "exception": false,
     "start_time": "2025-07-30T20:01:30.435564",
     "status": "completed"
    },
    "tags": []
   },
   "outputs": [],
   "source": [
    "# Calibration data for conformal\n",
    "#X_calib = pd.read_csv(\"./data/X_calib.csv\")\n",
    "#y_calib = pd.read_csv(\"./data/y_calib.csv\")"
   ]
  },
  {
   "cell_type": "markdown",
   "id": "997051c5-15bd-4b69-9786-c3001a3ce484",
   "metadata": {
    "papermill": {
     "duration": 0.021899,
     "end_time": "2025-07-30T20:01:30.522478",
     "exception": false,
     "start_time": "2025-07-30T20:01:30.500579",
     "status": "completed"
    },
    "tags": []
   },
   "source": [
    "# Splitting Data and Setting Training Data Size"
   ]
  },
  {
   "cell_type": "code",
   "execution_count": 14,
   "id": "e993b61f-042d-41a6-8c81-f55681f86335",
   "metadata": {
    "execution": {
     "iopub.execute_input": "2025-07-30T20:01:30.569969Z",
     "iopub.status.busy": "2025-07-30T20:01:30.568818Z",
     "iopub.status.idle": "2025-07-30T20:01:30.586916Z",
     "shell.execute_reply": "2025-07-30T20:01:30.585612Z"
    },
    "papermill": {
     "duration": 0.044382,
     "end_time": "2025-07-30T20:01:30.589044",
     "exception": false,
     "start_time": "2025-07-30T20:01:30.544662",
     "status": "completed"
    },
    "tags": []
   },
   "outputs": [],
   "source": [
    "def sample_by_year_size(df,\n",
    "                        training_year: str,\n",
    "                        training_size: str,\n",
    "                        random_state: int = 42):\n",
    "    # --- parse training_year into a list of int years ---\n",
    "    if \"_\" in training_year:\n",
    "        start_str, end_str = training_year.split(\"_\", 1)\n",
    "        start = int(start_str)\n",
    "        end   = int(end_str) if len(end_str) == 4 else (int(end_str) + (start // 100)*100)\n",
    "        years = list(range(start, end + 1))\n",
    "    else:\n",
    "        years = [int(training_year)]\n",
    "\n",
    "    df = df[df[\"year\"].isin(years)].reset_index(drop=True)\n",
    "\n",
    "    # --- map training_size to total number of samples ---\n",
    "    total_map = {\"25k\": 25_000, \"5k\": 5_000, \"1k\": 1_000}\n",
    "    if training_size not in total_map:\n",
    "        return df  # e.g. \"all\"\n",
    "\n",
    "    total_samples = total_map[training_size]\n",
    "    n_years       = len(years)\n",
    "    base          = total_samples // n_years\n",
    "    remainder     = total_samples % n_years\n",
    "\n",
    "    # --- build a dict: year -> how many to sample ---\n",
    "    # give +1 to the first `remainder` years in ascending order\n",
    "    quotas = {\n",
    "        year: base + (1 if idx < remainder else 0)\n",
    "        for idx, year in enumerate(sorted(years))\n",
    "    }\n",
    "\n",
    "    # --- sample per‐year according to the quota dict ---\n",
    "    sampled = (\n",
    "        df\n",
    "        .groupby(\"year\", group_keys=False)\n",
    "        .apply(lambda grp: grp.sample(\n",
    "            n=min(len(grp), quotas[grp.name]),\n",
    "            random_state=random_state))\n",
    "        .reset_index(drop=True)\n",
    "    )\n",
    "\n",
    "    return sampled"
   ]
  },
  {
   "cell_type": "code",
   "execution_count": 15,
   "id": "c0ccd338-0e02-41f3-a09d-f56f9266e3fb",
   "metadata": {
    "execution": {
     "iopub.execute_input": "2025-07-30T20:01:30.637248Z",
     "iopub.status.busy": "2025-07-30T20:01:30.636361Z",
     "iopub.status.idle": "2025-07-30T20:01:30.641937Z",
     "shell.execute_reply": "2025-07-30T20:01:30.640813Z"
    },
    "papermill": {
     "duration": 0.032159,
     "end_time": "2025-07-30T20:01:30.644065",
     "exception": false,
     "start_time": "2025-07-30T20:01:30.611906",
     "status": "completed"
    },
    "tags": []
   },
   "outputs": [],
   "source": [
    "#universe[\"training_size\"]"
   ]
  },
  {
   "cell_type": "code",
   "execution_count": 16,
   "id": "ca707fd7-8047-4acd-bfa5-66248fbbf8e6",
   "metadata": {
    "execution": {
     "iopub.execute_input": "2025-07-30T20:01:30.692342Z",
     "iopub.status.busy": "2025-07-30T20:01:30.691200Z",
     "iopub.status.idle": "2025-07-30T20:01:30.698231Z",
     "shell.execute_reply": "2025-07-30T20:01:30.696998Z"
    },
    "papermill": {
     "duration": 0.033356,
     "end_time": "2025-07-30T20:01:30.700436",
     "exception": false,
     "start_time": "2025-07-30T20:01:30.667080",
     "status": "completed"
    },
    "tags": []
   },
   "outputs": [],
   "source": [
    "#universe[\"training_year\"]"
   ]
  },
  {
   "cell_type": "code",
   "execution_count": 17,
   "id": "aea9c6ef-6f46-42c8-85eb-5a62025c1508",
   "metadata": {
    "execution": {
     "iopub.execute_input": "2025-07-30T20:01:30.735228Z",
     "iopub.status.busy": "2025-07-30T20:01:30.734883Z",
     "iopub.status.idle": "2025-07-30T20:01:31.019707Z",
     "shell.execute_reply": "2025-07-30T20:01:31.018893Z"
    },
    "papermill": {
     "duration": 0.298897,
     "end_time": "2025-07-30T20:01:31.021258",
     "exception": false,
     "start_time": "2025-07-30T20:01:30.722361",
     "status": "completed"
    },
    "tags": []
   },
   "outputs": [],
   "source": [
    "siab_train = sample_by_year_size(siab,\n",
    "                               training_year=universe[\"training_year\"],\n",
    "                               training_size=universe[\"training_size\"])"
   ]
  },
  {
   "cell_type": "code",
   "execution_count": 18,
   "id": "8d3afb32-789d-442c-8d5d-9f5aa8dd2eed",
   "metadata": {
    "execution": {
     "iopub.execute_input": "2025-07-30T20:01:31.045909Z",
     "iopub.status.busy": "2025-07-30T20:01:31.045356Z",
     "iopub.status.idle": "2025-07-30T20:01:31.050151Z",
     "shell.execute_reply": "2025-07-30T20:01:31.049107Z"
    },
    "papermill": {
     "duration": 0.018949,
     "end_time": "2025-07-30T20:01:31.051669",
     "exception": false,
     "start_time": "2025-07-30T20:01:31.032720",
     "status": "completed"
    },
    "tags": []
   },
   "outputs": [],
   "source": [
    "#siab_train.shape"
   ]
  },
  {
   "cell_type": "code",
   "execution_count": 19,
   "id": "d582db68-1a4c-47fb-84fc-08518dc1975a",
   "metadata": {
    "execution": {
     "iopub.execute_input": "2025-07-30T20:01:31.082364Z",
     "iopub.status.busy": "2025-07-30T20:01:31.081828Z",
     "iopub.status.idle": "2025-07-30T20:01:31.086691Z",
     "shell.execute_reply": "2025-07-30T20:01:31.085748Z"
    },
    "papermill": {
     "duration": 0.019883,
     "end_time": "2025-07-30T20:01:31.088645",
     "exception": false,
     "start_time": "2025-07-30T20:01:31.068762",
     "status": "completed"
    },
    "tags": []
   },
   "outputs": [],
   "source": [
    "#display(siab_train.groupby(\"year\").size())"
   ]
  },
  {
   "cell_type": "code",
   "execution_count": 20,
   "id": "a561edb4-d032-42cb-8256-22eac1111c64",
   "metadata": {
    "execution": {
     "iopub.execute_input": "2025-07-30T20:01:31.134285Z",
     "iopub.status.busy": "2025-07-30T20:01:31.133722Z",
     "iopub.status.idle": "2025-07-30T20:01:31.385553Z",
     "shell.execute_reply": "2025-07-30T20:01:31.384787Z"
    },
    "papermill": {
     "duration": 0.276821,
     "end_time": "2025-07-30T20:01:31.387354",
     "exception": false,
     "start_time": "2025-07-30T20:01:31.110533",
     "status": "completed"
    },
    "tags": []
   },
   "outputs": [],
   "source": [
    "#siab_train = siab_s[siab_s.year < 2015]\n",
    "siab_calib = siab[siab.year == 2015]\n",
    "siab_test = siab[siab.year == 2016]"
   ]
  },
  {
   "cell_type": "code",
   "execution_count": 21,
   "id": "472de16f-c3db-4916-846b-1f0de9cf1746",
   "metadata": {
    "execution": {
     "iopub.execute_input": "2025-07-30T20:01:31.433183Z",
     "iopub.status.busy": "2025-07-30T20:01:31.432100Z",
     "iopub.status.idle": "2025-07-30T20:01:31.448216Z",
     "shell.execute_reply": "2025-07-30T20:01:31.447083Z"
    },
    "papermill": {
     "duration": 0.041519,
     "end_time": "2025-07-30T20:01:31.450510",
     "exception": false,
     "start_time": "2025-07-30T20:01:31.408991",
     "status": "completed"
    },
    "tags": []
   },
   "outputs": [],
   "source": [
    "X_train = siab_train.iloc[:,4:164]\n",
    "y_train = siab_train.iloc[:, [3]]"
   ]
  },
  {
   "cell_type": "code",
   "execution_count": 22,
   "id": "828c96af-f43a-4ed6-ba47-8ac73a47d56c",
   "metadata": {
    "execution": {
     "iopub.execute_input": "2025-07-30T20:01:31.508981Z",
     "iopub.status.busy": "2025-07-30T20:01:31.508483Z",
     "iopub.status.idle": "2025-07-30T20:01:31.560643Z",
     "shell.execute_reply": "2025-07-30T20:01:31.559329Z"
    },
    "papermill": {
     "duration": 0.084052,
     "end_time": "2025-07-30T20:01:31.562854",
     "exception": false,
     "start_time": "2025-07-30T20:01:31.478802",
     "status": "completed"
    },
    "tags": []
   },
   "outputs": [],
   "source": [
    "X_calib = siab_calib.iloc[:,4:164]\n",
    "y_calib = siab_calib.iloc[:, [3]]"
   ]
  },
  {
   "cell_type": "code",
   "execution_count": 23,
   "id": "c34be9c3-6bd6-476e-acd3-845840e303be",
   "metadata": {
    "execution": {
     "iopub.execute_input": "2025-07-30T20:01:31.622693Z",
     "iopub.status.busy": "2025-07-30T20:01:31.622168Z",
     "iopub.status.idle": "2025-07-30T20:01:31.679626Z",
     "shell.execute_reply": "2025-07-30T20:01:31.678700Z"
    },
    "papermill": {
     "duration": 0.088643,
     "end_time": "2025-07-30T20:01:31.681335",
     "exception": false,
     "start_time": "2025-07-30T20:01:31.592692",
     "status": "completed"
    },
    "tags": []
   },
   "outputs": [],
   "source": [
    "X_test = siab_test.iloc[:,4:164]\n",
    "y_true = siab_test.iloc[:, [3]]"
   ]
  },
  {
   "cell_type": "markdown",
   "id": "9901737e-04df-44f0-9100-f5ad144ed040",
   "metadata": {
    "papermill": {
     "duration": 0.02275,
     "end_time": "2025-07-30T20:01:31.727159",
     "exception": false,
     "start_time": "2025-07-30T20:01:31.704409",
     "status": "completed"
    },
    "tags": []
   },
   "source": [
    "# Splitting Data and Setting Training Data Size OLD VERSION"
   ]
  },
  {
   "cell_type": "code",
   "execution_count": 24,
   "id": "acbc8f7d-8fc8-4e86-8c59-5dcb0f58384b",
   "metadata": {
    "execution": {
     "iopub.execute_input": "2025-07-30T20:01:31.764726Z",
     "iopub.status.busy": "2025-07-30T20:01:31.764232Z",
     "iopub.status.idle": "2025-07-30T20:01:31.769682Z",
     "shell.execute_reply": "2025-07-30T20:01:31.768739Z"
    },
    "papermill": {
     "duration": 0.033452,
     "end_time": "2025-07-30T20:01:31.771368",
     "exception": false,
     "start_time": "2025-07-30T20:01:31.737916",
     "status": "completed"
    },
    "tags": []
   },
   "outputs": [],
   "source": [
    "#def sample_by_year(df, training_size, random_state=42):\n",
    "#    if training_size == \"2014\":\n",
    "#        return df[df[\"year\"] == 2014].reset_index(drop=True)\n",
    "#    \n",
    "#    size_map = {\n",
    "#        \"25k\": 5000,\n",
    "#        \"5k\": 1000,\n",
    "#        \"1k\": 200\n",
    "#    }\n",
    "#\n",
    "#    if training_size not in size_map:\n",
    "#        return df.reset_index(drop=True)  # use all data\n",
    "#\n",
    "#    n_per_year = size_map[training_size]\n",
    "#    grouped = df.groupby(\"year\")\n",
    "#    sampled = grouped.apply(lambda x: x.sample(n=min(n_per_year, len(x)), random_state=random_state))\n",
    "#    return sampled.reset_index(drop=True)"
   ]
  },
  {
   "cell_type": "code",
   "execution_count": 25,
   "id": "6d931f52-beaf-43ff-9e78-9d44a448d54e",
   "metadata": {
    "execution": {
     "iopub.execute_input": "2025-07-30T20:01:31.809868Z",
     "iopub.status.busy": "2025-07-30T20:01:31.809398Z",
     "iopub.status.idle": "2025-07-30T20:01:31.815501Z",
     "shell.execute_reply": "2025-07-30T20:01:31.814143Z"
    },
    "papermill": {
     "duration": 0.021514,
     "end_time": "2025-07-30T20:01:31.817247",
     "exception": false,
     "start_time": "2025-07-30T20:01:31.795733",
     "status": "completed"
    },
    "tags": []
   },
   "outputs": [],
   "source": [
    "#siab_s = sample_by_year(siab, universe[\"training_size\"])"
   ]
  },
  {
   "cell_type": "code",
   "execution_count": 26,
   "id": "5db0a40e-a4e2-4920-be85-b12ae061d70d",
   "metadata": {
    "execution": {
     "iopub.execute_input": "2025-07-30T20:01:31.862578Z",
     "iopub.status.busy": "2025-07-30T20:01:31.862186Z",
     "iopub.status.idle": "2025-07-30T20:01:31.866408Z",
     "shell.execute_reply": "2025-07-30T20:01:31.865381Z"
    },
    "papermill": {
     "duration": 0.027596,
     "end_time": "2025-07-30T20:01:31.868595",
     "exception": false,
     "start_time": "2025-07-30T20:01:31.840999",
     "status": "completed"
    },
    "tags": []
   },
   "outputs": [],
   "source": [
    "#display(siab_s.groupby(\"year\").size())"
   ]
  },
  {
   "cell_type": "code",
   "execution_count": 27,
   "id": "e6c733c5",
   "metadata": {
    "execution": {
     "iopub.execute_input": "2025-07-30T20:01:31.918039Z",
     "iopub.status.busy": "2025-07-30T20:01:31.917545Z",
     "iopub.status.idle": "2025-07-30T20:01:32.029422Z",
     "shell.execute_reply": "2025-07-30T20:01:32.028334Z"
    },
    "papermill": {
     "duration": 0.138217,
     "end_time": "2025-07-30T20:01:32.031240",
     "exception": false,
     "start_time": "2025-07-30T20:01:31.893023",
     "status": "completed"
    },
    "tags": []
   },
   "outputs": [],
   "source": [
    "# Auxiliary data needed downstream in the pipeline\n",
    "\n",
    "org_train = X_train.copy()\n",
    "org_test = X_test.copy()\n",
    "org_calib = X_calib.copy()"
   ]
  },
  {
   "cell_type": "code",
   "execution_count": 28,
   "id": "1466abac-c6da-4492-a62f-4240ae3783af",
   "metadata": {
    "execution": {
     "iopub.execute_input": "2025-07-30T20:01:32.095791Z",
     "iopub.status.busy": "2025-07-30T20:01:32.095087Z",
     "iopub.status.idle": "2025-07-30T20:01:32.101629Z",
     "shell.execute_reply": "2025-07-30T20:01:32.100343Z"
    },
    "papermill": {
     "duration": 0.032116,
     "end_time": "2025-07-30T20:01:32.103314",
     "exception": false,
     "start_time": "2025-07-30T20:01:32.071198",
     "status": "completed"
    },
    "tags": []
   },
   "outputs": [],
   "source": [
    "# put in other script?\n",
    "# Group sizes\n",
    "\n",
    "#def calculate_percentages(df, df_name):\n",
    "#    total_entries = len(df)\n",
    "#\n",
    "#    female_pct = (df['frau1'] == 1).mean() * 100\n",
    "#    non_german_pct = ((df['maxdeutsch1'] == 0) & (df['maxdeutsch.Missing.'] == 0)).mean() * 100\n",
    "#    non_german_male_pct = ((df['frau1'] == 0) & (df['maxdeutsch1'] == 0) & (df['maxdeutsch.Missing.'] == 0)).mean() * 100\n",
    "#    non_german_female_pct = ((df['frau1'] == 1) & (df['maxdeutsch1'] == 0) & (df['maxdeutsch.Missing.'] == 0)).mean() * 100\n",
    "#\n",
    "#    print(f\"--- {df_name} ---\")\n",
    "#    print(f\"Female: {female_pct:.2f}%\")\n",
    "#    print(f\"Non-German: {non_german_pct:.2f}%\")\n",
    "#    print(f\"Non-German Male: {non_german_male_pct:.2f}%\")\n",
    "#    print(f\"Non-German Female: {non_german_female_pct:.2f}%\\n\")\n",
    "#\n",
    "## Calculate for each DataFrame\n",
    "#calculate_percentages(siab_calib, \"siab_calib\")\n",
    "#calculate_percentages(siab_test, \"siab_test\")\n",
    "#calculate_percentages(siab_train, \"siab_train\")"
   ]
  },
  {
   "cell_type": "markdown",
   "id": "0a4a1b33",
   "metadata": {
    "papermill": {
     "duration": 0.02317,
     "end_time": "2025-07-30T20:01:32.150650",
     "exception": false,
     "start_time": "2025-07-30T20:01:32.127480",
     "status": "completed"
    },
    "tags": []
   },
   "source": [
    "# Preprocessing Data"
   ]
  },
  {
   "cell_type": "code",
   "execution_count": 29,
   "id": "ca879031",
   "metadata": {
    "execution": {
     "iopub.execute_input": "2025-07-30T20:01:32.201255Z",
     "iopub.status.busy": "2025-07-30T20:01:32.200120Z",
     "iopub.status.idle": "2025-07-30T20:01:32.206757Z",
     "shell.execute_reply": "2025-07-30T20:01:32.205716Z"
    },
    "papermill": {
     "duration": 0.033982,
     "end_time": "2025-07-30T20:01:32.208800",
     "exception": false,
     "start_time": "2025-07-30T20:01:32.174818",
     "status": "completed"
    },
    "tags": []
   },
   "outputs": [],
   "source": [
    "# EXCLUDE PROTECTED FEATURES\n",
    "# ----------------------\n",
    "# \"exclude_features\": \"none\", # \"nationality\", \"sex\", \"nationality-sex\"\n",
    "\n",
    "excluded_features = universe[\"exclude_features\"].split(\"-\") # split, e.g.: \"nationality-sex\" -> [\"nationality\", \"sex\"]\n",
    "excluded_features_dictionary = {\n",
    "    \"nationality\": [\"maxdeutsch1\", \"maxdeutsch.Missing.\"],\n",
    "    \"sex\": [\"frau1\"],\n",
    "    \"age\": [\"age\"],\n",
    "}\n"
   ]
  },
  {
   "cell_type": "code",
   "execution_count": 30,
   "id": "b745ac60",
   "metadata": {
    "execution": {
     "iopub.execute_input": "2025-07-30T20:01:32.257965Z",
     "iopub.status.busy": "2025-07-30T20:01:32.257448Z",
     "iopub.status.idle": "2025-07-30T20:01:32.263744Z",
     "shell.execute_reply": "2025-07-30T20:01:32.262702Z"
    },
    "papermill": {
     "duration": 0.032851,
     "end_time": "2025-07-30T20:01:32.265784",
     "exception": false,
     "start_time": "2025-07-30T20:01:32.232933",
     "status": "completed"
    },
    "tags": []
   },
   "outputs": [],
   "source": [
    "# Code nice names to column names\n",
    "\n",
    "excluded_features_columns = [\n",
    "    excluded_features_dictionary[f] for f in excluded_features if len(f) > 0 and f != \"none\"\n",
    "]"
   ]
  },
  {
   "cell_type": "code",
   "execution_count": 31,
   "id": "f84f73a2",
   "metadata": {
    "execution": {
     "iopub.execute_input": "2025-07-30T20:01:32.313602Z",
     "iopub.status.busy": "2025-07-30T20:01:32.313112Z",
     "iopub.status.idle": "2025-07-30T20:01:32.319575Z",
     "shell.execute_reply": "2025-07-30T20:01:32.318588Z"
    },
    "papermill": {
     "duration": 0.031729,
     "end_time": "2025-07-30T20:01:32.321216",
     "exception": false,
     "start_time": "2025-07-30T20:01:32.289487",
     "status": "completed"
    },
    "tags": []
   },
   "outputs": [],
   "source": [
    "from utils import flatten_once\n",
    "\n",
    "excluded_features_columns = flatten_once(excluded_features_columns)"
   ]
  },
  {
   "cell_type": "code",
   "execution_count": 32,
   "id": "884dea22",
   "metadata": {
    "execution": {
     "iopub.execute_input": "2025-07-30T20:01:32.368764Z",
     "iopub.status.busy": "2025-07-30T20:01:32.368222Z",
     "iopub.status.idle": "2025-07-30T20:01:32.374394Z",
     "shell.execute_reply": "2025-07-30T20:01:32.373394Z"
    },
    "papermill": {
     "duration": 0.032881,
     "end_time": "2025-07-30T20:01:32.376181",
     "exception": false,
     "start_time": "2025-07-30T20:01:32.343300",
     "status": "completed"
    },
    "tags": []
   },
   "outputs": [],
   "source": [
    "if len(excluded_features_columns) > 0:\n",
    "    print(f\"Dropping features: {excluded_features_columns}\")\n",
    "    X_train.drop(excluded_features_columns, axis=1, inplace=True)"
   ]
  },
  {
   "cell_type": "code",
   "execution_count": 33,
   "id": "95ab8b16",
   "metadata": {
    "execution": {
     "iopub.execute_input": "2025-07-30T20:01:32.427622Z",
     "iopub.status.busy": "2025-07-30T20:01:32.427160Z",
     "iopub.status.idle": "2025-07-30T20:01:32.433144Z",
     "shell.execute_reply": "2025-07-30T20:01:32.432104Z"
    },
    "papermill": {
     "duration": 0.032113,
     "end_time": "2025-07-30T20:01:32.435006",
     "exception": false,
     "start_time": "2025-07-30T20:01:32.402893",
     "status": "completed"
    },
    "tags": []
   },
   "outputs": [],
   "source": [
    "if len(excluded_features_columns) > 0:\n",
    "    print(f\"Dropping features: {excluded_features_columns}\")\n",
    "    X_test.drop(excluded_features_columns, axis=1, inplace=True)"
   ]
  },
  {
   "cell_type": "code",
   "execution_count": 34,
   "id": "1853aaf5-fb9f-46cb-a2b5-8ea4ae2237e4",
   "metadata": {
    "execution": {
     "iopub.execute_input": "2025-07-30T20:01:32.485485Z",
     "iopub.status.busy": "2025-07-30T20:01:32.485064Z",
     "iopub.status.idle": "2025-07-30T20:01:32.490741Z",
     "shell.execute_reply": "2025-07-30T20:01:32.489448Z"
    },
    "papermill": {
     "duration": 0.032631,
     "end_time": "2025-07-30T20:01:32.492628",
     "exception": false,
     "start_time": "2025-07-30T20:01:32.459997",
     "status": "completed"
    },
    "tags": []
   },
   "outputs": [],
   "source": [
    "if len(excluded_features_columns) > 0:\n",
    "    print(f\"Dropping features: {excluded_features_columns}\")\n",
    "    X_calib.drop(excluded_features_columns, axis=1, inplace=True)"
   ]
  },
  {
   "cell_type": "code",
   "execution_count": 35,
   "id": "6727d079-03e5-481e-9d38-292a90b7a0a8",
   "metadata": {
    "execution": {
     "iopub.execute_input": "2025-07-30T20:01:32.543158Z",
     "iopub.status.busy": "2025-07-30T20:01:32.542387Z",
     "iopub.status.idle": "2025-07-30T20:01:32.547869Z",
     "shell.execute_reply": "2025-07-30T20:01:32.546842Z"
    },
    "papermill": {
     "duration": 0.032651,
     "end_time": "2025-07-30T20:01:32.549735",
     "exception": false,
     "start_time": "2025-07-30T20:01:32.517084",
     "status": "completed"
    },
    "tags": []
   },
   "outputs": [],
   "source": [
    "# SPLIT & STRATIFY DATA\n",
    "# ----------------------"
   ]
  },
  {
   "cell_type": "code",
   "execution_count": 36,
   "id": "76c4dc6d",
   "metadata": {
    "execution": {
     "iopub.execute_input": "2025-07-30T20:01:32.598398Z",
     "iopub.status.busy": "2025-07-30T20:01:32.597957Z",
     "iopub.status.idle": "2025-07-30T20:01:32.603409Z",
     "shell.execute_reply": "2025-07-30T20:01:32.602424Z"
    },
    "papermill": {
     "duration": 0.030495,
     "end_time": "2025-07-30T20:01:32.605170",
     "exception": false,
     "start_time": "2025-07-30T20:01:32.574675",
     "status": "completed"
    },
    "tags": []
   },
   "outputs": [],
   "source": [
    "# EXCLUDE CERTAIN SUBGROUPS\n",
    "# ----------------------\n",
    "\n",
    "mode = universe.get(\"exclude_subgroups\", \"keep-all\") \n",
    "# Fetches the exclude_subgroups setting from the universe dict.\n",
    "# Defaults to \"keep-all\" if the key is missing."
   ]
  },
  {
   "cell_type": "code",
   "execution_count": 37,
   "id": "21994072",
   "metadata": {
    "execution": {
     "iopub.execute_input": "2025-07-30T20:01:32.653197Z",
     "iopub.status.busy": "2025-07-30T20:01:32.652760Z",
     "iopub.status.idle": "2025-07-30T20:01:32.659333Z",
     "shell.execute_reply": "2025-07-30T20:01:32.658573Z"
    },
    "papermill": {
     "duration": 0.032729,
     "end_time": "2025-07-30T20:01:32.661690",
     "exception": false,
     "start_time": "2025-07-30T20:01:32.628961",
     "status": "completed"
    },
    "tags": []
   },
   "outputs": [],
   "source": [
    "if mode == \"keep-all\":\n",
    "    keep_mask = pd.Series(True, index=org_train.index)\n",
    "\n",
    "# org_train contains the original feature columns from features_org (in Simson)\n",
    "# features_org contains unprocessed features, for me X_train at beginning ???\n",
    "# For keep-all, creates a boolean Series (keep_mask) of all True, so no rows are removed.\n",
    "\n",
    "elif mode == \"drop-non-german\":\n",
    "    keep_mask = org_train[\"maxdeutsch1\"] == 1 # ??? what about missing values?\n",
    "\n",
    "else:\n",
    "    raise ValueError(f\"Unsupported mode for exclude_subgroups: {mode}\")\n"
   ]
  },
  {
   "cell_type": "code",
   "execution_count": 38,
   "id": "71651440",
   "metadata": {
    "execution": {
     "iopub.execute_input": "2025-07-30T20:01:32.693181Z",
     "iopub.status.busy": "2025-07-30T20:01:32.692273Z",
     "iopub.status.idle": "2025-07-30T20:01:32.698438Z",
     "shell.execute_reply": "2025-07-30T20:01:32.697736Z"
    },
    "papermill": {
     "duration": 0.023717,
     "end_time": "2025-07-30T20:01:32.699837",
     "exception": false,
     "start_time": "2025-07-30T20:01:32.676120",
     "status": "completed"
    },
    "tags": []
   },
   "outputs": [],
   "source": [
    "n_drop = (~keep_mask).sum() # Calculates how many rows are set to be dropped\n",
    "if n_drop > 0:\n",
    "    pct = n_drop / len(keep_mask) * 100\n",
    "    print(f\"Dropping {n_drop} rows ({pct:.2f}%) where mode='{mode}'\")"
   ]
  },
  {
   "cell_type": "code",
   "execution_count": 39,
   "id": "5fb8eee5",
   "metadata": {
    "execution": {
     "iopub.execute_input": "2025-07-30T20:01:32.726407Z",
     "iopub.status.busy": "2025-07-30T20:01:32.725890Z",
     "iopub.status.idle": "2025-07-30T20:01:32.740152Z",
     "shell.execute_reply": "2025-07-30T20:01:32.739372Z"
    },
    "papermill": {
     "duration": 0.028915,
     "end_time": "2025-07-30T20:01:32.741859",
     "exception": false,
     "start_time": "2025-07-30T20:01:32.712944",
     "status": "completed"
    },
    "tags": []
   },
   "outputs": [],
   "source": [
    "X_train = X_train[keep_mask]"
   ]
  },
  {
   "cell_type": "code",
   "execution_count": 40,
   "id": "b202bb3a",
   "metadata": {
    "execution": {
     "iopub.execute_input": "2025-07-30T20:01:32.782831Z",
     "iopub.status.busy": "2025-07-30T20:01:32.782335Z",
     "iopub.status.idle": "2025-07-30T20:01:32.788660Z",
     "shell.execute_reply": "2025-07-30T20:01:32.787726Z"
    },
    "papermill": {
     "duration": 0.033561,
     "end_time": "2025-07-30T20:01:32.790263",
     "exception": false,
     "start_time": "2025-07-30T20:01:32.756702",
     "status": "completed"
    },
    "tags": []
   },
   "outputs": [],
   "source": [
    "y_train = y_train[keep_mask]"
   ]
  },
  {
   "cell_type": "markdown",
   "id": "493e2ac3",
   "metadata": {
    "papermill": {
     "duration": 0.023537,
     "end_time": "2025-07-30T20:01:32.835615",
     "exception": false,
     "start_time": "2025-07-30T20:01:32.812078",
     "status": "completed"
    },
    "tags": []
   },
   "source": [
    "# Model Training"
   ]
  },
  {
   "cell_type": "code",
   "execution_count": 41,
   "id": "679e1268",
   "metadata": {
    "execution": {
     "iopub.execute_input": "2025-07-30T20:01:32.885612Z",
     "iopub.status.busy": "2025-07-30T20:01:32.885084Z",
     "iopub.status.idle": "2025-07-30T20:01:32.990566Z",
     "shell.execute_reply": "2025-07-30T20:01:32.989853Z"
    },
    "papermill": {
     "duration": 0.13333,
     "end_time": "2025-07-30T20:01:32.992292",
     "exception": false,
     "start_time": "2025-07-30T20:01:32.858962",
     "status": "completed"
    },
    "tags": []
   },
   "outputs": [],
   "source": [
    "from sklearn.linear_model import LogisticRegression\n",
    "from sklearn.ensemble import GradientBoostingClassifier, RandomForestClassifier\n",
    "\n",
    "if (universe[\"model\"] == \"logreg\"):\n",
    "    model = LogisticRegression() #penalty=\"none\") #, solver=\"newton-cg\", max_iter=1) # include random_state=19 ?\n",
    "elif (universe[\"model\"] == \"penalized_logreg\"):\n",
    "    model = LogisticRegression(penalty=\"l2\", C=1.0) #, solver=\"newton-cg\", max_iter=1)\n",
    "elif (universe[\"model\"] == \"rf\"):\n",
    "    model = RandomForestClassifier(n_estimators=100, n_jobs=-1)\n",
    "elif (universe[\"model\"] == \"gbm\"):\n",
    "    model = GradientBoostingClassifier()\n",
    "elif (universe[\"model\"] == \"elasticnet\"):\n",
    "    model = LogisticRegression(penalty = 'elasticnet', solver = 'saga', l1_ratio = 0.5, max_iter=5000) # which solver to use?\n",
    "else:\n",
    "    raise \"Unsupported universe.model\""
   ]
  },
  {
   "cell_type": "code",
   "execution_count": 42,
   "id": "0cc8f744",
   "metadata": {
    "execution": {
     "iopub.execute_input": "2025-07-30T20:01:33.044757Z",
     "iopub.status.busy": "2025-07-30T20:01:33.044267Z",
     "iopub.status.idle": "2025-07-30T20:01:33.054347Z",
     "shell.execute_reply": "2025-07-30T20:01:33.049967Z"
    },
    "papermill": {
     "duration": 0.038266,
     "end_time": "2025-07-30T20:01:33.056318",
     "exception": false,
     "start_time": "2025-07-30T20:01:33.018052",
     "status": "completed"
    },
    "tags": []
   },
   "outputs": [],
   "source": [
    "import numpy as np\n",
    "from sklearn.pipeline import Pipeline\n",
    "from sklearn.preprocessing import StandardScaler\n",
    "\n",
    "model = Pipeline([\n",
    "    #(\"continuous_processor\", continuous_processor),\n",
    "    #(\"categorical_preprocessor\", categorical_preprocessor),\n",
    "    (\"scale\", StandardScaler() if universe[\"scale\"] == \"scale\" else None), \n",
    "    (\"model\", model),\n",
    "])"
   ]
  },
  {
   "cell_type": "code",
   "execution_count": 43,
   "id": "9442c04d",
   "metadata": {
    "execution": {
     "iopub.execute_input": "2025-07-30T20:01:33.101086Z",
     "iopub.status.busy": "2025-07-30T20:01:33.100626Z",
     "iopub.status.idle": "2025-07-30T20:04:34.730124Z",
     "shell.execute_reply": "2025-07-30T20:04:34.728997Z"
    },
    "papermill": {
     "duration": 181.66198,
     "end_time": "2025-07-30T20:04:34.744612",
     "exception": false,
     "start_time": "2025-07-30T20:01:33.082632",
     "status": "completed"
    },
    "tags": []
   },
   "outputs": [
    {
     "data": {
      "text/html": [
       "<style>#sk-container-id-1 {color: black;background-color: white;}#sk-container-id-1 pre{padding: 0;}#sk-container-id-1 div.sk-toggleable {background-color: white;}#sk-container-id-1 label.sk-toggleable__label {cursor: pointer;display: block;width: 100%;margin-bottom: 0;padding: 0.3em;box-sizing: border-box;text-align: center;}#sk-container-id-1 label.sk-toggleable__label-arrow:before {content: \"▸\";float: left;margin-right: 0.25em;color: #696969;}#sk-container-id-1 label.sk-toggleable__label-arrow:hover:before {color: black;}#sk-container-id-1 div.sk-estimator:hover label.sk-toggleable__label-arrow:before {color: black;}#sk-container-id-1 div.sk-toggleable__content {max-height: 0;max-width: 0;overflow: hidden;text-align: left;background-color: #f0f8ff;}#sk-container-id-1 div.sk-toggleable__content pre {margin: 0.2em;color: black;border-radius: 0.25em;background-color: #f0f8ff;}#sk-container-id-1 input.sk-toggleable__control:checked~div.sk-toggleable__content {max-height: 200px;max-width: 100%;overflow: auto;}#sk-container-id-1 input.sk-toggleable__control:checked~label.sk-toggleable__label-arrow:before {content: \"▾\";}#sk-container-id-1 div.sk-estimator input.sk-toggleable__control:checked~label.sk-toggleable__label {background-color: #d4ebff;}#sk-container-id-1 div.sk-label input.sk-toggleable__control:checked~label.sk-toggleable__label {background-color: #d4ebff;}#sk-container-id-1 input.sk-hidden--visually {border: 0;clip: rect(1px 1px 1px 1px);clip: rect(1px, 1px, 1px, 1px);height: 1px;margin: -1px;overflow: hidden;padding: 0;position: absolute;width: 1px;}#sk-container-id-1 div.sk-estimator {font-family: monospace;background-color: #f0f8ff;border: 1px dotted black;border-radius: 0.25em;box-sizing: border-box;margin-bottom: 0.5em;}#sk-container-id-1 div.sk-estimator:hover {background-color: #d4ebff;}#sk-container-id-1 div.sk-parallel-item::after {content: \"\";width: 100%;border-bottom: 1px solid gray;flex-grow: 1;}#sk-container-id-1 div.sk-label:hover label.sk-toggleable__label {background-color: #d4ebff;}#sk-container-id-1 div.sk-serial::before {content: \"\";position: absolute;border-left: 1px solid gray;box-sizing: border-box;top: 0;bottom: 0;left: 50%;z-index: 0;}#sk-container-id-1 div.sk-serial {display: flex;flex-direction: column;align-items: center;background-color: white;padding-right: 0.2em;padding-left: 0.2em;position: relative;}#sk-container-id-1 div.sk-item {position: relative;z-index: 1;}#sk-container-id-1 div.sk-parallel {display: flex;align-items: stretch;justify-content: center;background-color: white;position: relative;}#sk-container-id-1 div.sk-item::before, #sk-container-id-1 div.sk-parallel-item::before {content: \"\";position: absolute;border-left: 1px solid gray;box-sizing: border-box;top: 0;bottom: 0;left: 50%;z-index: -1;}#sk-container-id-1 div.sk-parallel-item {display: flex;flex-direction: column;z-index: 1;position: relative;background-color: white;}#sk-container-id-1 div.sk-parallel-item:first-child::after {align-self: flex-end;width: 50%;}#sk-container-id-1 div.sk-parallel-item:last-child::after {align-self: flex-start;width: 50%;}#sk-container-id-1 div.sk-parallel-item:only-child::after {width: 0;}#sk-container-id-1 div.sk-dashed-wrapped {border: 1px dashed gray;margin: 0 0.4em 0.5em 0.4em;box-sizing: border-box;padding-bottom: 0.4em;background-color: white;}#sk-container-id-1 div.sk-label label {font-family: monospace;font-weight: bold;display: inline-block;line-height: 1.2em;}#sk-container-id-1 div.sk-label-container {text-align: center;}#sk-container-id-1 div.sk-container {/* jupyter's `normalize.less` sets `[hidden] { display: none; }` but bootstrap.min.css set `[hidden] { display: none !important; }` so we also need the `!important` here to be able to override the default hidden behavior on the sphinx rendered scikit-learn.org. See: https://github.com/scikit-learn/scikit-learn/issues/21755 */display: inline-block !important;position: relative;}#sk-container-id-1 div.sk-text-repr-fallback {display: none;}</style><div id=\"sk-container-id-1\" class=\"sk-top-container\"><div class=\"sk-text-repr-fallback\"><pre>Pipeline(steps=[(&#x27;scale&#x27;, None),\n",
       "                (&#x27;model&#x27;,\n",
       "                 LogisticRegression(l1_ratio=0.5, max_iter=5000,\n",
       "                                    penalty=&#x27;elasticnet&#x27;, solver=&#x27;saga&#x27;))])</pre><b>In a Jupyter environment, please rerun this cell to show the HTML representation or trust the notebook. <br />On GitHub, the HTML representation is unable to render, please try loading this page with nbviewer.org.</b></div><div class=\"sk-container\" hidden><div class=\"sk-item sk-dashed-wrapped\"><div class=\"sk-label-container\"><div class=\"sk-label sk-toggleable\"><input class=\"sk-toggleable__control sk-hidden--visually\" id=\"sk-estimator-id-1\" type=\"checkbox\" ><label for=\"sk-estimator-id-1\" class=\"sk-toggleable__label sk-toggleable__label-arrow\">Pipeline</label><div class=\"sk-toggleable__content\"><pre>Pipeline(steps=[(&#x27;scale&#x27;, None),\n",
       "                (&#x27;model&#x27;,\n",
       "                 LogisticRegression(l1_ratio=0.5, max_iter=5000,\n",
       "                                    penalty=&#x27;elasticnet&#x27;, solver=&#x27;saga&#x27;))])</pre></div></div></div><div class=\"sk-serial\"><div class=\"sk-item\"><div class=\"sk-estimator sk-toggleable\"><input class=\"sk-toggleable__control sk-hidden--visually\" id=\"sk-estimator-id-2\" type=\"checkbox\" ><label for=\"sk-estimator-id-2\" class=\"sk-toggleable__label sk-toggleable__label-arrow\">None</label><div class=\"sk-toggleable__content\"><pre>None</pre></div></div></div><div class=\"sk-item\"><div class=\"sk-estimator sk-toggleable\"><input class=\"sk-toggleable__control sk-hidden--visually\" id=\"sk-estimator-id-3\" type=\"checkbox\" ><label for=\"sk-estimator-id-3\" class=\"sk-toggleable__label sk-toggleable__label-arrow\">LogisticRegression</label><div class=\"sk-toggleable__content\"><pre>LogisticRegression(l1_ratio=0.5, max_iter=5000, penalty=&#x27;elasticnet&#x27;,\n",
       "                   solver=&#x27;saga&#x27;)</pre></div></div></div></div></div></div></div>"
      ],
      "text/plain": [
       "Pipeline(steps=[('scale', None),\n",
       "                ('model',\n",
       "                 LogisticRegression(l1_ratio=0.5, max_iter=5000,\n",
       "                                    penalty='elasticnet', solver='saga'))])"
      ]
     },
     "execution_count": 43,
     "metadata": {},
     "output_type": "execute_result"
    }
   ],
   "source": [
    "model.fit(X_train, y_train.values.ravel())"
   ]
  },
  {
   "cell_type": "code",
   "execution_count": 44,
   "id": "af59f8c0",
   "metadata": {
    "execution": {
     "iopub.execute_input": "2025-07-30T20:04:34.768998Z",
     "iopub.status.busy": "2025-07-30T20:04:34.768644Z",
     "iopub.status.idle": "2025-07-30T20:04:34.773245Z",
     "shell.execute_reply": "2025-07-30T20:04:34.772387Z"
    },
    "papermill": {
     "duration": 0.018446,
     "end_time": "2025-07-30T20:04:34.774581",
     "exception": false,
     "start_time": "2025-07-30T20:04:34.756135",
     "status": "completed"
    },
    "tags": []
   },
   "outputs": [],
   "source": [
    "from fairness_multiverse.universe import predict_w_threshold"
   ]
  },
  {
   "cell_type": "code",
   "execution_count": 45,
   "id": "a7cf2e16",
   "metadata": {
    "execution": {
     "iopub.execute_input": "2025-07-30T20:04:34.800373Z",
     "iopub.status.busy": "2025-07-30T20:04:34.799874Z",
     "iopub.status.idle": "2025-07-30T20:04:34.889059Z",
     "shell.execute_reply": "2025-07-30T20:04:34.888191Z"
    },
    "papermill": {
     "duration": 0.103007,
     "end_time": "2025-07-30T20:04:34.890400",
     "exception": false,
     "start_time": "2025-07-30T20:04:34.787393",
     "status": "completed"
    },
    "tags": []
   },
   "outputs": [
    {
     "data": {
      "text/plain": [
       "0.8624790993200312"
      ]
     },
     "execution_count": 45,
     "metadata": {},
     "output_type": "execute_result"
    }
   ],
   "source": [
    "probs_test = model.predict_proba(X_test)\n",
    "\n",
    "'''\n",
    "Below code returns a boolean array (or binary 0/1 array depending on how it’s used) where each element \n",
    "is True if the probability of class 1 is greater than or equal to the threshold, and False otherwise.\n",
    "'''\n",
    "y_pred_default = predict_w_threshold(probs_test, 0.5)\n",
    "\n",
    "from sklearn.metrics import accuracy_score\n",
    "\n",
    "# Naive prediction\n",
    "accuracy_score(y_true = y_true, y_pred = y_pred_default)"
   ]
  },
  {
   "cell_type": "code",
   "execution_count": 46,
   "id": "081964c3",
   "metadata": {
    "execution": {
     "iopub.execute_input": "2025-07-30T20:04:34.915940Z",
     "iopub.status.busy": "2025-07-30T20:04:34.915378Z",
     "iopub.status.idle": "2025-07-30T20:04:34.989236Z",
     "shell.execute_reply": "2025-07-30T20:04:34.988387Z"
    },
    "papermill": {
     "duration": 0.08769,
     "end_time": "2025-07-30T20:04:34.990528",
     "exception": false,
     "start_time": "2025-07-30T20:04:34.902838",
     "status": "completed"
    },
    "tags": []
   },
   "outputs": [
    {
     "data": {
      "text/plain": [
       "array([0, 0, 0, ..., 0, 0, 0])"
      ]
     },
     "execution_count": 46,
     "metadata": {},
     "output_type": "execute_result"
    }
   ],
   "source": [
    "model.predict(X_test)"
   ]
  },
  {
   "cell_type": "markdown",
   "id": "56c9705b",
   "metadata": {
    "papermill": {
     "duration": 0.011466,
     "end_time": "2025-07-30T20:04:35.014561",
     "exception": false,
     "start_time": "2025-07-30T20:04:35.003095",
     "status": "completed"
    },
    "tags": []
   },
   "source": [
    "# Conformal Prediction"
   ]
  },
  {
   "cell_type": "code",
   "execution_count": 47,
   "id": "160ec6ff",
   "metadata": {
    "execution": {
     "iopub.execute_input": "2025-07-30T20:04:35.039125Z",
     "iopub.status.busy": "2025-07-30T20:04:35.038637Z",
     "iopub.status.idle": "2025-07-30T20:04:35.043204Z",
     "shell.execute_reply": "2025-07-30T20:04:35.042433Z"
    },
    "papermill": {
     "duration": 0.018436,
     "end_time": "2025-07-30T20:04:35.044532",
     "exception": false,
     "start_time": "2025-07-30T20:04:35.026096",
     "status": "completed"
    },
    "tags": []
   },
   "outputs": [],
   "source": [
    "# Miscoverage level for conformal prediction (10% allowed error rate => 90% target coverage)\n",
    "alpha = 0.1"
   ]
  },
  {
   "cell_type": "code",
   "execution_count": 48,
   "id": "eadf4555-3dd3-440e-8e35-f82a4ad9f855",
   "metadata": {
    "execution": {
     "iopub.execute_input": "2025-07-30T20:04:35.070473Z",
     "iopub.status.busy": "2025-07-30T20:04:35.069837Z",
     "iopub.status.idle": "2025-07-30T20:04:35.145878Z",
     "shell.execute_reply": "2025-07-30T20:04:35.145097Z"
    },
    "papermill": {
     "duration": 0.089827,
     "end_time": "2025-07-30T20:04:35.147335",
     "exception": false,
     "start_time": "2025-07-30T20:04:35.057508",
     "status": "completed"
    },
    "tags": []
   },
   "outputs": [],
   "source": [
    "probs_calib = model.predict_proba(X_calib)"
   ]
  },
  {
   "cell_type": "code",
   "execution_count": 49,
   "id": "2ed93547-6d5d-4983-9b36-1ecb300da49a",
   "metadata": {
    "execution": {
     "iopub.execute_input": "2025-07-30T20:04:35.172893Z",
     "iopub.status.busy": "2025-07-30T20:04:35.172431Z",
     "iopub.status.idle": "2025-07-30T20:04:35.177514Z",
     "shell.execute_reply": "2025-07-30T20:04:35.176823Z"
    },
    "papermill": {
     "duration": 0.018877,
     "end_time": "2025-07-30T20:04:35.178860",
     "exception": false,
     "start_time": "2025-07-30T20:04:35.159983",
     "status": "completed"
    },
    "tags": []
   },
   "outputs": [],
   "source": [
    "y_calib = y_calib.values.ravel().astype(int)"
   ]
  },
  {
   "cell_type": "code",
   "execution_count": 50,
   "id": "65d1320d-f588-4b38-9072-62af1ae97f7d",
   "metadata": {
    "execution": {
     "iopub.execute_input": "2025-07-30T20:04:35.204750Z",
     "iopub.status.busy": "2025-07-30T20:04:35.204384Z",
     "iopub.status.idle": "2025-07-30T20:04:35.210427Z",
     "shell.execute_reply": "2025-07-30T20:04:35.209676Z"
    },
    "papermill": {
     "duration": 0.020101,
     "end_time": "2025-07-30T20:04:35.211799",
     "exception": false,
     "start_time": "2025-07-30T20:04:35.191698",
     "status": "completed"
    },
    "tags": []
   },
   "outputs": [],
   "source": [
    "from fairness_multiverse.conformal import compute_nc_scores\n",
    "\n",
    "# Compute nonconformity scores on calibration set (1 - probability of true class)\n",
    "nc_scores = compute_nc_scores(probs_calib, y_calib)"
   ]
  },
  {
   "cell_type": "code",
   "execution_count": 51,
   "id": "df3b8ca3-53b7-43d5-9667-7c85da7aeda2",
   "metadata": {
    "execution": {
     "iopub.execute_input": "2025-07-30T20:04:35.237510Z",
     "iopub.status.busy": "2025-07-30T20:04:35.236813Z",
     "iopub.status.idle": "2025-07-30T20:04:35.242224Z",
     "shell.execute_reply": "2025-07-30T20:04:35.241554Z"
    },
    "papermill": {
     "duration": 0.019188,
     "end_time": "2025-07-30T20:04:35.243624",
     "exception": false,
     "start_time": "2025-07-30T20:04:35.224436",
     "status": "completed"
    },
    "tags": []
   },
   "outputs": [],
   "source": [
    "from fairness_multiverse.conformal import find_threshold\n",
    "\n",
    "# Find conformal threshold q_hat for the given alpha (split conformal method)\n",
    "q_hat = find_threshold(nc_scores, alpha)"
   ]
  },
  {
   "cell_type": "code",
   "execution_count": 52,
   "id": "4d29e6c1-0ef6-4aa4-b8fe-4fe79b0d033a",
   "metadata": {
    "execution": {
     "iopub.execute_input": "2025-07-30T20:04:35.269891Z",
     "iopub.status.busy": "2025-07-30T20:04:35.269256Z",
     "iopub.status.idle": "2025-07-30T20:04:35.275211Z",
     "shell.execute_reply": "2025-07-30T20:04:35.274314Z"
    },
    "papermill": {
     "duration": 0.01972,
     "end_time": "2025-07-30T20:04:35.276564",
     "exception": false,
     "start_time": "2025-07-30T20:04:35.256844",
     "status": "completed"
    },
    "tags": []
   },
   "outputs": [
    {
     "data": {
      "text/plain": [
       "0.6894769321557868"
      ]
     },
     "execution_count": 52,
     "metadata": {},
     "output_type": "execute_result"
    }
   ],
   "source": [
    "q_hat"
   ]
  },
  {
   "cell_type": "code",
   "execution_count": 53,
   "id": "92460794-cdac-4be2-ba28-f28c0515a6fb",
   "metadata": {
    "execution": {
     "iopub.execute_input": "2025-07-30T20:04:35.302778Z",
     "iopub.status.busy": "2025-07-30T20:04:35.302121Z",
     "iopub.status.idle": "2025-07-30T20:04:35.770035Z",
     "shell.execute_reply": "2025-07-30T20:04:35.769294Z"
    },
    "papermill": {
     "duration": 0.481936,
     "end_time": "2025-07-30T20:04:35.771487",
     "exception": false,
     "start_time": "2025-07-30T20:04:35.289551",
     "status": "completed"
    },
    "tags": []
   },
   "outputs": [],
   "source": [
    "from fairness_multiverse.conformal import predict_conformal_sets\n",
    "\n",
    "# Generate prediction sets for each test example\n",
    "pred_sets = predict_conformal_sets(model, X_test, q_hat)"
   ]
  },
  {
   "cell_type": "code",
   "execution_count": 54,
   "id": "d90c9a65-e6db-4f5d-80cd-e68fb7e46829",
   "metadata": {
    "execution": {
     "iopub.execute_input": "2025-07-30T20:04:35.797531Z",
     "iopub.status.busy": "2025-07-30T20:04:35.797216Z",
     "iopub.status.idle": "2025-07-30T20:04:35.801821Z",
     "shell.execute_reply": "2025-07-30T20:04:35.801006Z"
    },
    "papermill": {
     "duration": 0.018941,
     "end_time": "2025-07-30T20:04:35.803258",
     "exception": false,
     "start_time": "2025-07-30T20:04:35.784317",
     "status": "completed"
    },
    "tags": []
   },
   "outputs": [],
   "source": [
    "y_true = y_true.squeeze()"
   ]
  },
  {
   "cell_type": "code",
   "execution_count": 55,
   "id": "3a58a54a-1e68-46b9-927a-df01f18aebc8",
   "metadata": {
    "execution": {
     "iopub.execute_input": "2025-07-30T20:04:35.830073Z",
     "iopub.status.busy": "2025-07-30T20:04:35.829432Z",
     "iopub.status.idle": "2025-07-30T20:04:36.312071Z",
     "shell.execute_reply": "2025-07-30T20:04:36.311090Z"
    },
    "papermill": {
     "duration": 0.496762,
     "end_time": "2025-07-30T20:04:36.313685",
     "exception": false,
     "start_time": "2025-07-30T20:04:35.816923",
     "status": "completed"
    },
    "tags": []
   },
   "outputs": [],
   "source": [
    "from fairness_multiverse.conformal import evaluate_sets\n",
    "\n",
    "# Evaluate coverage and average set size on test data\n",
    "metrics = evaluate_sets(pred_sets, y_true)"
   ]
  },
  {
   "cell_type": "markdown",
   "id": "2b569c12-9aaa-4c88-98c9-bbcd0cf3ebb8",
   "metadata": {
    "papermill": {
     "duration": 0.01211,
     "end_time": "2025-07-30T20:04:36.338726",
     "exception": false,
     "start_time": "2025-07-30T20:04:36.326616",
     "status": "completed"
    },
    "tags": []
   },
   "source": [
    "# CP Metrics"
   ]
  },
  {
   "cell_type": "code",
   "execution_count": 56,
   "id": "5ce0a5cb-201f-45a0-ade5-94c7f0bd6095",
   "metadata": {
    "execution": {
     "iopub.execute_input": "2025-07-30T20:04:36.365567Z",
     "iopub.status.busy": "2025-07-30T20:04:36.365023Z",
     "iopub.status.idle": "2025-07-30T20:04:36.372000Z",
     "shell.execute_reply": "2025-07-30T20:04:36.371233Z"
    },
    "papermill": {
     "duration": 0.022686,
     "end_time": "2025-07-30T20:04:36.373326",
     "exception": false,
     "start_time": "2025-07-30T20:04:36.350640",
     "status": "completed"
    },
    "tags": []
   },
   "outputs": [
    {
     "data": {
      "text/plain": [
       "{'coverage': 0.9115260283134544, 'avg_size': 1.1355813175788652}"
      ]
     },
     "execution_count": 56,
     "metadata": {},
     "output_type": "execute_result"
    }
   ],
   "source": [
    "metrics"
   ]
  },
  {
   "cell_type": "code",
   "execution_count": 57,
   "id": "9b9a838d-31c9-430b-ae14-12baee460d17",
   "metadata": {
    "execution": {
     "iopub.execute_input": "2025-07-30T20:04:36.399961Z",
     "iopub.status.busy": "2025-07-30T20:04:36.399341Z",
     "iopub.status.idle": "2025-07-30T20:04:36.404639Z",
     "shell.execute_reply": "2025-07-30T20:04:36.403961Z"
    },
    "papermill": {
     "duration": 0.019406,
     "end_time": "2025-07-30T20:04:36.405944",
     "exception": false,
     "start_time": "2025-07-30T20:04:36.386538",
     "status": "completed"
    },
    "tags": []
   },
   "outputs": [],
   "source": [
    "example_universe = universe.copy()\n",
    "universe_training_year = example_universe.get(\"training_year\")\n",
    "universe_training_size = example_universe.get(\"training_size\")\n",
    "universe_scale = example_universe.get(\"scale\")\n",
    "universe_model = example_universe.get(\"model\")\n",
    "universe_exclude_features = example_universe.get(\"exclude_features\")\n",
    "universe_exclude_subgroups = example_universe.get(\"exclude_subgroups\")"
   ]
  },
  {
   "cell_type": "code",
   "execution_count": 58,
   "id": "f4b6a8ac-9dc0-4245-8a91-5b3b5999c4f9",
   "metadata": {
    "execution": {
     "iopub.execute_input": "2025-07-30T20:04:36.433159Z",
     "iopub.status.busy": "2025-07-30T20:04:36.432515Z",
     "iopub.status.idle": "2025-07-30T20:04:36.437944Z",
     "shell.execute_reply": "2025-07-30T20:04:36.437106Z"
    },
    "papermill": {
     "duration": 0.019856,
     "end_time": "2025-07-30T20:04:36.439350",
     "exception": false,
     "start_time": "2025-07-30T20:04:36.419494",
     "status": "completed"
    },
    "tags": []
   },
   "outputs": [],
   "source": [
    "cp_metrics_dict = {\n",
    "    \"universe_id\": [universe_id],\n",
    "    \"universe_training_year\": [universe_training_year],\n",
    "    \"universe_training_size\": [universe_training_size],\n",
    "    \"universe_scale\": [universe_scale],\n",
    "    \"universe_model\": [universe_model],\n",
    "    \"universe_exclude_features\": [universe_exclude_features],\n",
    "    \"universe_exclude_subgroups\": [universe_exclude_subgroups],\n",
    "    \"q_hat\": [q_hat],\n",
    "    \"coverage\": [metrics[\"coverage\"]],\n",
    "    \"avg_size\": [metrics[\"avg_size\"]],\n",
    "}"
   ]
  },
  {
   "cell_type": "code",
   "execution_count": 59,
   "id": "908acbb1-0371-4915-85ca-3fa520d2efe2",
   "metadata": {
    "execution": {
     "iopub.execute_input": "2025-07-30T20:04:36.466207Z",
     "iopub.status.busy": "2025-07-30T20:04:36.465561Z",
     "iopub.status.idle": "2025-07-30T20:04:36.471822Z",
     "shell.execute_reply": "2025-07-30T20:04:36.471040Z"
    },
    "papermill": {
     "duration": 0.020521,
     "end_time": "2025-07-30T20:04:36.473219",
     "exception": false,
     "start_time": "2025-07-30T20:04:36.452698",
     "status": "completed"
    },
    "tags": []
   },
   "outputs": [
    {
     "data": {
      "text/plain": [
       "{'universe_id': ['c70da768bffcfbe1b789bd6073e34669'],\n",
       " 'universe_training_year': ['2014'],\n",
       " 'universe_training_size': ['25k'],\n",
       " 'universe_scale': ['do-not-scale'],\n",
       " 'universe_model': ['elasticnet'],\n",
       " 'universe_exclude_features': ['none'],\n",
       " 'universe_exclude_subgroups': ['keep-all'],\n",
       " 'q_hat': [0.6894769321557868],\n",
       " 'coverage': [0.9115260283134544],\n",
       " 'avg_size': [1.1355813175788652]}"
      ]
     },
     "execution_count": 59,
     "metadata": {},
     "output_type": "execute_result"
    }
   ],
   "source": [
    "cp_metrics_dict"
   ]
  },
  {
   "cell_type": "code",
   "execution_count": 60,
   "id": "33007efc-14e9-4ec6-97ac-56a455c82265",
   "metadata": {
    "execution": {
     "iopub.execute_input": "2025-07-30T20:04:36.499714Z",
     "iopub.status.busy": "2025-07-30T20:04:36.499270Z",
     "iopub.status.idle": "2025-07-30T20:04:36.504760Z",
     "shell.execute_reply": "2025-07-30T20:04:36.503952Z"
    },
    "papermill": {
     "duration": 0.019776,
     "end_time": "2025-07-30T20:04:36.506193",
     "exception": false,
     "start_time": "2025-07-30T20:04:36.486417",
     "status": "completed"
    },
    "tags": []
   },
   "outputs": [],
   "source": [
    "cp_metrics_df = pd.DataFrame(cp_metrics_dict)"
   ]
  },
  {
   "cell_type": "code",
   "execution_count": 61,
   "id": "db12611b-57b2-4910-b9d0-355adfd6e7bf",
   "metadata": {
    "execution": {
     "iopub.execute_input": "2025-07-30T20:04:36.533226Z",
     "iopub.status.busy": "2025-07-30T20:04:36.532914Z",
     "iopub.status.idle": "2025-07-30T20:04:36.547418Z",
     "shell.execute_reply": "2025-07-30T20:04:36.546676Z"
    },
    "papermill": {
     "duration": 0.028928,
     "end_time": "2025-07-30T20:04:36.548880",
     "exception": false,
     "start_time": "2025-07-30T20:04:36.519952",
     "status": "completed"
    },
    "tags": []
   },
   "outputs": [
    {
     "data": {
      "text/html": [
       "<div>\n",
       "<style scoped>\n",
       "    .dataframe tbody tr th:only-of-type {\n",
       "        vertical-align: middle;\n",
       "    }\n",
       "\n",
       "    .dataframe tbody tr th {\n",
       "        vertical-align: top;\n",
       "    }\n",
       "\n",
       "    .dataframe thead th {\n",
       "        text-align: right;\n",
       "    }\n",
       "</style>\n",
       "<table border=\"1\" class=\"dataframe\">\n",
       "  <thead>\n",
       "    <tr style=\"text-align: right;\">\n",
       "      <th></th>\n",
       "      <th>universe_id</th>\n",
       "      <th>universe_training_year</th>\n",
       "      <th>universe_training_size</th>\n",
       "      <th>universe_scale</th>\n",
       "      <th>universe_model</th>\n",
       "      <th>universe_exclude_features</th>\n",
       "      <th>universe_exclude_subgroups</th>\n",
       "      <th>q_hat</th>\n",
       "      <th>coverage</th>\n",
       "      <th>avg_size</th>\n",
       "    </tr>\n",
       "  </thead>\n",
       "  <tbody>\n",
       "    <tr>\n",
       "      <th>0</th>\n",
       "      <td>c70da768bffcfbe1b789bd6073e34669</td>\n",
       "      <td>2014</td>\n",
       "      <td>25k</td>\n",
       "      <td>do-not-scale</td>\n",
       "      <td>elasticnet</td>\n",
       "      <td>none</td>\n",
       "      <td>keep-all</td>\n",
       "      <td>0.689477</td>\n",
       "      <td>0.911526</td>\n",
       "      <td>1.135581</td>\n",
       "    </tr>\n",
       "  </tbody>\n",
       "</table>\n",
       "</div>"
      ],
      "text/plain": [
       "                        universe_id universe_training_year  \\\n",
       "0  c70da768bffcfbe1b789bd6073e34669                   2014   \n",
       "\n",
       "  universe_training_size universe_scale universe_model  \\\n",
       "0                    25k   do-not-scale     elasticnet   \n",
       "\n",
       "  universe_exclude_features universe_exclude_subgroups     q_hat  coverage  \\\n",
       "0                      none                   keep-all  0.689477  0.911526   \n",
       "\n",
       "   avg_size  \n",
       "0  1.135581  "
      ]
     },
     "execution_count": 61,
     "metadata": {},
     "output_type": "execute_result"
    }
   ],
   "source": [
    "cp_metrics_df"
   ]
  },
  {
   "cell_type": "code",
   "execution_count": 62,
   "id": "b7fbde55-a0a1-47e4-9af6-fe4a17fa8c61",
   "metadata": {
    "execution": {
     "iopub.execute_input": "2025-07-30T20:04:36.575521Z",
     "iopub.status.busy": "2025-07-30T20:04:36.574880Z",
     "iopub.status.idle": "2025-07-30T20:04:36.579231Z",
     "shell.execute_reply": "2025-07-30T20:04:36.578528Z"
    },
    "papermill": {
     "duration": 0.018976,
     "end_time": "2025-07-30T20:04:36.580604",
     "exception": false,
     "start_time": "2025-07-30T20:04:36.561628",
     "status": "completed"
    },
    "tags": []
   },
   "outputs": [],
   "source": [
    "# Conditional Coverage & looking at subgroups"
   ]
  },
  {
   "cell_type": "code",
   "execution_count": 63,
   "id": "027ae886-68dd-4141-96c7-805a5450e1ef",
   "metadata": {
    "execution": {
     "iopub.execute_input": "2025-07-30T20:04:36.608528Z",
     "iopub.status.busy": "2025-07-30T20:04:36.607730Z",
     "iopub.status.idle": "2025-07-30T20:04:36.794597Z",
     "shell.execute_reply": "2025-07-30T20:04:36.793843Z"
    },
    "papermill": {
     "duration": 0.201607,
     "end_time": "2025-07-30T20:04:36.796071",
     "exception": false,
     "start_time": "2025-07-30T20:04:36.594464",
     "status": "completed"
    },
    "tags": []
   },
   "outputs": [],
   "source": [
    "from fairness_multiverse.conformal import build_cp_groups\n",
    "\n",
    "cp_groups_df = build_cp_groups(pred_sets, y_true, X_test.index, org_test)\n",
    "#needs universe_id and setting"
   ]
  },
  {
   "cell_type": "code",
   "execution_count": 64,
   "id": "01d5802c-663a-4d1f-9d69-e036faaffbf7",
   "metadata": {
    "execution": {
     "iopub.execute_input": "2025-07-30T20:04:36.823325Z",
     "iopub.status.busy": "2025-07-30T20:04:36.823001Z",
     "iopub.status.idle": "2025-07-30T20:04:36.827096Z",
     "shell.execute_reply": "2025-07-30T20:04:36.826193Z"
    },
    "papermill": {
     "duration": 0.019017,
     "end_time": "2025-07-30T20:04:36.828493",
     "exception": false,
     "start_time": "2025-07-30T20:04:36.809476",
     "status": "completed"
    },
    "tags": []
   },
   "outputs": [],
   "source": [
    "#delete\n",
    "#cp_groups_df"
   ]
  },
  {
   "cell_type": "code",
   "execution_count": 65,
   "id": "fa424af1-d1eb-443d-b717-2d279ada8408",
   "metadata": {
    "execution": {
     "iopub.execute_input": "2025-07-30T20:04:36.856164Z",
     "iopub.status.busy": "2025-07-30T20:04:36.855457Z",
     "iopub.status.idle": "2025-07-30T20:04:36.859890Z",
     "shell.execute_reply": "2025-07-30T20:04:36.859165Z"
    },
    "papermill": {
     "duration": 0.018966,
     "end_time": "2025-07-30T20:04:36.861180",
     "exception": false,
     "start_time": "2025-07-30T20:04:36.842214",
     "status": "completed"
    },
    "tags": []
   },
   "outputs": [],
   "source": [
    "#delete\n",
    "#percentage = (cp_groups_df['nongerman_female'] == 1).mean() * 100\n",
    "#print(percentage)\n"
   ]
  },
  {
   "cell_type": "code",
   "execution_count": 66,
   "id": "6cbdab96-b2b2-45af-ad54-d0516db2e28d",
   "metadata": {
    "execution": {
     "iopub.execute_input": "2025-07-30T20:04:36.888550Z",
     "iopub.status.busy": "2025-07-30T20:04:36.888097Z",
     "iopub.status.idle": "2025-07-30T20:04:37.768245Z",
     "shell.execute_reply": "2025-07-30T20:04:37.767474Z"
    },
    "papermill": {
     "duration": 0.894819,
     "end_time": "2025-07-30T20:04:37.769686",
     "exception": false,
     "start_time": "2025-07-30T20:04:36.874867",
     "status": "completed"
    },
    "tags": []
   },
   "outputs": [],
   "source": [
    "# Define covered = 1 if true_label is in the predicted set\n",
    "cp_groups_df['covered'] = cp_groups_df.apply(\n",
    "    lambda r: int(r['true_label'] in r['pred_set']),\n",
    "    axis=1\n",
    ")"
   ]
  },
  {
   "cell_type": "code",
   "execution_count": 67,
   "id": "338ff529-1a6b-4b87-a931-8e4788d52aad",
   "metadata": {
    "execution": {
     "iopub.execute_input": "2025-07-30T20:04:37.796970Z",
     "iopub.status.busy": "2025-07-30T20:04:37.796647Z",
     "iopub.status.idle": "2025-07-30T20:04:37.800653Z",
     "shell.execute_reply": "2025-07-30T20:04:37.799824Z"
    },
    "papermill": {
     "duration": 0.018642,
     "end_time": "2025-07-30T20:04:37.801940",
     "exception": false,
     "start_time": "2025-07-30T20:04:37.783298",
     "status": "completed"
    },
    "tags": []
   },
   "outputs": [],
   "source": [
    "#cp_groups_df"
   ]
  },
  {
   "cell_type": "code",
   "execution_count": 68,
   "id": "90032e27-66df-4540-9169-4e89cfbaa758",
   "metadata": {
    "execution": {
     "iopub.execute_input": "2025-07-30T20:04:37.829845Z",
     "iopub.status.busy": "2025-07-30T20:04:37.829067Z",
     "iopub.status.idle": "2025-07-30T20:04:37.838272Z",
     "shell.execute_reply": "2025-07-30T20:04:37.837491Z"
    },
    "papermill": {
     "duration": 0.023914,
     "end_time": "2025-07-30T20:04:37.839725",
     "exception": false,
     "start_time": "2025-07-30T20:04:37.815811",
     "status": "completed"
    },
    "tags": []
   },
   "outputs": [],
   "source": [
    "subgroups = ['frau1','nongerman','nongerman_male','nongerman_female']\n",
    "\n",
    "# Conditional coverage for subgroup==1\n",
    "cond_coverage = {\n",
    "    g: cp_groups_df.loc[cp_groups_df[g]==1, 'covered'].mean()\n",
    "    for g in subgroups\n",
    "}"
   ]
  },
  {
   "cell_type": "code",
   "execution_count": 69,
   "id": "1e348fb1-b9c3-45bc-ba23-f016827a7e0d",
   "metadata": {
    "execution": {
     "iopub.execute_input": "2025-07-30T20:04:37.867339Z",
     "iopub.status.busy": "2025-07-30T20:04:37.866685Z",
     "iopub.status.idle": "2025-07-30T20:04:37.872696Z",
     "shell.execute_reply": "2025-07-30T20:04:37.871949Z"
    },
    "papermill": {
     "duration": 0.020856,
     "end_time": "2025-07-30T20:04:37.873964",
     "exception": false,
     "start_time": "2025-07-30T20:04:37.853108",
     "status": "completed"
    },
    "tags": []
   },
   "outputs": [
    {
     "data": {
      "text/plain": [
       "{'frau1': 0.9103922361504246,\n",
       " 'nongerman': 0.9083815191152529,\n",
       " 'nongerman_male': 0.9238043771953526,\n",
       " 'nongerman_female': 0.8828614008941877}"
      ]
     },
     "execution_count": 69,
     "metadata": {},
     "output_type": "execute_result"
    }
   ],
   "source": [
    "cond_coverage"
   ]
  },
  {
   "cell_type": "code",
   "execution_count": 70,
   "id": "f5093324-c3dd-4d63-bc4c-8d945e5c8bbb",
   "metadata": {
    "execution": {
     "iopub.execute_input": "2025-07-30T20:04:37.902126Z",
     "iopub.status.busy": "2025-07-30T20:04:37.901485Z",
     "iopub.status.idle": "2025-07-30T20:04:37.907323Z",
     "shell.execute_reply": "2025-07-30T20:04:37.906586Z"
    },
    "papermill": {
     "duration": 0.020954,
     "end_time": "2025-07-30T20:04:37.908717",
     "exception": false,
     "start_time": "2025-07-30T20:04:37.887763",
     "status": "completed"
    },
    "tags": []
   },
   "outputs": [],
   "source": [
    "for subgroup, cov in cond_coverage.items():\n",
    "    cp_metrics_df[f\"cov_{subgroup}\"] = cov"
   ]
  },
  {
   "cell_type": "code",
   "execution_count": 71,
   "id": "6e872e10-dbe5-49e8-b554-5030c98ff75d",
   "metadata": {
    "execution": {
     "iopub.execute_input": "2025-07-30T20:04:37.936882Z",
     "iopub.status.busy": "2025-07-30T20:04:37.936546Z",
     "iopub.status.idle": "2025-07-30T20:04:37.950129Z",
     "shell.execute_reply": "2025-07-30T20:04:37.949384Z"
    },
    "papermill": {
     "duration": 0.028373,
     "end_time": "2025-07-30T20:04:37.951464",
     "exception": false,
     "start_time": "2025-07-30T20:04:37.923091",
     "status": "completed"
    },
    "tags": []
   },
   "outputs": [
    {
     "data": {
      "text/html": [
       "<div>\n",
       "<style scoped>\n",
       "    .dataframe tbody tr th:only-of-type {\n",
       "        vertical-align: middle;\n",
       "    }\n",
       "\n",
       "    .dataframe tbody tr th {\n",
       "        vertical-align: top;\n",
       "    }\n",
       "\n",
       "    .dataframe thead th {\n",
       "        text-align: right;\n",
       "    }\n",
       "</style>\n",
       "<table border=\"1\" class=\"dataframe\">\n",
       "  <thead>\n",
       "    <tr style=\"text-align: right;\">\n",
       "      <th></th>\n",
       "      <th>universe_id</th>\n",
       "      <th>universe_training_year</th>\n",
       "      <th>universe_training_size</th>\n",
       "      <th>universe_scale</th>\n",
       "      <th>universe_model</th>\n",
       "      <th>universe_exclude_features</th>\n",
       "      <th>universe_exclude_subgroups</th>\n",
       "      <th>q_hat</th>\n",
       "      <th>coverage</th>\n",
       "      <th>avg_size</th>\n",
       "      <th>cov_frau1</th>\n",
       "      <th>cov_nongerman</th>\n",
       "      <th>cov_nongerman_male</th>\n",
       "      <th>cov_nongerman_female</th>\n",
       "    </tr>\n",
       "  </thead>\n",
       "  <tbody>\n",
       "    <tr>\n",
       "      <th>0</th>\n",
       "      <td>c70da768bffcfbe1b789bd6073e34669</td>\n",
       "      <td>2014</td>\n",
       "      <td>25k</td>\n",
       "      <td>do-not-scale</td>\n",
       "      <td>elasticnet</td>\n",
       "      <td>none</td>\n",
       "      <td>keep-all</td>\n",
       "      <td>0.689477</td>\n",
       "      <td>0.911526</td>\n",
       "      <td>1.135581</td>\n",
       "      <td>0.910392</td>\n",
       "      <td>0.908382</td>\n",
       "      <td>0.923804</td>\n",
       "      <td>0.882861</td>\n",
       "    </tr>\n",
       "  </tbody>\n",
       "</table>\n",
       "</div>"
      ],
      "text/plain": [
       "                        universe_id universe_training_year  \\\n",
       "0  c70da768bffcfbe1b789bd6073e34669                   2014   \n",
       "\n",
       "  universe_training_size universe_scale universe_model  \\\n",
       "0                    25k   do-not-scale     elasticnet   \n",
       "\n",
       "  universe_exclude_features universe_exclude_subgroups     q_hat  coverage  \\\n",
       "0                      none                   keep-all  0.689477  0.911526   \n",
       "\n",
       "   avg_size  cov_frau1  cov_nongerman  cov_nongerman_male  \\\n",
       "0  1.135581   0.910392       0.908382            0.923804   \n",
       "\n",
       "   cov_nongerman_female  \n",
       "0              0.882861  "
      ]
     },
     "execution_count": 71,
     "metadata": {},
     "output_type": "execute_result"
    }
   ],
   "source": [
    "cp_metrics_df"
   ]
  },
  {
   "cell_type": "markdown",
   "id": "33774451",
   "metadata": {
    "papermill": {
     "duration": 0.012725,
     "end_time": "2025-07-30T20:04:37.978207",
     "exception": false,
     "start_time": "2025-07-30T20:04:37.965482",
     "status": "completed"
    },
    "tags": []
   },
   "source": [
    "# (Fairness) Metrics"
   ]
  },
  {
   "cell_type": "code",
   "execution_count": 72,
   "id": "debc5d62",
   "metadata": {
    "execution": {
     "iopub.execute_input": "2025-07-30T20:04:38.005642Z",
     "iopub.status.busy": "2025-07-30T20:04:38.004948Z",
     "iopub.status.idle": "2025-07-30T20:04:38.019421Z",
     "shell.execute_reply": "2025-07-30T20:04:38.018571Z"
    },
    "papermill": {
     "duration": 0.02962,
     "end_time": "2025-07-30T20:04:38.020766",
     "exception": false,
     "start_time": "2025-07-30T20:04:37.991146",
     "status": "completed"
    },
    "tags": []
   },
   "outputs": [],
   "source": [
    "# do I need to include maxdeutsch1.missing?\n",
    "\n",
    "import numpy as np\n",
    "\n",
    "colname_to_bin = \"maxdeutsch1\"\n",
    "majority_value = org_train[colname_to_bin].mode()[0]\n",
    "\n",
    "org_test[\"majmin\"] = np.where(org_test[colname_to_bin] == majority_value, \"majority\", \"minority\")"
   ]
  },
  {
   "cell_type": "code",
   "execution_count": 73,
   "id": "06a50de5",
   "metadata": {
    "execution": {
     "iopub.execute_input": "2025-07-30T20:04:38.048596Z",
     "iopub.status.busy": "2025-07-30T20:04:38.048278Z",
     "iopub.status.idle": "2025-07-30T20:04:39.461711Z",
     "shell.execute_reply": "2025-07-30T20:04:39.460977Z"
    },
    "papermill": {
     "duration": 1.428781,
     "end_time": "2025-07-30T20:04:39.463107",
     "exception": false,
     "start_time": "2025-07-30T20:04:38.034326",
     "status": "completed"
    },
    "tags": []
   },
   "outputs": [],
   "source": [
    "example_universe = universe.copy()\n",
    "example_universe[\"cutoff\"] = example_universe[\"cutoff\"][0]\n",
    "example_universe[\"eval_fairness_grouping\"] = example_universe[\"eval_fairness_grouping\"][0]\n",
    "fairness_dict, metric_frame = universe_analysis.compute_metrics(\n",
    "    example_universe,\n",
    "    y_pred_prob=probs_test,\n",
    "    y_test=y_true,\n",
    "    org_test=org_test,\n",
    ")"
   ]
  },
  {
   "cell_type": "markdown",
   "id": "f95d4e02",
   "metadata": {
    "papermill": {
     "duration": 0.013206,
     "end_time": "2025-07-30T20:04:39.492518",
     "exception": false,
     "start_time": "2025-07-30T20:04:39.479312",
     "status": "completed"
    },
    "tags": []
   },
   "source": [
    "# Overall"
   ]
  },
  {
   "cell_type": "markdown",
   "id": "bdee4871",
   "metadata": {
    "papermill": {
     "duration": 0.013137,
     "end_time": "2025-07-30T20:04:39.518599",
     "exception": false,
     "start_time": "2025-07-30T20:04:39.505462",
     "status": "completed"
    },
    "tags": []
   },
   "source": [
    "Fairness\n",
    "Main fairness target: Equalized Odds. Seems to be a better fit than equal opportunity, since we're not only interested in Y = 1. Seems to be a better fit than demographic parity, since we also care about accuracy, not just equal distribution of preds.\n",
    "\n",
    "Pick column for computation of fairness metrics\n",
    "\n",
    "Performance\n",
    "Overall performance measures, most interesting in relation to the measures split by group below"
   ]
  },
  {
   "cell_type": "code",
   "execution_count": 74,
   "id": "c4e067c6",
   "metadata": {
    "execution": {
     "iopub.execute_input": "2025-07-30T20:04:39.545892Z",
     "iopub.status.busy": "2025-07-30T20:04:39.545397Z",
     "iopub.status.idle": "2025-07-30T20:04:39.552941Z",
     "shell.execute_reply": "2025-07-30T20:04:39.552125Z"
    },
    "papermill": {
     "duration": 0.022724,
     "end_time": "2025-07-30T20:04:39.554271",
     "exception": false,
     "start_time": "2025-07-30T20:04:39.531547",
     "status": "completed"
    },
    "tags": []
   },
   "outputs": [
    {
     "data": {
      "text/plain": [
       "accuracy                   0.221168\n",
       "balanced accuracy          0.541458\n",
       "f1                         0.242588\n",
       "precision                  0.138582\n",
       "false positive rate        0.889363\n",
       "false negative rate        0.027720\n",
       "selection rate             0.900000\n",
       "count                  89710.000000\n",
       "dtype: float64"
      ]
     },
     "execution_count": 74,
     "metadata": {},
     "output_type": "execute_result"
    }
   ],
   "source": [
    "metric_frame.overall"
   ]
  },
  {
   "cell_type": "markdown",
   "id": "e968fe9d",
   "metadata": {
    "papermill": {
     "duration": 0.012969,
     "end_time": "2025-07-30T20:04:39.581761",
     "exception": false,
     "start_time": "2025-07-30T20:04:39.568792",
     "status": "completed"
    },
    "tags": []
   },
   "source": [
    "By Group"
   ]
  },
  {
   "cell_type": "code",
   "execution_count": 75,
   "id": "ec325bce",
   "metadata": {
    "execution": {
     "iopub.execute_input": "2025-07-30T20:04:39.609864Z",
     "iopub.status.busy": "2025-07-30T20:04:39.609355Z",
     "iopub.status.idle": "2025-07-30T20:04:39.621885Z",
     "shell.execute_reply": "2025-07-30T20:04:39.621123Z"
    },
    "papermill": {
     "duration": 0.02788,
     "end_time": "2025-07-30T20:04:39.623179",
     "exception": false,
     "start_time": "2025-07-30T20:04:39.595299",
     "status": "completed"
    },
    "tags": []
   },
   "outputs": [
    {
     "data": {
      "text/html": [
       "<div>\n",
       "<style scoped>\n",
       "    .dataframe tbody tr th:only-of-type {\n",
       "        vertical-align: middle;\n",
       "    }\n",
       "\n",
       "    .dataframe tbody tr th {\n",
       "        vertical-align: top;\n",
       "    }\n",
       "\n",
       "    .dataframe thead th {\n",
       "        text-align: right;\n",
       "    }\n",
       "</style>\n",
       "<table border=\"1\" class=\"dataframe\">\n",
       "  <thead>\n",
       "    <tr style=\"text-align: right;\">\n",
       "      <th></th>\n",
       "      <th>accuracy</th>\n",
       "      <th>balanced accuracy</th>\n",
       "      <th>f1</th>\n",
       "      <th>precision</th>\n",
       "      <th>false positive rate</th>\n",
       "      <th>false negative rate</th>\n",
       "      <th>selection rate</th>\n",
       "      <th>count</th>\n",
       "    </tr>\n",
       "    <tr>\n",
       "      <th>majmin</th>\n",
       "      <th></th>\n",
       "      <th></th>\n",
       "      <th></th>\n",
       "      <th></th>\n",
       "      <th></th>\n",
       "      <th></th>\n",
       "      <th></th>\n",
       "      <th></th>\n",
       "    </tr>\n",
       "  </thead>\n",
       "  <tbody>\n",
       "    <tr>\n",
       "      <th>majority</th>\n",
       "      <td>0.243530</td>\n",
       "      <td>0.550866</td>\n",
       "      <td>0.252831</td>\n",
       "      <td>0.145391</td>\n",
       "      <td>0.866867</td>\n",
       "      <td>0.031400</td>\n",
       "      <td>0.880309</td>\n",
       "      <td>69170.0</td>\n",
       "    </tr>\n",
       "    <tr>\n",
       "      <th>minority</th>\n",
       "      <td>0.145862</td>\n",
       "      <td>0.511403</td>\n",
       "      <td>0.210299</td>\n",
       "      <td>0.117694</td>\n",
       "      <td>0.963680</td>\n",
       "      <td>0.013514</td>\n",
       "      <td>0.966310</td>\n",
       "      <td>20540.0</td>\n",
       "    </tr>\n",
       "  </tbody>\n",
       "</table>\n",
       "</div>"
      ],
      "text/plain": [
       "          accuracy  balanced accuracy        f1  precision  \\\n",
       "majmin                                                       \n",
       "majority  0.243530           0.550866  0.252831   0.145391   \n",
       "minority  0.145862           0.511403  0.210299   0.117694   \n",
       "\n",
       "          false positive rate  false negative rate  selection rate    count  \n",
       "majmin                                                                       \n",
       "majority             0.866867             0.031400        0.880309  69170.0  \n",
       "minority             0.963680             0.013514        0.966310  20540.0  "
      ]
     },
     "execution_count": 75,
     "metadata": {},
     "output_type": "execute_result"
    }
   ],
   "source": [
    "metric_frame.by_group"
   ]
  },
  {
   "cell_type": "code",
   "execution_count": 76,
   "id": "a9ddbe63",
   "metadata": {
    "execution": {
     "iopub.execute_input": "2025-07-30T20:04:39.652009Z",
     "iopub.status.busy": "2025-07-30T20:04:39.651693Z",
     "iopub.status.idle": "2025-07-30T20:04:41.167470Z",
     "shell.execute_reply": "2025-07-30T20:04:41.166762Z"
    },
    "papermill": {
     "duration": 1.531078,
     "end_time": "2025-07-30T20:04:41.168762",
     "exception": false,
     "start_time": "2025-07-30T20:04:39.637684",
     "status": "completed"
    },
    "tags": []
   },
   "outputs": [
    {
     "data": {
      "text/plain": [
       "array([[<Axes: title={'center': 'accuracy'}, xlabel='majmin'>,\n",
       "        <Axes: title={'center': 'balanced accuracy'}, xlabel='majmin'>,\n",
       "        <Axes: title={'center': 'f1'}, xlabel='majmin'>],\n",
       "       [<Axes: title={'center': 'precision'}, xlabel='majmin'>,\n",
       "        <Axes: title={'center': 'false positive rate'}, xlabel='majmin'>,\n",
       "        <Axes: title={'center': 'false negative rate'}, xlabel='majmin'>],\n",
       "       [<Axes: title={'center': 'selection rate'}, xlabel='majmin'>,\n",
       "        <Axes: title={'center': 'count'}, xlabel='majmin'>,\n",
       "        <Axes: xlabel='majmin'>]], dtype=object)"
      ]
     },
     "execution_count": 76,
     "metadata": {},
     "output_type": "execute_result"
    },
    {
     "data": {
      "image/png": "[encoded data removed]",
      "text/plain": [
       "<Figure size 1200x800 with 9 Axes>"
      ]
     },
     "metadata": {},
     "output_type": "display_data"
    }
   ],
   "source": [
    "# In a graphic\n",
    "metric_frame.by_group.plot.bar(\n",
    "    subplots=True,\n",
    "    layout=[3, 3],\n",
    "    legend=False,\n",
    "    figsize=[12, 8],\n",
    "    title=\"Show all metrics\",\n",
    ")"
   ]
  },
  {
   "cell_type": "markdown",
   "id": "f57a0bac",
   "metadata": {
    "papermill": {
     "duration": 0.014424,
     "end_time": "2025-07-30T20:04:41.200779",
     "exception": false,
     "start_time": "2025-07-30T20:04:41.186355",
     "status": "completed"
    },
    "tags": []
   },
   "source": [
    "# Final Output"
   ]
  },
  {
   "cell_type": "code",
   "execution_count": 77,
   "id": "96d280a3",
   "metadata": {
    "execution": {
     "iopub.execute_input": "2025-07-30T20:04:41.231058Z",
     "iopub.status.busy": "2025-07-30T20:04:41.230435Z",
     "iopub.status.idle": "2025-07-30T20:04:41.237809Z",
     "shell.execute_reply": "2025-07-30T20:04:41.237043Z"
    },
    "papermill": {
     "duration": 0.024129,
     "end_time": "2025-07-30T20:04:41.239220",
     "exception": false,
     "start_time": "2025-07-30T20:04:41.215091",
     "status": "completed"
    },
    "tags": []
   },
   "outputs": [
    {
     "data": {
      "text/plain": [
       "4"
      ]
     },
     "execution_count": 77,
     "metadata": {},
     "output_type": "execute_result"
    }
   ],
   "source": [
    "sub_universes = universe_analysis.generate_sub_universes()\n",
    "len(sub_universes)"
   ]
  },
  {
   "cell_type": "code",
   "execution_count": 78,
   "id": "92adf7ba",
   "metadata": {
    "execution": {
     "iopub.execute_input": "2025-07-30T20:04:41.270257Z",
     "iopub.status.busy": "2025-07-30T20:04:41.269616Z",
     "iopub.status.idle": "2025-07-30T20:04:41.274732Z",
     "shell.execute_reply": "2025-07-30T20:04:41.273950Z"
    },
    "papermill": {
     "duration": 0.021608,
     "end_time": "2025-07-30T20:04:41.276114",
     "exception": false,
     "start_time": "2025-07-30T20:04:41.254506",
     "status": "completed"
    },
    "tags": []
   },
   "outputs": [],
   "source": [
    "def filter_sub_universe_data(sub_universe, org_test):\n",
    "    # Keep all rows — no filtering\n",
    "    keep_rows_mask = np.ones(org_test.shape[0], dtype=bool)\n",
    "\n",
    "    print(f\"[INFO] Keeping all rows: {keep_rows_mask.sum()} rows retained.\")\n",
    "    return keep_rows_mask"
   ]
  },
  {
   "cell_type": "code",
   "execution_count": 79,
   "id": "4a759155",
   "metadata": {
    "execution": {
     "iopub.execute_input": "2025-07-30T20:04:41.307575Z",
     "iopub.status.busy": "2025-07-30T20:04:41.306928Z",
     "iopub.status.idle": "2025-07-30T20:04:46.837736Z",
     "shell.execute_reply": "2025-07-30T20:04:46.837019Z"
    },
    "papermill": {
     "duration": 5.547103,
     "end_time": "2025-07-30T20:04:46.838985",
     "exception": false,
     "start_time": "2025-07-30T20:04:41.291882",
     "status": "completed"
    },
    "tags": []
   },
   "outputs": [
    {
     "name": "stdout",
     "output_type": "stream",
     "text": [
      "Stopping execution_time clock.\n",
      "[INFO] Keeping all rows: 89710 rows retained.\n"
     ]
    },
    {
     "name": "stdout",
     "output_type": "stream",
     "text": [
      "[INFO] Keeping all rows: 89710 rows retained.\n"
     ]
    },
    {
     "name": "stdout",
     "output_type": "stream",
     "text": [
      "[INFO] Keeping all rows: 89710 rows retained.\n"
     ]
    },
    {
     "name": "stdout",
     "output_type": "stream",
     "text": [
      "[INFO] Keeping all rows: 89710 rows retained.\n"
     ]
    },
    {
     "data": {
      "text/html": [
       "<div>\n",
       "<style scoped>\n",
       "    .dataframe tbody tr th:only-of-type {\n",
       "        vertical-align: middle;\n",
       "    }\n",
       "\n",
       "    .dataframe tbody tr th {\n",
       "        vertical-align: top;\n",
       "    }\n",
       "\n",
       "    .dataframe thead th {\n",
       "        text-align: right;\n",
       "    }\n",
       "</style>\n",
       "<table border=\"1\" class=\"dataframe\">\n",
       "  <thead>\n",
       "    <tr style=\"text-align: right;\">\n",
       "      <th></th>\n",
       "      <th>run_no</th>\n",
       "      <th>universe_id</th>\n",
       "      <th>universe_settings</th>\n",
       "      <th>execution_time</th>\n",
       "      <th>test_size_n</th>\n",
       "      <th>test_size_frac</th>\n",
       "      <th>fair_main_equalized_odds_difference</th>\n",
       "      <th>fair_main_equalized_odds_ratio</th>\n",
       "      <th>fair_main_demographic_parity_difference</th>\n",
       "      <th>fair_main_demographic_parity_ratio</th>\n",
       "      <th>...</th>\n",
       "      <th>perf_grp_precision_0</th>\n",
       "      <th>perf_grp_precision_1</th>\n",
       "      <th>perf_grp_false positive rate_0</th>\n",
       "      <th>perf_grp_false positive rate_1</th>\n",
       "      <th>perf_grp_false negative rate_0</th>\n",
       "      <th>perf_grp_false negative rate_1</th>\n",
       "      <th>perf_grp_selection rate_0</th>\n",
       "      <th>perf_grp_selection rate_1</th>\n",
       "      <th>perf_grp_count_0</th>\n",
       "      <th>perf_grp_count_1</th>\n",
       "    </tr>\n",
       "  </thead>\n",
       "  <tbody>\n",
       "    <tr>\n",
       "      <th>0</th>\n",
       "      <td>14</td>\n",
       "      <td>c70da768bffcfbe1b789bd6073e34669</td>\n",
       "      <td>{\"cutoff\": \"quantile_0.1\", \"eval_fairness_grou...</td>\n",
       "      <td>203.67702</td>\n",
       "      <td>89710</td>\n",
       "      <td>1.0</td>\n",
       "      <td>0.096814</td>\n",
       "      <td>0.899537</td>\n",
       "      <td>0.086000</td>\n",
       "      <td>0.911001</td>\n",
       "      <td>...</td>\n",
       "      <td>NaN</td>\n",
       "      <td>NaN</td>\n",
       "      <td>NaN</td>\n",
       "      <td>NaN</td>\n",
       "      <td>NaN</td>\n",
       "      <td>NaN</td>\n",
       "      <td>NaN</td>\n",
       "      <td>NaN</td>\n",
       "      <td>NaN</td>\n",
       "      <td>NaN</td>\n",
       "    </tr>\n",
       "    <tr>\n",
       "      <th>0</th>\n",
       "      <td>14</td>\n",
       "      <td>c70da768bffcfbe1b789bd6073e34669</td>\n",
       "      <td>{\"cutoff\": \"quantile_0.1\", \"eval_fairness_grou...</td>\n",
       "      <td>203.67702</td>\n",
       "      <td>89710</td>\n",
       "      <td>1.0</td>\n",
       "      <td>0.096814</td>\n",
       "      <td>0.899537</td>\n",
       "      <td>0.086000</td>\n",
       "      <td>0.911001</td>\n",
       "      <td>...</td>\n",
       "      <td>0.117694</td>\n",
       "      <td>0.145391</td>\n",
       "      <td>0.963680</td>\n",
       "      <td>0.866867</td>\n",
       "      <td>0.013514</td>\n",
       "      <td>0.031400</td>\n",
       "      <td>0.966310</td>\n",
       "      <td>0.880309</td>\n",
       "      <td>20540.0</td>\n",
       "      <td>69170.0</td>\n",
       "    </tr>\n",
       "    <tr>\n",
       "      <th>0</th>\n",
       "      <td>14</td>\n",
       "      <td>c70da768bffcfbe1b789bd6073e34669</td>\n",
       "      <td>{\"cutoff\": \"quantile_0.25\", \"eval_fairness_gro...</td>\n",
       "      <td>203.67702</td>\n",
       "      <td>89710</td>\n",
       "      <td>1.0</td>\n",
       "      <td>0.207400</td>\n",
       "      <td>0.765953</td>\n",
       "      <td>0.185015</td>\n",
       "      <td>0.792735</td>\n",
       "      <td>...</td>\n",
       "      <td>NaN</td>\n",
       "      <td>NaN</td>\n",
       "      <td>NaN</td>\n",
       "      <td>NaN</td>\n",
       "      <td>NaN</td>\n",
       "      <td>NaN</td>\n",
       "      <td>NaN</td>\n",
       "      <td>NaN</td>\n",
       "      <td>NaN</td>\n",
       "      <td>NaN</td>\n",
       "    </tr>\n",
       "    <tr>\n",
       "      <th>0</th>\n",
       "      <td>14</td>\n",
       "      <td>c70da768bffcfbe1b789bd6073e34669</td>\n",
       "      <td>{\"cutoff\": \"quantile_0.25\", \"eval_fairness_gro...</td>\n",
       "      <td>203.67702</td>\n",
       "      <td>89710</td>\n",
       "      <td>1.0</td>\n",
       "      <td>0.207400</td>\n",
       "      <td>0.765953</td>\n",
       "      <td>0.185015</td>\n",
       "      <td>0.792735</td>\n",
       "      <td>...</td>\n",
       "      <td>0.121734</td>\n",
       "      <td>0.167569</td>\n",
       "      <td>0.886144</td>\n",
       "      <td>0.678744</td>\n",
       "      <td>0.057432</td>\n",
       "      <td>0.102626</td>\n",
       "      <td>0.892648</td>\n",
       "      <td>0.707633</td>\n",
       "      <td>20540.0</td>\n",
       "      <td>69170.0</td>\n",
       "    </tr>\n",
       "  </tbody>\n",
       "</table>\n",
       "<p>4 rows × 50 columns</p>\n",
       "</div>"
      ],
      "text/plain": [
       "  run_no                       universe_id  \\\n",
       "0     14  c70da768bffcfbe1b789bd6073e34669   \n",
       "0     14  c70da768bffcfbe1b789bd6073e34669   \n",
       "0     14  c70da768bffcfbe1b789bd6073e34669   \n",
       "0     14  c70da768bffcfbe1b789bd6073e34669   \n",
       "\n",
       "                                   universe_settings  execution_time  \\\n",
       "0  {\"cutoff\": \"quantile_0.1\", \"eval_fairness_grou...       203.67702   \n",
       "0  {\"cutoff\": \"quantile_0.1\", \"eval_fairness_grou...       203.67702   \n",
       "0  {\"cutoff\": \"quantile_0.25\", \"eval_fairness_gro...       203.67702   \n",
       "0  {\"cutoff\": \"quantile_0.25\", \"eval_fairness_gro...       203.67702   \n",
       "\n",
       "   test_size_n  test_size_frac  fair_main_equalized_odds_difference  \\\n",
       "0        89710             1.0                             0.096814   \n",
       "0        89710             1.0                             0.096814   \n",
       "0        89710             1.0                             0.207400   \n",
       "0        89710             1.0                             0.207400   \n",
       "\n",
       "   fair_main_equalized_odds_ratio  fair_main_demographic_parity_difference  \\\n",
       "0                        0.899537                                 0.086000   \n",
       "0                        0.899537                                 0.086000   \n",
       "0                        0.765953                                 0.185015   \n",
       "0                        0.765953                                 0.185015   \n",
       "\n",
       "   fair_main_demographic_parity_ratio  ...  perf_grp_precision_0  \\\n",
       "0                            0.911001  ...                   NaN   \n",
       "0                            0.911001  ...              0.117694   \n",
       "0                            0.792735  ...                   NaN   \n",
       "0                            0.792735  ...              0.121734   \n",
       "\n",
       "   perf_grp_precision_1  perf_grp_false positive rate_0  \\\n",
       "0                   NaN                             NaN   \n",
       "0              0.145391                        0.963680   \n",
       "0                   NaN                             NaN   \n",
       "0              0.167569                        0.886144   \n",
       "\n",
       "   perf_grp_false positive rate_1  perf_grp_false negative rate_0  \\\n",
       "0                             NaN                             NaN   \n",
       "0                        0.866867                        0.013514   \n",
       "0                             NaN                             NaN   \n",
       "0                        0.678744                        0.057432   \n",
       "\n",
       "   perf_grp_false negative rate_1  perf_grp_selection rate_0  \\\n",
       "0                             NaN                        NaN   \n",
       "0                        0.031400                   0.966310   \n",
       "0                             NaN                        NaN   \n",
       "0                        0.102626                   0.892648   \n",
       "\n",
       "   perf_grp_selection rate_1  perf_grp_count_0  perf_grp_count_1  \n",
       "0                        NaN               NaN               NaN  \n",
       "0                   0.880309           20540.0           69170.0  \n",
       "0                        NaN               NaN               NaN  \n",
       "0                   0.707633           20540.0           69170.0  \n",
       "\n",
       "[4 rows x 50 columns]"
      ]
     },
     "execution_count": 79,
     "metadata": {},
     "output_type": "execute_result"
    }
   ],
   "source": [
    "final_output = universe_analysis.generate_final_output(\n",
    "    y_pred_prob=probs_test,\n",
    "    y_test=y_true,\n",
    "    org_test=org_test,\n",
    "    filter_data=filter_sub_universe_data,\n",
    "    cp_metrics_df=cp_metrics_df,\n",
    "    save=True,\n",
    ")\n",
    "final_output"
   ]
  },
  {
   "cell_type": "code",
   "execution_count": null,
   "id": "721ff514-cb11-46f8-b6fc-50392f74b5cb",
   "metadata": {
    "papermill": {
     "duration": 0.015149,
     "end_time": "2025-07-30T20:04:46.872343",
     "exception": false,
     "start_time": "2025-07-30T20:04:46.857194",
     "status": "completed"
    },
    "tags": []
   },
   "outputs": [],
   "source": []
  }
 ],
 "metadata": {
  "celltoolbar": "Tags",
  "kernelspec": {
   "display_name": "Python (CMA Fairness)",
   "language": "python",
   "name": "cma_fair_env"
  },
  "language_info": {
   "codemirror_mode": {
    "name": "ipython",
    "version": 3
   },
   "file_extension": ".py",
   "mimetype": "text/x-python",
   "name": "python",
   "nbconvert_exporter": "python",
   "pygments_lexer": "ipython3",
   "version": "3.10.12"
  },
  "papermill": {
   "default_parameters": {},
   "duration": 212.80498,
   "end_time": "2025-07-30T20:04:47.404065",
   "environment_variables": {},
   "exception": null,
   "input_path": "universe_analysis.ipynb",
   "output_path": "output/runs/14/notebooks/m_14-c70da768bffcfbe1b789bd6073e34669.ipynb",
   "parameters": {
    "output_dir": "output",
    "run_no": "14",
    "seed": "2023",
    "universe": "{\"cutoff\": [\"quantile_0.1\", \"quantile_0.25\"], \"eval_fairness_grouping\": [\"majority-minority\", \"nationality-all\"], \"exclude_features\": \"none\", \"exclude_subgroups\": \"keep-all\", \"model\": \"elasticnet\", \"scale\": \"do-not-scale\", \"training_size\": \"25k\", \"training_year\": \"2014\"}",
    "universe_id": "c70da768bffcfbe1b789bd6073e34669"
   },
   "start_time": "2025-07-30T20:01:14.599085",
   "version": "2.6.0"
  }
 },
 "nbformat": 4,
 "nbformat_minor": 5
}