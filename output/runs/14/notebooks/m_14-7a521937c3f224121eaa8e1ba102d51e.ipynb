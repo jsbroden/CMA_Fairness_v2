{
 "cells": [
  {
   "cell_type": "code",
   "execution_count": 1,
   "id": "f159f837-637b-42ba-96b5-ec9a68c44524",
   "metadata": {
    "execution": {
     "iopub.execute_input": "2025-07-30T20:58:57.393434Z",
     "iopub.status.busy": "2025-07-30T20:58:57.392516Z",
     "iopub.status.idle": "2025-07-30T20:58:57.408666Z",
     "shell.execute_reply": "2025-07-30T20:58:57.406457Z"
    },
    "papermill": {
     "duration": 0.048423,
     "end_time": "2025-07-30T20:58:57.410855",
     "exception": false,
     "start_time": "2025-07-30T20:58:57.362432",
     "status": "completed"
    },
    "tags": []
   },
   "outputs": [
    {
     "name": "stdout",
     "output_type": "stream",
     "text": [
      "/dss/dsshome1/0C/ra93lal2/cma/CMA_Fairness_v2\n"
     ]
    },
    {
     "name": "stderr",
     "output_type": "stream",
     "text": [
      "/dss/dsshome1/0C/ra93lal2/.local/share/virtualenvs/CMA_Fairness_v2-3j10GkSs/lib/python3.10/site-packages/IPython/core/magics/osm.py:393: UserWarning: This is now an optional IPython functionality, using bookmarks requires you to install the `pickleshare` library.\n",
      "  bkms = self.shell.db.get('bookmarks', {})\n",
      "/dss/dsshome1/0C/ra93lal2/.local/share/virtualenvs/CMA_Fairness_v2-3j10GkSs/lib/python3.10/site-packages/IPython/core/magics/osm.py:417: UserWarning: This is now an optional IPython functionality, setting dhist requires you to install the `pickleshare` library.\n",
      "  self.shell.db['dhist'] = compress_dhist(dhist)[-100:]\n"
     ]
    }
   ],
   "source": [
    "%cd ~/cma/CMA_Fairness_v2"
   ]
  },
  {
   "cell_type": "markdown",
   "id": "de2603b9",
   "metadata": {
    "papermill": {
     "duration": 0.018571,
     "end_time": "2025-07-30T20:58:57.449697",
     "exception": false,
     "start_time": "2025-07-30T20:58:57.431126",
     "status": "completed"
    },
    "tags": []
   },
   "source": [
    "The following cell holds the definition of our parameters, these values can be overriden by rendering the with e.g. the following command:\n",
    "\n",
    "papermill -p alpha 0.2 -p ratio 0.3 universe_analysis.ipynb output/test_run.ipynb"
   ]
  },
  {
   "cell_type": "code",
   "execution_count": 2,
   "id": "a80968a0-40bb-4fa9-85ef-2d5eefb01975",
   "metadata": {
    "execution": {
     "iopub.execute_input": "2025-07-30T20:58:57.489616Z",
     "iopub.status.busy": "2025-07-30T20:58:57.488532Z",
     "iopub.status.idle": "2025-07-30T20:58:57.495021Z",
     "shell.execute_reply": "2025-07-30T20:58:57.494005Z"
    },
    "papermill": {
     "duration": 0.028333,
     "end_time": "2025-07-30T20:58:57.496610",
     "exception": false,
     "start_time": "2025-07-30T20:58:57.468277",
     "status": "completed"
    },
    "tags": []
   },
   "outputs": [
    {
     "name": "stdout",
     "output_type": "stream",
     "text": [
      "Current working directory: /dss/dsshome1/0C/ra93lal2/cma/CMA_Fairness_v2\n"
     ]
    }
   ],
   "source": [
    "import os\n",
    "print(\"Current working directory:\", os.getcwd())"
   ]
  },
  {
   "cell_type": "code",
   "execution_count": 3,
   "id": "2dce4c03",
   "metadata": {
    "execution": {
     "iopub.execute_input": "2025-07-30T20:58:57.536596Z",
     "iopub.status.busy": "2025-07-30T20:58:57.536213Z",
     "iopub.status.idle": "2025-07-30T20:58:57.542392Z",
     "shell.execute_reply": "2025-07-30T20:58:57.541445Z"
    },
    "papermill": {
     "duration": 0.028303,
     "end_time": "2025-07-30T20:58:57.543953",
     "exception": false,
     "start_time": "2025-07-30T20:58:57.515650",
     "status": "completed"
    },
    "tags": [
     "parameters"
    ]
   },
   "outputs": [],
   "source": [
    "run_no = 0\n",
    "universe_id = \"test\"\n",
    "universe = {\n",
    "    \"training_size\": \"25k\", # \"25k\", \"5k\", \"1k\"\n",
    "    \"training_year\": \"2014\", # \"2014\", \"2012_14\", \"2010_14\"\n",
    "    \"scale\": \"scale\", # \"scale\", \"do-not-scale\",\n",
    "    #\"stratify_split\": \"target\", # \"none\", \"target\", \"protected-attribute\", \"both\",\n",
    "    \"model\": \"elasticnet\", # \"logreg\", \"penalized_logreg\", \"rf\", \"gbm\", \"elasticnet\"\n",
    "    \"cutoff\": [\"quantile_0.15\", \"quantile_0.30\"],\n",
    "    \"exclude_features\": \"age\", # \"none\", \"nationality\", \"sex\", \"nationality-sex\", \"age\"\n",
    "    \"exclude_subgroups\": \"keep-all\", # \"keep-all\", \"drop-non-german\"\n",
    "    \"eval_fairness_grouping\": [\"majority-minority\", \"nationality-all\"]\n",
    "}\n",
    "\n",
    "output_dir=\"./output\"\n",
    "seed=0"
   ]
  },
  {
   "cell_type": "code",
   "execution_count": 4,
   "id": "664e1a6e",
   "metadata": {
    "execution": {
     "iopub.execute_input": "2025-07-30T20:58:57.582581Z",
     "iopub.status.busy": "2025-07-30T20:58:57.582080Z",
     "iopub.status.idle": "2025-07-30T20:58:57.586459Z",
     "shell.execute_reply": "2025-07-30T20:58:57.585791Z"
    },
    "papermill": {
     "duration": 0.032123,
     "end_time": "2025-07-30T20:58:57.594358",
     "exception": false,
     "start_time": "2025-07-30T20:58:57.562235",
     "status": "completed"
    },
    "tags": [
     "injected-parameters"
    ]
   },
   "outputs": [],
   "source": [
    "# Parameters\n",
    "universe_id = \"7a521937c3f224121eaa8e1ba102d51e\"\n",
    "run_no = \"14\"\n",
    "universe = \"{\\\"cutoff\\\": [\\\"quantile_0.1\\\", \\\"quantile_0.25\\\"], \\\"eval_fairness_grouping\\\": [\\\"majority-minority\\\", \\\"nationality-all\\\"], \\\"exclude_features\\\": \\\"age\\\", \\\"exclude_subgroups\\\": \\\"keep-all\\\", \\\"model\\\": \\\"penalized_logreg\\\", \\\"scale\\\": \\\"scale\\\", \\\"training_size\\\": \\\"5k\\\", \\\"training_year\\\": \\\"2012_14\\\"}\"\n",
    "output_dir = \"output\"\n",
    "seed = \"2023\"\n"
   ]
  },
  {
   "cell_type": "code",
   "execution_count": 5,
   "id": "1650acaf",
   "metadata": {
    "execution": {
     "iopub.execute_input": "2025-07-30T20:58:57.634894Z",
     "iopub.status.busy": "2025-07-30T20:58:57.634516Z",
     "iopub.status.idle": "2025-07-30T20:58:57.640181Z",
     "shell.execute_reply": "2025-07-30T20:58:57.638230Z"
    },
    "papermill": {
     "duration": 0.028582,
     "end_time": "2025-07-30T20:58:57.641934",
     "exception": false,
     "start_time": "2025-07-30T20:58:57.613352",
     "status": "completed"
    },
    "tags": []
   },
   "outputs": [],
   "source": [
    "import json\n",
    "# Parse universe into dict if it is passed as a string\n",
    "if isinstance(universe, str):\n",
    "    universe = json.loads(universe)"
   ]
  },
  {
   "cell_type": "code",
   "execution_count": 6,
   "id": "16620c48",
   "metadata": {
    "execution": {
     "iopub.execute_input": "2025-07-30T20:58:57.685416Z",
     "iopub.status.busy": "2025-07-30T20:58:57.685055Z",
     "iopub.status.idle": "2025-07-30T20:58:57.732713Z",
     "shell.execute_reply": "2025-07-30T20:58:57.731657Z"
    },
    "papermill": {
     "duration": 0.071947,
     "end_time": "2025-07-30T20:58:57.734690",
     "exception": false,
     "start_time": "2025-07-30T20:58:57.662743",
     "status": "completed"
    },
    "tags": []
   },
   "outputs": [],
   "source": [
    "# Auto-reload the custom package\n",
    "%load_ext autoreload\n",
    "%autoreload 1\n",
    "%aimport fairness_multiverse"
   ]
  },
  {
   "cell_type": "code",
   "execution_count": 7,
   "id": "01c5c9f3",
   "metadata": {
    "execution": {
     "iopub.execute_input": "2025-07-30T20:58:57.780042Z",
     "iopub.status.busy": "2025-07-30T20:58:57.779211Z",
     "iopub.status.idle": "2025-07-30T20:58:59.839572Z",
     "shell.execute_reply": "2025-07-30T20:58:59.838616Z"
    },
    "papermill": {
     "duration": 2.08474,
     "end_time": "2025-07-30T20:58:59.841421",
     "exception": false,
     "start_time": "2025-07-30T20:58:57.756681",
     "status": "completed"
    },
    "tags": []
   },
   "outputs": [],
   "source": [
    "from fairness_multiverse.universe import UniverseAnalysis\n",
    "\n",
    "universe_analysis = UniverseAnalysis(\n",
    "    run_no = run_no,\n",
    "    universe_id = universe_id,\n",
    "    universe = universe,\n",
    "    output_dir=output_dir,\n",
    ")"
   ]
  },
  {
   "cell_type": "code",
   "execution_count": 8,
   "id": "106241f5",
   "metadata": {
    "execution": {
     "iopub.execute_input": "2025-07-30T20:58:59.883594Z",
     "iopub.status.busy": "2025-07-30T20:58:59.883087Z",
     "iopub.status.idle": "2025-07-30T20:58:59.890116Z",
     "shell.execute_reply": "2025-07-30T20:58:59.889078Z"
    },
    "papermill": {
     "duration": 0.029512,
     "end_time": "2025-07-30T20:58:59.891834",
     "exception": false,
     "start_time": "2025-07-30T20:58:59.862322",
     "status": "completed"
    },
    "tags": []
   },
   "outputs": [
    {
     "name": "stdout",
     "output_type": "stream",
     "text": [
      "Using Seed: 2023\n"
     ]
    }
   ],
   "source": [
    "import numpy as np\n",
    "parsed_seed = int(seed)\n",
    "np.random.seed(parsed_seed)\n",
    "print(f\"Using Seed: {parsed_seed}\")"
   ]
  },
  {
   "cell_type": "markdown",
   "id": "e0ebdc57",
   "metadata": {
    "papermill": {
     "duration": 0.010853,
     "end_time": "2025-07-30T20:58:59.917418",
     "exception": false,
     "start_time": "2025-07-30T20:58:59.906565",
     "status": "completed"
    },
    "tags": []
   },
   "source": [
    "# Loading Data"
   ]
  },
  {
   "cell_type": "markdown",
   "id": "681925a3",
   "metadata": {
    "papermill": {
     "duration": 0.01046,
     "end_time": "2025-07-30T20:58:59.939635",
     "exception": false,
     "start_time": "2025-07-30T20:58:59.929175",
     "status": "completed"
    },
    "tags": []
   },
   "source": [
    "Load siab_train, siab_test, siab_calib and/or \n",
    "load siab_train_features, siab_train_labels"
   ]
  },
  {
   "cell_type": "code",
   "execution_count": 9,
   "id": "f0496b8a",
   "metadata": {
    "execution": {
     "iopub.execute_input": "2025-07-30T20:58:59.970521Z",
     "iopub.status.busy": "2025-07-30T20:58:59.969713Z",
     "iopub.status.idle": "2025-07-30T20:59:10.693630Z",
     "shell.execute_reply": "2025-07-30T20:59:10.692383Z"
    },
    "papermill": {
     "duration": 10.74539,
     "end_time": "2025-07-30T20:59:10.695251",
     "exception": false,
     "start_time": "2025-07-30T20:58:59.949861",
     "status": "completed"
    },
    "tags": []
   },
   "outputs": [
    {
     "name": "stdout",
     "output_type": "stream",
     "text": [
      "Loading SIAB data from cache: data/siab_cached.csv.gz\n"
     ]
    },
    {
     "name": "stdout",
     "output_type": "stream",
     "text": [
      "(643690, 164)\n"
     ]
    }
   ],
   "source": [
    "from pathlib import Path\n",
    "import pandas as pd\n",
    "\n",
    "# File paths\n",
    "raw_file = Path(\"data/raw/siab.csv\")\n",
    "cache_file = Path(\"data/siab_cached.csv.gz\")\n",
    "\n",
    "# Ensure cache directory exists\n",
    "cache_file.parent.mkdir(parents=True, exist_ok=True)\n",
    "\n",
    "# Load with simple caching\n",
    "if cache_file.exists():\n",
    "    print(f\"Loading SIAB data from cache: {cache_file}\")\n",
    "    siab = pd.read_csv(cache_file, compression='gzip')\n",
    "else:\n",
    "    print(f\"Cache not found. Reading raw SIAB data: {raw_file}\")\n",
    "    siab = pd.read_csv(raw_file)\n",
    "    siab.to_csv(cache_file, index=False, compression='gzip')\n",
    "    print(f\"Cached SIAB data to: {cache_file}\")\n",
    "\n",
    "# Now use `siab` DataFrame as needed\n",
    "print(siab.shape)"
   ]
  },
  {
   "cell_type": "code",
   "execution_count": 10,
   "id": "db0ca512-5f53-4dba-abdb-a2888bca41ba",
   "metadata": {
    "execution": {
     "iopub.execute_input": "2025-07-30T20:59:10.741336Z",
     "iopub.status.busy": "2025-07-30T20:59:10.740823Z",
     "iopub.status.idle": "2025-07-30T20:59:10.746489Z",
     "shell.execute_reply": "2025-07-30T20:59:10.745652Z"
    },
    "papermill": {
     "duration": 0.029346,
     "end_time": "2025-07-30T20:59:10.748214",
     "exception": false,
     "start_time": "2025-07-30T20:59:10.718868",
     "status": "completed"
    },
    "tags": []
   },
   "outputs": [],
   "source": [
    "#siab"
   ]
  },
  {
   "cell_type": "code",
   "execution_count": 11,
   "id": "a0edb063",
   "metadata": {
    "execution": {
     "iopub.execute_input": "2025-07-30T20:59:10.791154Z",
     "iopub.status.busy": "2025-07-30T20:59:10.790253Z",
     "iopub.status.idle": "2025-07-30T20:59:10.795530Z",
     "shell.execute_reply": "2025-07-30T20:59:10.794565Z"
    },
    "papermill": {
     "duration": 0.028256,
     "end_time": "2025-07-30T20:59:10.797128",
     "exception": false,
     "start_time": "2025-07-30T20:59:10.768872",
     "status": "completed"
    },
    "tags": []
   },
   "outputs": [],
   "source": [
    "#import pandas as pd\n",
    "#\n",
    "#X_train = pd.read_csv(\"./data/X_train.csv\")\n",
    "#y_train = pd.read_csv(\"./data/y_train.csv\")"
   ]
  },
  {
   "cell_type": "code",
   "execution_count": 12,
   "id": "63d08085",
   "metadata": {
    "execution": {
     "iopub.execute_input": "2025-07-30T20:59:10.839878Z",
     "iopub.status.busy": "2025-07-30T20:59:10.839405Z",
     "iopub.status.idle": "2025-07-30T20:59:10.844226Z",
     "shell.execute_reply": "2025-07-30T20:59:10.843286Z"
    },
    "papermill": {
     "duration": 0.027279,
     "end_time": "2025-07-30T20:59:10.845966",
     "exception": false,
     "start_time": "2025-07-30T20:59:10.818687",
     "status": "completed"
    },
    "tags": []
   },
   "outputs": [],
   "source": [
    "#X_test = pd.read_csv(\"./data/X_test.csv\")\n",
    "#y_true = pd.read_csv(\"./data/y_test.csv\")"
   ]
  },
  {
   "cell_type": "code",
   "execution_count": 13,
   "id": "98a8d0fa-1d3d-4ed8-bb2c-281470e24add",
   "metadata": {
    "execution": {
     "iopub.execute_input": "2025-07-30T20:59:10.888657Z",
     "iopub.status.busy": "2025-07-30T20:59:10.888162Z",
     "iopub.status.idle": "2025-07-30T20:59:10.893236Z",
     "shell.execute_reply": "2025-07-30T20:59:10.892244Z"
    },
    "papermill": {
     "duration": 0.027641,
     "end_time": "2025-07-30T20:59:10.894720",
     "exception": false,
     "start_time": "2025-07-30T20:59:10.867079",
     "status": "completed"
    },
    "tags": []
   },
   "outputs": [],
   "source": [
    "# Calibration data for conformal\n",
    "#X_calib = pd.read_csv(\"./data/X_calib.csv\")\n",
    "#y_calib = pd.read_csv(\"./data/y_calib.csv\")"
   ]
  },
  {
   "cell_type": "markdown",
   "id": "997051c5-15bd-4b69-9786-c3001a3ce484",
   "metadata": {
    "papermill": {
     "duration": 0.021943,
     "end_time": "2025-07-30T20:59:10.938068",
     "exception": false,
     "start_time": "2025-07-30T20:59:10.916125",
     "status": "completed"
    },
    "tags": []
   },
   "source": [
    "# Splitting Data and Setting Training Data Size"
   ]
  },
  {
   "cell_type": "code",
   "execution_count": 14,
   "id": "e993b61f-042d-41a6-8c81-f55681f86335",
   "metadata": {
    "execution": {
     "iopub.execute_input": "2025-07-30T20:59:10.980618Z",
     "iopub.status.busy": "2025-07-30T20:59:10.979661Z",
     "iopub.status.idle": "2025-07-30T20:59:10.992914Z",
     "shell.execute_reply": "2025-07-30T20:59:10.992068Z"
    },
    "papermill": {
     "duration": 0.036171,
     "end_time": "2025-07-30T20:59:10.994481",
     "exception": false,
     "start_time": "2025-07-30T20:59:10.958310",
     "status": "completed"
    },
    "tags": []
   },
   "outputs": [],
   "source": [
    "def sample_by_year_size(df,\n",
    "                        training_year: str,\n",
    "                        training_size: str,\n",
    "                        random_state: int = 42):\n",
    "    # --- parse training_year into a list of int years ---\n",
    "    if \"_\" in training_year:\n",
    "        start_str, end_str = training_year.split(\"_\", 1)\n",
    "        start = int(start_str)\n",
    "        end   = int(end_str) if len(end_str) == 4 else (int(end_str) + (start // 100)*100)\n",
    "        years = list(range(start, end + 1))\n",
    "    else:\n",
    "        years = [int(training_year)]\n",
    "\n",
    "    df = df[df[\"year\"].isin(years)].reset_index(drop=True)\n",
    "\n",
    "    # --- map training_size to total number of samples ---\n",
    "    total_map = {\"25k\": 25_000, \"5k\": 5_000, \"1k\": 1_000}\n",
    "    if training_size not in total_map:\n",
    "        return df  # e.g. \"all\"\n",
    "\n",
    "    total_samples = total_map[training_size]\n",
    "    n_years       = len(years)\n",
    "    base          = total_samples // n_years\n",
    "    remainder     = total_samples % n_years\n",
    "\n",
    "    # --- build a dict: year -> how many to sample ---\n",
    "    # give +1 to the first `remainder` years in ascending order\n",
    "    quotas = {\n",
    "        year: base + (1 if idx < remainder else 0)\n",
    "        for idx, year in enumerate(sorted(years))\n",
    "    }\n",
    "\n",
    "    # --- sample per‐year according to the quota dict ---\n",
    "    sampled = (\n",
    "        df\n",
    "        .groupby(\"year\", group_keys=False)\n",
    "        .apply(lambda grp: grp.sample(\n",
    "            n=min(len(grp), quotas[grp.name]),\n",
    "            random_state=random_state))\n",
    "        .reset_index(drop=True)\n",
    "    )\n",
    "\n",
    "    return sampled"
   ]
  },
  {
   "cell_type": "code",
   "execution_count": 15,
   "id": "c0ccd338-0e02-41f3-a09d-f56f9266e3fb",
   "metadata": {
    "execution": {
     "iopub.execute_input": "2025-07-30T20:59:11.037976Z",
     "iopub.status.busy": "2025-07-30T20:59:11.037098Z",
     "iopub.status.idle": "2025-07-30T20:59:11.042438Z",
     "shell.execute_reply": "2025-07-30T20:59:11.041538Z"
    },
    "papermill": {
     "duration": 0.027979,
     "end_time": "2025-07-30T20:59:11.044269",
     "exception": false,
     "start_time": "2025-07-30T20:59:11.016290",
     "status": "completed"
    },
    "tags": []
   },
   "outputs": [],
   "source": [
    "#universe[\"training_size\"]"
   ]
  },
  {
   "cell_type": "code",
   "execution_count": 16,
   "id": "ca707fd7-8047-4acd-bfa5-66248fbbf8e6",
   "metadata": {
    "execution": {
     "iopub.execute_input": "2025-07-30T20:59:11.088256Z",
     "iopub.status.busy": "2025-07-30T20:59:11.087770Z",
     "iopub.status.idle": "2025-07-30T20:59:11.092883Z",
     "shell.execute_reply": "2025-07-30T20:59:11.092056Z"
    },
    "papermill": {
     "duration": 0.028674,
     "end_time": "2025-07-30T20:59:11.094442",
     "exception": false,
     "start_time": "2025-07-30T20:59:11.065768",
     "status": "completed"
    },
    "tags": []
   },
   "outputs": [],
   "source": [
    "#universe[\"training_year\"]"
   ]
  },
  {
   "cell_type": "code",
   "execution_count": 17,
   "id": "aea9c6ef-6f46-42c8-85eb-5a62025c1508",
   "metadata": {
    "execution": {
     "iopub.execute_input": "2025-07-30T20:59:11.139707Z",
     "iopub.status.busy": "2025-07-30T20:59:11.139057Z",
     "iopub.status.idle": "2025-07-30T20:59:11.712257Z",
     "shell.execute_reply": "2025-07-30T20:59:11.711285Z"
    },
    "papermill": {
     "duration": 0.597707,
     "end_time": "2025-07-30T20:59:11.714134",
     "exception": false,
     "start_time": "2025-07-30T20:59:11.116427",
     "status": "completed"
    },
    "tags": []
   },
   "outputs": [],
   "source": [
    "siab_train = sample_by_year_size(siab,\n",
    "                               training_year=universe[\"training_year\"],\n",
    "                               training_size=universe[\"training_size\"])"
   ]
  },
  {
   "cell_type": "code",
   "execution_count": 18,
   "id": "8d3afb32-789d-442c-8d5d-9f5aa8dd2eed",
   "metadata": {
    "execution": {
     "iopub.execute_input": "2025-07-30T20:59:11.756976Z",
     "iopub.status.busy": "2025-07-30T20:59:11.756306Z",
     "iopub.status.idle": "2025-07-30T20:59:11.761585Z",
     "shell.execute_reply": "2025-07-30T20:59:11.760493Z"
    },
    "papermill": {
     "duration": 0.028389,
     "end_time": "2025-07-30T20:59:11.763085",
     "exception": false,
     "start_time": "2025-07-30T20:59:11.734696",
     "status": "completed"
    },
    "tags": []
   },
   "outputs": [],
   "source": [
    "#siab_train.shape"
   ]
  },
  {
   "cell_type": "code",
   "execution_count": 19,
   "id": "d582db68-1a4c-47fb-84fc-08518dc1975a",
   "metadata": {
    "execution": {
     "iopub.execute_input": "2025-07-30T20:59:11.804875Z",
     "iopub.status.busy": "2025-07-30T20:59:11.804056Z",
     "iopub.status.idle": "2025-07-30T20:59:11.810303Z",
     "shell.execute_reply": "2025-07-30T20:59:11.809218Z"
    },
    "papermill": {
     "duration": 0.028796,
     "end_time": "2025-07-30T20:59:11.811970",
     "exception": false,
     "start_time": "2025-07-30T20:59:11.783174",
     "status": "completed"
    },
    "tags": []
   },
   "outputs": [],
   "source": [
    "#display(siab_train.groupby(\"year\").size())"
   ]
  },
  {
   "cell_type": "code",
   "execution_count": 20,
   "id": "a561edb4-d032-42cb-8256-22eac1111c64",
   "metadata": {
    "execution": {
     "iopub.execute_input": "2025-07-30T20:59:11.856908Z",
     "iopub.status.busy": "2025-07-30T20:59:11.856196Z",
     "iopub.status.idle": "2025-07-30T20:59:12.072655Z",
     "shell.execute_reply": "2025-07-30T20:59:12.071527Z"
    },
    "papermill": {
     "duration": 0.23986,
     "end_time": "2025-07-30T20:59:12.074500",
     "exception": false,
     "start_time": "2025-07-30T20:59:11.834640",
     "status": "completed"
    },
    "tags": []
   },
   "outputs": [],
   "source": [
    "#siab_train = siab_s[siab_s.year < 2015]\n",
    "siab_calib = siab[siab.year == 2015]\n",
    "siab_test = siab[siab.year == 2016]"
   ]
  },
  {
   "cell_type": "code",
   "execution_count": 21,
   "id": "472de16f-c3db-4916-846b-1f0de9cf1746",
   "metadata": {
    "execution": {
     "iopub.execute_input": "2025-07-30T20:59:12.116947Z",
     "iopub.status.busy": "2025-07-30T20:59:12.116082Z",
     "iopub.status.idle": "2025-07-30T20:59:12.124723Z",
     "shell.execute_reply": "2025-07-30T20:59:12.123573Z"
    },
    "papermill": {
     "duration": 0.030943,
     "end_time": "2025-07-30T20:59:12.126301",
     "exception": false,
     "start_time": "2025-07-30T20:59:12.095358",
     "status": "completed"
    },
    "tags": []
   },
   "outputs": [],
   "source": [
    "X_train = siab_train.iloc[:,4:164]\n",
    "y_train = siab_train.iloc[:, [3]]"
   ]
  },
  {
   "cell_type": "code",
   "execution_count": 22,
   "id": "828c96af-f43a-4ed6-ba47-8ac73a47d56c",
   "metadata": {
    "execution": {
     "iopub.execute_input": "2025-07-30T20:59:12.170317Z",
     "iopub.status.busy": "2025-07-30T20:59:12.169667Z",
     "iopub.status.idle": "2025-07-30T20:59:12.223728Z",
     "shell.execute_reply": "2025-07-30T20:59:12.222738Z"
    },
    "papermill": {
     "duration": 0.07798,
     "end_time": "2025-07-30T20:59:12.225367",
     "exception": false,
     "start_time": "2025-07-30T20:59:12.147387",
     "status": "completed"
    },
    "tags": []
   },
   "outputs": [],
   "source": [
    "X_calib = siab_calib.iloc[:,4:164]\n",
    "y_calib = siab_calib.iloc[:, [3]]"
   ]
  },
  {
   "cell_type": "code",
   "execution_count": 23,
   "id": "c34be9c3-6bd6-476e-acd3-845840e303be",
   "metadata": {
    "execution": {
     "iopub.execute_input": "2025-07-30T20:59:12.270035Z",
     "iopub.status.busy": "2025-07-30T20:59:12.269353Z",
     "iopub.status.idle": "2025-07-30T20:59:12.320745Z",
     "shell.execute_reply": "2025-07-30T20:59:12.319517Z"
    },
    "papermill": {
     "duration": 0.076031,
     "end_time": "2025-07-30T20:59:12.322933",
     "exception": false,
     "start_time": "2025-07-30T20:59:12.246902",
     "status": "completed"
    },
    "tags": []
   },
   "outputs": [],
   "source": [
    "X_test = siab_test.iloc[:,4:164]\n",
    "y_true = siab_test.iloc[:, [3]]"
   ]
  },
  {
   "cell_type": "markdown",
   "id": "9901737e-04df-44f0-9100-f5ad144ed040",
   "metadata": {
    "papermill": {
     "duration": 0.020923,
     "end_time": "2025-07-30T20:59:12.366461",
     "exception": false,
     "start_time": "2025-07-30T20:59:12.345538",
     "status": "completed"
    },
    "tags": []
   },
   "source": [
    "# Splitting Data and Setting Training Data Size OLD VERSION"
   ]
  },
  {
   "cell_type": "code",
   "execution_count": 24,
   "id": "acbc8f7d-8fc8-4e86-8c59-5dcb0f58384b",
   "metadata": {
    "execution": {
     "iopub.execute_input": "2025-07-30T20:59:12.412663Z",
     "iopub.status.busy": "2025-07-30T20:59:12.411986Z",
     "iopub.status.idle": "2025-07-30T20:59:12.418032Z",
     "shell.execute_reply": "2025-07-30T20:59:12.417153Z"
    },
    "papermill": {
     "duration": 0.030777,
     "end_time": "2025-07-30T20:59:12.419541",
     "exception": false,
     "start_time": "2025-07-30T20:59:12.388764",
     "status": "completed"
    },
    "tags": []
   },
   "outputs": [],
   "source": [
    "#def sample_by_year(df, training_size, random_state=42):\n",
    "#    if training_size == \"2014\":\n",
    "#        return df[df[\"year\"] == 2014].reset_index(drop=True)\n",
    "#    \n",
    "#    size_map = {\n",
    "#        \"25k\": 5000,\n",
    "#        \"5k\": 1000,\n",
    "#        \"1k\": 200\n",
    "#    }\n",
    "#\n",
    "#    if training_size not in size_map:\n",
    "#        return df.reset_index(drop=True)  # use all data\n",
    "#\n",
    "#    n_per_year = size_map[training_size]\n",
    "#    grouped = df.groupby(\"year\")\n",
    "#    sampled = grouped.apply(lambda x: x.sample(n=min(n_per_year, len(x)), random_state=random_state))\n",
    "#    return sampled.reset_index(drop=True)"
   ]
  },
  {
   "cell_type": "code",
   "execution_count": 25,
   "id": "6d931f52-beaf-43ff-9e78-9d44a448d54e",
   "metadata": {
    "execution": {
     "iopub.execute_input": "2025-07-30T20:59:12.461669Z",
     "iopub.status.busy": "2025-07-30T20:59:12.460987Z",
     "iopub.status.idle": "2025-07-30T20:59:12.466529Z",
     "shell.execute_reply": "2025-07-30T20:59:12.465522Z"
    },
    "papermill": {
     "duration": 0.028542,
     "end_time": "2025-07-30T20:59:12.468248",
     "exception": false,
     "start_time": "2025-07-30T20:59:12.439706",
     "status": "completed"
    },
    "tags": []
   },
   "outputs": [],
   "source": [
    "#siab_s = sample_by_year(siab, universe[\"training_size\"])"
   ]
  },
  {
   "cell_type": "code",
   "execution_count": 26,
   "id": "5db0a40e-a4e2-4920-be85-b12ae061d70d",
   "metadata": {
    "execution": {
     "iopub.execute_input": "2025-07-30T20:59:12.510894Z",
     "iopub.status.busy": "2025-07-30T20:59:12.510260Z",
     "iopub.status.idle": "2025-07-30T20:59:12.515485Z",
     "shell.execute_reply": "2025-07-30T20:59:12.514555Z"
    },
    "papermill": {
     "duration": 0.028364,
     "end_time": "2025-07-30T20:59:12.517140",
     "exception": false,
     "start_time": "2025-07-30T20:59:12.488776",
     "status": "completed"
    },
    "tags": []
   },
   "outputs": [],
   "source": [
    "#display(siab_s.groupby(\"year\").size())"
   ]
  },
  {
   "cell_type": "code",
   "execution_count": 27,
   "id": "e6c733c5",
   "metadata": {
    "execution": {
     "iopub.execute_input": "2025-07-30T20:59:12.562686Z",
     "iopub.status.busy": "2025-07-30T20:59:12.562037Z",
     "iopub.status.idle": "2025-07-30T20:59:12.665180Z",
     "shell.execute_reply": "2025-07-30T20:59:12.664058Z"
    },
    "papermill": {
     "duration": 0.127761,
     "end_time": "2025-07-30T20:59:12.667140",
     "exception": false,
     "start_time": "2025-07-30T20:59:12.539379",
     "status": "completed"
    },
    "tags": []
   },
   "outputs": [],
   "source": [
    "# Auxiliary data needed downstream in the pipeline\n",
    "\n",
    "org_train = X_train.copy()\n",
    "org_test = X_test.copy()\n",
    "org_calib = X_calib.copy()"
   ]
  },
  {
   "cell_type": "code",
   "execution_count": 28,
   "id": "1466abac-c6da-4492-a62f-4240ae3783af",
   "metadata": {
    "execution": {
     "iopub.execute_input": "2025-07-30T20:59:12.710798Z",
     "iopub.status.busy": "2025-07-30T20:59:12.709986Z",
     "iopub.status.idle": "2025-07-30T20:59:12.716799Z",
     "shell.execute_reply": "2025-07-30T20:59:12.715795Z"
    },
    "papermill": {
     "duration": 0.030009,
     "end_time": "2025-07-30T20:59:12.718527",
     "exception": false,
     "start_time": "2025-07-30T20:59:12.688518",
     "status": "completed"
    },
    "tags": []
   },
   "outputs": [],
   "source": [
    "# put in other script?\n",
    "# Group sizes\n",
    "\n",
    "#def calculate_percentages(df, df_name):\n",
    "#    total_entries = len(df)\n",
    "#\n",
    "#    female_pct = (df['frau1'] == 1).mean() * 100\n",
    "#    non_german_pct = ((df['maxdeutsch1'] == 0) & (df['maxdeutsch.Missing.'] == 0)).mean() * 100\n",
    "#    non_german_male_pct = ((df['frau1'] == 0) & (df['maxdeutsch1'] == 0) & (df['maxdeutsch.Missing.'] == 0)).mean() * 100\n",
    "#    non_german_female_pct = ((df['frau1'] == 1) & (df['maxdeutsch1'] == 0) & (df['maxdeutsch.Missing.'] == 0)).mean() * 100\n",
    "#\n",
    "#    print(f\"--- {df_name} ---\")\n",
    "#    print(f\"Female: {female_pct:.2f}%\")\n",
    "#    print(f\"Non-German: {non_german_pct:.2f}%\")\n",
    "#    print(f\"Non-German Male: {non_german_male_pct:.2f}%\")\n",
    "#    print(f\"Non-German Female: {non_german_female_pct:.2f}%\\n\")\n",
    "#\n",
    "## Calculate for each DataFrame\n",
    "#calculate_percentages(siab_calib, \"siab_calib\")\n",
    "#calculate_percentages(siab_test, \"siab_test\")\n",
    "#calculate_percentages(siab_train, \"siab_train\")"
   ]
  },
  {
   "cell_type": "markdown",
   "id": "0a4a1b33",
   "metadata": {
    "papermill": {
     "duration": 0.020264,
     "end_time": "2025-07-30T20:59:12.760441",
     "exception": false,
     "start_time": "2025-07-30T20:59:12.740177",
     "status": "completed"
    },
    "tags": []
   },
   "source": [
    "# Preprocessing Data"
   ]
  },
  {
   "cell_type": "code",
   "execution_count": 29,
   "id": "ca879031",
   "metadata": {
    "execution": {
     "iopub.execute_input": "2025-07-30T20:59:12.803864Z",
     "iopub.status.busy": "2025-07-30T20:59:12.803102Z",
     "iopub.status.idle": "2025-07-30T20:59:12.810196Z",
     "shell.execute_reply": "2025-07-30T20:59:12.808946Z"
    },
    "papermill": {
     "duration": 0.030151,
     "end_time": "2025-07-30T20:59:12.811841",
     "exception": false,
     "start_time": "2025-07-30T20:59:12.781690",
     "status": "completed"
    },
    "tags": []
   },
   "outputs": [],
   "source": [
    "# EXCLUDE PROTECTED FEATURES\n",
    "# ----------------------\n",
    "# \"exclude_features\": \"none\", # \"nationality\", \"sex\", \"nationality-sex\"\n",
    "\n",
    "excluded_features = universe[\"exclude_features\"].split(\"-\") # split, e.g.: \"nationality-sex\" -> [\"nationality\", \"sex\"]\n",
    "excluded_features_dictionary = {\n",
    "    \"nationality\": [\"maxdeutsch1\", \"maxdeutsch.Missing.\"],\n",
    "    \"sex\": [\"frau1\"],\n",
    "    \"age\": [\"age\"],\n",
    "}\n"
   ]
  },
  {
   "cell_type": "code",
   "execution_count": 30,
   "id": "b745ac60",
   "metadata": {
    "execution": {
     "iopub.execute_input": "2025-07-30T20:59:12.856156Z",
     "iopub.status.busy": "2025-07-30T20:59:12.855400Z",
     "iopub.status.idle": "2025-07-30T20:59:12.861946Z",
     "shell.execute_reply": "2025-07-30T20:59:12.861013Z"
    },
    "papermill": {
     "duration": 0.029959,
     "end_time": "2025-07-30T20:59:12.863713",
     "exception": false,
     "start_time": "2025-07-30T20:59:12.833754",
     "status": "completed"
    },
    "tags": []
   },
   "outputs": [],
   "source": [
    "# Code nice names to column names\n",
    "\n",
    "excluded_features_columns = [\n",
    "    excluded_features_dictionary[f] for f in excluded_features if len(f) > 0 and f != \"none\"\n",
    "]"
   ]
  },
  {
   "cell_type": "code",
   "execution_count": 31,
   "id": "f84f73a2",
   "metadata": {
    "execution": {
     "iopub.execute_input": "2025-07-30T20:59:12.908319Z",
     "iopub.status.busy": "2025-07-30T20:59:12.907503Z",
     "iopub.status.idle": "2025-07-30T20:59:12.916106Z",
     "shell.execute_reply": "2025-07-30T20:59:12.914991Z"
    },
    "papermill": {
     "duration": 0.032606,
     "end_time": "2025-07-30T20:59:12.918339",
     "exception": false,
     "start_time": "2025-07-30T20:59:12.885733",
     "status": "completed"
    },
    "tags": []
   },
   "outputs": [],
   "source": [
    "from utils import flatten_once\n",
    "\n",
    "excluded_features_columns = flatten_once(excluded_features_columns)"
   ]
  },
  {
   "cell_type": "code",
   "execution_count": 32,
   "id": "884dea22",
   "metadata": {
    "execution": {
     "iopub.execute_input": "2025-07-30T20:59:12.964244Z",
     "iopub.status.busy": "2025-07-30T20:59:12.963675Z",
     "iopub.status.idle": "2025-07-30T20:59:12.973695Z",
     "shell.execute_reply": "2025-07-30T20:59:12.972661Z"
    },
    "papermill": {
     "duration": 0.034207,
     "end_time": "2025-07-30T20:59:12.975358",
     "exception": false,
     "start_time": "2025-07-30T20:59:12.941151",
     "status": "completed"
    },
    "tags": []
   },
   "outputs": [
    {
     "name": "stdout",
     "output_type": "stream",
     "text": [
      "Dropping features: ['age']\n"
     ]
    }
   ],
   "source": [
    "if len(excluded_features_columns) > 0:\n",
    "    print(f\"Dropping features: {excluded_features_columns}\")\n",
    "    X_train.drop(excluded_features_columns, axis=1, inplace=True)"
   ]
  },
  {
   "cell_type": "code",
   "execution_count": 33,
   "id": "95ab8b16",
   "metadata": {
    "execution": {
     "iopub.execute_input": "2025-07-30T20:59:13.021256Z",
     "iopub.status.busy": "2025-07-30T20:59:13.020439Z",
     "iopub.status.idle": "2025-07-30T20:59:13.082235Z",
     "shell.execute_reply": "2025-07-30T20:59:13.081154Z"
    },
    "papermill": {
     "duration": 0.086472,
     "end_time": "2025-07-30T20:59:13.084396",
     "exception": false,
     "start_time": "2025-07-30T20:59:12.997924",
     "status": "completed"
    },
    "tags": []
   },
   "outputs": [
    {
     "name": "stdout",
     "output_type": "stream",
     "text": [
      "Dropping features: ['age']\n"
     ]
    }
   ],
   "source": [
    "if len(excluded_features_columns) > 0:\n",
    "    print(f\"Dropping features: {excluded_features_columns}\")\n",
    "    X_test.drop(excluded_features_columns, axis=1, inplace=True)"
   ]
  },
  {
   "cell_type": "code",
   "execution_count": 34,
   "id": "1853aaf5-fb9f-46cb-a2b5-8ea4ae2237e4",
   "metadata": {
    "execution": {
     "iopub.execute_input": "2025-07-30T20:59:13.141236Z",
     "iopub.status.busy": "2025-07-30T20:59:13.140568Z",
     "iopub.status.idle": "2025-07-30T20:59:13.190956Z",
     "shell.execute_reply": "2025-07-30T20:59:13.189803Z"
    },
    "papermill": {
     "duration": 0.08251,
     "end_time": "2025-07-30T20:59:13.194406",
     "exception": false,
     "start_time": "2025-07-30T20:59:13.111896",
     "status": "completed"
    },
    "tags": []
   },
   "outputs": [
    {
     "name": "stdout",
     "output_type": "stream",
     "text": [
      "Dropping features: ['age']\n"
     ]
    }
   ],
   "source": [
    "if len(excluded_features_columns) > 0:\n",
    "    print(f\"Dropping features: {excluded_features_columns}\")\n",
    "    X_calib.drop(excluded_features_columns, axis=1, inplace=True)"
   ]
  },
  {
   "cell_type": "code",
   "execution_count": 35,
   "id": "6727d079-03e5-481e-9d38-292a90b7a0a8",
   "metadata": {
    "execution": {
     "iopub.execute_input": "2025-07-30T20:59:13.251214Z",
     "iopub.status.busy": "2025-07-30T20:59:13.250467Z",
     "iopub.status.idle": "2025-07-30T20:59:13.255876Z",
     "shell.execute_reply": "2025-07-30T20:59:13.254829Z"
    },
    "papermill": {
     "duration": 0.034847,
     "end_time": "2025-07-30T20:59:13.257753",
     "exception": false,
     "start_time": "2025-07-30T20:59:13.222906",
     "status": "completed"
    },
    "tags": []
   },
   "outputs": [],
   "source": [
    "# SPLIT & STRATIFY DATA\n",
    "# ----------------------"
   ]
  },
  {
   "cell_type": "code",
   "execution_count": 36,
   "id": "76c4dc6d",
   "metadata": {
    "execution": {
     "iopub.execute_input": "2025-07-30T20:59:13.324938Z",
     "iopub.status.busy": "2025-07-30T20:59:13.324225Z",
     "iopub.status.idle": "2025-07-30T20:59:13.330245Z",
     "shell.execute_reply": "2025-07-30T20:59:13.329201Z"
    },
    "papermill": {
     "duration": 0.041355,
     "end_time": "2025-07-30T20:59:13.332374",
     "exception": false,
     "start_time": "2025-07-30T20:59:13.291019",
     "status": "completed"
    },
    "tags": []
   },
   "outputs": [],
   "source": [
    "# EXCLUDE CERTAIN SUBGROUPS\n",
    "# ----------------------\n",
    "\n",
    "mode = universe.get(\"exclude_subgroups\", \"keep-all\") \n",
    "# Fetches the exclude_subgroups setting from the universe dict.\n",
    "# Defaults to \"keep-all\" if the key is missing."
   ]
  },
  {
   "cell_type": "code",
   "execution_count": 37,
   "id": "21994072",
   "metadata": {
    "execution": {
     "iopub.execute_input": "2025-07-30T20:59:13.398890Z",
     "iopub.status.busy": "2025-07-30T20:59:13.398505Z",
     "iopub.status.idle": "2025-07-30T20:59:13.405427Z",
     "shell.execute_reply": "2025-07-30T20:59:13.404248Z"
    },
    "papermill": {
     "duration": 0.04295,
     "end_time": "2025-07-30T20:59:13.407627",
     "exception": false,
     "start_time": "2025-07-30T20:59:13.364677",
     "status": "completed"
    },
    "tags": []
   },
   "outputs": [],
   "source": [
    "if mode == \"keep-all\":\n",
    "    keep_mask = pd.Series(True, index=org_train.index)\n",
    "\n",
    "# org_train contains the original feature columns from features_org (in Simson)\n",
    "# features_org contains unprocessed features, for me X_train at beginning ???\n",
    "# For keep-all, creates a boolean Series (keep_mask) of all True, so no rows are removed.\n",
    "\n",
    "elif mode == \"drop-non-german\":\n",
    "    keep_mask = org_train[\"maxdeutsch1\"] == 1 # ??? what about missing values?\n",
    "\n",
    "else:\n",
    "    raise ValueError(f\"Unsupported mode for exclude_subgroups: {mode}\")\n"
   ]
  },
  {
   "cell_type": "code",
   "execution_count": 38,
   "id": "71651440",
   "metadata": {
    "execution": {
     "iopub.execute_input": "2025-07-30T20:59:13.475244Z",
     "iopub.status.busy": "2025-07-30T20:59:13.474519Z",
     "iopub.status.idle": "2025-07-30T20:59:13.481837Z",
     "shell.execute_reply": "2025-07-30T20:59:13.480727Z"
    },
    "papermill": {
     "duration": 0.043207,
     "end_time": "2025-07-30T20:59:13.484085",
     "exception": false,
     "start_time": "2025-07-30T20:59:13.440878",
     "status": "completed"
    },
    "tags": []
   },
   "outputs": [],
   "source": [
    "n_drop = (~keep_mask).sum() # Calculates how many rows are set to be dropped\n",
    "if n_drop > 0:\n",
    "    pct = n_drop / len(keep_mask) * 100\n",
    "    print(f\"Dropping {n_drop} rows ({pct:.2f}%) where mode='{mode}'\")"
   ]
  },
  {
   "cell_type": "code",
   "execution_count": 39,
   "id": "5fb8eee5",
   "metadata": {
    "execution": {
     "iopub.execute_input": "2025-07-30T20:59:13.551337Z",
     "iopub.status.busy": "2025-07-30T20:59:13.550625Z",
     "iopub.status.idle": "2025-07-30T20:59:13.559916Z",
     "shell.execute_reply": "2025-07-30T20:59:13.558573Z"
    },
    "papermill": {
     "duration": 0.04522,
     "end_time": "2025-07-30T20:59:13.562340",
     "exception": false,
     "start_time": "2025-07-30T20:59:13.517120",
     "status": "completed"
    },
    "tags": []
   },
   "outputs": [],
   "source": [
    "X_train = X_train[keep_mask]"
   ]
  },
  {
   "cell_type": "code",
   "execution_count": 40,
   "id": "b202bb3a",
   "metadata": {
    "execution": {
     "iopub.execute_input": "2025-07-30T20:59:13.628476Z",
     "iopub.status.busy": "2025-07-30T20:59:13.627727Z",
     "iopub.status.idle": "2025-07-30T20:59:13.635242Z",
     "shell.execute_reply": "2025-07-30T20:59:13.634045Z"
    },
    "papermill": {
     "duration": 0.043469,
     "end_time": "2025-07-30T20:59:13.637530",
     "exception": false,
     "start_time": "2025-07-30T20:59:13.594061",
     "status": "completed"
    },
    "tags": []
   },
   "outputs": [],
   "source": [
    "y_train = y_train[keep_mask]"
   ]
  },
  {
   "cell_type": "markdown",
   "id": "493e2ac3",
   "metadata": {
    "papermill": {
     "duration": 0.031616,
     "end_time": "2025-07-30T20:59:13.700806",
     "exception": false,
     "start_time": "2025-07-30T20:59:13.669190",
     "status": "completed"
    },
    "tags": []
   },
   "source": [
    "# Model Training"
   ]
  },
  {
   "cell_type": "code",
   "execution_count": 41,
   "id": "679e1268",
   "metadata": {
    "execution": {
     "iopub.execute_input": "2025-07-30T20:59:13.767261Z",
     "iopub.status.busy": "2025-07-30T20:59:13.766887Z",
     "iopub.status.idle": "2025-07-30T20:59:13.871099Z",
     "shell.execute_reply": "2025-07-30T20:59:13.869970Z"
    },
    "papermill": {
     "duration": 0.140388,
     "end_time": "2025-07-30T20:59:13.873552",
     "exception": false,
     "start_time": "2025-07-30T20:59:13.733164",
     "status": "completed"
    },
    "tags": []
   },
   "outputs": [],
   "source": [
    "from sklearn.linear_model import LogisticRegression\n",
    "from sklearn.ensemble import GradientBoostingClassifier, RandomForestClassifier\n",
    "\n",
    "if (universe[\"model\"] == \"logreg\"):\n",
    "    model = LogisticRegression() #penalty=\"none\") #, solver=\"newton-cg\", max_iter=1) # include random_state=19 ?\n",
    "elif (universe[\"model\"] == \"penalized_logreg\"):\n",
    "    model = LogisticRegression(penalty=\"l2\", C=1.0) #, solver=\"newton-cg\", max_iter=1)\n",
    "elif (universe[\"model\"] == \"rf\"):\n",
    "    model = RandomForestClassifier(n_estimators=100, n_jobs=-1)\n",
    "elif (universe[\"model\"] == \"gbm\"):\n",
    "    model = GradientBoostingClassifier()\n",
    "elif (universe[\"model\"] == \"elasticnet\"):\n",
    "    model = LogisticRegression(penalty = 'elasticnet', solver = 'saga', l1_ratio = 0.5, max_iter=5000) # which solver to use?\n",
    "else:\n",
    "    raise \"Unsupported universe.model\""
   ]
  },
  {
   "cell_type": "code",
   "execution_count": 42,
   "id": "0cc8f744",
   "metadata": {
    "execution": {
     "iopub.execute_input": "2025-07-30T20:59:13.941015Z",
     "iopub.status.busy": "2025-07-30T20:59:13.940277Z",
     "iopub.status.idle": "2025-07-30T20:59:13.947790Z",
     "shell.execute_reply": "2025-07-30T20:59:13.946717Z"
    },
    "papermill": {
     "duration": 0.043616,
     "end_time": "2025-07-30T20:59:13.949907",
     "exception": false,
     "start_time": "2025-07-30T20:59:13.906291",
     "status": "completed"
    },
    "tags": []
   },
   "outputs": [],
   "source": [
    "import numpy as np\n",
    "from sklearn.pipeline import Pipeline\n",
    "from sklearn.preprocessing import StandardScaler\n",
    "\n",
    "model = Pipeline([\n",
    "    #(\"continuous_processor\", continuous_processor),\n",
    "    #(\"categorical_preprocessor\", categorical_preprocessor),\n",
    "    (\"scale\", StandardScaler() if universe[\"scale\"] == \"scale\" else None), \n",
    "    (\"model\", model),\n",
    "])"
   ]
  },
  {
   "cell_type": "code",
   "execution_count": 43,
   "id": "9442c04d",
   "metadata": {
    "execution": {
     "iopub.execute_input": "2025-07-30T20:59:14.018882Z",
     "iopub.status.busy": "2025-07-30T20:59:14.017981Z",
     "iopub.status.idle": "2025-07-30T20:59:14.176707Z",
     "shell.execute_reply": "2025-07-30T20:59:14.175697Z"
    },
    "papermill": {
     "duration": 0.196161,
     "end_time": "2025-07-30T20:59:14.179011",
     "exception": false,
     "start_time": "2025-07-30T20:59:13.982850",
     "status": "completed"
    },
    "tags": []
   },
   "outputs": [
    {
     "name": "stderr",
     "output_type": "stream",
     "text": [
      "/dss/dsshome1/0C/ra93lal2/.local/share/virtualenvs/CMA_Fairness_v2-3j10GkSs/lib/python3.10/site-packages/sklearn/linear_model/_logistic.py:444: ConvergenceWarning: lbfgs failed to converge (status=1):\n",
      "STOP: TOTAL NO. of ITERATIONS REACHED LIMIT.\n",
      "\n",
      "Increase the number of iterations (max_iter) or scale the data as shown in:\n",
      "    https://scikit-learn.org/stable/modules/preprocessing.html\n",
      "Please also refer to the documentation for alternative solver options:\n",
      "    https://scikit-learn.org/stable/modules/linear_model.html#logistic-regression\n",
      "  n_iter_i = _check_optimize_result(\n"
     ]
    },
    {
     "data": {
      "text/html": [
       "<style>#sk-container-id-1 {color: black;background-color: white;}#sk-container-id-1 pre{padding: 0;}#sk-container-id-1 div.sk-toggleable {background-color: white;}#sk-container-id-1 label.sk-toggleable__label {cursor: pointer;display: block;width: 100%;margin-bottom: 0;padding: 0.3em;box-sizing: border-box;text-align: center;}#sk-container-id-1 label.sk-toggleable__label-arrow:before {content: \"▸\";float: left;margin-right: 0.25em;color: #696969;}#sk-container-id-1 label.sk-toggleable__label-arrow:hover:before {color: black;}#sk-container-id-1 div.sk-estimator:hover label.sk-toggleable__label-arrow:before {color: black;}#sk-container-id-1 div.sk-toggleable__content {max-height: 0;max-width: 0;overflow: hidden;text-align: left;background-color: #f0f8ff;}#sk-container-id-1 div.sk-toggleable__content pre {margin: 0.2em;color: black;border-radius: 0.25em;background-color: #f0f8ff;}#sk-container-id-1 input.sk-toggleable__control:checked~div.sk-toggleable__content {max-height: 200px;max-width: 100%;overflow: auto;}#sk-container-id-1 input.sk-toggleable__control:checked~label.sk-toggleable__label-arrow:before {content: \"▾\";}#sk-container-id-1 div.sk-estimator input.sk-toggleable__control:checked~label.sk-toggleable__label {background-color: #d4ebff;}#sk-container-id-1 div.sk-label input.sk-toggleable__control:checked~label.sk-toggleable__label {background-color: #d4ebff;}#sk-container-id-1 input.sk-hidden--visually {border: 0;clip: rect(1px 1px 1px 1px);clip: rect(1px, 1px, 1px, 1px);height: 1px;margin: -1px;overflow: hidden;padding: 0;position: absolute;width: 1px;}#sk-container-id-1 div.sk-estimator {font-family: monospace;background-color: #f0f8ff;border: 1px dotted black;border-radius: 0.25em;box-sizing: border-box;margin-bottom: 0.5em;}#sk-container-id-1 div.sk-estimator:hover {background-color: #d4ebff;}#sk-container-id-1 div.sk-parallel-item::after {content: \"\";width: 100%;border-bottom: 1px solid gray;flex-grow: 1;}#sk-container-id-1 div.sk-label:hover label.sk-toggleable__label {background-color: #d4ebff;}#sk-container-id-1 div.sk-serial::before {content: \"\";position: absolute;border-left: 1px solid gray;box-sizing: border-box;top: 0;bottom: 0;left: 50%;z-index: 0;}#sk-container-id-1 div.sk-serial {display: flex;flex-direction: column;align-items: center;background-color: white;padding-right: 0.2em;padding-left: 0.2em;position: relative;}#sk-container-id-1 div.sk-item {position: relative;z-index: 1;}#sk-container-id-1 div.sk-parallel {display: flex;align-items: stretch;justify-content: center;background-color: white;position: relative;}#sk-container-id-1 div.sk-item::before, #sk-container-id-1 div.sk-parallel-item::before {content: \"\";position: absolute;border-left: 1px solid gray;box-sizing: border-box;top: 0;bottom: 0;left: 50%;z-index: -1;}#sk-container-id-1 div.sk-parallel-item {display: flex;flex-direction: column;z-index: 1;position: relative;background-color: white;}#sk-container-id-1 div.sk-parallel-item:first-child::after {align-self: flex-end;width: 50%;}#sk-container-id-1 div.sk-parallel-item:last-child::after {align-self: flex-start;width: 50%;}#sk-container-id-1 div.sk-parallel-item:only-child::after {width: 0;}#sk-container-id-1 div.sk-dashed-wrapped {border: 1px dashed gray;margin: 0 0.4em 0.5em 0.4em;box-sizing: border-box;padding-bottom: 0.4em;background-color: white;}#sk-container-id-1 div.sk-label label {font-family: monospace;font-weight: bold;display: inline-block;line-height: 1.2em;}#sk-container-id-1 div.sk-label-container {text-align: center;}#sk-container-id-1 div.sk-container {/* jupyter's `normalize.less` sets `[hidden] { display: none; }` but bootstrap.min.css set `[hidden] { display: none !important; }` so we also need the `!important` here to be able to override the default hidden behavior on the sphinx rendered scikit-learn.org. See: https://github.com/scikit-learn/scikit-learn/issues/21755 */display: inline-block !important;position: relative;}#sk-container-id-1 div.sk-text-repr-fallback {display: none;}</style><div id=\"sk-container-id-1\" class=\"sk-top-container\"><div class=\"sk-text-repr-fallback\"><pre>Pipeline(steps=[(&#x27;scale&#x27;, StandardScaler()), (&#x27;model&#x27;, LogisticRegression())])</pre><b>In a Jupyter environment, please rerun this cell to show the HTML representation or trust the notebook. <br />On GitHub, the HTML representation is unable to render, please try loading this page with nbviewer.org.</b></div><div class=\"sk-container\" hidden><div class=\"sk-item sk-dashed-wrapped\"><div class=\"sk-label-container\"><div class=\"sk-label sk-toggleable\"><input class=\"sk-toggleable__control sk-hidden--visually\" id=\"sk-estimator-id-1\" type=\"checkbox\" ><label for=\"sk-estimator-id-1\" class=\"sk-toggleable__label sk-toggleable__label-arrow\">Pipeline</label><div class=\"sk-toggleable__content\"><pre>Pipeline(steps=[(&#x27;scale&#x27;, StandardScaler()), (&#x27;model&#x27;, LogisticRegression())])</pre></div></div></div><div class=\"sk-serial\"><div class=\"sk-item\"><div class=\"sk-estimator sk-toggleable\"><input class=\"sk-toggleable__control sk-hidden--visually\" id=\"sk-estimator-id-2\" type=\"checkbox\" ><label for=\"sk-estimator-id-2\" class=\"sk-toggleable__label sk-toggleable__label-arrow\">StandardScaler</label><div class=\"sk-toggleable__content\"><pre>StandardScaler()</pre></div></div></div><div class=\"sk-item\"><div class=\"sk-estimator sk-toggleable\"><input class=\"sk-toggleable__control sk-hidden--visually\" id=\"sk-estimator-id-3\" type=\"checkbox\" ><label for=\"sk-estimator-id-3\" class=\"sk-toggleable__label sk-toggleable__label-arrow\">LogisticRegression</label><div class=\"sk-toggleable__content\"><pre>LogisticRegression()</pre></div></div></div></div></div></div></div>"
      ],
      "text/plain": [
       "Pipeline(steps=[('scale', StandardScaler()), ('model', LogisticRegression())])"
      ]
     },
     "execution_count": 43,
     "metadata": {},
     "output_type": "execute_result"
    }
   ],
   "source": [
    "model.fit(X_train, y_train.values.ravel())"
   ]
  },
  {
   "cell_type": "code",
   "execution_count": 44,
   "id": "af59f8c0",
   "metadata": {
    "execution": {
     "iopub.execute_input": "2025-07-30T20:59:14.236527Z",
     "iopub.status.busy": "2025-07-30T20:59:14.235999Z",
     "iopub.status.idle": "2025-07-30T20:59:14.242035Z",
     "shell.execute_reply": "2025-07-30T20:59:14.241029Z"
    },
    "papermill": {
     "duration": 0.031703,
     "end_time": "2025-07-30T20:59:14.244276",
     "exception": false,
     "start_time": "2025-07-30T20:59:14.212573",
     "status": "completed"
    },
    "tags": []
   },
   "outputs": [],
   "source": [
    "from fairness_multiverse.universe import predict_w_threshold"
   ]
  },
  {
   "cell_type": "code",
   "execution_count": 45,
   "id": "a7cf2e16",
   "metadata": {
    "execution": {
     "iopub.execute_input": "2025-07-30T20:59:14.306217Z",
     "iopub.status.busy": "2025-07-30T20:59:14.305732Z",
     "iopub.status.idle": "2025-07-30T20:59:14.503460Z",
     "shell.execute_reply": "2025-07-30T20:59:14.502557Z"
    },
    "papermill": {
     "duration": 0.226606,
     "end_time": "2025-07-30T20:59:14.505234",
     "exception": false,
     "start_time": "2025-07-30T20:59:14.278628",
     "status": "completed"
    },
    "tags": []
   },
   "outputs": [
    {
     "data": {
      "text/plain": [
       "0.8550328837364842"
      ]
     },
     "execution_count": 45,
     "metadata": {},
     "output_type": "execute_result"
    }
   ],
   "source": [
    "probs_test = model.predict_proba(X_test)\n",
    "\n",
    "'''\n",
    "Below code returns a boolean array (or binary 0/1 array depending on how it’s used) where each element \n",
    "is True if the probability of class 1 is greater than or equal to the threshold, and False otherwise.\n",
    "'''\n",
    "y_pred_default = predict_w_threshold(probs_test, 0.5)\n",
    "\n",
    "from sklearn.metrics import accuracy_score\n",
    "\n",
    "# Naive prediction\n",
    "accuracy_score(y_true = y_true, y_pred = y_pred_default)"
   ]
  },
  {
   "cell_type": "code",
   "execution_count": 46,
   "id": "081964c3",
   "metadata": {
    "execution": {
     "iopub.execute_input": "2025-07-30T20:59:14.553240Z",
     "iopub.status.busy": "2025-07-30T20:59:14.552740Z",
     "iopub.status.idle": "2025-07-30T20:59:14.739949Z",
     "shell.execute_reply": "2025-07-30T20:59:14.738814Z"
    },
    "papermill": {
     "duration": 0.214092,
     "end_time": "2025-07-30T20:59:14.742146",
     "exception": false,
     "start_time": "2025-07-30T20:59:14.528054",
     "status": "completed"
    },
    "tags": []
   },
   "outputs": [
    {
     "data": {
      "text/plain": [
       "array([0, 0, 0, ..., 0, 0, 0])"
      ]
     },
     "execution_count": 46,
     "metadata": {},
     "output_type": "execute_result"
    }
   ],
   "source": [
    "model.predict(X_test)"
   ]
  },
  {
   "cell_type": "markdown",
   "id": "56c9705b",
   "metadata": {
    "papermill": {
     "duration": 0.03203,
     "end_time": "2025-07-30T20:59:14.806020",
     "exception": false,
     "start_time": "2025-07-30T20:59:14.773990",
     "status": "completed"
    },
    "tags": []
   },
   "source": [
    "# Conformal Prediction"
   ]
  },
  {
   "cell_type": "code",
   "execution_count": 47,
   "id": "160ec6ff",
   "metadata": {
    "execution": {
     "iopub.execute_input": "2025-07-30T20:59:14.878020Z",
     "iopub.status.busy": "2025-07-30T20:59:14.877290Z",
     "iopub.status.idle": "2025-07-30T20:59:14.883910Z",
     "shell.execute_reply": "2025-07-30T20:59:14.882738Z"
    },
    "papermill": {
     "duration": 0.044625,
     "end_time": "2025-07-30T20:59:14.885878",
     "exception": false,
     "start_time": "2025-07-30T20:59:14.841253",
     "status": "completed"
    },
    "tags": []
   },
   "outputs": [],
   "source": [
    "# Miscoverage level for conformal prediction (10% allowed error rate => 90% target coverage)\n",
    "alpha = 0.1"
   ]
  },
  {
   "cell_type": "code",
   "execution_count": 48,
   "id": "eadf4555-3dd3-440e-8e35-f82a4ad9f855",
   "metadata": {
    "execution": {
     "iopub.execute_input": "2025-07-30T20:59:14.934219Z",
     "iopub.status.busy": "2025-07-30T20:59:14.933554Z",
     "iopub.status.idle": "2025-07-30T20:59:15.170872Z",
     "shell.execute_reply": "2025-07-30T20:59:15.169830Z"
    },
    "papermill": {
     "duration": 0.2633,
     "end_time": "2025-07-30T20:59:15.172863",
     "exception": false,
     "start_time": "2025-07-30T20:59:14.909563",
     "status": "completed"
    },
    "tags": []
   },
   "outputs": [],
   "source": [
    "probs_calib = model.predict_proba(X_calib)"
   ]
  },
  {
   "cell_type": "code",
   "execution_count": 49,
   "id": "2ed93547-6d5d-4983-9b36-1ecb300da49a",
   "metadata": {
    "execution": {
     "iopub.execute_input": "2025-07-30T20:59:15.222009Z",
     "iopub.status.busy": "2025-07-30T20:59:15.221252Z",
     "iopub.status.idle": "2025-07-30T20:59:15.227815Z",
     "shell.execute_reply": "2025-07-30T20:59:15.226710Z"
    },
    "papermill": {
     "duration": 0.032899,
     "end_time": "2025-07-30T20:59:15.229808",
     "exception": false,
     "start_time": "2025-07-30T20:59:15.196909",
     "status": "completed"
    },
    "tags": []
   },
   "outputs": [],
   "source": [
    "y_calib = y_calib.values.ravel().astype(int)"
   ]
  },
  {
   "cell_type": "code",
   "execution_count": 50,
   "id": "65d1320d-f588-4b38-9072-62af1ae97f7d",
   "metadata": {
    "execution": {
     "iopub.execute_input": "2025-07-30T20:59:15.269866Z",
     "iopub.status.busy": "2025-07-30T20:59:15.269420Z",
     "iopub.status.idle": "2025-07-30T20:59:15.277246Z",
     "shell.execute_reply": "2025-07-30T20:59:15.276361Z"
    },
    "papermill": {
     "duration": 0.023057,
     "end_time": "2025-07-30T20:59:15.278910",
     "exception": false,
     "start_time": "2025-07-30T20:59:15.255853",
     "status": "completed"
    },
    "tags": []
   },
   "outputs": [],
   "source": [
    "from fairness_multiverse.conformal import compute_nc_scores\n",
    "\n",
    "# Compute nonconformity scores on calibration set (1 - probability of true class)\n",
    "nc_scores = compute_nc_scores(probs_calib, y_calib)"
   ]
  },
  {
   "cell_type": "code",
   "execution_count": 51,
   "id": "df3b8ca3-53b7-43d5-9667-7c85da7aeda2",
   "metadata": {
    "execution": {
     "iopub.execute_input": "2025-07-30T20:59:15.320952Z",
     "iopub.status.busy": "2025-07-30T20:59:15.320608Z",
     "iopub.status.idle": "2025-07-30T20:59:15.326729Z",
     "shell.execute_reply": "2025-07-30T20:59:15.325961Z"
    },
    "papermill": {
     "duration": 0.023732,
     "end_time": "2025-07-30T20:59:15.327978",
     "exception": false,
     "start_time": "2025-07-30T20:59:15.304246",
     "status": "completed"
    },
    "tags": []
   },
   "outputs": [],
   "source": [
    "from fairness_multiverse.conformal import find_threshold\n",
    "\n",
    "# Find conformal threshold q_hat for the given alpha (split conformal method)\n",
    "q_hat = find_threshold(nc_scores, alpha)"
   ]
  },
  {
   "cell_type": "code",
   "execution_count": 52,
   "id": "4d29e6c1-0ef6-4aa4-b8fe-4fe79b0d033a",
   "metadata": {
    "execution": {
     "iopub.execute_input": "2025-07-30T20:59:15.358600Z",
     "iopub.status.busy": "2025-07-30T20:59:15.357408Z",
     "iopub.status.idle": "2025-07-30T20:59:15.365303Z",
     "shell.execute_reply": "2025-07-30T20:59:15.364344Z"
    },
    "papermill": {
     "duration": 0.025785,
     "end_time": "2025-07-30T20:59:15.367175",
     "exception": false,
     "start_time": "2025-07-30T20:59:15.341390",
     "status": "completed"
    },
    "tags": []
   },
   "outputs": [
    {
     "data": {
      "text/plain": [
       "0.6907038678752094"
      ]
     },
     "execution_count": 52,
     "metadata": {},
     "output_type": "execute_result"
    }
   ],
   "source": [
    "q_hat"
   ]
  },
  {
   "cell_type": "code",
   "execution_count": 53,
   "id": "92460794-cdac-4be2-ba28-f28c0515a6fb",
   "metadata": {
    "execution": {
     "iopub.execute_input": "2025-07-30T20:59:15.414929Z",
     "iopub.status.busy": "2025-07-30T20:59:15.414280Z",
     "iopub.status.idle": "2025-07-30T20:59:16.241436Z",
     "shell.execute_reply": "2025-07-30T20:59:16.240506Z"
    },
    "papermill": {
     "duration": 0.849336,
     "end_time": "2025-07-30T20:59:16.243180",
     "exception": false,
     "start_time": "2025-07-30T20:59:15.393844",
     "status": "completed"
    },
    "tags": []
   },
   "outputs": [],
   "source": [
    "from fairness_multiverse.conformal import predict_conformal_sets\n",
    "\n",
    "# Generate prediction sets for each test example\n",
    "pred_sets = predict_conformal_sets(model, X_test, q_hat)"
   ]
  },
  {
   "cell_type": "code",
   "execution_count": 54,
   "id": "d90c9a65-e6db-4f5d-80cd-e68fb7e46829",
   "metadata": {
    "execution": {
     "iopub.execute_input": "2025-07-30T20:59:16.284854Z",
     "iopub.status.busy": "2025-07-30T20:59:16.284430Z",
     "iopub.status.idle": "2025-07-30T20:59:16.289947Z",
     "shell.execute_reply": "2025-07-30T20:59:16.288880Z"
    },
    "papermill": {
     "duration": 0.033508,
     "end_time": "2025-07-30T20:59:16.292523",
     "exception": false,
     "start_time": "2025-07-30T20:59:16.259015",
     "status": "completed"
    },
    "tags": []
   },
   "outputs": [],
   "source": [
    "y_true = y_true.squeeze()"
   ]
  },
  {
   "cell_type": "code",
   "execution_count": 55,
   "id": "3a58a54a-1e68-46b9-927a-df01f18aebc8",
   "metadata": {
    "execution": {
     "iopub.execute_input": "2025-07-30T20:59:16.344513Z",
     "iopub.status.busy": "2025-07-30T20:59:16.343980Z",
     "iopub.status.idle": "2025-07-30T20:59:17.042172Z",
     "shell.execute_reply": "2025-07-30T20:59:17.041045Z"
    },
    "papermill": {
     "duration": 0.725639,
     "end_time": "2025-07-30T20:59:17.044188",
     "exception": false,
     "start_time": "2025-07-30T20:59:16.318549",
     "status": "completed"
    },
    "tags": []
   },
   "outputs": [],
   "source": [
    "from fairness_multiverse.conformal import evaluate_sets\n",
    "\n",
    "# Evaluate coverage and average set size on test data\n",
    "metrics = evaluate_sets(pred_sets, y_true)"
   ]
  },
  {
   "cell_type": "markdown",
   "id": "2b569c12-9aaa-4c88-98c9-bbcd0cf3ebb8",
   "metadata": {
    "papermill": {
     "duration": 0.025108,
     "end_time": "2025-07-30T20:59:17.095463",
     "exception": false,
     "start_time": "2025-07-30T20:59:17.070355",
     "status": "completed"
    },
    "tags": []
   },
   "source": [
    "# CP Metrics"
   ]
  },
  {
   "cell_type": "code",
   "execution_count": 56,
   "id": "5ce0a5cb-201f-45a0-ade5-94c7f0bd6095",
   "metadata": {
    "execution": {
     "iopub.execute_input": "2025-07-30T20:59:17.147518Z",
     "iopub.status.busy": "2025-07-30T20:59:17.146958Z",
     "iopub.status.idle": "2025-07-30T20:59:17.154034Z",
     "shell.execute_reply": "2025-07-30T20:59:17.153129Z"
    },
    "papermill": {
     "duration": 0.036984,
     "end_time": "2025-07-30T20:59:17.155597",
     "exception": false,
     "start_time": "2025-07-30T20:59:17.118613",
     "status": "completed"
    },
    "tags": []
   },
   "outputs": [
    {
     "data": {
      "text/plain": [
       "{'coverage': 0.9102998550886189, 'avg_size': 1.1385910154943708}"
      ]
     },
     "execution_count": 56,
     "metadata": {},
     "output_type": "execute_result"
    }
   ],
   "source": [
    "metrics"
   ]
  },
  {
   "cell_type": "code",
   "execution_count": 57,
   "id": "9b9a838d-31c9-430b-ae14-12baee460d17",
   "metadata": {
    "execution": {
     "iopub.execute_input": "2025-07-30T20:59:17.205978Z",
     "iopub.status.busy": "2025-07-30T20:59:17.205412Z",
     "iopub.status.idle": "2025-07-30T20:59:17.212640Z",
     "shell.execute_reply": "2025-07-30T20:59:17.211678Z"
    },
    "papermill": {
     "duration": 0.034559,
     "end_time": "2025-07-30T20:59:17.214174",
     "exception": false,
     "start_time": "2025-07-30T20:59:17.179615",
     "status": "completed"
    },
    "tags": []
   },
   "outputs": [],
   "source": [
    "example_universe = universe.copy()\n",
    "universe_training_year = example_universe.get(\"training_year\")\n",
    "universe_training_size = example_universe.get(\"training_size\")\n",
    "universe_scale = example_universe.get(\"scale\")\n",
    "universe_model = example_universe.get(\"model\")\n",
    "universe_exclude_features = example_universe.get(\"exclude_features\")\n",
    "universe_exclude_subgroups = example_universe.get(\"exclude_subgroups\")"
   ]
  },
  {
   "cell_type": "code",
   "execution_count": 58,
   "id": "f4b6a8ac-9dc0-4245-8a91-5b3b5999c4f9",
   "metadata": {
    "execution": {
     "iopub.execute_input": "2025-07-30T20:59:17.265233Z",
     "iopub.status.busy": "2025-07-30T20:59:17.264533Z",
     "iopub.status.idle": "2025-07-30T20:59:17.271128Z",
     "shell.execute_reply": "2025-07-30T20:59:17.270232Z"
    },
    "papermill": {
     "duration": 0.034134,
     "end_time": "2025-07-30T20:59:17.272757",
     "exception": false,
     "start_time": "2025-07-30T20:59:17.238623",
     "status": "completed"
    },
    "tags": []
   },
   "outputs": [],
   "source": [
    "cp_metrics_dict = {\n",
    "    \"universe_id\": [universe_id],\n",
    "    \"universe_training_year\": [universe_training_year],\n",
    "    \"universe_training_size\": [universe_training_size],\n",
    "    \"universe_scale\": [universe_scale],\n",
    "    \"universe_model\": [universe_model],\n",
    "    \"universe_exclude_features\": [universe_exclude_features],\n",
    "    \"universe_exclude_subgroups\": [universe_exclude_subgroups],\n",
    "    \"q_hat\": [q_hat],\n",
    "    \"coverage\": [metrics[\"coverage\"]],\n",
    "    \"avg_size\": [metrics[\"avg_size\"]],\n",
    "}"
   ]
  },
  {
   "cell_type": "code",
   "execution_count": 59,
   "id": "908acbb1-0371-4915-85ca-3fa520d2efe2",
   "metadata": {
    "execution": {
     "iopub.execute_input": "2025-07-30T20:59:17.321361Z",
     "iopub.status.busy": "2025-07-30T20:59:17.320599Z",
     "iopub.status.idle": "2025-07-30T20:59:17.328200Z",
     "shell.execute_reply": "2025-07-30T20:59:17.327275Z"
    },
    "papermill": {
     "duration": 0.033227,
     "end_time": "2025-07-30T20:59:17.329994",
     "exception": false,
     "start_time": "2025-07-30T20:59:17.296767",
     "status": "completed"
    },
    "tags": []
   },
   "outputs": [
    {
     "data": {
      "text/plain": [
       "{'universe_id': ['7a521937c3f224121eaa8e1ba102d51e'],\n",
       " 'universe_training_year': ['2012_14'],\n",
       " 'universe_training_size': ['5k'],\n",
       " 'universe_scale': ['scale'],\n",
       " 'universe_model': ['penalized_logreg'],\n",
       " 'universe_exclude_features': ['age'],\n",
       " 'universe_exclude_subgroups': ['keep-all'],\n",
       " 'q_hat': [0.6907038678752094],\n",
       " 'coverage': [0.9102998550886189],\n",
       " 'avg_size': [1.1385910154943708]}"
      ]
     },
     "execution_count": 59,
     "metadata": {},
     "output_type": "execute_result"
    }
   ],
   "source": [
    "cp_metrics_dict"
   ]
  },
  {
   "cell_type": "code",
   "execution_count": 60,
   "id": "33007efc-14e9-4ec6-97ac-56a455c82265",
   "metadata": {
    "execution": {
     "iopub.execute_input": "2025-07-30T20:59:17.384906Z",
     "iopub.status.busy": "2025-07-30T20:59:17.384155Z",
     "iopub.status.idle": "2025-07-30T20:59:17.391643Z",
     "shell.execute_reply": "2025-07-30T20:59:17.390410Z"
    },
    "papermill": {
     "duration": 0.036112,
     "end_time": "2025-07-30T20:59:17.393856",
     "exception": false,
     "start_time": "2025-07-30T20:59:17.357744",
     "status": "completed"
    },
    "tags": []
   },
   "outputs": [],
   "source": [
    "cp_metrics_df = pd.DataFrame(cp_metrics_dict)"
   ]
  },
  {
   "cell_type": "code",
   "execution_count": 61,
   "id": "db12611b-57b2-4910-b9d0-355adfd6e7bf",
   "metadata": {
    "execution": {
     "iopub.execute_input": "2025-07-30T20:59:17.446846Z",
     "iopub.status.busy": "2025-07-30T20:59:17.446333Z",
     "iopub.status.idle": "2025-07-30T20:59:17.464175Z",
     "shell.execute_reply": "2025-07-30T20:59:17.463101Z"
    },
    "papermill": {
     "duration": 0.045212,
     "end_time": "2025-07-30T20:59:17.465880",
     "exception": false,
     "start_time": "2025-07-30T20:59:17.420668",
     "status": "completed"
    },
    "tags": []
   },
   "outputs": [
    {
     "data": {
      "text/html": [
       "<div>\n",
       "<style scoped>\n",
       "    .dataframe tbody tr th:only-of-type {\n",
       "        vertical-align: middle;\n",
       "    }\n",
       "\n",
       "    .dataframe tbody tr th {\n",
       "        vertical-align: top;\n",
       "    }\n",
       "\n",
       "    .dataframe thead th {\n",
       "        text-align: right;\n",
       "    }\n",
       "</style>\n",
       "<table border=\"1\" class=\"dataframe\">\n",
       "  <thead>\n",
       "    <tr style=\"text-align: right;\">\n",
       "      <th></th>\n",
       "      <th>universe_id</th>\n",
       "      <th>universe_training_year</th>\n",
       "      <th>universe_training_size</th>\n",
       "      <th>universe_scale</th>\n",
       "      <th>universe_model</th>\n",
       "      <th>universe_exclude_features</th>\n",
       "      <th>universe_exclude_subgroups</th>\n",
       "      <th>q_hat</th>\n",
       "      <th>coverage</th>\n",
       "      <th>avg_size</th>\n",
       "    </tr>\n",
       "  </thead>\n",
       "  <tbody>\n",
       "    <tr>\n",
       "      <th>0</th>\n",
       "      <td>7a521937c3f224121eaa8e1ba102d51e</td>\n",
       "      <td>2012_14</td>\n",
       "      <td>5k</td>\n",
       "      <td>scale</td>\n",
       "      <td>penalized_logreg</td>\n",
       "      <td>age</td>\n",
       "      <td>keep-all</td>\n",
       "      <td>0.690704</td>\n",
       "      <td>0.9103</td>\n",
       "      <td>1.138591</td>\n",
       "    </tr>\n",
       "  </tbody>\n",
       "</table>\n",
       "</div>"
      ],
      "text/plain": [
       "                        universe_id universe_training_year  \\\n",
       "0  7a521937c3f224121eaa8e1ba102d51e                2012_14   \n",
       "\n",
       "  universe_training_size universe_scale    universe_model  \\\n",
       "0                     5k          scale  penalized_logreg   \n",
       "\n",
       "  universe_exclude_features universe_exclude_subgroups     q_hat  coverage  \\\n",
       "0                       age                   keep-all  0.690704    0.9103   \n",
       "\n",
       "   avg_size  \n",
       "0  1.138591  "
      ]
     },
     "execution_count": 61,
     "metadata": {},
     "output_type": "execute_result"
    }
   ],
   "source": [
    "cp_metrics_df"
   ]
  },
  {
   "cell_type": "code",
   "execution_count": 62,
   "id": "b7fbde55-a0a1-47e4-9af6-fe4a17fa8c61",
   "metadata": {
    "execution": {
     "iopub.execute_input": "2025-07-30T20:59:17.518488Z",
     "iopub.status.busy": "2025-07-30T20:59:17.517955Z",
     "iopub.status.idle": "2025-07-30T20:59:17.523696Z",
     "shell.execute_reply": "2025-07-30T20:59:17.522735Z"
    },
    "papermill": {
     "duration": 0.031309,
     "end_time": "2025-07-30T20:59:17.525332",
     "exception": false,
     "start_time": "2025-07-30T20:59:17.494023",
     "status": "completed"
    },
    "tags": []
   },
   "outputs": [],
   "source": [
    "# Conditional Coverage & looking at subgroups"
   ]
  },
  {
   "cell_type": "code",
   "execution_count": 63,
   "id": "027ae886-68dd-4141-96c7-805a5450e1ef",
   "metadata": {
    "execution": {
     "iopub.execute_input": "2025-07-30T20:59:17.583426Z",
     "iopub.status.busy": "2025-07-30T20:59:17.582536Z",
     "iopub.status.idle": "2025-07-30T20:59:17.870514Z",
     "shell.execute_reply": "2025-07-30T20:59:17.869583Z"
    },
    "papermill": {
     "duration": 0.318437,
     "end_time": "2025-07-30T20:59:17.872450",
     "exception": false,
     "start_time": "2025-07-30T20:59:17.554013",
     "status": "completed"
    },
    "tags": []
   },
   "outputs": [],
   "source": [
    "from fairness_multiverse.conformal import build_cp_groups\n",
    "\n",
    "cp_groups_df = build_cp_groups(pred_sets, y_true, X_test.index, org_test)\n",
    "#needs universe_id and setting"
   ]
  },
  {
   "cell_type": "code",
   "execution_count": 64,
   "id": "01d5802c-663a-4d1f-9d69-e036faaffbf7",
   "metadata": {
    "execution": {
     "iopub.execute_input": "2025-07-30T20:59:17.929484Z",
     "iopub.status.busy": "2025-07-30T20:59:17.929052Z",
     "iopub.status.idle": "2025-07-30T20:59:17.934048Z",
     "shell.execute_reply": "2025-07-30T20:59:17.933000Z"
    },
    "papermill": {
     "duration": 0.034925,
     "end_time": "2025-07-30T20:59:17.935279",
     "exception": false,
     "start_time": "2025-07-30T20:59:17.900354",
     "status": "completed"
    },
    "tags": []
   },
   "outputs": [],
   "source": [
    "#delete\n",
    "#cp_groups_df"
   ]
  },
  {
   "cell_type": "code",
   "execution_count": 65,
   "id": "fa424af1-d1eb-443d-b717-2d279ada8408",
   "metadata": {
    "execution": {
     "iopub.execute_input": "2025-07-30T20:59:17.963274Z",
     "iopub.status.busy": "2025-07-30T20:59:17.962777Z",
     "iopub.status.idle": "2025-07-30T20:59:17.967122Z",
     "shell.execute_reply": "2025-07-30T20:59:17.966081Z"
    },
    "papermill": {
     "duration": 0.019356,
     "end_time": "2025-07-30T20:59:17.968598",
     "exception": false,
     "start_time": "2025-07-30T20:59:17.949242",
     "status": "completed"
    },
    "tags": []
   },
   "outputs": [],
   "source": [
    "#delete\n",
    "#percentage = (cp_groups_df['nongerman_female'] == 1).mean() * 100\n",
    "#print(percentage)\n"
   ]
  },
  {
   "cell_type": "code",
   "execution_count": 66,
   "id": "6cbdab96-b2b2-45af-ad54-d0516db2e28d",
   "metadata": {
    "execution": {
     "iopub.execute_input": "2025-07-30T20:59:18.011551Z",
     "iopub.status.busy": "2025-07-30T20:59:18.011128Z",
     "iopub.status.idle": "2025-07-30T20:59:19.821625Z",
     "shell.execute_reply": "2025-07-30T20:59:19.820504Z"
    },
    "papermill": {
     "duration": 1.841774,
     "end_time": "2025-07-30T20:59:19.824120",
     "exception": false,
     "start_time": "2025-07-30T20:59:17.982346",
     "status": "completed"
    },
    "tags": []
   },
   "outputs": [],
   "source": [
    "# Define covered = 1 if true_label is in the predicted set\n",
    "cp_groups_df['covered'] = cp_groups_df.apply(\n",
    "    lambda r: int(r['true_label'] in r['pred_set']),\n",
    "    axis=1\n",
    ")"
   ]
  },
  {
   "cell_type": "code",
   "execution_count": 67,
   "id": "338ff529-1a6b-4b87-a931-8e4788d52aad",
   "metadata": {
    "execution": {
     "iopub.execute_input": "2025-07-30T20:59:19.883692Z",
     "iopub.status.busy": "2025-07-30T20:59:19.882725Z",
     "iopub.status.idle": "2025-07-30T20:59:19.888854Z",
     "shell.execute_reply": "2025-07-30T20:59:19.887726Z"
    },
    "papermill": {
     "duration": 0.037867,
     "end_time": "2025-07-30T20:59:19.891062",
     "exception": false,
     "start_time": "2025-07-30T20:59:19.853195",
     "status": "completed"
    },
    "tags": []
   },
   "outputs": [],
   "source": [
    "#cp_groups_df"
   ]
  },
  {
   "cell_type": "code",
   "execution_count": 68,
   "id": "90032e27-66df-4540-9169-4e89cfbaa758",
   "metadata": {
    "execution": {
     "iopub.execute_input": "2025-07-30T20:59:19.952648Z",
     "iopub.status.busy": "2025-07-30T20:59:19.951686Z",
     "iopub.status.idle": "2025-07-30T20:59:19.965013Z",
     "shell.execute_reply": "2025-07-30T20:59:19.963755Z"
    },
    "papermill": {
     "duration": 0.045855,
     "end_time": "2025-07-30T20:59:19.967069",
     "exception": false,
     "start_time": "2025-07-30T20:59:19.921214",
     "status": "completed"
    },
    "tags": []
   },
   "outputs": [],
   "source": [
    "subgroups = ['frau1','nongerman','nongerman_male','nongerman_female']\n",
    "\n",
    "# Conditional coverage for subgroup==1\n",
    "cond_coverage = {\n",
    "    g: cp_groups_df.loc[cp_groups_df[g]==1, 'covered'].mean()\n",
    "    for g in subgroups\n",
    "}"
   ]
  },
  {
   "cell_type": "code",
   "execution_count": 69,
   "id": "1e348fb1-b9c3-45bc-ba23-f016827a7e0d",
   "metadata": {
    "execution": {
     "iopub.execute_input": "2025-07-30T20:59:20.029033Z",
     "iopub.status.busy": "2025-07-30T20:59:20.028612Z",
     "iopub.status.idle": "2025-07-30T20:59:20.036614Z",
     "shell.execute_reply": "2025-07-30T20:59:20.035350Z"
    },
    "papermill": {
     "duration": 0.04378,
     "end_time": "2025-07-30T20:59:20.040121",
     "exception": false,
     "start_time": "2025-07-30T20:59:19.996341",
     "status": "completed"
    },
    "tags": []
   },
   "outputs": [
    {
     "data": {
      "text/plain": [
       "{'frau1': 0.9054859145437391,\n",
       " 'nongerman': 0.9107393476674339,\n",
       " 'nongerman_male': 0.9279474016031704,\n",
       " 'nongerman_female': 0.8822652757078987}"
      ]
     },
     "execution_count": 69,
     "metadata": {},
     "output_type": "execute_result"
    }
   ],
   "source": [
    "cond_coverage"
   ]
  },
  {
   "cell_type": "code",
   "execution_count": 70,
   "id": "f5093324-c3dd-4d63-bc4c-8d945e5c8bbb",
   "metadata": {
    "execution": {
     "iopub.execute_input": "2025-07-30T20:59:20.106691Z",
     "iopub.status.busy": "2025-07-30T20:59:20.106178Z",
     "iopub.status.idle": "2025-07-30T20:59:20.114026Z",
     "shell.execute_reply": "2025-07-30T20:59:20.112918Z"
    },
    "papermill": {
     "duration": 0.049401,
     "end_time": "2025-07-30T20:59:20.116615",
     "exception": false,
     "start_time": "2025-07-30T20:59:20.067214",
     "status": "completed"
    },
    "tags": []
   },
   "outputs": [],
   "source": [
    "for subgroup, cov in cond_coverage.items():\n",
    "    cp_metrics_df[f\"cov_{subgroup}\"] = cov"
   ]
  },
  {
   "cell_type": "code",
   "execution_count": 71,
   "id": "6e872e10-dbe5-49e8-b554-5030c98ff75d",
   "metadata": {
    "execution": {
     "iopub.execute_input": "2025-07-30T20:59:20.189879Z",
     "iopub.status.busy": "2025-07-30T20:59:20.189431Z",
     "iopub.status.idle": "2025-07-30T20:59:20.214381Z",
     "shell.execute_reply": "2025-07-30T20:59:20.213098Z"
    },
    "papermill": {
     "duration": 0.057839,
     "end_time": "2025-07-30T20:59:20.216466",
     "exception": false,
     "start_time": "2025-07-30T20:59:20.158627",
     "status": "completed"
    },
    "tags": []
   },
   "outputs": [
    {
     "data": {
      "text/html": [
       "<div>\n",
       "<style scoped>\n",
       "    .dataframe tbody tr th:only-of-type {\n",
       "        vertical-align: middle;\n",
       "    }\n",
       "\n",
       "    .dataframe tbody tr th {\n",
       "        vertical-align: top;\n",
       "    }\n",
       "\n",
       "    .dataframe thead th {\n",
       "        text-align: right;\n",
       "    }\n",
       "</style>\n",
       "<table border=\"1\" class=\"dataframe\">\n",
       "  <thead>\n",
       "    <tr style=\"text-align: right;\">\n",
       "      <th></th>\n",
       "      <th>universe_id</th>\n",
       "      <th>universe_training_year</th>\n",
       "      <th>universe_training_size</th>\n",
       "      <th>universe_scale</th>\n",
       "      <th>universe_model</th>\n",
       "      <th>universe_exclude_features</th>\n",
       "      <th>universe_exclude_subgroups</th>\n",
       "      <th>q_hat</th>\n",
       "      <th>coverage</th>\n",
       "      <th>avg_size</th>\n",
       "      <th>cov_frau1</th>\n",
       "      <th>cov_nongerman</th>\n",
       "      <th>cov_nongerman_male</th>\n",
       "      <th>cov_nongerman_female</th>\n",
       "    </tr>\n",
       "  </thead>\n",
       "  <tbody>\n",
       "    <tr>\n",
       "      <th>0</th>\n",
       "      <td>7a521937c3f224121eaa8e1ba102d51e</td>\n",
       "      <td>2012_14</td>\n",
       "      <td>5k</td>\n",
       "      <td>scale</td>\n",
       "      <td>penalized_logreg</td>\n",
       "      <td>age</td>\n",
       "      <td>keep-all</td>\n",
       "      <td>0.690704</td>\n",
       "      <td>0.9103</td>\n",
       "      <td>1.138591</td>\n",
       "      <td>0.905486</td>\n",
       "      <td>0.910739</td>\n",
       "      <td>0.927947</td>\n",
       "      <td>0.882265</td>\n",
       "    </tr>\n",
       "  </tbody>\n",
       "</table>\n",
       "</div>"
      ],
      "text/plain": [
       "                        universe_id universe_training_year  \\\n",
       "0  7a521937c3f224121eaa8e1ba102d51e                2012_14   \n",
       "\n",
       "  universe_training_size universe_scale    universe_model  \\\n",
       "0                     5k          scale  penalized_logreg   \n",
       "\n",
       "  universe_exclude_features universe_exclude_subgroups     q_hat  coverage  \\\n",
       "0                       age                   keep-all  0.690704    0.9103   \n",
       "\n",
       "   avg_size  cov_frau1  cov_nongerman  cov_nongerman_male  \\\n",
       "0  1.138591   0.905486       0.910739            0.927947   \n",
       "\n",
       "   cov_nongerman_female  \n",
       "0              0.882265  "
      ]
     },
     "execution_count": 71,
     "metadata": {},
     "output_type": "execute_result"
    }
   ],
   "source": [
    "cp_metrics_df"
   ]
  },
  {
   "cell_type": "markdown",
   "id": "33774451",
   "metadata": {
    "papermill": {
     "duration": 0.028732,
     "end_time": "2025-07-30T20:59:20.275103",
     "exception": false,
     "start_time": "2025-07-30T20:59:20.246371",
     "status": "completed"
    },
    "tags": []
   },
   "source": [
    "# (Fairness) Metrics"
   ]
  },
  {
   "cell_type": "code",
   "execution_count": 72,
   "id": "debc5d62",
   "metadata": {
    "execution": {
     "iopub.execute_input": "2025-07-30T20:59:20.331866Z",
     "iopub.status.busy": "2025-07-30T20:59:20.331405Z",
     "iopub.status.idle": "2025-07-30T20:59:20.360639Z",
     "shell.execute_reply": "2025-07-30T20:59:20.359494Z"
    },
    "papermill": {
     "duration": 0.060902,
     "end_time": "2025-07-30T20:59:20.362648",
     "exception": false,
     "start_time": "2025-07-30T20:59:20.301746",
     "status": "completed"
    },
    "tags": []
   },
   "outputs": [],
   "source": [
    "# do I need to include maxdeutsch1.missing?\n",
    "\n",
    "import numpy as np\n",
    "\n",
    "colname_to_bin = \"maxdeutsch1\"\n",
    "majority_value = org_train[colname_to_bin].mode()[0]\n",
    "\n",
    "org_test[\"majmin\"] = np.where(org_test[colname_to_bin] == majority_value, \"majority\", \"minority\")"
   ]
  },
  {
   "cell_type": "code",
   "execution_count": 73,
   "id": "06a50de5",
   "metadata": {
    "execution": {
     "iopub.execute_input": "2025-07-30T20:59:20.421132Z",
     "iopub.status.busy": "2025-07-30T20:59:20.420742Z",
     "iopub.status.idle": "2025-07-30T20:59:23.255435Z",
     "shell.execute_reply": "2025-07-30T20:59:23.241093Z"
    },
    "papermill": {
     "duration": 2.865845,
     "end_time": "2025-07-30T20:59:23.257358",
     "exception": false,
     "start_time": "2025-07-30T20:59:20.391513",
     "status": "completed"
    },
    "tags": []
   },
   "outputs": [],
   "source": [
    "example_universe = universe.copy()\n",
    "example_universe[\"cutoff\"] = example_universe[\"cutoff\"][0]\n",
    "example_universe[\"eval_fairness_grouping\"] = example_universe[\"eval_fairness_grouping\"][0]\n",
    "fairness_dict, metric_frame = universe_analysis.compute_metrics(\n",
    "    example_universe,\n",
    "    y_pred_prob=probs_test,\n",
    "    y_test=y_true,\n",
    "    org_test=org_test,\n",
    ")"
   ]
  },
  {
   "cell_type": "markdown",
   "id": "f95d4e02",
   "metadata": {
    "papermill": {
     "duration": 0.059293,
     "end_time": "2025-07-30T20:59:23.346938",
     "exception": false,
     "start_time": "2025-07-30T20:59:23.287645",
     "status": "completed"
    },
    "tags": []
   },
   "source": [
    "# Overall"
   ]
  },
  {
   "cell_type": "markdown",
   "id": "bdee4871",
   "metadata": {
    "papermill": {
     "duration": 0.054388,
     "end_time": "2025-07-30T20:59:23.463065",
     "exception": false,
     "start_time": "2025-07-30T20:59:23.408677",
     "status": "completed"
    },
    "tags": []
   },
   "source": [
    "Fairness\n",
    "Main fairness target: Equalized Odds. Seems to be a better fit than equal opportunity, since we're not only interested in Y = 1. Seems to be a better fit than demographic parity, since we also care about accuracy, not just equal distribution of preds.\n",
    "\n",
    "Pick column for computation of fairness metrics\n",
    "\n",
    "Performance\n",
    "Overall performance measures, most interesting in relation to the measures split by group below"
   ]
  },
  {
   "cell_type": "code",
   "execution_count": 74,
   "id": "c4e067c6",
   "metadata": {
    "execution": {
     "iopub.execute_input": "2025-07-30T20:59:23.526339Z",
     "iopub.status.busy": "2025-07-30T20:59:23.525317Z",
     "iopub.status.idle": "2025-07-30T20:59:23.534732Z",
     "shell.execute_reply": "2025-07-30T20:59:23.533770Z"
    },
    "papermill": {
     "duration": 0.045961,
     "end_time": "2025-07-30T20:59:23.539564",
     "exception": false,
     "start_time": "2025-07-30T20:59:23.493603",
     "status": "completed"
    },
    "tags": []
   },
   "outputs": [
    {
     "data": {
      "text/plain": [
       "accuracy                   0.223821\n",
       "balanced accuracy          0.547390\n",
       "f1                         0.245168\n",
       "precision                  0.140056\n",
       "false positive rate        0.887842\n",
       "false negative rate        0.017379\n",
       "selection rate             0.900000\n",
       "count                  89710.000000\n",
       "dtype: float64"
      ]
     },
     "execution_count": 74,
     "metadata": {},
     "output_type": "execute_result"
    }
   ],
   "source": [
    "metric_frame.overall"
   ]
  },
  {
   "cell_type": "markdown",
   "id": "e968fe9d",
   "metadata": {
    "papermill": {
     "duration": 0.036162,
     "end_time": "2025-07-30T20:59:23.607529",
     "exception": false,
     "start_time": "2025-07-30T20:59:23.571367",
     "status": "completed"
    },
    "tags": []
   },
   "source": [
    "By Group"
   ]
  },
  {
   "cell_type": "code",
   "execution_count": 75,
   "id": "ec325bce",
   "metadata": {
    "execution": {
     "iopub.execute_input": "2025-07-30T20:59:23.671146Z",
     "iopub.status.busy": "2025-07-30T20:59:23.670677Z",
     "iopub.status.idle": "2025-07-30T20:59:23.692357Z",
     "shell.execute_reply": "2025-07-30T20:59:23.691266Z"
    },
    "papermill": {
     "duration": 0.072538,
     "end_time": "2025-07-30T20:59:23.710595",
     "exception": false,
     "start_time": "2025-07-30T20:59:23.638057",
     "status": "completed"
    },
    "tags": []
   },
   "outputs": [
    {
     "data": {
      "text/html": [
       "<div>\n",
       "<style scoped>\n",
       "    .dataframe tbody tr th:only-of-type {\n",
       "        vertical-align: middle;\n",
       "    }\n",
       "\n",
       "    .dataframe tbody tr th {\n",
       "        vertical-align: top;\n",
       "    }\n",
       "\n",
       "    .dataframe thead th {\n",
       "        text-align: right;\n",
       "    }\n",
       "</style>\n",
       "<table border=\"1\" class=\"dataframe\">\n",
       "  <thead>\n",
       "    <tr style=\"text-align: right;\">\n",
       "      <th></th>\n",
       "      <th>accuracy</th>\n",
       "      <th>balanced accuracy</th>\n",
       "      <th>f1</th>\n",
       "      <th>precision</th>\n",
       "      <th>false positive rate</th>\n",
       "      <th>false negative rate</th>\n",
       "      <th>selection rate</th>\n",
       "      <th>count</th>\n",
       "    </tr>\n",
       "    <tr>\n",
       "      <th>majmin</th>\n",
       "      <th></th>\n",
       "      <th></th>\n",
       "      <th></th>\n",
       "      <th></th>\n",
       "      <th></th>\n",
       "      <th></th>\n",
       "      <th></th>\n",
       "      <th></th>\n",
       "    </tr>\n",
       "  </thead>\n",
       "  <tbody>\n",
       "    <tr>\n",
       "      <th>majority</th>\n",
       "      <td>0.246928</td>\n",
       "      <td>0.557786</td>\n",
       "      <td>0.255963</td>\n",
       "      <td>0.147199</td>\n",
       "      <td>0.864734</td>\n",
       "      <td>0.019694</td>\n",
       "      <td>0.880006</td>\n",
       "      <td>69170.0</td>\n",
       "    </tr>\n",
       "    <tr>\n",
       "      <th>minority</th>\n",
       "      <td>0.146008</td>\n",
       "      <td>0.513689</td>\n",
       "      <td>0.211180</td>\n",
       "      <td>0.118174</td>\n",
       "      <td>0.964176</td>\n",
       "      <td>0.008446</td>\n",
       "      <td>0.967332</td>\n",
       "      <td>20540.0</td>\n",
       "    </tr>\n",
       "  </tbody>\n",
       "</table>\n",
       "</div>"
      ],
      "text/plain": [
       "          accuracy  balanced accuracy        f1  precision  \\\n",
       "majmin                                                       \n",
       "majority  0.246928           0.557786  0.255963   0.147199   \n",
       "minority  0.146008           0.513689  0.211180   0.118174   \n",
       "\n",
       "          false positive rate  false negative rate  selection rate    count  \n",
       "majmin                                                                       \n",
       "majority             0.864734             0.019694        0.880006  69170.0  \n",
       "minority             0.964176             0.008446        0.967332  20540.0  "
      ]
     },
     "execution_count": 75,
     "metadata": {},
     "output_type": "execute_result"
    }
   ],
   "source": [
    "metric_frame.by_group"
   ]
  },
  {
   "cell_type": "code",
   "execution_count": 76,
   "id": "a9ddbe63",
   "metadata": {
    "execution": {
     "iopub.execute_input": "2025-07-30T20:59:23.789377Z",
     "iopub.status.busy": "2025-07-30T20:59:23.788876Z",
     "iopub.status.idle": "2025-07-30T20:59:26.291645Z",
     "shell.execute_reply": "2025-07-30T20:59:26.289756Z"
    },
    "papermill": {
     "duration": 2.535006,
     "end_time": "2025-07-30T20:59:26.294314",
     "exception": false,
     "start_time": "2025-07-30T20:59:23.759308",
     "status": "completed"
    },
    "tags": []
   },
   "outputs": [
    {
     "data": {
      "text/plain": [
       "array([[<Axes: title={'center': 'accuracy'}, xlabel='majmin'>,\n",
       "        <Axes: title={'center': 'balanced accuracy'}, xlabel='majmin'>,\n",
       "        <Axes: title={'center': 'f1'}, xlabel='majmin'>],\n",
       "       [<Axes: title={'center': 'precision'}, xlabel='majmin'>,\n",
       "        <Axes: title={'center': 'false positive rate'}, xlabel='majmin'>,\n",
       "        <Axes: title={'center': 'false negative rate'}, xlabel='majmin'>],\n",
       "       [<Axes: title={'center': 'selection rate'}, xlabel='majmin'>,\n",
       "        <Axes: title={'center': 'count'}, xlabel='majmin'>,\n",
       "        <Axes: xlabel='majmin'>]], dtype=object)"
      ]
     },
     "execution_count": 76,
     "metadata": {},
     "output_type": "execute_result"
    },
    {
     "data": {
      "image/png": "[encoded data removed]",
      "text/plain": [
       "<Figure size 1200x800 with 9 Axes>"
      ]
     },
     "metadata": {},
     "output_type": "display_data"
    }
   ],
   "source": [
    "# In a graphic\n",
    "metric_frame.by_group.plot.bar(\n",
    "    subplots=True,\n",
    "    layout=[3, 3],\n",
    "    legend=False,\n",
    "    figsize=[12, 8],\n",
    "    title=\"Show all metrics\",\n",
    ")"
   ]
  },
  {
   "cell_type": "markdown",
   "id": "f57a0bac",
   "metadata": {
    "papermill": {
     "duration": 0.028624,
     "end_time": "2025-07-30T20:59:26.354612",
     "exception": false,
     "start_time": "2025-07-30T20:59:26.325988",
     "status": "completed"
    },
    "tags": []
   },
   "source": [
    "# Final Output"
   ]
  },
  {
   "cell_type": "code",
   "execution_count": 77,
   "id": "96d280a3",
   "metadata": {
    "execution": {
     "iopub.execute_input": "2025-07-30T20:59:26.415013Z",
     "iopub.status.busy": "2025-07-30T20:59:26.413563Z",
     "iopub.status.idle": "2025-07-30T20:59:26.424928Z",
     "shell.execute_reply": "2025-07-30T20:59:26.423779Z"
    },
    "papermill": {
     "duration": 0.044381,
     "end_time": "2025-07-30T20:59:26.426795",
     "exception": false,
     "start_time": "2025-07-30T20:59:26.382414",
     "status": "completed"
    },
    "tags": []
   },
   "outputs": [
    {
     "data": {
      "text/plain": [
       "4"
      ]
     },
     "execution_count": 77,
     "metadata": {},
     "output_type": "execute_result"
    }
   ],
   "source": [
    "sub_universes = universe_analysis.generate_sub_universes()\n",
    "len(sub_universes)"
   ]
  },
  {
   "cell_type": "code",
   "execution_count": 78,
   "id": "92adf7ba",
   "metadata": {
    "execution": {
     "iopub.execute_input": "2025-07-30T20:59:26.489317Z",
     "iopub.status.busy": "2025-07-30T20:59:26.488837Z",
     "iopub.status.idle": "2025-07-30T20:59:26.495048Z",
     "shell.execute_reply": "2025-07-30T20:59:26.494075Z"
    },
    "papermill": {
     "duration": 0.038911,
     "end_time": "2025-07-30T20:59:26.497136",
     "exception": false,
     "start_time": "2025-07-30T20:59:26.458225",
     "status": "completed"
    },
    "tags": []
   },
   "outputs": [],
   "source": [
    "def filter_sub_universe_data(sub_universe, org_test):\n",
    "    # Keep all rows — no filtering\n",
    "    keep_rows_mask = np.ones(org_test.shape[0], dtype=bool)\n",
    "\n",
    "    print(f\"[INFO] Keeping all rows: {keep_rows_mask.sum()} rows retained.\")\n",
    "    return keep_rows_mask"
   ]
  },
  {
   "cell_type": "code",
   "execution_count": 79,
   "id": "4a759155",
   "metadata": {
    "execution": {
     "iopub.execute_input": "2025-07-30T20:59:26.557653Z",
     "iopub.status.busy": "2025-07-30T20:59:26.557279Z",
     "iopub.status.idle": "2025-07-30T20:59:37.350974Z",
     "shell.execute_reply": "2025-07-30T20:59:37.349801Z"
    },
    "papermill": {
     "duration": 10.82507,
     "end_time": "2025-07-30T20:59:37.352846",
     "exception": false,
     "start_time": "2025-07-30T20:59:26.527776",
     "status": "completed"
    },
    "tags": []
   },
   "outputs": [
    {
     "name": "stdout",
     "output_type": "stream",
     "text": [
      "Stopping execution_time clock.\n",
      "[INFO] Keeping all rows: 89710 rows retained.\n"
     ]
    },
    {
     "name": "stdout",
     "output_type": "stream",
     "text": [
      "[INFO] Keeping all rows: 89710 rows retained.\n"
     ]
    },
    {
     "name": "stdout",
     "output_type": "stream",
     "text": [
      "[INFO] Keeping all rows: 89710 rows retained.\n"
     ]
    },
    {
     "name": "stdout",
     "output_type": "stream",
     "text": [
      "[INFO] Keeping all rows: 89710 rows retained.\n"
     ]
    },
    {
     "data": {
      "text/html": [
       "<div>\n",
       "<style scoped>\n",
       "    .dataframe tbody tr th:only-of-type {\n",
       "        vertical-align: middle;\n",
       "    }\n",
       "\n",
       "    .dataframe tbody tr th {\n",
       "        vertical-align: top;\n",
       "    }\n",
       "\n",
       "    .dataframe thead th {\n",
       "        text-align: right;\n",
       "    }\n",
       "</style>\n",
       "<table border=\"1\" class=\"dataframe\">\n",
       "  <thead>\n",
       "    <tr style=\"text-align: right;\">\n",
       "      <th></th>\n",
       "      <th>run_no</th>\n",
       "      <th>universe_id</th>\n",
       "      <th>universe_settings</th>\n",
       "      <th>execution_time</th>\n",
       "      <th>test_size_n</th>\n",
       "      <th>test_size_frac</th>\n",
       "      <th>fair_main_equalized_odds_difference</th>\n",
       "      <th>fair_main_equalized_odds_ratio</th>\n",
       "      <th>fair_main_demographic_parity_difference</th>\n",
       "      <th>fair_main_demographic_parity_ratio</th>\n",
       "      <th>...</th>\n",
       "      <th>perf_grp_precision_0</th>\n",
       "      <th>perf_grp_precision_1</th>\n",
       "      <th>perf_grp_false positive rate_0</th>\n",
       "      <th>perf_grp_false positive rate_1</th>\n",
       "      <th>perf_grp_false negative rate_0</th>\n",
       "      <th>perf_grp_false negative rate_1</th>\n",
       "      <th>perf_grp_selection rate_0</th>\n",
       "      <th>perf_grp_selection rate_1</th>\n",
       "      <th>perf_grp_count_0</th>\n",
       "      <th>perf_grp_count_1</th>\n",
       "    </tr>\n",
       "  </thead>\n",
       "  <tbody>\n",
       "    <tr>\n",
       "      <th>0</th>\n",
       "      <td>14</td>\n",
       "      <td>7a521937c3f224121eaa8e1ba102d51e</td>\n",
       "      <td>{\"cutoff\": \"quantile_0.1\", \"eval_fairness_grou...</td>\n",
       "      <td>26.784542</td>\n",
       "      <td>89710</td>\n",
       "      <td>1.0</td>\n",
       "      <td>0.099441</td>\n",
       "      <td>0.896864</td>\n",
       "      <td>0.087326</td>\n",
       "      <td>0.909725</td>\n",
       "      <td>...</td>\n",
       "      <td>NaN</td>\n",
       "      <td>NaN</td>\n",
       "      <td>NaN</td>\n",
       "      <td>NaN</td>\n",
       "      <td>NaN</td>\n",
       "      <td>NaN</td>\n",
       "      <td>NaN</td>\n",
       "      <td>NaN</td>\n",
       "      <td>NaN</td>\n",
       "      <td>NaN</td>\n",
       "    </tr>\n",
       "    <tr>\n",
       "      <th>0</th>\n",
       "      <td>14</td>\n",
       "      <td>7a521937c3f224121eaa8e1ba102d51e</td>\n",
       "      <td>{\"cutoff\": \"quantile_0.1\", \"eval_fairness_grou...</td>\n",
       "      <td>26.784542</td>\n",
       "      <td>89710</td>\n",
       "      <td>1.0</td>\n",
       "      <td>0.099441</td>\n",
       "      <td>0.896864</td>\n",
       "      <td>0.087326</td>\n",
       "      <td>0.909725</td>\n",
       "      <td>...</td>\n",
       "      <td>0.118174</td>\n",
       "      <td>0.147199</td>\n",
       "      <td>0.964176</td>\n",
       "      <td>0.864734</td>\n",
       "      <td>0.008446</td>\n",
       "      <td>0.019694</td>\n",
       "      <td>0.967332</td>\n",
       "      <td>0.880006</td>\n",
       "      <td>20540.0</td>\n",
       "      <td>69170.0</td>\n",
       "    </tr>\n",
       "    <tr>\n",
       "      <th>0</th>\n",
       "      <td>14</td>\n",
       "      <td>7a521937c3f224121eaa8e1ba102d51e</td>\n",
       "      <td>{\"cutoff\": \"quantile_0.25\", \"eval_fairness_gro...</td>\n",
       "      <td>26.784542</td>\n",
       "      <td>89710</td>\n",
       "      <td>1.0</td>\n",
       "      <td>0.197117</td>\n",
       "      <td>0.774546</td>\n",
       "      <td>0.174533</td>\n",
       "      <td>0.802690</td>\n",
       "      <td>...</td>\n",
       "      <td>NaN</td>\n",
       "      <td>NaN</td>\n",
       "      <td>NaN</td>\n",
       "      <td>NaN</td>\n",
       "      <td>NaN</td>\n",
       "      <td>NaN</td>\n",
       "      <td>NaN</td>\n",
       "      <td>NaN</td>\n",
       "      <td>NaN</td>\n",
       "      <td>NaN</td>\n",
       "    </tr>\n",
       "    <tr>\n",
       "      <th>0</th>\n",
       "      <td>14</td>\n",
       "      <td>7a521937c3f224121eaa8e1ba102d51e</td>\n",
       "      <td>{\"cutoff\": \"quantile_0.25\", \"eval_fairness_gro...</td>\n",
       "      <td>26.784542</td>\n",
       "      <td>89710</td>\n",
       "      <td>1.0</td>\n",
       "      <td>0.197117</td>\n",
       "      <td>0.774546</td>\n",
       "      <td>0.174533</td>\n",
       "      <td>0.802690</td>\n",
       "      <td>...</td>\n",
       "      <td>0.125544</td>\n",
       "      <td>0.172276</td>\n",
       "      <td>0.874312</td>\n",
       "      <td>0.677195</td>\n",
       "      <td>0.036740</td>\n",
       "      <td>0.074289</td>\n",
       "      <td>0.884567</td>\n",
       "      <td>0.710033</td>\n",
       "      <td>20540.0</td>\n",
       "      <td>69170.0</td>\n",
       "    </tr>\n",
       "  </tbody>\n",
       "</table>\n",
       "<p>4 rows × 50 columns</p>\n",
       "</div>"
      ],
      "text/plain": [
       "  run_no                       universe_id  \\\n",
       "0     14  7a521937c3f224121eaa8e1ba102d51e   \n",
       "0     14  7a521937c3f224121eaa8e1ba102d51e   \n",
       "0     14  7a521937c3f224121eaa8e1ba102d51e   \n",
       "0     14  7a521937c3f224121eaa8e1ba102d51e   \n",
       "\n",
       "                                   universe_settings  execution_time  \\\n",
       "0  {\"cutoff\": \"quantile_0.1\", \"eval_fairness_grou...       26.784542   \n",
       "0  {\"cutoff\": \"quantile_0.1\", \"eval_fairness_grou...       26.784542   \n",
       "0  {\"cutoff\": \"quantile_0.25\", \"eval_fairness_gro...       26.784542   \n",
       "0  {\"cutoff\": \"quantile_0.25\", \"eval_fairness_gro...       26.784542   \n",
       "\n",
       "   test_size_n  test_size_frac  fair_main_equalized_odds_difference  \\\n",
       "0        89710             1.0                             0.099441   \n",
       "0        89710             1.0                             0.099441   \n",
       "0        89710             1.0                             0.197117   \n",
       "0        89710             1.0                             0.197117   \n",
       "\n",
       "   fair_main_equalized_odds_ratio  fair_main_demographic_parity_difference  \\\n",
       "0                        0.896864                                 0.087326   \n",
       "0                        0.896864                                 0.087326   \n",
       "0                        0.774546                                 0.174533   \n",
       "0                        0.774546                                 0.174533   \n",
       "\n",
       "   fair_main_demographic_parity_ratio  ...  perf_grp_precision_0  \\\n",
       "0                            0.909725  ...                   NaN   \n",
       "0                            0.909725  ...              0.118174   \n",
       "0                            0.802690  ...                   NaN   \n",
       "0                            0.802690  ...              0.125544   \n",
       "\n",
       "   perf_grp_precision_1  perf_grp_false positive rate_0  \\\n",
       "0                   NaN                             NaN   \n",
       "0              0.147199                        0.964176   \n",
       "0                   NaN                             NaN   \n",
       "0              0.172276                        0.874312   \n",
       "\n",
       "   perf_grp_false positive rate_1  perf_grp_false negative rate_0  \\\n",
       "0                             NaN                             NaN   \n",
       "0                        0.864734                        0.008446   \n",
       "0                             NaN                             NaN   \n",
       "0                        0.677195                        0.036740   \n",
       "\n",
       "   perf_grp_false negative rate_1  perf_grp_selection rate_0  \\\n",
       "0                             NaN                        NaN   \n",
       "0                        0.019694                   0.967332   \n",
       "0                             NaN                        NaN   \n",
       "0                        0.074289                   0.884567   \n",
       "\n",
       "   perf_grp_selection rate_1  perf_grp_count_0  perf_grp_count_1  \n",
       "0                        NaN               NaN               NaN  \n",
       "0                   0.880006           20540.0           69170.0  \n",
       "0                        NaN               NaN               NaN  \n",
       "0                   0.710033           20540.0           69170.0  \n",
       "\n",
       "[4 rows x 50 columns]"
      ]
     },
     "execution_count": 79,
     "metadata": {},
     "output_type": "execute_result"
    }
   ],
   "source": [
    "final_output = universe_analysis.generate_final_output(\n",
    "    y_pred_prob=probs_test,\n",
    "    y_test=y_true,\n",
    "    org_test=org_test,\n",
    "    filter_data=filter_sub_universe_data,\n",
    "    cp_metrics_df=cp_metrics_df,\n",
    "    save=True,\n",
    ")\n",
    "final_output"
   ]
  },
  {
   "cell_type": "code",
   "execution_count": null,
   "id": "721ff514-cb11-46f8-b6fc-50392f74b5cb",
   "metadata": {
    "papermill": {
     "duration": 0.034053,
     "end_time": "2025-07-30T20:59:37.426202",
     "exception": false,
     "start_time": "2025-07-30T20:59:37.392149",
     "status": "completed"
    },
    "tags": []
   },
   "outputs": [],
   "source": []
  }
 ],
 "metadata": {
  "celltoolbar": "Tags",
  "kernelspec": {
   "display_name": "Python (CMA Fairness)",
   "language": "python",
   "name": "cma_fair_env"
  },
  "language_info": {
   "codemirror_mode": {
    "name": "ipython",
    "version": 3
   },
   "file_extension": ".py",
   "mimetype": "text/x-python",
   "name": "python",
   "nbconvert_exporter": "python",
   "pygments_lexer": "ipython3",
   "version": "3.10.12"
  },
  "papermill": {
   "default_parameters": {},
   "duration": 41.988954,
   "end_time": "2025-07-30T20:59:38.279436",
   "environment_variables": {},
   "exception": null,
   "input_path": "universe_analysis.ipynb",
   "output_path": "output/runs/14/notebooks/m_14-7a521937c3f224121eaa8e1ba102d51e.ipynb",
   "parameters": {
    "output_dir": "output",
    "run_no": "14",
    "seed": "2023",
    "universe": "{\"cutoff\": [\"quantile_0.1\", \"quantile_0.25\"], \"eval_fairness_grouping\": [\"majority-minority\", \"nationality-all\"], \"exclude_features\": \"age\", \"exclude_subgroups\": \"keep-all\", \"model\": \"penalized_logreg\", \"scale\": \"scale\", \"training_size\": \"5k\", \"training_year\": \"2012_14\"}",
    "universe_id": "7a521937c3f224121eaa8e1ba102d51e"
   },
   "start_time": "2025-07-30T20:58:56.290482",
   "version": "2.6.0"
  }
 },
 "nbformat": 4,
 "nbformat_minor": 5
}