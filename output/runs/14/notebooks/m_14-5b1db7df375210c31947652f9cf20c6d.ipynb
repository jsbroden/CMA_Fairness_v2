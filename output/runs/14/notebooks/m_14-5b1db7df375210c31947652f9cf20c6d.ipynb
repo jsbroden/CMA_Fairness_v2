{
 "cells": [
  {
   "cell_type": "code",
   "execution_count": 1,
   "id": "f159f837-637b-42ba-96b5-ec9a68c44524",
   "metadata": {
    "execution": {
     "iopub.execute_input": "2025-07-30T21:26:12.789055Z",
     "iopub.status.busy": "2025-07-30T21:26:12.788247Z",
     "iopub.status.idle": "2025-07-30T21:26:12.801292Z",
     "shell.execute_reply": "2025-07-30T21:26:12.800306Z"
    },
    "papermill": {
     "duration": 0.038278,
     "end_time": "2025-07-30T21:26:12.803042",
     "exception": false,
     "start_time": "2025-07-30T21:26:12.764764",
     "status": "completed"
    },
    "tags": []
   },
   "outputs": [
    {
     "name": "stdout",
     "output_type": "stream",
     "text": [
      "/dss/dsshome1/0C/ra93lal2/cma/CMA_Fairness_v2\n"
     ]
    },
    {
     "name": "stderr",
     "output_type": "stream",
     "text": [
      "/dss/dsshome1/0C/ra93lal2/.local/share/virtualenvs/CMA_Fairness_v2-3j10GkSs/lib/python3.10/site-packages/IPython/core/magics/osm.py:393: UserWarning: This is now an optional IPython functionality, using bookmarks requires you to install the `pickleshare` library.\n",
      "  bkms = self.shell.db.get('bookmarks', {})\n",
      "/dss/dsshome1/0C/ra93lal2/.local/share/virtualenvs/CMA_Fairness_v2-3j10GkSs/lib/python3.10/site-packages/IPython/core/magics/osm.py:417: UserWarning: This is now an optional IPython functionality, setting dhist requires you to install the `pickleshare` library.\n",
      "  self.shell.db['dhist'] = compress_dhist(dhist)[-100:]\n"
     ]
    }
   ],
   "source": [
    "%cd ~/cma/CMA_Fairness_v2"
   ]
  },
  {
   "cell_type": "markdown",
   "id": "de2603b9",
   "metadata": {
    "papermill": {
     "duration": 0.020019,
     "end_time": "2025-07-30T21:26:12.844004",
     "exception": false,
     "start_time": "2025-07-30T21:26:12.823985",
     "status": "completed"
    },
    "tags": []
   },
   "source": [
    "The following cell holds the definition of our parameters, these values can be overriden by rendering the with e.g. the following command:\n",
    "\n",
    "papermill -p alpha 0.2 -p ratio 0.3 universe_analysis.ipynb output/test_run.ipynb"
   ]
  },
  {
   "cell_type": "code",
   "execution_count": 2,
   "id": "a80968a0-40bb-4fa9-85ef-2d5eefb01975",
   "metadata": {
    "execution": {
     "iopub.execute_input": "2025-07-30T21:26:12.886153Z",
     "iopub.status.busy": "2025-07-30T21:26:12.885344Z",
     "iopub.status.idle": "2025-07-30T21:26:12.891431Z",
     "shell.execute_reply": "2025-07-30T21:26:12.890374Z"
    },
    "papermill": {
     "duration": 0.028984,
     "end_time": "2025-07-30T21:26:12.893117",
     "exception": false,
     "start_time": "2025-07-30T21:26:12.864133",
     "status": "completed"
    },
    "tags": []
   },
   "outputs": [
    {
     "name": "stdout",
     "output_type": "stream",
     "text": [
      "Current working directory: /dss/dsshome1/0C/ra93lal2/cma/CMA_Fairness_v2\n"
     ]
    }
   ],
   "source": [
    "import os\n",
    "print(\"Current working directory:\", os.getcwd())"
   ]
  },
  {
   "cell_type": "code",
   "execution_count": 3,
   "id": "2dce4c03",
   "metadata": {
    "execution": {
     "iopub.execute_input": "2025-07-30T21:26:12.937231Z",
     "iopub.status.busy": "2025-07-30T21:26:12.936737Z",
     "iopub.status.idle": "2025-07-30T21:26:12.943405Z",
     "shell.execute_reply": "2025-07-30T21:26:12.942488Z"
    },
    "papermill": {
     "duration": 0.030585,
     "end_time": "2025-07-30T21:26:12.945141",
     "exception": false,
     "start_time": "2025-07-30T21:26:12.914556",
     "status": "completed"
    },
    "tags": [
     "parameters"
    ]
   },
   "outputs": [],
   "source": [
    "run_no = 0\n",
    "universe_id = \"test\"\n",
    "universe = {\n",
    "    \"training_size\": \"25k\", # \"25k\", \"5k\", \"1k\"\n",
    "    \"training_year\": \"2014\", # \"2014\", \"2012_14\", \"2010_14\"\n",
    "    \"scale\": \"scale\", # \"scale\", \"do-not-scale\",\n",
    "    #\"stratify_split\": \"target\", # \"none\", \"target\", \"protected-attribute\", \"both\",\n",
    "    \"model\": \"elasticnet\", # \"logreg\", \"penalized_logreg\", \"rf\", \"gbm\", \"elasticnet\"\n",
    "    \"cutoff\": [\"quantile_0.15\", \"quantile_0.30\"],\n",
    "    \"exclude_features\": \"age\", # \"none\", \"nationality\", \"sex\", \"nationality-sex\", \"age\"\n",
    "    \"exclude_subgroups\": \"keep-all\", # \"keep-all\", \"drop-non-german\"\n",
    "    \"eval_fairness_grouping\": [\"majority-minority\", \"nationality-all\"]\n",
    "}\n",
    "\n",
    "output_dir=\"./output\"\n",
    "seed=0"
   ]
  },
  {
   "cell_type": "code",
   "execution_count": 4,
   "id": "c8e471c8",
   "metadata": {
    "execution": {
     "iopub.execute_input": "2025-07-30T21:26:12.990010Z",
     "iopub.status.busy": "2025-07-30T21:26:12.989107Z",
     "iopub.status.idle": "2025-07-30T21:26:12.994608Z",
     "shell.execute_reply": "2025-07-30T21:26:12.993541Z"
    },
    "papermill": {
     "duration": 0.030611,
     "end_time": "2025-07-30T21:26:12.996310",
     "exception": false,
     "start_time": "2025-07-30T21:26:12.965699",
     "status": "completed"
    },
    "tags": [
     "injected-parameters"
    ]
   },
   "outputs": [],
   "source": [
    "# Parameters\n",
    "universe_id = \"5b1db7df375210c31947652f9cf20c6d\"\n",
    "run_no = \"14\"\n",
    "universe = \"{\\\"cutoff\\\": [\\\"quantile_0.1\\\", \\\"quantile_0.25\\\"], \\\"eval_fairness_grouping\\\": [\\\"majority-minority\\\", \\\"nationality-all\\\"], \\\"exclude_features\\\": \\\"none\\\", \\\"exclude_subgroups\\\": \\\"drop-non-german\\\", \\\"model\\\": \\\"elasticnet\\\", \\\"scale\\\": \\\"scale\\\", \\\"training_size\\\": \\\"1k\\\", \\\"training_year\\\": \\\"2014\\\"}\"\n",
    "output_dir = \"output\"\n",
    "seed = \"2023\"\n"
   ]
  },
  {
   "cell_type": "code",
   "execution_count": 5,
   "id": "1650acaf",
   "metadata": {
    "execution": {
     "iopub.execute_input": "2025-07-30T21:26:13.039712Z",
     "iopub.status.busy": "2025-07-30T21:26:13.039220Z",
     "iopub.status.idle": "2025-07-30T21:26:13.044850Z",
     "shell.execute_reply": "2025-07-30T21:26:13.043745Z"
    },
    "papermill": {
     "duration": 0.02925,
     "end_time": "2025-07-30T21:26:13.046669",
     "exception": false,
     "start_time": "2025-07-30T21:26:13.017419",
     "status": "completed"
    },
    "tags": []
   },
   "outputs": [],
   "source": [
    "import json\n",
    "# Parse universe into dict if it is passed as a string\n",
    "if isinstance(universe, str):\n",
    "    universe = json.loads(universe)"
   ]
  },
  {
   "cell_type": "code",
   "execution_count": 6,
   "id": "16620c48",
   "metadata": {
    "execution": {
     "iopub.execute_input": "2025-07-30T21:26:13.092172Z",
     "iopub.status.busy": "2025-07-30T21:26:13.091297Z",
     "iopub.status.idle": "2025-07-30T21:26:13.121610Z",
     "shell.execute_reply": "2025-07-30T21:26:13.120935Z"
    },
    "papermill": {
     "duration": 0.054341,
     "end_time": "2025-07-30T21:26:13.122926",
     "exception": false,
     "start_time": "2025-07-30T21:26:13.068585",
     "status": "completed"
    },
    "tags": []
   },
   "outputs": [],
   "source": [
    "# Auto-reload the custom package\n",
    "%load_ext autoreload\n",
    "%autoreload 1\n",
    "%aimport fairness_multiverse"
   ]
  },
  {
   "cell_type": "code",
   "execution_count": 7,
   "id": "01c5c9f3",
   "metadata": {
    "execution": {
     "iopub.execute_input": "2025-07-30T21:26:13.144991Z",
     "iopub.status.busy": "2025-07-30T21:26:13.144364Z",
     "iopub.status.idle": "2025-07-30T21:26:15.108542Z",
     "shell.execute_reply": "2025-07-30T21:26:15.107482Z"
    },
    "papermill": {
     "duration": 1.977271,
     "end_time": "2025-07-30T21:26:15.110850",
     "exception": false,
     "start_time": "2025-07-30T21:26:13.133579",
     "status": "completed"
    },
    "tags": []
   },
   "outputs": [],
   "source": [
    "from fairness_multiverse.universe import UniverseAnalysis\n",
    "\n",
    "universe_analysis = UniverseAnalysis(\n",
    "    run_no = run_no,\n",
    "    universe_id = universe_id,\n",
    "    universe = universe,\n",
    "    output_dir=output_dir,\n",
    ")"
   ]
  },
  {
   "cell_type": "code",
   "execution_count": 8,
   "id": "106241f5",
   "metadata": {
    "execution": {
     "iopub.execute_input": "2025-07-30T21:26:15.162766Z",
     "iopub.status.busy": "2025-07-30T21:26:15.162225Z",
     "iopub.status.idle": "2025-07-30T21:26:15.169921Z",
     "shell.execute_reply": "2025-07-30T21:26:15.168946Z"
    },
    "papermill": {
     "duration": 0.035657,
     "end_time": "2025-07-30T21:26:15.171588",
     "exception": false,
     "start_time": "2025-07-30T21:26:15.135931",
     "status": "completed"
    },
    "tags": []
   },
   "outputs": [
    {
     "name": "stdout",
     "output_type": "stream",
     "text": [
      "Using Seed: 2023\n"
     ]
    }
   ],
   "source": [
    "import numpy as np\n",
    "parsed_seed = int(seed)\n",
    "np.random.seed(parsed_seed)\n",
    "print(f\"Using Seed: {parsed_seed}\")"
   ]
  },
  {
   "cell_type": "markdown",
   "id": "e0ebdc57",
   "metadata": {
    "papermill": {
     "duration": 0.019702,
     "end_time": "2025-07-30T21:26:15.212226",
     "exception": false,
     "start_time": "2025-07-30T21:26:15.192524",
     "status": "completed"
    },
    "tags": []
   },
   "source": [
    "# Loading Data"
   ]
  },
  {
   "cell_type": "markdown",
   "id": "681925a3",
   "metadata": {
    "papermill": {
     "duration": 0.019623,
     "end_time": "2025-07-30T21:26:15.251604",
     "exception": false,
     "start_time": "2025-07-30T21:26:15.231981",
     "status": "completed"
    },
    "tags": []
   },
   "source": [
    "Load siab_train, siab_test, siab_calib and/or \n",
    "load siab_train_features, siab_train_labels"
   ]
  },
  {
   "cell_type": "code",
   "execution_count": 9,
   "id": "f0496b8a",
   "metadata": {
    "execution": {
     "iopub.execute_input": "2025-07-30T21:26:15.292652Z",
     "iopub.status.busy": "2025-07-30T21:26:15.291990Z",
     "iopub.status.idle": "2025-07-30T21:26:27.006467Z",
     "shell.execute_reply": "2025-07-30T21:26:27.005091Z"
    },
    "papermill": {
     "duration": 11.737063,
     "end_time": "2025-07-30T21:26:27.008173",
     "exception": false,
     "start_time": "2025-07-30T21:26:15.271110",
     "status": "completed"
    },
    "tags": []
   },
   "outputs": [
    {
     "name": "stdout",
     "output_type": "stream",
     "text": [
      "Loading SIAB data from cache: data/siab_cached.csv.gz\n"
     ]
    },
    {
     "name": "stdout",
     "output_type": "stream",
     "text": [
      "(643690, 164)\n"
     ]
    }
   ],
   "source": [
    "from pathlib import Path\n",
    "import pandas as pd\n",
    "\n",
    "# File paths\n",
    "raw_file = Path(\"data/raw/siab.csv\")\n",
    "cache_file = Path(\"data/siab_cached.csv.gz\")\n",
    "\n",
    "# Ensure cache directory exists\n",
    "cache_file.parent.mkdir(parents=True, exist_ok=True)\n",
    "\n",
    "# Load with simple caching\n",
    "if cache_file.exists():\n",
    "    print(f\"Loading SIAB data from cache: {cache_file}\")\n",
    "    siab = pd.read_csv(cache_file, compression='gzip')\n",
    "else:\n",
    "    print(f\"Cache not found. Reading raw SIAB data: {raw_file}\")\n",
    "    siab = pd.read_csv(raw_file)\n",
    "    siab.to_csv(cache_file, index=False, compression='gzip')\n",
    "    print(f\"Cached SIAB data to: {cache_file}\")\n",
    "\n",
    "# Now use `siab` DataFrame as needed\n",
    "print(siab.shape)"
   ]
  },
  {
   "cell_type": "code",
   "execution_count": 10,
   "id": "db0ca512-5f53-4dba-abdb-a2888bca41ba",
   "metadata": {
    "execution": {
     "iopub.execute_input": "2025-07-30T21:26:27.056627Z",
     "iopub.status.busy": "2025-07-30T21:26:27.056133Z",
     "iopub.status.idle": "2025-07-30T21:26:27.062092Z",
     "shell.execute_reply": "2025-07-30T21:26:27.060922Z"
    },
    "papermill": {
     "duration": 0.030825,
     "end_time": "2025-07-30T21:26:27.064128",
     "exception": false,
     "start_time": "2025-07-30T21:26:27.033303",
     "status": "completed"
    },
    "tags": []
   },
   "outputs": [],
   "source": [
    "#siab"
   ]
  },
  {
   "cell_type": "code",
   "execution_count": 11,
   "id": "a0edb063",
   "metadata": {
    "execution": {
     "iopub.execute_input": "2025-07-30T21:26:27.110276Z",
     "iopub.status.busy": "2025-07-30T21:26:27.109510Z",
     "iopub.status.idle": "2025-07-30T21:26:27.114952Z",
     "shell.execute_reply": "2025-07-30T21:26:27.113882Z"
    },
    "papermill": {
     "duration": 0.029979,
     "end_time": "2025-07-30T21:26:27.116832",
     "exception": false,
     "start_time": "2025-07-30T21:26:27.086853",
     "status": "completed"
    },
    "tags": []
   },
   "outputs": [],
   "source": [
    "#import pandas as pd\n",
    "#\n",
    "#X_train = pd.read_csv(\"./data/X_train.csv\")\n",
    "#y_train = pd.read_csv(\"./data/y_train.csv\")"
   ]
  },
  {
   "cell_type": "code",
   "execution_count": 12,
   "id": "63d08085",
   "metadata": {
    "execution": {
     "iopub.execute_input": "2025-07-30T21:26:27.163285Z",
     "iopub.status.busy": "2025-07-30T21:26:27.162358Z",
     "iopub.status.idle": "2025-07-30T21:26:27.167263Z",
     "shell.execute_reply": "2025-07-30T21:26:27.166362Z"
    },
    "papermill": {
     "duration": 0.029332,
     "end_time": "2025-07-30T21:26:27.168953",
     "exception": false,
     "start_time": "2025-07-30T21:26:27.139621",
     "status": "completed"
    },
    "tags": []
   },
   "outputs": [],
   "source": [
    "#X_test = pd.read_csv(\"./data/X_test.csv\")\n",
    "#y_true = pd.read_csv(\"./data/y_test.csv\")"
   ]
  },
  {
   "cell_type": "code",
   "execution_count": 13,
   "id": "98a8d0fa-1d3d-4ed8-bb2c-281470e24add",
   "metadata": {
    "execution": {
     "iopub.execute_input": "2025-07-30T21:26:27.215264Z",
     "iopub.status.busy": "2025-07-30T21:26:27.214802Z",
     "iopub.status.idle": "2025-07-30T21:26:27.219985Z",
     "shell.execute_reply": "2025-07-30T21:26:27.218785Z"
    },
    "papermill": {
     "duration": 0.029927,
     "end_time": "2025-07-30T21:26:27.221849",
     "exception": false,
     "start_time": "2025-07-30T21:26:27.191922",
     "status": "completed"
    },
    "tags": []
   },
   "outputs": [],
   "source": [
    "# Calibration data for conformal\n",
    "#X_calib = pd.read_csv(\"./data/X_calib.csv\")\n",
    "#y_calib = pd.read_csv(\"./data/y_calib.csv\")"
   ]
  },
  {
   "cell_type": "markdown",
   "id": "997051c5-15bd-4b69-9786-c3001a3ce484",
   "metadata": {
    "papermill": {
     "duration": 0.022468,
     "end_time": "2025-07-30T21:26:27.267565",
     "exception": false,
     "start_time": "2025-07-30T21:26:27.245097",
     "status": "completed"
    },
    "tags": []
   },
   "source": [
    "# Splitting Data and Setting Training Data Size"
   ]
  },
  {
   "cell_type": "code",
   "execution_count": 14,
   "id": "e993b61f-042d-41a6-8c81-f55681f86335",
   "metadata": {
    "execution": {
     "iopub.execute_input": "2025-07-30T21:26:27.314161Z",
     "iopub.status.busy": "2025-07-30T21:26:27.313460Z",
     "iopub.status.idle": "2025-07-30T21:26:27.327432Z",
     "shell.execute_reply": "2025-07-30T21:26:27.326465Z"
    },
    "papermill": {
     "duration": 0.039275,
     "end_time": "2025-07-30T21:26:27.329119",
     "exception": false,
     "start_time": "2025-07-30T21:26:27.289844",
     "status": "completed"
    },
    "tags": []
   },
   "outputs": [],
   "source": [
    "def sample_by_year_size(df,\n",
    "                        training_year: str,\n",
    "                        training_size: str,\n",
    "                        random_state: int = 42):\n",
    "    # --- parse training_year into a list of int years ---\n",
    "    if \"_\" in training_year:\n",
    "        start_str, end_str = training_year.split(\"_\", 1)\n",
    "        start = int(start_str)\n",
    "        end   = int(end_str) if len(end_str) == 4 else (int(end_str) + (start // 100)*100)\n",
    "        years = list(range(start, end + 1))\n",
    "    else:\n",
    "        years = [int(training_year)]\n",
    "\n",
    "    df = df[df[\"year\"].isin(years)].reset_index(drop=True)\n",
    "\n",
    "    # --- map training_size to total number of samples ---\n",
    "    total_map = {\"25k\": 25_000, \"5k\": 5_000, \"1k\": 1_000}\n",
    "    if training_size not in total_map:\n",
    "        return df  # e.g. \"all\"\n",
    "\n",
    "    total_samples = total_map[training_size]\n",
    "    n_years       = len(years)\n",
    "    base          = total_samples // n_years\n",
    "    remainder     = total_samples % n_years\n",
    "\n",
    "    # --- build a dict: year -> how many to sample ---\n",
    "    # give +1 to the first `remainder` years in ascending order\n",
    "    quotas = {\n",
    "        year: base + (1 if idx < remainder else 0)\n",
    "        for idx, year in enumerate(sorted(years))\n",
    "    }\n",
    "\n",
    "    # --- sample per‐year according to the quota dict ---\n",
    "    sampled = (\n",
    "        df\n",
    "        .groupby(\"year\", group_keys=False)\n",
    "        .apply(lambda grp: grp.sample(\n",
    "            n=min(len(grp), quotas[grp.name]),\n",
    "            random_state=random_state))\n",
    "        .reset_index(drop=True)\n",
    "    )\n",
    "\n",
    "    return sampled"
   ]
  },
  {
   "cell_type": "code",
   "execution_count": 15,
   "id": "c0ccd338-0e02-41f3-a09d-f56f9266e3fb",
   "metadata": {
    "execution": {
     "iopub.execute_input": "2025-07-30T21:26:27.377472Z",
     "iopub.status.busy": "2025-07-30T21:26:27.376773Z",
     "iopub.status.idle": "2025-07-30T21:26:27.382065Z",
     "shell.execute_reply": "2025-07-30T21:26:27.381016Z"
    },
    "papermill": {
     "duration": 0.031331,
     "end_time": "2025-07-30T21:26:27.384095",
     "exception": false,
     "start_time": "2025-07-30T21:26:27.352764",
     "status": "completed"
    },
    "tags": []
   },
   "outputs": [],
   "source": [
    "#universe[\"training_size\"]"
   ]
  },
  {
   "cell_type": "code",
   "execution_count": 16,
   "id": "ca707fd7-8047-4acd-bfa5-66248fbbf8e6",
   "metadata": {
    "execution": {
     "iopub.execute_input": "2025-07-30T21:26:27.433959Z",
     "iopub.status.busy": "2025-07-30T21:26:27.433035Z",
     "iopub.status.idle": "2025-07-30T21:26:27.438778Z",
     "shell.execute_reply": "2025-07-30T21:26:27.437707Z"
    },
    "papermill": {
     "duration": 0.032745,
     "end_time": "2025-07-30T21:26:27.440654",
     "exception": false,
     "start_time": "2025-07-30T21:26:27.407909",
     "status": "completed"
    },
    "tags": []
   },
   "outputs": [],
   "source": [
    "#universe[\"training_year\"]"
   ]
  },
  {
   "cell_type": "code",
   "execution_count": 17,
   "id": "aea9c6ef-6f46-42c8-85eb-5a62025c1508",
   "metadata": {
    "execution": {
     "iopub.execute_input": "2025-07-30T21:26:27.488925Z",
     "iopub.status.busy": "2025-07-30T21:26:27.488219Z",
     "iopub.status.idle": "2025-07-30T21:26:27.754939Z",
     "shell.execute_reply": "2025-07-30T21:26:27.753936Z"
    },
    "papermill": {
     "duration": 0.292754,
     "end_time": "2025-07-30T21:26:27.757046",
     "exception": false,
     "start_time": "2025-07-30T21:26:27.464292",
     "status": "completed"
    },
    "tags": []
   },
   "outputs": [],
   "source": [
    "siab_train = sample_by_year_size(siab,\n",
    "                               training_year=universe[\"training_year\"],\n",
    "                               training_size=universe[\"training_size\"])"
   ]
  },
  {
   "cell_type": "code",
   "execution_count": 18,
   "id": "8d3afb32-789d-442c-8d5d-9f5aa8dd2eed",
   "metadata": {
    "execution": {
     "iopub.execute_input": "2025-07-30T21:26:27.806696Z",
     "iopub.status.busy": "2025-07-30T21:26:27.806212Z",
     "iopub.status.idle": "2025-07-30T21:26:27.811309Z",
     "shell.execute_reply": "2025-07-30T21:26:27.810309Z"
    },
    "papermill": {
     "duration": 0.032499,
     "end_time": "2025-07-30T21:26:27.813220",
     "exception": false,
     "start_time": "2025-07-30T21:26:27.780721",
     "status": "completed"
    },
    "tags": []
   },
   "outputs": [],
   "source": [
    "#siab_train.shape"
   ]
  },
  {
   "cell_type": "code",
   "execution_count": 19,
   "id": "d582db68-1a4c-47fb-84fc-08518dc1975a",
   "metadata": {
    "execution": {
     "iopub.execute_input": "2025-07-30T21:26:27.864552Z",
     "iopub.status.busy": "2025-07-30T21:26:27.864204Z",
     "iopub.status.idle": "2025-07-30T21:26:27.869241Z",
     "shell.execute_reply": "2025-07-30T21:26:27.868280Z"
    },
    "papermill": {
     "duration": 0.032299,
     "end_time": "2025-07-30T21:26:27.871086",
     "exception": false,
     "start_time": "2025-07-30T21:26:27.838787",
     "status": "completed"
    },
    "tags": []
   },
   "outputs": [],
   "source": [
    "#display(siab_train.groupby(\"year\").size())"
   ]
  },
  {
   "cell_type": "code",
   "execution_count": 20,
   "id": "a561edb4-d032-42cb-8256-22eac1111c64",
   "metadata": {
    "execution": {
     "iopub.execute_input": "2025-07-30T21:26:27.919657Z",
     "iopub.status.busy": "2025-07-30T21:26:27.919128Z",
     "iopub.status.idle": "2025-07-30T21:26:28.186139Z",
     "shell.execute_reply": "2025-07-30T21:26:28.185107Z"
    },
    "papermill": {
     "duration": 0.293183,
     "end_time": "2025-07-30T21:26:28.188413",
     "exception": false,
     "start_time": "2025-07-30T21:26:27.895230",
     "status": "completed"
    },
    "tags": []
   },
   "outputs": [],
   "source": [
    "#siab_train = siab_s[siab_s.year < 2015]\n",
    "siab_calib = siab[siab.year == 2015]\n",
    "siab_test = siab[siab.year == 2016]"
   ]
  },
  {
   "cell_type": "code",
   "execution_count": 21,
   "id": "472de16f-c3db-4916-846b-1f0de9cf1746",
   "metadata": {
    "execution": {
     "iopub.execute_input": "2025-07-30T21:26:28.226795Z",
     "iopub.status.busy": "2025-07-30T21:26:28.226328Z",
     "iopub.status.idle": "2025-07-30T21:26:28.233568Z",
     "shell.execute_reply": "2025-07-30T21:26:28.232368Z"
    },
    "papermill": {
     "duration": 0.027767,
     "end_time": "2025-07-30T21:26:28.235523",
     "exception": false,
     "start_time": "2025-07-30T21:26:28.207756",
     "status": "completed"
    },
    "tags": []
   },
   "outputs": [],
   "source": [
    "X_train = siab_train.iloc[:,4:164]\n",
    "y_train = siab_train.iloc[:, [3]]"
   ]
  },
  {
   "cell_type": "code",
   "execution_count": 22,
   "id": "828c96af-f43a-4ed6-ba47-8ac73a47d56c",
   "metadata": {
    "execution": {
     "iopub.execute_input": "2025-07-30T21:26:28.283347Z",
     "iopub.status.busy": "2025-07-30T21:26:28.282465Z",
     "iopub.status.idle": "2025-07-30T21:26:28.335183Z",
     "shell.execute_reply": "2025-07-30T21:26:28.334096Z"
    },
    "papermill": {
     "duration": 0.077732,
     "end_time": "2025-07-30T21:26:28.336800",
     "exception": false,
     "start_time": "2025-07-30T21:26:28.259068",
     "status": "completed"
    },
    "tags": []
   },
   "outputs": [],
   "source": [
    "X_calib = siab_calib.iloc[:,4:164]\n",
    "y_calib = siab_calib.iloc[:, [3]]"
   ]
  },
  {
   "cell_type": "code",
   "execution_count": 23,
   "id": "c34be9c3-6bd6-476e-acd3-845840e303be",
   "metadata": {
    "execution": {
     "iopub.execute_input": "2025-07-30T21:26:28.386896Z",
     "iopub.status.busy": "2025-07-30T21:26:28.386391Z",
     "iopub.status.idle": "2025-07-30T21:26:28.443462Z",
     "shell.execute_reply": "2025-07-30T21:26:28.442520Z"
    },
    "papermill": {
     "duration": 0.083726,
     "end_time": "2025-07-30T21:26:28.445661",
     "exception": false,
     "start_time": "2025-07-30T21:26:28.361935",
     "status": "completed"
    },
    "tags": []
   },
   "outputs": [],
   "source": [
    "X_test = siab_test.iloc[:,4:164]\n",
    "y_true = siab_test.iloc[:, [3]]"
   ]
  },
  {
   "cell_type": "markdown",
   "id": "9901737e-04df-44f0-9100-f5ad144ed040",
   "metadata": {
    "papermill": {
     "duration": 0.022474,
     "end_time": "2025-07-30T21:26:28.489797",
     "exception": false,
     "start_time": "2025-07-30T21:26:28.467323",
     "status": "completed"
    },
    "tags": []
   },
   "source": [
    "# Splitting Data and Setting Training Data Size OLD VERSION"
   ]
  },
  {
   "cell_type": "code",
   "execution_count": 24,
   "id": "acbc8f7d-8fc8-4e86-8c59-5dcb0f58384b",
   "metadata": {
    "execution": {
     "iopub.execute_input": "2025-07-30T21:26:28.537723Z",
     "iopub.status.busy": "2025-07-30T21:26:28.537273Z",
     "iopub.status.idle": "2025-07-30T21:26:28.545236Z",
     "shell.execute_reply": "2025-07-30T21:26:28.544096Z"
    },
    "papermill": {
     "duration": 0.034126,
     "end_time": "2025-07-30T21:26:28.547238",
     "exception": false,
     "start_time": "2025-07-30T21:26:28.513112",
     "status": "completed"
    },
    "tags": []
   },
   "outputs": [],
   "source": [
    "#def sample_by_year(df, training_size, random_state=42):\n",
    "#    if training_size == \"2014\":\n",
    "#        return df[df[\"year\"] == 2014].reset_index(drop=True)\n",
    "#    \n",
    "#    size_map = {\n",
    "#        \"25k\": 5000,\n",
    "#        \"5k\": 1000,\n",
    "#        \"1k\": 200\n",
    "#    }\n",
    "#\n",
    "#    if training_size not in size_map:\n",
    "#        return df.reset_index(drop=True)  # use all data\n",
    "#\n",
    "#    n_per_year = size_map[training_size]\n",
    "#    grouped = df.groupby(\"year\")\n",
    "#    sampled = grouped.apply(lambda x: x.sample(n=min(n_per_year, len(x)), random_state=random_state))\n",
    "#    return sampled.reset_index(drop=True)"
   ]
  },
  {
   "cell_type": "code",
   "execution_count": 25,
   "id": "6d931f52-beaf-43ff-9e78-9d44a448d54e",
   "metadata": {
    "execution": {
     "iopub.execute_input": "2025-07-30T21:26:28.598713Z",
     "iopub.status.busy": "2025-07-30T21:26:28.598147Z",
     "iopub.status.idle": "2025-07-30T21:26:28.603368Z",
     "shell.execute_reply": "2025-07-30T21:26:28.602405Z"
    },
    "papermill": {
     "duration": 0.032524,
     "end_time": "2025-07-30T21:26:28.605070",
     "exception": false,
     "start_time": "2025-07-30T21:26:28.572546",
     "status": "completed"
    },
    "tags": []
   },
   "outputs": [],
   "source": [
    "#siab_s = sample_by_year(siab, universe[\"training_size\"])"
   ]
  },
  {
   "cell_type": "code",
   "execution_count": 26,
   "id": "5db0a40e-a4e2-4920-be85-b12ae061d70d",
   "metadata": {
    "execution": {
     "iopub.execute_input": "2025-07-30T21:26:28.657159Z",
     "iopub.status.busy": "2025-07-30T21:26:28.656658Z",
     "iopub.status.idle": "2025-07-30T21:26:28.663160Z",
     "shell.execute_reply": "2025-07-30T21:26:28.662106Z"
    },
    "papermill": {
     "duration": 0.033973,
     "end_time": "2025-07-30T21:26:28.665198",
     "exception": false,
     "start_time": "2025-07-30T21:26:28.631225",
     "status": "completed"
    },
    "tags": []
   },
   "outputs": [],
   "source": [
    "#display(siab_s.groupby(\"year\").size())"
   ]
  },
  {
   "cell_type": "code",
   "execution_count": 27,
   "id": "e6c733c5",
   "metadata": {
    "execution": {
     "iopub.execute_input": "2025-07-30T21:26:28.717783Z",
     "iopub.status.busy": "2025-07-30T21:26:28.717268Z",
     "iopub.status.idle": "2025-07-30T21:26:28.813820Z",
     "shell.execute_reply": "2025-07-30T21:26:28.812906Z"
    },
    "papermill": {
     "duration": 0.124978,
     "end_time": "2025-07-30T21:26:28.815684",
     "exception": false,
     "start_time": "2025-07-30T21:26:28.690706",
     "status": "completed"
    },
    "tags": []
   },
   "outputs": [],
   "source": [
    "# Auxiliary data needed downstream in the pipeline\n",
    "\n",
    "org_train = X_train.copy()\n",
    "org_test = X_test.copy()\n",
    "org_calib = X_calib.copy()"
   ]
  },
  {
   "cell_type": "code",
   "execution_count": 28,
   "id": "1466abac-c6da-4492-a62f-4240ae3783af",
   "metadata": {
    "execution": {
     "iopub.execute_input": "2025-07-30T21:26:28.865918Z",
     "iopub.status.busy": "2025-07-30T21:26:28.865414Z",
     "iopub.status.idle": "2025-07-30T21:26:28.871236Z",
     "shell.execute_reply": "2025-07-30T21:26:28.870258Z"
    },
    "papermill": {
     "duration": 0.032968,
     "end_time": "2025-07-30T21:26:28.873046",
     "exception": false,
     "start_time": "2025-07-30T21:26:28.840078",
     "status": "completed"
    },
    "tags": []
   },
   "outputs": [],
   "source": [
    "# put in other script?\n",
    "# Group sizes\n",
    "\n",
    "#def calculate_percentages(df, df_name):\n",
    "#    total_entries = len(df)\n",
    "#\n",
    "#    female_pct = (df['frau1'] == 1).mean() * 100\n",
    "#    non_german_pct = ((df['maxdeutsch1'] == 0) & (df['maxdeutsch.Missing.'] == 0)).mean() * 100\n",
    "#    non_german_male_pct = ((df['frau1'] == 0) & (df['maxdeutsch1'] == 0) & (df['maxdeutsch.Missing.'] == 0)).mean() * 100\n",
    "#    non_german_female_pct = ((df['frau1'] == 1) & (df['maxdeutsch1'] == 0) & (df['maxdeutsch.Missing.'] == 0)).mean() * 100\n",
    "#\n",
    "#    print(f\"--- {df_name} ---\")\n",
    "#    print(f\"Female: {female_pct:.2f}%\")\n",
    "#    print(f\"Non-German: {non_german_pct:.2f}%\")\n",
    "#    print(f\"Non-German Male: {non_german_male_pct:.2f}%\")\n",
    "#    print(f\"Non-German Female: {non_german_female_pct:.2f}%\\n\")\n",
    "#\n",
    "## Calculate for each DataFrame\n",
    "#calculate_percentages(siab_calib, \"siab_calib\")\n",
    "#calculate_percentages(siab_test, \"siab_test\")\n",
    "#calculate_percentages(siab_train, \"siab_train\")"
   ]
  },
  {
   "cell_type": "markdown",
   "id": "0a4a1b33",
   "metadata": {
    "papermill": {
     "duration": 0.023809,
     "end_time": "2025-07-30T21:26:28.921996",
     "exception": false,
     "start_time": "2025-07-30T21:26:28.898187",
     "status": "completed"
    },
    "tags": []
   },
   "source": [
    "# Preprocessing Data"
   ]
  },
  {
   "cell_type": "code",
   "execution_count": 29,
   "id": "ca879031",
   "metadata": {
    "execution": {
     "iopub.execute_input": "2025-07-30T21:26:28.971854Z",
     "iopub.status.busy": "2025-07-30T21:26:28.971280Z",
     "iopub.status.idle": "2025-07-30T21:26:28.977777Z",
     "shell.execute_reply": "2025-07-30T21:26:28.976738Z"
    },
    "papermill": {
     "duration": 0.033497,
     "end_time": "2025-07-30T21:26:28.979611",
     "exception": false,
     "start_time": "2025-07-30T21:26:28.946114",
     "status": "completed"
    },
    "tags": []
   },
   "outputs": [],
   "source": [
    "# EXCLUDE PROTECTED FEATURES\n",
    "# ----------------------\n",
    "# \"exclude_features\": \"none\", # \"nationality\", \"sex\", \"nationality-sex\"\n",
    "\n",
    "excluded_features = universe[\"exclude_features\"].split(\"-\") # split, e.g.: \"nationality-sex\" -> [\"nationality\", \"sex\"]\n",
    "excluded_features_dictionary = {\n",
    "    \"nationality\": [\"maxdeutsch1\", \"maxdeutsch.Missing.\"],\n",
    "    \"sex\": [\"frau1\"],\n",
    "    \"age\": [\"age\"],\n",
    "}\n"
   ]
  },
  {
   "cell_type": "code",
   "execution_count": 30,
   "id": "b745ac60",
   "metadata": {
    "execution": {
     "iopub.execute_input": "2025-07-30T21:26:29.037560Z",
     "iopub.status.busy": "2025-07-30T21:26:29.037020Z",
     "iopub.status.idle": "2025-07-30T21:26:29.043595Z",
     "shell.execute_reply": "2025-07-30T21:26:29.042592Z"
    },
    "papermill": {
     "duration": 0.040648,
     "end_time": "2025-07-30T21:26:29.045463",
     "exception": false,
     "start_time": "2025-07-30T21:26:29.004815",
     "status": "completed"
    },
    "tags": []
   },
   "outputs": [],
   "source": [
    "# Code nice names to column names\n",
    "\n",
    "excluded_features_columns = [\n",
    "    excluded_features_dictionary[f] for f in excluded_features if len(f) > 0 and f != \"none\"\n",
    "]"
   ]
  },
  {
   "cell_type": "code",
   "execution_count": 31,
   "id": "f84f73a2",
   "metadata": {
    "execution": {
     "iopub.execute_input": "2025-07-30T21:26:29.095897Z",
     "iopub.status.busy": "2025-07-30T21:26:29.095541Z",
     "iopub.status.idle": "2025-07-30T21:26:29.101499Z",
     "shell.execute_reply": "2025-07-30T21:26:29.100528Z"
    },
    "papermill": {
     "duration": 0.03321,
     "end_time": "2025-07-30T21:26:29.103512",
     "exception": false,
     "start_time": "2025-07-30T21:26:29.070302",
     "status": "completed"
    },
    "tags": []
   },
   "outputs": [],
   "source": [
    "from utils import flatten_once\n",
    "\n",
    "excluded_features_columns = flatten_once(excluded_features_columns)"
   ]
  },
  {
   "cell_type": "code",
   "execution_count": 32,
   "id": "884dea22",
   "metadata": {
    "execution": {
     "iopub.execute_input": "2025-07-30T21:26:29.154898Z",
     "iopub.status.busy": "2025-07-30T21:26:29.154405Z",
     "iopub.status.idle": "2025-07-30T21:26:29.160232Z",
     "shell.execute_reply": "2025-07-30T21:26:29.159239Z"
    },
    "papermill": {
     "duration": 0.033333,
     "end_time": "2025-07-30T21:26:29.162965",
     "exception": false,
     "start_time": "2025-07-30T21:26:29.129632",
     "status": "completed"
    },
    "tags": []
   },
   "outputs": [],
   "source": [
    "if len(excluded_features_columns) > 0:\n",
    "    print(f\"Dropping features: {excluded_features_columns}\")\n",
    "    X_train.drop(excluded_features_columns, axis=1, inplace=True)"
   ]
  },
  {
   "cell_type": "code",
   "execution_count": 33,
   "id": "95ab8b16",
   "metadata": {
    "execution": {
     "iopub.execute_input": "2025-07-30T21:26:29.228403Z",
     "iopub.status.busy": "2025-07-30T21:26:29.227627Z",
     "iopub.status.idle": "2025-07-30T21:26:29.233923Z",
     "shell.execute_reply": "2025-07-30T21:26:29.232815Z"
    },
    "papermill": {
     "duration": 0.032175,
     "end_time": "2025-07-30T21:26:29.235815",
     "exception": false,
     "start_time": "2025-07-30T21:26:29.203640",
     "status": "completed"
    },
    "tags": []
   },
   "outputs": [],
   "source": [
    "if len(excluded_features_columns) > 0:\n",
    "    print(f\"Dropping features: {excluded_features_columns}\")\n",
    "    X_test.drop(excluded_features_columns, axis=1, inplace=True)"
   ]
  },
  {
   "cell_type": "code",
   "execution_count": 34,
   "id": "1853aaf5-fb9f-46cb-a2b5-8ea4ae2237e4",
   "metadata": {
    "execution": {
     "iopub.execute_input": "2025-07-30T21:26:29.287932Z",
     "iopub.status.busy": "2025-07-30T21:26:29.287062Z",
     "iopub.status.idle": "2025-07-30T21:26:29.293552Z",
     "shell.execute_reply": "2025-07-30T21:26:29.292452Z"
    },
    "papermill": {
     "duration": 0.032928,
     "end_time": "2025-07-30T21:26:29.295162",
     "exception": false,
     "start_time": "2025-07-30T21:26:29.262234",
     "status": "completed"
    },
    "tags": []
   },
   "outputs": [],
   "source": [
    "if len(excluded_features_columns) > 0:\n",
    "    print(f\"Dropping features: {excluded_features_columns}\")\n",
    "    X_calib.drop(excluded_features_columns, axis=1, inplace=True)"
   ]
  },
  {
   "cell_type": "code",
   "execution_count": 35,
   "id": "6727d079-03e5-481e-9d38-292a90b7a0a8",
   "metadata": {
    "execution": {
     "iopub.execute_input": "2025-07-30T21:26:29.345582Z",
     "iopub.status.busy": "2025-07-30T21:26:29.345108Z",
     "iopub.status.idle": "2025-07-30T21:26:29.350505Z",
     "shell.execute_reply": "2025-07-30T21:26:29.349491Z"
    },
    "papermill": {
     "duration": 0.03257,
     "end_time": "2025-07-30T21:26:29.352178",
     "exception": false,
     "start_time": "2025-07-30T21:26:29.319608",
     "status": "completed"
    },
    "tags": []
   },
   "outputs": [],
   "source": [
    "# SPLIT & STRATIFY DATA\n",
    "# ----------------------"
   ]
  },
  {
   "cell_type": "code",
   "execution_count": 36,
   "id": "76c4dc6d",
   "metadata": {
    "execution": {
     "iopub.execute_input": "2025-07-30T21:26:29.404097Z",
     "iopub.status.busy": "2025-07-30T21:26:29.403581Z",
     "iopub.status.idle": "2025-07-30T21:26:29.409311Z",
     "shell.execute_reply": "2025-07-30T21:26:29.408240Z"
    },
    "papermill": {
     "duration": 0.033481,
     "end_time": "2025-07-30T21:26:29.411034",
     "exception": false,
     "start_time": "2025-07-30T21:26:29.377553",
     "status": "completed"
    },
    "tags": []
   },
   "outputs": [],
   "source": [
    "# EXCLUDE CERTAIN SUBGROUPS\n",
    "# ----------------------\n",
    "\n",
    "mode = universe.get(\"exclude_subgroups\", \"keep-all\") \n",
    "# Fetches the exclude_subgroups setting from the universe dict.\n",
    "# Defaults to \"keep-all\" if the key is missing."
   ]
  },
  {
   "cell_type": "code",
   "execution_count": 37,
   "id": "21994072",
   "metadata": {
    "execution": {
     "iopub.execute_input": "2025-07-30T21:26:29.463183Z",
     "iopub.status.busy": "2025-07-30T21:26:29.462024Z",
     "iopub.status.idle": "2025-07-30T21:26:29.469749Z",
     "shell.execute_reply": "2025-07-30T21:26:29.468686Z"
    },
    "papermill": {
     "duration": 0.035556,
     "end_time": "2025-07-30T21:26:29.471652",
     "exception": false,
     "start_time": "2025-07-30T21:26:29.436096",
     "status": "completed"
    },
    "tags": []
   },
   "outputs": [],
   "source": [
    "if mode == \"keep-all\":\n",
    "    keep_mask = pd.Series(True, index=org_train.index)\n",
    "\n",
    "# org_train contains the original feature columns from features_org (in Simson)\n",
    "# features_org contains unprocessed features, for me X_train at beginning ???\n",
    "# For keep-all, creates a boolean Series (keep_mask) of all True, so no rows are removed.\n",
    "\n",
    "elif mode == \"drop-non-german\":\n",
    "    keep_mask = org_train[\"maxdeutsch1\"] == 1 # ??? what about missing values?\n",
    "\n",
    "else:\n",
    "    raise ValueError(f\"Unsupported mode for exclude_subgroups: {mode}\")\n"
   ]
  },
  {
   "cell_type": "code",
   "execution_count": 38,
   "id": "71651440",
   "metadata": {
    "execution": {
     "iopub.execute_input": "2025-07-30T21:26:29.525171Z",
     "iopub.status.busy": "2025-07-30T21:26:29.524696Z",
     "iopub.status.idle": "2025-07-30T21:26:29.532208Z",
     "shell.execute_reply": "2025-07-30T21:26:29.531228Z"
    },
    "papermill": {
     "duration": 0.035657,
     "end_time": "2025-07-30T21:26:29.533932",
     "exception": false,
     "start_time": "2025-07-30T21:26:29.498275",
     "status": "completed"
    },
    "tags": []
   },
   "outputs": [
    {
     "name": "stdout",
     "output_type": "stream",
     "text": [
      "Dropping 147 rows (14.70%) where mode='drop-non-german'\n"
     ]
    }
   ],
   "source": [
    "n_drop = (~keep_mask).sum() # Calculates how many rows are set to be dropped\n",
    "if n_drop > 0:\n",
    "    pct = n_drop / len(keep_mask) * 100\n",
    "    print(f\"Dropping {n_drop} rows ({pct:.2f}%) where mode='{mode}'\")"
   ]
  },
  {
   "cell_type": "code",
   "execution_count": 39,
   "id": "5fb8eee5",
   "metadata": {
    "execution": {
     "iopub.execute_input": "2025-07-30T21:26:29.589831Z",
     "iopub.status.busy": "2025-07-30T21:26:29.589161Z",
     "iopub.status.idle": "2025-07-30T21:26:29.595722Z",
     "shell.execute_reply": "2025-07-30T21:26:29.594598Z"
    },
    "papermill": {
     "duration": 0.037061,
     "end_time": "2025-07-30T21:26:29.597776",
     "exception": false,
     "start_time": "2025-07-30T21:26:29.560715",
     "status": "completed"
    },
    "tags": []
   },
   "outputs": [],
   "source": [
    "X_train = X_train[keep_mask]"
   ]
  },
  {
   "cell_type": "code",
   "execution_count": 40,
   "id": "b202bb3a",
   "metadata": {
    "execution": {
     "iopub.execute_input": "2025-07-30T21:26:29.650484Z",
     "iopub.status.busy": "2025-07-30T21:26:29.649816Z",
     "iopub.status.idle": "2025-07-30T21:26:29.656085Z",
     "shell.execute_reply": "2025-07-30T21:26:29.655169Z"
    },
    "papermill": {
     "duration": 0.033973,
     "end_time": "2025-07-30T21:26:29.658028",
     "exception": false,
     "start_time": "2025-07-30T21:26:29.624055",
     "status": "completed"
    },
    "tags": []
   },
   "outputs": [],
   "source": [
    "y_train = y_train[keep_mask]"
   ]
  },
  {
   "cell_type": "markdown",
   "id": "493e2ac3",
   "metadata": {
    "papermill": {
     "duration": 0.025259,
     "end_time": "2025-07-30T21:26:29.709803",
     "exception": false,
     "start_time": "2025-07-30T21:26:29.684544",
     "status": "completed"
    },
    "tags": []
   },
   "source": [
    "# Model Training"
   ]
  },
  {
   "cell_type": "code",
   "execution_count": 41,
   "id": "679e1268",
   "metadata": {
    "execution": {
     "iopub.execute_input": "2025-07-30T21:26:29.760976Z",
     "iopub.status.busy": "2025-07-30T21:26:29.760022Z",
     "iopub.status.idle": "2025-07-30T21:26:29.867175Z",
     "shell.execute_reply": "2025-07-30T21:26:29.866131Z"
    },
    "papermill": {
     "duration": 0.13541,
     "end_time": "2025-07-30T21:26:29.869379",
     "exception": false,
     "start_time": "2025-07-30T21:26:29.733969",
     "status": "completed"
    },
    "tags": []
   },
   "outputs": [],
   "source": [
    "from sklearn.linear_model import LogisticRegression\n",
    "from sklearn.ensemble import GradientBoostingClassifier, RandomForestClassifier\n",
    "\n",
    "if (universe[\"model\"] == \"logreg\"):\n",
    "    model = LogisticRegression() #penalty=\"none\") #, solver=\"newton-cg\", max_iter=1) # include random_state=19 ?\n",
    "elif (universe[\"model\"] == \"penalized_logreg\"):\n",
    "    model = LogisticRegression(penalty=\"l2\", C=1.0) #, solver=\"newton-cg\", max_iter=1)\n",
    "elif (universe[\"model\"] == \"rf\"):\n",
    "    model = RandomForestClassifier(n_estimators=100, n_jobs=-1)\n",
    "elif (universe[\"model\"] == \"gbm\"):\n",
    "    model = GradientBoostingClassifier()\n",
    "elif (universe[\"model\"] == \"elasticnet\"):\n",
    "    model = LogisticRegression(penalty = 'elasticnet', solver = 'saga', l1_ratio = 0.5, max_iter=5000) # which solver to use?\n",
    "else:\n",
    "    raise \"Unsupported universe.model\""
   ]
  },
  {
   "cell_type": "code",
   "execution_count": 42,
   "id": "0cc8f744",
   "metadata": {
    "execution": {
     "iopub.execute_input": "2025-07-30T21:26:29.923388Z",
     "iopub.status.busy": "2025-07-30T21:26:29.922718Z",
     "iopub.status.idle": "2025-07-30T21:26:29.928819Z",
     "shell.execute_reply": "2025-07-30T21:26:29.927925Z"
    },
    "papermill": {
     "duration": 0.035283,
     "end_time": "2025-07-30T21:26:29.930792",
     "exception": false,
     "start_time": "2025-07-30T21:26:29.895509",
     "status": "completed"
    },
    "tags": []
   },
   "outputs": [],
   "source": [
    "import numpy as np\n",
    "from sklearn.pipeline import Pipeline\n",
    "from sklearn.preprocessing import StandardScaler\n",
    "\n",
    "model = Pipeline([\n",
    "    #(\"continuous_processor\", continuous_processor),\n",
    "    #(\"categorical_preprocessor\", categorical_preprocessor),\n",
    "    (\"scale\", StandardScaler() if universe[\"scale\"] == \"scale\" else None), \n",
    "    (\"model\", model),\n",
    "])"
   ]
  },
  {
   "cell_type": "code",
   "execution_count": 43,
   "id": "9442c04d",
   "metadata": {
    "execution": {
     "iopub.execute_input": "2025-07-30T21:26:29.984936Z",
     "iopub.status.busy": "2025-07-30T21:26:29.984462Z",
     "iopub.status.idle": "2025-07-30T21:26:31.778448Z",
     "shell.execute_reply": "2025-07-30T21:26:31.777449Z"
    },
    "papermill": {
     "duration": 1.82226,
     "end_time": "2025-07-30T21:26:31.779912",
     "exception": false,
     "start_time": "2025-07-30T21:26:29.957652",
     "status": "completed"
    },
    "tags": []
   },
   "outputs": [
    {
     "data": {
      "text/html": [
       "<style>#sk-container-id-1 {color: black;background-color: white;}#sk-container-id-1 pre{padding: 0;}#sk-container-id-1 div.sk-toggleable {background-color: white;}#sk-container-id-1 label.sk-toggleable__label {cursor: pointer;display: block;width: 100%;margin-bottom: 0;padding: 0.3em;box-sizing: border-box;text-align: center;}#sk-container-id-1 label.sk-toggleable__label-arrow:before {content: \"▸\";float: left;margin-right: 0.25em;color: #696969;}#sk-container-id-1 label.sk-toggleable__label-arrow:hover:before {color: black;}#sk-container-id-1 div.sk-estimator:hover label.sk-toggleable__label-arrow:before {color: black;}#sk-container-id-1 div.sk-toggleable__content {max-height: 0;max-width: 0;overflow: hidden;text-align: left;background-color: #f0f8ff;}#sk-container-id-1 div.sk-toggleable__content pre {margin: 0.2em;color: black;border-radius: 0.25em;background-color: #f0f8ff;}#sk-container-id-1 input.sk-toggleable__control:checked~div.sk-toggleable__content {max-height: 200px;max-width: 100%;overflow: auto;}#sk-container-id-1 input.sk-toggleable__control:checked~label.sk-toggleable__label-arrow:before {content: \"▾\";}#sk-container-id-1 div.sk-estimator input.sk-toggleable__control:checked~label.sk-toggleable__label {background-color: #d4ebff;}#sk-container-id-1 div.sk-label input.sk-toggleable__control:checked~label.sk-toggleable__label {background-color: #d4ebff;}#sk-container-id-1 input.sk-hidden--visually {border: 0;clip: rect(1px 1px 1px 1px);clip: rect(1px, 1px, 1px, 1px);height: 1px;margin: -1px;overflow: hidden;padding: 0;position: absolute;width: 1px;}#sk-container-id-1 div.sk-estimator {font-family: monospace;background-color: #f0f8ff;border: 1px dotted black;border-radius: 0.25em;box-sizing: border-box;margin-bottom: 0.5em;}#sk-container-id-1 div.sk-estimator:hover {background-color: #d4ebff;}#sk-container-id-1 div.sk-parallel-item::after {content: \"\";width: 100%;border-bottom: 1px solid gray;flex-grow: 1;}#sk-container-id-1 div.sk-label:hover label.sk-toggleable__label {background-color: #d4ebff;}#sk-container-id-1 div.sk-serial::before {content: \"\";position: absolute;border-left: 1px solid gray;box-sizing: border-box;top: 0;bottom: 0;left: 50%;z-index: 0;}#sk-container-id-1 div.sk-serial {display: flex;flex-direction: column;align-items: center;background-color: white;padding-right: 0.2em;padding-left: 0.2em;position: relative;}#sk-container-id-1 div.sk-item {position: relative;z-index: 1;}#sk-container-id-1 div.sk-parallel {display: flex;align-items: stretch;justify-content: center;background-color: white;position: relative;}#sk-container-id-1 div.sk-item::before, #sk-container-id-1 div.sk-parallel-item::before {content: \"\";position: absolute;border-left: 1px solid gray;box-sizing: border-box;top: 0;bottom: 0;left: 50%;z-index: -1;}#sk-container-id-1 div.sk-parallel-item {display: flex;flex-direction: column;z-index: 1;position: relative;background-color: white;}#sk-container-id-1 div.sk-parallel-item:first-child::after {align-self: flex-end;width: 50%;}#sk-container-id-1 div.sk-parallel-item:last-child::after {align-self: flex-start;width: 50%;}#sk-container-id-1 div.sk-parallel-item:only-child::after {width: 0;}#sk-container-id-1 div.sk-dashed-wrapped {border: 1px dashed gray;margin: 0 0.4em 0.5em 0.4em;box-sizing: border-box;padding-bottom: 0.4em;background-color: white;}#sk-container-id-1 div.sk-label label {font-family: monospace;font-weight: bold;display: inline-block;line-height: 1.2em;}#sk-container-id-1 div.sk-label-container {text-align: center;}#sk-container-id-1 div.sk-container {/* jupyter's `normalize.less` sets `[hidden] { display: none; }` but bootstrap.min.css set `[hidden] { display: none !important; }` so we also need the `!important` here to be able to override the default hidden behavior on the sphinx rendered scikit-learn.org. See: https://github.com/scikit-learn/scikit-learn/issues/21755 */display: inline-block !important;position: relative;}#sk-container-id-1 div.sk-text-repr-fallback {display: none;}</style><div id=\"sk-container-id-1\" class=\"sk-top-container\"><div class=\"sk-text-repr-fallback\"><pre>Pipeline(steps=[(&#x27;scale&#x27;, StandardScaler()),\n",
       "                (&#x27;model&#x27;,\n",
       "                 LogisticRegression(l1_ratio=0.5, max_iter=5000,\n",
       "                                    penalty=&#x27;elasticnet&#x27;, solver=&#x27;saga&#x27;))])</pre><b>In a Jupyter environment, please rerun this cell to show the HTML representation or trust the notebook. <br />On GitHub, the HTML representation is unable to render, please try loading this page with nbviewer.org.</b></div><div class=\"sk-container\" hidden><div class=\"sk-item sk-dashed-wrapped\"><div class=\"sk-label-container\"><div class=\"sk-label sk-toggleable\"><input class=\"sk-toggleable__control sk-hidden--visually\" id=\"sk-estimator-id-1\" type=\"checkbox\" ><label for=\"sk-estimator-id-1\" class=\"sk-toggleable__label sk-toggleable__label-arrow\">Pipeline</label><div class=\"sk-toggleable__content\"><pre>Pipeline(steps=[(&#x27;scale&#x27;, StandardScaler()),\n",
       "                (&#x27;model&#x27;,\n",
       "                 LogisticRegression(l1_ratio=0.5, max_iter=5000,\n",
       "                                    penalty=&#x27;elasticnet&#x27;, solver=&#x27;saga&#x27;))])</pre></div></div></div><div class=\"sk-serial\"><div class=\"sk-item\"><div class=\"sk-estimator sk-toggleable\"><input class=\"sk-toggleable__control sk-hidden--visually\" id=\"sk-estimator-id-2\" type=\"checkbox\" ><label for=\"sk-estimator-id-2\" class=\"sk-toggleable__label sk-toggleable__label-arrow\">StandardScaler</label><div class=\"sk-toggleable__content\"><pre>StandardScaler()</pre></div></div></div><div class=\"sk-item\"><div class=\"sk-estimator sk-toggleable\"><input class=\"sk-toggleable__control sk-hidden--visually\" id=\"sk-estimator-id-3\" type=\"checkbox\" ><label for=\"sk-estimator-id-3\" class=\"sk-toggleable__label sk-toggleable__label-arrow\">LogisticRegression</label><div class=\"sk-toggleable__content\"><pre>LogisticRegression(l1_ratio=0.5, max_iter=5000, penalty=&#x27;elasticnet&#x27;,\n",
       "                   solver=&#x27;saga&#x27;)</pre></div></div></div></div></div></div></div>"
      ],
      "text/plain": [
       "Pipeline(steps=[('scale', StandardScaler()),\n",
       "                ('model',\n",
       "                 LogisticRegression(l1_ratio=0.5, max_iter=5000,\n",
       "                                    penalty='elasticnet', solver='saga'))])"
      ]
     },
     "execution_count": 43,
     "metadata": {},
     "output_type": "execute_result"
    }
   ],
   "source": [
    "model.fit(X_train, y_train.values.ravel())"
   ]
  },
  {
   "cell_type": "code",
   "execution_count": 44,
   "id": "af59f8c0",
   "metadata": {
    "execution": {
     "iopub.execute_input": "2025-07-30T21:26:31.826479Z",
     "iopub.status.busy": "2025-07-30T21:26:31.826016Z",
     "iopub.status.idle": "2025-07-30T21:26:31.831254Z",
     "shell.execute_reply": "2025-07-30T21:26:31.830257Z"
    },
    "papermill": {
     "duration": 0.029318,
     "end_time": "2025-07-30T21:26:31.832904",
     "exception": false,
     "start_time": "2025-07-30T21:26:31.803586",
     "status": "completed"
    },
    "tags": []
   },
   "outputs": [],
   "source": [
    "from fairness_multiverse.universe import predict_w_threshold"
   ]
  },
  {
   "cell_type": "code",
   "execution_count": 45,
   "id": "a7cf2e16",
   "metadata": {
    "execution": {
     "iopub.execute_input": "2025-07-30T21:26:31.877436Z",
     "iopub.status.busy": "2025-07-30T21:26:31.876984Z",
     "iopub.status.idle": "2025-07-30T21:26:32.072530Z",
     "shell.execute_reply": "2025-07-30T21:26:32.071583Z"
    },
    "papermill": {
     "duration": 0.219134,
     "end_time": "2025-07-30T21:26:32.074154",
     "exception": false,
     "start_time": "2025-07-30T21:26:31.855020",
     "status": "completed"
    },
    "tags": []
   },
   "outputs": [
    {
     "data": {
      "text/plain": [
       "0.8131869356816408"
      ]
     },
     "execution_count": 45,
     "metadata": {},
     "output_type": "execute_result"
    }
   ],
   "source": [
    "probs_test = model.predict_proba(X_test)\n",
    "\n",
    "'''\n",
    "Below code returns a boolean array (or binary 0/1 array depending on how it’s used) where each element \n",
    "is True if the probability of class 1 is greater than or equal to the threshold, and False otherwise.\n",
    "'''\n",
    "y_pred_default = predict_w_threshold(probs_test, 0.5)\n",
    "\n",
    "from sklearn.metrics import accuracy_score\n",
    "\n",
    "# Naive prediction\n",
    "accuracy_score(y_true = y_true, y_pred = y_pred_default)"
   ]
  },
  {
   "cell_type": "code",
   "execution_count": 46,
   "id": "081964c3",
   "metadata": {
    "execution": {
     "iopub.execute_input": "2025-07-30T21:26:32.121925Z",
     "iopub.status.busy": "2025-07-30T21:26:32.121330Z",
     "iopub.status.idle": "2025-07-30T21:26:32.304072Z",
     "shell.execute_reply": "2025-07-30T21:26:32.303218Z"
    },
    "papermill": {
     "duration": 0.207524,
     "end_time": "2025-07-30T21:26:32.305631",
     "exception": false,
     "start_time": "2025-07-30T21:26:32.098107",
     "status": "completed"
    },
    "tags": []
   },
   "outputs": [
    {
     "data": {
      "text/plain": [
       "array([0, 0, 0, ..., 0, 0, 0])"
      ]
     },
     "execution_count": 46,
     "metadata": {},
     "output_type": "execute_result"
    }
   ],
   "source": [
    "model.predict(X_test)"
   ]
  },
  {
   "cell_type": "markdown",
   "id": "56c9705b",
   "metadata": {
    "papermill": {
     "duration": 0.021656,
     "end_time": "2025-07-30T21:26:32.349720",
     "exception": false,
     "start_time": "2025-07-30T21:26:32.328064",
     "status": "completed"
    },
    "tags": []
   },
   "source": [
    "# Conformal Prediction"
   ]
  },
  {
   "cell_type": "code",
   "execution_count": 47,
   "id": "160ec6ff",
   "metadata": {
    "execution": {
     "iopub.execute_input": "2025-07-30T21:26:32.394968Z",
     "iopub.status.busy": "2025-07-30T21:26:32.394327Z",
     "iopub.status.idle": "2025-07-30T21:26:32.399424Z",
     "shell.execute_reply": "2025-07-30T21:26:32.398440Z"
    },
    "papermill": {
     "duration": 0.029702,
     "end_time": "2025-07-30T21:26:32.401109",
     "exception": false,
     "start_time": "2025-07-30T21:26:32.371407",
     "status": "completed"
    },
    "tags": []
   },
   "outputs": [],
   "source": [
    "# Miscoverage level for conformal prediction (10% allowed error rate => 90% target coverage)\n",
    "alpha = 0.1"
   ]
  },
  {
   "cell_type": "code",
   "execution_count": 48,
   "id": "eadf4555-3dd3-440e-8e35-f82a4ad9f855",
   "metadata": {
    "execution": {
     "iopub.execute_input": "2025-07-30T21:26:32.446636Z",
     "iopub.status.busy": "2025-07-30T21:26:32.446045Z",
     "iopub.status.idle": "2025-07-30T21:26:32.661407Z",
     "shell.execute_reply": "2025-07-30T21:26:32.660389Z"
    },
    "papermill": {
     "duration": 0.239846,
     "end_time": "2025-07-30T21:26:32.663253",
     "exception": false,
     "start_time": "2025-07-30T21:26:32.423407",
     "status": "completed"
    },
    "tags": []
   },
   "outputs": [],
   "source": [
    "probs_calib = model.predict_proba(X_calib)"
   ]
  },
  {
   "cell_type": "code",
   "execution_count": 49,
   "id": "2ed93547-6d5d-4983-9b36-1ecb300da49a",
   "metadata": {
    "execution": {
     "iopub.execute_input": "2025-07-30T21:26:32.710411Z",
     "iopub.status.busy": "2025-07-30T21:26:32.709538Z",
     "iopub.status.idle": "2025-07-30T21:26:32.715686Z",
     "shell.execute_reply": "2025-07-30T21:26:32.714758Z"
    },
    "papermill": {
     "duration": 0.03189,
     "end_time": "2025-07-30T21:26:32.717684",
     "exception": false,
     "start_time": "2025-07-30T21:26:32.685794",
     "status": "completed"
    },
    "tags": []
   },
   "outputs": [],
   "source": [
    "y_calib = y_calib.values.ravel().astype(int)"
   ]
  },
  {
   "cell_type": "code",
   "execution_count": 50,
   "id": "65d1320d-f588-4b38-9072-62af1ae97f7d",
   "metadata": {
    "execution": {
     "iopub.execute_input": "2025-07-30T21:26:32.778799Z",
     "iopub.status.busy": "2025-07-30T21:26:32.778110Z",
     "iopub.status.idle": "2025-07-30T21:26:32.785840Z",
     "shell.execute_reply": "2025-07-30T21:26:32.784854Z"
    },
    "papermill": {
     "duration": 0.039964,
     "end_time": "2025-07-30T21:26:32.787848",
     "exception": false,
     "start_time": "2025-07-30T21:26:32.747884",
     "status": "completed"
    },
    "tags": []
   },
   "outputs": [],
   "source": [
    "from fairness_multiverse.conformal import compute_nc_scores\n",
    "\n",
    "# Compute nonconformity scores on calibration set (1 - probability of true class)\n",
    "nc_scores = compute_nc_scores(probs_calib, y_calib)"
   ]
  },
  {
   "cell_type": "code",
   "execution_count": 51,
   "id": "df3b8ca3-53b7-43d5-9667-7c85da7aeda2",
   "metadata": {
    "execution": {
     "iopub.execute_input": "2025-07-30T21:26:32.849468Z",
     "iopub.status.busy": "2025-07-30T21:26:32.848783Z",
     "iopub.status.idle": "2025-07-30T21:26:32.856387Z",
     "shell.execute_reply": "2025-07-30T21:26:32.855261Z"
    },
    "papermill": {
     "duration": 0.040357,
     "end_time": "2025-07-30T21:26:32.858196",
     "exception": false,
     "start_time": "2025-07-30T21:26:32.817839",
     "status": "completed"
    },
    "tags": []
   },
   "outputs": [],
   "source": [
    "from fairness_multiverse.conformal import find_threshold\n",
    "\n",
    "# Find conformal threshold q_hat for the given alpha (split conformal method)\n",
    "q_hat = find_threshold(nc_scores, alpha)"
   ]
  },
  {
   "cell_type": "code",
   "execution_count": 52,
   "id": "4d29e6c1-0ef6-4aa4-b8fe-4fe79b0d033a",
   "metadata": {
    "execution": {
     "iopub.execute_input": "2025-07-30T21:26:32.919704Z",
     "iopub.status.busy": "2025-07-30T21:26:32.919031Z",
     "iopub.status.idle": "2025-07-30T21:26:32.927155Z",
     "shell.execute_reply": "2025-07-30T21:26:32.926100Z"
    },
    "papermill": {
     "duration": 0.040347,
     "end_time": "2025-07-30T21:26:32.928980",
     "exception": false,
     "start_time": "2025-07-30T21:26:32.888633",
     "status": "completed"
    },
    "tags": []
   },
   "outputs": [
    {
     "data": {
      "text/plain": [
       "0.826187373110332"
      ]
     },
     "execution_count": 52,
     "metadata": {},
     "output_type": "execute_result"
    }
   ],
   "source": [
    "q_hat"
   ]
  },
  {
   "cell_type": "code",
   "execution_count": 53,
   "id": "92460794-cdac-4be2-ba28-f28c0515a6fb",
   "metadata": {
    "execution": {
     "iopub.execute_input": "2025-07-30T21:26:32.990591Z",
     "iopub.status.busy": "2025-07-30T21:26:32.990211Z",
     "iopub.status.idle": "2025-07-30T21:26:33.827497Z",
     "shell.execute_reply": "2025-07-30T21:26:33.826518Z"
    },
    "papermill": {
     "duration": 0.869911,
     "end_time": "2025-07-30T21:26:33.829415",
     "exception": false,
     "start_time": "2025-07-30T21:26:32.959504",
     "status": "completed"
    },
    "tags": []
   },
   "outputs": [],
   "source": [
    "from fairness_multiverse.conformal import predict_conformal_sets\n",
    "\n",
    "# Generate prediction sets for each test example\n",
    "pred_sets = predict_conformal_sets(model, X_test, q_hat)"
   ]
  },
  {
   "cell_type": "code",
   "execution_count": 54,
   "id": "d90c9a65-e6db-4f5d-80cd-e68fb7e46829",
   "metadata": {
    "execution": {
     "iopub.execute_input": "2025-07-30T21:26:33.883503Z",
     "iopub.status.busy": "2025-07-30T21:26:33.882840Z",
     "iopub.status.idle": "2025-07-30T21:26:33.887776Z",
     "shell.execute_reply": "2025-07-30T21:26:33.887038Z"
    },
    "papermill": {
     "duration": 0.033163,
     "end_time": "2025-07-30T21:26:33.889081",
     "exception": false,
     "start_time": "2025-07-30T21:26:33.855918",
     "status": "completed"
    },
    "tags": []
   },
   "outputs": [],
   "source": [
    "y_true = y_true.squeeze()"
   ]
  },
  {
   "cell_type": "code",
   "execution_count": 55,
   "id": "3a58a54a-1e68-46b9-927a-df01f18aebc8",
   "metadata": {
    "execution": {
     "iopub.execute_input": "2025-07-30T21:26:33.916264Z",
     "iopub.status.busy": "2025-07-30T21:26:33.915880Z",
     "iopub.status.idle": "2025-07-30T21:26:34.561478Z",
     "shell.execute_reply": "2025-07-30T21:26:34.560027Z"
    },
    "papermill": {
     "duration": 0.660615,
     "end_time": "2025-07-30T21:26:34.563351",
     "exception": false,
     "start_time": "2025-07-30T21:26:33.902736",
     "status": "completed"
    },
    "tags": []
   },
   "outputs": [],
   "source": [
    "from fairness_multiverse.conformal import evaluate_sets\n",
    "\n",
    "# Evaluate coverage and average set size on test data\n",
    "metrics = evaluate_sets(pred_sets, y_true)"
   ]
  },
  {
   "cell_type": "markdown",
   "id": "2b569c12-9aaa-4c88-98c9-bbcd0cf3ebb8",
   "metadata": {
    "papermill": {
     "duration": 0.015621,
     "end_time": "2025-07-30T21:26:34.596241",
     "exception": false,
     "start_time": "2025-07-30T21:26:34.580620",
     "status": "completed"
    },
    "tags": []
   },
   "source": [
    "# CP Metrics"
   ]
  },
  {
   "cell_type": "code",
   "execution_count": 56,
   "id": "5ce0a5cb-201f-45a0-ade5-94c7f0bd6095",
   "metadata": {
    "execution": {
     "iopub.execute_input": "2025-07-30T21:26:34.629999Z",
     "iopub.status.busy": "2025-07-30T21:26:34.629532Z",
     "iopub.status.idle": "2025-07-30T21:26:34.637449Z",
     "shell.execute_reply": "2025-07-30T21:26:34.636366Z"
    },
    "papermill": {
     "duration": 0.029403,
     "end_time": "2025-07-30T21:26:34.639138",
     "exception": false,
     "start_time": "2025-07-30T21:26:34.609735",
     "status": "completed"
    },
    "tags": []
   },
   "outputs": [
    {
     "data": {
      "text/plain": [
       "{'coverage': 0.9079032437855311, 'avg_size': 1.2544197971240665}"
      ]
     },
     "execution_count": 56,
     "metadata": {},
     "output_type": "execute_result"
    }
   ],
   "source": [
    "metrics"
   ]
  },
  {
   "cell_type": "code",
   "execution_count": 57,
   "id": "9b9a838d-31c9-430b-ae14-12baee460d17",
   "metadata": {
    "execution": {
     "iopub.execute_input": "2025-07-30T21:26:34.691841Z",
     "iopub.status.busy": "2025-07-30T21:26:34.691349Z",
     "iopub.status.idle": "2025-07-30T21:26:34.697946Z",
     "shell.execute_reply": "2025-07-30T21:26:34.696921Z"
    },
    "papermill": {
     "duration": 0.033807,
     "end_time": "2025-07-30T21:26:34.699668",
     "exception": false,
     "start_time": "2025-07-30T21:26:34.665861",
     "status": "completed"
    },
    "tags": []
   },
   "outputs": [],
   "source": [
    "example_universe = universe.copy()\n",
    "universe_training_year = example_universe.get(\"training_year\")\n",
    "universe_training_size = example_universe.get(\"training_size\")\n",
    "universe_scale = example_universe.get(\"scale\")\n",
    "universe_model = example_universe.get(\"model\")\n",
    "universe_exclude_features = example_universe.get(\"exclude_features\")\n",
    "universe_exclude_subgroups = example_universe.get(\"exclude_subgroups\")"
   ]
  },
  {
   "cell_type": "code",
   "execution_count": 58,
   "id": "f4b6a8ac-9dc0-4245-8a91-5b3b5999c4f9",
   "metadata": {
    "execution": {
     "iopub.execute_input": "2025-07-30T21:26:34.738679Z",
     "iopub.status.busy": "2025-07-30T21:26:34.738281Z",
     "iopub.status.idle": "2025-07-30T21:26:34.744238Z",
     "shell.execute_reply": "2025-07-30T21:26:34.743413Z"
    },
    "papermill": {
     "duration": 0.023385,
     "end_time": "2025-07-30T21:26:34.745510",
     "exception": false,
     "start_time": "2025-07-30T21:26:34.722125",
     "status": "completed"
    },
    "tags": []
   },
   "outputs": [],
   "source": [
    "cp_metrics_dict = {\n",
    "    \"universe_id\": [universe_id],\n",
    "    \"universe_training_year\": [universe_training_year],\n",
    "    \"universe_training_size\": [universe_training_size],\n",
    "    \"universe_scale\": [universe_scale],\n",
    "    \"universe_model\": [universe_model],\n",
    "    \"universe_exclude_features\": [universe_exclude_features],\n",
    "    \"universe_exclude_subgroups\": [universe_exclude_subgroups],\n",
    "    \"q_hat\": [q_hat],\n",
    "    \"coverage\": [metrics[\"coverage\"]],\n",
    "    \"avg_size\": [metrics[\"avg_size\"]],\n",
    "}"
   ]
  },
  {
   "cell_type": "code",
   "execution_count": 59,
   "id": "908acbb1-0371-4915-85ca-3fa520d2efe2",
   "metadata": {
    "execution": {
     "iopub.execute_input": "2025-07-30T21:26:34.791510Z",
     "iopub.status.busy": "2025-07-30T21:26:34.791161Z",
     "iopub.status.idle": "2025-07-30T21:26:34.797650Z",
     "shell.execute_reply": "2025-07-30T21:26:34.796901Z"
    },
    "papermill": {
     "duration": 0.036948,
     "end_time": "2025-07-30T21:26:34.798960",
     "exception": false,
     "start_time": "2025-07-30T21:26:34.762012",
     "status": "completed"
    },
    "tags": []
   },
   "outputs": [
    {
     "data": {
      "text/plain": [
       "{'universe_id': ['5b1db7df375210c31947652f9cf20c6d'],\n",
       " 'universe_training_year': ['2014'],\n",
       " 'universe_training_size': ['1k'],\n",
       " 'universe_scale': ['scale'],\n",
       " 'universe_model': ['elasticnet'],\n",
       " 'universe_exclude_features': ['none'],\n",
       " 'universe_exclude_subgroups': ['drop-non-german'],\n",
       " 'q_hat': [0.826187373110332],\n",
       " 'coverage': [0.9079032437855311],\n",
       " 'avg_size': [1.2544197971240665]}"
      ]
     },
     "execution_count": 59,
     "metadata": {},
     "output_type": "execute_result"
    }
   ],
   "source": [
    "cp_metrics_dict"
   ]
  },
  {
   "cell_type": "code",
   "execution_count": 60,
   "id": "33007efc-14e9-4ec6-97ac-56a455c82265",
   "metadata": {
    "execution": {
     "iopub.execute_input": "2025-07-30T21:26:34.844109Z",
     "iopub.status.busy": "2025-07-30T21:26:34.843619Z",
     "iopub.status.idle": "2025-07-30T21:26:34.850836Z",
     "shell.execute_reply": "2025-07-30T21:26:34.849650Z"
    },
    "papermill": {
     "duration": 0.039444,
     "end_time": "2025-07-30T21:26:34.853152",
     "exception": false,
     "start_time": "2025-07-30T21:26:34.813708",
     "status": "completed"
    },
    "tags": []
   },
   "outputs": [],
   "source": [
    "cp_metrics_df = pd.DataFrame(cp_metrics_dict)"
   ]
  },
  {
   "cell_type": "code",
   "execution_count": 61,
   "id": "db12611b-57b2-4910-b9d0-355adfd6e7bf",
   "metadata": {
    "execution": {
     "iopub.execute_input": "2025-07-30T21:26:34.923370Z",
     "iopub.status.busy": "2025-07-30T21:26:34.922509Z",
     "iopub.status.idle": "2025-07-30T21:26:34.944697Z",
     "shell.execute_reply": "2025-07-30T21:26:34.943678Z"
    },
    "papermill": {
     "duration": 0.057352,
     "end_time": "2025-07-30T21:26:34.946452",
     "exception": false,
     "start_time": "2025-07-30T21:26:34.889100",
     "status": "completed"
    },
    "tags": []
   },
   "outputs": [
    {
     "data": {
      "text/html": [
       "<div>\n",
       "<style scoped>\n",
       "    .dataframe tbody tr th:only-of-type {\n",
       "        vertical-align: middle;\n",
       "    }\n",
       "\n",
       "    .dataframe tbody tr th {\n",
       "        vertical-align: top;\n",
       "    }\n",
       "\n",
       "    .dataframe thead th {\n",
       "        text-align: right;\n",
       "    }\n",
       "</style>\n",
       "<table border=\"1\" class=\"dataframe\">\n",
       "  <thead>\n",
       "    <tr style=\"text-align: right;\">\n",
       "      <th></th>\n",
       "      <th>universe_id</th>\n",
       "      <th>universe_training_year</th>\n",
       "      <th>universe_training_size</th>\n",
       "      <th>universe_scale</th>\n",
       "      <th>universe_model</th>\n",
       "      <th>universe_exclude_features</th>\n",
       "      <th>universe_exclude_subgroups</th>\n",
       "      <th>q_hat</th>\n",
       "      <th>coverage</th>\n",
       "      <th>avg_size</th>\n",
       "    </tr>\n",
       "  </thead>\n",
       "  <tbody>\n",
       "    <tr>\n",
       "      <th>0</th>\n",
       "      <td>5b1db7df375210c31947652f9cf20c6d</td>\n",
       "      <td>2014</td>\n",
       "      <td>1k</td>\n",
       "      <td>scale</td>\n",
       "      <td>elasticnet</td>\n",
       "      <td>none</td>\n",
       "      <td>drop-non-german</td>\n",
       "      <td>0.826187</td>\n",
       "      <td>0.907903</td>\n",
       "      <td>1.25442</td>\n",
       "    </tr>\n",
       "  </tbody>\n",
       "</table>\n",
       "</div>"
      ],
      "text/plain": [
       "                        universe_id universe_training_year  \\\n",
       "0  5b1db7df375210c31947652f9cf20c6d                   2014   \n",
       "\n",
       "  universe_training_size universe_scale universe_model  \\\n",
       "0                     1k          scale     elasticnet   \n",
       "\n",
       "  universe_exclude_features universe_exclude_subgroups     q_hat  coverage  \\\n",
       "0                      none            drop-non-german  0.826187  0.907903   \n",
       "\n",
       "   avg_size  \n",
       "0   1.25442  "
      ]
     },
     "execution_count": 61,
     "metadata": {},
     "output_type": "execute_result"
    }
   ],
   "source": [
    "cp_metrics_df"
   ]
  },
  {
   "cell_type": "code",
   "execution_count": 62,
   "id": "b7fbde55-a0a1-47e4-9af6-fe4a17fa8c61",
   "metadata": {
    "execution": {
     "iopub.execute_input": "2025-07-30T21:26:34.997811Z",
     "iopub.status.busy": "2025-07-30T21:26:34.997220Z",
     "iopub.status.idle": "2025-07-30T21:26:35.002311Z",
     "shell.execute_reply": "2025-07-30T21:26:35.001387Z"
    },
    "papermill": {
     "duration": 0.032523,
     "end_time": "2025-07-30T21:26:35.003983",
     "exception": false,
     "start_time": "2025-07-30T21:26:34.971460",
     "status": "completed"
    },
    "tags": []
   },
   "outputs": [],
   "source": [
    "# Conditional Coverage & looking at subgroups"
   ]
  },
  {
   "cell_type": "code",
   "execution_count": 63,
   "id": "027ae886-68dd-4141-96c7-805a5450e1ef",
   "metadata": {
    "execution": {
     "iopub.execute_input": "2025-07-30T21:26:35.057021Z",
     "iopub.status.busy": "2025-07-30T21:26:35.056334Z",
     "iopub.status.idle": "2025-07-30T21:26:35.333963Z",
     "shell.execute_reply": "2025-07-30T21:26:35.332686Z"
    },
    "papermill": {
     "duration": 0.306457,
     "end_time": "2025-07-30T21:26:35.336470",
     "exception": false,
     "start_time": "2025-07-30T21:26:35.030013",
     "status": "completed"
    },
    "tags": []
   },
   "outputs": [],
   "source": [
    "from fairness_multiverse.conformal import build_cp_groups\n",
    "\n",
    "cp_groups_df = build_cp_groups(pred_sets, y_true, X_test.index, org_test)\n",
    "#needs universe_id and setting"
   ]
  },
  {
   "cell_type": "code",
   "execution_count": 64,
   "id": "01d5802c-663a-4d1f-9d69-e036faaffbf7",
   "metadata": {
    "execution": {
     "iopub.execute_input": "2025-07-30T21:26:35.411873Z",
     "iopub.status.busy": "2025-07-30T21:26:35.411186Z",
     "iopub.status.idle": "2025-07-30T21:26:35.417964Z",
     "shell.execute_reply": "2025-07-30T21:26:35.416633Z"
    },
    "papermill": {
     "duration": 0.034868,
     "end_time": "2025-07-30T21:26:35.419824",
     "exception": false,
     "start_time": "2025-07-30T21:26:35.384956",
     "status": "completed"
    },
    "tags": []
   },
   "outputs": [],
   "source": [
    "#delete\n",
    "#cp_groups_df"
   ]
  },
  {
   "cell_type": "code",
   "execution_count": 65,
   "id": "fa424af1-d1eb-443d-b717-2d279ada8408",
   "metadata": {
    "execution": {
     "iopub.execute_input": "2025-07-30T21:26:35.473088Z",
     "iopub.status.busy": "2025-07-30T21:26:35.472069Z",
     "iopub.status.idle": "2025-07-30T21:26:35.477938Z",
     "shell.execute_reply": "2025-07-30T21:26:35.477073Z"
    },
    "papermill": {
     "duration": 0.033713,
     "end_time": "2025-07-30T21:26:35.480136",
     "exception": false,
     "start_time": "2025-07-30T21:26:35.446423",
     "status": "completed"
    },
    "tags": []
   },
   "outputs": [],
   "source": [
    "#delete\n",
    "#percentage = (cp_groups_df['nongerman_female'] == 1).mean() * 100\n",
    "#print(percentage)\n"
   ]
  },
  {
   "cell_type": "code",
   "execution_count": 66,
   "id": "6cbdab96-b2b2-45af-ad54-d0516db2e28d",
   "metadata": {
    "execution": {
     "iopub.execute_input": "2025-07-30T21:26:35.531458Z",
     "iopub.status.busy": "2025-07-30T21:26:35.530993Z",
     "iopub.status.idle": "2025-07-30T21:26:37.189905Z",
     "shell.execute_reply": "2025-07-30T21:26:37.188965Z"
    },
    "papermill": {
     "duration": 1.68629,
     "end_time": "2025-07-30T21:26:37.191668",
     "exception": false,
     "start_time": "2025-07-30T21:26:35.505378",
     "status": "completed"
    },
    "tags": []
   },
   "outputs": [],
   "source": [
    "# Define covered = 1 if true_label is in the predicted set\n",
    "cp_groups_df['covered'] = cp_groups_df.apply(\n",
    "    lambda r: int(r['true_label'] in r['pred_set']),\n",
    "    axis=1\n",
    ")"
   ]
  },
  {
   "cell_type": "code",
   "execution_count": 67,
   "id": "338ff529-1a6b-4b87-a931-8e4788d52aad",
   "metadata": {
    "execution": {
     "iopub.execute_input": "2025-07-30T21:26:37.240755Z",
     "iopub.status.busy": "2025-07-30T21:26:37.240378Z",
     "iopub.status.idle": "2025-07-30T21:26:37.245960Z",
     "shell.execute_reply": "2025-07-30T21:26:37.245000Z"
    },
    "papermill": {
     "duration": 0.031473,
     "end_time": "2025-07-30T21:26:37.247296",
     "exception": false,
     "start_time": "2025-07-30T21:26:37.215823",
     "status": "completed"
    },
    "tags": []
   },
   "outputs": [],
   "source": [
    "#cp_groups_df"
   ]
  },
  {
   "cell_type": "code",
   "execution_count": 68,
   "id": "90032e27-66df-4540-9169-4e89cfbaa758",
   "metadata": {
    "execution": {
     "iopub.execute_input": "2025-07-30T21:26:37.277732Z",
     "iopub.status.busy": "2025-07-30T21:26:37.277036Z",
     "iopub.status.idle": "2025-07-30T21:26:37.286527Z",
     "shell.execute_reply": "2025-07-30T21:26:37.285788Z"
    },
    "papermill": {
     "duration": 0.025656,
     "end_time": "2025-07-30T21:26:37.287853",
     "exception": false,
     "start_time": "2025-07-30T21:26:37.262197",
     "status": "completed"
    },
    "tags": []
   },
   "outputs": [],
   "source": [
    "subgroups = ['frau1','nongerman','nongerman_male','nongerman_female']\n",
    "\n",
    "# Conditional coverage for subgroup==1\n",
    "cond_coverage = {\n",
    "    g: cp_groups_df.loc[cp_groups_df[g]==1, 'covered'].mean()\n",
    "    for g in subgroups\n",
    "}"
   ]
  },
  {
   "cell_type": "code",
   "execution_count": 69,
   "id": "1e348fb1-b9c3-45bc-ba23-f016827a7e0d",
   "metadata": {
    "execution": {
     "iopub.execute_input": "2025-07-30T21:26:37.322008Z",
     "iopub.status.busy": "2025-07-30T21:26:37.321514Z",
     "iopub.status.idle": "2025-07-30T21:26:37.328023Z",
     "shell.execute_reply": "2025-07-30T21:26:37.327322Z"
    },
    "papermill": {
     "duration": 0.02325,
     "end_time": "2025-07-30T21:26:37.329311",
     "exception": false,
     "start_time": "2025-07-30T21:26:37.306061",
     "status": "completed"
    },
    "tags": []
   },
   "outputs": [
    {
     "data": {
      "text/plain": [
       "{'frau1': 0.9045154333468123,\n",
       " 'nongerman': 0.9072587436142143,\n",
       " 'nongerman_male': 0.9260560208952535,\n",
       " 'nongerman_female': 0.8761549925484352}"
      ]
     },
     "execution_count": 69,
     "metadata": {},
     "output_type": "execute_result"
    }
   ],
   "source": [
    "cond_coverage"
   ]
  },
  {
   "cell_type": "code",
   "execution_count": 70,
   "id": "f5093324-c3dd-4d63-bc4c-8d945e5c8bbb",
   "metadata": {
    "execution": {
     "iopub.execute_input": "2025-07-30T21:26:37.359665Z",
     "iopub.status.busy": "2025-07-30T21:26:37.358850Z",
     "iopub.status.idle": "2025-07-30T21:26:37.365747Z",
     "shell.execute_reply": "2025-07-30T21:26:37.364987Z"
    },
    "papermill": {
     "duration": 0.024248,
     "end_time": "2025-07-30T21:26:37.367138",
     "exception": false,
     "start_time": "2025-07-30T21:26:37.342890",
     "status": "completed"
    },
    "tags": []
   },
   "outputs": [],
   "source": [
    "for subgroup, cov in cond_coverage.items():\n",
    "    cp_metrics_df[f\"cov_{subgroup}\"] = cov"
   ]
  },
  {
   "cell_type": "code",
   "execution_count": 71,
   "id": "6e872e10-dbe5-49e8-b554-5030c98ff75d",
   "metadata": {
    "execution": {
     "iopub.execute_input": "2025-07-30T21:26:37.396519Z",
     "iopub.status.busy": "2025-07-30T21:26:37.395655Z",
     "iopub.status.idle": "2025-07-30T21:26:37.408816Z",
     "shell.execute_reply": "2025-07-30T21:26:37.408091Z"
    },
    "papermill": {
     "duration": 0.028391,
     "end_time": "2025-07-30T21:26:37.410168",
     "exception": false,
     "start_time": "2025-07-30T21:26:37.381777",
     "status": "completed"
    },
    "tags": []
   },
   "outputs": [
    {
     "data": {
      "text/html": [
       "<div>\n",
       "<style scoped>\n",
       "    .dataframe tbody tr th:only-of-type {\n",
       "        vertical-align: middle;\n",
       "    }\n",
       "\n",
       "    .dataframe tbody tr th {\n",
       "        vertical-align: top;\n",
       "    }\n",
       "\n",
       "    .dataframe thead th {\n",
       "        text-align: right;\n",
       "    }\n",
       "</style>\n",
       "<table border=\"1\" class=\"dataframe\">\n",
       "  <thead>\n",
       "    <tr style=\"text-align: right;\">\n",
       "      <th></th>\n",
       "      <th>universe_id</th>\n",
       "      <th>universe_training_year</th>\n",
       "      <th>universe_training_size</th>\n",
       "      <th>universe_scale</th>\n",
       "      <th>universe_model</th>\n",
       "      <th>universe_exclude_features</th>\n",
       "      <th>universe_exclude_subgroups</th>\n",
       "      <th>q_hat</th>\n",
       "      <th>coverage</th>\n",
       "      <th>avg_size</th>\n",
       "      <th>cov_frau1</th>\n",
       "      <th>cov_nongerman</th>\n",
       "      <th>cov_nongerman_male</th>\n",
       "      <th>cov_nongerman_female</th>\n",
       "    </tr>\n",
       "  </thead>\n",
       "  <tbody>\n",
       "    <tr>\n",
       "      <th>0</th>\n",
       "      <td>5b1db7df375210c31947652f9cf20c6d</td>\n",
       "      <td>2014</td>\n",
       "      <td>1k</td>\n",
       "      <td>scale</td>\n",
       "      <td>elasticnet</td>\n",
       "      <td>none</td>\n",
       "      <td>drop-non-german</td>\n",
       "      <td>0.826187</td>\n",
       "      <td>0.907903</td>\n",
       "      <td>1.25442</td>\n",
       "      <td>0.904515</td>\n",
       "      <td>0.907259</td>\n",
       "      <td>0.926056</td>\n",
       "      <td>0.876155</td>\n",
       "    </tr>\n",
       "  </tbody>\n",
       "</table>\n",
       "</div>"
      ],
      "text/plain": [
       "                        universe_id universe_training_year  \\\n",
       "0  5b1db7df375210c31947652f9cf20c6d                   2014   \n",
       "\n",
       "  universe_training_size universe_scale universe_model  \\\n",
       "0                     1k          scale     elasticnet   \n",
       "\n",
       "  universe_exclude_features universe_exclude_subgroups     q_hat  coverage  \\\n",
       "0                      none            drop-non-german  0.826187  0.907903   \n",
       "\n",
       "   avg_size  cov_frau1  cov_nongerman  cov_nongerman_male  \\\n",
       "0   1.25442   0.904515       0.907259            0.926056   \n",
       "\n",
       "   cov_nongerman_female  \n",
       "0              0.876155  "
      ]
     },
     "execution_count": 71,
     "metadata": {},
     "output_type": "execute_result"
    }
   ],
   "source": [
    "cp_metrics_df"
   ]
  },
  {
   "cell_type": "markdown",
   "id": "33774451",
   "metadata": {
    "papermill": {
     "duration": 0.012842,
     "end_time": "2025-07-30T21:26:37.441827",
     "exception": false,
     "start_time": "2025-07-30T21:26:37.428985",
     "status": "completed"
    },
    "tags": []
   },
   "source": [
    "# (Fairness) Metrics"
   ]
  },
  {
   "cell_type": "code",
   "execution_count": 72,
   "id": "debc5d62",
   "metadata": {
    "execution": {
     "iopub.execute_input": "2025-07-30T21:26:37.470463Z",
     "iopub.status.busy": "2025-07-30T21:26:37.470066Z",
     "iopub.status.idle": "2025-07-30T21:26:37.485660Z",
     "shell.execute_reply": "2025-07-30T21:26:37.484731Z"
    },
    "papermill": {
     "duration": 0.032194,
     "end_time": "2025-07-30T21:26:37.487181",
     "exception": false,
     "start_time": "2025-07-30T21:26:37.454987",
     "status": "completed"
    },
    "tags": []
   },
   "outputs": [],
   "source": [
    "# do I need to include maxdeutsch1.missing?\n",
    "\n",
    "import numpy as np\n",
    "\n",
    "colname_to_bin = \"maxdeutsch1\"\n",
    "majority_value = org_train[colname_to_bin].mode()[0]\n",
    "\n",
    "org_test[\"majmin\"] = np.where(org_test[colname_to_bin] == majority_value, \"majority\", \"minority\")"
   ]
  },
  {
   "cell_type": "code",
   "execution_count": 73,
   "id": "06a50de5",
   "metadata": {
    "execution": {
     "iopub.execute_input": "2025-07-30T21:26:37.542211Z",
     "iopub.status.busy": "2025-07-30T21:26:37.541346Z",
     "iopub.status.idle": "2025-07-30T21:26:40.207465Z",
     "shell.execute_reply": "2025-07-30T21:26:40.206533Z"
    },
    "papermill": {
     "duration": 2.69749,
     "end_time": "2025-07-30T21:26:40.209602",
     "exception": false,
     "start_time": "2025-07-30T21:26:37.512112",
     "status": "completed"
    },
    "tags": []
   },
   "outputs": [],
   "source": [
    "example_universe = universe.copy()\n",
    "example_universe[\"cutoff\"] = example_universe[\"cutoff\"][0]\n",
    "example_universe[\"eval_fairness_grouping\"] = example_universe[\"eval_fairness_grouping\"][0]\n",
    "fairness_dict, metric_frame = universe_analysis.compute_metrics(\n",
    "    example_universe,\n",
    "    y_pred_prob=probs_test,\n",
    "    y_test=y_true,\n",
    "    org_test=org_test,\n",
    ")"
   ]
  },
  {
   "cell_type": "markdown",
   "id": "f95d4e02",
   "metadata": {
    "papermill": {
     "duration": 0.02528,
     "end_time": "2025-07-30T21:26:40.262665",
     "exception": false,
     "start_time": "2025-07-30T21:26:40.237385",
     "status": "completed"
    },
    "tags": []
   },
   "source": [
    "# Overall"
   ]
  },
  {
   "cell_type": "markdown",
   "id": "bdee4871",
   "metadata": {
    "papermill": {
     "duration": 0.025332,
     "end_time": "2025-07-30T21:26:40.311971",
     "exception": false,
     "start_time": "2025-07-30T21:26:40.286639",
     "status": "completed"
    },
    "tags": []
   },
   "source": [
    "Fairness\n",
    "Main fairness target: Equalized Odds. Seems to be a better fit than equal opportunity, since we're not only interested in Y = 1. Seems to be a better fit than demographic parity, since we also care about accuracy, not just equal distribution of preds.\n",
    "\n",
    "Pick column for computation of fairness metrics\n",
    "\n",
    "Performance\n",
    "Overall performance measures, most interesting in relation to the measures split by group below"
   ]
  },
  {
   "cell_type": "code",
   "execution_count": 74,
   "id": "c4e067c6",
   "metadata": {
    "execution": {
     "iopub.execute_input": "2025-07-30T21:26:40.363618Z",
     "iopub.status.busy": "2025-07-30T21:26:40.362659Z",
     "iopub.status.idle": "2025-07-30T21:26:40.371467Z",
     "shell.execute_reply": "2025-07-30T21:26:40.370548Z"
    },
    "papermill": {
     "duration": 0.037196,
     "end_time": "2025-07-30T21:26:40.373066",
     "exception": false,
     "start_time": "2025-07-30T21:26:40.335870",
     "status": "completed"
    },
    "tags": []
   },
   "outputs": [
    {
     "data": {
      "text/plain": [
       "accuracy                   0.218381\n",
       "balanced accuracy          0.535228\n",
       "f1                         0.239878\n",
       "precision                  0.137034\n",
       "false positive rate        0.890962\n",
       "false negative rate        0.038582\n",
       "selection rate             0.900000\n",
       "count                  89710.000000\n",
       "dtype: float64"
      ]
     },
     "execution_count": 74,
     "metadata": {},
     "output_type": "execute_result"
    }
   ],
   "source": [
    "metric_frame.overall"
   ]
  },
  {
   "cell_type": "markdown",
   "id": "e968fe9d",
   "metadata": {
    "papermill": {
     "duration": 0.02602,
     "end_time": "2025-07-30T21:26:40.425759",
     "exception": false,
     "start_time": "2025-07-30T21:26:40.399739",
     "status": "completed"
    },
    "tags": []
   },
   "source": [
    "By Group"
   ]
  },
  {
   "cell_type": "code",
   "execution_count": 75,
   "id": "ec325bce",
   "metadata": {
    "execution": {
     "iopub.execute_input": "2025-07-30T21:26:40.478674Z",
     "iopub.status.busy": "2025-07-30T21:26:40.478220Z",
     "iopub.status.idle": "2025-07-30T21:26:40.493118Z",
     "shell.execute_reply": "2025-07-30T21:26:40.492165Z"
    },
    "papermill": {
     "duration": 0.04244,
     "end_time": "2025-07-30T21:26:40.494576",
     "exception": false,
     "start_time": "2025-07-30T21:26:40.452136",
     "status": "completed"
    },
    "tags": []
   },
   "outputs": [
    {
     "data": {
      "text/html": [
       "<div>\n",
       "<style scoped>\n",
       "    .dataframe tbody tr th:only-of-type {\n",
       "        vertical-align: middle;\n",
       "    }\n",
       "\n",
       "    .dataframe tbody tr th {\n",
       "        vertical-align: top;\n",
       "    }\n",
       "\n",
       "    .dataframe thead th {\n",
       "        text-align: right;\n",
       "    }\n",
       "</style>\n",
       "<table border=\"1\" class=\"dataframe\">\n",
       "  <thead>\n",
       "    <tr style=\"text-align: right;\">\n",
       "      <th></th>\n",
       "      <th>accuracy</th>\n",
       "      <th>balanced accuracy</th>\n",
       "      <th>f1</th>\n",
       "      <th>precision</th>\n",
       "      <th>false positive rate</th>\n",
       "      <th>false negative rate</th>\n",
       "      <th>selection rate</th>\n",
       "      <th>count</th>\n",
       "    </tr>\n",
       "    <tr>\n",
       "      <th>majmin</th>\n",
       "      <th></th>\n",
       "      <th></th>\n",
       "      <th></th>\n",
       "      <th></th>\n",
       "      <th></th>\n",
       "      <th></th>\n",
       "      <th></th>\n",
       "      <th></th>\n",
       "    </tr>\n",
       "  </thead>\n",
       "  <tbody>\n",
       "    <tr>\n",
       "      <th>majority</th>\n",
       "      <td>0.232789</td>\n",
       "      <td>0.540226</td>\n",
       "      <td>0.248137</td>\n",
       "      <td>0.142525</td>\n",
       "      <td>0.877645</td>\n",
       "      <td>0.041904</td>\n",
       "      <td>0.888275</td>\n",
       "      <td>69170.0</td>\n",
       "    </tr>\n",
       "    <tr>\n",
       "      <th>minority</th>\n",
       "      <td>0.169864</td>\n",
       "      <td>0.519642</td>\n",
       "      <td>0.212970</td>\n",
       "      <td>0.119552</td>\n",
       "      <td>0.934955</td>\n",
       "      <td>0.025760</td>\n",
       "      <td>0.939484</td>\n",
       "      <td>20540.0</td>\n",
       "    </tr>\n",
       "  </tbody>\n",
       "</table>\n",
       "</div>"
      ],
      "text/plain": [
       "          accuracy  balanced accuracy        f1  precision  \\\n",
       "majmin                                                       \n",
       "majority  0.232789           0.540226  0.248137   0.142525   \n",
       "minority  0.169864           0.519642  0.212970   0.119552   \n",
       "\n",
       "          false positive rate  false negative rate  selection rate    count  \n",
       "majmin                                                                       \n",
       "majority             0.877645             0.041904        0.888275  69170.0  \n",
       "minority             0.934955             0.025760        0.939484  20540.0  "
      ]
     },
     "execution_count": 75,
     "metadata": {},
     "output_type": "execute_result"
    }
   ],
   "source": [
    "metric_frame.by_group"
   ]
  },
  {
   "cell_type": "code",
   "execution_count": 76,
   "id": "a9ddbe63",
   "metadata": {
    "execution": {
     "iopub.execute_input": "2025-07-30T21:26:40.550527Z",
     "iopub.status.busy": "2025-07-30T21:26:40.550039Z",
     "iopub.status.idle": "2025-07-30T21:26:42.871798Z",
     "shell.execute_reply": "2025-07-30T21:26:42.870882Z"
    },
    "papermill": {
     "duration": 2.35185,
     "end_time": "2025-07-30T21:26:42.873207",
     "exception": false,
     "start_time": "2025-07-30T21:26:40.521357",
     "status": "completed"
    },
    "tags": []
   },
   "outputs": [
    {
     "data": {
      "text/plain": [
       "array([[<Axes: title={'center': 'accuracy'}, xlabel='majmin'>,\n",
       "        <Axes: title={'center': 'balanced accuracy'}, xlabel='majmin'>,\n",
       "        <Axes: title={'center': 'f1'}, xlabel='majmin'>],\n",
       "       [<Axes: title={'center': 'precision'}, xlabel='majmin'>,\n",
       "        <Axes: title={'center': 'false positive rate'}, xlabel='majmin'>,\n",
       "        <Axes: title={'center': 'false negative rate'}, xlabel='majmin'>],\n",
       "       [<Axes: title={'center': 'selection rate'}, xlabel='majmin'>,\n",
       "        <Axes: title={'center': 'count'}, xlabel='majmin'>,\n",
       "        <Axes: xlabel='majmin'>]], dtype=object)"
      ]
     },
     "execution_count": 76,
     "metadata": {},
     "output_type": "execute_result"
    },
    {
     "data": {
      "image/png": "[encoded data removed]",
      "text/plain": [
       "<Figure size 1200x800 with 9 Axes>"
      ]
     },
     "metadata": {},
     "output_type": "display_data"
    }
   ],
   "source": [
    "# In a graphic\n",
    "metric_frame.by_group.plot.bar(\n",
    "    subplots=True,\n",
    "    layout=[3, 3],\n",
    "    legend=False,\n",
    "    figsize=[12, 8],\n",
    "    title=\"Show all metrics\",\n",
    ")"
   ]
  },
  {
   "cell_type": "markdown",
   "id": "f57a0bac",
   "metadata": {
    "papermill": {
     "duration": 0.030227,
     "end_time": "2025-07-30T21:26:42.930556",
     "exception": false,
     "start_time": "2025-07-30T21:26:42.900329",
     "status": "completed"
    },
    "tags": []
   },
   "source": [
    "# Final Output"
   ]
  },
  {
   "cell_type": "code",
   "execution_count": 77,
   "id": "96d280a3",
   "metadata": {
    "execution": {
     "iopub.execute_input": "2025-07-30T21:26:42.993376Z",
     "iopub.status.busy": "2025-07-30T21:26:42.992790Z",
     "iopub.status.idle": "2025-07-30T21:26:43.001520Z",
     "shell.execute_reply": "2025-07-30T21:26:43.000651Z"
    },
    "papermill": {
     "duration": 0.042185,
     "end_time": "2025-07-30T21:26:43.003405",
     "exception": false,
     "start_time": "2025-07-30T21:26:42.961220",
     "status": "completed"
    },
    "tags": []
   },
   "outputs": [
    {
     "data": {
      "text/plain": [
       "4"
      ]
     },
     "execution_count": 77,
     "metadata": {},
     "output_type": "execute_result"
    }
   ],
   "source": [
    "sub_universes = universe_analysis.generate_sub_universes()\n",
    "len(sub_universes)"
   ]
  },
  {
   "cell_type": "code",
   "execution_count": 78,
   "id": "92adf7ba",
   "metadata": {
    "execution": {
     "iopub.execute_input": "2025-07-30T21:26:43.065320Z",
     "iopub.status.busy": "2025-07-30T21:26:43.064759Z",
     "iopub.status.idle": "2025-07-30T21:26:43.070936Z",
     "shell.execute_reply": "2025-07-30T21:26:43.069813Z"
    },
    "papermill": {
     "duration": 0.03955,
     "end_time": "2025-07-30T21:26:43.072530",
     "exception": false,
     "start_time": "2025-07-30T21:26:43.032980",
     "status": "completed"
    },
    "tags": []
   },
   "outputs": [],
   "source": [
    "def filter_sub_universe_data(sub_universe, org_test):\n",
    "    # Keep all rows — no filtering\n",
    "    keep_rows_mask = np.ones(org_test.shape[0], dtype=bool)\n",
    "\n",
    "    print(f\"[INFO] Keeping all rows: {keep_rows_mask.sum()} rows retained.\")\n",
    "    return keep_rows_mask"
   ]
  },
  {
   "cell_type": "code",
   "execution_count": 79,
   "id": "4a759155",
   "metadata": {
    "execution": {
     "iopub.execute_input": "2025-07-30T21:26:43.134058Z",
     "iopub.status.busy": "2025-07-30T21:26:43.133599Z",
     "iopub.status.idle": "2025-07-30T21:26:52.657621Z",
     "shell.execute_reply": "2025-07-30T21:26:52.656916Z"
    },
    "papermill": {
     "duration": 9.556148,
     "end_time": "2025-07-30T21:26:52.658877",
     "exception": false,
     "start_time": "2025-07-30T21:26:43.102729",
     "status": "completed"
    },
    "tags": []
   },
   "outputs": [
    {
     "name": "stdout",
     "output_type": "stream",
     "text": [
      "Stopping execution_time clock.\n",
      "[INFO] Keeping all rows: 89710 rows retained.\n"
     ]
    },
    {
     "name": "stdout",
     "output_type": "stream",
     "text": [
      "[INFO] Keeping all rows: 89710 rows retained.\n"
     ]
    },
    {
     "name": "stdout",
     "output_type": "stream",
     "text": [
      "[INFO] Keeping all rows: 89710 rows retained.\n"
     ]
    },
    {
     "name": "stdout",
     "output_type": "stream",
     "text": [
      "[INFO] Keeping all rows: 89710 rows retained.\n"
     ]
    },
    {
     "data": {
      "text/html": [
       "<div>\n",
       "<style scoped>\n",
       "    .dataframe tbody tr th:only-of-type {\n",
       "        vertical-align: middle;\n",
       "    }\n",
       "\n",
       "    .dataframe tbody tr th {\n",
       "        vertical-align: top;\n",
       "    }\n",
       "\n",
       "    .dataframe thead th {\n",
       "        text-align: right;\n",
       "    }\n",
       "</style>\n",
       "<table border=\"1\" class=\"dataframe\">\n",
       "  <thead>\n",
       "    <tr style=\"text-align: right;\">\n",
       "      <th></th>\n",
       "      <th>run_no</th>\n",
       "      <th>universe_id</th>\n",
       "      <th>universe_settings</th>\n",
       "      <th>execution_time</th>\n",
       "      <th>test_size_n</th>\n",
       "      <th>test_size_frac</th>\n",
       "      <th>fair_main_equalized_odds_difference</th>\n",
       "      <th>fair_main_equalized_odds_ratio</th>\n",
       "      <th>fair_main_demographic_parity_difference</th>\n",
       "      <th>fair_main_demographic_parity_ratio</th>\n",
       "      <th>...</th>\n",
       "      <th>perf_grp_precision_0</th>\n",
       "      <th>perf_grp_precision_1</th>\n",
       "      <th>perf_grp_false positive rate_0</th>\n",
       "      <th>perf_grp_false positive rate_1</th>\n",
       "      <th>perf_grp_false negative rate_0</th>\n",
       "      <th>perf_grp_false negative rate_1</th>\n",
       "      <th>perf_grp_selection rate_0</th>\n",
       "      <th>perf_grp_selection rate_1</th>\n",
       "      <th>perf_grp_count_0</th>\n",
       "      <th>perf_grp_count_1</th>\n",
       "    </tr>\n",
       "  </thead>\n",
       "  <tbody>\n",
       "    <tr>\n",
       "      <th>0</th>\n",
       "      <td>14</td>\n",
       "      <td>5b1db7df375210c31947652f9cf20c6d</td>\n",
       "      <td>{\"cutoff\": \"quantile_0.1\", \"eval_fairness_grou...</td>\n",
       "      <td>28.086384</td>\n",
       "      <td>89710</td>\n",
       "      <td>1.0</td>\n",
       "      <td>0.057310</td>\n",
       "      <td>0.938703</td>\n",
       "      <td>0.051209</td>\n",
       "      <td>0.945493</td>\n",
       "      <td>...</td>\n",
       "      <td>NaN</td>\n",
       "      <td>NaN</td>\n",
       "      <td>NaN</td>\n",
       "      <td>NaN</td>\n",
       "      <td>NaN</td>\n",
       "      <td>NaN</td>\n",
       "      <td>NaN</td>\n",
       "      <td>NaN</td>\n",
       "      <td>NaN</td>\n",
       "      <td>NaN</td>\n",
       "    </tr>\n",
       "    <tr>\n",
       "      <th>0</th>\n",
       "      <td>14</td>\n",
       "      <td>5b1db7df375210c31947652f9cf20c6d</td>\n",
       "      <td>{\"cutoff\": \"quantile_0.1\", \"eval_fairness_grou...</td>\n",
       "      <td>28.086384</td>\n",
       "      <td>89710</td>\n",
       "      <td>1.0</td>\n",
       "      <td>0.057310</td>\n",
       "      <td>0.938703</td>\n",
       "      <td>0.051209</td>\n",
       "      <td>0.945493</td>\n",
       "      <td>...</td>\n",
       "      <td>0.119552</td>\n",
       "      <td>0.142525</td>\n",
       "      <td>0.934955</td>\n",
       "      <td>0.877645</td>\n",
       "      <td>0.025760</td>\n",
       "      <td>0.041904</td>\n",
       "      <td>0.939484</td>\n",
       "      <td>0.888275</td>\n",
       "      <td>20540.0</td>\n",
       "      <td>69170.0</td>\n",
       "    </tr>\n",
       "    <tr>\n",
       "      <th>0</th>\n",
       "      <td>14</td>\n",
       "      <td>5b1db7df375210c31947652f9cf20c6d</td>\n",
       "      <td>{\"cutoff\": \"quantile_0.25\", \"eval_fairness_gro...</td>\n",
       "      <td>28.086384</td>\n",
       "      <td>89710</td>\n",
       "      <td>1.0</td>\n",
       "      <td>0.059133</td>\n",
       "      <td>0.923724</td>\n",
       "      <td>0.049637</td>\n",
       "      <td>0.937030</td>\n",
       "      <td>...</td>\n",
       "      <td>NaN</td>\n",
       "      <td>NaN</td>\n",
       "      <td>NaN</td>\n",
       "      <td>NaN</td>\n",
       "      <td>NaN</td>\n",
       "      <td>NaN</td>\n",
       "      <td>NaN</td>\n",
       "      <td>NaN</td>\n",
       "      <td>NaN</td>\n",
       "      <td>NaN</td>\n",
       "    </tr>\n",
       "    <tr>\n",
       "      <th>0</th>\n",
       "      <td>14</td>\n",
       "      <td>5b1db7df375210c31947652f9cf20c6d</td>\n",
       "      <td>{\"cutoff\": \"quantile_0.25\", \"eval_fairness_gro...</td>\n",
       "      <td>28.086384</td>\n",
       "      <td>89710</td>\n",
       "      <td>1.0</td>\n",
       "      <td>0.059133</td>\n",
       "      <td>0.923724</td>\n",
       "      <td>0.049637</td>\n",
       "      <td>0.937030</td>\n",
       "      <td>...</td>\n",
       "      <td>0.129887</td>\n",
       "      <td>0.158580</td>\n",
       "      <td>0.775259</td>\n",
       "      <td>0.716125</td>\n",
       "      <td>0.111909</td>\n",
       "      <td>0.113567</td>\n",
       "      <td>0.788267</td>\n",
       "      <td>0.738629</td>\n",
       "      <td>20540.0</td>\n",
       "      <td>69170.0</td>\n",
       "    </tr>\n",
       "  </tbody>\n",
       "</table>\n",
       "<p>4 rows × 50 columns</p>\n",
       "</div>"
      ],
      "text/plain": [
       "  run_no                       universe_id  \\\n",
       "0     14  5b1db7df375210c31947652f9cf20c6d   \n",
       "0     14  5b1db7df375210c31947652f9cf20c6d   \n",
       "0     14  5b1db7df375210c31947652f9cf20c6d   \n",
       "0     14  5b1db7df375210c31947652f9cf20c6d   \n",
       "\n",
       "                                   universe_settings  execution_time  \\\n",
       "0  {\"cutoff\": \"quantile_0.1\", \"eval_fairness_grou...       28.086384   \n",
       "0  {\"cutoff\": \"quantile_0.1\", \"eval_fairness_grou...       28.086384   \n",
       "0  {\"cutoff\": \"quantile_0.25\", \"eval_fairness_gro...       28.086384   \n",
       "0  {\"cutoff\": \"quantile_0.25\", \"eval_fairness_gro...       28.086384   \n",
       "\n",
       "   test_size_n  test_size_frac  fair_main_equalized_odds_difference  \\\n",
       "0        89710             1.0                             0.057310   \n",
       "0        89710             1.0                             0.057310   \n",
       "0        89710             1.0                             0.059133   \n",
       "0        89710             1.0                             0.059133   \n",
       "\n",
       "   fair_main_equalized_odds_ratio  fair_main_demographic_parity_difference  \\\n",
       "0                        0.938703                                 0.051209   \n",
       "0                        0.938703                                 0.051209   \n",
       "0                        0.923724                                 0.049637   \n",
       "0                        0.923724                                 0.049637   \n",
       "\n",
       "   fair_main_demographic_parity_ratio  ...  perf_grp_precision_0  \\\n",
       "0                            0.945493  ...                   NaN   \n",
       "0                            0.945493  ...              0.119552   \n",
       "0                            0.937030  ...                   NaN   \n",
       "0                            0.937030  ...              0.129887   \n",
       "\n",
       "   perf_grp_precision_1  perf_grp_false positive rate_0  \\\n",
       "0                   NaN                             NaN   \n",
       "0              0.142525                        0.934955   \n",
       "0                   NaN                             NaN   \n",
       "0              0.158580                        0.775259   \n",
       "\n",
       "   perf_grp_false positive rate_1  perf_grp_false negative rate_0  \\\n",
       "0                             NaN                             NaN   \n",
       "0                        0.877645                        0.025760   \n",
       "0                             NaN                             NaN   \n",
       "0                        0.716125                        0.111909   \n",
       "\n",
       "   perf_grp_false negative rate_1  perf_grp_selection rate_0  \\\n",
       "0                             NaN                        NaN   \n",
       "0                        0.041904                   0.939484   \n",
       "0                             NaN                        NaN   \n",
       "0                        0.113567                   0.788267   \n",
       "\n",
       "   perf_grp_selection rate_1  perf_grp_count_0  perf_grp_count_1  \n",
       "0                        NaN               NaN               NaN  \n",
       "0                   0.888275           20540.0           69170.0  \n",
       "0                        NaN               NaN               NaN  \n",
       "0                   0.738629           20540.0           69170.0  \n",
       "\n",
       "[4 rows x 50 columns]"
      ]
     },
     "execution_count": 79,
     "metadata": {},
     "output_type": "execute_result"
    }
   ],
   "source": [
    "final_output = universe_analysis.generate_final_output(\n",
    "    y_pred_prob=probs_test,\n",
    "    y_test=y_true,\n",
    "    org_test=org_test,\n",
    "    filter_data=filter_sub_universe_data,\n",
    "    cp_metrics_df=cp_metrics_df,\n",
    "    save=True,\n",
    ")\n",
    "final_output"
   ]
  },
  {
   "cell_type": "code",
   "execution_count": null,
   "id": "721ff514-cb11-46f8-b6fc-50392f74b5cb",
   "metadata": {
    "papermill": {
     "duration": 0.015117,
     "end_time": "2025-07-30T21:26:52.693601",
     "exception": false,
     "start_time": "2025-07-30T21:26:52.678484",
     "status": "completed"
    },
    "tags": []
   },
   "outputs": [],
   "source": []
  }
 ],
 "metadata": {
  "celltoolbar": "Tags",
  "kernelspec": {
   "display_name": "Python (CMA Fairness)",
   "language": "python",
   "name": "cma_fair_env"
  },
  "language_info": {
   "codemirror_mode": {
    "name": "ipython",
    "version": 3
   },
   "file_extension": ".py",
   "mimetype": "text/x-python",
   "name": "python",
   "nbconvert_exporter": "python",
   "pygments_lexer": "ipython3",
   "version": "3.10.12"
  },
  "papermill": {
   "default_parameters": {},
   "duration": 41.581571,
   "end_time": "2025-07-30T21:26:53.326470",
   "environment_variables": {},
   "exception": null,
   "input_path": "universe_analysis.ipynb",
   "output_path": "output/runs/14/notebooks/m_14-5b1db7df375210c31947652f9cf20c6d.ipynb",
   "parameters": {
    "output_dir": "output",
    "run_no": "14",
    "seed": "2023",
    "universe": "{\"cutoff\": [\"quantile_0.1\", \"quantile_0.25\"], \"eval_fairness_grouping\": [\"majority-minority\", \"nationality-all\"], \"exclude_features\": \"none\", \"exclude_subgroups\": \"drop-non-german\", \"model\": \"elasticnet\", \"scale\": \"scale\", \"training_size\": \"1k\", \"training_year\": \"2014\"}",
    "universe_id": "5b1db7df375210c31947652f9cf20c6d"
   },
   "start_time": "2025-07-30T21:26:11.744899",
   "version": "2.6.0"
  }
 },
 "nbformat": 4,
 "nbformat_minor": 5
}