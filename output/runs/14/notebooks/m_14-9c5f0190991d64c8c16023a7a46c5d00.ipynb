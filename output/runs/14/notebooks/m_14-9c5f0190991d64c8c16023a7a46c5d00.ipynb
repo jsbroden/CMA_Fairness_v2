{
 "cells": [
  {
   "cell_type": "code",
   "execution_count": 1,
   "id": "f159f837-637b-42ba-96b5-ec9a68c44524",
   "metadata": {
    "execution": {
     "iopub.execute_input": "2025-07-30T20:34:21.110977Z",
     "iopub.status.busy": "2025-07-30T20:34:21.110539Z",
     "iopub.status.idle": "2025-07-30T20:34:21.125649Z",
     "shell.execute_reply": "2025-07-30T20:34:21.123357Z"
    },
    "papermill": {
     "duration": 0.034083,
     "end_time": "2025-07-30T20:34:21.126960",
     "exception": false,
     "start_time": "2025-07-30T20:34:21.092877",
     "status": "completed"
    },
    "tags": []
   },
   "outputs": [
    {
     "name": "stdout",
     "output_type": "stream",
     "text": [
      "/dss/dsshome1/0C/ra93lal2/cma/CMA_Fairness_v2\n"
     ]
    },
    {
     "name": "stderr",
     "output_type": "stream",
     "text": [
      "/dss/dsshome1/0C/ra93lal2/.local/share/virtualenvs/CMA_Fairness_v2-3j10GkSs/lib/python3.10/site-packages/IPython/core/magics/osm.py:393: UserWarning: This is now an optional IPython functionality, using bookmarks requires you to install the `pickleshare` library.\n",
      "  bkms = self.shell.db.get('bookmarks', {})\n",
      "/dss/dsshome1/0C/ra93lal2/.local/share/virtualenvs/CMA_Fairness_v2-3j10GkSs/lib/python3.10/site-packages/IPython/core/magics/osm.py:417: UserWarning: This is now an optional IPython functionality, setting dhist requires you to install the `pickleshare` library.\n",
      "  self.shell.db['dhist'] = compress_dhist(dhist)[-100:]\n"
     ]
    }
   ],
   "source": [
    "%cd ~/cma/CMA_Fairness_v2"
   ]
  },
  {
   "cell_type": "markdown",
   "id": "de2603b9",
   "metadata": {
    "papermill": {
     "duration": 0.020371,
     "end_time": "2025-07-30T20:34:21.167740",
     "exception": false,
     "start_time": "2025-07-30T20:34:21.147369",
     "status": "completed"
    },
    "tags": []
   },
   "source": [
    "The following cell holds the definition of our parameters, these values can be overriden by rendering the with e.g. the following command:\n",
    "\n",
    "papermill -p alpha 0.2 -p ratio 0.3 universe_analysis.ipynb output/test_run.ipynb"
   ]
  },
  {
   "cell_type": "code",
   "execution_count": 2,
   "id": "a80968a0-40bb-4fa9-85ef-2d5eefb01975",
   "metadata": {
    "execution": {
     "iopub.execute_input": "2025-07-30T20:34:21.211070Z",
     "iopub.status.busy": "2025-07-30T20:34:21.210405Z",
     "iopub.status.idle": "2025-07-30T20:34:21.217825Z",
     "shell.execute_reply": "2025-07-30T20:34:21.216857Z"
    },
    "papermill": {
     "duration": 0.031338,
     "end_time": "2025-07-30T20:34:21.219494",
     "exception": false,
     "start_time": "2025-07-30T20:34:21.188156",
     "status": "completed"
    },
    "tags": []
   },
   "outputs": [
    {
     "name": "stdout",
     "output_type": "stream",
     "text": [
      "Current working directory: /dss/dsshome1/0C/ra93lal2/cma/CMA_Fairness_v2\n"
     ]
    }
   ],
   "source": [
    "import os\n",
    "print(\"Current working directory:\", os.getcwd())"
   ]
  },
  {
   "cell_type": "code",
   "execution_count": 3,
   "id": "2dce4c03",
   "metadata": {
    "execution": {
     "iopub.execute_input": "2025-07-30T20:34:21.245400Z",
     "iopub.status.busy": "2025-07-30T20:34:21.245059Z",
     "iopub.status.idle": "2025-07-30T20:34:21.249887Z",
     "shell.execute_reply": "2025-07-30T20:34:21.249174Z"
    },
    "papermill": {
     "duration": 0.017572,
     "end_time": "2025-07-30T20:34:21.251191",
     "exception": false,
     "start_time": "2025-07-30T20:34:21.233619",
     "status": "completed"
    },
    "tags": [
     "parameters"
    ]
   },
   "outputs": [],
   "source": [
    "run_no = 0\n",
    "universe_id = \"test\"\n",
    "universe = {\n",
    "    \"training_size\": \"25k\", # \"25k\", \"5k\", \"1k\"\n",
    "    \"training_year\": \"2014\", # \"2014\", \"2012_14\", \"2010_14\"\n",
    "    \"scale\": \"scale\", # \"scale\", \"do-not-scale\",\n",
    "    #\"stratify_split\": \"target\", # \"none\", \"target\", \"protected-attribute\", \"both\",\n",
    "    \"model\": \"elasticnet\", # \"logreg\", \"penalized_logreg\", \"rf\", \"gbm\", \"elasticnet\"\n",
    "    \"cutoff\": [\"quantile_0.15\", \"quantile_0.30\"],\n",
    "    \"exclude_features\": \"age\", # \"none\", \"nationality\", \"sex\", \"nationality-sex\", \"age\"\n",
    "    \"exclude_subgroups\": \"keep-all\", # \"keep-all\", \"drop-non-german\"\n",
    "    \"eval_fairness_grouping\": [\"majority-minority\", \"nationality-all\"]\n",
    "}\n",
    "\n",
    "output_dir=\"./output\"\n",
    "seed=0"
   ]
  },
  {
   "cell_type": "code",
   "execution_count": 4,
   "id": "12ccfc26",
   "metadata": {
    "execution": {
     "iopub.execute_input": "2025-07-30T20:34:21.273772Z",
     "iopub.status.busy": "2025-07-30T20:34:21.273445Z",
     "iopub.status.idle": "2025-07-30T20:34:21.277456Z",
     "shell.execute_reply": "2025-07-30T20:34:21.276729Z"
    },
    "papermill": {
     "duration": 0.016485,
     "end_time": "2025-07-30T20:34:21.278742",
     "exception": false,
     "start_time": "2025-07-30T20:34:21.262257",
     "status": "completed"
    },
    "tags": [
     "injected-parameters"
    ]
   },
   "outputs": [],
   "source": [
    "# Parameters\n",
    "universe_id = \"9c5f0190991d64c8c16023a7a46c5d00\"\n",
    "run_no = \"14\"\n",
    "universe = \"{\\\"cutoff\\\": [\\\"quantile_0.1\\\", \\\"quantile_0.25\\\"], \\\"eval_fairness_grouping\\\": [\\\"majority-minority\\\", \\\"nationality-all\\\"], \\\"exclude_features\\\": \\\"none\\\", \\\"exclude_subgroups\\\": \\\"keep-all\\\", \\\"model\\\": \\\"penalized_logreg\\\", \\\"scale\\\": \\\"do-not-scale\\\", \\\"training_size\\\": \\\"25k\\\", \\\"training_year\\\": \\\"2010_14\\\"}\"\n",
    "output_dir = \"output\"\n",
    "seed = \"2023\"\n"
   ]
  },
  {
   "cell_type": "code",
   "execution_count": 5,
   "id": "1650acaf",
   "metadata": {
    "execution": {
     "iopub.execute_input": "2025-07-30T20:34:21.303870Z",
     "iopub.status.busy": "2025-07-30T20:34:21.303023Z",
     "iopub.status.idle": "2025-07-30T20:34:21.308148Z",
     "shell.execute_reply": "2025-07-30T20:34:21.307250Z"
    },
    "papermill": {
     "duration": 0.020366,
     "end_time": "2025-07-30T20:34:21.309791",
     "exception": false,
     "start_time": "2025-07-30T20:34:21.289425",
     "status": "completed"
    },
    "tags": []
   },
   "outputs": [],
   "source": [
    "import json\n",
    "# Parse universe into dict if it is passed as a string\n",
    "if isinstance(universe, str):\n",
    "    universe = json.loads(universe)"
   ]
  },
  {
   "cell_type": "code",
   "execution_count": 6,
   "id": "16620c48",
   "metadata": {
    "execution": {
     "iopub.execute_input": "2025-07-30T20:34:21.342411Z",
     "iopub.status.busy": "2025-07-30T20:34:21.342083Z",
     "iopub.status.idle": "2025-07-30T20:34:21.378517Z",
     "shell.execute_reply": "2025-07-30T20:34:21.377495Z"
    },
    "papermill": {
     "duration": 0.049726,
     "end_time": "2025-07-30T20:34:21.380480",
     "exception": false,
     "start_time": "2025-07-30T20:34:21.330754",
     "status": "completed"
    },
    "tags": []
   },
   "outputs": [],
   "source": [
    "# Auto-reload the custom package\n",
    "%load_ext autoreload\n",
    "%autoreload 1\n",
    "%aimport fairness_multiverse"
   ]
  },
  {
   "cell_type": "code",
   "execution_count": 7,
   "id": "01c5c9f3",
   "metadata": {
    "execution": {
     "iopub.execute_input": "2025-07-30T20:34:21.422589Z",
     "iopub.status.busy": "2025-07-30T20:34:21.422073Z",
     "iopub.status.idle": "2025-07-30T20:34:23.427803Z",
     "shell.execute_reply": "2025-07-30T20:34:23.426773Z"
    },
    "papermill": {
     "duration": 2.027846,
     "end_time": "2025-07-30T20:34:23.429758",
     "exception": false,
     "start_time": "2025-07-30T20:34:21.401912",
     "status": "completed"
    },
    "tags": []
   },
   "outputs": [],
   "source": [
    "from fairness_multiverse.universe import UniverseAnalysis\n",
    "\n",
    "universe_analysis = UniverseAnalysis(\n",
    "    run_no = run_no,\n",
    "    universe_id = universe_id,\n",
    "    universe = universe,\n",
    "    output_dir=output_dir,\n",
    ")"
   ]
  },
  {
   "cell_type": "code",
   "execution_count": 8,
   "id": "106241f5",
   "metadata": {
    "execution": {
     "iopub.execute_input": "2025-07-30T20:34:23.475639Z",
     "iopub.status.busy": "2025-07-30T20:34:23.475095Z",
     "iopub.status.idle": "2025-07-30T20:34:23.481833Z",
     "shell.execute_reply": "2025-07-30T20:34:23.480884Z"
    },
    "papermill": {
     "duration": 0.029092,
     "end_time": "2025-07-30T20:34:23.483588",
     "exception": false,
     "start_time": "2025-07-30T20:34:23.454496",
     "status": "completed"
    },
    "tags": []
   },
   "outputs": [
    {
     "name": "stdout",
     "output_type": "stream",
     "text": [
      "Using Seed: 2023\n"
     ]
    }
   ],
   "source": [
    "import numpy as np\n",
    "parsed_seed = int(seed)\n",
    "np.random.seed(parsed_seed)\n",
    "print(f\"Using Seed: {parsed_seed}\")"
   ]
  },
  {
   "cell_type": "markdown",
   "id": "e0ebdc57",
   "metadata": {
    "papermill": {
     "duration": 0.021514,
     "end_time": "2025-07-30T20:34:23.521802",
     "exception": false,
     "start_time": "2025-07-30T20:34:23.500288",
     "status": "completed"
    },
    "tags": []
   },
   "source": [
    "# Loading Data"
   ]
  },
  {
   "cell_type": "markdown",
   "id": "681925a3",
   "metadata": {
    "papermill": {
     "duration": 0.019036,
     "end_time": "2025-07-30T20:34:23.561832",
     "exception": false,
     "start_time": "2025-07-30T20:34:23.542796",
     "status": "completed"
    },
    "tags": []
   },
   "source": [
    "Load siab_train, siab_test, siab_calib and/or \n",
    "load siab_train_features, siab_train_labels"
   ]
  },
  {
   "cell_type": "code",
   "execution_count": 9,
   "id": "f0496b8a",
   "metadata": {
    "execution": {
     "iopub.execute_input": "2025-07-30T20:34:23.591783Z",
     "iopub.status.busy": "2025-07-30T20:34:23.591383Z",
     "iopub.status.idle": "2025-07-30T20:34:34.848271Z",
     "shell.execute_reply": "2025-07-30T20:34:34.847145Z"
    },
    "papermill": {
     "duration": 11.269872,
     "end_time": "2025-07-30T20:34:34.850009",
     "exception": false,
     "start_time": "2025-07-30T20:34:23.580137",
     "status": "completed"
    },
    "tags": []
   },
   "outputs": [
    {
     "name": "stdout",
     "output_type": "stream",
     "text": [
      "Loading SIAB data from cache: data/siab_cached.csv.gz\n"
     ]
    },
    {
     "name": "stdout",
     "output_type": "stream",
     "text": [
      "(643690, 164)\n"
     ]
    }
   ],
   "source": [
    "from pathlib import Path\n",
    "import pandas as pd\n",
    "\n",
    "# File paths\n",
    "raw_file = Path(\"data/raw/siab.csv\")\n",
    "cache_file = Path(\"data/siab_cached.csv.gz\")\n",
    "\n",
    "# Ensure cache directory exists\n",
    "cache_file.parent.mkdir(parents=True, exist_ok=True)\n",
    "\n",
    "# Load with simple caching\n",
    "if cache_file.exists():\n",
    "    print(f\"Loading SIAB data from cache: {cache_file}\")\n",
    "    siab = pd.read_csv(cache_file, compression='gzip')\n",
    "else:\n",
    "    print(f\"Cache not found. Reading raw SIAB data: {raw_file}\")\n",
    "    siab = pd.read_csv(raw_file)\n",
    "    siab.to_csv(cache_file, index=False, compression='gzip')\n",
    "    print(f\"Cached SIAB data to: {cache_file}\")\n",
    "\n",
    "# Now use `siab` DataFrame as needed\n",
    "print(siab.shape)"
   ]
  },
  {
   "cell_type": "code",
   "execution_count": 10,
   "id": "db0ca512-5f53-4dba-abdb-a2888bca41ba",
   "metadata": {
    "execution": {
     "iopub.execute_input": "2025-07-30T20:34:34.898426Z",
     "iopub.status.busy": "2025-07-30T20:34:34.897486Z",
     "iopub.status.idle": "2025-07-30T20:34:34.903519Z",
     "shell.execute_reply": "2025-07-30T20:34:34.902547Z"
    },
    "papermill": {
     "duration": 0.030948,
     "end_time": "2025-07-30T20:34:34.905333",
     "exception": false,
     "start_time": "2025-07-30T20:34:34.874385",
     "status": "completed"
    },
    "tags": []
   },
   "outputs": [],
   "source": [
    "#siab"
   ]
  },
  {
   "cell_type": "code",
   "execution_count": 11,
   "id": "a0edb063",
   "metadata": {
    "execution": {
     "iopub.execute_input": "2025-07-30T20:34:34.947517Z",
     "iopub.status.busy": "2025-07-30T20:34:34.947101Z",
     "iopub.status.idle": "2025-07-30T20:34:34.951648Z",
     "shell.execute_reply": "2025-07-30T20:34:34.950886Z"
    },
    "papermill": {
     "duration": 0.026137,
     "end_time": "2025-07-30T20:34:34.953045",
     "exception": false,
     "start_time": "2025-07-30T20:34:34.926908",
     "status": "completed"
    },
    "tags": []
   },
   "outputs": [],
   "source": [
    "#import pandas as pd\n",
    "#\n",
    "#X_train = pd.read_csv(\"./data/X_train.csv\")\n",
    "#y_train = pd.read_csv(\"./data/y_train.csv\")"
   ]
  },
  {
   "cell_type": "code",
   "execution_count": 12,
   "id": "63d08085",
   "metadata": {
    "execution": {
     "iopub.execute_input": "2025-07-30T20:34:34.975938Z",
     "iopub.status.busy": "2025-07-30T20:34:34.975261Z",
     "iopub.status.idle": "2025-07-30T20:34:34.979563Z",
     "shell.execute_reply": "2025-07-30T20:34:34.978756Z"
    },
    "papermill": {
     "duration": 0.016511,
     "end_time": "2025-07-30T20:34:34.980986",
     "exception": false,
     "start_time": "2025-07-30T20:34:34.964475",
     "status": "completed"
    },
    "tags": []
   },
   "outputs": [],
   "source": [
    "#X_test = pd.read_csv(\"./data/X_test.csv\")\n",
    "#y_true = pd.read_csv(\"./data/y_test.csv\")"
   ]
  },
  {
   "cell_type": "code",
   "execution_count": 13,
   "id": "98a8d0fa-1d3d-4ed8-bb2c-281470e24add",
   "metadata": {
    "execution": {
     "iopub.execute_input": "2025-07-30T20:34:35.008595Z",
     "iopub.status.busy": "2025-07-30T20:34:35.008120Z",
     "iopub.status.idle": "2025-07-30T20:34:35.012546Z",
     "shell.execute_reply": "2025-07-30T20:34:35.011734Z"
    },
    "papermill": {
     "duration": 0.022108,
     "end_time": "2025-07-30T20:34:35.013894",
     "exception": false,
     "start_time": "2025-07-30T20:34:34.991786",
     "status": "completed"
    },
    "tags": []
   },
   "outputs": [],
   "source": [
    "# Calibration data for conformal\n",
    "#X_calib = pd.read_csv(\"./data/X_calib.csv\")\n",
    "#y_calib = pd.read_csv(\"./data/y_calib.csv\")"
   ]
  },
  {
   "cell_type": "markdown",
   "id": "997051c5-15bd-4b69-9786-c3001a3ce484",
   "metadata": {
    "papermill": {
     "duration": 0.010223,
     "end_time": "2025-07-30T20:34:35.035259",
     "exception": false,
     "start_time": "2025-07-30T20:34:35.025036",
     "status": "completed"
    },
    "tags": []
   },
   "source": [
    "# Splitting Data and Setting Training Data Size"
   ]
  },
  {
   "cell_type": "code",
   "execution_count": 14,
   "id": "e993b61f-042d-41a6-8c81-f55681f86335",
   "metadata": {
    "execution": {
     "iopub.execute_input": "2025-07-30T20:34:35.057148Z",
     "iopub.status.busy": "2025-07-30T20:34:35.056827Z",
     "iopub.status.idle": "2025-07-30T20:34:35.066494Z",
     "shell.execute_reply": "2025-07-30T20:34:35.065743Z"
    },
    "papermill": {
     "duration": 0.022116,
     "end_time": "2025-07-30T20:34:35.067766",
     "exception": false,
     "start_time": "2025-07-30T20:34:35.045650",
     "status": "completed"
    },
    "tags": []
   },
   "outputs": [],
   "source": [
    "def sample_by_year_size(df,\n",
    "                        training_year: str,\n",
    "                        training_size: str,\n",
    "                        random_state: int = 42):\n",
    "    # --- parse training_year into a list of int years ---\n",
    "    if \"_\" in training_year:\n",
    "        start_str, end_str = training_year.split(\"_\", 1)\n",
    "        start = int(start_str)\n",
    "        end   = int(end_str) if len(end_str) == 4 else (int(end_str) + (start // 100)*100)\n",
    "        years = list(range(start, end + 1))\n",
    "    else:\n",
    "        years = [int(training_year)]\n",
    "\n",
    "    df = df[df[\"year\"].isin(years)].reset_index(drop=True)\n",
    "\n",
    "    # --- map training_size to total number of samples ---\n",
    "    total_map = {\"25k\": 25_000, \"5k\": 5_000, \"1k\": 1_000}\n",
    "    if training_size not in total_map:\n",
    "        return df  # e.g. \"all\"\n",
    "\n",
    "    total_samples = total_map[training_size]\n",
    "    n_years       = len(years)\n",
    "    base          = total_samples // n_years\n",
    "    remainder     = total_samples % n_years\n",
    "\n",
    "    # --- build a dict: year -> how many to sample ---\n",
    "    # give +1 to the first `remainder` years in ascending order\n",
    "    quotas = {\n",
    "        year: base + (1 if idx < remainder else 0)\n",
    "        for idx, year in enumerate(sorted(years))\n",
    "    }\n",
    "\n",
    "    # --- sample per‐year according to the quota dict ---\n",
    "    sampled = (\n",
    "        df\n",
    "        .groupby(\"year\", group_keys=False)\n",
    "        .apply(lambda grp: grp.sample(\n",
    "            n=min(len(grp), quotas[grp.name]),\n",
    "            random_state=random_state))\n",
    "        .reset_index(drop=True)\n",
    "    )\n",
    "\n",
    "    return sampled"
   ]
  },
  {
   "cell_type": "code",
   "execution_count": 15,
   "id": "c0ccd338-0e02-41f3-a09d-f56f9266e3fb",
   "metadata": {
    "execution": {
     "iopub.execute_input": "2025-07-30T20:34:35.090198Z",
     "iopub.status.busy": "2025-07-30T20:34:35.089699Z",
     "iopub.status.idle": "2025-07-30T20:34:35.093983Z",
     "shell.execute_reply": "2025-07-30T20:34:35.093208Z"
    },
    "papermill": {
     "duration": 0.016507,
     "end_time": "2025-07-30T20:34:35.095231",
     "exception": false,
     "start_time": "2025-07-30T20:34:35.078724",
     "status": "completed"
    },
    "tags": []
   },
   "outputs": [],
   "source": [
    "#universe[\"training_size\"]"
   ]
  },
  {
   "cell_type": "code",
   "execution_count": 16,
   "id": "ca707fd7-8047-4acd-bfa5-66248fbbf8e6",
   "metadata": {
    "execution": {
     "iopub.execute_input": "2025-07-30T20:34:35.117669Z",
     "iopub.status.busy": "2025-07-30T20:34:35.117300Z",
     "iopub.status.idle": "2025-07-30T20:34:35.121646Z",
     "shell.execute_reply": "2025-07-30T20:34:35.120757Z"
    },
    "papermill": {
     "duration": 0.020699,
     "end_time": "2025-07-30T20:34:35.126801",
     "exception": false,
     "start_time": "2025-07-30T20:34:35.106102",
     "status": "completed"
    },
    "tags": []
   },
   "outputs": [],
   "source": [
    "#universe[\"training_year\"]"
   ]
  },
  {
   "cell_type": "code",
   "execution_count": 17,
   "id": "aea9c6ef-6f46-42c8-85eb-5a62025c1508",
   "metadata": {
    "execution": {
     "iopub.execute_input": "2025-07-30T20:34:35.171912Z",
     "iopub.status.busy": "2025-07-30T20:34:35.171421Z",
     "iopub.status.idle": "2025-07-30T20:34:36.288376Z",
     "shell.execute_reply": "2025-07-30T20:34:36.287269Z"
    },
    "papermill": {
     "duration": 1.14118,
     "end_time": "2025-07-30T20:34:36.290347",
     "exception": false,
     "start_time": "2025-07-30T20:34:35.149167",
     "status": "completed"
    },
    "tags": []
   },
   "outputs": [],
   "source": [
    "siab_train = sample_by_year_size(siab,\n",
    "                               training_year=universe[\"training_year\"],\n",
    "                               training_size=universe[\"training_size\"])"
   ]
  },
  {
   "cell_type": "code",
   "execution_count": 18,
   "id": "8d3afb32-789d-442c-8d5d-9f5aa8dd2eed",
   "metadata": {
    "execution": {
     "iopub.execute_input": "2025-07-30T20:34:36.333637Z",
     "iopub.status.busy": "2025-07-30T20:34:36.333127Z",
     "iopub.status.idle": "2025-07-30T20:34:36.338831Z",
     "shell.execute_reply": "2025-07-30T20:34:36.337834Z"
    },
    "papermill": {
     "duration": 0.028578,
     "end_time": "2025-07-30T20:34:36.340486",
     "exception": false,
     "start_time": "2025-07-30T20:34:36.311908",
     "status": "completed"
    },
    "tags": []
   },
   "outputs": [],
   "source": [
    "#siab_train.shape"
   ]
  },
  {
   "cell_type": "code",
   "execution_count": 19,
   "id": "d582db68-1a4c-47fb-84fc-08518dc1975a",
   "metadata": {
    "execution": {
     "iopub.execute_input": "2025-07-30T20:34:36.384072Z",
     "iopub.status.busy": "2025-07-30T20:34:36.383187Z",
     "iopub.status.idle": "2025-07-30T20:34:36.388314Z",
     "shell.execute_reply": "2025-07-30T20:34:36.387401Z"
    },
    "papermill": {
     "duration": 0.028196,
     "end_time": "2025-07-30T20:34:36.389762",
     "exception": false,
     "start_time": "2025-07-30T20:34:36.361566",
     "status": "completed"
    },
    "tags": []
   },
   "outputs": [],
   "source": [
    "#display(siab_train.groupby(\"year\").size())"
   ]
  },
  {
   "cell_type": "code",
   "execution_count": 20,
   "id": "a561edb4-d032-42cb-8256-22eac1111c64",
   "metadata": {
    "execution": {
     "iopub.execute_input": "2025-07-30T20:34:36.434548Z",
     "iopub.status.busy": "2025-07-30T20:34:36.433686Z",
     "iopub.status.idle": "2025-07-30T20:34:36.678170Z",
     "shell.execute_reply": "2025-07-30T20:34:36.676992Z"
    },
    "papermill": {
     "duration": 0.269591,
     "end_time": "2025-07-30T20:34:36.680168",
     "exception": false,
     "start_time": "2025-07-30T20:34:36.410577",
     "status": "completed"
    },
    "tags": []
   },
   "outputs": [],
   "source": [
    "#siab_train = siab_s[siab_s.year < 2015]\n",
    "siab_calib = siab[siab.year == 2015]\n",
    "siab_test = siab[siab.year == 2016]"
   ]
  },
  {
   "cell_type": "code",
   "execution_count": 21,
   "id": "472de16f-c3db-4916-846b-1f0de9cf1746",
   "metadata": {
    "execution": {
     "iopub.execute_input": "2025-07-30T20:34:36.724163Z",
     "iopub.status.busy": "2025-07-30T20:34:36.723460Z",
     "iopub.status.idle": "2025-07-30T20:34:36.739381Z",
     "shell.execute_reply": "2025-07-30T20:34:36.738243Z"
    },
    "papermill": {
     "duration": 0.03916,
     "end_time": "2025-07-30T20:34:36.741139",
     "exception": false,
     "start_time": "2025-07-30T20:34:36.701979",
     "status": "completed"
    },
    "tags": []
   },
   "outputs": [],
   "source": [
    "X_train = siab_train.iloc[:,4:164]\n",
    "y_train = siab_train.iloc[:, [3]]"
   ]
  },
  {
   "cell_type": "code",
   "execution_count": 22,
   "id": "828c96af-f43a-4ed6-ba47-8ac73a47d56c",
   "metadata": {
    "execution": {
     "iopub.execute_input": "2025-07-30T20:34:36.785728Z",
     "iopub.status.busy": "2025-07-30T20:34:36.784815Z",
     "iopub.status.idle": "2025-07-30T20:34:36.839881Z",
     "shell.execute_reply": "2025-07-30T20:34:36.838840Z"
    },
    "papermill": {
     "duration": 0.07889,
     "end_time": "2025-07-30T20:34:36.841773",
     "exception": false,
     "start_time": "2025-07-30T20:34:36.762883",
     "status": "completed"
    },
    "tags": []
   },
   "outputs": [],
   "source": [
    "X_calib = siab_calib.iloc[:,4:164]\n",
    "y_calib = siab_calib.iloc[:, [3]]"
   ]
  },
  {
   "cell_type": "code",
   "execution_count": 23,
   "id": "c34be9c3-6bd6-476e-acd3-845840e303be",
   "metadata": {
    "execution": {
     "iopub.execute_input": "2025-07-30T20:34:36.886378Z",
     "iopub.status.busy": "2025-07-30T20:34:36.885672Z",
     "iopub.status.idle": "2025-07-30T20:34:36.937621Z",
     "shell.execute_reply": "2025-07-30T20:34:36.936567Z"
    },
    "papermill": {
     "duration": 0.075714,
     "end_time": "2025-07-30T20:34:36.939278",
     "exception": false,
     "start_time": "2025-07-30T20:34:36.863564",
     "status": "completed"
    },
    "tags": []
   },
   "outputs": [],
   "source": [
    "X_test = siab_test.iloc[:,4:164]\n",
    "y_true = siab_test.iloc[:, [3]]"
   ]
  },
  {
   "cell_type": "markdown",
   "id": "9901737e-04df-44f0-9100-f5ad144ed040",
   "metadata": {
    "papermill": {
     "duration": 0.020237,
     "end_time": "2025-07-30T20:34:36.981036",
     "exception": false,
     "start_time": "2025-07-30T20:34:36.960799",
     "status": "completed"
    },
    "tags": []
   },
   "source": [
    "# Splitting Data and Setting Training Data Size OLD VERSION"
   ]
  },
  {
   "cell_type": "code",
   "execution_count": 24,
   "id": "acbc8f7d-8fc8-4e86-8c59-5dcb0f58384b",
   "metadata": {
    "execution": {
     "iopub.execute_input": "2025-07-30T20:34:37.025152Z",
     "iopub.status.busy": "2025-07-30T20:34:37.024509Z",
     "iopub.status.idle": "2025-07-30T20:34:37.030210Z",
     "shell.execute_reply": "2025-07-30T20:34:37.029225Z"
    },
    "papermill": {
     "duration": 0.029262,
     "end_time": "2025-07-30T20:34:37.031682",
     "exception": false,
     "start_time": "2025-07-30T20:34:37.002420",
     "status": "completed"
    },
    "tags": []
   },
   "outputs": [],
   "source": [
    "#def sample_by_year(df, training_size, random_state=42):\n",
    "#    if training_size == \"2014\":\n",
    "#        return df[df[\"year\"] == 2014].reset_index(drop=True)\n",
    "#    \n",
    "#    size_map = {\n",
    "#        \"25k\": 5000,\n",
    "#        \"5k\": 1000,\n",
    "#        \"1k\": 200\n",
    "#    }\n",
    "#\n",
    "#    if training_size not in size_map:\n",
    "#        return df.reset_index(drop=True)  # use all data\n",
    "#\n",
    "#    n_per_year = size_map[training_size]\n",
    "#    grouped = df.groupby(\"year\")\n",
    "#    sampled = grouped.apply(lambda x: x.sample(n=min(n_per_year, len(x)), random_state=random_state))\n",
    "#    return sampled.reset_index(drop=True)"
   ]
  },
  {
   "cell_type": "code",
   "execution_count": 25,
   "id": "6d931f52-beaf-43ff-9e78-9d44a448d54e",
   "metadata": {
    "execution": {
     "iopub.execute_input": "2025-07-30T20:34:37.075693Z",
     "iopub.status.busy": "2025-07-30T20:34:37.074920Z",
     "iopub.status.idle": "2025-07-30T20:34:37.080405Z",
     "shell.execute_reply": "2025-07-30T20:34:37.079439Z"
    },
    "papermill": {
     "duration": 0.029405,
     "end_time": "2025-07-30T20:34:37.082029",
     "exception": false,
     "start_time": "2025-07-30T20:34:37.052624",
     "status": "completed"
    },
    "tags": []
   },
   "outputs": [],
   "source": [
    "#siab_s = sample_by_year(siab, universe[\"training_size\"])"
   ]
  },
  {
   "cell_type": "code",
   "execution_count": 26,
   "id": "5db0a40e-a4e2-4920-be85-b12ae061d70d",
   "metadata": {
    "execution": {
     "iopub.execute_input": "2025-07-30T20:34:37.125796Z",
     "iopub.status.busy": "2025-07-30T20:34:37.124740Z",
     "iopub.status.idle": "2025-07-30T20:34:37.130003Z",
     "shell.execute_reply": "2025-07-30T20:34:37.129052Z"
    },
    "papermill": {
     "duration": 0.028484,
     "end_time": "2025-07-30T20:34:37.131752",
     "exception": false,
     "start_time": "2025-07-30T20:34:37.103268",
     "status": "completed"
    },
    "tags": []
   },
   "outputs": [],
   "source": [
    "#display(siab_s.groupby(\"year\").size())"
   ]
  },
  {
   "cell_type": "code",
   "execution_count": 27,
   "id": "e6c733c5",
   "metadata": {
    "execution": {
     "iopub.execute_input": "2025-07-30T20:34:37.176676Z",
     "iopub.status.busy": "2025-07-30T20:34:37.175624Z",
     "iopub.status.idle": "2025-07-30T20:34:37.276672Z",
     "shell.execute_reply": "2025-07-30T20:34:37.275706Z"
    },
    "papermill": {
     "duration": 0.124785,
     "end_time": "2025-07-30T20:34:37.278601",
     "exception": false,
     "start_time": "2025-07-30T20:34:37.153816",
     "status": "completed"
    },
    "tags": []
   },
   "outputs": [],
   "source": [
    "# Auxiliary data needed downstream in the pipeline\n",
    "\n",
    "org_train = X_train.copy()\n",
    "org_test = X_test.copy()\n",
    "org_calib = X_calib.copy()"
   ]
  },
  {
   "cell_type": "code",
   "execution_count": 28,
   "id": "1466abac-c6da-4492-a62f-4240ae3783af",
   "metadata": {
    "execution": {
     "iopub.execute_input": "2025-07-30T20:34:37.324399Z",
     "iopub.status.busy": "2025-07-30T20:34:37.323724Z",
     "iopub.status.idle": "2025-07-30T20:34:37.329631Z",
     "shell.execute_reply": "2025-07-30T20:34:37.328656Z"
    },
    "papermill": {
     "duration": 0.029887,
     "end_time": "2025-07-30T20:34:37.331048",
     "exception": false,
     "start_time": "2025-07-30T20:34:37.301161",
     "status": "completed"
    },
    "tags": []
   },
   "outputs": [],
   "source": [
    "# put in other script?\n",
    "# Group sizes\n",
    "\n",
    "#def calculate_percentages(df, df_name):\n",
    "#    total_entries = len(df)\n",
    "#\n",
    "#    female_pct = (df['frau1'] == 1).mean() * 100\n",
    "#    non_german_pct = ((df['maxdeutsch1'] == 0) & (df['maxdeutsch.Missing.'] == 0)).mean() * 100\n",
    "#    non_german_male_pct = ((df['frau1'] == 0) & (df['maxdeutsch1'] == 0) & (df['maxdeutsch.Missing.'] == 0)).mean() * 100\n",
    "#    non_german_female_pct = ((df['frau1'] == 1) & (df['maxdeutsch1'] == 0) & (df['maxdeutsch.Missing.'] == 0)).mean() * 100\n",
    "#\n",
    "#    print(f\"--- {df_name} ---\")\n",
    "#    print(f\"Female: {female_pct:.2f}%\")\n",
    "#    print(f\"Non-German: {non_german_pct:.2f}%\")\n",
    "#    print(f\"Non-German Male: {non_german_male_pct:.2f}%\")\n",
    "#    print(f\"Non-German Female: {non_german_female_pct:.2f}%\\n\")\n",
    "#\n",
    "## Calculate for each DataFrame\n",
    "#calculate_percentages(siab_calib, \"siab_calib\")\n",
    "#calculate_percentages(siab_test, \"siab_test\")\n",
    "#calculate_percentages(siab_train, \"siab_train\")"
   ]
  },
  {
   "cell_type": "markdown",
   "id": "0a4a1b33",
   "metadata": {
    "papermill": {
     "duration": 0.021878,
     "end_time": "2025-07-30T20:34:37.374934",
     "exception": false,
     "start_time": "2025-07-30T20:34:37.353056",
     "status": "completed"
    },
    "tags": []
   },
   "source": [
    "# Preprocessing Data"
   ]
  },
  {
   "cell_type": "code",
   "execution_count": 29,
   "id": "ca879031",
   "metadata": {
    "execution": {
     "iopub.execute_input": "2025-07-30T20:34:37.420330Z",
     "iopub.status.busy": "2025-07-30T20:34:37.419639Z",
     "iopub.status.idle": "2025-07-30T20:34:37.425853Z",
     "shell.execute_reply": "2025-07-30T20:34:37.424913Z"
    },
    "papermill": {
     "duration": 0.030544,
     "end_time": "2025-07-30T20:34:37.427346",
     "exception": false,
     "start_time": "2025-07-30T20:34:37.396802",
     "status": "completed"
    },
    "tags": []
   },
   "outputs": [],
   "source": [
    "# EXCLUDE PROTECTED FEATURES\n",
    "# ----------------------\n",
    "# \"exclude_features\": \"none\", # \"nationality\", \"sex\", \"nationality-sex\"\n",
    "\n",
    "excluded_features = universe[\"exclude_features\"].split(\"-\") # split, e.g.: \"nationality-sex\" -> [\"nationality\", \"sex\"]\n",
    "excluded_features_dictionary = {\n",
    "    \"nationality\": [\"maxdeutsch1\", \"maxdeutsch.Missing.\"],\n",
    "    \"sex\": [\"frau1\"],\n",
    "    \"age\": [\"age\"],\n",
    "}\n"
   ]
  },
  {
   "cell_type": "code",
   "execution_count": 30,
   "id": "b745ac60",
   "metadata": {
    "execution": {
     "iopub.execute_input": "2025-07-30T20:34:37.472806Z",
     "iopub.status.busy": "2025-07-30T20:34:37.471934Z",
     "iopub.status.idle": "2025-07-30T20:34:37.477808Z",
     "shell.execute_reply": "2025-07-30T20:34:37.476812Z"
    },
    "papermill": {
     "duration": 0.029807,
     "end_time": "2025-07-30T20:34:37.479493",
     "exception": false,
     "start_time": "2025-07-30T20:34:37.449686",
     "status": "completed"
    },
    "tags": []
   },
   "outputs": [],
   "source": [
    "# Code nice names to column names\n",
    "\n",
    "excluded_features_columns = [\n",
    "    excluded_features_dictionary[f] for f in excluded_features if len(f) > 0 and f != \"none\"\n",
    "]"
   ]
  },
  {
   "cell_type": "code",
   "execution_count": 31,
   "id": "f84f73a2",
   "metadata": {
    "execution": {
     "iopub.execute_input": "2025-07-30T20:34:37.524620Z",
     "iopub.status.busy": "2025-07-30T20:34:37.523973Z",
     "iopub.status.idle": "2025-07-30T20:34:37.530634Z",
     "shell.execute_reply": "2025-07-30T20:34:37.529705Z"
    },
    "papermill": {
     "duration": 0.030455,
     "end_time": "2025-07-30T20:34:37.532157",
     "exception": false,
     "start_time": "2025-07-30T20:34:37.501702",
     "status": "completed"
    },
    "tags": []
   },
   "outputs": [],
   "source": [
    "from utils import flatten_once\n",
    "\n",
    "excluded_features_columns = flatten_once(excluded_features_columns)"
   ]
  },
  {
   "cell_type": "code",
   "execution_count": 32,
   "id": "884dea22",
   "metadata": {
    "execution": {
     "iopub.execute_input": "2025-07-30T20:34:37.578509Z",
     "iopub.status.busy": "2025-07-30T20:34:37.577638Z",
     "iopub.status.idle": "2025-07-30T20:34:37.583526Z",
     "shell.execute_reply": "2025-07-30T20:34:37.582639Z"
    },
    "papermill": {
     "duration": 0.031027,
     "end_time": "2025-07-30T20:34:37.585189",
     "exception": false,
     "start_time": "2025-07-30T20:34:37.554162",
     "status": "completed"
    },
    "tags": []
   },
   "outputs": [],
   "source": [
    "if len(excluded_features_columns) > 0:\n",
    "    print(f\"Dropping features: {excluded_features_columns}\")\n",
    "    X_train.drop(excluded_features_columns, axis=1, inplace=True)"
   ]
  },
  {
   "cell_type": "code",
   "execution_count": 33,
   "id": "95ab8b16",
   "metadata": {
    "execution": {
     "iopub.execute_input": "2025-07-30T20:34:37.629953Z",
     "iopub.status.busy": "2025-07-30T20:34:37.629390Z",
     "iopub.status.idle": "2025-07-30T20:34:37.635453Z",
     "shell.execute_reply": "2025-07-30T20:34:37.634536Z"
    },
    "papermill": {
     "duration": 0.03063,
     "end_time": "2025-07-30T20:34:37.637327",
     "exception": false,
     "start_time": "2025-07-30T20:34:37.606697",
     "status": "completed"
    },
    "tags": []
   },
   "outputs": [],
   "source": [
    "if len(excluded_features_columns) > 0:\n",
    "    print(f\"Dropping features: {excluded_features_columns}\")\n",
    "    X_test.drop(excluded_features_columns, axis=1, inplace=True)"
   ]
  },
  {
   "cell_type": "code",
   "execution_count": 34,
   "id": "1853aaf5-fb9f-46cb-a2b5-8ea4ae2237e4",
   "metadata": {
    "execution": {
     "iopub.execute_input": "2025-07-30T20:34:37.681572Z",
     "iopub.status.busy": "2025-07-30T20:34:37.681130Z",
     "iopub.status.idle": "2025-07-30T20:34:37.687293Z",
     "shell.execute_reply": "2025-07-30T20:34:37.685978Z"
    },
    "papermill": {
     "duration": 0.029625,
     "end_time": "2025-07-30T20:34:37.688938",
     "exception": false,
     "start_time": "2025-07-30T20:34:37.659313",
     "status": "completed"
    },
    "tags": []
   },
   "outputs": [],
   "source": [
    "if len(excluded_features_columns) > 0:\n",
    "    print(f\"Dropping features: {excluded_features_columns}\")\n",
    "    X_calib.drop(excluded_features_columns, axis=1, inplace=True)"
   ]
  },
  {
   "cell_type": "code",
   "execution_count": 35,
   "id": "6727d079-03e5-481e-9d38-292a90b7a0a8",
   "metadata": {
    "execution": {
     "iopub.execute_input": "2025-07-30T20:34:37.734566Z",
     "iopub.status.busy": "2025-07-30T20:34:37.734013Z",
     "iopub.status.idle": "2025-07-30T20:34:37.739427Z",
     "shell.execute_reply": "2025-07-30T20:34:37.738541Z"
    },
    "papermill": {
     "duration": 0.033495,
     "end_time": "2025-07-30T20:34:37.744966",
     "exception": false,
     "start_time": "2025-07-30T20:34:37.711471",
     "status": "completed"
    },
    "tags": []
   },
   "outputs": [],
   "source": [
    "# SPLIT & STRATIFY DATA\n",
    "# ----------------------"
   ]
  },
  {
   "cell_type": "code",
   "execution_count": 36,
   "id": "76c4dc6d",
   "metadata": {
    "execution": {
     "iopub.execute_input": "2025-07-30T20:34:37.791376Z",
     "iopub.status.busy": "2025-07-30T20:34:37.790903Z",
     "iopub.status.idle": "2025-07-30T20:34:37.796745Z",
     "shell.execute_reply": "2025-07-30T20:34:37.795653Z"
    },
    "papermill": {
     "duration": 0.045251,
     "end_time": "2025-07-30T20:34:37.813017",
     "exception": false,
     "start_time": "2025-07-30T20:34:37.767766",
     "status": "completed"
    },
    "tags": []
   },
   "outputs": [],
   "source": [
    "# EXCLUDE CERTAIN SUBGROUPS\n",
    "# ----------------------\n",
    "\n",
    "mode = universe.get(\"exclude_subgroups\", \"keep-all\") \n",
    "# Fetches the exclude_subgroups setting from the universe dict.\n",
    "# Defaults to \"keep-all\" if the key is missing."
   ]
  },
  {
   "cell_type": "code",
   "execution_count": 37,
   "id": "21994072",
   "metadata": {
    "execution": {
     "iopub.execute_input": "2025-07-30T20:34:37.874345Z",
     "iopub.status.busy": "2025-07-30T20:34:37.873656Z",
     "iopub.status.idle": "2025-07-30T20:34:37.880513Z",
     "shell.execute_reply": "2025-07-30T20:34:37.879559Z"
    },
    "papermill": {
     "duration": 0.046193,
     "end_time": "2025-07-30T20:34:37.882138",
     "exception": false,
     "start_time": "2025-07-30T20:34:37.835945",
     "status": "completed"
    },
    "tags": []
   },
   "outputs": [],
   "source": [
    "if mode == \"keep-all\":\n",
    "    keep_mask = pd.Series(True, index=org_train.index)\n",
    "\n",
    "# org_train contains the original feature columns from features_org (in Simson)\n",
    "# features_org contains unprocessed features, for me X_train at beginning ???\n",
    "# For keep-all, creates a boolean Series (keep_mask) of all True, so no rows are removed.\n",
    "\n",
    "elif mode == \"drop-non-german\":\n",
    "    keep_mask = org_train[\"maxdeutsch1\"] == 1 # ??? what about missing values?\n",
    "\n",
    "else:\n",
    "    raise ValueError(f\"Unsupported mode for exclude_subgroups: {mode}\")\n"
   ]
  },
  {
   "cell_type": "code",
   "execution_count": 38,
   "id": "71651440",
   "metadata": {
    "execution": {
     "iopub.execute_input": "2025-07-30T20:34:37.930333Z",
     "iopub.status.busy": "2025-07-30T20:34:37.929524Z",
     "iopub.status.idle": "2025-07-30T20:34:37.936503Z",
     "shell.execute_reply": "2025-07-30T20:34:37.935458Z"
    },
    "papermill": {
     "duration": 0.033327,
     "end_time": "2025-07-30T20:34:37.938035",
     "exception": false,
     "start_time": "2025-07-30T20:34:37.904708",
     "status": "completed"
    },
    "tags": []
   },
   "outputs": [],
   "source": [
    "n_drop = (~keep_mask).sum() # Calculates how many rows are set to be dropped\n",
    "if n_drop > 0:\n",
    "    pct = n_drop / len(keep_mask) * 100\n",
    "    print(f\"Dropping {n_drop} rows ({pct:.2f}%) where mode='{mode}'\")"
   ]
  },
  {
   "cell_type": "code",
   "execution_count": 39,
   "id": "5fb8eee5",
   "metadata": {
    "execution": {
     "iopub.execute_input": "2025-07-30T20:34:37.981240Z",
     "iopub.status.busy": "2025-07-30T20:34:37.980798Z",
     "iopub.status.idle": "2025-07-30T20:34:37.995992Z",
     "shell.execute_reply": "2025-07-30T20:34:37.994999Z"
    },
    "papermill": {
     "duration": 0.038873,
     "end_time": "2025-07-30T20:34:37.998036",
     "exception": false,
     "start_time": "2025-07-30T20:34:37.959163",
     "status": "completed"
    },
    "tags": []
   },
   "outputs": [],
   "source": [
    "X_train = X_train[keep_mask]"
   ]
  },
  {
   "cell_type": "code",
   "execution_count": 40,
   "id": "b202bb3a",
   "metadata": {
    "execution": {
     "iopub.execute_input": "2025-07-30T20:34:38.042847Z",
     "iopub.status.busy": "2025-07-30T20:34:38.041969Z",
     "iopub.status.idle": "2025-07-30T20:34:38.049572Z",
     "shell.execute_reply": "2025-07-30T20:34:38.047676Z"
    },
    "papermill": {
     "duration": 0.032531,
     "end_time": "2025-07-30T20:34:38.052186",
     "exception": false,
     "start_time": "2025-07-30T20:34:38.019655",
     "status": "completed"
    },
    "tags": []
   },
   "outputs": [],
   "source": [
    "y_train = y_train[keep_mask]"
   ]
  },
  {
   "cell_type": "markdown",
   "id": "493e2ac3",
   "metadata": {
    "papermill": {
     "duration": 0.020642,
     "end_time": "2025-07-30T20:34:38.095753",
     "exception": false,
     "start_time": "2025-07-30T20:34:38.075111",
     "status": "completed"
    },
    "tags": []
   },
   "source": [
    "# Model Training"
   ]
  },
  {
   "cell_type": "code",
   "execution_count": 41,
   "id": "679e1268",
   "metadata": {
    "execution": {
     "iopub.execute_input": "2025-07-30T20:34:38.140875Z",
     "iopub.status.busy": "2025-07-30T20:34:38.140370Z",
     "iopub.status.idle": "2025-07-30T20:34:38.244831Z",
     "shell.execute_reply": "2025-07-30T20:34:38.243828Z"
    },
    "papermill": {
     "duration": 0.129213,
     "end_time": "2025-07-30T20:34:38.246610",
     "exception": false,
     "start_time": "2025-07-30T20:34:38.117397",
     "status": "completed"
    },
    "tags": []
   },
   "outputs": [],
   "source": [
    "from sklearn.linear_model import LogisticRegression\n",
    "from sklearn.ensemble import GradientBoostingClassifier, RandomForestClassifier\n",
    "\n",
    "if (universe[\"model\"] == \"logreg\"):\n",
    "    model = LogisticRegression() #penalty=\"none\") #, solver=\"newton-cg\", max_iter=1) # include random_state=19 ?\n",
    "elif (universe[\"model\"] == \"penalized_logreg\"):\n",
    "    model = LogisticRegression(penalty=\"l2\", C=1.0) #, solver=\"newton-cg\", max_iter=1)\n",
    "elif (universe[\"model\"] == \"rf\"):\n",
    "    model = RandomForestClassifier(n_estimators=100, n_jobs=-1)\n",
    "elif (universe[\"model\"] == \"gbm\"):\n",
    "    model = GradientBoostingClassifier()\n",
    "elif (universe[\"model\"] == \"elasticnet\"):\n",
    "    model = LogisticRegression(penalty = 'elasticnet', solver = 'saga', l1_ratio = 0.5, max_iter=5000) # which solver to use?\n",
    "else:\n",
    "    raise \"Unsupported universe.model\""
   ]
  },
  {
   "cell_type": "code",
   "execution_count": 42,
   "id": "0cc8f744",
   "metadata": {
    "execution": {
     "iopub.execute_input": "2025-07-30T20:34:38.290567Z",
     "iopub.status.busy": "2025-07-30T20:34:38.289922Z",
     "iopub.status.idle": "2025-07-30T20:34:38.296275Z",
     "shell.execute_reply": "2025-07-30T20:34:38.295269Z"
    },
    "papermill": {
     "duration": 0.029824,
     "end_time": "2025-07-30T20:34:38.298054",
     "exception": false,
     "start_time": "2025-07-30T20:34:38.268230",
     "status": "completed"
    },
    "tags": []
   },
   "outputs": [],
   "source": [
    "import numpy as np\n",
    "from sklearn.pipeline import Pipeline\n",
    "from sklearn.preprocessing import StandardScaler\n",
    "\n",
    "model = Pipeline([\n",
    "    #(\"continuous_processor\", continuous_processor),\n",
    "    #(\"categorical_preprocessor\", categorical_preprocessor),\n",
    "    (\"scale\", StandardScaler() if universe[\"scale\"] == \"scale\" else None), \n",
    "    (\"model\", model),\n",
    "])"
   ]
  },
  {
   "cell_type": "code",
   "execution_count": 43,
   "id": "9442c04d",
   "metadata": {
    "execution": {
     "iopub.execute_input": "2025-07-30T20:34:38.344772Z",
     "iopub.status.busy": "2025-07-30T20:34:38.343890Z",
     "iopub.status.idle": "2025-07-30T20:34:39.035346Z",
     "shell.execute_reply": "2025-07-30T20:34:39.034493Z"
    },
    "papermill": {
     "duration": 0.715347,
     "end_time": "2025-07-30T20:34:39.036917",
     "exception": false,
     "start_time": "2025-07-30T20:34:38.321570",
     "status": "completed"
    },
    "tags": []
   },
   "outputs": [
    {
     "name": "stderr",
     "output_type": "stream",
     "text": [
      "/dss/dsshome1/0C/ra93lal2/.local/share/virtualenvs/CMA_Fairness_v2-3j10GkSs/lib/python3.10/site-packages/sklearn/linear_model/_logistic.py:444: ConvergenceWarning: lbfgs failed to converge (status=1):\n",
      "STOP: TOTAL NO. of ITERATIONS REACHED LIMIT.\n",
      "\n",
      "Increase the number of iterations (max_iter) or scale the data as shown in:\n",
      "    https://scikit-learn.org/stable/modules/preprocessing.html\n",
      "Please also refer to the documentation for alternative solver options:\n",
      "    https://scikit-learn.org/stable/modules/linear_model.html#logistic-regression\n",
      "  n_iter_i = _check_optimize_result(\n"
     ]
    },
    {
     "data": {
      "text/html": [
       "<style>#sk-container-id-1 {color: black;background-color: white;}#sk-container-id-1 pre{padding: 0;}#sk-container-id-1 div.sk-toggleable {background-color: white;}#sk-container-id-1 label.sk-toggleable__label {cursor: pointer;display: block;width: 100%;margin-bottom: 0;padding: 0.3em;box-sizing: border-box;text-align: center;}#sk-container-id-1 label.sk-toggleable__label-arrow:before {content: \"▸\";float: left;margin-right: 0.25em;color: #696969;}#sk-container-id-1 label.sk-toggleable__label-arrow:hover:before {color: black;}#sk-container-id-1 div.sk-estimator:hover label.sk-toggleable__label-arrow:before {color: black;}#sk-container-id-1 div.sk-toggleable__content {max-height: 0;max-width: 0;overflow: hidden;text-align: left;background-color: #f0f8ff;}#sk-container-id-1 div.sk-toggleable__content pre {margin: 0.2em;color: black;border-radius: 0.25em;background-color: #f0f8ff;}#sk-container-id-1 input.sk-toggleable__control:checked~div.sk-toggleable__content {max-height: 200px;max-width: 100%;overflow: auto;}#sk-container-id-1 input.sk-toggleable__control:checked~label.sk-toggleable__label-arrow:before {content: \"▾\";}#sk-container-id-1 div.sk-estimator input.sk-toggleable__control:checked~label.sk-toggleable__label {background-color: #d4ebff;}#sk-container-id-1 div.sk-label input.sk-toggleable__control:checked~label.sk-toggleable__label {background-color: #d4ebff;}#sk-container-id-1 input.sk-hidden--visually {border: 0;clip: rect(1px 1px 1px 1px);clip: rect(1px, 1px, 1px, 1px);height: 1px;margin: -1px;overflow: hidden;padding: 0;position: absolute;width: 1px;}#sk-container-id-1 div.sk-estimator {font-family: monospace;background-color: #f0f8ff;border: 1px dotted black;border-radius: 0.25em;box-sizing: border-box;margin-bottom: 0.5em;}#sk-container-id-1 div.sk-estimator:hover {background-color: #d4ebff;}#sk-container-id-1 div.sk-parallel-item::after {content: \"\";width: 100%;border-bottom: 1px solid gray;flex-grow: 1;}#sk-container-id-1 div.sk-label:hover label.sk-toggleable__label {background-color: #d4ebff;}#sk-container-id-1 div.sk-serial::before {content: \"\";position: absolute;border-left: 1px solid gray;box-sizing: border-box;top: 0;bottom: 0;left: 50%;z-index: 0;}#sk-container-id-1 div.sk-serial {display: flex;flex-direction: column;align-items: center;background-color: white;padding-right: 0.2em;padding-left: 0.2em;position: relative;}#sk-container-id-1 div.sk-item {position: relative;z-index: 1;}#sk-container-id-1 div.sk-parallel {display: flex;align-items: stretch;justify-content: center;background-color: white;position: relative;}#sk-container-id-1 div.sk-item::before, #sk-container-id-1 div.sk-parallel-item::before {content: \"\";position: absolute;border-left: 1px solid gray;box-sizing: border-box;top: 0;bottom: 0;left: 50%;z-index: -1;}#sk-container-id-1 div.sk-parallel-item {display: flex;flex-direction: column;z-index: 1;position: relative;background-color: white;}#sk-container-id-1 div.sk-parallel-item:first-child::after {align-self: flex-end;width: 50%;}#sk-container-id-1 div.sk-parallel-item:last-child::after {align-self: flex-start;width: 50%;}#sk-container-id-1 div.sk-parallel-item:only-child::after {width: 0;}#sk-container-id-1 div.sk-dashed-wrapped {border: 1px dashed gray;margin: 0 0.4em 0.5em 0.4em;box-sizing: border-box;padding-bottom: 0.4em;background-color: white;}#sk-container-id-1 div.sk-label label {font-family: monospace;font-weight: bold;display: inline-block;line-height: 1.2em;}#sk-container-id-1 div.sk-label-container {text-align: center;}#sk-container-id-1 div.sk-container {/* jupyter's `normalize.less` sets `[hidden] { display: none; }` but bootstrap.min.css set `[hidden] { display: none !important; }` so we also need the `!important` here to be able to override the default hidden behavior on the sphinx rendered scikit-learn.org. See: https://github.com/scikit-learn/scikit-learn/issues/21755 */display: inline-block !important;position: relative;}#sk-container-id-1 div.sk-text-repr-fallback {display: none;}</style><div id=\"sk-container-id-1\" class=\"sk-top-container\"><div class=\"sk-text-repr-fallback\"><pre>Pipeline(steps=[(&#x27;scale&#x27;, None), (&#x27;model&#x27;, LogisticRegression())])</pre><b>In a Jupyter environment, please rerun this cell to show the HTML representation or trust the notebook. <br />On GitHub, the HTML representation is unable to render, please try loading this page with nbviewer.org.</b></div><div class=\"sk-container\" hidden><div class=\"sk-item sk-dashed-wrapped\"><div class=\"sk-label-container\"><div class=\"sk-label sk-toggleable\"><input class=\"sk-toggleable__control sk-hidden--visually\" id=\"sk-estimator-id-1\" type=\"checkbox\" ><label for=\"sk-estimator-id-1\" class=\"sk-toggleable__label sk-toggleable__label-arrow\">Pipeline</label><div class=\"sk-toggleable__content\"><pre>Pipeline(steps=[(&#x27;scale&#x27;, None), (&#x27;model&#x27;, LogisticRegression())])</pre></div></div></div><div class=\"sk-serial\"><div class=\"sk-item\"><div class=\"sk-estimator sk-toggleable\"><input class=\"sk-toggleable__control sk-hidden--visually\" id=\"sk-estimator-id-2\" type=\"checkbox\" ><label for=\"sk-estimator-id-2\" class=\"sk-toggleable__label sk-toggleable__label-arrow\">None</label><div class=\"sk-toggleable__content\"><pre>None</pre></div></div></div><div class=\"sk-item\"><div class=\"sk-estimator sk-toggleable\"><input class=\"sk-toggleable__control sk-hidden--visually\" id=\"sk-estimator-id-3\" type=\"checkbox\" ><label for=\"sk-estimator-id-3\" class=\"sk-toggleable__label sk-toggleable__label-arrow\">LogisticRegression</label><div class=\"sk-toggleable__content\"><pre>LogisticRegression()</pre></div></div></div></div></div></div></div>"
      ],
      "text/plain": [
       "Pipeline(steps=[('scale', None), ('model', LogisticRegression())])"
      ]
     },
     "execution_count": 43,
     "metadata": {},
     "output_type": "execute_result"
    }
   ],
   "source": [
    "model.fit(X_train, y_train.values.ravel())"
   ]
  },
  {
   "cell_type": "code",
   "execution_count": 44,
   "id": "af59f8c0",
   "metadata": {
    "execution": {
     "iopub.execute_input": "2025-07-30T20:34:39.084868Z",
     "iopub.status.busy": "2025-07-30T20:34:39.084411Z",
     "iopub.status.idle": "2025-07-30T20:34:39.089897Z",
     "shell.execute_reply": "2025-07-30T20:34:39.089086Z"
    },
    "papermill": {
     "duration": 0.030741,
     "end_time": "2025-07-30T20:34:39.091368",
     "exception": false,
     "start_time": "2025-07-30T20:34:39.060627",
     "status": "completed"
    },
    "tags": []
   },
   "outputs": [],
   "source": [
    "from fairness_multiverse.universe import predict_w_threshold"
   ]
  },
  {
   "cell_type": "code",
   "execution_count": 45,
   "id": "a7cf2e16",
   "metadata": {
    "execution": {
     "iopub.execute_input": "2025-07-30T20:34:39.137625Z",
     "iopub.status.busy": "2025-07-30T20:34:39.136950Z",
     "iopub.status.idle": "2025-07-30T20:34:39.232938Z",
     "shell.execute_reply": "2025-07-30T20:34:39.232010Z"
    },
    "papermill": {
     "duration": 0.12164,
     "end_time": "2025-07-30T20:34:39.234538",
     "exception": false,
     "start_time": "2025-07-30T20:34:39.112898",
     "status": "completed"
    },
    "tags": []
   },
   "outputs": [
    {
     "data": {
      "text/plain": [
       "0.8624345112027645"
      ]
     },
     "execution_count": 45,
     "metadata": {},
     "output_type": "execute_result"
    }
   ],
   "source": [
    "probs_test = model.predict_proba(X_test)\n",
    "\n",
    "'''\n",
    "Below code returns a boolean array (or binary 0/1 array depending on how it’s used) where each element \n",
    "is True if the probability of class 1 is greater than or equal to the threshold, and False otherwise.\n",
    "'''\n",
    "y_pred_default = predict_w_threshold(probs_test, 0.5)\n",
    "\n",
    "from sklearn.metrics import accuracy_score\n",
    "\n",
    "# Naive prediction\n",
    "accuracy_score(y_true = y_true, y_pred = y_pred_default)"
   ]
  },
  {
   "cell_type": "code",
   "execution_count": 46,
   "id": "081964c3",
   "metadata": {
    "execution": {
     "iopub.execute_input": "2025-07-30T20:34:39.281149Z",
     "iopub.status.busy": "2025-07-30T20:34:39.280191Z",
     "iopub.status.idle": "2025-07-30T20:34:39.366208Z",
     "shell.execute_reply": "2025-07-30T20:34:39.365293Z"
    },
    "papermill": {
     "duration": 0.111524,
     "end_time": "2025-07-30T20:34:39.367893",
     "exception": false,
     "start_time": "2025-07-30T20:34:39.256369",
     "status": "completed"
    },
    "tags": []
   },
   "outputs": [
    {
     "data": {
      "text/plain": [
       "array([0, 0, 0, ..., 0, 0, 0])"
      ]
     },
     "execution_count": 46,
     "metadata": {},
     "output_type": "execute_result"
    }
   ],
   "source": [
    "model.predict(X_test)"
   ]
  },
  {
   "cell_type": "markdown",
   "id": "56c9705b",
   "metadata": {
    "papermill": {
     "duration": 0.021377,
     "end_time": "2025-07-30T20:34:39.413310",
     "exception": false,
     "start_time": "2025-07-30T20:34:39.391933",
     "status": "completed"
    },
    "tags": []
   },
   "source": [
    "# Conformal Prediction"
   ]
  },
  {
   "cell_type": "code",
   "execution_count": 47,
   "id": "160ec6ff",
   "metadata": {
    "execution": {
     "iopub.execute_input": "2025-07-30T20:34:39.463446Z",
     "iopub.status.busy": "2025-07-30T20:34:39.462788Z",
     "iopub.status.idle": "2025-07-30T20:34:39.468063Z",
     "shell.execute_reply": "2025-07-30T20:34:39.467057Z"
    },
    "papermill": {
     "duration": 0.03301,
     "end_time": "2025-07-30T20:34:39.469728",
     "exception": false,
     "start_time": "2025-07-30T20:34:39.436718",
     "status": "completed"
    },
    "tags": []
   },
   "outputs": [],
   "source": [
    "# Miscoverage level for conformal prediction (10% allowed error rate => 90% target coverage)\n",
    "alpha = 0.1"
   ]
  },
  {
   "cell_type": "code",
   "execution_count": 48,
   "id": "eadf4555-3dd3-440e-8e35-f82a4ad9f855",
   "metadata": {
    "execution": {
     "iopub.execute_input": "2025-07-30T20:34:39.525265Z",
     "iopub.status.busy": "2025-07-30T20:34:39.524885Z",
     "iopub.status.idle": "2025-07-30T20:34:39.597214Z",
     "shell.execute_reply": "2025-07-30T20:34:39.596473Z"
    },
    "papermill": {
     "duration": 0.103705,
     "end_time": "2025-07-30T20:34:39.598669",
     "exception": false,
     "start_time": "2025-07-30T20:34:39.494964",
     "status": "completed"
    },
    "tags": []
   },
   "outputs": [],
   "source": [
    "probs_calib = model.predict_proba(X_calib)"
   ]
  },
  {
   "cell_type": "code",
   "execution_count": 49,
   "id": "2ed93547-6d5d-4983-9b36-1ecb300da49a",
   "metadata": {
    "execution": {
     "iopub.execute_input": "2025-07-30T20:34:39.635040Z",
     "iopub.status.busy": "2025-07-30T20:34:39.634599Z",
     "iopub.status.idle": "2025-07-30T20:34:39.640369Z",
     "shell.execute_reply": "2025-07-30T20:34:39.639296Z"
    },
    "papermill": {
     "duration": 0.031131,
     "end_time": "2025-07-30T20:34:39.642206",
     "exception": false,
     "start_time": "2025-07-30T20:34:39.611075",
     "status": "completed"
    },
    "tags": []
   },
   "outputs": [],
   "source": [
    "y_calib = y_calib.values.ravel().astype(int)"
   ]
  },
  {
   "cell_type": "code",
   "execution_count": 50,
   "id": "65d1320d-f588-4b38-9072-62af1ae97f7d",
   "metadata": {
    "execution": {
     "iopub.execute_input": "2025-07-30T20:34:39.676273Z",
     "iopub.status.busy": "2025-07-30T20:34:39.675790Z",
     "iopub.status.idle": "2025-07-30T20:34:39.682094Z",
     "shell.execute_reply": "2025-07-30T20:34:39.681444Z"
    },
    "papermill": {
     "duration": 0.020934,
     "end_time": "2025-07-30T20:34:39.683414",
     "exception": false,
     "start_time": "2025-07-30T20:34:39.662480",
     "status": "completed"
    },
    "tags": []
   },
   "outputs": [],
   "source": [
    "from fairness_multiverse.conformal import compute_nc_scores\n",
    "\n",
    "# Compute nonconformity scores on calibration set (1 - probability of true class)\n",
    "nc_scores = compute_nc_scores(probs_calib, y_calib)"
   ]
  },
  {
   "cell_type": "code",
   "execution_count": 51,
   "id": "df3b8ca3-53b7-43d5-9667-7c85da7aeda2",
   "metadata": {
    "execution": {
     "iopub.execute_input": "2025-07-30T20:34:39.709643Z",
     "iopub.status.busy": "2025-07-30T20:34:39.709144Z",
     "iopub.status.idle": "2025-07-30T20:34:39.714734Z",
     "shell.execute_reply": "2025-07-30T20:34:39.714039Z"
    },
    "papermill": {
     "duration": 0.019633,
     "end_time": "2025-07-30T20:34:39.716059",
     "exception": false,
     "start_time": "2025-07-30T20:34:39.696426",
     "status": "completed"
    },
    "tags": []
   },
   "outputs": [],
   "source": [
    "from fairness_multiverse.conformal import find_threshold\n",
    "\n",
    "# Find conformal threshold q_hat for the given alpha (split conformal method)\n",
    "q_hat = find_threshold(nc_scores, alpha)"
   ]
  },
  {
   "cell_type": "code",
   "execution_count": 52,
   "id": "4d29e6c1-0ef6-4aa4-b8fe-4fe79b0d033a",
   "metadata": {
    "execution": {
     "iopub.execute_input": "2025-07-30T20:34:39.742958Z",
     "iopub.status.busy": "2025-07-30T20:34:39.742456Z",
     "iopub.status.idle": "2025-07-30T20:34:39.748774Z",
     "shell.execute_reply": "2025-07-30T20:34:39.748011Z"
    },
    "papermill": {
     "duration": 0.02114,
     "end_time": "2025-07-30T20:34:39.750101",
     "exception": false,
     "start_time": "2025-07-30T20:34:39.728961",
     "status": "completed"
    },
    "tags": []
   },
   "outputs": [
    {
     "data": {
      "text/plain": [
       "0.673671679915707"
      ]
     },
     "execution_count": 52,
     "metadata": {},
     "output_type": "execute_result"
    }
   ],
   "source": [
    "q_hat"
   ]
  },
  {
   "cell_type": "code",
   "execution_count": 53,
   "id": "92460794-cdac-4be2-ba28-f28c0515a6fb",
   "metadata": {
    "execution": {
     "iopub.execute_input": "2025-07-30T20:34:39.777378Z",
     "iopub.status.busy": "2025-07-30T20:34:39.776875Z",
     "iopub.status.idle": "2025-07-30T20:34:40.421321Z",
     "shell.execute_reply": "2025-07-30T20:34:40.420575Z"
    },
    "papermill": {
     "duration": 0.659587,
     "end_time": "2025-07-30T20:34:40.422702",
     "exception": false,
     "start_time": "2025-07-30T20:34:39.763115",
     "status": "completed"
    },
    "tags": []
   },
   "outputs": [],
   "source": [
    "from fairness_multiverse.conformal import predict_conformal_sets\n",
    "\n",
    "# Generate prediction sets for each test example\n",
    "pred_sets = predict_conformal_sets(model, X_test, q_hat)"
   ]
  },
  {
   "cell_type": "code",
   "execution_count": 54,
   "id": "d90c9a65-e6db-4f5d-80cd-e68fb7e46829",
   "metadata": {
    "execution": {
     "iopub.execute_input": "2025-07-30T20:34:40.466933Z",
     "iopub.status.busy": "2025-07-30T20:34:40.466482Z",
     "iopub.status.idle": "2025-07-30T20:34:40.472136Z",
     "shell.execute_reply": "2025-07-30T20:34:40.471157Z"
    },
    "papermill": {
     "duration": 0.032785,
     "end_time": "2025-07-30T20:34:40.473981",
     "exception": false,
     "start_time": "2025-07-30T20:34:40.441196",
     "status": "completed"
    },
    "tags": []
   },
   "outputs": [],
   "source": [
    "y_true = y_true.squeeze()"
   ]
  },
  {
   "cell_type": "code",
   "execution_count": 55,
   "id": "3a58a54a-1e68-46b9-927a-df01f18aebc8",
   "metadata": {
    "execution": {
     "iopub.execute_input": "2025-07-30T20:34:40.525737Z",
     "iopub.status.busy": "2025-07-30T20:34:40.525248Z",
     "iopub.status.idle": "2025-07-30T20:34:41.482936Z",
     "shell.execute_reply": "2025-07-30T20:34:41.481982Z"
    },
    "papermill": {
     "duration": 0.985935,
     "end_time": "2025-07-30T20:34:41.484899",
     "exception": false,
     "start_time": "2025-07-30T20:34:40.498964",
     "status": "completed"
    },
    "tags": []
   },
   "outputs": [],
   "source": [
    "from fairness_multiverse.conformal import evaluate_sets\n",
    "\n",
    "# Evaluate coverage and average set size on test data\n",
    "metrics = evaluate_sets(pred_sets, y_true)"
   ]
  },
  {
   "cell_type": "markdown",
   "id": "2b569c12-9aaa-4c88-98c9-bbcd0cf3ebb8",
   "metadata": {
    "papermill": {
     "duration": 0.020399,
     "end_time": "2025-07-30T20:34:41.534524",
     "exception": false,
     "start_time": "2025-07-30T20:34:41.514125",
     "status": "completed"
    },
    "tags": []
   },
   "source": [
    "# CP Metrics"
   ]
  },
  {
   "cell_type": "code",
   "execution_count": 56,
   "id": "5ce0a5cb-201f-45a0-ade5-94c7f0bd6095",
   "metadata": {
    "execution": {
     "iopub.execute_input": "2025-07-30T20:34:41.582667Z",
     "iopub.status.busy": "2025-07-30T20:34:41.582144Z",
     "iopub.status.idle": "2025-07-30T20:34:41.589776Z",
     "shell.execute_reply": "2025-07-30T20:34:41.588763Z"
    },
    "papermill": {
     "duration": 0.03177,
     "end_time": "2025-07-30T20:34:41.591330",
     "exception": false,
     "start_time": "2025-07-30T20:34:41.559560",
     "status": "completed"
    },
    "tags": []
   },
   "outputs": [
    {
     "data": {
      "text/plain": [
       "{'coverage': 0.9121614089845056, 'avg_size': 1.2037676959090402}"
      ]
     },
     "execution_count": 56,
     "metadata": {},
     "output_type": "execute_result"
    }
   ],
   "source": [
    "metrics"
   ]
  },
  {
   "cell_type": "code",
   "execution_count": 57,
   "id": "9b9a838d-31c9-430b-ae14-12baee460d17",
   "metadata": {
    "execution": {
     "iopub.execute_input": "2025-07-30T20:34:41.643188Z",
     "iopub.status.busy": "2025-07-30T20:34:41.642311Z",
     "iopub.status.idle": "2025-07-30T20:34:41.649028Z",
     "shell.execute_reply": "2025-07-30T20:34:41.648078Z"
    },
    "papermill": {
     "duration": 0.033362,
     "end_time": "2025-07-30T20:34:41.650776",
     "exception": false,
     "start_time": "2025-07-30T20:34:41.617414",
     "status": "completed"
    },
    "tags": []
   },
   "outputs": [],
   "source": [
    "example_universe = universe.copy()\n",
    "universe_training_year = example_universe.get(\"training_year\")\n",
    "universe_training_size = example_universe.get(\"training_size\")\n",
    "universe_scale = example_universe.get(\"scale\")\n",
    "universe_model = example_universe.get(\"model\")\n",
    "universe_exclude_features = example_universe.get(\"exclude_features\")\n",
    "universe_exclude_subgroups = example_universe.get(\"exclude_subgroups\")"
   ]
  },
  {
   "cell_type": "code",
   "execution_count": 58,
   "id": "f4b6a8ac-9dc0-4245-8a91-5b3b5999c4f9",
   "metadata": {
    "execution": {
     "iopub.execute_input": "2025-07-30T20:34:41.688009Z",
     "iopub.status.busy": "2025-07-30T20:34:41.687567Z",
     "iopub.status.idle": "2025-07-30T20:34:41.693718Z",
     "shell.execute_reply": "2025-07-30T20:34:41.692851Z"
    },
    "papermill": {
     "duration": 0.02175,
     "end_time": "2025-07-30T20:34:41.695026",
     "exception": false,
     "start_time": "2025-07-30T20:34:41.673276",
     "status": "completed"
    },
    "tags": []
   },
   "outputs": [],
   "source": [
    "cp_metrics_dict = {\n",
    "    \"universe_id\": [universe_id],\n",
    "    \"universe_training_year\": [universe_training_year],\n",
    "    \"universe_training_size\": [universe_training_size],\n",
    "    \"universe_scale\": [universe_scale],\n",
    "    \"universe_model\": [universe_model],\n",
    "    \"universe_exclude_features\": [universe_exclude_features],\n",
    "    \"universe_exclude_subgroups\": [universe_exclude_subgroups],\n",
    "    \"q_hat\": [q_hat],\n",
    "    \"coverage\": [metrics[\"coverage\"]],\n",
    "    \"avg_size\": [metrics[\"avg_size\"]],\n",
    "}"
   ]
  },
  {
   "cell_type": "code",
   "execution_count": 59,
   "id": "908acbb1-0371-4915-85ca-3fa520d2efe2",
   "metadata": {
    "execution": {
     "iopub.execute_input": "2025-07-30T20:34:41.730084Z",
     "iopub.status.busy": "2025-07-30T20:34:41.729365Z",
     "iopub.status.idle": "2025-07-30T20:34:41.737064Z",
     "shell.execute_reply": "2025-07-30T20:34:41.736075Z"
    },
    "papermill": {
     "duration": 0.030224,
     "end_time": "2025-07-30T20:34:41.738763",
     "exception": false,
     "start_time": "2025-07-30T20:34:41.708539",
     "status": "completed"
    },
    "tags": []
   },
   "outputs": [
    {
     "data": {
      "text/plain": [
       "{'universe_id': ['9c5f0190991d64c8c16023a7a46c5d00'],\n",
       " 'universe_training_year': ['2010_14'],\n",
       " 'universe_training_size': ['25k'],\n",
       " 'universe_scale': ['do-not-scale'],\n",
       " 'universe_model': ['penalized_logreg'],\n",
       " 'universe_exclude_features': ['none'],\n",
       " 'universe_exclude_subgroups': ['keep-all'],\n",
       " 'q_hat': [0.673671679915707],\n",
       " 'coverage': [0.9121614089845056],\n",
       " 'avg_size': [1.2037676959090402]}"
      ]
     },
     "execution_count": 59,
     "metadata": {},
     "output_type": "execute_result"
    }
   ],
   "source": [
    "cp_metrics_dict"
   ]
  },
  {
   "cell_type": "code",
   "execution_count": 60,
   "id": "33007efc-14e9-4ec6-97ac-56a455c82265",
   "metadata": {
    "execution": {
     "iopub.execute_input": "2025-07-30T20:34:41.791995Z",
     "iopub.status.busy": "2025-07-30T20:34:41.791472Z",
     "iopub.status.idle": "2025-07-30T20:34:41.798306Z",
     "shell.execute_reply": "2025-07-30T20:34:41.797316Z"
    },
    "papermill": {
     "duration": 0.0355,
     "end_time": "2025-07-30T20:34:41.799734",
     "exception": false,
     "start_time": "2025-07-30T20:34:41.764234",
     "status": "completed"
    },
    "tags": []
   },
   "outputs": [],
   "source": [
    "cp_metrics_df = pd.DataFrame(cp_metrics_dict)"
   ]
  },
  {
   "cell_type": "code",
   "execution_count": 61,
   "id": "db12611b-57b2-4910-b9d0-355adfd6e7bf",
   "metadata": {
    "execution": {
     "iopub.execute_input": "2025-07-30T20:34:41.853837Z",
     "iopub.status.busy": "2025-07-30T20:34:41.853192Z",
     "iopub.status.idle": "2025-07-30T20:34:41.873941Z",
     "shell.execute_reply": "2025-07-30T20:34:41.873026Z"
    },
    "papermill": {
     "duration": 0.0487,
     "end_time": "2025-07-30T20:34:41.875533",
     "exception": false,
     "start_time": "2025-07-30T20:34:41.826833",
     "status": "completed"
    },
    "tags": []
   },
   "outputs": [
    {
     "data": {
      "text/html": [
       "<div>\n",
       "<style scoped>\n",
       "    .dataframe tbody tr th:only-of-type {\n",
       "        vertical-align: middle;\n",
       "    }\n",
       "\n",
       "    .dataframe tbody tr th {\n",
       "        vertical-align: top;\n",
       "    }\n",
       "\n",
       "    .dataframe thead th {\n",
       "        text-align: right;\n",
       "    }\n",
       "</style>\n",
       "<table border=\"1\" class=\"dataframe\">\n",
       "  <thead>\n",
       "    <tr style=\"text-align: right;\">\n",
       "      <th></th>\n",
       "      <th>universe_id</th>\n",
       "      <th>universe_training_year</th>\n",
       "      <th>universe_training_size</th>\n",
       "      <th>universe_scale</th>\n",
       "      <th>universe_model</th>\n",
       "      <th>universe_exclude_features</th>\n",
       "      <th>universe_exclude_subgroups</th>\n",
       "      <th>q_hat</th>\n",
       "      <th>coverage</th>\n",
       "      <th>avg_size</th>\n",
       "    </tr>\n",
       "  </thead>\n",
       "  <tbody>\n",
       "    <tr>\n",
       "      <th>0</th>\n",
       "      <td>9c5f0190991d64c8c16023a7a46c5d00</td>\n",
       "      <td>2010_14</td>\n",
       "      <td>25k</td>\n",
       "      <td>do-not-scale</td>\n",
       "      <td>penalized_logreg</td>\n",
       "      <td>none</td>\n",
       "      <td>keep-all</td>\n",
       "      <td>0.673672</td>\n",
       "      <td>0.912161</td>\n",
       "      <td>1.203768</td>\n",
       "    </tr>\n",
       "  </tbody>\n",
       "</table>\n",
       "</div>"
      ],
      "text/plain": [
       "                        universe_id universe_training_year  \\\n",
       "0  9c5f0190991d64c8c16023a7a46c5d00                2010_14   \n",
       "\n",
       "  universe_training_size universe_scale    universe_model  \\\n",
       "0                    25k   do-not-scale  penalized_logreg   \n",
       "\n",
       "  universe_exclude_features universe_exclude_subgroups     q_hat  coverage  \\\n",
       "0                      none                   keep-all  0.673672  0.912161   \n",
       "\n",
       "   avg_size  \n",
       "0  1.203768  "
      ]
     },
     "execution_count": 61,
     "metadata": {},
     "output_type": "execute_result"
    }
   ],
   "source": [
    "cp_metrics_df"
   ]
  },
  {
   "cell_type": "code",
   "execution_count": 62,
   "id": "b7fbde55-a0a1-47e4-9af6-fe4a17fa8c61",
   "metadata": {
    "execution": {
     "iopub.execute_input": "2025-07-30T20:34:41.927523Z",
     "iopub.status.busy": "2025-07-30T20:34:41.926595Z",
     "iopub.status.idle": "2025-07-30T20:34:41.931933Z",
     "shell.execute_reply": "2025-07-30T20:34:41.930982Z"
    },
    "papermill": {
     "duration": 0.032527,
     "end_time": "2025-07-30T20:34:41.933708",
     "exception": false,
     "start_time": "2025-07-30T20:34:41.901181",
     "status": "completed"
    },
    "tags": []
   },
   "outputs": [],
   "source": [
    "# Conditional Coverage & looking at subgroups"
   ]
  },
  {
   "cell_type": "code",
   "execution_count": 63,
   "id": "027ae886-68dd-4141-96c7-805a5450e1ef",
   "metadata": {
    "execution": {
     "iopub.execute_input": "2025-07-30T20:34:41.986746Z",
     "iopub.status.busy": "2025-07-30T20:34:41.985900Z",
     "iopub.status.idle": "2025-07-30T20:34:42.266134Z",
     "shell.execute_reply": "2025-07-30T20:34:42.265018Z"
    },
    "papermill": {
     "duration": 0.308716,
     "end_time": "2025-07-30T20:34:42.268265",
     "exception": false,
     "start_time": "2025-07-30T20:34:41.959549",
     "status": "completed"
    },
    "tags": []
   },
   "outputs": [],
   "source": [
    "from fairness_multiverse.conformal import build_cp_groups\n",
    "\n",
    "cp_groups_df = build_cp_groups(pred_sets, y_true, X_test.index, org_test)\n",
    "#needs universe_id and setting"
   ]
  },
  {
   "cell_type": "code",
   "execution_count": 64,
   "id": "01d5802c-663a-4d1f-9d69-e036faaffbf7",
   "metadata": {
    "execution": {
     "iopub.execute_input": "2025-07-30T20:34:42.324697Z",
     "iopub.status.busy": "2025-07-30T20:34:42.323978Z",
     "iopub.status.idle": "2025-07-30T20:34:42.329237Z",
     "shell.execute_reply": "2025-07-30T20:34:42.328218Z"
    },
    "papermill": {
     "duration": 0.034705,
     "end_time": "2025-07-30T20:34:42.330904",
     "exception": false,
     "start_time": "2025-07-30T20:34:42.296199",
     "status": "completed"
    },
    "tags": []
   },
   "outputs": [],
   "source": [
    "#delete\n",
    "#cp_groups_df"
   ]
  },
  {
   "cell_type": "code",
   "execution_count": 65,
   "id": "fa424af1-d1eb-443d-b717-2d279ada8408",
   "metadata": {
    "execution": {
     "iopub.execute_input": "2025-07-30T20:34:42.387162Z",
     "iopub.status.busy": "2025-07-30T20:34:42.386628Z",
     "iopub.status.idle": "2025-07-30T20:34:42.391938Z",
     "shell.execute_reply": "2025-07-30T20:34:42.390912Z"
    },
    "papermill": {
     "duration": 0.0355,
     "end_time": "2025-07-30T20:34:42.393669",
     "exception": false,
     "start_time": "2025-07-30T20:34:42.358169",
     "status": "completed"
    },
    "tags": []
   },
   "outputs": [],
   "source": [
    "#delete\n",
    "#percentage = (cp_groups_df['nongerman_female'] == 1).mean() * 100\n",
    "#print(percentage)\n"
   ]
  },
  {
   "cell_type": "code",
   "execution_count": 66,
   "id": "6cbdab96-b2b2-45af-ad54-d0516db2e28d",
   "metadata": {
    "execution": {
     "iopub.execute_input": "2025-07-30T20:34:42.449590Z",
     "iopub.status.busy": "2025-07-30T20:34:42.449069Z",
     "iopub.status.idle": "2025-07-30T20:34:44.044654Z",
     "shell.execute_reply": "2025-07-30T20:34:44.043563Z"
    },
    "papermill": {
     "duration": 1.626453,
     "end_time": "2025-07-30T20:34:44.047012",
     "exception": false,
     "start_time": "2025-07-30T20:34:42.420559",
     "status": "completed"
    },
    "tags": []
   },
   "outputs": [],
   "source": [
    "# Define covered = 1 if true_label is in the predicted set\n",
    "cp_groups_df['covered'] = cp_groups_df.apply(\n",
    "    lambda r: int(r['true_label'] in r['pred_set']),\n",
    "    axis=1\n",
    ")"
   ]
  },
  {
   "cell_type": "code",
   "execution_count": 67,
   "id": "338ff529-1a6b-4b87-a931-8e4788d52aad",
   "metadata": {
    "execution": {
     "iopub.execute_input": "2025-07-30T20:34:44.112697Z",
     "iopub.status.busy": "2025-07-30T20:34:44.111840Z",
     "iopub.status.idle": "2025-07-30T20:34:44.117013Z",
     "shell.execute_reply": "2025-07-30T20:34:44.115891Z"
    },
    "papermill": {
     "duration": 0.040108,
     "end_time": "2025-07-30T20:34:44.118927",
     "exception": false,
     "start_time": "2025-07-30T20:34:44.078819",
     "status": "completed"
    },
    "tags": []
   },
   "outputs": [],
   "source": [
    "#cp_groups_df"
   ]
  },
  {
   "cell_type": "code",
   "execution_count": 68,
   "id": "90032e27-66df-4540-9169-4e89cfbaa758",
   "metadata": {
    "execution": {
     "iopub.execute_input": "2025-07-30T20:34:44.184249Z",
     "iopub.status.busy": "2025-07-30T20:34:44.183303Z",
     "iopub.status.idle": "2025-07-30T20:34:44.195982Z",
     "shell.execute_reply": "2025-07-30T20:34:44.194966Z"
    },
    "papermill": {
     "duration": 0.047288,
     "end_time": "2025-07-30T20:34:44.197885",
     "exception": false,
     "start_time": "2025-07-30T20:34:44.150597",
     "status": "completed"
    },
    "tags": []
   },
   "outputs": [],
   "source": [
    "subgroups = ['frau1','nongerman','nongerman_male','nongerman_female']\n",
    "\n",
    "# Conditional coverage for subgroup==1\n",
    "cond_coverage = {\n",
    "    g: cp_groups_df.loc[cp_groups_df[g]==1, 'covered'].mean()\n",
    "    for g in subgroups\n",
    "}"
   ]
  },
  {
   "cell_type": "code",
   "execution_count": 69,
   "id": "1e348fb1-b9c3-45bc-ba23-f016827a7e0d",
   "metadata": {
    "execution": {
     "iopub.execute_input": "2025-07-30T20:34:44.253451Z",
     "iopub.status.busy": "2025-07-30T20:34:44.252389Z",
     "iopub.status.idle": "2025-07-30T20:34:44.260787Z",
     "shell.execute_reply": "2025-07-30T20:34:44.259515Z"
    },
    "papermill": {
     "duration": 0.038923,
     "end_time": "2025-07-30T20:34:44.262421",
     "exception": false,
     "start_time": "2025-07-30T20:34:44.223498",
     "status": "completed"
    },
    "tags": []
   },
   "outputs": [
    {
     "data": {
      "text/plain": [
       "{'frau1': 0.9117940423237633,\n",
       " 'nongerman': 0.931847527086959,\n",
       " 'nongerman_male': 0.9438890389984689,\n",
       " 'nongerman_female': 0.9119225037257824}"
      ]
     },
     "execution_count": 69,
     "metadata": {},
     "output_type": "execute_result"
    }
   ],
   "source": [
    "cond_coverage"
   ]
  },
  {
   "cell_type": "code",
   "execution_count": 70,
   "id": "f5093324-c3dd-4d63-bc4c-8d945e5c8bbb",
   "metadata": {
    "execution": {
     "iopub.execute_input": "2025-07-30T20:34:44.318996Z",
     "iopub.status.busy": "2025-07-30T20:34:44.317620Z",
     "iopub.status.idle": "2025-07-30T20:34:44.328397Z",
     "shell.execute_reply": "2025-07-30T20:34:44.327159Z"
    },
    "papermill": {
     "duration": 0.041645,
     "end_time": "2025-07-30T20:34:44.330178",
     "exception": false,
     "start_time": "2025-07-30T20:34:44.288533",
     "status": "completed"
    },
    "tags": []
   },
   "outputs": [],
   "source": [
    "for subgroup, cov in cond_coverage.items():\n",
    "    cp_metrics_df[f\"cov_{subgroup}\"] = cov"
   ]
  },
  {
   "cell_type": "code",
   "execution_count": 71,
   "id": "6e872e10-dbe5-49e8-b554-5030c98ff75d",
   "metadata": {
    "execution": {
     "iopub.execute_input": "2025-07-30T20:34:44.388770Z",
     "iopub.status.busy": "2025-07-30T20:34:44.387787Z",
     "iopub.status.idle": "2025-07-30T20:34:44.407570Z",
     "shell.execute_reply": "2025-07-30T20:34:44.406480Z"
    },
    "papermill": {
     "duration": 0.050655,
     "end_time": "2025-07-30T20:34:44.409711",
     "exception": false,
     "start_time": "2025-07-30T20:34:44.359056",
     "status": "completed"
    },
    "tags": []
   },
   "outputs": [
    {
     "data": {
      "text/html": [
       "<div>\n",
       "<style scoped>\n",
       "    .dataframe tbody tr th:only-of-type {\n",
       "        vertical-align: middle;\n",
       "    }\n",
       "\n",
       "    .dataframe tbody tr th {\n",
       "        vertical-align: top;\n",
       "    }\n",
       "\n",
       "    .dataframe thead th {\n",
       "        text-align: right;\n",
       "    }\n",
       "</style>\n",
       "<table border=\"1\" class=\"dataframe\">\n",
       "  <thead>\n",
       "    <tr style=\"text-align: right;\">\n",
       "      <th></th>\n",
       "      <th>universe_id</th>\n",
       "      <th>universe_training_year</th>\n",
       "      <th>universe_training_size</th>\n",
       "      <th>universe_scale</th>\n",
       "      <th>universe_model</th>\n",
       "      <th>universe_exclude_features</th>\n",
       "      <th>universe_exclude_subgroups</th>\n",
       "      <th>q_hat</th>\n",
       "      <th>coverage</th>\n",
       "      <th>avg_size</th>\n",
       "      <th>cov_frau1</th>\n",
       "      <th>cov_nongerman</th>\n",
       "      <th>cov_nongerman_male</th>\n",
       "      <th>cov_nongerman_female</th>\n",
       "    </tr>\n",
       "  </thead>\n",
       "  <tbody>\n",
       "    <tr>\n",
       "      <th>0</th>\n",
       "      <td>9c5f0190991d64c8c16023a7a46c5d00</td>\n",
       "      <td>2010_14</td>\n",
       "      <td>25k</td>\n",
       "      <td>do-not-scale</td>\n",
       "      <td>penalized_logreg</td>\n",
       "      <td>none</td>\n",
       "      <td>keep-all</td>\n",
       "      <td>0.673672</td>\n",
       "      <td>0.912161</td>\n",
       "      <td>1.203768</td>\n",
       "      <td>0.911794</td>\n",
       "      <td>0.931848</td>\n",
       "      <td>0.943889</td>\n",
       "      <td>0.911923</td>\n",
       "    </tr>\n",
       "  </tbody>\n",
       "</table>\n",
       "</div>"
      ],
      "text/plain": [
       "                        universe_id universe_training_year  \\\n",
       "0  9c5f0190991d64c8c16023a7a46c5d00                2010_14   \n",
       "\n",
       "  universe_training_size universe_scale    universe_model  \\\n",
       "0                    25k   do-not-scale  penalized_logreg   \n",
       "\n",
       "  universe_exclude_features universe_exclude_subgroups     q_hat  coverage  \\\n",
       "0                      none                   keep-all  0.673672  0.912161   \n",
       "\n",
       "   avg_size  cov_frau1  cov_nongerman  cov_nongerman_male  \\\n",
       "0  1.203768   0.911794       0.931848            0.943889   \n",
       "\n",
       "   cov_nongerman_female  \n",
       "0              0.911923  "
      ]
     },
     "execution_count": 71,
     "metadata": {},
     "output_type": "execute_result"
    }
   ],
   "source": [
    "cp_metrics_df"
   ]
  },
  {
   "cell_type": "markdown",
   "id": "33774451",
   "metadata": {
    "papermill": {
     "duration": 0.037516,
     "end_time": "2025-07-30T20:34:44.481465",
     "exception": false,
     "start_time": "2025-07-30T20:34:44.443949",
     "status": "completed"
    },
    "tags": []
   },
   "source": [
    "# (Fairness) Metrics"
   ]
  },
  {
   "cell_type": "code",
   "execution_count": 72,
   "id": "debc5d62",
   "metadata": {
    "execution": {
     "iopub.execute_input": "2025-07-30T20:34:44.561269Z",
     "iopub.status.busy": "2025-07-30T20:34:44.560653Z",
     "iopub.status.idle": "2025-07-30T20:34:44.584872Z",
     "shell.execute_reply": "2025-07-30T20:34:44.583676Z"
    },
    "papermill": {
     "duration": 0.066424,
     "end_time": "2025-07-30T20:34:44.587658",
     "exception": false,
     "start_time": "2025-07-30T20:34:44.521234",
     "status": "completed"
    },
    "tags": []
   },
   "outputs": [],
   "source": [
    "# do I need to include maxdeutsch1.missing?\n",
    "\n",
    "import numpy as np\n",
    "\n",
    "colname_to_bin = \"maxdeutsch1\"\n",
    "majority_value = org_train[colname_to_bin].mode()[0]\n",
    "\n",
    "org_test[\"majmin\"] = np.where(org_test[colname_to_bin] == majority_value, \"majority\", \"minority\")"
   ]
  },
  {
   "cell_type": "code",
   "execution_count": 73,
   "id": "06a50de5",
   "metadata": {
    "execution": {
     "iopub.execute_input": "2025-07-30T20:34:44.666988Z",
     "iopub.status.busy": "2025-07-30T20:34:44.665726Z",
     "iopub.status.idle": "2025-07-30T20:34:47.266814Z",
     "shell.execute_reply": "2025-07-30T20:34:47.265729Z"
    },
    "papermill": {
     "duration": 2.642906,
     "end_time": "2025-07-30T20:34:47.268835",
     "exception": false,
     "start_time": "2025-07-30T20:34:44.625929",
     "status": "completed"
    },
    "tags": []
   },
   "outputs": [],
   "source": [
    "example_universe = universe.copy()\n",
    "example_universe[\"cutoff\"] = example_universe[\"cutoff\"][0]\n",
    "example_universe[\"eval_fairness_grouping\"] = example_universe[\"eval_fairness_grouping\"][0]\n",
    "fairness_dict, metric_frame = universe_analysis.compute_metrics(\n",
    "    example_universe,\n",
    "    y_pred_prob=probs_test,\n",
    "    y_test=y_true,\n",
    "    org_test=org_test,\n",
    ")"
   ]
  },
  {
   "cell_type": "markdown",
   "id": "f95d4e02",
   "metadata": {
    "papermill": {
     "duration": 0.026308,
     "end_time": "2025-07-30T20:34:47.323301",
     "exception": false,
     "start_time": "2025-07-30T20:34:47.296993",
     "status": "completed"
    },
    "tags": []
   },
   "source": [
    "# Overall"
   ]
  },
  {
   "cell_type": "markdown",
   "id": "bdee4871",
   "metadata": {
    "papermill": {
     "duration": 0.025782,
     "end_time": "2025-07-30T20:34:47.375917",
     "exception": false,
     "start_time": "2025-07-30T20:34:47.350135",
     "status": "completed"
    },
    "tags": []
   },
   "source": [
    "Fairness\n",
    "Main fairness target: Equalized Odds. Seems to be a better fit than equal opportunity, since we're not only interested in Y = 1. Seems to be a better fit than demographic parity, since we also care about accuracy, not just equal distribution of preds.\n",
    "\n",
    "Pick column for computation of fairness metrics\n",
    "\n",
    "Performance\n",
    "Overall performance measures, most interesting in relation to the measures split by group below"
   ]
  },
  {
   "cell_type": "code",
   "execution_count": 74,
   "id": "c4e067c6",
   "metadata": {
    "execution": {
     "iopub.execute_input": "2025-07-30T20:34:47.429157Z",
     "iopub.status.busy": "2025-07-30T20:34:47.428155Z",
     "iopub.status.idle": "2025-07-30T20:34:47.439475Z",
     "shell.execute_reply": "2025-07-30T20:34:47.438394Z"
    },
    "papermill": {
     "duration": 0.039629,
     "end_time": "2025-07-30T20:34:47.441382",
     "exception": false,
     "start_time": "2025-07-30T20:34:47.401753",
     "status": "completed"
    },
    "tags": []
   },
   "outputs": [
    {
     "data": {
      "text/plain": [
       "accuracy                   0.217557\n",
       "balanced accuracy          0.533384\n",
       "f1                         0.239076\n",
       "precision                  0.136576\n",
       "false positive rate        0.891435\n",
       "false negative rate        0.041797\n",
       "selection rate             0.900000\n",
       "count                  89710.000000\n",
       "dtype: float64"
      ]
     },
     "execution_count": 74,
     "metadata": {},
     "output_type": "execute_result"
    }
   ],
   "source": [
    "metric_frame.overall"
   ]
  },
  {
   "cell_type": "markdown",
   "id": "e968fe9d",
   "metadata": {
    "papermill": {
     "duration": 0.014446,
     "end_time": "2025-07-30T20:34:47.502095",
     "exception": false,
     "start_time": "2025-07-30T20:34:47.487649",
     "status": "completed"
    },
    "tags": []
   },
   "source": [
    "By Group"
   ]
  },
  {
   "cell_type": "code",
   "execution_count": 75,
   "id": "ec325bce",
   "metadata": {
    "execution": {
     "iopub.execute_input": "2025-07-30T20:34:47.542553Z",
     "iopub.status.busy": "2025-07-30T20:34:47.542202Z",
     "iopub.status.idle": "2025-07-30T20:34:47.561870Z",
     "shell.execute_reply": "2025-07-30T20:34:47.560854Z"
    },
    "papermill": {
     "duration": 0.040336,
     "end_time": "2025-07-30T20:34:47.563557",
     "exception": false,
     "start_time": "2025-07-30T20:34:47.523221",
     "status": "completed"
    },
    "tags": []
   },
   "outputs": [
    {
     "data": {
      "text/html": [
       "<div>\n",
       "<style scoped>\n",
       "    .dataframe tbody tr th:only-of-type {\n",
       "        vertical-align: middle;\n",
       "    }\n",
       "\n",
       "    .dataframe tbody tr th {\n",
       "        vertical-align: top;\n",
       "    }\n",
       "\n",
       "    .dataframe thead th {\n",
       "        text-align: right;\n",
       "    }\n",
       "</style>\n",
       "<table border=\"1\" class=\"dataframe\">\n",
       "  <thead>\n",
       "    <tr style=\"text-align: right;\">\n",
       "      <th></th>\n",
       "      <th>accuracy</th>\n",
       "      <th>balanced accuracy</th>\n",
       "      <th>f1</th>\n",
       "      <th>precision</th>\n",
       "      <th>false positive rate</th>\n",
       "      <th>false negative rate</th>\n",
       "      <th>selection rate</th>\n",
       "      <th>count</th>\n",
       "    </tr>\n",
       "    <tr>\n",
       "      <th>majmin</th>\n",
       "      <th></th>\n",
       "      <th></th>\n",
       "      <th></th>\n",
       "      <th></th>\n",
       "      <th></th>\n",
       "      <th></th>\n",
       "      <th></th>\n",
       "      <th></th>\n",
       "    </tr>\n",
       "  </thead>\n",
       "  <tbody>\n",
       "    <tr>\n",
       "      <th>majority</th>\n",
       "      <td>0.239728</td>\n",
       "      <td>0.541117</td>\n",
       "      <td>0.248399</td>\n",
       "      <td>0.142862</td>\n",
       "      <td>0.868532</td>\n",
       "      <td>0.049234</td>\n",
       "      <td>0.879399</td>\n",
       "      <td>69170.0</td>\n",
       "    </tr>\n",
       "    <tr>\n",
       "      <th>minority</th>\n",
       "      <td>0.142892</td>\n",
       "      <td>0.509908</td>\n",
       "      <td>0.209794</td>\n",
       "      <td>0.117372</td>\n",
       "      <td>0.967092</td>\n",
       "      <td>0.013091</td>\n",
       "      <td>0.969377</td>\n",
       "      <td>20540.0</td>\n",
       "    </tr>\n",
       "  </tbody>\n",
       "</table>\n",
       "</div>"
      ],
      "text/plain": [
       "          accuracy  balanced accuracy        f1  precision  \\\n",
       "majmin                                                       \n",
       "majority  0.239728           0.541117  0.248399   0.142862   \n",
       "minority  0.142892           0.509908  0.209794   0.117372   \n",
       "\n",
       "          false positive rate  false negative rate  selection rate    count  \n",
       "majmin                                                                       \n",
       "majority             0.868532             0.049234        0.879399  69170.0  \n",
       "minority             0.967092             0.013091        0.969377  20540.0  "
      ]
     },
     "execution_count": 75,
     "metadata": {},
     "output_type": "execute_result"
    }
   ],
   "source": [
    "metric_frame.by_group"
   ]
  },
  {
   "cell_type": "code",
   "execution_count": 76,
   "id": "a9ddbe63",
   "metadata": {
    "execution": {
     "iopub.execute_input": "2025-07-30T20:34:47.602527Z",
     "iopub.status.busy": "2025-07-30T20:34:47.602181Z",
     "iopub.status.idle": "2025-07-30T20:34:50.019382Z",
     "shell.execute_reply": "2025-07-30T20:34:50.018455Z"
    },
    "papermill": {
     "duration": 2.43426,
     "end_time": "2025-07-30T20:34:50.021126",
     "exception": false,
     "start_time": "2025-07-30T20:34:47.586866",
     "status": "completed"
    },
    "tags": []
   },
   "outputs": [
    {
     "data": {
      "text/plain": [
       "array([[<Axes: title={'center': 'accuracy'}, xlabel='majmin'>,\n",
       "        <Axes: title={'center': 'balanced accuracy'}, xlabel='majmin'>,\n",
       "        <Axes: title={'center': 'f1'}, xlabel='majmin'>],\n",
       "       [<Axes: title={'center': 'precision'}, xlabel='majmin'>,\n",
       "        <Axes: title={'center': 'false positive rate'}, xlabel='majmin'>,\n",
       "        <Axes: title={'center': 'false negative rate'}, xlabel='majmin'>],\n",
       "       [<Axes: title={'center': 'selection rate'}, xlabel='majmin'>,\n",
       "        <Axes: title={'center': 'count'}, xlabel='majmin'>,\n",
       "        <Axes: xlabel='majmin'>]], dtype=object)"
      ]
     },
     "execution_count": 76,
     "metadata": {},
     "output_type": "execute_result"
    },
    {
     "data": {
      "image/png": "[encoded data removed]",
      "text/plain": [
       "<Figure size 1200x800 with 9 Axes>"
      ]
     },
     "metadata": {},
     "output_type": "display_data"
    }
   ],
   "source": [
    "# In a graphic\n",
    "metric_frame.by_group.plot.bar(\n",
    "    subplots=True,\n",
    "    layout=[3, 3],\n",
    "    legend=False,\n",
    "    figsize=[12, 8],\n",
    "    title=\"Show all metrics\",\n",
    ")"
   ]
  },
  {
   "cell_type": "markdown",
   "id": "f57a0bac",
   "metadata": {
    "papermill": {
     "duration": 0.028101,
     "end_time": "2025-07-30T20:34:50.080882",
     "exception": false,
     "start_time": "2025-07-30T20:34:50.052781",
     "status": "completed"
    },
    "tags": []
   },
   "source": [
    "# Final Output"
   ]
  },
  {
   "cell_type": "code",
   "execution_count": 77,
   "id": "96d280a3",
   "metadata": {
    "execution": {
     "iopub.execute_input": "2025-07-30T20:34:50.139623Z",
     "iopub.status.busy": "2025-07-30T20:34:50.138979Z",
     "iopub.status.idle": "2025-07-30T20:34:50.147514Z",
     "shell.execute_reply": "2025-07-30T20:34:50.146374Z"
    },
    "papermill": {
     "duration": 0.039511,
     "end_time": "2025-07-30T20:34:50.149275",
     "exception": false,
     "start_time": "2025-07-30T20:34:50.109764",
     "status": "completed"
    },
    "tags": []
   },
   "outputs": [
    {
     "data": {
      "text/plain": [
       "4"
      ]
     },
     "execution_count": 77,
     "metadata": {},
     "output_type": "execute_result"
    }
   ],
   "source": [
    "sub_universes = universe_analysis.generate_sub_universes()\n",
    "len(sub_universes)"
   ]
  },
  {
   "cell_type": "code",
   "execution_count": 78,
   "id": "92adf7ba",
   "metadata": {
    "execution": {
     "iopub.execute_input": "2025-07-30T20:34:50.208759Z",
     "iopub.status.busy": "2025-07-30T20:34:50.208097Z",
     "iopub.status.idle": "2025-07-30T20:34:50.214703Z",
     "shell.execute_reply": "2025-07-30T20:34:50.213701Z"
    },
    "papermill": {
     "duration": 0.03916,
     "end_time": "2025-07-30T20:34:50.216242",
     "exception": false,
     "start_time": "2025-07-30T20:34:50.177082",
     "status": "completed"
    },
    "tags": []
   },
   "outputs": [],
   "source": [
    "def filter_sub_universe_data(sub_universe, org_test):\n",
    "    # Keep all rows — no filtering\n",
    "    keep_rows_mask = np.ones(org_test.shape[0], dtype=bool)\n",
    "\n",
    "    print(f\"[INFO] Keeping all rows: {keep_rows_mask.sum()} rows retained.\")\n",
    "    return keep_rows_mask"
   ]
  },
  {
   "cell_type": "code",
   "execution_count": 79,
   "id": "4a759155",
   "metadata": {
    "execution": {
     "iopub.execute_input": "2025-07-30T20:34:50.277578Z",
     "iopub.status.busy": "2025-07-30T20:34:50.277105Z",
     "iopub.status.idle": "2025-07-30T20:34:59.778158Z",
     "shell.execute_reply": "2025-07-30T20:34:59.777191Z"
    },
    "papermill": {
     "duration": 9.533638,
     "end_time": "2025-07-30T20:34:59.780016",
     "exception": false,
     "start_time": "2025-07-30T20:34:50.246378",
     "status": "completed"
    },
    "tags": []
   },
   "outputs": [
    {
     "name": "stdout",
     "output_type": "stream",
     "text": [
      "Stopping execution_time clock.\n",
      "[INFO] Keeping all rows: 89710 rows retained.\n"
     ]
    },
    {
     "name": "stdout",
     "output_type": "stream",
     "text": [
      "[INFO] Keeping all rows: 89710 rows retained.\n"
     ]
    },
    {
     "name": "stdout",
     "output_type": "stream",
     "text": [
      "[INFO] Keeping all rows: 89710 rows retained.\n"
     ]
    },
    {
     "name": "stdout",
     "output_type": "stream",
     "text": [
      "[INFO] Keeping all rows: 89710 rows retained.\n"
     ]
    },
    {
     "data": {
      "text/html": [
       "<div>\n",
       "<style scoped>\n",
       "    .dataframe tbody tr th:only-of-type {\n",
       "        vertical-align: middle;\n",
       "    }\n",
       "\n",
       "    .dataframe tbody tr th {\n",
       "        vertical-align: top;\n",
       "    }\n",
       "\n",
       "    .dataframe thead th {\n",
       "        text-align: right;\n",
       "    }\n",
       "</style>\n",
       "<table border=\"1\" class=\"dataframe\">\n",
       "  <thead>\n",
       "    <tr style=\"text-align: right;\">\n",
       "      <th></th>\n",
       "      <th>run_no</th>\n",
       "      <th>universe_id</th>\n",
       "      <th>universe_settings</th>\n",
       "      <th>execution_time</th>\n",
       "      <th>test_size_n</th>\n",
       "      <th>test_size_frac</th>\n",
       "      <th>fair_main_equalized_odds_difference</th>\n",
       "      <th>fair_main_equalized_odds_ratio</th>\n",
       "      <th>fair_main_demographic_parity_difference</th>\n",
       "      <th>fair_main_demographic_parity_ratio</th>\n",
       "      <th>...</th>\n",
       "      <th>perf_grp_precision_0</th>\n",
       "      <th>perf_grp_precision_1</th>\n",
       "      <th>perf_grp_false positive rate_0</th>\n",
       "      <th>perf_grp_false positive rate_1</th>\n",
       "      <th>perf_grp_false negative rate_0</th>\n",
       "      <th>perf_grp_false negative rate_1</th>\n",
       "      <th>perf_grp_selection rate_0</th>\n",
       "      <th>perf_grp_selection rate_1</th>\n",
       "      <th>perf_grp_count_0</th>\n",
       "      <th>perf_grp_count_1</th>\n",
       "    </tr>\n",
       "  </thead>\n",
       "  <tbody>\n",
       "    <tr>\n",
       "      <th>0</th>\n",
       "      <td>14</td>\n",
       "      <td>9c5f0190991d64c8c16023a7a46c5d00</td>\n",
       "      <td>{\"cutoff\": \"quantile_0.1\", \"eval_fairness_grou...</td>\n",
       "      <td>26.905115</td>\n",
       "      <td>89710</td>\n",
       "      <td>1.0</td>\n",
       "      <td>0.098560</td>\n",
       "      <td>0.898086</td>\n",
       "      <td>0.089978</td>\n",
       "      <td>0.907179</td>\n",
       "      <td>...</td>\n",
       "      <td>NaN</td>\n",
       "      <td>NaN</td>\n",
       "      <td>NaN</td>\n",
       "      <td>NaN</td>\n",
       "      <td>NaN</td>\n",
       "      <td>NaN</td>\n",
       "      <td>NaN</td>\n",
       "      <td>NaN</td>\n",
       "      <td>NaN</td>\n",
       "      <td>NaN</td>\n",
       "    </tr>\n",
       "    <tr>\n",
       "      <th>0</th>\n",
       "      <td>14</td>\n",
       "      <td>9c5f0190991d64c8c16023a7a46c5d00</td>\n",
       "      <td>{\"cutoff\": \"quantile_0.1\", \"eval_fairness_grou...</td>\n",
       "      <td>26.905115</td>\n",
       "      <td>89710</td>\n",
       "      <td>1.0</td>\n",
       "      <td>0.098560</td>\n",
       "      <td>0.898086</td>\n",
       "      <td>0.089978</td>\n",
       "      <td>0.907179</td>\n",
       "      <td>...</td>\n",
       "      <td>0.117372</td>\n",
       "      <td>0.142862</td>\n",
       "      <td>0.967092</td>\n",
       "      <td>0.868532</td>\n",
       "      <td>0.013091</td>\n",
       "      <td>0.049234</td>\n",
       "      <td>0.969377</td>\n",
       "      <td>0.879399</td>\n",
       "      <td>20540.0</td>\n",
       "      <td>69170.0</td>\n",
       "    </tr>\n",
       "    <tr>\n",
       "      <th>0</th>\n",
       "      <td>14</td>\n",
       "      <td>9c5f0190991d64c8c16023a7a46c5d00</td>\n",
       "      <td>{\"cutoff\": \"quantile_0.25\", \"eval_fairness_gro...</td>\n",
       "      <td>26.905115</td>\n",
       "      <td>89710</td>\n",
       "      <td>1.0</td>\n",
       "      <td>0.217594</td>\n",
       "      <td>0.757475</td>\n",
       "      <td>0.199475</td>\n",
       "      <td>0.779293</td>\n",
       "      <td>...</td>\n",
       "      <td>NaN</td>\n",
       "      <td>NaN</td>\n",
       "      <td>NaN</td>\n",
       "      <td>NaN</td>\n",
       "      <td>NaN</td>\n",
       "      <td>NaN</td>\n",
       "      <td>NaN</td>\n",
       "      <td>NaN</td>\n",
       "      <td>NaN</td>\n",
       "      <td>NaN</td>\n",
       "    </tr>\n",
       "    <tr>\n",
       "      <th>0</th>\n",
       "      <td>14</td>\n",
       "      <td>9c5f0190991d64c8c16023a7a46c5d00</td>\n",
       "      <td>{\"cutoff\": \"quantile_0.25\", \"eval_fairness_gro...</td>\n",
       "      <td>26.905115</td>\n",
       "      <td>89710</td>\n",
       "      <td>1.0</td>\n",
       "      <td>0.217594</td>\n",
       "      <td>0.757475</td>\n",
       "      <td>0.199475</td>\n",
       "      <td>0.779293</td>\n",
       "      <td>...</td>\n",
       "      <td>0.121741</td>\n",
       "      <td>0.162589</td>\n",
       "      <td>0.897204</td>\n",
       "      <td>0.679610</td>\n",
       "      <td>0.045608</td>\n",
       "      <td>0.133370</td>\n",
       "      <td>0.903797</td>\n",
       "      <td>0.704323</td>\n",
       "      <td>20540.0</td>\n",
       "      <td>69170.0</td>\n",
       "    </tr>\n",
       "  </tbody>\n",
       "</table>\n",
       "<p>4 rows × 50 columns</p>\n",
       "</div>"
      ],
      "text/plain": [
       "  run_no                       universe_id  \\\n",
       "0     14  9c5f0190991d64c8c16023a7a46c5d00   \n",
       "0     14  9c5f0190991d64c8c16023a7a46c5d00   \n",
       "0     14  9c5f0190991d64c8c16023a7a46c5d00   \n",
       "0     14  9c5f0190991d64c8c16023a7a46c5d00   \n",
       "\n",
       "                                   universe_settings  execution_time  \\\n",
       "0  {\"cutoff\": \"quantile_0.1\", \"eval_fairness_grou...       26.905115   \n",
       "0  {\"cutoff\": \"quantile_0.1\", \"eval_fairness_grou...       26.905115   \n",
       "0  {\"cutoff\": \"quantile_0.25\", \"eval_fairness_gro...       26.905115   \n",
       "0  {\"cutoff\": \"quantile_0.25\", \"eval_fairness_gro...       26.905115   \n",
       "\n",
       "   test_size_n  test_size_frac  fair_main_equalized_odds_difference  \\\n",
       "0        89710             1.0                             0.098560   \n",
       "0        89710             1.0                             0.098560   \n",
       "0        89710             1.0                             0.217594   \n",
       "0        89710             1.0                             0.217594   \n",
       "\n",
       "   fair_main_equalized_odds_ratio  fair_main_demographic_parity_difference  \\\n",
       "0                        0.898086                                 0.089978   \n",
       "0                        0.898086                                 0.089978   \n",
       "0                        0.757475                                 0.199475   \n",
       "0                        0.757475                                 0.199475   \n",
       "\n",
       "   fair_main_demographic_parity_ratio  ...  perf_grp_precision_0  \\\n",
       "0                            0.907179  ...                   NaN   \n",
       "0                            0.907179  ...              0.117372   \n",
       "0                            0.779293  ...                   NaN   \n",
       "0                            0.779293  ...              0.121741   \n",
       "\n",
       "   perf_grp_precision_1  perf_grp_false positive rate_0  \\\n",
       "0                   NaN                             NaN   \n",
       "0              0.142862                        0.967092   \n",
       "0                   NaN                             NaN   \n",
       "0              0.162589                        0.897204   \n",
       "\n",
       "   perf_grp_false positive rate_1  perf_grp_false negative rate_0  \\\n",
       "0                             NaN                             NaN   \n",
       "0                        0.868532                        0.013091   \n",
       "0                             NaN                             NaN   \n",
       "0                        0.679610                        0.045608   \n",
       "\n",
       "   perf_grp_false negative rate_1  perf_grp_selection rate_0  \\\n",
       "0                             NaN                        NaN   \n",
       "0                        0.049234                   0.969377   \n",
       "0                             NaN                        NaN   \n",
       "0                        0.133370                   0.903797   \n",
       "\n",
       "   perf_grp_selection rate_1  perf_grp_count_0  perf_grp_count_1  \n",
       "0                        NaN               NaN               NaN  \n",
       "0                   0.879399           20540.0           69170.0  \n",
       "0                        NaN               NaN               NaN  \n",
       "0                   0.704323           20540.0           69170.0  \n",
       "\n",
       "[4 rows x 50 columns]"
      ]
     },
     "execution_count": 79,
     "metadata": {},
     "output_type": "execute_result"
    }
   ],
   "source": [
    "final_output = universe_analysis.generate_final_output(\n",
    "    y_pred_prob=probs_test,\n",
    "    y_test=y_true,\n",
    "    org_test=org_test,\n",
    "    filter_data=filter_sub_universe_data,\n",
    "    cp_metrics_df=cp_metrics_df,\n",
    "    save=True,\n",
    ")\n",
    "final_output"
   ]
  },
  {
   "cell_type": "code",
   "execution_count": null,
   "id": "721ff514-cb11-46f8-b6fc-50392f74b5cb",
   "metadata": {
    "papermill": {
     "duration": 0.032136,
     "end_time": "2025-07-30T20:34:59.850681",
     "exception": false,
     "start_time": "2025-07-30T20:34:59.818545",
     "status": "completed"
    },
    "tags": []
   },
   "outputs": [],
   "source": []
  }
 ],
 "metadata": {
  "celltoolbar": "Tags",
  "kernelspec": {
   "display_name": "Python (CMA Fairness)",
   "language": "python",
   "name": "cma_fair_env"
  },
  "language_info": {
   "codemirror_mode": {
    "name": "ipython",
    "version": 3
   },
   "file_extension": ".py",
   "mimetype": "text/x-python",
   "name": "python",
   "nbconvert_exporter": "python",
   "pygments_lexer": "ipython3",
   "version": "3.10.12"
  },
  "papermill": {
   "default_parameters": {},
   "duration": 40.635259,
   "end_time": "2025-07-30T20:35:00.601956",
   "environment_variables": {},
   "exception": null,
   "input_path": "universe_analysis.ipynb",
   "output_path": "output/runs/14/notebooks/m_14-9c5f0190991d64c8c16023a7a46c5d00.ipynb",
   "parameters": {
    "output_dir": "output",
    "run_no": "14",
    "seed": "2023",
    "universe": "{\"cutoff\": [\"quantile_0.1\", \"quantile_0.25\"], \"eval_fairness_grouping\": [\"majority-minority\", \"nationality-all\"], \"exclude_features\": \"none\", \"exclude_subgroups\": \"keep-all\", \"model\": \"penalized_logreg\", \"scale\": \"do-not-scale\", \"training_size\": \"25k\", \"training_year\": \"2010_14\"}",
    "universe_id": "9c5f0190991d64c8c16023a7a46c5d00"
   },
   "start_time": "2025-07-30T20:34:19.966697",
   "version": "2.6.0"
  }
 },
 "nbformat": 4,
 "nbformat_minor": 5
}