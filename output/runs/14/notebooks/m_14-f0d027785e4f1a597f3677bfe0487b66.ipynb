{
 "cells": [
  {
   "cell_type": "code",
   "execution_count": 1,
   "id": "f159f837-637b-42ba-96b5-ec9a68c44524",
   "metadata": {
    "execution": {
     "iopub.execute_input": "2025-07-30T21:46:28.956215Z",
     "iopub.status.busy": "2025-07-30T21:46:28.955285Z",
     "iopub.status.idle": "2025-07-30T21:46:28.968812Z",
     "shell.execute_reply": "2025-07-30T21:46:28.967727Z"
    },
    "papermill": {
     "duration": 0.036921,
     "end_time": "2025-07-30T21:46:28.970454",
     "exception": false,
     "start_time": "2025-07-30T21:46:28.933533",
     "status": "completed"
    },
    "tags": []
   },
   "outputs": [
    {
     "name": "stdout",
     "output_type": "stream",
     "text": [
      "/dss/dsshome1/0C/ra93lal2/cma/CMA_Fairness_v2\n"
     ]
    },
    {
     "name": "stderr",
     "output_type": "stream",
     "text": [
      "/dss/dsshome1/0C/ra93lal2/.local/share/virtualenvs/CMA_Fairness_v2-3j10GkSs/lib/python3.10/site-packages/IPython/core/magics/osm.py:393: UserWarning: This is now an optional IPython functionality, using bookmarks requires you to install the `pickleshare` library.\n",
      "  bkms = self.shell.db.get('bookmarks', {})\n",
      "/dss/dsshome1/0C/ra93lal2/.local/share/virtualenvs/CMA_Fairness_v2-3j10GkSs/lib/python3.10/site-packages/IPython/core/magics/osm.py:417: UserWarning: This is now an optional IPython functionality, setting dhist requires you to install the `pickleshare` library.\n",
      "  self.shell.db['dhist'] = compress_dhist(dhist)[-100:]\n"
     ]
    }
   ],
   "source": [
    "%cd ~/cma/CMA_Fairness_v2"
   ]
  },
  {
   "cell_type": "markdown",
   "id": "de2603b9",
   "metadata": {
    "papermill": {
     "duration": 0.020106,
     "end_time": "2025-07-30T21:46:29.011176",
     "exception": false,
     "start_time": "2025-07-30T21:46:28.991070",
     "status": "completed"
    },
    "tags": []
   },
   "source": [
    "The following cell holds the definition of our parameters, these values can be overriden by rendering the with e.g. the following command:\n",
    "\n",
    "papermill -p alpha 0.2 -p ratio 0.3 universe_analysis.ipynb output/test_run.ipynb"
   ]
  },
  {
   "cell_type": "code",
   "execution_count": 2,
   "id": "a80968a0-40bb-4fa9-85ef-2d5eefb01975",
   "metadata": {
    "execution": {
     "iopub.execute_input": "2025-07-30T21:46:29.053210Z",
     "iopub.status.busy": "2025-07-30T21:46:29.052528Z",
     "iopub.status.idle": "2025-07-30T21:46:29.058413Z",
     "shell.execute_reply": "2025-07-30T21:46:29.057425Z"
    },
    "papermill": {
     "duration": 0.02864,
     "end_time": "2025-07-30T21:46:29.060245",
     "exception": false,
     "start_time": "2025-07-30T21:46:29.031605",
     "status": "completed"
    },
    "tags": []
   },
   "outputs": [
    {
     "name": "stdout",
     "output_type": "stream",
     "text": [
      "Current working directory: /dss/dsshome1/0C/ra93lal2/cma/CMA_Fairness_v2\n"
     ]
    }
   ],
   "source": [
    "import os\n",
    "print(\"Current working directory:\", os.getcwd())"
   ]
  },
  {
   "cell_type": "code",
   "execution_count": 3,
   "id": "2dce4c03",
   "metadata": {
    "execution": {
     "iopub.execute_input": "2025-07-30T21:46:29.104165Z",
     "iopub.status.busy": "2025-07-30T21:46:29.103480Z",
     "iopub.status.idle": "2025-07-30T21:46:29.109805Z",
     "shell.execute_reply": "2025-07-30T21:46:29.108814Z"
    },
    "papermill": {
     "duration": 0.029879,
     "end_time": "2025-07-30T21:46:29.111442",
     "exception": false,
     "start_time": "2025-07-30T21:46:29.081563",
     "status": "completed"
    },
    "tags": [
     "parameters"
    ]
   },
   "outputs": [],
   "source": [
    "run_no = 0\n",
    "universe_id = \"test\"\n",
    "universe = {\n",
    "    \"training_size\": \"25k\", # \"25k\", \"5k\", \"1k\"\n",
    "    \"training_year\": \"2014\", # \"2014\", \"2012_14\", \"2010_14\"\n",
    "    \"scale\": \"scale\", # \"scale\", \"do-not-scale\",\n",
    "    #\"stratify_split\": \"target\", # \"none\", \"target\", \"protected-attribute\", \"both\",\n",
    "    \"model\": \"elasticnet\", # \"logreg\", \"penalized_logreg\", \"rf\", \"gbm\", \"elasticnet\"\n",
    "    \"cutoff\": [\"quantile_0.15\", \"quantile_0.30\"],\n",
    "    \"exclude_features\": \"age\", # \"none\", \"nationality\", \"sex\", \"nationality-sex\", \"age\"\n",
    "    \"exclude_subgroups\": \"keep-all\", # \"keep-all\", \"drop-non-german\"\n",
    "    \"eval_fairness_grouping\": [\"majority-minority\", \"nationality-all\"]\n",
    "}\n",
    "\n",
    "output_dir=\"./output\"\n",
    "seed=0"
   ]
  },
  {
   "cell_type": "code",
   "execution_count": 4,
   "id": "6caa1a73",
   "metadata": {
    "execution": {
     "iopub.execute_input": "2025-07-30T21:46:29.155260Z",
     "iopub.status.busy": "2025-07-30T21:46:29.154583Z",
     "iopub.status.idle": "2025-07-30T21:46:29.160325Z",
     "shell.execute_reply": "2025-07-30T21:46:29.159072Z"
    },
    "papermill": {
     "duration": 0.029655,
     "end_time": "2025-07-30T21:46:29.162132",
     "exception": false,
     "start_time": "2025-07-30T21:46:29.132477",
     "status": "completed"
    },
    "tags": [
     "injected-parameters"
    ]
   },
   "outputs": [],
   "source": [
    "# Parameters\n",
    "universe_id = \"f0d027785e4f1a597f3677bfe0487b66\"\n",
    "run_no = \"14\"\n",
    "universe = \"{\\\"cutoff\\\": [\\\"quantile_0.1\\\", \\\"quantile_0.25\\\"], \\\"eval_fairness_grouping\\\": [\\\"majority-minority\\\", \\\"nationality-all\\\"], \\\"exclude_features\\\": \\\"nationality\\\", \\\"exclude_subgroups\\\": \\\"keep-all\\\", \\\"model\\\": \\\"gbm\\\", \\\"scale\\\": \\\"scale\\\", \\\"training_size\\\": \\\"1k\\\", \\\"training_year\\\": \\\"2010_14\\\"}\"\n",
    "output_dir = \"output\"\n",
    "seed = \"2023\"\n"
   ]
  },
  {
   "cell_type": "code",
   "execution_count": 5,
   "id": "1650acaf",
   "metadata": {
    "execution": {
     "iopub.execute_input": "2025-07-30T21:46:29.206047Z",
     "iopub.status.busy": "2025-07-30T21:46:29.205416Z",
     "iopub.status.idle": "2025-07-30T21:46:29.210552Z",
     "shell.execute_reply": "2025-07-30T21:46:29.209523Z"
    },
    "papermill": {
     "duration": 0.028169,
     "end_time": "2025-07-30T21:46:29.212365",
     "exception": false,
     "start_time": "2025-07-30T21:46:29.184196",
     "status": "completed"
    },
    "tags": []
   },
   "outputs": [],
   "source": [
    "import json\n",
    "# Parse universe into dict if it is passed as a string\n",
    "if isinstance(universe, str):\n",
    "    universe = json.loads(universe)"
   ]
  },
  {
   "cell_type": "code",
   "execution_count": 6,
   "id": "16620c48",
   "metadata": {
    "execution": {
     "iopub.execute_input": "2025-07-30T21:46:29.257725Z",
     "iopub.status.busy": "2025-07-30T21:46:29.257088Z",
     "iopub.status.idle": "2025-07-30T21:46:29.303075Z",
     "shell.execute_reply": "2025-07-30T21:46:29.302163Z"
    },
    "papermill": {
     "duration": 0.070304,
     "end_time": "2025-07-30T21:46:29.304923",
     "exception": false,
     "start_time": "2025-07-30T21:46:29.234619",
     "status": "completed"
    },
    "tags": []
   },
   "outputs": [],
   "source": [
    "# Auto-reload the custom package\n",
    "%load_ext autoreload\n",
    "%autoreload 1\n",
    "%aimport fairness_multiverse"
   ]
  },
  {
   "cell_type": "code",
   "execution_count": 7,
   "id": "01c5c9f3",
   "metadata": {
    "execution": {
     "iopub.execute_input": "2025-07-30T21:46:29.348157Z",
     "iopub.status.busy": "2025-07-30T21:46:29.347621Z",
     "iopub.status.idle": "2025-07-30T21:46:31.326067Z",
     "shell.execute_reply": "2025-07-30T21:46:31.324996Z"
    },
    "papermill": {
     "duration": 2.002879,
     "end_time": "2025-07-30T21:46:31.328181",
     "exception": false,
     "start_time": "2025-07-30T21:46:29.325302",
     "status": "completed"
    },
    "tags": []
   },
   "outputs": [],
   "source": [
    "from fairness_multiverse.universe import UniverseAnalysis\n",
    "\n",
    "universe_analysis = UniverseAnalysis(\n",
    "    run_no = run_no,\n",
    "    universe_id = universe_id,\n",
    "    universe = universe,\n",
    "    output_dir=output_dir,\n",
    ")"
   ]
  },
  {
   "cell_type": "code",
   "execution_count": 8,
   "id": "106241f5",
   "metadata": {
    "execution": {
     "iopub.execute_input": "2025-07-30T21:46:31.372882Z",
     "iopub.status.busy": "2025-07-30T21:46:31.372080Z",
     "iopub.status.idle": "2025-07-30T21:46:31.378980Z",
     "shell.execute_reply": "2025-07-30T21:46:31.377978Z"
    },
    "papermill": {
     "duration": 0.03109,
     "end_time": "2025-07-30T21:46:31.380768",
     "exception": false,
     "start_time": "2025-07-30T21:46:31.349678",
     "status": "completed"
    },
    "tags": []
   },
   "outputs": [
    {
     "name": "stdout",
     "output_type": "stream",
     "text": [
      "Using Seed: 2023\n"
     ]
    }
   ],
   "source": [
    "import numpy as np\n",
    "parsed_seed = int(seed)\n",
    "np.random.seed(parsed_seed)\n",
    "print(f\"Using Seed: {parsed_seed}\")"
   ]
  },
  {
   "cell_type": "markdown",
   "id": "e0ebdc57",
   "metadata": {
    "papermill": {
     "duration": 0.020753,
     "end_time": "2025-07-30T21:46:31.425143",
     "exception": false,
     "start_time": "2025-07-30T21:46:31.404390",
     "status": "completed"
    },
    "tags": []
   },
   "source": [
    "# Loading Data"
   ]
  },
  {
   "cell_type": "markdown",
   "id": "681925a3",
   "metadata": {
    "papermill": {
     "duration": 0.021535,
     "end_time": "2025-07-30T21:46:31.468069",
     "exception": false,
     "start_time": "2025-07-30T21:46:31.446534",
     "status": "completed"
    },
    "tags": []
   },
   "source": [
    "Load siab_train, siab_test, siab_calib and/or \n",
    "load siab_train_features, siab_train_labels"
   ]
  },
  {
   "cell_type": "code",
   "execution_count": 9,
   "id": "f0496b8a",
   "metadata": {
    "execution": {
     "iopub.execute_input": "2025-07-30T21:46:31.512156Z",
     "iopub.status.busy": "2025-07-30T21:46:31.511426Z",
     "iopub.status.idle": "2025-07-30T21:46:45.990114Z",
     "shell.execute_reply": "2025-07-30T21:46:45.988735Z"
    },
    "papermill": {
     "duration": 14.503195,
     "end_time": "2025-07-30T21:46:45.991984",
     "exception": false,
     "start_time": "2025-07-30T21:46:31.488789",
     "status": "completed"
    },
    "tags": []
   },
   "outputs": [
    {
     "name": "stdout",
     "output_type": "stream",
     "text": [
      "Loading SIAB data from cache: data/siab_cached.csv.gz\n"
     ]
    },
    {
     "name": "stdout",
     "output_type": "stream",
     "text": [
      "(643690, 164)\n"
     ]
    }
   ],
   "source": [
    "from pathlib import Path\n",
    "import pandas as pd\n",
    "\n",
    "# File paths\n",
    "raw_file = Path(\"data/raw/siab.csv\")\n",
    "cache_file = Path(\"data/siab_cached.csv.gz\")\n",
    "\n",
    "# Ensure cache directory exists\n",
    "cache_file.parent.mkdir(parents=True, exist_ok=True)\n",
    "\n",
    "# Load with simple caching\n",
    "if cache_file.exists():\n",
    "    print(f\"Loading SIAB data from cache: {cache_file}\")\n",
    "    siab = pd.read_csv(cache_file, compression='gzip')\n",
    "else:\n",
    "    print(f\"Cache not found. Reading raw SIAB data: {raw_file}\")\n",
    "    siab = pd.read_csv(raw_file)\n",
    "    siab.to_csv(cache_file, index=False, compression='gzip')\n",
    "    print(f\"Cached SIAB data to: {cache_file}\")\n",
    "\n",
    "# Now use `siab` DataFrame as needed\n",
    "print(siab.shape)"
   ]
  },
  {
   "cell_type": "code",
   "execution_count": 10,
   "id": "db0ca512-5f53-4dba-abdb-a2888bca41ba",
   "metadata": {
    "execution": {
     "iopub.execute_input": "2025-07-30T21:46:46.047813Z",
     "iopub.status.busy": "2025-07-30T21:46:46.047153Z",
     "iopub.status.idle": "2025-07-30T21:46:46.054775Z",
     "shell.execute_reply": "2025-07-30T21:46:46.053603Z"
    },
    "papermill": {
     "duration": 0.036841,
     "end_time": "2025-07-30T21:46:46.056999",
     "exception": false,
     "start_time": "2025-07-30T21:46:46.020158",
     "status": "completed"
    },
    "tags": []
   },
   "outputs": [],
   "source": [
    "#siab"
   ]
  },
  {
   "cell_type": "code",
   "execution_count": 11,
   "id": "a0edb063",
   "metadata": {
    "execution": {
     "iopub.execute_input": "2025-07-30T21:46:46.109076Z",
     "iopub.status.busy": "2025-07-30T21:46:46.108225Z",
     "iopub.status.idle": "2025-07-30T21:46:46.115446Z",
     "shell.execute_reply": "2025-07-30T21:46:46.114100Z"
    },
    "papermill": {
     "duration": 0.035591,
     "end_time": "2025-07-30T21:46:46.118439",
     "exception": false,
     "start_time": "2025-07-30T21:46:46.082848",
     "status": "completed"
    },
    "tags": []
   },
   "outputs": [],
   "source": [
    "#import pandas as pd\n",
    "#\n",
    "#X_train = pd.read_csv(\"./data/X_train.csv\")\n",
    "#y_train = pd.read_csv(\"./data/y_train.csv\")"
   ]
  },
  {
   "cell_type": "code",
   "execution_count": 12,
   "id": "63d08085",
   "metadata": {
    "execution": {
     "iopub.execute_input": "2025-07-30T21:46:46.170949Z",
     "iopub.status.busy": "2025-07-30T21:46:46.170389Z",
     "iopub.status.idle": "2025-07-30T21:46:46.176670Z",
     "shell.execute_reply": "2025-07-30T21:46:46.175386Z"
    },
    "papermill": {
     "duration": 0.034617,
     "end_time": "2025-07-30T21:46:46.178997",
     "exception": false,
     "start_time": "2025-07-30T21:46:46.144380",
     "status": "completed"
    },
    "tags": []
   },
   "outputs": [],
   "source": [
    "#X_test = pd.read_csv(\"./data/X_test.csv\")\n",
    "#y_true = pd.read_csv(\"./data/y_test.csv\")"
   ]
  },
  {
   "cell_type": "code",
   "execution_count": 13,
   "id": "98a8d0fa-1d3d-4ed8-bb2c-281470e24add",
   "metadata": {
    "execution": {
     "iopub.execute_input": "2025-07-30T21:46:46.223069Z",
     "iopub.status.busy": "2025-07-30T21:46:46.222585Z",
     "iopub.status.idle": "2025-07-30T21:46:46.227837Z",
     "shell.execute_reply": "2025-07-30T21:46:46.226744Z"
    },
    "papermill": {
     "duration": 0.029303,
     "end_time": "2025-07-30T21:46:46.230443",
     "exception": false,
     "start_time": "2025-07-30T21:46:46.201140",
     "status": "completed"
    },
    "tags": []
   },
   "outputs": [],
   "source": [
    "# Calibration data for conformal\n",
    "#X_calib = pd.read_csv(\"./data/X_calib.csv\")\n",
    "#y_calib = pd.read_csv(\"./data/y_calib.csv\")"
   ]
  },
  {
   "cell_type": "markdown",
   "id": "997051c5-15bd-4b69-9786-c3001a3ce484",
   "metadata": {
    "papermill": {
     "duration": 0.020924,
     "end_time": "2025-07-30T21:46:46.273757",
     "exception": false,
     "start_time": "2025-07-30T21:46:46.252833",
     "status": "completed"
    },
    "tags": []
   },
   "source": [
    "# Splitting Data and Setting Training Data Size"
   ]
  },
  {
   "cell_type": "code",
   "execution_count": 14,
   "id": "e993b61f-042d-41a6-8c81-f55681f86335",
   "metadata": {
    "execution": {
     "iopub.execute_input": "2025-07-30T21:46:46.316316Z",
     "iopub.status.busy": "2025-07-30T21:46:46.315781Z",
     "iopub.status.idle": "2025-07-30T21:46:46.329667Z",
     "shell.execute_reply": "2025-07-30T21:46:46.328778Z"
    },
    "papermill": {
     "duration": 0.038458,
     "end_time": "2025-07-30T21:46:46.332531",
     "exception": false,
     "start_time": "2025-07-30T21:46:46.294073",
     "status": "completed"
    },
    "tags": []
   },
   "outputs": [],
   "source": [
    "def sample_by_year_size(df,\n",
    "                        training_year: str,\n",
    "                        training_size: str,\n",
    "                        random_state: int = 42):\n",
    "    # --- parse training_year into a list of int years ---\n",
    "    if \"_\" in training_year:\n",
    "        start_str, end_str = training_year.split(\"_\", 1)\n",
    "        start = int(start_str)\n",
    "        end   = int(end_str) if len(end_str) == 4 else (int(end_str) + (start // 100)*100)\n",
    "        years = list(range(start, end + 1))\n",
    "    else:\n",
    "        years = [int(training_year)]\n",
    "\n",
    "    df = df[df[\"year\"].isin(years)].reset_index(drop=True)\n",
    "\n",
    "    # --- map training_size to total number of samples ---\n",
    "    total_map = {\"25k\": 25_000, \"5k\": 5_000, \"1k\": 1_000}\n",
    "    if training_size not in total_map:\n",
    "        return df  # e.g. \"all\"\n",
    "\n",
    "    total_samples = total_map[training_size]\n",
    "    n_years       = len(years)\n",
    "    base          = total_samples // n_years\n",
    "    remainder     = total_samples % n_years\n",
    "\n",
    "    # --- build a dict: year -> how many to sample ---\n",
    "    # give +1 to the first `remainder` years in ascending order\n",
    "    quotas = {\n",
    "        year: base + (1 if idx < remainder else 0)\n",
    "        for idx, year in enumerate(sorted(years))\n",
    "    }\n",
    "\n",
    "    # --- sample per‐year according to the quota dict ---\n",
    "    sampled = (\n",
    "        df\n",
    "        .groupby(\"year\", group_keys=False)\n",
    "        .apply(lambda grp: grp.sample(\n",
    "            n=min(len(grp), quotas[grp.name]),\n",
    "            random_state=random_state))\n",
    "        .reset_index(drop=True)\n",
    "    )\n",
    "\n",
    "    return sampled"
   ]
  },
  {
   "cell_type": "code",
   "execution_count": 15,
   "id": "c0ccd338-0e02-41f3-a09d-f56f9266e3fb",
   "metadata": {
    "execution": {
     "iopub.execute_input": "2025-07-30T21:46:46.376893Z",
     "iopub.status.busy": "2025-07-30T21:46:46.376509Z",
     "iopub.status.idle": "2025-07-30T21:46:46.382058Z",
     "shell.execute_reply": "2025-07-30T21:46:46.381007Z"
    },
    "papermill": {
     "duration": 0.031077,
     "end_time": "2025-07-30T21:46:46.384914",
     "exception": false,
     "start_time": "2025-07-30T21:46:46.353837",
     "status": "completed"
    },
    "tags": []
   },
   "outputs": [],
   "source": [
    "#universe[\"training_size\"]"
   ]
  },
  {
   "cell_type": "code",
   "execution_count": 16,
   "id": "ca707fd7-8047-4acd-bfa5-66248fbbf8e6",
   "metadata": {
    "execution": {
     "iopub.execute_input": "2025-07-30T21:46:46.434200Z",
     "iopub.status.busy": "2025-07-30T21:46:46.433803Z",
     "iopub.status.idle": "2025-07-30T21:46:46.439711Z",
     "shell.execute_reply": "2025-07-30T21:46:46.438468Z"
    },
    "papermill": {
     "duration": 0.03004,
     "end_time": "2025-07-30T21:46:46.441748",
     "exception": false,
     "start_time": "2025-07-30T21:46:46.411708",
     "status": "completed"
    },
    "tags": []
   },
   "outputs": [],
   "source": [
    "#universe[\"training_year\"]"
   ]
  },
  {
   "cell_type": "code",
   "execution_count": 17,
   "id": "aea9c6ef-6f46-42c8-85eb-5a62025c1508",
   "metadata": {
    "execution": {
     "iopub.execute_input": "2025-07-30T21:46:46.485668Z",
     "iopub.status.busy": "2025-07-30T21:46:46.485159Z",
     "iopub.status.idle": "2025-07-30T21:46:47.548882Z",
     "shell.execute_reply": "2025-07-30T21:46:47.548162Z"
    },
    "papermill": {
     "duration": 1.086445,
     "end_time": "2025-07-30T21:46:47.550330",
     "exception": false,
     "start_time": "2025-07-30T21:46:46.463885",
     "status": "completed"
    },
    "tags": []
   },
   "outputs": [],
   "source": [
    "siab_train = sample_by_year_size(siab,\n",
    "                               training_year=universe[\"training_year\"],\n",
    "                               training_size=universe[\"training_size\"])"
   ]
  },
  {
   "cell_type": "code",
   "execution_count": 18,
   "id": "8d3afb32-789d-442c-8d5d-9f5aa8dd2eed",
   "metadata": {
    "execution": {
     "iopub.execute_input": "2025-07-30T21:46:47.587546Z",
     "iopub.status.busy": "2025-07-30T21:46:47.586688Z",
     "iopub.status.idle": "2025-07-30T21:46:47.592389Z",
     "shell.execute_reply": "2025-07-30T21:46:47.591157Z"
    },
    "papermill": {
     "duration": 0.028344,
     "end_time": "2025-07-30T21:46:47.594738",
     "exception": false,
     "start_time": "2025-07-30T21:46:47.566394",
     "status": "completed"
    },
    "tags": []
   },
   "outputs": [],
   "source": [
    "#siab_train.shape"
   ]
  },
  {
   "cell_type": "code",
   "execution_count": 19,
   "id": "d582db68-1a4c-47fb-84fc-08518dc1975a",
   "metadata": {
    "execution": {
     "iopub.execute_input": "2025-07-30T21:46:47.658191Z",
     "iopub.status.busy": "2025-07-30T21:46:47.657675Z",
     "iopub.status.idle": "2025-07-30T21:46:47.663243Z",
     "shell.execute_reply": "2025-07-30T21:46:47.662331Z"
    },
    "papermill": {
     "duration": 0.040747,
     "end_time": "2025-07-30T21:46:47.665924",
     "exception": false,
     "start_time": "2025-07-30T21:46:47.625177",
     "status": "completed"
    },
    "tags": []
   },
   "outputs": [],
   "source": [
    "#display(siab_train.groupby(\"year\").size())"
   ]
  },
  {
   "cell_type": "code",
   "execution_count": 20,
   "id": "a561edb4-d032-42cb-8256-22eac1111c64",
   "metadata": {
    "execution": {
     "iopub.execute_input": "2025-07-30T21:46:47.694766Z",
     "iopub.status.busy": "2025-07-30T21:46:47.694404Z",
     "iopub.status.idle": "2025-07-30T21:46:47.937239Z",
     "shell.execute_reply": "2025-07-30T21:46:47.936128Z"
    },
    "papermill": {
     "duration": 0.255997,
     "end_time": "2025-07-30T21:46:47.938738",
     "exception": false,
     "start_time": "2025-07-30T21:46:47.682741",
     "status": "completed"
    },
    "tags": []
   },
   "outputs": [],
   "source": [
    "#siab_train = siab_s[siab_s.year < 2015]\n",
    "siab_calib = siab[siab.year == 2015]\n",
    "siab_test = siab[siab.year == 2016]"
   ]
  },
  {
   "cell_type": "code",
   "execution_count": 21,
   "id": "472de16f-c3db-4916-846b-1f0de9cf1746",
   "metadata": {
    "execution": {
     "iopub.execute_input": "2025-07-30T21:46:47.974453Z",
     "iopub.status.busy": "2025-07-30T21:46:47.973942Z",
     "iopub.status.idle": "2025-07-30T21:46:47.982137Z",
     "shell.execute_reply": "2025-07-30T21:46:47.981051Z"
    },
    "papermill": {
     "duration": 0.032688,
     "end_time": "2025-07-30T21:46:47.984090",
     "exception": false,
     "start_time": "2025-07-30T21:46:47.951402",
     "status": "completed"
    },
    "tags": []
   },
   "outputs": [],
   "source": [
    "X_train = siab_train.iloc[:,4:164]\n",
    "y_train = siab_train.iloc[:, [3]]"
   ]
  },
  {
   "cell_type": "code",
   "execution_count": 22,
   "id": "828c96af-f43a-4ed6-ba47-8ac73a47d56c",
   "metadata": {
    "execution": {
     "iopub.execute_input": "2025-07-30T21:46:48.021741Z",
     "iopub.status.busy": "2025-07-30T21:46:48.021360Z",
     "iopub.status.idle": "2025-07-30T21:46:48.078060Z",
     "shell.execute_reply": "2025-07-30T21:46:48.076589Z"
    },
    "papermill": {
     "duration": 0.070794,
     "end_time": "2025-07-30T21:46:48.079718",
     "exception": false,
     "start_time": "2025-07-30T21:46:48.008924",
     "status": "completed"
    },
    "tags": []
   },
   "outputs": [],
   "source": [
    "X_calib = siab_calib.iloc[:,4:164]\n",
    "y_calib = siab_calib.iloc[:, [3]]"
   ]
  },
  {
   "cell_type": "code",
   "execution_count": 23,
   "id": "c34be9c3-6bd6-476e-acd3-845840e303be",
   "metadata": {
    "execution": {
     "iopub.execute_input": "2025-07-30T21:46:48.124228Z",
     "iopub.status.busy": "2025-07-30T21:46:48.123604Z",
     "iopub.status.idle": "2025-07-30T21:46:48.181947Z",
     "shell.execute_reply": "2025-07-30T21:46:48.180593Z"
    },
    "papermill": {
     "duration": 0.085395,
     "end_time": "2025-07-30T21:46:48.184004",
     "exception": false,
     "start_time": "2025-07-30T21:46:48.098609",
     "status": "completed"
    },
    "tags": []
   },
   "outputs": [],
   "source": [
    "X_test = siab_test.iloc[:,4:164]\n",
    "y_true = siab_test.iloc[:, [3]]"
   ]
  },
  {
   "cell_type": "markdown",
   "id": "9901737e-04df-44f0-9100-f5ad144ed040",
   "metadata": {
    "papermill": {
     "duration": 0.023104,
     "end_time": "2025-07-30T21:46:48.230107",
     "exception": false,
     "start_time": "2025-07-30T21:46:48.207003",
     "status": "completed"
    },
    "tags": []
   },
   "source": [
    "# Splitting Data and Setting Training Data Size OLD VERSION"
   ]
  },
  {
   "cell_type": "code",
   "execution_count": 24,
   "id": "acbc8f7d-8fc8-4e86-8c59-5dcb0f58384b",
   "metadata": {
    "execution": {
     "iopub.execute_input": "2025-07-30T21:46:48.286065Z",
     "iopub.status.busy": "2025-07-30T21:46:48.285524Z",
     "iopub.status.idle": "2025-07-30T21:46:48.291845Z",
     "shell.execute_reply": "2025-07-30T21:46:48.290827Z"
    },
    "papermill": {
     "duration": 0.037403,
     "end_time": "2025-07-30T21:46:48.293685",
     "exception": false,
     "start_time": "2025-07-30T21:46:48.256282",
     "status": "completed"
    },
    "tags": []
   },
   "outputs": [],
   "source": [
    "#def sample_by_year(df, training_size, random_state=42):\n",
    "#    if training_size == \"2014\":\n",
    "#        return df[df[\"year\"] == 2014].reset_index(drop=True)\n",
    "#    \n",
    "#    size_map = {\n",
    "#        \"25k\": 5000,\n",
    "#        \"5k\": 1000,\n",
    "#        \"1k\": 200\n",
    "#    }\n",
    "#\n",
    "#    if training_size not in size_map:\n",
    "#        return df.reset_index(drop=True)  # use all data\n",
    "#\n",
    "#    n_per_year = size_map[training_size]\n",
    "#    grouped = df.groupby(\"year\")\n",
    "#    sampled = grouped.apply(lambda x: x.sample(n=min(n_per_year, len(x)), random_state=random_state))\n",
    "#    return sampled.reset_index(drop=True)"
   ]
  },
  {
   "cell_type": "code",
   "execution_count": 25,
   "id": "6d931f52-beaf-43ff-9e78-9d44a448d54e",
   "metadata": {
    "execution": {
     "iopub.execute_input": "2025-07-30T21:46:48.343665Z",
     "iopub.status.busy": "2025-07-30T21:46:48.342731Z",
     "iopub.status.idle": "2025-07-30T21:46:48.348319Z",
     "shell.execute_reply": "2025-07-30T21:46:48.347230Z"
    },
    "papermill": {
     "duration": 0.0314,
     "end_time": "2025-07-30T21:46:48.350215",
     "exception": false,
     "start_time": "2025-07-30T21:46:48.318815",
     "status": "completed"
    },
    "tags": []
   },
   "outputs": [],
   "source": [
    "#siab_s = sample_by_year(siab, universe[\"training_size\"])"
   ]
  },
  {
   "cell_type": "code",
   "execution_count": 26,
   "id": "5db0a40e-a4e2-4920-be85-b12ae061d70d",
   "metadata": {
    "execution": {
     "iopub.execute_input": "2025-07-30T21:46:48.401415Z",
     "iopub.status.busy": "2025-07-30T21:46:48.400906Z",
     "iopub.status.idle": "2025-07-30T21:46:48.406390Z",
     "shell.execute_reply": "2025-07-30T21:46:48.405392Z"
    },
    "papermill": {
     "duration": 0.033322,
     "end_time": "2025-07-30T21:46:48.408218",
     "exception": false,
     "start_time": "2025-07-30T21:46:48.374896",
     "status": "completed"
    },
    "tags": []
   },
   "outputs": [],
   "source": [
    "#display(siab_s.groupby(\"year\").size())"
   ]
  },
  {
   "cell_type": "code",
   "execution_count": 27,
   "id": "e6c733c5",
   "metadata": {
    "execution": {
     "iopub.execute_input": "2025-07-30T21:46:48.458001Z",
     "iopub.status.busy": "2025-07-30T21:46:48.457510Z",
     "iopub.status.idle": "2025-07-30T21:46:48.573219Z",
     "shell.execute_reply": "2025-07-30T21:46:48.572161Z"
    },
    "papermill": {
     "duration": 0.142435,
     "end_time": "2025-07-30T21:46:48.575094",
     "exception": false,
     "start_time": "2025-07-30T21:46:48.432659",
     "status": "completed"
    },
    "tags": []
   },
   "outputs": [],
   "source": [
    "# Auxiliary data needed downstream in the pipeline\n",
    "\n",
    "org_train = X_train.copy()\n",
    "org_test = X_test.copy()\n",
    "org_calib = X_calib.copy()"
   ]
  },
  {
   "cell_type": "code",
   "execution_count": 28,
   "id": "1466abac-c6da-4492-a62f-4240ae3783af",
   "metadata": {
    "execution": {
     "iopub.execute_input": "2025-07-30T21:46:48.621732Z",
     "iopub.status.busy": "2025-07-30T21:46:48.621035Z",
     "iopub.status.idle": "2025-07-30T21:46:48.627109Z",
     "shell.execute_reply": "2025-07-30T21:46:48.626069Z"
    },
    "papermill": {
     "duration": 0.031295,
     "end_time": "2025-07-30T21:46:48.628810",
     "exception": false,
     "start_time": "2025-07-30T21:46:48.597515",
     "status": "completed"
    },
    "tags": []
   },
   "outputs": [],
   "source": [
    "# put in other script?\n",
    "# Group sizes\n",
    "\n",
    "#def calculate_percentages(df, df_name):\n",
    "#    total_entries = len(df)\n",
    "#\n",
    "#    female_pct = (df['frau1'] == 1).mean() * 100\n",
    "#    non_german_pct = ((df['maxdeutsch1'] == 0) & (df['maxdeutsch.Missing.'] == 0)).mean() * 100\n",
    "#    non_german_male_pct = ((df['frau1'] == 0) & (df['maxdeutsch1'] == 0) & (df['maxdeutsch.Missing.'] == 0)).mean() * 100\n",
    "#    non_german_female_pct = ((df['frau1'] == 1) & (df['maxdeutsch1'] == 0) & (df['maxdeutsch.Missing.'] == 0)).mean() * 100\n",
    "#\n",
    "#    print(f\"--- {df_name} ---\")\n",
    "#    print(f\"Female: {female_pct:.2f}%\")\n",
    "#    print(f\"Non-German: {non_german_pct:.2f}%\")\n",
    "#    print(f\"Non-German Male: {non_german_male_pct:.2f}%\")\n",
    "#    print(f\"Non-German Female: {non_german_female_pct:.2f}%\\n\")\n",
    "#\n",
    "## Calculate for each DataFrame\n",
    "#calculate_percentages(siab_calib, \"siab_calib\")\n",
    "#calculate_percentages(siab_test, \"siab_test\")\n",
    "#calculate_percentages(siab_train, \"siab_train\")"
   ]
  },
  {
   "cell_type": "markdown",
   "id": "0a4a1b33",
   "metadata": {
    "papermill": {
     "duration": 0.022568,
     "end_time": "2025-07-30T21:46:48.675217",
     "exception": false,
     "start_time": "2025-07-30T21:46:48.652649",
     "status": "completed"
    },
    "tags": []
   },
   "source": [
    "# Preprocessing Data"
   ]
  },
  {
   "cell_type": "code",
   "execution_count": 29,
   "id": "ca879031",
   "metadata": {
    "execution": {
     "iopub.execute_input": "2025-07-30T21:46:48.723056Z",
     "iopub.status.busy": "2025-07-30T21:46:48.722394Z",
     "iopub.status.idle": "2025-07-30T21:46:48.728588Z",
     "shell.execute_reply": "2025-07-30T21:46:48.727463Z"
    },
    "papermill": {
     "duration": 0.032811,
     "end_time": "2025-07-30T21:46:48.730441",
     "exception": false,
     "start_time": "2025-07-30T21:46:48.697630",
     "status": "completed"
    },
    "tags": []
   },
   "outputs": [],
   "source": [
    "# EXCLUDE PROTECTED FEATURES\n",
    "# ----------------------\n",
    "# \"exclude_features\": \"none\", # \"nationality\", \"sex\", \"nationality-sex\"\n",
    "\n",
    "excluded_features = universe[\"exclude_features\"].split(\"-\") # split, e.g.: \"nationality-sex\" -> [\"nationality\", \"sex\"]\n",
    "excluded_features_dictionary = {\n",
    "    \"nationality\": [\"maxdeutsch1\", \"maxdeutsch.Missing.\"],\n",
    "    \"sex\": [\"frau1\"],\n",
    "    \"age\": [\"age\"],\n",
    "}\n"
   ]
  },
  {
   "cell_type": "code",
   "execution_count": 30,
   "id": "b745ac60",
   "metadata": {
    "execution": {
     "iopub.execute_input": "2025-07-30T21:46:48.777920Z",
     "iopub.status.busy": "2025-07-30T21:46:48.777421Z",
     "iopub.status.idle": "2025-07-30T21:46:48.783497Z",
     "shell.execute_reply": "2025-07-30T21:46:48.782363Z"
    },
    "papermill": {
     "duration": 0.030972,
     "end_time": "2025-07-30T21:46:48.785375",
     "exception": false,
     "start_time": "2025-07-30T21:46:48.754403",
     "status": "completed"
    },
    "tags": []
   },
   "outputs": [],
   "source": [
    "# Code nice names to column names\n",
    "\n",
    "excluded_features_columns = [\n",
    "    excluded_features_dictionary[f] for f in excluded_features if len(f) > 0 and f != \"none\"\n",
    "]"
   ]
  },
  {
   "cell_type": "code",
   "execution_count": 31,
   "id": "f84f73a2",
   "metadata": {
    "execution": {
     "iopub.execute_input": "2025-07-30T21:46:48.835423Z",
     "iopub.status.busy": "2025-07-30T21:46:48.834526Z",
     "iopub.status.idle": "2025-07-30T21:46:48.841497Z",
     "shell.execute_reply": "2025-07-30T21:46:48.840447Z"
    },
    "papermill": {
     "duration": 0.034098,
     "end_time": "2025-07-30T21:46:48.843572",
     "exception": false,
     "start_time": "2025-07-30T21:46:48.809474",
     "status": "completed"
    },
    "tags": []
   },
   "outputs": [],
   "source": [
    "from utils import flatten_once\n",
    "\n",
    "excluded_features_columns = flatten_once(excluded_features_columns)"
   ]
  },
  {
   "cell_type": "code",
   "execution_count": 32,
   "id": "884dea22",
   "metadata": {
    "execution": {
     "iopub.execute_input": "2025-07-30T21:46:48.909360Z",
     "iopub.status.busy": "2025-07-30T21:46:48.908832Z",
     "iopub.status.idle": "2025-07-30T21:46:48.917230Z",
     "shell.execute_reply": "2025-07-30T21:46:48.916230Z"
    },
    "papermill": {
     "duration": 0.043961,
     "end_time": "2025-07-30T21:46:48.919072",
     "exception": false,
     "start_time": "2025-07-30T21:46:48.875111",
     "status": "completed"
    },
    "tags": []
   },
   "outputs": [
    {
     "name": "stdout",
     "output_type": "stream",
     "text": [
      "Dropping features: ['maxdeutsch1', 'maxdeutsch.Missing.']\n"
     ]
    }
   ],
   "source": [
    "if len(excluded_features_columns) > 0:\n",
    "    print(f\"Dropping features: {excluded_features_columns}\")\n",
    "    X_train.drop(excluded_features_columns, axis=1, inplace=True)"
   ]
  },
  {
   "cell_type": "code",
   "execution_count": 33,
   "id": "95ab8b16",
   "metadata": {
    "execution": {
     "iopub.execute_input": "2025-07-30T21:46:48.966953Z",
     "iopub.status.busy": "2025-07-30T21:46:48.966283Z",
     "iopub.status.idle": "2025-07-30T21:46:49.024728Z",
     "shell.execute_reply": "2025-07-30T21:46:49.023453Z"
    },
    "papermill": {
     "duration": 0.08158,
     "end_time": "2025-07-30T21:46:49.026519",
     "exception": false,
     "start_time": "2025-07-30T21:46:48.944939",
     "status": "completed"
    },
    "tags": []
   },
   "outputs": [
    {
     "name": "stdout",
     "output_type": "stream",
     "text": [
      "Dropping features: ['maxdeutsch1', 'maxdeutsch.Missing.']\n"
     ]
    }
   ],
   "source": [
    "if len(excluded_features_columns) > 0:\n",
    "    print(f\"Dropping features: {excluded_features_columns}\")\n",
    "    X_test.drop(excluded_features_columns, axis=1, inplace=True)"
   ]
  },
  {
   "cell_type": "code",
   "execution_count": 34,
   "id": "1853aaf5-fb9f-46cb-a2b5-8ea4ae2237e4",
   "metadata": {
    "execution": {
     "iopub.execute_input": "2025-07-30T21:46:49.080963Z",
     "iopub.status.busy": "2025-07-30T21:46:49.079880Z",
     "iopub.status.idle": "2025-07-30T21:46:49.132595Z",
     "shell.execute_reply": "2025-07-30T21:46:49.131489Z"
    },
    "papermill": {
     "duration": 0.080729,
     "end_time": "2025-07-30T21:46:49.134441",
     "exception": false,
     "start_time": "2025-07-30T21:46:49.053712",
     "status": "completed"
    },
    "tags": []
   },
   "outputs": [
    {
     "name": "stdout",
     "output_type": "stream",
     "text": [
      "Dropping features: ['maxdeutsch1', 'maxdeutsch.Missing.']\n"
     ]
    }
   ],
   "source": [
    "if len(excluded_features_columns) > 0:\n",
    "    print(f\"Dropping features: {excluded_features_columns}\")\n",
    "    X_calib.drop(excluded_features_columns, axis=1, inplace=True)"
   ]
  },
  {
   "cell_type": "code",
   "execution_count": 35,
   "id": "6727d079-03e5-481e-9d38-292a90b7a0a8",
   "metadata": {
    "execution": {
     "iopub.execute_input": "2025-07-30T21:46:49.184222Z",
     "iopub.status.busy": "2025-07-30T21:46:49.183419Z",
     "iopub.status.idle": "2025-07-30T21:46:49.188978Z",
     "shell.execute_reply": "2025-07-30T21:46:49.187870Z"
    },
    "papermill": {
     "duration": 0.031874,
     "end_time": "2025-07-30T21:46:49.190604",
     "exception": false,
     "start_time": "2025-07-30T21:46:49.158730",
     "status": "completed"
    },
    "tags": []
   },
   "outputs": [],
   "source": [
    "# SPLIT & STRATIFY DATA\n",
    "# ----------------------"
   ]
  },
  {
   "cell_type": "code",
   "execution_count": 36,
   "id": "76c4dc6d",
   "metadata": {
    "execution": {
     "iopub.execute_input": "2025-07-30T21:46:49.241728Z",
     "iopub.status.busy": "2025-07-30T21:46:49.241072Z",
     "iopub.status.idle": "2025-07-30T21:46:49.247887Z",
     "shell.execute_reply": "2025-07-30T21:46:49.246505Z"
    },
    "papermill": {
     "duration": 0.035004,
     "end_time": "2025-07-30T21:46:49.249791",
     "exception": false,
     "start_time": "2025-07-30T21:46:49.214787",
     "status": "completed"
    },
    "tags": []
   },
   "outputs": [],
   "source": [
    "# EXCLUDE CERTAIN SUBGROUPS\n",
    "# ----------------------\n",
    "\n",
    "mode = universe.get(\"exclude_subgroups\", \"keep-all\") \n",
    "# Fetches the exclude_subgroups setting from the universe dict.\n",
    "# Defaults to \"keep-all\" if the key is missing."
   ]
  },
  {
   "cell_type": "code",
   "execution_count": 37,
   "id": "21994072",
   "metadata": {
    "execution": {
     "iopub.execute_input": "2025-07-30T21:46:49.300572Z",
     "iopub.status.busy": "2025-07-30T21:46:49.299842Z",
     "iopub.status.idle": "2025-07-30T21:46:49.308793Z",
     "shell.execute_reply": "2025-07-30T21:46:49.307503Z"
    },
    "papermill": {
     "duration": 0.038431,
     "end_time": "2025-07-30T21:46:49.313479",
     "exception": false,
     "start_time": "2025-07-30T21:46:49.275048",
     "status": "completed"
    },
    "tags": []
   },
   "outputs": [],
   "source": [
    "if mode == \"keep-all\":\n",
    "    keep_mask = pd.Series(True, index=org_train.index)\n",
    "\n",
    "# org_train contains the original feature columns from features_org (in Simson)\n",
    "# features_org contains unprocessed features, for me X_train at beginning ???\n",
    "# For keep-all, creates a boolean Series (keep_mask) of all True, so no rows are removed.\n",
    "\n",
    "elif mode == \"drop-non-german\":\n",
    "    keep_mask = org_train[\"maxdeutsch1\"] == 1 # ??? what about missing values?\n",
    "\n",
    "else:\n",
    "    raise ValueError(f\"Unsupported mode for exclude_subgroups: {mode}\")\n"
   ]
  },
  {
   "cell_type": "code",
   "execution_count": 38,
   "id": "71651440",
   "metadata": {
    "execution": {
     "iopub.execute_input": "2025-07-30T21:46:49.364170Z",
     "iopub.status.busy": "2025-07-30T21:46:49.363619Z",
     "iopub.status.idle": "2025-07-30T21:46:49.370713Z",
     "shell.execute_reply": "2025-07-30T21:46:49.369678Z"
    },
    "papermill": {
     "duration": 0.032615,
     "end_time": "2025-07-30T21:46:49.372613",
     "exception": false,
     "start_time": "2025-07-30T21:46:49.339998",
     "status": "completed"
    },
    "tags": []
   },
   "outputs": [],
   "source": [
    "n_drop = (~keep_mask).sum() # Calculates how many rows are set to be dropped\n",
    "if n_drop > 0:\n",
    "    pct = n_drop / len(keep_mask) * 100\n",
    "    print(f\"Dropping {n_drop} rows ({pct:.2f}%) where mode='{mode}'\")"
   ]
  },
  {
   "cell_type": "code",
   "execution_count": 39,
   "id": "5fb8eee5",
   "metadata": {
    "execution": {
     "iopub.execute_input": "2025-07-30T21:46:49.422717Z",
     "iopub.status.busy": "2025-07-30T21:46:49.422247Z",
     "iopub.status.idle": "2025-07-30T21:46:49.428561Z",
     "shell.execute_reply": "2025-07-30T21:46:49.427528Z"
    },
    "papermill": {
     "duration": 0.031036,
     "end_time": "2025-07-30T21:46:49.430278",
     "exception": false,
     "start_time": "2025-07-30T21:46:49.399242",
     "status": "completed"
    },
    "tags": []
   },
   "outputs": [],
   "source": [
    "X_train = X_train[keep_mask]"
   ]
  },
  {
   "cell_type": "code",
   "execution_count": 40,
   "id": "b202bb3a",
   "metadata": {
    "execution": {
     "iopub.execute_input": "2025-07-30T21:46:49.476094Z",
     "iopub.status.busy": "2025-07-30T21:46:49.475554Z",
     "iopub.status.idle": "2025-07-30T21:46:49.481884Z",
     "shell.execute_reply": "2025-07-30T21:46:49.480907Z"
    },
    "papermill": {
     "duration": 0.030339,
     "end_time": "2025-07-30T21:46:49.483665",
     "exception": false,
     "start_time": "2025-07-30T21:46:49.453326",
     "status": "completed"
    },
    "tags": []
   },
   "outputs": [],
   "source": [
    "y_train = y_train[keep_mask]"
   ]
  },
  {
   "cell_type": "markdown",
   "id": "493e2ac3",
   "metadata": {
    "papermill": {
     "duration": 0.023809,
     "end_time": "2025-07-30T21:46:49.533323",
     "exception": false,
     "start_time": "2025-07-30T21:46:49.509514",
     "status": "completed"
    },
    "tags": []
   },
   "source": [
    "# Model Training"
   ]
  },
  {
   "cell_type": "code",
   "execution_count": 41,
   "id": "679e1268",
   "metadata": {
    "execution": {
     "iopub.execute_input": "2025-07-30T21:46:49.583888Z",
     "iopub.status.busy": "2025-07-30T21:46:49.583410Z",
     "iopub.status.idle": "2025-07-30T21:46:49.698139Z",
     "shell.execute_reply": "2025-07-30T21:46:49.697372Z"
    },
    "papermill": {
     "duration": 0.143912,
     "end_time": "2025-07-30T21:46:49.699621",
     "exception": false,
     "start_time": "2025-07-30T21:46:49.555709",
     "status": "completed"
    },
    "tags": []
   },
   "outputs": [],
   "source": [
    "from sklearn.linear_model import LogisticRegression\n",
    "from sklearn.ensemble import GradientBoostingClassifier, RandomForestClassifier\n",
    "\n",
    "if (universe[\"model\"] == \"logreg\"):\n",
    "    model = LogisticRegression() #penalty=\"none\") #, solver=\"newton-cg\", max_iter=1) # include random_state=19 ?\n",
    "elif (universe[\"model\"] == \"penalized_logreg\"):\n",
    "    model = LogisticRegression(penalty=\"l2\", C=1.0) #, solver=\"newton-cg\", max_iter=1)\n",
    "elif (universe[\"model\"] == \"rf\"):\n",
    "    model = RandomForestClassifier(n_estimators=100, n_jobs=-1)\n",
    "elif (universe[\"model\"] == \"gbm\"):\n",
    "    model = GradientBoostingClassifier()\n",
    "elif (universe[\"model\"] == \"elasticnet\"):\n",
    "    model = LogisticRegression(penalty = 'elasticnet', solver = 'saga', l1_ratio = 0.5, max_iter=5000) # which solver to use?\n",
    "else:\n",
    "    raise \"Unsupported universe.model\""
   ]
  },
  {
   "cell_type": "code",
   "execution_count": 42,
   "id": "0cc8f744",
   "metadata": {
    "execution": {
     "iopub.execute_input": "2025-07-30T21:46:49.726546Z",
     "iopub.status.busy": "2025-07-30T21:46:49.726188Z",
     "iopub.status.idle": "2025-07-30T21:46:49.731560Z",
     "shell.execute_reply": "2025-07-30T21:46:49.730543Z"
    },
    "papermill": {
     "duration": 0.020405,
     "end_time": "2025-07-30T21:46:49.732928",
     "exception": false,
     "start_time": "2025-07-30T21:46:49.712523",
     "status": "completed"
    },
    "tags": []
   },
   "outputs": [],
   "source": [
    "import numpy as np\n",
    "from sklearn.pipeline import Pipeline\n",
    "from sklearn.preprocessing import StandardScaler\n",
    "\n",
    "model = Pipeline([\n",
    "    #(\"continuous_processor\", continuous_processor),\n",
    "    #(\"categorical_preprocessor\", categorical_preprocessor),\n",
    "    (\"scale\", StandardScaler() if universe[\"scale\"] == \"scale\" else None), \n",
    "    (\"model\", model),\n",
    "])"
   ]
  },
  {
   "cell_type": "code",
   "execution_count": 43,
   "id": "9442c04d",
   "metadata": {
    "execution": {
     "iopub.execute_input": "2025-07-30T21:46:49.764852Z",
     "iopub.status.busy": "2025-07-30T21:46:49.764476Z",
     "iopub.status.idle": "2025-07-30T21:46:50.793298Z",
     "shell.execute_reply": "2025-07-30T21:46:50.792596Z"
    },
    "papermill": {
     "duration": 1.044373,
     "end_time": "2025-07-30T21:46:50.794550",
     "exception": false,
     "start_time": "2025-07-30T21:46:49.750177",
     "status": "completed"
    },
    "tags": []
   },
   "outputs": [
    {
     "data": {
      "text/html": [
       "<style>#sk-container-id-1 {color: black;background-color: white;}#sk-container-id-1 pre{padding: 0;}#sk-container-id-1 div.sk-toggleable {background-color: white;}#sk-container-id-1 label.sk-toggleable__label {cursor: pointer;display: block;width: 100%;margin-bottom: 0;padding: 0.3em;box-sizing: border-box;text-align: center;}#sk-container-id-1 label.sk-toggleable__label-arrow:before {content: \"▸\";float: left;margin-right: 0.25em;color: #696969;}#sk-container-id-1 label.sk-toggleable__label-arrow:hover:before {color: black;}#sk-container-id-1 div.sk-estimator:hover label.sk-toggleable__label-arrow:before {color: black;}#sk-container-id-1 div.sk-toggleable__content {max-height: 0;max-width: 0;overflow: hidden;text-align: left;background-color: #f0f8ff;}#sk-container-id-1 div.sk-toggleable__content pre {margin: 0.2em;color: black;border-radius: 0.25em;background-color: #f0f8ff;}#sk-container-id-1 input.sk-toggleable__control:checked~div.sk-toggleable__content {max-height: 200px;max-width: 100%;overflow: auto;}#sk-container-id-1 input.sk-toggleable__control:checked~label.sk-toggleable__label-arrow:before {content: \"▾\";}#sk-container-id-1 div.sk-estimator input.sk-toggleable__control:checked~label.sk-toggleable__label {background-color: #d4ebff;}#sk-container-id-1 div.sk-label input.sk-toggleable__control:checked~label.sk-toggleable__label {background-color: #d4ebff;}#sk-container-id-1 input.sk-hidden--visually {border: 0;clip: rect(1px 1px 1px 1px);clip: rect(1px, 1px, 1px, 1px);height: 1px;margin: -1px;overflow: hidden;padding: 0;position: absolute;width: 1px;}#sk-container-id-1 div.sk-estimator {font-family: monospace;background-color: #f0f8ff;border: 1px dotted black;border-radius: 0.25em;box-sizing: border-box;margin-bottom: 0.5em;}#sk-container-id-1 div.sk-estimator:hover {background-color: #d4ebff;}#sk-container-id-1 div.sk-parallel-item::after {content: \"\";width: 100%;border-bottom: 1px solid gray;flex-grow: 1;}#sk-container-id-1 div.sk-label:hover label.sk-toggleable__label {background-color: #d4ebff;}#sk-container-id-1 div.sk-serial::before {content: \"\";position: absolute;border-left: 1px solid gray;box-sizing: border-box;top: 0;bottom: 0;left: 50%;z-index: 0;}#sk-container-id-1 div.sk-serial {display: flex;flex-direction: column;align-items: center;background-color: white;padding-right: 0.2em;padding-left: 0.2em;position: relative;}#sk-container-id-1 div.sk-item {position: relative;z-index: 1;}#sk-container-id-1 div.sk-parallel {display: flex;align-items: stretch;justify-content: center;background-color: white;position: relative;}#sk-container-id-1 div.sk-item::before, #sk-container-id-1 div.sk-parallel-item::before {content: \"\";position: absolute;border-left: 1px solid gray;box-sizing: border-box;top: 0;bottom: 0;left: 50%;z-index: -1;}#sk-container-id-1 div.sk-parallel-item {display: flex;flex-direction: column;z-index: 1;position: relative;background-color: white;}#sk-container-id-1 div.sk-parallel-item:first-child::after {align-self: flex-end;width: 50%;}#sk-container-id-1 div.sk-parallel-item:last-child::after {align-self: flex-start;width: 50%;}#sk-container-id-1 div.sk-parallel-item:only-child::after {width: 0;}#sk-container-id-1 div.sk-dashed-wrapped {border: 1px dashed gray;margin: 0 0.4em 0.5em 0.4em;box-sizing: border-box;padding-bottom: 0.4em;background-color: white;}#sk-container-id-1 div.sk-label label {font-family: monospace;font-weight: bold;display: inline-block;line-height: 1.2em;}#sk-container-id-1 div.sk-label-container {text-align: center;}#sk-container-id-1 div.sk-container {/* jupyter's `normalize.less` sets `[hidden] { display: none; }` but bootstrap.min.css set `[hidden] { display: none !important; }` so we also need the `!important` here to be able to override the default hidden behavior on the sphinx rendered scikit-learn.org. See: https://github.com/scikit-learn/scikit-learn/issues/21755 */display: inline-block !important;position: relative;}#sk-container-id-1 div.sk-text-repr-fallback {display: none;}</style><div id=\"sk-container-id-1\" class=\"sk-top-container\"><div class=\"sk-text-repr-fallback\"><pre>Pipeline(steps=[(&#x27;scale&#x27;, StandardScaler()),\n",
       "                (&#x27;model&#x27;, GradientBoostingClassifier())])</pre><b>In a Jupyter environment, please rerun this cell to show the HTML representation or trust the notebook. <br />On GitHub, the HTML representation is unable to render, please try loading this page with nbviewer.org.</b></div><div class=\"sk-container\" hidden><div class=\"sk-item sk-dashed-wrapped\"><div class=\"sk-label-container\"><div class=\"sk-label sk-toggleable\"><input class=\"sk-toggleable__control sk-hidden--visually\" id=\"sk-estimator-id-1\" type=\"checkbox\" ><label for=\"sk-estimator-id-1\" class=\"sk-toggleable__label sk-toggleable__label-arrow\">Pipeline</label><div class=\"sk-toggleable__content\"><pre>Pipeline(steps=[(&#x27;scale&#x27;, StandardScaler()),\n",
       "                (&#x27;model&#x27;, GradientBoostingClassifier())])</pre></div></div></div><div class=\"sk-serial\"><div class=\"sk-item\"><div class=\"sk-estimator sk-toggleable\"><input class=\"sk-toggleable__control sk-hidden--visually\" id=\"sk-estimator-id-2\" type=\"checkbox\" ><label for=\"sk-estimator-id-2\" class=\"sk-toggleable__label sk-toggleable__label-arrow\">StandardScaler</label><div class=\"sk-toggleable__content\"><pre>StandardScaler()</pre></div></div></div><div class=\"sk-item\"><div class=\"sk-estimator sk-toggleable\"><input class=\"sk-toggleable__control sk-hidden--visually\" id=\"sk-estimator-id-3\" type=\"checkbox\" ><label for=\"sk-estimator-id-3\" class=\"sk-toggleable__label sk-toggleable__label-arrow\">GradientBoostingClassifier</label><div class=\"sk-toggleable__content\"><pre>GradientBoostingClassifier()</pre></div></div></div></div></div></div></div>"
      ],
      "text/plain": [
       "Pipeline(steps=[('scale', StandardScaler()),\n",
       "                ('model', GradientBoostingClassifier())])"
      ]
     },
     "execution_count": 43,
     "metadata": {},
     "output_type": "execute_result"
    }
   ],
   "source": [
    "model.fit(X_train, y_train.values.ravel())"
   ]
  },
  {
   "cell_type": "code",
   "execution_count": 44,
   "id": "af59f8c0",
   "metadata": {
    "execution": {
     "iopub.execute_input": "2025-07-30T21:46:50.825391Z",
     "iopub.status.busy": "2025-07-30T21:46:50.824655Z",
     "iopub.status.idle": "2025-07-30T21:46:50.829941Z",
     "shell.execute_reply": "2025-07-30T21:46:50.829075Z"
    },
    "papermill": {
     "duration": 0.020515,
     "end_time": "2025-07-30T21:46:50.831509",
     "exception": false,
     "start_time": "2025-07-30T21:46:50.810994",
     "status": "completed"
    },
    "tags": []
   },
   "outputs": [],
   "source": [
    "from fairness_multiverse.universe import predict_w_threshold"
   ]
  },
  {
   "cell_type": "code",
   "execution_count": 45,
   "id": "a7cf2e16",
   "metadata": {
    "execution": {
     "iopub.execute_input": "2025-07-30T21:46:50.874802Z",
     "iopub.status.busy": "2025-07-30T21:46:50.874281Z",
     "iopub.status.idle": "2025-07-30T21:46:51.750825Z",
     "shell.execute_reply": "2025-07-30T21:46:51.749824Z"
    },
    "papermill": {
     "duration": 0.90523,
     "end_time": "2025-07-30T21:46:51.752498",
     "exception": false,
     "start_time": "2025-07-30T21:46:50.847268",
     "status": "completed"
    },
    "tags": []
   },
   "outputs": [
    {
     "data": {
      "text/plain": [
       "0.8305540073570393"
      ]
     },
     "execution_count": 45,
     "metadata": {},
     "output_type": "execute_result"
    }
   ],
   "source": [
    "probs_test = model.predict_proba(X_test)\n",
    "\n",
    "'''\n",
    "Below code returns a boolean array (or binary 0/1 array depending on how it’s used) where each element \n",
    "is True if the probability of class 1 is greater than or equal to the threshold, and False otherwise.\n",
    "'''\n",
    "y_pred_default = predict_w_threshold(probs_test, 0.5)\n",
    "\n",
    "from sklearn.metrics import accuracy_score\n",
    "\n",
    "# Naive prediction\n",
    "accuracy_score(y_true = y_true, y_pred = y_pred_default)"
   ]
  },
  {
   "cell_type": "code",
   "execution_count": 46,
   "id": "081964c3",
   "metadata": {
    "execution": {
     "iopub.execute_input": "2025-07-30T21:46:51.804418Z",
     "iopub.status.busy": "2025-07-30T21:46:51.803902Z",
     "iopub.status.idle": "2025-07-30T21:46:52.469593Z",
     "shell.execute_reply": "2025-07-30T21:46:52.468606Z"
    },
    "papermill": {
     "duration": 0.693268,
     "end_time": "2025-07-30T21:46:52.471204",
     "exception": false,
     "start_time": "2025-07-30T21:46:51.777936",
     "status": "completed"
    },
    "tags": []
   },
   "outputs": [
    {
     "data": {
      "text/plain": [
       "array([0, 0, 0, ..., 1, 0, 0])"
      ]
     },
     "execution_count": 46,
     "metadata": {},
     "output_type": "execute_result"
    }
   ],
   "source": [
    "model.predict(X_test)"
   ]
  },
  {
   "cell_type": "markdown",
   "id": "56c9705b",
   "metadata": {
    "papermill": {
     "duration": 0.026845,
     "end_time": "2025-07-30T21:46:52.525431",
     "exception": false,
     "start_time": "2025-07-30T21:46:52.498586",
     "status": "completed"
    },
    "tags": []
   },
   "source": [
    "# Conformal Prediction"
   ]
  },
  {
   "cell_type": "code",
   "execution_count": 47,
   "id": "160ec6ff",
   "metadata": {
    "execution": {
     "iopub.execute_input": "2025-07-30T21:46:52.580939Z",
     "iopub.status.busy": "2025-07-30T21:46:52.580429Z",
     "iopub.status.idle": "2025-07-30T21:46:52.586080Z",
     "shell.execute_reply": "2025-07-30T21:46:52.584930Z"
    },
    "papermill": {
     "duration": 0.035724,
     "end_time": "2025-07-30T21:46:52.587868",
     "exception": false,
     "start_time": "2025-07-30T21:46:52.552144",
     "status": "completed"
    },
    "tags": []
   },
   "outputs": [],
   "source": [
    "# Miscoverage level for conformal prediction (10% allowed error rate => 90% target coverage)\n",
    "alpha = 0.1"
   ]
  },
  {
   "cell_type": "code",
   "execution_count": 48,
   "id": "eadf4555-3dd3-440e-8e35-f82a4ad9f855",
   "metadata": {
    "execution": {
     "iopub.execute_input": "2025-07-30T21:46:52.646543Z",
     "iopub.status.busy": "2025-07-30T21:46:52.646032Z",
     "iopub.status.idle": "2025-07-30T21:46:53.238486Z",
     "shell.execute_reply": "2025-07-30T21:46:53.237571Z"
    },
    "papermill": {
     "duration": 0.623288,
     "end_time": "2025-07-30T21:46:53.240039",
     "exception": false,
     "start_time": "2025-07-30T21:46:52.616751",
     "status": "completed"
    },
    "tags": []
   },
   "outputs": [],
   "source": [
    "probs_calib = model.predict_proba(X_calib)"
   ]
  },
  {
   "cell_type": "code",
   "execution_count": 49,
   "id": "2ed93547-6d5d-4983-9b36-1ecb300da49a",
   "metadata": {
    "execution": {
     "iopub.execute_input": "2025-07-30T21:46:53.303476Z",
     "iopub.status.busy": "2025-07-30T21:46:53.302745Z",
     "iopub.status.idle": "2025-07-30T21:46:53.307753Z",
     "shell.execute_reply": "2025-07-30T21:46:53.306986Z"
    },
    "papermill": {
     "duration": 0.045806,
     "end_time": "2025-07-30T21:46:53.309004",
     "exception": false,
     "start_time": "2025-07-30T21:46:53.263198",
     "status": "completed"
    },
    "tags": []
   },
   "outputs": [],
   "source": [
    "y_calib = y_calib.values.ravel().astype(int)"
   ]
  },
  {
   "cell_type": "code",
   "execution_count": 50,
   "id": "65d1320d-f588-4b38-9072-62af1ae97f7d",
   "metadata": {
    "execution": {
     "iopub.execute_input": "2025-07-30T21:46:53.337612Z",
     "iopub.status.busy": "2025-07-30T21:46:53.336966Z",
     "iopub.status.idle": "2025-07-30T21:46:53.344713Z",
     "shell.execute_reply": "2025-07-30T21:46:53.343864Z"
    },
    "papermill": {
     "duration": 0.023477,
     "end_time": "2025-07-30T21:46:53.346213",
     "exception": false,
     "start_time": "2025-07-30T21:46:53.322736",
     "status": "completed"
    },
    "tags": []
   },
   "outputs": [],
   "source": [
    "from fairness_multiverse.conformal import compute_nc_scores\n",
    "\n",
    "# Compute nonconformity scores on calibration set (1 - probability of true class)\n",
    "nc_scores = compute_nc_scores(probs_calib, y_calib)"
   ]
  },
  {
   "cell_type": "code",
   "execution_count": 51,
   "id": "df3b8ca3-53b7-43d5-9667-7c85da7aeda2",
   "metadata": {
    "execution": {
     "iopub.execute_input": "2025-07-30T21:46:53.374824Z",
     "iopub.status.busy": "2025-07-30T21:46:53.374323Z",
     "iopub.status.idle": "2025-07-30T21:46:53.381438Z",
     "shell.execute_reply": "2025-07-30T21:46:53.380419Z"
    },
    "papermill": {
     "duration": 0.023058,
     "end_time": "2025-07-30T21:46:53.383263",
     "exception": false,
     "start_time": "2025-07-30T21:46:53.360205",
     "status": "completed"
    },
    "tags": []
   },
   "outputs": [],
   "source": [
    "from fairness_multiverse.conformal import find_threshold\n",
    "\n",
    "# Find conformal threshold q_hat for the given alpha (split conformal method)\n",
    "q_hat = find_threshold(nc_scores, alpha)"
   ]
  },
  {
   "cell_type": "code",
   "execution_count": 52,
   "id": "4d29e6c1-0ef6-4aa4-b8fe-4fe79b0d033a",
   "metadata": {
    "execution": {
     "iopub.execute_input": "2025-07-30T21:46:53.435919Z",
     "iopub.status.busy": "2025-07-30T21:46:53.435142Z",
     "iopub.status.idle": "2025-07-30T21:46:53.442915Z",
     "shell.execute_reply": "2025-07-30T21:46:53.441738Z"
    },
    "papermill": {
     "duration": 0.03658,
     "end_time": "2025-07-30T21:46:53.444694",
     "exception": false,
     "start_time": "2025-07-30T21:46:53.408114",
     "status": "completed"
    },
    "tags": []
   },
   "outputs": [
    {
     "data": {
      "text/plain": [
       "0.7594995904325903"
      ]
     },
     "execution_count": 52,
     "metadata": {},
     "output_type": "execute_result"
    }
   ],
   "source": [
    "q_hat"
   ]
  },
  {
   "cell_type": "code",
   "execution_count": 53,
   "id": "92460794-cdac-4be2-ba28-f28c0515a6fb",
   "metadata": {
    "execution": {
     "iopub.execute_input": "2025-07-30T21:46:53.493238Z",
     "iopub.status.busy": "2025-07-30T21:46:53.492773Z",
     "iopub.status.idle": "2025-07-30T21:46:54.844935Z",
     "shell.execute_reply": "2025-07-30T21:46:54.843926Z"
    },
    "papermill": {
     "duration": 1.377375,
     "end_time": "2025-07-30T21:46:54.846879",
     "exception": false,
     "start_time": "2025-07-30T21:46:53.469504",
     "status": "completed"
    },
    "tags": []
   },
   "outputs": [],
   "source": [
    "from fairness_multiverse.conformal import predict_conformal_sets\n",
    "\n",
    "# Generate prediction sets for each test example\n",
    "pred_sets = predict_conformal_sets(model, X_test, q_hat)"
   ]
  },
  {
   "cell_type": "code",
   "execution_count": 54,
   "id": "d90c9a65-e6db-4f5d-80cd-e68fb7e46829",
   "metadata": {
    "execution": {
     "iopub.execute_input": "2025-07-30T21:46:54.898305Z",
     "iopub.status.busy": "2025-07-30T21:46:54.897809Z",
     "iopub.status.idle": "2025-07-30T21:46:54.903650Z",
     "shell.execute_reply": "2025-07-30T21:46:54.902549Z"
    },
    "papermill": {
     "duration": 0.034425,
     "end_time": "2025-07-30T21:46:54.905222",
     "exception": false,
     "start_time": "2025-07-30T21:46:54.870797",
     "status": "completed"
    },
    "tags": []
   },
   "outputs": [],
   "source": [
    "y_true = y_true.squeeze()"
   ]
  },
  {
   "cell_type": "code",
   "execution_count": 55,
   "id": "3a58a54a-1e68-46b9-927a-df01f18aebc8",
   "metadata": {
    "execution": {
     "iopub.execute_input": "2025-07-30T21:46:54.954316Z",
     "iopub.status.busy": "2025-07-30T21:46:54.953662Z",
     "iopub.status.idle": "2025-07-30T21:46:55.879161Z",
     "shell.execute_reply": "2025-07-30T21:46:55.878298Z"
    },
    "papermill": {
     "duration": 0.951803,
     "end_time": "2025-07-30T21:46:55.880973",
     "exception": false,
     "start_time": "2025-07-30T21:46:54.929170",
     "status": "completed"
    },
    "tags": []
   },
   "outputs": [],
   "source": [
    "from fairness_multiverse.conformal import evaluate_sets\n",
    "\n",
    "# Evaluate coverage and average set size on test data\n",
    "metrics = evaluate_sets(pred_sets, y_true)"
   ]
  },
  {
   "cell_type": "markdown",
   "id": "2b569c12-9aaa-4c88-98c9-bbcd0cf3ebb8",
   "metadata": {
    "papermill": {
     "duration": 0.024062,
     "end_time": "2025-07-30T21:46:55.946198",
     "exception": false,
     "start_time": "2025-07-30T21:46:55.922136",
     "status": "completed"
    },
    "tags": []
   },
   "source": [
    "# CP Metrics"
   ]
  },
  {
   "cell_type": "code",
   "execution_count": 56,
   "id": "5ce0a5cb-201f-45a0-ade5-94c7f0bd6095",
   "metadata": {
    "execution": {
     "iopub.execute_input": "2025-07-30T21:46:55.999654Z",
     "iopub.status.busy": "2025-07-30T21:46:55.998504Z",
     "iopub.status.idle": "2025-07-30T21:46:56.005638Z",
     "shell.execute_reply": "2025-07-30T21:46:56.004683Z"
    },
    "papermill": {
     "duration": 0.035765,
     "end_time": "2025-07-30T21:46:56.007243",
     "exception": false,
     "start_time": "2025-07-30T21:46:55.971478",
     "status": "completed"
    },
    "tags": []
   },
   "outputs": [
    {
     "data": {
      "text/plain": [
       "{'coverage': 0.9096087392709843, 'avg_size': 1.1865678296733921}"
      ]
     },
     "execution_count": 56,
     "metadata": {},
     "output_type": "execute_result"
    }
   ],
   "source": [
    "metrics"
   ]
  },
  {
   "cell_type": "code",
   "execution_count": 57,
   "id": "9b9a838d-31c9-430b-ae14-12baee460d17",
   "metadata": {
    "execution": {
     "iopub.execute_input": "2025-07-30T21:46:56.055672Z",
     "iopub.status.busy": "2025-07-30T21:46:56.055251Z",
     "iopub.status.idle": "2025-07-30T21:46:56.061585Z",
     "shell.execute_reply": "2025-07-30T21:46:56.060652Z"
    },
    "papermill": {
     "duration": 0.031724,
     "end_time": "2025-07-30T21:46:56.063155",
     "exception": false,
     "start_time": "2025-07-30T21:46:56.031431",
     "status": "completed"
    },
    "tags": []
   },
   "outputs": [],
   "source": [
    "example_universe = universe.copy()\n",
    "universe_training_year = example_universe.get(\"training_year\")\n",
    "universe_training_size = example_universe.get(\"training_size\")\n",
    "universe_scale = example_universe.get(\"scale\")\n",
    "universe_model = example_universe.get(\"model\")\n",
    "universe_exclude_features = example_universe.get(\"exclude_features\")\n",
    "universe_exclude_subgroups = example_universe.get(\"exclude_subgroups\")"
   ]
  },
  {
   "cell_type": "code",
   "execution_count": 58,
   "id": "f4b6a8ac-9dc0-4245-8a91-5b3b5999c4f9",
   "metadata": {
    "execution": {
     "iopub.execute_input": "2025-07-30T21:46:56.112761Z",
     "iopub.status.busy": "2025-07-30T21:46:56.112317Z",
     "iopub.status.idle": "2025-07-30T21:46:56.118433Z",
     "shell.execute_reply": "2025-07-30T21:46:56.117551Z"
    },
    "papermill": {
     "duration": 0.033353,
     "end_time": "2025-07-30T21:46:56.119859",
     "exception": false,
     "start_time": "2025-07-30T21:46:56.086506",
     "status": "completed"
    },
    "tags": []
   },
   "outputs": [],
   "source": [
    "cp_metrics_dict = {\n",
    "    \"universe_id\": [universe_id],\n",
    "    \"universe_training_year\": [universe_training_year],\n",
    "    \"universe_training_size\": [universe_training_size],\n",
    "    \"universe_scale\": [universe_scale],\n",
    "    \"universe_model\": [universe_model],\n",
    "    \"universe_exclude_features\": [universe_exclude_features],\n",
    "    \"universe_exclude_subgroups\": [universe_exclude_subgroups],\n",
    "    \"q_hat\": [q_hat],\n",
    "    \"coverage\": [metrics[\"coverage\"]],\n",
    "    \"avg_size\": [metrics[\"avg_size\"]],\n",
    "}"
   ]
  },
  {
   "cell_type": "code",
   "execution_count": 59,
   "id": "908acbb1-0371-4915-85ca-3fa520d2efe2",
   "metadata": {
    "execution": {
     "iopub.execute_input": "2025-07-30T21:46:56.167949Z",
     "iopub.status.busy": "2025-07-30T21:46:56.167241Z",
     "iopub.status.idle": "2025-07-30T21:46:56.174112Z",
     "shell.execute_reply": "2025-07-30T21:46:56.173274Z"
    },
    "papermill": {
     "duration": 0.032028,
     "end_time": "2025-07-30T21:46:56.175600",
     "exception": false,
     "start_time": "2025-07-30T21:46:56.143572",
     "status": "completed"
    },
    "tags": []
   },
   "outputs": [
    {
     "data": {
      "text/plain": [
       "{'universe_id': ['f0d027785e4f1a597f3677bfe0487b66'],\n",
       " 'universe_training_year': ['2010_14'],\n",
       " 'universe_training_size': ['1k'],\n",
       " 'universe_scale': ['scale'],\n",
       " 'universe_model': ['gbm'],\n",
       " 'universe_exclude_features': ['nationality'],\n",
       " 'universe_exclude_subgroups': ['keep-all'],\n",
       " 'q_hat': [0.7594995904325903],\n",
       " 'coverage': [0.9096087392709843],\n",
       " 'avg_size': [1.1865678296733921]}"
      ]
     },
     "execution_count": 59,
     "metadata": {},
     "output_type": "execute_result"
    }
   ],
   "source": [
    "cp_metrics_dict"
   ]
  },
  {
   "cell_type": "code",
   "execution_count": 60,
   "id": "33007efc-14e9-4ec6-97ac-56a455c82265",
   "metadata": {
    "execution": {
     "iopub.execute_input": "2025-07-30T21:46:56.226902Z",
     "iopub.status.busy": "2025-07-30T21:46:56.226295Z",
     "iopub.status.idle": "2025-07-30T21:46:56.232577Z",
     "shell.execute_reply": "2025-07-30T21:46:56.231681Z"
    },
    "papermill": {
     "duration": 0.034765,
     "end_time": "2025-07-30T21:46:56.234276",
     "exception": false,
     "start_time": "2025-07-30T21:46:56.199511",
     "status": "completed"
    },
    "tags": []
   },
   "outputs": [],
   "source": [
    "cp_metrics_df = pd.DataFrame(cp_metrics_dict)"
   ]
  },
  {
   "cell_type": "code",
   "execution_count": 61,
   "id": "db12611b-57b2-4910-b9d0-355adfd6e7bf",
   "metadata": {
    "execution": {
     "iopub.execute_input": "2025-07-30T21:46:56.285014Z",
     "iopub.status.busy": "2025-07-30T21:46:56.284545Z",
     "iopub.status.idle": "2025-07-30T21:46:56.301911Z",
     "shell.execute_reply": "2025-07-30T21:46:56.301005Z"
    },
    "papermill": {
     "duration": 0.045055,
     "end_time": "2025-07-30T21:46:56.303517",
     "exception": false,
     "start_time": "2025-07-30T21:46:56.258462",
     "status": "completed"
    },
    "tags": []
   },
   "outputs": [
    {
     "data": {
      "text/html": [
       "<div>\n",
       "<style scoped>\n",
       "    .dataframe tbody tr th:only-of-type {\n",
       "        vertical-align: middle;\n",
       "    }\n",
       "\n",
       "    .dataframe tbody tr th {\n",
       "        vertical-align: top;\n",
       "    }\n",
       "\n",
       "    .dataframe thead th {\n",
       "        text-align: right;\n",
       "    }\n",
       "</style>\n",
       "<table border=\"1\" class=\"dataframe\">\n",
       "  <thead>\n",
       "    <tr style=\"text-align: right;\">\n",
       "      <th></th>\n",
       "      <th>universe_id</th>\n",
       "      <th>universe_training_year</th>\n",
       "      <th>universe_training_size</th>\n",
       "      <th>universe_scale</th>\n",
       "      <th>universe_model</th>\n",
       "      <th>universe_exclude_features</th>\n",
       "      <th>universe_exclude_subgroups</th>\n",
       "      <th>q_hat</th>\n",
       "      <th>coverage</th>\n",
       "      <th>avg_size</th>\n",
       "    </tr>\n",
       "  </thead>\n",
       "  <tbody>\n",
       "    <tr>\n",
       "      <th>0</th>\n",
       "      <td>f0d027785e4f1a597f3677bfe0487b66</td>\n",
       "      <td>2010_14</td>\n",
       "      <td>1k</td>\n",
       "      <td>scale</td>\n",
       "      <td>gbm</td>\n",
       "      <td>nationality</td>\n",
       "      <td>keep-all</td>\n",
       "      <td>0.7595</td>\n",
       "      <td>0.909609</td>\n",
       "      <td>1.186568</td>\n",
       "    </tr>\n",
       "  </tbody>\n",
       "</table>\n",
       "</div>"
      ],
      "text/plain": [
       "                        universe_id universe_training_year  \\\n",
       "0  f0d027785e4f1a597f3677bfe0487b66                2010_14   \n",
       "\n",
       "  universe_training_size universe_scale universe_model  \\\n",
       "0                     1k          scale            gbm   \n",
       "\n",
       "  universe_exclude_features universe_exclude_subgroups   q_hat  coverage  \\\n",
       "0               nationality                   keep-all  0.7595  0.909609   \n",
       "\n",
       "   avg_size  \n",
       "0  1.186568  "
      ]
     },
     "execution_count": 61,
     "metadata": {},
     "output_type": "execute_result"
    }
   ],
   "source": [
    "cp_metrics_df"
   ]
  },
  {
   "cell_type": "code",
   "execution_count": 62,
   "id": "b7fbde55-a0a1-47e4-9af6-fe4a17fa8c61",
   "metadata": {
    "execution": {
     "iopub.execute_input": "2025-07-30T21:46:56.355926Z",
     "iopub.status.busy": "2025-07-30T21:46:56.355272Z",
     "iopub.status.idle": "2025-07-30T21:46:56.360065Z",
     "shell.execute_reply": "2025-07-30T21:46:56.359086Z"
    },
    "papermill": {
     "duration": 0.030362,
     "end_time": "2025-07-30T21:46:56.361542",
     "exception": false,
     "start_time": "2025-07-30T21:46:56.331180",
     "status": "completed"
    },
    "tags": []
   },
   "outputs": [],
   "source": [
    "# Conditional Coverage & looking at subgroups"
   ]
  },
  {
   "cell_type": "code",
   "execution_count": 63,
   "id": "027ae886-68dd-4141-96c7-805a5450e1ef",
   "metadata": {
    "execution": {
     "iopub.execute_input": "2025-07-30T21:46:56.410857Z",
     "iopub.status.busy": "2025-07-30T21:46:56.410261Z",
     "iopub.status.idle": "2025-07-30T21:46:56.657710Z",
     "shell.execute_reply": "2025-07-30T21:46:56.656525Z"
    },
    "papermill": {
     "duration": 0.274055,
     "end_time": "2025-07-30T21:46:56.659673",
     "exception": false,
     "start_time": "2025-07-30T21:46:56.385618",
     "status": "completed"
    },
    "tags": []
   },
   "outputs": [],
   "source": [
    "from fairness_multiverse.conformal import build_cp_groups\n",
    "\n",
    "cp_groups_df = build_cp_groups(pred_sets, y_true, X_test.index, org_test)\n",
    "#needs universe_id and setting"
   ]
  },
  {
   "cell_type": "code",
   "execution_count": 64,
   "id": "01d5802c-663a-4d1f-9d69-e036faaffbf7",
   "metadata": {
    "execution": {
     "iopub.execute_input": "2025-07-30T21:46:56.710331Z",
     "iopub.status.busy": "2025-07-30T21:46:56.709581Z",
     "iopub.status.idle": "2025-07-30T21:46:56.714844Z",
     "shell.execute_reply": "2025-07-30T21:46:56.713922Z"
    },
    "papermill": {
     "duration": 0.032072,
     "end_time": "2025-07-30T21:46:56.716474",
     "exception": false,
     "start_time": "2025-07-30T21:46:56.684402",
     "status": "completed"
    },
    "tags": []
   },
   "outputs": [],
   "source": [
    "#delete\n",
    "#cp_groups_df"
   ]
  },
  {
   "cell_type": "code",
   "execution_count": 65,
   "id": "fa424af1-d1eb-443d-b717-2d279ada8408",
   "metadata": {
    "execution": {
     "iopub.execute_input": "2025-07-30T21:46:56.767003Z",
     "iopub.status.busy": "2025-07-30T21:46:56.766491Z",
     "iopub.status.idle": "2025-07-30T21:46:56.771952Z",
     "shell.execute_reply": "2025-07-30T21:46:56.770929Z"
    },
    "papermill": {
     "duration": 0.032305,
     "end_time": "2025-07-30T21:46:56.773636",
     "exception": false,
     "start_time": "2025-07-30T21:46:56.741331",
     "status": "completed"
    },
    "tags": []
   },
   "outputs": [],
   "source": [
    "#delete\n",
    "#percentage = (cp_groups_df['nongerman_female'] == 1).mean() * 100\n",
    "#print(percentage)\n"
   ]
  },
  {
   "cell_type": "code",
   "execution_count": 66,
   "id": "6cbdab96-b2b2-45af-ad54-d0516db2e28d",
   "metadata": {
    "execution": {
     "iopub.execute_input": "2025-07-30T21:46:56.826374Z",
     "iopub.status.busy": "2025-07-30T21:46:56.825335Z",
     "iopub.status.idle": "2025-07-30T21:46:58.408748Z",
     "shell.execute_reply": "2025-07-30T21:46:58.407881Z"
    },
    "papermill": {
     "duration": 1.612156,
     "end_time": "2025-07-30T21:46:58.410509",
     "exception": false,
     "start_time": "2025-07-30T21:46:56.798353",
     "status": "completed"
    },
    "tags": []
   },
   "outputs": [],
   "source": [
    "# Define covered = 1 if true_label is in the predicted set\n",
    "cp_groups_df['covered'] = cp_groups_df.apply(\n",
    "    lambda r: int(r['true_label'] in r['pred_set']),\n",
    "    axis=1\n",
    ")"
   ]
  },
  {
   "cell_type": "code",
   "execution_count": 67,
   "id": "338ff529-1a6b-4b87-a931-8e4788d52aad",
   "metadata": {
    "execution": {
     "iopub.execute_input": "2025-07-30T21:46:58.461944Z",
     "iopub.status.busy": "2025-07-30T21:46:58.461352Z",
     "iopub.status.idle": "2025-07-30T21:46:58.466528Z",
     "shell.execute_reply": "2025-07-30T21:46:58.465390Z"
    },
    "papermill": {
     "duration": 0.032008,
     "end_time": "2025-07-30T21:46:58.468209",
     "exception": false,
     "start_time": "2025-07-30T21:46:58.436201",
     "status": "completed"
    },
    "tags": []
   },
   "outputs": [],
   "source": [
    "#cp_groups_df"
   ]
  },
  {
   "cell_type": "code",
   "execution_count": 68,
   "id": "90032e27-66df-4540-9169-4e89cfbaa758",
   "metadata": {
    "execution": {
     "iopub.execute_input": "2025-07-30T21:46:58.519119Z",
     "iopub.status.busy": "2025-07-30T21:46:58.518331Z",
     "iopub.status.idle": "2025-07-30T21:46:58.529447Z",
     "shell.execute_reply": "2025-07-30T21:46:58.528521Z"
    },
    "papermill": {
     "duration": 0.037677,
     "end_time": "2025-07-30T21:46:58.531323",
     "exception": false,
     "start_time": "2025-07-30T21:46:58.493646",
     "status": "completed"
    },
    "tags": []
   },
   "outputs": [],
   "source": [
    "subgroups = ['frau1','nongerman','nongerman_male','nongerman_female']\n",
    "\n",
    "# Conditional coverage for subgroup==1\n",
    "cond_coverage = {\n",
    "    g: cp_groups_df.loc[cp_groups_df[g]==1, 'covered'].mean()\n",
    "    for g in subgroups\n",
    "}"
   ]
  },
  {
   "cell_type": "code",
   "execution_count": 69,
   "id": "1e348fb1-b9c3-45bc-ba23-f016827a7e0d",
   "metadata": {
    "execution": {
     "iopub.execute_input": "2025-07-30T21:46:58.582223Z",
     "iopub.status.busy": "2025-07-30T21:46:58.581507Z",
     "iopub.status.idle": "2025-07-30T21:46:58.589265Z",
     "shell.execute_reply": "2025-07-30T21:46:58.588398Z"
    },
    "papermill": {
     "duration": 0.034848,
     "end_time": "2025-07-30T21:46:58.590909",
     "exception": false,
     "start_time": "2025-07-30T21:46:58.556061",
     "status": "completed"
    },
    "tags": []
   },
   "outputs": [
    {
     "data": {
      "text/plain": [
       "{'frau1': 0.9079660331581075,\n",
       " 'nongerman': 0.9095604333913434,\n",
       " 'nongerman_male': 0.9265964153832298,\n",
       " 'nongerman_female': 0.881371087928465}"
      ]
     },
     "execution_count": 69,
     "metadata": {},
     "output_type": "execute_result"
    }
   ],
   "source": [
    "cond_coverage"
   ]
  },
  {
   "cell_type": "code",
   "execution_count": 70,
   "id": "f5093324-c3dd-4d63-bc4c-8d945e5c8bbb",
   "metadata": {
    "execution": {
     "iopub.execute_input": "2025-07-30T21:46:58.643114Z",
     "iopub.status.busy": "2025-07-30T21:46:58.642514Z",
     "iopub.status.idle": "2025-07-30T21:46:58.649633Z",
     "shell.execute_reply": "2025-07-30T21:46:58.648751Z"
    },
    "papermill": {
     "duration": 0.035049,
     "end_time": "2025-07-30T21:46:58.651154",
     "exception": false,
     "start_time": "2025-07-30T21:46:58.616105",
     "status": "completed"
    },
    "tags": []
   },
   "outputs": [],
   "source": [
    "for subgroup, cov in cond_coverage.items():\n",
    "    cp_metrics_df[f\"cov_{subgroup}\"] = cov"
   ]
  },
  {
   "cell_type": "code",
   "execution_count": 71,
   "id": "6e872e10-dbe5-49e8-b554-5030c98ff75d",
   "metadata": {
    "execution": {
     "iopub.execute_input": "2025-07-30T21:46:58.703214Z",
     "iopub.status.busy": "2025-07-30T21:46:58.702543Z",
     "iopub.status.idle": "2025-07-30T21:46:58.721211Z",
     "shell.execute_reply": "2025-07-30T21:46:58.720112Z"
    },
    "papermill": {
     "duration": 0.045961,
     "end_time": "2025-07-30T21:46:58.722847",
     "exception": false,
     "start_time": "2025-07-30T21:46:58.676886",
     "status": "completed"
    },
    "tags": []
   },
   "outputs": [
    {
     "data": {
      "text/html": [
       "<div>\n",
       "<style scoped>\n",
       "    .dataframe tbody tr th:only-of-type {\n",
       "        vertical-align: middle;\n",
       "    }\n",
       "\n",
       "    .dataframe tbody tr th {\n",
       "        vertical-align: top;\n",
       "    }\n",
       "\n",
       "    .dataframe thead th {\n",
       "        text-align: right;\n",
       "    }\n",
       "</style>\n",
       "<table border=\"1\" class=\"dataframe\">\n",
       "  <thead>\n",
       "    <tr style=\"text-align: right;\">\n",
       "      <th></th>\n",
       "      <th>universe_id</th>\n",
       "      <th>universe_training_year</th>\n",
       "      <th>universe_training_size</th>\n",
       "      <th>universe_scale</th>\n",
       "      <th>universe_model</th>\n",
       "      <th>universe_exclude_features</th>\n",
       "      <th>universe_exclude_subgroups</th>\n",
       "      <th>q_hat</th>\n",
       "      <th>coverage</th>\n",
       "      <th>avg_size</th>\n",
       "      <th>cov_frau1</th>\n",
       "      <th>cov_nongerman</th>\n",
       "      <th>cov_nongerman_male</th>\n",
       "      <th>cov_nongerman_female</th>\n",
       "    </tr>\n",
       "  </thead>\n",
       "  <tbody>\n",
       "    <tr>\n",
       "      <th>0</th>\n",
       "      <td>f0d027785e4f1a597f3677bfe0487b66</td>\n",
       "      <td>2010_14</td>\n",
       "      <td>1k</td>\n",
       "      <td>scale</td>\n",
       "      <td>gbm</td>\n",
       "      <td>nationality</td>\n",
       "      <td>keep-all</td>\n",
       "      <td>0.7595</td>\n",
       "      <td>0.909609</td>\n",
       "      <td>1.186568</td>\n",
       "      <td>0.907966</td>\n",
       "      <td>0.90956</td>\n",
       "      <td>0.926596</td>\n",
       "      <td>0.881371</td>\n",
       "    </tr>\n",
       "  </tbody>\n",
       "</table>\n",
       "</div>"
      ],
      "text/plain": [
       "                        universe_id universe_training_year  \\\n",
       "0  f0d027785e4f1a597f3677bfe0487b66                2010_14   \n",
       "\n",
       "  universe_training_size universe_scale universe_model  \\\n",
       "0                     1k          scale            gbm   \n",
       "\n",
       "  universe_exclude_features universe_exclude_subgroups   q_hat  coverage  \\\n",
       "0               nationality                   keep-all  0.7595  0.909609   \n",
       "\n",
       "   avg_size  cov_frau1  cov_nongerman  cov_nongerman_male  \\\n",
       "0  1.186568   0.907966        0.90956            0.926596   \n",
       "\n",
       "   cov_nongerman_female  \n",
       "0              0.881371  "
      ]
     },
     "execution_count": 71,
     "metadata": {},
     "output_type": "execute_result"
    }
   ],
   "source": [
    "cp_metrics_df"
   ]
  },
  {
   "cell_type": "markdown",
   "id": "33774451",
   "metadata": {
    "papermill": {
     "duration": 0.025057,
     "end_time": "2025-07-30T21:46:58.774464",
     "exception": false,
     "start_time": "2025-07-30T21:46:58.749407",
     "status": "completed"
    },
    "tags": []
   },
   "source": [
    "# (Fairness) Metrics"
   ]
  },
  {
   "cell_type": "code",
   "execution_count": 72,
   "id": "debc5d62",
   "metadata": {
    "execution": {
     "iopub.execute_input": "2025-07-30T21:46:58.826193Z",
     "iopub.status.busy": "2025-07-30T21:46:58.825555Z",
     "iopub.status.idle": "2025-07-30T21:46:58.847012Z",
     "shell.execute_reply": "2025-07-30T21:46:58.846145Z"
    },
    "papermill": {
     "duration": 0.049296,
     "end_time": "2025-07-30T21:46:58.848681",
     "exception": false,
     "start_time": "2025-07-30T21:46:58.799385",
     "status": "completed"
    },
    "tags": []
   },
   "outputs": [],
   "source": [
    "# do I need to include maxdeutsch1.missing?\n",
    "\n",
    "import numpy as np\n",
    "\n",
    "colname_to_bin = \"maxdeutsch1\"\n",
    "majority_value = org_train[colname_to_bin].mode()[0]\n",
    "\n",
    "org_test[\"majmin\"] = np.where(org_test[colname_to_bin] == majority_value, \"majority\", \"minority\")"
   ]
  },
  {
   "cell_type": "code",
   "execution_count": 73,
   "id": "06a50de5",
   "metadata": {
    "execution": {
     "iopub.execute_input": "2025-07-30T21:46:58.901413Z",
     "iopub.status.busy": "2025-07-30T21:46:58.900625Z",
     "iopub.status.idle": "2025-07-30T21:47:01.798766Z",
     "shell.execute_reply": "2025-07-30T21:47:01.797853Z"
    },
    "papermill": {
     "duration": 2.926256,
     "end_time": "2025-07-30T21:47:01.800659",
     "exception": false,
     "start_time": "2025-07-30T21:46:58.874403",
     "status": "completed"
    },
    "tags": []
   },
   "outputs": [],
   "source": [
    "example_universe = universe.copy()\n",
    "example_universe[\"cutoff\"] = example_universe[\"cutoff\"][0]\n",
    "example_universe[\"eval_fairness_grouping\"] = example_universe[\"eval_fairness_grouping\"][0]\n",
    "fairness_dict, metric_frame = universe_analysis.compute_metrics(\n",
    "    example_universe,\n",
    "    y_pred_prob=probs_test,\n",
    "    y_test=y_true,\n",
    "    org_test=org_test,\n",
    ")"
   ]
  },
  {
   "cell_type": "markdown",
   "id": "f95d4e02",
   "metadata": {
    "papermill": {
     "duration": 0.024264,
     "end_time": "2025-07-30T21:47:01.851222",
     "exception": false,
     "start_time": "2025-07-30T21:47:01.826958",
     "status": "completed"
    },
    "tags": []
   },
   "source": [
    "# Overall"
   ]
  },
  {
   "cell_type": "markdown",
   "id": "bdee4871",
   "metadata": {
    "papermill": {
     "duration": 0.025507,
     "end_time": "2025-07-30T21:47:01.902012",
     "exception": false,
     "start_time": "2025-07-30T21:47:01.876505",
     "status": "completed"
    },
    "tags": []
   },
   "source": [
    "Fairness\n",
    "Main fairness target: Equalized Odds. Seems to be a better fit than equal opportunity, since we're not only interested in Y = 1. Seems to be a better fit than demographic parity, since we also care about accuracy, not just equal distribution of preds.\n",
    "\n",
    "Pick column for computation of fairness metrics\n",
    "\n",
    "Performance\n",
    "Overall performance measures, most interesting in relation to the measures split by group below"
   ]
  },
  {
   "cell_type": "code",
   "execution_count": 74,
   "id": "c4e067c6",
   "metadata": {
    "execution": {
     "iopub.execute_input": "2025-07-30T21:47:01.953923Z",
     "iopub.status.busy": "2025-07-30T21:47:01.953121Z",
     "iopub.status.idle": "2025-07-30T21:47:01.962314Z",
     "shell.execute_reply": "2025-07-30T21:47:01.961417Z"
    },
    "papermill": {
     "duration": 0.037493,
     "end_time": "2025-07-30T21:47:01.963848",
     "exception": false,
     "start_time": "2025-07-30T21:47:01.926355",
     "status": "completed"
    },
    "tags": []
   },
   "outputs": [
    {
     "data": {
      "text/plain": [
       "accuracy                   0.222439\n",
       "balanced accuracy          0.544299\n",
       "f1                         0.243824\n",
       "precision                  0.139288\n",
       "false positive rate        0.888635\n",
       "false negative rate        0.022767\n",
       "selection rate             0.900000\n",
       "count                  89710.000000\n",
       "dtype: float64"
      ]
     },
     "execution_count": 74,
     "metadata": {},
     "output_type": "execute_result"
    }
   ],
   "source": [
    "metric_frame.overall"
   ]
  },
  {
   "cell_type": "markdown",
   "id": "e968fe9d",
   "metadata": {
    "papermill": {
     "duration": 0.026635,
     "end_time": "2025-07-30T21:47:02.017167",
     "exception": false,
     "start_time": "2025-07-30T21:47:01.990532",
     "status": "completed"
    },
    "tags": []
   },
   "source": [
    "By Group"
   ]
  },
  {
   "cell_type": "code",
   "execution_count": 75,
   "id": "ec325bce",
   "metadata": {
    "execution": {
     "iopub.execute_input": "2025-07-30T21:47:02.069229Z",
     "iopub.status.busy": "2025-07-30T21:47:02.068620Z",
     "iopub.status.idle": "2025-07-30T21:47:02.083871Z",
     "shell.execute_reply": "2025-07-30T21:47:02.082977Z"
    },
    "papermill": {
     "duration": 0.042497,
     "end_time": "2025-07-30T21:47:02.085373",
     "exception": false,
     "start_time": "2025-07-30T21:47:02.042876",
     "status": "completed"
    },
    "tags": []
   },
   "outputs": [
    {
     "data": {
      "text/html": [
       "<div>\n",
       "<style scoped>\n",
       "    .dataframe tbody tr th:only-of-type {\n",
       "        vertical-align: middle;\n",
       "    }\n",
       "\n",
       "    .dataframe tbody tr th {\n",
       "        vertical-align: top;\n",
       "    }\n",
       "\n",
       "    .dataframe thead th {\n",
       "        text-align: right;\n",
       "    }\n",
       "</style>\n",
       "<table border=\"1\" class=\"dataframe\">\n",
       "  <thead>\n",
       "    <tr style=\"text-align: right;\">\n",
       "      <th></th>\n",
       "      <th>accuracy</th>\n",
       "      <th>balanced accuracy</th>\n",
       "      <th>f1</th>\n",
       "      <th>precision</th>\n",
       "      <th>false positive rate</th>\n",
       "      <th>false negative rate</th>\n",
       "      <th>selection rate</th>\n",
       "      <th>count</th>\n",
       "    </tr>\n",
       "    <tr>\n",
       "      <th>majmin</th>\n",
       "      <th></th>\n",
       "      <th></th>\n",
       "      <th></th>\n",
       "      <th></th>\n",
       "      <th></th>\n",
       "      <th></th>\n",
       "      <th></th>\n",
       "      <th></th>\n",
       "    </tr>\n",
       "  </thead>\n",
       "  <tbody>\n",
       "    <tr>\n",
       "      <th>majority</th>\n",
       "      <td>0.237097</td>\n",
       "      <td>0.550453</td>\n",
       "      <td>0.252740</td>\n",
       "      <td>0.145158</td>\n",
       "      <td>0.875462</td>\n",
       "      <td>0.023632</td>\n",
       "      <td>0.888796</td>\n",
       "      <td>69170.0</td>\n",
       "    </tr>\n",
       "    <tr>\n",
       "      <th>minority</th>\n",
       "      <td>0.173077</td>\n",
       "      <td>0.524213</td>\n",
       "      <td>0.214712</td>\n",
       "      <td>0.120554</td>\n",
       "      <td>0.932148</td>\n",
       "      <td>0.019426</td>\n",
       "      <td>0.937731</td>\n",
       "      <td>20540.0</td>\n",
       "    </tr>\n",
       "  </tbody>\n",
       "</table>\n",
       "</div>"
      ],
      "text/plain": [
       "          accuracy  balanced accuracy        f1  precision  \\\n",
       "majmin                                                       \n",
       "majority  0.237097           0.550453  0.252740   0.145158   \n",
       "minority  0.173077           0.524213  0.214712   0.120554   \n",
       "\n",
       "          false positive rate  false negative rate  selection rate    count  \n",
       "majmin                                                                       \n",
       "majority             0.875462             0.023632        0.888796  69170.0  \n",
       "minority             0.932148             0.019426        0.937731  20540.0  "
      ]
     },
     "execution_count": 75,
     "metadata": {},
     "output_type": "execute_result"
    }
   ],
   "source": [
    "metric_frame.by_group"
   ]
  },
  {
   "cell_type": "code",
   "execution_count": 76,
   "id": "a9ddbe63",
   "metadata": {
    "execution": {
     "iopub.execute_input": "2025-07-30T21:47:02.140018Z",
     "iopub.status.busy": "2025-07-30T21:47:02.139395Z",
     "iopub.status.idle": "2025-07-30T21:47:03.893064Z",
     "shell.execute_reply": "2025-07-30T21:47:03.892083Z"
    },
    "papermill": {
     "duration": 1.782358,
     "end_time": "2025-07-30T21:47:03.894372",
     "exception": false,
     "start_time": "2025-07-30T21:47:02.112014",
     "status": "completed"
    },
    "tags": []
   },
   "outputs": [
    {
     "data": {
      "text/plain": [
       "array([[<Axes: title={'center': 'accuracy'}, xlabel='majmin'>,\n",
       "        <Axes: title={'center': 'balanced accuracy'}, xlabel='majmin'>,\n",
       "        <Axes: title={'center': 'f1'}, xlabel='majmin'>],\n",
       "       [<Axes: title={'center': 'precision'}, xlabel='majmin'>,\n",
       "        <Axes: title={'center': 'false positive rate'}, xlabel='majmin'>,\n",
       "        <Axes: title={'center': 'false negative rate'}, xlabel='majmin'>],\n",
       "       [<Axes: title={'center': 'selection rate'}, xlabel='majmin'>,\n",
       "        <Axes: title={'center': 'count'}, xlabel='majmin'>,\n",
       "        <Axes: xlabel='majmin'>]], dtype=object)"
      ]
     },
     "execution_count": 76,
     "metadata": {},
     "output_type": "execute_result"
    },
    {
     "data": {
      "image/png": "[encoded data removed]",
      "text/plain": [
       "<Figure size 1200x800 with 9 Axes>"
      ]
     },
     "metadata": {},
     "output_type": "display_data"
    }
   ],
   "source": [
    "# In a graphic\n",
    "metric_frame.by_group.plot.bar(\n",
    "    subplots=True,\n",
    "    layout=[3, 3],\n",
    "    legend=False,\n",
    "    figsize=[12, 8],\n",
    "    title=\"Show all metrics\",\n",
    ")"
   ]
  },
  {
   "cell_type": "markdown",
   "id": "f57a0bac",
   "metadata": {
    "papermill": {
     "duration": 0.015374,
     "end_time": "2025-07-30T21:47:03.926270",
     "exception": false,
     "start_time": "2025-07-30T21:47:03.910896",
     "status": "completed"
    },
    "tags": []
   },
   "source": [
    "# Final Output"
   ]
  },
  {
   "cell_type": "code",
   "execution_count": 77,
   "id": "96d280a3",
   "metadata": {
    "execution": {
     "iopub.execute_input": "2025-07-30T21:47:03.957752Z",
     "iopub.status.busy": "2025-07-30T21:47:03.957138Z",
     "iopub.status.idle": "2025-07-30T21:47:03.965480Z",
     "shell.execute_reply": "2025-07-30T21:47:03.964527Z"
    },
    "papermill": {
     "duration": 0.025647,
     "end_time": "2025-07-30T21:47:03.966890",
     "exception": false,
     "start_time": "2025-07-30T21:47:03.941243",
     "status": "completed"
    },
    "tags": []
   },
   "outputs": [
    {
     "data": {
      "text/plain": [
       "4"
      ]
     },
     "execution_count": 77,
     "metadata": {},
     "output_type": "execute_result"
    }
   ],
   "source": [
    "sub_universes = universe_analysis.generate_sub_universes()\n",
    "len(sub_universes)"
   ]
  },
  {
   "cell_type": "code",
   "execution_count": 78,
   "id": "92adf7ba",
   "metadata": {
    "execution": {
     "iopub.execute_input": "2025-07-30T21:47:03.999840Z",
     "iopub.status.busy": "2025-07-30T21:47:03.999355Z",
     "iopub.status.idle": "2025-07-30T21:47:04.004553Z",
     "shell.execute_reply": "2025-07-30T21:47:04.003677Z"
    },
    "papermill": {
     "duration": 0.023474,
     "end_time": "2025-07-30T21:47:04.005879",
     "exception": false,
     "start_time": "2025-07-30T21:47:03.982405",
     "status": "completed"
    },
    "tags": []
   },
   "outputs": [],
   "source": [
    "def filter_sub_universe_data(sub_universe, org_test):\n",
    "    # Keep all rows — no filtering\n",
    "    keep_rows_mask = np.ones(org_test.shape[0], dtype=bool)\n",
    "\n",
    "    print(f\"[INFO] Keeping all rows: {keep_rows_mask.sum()} rows retained.\")\n",
    "    return keep_rows_mask"
   ]
  },
  {
   "cell_type": "code",
   "execution_count": 79,
   "id": "4a759155",
   "metadata": {
    "execution": {
     "iopub.execute_input": "2025-07-30T21:47:04.038270Z",
     "iopub.status.busy": "2025-07-30T21:47:04.037676Z",
     "iopub.status.idle": "2025-07-30T21:47:11.526802Z",
     "shell.execute_reply": "2025-07-30T21:47:11.525792Z"
    },
    "papermill": {
     "duration": 7.506639,
     "end_time": "2025-07-30T21:47:11.528598",
     "exception": false,
     "start_time": "2025-07-30T21:47:04.021959",
     "status": "completed"
    },
    "tags": []
   },
   "outputs": [
    {
     "name": "stdout",
     "output_type": "stream",
     "text": [
      "Stopping execution_time clock.\n",
      "[INFO] Keeping all rows: 89710 rows retained.\n"
     ]
    },
    {
     "name": "stdout",
     "output_type": "stream",
     "text": [
      "[INFO] Keeping all rows: 89710 rows retained.\n"
     ]
    },
    {
     "name": "stdout",
     "output_type": "stream",
     "text": [
      "[INFO] Keeping all rows: 89710 rows retained.\n"
     ]
    },
    {
     "name": "stdout",
     "output_type": "stream",
     "text": [
      "[INFO] Keeping all rows: 89710 rows retained.\n"
     ]
    },
    {
     "data": {
      "text/html": [
       "<div>\n",
       "<style scoped>\n",
       "    .dataframe tbody tr th:only-of-type {\n",
       "        vertical-align: middle;\n",
       "    }\n",
       "\n",
       "    .dataframe tbody tr th {\n",
       "        vertical-align: top;\n",
       "    }\n",
       "\n",
       "    .dataframe thead th {\n",
       "        text-align: right;\n",
       "    }\n",
       "</style>\n",
       "<table border=\"1\" class=\"dataframe\">\n",
       "  <thead>\n",
       "    <tr style=\"text-align: right;\">\n",
       "      <th></th>\n",
       "      <th>run_no</th>\n",
       "      <th>universe_id</th>\n",
       "      <th>universe_settings</th>\n",
       "      <th>execution_time</th>\n",
       "      <th>test_size_n</th>\n",
       "      <th>test_size_frac</th>\n",
       "      <th>fair_main_equalized_odds_difference</th>\n",
       "      <th>fair_main_equalized_odds_ratio</th>\n",
       "      <th>fair_main_demographic_parity_difference</th>\n",
       "      <th>fair_main_demographic_parity_ratio</th>\n",
       "      <th>...</th>\n",
       "      <th>perf_grp_precision_0</th>\n",
       "      <th>perf_grp_precision_1</th>\n",
       "      <th>perf_grp_false positive rate_0</th>\n",
       "      <th>perf_grp_false positive rate_1</th>\n",
       "      <th>perf_grp_false negative rate_0</th>\n",
       "      <th>perf_grp_false negative rate_1</th>\n",
       "      <th>perf_grp_selection rate_0</th>\n",
       "      <th>perf_grp_selection rate_1</th>\n",
       "      <th>perf_grp_count_0</th>\n",
       "      <th>perf_grp_count_1</th>\n",
       "    </tr>\n",
       "  </thead>\n",
       "  <tbody>\n",
       "    <tr>\n",
       "      <th>0</th>\n",
       "      <td>14</td>\n",
       "      <td>f0d027785e4f1a597f3677bfe0487b66</td>\n",
       "      <td>{\"cutoff\": \"quantile_0.1\", \"eval_fairness_grou...</td>\n",
       "      <td>32.77355</td>\n",
       "      <td>89710</td>\n",
       "      <td>1.0</td>\n",
       "      <td>0.056686</td>\n",
       "      <td>0.939188</td>\n",
       "      <td>0.048936</td>\n",
       "      <td>0.947815</td>\n",
       "      <td>...</td>\n",
       "      <td>NaN</td>\n",
       "      <td>NaN</td>\n",
       "      <td>NaN</td>\n",
       "      <td>NaN</td>\n",
       "      <td>NaN</td>\n",
       "      <td>NaN</td>\n",
       "      <td>NaN</td>\n",
       "      <td>NaN</td>\n",
       "      <td>NaN</td>\n",
       "      <td>NaN</td>\n",
       "    </tr>\n",
       "    <tr>\n",
       "      <th>0</th>\n",
       "      <td>14</td>\n",
       "      <td>f0d027785e4f1a597f3677bfe0487b66</td>\n",
       "      <td>{\"cutoff\": \"quantile_0.1\", \"eval_fairness_grou...</td>\n",
       "      <td>32.77355</td>\n",
       "      <td>89710</td>\n",
       "      <td>1.0</td>\n",
       "      <td>0.056686</td>\n",
       "      <td>0.939188</td>\n",
       "      <td>0.048936</td>\n",
       "      <td>0.947815</td>\n",
       "      <td>...</td>\n",
       "      <td>0.120554</td>\n",
       "      <td>0.145158</td>\n",
       "      <td>0.932148</td>\n",
       "      <td>0.875462</td>\n",
       "      <td>0.019426</td>\n",
       "      <td>0.023632</td>\n",
       "      <td>0.937731</td>\n",
       "      <td>0.888796</td>\n",
       "      <td>20540.0</td>\n",
       "      <td>69170.0</td>\n",
       "    </tr>\n",
       "    <tr>\n",
       "      <th>0</th>\n",
       "      <td>14</td>\n",
       "      <td>f0d027785e4f1a597f3677bfe0487b66</td>\n",
       "      <td>{\"cutoff\": \"quantile_0.25\", \"eval_fairness_gro...</td>\n",
       "      <td>32.77355</td>\n",
       "      <td>89710</td>\n",
       "      <td>1.0</td>\n",
       "      <td>0.137904</td>\n",
       "      <td>0.833842</td>\n",
       "      <td>0.120168</td>\n",
       "      <td>0.857393</td>\n",
       "      <td>...</td>\n",
       "      <td>NaN</td>\n",
       "      <td>NaN</td>\n",
       "      <td>NaN</td>\n",
       "      <td>NaN</td>\n",
       "      <td>NaN</td>\n",
       "      <td>NaN</td>\n",
       "      <td>NaN</td>\n",
       "      <td>NaN</td>\n",
       "      <td>NaN</td>\n",
       "      <td>NaN</td>\n",
       "    </tr>\n",
       "    <tr>\n",
       "      <th>0</th>\n",
       "      <td>14</td>\n",
       "      <td>f0d027785e4f1a597f3677bfe0487b66</td>\n",
       "      <td>{\"cutoff\": \"quantile_0.25\", \"eval_fairness_gro...</td>\n",
       "      <td>32.77355</td>\n",
       "      <td>89710</td>\n",
       "      <td>1.0</td>\n",
       "      <td>0.137904</td>\n",
       "      <td>0.833842</td>\n",
       "      <td>0.120168</td>\n",
       "      <td>0.857393</td>\n",
       "      <td>...</td>\n",
       "      <td>0.128611</td>\n",
       "      <td>0.168688</td>\n",
       "      <td>0.829958</td>\n",
       "      <td>0.692054</td>\n",
       "      <td>0.059966</td>\n",
       "      <td>0.077681</td>\n",
       "      <td>0.842648</td>\n",
       "      <td>0.722481</td>\n",
       "      <td>20540.0</td>\n",
       "      <td>69170.0</td>\n",
       "    </tr>\n",
       "  </tbody>\n",
       "</table>\n",
       "<p>4 rows × 50 columns</p>\n",
       "</div>"
      ],
      "text/plain": [
       "  run_no                       universe_id  \\\n",
       "0     14  f0d027785e4f1a597f3677bfe0487b66   \n",
       "0     14  f0d027785e4f1a597f3677bfe0487b66   \n",
       "0     14  f0d027785e4f1a597f3677bfe0487b66   \n",
       "0     14  f0d027785e4f1a597f3677bfe0487b66   \n",
       "\n",
       "                                   universe_settings  execution_time  \\\n",
       "0  {\"cutoff\": \"quantile_0.1\", \"eval_fairness_grou...        32.77355   \n",
       "0  {\"cutoff\": \"quantile_0.1\", \"eval_fairness_grou...        32.77355   \n",
       "0  {\"cutoff\": \"quantile_0.25\", \"eval_fairness_gro...        32.77355   \n",
       "0  {\"cutoff\": \"quantile_0.25\", \"eval_fairness_gro...        32.77355   \n",
       "\n",
       "   test_size_n  test_size_frac  fair_main_equalized_odds_difference  \\\n",
       "0        89710             1.0                             0.056686   \n",
       "0        89710             1.0                             0.056686   \n",
       "0        89710             1.0                             0.137904   \n",
       "0        89710             1.0                             0.137904   \n",
       "\n",
       "   fair_main_equalized_odds_ratio  fair_main_demographic_parity_difference  \\\n",
       "0                        0.939188                                 0.048936   \n",
       "0                        0.939188                                 0.048936   \n",
       "0                        0.833842                                 0.120168   \n",
       "0                        0.833842                                 0.120168   \n",
       "\n",
       "   fair_main_demographic_parity_ratio  ...  perf_grp_precision_0  \\\n",
       "0                            0.947815  ...                   NaN   \n",
       "0                            0.947815  ...              0.120554   \n",
       "0                            0.857393  ...                   NaN   \n",
       "0                            0.857393  ...              0.128611   \n",
       "\n",
       "   perf_grp_precision_1  perf_grp_false positive rate_0  \\\n",
       "0                   NaN                             NaN   \n",
       "0              0.145158                        0.932148   \n",
       "0                   NaN                             NaN   \n",
       "0              0.168688                        0.829958   \n",
       "\n",
       "   perf_grp_false positive rate_1  perf_grp_false negative rate_0  \\\n",
       "0                             NaN                             NaN   \n",
       "0                        0.875462                        0.019426   \n",
       "0                             NaN                             NaN   \n",
       "0                        0.692054                        0.059966   \n",
       "\n",
       "   perf_grp_false negative rate_1  perf_grp_selection rate_0  \\\n",
       "0                             NaN                        NaN   \n",
       "0                        0.023632                   0.937731   \n",
       "0                             NaN                        NaN   \n",
       "0                        0.077681                   0.842648   \n",
       "\n",
       "   perf_grp_selection rate_1  perf_grp_count_0  perf_grp_count_1  \n",
       "0                        NaN               NaN               NaN  \n",
       "0                   0.888796           20540.0           69170.0  \n",
       "0                        NaN               NaN               NaN  \n",
       "0                   0.722481           20540.0           69170.0  \n",
       "\n",
       "[4 rows x 50 columns]"
      ]
     },
     "execution_count": 79,
     "metadata": {},
     "output_type": "execute_result"
    }
   ],
   "source": [
    "final_output = universe_analysis.generate_final_output(\n",
    "    y_pred_prob=probs_test,\n",
    "    y_test=y_true,\n",
    "    org_test=org_test,\n",
    "    filter_data=filter_sub_universe_data,\n",
    "    cp_metrics_df=cp_metrics_df,\n",
    "    save=True,\n",
    ")\n",
    "final_output"
   ]
  },
  {
   "cell_type": "code",
   "execution_count": null,
   "id": "721ff514-cb11-46f8-b6fc-50392f74b5cb",
   "metadata": {
    "papermill": {
     "duration": 0.030608,
     "end_time": "2025-07-30T21:47:11.591755",
     "exception": false,
     "start_time": "2025-07-30T21:47:11.561147",
     "status": "completed"
    },
    "tags": []
   },
   "outputs": [],
   "source": []
  }
 ],
 "metadata": {
  "celltoolbar": "Tags",
  "kernelspec": {
   "display_name": "Python (CMA Fairness)",
   "language": "python",
   "name": "cma_fair_env"
  },
  "language_info": {
   "codemirror_mode": {
    "name": "ipython",
    "version": 3
   },
   "file_extension": ".py",
   "mimetype": "text/x-python",
   "name": "python",
   "nbconvert_exporter": "python",
   "pygments_lexer": "ipython3",
   "version": "3.10.12"
  },
  "papermill": {
   "default_parameters": {},
   "duration": 44.671638,
   "end_time": "2025-07-30T21:47:12.439549",
   "environment_variables": {},
   "exception": null,
   "input_path": "universe_analysis.ipynb",
   "output_path": "output/runs/14/notebooks/m_14-f0d027785e4f1a597f3677bfe0487b66.ipynb",
   "parameters": {
    "output_dir": "output",
    "run_no": "14",
    "seed": "2023",
    "universe": "{\"cutoff\": [\"quantile_0.1\", \"quantile_0.25\"], \"eval_fairness_grouping\": [\"majority-minority\", \"nationality-all\"], \"exclude_features\": \"nationality\", \"exclude_subgroups\": \"keep-all\", \"model\": \"gbm\", \"scale\": \"scale\", \"training_size\": \"1k\", \"training_year\": \"2010_14\"}",
    "universe_id": "f0d027785e4f1a597f3677bfe0487b66"
   },
   "start_time": "2025-07-30T21:46:27.767911",
   "version": "2.6.0"
  }
 },
 "nbformat": 4,
 "nbformat_minor": 5
}