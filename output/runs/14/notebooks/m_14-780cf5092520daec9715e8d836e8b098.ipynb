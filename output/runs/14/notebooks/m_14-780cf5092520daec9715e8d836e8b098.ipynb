{
 "cells": [
  {
   "cell_type": "code",
   "execution_count": 1,
   "id": "f159f837-637b-42ba-96b5-ec9a68c44524",
   "metadata": {
    "execution": {
     "iopub.execute_input": "2025-07-30T21:32:05.085483Z",
     "iopub.status.busy": "2025-07-30T21:32:05.084596Z",
     "iopub.status.idle": "2025-07-30T21:32:05.097393Z",
     "shell.execute_reply": "2025-07-30T21:32:05.096516Z"
    },
    "papermill": {
     "duration": 0.036489,
     "end_time": "2025-07-30T21:32:05.098880",
     "exception": false,
     "start_time": "2025-07-30T21:32:05.062391",
     "status": "completed"
    },
    "tags": []
   },
   "outputs": [
    {
     "name": "stdout",
     "output_type": "stream",
     "text": [
      "/dss/dsshome1/0C/ra93lal2/cma/CMA_Fairness_v2\n"
     ]
    },
    {
     "name": "stderr",
     "output_type": "stream",
     "text": [
      "/dss/dsshome1/0C/ra93lal2/.local/share/virtualenvs/CMA_Fairness_v2-3j10GkSs/lib/python3.10/site-packages/IPython/core/magics/osm.py:393: UserWarning: This is now an optional IPython functionality, using bookmarks requires you to install the `pickleshare` library.\n",
      "  bkms = self.shell.db.get('bookmarks', {})\n",
      "/dss/dsshome1/0C/ra93lal2/.local/share/virtualenvs/CMA_Fairness_v2-3j10GkSs/lib/python3.10/site-packages/IPython/core/magics/osm.py:417: UserWarning: This is now an optional IPython functionality, setting dhist requires you to install the `pickleshare` library.\n",
      "  self.shell.db['dhist'] = compress_dhist(dhist)[-100:]\n"
     ]
    }
   ],
   "source": [
    "%cd ~/cma/CMA_Fairness_v2"
   ]
  },
  {
   "cell_type": "markdown",
   "id": "de2603b9",
   "metadata": {
    "papermill": {
     "duration": 0.021874,
     "end_time": "2025-07-30T21:32:05.141401",
     "exception": false,
     "start_time": "2025-07-30T21:32:05.119527",
     "status": "completed"
    },
    "tags": []
   },
   "source": [
    "The following cell holds the definition of our parameters, these values can be overriden by rendering the with e.g. the following command:\n",
    "\n",
    "papermill -p alpha 0.2 -p ratio 0.3 universe_analysis.ipynb output/test_run.ipynb"
   ]
  },
  {
   "cell_type": "code",
   "execution_count": 2,
   "id": "a80968a0-40bb-4fa9-85ef-2d5eefb01975",
   "metadata": {
    "execution": {
     "iopub.execute_input": "2025-07-30T21:32:05.183296Z",
     "iopub.status.busy": "2025-07-30T21:32:05.182567Z",
     "iopub.status.idle": "2025-07-30T21:32:05.188706Z",
     "shell.execute_reply": "2025-07-30T21:32:05.187424Z"
    },
    "papermill": {
     "duration": 0.029195,
     "end_time": "2025-07-30T21:32:05.190321",
     "exception": false,
     "start_time": "2025-07-30T21:32:05.161126",
     "status": "completed"
    },
    "tags": []
   },
   "outputs": [
    {
     "name": "stdout",
     "output_type": "stream",
     "text": [
      "Current working directory: /dss/dsshome1/0C/ra93lal2/cma/CMA_Fairness_v2\n"
     ]
    }
   ],
   "source": [
    "import os\n",
    "print(\"Current working directory:\", os.getcwd())"
   ]
  },
  {
   "cell_type": "code",
   "execution_count": 3,
   "id": "2dce4c03",
   "metadata": {
    "execution": {
     "iopub.execute_input": "2025-07-30T21:32:05.233364Z",
     "iopub.status.busy": "2025-07-30T21:32:05.232819Z",
     "iopub.status.idle": "2025-07-30T21:32:05.238820Z",
     "shell.execute_reply": "2025-07-30T21:32:05.237978Z"
    },
    "papermill": {
     "duration": 0.029452,
     "end_time": "2025-07-30T21:32:05.240309",
     "exception": false,
     "start_time": "2025-07-30T21:32:05.210857",
     "status": "completed"
    },
    "tags": [
     "parameters"
    ]
   },
   "outputs": [],
   "source": [
    "run_no = 0\n",
    "universe_id = \"test\"\n",
    "universe = {\n",
    "    \"training_size\": \"25k\", # \"25k\", \"5k\", \"1k\"\n",
    "    \"training_year\": \"2014\", # \"2014\", \"2012_14\", \"2010_14\"\n",
    "    \"scale\": \"scale\", # \"scale\", \"do-not-scale\",\n",
    "    #\"stratify_split\": \"target\", # \"none\", \"target\", \"protected-attribute\", \"both\",\n",
    "    \"model\": \"elasticnet\", # \"logreg\", \"penalized_logreg\", \"rf\", \"gbm\", \"elasticnet\"\n",
    "    \"cutoff\": [\"quantile_0.15\", \"quantile_0.30\"],\n",
    "    \"exclude_features\": \"age\", # \"none\", \"nationality\", \"sex\", \"nationality-sex\", \"age\"\n",
    "    \"exclude_subgroups\": \"keep-all\", # \"keep-all\", \"drop-non-german\"\n",
    "    \"eval_fairness_grouping\": [\"majority-minority\", \"nationality-all\"]\n",
    "}\n",
    "\n",
    "output_dir=\"./output\"\n",
    "seed=0"
   ]
  },
  {
   "cell_type": "code",
   "execution_count": 4,
   "id": "1859370d",
   "metadata": {
    "execution": {
     "iopub.execute_input": "2025-07-30T21:32:05.280704Z",
     "iopub.status.busy": "2025-07-30T21:32:05.280275Z",
     "iopub.status.idle": "2025-07-30T21:32:05.285472Z",
     "shell.execute_reply": "2025-07-30T21:32:05.284509Z"
    },
    "papermill": {
     "duration": 0.027264,
     "end_time": "2025-07-30T21:32:05.287063",
     "exception": false,
     "start_time": "2025-07-30T21:32:05.259799",
     "status": "completed"
    },
    "tags": [
     "injected-parameters"
    ]
   },
   "outputs": [],
   "source": [
    "# Parameters\n",
    "universe_id = \"780cf5092520daec9715e8d836e8b098\"\n",
    "run_no = \"14\"\n",
    "universe = \"{\\\"cutoff\\\": [\\\"quantile_0.1\\\", \\\"quantile_0.25\\\"], \\\"eval_fairness_grouping\\\": [\\\"majority-minority\\\", \\\"nationality-all\\\"], \\\"exclude_features\\\": \\\"nationality-sex\\\", \\\"exclude_subgroups\\\": \\\"keep-all\\\", \\\"model\\\": \\\"elasticnet\\\", \\\"scale\\\": \\\"do-not-scale\\\", \\\"training_size\\\": \\\"1k\\\", \\\"training_year\\\": \\\"2014\\\"}\"\n",
    "output_dir = \"output\"\n",
    "seed = \"2023\"\n"
   ]
  },
  {
   "cell_type": "code",
   "execution_count": 5,
   "id": "1650acaf",
   "metadata": {
    "execution": {
     "iopub.execute_input": "2025-07-30T21:32:05.328483Z",
     "iopub.status.busy": "2025-07-30T21:32:05.327830Z",
     "iopub.status.idle": "2025-07-30T21:32:05.333346Z",
     "shell.execute_reply": "2025-07-30T21:32:05.332347Z"
    },
    "papermill": {
     "duration": 0.027851,
     "end_time": "2025-07-30T21:32:05.334991",
     "exception": false,
     "start_time": "2025-07-30T21:32:05.307140",
     "status": "completed"
    },
    "tags": []
   },
   "outputs": [],
   "source": [
    "import json\n",
    "# Parse universe into dict if it is passed as a string\n",
    "if isinstance(universe, str):\n",
    "    universe = json.loads(universe)"
   ]
  },
  {
   "cell_type": "code",
   "execution_count": 6,
   "id": "16620c48",
   "metadata": {
    "execution": {
     "iopub.execute_input": "2025-07-30T21:32:05.374393Z",
     "iopub.status.busy": "2025-07-30T21:32:05.373778Z",
     "iopub.status.idle": "2025-07-30T21:32:05.419071Z",
     "shell.execute_reply": "2025-07-30T21:32:05.418245Z"
    },
    "papermill": {
     "duration": 0.066474,
     "end_time": "2025-07-30T21:32:05.420909",
     "exception": false,
     "start_time": "2025-07-30T21:32:05.354435",
     "status": "completed"
    },
    "tags": []
   },
   "outputs": [],
   "source": [
    "# Auto-reload the custom package\n",
    "%load_ext autoreload\n",
    "%autoreload 1\n",
    "%aimport fairness_multiverse"
   ]
  },
  {
   "cell_type": "code",
   "execution_count": 7,
   "id": "01c5c9f3",
   "metadata": {
    "execution": {
     "iopub.execute_input": "2025-07-30T21:32:05.461458Z",
     "iopub.status.busy": "2025-07-30T21:32:05.460670Z",
     "iopub.status.idle": "2025-07-30T21:32:07.373190Z",
     "shell.execute_reply": "2025-07-30T21:32:07.372184Z"
    },
    "papermill": {
     "duration": 1.93365,
     "end_time": "2025-07-30T21:32:07.375101",
     "exception": false,
     "start_time": "2025-07-30T21:32:05.441451",
     "status": "completed"
    },
    "tags": []
   },
   "outputs": [],
   "source": [
    "from fairness_multiverse.universe import UniverseAnalysis\n",
    "\n",
    "universe_analysis = UniverseAnalysis(\n",
    "    run_no = run_no,\n",
    "    universe_id = universe_id,\n",
    "    universe = universe,\n",
    "    output_dir=output_dir,\n",
    ")"
   ]
  },
  {
   "cell_type": "code",
   "execution_count": 8,
   "id": "106241f5",
   "metadata": {
    "execution": {
     "iopub.execute_input": "2025-07-30T21:32:07.418444Z",
     "iopub.status.busy": "2025-07-30T21:32:07.417950Z",
     "iopub.status.idle": "2025-07-30T21:32:07.424224Z",
     "shell.execute_reply": "2025-07-30T21:32:07.423305Z"
    },
    "papermill": {
     "duration": 0.034164,
     "end_time": "2025-07-30T21:32:07.430898",
     "exception": false,
     "start_time": "2025-07-30T21:32:07.396734",
     "status": "completed"
    },
    "tags": []
   },
   "outputs": [
    {
     "name": "stdout",
     "output_type": "stream",
     "text": [
      "Using Seed: 2023\n"
     ]
    }
   ],
   "source": [
    "import numpy as np\n",
    "parsed_seed = int(seed)\n",
    "np.random.seed(parsed_seed)\n",
    "print(f\"Using Seed: {parsed_seed}\")"
   ]
  },
  {
   "cell_type": "markdown",
   "id": "e0ebdc57",
   "metadata": {
    "papermill": {
     "duration": 0.021354,
     "end_time": "2025-07-30T21:32:07.474080",
     "exception": false,
     "start_time": "2025-07-30T21:32:07.452726",
     "status": "completed"
    },
    "tags": []
   },
   "source": [
    "# Loading Data"
   ]
  },
  {
   "cell_type": "markdown",
   "id": "681925a3",
   "metadata": {
    "papermill": {
     "duration": 0.020206,
     "end_time": "2025-07-30T21:32:07.515068",
     "exception": false,
     "start_time": "2025-07-30T21:32:07.494862",
     "status": "completed"
    },
    "tags": []
   },
   "source": [
    "Load siab_train, siab_test, siab_calib and/or \n",
    "load siab_train_features, siab_train_labels"
   ]
  },
  {
   "cell_type": "code",
   "execution_count": 9,
   "id": "f0496b8a",
   "metadata": {
    "execution": {
     "iopub.execute_input": "2025-07-30T21:32:07.558518Z",
     "iopub.status.busy": "2025-07-30T21:32:07.557572Z",
     "iopub.status.idle": "2025-07-30T21:32:20.784199Z",
     "shell.execute_reply": "2025-07-30T21:32:20.782895Z"
    },
    "papermill": {
     "duration": 13.250238,
     "end_time": "2025-07-30T21:32:20.786035",
     "exception": false,
     "start_time": "2025-07-30T21:32:07.535797",
     "status": "completed"
    },
    "tags": []
   },
   "outputs": [
    {
     "name": "stdout",
     "output_type": "stream",
     "text": [
      "Loading SIAB data from cache: data/siab_cached.csv.gz\n"
     ]
    },
    {
     "name": "stdout",
     "output_type": "stream",
     "text": [
      "(643690, 164)\n"
     ]
    }
   ],
   "source": [
    "from pathlib import Path\n",
    "import pandas as pd\n",
    "\n",
    "# File paths\n",
    "raw_file = Path(\"data/raw/siab.csv\")\n",
    "cache_file = Path(\"data/siab_cached.csv.gz\")\n",
    "\n",
    "# Ensure cache directory exists\n",
    "cache_file.parent.mkdir(parents=True, exist_ok=True)\n",
    "\n",
    "# Load with simple caching\n",
    "if cache_file.exists():\n",
    "    print(f\"Loading SIAB data from cache: {cache_file}\")\n",
    "    siab = pd.read_csv(cache_file, compression='gzip')\n",
    "else:\n",
    "    print(f\"Cache not found. Reading raw SIAB data: {raw_file}\")\n",
    "    siab = pd.read_csv(raw_file)\n",
    "    siab.to_csv(cache_file, index=False, compression='gzip')\n",
    "    print(f\"Cached SIAB data to: {cache_file}\")\n",
    "\n",
    "# Now use `siab` DataFrame as needed\n",
    "print(siab.shape)"
   ]
  },
  {
   "cell_type": "code",
   "execution_count": 10,
   "id": "db0ca512-5f53-4dba-abdb-a2888bca41ba",
   "metadata": {
    "execution": {
     "iopub.execute_input": "2025-07-30T21:32:20.837268Z",
     "iopub.status.busy": "2025-07-30T21:32:20.836764Z",
     "iopub.status.idle": "2025-07-30T21:32:20.841729Z",
     "shell.execute_reply": "2025-07-30T21:32:20.840908Z"
    },
    "papermill": {
     "duration": 0.030397,
     "end_time": "2025-07-30T21:32:20.843309",
     "exception": false,
     "start_time": "2025-07-30T21:32:20.812912",
     "status": "completed"
    },
    "tags": []
   },
   "outputs": [],
   "source": [
    "#siab"
   ]
  },
  {
   "cell_type": "code",
   "execution_count": 11,
   "id": "a0edb063",
   "metadata": {
    "execution": {
     "iopub.execute_input": "2025-07-30T21:32:20.891218Z",
     "iopub.status.busy": "2025-07-30T21:32:20.890657Z",
     "iopub.status.idle": "2025-07-30T21:32:20.894633Z",
     "shell.execute_reply": "2025-07-30T21:32:20.893964Z"
    },
    "papermill": {
     "duration": 0.02988,
     "end_time": "2025-07-30T21:32:20.896279",
     "exception": false,
     "start_time": "2025-07-30T21:32:20.866399",
     "status": "completed"
    },
    "tags": []
   },
   "outputs": [],
   "source": [
    "#import pandas as pd\n",
    "#\n",
    "#X_train = pd.read_csv(\"./data/X_train.csv\")\n",
    "#y_train = pd.read_csv(\"./data/y_train.csv\")"
   ]
  },
  {
   "cell_type": "code",
   "execution_count": 12,
   "id": "63d08085",
   "metadata": {
    "execution": {
     "iopub.execute_input": "2025-07-30T21:32:20.943870Z",
     "iopub.status.busy": "2025-07-30T21:32:20.943483Z",
     "iopub.status.idle": "2025-07-30T21:32:20.947724Z",
     "shell.execute_reply": "2025-07-30T21:32:20.947008Z"
    },
    "papermill": {
     "duration": 0.028555,
     "end_time": "2025-07-30T21:32:20.949265",
     "exception": false,
     "start_time": "2025-07-30T21:32:20.920710",
     "status": "completed"
    },
    "tags": []
   },
   "outputs": [],
   "source": [
    "#X_test = pd.read_csv(\"./data/X_test.csv\")\n",
    "#y_true = pd.read_csv(\"./data/y_test.csv\")"
   ]
  },
  {
   "cell_type": "code",
   "execution_count": 13,
   "id": "98a8d0fa-1d3d-4ed8-bb2c-281470e24add",
   "metadata": {
    "execution": {
     "iopub.execute_input": "2025-07-30T21:32:20.974610Z",
     "iopub.status.busy": "2025-07-30T21:32:20.974244Z",
     "iopub.status.idle": "2025-07-30T21:32:20.978430Z",
     "shell.execute_reply": "2025-07-30T21:32:20.977601Z"
    },
    "papermill": {
     "duration": 0.017639,
     "end_time": "2025-07-30T21:32:20.979800",
     "exception": false,
     "start_time": "2025-07-30T21:32:20.962161",
     "status": "completed"
    },
    "tags": []
   },
   "outputs": [],
   "source": [
    "# Calibration data for conformal\n",
    "#X_calib = pd.read_csv(\"./data/X_calib.csv\")\n",
    "#y_calib = pd.read_csv(\"./data/y_calib.csv\")"
   ]
  },
  {
   "cell_type": "markdown",
   "id": "997051c5-15bd-4b69-9786-c3001a3ce484",
   "metadata": {
    "papermill": {
     "duration": 0.0243,
     "end_time": "2025-07-30T21:32:21.016962",
     "exception": false,
     "start_time": "2025-07-30T21:32:20.992662",
     "status": "completed"
    },
    "tags": []
   },
   "source": [
    "# Splitting Data and Setting Training Data Size"
   ]
  },
  {
   "cell_type": "code",
   "execution_count": 14,
   "id": "e993b61f-042d-41a6-8c81-f55681f86335",
   "metadata": {
    "execution": {
     "iopub.execute_input": "2025-07-30T21:32:21.059183Z",
     "iopub.status.busy": "2025-07-30T21:32:21.058079Z",
     "iopub.status.idle": "2025-07-30T21:32:21.072158Z",
     "shell.execute_reply": "2025-07-30T21:32:21.071185Z"
    },
    "papermill": {
     "duration": 0.035247,
     "end_time": "2025-07-30T21:32:21.073934",
     "exception": false,
     "start_time": "2025-07-30T21:32:21.038687",
     "status": "completed"
    },
    "tags": []
   },
   "outputs": [],
   "source": [
    "def sample_by_year_size(df,\n",
    "                        training_year: str,\n",
    "                        training_size: str,\n",
    "                        random_state: int = 42):\n",
    "    # --- parse training_year into a list of int years ---\n",
    "    if \"_\" in training_year:\n",
    "        start_str, end_str = training_year.split(\"_\", 1)\n",
    "        start = int(start_str)\n",
    "        end   = int(end_str) if len(end_str) == 4 else (int(end_str) + (start // 100)*100)\n",
    "        years = list(range(start, end + 1))\n",
    "    else:\n",
    "        years = [int(training_year)]\n",
    "\n",
    "    df = df[df[\"year\"].isin(years)].reset_index(drop=True)\n",
    "\n",
    "    # --- map training_size to total number of samples ---\n",
    "    total_map = {\"25k\": 25_000, \"5k\": 5_000, \"1k\": 1_000}\n",
    "    if training_size not in total_map:\n",
    "        return df  # e.g. \"all\"\n",
    "\n",
    "    total_samples = total_map[training_size]\n",
    "    n_years       = len(years)\n",
    "    base          = total_samples // n_years\n",
    "    remainder     = total_samples % n_years\n",
    "\n",
    "    # --- build a dict: year -> how many to sample ---\n",
    "    # give +1 to the first `remainder` years in ascending order\n",
    "    quotas = {\n",
    "        year: base + (1 if idx < remainder else 0)\n",
    "        for idx, year in enumerate(sorted(years))\n",
    "    }\n",
    "\n",
    "    # --- sample per‐year according to the quota dict ---\n",
    "    sampled = (\n",
    "        df\n",
    "        .groupby(\"year\", group_keys=False)\n",
    "        .apply(lambda grp: grp.sample(\n",
    "            n=min(len(grp), quotas[grp.name]),\n",
    "            random_state=random_state))\n",
    "        .reset_index(drop=True)\n",
    "    )\n",
    "\n",
    "    return sampled"
   ]
  },
  {
   "cell_type": "code",
   "execution_count": 15,
   "id": "c0ccd338-0e02-41f3-a09d-f56f9266e3fb",
   "metadata": {
    "execution": {
     "iopub.execute_input": "2025-07-30T21:32:21.122168Z",
     "iopub.status.busy": "2025-07-30T21:32:21.121266Z",
     "iopub.status.idle": "2025-07-30T21:32:21.126892Z",
     "shell.execute_reply": "2025-07-30T21:32:21.125935Z"
    },
    "papermill": {
     "duration": 0.031695,
     "end_time": "2025-07-30T21:32:21.128754",
     "exception": false,
     "start_time": "2025-07-30T21:32:21.097059",
     "status": "completed"
    },
    "tags": []
   },
   "outputs": [],
   "source": [
    "#universe[\"training_size\"]"
   ]
  },
  {
   "cell_type": "code",
   "execution_count": 16,
   "id": "ca707fd7-8047-4acd-bfa5-66248fbbf8e6",
   "metadata": {
    "execution": {
     "iopub.execute_input": "2025-07-30T21:32:21.177040Z",
     "iopub.status.busy": "2025-07-30T21:32:21.176327Z",
     "iopub.status.idle": "2025-07-30T21:32:21.182844Z",
     "shell.execute_reply": "2025-07-30T21:32:21.181864Z"
    },
    "papermill": {
     "duration": 0.033069,
     "end_time": "2025-07-30T21:32:21.184570",
     "exception": false,
     "start_time": "2025-07-30T21:32:21.151501",
     "status": "completed"
    },
    "tags": []
   },
   "outputs": [],
   "source": [
    "#universe[\"training_year\"]"
   ]
  },
  {
   "cell_type": "code",
   "execution_count": 17,
   "id": "aea9c6ef-6f46-42c8-85eb-5a62025c1508",
   "metadata": {
    "execution": {
     "iopub.execute_input": "2025-07-30T21:32:21.231830Z",
     "iopub.status.busy": "2025-07-30T21:32:21.231029Z",
     "iopub.status.idle": "2025-07-30T21:32:21.479591Z",
     "shell.execute_reply": "2025-07-30T21:32:21.478773Z"
    },
    "papermill": {
     "duration": 0.27424,
     "end_time": "2025-07-30T21:32:21.481397",
     "exception": false,
     "start_time": "2025-07-30T21:32:21.207157",
     "status": "completed"
    },
    "tags": []
   },
   "outputs": [],
   "source": [
    "siab_train = sample_by_year_size(siab,\n",
    "                               training_year=universe[\"training_year\"],\n",
    "                               training_size=universe[\"training_size\"])"
   ]
  },
  {
   "cell_type": "code",
   "execution_count": 18,
   "id": "8d3afb32-789d-442c-8d5d-9f5aa8dd2eed",
   "metadata": {
    "execution": {
     "iopub.execute_input": "2025-07-30T21:32:21.528000Z",
     "iopub.status.busy": "2025-07-30T21:32:21.527452Z",
     "iopub.status.idle": "2025-07-30T21:32:21.532487Z",
     "shell.execute_reply": "2025-07-30T21:32:21.531514Z"
    },
    "papermill": {
     "duration": 0.030629,
     "end_time": "2025-07-30T21:32:21.534086",
     "exception": false,
     "start_time": "2025-07-30T21:32:21.503457",
     "status": "completed"
    },
    "tags": []
   },
   "outputs": [],
   "source": [
    "#siab_train.shape"
   ]
  },
  {
   "cell_type": "code",
   "execution_count": 19,
   "id": "d582db68-1a4c-47fb-84fc-08518dc1975a",
   "metadata": {
    "execution": {
     "iopub.execute_input": "2025-07-30T21:32:21.560455Z",
     "iopub.status.busy": "2025-07-30T21:32:21.560085Z",
     "iopub.status.idle": "2025-07-30T21:32:21.564528Z",
     "shell.execute_reply": "2025-07-30T21:32:21.563559Z"
    },
    "papermill": {
     "duration": 0.018327,
     "end_time": "2025-07-30T21:32:21.566131",
     "exception": false,
     "start_time": "2025-07-30T21:32:21.547804",
     "status": "completed"
    },
    "tags": []
   },
   "outputs": [],
   "source": [
    "#display(siab_train.groupby(\"year\").size())"
   ]
  },
  {
   "cell_type": "code",
   "execution_count": 20,
   "id": "a561edb4-d032-42cb-8256-22eac1111c64",
   "metadata": {
    "execution": {
     "iopub.execute_input": "2025-07-30T21:32:21.612253Z",
     "iopub.status.busy": "2025-07-30T21:32:21.611751Z",
     "iopub.status.idle": "2025-07-30T21:32:21.848866Z",
     "shell.execute_reply": "2025-07-30T21:32:21.848125Z"
    },
    "papermill": {
     "duration": 0.261328,
     "end_time": "2025-07-30T21:32:21.850255",
     "exception": false,
     "start_time": "2025-07-30T21:32:21.588927",
     "status": "completed"
    },
    "tags": []
   },
   "outputs": [],
   "source": [
    "#siab_train = siab_s[siab_s.year < 2015]\n",
    "siab_calib = siab[siab.year == 2015]\n",
    "siab_test = siab[siab.year == 2016]"
   ]
  },
  {
   "cell_type": "code",
   "execution_count": 21,
   "id": "472de16f-c3db-4916-846b-1f0de9cf1746",
   "metadata": {
    "execution": {
     "iopub.execute_input": "2025-07-30T21:32:21.874159Z",
     "iopub.status.busy": "2025-07-30T21:32:21.873530Z",
     "iopub.status.idle": "2025-07-30T21:32:21.879249Z",
     "shell.execute_reply": "2025-07-30T21:32:21.878584Z"
    },
    "papermill": {
     "duration": 0.018443,
     "end_time": "2025-07-30T21:32:21.880634",
     "exception": false,
     "start_time": "2025-07-30T21:32:21.862191",
     "status": "completed"
    },
    "tags": []
   },
   "outputs": [],
   "source": [
    "X_train = siab_train.iloc[:,4:164]\n",
    "y_train = siab_train.iloc[:, [3]]"
   ]
  },
  {
   "cell_type": "code",
   "execution_count": 22,
   "id": "828c96af-f43a-4ed6-ba47-8ac73a47d56c",
   "metadata": {
    "execution": {
     "iopub.execute_input": "2025-07-30T21:32:21.909283Z",
     "iopub.status.busy": "2025-07-30T21:32:21.908741Z",
     "iopub.status.idle": "2025-07-30T21:32:21.957353Z",
     "shell.execute_reply": "2025-07-30T21:32:21.956608Z"
    },
    "papermill": {
     "duration": 0.062053,
     "end_time": "2025-07-30T21:32:21.958726",
     "exception": false,
     "start_time": "2025-07-30T21:32:21.896673",
     "status": "completed"
    },
    "tags": []
   },
   "outputs": [],
   "source": [
    "X_calib = siab_calib.iloc[:,4:164]\n",
    "y_calib = siab_calib.iloc[:, [3]]"
   ]
  },
  {
   "cell_type": "code",
   "execution_count": 23,
   "id": "c34be9c3-6bd6-476e-acd3-845840e303be",
   "metadata": {
    "execution": {
     "iopub.execute_input": "2025-07-30T21:32:21.983231Z",
     "iopub.status.busy": "2025-07-30T21:32:21.982541Z",
     "iopub.status.idle": "2025-07-30T21:32:22.037731Z",
     "shell.execute_reply": "2025-07-30T21:32:22.036609Z"
    },
    "papermill": {
     "duration": 0.068488,
     "end_time": "2025-07-30T21:32:22.039406",
     "exception": false,
     "start_time": "2025-07-30T21:32:21.970918",
     "status": "completed"
    },
    "tags": []
   },
   "outputs": [],
   "source": [
    "X_test = siab_test.iloc[:,4:164]\n",
    "y_true = siab_test.iloc[:, [3]]"
   ]
  },
  {
   "cell_type": "markdown",
   "id": "9901737e-04df-44f0-9100-f5ad144ed040",
   "metadata": {
    "papermill": {
     "duration": 0.03355,
     "end_time": "2025-07-30T21:32:22.095557",
     "exception": false,
     "start_time": "2025-07-30T21:32:22.062007",
     "status": "completed"
    },
    "tags": []
   },
   "source": [
    "# Splitting Data and Setting Training Data Size OLD VERSION"
   ]
  },
  {
   "cell_type": "code",
   "execution_count": 24,
   "id": "acbc8f7d-8fc8-4e86-8c59-5dcb0f58384b",
   "metadata": {
    "execution": {
     "iopub.execute_input": "2025-07-30T21:32:22.119268Z",
     "iopub.status.busy": "2025-07-30T21:32:22.118920Z",
     "iopub.status.idle": "2025-07-30T21:32:22.123621Z",
     "shell.execute_reply": "2025-07-30T21:32:22.122956Z"
    },
    "papermill": {
     "duration": 0.017907,
     "end_time": "2025-07-30T21:32:22.125024",
     "exception": false,
     "start_time": "2025-07-30T21:32:22.107117",
     "status": "completed"
    },
    "tags": []
   },
   "outputs": [],
   "source": [
    "#def sample_by_year(df, training_size, random_state=42):\n",
    "#    if training_size == \"2014\":\n",
    "#        return df[df[\"year\"] == 2014].reset_index(drop=True)\n",
    "#    \n",
    "#    size_map = {\n",
    "#        \"25k\": 5000,\n",
    "#        \"5k\": 1000,\n",
    "#        \"1k\": 200\n",
    "#    }\n",
    "#\n",
    "#    if training_size not in size_map:\n",
    "#        return df.reset_index(drop=True)  # use all data\n",
    "#\n",
    "#    n_per_year = size_map[training_size]\n",
    "#    grouped = df.groupby(\"year\")\n",
    "#    sampled = grouped.apply(lambda x: x.sample(n=min(n_per_year, len(x)), random_state=random_state))\n",
    "#    return sampled.reset_index(drop=True)"
   ]
  },
  {
   "cell_type": "code",
   "execution_count": 25,
   "id": "6d931f52-beaf-43ff-9e78-9d44a448d54e",
   "metadata": {
    "execution": {
     "iopub.execute_input": "2025-07-30T21:32:22.151993Z",
     "iopub.status.busy": "2025-07-30T21:32:22.151674Z",
     "iopub.status.idle": "2025-07-30T21:32:22.155638Z",
     "shell.execute_reply": "2025-07-30T21:32:22.154956Z"
    },
    "papermill": {
     "duration": 0.017439,
     "end_time": "2025-07-30T21:32:22.157141",
     "exception": false,
     "start_time": "2025-07-30T21:32:22.139702",
     "status": "completed"
    },
    "tags": []
   },
   "outputs": [],
   "source": [
    "#siab_s = sample_by_year(siab, universe[\"training_size\"])"
   ]
  },
  {
   "cell_type": "code",
   "execution_count": 26,
   "id": "5db0a40e-a4e2-4920-be85-b12ae061d70d",
   "metadata": {
    "execution": {
     "iopub.execute_input": "2025-07-30T21:32:22.181172Z",
     "iopub.status.busy": "2025-07-30T21:32:22.180875Z",
     "iopub.status.idle": "2025-07-30T21:32:22.184671Z",
     "shell.execute_reply": "2025-07-30T21:32:22.183862Z"
    },
    "papermill": {
     "duration": 0.016695,
     "end_time": "2025-07-30T21:32:22.185965",
     "exception": false,
     "start_time": "2025-07-30T21:32:22.169270",
     "status": "completed"
    },
    "tags": []
   },
   "outputs": [],
   "source": [
    "#display(siab_s.groupby(\"year\").size())"
   ]
  },
  {
   "cell_type": "code",
   "execution_count": 27,
   "id": "e6c733c5",
   "metadata": {
    "execution": {
     "iopub.execute_input": "2025-07-30T21:32:22.230333Z",
     "iopub.status.busy": "2025-07-30T21:32:22.229505Z",
     "iopub.status.idle": "2025-07-30T21:32:22.325541Z",
     "shell.execute_reply": "2025-07-30T21:32:22.324636Z"
    },
    "papermill": {
     "duration": 0.118863,
     "end_time": "2025-07-30T21:32:22.327408",
     "exception": false,
     "start_time": "2025-07-30T21:32:22.208545",
     "status": "completed"
    },
    "tags": []
   },
   "outputs": [],
   "source": [
    "# Auxiliary data needed downstream in the pipeline\n",
    "\n",
    "org_train = X_train.copy()\n",
    "org_test = X_test.copy()\n",
    "org_calib = X_calib.copy()"
   ]
  },
  {
   "cell_type": "code",
   "execution_count": 28,
   "id": "1466abac-c6da-4492-a62f-4240ae3783af",
   "metadata": {
    "execution": {
     "iopub.execute_input": "2025-07-30T21:32:22.370496Z",
     "iopub.status.busy": "2025-07-30T21:32:22.369641Z",
     "iopub.status.idle": "2025-07-30T21:32:22.375490Z",
     "shell.execute_reply": "2025-07-30T21:32:22.374541Z"
    },
    "papermill": {
     "duration": 0.02899,
     "end_time": "2025-07-30T21:32:22.377216",
     "exception": false,
     "start_time": "2025-07-30T21:32:22.348226",
     "status": "completed"
    },
    "tags": []
   },
   "outputs": [],
   "source": [
    "# put in other script?\n",
    "# Group sizes\n",
    "\n",
    "#def calculate_percentages(df, df_name):\n",
    "#    total_entries = len(df)\n",
    "#\n",
    "#    female_pct = (df['frau1'] == 1).mean() * 100\n",
    "#    non_german_pct = ((df['maxdeutsch1'] == 0) & (df['maxdeutsch.Missing.'] == 0)).mean() * 100\n",
    "#    non_german_male_pct = ((df['frau1'] == 0) & (df['maxdeutsch1'] == 0) & (df['maxdeutsch.Missing.'] == 0)).mean() * 100\n",
    "#    non_german_female_pct = ((df['frau1'] == 1) & (df['maxdeutsch1'] == 0) & (df['maxdeutsch.Missing.'] == 0)).mean() * 100\n",
    "#\n",
    "#    print(f\"--- {df_name} ---\")\n",
    "#    print(f\"Female: {female_pct:.2f}%\")\n",
    "#    print(f\"Non-German: {non_german_pct:.2f}%\")\n",
    "#    print(f\"Non-German Male: {non_german_male_pct:.2f}%\")\n",
    "#    print(f\"Non-German Female: {non_german_female_pct:.2f}%\\n\")\n",
    "#\n",
    "## Calculate for each DataFrame\n",
    "#calculate_percentages(siab_calib, \"siab_calib\")\n",
    "#calculate_percentages(siab_test, \"siab_test\")\n",
    "#calculate_percentages(siab_train, \"siab_train\")"
   ]
  },
  {
   "cell_type": "markdown",
   "id": "0a4a1b33",
   "metadata": {
    "papermill": {
     "duration": 0.020839,
     "end_time": "2025-07-30T21:32:22.420791",
     "exception": false,
     "start_time": "2025-07-30T21:32:22.399952",
     "status": "completed"
    },
    "tags": []
   },
   "source": [
    "# Preprocessing Data"
   ]
  },
  {
   "cell_type": "code",
   "execution_count": 29,
   "id": "ca879031",
   "metadata": {
    "execution": {
     "iopub.execute_input": "2025-07-30T21:32:22.465907Z",
     "iopub.status.busy": "2025-07-30T21:32:22.465261Z",
     "iopub.status.idle": "2025-07-30T21:32:22.471155Z",
     "shell.execute_reply": "2025-07-30T21:32:22.470260Z"
    },
    "papermill": {
     "duration": 0.030719,
     "end_time": "2025-07-30T21:32:22.472828",
     "exception": false,
     "start_time": "2025-07-30T21:32:22.442109",
     "status": "completed"
    },
    "tags": []
   },
   "outputs": [],
   "source": [
    "# EXCLUDE PROTECTED FEATURES\n",
    "# ----------------------\n",
    "# \"exclude_features\": \"none\", # \"nationality\", \"sex\", \"nationality-sex\"\n",
    "\n",
    "excluded_features = universe[\"exclude_features\"].split(\"-\") # split, e.g.: \"nationality-sex\" -> [\"nationality\", \"sex\"]\n",
    "excluded_features_dictionary = {\n",
    "    \"nationality\": [\"maxdeutsch1\", \"maxdeutsch.Missing.\"],\n",
    "    \"sex\": [\"frau1\"],\n",
    "    \"age\": [\"age\"],\n",
    "}\n"
   ]
  },
  {
   "cell_type": "code",
   "execution_count": 30,
   "id": "b745ac60",
   "metadata": {
    "execution": {
     "iopub.execute_input": "2025-07-30T21:32:22.517900Z",
     "iopub.status.busy": "2025-07-30T21:32:22.517286Z",
     "iopub.status.idle": "2025-07-30T21:32:22.522733Z",
     "shell.execute_reply": "2025-07-30T21:32:22.521737Z"
    },
    "papermill": {
     "duration": 0.030188,
     "end_time": "2025-07-30T21:32:22.524490",
     "exception": false,
     "start_time": "2025-07-30T21:32:22.494302",
     "status": "completed"
    },
    "tags": []
   },
   "outputs": [],
   "source": [
    "# Code nice names to column names\n",
    "\n",
    "excluded_features_columns = [\n",
    "    excluded_features_dictionary[f] for f in excluded_features if len(f) > 0 and f != \"none\"\n",
    "]"
   ]
  },
  {
   "cell_type": "code",
   "execution_count": 31,
   "id": "f84f73a2",
   "metadata": {
    "execution": {
     "iopub.execute_input": "2025-07-30T21:32:22.569688Z",
     "iopub.status.busy": "2025-07-30T21:32:22.569070Z",
     "iopub.status.idle": "2025-07-30T21:32:22.575464Z",
     "shell.execute_reply": "2025-07-30T21:32:22.574552Z"
    },
    "papermill": {
     "duration": 0.03048,
     "end_time": "2025-07-30T21:32:22.577103",
     "exception": false,
     "start_time": "2025-07-30T21:32:22.546623",
     "status": "completed"
    },
    "tags": []
   },
   "outputs": [],
   "source": [
    "from utils import flatten_once\n",
    "\n",
    "excluded_features_columns = flatten_once(excluded_features_columns)"
   ]
  },
  {
   "cell_type": "code",
   "execution_count": 32,
   "id": "884dea22",
   "metadata": {
    "execution": {
     "iopub.execute_input": "2025-07-30T21:32:22.623048Z",
     "iopub.status.busy": "2025-07-30T21:32:22.622244Z",
     "iopub.status.idle": "2025-07-30T21:32:22.630131Z",
     "shell.execute_reply": "2025-07-30T21:32:22.629166Z"
    },
    "papermill": {
     "duration": 0.031974,
     "end_time": "2025-07-30T21:32:22.631928",
     "exception": false,
     "start_time": "2025-07-30T21:32:22.599954",
     "status": "completed"
    },
    "tags": []
   },
   "outputs": [
    {
     "name": "stdout",
     "output_type": "stream",
     "text": [
      "Dropping features: ['maxdeutsch1', 'maxdeutsch.Missing.', 'frau1']\n"
     ]
    }
   ],
   "source": [
    "if len(excluded_features_columns) > 0:\n",
    "    print(f\"Dropping features: {excluded_features_columns}\")\n",
    "    X_train.drop(excluded_features_columns, axis=1, inplace=True)"
   ]
  },
  {
   "cell_type": "code",
   "execution_count": 33,
   "id": "95ab8b16",
   "metadata": {
    "execution": {
     "iopub.execute_input": "2025-07-30T21:32:22.678806Z",
     "iopub.status.busy": "2025-07-30T21:32:22.678006Z",
     "iopub.status.idle": "2025-07-30T21:32:22.727405Z",
     "shell.execute_reply": "2025-07-30T21:32:22.726459Z"
    },
    "papermill": {
     "duration": 0.073907,
     "end_time": "2025-07-30T21:32:22.729148",
     "exception": false,
     "start_time": "2025-07-30T21:32:22.655241",
     "status": "completed"
    },
    "tags": []
   },
   "outputs": [
    {
     "name": "stdout",
     "output_type": "stream",
     "text": [
      "Dropping features: ['maxdeutsch1', 'maxdeutsch.Missing.', 'frau1']\n"
     ]
    }
   ],
   "source": [
    "if len(excluded_features_columns) > 0:\n",
    "    print(f\"Dropping features: {excluded_features_columns}\")\n",
    "    X_test.drop(excluded_features_columns, axis=1, inplace=True)"
   ]
  },
  {
   "cell_type": "code",
   "execution_count": 34,
   "id": "1853aaf5-fb9f-46cb-a2b5-8ea4ae2237e4",
   "metadata": {
    "execution": {
     "iopub.execute_input": "2025-07-30T21:32:22.776495Z",
     "iopub.status.busy": "2025-07-30T21:32:22.775828Z",
     "iopub.status.idle": "2025-07-30T21:32:22.824149Z",
     "shell.execute_reply": "2025-07-30T21:32:22.823138Z"
    },
    "papermill": {
     "duration": 0.074816,
     "end_time": "2025-07-30T21:32:22.826935",
     "exception": false,
     "start_time": "2025-07-30T21:32:22.752119",
     "status": "completed"
    },
    "tags": []
   },
   "outputs": [
    {
     "name": "stdout",
     "output_type": "stream",
     "text": [
      "Dropping features: ['maxdeutsch1', 'maxdeutsch.Missing.', 'frau1']\n"
     ]
    }
   ],
   "source": [
    "if len(excluded_features_columns) > 0:\n",
    "    print(f\"Dropping features: {excluded_features_columns}\")\n",
    "    X_calib.drop(excluded_features_columns, axis=1, inplace=True)"
   ]
  },
  {
   "cell_type": "code",
   "execution_count": 35,
   "id": "6727d079-03e5-481e-9d38-292a90b7a0a8",
   "metadata": {
    "execution": {
     "iopub.execute_input": "2025-07-30T21:32:22.874189Z",
     "iopub.status.busy": "2025-07-30T21:32:22.873554Z",
     "iopub.status.idle": "2025-07-30T21:32:22.878337Z",
     "shell.execute_reply": "2025-07-30T21:32:22.877338Z"
    },
    "papermill": {
     "duration": 0.02976,
     "end_time": "2025-07-30T21:32:22.879988",
     "exception": false,
     "start_time": "2025-07-30T21:32:22.850228",
     "status": "completed"
    },
    "tags": []
   },
   "outputs": [],
   "source": [
    "# SPLIT & STRATIFY DATA\n",
    "# ----------------------"
   ]
  },
  {
   "cell_type": "code",
   "execution_count": 36,
   "id": "76c4dc6d",
   "metadata": {
    "execution": {
     "iopub.execute_input": "2025-07-30T21:32:22.926577Z",
     "iopub.status.busy": "2025-07-30T21:32:22.925963Z",
     "iopub.status.idle": "2025-07-30T21:32:22.931269Z",
     "shell.execute_reply": "2025-07-30T21:32:22.930343Z"
    },
    "papermill": {
     "duration": 0.029706,
     "end_time": "2025-07-30T21:32:22.932913",
     "exception": false,
     "start_time": "2025-07-30T21:32:22.903207",
     "status": "completed"
    },
    "tags": []
   },
   "outputs": [],
   "source": [
    "# EXCLUDE CERTAIN SUBGROUPS\n",
    "# ----------------------\n",
    "\n",
    "mode = universe.get(\"exclude_subgroups\", \"keep-all\") \n",
    "# Fetches the exclude_subgroups setting from the universe dict.\n",
    "# Defaults to \"keep-all\" if the key is missing."
   ]
  },
  {
   "cell_type": "code",
   "execution_count": 37,
   "id": "21994072",
   "metadata": {
    "execution": {
     "iopub.execute_input": "2025-07-30T21:32:22.977253Z",
     "iopub.status.busy": "2025-07-30T21:32:22.976516Z",
     "iopub.status.idle": "2025-07-30T21:32:22.983242Z",
     "shell.execute_reply": "2025-07-30T21:32:22.982275Z"
    },
    "papermill": {
     "duration": 0.030148,
     "end_time": "2025-07-30T21:32:22.984732",
     "exception": false,
     "start_time": "2025-07-30T21:32:22.954584",
     "status": "completed"
    },
    "tags": []
   },
   "outputs": [],
   "source": [
    "if mode == \"keep-all\":\n",
    "    keep_mask = pd.Series(True, index=org_train.index)\n",
    "\n",
    "# org_train contains the original feature columns from features_org (in Simson)\n",
    "# features_org contains unprocessed features, for me X_train at beginning ???\n",
    "# For keep-all, creates a boolean Series (keep_mask) of all True, so no rows are removed.\n",
    "\n",
    "elif mode == \"drop-non-german\":\n",
    "    keep_mask = org_train[\"maxdeutsch1\"] == 1 # ??? what about missing values?\n",
    "\n",
    "else:\n",
    "    raise ValueError(f\"Unsupported mode for exclude_subgroups: {mode}\")\n"
   ]
  },
  {
   "cell_type": "code",
   "execution_count": 38,
   "id": "71651440",
   "metadata": {
    "execution": {
     "iopub.execute_input": "2025-07-30T21:32:23.029317Z",
     "iopub.status.busy": "2025-07-30T21:32:23.028764Z",
     "iopub.status.idle": "2025-07-30T21:32:23.036008Z",
     "shell.execute_reply": "2025-07-30T21:32:23.035062Z"
    },
    "papermill": {
     "duration": 0.031099,
     "end_time": "2025-07-30T21:32:23.037602",
     "exception": false,
     "start_time": "2025-07-30T21:32:23.006503",
     "status": "completed"
    },
    "tags": []
   },
   "outputs": [],
   "source": [
    "n_drop = (~keep_mask).sum() # Calculates how many rows are set to be dropped\n",
    "if n_drop > 0:\n",
    "    pct = n_drop / len(keep_mask) * 100\n",
    "    print(f\"Dropping {n_drop} rows ({pct:.2f}%) where mode='{mode}'\")"
   ]
  },
  {
   "cell_type": "code",
   "execution_count": 39,
   "id": "5fb8eee5",
   "metadata": {
    "execution": {
     "iopub.execute_input": "2025-07-30T21:32:23.082587Z",
     "iopub.status.busy": "2025-07-30T21:32:23.081689Z",
     "iopub.status.idle": "2025-07-30T21:32:23.087832Z",
     "shell.execute_reply": "2025-07-30T21:32:23.086983Z"
    },
    "papermill": {
     "duration": 0.029819,
     "end_time": "2025-07-30T21:32:23.089360",
     "exception": false,
     "start_time": "2025-07-30T21:32:23.059541",
     "status": "completed"
    },
    "tags": []
   },
   "outputs": [],
   "source": [
    "X_train = X_train[keep_mask]"
   ]
  },
  {
   "cell_type": "code",
   "execution_count": 40,
   "id": "b202bb3a",
   "metadata": {
    "execution": {
     "iopub.execute_input": "2025-07-30T21:32:23.134372Z",
     "iopub.status.busy": "2025-07-30T21:32:23.133506Z",
     "iopub.status.idle": "2025-07-30T21:32:23.139128Z",
     "shell.execute_reply": "2025-07-30T21:32:23.138255Z"
    },
    "papermill": {
     "duration": 0.029639,
     "end_time": "2025-07-30T21:32:23.140803",
     "exception": false,
     "start_time": "2025-07-30T21:32:23.111164",
     "status": "completed"
    },
    "tags": []
   },
   "outputs": [],
   "source": [
    "y_train = y_train[keep_mask]"
   ]
  },
  {
   "cell_type": "markdown",
   "id": "493e2ac3",
   "metadata": {
    "papermill": {
     "duration": 0.021281,
     "end_time": "2025-07-30T21:32:23.185091",
     "exception": false,
     "start_time": "2025-07-30T21:32:23.163810",
     "status": "completed"
    },
    "tags": []
   },
   "source": [
    "# Model Training"
   ]
  },
  {
   "cell_type": "code",
   "execution_count": 41,
   "id": "679e1268",
   "metadata": {
    "execution": {
     "iopub.execute_input": "2025-07-30T21:32:23.229126Z",
     "iopub.status.busy": "2025-07-30T21:32:23.228335Z",
     "iopub.status.idle": "2025-07-30T21:32:23.329819Z",
     "shell.execute_reply": "2025-07-30T21:32:23.328978Z"
    },
    "papermill": {
     "duration": 0.125621,
     "end_time": "2025-07-30T21:32:23.331771",
     "exception": false,
     "start_time": "2025-07-30T21:32:23.206150",
     "status": "completed"
    },
    "tags": []
   },
   "outputs": [],
   "source": [
    "from sklearn.linear_model import LogisticRegression\n",
    "from sklearn.ensemble import GradientBoostingClassifier, RandomForestClassifier\n",
    "\n",
    "if (universe[\"model\"] == \"logreg\"):\n",
    "    model = LogisticRegression() #penalty=\"none\") #, solver=\"newton-cg\", max_iter=1) # include random_state=19 ?\n",
    "elif (universe[\"model\"] == \"penalized_logreg\"):\n",
    "    model = LogisticRegression(penalty=\"l2\", C=1.0) #, solver=\"newton-cg\", max_iter=1)\n",
    "elif (universe[\"model\"] == \"rf\"):\n",
    "    model = RandomForestClassifier(n_estimators=100, n_jobs=-1)\n",
    "elif (universe[\"model\"] == \"gbm\"):\n",
    "    model = GradientBoostingClassifier()\n",
    "elif (universe[\"model\"] == \"elasticnet\"):\n",
    "    model = LogisticRegression(penalty = 'elasticnet', solver = 'saga', l1_ratio = 0.5, max_iter=5000) # which solver to use?\n",
    "else:\n",
    "    raise \"Unsupported universe.model\""
   ]
  },
  {
   "cell_type": "code",
   "execution_count": 42,
   "id": "0cc8f744",
   "metadata": {
    "execution": {
     "iopub.execute_input": "2025-07-30T21:32:23.379821Z",
     "iopub.status.busy": "2025-07-30T21:32:23.379204Z",
     "iopub.status.idle": "2025-07-30T21:32:23.385083Z",
     "shell.execute_reply": "2025-07-30T21:32:23.384265Z"
    },
    "papermill": {
     "duration": 0.032039,
     "end_time": "2025-07-30T21:32:23.386858",
     "exception": false,
     "start_time": "2025-07-30T21:32:23.354819",
     "status": "completed"
    },
    "tags": []
   },
   "outputs": [],
   "source": [
    "import numpy as np\n",
    "from sklearn.pipeline import Pipeline\n",
    "from sklearn.preprocessing import StandardScaler\n",
    "\n",
    "model = Pipeline([\n",
    "    #(\"continuous_processor\", continuous_processor),\n",
    "    #(\"categorical_preprocessor\", categorical_preprocessor),\n",
    "    (\"scale\", StandardScaler() if universe[\"scale\"] == \"scale\" else None), \n",
    "    (\"model\", model),\n",
    "])"
   ]
  },
  {
   "cell_type": "code",
   "execution_count": 43,
   "id": "9442c04d",
   "metadata": {
    "execution": {
     "iopub.execute_input": "2025-07-30T21:32:23.434262Z",
     "iopub.status.busy": "2025-07-30T21:32:23.433827Z",
     "iopub.status.idle": "2025-07-30T21:32:42.071832Z",
     "shell.execute_reply": "2025-07-30T21:32:42.070985Z"
    },
    "papermill": {
     "duration": 18.663443,
     "end_time": "2025-07-30T21:32:42.073424",
     "exception": false,
     "start_time": "2025-07-30T21:32:23.409981",
     "status": "completed"
    },
    "tags": []
   },
   "outputs": [
    {
     "name": "stderr",
     "output_type": "stream",
     "text": [
      "/dss/dsshome1/0C/ra93lal2/.local/share/virtualenvs/CMA_Fairness_v2-3j10GkSs/lib/python3.10/site-packages/sklearn/linear_model/_sag.py:350: ConvergenceWarning: The max_iter was reached which means the coef_ did not converge\n",
      "  warnings.warn(\n"
     ]
    },
    {
     "data": {
      "text/html": [
       "<style>#sk-container-id-1 {color: black;background-color: white;}#sk-container-id-1 pre{padding: 0;}#sk-container-id-1 div.sk-toggleable {background-color: white;}#sk-container-id-1 label.sk-toggleable__label {cursor: pointer;display: block;width: 100%;margin-bottom: 0;padding: 0.3em;box-sizing: border-box;text-align: center;}#sk-container-id-1 label.sk-toggleable__label-arrow:before {content: \"▸\";float: left;margin-right: 0.25em;color: #696969;}#sk-container-id-1 label.sk-toggleable__label-arrow:hover:before {color: black;}#sk-container-id-1 div.sk-estimator:hover label.sk-toggleable__label-arrow:before {color: black;}#sk-container-id-1 div.sk-toggleable__content {max-height: 0;max-width: 0;overflow: hidden;text-align: left;background-color: #f0f8ff;}#sk-container-id-1 div.sk-toggleable__content pre {margin: 0.2em;color: black;border-radius: 0.25em;background-color: #f0f8ff;}#sk-container-id-1 input.sk-toggleable__control:checked~div.sk-toggleable__content {max-height: 200px;max-width: 100%;overflow: auto;}#sk-container-id-1 input.sk-toggleable__control:checked~label.sk-toggleable__label-arrow:before {content: \"▾\";}#sk-container-id-1 div.sk-estimator input.sk-toggleable__control:checked~label.sk-toggleable__label {background-color: #d4ebff;}#sk-container-id-1 div.sk-label input.sk-toggleable__control:checked~label.sk-toggleable__label {background-color: #d4ebff;}#sk-container-id-1 input.sk-hidden--visually {border: 0;clip: rect(1px 1px 1px 1px);clip: rect(1px, 1px, 1px, 1px);height: 1px;margin: -1px;overflow: hidden;padding: 0;position: absolute;width: 1px;}#sk-container-id-1 div.sk-estimator {font-family: monospace;background-color: #f0f8ff;border: 1px dotted black;border-radius: 0.25em;box-sizing: border-box;margin-bottom: 0.5em;}#sk-container-id-1 div.sk-estimator:hover {background-color: #d4ebff;}#sk-container-id-1 div.sk-parallel-item::after {content: \"\";width: 100%;border-bottom: 1px solid gray;flex-grow: 1;}#sk-container-id-1 div.sk-label:hover label.sk-toggleable__label {background-color: #d4ebff;}#sk-container-id-1 div.sk-serial::before {content: \"\";position: absolute;border-left: 1px solid gray;box-sizing: border-box;top: 0;bottom: 0;left: 50%;z-index: 0;}#sk-container-id-1 div.sk-serial {display: flex;flex-direction: column;align-items: center;background-color: white;padding-right: 0.2em;padding-left: 0.2em;position: relative;}#sk-container-id-1 div.sk-item {position: relative;z-index: 1;}#sk-container-id-1 div.sk-parallel {display: flex;align-items: stretch;justify-content: center;background-color: white;position: relative;}#sk-container-id-1 div.sk-item::before, #sk-container-id-1 div.sk-parallel-item::before {content: \"\";position: absolute;border-left: 1px solid gray;box-sizing: border-box;top: 0;bottom: 0;left: 50%;z-index: -1;}#sk-container-id-1 div.sk-parallel-item {display: flex;flex-direction: column;z-index: 1;position: relative;background-color: white;}#sk-container-id-1 div.sk-parallel-item:first-child::after {align-self: flex-end;width: 50%;}#sk-container-id-1 div.sk-parallel-item:last-child::after {align-self: flex-start;width: 50%;}#sk-container-id-1 div.sk-parallel-item:only-child::after {width: 0;}#sk-container-id-1 div.sk-dashed-wrapped {border: 1px dashed gray;margin: 0 0.4em 0.5em 0.4em;box-sizing: border-box;padding-bottom: 0.4em;background-color: white;}#sk-container-id-1 div.sk-label label {font-family: monospace;font-weight: bold;display: inline-block;line-height: 1.2em;}#sk-container-id-1 div.sk-label-container {text-align: center;}#sk-container-id-1 div.sk-container {/* jupyter's `normalize.less` sets `[hidden] { display: none; }` but bootstrap.min.css set `[hidden] { display: none !important; }` so we also need the `!important` here to be able to override the default hidden behavior on the sphinx rendered scikit-learn.org. See: https://github.com/scikit-learn/scikit-learn/issues/21755 */display: inline-block !important;position: relative;}#sk-container-id-1 div.sk-text-repr-fallback {display: none;}</style><div id=\"sk-container-id-1\" class=\"sk-top-container\"><div class=\"sk-text-repr-fallback\"><pre>Pipeline(steps=[(&#x27;scale&#x27;, None),\n",
       "                (&#x27;model&#x27;,\n",
       "                 LogisticRegression(l1_ratio=0.5, max_iter=5000,\n",
       "                                    penalty=&#x27;elasticnet&#x27;, solver=&#x27;saga&#x27;))])</pre><b>In a Jupyter environment, please rerun this cell to show the HTML representation or trust the notebook. <br />On GitHub, the HTML representation is unable to render, please try loading this page with nbviewer.org.</b></div><div class=\"sk-container\" hidden><div class=\"sk-item sk-dashed-wrapped\"><div class=\"sk-label-container\"><div class=\"sk-label sk-toggleable\"><input class=\"sk-toggleable__control sk-hidden--visually\" id=\"sk-estimator-id-1\" type=\"checkbox\" ><label for=\"sk-estimator-id-1\" class=\"sk-toggleable__label sk-toggleable__label-arrow\">Pipeline</label><div class=\"sk-toggleable__content\"><pre>Pipeline(steps=[(&#x27;scale&#x27;, None),\n",
       "                (&#x27;model&#x27;,\n",
       "                 LogisticRegression(l1_ratio=0.5, max_iter=5000,\n",
       "                                    penalty=&#x27;elasticnet&#x27;, solver=&#x27;saga&#x27;))])</pre></div></div></div><div class=\"sk-serial\"><div class=\"sk-item\"><div class=\"sk-estimator sk-toggleable\"><input class=\"sk-toggleable__control sk-hidden--visually\" id=\"sk-estimator-id-2\" type=\"checkbox\" ><label for=\"sk-estimator-id-2\" class=\"sk-toggleable__label sk-toggleable__label-arrow\">None</label><div class=\"sk-toggleable__content\"><pre>None</pre></div></div></div><div class=\"sk-item\"><div class=\"sk-estimator sk-toggleable\"><input class=\"sk-toggleable__control sk-hidden--visually\" id=\"sk-estimator-id-3\" type=\"checkbox\" ><label for=\"sk-estimator-id-3\" class=\"sk-toggleable__label sk-toggleable__label-arrow\">LogisticRegression</label><div class=\"sk-toggleable__content\"><pre>LogisticRegression(l1_ratio=0.5, max_iter=5000, penalty=&#x27;elasticnet&#x27;,\n",
       "                   solver=&#x27;saga&#x27;)</pre></div></div></div></div></div></div></div>"
      ],
      "text/plain": [
       "Pipeline(steps=[('scale', None),\n",
       "                ('model',\n",
       "                 LogisticRegression(l1_ratio=0.5, max_iter=5000,\n",
       "                                    penalty='elasticnet', solver='saga'))])"
      ]
     },
     "execution_count": 43,
     "metadata": {},
     "output_type": "execute_result"
    }
   ],
   "source": [
    "model.fit(X_train, y_train.values.ravel())"
   ]
  },
  {
   "cell_type": "code",
   "execution_count": 44,
   "id": "af59f8c0",
   "metadata": {
    "execution": {
     "iopub.execute_input": "2025-07-30T21:32:42.122803Z",
     "iopub.status.busy": "2025-07-30T21:32:42.122054Z",
     "iopub.status.idle": "2025-07-30T21:32:42.127120Z",
     "shell.execute_reply": "2025-07-30T21:32:42.126133Z"
    },
    "papermill": {
     "duration": 0.029098,
     "end_time": "2025-07-30T21:32:42.128700",
     "exception": false,
     "start_time": "2025-07-30T21:32:42.099602",
     "status": "completed"
    },
    "tags": []
   },
   "outputs": [],
   "source": [
    "from fairness_multiverse.universe import predict_w_threshold"
   ]
  },
  {
   "cell_type": "code",
   "execution_count": 45,
   "id": "a7cf2e16",
   "metadata": {
    "execution": {
     "iopub.execute_input": "2025-07-30T21:32:42.174754Z",
     "iopub.status.busy": "2025-07-30T21:32:42.174092Z",
     "iopub.status.idle": "2025-07-30T21:32:42.276850Z",
     "shell.execute_reply": "2025-07-30T21:32:42.275961Z"
    },
    "papermill": {
     "duration": 0.126677,
     "end_time": "2025-07-30T21:32:42.278447",
     "exception": false,
     "start_time": "2025-07-30T21:32:42.151770",
     "status": "completed"
    },
    "tags": []
   },
   "outputs": [
    {
     "data": {
      "text/plain": [
       "0.8550551777951176"
      ]
     },
     "execution_count": 45,
     "metadata": {},
     "output_type": "execute_result"
    }
   ],
   "source": [
    "probs_test = model.predict_proba(X_test)\n",
    "\n",
    "'''\n",
    "Below code returns a boolean array (or binary 0/1 array depending on how it’s used) where each element \n",
    "is True if the probability of class 1 is greater than or equal to the threshold, and False otherwise.\n",
    "'''\n",
    "y_pred_default = predict_w_threshold(probs_test, 0.5)\n",
    "\n",
    "from sklearn.metrics import accuracy_score\n",
    "\n",
    "# Naive prediction\n",
    "accuracy_score(y_true = y_true, y_pred = y_pred_default)"
   ]
  },
  {
   "cell_type": "code",
   "execution_count": 46,
   "id": "081964c3",
   "metadata": {
    "execution": {
     "iopub.execute_input": "2025-07-30T21:32:42.325845Z",
     "iopub.status.busy": "2025-07-30T21:32:42.325218Z",
     "iopub.status.idle": "2025-07-30T21:32:42.407594Z",
     "shell.execute_reply": "2025-07-30T21:32:42.406666Z"
    },
    "papermill": {
     "duration": 0.107931,
     "end_time": "2025-07-30T21:32:42.409187",
     "exception": false,
     "start_time": "2025-07-30T21:32:42.301256",
     "status": "completed"
    },
    "tags": []
   },
   "outputs": [
    {
     "data": {
      "text/plain": [
       "array([0, 0, 0, ..., 0, 0, 0])"
      ]
     },
     "execution_count": 46,
     "metadata": {},
     "output_type": "execute_result"
    }
   ],
   "source": [
    "model.predict(X_test)"
   ]
  },
  {
   "cell_type": "markdown",
   "id": "56c9705b",
   "metadata": {
    "papermill": {
     "duration": 0.022365,
     "end_time": "2025-07-30T21:32:42.454349",
     "exception": false,
     "start_time": "2025-07-30T21:32:42.431984",
     "status": "completed"
    },
    "tags": []
   },
   "source": [
    "# Conformal Prediction"
   ]
  },
  {
   "cell_type": "code",
   "execution_count": 47,
   "id": "160ec6ff",
   "metadata": {
    "execution": {
     "iopub.execute_input": "2025-07-30T21:32:42.499876Z",
     "iopub.status.busy": "2025-07-30T21:32:42.499283Z",
     "iopub.status.idle": "2025-07-30T21:32:42.504203Z",
     "shell.execute_reply": "2025-07-30T21:32:42.503323Z"
    },
    "papermill": {
     "duration": 0.029349,
     "end_time": "2025-07-30T21:32:42.505918",
     "exception": false,
     "start_time": "2025-07-30T21:32:42.476569",
     "status": "completed"
    },
    "tags": []
   },
   "outputs": [],
   "source": [
    "# Miscoverage level for conformal prediction (10% allowed error rate => 90% target coverage)\n",
    "alpha = 0.1"
   ]
  },
  {
   "cell_type": "code",
   "execution_count": 48,
   "id": "eadf4555-3dd3-440e-8e35-f82a4ad9f855",
   "metadata": {
    "execution": {
     "iopub.execute_input": "2025-07-30T21:32:42.552204Z",
     "iopub.status.busy": "2025-07-30T21:32:42.551804Z",
     "iopub.status.idle": "2025-07-30T21:32:42.630257Z",
     "shell.execute_reply": "2025-07-30T21:32:42.629349Z"
    },
    "papermill": {
     "duration": 0.103352,
     "end_time": "2025-07-30T21:32:42.632114",
     "exception": false,
     "start_time": "2025-07-30T21:32:42.528762",
     "status": "completed"
    },
    "tags": []
   },
   "outputs": [],
   "source": [
    "probs_calib = model.predict_proba(X_calib)"
   ]
  },
  {
   "cell_type": "code",
   "execution_count": 49,
   "id": "2ed93547-6d5d-4983-9b36-1ecb300da49a",
   "metadata": {
    "execution": {
     "iopub.execute_input": "2025-07-30T21:32:42.680088Z",
     "iopub.status.busy": "2025-07-30T21:32:42.679415Z",
     "iopub.status.idle": "2025-07-30T21:32:42.685208Z",
     "shell.execute_reply": "2025-07-30T21:32:42.684297Z"
    },
    "papermill": {
     "duration": 0.03171,
     "end_time": "2025-07-30T21:32:42.686950",
     "exception": false,
     "start_time": "2025-07-30T21:32:42.655240",
     "status": "completed"
    },
    "tags": []
   },
   "outputs": [],
   "source": [
    "y_calib = y_calib.values.ravel().astype(int)"
   ]
  },
  {
   "cell_type": "code",
   "execution_count": 50,
   "id": "65d1320d-f588-4b38-9072-62af1ae97f7d",
   "metadata": {
    "execution": {
     "iopub.execute_input": "2025-07-30T21:32:42.733708Z",
     "iopub.status.busy": "2025-07-30T21:32:42.733031Z",
     "iopub.status.idle": "2025-07-30T21:32:42.740054Z",
     "shell.execute_reply": "2025-07-30T21:32:42.739211Z"
    },
    "papermill": {
     "duration": 0.031577,
     "end_time": "2025-07-30T21:32:42.741596",
     "exception": false,
     "start_time": "2025-07-30T21:32:42.710019",
     "status": "completed"
    },
    "tags": []
   },
   "outputs": [],
   "source": [
    "from fairness_multiverse.conformal import compute_nc_scores\n",
    "\n",
    "# Compute nonconformity scores on calibration set (1 - probability of true class)\n",
    "nc_scores = compute_nc_scores(probs_calib, y_calib)"
   ]
  },
  {
   "cell_type": "code",
   "execution_count": 51,
   "id": "df3b8ca3-53b7-43d5-9667-7c85da7aeda2",
   "metadata": {
    "execution": {
     "iopub.execute_input": "2025-07-30T21:32:42.789182Z",
     "iopub.status.busy": "2025-07-30T21:32:42.788491Z",
     "iopub.status.idle": "2025-07-30T21:32:42.794225Z",
     "shell.execute_reply": "2025-07-30T21:32:42.793365Z"
    },
    "papermill": {
     "duration": 0.03121,
     "end_time": "2025-07-30T21:32:42.795813",
     "exception": false,
     "start_time": "2025-07-30T21:32:42.764603",
     "status": "completed"
    },
    "tags": []
   },
   "outputs": [],
   "source": [
    "from fairness_multiverse.conformal import find_threshold\n",
    "\n",
    "# Find conformal threshold q_hat for the given alpha (split conformal method)\n",
    "q_hat = find_threshold(nc_scores, alpha)"
   ]
  },
  {
   "cell_type": "code",
   "execution_count": 52,
   "id": "4d29e6c1-0ef6-4aa4-b8fe-4fe79b0d033a",
   "metadata": {
    "execution": {
     "iopub.execute_input": "2025-07-30T21:32:42.843056Z",
     "iopub.status.busy": "2025-07-30T21:32:42.842465Z",
     "iopub.status.idle": "2025-07-30T21:32:42.849136Z",
     "shell.execute_reply": "2025-07-30T21:32:42.848243Z"
    },
    "papermill": {
     "duration": 0.031853,
     "end_time": "2025-07-30T21:32:42.850674",
     "exception": false,
     "start_time": "2025-07-30T21:32:42.818821",
     "status": "completed"
    },
    "tags": []
   },
   "outputs": [
    {
     "data": {
      "text/plain": [
       "0.6847324277715057"
      ]
     },
     "execution_count": 52,
     "metadata": {},
     "output_type": "execute_result"
    }
   ],
   "source": [
    "q_hat"
   ]
  },
  {
   "cell_type": "code",
   "execution_count": 53,
   "id": "92460794-cdac-4be2-ba28-f28c0515a6fb",
   "metadata": {
    "execution": {
     "iopub.execute_input": "2025-07-30T21:32:42.897815Z",
     "iopub.status.busy": "2025-07-30T21:32:42.897238Z",
     "iopub.status.idle": "2025-07-30T21:32:43.665052Z",
     "shell.execute_reply": "2025-07-30T21:32:43.664001Z"
    },
    "papermill": {
     "duration": 0.792461,
     "end_time": "2025-07-30T21:32:43.666885",
     "exception": false,
     "start_time": "2025-07-30T21:32:42.874424",
     "status": "completed"
    },
    "tags": []
   },
   "outputs": [],
   "source": [
    "from fairness_multiverse.conformal import predict_conformal_sets\n",
    "\n",
    "# Generate prediction sets for each test example\n",
    "pred_sets = predict_conformal_sets(model, X_test, q_hat)"
   ]
  },
  {
   "cell_type": "code",
   "execution_count": 54,
   "id": "d90c9a65-e6db-4f5d-80cd-e68fb7e46829",
   "metadata": {
    "execution": {
     "iopub.execute_input": "2025-07-30T21:32:43.715683Z",
     "iopub.status.busy": "2025-07-30T21:32:43.714869Z",
     "iopub.status.idle": "2025-07-30T21:32:43.720133Z",
     "shell.execute_reply": "2025-07-30T21:32:43.719285Z"
    },
    "papermill": {
     "duration": 0.030778,
     "end_time": "2025-07-30T21:32:43.721695",
     "exception": false,
     "start_time": "2025-07-30T21:32:43.690917",
     "status": "completed"
    },
    "tags": []
   },
   "outputs": [],
   "source": [
    "y_true = y_true.squeeze()"
   ]
  },
  {
   "cell_type": "code",
   "execution_count": 55,
   "id": "3a58a54a-1e68-46b9-927a-df01f18aebc8",
   "metadata": {
    "execution": {
     "iopub.execute_input": "2025-07-30T21:32:43.768846Z",
     "iopub.status.busy": "2025-07-30T21:32:43.768125Z",
     "iopub.status.idle": "2025-07-30T21:32:44.664253Z",
     "shell.execute_reply": "2025-07-30T21:32:44.663161Z"
    },
    "papermill": {
     "duration": 0.921322,
     "end_time": "2025-07-30T21:32:44.666248",
     "exception": false,
     "start_time": "2025-07-30T21:32:43.744926",
     "status": "completed"
    },
    "tags": []
   },
   "outputs": [],
   "source": [
    "from fairness_multiverse.conformal import evaluate_sets\n",
    "\n",
    "# Evaluate coverage and average set size on test data\n",
    "metrics = evaluate_sets(pred_sets, y_true)"
   ]
  },
  {
   "cell_type": "markdown",
   "id": "2b569c12-9aaa-4c88-98c9-bbcd0cf3ebb8",
   "metadata": {
    "papermill": {
     "duration": 0.023993,
     "end_time": "2025-07-30T21:32:44.736820",
     "exception": false,
     "start_time": "2025-07-30T21:32:44.712827",
     "status": "completed"
    },
    "tags": []
   },
   "source": [
    "# CP Metrics"
   ]
  },
  {
   "cell_type": "code",
   "execution_count": 56,
   "id": "5ce0a5cb-201f-45a0-ade5-94c7f0bd6095",
   "metadata": {
    "execution": {
     "iopub.execute_input": "2025-07-30T21:32:44.785253Z",
     "iopub.status.busy": "2025-07-30T21:32:44.784358Z",
     "iopub.status.idle": "2025-07-30T21:32:44.791647Z",
     "shell.execute_reply": "2025-07-30T21:32:44.790789Z"
    },
    "papermill": {
     "duration": 0.033235,
     "end_time": "2025-07-30T21:32:44.793223",
     "exception": false,
     "start_time": "2025-07-30T21:32:44.759988",
     "status": "completed"
    },
    "tags": []
   },
   "outputs": [
    {
     "data": {
      "text/plain": [
       "{'coverage': 0.9102887080593022, 'avg_size': 1.2272098985620332}"
      ]
     },
     "execution_count": 56,
     "metadata": {},
     "output_type": "execute_result"
    }
   ],
   "source": [
    "metrics"
   ]
  },
  {
   "cell_type": "code",
   "execution_count": 57,
   "id": "9b9a838d-31c9-430b-ae14-12baee460d17",
   "metadata": {
    "execution": {
     "iopub.execute_input": "2025-07-30T21:32:44.842526Z",
     "iopub.status.busy": "2025-07-30T21:32:44.841786Z",
     "iopub.status.idle": "2025-07-30T21:32:44.848658Z",
     "shell.execute_reply": "2025-07-30T21:32:44.847784Z"
    },
    "papermill": {
     "duration": 0.03303,
     "end_time": "2025-07-30T21:32:44.850456",
     "exception": false,
     "start_time": "2025-07-30T21:32:44.817426",
     "status": "completed"
    },
    "tags": []
   },
   "outputs": [],
   "source": [
    "example_universe = universe.copy()\n",
    "universe_training_year = example_universe.get(\"training_year\")\n",
    "universe_training_size = example_universe.get(\"training_size\")\n",
    "universe_scale = example_universe.get(\"scale\")\n",
    "universe_model = example_universe.get(\"model\")\n",
    "universe_exclude_features = example_universe.get(\"exclude_features\")\n",
    "universe_exclude_subgroups = example_universe.get(\"exclude_subgroups\")"
   ]
  },
  {
   "cell_type": "code",
   "execution_count": 58,
   "id": "f4b6a8ac-9dc0-4245-8a91-5b3b5999c4f9",
   "metadata": {
    "execution": {
     "iopub.execute_input": "2025-07-30T21:32:44.898746Z",
     "iopub.status.busy": "2025-07-30T21:32:44.898254Z",
     "iopub.status.idle": "2025-07-30T21:32:44.904253Z",
     "shell.execute_reply": "2025-07-30T21:32:44.903360Z"
    },
    "papermill": {
     "duration": 0.031493,
     "end_time": "2025-07-30T21:32:44.905740",
     "exception": false,
     "start_time": "2025-07-30T21:32:44.874247",
     "status": "completed"
    },
    "tags": []
   },
   "outputs": [],
   "source": [
    "cp_metrics_dict = {\n",
    "    \"universe_id\": [universe_id],\n",
    "    \"universe_training_year\": [universe_training_year],\n",
    "    \"universe_training_size\": [universe_training_size],\n",
    "    \"universe_scale\": [universe_scale],\n",
    "    \"universe_model\": [universe_model],\n",
    "    \"universe_exclude_features\": [universe_exclude_features],\n",
    "    \"universe_exclude_subgroups\": [universe_exclude_subgroups],\n",
    "    \"q_hat\": [q_hat],\n",
    "    \"coverage\": [metrics[\"coverage\"]],\n",
    "    \"avg_size\": [metrics[\"avg_size\"]],\n",
    "}"
   ]
  },
  {
   "cell_type": "code",
   "execution_count": 59,
   "id": "908acbb1-0371-4915-85ca-3fa520d2efe2",
   "metadata": {
    "execution": {
     "iopub.execute_input": "2025-07-30T21:32:44.954119Z",
     "iopub.status.busy": "2025-07-30T21:32:44.953568Z",
     "iopub.status.idle": "2025-07-30T21:32:44.960918Z",
     "shell.execute_reply": "2025-07-30T21:32:44.959854Z"
    },
    "papermill": {
     "duration": 0.033141,
     "end_time": "2025-07-30T21:32:44.962461",
     "exception": false,
     "start_time": "2025-07-30T21:32:44.929320",
     "status": "completed"
    },
    "tags": []
   },
   "outputs": [
    {
     "data": {
      "text/plain": [
       "{'universe_id': ['780cf5092520daec9715e8d836e8b098'],\n",
       " 'universe_training_year': ['2014'],\n",
       " 'universe_training_size': ['1k'],\n",
       " 'universe_scale': ['do-not-scale'],\n",
       " 'universe_model': ['elasticnet'],\n",
       " 'universe_exclude_features': ['nationality-sex'],\n",
       " 'universe_exclude_subgroups': ['keep-all'],\n",
       " 'q_hat': [0.6847324277715057],\n",
       " 'coverage': [0.9102887080593022],\n",
       " 'avg_size': [1.2272098985620332]}"
      ]
     },
     "execution_count": 59,
     "metadata": {},
     "output_type": "execute_result"
    }
   ],
   "source": [
    "cp_metrics_dict"
   ]
  },
  {
   "cell_type": "code",
   "execution_count": 60,
   "id": "33007efc-14e9-4ec6-97ac-56a455c82265",
   "metadata": {
    "execution": {
     "iopub.execute_input": "2025-07-30T21:32:45.011574Z",
     "iopub.status.busy": "2025-07-30T21:32:45.011096Z",
     "iopub.status.idle": "2025-07-30T21:32:45.017575Z",
     "shell.execute_reply": "2025-07-30T21:32:45.016581Z"
    },
    "papermill": {
     "duration": 0.03237,
     "end_time": "2025-07-30T21:32:45.019361",
     "exception": false,
     "start_time": "2025-07-30T21:32:44.986991",
     "status": "completed"
    },
    "tags": []
   },
   "outputs": [],
   "source": [
    "cp_metrics_df = pd.DataFrame(cp_metrics_dict)"
   ]
  },
  {
   "cell_type": "code",
   "execution_count": 61,
   "id": "db12611b-57b2-4910-b9d0-355adfd6e7bf",
   "metadata": {
    "execution": {
     "iopub.execute_input": "2025-07-30T21:32:45.071398Z",
     "iopub.status.busy": "2025-07-30T21:32:45.071091Z",
     "iopub.status.idle": "2025-07-30T21:32:45.090078Z",
     "shell.execute_reply": "2025-07-30T21:32:45.088931Z"
    },
    "papermill": {
     "duration": 0.048113,
     "end_time": "2025-07-30T21:32:45.091623",
     "exception": false,
     "start_time": "2025-07-30T21:32:45.043510",
     "status": "completed"
    },
    "tags": []
   },
   "outputs": [
    {
     "data": {
      "text/html": [
       "<div>\n",
       "<style scoped>\n",
       "    .dataframe tbody tr th:only-of-type {\n",
       "        vertical-align: middle;\n",
       "    }\n",
       "\n",
       "    .dataframe tbody tr th {\n",
       "        vertical-align: top;\n",
       "    }\n",
       "\n",
       "    .dataframe thead th {\n",
       "        text-align: right;\n",
       "    }\n",
       "</style>\n",
       "<table border=\"1\" class=\"dataframe\">\n",
       "  <thead>\n",
       "    <tr style=\"text-align: right;\">\n",
       "      <th></th>\n",
       "      <th>universe_id</th>\n",
       "      <th>universe_training_year</th>\n",
       "      <th>universe_training_size</th>\n",
       "      <th>universe_scale</th>\n",
       "      <th>universe_model</th>\n",
       "      <th>universe_exclude_features</th>\n",
       "      <th>universe_exclude_subgroups</th>\n",
       "      <th>q_hat</th>\n",
       "      <th>coverage</th>\n",
       "      <th>avg_size</th>\n",
       "    </tr>\n",
       "  </thead>\n",
       "  <tbody>\n",
       "    <tr>\n",
       "      <th>0</th>\n",
       "      <td>780cf5092520daec9715e8d836e8b098</td>\n",
       "      <td>2014</td>\n",
       "      <td>1k</td>\n",
       "      <td>do-not-scale</td>\n",
       "      <td>elasticnet</td>\n",
       "      <td>nationality-sex</td>\n",
       "      <td>keep-all</td>\n",
       "      <td>0.684732</td>\n",
       "      <td>0.910289</td>\n",
       "      <td>1.22721</td>\n",
       "    </tr>\n",
       "  </tbody>\n",
       "</table>\n",
       "</div>"
      ],
      "text/plain": [
       "                        universe_id universe_training_year  \\\n",
       "0  780cf5092520daec9715e8d836e8b098                   2014   \n",
       "\n",
       "  universe_training_size universe_scale universe_model  \\\n",
       "0                     1k   do-not-scale     elasticnet   \n",
       "\n",
       "  universe_exclude_features universe_exclude_subgroups     q_hat  coverage  \\\n",
       "0           nationality-sex                   keep-all  0.684732  0.910289   \n",
       "\n",
       "   avg_size  \n",
       "0   1.22721  "
      ]
     },
     "execution_count": 61,
     "metadata": {},
     "output_type": "execute_result"
    }
   ],
   "source": [
    "cp_metrics_df"
   ]
  },
  {
   "cell_type": "code",
   "execution_count": 62,
   "id": "b7fbde55-a0a1-47e4-9af6-fe4a17fa8c61",
   "metadata": {
    "execution": {
     "iopub.execute_input": "2025-07-30T21:32:45.148013Z",
     "iopub.status.busy": "2025-07-30T21:32:45.147250Z",
     "iopub.status.idle": "2025-07-30T21:32:45.152190Z",
     "shell.execute_reply": "2025-07-30T21:32:45.151230Z"
    },
    "papermill": {
     "duration": 0.034906,
     "end_time": "2025-07-30T21:32:45.153982",
     "exception": false,
     "start_time": "2025-07-30T21:32:45.119076",
     "status": "completed"
    },
    "tags": []
   },
   "outputs": [],
   "source": [
    "# Conditional Coverage & looking at subgroups"
   ]
  },
  {
   "cell_type": "code",
   "execution_count": 63,
   "id": "027ae886-68dd-4141-96c7-805a5450e1ef",
   "metadata": {
    "execution": {
     "iopub.execute_input": "2025-07-30T21:32:45.211883Z",
     "iopub.status.busy": "2025-07-30T21:32:45.211583Z",
     "iopub.status.idle": "2025-07-30T21:32:45.472208Z",
     "shell.execute_reply": "2025-07-30T21:32:45.471296Z"
    },
    "papermill": {
     "duration": 0.292197,
     "end_time": "2025-07-30T21:32:45.474089",
     "exception": false,
     "start_time": "2025-07-30T21:32:45.181892",
     "status": "completed"
    },
    "tags": []
   },
   "outputs": [],
   "source": [
    "from fairness_multiverse.conformal import build_cp_groups\n",
    "\n",
    "cp_groups_df = build_cp_groups(pred_sets, y_true, X_test.index, org_test)\n",
    "#needs universe_id and setting"
   ]
  },
  {
   "cell_type": "code",
   "execution_count": 64,
   "id": "01d5802c-663a-4d1f-9d69-e036faaffbf7",
   "metadata": {
    "execution": {
     "iopub.execute_input": "2025-07-30T21:32:45.524284Z",
     "iopub.status.busy": "2025-07-30T21:32:45.523466Z",
     "iopub.status.idle": "2025-07-30T21:32:45.528364Z",
     "shell.execute_reply": "2025-07-30T21:32:45.527499Z"
    },
    "papermill": {
     "duration": 0.030858,
     "end_time": "2025-07-30T21:32:45.529845",
     "exception": false,
     "start_time": "2025-07-30T21:32:45.498987",
     "status": "completed"
    },
    "tags": []
   },
   "outputs": [],
   "source": [
    "#delete\n",
    "#cp_groups_df"
   ]
  },
  {
   "cell_type": "code",
   "execution_count": 65,
   "id": "fa424af1-d1eb-443d-b717-2d279ada8408",
   "metadata": {
    "execution": {
     "iopub.execute_input": "2025-07-30T21:32:45.579101Z",
     "iopub.status.busy": "2025-07-30T21:32:45.578635Z",
     "iopub.status.idle": "2025-07-30T21:32:45.583122Z",
     "shell.execute_reply": "2025-07-30T21:32:45.582159Z"
    },
    "papermill": {
     "duration": 0.030708,
     "end_time": "2025-07-30T21:32:45.584976",
     "exception": false,
     "start_time": "2025-07-30T21:32:45.554268",
     "status": "completed"
    },
    "tags": []
   },
   "outputs": [],
   "source": [
    "#delete\n",
    "#percentage = (cp_groups_df['nongerman_female'] == 1).mean() * 100\n",
    "#print(percentage)\n"
   ]
  },
  {
   "cell_type": "code",
   "execution_count": 66,
   "id": "6cbdab96-b2b2-45af-ad54-d0516db2e28d",
   "metadata": {
    "execution": {
     "iopub.execute_input": "2025-07-30T21:32:45.642210Z",
     "iopub.status.busy": "2025-07-30T21:32:45.641909Z",
     "iopub.status.idle": "2025-07-30T21:32:47.132972Z",
     "shell.execute_reply": "2025-07-30T21:32:47.131987Z"
    },
    "papermill": {
     "duration": 1.521244,
     "end_time": "2025-07-30T21:32:47.134749",
     "exception": false,
     "start_time": "2025-07-30T21:32:45.613505",
     "status": "completed"
    },
    "tags": []
   },
   "outputs": [],
   "source": [
    "# Define covered = 1 if true_label is in the predicted set\n",
    "cp_groups_df['covered'] = cp_groups_df.apply(\n",
    "    lambda r: int(r['true_label'] in r['pred_set']),\n",
    "    axis=1\n",
    ")"
   ]
  },
  {
   "cell_type": "code",
   "execution_count": 67,
   "id": "338ff529-1a6b-4b87-a931-8e4788d52aad",
   "metadata": {
    "execution": {
     "iopub.execute_input": "2025-07-30T21:32:47.185429Z",
     "iopub.status.busy": "2025-07-30T21:32:47.184531Z",
     "iopub.status.idle": "2025-07-30T21:32:47.189442Z",
     "shell.execute_reply": "2025-07-30T21:32:47.188635Z"
    },
    "papermill": {
     "duration": 0.031412,
     "end_time": "2025-07-30T21:32:47.191092",
     "exception": false,
     "start_time": "2025-07-30T21:32:47.159680",
     "status": "completed"
    },
    "tags": []
   },
   "outputs": [],
   "source": [
    "#cp_groups_df"
   ]
  },
  {
   "cell_type": "code",
   "execution_count": 68,
   "id": "90032e27-66df-4540-9169-4e89cfbaa758",
   "metadata": {
    "execution": {
     "iopub.execute_input": "2025-07-30T21:32:47.241075Z",
     "iopub.status.busy": "2025-07-30T21:32:47.240321Z",
     "iopub.status.idle": "2025-07-30T21:32:47.251079Z",
     "shell.execute_reply": "2025-07-30T21:32:47.250178Z"
    },
    "papermill": {
     "duration": 0.03697,
     "end_time": "2025-07-30T21:32:47.252800",
     "exception": false,
     "start_time": "2025-07-30T21:32:47.215830",
     "status": "completed"
    },
    "tags": []
   },
   "outputs": [],
   "source": [
    "subgroups = ['frau1','nongerman','nongerman_male','nongerman_female']\n",
    "\n",
    "# Conditional coverage for subgroup==1\n",
    "cond_coverage = {\n",
    "    g: cp_groups_df.loc[cp_groups_df[g]==1, 'covered'].mean()\n",
    "    for g in subgroups\n",
    "}"
   ]
  },
  {
   "cell_type": "code",
   "execution_count": 69,
   "id": "1e348fb1-b9c3-45bc-ba23-f016827a7e0d",
   "metadata": {
    "execution": {
     "iopub.execute_input": "2025-07-30T21:32:47.302242Z",
     "iopub.status.busy": "2025-07-30T21:32:47.301541Z",
     "iopub.status.idle": "2025-07-30T21:32:47.308143Z",
     "shell.execute_reply": "2025-07-30T21:32:47.307215Z"
    },
    "papermill": {
     "duration": 0.032621,
     "end_time": "2025-07-30T21:32:47.309780",
     "exception": false,
     "start_time": "2025-07-30T21:32:47.277159",
     "status": "completed"
    },
    "tags": []
   },
   "outputs": [
    {
     "data": {
      "text/plain": [
       "{'frau1': 0.9076425394257986,\n",
       " 'nongerman': 0.9360017964408016,\n",
       " 'nongerman_male': 0.9478519319102945,\n",
       " 'nongerman_female': 0.9163934426229509}"
      ]
     },
     "execution_count": 69,
     "metadata": {},
     "output_type": "execute_result"
    }
   ],
   "source": [
    "cond_coverage"
   ]
  },
  {
   "cell_type": "code",
   "execution_count": 70,
   "id": "f5093324-c3dd-4d63-bc4c-8d945e5c8bbb",
   "metadata": {
    "execution": {
     "iopub.execute_input": "2025-07-30T21:32:47.359697Z",
     "iopub.status.busy": "2025-07-30T21:32:47.358973Z",
     "iopub.status.idle": "2025-07-30T21:32:47.365528Z",
     "shell.execute_reply": "2025-07-30T21:32:47.364735Z"
    },
    "papermill": {
     "duration": 0.032821,
     "end_time": "2025-07-30T21:32:47.367043",
     "exception": false,
     "start_time": "2025-07-30T21:32:47.334222",
     "status": "completed"
    },
    "tags": []
   },
   "outputs": [],
   "source": [
    "for subgroup, cov in cond_coverage.items():\n",
    "    cp_metrics_df[f\"cov_{subgroup}\"] = cov"
   ]
  },
  {
   "cell_type": "code",
   "execution_count": 71,
   "id": "6e872e10-dbe5-49e8-b554-5030c98ff75d",
   "metadata": {
    "execution": {
     "iopub.execute_input": "2025-07-30T21:32:47.417295Z",
     "iopub.status.busy": "2025-07-30T21:32:47.416806Z",
     "iopub.status.idle": "2025-07-30T21:32:47.434883Z",
     "shell.execute_reply": "2025-07-30T21:32:47.434009Z"
    },
    "papermill": {
     "duration": 0.044408,
     "end_time": "2025-07-30T21:32:47.436417",
     "exception": false,
     "start_time": "2025-07-30T21:32:47.392009",
     "status": "completed"
    },
    "tags": []
   },
   "outputs": [
    {
     "data": {
      "text/html": [
       "<div>\n",
       "<style scoped>\n",
       "    .dataframe tbody tr th:only-of-type {\n",
       "        vertical-align: middle;\n",
       "    }\n",
       "\n",
       "    .dataframe tbody tr th {\n",
       "        vertical-align: top;\n",
       "    }\n",
       "\n",
       "    .dataframe thead th {\n",
       "        text-align: right;\n",
       "    }\n",
       "</style>\n",
       "<table border=\"1\" class=\"dataframe\">\n",
       "  <thead>\n",
       "    <tr style=\"text-align: right;\">\n",
       "      <th></th>\n",
       "      <th>universe_id</th>\n",
       "      <th>universe_training_year</th>\n",
       "      <th>universe_training_size</th>\n",
       "      <th>universe_scale</th>\n",
       "      <th>universe_model</th>\n",
       "      <th>universe_exclude_features</th>\n",
       "      <th>universe_exclude_subgroups</th>\n",
       "      <th>q_hat</th>\n",
       "      <th>coverage</th>\n",
       "      <th>avg_size</th>\n",
       "      <th>cov_frau1</th>\n",
       "      <th>cov_nongerman</th>\n",
       "      <th>cov_nongerman_male</th>\n",
       "      <th>cov_nongerman_female</th>\n",
       "    </tr>\n",
       "  </thead>\n",
       "  <tbody>\n",
       "    <tr>\n",
       "      <th>0</th>\n",
       "      <td>780cf5092520daec9715e8d836e8b098</td>\n",
       "      <td>2014</td>\n",
       "      <td>1k</td>\n",
       "      <td>do-not-scale</td>\n",
       "      <td>elasticnet</td>\n",
       "      <td>nationality-sex</td>\n",
       "      <td>keep-all</td>\n",
       "      <td>0.684732</td>\n",
       "      <td>0.910289</td>\n",
       "      <td>1.22721</td>\n",
       "      <td>0.907643</td>\n",
       "      <td>0.936002</td>\n",
       "      <td>0.947852</td>\n",
       "      <td>0.916393</td>\n",
       "    </tr>\n",
       "  </tbody>\n",
       "</table>\n",
       "</div>"
      ],
      "text/plain": [
       "                        universe_id universe_training_year  \\\n",
       "0  780cf5092520daec9715e8d836e8b098                   2014   \n",
       "\n",
       "  universe_training_size universe_scale universe_model  \\\n",
       "0                     1k   do-not-scale     elasticnet   \n",
       "\n",
       "  universe_exclude_features universe_exclude_subgroups     q_hat  coverage  \\\n",
       "0           nationality-sex                   keep-all  0.684732  0.910289   \n",
       "\n",
       "   avg_size  cov_frau1  cov_nongerman  cov_nongerman_male  \\\n",
       "0   1.22721   0.907643       0.936002            0.947852   \n",
       "\n",
       "   cov_nongerman_female  \n",
       "0              0.916393  "
      ]
     },
     "execution_count": 71,
     "metadata": {},
     "output_type": "execute_result"
    }
   ],
   "source": [
    "cp_metrics_df"
   ]
  },
  {
   "cell_type": "markdown",
   "id": "33774451",
   "metadata": {
    "papermill": {
     "duration": 0.024085,
     "end_time": "2025-07-30T21:32:47.485339",
     "exception": false,
     "start_time": "2025-07-30T21:32:47.461254",
     "status": "completed"
    },
    "tags": []
   },
   "source": [
    "# (Fairness) Metrics"
   ]
  },
  {
   "cell_type": "code",
   "execution_count": 72,
   "id": "debc5d62",
   "metadata": {
    "execution": {
     "iopub.execute_input": "2025-07-30T21:32:47.535467Z",
     "iopub.status.busy": "2025-07-30T21:32:47.534791Z",
     "iopub.status.idle": "2025-07-30T21:32:47.555317Z",
     "shell.execute_reply": "2025-07-30T21:32:47.554551Z"
    },
    "papermill": {
     "duration": 0.047272,
     "end_time": "2025-07-30T21:32:47.557058",
     "exception": false,
     "start_time": "2025-07-30T21:32:47.509786",
     "status": "completed"
    },
    "tags": []
   },
   "outputs": [],
   "source": [
    "# do I need to include maxdeutsch1.missing?\n",
    "\n",
    "import numpy as np\n",
    "\n",
    "colname_to_bin = \"maxdeutsch1\"\n",
    "majority_value = org_train[colname_to_bin].mode()[0]\n",
    "\n",
    "org_test[\"majmin\"] = np.where(org_test[colname_to_bin] == majority_value, \"majority\", \"minority\")"
   ]
  },
  {
   "cell_type": "code",
   "execution_count": 73,
   "id": "06a50de5",
   "metadata": {
    "execution": {
     "iopub.execute_input": "2025-07-30T21:32:47.608507Z",
     "iopub.status.busy": "2025-07-30T21:32:47.607684Z",
     "iopub.status.idle": "2025-07-30T21:32:49.780756Z",
     "shell.execute_reply": "2025-07-30T21:32:49.779690Z"
    },
    "papermill": {
     "duration": 2.200456,
     "end_time": "2025-07-30T21:32:49.782650",
     "exception": false,
     "start_time": "2025-07-30T21:32:47.582194",
     "status": "completed"
    },
    "tags": []
   },
   "outputs": [],
   "source": [
    "example_universe = universe.copy()\n",
    "example_universe[\"cutoff\"] = example_universe[\"cutoff\"][0]\n",
    "example_universe[\"eval_fairness_grouping\"] = example_universe[\"eval_fairness_grouping\"][0]\n",
    "fairness_dict, metric_frame = universe_analysis.compute_metrics(\n",
    "    example_universe,\n",
    "    y_pred_prob=probs_test,\n",
    "    y_test=y_true,\n",
    "    org_test=org_test,\n",
    ")"
   ]
  },
  {
   "cell_type": "markdown",
   "id": "f95d4e02",
   "metadata": {
    "papermill": {
     "duration": 0.019631,
     "end_time": "2025-07-30T21:32:49.831088",
     "exception": false,
     "start_time": "2025-07-30T21:32:49.811457",
     "status": "completed"
    },
    "tags": []
   },
   "source": [
    "# Overall"
   ]
  },
  {
   "cell_type": "markdown",
   "id": "bdee4871",
   "metadata": {
    "papermill": {
     "duration": 0.013321,
     "end_time": "2025-07-30T21:32:49.858178",
     "exception": false,
     "start_time": "2025-07-30T21:32:49.844857",
     "status": "completed"
    },
    "tags": []
   },
   "source": [
    "Fairness\n",
    "Main fairness target: Equalized Odds. Seems to be a better fit than equal opportunity, since we're not only interested in Y = 1. Seems to be a better fit than demographic parity, since we also care about accuracy, not just equal distribution of preds.\n",
    "\n",
    "Pick column for computation of fairness metrics\n",
    "\n",
    "Performance\n",
    "Overall performance measures, most interesting in relation to the measures split by group below"
   ]
  },
  {
   "cell_type": "code",
   "execution_count": 74,
   "id": "c4e067c6",
   "metadata": {
    "execution": {
     "iopub.execute_input": "2025-07-30T21:32:49.909309Z",
     "iopub.status.busy": "2025-07-30T21:32:49.908844Z",
     "iopub.status.idle": "2025-07-30T21:32:49.917285Z",
     "shell.execute_reply": "2025-07-30T21:32:49.916426Z"
    },
    "papermill": {
     "duration": 0.049485,
     "end_time": "2025-07-30T21:32:49.928774",
     "exception": false,
     "start_time": "2025-07-30T21:32:49.879289",
     "status": "completed"
    },
    "tags": []
   },
   "outputs": [
    {
     "data": {
      "text/plain": [
       "accuracy                   0.216353\n",
       "balanced accuracy          0.530693\n",
       "f1                         0.237905\n",
       "precision                  0.135907\n",
       "false positive rate        0.892126\n",
       "false negative rate        0.046489\n",
       "selection rate             0.900000\n",
       "count                  89710.000000\n",
       "dtype: float64"
      ]
     },
     "execution_count": 74,
     "metadata": {},
     "output_type": "execute_result"
    }
   ],
   "source": [
    "metric_frame.overall"
   ]
  },
  {
   "cell_type": "markdown",
   "id": "e968fe9d",
   "metadata": {
    "papermill": {
     "duration": 0.026351,
     "end_time": "2025-07-30T21:32:49.984451",
     "exception": false,
     "start_time": "2025-07-30T21:32:49.958100",
     "status": "completed"
    },
    "tags": []
   },
   "source": [
    "By Group"
   ]
  },
  {
   "cell_type": "code",
   "execution_count": 75,
   "id": "ec325bce",
   "metadata": {
    "execution": {
     "iopub.execute_input": "2025-07-30T21:32:50.043837Z",
     "iopub.status.busy": "2025-07-30T21:32:50.043346Z",
     "iopub.status.idle": "2025-07-30T21:32:50.061057Z",
     "shell.execute_reply": "2025-07-30T21:32:50.059981Z"
    },
    "papermill": {
     "duration": 0.050268,
     "end_time": "2025-07-30T21:32:50.062421",
     "exception": false,
     "start_time": "2025-07-30T21:32:50.012153",
     "status": "completed"
    },
    "tags": []
   },
   "outputs": [
    {
     "data": {
      "text/html": [
       "<div>\n",
       "<style scoped>\n",
       "    .dataframe tbody tr th:only-of-type {\n",
       "        vertical-align: middle;\n",
       "    }\n",
       "\n",
       "    .dataframe tbody tr th {\n",
       "        vertical-align: top;\n",
       "    }\n",
       "\n",
       "    .dataframe thead th {\n",
       "        text-align: right;\n",
       "    }\n",
       "</style>\n",
       "<table border=\"1\" class=\"dataframe\">\n",
       "  <thead>\n",
       "    <tr style=\"text-align: right;\">\n",
       "      <th></th>\n",
       "      <th>accuracy</th>\n",
       "      <th>balanced accuracy</th>\n",
       "      <th>f1</th>\n",
       "      <th>precision</th>\n",
       "      <th>false positive rate</th>\n",
       "      <th>false negative rate</th>\n",
       "      <th>selection rate</th>\n",
       "      <th>count</th>\n",
       "    </tr>\n",
       "    <tr>\n",
       "      <th>majmin</th>\n",
       "      <th></th>\n",
       "      <th></th>\n",
       "      <th></th>\n",
       "      <th></th>\n",
       "      <th></th>\n",
       "      <th></th>\n",
       "      <th></th>\n",
       "      <th></th>\n",
       "    </tr>\n",
       "  </thead>\n",
       "  <tbody>\n",
       "    <tr>\n",
       "      <th>majority</th>\n",
       "      <td>0.237444</td>\n",
       "      <td>0.538131</td>\n",
       "      <td>0.247067</td>\n",
       "      <td>0.142069</td>\n",
       "      <td>0.870565</td>\n",
       "      <td>0.053173</td>\n",
       "      <td>0.880642</td>\n",
       "      <td>69170.0</td>\n",
       "    </tr>\n",
       "    <tr>\n",
       "      <th>minority</th>\n",
       "      <td>0.145326</td>\n",
       "      <td>0.507979</td>\n",
       "      <td>0.208985</td>\n",
       "      <td>0.116974</td>\n",
       "      <td>0.963350</td>\n",
       "      <td>0.020693</td>\n",
       "      <td>0.965190</td>\n",
       "      <td>20540.0</td>\n",
       "    </tr>\n",
       "  </tbody>\n",
       "</table>\n",
       "</div>"
      ],
      "text/plain": [
       "          accuracy  balanced accuracy        f1  precision  \\\n",
       "majmin                                                       \n",
       "majority  0.237444           0.538131  0.247067   0.142069   \n",
       "minority  0.145326           0.507979  0.208985   0.116974   \n",
       "\n",
       "          false positive rate  false negative rate  selection rate    count  \n",
       "majmin                                                                       \n",
       "majority             0.870565             0.053173        0.880642  69170.0  \n",
       "minority             0.963350             0.020693        0.965190  20540.0  "
      ]
     },
     "execution_count": 75,
     "metadata": {},
     "output_type": "execute_result"
    }
   ],
   "source": [
    "metric_frame.by_group"
   ]
  },
  {
   "cell_type": "code",
   "execution_count": 76,
   "id": "a9ddbe63",
   "metadata": {
    "execution": {
     "iopub.execute_input": "2025-07-30T21:32:50.100090Z",
     "iopub.status.busy": "2025-07-30T21:32:50.099284Z",
     "iopub.status.idle": "2025-07-30T21:32:52.134557Z",
     "shell.execute_reply": "2025-07-30T21:32:52.133543Z"
    },
    "papermill": {
     "duration": 2.053381,
     "end_time": "2025-07-30T21:32:52.135945",
     "exception": false,
     "start_time": "2025-07-30T21:32:50.082564",
     "status": "completed"
    },
    "tags": []
   },
   "outputs": [
    {
     "data": {
      "text/plain": [
       "array([[<Axes: title={'center': 'accuracy'}, xlabel='majmin'>,\n",
       "        <Axes: title={'center': 'balanced accuracy'}, xlabel='majmin'>,\n",
       "        <Axes: title={'center': 'f1'}, xlabel='majmin'>],\n",
       "       [<Axes: title={'center': 'precision'}, xlabel='majmin'>,\n",
       "        <Axes: title={'center': 'false positive rate'}, xlabel='majmin'>,\n",
       "        <Axes: title={'center': 'false negative rate'}, xlabel='majmin'>],\n",
       "       [<Axes: title={'center': 'selection rate'}, xlabel='majmin'>,\n",
       "        <Axes: title={'center': 'count'}, xlabel='majmin'>,\n",
       "        <Axes: xlabel='majmin'>]], dtype=object)"
      ]
     },
     "execution_count": 76,
     "metadata": {},
     "output_type": "execute_result"
    },
    {
     "data": {
      "image/png": "[encoded data removed]",
      "text/plain": [
       "<Figure size 1200x800 with 9 Axes>"
      ]
     },
     "metadata": {},
     "output_type": "display_data"
    }
   ],
   "source": [
    "# In a graphic\n",
    "metric_frame.by_group.plot.bar(\n",
    "    subplots=True,\n",
    "    layout=[3, 3],\n",
    "    legend=False,\n",
    "    figsize=[12, 8],\n",
    "    title=\"Show all metrics\",\n",
    ")"
   ]
  },
  {
   "cell_type": "markdown",
   "id": "f57a0bac",
   "metadata": {
    "papermill": {
     "duration": 0.014785,
     "end_time": "2025-07-30T21:32:52.168292",
     "exception": false,
     "start_time": "2025-07-30T21:32:52.153507",
     "status": "completed"
    },
    "tags": []
   },
   "source": [
    "# Final Output"
   ]
  },
  {
   "cell_type": "code",
   "execution_count": 77,
   "id": "96d280a3",
   "metadata": {
    "execution": {
     "iopub.execute_input": "2025-07-30T21:32:52.202819Z",
     "iopub.status.busy": "2025-07-30T21:32:52.202414Z",
     "iopub.status.idle": "2025-07-30T21:32:52.208740Z",
     "shell.execute_reply": "2025-07-30T21:32:52.207973Z"
    },
    "papermill": {
     "duration": 0.023161,
     "end_time": "2025-07-30T21:32:52.210019",
     "exception": false,
     "start_time": "2025-07-30T21:32:52.186858",
     "status": "completed"
    },
    "tags": []
   },
   "outputs": [
    {
     "data": {
      "text/plain": [
       "4"
      ]
     },
     "execution_count": 77,
     "metadata": {},
     "output_type": "execute_result"
    }
   ],
   "source": [
    "sub_universes = universe_analysis.generate_sub_universes()\n",
    "len(sub_universes)"
   ]
  },
  {
   "cell_type": "code",
   "execution_count": 78,
   "id": "92adf7ba",
   "metadata": {
    "execution": {
     "iopub.execute_input": "2025-07-30T21:32:52.244150Z",
     "iopub.status.busy": "2025-07-30T21:32:52.243623Z",
     "iopub.status.idle": "2025-07-30T21:32:52.249469Z",
     "shell.execute_reply": "2025-07-30T21:32:52.248678Z"
    },
    "papermill": {
     "duration": 0.02301,
     "end_time": "2025-07-30T21:32:52.250840",
     "exception": false,
     "start_time": "2025-07-30T21:32:52.227830",
     "status": "completed"
    },
    "tags": []
   },
   "outputs": [],
   "source": [
    "def filter_sub_universe_data(sub_universe, org_test):\n",
    "    # Keep all rows — no filtering\n",
    "    keep_rows_mask = np.ones(org_test.shape[0], dtype=bool)\n",
    "\n",
    "    print(f\"[INFO] Keeping all rows: {keep_rows_mask.sum()} rows retained.\")\n",
    "    return keep_rows_mask"
   ]
  },
  {
   "cell_type": "code",
   "execution_count": 79,
   "id": "4a759155",
   "metadata": {
    "execution": {
     "iopub.execute_input": "2025-07-30T21:32:52.302002Z",
     "iopub.status.busy": "2025-07-30T21:32:52.301522Z",
     "iopub.status.idle": "2025-07-30T21:33:02.368370Z",
     "shell.execute_reply": "2025-07-30T21:33:02.367441Z"
    },
    "papermill": {
     "duration": 10.101182,
     "end_time": "2025-07-30T21:33:02.369917",
     "exception": false,
     "start_time": "2025-07-30T21:32:52.268735",
     "status": "completed"
    },
    "tags": []
   },
   "outputs": [
    {
     "name": "stdout",
     "output_type": "stream",
     "text": [
      "Stopping execution_time clock.\n",
      "[INFO] Keeping all rows: 89710 rows retained.\n"
     ]
    },
    {
     "name": "stdout",
     "output_type": "stream",
     "text": [
      "[INFO] Keeping all rows: 89710 rows retained.\n"
     ]
    },
    {
     "name": "stdout",
     "output_type": "stream",
     "text": [
      "[INFO] Keeping all rows: 89710 rows retained.\n"
     ]
    },
    {
     "name": "stdout",
     "output_type": "stream",
     "text": [
      "[INFO] Keeping all rows: 89710 rows retained.\n"
     ]
    },
    {
     "data": {
      "text/html": [
       "<div>\n",
       "<style scoped>\n",
       "    .dataframe tbody tr th:only-of-type {\n",
       "        vertical-align: middle;\n",
       "    }\n",
       "\n",
       "    .dataframe tbody tr th {\n",
       "        vertical-align: top;\n",
       "    }\n",
       "\n",
       "    .dataframe thead th {\n",
       "        text-align: right;\n",
       "    }\n",
       "</style>\n",
       "<table border=\"1\" class=\"dataframe\">\n",
       "  <thead>\n",
       "    <tr style=\"text-align: right;\">\n",
       "      <th></th>\n",
       "      <th>run_no</th>\n",
       "      <th>universe_id</th>\n",
       "      <th>universe_settings</th>\n",
       "      <th>execution_time</th>\n",
       "      <th>test_size_n</th>\n",
       "      <th>test_size_frac</th>\n",
       "      <th>fair_main_equalized_odds_difference</th>\n",
       "      <th>fair_main_equalized_odds_ratio</th>\n",
       "      <th>fair_main_demographic_parity_difference</th>\n",
       "      <th>fair_main_demographic_parity_ratio</th>\n",
       "      <th>...</th>\n",
       "      <th>perf_grp_precision_0</th>\n",
       "      <th>perf_grp_precision_1</th>\n",
       "      <th>perf_grp_false positive rate_0</th>\n",
       "      <th>perf_grp_false positive rate_1</th>\n",
       "      <th>perf_grp_false negative rate_0</th>\n",
       "      <th>perf_grp_false negative rate_1</th>\n",
       "      <th>perf_grp_selection rate_0</th>\n",
       "      <th>perf_grp_selection rate_1</th>\n",
       "      <th>perf_grp_count_0</th>\n",
       "      <th>perf_grp_count_1</th>\n",
       "    </tr>\n",
       "  </thead>\n",
       "  <tbody>\n",
       "    <tr>\n",
       "      <th>0</th>\n",
       "      <td>14</td>\n",
       "      <td>780cf5092520daec9715e8d836e8b098</td>\n",
       "      <td>{\"cutoff\": \"quantile_0.1\", \"eval_fairness_grou...</td>\n",
       "      <td>44.989065</td>\n",
       "      <td>89710</td>\n",
       "      <td>1.0</td>\n",
       "      <td>0.092785</td>\n",
       "      <td>0.903685</td>\n",
       "      <td>0.084548</td>\n",
       "      <td>0.912403</td>\n",
       "      <td>...</td>\n",
       "      <td>NaN</td>\n",
       "      <td>NaN</td>\n",
       "      <td>NaN</td>\n",
       "      <td>NaN</td>\n",
       "      <td>NaN</td>\n",
       "      <td>NaN</td>\n",
       "      <td>NaN</td>\n",
       "      <td>NaN</td>\n",
       "      <td>NaN</td>\n",
       "      <td>NaN</td>\n",
       "    </tr>\n",
       "    <tr>\n",
       "      <th>0</th>\n",
       "      <td>14</td>\n",
       "      <td>780cf5092520daec9715e8d836e8b098</td>\n",
       "      <td>{\"cutoff\": \"quantile_0.1\", \"eval_fairness_grou...</td>\n",
       "      <td>44.989065</td>\n",
       "      <td>89710</td>\n",
       "      <td>1.0</td>\n",
       "      <td>0.092785</td>\n",
       "      <td>0.903685</td>\n",
       "      <td>0.084548</td>\n",
       "      <td>0.912403</td>\n",
       "      <td>...</td>\n",
       "      <td>0.116974</td>\n",
       "      <td>0.142069</td>\n",
       "      <td>0.963350</td>\n",
       "      <td>0.870565</td>\n",
       "      <td>0.020693</td>\n",
       "      <td>0.053173</td>\n",
       "      <td>0.965190</td>\n",
       "      <td>0.880642</td>\n",
       "      <td>20540.0</td>\n",
       "      <td>69170.0</td>\n",
       "    </tr>\n",
       "    <tr>\n",
       "      <th>0</th>\n",
       "      <td>14</td>\n",
       "      <td>780cf5092520daec9715e8d836e8b098</td>\n",
       "      <td>{\"cutoff\": \"quantile_0.25\", \"eval_fairness_gro...</td>\n",
       "      <td>44.989065</td>\n",
       "      <td>89710</td>\n",
       "      <td>1.0</td>\n",
       "      <td>0.215117</td>\n",
       "      <td>0.760735</td>\n",
       "      <td>0.198086</td>\n",
       "      <td>0.780570</td>\n",
       "      <td>...</td>\n",
       "      <td>NaN</td>\n",
       "      <td>NaN</td>\n",
       "      <td>NaN</td>\n",
       "      <td>NaN</td>\n",
       "      <td>NaN</td>\n",
       "      <td>NaN</td>\n",
       "      <td>NaN</td>\n",
       "      <td>NaN</td>\n",
       "      <td>NaN</td>\n",
       "      <td>NaN</td>\n",
       "    </tr>\n",
       "    <tr>\n",
       "      <th>0</th>\n",
       "      <td>14</td>\n",
       "      <td>780cf5092520daec9715e8d836e8b098</td>\n",
       "      <td>{\"cutoff\": \"quantile_0.25\", \"eval_fairness_gro...</td>\n",
       "      <td>44.989065</td>\n",
       "      <td>89710</td>\n",
       "      <td>1.0</td>\n",
       "      <td>0.215117</td>\n",
       "      <td>0.760735</td>\n",
       "      <td>0.198086</td>\n",
       "      <td>0.780570</td>\n",
       "      <td>...</td>\n",
       "      <td>0.118865</td>\n",
       "      <td>0.157612</td>\n",
       "      <td>0.899076</td>\n",
       "      <td>0.683958</td>\n",
       "      <td>0.069257</td>\n",
       "      <td>0.159519</td>\n",
       "      <td>0.902726</td>\n",
       "      <td>0.704641</td>\n",
       "      <td>20540.0</td>\n",
       "      <td>69170.0</td>\n",
       "    </tr>\n",
       "  </tbody>\n",
       "</table>\n",
       "<p>4 rows × 50 columns</p>\n",
       "</div>"
      ],
      "text/plain": [
       "  run_no                       universe_id  \\\n",
       "0     14  780cf5092520daec9715e8d836e8b098   \n",
       "0     14  780cf5092520daec9715e8d836e8b098   \n",
       "0     14  780cf5092520daec9715e8d836e8b098   \n",
       "0     14  780cf5092520daec9715e8d836e8b098   \n",
       "\n",
       "                                   universe_settings  execution_time  \\\n",
       "0  {\"cutoff\": \"quantile_0.1\", \"eval_fairness_grou...       44.989065   \n",
       "0  {\"cutoff\": \"quantile_0.1\", \"eval_fairness_grou...       44.989065   \n",
       "0  {\"cutoff\": \"quantile_0.25\", \"eval_fairness_gro...       44.989065   \n",
       "0  {\"cutoff\": \"quantile_0.25\", \"eval_fairness_gro...       44.989065   \n",
       "\n",
       "   test_size_n  test_size_frac  fair_main_equalized_odds_difference  \\\n",
       "0        89710             1.0                             0.092785   \n",
       "0        89710             1.0                             0.092785   \n",
       "0        89710             1.0                             0.215117   \n",
       "0        89710             1.0                             0.215117   \n",
       "\n",
       "   fair_main_equalized_odds_ratio  fair_main_demographic_parity_difference  \\\n",
       "0                        0.903685                                 0.084548   \n",
       "0                        0.903685                                 0.084548   \n",
       "0                        0.760735                                 0.198086   \n",
       "0                        0.760735                                 0.198086   \n",
       "\n",
       "   fair_main_demographic_parity_ratio  ...  perf_grp_precision_0  \\\n",
       "0                            0.912403  ...                   NaN   \n",
       "0                            0.912403  ...              0.116974   \n",
       "0                            0.780570  ...                   NaN   \n",
       "0                            0.780570  ...              0.118865   \n",
       "\n",
       "   perf_grp_precision_1  perf_grp_false positive rate_0  \\\n",
       "0                   NaN                             NaN   \n",
       "0              0.142069                        0.963350   \n",
       "0                   NaN                             NaN   \n",
       "0              0.157612                        0.899076   \n",
       "\n",
       "   perf_grp_false positive rate_1  perf_grp_false negative rate_0  \\\n",
       "0                             NaN                             NaN   \n",
       "0                        0.870565                        0.020693   \n",
       "0                             NaN                             NaN   \n",
       "0                        0.683958                        0.069257   \n",
       "\n",
       "   perf_grp_false negative rate_1  perf_grp_selection rate_0  \\\n",
       "0                             NaN                        NaN   \n",
       "0                        0.053173                   0.965190   \n",
       "0                             NaN                        NaN   \n",
       "0                        0.159519                   0.902726   \n",
       "\n",
       "   perf_grp_selection rate_1  perf_grp_count_0  perf_grp_count_1  \n",
       "0                        NaN               NaN               NaN  \n",
       "0                   0.880642           20540.0           69170.0  \n",
       "0                        NaN               NaN               NaN  \n",
       "0                   0.704641           20540.0           69170.0  \n",
       "\n",
       "[4 rows x 50 columns]"
      ]
     },
     "execution_count": 79,
     "metadata": {},
     "output_type": "execute_result"
    }
   ],
   "source": [
    "final_output = universe_analysis.generate_final_output(\n",
    "    y_pred_prob=probs_test,\n",
    "    y_test=y_true,\n",
    "    org_test=org_test,\n",
    "    filter_data=filter_sub_universe_data,\n",
    "    cp_metrics_df=cp_metrics_df,\n",
    "    save=True,\n",
    ")\n",
    "final_output"
   ]
  },
  {
   "cell_type": "code",
   "execution_count": null,
   "id": "721ff514-cb11-46f8-b6fc-50392f74b5cb",
   "metadata": {
    "papermill": {
     "duration": 0.030651,
     "end_time": "2025-07-30T21:33:02.433505",
     "exception": false,
     "start_time": "2025-07-30T21:33:02.402854",
     "status": "completed"
    },
    "tags": []
   },
   "outputs": [],
   "source": []
  }
 ],
 "metadata": {
  "celltoolbar": "Tags",
  "kernelspec": {
   "display_name": "Python (CMA Fairness)",
   "language": "python",
   "name": "cma_fair_env"
  },
  "language_info": {
   "codemirror_mode": {
    "name": "ipython",
    "version": 3
   },
   "file_extension": ".py",
   "mimetype": "text/x-python",
   "name": "python",
   "nbconvert_exporter": "python",
   "pygments_lexer": "ipython3",
   "version": "3.10.12"
  },
  "papermill": {
   "default_parameters": {},
   "duration": 59.321004,
   "end_time": "2025-07-30T21:33:03.283001",
   "environment_variables": {},
   "exception": null,
   "input_path": "universe_analysis.ipynb",
   "output_path": "output/runs/14/notebooks/m_14-780cf5092520daec9715e8d836e8b098.ipynb",
   "parameters": {
    "output_dir": "output",
    "run_no": "14",
    "seed": "2023",
    "universe": "{\"cutoff\": [\"quantile_0.1\", \"quantile_0.25\"], \"eval_fairness_grouping\": [\"majority-minority\", \"nationality-all\"], \"exclude_features\": \"nationality-sex\", \"exclude_subgroups\": \"keep-all\", \"model\": \"elasticnet\", \"scale\": \"do-not-scale\", \"training_size\": \"1k\", \"training_year\": \"2014\"}",
    "universe_id": "780cf5092520daec9715e8d836e8b098"
   },
   "start_time": "2025-07-30T21:32:03.961997",
   "version": "2.6.0"
  }
 },
 "nbformat": 4,
 "nbformat_minor": 5
}