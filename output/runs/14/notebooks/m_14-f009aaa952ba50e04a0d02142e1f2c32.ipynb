{
 "cells": [
  {
   "cell_type": "code",
   "execution_count": 1,
   "id": "f159f837-637b-42ba-96b5-ec9a68c44524",
   "metadata": {
    "execution": {
     "iopub.execute_input": "2025-07-30T20:36:52.219564Z",
     "iopub.status.busy": "2025-07-30T20:36:52.218888Z",
     "iopub.status.idle": "2025-07-30T20:36:52.233046Z",
     "shell.execute_reply": "2025-07-30T20:36:52.232063Z"
    },
    "papermill": {
     "duration": 0.036716,
     "end_time": "2025-07-30T20:36:52.234679",
     "exception": false,
     "start_time": "2025-07-30T20:36:52.197963",
     "status": "completed"
    },
    "tags": []
   },
   "outputs": [
    {
     "name": "stdout",
     "output_type": "stream",
     "text": [
      "/dss/dsshome1/0C/ra93lal2/cma/CMA_Fairness_v2\n"
     ]
    },
    {
     "name": "stderr",
     "output_type": "stream",
     "text": [
      "/dss/dsshome1/0C/ra93lal2/.local/share/virtualenvs/CMA_Fairness_v2-3j10GkSs/lib/python3.10/site-packages/IPython/core/magics/osm.py:393: UserWarning: This is now an optional IPython functionality, using bookmarks requires you to install the `pickleshare` library.\n",
      "  bkms = self.shell.db.get('bookmarks', {})\n",
      "/dss/dsshome1/0C/ra93lal2/.local/share/virtualenvs/CMA_Fairness_v2-3j10GkSs/lib/python3.10/site-packages/IPython/core/magics/osm.py:417: UserWarning: This is now an optional IPython functionality, setting dhist requires you to install the `pickleshare` library.\n",
      "  self.shell.db['dhist'] = compress_dhist(dhist)[-100:]\n"
     ]
    }
   ],
   "source": [
    "%cd ~/cma/CMA_Fairness_v2"
   ]
  },
  {
   "cell_type": "markdown",
   "id": "de2603b9",
   "metadata": {
    "papermill": {
     "duration": 0.01888,
     "end_time": "2025-07-30T20:36:52.273719",
     "exception": false,
     "start_time": "2025-07-30T20:36:52.254839",
     "status": "completed"
    },
    "tags": []
   },
   "source": [
    "The following cell holds the definition of our parameters, these values can be overriden by rendering the with e.g. the following command:\n",
    "\n",
    "papermill -p alpha 0.2 -p ratio 0.3 universe_analysis.ipynb output/test_run.ipynb"
   ]
  },
  {
   "cell_type": "code",
   "execution_count": 2,
   "id": "a80968a0-40bb-4fa9-85ef-2d5eefb01975",
   "metadata": {
    "execution": {
     "iopub.execute_input": "2025-07-30T20:36:52.316253Z",
     "iopub.status.busy": "2025-07-30T20:36:52.315561Z",
     "iopub.status.idle": "2025-07-30T20:36:52.321477Z",
     "shell.execute_reply": "2025-07-30T20:36:52.320436Z"
    },
    "papermill": {
     "duration": 0.029213,
     "end_time": "2025-07-30T20:36:52.323427",
     "exception": false,
     "start_time": "2025-07-30T20:36:52.294214",
     "status": "completed"
    },
    "tags": []
   },
   "outputs": [
    {
     "name": "stdout",
     "output_type": "stream",
     "text": [
      "Current working directory: /dss/dsshome1/0C/ra93lal2/cma/CMA_Fairness_v2\n"
     ]
    }
   ],
   "source": [
    "import os\n",
    "print(\"Current working directory:\", os.getcwd())"
   ]
  },
  {
   "cell_type": "code",
   "execution_count": 3,
   "id": "2dce4c03",
   "metadata": {
    "execution": {
     "iopub.execute_input": "2025-07-30T20:36:52.367194Z",
     "iopub.status.busy": "2025-07-30T20:36:52.366380Z",
     "iopub.status.idle": "2025-07-30T20:36:52.373117Z",
     "shell.execute_reply": "2025-07-30T20:36:52.372098Z"
    },
    "papermill": {
     "duration": 0.030082,
     "end_time": "2025-07-30T20:36:52.374689",
     "exception": false,
     "start_time": "2025-07-30T20:36:52.344607",
     "status": "completed"
    },
    "tags": [
     "parameters"
    ]
   },
   "outputs": [],
   "source": [
    "run_no = 0\n",
    "universe_id = \"test\"\n",
    "universe = {\n",
    "    \"training_size\": \"25k\", # \"25k\", \"5k\", \"1k\"\n",
    "    \"training_year\": \"2014\", # \"2014\", \"2012_14\", \"2010_14\"\n",
    "    \"scale\": \"scale\", # \"scale\", \"do-not-scale\",\n",
    "    #\"stratify_split\": \"target\", # \"none\", \"target\", \"protected-attribute\", \"both\",\n",
    "    \"model\": \"elasticnet\", # \"logreg\", \"penalized_logreg\", \"rf\", \"gbm\", \"elasticnet\"\n",
    "    \"cutoff\": [\"quantile_0.15\", \"quantile_0.30\"],\n",
    "    \"exclude_features\": \"age\", # \"none\", \"nationality\", \"sex\", \"nationality-sex\", \"age\"\n",
    "    \"exclude_subgroups\": \"keep-all\", # \"keep-all\", \"drop-non-german\"\n",
    "    \"eval_fairness_grouping\": [\"majority-minority\", \"nationality-all\"]\n",
    "}\n",
    "\n",
    "output_dir=\"./output\"\n",
    "seed=0"
   ]
  },
  {
   "cell_type": "code",
   "execution_count": 4,
   "id": "91c0f489",
   "metadata": {
    "execution": {
     "iopub.execute_input": "2025-07-30T20:36:52.417702Z",
     "iopub.status.busy": "2025-07-30T20:36:52.416837Z",
     "iopub.status.idle": "2025-07-30T20:36:52.422664Z",
     "shell.execute_reply": "2025-07-30T20:36:52.421680Z"
    },
    "papermill": {
     "duration": 0.028672,
     "end_time": "2025-07-30T20:36:52.424340",
     "exception": false,
     "start_time": "2025-07-30T20:36:52.395668",
     "status": "completed"
    },
    "tags": [
     "injected-parameters"
    ]
   },
   "outputs": [],
   "source": [
    "# Parameters\n",
    "universe_id = \"f009aaa952ba50e04a0d02142e1f2c32\"\n",
    "run_no = \"14\"\n",
    "universe = \"{\\\"cutoff\\\": [\\\"quantile_0.1\\\", \\\"quantile_0.25\\\"], \\\"eval_fairness_grouping\\\": [\\\"majority-minority\\\", \\\"nationality-all\\\"], \\\"exclude_features\\\": \\\"nationality\\\", \\\"exclude_subgroups\\\": \\\"keep-all\\\", \\\"model\\\": \\\"gbm\\\", \\\"scale\\\": \\\"do-not-scale\\\", \\\"training_size\\\": \\\"25k\\\", \\\"training_year\\\": \\\"2010_14\\\"}\"\n",
    "output_dir = \"output\"\n",
    "seed = \"2023\"\n"
   ]
  },
  {
   "cell_type": "code",
   "execution_count": 5,
   "id": "1650acaf",
   "metadata": {
    "execution": {
     "iopub.execute_input": "2025-07-30T20:36:52.465196Z",
     "iopub.status.busy": "2025-07-30T20:36:52.464488Z",
     "iopub.status.idle": "2025-07-30T20:36:52.470330Z",
     "shell.execute_reply": "2025-07-30T20:36:52.469345Z"
    },
    "papermill": {
     "duration": 0.027759,
     "end_time": "2025-07-30T20:36:52.471886",
     "exception": false,
     "start_time": "2025-07-30T20:36:52.444127",
     "status": "completed"
    },
    "tags": []
   },
   "outputs": [],
   "source": [
    "import json\n",
    "# Parse universe into dict if it is passed as a string\n",
    "if isinstance(universe, str):\n",
    "    universe = json.loads(universe)"
   ]
  },
  {
   "cell_type": "code",
   "execution_count": 6,
   "id": "16620c48",
   "metadata": {
    "execution": {
     "iopub.execute_input": "2025-07-30T20:36:52.512787Z",
     "iopub.status.busy": "2025-07-30T20:36:52.511966Z",
     "iopub.status.idle": "2025-07-30T20:36:52.557348Z",
     "shell.execute_reply": "2025-07-30T20:36:52.556463Z"
    },
    "papermill": {
     "duration": 0.067409,
     "end_time": "2025-07-30T20:36:52.559185",
     "exception": false,
     "start_time": "2025-07-30T20:36:52.491776",
     "status": "completed"
    },
    "tags": []
   },
   "outputs": [],
   "source": [
    "# Auto-reload the custom package\n",
    "%load_ext autoreload\n",
    "%autoreload 1\n",
    "%aimport fairness_multiverse"
   ]
  },
  {
   "cell_type": "code",
   "execution_count": 7,
   "id": "01c5c9f3",
   "metadata": {
    "execution": {
     "iopub.execute_input": "2025-07-30T20:36:52.599753Z",
     "iopub.status.busy": "2025-07-30T20:36:52.598904Z",
     "iopub.status.idle": "2025-07-30T20:36:54.455456Z",
     "shell.execute_reply": "2025-07-30T20:36:54.454712Z"
    },
    "papermill": {
     "duration": 1.878416,
     "end_time": "2025-07-30T20:36:54.456928",
     "exception": false,
     "start_time": "2025-07-30T20:36:52.578512",
     "status": "completed"
    },
    "tags": []
   },
   "outputs": [],
   "source": [
    "from fairness_multiverse.universe import UniverseAnalysis\n",
    "\n",
    "universe_analysis = UniverseAnalysis(\n",
    "    run_no = run_no,\n",
    "    universe_id = universe_id,\n",
    "    universe = universe,\n",
    "    output_dir=output_dir,\n",
    ")"
   ]
  },
  {
   "cell_type": "code",
   "execution_count": 8,
   "id": "106241f5",
   "metadata": {
    "execution": {
     "iopub.execute_input": "2025-07-30T20:36:54.486889Z",
     "iopub.status.busy": "2025-07-30T20:36:54.486482Z",
     "iopub.status.idle": "2025-07-30T20:36:54.493125Z",
     "shell.execute_reply": "2025-07-30T20:36:54.492117Z"
    },
    "papermill": {
     "duration": 0.027826,
     "end_time": "2025-07-30T20:36:54.495422",
     "exception": false,
     "start_time": "2025-07-30T20:36:54.467596",
     "status": "completed"
    },
    "tags": []
   },
   "outputs": [
    {
     "name": "stdout",
     "output_type": "stream",
     "text": [
      "Using Seed: 2023\n"
     ]
    }
   ],
   "source": [
    "import numpy as np\n",
    "parsed_seed = int(seed)\n",
    "np.random.seed(parsed_seed)\n",
    "print(f\"Using Seed: {parsed_seed}\")"
   ]
  },
  {
   "cell_type": "markdown",
   "id": "e0ebdc57",
   "metadata": {
    "papermill": {
     "duration": 0.021176,
     "end_time": "2025-07-30T20:36:54.538515",
     "exception": false,
     "start_time": "2025-07-30T20:36:54.517339",
     "status": "completed"
    },
    "tags": []
   },
   "source": [
    "# Loading Data"
   ]
  },
  {
   "cell_type": "markdown",
   "id": "681925a3",
   "metadata": {
    "papermill": {
     "duration": 0.02856,
     "end_time": "2025-07-30T20:36:54.595574",
     "exception": false,
     "start_time": "2025-07-30T20:36:54.567014",
     "status": "completed"
    },
    "tags": []
   },
   "source": [
    "Load siab_train, siab_test, siab_calib and/or \n",
    "load siab_train_features, siab_train_labels"
   ]
  },
  {
   "cell_type": "code",
   "execution_count": 9,
   "id": "f0496b8a",
   "metadata": {
    "execution": {
     "iopub.execute_input": "2025-07-30T20:36:54.619025Z",
     "iopub.status.busy": "2025-07-30T20:36:54.618579Z",
     "iopub.status.idle": "2025-07-30T20:37:08.259131Z",
     "shell.execute_reply": "2025-07-30T20:37:08.257974Z"
    },
    "papermill": {
     "duration": 13.653412,
     "end_time": "2025-07-30T20:37:08.260880",
     "exception": false,
     "start_time": "2025-07-30T20:36:54.607468",
     "status": "completed"
    },
    "tags": []
   },
   "outputs": [
    {
     "name": "stdout",
     "output_type": "stream",
     "text": [
      "Loading SIAB data from cache: data/siab_cached.csv.gz\n"
     ]
    },
    {
     "name": "stdout",
     "output_type": "stream",
     "text": [
      "(643690, 164)\n"
     ]
    }
   ],
   "source": [
    "from pathlib import Path\n",
    "import pandas as pd\n",
    "\n",
    "# File paths\n",
    "raw_file = Path(\"data/raw/siab.csv\")\n",
    "cache_file = Path(\"data/siab_cached.csv.gz\")\n",
    "\n",
    "# Ensure cache directory exists\n",
    "cache_file.parent.mkdir(parents=True, exist_ok=True)\n",
    "\n",
    "# Load with simple caching\n",
    "if cache_file.exists():\n",
    "    print(f\"Loading SIAB data from cache: {cache_file}\")\n",
    "    siab = pd.read_csv(cache_file, compression='gzip')\n",
    "else:\n",
    "    print(f\"Cache not found. Reading raw SIAB data: {raw_file}\")\n",
    "    siab = pd.read_csv(raw_file)\n",
    "    siab.to_csv(cache_file, index=False, compression='gzip')\n",
    "    print(f\"Cached SIAB data to: {cache_file}\")\n",
    "\n",
    "# Now use `siab` DataFrame as needed\n",
    "print(siab.shape)"
   ]
  },
  {
   "cell_type": "code",
   "execution_count": 10,
   "id": "db0ca512-5f53-4dba-abdb-a2888bca41ba",
   "metadata": {
    "execution": {
     "iopub.execute_input": "2025-07-30T20:37:08.307557Z",
     "iopub.status.busy": "2025-07-30T20:37:08.307002Z",
     "iopub.status.idle": "2025-07-30T20:37:08.313067Z",
     "shell.execute_reply": "2025-07-30T20:37:08.311995Z"
    },
    "papermill": {
     "duration": 0.029914,
     "end_time": "2025-07-30T20:37:08.314734",
     "exception": false,
     "start_time": "2025-07-30T20:37:08.284820",
     "status": "completed"
    },
    "tags": []
   },
   "outputs": [],
   "source": [
    "#siab"
   ]
  },
  {
   "cell_type": "code",
   "execution_count": 11,
   "id": "a0edb063",
   "metadata": {
    "execution": {
     "iopub.execute_input": "2025-07-30T20:37:08.358885Z",
     "iopub.status.busy": "2025-07-30T20:37:08.358196Z",
     "iopub.status.idle": "2025-07-30T20:37:08.363525Z",
     "shell.execute_reply": "2025-07-30T20:37:08.362595Z"
    },
    "papermill": {
     "duration": 0.028929,
     "end_time": "2025-07-30T20:37:08.365339",
     "exception": false,
     "start_time": "2025-07-30T20:37:08.336410",
     "status": "completed"
    },
    "tags": []
   },
   "outputs": [],
   "source": [
    "#import pandas as pd\n",
    "#\n",
    "#X_train = pd.read_csv(\"./data/X_train.csv\")\n",
    "#y_train = pd.read_csv(\"./data/y_train.csv\")"
   ]
  },
  {
   "cell_type": "code",
   "execution_count": 12,
   "id": "63d08085",
   "metadata": {
    "execution": {
     "iopub.execute_input": "2025-07-30T20:37:08.409933Z",
     "iopub.status.busy": "2025-07-30T20:37:08.409192Z",
     "iopub.status.idle": "2025-07-30T20:37:08.414691Z",
     "shell.execute_reply": "2025-07-30T20:37:08.413767Z"
    },
    "papermill": {
     "duration": 0.029129,
     "end_time": "2025-07-30T20:37:08.416528",
     "exception": false,
     "start_time": "2025-07-30T20:37:08.387399",
     "status": "completed"
    },
    "tags": []
   },
   "outputs": [],
   "source": [
    "#X_test = pd.read_csv(\"./data/X_test.csv\")\n",
    "#y_true = pd.read_csv(\"./data/y_test.csv\")"
   ]
  },
  {
   "cell_type": "code",
   "execution_count": 13,
   "id": "98a8d0fa-1d3d-4ed8-bb2c-281470e24add",
   "metadata": {
    "execution": {
     "iopub.execute_input": "2025-07-30T20:37:08.461797Z",
     "iopub.status.busy": "2025-07-30T20:37:08.460900Z",
     "iopub.status.idle": "2025-07-30T20:37:08.466077Z",
     "shell.execute_reply": "2025-07-30T20:37:08.465068Z"
    },
    "papermill": {
     "duration": 0.029116,
     "end_time": "2025-07-30T20:37:08.467941",
     "exception": false,
     "start_time": "2025-07-30T20:37:08.438825",
     "status": "completed"
    },
    "tags": []
   },
   "outputs": [],
   "source": [
    "# Calibration data for conformal\n",
    "#X_calib = pd.read_csv(\"./data/X_calib.csv\")\n",
    "#y_calib = pd.read_csv(\"./data/y_calib.csv\")"
   ]
  },
  {
   "cell_type": "markdown",
   "id": "997051c5-15bd-4b69-9786-c3001a3ce484",
   "metadata": {
    "papermill": {
     "duration": 0.020317,
     "end_time": "2025-07-30T20:37:08.509896",
     "exception": false,
     "start_time": "2025-07-30T20:37:08.489579",
     "status": "completed"
    },
    "tags": []
   },
   "source": [
    "# Splitting Data and Setting Training Data Size"
   ]
  },
  {
   "cell_type": "code",
   "execution_count": 14,
   "id": "e993b61f-042d-41a6-8c81-f55681f86335",
   "metadata": {
    "execution": {
     "iopub.execute_input": "2025-07-30T20:37:08.552907Z",
     "iopub.status.busy": "2025-07-30T20:37:08.552085Z",
     "iopub.status.idle": "2025-07-30T20:37:08.564899Z",
     "shell.execute_reply": "2025-07-30T20:37:08.563977Z"
    },
    "papermill": {
     "duration": 0.036144,
     "end_time": "2025-07-30T20:37:08.566592",
     "exception": false,
     "start_time": "2025-07-30T20:37:08.530448",
     "status": "completed"
    },
    "tags": []
   },
   "outputs": [],
   "source": [
    "def sample_by_year_size(df,\n",
    "                        training_year: str,\n",
    "                        training_size: str,\n",
    "                        random_state: int = 42):\n",
    "    # --- parse training_year into a list of int years ---\n",
    "    if \"_\" in training_year:\n",
    "        start_str, end_str = training_year.split(\"_\", 1)\n",
    "        start = int(start_str)\n",
    "        end   = int(end_str) if len(end_str) == 4 else (int(end_str) + (start // 100)*100)\n",
    "        years = list(range(start, end + 1))\n",
    "    else:\n",
    "        years = [int(training_year)]\n",
    "\n",
    "    df = df[df[\"year\"].isin(years)].reset_index(drop=True)\n",
    "\n",
    "    # --- map training_size to total number of samples ---\n",
    "    total_map = {\"25k\": 25_000, \"5k\": 5_000, \"1k\": 1_000}\n",
    "    if training_size not in total_map:\n",
    "        return df  # e.g. \"all\"\n",
    "\n",
    "    total_samples = total_map[training_size]\n",
    "    n_years       = len(years)\n",
    "    base          = total_samples // n_years\n",
    "    remainder     = total_samples % n_years\n",
    "\n",
    "    # --- build a dict: year -> how many to sample ---\n",
    "    # give +1 to the first `remainder` years in ascending order\n",
    "    quotas = {\n",
    "        year: base + (1 if idx < remainder else 0)\n",
    "        for idx, year in enumerate(sorted(years))\n",
    "    }\n",
    "\n",
    "    # --- sample per‐year according to the quota dict ---\n",
    "    sampled = (\n",
    "        df\n",
    "        .groupby(\"year\", group_keys=False)\n",
    "        .apply(lambda grp: grp.sample(\n",
    "            n=min(len(grp), quotas[grp.name]),\n",
    "            random_state=random_state))\n",
    "        .reset_index(drop=True)\n",
    "    )\n",
    "\n",
    "    return sampled"
   ]
  },
  {
   "cell_type": "code",
   "execution_count": 15,
   "id": "c0ccd338-0e02-41f3-a09d-f56f9266e3fb",
   "metadata": {
    "execution": {
     "iopub.execute_input": "2025-07-30T20:37:08.611216Z",
     "iopub.status.busy": "2025-07-30T20:37:08.610555Z",
     "iopub.status.idle": "2025-07-30T20:37:08.615683Z",
     "shell.execute_reply": "2025-07-30T20:37:08.614654Z"
    },
    "papermill": {
     "duration": 0.028571,
     "end_time": "2025-07-30T20:37:08.617472",
     "exception": false,
     "start_time": "2025-07-30T20:37:08.588901",
     "status": "completed"
    },
    "tags": []
   },
   "outputs": [],
   "source": [
    "#universe[\"training_size\"]"
   ]
  },
  {
   "cell_type": "code",
   "execution_count": 16,
   "id": "ca707fd7-8047-4acd-bfa5-66248fbbf8e6",
   "metadata": {
    "execution": {
     "iopub.execute_input": "2025-07-30T20:37:08.661288Z",
     "iopub.status.busy": "2025-07-30T20:37:08.660416Z",
     "iopub.status.idle": "2025-07-30T20:37:08.665661Z",
     "shell.execute_reply": "2025-07-30T20:37:08.664642Z"
    },
    "papermill": {
     "duration": 0.028209,
     "end_time": "2025-07-30T20:37:08.667460",
     "exception": false,
     "start_time": "2025-07-30T20:37:08.639251",
     "status": "completed"
    },
    "tags": []
   },
   "outputs": [],
   "source": [
    "#universe[\"training_year\"]"
   ]
  },
  {
   "cell_type": "code",
   "execution_count": 17,
   "id": "aea9c6ef-6f46-42c8-85eb-5a62025c1508",
   "metadata": {
    "execution": {
     "iopub.execute_input": "2025-07-30T20:37:08.709790Z",
     "iopub.status.busy": "2025-07-30T20:37:08.707955Z",
     "iopub.status.idle": "2025-07-30T20:37:09.864150Z",
     "shell.execute_reply": "2025-07-30T20:37:09.863112Z"
    },
    "papermill": {
     "duration": 1.178495,
     "end_time": "2025-07-30T20:37:09.866091",
     "exception": false,
     "start_time": "2025-07-30T20:37:08.687596",
     "status": "completed"
    },
    "tags": []
   },
   "outputs": [],
   "source": [
    "siab_train = sample_by_year_size(siab,\n",
    "                               training_year=universe[\"training_year\"],\n",
    "                               training_size=universe[\"training_size\"])"
   ]
  },
  {
   "cell_type": "code",
   "execution_count": 18,
   "id": "8d3afb32-789d-442c-8d5d-9f5aa8dd2eed",
   "metadata": {
    "execution": {
     "iopub.execute_input": "2025-07-30T20:37:09.916478Z",
     "iopub.status.busy": "2025-07-30T20:37:09.915856Z",
     "iopub.status.idle": "2025-07-30T20:37:09.921328Z",
     "shell.execute_reply": "2025-07-30T20:37:09.920384Z"
    },
    "papermill": {
     "duration": 0.031224,
     "end_time": "2025-07-30T20:37:09.923245",
     "exception": false,
     "start_time": "2025-07-30T20:37:09.892021",
     "status": "completed"
    },
    "tags": []
   },
   "outputs": [],
   "source": [
    "#siab_train.shape"
   ]
  },
  {
   "cell_type": "code",
   "execution_count": 19,
   "id": "d582db68-1a4c-47fb-84fc-08518dc1975a",
   "metadata": {
    "execution": {
     "iopub.execute_input": "2025-07-30T20:37:09.968586Z",
     "iopub.status.busy": "2025-07-30T20:37:09.967665Z",
     "iopub.status.idle": "2025-07-30T20:37:09.973228Z",
     "shell.execute_reply": "2025-07-30T20:37:09.972200Z"
    },
    "papermill": {
     "duration": 0.029275,
     "end_time": "2025-07-30T20:37:09.975074",
     "exception": false,
     "start_time": "2025-07-30T20:37:09.945799",
     "status": "completed"
    },
    "tags": []
   },
   "outputs": [],
   "source": [
    "#display(siab_train.groupby(\"year\").size())"
   ]
  },
  {
   "cell_type": "code",
   "execution_count": 20,
   "id": "a561edb4-d032-42cb-8256-22eac1111c64",
   "metadata": {
    "execution": {
     "iopub.execute_input": "2025-07-30T20:37:10.020109Z",
     "iopub.status.busy": "2025-07-30T20:37:10.019591Z",
     "iopub.status.idle": "2025-07-30T20:37:10.267378Z",
     "shell.execute_reply": "2025-07-30T20:37:10.266418Z"
    },
    "papermill": {
     "duration": 0.271691,
     "end_time": "2025-07-30T20:37:10.269382",
     "exception": false,
     "start_time": "2025-07-30T20:37:09.997691",
     "status": "completed"
    },
    "tags": []
   },
   "outputs": [],
   "source": [
    "#siab_train = siab_s[siab_s.year < 2015]\n",
    "siab_calib = siab[siab.year == 2015]\n",
    "siab_test = siab[siab.year == 2016]"
   ]
  },
  {
   "cell_type": "code",
   "execution_count": 21,
   "id": "472de16f-c3db-4916-846b-1f0de9cf1746",
   "metadata": {
    "execution": {
     "iopub.execute_input": "2025-07-30T20:37:10.314417Z",
     "iopub.status.busy": "2025-07-30T20:37:10.313879Z",
     "iopub.status.idle": "2025-07-30T20:37:10.329551Z",
     "shell.execute_reply": "2025-07-30T20:37:10.328428Z"
    },
    "papermill": {
     "duration": 0.039726,
     "end_time": "2025-07-30T20:37:10.331426",
     "exception": false,
     "start_time": "2025-07-30T20:37:10.291700",
     "status": "completed"
    },
    "tags": []
   },
   "outputs": [],
   "source": [
    "X_train = siab_train.iloc[:,4:164]\n",
    "y_train = siab_train.iloc[:, [3]]"
   ]
  },
  {
   "cell_type": "code",
   "execution_count": 22,
   "id": "828c96af-f43a-4ed6-ba47-8ac73a47d56c",
   "metadata": {
    "execution": {
     "iopub.execute_input": "2025-07-30T20:37:10.378338Z",
     "iopub.status.busy": "2025-07-30T20:37:10.377369Z",
     "iopub.status.idle": "2025-07-30T20:37:10.432196Z",
     "shell.execute_reply": "2025-07-30T20:37:10.430983Z"
    },
    "papermill": {
     "duration": 0.08064,
     "end_time": "2025-07-30T20:37:10.434450",
     "exception": false,
     "start_time": "2025-07-30T20:37:10.353810",
     "status": "completed"
    },
    "tags": []
   },
   "outputs": [],
   "source": [
    "X_calib = siab_calib.iloc[:,4:164]\n",
    "y_calib = siab_calib.iloc[:, [3]]"
   ]
  },
  {
   "cell_type": "code",
   "execution_count": 23,
   "id": "c34be9c3-6bd6-476e-acd3-845840e303be",
   "metadata": {
    "execution": {
     "iopub.execute_input": "2025-07-30T20:37:10.479707Z",
     "iopub.status.busy": "2025-07-30T20:37:10.478915Z",
     "iopub.status.idle": "2025-07-30T20:37:10.530944Z",
     "shell.execute_reply": "2025-07-30T20:37:10.529924Z"
    },
    "papermill": {
     "duration": 0.076011,
     "end_time": "2025-07-30T20:37:10.532852",
     "exception": false,
     "start_time": "2025-07-30T20:37:10.456841",
     "status": "completed"
    },
    "tags": []
   },
   "outputs": [],
   "source": [
    "X_test = siab_test.iloc[:,4:164]\n",
    "y_true = siab_test.iloc[:, [3]]"
   ]
  },
  {
   "cell_type": "markdown",
   "id": "9901737e-04df-44f0-9100-f5ad144ed040",
   "metadata": {
    "papermill": {
     "duration": 0.023789,
     "end_time": "2025-07-30T20:37:10.581635",
     "exception": false,
     "start_time": "2025-07-30T20:37:10.557846",
     "status": "completed"
    },
    "tags": []
   },
   "source": [
    "# Splitting Data and Setting Training Data Size OLD VERSION"
   ]
  },
  {
   "cell_type": "code",
   "execution_count": 24,
   "id": "acbc8f7d-8fc8-4e86-8c59-5dcb0f58384b",
   "metadata": {
    "execution": {
     "iopub.execute_input": "2025-07-30T20:37:10.632138Z",
     "iopub.status.busy": "2025-07-30T20:37:10.631113Z",
     "iopub.status.idle": "2025-07-30T20:37:10.637089Z",
     "shell.execute_reply": "2025-07-30T20:37:10.636070Z"
    },
    "papermill": {
     "duration": 0.033715,
     "end_time": "2025-07-30T20:37:10.638848",
     "exception": false,
     "start_time": "2025-07-30T20:37:10.605133",
     "status": "completed"
    },
    "tags": []
   },
   "outputs": [],
   "source": [
    "#def sample_by_year(df, training_size, random_state=42):\n",
    "#    if training_size == \"2014\":\n",
    "#        return df[df[\"year\"] == 2014].reset_index(drop=True)\n",
    "#    \n",
    "#    size_map = {\n",
    "#        \"25k\": 5000,\n",
    "#        \"5k\": 1000,\n",
    "#        \"1k\": 200\n",
    "#    }\n",
    "#\n",
    "#    if training_size not in size_map:\n",
    "#        return df.reset_index(drop=True)  # use all data\n",
    "#\n",
    "#    n_per_year = size_map[training_size]\n",
    "#    grouped = df.groupby(\"year\")\n",
    "#    sampled = grouped.apply(lambda x: x.sample(n=min(n_per_year, len(x)), random_state=random_state))\n",
    "#    return sampled.reset_index(drop=True)"
   ]
  },
  {
   "cell_type": "code",
   "execution_count": 25,
   "id": "6d931f52-beaf-43ff-9e78-9d44a448d54e",
   "metadata": {
    "execution": {
     "iopub.execute_input": "2025-07-30T20:37:10.691998Z",
     "iopub.status.busy": "2025-07-30T20:37:10.691308Z",
     "iopub.status.idle": "2025-07-30T20:37:10.696944Z",
     "shell.execute_reply": "2025-07-30T20:37:10.695852Z"
    },
    "papermill": {
     "duration": 0.033128,
     "end_time": "2025-07-30T20:37:10.698902",
     "exception": false,
     "start_time": "2025-07-30T20:37:10.665774",
     "status": "completed"
    },
    "tags": []
   },
   "outputs": [],
   "source": [
    "#siab_s = sample_by_year(siab, universe[\"training_size\"])"
   ]
  },
  {
   "cell_type": "code",
   "execution_count": 26,
   "id": "5db0a40e-a4e2-4920-be85-b12ae061d70d",
   "metadata": {
    "execution": {
     "iopub.execute_input": "2025-07-30T20:37:10.751233Z",
     "iopub.status.busy": "2025-07-30T20:37:10.750501Z",
     "iopub.status.idle": "2025-07-30T20:37:10.756014Z",
     "shell.execute_reply": "2025-07-30T20:37:10.754866Z"
    },
    "papermill": {
     "duration": 0.032768,
     "end_time": "2025-07-30T20:37:10.757842",
     "exception": false,
     "start_time": "2025-07-30T20:37:10.725074",
     "status": "completed"
    },
    "tags": []
   },
   "outputs": [],
   "source": [
    "#display(siab_s.groupby(\"year\").size())"
   ]
  },
  {
   "cell_type": "code",
   "execution_count": 27,
   "id": "e6c733c5",
   "metadata": {
    "execution": {
     "iopub.execute_input": "2025-07-30T20:37:10.810462Z",
     "iopub.status.busy": "2025-07-30T20:37:10.809782Z",
     "iopub.status.idle": "2025-07-30T20:37:10.914145Z",
     "shell.execute_reply": "2025-07-30T20:37:10.913143Z"
    },
    "papermill": {
     "duration": 0.132391,
     "end_time": "2025-07-30T20:37:10.916397",
     "exception": false,
     "start_time": "2025-07-30T20:37:10.784006",
     "status": "completed"
    },
    "tags": []
   },
   "outputs": [],
   "source": [
    "# Auxiliary data needed downstream in the pipeline\n",
    "\n",
    "org_train = X_train.copy()\n",
    "org_test = X_test.copy()\n",
    "org_calib = X_calib.copy()"
   ]
  },
  {
   "cell_type": "code",
   "execution_count": 28,
   "id": "1466abac-c6da-4492-a62f-4240ae3783af",
   "metadata": {
    "execution": {
     "iopub.execute_input": "2025-07-30T20:37:10.964550Z",
     "iopub.status.busy": "2025-07-30T20:37:10.963648Z",
     "iopub.status.idle": "2025-07-30T20:37:10.970398Z",
     "shell.execute_reply": "2025-07-30T20:37:10.969389Z"
    },
    "papermill": {
     "duration": 0.032579,
     "end_time": "2025-07-30T20:37:10.972095",
     "exception": false,
     "start_time": "2025-07-30T20:37:10.939516",
     "status": "completed"
    },
    "tags": []
   },
   "outputs": [],
   "source": [
    "# put in other script?\n",
    "# Group sizes\n",
    "\n",
    "#def calculate_percentages(df, df_name):\n",
    "#    total_entries = len(df)\n",
    "#\n",
    "#    female_pct = (df['frau1'] == 1).mean() * 100\n",
    "#    non_german_pct = ((df['maxdeutsch1'] == 0) & (df['maxdeutsch.Missing.'] == 0)).mean() * 100\n",
    "#    non_german_male_pct = ((df['frau1'] == 0) & (df['maxdeutsch1'] == 0) & (df['maxdeutsch.Missing.'] == 0)).mean() * 100\n",
    "#    non_german_female_pct = ((df['frau1'] == 1) & (df['maxdeutsch1'] == 0) & (df['maxdeutsch.Missing.'] == 0)).mean() * 100\n",
    "#\n",
    "#    print(f\"--- {df_name} ---\")\n",
    "#    print(f\"Female: {female_pct:.2f}%\")\n",
    "#    print(f\"Non-German: {non_german_pct:.2f}%\")\n",
    "#    print(f\"Non-German Male: {non_german_male_pct:.2f}%\")\n",
    "#    print(f\"Non-German Female: {non_german_female_pct:.2f}%\\n\")\n",
    "#\n",
    "## Calculate for each DataFrame\n",
    "#calculate_percentages(siab_calib, \"siab_calib\")\n",
    "#calculate_percentages(siab_test, \"siab_test\")\n",
    "#calculate_percentages(siab_train, \"siab_train\")"
   ]
  },
  {
   "cell_type": "markdown",
   "id": "0a4a1b33",
   "metadata": {
    "papermill": {
     "duration": 0.022183,
     "end_time": "2025-07-30T20:37:11.017583",
     "exception": false,
     "start_time": "2025-07-30T20:37:10.995400",
     "status": "completed"
    },
    "tags": []
   },
   "source": [
    "# Preprocessing Data"
   ]
  },
  {
   "cell_type": "code",
   "execution_count": 29,
   "id": "ca879031",
   "metadata": {
    "execution": {
     "iopub.execute_input": "2025-07-30T20:37:11.064432Z",
     "iopub.status.busy": "2025-07-30T20:37:11.063773Z",
     "iopub.status.idle": "2025-07-30T20:37:11.070379Z",
     "shell.execute_reply": "2025-07-30T20:37:11.069282Z"
    },
    "papermill": {
     "duration": 0.032661,
     "end_time": "2025-07-30T20:37:11.072536",
     "exception": false,
     "start_time": "2025-07-30T20:37:11.039875",
     "status": "completed"
    },
    "tags": []
   },
   "outputs": [],
   "source": [
    "# EXCLUDE PROTECTED FEATURES\n",
    "# ----------------------\n",
    "# \"exclude_features\": \"none\", # \"nationality\", \"sex\", \"nationality-sex\"\n",
    "\n",
    "excluded_features = universe[\"exclude_features\"].split(\"-\") # split, e.g.: \"nationality-sex\" -> [\"nationality\", \"sex\"]\n",
    "excluded_features_dictionary = {\n",
    "    \"nationality\": [\"maxdeutsch1\", \"maxdeutsch.Missing.\"],\n",
    "    \"sex\": [\"frau1\"],\n",
    "    \"age\": [\"age\"],\n",
    "}\n"
   ]
  },
  {
   "cell_type": "code",
   "execution_count": 30,
   "id": "b745ac60",
   "metadata": {
    "execution": {
     "iopub.execute_input": "2025-07-30T20:37:11.121087Z",
     "iopub.status.busy": "2025-07-30T20:37:11.120459Z",
     "iopub.status.idle": "2025-07-30T20:37:11.126585Z",
     "shell.execute_reply": "2025-07-30T20:37:11.125500Z"
    },
    "papermill": {
     "duration": 0.032278,
     "end_time": "2025-07-30T20:37:11.128375",
     "exception": false,
     "start_time": "2025-07-30T20:37:11.096097",
     "status": "completed"
    },
    "tags": []
   },
   "outputs": [],
   "source": [
    "# Code nice names to column names\n",
    "\n",
    "excluded_features_columns = [\n",
    "    excluded_features_dictionary[f] for f in excluded_features if len(f) > 0 and f != \"none\"\n",
    "]"
   ]
  },
  {
   "cell_type": "code",
   "execution_count": 31,
   "id": "f84f73a2",
   "metadata": {
    "execution": {
     "iopub.execute_input": "2025-07-30T20:37:11.176770Z",
     "iopub.status.busy": "2025-07-30T20:37:11.176134Z",
     "iopub.status.idle": "2025-07-30T20:37:11.183576Z",
     "shell.execute_reply": "2025-07-30T20:37:11.182545Z"
    },
    "papermill": {
     "duration": 0.033877,
     "end_time": "2025-07-30T20:37:11.185459",
     "exception": false,
     "start_time": "2025-07-30T20:37:11.151582",
     "status": "completed"
    },
    "tags": []
   },
   "outputs": [],
   "source": [
    "from utils import flatten_once\n",
    "\n",
    "excluded_features_columns = flatten_once(excluded_features_columns)"
   ]
  },
  {
   "cell_type": "code",
   "execution_count": 32,
   "id": "884dea22",
   "metadata": {
    "execution": {
     "iopub.execute_input": "2025-07-30T20:37:11.234223Z",
     "iopub.status.busy": "2025-07-30T20:37:11.233415Z",
     "iopub.status.idle": "2025-07-30T20:37:11.250091Z",
     "shell.execute_reply": "2025-07-30T20:37:11.248980Z"
    },
    "papermill": {
     "duration": 0.042464,
     "end_time": "2025-07-30T20:37:11.251928",
     "exception": false,
     "start_time": "2025-07-30T20:37:11.209464",
     "status": "completed"
    },
    "tags": []
   },
   "outputs": [
    {
     "name": "stdout",
     "output_type": "stream",
     "text": [
      "Dropping features: ['maxdeutsch1', 'maxdeutsch.Missing.']\n"
     ]
    }
   ],
   "source": [
    "if len(excluded_features_columns) > 0:\n",
    "    print(f\"Dropping features: {excluded_features_columns}\")\n",
    "    X_train.drop(excluded_features_columns, axis=1, inplace=True)"
   ]
  },
  {
   "cell_type": "code",
   "execution_count": 33,
   "id": "95ab8b16",
   "metadata": {
    "execution": {
     "iopub.execute_input": "2025-07-30T20:37:11.305513Z",
     "iopub.status.busy": "2025-07-30T20:37:11.304808Z",
     "iopub.status.idle": "2025-07-30T20:37:11.361786Z",
     "shell.execute_reply": "2025-07-30T20:37:11.360600Z"
    },
    "papermill": {
     "duration": 0.085065,
     "end_time": "2025-07-30T20:37:11.363689",
     "exception": false,
     "start_time": "2025-07-30T20:37:11.278624",
     "status": "completed"
    },
    "tags": []
   },
   "outputs": [
    {
     "name": "stdout",
     "output_type": "stream",
     "text": [
      "Dropping features: ['maxdeutsch1', 'maxdeutsch.Missing.']\n"
     ]
    }
   ],
   "source": [
    "if len(excluded_features_columns) > 0:\n",
    "    print(f\"Dropping features: {excluded_features_columns}\")\n",
    "    X_test.drop(excluded_features_columns, axis=1, inplace=True)"
   ]
  },
  {
   "cell_type": "code",
   "execution_count": 34,
   "id": "1853aaf5-fb9f-46cb-a2b5-8ea4ae2237e4",
   "metadata": {
    "execution": {
     "iopub.execute_input": "2025-07-30T20:37:11.411295Z",
     "iopub.status.busy": "2025-07-30T20:37:11.410664Z",
     "iopub.status.idle": "2025-07-30T20:37:11.468213Z",
     "shell.execute_reply": "2025-07-30T20:37:11.467134Z"
    },
    "papermill": {
     "duration": 0.083108,
     "end_time": "2025-07-30T20:37:11.470458",
     "exception": false,
     "start_time": "2025-07-30T20:37:11.387350",
     "status": "completed"
    },
    "tags": []
   },
   "outputs": [
    {
     "name": "stdout",
     "output_type": "stream",
     "text": [
      "Dropping features: ['maxdeutsch1', 'maxdeutsch.Missing.']\n"
     ]
    }
   ],
   "source": [
    "if len(excluded_features_columns) > 0:\n",
    "    print(f\"Dropping features: {excluded_features_columns}\")\n",
    "    X_calib.drop(excluded_features_columns, axis=1, inplace=True)"
   ]
  },
  {
   "cell_type": "code",
   "execution_count": 35,
   "id": "6727d079-03e5-481e-9d38-292a90b7a0a8",
   "metadata": {
    "execution": {
     "iopub.execute_input": "2025-07-30T20:37:11.517322Z",
     "iopub.status.busy": "2025-07-30T20:37:11.516840Z",
     "iopub.status.idle": "2025-07-30T20:37:11.521530Z",
     "shell.execute_reply": "2025-07-30T20:37:11.520634Z"
    },
    "papermill": {
     "duration": 0.027435,
     "end_time": "2025-07-30T20:37:11.523130",
     "exception": false,
     "start_time": "2025-07-30T20:37:11.495695",
     "status": "completed"
    },
    "tags": []
   },
   "outputs": [],
   "source": [
    "# SPLIT & STRATIFY DATA\n",
    "# ----------------------"
   ]
  },
  {
   "cell_type": "code",
   "execution_count": 36,
   "id": "76c4dc6d",
   "metadata": {
    "execution": {
     "iopub.execute_input": "2025-07-30T20:37:11.561790Z",
     "iopub.status.busy": "2025-07-30T20:37:11.561392Z",
     "iopub.status.idle": "2025-07-30T20:37:11.566178Z",
     "shell.execute_reply": "2025-07-30T20:37:11.565301Z"
    },
    "papermill": {
     "duration": 0.023351,
     "end_time": "2025-07-30T20:37:11.567411",
     "exception": false,
     "start_time": "2025-07-30T20:37:11.544060",
     "status": "completed"
    },
    "tags": []
   },
   "outputs": [],
   "source": [
    "# EXCLUDE CERTAIN SUBGROUPS\n",
    "# ----------------------\n",
    "\n",
    "mode = universe.get(\"exclude_subgroups\", \"keep-all\") \n",
    "# Fetches the exclude_subgroups setting from the universe dict.\n",
    "# Defaults to \"keep-all\" if the key is missing."
   ]
  },
  {
   "cell_type": "code",
   "execution_count": 37,
   "id": "21994072",
   "metadata": {
    "execution": {
     "iopub.execute_input": "2025-07-30T20:37:11.592624Z",
     "iopub.status.busy": "2025-07-30T20:37:11.592067Z",
     "iopub.status.idle": "2025-07-30T20:37:11.597821Z",
     "shell.execute_reply": "2025-07-30T20:37:11.597018Z"
    },
    "papermill": {
     "duration": 0.019393,
     "end_time": "2025-07-30T20:37:11.599047",
     "exception": false,
     "start_time": "2025-07-30T20:37:11.579654",
     "status": "completed"
    },
    "tags": []
   },
   "outputs": [],
   "source": [
    "if mode == \"keep-all\":\n",
    "    keep_mask = pd.Series(True, index=org_train.index)\n",
    "\n",
    "# org_train contains the original feature columns from features_org (in Simson)\n",
    "# features_org contains unprocessed features, for me X_train at beginning ???\n",
    "# For keep-all, creates a boolean Series (keep_mask) of all True, so no rows are removed.\n",
    "\n",
    "elif mode == \"drop-non-german\":\n",
    "    keep_mask = org_train[\"maxdeutsch1\"] == 1 # ??? what about missing values?\n",
    "\n",
    "else:\n",
    "    raise ValueError(f\"Unsupported mode for exclude_subgroups: {mode}\")\n"
   ]
  },
  {
   "cell_type": "code",
   "execution_count": 38,
   "id": "71651440",
   "metadata": {
    "execution": {
     "iopub.execute_input": "2025-07-30T20:37:11.624749Z",
     "iopub.status.busy": "2025-07-30T20:37:11.624407Z",
     "iopub.status.idle": "2025-07-30T20:37:11.630039Z",
     "shell.execute_reply": "2025-07-30T20:37:11.629307Z"
    },
    "papermill": {
     "duration": 0.019463,
     "end_time": "2025-07-30T20:37:11.631291",
     "exception": false,
     "start_time": "2025-07-30T20:37:11.611828",
     "status": "completed"
    },
    "tags": []
   },
   "outputs": [],
   "source": [
    "n_drop = (~keep_mask).sum() # Calculates how many rows are set to be dropped\n",
    "if n_drop > 0:\n",
    "    pct = n_drop / len(keep_mask) * 100\n",
    "    print(f\"Dropping {n_drop} rows ({pct:.2f}%) where mode='{mode}'\")"
   ]
  },
  {
   "cell_type": "code",
   "execution_count": 39,
   "id": "5fb8eee5",
   "metadata": {
    "execution": {
     "iopub.execute_input": "2025-07-30T20:37:11.656576Z",
     "iopub.status.busy": "2025-07-30T20:37:11.656257Z",
     "iopub.status.idle": "2025-07-30T20:37:11.669238Z",
     "shell.execute_reply": "2025-07-30T20:37:11.668444Z"
    },
    "papermill": {
     "duration": 0.027081,
     "end_time": "2025-07-30T20:37:11.670781",
     "exception": false,
     "start_time": "2025-07-30T20:37:11.643700",
     "status": "completed"
    },
    "tags": []
   },
   "outputs": [],
   "source": [
    "X_train = X_train[keep_mask]"
   ]
  },
  {
   "cell_type": "code",
   "execution_count": 40,
   "id": "b202bb3a",
   "metadata": {
    "execution": {
     "iopub.execute_input": "2025-07-30T20:37:11.705314Z",
     "iopub.status.busy": "2025-07-30T20:37:11.704823Z",
     "iopub.status.idle": "2025-07-30T20:37:11.711369Z",
     "shell.execute_reply": "2025-07-30T20:37:11.710394Z"
    },
    "papermill": {
     "duration": 0.029121,
     "end_time": "2025-07-30T20:37:11.713055",
     "exception": false,
     "start_time": "2025-07-30T20:37:11.683934",
     "status": "completed"
    },
    "tags": []
   },
   "outputs": [],
   "source": [
    "y_train = y_train[keep_mask]"
   ]
  },
  {
   "cell_type": "markdown",
   "id": "493e2ac3",
   "metadata": {
    "papermill": {
     "duration": 0.024887,
     "end_time": "2025-07-30T20:37:11.762882",
     "exception": false,
     "start_time": "2025-07-30T20:37:11.737995",
     "status": "completed"
    },
    "tags": []
   },
   "source": [
    "# Model Training"
   ]
  },
  {
   "cell_type": "code",
   "execution_count": 41,
   "id": "679e1268",
   "metadata": {
    "execution": {
     "iopub.execute_input": "2025-07-30T20:37:11.813623Z",
     "iopub.status.busy": "2025-07-30T20:37:11.813111Z",
     "iopub.status.idle": "2025-07-30T20:37:11.895881Z",
     "shell.execute_reply": "2025-07-30T20:37:11.894978Z"
    },
    "papermill": {
     "duration": 0.109509,
     "end_time": "2025-07-30T20:37:11.897426",
     "exception": false,
     "start_time": "2025-07-30T20:37:11.787917",
     "status": "completed"
    },
    "tags": []
   },
   "outputs": [],
   "source": [
    "from sklearn.linear_model import LogisticRegression\n",
    "from sklearn.ensemble import GradientBoostingClassifier, RandomForestClassifier\n",
    "\n",
    "if (universe[\"model\"] == \"logreg\"):\n",
    "    model = LogisticRegression() #penalty=\"none\") #, solver=\"newton-cg\", max_iter=1) # include random_state=19 ?\n",
    "elif (universe[\"model\"] == \"penalized_logreg\"):\n",
    "    model = LogisticRegression(penalty=\"l2\", C=1.0) #, solver=\"newton-cg\", max_iter=1)\n",
    "elif (universe[\"model\"] == \"rf\"):\n",
    "    model = RandomForestClassifier(n_estimators=100, n_jobs=-1)\n",
    "elif (universe[\"model\"] == \"gbm\"):\n",
    "    model = GradientBoostingClassifier()\n",
    "elif (universe[\"model\"] == \"elasticnet\"):\n",
    "    model = LogisticRegression(penalty = 'elasticnet', solver = 'saga', l1_ratio = 0.5, max_iter=5000) # which solver to use?\n",
    "else:\n",
    "    raise \"Unsupported universe.model\""
   ]
  },
  {
   "cell_type": "code",
   "execution_count": 42,
   "id": "0cc8f744",
   "metadata": {
    "execution": {
     "iopub.execute_input": "2025-07-30T20:37:11.923506Z",
     "iopub.status.busy": "2025-07-30T20:37:11.922727Z",
     "iopub.status.idle": "2025-07-30T20:37:11.928946Z",
     "shell.execute_reply": "2025-07-30T20:37:11.927950Z"
    },
    "papermill": {
     "duration": 0.02016,
     "end_time": "2025-07-30T20:37:11.930343",
     "exception": false,
     "start_time": "2025-07-30T20:37:11.910183",
     "status": "completed"
    },
    "tags": []
   },
   "outputs": [],
   "source": [
    "import numpy as np\n",
    "from sklearn.pipeline import Pipeline\n",
    "from sklearn.preprocessing import StandardScaler\n",
    "\n",
    "model = Pipeline([\n",
    "    #(\"continuous_processor\", continuous_processor),\n",
    "    #(\"categorical_preprocessor\", categorical_preprocessor),\n",
    "    (\"scale\", StandardScaler() if universe[\"scale\"] == \"scale\" else None), \n",
    "    (\"model\", model),\n",
    "])"
   ]
  },
  {
   "cell_type": "code",
   "execution_count": 43,
   "id": "9442c04d",
   "metadata": {
    "execution": {
     "iopub.execute_input": "2025-07-30T20:37:11.956528Z",
     "iopub.status.busy": "2025-07-30T20:37:11.955835Z",
     "iopub.status.idle": "2025-07-30T20:37:40.379822Z",
     "shell.execute_reply": "2025-07-30T20:37:40.378647Z"
    },
    "papermill": {
     "duration": 28.438374,
     "end_time": "2025-07-30T20:37:40.381714",
     "exception": false,
     "start_time": "2025-07-30T20:37:11.943340",
     "status": "completed"
    },
    "tags": []
   },
   "outputs": [
    {
     "data": {
      "text/html": [
       "<style>#sk-container-id-1 {color: black;background-color: white;}#sk-container-id-1 pre{padding: 0;}#sk-container-id-1 div.sk-toggleable {background-color: white;}#sk-container-id-1 label.sk-toggleable__label {cursor: pointer;display: block;width: 100%;margin-bottom: 0;padding: 0.3em;box-sizing: border-box;text-align: center;}#sk-container-id-1 label.sk-toggleable__label-arrow:before {content: \"▸\";float: left;margin-right: 0.25em;color: #696969;}#sk-container-id-1 label.sk-toggleable__label-arrow:hover:before {color: black;}#sk-container-id-1 div.sk-estimator:hover label.sk-toggleable__label-arrow:before {color: black;}#sk-container-id-1 div.sk-toggleable__content {max-height: 0;max-width: 0;overflow: hidden;text-align: left;background-color: #f0f8ff;}#sk-container-id-1 div.sk-toggleable__content pre {margin: 0.2em;color: black;border-radius: 0.25em;background-color: #f0f8ff;}#sk-container-id-1 input.sk-toggleable__control:checked~div.sk-toggleable__content {max-height: 200px;max-width: 100%;overflow: auto;}#sk-container-id-1 input.sk-toggleable__control:checked~label.sk-toggleable__label-arrow:before {content: \"▾\";}#sk-container-id-1 div.sk-estimator input.sk-toggleable__control:checked~label.sk-toggleable__label {background-color: #d4ebff;}#sk-container-id-1 div.sk-label input.sk-toggleable__control:checked~label.sk-toggleable__label {background-color: #d4ebff;}#sk-container-id-1 input.sk-hidden--visually {border: 0;clip: rect(1px 1px 1px 1px);clip: rect(1px, 1px, 1px, 1px);height: 1px;margin: -1px;overflow: hidden;padding: 0;position: absolute;width: 1px;}#sk-container-id-1 div.sk-estimator {font-family: monospace;background-color: #f0f8ff;border: 1px dotted black;border-radius: 0.25em;box-sizing: border-box;margin-bottom: 0.5em;}#sk-container-id-1 div.sk-estimator:hover {background-color: #d4ebff;}#sk-container-id-1 div.sk-parallel-item::after {content: \"\";width: 100%;border-bottom: 1px solid gray;flex-grow: 1;}#sk-container-id-1 div.sk-label:hover label.sk-toggleable__label {background-color: #d4ebff;}#sk-container-id-1 div.sk-serial::before {content: \"\";position: absolute;border-left: 1px solid gray;box-sizing: border-box;top: 0;bottom: 0;left: 50%;z-index: 0;}#sk-container-id-1 div.sk-serial {display: flex;flex-direction: column;align-items: center;background-color: white;padding-right: 0.2em;padding-left: 0.2em;position: relative;}#sk-container-id-1 div.sk-item {position: relative;z-index: 1;}#sk-container-id-1 div.sk-parallel {display: flex;align-items: stretch;justify-content: center;background-color: white;position: relative;}#sk-container-id-1 div.sk-item::before, #sk-container-id-1 div.sk-parallel-item::before {content: \"\";position: absolute;border-left: 1px solid gray;box-sizing: border-box;top: 0;bottom: 0;left: 50%;z-index: -1;}#sk-container-id-1 div.sk-parallel-item {display: flex;flex-direction: column;z-index: 1;position: relative;background-color: white;}#sk-container-id-1 div.sk-parallel-item:first-child::after {align-self: flex-end;width: 50%;}#sk-container-id-1 div.sk-parallel-item:last-child::after {align-self: flex-start;width: 50%;}#sk-container-id-1 div.sk-parallel-item:only-child::after {width: 0;}#sk-container-id-1 div.sk-dashed-wrapped {border: 1px dashed gray;margin: 0 0.4em 0.5em 0.4em;box-sizing: border-box;padding-bottom: 0.4em;background-color: white;}#sk-container-id-1 div.sk-label label {font-family: monospace;font-weight: bold;display: inline-block;line-height: 1.2em;}#sk-container-id-1 div.sk-label-container {text-align: center;}#sk-container-id-1 div.sk-container {/* jupyter's `normalize.less` sets `[hidden] { display: none; }` but bootstrap.min.css set `[hidden] { display: none !important; }` so we also need the `!important` here to be able to override the default hidden behavior on the sphinx rendered scikit-learn.org. See: https://github.com/scikit-learn/scikit-learn/issues/21755 */display: inline-block !important;position: relative;}#sk-container-id-1 div.sk-text-repr-fallback {display: none;}</style><div id=\"sk-container-id-1\" class=\"sk-top-container\"><div class=\"sk-text-repr-fallback\"><pre>Pipeline(steps=[(&#x27;scale&#x27;, None), (&#x27;model&#x27;, GradientBoostingClassifier())])</pre><b>In a Jupyter environment, please rerun this cell to show the HTML representation or trust the notebook. <br />On GitHub, the HTML representation is unable to render, please try loading this page with nbviewer.org.</b></div><div class=\"sk-container\" hidden><div class=\"sk-item sk-dashed-wrapped\"><div class=\"sk-label-container\"><div class=\"sk-label sk-toggleable\"><input class=\"sk-toggleable__control sk-hidden--visually\" id=\"sk-estimator-id-1\" type=\"checkbox\" ><label for=\"sk-estimator-id-1\" class=\"sk-toggleable__label sk-toggleable__label-arrow\">Pipeline</label><div class=\"sk-toggleable__content\"><pre>Pipeline(steps=[(&#x27;scale&#x27;, None), (&#x27;model&#x27;, GradientBoostingClassifier())])</pre></div></div></div><div class=\"sk-serial\"><div class=\"sk-item\"><div class=\"sk-estimator sk-toggleable\"><input class=\"sk-toggleable__control sk-hidden--visually\" id=\"sk-estimator-id-2\" type=\"checkbox\" ><label for=\"sk-estimator-id-2\" class=\"sk-toggleable__label sk-toggleable__label-arrow\">None</label><div class=\"sk-toggleable__content\"><pre>None</pre></div></div></div><div class=\"sk-item\"><div class=\"sk-estimator sk-toggleable\"><input class=\"sk-toggleable__control sk-hidden--visually\" id=\"sk-estimator-id-3\" type=\"checkbox\" ><label for=\"sk-estimator-id-3\" class=\"sk-toggleable__label sk-toggleable__label-arrow\">GradientBoostingClassifier</label><div class=\"sk-toggleable__content\"><pre>GradientBoostingClassifier()</pre></div></div></div></div></div></div></div>"
      ],
      "text/plain": [
       "Pipeline(steps=[('scale', None), ('model', GradientBoostingClassifier())])"
      ]
     },
     "execution_count": 43,
     "metadata": {},
     "output_type": "execute_result"
    }
   ],
   "source": [
    "model.fit(X_train, y_train.values.ravel())"
   ]
  },
  {
   "cell_type": "code",
   "execution_count": 44,
   "id": "af59f8c0",
   "metadata": {
    "execution": {
     "iopub.execute_input": "2025-07-30T20:37:40.439811Z",
     "iopub.status.busy": "2025-07-30T20:37:40.439091Z",
     "iopub.status.idle": "2025-07-30T20:37:40.445822Z",
     "shell.execute_reply": "2025-07-30T20:37:40.444687Z"
    },
    "papermill": {
     "duration": 0.036959,
     "end_time": "2025-07-30T20:37:40.447668",
     "exception": false,
     "start_time": "2025-07-30T20:37:40.410709",
     "status": "completed"
    },
    "tags": []
   },
   "outputs": [],
   "source": [
    "from fairness_multiverse.universe import predict_w_threshold"
   ]
  },
  {
   "cell_type": "code",
   "execution_count": 45,
   "id": "a7cf2e16",
   "metadata": {
    "execution": {
     "iopub.execute_input": "2025-07-30T20:37:40.498967Z",
     "iopub.status.busy": "2025-07-30T20:37:40.498048Z",
     "iopub.status.idle": "2025-07-30T20:37:41.206104Z",
     "shell.execute_reply": "2025-07-30T20:37:41.205221Z"
    },
    "papermill": {
     "duration": 0.735083,
     "end_time": "2025-07-30T20:37:41.207602",
     "exception": false,
     "start_time": "2025-07-30T20:37:40.472519",
     "status": "completed"
    },
    "tags": []
   },
   "outputs": [
    {
     "data": {
      "text/plain": [
       "0.8699030208449449"
      ]
     },
     "execution_count": 45,
     "metadata": {},
     "output_type": "execute_result"
    }
   ],
   "source": [
    "probs_test = model.predict_proba(X_test)\n",
    "\n",
    "'''\n",
    "Below code returns a boolean array (or binary 0/1 array depending on how it’s used) where each element \n",
    "is True if the probability of class 1 is greater than or equal to the threshold, and False otherwise.\n",
    "'''\n",
    "y_pred_default = predict_w_threshold(probs_test, 0.5)\n",
    "\n",
    "from sklearn.metrics import accuracy_score\n",
    "\n",
    "# Naive prediction\n",
    "accuracy_score(y_true = y_true, y_pred = y_pred_default)"
   ]
  },
  {
   "cell_type": "code",
   "execution_count": 46,
   "id": "081964c3",
   "metadata": {
    "execution": {
     "iopub.execute_input": "2025-07-30T20:37:41.261102Z",
     "iopub.status.busy": "2025-07-30T20:37:41.260047Z",
     "iopub.status.idle": "2025-07-30T20:37:41.882084Z",
     "shell.execute_reply": "2025-07-30T20:37:41.881260Z"
    },
    "papermill": {
     "duration": 0.650804,
     "end_time": "2025-07-30T20:37:41.883711",
     "exception": false,
     "start_time": "2025-07-30T20:37:41.232907",
     "status": "completed"
    },
    "tags": []
   },
   "outputs": [
    {
     "data": {
      "text/plain": [
       "array([0, 0, 0, ..., 0, 0, 0])"
      ]
     },
     "execution_count": 46,
     "metadata": {},
     "output_type": "execute_result"
    }
   ],
   "source": [
    "model.predict(X_test)"
   ]
  },
  {
   "cell_type": "markdown",
   "id": "56c9705b",
   "metadata": {
    "papermill": {
     "duration": 0.022149,
     "end_time": "2025-07-30T20:37:41.928667",
     "exception": false,
     "start_time": "2025-07-30T20:37:41.906518",
     "status": "completed"
    },
    "tags": []
   },
   "source": [
    "# Conformal Prediction"
   ]
  },
  {
   "cell_type": "code",
   "execution_count": 47,
   "id": "160ec6ff",
   "metadata": {
    "execution": {
     "iopub.execute_input": "2025-07-30T20:37:41.974439Z",
     "iopub.status.busy": "2025-07-30T20:37:41.973942Z",
     "iopub.status.idle": "2025-07-30T20:37:41.979217Z",
     "shell.execute_reply": "2025-07-30T20:37:41.978399Z"
    },
    "papermill": {
     "duration": 0.030189,
     "end_time": "2025-07-30T20:37:41.980825",
     "exception": false,
     "start_time": "2025-07-30T20:37:41.950636",
     "status": "completed"
    },
    "tags": []
   },
   "outputs": [],
   "source": [
    "# Miscoverage level for conformal prediction (10% allowed error rate => 90% target coverage)\n",
    "alpha = 0.1"
   ]
  },
  {
   "cell_type": "code",
   "execution_count": 48,
   "id": "eadf4555-3dd3-440e-8e35-f82a4ad9f855",
   "metadata": {
    "execution": {
     "iopub.execute_input": "2025-07-30T20:37:42.028513Z",
     "iopub.status.busy": "2025-07-30T20:37:42.027840Z",
     "iopub.status.idle": "2025-07-30T20:37:42.590967Z",
     "shell.execute_reply": "2025-07-30T20:37:42.589866Z"
    },
    "papermill": {
     "duration": 0.587897,
     "end_time": "2025-07-30T20:37:42.592771",
     "exception": false,
     "start_time": "2025-07-30T20:37:42.004874",
     "status": "completed"
    },
    "tags": []
   },
   "outputs": [],
   "source": [
    "probs_calib = model.predict_proba(X_calib)"
   ]
  },
  {
   "cell_type": "code",
   "execution_count": 49,
   "id": "2ed93547-6d5d-4983-9b36-1ecb300da49a",
   "metadata": {
    "execution": {
     "iopub.execute_input": "2025-07-30T20:37:42.639582Z",
     "iopub.status.busy": "2025-07-30T20:37:42.639132Z",
     "iopub.status.idle": "2025-07-30T20:37:42.644707Z",
     "shell.execute_reply": "2025-07-30T20:37:42.643714Z"
    },
    "papermill": {
     "duration": 0.030489,
     "end_time": "2025-07-30T20:37:42.646516",
     "exception": false,
     "start_time": "2025-07-30T20:37:42.616027",
     "status": "completed"
    },
    "tags": []
   },
   "outputs": [],
   "source": [
    "y_calib = y_calib.values.ravel().astype(int)"
   ]
  },
  {
   "cell_type": "code",
   "execution_count": 50,
   "id": "65d1320d-f588-4b38-9072-62af1ae97f7d",
   "metadata": {
    "execution": {
     "iopub.execute_input": "2025-07-30T20:37:42.694648Z",
     "iopub.status.busy": "2025-07-30T20:37:42.694197Z",
     "iopub.status.idle": "2025-07-30T20:37:42.701108Z",
     "shell.execute_reply": "2025-07-30T20:37:42.700214Z"
    },
    "papermill": {
     "duration": 0.032244,
     "end_time": "2025-07-30T20:37:42.702752",
     "exception": false,
     "start_time": "2025-07-30T20:37:42.670508",
     "status": "completed"
    },
    "tags": []
   },
   "outputs": [],
   "source": [
    "from fairness_multiverse.conformal import compute_nc_scores\n",
    "\n",
    "# Compute nonconformity scores on calibration set (1 - probability of true class)\n",
    "nc_scores = compute_nc_scores(probs_calib, y_calib)"
   ]
  },
  {
   "cell_type": "code",
   "execution_count": 51,
   "id": "df3b8ca3-53b7-43d5-9667-7c85da7aeda2",
   "metadata": {
    "execution": {
     "iopub.execute_input": "2025-07-30T20:37:42.754722Z",
     "iopub.status.busy": "2025-07-30T20:37:42.754275Z",
     "iopub.status.idle": "2025-07-30T20:37:42.760668Z",
     "shell.execute_reply": "2025-07-30T20:37:42.759736Z"
    },
    "papermill": {
     "duration": 0.036477,
     "end_time": "2025-07-30T20:37:42.762184",
     "exception": false,
     "start_time": "2025-07-30T20:37:42.725707",
     "status": "completed"
    },
    "tags": []
   },
   "outputs": [],
   "source": [
    "from fairness_multiverse.conformal import find_threshold\n",
    "\n",
    "# Find conformal threshold q_hat for the given alpha (split conformal method)\n",
    "q_hat = find_threshold(nc_scores, alpha)"
   ]
  },
  {
   "cell_type": "code",
   "execution_count": 52,
   "id": "4d29e6c1-0ef6-4aa4-b8fe-4fe79b0d033a",
   "metadata": {
    "execution": {
     "iopub.execute_input": "2025-07-30T20:37:42.809083Z",
     "iopub.status.busy": "2025-07-30T20:37:42.808461Z",
     "iopub.status.idle": "2025-07-30T20:37:42.817399Z",
     "shell.execute_reply": "2025-07-30T20:37:42.816560Z"
    },
    "papermill": {
     "duration": 0.03405,
     "end_time": "2025-07-30T20:37:42.819273",
     "exception": false,
     "start_time": "2025-07-30T20:37:42.785223",
     "status": "completed"
    },
    "tags": []
   },
   "outputs": [
    {
     "data": {
      "text/plain": [
       "0.6649378715308762"
      ]
     },
     "execution_count": 52,
     "metadata": {},
     "output_type": "execute_result"
    }
   ],
   "source": [
    "q_hat"
   ]
  },
  {
   "cell_type": "code",
   "execution_count": 53,
   "id": "92460794-cdac-4be2-ba28-f28c0515a6fb",
   "metadata": {
    "execution": {
     "iopub.execute_input": "2025-07-30T20:37:42.871761Z",
     "iopub.status.busy": "2025-07-30T20:37:42.871325Z",
     "iopub.status.idle": "2025-07-30T20:37:44.169775Z",
     "shell.execute_reply": "2025-07-30T20:37:44.168754Z"
    },
    "papermill": {
     "duration": 1.326137,
     "end_time": "2025-07-30T20:37:44.171708",
     "exception": false,
     "start_time": "2025-07-30T20:37:42.845571",
     "status": "completed"
    },
    "tags": []
   },
   "outputs": [],
   "source": [
    "from fairness_multiverse.conformal import predict_conformal_sets\n",
    "\n",
    "# Generate prediction sets for each test example\n",
    "pred_sets = predict_conformal_sets(model, X_test, q_hat)"
   ]
  },
  {
   "cell_type": "code",
   "execution_count": 54,
   "id": "d90c9a65-e6db-4f5d-80cd-e68fb7e46829",
   "metadata": {
    "execution": {
     "iopub.execute_input": "2025-07-30T20:37:44.224613Z",
     "iopub.status.busy": "2025-07-30T20:37:44.223634Z",
     "iopub.status.idle": "2025-07-30T20:37:44.229538Z",
     "shell.execute_reply": "2025-07-30T20:37:44.228640Z"
    },
    "papermill": {
     "duration": 0.034457,
     "end_time": "2025-07-30T20:37:44.231537",
     "exception": false,
     "start_time": "2025-07-30T20:37:44.197080",
     "status": "completed"
    },
    "tags": []
   },
   "outputs": [],
   "source": [
    "y_true = y_true.squeeze()"
   ]
  },
  {
   "cell_type": "code",
   "execution_count": 55,
   "id": "3a58a54a-1e68-46b9-927a-df01f18aebc8",
   "metadata": {
    "execution": {
     "iopub.execute_input": "2025-07-30T20:37:44.286957Z",
     "iopub.status.busy": "2025-07-30T20:37:44.286018Z",
     "iopub.status.idle": "2025-07-30T20:37:45.233648Z",
     "shell.execute_reply": "2025-07-30T20:37:45.232691Z"
    },
    "papermill": {
     "duration": 0.977106,
     "end_time": "2025-07-30T20:37:45.235390",
     "exception": false,
     "start_time": "2025-07-30T20:37:44.258284",
     "status": "completed"
    },
    "tags": []
   },
   "outputs": [],
   "source": [
    "from fairness_multiverse.conformal import evaluate_sets\n",
    "\n",
    "# Evaluate coverage and average set size on test data\n",
    "metrics = evaluate_sets(pred_sets, y_true)"
   ]
  },
  {
   "cell_type": "markdown",
   "id": "2b569c12-9aaa-4c88-98c9-bbcd0cf3ebb8",
   "metadata": {
    "papermill": {
     "duration": 0.024156,
     "end_time": "2025-07-30T20:37:45.286158",
     "exception": false,
     "start_time": "2025-07-30T20:37:45.262002",
     "status": "completed"
    },
    "tags": []
   },
   "source": [
    "# CP Metrics"
   ]
  },
  {
   "cell_type": "code",
   "execution_count": 56,
   "id": "5ce0a5cb-201f-45a0-ade5-94c7f0bd6095",
   "metadata": {
    "execution": {
     "iopub.execute_input": "2025-07-30T20:37:45.341482Z",
     "iopub.status.busy": "2025-07-30T20:37:45.340981Z",
     "iopub.status.idle": "2025-07-30T20:37:45.348706Z",
     "shell.execute_reply": "2025-07-30T20:37:45.347569Z"
    },
    "papermill": {
     "duration": 0.038235,
     "end_time": "2025-07-30T20:37:45.350726",
     "exception": false,
     "start_time": "2025-07-30T20:37:45.312491",
     "status": "completed"
    },
    "tags": []
   },
   "outputs": [
    {
     "data": {
      "text/plain": [
       "{'coverage': 0.9118715862222717, 'avg_size': 1.115494370750195}"
      ]
     },
     "execution_count": 56,
     "metadata": {},
     "output_type": "execute_result"
    }
   ],
   "source": [
    "metrics"
   ]
  },
  {
   "cell_type": "code",
   "execution_count": 57,
   "id": "9b9a838d-31c9-430b-ae14-12baee460d17",
   "metadata": {
    "execution": {
     "iopub.execute_input": "2025-07-30T20:37:45.417281Z",
     "iopub.status.busy": "2025-07-30T20:37:45.416257Z",
     "iopub.status.idle": "2025-07-30T20:37:45.426472Z",
     "shell.execute_reply": "2025-07-30T20:37:45.424662Z"
    },
    "papermill": {
     "duration": 0.043673,
     "end_time": "2025-07-30T20:37:45.428277",
     "exception": false,
     "start_time": "2025-07-30T20:37:45.384604",
     "status": "completed"
    },
    "tags": []
   },
   "outputs": [],
   "source": [
    "example_universe = universe.copy()\n",
    "universe_training_year = example_universe.get(\"training_year\")\n",
    "universe_training_size = example_universe.get(\"training_size\")\n",
    "universe_scale = example_universe.get(\"scale\")\n",
    "universe_model = example_universe.get(\"model\")\n",
    "universe_exclude_features = example_universe.get(\"exclude_features\")\n",
    "universe_exclude_subgroups = example_universe.get(\"exclude_subgroups\")"
   ]
  },
  {
   "cell_type": "code",
   "execution_count": 58,
   "id": "f4b6a8ac-9dc0-4245-8a91-5b3b5999c4f9",
   "metadata": {
    "execution": {
     "iopub.execute_input": "2025-07-30T20:37:45.477190Z",
     "iopub.status.busy": "2025-07-30T20:37:45.476441Z",
     "iopub.status.idle": "2025-07-30T20:37:45.498256Z",
     "shell.execute_reply": "2025-07-30T20:37:45.497247Z"
    },
    "papermill": {
     "duration": 0.048478,
     "end_time": "2025-07-30T20:37:45.500402",
     "exception": false,
     "start_time": "2025-07-30T20:37:45.451924",
     "status": "completed"
    },
    "tags": []
   },
   "outputs": [],
   "source": [
    "cp_metrics_dict = {\n",
    "    \"universe_id\": [universe_id],\n",
    "    \"universe_training_year\": [universe_training_year],\n",
    "    \"universe_training_size\": [universe_training_size],\n",
    "    \"universe_scale\": [universe_scale],\n",
    "    \"universe_model\": [universe_model],\n",
    "    \"universe_exclude_features\": [universe_exclude_features],\n",
    "    \"universe_exclude_subgroups\": [universe_exclude_subgroups],\n",
    "    \"q_hat\": [q_hat],\n",
    "    \"coverage\": [metrics[\"coverage\"]],\n",
    "    \"avg_size\": [metrics[\"avg_size\"]],\n",
    "}"
   ]
  },
  {
   "cell_type": "code",
   "execution_count": 59,
   "id": "908acbb1-0371-4915-85ca-3fa520d2efe2",
   "metadata": {
    "execution": {
     "iopub.execute_input": "2025-07-30T20:37:45.549480Z",
     "iopub.status.busy": "2025-07-30T20:37:45.549006Z",
     "iopub.status.idle": "2025-07-30T20:37:45.557540Z",
     "shell.execute_reply": "2025-07-30T20:37:45.556441Z"
    },
    "papermill": {
     "duration": 0.034959,
     "end_time": "2025-07-30T20:37:45.559196",
     "exception": false,
     "start_time": "2025-07-30T20:37:45.524237",
     "status": "completed"
    },
    "tags": []
   },
   "outputs": [
    {
     "data": {
      "text/plain": [
       "{'universe_id': ['f009aaa952ba50e04a0d02142e1f2c32'],\n",
       " 'universe_training_year': ['2010_14'],\n",
       " 'universe_training_size': ['25k'],\n",
       " 'universe_scale': ['do-not-scale'],\n",
       " 'universe_model': ['gbm'],\n",
       " 'universe_exclude_features': ['nationality'],\n",
       " 'universe_exclude_subgroups': ['keep-all'],\n",
       " 'q_hat': [0.6649378715308762],\n",
       " 'coverage': [0.9118715862222717],\n",
       " 'avg_size': [1.115494370750195]}"
      ]
     },
     "execution_count": 59,
     "metadata": {},
     "output_type": "execute_result"
    }
   ],
   "source": [
    "cp_metrics_dict"
   ]
  },
  {
   "cell_type": "code",
   "execution_count": 60,
   "id": "33007efc-14e9-4ec6-97ac-56a455c82265",
   "metadata": {
    "execution": {
     "iopub.execute_input": "2025-07-30T20:37:45.610517Z",
     "iopub.status.busy": "2025-07-30T20:37:45.609832Z",
     "iopub.status.idle": "2025-07-30T20:37:45.616865Z",
     "shell.execute_reply": "2025-07-30T20:37:45.615853Z"
    },
    "papermill": {
     "duration": 0.034244,
     "end_time": "2025-07-30T20:37:45.618352",
     "exception": false,
     "start_time": "2025-07-30T20:37:45.584108",
     "status": "completed"
    },
    "tags": []
   },
   "outputs": [],
   "source": [
    "cp_metrics_df = pd.DataFrame(cp_metrics_dict)"
   ]
  },
  {
   "cell_type": "code",
   "execution_count": 61,
   "id": "db12611b-57b2-4910-b9d0-355adfd6e7bf",
   "metadata": {
    "execution": {
     "iopub.execute_input": "2025-07-30T20:37:45.671566Z",
     "iopub.status.busy": "2025-07-30T20:37:45.670863Z",
     "iopub.status.idle": "2025-07-30T20:37:45.690952Z",
     "shell.execute_reply": "2025-07-30T20:37:45.690091Z"
    },
    "papermill": {
     "duration": 0.048417,
     "end_time": "2025-07-30T20:37:45.692537",
     "exception": false,
     "start_time": "2025-07-30T20:37:45.644120",
     "status": "completed"
    },
    "tags": []
   },
   "outputs": [
    {
     "data": {
      "text/html": [
       "<div>\n",
       "<style scoped>\n",
       "    .dataframe tbody tr th:only-of-type {\n",
       "        vertical-align: middle;\n",
       "    }\n",
       "\n",
       "    .dataframe tbody tr th {\n",
       "        vertical-align: top;\n",
       "    }\n",
       "\n",
       "    .dataframe thead th {\n",
       "        text-align: right;\n",
       "    }\n",
       "</style>\n",
       "<table border=\"1\" class=\"dataframe\">\n",
       "  <thead>\n",
       "    <tr style=\"text-align: right;\">\n",
       "      <th></th>\n",
       "      <th>universe_id</th>\n",
       "      <th>universe_training_year</th>\n",
       "      <th>universe_training_size</th>\n",
       "      <th>universe_scale</th>\n",
       "      <th>universe_model</th>\n",
       "      <th>universe_exclude_features</th>\n",
       "      <th>universe_exclude_subgroups</th>\n",
       "      <th>q_hat</th>\n",
       "      <th>coverage</th>\n",
       "      <th>avg_size</th>\n",
       "    </tr>\n",
       "  </thead>\n",
       "  <tbody>\n",
       "    <tr>\n",
       "      <th>0</th>\n",
       "      <td>f009aaa952ba50e04a0d02142e1f2c32</td>\n",
       "      <td>2010_14</td>\n",
       "      <td>25k</td>\n",
       "      <td>do-not-scale</td>\n",
       "      <td>gbm</td>\n",
       "      <td>nationality</td>\n",
       "      <td>keep-all</td>\n",
       "      <td>0.664938</td>\n",
       "      <td>0.911872</td>\n",
       "      <td>1.115494</td>\n",
       "    </tr>\n",
       "  </tbody>\n",
       "</table>\n",
       "</div>"
      ],
      "text/plain": [
       "                        universe_id universe_training_year  \\\n",
       "0  f009aaa952ba50e04a0d02142e1f2c32                2010_14   \n",
       "\n",
       "  universe_training_size universe_scale universe_model  \\\n",
       "0                    25k   do-not-scale            gbm   \n",
       "\n",
       "  universe_exclude_features universe_exclude_subgroups     q_hat  coverage  \\\n",
       "0               nationality                   keep-all  0.664938  0.911872   \n",
       "\n",
       "   avg_size  \n",
       "0  1.115494  "
      ]
     },
     "execution_count": 61,
     "metadata": {},
     "output_type": "execute_result"
    }
   ],
   "source": [
    "cp_metrics_df"
   ]
  },
  {
   "cell_type": "code",
   "execution_count": 62,
   "id": "b7fbde55-a0a1-47e4-9af6-fe4a17fa8c61",
   "metadata": {
    "execution": {
     "iopub.execute_input": "2025-07-30T20:37:45.744726Z",
     "iopub.status.busy": "2025-07-30T20:37:45.743953Z",
     "iopub.status.idle": "2025-07-30T20:37:45.749460Z",
     "shell.execute_reply": "2025-07-30T20:37:45.748245Z"
    },
    "papermill": {
     "duration": 0.03307,
     "end_time": "2025-07-30T20:37:45.751267",
     "exception": false,
     "start_time": "2025-07-30T20:37:45.718197",
     "status": "completed"
    },
    "tags": []
   },
   "outputs": [],
   "source": [
    "# Conditional Coverage & looking at subgroups"
   ]
  },
  {
   "cell_type": "code",
   "execution_count": 63,
   "id": "027ae886-68dd-4141-96c7-805a5450e1ef",
   "metadata": {
    "execution": {
     "iopub.execute_input": "2025-07-30T20:37:45.806865Z",
     "iopub.status.busy": "2025-07-30T20:37:45.806185Z",
     "iopub.status.idle": "2025-07-30T20:37:46.092336Z",
     "shell.execute_reply": "2025-07-30T20:37:46.091388Z"
    },
    "papermill": {
     "duration": 0.314247,
     "end_time": "2025-07-30T20:37:46.094138",
     "exception": false,
     "start_time": "2025-07-30T20:37:45.779891",
     "status": "completed"
    },
    "tags": []
   },
   "outputs": [],
   "source": [
    "from fairness_multiverse.conformal import build_cp_groups\n",
    "\n",
    "cp_groups_df = build_cp_groups(pred_sets, y_true, X_test.index, org_test)\n",
    "#needs universe_id and setting"
   ]
  },
  {
   "cell_type": "code",
   "execution_count": 64,
   "id": "01d5802c-663a-4d1f-9d69-e036faaffbf7",
   "metadata": {
    "execution": {
     "iopub.execute_input": "2025-07-30T20:37:46.144769Z",
     "iopub.status.busy": "2025-07-30T20:37:46.144128Z",
     "iopub.status.idle": "2025-07-30T20:37:46.149640Z",
     "shell.execute_reply": "2025-07-30T20:37:46.148701Z"
    },
    "papermill": {
     "duration": 0.032568,
     "end_time": "2025-07-30T20:37:46.151450",
     "exception": false,
     "start_time": "2025-07-30T20:37:46.118882",
     "status": "completed"
    },
    "tags": []
   },
   "outputs": [],
   "source": [
    "#delete\n",
    "#cp_groups_df"
   ]
  },
  {
   "cell_type": "code",
   "execution_count": 65,
   "id": "fa424af1-d1eb-443d-b717-2d279ada8408",
   "metadata": {
    "execution": {
     "iopub.execute_input": "2025-07-30T20:37:46.205530Z",
     "iopub.status.busy": "2025-07-30T20:37:46.205053Z",
     "iopub.status.idle": "2025-07-30T20:37:46.210192Z",
     "shell.execute_reply": "2025-07-30T20:37:46.209236Z"
    },
    "papermill": {
     "duration": 0.03402,
     "end_time": "2025-07-30T20:37:46.211832",
     "exception": false,
     "start_time": "2025-07-30T20:37:46.177812",
     "status": "completed"
    },
    "tags": []
   },
   "outputs": [],
   "source": [
    "#delete\n",
    "#percentage = (cp_groups_df['nongerman_female'] == 1).mean() * 100\n",
    "#print(percentage)\n"
   ]
  },
  {
   "cell_type": "code",
   "execution_count": 66,
   "id": "6cbdab96-b2b2-45af-ad54-d0516db2e28d",
   "metadata": {
    "execution": {
     "iopub.execute_input": "2025-07-30T20:37:46.265558Z",
     "iopub.status.busy": "2025-07-30T20:37:46.265136Z",
     "iopub.status.idle": "2025-07-30T20:37:47.797552Z",
     "shell.execute_reply": "2025-07-30T20:37:47.796572Z"
    },
    "papermill": {
     "duration": 1.561185,
     "end_time": "2025-07-30T20:37:47.799595",
     "exception": false,
     "start_time": "2025-07-30T20:37:46.238410",
     "status": "completed"
    },
    "tags": []
   },
   "outputs": [],
   "source": [
    "# Define covered = 1 if true_label is in the predicted set\n",
    "cp_groups_df['covered'] = cp_groups_df.apply(\n",
    "    lambda r: int(r['true_label'] in r['pred_set']),\n",
    "    axis=1\n",
    ")"
   ]
  },
  {
   "cell_type": "code",
   "execution_count": 67,
   "id": "338ff529-1a6b-4b87-a931-8e4788d52aad",
   "metadata": {
    "execution": {
     "iopub.execute_input": "2025-07-30T20:37:47.854880Z",
     "iopub.status.busy": "2025-07-30T20:37:47.854185Z",
     "iopub.status.idle": "2025-07-30T20:37:47.859577Z",
     "shell.execute_reply": "2025-07-30T20:37:47.858562Z"
    },
    "papermill": {
     "duration": 0.034813,
     "end_time": "2025-07-30T20:37:47.861336",
     "exception": false,
     "start_time": "2025-07-30T20:37:47.826523",
     "status": "completed"
    },
    "tags": []
   },
   "outputs": [],
   "source": [
    "#cp_groups_df"
   ]
  },
  {
   "cell_type": "code",
   "execution_count": 68,
   "id": "90032e27-66df-4540-9169-4e89cfbaa758",
   "metadata": {
    "execution": {
     "iopub.execute_input": "2025-07-30T20:37:47.918787Z",
     "iopub.status.busy": "2025-07-30T20:37:47.918313Z",
     "iopub.status.idle": "2025-07-30T20:37:47.930409Z",
     "shell.execute_reply": "2025-07-30T20:37:47.929373Z"
    },
    "papermill": {
     "duration": 0.04343,
     "end_time": "2025-07-30T20:37:47.932278",
     "exception": false,
     "start_time": "2025-07-30T20:37:47.888848",
     "status": "completed"
    },
    "tags": []
   },
   "outputs": [],
   "source": [
    "subgroups = ['frau1','nongerman','nongerman_male','nongerman_female']\n",
    "\n",
    "# Conditional coverage for subgroup==1\n",
    "cond_coverage = {\n",
    "    g: cp_groups_df.loc[cp_groups_df[g]==1, 'covered'].mean()\n",
    "    for g in subgroups\n",
    "}"
   ]
  },
  {
   "cell_type": "code",
   "execution_count": 69,
   "id": "1e348fb1-b9c3-45bc-ba23-f016827a7e0d",
   "metadata": {
    "execution": {
     "iopub.execute_input": "2025-07-30T20:37:47.996672Z",
     "iopub.status.busy": "2025-07-30T20:37:47.996252Z",
     "iopub.status.idle": "2025-07-30T20:37:48.003979Z",
     "shell.execute_reply": "2025-07-30T20:37:48.002935Z"
    },
    "papermill": {
     "duration": 0.043325,
     "end_time": "2025-07-30T20:37:48.005823",
     "exception": false,
     "start_time": "2025-07-30T20:37:47.962498",
     "status": "completed"
    },
    "tags": []
   },
   "outputs": [
    {
     "data": {
      "text/plain": [
       "{'frau1': 0.9109583501819652,\n",
       " 'nongerman': 0.9104025150171223,\n",
       " 'nongerman_male': 0.9265063496352337,\n",
       " 'nongerman_female': 0.8837555886736215}"
      ]
     },
     "execution_count": 69,
     "metadata": {},
     "output_type": "execute_result"
    }
   ],
   "source": [
    "cond_coverage"
   ]
  },
  {
   "cell_type": "code",
   "execution_count": 70,
   "id": "f5093324-c3dd-4d63-bc4c-8d945e5c8bbb",
   "metadata": {
    "execution": {
     "iopub.execute_input": "2025-07-30T20:37:48.065071Z",
     "iopub.status.busy": "2025-07-30T20:37:48.064341Z",
     "iopub.status.idle": "2025-07-30T20:37:48.072179Z",
     "shell.execute_reply": "2025-07-30T20:37:48.071080Z"
    },
    "papermill": {
     "duration": 0.039001,
     "end_time": "2025-07-30T20:37:48.074082",
     "exception": false,
     "start_time": "2025-07-30T20:37:48.035081",
     "status": "completed"
    },
    "tags": []
   },
   "outputs": [],
   "source": [
    "for subgroup, cov in cond_coverage.items():\n",
    "    cp_metrics_df[f\"cov_{subgroup}\"] = cov"
   ]
  },
  {
   "cell_type": "code",
   "execution_count": 71,
   "id": "6e872e10-dbe5-49e8-b554-5030c98ff75d",
   "metadata": {
    "execution": {
     "iopub.execute_input": "2025-07-30T20:37:48.133218Z",
     "iopub.status.busy": "2025-07-30T20:37:48.132612Z",
     "iopub.status.idle": "2025-07-30T20:37:48.153028Z",
     "shell.execute_reply": "2025-07-30T20:37:48.151993Z"
    },
    "papermill": {
     "duration": 0.051612,
     "end_time": "2025-07-30T20:37:48.154788",
     "exception": false,
     "start_time": "2025-07-30T20:37:48.103176",
     "status": "completed"
    },
    "tags": []
   },
   "outputs": [
    {
     "data": {
      "text/html": [
       "<div>\n",
       "<style scoped>\n",
       "    .dataframe tbody tr th:only-of-type {\n",
       "        vertical-align: middle;\n",
       "    }\n",
       "\n",
       "    .dataframe tbody tr th {\n",
       "        vertical-align: top;\n",
       "    }\n",
       "\n",
       "    .dataframe thead th {\n",
       "        text-align: right;\n",
       "    }\n",
       "</style>\n",
       "<table border=\"1\" class=\"dataframe\">\n",
       "  <thead>\n",
       "    <tr style=\"text-align: right;\">\n",
       "      <th></th>\n",
       "      <th>universe_id</th>\n",
       "      <th>universe_training_year</th>\n",
       "      <th>universe_training_size</th>\n",
       "      <th>universe_scale</th>\n",
       "      <th>universe_model</th>\n",
       "      <th>universe_exclude_features</th>\n",
       "      <th>universe_exclude_subgroups</th>\n",
       "      <th>q_hat</th>\n",
       "      <th>coverage</th>\n",
       "      <th>avg_size</th>\n",
       "      <th>cov_frau1</th>\n",
       "      <th>cov_nongerman</th>\n",
       "      <th>cov_nongerman_male</th>\n",
       "      <th>cov_nongerman_female</th>\n",
       "    </tr>\n",
       "  </thead>\n",
       "  <tbody>\n",
       "    <tr>\n",
       "      <th>0</th>\n",
       "      <td>f009aaa952ba50e04a0d02142e1f2c32</td>\n",
       "      <td>2010_14</td>\n",
       "      <td>25k</td>\n",
       "      <td>do-not-scale</td>\n",
       "      <td>gbm</td>\n",
       "      <td>nationality</td>\n",
       "      <td>keep-all</td>\n",
       "      <td>0.664938</td>\n",
       "      <td>0.911872</td>\n",
       "      <td>1.115494</td>\n",
       "      <td>0.910958</td>\n",
       "      <td>0.910403</td>\n",
       "      <td>0.926506</td>\n",
       "      <td>0.883756</td>\n",
       "    </tr>\n",
       "  </tbody>\n",
       "</table>\n",
       "</div>"
      ],
      "text/plain": [
       "                        universe_id universe_training_year  \\\n",
       "0  f009aaa952ba50e04a0d02142e1f2c32                2010_14   \n",
       "\n",
       "  universe_training_size universe_scale universe_model  \\\n",
       "0                    25k   do-not-scale            gbm   \n",
       "\n",
       "  universe_exclude_features universe_exclude_subgroups     q_hat  coverage  \\\n",
       "0               nationality                   keep-all  0.664938  0.911872   \n",
       "\n",
       "   avg_size  cov_frau1  cov_nongerman  cov_nongerman_male  \\\n",
       "0  1.115494   0.910958       0.910403            0.926506   \n",
       "\n",
       "   cov_nongerman_female  \n",
       "0              0.883756  "
      ]
     },
     "execution_count": 71,
     "metadata": {},
     "output_type": "execute_result"
    }
   ],
   "source": [
    "cp_metrics_df"
   ]
  },
  {
   "cell_type": "markdown",
   "id": "33774451",
   "metadata": {
    "papermill": {
     "duration": 0.027267,
     "end_time": "2025-07-30T20:37:48.210300",
     "exception": false,
     "start_time": "2025-07-30T20:37:48.183033",
     "status": "completed"
    },
    "tags": []
   },
   "source": [
    "# (Fairness) Metrics"
   ]
  },
  {
   "cell_type": "code",
   "execution_count": 72,
   "id": "debc5d62",
   "metadata": {
    "execution": {
     "iopub.execute_input": "2025-07-30T20:37:48.266281Z",
     "iopub.status.busy": "2025-07-30T20:37:48.265588Z",
     "iopub.status.idle": "2025-07-30T20:37:48.288422Z",
     "shell.execute_reply": "2025-07-30T20:37:48.287357Z"
    },
    "papermill": {
     "duration": 0.053034,
     "end_time": "2025-07-30T20:37:48.290452",
     "exception": false,
     "start_time": "2025-07-30T20:37:48.237418",
     "status": "completed"
    },
    "tags": []
   },
   "outputs": [],
   "source": [
    "# do I need to include maxdeutsch1.missing?\n",
    "\n",
    "import numpy as np\n",
    "\n",
    "colname_to_bin = \"maxdeutsch1\"\n",
    "majority_value = org_train[colname_to_bin].mode()[0]\n",
    "\n",
    "org_test[\"majmin\"] = np.where(org_test[colname_to_bin] == majority_value, \"majority\", \"minority\")"
   ]
  },
  {
   "cell_type": "code",
   "execution_count": 73,
   "id": "06a50de5",
   "metadata": {
    "execution": {
     "iopub.execute_input": "2025-07-30T20:37:48.351254Z",
     "iopub.status.busy": "2025-07-30T20:37:48.350562Z",
     "iopub.status.idle": "2025-07-30T20:37:50.808777Z",
     "shell.execute_reply": "2025-07-30T20:37:50.807760Z"
    },
    "papermill": {
     "duration": 2.487856,
     "end_time": "2025-07-30T20:37:50.810736",
     "exception": false,
     "start_time": "2025-07-30T20:37:48.322880",
     "status": "completed"
    },
    "tags": []
   },
   "outputs": [],
   "source": [
    "example_universe = universe.copy()\n",
    "example_universe[\"cutoff\"] = example_universe[\"cutoff\"][0]\n",
    "example_universe[\"eval_fairness_grouping\"] = example_universe[\"eval_fairness_grouping\"][0]\n",
    "fairness_dict, metric_frame = universe_analysis.compute_metrics(\n",
    "    example_universe,\n",
    "    y_pred_prob=probs_test,\n",
    "    y_test=y_true,\n",
    "    org_test=org_test,\n",
    ")"
   ]
  },
  {
   "cell_type": "markdown",
   "id": "f95d4e02",
   "metadata": {
    "papermill": {
     "duration": 0.026171,
     "end_time": "2025-07-30T20:37:50.866305",
     "exception": false,
     "start_time": "2025-07-30T20:37:50.840134",
     "status": "completed"
    },
    "tags": []
   },
   "source": [
    "# Overall"
   ]
  },
  {
   "cell_type": "markdown",
   "id": "bdee4871",
   "metadata": {
    "papermill": {
     "duration": 0.025859,
     "end_time": "2025-07-30T20:37:50.918583",
     "exception": false,
     "start_time": "2025-07-30T20:37:50.892724",
     "status": "completed"
    },
    "tags": []
   },
   "source": [
    "Fairness\n",
    "Main fairness target: Equalized Odds. Seems to be a better fit than equal opportunity, since we're not only interested in Y = 1. Seems to be a better fit than demographic parity, since we also care about accuracy, not just equal distribution of preds.\n",
    "\n",
    "Pick column for computation of fairness metrics\n",
    "\n",
    "Performance\n",
    "Overall performance measures, most interesting in relation to the measures split by group below"
   ]
  },
  {
   "cell_type": "code",
   "execution_count": 74,
   "id": "c4e067c6",
   "metadata": {
    "execution": {
     "iopub.execute_input": "2025-07-30T20:37:50.973470Z",
     "iopub.status.busy": "2025-07-30T20:37:50.972973Z",
     "iopub.status.idle": "2025-07-30T20:37:50.981822Z",
     "shell.execute_reply": "2025-07-30T20:37:50.980858Z"
    },
    "papermill": {
     "duration": 0.0388,
     "end_time": "2025-07-30T20:37:50.983559",
     "exception": false,
     "start_time": "2025-07-30T20:37:50.944759",
     "status": "completed"
    },
    "tags": []
   },
   "outputs": [
    {
     "data": {
      "text/plain": [
       "accuracy                   0.225449\n",
       "balanced accuracy          0.551028\n",
       "f1                         0.246751\n",
       "precision                  0.140960\n",
       "false positive rate        0.886908\n",
       "false negative rate        0.011036\n",
       "selection rate             0.900000\n",
       "count                  89710.000000\n",
       "dtype: float64"
      ]
     },
     "execution_count": 74,
     "metadata": {},
     "output_type": "execute_result"
    }
   ],
   "source": [
    "metric_frame.overall"
   ]
  },
  {
   "cell_type": "markdown",
   "id": "e968fe9d",
   "metadata": {
    "papermill": {
     "duration": 0.026539,
     "end_time": "2025-07-30T20:37:51.037443",
     "exception": false,
     "start_time": "2025-07-30T20:37:51.010904",
     "status": "completed"
    },
    "tags": []
   },
   "source": [
    "By Group"
   ]
  },
  {
   "cell_type": "code",
   "execution_count": 75,
   "id": "ec325bce",
   "metadata": {
    "execution": {
     "iopub.execute_input": "2025-07-30T20:37:51.092863Z",
     "iopub.status.busy": "2025-07-30T20:37:51.092346Z",
     "iopub.status.idle": "2025-07-30T20:37:51.109481Z",
     "shell.execute_reply": "2025-07-30T20:37:51.108306Z"
    },
    "papermill": {
     "duration": 0.046798,
     "end_time": "2025-07-30T20:37:51.111289",
     "exception": false,
     "start_time": "2025-07-30T20:37:51.064491",
     "status": "completed"
    },
    "tags": []
   },
   "outputs": [
    {
     "data": {
      "text/html": [
       "<div>\n",
       "<style scoped>\n",
       "    .dataframe tbody tr th:only-of-type {\n",
       "        vertical-align: middle;\n",
       "    }\n",
       "\n",
       "    .dataframe tbody tr th {\n",
       "        vertical-align: top;\n",
       "    }\n",
       "\n",
       "    .dataframe thead th {\n",
       "        text-align: right;\n",
       "    }\n",
       "</style>\n",
       "<table border=\"1\" class=\"dataframe\">\n",
       "  <thead>\n",
       "    <tr style=\"text-align: right;\">\n",
       "      <th></th>\n",
       "      <th>accuracy</th>\n",
       "      <th>balanced accuracy</th>\n",
       "      <th>f1</th>\n",
       "      <th>precision</th>\n",
       "      <th>false positive rate</th>\n",
       "      <th>false negative rate</th>\n",
       "      <th>selection rate</th>\n",
       "      <th>count</th>\n",
       "    </tr>\n",
       "    <tr>\n",
       "      <th>majmin</th>\n",
       "      <th></th>\n",
       "      <th></th>\n",
       "      <th></th>\n",
       "      <th></th>\n",
       "      <th></th>\n",
       "      <th></th>\n",
       "      <th></th>\n",
       "      <th></th>\n",
       "    </tr>\n",
       "  </thead>\n",
       "  <tbody>\n",
       "    <tr>\n",
       "      <th>majority</th>\n",
       "      <td>0.245150</td>\n",
       "      <td>0.559915</td>\n",
       "      <td>0.256955</td>\n",
       "      <td>0.147688</td>\n",
       "      <td>0.867916</td>\n",
       "      <td>0.012254</td>\n",
       "      <td>0.883750</td>\n",
       "      <td>69170.0</td>\n",
       "    </tr>\n",
       "    <tr>\n",
       "      <th>minority</th>\n",
       "      <td>0.159104</td>\n",
       "      <td>0.522009</td>\n",
       "      <td>0.214123</td>\n",
       "      <td>0.119990</td>\n",
       "      <td>0.949648</td>\n",
       "      <td>0.006334</td>\n",
       "      <td>0.954722</td>\n",
       "      <td>20540.0</td>\n",
       "    </tr>\n",
       "  </tbody>\n",
       "</table>\n",
       "</div>"
      ],
      "text/plain": [
       "          accuracy  balanced accuracy        f1  precision  \\\n",
       "majmin                                                       \n",
       "majority  0.245150           0.559915  0.256955   0.147688   \n",
       "minority  0.159104           0.522009  0.214123   0.119990   \n",
       "\n",
       "          false positive rate  false negative rate  selection rate    count  \n",
       "majmin                                                                       \n",
       "majority             0.867916             0.012254        0.883750  69170.0  \n",
       "minority             0.949648             0.006334        0.954722  20540.0  "
      ]
     },
     "execution_count": 75,
     "metadata": {},
     "output_type": "execute_result"
    }
   ],
   "source": [
    "metric_frame.by_group"
   ]
  },
  {
   "cell_type": "code",
   "execution_count": 76,
   "id": "a9ddbe63",
   "metadata": {
    "execution": {
     "iopub.execute_input": "2025-07-30T20:37:51.169846Z",
     "iopub.status.busy": "2025-07-30T20:37:51.169124Z",
     "iopub.status.idle": "2025-07-30T20:37:53.572519Z",
     "shell.execute_reply": "2025-07-30T20:37:53.571765Z"
    },
    "papermill": {
     "duration": 2.435081,
     "end_time": "2025-07-30T20:37:53.574096",
     "exception": false,
     "start_time": "2025-07-30T20:37:51.139015",
     "status": "completed"
    },
    "tags": []
   },
   "outputs": [
    {
     "data": {
      "text/plain": [
       "array([[<Axes: title={'center': 'accuracy'}, xlabel='majmin'>,\n",
       "        <Axes: title={'center': 'balanced accuracy'}, xlabel='majmin'>,\n",
       "        <Axes: title={'center': 'f1'}, xlabel='majmin'>],\n",
       "       [<Axes: title={'center': 'precision'}, xlabel='majmin'>,\n",
       "        <Axes: title={'center': 'false positive rate'}, xlabel='majmin'>,\n",
       "        <Axes: title={'center': 'false negative rate'}, xlabel='majmin'>],\n",
       "       [<Axes: title={'center': 'selection rate'}, xlabel='majmin'>,\n",
       "        <Axes: title={'center': 'count'}, xlabel='majmin'>,\n",
       "        <Axes: xlabel='majmin'>]], dtype=object)"
      ]
     },
     "execution_count": 76,
     "metadata": {},
     "output_type": "execute_result"
    },
    {
     "data": {
      "image/png": "[encoded data removed]",
      "text/plain": [
       "<Figure size 1200x800 with 9 Axes>"
      ]
     },
     "metadata": {},
     "output_type": "display_data"
    }
   ],
   "source": [
    "# In a graphic\n",
    "metric_frame.by_group.plot.bar(\n",
    "    subplots=True,\n",
    "    layout=[3, 3],\n",
    "    legend=False,\n",
    "    figsize=[12, 8],\n",
    "    title=\"Show all metrics\",\n",
    ")"
   ]
  },
  {
   "cell_type": "markdown",
   "id": "f57a0bac",
   "metadata": {
    "papermill": {
     "duration": 0.03043,
     "end_time": "2025-07-30T20:37:53.633900",
     "exception": false,
     "start_time": "2025-07-30T20:37:53.603470",
     "status": "completed"
    },
    "tags": []
   },
   "source": [
    "# Final Output"
   ]
  },
  {
   "cell_type": "code",
   "execution_count": 77,
   "id": "96d280a3",
   "metadata": {
    "execution": {
     "iopub.execute_input": "2025-07-30T20:37:53.691592Z",
     "iopub.status.busy": "2025-07-30T20:37:53.690704Z",
     "iopub.status.idle": "2025-07-30T20:37:53.698980Z",
     "shell.execute_reply": "2025-07-30T20:37:53.697946Z"
    },
    "papermill": {
     "duration": 0.040225,
     "end_time": "2025-07-30T20:37:53.702217",
     "exception": false,
     "start_time": "2025-07-30T20:37:53.661992",
     "status": "completed"
    },
    "tags": []
   },
   "outputs": [
    {
     "data": {
      "text/plain": [
       "4"
      ]
     },
     "execution_count": 77,
     "metadata": {},
     "output_type": "execute_result"
    }
   ],
   "source": [
    "sub_universes = universe_analysis.generate_sub_universes()\n",
    "len(sub_universes)"
   ]
  },
  {
   "cell_type": "code",
   "execution_count": 78,
   "id": "92adf7ba",
   "metadata": {
    "execution": {
     "iopub.execute_input": "2025-07-30T20:37:53.769784Z",
     "iopub.status.busy": "2025-07-30T20:37:53.769229Z",
     "iopub.status.idle": "2025-07-30T20:37:53.776555Z",
     "shell.execute_reply": "2025-07-30T20:37:53.775381Z"
    },
    "papermill": {
     "duration": 0.043225,
     "end_time": "2025-07-30T20:37:53.778360",
     "exception": false,
     "start_time": "2025-07-30T20:37:53.735135",
     "status": "completed"
    },
    "tags": []
   },
   "outputs": [],
   "source": [
    "def filter_sub_universe_data(sub_universe, org_test):\n",
    "    # Keep all rows — no filtering\n",
    "    keep_rows_mask = np.ones(org_test.shape[0], dtype=bool)\n",
    "\n",
    "    print(f\"[INFO] Keeping all rows: {keep_rows_mask.sum()} rows retained.\")\n",
    "    return keep_rows_mask"
   ]
  },
  {
   "cell_type": "code",
   "execution_count": 79,
   "id": "4a759155",
   "metadata": {
    "execution": {
     "iopub.execute_input": "2025-07-30T20:37:53.843854Z",
     "iopub.status.busy": "2025-07-30T20:37:53.843366Z",
     "iopub.status.idle": "2025-07-30T20:38:04.662583Z",
     "shell.execute_reply": "2025-07-30T20:38:04.661331Z"
    },
    "papermill": {
     "duration": 10.854646,
     "end_time": "2025-07-30T20:38:04.665033",
     "exception": false,
     "start_time": "2025-07-30T20:37:53.810387",
     "status": "completed"
    },
    "tags": []
   },
   "outputs": [
    {
     "name": "stdout",
     "output_type": "stream",
     "text": [
      "Stopping execution_time clock.\n",
      "[INFO] Keeping all rows: 89710 rows retained.\n"
     ]
    },
    {
     "name": "stdout",
     "output_type": "stream",
     "text": [
      "[INFO] Keeping all rows: 89710 rows retained.\n"
     ]
    },
    {
     "name": "stdout",
     "output_type": "stream",
     "text": [
      "[INFO] Keeping all rows: 89710 rows retained.\n"
     ]
    },
    {
     "name": "stdout",
     "output_type": "stream",
     "text": [
      "[INFO] Keeping all rows: 89710 rows retained.\n"
     ]
    },
    {
     "data": {
      "text/html": [
       "<div>\n",
       "<style scoped>\n",
       "    .dataframe tbody tr th:only-of-type {\n",
       "        vertical-align: middle;\n",
       "    }\n",
       "\n",
       "    .dataframe tbody tr th {\n",
       "        vertical-align: top;\n",
       "    }\n",
       "\n",
       "    .dataframe thead th {\n",
       "        text-align: right;\n",
       "    }\n",
       "</style>\n",
       "<table border=\"1\" class=\"dataframe\">\n",
       "  <thead>\n",
       "    <tr style=\"text-align: right;\">\n",
       "      <th></th>\n",
       "      <th>run_no</th>\n",
       "      <th>universe_id</th>\n",
       "      <th>universe_settings</th>\n",
       "      <th>execution_time</th>\n",
       "      <th>test_size_n</th>\n",
       "      <th>test_size_frac</th>\n",
       "      <th>fair_main_equalized_odds_difference</th>\n",
       "      <th>fair_main_equalized_odds_ratio</th>\n",
       "      <th>fair_main_demographic_parity_difference</th>\n",
       "      <th>fair_main_demographic_parity_ratio</th>\n",
       "      <th>...</th>\n",
       "      <th>perf_grp_precision_0</th>\n",
       "      <th>perf_grp_precision_1</th>\n",
       "      <th>perf_grp_false positive rate_0</th>\n",
       "      <th>perf_grp_false positive rate_1</th>\n",
       "      <th>perf_grp_false negative rate_0</th>\n",
       "      <th>perf_grp_false negative rate_1</th>\n",
       "      <th>perf_grp_selection rate_0</th>\n",
       "      <th>perf_grp_selection rate_1</th>\n",
       "      <th>perf_grp_count_0</th>\n",
       "      <th>perf_grp_count_1</th>\n",
       "    </tr>\n",
       "  </thead>\n",
       "  <tbody>\n",
       "    <tr>\n",
       "      <th>0</th>\n",
       "      <td>14</td>\n",
       "      <td>f009aaa952ba50e04a0d02142e1f2c32</td>\n",
       "      <td>{\"cutoff\": \"quantile_0.1\", \"eval_fairness_grou...</td>\n",
       "      <td>59.430008</td>\n",
       "      <td>89710</td>\n",
       "      <td>1.0</td>\n",
       "      <td>0.081732</td>\n",
       "      <td>0.913935</td>\n",
       "      <td>0.070972</td>\n",
       "      <td>0.925662</td>\n",
       "      <td>...</td>\n",
       "      <td>NaN</td>\n",
       "      <td>NaN</td>\n",
       "      <td>NaN</td>\n",
       "      <td>NaN</td>\n",
       "      <td>NaN</td>\n",
       "      <td>NaN</td>\n",
       "      <td>NaN</td>\n",
       "      <td>NaN</td>\n",
       "      <td>NaN</td>\n",
       "      <td>NaN</td>\n",
       "    </tr>\n",
       "    <tr>\n",
       "      <th>0</th>\n",
       "      <td>14</td>\n",
       "      <td>f009aaa952ba50e04a0d02142e1f2c32</td>\n",
       "      <td>{\"cutoff\": \"quantile_0.1\", \"eval_fairness_grou...</td>\n",
       "      <td>59.430008</td>\n",
       "      <td>89710</td>\n",
       "      <td>1.0</td>\n",
       "      <td>0.081732</td>\n",
       "      <td>0.913935</td>\n",
       "      <td>0.070972</td>\n",
       "      <td>0.925662</td>\n",
       "      <td>...</td>\n",
       "      <td>0.119990</td>\n",
       "      <td>0.147688</td>\n",
       "      <td>0.949648</td>\n",
       "      <td>0.867916</td>\n",
       "      <td>0.006334</td>\n",
       "      <td>0.012254</td>\n",
       "      <td>0.954722</td>\n",
       "      <td>0.88375</td>\n",
       "      <td>20540.0</td>\n",
       "      <td>69170.0</td>\n",
       "    </tr>\n",
       "    <tr>\n",
       "      <th>0</th>\n",
       "      <td>14</td>\n",
       "      <td>f009aaa952ba50e04a0d02142e1f2c32</td>\n",
       "      <td>{\"cutoff\": \"quantile_0.25\", \"eval_fairness_gro...</td>\n",
       "      <td>59.430008</td>\n",
       "      <td>89710</td>\n",
       "      <td>1.0</td>\n",
       "      <td>0.083697</td>\n",
       "      <td>0.893327</td>\n",
       "      <td>0.068328</td>\n",
       "      <td>0.914875</td>\n",
       "      <td>...</td>\n",
       "      <td>NaN</td>\n",
       "      <td>NaN</td>\n",
       "      <td>NaN</td>\n",
       "      <td>NaN</td>\n",
       "      <td>NaN</td>\n",
       "      <td>NaN</td>\n",
       "      <td>NaN</td>\n",
       "      <td>NaN</td>\n",
       "      <td>NaN</td>\n",
       "      <td>NaN</td>\n",
       "    </tr>\n",
       "    <tr>\n",
       "      <th>0</th>\n",
       "      <td>14</td>\n",
       "      <td>f009aaa952ba50e04a0d02142e1f2c32</td>\n",
       "      <td>{\"cutoff\": \"quantile_0.25\", \"eval_fairness_gro...</td>\n",
       "      <td>59.430008</td>\n",
       "      <td>89710</td>\n",
       "      <td>1.0</td>\n",
       "      <td>0.083697</td>\n",
       "      <td>0.893327</td>\n",
       "      <td>0.068328</td>\n",
       "      <td>0.914875</td>\n",
       "      <td>...</td>\n",
       "      <td>0.135197</td>\n",
       "      <td>0.171651</td>\n",
       "      <td>0.784614</td>\n",
       "      <td>0.700916</td>\n",
       "      <td>0.058699</td>\n",
       "      <td>0.046061</td>\n",
       "      <td>0.802678</td>\n",
       "      <td>0.73435</td>\n",
       "      <td>20540.0</td>\n",
       "      <td>69170.0</td>\n",
       "    </tr>\n",
       "  </tbody>\n",
       "</table>\n",
       "<p>4 rows × 50 columns</p>\n",
       "</div>"
      ],
      "text/plain": [
       "  run_no                       universe_id  \\\n",
       "0     14  f009aaa952ba50e04a0d02142e1f2c32   \n",
       "0     14  f009aaa952ba50e04a0d02142e1f2c32   \n",
       "0     14  f009aaa952ba50e04a0d02142e1f2c32   \n",
       "0     14  f009aaa952ba50e04a0d02142e1f2c32   \n",
       "\n",
       "                                   universe_settings  execution_time  \\\n",
       "0  {\"cutoff\": \"quantile_0.1\", \"eval_fairness_grou...       59.430008   \n",
       "0  {\"cutoff\": \"quantile_0.1\", \"eval_fairness_grou...       59.430008   \n",
       "0  {\"cutoff\": \"quantile_0.25\", \"eval_fairness_gro...       59.430008   \n",
       "0  {\"cutoff\": \"quantile_0.25\", \"eval_fairness_gro...       59.430008   \n",
       "\n",
       "   test_size_n  test_size_frac  fair_main_equalized_odds_difference  \\\n",
       "0        89710             1.0                             0.081732   \n",
       "0        89710             1.0                             0.081732   \n",
       "0        89710             1.0                             0.083697   \n",
       "0        89710             1.0                             0.083697   \n",
       "\n",
       "   fair_main_equalized_odds_ratio  fair_main_demographic_parity_difference  \\\n",
       "0                        0.913935                                 0.070972   \n",
       "0                        0.913935                                 0.070972   \n",
       "0                        0.893327                                 0.068328   \n",
       "0                        0.893327                                 0.068328   \n",
       "\n",
       "   fair_main_demographic_parity_ratio  ...  perf_grp_precision_0  \\\n",
       "0                            0.925662  ...                   NaN   \n",
       "0                            0.925662  ...              0.119990   \n",
       "0                            0.914875  ...                   NaN   \n",
       "0                            0.914875  ...              0.135197   \n",
       "\n",
       "   perf_grp_precision_1  perf_grp_false positive rate_0  \\\n",
       "0                   NaN                             NaN   \n",
       "0              0.147688                        0.949648   \n",
       "0                   NaN                             NaN   \n",
       "0              0.171651                        0.784614   \n",
       "\n",
       "   perf_grp_false positive rate_1  perf_grp_false negative rate_0  \\\n",
       "0                             NaN                             NaN   \n",
       "0                        0.867916                        0.006334   \n",
       "0                             NaN                             NaN   \n",
       "0                        0.700916                        0.058699   \n",
       "\n",
       "   perf_grp_false negative rate_1  perf_grp_selection rate_0  \\\n",
       "0                             NaN                        NaN   \n",
       "0                        0.012254                   0.954722   \n",
       "0                             NaN                        NaN   \n",
       "0                        0.046061                   0.802678   \n",
       "\n",
       "   perf_grp_selection rate_1  perf_grp_count_0  perf_grp_count_1  \n",
       "0                        NaN               NaN               NaN  \n",
       "0                    0.88375           20540.0           69170.0  \n",
       "0                        NaN               NaN               NaN  \n",
       "0                    0.73435           20540.0           69170.0  \n",
       "\n",
       "[4 rows x 50 columns]"
      ]
     },
     "execution_count": 79,
     "metadata": {},
     "output_type": "execute_result"
    }
   ],
   "source": [
    "final_output = universe_analysis.generate_final_output(\n",
    "    y_pred_prob=probs_test,\n",
    "    y_test=y_true,\n",
    "    org_test=org_test,\n",
    "    filter_data=filter_sub_universe_data,\n",
    "    cp_metrics_df=cp_metrics_df,\n",
    "    save=True,\n",
    ")\n",
    "final_output"
   ]
  },
  {
   "cell_type": "code",
   "execution_count": null,
   "id": "721ff514-cb11-46f8-b6fc-50392f74b5cb",
   "metadata": {
    "papermill": {
     "duration": 0.04022,
     "end_time": "2025-07-30T20:38:04.751379",
     "exception": false,
     "start_time": "2025-07-30T20:38:04.711159",
     "status": "completed"
    },
    "tags": []
   },
   "outputs": [],
   "source": []
  }
 ],
 "metadata": {
  "celltoolbar": "Tags",
  "kernelspec": {
   "display_name": "Python (CMA Fairness)",
   "language": "python",
   "name": "cma_fair_env"
  },
  "language_info": {
   "codemirror_mode": {
    "name": "ipython",
    "version": 3
   },
   "file_extension": ".py",
   "mimetype": "text/x-python",
   "name": "python",
   "nbconvert_exporter": "python",
   "pygments_lexer": "ipython3",
   "version": "3.10.12"
  },
  "papermill": {
   "default_parameters": {},
   "duration": 74.764467,
   "end_time": "2025-07-30T20:38:05.810909",
   "environment_variables": {},
   "exception": null,
   "input_path": "universe_analysis.ipynb",
   "output_path": "output/runs/14/notebooks/m_14-f009aaa952ba50e04a0d02142e1f2c32.ipynb",
   "parameters": {
    "output_dir": "output",
    "run_no": "14",
    "seed": "2023",
    "universe": "{\"cutoff\": [\"quantile_0.1\", \"quantile_0.25\"], \"eval_fairness_grouping\": [\"majority-minority\", \"nationality-all\"], \"exclude_features\": \"nationality\", \"exclude_subgroups\": \"keep-all\", \"model\": \"gbm\", \"scale\": \"do-not-scale\", \"training_size\": \"25k\", \"training_year\": \"2010_14\"}",
    "universe_id": "f009aaa952ba50e04a0d02142e1f2c32"
   },
   "start_time": "2025-07-30T20:36:51.046442",
   "version": "2.6.0"
  }
 },
 "nbformat": 4,
 "nbformat_minor": 5
}