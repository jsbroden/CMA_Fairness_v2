{
 "cells": [
  {
   "cell_type": "code",
   "execution_count": 1,
   "id": "f159f837-637b-42ba-96b5-ec9a68c44524",
   "metadata": {
    "execution": {
     "iopub.execute_input": "2025-07-30T21:11:33.915985Z",
     "iopub.status.busy": "2025-07-30T21:11:33.915478Z",
     "iopub.status.idle": "2025-07-30T21:11:33.930276Z",
     "shell.execute_reply": "2025-07-30T21:11:33.929153Z"
    },
    "papermill": {
     "duration": 0.02811,
     "end_time": "2025-07-30T21:11:33.931995",
     "exception": false,
     "start_time": "2025-07-30T21:11:33.903885",
     "status": "completed"
    },
    "tags": []
   },
   "outputs": [
    {
     "name": "stdout",
     "output_type": "stream",
     "text": [
      "/dss/dsshome1/0C/ra93lal2/cma/CMA_Fairness_v2\n"
     ]
    },
    {
     "name": "stderr",
     "output_type": "stream",
     "text": [
      "/dss/dsshome1/0C/ra93lal2/.local/share/virtualenvs/CMA_Fairness_v2-3j10GkSs/lib/python3.10/site-packages/IPython/core/magics/osm.py:393: UserWarning: This is now an optional IPython functionality, using bookmarks requires you to install the `pickleshare` library.\n",
      "  bkms = self.shell.db.get('bookmarks', {})\n",
      "/dss/dsshome1/0C/ra93lal2/.local/share/virtualenvs/CMA_Fairness_v2-3j10GkSs/lib/python3.10/site-packages/IPython/core/magics/osm.py:417: UserWarning: This is now an optional IPython functionality, setting dhist requires you to install the `pickleshare` library.\n",
      "  self.shell.db['dhist'] = compress_dhist(dhist)[-100:]\n"
     ]
    }
   ],
   "source": [
    "%cd ~/cma/CMA_Fairness_v2"
   ]
  },
  {
   "cell_type": "markdown",
   "id": "de2603b9",
   "metadata": {
    "papermill": {
     "duration": 0.019954,
     "end_time": "2025-07-30T21:11:33.972961",
     "exception": false,
     "start_time": "2025-07-30T21:11:33.953007",
     "status": "completed"
    },
    "tags": []
   },
   "source": [
    "The following cell holds the definition of our parameters, these values can be overriden by rendering the with e.g. the following command:\n",
    "\n",
    "papermill -p alpha 0.2 -p ratio 0.3 universe_analysis.ipynb output/test_run.ipynb"
   ]
  },
  {
   "cell_type": "code",
   "execution_count": 2,
   "id": "a80968a0-40bb-4fa9-85ef-2d5eefb01975",
   "metadata": {
    "execution": {
     "iopub.execute_input": "2025-07-30T21:11:34.015405Z",
     "iopub.status.busy": "2025-07-30T21:11:34.014914Z",
     "iopub.status.idle": "2025-07-30T21:11:34.020334Z",
     "shell.execute_reply": "2025-07-30T21:11:34.019394Z"
    },
    "papermill": {
     "duration": 0.029111,
     "end_time": "2025-07-30T21:11:34.021972",
     "exception": false,
     "start_time": "2025-07-30T21:11:33.992861",
     "status": "completed"
    },
    "tags": []
   },
   "outputs": [
    {
     "name": "stdout",
     "output_type": "stream",
     "text": [
      "Current working directory: /dss/dsshome1/0C/ra93lal2/cma/CMA_Fairness_v2\n"
     ]
    }
   ],
   "source": [
    "import os\n",
    "print(\"Current working directory:\", os.getcwd())"
   ]
  },
  {
   "cell_type": "code",
   "execution_count": 3,
   "id": "2dce4c03",
   "metadata": {
    "execution": {
     "iopub.execute_input": "2025-07-30T21:11:34.068360Z",
     "iopub.status.busy": "2025-07-30T21:11:34.067877Z",
     "iopub.status.idle": "2025-07-30T21:11:34.075360Z",
     "shell.execute_reply": "2025-07-30T21:11:34.074279Z"
    },
    "papermill": {
     "duration": 0.034628,
     "end_time": "2025-07-30T21:11:34.077172",
     "exception": false,
     "start_time": "2025-07-30T21:11:34.042544",
     "status": "completed"
    },
    "tags": [
     "parameters"
    ]
   },
   "outputs": [],
   "source": [
    "run_no = 0\n",
    "universe_id = \"test\"\n",
    "universe = {\n",
    "    \"training_size\": \"25k\", # \"25k\", \"5k\", \"1k\"\n",
    "    \"training_year\": \"2014\", # \"2014\", \"2012_14\", \"2010_14\"\n",
    "    \"scale\": \"scale\", # \"scale\", \"do-not-scale\",\n",
    "    #\"stratify_split\": \"target\", # \"none\", \"target\", \"protected-attribute\", \"both\",\n",
    "    \"model\": \"elasticnet\", # \"logreg\", \"penalized_logreg\", \"rf\", \"gbm\", \"elasticnet\"\n",
    "    \"cutoff\": [\"quantile_0.15\", \"quantile_0.30\"],\n",
    "    \"exclude_features\": \"age\", # \"none\", \"nationality\", \"sex\", \"nationality-sex\", \"age\"\n",
    "    \"exclude_subgroups\": \"keep-all\", # \"keep-all\", \"drop-non-german\"\n",
    "    \"eval_fairness_grouping\": [\"majority-minority\", \"nationality-all\"]\n",
    "}\n",
    "\n",
    "output_dir=\"./output\"\n",
    "seed=0"
   ]
  },
  {
   "cell_type": "code",
   "execution_count": 4,
   "id": "90c4ce35",
   "metadata": {
    "execution": {
     "iopub.execute_input": "2025-07-30T21:11:34.112848Z",
     "iopub.status.busy": "2025-07-30T21:11:34.112507Z",
     "iopub.status.idle": "2025-07-30T21:11:34.116477Z",
     "shell.execute_reply": "2025-07-30T21:11:34.115807Z"
    },
    "papermill": {
     "duration": 0.018008,
     "end_time": "2025-07-30T21:11:34.117671",
     "exception": false,
     "start_time": "2025-07-30T21:11:34.099663",
     "status": "completed"
    },
    "tags": [
     "injected-parameters"
    ]
   },
   "outputs": [],
   "source": [
    "# Parameters\n",
    "universe_id = \"e42788e6a831ebb56ae01c4699b88501\"\n",
    "run_no = \"14\"\n",
    "universe = \"{\\\"cutoff\\\": [\\\"quantile_0.1\\\", \\\"quantile_0.25\\\"], \\\"eval_fairness_grouping\\\": [\\\"majority-minority\\\", \\\"nationality-all\\\"], \\\"exclude_features\\\": \\\"none\\\", \\\"exclude_subgroups\\\": \\\"drop-non-german\\\", \\\"model\\\": \\\"rf\\\", \\\"scale\\\": \\\"scale\\\", \\\"training_size\\\": \\\"5k\\\", \\\"training_year\\\": \\\"2010_14\\\"}\"\n",
    "output_dir = \"output\"\n",
    "seed = \"2023\"\n"
   ]
  },
  {
   "cell_type": "code",
   "execution_count": 5,
   "id": "1650acaf",
   "metadata": {
    "execution": {
     "iopub.execute_input": "2025-07-30T21:11:34.140732Z",
     "iopub.status.busy": "2025-07-30T21:11:34.140397Z",
     "iopub.status.idle": "2025-07-30T21:11:34.160200Z",
     "shell.execute_reply": "2025-07-30T21:11:34.159450Z"
    },
    "papermill": {
     "duration": 0.032946,
     "end_time": "2025-07-30T21:11:34.161764",
     "exception": false,
     "start_time": "2025-07-30T21:11:34.128818",
     "status": "completed"
    },
    "tags": []
   },
   "outputs": [],
   "source": [
    "import json\n",
    "# Parse universe into dict if it is passed as a string\n",
    "if isinstance(universe, str):\n",
    "    universe = json.loads(universe)"
   ]
  },
  {
   "cell_type": "code",
   "execution_count": 6,
   "id": "16620c48",
   "metadata": {
    "execution": {
     "iopub.execute_input": "2025-07-30T21:11:34.184905Z",
     "iopub.status.busy": "2025-07-30T21:11:34.184567Z",
     "iopub.status.idle": "2025-07-30T21:11:34.228532Z",
     "shell.execute_reply": "2025-07-30T21:11:34.227499Z"
    },
    "papermill": {
     "duration": 0.057516,
     "end_time": "2025-07-30T21:11:34.230417",
     "exception": false,
     "start_time": "2025-07-30T21:11:34.172901",
     "status": "completed"
    },
    "tags": []
   },
   "outputs": [],
   "source": [
    "# Auto-reload the custom package\n",
    "%load_ext autoreload\n",
    "%autoreload 1\n",
    "%aimport fairness_multiverse"
   ]
  },
  {
   "cell_type": "code",
   "execution_count": 7,
   "id": "01c5c9f3",
   "metadata": {
    "execution": {
     "iopub.execute_input": "2025-07-30T21:11:34.273788Z",
     "iopub.status.busy": "2025-07-30T21:11:34.272888Z",
     "iopub.status.idle": "2025-07-30T21:11:36.216178Z",
     "shell.execute_reply": "2025-07-30T21:11:36.215123Z"
    },
    "papermill": {
     "duration": 1.96696,
     "end_time": "2025-07-30T21:11:36.218265",
     "exception": false,
     "start_time": "2025-07-30T21:11:34.251305",
     "status": "completed"
    },
    "tags": []
   },
   "outputs": [],
   "source": [
    "from fairness_multiverse.universe import UniverseAnalysis\n",
    "\n",
    "universe_analysis = UniverseAnalysis(\n",
    "    run_no = run_no,\n",
    "    universe_id = universe_id,\n",
    "    universe = universe,\n",
    "    output_dir=output_dir,\n",
    ")"
   ]
  },
  {
   "cell_type": "code",
   "execution_count": 8,
   "id": "106241f5",
   "metadata": {
    "execution": {
     "iopub.execute_input": "2025-07-30T21:11:36.264273Z",
     "iopub.status.busy": "2025-07-30T21:11:36.263678Z",
     "iopub.status.idle": "2025-07-30T21:11:36.270908Z",
     "shell.execute_reply": "2025-07-30T21:11:36.269924Z"
    },
    "papermill": {
     "duration": 0.033082,
     "end_time": "2025-07-30T21:11:36.272573",
     "exception": false,
     "start_time": "2025-07-30T21:11:36.239491",
     "status": "completed"
    },
    "tags": []
   },
   "outputs": [
    {
     "name": "stdout",
     "output_type": "stream",
     "text": [
      "Using Seed: 2023\n"
     ]
    }
   ],
   "source": [
    "import numpy as np\n",
    "parsed_seed = int(seed)\n",
    "np.random.seed(parsed_seed)\n",
    "print(f\"Using Seed: {parsed_seed}\")"
   ]
  },
  {
   "cell_type": "markdown",
   "id": "e0ebdc57",
   "metadata": {
    "papermill": {
     "duration": 0.02254,
     "end_time": "2025-07-30T21:11:36.316468",
     "exception": false,
     "start_time": "2025-07-30T21:11:36.293928",
     "status": "completed"
    },
    "tags": []
   },
   "source": [
    "# Loading Data"
   ]
  },
  {
   "cell_type": "markdown",
   "id": "681925a3",
   "metadata": {
    "papermill": {
     "duration": 0.018817,
     "end_time": "2025-07-30T21:11:36.352418",
     "exception": false,
     "start_time": "2025-07-30T21:11:36.333601",
     "status": "completed"
    },
    "tags": []
   },
   "source": [
    "Load siab_train, siab_test, siab_calib and/or \n",
    "load siab_train_features, siab_train_labels"
   ]
  },
  {
   "cell_type": "code",
   "execution_count": 9,
   "id": "f0496b8a",
   "metadata": {
    "execution": {
     "iopub.execute_input": "2025-07-30T21:11:36.397242Z",
     "iopub.status.busy": "2025-07-30T21:11:36.396729Z",
     "iopub.status.idle": "2025-07-30T21:11:48.516335Z",
     "shell.execute_reply": "2025-07-30T21:11:48.515210Z"
    },
    "papermill": {
     "duration": 12.143465,
     "end_time": "2025-07-30T21:11:48.517965",
     "exception": false,
     "start_time": "2025-07-30T21:11:36.374500",
     "status": "completed"
    },
    "tags": []
   },
   "outputs": [
    {
     "name": "stdout",
     "output_type": "stream",
     "text": [
      "Loading SIAB data from cache: data/siab_cached.csv.gz\n"
     ]
    },
    {
     "name": "stdout",
     "output_type": "stream",
     "text": [
      "(643690, 164)\n"
     ]
    }
   ],
   "source": [
    "from pathlib import Path\n",
    "import pandas as pd\n",
    "\n",
    "# File paths\n",
    "raw_file = Path(\"data/raw/siab.csv\")\n",
    "cache_file = Path(\"data/siab_cached.csv.gz\")\n",
    "\n",
    "# Ensure cache directory exists\n",
    "cache_file.parent.mkdir(parents=True, exist_ok=True)\n",
    "\n",
    "# Load with simple caching\n",
    "if cache_file.exists():\n",
    "    print(f\"Loading SIAB data from cache: {cache_file}\")\n",
    "    siab = pd.read_csv(cache_file, compression='gzip')\n",
    "else:\n",
    "    print(f\"Cache not found. Reading raw SIAB data: {raw_file}\")\n",
    "    siab = pd.read_csv(raw_file)\n",
    "    siab.to_csv(cache_file, index=False, compression='gzip')\n",
    "    print(f\"Cached SIAB data to: {cache_file}\")\n",
    "\n",
    "# Now use `siab` DataFrame as needed\n",
    "print(siab.shape)"
   ]
  },
  {
   "cell_type": "code",
   "execution_count": 10,
   "id": "db0ca512-5f53-4dba-abdb-a2888bca41ba",
   "metadata": {
    "execution": {
     "iopub.execute_input": "2025-07-30T21:11:48.630365Z",
     "iopub.status.busy": "2025-07-30T21:11:48.629947Z",
     "iopub.status.idle": "2025-07-30T21:11:48.635832Z",
     "shell.execute_reply": "2025-07-30T21:11:48.634846Z"
    },
    "papermill": {
     "duration": 0.071235,
     "end_time": "2025-07-30T21:11:48.637259",
     "exception": false,
     "start_time": "2025-07-30T21:11:48.566024",
     "status": "completed"
    },
    "tags": []
   },
   "outputs": [],
   "source": [
    "#siab"
   ]
  },
  {
   "cell_type": "code",
   "execution_count": 11,
   "id": "a0edb063",
   "metadata": {
    "execution": {
     "iopub.execute_input": "2025-07-30T21:11:48.721664Z",
     "iopub.status.busy": "2025-07-30T21:11:48.720977Z",
     "iopub.status.idle": "2025-07-30T21:11:48.725906Z",
     "shell.execute_reply": "2025-07-30T21:11:48.725054Z"
    },
    "papermill": {
     "duration": 0.066304,
     "end_time": "2025-07-30T21:11:48.728499",
     "exception": false,
     "start_time": "2025-07-30T21:11:48.662195",
     "status": "completed"
    },
    "tags": []
   },
   "outputs": [],
   "source": [
    "#import pandas as pd\n",
    "#\n",
    "#X_train = pd.read_csv(\"./data/X_train.csv\")\n",
    "#y_train = pd.read_csv(\"./data/y_train.csv\")"
   ]
  },
  {
   "cell_type": "code",
   "execution_count": 12,
   "id": "63d08085",
   "metadata": {
    "execution": {
     "iopub.execute_input": "2025-07-30T21:11:48.798137Z",
     "iopub.status.busy": "2025-07-30T21:11:48.797744Z",
     "iopub.status.idle": "2025-07-30T21:11:48.802855Z",
     "shell.execute_reply": "2025-07-30T21:11:48.801978Z"
    },
    "papermill": {
     "duration": 0.050003,
     "end_time": "2025-07-30T21:11:48.821338",
     "exception": false,
     "start_time": "2025-07-30T21:11:48.771335",
     "status": "completed"
    },
    "tags": []
   },
   "outputs": [],
   "source": [
    "#X_test = pd.read_csv(\"./data/X_test.csv\")\n",
    "#y_true = pd.read_csv(\"./data/y_test.csv\")"
   ]
  },
  {
   "cell_type": "code",
   "execution_count": 13,
   "id": "98a8d0fa-1d3d-4ed8-bb2c-281470e24add",
   "metadata": {
    "execution": {
     "iopub.execute_input": "2025-07-30T21:11:48.906957Z",
     "iopub.status.busy": "2025-07-30T21:11:48.906561Z",
     "iopub.status.idle": "2025-07-30T21:11:48.911809Z",
     "shell.execute_reply": "2025-07-30T21:11:48.910816Z"
    },
    "papermill": {
     "duration": 0.04615,
     "end_time": "2025-07-30T21:11:48.914709",
     "exception": false,
     "start_time": "2025-07-30T21:11:48.868559",
     "status": "completed"
    },
    "tags": []
   },
   "outputs": [],
   "source": [
    "# Calibration data for conformal\n",
    "#X_calib = pd.read_csv(\"./data/X_calib.csv\")\n",
    "#y_calib = pd.read_csv(\"./data/y_calib.csv\")"
   ]
  },
  {
   "cell_type": "markdown",
   "id": "997051c5-15bd-4b69-9786-c3001a3ce484",
   "metadata": {
    "papermill": {
     "duration": 0.019504,
     "end_time": "2025-07-30T21:11:48.953047",
     "exception": false,
     "start_time": "2025-07-30T21:11:48.933543",
     "status": "completed"
    },
    "tags": []
   },
   "source": [
    "# Splitting Data and Setting Training Data Size"
   ]
  },
  {
   "cell_type": "code",
   "execution_count": 14,
   "id": "e993b61f-042d-41a6-8c81-f55681f86335",
   "metadata": {
    "execution": {
     "iopub.execute_input": "2025-07-30T21:11:48.993748Z",
     "iopub.status.busy": "2025-07-30T21:11:48.993363Z",
     "iopub.status.idle": "2025-07-30T21:11:49.007363Z",
     "shell.execute_reply": "2025-07-30T21:11:49.006427Z"
    },
    "papermill": {
     "duration": 0.036875,
     "end_time": "2025-07-30T21:11:49.009489",
     "exception": false,
     "start_time": "2025-07-30T21:11:48.972614",
     "status": "completed"
    },
    "tags": []
   },
   "outputs": [],
   "source": [
    "def sample_by_year_size(df,\n",
    "                        training_year: str,\n",
    "                        training_size: str,\n",
    "                        random_state: int = 42):\n",
    "    # --- parse training_year into a list of int years ---\n",
    "    if \"_\" in training_year:\n",
    "        start_str, end_str = training_year.split(\"_\", 1)\n",
    "        start = int(start_str)\n",
    "        end   = int(end_str) if len(end_str) == 4 else (int(end_str) + (start // 100)*100)\n",
    "        years = list(range(start, end + 1))\n",
    "    else:\n",
    "        years = [int(training_year)]\n",
    "\n",
    "    df = df[df[\"year\"].isin(years)].reset_index(drop=True)\n",
    "\n",
    "    # --- map training_size to total number of samples ---\n",
    "    total_map = {\"25k\": 25_000, \"5k\": 5_000, \"1k\": 1_000}\n",
    "    if training_size not in total_map:\n",
    "        return df  # e.g. \"all\"\n",
    "\n",
    "    total_samples = total_map[training_size]\n",
    "    n_years       = len(years)\n",
    "    base          = total_samples // n_years\n",
    "    remainder     = total_samples % n_years\n",
    "\n",
    "    # --- build a dict: year -> how many to sample ---\n",
    "    # give +1 to the first `remainder` years in ascending order\n",
    "    quotas = {\n",
    "        year: base + (1 if idx < remainder else 0)\n",
    "        for idx, year in enumerate(sorted(years))\n",
    "    }\n",
    "\n",
    "    # --- sample per‐year according to the quota dict ---\n",
    "    sampled = (\n",
    "        df\n",
    "        .groupby(\"year\", group_keys=False)\n",
    "        .apply(lambda grp: grp.sample(\n",
    "            n=min(len(grp), quotas[grp.name]),\n",
    "            random_state=random_state))\n",
    "        .reset_index(drop=True)\n",
    "    )\n",
    "\n",
    "    return sampled"
   ]
  },
  {
   "cell_type": "code",
   "execution_count": 15,
   "id": "c0ccd338-0e02-41f3-a09d-f56f9266e3fb",
   "metadata": {
    "execution": {
     "iopub.execute_input": "2025-07-30T21:11:49.051171Z",
     "iopub.status.busy": "2025-07-30T21:11:49.050791Z",
     "iopub.status.idle": "2025-07-30T21:11:49.056096Z",
     "shell.execute_reply": "2025-07-30T21:11:49.055182Z"
    },
    "papermill": {
     "duration": 0.028922,
     "end_time": "2025-07-30T21:11:49.058733",
     "exception": false,
     "start_time": "2025-07-30T21:11:49.029811",
     "status": "completed"
    },
    "tags": []
   },
   "outputs": [],
   "source": [
    "#universe[\"training_size\"]"
   ]
  },
  {
   "cell_type": "code",
   "execution_count": 16,
   "id": "ca707fd7-8047-4acd-bfa5-66248fbbf8e6",
   "metadata": {
    "execution": {
     "iopub.execute_input": "2025-07-30T21:11:49.136729Z",
     "iopub.status.busy": "2025-07-30T21:11:49.136322Z",
     "iopub.status.idle": "2025-07-30T21:11:49.141396Z",
     "shell.execute_reply": "2025-07-30T21:11:49.140572Z"
    },
    "papermill": {
     "duration": 0.043313,
     "end_time": "2025-07-30T21:11:49.143918",
     "exception": false,
     "start_time": "2025-07-30T21:11:49.100605",
     "status": "completed"
    },
    "tags": []
   },
   "outputs": [],
   "source": [
    "#universe[\"training_year\"]"
   ]
  },
  {
   "cell_type": "code",
   "execution_count": 17,
   "id": "aea9c6ef-6f46-42c8-85eb-5a62025c1508",
   "metadata": {
    "execution": {
     "iopub.execute_input": "2025-07-30T21:11:49.185904Z",
     "iopub.status.busy": "2025-07-30T21:11:49.185515Z",
     "iopub.status.idle": "2025-07-30T21:11:50.287723Z",
     "shell.execute_reply": "2025-07-30T21:11:50.286785Z"
    },
    "papermill": {
     "duration": 1.125011,
     "end_time": "2025-07-30T21:11:50.289776",
     "exception": false,
     "start_time": "2025-07-30T21:11:49.164765",
     "status": "completed"
    },
    "tags": []
   },
   "outputs": [],
   "source": [
    "siab_train = sample_by_year_size(siab,\n",
    "                               training_year=universe[\"training_year\"],\n",
    "                               training_size=universe[\"training_size\"])"
   ]
  },
  {
   "cell_type": "code",
   "execution_count": 18,
   "id": "8d3afb32-789d-442c-8d5d-9f5aa8dd2eed",
   "metadata": {
    "execution": {
     "iopub.execute_input": "2025-07-30T21:11:50.336792Z",
     "iopub.status.busy": "2025-07-30T21:11:50.336381Z",
     "iopub.status.idle": "2025-07-30T21:11:50.341131Z",
     "shell.execute_reply": "2025-07-30T21:11:50.340182Z"
    },
    "papermill": {
     "duration": 0.032279,
     "end_time": "2025-07-30T21:11:50.344007",
     "exception": false,
     "start_time": "2025-07-30T21:11:50.311728",
     "status": "completed"
    },
    "tags": []
   },
   "outputs": [],
   "source": [
    "#siab_train.shape"
   ]
  },
  {
   "cell_type": "code",
   "execution_count": 19,
   "id": "d582db68-1a4c-47fb-84fc-08518dc1975a",
   "metadata": {
    "execution": {
     "iopub.execute_input": "2025-07-30T21:11:50.389311Z",
     "iopub.status.busy": "2025-07-30T21:11:50.388925Z",
     "iopub.status.idle": "2025-07-30T21:11:50.394043Z",
     "shell.execute_reply": "2025-07-30T21:11:50.393083Z"
    },
    "papermill": {
     "duration": 0.029956,
     "end_time": "2025-07-30T21:11:50.397040",
     "exception": false,
     "start_time": "2025-07-30T21:11:50.367084",
     "status": "completed"
    },
    "tags": []
   },
   "outputs": [],
   "source": [
    "#display(siab_train.groupby(\"year\").size())"
   ]
  },
  {
   "cell_type": "code",
   "execution_count": 20,
   "id": "a561edb4-d032-42cb-8256-22eac1111c64",
   "metadata": {
    "execution": {
     "iopub.execute_input": "2025-07-30T21:11:50.442954Z",
     "iopub.status.busy": "2025-07-30T21:11:50.442520Z",
     "iopub.status.idle": "2025-07-30T21:11:50.668196Z",
     "shell.execute_reply": "2025-07-30T21:11:50.667274Z"
    },
    "papermill": {
     "duration": 0.250662,
     "end_time": "2025-07-30T21:11:50.669971",
     "exception": false,
     "start_time": "2025-07-30T21:11:50.419309",
     "status": "completed"
    },
    "tags": []
   },
   "outputs": [],
   "source": [
    "#siab_train = siab_s[siab_s.year < 2015]\n",
    "siab_calib = siab[siab.year == 2015]\n",
    "siab_test = siab[siab.year == 2016]"
   ]
  },
  {
   "cell_type": "code",
   "execution_count": 21,
   "id": "472de16f-c3db-4916-846b-1f0de9cf1746",
   "metadata": {
    "execution": {
     "iopub.execute_input": "2025-07-30T21:11:50.713709Z",
     "iopub.status.busy": "2025-07-30T21:11:50.712867Z",
     "iopub.status.idle": "2025-07-30T21:11:50.721122Z",
     "shell.execute_reply": "2025-07-30T21:11:50.719867Z"
    },
    "papermill": {
     "duration": 0.033178,
     "end_time": "2025-07-30T21:11:50.723413",
     "exception": false,
     "start_time": "2025-07-30T21:11:50.690235",
     "status": "completed"
    },
    "tags": []
   },
   "outputs": [],
   "source": [
    "X_train = siab_train.iloc[:,4:164]\n",
    "y_train = siab_train.iloc[:, [3]]"
   ]
  },
  {
   "cell_type": "code",
   "execution_count": 22,
   "id": "828c96af-f43a-4ed6-ba47-8ac73a47d56c",
   "metadata": {
    "execution": {
     "iopub.execute_input": "2025-07-30T21:11:50.781622Z",
     "iopub.status.busy": "2025-07-30T21:11:50.781157Z",
     "iopub.status.idle": "2025-07-30T21:11:50.833038Z",
     "shell.execute_reply": "2025-07-30T21:11:50.831969Z"
    },
    "papermill": {
     "duration": 0.083041,
     "end_time": "2025-07-30T21:11:50.835308",
     "exception": false,
     "start_time": "2025-07-30T21:11:50.752267",
     "status": "completed"
    },
    "tags": []
   },
   "outputs": [],
   "source": [
    "X_calib = siab_calib.iloc[:,4:164]\n",
    "y_calib = siab_calib.iloc[:, [3]]"
   ]
  },
  {
   "cell_type": "code",
   "execution_count": 23,
   "id": "c34be9c3-6bd6-476e-acd3-845840e303be",
   "metadata": {
    "execution": {
     "iopub.execute_input": "2025-07-30T21:11:50.883760Z",
     "iopub.status.busy": "2025-07-30T21:11:50.883101Z",
     "iopub.status.idle": "2025-07-30T21:11:50.936807Z",
     "shell.execute_reply": "2025-07-30T21:11:50.935739Z"
    },
    "papermill": {
     "duration": 0.078259,
     "end_time": "2025-07-30T21:11:50.938662",
     "exception": false,
     "start_time": "2025-07-30T21:11:50.860403",
     "status": "completed"
    },
    "tags": []
   },
   "outputs": [],
   "source": [
    "X_test = siab_test.iloc[:,4:164]\n",
    "y_true = siab_test.iloc[:, [3]]"
   ]
  },
  {
   "cell_type": "markdown",
   "id": "9901737e-04df-44f0-9100-f5ad144ed040",
   "metadata": {
    "papermill": {
     "duration": 0.02134,
     "end_time": "2025-07-30T21:11:50.982587",
     "exception": false,
     "start_time": "2025-07-30T21:11:50.961247",
     "status": "completed"
    },
    "tags": []
   },
   "source": [
    "# Splitting Data and Setting Training Data Size OLD VERSION"
   ]
  },
  {
   "cell_type": "code",
   "execution_count": 24,
   "id": "acbc8f7d-8fc8-4e86-8c59-5dcb0f58384b",
   "metadata": {
    "execution": {
     "iopub.execute_input": "2025-07-30T21:11:51.027117Z",
     "iopub.status.busy": "2025-07-30T21:11:51.026173Z",
     "iopub.status.idle": "2025-07-30T21:11:51.032268Z",
     "shell.execute_reply": "2025-07-30T21:11:51.031236Z"
    },
    "papermill": {
     "duration": 0.030923,
     "end_time": "2025-07-30T21:11:51.034825",
     "exception": false,
     "start_time": "2025-07-30T21:11:51.003902",
     "status": "completed"
    },
    "tags": []
   },
   "outputs": [],
   "source": [
    "#def sample_by_year(df, training_size, random_state=42):\n",
    "#    if training_size == \"2014\":\n",
    "#        return df[df[\"year\"] == 2014].reset_index(drop=True)\n",
    "#    \n",
    "#    size_map = {\n",
    "#        \"25k\": 5000,\n",
    "#        \"5k\": 1000,\n",
    "#        \"1k\": 200\n",
    "#    }\n",
    "#\n",
    "#    if training_size not in size_map:\n",
    "#        return df.reset_index(drop=True)  # use all data\n",
    "#\n",
    "#    n_per_year = size_map[training_size]\n",
    "#    grouped = df.groupby(\"year\")\n",
    "#    sampled = grouped.apply(lambda x: x.sample(n=min(n_per_year, len(x)), random_state=random_state))\n",
    "#    return sampled.reset_index(drop=True)"
   ]
  },
  {
   "cell_type": "code",
   "execution_count": 25,
   "id": "6d931f52-beaf-43ff-9e78-9d44a448d54e",
   "metadata": {
    "execution": {
     "iopub.execute_input": "2025-07-30T21:11:51.078192Z",
     "iopub.status.busy": "2025-07-30T21:11:51.077802Z",
     "iopub.status.idle": "2025-07-30T21:11:51.083357Z",
     "shell.execute_reply": "2025-07-30T21:11:51.082190Z"
    },
    "papermill": {
     "duration": 0.030836,
     "end_time": "2025-07-30T21:11:51.086717",
     "exception": false,
     "start_time": "2025-07-30T21:11:51.055881",
     "status": "completed"
    },
    "tags": []
   },
   "outputs": [],
   "source": [
    "#siab_s = sample_by_year(siab, universe[\"training_size\"])"
   ]
  },
  {
   "cell_type": "code",
   "execution_count": 26,
   "id": "5db0a40e-a4e2-4920-be85-b12ae061d70d",
   "metadata": {
    "execution": {
     "iopub.execute_input": "2025-07-30T21:11:51.131982Z",
     "iopub.status.busy": "2025-07-30T21:11:51.131593Z",
     "iopub.status.idle": "2025-07-30T21:11:51.137173Z",
     "shell.execute_reply": "2025-07-30T21:11:51.136091Z"
    },
    "papermill": {
     "duration": 0.03084,
     "end_time": "2025-07-30T21:11:51.140547",
     "exception": false,
     "start_time": "2025-07-30T21:11:51.109707",
     "status": "completed"
    },
    "tags": []
   },
   "outputs": [],
   "source": [
    "#display(siab_s.groupby(\"year\").size())"
   ]
  },
  {
   "cell_type": "code",
   "execution_count": 27,
   "id": "e6c733c5",
   "metadata": {
    "execution": {
     "iopub.execute_input": "2025-07-30T21:11:51.185369Z",
     "iopub.status.busy": "2025-07-30T21:11:51.184922Z",
     "iopub.status.idle": "2025-07-30T21:11:51.301217Z",
     "shell.execute_reply": "2025-07-30T21:11:51.300100Z"
    },
    "papermill": {
     "duration": 0.139935,
     "end_time": "2025-07-30T21:11:51.302927",
     "exception": false,
     "start_time": "2025-07-30T21:11:51.162992",
     "status": "completed"
    },
    "tags": []
   },
   "outputs": [],
   "source": [
    "# Auxiliary data needed downstream in the pipeline\n",
    "\n",
    "org_train = X_train.copy()\n",
    "org_test = X_test.copy()\n",
    "org_calib = X_calib.copy()"
   ]
  },
  {
   "cell_type": "code",
   "execution_count": 28,
   "id": "1466abac-c6da-4492-a62f-4240ae3783af",
   "metadata": {
    "execution": {
     "iopub.execute_input": "2025-07-30T21:11:51.346862Z",
     "iopub.status.busy": "2025-07-30T21:11:51.346474Z",
     "iopub.status.idle": "2025-07-30T21:11:51.351984Z",
     "shell.execute_reply": "2025-07-30T21:11:51.351121Z"
    },
    "papermill": {
     "duration": 0.030065,
     "end_time": "2025-07-30T21:11:51.354433",
     "exception": false,
     "start_time": "2025-07-30T21:11:51.324368",
     "status": "completed"
    },
    "tags": []
   },
   "outputs": [],
   "source": [
    "# put in other script?\n",
    "# Group sizes\n",
    "\n",
    "#def calculate_percentages(df, df_name):\n",
    "#    total_entries = len(df)\n",
    "#\n",
    "#    female_pct = (df['frau1'] == 1).mean() * 100\n",
    "#    non_german_pct = ((df['maxdeutsch1'] == 0) & (df['maxdeutsch.Missing.'] == 0)).mean() * 100\n",
    "#    non_german_male_pct = ((df['frau1'] == 0) & (df['maxdeutsch1'] == 0) & (df['maxdeutsch.Missing.'] == 0)).mean() * 100\n",
    "#    non_german_female_pct = ((df['frau1'] == 1) & (df['maxdeutsch1'] == 0) & (df['maxdeutsch.Missing.'] == 0)).mean() * 100\n",
    "#\n",
    "#    print(f\"--- {df_name} ---\")\n",
    "#    print(f\"Female: {female_pct:.2f}%\")\n",
    "#    print(f\"Non-German: {non_german_pct:.2f}%\")\n",
    "#    print(f\"Non-German Male: {non_german_male_pct:.2f}%\")\n",
    "#    print(f\"Non-German Female: {non_german_female_pct:.2f}%\\n\")\n",
    "#\n",
    "## Calculate for each DataFrame\n",
    "#calculate_percentages(siab_calib, \"siab_calib\")\n",
    "#calculate_percentages(siab_test, \"siab_test\")\n",
    "#calculate_percentages(siab_train, \"siab_train\")"
   ]
  },
  {
   "cell_type": "markdown",
   "id": "0a4a1b33",
   "metadata": {
    "papermill": {
     "duration": 0.021301,
     "end_time": "2025-07-30T21:11:51.397974",
     "exception": false,
     "start_time": "2025-07-30T21:11:51.376673",
     "status": "completed"
    },
    "tags": []
   },
   "source": [
    "# Preprocessing Data"
   ]
  },
  {
   "cell_type": "code",
   "execution_count": 29,
   "id": "ca879031",
   "metadata": {
    "execution": {
     "iopub.execute_input": "2025-07-30T21:11:51.440609Z",
     "iopub.status.busy": "2025-07-30T21:11:51.440223Z",
     "iopub.status.idle": "2025-07-30T21:11:51.446260Z",
     "shell.execute_reply": "2025-07-30T21:11:51.445275Z"
    },
    "papermill": {
     "duration": 0.030754,
     "end_time": "2025-07-30T21:11:51.449079",
     "exception": false,
     "start_time": "2025-07-30T21:11:51.418325",
     "status": "completed"
    },
    "tags": []
   },
   "outputs": [],
   "source": [
    "# EXCLUDE PROTECTED FEATURES\n",
    "# ----------------------\n",
    "# \"exclude_features\": \"none\", # \"nationality\", \"sex\", \"nationality-sex\"\n",
    "\n",
    "excluded_features = universe[\"exclude_features\"].split(\"-\") # split, e.g.: \"nationality-sex\" -> [\"nationality\", \"sex\"]\n",
    "excluded_features_dictionary = {\n",
    "    \"nationality\": [\"maxdeutsch1\", \"maxdeutsch.Missing.\"],\n",
    "    \"sex\": [\"frau1\"],\n",
    "    \"age\": [\"age\"],\n",
    "}\n"
   ]
  },
  {
   "cell_type": "code",
   "execution_count": 30,
   "id": "b745ac60",
   "metadata": {
    "execution": {
     "iopub.execute_input": "2025-07-30T21:11:51.495044Z",
     "iopub.status.busy": "2025-07-30T21:11:51.494619Z",
     "iopub.status.idle": "2025-07-30T21:11:51.500787Z",
     "shell.execute_reply": "2025-07-30T21:11:51.499613Z"
    },
    "papermill": {
     "duration": 0.031909,
     "end_time": "2025-07-30T21:11:51.503749",
     "exception": false,
     "start_time": "2025-07-30T21:11:51.471840",
     "status": "completed"
    },
    "tags": []
   },
   "outputs": [],
   "source": [
    "# Code nice names to column names\n",
    "\n",
    "excluded_features_columns = [\n",
    "    excluded_features_dictionary[f] for f in excluded_features if len(f) > 0 and f != \"none\"\n",
    "]"
   ]
  },
  {
   "cell_type": "code",
   "execution_count": 31,
   "id": "f84f73a2",
   "metadata": {
    "execution": {
     "iopub.execute_input": "2025-07-30T21:11:51.549311Z",
     "iopub.status.busy": "2025-07-30T21:11:51.548847Z",
     "iopub.status.idle": "2025-07-30T21:11:51.554702Z",
     "shell.execute_reply": "2025-07-30T21:11:51.553913Z"
    },
    "papermill": {
     "duration": 0.031357,
     "end_time": "2025-07-30T21:11:51.557563",
     "exception": false,
     "start_time": "2025-07-30T21:11:51.526206",
     "status": "completed"
    },
    "tags": []
   },
   "outputs": [],
   "source": [
    "from utils import flatten_once\n",
    "\n",
    "excluded_features_columns = flatten_once(excluded_features_columns)"
   ]
  },
  {
   "cell_type": "code",
   "execution_count": 32,
   "id": "884dea22",
   "metadata": {
    "execution": {
     "iopub.execute_input": "2025-07-30T21:11:51.605754Z",
     "iopub.status.busy": "2025-07-30T21:11:51.605272Z",
     "iopub.status.idle": "2025-07-30T21:11:51.611100Z",
     "shell.execute_reply": "2025-07-30T21:11:51.610222Z"
    },
    "papermill": {
     "duration": 0.030869,
     "end_time": "2025-07-30T21:11:51.613670",
     "exception": false,
     "start_time": "2025-07-30T21:11:51.582801",
     "status": "completed"
    },
    "tags": []
   },
   "outputs": [],
   "source": [
    "if len(excluded_features_columns) > 0:\n",
    "    print(f\"Dropping features: {excluded_features_columns}\")\n",
    "    X_train.drop(excluded_features_columns, axis=1, inplace=True)"
   ]
  },
  {
   "cell_type": "code",
   "execution_count": 33,
   "id": "95ab8b16",
   "metadata": {
    "execution": {
     "iopub.execute_input": "2025-07-30T21:11:51.657800Z",
     "iopub.status.busy": "2025-07-30T21:11:51.657334Z",
     "iopub.status.idle": "2025-07-30T21:11:51.663172Z",
     "shell.execute_reply": "2025-07-30T21:11:51.662345Z"
    },
    "papermill": {
     "duration": 0.030352,
     "end_time": "2025-07-30T21:11:51.665060",
     "exception": false,
     "start_time": "2025-07-30T21:11:51.634708",
     "status": "completed"
    },
    "tags": []
   },
   "outputs": [],
   "source": [
    "if len(excluded_features_columns) > 0:\n",
    "    print(f\"Dropping features: {excluded_features_columns}\")\n",
    "    X_test.drop(excluded_features_columns, axis=1, inplace=True)"
   ]
  },
  {
   "cell_type": "code",
   "execution_count": 34,
   "id": "1853aaf5-fb9f-46cb-a2b5-8ea4ae2237e4",
   "metadata": {
    "execution": {
     "iopub.execute_input": "2025-07-30T21:11:51.710555Z",
     "iopub.status.busy": "2025-07-30T21:11:51.710082Z",
     "iopub.status.idle": "2025-07-30T21:11:51.716025Z",
     "shell.execute_reply": "2025-07-30T21:11:51.715158Z"
    },
    "papermill": {
     "duration": 0.030785,
     "end_time": "2025-07-30T21:11:51.717980",
     "exception": false,
     "start_time": "2025-07-30T21:11:51.687195",
     "status": "completed"
    },
    "tags": []
   },
   "outputs": [],
   "source": [
    "if len(excluded_features_columns) > 0:\n",
    "    print(f\"Dropping features: {excluded_features_columns}\")\n",
    "    X_calib.drop(excluded_features_columns, axis=1, inplace=True)"
   ]
  },
  {
   "cell_type": "code",
   "execution_count": 35,
   "id": "6727d079-03e5-481e-9d38-292a90b7a0a8",
   "metadata": {
    "execution": {
     "iopub.execute_input": "2025-07-30T21:11:51.763403Z",
     "iopub.status.busy": "2025-07-30T21:11:51.762895Z",
     "iopub.status.idle": "2025-07-30T21:11:51.768413Z",
     "shell.execute_reply": "2025-07-30T21:11:51.767526Z"
    },
    "papermill": {
     "duration": 0.030103,
     "end_time": "2025-07-30T21:11:51.770167",
     "exception": false,
     "start_time": "2025-07-30T21:11:51.740064",
     "status": "completed"
    },
    "tags": []
   },
   "outputs": [],
   "source": [
    "# SPLIT & STRATIFY DATA\n",
    "# ----------------------"
   ]
  },
  {
   "cell_type": "code",
   "execution_count": 36,
   "id": "76c4dc6d",
   "metadata": {
    "execution": {
     "iopub.execute_input": "2025-07-30T21:11:51.815455Z",
     "iopub.status.busy": "2025-07-30T21:11:51.814955Z",
     "iopub.status.idle": "2025-07-30T21:11:51.820650Z",
     "shell.execute_reply": "2025-07-30T21:11:51.819609Z"
    },
    "papermill": {
     "duration": 0.030253,
     "end_time": "2025-07-30T21:11:51.822251",
     "exception": false,
     "start_time": "2025-07-30T21:11:51.791998",
     "status": "completed"
    },
    "tags": []
   },
   "outputs": [],
   "source": [
    "# EXCLUDE CERTAIN SUBGROUPS\n",
    "# ----------------------\n",
    "\n",
    "mode = universe.get(\"exclude_subgroups\", \"keep-all\") \n",
    "# Fetches the exclude_subgroups setting from the universe dict.\n",
    "# Defaults to \"keep-all\" if the key is missing."
   ]
  },
  {
   "cell_type": "code",
   "execution_count": 37,
   "id": "21994072",
   "metadata": {
    "execution": {
     "iopub.execute_input": "2025-07-30T21:11:51.864879Z",
     "iopub.status.busy": "2025-07-30T21:11:51.864258Z",
     "iopub.status.idle": "2025-07-30T21:11:51.871243Z",
     "shell.execute_reply": "2025-07-30T21:11:51.870430Z"
    },
    "papermill": {
     "duration": 0.030396,
     "end_time": "2025-07-30T21:11:51.872727",
     "exception": false,
     "start_time": "2025-07-30T21:11:51.842331",
     "status": "completed"
    },
    "tags": []
   },
   "outputs": [],
   "source": [
    "if mode == \"keep-all\":\n",
    "    keep_mask = pd.Series(True, index=org_train.index)\n",
    "\n",
    "# org_train contains the original feature columns from features_org (in Simson)\n",
    "# features_org contains unprocessed features, for me X_train at beginning ???\n",
    "# For keep-all, creates a boolean Series (keep_mask) of all True, so no rows are removed.\n",
    "\n",
    "elif mode == \"drop-non-german\":\n",
    "    keep_mask = org_train[\"maxdeutsch1\"] == 1 # ??? what about missing values?\n",
    "\n",
    "else:\n",
    "    raise ValueError(f\"Unsupported mode for exclude_subgroups: {mode}\")\n"
   ]
  },
  {
   "cell_type": "code",
   "execution_count": 38,
   "id": "71651440",
   "metadata": {
    "execution": {
     "iopub.execute_input": "2025-07-30T21:11:51.917357Z",
     "iopub.status.busy": "2025-07-30T21:11:51.916706Z",
     "iopub.status.idle": "2025-07-30T21:11:51.923722Z",
     "shell.execute_reply": "2025-07-30T21:11:51.922845Z"
    },
    "papermill": {
     "duration": 0.031107,
     "end_time": "2025-07-30T21:11:51.925298",
     "exception": false,
     "start_time": "2025-07-30T21:11:51.894191",
     "status": "completed"
    },
    "tags": []
   },
   "outputs": [
    {
     "name": "stdout",
     "output_type": "stream",
     "text": [
      "Dropping 657 rows (13.14%) where mode='drop-non-german'\n"
     ]
    }
   ],
   "source": [
    "n_drop = (~keep_mask).sum() # Calculates how many rows are set to be dropped\n",
    "if n_drop > 0:\n",
    "    pct = n_drop / len(keep_mask) * 100\n",
    "    print(f\"Dropping {n_drop} rows ({pct:.2f}%) where mode='{mode}'\")"
   ]
  },
  {
   "cell_type": "code",
   "execution_count": 39,
   "id": "5fb8eee5",
   "metadata": {
    "execution": {
     "iopub.execute_input": "2025-07-30T21:11:51.971260Z",
     "iopub.status.busy": "2025-07-30T21:11:51.970389Z",
     "iopub.status.idle": "2025-07-30T21:11:51.978062Z",
     "shell.execute_reply": "2025-07-30T21:11:51.977136Z"
    },
    "papermill": {
     "duration": 0.032767,
     "end_time": "2025-07-30T21:11:51.979669",
     "exception": false,
     "start_time": "2025-07-30T21:11:51.946902",
     "status": "completed"
    },
    "tags": []
   },
   "outputs": [],
   "source": [
    "X_train = X_train[keep_mask]"
   ]
  },
  {
   "cell_type": "code",
   "execution_count": 40,
   "id": "b202bb3a",
   "metadata": {
    "execution": {
     "iopub.execute_input": "2025-07-30T21:11:52.033809Z",
     "iopub.status.busy": "2025-07-30T21:11:52.033277Z",
     "iopub.status.idle": "2025-07-30T21:11:52.039393Z",
     "shell.execute_reply": "2025-07-30T21:11:52.038450Z"
    },
    "papermill": {
     "duration": 0.039453,
     "end_time": "2025-07-30T21:11:52.041235",
     "exception": false,
     "start_time": "2025-07-30T21:11:52.001782",
     "status": "completed"
    },
    "tags": []
   },
   "outputs": [],
   "source": [
    "y_train = y_train[keep_mask]"
   ]
  },
  {
   "cell_type": "markdown",
   "id": "493e2ac3",
   "metadata": {
    "papermill": {
     "duration": 0.026099,
     "end_time": "2025-07-30T21:11:52.089100",
     "exception": false,
     "start_time": "2025-07-30T21:11:52.063001",
     "status": "completed"
    },
    "tags": []
   },
   "source": [
    "# Model Training"
   ]
  },
  {
   "cell_type": "code",
   "execution_count": 41,
   "id": "679e1268",
   "metadata": {
    "execution": {
     "iopub.execute_input": "2025-07-30T21:11:52.138055Z",
     "iopub.status.busy": "2025-07-30T21:11:52.137331Z",
     "iopub.status.idle": "2025-07-30T21:11:52.248867Z",
     "shell.execute_reply": "2025-07-30T21:11:52.247857Z"
    },
    "papermill": {
     "duration": 0.137731,
     "end_time": "2025-07-30T21:11:52.250724",
     "exception": false,
     "start_time": "2025-07-30T21:11:52.112993",
     "status": "completed"
    },
    "tags": []
   },
   "outputs": [],
   "source": [
    "from sklearn.linear_model import LogisticRegression\n",
    "from sklearn.ensemble import GradientBoostingClassifier, RandomForestClassifier\n",
    "\n",
    "if (universe[\"model\"] == \"logreg\"):\n",
    "    model = LogisticRegression() #penalty=\"none\") #, solver=\"newton-cg\", max_iter=1) # include random_state=19 ?\n",
    "elif (universe[\"model\"] == \"penalized_logreg\"):\n",
    "    model = LogisticRegression(penalty=\"l2\", C=1.0) #, solver=\"newton-cg\", max_iter=1)\n",
    "elif (universe[\"model\"] == \"rf\"):\n",
    "    model = RandomForestClassifier(n_estimators=100, n_jobs=-1)\n",
    "elif (universe[\"model\"] == \"gbm\"):\n",
    "    model = GradientBoostingClassifier()\n",
    "elif (universe[\"model\"] == \"elasticnet\"):\n",
    "    model = LogisticRegression(penalty = 'elasticnet', solver = 'saga', l1_ratio = 0.5, max_iter=5000) # which solver to use?\n",
    "else:\n",
    "    raise \"Unsupported universe.model\""
   ]
  },
  {
   "cell_type": "code",
   "execution_count": 42,
   "id": "0cc8f744",
   "metadata": {
    "execution": {
     "iopub.execute_input": "2025-07-30T21:11:52.296694Z",
     "iopub.status.busy": "2025-07-30T21:11:52.295983Z",
     "iopub.status.idle": "2025-07-30T21:11:52.302555Z",
     "shell.execute_reply": "2025-07-30T21:11:52.301604Z"
    },
    "papermill": {
     "duration": 0.030621,
     "end_time": "2025-07-30T21:11:52.304285",
     "exception": false,
     "start_time": "2025-07-30T21:11:52.273664",
     "status": "completed"
    },
    "tags": []
   },
   "outputs": [],
   "source": [
    "import numpy as np\n",
    "from sklearn.pipeline import Pipeline\n",
    "from sklearn.preprocessing import StandardScaler\n",
    "\n",
    "model = Pipeline([\n",
    "    #(\"continuous_processor\", continuous_processor),\n",
    "    #(\"categorical_preprocessor\", categorical_preprocessor),\n",
    "    (\"scale\", StandardScaler() if universe[\"scale\"] == \"scale\" else None), \n",
    "    (\"model\", model),\n",
    "])"
   ]
  },
  {
   "cell_type": "code",
   "execution_count": 43,
   "id": "9442c04d",
   "metadata": {
    "execution": {
     "iopub.execute_input": "2025-07-30T21:11:52.357290Z",
     "iopub.status.busy": "2025-07-30T21:11:52.356800Z",
     "iopub.status.idle": "2025-07-30T21:11:53.225245Z",
     "shell.execute_reply": "2025-07-30T21:11:53.224335Z"
    },
    "papermill": {
     "duration": 0.897363,
     "end_time": "2025-07-30T21:11:53.226965",
     "exception": false,
     "start_time": "2025-07-30T21:11:52.329602",
     "status": "completed"
    },
    "tags": []
   },
   "outputs": [
    {
     "data": {
      "text/html": [
       "<style>#sk-container-id-1 {color: black;background-color: white;}#sk-container-id-1 pre{padding: 0;}#sk-container-id-1 div.sk-toggleable {background-color: white;}#sk-container-id-1 label.sk-toggleable__label {cursor: pointer;display: block;width: 100%;margin-bottom: 0;padding: 0.3em;box-sizing: border-box;text-align: center;}#sk-container-id-1 label.sk-toggleable__label-arrow:before {content: \"▸\";float: left;margin-right: 0.25em;color: #696969;}#sk-container-id-1 label.sk-toggleable__label-arrow:hover:before {color: black;}#sk-container-id-1 div.sk-estimator:hover label.sk-toggleable__label-arrow:before {color: black;}#sk-container-id-1 div.sk-toggleable__content {max-height: 0;max-width: 0;overflow: hidden;text-align: left;background-color: #f0f8ff;}#sk-container-id-1 div.sk-toggleable__content pre {margin: 0.2em;color: black;border-radius: 0.25em;background-color: #f0f8ff;}#sk-container-id-1 input.sk-toggleable__control:checked~div.sk-toggleable__content {max-height: 200px;max-width: 100%;overflow: auto;}#sk-container-id-1 input.sk-toggleable__control:checked~label.sk-toggleable__label-arrow:before {content: \"▾\";}#sk-container-id-1 div.sk-estimator input.sk-toggleable__control:checked~label.sk-toggleable__label {background-color: #d4ebff;}#sk-container-id-1 div.sk-label input.sk-toggleable__control:checked~label.sk-toggleable__label {background-color: #d4ebff;}#sk-container-id-1 input.sk-hidden--visually {border: 0;clip: rect(1px 1px 1px 1px);clip: rect(1px, 1px, 1px, 1px);height: 1px;margin: -1px;overflow: hidden;padding: 0;position: absolute;width: 1px;}#sk-container-id-1 div.sk-estimator {font-family: monospace;background-color: #f0f8ff;border: 1px dotted black;border-radius: 0.25em;box-sizing: border-box;margin-bottom: 0.5em;}#sk-container-id-1 div.sk-estimator:hover {background-color: #d4ebff;}#sk-container-id-1 div.sk-parallel-item::after {content: \"\";width: 100%;border-bottom: 1px solid gray;flex-grow: 1;}#sk-container-id-1 div.sk-label:hover label.sk-toggleable__label {background-color: #d4ebff;}#sk-container-id-1 div.sk-serial::before {content: \"\";position: absolute;border-left: 1px solid gray;box-sizing: border-box;top: 0;bottom: 0;left: 50%;z-index: 0;}#sk-container-id-1 div.sk-serial {display: flex;flex-direction: column;align-items: center;background-color: white;padding-right: 0.2em;padding-left: 0.2em;position: relative;}#sk-container-id-1 div.sk-item {position: relative;z-index: 1;}#sk-container-id-1 div.sk-parallel {display: flex;align-items: stretch;justify-content: center;background-color: white;position: relative;}#sk-container-id-1 div.sk-item::before, #sk-container-id-1 div.sk-parallel-item::before {content: \"\";position: absolute;border-left: 1px solid gray;box-sizing: border-box;top: 0;bottom: 0;left: 50%;z-index: -1;}#sk-container-id-1 div.sk-parallel-item {display: flex;flex-direction: column;z-index: 1;position: relative;background-color: white;}#sk-container-id-1 div.sk-parallel-item:first-child::after {align-self: flex-end;width: 50%;}#sk-container-id-1 div.sk-parallel-item:last-child::after {align-self: flex-start;width: 50%;}#sk-container-id-1 div.sk-parallel-item:only-child::after {width: 0;}#sk-container-id-1 div.sk-dashed-wrapped {border: 1px dashed gray;margin: 0 0.4em 0.5em 0.4em;box-sizing: border-box;padding-bottom: 0.4em;background-color: white;}#sk-container-id-1 div.sk-label label {font-family: monospace;font-weight: bold;display: inline-block;line-height: 1.2em;}#sk-container-id-1 div.sk-label-container {text-align: center;}#sk-container-id-1 div.sk-container {/* jupyter's `normalize.less` sets `[hidden] { display: none; }` but bootstrap.min.css set `[hidden] { display: none !important; }` so we also need the `!important` here to be able to override the default hidden behavior on the sphinx rendered scikit-learn.org. See: https://github.com/scikit-learn/scikit-learn/issues/21755 */display: inline-block !important;position: relative;}#sk-container-id-1 div.sk-text-repr-fallback {display: none;}</style><div id=\"sk-container-id-1\" class=\"sk-top-container\"><div class=\"sk-text-repr-fallback\"><pre>Pipeline(steps=[(&#x27;scale&#x27;, StandardScaler()),\n",
       "                (&#x27;model&#x27;, RandomForestClassifier(n_jobs=-1))])</pre><b>In a Jupyter environment, please rerun this cell to show the HTML representation or trust the notebook. <br />On GitHub, the HTML representation is unable to render, please try loading this page with nbviewer.org.</b></div><div class=\"sk-container\" hidden><div class=\"sk-item sk-dashed-wrapped\"><div class=\"sk-label-container\"><div class=\"sk-label sk-toggleable\"><input class=\"sk-toggleable__control sk-hidden--visually\" id=\"sk-estimator-id-1\" type=\"checkbox\" ><label for=\"sk-estimator-id-1\" class=\"sk-toggleable__label sk-toggleable__label-arrow\">Pipeline</label><div class=\"sk-toggleable__content\"><pre>Pipeline(steps=[(&#x27;scale&#x27;, StandardScaler()),\n",
       "                (&#x27;model&#x27;, RandomForestClassifier(n_jobs=-1))])</pre></div></div></div><div class=\"sk-serial\"><div class=\"sk-item\"><div class=\"sk-estimator sk-toggleable\"><input class=\"sk-toggleable__control sk-hidden--visually\" id=\"sk-estimator-id-2\" type=\"checkbox\" ><label for=\"sk-estimator-id-2\" class=\"sk-toggleable__label sk-toggleable__label-arrow\">StandardScaler</label><div class=\"sk-toggleable__content\"><pre>StandardScaler()</pre></div></div></div><div class=\"sk-item\"><div class=\"sk-estimator sk-toggleable\"><input class=\"sk-toggleable__control sk-hidden--visually\" id=\"sk-estimator-id-3\" type=\"checkbox\" ><label for=\"sk-estimator-id-3\" class=\"sk-toggleable__label sk-toggleable__label-arrow\">RandomForestClassifier</label><div class=\"sk-toggleable__content\"><pre>RandomForestClassifier(n_jobs=-1)</pre></div></div></div></div></div></div></div>"
      ],
      "text/plain": [
       "Pipeline(steps=[('scale', StandardScaler()),\n",
       "                ('model', RandomForestClassifier(n_jobs=-1))])"
      ]
     },
     "execution_count": 43,
     "metadata": {},
     "output_type": "execute_result"
    }
   ],
   "source": [
    "model.fit(X_train, y_train.values.ravel())"
   ]
  },
  {
   "cell_type": "code",
   "execution_count": 44,
   "id": "af59f8c0",
   "metadata": {
    "execution": {
     "iopub.execute_input": "2025-07-30T21:11:53.276657Z",
     "iopub.status.busy": "2025-07-30T21:11:53.275714Z",
     "iopub.status.idle": "2025-07-30T21:11:53.281304Z",
     "shell.execute_reply": "2025-07-30T21:11:53.280283Z"
    },
    "papermill": {
     "duration": 0.031808,
     "end_time": "2025-07-30T21:11:53.283169",
     "exception": false,
     "start_time": "2025-07-30T21:11:53.251361",
     "status": "completed"
    },
    "tags": []
   },
   "outputs": [],
   "source": [
    "from fairness_multiverse.universe import predict_w_threshold"
   ]
  },
  {
   "cell_type": "code",
   "execution_count": 45,
   "id": "a7cf2e16",
   "metadata": {
    "execution": {
     "iopub.execute_input": "2025-07-30T21:11:53.329756Z",
     "iopub.status.busy": "2025-07-30T21:11:53.329289Z",
     "iopub.status.idle": "2025-07-30T21:11:54.289235Z",
     "shell.execute_reply": "2025-07-30T21:11:54.288323Z"
    },
    "papermill": {
     "duration": 0.98503,
     "end_time": "2025-07-30T21:11:54.290990",
     "exception": false,
     "start_time": "2025-07-30T21:11:53.305960",
     "status": "completed"
    },
    "tags": []
   },
   "outputs": [
    {
     "data": {
      "text/plain": [
       "0.8620220711180471"
      ]
     },
     "execution_count": 45,
     "metadata": {},
     "output_type": "execute_result"
    }
   ],
   "source": [
    "probs_test = model.predict_proba(X_test)\n",
    "\n",
    "'''\n",
    "Below code returns a boolean array (or binary 0/1 array depending on how it’s used) where each element \n",
    "is True if the probability of class 1 is greater than or equal to the threshold, and False otherwise.\n",
    "'''\n",
    "y_pred_default = predict_w_threshold(probs_test, 0.5)\n",
    "\n",
    "from sklearn.metrics import accuracy_score\n",
    "\n",
    "# Naive prediction\n",
    "accuracy_score(y_true = y_true, y_pred = y_pred_default)"
   ]
  },
  {
   "cell_type": "code",
   "execution_count": 46,
   "id": "081964c3",
   "metadata": {
    "execution": {
     "iopub.execute_input": "2025-07-30T21:11:54.341137Z",
     "iopub.status.busy": "2025-07-30T21:11:54.340795Z",
     "iopub.status.idle": "2025-07-30T21:11:55.275732Z",
     "shell.execute_reply": "2025-07-30T21:11:55.274758Z"
    },
    "papermill": {
     "duration": 0.961691,
     "end_time": "2025-07-30T21:11:55.277666",
     "exception": false,
     "start_time": "2025-07-30T21:11:54.315975",
     "status": "completed"
    },
    "tags": []
   },
   "outputs": [
    {
     "data": {
      "text/plain": [
       "array([0, 0, 0, ..., 0, 0, 0])"
      ]
     },
     "execution_count": 46,
     "metadata": {},
     "output_type": "execute_result"
    }
   ],
   "source": [
    "model.predict(X_test)"
   ]
  },
  {
   "cell_type": "markdown",
   "id": "56c9705b",
   "metadata": {
    "papermill": {
     "duration": 0.024074,
     "end_time": "2025-07-30T21:11:55.325471",
     "exception": false,
     "start_time": "2025-07-30T21:11:55.301397",
     "status": "completed"
    },
    "tags": []
   },
   "source": [
    "# Conformal Prediction"
   ]
  },
  {
   "cell_type": "code",
   "execution_count": 47,
   "id": "160ec6ff",
   "metadata": {
    "execution": {
     "iopub.execute_input": "2025-07-30T21:11:55.377607Z",
     "iopub.status.busy": "2025-07-30T21:11:55.377176Z",
     "iopub.status.idle": "2025-07-30T21:11:55.385534Z",
     "shell.execute_reply": "2025-07-30T21:11:55.384688Z"
    },
    "papermill": {
     "duration": 0.037471,
     "end_time": "2025-07-30T21:11:55.387285",
     "exception": false,
     "start_time": "2025-07-30T21:11:55.349814",
     "status": "completed"
    },
    "tags": []
   },
   "outputs": [],
   "source": [
    "# Miscoverage level for conformal prediction (10% allowed error rate => 90% target coverage)\n",
    "alpha = 0.1"
   ]
  },
  {
   "cell_type": "code",
   "execution_count": 48,
   "id": "eadf4555-3dd3-440e-8e35-f82a4ad9f855",
   "metadata": {
    "execution": {
     "iopub.execute_input": "2025-07-30T21:11:55.446530Z",
     "iopub.status.busy": "2025-07-30T21:11:55.446126Z",
     "iopub.status.idle": "2025-07-30T21:11:56.426118Z",
     "shell.execute_reply": "2025-07-30T21:11:56.425044Z"
    },
    "papermill": {
     "duration": 1.005853,
     "end_time": "2025-07-30T21:11:56.428187",
     "exception": false,
     "start_time": "2025-07-30T21:11:55.422334",
     "status": "completed"
    },
    "tags": []
   },
   "outputs": [],
   "source": [
    "probs_calib = model.predict_proba(X_calib)"
   ]
  },
  {
   "cell_type": "code",
   "execution_count": 49,
   "id": "2ed93547-6d5d-4983-9b36-1ecb300da49a",
   "metadata": {
    "execution": {
     "iopub.execute_input": "2025-07-30T21:11:56.538637Z",
     "iopub.status.busy": "2025-07-30T21:11:56.538199Z",
     "iopub.status.idle": "2025-07-30T21:11:56.543964Z",
     "shell.execute_reply": "2025-07-30T21:11:56.542949Z"
    },
    "papermill": {
     "duration": 0.060819,
     "end_time": "2025-07-30T21:11:56.545498",
     "exception": false,
     "start_time": "2025-07-30T21:11:56.484679",
     "status": "completed"
    },
    "tags": []
   },
   "outputs": [],
   "source": [
    "y_calib = y_calib.values.ravel().astype(int)"
   ]
  },
  {
   "cell_type": "code",
   "execution_count": 50,
   "id": "65d1320d-f588-4b38-9072-62af1ae97f7d",
   "metadata": {
    "execution": {
     "iopub.execute_input": "2025-07-30T21:11:56.649022Z",
     "iopub.status.busy": "2025-07-30T21:11:56.648552Z",
     "iopub.status.idle": "2025-07-30T21:11:56.658100Z",
     "shell.execute_reply": "2025-07-30T21:11:56.657078Z"
    },
    "papermill": {
     "duration": 0.071758,
     "end_time": "2025-07-30T21:11:56.661248",
     "exception": false,
     "start_time": "2025-07-30T21:11:56.589490",
     "status": "completed"
    },
    "tags": []
   },
   "outputs": [],
   "source": [
    "from fairness_multiverse.conformal import compute_nc_scores\n",
    "\n",
    "# Compute nonconformity scores on calibration set (1 - probability of true class)\n",
    "nc_scores = compute_nc_scores(probs_calib, y_calib)"
   ]
  },
  {
   "cell_type": "code",
   "execution_count": 51,
   "id": "df3b8ca3-53b7-43d5-9667-7c85da7aeda2",
   "metadata": {
    "execution": {
     "iopub.execute_input": "2025-07-30T21:11:56.768093Z",
     "iopub.status.busy": "2025-07-30T21:11:56.767665Z",
     "iopub.status.idle": "2025-07-30T21:11:56.774756Z",
     "shell.execute_reply": "2025-07-30T21:11:56.773850Z"
    },
    "papermill": {
     "duration": 0.048395,
     "end_time": "2025-07-30T21:11:56.777748",
     "exception": false,
     "start_time": "2025-07-30T21:11:56.729353",
     "status": "completed"
    },
    "tags": []
   },
   "outputs": [],
   "source": [
    "from fairness_multiverse.conformal import find_threshold\n",
    "\n",
    "# Find conformal threshold q_hat for the given alpha (split conformal method)\n",
    "q_hat = find_threshold(nc_scores, alpha)"
   ]
  },
  {
   "cell_type": "code",
   "execution_count": 52,
   "id": "4d29e6c1-0ef6-4aa4-b8fe-4fe79b0d033a",
   "metadata": {
    "execution": {
     "iopub.execute_input": "2025-07-30T21:11:56.836934Z",
     "iopub.status.busy": "2025-07-30T21:11:56.836517Z",
     "iopub.status.idle": "2025-07-30T21:11:56.843795Z",
     "shell.execute_reply": "2025-07-30T21:11:56.842882Z"
    },
    "papermill": {
     "duration": 0.037058,
     "end_time": "2025-07-30T21:11:56.847513",
     "exception": false,
     "start_time": "2025-07-30T21:11:56.810455",
     "status": "completed"
    },
    "tags": []
   },
   "outputs": [
    {
     "data": {
      "text/plain": [
       "0.6599999999999999"
      ]
     },
     "execution_count": 52,
     "metadata": {},
     "output_type": "execute_result"
    }
   ],
   "source": [
    "q_hat"
   ]
  },
  {
   "cell_type": "code",
   "execution_count": 53,
   "id": "92460794-cdac-4be2-ba28-f28c0515a6fb",
   "metadata": {
    "execution": {
     "iopub.execute_input": "2025-07-30T21:11:56.919388Z",
     "iopub.status.busy": "2025-07-30T21:11:56.918962Z",
     "iopub.status.idle": "2025-07-30T21:11:58.629627Z",
     "shell.execute_reply": "2025-07-30T21:11:58.628570Z"
    },
    "papermill": {
     "duration": 1.747748,
     "end_time": "2025-07-30T21:11:58.631524",
     "exception": false,
     "start_time": "2025-07-30T21:11:56.883776",
     "status": "completed"
    },
    "tags": []
   },
   "outputs": [],
   "source": [
    "from fairness_multiverse.conformal import predict_conformal_sets\n",
    "\n",
    "# Generate prediction sets for each test example\n",
    "pred_sets = predict_conformal_sets(model, X_test, q_hat)"
   ]
  },
  {
   "cell_type": "code",
   "execution_count": 54,
   "id": "d90c9a65-e6db-4f5d-80cd-e68fb7e46829",
   "metadata": {
    "execution": {
     "iopub.execute_input": "2025-07-30T21:11:58.743294Z",
     "iopub.status.busy": "2025-07-30T21:11:58.742857Z",
     "iopub.status.idle": "2025-07-30T21:11:58.748656Z",
     "shell.execute_reply": "2025-07-30T21:11:58.747759Z"
    },
    "papermill": {
     "duration": 0.085117,
     "end_time": "2025-07-30T21:11:58.761384",
     "exception": false,
     "start_time": "2025-07-30T21:11:58.676267",
     "status": "completed"
    },
    "tags": []
   },
   "outputs": [],
   "source": [
    "y_true = y_true.squeeze()"
   ]
  },
  {
   "cell_type": "code",
   "execution_count": 55,
   "id": "3a58a54a-1e68-46b9-927a-df01f18aebc8",
   "metadata": {
    "execution": {
     "iopub.execute_input": "2025-07-30T21:11:58.847558Z",
     "iopub.status.busy": "2025-07-30T21:11:58.847154Z",
     "iopub.status.idle": "2025-07-30T21:11:59.784432Z",
     "shell.execute_reply": "2025-07-30T21:11:59.783546Z"
    },
    "papermill": {
     "duration": 0.96965,
     "end_time": "2025-07-30T21:11:59.786230",
     "exception": false,
     "start_time": "2025-07-30T21:11:58.816580",
     "status": "completed"
    },
    "tags": []
   },
   "outputs": [],
   "source": [
    "from fairness_multiverse.conformal import evaluate_sets\n",
    "\n",
    "# Evaluate coverage and average set size on test data\n",
    "metrics = evaluate_sets(pred_sets, y_true)"
   ]
  },
  {
   "cell_type": "markdown",
   "id": "2b569c12-9aaa-4c88-98c9-bbcd0cf3ebb8",
   "metadata": {
    "papermill": {
     "duration": 0.018047,
     "end_time": "2025-07-30T21:11:59.830372",
     "exception": false,
     "start_time": "2025-07-30T21:11:59.812325",
     "status": "completed"
    },
    "tags": []
   },
   "source": [
    "# CP Metrics"
   ]
  },
  {
   "cell_type": "code",
   "execution_count": 56,
   "id": "5ce0a5cb-201f-45a0-ade5-94c7f0bd6095",
   "metadata": {
    "execution": {
     "iopub.execute_input": "2025-07-30T21:11:59.879428Z",
     "iopub.status.busy": "2025-07-30T21:11:59.878982Z",
     "iopub.status.idle": "2025-07-30T21:11:59.885926Z",
     "shell.execute_reply": "2025-07-30T21:11:59.884866Z"
    },
    "papermill": {
     "duration": 0.034913,
     "end_time": "2025-07-30T21:11:59.887572",
     "exception": false,
     "start_time": "2025-07-30T21:11:59.852659",
     "status": "completed"
    },
    "tags": []
   },
   "outputs": [
    {
     "data": {
      "text/plain": [
       "{'coverage': 0.9119384683981719, 'avg_size': 1.1494705161074574}"
      ]
     },
     "execution_count": 56,
     "metadata": {},
     "output_type": "execute_result"
    }
   ],
   "source": [
    "metrics"
   ]
  },
  {
   "cell_type": "code",
   "execution_count": 57,
   "id": "9b9a838d-31c9-430b-ae14-12baee460d17",
   "metadata": {
    "execution": {
     "iopub.execute_input": "2025-07-30T21:11:59.940288Z",
     "iopub.status.busy": "2025-07-30T21:11:59.939764Z",
     "iopub.status.idle": "2025-07-30T21:11:59.946608Z",
     "shell.execute_reply": "2025-07-30T21:11:59.945514Z"
    },
    "papermill": {
     "duration": 0.036038,
     "end_time": "2025-07-30T21:11:59.949385",
     "exception": false,
     "start_time": "2025-07-30T21:11:59.913347",
     "status": "completed"
    },
    "tags": []
   },
   "outputs": [],
   "source": [
    "example_universe = universe.copy()\n",
    "universe_training_year = example_universe.get(\"training_year\")\n",
    "universe_training_size = example_universe.get(\"training_size\")\n",
    "universe_scale = example_universe.get(\"scale\")\n",
    "universe_model = example_universe.get(\"model\")\n",
    "universe_exclude_features = example_universe.get(\"exclude_features\")\n",
    "universe_exclude_subgroups = example_universe.get(\"exclude_subgroups\")"
   ]
  },
  {
   "cell_type": "code",
   "execution_count": 58,
   "id": "f4b6a8ac-9dc0-4245-8a91-5b3b5999c4f9",
   "metadata": {
    "execution": {
     "iopub.execute_input": "2025-07-30T21:12:00.001627Z",
     "iopub.status.busy": "2025-07-30T21:12:00.000999Z",
     "iopub.status.idle": "2025-07-30T21:12:00.007787Z",
     "shell.execute_reply": "2025-07-30T21:12:00.006815Z"
    },
    "papermill": {
     "duration": 0.034909,
     "end_time": "2025-07-30T21:12:00.009527",
     "exception": false,
     "start_time": "2025-07-30T21:11:59.974618",
     "status": "completed"
    },
    "tags": []
   },
   "outputs": [],
   "source": [
    "cp_metrics_dict = {\n",
    "    \"universe_id\": [universe_id],\n",
    "    \"universe_training_year\": [universe_training_year],\n",
    "    \"universe_training_size\": [universe_training_size],\n",
    "    \"universe_scale\": [universe_scale],\n",
    "    \"universe_model\": [universe_model],\n",
    "    \"universe_exclude_features\": [universe_exclude_features],\n",
    "    \"universe_exclude_subgroups\": [universe_exclude_subgroups],\n",
    "    \"q_hat\": [q_hat],\n",
    "    \"coverage\": [metrics[\"coverage\"]],\n",
    "    \"avg_size\": [metrics[\"avg_size\"]],\n",
    "}"
   ]
  },
  {
   "cell_type": "code",
   "execution_count": 59,
   "id": "908acbb1-0371-4915-85ca-3fa520d2efe2",
   "metadata": {
    "execution": {
     "iopub.execute_input": "2025-07-30T21:12:00.060114Z",
     "iopub.status.busy": "2025-07-30T21:12:00.059602Z",
     "iopub.status.idle": "2025-07-30T21:12:00.067763Z",
     "shell.execute_reply": "2025-07-30T21:12:00.066796Z"
    },
    "papermill": {
     "duration": 0.035853,
     "end_time": "2025-07-30T21:12:00.069482",
     "exception": false,
     "start_time": "2025-07-30T21:12:00.033629",
     "status": "completed"
    },
    "tags": []
   },
   "outputs": [
    {
     "data": {
      "text/plain": [
       "{'universe_id': ['e42788e6a831ebb56ae01c4699b88501'],\n",
       " 'universe_training_year': ['2010_14'],\n",
       " 'universe_training_size': ['5k'],\n",
       " 'universe_scale': ['scale'],\n",
       " 'universe_model': ['rf'],\n",
       " 'universe_exclude_features': ['none'],\n",
       " 'universe_exclude_subgroups': ['drop-non-german'],\n",
       " 'q_hat': [0.6599999999999999],\n",
       " 'coverage': [0.9119384683981719],\n",
       " 'avg_size': [1.1494705161074574]}"
      ]
     },
     "execution_count": 59,
     "metadata": {},
     "output_type": "execute_result"
    }
   ],
   "source": [
    "cp_metrics_dict"
   ]
  },
  {
   "cell_type": "code",
   "execution_count": 60,
   "id": "33007efc-14e9-4ec6-97ac-56a455c82265",
   "metadata": {
    "execution": {
     "iopub.execute_input": "2025-07-30T21:12:00.121659Z",
     "iopub.status.busy": "2025-07-30T21:12:00.120836Z",
     "iopub.status.idle": "2025-07-30T21:12:00.126945Z",
     "shell.execute_reply": "2025-07-30T21:12:00.126049Z"
    },
    "papermill": {
     "duration": 0.033876,
     "end_time": "2025-07-30T21:12:00.128825",
     "exception": false,
     "start_time": "2025-07-30T21:12:00.094949",
     "status": "completed"
    },
    "tags": []
   },
   "outputs": [],
   "source": [
    "cp_metrics_df = pd.DataFrame(cp_metrics_dict)"
   ]
  },
  {
   "cell_type": "code",
   "execution_count": 61,
   "id": "db12611b-57b2-4910-b9d0-355adfd6e7bf",
   "metadata": {
    "execution": {
     "iopub.execute_input": "2025-07-30T21:12:00.181751Z",
     "iopub.status.busy": "2025-07-30T21:12:00.181260Z",
     "iopub.status.idle": "2025-07-30T21:12:00.201509Z",
     "shell.execute_reply": "2025-07-30T21:12:00.200399Z"
    },
    "papermill": {
     "duration": 0.047584,
     "end_time": "2025-07-30T21:12:00.203203",
     "exception": false,
     "start_time": "2025-07-30T21:12:00.155619",
     "status": "completed"
    },
    "tags": []
   },
   "outputs": [
    {
     "data": {
      "text/html": [
       "<div>\n",
       "<style scoped>\n",
       "    .dataframe tbody tr th:only-of-type {\n",
       "        vertical-align: middle;\n",
       "    }\n",
       "\n",
       "    .dataframe tbody tr th {\n",
       "        vertical-align: top;\n",
       "    }\n",
       "\n",
       "    .dataframe thead th {\n",
       "        text-align: right;\n",
       "    }\n",
       "</style>\n",
       "<table border=\"1\" class=\"dataframe\">\n",
       "  <thead>\n",
       "    <tr style=\"text-align: right;\">\n",
       "      <th></th>\n",
       "      <th>universe_id</th>\n",
       "      <th>universe_training_year</th>\n",
       "      <th>universe_training_size</th>\n",
       "      <th>universe_scale</th>\n",
       "      <th>universe_model</th>\n",
       "      <th>universe_exclude_features</th>\n",
       "      <th>universe_exclude_subgroups</th>\n",
       "      <th>q_hat</th>\n",
       "      <th>coverage</th>\n",
       "      <th>avg_size</th>\n",
       "    </tr>\n",
       "  </thead>\n",
       "  <tbody>\n",
       "    <tr>\n",
       "      <th>0</th>\n",
       "      <td>e42788e6a831ebb56ae01c4699b88501</td>\n",
       "      <td>2010_14</td>\n",
       "      <td>5k</td>\n",
       "      <td>scale</td>\n",
       "      <td>rf</td>\n",
       "      <td>none</td>\n",
       "      <td>drop-non-german</td>\n",
       "      <td>0.66</td>\n",
       "      <td>0.911938</td>\n",
       "      <td>1.149471</td>\n",
       "    </tr>\n",
       "  </tbody>\n",
       "</table>\n",
       "</div>"
      ],
      "text/plain": [
       "                        universe_id universe_training_year  \\\n",
       "0  e42788e6a831ebb56ae01c4699b88501                2010_14   \n",
       "\n",
       "  universe_training_size universe_scale universe_model  \\\n",
       "0                     5k          scale             rf   \n",
       "\n",
       "  universe_exclude_features universe_exclude_subgroups  q_hat  coverage  \\\n",
       "0                      none            drop-non-german   0.66  0.911938   \n",
       "\n",
       "   avg_size  \n",
       "0  1.149471  "
      ]
     },
     "execution_count": 61,
     "metadata": {},
     "output_type": "execute_result"
    }
   ],
   "source": [
    "cp_metrics_df"
   ]
  },
  {
   "cell_type": "code",
   "execution_count": 62,
   "id": "b7fbde55-a0a1-47e4-9af6-fe4a17fa8c61",
   "metadata": {
    "execution": {
     "iopub.execute_input": "2025-07-30T21:12:00.258871Z",
     "iopub.status.busy": "2025-07-30T21:12:00.258138Z",
     "iopub.status.idle": "2025-07-30T21:12:00.263396Z",
     "shell.execute_reply": "2025-07-30T21:12:00.262460Z"
    },
    "papermill": {
     "duration": 0.034987,
     "end_time": "2025-07-30T21:12:00.265075",
     "exception": false,
     "start_time": "2025-07-30T21:12:00.230088",
     "status": "completed"
    },
    "tags": []
   },
   "outputs": [],
   "source": [
    "# Conditional Coverage & looking at subgroups"
   ]
  },
  {
   "cell_type": "code",
   "execution_count": 63,
   "id": "027ae886-68dd-4141-96c7-805a5450e1ef",
   "metadata": {
    "execution": {
     "iopub.execute_input": "2025-07-30T21:12:00.320183Z",
     "iopub.status.busy": "2025-07-30T21:12:00.319421Z",
     "iopub.status.idle": "2025-07-30T21:12:00.591142Z",
     "shell.execute_reply": "2025-07-30T21:12:00.590141Z"
    },
    "papermill": {
     "duration": 0.30057,
     "end_time": "2025-07-30T21:12:00.593045",
     "exception": false,
     "start_time": "2025-07-30T21:12:00.292475",
     "status": "completed"
    },
    "tags": []
   },
   "outputs": [],
   "source": [
    "from fairness_multiverse.conformal import build_cp_groups\n",
    "\n",
    "cp_groups_df = build_cp_groups(pred_sets, y_true, X_test.index, org_test)\n",
    "#needs universe_id and setting"
   ]
  },
  {
   "cell_type": "code",
   "execution_count": 64,
   "id": "01d5802c-663a-4d1f-9d69-e036faaffbf7",
   "metadata": {
    "execution": {
     "iopub.execute_input": "2025-07-30T21:12:00.652474Z",
     "iopub.status.busy": "2025-07-30T21:12:00.651960Z",
     "iopub.status.idle": "2025-07-30T21:12:00.656922Z",
     "shell.execute_reply": "2025-07-30T21:12:00.655918Z"
    },
    "papermill": {
     "duration": 0.036237,
     "end_time": "2025-07-30T21:12:00.658571",
     "exception": false,
     "start_time": "2025-07-30T21:12:00.622334",
     "status": "completed"
    },
    "tags": []
   },
   "outputs": [],
   "source": [
    "#delete\n",
    "#cp_groups_df"
   ]
  },
  {
   "cell_type": "code",
   "execution_count": 65,
   "id": "fa424af1-d1eb-443d-b717-2d279ada8408",
   "metadata": {
    "execution": {
     "iopub.execute_input": "2025-07-30T21:12:00.711396Z",
     "iopub.status.busy": "2025-07-30T21:12:00.710928Z",
     "iopub.status.idle": "2025-07-30T21:12:00.715950Z",
     "shell.execute_reply": "2025-07-30T21:12:00.714980Z"
    },
    "papermill": {
     "duration": 0.033399,
     "end_time": "2025-07-30T21:12:00.717513",
     "exception": false,
     "start_time": "2025-07-30T21:12:00.684114",
     "status": "completed"
    },
    "tags": []
   },
   "outputs": [],
   "source": [
    "#delete\n",
    "#percentage = (cp_groups_df['nongerman_female'] == 1).mean() * 100\n",
    "#print(percentage)\n"
   ]
  },
  {
   "cell_type": "code",
   "execution_count": 66,
   "id": "6cbdab96-b2b2-45af-ad54-d0516db2e28d",
   "metadata": {
    "execution": {
     "iopub.execute_input": "2025-07-30T21:12:00.769563Z",
     "iopub.status.busy": "2025-07-30T21:12:00.769103Z",
     "iopub.status.idle": "2025-07-30T21:12:02.349435Z",
     "shell.execute_reply": "2025-07-30T21:12:02.348372Z"
    },
    "papermill": {
     "duration": 1.60836,
     "end_time": "2025-07-30T21:12:02.351360",
     "exception": false,
     "start_time": "2025-07-30T21:12:00.743000",
     "status": "completed"
    },
    "tags": []
   },
   "outputs": [],
   "source": [
    "# Define covered = 1 if true_label is in the predicted set\n",
    "cp_groups_df['covered'] = cp_groups_df.apply(\n",
    "    lambda r: int(r['true_label'] in r['pred_set']),\n",
    "    axis=1\n",
    ")"
   ]
  },
  {
   "cell_type": "code",
   "execution_count": 67,
   "id": "338ff529-1a6b-4b87-a931-8e4788d52aad",
   "metadata": {
    "execution": {
     "iopub.execute_input": "2025-07-30T21:12:02.406131Z",
     "iopub.status.busy": "2025-07-30T21:12:02.405479Z",
     "iopub.status.idle": "2025-07-30T21:12:02.411093Z",
     "shell.execute_reply": "2025-07-30T21:12:02.410031Z"
    },
    "papermill": {
     "duration": 0.034192,
     "end_time": "2025-07-30T21:12:02.412932",
     "exception": false,
     "start_time": "2025-07-30T21:12:02.378740",
     "status": "completed"
    },
    "tags": []
   },
   "outputs": [],
   "source": [
    "#cp_groups_df"
   ]
  },
  {
   "cell_type": "code",
   "execution_count": 68,
   "id": "90032e27-66df-4540-9169-4e89cfbaa758",
   "metadata": {
    "execution": {
     "iopub.execute_input": "2025-07-30T21:12:02.465756Z",
     "iopub.status.busy": "2025-07-30T21:12:02.465148Z",
     "iopub.status.idle": "2025-07-30T21:12:02.476625Z",
     "shell.execute_reply": "2025-07-30T21:12:02.475592Z"
    },
    "papermill": {
     "duration": 0.037861,
     "end_time": "2025-07-30T21:12:02.478395",
     "exception": false,
     "start_time": "2025-07-30T21:12:02.440534",
     "status": "completed"
    },
    "tags": []
   },
   "outputs": [],
   "source": [
    "subgroups = ['frau1','nongerman','nongerman_male','nongerman_female']\n",
    "\n",
    "# Conditional coverage for subgroup==1\n",
    "cond_coverage = {\n",
    "    g: cp_groups_df.loc[cp_groups_df[g]==1, 'covered'].mean()\n",
    "    for g in subgroups\n",
    "}"
   ]
  },
  {
   "cell_type": "code",
   "execution_count": 69,
   "id": "1e348fb1-b9c3-45bc-ba23-f016827a7e0d",
   "metadata": {
    "execution": {
     "iopub.execute_input": "2025-07-30T21:12:02.532974Z",
     "iopub.status.busy": "2025-07-30T21:12:02.532051Z",
     "iopub.status.idle": "2025-07-30T21:12:02.539753Z",
     "shell.execute_reply": "2025-07-30T21:12:02.538792Z"
    },
    "papermill": {
     "duration": 0.036549,
     "end_time": "2025-07-30T21:12:02.541580",
     "exception": false,
     "start_time": "2025-07-30T21:12:02.505031",
     "status": "completed"
    },
    "tags": []
   },
   "outputs": [
    {
     "data": {
      "text/plain": [
       "{'frau1': 0.910769645504785,\n",
       " 'nongerman': 0.9026553640599562,\n",
       " 'nongerman_male': 0.9153381968837251,\n",
       " 'nongerman_female': 0.8816691505216095}"
      ]
     },
     "execution_count": 69,
     "metadata": {},
     "output_type": "execute_result"
    }
   ],
   "source": [
    "cond_coverage"
   ]
  },
  {
   "cell_type": "code",
   "execution_count": 70,
   "id": "f5093324-c3dd-4d63-bc4c-8d945e5c8bbb",
   "metadata": {
    "execution": {
     "iopub.execute_input": "2025-07-30T21:12:02.596617Z",
     "iopub.status.busy": "2025-07-30T21:12:02.595986Z",
     "iopub.status.idle": "2025-07-30T21:12:02.602294Z",
     "shell.execute_reply": "2025-07-30T21:12:02.601483Z"
    },
    "papermill": {
     "duration": 0.032732,
     "end_time": "2025-07-30T21:12:02.603472",
     "exception": false,
     "start_time": "2025-07-30T21:12:02.570740",
     "status": "completed"
    },
    "tags": []
   },
   "outputs": [],
   "source": [
    "for subgroup, cov in cond_coverage.items():\n",
    "    cp_metrics_df[f\"cov_{subgroup}\"] = cov"
   ]
  },
  {
   "cell_type": "code",
   "execution_count": 71,
   "id": "6e872e10-dbe5-49e8-b554-5030c98ff75d",
   "metadata": {
    "execution": {
     "iopub.execute_input": "2025-07-30T21:12:02.637222Z",
     "iopub.status.busy": "2025-07-30T21:12:02.636710Z",
     "iopub.status.idle": "2025-07-30T21:12:02.656965Z",
     "shell.execute_reply": "2025-07-30T21:12:02.655976Z"
    },
    "papermill": {
     "duration": 0.04054,
     "end_time": "2025-07-30T21:12:02.658605",
     "exception": false,
     "start_time": "2025-07-30T21:12:02.618065",
     "status": "completed"
    },
    "tags": []
   },
   "outputs": [
    {
     "data": {
      "text/html": [
       "<div>\n",
       "<style scoped>\n",
       "    .dataframe tbody tr th:only-of-type {\n",
       "        vertical-align: middle;\n",
       "    }\n",
       "\n",
       "    .dataframe tbody tr th {\n",
       "        vertical-align: top;\n",
       "    }\n",
       "\n",
       "    .dataframe thead th {\n",
       "        text-align: right;\n",
       "    }\n",
       "</style>\n",
       "<table border=\"1\" class=\"dataframe\">\n",
       "  <thead>\n",
       "    <tr style=\"text-align: right;\">\n",
       "      <th></th>\n",
       "      <th>universe_id</th>\n",
       "      <th>universe_training_year</th>\n",
       "      <th>universe_training_size</th>\n",
       "      <th>universe_scale</th>\n",
       "      <th>universe_model</th>\n",
       "      <th>universe_exclude_features</th>\n",
       "      <th>universe_exclude_subgroups</th>\n",
       "      <th>q_hat</th>\n",
       "      <th>coverage</th>\n",
       "      <th>avg_size</th>\n",
       "      <th>cov_frau1</th>\n",
       "      <th>cov_nongerman</th>\n",
       "      <th>cov_nongerman_male</th>\n",
       "      <th>cov_nongerman_female</th>\n",
       "    </tr>\n",
       "  </thead>\n",
       "  <tbody>\n",
       "    <tr>\n",
       "      <th>0</th>\n",
       "      <td>e42788e6a831ebb56ae01c4699b88501</td>\n",
       "      <td>2010_14</td>\n",
       "      <td>5k</td>\n",
       "      <td>scale</td>\n",
       "      <td>rf</td>\n",
       "      <td>none</td>\n",
       "      <td>drop-non-german</td>\n",
       "      <td>0.66</td>\n",
       "      <td>0.911938</td>\n",
       "      <td>1.149471</td>\n",
       "      <td>0.91077</td>\n",
       "      <td>0.902655</td>\n",
       "      <td>0.915338</td>\n",
       "      <td>0.881669</td>\n",
       "    </tr>\n",
       "  </tbody>\n",
       "</table>\n",
       "</div>"
      ],
      "text/plain": [
       "                        universe_id universe_training_year  \\\n",
       "0  e42788e6a831ebb56ae01c4699b88501                2010_14   \n",
       "\n",
       "  universe_training_size universe_scale universe_model  \\\n",
       "0                     5k          scale             rf   \n",
       "\n",
       "  universe_exclude_features universe_exclude_subgroups  q_hat  coverage  \\\n",
       "0                      none            drop-non-german   0.66  0.911938   \n",
       "\n",
       "   avg_size  cov_frau1  cov_nongerman  cov_nongerman_male  \\\n",
       "0  1.149471    0.91077       0.902655            0.915338   \n",
       "\n",
       "   cov_nongerman_female  \n",
       "0              0.881669  "
      ]
     },
     "execution_count": 71,
     "metadata": {},
     "output_type": "execute_result"
    }
   ],
   "source": [
    "cp_metrics_df"
   ]
  },
  {
   "cell_type": "markdown",
   "id": "33774451",
   "metadata": {
    "papermill": {
     "duration": 0.027269,
     "end_time": "2025-07-30T21:12:02.713794",
     "exception": false,
     "start_time": "2025-07-30T21:12:02.686525",
     "status": "completed"
    },
    "tags": []
   },
   "source": [
    "# (Fairness) Metrics"
   ]
  },
  {
   "cell_type": "code",
   "execution_count": 72,
   "id": "debc5d62",
   "metadata": {
    "execution": {
     "iopub.execute_input": "2025-07-30T21:12:02.778601Z",
     "iopub.status.busy": "2025-07-30T21:12:02.778071Z",
     "iopub.status.idle": "2025-07-30T21:12:02.798286Z",
     "shell.execute_reply": "2025-07-30T21:12:02.797332Z"
    },
    "papermill": {
     "duration": 0.050356,
     "end_time": "2025-07-30T21:12:02.799969",
     "exception": false,
     "start_time": "2025-07-30T21:12:02.749613",
     "status": "completed"
    },
    "tags": []
   },
   "outputs": [],
   "source": [
    "# do I need to include maxdeutsch1.missing?\n",
    "\n",
    "import numpy as np\n",
    "\n",
    "colname_to_bin = \"maxdeutsch1\"\n",
    "majority_value = org_train[colname_to_bin].mode()[0]\n",
    "\n",
    "org_test[\"majmin\"] = np.where(org_test[colname_to_bin] == majority_value, \"majority\", \"minority\")"
   ]
  },
  {
   "cell_type": "code",
   "execution_count": 73,
   "id": "06a50de5",
   "metadata": {
    "execution": {
     "iopub.execute_input": "2025-07-30T21:12:02.851625Z",
     "iopub.status.busy": "2025-07-30T21:12:02.851124Z",
     "iopub.status.idle": "2025-07-30T21:12:05.797637Z",
     "shell.execute_reply": "2025-07-30T21:12:05.796619Z"
    },
    "papermill": {
     "duration": 2.974538,
     "end_time": "2025-07-30T21:12:05.799575",
     "exception": false,
     "start_time": "2025-07-30T21:12:02.825037",
     "status": "completed"
    },
    "tags": []
   },
   "outputs": [],
   "source": [
    "example_universe = universe.copy()\n",
    "example_universe[\"cutoff\"] = example_universe[\"cutoff\"][0]\n",
    "example_universe[\"eval_fairness_grouping\"] = example_universe[\"eval_fairness_grouping\"][0]\n",
    "fairness_dict, metric_frame = universe_analysis.compute_metrics(\n",
    "    example_universe,\n",
    "    y_pred_prob=probs_test,\n",
    "    y_test=y_true,\n",
    "    org_test=org_test,\n",
    ")"
   ]
  },
  {
   "cell_type": "markdown",
   "id": "f95d4e02",
   "metadata": {
    "papermill": {
     "duration": 0.026116,
     "end_time": "2025-07-30T21:12:05.854176",
     "exception": false,
     "start_time": "2025-07-30T21:12:05.828060",
     "status": "completed"
    },
    "tags": []
   },
   "source": [
    "# Overall"
   ]
  },
  {
   "cell_type": "markdown",
   "id": "bdee4871",
   "metadata": {
    "papermill": {
     "duration": 0.026521,
     "end_time": "2025-07-30T21:12:05.905648",
     "exception": false,
     "start_time": "2025-07-30T21:12:05.879127",
     "status": "completed"
    },
    "tags": []
   },
   "source": [
    "Fairness\n",
    "Main fairness target: Equalized Odds. Seems to be a better fit than equal opportunity, since we're not only interested in Y = 1. Seems to be a better fit than demographic parity, since we also care about accuracy, not just equal distribution of preds.\n",
    "\n",
    "Pick column for computation of fairness metrics\n",
    "\n",
    "Performance\n",
    "Overall performance measures, most interesting in relation to the measures split by group below"
   ]
  },
  {
   "cell_type": "code",
   "execution_count": 74,
   "id": "c4e067c6",
   "metadata": {
    "execution": {
     "iopub.execute_input": "2025-07-30T21:12:05.958906Z",
     "iopub.status.busy": "2025-07-30T21:12:05.958262Z",
     "iopub.status.idle": "2025-07-30T21:12:05.967858Z",
     "shell.execute_reply": "2025-07-30T21:12:05.966916Z"
    },
    "papermill": {
     "duration": 0.038274,
     "end_time": "2025-07-30T21:12:05.969364",
     "exception": false,
     "start_time": "2025-07-30T21:12:05.931090",
     "status": "completed"
    },
    "tags": []
   },
   "outputs": [
    {
     "data": {
      "text/plain": [
       "accuracy                   0.197425\n",
       "balanced accuracy          0.532397\n",
       "f1                         0.239096\n",
       "precision                  0.136101\n",
       "false positive rate        0.918173\n",
       "false negative rate        0.017032\n",
       "selection rate             0.926485\n",
       "count                  89710.000000\n",
       "dtype: float64"
      ]
     },
     "execution_count": 74,
     "metadata": {},
     "output_type": "execute_result"
    }
   ],
   "source": [
    "metric_frame.overall"
   ]
  },
  {
   "cell_type": "markdown",
   "id": "e968fe9d",
   "metadata": {
    "papermill": {
     "duration": 0.02601,
     "end_time": "2025-07-30T21:12:06.023583",
     "exception": false,
     "start_time": "2025-07-30T21:12:05.997573",
     "status": "completed"
    },
    "tags": []
   },
   "source": [
    "By Group"
   ]
  },
  {
   "cell_type": "code",
   "execution_count": 75,
   "id": "ec325bce",
   "metadata": {
    "execution": {
     "iopub.execute_input": "2025-07-30T21:12:06.077450Z",
     "iopub.status.busy": "2025-07-30T21:12:06.076742Z",
     "iopub.status.idle": "2025-07-30T21:12:06.093393Z",
     "shell.execute_reply": "2025-07-30T21:12:06.092316Z"
    },
    "papermill": {
     "duration": 0.045072,
     "end_time": "2025-07-30T21:12:06.095041",
     "exception": false,
     "start_time": "2025-07-30T21:12:06.049969",
     "status": "completed"
    },
    "tags": []
   },
   "outputs": [
    {
     "data": {
      "text/html": [
       "<div>\n",
       "<style scoped>\n",
       "    .dataframe tbody tr th:only-of-type {\n",
       "        vertical-align: middle;\n",
       "    }\n",
       "\n",
       "    .dataframe tbody tr th {\n",
       "        vertical-align: top;\n",
       "    }\n",
       "\n",
       "    .dataframe thead th {\n",
       "        text-align: right;\n",
       "    }\n",
       "</style>\n",
       "<table border=\"1\" class=\"dataframe\">\n",
       "  <thead>\n",
       "    <tr style=\"text-align: right;\">\n",
       "      <th></th>\n",
       "      <th>accuracy</th>\n",
       "      <th>balanced accuracy</th>\n",
       "      <th>f1</th>\n",
       "      <th>precision</th>\n",
       "      <th>false positive rate</th>\n",
       "      <th>false negative rate</th>\n",
       "      <th>selection rate</th>\n",
       "      <th>count</th>\n",
       "    </tr>\n",
       "    <tr>\n",
       "      <th>majmin</th>\n",
       "      <th></th>\n",
       "      <th></th>\n",
       "      <th></th>\n",
       "      <th></th>\n",
       "      <th></th>\n",
       "      <th></th>\n",
       "      <th></th>\n",
       "      <th></th>\n",
       "    </tr>\n",
       "  </thead>\n",
       "  <tbody>\n",
       "    <tr>\n",
       "      <th>majority</th>\n",
       "      <td>0.199335</td>\n",
       "      <td>0.534355</td>\n",
       "      <td>0.246237</td>\n",
       "      <td>0.140610</td>\n",
       "      <td>0.921006</td>\n",
       "      <td>0.010284</td>\n",
       "      <td>0.930085</td>\n",
       "      <td>69170.0</td>\n",
       "    </tr>\n",
       "    <tr>\n",
       "      <th>minority</th>\n",
       "      <td>0.190993</td>\n",
       "      <td>0.524055</td>\n",
       "      <td>0.214289</td>\n",
       "      <td>0.120654</td>\n",
       "      <td>0.908816</td>\n",
       "      <td>0.043074</td>\n",
       "      <td>0.914362</td>\n",
       "      <td>20540.0</td>\n",
       "    </tr>\n",
       "  </tbody>\n",
       "</table>\n",
       "</div>"
      ],
      "text/plain": [
       "          accuracy  balanced accuracy        f1  precision  \\\n",
       "majmin                                                       \n",
       "majority  0.199335           0.534355  0.246237   0.140610   \n",
       "minority  0.190993           0.524055  0.214289   0.120654   \n",
       "\n",
       "          false positive rate  false negative rate  selection rate    count  \n",
       "majmin                                                                       \n",
       "majority             0.921006             0.010284        0.930085  69170.0  \n",
       "minority             0.908816             0.043074        0.914362  20540.0  "
      ]
     },
     "execution_count": 75,
     "metadata": {},
     "output_type": "execute_result"
    }
   ],
   "source": [
    "metric_frame.by_group"
   ]
  },
  {
   "cell_type": "code",
   "execution_count": 76,
   "id": "a9ddbe63",
   "metadata": {
    "execution": {
     "iopub.execute_input": "2025-07-30T21:12:06.152321Z",
     "iopub.status.busy": "2025-07-30T21:12:06.151773Z",
     "iopub.status.idle": "2025-07-30T21:12:08.469763Z",
     "shell.execute_reply": "2025-07-30T21:12:08.468695Z"
    },
    "papermill": {
     "duration": 2.346896,
     "end_time": "2025-07-30T21:12:08.471351",
     "exception": false,
     "start_time": "2025-07-30T21:12:06.124455",
     "status": "completed"
    },
    "tags": []
   },
   "outputs": [
    {
     "data": {
      "text/plain": [
       "array([[<Axes: title={'center': 'accuracy'}, xlabel='majmin'>,\n",
       "        <Axes: title={'center': 'balanced accuracy'}, xlabel='majmin'>,\n",
       "        <Axes: title={'center': 'f1'}, xlabel='majmin'>],\n",
       "       [<Axes: title={'center': 'precision'}, xlabel='majmin'>,\n",
       "        <Axes: title={'center': 'false positive rate'}, xlabel='majmin'>,\n",
       "        <Axes: title={'center': 'false negative rate'}, xlabel='majmin'>],\n",
       "       [<Axes: title={'center': 'selection rate'}, xlabel='majmin'>,\n",
       "        <Axes: title={'center': 'count'}, xlabel='majmin'>,\n",
       "        <Axes: xlabel='majmin'>]], dtype=object)"
      ]
     },
     "execution_count": 76,
     "metadata": {},
     "output_type": "execute_result"
    },
    {
     "data": {
      "image/png": "[encoded data removed]",
      "text/plain": [
       "<Figure size 1200x800 with 9 Axes>"
      ]
     },
     "metadata": {},
     "output_type": "display_data"
    }
   ],
   "source": [
    "# In a graphic\n",
    "metric_frame.by_group.plot.bar(\n",
    "    subplots=True,\n",
    "    layout=[3, 3],\n",
    "    legend=False,\n",
    "    figsize=[12, 8],\n",
    "    title=\"Show all metrics\",\n",
    ")"
   ]
  },
  {
   "cell_type": "markdown",
   "id": "f57a0bac",
   "metadata": {
    "papermill": {
     "duration": 0.02759,
     "end_time": "2025-07-30T21:12:08.529678",
     "exception": false,
     "start_time": "2025-07-30T21:12:08.502088",
     "status": "completed"
    },
    "tags": []
   },
   "source": [
    "# Final Output"
   ]
  },
  {
   "cell_type": "code",
   "execution_count": 77,
   "id": "96d280a3",
   "metadata": {
    "execution": {
     "iopub.execute_input": "2025-07-30T21:12:08.587494Z",
     "iopub.status.busy": "2025-07-30T21:12:08.586552Z",
     "iopub.status.idle": "2025-07-30T21:12:08.594832Z",
     "shell.execute_reply": "2025-07-30T21:12:08.593852Z"
    },
    "papermill": {
     "duration": 0.037885,
     "end_time": "2025-07-30T21:12:08.596600",
     "exception": false,
     "start_time": "2025-07-30T21:12:08.558715",
     "status": "completed"
    },
    "tags": []
   },
   "outputs": [
    {
     "data": {
      "text/plain": [
       "4"
      ]
     },
     "execution_count": 77,
     "metadata": {},
     "output_type": "execute_result"
    }
   ],
   "source": [
    "sub_universes = universe_analysis.generate_sub_universes()\n",
    "len(sub_universes)"
   ]
  },
  {
   "cell_type": "code",
   "execution_count": 78,
   "id": "92adf7ba",
   "metadata": {
    "execution": {
     "iopub.execute_input": "2025-07-30T21:12:08.661493Z",
     "iopub.status.busy": "2025-07-30T21:12:08.660753Z",
     "iopub.status.idle": "2025-07-30T21:12:08.666767Z",
     "shell.execute_reply": "2025-07-30T21:12:08.665788Z"
    },
    "papermill": {
     "duration": 0.039834,
     "end_time": "2025-07-30T21:12:08.668463",
     "exception": false,
     "start_time": "2025-07-30T21:12:08.628629",
     "status": "completed"
    },
    "tags": []
   },
   "outputs": [],
   "source": [
    "def filter_sub_universe_data(sub_universe, org_test):\n",
    "    # Keep all rows — no filtering\n",
    "    keep_rows_mask = np.ones(org_test.shape[0], dtype=bool)\n",
    "\n",
    "    print(f\"[INFO] Keeping all rows: {keep_rows_mask.sum()} rows retained.\")\n",
    "    return keep_rows_mask"
   ]
  },
  {
   "cell_type": "code",
   "execution_count": 79,
   "id": "4a759155",
   "metadata": {
    "execution": {
     "iopub.execute_input": "2025-07-30T21:12:08.737058Z",
     "iopub.status.busy": "2025-07-30T21:12:08.736411Z",
     "iopub.status.idle": "2025-07-30T21:12:19.900604Z",
     "shell.execute_reply": "2025-07-30T21:12:19.899481Z"
    },
    "papermill": {
     "duration": 11.198821,
     "end_time": "2025-07-30T21:12:19.901959",
     "exception": false,
     "start_time": "2025-07-30T21:12:08.703138",
     "status": "completed"
    },
    "tags": []
   },
   "outputs": [
    {
     "name": "stdout",
     "output_type": "stream",
     "text": [
      "Stopping execution_time clock.\n",
      "[INFO] Keeping all rows: 89710 rows retained.\n"
     ]
    },
    {
     "name": "stdout",
     "output_type": "stream",
     "text": [
      "[INFO] Keeping all rows: 89710 rows retained.\n"
     ]
    },
    {
     "name": "stdout",
     "output_type": "stream",
     "text": [
      "[INFO] Keeping all rows: 89710 rows retained.\n"
     ]
    },
    {
     "name": "stdout",
     "output_type": "stream",
     "text": [
      "[INFO] Keeping all rows: 89710 rows retained.\n"
     ]
    },
    {
     "data": {
      "text/html": [
       "<div>\n",
       "<style scoped>\n",
       "    .dataframe tbody tr th:only-of-type {\n",
       "        vertical-align: middle;\n",
       "    }\n",
       "\n",
       "    .dataframe tbody tr th {\n",
       "        vertical-align: top;\n",
       "    }\n",
       "\n",
       "    .dataframe thead th {\n",
       "        text-align: right;\n",
       "    }\n",
       "</style>\n",
       "<table border=\"1\" class=\"dataframe\">\n",
       "  <thead>\n",
       "    <tr style=\"text-align: right;\">\n",
       "      <th></th>\n",
       "      <th>run_no</th>\n",
       "      <th>universe_id</th>\n",
       "      <th>universe_settings</th>\n",
       "      <th>execution_time</th>\n",
       "      <th>test_size_n</th>\n",
       "      <th>test_size_frac</th>\n",
       "      <th>fair_main_equalized_odds_difference</th>\n",
       "      <th>fair_main_equalized_odds_ratio</th>\n",
       "      <th>fair_main_demographic_parity_difference</th>\n",
       "      <th>fair_main_demographic_parity_ratio</th>\n",
       "      <th>...</th>\n",
       "      <th>perf_grp_precision_0</th>\n",
       "      <th>perf_grp_precision_1</th>\n",
       "      <th>perf_grp_false positive rate_0</th>\n",
       "      <th>perf_grp_false positive rate_1</th>\n",
       "      <th>perf_grp_false negative rate_0</th>\n",
       "      <th>perf_grp_false negative rate_1</th>\n",
       "      <th>perf_grp_selection rate_0</th>\n",
       "      <th>perf_grp_selection rate_1</th>\n",
       "      <th>perf_grp_count_0</th>\n",
       "      <th>perf_grp_count_1</th>\n",
       "    </tr>\n",
       "  </thead>\n",
       "  <tbody>\n",
       "    <tr>\n",
       "      <th>0</th>\n",
       "      <td>14</td>\n",
       "      <td>e42788e6a831ebb56ae01c4699b88501</td>\n",
       "      <td>{\"cutoff\": \"quantile_0.1\", \"eval_fairness_grou...</td>\n",
       "      <td>32.583835</td>\n",
       "      <td>89710</td>\n",
       "      <td>1.0</td>\n",
       "      <td>0.032790</td>\n",
       "      <td>0.966869</td>\n",
       "      <td>0.015723</td>\n",
       "      <td>0.983095</td>\n",
       "      <td>...</td>\n",
       "      <td>NaN</td>\n",
       "      <td>NaN</td>\n",
       "      <td>NaN</td>\n",
       "      <td>NaN</td>\n",
       "      <td>NaN</td>\n",
       "      <td>NaN</td>\n",
       "      <td>NaN</td>\n",
       "      <td>NaN</td>\n",
       "      <td>NaN</td>\n",
       "      <td>NaN</td>\n",
       "    </tr>\n",
       "    <tr>\n",
       "      <th>0</th>\n",
       "      <td>14</td>\n",
       "      <td>e42788e6a831ebb56ae01c4699b88501</td>\n",
       "      <td>{\"cutoff\": \"quantile_0.1\", \"eval_fairness_grou...</td>\n",
       "      <td>32.583835</td>\n",
       "      <td>89710</td>\n",
       "      <td>1.0</td>\n",
       "      <td>0.032790</td>\n",
       "      <td>0.966869</td>\n",
       "      <td>0.015723</td>\n",
       "      <td>0.983095</td>\n",
       "      <td>...</td>\n",
       "      <td>0.120654</td>\n",
       "      <td>0.140610</td>\n",
       "      <td>0.908816</td>\n",
       "      <td>0.921006</td>\n",
       "      <td>0.043074</td>\n",
       "      <td>0.010284</td>\n",
       "      <td>0.914362</td>\n",
       "      <td>0.930085</td>\n",
       "      <td>20540.0</td>\n",
       "      <td>69170.0</td>\n",
       "    </tr>\n",
       "    <tr>\n",
       "      <th>0</th>\n",
       "      <td>14</td>\n",
       "      <td>e42788e6a831ebb56ae01c4699b88501</td>\n",
       "      <td>{\"cutoff\": \"quantile_0.25\", \"eval_fairness_gro...</td>\n",
       "      <td>32.583835</td>\n",
       "      <td>89710</td>\n",
       "      <td>1.0</td>\n",
       "      <td>0.089019</td>\n",
       "      <td>0.905633</td>\n",
       "      <td>0.003024</td>\n",
       "      <td>0.995972</td>\n",
       "      <td>...</td>\n",
       "      <td>NaN</td>\n",
       "      <td>NaN</td>\n",
       "      <td>NaN</td>\n",
       "      <td>NaN</td>\n",
       "      <td>NaN</td>\n",
       "      <td>NaN</td>\n",
       "      <td>NaN</td>\n",
       "      <td>NaN</td>\n",
       "      <td>NaN</td>\n",
       "      <td>NaN</td>\n",
       "    </tr>\n",
       "    <tr>\n",
       "      <th>0</th>\n",
       "      <td>14</td>\n",
       "      <td>e42788e6a831ebb56ae01c4699b88501</td>\n",
       "      <td>{\"cutoff\": \"quantile_0.25\", \"eval_fairness_gro...</td>\n",
       "      <td>32.583835</td>\n",
       "      <td>89710</td>\n",
       "      <td>1.0</td>\n",
       "      <td>0.089019</td>\n",
       "      <td>0.905633</td>\n",
       "      <td>0.003024</td>\n",
       "      <td>0.995972</td>\n",
       "      <td>...</td>\n",
       "      <td>0.131731</td>\n",
       "      <td>0.166047</td>\n",
       "      <td>0.733766</td>\n",
       "      <td>0.721356</td>\n",
       "      <td>0.145693</td>\n",
       "      <td>0.056674</td>\n",
       "      <td>0.747663</td>\n",
       "      <td>0.750687</td>\n",
       "      <td>20540.0</td>\n",
       "      <td>69170.0</td>\n",
       "    </tr>\n",
       "  </tbody>\n",
       "</table>\n",
       "<p>4 rows × 50 columns</p>\n",
       "</div>"
      ],
      "text/plain": [
       "  run_no                       universe_id  \\\n",
       "0     14  e42788e6a831ebb56ae01c4699b88501   \n",
       "0     14  e42788e6a831ebb56ae01c4699b88501   \n",
       "0     14  e42788e6a831ebb56ae01c4699b88501   \n",
       "0     14  e42788e6a831ebb56ae01c4699b88501   \n",
       "\n",
       "                                   universe_settings  execution_time  \\\n",
       "0  {\"cutoff\": \"quantile_0.1\", \"eval_fairness_grou...       32.583835   \n",
       "0  {\"cutoff\": \"quantile_0.1\", \"eval_fairness_grou...       32.583835   \n",
       "0  {\"cutoff\": \"quantile_0.25\", \"eval_fairness_gro...       32.583835   \n",
       "0  {\"cutoff\": \"quantile_0.25\", \"eval_fairness_gro...       32.583835   \n",
       "\n",
       "   test_size_n  test_size_frac  fair_main_equalized_odds_difference  \\\n",
       "0        89710             1.0                             0.032790   \n",
       "0        89710             1.0                             0.032790   \n",
       "0        89710             1.0                             0.089019   \n",
       "0        89710             1.0                             0.089019   \n",
       "\n",
       "   fair_main_equalized_odds_ratio  fair_main_demographic_parity_difference  \\\n",
       "0                        0.966869                                 0.015723   \n",
       "0                        0.966869                                 0.015723   \n",
       "0                        0.905633                                 0.003024   \n",
       "0                        0.905633                                 0.003024   \n",
       "\n",
       "   fair_main_demographic_parity_ratio  ...  perf_grp_precision_0  \\\n",
       "0                            0.983095  ...                   NaN   \n",
       "0                            0.983095  ...              0.120654   \n",
       "0                            0.995972  ...                   NaN   \n",
       "0                            0.995972  ...              0.131731   \n",
       "\n",
       "   perf_grp_precision_1  perf_grp_false positive rate_0  \\\n",
       "0                   NaN                             NaN   \n",
       "0              0.140610                        0.908816   \n",
       "0                   NaN                             NaN   \n",
       "0              0.166047                        0.733766   \n",
       "\n",
       "   perf_grp_false positive rate_1  perf_grp_false negative rate_0  \\\n",
       "0                             NaN                             NaN   \n",
       "0                        0.921006                        0.043074   \n",
       "0                             NaN                             NaN   \n",
       "0                        0.721356                        0.145693   \n",
       "\n",
       "   perf_grp_false negative rate_1  perf_grp_selection rate_0  \\\n",
       "0                             NaN                        NaN   \n",
       "0                        0.010284                   0.914362   \n",
       "0                             NaN                        NaN   \n",
       "0                        0.056674                   0.747663   \n",
       "\n",
       "   perf_grp_selection rate_1  perf_grp_count_0  perf_grp_count_1  \n",
       "0                        NaN               NaN               NaN  \n",
       "0                   0.930085           20540.0           69170.0  \n",
       "0                        NaN               NaN               NaN  \n",
       "0                   0.750687           20540.0           69170.0  \n",
       "\n",
       "[4 rows x 50 columns]"
      ]
     },
     "execution_count": 79,
     "metadata": {},
     "output_type": "execute_result"
    }
   ],
   "source": [
    "final_output = universe_analysis.generate_final_output(\n",
    "    y_pred_prob=probs_test,\n",
    "    y_test=y_true,\n",
    "    org_test=org_test,\n",
    "    filter_data=filter_sub_universe_data,\n",
    "    cp_metrics_df=cp_metrics_df,\n",
    "    save=True,\n",
    ")\n",
    "final_output"
   ]
  },
  {
   "cell_type": "code",
   "execution_count": null,
   "id": "721ff514-cb11-46f8-b6fc-50392f74b5cb",
   "metadata": {
    "papermill": {
     "duration": 0.031369,
     "end_time": "2025-07-30T21:12:19.982678",
     "exception": false,
     "start_time": "2025-07-30T21:12:19.951309",
     "status": "completed"
    },
    "tags": []
   },
   "outputs": [],
   "source": []
  }
 ],
 "metadata": {
  "celltoolbar": "Tags",
  "kernelspec": {
   "display_name": "Python (CMA Fairness)",
   "language": "python",
   "name": "cma_fair_env"
  },
  "language_info": {
   "codemirror_mode": {
    "name": "ipython",
    "version": 3
   },
   "file_extension": ".py",
   "mimetype": "text/x-python",
   "name": "python",
   "nbconvert_exporter": "python",
   "pygments_lexer": "ipython3",
   "version": "3.10.12"
  },
  "papermill": {
   "default_parameters": {},
   "duration": 48.358877,
   "end_time": "2025-07-30T21:12:21.136790",
   "environment_variables": {},
   "exception": null,
   "input_path": "universe_analysis.ipynb",
   "output_path": "output/runs/14/notebooks/m_14-e42788e6a831ebb56ae01c4699b88501.ipynb",
   "parameters": {
    "output_dir": "output",
    "run_no": "14",
    "seed": "2023",
    "universe": "{\"cutoff\": [\"quantile_0.1\", \"quantile_0.25\"], \"eval_fairness_grouping\": [\"majority-minority\", \"nationality-all\"], \"exclude_features\": \"none\", \"exclude_subgroups\": \"drop-non-german\", \"model\": \"rf\", \"scale\": \"scale\", \"training_size\": \"5k\", \"training_year\": \"2010_14\"}",
    "universe_id": "e42788e6a831ebb56ae01c4699b88501"
   },
   "start_time": "2025-07-30T21:11:32.777913",
   "version": "2.6.0"
  }
 },
 "nbformat": 4,
 "nbformat_minor": 5
}