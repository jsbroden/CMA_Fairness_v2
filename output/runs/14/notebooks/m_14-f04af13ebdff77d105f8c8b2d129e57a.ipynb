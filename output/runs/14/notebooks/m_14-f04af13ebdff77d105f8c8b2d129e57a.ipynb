{
 "cells": [
  {
   "cell_type": "code",
   "execution_count": 1,
   "id": "f159f837-637b-42ba-96b5-ec9a68c44524",
   "metadata": {
    "execution": {
     "iopub.execute_input": "2025-07-30T21:34:55.381772Z",
     "iopub.status.busy": "2025-07-30T21:34:55.381200Z",
     "iopub.status.idle": "2025-07-30T21:34:55.395880Z",
     "shell.execute_reply": "2025-07-30T21:34:55.394729Z"
    },
    "papermill": {
     "duration": 0.094418,
     "end_time": "2025-07-30T21:34:55.397565",
     "exception": false,
     "start_time": "2025-07-30T21:34:55.303147",
     "status": "completed"
    },
    "tags": []
   },
   "outputs": [
    {
     "name": "stdout",
     "output_type": "stream",
     "text": [
      "/dss/dsshome1/0C/ra93lal2/cma/CMA_Fairness_v2\n"
     ]
    },
    {
     "name": "stderr",
     "output_type": "stream",
     "text": [
      "/dss/dsshome1/0C/ra93lal2/.local/share/virtualenvs/CMA_Fairness_v2-3j10GkSs/lib/python3.10/site-packages/IPython/core/magics/osm.py:393: UserWarning: This is now an optional IPython functionality, using bookmarks requires you to install the `pickleshare` library.\n",
      "  bkms = self.shell.db.get('bookmarks', {})\n",
      "/dss/dsshome1/0C/ra93lal2/.local/share/virtualenvs/CMA_Fairness_v2-3j10GkSs/lib/python3.10/site-packages/IPython/core/magics/osm.py:417: UserWarning: This is now an optional IPython functionality, setting dhist requires you to install the `pickleshare` library.\n",
      "  self.shell.db['dhist'] = compress_dhist(dhist)[-100:]\n"
     ]
    }
   ],
   "source": [
    "%cd ~/cma/CMA_Fairness_v2"
   ]
  },
  {
   "cell_type": "markdown",
   "id": "de2603b9",
   "metadata": {
    "papermill": {
     "duration": 0.01917,
     "end_time": "2025-07-30T21:34:55.435988",
     "exception": false,
     "start_time": "2025-07-30T21:34:55.416818",
     "status": "completed"
    },
    "tags": []
   },
   "source": [
    "The following cell holds the definition of our parameters, these values can be overriden by rendering the with e.g. the following command:\n",
    "\n",
    "papermill -p alpha 0.2 -p ratio 0.3 universe_analysis.ipynb output/test_run.ipynb"
   ]
  },
  {
   "cell_type": "code",
   "execution_count": 2,
   "id": "a80968a0-40bb-4fa9-85ef-2d5eefb01975",
   "metadata": {
    "execution": {
     "iopub.execute_input": "2025-07-30T21:34:55.477497Z",
     "iopub.status.busy": "2025-07-30T21:34:55.476992Z",
     "iopub.status.idle": "2025-07-30T21:34:55.483097Z",
     "shell.execute_reply": "2025-07-30T21:34:55.482138Z"
    },
    "papermill": {
     "duration": 0.029873,
     "end_time": "2025-07-30T21:34:55.485042",
     "exception": false,
     "start_time": "2025-07-30T21:34:55.455169",
     "status": "completed"
    },
    "tags": []
   },
   "outputs": [
    {
     "name": "stdout",
     "output_type": "stream",
     "text": [
      "Current working directory: /dss/dsshome1/0C/ra93lal2/cma/CMA_Fairness_v2\n"
     ]
    }
   ],
   "source": [
    "import os\n",
    "print(\"Current working directory:\", os.getcwd())"
   ]
  },
  {
   "cell_type": "code",
   "execution_count": 3,
   "id": "2dce4c03",
   "metadata": {
    "execution": {
     "iopub.execute_input": "2025-07-30T21:34:55.526822Z",
     "iopub.status.busy": "2025-07-30T21:34:55.526368Z",
     "iopub.status.idle": "2025-07-30T21:34:55.532831Z",
     "shell.execute_reply": "2025-07-30T21:34:55.531761Z"
    },
    "papermill": {
     "duration": 0.028737,
     "end_time": "2025-07-30T21:34:55.534531",
     "exception": false,
     "start_time": "2025-07-30T21:34:55.505794",
     "status": "completed"
    },
    "tags": [
     "parameters"
    ]
   },
   "outputs": [],
   "source": [
    "run_no = 0\n",
    "universe_id = \"test\"\n",
    "universe = {\n",
    "    \"training_size\": \"25k\", # \"25k\", \"5k\", \"1k\"\n",
    "    \"training_year\": \"2014\", # \"2014\", \"2012_14\", \"2010_14\"\n",
    "    \"scale\": \"scale\", # \"scale\", \"do-not-scale\",\n",
    "    #\"stratify_split\": \"target\", # \"none\", \"target\", \"protected-attribute\", \"both\",\n",
    "    \"model\": \"elasticnet\", # \"logreg\", \"penalized_logreg\", \"rf\", \"gbm\", \"elasticnet\"\n",
    "    \"cutoff\": [\"quantile_0.15\", \"quantile_0.30\"],\n",
    "    \"exclude_features\": \"age\", # \"none\", \"nationality\", \"sex\", \"nationality-sex\", \"age\"\n",
    "    \"exclude_subgroups\": \"keep-all\", # \"keep-all\", \"drop-non-german\"\n",
    "    \"eval_fairness_grouping\": [\"majority-minority\", \"nationality-all\"]\n",
    "}\n",
    "\n",
    "output_dir=\"./output\"\n",
    "seed=0"
   ]
  },
  {
   "cell_type": "code",
   "execution_count": 4,
   "id": "97ca80cd",
   "metadata": {
    "execution": {
     "iopub.execute_input": "2025-07-30T21:34:55.577697Z",
     "iopub.status.busy": "2025-07-30T21:34:55.577217Z",
     "iopub.status.idle": "2025-07-30T21:34:55.582879Z",
     "shell.execute_reply": "2025-07-30T21:34:55.581907Z"
    },
    "papermill": {
     "duration": 0.029206,
     "end_time": "2025-07-30T21:34:55.584465",
     "exception": false,
     "start_time": "2025-07-30T21:34:55.555259",
     "status": "completed"
    },
    "tags": [
     "injected-parameters"
    ]
   },
   "outputs": [],
   "source": [
    "# Parameters\n",
    "universe_id = \"f04af13ebdff77d105f8c8b2d129e57a\"\n",
    "run_no = \"14\"\n",
    "universe = \"{\\\"cutoff\\\": [\\\"quantile_0.1\\\", \\\"quantile_0.25\\\"], \\\"eval_fairness_grouping\\\": [\\\"majority-minority\\\", \\\"nationality-all\\\"], \\\"exclude_features\\\": \\\"nationality\\\", \\\"exclude_subgroups\\\": \\\"keep-all\\\", \\\"model\\\": \\\"rf\\\", \\\"scale\\\": \\\"scale\\\", \\\"training_size\\\": \\\"1k\\\", \\\"training_year\\\": \\\"2012_14\\\"}\"\n",
    "output_dir = \"output\"\n",
    "seed = \"2023\"\n"
   ]
  },
  {
   "cell_type": "code",
   "execution_count": 5,
   "id": "1650acaf",
   "metadata": {
    "execution": {
     "iopub.execute_input": "2025-07-30T21:34:55.627041Z",
     "iopub.status.busy": "2025-07-30T21:34:55.626473Z",
     "iopub.status.idle": "2025-07-30T21:34:55.631842Z",
     "shell.execute_reply": "2025-07-30T21:34:55.630877Z"
    },
    "papermill": {
     "duration": 0.028007,
     "end_time": "2025-07-30T21:34:55.633550",
     "exception": false,
     "start_time": "2025-07-30T21:34:55.605543",
     "status": "completed"
    },
    "tags": []
   },
   "outputs": [],
   "source": [
    "import json\n",
    "# Parse universe into dict if it is passed as a string\n",
    "if isinstance(universe, str):\n",
    "    universe = json.loads(universe)"
   ]
  },
  {
   "cell_type": "code",
   "execution_count": 6,
   "id": "16620c48",
   "metadata": {
    "execution": {
     "iopub.execute_input": "2025-07-30T21:34:55.675836Z",
     "iopub.status.busy": "2025-07-30T21:34:55.675344Z",
     "iopub.status.idle": "2025-07-30T21:34:55.721672Z",
     "shell.execute_reply": "2025-07-30T21:34:55.720899Z"
    },
    "papermill": {
     "duration": 0.068226,
     "end_time": "2025-07-30T21:34:55.723123",
     "exception": false,
     "start_time": "2025-07-30T21:34:55.654897",
     "status": "completed"
    },
    "tags": []
   },
   "outputs": [],
   "source": [
    "# Auto-reload the custom package\n",
    "%load_ext autoreload\n",
    "%autoreload 1\n",
    "%aimport fairness_multiverse"
   ]
  },
  {
   "cell_type": "code",
   "execution_count": 7,
   "id": "01c5c9f3",
   "metadata": {
    "execution": {
     "iopub.execute_input": "2025-07-30T21:34:55.746404Z",
     "iopub.status.busy": "2025-07-30T21:34:55.745774Z",
     "iopub.status.idle": "2025-07-30T21:34:57.741227Z",
     "shell.execute_reply": "2025-07-30T21:34:57.740310Z"
    },
    "papermill": {
     "duration": 2.008738,
     "end_time": "2025-07-30T21:34:57.743068",
     "exception": false,
     "start_time": "2025-07-30T21:34:55.734330",
     "status": "completed"
    },
    "tags": []
   },
   "outputs": [],
   "source": [
    "from fairness_multiverse.universe import UniverseAnalysis\n",
    "\n",
    "universe_analysis = UniverseAnalysis(\n",
    "    run_no = run_no,\n",
    "    universe_id = universe_id,\n",
    "    universe = universe,\n",
    "    output_dir=output_dir,\n",
    ")"
   ]
  },
  {
   "cell_type": "code",
   "execution_count": 8,
   "id": "106241f5",
   "metadata": {
    "execution": {
     "iopub.execute_input": "2025-07-30T21:34:57.787782Z",
     "iopub.status.busy": "2025-07-30T21:34:57.786870Z",
     "iopub.status.idle": "2025-07-30T21:34:57.793561Z",
     "shell.execute_reply": "2025-07-30T21:34:57.792636Z"
    },
    "papermill": {
     "duration": 0.030535,
     "end_time": "2025-07-30T21:34:57.795164",
     "exception": false,
     "start_time": "2025-07-30T21:34:57.764629",
     "status": "completed"
    },
    "tags": []
   },
   "outputs": [
    {
     "name": "stdout",
     "output_type": "stream",
     "text": [
      "Using Seed: 2023\n"
     ]
    }
   ],
   "source": [
    "import numpy as np\n",
    "parsed_seed = int(seed)\n",
    "np.random.seed(parsed_seed)\n",
    "print(f\"Using Seed: {parsed_seed}\")"
   ]
  },
  {
   "cell_type": "markdown",
   "id": "e0ebdc57",
   "metadata": {
    "papermill": {
     "duration": 0.018945,
     "end_time": "2025-07-30T21:34:57.834349",
     "exception": false,
     "start_time": "2025-07-30T21:34:57.815404",
     "status": "completed"
    },
    "tags": []
   },
   "source": [
    "# Loading Data"
   ]
  },
  {
   "cell_type": "markdown",
   "id": "681925a3",
   "metadata": {
    "papermill": {
     "duration": 0.019416,
     "end_time": "2025-07-30T21:34:57.874002",
     "exception": false,
     "start_time": "2025-07-30T21:34:57.854586",
     "status": "completed"
    },
    "tags": []
   },
   "source": [
    "Load siab_train, siab_test, siab_calib and/or \n",
    "load siab_train_features, siab_train_labels"
   ]
  },
  {
   "cell_type": "code",
   "execution_count": 9,
   "id": "f0496b8a",
   "metadata": {
    "execution": {
     "iopub.execute_input": "2025-07-30T21:34:57.916790Z",
     "iopub.status.busy": "2025-07-30T21:34:57.916308Z",
     "iopub.status.idle": "2025-07-30T21:35:10.077804Z",
     "shell.execute_reply": "2025-07-30T21:35:10.076617Z"
    },
    "papermill": {
     "duration": 12.185769,
     "end_time": "2025-07-30T21:35:10.079548",
     "exception": false,
     "start_time": "2025-07-30T21:34:57.893779",
     "status": "completed"
    },
    "tags": []
   },
   "outputs": [
    {
     "name": "stdout",
     "output_type": "stream",
     "text": [
      "Loading SIAB data from cache: data/siab_cached.csv.gz\n"
     ]
    },
    {
     "name": "stdout",
     "output_type": "stream",
     "text": [
      "(643690, 164)\n"
     ]
    }
   ],
   "source": [
    "from pathlib import Path\n",
    "import pandas as pd\n",
    "\n",
    "# File paths\n",
    "raw_file = Path(\"data/raw/siab.csv\")\n",
    "cache_file = Path(\"data/siab_cached.csv.gz\")\n",
    "\n",
    "# Ensure cache directory exists\n",
    "cache_file.parent.mkdir(parents=True, exist_ok=True)\n",
    "\n",
    "# Load with simple caching\n",
    "if cache_file.exists():\n",
    "    print(f\"Loading SIAB data from cache: {cache_file}\")\n",
    "    siab = pd.read_csv(cache_file, compression='gzip')\n",
    "else:\n",
    "    print(f\"Cache not found. Reading raw SIAB data: {raw_file}\")\n",
    "    siab = pd.read_csv(raw_file)\n",
    "    siab.to_csv(cache_file, index=False, compression='gzip')\n",
    "    print(f\"Cached SIAB data to: {cache_file}\")\n",
    "\n",
    "# Now use `siab` DataFrame as needed\n",
    "print(siab.shape)"
   ]
  },
  {
   "cell_type": "code",
   "execution_count": 10,
   "id": "db0ca512-5f53-4dba-abdb-a2888bca41ba",
   "metadata": {
    "execution": {
     "iopub.execute_input": "2025-07-30T21:35:10.127005Z",
     "iopub.status.busy": "2025-07-30T21:35:10.126477Z",
     "iopub.status.idle": "2025-07-30T21:35:10.131944Z",
     "shell.execute_reply": "2025-07-30T21:35:10.131021Z"
    },
    "papermill": {
     "duration": 0.029763,
     "end_time": "2025-07-30T21:35:10.133641",
     "exception": false,
     "start_time": "2025-07-30T21:35:10.103878",
     "status": "completed"
    },
    "tags": []
   },
   "outputs": [],
   "source": [
    "#siab"
   ]
  },
  {
   "cell_type": "code",
   "execution_count": 11,
   "id": "a0edb063",
   "metadata": {
    "execution": {
     "iopub.execute_input": "2025-07-30T21:35:10.174443Z",
     "iopub.status.busy": "2025-07-30T21:35:10.173945Z",
     "iopub.status.idle": "2025-07-30T21:35:10.179474Z",
     "shell.execute_reply": "2025-07-30T21:35:10.178489Z"
    },
    "papermill": {
     "duration": 0.027553,
     "end_time": "2025-07-30T21:35:10.181190",
     "exception": false,
     "start_time": "2025-07-30T21:35:10.153637",
     "status": "completed"
    },
    "tags": []
   },
   "outputs": [],
   "source": [
    "#import pandas as pd\n",
    "#\n",
    "#X_train = pd.read_csv(\"./data/X_train.csv\")\n",
    "#y_train = pd.read_csv(\"./data/y_train.csv\")"
   ]
  },
  {
   "cell_type": "code",
   "execution_count": 12,
   "id": "63d08085",
   "metadata": {
    "execution": {
     "iopub.execute_input": "2025-07-30T21:35:10.224941Z",
     "iopub.status.busy": "2025-07-30T21:35:10.224466Z",
     "iopub.status.idle": "2025-07-30T21:35:10.229249Z",
     "shell.execute_reply": "2025-07-30T21:35:10.228267Z"
    },
    "papermill": {
     "duration": 0.02727,
     "end_time": "2025-07-30T21:35:10.231038",
     "exception": false,
     "start_time": "2025-07-30T21:35:10.203768",
     "status": "completed"
    },
    "tags": []
   },
   "outputs": [],
   "source": [
    "#X_test = pd.read_csv(\"./data/X_test.csv\")\n",
    "#y_true = pd.read_csv(\"./data/y_test.csv\")"
   ]
  },
  {
   "cell_type": "code",
   "execution_count": 13,
   "id": "98a8d0fa-1d3d-4ed8-bb2c-281470e24add",
   "metadata": {
    "execution": {
     "iopub.execute_input": "2025-07-30T21:35:10.274604Z",
     "iopub.status.busy": "2025-07-30T21:35:10.274122Z",
     "iopub.status.idle": "2025-07-30T21:35:10.278835Z",
     "shell.execute_reply": "2025-07-30T21:35:10.277804Z"
    },
    "papermill": {
     "duration": 0.027741,
     "end_time": "2025-07-30T21:35:10.280487",
     "exception": false,
     "start_time": "2025-07-30T21:35:10.252746",
     "status": "completed"
    },
    "tags": []
   },
   "outputs": [],
   "source": [
    "# Calibration data for conformal\n",
    "#X_calib = pd.read_csv(\"./data/X_calib.csv\")\n",
    "#y_calib = pd.read_csv(\"./data/y_calib.csv\")"
   ]
  },
  {
   "cell_type": "markdown",
   "id": "997051c5-15bd-4b69-9786-c3001a3ce484",
   "metadata": {
    "papermill": {
     "duration": 0.02056,
     "end_time": "2025-07-30T21:35:10.322622",
     "exception": false,
     "start_time": "2025-07-30T21:35:10.302062",
     "status": "completed"
    },
    "tags": []
   },
   "source": [
    "# Splitting Data and Setting Training Data Size"
   ]
  },
  {
   "cell_type": "code",
   "execution_count": 14,
   "id": "e993b61f-042d-41a6-8c81-f55681f86335",
   "metadata": {
    "execution": {
     "iopub.execute_input": "2025-07-30T21:35:10.365948Z",
     "iopub.status.busy": "2025-07-30T21:35:10.365480Z",
     "iopub.status.idle": "2025-07-30T21:35:10.384083Z",
     "shell.execute_reply": "2025-07-30T21:35:10.383016Z"
    },
    "papermill": {
     "duration": 0.042239,
     "end_time": "2025-07-30T21:35:10.385999",
     "exception": false,
     "start_time": "2025-07-30T21:35:10.343760",
     "status": "completed"
    },
    "tags": []
   },
   "outputs": [],
   "source": [
    "def sample_by_year_size(df,\n",
    "                        training_year: str,\n",
    "                        training_size: str,\n",
    "                        random_state: int = 42):\n",
    "    # --- parse training_year into a list of int years ---\n",
    "    if \"_\" in training_year:\n",
    "        start_str, end_str = training_year.split(\"_\", 1)\n",
    "        start = int(start_str)\n",
    "        end   = int(end_str) if len(end_str) == 4 else (int(end_str) + (start // 100)*100)\n",
    "        years = list(range(start, end + 1))\n",
    "    else:\n",
    "        years = [int(training_year)]\n",
    "\n",
    "    df = df[df[\"year\"].isin(years)].reset_index(drop=True)\n",
    "\n",
    "    # --- map training_size to total number of samples ---\n",
    "    total_map = {\"25k\": 25_000, \"5k\": 5_000, \"1k\": 1_000}\n",
    "    if training_size not in total_map:\n",
    "        return df  # e.g. \"all\"\n",
    "\n",
    "    total_samples = total_map[training_size]\n",
    "    n_years       = len(years)\n",
    "    base          = total_samples // n_years\n",
    "    remainder     = total_samples % n_years\n",
    "\n",
    "    # --- build a dict: year -> how many to sample ---\n",
    "    # give +1 to the first `remainder` years in ascending order\n",
    "    quotas = {\n",
    "        year: base + (1 if idx < remainder else 0)\n",
    "        for idx, year in enumerate(sorted(years))\n",
    "    }\n",
    "\n",
    "    # --- sample per‐year according to the quota dict ---\n",
    "    sampled = (\n",
    "        df\n",
    "        .groupby(\"year\", group_keys=False)\n",
    "        .apply(lambda grp: grp.sample(\n",
    "            n=min(len(grp), quotas[grp.name]),\n",
    "            random_state=random_state))\n",
    "        .reset_index(drop=True)\n",
    "    )\n",
    "\n",
    "    return sampled"
   ]
  },
  {
   "cell_type": "code",
   "execution_count": 15,
   "id": "c0ccd338-0e02-41f3-a09d-f56f9266e3fb",
   "metadata": {
    "execution": {
     "iopub.execute_input": "2025-07-30T21:35:10.436245Z",
     "iopub.status.busy": "2025-07-30T21:35:10.435430Z",
     "iopub.status.idle": "2025-07-30T21:35:10.440634Z",
     "shell.execute_reply": "2025-07-30T21:35:10.439591Z"
    },
    "papermill": {
     "duration": 0.029136,
     "end_time": "2025-07-30T21:35:10.442456",
     "exception": false,
     "start_time": "2025-07-30T21:35:10.413320",
     "status": "completed"
    },
    "tags": []
   },
   "outputs": [],
   "source": [
    "#universe[\"training_size\"]"
   ]
  },
  {
   "cell_type": "code",
   "execution_count": 16,
   "id": "ca707fd7-8047-4acd-bfa5-66248fbbf8e6",
   "metadata": {
    "execution": {
     "iopub.execute_input": "2025-07-30T21:35:10.503464Z",
     "iopub.status.busy": "2025-07-30T21:35:10.502980Z",
     "iopub.status.idle": "2025-07-30T21:35:10.508002Z",
     "shell.execute_reply": "2025-07-30T21:35:10.507118Z"
    },
    "papermill": {
     "duration": 0.037987,
     "end_time": "2025-07-30T21:35:10.510148",
     "exception": false,
     "start_time": "2025-07-30T21:35:10.472161",
     "status": "completed"
    },
    "tags": []
   },
   "outputs": [],
   "source": [
    "#universe[\"training_year\"]"
   ]
  },
  {
   "cell_type": "code",
   "execution_count": 17,
   "id": "aea9c6ef-6f46-42c8-85eb-5a62025c1508",
   "metadata": {
    "execution": {
     "iopub.execute_input": "2025-07-30T21:35:10.550811Z",
     "iopub.status.busy": "2025-07-30T21:35:10.550405Z",
     "iopub.status.idle": "2025-07-30T21:35:11.126360Z",
     "shell.execute_reply": "2025-07-30T21:35:11.125393Z"
    },
    "papermill": {
     "duration": 0.589442,
     "end_time": "2025-07-30T21:35:11.128316",
     "exception": false,
     "start_time": "2025-07-30T21:35:10.538874",
     "status": "completed"
    },
    "tags": []
   },
   "outputs": [],
   "source": [
    "siab_train = sample_by_year_size(siab,\n",
    "                               training_year=universe[\"training_year\"],\n",
    "                               training_size=universe[\"training_size\"])"
   ]
  },
  {
   "cell_type": "code",
   "execution_count": 18,
   "id": "8d3afb32-789d-442c-8d5d-9f5aa8dd2eed",
   "metadata": {
    "execution": {
     "iopub.execute_input": "2025-07-30T21:35:11.173036Z",
     "iopub.status.busy": "2025-07-30T21:35:11.172086Z",
     "iopub.status.idle": "2025-07-30T21:35:11.177172Z",
     "shell.execute_reply": "2025-07-30T21:35:11.176388Z"
    },
    "papermill": {
     "duration": 0.028508,
     "end_time": "2025-07-30T21:35:11.178764",
     "exception": false,
     "start_time": "2025-07-30T21:35:11.150256",
     "status": "completed"
    },
    "tags": []
   },
   "outputs": [],
   "source": [
    "#siab_train.shape"
   ]
  },
  {
   "cell_type": "code",
   "execution_count": 19,
   "id": "d582db68-1a4c-47fb-84fc-08518dc1975a",
   "metadata": {
    "execution": {
     "iopub.execute_input": "2025-07-30T21:35:11.225308Z",
     "iopub.status.busy": "2025-07-30T21:35:11.224492Z",
     "iopub.status.idle": "2025-07-30T21:35:11.229526Z",
     "shell.execute_reply": "2025-07-30T21:35:11.228659Z"
    },
    "papermill": {
     "duration": 0.029457,
     "end_time": "2025-07-30T21:35:11.230877",
     "exception": false,
     "start_time": "2025-07-30T21:35:11.201420",
     "status": "completed"
    },
    "tags": []
   },
   "outputs": [],
   "source": [
    "#display(siab_train.groupby(\"year\").size())"
   ]
  },
  {
   "cell_type": "code",
   "execution_count": 20,
   "id": "a561edb4-d032-42cb-8256-22eac1111c64",
   "metadata": {
    "execution": {
     "iopub.execute_input": "2025-07-30T21:35:11.258153Z",
     "iopub.status.busy": "2025-07-30T21:35:11.257559Z",
     "iopub.status.idle": "2025-07-30T21:35:11.490914Z",
     "shell.execute_reply": "2025-07-30T21:35:11.490186Z"
    },
    "papermill": {
     "duration": 0.246431,
     "end_time": "2025-07-30T21:35:11.492370",
     "exception": false,
     "start_time": "2025-07-30T21:35:11.245939",
     "status": "completed"
    },
    "tags": []
   },
   "outputs": [],
   "source": [
    "#siab_train = siab_s[siab_s.year < 2015]\n",
    "siab_calib = siab[siab.year == 2015]\n",
    "siab_test = siab[siab.year == 2016]"
   ]
  },
  {
   "cell_type": "code",
   "execution_count": 21,
   "id": "472de16f-c3db-4916-846b-1f0de9cf1746",
   "metadata": {
    "execution": {
     "iopub.execute_input": "2025-07-30T21:35:11.517683Z",
     "iopub.status.busy": "2025-07-30T21:35:11.516803Z",
     "iopub.status.idle": "2025-07-30T21:35:11.525536Z",
     "shell.execute_reply": "2025-07-30T21:35:11.524365Z"
    },
    "papermill": {
     "duration": 0.0237,
     "end_time": "2025-07-30T21:35:11.527392",
     "exception": false,
     "start_time": "2025-07-30T21:35:11.503692",
     "status": "completed"
    },
    "tags": []
   },
   "outputs": [],
   "source": [
    "X_train = siab_train.iloc[:,4:164]\n",
    "y_train = siab_train.iloc[:, [3]]"
   ]
  },
  {
   "cell_type": "code",
   "execution_count": 22,
   "id": "828c96af-f43a-4ed6-ba47-8ac73a47d56c",
   "metadata": {
    "execution": {
     "iopub.execute_input": "2025-07-30T21:35:11.571866Z",
     "iopub.status.busy": "2025-07-30T21:35:11.571365Z",
     "iopub.status.idle": "2025-07-30T21:35:11.626383Z",
     "shell.execute_reply": "2025-07-30T21:35:11.625208Z"
    },
    "papermill": {
     "duration": 0.079825,
     "end_time": "2025-07-30T21:35:11.628482",
     "exception": false,
     "start_time": "2025-07-30T21:35:11.548657",
     "status": "completed"
    },
    "tags": []
   },
   "outputs": [],
   "source": [
    "X_calib = siab_calib.iloc[:,4:164]\n",
    "y_calib = siab_calib.iloc[:, [3]]"
   ]
  },
  {
   "cell_type": "code",
   "execution_count": 23,
   "id": "c34be9c3-6bd6-476e-acd3-845840e303be",
   "metadata": {
    "execution": {
     "iopub.execute_input": "2025-07-30T21:35:11.672457Z",
     "iopub.status.busy": "2025-07-30T21:35:11.672113Z",
     "iopub.status.idle": "2025-07-30T21:35:11.728329Z",
     "shell.execute_reply": "2025-07-30T21:35:11.727283Z"
    },
    "papermill": {
     "duration": 0.075387,
     "end_time": "2025-07-30T21:35:11.730202",
     "exception": false,
     "start_time": "2025-07-30T21:35:11.654815",
     "status": "completed"
    },
    "tags": []
   },
   "outputs": [],
   "source": [
    "X_test = siab_test.iloc[:,4:164]\n",
    "y_true = siab_test.iloc[:, [3]]"
   ]
  },
  {
   "cell_type": "markdown",
   "id": "9901737e-04df-44f0-9100-f5ad144ed040",
   "metadata": {
    "papermill": {
     "duration": 0.023088,
     "end_time": "2025-07-30T21:35:11.774511",
     "exception": false,
     "start_time": "2025-07-30T21:35:11.751423",
     "status": "completed"
    },
    "tags": []
   },
   "source": [
    "# Splitting Data and Setting Training Data Size OLD VERSION"
   ]
  },
  {
   "cell_type": "code",
   "execution_count": 24,
   "id": "acbc8f7d-8fc8-4e86-8c59-5dcb0f58384b",
   "metadata": {
    "execution": {
     "iopub.execute_input": "2025-07-30T21:35:11.818835Z",
     "iopub.status.busy": "2025-07-30T21:35:11.818359Z",
     "iopub.status.idle": "2025-07-30T21:35:11.824221Z",
     "shell.execute_reply": "2025-07-30T21:35:11.823122Z"
    },
    "papermill": {
     "duration": 0.029273,
     "end_time": "2025-07-30T21:35:11.825870",
     "exception": false,
     "start_time": "2025-07-30T21:35:11.796597",
     "status": "completed"
    },
    "tags": []
   },
   "outputs": [],
   "source": [
    "#def sample_by_year(df, training_size, random_state=42):\n",
    "#    if training_size == \"2014\":\n",
    "#        return df[df[\"year\"] == 2014].reset_index(drop=True)\n",
    "#    \n",
    "#    size_map = {\n",
    "#        \"25k\": 5000,\n",
    "#        \"5k\": 1000,\n",
    "#        \"1k\": 200\n",
    "#    }\n",
    "#\n",
    "#    if training_size not in size_map:\n",
    "#        return df.reset_index(drop=True)  # use all data\n",
    "#\n",
    "#    n_per_year = size_map[training_size]\n",
    "#    grouped = df.groupby(\"year\")\n",
    "#    sampled = grouped.apply(lambda x: x.sample(n=min(n_per_year, len(x)), random_state=random_state))\n",
    "#    return sampled.reset_index(drop=True)"
   ]
  },
  {
   "cell_type": "code",
   "execution_count": 25,
   "id": "6d931f52-beaf-43ff-9e78-9d44a448d54e",
   "metadata": {
    "execution": {
     "iopub.execute_input": "2025-07-30T21:35:11.872547Z",
     "iopub.status.busy": "2025-07-30T21:35:11.871947Z",
     "iopub.status.idle": "2025-07-30T21:35:11.877350Z",
     "shell.execute_reply": "2025-07-30T21:35:11.876331Z"
    },
    "papermill": {
     "duration": 0.032491,
     "end_time": "2025-07-30T21:35:11.878888",
     "exception": false,
     "start_time": "2025-07-30T21:35:11.846397",
     "status": "completed"
    },
    "tags": []
   },
   "outputs": [],
   "source": [
    "#siab_s = sample_by_year(siab, universe[\"training_size\"])"
   ]
  },
  {
   "cell_type": "code",
   "execution_count": 26,
   "id": "5db0a40e-a4e2-4920-be85-b12ae061d70d",
   "metadata": {
    "execution": {
     "iopub.execute_input": "2025-07-30T21:35:11.925430Z",
     "iopub.status.busy": "2025-07-30T21:35:11.924516Z",
     "iopub.status.idle": "2025-07-30T21:35:11.930288Z",
     "shell.execute_reply": "2025-07-30T21:35:11.929034Z"
    },
    "papermill": {
     "duration": 0.030823,
     "end_time": "2025-07-30T21:35:11.931864",
     "exception": false,
     "start_time": "2025-07-30T21:35:11.901041",
     "status": "completed"
    },
    "tags": []
   },
   "outputs": [],
   "source": [
    "#display(siab_s.groupby(\"year\").size())"
   ]
  },
  {
   "cell_type": "code",
   "execution_count": 27,
   "id": "e6c733c5",
   "metadata": {
    "execution": {
     "iopub.execute_input": "2025-07-30T21:35:11.978708Z",
     "iopub.status.busy": "2025-07-30T21:35:11.978225Z",
     "iopub.status.idle": "2025-07-30T21:35:12.079732Z",
     "shell.execute_reply": "2025-07-30T21:35:12.078948Z"
    },
    "papermill": {
     "duration": 0.126788,
     "end_time": "2025-07-30T21:35:12.081194",
     "exception": false,
     "start_time": "2025-07-30T21:35:11.954406",
     "status": "completed"
    },
    "tags": []
   },
   "outputs": [],
   "source": [
    "# Auxiliary data needed downstream in the pipeline\n",
    "\n",
    "org_train = X_train.copy()\n",
    "org_test = X_test.copy()\n",
    "org_calib = X_calib.copy()"
   ]
  },
  {
   "cell_type": "code",
   "execution_count": 28,
   "id": "1466abac-c6da-4492-a62f-4240ae3783af",
   "metadata": {
    "execution": {
     "iopub.execute_input": "2025-07-30T21:35:12.106117Z",
     "iopub.status.busy": "2025-07-30T21:35:12.105750Z",
     "iopub.status.idle": "2025-07-30T21:35:12.110337Z",
     "shell.execute_reply": "2025-07-30T21:35:12.109607Z"
    },
    "papermill": {
     "duration": 0.018723,
     "end_time": "2025-07-30T21:35:12.111539",
     "exception": false,
     "start_time": "2025-07-30T21:35:12.092816",
     "status": "completed"
    },
    "tags": []
   },
   "outputs": [],
   "source": [
    "# put in other script?\n",
    "# Group sizes\n",
    "\n",
    "#def calculate_percentages(df, df_name):\n",
    "#    total_entries = len(df)\n",
    "#\n",
    "#    female_pct = (df['frau1'] == 1).mean() * 100\n",
    "#    non_german_pct = ((df['maxdeutsch1'] == 0) & (df['maxdeutsch.Missing.'] == 0)).mean() * 100\n",
    "#    non_german_male_pct = ((df['frau1'] == 0) & (df['maxdeutsch1'] == 0) & (df['maxdeutsch.Missing.'] == 0)).mean() * 100\n",
    "#    non_german_female_pct = ((df['frau1'] == 1) & (df['maxdeutsch1'] == 0) & (df['maxdeutsch.Missing.'] == 0)).mean() * 100\n",
    "#\n",
    "#    print(f\"--- {df_name} ---\")\n",
    "#    print(f\"Female: {female_pct:.2f}%\")\n",
    "#    print(f\"Non-German: {non_german_pct:.2f}%\")\n",
    "#    print(f\"Non-German Male: {non_german_male_pct:.2f}%\")\n",
    "#    print(f\"Non-German Female: {non_german_female_pct:.2f}%\\n\")\n",
    "#\n",
    "## Calculate for each DataFrame\n",
    "#calculate_percentages(siab_calib, \"siab_calib\")\n",
    "#calculate_percentages(siab_test, \"siab_test\")\n",
    "#calculate_percentages(siab_train, \"siab_train\")"
   ]
  },
  {
   "cell_type": "markdown",
   "id": "0a4a1b33",
   "metadata": {
    "papermill": {
     "duration": 0.011131,
     "end_time": "2025-07-30T21:35:12.134634",
     "exception": false,
     "start_time": "2025-07-30T21:35:12.123503",
     "status": "completed"
    },
    "tags": []
   },
   "source": [
    "# Preprocessing Data"
   ]
  },
  {
   "cell_type": "code",
   "execution_count": 29,
   "id": "ca879031",
   "metadata": {
    "execution": {
     "iopub.execute_input": "2025-07-30T21:35:12.158962Z",
     "iopub.status.busy": "2025-07-30T21:35:12.158291Z",
     "iopub.status.idle": "2025-07-30T21:35:12.163030Z",
     "shell.execute_reply": "2025-07-30T21:35:12.162239Z"
    },
    "papermill": {
     "duration": 0.018741,
     "end_time": "2025-07-30T21:35:12.164584",
     "exception": false,
     "start_time": "2025-07-30T21:35:12.145843",
     "status": "completed"
    },
    "tags": []
   },
   "outputs": [],
   "source": [
    "# EXCLUDE PROTECTED FEATURES\n",
    "# ----------------------\n",
    "# \"exclude_features\": \"none\", # \"nationality\", \"sex\", \"nationality-sex\"\n",
    "\n",
    "excluded_features = universe[\"exclude_features\"].split(\"-\") # split, e.g.: \"nationality-sex\" -> [\"nationality\", \"sex\"]\n",
    "excluded_features_dictionary = {\n",
    "    \"nationality\": [\"maxdeutsch1\", \"maxdeutsch.Missing.\"],\n",
    "    \"sex\": [\"frau1\"],\n",
    "    \"age\": [\"age\"],\n",
    "}\n"
   ]
  },
  {
   "cell_type": "code",
   "execution_count": 30,
   "id": "b745ac60",
   "metadata": {
    "execution": {
     "iopub.execute_input": "2025-07-30T21:35:12.212926Z",
     "iopub.status.busy": "2025-07-30T21:35:12.211744Z",
     "iopub.status.idle": "2025-07-30T21:35:12.218138Z",
     "shell.execute_reply": "2025-07-30T21:35:12.217247Z"
    },
    "papermill": {
     "duration": 0.031956,
     "end_time": "2025-07-30T21:35:12.219615",
     "exception": false,
     "start_time": "2025-07-30T21:35:12.187659",
     "status": "completed"
    },
    "tags": []
   },
   "outputs": [],
   "source": [
    "# Code nice names to column names\n",
    "\n",
    "excluded_features_columns = [\n",
    "    excluded_features_dictionary[f] for f in excluded_features if len(f) > 0 and f != \"none\"\n",
    "]"
   ]
  },
  {
   "cell_type": "code",
   "execution_count": 31,
   "id": "f84f73a2",
   "metadata": {
    "execution": {
     "iopub.execute_input": "2025-07-30T21:35:12.249060Z",
     "iopub.status.busy": "2025-07-30T21:35:12.248333Z",
     "iopub.status.idle": "2025-07-30T21:35:12.264892Z",
     "shell.execute_reply": "2025-07-30T21:35:12.263834Z"
    },
    "papermill": {
     "duration": 0.031654,
     "end_time": "2025-07-30T21:35:12.266730",
     "exception": false,
     "start_time": "2025-07-30T21:35:12.235076",
     "status": "completed"
    },
    "tags": []
   },
   "outputs": [],
   "source": [
    "from utils import flatten_once\n",
    "\n",
    "excluded_features_columns = flatten_once(excluded_features_columns)"
   ]
  },
  {
   "cell_type": "code",
   "execution_count": 32,
   "id": "884dea22",
   "metadata": {
    "execution": {
     "iopub.execute_input": "2025-07-30T21:35:12.337341Z",
     "iopub.status.busy": "2025-07-30T21:35:12.336835Z",
     "iopub.status.idle": "2025-07-30T21:35:12.347482Z",
     "shell.execute_reply": "2025-07-30T21:35:12.346483Z"
    },
    "papermill": {
     "duration": 0.040464,
     "end_time": "2025-07-30T21:35:12.350840",
     "exception": false,
     "start_time": "2025-07-30T21:35:12.310376",
     "status": "completed"
    },
    "tags": []
   },
   "outputs": [
    {
     "name": "stdout",
     "output_type": "stream",
     "text": [
      "Dropping features: ['maxdeutsch1', 'maxdeutsch.Missing.']\n"
     ]
    }
   ],
   "source": [
    "if len(excluded_features_columns) > 0:\n",
    "    print(f\"Dropping features: {excluded_features_columns}\")\n",
    "    X_train.drop(excluded_features_columns, axis=1, inplace=True)"
   ]
  },
  {
   "cell_type": "code",
   "execution_count": 33,
   "id": "95ab8b16",
   "metadata": {
    "execution": {
     "iopub.execute_input": "2025-07-30T21:35:12.405471Z",
     "iopub.status.busy": "2025-07-30T21:35:12.405068Z",
     "iopub.status.idle": "2025-07-30T21:35:12.458963Z",
     "shell.execute_reply": "2025-07-30T21:35:12.458004Z"
    },
    "papermill": {
     "duration": 0.079177,
     "end_time": "2025-07-30T21:35:12.461040",
     "exception": false,
     "start_time": "2025-07-30T21:35:12.381863",
     "status": "completed"
    },
    "tags": []
   },
   "outputs": [
    {
     "name": "stdout",
     "output_type": "stream",
     "text": [
      "Dropping features: ['maxdeutsch1', 'maxdeutsch.Missing.']\n"
     ]
    }
   ],
   "source": [
    "if len(excluded_features_columns) > 0:\n",
    "    print(f\"Dropping features: {excluded_features_columns}\")\n",
    "    X_test.drop(excluded_features_columns, axis=1, inplace=True)"
   ]
  },
  {
   "cell_type": "code",
   "execution_count": 34,
   "id": "1853aaf5-fb9f-46cb-a2b5-8ea4ae2237e4",
   "metadata": {
    "execution": {
     "iopub.execute_input": "2025-07-30T21:35:12.506693Z",
     "iopub.status.busy": "2025-07-30T21:35:12.506314Z",
     "iopub.status.idle": "2025-07-30T21:35:12.556776Z",
     "shell.execute_reply": "2025-07-30T21:35:12.555885Z"
    },
    "papermill": {
     "duration": 0.075519,
     "end_time": "2025-07-30T21:35:12.558676",
     "exception": false,
     "start_time": "2025-07-30T21:35:12.483157",
     "status": "completed"
    },
    "tags": []
   },
   "outputs": [
    {
     "name": "stdout",
     "output_type": "stream",
     "text": [
      "Dropping features: ['maxdeutsch1', 'maxdeutsch.Missing.']\n"
     ]
    }
   ],
   "source": [
    "if len(excluded_features_columns) > 0:\n",
    "    print(f\"Dropping features: {excluded_features_columns}\")\n",
    "    X_calib.drop(excluded_features_columns, axis=1, inplace=True)"
   ]
  },
  {
   "cell_type": "code",
   "execution_count": 35,
   "id": "6727d079-03e5-481e-9d38-292a90b7a0a8",
   "metadata": {
    "execution": {
     "iopub.execute_input": "2025-07-30T21:35:12.603505Z",
     "iopub.status.busy": "2025-07-30T21:35:12.603125Z",
     "iopub.status.idle": "2025-07-30T21:35:12.608158Z",
     "shell.execute_reply": "2025-07-30T21:35:12.607108Z"
    },
    "papermill": {
     "duration": 0.030996,
     "end_time": "2025-07-30T21:35:12.611500",
     "exception": false,
     "start_time": "2025-07-30T21:35:12.580504",
     "status": "completed"
    },
    "tags": []
   },
   "outputs": [],
   "source": [
    "# SPLIT & STRATIFY DATA\n",
    "# ----------------------"
   ]
  },
  {
   "cell_type": "code",
   "execution_count": 36,
   "id": "76c4dc6d",
   "metadata": {
    "execution": {
     "iopub.execute_input": "2025-07-30T21:35:12.656541Z",
     "iopub.status.busy": "2025-07-30T21:35:12.656130Z",
     "iopub.status.idle": "2025-07-30T21:35:12.661852Z",
     "shell.execute_reply": "2025-07-30T21:35:12.660723Z"
    },
    "papermill": {
     "duration": 0.031181,
     "end_time": "2025-07-30T21:35:12.664882",
     "exception": false,
     "start_time": "2025-07-30T21:35:12.633701",
     "status": "completed"
    },
    "tags": []
   },
   "outputs": [],
   "source": [
    "# EXCLUDE CERTAIN SUBGROUPS\n",
    "# ----------------------\n",
    "\n",
    "mode = universe.get(\"exclude_subgroups\", \"keep-all\") \n",
    "# Fetches the exclude_subgroups setting from the universe dict.\n",
    "# Defaults to \"keep-all\" if the key is missing."
   ]
  },
  {
   "cell_type": "code",
   "execution_count": 37,
   "id": "21994072",
   "metadata": {
    "execution": {
     "iopub.execute_input": "2025-07-30T21:35:12.709734Z",
     "iopub.status.busy": "2025-07-30T21:35:12.709307Z",
     "iopub.status.idle": "2025-07-30T21:35:12.716711Z",
     "shell.execute_reply": "2025-07-30T21:35:12.715478Z"
    },
    "papermill": {
     "duration": 0.032433,
     "end_time": "2025-07-30T21:35:12.719658",
     "exception": false,
     "start_time": "2025-07-30T21:35:12.687225",
     "status": "completed"
    },
    "tags": []
   },
   "outputs": [],
   "source": [
    "if mode == \"keep-all\":\n",
    "    keep_mask = pd.Series(True, index=org_train.index)\n",
    "\n",
    "# org_train contains the original feature columns from features_org (in Simson)\n",
    "# features_org contains unprocessed features, for me X_train at beginning ???\n",
    "# For keep-all, creates a boolean Series (keep_mask) of all True, so no rows are removed.\n",
    "\n",
    "elif mode == \"drop-non-german\":\n",
    "    keep_mask = org_train[\"maxdeutsch1\"] == 1 # ??? what about missing values?\n",
    "\n",
    "else:\n",
    "    raise ValueError(f\"Unsupported mode for exclude_subgroups: {mode}\")\n"
   ]
  },
  {
   "cell_type": "code",
   "execution_count": 38,
   "id": "71651440",
   "metadata": {
    "execution": {
     "iopub.execute_input": "2025-07-30T21:35:12.766704Z",
     "iopub.status.busy": "2025-07-30T21:35:12.766320Z",
     "iopub.status.idle": "2025-07-30T21:35:12.772920Z",
     "shell.execute_reply": "2025-07-30T21:35:12.771847Z"
    },
    "papermill": {
     "duration": 0.031281,
     "end_time": "2025-07-30T21:35:12.775443",
     "exception": false,
     "start_time": "2025-07-30T21:35:12.744162",
     "status": "completed"
    },
    "tags": []
   },
   "outputs": [],
   "source": [
    "n_drop = (~keep_mask).sum() # Calculates how many rows are set to be dropped\n",
    "if n_drop > 0:\n",
    "    pct = n_drop / len(keep_mask) * 100\n",
    "    print(f\"Dropping {n_drop} rows ({pct:.2f}%) where mode='{mode}'\")"
   ]
  },
  {
   "cell_type": "code",
   "execution_count": 39,
   "id": "5fb8eee5",
   "metadata": {
    "execution": {
     "iopub.execute_input": "2025-07-30T21:35:12.820867Z",
     "iopub.status.busy": "2025-07-30T21:35:12.820409Z",
     "iopub.status.idle": "2025-07-30T21:35:12.827029Z",
     "shell.execute_reply": "2025-07-30T21:35:12.825863Z"
    },
    "papermill": {
     "duration": 0.034372,
     "end_time": "2025-07-30T21:35:12.832455",
     "exception": false,
     "start_time": "2025-07-30T21:35:12.798083",
     "status": "completed"
    },
    "tags": []
   },
   "outputs": [],
   "source": [
    "X_train = X_train[keep_mask]"
   ]
  },
  {
   "cell_type": "code",
   "execution_count": 40,
   "id": "b202bb3a",
   "metadata": {
    "execution": {
     "iopub.execute_input": "2025-07-30T21:35:12.880460Z",
     "iopub.status.busy": "2025-07-30T21:35:12.879953Z",
     "iopub.status.idle": "2025-07-30T21:35:12.885749Z",
     "shell.execute_reply": "2025-07-30T21:35:12.884785Z"
    },
    "papermill": {
     "duration": 0.031969,
     "end_time": "2025-07-30T21:35:12.887478",
     "exception": false,
     "start_time": "2025-07-30T21:35:12.855509",
     "status": "completed"
    },
    "tags": []
   },
   "outputs": [],
   "source": [
    "y_train = y_train[keep_mask]"
   ]
  },
  {
   "cell_type": "markdown",
   "id": "493e2ac3",
   "metadata": {
    "papermill": {
     "duration": 0.021876,
     "end_time": "2025-07-30T21:35:12.930688",
     "exception": false,
     "start_time": "2025-07-30T21:35:12.908812",
     "status": "completed"
    },
    "tags": []
   },
   "source": [
    "# Model Training"
   ]
  },
  {
   "cell_type": "code",
   "execution_count": 41,
   "id": "679e1268",
   "metadata": {
    "execution": {
     "iopub.execute_input": "2025-07-30T21:35:12.976615Z",
     "iopub.status.busy": "2025-07-30T21:35:12.975577Z",
     "iopub.status.idle": "2025-07-30T21:35:13.080547Z",
     "shell.execute_reply": "2025-07-30T21:35:13.079572Z"
    },
    "papermill": {
     "duration": 0.130156,
     "end_time": "2025-07-30T21:35:13.082503",
     "exception": false,
     "start_time": "2025-07-30T21:35:12.952347",
     "status": "completed"
    },
    "tags": []
   },
   "outputs": [],
   "source": [
    "from sklearn.linear_model import LogisticRegression\n",
    "from sklearn.ensemble import GradientBoostingClassifier, RandomForestClassifier\n",
    "\n",
    "if (universe[\"model\"] == \"logreg\"):\n",
    "    model = LogisticRegression() #penalty=\"none\") #, solver=\"newton-cg\", max_iter=1) # include random_state=19 ?\n",
    "elif (universe[\"model\"] == \"penalized_logreg\"):\n",
    "    model = LogisticRegression(penalty=\"l2\", C=1.0) #, solver=\"newton-cg\", max_iter=1)\n",
    "elif (universe[\"model\"] == \"rf\"):\n",
    "    model = RandomForestClassifier(n_estimators=100, n_jobs=-1)\n",
    "elif (universe[\"model\"] == \"gbm\"):\n",
    "    model = GradientBoostingClassifier()\n",
    "elif (universe[\"model\"] == \"elasticnet\"):\n",
    "    model = LogisticRegression(penalty = 'elasticnet', solver = 'saga', l1_ratio = 0.5, max_iter=5000) # which solver to use?\n",
    "else:\n",
    "    raise \"Unsupported universe.model\""
   ]
  },
  {
   "cell_type": "code",
   "execution_count": 42,
   "id": "0cc8f744",
   "metadata": {
    "execution": {
     "iopub.execute_input": "2025-07-30T21:35:13.127993Z",
     "iopub.status.busy": "2025-07-30T21:35:13.127617Z",
     "iopub.status.idle": "2025-07-30T21:35:13.134013Z",
     "shell.execute_reply": "2025-07-30T21:35:13.133083Z"
    },
    "papermill": {
     "duration": 0.031413,
     "end_time": "2025-07-30T21:35:13.136909",
     "exception": false,
     "start_time": "2025-07-30T21:35:13.105496",
     "status": "completed"
    },
    "tags": []
   },
   "outputs": [],
   "source": [
    "import numpy as np\n",
    "from sklearn.pipeline import Pipeline\n",
    "from sklearn.preprocessing import StandardScaler\n",
    "\n",
    "model = Pipeline([\n",
    "    #(\"continuous_processor\", continuous_processor),\n",
    "    #(\"categorical_preprocessor\", categorical_preprocessor),\n",
    "    (\"scale\", StandardScaler() if universe[\"scale\"] == \"scale\" else None), \n",
    "    (\"model\", model),\n",
    "])"
   ]
  },
  {
   "cell_type": "code",
   "execution_count": 43,
   "id": "9442c04d",
   "metadata": {
    "execution": {
     "iopub.execute_input": "2025-07-30T21:35:13.182085Z",
     "iopub.status.busy": "2025-07-30T21:35:13.181704Z",
     "iopub.status.idle": "2025-07-30T21:35:13.655627Z",
     "shell.execute_reply": "2025-07-30T21:35:13.654639Z"
    },
    "papermill": {
     "duration": 0.498113,
     "end_time": "2025-07-30T21:35:13.657429",
     "exception": false,
     "start_time": "2025-07-30T21:35:13.159316",
     "status": "completed"
    },
    "tags": []
   },
   "outputs": [
    {
     "data": {
      "text/html": [
       "<style>#sk-container-id-1 {color: black;background-color: white;}#sk-container-id-1 pre{padding: 0;}#sk-container-id-1 div.sk-toggleable {background-color: white;}#sk-container-id-1 label.sk-toggleable__label {cursor: pointer;display: block;width: 100%;margin-bottom: 0;padding: 0.3em;box-sizing: border-box;text-align: center;}#sk-container-id-1 label.sk-toggleable__label-arrow:before {content: \"▸\";float: left;margin-right: 0.25em;color: #696969;}#sk-container-id-1 label.sk-toggleable__label-arrow:hover:before {color: black;}#sk-container-id-1 div.sk-estimator:hover label.sk-toggleable__label-arrow:before {color: black;}#sk-container-id-1 div.sk-toggleable__content {max-height: 0;max-width: 0;overflow: hidden;text-align: left;background-color: #f0f8ff;}#sk-container-id-1 div.sk-toggleable__content pre {margin: 0.2em;color: black;border-radius: 0.25em;background-color: #f0f8ff;}#sk-container-id-1 input.sk-toggleable__control:checked~div.sk-toggleable__content {max-height: 200px;max-width: 100%;overflow: auto;}#sk-container-id-1 input.sk-toggleable__control:checked~label.sk-toggleable__label-arrow:before {content: \"▾\";}#sk-container-id-1 div.sk-estimator input.sk-toggleable__control:checked~label.sk-toggleable__label {background-color: #d4ebff;}#sk-container-id-1 div.sk-label input.sk-toggleable__control:checked~label.sk-toggleable__label {background-color: #d4ebff;}#sk-container-id-1 input.sk-hidden--visually {border: 0;clip: rect(1px 1px 1px 1px);clip: rect(1px, 1px, 1px, 1px);height: 1px;margin: -1px;overflow: hidden;padding: 0;position: absolute;width: 1px;}#sk-container-id-1 div.sk-estimator {font-family: monospace;background-color: #f0f8ff;border: 1px dotted black;border-radius: 0.25em;box-sizing: border-box;margin-bottom: 0.5em;}#sk-container-id-1 div.sk-estimator:hover {background-color: #d4ebff;}#sk-container-id-1 div.sk-parallel-item::after {content: \"\";width: 100%;border-bottom: 1px solid gray;flex-grow: 1;}#sk-container-id-1 div.sk-label:hover label.sk-toggleable__label {background-color: #d4ebff;}#sk-container-id-1 div.sk-serial::before {content: \"\";position: absolute;border-left: 1px solid gray;box-sizing: border-box;top: 0;bottom: 0;left: 50%;z-index: 0;}#sk-container-id-1 div.sk-serial {display: flex;flex-direction: column;align-items: center;background-color: white;padding-right: 0.2em;padding-left: 0.2em;position: relative;}#sk-container-id-1 div.sk-item {position: relative;z-index: 1;}#sk-container-id-1 div.sk-parallel {display: flex;align-items: stretch;justify-content: center;background-color: white;position: relative;}#sk-container-id-1 div.sk-item::before, #sk-container-id-1 div.sk-parallel-item::before {content: \"\";position: absolute;border-left: 1px solid gray;box-sizing: border-box;top: 0;bottom: 0;left: 50%;z-index: -1;}#sk-container-id-1 div.sk-parallel-item {display: flex;flex-direction: column;z-index: 1;position: relative;background-color: white;}#sk-container-id-1 div.sk-parallel-item:first-child::after {align-self: flex-end;width: 50%;}#sk-container-id-1 div.sk-parallel-item:last-child::after {align-self: flex-start;width: 50%;}#sk-container-id-1 div.sk-parallel-item:only-child::after {width: 0;}#sk-container-id-1 div.sk-dashed-wrapped {border: 1px dashed gray;margin: 0 0.4em 0.5em 0.4em;box-sizing: border-box;padding-bottom: 0.4em;background-color: white;}#sk-container-id-1 div.sk-label label {font-family: monospace;font-weight: bold;display: inline-block;line-height: 1.2em;}#sk-container-id-1 div.sk-label-container {text-align: center;}#sk-container-id-1 div.sk-container {/* jupyter's `normalize.less` sets `[hidden] { display: none; }` but bootstrap.min.css set `[hidden] { display: none !important; }` so we also need the `!important` here to be able to override the default hidden behavior on the sphinx rendered scikit-learn.org. See: https://github.com/scikit-learn/scikit-learn/issues/21755 */display: inline-block !important;position: relative;}#sk-container-id-1 div.sk-text-repr-fallback {display: none;}</style><div id=\"sk-container-id-1\" class=\"sk-top-container\"><div class=\"sk-text-repr-fallback\"><pre>Pipeline(steps=[(&#x27;scale&#x27;, StandardScaler()),\n",
       "                (&#x27;model&#x27;, RandomForestClassifier(n_jobs=-1))])</pre><b>In a Jupyter environment, please rerun this cell to show the HTML representation or trust the notebook. <br />On GitHub, the HTML representation is unable to render, please try loading this page with nbviewer.org.</b></div><div class=\"sk-container\" hidden><div class=\"sk-item sk-dashed-wrapped\"><div class=\"sk-label-container\"><div class=\"sk-label sk-toggleable\"><input class=\"sk-toggleable__control sk-hidden--visually\" id=\"sk-estimator-id-1\" type=\"checkbox\" ><label for=\"sk-estimator-id-1\" class=\"sk-toggleable__label sk-toggleable__label-arrow\">Pipeline</label><div class=\"sk-toggleable__content\"><pre>Pipeline(steps=[(&#x27;scale&#x27;, StandardScaler()),\n",
       "                (&#x27;model&#x27;, RandomForestClassifier(n_jobs=-1))])</pre></div></div></div><div class=\"sk-serial\"><div class=\"sk-item\"><div class=\"sk-estimator sk-toggleable\"><input class=\"sk-toggleable__control sk-hidden--visually\" id=\"sk-estimator-id-2\" type=\"checkbox\" ><label for=\"sk-estimator-id-2\" class=\"sk-toggleable__label sk-toggleable__label-arrow\">StandardScaler</label><div class=\"sk-toggleable__content\"><pre>StandardScaler()</pre></div></div></div><div class=\"sk-item\"><div class=\"sk-estimator sk-toggleable\"><input class=\"sk-toggleable__control sk-hidden--visually\" id=\"sk-estimator-id-3\" type=\"checkbox\" ><label for=\"sk-estimator-id-3\" class=\"sk-toggleable__label sk-toggleable__label-arrow\">RandomForestClassifier</label><div class=\"sk-toggleable__content\"><pre>RandomForestClassifier(n_jobs=-1)</pre></div></div></div></div></div></div></div>"
      ],
      "text/plain": [
       "Pipeline(steps=[('scale', StandardScaler()),\n",
       "                ('model', RandomForestClassifier(n_jobs=-1))])"
      ]
     },
     "execution_count": 43,
     "metadata": {},
     "output_type": "execute_result"
    }
   ],
   "source": [
    "model.fit(X_train, y_train.values.ravel())"
   ]
  },
  {
   "cell_type": "code",
   "execution_count": 44,
   "id": "af59f8c0",
   "metadata": {
    "execution": {
     "iopub.execute_input": "2025-07-30T21:35:13.700546Z",
     "iopub.status.busy": "2025-07-30T21:35:13.699912Z",
     "iopub.status.idle": "2025-07-30T21:35:13.705058Z",
     "shell.execute_reply": "2025-07-30T21:35:13.704323Z"
    },
    "papermill": {
     "duration": 0.023778,
     "end_time": "2025-07-30T21:35:13.706338",
     "exception": false,
     "start_time": "2025-07-30T21:35:13.682560",
     "status": "completed"
    },
    "tags": []
   },
   "outputs": [],
   "source": [
    "from fairness_multiverse.universe import predict_w_threshold"
   ]
  },
  {
   "cell_type": "code",
   "execution_count": 45,
   "id": "a7cf2e16",
   "metadata": {
    "execution": {
     "iopub.execute_input": "2025-07-30T21:35:13.751764Z",
     "iopub.status.busy": "2025-07-30T21:35:13.751334Z",
     "iopub.status.idle": "2025-07-30T21:35:14.823404Z",
     "shell.execute_reply": "2025-07-30T21:35:14.822507Z"
    },
    "papermill": {
     "duration": 1.096043,
     "end_time": "2025-07-30T21:35:14.824992",
     "exception": false,
     "start_time": "2025-07-30T21:35:13.728949",
     "status": "completed"
    },
    "tags": []
   },
   "outputs": [
    {
     "data": {
      "text/plain": [
       "0.8610857206554453"
      ]
     },
     "execution_count": 45,
     "metadata": {},
     "output_type": "execute_result"
    }
   ],
   "source": [
    "probs_test = model.predict_proba(X_test)\n",
    "\n",
    "'''\n",
    "Below code returns a boolean array (or binary 0/1 array depending on how it’s used) where each element \n",
    "is True if the probability of class 1 is greater than or equal to the threshold, and False otherwise.\n",
    "'''\n",
    "y_pred_default = predict_w_threshold(probs_test, 0.5)\n",
    "\n",
    "from sklearn.metrics import accuracy_score\n",
    "\n",
    "# Naive prediction\n",
    "accuracy_score(y_true = y_true, y_pred = y_pred_default)"
   ]
  },
  {
   "cell_type": "code",
   "execution_count": 46,
   "id": "081964c3",
   "metadata": {
    "execution": {
     "iopub.execute_input": "2025-07-30T21:35:14.863301Z",
     "iopub.status.busy": "2025-07-30T21:35:14.862913Z",
     "iopub.status.idle": "2025-07-30T21:35:15.754395Z",
     "shell.execute_reply": "2025-07-30T21:35:15.753498Z"
    },
    "papermill": {
     "duration": 0.907711,
     "end_time": "2025-07-30T21:35:15.755866",
     "exception": false,
     "start_time": "2025-07-30T21:35:14.848155",
     "status": "completed"
    },
    "tags": []
   },
   "outputs": [
    {
     "data": {
      "text/plain": [
       "array([0, 0, 0, ..., 0, 0, 0])"
      ]
     },
     "execution_count": 46,
     "metadata": {},
     "output_type": "execute_result"
    }
   ],
   "source": [
    "model.predict(X_test)"
   ]
  },
  {
   "cell_type": "markdown",
   "id": "56c9705b",
   "metadata": {
    "papermill": {
     "duration": 0.043374,
     "end_time": "2025-07-30T21:35:15.837069",
     "exception": false,
     "start_time": "2025-07-30T21:35:15.793695",
     "status": "completed"
    },
    "tags": []
   },
   "source": [
    "# Conformal Prediction"
   ]
  },
  {
   "cell_type": "code",
   "execution_count": 47,
   "id": "160ec6ff",
   "metadata": {
    "execution": {
     "iopub.execute_input": "2025-07-30T21:35:15.887339Z",
     "iopub.status.busy": "2025-07-30T21:35:15.886829Z",
     "iopub.status.idle": "2025-07-30T21:35:15.892281Z",
     "shell.execute_reply": "2025-07-30T21:35:15.891232Z"
    },
    "papermill": {
     "duration": 0.032178,
     "end_time": "2025-07-30T21:35:15.893738",
     "exception": false,
     "start_time": "2025-07-30T21:35:15.861560",
     "status": "completed"
    },
    "tags": []
   },
   "outputs": [],
   "source": [
    "# Miscoverage level for conformal prediction (10% allowed error rate => 90% target coverage)\n",
    "alpha = 0.1"
   ]
  },
  {
   "cell_type": "code",
   "execution_count": 48,
   "id": "eadf4555-3dd3-440e-8e35-f82a4ad9f855",
   "metadata": {
    "execution": {
     "iopub.execute_input": "2025-07-30T21:35:15.920199Z",
     "iopub.status.busy": "2025-07-30T21:35:15.919473Z",
     "iopub.status.idle": "2025-07-30T21:35:16.595420Z",
     "shell.execute_reply": "2025-07-30T21:35:16.594400Z"
    },
    "papermill": {
     "duration": 0.690515,
     "end_time": "2025-07-30T21:35:16.597327",
     "exception": false,
     "start_time": "2025-07-30T21:35:15.906812",
     "status": "completed"
    },
    "tags": []
   },
   "outputs": [],
   "source": [
    "probs_calib = model.predict_proba(X_calib)"
   ]
  },
  {
   "cell_type": "code",
   "execution_count": 49,
   "id": "2ed93547-6d5d-4983-9b36-1ecb300da49a",
   "metadata": {
    "execution": {
     "iopub.execute_input": "2025-07-30T21:35:16.647072Z",
     "iopub.status.busy": "2025-07-30T21:35:16.646622Z",
     "iopub.status.idle": "2025-07-30T21:35:16.652250Z",
     "shell.execute_reply": "2025-07-30T21:35:16.651233Z"
    },
    "papermill": {
     "duration": 0.033316,
     "end_time": "2025-07-30T21:35:16.653836",
     "exception": false,
     "start_time": "2025-07-30T21:35:16.620520",
     "status": "completed"
    },
    "tags": []
   },
   "outputs": [],
   "source": [
    "y_calib = y_calib.values.ravel().astype(int)"
   ]
  },
  {
   "cell_type": "code",
   "execution_count": 50,
   "id": "65d1320d-f588-4b38-9072-62af1ae97f7d",
   "metadata": {
    "execution": {
     "iopub.execute_input": "2025-07-30T21:35:16.699460Z",
     "iopub.status.busy": "2025-07-30T21:35:16.699185Z",
     "iopub.status.idle": "2025-07-30T21:35:16.704775Z",
     "shell.execute_reply": "2025-07-30T21:35:16.704099Z"
    },
    "papermill": {
     "duration": 0.026884,
     "end_time": "2025-07-30T21:35:16.705972",
     "exception": false,
     "start_time": "2025-07-30T21:35:16.679088",
     "status": "completed"
    },
    "tags": []
   },
   "outputs": [],
   "source": [
    "from fairness_multiverse.conformal import compute_nc_scores\n",
    "\n",
    "# Compute nonconformity scores on calibration set (1 - probability of true class)\n",
    "nc_scores = compute_nc_scores(probs_calib, y_calib)"
   ]
  },
  {
   "cell_type": "code",
   "execution_count": 51,
   "id": "df3b8ca3-53b7-43d5-9667-7c85da7aeda2",
   "metadata": {
    "execution": {
     "iopub.execute_input": "2025-07-30T21:35:16.733096Z",
     "iopub.status.busy": "2025-07-30T21:35:16.732333Z",
     "iopub.status.idle": "2025-07-30T21:35:16.740474Z",
     "shell.execute_reply": "2025-07-30T21:35:16.737744Z"
    },
    "papermill": {
     "duration": 0.023062,
     "end_time": "2025-07-30T21:35:16.742054",
     "exception": false,
     "start_time": "2025-07-30T21:35:16.718992",
     "status": "completed"
    },
    "tags": []
   },
   "outputs": [],
   "source": [
    "from fairness_multiverse.conformal import find_threshold\n",
    "\n",
    "# Find conformal threshold q_hat for the given alpha (split conformal method)\n",
    "q_hat = find_threshold(nc_scores, alpha)"
   ]
  },
  {
   "cell_type": "code",
   "execution_count": 52,
   "id": "4d29e6c1-0ef6-4aa4-b8fe-4fe79b0d033a",
   "metadata": {
    "execution": {
     "iopub.execute_input": "2025-07-30T21:35:16.787620Z",
     "iopub.status.busy": "2025-07-30T21:35:16.787052Z",
     "iopub.status.idle": "2025-07-30T21:35:16.792987Z",
     "shell.execute_reply": "2025-07-30T21:35:16.792260Z"
    },
    "papermill": {
     "duration": 0.027361,
     "end_time": "2025-07-30T21:35:16.794234",
     "exception": false,
     "start_time": "2025-07-30T21:35:16.766873",
     "status": "completed"
    },
    "tags": []
   },
   "outputs": [
    {
     "data": {
      "text/plain": [
       "0.6699999999999999"
      ]
     },
     "execution_count": 52,
     "metadata": {},
     "output_type": "execute_result"
    }
   ],
   "source": [
    "q_hat"
   ]
  },
  {
   "cell_type": "code",
   "execution_count": 53,
   "id": "92460794-cdac-4be2-ba28-f28c0515a6fb",
   "metadata": {
    "execution": {
     "iopub.execute_input": "2025-07-30T21:35:16.819992Z",
     "iopub.status.busy": "2025-07-30T21:35:16.819395Z",
     "iopub.status.idle": "2025-07-30T21:35:18.308381Z",
     "shell.execute_reply": "2025-07-30T21:35:18.307301Z"
    },
    "papermill": {
     "duration": 1.504091,
     "end_time": "2025-07-30T21:35:18.310806",
     "exception": false,
     "start_time": "2025-07-30T21:35:16.806715",
     "status": "completed"
    },
    "tags": []
   },
   "outputs": [],
   "source": [
    "from fairness_multiverse.conformal import predict_conformal_sets\n",
    "\n",
    "# Generate prediction sets for each test example\n",
    "pred_sets = predict_conformal_sets(model, X_test, q_hat)"
   ]
  },
  {
   "cell_type": "code",
   "execution_count": 54,
   "id": "d90c9a65-e6db-4f5d-80cd-e68fb7e46829",
   "metadata": {
    "execution": {
     "iopub.execute_input": "2025-07-30T21:35:18.383226Z",
     "iopub.status.busy": "2025-07-30T21:35:18.382695Z",
     "iopub.status.idle": "2025-07-30T21:35:18.388760Z",
     "shell.execute_reply": "2025-07-30T21:35:18.387743Z"
    },
    "papermill": {
     "duration": 0.034087,
     "end_time": "2025-07-30T21:35:18.390464",
     "exception": false,
     "start_time": "2025-07-30T21:35:18.356377",
     "status": "completed"
    },
    "tags": []
   },
   "outputs": [],
   "source": [
    "y_true = y_true.squeeze()"
   ]
  },
  {
   "cell_type": "code",
   "execution_count": 55,
   "id": "3a58a54a-1e68-46b9-927a-df01f18aebc8",
   "metadata": {
    "execution": {
     "iopub.execute_input": "2025-07-30T21:35:18.442213Z",
     "iopub.status.busy": "2025-07-30T21:35:18.441502Z",
     "iopub.status.idle": "2025-07-30T21:35:19.404293Z",
     "shell.execute_reply": "2025-07-30T21:35:19.403280Z"
    },
    "papermill": {
     "duration": 0.990358,
     "end_time": "2025-07-30T21:35:19.406204",
     "exception": false,
     "start_time": "2025-07-30T21:35:18.415846",
     "status": "completed"
    },
    "tags": []
   },
   "outputs": [],
   "source": [
    "from fairness_multiverse.conformal import evaluate_sets\n",
    "\n",
    "# Evaluate coverage and average set size on test data\n",
    "metrics = evaluate_sets(pred_sets, y_true)"
   ]
  },
  {
   "cell_type": "markdown",
   "id": "2b569c12-9aaa-4c88-98c9-bbcd0cf3ebb8",
   "metadata": {
    "papermill": {
     "duration": 0.024897,
     "end_time": "2025-07-30T21:35:19.455960",
     "exception": false,
     "start_time": "2025-07-30T21:35:19.431063",
     "status": "completed"
    },
    "tags": []
   },
   "source": [
    "# CP Metrics"
   ]
  },
  {
   "cell_type": "code",
   "execution_count": 56,
   "id": "5ce0a5cb-201f-45a0-ade5-94c7f0bd6095",
   "metadata": {
    "execution": {
     "iopub.execute_input": "2025-07-30T21:35:19.507301Z",
     "iopub.status.busy": "2025-07-30T21:35:19.506655Z",
     "iopub.status.idle": "2025-07-30T21:35:19.513705Z",
     "shell.execute_reply": "2025-07-30T21:35:19.512807Z"
    },
    "papermill": {
     "duration": 0.033907,
     "end_time": "2025-07-30T21:35:19.515356",
     "exception": false,
     "start_time": "2025-07-30T21:35:19.481449",
     "status": "completed"
    },
    "tags": []
   },
   "outputs": [
    {
     "data": {
      "text/plain": [
       "{'coverage': 0.9166313677404971, 'avg_size': 1.1583212573849069}"
      ]
     },
     "execution_count": 56,
     "metadata": {},
     "output_type": "execute_result"
    }
   ],
   "source": [
    "metrics"
   ]
  },
  {
   "cell_type": "code",
   "execution_count": 57,
   "id": "9b9a838d-31c9-430b-ae14-12baee460d17",
   "metadata": {
    "execution": {
     "iopub.execute_input": "2025-07-30T21:35:19.567030Z",
     "iopub.status.busy": "2025-07-30T21:35:19.566396Z",
     "iopub.status.idle": "2025-07-30T21:35:19.572862Z",
     "shell.execute_reply": "2025-07-30T21:35:19.571903Z"
    },
    "papermill": {
     "duration": 0.033571,
     "end_time": "2025-07-30T21:35:19.574397",
     "exception": false,
     "start_time": "2025-07-30T21:35:19.540826",
     "status": "completed"
    },
    "tags": []
   },
   "outputs": [],
   "source": [
    "example_universe = universe.copy()\n",
    "universe_training_year = example_universe.get(\"training_year\")\n",
    "universe_training_size = example_universe.get(\"training_size\")\n",
    "universe_scale = example_universe.get(\"scale\")\n",
    "universe_model = example_universe.get(\"model\")\n",
    "universe_exclude_features = example_universe.get(\"exclude_features\")\n",
    "universe_exclude_subgroups = example_universe.get(\"exclude_subgroups\")"
   ]
  },
  {
   "cell_type": "code",
   "execution_count": 58,
   "id": "f4b6a8ac-9dc0-4245-8a91-5b3b5999c4f9",
   "metadata": {
    "execution": {
     "iopub.execute_input": "2025-07-30T21:35:19.627630Z",
     "iopub.status.busy": "2025-07-30T21:35:19.626693Z",
     "iopub.status.idle": "2025-07-30T21:35:19.633532Z",
     "shell.execute_reply": "2025-07-30T21:35:19.632539Z"
    },
    "papermill": {
     "duration": 0.034888,
     "end_time": "2025-07-30T21:35:19.635005",
     "exception": false,
     "start_time": "2025-07-30T21:35:19.600117",
     "status": "completed"
    },
    "tags": []
   },
   "outputs": [],
   "source": [
    "cp_metrics_dict = {\n",
    "    \"universe_id\": [universe_id],\n",
    "    \"universe_training_year\": [universe_training_year],\n",
    "    \"universe_training_size\": [universe_training_size],\n",
    "    \"universe_scale\": [universe_scale],\n",
    "    \"universe_model\": [universe_model],\n",
    "    \"universe_exclude_features\": [universe_exclude_features],\n",
    "    \"universe_exclude_subgroups\": [universe_exclude_subgroups],\n",
    "    \"q_hat\": [q_hat],\n",
    "    \"coverage\": [metrics[\"coverage\"]],\n",
    "    \"avg_size\": [metrics[\"avg_size\"]],\n",
    "}"
   ]
  },
  {
   "cell_type": "code",
   "execution_count": 59,
   "id": "908acbb1-0371-4915-85ca-3fa520d2efe2",
   "metadata": {
    "execution": {
     "iopub.execute_input": "2025-07-30T21:35:19.687819Z",
     "iopub.status.busy": "2025-07-30T21:35:19.687103Z",
     "iopub.status.idle": "2025-07-30T21:35:19.694752Z",
     "shell.execute_reply": "2025-07-30T21:35:19.693939Z"
    },
    "papermill": {
     "duration": 0.036499,
     "end_time": "2025-07-30T21:35:19.696466",
     "exception": false,
     "start_time": "2025-07-30T21:35:19.659967",
     "status": "completed"
    },
    "tags": []
   },
   "outputs": [
    {
     "data": {
      "text/plain": [
       "{'universe_id': ['f04af13ebdff77d105f8c8b2d129e57a'],\n",
       " 'universe_training_year': ['2012_14'],\n",
       " 'universe_training_size': ['1k'],\n",
       " 'universe_scale': ['scale'],\n",
       " 'universe_model': ['rf'],\n",
       " 'universe_exclude_features': ['nationality'],\n",
       " 'universe_exclude_subgroups': ['keep-all'],\n",
       " 'q_hat': [0.6699999999999999],\n",
       " 'coverage': [0.9166313677404971],\n",
       " 'avg_size': [1.1583212573849069]}"
      ]
     },
     "execution_count": 59,
     "metadata": {},
     "output_type": "execute_result"
    }
   ],
   "source": [
    "cp_metrics_dict"
   ]
  },
  {
   "cell_type": "code",
   "execution_count": 60,
   "id": "33007efc-14e9-4ec6-97ac-56a455c82265",
   "metadata": {
    "execution": {
     "iopub.execute_input": "2025-07-30T21:35:19.749594Z",
     "iopub.status.busy": "2025-07-30T21:35:19.748944Z",
     "iopub.status.idle": "2025-07-30T21:35:19.755268Z",
     "shell.execute_reply": "2025-07-30T21:35:19.754208Z"
    },
    "papermill": {
     "duration": 0.035297,
     "end_time": "2025-07-30T21:35:19.756786",
     "exception": false,
     "start_time": "2025-07-30T21:35:19.721489",
     "status": "completed"
    },
    "tags": []
   },
   "outputs": [],
   "source": [
    "cp_metrics_df = pd.DataFrame(cp_metrics_dict)"
   ]
  },
  {
   "cell_type": "code",
   "execution_count": 61,
   "id": "db12611b-57b2-4910-b9d0-355adfd6e7bf",
   "metadata": {
    "execution": {
     "iopub.execute_input": "2025-07-30T21:35:19.810143Z",
     "iopub.status.busy": "2025-07-30T21:35:19.809435Z",
     "iopub.status.idle": "2025-07-30T21:35:19.829429Z",
     "shell.execute_reply": "2025-07-30T21:35:19.828322Z"
    },
    "papermill": {
     "duration": 0.048505,
     "end_time": "2025-07-30T21:35:19.831059",
     "exception": false,
     "start_time": "2025-07-30T21:35:19.782554",
     "status": "completed"
    },
    "tags": []
   },
   "outputs": [
    {
     "data": {
      "text/html": [
       "<div>\n",
       "<style scoped>\n",
       "    .dataframe tbody tr th:only-of-type {\n",
       "        vertical-align: middle;\n",
       "    }\n",
       "\n",
       "    .dataframe tbody tr th {\n",
       "        vertical-align: top;\n",
       "    }\n",
       "\n",
       "    .dataframe thead th {\n",
       "        text-align: right;\n",
       "    }\n",
       "</style>\n",
       "<table border=\"1\" class=\"dataframe\">\n",
       "  <thead>\n",
       "    <tr style=\"text-align: right;\">\n",
       "      <th></th>\n",
       "      <th>universe_id</th>\n",
       "      <th>universe_training_year</th>\n",
       "      <th>universe_training_size</th>\n",
       "      <th>universe_scale</th>\n",
       "      <th>universe_model</th>\n",
       "      <th>universe_exclude_features</th>\n",
       "      <th>universe_exclude_subgroups</th>\n",
       "      <th>q_hat</th>\n",
       "      <th>coverage</th>\n",
       "      <th>avg_size</th>\n",
       "    </tr>\n",
       "  </thead>\n",
       "  <tbody>\n",
       "    <tr>\n",
       "      <th>0</th>\n",
       "      <td>f04af13ebdff77d105f8c8b2d129e57a</td>\n",
       "      <td>2012_14</td>\n",
       "      <td>1k</td>\n",
       "      <td>scale</td>\n",
       "      <td>rf</td>\n",
       "      <td>nationality</td>\n",
       "      <td>keep-all</td>\n",
       "      <td>0.67</td>\n",
       "      <td>0.916631</td>\n",
       "      <td>1.158321</td>\n",
       "    </tr>\n",
       "  </tbody>\n",
       "</table>\n",
       "</div>"
      ],
      "text/plain": [
       "                        universe_id universe_training_year  \\\n",
       "0  f04af13ebdff77d105f8c8b2d129e57a                2012_14   \n",
       "\n",
       "  universe_training_size universe_scale universe_model  \\\n",
       "0                     1k          scale             rf   \n",
       "\n",
       "  universe_exclude_features universe_exclude_subgroups  q_hat  coverage  \\\n",
       "0               nationality                   keep-all   0.67  0.916631   \n",
       "\n",
       "   avg_size  \n",
       "0  1.158321  "
      ]
     },
     "execution_count": 61,
     "metadata": {},
     "output_type": "execute_result"
    }
   ],
   "source": [
    "cp_metrics_df"
   ]
  },
  {
   "cell_type": "code",
   "execution_count": 62,
   "id": "b7fbde55-a0a1-47e4-9af6-fe4a17fa8c61",
   "metadata": {
    "execution": {
     "iopub.execute_input": "2025-07-30T21:35:19.906461Z",
     "iopub.status.busy": "2025-07-30T21:35:19.905876Z",
     "iopub.status.idle": "2025-07-30T21:35:19.911043Z",
     "shell.execute_reply": "2025-07-30T21:35:19.910090Z"
    },
    "papermill": {
     "duration": 0.056584,
     "end_time": "2025-07-30T21:35:19.912726",
     "exception": false,
     "start_time": "2025-07-30T21:35:19.856142",
     "status": "completed"
    },
    "tags": []
   },
   "outputs": [],
   "source": [
    "# Conditional Coverage & looking at subgroups"
   ]
  },
  {
   "cell_type": "code",
   "execution_count": 63,
   "id": "027ae886-68dd-4141-96c7-805a5450e1ef",
   "metadata": {
    "execution": {
     "iopub.execute_input": "2025-07-30T21:35:19.966341Z",
     "iopub.status.busy": "2025-07-30T21:35:19.965680Z",
     "iopub.status.idle": "2025-07-30T21:35:20.238913Z",
     "shell.execute_reply": "2025-07-30T21:35:20.237893Z"
    },
    "papermill": {
     "duration": 0.301783,
     "end_time": "2025-07-30T21:35:20.241208",
     "exception": false,
     "start_time": "2025-07-30T21:35:19.939425",
     "status": "completed"
    },
    "tags": []
   },
   "outputs": [],
   "source": [
    "from fairness_multiverse.conformal import build_cp_groups\n",
    "\n",
    "cp_groups_df = build_cp_groups(pred_sets, y_true, X_test.index, org_test)\n",
    "#needs universe_id and setting"
   ]
  },
  {
   "cell_type": "code",
   "execution_count": 64,
   "id": "01d5802c-663a-4d1f-9d69-e036faaffbf7",
   "metadata": {
    "execution": {
     "iopub.execute_input": "2025-07-30T21:35:20.296074Z",
     "iopub.status.busy": "2025-07-30T21:35:20.295563Z",
     "iopub.status.idle": "2025-07-30T21:35:20.300569Z",
     "shell.execute_reply": "2025-07-30T21:35:20.299494Z"
    },
    "papermill": {
     "duration": 0.034396,
     "end_time": "2025-07-30T21:35:20.302291",
     "exception": false,
     "start_time": "2025-07-30T21:35:20.267895",
     "status": "completed"
    },
    "tags": []
   },
   "outputs": [],
   "source": [
    "#delete\n",
    "#cp_groups_df"
   ]
  },
  {
   "cell_type": "code",
   "execution_count": 65,
   "id": "fa424af1-d1eb-443d-b717-2d279ada8408",
   "metadata": {
    "execution": {
     "iopub.execute_input": "2025-07-30T21:35:20.356682Z",
     "iopub.status.busy": "2025-07-30T21:35:20.356191Z",
     "iopub.status.idle": "2025-07-30T21:35:20.360989Z",
     "shell.execute_reply": "2025-07-30T21:35:20.359973Z"
    },
    "papermill": {
     "duration": 0.034269,
     "end_time": "2025-07-30T21:35:20.362634",
     "exception": false,
     "start_time": "2025-07-30T21:35:20.328365",
     "status": "completed"
    },
    "tags": []
   },
   "outputs": [],
   "source": [
    "#delete\n",
    "#percentage = (cp_groups_df['nongerman_female'] == 1).mean() * 100\n",
    "#print(percentage)\n"
   ]
  },
  {
   "cell_type": "code",
   "execution_count": 66,
   "id": "6cbdab96-b2b2-45af-ad54-d0516db2e28d",
   "metadata": {
    "execution": {
     "iopub.execute_input": "2025-07-30T21:35:20.418600Z",
     "iopub.status.busy": "2025-07-30T21:35:20.418146Z",
     "iopub.status.idle": "2025-07-30T21:35:22.111404Z",
     "shell.execute_reply": "2025-07-30T21:35:22.110347Z"
    },
    "papermill": {
     "duration": 1.725059,
     "end_time": "2025-07-30T21:35:22.113260",
     "exception": false,
     "start_time": "2025-07-30T21:35:20.388201",
     "status": "completed"
    },
    "tags": []
   },
   "outputs": [],
   "source": [
    "# Define covered = 1 if true_label is in the predicted set\n",
    "cp_groups_df['covered'] = cp_groups_df.apply(\n",
    "    lambda r: int(r['true_label'] in r['pred_set']),\n",
    "    axis=1\n",
    ")"
   ]
  },
  {
   "cell_type": "code",
   "execution_count": 67,
   "id": "338ff529-1a6b-4b87-a931-8e4788d52aad",
   "metadata": {
    "execution": {
     "iopub.execute_input": "2025-07-30T21:35:22.169688Z",
     "iopub.status.busy": "2025-07-30T21:35:22.169276Z",
     "iopub.status.idle": "2025-07-30T21:35:22.174623Z",
     "shell.execute_reply": "2025-07-30T21:35:22.173766Z"
    },
    "papermill": {
     "duration": 0.035395,
     "end_time": "2025-07-30T21:35:22.176748",
     "exception": false,
     "start_time": "2025-07-30T21:35:22.141353",
     "status": "completed"
    },
    "tags": []
   },
   "outputs": [],
   "source": [
    "#cp_groups_df"
   ]
  },
  {
   "cell_type": "code",
   "execution_count": 68,
   "id": "90032e27-66df-4540-9169-4e89cfbaa758",
   "metadata": {
    "execution": {
     "iopub.execute_input": "2025-07-30T21:35:22.230288Z",
     "iopub.status.busy": "2025-07-30T21:35:22.229866Z",
     "iopub.status.idle": "2025-07-30T21:35:22.240762Z",
     "shell.execute_reply": "2025-07-30T21:35:22.239691Z"
    },
    "papermill": {
     "duration": 0.039779,
     "end_time": "2025-07-30T21:35:22.242389",
     "exception": false,
     "start_time": "2025-07-30T21:35:22.202610",
     "status": "completed"
    },
    "tags": []
   },
   "outputs": [],
   "source": [
    "subgroups = ['frau1','nongerman','nongerman_male','nongerman_female']\n",
    "\n",
    "# Conditional coverage for subgroup==1\n",
    "cond_coverage = {\n",
    "    g: cp_groups_df.loc[cp_groups_df[g]==1, 'covered'].mean()\n",
    "    for g in subgroups\n",
    "}"
   ]
  },
  {
   "cell_type": "code",
   "execution_count": 69,
   "id": "1e348fb1-b9c3-45bc-ba23-f016827a7e0d",
   "metadata": {
    "execution": {
     "iopub.execute_input": "2025-07-30T21:35:22.296137Z",
     "iopub.status.busy": "2025-07-30T21:35:22.295618Z",
     "iopub.status.idle": "2025-07-30T21:35:22.302543Z",
     "shell.execute_reply": "2025-07-30T21:35:22.301654Z"
    },
    "papermill": {
     "duration": 0.03548,
     "end_time": "2025-07-30T21:35:22.303890",
     "exception": false,
     "start_time": "2025-07-30T21:35:22.268410",
     "status": "completed"
    },
    "tags": []
   },
   "outputs": [
    {
     "data": {
      "text/plain": [
       "{'frau1': 0.9154872624342903,\n",
       " 'nongerman': 0.9087744905406164,\n",
       " 'nongerman_male': 0.9249752319193011,\n",
       " 'nongerman_female': 0.8819672131147541}"
      ]
     },
     "execution_count": 69,
     "metadata": {},
     "output_type": "execute_result"
    }
   ],
   "source": [
    "cond_coverage"
   ]
  },
  {
   "cell_type": "code",
   "execution_count": 70,
   "id": "f5093324-c3dd-4d63-bc4c-8d945e5c8bbb",
   "metadata": {
    "execution": {
     "iopub.execute_input": "2025-07-30T21:35:22.357810Z",
     "iopub.status.busy": "2025-07-30T21:35:22.357302Z",
     "iopub.status.idle": "2025-07-30T21:35:22.364954Z",
     "shell.execute_reply": "2025-07-30T21:35:22.364073Z"
    },
    "papermill": {
     "duration": 0.037078,
     "end_time": "2025-07-30T21:35:22.366557",
     "exception": false,
     "start_time": "2025-07-30T21:35:22.329479",
     "status": "completed"
    },
    "tags": []
   },
   "outputs": [],
   "source": [
    "for subgroup, cov in cond_coverage.items():\n",
    "    cp_metrics_df[f\"cov_{subgroup}\"] = cov"
   ]
  },
  {
   "cell_type": "code",
   "execution_count": 71,
   "id": "6e872e10-dbe5-49e8-b554-5030c98ff75d",
   "metadata": {
    "execution": {
     "iopub.execute_input": "2025-07-30T21:35:22.421961Z",
     "iopub.status.busy": "2025-07-30T21:35:22.421237Z",
     "iopub.status.idle": "2025-07-30T21:35:22.440139Z",
     "shell.execute_reply": "2025-07-30T21:35:22.439133Z"
    },
    "papermill": {
     "duration": 0.04885,
     "end_time": "2025-07-30T21:35:22.441776",
     "exception": false,
     "start_time": "2025-07-30T21:35:22.392926",
     "status": "completed"
    },
    "tags": []
   },
   "outputs": [
    {
     "data": {
      "text/html": [
       "<div>\n",
       "<style scoped>\n",
       "    .dataframe tbody tr th:only-of-type {\n",
       "        vertical-align: middle;\n",
       "    }\n",
       "\n",
       "    .dataframe tbody tr th {\n",
       "        vertical-align: top;\n",
       "    }\n",
       "\n",
       "    .dataframe thead th {\n",
       "        text-align: right;\n",
       "    }\n",
       "</style>\n",
       "<table border=\"1\" class=\"dataframe\">\n",
       "  <thead>\n",
       "    <tr style=\"text-align: right;\">\n",
       "      <th></th>\n",
       "      <th>universe_id</th>\n",
       "      <th>universe_training_year</th>\n",
       "      <th>universe_training_size</th>\n",
       "      <th>universe_scale</th>\n",
       "      <th>universe_model</th>\n",
       "      <th>universe_exclude_features</th>\n",
       "      <th>universe_exclude_subgroups</th>\n",
       "      <th>q_hat</th>\n",
       "      <th>coverage</th>\n",
       "      <th>avg_size</th>\n",
       "      <th>cov_frau1</th>\n",
       "      <th>cov_nongerman</th>\n",
       "      <th>cov_nongerman_male</th>\n",
       "      <th>cov_nongerman_female</th>\n",
       "    </tr>\n",
       "  </thead>\n",
       "  <tbody>\n",
       "    <tr>\n",
       "      <th>0</th>\n",
       "      <td>f04af13ebdff77d105f8c8b2d129e57a</td>\n",
       "      <td>2012_14</td>\n",
       "      <td>1k</td>\n",
       "      <td>scale</td>\n",
       "      <td>rf</td>\n",
       "      <td>nationality</td>\n",
       "      <td>keep-all</td>\n",
       "      <td>0.67</td>\n",
       "      <td>0.916631</td>\n",
       "      <td>1.158321</td>\n",
       "      <td>0.915487</td>\n",
       "      <td>0.908774</td>\n",
       "      <td>0.924975</td>\n",
       "      <td>0.881967</td>\n",
       "    </tr>\n",
       "  </tbody>\n",
       "</table>\n",
       "</div>"
      ],
      "text/plain": [
       "                        universe_id universe_training_year  \\\n",
       "0  f04af13ebdff77d105f8c8b2d129e57a                2012_14   \n",
       "\n",
       "  universe_training_size universe_scale universe_model  \\\n",
       "0                     1k          scale             rf   \n",
       "\n",
       "  universe_exclude_features universe_exclude_subgroups  q_hat  coverage  \\\n",
       "0               nationality                   keep-all   0.67  0.916631   \n",
       "\n",
       "   avg_size  cov_frau1  cov_nongerman  cov_nongerman_male  \\\n",
       "0  1.158321   0.915487       0.908774            0.924975   \n",
       "\n",
       "   cov_nongerman_female  \n",
       "0              0.881967  "
      ]
     },
     "execution_count": 71,
     "metadata": {},
     "output_type": "execute_result"
    }
   ],
   "source": [
    "cp_metrics_df"
   ]
  },
  {
   "cell_type": "markdown",
   "id": "33774451",
   "metadata": {
    "papermill": {
     "duration": 0.027558,
     "end_time": "2025-07-30T21:35:22.496869",
     "exception": false,
     "start_time": "2025-07-30T21:35:22.469311",
     "status": "completed"
    },
    "tags": []
   },
   "source": [
    "# (Fairness) Metrics"
   ]
  },
  {
   "cell_type": "code",
   "execution_count": 72,
   "id": "debc5d62",
   "metadata": {
    "execution": {
     "iopub.execute_input": "2025-07-30T21:35:22.551849Z",
     "iopub.status.busy": "2025-07-30T21:35:22.551436Z",
     "iopub.status.idle": "2025-07-30T21:35:22.574877Z",
     "shell.execute_reply": "2025-07-30T21:35:22.573878Z"
    },
    "papermill": {
     "duration": 0.052573,
     "end_time": "2025-07-30T21:35:22.576740",
     "exception": false,
     "start_time": "2025-07-30T21:35:22.524167",
     "status": "completed"
    },
    "tags": []
   },
   "outputs": [],
   "source": [
    "# do I need to include maxdeutsch1.missing?\n",
    "\n",
    "import numpy as np\n",
    "\n",
    "colname_to_bin = \"maxdeutsch1\"\n",
    "majority_value = org_train[colname_to_bin].mode()[0]\n",
    "\n",
    "org_test[\"majmin\"] = np.where(org_test[colname_to_bin] == majority_value, \"majority\", \"minority\")"
   ]
  },
  {
   "cell_type": "code",
   "execution_count": 73,
   "id": "06a50de5",
   "metadata": {
    "execution": {
     "iopub.execute_input": "2025-07-30T21:35:22.633393Z",
     "iopub.status.busy": "2025-07-30T21:35:22.632964Z",
     "iopub.status.idle": "2025-07-30T21:35:25.179946Z",
     "shell.execute_reply": "2025-07-30T21:35:25.178855Z"
    },
    "papermill": {
     "duration": 2.578479,
     "end_time": "2025-07-30T21:35:25.182397",
     "exception": false,
     "start_time": "2025-07-30T21:35:22.603918",
     "status": "completed"
    },
    "tags": []
   },
   "outputs": [],
   "source": [
    "example_universe = universe.copy()\n",
    "example_universe[\"cutoff\"] = example_universe[\"cutoff\"][0]\n",
    "example_universe[\"eval_fairness_grouping\"] = example_universe[\"eval_fairness_grouping\"][0]\n",
    "fairness_dict, metric_frame = universe_analysis.compute_metrics(\n",
    "    example_universe,\n",
    "    y_pred_prob=probs_test,\n",
    "    y_test=y_true,\n",
    "    org_test=org_test,\n",
    ")"
   ]
  },
  {
   "cell_type": "markdown",
   "id": "f95d4e02",
   "metadata": {
    "papermill": {
     "duration": 0.03643,
     "end_time": "2025-07-30T21:35:25.256520",
     "exception": false,
     "start_time": "2025-07-30T21:35:25.220090",
     "status": "completed"
    },
    "tags": []
   },
   "source": [
    "# Overall"
   ]
  },
  {
   "cell_type": "markdown",
   "id": "bdee4871",
   "metadata": {
    "papermill": {
     "duration": 0.034769,
     "end_time": "2025-07-30T21:35:25.328490",
     "exception": false,
     "start_time": "2025-07-30T21:35:25.293721",
     "status": "completed"
    },
    "tags": []
   },
   "source": [
    "Fairness\n",
    "Main fairness target: Equalized Odds. Seems to be a better fit than equal opportunity, since we're not only interested in Y = 1. Seems to be a better fit than demographic parity, since we also care about accuracy, not just equal distribution of preds.\n",
    "\n",
    "Pick column for computation of fairness metrics\n",
    "\n",
    "Performance\n",
    "Overall performance measures, most interesting in relation to the measures split by group below"
   ]
  },
  {
   "cell_type": "code",
   "execution_count": 74,
   "id": "c4e067c6",
   "metadata": {
    "execution": {
     "iopub.execute_input": "2025-07-30T21:35:25.381553Z",
     "iopub.status.busy": "2025-07-30T21:35:25.380870Z",
     "iopub.status.idle": "2025-07-30T21:35:25.389851Z",
     "shell.execute_reply": "2025-07-30T21:35:25.388851Z"
    },
    "papermill": {
     "duration": 0.039572,
     "end_time": "2025-07-30T21:35:25.394025",
     "exception": false,
     "start_time": "2025-07-30T21:35:25.354453",
     "status": "completed"
    },
    "tags": []
   },
   "outputs": [
    {
     "data": {
      "text/plain": [
       "accuracy                   0.195842\n",
       "balanced accuracy          0.531415\n",
       "f1                         0.238706\n",
       "precision                  0.135851\n",
       "false positive rate        0.919964\n",
       "false negative rate        0.017205\n",
       "selection rate             0.928024\n",
       "count                  89710.000000\n",
       "dtype: float64"
      ]
     },
     "execution_count": 74,
     "metadata": {},
     "output_type": "execute_result"
    }
   ],
   "source": [
    "metric_frame.overall"
   ]
  },
  {
   "cell_type": "markdown",
   "id": "e968fe9d",
   "metadata": {
    "papermill": {
     "duration": 0.039428,
     "end_time": "2025-07-30T21:35:25.459390",
     "exception": false,
     "start_time": "2025-07-30T21:35:25.419962",
     "status": "completed"
    },
    "tags": []
   },
   "source": [
    "By Group"
   ]
  },
  {
   "cell_type": "code",
   "execution_count": 75,
   "id": "ec325bce",
   "metadata": {
    "execution": {
     "iopub.execute_input": "2025-07-30T21:35:25.507679Z",
     "iopub.status.busy": "2025-07-30T21:35:25.507299Z",
     "iopub.status.idle": "2025-07-30T21:35:25.523089Z",
     "shell.execute_reply": "2025-07-30T21:35:25.522256Z"
    },
    "papermill": {
     "duration": 0.042729,
     "end_time": "2025-07-30T21:35:25.525043",
     "exception": false,
     "start_time": "2025-07-30T21:35:25.482314",
     "status": "completed"
    },
    "tags": []
   },
   "outputs": [
    {
     "data": {
      "text/html": [
       "<div>\n",
       "<style scoped>\n",
       "    .dataframe tbody tr th:only-of-type {\n",
       "        vertical-align: middle;\n",
       "    }\n",
       "\n",
       "    .dataframe tbody tr th {\n",
       "        vertical-align: top;\n",
       "    }\n",
       "\n",
       "    .dataframe thead th {\n",
       "        text-align: right;\n",
       "    }\n",
       "</style>\n",
       "<table border=\"1\" class=\"dataframe\">\n",
       "  <thead>\n",
       "    <tr style=\"text-align: right;\">\n",
       "      <th></th>\n",
       "      <th>accuracy</th>\n",
       "      <th>balanced accuracy</th>\n",
       "      <th>f1</th>\n",
       "      <th>precision</th>\n",
       "      <th>false positive rate</th>\n",
       "      <th>false negative rate</th>\n",
       "      <th>selection rate</th>\n",
       "      <th>count</th>\n",
       "    </tr>\n",
       "    <tr>\n",
       "      <th>majmin</th>\n",
       "      <th></th>\n",
       "      <th></th>\n",
       "      <th></th>\n",
       "      <th></th>\n",
       "      <th></th>\n",
       "      <th></th>\n",
       "      <th></th>\n",
       "      <th></th>\n",
       "    </tr>\n",
       "  </thead>\n",
       "  <tbody>\n",
       "    <tr>\n",
       "      <th>majority</th>\n",
       "      <td>0.201460</td>\n",
       "      <td>0.535347</td>\n",
       "      <td>0.246628</td>\n",
       "      <td>0.140876</td>\n",
       "      <td>0.918474</td>\n",
       "      <td>0.010832</td>\n",
       "      <td>0.927816</td>\n",
       "      <td>69170.0</td>\n",
       "    </tr>\n",
       "    <tr>\n",
       "      <th>minority</th>\n",
       "      <td>0.176923</td>\n",
       "      <td>0.516654</td>\n",
       "      <td>0.211621</td>\n",
       "      <td>0.118945</td>\n",
       "      <td>0.924884</td>\n",
       "      <td>0.041807</td>\n",
       "      <td>0.928724</td>\n",
       "      <td>20540.0</td>\n",
       "    </tr>\n",
       "  </tbody>\n",
       "</table>\n",
       "</div>"
      ],
      "text/plain": [
       "          accuracy  balanced accuracy        f1  precision  \\\n",
       "majmin                                                       \n",
       "majority  0.201460           0.535347  0.246628   0.140876   \n",
       "minority  0.176923           0.516654  0.211621   0.118945   \n",
       "\n",
       "          false positive rate  false negative rate  selection rate    count  \n",
       "majmin                                                                       \n",
       "majority             0.918474             0.010832        0.927816  69170.0  \n",
       "minority             0.924884             0.041807        0.928724  20540.0  "
      ]
     },
     "execution_count": 75,
     "metadata": {},
     "output_type": "execute_result"
    }
   ],
   "source": [
    "metric_frame.by_group"
   ]
  },
  {
   "cell_type": "code",
   "execution_count": 76,
   "id": "a9ddbe63",
   "metadata": {
    "execution": {
     "iopub.execute_input": "2025-07-30T21:35:25.609824Z",
     "iopub.status.busy": "2025-07-30T21:35:25.609424Z",
     "iopub.status.idle": "2025-07-30T21:35:28.114180Z",
     "shell.execute_reply": "2025-07-30T21:35:28.113183Z"
    },
    "papermill": {
     "duration": 2.544655,
     "end_time": "2025-07-30T21:35:28.115997",
     "exception": false,
     "start_time": "2025-07-30T21:35:25.571342",
     "status": "completed"
    },
    "tags": []
   },
   "outputs": [
    {
     "data": {
      "text/plain": [
       "array([[<Axes: title={'center': 'accuracy'}, xlabel='majmin'>,\n",
       "        <Axes: title={'center': 'balanced accuracy'}, xlabel='majmin'>,\n",
       "        <Axes: title={'center': 'f1'}, xlabel='majmin'>],\n",
       "       [<Axes: title={'center': 'precision'}, xlabel='majmin'>,\n",
       "        <Axes: title={'center': 'false positive rate'}, xlabel='majmin'>,\n",
       "        <Axes: title={'center': 'false negative rate'}, xlabel='majmin'>],\n",
       "       [<Axes: title={'center': 'selection rate'}, xlabel='majmin'>,\n",
       "        <Axes: title={'center': 'count'}, xlabel='majmin'>,\n",
       "        <Axes: xlabel='majmin'>]], dtype=object)"
      ]
     },
     "execution_count": 76,
     "metadata": {},
     "output_type": "execute_result"
    },
    {
     "data": {
      "image/png": "[encoded data removed]",
      "text/plain": [
       "<Figure size 1200x800 with 9 Axes>"
      ]
     },
     "metadata": {},
     "output_type": "display_data"
    }
   ],
   "source": [
    "# In a graphic\n",
    "metric_frame.by_group.plot.bar(\n",
    "    subplots=True,\n",
    "    layout=[3, 3],\n",
    "    legend=False,\n",
    "    figsize=[12, 8],\n",
    "    title=\"Show all metrics\",\n",
    ")"
   ]
  },
  {
   "cell_type": "markdown",
   "id": "f57a0bac",
   "metadata": {
    "papermill": {
     "duration": 0.028896,
     "end_time": "2025-07-30T21:35:28.177236",
     "exception": false,
     "start_time": "2025-07-30T21:35:28.148340",
     "status": "completed"
    },
    "tags": []
   },
   "source": [
    "# Final Output"
   ]
  },
  {
   "cell_type": "code",
   "execution_count": 77,
   "id": "96d280a3",
   "metadata": {
    "execution": {
     "iopub.execute_input": "2025-07-30T21:35:28.239757Z",
     "iopub.status.busy": "2025-07-30T21:35:28.239012Z",
     "iopub.status.idle": "2025-07-30T21:35:28.247508Z",
     "shell.execute_reply": "2025-07-30T21:35:28.246506Z"
    },
    "papermill": {
     "duration": 0.040729,
     "end_time": "2025-07-30T21:35:28.249239",
     "exception": false,
     "start_time": "2025-07-30T21:35:28.208510",
     "status": "completed"
    },
    "tags": []
   },
   "outputs": [
    {
     "data": {
      "text/plain": [
       "4"
      ]
     },
     "execution_count": 77,
     "metadata": {},
     "output_type": "execute_result"
    }
   ],
   "source": [
    "sub_universes = universe_analysis.generate_sub_universes()\n",
    "len(sub_universes)"
   ]
  },
  {
   "cell_type": "code",
   "execution_count": 78,
   "id": "92adf7ba",
   "metadata": {
    "execution": {
     "iopub.execute_input": "2025-07-30T21:35:28.312557Z",
     "iopub.status.busy": "2025-07-30T21:35:28.312130Z",
     "iopub.status.idle": "2025-07-30T21:35:28.354425Z",
     "shell.execute_reply": "2025-07-30T21:35:28.353236Z"
    },
    "papermill": {
     "duration": 0.076586,
     "end_time": "2025-07-30T21:35:28.356996",
     "exception": false,
     "start_time": "2025-07-30T21:35:28.280410",
     "status": "completed"
    },
    "tags": []
   },
   "outputs": [],
   "source": [
    "def filter_sub_universe_data(sub_universe, org_test):\n",
    "    # Keep all rows — no filtering\n",
    "    keep_rows_mask = np.ones(org_test.shape[0], dtype=bool)\n",
    "\n",
    "    print(f\"[INFO] Keeping all rows: {keep_rows_mask.sum()} rows retained.\")\n",
    "    return keep_rows_mask"
   ]
  },
  {
   "cell_type": "code",
   "execution_count": 79,
   "id": "4a759155",
   "metadata": {
    "execution": {
     "iopub.execute_input": "2025-07-30T21:35:28.419032Z",
     "iopub.status.busy": "2025-07-30T21:35:28.418646Z",
     "iopub.status.idle": "2025-07-30T21:35:39.491024Z",
     "shell.execute_reply": "2025-07-30T21:35:39.490025Z"
    },
    "papermill": {
     "duration": 11.105529,
     "end_time": "2025-07-30T21:35:39.492465",
     "exception": false,
     "start_time": "2025-07-30T21:35:28.386936",
     "status": "completed"
    },
    "tags": []
   },
   "outputs": [
    {
     "name": "stdout",
     "output_type": "stream",
     "text": [
      "Stopping execution_time clock.\n",
      "[INFO] Keeping all rows: 89710 rows retained.\n"
     ]
    },
    {
     "name": "stdout",
     "output_type": "stream",
     "text": [
      "[INFO] Keeping all rows: 89710 rows retained.\n"
     ]
    },
    {
     "name": "stdout",
     "output_type": "stream",
     "text": [
      "[INFO] Keeping all rows: 89710 rows retained.\n"
     ]
    },
    {
     "name": "stdout",
     "output_type": "stream",
     "text": [
      "[INFO] Keeping all rows: 89710 rows retained.\n"
     ]
    },
    {
     "data": {
      "text/html": [
       "<div>\n",
       "<style scoped>\n",
       "    .dataframe tbody tr th:only-of-type {\n",
       "        vertical-align: middle;\n",
       "    }\n",
       "\n",
       "    .dataframe tbody tr th {\n",
       "        vertical-align: top;\n",
       "    }\n",
       "\n",
       "    .dataframe thead th {\n",
       "        text-align: right;\n",
       "    }\n",
       "</style>\n",
       "<table border=\"1\" class=\"dataframe\">\n",
       "  <thead>\n",
       "    <tr style=\"text-align: right;\">\n",
       "      <th></th>\n",
       "      <th>run_no</th>\n",
       "      <th>universe_id</th>\n",
       "      <th>universe_settings</th>\n",
       "      <th>execution_time</th>\n",
       "      <th>test_size_n</th>\n",
       "      <th>test_size_frac</th>\n",
       "      <th>fair_main_equalized_odds_difference</th>\n",
       "      <th>fair_main_equalized_odds_ratio</th>\n",
       "      <th>fair_main_demographic_parity_difference</th>\n",
       "      <th>fair_main_demographic_parity_ratio</th>\n",
       "      <th>...</th>\n",
       "      <th>perf_grp_precision_0</th>\n",
       "      <th>perf_grp_precision_1</th>\n",
       "      <th>perf_grp_false positive rate_0</th>\n",
       "      <th>perf_grp_false positive rate_1</th>\n",
       "      <th>perf_grp_false negative rate_0</th>\n",
       "      <th>perf_grp_false negative rate_1</th>\n",
       "      <th>perf_grp_selection rate_0</th>\n",
       "      <th>perf_grp_selection rate_1</th>\n",
       "      <th>perf_grp_count_0</th>\n",
       "      <th>perf_grp_count_1</th>\n",
       "    </tr>\n",
       "  </thead>\n",
       "  <tbody>\n",
       "    <tr>\n",
       "      <th>0</th>\n",
       "      <td>14</td>\n",
       "      <td>f04af13ebdff77d105f8c8b2d129e57a</td>\n",
       "      <td>{\"cutoff\": \"quantile_0.1\", \"eval_fairness_grou...</td>\n",
       "      <td>30.737518</td>\n",
       "      <td>89710</td>\n",
       "      <td>1.0</td>\n",
       "      <td>0.030976</td>\n",
       "      <td>0.968685</td>\n",
       "      <td>0.000909</td>\n",
       "      <td>0.999021</td>\n",
       "      <td>...</td>\n",
       "      <td>NaN</td>\n",
       "      <td>NaN</td>\n",
       "      <td>NaN</td>\n",
       "      <td>NaN</td>\n",
       "      <td>NaN</td>\n",
       "      <td>NaN</td>\n",
       "      <td>NaN</td>\n",
       "      <td>NaN</td>\n",
       "      <td>NaN</td>\n",
       "      <td>NaN</td>\n",
       "    </tr>\n",
       "    <tr>\n",
       "      <th>0</th>\n",
       "      <td>14</td>\n",
       "      <td>f04af13ebdff77d105f8c8b2d129e57a</td>\n",
       "      <td>{\"cutoff\": \"quantile_0.1\", \"eval_fairness_grou...</td>\n",
       "      <td>30.737518</td>\n",
       "      <td>89710</td>\n",
       "      <td>1.0</td>\n",
       "      <td>0.030976</td>\n",
       "      <td>0.968685</td>\n",
       "      <td>0.000909</td>\n",
       "      <td>0.999021</td>\n",
       "      <td>...</td>\n",
       "      <td>0.118945</td>\n",
       "      <td>0.140876</td>\n",
       "      <td>0.924884</td>\n",
       "      <td>0.918474</td>\n",
       "      <td>0.041807</td>\n",
       "      <td>0.010832</td>\n",
       "      <td>0.928724</td>\n",
       "      <td>0.927816</td>\n",
       "      <td>20540.0</td>\n",
       "      <td>69170.0</td>\n",
       "    </tr>\n",
       "    <tr>\n",
       "      <th>0</th>\n",
       "      <td>14</td>\n",
       "      <td>f04af13ebdff77d105f8c8b2d129e57a</td>\n",
       "      <td>{\"cutoff\": \"quantile_0.25\", \"eval_fairness_gro...</td>\n",
       "      <td>30.737518</td>\n",
       "      <td>89710</td>\n",
       "      <td>1.0</td>\n",
       "      <td>0.094931</td>\n",
       "      <td>0.899366</td>\n",
       "      <td>0.019981</td>\n",
       "      <td>0.974260</td>\n",
       "      <td>...</td>\n",
       "      <td>NaN</td>\n",
       "      <td>NaN</td>\n",
       "      <td>NaN</td>\n",
       "      <td>NaN</td>\n",
       "      <td>NaN</td>\n",
       "      <td>NaN</td>\n",
       "      <td>NaN</td>\n",
       "      <td>NaN</td>\n",
       "      <td>NaN</td>\n",
       "      <td>NaN</td>\n",
       "    </tr>\n",
       "    <tr>\n",
       "      <th>0</th>\n",
       "      <td>14</td>\n",
       "      <td>f04af13ebdff77d105f8c8b2d129e57a</td>\n",
       "      <td>{\"cutoff\": \"quantile_0.25\", \"eval_fairness_gro...</td>\n",
       "      <td>30.737518</td>\n",
       "      <td>89710</td>\n",
       "      <td>1.0</td>\n",
       "      <td>0.094931</td>\n",
       "      <td>0.899366</td>\n",
       "      <td>0.019981</td>\n",
       "      <td>0.974260</td>\n",
       "      <td>...</td>\n",
       "      <td>0.129329</td>\n",
       "      <td>0.160577</td>\n",
       "      <td>0.744277</td>\n",
       "      <td>0.750825</td>\n",
       "      <td>0.151605</td>\n",
       "      <td>0.056674</td>\n",
       "      <td>0.756280</td>\n",
       "      <td>0.776261</td>\n",
       "      <td>20540.0</td>\n",
       "      <td>69170.0</td>\n",
       "    </tr>\n",
       "  </tbody>\n",
       "</table>\n",
       "<p>4 rows × 50 columns</p>\n",
       "</div>"
      ],
      "text/plain": [
       "  run_no                       universe_id  \\\n",
       "0     14  f04af13ebdff77d105f8c8b2d129e57a   \n",
       "0     14  f04af13ebdff77d105f8c8b2d129e57a   \n",
       "0     14  f04af13ebdff77d105f8c8b2d129e57a   \n",
       "0     14  f04af13ebdff77d105f8c8b2d129e57a   \n",
       "\n",
       "                                   universe_settings  execution_time  \\\n",
       "0  {\"cutoff\": \"quantile_0.1\", \"eval_fairness_grou...       30.737518   \n",
       "0  {\"cutoff\": \"quantile_0.1\", \"eval_fairness_grou...       30.737518   \n",
       "0  {\"cutoff\": \"quantile_0.25\", \"eval_fairness_gro...       30.737518   \n",
       "0  {\"cutoff\": \"quantile_0.25\", \"eval_fairness_gro...       30.737518   \n",
       "\n",
       "   test_size_n  test_size_frac  fair_main_equalized_odds_difference  \\\n",
       "0        89710             1.0                             0.030976   \n",
       "0        89710             1.0                             0.030976   \n",
       "0        89710             1.0                             0.094931   \n",
       "0        89710             1.0                             0.094931   \n",
       "\n",
       "   fair_main_equalized_odds_ratio  fair_main_demographic_parity_difference  \\\n",
       "0                        0.968685                                 0.000909   \n",
       "0                        0.968685                                 0.000909   \n",
       "0                        0.899366                                 0.019981   \n",
       "0                        0.899366                                 0.019981   \n",
       "\n",
       "   fair_main_demographic_parity_ratio  ...  perf_grp_precision_0  \\\n",
       "0                            0.999021  ...                   NaN   \n",
       "0                            0.999021  ...              0.118945   \n",
       "0                            0.974260  ...                   NaN   \n",
       "0                            0.974260  ...              0.129329   \n",
       "\n",
       "   perf_grp_precision_1  perf_grp_false positive rate_0  \\\n",
       "0                   NaN                             NaN   \n",
       "0              0.140876                        0.924884   \n",
       "0                   NaN                             NaN   \n",
       "0              0.160577                        0.744277   \n",
       "\n",
       "   perf_grp_false positive rate_1  perf_grp_false negative rate_0  \\\n",
       "0                             NaN                             NaN   \n",
       "0                        0.918474                        0.041807   \n",
       "0                             NaN                             NaN   \n",
       "0                        0.750825                        0.151605   \n",
       "\n",
       "   perf_grp_false negative rate_1  perf_grp_selection rate_0  \\\n",
       "0                             NaN                        NaN   \n",
       "0                        0.010832                   0.928724   \n",
       "0                             NaN                        NaN   \n",
       "0                        0.056674                   0.756280   \n",
       "\n",
       "   perf_grp_selection rate_1  perf_grp_count_0  perf_grp_count_1  \n",
       "0                        NaN               NaN               NaN  \n",
       "0                   0.927816           20540.0           69170.0  \n",
       "0                        NaN               NaN               NaN  \n",
       "0                   0.776261           20540.0           69170.0  \n",
       "\n",
       "[4 rows x 50 columns]"
      ]
     },
     "execution_count": 79,
     "metadata": {},
     "output_type": "execute_result"
    }
   ],
   "source": [
    "final_output = universe_analysis.generate_final_output(\n",
    "    y_pred_prob=probs_test,\n",
    "    y_test=y_true,\n",
    "    org_test=org_test,\n",
    "    filter_data=filter_sub_universe_data,\n",
    "    cp_metrics_df=cp_metrics_df,\n",
    "    save=True,\n",
    ")\n",
    "final_output"
   ]
  },
  {
   "cell_type": "code",
   "execution_count": null,
   "id": "721ff514-cb11-46f8-b6fc-50392f74b5cb",
   "metadata": {
    "papermill": {
     "duration": 0.046763,
     "end_time": "2025-07-30T21:35:39.574785",
     "exception": false,
     "start_time": "2025-07-30T21:35:39.528022",
     "status": "completed"
    },
    "tags": []
   },
   "outputs": [],
   "source": []
  }
 ],
 "metadata": {
  "celltoolbar": "Tags",
  "kernelspec": {
   "display_name": "Python (CMA Fairness)",
   "language": "python",
   "name": "cma_fair_env"
  },
  "language_info": {
   "codemirror_mode": {
    "name": "ipython",
    "version": 3
   },
   "file_extension": ".py",
   "mimetype": "text/x-python",
   "name": "python",
   "nbconvert_exporter": "python",
   "pygments_lexer": "ipython3",
   "version": "3.10.12"
  },
  "papermill": {
   "default_parameters": {},
   "duration": 46.469433,
   "end_time": "2025-07-30T21:35:40.446572",
   "environment_variables": {},
   "exception": null,
   "input_path": "universe_analysis.ipynb",
   "output_path": "output/runs/14/notebooks/m_14-f04af13ebdff77d105f8c8b2d129e57a.ipynb",
   "parameters": {
    "output_dir": "output",
    "run_no": "14",
    "seed": "2023",
    "universe": "{\"cutoff\": [\"quantile_0.1\", \"quantile_0.25\"], \"eval_fairness_grouping\": [\"majority-minority\", \"nationality-all\"], \"exclude_features\": \"nationality\", \"exclude_subgroups\": \"keep-all\", \"model\": \"rf\", \"scale\": \"scale\", \"training_size\": \"1k\", \"training_year\": \"2012_14\"}",
    "universe_id": "f04af13ebdff77d105f8c8b2d129e57a"
   },
   "start_time": "2025-07-30T21:34:53.977139",
   "version": "2.6.0"
  }
 },
 "nbformat": 4,
 "nbformat_minor": 5
}