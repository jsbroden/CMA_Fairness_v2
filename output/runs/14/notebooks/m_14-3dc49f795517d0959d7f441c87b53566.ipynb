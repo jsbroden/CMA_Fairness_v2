{
 "cells": [
  {
   "cell_type": "code",
   "execution_count": 1,
   "id": "f159f837-637b-42ba-96b5-ec9a68c44524",
   "metadata": {
    "execution": {
     "iopub.execute_input": "2025-07-30T21:02:15.207412Z",
     "iopub.status.busy": "2025-07-30T21:02:15.206922Z",
     "iopub.status.idle": "2025-07-30T21:02:15.220920Z",
     "shell.execute_reply": "2025-07-30T21:02:15.219895Z"
    },
    "papermill": {
     "duration": 0.035185,
     "end_time": "2025-07-30T21:02:15.222396",
     "exception": false,
     "start_time": "2025-07-30T21:02:15.187211",
     "status": "completed"
    },
    "tags": []
   },
   "outputs": [
    {
     "name": "stdout",
     "output_type": "stream",
     "text": [
      "/dss/dsshome1/0C/ra93lal2/cma/CMA_Fairness_v2\n"
     ]
    },
    {
     "name": "stderr",
     "output_type": "stream",
     "text": [
      "/dss/dsshome1/0C/ra93lal2/.local/share/virtualenvs/CMA_Fairness_v2-3j10GkSs/lib/python3.10/site-packages/IPython/core/magics/osm.py:393: UserWarning: This is now an optional IPython functionality, using bookmarks requires you to install the `pickleshare` library.\n",
      "  bkms = self.shell.db.get('bookmarks', {})\n",
      "/dss/dsshome1/0C/ra93lal2/.local/share/virtualenvs/CMA_Fairness_v2-3j10GkSs/lib/python3.10/site-packages/IPython/core/magics/osm.py:417: UserWarning: This is now an optional IPython functionality, setting dhist requires you to install the `pickleshare` library.\n",
      "  self.shell.db['dhist'] = compress_dhist(dhist)[-100:]\n"
     ]
    }
   ],
   "source": [
    "%cd ~/cma/CMA_Fairness_v2"
   ]
  },
  {
   "cell_type": "markdown",
   "id": "de2603b9",
   "metadata": {
    "papermill": {
     "duration": 0.017605,
     "end_time": "2025-07-30T21:02:15.258253",
     "exception": false,
     "start_time": "2025-07-30T21:02:15.240648",
     "status": "completed"
    },
    "tags": []
   },
   "source": [
    "The following cell holds the definition of our parameters, these values can be overriden by rendering the with e.g. the following command:\n",
    "\n",
    "papermill -p alpha 0.2 -p ratio 0.3 universe_analysis.ipynb output/test_run.ipynb"
   ]
  },
  {
   "cell_type": "code",
   "execution_count": 2,
   "id": "a80968a0-40bb-4fa9-85ef-2d5eefb01975",
   "metadata": {
    "execution": {
     "iopub.execute_input": "2025-07-30T21:02:15.296132Z",
     "iopub.status.busy": "2025-07-30T21:02:15.295239Z",
     "iopub.status.idle": "2025-07-30T21:02:15.301234Z",
     "shell.execute_reply": "2025-07-30T21:02:15.300326Z"
    },
    "papermill": {
     "duration": 0.026376,
     "end_time": "2025-07-30T21:02:15.302655",
     "exception": false,
     "start_time": "2025-07-30T21:02:15.276279",
     "status": "completed"
    },
    "tags": []
   },
   "outputs": [
    {
     "name": "stdout",
     "output_type": "stream",
     "text": [
      "Current working directory: /dss/dsshome1/0C/ra93lal2/cma/CMA_Fairness_v2\n"
     ]
    }
   ],
   "source": [
    "import os\n",
    "print(\"Current working directory:\", os.getcwd())"
   ]
  },
  {
   "cell_type": "code",
   "execution_count": 3,
   "id": "2dce4c03",
   "metadata": {
    "execution": {
     "iopub.execute_input": "2025-07-30T21:02:15.340768Z",
     "iopub.status.busy": "2025-07-30T21:02:15.339820Z",
     "iopub.status.idle": "2025-07-30T21:02:15.346040Z",
     "shell.execute_reply": "2025-07-30T21:02:15.345136Z"
    },
    "papermill": {
     "duration": 0.026655,
     "end_time": "2025-07-30T21:02:15.347617",
     "exception": false,
     "start_time": "2025-07-30T21:02:15.320962",
     "status": "completed"
    },
    "tags": [
     "parameters"
    ]
   },
   "outputs": [],
   "source": [
    "run_no = 0\n",
    "universe_id = \"test\"\n",
    "universe = {\n",
    "    \"training_size\": \"25k\", # \"25k\", \"5k\", \"1k\"\n",
    "    \"training_year\": \"2014\", # \"2014\", \"2012_14\", \"2010_14\"\n",
    "    \"scale\": \"scale\", # \"scale\", \"do-not-scale\",\n",
    "    #\"stratify_split\": \"target\", # \"none\", \"target\", \"protected-attribute\", \"both\",\n",
    "    \"model\": \"elasticnet\", # \"logreg\", \"penalized_logreg\", \"rf\", \"gbm\", \"elasticnet\"\n",
    "    \"cutoff\": [\"quantile_0.15\", \"quantile_0.30\"],\n",
    "    \"exclude_features\": \"age\", # \"none\", \"nationality\", \"sex\", \"nationality-sex\", \"age\"\n",
    "    \"exclude_subgroups\": \"keep-all\", # \"keep-all\", \"drop-non-german\"\n",
    "    \"eval_fairness_grouping\": [\"majority-minority\", \"nationality-all\"]\n",
    "}\n",
    "\n",
    "output_dir=\"./output\"\n",
    "seed=0"
   ]
  },
  {
   "cell_type": "code",
   "execution_count": 4,
   "id": "f92b3299",
   "metadata": {
    "execution": {
     "iopub.execute_input": "2025-07-30T21:02:15.386277Z",
     "iopub.status.busy": "2025-07-30T21:02:15.385529Z",
     "iopub.status.idle": "2025-07-30T21:02:15.390771Z",
     "shell.execute_reply": "2025-07-30T21:02:15.389919Z"
    },
    "papermill": {
     "duration": 0.025965,
     "end_time": "2025-07-30T21:02:15.392321",
     "exception": false,
     "start_time": "2025-07-30T21:02:15.366356",
     "status": "completed"
    },
    "tags": [
     "injected-parameters"
    ]
   },
   "outputs": [],
   "source": [
    "# Parameters\n",
    "universe_id = \"3dc49f795517d0959d7f441c87b53566\"\n",
    "run_no = \"14\"\n",
    "universe = \"{\\\"cutoff\\\": [\\\"quantile_0.1\\\", \\\"quantile_0.25\\\"], \\\"eval_fairness_grouping\\\": [\\\"majority-minority\\\", \\\"nationality-all\\\"], \\\"exclude_features\\\": \\\"age\\\", \\\"exclude_subgroups\\\": \\\"keep-all\\\", \\\"model\\\": \\\"elasticnet\\\", \\\"scale\\\": \\\"scale\\\", \\\"training_size\\\": \\\"5k\\\", \\\"training_year\\\": \\\"2012_14\\\"}\"\n",
    "output_dir = \"output\"\n",
    "seed = \"2023\"\n"
   ]
  },
  {
   "cell_type": "code",
   "execution_count": 5,
   "id": "1650acaf",
   "metadata": {
    "execution": {
     "iopub.execute_input": "2025-07-30T21:02:15.430966Z",
     "iopub.status.busy": "2025-07-30T21:02:15.430094Z",
     "iopub.status.idle": "2025-07-30T21:02:15.435111Z",
     "shell.execute_reply": "2025-07-30T21:02:15.434268Z"
    },
    "papermill": {
     "duration": 0.025896,
     "end_time": "2025-07-30T21:02:15.436836",
     "exception": false,
     "start_time": "2025-07-30T21:02:15.410940",
     "status": "completed"
    },
    "tags": []
   },
   "outputs": [],
   "source": [
    "import json\n",
    "# Parse universe into dict if it is passed as a string\n",
    "if isinstance(universe, str):\n",
    "    universe = json.loads(universe)"
   ]
  },
  {
   "cell_type": "code",
   "execution_count": 6,
   "id": "16620c48",
   "metadata": {
    "execution": {
     "iopub.execute_input": "2025-07-30T21:02:15.475343Z",
     "iopub.status.busy": "2025-07-30T21:02:15.474603Z",
     "iopub.status.idle": "2025-07-30T21:02:15.519229Z",
     "shell.execute_reply": "2025-07-30T21:02:15.518380Z"
    },
    "papermill": {
     "duration": 0.065761,
     "end_time": "2025-07-30T21:02:15.520956",
     "exception": false,
     "start_time": "2025-07-30T21:02:15.455195",
     "status": "completed"
    },
    "tags": []
   },
   "outputs": [],
   "source": [
    "# Auto-reload the custom package\n",
    "%load_ext autoreload\n",
    "%autoreload 1\n",
    "%aimport fairness_multiverse"
   ]
  },
  {
   "cell_type": "code",
   "execution_count": 7,
   "id": "01c5c9f3",
   "metadata": {
    "execution": {
     "iopub.execute_input": "2025-07-30T21:02:15.559819Z",
     "iopub.status.busy": "2025-07-30T21:02:15.559169Z",
     "iopub.status.idle": "2025-07-30T21:02:17.437976Z",
     "shell.execute_reply": "2025-07-30T21:02:17.436981Z"
    },
    "papermill": {
     "duration": 1.900147,
     "end_time": "2025-07-30T21:02:17.440017",
     "exception": false,
     "start_time": "2025-07-30T21:02:15.539870",
     "status": "completed"
    },
    "tags": []
   },
   "outputs": [],
   "source": [
    "from fairness_multiverse.universe import UniverseAnalysis\n",
    "\n",
    "universe_analysis = UniverseAnalysis(\n",
    "    run_no = run_no,\n",
    "    universe_id = universe_id,\n",
    "    universe = universe,\n",
    "    output_dir=output_dir,\n",
    ")"
   ]
  },
  {
   "cell_type": "code",
   "execution_count": 8,
   "id": "106241f5",
   "metadata": {
    "execution": {
     "iopub.execute_input": "2025-07-30T21:02:17.482700Z",
     "iopub.status.busy": "2025-07-30T21:02:17.482030Z",
     "iopub.status.idle": "2025-07-30T21:02:17.488283Z",
     "shell.execute_reply": "2025-07-30T21:02:17.487372Z"
    },
    "papermill": {
     "duration": 0.028703,
     "end_time": "2025-07-30T21:02:17.489959",
     "exception": false,
     "start_time": "2025-07-30T21:02:17.461256",
     "status": "completed"
    },
    "tags": []
   },
   "outputs": [
    {
     "name": "stdout",
     "output_type": "stream",
     "text": [
      "Using Seed: 2023\n"
     ]
    }
   ],
   "source": [
    "import numpy as np\n",
    "parsed_seed = int(seed)\n",
    "np.random.seed(parsed_seed)\n",
    "print(f\"Using Seed: {parsed_seed}\")"
   ]
  },
  {
   "cell_type": "markdown",
   "id": "e0ebdc57",
   "metadata": {
    "papermill": {
     "duration": 0.020321,
     "end_time": "2025-07-30T21:02:17.531987",
     "exception": false,
     "start_time": "2025-07-30T21:02:17.511666",
     "status": "completed"
    },
    "tags": []
   },
   "source": [
    "# Loading Data"
   ]
  },
  {
   "cell_type": "markdown",
   "id": "681925a3",
   "metadata": {
    "papermill": {
     "duration": 0.019849,
     "end_time": "2025-07-30T21:02:17.571906",
     "exception": false,
     "start_time": "2025-07-30T21:02:17.552057",
     "status": "completed"
    },
    "tags": []
   },
   "source": [
    "Load siab_train, siab_test, siab_calib and/or \n",
    "load siab_train_features, siab_train_labels"
   ]
  },
  {
   "cell_type": "code",
   "execution_count": 9,
   "id": "f0496b8a",
   "metadata": {
    "execution": {
     "iopub.execute_input": "2025-07-30T21:02:17.614966Z",
     "iopub.status.busy": "2025-07-30T21:02:17.614300Z",
     "iopub.status.idle": "2025-07-30T21:02:28.771112Z",
     "shell.execute_reply": "2025-07-30T21:02:28.770016Z"
    },
    "papermill": {
     "duration": 11.180031,
     "end_time": "2025-07-30T21:02:28.772640",
     "exception": false,
     "start_time": "2025-07-30T21:02:17.592609",
     "status": "completed"
    },
    "tags": []
   },
   "outputs": [
    {
     "name": "stdout",
     "output_type": "stream",
     "text": [
      "Loading SIAB data from cache: data/siab_cached.csv.gz\n"
     ]
    },
    {
     "name": "stdout",
     "output_type": "stream",
     "text": [
      "(643690, 164)\n"
     ]
    }
   ],
   "source": [
    "from pathlib import Path\n",
    "import pandas as pd\n",
    "\n",
    "# File paths\n",
    "raw_file = Path(\"data/raw/siab.csv\")\n",
    "cache_file = Path(\"data/siab_cached.csv.gz\")\n",
    "\n",
    "# Ensure cache directory exists\n",
    "cache_file.parent.mkdir(parents=True, exist_ok=True)\n",
    "\n",
    "# Load with simple caching\n",
    "if cache_file.exists():\n",
    "    print(f\"Loading SIAB data from cache: {cache_file}\")\n",
    "    siab = pd.read_csv(cache_file, compression='gzip')\n",
    "else:\n",
    "    print(f\"Cache not found. Reading raw SIAB data: {raw_file}\")\n",
    "    siab = pd.read_csv(raw_file)\n",
    "    siab.to_csv(cache_file, index=False, compression='gzip')\n",
    "    print(f\"Cached SIAB data to: {cache_file}\")\n",
    "\n",
    "# Now use `siab` DataFrame as needed\n",
    "print(siab.shape)"
   ]
  },
  {
   "cell_type": "code",
   "execution_count": 10,
   "id": "db0ca512-5f53-4dba-abdb-a2888bca41ba",
   "metadata": {
    "execution": {
     "iopub.execute_input": "2025-07-30T21:02:28.815937Z",
     "iopub.status.busy": "2025-07-30T21:02:28.815431Z",
     "iopub.status.idle": "2025-07-30T21:02:28.822125Z",
     "shell.execute_reply": "2025-07-30T21:02:28.821224Z"
    },
    "papermill": {
     "duration": 0.029572,
     "end_time": "2025-07-30T21:02:28.823813",
     "exception": false,
     "start_time": "2025-07-30T21:02:28.794241",
     "status": "completed"
    },
    "tags": []
   },
   "outputs": [],
   "source": [
    "#siab"
   ]
  },
  {
   "cell_type": "code",
   "execution_count": 11,
   "id": "a0edb063",
   "metadata": {
    "execution": {
     "iopub.execute_input": "2025-07-30T21:02:28.865726Z",
     "iopub.status.busy": "2025-07-30T21:02:28.865042Z",
     "iopub.status.idle": "2025-07-30T21:02:28.870164Z",
     "shell.execute_reply": "2025-07-30T21:02:28.869222Z"
    },
    "papermill": {
     "duration": 0.028741,
     "end_time": "2025-07-30T21:02:28.872323",
     "exception": false,
     "start_time": "2025-07-30T21:02:28.843582",
     "status": "completed"
    },
    "tags": []
   },
   "outputs": [],
   "source": [
    "#import pandas as pd\n",
    "#\n",
    "#X_train = pd.read_csv(\"./data/X_train.csv\")\n",
    "#y_train = pd.read_csv(\"./data/y_train.csv\")"
   ]
  },
  {
   "cell_type": "code",
   "execution_count": 12,
   "id": "63d08085",
   "metadata": {
    "execution": {
     "iopub.execute_input": "2025-07-30T21:02:28.901276Z",
     "iopub.status.busy": "2025-07-30T21:02:28.900706Z",
     "iopub.status.idle": "2025-07-30T21:02:28.905797Z",
     "shell.execute_reply": "2025-07-30T21:02:28.904906Z"
    },
    "papermill": {
     "duration": 0.022988,
     "end_time": "2025-07-30T21:02:28.907418",
     "exception": false,
     "start_time": "2025-07-30T21:02:28.884430",
     "status": "completed"
    },
    "tags": []
   },
   "outputs": [],
   "source": [
    "#X_test = pd.read_csv(\"./data/X_test.csv\")\n",
    "#y_true = pd.read_csv(\"./data/y_test.csv\")"
   ]
  },
  {
   "cell_type": "code",
   "execution_count": 13,
   "id": "98a8d0fa-1d3d-4ed8-bb2c-281470e24add",
   "metadata": {
    "execution": {
     "iopub.execute_input": "2025-07-30T21:02:28.949418Z",
     "iopub.status.busy": "2025-07-30T21:02:28.948607Z",
     "iopub.status.idle": "2025-07-30T21:02:28.953902Z",
     "shell.execute_reply": "2025-07-30T21:02:28.952921Z"
    },
    "papermill": {
     "duration": 0.027357,
     "end_time": "2025-07-30T21:02:28.955444",
     "exception": false,
     "start_time": "2025-07-30T21:02:28.928087",
     "status": "completed"
    },
    "tags": []
   },
   "outputs": [],
   "source": [
    "# Calibration data for conformal\n",
    "#X_calib = pd.read_csv(\"./data/X_calib.csv\")\n",
    "#y_calib = pd.read_csv(\"./data/y_calib.csv\")"
   ]
  },
  {
   "cell_type": "markdown",
   "id": "997051c5-15bd-4b69-9786-c3001a3ce484",
   "metadata": {
    "papermill": {
     "duration": 0.022934,
     "end_time": "2025-07-30T21:02:28.999874",
     "exception": false,
     "start_time": "2025-07-30T21:02:28.976940",
     "status": "completed"
    },
    "tags": []
   },
   "source": [
    "# Splitting Data and Setting Training Data Size"
   ]
  },
  {
   "cell_type": "code",
   "execution_count": 14,
   "id": "e993b61f-042d-41a6-8c81-f55681f86335",
   "metadata": {
    "execution": {
     "iopub.execute_input": "2025-07-30T21:02:29.042436Z",
     "iopub.status.busy": "2025-07-30T21:02:29.041779Z",
     "iopub.status.idle": "2025-07-30T21:02:29.054755Z",
     "shell.execute_reply": "2025-07-30T21:02:29.053860Z"
    },
    "papermill": {
     "duration": 0.035748,
     "end_time": "2025-07-30T21:02:29.056404",
     "exception": false,
     "start_time": "2025-07-30T21:02:29.020656",
     "status": "completed"
    },
    "tags": []
   },
   "outputs": [],
   "source": [
    "def sample_by_year_size(df,\n",
    "                        training_year: str,\n",
    "                        training_size: str,\n",
    "                        random_state: int = 42):\n",
    "    # --- parse training_year into a list of int years ---\n",
    "    if \"_\" in training_year:\n",
    "        start_str, end_str = training_year.split(\"_\", 1)\n",
    "        start = int(start_str)\n",
    "        end   = int(end_str) if len(end_str) == 4 else (int(end_str) + (start // 100)*100)\n",
    "        years = list(range(start, end + 1))\n",
    "    else:\n",
    "        years = [int(training_year)]\n",
    "\n",
    "    df = df[df[\"year\"].isin(years)].reset_index(drop=True)\n",
    "\n",
    "    # --- map training_size to total number of samples ---\n",
    "    total_map = {\"25k\": 25_000, \"5k\": 5_000, \"1k\": 1_000}\n",
    "    if training_size not in total_map:\n",
    "        return df  # e.g. \"all\"\n",
    "\n",
    "    total_samples = total_map[training_size]\n",
    "    n_years       = len(years)\n",
    "    base          = total_samples // n_years\n",
    "    remainder     = total_samples % n_years\n",
    "\n",
    "    # --- build a dict: year -> how many to sample ---\n",
    "    # give +1 to the first `remainder` years in ascending order\n",
    "    quotas = {\n",
    "        year: base + (1 if idx < remainder else 0)\n",
    "        for idx, year in enumerate(sorted(years))\n",
    "    }\n",
    "\n",
    "    # --- sample per‐year according to the quota dict ---\n",
    "    sampled = (\n",
    "        df\n",
    "        .groupby(\"year\", group_keys=False)\n",
    "        .apply(lambda grp: grp.sample(\n",
    "            n=min(len(grp), quotas[grp.name]),\n",
    "            random_state=random_state))\n",
    "        .reset_index(drop=True)\n",
    "    )\n",
    "\n",
    "    return sampled"
   ]
  },
  {
   "cell_type": "code",
   "execution_count": 15,
   "id": "c0ccd338-0e02-41f3-a09d-f56f9266e3fb",
   "metadata": {
    "execution": {
     "iopub.execute_input": "2025-07-30T21:02:29.102655Z",
     "iopub.status.busy": "2025-07-30T21:02:29.101705Z",
     "iopub.status.idle": "2025-07-30T21:02:29.106823Z",
     "shell.execute_reply": "2025-07-30T21:02:29.105980Z"
    },
    "papermill": {
     "duration": 0.030052,
     "end_time": "2025-07-30T21:02:29.108415",
     "exception": false,
     "start_time": "2025-07-30T21:02:29.078363",
     "status": "completed"
    },
    "tags": []
   },
   "outputs": [],
   "source": [
    "#universe[\"training_size\"]"
   ]
  },
  {
   "cell_type": "code",
   "execution_count": 16,
   "id": "ca707fd7-8047-4acd-bfa5-66248fbbf8e6",
   "metadata": {
    "execution": {
     "iopub.execute_input": "2025-07-30T21:02:29.153649Z",
     "iopub.status.busy": "2025-07-30T21:02:29.153050Z",
     "iopub.status.idle": "2025-07-30T21:02:29.158472Z",
     "shell.execute_reply": "2025-07-30T21:02:29.157287Z"
    },
    "papermill": {
     "duration": 0.030469,
     "end_time": "2025-07-30T21:02:29.161025",
     "exception": false,
     "start_time": "2025-07-30T21:02:29.130556",
     "status": "completed"
    },
    "tags": []
   },
   "outputs": [],
   "source": [
    "#universe[\"training_year\"]"
   ]
  },
  {
   "cell_type": "code",
   "execution_count": 17,
   "id": "aea9c6ef-6f46-42c8-85eb-5a62025c1508",
   "metadata": {
    "execution": {
     "iopub.execute_input": "2025-07-30T21:02:29.203813Z",
     "iopub.status.busy": "2025-07-30T21:02:29.203317Z",
     "iopub.status.idle": "2025-07-30T21:02:29.778882Z",
     "shell.execute_reply": "2025-07-30T21:02:29.777844Z"
    },
    "papermill": {
     "duration": 0.59838,
     "end_time": "2025-07-30T21:02:29.780779",
     "exception": false,
     "start_time": "2025-07-30T21:02:29.182399",
     "status": "completed"
    },
    "tags": []
   },
   "outputs": [],
   "source": [
    "siab_train = sample_by_year_size(siab,\n",
    "                               training_year=universe[\"training_year\"],\n",
    "                               training_size=universe[\"training_size\"])"
   ]
  },
  {
   "cell_type": "code",
   "execution_count": 18,
   "id": "8d3afb32-789d-442c-8d5d-9f5aa8dd2eed",
   "metadata": {
    "execution": {
     "iopub.execute_input": "2025-07-30T21:02:29.821833Z",
     "iopub.status.busy": "2025-07-30T21:02:29.820973Z",
     "iopub.status.idle": "2025-07-30T21:02:29.825952Z",
     "shell.execute_reply": "2025-07-30T21:02:29.824974Z"
    },
    "papermill": {
     "duration": 0.02705,
     "end_time": "2025-07-30T21:02:29.827821",
     "exception": false,
     "start_time": "2025-07-30T21:02:29.800771",
     "status": "completed"
    },
    "tags": []
   },
   "outputs": [],
   "source": [
    "#siab_train.shape"
   ]
  },
  {
   "cell_type": "code",
   "execution_count": 19,
   "id": "d582db68-1a4c-47fb-84fc-08518dc1975a",
   "metadata": {
    "execution": {
     "iopub.execute_input": "2025-07-30T21:02:29.872530Z",
     "iopub.status.busy": "2025-07-30T21:02:29.871076Z",
     "iopub.status.idle": "2025-07-30T21:02:29.876805Z",
     "shell.execute_reply": "2025-07-30T21:02:29.875752Z"
    },
    "papermill": {
     "duration": 0.029562,
     "end_time": "2025-07-30T21:02:29.878462",
     "exception": false,
     "start_time": "2025-07-30T21:02:29.848900",
     "status": "completed"
    },
    "tags": []
   },
   "outputs": [],
   "source": [
    "#display(siab_train.groupby(\"year\").size())"
   ]
  },
  {
   "cell_type": "code",
   "execution_count": 20,
   "id": "a561edb4-d032-42cb-8256-22eac1111c64",
   "metadata": {
    "execution": {
     "iopub.execute_input": "2025-07-30T21:02:29.919115Z",
     "iopub.status.busy": "2025-07-30T21:02:29.918608Z",
     "iopub.status.idle": "2025-07-30T21:02:30.179489Z",
     "shell.execute_reply": "2025-07-30T21:02:30.178552Z"
    },
    "papermill": {
     "duration": 0.283138,
     "end_time": "2025-07-30T21:02:30.181281",
     "exception": false,
     "start_time": "2025-07-30T21:02:29.898143",
     "status": "completed"
    },
    "tags": []
   },
   "outputs": [],
   "source": [
    "#siab_train = siab_s[siab_s.year < 2015]\n",
    "siab_calib = siab[siab.year == 2015]\n",
    "siab_test = siab[siab.year == 2016]"
   ]
  },
  {
   "cell_type": "code",
   "execution_count": 21,
   "id": "472de16f-c3db-4916-846b-1f0de9cf1746",
   "metadata": {
    "execution": {
     "iopub.execute_input": "2025-07-30T21:02:30.222357Z",
     "iopub.status.busy": "2025-07-30T21:02:30.221550Z",
     "iopub.status.idle": "2025-07-30T21:02:30.229660Z",
     "shell.execute_reply": "2025-07-30T21:02:30.228738Z"
    },
    "papermill": {
     "duration": 0.030004,
     "end_time": "2025-07-30T21:02:30.231153",
     "exception": false,
     "start_time": "2025-07-30T21:02:30.201149",
     "status": "completed"
    },
    "tags": []
   },
   "outputs": [],
   "source": [
    "X_train = siab_train.iloc[:,4:164]\n",
    "y_train = siab_train.iloc[:, [3]]"
   ]
  },
  {
   "cell_type": "code",
   "execution_count": 22,
   "id": "828c96af-f43a-4ed6-ba47-8ac73a47d56c",
   "metadata": {
    "execution": {
     "iopub.execute_input": "2025-07-30T21:02:30.271864Z",
     "iopub.status.busy": "2025-07-30T21:02:30.271395Z",
     "iopub.status.idle": "2025-07-30T21:02:30.319675Z",
     "shell.execute_reply": "2025-07-30T21:02:30.318860Z"
    },
    "papermill": {
     "duration": 0.069825,
     "end_time": "2025-07-30T21:02:30.321032",
     "exception": false,
     "start_time": "2025-07-30T21:02:30.251207",
     "status": "completed"
    },
    "tags": []
   },
   "outputs": [],
   "source": [
    "X_calib = siab_calib.iloc[:,4:164]\n",
    "y_calib = siab_calib.iloc[:, [3]]"
   ]
  },
  {
   "cell_type": "code",
   "execution_count": 23,
   "id": "c34be9c3-6bd6-476e-acd3-845840e303be",
   "metadata": {
    "execution": {
     "iopub.execute_input": "2025-07-30T21:02:30.345187Z",
     "iopub.status.busy": "2025-07-30T21:02:30.344887Z",
     "iopub.status.idle": "2025-07-30T21:02:30.392851Z",
     "shell.execute_reply": "2025-07-30T21:02:30.391923Z"
    },
    "papermill": {
     "duration": 0.061483,
     "end_time": "2025-07-30T21:02:30.394346",
     "exception": false,
     "start_time": "2025-07-30T21:02:30.332863",
     "status": "completed"
    },
    "tags": []
   },
   "outputs": [],
   "source": [
    "X_test = siab_test.iloc[:,4:164]\n",
    "y_true = siab_test.iloc[:, [3]]"
   ]
  },
  {
   "cell_type": "markdown",
   "id": "9901737e-04df-44f0-9100-f5ad144ed040",
   "metadata": {
    "papermill": {
     "duration": 0.019266,
     "end_time": "2025-07-30T21:02:30.434992",
     "exception": false,
     "start_time": "2025-07-30T21:02:30.415726",
     "status": "completed"
    },
    "tags": []
   },
   "source": [
    "# Splitting Data and Setting Training Data Size OLD VERSION"
   ]
  },
  {
   "cell_type": "code",
   "execution_count": 24,
   "id": "acbc8f7d-8fc8-4e86-8c59-5dcb0f58384b",
   "metadata": {
    "execution": {
     "iopub.execute_input": "2025-07-30T21:02:30.474119Z",
     "iopub.status.busy": "2025-07-30T21:02:30.473681Z",
     "iopub.status.idle": "2025-07-30T21:02:30.477973Z",
     "shell.execute_reply": "2025-07-30T21:02:30.477211Z"
    },
    "papermill": {
     "duration": 0.025667,
     "end_time": "2025-07-30T21:02:30.479641",
     "exception": false,
     "start_time": "2025-07-30T21:02:30.453974",
     "status": "completed"
    },
    "tags": []
   },
   "outputs": [],
   "source": [
    "#def sample_by_year(df, training_size, random_state=42):\n",
    "#    if training_size == \"2014\":\n",
    "#        return df[df[\"year\"] == 2014].reset_index(drop=True)\n",
    "#    \n",
    "#    size_map = {\n",
    "#        \"25k\": 5000,\n",
    "#        \"5k\": 1000,\n",
    "#        \"1k\": 200\n",
    "#    }\n",
    "#\n",
    "#    if training_size not in size_map:\n",
    "#        return df.reset_index(drop=True)  # use all data\n",
    "#\n",
    "#    n_per_year = size_map[training_size]\n",
    "#    grouped = df.groupby(\"year\")\n",
    "#    sampled = grouped.apply(lambda x: x.sample(n=min(n_per_year, len(x)), random_state=random_state))\n",
    "#    return sampled.reset_index(drop=True)"
   ]
  },
  {
   "cell_type": "code",
   "execution_count": 25,
   "id": "6d931f52-beaf-43ff-9e78-9d44a448d54e",
   "metadata": {
    "execution": {
     "iopub.execute_input": "2025-07-30T21:02:30.519264Z",
     "iopub.status.busy": "2025-07-30T21:02:30.518810Z",
     "iopub.status.idle": "2025-07-30T21:02:30.522600Z",
     "shell.execute_reply": "2025-07-30T21:02:30.521923Z"
    },
    "papermill": {
     "duration": 0.024731,
     "end_time": "2025-07-30T21:02:30.523924",
     "exception": false,
     "start_time": "2025-07-30T21:02:30.499193",
     "status": "completed"
    },
    "tags": []
   },
   "outputs": [],
   "source": [
    "#siab_s = sample_by_year(siab, universe[\"training_size\"])"
   ]
  },
  {
   "cell_type": "code",
   "execution_count": 26,
   "id": "5db0a40e-a4e2-4920-be85-b12ae061d70d",
   "metadata": {
    "execution": {
     "iopub.execute_input": "2025-07-30T21:02:30.563600Z",
     "iopub.status.busy": "2025-07-30T21:02:30.563094Z",
     "iopub.status.idle": "2025-07-30T21:02:30.566849Z",
     "shell.execute_reply": "2025-07-30T21:02:30.566140Z"
    },
    "papermill": {
     "duration": 0.025039,
     "end_time": "2025-07-30T21:02:30.568386",
     "exception": false,
     "start_time": "2025-07-30T21:02:30.543347",
     "status": "completed"
    },
    "tags": []
   },
   "outputs": [],
   "source": [
    "#display(siab_s.groupby(\"year\").size())"
   ]
  },
  {
   "cell_type": "code",
   "execution_count": 27,
   "id": "e6c733c5",
   "metadata": {
    "execution": {
     "iopub.execute_input": "2025-07-30T21:02:30.608360Z",
     "iopub.status.busy": "2025-07-30T21:02:30.607814Z",
     "iopub.status.idle": "2025-07-30T21:02:30.702763Z",
     "shell.execute_reply": "2025-07-30T21:02:30.701720Z"
    },
    "papermill": {
     "duration": 0.121439,
     "end_time": "2025-07-30T21:02:30.709539",
     "exception": false,
     "start_time": "2025-07-30T21:02:30.588100",
     "status": "completed"
    },
    "tags": []
   },
   "outputs": [],
   "source": [
    "# Auxiliary data needed downstream in the pipeline\n",
    "\n",
    "org_train = X_train.copy()\n",
    "org_test = X_test.copy()\n",
    "org_calib = X_calib.copy()"
   ]
  },
  {
   "cell_type": "code",
   "execution_count": 28,
   "id": "1466abac-c6da-4492-a62f-4240ae3783af",
   "metadata": {
    "execution": {
     "iopub.execute_input": "2025-07-30T21:02:30.755642Z",
     "iopub.status.busy": "2025-07-30T21:02:30.755190Z",
     "iopub.status.idle": "2025-07-30T21:02:30.762509Z",
     "shell.execute_reply": "2025-07-30T21:02:30.761208Z"
    },
    "papermill": {
     "duration": 0.031926,
     "end_time": "2025-07-30T21:02:30.764305",
     "exception": false,
     "start_time": "2025-07-30T21:02:30.732379",
     "status": "completed"
    },
    "tags": []
   },
   "outputs": [],
   "source": [
    "# put in other script?\n",
    "# Group sizes\n",
    "\n",
    "#def calculate_percentages(df, df_name):\n",
    "#    total_entries = len(df)\n",
    "#\n",
    "#    female_pct = (df['frau1'] == 1).mean() * 100\n",
    "#    non_german_pct = ((df['maxdeutsch1'] == 0) & (df['maxdeutsch.Missing.'] == 0)).mean() * 100\n",
    "#    non_german_male_pct = ((df['frau1'] == 0) & (df['maxdeutsch1'] == 0) & (df['maxdeutsch.Missing.'] == 0)).mean() * 100\n",
    "#    non_german_female_pct = ((df['frau1'] == 1) & (df['maxdeutsch1'] == 0) & (df['maxdeutsch.Missing.'] == 0)).mean() * 100\n",
    "#\n",
    "#    print(f\"--- {df_name} ---\")\n",
    "#    print(f\"Female: {female_pct:.2f}%\")\n",
    "#    print(f\"Non-German: {non_german_pct:.2f}%\")\n",
    "#    print(f\"Non-German Male: {non_german_male_pct:.2f}%\")\n",
    "#    print(f\"Non-German Female: {non_german_female_pct:.2f}%\\n\")\n",
    "#\n",
    "## Calculate for each DataFrame\n",
    "#calculate_percentages(siab_calib, \"siab_calib\")\n",
    "#calculate_percentages(siab_test, \"siab_test\")\n",
    "#calculate_percentages(siab_train, \"siab_train\")"
   ]
  },
  {
   "cell_type": "markdown",
   "id": "0a4a1b33",
   "metadata": {
    "papermill": {
     "duration": 0.021988,
     "end_time": "2025-07-30T21:02:30.809281",
     "exception": false,
     "start_time": "2025-07-30T21:02:30.787293",
     "status": "completed"
    },
    "tags": []
   },
   "source": [
    "# Preprocessing Data"
   ]
  },
  {
   "cell_type": "code",
   "execution_count": 29,
   "id": "ca879031",
   "metadata": {
    "execution": {
     "iopub.execute_input": "2025-07-30T21:02:30.855106Z",
     "iopub.status.busy": "2025-07-30T21:02:30.854696Z",
     "iopub.status.idle": "2025-07-30T21:02:30.860755Z",
     "shell.execute_reply": "2025-07-30T21:02:30.859740Z"
    },
    "papermill": {
     "duration": 0.029933,
     "end_time": "2025-07-30T21:02:30.862315",
     "exception": false,
     "start_time": "2025-07-30T21:02:30.832382",
     "status": "completed"
    },
    "tags": []
   },
   "outputs": [],
   "source": [
    "# EXCLUDE PROTECTED FEATURES\n",
    "# ----------------------\n",
    "# \"exclude_features\": \"none\", # \"nationality\", \"sex\", \"nationality-sex\"\n",
    "\n",
    "excluded_features = universe[\"exclude_features\"].split(\"-\") # split, e.g.: \"nationality-sex\" -> [\"nationality\", \"sex\"]\n",
    "excluded_features_dictionary = {\n",
    "    \"nationality\": [\"maxdeutsch1\", \"maxdeutsch.Missing.\"],\n",
    "    \"sex\": [\"frau1\"],\n",
    "    \"age\": [\"age\"],\n",
    "}\n"
   ]
  },
  {
   "cell_type": "code",
   "execution_count": 30,
   "id": "b745ac60",
   "metadata": {
    "execution": {
     "iopub.execute_input": "2025-07-30T21:02:30.911356Z",
     "iopub.status.busy": "2025-07-30T21:02:30.910331Z",
     "iopub.status.idle": "2025-07-30T21:02:30.916139Z",
     "shell.execute_reply": "2025-07-30T21:02:30.915222Z"
    },
    "papermill": {
     "duration": 0.031825,
     "end_time": "2025-07-30T21:02:30.918057",
     "exception": false,
     "start_time": "2025-07-30T21:02:30.886232",
     "status": "completed"
    },
    "tags": []
   },
   "outputs": [],
   "source": [
    "# Code nice names to column names\n",
    "\n",
    "excluded_features_columns = [\n",
    "    excluded_features_dictionary[f] for f in excluded_features if len(f) > 0 and f != \"none\"\n",
    "]"
   ]
  },
  {
   "cell_type": "code",
   "execution_count": 31,
   "id": "f84f73a2",
   "metadata": {
    "execution": {
     "iopub.execute_input": "2025-07-30T21:02:30.960861Z",
     "iopub.status.busy": "2025-07-30T21:02:30.960027Z",
     "iopub.status.idle": "2025-07-30T21:02:30.966917Z",
     "shell.execute_reply": "2025-07-30T21:02:30.966056Z"
    },
    "papermill": {
     "duration": 0.027354,
     "end_time": "2025-07-30T21:02:30.968721",
     "exception": false,
     "start_time": "2025-07-30T21:02:30.941367",
     "status": "completed"
    },
    "tags": []
   },
   "outputs": [],
   "source": [
    "from utils import flatten_once\n",
    "\n",
    "excluded_features_columns = flatten_once(excluded_features_columns)"
   ]
  },
  {
   "cell_type": "code",
   "execution_count": 32,
   "id": "884dea22",
   "metadata": {
    "execution": {
     "iopub.execute_input": "2025-07-30T21:02:31.010884Z",
     "iopub.status.busy": "2025-07-30T21:02:31.010108Z",
     "iopub.status.idle": "2025-07-30T21:02:31.019928Z",
     "shell.execute_reply": "2025-07-30T21:02:31.018342Z"
    },
    "papermill": {
     "duration": 0.032223,
     "end_time": "2025-07-30T21:02:31.021653",
     "exception": false,
     "start_time": "2025-07-30T21:02:30.989430",
     "status": "completed"
    },
    "tags": []
   },
   "outputs": [
    {
     "name": "stdout",
     "output_type": "stream",
     "text": [
      "Dropping features: ['age']\n"
     ]
    }
   ],
   "source": [
    "if len(excluded_features_columns) > 0:\n",
    "    print(f\"Dropping features: {excluded_features_columns}\")\n",
    "    X_train.drop(excluded_features_columns, axis=1, inplace=True)"
   ]
  },
  {
   "cell_type": "code",
   "execution_count": 33,
   "id": "95ab8b16",
   "metadata": {
    "execution": {
     "iopub.execute_input": "2025-07-30T21:02:31.047602Z",
     "iopub.status.busy": "2025-07-30T21:02:31.047224Z",
     "iopub.status.idle": "2025-07-30T21:02:31.108983Z",
     "shell.execute_reply": "2025-07-30T21:02:31.107952Z"
    },
    "papermill": {
     "duration": 0.075563,
     "end_time": "2025-07-30T21:02:31.110730",
     "exception": false,
     "start_time": "2025-07-30T21:02:31.035167",
     "status": "completed"
    },
    "tags": []
   },
   "outputs": [
    {
     "name": "stdout",
     "output_type": "stream",
     "text": [
      "Dropping features: ['age']\n"
     ]
    }
   ],
   "source": [
    "if len(excluded_features_columns) > 0:\n",
    "    print(f\"Dropping features: {excluded_features_columns}\")\n",
    "    X_test.drop(excluded_features_columns, axis=1, inplace=True)"
   ]
  },
  {
   "cell_type": "code",
   "execution_count": 34,
   "id": "1853aaf5-fb9f-46cb-a2b5-8ea4ae2237e4",
   "metadata": {
    "execution": {
     "iopub.execute_input": "2025-07-30T21:02:31.161007Z",
     "iopub.status.busy": "2025-07-30T21:02:31.160640Z",
     "iopub.status.idle": "2025-07-30T21:02:31.211066Z",
     "shell.execute_reply": "2025-07-30T21:02:31.210039Z"
    },
    "papermill": {
     "duration": 0.077531,
     "end_time": "2025-07-30T21:02:31.212938",
     "exception": false,
     "start_time": "2025-07-30T21:02:31.135407",
     "status": "completed"
    },
    "tags": []
   },
   "outputs": [
    {
     "name": "stdout",
     "output_type": "stream",
     "text": [
      "Dropping features: ['age']\n"
     ]
    }
   ],
   "source": [
    "if len(excluded_features_columns) > 0:\n",
    "    print(f\"Dropping features: {excluded_features_columns}\")\n",
    "    X_calib.drop(excluded_features_columns, axis=1, inplace=True)"
   ]
  },
  {
   "cell_type": "code",
   "execution_count": 35,
   "id": "6727d079-03e5-481e-9d38-292a90b7a0a8",
   "metadata": {
    "execution": {
     "iopub.execute_input": "2025-07-30T21:02:31.263781Z",
     "iopub.status.busy": "2025-07-30T21:02:31.262925Z",
     "iopub.status.idle": "2025-07-30T21:02:31.268254Z",
     "shell.execute_reply": "2025-07-30T21:02:31.267133Z"
    },
    "papermill": {
     "duration": 0.032242,
     "end_time": "2025-07-30T21:02:31.270119",
     "exception": false,
     "start_time": "2025-07-30T21:02:31.237877",
     "status": "completed"
    },
    "tags": []
   },
   "outputs": [],
   "source": [
    "# SPLIT & STRATIFY DATA\n",
    "# ----------------------"
   ]
  },
  {
   "cell_type": "code",
   "execution_count": 36,
   "id": "76c4dc6d",
   "metadata": {
    "execution": {
     "iopub.execute_input": "2025-07-30T21:02:31.318502Z",
     "iopub.status.busy": "2025-07-30T21:02:31.317679Z",
     "iopub.status.idle": "2025-07-30T21:02:31.322917Z",
     "shell.execute_reply": "2025-07-30T21:02:31.322119Z"
    },
    "papermill": {
     "duration": 0.030277,
     "end_time": "2025-07-30T21:02:31.324228",
     "exception": false,
     "start_time": "2025-07-30T21:02:31.293951",
     "status": "completed"
    },
    "tags": []
   },
   "outputs": [],
   "source": [
    "# EXCLUDE CERTAIN SUBGROUPS\n",
    "# ----------------------\n",
    "\n",
    "mode = universe.get(\"exclude_subgroups\", \"keep-all\") \n",
    "# Fetches the exclude_subgroups setting from the universe dict.\n",
    "# Defaults to \"keep-all\" if the key is missing."
   ]
  },
  {
   "cell_type": "code",
   "execution_count": 37,
   "id": "21994072",
   "metadata": {
    "execution": {
     "iopub.execute_input": "2025-07-30T21:02:31.349320Z",
     "iopub.status.busy": "2025-07-30T21:02:31.348962Z",
     "iopub.status.idle": "2025-07-30T21:02:31.354345Z",
     "shell.execute_reply": "2025-07-30T21:02:31.353647Z"
    },
    "papermill": {
     "duration": 0.019184,
     "end_time": "2025-07-30T21:02:31.355729",
     "exception": false,
     "start_time": "2025-07-30T21:02:31.336545",
     "status": "completed"
    },
    "tags": []
   },
   "outputs": [],
   "source": [
    "if mode == \"keep-all\":\n",
    "    keep_mask = pd.Series(True, index=org_train.index)\n",
    "\n",
    "# org_train contains the original feature columns from features_org (in Simson)\n",
    "# features_org contains unprocessed features, for me X_train at beginning ???\n",
    "# For keep-all, creates a boolean Series (keep_mask) of all True, so no rows are removed.\n",
    "\n",
    "elif mode == \"drop-non-german\":\n",
    "    keep_mask = org_train[\"maxdeutsch1\"] == 1 # ??? what about missing values?\n",
    "\n",
    "else:\n",
    "    raise ValueError(f\"Unsupported mode for exclude_subgroups: {mode}\")\n"
   ]
  },
  {
   "cell_type": "code",
   "execution_count": 38,
   "id": "71651440",
   "metadata": {
    "execution": {
     "iopub.execute_input": "2025-07-30T21:02:31.381151Z",
     "iopub.status.busy": "2025-07-30T21:02:31.380323Z",
     "iopub.status.idle": "2025-07-30T21:02:31.385756Z",
     "shell.execute_reply": "2025-07-30T21:02:31.384995Z"
    },
    "papermill": {
     "duration": 0.019367,
     "end_time": "2025-07-30T21:02:31.387252",
     "exception": false,
     "start_time": "2025-07-30T21:02:31.367885",
     "status": "completed"
    },
    "tags": []
   },
   "outputs": [],
   "source": [
    "n_drop = (~keep_mask).sum() # Calculates how many rows are set to be dropped\n",
    "if n_drop > 0:\n",
    "    pct = n_drop / len(keep_mask) * 100\n",
    "    print(f\"Dropping {n_drop} rows ({pct:.2f}%) where mode='{mode}'\")"
   ]
  },
  {
   "cell_type": "code",
   "execution_count": 39,
   "id": "5fb8eee5",
   "metadata": {
    "execution": {
     "iopub.execute_input": "2025-07-30T21:02:31.414186Z",
     "iopub.status.busy": "2025-07-30T21:02:31.413713Z",
     "iopub.status.idle": "2025-07-30T21:02:31.421758Z",
     "shell.execute_reply": "2025-07-30T21:02:31.420792Z"
    },
    "papermill": {
     "duration": 0.023287,
     "end_time": "2025-07-30T21:02:31.423533",
     "exception": false,
     "start_time": "2025-07-30T21:02:31.400246",
     "status": "completed"
    },
    "tags": []
   },
   "outputs": [],
   "source": [
    "X_train = X_train[keep_mask]"
   ]
  },
  {
   "cell_type": "code",
   "execution_count": 40,
   "id": "b202bb3a",
   "metadata": {
    "execution": {
     "iopub.execute_input": "2025-07-30T21:02:31.472356Z",
     "iopub.status.busy": "2025-07-30T21:02:31.471650Z",
     "iopub.status.idle": "2025-07-30T21:02:31.478092Z",
     "shell.execute_reply": "2025-07-30T21:02:31.477076Z"
    },
    "papermill": {
     "duration": 0.032481,
     "end_time": "2025-07-30T21:02:31.479603",
     "exception": false,
     "start_time": "2025-07-30T21:02:31.447122",
     "status": "completed"
    },
    "tags": []
   },
   "outputs": [],
   "source": [
    "y_train = y_train[keep_mask]"
   ]
  },
  {
   "cell_type": "markdown",
   "id": "493e2ac3",
   "metadata": {
    "papermill": {
     "duration": 0.022452,
     "end_time": "2025-07-30T21:02:31.525228",
     "exception": false,
     "start_time": "2025-07-30T21:02:31.502776",
     "status": "completed"
    },
    "tags": []
   },
   "source": [
    "# Model Training"
   ]
  },
  {
   "cell_type": "code",
   "execution_count": 41,
   "id": "679e1268",
   "metadata": {
    "execution": {
     "iopub.execute_input": "2025-07-30T21:02:31.571984Z",
     "iopub.status.busy": "2025-07-30T21:02:31.571051Z",
     "iopub.status.idle": "2025-07-30T21:02:31.673481Z",
     "shell.execute_reply": "2025-07-30T21:02:31.672170Z"
    },
    "papermill": {
     "duration": 0.127533,
     "end_time": "2025-07-30T21:02:31.675301",
     "exception": false,
     "start_time": "2025-07-30T21:02:31.547768",
     "status": "completed"
    },
    "tags": []
   },
   "outputs": [],
   "source": [
    "from sklearn.linear_model import LogisticRegression\n",
    "from sklearn.ensemble import GradientBoostingClassifier, RandomForestClassifier\n",
    "\n",
    "if (universe[\"model\"] == \"logreg\"):\n",
    "    model = LogisticRegression() #penalty=\"none\") #, solver=\"newton-cg\", max_iter=1) # include random_state=19 ?\n",
    "elif (universe[\"model\"] == \"penalized_logreg\"):\n",
    "    model = LogisticRegression(penalty=\"l2\", C=1.0) #, solver=\"newton-cg\", max_iter=1)\n",
    "elif (universe[\"model\"] == \"rf\"):\n",
    "    model = RandomForestClassifier(n_estimators=100, n_jobs=-1)\n",
    "elif (universe[\"model\"] == \"gbm\"):\n",
    "    model = GradientBoostingClassifier()\n",
    "elif (universe[\"model\"] == \"elasticnet\"):\n",
    "    model = LogisticRegression(penalty = 'elasticnet', solver = 'saga', l1_ratio = 0.5, max_iter=5000) # which solver to use?\n",
    "else:\n",
    "    raise \"Unsupported universe.model\""
   ]
  },
  {
   "cell_type": "code",
   "execution_count": 42,
   "id": "0cc8f744",
   "metadata": {
    "execution": {
     "iopub.execute_input": "2025-07-30T21:02:31.725185Z",
     "iopub.status.busy": "2025-07-30T21:02:31.724716Z",
     "iopub.status.idle": "2025-07-30T21:02:31.731318Z",
     "shell.execute_reply": "2025-07-30T21:02:31.730329Z"
    },
    "papermill": {
     "duration": 0.035439,
     "end_time": "2025-07-30T21:02:31.735937",
     "exception": false,
     "start_time": "2025-07-30T21:02:31.700498",
     "status": "completed"
    },
    "tags": []
   },
   "outputs": [],
   "source": [
    "import numpy as np\n",
    "from sklearn.pipeline import Pipeline\n",
    "from sklearn.preprocessing import StandardScaler\n",
    "\n",
    "model = Pipeline([\n",
    "    #(\"continuous_processor\", continuous_processor),\n",
    "    #(\"categorical_preprocessor\", categorical_preprocessor),\n",
    "    (\"scale\", StandardScaler() if universe[\"scale\"] == \"scale\" else None), \n",
    "    (\"model\", model),\n",
    "])"
   ]
  },
  {
   "cell_type": "code",
   "execution_count": 43,
   "id": "9442c04d",
   "metadata": {
    "execution": {
     "iopub.execute_input": "2025-07-30T21:02:31.762605Z",
     "iopub.status.busy": "2025-07-30T21:02:31.762245Z",
     "iopub.status.idle": "2025-07-30T21:02:41.567565Z",
     "shell.execute_reply": "2025-07-30T21:02:41.566732Z"
    },
    "papermill": {
     "duration": 9.819818,
     "end_time": "2025-07-30T21:02:41.569074",
     "exception": false,
     "start_time": "2025-07-30T21:02:31.749256",
     "status": "completed"
    },
    "tags": []
   },
   "outputs": [
    {
     "data": {
      "text/html": [
       "<style>#sk-container-id-1 {color: black;background-color: white;}#sk-container-id-1 pre{padding: 0;}#sk-container-id-1 div.sk-toggleable {background-color: white;}#sk-container-id-1 label.sk-toggleable__label {cursor: pointer;display: block;width: 100%;margin-bottom: 0;padding: 0.3em;box-sizing: border-box;text-align: center;}#sk-container-id-1 label.sk-toggleable__label-arrow:before {content: \"▸\";float: left;margin-right: 0.25em;color: #696969;}#sk-container-id-1 label.sk-toggleable__label-arrow:hover:before {color: black;}#sk-container-id-1 div.sk-estimator:hover label.sk-toggleable__label-arrow:before {color: black;}#sk-container-id-1 div.sk-toggleable__content {max-height: 0;max-width: 0;overflow: hidden;text-align: left;background-color: #f0f8ff;}#sk-container-id-1 div.sk-toggleable__content pre {margin: 0.2em;color: black;border-radius: 0.25em;background-color: #f0f8ff;}#sk-container-id-1 input.sk-toggleable__control:checked~div.sk-toggleable__content {max-height: 200px;max-width: 100%;overflow: auto;}#sk-container-id-1 input.sk-toggleable__control:checked~label.sk-toggleable__label-arrow:before {content: \"▾\";}#sk-container-id-1 div.sk-estimator input.sk-toggleable__control:checked~label.sk-toggleable__label {background-color: #d4ebff;}#sk-container-id-1 div.sk-label input.sk-toggleable__control:checked~label.sk-toggleable__label {background-color: #d4ebff;}#sk-container-id-1 input.sk-hidden--visually {border: 0;clip: rect(1px 1px 1px 1px);clip: rect(1px, 1px, 1px, 1px);height: 1px;margin: -1px;overflow: hidden;padding: 0;position: absolute;width: 1px;}#sk-container-id-1 div.sk-estimator {font-family: monospace;background-color: #f0f8ff;border: 1px dotted black;border-radius: 0.25em;box-sizing: border-box;margin-bottom: 0.5em;}#sk-container-id-1 div.sk-estimator:hover {background-color: #d4ebff;}#sk-container-id-1 div.sk-parallel-item::after {content: \"\";width: 100%;border-bottom: 1px solid gray;flex-grow: 1;}#sk-container-id-1 div.sk-label:hover label.sk-toggleable__label {background-color: #d4ebff;}#sk-container-id-1 div.sk-serial::before {content: \"\";position: absolute;border-left: 1px solid gray;box-sizing: border-box;top: 0;bottom: 0;left: 50%;z-index: 0;}#sk-container-id-1 div.sk-serial {display: flex;flex-direction: column;align-items: center;background-color: white;padding-right: 0.2em;padding-left: 0.2em;position: relative;}#sk-container-id-1 div.sk-item {position: relative;z-index: 1;}#sk-container-id-1 div.sk-parallel {display: flex;align-items: stretch;justify-content: center;background-color: white;position: relative;}#sk-container-id-1 div.sk-item::before, #sk-container-id-1 div.sk-parallel-item::before {content: \"\";position: absolute;border-left: 1px solid gray;box-sizing: border-box;top: 0;bottom: 0;left: 50%;z-index: -1;}#sk-container-id-1 div.sk-parallel-item {display: flex;flex-direction: column;z-index: 1;position: relative;background-color: white;}#sk-container-id-1 div.sk-parallel-item:first-child::after {align-self: flex-end;width: 50%;}#sk-container-id-1 div.sk-parallel-item:last-child::after {align-self: flex-start;width: 50%;}#sk-container-id-1 div.sk-parallel-item:only-child::after {width: 0;}#sk-container-id-1 div.sk-dashed-wrapped {border: 1px dashed gray;margin: 0 0.4em 0.5em 0.4em;box-sizing: border-box;padding-bottom: 0.4em;background-color: white;}#sk-container-id-1 div.sk-label label {font-family: monospace;font-weight: bold;display: inline-block;line-height: 1.2em;}#sk-container-id-1 div.sk-label-container {text-align: center;}#sk-container-id-1 div.sk-container {/* jupyter's `normalize.less` sets `[hidden] { display: none; }` but bootstrap.min.css set `[hidden] { display: none !important; }` so we also need the `!important` here to be able to override the default hidden behavior on the sphinx rendered scikit-learn.org. See: https://github.com/scikit-learn/scikit-learn/issues/21755 */display: inline-block !important;position: relative;}#sk-container-id-1 div.sk-text-repr-fallback {display: none;}</style><div id=\"sk-container-id-1\" class=\"sk-top-container\"><div class=\"sk-text-repr-fallback\"><pre>Pipeline(steps=[(&#x27;scale&#x27;, StandardScaler()),\n",
       "                (&#x27;model&#x27;,\n",
       "                 LogisticRegression(l1_ratio=0.5, max_iter=5000,\n",
       "                                    penalty=&#x27;elasticnet&#x27;, solver=&#x27;saga&#x27;))])</pre><b>In a Jupyter environment, please rerun this cell to show the HTML representation or trust the notebook. <br />On GitHub, the HTML representation is unable to render, please try loading this page with nbviewer.org.</b></div><div class=\"sk-container\" hidden><div class=\"sk-item sk-dashed-wrapped\"><div class=\"sk-label-container\"><div class=\"sk-label sk-toggleable\"><input class=\"sk-toggleable__control sk-hidden--visually\" id=\"sk-estimator-id-1\" type=\"checkbox\" ><label for=\"sk-estimator-id-1\" class=\"sk-toggleable__label sk-toggleable__label-arrow\">Pipeline</label><div class=\"sk-toggleable__content\"><pre>Pipeline(steps=[(&#x27;scale&#x27;, StandardScaler()),\n",
       "                (&#x27;model&#x27;,\n",
       "                 LogisticRegression(l1_ratio=0.5, max_iter=5000,\n",
       "                                    penalty=&#x27;elasticnet&#x27;, solver=&#x27;saga&#x27;))])</pre></div></div></div><div class=\"sk-serial\"><div class=\"sk-item\"><div class=\"sk-estimator sk-toggleable\"><input class=\"sk-toggleable__control sk-hidden--visually\" id=\"sk-estimator-id-2\" type=\"checkbox\" ><label for=\"sk-estimator-id-2\" class=\"sk-toggleable__label sk-toggleable__label-arrow\">StandardScaler</label><div class=\"sk-toggleable__content\"><pre>StandardScaler()</pre></div></div></div><div class=\"sk-item\"><div class=\"sk-estimator sk-toggleable\"><input class=\"sk-toggleable__control sk-hidden--visually\" id=\"sk-estimator-id-3\" type=\"checkbox\" ><label for=\"sk-estimator-id-3\" class=\"sk-toggleable__label sk-toggleable__label-arrow\">LogisticRegression</label><div class=\"sk-toggleable__content\"><pre>LogisticRegression(l1_ratio=0.5, max_iter=5000, penalty=&#x27;elasticnet&#x27;,\n",
       "                   solver=&#x27;saga&#x27;)</pre></div></div></div></div></div></div></div>"
      ],
      "text/plain": [
       "Pipeline(steps=[('scale', StandardScaler()),\n",
       "                ('model',\n",
       "                 LogisticRegression(l1_ratio=0.5, max_iter=5000,\n",
       "                                    penalty='elasticnet', solver='saga'))])"
      ]
     },
     "execution_count": 43,
     "metadata": {},
     "output_type": "execute_result"
    }
   ],
   "source": [
    "model.fit(X_train, y_train.values.ravel())"
   ]
  },
  {
   "cell_type": "code",
   "execution_count": 44,
   "id": "af59f8c0",
   "metadata": {
    "execution": {
     "iopub.execute_input": "2025-07-30T21:02:41.618480Z",
     "iopub.status.busy": "2025-07-30T21:02:41.617982Z",
     "iopub.status.idle": "2025-07-30T21:02:41.623830Z",
     "shell.execute_reply": "2025-07-30T21:02:41.622817Z"
    },
    "papermill": {
     "duration": 0.031809,
     "end_time": "2025-07-30T21:02:41.625467",
     "exception": false,
     "start_time": "2025-07-30T21:02:41.593658",
     "status": "completed"
    },
    "tags": []
   },
   "outputs": [],
   "source": [
    "from fairness_multiverse.universe import predict_w_threshold"
   ]
  },
  {
   "cell_type": "code",
   "execution_count": 45,
   "id": "a7cf2e16",
   "metadata": {
    "execution": {
     "iopub.execute_input": "2025-07-30T21:02:41.671390Z",
     "iopub.status.busy": "2025-07-30T21:02:41.670565Z",
     "iopub.status.idle": "2025-07-30T21:02:41.859673Z",
     "shell.execute_reply": "2025-07-30T21:02:41.858737Z"
    },
    "papermill": {
     "duration": 0.212943,
     "end_time": "2025-07-30T21:02:41.861197",
     "exception": false,
     "start_time": "2025-07-30T21:02:41.648254",
     "status": "completed"
    },
    "tags": []
   },
   "outputs": [
    {
     "data": {
      "text/plain": [
       "0.8557239995541188"
      ]
     },
     "execution_count": 45,
     "metadata": {},
     "output_type": "execute_result"
    }
   ],
   "source": [
    "probs_test = model.predict_proba(X_test)\n",
    "\n",
    "'''\n",
    "Below code returns a boolean array (or binary 0/1 array depending on how it’s used) where each element \n",
    "is True if the probability of class 1 is greater than or equal to the threshold, and False otherwise.\n",
    "'''\n",
    "y_pred_default = predict_w_threshold(probs_test, 0.5)\n",
    "\n",
    "from sklearn.metrics import accuracy_score\n",
    "\n",
    "# Naive prediction\n",
    "accuracy_score(y_true = y_true, y_pred = y_pred_default)"
   ]
  },
  {
   "cell_type": "code",
   "execution_count": 46,
   "id": "081964c3",
   "metadata": {
    "execution": {
     "iopub.execute_input": "2025-07-30T21:02:41.910045Z",
     "iopub.status.busy": "2025-07-30T21:02:41.909397Z",
     "iopub.status.idle": "2025-07-30T21:02:42.091490Z",
     "shell.execute_reply": "2025-07-30T21:02:42.090603Z"
    },
    "papermill": {
     "duration": 0.208373,
     "end_time": "2025-07-30T21:02:42.093075",
     "exception": false,
     "start_time": "2025-07-30T21:02:41.884702",
     "status": "completed"
    },
    "tags": []
   },
   "outputs": [
    {
     "data": {
      "text/plain": [
       "array([0, 0, 0, ..., 0, 0, 0])"
      ]
     },
     "execution_count": 46,
     "metadata": {},
     "output_type": "execute_result"
    }
   ],
   "source": [
    "model.predict(X_test)"
   ]
  },
  {
   "cell_type": "markdown",
   "id": "56c9705b",
   "metadata": {
    "papermill": {
     "duration": 0.022003,
     "end_time": "2025-07-30T21:02:42.138246",
     "exception": false,
     "start_time": "2025-07-30T21:02:42.116243",
     "status": "completed"
    },
    "tags": []
   },
   "source": [
    "# Conformal Prediction"
   ]
  },
  {
   "cell_type": "code",
   "execution_count": 47,
   "id": "160ec6ff",
   "metadata": {
    "execution": {
     "iopub.execute_input": "2025-07-30T21:02:42.185900Z",
     "iopub.status.busy": "2025-07-30T21:02:42.185235Z",
     "iopub.status.idle": "2025-07-30T21:02:42.190715Z",
     "shell.execute_reply": "2025-07-30T21:02:42.189709Z"
    },
    "papermill": {
     "duration": 0.032073,
     "end_time": "2025-07-30T21:02:42.192176",
     "exception": false,
     "start_time": "2025-07-30T21:02:42.160103",
     "status": "completed"
    },
    "tags": []
   },
   "outputs": [],
   "source": [
    "# Miscoverage level for conformal prediction (10% allowed error rate => 90% target coverage)\n",
    "alpha = 0.1"
   ]
  },
  {
   "cell_type": "code",
   "execution_count": 48,
   "id": "eadf4555-3dd3-440e-8e35-f82a4ad9f855",
   "metadata": {
    "execution": {
     "iopub.execute_input": "2025-07-30T21:02:42.241110Z",
     "iopub.status.busy": "2025-07-30T21:02:42.240396Z",
     "iopub.status.idle": "2025-07-30T21:02:42.415810Z",
     "shell.execute_reply": "2025-07-30T21:02:42.414689Z"
    },
    "papermill": {
     "duration": 0.20252,
     "end_time": "2025-07-30T21:02:42.417709",
     "exception": false,
     "start_time": "2025-07-30T21:02:42.215189",
     "status": "completed"
    },
    "tags": []
   },
   "outputs": [],
   "source": [
    "probs_calib = model.predict_proba(X_calib)"
   ]
  },
  {
   "cell_type": "code",
   "execution_count": 49,
   "id": "2ed93547-6d5d-4983-9b36-1ecb300da49a",
   "metadata": {
    "execution": {
     "iopub.execute_input": "2025-07-30T21:02:42.466172Z",
     "iopub.status.busy": "2025-07-30T21:02:42.463480Z",
     "iopub.status.idle": "2025-07-30T21:02:42.471366Z",
     "shell.execute_reply": "2025-07-30T21:02:42.470269Z"
    },
    "papermill": {
     "duration": 0.032791,
     "end_time": "2025-07-30T21:02:42.473090",
     "exception": false,
     "start_time": "2025-07-30T21:02:42.440299",
     "status": "completed"
    },
    "tags": []
   },
   "outputs": [],
   "source": [
    "y_calib = y_calib.values.ravel().astype(int)"
   ]
  },
  {
   "cell_type": "code",
   "execution_count": 50,
   "id": "65d1320d-f588-4b38-9072-62af1ae97f7d",
   "metadata": {
    "execution": {
     "iopub.execute_input": "2025-07-30T21:02:42.524167Z",
     "iopub.status.busy": "2025-07-30T21:02:42.523669Z",
     "iopub.status.idle": "2025-07-30T21:02:42.530857Z",
     "shell.execute_reply": "2025-07-30T21:02:42.530013Z"
    },
    "papermill": {
     "duration": 0.033711,
     "end_time": "2025-07-30T21:02:42.532467",
     "exception": false,
     "start_time": "2025-07-30T21:02:42.498756",
     "status": "completed"
    },
    "tags": []
   },
   "outputs": [],
   "source": [
    "from fairness_multiverse.conformal import compute_nc_scores\n",
    "\n",
    "# Compute nonconformity scores on calibration set (1 - probability of true class)\n",
    "nc_scores = compute_nc_scores(probs_calib, y_calib)"
   ]
  },
  {
   "cell_type": "code",
   "execution_count": 51,
   "id": "df3b8ca3-53b7-43d5-9667-7c85da7aeda2",
   "metadata": {
    "execution": {
     "iopub.execute_input": "2025-07-30T21:02:42.580769Z",
     "iopub.status.busy": "2025-07-30T21:02:42.580132Z",
     "iopub.status.idle": "2025-07-30T21:02:42.587217Z",
     "shell.execute_reply": "2025-07-30T21:02:42.586367Z"
    },
    "papermill": {
     "duration": 0.03277,
     "end_time": "2025-07-30T21:02:42.588957",
     "exception": false,
     "start_time": "2025-07-30T21:02:42.556187",
     "status": "completed"
    },
    "tags": []
   },
   "outputs": [],
   "source": [
    "from fairness_multiverse.conformal import find_threshold\n",
    "\n",
    "# Find conformal threshold q_hat for the given alpha (split conformal method)\n",
    "q_hat = find_threshold(nc_scores, alpha)"
   ]
  },
  {
   "cell_type": "code",
   "execution_count": 52,
   "id": "4d29e6c1-0ef6-4aa4-b8fe-4fe79b0d033a",
   "metadata": {
    "execution": {
     "iopub.execute_input": "2025-07-30T21:02:42.638157Z",
     "iopub.status.busy": "2025-07-30T21:02:42.637695Z",
     "iopub.status.idle": "2025-07-30T21:02:42.644794Z",
     "shell.execute_reply": "2025-07-30T21:02:42.643699Z"
    },
    "papermill": {
     "duration": 0.033125,
     "end_time": "2025-07-30T21:02:42.646269",
     "exception": false,
     "start_time": "2025-07-30T21:02:42.613144",
     "status": "completed"
    },
    "tags": []
   },
   "outputs": [
    {
     "data": {
      "text/plain": [
       "0.6896802330328337"
      ]
     },
     "execution_count": 52,
     "metadata": {},
     "output_type": "execute_result"
    }
   ],
   "source": [
    "q_hat"
   ]
  },
  {
   "cell_type": "code",
   "execution_count": 53,
   "id": "92460794-cdac-4be2-ba28-f28c0515a6fb",
   "metadata": {
    "execution": {
     "iopub.execute_input": "2025-07-30T21:02:42.697760Z",
     "iopub.status.busy": "2025-07-30T21:02:42.697110Z",
     "iopub.status.idle": "2025-07-30T21:02:43.689786Z",
     "shell.execute_reply": "2025-07-30T21:02:43.688583Z"
    },
    "papermill": {
     "duration": 1.020152,
     "end_time": "2025-07-30T21:02:43.691422",
     "exception": false,
     "start_time": "2025-07-30T21:02:42.671270",
     "status": "completed"
    },
    "tags": []
   },
   "outputs": [],
   "source": [
    "from fairness_multiverse.conformal import predict_conformal_sets\n",
    "\n",
    "# Generate prediction sets for each test example\n",
    "pred_sets = predict_conformal_sets(model, X_test, q_hat)"
   ]
  },
  {
   "cell_type": "code",
   "execution_count": 54,
   "id": "d90c9a65-e6db-4f5d-80cd-e68fb7e46829",
   "metadata": {
    "execution": {
     "iopub.execute_input": "2025-07-30T21:02:43.748233Z",
     "iopub.status.busy": "2025-07-30T21:02:43.747397Z",
     "iopub.status.idle": "2025-07-30T21:02:43.754214Z",
     "shell.execute_reply": "2025-07-30T21:02:43.753051Z"
    },
    "papermill": {
     "duration": 0.037085,
     "end_time": "2025-07-30T21:02:43.755951",
     "exception": false,
     "start_time": "2025-07-30T21:02:43.718866",
     "status": "completed"
    },
    "tags": []
   },
   "outputs": [],
   "source": [
    "y_true = y_true.squeeze()"
   ]
  },
  {
   "cell_type": "code",
   "execution_count": 55,
   "id": "3a58a54a-1e68-46b9-927a-df01f18aebc8",
   "metadata": {
    "execution": {
     "iopub.execute_input": "2025-07-30T21:02:43.812219Z",
     "iopub.status.busy": "2025-07-30T21:02:43.811573Z",
     "iopub.status.idle": "2025-07-30T21:02:45.229963Z",
     "shell.execute_reply": "2025-07-30T21:02:45.228935Z"
    },
    "papermill": {
     "duration": 1.448946,
     "end_time": "2025-07-30T21:02:45.231985",
     "exception": false,
     "start_time": "2025-07-30T21:02:43.783039",
     "status": "completed"
    },
    "tags": []
   },
   "outputs": [],
   "source": [
    "from fairness_multiverse.conformal import evaluate_sets\n",
    "\n",
    "# Evaluate coverage and average set size on test data\n",
    "metrics = evaluate_sets(pred_sets, y_true)"
   ]
  },
  {
   "cell_type": "markdown",
   "id": "2b569c12-9aaa-4c88-98c9-bbcd0cf3ebb8",
   "metadata": {
    "papermill": {
     "duration": 0.027781,
     "end_time": "2025-07-30T21:02:45.287702",
     "exception": false,
     "start_time": "2025-07-30T21:02:45.259921",
     "status": "completed"
    },
    "tags": []
   },
   "source": [
    "# CP Metrics"
   ]
  },
  {
   "cell_type": "code",
   "execution_count": 56,
   "id": "5ce0a5cb-201f-45a0-ade5-94c7f0bd6095",
   "metadata": {
    "execution": {
     "iopub.execute_input": "2025-07-30T21:02:45.345261Z",
     "iopub.status.busy": "2025-07-30T21:02:45.344782Z",
     "iopub.status.idle": "2025-07-30T21:02:45.352282Z",
     "shell.execute_reply": "2025-07-30T21:02:45.351377Z"
    },
    "papermill": {
     "duration": 0.038197,
     "end_time": "2025-07-30T21:02:45.354013",
     "exception": false,
     "start_time": "2025-07-30T21:02:45.315816",
     "status": "completed"
    },
    "tags": []
   },
   "outputs": [
    {
     "data": {
      "text/plain": [
       "{'coverage': 0.9102664140006688, 'avg_size': 1.1372199308884183}"
      ]
     },
     "execution_count": 56,
     "metadata": {},
     "output_type": "execute_result"
    }
   ],
   "source": [
    "metrics"
   ]
  },
  {
   "cell_type": "code",
   "execution_count": 57,
   "id": "9b9a838d-31c9-430b-ae14-12baee460d17",
   "metadata": {
    "execution": {
     "iopub.execute_input": "2025-07-30T21:02:45.411914Z",
     "iopub.status.busy": "2025-07-30T21:02:45.411141Z",
     "iopub.status.idle": "2025-07-30T21:02:45.418488Z",
     "shell.execute_reply": "2025-07-30T21:02:45.417437Z"
    },
    "papermill": {
     "duration": 0.038081,
     "end_time": "2025-07-30T21:02:45.420428",
     "exception": false,
     "start_time": "2025-07-30T21:02:45.382347",
     "status": "completed"
    },
    "tags": []
   },
   "outputs": [],
   "source": [
    "example_universe = universe.copy()\n",
    "universe_training_year = example_universe.get(\"training_year\")\n",
    "universe_training_size = example_universe.get(\"training_size\")\n",
    "universe_scale = example_universe.get(\"scale\")\n",
    "universe_model = example_universe.get(\"model\")\n",
    "universe_exclude_features = example_universe.get(\"exclude_features\")\n",
    "universe_exclude_subgroups = example_universe.get(\"exclude_subgroups\")"
   ]
  },
  {
   "cell_type": "code",
   "execution_count": 58,
   "id": "f4b6a8ac-9dc0-4245-8a91-5b3b5999c4f9",
   "metadata": {
    "execution": {
     "iopub.execute_input": "2025-07-30T21:02:45.478924Z",
     "iopub.status.busy": "2025-07-30T21:02:45.478459Z",
     "iopub.status.idle": "2025-07-30T21:02:45.485526Z",
     "shell.execute_reply": "2025-07-30T21:02:45.484450Z"
    },
    "papermill": {
     "duration": 0.038209,
     "end_time": "2025-07-30T21:02:45.487220",
     "exception": false,
     "start_time": "2025-07-30T21:02:45.449011",
     "status": "completed"
    },
    "tags": []
   },
   "outputs": [],
   "source": [
    "cp_metrics_dict = {\n",
    "    \"universe_id\": [universe_id],\n",
    "    \"universe_training_year\": [universe_training_year],\n",
    "    \"universe_training_size\": [universe_training_size],\n",
    "    \"universe_scale\": [universe_scale],\n",
    "    \"universe_model\": [universe_model],\n",
    "    \"universe_exclude_features\": [universe_exclude_features],\n",
    "    \"universe_exclude_subgroups\": [universe_exclude_subgroups],\n",
    "    \"q_hat\": [q_hat],\n",
    "    \"coverage\": [metrics[\"coverage\"]],\n",
    "    \"avg_size\": [metrics[\"avg_size\"]],\n",
    "}"
   ]
  },
  {
   "cell_type": "code",
   "execution_count": 59,
   "id": "908acbb1-0371-4915-85ca-3fa520d2efe2",
   "metadata": {
    "execution": {
     "iopub.execute_input": "2025-07-30T21:02:45.539521Z",
     "iopub.status.busy": "2025-07-30T21:02:45.539124Z",
     "iopub.status.idle": "2025-07-30T21:02:45.546807Z",
     "shell.execute_reply": "2025-07-30T21:02:45.545788Z"
    },
    "papermill": {
     "duration": 0.036466,
     "end_time": "2025-07-30T21:02:45.548398",
     "exception": false,
     "start_time": "2025-07-30T21:02:45.511932",
     "status": "completed"
    },
    "tags": []
   },
   "outputs": [
    {
     "data": {
      "text/plain": [
       "{'universe_id': ['3dc49f795517d0959d7f441c87b53566'],\n",
       " 'universe_training_year': ['2012_14'],\n",
       " 'universe_training_size': ['5k'],\n",
       " 'universe_scale': ['scale'],\n",
       " 'universe_model': ['elasticnet'],\n",
       " 'universe_exclude_features': ['age'],\n",
       " 'universe_exclude_subgroups': ['keep-all'],\n",
       " 'q_hat': [0.6896802330328337],\n",
       " 'coverage': [0.9102664140006688],\n",
       " 'avg_size': [1.1372199308884183]}"
      ]
     },
     "execution_count": 59,
     "metadata": {},
     "output_type": "execute_result"
    }
   ],
   "source": [
    "cp_metrics_dict"
   ]
  },
  {
   "cell_type": "code",
   "execution_count": 60,
   "id": "33007efc-14e9-4ec6-97ac-56a455c82265",
   "metadata": {
    "execution": {
     "iopub.execute_input": "2025-07-30T21:02:45.611202Z",
     "iopub.status.busy": "2025-07-30T21:02:45.610626Z",
     "iopub.status.idle": "2025-07-30T21:02:45.618302Z",
     "shell.execute_reply": "2025-07-30T21:02:45.616821Z"
    },
    "papermill": {
     "duration": 0.045876,
     "end_time": "2025-07-30T21:02:45.620553",
     "exception": false,
     "start_time": "2025-07-30T21:02:45.574677",
     "status": "completed"
    },
    "tags": []
   },
   "outputs": [],
   "source": [
    "cp_metrics_df = pd.DataFrame(cp_metrics_dict)"
   ]
  },
  {
   "cell_type": "code",
   "execution_count": 61,
   "id": "db12611b-57b2-4910-b9d0-355adfd6e7bf",
   "metadata": {
    "execution": {
     "iopub.execute_input": "2025-07-30T21:02:45.693493Z",
     "iopub.status.busy": "2025-07-30T21:02:45.692451Z",
     "iopub.status.idle": "2025-07-30T21:02:45.713025Z",
     "shell.execute_reply": "2025-07-30T21:02:45.711877Z"
    },
    "papermill": {
     "duration": 0.058931,
     "end_time": "2025-07-30T21:02:45.714641",
     "exception": false,
     "start_time": "2025-07-30T21:02:45.655710",
     "status": "completed"
    },
    "tags": []
   },
   "outputs": [
    {
     "data": {
      "text/html": [
       "<div>\n",
       "<style scoped>\n",
       "    .dataframe tbody tr th:only-of-type {\n",
       "        vertical-align: middle;\n",
       "    }\n",
       "\n",
       "    .dataframe tbody tr th {\n",
       "        vertical-align: top;\n",
       "    }\n",
       "\n",
       "    .dataframe thead th {\n",
       "        text-align: right;\n",
       "    }\n",
       "</style>\n",
       "<table border=\"1\" class=\"dataframe\">\n",
       "  <thead>\n",
       "    <tr style=\"text-align: right;\">\n",
       "      <th></th>\n",
       "      <th>universe_id</th>\n",
       "      <th>universe_training_year</th>\n",
       "      <th>universe_training_size</th>\n",
       "      <th>universe_scale</th>\n",
       "      <th>universe_model</th>\n",
       "      <th>universe_exclude_features</th>\n",
       "      <th>universe_exclude_subgroups</th>\n",
       "      <th>q_hat</th>\n",
       "      <th>coverage</th>\n",
       "      <th>avg_size</th>\n",
       "    </tr>\n",
       "  </thead>\n",
       "  <tbody>\n",
       "    <tr>\n",
       "      <th>0</th>\n",
       "      <td>3dc49f795517d0959d7f441c87b53566</td>\n",
       "      <td>2012_14</td>\n",
       "      <td>5k</td>\n",
       "      <td>scale</td>\n",
       "      <td>elasticnet</td>\n",
       "      <td>age</td>\n",
       "      <td>keep-all</td>\n",
       "      <td>0.68968</td>\n",
       "      <td>0.910266</td>\n",
       "      <td>1.13722</td>\n",
       "    </tr>\n",
       "  </tbody>\n",
       "</table>\n",
       "</div>"
      ],
      "text/plain": [
       "                        universe_id universe_training_year  \\\n",
       "0  3dc49f795517d0959d7f441c87b53566                2012_14   \n",
       "\n",
       "  universe_training_size universe_scale universe_model  \\\n",
       "0                     5k          scale     elasticnet   \n",
       "\n",
       "  universe_exclude_features universe_exclude_subgroups    q_hat  coverage  \\\n",
       "0                       age                   keep-all  0.68968  0.910266   \n",
       "\n",
       "   avg_size  \n",
       "0   1.13722  "
      ]
     },
     "execution_count": 61,
     "metadata": {},
     "output_type": "execute_result"
    }
   ],
   "source": [
    "cp_metrics_df"
   ]
  },
  {
   "cell_type": "code",
   "execution_count": 62,
   "id": "b7fbde55-a0a1-47e4-9af6-fe4a17fa8c61",
   "metadata": {
    "execution": {
     "iopub.execute_input": "2025-07-30T21:02:45.764500Z",
     "iopub.status.busy": "2025-07-30T21:02:45.763948Z",
     "iopub.status.idle": "2025-07-30T21:02:45.769782Z",
     "shell.execute_reply": "2025-07-30T21:02:45.768740Z"
    },
    "papermill": {
     "duration": 0.032883,
     "end_time": "2025-07-30T21:02:45.771717",
     "exception": false,
     "start_time": "2025-07-30T21:02:45.738834",
     "status": "completed"
    },
    "tags": []
   },
   "outputs": [],
   "source": [
    "# Conditional Coverage & looking at subgroups"
   ]
  },
  {
   "cell_type": "code",
   "execution_count": 63,
   "id": "027ae886-68dd-4141-96c7-805a5450e1ef",
   "metadata": {
    "execution": {
     "iopub.execute_input": "2025-07-30T21:02:45.831782Z",
     "iopub.status.busy": "2025-07-30T21:02:45.831316Z",
     "iopub.status.idle": "2025-07-30T21:02:46.099298Z",
     "shell.execute_reply": "2025-07-30T21:02:46.098349Z"
    },
    "papermill": {
     "duration": 0.300342,
     "end_time": "2025-07-30T21:02:46.101058",
     "exception": false,
     "start_time": "2025-07-30T21:02:45.800716",
     "status": "completed"
    },
    "tags": []
   },
   "outputs": [],
   "source": [
    "from fairness_multiverse.conformal import build_cp_groups\n",
    "\n",
    "cp_groups_df = build_cp_groups(pred_sets, y_true, X_test.index, org_test)\n",
    "#needs universe_id and setting"
   ]
  },
  {
   "cell_type": "code",
   "execution_count": 64,
   "id": "01d5802c-663a-4d1f-9d69-e036faaffbf7",
   "metadata": {
    "execution": {
     "iopub.execute_input": "2025-07-30T21:02:46.148556Z",
     "iopub.status.busy": "2025-07-30T21:02:46.148091Z",
     "iopub.status.idle": "2025-07-30T21:02:46.155678Z",
     "shell.execute_reply": "2025-07-30T21:02:46.153220Z"
    },
    "papermill": {
     "duration": 0.038873,
     "end_time": "2025-07-30T21:02:46.157506",
     "exception": false,
     "start_time": "2025-07-30T21:02:46.118633",
     "status": "completed"
    },
    "tags": []
   },
   "outputs": [],
   "source": [
    "#delete\n",
    "#cp_groups_df"
   ]
  },
  {
   "cell_type": "code",
   "execution_count": 65,
   "id": "fa424af1-d1eb-443d-b717-2d279ada8408",
   "metadata": {
    "execution": {
     "iopub.execute_input": "2025-07-30T21:02:46.210132Z",
     "iopub.status.busy": "2025-07-30T21:02:46.209383Z",
     "iopub.status.idle": "2025-07-30T21:02:46.214466Z",
     "shell.execute_reply": "2025-07-30T21:02:46.213441Z"
    },
    "papermill": {
     "duration": 0.032712,
     "end_time": "2025-07-30T21:02:46.216046",
     "exception": false,
     "start_time": "2025-07-30T21:02:46.183334",
     "status": "completed"
    },
    "tags": []
   },
   "outputs": [],
   "source": [
    "#delete\n",
    "#percentage = (cp_groups_df['nongerman_female'] == 1).mean() * 100\n",
    "#print(percentage)\n"
   ]
  },
  {
   "cell_type": "code",
   "execution_count": 66,
   "id": "6cbdab96-b2b2-45af-ad54-d0516db2e28d",
   "metadata": {
    "execution": {
     "iopub.execute_input": "2025-07-30T21:02:46.267057Z",
     "iopub.status.busy": "2025-07-30T21:02:46.266213Z",
     "iopub.status.idle": "2025-07-30T21:02:47.781572Z",
     "shell.execute_reply": "2025-07-30T21:02:47.780634Z"
    },
    "papermill": {
     "duration": 1.542484,
     "end_time": "2025-07-30T21:02:47.783465",
     "exception": false,
     "start_time": "2025-07-30T21:02:46.240981",
     "status": "completed"
    },
    "tags": []
   },
   "outputs": [],
   "source": [
    "# Define covered = 1 if true_label is in the predicted set\n",
    "cp_groups_df['covered'] = cp_groups_df.apply(\n",
    "    lambda r: int(r['true_label'] in r['pred_set']),\n",
    "    axis=1\n",
    ")"
   ]
  },
  {
   "cell_type": "code",
   "execution_count": 67,
   "id": "338ff529-1a6b-4b87-a931-8e4788d52aad",
   "metadata": {
    "execution": {
     "iopub.execute_input": "2025-07-30T21:02:47.816218Z",
     "iopub.status.busy": "2025-07-30T21:02:47.815826Z",
     "iopub.status.idle": "2025-07-30T21:02:47.820869Z",
     "shell.execute_reply": "2025-07-30T21:02:47.819911Z"
    },
    "papermill": {
     "duration": 0.020757,
     "end_time": "2025-07-30T21:02:47.822355",
     "exception": false,
     "start_time": "2025-07-30T21:02:47.801598",
     "status": "completed"
    },
    "tags": []
   },
   "outputs": [],
   "source": [
    "#cp_groups_df"
   ]
  },
  {
   "cell_type": "code",
   "execution_count": 68,
   "id": "90032e27-66df-4540-9169-4e89cfbaa758",
   "metadata": {
    "execution": {
     "iopub.execute_input": "2025-07-30T21:02:47.877221Z",
     "iopub.status.busy": "2025-07-30T21:02:47.876560Z",
     "iopub.status.idle": "2025-07-30T21:02:47.886303Z",
     "shell.execute_reply": "2025-07-30T21:02:47.885620Z"
    },
    "papermill": {
     "duration": 0.038613,
     "end_time": "2025-07-30T21:02:47.887507",
     "exception": false,
     "start_time": "2025-07-30T21:02:47.848894",
     "status": "completed"
    },
    "tags": []
   },
   "outputs": [],
   "source": [
    "subgroups = ['frau1','nongerman','nongerman_male','nongerman_female']\n",
    "\n",
    "# Conditional coverage for subgroup==1\n",
    "cond_coverage = {\n",
    "    g: cp_groups_df.loc[cp_groups_df[g]==1, 'covered'].mean()\n",
    "    for g in subgroups\n",
    "}"
   ]
  },
  {
   "cell_type": "code",
   "execution_count": 69,
   "id": "1e348fb1-b9c3-45bc-ba23-f016827a7e0d",
   "metadata": {
    "execution": {
     "iopub.execute_input": "2025-07-30T21:02:47.939907Z",
     "iopub.status.busy": "2025-07-30T21:02:47.939459Z",
     "iopub.status.idle": "2025-07-30T21:02:47.946197Z",
     "shell.execute_reply": "2025-07-30T21:02:47.945092Z"
    },
    "papermill": {
     "duration": 0.035726,
     "end_time": "2025-07-30T21:02:47.947729",
     "exception": false,
     "start_time": "2025-07-30T21:02:47.912003",
     "status": "completed"
    },
    "tags": []
   },
   "outputs": [
    {
     "data": {
      "text/plain": [
       "{'frau1': 0.9053511254886103,\n",
       " 'nongerman': 0.9104586537921743,\n",
       " 'nongerman_male': 0.9279474016031704,\n",
       " 'nongerman_female': 0.8815201192250373}"
      ]
     },
     "execution_count": 69,
     "metadata": {},
     "output_type": "execute_result"
    }
   ],
   "source": [
    "cond_coverage"
   ]
  },
  {
   "cell_type": "code",
   "execution_count": 70,
   "id": "f5093324-c3dd-4d63-bc4c-8d945e5c8bbb",
   "metadata": {
    "execution": {
     "iopub.execute_input": "2025-07-30T21:02:47.997998Z",
     "iopub.status.busy": "2025-07-30T21:02:47.997341Z",
     "iopub.status.idle": "2025-07-30T21:02:48.006035Z",
     "shell.execute_reply": "2025-07-30T21:02:48.004988Z"
    },
    "papermill": {
     "duration": 0.035061,
     "end_time": "2025-07-30T21:02:48.007587",
     "exception": false,
     "start_time": "2025-07-30T21:02:47.972526",
     "status": "completed"
    },
    "tags": []
   },
   "outputs": [],
   "source": [
    "for subgroup, cov in cond_coverage.items():\n",
    "    cp_metrics_df[f\"cov_{subgroup}\"] = cov"
   ]
  },
  {
   "cell_type": "code",
   "execution_count": 71,
   "id": "6e872e10-dbe5-49e8-b554-5030c98ff75d",
   "metadata": {
    "execution": {
     "iopub.execute_input": "2025-07-30T21:02:48.059139Z",
     "iopub.status.busy": "2025-07-30T21:02:48.058504Z",
     "iopub.status.idle": "2025-07-30T21:02:48.079570Z",
     "shell.execute_reply": "2025-07-30T21:02:48.078571Z"
    },
    "papermill": {
     "duration": 0.047606,
     "end_time": "2025-07-30T21:02:48.081056",
     "exception": false,
     "start_time": "2025-07-30T21:02:48.033450",
     "status": "completed"
    },
    "tags": []
   },
   "outputs": [
    {
     "data": {
      "text/html": [
       "<div>\n",
       "<style scoped>\n",
       "    .dataframe tbody tr th:only-of-type {\n",
       "        vertical-align: middle;\n",
       "    }\n",
       "\n",
       "    .dataframe tbody tr th {\n",
       "        vertical-align: top;\n",
       "    }\n",
       "\n",
       "    .dataframe thead th {\n",
       "        text-align: right;\n",
       "    }\n",
       "</style>\n",
       "<table border=\"1\" class=\"dataframe\">\n",
       "  <thead>\n",
       "    <tr style=\"text-align: right;\">\n",
       "      <th></th>\n",
       "      <th>universe_id</th>\n",
       "      <th>universe_training_year</th>\n",
       "      <th>universe_training_size</th>\n",
       "      <th>universe_scale</th>\n",
       "      <th>universe_model</th>\n",
       "      <th>universe_exclude_features</th>\n",
       "      <th>universe_exclude_subgroups</th>\n",
       "      <th>q_hat</th>\n",
       "      <th>coverage</th>\n",
       "      <th>avg_size</th>\n",
       "      <th>cov_frau1</th>\n",
       "      <th>cov_nongerman</th>\n",
       "      <th>cov_nongerman_male</th>\n",
       "      <th>cov_nongerman_female</th>\n",
       "    </tr>\n",
       "  </thead>\n",
       "  <tbody>\n",
       "    <tr>\n",
       "      <th>0</th>\n",
       "      <td>3dc49f795517d0959d7f441c87b53566</td>\n",
       "      <td>2012_14</td>\n",
       "      <td>5k</td>\n",
       "      <td>scale</td>\n",
       "      <td>elasticnet</td>\n",
       "      <td>age</td>\n",
       "      <td>keep-all</td>\n",
       "      <td>0.68968</td>\n",
       "      <td>0.910266</td>\n",
       "      <td>1.13722</td>\n",
       "      <td>0.905351</td>\n",
       "      <td>0.910459</td>\n",
       "      <td>0.927947</td>\n",
       "      <td>0.88152</td>\n",
       "    </tr>\n",
       "  </tbody>\n",
       "</table>\n",
       "</div>"
      ],
      "text/plain": [
       "                        universe_id universe_training_year  \\\n",
       "0  3dc49f795517d0959d7f441c87b53566                2012_14   \n",
       "\n",
       "  universe_training_size universe_scale universe_model  \\\n",
       "0                     5k          scale     elasticnet   \n",
       "\n",
       "  universe_exclude_features universe_exclude_subgroups    q_hat  coverage  \\\n",
       "0                       age                   keep-all  0.68968  0.910266   \n",
       "\n",
       "   avg_size  cov_frau1  cov_nongerman  cov_nongerman_male  \\\n",
       "0   1.13722   0.905351       0.910459            0.927947   \n",
       "\n",
       "   cov_nongerman_female  \n",
       "0               0.88152  "
      ]
     },
     "execution_count": 71,
     "metadata": {},
     "output_type": "execute_result"
    }
   ],
   "source": [
    "cp_metrics_df"
   ]
  },
  {
   "cell_type": "markdown",
   "id": "33774451",
   "metadata": {
    "papermill": {
     "duration": 0.02394,
     "end_time": "2025-07-30T21:02:48.129687",
     "exception": false,
     "start_time": "2025-07-30T21:02:48.105747",
     "status": "completed"
    },
    "tags": []
   },
   "source": [
    "# (Fairness) Metrics"
   ]
  },
  {
   "cell_type": "code",
   "execution_count": 72,
   "id": "debc5d62",
   "metadata": {
    "execution": {
     "iopub.execute_input": "2025-07-30T21:02:48.181109Z",
     "iopub.status.busy": "2025-07-30T21:02:48.180334Z",
     "iopub.status.idle": "2025-07-30T21:02:48.204427Z",
     "shell.execute_reply": "2025-07-30T21:02:48.203235Z"
    },
    "papermill": {
     "duration": 0.052595,
     "end_time": "2025-07-30T21:02:48.206398",
     "exception": false,
     "start_time": "2025-07-30T21:02:48.153803",
     "status": "completed"
    },
    "tags": []
   },
   "outputs": [],
   "source": [
    "# do I need to include maxdeutsch1.missing?\n",
    "\n",
    "import numpy as np\n",
    "\n",
    "colname_to_bin = \"maxdeutsch1\"\n",
    "majority_value = org_train[colname_to_bin].mode()[0]\n",
    "\n",
    "org_test[\"majmin\"] = np.where(org_test[colname_to_bin] == majority_value, \"majority\", \"minority\")"
   ]
  },
  {
   "cell_type": "code",
   "execution_count": 73,
   "id": "06a50de5",
   "metadata": {
    "execution": {
     "iopub.execute_input": "2025-07-30T21:02:48.258716Z",
     "iopub.status.busy": "2025-07-30T21:02:48.258059Z",
     "iopub.status.idle": "2025-07-30T21:02:50.559675Z",
     "shell.execute_reply": "2025-07-30T21:02:50.558931Z"
    },
    "papermill": {
     "duration": 2.329216,
     "end_time": "2025-07-30T21:02:50.561155",
     "exception": false,
     "start_time": "2025-07-30T21:02:48.231939",
     "status": "completed"
    },
    "tags": []
   },
   "outputs": [],
   "source": [
    "example_universe = universe.copy()\n",
    "example_universe[\"cutoff\"] = example_universe[\"cutoff\"][0]\n",
    "example_universe[\"eval_fairness_grouping\"] = example_universe[\"eval_fairness_grouping\"][0]\n",
    "fairness_dict, metric_frame = universe_analysis.compute_metrics(\n",
    "    example_universe,\n",
    "    y_pred_prob=probs_test,\n",
    "    y_test=y_true,\n",
    "    org_test=org_test,\n",
    ")"
   ]
  },
  {
   "cell_type": "markdown",
   "id": "f95d4e02",
   "metadata": {
    "papermill": {
     "duration": 0.013428,
     "end_time": "2025-07-30T21:02:50.588810",
     "exception": false,
     "start_time": "2025-07-30T21:02:50.575382",
     "status": "completed"
    },
    "tags": []
   },
   "source": [
    "# Overall"
   ]
  },
  {
   "cell_type": "markdown",
   "id": "bdee4871",
   "metadata": {
    "papermill": {
     "duration": 0.013184,
     "end_time": "2025-07-30T21:02:50.614943",
     "exception": false,
     "start_time": "2025-07-30T21:02:50.601759",
     "status": "completed"
    },
    "tags": []
   },
   "source": [
    "Fairness\n",
    "Main fairness target: Equalized Odds. Seems to be a better fit than equal opportunity, since we're not only interested in Y = 1. Seems to be a better fit than demographic parity, since we also care about accuracy, not just equal distribution of preds.\n",
    "\n",
    "Pick column for computation of fairness metrics\n",
    "\n",
    "Performance\n",
    "Overall performance measures, most interesting in relation to the measures split by group below"
   ]
  },
  {
   "cell_type": "code",
   "execution_count": 74,
   "id": "c4e067c6",
   "metadata": {
    "execution": {
     "iopub.execute_input": "2025-07-30T21:02:50.643395Z",
     "iopub.status.busy": "2025-07-30T21:02:50.643043Z",
     "iopub.status.idle": "2025-07-30T21:02:50.650015Z",
     "shell.execute_reply": "2025-07-30T21:02:50.649321Z"
    },
    "papermill": {
     "duration": 0.022892,
     "end_time": "2025-07-30T21:02:50.651337",
     "exception": false,
     "start_time": "2025-07-30T21:02:50.628445",
     "status": "completed"
    },
    "tags": []
   },
   "outputs": [
    {
     "data": {
      "text/plain": [
       "accuracy                   0.224044\n",
       "balanced accuracy          0.547888\n",
       "f1                         0.245385\n",
       "precision                  0.140180\n",
       "false positive rate        0.887714\n",
       "false negative rate        0.016510\n",
       "selection rate             0.900000\n",
       "count                  89710.000000\n",
       "dtype: float64"
      ]
     },
     "execution_count": 74,
     "metadata": {},
     "output_type": "execute_result"
    }
   ],
   "source": [
    "metric_frame.overall"
   ]
  },
  {
   "cell_type": "markdown",
   "id": "e968fe9d",
   "metadata": {
    "papermill": {
     "duration": 0.028682,
     "end_time": "2025-07-30T21:02:50.695065",
     "exception": false,
     "start_time": "2025-07-30T21:02:50.666383",
     "status": "completed"
    },
    "tags": []
   },
   "source": [
    "By Group"
   ]
  },
  {
   "cell_type": "code",
   "execution_count": 75,
   "id": "ec325bce",
   "metadata": {
    "execution": {
     "iopub.execute_input": "2025-07-30T21:02:50.752777Z",
     "iopub.status.busy": "2025-07-30T21:02:50.752317Z",
     "iopub.status.idle": "2025-07-30T21:02:50.771093Z",
     "shell.execute_reply": "2025-07-30T21:02:50.769953Z"
    },
    "papermill": {
     "duration": 0.049409,
     "end_time": "2025-07-30T21:02:50.772591",
     "exception": false,
     "start_time": "2025-07-30T21:02:50.723182",
     "status": "completed"
    },
    "tags": []
   },
   "outputs": [
    {
     "data": {
      "text/html": [
       "<div>\n",
       "<style scoped>\n",
       "    .dataframe tbody tr th:only-of-type {\n",
       "        vertical-align: middle;\n",
       "    }\n",
       "\n",
       "    .dataframe tbody tr th {\n",
       "        vertical-align: top;\n",
       "    }\n",
       "\n",
       "    .dataframe thead th {\n",
       "        text-align: right;\n",
       "    }\n",
       "</style>\n",
       "<table border=\"1\" class=\"dataframe\">\n",
       "  <thead>\n",
       "    <tr style=\"text-align: right;\">\n",
       "      <th></th>\n",
       "      <th>accuracy</th>\n",
       "      <th>balanced accuracy</th>\n",
       "      <th>f1</th>\n",
       "      <th>precision</th>\n",
       "      <th>false positive rate</th>\n",
       "      <th>false negative rate</th>\n",
       "      <th>selection rate</th>\n",
       "      <th>count</th>\n",
       "    </tr>\n",
       "    <tr>\n",
       "      <th>majmin</th>\n",
       "      <th></th>\n",
       "      <th></th>\n",
       "      <th></th>\n",
       "      <th></th>\n",
       "      <th></th>\n",
       "      <th></th>\n",
       "      <th></th>\n",
       "      <th></th>\n",
       "    </tr>\n",
       "  </thead>\n",
       "  <tbody>\n",
       "    <tr>\n",
       "      <th>majority</th>\n",
       "      <td>0.24768</td>\n",
       "      <td>0.558497</td>\n",
       "      <td>0.256281</td>\n",
       "      <td>0.147394</td>\n",
       "      <td>0.863968</td>\n",
       "      <td>0.019037</td>\n",
       "      <td>0.879427</td>\n",
       "      <td>69170.0</td>\n",
       "    </tr>\n",
       "    <tr>\n",
       "      <th>minority</th>\n",
       "      <td>0.14445</td>\n",
       "      <td>0.513543</td>\n",
       "      <td>0.211159</td>\n",
       "      <td>0.118138</td>\n",
       "      <td>0.966157</td>\n",
       "      <td>0.006757</td>\n",
       "      <td>0.969279</td>\n",
       "      <td>20540.0</td>\n",
       "    </tr>\n",
       "  </tbody>\n",
       "</table>\n",
       "</div>"
      ],
      "text/plain": [
       "          accuracy  balanced accuracy        f1  precision  \\\n",
       "majmin                                                       \n",
       "majority   0.24768           0.558497  0.256281   0.147394   \n",
       "minority   0.14445           0.513543  0.211159   0.118138   \n",
       "\n",
       "          false positive rate  false negative rate  selection rate    count  \n",
       "majmin                                                                       \n",
       "majority             0.863968             0.019037        0.879427  69170.0  \n",
       "minority             0.966157             0.006757        0.969279  20540.0  "
      ]
     },
     "execution_count": 75,
     "metadata": {},
     "output_type": "execute_result"
    }
   ],
   "source": [
    "metric_frame.by_group"
   ]
  },
  {
   "cell_type": "code",
   "execution_count": 76,
   "id": "a9ddbe63",
   "metadata": {
    "execution": {
     "iopub.execute_input": "2025-07-30T21:02:50.802630Z",
     "iopub.status.busy": "2025-07-30T21:02:50.802065Z",
     "iopub.status.idle": "2025-07-30T21:02:52.906561Z",
     "shell.execute_reply": "2025-07-30T21:02:52.905430Z"
    },
    "papermill": {
     "duration": 2.120457,
     "end_time": "2025-07-30T21:02:52.908378",
     "exception": false,
     "start_time": "2025-07-30T21:02:50.787921",
     "status": "completed"
    },
    "tags": []
   },
   "outputs": [
    {
     "data": {
      "text/plain": [
       "array([[<Axes: title={'center': 'accuracy'}, xlabel='majmin'>,\n",
       "        <Axes: title={'center': 'balanced accuracy'}, xlabel='majmin'>,\n",
       "        <Axes: title={'center': 'f1'}, xlabel='majmin'>],\n",
       "       [<Axes: title={'center': 'precision'}, xlabel='majmin'>,\n",
       "        <Axes: title={'center': 'false positive rate'}, xlabel='majmin'>,\n",
       "        <Axes: title={'center': 'false negative rate'}, xlabel='majmin'>],\n",
       "       [<Axes: title={'center': 'selection rate'}, xlabel='majmin'>,\n",
       "        <Axes: title={'center': 'count'}, xlabel='majmin'>,\n",
       "        <Axes: xlabel='majmin'>]], dtype=object)"
      ]
     },
     "execution_count": 76,
     "metadata": {},
     "output_type": "execute_result"
    },
    {
     "data": {
      "image/png": "[encoded data removed]",
      "text/plain": [
       "<Figure size 1200x800 with 9 Axes>"
      ]
     },
     "metadata": {},
     "output_type": "display_data"
    }
   ],
   "source": [
    "# In a graphic\n",
    "metric_frame.by_group.plot.bar(\n",
    "    subplots=True,\n",
    "    layout=[3, 3],\n",
    "    legend=False,\n",
    "    figsize=[12, 8],\n",
    "    title=\"Show all metrics\",\n",
    ")"
   ]
  },
  {
   "cell_type": "markdown",
   "id": "f57a0bac",
   "metadata": {
    "papermill": {
     "duration": 0.031477,
     "end_time": "2025-07-30T21:02:52.974092",
     "exception": false,
     "start_time": "2025-07-30T21:02:52.942615",
     "status": "completed"
    },
    "tags": []
   },
   "source": [
    "# Final Output"
   ]
  },
  {
   "cell_type": "code",
   "execution_count": 77,
   "id": "96d280a3",
   "metadata": {
    "execution": {
     "iopub.execute_input": "2025-07-30T21:02:53.038392Z",
     "iopub.status.busy": "2025-07-30T21:02:53.037599Z",
     "iopub.status.idle": "2025-07-30T21:02:53.048087Z",
     "shell.execute_reply": "2025-07-30T21:02:53.047095Z"
    },
    "papermill": {
     "duration": 0.044807,
     "end_time": "2025-07-30T21:02:53.049733",
     "exception": false,
     "start_time": "2025-07-30T21:02:53.004926",
     "status": "completed"
    },
    "tags": []
   },
   "outputs": [
    {
     "data": {
      "text/plain": [
       "4"
      ]
     },
     "execution_count": 77,
     "metadata": {},
     "output_type": "execute_result"
    }
   ],
   "source": [
    "sub_universes = universe_analysis.generate_sub_universes()\n",
    "len(sub_universes)"
   ]
  },
  {
   "cell_type": "code",
   "execution_count": 78,
   "id": "92adf7ba",
   "metadata": {
    "execution": {
     "iopub.execute_input": "2025-07-30T21:02:53.114263Z",
     "iopub.status.busy": "2025-07-30T21:02:53.113614Z",
     "iopub.status.idle": "2025-07-30T21:02:53.120082Z",
     "shell.execute_reply": "2025-07-30T21:02:53.119127Z"
    },
    "papermill": {
     "duration": 0.040399,
     "end_time": "2025-07-30T21:02:53.121868",
     "exception": false,
     "start_time": "2025-07-30T21:02:53.081469",
     "status": "completed"
    },
    "tags": []
   },
   "outputs": [],
   "source": [
    "def filter_sub_universe_data(sub_universe, org_test):\n",
    "    # Keep all rows — no filtering\n",
    "    keep_rows_mask = np.ones(org_test.shape[0], dtype=bool)\n",
    "\n",
    "    print(f\"[INFO] Keeping all rows: {keep_rows_mask.sum()} rows retained.\")\n",
    "    return keep_rows_mask"
   ]
  },
  {
   "cell_type": "code",
   "execution_count": 79,
   "id": "4a759155",
   "metadata": {
    "execution": {
     "iopub.execute_input": "2025-07-30T21:02:53.187217Z",
     "iopub.status.busy": "2025-07-30T21:02:53.186573Z",
     "iopub.status.idle": "2025-07-30T21:03:03.148561Z",
     "shell.execute_reply": "2025-07-30T21:03:03.147530Z"
    },
    "papermill": {
     "duration": 9.99697,
     "end_time": "2025-07-30T21:03:03.150467",
     "exception": false,
     "start_time": "2025-07-30T21:02:53.153497",
     "status": "completed"
    },
    "tags": []
   },
   "outputs": [
    {
     "name": "stdout",
     "output_type": "stream",
     "text": [
      "Stopping execution_time clock.\n",
      "[INFO] Keeping all rows: 89710 rows retained.\n"
     ]
    },
    {
     "name": "stdout",
     "output_type": "stream",
     "text": [
      "[INFO] Keeping all rows: 89710 rows retained.\n"
     ]
    },
    {
     "name": "stdout",
     "output_type": "stream",
     "text": [
      "[INFO] Keeping all rows: 89710 rows retained.\n"
     ]
    },
    {
     "name": "stdout",
     "output_type": "stream",
     "text": [
      "[INFO] Keeping all rows: 89710 rows retained.\n"
     ]
    },
    {
     "data": {
      "text/html": [
       "<div>\n",
       "<style scoped>\n",
       "    .dataframe tbody tr th:only-of-type {\n",
       "        vertical-align: middle;\n",
       "    }\n",
       "\n",
       "    .dataframe tbody tr th {\n",
       "        vertical-align: top;\n",
       "    }\n",
       "\n",
       "    .dataframe thead th {\n",
       "        text-align: right;\n",
       "    }\n",
       "</style>\n",
       "<table border=\"1\" class=\"dataframe\">\n",
       "  <thead>\n",
       "    <tr style=\"text-align: right;\">\n",
       "      <th></th>\n",
       "      <th>run_no</th>\n",
       "      <th>universe_id</th>\n",
       "      <th>universe_settings</th>\n",
       "      <th>execution_time</th>\n",
       "      <th>test_size_n</th>\n",
       "      <th>test_size_frac</th>\n",
       "      <th>fair_main_equalized_odds_difference</th>\n",
       "      <th>fair_main_equalized_odds_ratio</th>\n",
       "      <th>fair_main_demographic_parity_difference</th>\n",
       "      <th>fair_main_demographic_parity_ratio</th>\n",
       "      <th>...</th>\n",
       "      <th>perf_grp_precision_0</th>\n",
       "      <th>perf_grp_precision_1</th>\n",
       "      <th>perf_grp_false positive rate_0</th>\n",
       "      <th>perf_grp_false positive rate_1</th>\n",
       "      <th>perf_grp_false negative rate_0</th>\n",
       "      <th>perf_grp_false negative rate_1</th>\n",
       "      <th>perf_grp_selection rate_0</th>\n",
       "      <th>perf_grp_selection rate_1</th>\n",
       "      <th>perf_grp_count_0</th>\n",
       "      <th>perf_grp_count_1</th>\n",
       "    </tr>\n",
       "  </thead>\n",
       "  <tbody>\n",
       "    <tr>\n",
       "      <th>0</th>\n",
       "      <td>14</td>\n",
       "      <td>3dc49f795517d0959d7f441c87b53566</td>\n",
       "      <td>{\"cutoff\": \"quantile_0.1\", \"eval_fairness_grou...</td>\n",
       "      <td>35.807661</td>\n",
       "      <td>89710</td>\n",
       "      <td>1.0</td>\n",
       "      <td>0.102189</td>\n",
       "      <td>0.894232</td>\n",
       "      <td>0.089852</td>\n",
       "      <td>0.90730</td>\n",
       "      <td>...</td>\n",
       "      <td>NaN</td>\n",
       "      <td>NaN</td>\n",
       "      <td>NaN</td>\n",
       "      <td>NaN</td>\n",
       "      <td>NaN</td>\n",
       "      <td>NaN</td>\n",
       "      <td>NaN</td>\n",
       "      <td>NaN</td>\n",
       "      <td>NaN</td>\n",
       "      <td>NaN</td>\n",
       "    </tr>\n",
       "    <tr>\n",
       "      <th>0</th>\n",
       "      <td>14</td>\n",
       "      <td>3dc49f795517d0959d7f441c87b53566</td>\n",
       "      <td>{\"cutoff\": \"quantile_0.1\", \"eval_fairness_grou...</td>\n",
       "      <td>35.807661</td>\n",
       "      <td>89710</td>\n",
       "      <td>1.0</td>\n",
       "      <td>0.102189</td>\n",
       "      <td>0.894232</td>\n",
       "      <td>0.089852</td>\n",
       "      <td>0.90730</td>\n",
       "      <td>...</td>\n",
       "      <td>0.118138</td>\n",
       "      <td>0.147394</td>\n",
       "      <td>0.966157</td>\n",
       "      <td>0.863968</td>\n",
       "      <td>0.006757</td>\n",
       "      <td>0.019037</td>\n",
       "      <td>0.969279</td>\n",
       "      <td>0.879427</td>\n",
       "      <td>20540.0</td>\n",
       "      <td>69170.0</td>\n",
       "    </tr>\n",
       "    <tr>\n",
       "      <th>0</th>\n",
       "      <td>14</td>\n",
       "      <td>3dc49f795517d0959d7f441c87b53566</td>\n",
       "      <td>{\"cutoff\": \"quantile_0.25\", \"eval_fairness_gro...</td>\n",
       "      <td>35.807661</td>\n",
       "      <td>89710</td>\n",
       "      <td>1.0</td>\n",
       "      <td>0.198673</td>\n",
       "      <td>0.773067</td>\n",
       "      <td>0.176049</td>\n",
       "      <td>0.80124</td>\n",
       "      <td>...</td>\n",
       "      <td>NaN</td>\n",
       "      <td>NaN</td>\n",
       "      <td>NaN</td>\n",
       "      <td>NaN</td>\n",
       "      <td>NaN</td>\n",
       "      <td>NaN</td>\n",
       "      <td>NaN</td>\n",
       "      <td>NaN</td>\n",
       "      <td>NaN</td>\n",
       "      <td>NaN</td>\n",
       "    </tr>\n",
       "    <tr>\n",
       "      <th>0</th>\n",
       "      <td>14</td>\n",
       "      <td>3dc49f795517d0959d7f441c87b53566</td>\n",
       "      <td>{\"cutoff\": \"quantile_0.25\", \"eval_fairness_gro...</td>\n",
       "      <td>35.807661</td>\n",
       "      <td>89710</td>\n",
       "      <td>1.0</td>\n",
       "      <td>0.198673</td>\n",
       "      <td>0.773067</td>\n",
       "      <td>0.176049</td>\n",
       "      <td>0.80124</td>\n",
       "      <td>...</td>\n",
       "      <td>0.125543</td>\n",
       "      <td>0.172360</td>\n",
       "      <td>0.875468</td>\n",
       "      <td>0.676795</td>\n",
       "      <td>0.035473</td>\n",
       "      <td>0.074289</td>\n",
       "      <td>0.885735</td>\n",
       "      <td>0.709686</td>\n",
       "      <td>20540.0</td>\n",
       "      <td>69170.0</td>\n",
       "    </tr>\n",
       "  </tbody>\n",
       "</table>\n",
       "<p>4 rows × 50 columns</p>\n",
       "</div>"
      ],
      "text/plain": [
       "  run_no                       universe_id  \\\n",
       "0     14  3dc49f795517d0959d7f441c87b53566   \n",
       "0     14  3dc49f795517d0959d7f441c87b53566   \n",
       "0     14  3dc49f795517d0959d7f441c87b53566   \n",
       "0     14  3dc49f795517d0959d7f441c87b53566   \n",
       "\n",
       "                                   universe_settings  execution_time  \\\n",
       "0  {\"cutoff\": \"quantile_0.1\", \"eval_fairness_grou...       35.807661   \n",
       "0  {\"cutoff\": \"quantile_0.1\", \"eval_fairness_grou...       35.807661   \n",
       "0  {\"cutoff\": \"quantile_0.25\", \"eval_fairness_gro...       35.807661   \n",
       "0  {\"cutoff\": \"quantile_0.25\", \"eval_fairness_gro...       35.807661   \n",
       "\n",
       "   test_size_n  test_size_frac  fair_main_equalized_odds_difference  \\\n",
       "0        89710             1.0                             0.102189   \n",
       "0        89710             1.0                             0.102189   \n",
       "0        89710             1.0                             0.198673   \n",
       "0        89710             1.0                             0.198673   \n",
       "\n",
       "   fair_main_equalized_odds_ratio  fair_main_demographic_parity_difference  \\\n",
       "0                        0.894232                                 0.089852   \n",
       "0                        0.894232                                 0.089852   \n",
       "0                        0.773067                                 0.176049   \n",
       "0                        0.773067                                 0.176049   \n",
       "\n",
       "   fair_main_demographic_parity_ratio  ...  perf_grp_precision_0  \\\n",
       "0                             0.90730  ...                   NaN   \n",
       "0                             0.90730  ...              0.118138   \n",
       "0                             0.80124  ...                   NaN   \n",
       "0                             0.80124  ...              0.125543   \n",
       "\n",
       "   perf_grp_precision_1  perf_grp_false positive rate_0  \\\n",
       "0                   NaN                             NaN   \n",
       "0              0.147394                        0.966157   \n",
       "0                   NaN                             NaN   \n",
       "0              0.172360                        0.875468   \n",
       "\n",
       "   perf_grp_false positive rate_1  perf_grp_false negative rate_0  \\\n",
       "0                             NaN                             NaN   \n",
       "0                        0.863968                        0.006757   \n",
       "0                             NaN                             NaN   \n",
       "0                        0.676795                        0.035473   \n",
       "\n",
       "   perf_grp_false negative rate_1  perf_grp_selection rate_0  \\\n",
       "0                             NaN                        NaN   \n",
       "0                        0.019037                   0.969279   \n",
       "0                             NaN                        NaN   \n",
       "0                        0.074289                   0.885735   \n",
       "\n",
       "   perf_grp_selection rate_1  perf_grp_count_0  perf_grp_count_1  \n",
       "0                        NaN               NaN               NaN  \n",
       "0                   0.879427           20540.0           69170.0  \n",
       "0                        NaN               NaN               NaN  \n",
       "0                   0.709686           20540.0           69170.0  \n",
       "\n",
       "[4 rows x 50 columns]"
      ]
     },
     "execution_count": 79,
     "metadata": {},
     "output_type": "execute_result"
    }
   ],
   "source": [
    "final_output = universe_analysis.generate_final_output(\n",
    "    y_pred_prob=probs_test,\n",
    "    y_test=y_true,\n",
    "    org_test=org_test,\n",
    "    filter_data=filter_sub_universe_data,\n",
    "    cp_metrics_df=cp_metrics_df,\n",
    "    save=True,\n",
    ")\n",
    "final_output"
   ]
  },
  {
   "cell_type": "code",
   "execution_count": null,
   "id": "721ff514-cb11-46f8-b6fc-50392f74b5cb",
   "metadata": {
    "papermill": {
     "duration": 0.030497,
     "end_time": "2025-07-30T21:03:03.213374",
     "exception": false,
     "start_time": "2025-07-30T21:03:03.182877",
     "status": "completed"
    },
    "tags": []
   },
   "outputs": [],
   "source": []
  }
 ],
 "metadata": {
  "celltoolbar": "Tags",
  "kernelspec": {
   "display_name": "Python (CMA Fairness)",
   "language": "python",
   "name": "cma_fair_env"
  },
  "language_info": {
   "codemirror_mode": {
    "name": "ipython",
    "version": 3
   },
   "file_extension": ".py",
   "mimetype": "text/x-python",
   "name": "python",
   "nbconvert_exporter": "python",
   "pygments_lexer": "ipython3",
   "version": "3.10.12"
  },
  "papermill": {
   "default_parameters": {},
   "duration": 49.719371,
   "end_time": "2025-07-30T21:03:04.062925",
   "environment_variables": {},
   "exception": null,
   "input_path": "universe_analysis.ipynb",
   "output_path": "output/runs/14/notebooks/m_14-3dc49f795517d0959d7f441c87b53566.ipynb",
   "parameters": {
    "output_dir": "output",
    "run_no": "14",
    "seed": "2023",
    "universe": "{\"cutoff\": [\"quantile_0.1\", \"quantile_0.25\"], \"eval_fairness_grouping\": [\"majority-minority\", \"nationality-all\"], \"exclude_features\": \"age\", \"exclude_subgroups\": \"keep-all\", \"model\": \"elasticnet\", \"scale\": \"scale\", \"training_size\": \"5k\", \"training_year\": \"2012_14\"}",
    "universe_id": "3dc49f795517d0959d7f441c87b53566"
   },
   "start_time": "2025-07-30T21:02:14.343554",
   "version": "2.6.0"
  }
 },
 "nbformat": 4,
 "nbformat_minor": 5
}