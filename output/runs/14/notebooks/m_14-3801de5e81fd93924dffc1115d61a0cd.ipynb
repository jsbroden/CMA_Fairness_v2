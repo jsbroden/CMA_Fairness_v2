{
 "cells": [
  {
   "cell_type": "code",
   "execution_count": 1,
   "id": "f159f837-637b-42ba-96b5-ec9a68c44524",
   "metadata": {
    "execution": {
     "iopub.execute_input": "2025-07-30T21:45:31.727817Z",
     "iopub.status.busy": "2025-07-30T21:45:31.727336Z",
     "iopub.status.idle": "2025-07-30T21:45:31.741913Z",
     "shell.execute_reply": "2025-07-30T21:45:31.740796Z"
    },
    "papermill": {
     "duration": 0.038046,
     "end_time": "2025-07-30T21:45:31.743921",
     "exception": false,
     "start_time": "2025-07-30T21:45:31.705875",
     "status": "completed"
    },
    "tags": []
   },
   "outputs": [
    {
     "name": "stdout",
     "output_type": "stream",
     "text": [
      "/dss/dsshome1/0C/ra93lal2/cma/CMA_Fairness_v2\n"
     ]
    },
    {
     "name": "stderr",
     "output_type": "stream",
     "text": [
      "/dss/dsshome1/0C/ra93lal2/.local/share/virtualenvs/CMA_Fairness_v2-3j10GkSs/lib/python3.10/site-packages/IPython/core/magics/osm.py:393: UserWarning: This is now an optional IPython functionality, using bookmarks requires you to install the `pickleshare` library.\n",
      "  bkms = self.shell.db.get('bookmarks', {})\n",
      "/dss/dsshome1/0C/ra93lal2/.local/share/virtualenvs/CMA_Fairness_v2-3j10GkSs/lib/python3.10/site-packages/IPython/core/magics/osm.py:417: UserWarning: This is now an optional IPython functionality, setting dhist requires you to install the `pickleshare` library.\n",
      "  self.shell.db['dhist'] = compress_dhist(dhist)[-100:]\n"
     ]
    }
   ],
   "source": [
    "%cd ~/cma/CMA_Fairness_v2"
   ]
  },
  {
   "cell_type": "markdown",
   "id": "de2603b9",
   "metadata": {
    "papermill": {
     "duration": 0.01884,
     "end_time": "2025-07-30T21:45:31.782671",
     "exception": false,
     "start_time": "2025-07-30T21:45:31.763831",
     "status": "completed"
    },
    "tags": []
   },
   "source": [
    "The following cell holds the definition of our parameters, these values can be overriden by rendering the with e.g. the following command:\n",
    "\n",
    "papermill -p alpha 0.2 -p ratio 0.3 universe_analysis.ipynb output/test_run.ipynb"
   ]
  },
  {
   "cell_type": "code",
   "execution_count": 2,
   "id": "a80968a0-40bb-4fa9-85ef-2d5eefb01975",
   "metadata": {
    "execution": {
     "iopub.execute_input": "2025-07-30T21:45:31.822676Z",
     "iopub.status.busy": "2025-07-30T21:45:31.822051Z",
     "iopub.status.idle": "2025-07-30T21:45:31.827579Z",
     "shell.execute_reply": "2025-07-30T21:45:31.826715Z"
    },
    "papermill": {
     "duration": 0.026417,
     "end_time": "2025-07-30T21:45:31.829266",
     "exception": false,
     "start_time": "2025-07-30T21:45:31.802849",
     "status": "completed"
    },
    "tags": []
   },
   "outputs": [
    {
     "name": "stdout",
     "output_type": "stream",
     "text": [
      "Current working directory: /dss/dsshome1/0C/ra93lal2/cma/CMA_Fairness_v2\n"
     ]
    }
   ],
   "source": [
    "import os\n",
    "print(\"Current working directory:\", os.getcwd())"
   ]
  },
  {
   "cell_type": "code",
   "execution_count": 3,
   "id": "2dce4c03",
   "metadata": {
    "execution": {
     "iopub.execute_input": "2025-07-30T21:45:31.871924Z",
     "iopub.status.busy": "2025-07-30T21:45:31.871442Z",
     "iopub.status.idle": "2025-07-30T21:45:31.878034Z",
     "shell.execute_reply": "2025-07-30T21:45:31.877189Z"
    },
    "papermill": {
     "duration": 0.038735,
     "end_time": "2025-07-30T21:45:31.889593",
     "exception": false,
     "start_time": "2025-07-30T21:45:31.850858",
     "status": "completed"
    },
    "tags": [
     "parameters"
    ]
   },
   "outputs": [],
   "source": [
    "run_no = 0\n",
    "universe_id = \"test\"\n",
    "universe = {\n",
    "    \"training_size\": \"25k\", # \"25k\", \"5k\", \"1k\"\n",
    "    \"training_year\": \"2014\", # \"2014\", \"2012_14\", \"2010_14\"\n",
    "    \"scale\": \"scale\", # \"scale\", \"do-not-scale\",\n",
    "    #\"stratify_split\": \"target\", # \"none\", \"target\", \"protected-attribute\", \"both\",\n",
    "    \"model\": \"elasticnet\", # \"logreg\", \"penalized_logreg\", \"rf\", \"gbm\", \"elasticnet\"\n",
    "    \"cutoff\": [\"quantile_0.15\", \"quantile_0.30\"],\n",
    "    \"exclude_features\": \"age\", # \"none\", \"nationality\", \"sex\", \"nationality-sex\", \"age\"\n",
    "    \"exclude_subgroups\": \"keep-all\", # \"keep-all\", \"drop-non-german\"\n",
    "    \"eval_fairness_grouping\": [\"majority-minority\", \"nationality-all\"]\n",
    "}\n",
    "\n",
    "output_dir=\"./output\"\n",
    "seed=0"
   ]
  },
  {
   "cell_type": "code",
   "execution_count": 4,
   "id": "8fa4ab9e",
   "metadata": {
    "execution": {
     "iopub.execute_input": "2025-07-30T21:45:31.943577Z",
     "iopub.status.busy": "2025-07-30T21:45:31.943151Z",
     "iopub.status.idle": "2025-07-30T21:45:31.948467Z",
     "shell.execute_reply": "2025-07-30T21:45:31.947484Z"
    },
    "papermill": {
     "duration": 0.026788,
     "end_time": "2025-07-30T21:45:31.950418",
     "exception": false,
     "start_time": "2025-07-30T21:45:31.923630",
     "status": "completed"
    },
    "tags": [
     "injected-parameters"
    ]
   },
   "outputs": [],
   "source": [
    "# Parameters\n",
    "universe_id = \"3801de5e81fd93924dffc1115d61a0cd\"\n",
    "run_no = \"14\"\n",
    "universe = \"{\\\"cutoff\\\": [\\\"quantile_0.1\\\", \\\"quantile_0.25\\\"], \\\"eval_fairness_grouping\\\": [\\\"majority-minority\\\", \\\"nationality-all\\\"], \\\"exclude_features\\\": \\\"none\\\", \\\"exclude_subgroups\\\": \\\"drop-non-german\\\", \\\"model\\\": \\\"rf\\\", \\\"scale\\\": \\\"scale\\\", \\\"training_size\\\": \\\"1k\\\", \\\"training_year\\\": \\\"2010_14\\\"}\"\n",
    "output_dir = \"output\"\n",
    "seed = \"2023\"\n"
   ]
  },
  {
   "cell_type": "code",
   "execution_count": 5,
   "id": "1650acaf",
   "metadata": {
    "execution": {
     "iopub.execute_input": "2025-07-30T21:45:31.990015Z",
     "iopub.status.busy": "2025-07-30T21:45:31.989432Z",
     "iopub.status.idle": "2025-07-30T21:45:31.994665Z",
     "shell.execute_reply": "2025-07-30T21:45:31.993628Z"
    },
    "papermill": {
     "duration": 0.026148,
     "end_time": "2025-07-30T21:45:31.996319",
     "exception": false,
     "start_time": "2025-07-30T21:45:31.970171",
     "status": "completed"
    },
    "tags": []
   },
   "outputs": [],
   "source": [
    "import json\n",
    "# Parse universe into dict if it is passed as a string\n",
    "if isinstance(universe, str):\n",
    "    universe = json.loads(universe)"
   ]
  },
  {
   "cell_type": "code",
   "execution_count": 6,
   "id": "16620c48",
   "metadata": {
    "execution": {
     "iopub.execute_input": "2025-07-30T21:45:32.036380Z",
     "iopub.status.busy": "2025-07-30T21:45:32.035891Z",
     "iopub.status.idle": "2025-07-30T21:45:32.083463Z",
     "shell.execute_reply": "2025-07-30T21:45:32.082491Z"
    },
    "papermill": {
     "duration": 0.069801,
     "end_time": "2025-07-30T21:45:32.085483",
     "exception": false,
     "start_time": "2025-07-30T21:45:32.015682",
     "status": "completed"
    },
    "tags": []
   },
   "outputs": [],
   "source": [
    "# Auto-reload the custom package\n",
    "%load_ext autoreload\n",
    "%autoreload 1\n",
    "%aimport fairness_multiverse"
   ]
  },
  {
   "cell_type": "code",
   "execution_count": 7,
   "id": "01c5c9f3",
   "metadata": {
    "execution": {
     "iopub.execute_input": "2025-07-30T21:45:32.126431Z",
     "iopub.status.busy": "2025-07-30T21:45:32.125801Z",
     "iopub.status.idle": "2025-07-30T21:45:34.123642Z",
     "shell.execute_reply": "2025-07-30T21:45:34.122626Z"
    },
    "papermill": {
     "duration": 2.019839,
     "end_time": "2025-07-30T21:45:34.125637",
     "exception": false,
     "start_time": "2025-07-30T21:45:32.105798",
     "status": "completed"
    },
    "tags": []
   },
   "outputs": [],
   "source": [
    "from fairness_multiverse.universe import UniverseAnalysis\n",
    "\n",
    "universe_analysis = UniverseAnalysis(\n",
    "    run_no = run_no,\n",
    "    universe_id = universe_id,\n",
    "    universe = universe,\n",
    "    output_dir=output_dir,\n",
    ")"
   ]
  },
  {
   "cell_type": "code",
   "execution_count": 8,
   "id": "106241f5",
   "metadata": {
    "execution": {
     "iopub.execute_input": "2025-07-30T21:45:34.170010Z",
     "iopub.status.busy": "2025-07-30T21:45:34.169543Z",
     "iopub.status.idle": "2025-07-30T21:45:34.177040Z",
     "shell.execute_reply": "2025-07-30T21:45:34.175812Z"
    },
    "papermill": {
     "duration": 0.03204,
     "end_time": "2025-07-30T21:45:34.178732",
     "exception": false,
     "start_time": "2025-07-30T21:45:34.146692",
     "status": "completed"
    },
    "tags": []
   },
   "outputs": [
    {
     "name": "stdout",
     "output_type": "stream",
     "text": [
      "Using Seed: 2023\n"
     ]
    }
   ],
   "source": [
    "import numpy as np\n",
    "parsed_seed = int(seed)\n",
    "np.random.seed(parsed_seed)\n",
    "print(f\"Using Seed: {parsed_seed}\")"
   ]
  },
  {
   "cell_type": "markdown",
   "id": "e0ebdc57",
   "metadata": {
    "papermill": {
     "duration": 0.020166,
     "end_time": "2025-07-30T21:45:34.221548",
     "exception": false,
     "start_time": "2025-07-30T21:45:34.201382",
     "status": "completed"
    },
    "tags": []
   },
   "source": [
    "# Loading Data"
   ]
  },
  {
   "cell_type": "markdown",
   "id": "681925a3",
   "metadata": {
    "papermill": {
     "duration": 0.019864,
     "end_time": "2025-07-30T21:45:34.260978",
     "exception": false,
     "start_time": "2025-07-30T21:45:34.241114",
     "status": "completed"
    },
    "tags": []
   },
   "source": [
    "Load siab_train, siab_test, siab_calib and/or \n",
    "load siab_train_features, siab_train_labels"
   ]
  },
  {
   "cell_type": "code",
   "execution_count": 9,
   "id": "f0496b8a",
   "metadata": {
    "execution": {
     "iopub.execute_input": "2025-07-30T21:45:34.302421Z",
     "iopub.status.busy": "2025-07-30T21:45:34.301726Z",
     "iopub.status.idle": "2025-07-30T21:45:47.433278Z",
     "shell.execute_reply": "2025-07-30T21:45:47.431426Z"
    },
    "papermill": {
     "duration": 13.154534,
     "end_time": "2025-07-30T21:45:47.435482",
     "exception": false,
     "start_time": "2025-07-30T21:45:34.280948",
     "status": "completed"
    },
    "tags": []
   },
   "outputs": [
    {
     "name": "stdout",
     "output_type": "stream",
     "text": [
      "Loading SIAB data from cache: data/siab_cached.csv.gz\n"
     ]
    },
    {
     "name": "stdout",
     "output_type": "stream",
     "text": [
      "(643690, 164)\n"
     ]
    }
   ],
   "source": [
    "from pathlib import Path\n",
    "import pandas as pd\n",
    "\n",
    "# File paths\n",
    "raw_file = Path(\"data/raw/siab.csv\")\n",
    "cache_file = Path(\"data/siab_cached.csv.gz\")\n",
    "\n",
    "# Ensure cache directory exists\n",
    "cache_file.parent.mkdir(parents=True, exist_ok=True)\n",
    "\n",
    "# Load with simple caching\n",
    "if cache_file.exists():\n",
    "    print(f\"Loading SIAB data from cache: {cache_file}\")\n",
    "    siab = pd.read_csv(cache_file, compression='gzip')\n",
    "else:\n",
    "    print(f\"Cache not found. Reading raw SIAB data: {raw_file}\")\n",
    "    siab = pd.read_csv(raw_file)\n",
    "    siab.to_csv(cache_file, index=False, compression='gzip')\n",
    "    print(f\"Cached SIAB data to: {cache_file}\")\n",
    "\n",
    "# Now use `siab` DataFrame as needed\n",
    "print(siab.shape)"
   ]
  },
  {
   "cell_type": "code",
   "execution_count": 10,
   "id": "db0ca512-5f53-4dba-abdb-a2888bca41ba",
   "metadata": {
    "execution": {
     "iopub.execute_input": "2025-07-30T21:45:47.497240Z",
     "iopub.status.busy": "2025-07-30T21:45:47.496567Z",
     "iopub.status.idle": "2025-07-30T21:45:47.503969Z",
     "shell.execute_reply": "2025-07-30T21:45:47.502680Z"
    },
    "papermill": {
     "duration": 0.03758,
     "end_time": "2025-07-30T21:45:47.506007",
     "exception": false,
     "start_time": "2025-07-30T21:45:47.468427",
     "status": "completed"
    },
    "tags": []
   },
   "outputs": [],
   "source": [
    "#siab"
   ]
  },
  {
   "cell_type": "code",
   "execution_count": 11,
   "id": "a0edb063",
   "metadata": {
    "execution": {
     "iopub.execute_input": "2025-07-30T21:45:47.553153Z",
     "iopub.status.busy": "2025-07-30T21:45:47.552206Z",
     "iopub.status.idle": "2025-07-30T21:45:47.558853Z",
     "shell.execute_reply": "2025-07-30T21:45:47.557601Z"
    },
    "papermill": {
     "duration": 0.032646,
     "end_time": "2025-07-30T21:45:47.561333",
     "exception": false,
     "start_time": "2025-07-30T21:45:47.528687",
     "status": "completed"
    },
    "tags": []
   },
   "outputs": [],
   "source": [
    "#import pandas as pd\n",
    "#\n",
    "#X_train = pd.read_csv(\"./data/X_train.csv\")\n",
    "#y_train = pd.read_csv(\"./data/y_train.csv\")"
   ]
  },
  {
   "cell_type": "code",
   "execution_count": 12,
   "id": "63d08085",
   "metadata": {
    "execution": {
     "iopub.execute_input": "2025-07-30T21:45:47.596920Z",
     "iopub.status.busy": "2025-07-30T21:45:47.596539Z",
     "iopub.status.idle": "2025-07-30T21:45:47.600704Z",
     "shell.execute_reply": "2025-07-30T21:45:47.599949Z"
    },
    "papermill": {
     "duration": 0.017111,
     "end_time": "2025-07-30T21:45:47.601981",
     "exception": false,
     "start_time": "2025-07-30T21:45:47.584870",
     "status": "completed"
    },
    "tags": []
   },
   "outputs": [],
   "source": [
    "#X_test = pd.read_csv(\"./data/X_test.csv\")\n",
    "#y_true = pd.read_csv(\"./data/y_test.csv\")"
   ]
  },
  {
   "cell_type": "code",
   "execution_count": 13,
   "id": "98a8d0fa-1d3d-4ed8-bb2c-281470e24add",
   "metadata": {
    "execution": {
     "iopub.execute_input": "2025-07-30T21:45:47.630376Z",
     "iopub.status.busy": "2025-07-30T21:45:47.628948Z",
     "iopub.status.idle": "2025-07-30T21:45:47.634392Z",
     "shell.execute_reply": "2025-07-30T21:45:47.633475Z"
    },
    "papermill": {
     "duration": 0.019044,
     "end_time": "2025-07-30T21:45:47.635844",
     "exception": false,
     "start_time": "2025-07-30T21:45:47.616800",
     "status": "completed"
    },
    "tags": []
   },
   "outputs": [],
   "source": [
    "# Calibration data for conformal\n",
    "#X_calib = pd.read_csv(\"./data/X_calib.csv\")\n",
    "#y_calib = pd.read_csv(\"./data/y_calib.csv\")"
   ]
  },
  {
   "cell_type": "markdown",
   "id": "997051c5-15bd-4b69-9786-c3001a3ce484",
   "metadata": {
    "papermill": {
     "duration": 0.02304,
     "end_time": "2025-07-30T21:45:47.682389",
     "exception": false,
     "start_time": "2025-07-30T21:45:47.659349",
     "status": "completed"
    },
    "tags": []
   },
   "source": [
    "# Splitting Data and Setting Training Data Size"
   ]
  },
  {
   "cell_type": "code",
   "execution_count": 14,
   "id": "e993b61f-042d-41a6-8c81-f55681f86335",
   "metadata": {
    "execution": {
     "iopub.execute_input": "2025-07-30T21:45:47.730324Z",
     "iopub.status.busy": "2025-07-30T21:45:47.729373Z",
     "iopub.status.idle": "2025-07-30T21:45:47.747431Z",
     "shell.execute_reply": "2025-07-30T21:45:47.746245Z"
    },
    "papermill": {
     "duration": 0.044419,
     "end_time": "2025-07-30T21:45:47.749816",
     "exception": false,
     "start_time": "2025-07-30T21:45:47.705397",
     "status": "completed"
    },
    "tags": []
   },
   "outputs": [],
   "source": [
    "def sample_by_year_size(df,\n",
    "                        training_year: str,\n",
    "                        training_size: str,\n",
    "                        random_state: int = 42):\n",
    "    # --- parse training_year into a list of int years ---\n",
    "    if \"_\" in training_year:\n",
    "        start_str, end_str = training_year.split(\"_\", 1)\n",
    "        start = int(start_str)\n",
    "        end   = int(end_str) if len(end_str) == 4 else (int(end_str) + (start // 100)*100)\n",
    "        years = list(range(start, end + 1))\n",
    "    else:\n",
    "        years = [int(training_year)]\n",
    "\n",
    "    df = df[df[\"year\"].isin(years)].reset_index(drop=True)\n",
    "\n",
    "    # --- map training_size to total number of samples ---\n",
    "    total_map = {\"25k\": 25_000, \"5k\": 5_000, \"1k\": 1_000}\n",
    "    if training_size not in total_map:\n",
    "        return df  # e.g. \"all\"\n",
    "\n",
    "    total_samples = total_map[training_size]\n",
    "    n_years       = len(years)\n",
    "    base          = total_samples // n_years\n",
    "    remainder     = total_samples % n_years\n",
    "\n",
    "    # --- build a dict: year -> how many to sample ---\n",
    "    # give +1 to the first `remainder` years in ascending order\n",
    "    quotas = {\n",
    "        year: base + (1 if idx < remainder else 0)\n",
    "        for idx, year in enumerate(sorted(years))\n",
    "    }\n",
    "\n",
    "    # --- sample per‐year according to the quota dict ---\n",
    "    sampled = (\n",
    "        df\n",
    "        .groupby(\"year\", group_keys=False)\n",
    "        .apply(lambda grp: grp.sample(\n",
    "            n=min(len(grp), quotas[grp.name]),\n",
    "            random_state=random_state))\n",
    "        .reset_index(drop=True)\n",
    "    )\n",
    "\n",
    "    return sampled"
   ]
  },
  {
   "cell_type": "code",
   "execution_count": 15,
   "id": "c0ccd338-0e02-41f3-a09d-f56f9266e3fb",
   "metadata": {
    "execution": {
     "iopub.execute_input": "2025-07-30T21:45:47.794316Z",
     "iopub.status.busy": "2025-07-30T21:45:47.793461Z",
     "iopub.status.idle": "2025-07-30T21:45:47.799292Z",
     "shell.execute_reply": "2025-07-30T21:45:47.798169Z"
    },
    "papermill": {
     "duration": 0.02794,
     "end_time": "2025-07-30T21:45:47.801034",
     "exception": false,
     "start_time": "2025-07-30T21:45:47.773094",
     "status": "completed"
    },
    "tags": []
   },
   "outputs": [],
   "source": [
    "#universe[\"training_size\"]"
   ]
  },
  {
   "cell_type": "code",
   "execution_count": 16,
   "id": "ca707fd7-8047-4acd-bfa5-66248fbbf8e6",
   "metadata": {
    "execution": {
     "iopub.execute_input": "2025-07-30T21:45:47.848534Z",
     "iopub.status.busy": "2025-07-30T21:45:47.848061Z",
     "iopub.status.idle": "2025-07-30T21:45:47.853265Z",
     "shell.execute_reply": "2025-07-30T21:45:47.852313Z"
    },
    "papermill": {
     "duration": 0.030644,
     "end_time": "2025-07-30T21:45:47.855008",
     "exception": false,
     "start_time": "2025-07-30T21:45:47.824364",
     "status": "completed"
    },
    "tags": []
   },
   "outputs": [],
   "source": [
    "#universe[\"training_year\"]"
   ]
  },
  {
   "cell_type": "code",
   "execution_count": 17,
   "id": "aea9c6ef-6f46-42c8-85eb-5a62025c1508",
   "metadata": {
    "execution": {
     "iopub.execute_input": "2025-07-30T21:45:47.903958Z",
     "iopub.status.busy": "2025-07-30T21:45:47.903492Z",
     "iopub.status.idle": "2025-07-30T21:45:48.899337Z",
     "shell.execute_reply": "2025-07-30T21:45:48.898326Z"
    },
    "papermill": {
     "duration": 1.022786,
     "end_time": "2025-07-30T21:45:48.901713",
     "exception": false,
     "start_time": "2025-07-30T21:45:47.878927",
     "status": "completed"
    },
    "tags": []
   },
   "outputs": [],
   "source": [
    "siab_train = sample_by_year_size(siab,\n",
    "                               training_year=universe[\"training_year\"],\n",
    "                               training_size=universe[\"training_size\"])"
   ]
  },
  {
   "cell_type": "code",
   "execution_count": 18,
   "id": "8d3afb32-789d-442c-8d5d-9f5aa8dd2eed",
   "metadata": {
    "execution": {
     "iopub.execute_input": "2025-07-30T21:45:48.962107Z",
     "iopub.status.busy": "2025-07-30T21:45:48.961256Z",
     "iopub.status.idle": "2025-07-30T21:45:48.967725Z",
     "shell.execute_reply": "2025-07-30T21:45:48.966364Z"
    },
    "papermill": {
     "duration": 0.039913,
     "end_time": "2025-07-30T21:45:48.970172",
     "exception": false,
     "start_time": "2025-07-30T21:45:48.930259",
     "status": "completed"
    },
    "tags": []
   },
   "outputs": [],
   "source": [
    "#siab_train.shape"
   ]
  },
  {
   "cell_type": "code",
   "execution_count": 19,
   "id": "d582db68-1a4c-47fb-84fc-08518dc1975a",
   "metadata": {
    "execution": {
     "iopub.execute_input": "2025-07-30T21:45:49.027864Z",
     "iopub.status.busy": "2025-07-30T21:45:49.027488Z",
     "iopub.status.idle": "2025-07-30T21:45:49.032632Z",
     "shell.execute_reply": "2025-07-30T21:45:49.031565Z"
    },
    "papermill": {
     "duration": 0.037494,
     "end_time": "2025-07-30T21:45:49.034670",
     "exception": false,
     "start_time": "2025-07-30T21:45:48.997176",
     "status": "completed"
    },
    "tags": []
   },
   "outputs": [],
   "source": [
    "#display(siab_train.groupby(\"year\").size())"
   ]
  },
  {
   "cell_type": "code",
   "execution_count": 20,
   "id": "a561edb4-d032-42cb-8256-22eac1111c64",
   "metadata": {
    "execution": {
     "iopub.execute_input": "2025-07-30T21:45:49.081154Z",
     "iopub.status.busy": "2025-07-30T21:45:49.080818Z",
     "iopub.status.idle": "2025-07-30T21:45:49.324074Z",
     "shell.execute_reply": "2025-07-30T21:45:49.323113Z"
    },
    "papermill": {
     "duration": 0.26759,
     "end_time": "2025-07-30T21:45:49.325931",
     "exception": false,
     "start_time": "2025-07-30T21:45:49.058341",
     "status": "completed"
    },
    "tags": []
   },
   "outputs": [],
   "source": [
    "#siab_train = siab_s[siab_s.year < 2015]\n",
    "siab_calib = siab[siab.year == 2015]\n",
    "siab_test = siab[siab.year == 2016]"
   ]
  },
  {
   "cell_type": "code",
   "execution_count": 21,
   "id": "472de16f-c3db-4916-846b-1f0de9cf1746",
   "metadata": {
    "execution": {
     "iopub.execute_input": "2025-07-30T21:45:49.373660Z",
     "iopub.status.busy": "2025-07-30T21:45:49.373208Z",
     "iopub.status.idle": "2025-07-30T21:45:49.380679Z",
     "shell.execute_reply": "2025-07-30T21:45:49.379342Z"
    },
    "papermill": {
     "duration": 0.034402,
     "end_time": "2025-07-30T21:45:49.382498",
     "exception": false,
     "start_time": "2025-07-30T21:45:49.348096",
     "status": "completed"
    },
    "tags": []
   },
   "outputs": [],
   "source": [
    "X_train = siab_train.iloc[:,4:164]\n",
    "y_train = siab_train.iloc[:, [3]]"
   ]
  },
  {
   "cell_type": "code",
   "execution_count": 22,
   "id": "828c96af-f43a-4ed6-ba47-8ac73a47d56c",
   "metadata": {
    "execution": {
     "iopub.execute_input": "2025-07-30T21:45:49.436619Z",
     "iopub.status.busy": "2025-07-30T21:45:49.435841Z",
     "iopub.status.idle": "2025-07-30T21:45:49.496508Z",
     "shell.execute_reply": "2025-07-30T21:45:49.495221Z"
    },
    "papermill": {
     "duration": 0.092931,
     "end_time": "2025-07-30T21:45:49.498987",
     "exception": false,
     "start_time": "2025-07-30T21:45:49.406056",
     "status": "completed"
    },
    "tags": []
   },
   "outputs": [],
   "source": [
    "X_calib = siab_calib.iloc[:,4:164]\n",
    "y_calib = siab_calib.iloc[:, [3]]"
   ]
  },
  {
   "cell_type": "code",
   "execution_count": 23,
   "id": "c34be9c3-6bd6-476e-acd3-845840e303be",
   "metadata": {
    "execution": {
     "iopub.execute_input": "2025-07-30T21:45:49.546285Z",
     "iopub.status.busy": "2025-07-30T21:45:49.545546Z",
     "iopub.status.idle": "2025-07-30T21:45:49.617652Z",
     "shell.execute_reply": "2025-07-30T21:45:49.616559Z"
    },
    "papermill": {
     "duration": 0.098225,
     "end_time": "2025-07-30T21:45:49.620159",
     "exception": false,
     "start_time": "2025-07-30T21:45:49.521934",
     "status": "completed"
    },
    "tags": []
   },
   "outputs": [],
   "source": [
    "X_test = siab_test.iloc[:,4:164]\n",
    "y_true = siab_test.iloc[:, [3]]"
   ]
  },
  {
   "cell_type": "markdown",
   "id": "9901737e-04df-44f0-9100-f5ad144ed040",
   "metadata": {
    "papermill": {
     "duration": 0.020357,
     "end_time": "2025-07-30T21:45:49.663856",
     "exception": false,
     "start_time": "2025-07-30T21:45:49.643499",
     "status": "completed"
    },
    "tags": []
   },
   "source": [
    "# Splitting Data and Setting Training Data Size OLD VERSION"
   ]
  },
  {
   "cell_type": "code",
   "execution_count": 24,
   "id": "acbc8f7d-8fc8-4e86-8c59-5dcb0f58384b",
   "metadata": {
    "execution": {
     "iopub.execute_input": "2025-07-30T21:45:49.711432Z",
     "iopub.status.busy": "2025-07-30T21:45:49.710469Z",
     "iopub.status.idle": "2025-07-30T21:45:49.716740Z",
     "shell.execute_reply": "2025-07-30T21:45:49.715587Z"
    },
    "papermill": {
     "duration": 0.03528,
     "end_time": "2025-07-30T21:45:49.719106",
     "exception": false,
     "start_time": "2025-07-30T21:45:49.683826",
     "status": "completed"
    },
    "tags": []
   },
   "outputs": [],
   "source": [
    "#def sample_by_year(df, training_size, random_state=42):\n",
    "#    if training_size == \"2014\":\n",
    "#        return df[df[\"year\"] == 2014].reset_index(drop=True)\n",
    "#    \n",
    "#    size_map = {\n",
    "#        \"25k\": 5000,\n",
    "#        \"5k\": 1000,\n",
    "#        \"1k\": 200\n",
    "#    }\n",
    "#\n",
    "#    if training_size not in size_map:\n",
    "#        return df.reset_index(drop=True)  # use all data\n",
    "#\n",
    "#    n_per_year = size_map[training_size]\n",
    "#    grouped = df.groupby(\"year\")\n",
    "#    sampled = grouped.apply(lambda x: x.sample(n=min(n_per_year, len(x)), random_state=random_state))\n",
    "#    return sampled.reset_index(drop=True)"
   ]
  },
  {
   "cell_type": "code",
   "execution_count": 25,
   "id": "6d931f52-beaf-43ff-9e78-9d44a448d54e",
   "metadata": {
    "execution": {
     "iopub.execute_input": "2025-07-30T21:45:49.773681Z",
     "iopub.status.busy": "2025-07-30T21:45:49.773269Z",
     "iopub.status.idle": "2025-07-30T21:45:49.778690Z",
     "shell.execute_reply": "2025-07-30T21:45:49.777745Z"
    },
    "papermill": {
     "duration": 0.038792,
     "end_time": "2025-07-30T21:45:49.782078",
     "exception": false,
     "start_time": "2025-07-30T21:45:49.743286",
     "status": "completed"
    },
    "tags": []
   },
   "outputs": [],
   "source": [
    "#siab_s = sample_by_year(siab, universe[\"training_size\"])"
   ]
  },
  {
   "cell_type": "code",
   "execution_count": 26,
   "id": "5db0a40e-a4e2-4920-be85-b12ae061d70d",
   "metadata": {
    "execution": {
     "iopub.execute_input": "2025-07-30T21:45:49.835143Z",
     "iopub.status.busy": "2025-07-30T21:45:49.834718Z",
     "iopub.status.idle": "2025-07-30T21:45:49.840074Z",
     "shell.execute_reply": "2025-07-30T21:45:49.839120Z"
    },
    "papermill": {
     "duration": 0.036585,
     "end_time": "2025-07-30T21:45:49.843040",
     "exception": false,
     "start_time": "2025-07-30T21:45:49.806455",
     "status": "completed"
    },
    "tags": []
   },
   "outputs": [],
   "source": [
    "#display(siab_s.groupby(\"year\").size())"
   ]
  },
  {
   "cell_type": "code",
   "execution_count": 27,
   "id": "e6c733c5",
   "metadata": {
    "execution": {
     "iopub.execute_input": "2025-07-30T21:45:49.896704Z",
     "iopub.status.busy": "2025-07-30T21:45:49.896266Z",
     "iopub.status.idle": "2025-07-30T21:45:50.000014Z",
     "shell.execute_reply": "2025-07-30T21:45:49.999016Z"
    },
    "papermill": {
     "duration": 0.133895,
     "end_time": "2025-07-30T21:45:50.001858",
     "exception": false,
     "start_time": "2025-07-30T21:45:49.867963",
     "status": "completed"
    },
    "tags": []
   },
   "outputs": [],
   "source": [
    "# Auxiliary data needed downstream in the pipeline\n",
    "\n",
    "org_train = X_train.copy()\n",
    "org_test = X_test.copy()\n",
    "org_calib = X_calib.copy()"
   ]
  },
  {
   "cell_type": "code",
   "execution_count": 28,
   "id": "1466abac-c6da-4492-a62f-4240ae3783af",
   "metadata": {
    "execution": {
     "iopub.execute_input": "2025-07-30T21:45:50.056976Z",
     "iopub.status.busy": "2025-07-30T21:45:50.056447Z",
     "iopub.status.idle": "2025-07-30T21:45:50.064178Z",
     "shell.execute_reply": "2025-07-30T21:45:50.062770Z"
    },
    "papermill": {
     "duration": 0.042625,
     "end_time": "2025-07-30T21:45:50.068912",
     "exception": false,
     "start_time": "2025-07-30T21:45:50.026287",
     "status": "completed"
    },
    "tags": []
   },
   "outputs": [],
   "source": [
    "# put in other script?\n",
    "# Group sizes\n",
    "\n",
    "#def calculate_percentages(df, df_name):\n",
    "#    total_entries = len(df)\n",
    "#\n",
    "#    female_pct = (df['frau1'] == 1).mean() * 100\n",
    "#    non_german_pct = ((df['maxdeutsch1'] == 0) & (df['maxdeutsch.Missing.'] == 0)).mean() * 100\n",
    "#    non_german_male_pct = ((df['frau1'] == 0) & (df['maxdeutsch1'] == 0) & (df['maxdeutsch.Missing.'] == 0)).mean() * 100\n",
    "#    non_german_female_pct = ((df['frau1'] == 1) & (df['maxdeutsch1'] == 0) & (df['maxdeutsch.Missing.'] == 0)).mean() * 100\n",
    "#\n",
    "#    print(f\"--- {df_name} ---\")\n",
    "#    print(f\"Female: {female_pct:.2f}%\")\n",
    "#    print(f\"Non-German: {non_german_pct:.2f}%\")\n",
    "#    print(f\"Non-German Male: {non_german_male_pct:.2f}%\")\n",
    "#    print(f\"Non-German Female: {non_german_female_pct:.2f}%\\n\")\n",
    "#\n",
    "## Calculate for each DataFrame\n",
    "#calculate_percentages(siab_calib, \"siab_calib\")\n",
    "#calculate_percentages(siab_test, \"siab_test\")\n",
    "#calculate_percentages(siab_train, \"siab_train\")"
   ]
  },
  {
   "cell_type": "markdown",
   "id": "0a4a1b33",
   "metadata": {
    "papermill": {
     "duration": 0.030363,
     "end_time": "2025-07-30T21:45:50.131541",
     "exception": false,
     "start_time": "2025-07-30T21:45:50.101178",
     "status": "completed"
    },
    "tags": []
   },
   "source": [
    "# Preprocessing Data"
   ]
  },
  {
   "cell_type": "code",
   "execution_count": 29,
   "id": "ca879031",
   "metadata": {
    "execution": {
     "iopub.execute_input": "2025-07-30T21:45:50.195255Z",
     "iopub.status.busy": "2025-07-30T21:45:50.194748Z",
     "iopub.status.idle": "2025-07-30T21:45:50.203247Z",
     "shell.execute_reply": "2025-07-30T21:45:50.201773Z"
    },
    "papermill": {
     "duration": 0.044113,
     "end_time": "2025-07-30T21:45:50.207763",
     "exception": false,
     "start_time": "2025-07-30T21:45:50.163650",
     "status": "completed"
    },
    "tags": []
   },
   "outputs": [],
   "source": [
    "# EXCLUDE PROTECTED FEATURES\n",
    "# ----------------------\n",
    "# \"exclude_features\": \"none\", # \"nationality\", \"sex\", \"nationality-sex\"\n",
    "\n",
    "excluded_features = universe[\"exclude_features\"].split(\"-\") # split, e.g.: \"nationality-sex\" -> [\"nationality\", \"sex\"]\n",
    "excluded_features_dictionary = {\n",
    "    \"nationality\": [\"maxdeutsch1\", \"maxdeutsch.Missing.\"],\n",
    "    \"sex\": [\"frau1\"],\n",
    "    \"age\": [\"age\"],\n",
    "}\n"
   ]
  },
  {
   "cell_type": "code",
   "execution_count": 30,
   "id": "b745ac60",
   "metadata": {
    "execution": {
     "iopub.execute_input": "2025-07-30T21:45:50.310024Z",
     "iopub.status.busy": "2025-07-30T21:45:50.309593Z",
     "iopub.status.idle": "2025-07-30T21:45:50.316168Z",
     "shell.execute_reply": "2025-07-30T21:45:50.314917Z"
    },
    "papermill": {
     "duration": 0.070198,
     "end_time": "2025-07-30T21:45:50.318725",
     "exception": false,
     "start_time": "2025-07-30T21:45:50.248527",
     "status": "completed"
    },
    "tags": []
   },
   "outputs": [],
   "source": [
    "# Code nice names to column names\n",
    "\n",
    "excluded_features_columns = [\n",
    "    excluded_features_dictionary[f] for f in excluded_features if len(f) > 0 and f != \"none\"\n",
    "]"
   ]
  },
  {
   "cell_type": "code",
   "execution_count": 31,
   "id": "f84f73a2",
   "metadata": {
    "execution": {
     "iopub.execute_input": "2025-07-30T21:45:50.404382Z",
     "iopub.status.busy": "2025-07-30T21:45:50.403792Z",
     "iopub.status.idle": "2025-07-30T21:45:50.410948Z",
     "shell.execute_reply": "2025-07-30T21:45:50.409776Z"
    },
    "papermill": {
     "duration": 0.061201,
     "end_time": "2025-07-30T21:45:50.412754",
     "exception": false,
     "start_time": "2025-07-30T21:45:50.351553",
     "status": "completed"
    },
    "tags": []
   },
   "outputs": [],
   "source": [
    "from utils import flatten_once\n",
    "\n",
    "excluded_features_columns = flatten_once(excluded_features_columns)"
   ]
  },
  {
   "cell_type": "code",
   "execution_count": 32,
   "id": "884dea22",
   "metadata": {
    "execution": {
     "iopub.execute_input": "2025-07-30T21:45:50.460795Z",
     "iopub.status.busy": "2025-07-30T21:45:50.460197Z",
     "iopub.status.idle": "2025-07-30T21:45:50.467377Z",
     "shell.execute_reply": "2025-07-30T21:45:50.466160Z"
    },
    "papermill": {
     "duration": 0.033144,
     "end_time": "2025-07-30T21:45:50.469096",
     "exception": false,
     "start_time": "2025-07-30T21:45:50.435952",
     "status": "completed"
    },
    "tags": []
   },
   "outputs": [],
   "source": [
    "if len(excluded_features_columns) > 0:\n",
    "    print(f\"Dropping features: {excluded_features_columns}\")\n",
    "    X_train.drop(excluded_features_columns, axis=1, inplace=True)"
   ]
  },
  {
   "cell_type": "code",
   "execution_count": 33,
   "id": "95ab8b16",
   "metadata": {
    "execution": {
     "iopub.execute_input": "2025-07-30T21:45:50.518566Z",
     "iopub.status.busy": "2025-07-30T21:45:50.518019Z",
     "iopub.status.idle": "2025-07-30T21:45:50.524530Z",
     "shell.execute_reply": "2025-07-30T21:45:50.523412Z"
    },
    "papermill": {
     "duration": 0.034193,
     "end_time": "2025-07-30T21:45:50.526506",
     "exception": false,
     "start_time": "2025-07-30T21:45:50.492313",
     "status": "completed"
    },
    "tags": []
   },
   "outputs": [],
   "source": [
    "if len(excluded_features_columns) > 0:\n",
    "    print(f\"Dropping features: {excluded_features_columns}\")\n",
    "    X_test.drop(excluded_features_columns, axis=1, inplace=True)"
   ]
  },
  {
   "cell_type": "code",
   "execution_count": 34,
   "id": "1853aaf5-fb9f-46cb-a2b5-8ea4ae2237e4",
   "metadata": {
    "execution": {
     "iopub.execute_input": "2025-07-30T21:45:50.573934Z",
     "iopub.status.busy": "2025-07-30T21:45:50.573439Z",
     "iopub.status.idle": "2025-07-30T21:45:50.580417Z",
     "shell.execute_reply": "2025-07-30T21:45:50.578863Z"
    },
    "papermill": {
     "duration": 0.033235,
     "end_time": "2025-07-30T21:45:50.582748",
     "exception": false,
     "start_time": "2025-07-30T21:45:50.549513",
     "status": "completed"
    },
    "tags": []
   },
   "outputs": [],
   "source": [
    "if len(excluded_features_columns) > 0:\n",
    "    print(f\"Dropping features: {excluded_features_columns}\")\n",
    "    X_calib.drop(excluded_features_columns, axis=1, inplace=True)"
   ]
  },
  {
   "cell_type": "code",
   "execution_count": 35,
   "id": "6727d079-03e5-481e-9d38-292a90b7a0a8",
   "metadata": {
    "execution": {
     "iopub.execute_input": "2025-07-30T21:45:50.647440Z",
     "iopub.status.busy": "2025-07-30T21:45:50.646938Z",
     "iopub.status.idle": "2025-07-30T21:45:50.652417Z",
     "shell.execute_reply": "2025-07-30T21:45:50.651325Z"
    },
    "papermill": {
     "duration": 0.040777,
     "end_time": "2025-07-30T21:45:50.654345",
     "exception": false,
     "start_time": "2025-07-30T21:45:50.613568",
     "status": "completed"
    },
    "tags": []
   },
   "outputs": [],
   "source": [
    "# SPLIT & STRATIFY DATA\n",
    "# ----------------------"
   ]
  },
  {
   "cell_type": "code",
   "execution_count": 36,
   "id": "76c4dc6d",
   "metadata": {
    "execution": {
     "iopub.execute_input": "2025-07-30T21:45:50.706638Z",
     "iopub.status.busy": "2025-07-30T21:45:50.706266Z",
     "iopub.status.idle": "2025-07-30T21:45:50.711114Z",
     "shell.execute_reply": "2025-07-30T21:45:50.710296Z"
    },
    "papermill": {
     "duration": 0.029604,
     "end_time": "2025-07-30T21:45:50.713809",
     "exception": false,
     "start_time": "2025-07-30T21:45:50.684205",
     "status": "completed"
    },
    "tags": []
   },
   "outputs": [],
   "source": [
    "# EXCLUDE CERTAIN SUBGROUPS\n",
    "# ----------------------\n",
    "\n",
    "mode = universe.get(\"exclude_subgroups\", \"keep-all\") \n",
    "# Fetches the exclude_subgroups setting from the universe dict.\n",
    "# Defaults to \"keep-all\" if the key is missing."
   ]
  },
  {
   "cell_type": "code",
   "execution_count": 37,
   "id": "21994072",
   "metadata": {
    "execution": {
     "iopub.execute_input": "2025-07-30T21:45:50.790857Z",
     "iopub.status.busy": "2025-07-30T21:45:50.790481Z",
     "iopub.status.idle": "2025-07-30T21:45:50.798832Z",
     "shell.execute_reply": "2025-07-30T21:45:50.797721Z"
    },
    "papermill": {
     "duration": 0.062764,
     "end_time": "2025-07-30T21:45:50.800922",
     "exception": false,
     "start_time": "2025-07-30T21:45:50.738158",
     "status": "completed"
    },
    "tags": []
   },
   "outputs": [],
   "source": [
    "if mode == \"keep-all\":\n",
    "    keep_mask = pd.Series(True, index=org_train.index)\n",
    "\n",
    "# org_train contains the original feature columns from features_org (in Simson)\n",
    "# features_org contains unprocessed features, for me X_train at beginning ???\n",
    "# For keep-all, creates a boolean Series (keep_mask) of all True, so no rows are removed.\n",
    "\n",
    "elif mode == \"drop-non-german\":\n",
    "    keep_mask = org_train[\"maxdeutsch1\"] == 1 # ??? what about missing values?\n",
    "\n",
    "else:\n",
    "    raise ValueError(f\"Unsupported mode for exclude_subgroups: {mode}\")\n"
   ]
  },
  {
   "cell_type": "code",
   "execution_count": 38,
   "id": "71651440",
   "metadata": {
    "execution": {
     "iopub.execute_input": "2025-07-30T21:45:50.851379Z",
     "iopub.status.busy": "2025-07-30T21:45:50.851015Z",
     "iopub.status.idle": "2025-07-30T21:45:50.859031Z",
     "shell.execute_reply": "2025-07-30T21:45:50.857829Z"
    },
    "papermill": {
     "duration": 0.042318,
     "end_time": "2025-07-30T21:45:50.865830",
     "exception": false,
     "start_time": "2025-07-30T21:45:50.823512",
     "status": "completed"
    },
    "tags": []
   },
   "outputs": [
    {
     "name": "stdout",
     "output_type": "stream",
     "text": [
      "Dropping 131 rows (13.10%) where mode='drop-non-german'\n"
     ]
    }
   ],
   "source": [
    "n_drop = (~keep_mask).sum() # Calculates how many rows are set to be dropped\n",
    "if n_drop > 0:\n",
    "    pct = n_drop / len(keep_mask) * 100\n",
    "    print(f\"Dropping {n_drop} rows ({pct:.2f}%) where mode='{mode}'\")"
   ]
  },
  {
   "cell_type": "code",
   "execution_count": 39,
   "id": "5fb8eee5",
   "metadata": {
    "execution": {
     "iopub.execute_input": "2025-07-30T21:45:50.949781Z",
     "iopub.status.busy": "2025-07-30T21:45:50.949277Z",
     "iopub.status.idle": "2025-07-30T21:45:50.960000Z",
     "shell.execute_reply": "2025-07-30T21:45:50.958986Z"
    },
    "papermill": {
     "duration": 0.066353,
     "end_time": "2025-07-30T21:45:50.962051",
     "exception": false,
     "start_time": "2025-07-30T21:45:50.895698",
     "status": "completed"
    },
    "tags": []
   },
   "outputs": [],
   "source": [
    "X_train = X_train[keep_mask]"
   ]
  },
  {
   "cell_type": "code",
   "execution_count": 40,
   "id": "b202bb3a",
   "metadata": {
    "execution": {
     "iopub.execute_input": "2025-07-30T21:45:51.075298Z",
     "iopub.status.busy": "2025-07-30T21:45:51.074824Z",
     "iopub.status.idle": "2025-07-30T21:45:51.082487Z",
     "shell.execute_reply": "2025-07-30T21:45:51.081146Z"
    },
    "papermill": {
     "duration": 0.059926,
     "end_time": "2025-07-30T21:45:51.086230",
     "exception": false,
     "start_time": "2025-07-30T21:45:51.026304",
     "status": "completed"
    },
    "tags": []
   },
   "outputs": [],
   "source": [
    "y_train = y_train[keep_mask]"
   ]
  },
  {
   "cell_type": "markdown",
   "id": "493e2ac3",
   "metadata": {
    "papermill": {
     "duration": 0.020103,
     "end_time": "2025-07-30T21:45:51.141549",
     "exception": false,
     "start_time": "2025-07-30T21:45:51.121446",
     "status": "completed"
    },
    "tags": []
   },
   "source": [
    "# Model Training"
   ]
  },
  {
   "cell_type": "code",
   "execution_count": 41,
   "id": "679e1268",
   "metadata": {
    "execution": {
     "iopub.execute_input": "2025-07-30T21:45:51.191301Z",
     "iopub.status.busy": "2025-07-30T21:45:51.190893Z",
     "iopub.status.idle": "2025-07-30T21:45:51.327116Z",
     "shell.execute_reply": "2025-07-30T21:45:51.325999Z"
    },
    "papermill": {
     "duration": 0.166484,
     "end_time": "2025-07-30T21:45:51.330095",
     "exception": false,
     "start_time": "2025-07-30T21:45:51.163611",
     "status": "completed"
    },
    "tags": []
   },
   "outputs": [],
   "source": [
    "from sklearn.linear_model import LogisticRegression\n",
    "from sklearn.ensemble import GradientBoostingClassifier, RandomForestClassifier\n",
    "\n",
    "if (universe[\"model\"] == \"logreg\"):\n",
    "    model = LogisticRegression() #penalty=\"none\") #, solver=\"newton-cg\", max_iter=1) # include random_state=19 ?\n",
    "elif (universe[\"model\"] == \"penalized_logreg\"):\n",
    "    model = LogisticRegression(penalty=\"l2\", C=1.0) #, solver=\"newton-cg\", max_iter=1)\n",
    "elif (universe[\"model\"] == \"rf\"):\n",
    "    model = RandomForestClassifier(n_estimators=100, n_jobs=-1)\n",
    "elif (universe[\"model\"] == \"gbm\"):\n",
    "    model = GradientBoostingClassifier()\n",
    "elif (universe[\"model\"] == \"elasticnet\"):\n",
    "    model = LogisticRegression(penalty = 'elasticnet', solver = 'saga', l1_ratio = 0.5, max_iter=5000) # which solver to use?\n",
    "else:\n",
    "    raise \"Unsupported universe.model\""
   ]
  },
  {
   "cell_type": "code",
   "execution_count": 42,
   "id": "0cc8f744",
   "metadata": {
    "execution": {
     "iopub.execute_input": "2025-07-30T21:45:51.379282Z",
     "iopub.status.busy": "2025-07-30T21:45:51.378362Z",
     "iopub.status.idle": "2025-07-30T21:45:51.384663Z",
     "shell.execute_reply": "2025-07-30T21:45:51.383916Z"
    },
    "papermill": {
     "duration": 0.035242,
     "end_time": "2025-07-30T21:45:51.387948",
     "exception": false,
     "start_time": "2025-07-30T21:45:51.352706",
     "status": "completed"
    },
    "tags": []
   },
   "outputs": [],
   "source": [
    "import numpy as np\n",
    "from sklearn.pipeline import Pipeline\n",
    "from sklearn.preprocessing import StandardScaler\n",
    "\n",
    "model = Pipeline([\n",
    "    #(\"continuous_processor\", continuous_processor),\n",
    "    #(\"categorical_preprocessor\", categorical_preprocessor),\n",
    "    (\"scale\", StandardScaler() if universe[\"scale\"] == \"scale\" else None), \n",
    "    (\"model\", model),\n",
    "])"
   ]
  },
  {
   "cell_type": "code",
   "execution_count": 43,
   "id": "9442c04d",
   "metadata": {
    "execution": {
     "iopub.execute_input": "2025-07-30T21:45:51.418133Z",
     "iopub.status.busy": "2025-07-30T21:45:51.417639Z",
     "iopub.status.idle": "2025-07-30T21:45:51.846097Z",
     "shell.execute_reply": "2025-07-30T21:45:51.845140Z"
    },
    "papermill": {
     "duration": 0.443931,
     "end_time": "2025-07-30T21:45:51.847740",
     "exception": false,
     "start_time": "2025-07-30T21:45:51.403809",
     "status": "completed"
    },
    "tags": []
   },
   "outputs": [
    {
     "data": {
      "text/html": [
       "<style>#sk-container-id-1 {color: black;background-color: white;}#sk-container-id-1 pre{padding: 0;}#sk-container-id-1 div.sk-toggleable {background-color: white;}#sk-container-id-1 label.sk-toggleable__label {cursor: pointer;display: block;width: 100%;margin-bottom: 0;padding: 0.3em;box-sizing: border-box;text-align: center;}#sk-container-id-1 label.sk-toggleable__label-arrow:before {content: \"▸\";float: left;margin-right: 0.25em;color: #696969;}#sk-container-id-1 label.sk-toggleable__label-arrow:hover:before {color: black;}#sk-container-id-1 div.sk-estimator:hover label.sk-toggleable__label-arrow:before {color: black;}#sk-container-id-1 div.sk-toggleable__content {max-height: 0;max-width: 0;overflow: hidden;text-align: left;background-color: #f0f8ff;}#sk-container-id-1 div.sk-toggleable__content pre {margin: 0.2em;color: black;border-radius: 0.25em;background-color: #f0f8ff;}#sk-container-id-1 input.sk-toggleable__control:checked~div.sk-toggleable__content {max-height: 200px;max-width: 100%;overflow: auto;}#sk-container-id-1 input.sk-toggleable__control:checked~label.sk-toggleable__label-arrow:before {content: \"▾\";}#sk-container-id-1 div.sk-estimator input.sk-toggleable__control:checked~label.sk-toggleable__label {background-color: #d4ebff;}#sk-container-id-1 div.sk-label input.sk-toggleable__control:checked~label.sk-toggleable__label {background-color: #d4ebff;}#sk-container-id-1 input.sk-hidden--visually {border: 0;clip: rect(1px 1px 1px 1px);clip: rect(1px, 1px, 1px, 1px);height: 1px;margin: -1px;overflow: hidden;padding: 0;position: absolute;width: 1px;}#sk-container-id-1 div.sk-estimator {font-family: monospace;background-color: #f0f8ff;border: 1px dotted black;border-radius: 0.25em;box-sizing: border-box;margin-bottom: 0.5em;}#sk-container-id-1 div.sk-estimator:hover {background-color: #d4ebff;}#sk-container-id-1 div.sk-parallel-item::after {content: \"\";width: 100%;border-bottom: 1px solid gray;flex-grow: 1;}#sk-container-id-1 div.sk-label:hover label.sk-toggleable__label {background-color: #d4ebff;}#sk-container-id-1 div.sk-serial::before {content: \"\";position: absolute;border-left: 1px solid gray;box-sizing: border-box;top: 0;bottom: 0;left: 50%;z-index: 0;}#sk-container-id-1 div.sk-serial {display: flex;flex-direction: column;align-items: center;background-color: white;padding-right: 0.2em;padding-left: 0.2em;position: relative;}#sk-container-id-1 div.sk-item {position: relative;z-index: 1;}#sk-container-id-1 div.sk-parallel {display: flex;align-items: stretch;justify-content: center;background-color: white;position: relative;}#sk-container-id-1 div.sk-item::before, #sk-container-id-1 div.sk-parallel-item::before {content: \"\";position: absolute;border-left: 1px solid gray;box-sizing: border-box;top: 0;bottom: 0;left: 50%;z-index: -1;}#sk-container-id-1 div.sk-parallel-item {display: flex;flex-direction: column;z-index: 1;position: relative;background-color: white;}#sk-container-id-1 div.sk-parallel-item:first-child::after {align-self: flex-end;width: 50%;}#sk-container-id-1 div.sk-parallel-item:last-child::after {align-self: flex-start;width: 50%;}#sk-container-id-1 div.sk-parallel-item:only-child::after {width: 0;}#sk-container-id-1 div.sk-dashed-wrapped {border: 1px dashed gray;margin: 0 0.4em 0.5em 0.4em;box-sizing: border-box;padding-bottom: 0.4em;background-color: white;}#sk-container-id-1 div.sk-label label {font-family: monospace;font-weight: bold;display: inline-block;line-height: 1.2em;}#sk-container-id-1 div.sk-label-container {text-align: center;}#sk-container-id-1 div.sk-container {/* jupyter's `normalize.less` sets `[hidden] { display: none; }` but bootstrap.min.css set `[hidden] { display: none !important; }` so we also need the `!important` here to be able to override the default hidden behavior on the sphinx rendered scikit-learn.org. See: https://github.com/scikit-learn/scikit-learn/issues/21755 */display: inline-block !important;position: relative;}#sk-container-id-1 div.sk-text-repr-fallback {display: none;}</style><div id=\"sk-container-id-1\" class=\"sk-top-container\"><div class=\"sk-text-repr-fallback\"><pre>Pipeline(steps=[(&#x27;scale&#x27;, StandardScaler()),\n",
       "                (&#x27;model&#x27;, RandomForestClassifier(n_jobs=-1))])</pre><b>In a Jupyter environment, please rerun this cell to show the HTML representation or trust the notebook. <br />On GitHub, the HTML representation is unable to render, please try loading this page with nbviewer.org.</b></div><div class=\"sk-container\" hidden><div class=\"sk-item sk-dashed-wrapped\"><div class=\"sk-label-container\"><div class=\"sk-label sk-toggleable\"><input class=\"sk-toggleable__control sk-hidden--visually\" id=\"sk-estimator-id-1\" type=\"checkbox\" ><label for=\"sk-estimator-id-1\" class=\"sk-toggleable__label sk-toggleable__label-arrow\">Pipeline</label><div class=\"sk-toggleable__content\"><pre>Pipeline(steps=[(&#x27;scale&#x27;, StandardScaler()),\n",
       "                (&#x27;model&#x27;, RandomForestClassifier(n_jobs=-1))])</pre></div></div></div><div class=\"sk-serial\"><div class=\"sk-item\"><div class=\"sk-estimator sk-toggleable\"><input class=\"sk-toggleable__control sk-hidden--visually\" id=\"sk-estimator-id-2\" type=\"checkbox\" ><label for=\"sk-estimator-id-2\" class=\"sk-toggleable__label sk-toggleable__label-arrow\">StandardScaler</label><div class=\"sk-toggleable__content\"><pre>StandardScaler()</pre></div></div></div><div class=\"sk-item\"><div class=\"sk-estimator sk-toggleable\"><input class=\"sk-toggleable__control sk-hidden--visually\" id=\"sk-estimator-id-3\" type=\"checkbox\" ><label for=\"sk-estimator-id-3\" class=\"sk-toggleable__label sk-toggleable__label-arrow\">RandomForestClassifier</label><div class=\"sk-toggleable__content\"><pre>RandomForestClassifier(n_jobs=-1)</pre></div></div></div></div></div></div></div>"
      ],
      "text/plain": [
       "Pipeline(steps=[('scale', StandardScaler()),\n",
       "                ('model', RandomForestClassifier(n_jobs=-1))])"
      ]
     },
     "execution_count": 43,
     "metadata": {},
     "output_type": "execute_result"
    }
   ],
   "source": [
    "model.fit(X_train, y_train.values.ravel())"
   ]
  },
  {
   "cell_type": "code",
   "execution_count": 44,
   "id": "af59f8c0",
   "metadata": {
    "execution": {
     "iopub.execute_input": "2025-07-30T21:45:51.960153Z",
     "iopub.status.busy": "2025-07-30T21:45:51.959197Z",
     "iopub.status.idle": "2025-07-30T21:45:51.965521Z",
     "shell.execute_reply": "2025-07-30T21:45:51.964337Z"
    },
    "papermill": {
     "duration": 0.059165,
     "end_time": "2025-07-30T21:45:51.967316",
     "exception": false,
     "start_time": "2025-07-30T21:45:51.908151",
     "status": "completed"
    },
    "tags": []
   },
   "outputs": [],
   "source": [
    "from fairness_multiverse.universe import predict_w_threshold"
   ]
  },
  {
   "cell_type": "code",
   "execution_count": 45,
   "id": "a7cf2e16",
   "metadata": {
    "execution": {
     "iopub.execute_input": "2025-07-30T21:45:52.037380Z",
     "iopub.status.busy": "2025-07-30T21:45:52.037004Z",
     "iopub.status.idle": "2025-07-30T21:45:52.979618Z",
     "shell.execute_reply": "2025-07-30T21:45:52.978096Z"
    },
    "papermill": {
     "duration": 0.9855,
     "end_time": "2025-07-30T21:45:52.981649",
     "exception": false,
     "start_time": "2025-07-30T21:45:51.996149",
     "status": "completed"
    },
    "tags": []
   },
   "outputs": [
    {
     "data": {
      "text/plain": [
       "0.8608627800691115"
      ]
     },
     "execution_count": 45,
     "metadata": {},
     "output_type": "execute_result"
    }
   ],
   "source": [
    "probs_test = model.predict_proba(X_test)\n",
    "\n",
    "'''\n",
    "Below code returns a boolean array (or binary 0/1 array depending on how it’s used) where each element \n",
    "is True if the probability of class 1 is greater than or equal to the threshold, and False otherwise.\n",
    "'''\n",
    "y_pred_default = predict_w_threshold(probs_test, 0.5)\n",
    "\n",
    "from sklearn.metrics import accuracy_score\n",
    "\n",
    "# Naive prediction\n",
    "accuracy_score(y_true = y_true, y_pred = y_pred_default)"
   ]
  },
  {
   "cell_type": "code",
   "execution_count": 46,
   "id": "081964c3",
   "metadata": {
    "execution": {
     "iopub.execute_input": "2025-07-30T21:45:53.024798Z",
     "iopub.status.busy": "2025-07-30T21:45:53.024010Z",
     "iopub.status.idle": "2025-07-30T21:45:54.035959Z",
     "shell.execute_reply": "2025-07-30T21:45:54.035179Z"
    },
    "papermill": {
     "duration": 1.035638,
     "end_time": "2025-07-30T21:45:54.037346",
     "exception": false,
     "start_time": "2025-07-30T21:45:53.001708",
     "status": "completed"
    },
    "tags": []
   },
   "outputs": [
    {
     "data": {
      "text/plain": [
       "array([0, 0, 0, ..., 0, 0, 0])"
      ]
     },
     "execution_count": 46,
     "metadata": {},
     "output_type": "execute_result"
    }
   ],
   "source": [
    "model.predict(X_test)"
   ]
  },
  {
   "cell_type": "markdown",
   "id": "56c9705b",
   "metadata": {
    "papermill": {
     "duration": 0.012114,
     "end_time": "2025-07-30T21:45:54.062655",
     "exception": false,
     "start_time": "2025-07-30T21:45:54.050541",
     "status": "completed"
    },
    "tags": []
   },
   "source": [
    "# Conformal Prediction"
   ]
  },
  {
   "cell_type": "code",
   "execution_count": 47,
   "id": "160ec6ff",
   "metadata": {
    "execution": {
     "iopub.execute_input": "2025-07-30T21:45:54.092314Z",
     "iopub.status.busy": "2025-07-30T21:45:54.090148Z",
     "iopub.status.idle": "2025-07-30T21:45:54.097939Z",
     "shell.execute_reply": "2025-07-30T21:45:54.096679Z"
    },
    "papermill": {
     "duration": 0.024604,
     "end_time": "2025-07-30T21:45:54.099884",
     "exception": false,
     "start_time": "2025-07-30T21:45:54.075280",
     "status": "completed"
    },
    "tags": []
   },
   "outputs": [],
   "source": [
    "# Miscoverage level for conformal prediction (10% allowed error rate => 90% target coverage)\n",
    "alpha = 0.1"
   ]
  },
  {
   "cell_type": "code",
   "execution_count": 48,
   "id": "eadf4555-3dd3-440e-8e35-f82a4ad9f855",
   "metadata": {
    "execution": {
     "iopub.execute_input": "2025-07-30T21:45:54.158874Z",
     "iopub.status.busy": "2025-07-30T21:45:54.157881Z",
     "iopub.status.idle": "2025-07-30T21:45:55.095849Z",
     "shell.execute_reply": "2025-07-30T21:45:55.094846Z"
    },
    "papermill": {
     "duration": 0.969038,
     "end_time": "2025-07-30T21:45:55.097627",
     "exception": false,
     "start_time": "2025-07-30T21:45:54.128589",
     "status": "completed"
    },
    "tags": []
   },
   "outputs": [],
   "source": [
    "probs_calib = model.predict_proba(X_calib)"
   ]
  },
  {
   "cell_type": "code",
   "execution_count": 49,
   "id": "2ed93547-6d5d-4983-9b36-1ecb300da49a",
   "metadata": {
    "execution": {
     "iopub.execute_input": "2025-07-30T21:45:55.149517Z",
     "iopub.status.busy": "2025-07-30T21:45:55.148990Z",
     "iopub.status.idle": "2025-07-30T21:45:55.155812Z",
     "shell.execute_reply": "2025-07-30T21:45:55.154720Z"
    },
    "papermill": {
     "duration": 0.044533,
     "end_time": "2025-07-30T21:45:55.158054",
     "exception": false,
     "start_time": "2025-07-30T21:45:55.113521",
     "status": "completed"
    },
    "tags": []
   },
   "outputs": [],
   "source": [
    "y_calib = y_calib.values.ravel().astype(int)"
   ]
  },
  {
   "cell_type": "code",
   "execution_count": 50,
   "id": "65d1320d-f588-4b38-9072-62af1ae97f7d",
   "metadata": {
    "execution": {
     "iopub.execute_input": "2025-07-30T21:45:55.228682Z",
     "iopub.status.busy": "2025-07-30T21:45:55.228106Z",
     "iopub.status.idle": "2025-07-30T21:45:55.237324Z",
     "shell.execute_reply": "2025-07-30T21:45:55.236021Z"
    },
    "papermill": {
     "duration": 0.047062,
     "end_time": "2025-07-30T21:45:55.239577",
     "exception": false,
     "start_time": "2025-07-30T21:45:55.192515",
     "status": "completed"
    },
    "tags": []
   },
   "outputs": [],
   "source": [
    "from fairness_multiverse.conformal import compute_nc_scores\n",
    "\n",
    "# Compute nonconformity scores on calibration set (1 - probability of true class)\n",
    "nc_scores = compute_nc_scores(probs_calib, y_calib)"
   ]
  },
  {
   "cell_type": "code",
   "execution_count": 51,
   "id": "df3b8ca3-53b7-43d5-9667-7c85da7aeda2",
   "metadata": {
    "execution": {
     "iopub.execute_input": "2025-07-30T21:45:55.306762Z",
     "iopub.status.busy": "2025-07-30T21:45:55.306186Z",
     "iopub.status.idle": "2025-07-30T21:45:55.312894Z",
     "shell.execute_reply": "2025-07-30T21:45:55.311783Z"
    },
    "papermill": {
     "duration": 0.042214,
     "end_time": "2025-07-30T21:45:55.314482",
     "exception": false,
     "start_time": "2025-07-30T21:45:55.272268",
     "status": "completed"
    },
    "tags": []
   },
   "outputs": [],
   "source": [
    "from fairness_multiverse.conformal import find_threshold\n",
    "\n",
    "# Find conformal threshold q_hat for the given alpha (split conformal method)\n",
    "q_hat = find_threshold(nc_scores, alpha)"
   ]
  },
  {
   "cell_type": "code",
   "execution_count": 52,
   "id": "4d29e6c1-0ef6-4aa4-b8fe-4fe79b0d033a",
   "metadata": {
    "execution": {
     "iopub.execute_input": "2025-07-30T21:45:55.375021Z",
     "iopub.status.busy": "2025-07-30T21:45:55.374544Z",
     "iopub.status.idle": "2025-07-30T21:45:55.381971Z",
     "shell.execute_reply": "2025-07-30T21:45:55.381013Z"
    },
    "papermill": {
     "duration": 0.034233,
     "end_time": "2025-07-30T21:45:55.391681",
     "exception": false,
     "start_time": "2025-07-30T21:45:55.357448",
     "status": "completed"
    },
    "tags": []
   },
   "outputs": [
    {
     "data": {
      "text/plain": [
       "0.6599999999999999"
      ]
     },
     "execution_count": 52,
     "metadata": {},
     "output_type": "execute_result"
    }
   ],
   "source": [
    "q_hat"
   ]
  },
  {
   "cell_type": "code",
   "execution_count": 53,
   "id": "92460794-cdac-4be2-ba28-f28c0515a6fb",
   "metadata": {
    "execution": {
     "iopub.execute_input": "2025-07-30T21:45:55.449027Z",
     "iopub.status.busy": "2025-07-30T21:45:55.448602Z",
     "iopub.status.idle": "2025-07-30T21:45:57.231105Z",
     "shell.execute_reply": "2025-07-30T21:45:57.230085Z"
    },
    "papermill": {
     "duration": 1.822296,
     "end_time": "2025-07-30T21:45:57.232978",
     "exception": false,
     "start_time": "2025-07-30T21:45:55.410682",
     "status": "completed"
    },
    "tags": []
   },
   "outputs": [],
   "source": [
    "from fairness_multiverse.conformal import predict_conformal_sets\n",
    "\n",
    "# Generate prediction sets for each test example\n",
    "pred_sets = predict_conformal_sets(model, X_test, q_hat)"
   ]
  },
  {
   "cell_type": "code",
   "execution_count": 54,
   "id": "d90c9a65-e6db-4f5d-80cd-e68fb7e46829",
   "metadata": {
    "execution": {
     "iopub.execute_input": "2025-07-30T21:45:57.312004Z",
     "iopub.status.busy": "2025-07-30T21:45:57.311491Z",
     "iopub.status.idle": "2025-07-30T21:45:57.317450Z",
     "shell.execute_reply": "2025-07-30T21:45:57.316445Z"
    },
    "papermill": {
     "duration": 0.055047,
     "end_time": "2025-07-30T21:45:57.322559",
     "exception": false,
     "start_time": "2025-07-30T21:45:57.267512",
     "status": "completed"
    },
    "tags": []
   },
   "outputs": [],
   "source": [
    "y_true = y_true.squeeze()"
   ]
  },
  {
   "cell_type": "code",
   "execution_count": 55,
   "id": "3a58a54a-1e68-46b9-927a-df01f18aebc8",
   "metadata": {
    "execution": {
     "iopub.execute_input": "2025-07-30T21:45:57.375983Z",
     "iopub.status.busy": "2025-07-30T21:45:57.375537Z",
     "iopub.status.idle": "2025-07-30T21:45:58.439298Z",
     "shell.execute_reply": "2025-07-30T21:45:58.438373Z"
    },
    "papermill": {
     "duration": 1.094939,
     "end_time": "2025-07-30T21:45:58.441120",
     "exception": false,
     "start_time": "2025-07-30T21:45:57.346181",
     "status": "completed"
    },
    "tags": []
   },
   "outputs": [],
   "source": [
    "from fairness_multiverse.conformal import evaluate_sets\n",
    "\n",
    "# Evaluate coverage and average set size on test data\n",
    "metrics = evaluate_sets(pred_sets, y_true)"
   ]
  },
  {
   "cell_type": "markdown",
   "id": "2b569c12-9aaa-4c88-98c9-bbcd0cf3ebb8",
   "metadata": {
    "papermill": {
     "duration": 0.026352,
     "end_time": "2025-07-30T21:45:58.488682",
     "exception": false,
     "start_time": "2025-07-30T21:45:58.462330",
     "status": "completed"
    },
    "tags": []
   },
   "source": [
    "# CP Metrics"
   ]
  },
  {
   "cell_type": "code",
   "execution_count": 56,
   "id": "5ce0a5cb-201f-45a0-ade5-94c7f0bd6095",
   "metadata": {
    "execution": {
     "iopub.execute_input": "2025-07-30T21:45:58.543560Z",
     "iopub.status.busy": "2025-07-30T21:45:58.543087Z",
     "iopub.status.idle": "2025-07-30T21:45:58.550630Z",
     "shell.execute_reply": "2025-07-30T21:45:58.549727Z"
    },
    "papermill": {
     "duration": 0.03644,
     "end_time": "2025-07-30T21:45:58.552301",
     "exception": false,
     "start_time": "2025-07-30T21:45:58.515861",
     "status": "completed"
    },
    "tags": []
   },
   "outputs": [
    {
     "data": {
      "text/plain": [
       "{'coverage': 0.91450228514101, 'avg_size': 1.1604503399843942}"
      ]
     },
     "execution_count": 56,
     "metadata": {},
     "output_type": "execute_result"
    }
   ],
   "source": [
    "metrics"
   ]
  },
  {
   "cell_type": "code",
   "execution_count": 57,
   "id": "9b9a838d-31c9-430b-ae14-12baee460d17",
   "metadata": {
    "execution": {
     "iopub.execute_input": "2025-07-30T21:45:58.622898Z",
     "iopub.status.busy": "2025-07-30T21:45:58.622134Z",
     "iopub.status.idle": "2025-07-30T21:45:58.628771Z",
     "shell.execute_reply": "2025-07-30T21:45:58.627788Z"
    },
    "papermill": {
     "duration": 0.034312,
     "end_time": "2025-07-30T21:45:58.630407",
     "exception": false,
     "start_time": "2025-07-30T21:45:58.596095",
     "status": "completed"
    },
    "tags": []
   },
   "outputs": [],
   "source": [
    "example_universe = universe.copy()\n",
    "universe_training_year = example_universe.get(\"training_year\")\n",
    "universe_training_size = example_universe.get(\"training_size\")\n",
    "universe_scale = example_universe.get(\"scale\")\n",
    "universe_model = example_universe.get(\"model\")\n",
    "universe_exclude_features = example_universe.get(\"exclude_features\")\n",
    "universe_exclude_subgroups = example_universe.get(\"exclude_subgroups\")"
   ]
  },
  {
   "cell_type": "code",
   "execution_count": 58,
   "id": "f4b6a8ac-9dc0-4245-8a91-5b3b5999c4f9",
   "metadata": {
    "execution": {
     "iopub.execute_input": "2025-07-30T21:45:58.680086Z",
     "iopub.status.busy": "2025-07-30T21:45:58.679623Z",
     "iopub.status.idle": "2025-07-30T21:45:58.686097Z",
     "shell.execute_reply": "2025-07-30T21:45:58.685159Z"
    },
    "papermill": {
     "duration": 0.032724,
     "end_time": "2025-07-30T21:45:58.687691",
     "exception": false,
     "start_time": "2025-07-30T21:45:58.654967",
     "status": "completed"
    },
    "tags": []
   },
   "outputs": [],
   "source": [
    "cp_metrics_dict = {\n",
    "    \"universe_id\": [universe_id],\n",
    "    \"universe_training_year\": [universe_training_year],\n",
    "    \"universe_training_size\": [universe_training_size],\n",
    "    \"universe_scale\": [universe_scale],\n",
    "    \"universe_model\": [universe_model],\n",
    "    \"universe_exclude_features\": [universe_exclude_features],\n",
    "    \"universe_exclude_subgroups\": [universe_exclude_subgroups],\n",
    "    \"q_hat\": [q_hat],\n",
    "    \"coverage\": [metrics[\"coverage\"]],\n",
    "    \"avg_size\": [metrics[\"avg_size\"]],\n",
    "}"
   ]
  },
  {
   "cell_type": "code",
   "execution_count": 59,
   "id": "908acbb1-0371-4915-85ca-3fa520d2efe2",
   "metadata": {
    "execution": {
     "iopub.execute_input": "2025-07-30T21:45:58.737560Z",
     "iopub.status.busy": "2025-07-30T21:45:58.737114Z",
     "iopub.status.idle": "2025-07-30T21:45:58.745575Z",
     "shell.execute_reply": "2025-07-30T21:45:58.744340Z"
    },
    "papermill": {
     "duration": 0.035072,
     "end_time": "2025-07-30T21:45:58.747073",
     "exception": false,
     "start_time": "2025-07-30T21:45:58.712001",
     "status": "completed"
    },
    "tags": []
   },
   "outputs": [
    {
     "data": {
      "text/plain": [
       "{'universe_id': ['3801de5e81fd93924dffc1115d61a0cd'],\n",
       " 'universe_training_year': ['2010_14'],\n",
       " 'universe_training_size': ['1k'],\n",
       " 'universe_scale': ['scale'],\n",
       " 'universe_model': ['rf'],\n",
       " 'universe_exclude_features': ['none'],\n",
       " 'universe_exclude_subgroups': ['drop-non-german'],\n",
       " 'q_hat': [0.6599999999999999],\n",
       " 'coverage': [0.91450228514101],\n",
       " 'avg_size': [1.1604503399843942]}"
      ]
     },
     "execution_count": 59,
     "metadata": {},
     "output_type": "execute_result"
    }
   ],
   "source": [
    "cp_metrics_dict"
   ]
  },
  {
   "cell_type": "code",
   "execution_count": 60,
   "id": "33007efc-14e9-4ec6-97ac-56a455c82265",
   "metadata": {
    "execution": {
     "iopub.execute_input": "2025-07-30T21:45:58.801285Z",
     "iopub.status.busy": "2025-07-30T21:45:58.800796Z",
     "iopub.status.idle": "2025-07-30T21:45:58.809144Z",
     "shell.execute_reply": "2025-07-30T21:45:58.808018Z"
    },
    "papermill": {
     "duration": 0.038034,
     "end_time": "2025-07-30T21:45:58.811059",
     "exception": false,
     "start_time": "2025-07-30T21:45:58.773025",
     "status": "completed"
    },
    "tags": []
   },
   "outputs": [],
   "source": [
    "cp_metrics_df = pd.DataFrame(cp_metrics_dict)"
   ]
  },
  {
   "cell_type": "code",
   "execution_count": 61,
   "id": "db12611b-57b2-4910-b9d0-355adfd6e7bf",
   "metadata": {
    "execution": {
     "iopub.execute_input": "2025-07-30T21:45:58.866016Z",
     "iopub.status.busy": "2025-07-30T21:45:58.865119Z",
     "iopub.status.idle": "2025-07-30T21:45:58.885156Z",
     "shell.execute_reply": "2025-07-30T21:45:58.884117Z"
    },
    "papermill": {
     "duration": 0.049555,
     "end_time": "2025-07-30T21:45:58.887126",
     "exception": false,
     "start_time": "2025-07-30T21:45:58.837571",
     "status": "completed"
    },
    "tags": []
   },
   "outputs": [
    {
     "data": {
      "text/html": [
       "<div>\n",
       "<style scoped>\n",
       "    .dataframe tbody tr th:only-of-type {\n",
       "        vertical-align: middle;\n",
       "    }\n",
       "\n",
       "    .dataframe tbody tr th {\n",
       "        vertical-align: top;\n",
       "    }\n",
       "\n",
       "    .dataframe thead th {\n",
       "        text-align: right;\n",
       "    }\n",
       "</style>\n",
       "<table border=\"1\" class=\"dataframe\">\n",
       "  <thead>\n",
       "    <tr style=\"text-align: right;\">\n",
       "      <th></th>\n",
       "      <th>universe_id</th>\n",
       "      <th>universe_training_year</th>\n",
       "      <th>universe_training_size</th>\n",
       "      <th>universe_scale</th>\n",
       "      <th>universe_model</th>\n",
       "      <th>universe_exclude_features</th>\n",
       "      <th>universe_exclude_subgroups</th>\n",
       "      <th>q_hat</th>\n",
       "      <th>coverage</th>\n",
       "      <th>avg_size</th>\n",
       "    </tr>\n",
       "  </thead>\n",
       "  <tbody>\n",
       "    <tr>\n",
       "      <th>0</th>\n",
       "      <td>3801de5e81fd93924dffc1115d61a0cd</td>\n",
       "      <td>2010_14</td>\n",
       "      <td>1k</td>\n",
       "      <td>scale</td>\n",
       "      <td>rf</td>\n",
       "      <td>none</td>\n",
       "      <td>drop-non-german</td>\n",
       "      <td>0.66</td>\n",
       "      <td>0.914502</td>\n",
       "      <td>1.16045</td>\n",
       "    </tr>\n",
       "  </tbody>\n",
       "</table>\n",
       "</div>"
      ],
      "text/plain": [
       "                        universe_id universe_training_year  \\\n",
       "0  3801de5e81fd93924dffc1115d61a0cd                2010_14   \n",
       "\n",
       "  universe_training_size universe_scale universe_model  \\\n",
       "0                     1k          scale             rf   \n",
       "\n",
       "  universe_exclude_features universe_exclude_subgroups  q_hat  coverage  \\\n",
       "0                      none            drop-non-german   0.66  0.914502   \n",
       "\n",
       "   avg_size  \n",
       "0   1.16045  "
      ]
     },
     "execution_count": 61,
     "metadata": {},
     "output_type": "execute_result"
    }
   ],
   "source": [
    "cp_metrics_df"
   ]
  },
  {
   "cell_type": "code",
   "execution_count": 62,
   "id": "b7fbde55-a0a1-47e4-9af6-fe4a17fa8c61",
   "metadata": {
    "execution": {
     "iopub.execute_input": "2025-07-30T21:45:58.941134Z",
     "iopub.status.busy": "2025-07-30T21:45:58.940782Z",
     "iopub.status.idle": "2025-07-30T21:45:58.945767Z",
     "shell.execute_reply": "2025-07-30T21:45:58.944614Z"
    },
    "papermill": {
     "duration": 0.033183,
     "end_time": "2025-07-30T21:45:58.947408",
     "exception": false,
     "start_time": "2025-07-30T21:45:58.914225",
     "status": "completed"
    },
    "tags": []
   },
   "outputs": [],
   "source": [
    "# Conditional Coverage & looking at subgroups"
   ]
  },
  {
   "cell_type": "code",
   "execution_count": 63,
   "id": "027ae886-68dd-4141-96c7-805a5450e1ef",
   "metadata": {
    "execution": {
     "iopub.execute_input": "2025-07-30T21:45:59.003197Z",
     "iopub.status.busy": "2025-07-30T21:45:59.002618Z",
     "iopub.status.idle": "2025-07-30T21:45:59.281563Z",
     "shell.execute_reply": "2025-07-30T21:45:59.280609Z"
    },
    "papermill": {
     "duration": 0.307487,
     "end_time": "2025-07-30T21:45:59.283232",
     "exception": false,
     "start_time": "2025-07-30T21:45:58.975745",
     "status": "completed"
    },
    "tags": []
   },
   "outputs": [],
   "source": [
    "from fairness_multiverse.conformal import build_cp_groups\n",
    "\n",
    "cp_groups_df = build_cp_groups(pred_sets, y_true, X_test.index, org_test)\n",
    "#needs universe_id and setting"
   ]
  },
  {
   "cell_type": "code",
   "execution_count": 64,
   "id": "01d5802c-663a-4d1f-9d69-e036faaffbf7",
   "metadata": {
    "execution": {
     "iopub.execute_input": "2025-07-30T21:45:59.340705Z",
     "iopub.status.busy": "2025-07-30T21:45:59.340210Z",
     "iopub.status.idle": "2025-07-30T21:45:59.346028Z",
     "shell.execute_reply": "2025-07-30T21:45:59.345041Z"
    },
    "papermill": {
     "duration": 0.031542,
     "end_time": "2025-07-30T21:45:59.347605",
     "exception": false,
     "start_time": "2025-07-30T21:45:59.316063",
     "status": "completed"
    },
    "tags": []
   },
   "outputs": [],
   "source": [
    "#delete\n",
    "#cp_groups_df"
   ]
  },
  {
   "cell_type": "code",
   "execution_count": 65,
   "id": "fa424af1-d1eb-443d-b717-2d279ada8408",
   "metadata": {
    "execution": {
     "iopub.execute_input": "2025-07-30T21:45:59.399420Z",
     "iopub.status.busy": "2025-07-30T21:45:59.398973Z",
     "iopub.status.idle": "2025-07-30T21:45:59.404778Z",
     "shell.execute_reply": "2025-07-30T21:45:59.403567Z"
    },
    "papermill": {
     "duration": 0.034605,
     "end_time": "2025-07-30T21:45:59.406964",
     "exception": false,
     "start_time": "2025-07-30T21:45:59.372359",
     "status": "completed"
    },
    "tags": []
   },
   "outputs": [],
   "source": [
    "#delete\n",
    "#percentage = (cp_groups_df['nongerman_female'] == 1).mean() * 100\n",
    "#print(percentage)\n"
   ]
  },
  {
   "cell_type": "code",
   "execution_count": 66,
   "id": "6cbdab96-b2b2-45af-ad54-d0516db2e28d",
   "metadata": {
    "execution": {
     "iopub.execute_input": "2025-07-30T21:45:59.463430Z",
     "iopub.status.busy": "2025-07-30T21:45:59.462631Z",
     "iopub.status.idle": "2025-07-30T21:46:01.236004Z",
     "shell.execute_reply": "2025-07-30T21:46:01.234911Z"
    },
    "papermill": {
     "duration": 1.802289,
     "end_time": "2025-07-30T21:46:01.237627",
     "exception": false,
     "start_time": "2025-07-30T21:45:59.435338",
     "status": "completed"
    },
    "tags": []
   },
   "outputs": [],
   "source": [
    "# Define covered = 1 if true_label is in the predicted set\n",
    "cp_groups_df['covered'] = cp_groups_df.apply(\n",
    "    lambda r: int(r['true_label'] in r['pred_set']),\n",
    "    axis=1\n",
    ")"
   ]
  },
  {
   "cell_type": "code",
   "execution_count": 67,
   "id": "338ff529-1a6b-4b87-a931-8e4788d52aad",
   "metadata": {
    "execution": {
     "iopub.execute_input": "2025-07-30T21:46:01.296255Z",
     "iopub.status.busy": "2025-07-30T21:46:01.295308Z",
     "iopub.status.idle": "2025-07-30T21:46:01.301233Z",
     "shell.execute_reply": "2025-07-30T21:46:01.300072Z"
    },
    "papermill": {
     "duration": 0.040363,
     "end_time": "2025-07-30T21:46:01.304001",
     "exception": false,
     "start_time": "2025-07-30T21:46:01.263638",
     "status": "completed"
    },
    "tags": []
   },
   "outputs": [],
   "source": [
    "#cp_groups_df"
   ]
  },
  {
   "cell_type": "code",
   "execution_count": 68,
   "id": "90032e27-66df-4540-9169-4e89cfbaa758",
   "metadata": {
    "execution": {
     "iopub.execute_input": "2025-07-30T21:46:01.370173Z",
     "iopub.status.busy": "2025-07-30T21:46:01.369734Z",
     "iopub.status.idle": "2025-07-30T21:46:01.394032Z",
     "shell.execute_reply": "2025-07-30T21:46:01.392823Z"
    },
    "papermill": {
     "duration": 0.061505,
     "end_time": "2025-07-30T21:46:01.396460",
     "exception": false,
     "start_time": "2025-07-30T21:46:01.334955",
     "status": "completed"
    },
    "tags": []
   },
   "outputs": [],
   "source": [
    "subgroups = ['frau1','nongerman','nongerman_male','nongerman_female']\n",
    "\n",
    "# Conditional coverage for subgroup==1\n",
    "cond_coverage = {\n",
    "    g: cp_groups_df.loc[cp_groups_df[g]==1, 'covered'].mean()\n",
    "    for g in subgroups\n",
    "}"
   ]
  },
  {
   "cell_type": "code",
   "execution_count": 69,
   "id": "1e348fb1-b9c3-45bc-ba23-f016827a7e0d",
   "metadata": {
    "execution": {
     "iopub.execute_input": "2025-07-30T21:46:01.459622Z",
     "iopub.status.busy": "2025-07-30T21:46:01.459195Z",
     "iopub.status.idle": "2025-07-30T21:46:01.467368Z",
     "shell.execute_reply": "2025-07-30T21:46:01.466252Z"
    },
    "papermill": {
     "duration": 0.042354,
     "end_time": "2025-07-30T21:46:01.470011",
     "exception": false,
     "start_time": "2025-07-30T21:46:01.427657",
     "status": "completed"
    },
    "tags": []
   },
   "outputs": [
    {
     "data": {
      "text/plain": [
       "{'frau1': 0.913088017252999,\n",
       " 'nongerman': 0.904395666086566,\n",
       " 'nongerman_male': 0.9240745744393407,\n",
       " 'nongerman_female': 0.8718330849478391}"
      ]
     },
     "execution_count": 69,
     "metadata": {},
     "output_type": "execute_result"
    }
   ],
   "source": [
    "cond_coverage"
   ]
  },
  {
   "cell_type": "code",
   "execution_count": 70,
   "id": "f5093324-c3dd-4d63-bc4c-8d945e5c8bbb",
   "metadata": {
    "execution": {
     "iopub.execute_input": "2025-07-30T21:46:01.532452Z",
     "iopub.status.busy": "2025-07-30T21:46:01.531921Z",
     "iopub.status.idle": "2025-07-30T21:46:01.539643Z",
     "shell.execute_reply": "2025-07-30T21:46:01.538658Z"
    },
    "papermill": {
     "duration": 0.040369,
     "end_time": "2025-07-30T21:46:01.541456",
     "exception": false,
     "start_time": "2025-07-30T21:46:01.501087",
     "status": "completed"
    },
    "tags": []
   },
   "outputs": [],
   "source": [
    "for subgroup, cov in cond_coverage.items():\n",
    "    cp_metrics_df[f\"cov_{subgroup}\"] = cov"
   ]
  },
  {
   "cell_type": "code",
   "execution_count": 71,
   "id": "6e872e10-dbe5-49e8-b554-5030c98ff75d",
   "metadata": {
    "execution": {
     "iopub.execute_input": "2025-07-30T21:46:01.604185Z",
     "iopub.status.busy": "2025-07-30T21:46:01.603811Z",
     "iopub.status.idle": "2025-07-30T21:46:01.621267Z",
     "shell.execute_reply": "2025-07-30T21:46:01.620134Z"
    },
    "papermill": {
     "duration": 0.050137,
     "end_time": "2025-07-30T21:46:01.623223",
     "exception": false,
     "start_time": "2025-07-30T21:46:01.573086",
     "status": "completed"
    },
    "tags": []
   },
   "outputs": [
    {
     "data": {
      "text/html": [
       "<div>\n",
       "<style scoped>\n",
       "    .dataframe tbody tr th:only-of-type {\n",
       "        vertical-align: middle;\n",
       "    }\n",
       "\n",
       "    .dataframe tbody tr th {\n",
       "        vertical-align: top;\n",
       "    }\n",
       "\n",
       "    .dataframe thead th {\n",
       "        text-align: right;\n",
       "    }\n",
       "</style>\n",
       "<table border=\"1\" class=\"dataframe\">\n",
       "  <thead>\n",
       "    <tr style=\"text-align: right;\">\n",
       "      <th></th>\n",
       "      <th>universe_id</th>\n",
       "      <th>universe_training_year</th>\n",
       "      <th>universe_training_size</th>\n",
       "      <th>universe_scale</th>\n",
       "      <th>universe_model</th>\n",
       "      <th>universe_exclude_features</th>\n",
       "      <th>universe_exclude_subgroups</th>\n",
       "      <th>q_hat</th>\n",
       "      <th>coverage</th>\n",
       "      <th>avg_size</th>\n",
       "      <th>cov_frau1</th>\n",
       "      <th>cov_nongerman</th>\n",
       "      <th>cov_nongerman_male</th>\n",
       "      <th>cov_nongerman_female</th>\n",
       "    </tr>\n",
       "  </thead>\n",
       "  <tbody>\n",
       "    <tr>\n",
       "      <th>0</th>\n",
       "      <td>3801de5e81fd93924dffc1115d61a0cd</td>\n",
       "      <td>2010_14</td>\n",
       "      <td>1k</td>\n",
       "      <td>scale</td>\n",
       "      <td>rf</td>\n",
       "      <td>none</td>\n",
       "      <td>drop-non-german</td>\n",
       "      <td>0.66</td>\n",
       "      <td>0.914502</td>\n",
       "      <td>1.16045</td>\n",
       "      <td>0.913088</td>\n",
       "      <td>0.904396</td>\n",
       "      <td>0.924075</td>\n",
       "      <td>0.871833</td>\n",
       "    </tr>\n",
       "  </tbody>\n",
       "</table>\n",
       "</div>"
      ],
      "text/plain": [
       "                        universe_id universe_training_year  \\\n",
       "0  3801de5e81fd93924dffc1115d61a0cd                2010_14   \n",
       "\n",
       "  universe_training_size universe_scale universe_model  \\\n",
       "0                     1k          scale             rf   \n",
       "\n",
       "  universe_exclude_features universe_exclude_subgroups  q_hat  coverage  \\\n",
       "0                      none            drop-non-german   0.66  0.914502   \n",
       "\n",
       "   avg_size  cov_frau1  cov_nongerman  cov_nongerman_male  \\\n",
       "0   1.16045   0.913088       0.904396            0.924075   \n",
       "\n",
       "   cov_nongerman_female  \n",
       "0              0.871833  "
      ]
     },
     "execution_count": 71,
     "metadata": {},
     "output_type": "execute_result"
    }
   ],
   "source": [
    "cp_metrics_df"
   ]
  },
  {
   "cell_type": "markdown",
   "id": "33774451",
   "metadata": {
    "papermill": {
     "duration": 0.024403,
     "end_time": "2025-07-30T21:46:01.681006",
     "exception": false,
     "start_time": "2025-07-30T21:46:01.656603",
     "status": "completed"
    },
    "tags": []
   },
   "source": [
    "# (Fairness) Metrics"
   ]
  },
  {
   "cell_type": "code",
   "execution_count": 72,
   "id": "debc5d62",
   "metadata": {
    "execution": {
     "iopub.execute_input": "2025-07-30T21:46:01.731603Z",
     "iopub.status.busy": "2025-07-30T21:46:01.731230Z",
     "iopub.status.idle": "2025-07-30T21:46:01.749324Z",
     "shell.execute_reply": "2025-07-30T21:46:01.748142Z"
    },
    "papermill": {
     "duration": 0.046121,
     "end_time": "2025-07-30T21:46:01.752150",
     "exception": false,
     "start_time": "2025-07-30T21:46:01.706029",
     "status": "completed"
    },
    "tags": []
   },
   "outputs": [],
   "source": [
    "# do I need to include maxdeutsch1.missing?\n",
    "\n",
    "import numpy as np\n",
    "\n",
    "colname_to_bin = \"maxdeutsch1\"\n",
    "majority_value = org_train[colname_to_bin].mode()[0]\n",
    "\n",
    "org_test[\"majmin\"] = np.where(org_test[colname_to_bin] == majority_value, \"majority\", \"minority\")"
   ]
  },
  {
   "cell_type": "code",
   "execution_count": 73,
   "id": "06a50de5",
   "metadata": {
    "execution": {
     "iopub.execute_input": "2025-07-30T21:46:01.843972Z",
     "iopub.status.busy": "2025-07-30T21:46:01.843547Z",
     "iopub.status.idle": "2025-07-30T21:46:05.004189Z",
     "shell.execute_reply": "2025-07-30T21:46:05.000109Z"
    },
    "papermill": {
     "duration": 3.205381,
     "end_time": "2025-07-30T21:46:05.006090",
     "exception": false,
     "start_time": "2025-07-30T21:46:01.800709",
     "status": "completed"
    },
    "tags": []
   },
   "outputs": [],
   "source": [
    "example_universe = universe.copy()\n",
    "example_universe[\"cutoff\"] = example_universe[\"cutoff\"][0]\n",
    "example_universe[\"eval_fairness_grouping\"] = example_universe[\"eval_fairness_grouping\"][0]\n",
    "fairness_dict, metric_frame = universe_analysis.compute_metrics(\n",
    "    example_universe,\n",
    "    y_pred_prob=probs_test,\n",
    "    y_test=y_true,\n",
    "    org_test=org_test,\n",
    ")"
   ]
  },
  {
   "cell_type": "markdown",
   "id": "f95d4e02",
   "metadata": {
    "papermill": {
     "duration": 0.043414,
     "end_time": "2025-07-30T21:46:05.088250",
     "exception": false,
     "start_time": "2025-07-30T21:46:05.044836",
     "status": "completed"
    },
    "tags": []
   },
   "source": [
    "# Overall"
   ]
  },
  {
   "cell_type": "markdown",
   "id": "bdee4871",
   "metadata": {
    "papermill": {
     "duration": 0.024894,
     "end_time": "2025-07-30T21:46:05.157257",
     "exception": false,
     "start_time": "2025-07-30T21:46:05.132363",
     "status": "completed"
    },
    "tags": []
   },
   "source": [
    "Fairness\n",
    "Main fairness target: Equalized Odds. Seems to be a better fit than equal opportunity, since we're not only interested in Y = 1. Seems to be a better fit than demographic parity, since we also care about accuracy, not just equal distribution of preds.\n",
    "\n",
    "Pick column for computation of fairness metrics\n",
    "\n",
    "Performance\n",
    "Overall performance measures, most interesting in relation to the measures split by group below"
   ]
  },
  {
   "cell_type": "code",
   "execution_count": 74,
   "id": "c4e067c6",
   "metadata": {
    "execution": {
     "iopub.execute_input": "2025-07-30T21:46:05.220846Z",
     "iopub.status.busy": "2025-07-30T21:46:05.220493Z",
     "iopub.status.idle": "2025-07-30T21:46:05.228563Z",
     "shell.execute_reply": "2025-07-30T21:46:05.227458Z"
    },
    "papermill": {
     "duration": 0.042034,
     "end_time": "2025-07-30T21:46:05.232992",
     "exception": false,
     "start_time": "2025-07-30T21:46:05.190958",
     "status": "completed"
    },
    "tags": []
   },
   "outputs": [
    {
     "data": {
      "text/plain": [
       "accuracy                   0.218025\n",
       "balanced accuracy          0.542471\n",
       "f1                         0.243092\n",
       "precision                  0.138778\n",
       "false positive rate        0.893941\n",
       "false negative rate        0.021116\n",
       "selection rate             0.904838\n",
       "count                  89710.000000\n",
       "dtype: float64"
      ]
     },
     "execution_count": 74,
     "metadata": {},
     "output_type": "execute_result"
    }
   ],
   "source": [
    "metric_frame.overall"
   ]
  },
  {
   "cell_type": "markdown",
   "id": "e968fe9d",
   "metadata": {
    "papermill": {
     "duration": 0.027693,
     "end_time": "2025-07-30T21:46:05.285694",
     "exception": false,
     "start_time": "2025-07-30T21:46:05.258001",
     "status": "completed"
    },
    "tags": []
   },
   "source": [
    "By Group"
   ]
  },
  {
   "cell_type": "code",
   "execution_count": 75,
   "id": "ec325bce",
   "metadata": {
    "execution": {
     "iopub.execute_input": "2025-07-30T21:46:05.346212Z",
     "iopub.status.busy": "2025-07-30T21:46:05.345728Z",
     "iopub.status.idle": "2025-07-30T21:46:05.363546Z",
     "shell.execute_reply": "2025-07-30T21:46:05.362409Z"
    },
    "papermill": {
     "duration": 0.05002,
     "end_time": "2025-07-30T21:46:05.365359",
     "exception": false,
     "start_time": "2025-07-30T21:46:05.315339",
     "status": "completed"
    },
    "tags": []
   },
   "outputs": [
    {
     "data": {
      "text/html": [
       "<div>\n",
       "<style scoped>\n",
       "    .dataframe tbody tr th:only-of-type {\n",
       "        vertical-align: middle;\n",
       "    }\n",
       "\n",
       "    .dataframe tbody tr th {\n",
       "        vertical-align: top;\n",
       "    }\n",
       "\n",
       "    .dataframe thead th {\n",
       "        text-align: right;\n",
       "    }\n",
       "</style>\n",
       "<table border=\"1\" class=\"dataframe\">\n",
       "  <thead>\n",
       "    <tr style=\"text-align: right;\">\n",
       "      <th></th>\n",
       "      <th>accuracy</th>\n",
       "      <th>balanced accuracy</th>\n",
       "      <th>f1</th>\n",
       "      <th>precision</th>\n",
       "      <th>false positive rate</th>\n",
       "      <th>false negative rate</th>\n",
       "      <th>selection rate</th>\n",
       "      <th>count</th>\n",
       "    </tr>\n",
       "    <tr>\n",
       "      <th>majmin</th>\n",
       "      <th></th>\n",
       "      <th></th>\n",
       "      <th></th>\n",
       "      <th></th>\n",
       "      <th></th>\n",
       "      <th></th>\n",
       "      <th></th>\n",
       "      <th></th>\n",
       "    </tr>\n",
       "  </thead>\n",
       "  <tbody>\n",
       "    <tr>\n",
       "      <th>majority</th>\n",
       "      <td>0.223825</td>\n",
       "      <td>0.544893</td>\n",
       "      <td>0.250440</td>\n",
       "      <td>0.143536</td>\n",
       "      <td>0.891504</td>\n",
       "      <td>0.018709</td>\n",
       "      <td>0.903369</td>\n",
       "      <td>69170.0</td>\n",
       "    </tr>\n",
       "    <tr>\n",
       "      <th>minority</th>\n",
       "      <td>0.198491</td>\n",
       "      <td>0.533801</td>\n",
       "      <td>0.218095</td>\n",
       "      <td>0.122866</td>\n",
       "      <td>0.901992</td>\n",
       "      <td>0.030405</td>\n",
       "      <td>0.909786</td>\n",
       "      <td>20540.0</td>\n",
       "    </tr>\n",
       "  </tbody>\n",
       "</table>\n",
       "</div>"
      ],
      "text/plain": [
       "          accuracy  balanced accuracy        f1  precision  \\\n",
       "majmin                                                       \n",
       "majority  0.223825           0.544893  0.250440   0.143536   \n",
       "minority  0.198491           0.533801  0.218095   0.122866   \n",
       "\n",
       "          false positive rate  false negative rate  selection rate    count  \n",
       "majmin                                                                       \n",
       "majority             0.891504             0.018709        0.903369  69170.0  \n",
       "minority             0.901992             0.030405        0.909786  20540.0  "
      ]
     },
     "execution_count": 75,
     "metadata": {},
     "output_type": "execute_result"
    }
   ],
   "source": [
    "metric_frame.by_group"
   ]
  },
  {
   "cell_type": "code",
   "execution_count": 76,
   "id": "a9ddbe63",
   "metadata": {
    "execution": {
     "iopub.execute_input": "2025-07-30T21:46:05.427311Z",
     "iopub.status.busy": "2025-07-30T21:46:05.426916Z",
     "iopub.status.idle": "2025-07-30T21:46:07.859463Z",
     "shell.execute_reply": "2025-07-30T21:46:07.858522Z"
    },
    "papermill": {
     "duration": 2.465445,
     "end_time": "2025-07-30T21:46:07.861271",
     "exception": false,
     "start_time": "2025-07-30T21:46:05.395826",
     "status": "completed"
    },
    "tags": []
   },
   "outputs": [
    {
     "data": {
      "text/plain": [
       "array([[<Axes: title={'center': 'accuracy'}, xlabel='majmin'>,\n",
       "        <Axes: title={'center': 'balanced accuracy'}, xlabel='majmin'>,\n",
       "        <Axes: title={'center': 'f1'}, xlabel='majmin'>],\n",
       "       [<Axes: title={'center': 'precision'}, xlabel='majmin'>,\n",
       "        <Axes: title={'center': 'false positive rate'}, xlabel='majmin'>,\n",
       "        <Axes: title={'center': 'false negative rate'}, xlabel='majmin'>],\n",
       "       [<Axes: title={'center': 'selection rate'}, xlabel='majmin'>,\n",
       "        <Axes: title={'center': 'count'}, xlabel='majmin'>,\n",
       "        <Axes: xlabel='majmin'>]], dtype=object)"
      ]
     },
     "execution_count": 76,
     "metadata": {},
     "output_type": "execute_result"
    },
    {
     "data": {
      "image/png": "[encoded data removed]",
      "text/plain": [
       "<Figure size 1200x800 with 9 Axes>"
      ]
     },
     "metadata": {},
     "output_type": "display_data"
    }
   ],
   "source": [
    "# In a graphic\n",
    "metric_frame.by_group.plot.bar(\n",
    "    subplots=True,\n",
    "    layout=[3, 3],\n",
    "    legend=False,\n",
    "    figsize=[12, 8],\n",
    "    title=\"Show all metrics\",\n",
    ")"
   ]
  },
  {
   "cell_type": "markdown",
   "id": "f57a0bac",
   "metadata": {
    "papermill": {
     "duration": 0.029506,
     "end_time": "2025-07-30T21:46:07.924197",
     "exception": false,
     "start_time": "2025-07-30T21:46:07.894691",
     "status": "completed"
    },
    "tags": []
   },
   "source": [
    "# Final Output"
   ]
  },
  {
   "cell_type": "code",
   "execution_count": 77,
   "id": "96d280a3",
   "metadata": {
    "execution": {
     "iopub.execute_input": "2025-07-30T21:46:07.985300Z",
     "iopub.status.busy": "2025-07-30T21:46:07.984368Z",
     "iopub.status.idle": "2025-07-30T21:46:07.992825Z",
     "shell.execute_reply": "2025-07-30T21:46:07.991900Z"
    },
    "papermill": {
     "duration": 0.04042,
     "end_time": "2025-07-30T21:46:07.994394",
     "exception": false,
     "start_time": "2025-07-30T21:46:07.953974",
     "status": "completed"
    },
    "tags": []
   },
   "outputs": [
    {
     "data": {
      "text/plain": [
       "4"
      ]
     },
     "execution_count": 77,
     "metadata": {},
     "output_type": "execute_result"
    }
   ],
   "source": [
    "sub_universes = universe_analysis.generate_sub_universes()\n",
    "len(sub_universes)"
   ]
  },
  {
   "cell_type": "code",
   "execution_count": 78,
   "id": "92adf7ba",
   "metadata": {
    "execution": {
     "iopub.execute_input": "2025-07-30T21:46:08.048852Z",
     "iopub.status.busy": "2025-07-30T21:46:08.048385Z",
     "iopub.status.idle": "2025-07-30T21:46:08.054388Z",
     "shell.execute_reply": "2025-07-30T21:46:08.053288Z"
    },
    "papermill": {
     "duration": 0.034684,
     "end_time": "2025-07-30T21:46:08.056022",
     "exception": false,
     "start_time": "2025-07-30T21:46:08.021338",
     "status": "completed"
    },
    "tags": []
   },
   "outputs": [],
   "source": [
    "def filter_sub_universe_data(sub_universe, org_test):\n",
    "    # Keep all rows — no filtering\n",
    "    keep_rows_mask = np.ones(org_test.shape[0], dtype=bool)\n",
    "\n",
    "    print(f\"[INFO] Keeping all rows: {keep_rows_mask.sum()} rows retained.\")\n",
    "    return keep_rows_mask"
   ]
  },
  {
   "cell_type": "code",
   "execution_count": 79,
   "id": "4a759155",
   "metadata": {
    "execution": {
     "iopub.execute_input": "2025-07-30T21:46:08.113038Z",
     "iopub.status.busy": "2025-07-30T21:46:08.112253Z",
     "iopub.status.idle": "2025-07-30T21:46:17.404230Z",
     "shell.execute_reply": "2025-07-30T21:46:17.403356Z"
    },
    "papermill": {
     "duration": 9.32125,
     "end_time": "2025-07-30T21:46:17.405788",
     "exception": false,
     "start_time": "2025-07-30T21:46:08.084538",
     "status": "completed"
    },
    "tags": []
   },
   "outputs": [
    {
     "name": "stdout",
     "output_type": "stream",
     "text": [
      "Stopping execution_time clock.\n",
      "[INFO] Keeping all rows: 89710 rows retained.\n"
     ]
    },
    {
     "name": "stdout",
     "output_type": "stream",
     "text": [
      "[INFO] Keeping all rows: 89710 rows retained.\n"
     ]
    },
    {
     "name": "stdout",
     "output_type": "stream",
     "text": [
      "[INFO] Keeping all rows: 89710 rows retained.\n"
     ]
    },
    {
     "name": "stdout",
     "output_type": "stream",
     "text": [
      "[INFO] Keeping all rows: 89710 rows retained.\n"
     ]
    },
    {
     "data": {
      "text/html": [
       "<div>\n",
       "<style scoped>\n",
       "    .dataframe tbody tr th:only-of-type {\n",
       "        vertical-align: middle;\n",
       "    }\n",
       "\n",
       "    .dataframe tbody tr th {\n",
       "        vertical-align: top;\n",
       "    }\n",
       "\n",
       "    .dataframe thead th {\n",
       "        text-align: right;\n",
       "    }\n",
       "</style>\n",
       "<table border=\"1\" class=\"dataframe\">\n",
       "  <thead>\n",
       "    <tr style=\"text-align: right;\">\n",
       "      <th></th>\n",
       "      <th>run_no</th>\n",
       "      <th>universe_id</th>\n",
       "      <th>universe_settings</th>\n",
       "      <th>execution_time</th>\n",
       "      <th>test_size_n</th>\n",
       "      <th>test_size_frac</th>\n",
       "      <th>fair_main_equalized_odds_difference</th>\n",
       "      <th>fair_main_equalized_odds_ratio</th>\n",
       "      <th>fair_main_demographic_parity_difference</th>\n",
       "      <th>fair_main_demographic_parity_ratio</th>\n",
       "      <th>...</th>\n",
       "      <th>perf_grp_precision_0</th>\n",
       "      <th>perf_grp_precision_1</th>\n",
       "      <th>perf_grp_false positive rate_0</th>\n",
       "      <th>perf_grp_false positive rate_1</th>\n",
       "      <th>perf_grp_false negative rate_0</th>\n",
       "      <th>perf_grp_false negative rate_1</th>\n",
       "      <th>perf_grp_selection rate_0</th>\n",
       "      <th>perf_grp_selection rate_1</th>\n",
       "      <th>perf_grp_count_0</th>\n",
       "      <th>perf_grp_count_1</th>\n",
       "    </tr>\n",
       "  </thead>\n",
       "  <tbody>\n",
       "    <tr>\n",
       "      <th>0</th>\n",
       "      <td>14</td>\n",
       "      <td>3801de5e81fd93924dffc1115d61a0cd</td>\n",
       "      <td>{\"cutoff\": \"quantile_0.1\", \"eval_fairness_grou...</td>\n",
       "      <td>34.052062</td>\n",
       "      <td>89710</td>\n",
       "      <td>1.0</td>\n",
       "      <td>0.011696</td>\n",
       "      <td>0.988081</td>\n",
       "      <td>0.006417</td>\n",
       "      <td>0.992946</td>\n",
       "      <td>...</td>\n",
       "      <td>NaN</td>\n",
       "      <td>NaN</td>\n",
       "      <td>NaN</td>\n",
       "      <td>NaN</td>\n",
       "      <td>NaN</td>\n",
       "      <td>NaN</td>\n",
       "      <td>NaN</td>\n",
       "      <td>NaN</td>\n",
       "      <td>NaN</td>\n",
       "      <td>NaN</td>\n",
       "    </tr>\n",
       "    <tr>\n",
       "      <th>0</th>\n",
       "      <td>14</td>\n",
       "      <td>3801de5e81fd93924dffc1115d61a0cd</td>\n",
       "      <td>{\"cutoff\": \"quantile_0.1\", \"eval_fairness_grou...</td>\n",
       "      <td>34.052062</td>\n",
       "      <td>89710</td>\n",
       "      <td>1.0</td>\n",
       "      <td>0.011696</td>\n",
       "      <td>0.988081</td>\n",
       "      <td>0.006417</td>\n",
       "      <td>0.992946</td>\n",
       "      <td>...</td>\n",
       "      <td>0.122866</td>\n",
       "      <td>0.143536</td>\n",
       "      <td>0.901992</td>\n",
       "      <td>0.891504</td>\n",
       "      <td>0.030405</td>\n",
       "      <td>0.018709</td>\n",
       "      <td>0.909786</td>\n",
       "      <td>0.903369</td>\n",
       "      <td>20540.0</td>\n",
       "      <td>69170.0</td>\n",
       "    </tr>\n",
       "    <tr>\n",
       "      <th>0</th>\n",
       "      <td>14</td>\n",
       "      <td>3801de5e81fd93924dffc1115d61a0cd</td>\n",
       "      <td>{\"cutoff\": \"quantile_0.25\", \"eval_fairness_gro...</td>\n",
       "      <td>34.052062</td>\n",
       "      <td>89710</td>\n",
       "      <td>1.0</td>\n",
       "      <td>0.063838</td>\n",
       "      <td>0.932216</td>\n",
       "      <td>0.008613</td>\n",
       "      <td>0.988900</td>\n",
       "      <td>...</td>\n",
       "      <td>NaN</td>\n",
       "      <td>NaN</td>\n",
       "      <td>NaN</td>\n",
       "      <td>NaN</td>\n",
       "      <td>NaN</td>\n",
       "      <td>NaN</td>\n",
       "      <td>NaN</td>\n",
       "      <td>NaN</td>\n",
       "      <td>NaN</td>\n",
       "      <td>NaN</td>\n",
       "    </tr>\n",
       "    <tr>\n",
       "      <th>0</th>\n",
       "      <td>14</td>\n",
       "      <td>3801de5e81fd93924dffc1115d61a0cd</td>\n",
       "      <td>{\"cutoff\": \"quantile_0.25\", \"eval_fairness_gro...</td>\n",
       "      <td>34.052062</td>\n",
       "      <td>89710</td>\n",
       "      <td>1.0</td>\n",
       "      <td>0.063838</td>\n",
       "      <td>0.932216</td>\n",
       "      <td>0.008613</td>\n",
       "      <td>0.988900</td>\n",
       "      <td>...</td>\n",
       "      <td>0.130435</td>\n",
       "      <td>0.162170</td>\n",
       "      <td>0.762712</td>\n",
       "      <td>0.740830</td>\n",
       "      <td>0.122044</td>\n",
       "      <td>0.058206</td>\n",
       "      <td>0.775998</td>\n",
       "      <td>0.767385</td>\n",
       "      <td>20540.0</td>\n",
       "      <td>69170.0</td>\n",
       "    </tr>\n",
       "  </tbody>\n",
       "</table>\n",
       "<p>4 rows × 50 columns</p>\n",
       "</div>"
      ],
      "text/plain": [
       "  run_no                       universe_id  \\\n",
       "0     14  3801de5e81fd93924dffc1115d61a0cd   \n",
       "0     14  3801de5e81fd93924dffc1115d61a0cd   \n",
       "0     14  3801de5e81fd93924dffc1115d61a0cd   \n",
       "0     14  3801de5e81fd93924dffc1115d61a0cd   \n",
       "\n",
       "                                   universe_settings  execution_time  \\\n",
       "0  {\"cutoff\": \"quantile_0.1\", \"eval_fairness_grou...       34.052062   \n",
       "0  {\"cutoff\": \"quantile_0.1\", \"eval_fairness_grou...       34.052062   \n",
       "0  {\"cutoff\": \"quantile_0.25\", \"eval_fairness_gro...       34.052062   \n",
       "0  {\"cutoff\": \"quantile_0.25\", \"eval_fairness_gro...       34.052062   \n",
       "\n",
       "   test_size_n  test_size_frac  fair_main_equalized_odds_difference  \\\n",
       "0        89710             1.0                             0.011696   \n",
       "0        89710             1.0                             0.011696   \n",
       "0        89710             1.0                             0.063838   \n",
       "0        89710             1.0                             0.063838   \n",
       "\n",
       "   fair_main_equalized_odds_ratio  fair_main_demographic_parity_difference  \\\n",
       "0                        0.988081                                 0.006417   \n",
       "0                        0.988081                                 0.006417   \n",
       "0                        0.932216                                 0.008613   \n",
       "0                        0.932216                                 0.008613   \n",
       "\n",
       "   fair_main_demographic_parity_ratio  ...  perf_grp_precision_0  \\\n",
       "0                            0.992946  ...                   NaN   \n",
       "0                            0.992946  ...              0.122866   \n",
       "0                            0.988900  ...                   NaN   \n",
       "0                            0.988900  ...              0.130435   \n",
       "\n",
       "   perf_grp_precision_1  perf_grp_false positive rate_0  \\\n",
       "0                   NaN                             NaN   \n",
       "0              0.143536                        0.901992   \n",
       "0                   NaN                             NaN   \n",
       "0              0.162170                        0.762712   \n",
       "\n",
       "   perf_grp_false positive rate_1  perf_grp_false negative rate_0  \\\n",
       "0                             NaN                             NaN   \n",
       "0                        0.891504                        0.030405   \n",
       "0                             NaN                             NaN   \n",
       "0                        0.740830                        0.122044   \n",
       "\n",
       "   perf_grp_false negative rate_1  perf_grp_selection rate_0  \\\n",
       "0                             NaN                        NaN   \n",
       "0                        0.018709                   0.909786   \n",
       "0                             NaN                        NaN   \n",
       "0                        0.058206                   0.775998   \n",
       "\n",
       "   perf_grp_selection rate_1  perf_grp_count_0  perf_grp_count_1  \n",
       "0                        NaN               NaN               NaN  \n",
       "0                   0.903369           20540.0           69170.0  \n",
       "0                        NaN               NaN               NaN  \n",
       "0                   0.767385           20540.0           69170.0  \n",
       "\n",
       "[4 rows x 50 columns]"
      ]
     },
     "execution_count": 79,
     "metadata": {},
     "output_type": "execute_result"
    }
   ],
   "source": [
    "final_output = universe_analysis.generate_final_output(\n",
    "    y_pred_prob=probs_test,\n",
    "    y_test=y_true,\n",
    "    org_test=org_test,\n",
    "    filter_data=filter_sub_universe_data,\n",
    "    cp_metrics_df=cp_metrics_df,\n",
    "    save=True,\n",
    ")\n",
    "final_output"
   ]
  },
  {
   "cell_type": "code",
   "execution_count": null,
   "id": "721ff514-cb11-46f8-b6fc-50392f74b5cb",
   "metadata": {
    "papermill": {
     "duration": 0.017253,
     "end_time": "2025-07-30T21:46:17.443378",
     "exception": false,
     "start_time": "2025-07-30T21:46:17.426125",
     "status": "completed"
    },
    "tags": []
   },
   "outputs": [],
   "source": []
  }
 ],
 "metadata": {
  "celltoolbar": "Tags",
  "kernelspec": {
   "display_name": "Python (CMA Fairness)",
   "language": "python",
   "name": "cma_fair_env"
  },
  "language_info": {
   "codemirror_mode": {
    "name": "ipython",
    "version": 3
   },
   "file_extension": ".py",
   "mimetype": "text/x-python",
   "name": "python",
   "nbconvert_exporter": "python",
   "pygments_lexer": "ipython3",
   "version": "3.10.12"
  },
  "papermill": {
   "default_parameters": {},
   "duration": 47.546502,
   "end_time": "2025-07-30T21:46:18.078608",
   "environment_variables": {},
   "exception": null,
   "input_path": "universe_analysis.ipynb",
   "output_path": "output/runs/14/notebooks/m_14-3801de5e81fd93924dffc1115d61a0cd.ipynb",
   "parameters": {
    "output_dir": "output",
    "run_no": "14",
    "seed": "2023",
    "universe": "{\"cutoff\": [\"quantile_0.1\", \"quantile_0.25\"], \"eval_fairness_grouping\": [\"majority-minority\", \"nationality-all\"], \"exclude_features\": \"none\", \"exclude_subgroups\": \"drop-non-german\", \"model\": \"rf\", \"scale\": \"scale\", \"training_size\": \"1k\", \"training_year\": \"2010_14\"}",
    "universe_id": "3801de5e81fd93924dffc1115d61a0cd"
   },
   "start_time": "2025-07-30T21:45:30.532106",
   "version": "2.6.0"
  }
 },
 "nbformat": 4,
 "nbformat_minor": 5
}