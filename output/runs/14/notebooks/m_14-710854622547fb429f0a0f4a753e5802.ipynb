{
 "cells": [
  {
   "cell_type": "code",
   "execution_count": 1,
   "id": "f159f837-637b-42ba-96b5-ec9a68c44524",
   "metadata": {
    "execution": {
     "iopub.execute_input": "2025-07-30T21:37:27.332309Z",
     "iopub.status.busy": "2025-07-30T21:37:27.331813Z",
     "iopub.status.idle": "2025-07-30T21:37:27.347255Z",
     "shell.execute_reply": "2025-07-30T21:37:27.346238Z"
    },
    "papermill": {
     "duration": 0.039406,
     "end_time": "2025-07-30T21:37:27.348921",
     "exception": false,
     "start_time": "2025-07-30T21:37:27.309515",
     "status": "completed"
    },
    "tags": []
   },
   "outputs": [
    {
     "name": "stdout",
     "output_type": "stream",
     "text": [
      "/dss/dsshome1/0C/ra93lal2/cma/CMA_Fairness_v2\n"
     ]
    },
    {
     "name": "stderr",
     "output_type": "stream",
     "text": [
      "/dss/dsshome1/0C/ra93lal2/.local/share/virtualenvs/CMA_Fairness_v2-3j10GkSs/lib/python3.10/site-packages/IPython/core/magics/osm.py:393: UserWarning: This is now an optional IPython functionality, using bookmarks requires you to install the `pickleshare` library.\n",
      "  bkms = self.shell.db.get('bookmarks', {})\n",
      "/dss/dsshome1/0C/ra93lal2/.local/share/virtualenvs/CMA_Fairness_v2-3j10GkSs/lib/python3.10/site-packages/IPython/core/magics/osm.py:417: UserWarning: This is now an optional IPython functionality, setting dhist requires you to install the `pickleshare` library.\n",
      "  self.shell.db['dhist'] = compress_dhist(dhist)[-100:]\n"
     ]
    }
   ],
   "source": [
    "%cd ~/cma/CMA_Fairness_v2"
   ]
  },
  {
   "cell_type": "markdown",
   "id": "de2603b9",
   "metadata": {
    "papermill": {
     "duration": 0.018533,
     "end_time": "2025-07-30T21:37:27.386225",
     "exception": false,
     "start_time": "2025-07-30T21:37:27.367692",
     "status": "completed"
    },
    "tags": []
   },
   "source": [
    "The following cell holds the definition of our parameters, these values can be overriden by rendering the with e.g. the following command:\n",
    "\n",
    "papermill -p alpha 0.2 -p ratio 0.3 universe_analysis.ipynb output/test_run.ipynb"
   ]
  },
  {
   "cell_type": "code",
   "execution_count": 2,
   "id": "a80968a0-40bb-4fa9-85ef-2d5eefb01975",
   "metadata": {
    "execution": {
     "iopub.execute_input": "2025-07-30T21:37:27.424025Z",
     "iopub.status.busy": "2025-07-30T21:37:27.423163Z",
     "iopub.status.idle": "2025-07-30T21:37:27.428257Z",
     "shell.execute_reply": "2025-07-30T21:37:27.427434Z"
    },
    "papermill": {
     "duration": 0.02612,
     "end_time": "2025-07-30T21:37:27.430410",
     "exception": false,
     "start_time": "2025-07-30T21:37:27.404290",
     "status": "completed"
    },
    "tags": []
   },
   "outputs": [
    {
     "name": "stdout",
     "output_type": "stream",
     "text": [
      "Current working directory: /dss/dsshome1/0C/ra93lal2/cma/CMA_Fairness_v2\n"
     ]
    }
   ],
   "source": [
    "import os\n",
    "print(\"Current working directory:\", os.getcwd())"
   ]
  },
  {
   "cell_type": "code",
   "execution_count": 3,
   "id": "2dce4c03",
   "metadata": {
    "execution": {
     "iopub.execute_input": "2025-07-30T21:37:27.469678Z",
     "iopub.status.busy": "2025-07-30T21:37:27.469057Z",
     "iopub.status.idle": "2025-07-30T21:37:27.475470Z",
     "shell.execute_reply": "2025-07-30T21:37:27.474481Z"
    },
    "papermill": {
     "duration": 0.027775,
     "end_time": "2025-07-30T21:37:27.477301",
     "exception": false,
     "start_time": "2025-07-30T21:37:27.449526",
     "status": "completed"
    },
    "tags": [
     "parameters"
    ]
   },
   "outputs": [],
   "source": [
    "run_no = 0\n",
    "universe_id = \"test\"\n",
    "universe = {\n",
    "    \"training_size\": \"25k\", # \"25k\", \"5k\", \"1k\"\n",
    "    \"training_year\": \"2014\", # \"2014\", \"2012_14\", \"2010_14\"\n",
    "    \"scale\": \"scale\", # \"scale\", \"do-not-scale\",\n",
    "    #\"stratify_split\": \"target\", # \"none\", \"target\", \"protected-attribute\", \"both\",\n",
    "    \"model\": \"elasticnet\", # \"logreg\", \"penalized_logreg\", \"rf\", \"gbm\", \"elasticnet\"\n",
    "    \"cutoff\": [\"quantile_0.15\", \"quantile_0.30\"],\n",
    "    \"exclude_features\": \"age\", # \"none\", \"nationality\", \"sex\", \"nationality-sex\", \"age\"\n",
    "    \"exclude_subgroups\": \"keep-all\", # \"keep-all\", \"drop-non-german\"\n",
    "    \"eval_fairness_grouping\": [\"majority-minority\", \"nationality-all\"]\n",
    "}\n",
    "\n",
    "output_dir=\"./output\"\n",
    "seed=0"
   ]
  },
  {
   "cell_type": "code",
   "execution_count": 4,
   "id": "75a0daa7",
   "metadata": {
    "execution": {
     "iopub.execute_input": "2025-07-30T21:37:27.517783Z",
     "iopub.status.busy": "2025-07-30T21:37:27.516774Z",
     "iopub.status.idle": "2025-07-30T21:37:27.522487Z",
     "shell.execute_reply": "2025-07-30T21:37:27.521620Z"
    },
    "papermill": {
     "duration": 0.028161,
     "end_time": "2025-07-30T21:37:27.524694",
     "exception": false,
     "start_time": "2025-07-30T21:37:27.496533",
     "status": "completed"
    },
    "tags": [
     "injected-parameters"
    ]
   },
   "outputs": [],
   "source": [
    "# Parameters\n",
    "universe_id = \"710854622547fb429f0a0f4a753e5802\"\n",
    "run_no = \"14\"\n",
    "universe = \"{\\\"cutoff\\\": [\\\"quantile_0.1\\\", \\\"quantile_0.25\\\"], \\\"eval_fairness_grouping\\\": [\\\"majority-minority\\\", \\\"nationality-all\\\"], \\\"exclude_features\\\": \\\"nationality-sex\\\", \\\"exclude_subgroups\\\": \\\"keep-all\\\", \\\"model\\\": \\\"elasticnet\\\", \\\"scale\\\": \\\"scale\\\", \\\"training_size\\\": \\\"1k\\\", \\\"training_year\\\": \\\"2012_14\\\"}\"\n",
    "output_dir = \"output\"\n",
    "seed = \"2023\"\n"
   ]
  },
  {
   "cell_type": "code",
   "execution_count": 5,
   "id": "1650acaf",
   "metadata": {
    "execution": {
     "iopub.execute_input": "2025-07-30T21:37:27.570304Z",
     "iopub.status.busy": "2025-07-30T21:37:27.569952Z",
     "iopub.status.idle": "2025-07-30T21:37:27.574058Z",
     "shell.execute_reply": "2025-07-30T21:37:27.573209Z"
    },
    "papermill": {
     "duration": 0.027279,
     "end_time": "2025-07-30T21:37:27.575260",
     "exception": false,
     "start_time": "2025-07-30T21:37:27.547981",
     "status": "completed"
    },
    "tags": []
   },
   "outputs": [],
   "source": [
    "import json\n",
    "# Parse universe into dict if it is passed as a string\n",
    "if isinstance(universe, str):\n",
    "    universe = json.loads(universe)"
   ]
  },
  {
   "cell_type": "code",
   "execution_count": 6,
   "id": "16620c48",
   "metadata": {
    "execution": {
     "iopub.execute_input": "2025-07-30T21:37:27.602336Z",
     "iopub.status.busy": "2025-07-30T21:37:27.601921Z",
     "iopub.status.idle": "2025-07-30T21:37:27.646046Z",
     "shell.execute_reply": "2025-07-30T21:37:27.645015Z"
    },
    "papermill": {
     "duration": 0.061479,
     "end_time": "2025-07-30T21:37:27.647903",
     "exception": false,
     "start_time": "2025-07-30T21:37:27.586424",
     "status": "completed"
    },
    "tags": []
   },
   "outputs": [],
   "source": [
    "# Auto-reload the custom package\n",
    "%load_ext autoreload\n",
    "%autoreload 1\n",
    "%aimport fairness_multiverse"
   ]
  },
  {
   "cell_type": "code",
   "execution_count": 7,
   "id": "01c5c9f3",
   "metadata": {
    "execution": {
     "iopub.execute_input": "2025-07-30T21:37:27.692181Z",
     "iopub.status.busy": "2025-07-30T21:37:27.691274Z",
     "iopub.status.idle": "2025-07-30T21:37:29.213364Z",
     "shell.execute_reply": "2025-07-30T21:37:29.212489Z"
    },
    "papermill": {
     "duration": 1.545678,
     "end_time": "2025-07-30T21:37:29.214844",
     "exception": false,
     "start_time": "2025-07-30T21:37:27.669166",
     "status": "completed"
    },
    "tags": []
   },
   "outputs": [],
   "source": [
    "from fairness_multiverse.universe import UniverseAnalysis\n",
    "\n",
    "universe_analysis = UniverseAnalysis(\n",
    "    run_no = run_no,\n",
    "    universe_id = universe_id,\n",
    "    universe = universe,\n",
    "    output_dir=output_dir,\n",
    ")"
   ]
  },
  {
   "cell_type": "code",
   "execution_count": 8,
   "id": "106241f5",
   "metadata": {
    "execution": {
     "iopub.execute_input": "2025-07-30T21:37:29.238176Z",
     "iopub.status.busy": "2025-07-30T21:37:29.237564Z",
     "iopub.status.idle": "2025-07-30T21:37:29.244078Z",
     "shell.execute_reply": "2025-07-30T21:37:29.243149Z"
    },
    "papermill": {
     "duration": 0.019811,
     "end_time": "2025-07-30T21:37:29.245836",
     "exception": false,
     "start_time": "2025-07-30T21:37:29.226025",
     "status": "completed"
    },
    "tags": []
   },
   "outputs": [
    {
     "name": "stdout",
     "output_type": "stream",
     "text": [
      "Using Seed: 2023\n"
     ]
    }
   ],
   "source": [
    "import numpy as np\n",
    "parsed_seed = int(seed)\n",
    "np.random.seed(parsed_seed)\n",
    "print(f\"Using Seed: {parsed_seed}\")"
   ]
  },
  {
   "cell_type": "markdown",
   "id": "e0ebdc57",
   "metadata": {
    "papermill": {
     "duration": 0.019999,
     "end_time": "2025-07-30T21:37:29.286091",
     "exception": false,
     "start_time": "2025-07-30T21:37:29.266092",
     "status": "completed"
    },
    "tags": []
   },
   "source": [
    "# Loading Data"
   ]
  },
  {
   "cell_type": "markdown",
   "id": "681925a3",
   "metadata": {
    "papermill": {
     "duration": 0.019502,
     "end_time": "2025-07-30T21:37:29.325294",
     "exception": false,
     "start_time": "2025-07-30T21:37:29.305792",
     "status": "completed"
    },
    "tags": []
   },
   "source": [
    "Load siab_train, siab_test, siab_calib and/or \n",
    "load siab_train_features, siab_train_labels"
   ]
  },
  {
   "cell_type": "code",
   "execution_count": 9,
   "id": "f0496b8a",
   "metadata": {
    "execution": {
     "iopub.execute_input": "2025-07-30T21:37:29.366491Z",
     "iopub.status.busy": "2025-07-30T21:37:29.365939Z",
     "iopub.status.idle": "2025-07-30T21:37:42.194931Z",
     "shell.execute_reply": "2025-07-30T21:37:42.193761Z"
    },
    "papermill": {
     "duration": 12.851805,
     "end_time": "2025-07-30T21:37:42.196578",
     "exception": false,
     "start_time": "2025-07-30T21:37:29.344773",
     "status": "completed"
    },
    "tags": []
   },
   "outputs": [
    {
     "name": "stdout",
     "output_type": "stream",
     "text": [
      "Loading SIAB data from cache: data/siab_cached.csv.gz\n"
     ]
    },
    {
     "name": "stdout",
     "output_type": "stream",
     "text": [
      "(643690, 164)\n"
     ]
    }
   ],
   "source": [
    "from pathlib import Path\n",
    "import pandas as pd\n",
    "\n",
    "# File paths\n",
    "raw_file = Path(\"data/raw/siab.csv\")\n",
    "cache_file = Path(\"data/siab_cached.csv.gz\")\n",
    "\n",
    "# Ensure cache directory exists\n",
    "cache_file.parent.mkdir(parents=True, exist_ok=True)\n",
    "\n",
    "# Load with simple caching\n",
    "if cache_file.exists():\n",
    "    print(f\"Loading SIAB data from cache: {cache_file}\")\n",
    "    siab = pd.read_csv(cache_file, compression='gzip')\n",
    "else:\n",
    "    print(f\"Cache not found. Reading raw SIAB data: {raw_file}\")\n",
    "    siab = pd.read_csv(raw_file)\n",
    "    siab.to_csv(cache_file, index=False, compression='gzip')\n",
    "    print(f\"Cached SIAB data to: {cache_file}\")\n",
    "\n",
    "# Now use `siab` DataFrame as needed\n",
    "print(siab.shape)"
   ]
  },
  {
   "cell_type": "code",
   "execution_count": 10,
   "id": "db0ca512-5f53-4dba-abdb-a2888bca41ba",
   "metadata": {
    "execution": {
     "iopub.execute_input": "2025-07-30T21:37:42.241993Z",
     "iopub.status.busy": "2025-07-30T21:37:42.241483Z",
     "iopub.status.idle": "2025-07-30T21:37:42.247419Z",
     "shell.execute_reply": "2025-07-30T21:37:42.246361Z"
    },
    "papermill": {
     "duration": 0.028917,
     "end_time": "2025-07-30T21:37:42.249083",
     "exception": false,
     "start_time": "2025-07-30T21:37:42.220166",
     "status": "completed"
    },
    "tags": []
   },
   "outputs": [],
   "source": [
    "#siab"
   ]
  },
  {
   "cell_type": "code",
   "execution_count": 11,
   "id": "a0edb063",
   "metadata": {
    "execution": {
     "iopub.execute_input": "2025-07-30T21:37:42.292795Z",
     "iopub.status.busy": "2025-07-30T21:37:42.292151Z",
     "iopub.status.idle": "2025-07-30T21:37:42.297513Z",
     "shell.execute_reply": "2025-07-30T21:37:42.296480Z"
    },
    "papermill": {
     "duration": 0.028261,
     "end_time": "2025-07-30T21:37:42.299470",
     "exception": false,
     "start_time": "2025-07-30T21:37:42.271209",
     "status": "completed"
    },
    "tags": []
   },
   "outputs": [],
   "source": [
    "#import pandas as pd\n",
    "#\n",
    "#X_train = pd.read_csv(\"./data/X_train.csv\")\n",
    "#y_train = pd.read_csv(\"./data/y_train.csv\")"
   ]
  },
  {
   "cell_type": "code",
   "execution_count": 12,
   "id": "63d08085",
   "metadata": {
    "execution": {
     "iopub.execute_input": "2025-07-30T21:37:42.344510Z",
     "iopub.status.busy": "2025-07-30T21:37:42.343670Z",
     "iopub.status.idle": "2025-07-30T21:37:42.348869Z",
     "shell.execute_reply": "2025-07-30T21:37:42.347863Z"
    },
    "papermill": {
     "duration": 0.028407,
     "end_time": "2025-07-30T21:37:42.350680",
     "exception": false,
     "start_time": "2025-07-30T21:37:42.322273",
     "status": "completed"
    },
    "tags": []
   },
   "outputs": [],
   "source": [
    "#X_test = pd.read_csv(\"./data/X_test.csv\")\n",
    "#y_true = pd.read_csv(\"./data/y_test.csv\")"
   ]
  },
  {
   "cell_type": "code",
   "execution_count": 13,
   "id": "98a8d0fa-1d3d-4ed8-bb2c-281470e24add",
   "metadata": {
    "execution": {
     "iopub.execute_input": "2025-07-30T21:37:42.396444Z",
     "iopub.status.busy": "2025-07-30T21:37:42.395559Z",
     "iopub.status.idle": "2025-07-30T21:37:42.400697Z",
     "shell.execute_reply": "2025-07-30T21:37:42.399614Z"
    },
    "papermill": {
     "duration": 0.029116,
     "end_time": "2025-07-30T21:37:42.402368",
     "exception": false,
     "start_time": "2025-07-30T21:37:42.373252",
     "status": "completed"
    },
    "tags": []
   },
   "outputs": [],
   "source": [
    "# Calibration data for conformal\n",
    "#X_calib = pd.read_csv(\"./data/X_calib.csv\")\n",
    "#y_calib = pd.read_csv(\"./data/y_calib.csv\")"
   ]
  },
  {
   "cell_type": "markdown",
   "id": "997051c5-15bd-4b69-9786-c3001a3ce484",
   "metadata": {
    "papermill": {
     "duration": 0.020938,
     "end_time": "2025-07-30T21:37:42.444884",
     "exception": false,
     "start_time": "2025-07-30T21:37:42.423946",
     "status": "completed"
    },
    "tags": []
   },
   "source": [
    "# Splitting Data and Setting Training Data Size"
   ]
  },
  {
   "cell_type": "code",
   "execution_count": 14,
   "id": "e993b61f-042d-41a6-8c81-f55681f86335",
   "metadata": {
    "execution": {
     "iopub.execute_input": "2025-07-30T21:37:42.489649Z",
     "iopub.status.busy": "2025-07-30T21:37:42.488891Z",
     "iopub.status.idle": "2025-07-30T21:37:42.503490Z",
     "shell.execute_reply": "2025-07-30T21:37:42.502327Z"
    },
    "papermill": {
     "duration": 0.038638,
     "end_time": "2025-07-30T21:37:42.505277",
     "exception": false,
     "start_time": "2025-07-30T21:37:42.466639",
     "status": "completed"
    },
    "tags": []
   },
   "outputs": [],
   "source": [
    "def sample_by_year_size(df,\n",
    "                        training_year: str,\n",
    "                        training_size: str,\n",
    "                        random_state: int = 42):\n",
    "    # --- parse training_year into a list of int years ---\n",
    "    if \"_\" in training_year:\n",
    "        start_str, end_str = training_year.split(\"_\", 1)\n",
    "        start = int(start_str)\n",
    "        end   = int(end_str) if len(end_str) == 4 else (int(end_str) + (start // 100)*100)\n",
    "        years = list(range(start, end + 1))\n",
    "    else:\n",
    "        years = [int(training_year)]\n",
    "\n",
    "    df = df[df[\"year\"].isin(years)].reset_index(drop=True)\n",
    "\n",
    "    # --- map training_size to total number of samples ---\n",
    "    total_map = {\"25k\": 25_000, \"5k\": 5_000, \"1k\": 1_000}\n",
    "    if training_size not in total_map:\n",
    "        return df  # e.g. \"all\"\n",
    "\n",
    "    total_samples = total_map[training_size]\n",
    "    n_years       = len(years)\n",
    "    base          = total_samples // n_years\n",
    "    remainder     = total_samples % n_years\n",
    "\n",
    "    # --- build a dict: year -> how many to sample ---\n",
    "    # give +1 to the first `remainder` years in ascending order\n",
    "    quotas = {\n",
    "        year: base + (1 if idx < remainder else 0)\n",
    "        for idx, year in enumerate(sorted(years))\n",
    "    }\n",
    "\n",
    "    # --- sample per‐year according to the quota dict ---\n",
    "    sampled = (\n",
    "        df\n",
    "        .groupby(\"year\", group_keys=False)\n",
    "        .apply(lambda grp: grp.sample(\n",
    "            n=min(len(grp), quotas[grp.name]),\n",
    "            random_state=random_state))\n",
    "        .reset_index(drop=True)\n",
    "    )\n",
    "\n",
    "    return sampled"
   ]
  },
  {
   "cell_type": "code",
   "execution_count": 15,
   "id": "c0ccd338-0e02-41f3-a09d-f56f9266e3fb",
   "metadata": {
    "execution": {
     "iopub.execute_input": "2025-07-30T21:37:42.551716Z",
     "iopub.status.busy": "2025-07-30T21:37:42.550858Z",
     "iopub.status.idle": "2025-07-30T21:37:42.555959Z",
     "shell.execute_reply": "2025-07-30T21:37:42.555072Z"
    },
    "papermill": {
     "duration": 0.029362,
     "end_time": "2025-07-30T21:37:42.557666",
     "exception": false,
     "start_time": "2025-07-30T21:37:42.528304",
     "status": "completed"
    },
    "tags": []
   },
   "outputs": [],
   "source": [
    "#universe[\"training_size\"]"
   ]
  },
  {
   "cell_type": "code",
   "execution_count": 16,
   "id": "ca707fd7-8047-4acd-bfa5-66248fbbf8e6",
   "metadata": {
    "execution": {
     "iopub.execute_input": "2025-07-30T21:37:42.604185Z",
     "iopub.status.busy": "2025-07-30T21:37:42.603147Z",
     "iopub.status.idle": "2025-07-30T21:37:42.608884Z",
     "shell.execute_reply": "2025-07-30T21:37:42.607796Z"
    },
    "papermill": {
     "duration": 0.03039,
     "end_time": "2025-07-30T21:37:42.610561",
     "exception": false,
     "start_time": "2025-07-30T21:37:42.580171",
     "status": "completed"
    },
    "tags": []
   },
   "outputs": [],
   "source": [
    "#universe[\"training_year\"]"
   ]
  },
  {
   "cell_type": "code",
   "execution_count": 17,
   "id": "aea9c6ef-6f46-42c8-85eb-5a62025c1508",
   "metadata": {
    "execution": {
     "iopub.execute_input": "2025-07-30T21:37:42.656331Z",
     "iopub.status.busy": "2025-07-30T21:37:42.655496Z",
     "iopub.status.idle": "2025-07-30T21:37:43.262523Z",
     "shell.execute_reply": "2025-07-30T21:37:43.261508Z"
    },
    "papermill": {
     "duration": 0.631712,
     "end_time": "2025-07-30T21:37:43.264562",
     "exception": false,
     "start_time": "2025-07-30T21:37:42.632850",
     "status": "completed"
    },
    "tags": []
   },
   "outputs": [],
   "source": [
    "siab_train = sample_by_year_size(siab,\n",
    "                               training_year=universe[\"training_year\"],\n",
    "                               training_size=universe[\"training_size\"])"
   ]
  },
  {
   "cell_type": "code",
   "execution_count": 18,
   "id": "8d3afb32-789d-442c-8d5d-9f5aa8dd2eed",
   "metadata": {
    "execution": {
     "iopub.execute_input": "2025-07-30T21:37:43.312093Z",
     "iopub.status.busy": "2025-07-30T21:37:43.311146Z",
     "iopub.status.idle": "2025-07-30T21:37:43.316516Z",
     "shell.execute_reply": "2025-07-30T21:37:43.315520Z"
    },
    "papermill": {
     "duration": 0.02909,
     "end_time": "2025-07-30T21:37:43.317973",
     "exception": false,
     "start_time": "2025-07-30T21:37:43.288883",
     "status": "completed"
    },
    "tags": []
   },
   "outputs": [],
   "source": [
    "#siab_train.shape"
   ]
  },
  {
   "cell_type": "code",
   "execution_count": 19,
   "id": "d582db68-1a4c-47fb-84fc-08518dc1975a",
   "metadata": {
    "execution": {
     "iopub.execute_input": "2025-07-30T21:37:43.364888Z",
     "iopub.status.busy": "2025-07-30T21:37:43.364137Z",
     "iopub.status.idle": "2025-07-30T21:37:43.369412Z",
     "shell.execute_reply": "2025-07-30T21:37:43.368378Z"
    },
    "papermill": {
     "duration": 0.031453,
     "end_time": "2025-07-30T21:37:43.371296",
     "exception": false,
     "start_time": "2025-07-30T21:37:43.339843",
     "status": "completed"
    },
    "tags": []
   },
   "outputs": [],
   "source": [
    "#display(siab_train.groupby(\"year\").size())"
   ]
  },
  {
   "cell_type": "code",
   "execution_count": 20,
   "id": "a561edb4-d032-42cb-8256-22eac1111c64",
   "metadata": {
    "execution": {
     "iopub.execute_input": "2025-07-30T21:37:43.418969Z",
     "iopub.status.busy": "2025-07-30T21:37:43.418468Z",
     "iopub.status.idle": "2025-07-30T21:37:43.699346Z",
     "shell.execute_reply": "2025-07-30T21:37:43.698219Z"
    },
    "papermill": {
     "duration": 0.306869,
     "end_time": "2025-07-30T21:37:43.701373",
     "exception": false,
     "start_time": "2025-07-30T21:37:43.394504",
     "status": "completed"
    },
    "tags": []
   },
   "outputs": [],
   "source": [
    "#siab_train = siab_s[siab_s.year < 2015]\n",
    "siab_calib = siab[siab.year == 2015]\n",
    "siab_test = siab[siab.year == 2016]"
   ]
  },
  {
   "cell_type": "code",
   "execution_count": 21,
   "id": "472de16f-c3db-4916-846b-1f0de9cf1746",
   "metadata": {
    "execution": {
     "iopub.execute_input": "2025-07-30T21:37:43.746973Z",
     "iopub.status.busy": "2025-07-30T21:37:43.746137Z",
     "iopub.status.idle": "2025-07-30T21:37:43.756251Z",
     "shell.execute_reply": "2025-07-30T21:37:43.755116Z"
    },
    "papermill": {
     "duration": 0.042744,
     "end_time": "2025-07-30T21:37:43.766415",
     "exception": false,
     "start_time": "2025-07-30T21:37:43.723671",
     "status": "completed"
    },
    "tags": []
   },
   "outputs": [],
   "source": [
    "X_train = siab_train.iloc[:,4:164]\n",
    "y_train = siab_train.iloc[:, [3]]"
   ]
  },
  {
   "cell_type": "code",
   "execution_count": 22,
   "id": "828c96af-f43a-4ed6-ba47-8ac73a47d56c",
   "metadata": {
    "execution": {
     "iopub.execute_input": "2025-07-30T21:37:43.826293Z",
     "iopub.status.busy": "2025-07-30T21:37:43.825710Z",
     "iopub.status.idle": "2025-07-30T21:37:43.875216Z",
     "shell.execute_reply": "2025-07-30T21:37:43.873820Z"
    },
    "papermill": {
     "duration": 0.074484,
     "end_time": "2025-07-30T21:37:43.877336",
     "exception": false,
     "start_time": "2025-07-30T21:37:43.802852",
     "status": "completed"
    },
    "tags": []
   },
   "outputs": [],
   "source": [
    "X_calib = siab_calib.iloc[:,4:164]\n",
    "y_calib = siab_calib.iloc[:, [3]]"
   ]
  },
  {
   "cell_type": "code",
   "execution_count": 23,
   "id": "c34be9c3-6bd6-476e-acd3-845840e303be",
   "metadata": {
    "execution": {
     "iopub.execute_input": "2025-07-30T21:37:43.926266Z",
     "iopub.status.busy": "2025-07-30T21:37:43.925441Z",
     "iopub.status.idle": "2025-07-30T21:37:43.994617Z",
     "shell.execute_reply": "2025-07-30T21:37:43.993296Z"
    },
    "papermill": {
     "duration": 0.094637,
     "end_time": "2025-07-30T21:37:43.997149",
     "exception": false,
     "start_time": "2025-07-30T21:37:43.902512",
     "status": "completed"
    },
    "tags": []
   },
   "outputs": [],
   "source": [
    "X_test = siab_test.iloc[:,4:164]\n",
    "y_true = siab_test.iloc[:, [3]]"
   ]
  },
  {
   "cell_type": "markdown",
   "id": "9901737e-04df-44f0-9100-f5ad144ed040",
   "metadata": {
    "papermill": {
     "duration": 0.028395,
     "end_time": "2025-07-30T21:37:44.053726",
     "exception": false,
     "start_time": "2025-07-30T21:37:44.025331",
     "status": "completed"
    },
    "tags": []
   },
   "source": [
    "# Splitting Data and Setting Training Data Size OLD VERSION"
   ]
  },
  {
   "cell_type": "code",
   "execution_count": 24,
   "id": "acbc8f7d-8fc8-4e86-8c59-5dcb0f58384b",
   "metadata": {
    "execution": {
     "iopub.execute_input": "2025-07-30T21:37:44.125377Z",
     "iopub.status.busy": "2025-07-30T21:37:44.124841Z",
     "iopub.status.idle": "2025-07-30T21:37:44.130766Z",
     "shell.execute_reply": "2025-07-30T21:37:44.129649Z"
    },
    "papermill": {
     "duration": 0.050923,
     "end_time": "2025-07-30T21:37:44.132974",
     "exception": false,
     "start_time": "2025-07-30T21:37:44.082051",
     "status": "completed"
    },
    "tags": []
   },
   "outputs": [],
   "source": [
    "#def sample_by_year(df, training_size, random_state=42):\n",
    "#    if training_size == \"2014\":\n",
    "#        return df[df[\"year\"] == 2014].reset_index(drop=True)\n",
    "#    \n",
    "#    size_map = {\n",
    "#        \"25k\": 5000,\n",
    "#        \"5k\": 1000,\n",
    "#        \"1k\": 200\n",
    "#    }\n",
    "#\n",
    "#    if training_size not in size_map:\n",
    "#        return df.reset_index(drop=True)  # use all data\n",
    "#\n",
    "#    n_per_year = size_map[training_size]\n",
    "#    grouped = df.groupby(\"year\")\n",
    "#    sampled = grouped.apply(lambda x: x.sample(n=min(n_per_year, len(x)), random_state=random_state))\n",
    "#    return sampled.reset_index(drop=True)"
   ]
  },
  {
   "cell_type": "code",
   "execution_count": 25,
   "id": "6d931f52-beaf-43ff-9e78-9d44a448d54e",
   "metadata": {
    "execution": {
     "iopub.execute_input": "2025-07-30T21:37:44.190950Z",
     "iopub.status.busy": "2025-07-30T21:37:44.190422Z",
     "iopub.status.idle": "2025-07-30T21:37:44.196075Z",
     "shell.execute_reply": "2025-07-30T21:37:44.194949Z"
    },
    "papermill": {
     "duration": 0.037417,
     "end_time": "2025-07-30T21:37:44.198496",
     "exception": false,
     "start_time": "2025-07-30T21:37:44.161079",
     "status": "completed"
    },
    "tags": []
   },
   "outputs": [],
   "source": [
    "#siab_s = sample_by_year(siab, universe[\"training_size\"])"
   ]
  },
  {
   "cell_type": "code",
   "execution_count": 26,
   "id": "5db0a40e-a4e2-4920-be85-b12ae061d70d",
   "metadata": {
    "execution": {
     "iopub.execute_input": "2025-07-30T21:37:44.256198Z",
     "iopub.status.busy": "2025-07-30T21:37:44.255502Z",
     "iopub.status.idle": "2025-07-30T21:37:44.261191Z",
     "shell.execute_reply": "2025-07-30T21:37:44.260095Z"
    },
    "papermill": {
     "duration": 0.036243,
     "end_time": "2025-07-30T21:37:44.263115",
     "exception": false,
     "start_time": "2025-07-30T21:37:44.226872",
     "status": "completed"
    },
    "tags": []
   },
   "outputs": [],
   "source": [
    "#display(siab_s.groupby(\"year\").size())"
   ]
  },
  {
   "cell_type": "code",
   "execution_count": 27,
   "id": "e6c733c5",
   "metadata": {
    "execution": {
     "iopub.execute_input": "2025-07-30T21:37:44.320101Z",
     "iopub.status.busy": "2025-07-30T21:37:44.319372Z",
     "iopub.status.idle": "2025-07-30T21:37:44.439095Z",
     "shell.execute_reply": "2025-07-30T21:37:44.437919Z"
    },
    "papermill": {
     "duration": 0.150999,
     "end_time": "2025-07-30T21:37:44.441950",
     "exception": false,
     "start_time": "2025-07-30T21:37:44.290951",
     "status": "completed"
    },
    "tags": []
   },
   "outputs": [],
   "source": [
    "# Auxiliary data needed downstream in the pipeline\n",
    "\n",
    "org_train = X_train.copy()\n",
    "org_test = X_test.copy()\n",
    "org_calib = X_calib.copy()"
   ]
  },
  {
   "cell_type": "code",
   "execution_count": 28,
   "id": "1466abac-c6da-4492-a62f-4240ae3783af",
   "metadata": {
    "execution": {
     "iopub.execute_input": "2025-07-30T21:37:44.501300Z",
     "iopub.status.busy": "2025-07-30T21:37:44.500808Z",
     "iopub.status.idle": "2025-07-30T21:37:44.506622Z",
     "shell.execute_reply": "2025-07-30T21:37:44.505696Z"
    },
    "papermill": {
     "duration": 0.030055,
     "end_time": "2025-07-30T21:37:44.508414",
     "exception": false,
     "start_time": "2025-07-30T21:37:44.478359",
     "status": "completed"
    },
    "tags": []
   },
   "outputs": [],
   "source": [
    "# put in other script?\n",
    "# Group sizes\n",
    "\n",
    "#def calculate_percentages(df, df_name):\n",
    "#    total_entries = len(df)\n",
    "#\n",
    "#    female_pct = (df['frau1'] == 1).mean() * 100\n",
    "#    non_german_pct = ((df['maxdeutsch1'] == 0) & (df['maxdeutsch.Missing.'] == 0)).mean() * 100\n",
    "#    non_german_male_pct = ((df['frau1'] == 0) & (df['maxdeutsch1'] == 0) & (df['maxdeutsch.Missing.'] == 0)).mean() * 100\n",
    "#    non_german_female_pct = ((df['frau1'] == 1) & (df['maxdeutsch1'] == 0) & (df['maxdeutsch.Missing.'] == 0)).mean() * 100\n",
    "#\n",
    "#    print(f\"--- {df_name} ---\")\n",
    "#    print(f\"Female: {female_pct:.2f}%\")\n",
    "#    print(f\"Non-German: {non_german_pct:.2f}%\")\n",
    "#    print(f\"Non-German Male: {non_german_male_pct:.2f}%\")\n",
    "#    print(f\"Non-German Female: {non_german_female_pct:.2f}%\\n\")\n",
    "#\n",
    "## Calculate for each DataFrame\n",
    "#calculate_percentages(siab_calib, \"siab_calib\")\n",
    "#calculate_percentages(siab_test, \"siab_test\")\n",
    "#calculate_percentages(siab_train, \"siab_train\")"
   ]
  },
  {
   "cell_type": "markdown",
   "id": "0a4a1b33",
   "metadata": {
    "papermill": {
     "duration": 0.022843,
     "end_time": "2025-07-30T21:37:44.554623",
     "exception": false,
     "start_time": "2025-07-30T21:37:44.531780",
     "status": "completed"
    },
    "tags": []
   },
   "source": [
    "# Preprocessing Data"
   ]
  },
  {
   "cell_type": "code",
   "execution_count": 29,
   "id": "ca879031",
   "metadata": {
    "execution": {
     "iopub.execute_input": "2025-07-30T21:37:44.601847Z",
     "iopub.status.busy": "2025-07-30T21:37:44.601279Z",
     "iopub.status.idle": "2025-07-30T21:37:44.608551Z",
     "shell.execute_reply": "2025-07-30T21:37:44.607314Z"
    },
    "papermill": {
     "duration": 0.033573,
     "end_time": "2025-07-30T21:37:44.610538",
     "exception": false,
     "start_time": "2025-07-30T21:37:44.576965",
     "status": "completed"
    },
    "tags": []
   },
   "outputs": [],
   "source": [
    "# EXCLUDE PROTECTED FEATURES\n",
    "# ----------------------\n",
    "# \"exclude_features\": \"none\", # \"nationality\", \"sex\", \"nationality-sex\"\n",
    "\n",
    "excluded_features = universe[\"exclude_features\"].split(\"-\") # split, e.g.: \"nationality-sex\" -> [\"nationality\", \"sex\"]\n",
    "excluded_features_dictionary = {\n",
    "    \"nationality\": [\"maxdeutsch1\", \"maxdeutsch.Missing.\"],\n",
    "    \"sex\": [\"frau1\"],\n",
    "    \"age\": [\"age\"],\n",
    "}\n"
   ]
  },
  {
   "cell_type": "code",
   "execution_count": 30,
   "id": "b745ac60",
   "metadata": {
    "execution": {
     "iopub.execute_input": "2025-07-30T21:37:44.657942Z",
     "iopub.status.busy": "2025-07-30T21:37:44.657139Z",
     "iopub.status.idle": "2025-07-30T21:37:44.664514Z",
     "shell.execute_reply": "2025-07-30T21:37:44.663201Z"
    },
    "papermill": {
     "duration": 0.033088,
     "end_time": "2025-07-30T21:37:44.666430",
     "exception": false,
     "start_time": "2025-07-30T21:37:44.633342",
     "status": "completed"
    },
    "tags": []
   },
   "outputs": [],
   "source": [
    "# Code nice names to column names\n",
    "\n",
    "excluded_features_columns = [\n",
    "    excluded_features_dictionary[f] for f in excluded_features if len(f) > 0 and f != \"none\"\n",
    "]"
   ]
  },
  {
   "cell_type": "code",
   "execution_count": 31,
   "id": "f84f73a2",
   "metadata": {
    "execution": {
     "iopub.execute_input": "2025-07-30T21:37:44.714721Z",
     "iopub.status.busy": "2025-07-30T21:37:44.714035Z",
     "iopub.status.idle": "2025-07-30T21:37:44.721556Z",
     "shell.execute_reply": "2025-07-30T21:37:44.720474Z"
    },
    "papermill": {
     "duration": 0.033214,
     "end_time": "2025-07-30T21:37:44.723340",
     "exception": false,
     "start_time": "2025-07-30T21:37:44.690126",
     "status": "completed"
    },
    "tags": []
   },
   "outputs": [],
   "source": [
    "from utils import flatten_once\n",
    "\n",
    "excluded_features_columns = flatten_once(excluded_features_columns)"
   ]
  },
  {
   "cell_type": "code",
   "execution_count": 32,
   "id": "884dea22",
   "metadata": {
    "execution": {
     "iopub.execute_input": "2025-07-30T21:37:44.768928Z",
     "iopub.status.busy": "2025-07-30T21:37:44.768330Z",
     "iopub.status.idle": "2025-07-30T21:37:44.777416Z",
     "shell.execute_reply": "2025-07-30T21:37:44.776135Z"
    },
    "papermill": {
     "duration": 0.034068,
     "end_time": "2025-07-30T21:37:44.779076",
     "exception": false,
     "start_time": "2025-07-30T21:37:44.745008",
     "status": "completed"
    },
    "tags": []
   },
   "outputs": [
    {
     "name": "stdout",
     "output_type": "stream",
     "text": [
      "Dropping features: ['maxdeutsch1', 'maxdeutsch.Missing.', 'frau1']\n"
     ]
    }
   ],
   "source": [
    "if len(excluded_features_columns) > 0:\n",
    "    print(f\"Dropping features: {excluded_features_columns}\")\n",
    "    X_train.drop(excluded_features_columns, axis=1, inplace=True)"
   ]
  },
  {
   "cell_type": "code",
   "execution_count": 33,
   "id": "95ab8b16",
   "metadata": {
    "execution": {
     "iopub.execute_input": "2025-07-30T21:37:44.827144Z",
     "iopub.status.busy": "2025-07-30T21:37:44.826034Z",
     "iopub.status.idle": "2025-07-30T21:37:44.905091Z",
     "shell.execute_reply": "2025-07-30T21:37:44.903858Z"
    },
    "papermill": {
     "duration": 0.106409,
     "end_time": "2025-07-30T21:37:44.907544",
     "exception": false,
     "start_time": "2025-07-30T21:37:44.801135",
     "status": "completed"
    },
    "tags": []
   },
   "outputs": [
    {
     "name": "stdout",
     "output_type": "stream",
     "text": [
      "Dropping features: ['maxdeutsch1', 'maxdeutsch.Missing.', 'frau1']\n"
     ]
    }
   ],
   "source": [
    "if len(excluded_features_columns) > 0:\n",
    "    print(f\"Dropping features: {excluded_features_columns}\")\n",
    "    X_test.drop(excluded_features_columns, axis=1, inplace=True)"
   ]
  },
  {
   "cell_type": "code",
   "execution_count": 34,
   "id": "1853aaf5-fb9f-46cb-a2b5-8ea4ae2237e4",
   "metadata": {
    "execution": {
     "iopub.execute_input": "2025-07-30T21:37:44.978200Z",
     "iopub.status.busy": "2025-07-30T21:37:44.977173Z",
     "iopub.status.idle": "2025-07-30T21:37:45.042244Z",
     "shell.execute_reply": "2025-07-30T21:37:45.041074Z"
    },
    "papermill": {
     "duration": 0.103066,
     "end_time": "2025-07-30T21:37:45.044478",
     "exception": false,
     "start_time": "2025-07-30T21:37:44.941412",
     "status": "completed"
    },
    "tags": []
   },
   "outputs": [
    {
     "name": "stdout",
     "output_type": "stream",
     "text": [
      "Dropping features: ['maxdeutsch1', 'maxdeutsch.Missing.', 'frau1']\n"
     ]
    }
   ],
   "source": [
    "if len(excluded_features_columns) > 0:\n",
    "    print(f\"Dropping features: {excluded_features_columns}\")\n",
    "    X_calib.drop(excluded_features_columns, axis=1, inplace=True)"
   ]
  },
  {
   "cell_type": "code",
   "execution_count": 35,
   "id": "6727d079-03e5-481e-9d38-292a90b7a0a8",
   "metadata": {
    "execution": {
     "iopub.execute_input": "2025-07-30T21:37:45.114592Z",
     "iopub.status.busy": "2025-07-30T21:37:45.112873Z",
     "iopub.status.idle": "2025-07-30T21:37:45.118640Z",
     "shell.execute_reply": "2025-07-30T21:37:45.117551Z"
    },
    "papermill": {
     "duration": 0.043113,
     "end_time": "2025-07-30T21:37:45.121191",
     "exception": false,
     "start_time": "2025-07-30T21:37:45.078078",
     "status": "completed"
    },
    "tags": []
   },
   "outputs": [],
   "source": [
    "# SPLIT & STRATIFY DATA\n",
    "# ----------------------"
   ]
  },
  {
   "cell_type": "code",
   "execution_count": 36,
   "id": "76c4dc6d",
   "metadata": {
    "execution": {
     "iopub.execute_input": "2025-07-30T21:37:45.192478Z",
     "iopub.status.busy": "2025-07-30T21:37:45.191891Z",
     "iopub.status.idle": "2025-07-30T21:37:45.198667Z",
     "shell.execute_reply": "2025-07-30T21:37:45.197363Z"
    },
    "papermill": {
     "duration": 0.044288,
     "end_time": "2025-07-30T21:37:45.201050",
     "exception": false,
     "start_time": "2025-07-30T21:37:45.156762",
     "status": "completed"
    },
    "tags": []
   },
   "outputs": [],
   "source": [
    "# EXCLUDE CERTAIN SUBGROUPS\n",
    "# ----------------------\n",
    "\n",
    "mode = universe.get(\"exclude_subgroups\", \"keep-all\") \n",
    "# Fetches the exclude_subgroups setting from the universe dict.\n",
    "# Defaults to \"keep-all\" if the key is missing."
   ]
  },
  {
   "cell_type": "code",
   "execution_count": 37,
   "id": "21994072",
   "metadata": {
    "execution": {
     "iopub.execute_input": "2025-07-30T21:37:45.270796Z",
     "iopub.status.busy": "2025-07-30T21:37:45.270285Z",
     "iopub.status.idle": "2025-07-30T21:37:45.278244Z",
     "shell.execute_reply": "2025-07-30T21:37:45.277042Z"
    },
    "papermill": {
     "duration": 0.046439,
     "end_time": "2025-07-30T21:37:45.281116",
     "exception": false,
     "start_time": "2025-07-30T21:37:45.234677",
     "status": "completed"
    },
    "tags": []
   },
   "outputs": [],
   "source": [
    "if mode == \"keep-all\":\n",
    "    keep_mask = pd.Series(True, index=org_train.index)\n",
    "\n",
    "# org_train contains the original feature columns from features_org (in Simson)\n",
    "# features_org contains unprocessed features, for me X_train at beginning ???\n",
    "# For keep-all, creates a boolean Series (keep_mask) of all True, so no rows are removed.\n",
    "\n",
    "elif mode == \"drop-non-german\":\n",
    "    keep_mask = org_train[\"maxdeutsch1\"] == 1 # ??? what about missing values?\n",
    "\n",
    "else:\n",
    "    raise ValueError(f\"Unsupported mode for exclude_subgroups: {mode}\")\n"
   ]
  },
  {
   "cell_type": "code",
   "execution_count": 38,
   "id": "71651440",
   "metadata": {
    "execution": {
     "iopub.execute_input": "2025-07-30T21:37:45.347244Z",
     "iopub.status.busy": "2025-07-30T21:37:45.346752Z",
     "iopub.status.idle": "2025-07-30T21:37:45.353510Z",
     "shell.execute_reply": "2025-07-30T21:37:45.352212Z"
    },
    "papermill": {
     "duration": 0.041677,
     "end_time": "2025-07-30T21:37:45.355649",
     "exception": false,
     "start_time": "2025-07-30T21:37:45.313972",
     "status": "completed"
    },
    "tags": []
   },
   "outputs": [],
   "source": [
    "n_drop = (~keep_mask).sum() # Calculates how many rows are set to be dropped\n",
    "if n_drop > 0:\n",
    "    pct = n_drop / len(keep_mask) * 100\n",
    "    print(f\"Dropping {n_drop} rows ({pct:.2f}%) where mode='{mode}'\")"
   ]
  },
  {
   "cell_type": "code",
   "execution_count": 39,
   "id": "5fb8eee5",
   "metadata": {
    "execution": {
     "iopub.execute_input": "2025-07-30T21:37:45.424150Z",
     "iopub.status.busy": "2025-07-30T21:37:45.423739Z",
     "iopub.status.idle": "2025-07-30T21:37:45.430454Z",
     "shell.execute_reply": "2025-07-30T21:37:45.429418Z"
    },
    "papermill": {
     "duration": 0.043273,
     "end_time": "2025-07-30T21:37:45.432557",
     "exception": false,
     "start_time": "2025-07-30T21:37:45.389284",
     "status": "completed"
    },
    "tags": []
   },
   "outputs": [],
   "source": [
    "X_train = X_train[keep_mask]"
   ]
  },
  {
   "cell_type": "code",
   "execution_count": 40,
   "id": "b202bb3a",
   "metadata": {
    "execution": {
     "iopub.execute_input": "2025-07-30T21:37:45.500238Z",
     "iopub.status.busy": "2025-07-30T21:37:45.499809Z",
     "iopub.status.idle": "2025-07-30T21:37:45.506689Z",
     "shell.execute_reply": "2025-07-30T21:37:45.505519Z"
    },
    "papermill": {
     "duration": 0.043513,
     "end_time": "2025-07-30T21:37:45.508890",
     "exception": false,
     "start_time": "2025-07-30T21:37:45.465377",
     "status": "completed"
    },
    "tags": []
   },
   "outputs": [],
   "source": [
    "y_train = y_train[keep_mask]"
   ]
  },
  {
   "cell_type": "markdown",
   "id": "493e2ac3",
   "metadata": {
    "papermill": {
     "duration": 0.021939,
     "end_time": "2025-07-30T21:37:45.558686",
     "exception": false,
     "start_time": "2025-07-30T21:37:45.536747",
     "status": "completed"
    },
    "tags": []
   },
   "source": [
    "# Model Training"
   ]
  },
  {
   "cell_type": "code",
   "execution_count": 41,
   "id": "679e1268",
   "metadata": {
    "execution": {
     "iopub.execute_input": "2025-07-30T21:37:45.583495Z",
     "iopub.status.busy": "2025-07-30T21:37:45.583073Z",
     "iopub.status.idle": "2025-07-30T21:37:45.666322Z",
     "shell.execute_reply": "2025-07-30T21:37:45.665535Z"
    },
    "papermill": {
     "duration": 0.097564,
     "end_time": "2025-07-30T21:37:45.667899",
     "exception": false,
     "start_time": "2025-07-30T21:37:45.570335",
     "status": "completed"
    },
    "tags": []
   },
   "outputs": [],
   "source": [
    "from sklearn.linear_model import LogisticRegression\n",
    "from sklearn.ensemble import GradientBoostingClassifier, RandomForestClassifier\n",
    "\n",
    "if (universe[\"model\"] == \"logreg\"):\n",
    "    model = LogisticRegression() #penalty=\"none\") #, solver=\"newton-cg\", max_iter=1) # include random_state=19 ?\n",
    "elif (universe[\"model\"] == \"penalized_logreg\"):\n",
    "    model = LogisticRegression(penalty=\"l2\", C=1.0) #, solver=\"newton-cg\", max_iter=1)\n",
    "elif (universe[\"model\"] == \"rf\"):\n",
    "    model = RandomForestClassifier(n_estimators=100, n_jobs=-1)\n",
    "elif (universe[\"model\"] == \"gbm\"):\n",
    "    model = GradientBoostingClassifier()\n",
    "elif (universe[\"model\"] == \"elasticnet\"):\n",
    "    model = LogisticRegression(penalty = 'elasticnet', solver = 'saga', l1_ratio = 0.5, max_iter=5000) # which solver to use?\n",
    "else:\n",
    "    raise \"Unsupported universe.model\""
   ]
  },
  {
   "cell_type": "code",
   "execution_count": 42,
   "id": "0cc8f744",
   "metadata": {
    "execution": {
     "iopub.execute_input": "2025-07-30T21:37:45.693909Z",
     "iopub.status.busy": "2025-07-30T21:37:45.693408Z",
     "iopub.status.idle": "2025-07-30T21:37:45.698470Z",
     "shell.execute_reply": "2025-07-30T21:37:45.697779Z"
    },
    "papermill": {
     "duration": 0.019528,
     "end_time": "2025-07-30T21:37:45.699955",
     "exception": false,
     "start_time": "2025-07-30T21:37:45.680427",
     "status": "completed"
    },
    "tags": []
   },
   "outputs": [],
   "source": [
    "import numpy as np\n",
    "from sklearn.pipeline import Pipeline\n",
    "from sklearn.preprocessing import StandardScaler\n",
    "\n",
    "model = Pipeline([\n",
    "    #(\"continuous_processor\", continuous_processor),\n",
    "    #(\"categorical_preprocessor\", categorical_preprocessor),\n",
    "    (\"scale\", StandardScaler() if universe[\"scale\"] == \"scale\" else None), \n",
    "    (\"model\", model),\n",
    "])"
   ]
  },
  {
   "cell_type": "code",
   "execution_count": 43,
   "id": "9442c04d",
   "metadata": {
    "execution": {
     "iopub.execute_input": "2025-07-30T21:37:45.731361Z",
     "iopub.status.busy": "2025-07-30T21:37:45.730837Z",
     "iopub.status.idle": "2025-07-30T21:37:51.121226Z",
     "shell.execute_reply": "2025-07-30T21:37:51.120274Z"
    },
    "papermill": {
     "duration": 5.405722,
     "end_time": "2025-07-30T21:37:51.122999",
     "exception": false,
     "start_time": "2025-07-30T21:37:45.717277",
     "status": "completed"
    },
    "tags": []
   },
   "outputs": [
    {
     "data": {
      "text/html": [
       "<style>#sk-container-id-1 {color: black;background-color: white;}#sk-container-id-1 pre{padding: 0;}#sk-container-id-1 div.sk-toggleable {background-color: white;}#sk-container-id-1 label.sk-toggleable__label {cursor: pointer;display: block;width: 100%;margin-bottom: 0;padding: 0.3em;box-sizing: border-box;text-align: center;}#sk-container-id-1 label.sk-toggleable__label-arrow:before {content: \"▸\";float: left;margin-right: 0.25em;color: #696969;}#sk-container-id-1 label.sk-toggleable__label-arrow:hover:before {color: black;}#sk-container-id-1 div.sk-estimator:hover label.sk-toggleable__label-arrow:before {color: black;}#sk-container-id-1 div.sk-toggleable__content {max-height: 0;max-width: 0;overflow: hidden;text-align: left;background-color: #f0f8ff;}#sk-container-id-1 div.sk-toggleable__content pre {margin: 0.2em;color: black;border-radius: 0.25em;background-color: #f0f8ff;}#sk-container-id-1 input.sk-toggleable__control:checked~div.sk-toggleable__content {max-height: 200px;max-width: 100%;overflow: auto;}#sk-container-id-1 input.sk-toggleable__control:checked~label.sk-toggleable__label-arrow:before {content: \"▾\";}#sk-container-id-1 div.sk-estimator input.sk-toggleable__control:checked~label.sk-toggleable__label {background-color: #d4ebff;}#sk-container-id-1 div.sk-label input.sk-toggleable__control:checked~label.sk-toggleable__label {background-color: #d4ebff;}#sk-container-id-1 input.sk-hidden--visually {border: 0;clip: rect(1px 1px 1px 1px);clip: rect(1px, 1px, 1px, 1px);height: 1px;margin: -1px;overflow: hidden;padding: 0;position: absolute;width: 1px;}#sk-container-id-1 div.sk-estimator {font-family: monospace;background-color: #f0f8ff;border: 1px dotted black;border-radius: 0.25em;box-sizing: border-box;margin-bottom: 0.5em;}#sk-container-id-1 div.sk-estimator:hover {background-color: #d4ebff;}#sk-container-id-1 div.sk-parallel-item::after {content: \"\";width: 100%;border-bottom: 1px solid gray;flex-grow: 1;}#sk-container-id-1 div.sk-label:hover label.sk-toggleable__label {background-color: #d4ebff;}#sk-container-id-1 div.sk-serial::before {content: \"\";position: absolute;border-left: 1px solid gray;box-sizing: border-box;top: 0;bottom: 0;left: 50%;z-index: 0;}#sk-container-id-1 div.sk-serial {display: flex;flex-direction: column;align-items: center;background-color: white;padding-right: 0.2em;padding-left: 0.2em;position: relative;}#sk-container-id-1 div.sk-item {position: relative;z-index: 1;}#sk-container-id-1 div.sk-parallel {display: flex;align-items: stretch;justify-content: center;background-color: white;position: relative;}#sk-container-id-1 div.sk-item::before, #sk-container-id-1 div.sk-parallel-item::before {content: \"\";position: absolute;border-left: 1px solid gray;box-sizing: border-box;top: 0;bottom: 0;left: 50%;z-index: -1;}#sk-container-id-1 div.sk-parallel-item {display: flex;flex-direction: column;z-index: 1;position: relative;background-color: white;}#sk-container-id-1 div.sk-parallel-item:first-child::after {align-self: flex-end;width: 50%;}#sk-container-id-1 div.sk-parallel-item:last-child::after {align-self: flex-start;width: 50%;}#sk-container-id-1 div.sk-parallel-item:only-child::after {width: 0;}#sk-container-id-1 div.sk-dashed-wrapped {border: 1px dashed gray;margin: 0 0.4em 0.5em 0.4em;box-sizing: border-box;padding-bottom: 0.4em;background-color: white;}#sk-container-id-1 div.sk-label label {font-family: monospace;font-weight: bold;display: inline-block;line-height: 1.2em;}#sk-container-id-1 div.sk-label-container {text-align: center;}#sk-container-id-1 div.sk-container {/* jupyter's `normalize.less` sets `[hidden] { display: none; }` but bootstrap.min.css set `[hidden] { display: none !important; }` so we also need the `!important` here to be able to override the default hidden behavior on the sphinx rendered scikit-learn.org. See: https://github.com/scikit-learn/scikit-learn/issues/21755 */display: inline-block !important;position: relative;}#sk-container-id-1 div.sk-text-repr-fallback {display: none;}</style><div id=\"sk-container-id-1\" class=\"sk-top-container\"><div class=\"sk-text-repr-fallback\"><pre>Pipeline(steps=[(&#x27;scale&#x27;, StandardScaler()),\n",
       "                (&#x27;model&#x27;,\n",
       "                 LogisticRegression(l1_ratio=0.5, max_iter=5000,\n",
       "                                    penalty=&#x27;elasticnet&#x27;, solver=&#x27;saga&#x27;))])</pre><b>In a Jupyter environment, please rerun this cell to show the HTML representation or trust the notebook. <br />On GitHub, the HTML representation is unable to render, please try loading this page with nbviewer.org.</b></div><div class=\"sk-container\" hidden><div class=\"sk-item sk-dashed-wrapped\"><div class=\"sk-label-container\"><div class=\"sk-label sk-toggleable\"><input class=\"sk-toggleable__control sk-hidden--visually\" id=\"sk-estimator-id-1\" type=\"checkbox\" ><label for=\"sk-estimator-id-1\" class=\"sk-toggleable__label sk-toggleable__label-arrow\">Pipeline</label><div class=\"sk-toggleable__content\"><pre>Pipeline(steps=[(&#x27;scale&#x27;, StandardScaler()),\n",
       "                (&#x27;model&#x27;,\n",
       "                 LogisticRegression(l1_ratio=0.5, max_iter=5000,\n",
       "                                    penalty=&#x27;elasticnet&#x27;, solver=&#x27;saga&#x27;))])</pre></div></div></div><div class=\"sk-serial\"><div class=\"sk-item\"><div class=\"sk-estimator sk-toggleable\"><input class=\"sk-toggleable__control sk-hidden--visually\" id=\"sk-estimator-id-2\" type=\"checkbox\" ><label for=\"sk-estimator-id-2\" class=\"sk-toggleable__label sk-toggleable__label-arrow\">StandardScaler</label><div class=\"sk-toggleable__content\"><pre>StandardScaler()</pre></div></div></div><div class=\"sk-item\"><div class=\"sk-estimator sk-toggleable\"><input class=\"sk-toggleable__control sk-hidden--visually\" id=\"sk-estimator-id-3\" type=\"checkbox\" ><label for=\"sk-estimator-id-3\" class=\"sk-toggleable__label sk-toggleable__label-arrow\">LogisticRegression</label><div class=\"sk-toggleable__content\"><pre>LogisticRegression(l1_ratio=0.5, max_iter=5000, penalty=&#x27;elasticnet&#x27;,\n",
       "                   solver=&#x27;saga&#x27;)</pre></div></div></div></div></div></div></div>"
      ],
      "text/plain": [
       "Pipeline(steps=[('scale', StandardScaler()),\n",
       "                ('model',\n",
       "                 LogisticRegression(l1_ratio=0.5, max_iter=5000,\n",
       "                                    penalty='elasticnet', solver='saga'))])"
      ]
     },
     "execution_count": 43,
     "metadata": {},
     "output_type": "execute_result"
    }
   ],
   "source": [
    "model.fit(X_train, y_train.values.ravel())"
   ]
  },
  {
   "cell_type": "code",
   "execution_count": 44,
   "id": "af59f8c0",
   "metadata": {
    "execution": {
     "iopub.execute_input": "2025-07-30T21:37:51.170933Z",
     "iopub.status.busy": "2025-07-30T21:37:51.170223Z",
     "iopub.status.idle": "2025-07-30T21:37:51.175141Z",
     "shell.execute_reply": "2025-07-30T21:37:51.174164Z"
    },
    "papermill": {
     "duration": 0.029597,
     "end_time": "2025-07-30T21:37:51.177202",
     "exception": false,
     "start_time": "2025-07-30T21:37:51.147605",
     "status": "completed"
    },
    "tags": []
   },
   "outputs": [],
   "source": [
    "from fairness_multiverse.universe import predict_w_threshold"
   ]
  },
  {
   "cell_type": "code",
   "execution_count": 45,
   "id": "a7cf2e16",
   "metadata": {
    "execution": {
     "iopub.execute_input": "2025-07-30T21:37:51.222763Z",
     "iopub.status.busy": "2025-07-30T21:37:51.222370Z",
     "iopub.status.idle": "2025-07-30T21:37:51.415204Z",
     "shell.execute_reply": "2025-07-30T21:37:51.414315Z"
    },
    "papermill": {
     "duration": 0.217067,
     "end_time": "2025-07-30T21:37:51.416919",
     "exception": false,
     "start_time": "2025-07-30T21:37:51.199852",
     "status": "completed"
    },
    "tags": []
   },
   "outputs": [
    {
     "data": {
      "text/plain": [
       "0.8249136105227957"
      ]
     },
     "execution_count": 45,
     "metadata": {},
     "output_type": "execute_result"
    }
   ],
   "source": [
    "probs_test = model.predict_proba(X_test)\n",
    "\n",
    "'''\n",
    "Below code returns a boolean array (or binary 0/1 array depending on how it’s used) where each element \n",
    "is True if the probability of class 1 is greater than or equal to the threshold, and False otherwise.\n",
    "'''\n",
    "y_pred_default = predict_w_threshold(probs_test, 0.5)\n",
    "\n",
    "from sklearn.metrics import accuracy_score\n",
    "\n",
    "# Naive prediction\n",
    "accuracy_score(y_true = y_true, y_pred = y_pred_default)"
   ]
  },
  {
   "cell_type": "code",
   "execution_count": 46,
   "id": "081964c3",
   "metadata": {
    "execution": {
     "iopub.execute_input": "2025-07-30T21:37:51.465408Z",
     "iopub.status.busy": "2025-07-30T21:37:51.464780Z",
     "iopub.status.idle": "2025-07-30T21:37:51.674520Z",
     "shell.execute_reply": "2025-07-30T21:37:51.673346Z"
    },
    "papermill": {
     "duration": 0.236516,
     "end_time": "2025-07-30T21:37:51.676153",
     "exception": false,
     "start_time": "2025-07-30T21:37:51.439637",
     "status": "completed"
    },
    "tags": []
   },
   "outputs": [
    {
     "data": {
      "text/plain": [
       "array([0, 0, 0, ..., 0, 0, 0])"
      ]
     },
     "execution_count": 46,
     "metadata": {},
     "output_type": "execute_result"
    }
   ],
   "source": [
    "model.predict(X_test)"
   ]
  },
  {
   "cell_type": "markdown",
   "id": "56c9705b",
   "metadata": {
    "papermill": {
     "duration": 0.022639,
     "end_time": "2025-07-30T21:37:51.721506",
     "exception": false,
     "start_time": "2025-07-30T21:37:51.698867",
     "status": "completed"
    },
    "tags": []
   },
   "source": [
    "# Conformal Prediction"
   ]
  },
  {
   "cell_type": "code",
   "execution_count": 47,
   "id": "160ec6ff",
   "metadata": {
    "execution": {
     "iopub.execute_input": "2025-07-30T21:37:51.770580Z",
     "iopub.status.busy": "2025-07-30T21:37:51.769684Z",
     "iopub.status.idle": "2025-07-30T21:37:51.775998Z",
     "shell.execute_reply": "2025-07-30T21:37:51.774802Z"
    },
    "papermill": {
     "duration": 0.032553,
     "end_time": "2025-07-30T21:37:51.778172",
     "exception": false,
     "start_time": "2025-07-30T21:37:51.745619",
     "status": "completed"
    },
    "tags": []
   },
   "outputs": [],
   "source": [
    "# Miscoverage level for conformal prediction (10% allowed error rate => 90% target coverage)\n",
    "alpha = 0.1"
   ]
  },
  {
   "cell_type": "code",
   "execution_count": 48,
   "id": "eadf4555-3dd3-440e-8e35-f82a4ad9f855",
   "metadata": {
    "execution": {
     "iopub.execute_input": "2025-07-30T21:37:51.847804Z",
     "iopub.status.busy": "2025-07-30T21:37:51.847072Z",
     "iopub.status.idle": "2025-07-30T21:37:52.018671Z",
     "shell.execute_reply": "2025-07-30T21:37:52.017649Z"
    },
    "papermill": {
     "duration": 0.209644,
     "end_time": "2025-07-30T21:37:52.020642",
     "exception": false,
     "start_time": "2025-07-30T21:37:51.810998",
     "status": "completed"
    },
    "tags": []
   },
   "outputs": [],
   "source": [
    "probs_calib = model.predict_proba(X_calib)"
   ]
  },
  {
   "cell_type": "code",
   "execution_count": 49,
   "id": "2ed93547-6d5d-4983-9b36-1ecb300da49a",
   "metadata": {
    "execution": {
     "iopub.execute_input": "2025-07-30T21:37:52.069445Z",
     "iopub.status.busy": "2025-07-30T21:37:52.068564Z",
     "iopub.status.idle": "2025-07-30T21:37:52.075158Z",
     "shell.execute_reply": "2025-07-30T21:37:52.074014Z"
    },
    "papermill": {
     "duration": 0.03345,
     "end_time": "2025-07-30T21:37:52.076989",
     "exception": false,
     "start_time": "2025-07-30T21:37:52.043539",
     "status": "completed"
    },
    "tags": []
   },
   "outputs": [],
   "source": [
    "y_calib = y_calib.values.ravel().astype(int)"
   ]
  },
  {
   "cell_type": "code",
   "execution_count": 50,
   "id": "65d1320d-f588-4b38-9072-62af1ae97f7d",
   "metadata": {
    "execution": {
     "iopub.execute_input": "2025-07-30T21:37:52.125545Z",
     "iopub.status.busy": "2025-07-30T21:37:52.124892Z",
     "iopub.status.idle": "2025-07-30T21:37:52.132456Z",
     "shell.execute_reply": "2025-07-30T21:37:52.131252Z"
    },
    "papermill": {
     "duration": 0.033387,
     "end_time": "2025-07-30T21:37:52.133955",
     "exception": false,
     "start_time": "2025-07-30T21:37:52.100568",
     "status": "completed"
    },
    "tags": []
   },
   "outputs": [],
   "source": [
    "from fairness_multiverse.conformal import compute_nc_scores\n",
    "\n",
    "# Compute nonconformity scores on calibration set (1 - probability of true class)\n",
    "nc_scores = compute_nc_scores(probs_calib, y_calib)"
   ]
  },
  {
   "cell_type": "code",
   "execution_count": 51,
   "id": "df3b8ca3-53b7-43d5-9667-7c85da7aeda2",
   "metadata": {
    "execution": {
     "iopub.execute_input": "2025-07-30T21:37:52.180664Z",
     "iopub.status.busy": "2025-07-30T21:37:52.179987Z",
     "iopub.status.idle": "2025-07-30T21:37:52.186253Z",
     "shell.execute_reply": "2025-07-30T21:37:52.185370Z"
    },
    "papermill": {
     "duration": 0.030434,
     "end_time": "2025-07-30T21:37:52.187657",
     "exception": false,
     "start_time": "2025-07-30T21:37:52.157223",
     "status": "completed"
    },
    "tags": []
   },
   "outputs": [],
   "source": [
    "from fairness_multiverse.conformal import find_threshold\n",
    "\n",
    "# Find conformal threshold q_hat for the given alpha (split conformal method)\n",
    "q_hat = find_threshold(nc_scores, alpha)"
   ]
  },
  {
   "cell_type": "code",
   "execution_count": 52,
   "id": "4d29e6c1-0ef6-4aa4-b8fe-4fe79b0d033a",
   "metadata": {
    "execution": {
     "iopub.execute_input": "2025-07-30T21:37:52.235888Z",
     "iopub.status.busy": "2025-07-30T21:37:52.235237Z",
     "iopub.status.idle": "2025-07-30T21:37:52.242427Z",
     "shell.execute_reply": "2025-07-30T21:37:52.241421Z"
    },
    "papermill": {
     "duration": 0.032877,
     "end_time": "2025-07-30T21:37:52.244201",
     "exception": false,
     "start_time": "2025-07-30T21:37:52.211324",
     "status": "completed"
    },
    "tags": []
   },
   "outputs": [
    {
     "data": {
      "text/plain": [
       "0.7897516226168202"
      ]
     },
     "execution_count": 52,
     "metadata": {},
     "output_type": "execute_result"
    }
   ],
   "source": [
    "q_hat"
   ]
  },
  {
   "cell_type": "code",
   "execution_count": 53,
   "id": "92460794-cdac-4be2-ba28-f28c0515a6fb",
   "metadata": {
    "execution": {
     "iopub.execute_input": "2025-07-30T21:37:52.293635Z",
     "iopub.status.busy": "2025-07-30T21:37:52.293131Z",
     "iopub.status.idle": "2025-07-30T21:37:53.156583Z",
     "shell.execute_reply": "2025-07-30T21:37:53.155469Z"
    },
    "papermill": {
     "duration": 0.891144,
     "end_time": "2025-07-30T21:37:53.158506",
     "exception": false,
     "start_time": "2025-07-30T21:37:52.267362",
     "status": "completed"
    },
    "tags": []
   },
   "outputs": [],
   "source": [
    "from fairness_multiverse.conformal import predict_conformal_sets\n",
    "\n",
    "# Generate prediction sets for each test example\n",
    "pred_sets = predict_conformal_sets(model, X_test, q_hat)"
   ]
  },
  {
   "cell_type": "code",
   "execution_count": 54,
   "id": "d90c9a65-e6db-4f5d-80cd-e68fb7e46829",
   "metadata": {
    "execution": {
     "iopub.execute_input": "2025-07-30T21:37:53.214011Z",
     "iopub.status.busy": "2025-07-30T21:37:53.213460Z",
     "iopub.status.idle": "2025-07-30T21:37:53.219601Z",
     "shell.execute_reply": "2025-07-30T21:37:53.218380Z"
    },
    "papermill": {
     "duration": 0.03491,
     "end_time": "2025-07-30T21:37:53.221477",
     "exception": false,
     "start_time": "2025-07-30T21:37:53.186567",
     "status": "completed"
    },
    "tags": []
   },
   "outputs": [],
   "source": [
    "y_true = y_true.squeeze()"
   ]
  },
  {
   "cell_type": "code",
   "execution_count": 55,
   "id": "3a58a54a-1e68-46b9-927a-df01f18aebc8",
   "metadata": {
    "execution": {
     "iopub.execute_input": "2025-07-30T21:37:53.275048Z",
     "iopub.status.busy": "2025-07-30T21:37:53.274314Z",
     "iopub.status.idle": "2025-07-30T21:37:54.164004Z",
     "shell.execute_reply": "2025-07-30T21:37:54.163056Z"
    },
    "papermill": {
     "duration": 0.919055,
     "end_time": "2025-07-30T21:37:54.166124",
     "exception": false,
     "start_time": "2025-07-30T21:37:53.247069",
     "status": "completed"
    },
    "tags": []
   },
   "outputs": [],
   "source": [
    "from fairness_multiverse.conformal import evaluate_sets\n",
    "\n",
    "# Evaluate coverage and average set size on test data\n",
    "metrics = evaluate_sets(pred_sets, y_true)"
   ]
  },
  {
   "cell_type": "markdown",
   "id": "2b569c12-9aaa-4c88-98c9-bbcd0cf3ebb8",
   "metadata": {
    "papermill": {
     "duration": 0.027631,
     "end_time": "2025-07-30T21:37:54.223092",
     "exception": false,
     "start_time": "2025-07-30T21:37:54.195461",
     "status": "completed"
    },
    "tags": []
   },
   "source": [
    "# CP Metrics"
   ]
  },
  {
   "cell_type": "code",
   "execution_count": 56,
   "id": "5ce0a5cb-201f-45a0-ade5-94c7f0bd6095",
   "metadata": {
    "execution": {
     "iopub.execute_input": "2025-07-30T21:37:54.283216Z",
     "iopub.status.busy": "2025-07-30T21:37:54.282700Z",
     "iopub.status.idle": "2025-07-30T21:37:54.290787Z",
     "shell.execute_reply": "2025-07-30T21:37:54.289687Z"
    },
    "papermill": {
     "duration": 0.040845,
     "end_time": "2025-07-30T21:37:54.292926",
     "exception": false,
     "start_time": "2025-07-30T21:37:54.252081",
     "status": "completed"
    },
    "tags": []
   },
   "outputs": [
    {
     "data": {
      "text/plain": [
       "{'coverage': 0.908193066547765, 'avg_size': 1.2305094192397725}"
      ]
     },
     "execution_count": 56,
     "metadata": {},
     "output_type": "execute_result"
    }
   ],
   "source": [
    "metrics"
   ]
  },
  {
   "cell_type": "code",
   "execution_count": 57,
   "id": "9b9a838d-31c9-430b-ae14-12baee460d17",
   "metadata": {
    "execution": {
     "iopub.execute_input": "2025-07-30T21:37:54.354716Z",
     "iopub.status.busy": "2025-07-30T21:37:54.354230Z",
     "iopub.status.idle": "2025-07-30T21:37:54.361224Z",
     "shell.execute_reply": "2025-07-30T21:37:54.360127Z"
    },
    "papermill": {
     "duration": 0.039021,
     "end_time": "2025-07-30T21:37:54.363019",
     "exception": false,
     "start_time": "2025-07-30T21:37:54.323998",
     "status": "completed"
    },
    "tags": []
   },
   "outputs": [],
   "source": [
    "example_universe = universe.copy()\n",
    "universe_training_year = example_universe.get(\"training_year\")\n",
    "universe_training_size = example_universe.get(\"training_size\")\n",
    "universe_scale = example_universe.get(\"scale\")\n",
    "universe_model = example_universe.get(\"model\")\n",
    "universe_exclude_features = example_universe.get(\"exclude_features\")\n",
    "universe_exclude_subgroups = example_universe.get(\"exclude_subgroups\")"
   ]
  },
  {
   "cell_type": "code",
   "execution_count": 58,
   "id": "f4b6a8ac-9dc0-4245-8a91-5b3b5999c4f9",
   "metadata": {
    "execution": {
     "iopub.execute_input": "2025-07-30T21:37:54.423379Z",
     "iopub.status.busy": "2025-07-30T21:37:54.422655Z",
     "iopub.status.idle": "2025-07-30T21:37:54.429569Z",
     "shell.execute_reply": "2025-07-30T21:37:54.428476Z"
    },
    "papermill": {
     "duration": 0.039023,
     "end_time": "2025-07-30T21:37:54.431319",
     "exception": false,
     "start_time": "2025-07-30T21:37:54.392296",
     "status": "completed"
    },
    "tags": []
   },
   "outputs": [],
   "source": [
    "cp_metrics_dict = {\n",
    "    \"universe_id\": [universe_id],\n",
    "    \"universe_training_year\": [universe_training_year],\n",
    "    \"universe_training_size\": [universe_training_size],\n",
    "    \"universe_scale\": [universe_scale],\n",
    "    \"universe_model\": [universe_model],\n",
    "    \"universe_exclude_features\": [universe_exclude_features],\n",
    "    \"universe_exclude_subgroups\": [universe_exclude_subgroups],\n",
    "    \"q_hat\": [q_hat],\n",
    "    \"coverage\": [metrics[\"coverage\"]],\n",
    "    \"avg_size\": [metrics[\"avg_size\"]],\n",
    "}"
   ]
  },
  {
   "cell_type": "code",
   "execution_count": 59,
   "id": "908acbb1-0371-4915-85ca-3fa520d2efe2",
   "metadata": {
    "execution": {
     "iopub.execute_input": "2025-07-30T21:37:54.489739Z",
     "iopub.status.busy": "2025-07-30T21:37:54.488839Z",
     "iopub.status.idle": "2025-07-30T21:37:54.497073Z",
     "shell.execute_reply": "2025-07-30T21:37:54.495941Z"
    },
    "papermill": {
     "duration": 0.038223,
     "end_time": "2025-07-30T21:37:54.498689",
     "exception": false,
     "start_time": "2025-07-30T21:37:54.460466",
     "status": "completed"
    },
    "tags": []
   },
   "outputs": [
    {
     "data": {
      "text/plain": [
       "{'universe_id': ['710854622547fb429f0a0f4a753e5802'],\n",
       " 'universe_training_year': ['2012_14'],\n",
       " 'universe_training_size': ['1k'],\n",
       " 'universe_scale': ['scale'],\n",
       " 'universe_model': ['elasticnet'],\n",
       " 'universe_exclude_features': ['nationality-sex'],\n",
       " 'universe_exclude_subgroups': ['keep-all'],\n",
       " 'q_hat': [0.7897516226168202],\n",
       " 'coverage': [0.908193066547765],\n",
       " 'avg_size': [1.2305094192397725]}"
      ]
     },
     "execution_count": 59,
     "metadata": {},
     "output_type": "execute_result"
    }
   ],
   "source": [
    "cp_metrics_dict"
   ]
  },
  {
   "cell_type": "code",
   "execution_count": 60,
   "id": "33007efc-14e9-4ec6-97ac-56a455c82265",
   "metadata": {
    "execution": {
     "iopub.execute_input": "2025-07-30T21:37:54.551596Z",
     "iopub.status.busy": "2025-07-30T21:37:54.550931Z",
     "iopub.status.idle": "2025-07-30T21:37:54.557937Z",
     "shell.execute_reply": "2025-07-30T21:37:54.556884Z"
    },
    "papermill": {
     "duration": 0.034675,
     "end_time": "2025-07-30T21:37:54.559829",
     "exception": false,
     "start_time": "2025-07-30T21:37:54.525154",
     "status": "completed"
    },
    "tags": []
   },
   "outputs": [],
   "source": [
    "cp_metrics_df = pd.DataFrame(cp_metrics_dict)"
   ]
  },
  {
   "cell_type": "code",
   "execution_count": 61,
   "id": "db12611b-57b2-4910-b9d0-355adfd6e7bf",
   "metadata": {
    "execution": {
     "iopub.execute_input": "2025-07-30T21:37:54.613460Z",
     "iopub.status.busy": "2025-07-30T21:37:54.612849Z",
     "iopub.status.idle": "2025-07-30T21:37:54.632307Z",
     "shell.execute_reply": "2025-07-30T21:37:54.631383Z"
    },
    "papermill": {
     "duration": 0.046598,
     "end_time": "2025-07-30T21:37:54.633744",
     "exception": false,
     "start_time": "2025-07-30T21:37:54.587146",
     "status": "completed"
    },
    "tags": []
   },
   "outputs": [
    {
     "data": {
      "text/html": [
       "<div>\n",
       "<style scoped>\n",
       "    .dataframe tbody tr th:only-of-type {\n",
       "        vertical-align: middle;\n",
       "    }\n",
       "\n",
       "    .dataframe tbody tr th {\n",
       "        vertical-align: top;\n",
       "    }\n",
       "\n",
       "    .dataframe thead th {\n",
       "        text-align: right;\n",
       "    }\n",
       "</style>\n",
       "<table border=\"1\" class=\"dataframe\">\n",
       "  <thead>\n",
       "    <tr style=\"text-align: right;\">\n",
       "      <th></th>\n",
       "      <th>universe_id</th>\n",
       "      <th>universe_training_year</th>\n",
       "      <th>universe_training_size</th>\n",
       "      <th>universe_scale</th>\n",
       "      <th>universe_model</th>\n",
       "      <th>universe_exclude_features</th>\n",
       "      <th>universe_exclude_subgroups</th>\n",
       "      <th>q_hat</th>\n",
       "      <th>coverage</th>\n",
       "      <th>avg_size</th>\n",
       "    </tr>\n",
       "  </thead>\n",
       "  <tbody>\n",
       "    <tr>\n",
       "      <th>0</th>\n",
       "      <td>710854622547fb429f0a0f4a753e5802</td>\n",
       "      <td>2012_14</td>\n",
       "      <td>1k</td>\n",
       "      <td>scale</td>\n",
       "      <td>elasticnet</td>\n",
       "      <td>nationality-sex</td>\n",
       "      <td>keep-all</td>\n",
       "      <td>0.789752</td>\n",
       "      <td>0.908193</td>\n",
       "      <td>1.230509</td>\n",
       "    </tr>\n",
       "  </tbody>\n",
       "</table>\n",
       "</div>"
      ],
      "text/plain": [
       "                        universe_id universe_training_year  \\\n",
       "0  710854622547fb429f0a0f4a753e5802                2012_14   \n",
       "\n",
       "  universe_training_size universe_scale universe_model  \\\n",
       "0                     1k          scale     elasticnet   \n",
       "\n",
       "  universe_exclude_features universe_exclude_subgroups     q_hat  coverage  \\\n",
       "0           nationality-sex                   keep-all  0.789752  0.908193   \n",
       "\n",
       "   avg_size  \n",
       "0  1.230509  "
      ]
     },
     "execution_count": 61,
     "metadata": {},
     "output_type": "execute_result"
    }
   ],
   "source": [
    "cp_metrics_df"
   ]
  },
  {
   "cell_type": "code",
   "execution_count": 62,
   "id": "b7fbde55-a0a1-47e4-9af6-fe4a17fa8c61",
   "metadata": {
    "execution": {
     "iopub.execute_input": "2025-07-30T21:37:54.684466Z",
     "iopub.status.busy": "2025-07-30T21:37:54.683632Z",
     "iopub.status.idle": "2025-07-30T21:37:54.689464Z",
     "shell.execute_reply": "2025-07-30T21:37:54.688377Z"
    },
    "papermill": {
     "duration": 0.033242,
     "end_time": "2025-07-30T21:37:54.691116",
     "exception": false,
     "start_time": "2025-07-30T21:37:54.657874",
     "status": "completed"
    },
    "tags": []
   },
   "outputs": [],
   "source": [
    "# Conditional Coverage & looking at subgroups"
   ]
  },
  {
   "cell_type": "code",
   "execution_count": 63,
   "id": "027ae886-68dd-4141-96c7-805a5450e1ef",
   "metadata": {
    "execution": {
     "iopub.execute_input": "2025-07-30T21:37:54.744224Z",
     "iopub.status.busy": "2025-07-30T21:37:54.743339Z",
     "iopub.status.idle": "2025-07-30T21:37:55.034082Z",
     "shell.execute_reply": "2025-07-30T21:37:55.033074Z"
    },
    "papermill": {
     "duration": 0.319431,
     "end_time": "2025-07-30T21:37:55.036002",
     "exception": false,
     "start_time": "2025-07-30T21:37:54.716571",
     "status": "completed"
    },
    "tags": []
   },
   "outputs": [],
   "source": [
    "from fairness_multiverse.conformal import build_cp_groups\n",
    "\n",
    "cp_groups_df = build_cp_groups(pred_sets, y_true, X_test.index, org_test)\n",
    "#needs universe_id and setting"
   ]
  },
  {
   "cell_type": "code",
   "execution_count": 64,
   "id": "01d5802c-663a-4d1f-9d69-e036faaffbf7",
   "metadata": {
    "execution": {
     "iopub.execute_input": "2025-07-30T21:37:55.091584Z",
     "iopub.status.busy": "2025-07-30T21:37:55.091253Z",
     "iopub.status.idle": "2025-07-30T21:37:55.096193Z",
     "shell.execute_reply": "2025-07-30T21:37:55.095206Z"
    },
    "papermill": {
     "duration": 0.03802,
     "end_time": "2025-07-30T21:37:55.101327",
     "exception": false,
     "start_time": "2025-07-30T21:37:55.063307",
     "status": "completed"
    },
    "tags": []
   },
   "outputs": [],
   "source": [
    "#delete\n",
    "#cp_groups_df"
   ]
  },
  {
   "cell_type": "code",
   "execution_count": 65,
   "id": "fa424af1-d1eb-443d-b717-2d279ada8408",
   "metadata": {
    "execution": {
     "iopub.execute_input": "2025-07-30T21:37:55.159272Z",
     "iopub.status.busy": "2025-07-30T21:37:55.158643Z",
     "iopub.status.idle": "2025-07-30T21:37:55.163942Z",
     "shell.execute_reply": "2025-07-30T21:37:55.162958Z"
    },
    "papermill": {
     "duration": 0.035874,
     "end_time": "2025-07-30T21:37:55.165845",
     "exception": false,
     "start_time": "2025-07-30T21:37:55.129971",
     "status": "completed"
    },
    "tags": []
   },
   "outputs": [],
   "source": [
    "#delete\n",
    "#percentage = (cp_groups_df['nongerman_female'] == 1).mean() * 100\n",
    "#print(percentage)\n"
   ]
  },
  {
   "cell_type": "code",
   "execution_count": 66,
   "id": "6cbdab96-b2b2-45af-ad54-d0516db2e28d",
   "metadata": {
    "execution": {
     "iopub.execute_input": "2025-07-30T21:37:55.220903Z",
     "iopub.status.busy": "2025-07-30T21:37:55.220512Z",
     "iopub.status.idle": "2025-07-30T21:37:56.935963Z",
     "shell.execute_reply": "2025-07-30T21:37:56.935010Z"
    },
    "papermill": {
     "duration": 1.74484,
     "end_time": "2025-07-30T21:37:56.937839",
     "exception": false,
     "start_time": "2025-07-30T21:37:55.192999",
     "status": "completed"
    },
    "tags": []
   },
   "outputs": [],
   "source": [
    "# Define covered = 1 if true_label is in the predicted set\n",
    "cp_groups_df['covered'] = cp_groups_df.apply(\n",
    "    lambda r: int(r['true_label'] in r['pred_set']),\n",
    "    axis=1\n",
    ")"
   ]
  },
  {
   "cell_type": "code",
   "execution_count": 67,
   "id": "338ff529-1a6b-4b87-a931-8e4788d52aad",
   "metadata": {
    "execution": {
     "iopub.execute_input": "2025-07-30T21:37:56.991735Z",
     "iopub.status.busy": "2025-07-30T21:37:56.991052Z",
     "iopub.status.idle": "2025-07-30T21:37:56.996197Z",
     "shell.execute_reply": "2025-07-30T21:37:56.995201Z"
    },
    "papermill": {
     "duration": 0.031928,
     "end_time": "2025-07-30T21:37:56.997749",
     "exception": false,
     "start_time": "2025-07-30T21:37:56.965821",
     "status": "completed"
    },
    "tags": []
   },
   "outputs": [],
   "source": [
    "#cp_groups_df"
   ]
  },
  {
   "cell_type": "code",
   "execution_count": 68,
   "id": "90032e27-66df-4540-9169-4e89cfbaa758",
   "metadata": {
    "execution": {
     "iopub.execute_input": "2025-07-30T21:37:57.051468Z",
     "iopub.status.busy": "2025-07-30T21:37:57.050738Z",
     "iopub.status.idle": "2025-07-30T21:37:57.062408Z",
     "shell.execute_reply": "2025-07-30T21:37:57.061424Z"
    },
    "papermill": {
     "duration": 0.038979,
     "end_time": "2025-07-30T21:37:57.064130",
     "exception": false,
     "start_time": "2025-07-30T21:37:57.025151",
     "status": "completed"
    },
    "tags": []
   },
   "outputs": [],
   "source": [
    "subgroups = ['frau1','nongerman','nongerman_male','nongerman_female']\n",
    "\n",
    "# Conditional coverage for subgroup==1\n",
    "cond_coverage = {\n",
    "    g: cp_groups_df.loc[cp_groups_df[g]==1, 'covered'].mean()\n",
    "    for g in subgroups\n",
    "}"
   ]
  },
  {
   "cell_type": "code",
   "execution_count": 69,
   "id": "1e348fb1-b9c3-45bc-ba23-f016827a7e0d",
   "metadata": {
    "execution": {
     "iopub.execute_input": "2025-07-30T21:37:57.117774Z",
     "iopub.status.busy": "2025-07-30T21:37:57.117289Z",
     "iopub.status.idle": "2025-07-30T21:37:57.124578Z",
     "shell.execute_reply": "2025-07-30T21:37:57.123569Z"
    },
    "papermill": {
     "duration": 0.035346,
     "end_time": "2025-07-30T21:37:57.126259",
     "exception": false,
     "start_time": "2025-07-30T21:37:57.090913",
     "status": "completed"
    },
    "tags": []
   },
   "outputs": [
    {
     "data": {
      "text/plain": [
       "{'frau1': 0.9035719099609112,\n",
       " 'nongerman': 0.9119744007185763,\n",
       " 'nongerman_male': 0.9278573358551743,\n",
       " 'nongerman_female': 0.8856929955290611}"
      ]
     },
     "execution_count": 69,
     "metadata": {},
     "output_type": "execute_result"
    }
   ],
   "source": [
    "cond_coverage"
   ]
  },
  {
   "cell_type": "code",
   "execution_count": 70,
   "id": "f5093324-c3dd-4d63-bc4c-8d945e5c8bbb",
   "metadata": {
    "execution": {
     "iopub.execute_input": "2025-07-30T21:37:57.180351Z",
     "iopub.status.busy": "2025-07-30T21:37:57.179873Z",
     "iopub.status.idle": "2025-07-30T21:37:57.186949Z",
     "shell.execute_reply": "2025-07-30T21:37:57.185951Z"
    },
    "papermill": {
     "duration": 0.035158,
     "end_time": "2025-07-30T21:37:57.188573",
     "exception": false,
     "start_time": "2025-07-30T21:37:57.153415",
     "status": "completed"
    },
    "tags": []
   },
   "outputs": [],
   "source": [
    "for subgroup, cov in cond_coverage.items():\n",
    "    cp_metrics_df[f\"cov_{subgroup}\"] = cov"
   ]
  },
  {
   "cell_type": "code",
   "execution_count": 71,
   "id": "6e872e10-dbe5-49e8-b554-5030c98ff75d",
   "metadata": {
    "execution": {
     "iopub.execute_input": "2025-07-30T21:37:57.239593Z",
     "iopub.status.busy": "2025-07-30T21:37:57.238776Z",
     "iopub.status.idle": "2025-07-30T21:37:57.258962Z",
     "shell.execute_reply": "2025-07-30T21:37:57.258024Z"
    },
    "papermill": {
     "duration": 0.046516,
     "end_time": "2025-07-30T21:37:57.260731",
     "exception": false,
     "start_time": "2025-07-30T21:37:57.214215",
     "status": "completed"
    },
    "tags": []
   },
   "outputs": [
    {
     "data": {
      "text/html": [
       "<div>\n",
       "<style scoped>\n",
       "    .dataframe tbody tr th:only-of-type {\n",
       "        vertical-align: middle;\n",
       "    }\n",
       "\n",
       "    .dataframe tbody tr th {\n",
       "        vertical-align: top;\n",
       "    }\n",
       "\n",
       "    .dataframe thead th {\n",
       "        text-align: right;\n",
       "    }\n",
       "</style>\n",
       "<table border=\"1\" class=\"dataframe\">\n",
       "  <thead>\n",
       "    <tr style=\"text-align: right;\">\n",
       "      <th></th>\n",
       "      <th>universe_id</th>\n",
       "      <th>universe_training_year</th>\n",
       "      <th>universe_training_size</th>\n",
       "      <th>universe_scale</th>\n",
       "      <th>universe_model</th>\n",
       "      <th>universe_exclude_features</th>\n",
       "      <th>universe_exclude_subgroups</th>\n",
       "      <th>q_hat</th>\n",
       "      <th>coverage</th>\n",
       "      <th>avg_size</th>\n",
       "      <th>cov_frau1</th>\n",
       "      <th>cov_nongerman</th>\n",
       "      <th>cov_nongerman_male</th>\n",
       "      <th>cov_nongerman_female</th>\n",
       "    </tr>\n",
       "  </thead>\n",
       "  <tbody>\n",
       "    <tr>\n",
       "      <th>0</th>\n",
       "      <td>710854622547fb429f0a0f4a753e5802</td>\n",
       "      <td>2012_14</td>\n",
       "      <td>1k</td>\n",
       "      <td>scale</td>\n",
       "      <td>elasticnet</td>\n",
       "      <td>nationality-sex</td>\n",
       "      <td>keep-all</td>\n",
       "      <td>0.789752</td>\n",
       "      <td>0.908193</td>\n",
       "      <td>1.230509</td>\n",
       "      <td>0.903572</td>\n",
       "      <td>0.911974</td>\n",
       "      <td>0.927857</td>\n",
       "      <td>0.885693</td>\n",
       "    </tr>\n",
       "  </tbody>\n",
       "</table>\n",
       "</div>"
      ],
      "text/plain": [
       "                        universe_id universe_training_year  \\\n",
       "0  710854622547fb429f0a0f4a753e5802                2012_14   \n",
       "\n",
       "  universe_training_size universe_scale universe_model  \\\n",
       "0                     1k          scale     elasticnet   \n",
       "\n",
       "  universe_exclude_features universe_exclude_subgroups     q_hat  coverage  \\\n",
       "0           nationality-sex                   keep-all  0.789752  0.908193   \n",
       "\n",
       "   avg_size  cov_frau1  cov_nongerman  cov_nongerman_male  \\\n",
       "0  1.230509   0.903572       0.911974            0.927857   \n",
       "\n",
       "   cov_nongerman_female  \n",
       "0              0.885693  "
      ]
     },
     "execution_count": 71,
     "metadata": {},
     "output_type": "execute_result"
    }
   ],
   "source": [
    "cp_metrics_df"
   ]
  },
  {
   "cell_type": "markdown",
   "id": "33774451",
   "metadata": {
    "papermill": {
     "duration": 0.024673,
     "end_time": "2025-07-30T21:37:57.310416",
     "exception": false,
     "start_time": "2025-07-30T21:37:57.285743",
     "status": "completed"
    },
    "tags": []
   },
   "source": [
    "# (Fairness) Metrics"
   ]
  },
  {
   "cell_type": "code",
   "execution_count": 72,
   "id": "debc5d62",
   "metadata": {
    "execution": {
     "iopub.execute_input": "2025-07-30T21:37:57.360855Z",
     "iopub.status.busy": "2025-07-30T21:37:57.360378Z",
     "iopub.status.idle": "2025-07-30T21:37:57.382081Z",
     "shell.execute_reply": "2025-07-30T21:37:57.381253Z"
    },
    "papermill": {
     "duration": 0.048502,
     "end_time": "2025-07-30T21:37:57.383788",
     "exception": false,
     "start_time": "2025-07-30T21:37:57.335286",
     "status": "completed"
    },
    "tags": []
   },
   "outputs": [],
   "source": [
    "# do I need to include maxdeutsch1.missing?\n",
    "\n",
    "import numpy as np\n",
    "\n",
    "colname_to_bin = \"maxdeutsch1\"\n",
    "majority_value = org_train[colname_to_bin].mode()[0]\n",
    "\n",
    "org_test[\"majmin\"] = np.where(org_test[colname_to_bin] == majority_value, \"majority\", \"minority\")"
   ]
  },
  {
   "cell_type": "code",
   "execution_count": 73,
   "id": "06a50de5",
   "metadata": {
    "execution": {
     "iopub.execute_input": "2025-07-30T21:37:57.434541Z",
     "iopub.status.busy": "2025-07-30T21:37:57.434108Z",
     "iopub.status.idle": "2025-07-30T21:38:00.307900Z",
     "shell.execute_reply": "2025-07-30T21:38:00.306992Z"
    },
    "papermill": {
     "duration": 2.900662,
     "end_time": "2025-07-30T21:38:00.309933",
     "exception": false,
     "start_time": "2025-07-30T21:37:57.409271",
     "status": "completed"
    },
    "tags": []
   },
   "outputs": [],
   "source": [
    "example_universe = universe.copy()\n",
    "example_universe[\"cutoff\"] = example_universe[\"cutoff\"][0]\n",
    "example_universe[\"eval_fairness_grouping\"] = example_universe[\"eval_fairness_grouping\"][0]\n",
    "fairness_dict, metric_frame = universe_analysis.compute_metrics(\n",
    "    example_universe,\n",
    "    y_pred_prob=probs_test,\n",
    "    y_test=y_true,\n",
    "    org_test=org_test,\n",
    ")"
   ]
  },
  {
   "cell_type": "markdown",
   "id": "f95d4e02",
   "metadata": {
    "papermill": {
     "duration": 0.024127,
     "end_time": "2025-07-30T21:38:00.359702",
     "exception": false,
     "start_time": "2025-07-30T21:38:00.335575",
     "status": "completed"
    },
    "tags": []
   },
   "source": [
    "# Overall"
   ]
  },
  {
   "cell_type": "markdown",
   "id": "bdee4871",
   "metadata": {
    "papermill": {
     "duration": 0.024287,
     "end_time": "2025-07-30T21:38:00.409417",
     "exception": false,
     "start_time": "2025-07-30T21:38:00.385130",
     "status": "completed"
    },
    "tags": []
   },
   "source": [
    "Fairness\n",
    "Main fairness target: Equalized Odds. Seems to be a better fit than equal opportunity, since we're not only interested in Y = 1. Seems to be a better fit than demographic parity, since we also care about accuracy, not just equal distribution of preds.\n",
    "\n",
    "Pick column for computation of fairness metrics\n",
    "\n",
    "Performance\n",
    "Overall performance measures, most interesting in relation to the measures split by group below"
   ]
  },
  {
   "cell_type": "code",
   "execution_count": 74,
   "id": "c4e067c6",
   "metadata": {
    "execution": {
     "iopub.execute_input": "2025-07-30T21:38:00.461250Z",
     "iopub.status.busy": "2025-07-30T21:38:00.460599Z",
     "iopub.status.idle": "2025-07-30T21:38:00.469250Z",
     "shell.execute_reply": "2025-07-30T21:38:00.468406Z"
    },
    "papermill": {
     "duration": 0.035833,
     "end_time": "2025-07-30T21:38:00.470860",
     "exception": false,
     "start_time": "2025-07-30T21:38:00.435027",
     "status": "completed"
    },
    "tags": []
   },
   "outputs": [
    {
     "data": {
      "text/plain": [
       "accuracy                   0.218047\n",
       "balanced accuracy          0.534481\n",
       "f1                         0.239553\n",
       "precision                  0.136848\n",
       "false positive rate        0.891154\n",
       "false negative rate        0.039885\n",
       "selection rate             0.900000\n",
       "count                  89710.000000\n",
       "dtype: float64"
      ]
     },
     "execution_count": 74,
     "metadata": {},
     "output_type": "execute_result"
    }
   ],
   "source": [
    "metric_frame.overall"
   ]
  },
  {
   "cell_type": "markdown",
   "id": "e968fe9d",
   "metadata": {
    "papermill": {
     "duration": 0.025596,
     "end_time": "2025-07-30T21:38:00.521956",
     "exception": false,
     "start_time": "2025-07-30T21:38:00.496360",
     "status": "completed"
    },
    "tags": []
   },
   "source": [
    "By Group"
   ]
  },
  {
   "cell_type": "code",
   "execution_count": 75,
   "id": "ec325bce",
   "metadata": {
    "execution": {
     "iopub.execute_input": "2025-07-30T21:38:00.573168Z",
     "iopub.status.busy": "2025-07-30T21:38:00.572531Z",
     "iopub.status.idle": "2025-07-30T21:38:00.587859Z",
     "shell.execute_reply": "2025-07-30T21:38:00.586931Z"
    },
    "papermill": {
     "duration": 0.042971,
     "end_time": "2025-07-30T21:38:00.589420",
     "exception": false,
     "start_time": "2025-07-30T21:38:00.546449",
     "status": "completed"
    },
    "tags": []
   },
   "outputs": [
    {
     "data": {
      "text/html": [
       "<div>\n",
       "<style scoped>\n",
       "    .dataframe tbody tr th:only-of-type {\n",
       "        vertical-align: middle;\n",
       "    }\n",
       "\n",
       "    .dataframe tbody tr th {\n",
       "        vertical-align: top;\n",
       "    }\n",
       "\n",
       "    .dataframe thead th {\n",
       "        text-align: right;\n",
       "    }\n",
       "</style>\n",
       "<table border=\"1\" class=\"dataframe\">\n",
       "  <thead>\n",
       "    <tr style=\"text-align: right;\">\n",
       "      <th></th>\n",
       "      <th>accuracy</th>\n",
       "      <th>balanced accuracy</th>\n",
       "      <th>f1</th>\n",
       "      <th>precision</th>\n",
       "      <th>false positive rate</th>\n",
       "      <th>false negative rate</th>\n",
       "      <th>selection rate</th>\n",
       "      <th>count</th>\n",
       "    </tr>\n",
       "    <tr>\n",
       "      <th>majmin</th>\n",
       "      <th></th>\n",
       "      <th></th>\n",
       "      <th></th>\n",
       "      <th></th>\n",
       "      <th></th>\n",
       "      <th></th>\n",
       "      <th></th>\n",
       "      <th></th>\n",
       "    </tr>\n",
       "  </thead>\n",
       "  <tbody>\n",
       "    <tr>\n",
       "      <th>majority</th>\n",
       "      <td>0.23649</td>\n",
       "      <td>0.540364</td>\n",
       "      <td>0.248121</td>\n",
       "      <td>0.142619</td>\n",
       "      <td>0.872664</td>\n",
       "      <td>0.046608</td>\n",
       "      <td>0.883331</td>\n",
       "      <td>69170.0</td>\n",
       "    </tr>\n",
       "    <tr>\n",
       "      <th>minority</th>\n",
       "      <td>0.15594</td>\n",
       "      <td>0.516915</td>\n",
       "      <td>0.212205</td>\n",
       "      <td>0.118896</td>\n",
       "      <td>0.952234</td>\n",
       "      <td>0.013936</td>\n",
       "      <td>0.956134</td>\n",
       "      <td>20540.0</td>\n",
       "    </tr>\n",
       "  </tbody>\n",
       "</table>\n",
       "</div>"
      ],
      "text/plain": [
       "          accuracy  balanced accuracy        f1  precision  \\\n",
       "majmin                                                       \n",
       "majority   0.23649           0.540364  0.248121   0.142619   \n",
       "minority   0.15594           0.516915  0.212205   0.118896   \n",
       "\n",
       "          false positive rate  false negative rate  selection rate    count  \n",
       "majmin                                                                       \n",
       "majority             0.872664             0.046608        0.883331  69170.0  \n",
       "minority             0.952234             0.013936        0.956134  20540.0  "
      ]
     },
     "execution_count": 75,
     "metadata": {},
     "output_type": "execute_result"
    }
   ],
   "source": [
    "metric_frame.by_group"
   ]
  },
  {
   "cell_type": "code",
   "execution_count": 76,
   "id": "a9ddbe63",
   "metadata": {
    "execution": {
     "iopub.execute_input": "2025-07-30T21:38:00.642679Z",
     "iopub.status.busy": "2025-07-30T21:38:00.642065Z",
     "iopub.status.idle": "2025-07-30T21:38:03.065238Z",
     "shell.execute_reply": "2025-07-30T21:38:03.064404Z"
    },
    "papermill": {
     "duration": 2.450144,
     "end_time": "2025-07-30T21:38:03.066739",
     "exception": false,
     "start_time": "2025-07-30T21:38:00.616595",
     "status": "completed"
    },
    "tags": []
   },
   "outputs": [
    {
     "data": {
      "text/plain": [
       "array([[<Axes: title={'center': 'accuracy'}, xlabel='majmin'>,\n",
       "        <Axes: title={'center': 'balanced accuracy'}, xlabel='majmin'>,\n",
       "        <Axes: title={'center': 'f1'}, xlabel='majmin'>],\n",
       "       [<Axes: title={'center': 'precision'}, xlabel='majmin'>,\n",
       "        <Axes: title={'center': 'false positive rate'}, xlabel='majmin'>,\n",
       "        <Axes: title={'center': 'false negative rate'}, xlabel='majmin'>],\n",
       "       [<Axes: title={'center': 'selection rate'}, xlabel='majmin'>,\n",
       "        <Axes: title={'center': 'count'}, xlabel='majmin'>,\n",
       "        <Axes: xlabel='majmin'>]], dtype=object)"
      ]
     },
     "execution_count": 76,
     "metadata": {},
     "output_type": "execute_result"
    },
    {
     "data": {
      "image/png": "[encoded data removed]",
      "text/plain": [
       "<Figure size 1200x800 with 9 Axes>"
      ]
     },
     "metadata": {},
     "output_type": "display_data"
    }
   ],
   "source": [
    "# In a graphic\n",
    "metric_frame.by_group.plot.bar(\n",
    "    subplots=True,\n",
    "    layout=[3, 3],\n",
    "    legend=False,\n",
    "    figsize=[12, 8],\n",
    "    title=\"Show all metrics\",\n",
    ")"
   ]
  },
  {
   "cell_type": "markdown",
   "id": "f57a0bac",
   "metadata": {
    "papermill": {
     "duration": 0.028747,
     "end_time": "2025-07-30T21:38:03.126693",
     "exception": false,
     "start_time": "2025-07-30T21:38:03.097946",
     "status": "completed"
    },
    "tags": []
   },
   "source": [
    "# Final Output"
   ]
  },
  {
   "cell_type": "code",
   "execution_count": 77,
   "id": "96d280a3",
   "metadata": {
    "execution": {
     "iopub.execute_input": "2025-07-30T21:38:03.186808Z",
     "iopub.status.busy": "2025-07-30T21:38:03.186028Z",
     "iopub.status.idle": "2025-07-30T21:38:03.195000Z",
     "shell.execute_reply": "2025-07-30T21:38:03.194233Z"
    },
    "papermill": {
     "duration": 0.040791,
     "end_time": "2025-07-30T21:38:03.196544",
     "exception": false,
     "start_time": "2025-07-30T21:38:03.155753",
     "status": "completed"
    },
    "tags": []
   },
   "outputs": [
    {
     "data": {
      "text/plain": [
       "4"
      ]
     },
     "execution_count": 77,
     "metadata": {},
     "output_type": "execute_result"
    }
   ],
   "source": [
    "sub_universes = universe_analysis.generate_sub_universes()\n",
    "len(sub_universes)"
   ]
  },
  {
   "cell_type": "code",
   "execution_count": 78,
   "id": "92adf7ba",
   "metadata": {
    "execution": {
     "iopub.execute_input": "2025-07-30T21:38:03.255860Z",
     "iopub.status.busy": "2025-07-30T21:38:03.255167Z",
     "iopub.status.idle": "2025-07-30T21:38:03.261625Z",
     "shell.execute_reply": "2025-07-30T21:38:03.260582Z"
    },
    "papermill": {
     "duration": 0.038593,
     "end_time": "2025-07-30T21:38:03.263137",
     "exception": false,
     "start_time": "2025-07-30T21:38:03.224544",
     "status": "completed"
    },
    "tags": []
   },
   "outputs": [],
   "source": [
    "def filter_sub_universe_data(sub_universe, org_test):\n",
    "    # Keep all rows — no filtering\n",
    "    keep_rows_mask = np.ones(org_test.shape[0], dtype=bool)\n",
    "\n",
    "    print(f\"[INFO] Keeping all rows: {keep_rows_mask.sum()} rows retained.\")\n",
    "    return keep_rows_mask"
   ]
  },
  {
   "cell_type": "code",
   "execution_count": 79,
   "id": "4a759155",
   "metadata": {
    "execution": {
     "iopub.execute_input": "2025-07-30T21:38:03.321991Z",
     "iopub.status.busy": "2025-07-30T21:38:03.321364Z",
     "iopub.status.idle": "2025-07-30T21:38:14.241434Z",
     "shell.execute_reply": "2025-07-30T21:38:14.240174Z"
    },
    "papermill": {
     "duration": 10.950235,
     "end_time": "2025-07-30T21:38:14.243150",
     "exception": false,
     "start_time": "2025-07-30T21:38:03.292915",
     "status": "completed"
    },
    "tags": []
   },
   "outputs": [
    {
     "name": "stdout",
     "output_type": "stream",
     "text": [
      "Stopping execution_time clock.\n",
      "[INFO] Keeping all rows: 89710 rows retained.\n"
     ]
    },
    {
     "name": "stdout",
     "output_type": "stream",
     "text": [
      "[INFO] Keeping all rows: 89710 rows retained.\n"
     ]
    },
    {
     "name": "stdout",
     "output_type": "stream",
     "text": [
      "[INFO] Keeping all rows: 89710 rows retained.\n"
     ]
    },
    {
     "name": "stdout",
     "output_type": "stream",
     "text": [
      "[INFO] Keeping all rows: 89710 rows retained.\n"
     ]
    },
    {
     "data": {
      "text/html": [
       "<div>\n",
       "<style scoped>\n",
       "    .dataframe tbody tr th:only-of-type {\n",
       "        vertical-align: middle;\n",
       "    }\n",
       "\n",
       "    .dataframe tbody tr th {\n",
       "        vertical-align: top;\n",
       "    }\n",
       "\n",
       "    .dataframe thead th {\n",
       "        text-align: right;\n",
       "    }\n",
       "</style>\n",
       "<table border=\"1\" class=\"dataframe\">\n",
       "  <thead>\n",
       "    <tr style=\"text-align: right;\">\n",
       "      <th></th>\n",
       "      <th>run_no</th>\n",
       "      <th>universe_id</th>\n",
       "      <th>universe_settings</th>\n",
       "      <th>execution_time</th>\n",
       "      <th>test_size_n</th>\n",
       "      <th>test_size_frac</th>\n",
       "      <th>fair_main_equalized_odds_difference</th>\n",
       "      <th>fair_main_equalized_odds_ratio</th>\n",
       "      <th>fair_main_demographic_parity_difference</th>\n",
       "      <th>fair_main_demographic_parity_ratio</th>\n",
       "      <th>...</th>\n",
       "      <th>perf_grp_precision_0</th>\n",
       "      <th>perf_grp_precision_1</th>\n",
       "      <th>perf_grp_false positive rate_0</th>\n",
       "      <th>perf_grp_false positive rate_1</th>\n",
       "      <th>perf_grp_false negative rate_0</th>\n",
       "      <th>perf_grp_false negative rate_1</th>\n",
       "      <th>perf_grp_selection rate_0</th>\n",
       "      <th>perf_grp_selection rate_1</th>\n",
       "      <th>perf_grp_count_0</th>\n",
       "      <th>perf_grp_count_1</th>\n",
       "    </tr>\n",
       "  </thead>\n",
       "  <tbody>\n",
       "    <tr>\n",
       "      <th>0</th>\n",
       "      <td>14</td>\n",
       "      <td>710854622547fb429f0a0f4a753e5802</td>\n",
       "      <td>{\"cutoff\": \"quantile_0.1\", \"eval_fairness_grou...</td>\n",
       "      <td>34.161891</td>\n",
       "      <td>89710</td>\n",
       "      <td>1.0</td>\n",
       "      <td>0.079571</td>\n",
       "      <td>0.916438</td>\n",
       "      <td>0.072803</td>\n",
       "      <td>0.923856</td>\n",
       "      <td>...</td>\n",
       "      <td>NaN</td>\n",
       "      <td>NaN</td>\n",
       "      <td>NaN</td>\n",
       "      <td>NaN</td>\n",
       "      <td>NaN</td>\n",
       "      <td>NaN</td>\n",
       "      <td>NaN</td>\n",
       "      <td>NaN</td>\n",
       "      <td>NaN</td>\n",
       "      <td>NaN</td>\n",
       "    </tr>\n",
       "    <tr>\n",
       "      <th>0</th>\n",
       "      <td>14</td>\n",
       "      <td>710854622547fb429f0a0f4a753e5802</td>\n",
       "      <td>{\"cutoff\": \"quantile_0.1\", \"eval_fairness_grou...</td>\n",
       "      <td>34.161891</td>\n",
       "      <td>89710</td>\n",
       "      <td>1.0</td>\n",
       "      <td>0.079571</td>\n",
       "      <td>0.916438</td>\n",
       "      <td>0.072803</td>\n",
       "      <td>0.923856</td>\n",
       "      <td>...</td>\n",
       "      <td>0.118896</td>\n",
       "      <td>0.142619</td>\n",
       "      <td>0.952234</td>\n",
       "      <td>0.872664</td>\n",
       "      <td>0.013936</td>\n",
       "      <td>0.046608</td>\n",
       "      <td>0.956134</td>\n",
       "      <td>0.883331</td>\n",
       "      <td>20540.0</td>\n",
       "      <td>69170.0</td>\n",
       "    </tr>\n",
       "    <tr>\n",
       "      <th>0</th>\n",
       "      <td>14</td>\n",
       "      <td>710854622547fb429f0a0f4a753e5802</td>\n",
       "      <td>{\"cutoff\": \"quantile_0.25\", \"eval_fairness_gro...</td>\n",
       "      <td>34.161891</td>\n",
       "      <td>89710</td>\n",
       "      <td>1.0</td>\n",
       "      <td>0.160886</td>\n",
       "      <td>0.811610</td>\n",
       "      <td>0.147066</td>\n",
       "      <td>0.829664</td>\n",
       "      <td>...</td>\n",
       "      <td>NaN</td>\n",
       "      <td>NaN</td>\n",
       "      <td>NaN</td>\n",
       "      <td>NaN</td>\n",
       "      <td>NaN</td>\n",
       "      <td>NaN</td>\n",
       "      <td>NaN</td>\n",
       "      <td>NaN</td>\n",
       "      <td>NaN</td>\n",
       "      <td>NaN</td>\n",
       "    </tr>\n",
       "    <tr>\n",
       "      <th>0</th>\n",
       "      <td>14</td>\n",
       "      <td>710854622547fb429f0a0f4a753e5802</td>\n",
       "      <td>{\"cutoff\": \"quantile_0.25\", \"eval_fairness_gro...</td>\n",
       "      <td>34.161891</td>\n",
       "      <td>89710</td>\n",
       "      <td>1.0</td>\n",
       "      <td>0.160886</td>\n",
       "      <td>0.811610</td>\n",
       "      <td>0.147066</td>\n",
       "      <td>0.829664</td>\n",
       "      <td>...</td>\n",
       "      <td>0.124901</td>\n",
       "      <td>0.160249</td>\n",
       "      <td>0.854006</td>\n",
       "      <td>0.693120</td>\n",
       "      <td>0.064611</td>\n",
       "      <td>0.131291</td>\n",
       "      <td>0.863389</td>\n",
       "      <td>0.716322</td>\n",
       "      <td>20540.0</td>\n",
       "      <td>69170.0</td>\n",
       "    </tr>\n",
       "  </tbody>\n",
       "</table>\n",
       "<p>4 rows × 50 columns</p>\n",
       "</div>"
      ],
      "text/plain": [
       "  run_no                       universe_id  \\\n",
       "0     14  710854622547fb429f0a0f4a753e5802   \n",
       "0     14  710854622547fb429f0a0f4a753e5802   \n",
       "0     14  710854622547fb429f0a0f4a753e5802   \n",
       "0     14  710854622547fb429f0a0f4a753e5802   \n",
       "\n",
       "                                   universe_settings  execution_time  \\\n",
       "0  {\"cutoff\": \"quantile_0.1\", \"eval_fairness_grou...       34.161891   \n",
       "0  {\"cutoff\": \"quantile_0.1\", \"eval_fairness_grou...       34.161891   \n",
       "0  {\"cutoff\": \"quantile_0.25\", \"eval_fairness_gro...       34.161891   \n",
       "0  {\"cutoff\": \"quantile_0.25\", \"eval_fairness_gro...       34.161891   \n",
       "\n",
       "   test_size_n  test_size_frac  fair_main_equalized_odds_difference  \\\n",
       "0        89710             1.0                             0.079571   \n",
       "0        89710             1.0                             0.079571   \n",
       "0        89710             1.0                             0.160886   \n",
       "0        89710             1.0                             0.160886   \n",
       "\n",
       "   fair_main_equalized_odds_ratio  fair_main_demographic_parity_difference  \\\n",
       "0                        0.916438                                 0.072803   \n",
       "0                        0.916438                                 0.072803   \n",
       "0                        0.811610                                 0.147066   \n",
       "0                        0.811610                                 0.147066   \n",
       "\n",
       "   fair_main_demographic_parity_ratio  ...  perf_grp_precision_0  \\\n",
       "0                            0.923856  ...                   NaN   \n",
       "0                            0.923856  ...              0.118896   \n",
       "0                            0.829664  ...                   NaN   \n",
       "0                            0.829664  ...              0.124901   \n",
       "\n",
       "   perf_grp_precision_1  perf_grp_false positive rate_0  \\\n",
       "0                   NaN                             NaN   \n",
       "0              0.142619                        0.952234   \n",
       "0                   NaN                             NaN   \n",
       "0              0.160249                        0.854006   \n",
       "\n",
       "   perf_grp_false positive rate_1  perf_grp_false negative rate_0  \\\n",
       "0                             NaN                             NaN   \n",
       "0                        0.872664                        0.013936   \n",
       "0                             NaN                             NaN   \n",
       "0                        0.693120                        0.064611   \n",
       "\n",
       "   perf_grp_false negative rate_1  perf_grp_selection rate_0  \\\n",
       "0                             NaN                        NaN   \n",
       "0                        0.046608                   0.956134   \n",
       "0                             NaN                        NaN   \n",
       "0                        0.131291                   0.863389   \n",
       "\n",
       "   perf_grp_selection rate_1  perf_grp_count_0  perf_grp_count_1  \n",
       "0                        NaN               NaN               NaN  \n",
       "0                   0.883331           20540.0           69170.0  \n",
       "0                        NaN               NaN               NaN  \n",
       "0                   0.716322           20540.0           69170.0  \n",
       "\n",
       "[4 rows x 50 columns]"
      ]
     },
     "execution_count": 79,
     "metadata": {},
     "output_type": "execute_result"
    }
   ],
   "source": [
    "final_output = universe_analysis.generate_final_output(\n",
    "    y_pred_prob=probs_test,\n",
    "    y_test=y_true,\n",
    "    org_test=org_test,\n",
    "    filter_data=filter_sub_universe_data,\n",
    "    cp_metrics_df=cp_metrics_df,\n",
    "    save=True,\n",
    ")\n",
    "final_output"
   ]
  },
  {
   "cell_type": "code",
   "execution_count": null,
   "id": "721ff514-cb11-46f8-b6fc-50392f74b5cb",
   "metadata": {
    "papermill": {
     "duration": 0.030589,
     "end_time": "2025-07-30T21:38:14.307778",
     "exception": false,
     "start_time": "2025-07-30T21:38:14.277189",
     "status": "completed"
    },
    "tags": []
   },
   "outputs": [],
   "source": []
  }
 ],
 "metadata": {
  "celltoolbar": "Tags",
  "kernelspec": {
   "display_name": "Python (CMA Fairness)",
   "language": "python",
   "name": "cma_fair_env"
  },
  "language_info": {
   "codemirror_mode": {
    "name": "ipython",
    "version": 3
   },
   "file_extension": ".py",
   "mimetype": "text/x-python",
   "name": "python",
   "nbconvert_exporter": "python",
   "pygments_lexer": "ipython3",
   "version": "3.10.12"
  },
  "papermill": {
   "default_parameters": {},
   "duration": 48.965716,
   "end_time": "2025-07-30T21:38:15.161831",
   "environment_variables": {},
   "exception": null,
   "input_path": "universe_analysis.ipynb",
   "output_path": "output/runs/14/notebooks/m_14-710854622547fb429f0a0f4a753e5802.ipynb",
   "parameters": {
    "output_dir": "output",
    "run_no": "14",
    "seed": "2023",
    "universe": "{\"cutoff\": [\"quantile_0.1\", \"quantile_0.25\"], \"eval_fairness_grouping\": [\"majority-minority\", \"nationality-all\"], \"exclude_features\": \"nationality-sex\", \"exclude_subgroups\": \"keep-all\", \"model\": \"elasticnet\", \"scale\": \"scale\", \"training_size\": \"1k\", \"training_year\": \"2012_14\"}",
    "universe_id": "710854622547fb429f0a0f4a753e5802"
   },
   "start_time": "2025-07-30T21:37:26.196115",
   "version": "2.6.0"
  }
 },
 "nbformat": 4,
 "nbformat_minor": 5
}