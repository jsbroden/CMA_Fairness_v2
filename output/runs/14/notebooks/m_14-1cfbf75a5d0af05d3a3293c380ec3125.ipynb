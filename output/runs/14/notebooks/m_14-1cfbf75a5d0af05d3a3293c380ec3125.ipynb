{
 "cells": [
  {
   "cell_type": "code",
   "execution_count": 1,
   "id": "f159f837-637b-42ba-96b5-ec9a68c44524",
   "metadata": {
    "execution": {
     "iopub.execute_input": "2025-07-30T20:54:35.805883Z",
     "iopub.status.busy": "2025-07-30T20:54:35.805332Z",
     "iopub.status.idle": "2025-07-30T20:54:35.818291Z",
     "shell.execute_reply": "2025-07-30T20:54:35.817442Z"
    },
    "papermill": {
     "duration": 0.035043,
     "end_time": "2025-07-30T20:54:35.819732",
     "exception": false,
     "start_time": "2025-07-30T20:54:35.784689",
     "status": "completed"
    },
    "tags": []
   },
   "outputs": [
    {
     "name": "stdout",
     "output_type": "stream",
     "text": [
      "/dss/dsshome1/0C/ra93lal2/cma/CMA_Fairness_v2\n"
     ]
    },
    {
     "name": "stderr",
     "output_type": "stream",
     "text": [
      "/dss/dsshome1/0C/ra93lal2/.local/share/virtualenvs/CMA_Fairness_v2-3j10GkSs/lib/python3.10/site-packages/IPython/core/magics/osm.py:393: UserWarning: This is now an optional IPython functionality, using bookmarks requires you to install the `pickleshare` library.\n",
      "  bkms = self.shell.db.get('bookmarks', {})\n",
      "/dss/dsshome1/0C/ra93lal2/.local/share/virtualenvs/CMA_Fairness_v2-3j10GkSs/lib/python3.10/site-packages/IPython/core/magics/osm.py:417: UserWarning: This is now an optional IPython functionality, setting dhist requires you to install the `pickleshare` library.\n",
      "  self.shell.db['dhist'] = compress_dhist(dhist)[-100:]\n"
     ]
    }
   ],
   "source": [
    "%cd ~/cma/CMA_Fairness_v2"
   ]
  },
  {
   "cell_type": "markdown",
   "id": "de2603b9",
   "metadata": {
    "papermill": {
     "duration": 0.018003,
     "end_time": "2025-07-30T20:54:35.856700",
     "exception": false,
     "start_time": "2025-07-30T20:54:35.838697",
     "status": "completed"
    },
    "tags": []
   },
   "source": [
    "The following cell holds the definition of our parameters, these values can be overriden by rendering the with e.g. the following command:\n",
    "\n",
    "papermill -p alpha 0.2 -p ratio 0.3 universe_analysis.ipynb output/test_run.ipynb"
   ]
  },
  {
   "cell_type": "code",
   "execution_count": 2,
   "id": "a80968a0-40bb-4fa9-85ef-2d5eefb01975",
   "metadata": {
    "execution": {
     "iopub.execute_input": "2025-07-30T20:54:35.893955Z",
     "iopub.status.busy": "2025-07-30T20:54:35.893492Z",
     "iopub.status.idle": "2025-07-30T20:54:35.898915Z",
     "shell.execute_reply": "2025-07-30T20:54:35.898003Z"
    },
    "papermill": {
     "duration": 0.026794,
     "end_time": "2025-07-30T20:54:35.901105",
     "exception": false,
     "start_time": "2025-07-30T20:54:35.874311",
     "status": "completed"
    },
    "tags": []
   },
   "outputs": [
    {
     "name": "stdout",
     "output_type": "stream",
     "text": [
      "Current working directory: /dss/dsshome1/0C/ra93lal2/cma/CMA_Fairness_v2\n"
     ]
    }
   ],
   "source": [
    "import os\n",
    "print(\"Current working directory:\", os.getcwd())"
   ]
  },
  {
   "cell_type": "code",
   "execution_count": 3,
   "id": "2dce4c03",
   "metadata": {
    "execution": {
     "iopub.execute_input": "2025-07-30T20:54:35.940741Z",
     "iopub.status.busy": "2025-07-30T20:54:35.940282Z",
     "iopub.status.idle": "2025-07-30T20:54:35.946247Z",
     "shell.execute_reply": "2025-07-30T20:54:35.945405Z"
    },
    "papermill": {
     "duration": 0.027285,
     "end_time": "2025-07-30T20:54:35.947977",
     "exception": false,
     "start_time": "2025-07-30T20:54:35.920692",
     "status": "completed"
    },
    "tags": [
     "parameters"
    ]
   },
   "outputs": [],
   "source": [
    "run_no = 0\n",
    "universe_id = \"test\"\n",
    "universe = {\n",
    "    \"training_size\": \"25k\", # \"25k\", \"5k\", \"1k\"\n",
    "    \"training_year\": \"2014\", # \"2014\", \"2012_14\", \"2010_14\"\n",
    "    \"scale\": \"scale\", # \"scale\", \"do-not-scale\",\n",
    "    #\"stratify_split\": \"target\", # \"none\", \"target\", \"protected-attribute\", \"both\",\n",
    "    \"model\": \"elasticnet\", # \"logreg\", \"penalized_logreg\", \"rf\", \"gbm\", \"elasticnet\"\n",
    "    \"cutoff\": [\"quantile_0.15\", \"quantile_0.30\"],\n",
    "    \"exclude_features\": \"age\", # \"none\", \"nationality\", \"sex\", \"nationality-sex\", \"age\"\n",
    "    \"exclude_subgroups\": \"keep-all\", # \"keep-all\", \"drop-non-german\"\n",
    "    \"eval_fairness_grouping\": [\"majority-minority\", \"nationality-all\"]\n",
    "}\n",
    "\n",
    "output_dir=\"./output\"\n",
    "seed=0"
   ]
  },
  {
   "cell_type": "code",
   "execution_count": 4,
   "id": "90793123",
   "metadata": {
    "execution": {
     "iopub.execute_input": "2025-07-30T20:54:35.987181Z",
     "iopub.status.busy": "2025-07-30T20:54:35.986300Z",
     "iopub.status.idle": "2025-07-30T20:54:35.991604Z",
     "shell.execute_reply": "2025-07-30T20:54:35.990681Z"
    },
    "papermill": {
     "duration": 0.026583,
     "end_time": "2025-07-30T20:54:35.993162",
     "exception": false,
     "start_time": "2025-07-30T20:54:35.966579",
     "status": "completed"
    },
    "tags": [
     "injected-parameters"
    ]
   },
   "outputs": [],
   "source": [
    "# Parameters\n",
    "universe_id = \"1cfbf75a5d0af05d3a3293c380ec3125\"\n",
    "run_no = \"14\"\n",
    "universe = \"{\\\"cutoff\\\": [\\\"quantile_0.1\\\", \\\"quantile_0.25\\\"], \\\"eval_fairness_grouping\\\": [\\\"majority-minority\\\", \\\"nationality-all\\\"], \\\"exclude_features\\\": \\\"none\\\", \\\"exclude_subgroups\\\": \\\"drop-non-german\\\", \\\"model\\\": \\\"elasticnet\\\", \\\"scale\\\": \\\"do-not-scale\\\", \\\"training_size\\\": \\\"5k\\\", \\\"training_year\\\": \\\"2014\\\"}\"\n",
    "output_dir = \"output\"\n",
    "seed = \"2023\"\n"
   ]
  },
  {
   "cell_type": "code",
   "execution_count": 5,
   "id": "1650acaf",
   "metadata": {
    "execution": {
     "iopub.execute_input": "2025-07-30T20:54:36.032780Z",
     "iopub.status.busy": "2025-07-30T20:54:36.032315Z",
     "iopub.status.idle": "2025-07-30T20:54:36.037416Z",
     "shell.execute_reply": "2025-07-30T20:54:36.036429Z"
    },
    "papermill": {
     "duration": 0.026356,
     "end_time": "2025-07-30T20:54:36.039307",
     "exception": false,
     "start_time": "2025-07-30T20:54:36.012951",
     "status": "completed"
    },
    "tags": []
   },
   "outputs": [],
   "source": [
    "import json\n",
    "# Parse universe into dict if it is passed as a string\n",
    "if isinstance(universe, str):\n",
    "    universe = json.loads(universe)"
   ]
  },
  {
   "cell_type": "code",
   "execution_count": 6,
   "id": "16620c48",
   "metadata": {
    "execution": {
     "iopub.execute_input": "2025-07-30T20:54:36.083690Z",
     "iopub.status.busy": "2025-07-30T20:54:36.083273Z",
     "iopub.status.idle": "2025-07-30T20:54:36.126147Z",
     "shell.execute_reply": "2025-07-30T20:54:36.125039Z"
    },
    "papermill": {
     "duration": 0.067593,
     "end_time": "2025-07-30T20:54:36.128443",
     "exception": false,
     "start_time": "2025-07-30T20:54:36.060850",
     "status": "completed"
    },
    "tags": []
   },
   "outputs": [],
   "source": [
    "# Auto-reload the custom package\n",
    "%load_ext autoreload\n",
    "%autoreload 1\n",
    "%aimport fairness_multiverse"
   ]
  },
  {
   "cell_type": "code",
   "execution_count": 7,
   "id": "01c5c9f3",
   "metadata": {
    "execution": {
     "iopub.execute_input": "2025-07-30T20:54:36.172678Z",
     "iopub.status.busy": "2025-07-30T20:54:36.172211Z",
     "iopub.status.idle": "2025-07-30T20:54:38.092287Z",
     "shell.execute_reply": "2025-07-30T20:54:38.091252Z"
    },
    "papermill": {
     "duration": 1.941678,
     "end_time": "2025-07-30T20:54:38.094245",
     "exception": false,
     "start_time": "2025-07-30T20:54:36.152567",
     "status": "completed"
    },
    "tags": []
   },
   "outputs": [],
   "source": [
    "from fairness_multiverse.universe import UniverseAnalysis\n",
    "\n",
    "universe_analysis = UniverseAnalysis(\n",
    "    run_no = run_no,\n",
    "    universe_id = universe_id,\n",
    "    universe = universe,\n",
    "    output_dir=output_dir,\n",
    ")"
   ]
  },
  {
   "cell_type": "code",
   "execution_count": 8,
   "id": "106241f5",
   "metadata": {
    "execution": {
     "iopub.execute_input": "2025-07-30T20:54:38.134877Z",
     "iopub.status.busy": "2025-07-30T20:54:38.134492Z",
     "iopub.status.idle": "2025-07-30T20:54:38.140235Z",
     "shell.execute_reply": "2025-07-30T20:54:38.139376Z"
    },
    "papermill": {
     "duration": 0.028746,
     "end_time": "2025-07-30T20:54:38.142128",
     "exception": false,
     "start_time": "2025-07-30T20:54:38.113382",
     "status": "completed"
    },
    "tags": []
   },
   "outputs": [
    {
     "name": "stdout",
     "output_type": "stream",
     "text": [
      "Using Seed: 2023\n"
     ]
    }
   ],
   "source": [
    "import numpy as np\n",
    "parsed_seed = int(seed)\n",
    "np.random.seed(parsed_seed)\n",
    "print(f\"Using Seed: {parsed_seed}\")"
   ]
  },
  {
   "cell_type": "markdown",
   "id": "e0ebdc57",
   "metadata": {
    "papermill": {
     "duration": 0.01937,
     "end_time": "2025-07-30T20:54:38.183043",
     "exception": false,
     "start_time": "2025-07-30T20:54:38.163673",
     "status": "completed"
    },
    "tags": []
   },
   "source": [
    "# Loading Data"
   ]
  },
  {
   "cell_type": "markdown",
   "id": "681925a3",
   "metadata": {
    "papermill": {
     "duration": 0.019962,
     "end_time": "2025-07-30T20:54:38.222007",
     "exception": false,
     "start_time": "2025-07-30T20:54:38.202045",
     "status": "completed"
    },
    "tags": []
   },
   "source": [
    "Load siab_train, siab_test, siab_calib and/or \n",
    "load siab_train_features, siab_train_labels"
   ]
  },
  {
   "cell_type": "code",
   "execution_count": 9,
   "id": "f0496b8a",
   "metadata": {
    "execution": {
     "iopub.execute_input": "2025-07-30T20:54:38.263490Z",
     "iopub.status.busy": "2025-07-30T20:54:38.262972Z",
     "iopub.status.idle": "2025-07-30T20:54:48.733482Z",
     "shell.execute_reply": "2025-07-30T20:54:48.732615Z"
    },
    "papermill": {
     "duration": 10.493153,
     "end_time": "2025-07-30T20:54:48.734809",
     "exception": false,
     "start_time": "2025-07-30T20:54:38.241656",
     "status": "completed"
    },
    "tags": []
   },
   "outputs": [
    {
     "name": "stdout",
     "output_type": "stream",
     "text": [
      "Loading SIAB data from cache: data/siab_cached.csv.gz\n"
     ]
    },
    {
     "name": "stdout",
     "output_type": "stream",
     "text": [
      "(643690, 164)\n"
     ]
    }
   ],
   "source": [
    "from pathlib import Path\n",
    "import pandas as pd\n",
    "\n",
    "# File paths\n",
    "raw_file = Path(\"data/raw/siab.csv\")\n",
    "cache_file = Path(\"data/siab_cached.csv.gz\")\n",
    "\n",
    "# Ensure cache directory exists\n",
    "cache_file.parent.mkdir(parents=True, exist_ok=True)\n",
    "\n",
    "# Load with simple caching\n",
    "if cache_file.exists():\n",
    "    print(f\"Loading SIAB data from cache: {cache_file}\")\n",
    "    siab = pd.read_csv(cache_file, compression='gzip')\n",
    "else:\n",
    "    print(f\"Cache not found. Reading raw SIAB data: {raw_file}\")\n",
    "    siab = pd.read_csv(raw_file)\n",
    "    siab.to_csv(cache_file, index=False, compression='gzip')\n",
    "    print(f\"Cached SIAB data to: {cache_file}\")\n",
    "\n",
    "# Now use `siab` DataFrame as needed\n",
    "print(siab.shape)"
   ]
  },
  {
   "cell_type": "code",
   "execution_count": 10,
   "id": "db0ca512-5f53-4dba-abdb-a2888bca41ba",
   "metadata": {
    "execution": {
     "iopub.execute_input": "2025-07-30T20:54:48.774087Z",
     "iopub.status.busy": "2025-07-30T20:54:48.773228Z",
     "iopub.status.idle": "2025-07-30T20:54:48.777955Z",
     "shell.execute_reply": "2025-07-30T20:54:48.777234Z"
    },
    "papermill": {
     "duration": 0.03077,
     "end_time": "2025-07-30T20:54:48.779109",
     "exception": false,
     "start_time": "2025-07-30T20:54:48.748339",
     "status": "completed"
    },
    "tags": []
   },
   "outputs": [],
   "source": [
    "#siab"
   ]
  },
  {
   "cell_type": "code",
   "execution_count": 11,
   "id": "a0edb063",
   "metadata": {
    "execution": {
     "iopub.execute_input": "2025-07-30T20:54:48.802078Z",
     "iopub.status.busy": "2025-07-30T20:54:48.801581Z",
     "iopub.status.idle": "2025-07-30T20:54:48.806131Z",
     "shell.execute_reply": "2025-07-30T20:54:48.805364Z"
    },
    "papermill": {
     "duration": 0.01721,
     "end_time": "2025-07-30T20:54:48.807485",
     "exception": false,
     "start_time": "2025-07-30T20:54:48.790275",
     "status": "completed"
    },
    "tags": []
   },
   "outputs": [],
   "source": [
    "#import pandas as pd\n",
    "#\n",
    "#X_train = pd.read_csv(\"./data/X_train.csv\")\n",
    "#y_train = pd.read_csv(\"./data/y_train.csv\")"
   ]
  },
  {
   "cell_type": "code",
   "execution_count": 12,
   "id": "63d08085",
   "metadata": {
    "execution": {
     "iopub.execute_input": "2025-07-30T20:54:48.835974Z",
     "iopub.status.busy": "2025-07-30T20:54:48.835476Z",
     "iopub.status.idle": "2025-07-30T20:54:48.839961Z",
     "shell.execute_reply": "2025-07-30T20:54:48.839221Z"
    },
    "papermill": {
     "duration": 0.018535,
     "end_time": "2025-07-30T20:54:48.841242",
     "exception": false,
     "start_time": "2025-07-30T20:54:48.822707",
     "status": "completed"
    },
    "tags": []
   },
   "outputs": [],
   "source": [
    "#X_test = pd.read_csv(\"./data/X_test.csv\")\n",
    "#y_true = pd.read_csv(\"./data/y_test.csv\")"
   ]
  },
  {
   "cell_type": "code",
   "execution_count": 13,
   "id": "98a8d0fa-1d3d-4ed8-bb2c-281470e24add",
   "metadata": {
    "execution": {
     "iopub.execute_input": "2025-07-30T20:54:48.864777Z",
     "iopub.status.busy": "2025-07-30T20:54:48.863905Z",
     "iopub.status.idle": "2025-07-30T20:54:48.868267Z",
     "shell.execute_reply": "2025-07-30T20:54:48.867562Z"
    },
    "papermill": {
     "duration": 0.016965,
     "end_time": "2025-07-30T20:54:48.869503",
     "exception": false,
     "start_time": "2025-07-30T20:54:48.852538",
     "status": "completed"
    },
    "tags": []
   },
   "outputs": [],
   "source": [
    "# Calibration data for conformal\n",
    "#X_calib = pd.read_csv(\"./data/X_calib.csv\")\n",
    "#y_calib = pd.read_csv(\"./data/y_calib.csv\")"
   ]
  },
  {
   "cell_type": "markdown",
   "id": "997051c5-15bd-4b69-9786-c3001a3ce484",
   "metadata": {
    "papermill": {
     "duration": 0.01029,
     "end_time": "2025-07-30T20:54:48.891066",
     "exception": false,
     "start_time": "2025-07-30T20:54:48.880776",
     "status": "completed"
    },
    "tags": []
   },
   "source": [
    "# Splitting Data and Setting Training Data Size"
   ]
  },
  {
   "cell_type": "code",
   "execution_count": 14,
   "id": "e993b61f-042d-41a6-8c81-f55681f86335",
   "metadata": {
    "execution": {
     "iopub.execute_input": "2025-07-30T20:54:48.913483Z",
     "iopub.status.busy": "2025-07-30T20:54:48.912961Z",
     "iopub.status.idle": "2025-07-30T20:54:48.922492Z",
     "shell.execute_reply": "2025-07-30T20:54:48.921736Z"
    },
    "papermill": {
     "duration": 0.022317,
     "end_time": "2025-07-30T20:54:48.923823",
     "exception": false,
     "start_time": "2025-07-30T20:54:48.901506",
     "status": "completed"
    },
    "tags": []
   },
   "outputs": [],
   "source": [
    "def sample_by_year_size(df,\n",
    "                        training_year: str,\n",
    "                        training_size: str,\n",
    "                        random_state: int = 42):\n",
    "    # --- parse training_year into a list of int years ---\n",
    "    if \"_\" in training_year:\n",
    "        start_str, end_str = training_year.split(\"_\", 1)\n",
    "        start = int(start_str)\n",
    "        end   = int(end_str) if len(end_str) == 4 else (int(end_str) + (start // 100)*100)\n",
    "        years = list(range(start, end + 1))\n",
    "    else:\n",
    "        years = [int(training_year)]\n",
    "\n",
    "    df = df[df[\"year\"].isin(years)].reset_index(drop=True)\n",
    "\n",
    "    # --- map training_size to total number of samples ---\n",
    "    total_map = {\"25k\": 25_000, \"5k\": 5_000, \"1k\": 1_000}\n",
    "    if training_size not in total_map:\n",
    "        return df  # e.g. \"all\"\n",
    "\n",
    "    total_samples = total_map[training_size]\n",
    "    n_years       = len(years)\n",
    "    base          = total_samples // n_years\n",
    "    remainder     = total_samples % n_years\n",
    "\n",
    "    # --- build a dict: year -> how many to sample ---\n",
    "    # give +1 to the first `remainder` years in ascending order\n",
    "    quotas = {\n",
    "        year: base + (1 if idx < remainder else 0)\n",
    "        for idx, year in enumerate(sorted(years))\n",
    "    }\n",
    "\n",
    "    # --- sample per‐year according to the quota dict ---\n",
    "    sampled = (\n",
    "        df\n",
    "        .groupby(\"year\", group_keys=False)\n",
    "        .apply(lambda grp: grp.sample(\n",
    "            n=min(len(grp), quotas[grp.name]),\n",
    "            random_state=random_state))\n",
    "        .reset_index(drop=True)\n",
    "    )\n",
    "\n",
    "    return sampled"
   ]
  },
  {
   "cell_type": "code",
   "execution_count": 15,
   "id": "c0ccd338-0e02-41f3-a09d-f56f9266e3fb",
   "metadata": {
    "execution": {
     "iopub.execute_input": "2025-07-30T20:54:48.948127Z",
     "iopub.status.busy": "2025-07-30T20:54:48.947796Z",
     "iopub.status.idle": "2025-07-30T20:54:48.953044Z",
     "shell.execute_reply": "2025-07-30T20:54:48.952344Z"
    },
    "papermill": {
     "duration": 0.019026,
     "end_time": "2025-07-30T20:54:48.954412",
     "exception": false,
     "start_time": "2025-07-30T20:54:48.935386",
     "status": "completed"
    },
    "tags": []
   },
   "outputs": [],
   "source": [
    "#universe[\"training_size\"]"
   ]
  },
  {
   "cell_type": "code",
   "execution_count": 16,
   "id": "ca707fd7-8047-4acd-bfa5-66248fbbf8e6",
   "metadata": {
    "execution": {
     "iopub.execute_input": "2025-07-30T20:54:49.002245Z",
     "iopub.status.busy": "2025-07-30T20:54:49.001560Z",
     "iopub.status.idle": "2025-07-30T20:54:49.006293Z",
     "shell.execute_reply": "2025-07-30T20:54:49.005367Z"
    },
    "papermill": {
     "duration": 0.031098,
     "end_time": "2025-07-30T20:54:49.008617",
     "exception": false,
     "start_time": "2025-07-30T20:54:48.977519",
     "status": "completed"
    },
    "tags": []
   },
   "outputs": [],
   "source": [
    "#universe[\"training_year\"]"
   ]
  },
  {
   "cell_type": "code",
   "execution_count": 17,
   "id": "aea9c6ef-6f46-42c8-85eb-5a62025c1508",
   "metadata": {
    "execution": {
     "iopub.execute_input": "2025-07-30T20:54:49.072724Z",
     "iopub.status.busy": "2025-07-30T20:54:49.072163Z",
     "iopub.status.idle": "2025-07-30T20:54:49.282180Z",
     "shell.execute_reply": "2025-07-30T20:54:49.281433Z"
    },
    "papermill": {
     "duration": 0.245955,
     "end_time": "2025-07-30T20:54:49.284591",
     "exception": false,
     "start_time": "2025-07-30T20:54:49.038636",
     "status": "completed"
    },
    "tags": []
   },
   "outputs": [],
   "source": [
    "siab_train = sample_by_year_size(siab,\n",
    "                               training_year=universe[\"training_year\"],\n",
    "                               training_size=universe[\"training_size\"])"
   ]
  },
  {
   "cell_type": "code",
   "execution_count": 18,
   "id": "8d3afb32-789d-442c-8d5d-9f5aa8dd2eed",
   "metadata": {
    "execution": {
     "iopub.execute_input": "2025-07-30T20:54:49.359343Z",
     "iopub.status.busy": "2025-07-30T20:54:49.358877Z",
     "iopub.status.idle": "2025-07-30T20:54:49.364839Z",
     "shell.execute_reply": "2025-07-30T20:54:49.363811Z"
    },
    "papermill": {
     "duration": 0.041303,
     "end_time": "2025-07-30T20:54:49.367407",
     "exception": false,
     "start_time": "2025-07-30T20:54:49.326104",
     "status": "completed"
    },
    "tags": []
   },
   "outputs": [],
   "source": [
    "#siab_train.shape"
   ]
  },
  {
   "cell_type": "code",
   "execution_count": 19,
   "id": "d582db68-1a4c-47fb-84fc-08518dc1975a",
   "metadata": {
    "execution": {
     "iopub.execute_input": "2025-07-30T20:54:49.432235Z",
     "iopub.status.busy": "2025-07-30T20:54:49.431707Z",
     "iopub.status.idle": "2025-07-30T20:54:49.436748Z",
     "shell.execute_reply": "2025-07-30T20:54:49.435843Z"
    },
    "papermill": {
     "duration": 0.038901,
     "end_time": "2025-07-30T20:54:49.438337",
     "exception": false,
     "start_time": "2025-07-30T20:54:49.399436",
     "status": "completed"
    },
    "tags": []
   },
   "outputs": [],
   "source": [
    "#display(siab_train.groupby(\"year\").size())"
   ]
  },
  {
   "cell_type": "code",
   "execution_count": 20,
   "id": "a561edb4-d032-42cb-8256-22eac1111c64",
   "metadata": {
    "execution": {
     "iopub.execute_input": "2025-07-30T20:54:49.476316Z",
     "iopub.status.busy": "2025-07-30T20:54:49.475814Z",
     "iopub.status.idle": "2025-07-30T20:54:49.722565Z",
     "shell.execute_reply": "2025-07-30T20:54:49.721600Z"
    },
    "papermill": {
     "duration": 0.264615,
     "end_time": "2025-07-30T20:54:49.724687",
     "exception": false,
     "start_time": "2025-07-30T20:54:49.460072",
     "status": "completed"
    },
    "tags": []
   },
   "outputs": [],
   "source": [
    "#siab_train = siab_s[siab_s.year < 2015]\n",
    "siab_calib = siab[siab.year == 2015]\n",
    "siab_test = siab[siab.year == 2016]"
   ]
  },
  {
   "cell_type": "code",
   "execution_count": 21,
   "id": "472de16f-c3db-4916-846b-1f0de9cf1746",
   "metadata": {
    "execution": {
     "iopub.execute_input": "2025-07-30T20:54:49.768835Z",
     "iopub.status.busy": "2025-07-30T20:54:49.768355Z",
     "iopub.status.idle": "2025-07-30T20:54:49.776844Z",
     "shell.execute_reply": "2025-07-30T20:54:49.775853Z"
    },
    "papermill": {
     "duration": 0.034642,
     "end_time": "2025-07-30T20:54:49.778397",
     "exception": false,
     "start_time": "2025-07-30T20:54:49.743755",
     "status": "completed"
    },
    "tags": []
   },
   "outputs": [],
   "source": [
    "X_train = siab_train.iloc[:,4:164]\n",
    "y_train = siab_train.iloc[:, [3]]"
   ]
  },
  {
   "cell_type": "code",
   "execution_count": 22,
   "id": "828c96af-f43a-4ed6-ba47-8ac73a47d56c",
   "metadata": {
    "execution": {
     "iopub.execute_input": "2025-07-30T20:54:49.822269Z",
     "iopub.status.busy": "2025-07-30T20:54:49.821527Z",
     "iopub.status.idle": "2025-07-30T20:54:49.873037Z",
     "shell.execute_reply": "2025-07-30T20:54:49.871981Z"
    },
    "papermill": {
     "duration": 0.075978,
     "end_time": "2025-07-30T20:54:49.874275",
     "exception": false,
     "start_time": "2025-07-30T20:54:49.798297",
     "status": "completed"
    },
    "tags": []
   },
   "outputs": [],
   "source": [
    "X_calib = siab_calib.iloc[:,4:164]\n",
    "y_calib = siab_calib.iloc[:, [3]]"
   ]
  },
  {
   "cell_type": "code",
   "execution_count": 23,
   "id": "c34be9c3-6bd6-476e-acd3-845840e303be",
   "metadata": {
    "execution": {
     "iopub.execute_input": "2025-07-30T20:54:49.898996Z",
     "iopub.status.busy": "2025-07-30T20:54:49.898643Z",
     "iopub.status.idle": "2025-07-30T20:54:49.951397Z",
     "shell.execute_reply": "2025-07-30T20:54:49.950506Z"
    },
    "papermill": {
     "duration": 0.066275,
     "end_time": "2025-07-30T20:54:49.952702",
     "exception": false,
     "start_time": "2025-07-30T20:54:49.886427",
     "status": "completed"
    },
    "tags": []
   },
   "outputs": [],
   "source": [
    "X_test = siab_test.iloc[:,4:164]\n",
    "y_true = siab_test.iloc[:, [3]]"
   ]
  },
  {
   "cell_type": "markdown",
   "id": "9901737e-04df-44f0-9100-f5ad144ed040",
   "metadata": {
    "papermill": {
     "duration": 0.011654,
     "end_time": "2025-07-30T20:54:49.976453",
     "exception": false,
     "start_time": "2025-07-30T20:54:49.964799",
     "status": "completed"
    },
    "tags": []
   },
   "source": [
    "# Splitting Data and Setting Training Data Size OLD VERSION"
   ]
  },
  {
   "cell_type": "code",
   "execution_count": 24,
   "id": "acbc8f7d-8fc8-4e86-8c59-5dcb0f58384b",
   "metadata": {
    "execution": {
     "iopub.execute_input": "2025-07-30T20:54:50.017845Z",
     "iopub.status.busy": "2025-07-30T20:54:50.017330Z",
     "iopub.status.idle": "2025-07-30T20:54:50.024169Z",
     "shell.execute_reply": "2025-07-30T20:54:50.023061Z"
    },
    "papermill": {
     "duration": 0.032158,
     "end_time": "2025-07-30T20:54:50.026181",
     "exception": false,
     "start_time": "2025-07-30T20:54:49.994023",
     "status": "completed"
    },
    "tags": []
   },
   "outputs": [],
   "source": [
    "#def sample_by_year(df, training_size, random_state=42):\n",
    "#    if training_size == \"2014\":\n",
    "#        return df[df[\"year\"] == 2014].reset_index(drop=True)\n",
    "#    \n",
    "#    size_map = {\n",
    "#        \"25k\": 5000,\n",
    "#        \"5k\": 1000,\n",
    "#        \"1k\": 200\n",
    "#    }\n",
    "#\n",
    "#    if training_size not in size_map:\n",
    "#        return df.reset_index(drop=True)  # use all data\n",
    "#\n",
    "#    n_per_year = size_map[training_size]\n",
    "#    grouped = df.groupby(\"year\")\n",
    "#    sampled = grouped.apply(lambda x: x.sample(n=min(n_per_year, len(x)), random_state=random_state))\n",
    "#    return sampled.reset_index(drop=True)"
   ]
  },
  {
   "cell_type": "code",
   "execution_count": 25,
   "id": "6d931f52-beaf-43ff-9e78-9d44a448d54e",
   "metadata": {
    "execution": {
     "iopub.execute_input": "2025-07-30T20:54:50.072939Z",
     "iopub.status.busy": "2025-07-30T20:54:50.072261Z",
     "iopub.status.idle": "2025-07-30T20:54:50.077476Z",
     "shell.execute_reply": "2025-07-30T20:54:50.076547Z"
    },
    "papermill": {
     "duration": 0.030343,
     "end_time": "2025-07-30T20:54:50.079228",
     "exception": false,
     "start_time": "2025-07-30T20:54:50.048885",
     "status": "completed"
    },
    "tags": []
   },
   "outputs": [],
   "source": [
    "#siab_s = sample_by_year(siab, universe[\"training_size\"])"
   ]
  },
  {
   "cell_type": "code",
   "execution_count": 26,
   "id": "5db0a40e-a4e2-4920-be85-b12ae061d70d",
   "metadata": {
    "execution": {
     "iopub.execute_input": "2025-07-30T20:54:50.114231Z",
     "iopub.status.busy": "2025-07-30T20:54:50.113881Z",
     "iopub.status.idle": "2025-07-30T20:54:50.118407Z",
     "shell.execute_reply": "2025-07-30T20:54:50.117691Z"
    },
    "papermill": {
     "duration": 0.018084,
     "end_time": "2025-07-30T20:54:50.119606",
     "exception": false,
     "start_time": "2025-07-30T20:54:50.101522",
     "status": "completed"
    },
    "tags": []
   },
   "outputs": [],
   "source": [
    "#display(siab_s.groupby(\"year\").size())"
   ]
  },
  {
   "cell_type": "code",
   "execution_count": 27,
   "id": "e6c733c5",
   "metadata": {
    "execution": {
     "iopub.execute_input": "2025-07-30T20:54:50.143574Z",
     "iopub.status.busy": "2025-07-30T20:54:50.143228Z",
     "iopub.status.idle": "2025-07-30T20:54:50.242608Z",
     "shell.execute_reply": "2025-07-30T20:54:50.241566Z"
    },
    "papermill": {
     "duration": 0.112874,
     "end_time": "2025-07-30T20:54:50.244432",
     "exception": false,
     "start_time": "2025-07-30T20:54:50.131558",
     "status": "completed"
    },
    "tags": []
   },
   "outputs": [],
   "source": [
    "# Auxiliary data needed downstream in the pipeline\n",
    "\n",
    "org_train = X_train.copy()\n",
    "org_test = X_test.copy()\n",
    "org_calib = X_calib.copy()"
   ]
  },
  {
   "cell_type": "code",
   "execution_count": 28,
   "id": "1466abac-c6da-4492-a62f-4240ae3783af",
   "metadata": {
    "execution": {
     "iopub.execute_input": "2025-07-30T20:54:50.303204Z",
     "iopub.status.busy": "2025-07-30T20:54:50.302722Z",
     "iopub.status.idle": "2025-07-30T20:54:50.308967Z",
     "shell.execute_reply": "2025-07-30T20:54:50.307957Z"
    },
    "papermill": {
     "duration": 0.037878,
     "end_time": "2025-07-30T20:54:50.311029",
     "exception": false,
     "start_time": "2025-07-30T20:54:50.273151",
     "status": "completed"
    },
    "tags": []
   },
   "outputs": [],
   "source": [
    "# put in other script?\n",
    "# Group sizes\n",
    "\n",
    "#def calculate_percentages(df, df_name):\n",
    "#    total_entries = len(df)\n",
    "#\n",
    "#    female_pct = (df['frau1'] == 1).mean() * 100\n",
    "#    non_german_pct = ((df['maxdeutsch1'] == 0) & (df['maxdeutsch.Missing.'] == 0)).mean() * 100\n",
    "#    non_german_male_pct = ((df['frau1'] == 0) & (df['maxdeutsch1'] == 0) & (df['maxdeutsch.Missing.'] == 0)).mean() * 100\n",
    "#    non_german_female_pct = ((df['frau1'] == 1) & (df['maxdeutsch1'] == 0) & (df['maxdeutsch.Missing.'] == 0)).mean() * 100\n",
    "#\n",
    "#    print(f\"--- {df_name} ---\")\n",
    "#    print(f\"Female: {female_pct:.2f}%\")\n",
    "#    print(f\"Non-German: {non_german_pct:.2f}%\")\n",
    "#    print(f\"Non-German Male: {non_german_male_pct:.2f}%\")\n",
    "#    print(f\"Non-German Female: {non_german_female_pct:.2f}%\\n\")\n",
    "#\n",
    "## Calculate for each DataFrame\n",
    "#calculate_percentages(siab_calib, \"siab_calib\")\n",
    "#calculate_percentages(siab_test, \"siab_test\")\n",
    "#calculate_percentages(siab_train, \"siab_train\")"
   ]
  },
  {
   "cell_type": "markdown",
   "id": "0a4a1b33",
   "metadata": {
    "papermill": {
     "duration": 0.028434,
     "end_time": "2025-07-30T20:54:50.367164",
     "exception": false,
     "start_time": "2025-07-30T20:54:50.338730",
     "status": "completed"
    },
    "tags": []
   },
   "source": [
    "# Preprocessing Data"
   ]
  },
  {
   "cell_type": "code",
   "execution_count": 29,
   "id": "ca879031",
   "metadata": {
    "execution": {
     "iopub.execute_input": "2025-07-30T20:54:50.426042Z",
     "iopub.status.busy": "2025-07-30T20:54:50.425539Z",
     "iopub.status.idle": "2025-07-30T20:54:50.432255Z",
     "shell.execute_reply": "2025-07-30T20:54:50.431273Z"
    },
    "papermill": {
     "duration": 0.037983,
     "end_time": "2025-07-30T20:54:50.433854",
     "exception": false,
     "start_time": "2025-07-30T20:54:50.395871",
     "status": "completed"
    },
    "tags": []
   },
   "outputs": [],
   "source": [
    "# EXCLUDE PROTECTED FEATURES\n",
    "# ----------------------\n",
    "# \"exclude_features\": \"none\", # \"nationality\", \"sex\", \"nationality-sex\"\n",
    "\n",
    "excluded_features = universe[\"exclude_features\"].split(\"-\") # split, e.g.: \"nationality-sex\" -> [\"nationality\", \"sex\"]\n",
    "excluded_features_dictionary = {\n",
    "    \"nationality\": [\"maxdeutsch1\", \"maxdeutsch.Missing.\"],\n",
    "    \"sex\": [\"frau1\"],\n",
    "    \"age\": [\"age\"],\n",
    "}\n"
   ]
  },
  {
   "cell_type": "code",
   "execution_count": 30,
   "id": "b745ac60",
   "metadata": {
    "execution": {
     "iopub.execute_input": "2025-07-30T20:54:50.481831Z",
     "iopub.status.busy": "2025-07-30T20:54:50.480801Z",
     "iopub.status.idle": "2025-07-30T20:54:50.486069Z",
     "shell.execute_reply": "2025-07-30T20:54:50.485108Z"
    },
    "papermill": {
     "duration": 0.030405,
     "end_time": "2025-07-30T20:54:50.487397",
     "exception": false,
     "start_time": "2025-07-30T20:54:50.456992",
     "status": "completed"
    },
    "tags": []
   },
   "outputs": [],
   "source": [
    "# Code nice names to column names\n",
    "\n",
    "excluded_features_columns = [\n",
    "    excluded_features_dictionary[f] for f in excluded_features if len(f) > 0 and f != \"none\"\n",
    "]"
   ]
  },
  {
   "cell_type": "code",
   "execution_count": 31,
   "id": "f84f73a2",
   "metadata": {
    "execution": {
     "iopub.execute_input": "2025-07-30T20:54:50.533922Z",
     "iopub.status.busy": "2025-07-30T20:54:50.533417Z",
     "iopub.status.idle": "2025-07-30T20:54:50.539487Z",
     "shell.execute_reply": "2025-07-30T20:54:50.538801Z"
    },
    "papermill": {
     "duration": 0.031495,
     "end_time": "2025-07-30T20:54:50.540784",
     "exception": false,
     "start_time": "2025-07-30T20:54:50.509289",
     "status": "completed"
    },
    "tags": []
   },
   "outputs": [],
   "source": [
    "from utils import flatten_once\n",
    "\n",
    "excluded_features_columns = flatten_once(excluded_features_columns)"
   ]
  },
  {
   "cell_type": "code",
   "execution_count": 32,
   "id": "884dea22",
   "metadata": {
    "execution": {
     "iopub.execute_input": "2025-07-30T20:54:50.566338Z",
     "iopub.status.busy": "2025-07-30T20:54:50.565832Z",
     "iopub.status.idle": "2025-07-30T20:54:50.571033Z",
     "shell.execute_reply": "2025-07-30T20:54:50.570274Z"
    },
    "papermill": {
     "duration": 0.019357,
     "end_time": "2025-07-30T20:54:50.572438",
     "exception": false,
     "start_time": "2025-07-30T20:54:50.553081",
     "status": "completed"
    },
    "tags": []
   },
   "outputs": [],
   "source": [
    "if len(excluded_features_columns) > 0:\n",
    "    print(f\"Dropping features: {excluded_features_columns}\")\n",
    "    X_train.drop(excluded_features_columns, axis=1, inplace=True)"
   ]
  },
  {
   "cell_type": "code",
   "execution_count": 33,
   "id": "95ab8b16",
   "metadata": {
    "execution": {
     "iopub.execute_input": "2025-07-30T20:54:50.602850Z",
     "iopub.status.busy": "2025-07-30T20:54:50.602482Z",
     "iopub.status.idle": "2025-07-30T20:54:50.607397Z",
     "shell.execute_reply": "2025-07-30T20:54:50.606679Z"
    },
    "papermill": {
     "duration": 0.019202,
     "end_time": "2025-07-30T20:54:50.608603",
     "exception": false,
     "start_time": "2025-07-30T20:54:50.589401",
     "status": "completed"
    },
    "tags": []
   },
   "outputs": [],
   "source": [
    "if len(excluded_features_columns) > 0:\n",
    "    print(f\"Dropping features: {excluded_features_columns}\")\n",
    "    X_test.drop(excluded_features_columns, axis=1, inplace=True)"
   ]
  },
  {
   "cell_type": "code",
   "execution_count": 34,
   "id": "1853aaf5-fb9f-46cb-a2b5-8ea4ae2237e4",
   "metadata": {
    "execution": {
     "iopub.execute_input": "2025-07-30T20:54:50.632910Z",
     "iopub.status.busy": "2025-07-30T20:54:50.632415Z",
     "iopub.status.idle": "2025-07-30T20:54:50.638355Z",
     "shell.execute_reply": "2025-07-30T20:54:50.637141Z"
    },
    "papermill": {
     "duration": 0.020416,
     "end_time": "2025-07-30T20:54:50.640680",
     "exception": false,
     "start_time": "2025-07-30T20:54:50.620264",
     "status": "completed"
    },
    "tags": []
   },
   "outputs": [],
   "source": [
    "if len(excluded_features_columns) > 0:\n",
    "    print(f\"Dropping features: {excluded_features_columns}\")\n",
    "    X_calib.drop(excluded_features_columns, axis=1, inplace=True)"
   ]
  },
  {
   "cell_type": "code",
   "execution_count": 35,
   "id": "6727d079-03e5-481e-9d38-292a90b7a0a8",
   "metadata": {
    "execution": {
     "iopub.execute_input": "2025-07-30T20:54:50.706081Z",
     "iopub.status.busy": "2025-07-30T20:54:50.705235Z",
     "iopub.status.idle": "2025-07-30T20:54:50.710341Z",
     "shell.execute_reply": "2025-07-30T20:54:50.709346Z"
    },
    "papermill": {
     "duration": 0.037867,
     "end_time": "2025-07-30T20:54:50.712085",
     "exception": false,
     "start_time": "2025-07-30T20:54:50.674218",
     "status": "completed"
    },
    "tags": []
   },
   "outputs": [],
   "source": [
    "# SPLIT & STRATIFY DATA\n",
    "# ----------------------"
   ]
  },
  {
   "cell_type": "code",
   "execution_count": 36,
   "id": "76c4dc6d",
   "metadata": {
    "execution": {
     "iopub.execute_input": "2025-07-30T20:54:50.760840Z",
     "iopub.status.busy": "2025-07-30T20:54:50.760133Z",
     "iopub.status.idle": "2025-07-30T20:54:50.766263Z",
     "shell.execute_reply": "2025-07-30T20:54:50.765306Z"
    },
    "papermill": {
     "duration": 0.032372,
     "end_time": "2025-07-30T20:54:50.767949",
     "exception": false,
     "start_time": "2025-07-30T20:54:50.735577",
     "status": "completed"
    },
    "tags": []
   },
   "outputs": [],
   "source": [
    "# EXCLUDE CERTAIN SUBGROUPS\n",
    "# ----------------------\n",
    "\n",
    "mode = universe.get(\"exclude_subgroups\", \"keep-all\") \n",
    "# Fetches the exclude_subgroups setting from the universe dict.\n",
    "# Defaults to \"keep-all\" if the key is missing."
   ]
  },
  {
   "cell_type": "code",
   "execution_count": 37,
   "id": "21994072",
   "metadata": {
    "execution": {
     "iopub.execute_input": "2025-07-30T20:54:50.815461Z",
     "iopub.status.busy": "2025-07-30T20:54:50.814947Z",
     "iopub.status.idle": "2025-07-30T20:54:50.822597Z",
     "shell.execute_reply": "2025-07-30T20:54:50.821692Z"
    },
    "papermill": {
     "duration": 0.032862,
     "end_time": "2025-07-30T20:54:50.824190",
     "exception": false,
     "start_time": "2025-07-30T20:54:50.791328",
     "status": "completed"
    },
    "tags": []
   },
   "outputs": [],
   "source": [
    "if mode == \"keep-all\":\n",
    "    keep_mask = pd.Series(True, index=org_train.index)\n",
    "\n",
    "# org_train contains the original feature columns from features_org (in Simson)\n",
    "# features_org contains unprocessed features, for me X_train at beginning ???\n",
    "# For keep-all, creates a boolean Series (keep_mask) of all True, so no rows are removed.\n",
    "\n",
    "elif mode == \"drop-non-german\":\n",
    "    keep_mask = org_train[\"maxdeutsch1\"] == 1 # ??? what about missing values?\n",
    "\n",
    "else:\n",
    "    raise ValueError(f\"Unsupported mode for exclude_subgroups: {mode}\")\n"
   ]
  },
  {
   "cell_type": "code",
   "execution_count": 38,
   "id": "71651440",
   "metadata": {
    "execution": {
     "iopub.execute_input": "2025-07-30T20:54:50.871400Z",
     "iopub.status.busy": "2025-07-30T20:54:50.870671Z",
     "iopub.status.idle": "2025-07-30T20:54:50.880156Z",
     "shell.execute_reply": "2025-07-30T20:54:50.879071Z"
    },
    "papermill": {
     "duration": 0.034775,
     "end_time": "2025-07-30T20:54:50.881976",
     "exception": false,
     "start_time": "2025-07-30T20:54:50.847201",
     "status": "completed"
    },
    "tags": []
   },
   "outputs": [
    {
     "name": "stdout",
     "output_type": "stream",
     "text": [
      "Dropping 741 rows (14.82%) where mode='drop-non-german'\n"
     ]
    }
   ],
   "source": [
    "n_drop = (~keep_mask).sum() # Calculates how many rows are set to be dropped\n",
    "if n_drop > 0:\n",
    "    pct = n_drop / len(keep_mask) * 100\n",
    "    print(f\"Dropping {n_drop} rows ({pct:.2f}%) where mode='{mode}'\")"
   ]
  },
  {
   "cell_type": "code",
   "execution_count": 39,
   "id": "5fb8eee5",
   "metadata": {
    "execution": {
     "iopub.execute_input": "2025-07-30T20:54:50.929596Z",
     "iopub.status.busy": "2025-07-30T20:54:50.928895Z",
     "iopub.status.idle": "2025-07-30T20:54:50.939530Z",
     "shell.execute_reply": "2025-07-30T20:54:50.938316Z"
    },
    "papermill": {
     "duration": 0.036949,
     "end_time": "2025-07-30T20:54:50.941534",
     "exception": false,
     "start_time": "2025-07-30T20:54:50.904585",
     "status": "completed"
    },
    "tags": []
   },
   "outputs": [],
   "source": [
    "X_train = X_train[keep_mask]"
   ]
  },
  {
   "cell_type": "code",
   "execution_count": 40,
   "id": "b202bb3a",
   "metadata": {
    "execution": {
     "iopub.execute_input": "2025-07-30T20:54:50.988020Z",
     "iopub.status.busy": "2025-07-30T20:54:50.987612Z",
     "iopub.status.idle": "2025-07-30T20:54:50.993669Z",
     "shell.execute_reply": "2025-07-30T20:54:50.992729Z"
    },
    "papermill": {
     "duration": 0.030955,
     "end_time": "2025-07-30T20:54:50.995362",
     "exception": false,
     "start_time": "2025-07-30T20:54:50.964407",
     "status": "completed"
    },
    "tags": []
   },
   "outputs": [],
   "source": [
    "y_train = y_train[keep_mask]"
   ]
  },
  {
   "cell_type": "markdown",
   "id": "493e2ac3",
   "metadata": {
    "papermill": {
     "duration": 0.022128,
     "end_time": "2025-07-30T20:54:51.040479",
     "exception": false,
     "start_time": "2025-07-30T20:54:51.018351",
     "status": "completed"
    },
    "tags": []
   },
   "source": [
    "# Model Training"
   ]
  },
  {
   "cell_type": "code",
   "execution_count": 41,
   "id": "679e1268",
   "metadata": {
    "execution": {
     "iopub.execute_input": "2025-07-30T20:54:51.087205Z",
     "iopub.status.busy": "2025-07-30T20:54:51.086723Z",
     "iopub.status.idle": "2025-07-30T20:54:51.193650Z",
     "shell.execute_reply": "2025-07-30T20:54:51.192652Z"
    },
    "papermill": {
     "duration": 0.132671,
     "end_time": "2025-07-30T20:54:51.195702",
     "exception": false,
     "start_time": "2025-07-30T20:54:51.063031",
     "status": "completed"
    },
    "tags": []
   },
   "outputs": [],
   "source": [
    "from sklearn.linear_model import LogisticRegression\n",
    "from sklearn.ensemble import GradientBoostingClassifier, RandomForestClassifier\n",
    "\n",
    "if (universe[\"model\"] == \"logreg\"):\n",
    "    model = LogisticRegression() #penalty=\"none\") #, solver=\"newton-cg\", max_iter=1) # include random_state=19 ?\n",
    "elif (universe[\"model\"] == \"penalized_logreg\"):\n",
    "    model = LogisticRegression(penalty=\"l2\", C=1.0) #, solver=\"newton-cg\", max_iter=1)\n",
    "elif (universe[\"model\"] == \"rf\"):\n",
    "    model = RandomForestClassifier(n_estimators=100, n_jobs=-1)\n",
    "elif (universe[\"model\"] == \"gbm\"):\n",
    "    model = GradientBoostingClassifier()\n",
    "elif (universe[\"model\"] == \"elasticnet\"):\n",
    "    model = LogisticRegression(penalty = 'elasticnet', solver = 'saga', l1_ratio = 0.5, max_iter=5000) # which solver to use?\n",
    "else:\n",
    "    raise \"Unsupported universe.model\""
   ]
  },
  {
   "cell_type": "code",
   "execution_count": 42,
   "id": "0cc8f744",
   "metadata": {
    "execution": {
     "iopub.execute_input": "2025-07-30T20:54:51.245901Z",
     "iopub.status.busy": "2025-07-30T20:54:51.245170Z",
     "iopub.status.idle": "2025-07-30T20:54:51.251125Z",
     "shell.execute_reply": "2025-07-30T20:54:51.250467Z"
    },
    "papermill": {
     "duration": 0.030941,
     "end_time": "2025-07-30T20:54:51.252465",
     "exception": false,
     "start_time": "2025-07-30T20:54:51.221524",
     "status": "completed"
    },
    "tags": []
   },
   "outputs": [],
   "source": [
    "import numpy as np\n",
    "from sklearn.pipeline import Pipeline\n",
    "from sklearn.preprocessing import StandardScaler\n",
    "\n",
    "model = Pipeline([\n",
    "    #(\"continuous_processor\", continuous_processor),\n",
    "    #(\"categorical_preprocessor\", categorical_preprocessor),\n",
    "    (\"scale\", StandardScaler() if universe[\"scale\"] == \"scale\" else None), \n",
    "    (\"model\", model),\n",
    "])"
   ]
  },
  {
   "cell_type": "code",
   "execution_count": 43,
   "id": "9442c04d",
   "metadata": {
    "execution": {
     "iopub.execute_input": "2025-07-30T20:54:51.278507Z",
     "iopub.status.busy": "2025-07-30T20:54:51.278014Z",
     "iopub.status.idle": "2025-07-30T20:56:09.515727Z",
     "shell.execute_reply": "2025-07-30T20:56:09.514738Z"
    },
    "papermill": {
     "duration": 78.27537,
     "end_time": "2025-07-30T20:56:09.541110",
     "exception": false,
     "start_time": "2025-07-30T20:54:51.265740",
     "status": "completed"
    },
    "tags": []
   },
   "outputs": [
    {
     "data": {
      "text/html": [
       "<style>#sk-container-id-1 {color: black;background-color: white;}#sk-container-id-1 pre{padding: 0;}#sk-container-id-1 div.sk-toggleable {background-color: white;}#sk-container-id-1 label.sk-toggleable__label {cursor: pointer;display: block;width: 100%;margin-bottom: 0;padding: 0.3em;box-sizing: border-box;text-align: center;}#sk-container-id-1 label.sk-toggleable__label-arrow:before {content: \"▸\";float: left;margin-right: 0.25em;color: #696969;}#sk-container-id-1 label.sk-toggleable__label-arrow:hover:before {color: black;}#sk-container-id-1 div.sk-estimator:hover label.sk-toggleable__label-arrow:before {color: black;}#sk-container-id-1 div.sk-toggleable__content {max-height: 0;max-width: 0;overflow: hidden;text-align: left;background-color: #f0f8ff;}#sk-container-id-1 div.sk-toggleable__content pre {margin: 0.2em;color: black;border-radius: 0.25em;background-color: #f0f8ff;}#sk-container-id-1 input.sk-toggleable__control:checked~div.sk-toggleable__content {max-height: 200px;max-width: 100%;overflow: auto;}#sk-container-id-1 input.sk-toggleable__control:checked~label.sk-toggleable__label-arrow:before {content: \"▾\";}#sk-container-id-1 div.sk-estimator input.sk-toggleable__control:checked~label.sk-toggleable__label {background-color: #d4ebff;}#sk-container-id-1 div.sk-label input.sk-toggleable__control:checked~label.sk-toggleable__label {background-color: #d4ebff;}#sk-container-id-1 input.sk-hidden--visually {border: 0;clip: rect(1px 1px 1px 1px);clip: rect(1px, 1px, 1px, 1px);height: 1px;margin: -1px;overflow: hidden;padding: 0;position: absolute;width: 1px;}#sk-container-id-1 div.sk-estimator {font-family: monospace;background-color: #f0f8ff;border: 1px dotted black;border-radius: 0.25em;box-sizing: border-box;margin-bottom: 0.5em;}#sk-container-id-1 div.sk-estimator:hover {background-color: #d4ebff;}#sk-container-id-1 div.sk-parallel-item::after {content: \"\";width: 100%;border-bottom: 1px solid gray;flex-grow: 1;}#sk-container-id-1 div.sk-label:hover label.sk-toggleable__label {background-color: #d4ebff;}#sk-container-id-1 div.sk-serial::before {content: \"\";position: absolute;border-left: 1px solid gray;box-sizing: border-box;top: 0;bottom: 0;left: 50%;z-index: 0;}#sk-container-id-1 div.sk-serial {display: flex;flex-direction: column;align-items: center;background-color: white;padding-right: 0.2em;padding-left: 0.2em;position: relative;}#sk-container-id-1 div.sk-item {position: relative;z-index: 1;}#sk-container-id-1 div.sk-parallel {display: flex;align-items: stretch;justify-content: center;background-color: white;position: relative;}#sk-container-id-1 div.sk-item::before, #sk-container-id-1 div.sk-parallel-item::before {content: \"\";position: absolute;border-left: 1px solid gray;box-sizing: border-box;top: 0;bottom: 0;left: 50%;z-index: -1;}#sk-container-id-1 div.sk-parallel-item {display: flex;flex-direction: column;z-index: 1;position: relative;background-color: white;}#sk-container-id-1 div.sk-parallel-item:first-child::after {align-self: flex-end;width: 50%;}#sk-container-id-1 div.sk-parallel-item:last-child::after {align-self: flex-start;width: 50%;}#sk-container-id-1 div.sk-parallel-item:only-child::after {width: 0;}#sk-container-id-1 div.sk-dashed-wrapped {border: 1px dashed gray;margin: 0 0.4em 0.5em 0.4em;box-sizing: border-box;padding-bottom: 0.4em;background-color: white;}#sk-container-id-1 div.sk-label label {font-family: monospace;font-weight: bold;display: inline-block;line-height: 1.2em;}#sk-container-id-1 div.sk-label-container {text-align: center;}#sk-container-id-1 div.sk-container {/* jupyter's `normalize.less` sets `[hidden] { display: none; }` but bootstrap.min.css set `[hidden] { display: none !important; }` so we also need the `!important` here to be able to override the default hidden behavior on the sphinx rendered scikit-learn.org. See: https://github.com/scikit-learn/scikit-learn/issues/21755 */display: inline-block !important;position: relative;}#sk-container-id-1 div.sk-text-repr-fallback {display: none;}</style><div id=\"sk-container-id-1\" class=\"sk-top-container\"><div class=\"sk-text-repr-fallback\"><pre>Pipeline(steps=[(&#x27;scale&#x27;, None),\n",
       "                (&#x27;model&#x27;,\n",
       "                 LogisticRegression(l1_ratio=0.5, max_iter=5000,\n",
       "                                    penalty=&#x27;elasticnet&#x27;, solver=&#x27;saga&#x27;))])</pre><b>In a Jupyter environment, please rerun this cell to show the HTML representation or trust the notebook. <br />On GitHub, the HTML representation is unable to render, please try loading this page with nbviewer.org.</b></div><div class=\"sk-container\" hidden><div class=\"sk-item sk-dashed-wrapped\"><div class=\"sk-label-container\"><div class=\"sk-label sk-toggleable\"><input class=\"sk-toggleable__control sk-hidden--visually\" id=\"sk-estimator-id-1\" type=\"checkbox\" ><label for=\"sk-estimator-id-1\" class=\"sk-toggleable__label sk-toggleable__label-arrow\">Pipeline</label><div class=\"sk-toggleable__content\"><pre>Pipeline(steps=[(&#x27;scale&#x27;, None),\n",
       "                (&#x27;model&#x27;,\n",
       "                 LogisticRegression(l1_ratio=0.5, max_iter=5000,\n",
       "                                    penalty=&#x27;elasticnet&#x27;, solver=&#x27;saga&#x27;))])</pre></div></div></div><div class=\"sk-serial\"><div class=\"sk-item\"><div class=\"sk-estimator sk-toggleable\"><input class=\"sk-toggleable__control sk-hidden--visually\" id=\"sk-estimator-id-2\" type=\"checkbox\" ><label for=\"sk-estimator-id-2\" class=\"sk-toggleable__label sk-toggleable__label-arrow\">None</label><div class=\"sk-toggleable__content\"><pre>None</pre></div></div></div><div class=\"sk-item\"><div class=\"sk-estimator sk-toggleable\"><input class=\"sk-toggleable__control sk-hidden--visually\" id=\"sk-estimator-id-3\" type=\"checkbox\" ><label for=\"sk-estimator-id-3\" class=\"sk-toggleable__label sk-toggleable__label-arrow\">LogisticRegression</label><div class=\"sk-toggleable__content\"><pre>LogisticRegression(l1_ratio=0.5, max_iter=5000, penalty=&#x27;elasticnet&#x27;,\n",
       "                   solver=&#x27;saga&#x27;)</pre></div></div></div></div></div></div></div>"
      ],
      "text/plain": [
       "Pipeline(steps=[('scale', None),\n",
       "                ('model',\n",
       "                 LogisticRegression(l1_ratio=0.5, max_iter=5000,\n",
       "                                    penalty='elasticnet', solver='saga'))])"
      ]
     },
     "execution_count": 43,
     "metadata": {},
     "output_type": "execute_result"
    }
   ],
   "source": [
    "model.fit(X_train, y_train.values.ravel())"
   ]
  },
  {
   "cell_type": "code",
   "execution_count": 44,
   "id": "af59f8c0",
   "metadata": {
    "execution": {
     "iopub.execute_input": "2025-07-30T20:56:09.584834Z",
     "iopub.status.busy": "2025-07-30T20:56:09.584290Z",
     "iopub.status.idle": "2025-07-30T20:56:09.590054Z",
     "shell.execute_reply": "2025-07-30T20:56:09.589243Z"
    },
    "papermill": {
     "duration": 0.029696,
     "end_time": "2025-07-30T20:56:09.591523",
     "exception": false,
     "start_time": "2025-07-30T20:56:09.561827",
     "status": "completed"
    },
    "tags": []
   },
   "outputs": [],
   "source": [
    "from fairness_multiverse.universe import predict_w_threshold"
   ]
  },
  {
   "cell_type": "code",
   "execution_count": 45,
   "id": "a7cf2e16",
   "metadata": {
    "execution": {
     "iopub.execute_input": "2025-07-30T20:56:09.636549Z",
     "iopub.status.busy": "2025-07-30T20:56:09.635815Z",
     "iopub.status.idle": "2025-07-30T20:56:09.736503Z",
     "shell.execute_reply": "2025-07-30T20:56:09.735618Z"
    },
    "papermill": {
     "duration": 0.124098,
     "end_time": "2025-07-30T20:56:09.738042",
     "exception": false,
     "start_time": "2025-07-30T20:56:09.613944",
     "status": "completed"
    },
    "tags": []
   },
   "outputs": [
    {
     "data": {
      "text/plain": [
       "0.8587559915282578"
      ]
     },
     "execution_count": 45,
     "metadata": {},
     "output_type": "execute_result"
    }
   ],
   "source": [
    "probs_test = model.predict_proba(X_test)\n",
    "\n",
    "'''\n",
    "Below code returns a boolean array (or binary 0/1 array depending on how it’s used) where each element \n",
    "is True if the probability of class 1 is greater than or equal to the threshold, and False otherwise.\n",
    "'''\n",
    "y_pred_default = predict_w_threshold(probs_test, 0.5)\n",
    "\n",
    "from sklearn.metrics import accuracy_score\n",
    "\n",
    "# Naive prediction\n",
    "accuracy_score(y_true = y_true, y_pred = y_pred_default)"
   ]
  },
  {
   "cell_type": "code",
   "execution_count": 46,
   "id": "081964c3",
   "metadata": {
    "execution": {
     "iopub.execute_input": "2025-07-30T20:56:09.782592Z",
     "iopub.status.busy": "2025-07-30T20:56:09.782012Z",
     "iopub.status.idle": "2025-07-30T20:56:09.861936Z",
     "shell.execute_reply": "2025-07-30T20:56:09.861069Z"
    },
    "papermill": {
     "duration": 0.103372,
     "end_time": "2025-07-30T20:56:09.863455",
     "exception": false,
     "start_time": "2025-07-30T20:56:09.760083",
     "status": "completed"
    },
    "tags": []
   },
   "outputs": [
    {
     "data": {
      "text/plain": [
       "array([0, 0, 0, ..., 0, 0, 0])"
      ]
     },
     "execution_count": 46,
     "metadata": {},
     "output_type": "execute_result"
    }
   ],
   "source": [
    "model.predict(X_test)"
   ]
  },
  {
   "cell_type": "markdown",
   "id": "56c9705b",
   "metadata": {
    "papermill": {
     "duration": 0.021245,
     "end_time": "2025-07-30T20:56:09.907056",
     "exception": false,
     "start_time": "2025-07-30T20:56:09.885811",
     "status": "completed"
    },
    "tags": []
   },
   "source": [
    "# Conformal Prediction"
   ]
  },
  {
   "cell_type": "code",
   "execution_count": 47,
   "id": "160ec6ff",
   "metadata": {
    "execution": {
     "iopub.execute_input": "2025-07-30T20:56:09.951544Z",
     "iopub.status.busy": "2025-07-30T20:56:09.950937Z",
     "iopub.status.idle": "2025-07-30T20:56:09.956184Z",
     "shell.execute_reply": "2025-07-30T20:56:09.955382Z"
    },
    "papermill": {
     "duration": 0.029439,
     "end_time": "2025-07-30T20:56:09.957689",
     "exception": false,
     "start_time": "2025-07-30T20:56:09.928250",
     "status": "completed"
    },
    "tags": []
   },
   "outputs": [],
   "source": [
    "# Miscoverage level for conformal prediction (10% allowed error rate => 90% target coverage)\n",
    "alpha = 0.1"
   ]
  },
  {
   "cell_type": "code",
   "execution_count": 48,
   "id": "eadf4555-3dd3-440e-8e35-f82a4ad9f855",
   "metadata": {
    "execution": {
     "iopub.execute_input": "2025-07-30T20:56:10.002969Z",
     "iopub.status.busy": "2025-07-30T20:56:10.002221Z",
     "iopub.status.idle": "2025-07-30T20:56:10.085763Z",
     "shell.execute_reply": "2025-07-30T20:56:10.084898Z"
    },
    "papermill": {
     "duration": 0.107731,
     "end_time": "2025-07-30T20:56:10.087614",
     "exception": false,
     "start_time": "2025-07-30T20:56:09.979883",
     "status": "completed"
    },
    "tags": []
   },
   "outputs": [],
   "source": [
    "probs_calib = model.predict_proba(X_calib)"
   ]
  },
  {
   "cell_type": "code",
   "execution_count": 49,
   "id": "2ed93547-6d5d-4983-9b36-1ecb300da49a",
   "metadata": {
    "execution": {
     "iopub.execute_input": "2025-07-30T20:56:10.133382Z",
     "iopub.status.busy": "2025-07-30T20:56:10.132481Z",
     "iopub.status.idle": "2025-07-30T20:56:10.137992Z",
     "shell.execute_reply": "2025-07-30T20:56:10.137221Z"
    },
    "papermill": {
     "duration": 0.029358,
     "end_time": "2025-07-30T20:56:10.139476",
     "exception": false,
     "start_time": "2025-07-30T20:56:10.110118",
     "status": "completed"
    },
    "tags": []
   },
   "outputs": [],
   "source": [
    "y_calib = y_calib.values.ravel().astype(int)"
   ]
  },
  {
   "cell_type": "code",
   "execution_count": 50,
   "id": "65d1320d-f588-4b38-9072-62af1ae97f7d",
   "metadata": {
    "execution": {
     "iopub.execute_input": "2025-07-30T20:56:10.185250Z",
     "iopub.status.busy": "2025-07-30T20:56:10.184445Z",
     "iopub.status.idle": "2025-07-30T20:56:10.191493Z",
     "shell.execute_reply": "2025-07-30T20:56:10.190596Z"
    },
    "papermill": {
     "duration": 0.031223,
     "end_time": "2025-07-30T20:56:10.193193",
     "exception": false,
     "start_time": "2025-07-30T20:56:10.161970",
     "status": "completed"
    },
    "tags": []
   },
   "outputs": [],
   "source": [
    "from fairness_multiverse.conformal import compute_nc_scores\n",
    "\n",
    "# Compute nonconformity scores on calibration set (1 - probability of true class)\n",
    "nc_scores = compute_nc_scores(probs_calib, y_calib)"
   ]
  },
  {
   "cell_type": "code",
   "execution_count": 51,
   "id": "df3b8ca3-53b7-43d5-9667-7c85da7aeda2",
   "metadata": {
    "execution": {
     "iopub.execute_input": "2025-07-30T20:56:10.238467Z",
     "iopub.status.busy": "2025-07-30T20:56:10.237893Z",
     "iopub.status.idle": "2025-07-30T20:56:10.244679Z",
     "shell.execute_reply": "2025-07-30T20:56:10.243767Z"
    },
    "papermill": {
     "duration": 0.030687,
     "end_time": "2025-07-30T20:56:10.246156",
     "exception": false,
     "start_time": "2025-07-30T20:56:10.215469",
     "status": "completed"
    },
    "tags": []
   },
   "outputs": [],
   "source": [
    "from fairness_multiverse.conformal import find_threshold\n",
    "\n",
    "# Find conformal threshold q_hat for the given alpha (split conformal method)\n",
    "q_hat = find_threshold(nc_scores, alpha)"
   ]
  },
  {
   "cell_type": "code",
   "execution_count": 52,
   "id": "4d29e6c1-0ef6-4aa4-b8fe-4fe79b0d033a",
   "metadata": {
    "execution": {
     "iopub.execute_input": "2025-07-30T20:56:10.292238Z",
     "iopub.status.busy": "2025-07-30T20:56:10.291614Z",
     "iopub.status.idle": "2025-07-30T20:56:10.298677Z",
     "shell.execute_reply": "2025-07-30T20:56:10.297700Z"
    },
    "papermill": {
     "duration": 0.031276,
     "end_time": "2025-07-30T20:56:10.300281",
     "exception": false,
     "start_time": "2025-07-30T20:56:10.269005",
     "status": "completed"
    },
    "tags": []
   },
   "outputs": [
    {
     "data": {
      "text/plain": [
       "0.6833954282736079"
      ]
     },
     "execution_count": 52,
     "metadata": {},
     "output_type": "execute_result"
    }
   ],
   "source": [
    "q_hat"
   ]
  },
  {
   "cell_type": "code",
   "execution_count": 53,
   "id": "92460794-cdac-4be2-ba28-f28c0515a6fb",
   "metadata": {
    "execution": {
     "iopub.execute_input": "2025-07-30T20:56:10.346945Z",
     "iopub.status.busy": "2025-07-30T20:56:10.346385Z",
     "iopub.status.idle": "2025-07-30T20:56:11.105321Z",
     "shell.execute_reply": "2025-07-30T20:56:11.104449Z"
    },
    "papermill": {
     "duration": 0.783829,
     "end_time": "2025-07-30T20:56:11.107092",
     "exception": false,
     "start_time": "2025-07-30T20:56:10.323263",
     "status": "completed"
    },
    "tags": []
   },
   "outputs": [],
   "source": [
    "from fairness_multiverse.conformal import predict_conformal_sets\n",
    "\n",
    "# Generate prediction sets for each test example\n",
    "pred_sets = predict_conformal_sets(model, X_test, q_hat)"
   ]
  },
  {
   "cell_type": "code",
   "execution_count": 54,
   "id": "d90c9a65-e6db-4f5d-80cd-e68fb7e46829",
   "metadata": {
    "execution": {
     "iopub.execute_input": "2025-07-30T20:56:11.154845Z",
     "iopub.status.busy": "2025-07-30T20:56:11.154208Z",
     "iopub.status.idle": "2025-07-30T20:56:11.159643Z",
     "shell.execute_reply": "2025-07-30T20:56:11.158708Z"
    },
    "papermill": {
     "duration": 0.03094,
     "end_time": "2025-07-30T20:56:11.161299",
     "exception": false,
     "start_time": "2025-07-30T20:56:11.130359",
     "status": "completed"
    },
    "tags": []
   },
   "outputs": [],
   "source": [
    "y_true = y_true.squeeze()"
   ]
  },
  {
   "cell_type": "code",
   "execution_count": 55,
   "id": "3a58a54a-1e68-46b9-927a-df01f18aebc8",
   "metadata": {
    "execution": {
     "iopub.execute_input": "2025-07-30T20:56:11.209540Z",
     "iopub.status.busy": "2025-07-30T20:56:11.208903Z",
     "iopub.status.idle": "2025-07-30T20:56:12.084101Z",
     "shell.execute_reply": "2025-07-30T20:56:12.083168Z"
    },
    "papermill": {
     "duration": 0.900866,
     "end_time": "2025-07-30T20:56:12.085900",
     "exception": false,
     "start_time": "2025-07-30T20:56:11.185034",
     "status": "completed"
    },
    "tags": []
   },
   "outputs": [],
   "source": [
    "from fairness_multiverse.conformal import evaluate_sets\n",
    "\n",
    "# Evaluate coverage and average set size on test data\n",
    "metrics = evaluate_sets(pred_sets, y_true)"
   ]
  },
  {
   "cell_type": "markdown",
   "id": "2b569c12-9aaa-4c88-98c9-bbcd0cf3ebb8",
   "metadata": {
    "papermill": {
     "duration": 0.021891,
     "end_time": "2025-07-30T20:56:12.146810",
     "exception": false,
     "start_time": "2025-07-30T20:56:12.124919",
     "status": "completed"
    },
    "tags": []
   },
   "source": [
    "# CP Metrics"
   ]
  },
  {
   "cell_type": "code",
   "execution_count": 56,
   "id": "5ce0a5cb-201f-45a0-ade5-94c7f0bd6095",
   "metadata": {
    "execution": {
     "iopub.execute_input": "2025-07-30T20:56:12.192058Z",
     "iopub.status.busy": "2025-07-30T20:56:12.191381Z",
     "iopub.status.idle": "2025-07-30T20:56:12.198551Z",
     "shell.execute_reply": "2025-07-30T20:56:12.197705Z"
    },
    "papermill": {
     "duration": 0.031299,
     "end_time": "2025-07-30T20:56:12.199927",
     "exception": false,
     "start_time": "2025-07-30T20:56:12.168628",
     "status": "completed"
    },
    "tags": []
   },
   "outputs": [
    {
     "data": {
      "text/plain": [
       "{'coverage': 0.9096644744175677, 'avg_size': 1.1519340095864452}"
      ]
     },
     "execution_count": 56,
     "metadata": {},
     "output_type": "execute_result"
    }
   ],
   "source": [
    "metrics"
   ]
  },
  {
   "cell_type": "code",
   "execution_count": 57,
   "id": "9b9a838d-31c9-430b-ae14-12baee460d17",
   "metadata": {
    "execution": {
     "iopub.execute_input": "2025-07-30T20:56:12.245823Z",
     "iopub.status.busy": "2025-07-30T20:56:12.245376Z",
     "iopub.status.idle": "2025-07-30T20:56:12.251850Z",
     "shell.execute_reply": "2025-07-30T20:56:12.250953Z"
    },
    "papermill": {
     "duration": 0.030737,
     "end_time": "2025-07-30T20:56:12.253325",
     "exception": false,
     "start_time": "2025-07-30T20:56:12.222588",
     "status": "completed"
    },
    "tags": []
   },
   "outputs": [],
   "source": [
    "example_universe = universe.copy()\n",
    "universe_training_year = example_universe.get(\"training_year\")\n",
    "universe_training_size = example_universe.get(\"training_size\")\n",
    "universe_scale = example_universe.get(\"scale\")\n",
    "universe_model = example_universe.get(\"model\")\n",
    "universe_exclude_features = example_universe.get(\"exclude_features\")\n",
    "universe_exclude_subgroups = example_universe.get(\"exclude_subgroups\")"
   ]
  },
  {
   "cell_type": "code",
   "execution_count": 58,
   "id": "f4b6a8ac-9dc0-4245-8a91-5b3b5999c4f9",
   "metadata": {
    "execution": {
     "iopub.execute_input": "2025-07-30T20:56:12.299792Z",
     "iopub.status.busy": "2025-07-30T20:56:12.299098Z",
     "iopub.status.idle": "2025-07-30T20:56:12.305363Z",
     "shell.execute_reply": "2025-07-30T20:56:12.304540Z"
    },
    "papermill": {
     "duration": 0.030516,
     "end_time": "2025-07-30T20:56:12.306754",
     "exception": false,
     "start_time": "2025-07-30T20:56:12.276238",
     "status": "completed"
    },
    "tags": []
   },
   "outputs": [],
   "source": [
    "cp_metrics_dict = {\n",
    "    \"universe_id\": [universe_id],\n",
    "    \"universe_training_year\": [universe_training_year],\n",
    "    \"universe_training_size\": [universe_training_size],\n",
    "    \"universe_scale\": [universe_scale],\n",
    "    \"universe_model\": [universe_model],\n",
    "    \"universe_exclude_features\": [universe_exclude_features],\n",
    "    \"universe_exclude_subgroups\": [universe_exclude_subgroups],\n",
    "    \"q_hat\": [q_hat],\n",
    "    \"coverage\": [metrics[\"coverage\"]],\n",
    "    \"avg_size\": [metrics[\"avg_size\"]],\n",
    "}"
   ]
  },
  {
   "cell_type": "code",
   "execution_count": 59,
   "id": "908acbb1-0371-4915-85ca-3fa520d2efe2",
   "metadata": {
    "execution": {
     "iopub.execute_input": "2025-07-30T20:56:12.353070Z",
     "iopub.status.busy": "2025-07-30T20:56:12.352170Z",
     "iopub.status.idle": "2025-07-30T20:56:12.359598Z",
     "shell.execute_reply": "2025-07-30T20:56:12.358696Z"
    },
    "papermill": {
     "duration": 0.031871,
     "end_time": "2025-07-30T20:56:12.361130",
     "exception": false,
     "start_time": "2025-07-30T20:56:12.329259",
     "status": "completed"
    },
    "tags": []
   },
   "outputs": [
    {
     "data": {
      "text/plain": [
       "{'universe_id': ['1cfbf75a5d0af05d3a3293c380ec3125'],\n",
       " 'universe_training_year': ['2014'],\n",
       " 'universe_training_size': ['5k'],\n",
       " 'universe_scale': ['do-not-scale'],\n",
       " 'universe_model': ['elasticnet'],\n",
       " 'universe_exclude_features': ['none'],\n",
       " 'universe_exclude_subgroups': ['drop-non-german'],\n",
       " 'q_hat': [0.6833954282736079],\n",
       " 'coverage': [0.9096644744175677],\n",
       " 'avg_size': [1.1519340095864452]}"
      ]
     },
     "execution_count": 59,
     "metadata": {},
     "output_type": "execute_result"
    }
   ],
   "source": [
    "cp_metrics_dict"
   ]
  },
  {
   "cell_type": "code",
   "execution_count": 60,
   "id": "33007efc-14e9-4ec6-97ac-56a455c82265",
   "metadata": {
    "execution": {
     "iopub.execute_input": "2025-07-30T20:56:12.407748Z",
     "iopub.status.busy": "2025-07-30T20:56:12.407042Z",
     "iopub.status.idle": "2025-07-30T20:56:12.413629Z",
     "shell.execute_reply": "2025-07-30T20:56:12.412781Z"
    },
    "papermill": {
     "duration": 0.031232,
     "end_time": "2025-07-30T20:56:12.415135",
     "exception": false,
     "start_time": "2025-07-30T20:56:12.383903",
     "status": "completed"
    },
    "tags": []
   },
   "outputs": [],
   "source": [
    "cp_metrics_df = pd.DataFrame(cp_metrics_dict)"
   ]
  },
  {
   "cell_type": "code",
   "execution_count": 61,
   "id": "db12611b-57b2-4910-b9d0-355adfd6e7bf",
   "metadata": {
    "execution": {
     "iopub.execute_input": "2025-07-30T20:56:12.461730Z",
     "iopub.status.busy": "2025-07-30T20:56:12.460976Z",
     "iopub.status.idle": "2025-07-30T20:56:12.478979Z",
     "shell.execute_reply": "2025-07-30T20:56:12.478146Z"
    },
    "papermill": {
     "duration": 0.042912,
     "end_time": "2025-07-30T20:56:12.480676",
     "exception": false,
     "start_time": "2025-07-30T20:56:12.437764",
     "status": "completed"
    },
    "tags": []
   },
   "outputs": [
    {
     "data": {
      "text/html": [
       "<div>\n",
       "<style scoped>\n",
       "    .dataframe tbody tr th:only-of-type {\n",
       "        vertical-align: middle;\n",
       "    }\n",
       "\n",
       "    .dataframe tbody tr th {\n",
       "        vertical-align: top;\n",
       "    }\n",
       "\n",
       "    .dataframe thead th {\n",
       "        text-align: right;\n",
       "    }\n",
       "</style>\n",
       "<table border=\"1\" class=\"dataframe\">\n",
       "  <thead>\n",
       "    <tr style=\"text-align: right;\">\n",
       "      <th></th>\n",
       "      <th>universe_id</th>\n",
       "      <th>universe_training_year</th>\n",
       "      <th>universe_training_size</th>\n",
       "      <th>universe_scale</th>\n",
       "      <th>universe_model</th>\n",
       "      <th>universe_exclude_features</th>\n",
       "      <th>universe_exclude_subgroups</th>\n",
       "      <th>q_hat</th>\n",
       "      <th>coverage</th>\n",
       "      <th>avg_size</th>\n",
       "    </tr>\n",
       "  </thead>\n",
       "  <tbody>\n",
       "    <tr>\n",
       "      <th>0</th>\n",
       "      <td>1cfbf75a5d0af05d3a3293c380ec3125</td>\n",
       "      <td>2014</td>\n",
       "      <td>5k</td>\n",
       "      <td>do-not-scale</td>\n",
       "      <td>elasticnet</td>\n",
       "      <td>none</td>\n",
       "      <td>drop-non-german</td>\n",
       "      <td>0.683395</td>\n",
       "      <td>0.909664</td>\n",
       "      <td>1.151934</td>\n",
       "    </tr>\n",
       "  </tbody>\n",
       "</table>\n",
       "</div>"
      ],
      "text/plain": [
       "                        universe_id universe_training_year  \\\n",
       "0  1cfbf75a5d0af05d3a3293c380ec3125                   2014   \n",
       "\n",
       "  universe_training_size universe_scale universe_model  \\\n",
       "0                     5k   do-not-scale     elasticnet   \n",
       "\n",
       "  universe_exclude_features universe_exclude_subgroups     q_hat  coverage  \\\n",
       "0                      none            drop-non-german  0.683395  0.909664   \n",
       "\n",
       "   avg_size  \n",
       "0  1.151934  "
      ]
     },
     "execution_count": 61,
     "metadata": {},
     "output_type": "execute_result"
    }
   ],
   "source": [
    "cp_metrics_df"
   ]
  },
  {
   "cell_type": "code",
   "execution_count": 62,
   "id": "b7fbde55-a0a1-47e4-9af6-fe4a17fa8c61",
   "metadata": {
    "execution": {
     "iopub.execute_input": "2025-07-30T20:56:12.533298Z",
     "iopub.status.busy": "2025-07-30T20:56:12.532399Z",
     "iopub.status.idle": "2025-07-30T20:56:12.537163Z",
     "shell.execute_reply": "2025-07-30T20:56:12.536311Z"
    },
    "papermill": {
     "duration": 0.032365,
     "end_time": "2025-07-30T20:56:12.538622",
     "exception": false,
     "start_time": "2025-07-30T20:56:12.506257",
     "status": "completed"
    },
    "tags": []
   },
   "outputs": [],
   "source": [
    "# Conditional Coverage & looking at subgroups"
   ]
  },
  {
   "cell_type": "code",
   "execution_count": 63,
   "id": "027ae886-68dd-4141-96c7-805a5450e1ef",
   "metadata": {
    "execution": {
     "iopub.execute_input": "2025-07-30T20:56:12.586594Z",
     "iopub.status.busy": "2025-07-30T20:56:12.585829Z",
     "iopub.status.idle": "2025-07-30T20:56:12.843685Z",
     "shell.execute_reply": "2025-07-30T20:56:12.842637Z"
    },
    "papermill": {
     "duration": 0.283527,
     "end_time": "2025-07-30T20:56:12.845661",
     "exception": false,
     "start_time": "2025-07-30T20:56:12.562134",
     "status": "completed"
    },
    "tags": []
   },
   "outputs": [],
   "source": [
    "from fairness_multiverse.conformal import build_cp_groups\n",
    "\n",
    "cp_groups_df = build_cp_groups(pred_sets, y_true, X_test.index, org_test)\n",
    "#needs universe_id and setting"
   ]
  },
  {
   "cell_type": "code",
   "execution_count": 64,
   "id": "01d5802c-663a-4d1f-9d69-e036faaffbf7",
   "metadata": {
    "execution": {
     "iopub.execute_input": "2025-07-30T20:56:12.894087Z",
     "iopub.status.busy": "2025-07-30T20:56:12.893285Z",
     "iopub.status.idle": "2025-07-30T20:56:12.897898Z",
     "shell.execute_reply": "2025-07-30T20:56:12.897058Z"
    },
    "papermill": {
     "duration": 0.030235,
     "end_time": "2025-07-30T20:56:12.899547",
     "exception": false,
     "start_time": "2025-07-30T20:56:12.869312",
     "status": "completed"
    },
    "tags": []
   },
   "outputs": [],
   "source": [
    "#delete\n",
    "#cp_groups_df"
   ]
  },
  {
   "cell_type": "code",
   "execution_count": 65,
   "id": "fa424af1-d1eb-443d-b717-2d279ada8408",
   "metadata": {
    "execution": {
     "iopub.execute_input": "2025-07-30T20:56:12.951855Z",
     "iopub.status.busy": "2025-07-30T20:56:12.951424Z",
     "iopub.status.idle": "2025-07-30T20:56:12.956289Z",
     "shell.execute_reply": "2025-07-30T20:56:12.955339Z"
    },
    "papermill": {
     "duration": 0.032643,
     "end_time": "2025-07-30T20:56:12.957887",
     "exception": false,
     "start_time": "2025-07-30T20:56:12.925244",
     "status": "completed"
    },
    "tags": []
   },
   "outputs": [],
   "source": [
    "#delete\n",
    "#percentage = (cp_groups_df['nongerman_female'] == 1).mean() * 100\n",
    "#print(percentage)\n"
   ]
  },
  {
   "cell_type": "code",
   "execution_count": 66,
   "id": "6cbdab96-b2b2-45af-ad54-d0516db2e28d",
   "metadata": {
    "execution": {
     "iopub.execute_input": "2025-07-30T20:56:13.021289Z",
     "iopub.status.busy": "2025-07-30T20:56:13.020819Z",
     "iopub.status.idle": "2025-07-30T20:56:14.543100Z",
     "shell.execute_reply": "2025-07-30T20:56:14.542225Z"
    },
    "papermill": {
     "duration": 1.562399,
     "end_time": "2025-07-30T20:56:14.544980",
     "exception": false,
     "start_time": "2025-07-30T20:56:12.982581",
     "status": "completed"
    },
    "tags": []
   },
   "outputs": [],
   "source": [
    "# Define covered = 1 if true_label is in the predicted set\n",
    "cp_groups_df['covered'] = cp_groups_df.apply(\n",
    "    lambda r: int(r['true_label'] in r['pred_set']),\n",
    "    axis=1\n",
    ")"
   ]
  },
  {
   "cell_type": "code",
   "execution_count": 67,
   "id": "338ff529-1a6b-4b87-a931-8e4788d52aad",
   "metadata": {
    "execution": {
     "iopub.execute_input": "2025-07-30T20:56:14.594729Z",
     "iopub.status.busy": "2025-07-30T20:56:14.594085Z",
     "iopub.status.idle": "2025-07-30T20:56:14.599026Z",
     "shell.execute_reply": "2025-07-30T20:56:14.598236Z"
    },
    "papermill": {
     "duration": 0.031274,
     "end_time": "2025-07-30T20:56:14.600560",
     "exception": false,
     "start_time": "2025-07-30T20:56:14.569286",
     "status": "completed"
    },
    "tags": []
   },
   "outputs": [],
   "source": [
    "#cp_groups_df"
   ]
  },
  {
   "cell_type": "code",
   "execution_count": 68,
   "id": "90032e27-66df-4540-9169-4e89cfbaa758",
   "metadata": {
    "execution": {
     "iopub.execute_input": "2025-07-30T20:56:14.650062Z",
     "iopub.status.busy": "2025-07-30T20:56:14.649417Z",
     "iopub.status.idle": "2025-07-30T20:56:14.661036Z",
     "shell.execute_reply": "2025-07-30T20:56:14.659997Z"
    },
    "papermill": {
     "duration": 0.037872,
     "end_time": "2025-07-30T20:56:14.662634",
     "exception": false,
     "start_time": "2025-07-30T20:56:14.624762",
     "status": "completed"
    },
    "tags": []
   },
   "outputs": [],
   "source": [
    "subgroups = ['frau1','nongerman','nongerman_male','nongerman_female']\n",
    "\n",
    "# Conditional coverage for subgroup==1\n",
    "cond_coverage = {\n",
    "    g: cp_groups_df.loc[cp_groups_df[g]==1, 'covered'].mean()\n",
    "    for g in subgroups\n",
    "}"
   ]
  },
  {
   "cell_type": "code",
   "execution_count": 69,
   "id": "1e348fb1-b9c3-45bc-ba23-f016827a7e0d",
   "metadata": {
    "execution": {
     "iopub.execute_input": "2025-07-30T20:56:14.711806Z",
     "iopub.status.busy": "2025-07-30T20:56:14.711163Z",
     "iopub.status.idle": "2025-07-30T20:56:14.718286Z",
     "shell.execute_reply": "2025-07-30T20:56:14.717396Z"
    },
    "papermill": {
     "duration": 0.033124,
     "end_time": "2025-07-30T20:56:14.719726",
     "exception": false,
     "start_time": "2025-07-30T20:56:14.686602",
     "status": "completed"
    },
    "tags": []
   },
   "outputs": [
    {
     "data": {
      "text/plain": [
       "{'frau1': 0.9067259738509234,\n",
       " 'nongerman': 0.910683208892382,\n",
       " 'nongerman_male': 0.92704674412321,\n",
       " 'nongerman_female': 0.8836065573770492}"
      ]
     },
     "execution_count": 69,
     "metadata": {},
     "output_type": "execute_result"
    }
   ],
   "source": [
    "cond_coverage"
   ]
  },
  {
   "cell_type": "code",
   "execution_count": 70,
   "id": "f5093324-c3dd-4d63-bc4c-8d945e5c8bbb",
   "metadata": {
    "execution": {
     "iopub.execute_input": "2025-07-30T20:56:14.769973Z",
     "iopub.status.busy": "2025-07-30T20:56:14.769335Z",
     "iopub.status.idle": "2025-07-30T20:56:14.777222Z",
     "shell.execute_reply": "2025-07-30T20:56:14.776366Z"
    },
    "papermill": {
     "duration": 0.034524,
     "end_time": "2025-07-30T20:56:14.778902",
     "exception": false,
     "start_time": "2025-07-30T20:56:14.744378",
     "status": "completed"
    },
    "tags": []
   },
   "outputs": [],
   "source": [
    "for subgroup, cov in cond_coverage.items():\n",
    "    cp_metrics_df[f\"cov_{subgroup}\"] = cov"
   ]
  },
  {
   "cell_type": "code",
   "execution_count": 71,
   "id": "6e872e10-dbe5-49e8-b554-5030c98ff75d",
   "metadata": {
    "execution": {
     "iopub.execute_input": "2025-07-30T20:56:14.829253Z",
     "iopub.status.busy": "2025-07-30T20:56:14.828778Z",
     "iopub.status.idle": "2025-07-30T20:56:14.847180Z",
     "shell.execute_reply": "2025-07-30T20:56:14.846317Z"
    },
    "papermill": {
     "duration": 0.045151,
     "end_time": "2025-07-30T20:56:14.848730",
     "exception": false,
     "start_time": "2025-07-30T20:56:14.803579",
     "status": "completed"
    },
    "tags": []
   },
   "outputs": [
    {
     "data": {
      "text/html": [
       "<div>\n",
       "<style scoped>\n",
       "    .dataframe tbody tr th:only-of-type {\n",
       "        vertical-align: middle;\n",
       "    }\n",
       "\n",
       "    .dataframe tbody tr th {\n",
       "        vertical-align: top;\n",
       "    }\n",
       "\n",
       "    .dataframe thead th {\n",
       "        text-align: right;\n",
       "    }\n",
       "</style>\n",
       "<table border=\"1\" class=\"dataframe\">\n",
       "  <thead>\n",
       "    <tr style=\"text-align: right;\">\n",
       "      <th></th>\n",
       "      <th>universe_id</th>\n",
       "      <th>universe_training_year</th>\n",
       "      <th>universe_training_size</th>\n",
       "      <th>universe_scale</th>\n",
       "      <th>universe_model</th>\n",
       "      <th>universe_exclude_features</th>\n",
       "      <th>universe_exclude_subgroups</th>\n",
       "      <th>q_hat</th>\n",
       "      <th>coverage</th>\n",
       "      <th>avg_size</th>\n",
       "      <th>cov_frau1</th>\n",
       "      <th>cov_nongerman</th>\n",
       "      <th>cov_nongerman_male</th>\n",
       "      <th>cov_nongerman_female</th>\n",
       "    </tr>\n",
       "  </thead>\n",
       "  <tbody>\n",
       "    <tr>\n",
       "      <th>0</th>\n",
       "      <td>1cfbf75a5d0af05d3a3293c380ec3125</td>\n",
       "      <td>2014</td>\n",
       "      <td>5k</td>\n",
       "      <td>do-not-scale</td>\n",
       "      <td>elasticnet</td>\n",
       "      <td>none</td>\n",
       "      <td>drop-non-german</td>\n",
       "      <td>0.683395</td>\n",
       "      <td>0.909664</td>\n",
       "      <td>1.151934</td>\n",
       "      <td>0.906726</td>\n",
       "      <td>0.910683</td>\n",
       "      <td>0.927047</td>\n",
       "      <td>0.883607</td>\n",
       "    </tr>\n",
       "  </tbody>\n",
       "</table>\n",
       "</div>"
      ],
      "text/plain": [
       "                        universe_id universe_training_year  \\\n",
       "0  1cfbf75a5d0af05d3a3293c380ec3125                   2014   \n",
       "\n",
       "  universe_training_size universe_scale universe_model  \\\n",
       "0                     5k   do-not-scale     elasticnet   \n",
       "\n",
       "  universe_exclude_features universe_exclude_subgroups     q_hat  coverage  \\\n",
       "0                      none            drop-non-german  0.683395  0.909664   \n",
       "\n",
       "   avg_size  cov_frau1  cov_nongerman  cov_nongerman_male  \\\n",
       "0  1.151934   0.906726       0.910683            0.927047   \n",
       "\n",
       "   cov_nongerman_female  \n",
       "0              0.883607  "
      ]
     },
     "execution_count": 71,
     "metadata": {},
     "output_type": "execute_result"
    }
   ],
   "source": [
    "cp_metrics_df"
   ]
  },
  {
   "cell_type": "markdown",
   "id": "33774451",
   "metadata": {
    "papermill": {
     "duration": 0.024198,
     "end_time": "2025-07-30T20:56:14.897808",
     "exception": false,
     "start_time": "2025-07-30T20:56:14.873610",
     "status": "completed"
    },
    "tags": []
   },
   "source": [
    "# (Fairness) Metrics"
   ]
  },
  {
   "cell_type": "code",
   "execution_count": 72,
   "id": "debc5d62",
   "metadata": {
    "execution": {
     "iopub.execute_input": "2025-07-30T20:56:14.948254Z",
     "iopub.status.busy": "2025-07-30T20:56:14.947585Z",
     "iopub.status.idle": "2025-07-30T20:56:14.968116Z",
     "shell.execute_reply": "2025-07-30T20:56:14.967264Z"
    },
    "papermill": {
     "duration": 0.047715,
     "end_time": "2025-07-30T20:56:14.969813",
     "exception": false,
     "start_time": "2025-07-30T20:56:14.922098",
     "status": "completed"
    },
    "tags": []
   },
   "outputs": [],
   "source": [
    "# do I need to include maxdeutsch1.missing?\n",
    "\n",
    "import numpy as np\n",
    "\n",
    "colname_to_bin = \"maxdeutsch1\"\n",
    "majority_value = org_train[colname_to_bin].mode()[0]\n",
    "\n",
    "org_test[\"majmin\"] = np.where(org_test[colname_to_bin] == majority_value, \"majority\", \"minority\")"
   ]
  },
  {
   "cell_type": "code",
   "execution_count": 73,
   "id": "06a50de5",
   "metadata": {
    "execution": {
     "iopub.execute_input": "2025-07-30T20:56:15.019785Z",
     "iopub.status.busy": "2025-07-30T20:56:15.019332Z",
     "iopub.status.idle": "2025-07-30T20:56:17.760550Z",
     "shell.execute_reply": "2025-07-30T20:56:17.759522Z"
    },
    "papermill": {
     "duration": 2.767758,
     "end_time": "2025-07-30T20:56:17.762234",
     "exception": false,
     "start_time": "2025-07-30T20:56:14.994476",
     "status": "completed"
    },
    "tags": []
   },
   "outputs": [],
   "source": [
    "example_universe = universe.copy()\n",
    "example_universe[\"cutoff\"] = example_universe[\"cutoff\"][0]\n",
    "example_universe[\"eval_fairness_grouping\"] = example_universe[\"eval_fairness_grouping\"][0]\n",
    "fairness_dict, metric_frame = universe_analysis.compute_metrics(\n",
    "    example_universe,\n",
    "    y_pred_prob=probs_test,\n",
    "    y_test=y_true,\n",
    "    org_test=org_test,\n",
    ")"
   ]
  },
  {
   "cell_type": "markdown",
   "id": "f95d4e02",
   "metadata": {
    "papermill": {
     "duration": 0.023626,
     "end_time": "2025-07-30T20:56:17.813375",
     "exception": false,
     "start_time": "2025-07-30T20:56:17.789749",
     "status": "completed"
    },
    "tags": []
   },
   "source": [
    "# Overall"
   ]
  },
  {
   "cell_type": "markdown",
   "id": "bdee4871",
   "metadata": {
    "papermill": {
     "duration": 0.023541,
     "end_time": "2025-07-30T20:56:17.860658",
     "exception": false,
     "start_time": "2025-07-30T20:56:17.837117",
     "status": "completed"
    },
    "tags": []
   },
   "source": [
    "Fairness\n",
    "Main fairness target: Equalized Odds. Seems to be a better fit than equal opportunity, since we're not only interested in Y = 1. Seems to be a better fit than demographic parity, since we also care about accuracy, not just equal distribution of preds.\n",
    "\n",
    "Pick column for computation of fairness metrics\n",
    "\n",
    "Performance\n",
    "Overall performance measures, most interesting in relation to the measures split by group below"
   ]
  },
  {
   "cell_type": "code",
   "execution_count": 74,
   "id": "c4e067c6",
   "metadata": {
    "execution": {
     "iopub.execute_input": "2025-07-30T20:56:17.909457Z",
     "iopub.status.busy": "2025-07-30T20:56:17.908722Z",
     "iopub.status.idle": "2025-07-30T20:56:17.917783Z",
     "shell.execute_reply": "2025-07-30T20:56:17.916814Z"
    },
    "papermill": {
     "duration": 0.035023,
     "end_time": "2025-07-30T20:56:17.919194",
     "exception": false,
     "start_time": "2025-07-30T20:56:17.884171",
     "status": "completed"
    },
    "tags": []
   },
   "outputs": [
    {
     "data": {
      "text/plain": [
       "accuracy                   0.219474\n",
       "balanced accuracy          0.537670\n",
       "f1                         0.240940\n",
       "precision                  0.137641\n",
       "false positive rate        0.890335\n",
       "false negative rate        0.034324\n",
       "selection rate             0.900000\n",
       "count                  89710.000000\n",
       "dtype: float64"
      ]
     },
     "execution_count": 74,
     "metadata": {},
     "output_type": "execute_result"
    }
   ],
   "source": [
    "metric_frame.overall"
   ]
  },
  {
   "cell_type": "markdown",
   "id": "e968fe9d",
   "metadata": {
    "papermill": {
     "duration": 0.023531,
     "end_time": "2025-07-30T20:56:17.967094",
     "exception": false,
     "start_time": "2025-07-30T20:56:17.943563",
     "status": "completed"
    },
    "tags": []
   },
   "source": [
    "By Group"
   ]
  },
  {
   "cell_type": "code",
   "execution_count": 75,
   "id": "ec325bce",
   "metadata": {
    "execution": {
     "iopub.execute_input": "2025-07-30T20:56:18.016459Z",
     "iopub.status.busy": "2025-07-30T20:56:18.015697Z",
     "iopub.status.idle": "2025-07-30T20:56:18.033061Z",
     "shell.execute_reply": "2025-07-30T20:56:18.031909Z"
    },
    "papermill": {
     "duration": 0.043765,
     "end_time": "2025-07-30T20:56:18.034724",
     "exception": false,
     "start_time": "2025-07-30T20:56:17.990959",
     "status": "completed"
    },
    "tags": []
   },
   "outputs": [
    {
     "data": {
      "text/html": [
       "<div>\n",
       "<style scoped>\n",
       "    .dataframe tbody tr th:only-of-type {\n",
       "        vertical-align: middle;\n",
       "    }\n",
       "\n",
       "    .dataframe tbody tr th {\n",
       "        vertical-align: top;\n",
       "    }\n",
       "\n",
       "    .dataframe thead th {\n",
       "        text-align: right;\n",
       "    }\n",
       "</style>\n",
       "<table border=\"1\" class=\"dataframe\">\n",
       "  <thead>\n",
       "    <tr style=\"text-align: right;\">\n",
       "      <th></th>\n",
       "      <th>accuracy</th>\n",
       "      <th>balanced accuracy</th>\n",
       "      <th>f1</th>\n",
       "      <th>precision</th>\n",
       "      <th>false positive rate</th>\n",
       "      <th>false negative rate</th>\n",
       "      <th>selection rate</th>\n",
       "      <th>count</th>\n",
       "    </tr>\n",
       "    <tr>\n",
       "      <th>majmin</th>\n",
       "      <th></th>\n",
       "      <th></th>\n",
       "      <th></th>\n",
       "      <th></th>\n",
       "      <th></th>\n",
       "      <th></th>\n",
       "      <th></th>\n",
       "      <th></th>\n",
       "    </tr>\n",
       "  </thead>\n",
       "  <tbody>\n",
       "    <tr>\n",
       "      <th>majority</th>\n",
       "      <td>0.241362</td>\n",
       "      <td>0.546371</td>\n",
       "      <td>0.250796</td>\n",
       "      <td>0.144218</td>\n",
       "      <td>0.868199</td>\n",
       "      <td>0.039059</td>\n",
       "      <td>0.880454</td>\n",
       "      <td>69170.0</td>\n",
       "    </tr>\n",
       "    <tr>\n",
       "      <th>minority</th>\n",
       "      <td>0.145764</td>\n",
       "      <td>0.510246</td>\n",
       "      <td>0.209853</td>\n",
       "      <td>0.117451</td>\n",
       "      <td>0.963460</td>\n",
       "      <td>0.016047</td>\n",
       "      <td>0.965823</td>\n",
       "      <td>20540.0</td>\n",
       "    </tr>\n",
       "  </tbody>\n",
       "</table>\n",
       "</div>"
      ],
      "text/plain": [
       "          accuracy  balanced accuracy        f1  precision  \\\n",
       "majmin                                                       \n",
       "majority  0.241362           0.546371  0.250796   0.144218   \n",
       "minority  0.145764           0.510246  0.209853   0.117451   \n",
       "\n",
       "          false positive rate  false negative rate  selection rate    count  \n",
       "majmin                                                                       \n",
       "majority             0.868199             0.039059        0.880454  69170.0  \n",
       "minority             0.963460             0.016047        0.965823  20540.0  "
      ]
     },
     "execution_count": 75,
     "metadata": {},
     "output_type": "execute_result"
    }
   ],
   "source": [
    "metric_frame.by_group"
   ]
  },
  {
   "cell_type": "code",
   "execution_count": 76,
   "id": "a9ddbe63",
   "metadata": {
    "execution": {
     "iopub.execute_input": "2025-07-30T20:56:18.085253Z",
     "iopub.status.busy": "2025-07-30T20:56:18.084665Z",
     "iopub.status.idle": "2025-07-30T20:56:20.417928Z",
     "shell.execute_reply": "2025-07-30T20:56:20.417009Z"
    },
    "papermill": {
     "duration": 2.359967,
     "end_time": "2025-07-30T20:56:20.419547",
     "exception": false,
     "start_time": "2025-07-30T20:56:18.059580",
     "status": "completed"
    },
    "tags": []
   },
   "outputs": [
    {
     "data": {
      "text/plain": [
       "array([[<Axes: title={'center': 'accuracy'}, xlabel='majmin'>,\n",
       "        <Axes: title={'center': 'balanced accuracy'}, xlabel='majmin'>,\n",
       "        <Axes: title={'center': 'f1'}, xlabel='majmin'>],\n",
       "       [<Axes: title={'center': 'precision'}, xlabel='majmin'>,\n",
       "        <Axes: title={'center': 'false positive rate'}, xlabel='majmin'>,\n",
       "        <Axes: title={'center': 'false negative rate'}, xlabel='majmin'>],\n",
       "       [<Axes: title={'center': 'selection rate'}, xlabel='majmin'>,\n",
       "        <Axes: title={'center': 'count'}, xlabel='majmin'>,\n",
       "        <Axes: xlabel='majmin'>]], dtype=object)"
      ]
     },
     "execution_count": 76,
     "metadata": {},
     "output_type": "execute_result"
    },
    {
     "data": {
      "image/png": "[encoded data removed]",
      "text/plain": [
       "<Figure size 1200x800 with 9 Axes>"
      ]
     },
     "metadata": {},
     "output_type": "display_data"
    }
   ],
   "source": [
    "# In a graphic\n",
    "metric_frame.by_group.plot.bar(\n",
    "    subplots=True,\n",
    "    layout=[3, 3],\n",
    "    legend=False,\n",
    "    figsize=[12, 8],\n",
    "    title=\"Show all metrics\",\n",
    ")"
   ]
  },
  {
   "cell_type": "markdown",
   "id": "f57a0bac",
   "metadata": {
    "papermill": {
     "duration": 0.025821,
     "end_time": "2025-07-30T20:56:20.471837",
     "exception": false,
     "start_time": "2025-07-30T20:56:20.446016",
     "status": "completed"
    },
    "tags": []
   },
   "source": [
    "# Final Output"
   ]
  },
  {
   "cell_type": "code",
   "execution_count": 77,
   "id": "96d280a3",
   "metadata": {
    "execution": {
     "iopub.execute_input": "2025-07-30T20:56:20.525021Z",
     "iopub.status.busy": "2025-07-30T20:56:20.523981Z",
     "iopub.status.idle": "2025-07-30T20:56:20.532209Z",
     "shell.execute_reply": "2025-07-30T20:56:20.531351Z"
    },
    "papermill": {
     "duration": 0.036434,
     "end_time": "2025-07-30T20:56:20.533667",
     "exception": false,
     "start_time": "2025-07-30T20:56:20.497233",
     "status": "completed"
    },
    "tags": []
   },
   "outputs": [
    {
     "data": {
      "text/plain": [
       "4"
      ]
     },
     "execution_count": 77,
     "metadata": {},
     "output_type": "execute_result"
    }
   ],
   "source": [
    "sub_universes = universe_analysis.generate_sub_universes()\n",
    "len(sub_universes)"
   ]
  },
  {
   "cell_type": "code",
   "execution_count": 78,
   "id": "92adf7ba",
   "metadata": {
    "execution": {
     "iopub.execute_input": "2025-07-30T20:56:20.587207Z",
     "iopub.status.busy": "2025-07-30T20:56:20.586471Z",
     "iopub.status.idle": "2025-07-30T20:56:20.592413Z",
     "shell.execute_reply": "2025-07-30T20:56:20.591468Z"
    },
    "papermill": {
     "duration": 0.034593,
     "end_time": "2025-07-30T20:56:20.594030",
     "exception": false,
     "start_time": "2025-07-30T20:56:20.559437",
     "status": "completed"
    },
    "tags": []
   },
   "outputs": [],
   "source": [
    "def filter_sub_universe_data(sub_universe, org_test):\n",
    "    # Keep all rows — no filtering\n",
    "    keep_rows_mask = np.ones(org_test.shape[0], dtype=bool)\n",
    "\n",
    "    print(f\"[INFO] Keeping all rows: {keep_rows_mask.sum()} rows retained.\")\n",
    "    return keep_rows_mask"
   ]
  },
  {
   "cell_type": "code",
   "execution_count": 79,
   "id": "4a759155",
   "metadata": {
    "execution": {
     "iopub.execute_input": "2025-07-30T20:56:20.647996Z",
     "iopub.status.busy": "2025-07-30T20:56:20.647587Z",
     "iopub.status.idle": "2025-07-30T20:56:32.020300Z",
     "shell.execute_reply": "2025-07-30T20:56:32.019456Z"
    },
    "papermill": {
     "duration": 11.401063,
     "end_time": "2025-07-30T20:56:32.021782",
     "exception": false,
     "start_time": "2025-07-30T20:56:20.620719",
     "status": "completed"
    },
    "tags": []
   },
   "outputs": [
    {
     "name": "stdout",
     "output_type": "stream",
     "text": [
      "Stopping execution_time clock.\n",
      "[INFO] Keeping all rows: 89710 rows retained.\n"
     ]
    },
    {
     "name": "stdout",
     "output_type": "stream",
     "text": [
      "[INFO] Keeping all rows: 89710 rows retained.\n"
     ]
    },
    {
     "name": "stdout",
     "output_type": "stream",
     "text": [
      "[INFO] Keeping all rows: 89710 rows retained.\n"
     ]
    },
    {
     "name": "stdout",
     "output_type": "stream",
     "text": [
      "[INFO] Keeping all rows: 89710 rows retained.\n"
     ]
    },
    {
     "data": {
      "text/html": [
       "<div>\n",
       "<style scoped>\n",
       "    .dataframe tbody tr th:only-of-type {\n",
       "        vertical-align: middle;\n",
       "    }\n",
       "\n",
       "    .dataframe tbody tr th {\n",
       "        vertical-align: top;\n",
       "    }\n",
       "\n",
       "    .dataframe thead th {\n",
       "        text-align: right;\n",
       "    }\n",
       "</style>\n",
       "<table border=\"1\" class=\"dataframe\">\n",
       "  <thead>\n",
       "    <tr style=\"text-align: right;\">\n",
       "      <th></th>\n",
       "      <th>run_no</th>\n",
       "      <th>universe_id</th>\n",
       "      <th>universe_settings</th>\n",
       "      <th>execution_time</th>\n",
       "      <th>test_size_n</th>\n",
       "      <th>test_size_frac</th>\n",
       "      <th>fair_main_equalized_odds_difference</th>\n",
       "      <th>fair_main_equalized_odds_ratio</th>\n",
       "      <th>fair_main_demographic_parity_difference</th>\n",
       "      <th>fair_main_demographic_parity_ratio</th>\n",
       "      <th>...</th>\n",
       "      <th>perf_grp_precision_0</th>\n",
       "      <th>perf_grp_precision_1</th>\n",
       "      <th>perf_grp_false positive rate_0</th>\n",
       "      <th>perf_grp_false positive rate_1</th>\n",
       "      <th>perf_grp_false negative rate_0</th>\n",
       "      <th>perf_grp_false negative rate_1</th>\n",
       "      <th>perf_grp_selection rate_0</th>\n",
       "      <th>perf_grp_selection rate_1</th>\n",
       "      <th>perf_grp_count_0</th>\n",
       "      <th>perf_grp_count_1</th>\n",
       "    </tr>\n",
       "  </thead>\n",
       "  <tbody>\n",
       "    <tr>\n",
       "      <th>0</th>\n",
       "      <td>14</td>\n",
       "      <td>1cfbf75a5d0af05d3a3293c380ec3125</td>\n",
       "      <td>{\"cutoff\": \"quantile_0.1\", \"eval_fairness_grou...</td>\n",
       "      <td>102.618808</td>\n",
       "      <td>89710</td>\n",
       "      <td>1.0</td>\n",
       "      <td>0.095261</td>\n",
       "      <td>0.901126</td>\n",
       "      <td>0.085369</td>\n",
       "      <td>0.911610</td>\n",
       "      <td>...</td>\n",
       "      <td>NaN</td>\n",
       "      <td>NaN</td>\n",
       "      <td>NaN</td>\n",
       "      <td>NaN</td>\n",
       "      <td>NaN</td>\n",
       "      <td>NaN</td>\n",
       "      <td>NaN</td>\n",
       "      <td>NaN</td>\n",
       "      <td>NaN</td>\n",
       "      <td>NaN</td>\n",
       "    </tr>\n",
       "    <tr>\n",
       "      <th>0</th>\n",
       "      <td>14</td>\n",
       "      <td>1cfbf75a5d0af05d3a3293c380ec3125</td>\n",
       "      <td>{\"cutoff\": \"quantile_0.1\", \"eval_fairness_grou...</td>\n",
       "      <td>102.618808</td>\n",
       "      <td>89710</td>\n",
       "      <td>1.0</td>\n",
       "      <td>0.095261</td>\n",
       "      <td>0.901126</td>\n",
       "      <td>0.085369</td>\n",
       "      <td>0.911610</td>\n",
       "      <td>...</td>\n",
       "      <td>0.117451</td>\n",
       "      <td>0.144218</td>\n",
       "      <td>0.963460</td>\n",
       "      <td>0.868199</td>\n",
       "      <td>0.016047</td>\n",
       "      <td>0.039059</td>\n",
       "      <td>0.965823</td>\n",
       "      <td>0.880454</td>\n",
       "      <td>20540.0</td>\n",
       "      <td>69170.0</td>\n",
       "    </tr>\n",
       "    <tr>\n",
       "      <th>0</th>\n",
       "      <td>14</td>\n",
       "      <td>1cfbf75a5d0af05d3a3293c380ec3125</td>\n",
       "      <td>{\"cutoff\": \"quantile_0.25\", \"eval_fairness_gro...</td>\n",
       "      <td>102.618808</td>\n",
       "      <td>89710</td>\n",
       "      <td>1.0</td>\n",
       "      <td>0.214757</td>\n",
       "      <td>0.759650</td>\n",
       "      <td>0.194487</td>\n",
       "      <td>0.783892</td>\n",
       "      <td>...</td>\n",
       "      <td>NaN</td>\n",
       "      <td>NaN</td>\n",
       "      <td>NaN</td>\n",
       "      <td>NaN</td>\n",
       "      <td>NaN</td>\n",
       "      <td>NaN</td>\n",
       "      <td>NaN</td>\n",
       "      <td>NaN</td>\n",
       "      <td>NaN</td>\n",
       "      <td>NaN</td>\n",
       "    </tr>\n",
       "    <tr>\n",
       "      <th>0</th>\n",
       "      <td>14</td>\n",
       "      <td>1cfbf75a5d0af05d3a3293c380ec3125</td>\n",
       "      <td>{\"cutoff\": \"quantile_0.25\", \"eval_fairness_gro...</td>\n",
       "      <td>102.618808</td>\n",
       "      <td>89710</td>\n",
       "      <td>1.0</td>\n",
       "      <td>0.214757</td>\n",
       "      <td>0.759650</td>\n",
       "      <td>0.194487</td>\n",
       "      <td>0.783892</td>\n",
       "      <td>...</td>\n",
       "      <td>0.121612</td>\n",
       "      <td>0.164990</td>\n",
       "      <td>0.893517</td>\n",
       "      <td>0.678761</td>\n",
       "      <td>0.050676</td>\n",
       "      <td>0.119147</td>\n",
       "      <td>0.899951</td>\n",
       "      <td>0.705465</td>\n",
       "      <td>20540.0</td>\n",
       "      <td>69170.0</td>\n",
       "    </tr>\n",
       "  </tbody>\n",
       "</table>\n",
       "<p>4 rows × 50 columns</p>\n",
       "</div>"
      ],
      "text/plain": [
       "  run_no                       universe_id  \\\n",
       "0     14  1cfbf75a5d0af05d3a3293c380ec3125   \n",
       "0     14  1cfbf75a5d0af05d3a3293c380ec3125   \n",
       "0     14  1cfbf75a5d0af05d3a3293c380ec3125   \n",
       "0     14  1cfbf75a5d0af05d3a3293c380ec3125   \n",
       "\n",
       "                                   universe_settings  execution_time  \\\n",
       "0  {\"cutoff\": \"quantile_0.1\", \"eval_fairness_grou...      102.618808   \n",
       "0  {\"cutoff\": \"quantile_0.1\", \"eval_fairness_grou...      102.618808   \n",
       "0  {\"cutoff\": \"quantile_0.25\", \"eval_fairness_gro...      102.618808   \n",
       "0  {\"cutoff\": \"quantile_0.25\", \"eval_fairness_gro...      102.618808   \n",
       "\n",
       "   test_size_n  test_size_frac  fair_main_equalized_odds_difference  \\\n",
       "0        89710             1.0                             0.095261   \n",
       "0        89710             1.0                             0.095261   \n",
       "0        89710             1.0                             0.214757   \n",
       "0        89710             1.0                             0.214757   \n",
       "\n",
       "   fair_main_equalized_odds_ratio  fair_main_demographic_parity_difference  \\\n",
       "0                        0.901126                                 0.085369   \n",
       "0                        0.901126                                 0.085369   \n",
       "0                        0.759650                                 0.194487   \n",
       "0                        0.759650                                 0.194487   \n",
       "\n",
       "   fair_main_demographic_parity_ratio  ...  perf_grp_precision_0  \\\n",
       "0                            0.911610  ...                   NaN   \n",
       "0                            0.911610  ...              0.117451   \n",
       "0                            0.783892  ...                   NaN   \n",
       "0                            0.783892  ...              0.121612   \n",
       "\n",
       "   perf_grp_precision_1  perf_grp_false positive rate_0  \\\n",
       "0                   NaN                             NaN   \n",
       "0              0.144218                        0.963460   \n",
       "0                   NaN                             NaN   \n",
       "0              0.164990                        0.893517   \n",
       "\n",
       "   perf_grp_false positive rate_1  perf_grp_false negative rate_0  \\\n",
       "0                             NaN                             NaN   \n",
       "0                        0.868199                        0.016047   \n",
       "0                             NaN                             NaN   \n",
       "0                        0.678761                        0.050676   \n",
       "\n",
       "   perf_grp_false negative rate_1  perf_grp_selection rate_0  \\\n",
       "0                             NaN                        NaN   \n",
       "0                        0.039059                   0.965823   \n",
       "0                             NaN                        NaN   \n",
       "0                        0.119147                   0.899951   \n",
       "\n",
       "   perf_grp_selection rate_1  perf_grp_count_0  perf_grp_count_1  \n",
       "0                        NaN               NaN               NaN  \n",
       "0                   0.880454           20540.0           69170.0  \n",
       "0                        NaN               NaN               NaN  \n",
       "0                   0.705465           20540.0           69170.0  \n",
       "\n",
       "[4 rows x 50 columns]"
      ]
     },
     "execution_count": 79,
     "metadata": {},
     "output_type": "execute_result"
    }
   ],
   "source": [
    "final_output = universe_analysis.generate_final_output(\n",
    "    y_pred_prob=probs_test,\n",
    "    y_test=y_true,\n",
    "    org_test=org_test,\n",
    "    filter_data=filter_sub_universe_data,\n",
    "    cp_metrics_df=cp_metrics_df,\n",
    "    save=True,\n",
    ")\n",
    "final_output"
   ]
  },
  {
   "cell_type": "code",
   "execution_count": null,
   "id": "721ff514-cb11-46f8-b6fc-50392f74b5cb",
   "metadata": {
    "papermill": {
     "duration": 0.028988,
     "end_time": "2025-07-30T20:56:32.082396",
     "exception": false,
     "start_time": "2025-07-30T20:56:32.053408",
     "status": "completed"
    },
    "tags": []
   },
   "outputs": [],
   "source": []
  }
 ],
 "metadata": {
  "celltoolbar": "Tags",
  "kernelspec": {
   "display_name": "Python (CMA Fairness)",
   "language": "python",
   "name": "cma_fair_env"
  },
  "language_info": {
   "codemirror_mode": {
    "name": "ipython",
    "version": 3
   },
   "file_extension": ".py",
   "mimetype": "text/x-python",
   "name": "python",
   "nbconvert_exporter": "python",
   "pygments_lexer": "ipython3",
   "version": "3.10.12"
  },
  "papermill": {
   "default_parameters": {},
   "duration": 118.175301,
   "end_time": "2025-07-30T20:56:32.833514",
   "environment_variables": {},
   "exception": null,
   "input_path": "universe_analysis.ipynb",
   "output_path": "output/runs/14/notebooks/m_14-1cfbf75a5d0af05d3a3293c380ec3125.ipynb",
   "parameters": {
    "output_dir": "output",
    "run_no": "14",
    "seed": "2023",
    "universe": "{\"cutoff\": [\"quantile_0.1\", \"quantile_0.25\"], \"eval_fairness_grouping\": [\"majority-minority\", \"nationality-all\"], \"exclude_features\": \"none\", \"exclude_subgroups\": \"drop-non-german\", \"model\": \"elasticnet\", \"scale\": \"do-not-scale\", \"training_size\": \"5k\", \"training_year\": \"2014\"}",
    "universe_id": "1cfbf75a5d0af05d3a3293c380ec3125"
   },
   "start_time": "2025-07-30T20:54:34.658213",
   "version": "2.6.0"
  }
 },
 "nbformat": 4,
 "nbformat_minor": 5
}