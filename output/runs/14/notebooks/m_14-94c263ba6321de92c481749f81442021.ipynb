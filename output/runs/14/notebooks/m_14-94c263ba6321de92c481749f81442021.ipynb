{
 "cells": [
  {
   "cell_type": "code",
   "execution_count": 1,
   "id": "f159f837-637b-42ba-96b5-ec9a68c44524",
   "metadata": {
    "execution": {
     "iopub.execute_input": "2025-07-30T21:06:09.552953Z",
     "iopub.status.busy": "2025-07-30T21:06:09.552480Z",
     "iopub.status.idle": "2025-07-30T21:06:09.566236Z",
     "shell.execute_reply": "2025-07-30T21:06:09.565292Z"
    },
    "papermill": {
     "duration": 0.036642,
     "end_time": "2025-07-30T21:06:09.568024",
     "exception": false,
     "start_time": "2025-07-30T21:06:09.531382",
     "status": "completed"
    },
    "tags": []
   },
   "outputs": [
    {
     "name": "stdout",
     "output_type": "stream",
     "text": [
      "/dss/dsshome1/0C/ra93lal2/cma/CMA_Fairness_v2\n"
     ]
    },
    {
     "name": "stderr",
     "output_type": "stream",
     "text": [
      "/dss/dsshome1/0C/ra93lal2/.local/share/virtualenvs/CMA_Fairness_v2-3j10GkSs/lib/python3.10/site-packages/IPython/core/magics/osm.py:393: UserWarning: This is now an optional IPython functionality, using bookmarks requires you to install the `pickleshare` library.\n",
      "  bkms = self.shell.db.get('bookmarks', {})\n",
      "/dss/dsshome1/0C/ra93lal2/.local/share/virtualenvs/CMA_Fairness_v2-3j10GkSs/lib/python3.10/site-packages/IPython/core/magics/osm.py:417: UserWarning: This is now an optional IPython functionality, setting dhist requires you to install the `pickleshare` library.\n",
      "  self.shell.db['dhist'] = compress_dhist(dhist)[-100:]\n"
     ]
    }
   ],
   "source": [
    "%cd ~/cma/CMA_Fairness_v2"
   ]
  },
  {
   "cell_type": "markdown",
   "id": "de2603b9",
   "metadata": {
    "papermill": {
     "duration": 0.01963,
     "end_time": "2025-07-30T21:06:09.608487",
     "exception": false,
     "start_time": "2025-07-30T21:06:09.588857",
     "status": "completed"
    },
    "tags": []
   },
   "source": [
    "The following cell holds the definition of our parameters, these values can be overriden by rendering the with e.g. the following command:\n",
    "\n",
    "papermill -p alpha 0.2 -p ratio 0.3 universe_analysis.ipynb output/test_run.ipynb"
   ]
  },
  {
   "cell_type": "code",
   "execution_count": 2,
   "id": "a80968a0-40bb-4fa9-85ef-2d5eefb01975",
   "metadata": {
    "execution": {
     "iopub.execute_input": "2025-07-30T21:06:09.650027Z",
     "iopub.status.busy": "2025-07-30T21:06:09.649328Z",
     "iopub.status.idle": "2025-07-30T21:06:09.655360Z",
     "shell.execute_reply": "2025-07-30T21:06:09.654364Z"
    },
    "papermill": {
     "duration": 0.028987,
     "end_time": "2025-07-30T21:06:09.657104",
     "exception": false,
     "start_time": "2025-07-30T21:06:09.628117",
     "status": "completed"
    },
    "tags": []
   },
   "outputs": [
    {
     "name": "stdout",
     "output_type": "stream",
     "text": [
      "Current working directory: /dss/dsshome1/0C/ra93lal2/cma/CMA_Fairness_v2\n"
     ]
    }
   ],
   "source": [
    "import os\n",
    "print(\"Current working directory:\", os.getcwd())"
   ]
  },
  {
   "cell_type": "code",
   "execution_count": 3,
   "id": "2dce4c03",
   "metadata": {
    "execution": {
     "iopub.execute_input": "2025-07-30T21:06:09.698147Z",
     "iopub.status.busy": "2025-07-30T21:06:09.697581Z",
     "iopub.status.idle": "2025-07-30T21:06:09.703995Z",
     "shell.execute_reply": "2025-07-30T21:06:09.702982Z"
    },
    "papermill": {
     "duration": 0.028863,
     "end_time": "2025-07-30T21:06:09.705761",
     "exception": false,
     "start_time": "2025-07-30T21:06:09.676898",
     "status": "completed"
    },
    "tags": [
     "parameters"
    ]
   },
   "outputs": [],
   "source": [
    "run_no = 0\n",
    "universe_id = \"test\"\n",
    "universe = {\n",
    "    \"training_size\": \"25k\", # \"25k\", \"5k\", \"1k\"\n",
    "    \"training_year\": \"2014\", # \"2014\", \"2012_14\", \"2010_14\"\n",
    "    \"scale\": \"scale\", # \"scale\", \"do-not-scale\",\n",
    "    #\"stratify_split\": \"target\", # \"none\", \"target\", \"protected-attribute\", \"both\",\n",
    "    \"model\": \"elasticnet\", # \"logreg\", \"penalized_logreg\", \"rf\", \"gbm\", \"elasticnet\"\n",
    "    \"cutoff\": [\"quantile_0.15\", \"quantile_0.30\"],\n",
    "    \"exclude_features\": \"age\", # \"none\", \"nationality\", \"sex\", \"nationality-sex\", \"age\"\n",
    "    \"exclude_subgroups\": \"keep-all\", # \"keep-all\", \"drop-non-german\"\n",
    "    \"eval_fairness_grouping\": [\"majority-minority\", \"nationality-all\"]\n",
    "}\n",
    "\n",
    "output_dir=\"./output\"\n",
    "seed=0"
   ]
  },
  {
   "cell_type": "code",
   "execution_count": 4,
   "id": "861466b6",
   "metadata": {
    "execution": {
     "iopub.execute_input": "2025-07-30T21:06:09.748570Z",
     "iopub.status.busy": "2025-07-30T21:06:09.748095Z",
     "iopub.status.idle": "2025-07-30T21:06:09.753388Z",
     "shell.execute_reply": "2025-07-30T21:06:09.752397Z"
    },
    "papermill": {
     "duration": 0.028341,
     "end_time": "2025-07-30T21:06:09.755044",
     "exception": false,
     "start_time": "2025-07-30T21:06:09.726703",
     "status": "completed"
    },
    "tags": [
     "injected-parameters"
    ]
   },
   "outputs": [],
   "source": [
    "# Parameters\n",
    "universe_id = \"94c263ba6321de92c481749f81442021\"\n",
    "run_no = \"14\"\n",
    "universe = \"{\\\"cutoff\\\": [\\\"quantile_0.1\\\", \\\"quantile_0.25\\\"], \\\"eval_fairness_grouping\\\": [\\\"majority-minority\\\", \\\"nationality-all\\\"], \\\"exclude_features\\\": \\\"sex\\\", \\\"exclude_subgroups\\\": \\\"drop-non-german\\\", \\\"model\\\": \\\"gbm\\\", \\\"scale\\\": \\\"do-not-scale\\\", \\\"training_size\\\": \\\"5k\\\", \\\"training_year\\\": \\\"2012_14\\\"}\"\n",
    "output_dir = \"output\"\n",
    "seed = \"2023\"\n"
   ]
  },
  {
   "cell_type": "code",
   "execution_count": 5,
   "id": "1650acaf",
   "metadata": {
    "execution": {
     "iopub.execute_input": "2025-07-30T21:06:09.797450Z",
     "iopub.status.busy": "2025-07-30T21:06:09.796821Z",
     "iopub.status.idle": "2025-07-30T21:06:09.802372Z",
     "shell.execute_reply": "2025-07-30T21:06:09.801301Z"
    },
    "papermill": {
     "duration": 0.027988,
     "end_time": "2025-07-30T21:06:09.803895",
     "exception": false,
     "start_time": "2025-07-30T21:06:09.775907",
     "status": "completed"
    },
    "tags": []
   },
   "outputs": [],
   "source": [
    "import json\n",
    "# Parse universe into dict if it is passed as a string\n",
    "if isinstance(universe, str):\n",
    "    universe = json.loads(universe)"
   ]
  },
  {
   "cell_type": "code",
   "execution_count": 6,
   "id": "16620c48",
   "metadata": {
    "execution": {
     "iopub.execute_input": "2025-07-30T21:06:09.849823Z",
     "iopub.status.busy": "2025-07-30T21:06:09.849158Z",
     "iopub.status.idle": "2025-07-30T21:06:09.894604Z",
     "shell.execute_reply": "2025-07-30T21:06:09.893707Z"
    },
    "papermill": {
     "duration": 0.069136,
     "end_time": "2025-07-30T21:06:09.896860",
     "exception": false,
     "start_time": "2025-07-30T21:06:09.827724",
     "status": "completed"
    },
    "tags": []
   },
   "outputs": [],
   "source": [
    "# Auto-reload the custom package\n",
    "%load_ext autoreload\n",
    "%autoreload 1\n",
    "%aimport fairness_multiverse"
   ]
  },
  {
   "cell_type": "code",
   "execution_count": 7,
   "id": "01c5c9f3",
   "metadata": {
    "execution": {
     "iopub.execute_input": "2025-07-30T21:06:09.938933Z",
     "iopub.status.busy": "2025-07-30T21:06:09.938268Z",
     "iopub.status.idle": "2025-07-30T21:06:11.646944Z",
     "shell.execute_reply": "2025-07-30T21:06:11.645822Z"
    },
    "papermill": {
     "duration": 1.731775,
     "end_time": "2025-07-30T21:06:11.648937",
     "exception": false,
     "start_time": "2025-07-30T21:06:09.917162",
     "status": "completed"
    },
    "tags": []
   },
   "outputs": [],
   "source": [
    "from fairness_multiverse.universe import UniverseAnalysis\n",
    "\n",
    "universe_analysis = UniverseAnalysis(\n",
    "    run_no = run_no,\n",
    "    universe_id = universe_id,\n",
    "    universe = universe,\n",
    "    output_dir=output_dir,\n",
    ")"
   ]
  },
  {
   "cell_type": "code",
   "execution_count": 8,
   "id": "106241f5",
   "metadata": {
    "execution": {
     "iopub.execute_input": "2025-07-30T21:06:11.699454Z",
     "iopub.status.busy": "2025-07-30T21:06:11.698989Z",
     "iopub.status.idle": "2025-07-30T21:06:11.705584Z",
     "shell.execute_reply": "2025-07-30T21:06:11.704866Z"
    },
    "papermill": {
     "duration": 0.030082,
     "end_time": "2025-07-30T21:06:11.706782",
     "exception": false,
     "start_time": "2025-07-30T21:06:11.676700",
     "status": "completed"
    },
    "tags": []
   },
   "outputs": [
    {
     "name": "stdout",
     "output_type": "stream",
     "text": [
      "Using Seed: 2023\n"
     ]
    }
   ],
   "source": [
    "import numpy as np\n",
    "parsed_seed = int(seed)\n",
    "np.random.seed(parsed_seed)\n",
    "print(f\"Using Seed: {parsed_seed}\")"
   ]
  },
  {
   "cell_type": "markdown",
   "id": "e0ebdc57",
   "metadata": {
    "papermill": {
     "duration": 0.013713,
     "end_time": "2025-07-30T21:06:11.731756",
     "exception": false,
     "start_time": "2025-07-30T21:06:11.718043",
     "status": "completed"
    },
    "tags": []
   },
   "source": [
    "# Loading Data"
   ]
  },
  {
   "cell_type": "markdown",
   "id": "681925a3",
   "metadata": {
    "papermill": {
     "duration": 0.02036,
     "end_time": "2025-07-30T21:06:11.764537",
     "exception": false,
     "start_time": "2025-07-30T21:06:11.744177",
     "status": "completed"
    },
    "tags": []
   },
   "source": [
    "Load siab_train, siab_test, siab_calib and/or \n",
    "load siab_train_features, siab_train_labels"
   ]
  },
  {
   "cell_type": "code",
   "execution_count": 9,
   "id": "f0496b8a",
   "metadata": {
    "execution": {
     "iopub.execute_input": "2025-07-30T21:06:11.787125Z",
     "iopub.status.busy": "2025-07-30T21:06:11.786674Z",
     "iopub.status.idle": "2025-07-30T21:06:24.957795Z",
     "shell.execute_reply": "2025-07-30T21:06:24.956409Z"
    },
    "papermill": {
     "duration": 13.184098,
     "end_time": "2025-07-30T21:06:24.959548",
     "exception": false,
     "start_time": "2025-07-30T21:06:11.775450",
     "status": "completed"
    },
    "tags": []
   },
   "outputs": [
    {
     "name": "stdout",
     "output_type": "stream",
     "text": [
      "Loading SIAB data from cache: data/siab_cached.csv.gz\n"
     ]
    },
    {
     "name": "stdout",
     "output_type": "stream",
     "text": [
      "(643690, 164)\n"
     ]
    }
   ],
   "source": [
    "from pathlib import Path\n",
    "import pandas as pd\n",
    "\n",
    "# File paths\n",
    "raw_file = Path(\"data/raw/siab.csv\")\n",
    "cache_file = Path(\"data/siab_cached.csv.gz\")\n",
    "\n",
    "# Ensure cache directory exists\n",
    "cache_file.parent.mkdir(parents=True, exist_ok=True)\n",
    "\n",
    "# Load with simple caching\n",
    "if cache_file.exists():\n",
    "    print(f\"Loading SIAB data from cache: {cache_file}\")\n",
    "    siab = pd.read_csv(cache_file, compression='gzip')\n",
    "else:\n",
    "    print(f\"Cache not found. Reading raw SIAB data: {raw_file}\")\n",
    "    siab = pd.read_csv(raw_file)\n",
    "    siab.to_csv(cache_file, index=False, compression='gzip')\n",
    "    print(f\"Cached SIAB data to: {cache_file}\")\n",
    "\n",
    "# Now use `siab` DataFrame as needed\n",
    "print(siab.shape)"
   ]
  },
  {
   "cell_type": "code",
   "execution_count": 10,
   "id": "db0ca512-5f53-4dba-abdb-a2888bca41ba",
   "metadata": {
    "execution": {
     "iopub.execute_input": "2025-07-30T21:06:25.003283Z",
     "iopub.status.busy": "2025-07-30T21:06:25.002437Z",
     "iopub.status.idle": "2025-07-30T21:06:25.008601Z",
     "shell.execute_reply": "2025-07-30T21:06:25.007423Z"
    },
    "papermill": {
     "duration": 0.027698,
     "end_time": "2025-07-30T21:06:25.010281",
     "exception": false,
     "start_time": "2025-07-30T21:06:24.982583",
     "status": "completed"
    },
    "tags": []
   },
   "outputs": [],
   "source": [
    "#siab"
   ]
  },
  {
   "cell_type": "code",
   "execution_count": 11,
   "id": "a0edb063",
   "metadata": {
    "execution": {
     "iopub.execute_input": "2025-07-30T21:06:25.051393Z",
     "iopub.status.busy": "2025-07-30T21:06:25.050922Z",
     "iopub.status.idle": "2025-07-30T21:06:25.059844Z",
     "shell.execute_reply": "2025-07-30T21:06:25.058917Z"
    },
    "papermill": {
     "duration": 0.031145,
     "end_time": "2025-07-30T21:06:25.061461",
     "exception": false,
     "start_time": "2025-07-30T21:06:25.030316",
     "status": "completed"
    },
    "tags": []
   },
   "outputs": [],
   "source": [
    "#import pandas as pd\n",
    "#\n",
    "#X_train = pd.read_csv(\"./data/X_train.csv\")\n",
    "#y_train = pd.read_csv(\"./data/y_train.csv\")"
   ]
  },
  {
   "cell_type": "code",
   "execution_count": 12,
   "id": "63d08085",
   "metadata": {
    "execution": {
     "iopub.execute_input": "2025-07-30T21:06:25.101732Z",
     "iopub.status.busy": "2025-07-30T21:06:25.101150Z",
     "iopub.status.idle": "2025-07-30T21:06:25.126512Z",
     "shell.execute_reply": "2025-07-30T21:06:25.125483Z"
    },
    "papermill": {
     "duration": 0.056329,
     "end_time": "2025-07-30T21:06:25.137136",
     "exception": false,
     "start_time": "2025-07-30T21:06:25.080807",
     "status": "completed"
    },
    "tags": []
   },
   "outputs": [],
   "source": [
    "#X_test = pd.read_csv(\"./data/X_test.csv\")\n",
    "#y_true = pd.read_csv(\"./data/y_test.csv\")"
   ]
  },
  {
   "cell_type": "code",
   "execution_count": 13,
   "id": "98a8d0fa-1d3d-4ed8-bb2c-281470e24add",
   "metadata": {
    "execution": {
     "iopub.execute_input": "2025-07-30T21:06:25.198678Z",
     "iopub.status.busy": "2025-07-30T21:06:25.197978Z",
     "iopub.status.idle": "2025-07-30T21:06:25.203334Z",
     "shell.execute_reply": "2025-07-30T21:06:25.202303Z"
    },
    "papermill": {
     "duration": 0.031671,
     "end_time": "2025-07-30T21:06:25.207099",
     "exception": false,
     "start_time": "2025-07-30T21:06:25.175428",
     "status": "completed"
    },
    "tags": []
   },
   "outputs": [],
   "source": [
    "# Calibration data for conformal\n",
    "#X_calib = pd.read_csv(\"./data/X_calib.csv\")\n",
    "#y_calib = pd.read_csv(\"./data/y_calib.csv\")"
   ]
  },
  {
   "cell_type": "markdown",
   "id": "997051c5-15bd-4b69-9786-c3001a3ce484",
   "metadata": {
    "papermill": {
     "duration": 0.020444,
     "end_time": "2025-07-30T21:06:25.250289",
     "exception": false,
     "start_time": "2025-07-30T21:06:25.229845",
     "status": "completed"
    },
    "tags": []
   },
   "source": [
    "# Splitting Data and Setting Training Data Size"
   ]
  },
  {
   "cell_type": "code",
   "execution_count": 14,
   "id": "e993b61f-042d-41a6-8c81-f55681f86335",
   "metadata": {
    "execution": {
     "iopub.execute_input": "2025-07-30T21:06:25.293870Z",
     "iopub.status.busy": "2025-07-30T21:06:25.293368Z",
     "iopub.status.idle": "2025-07-30T21:06:25.307374Z",
     "shell.execute_reply": "2025-07-30T21:06:25.306304Z"
    },
    "papermill": {
     "duration": 0.037344,
     "end_time": "2025-07-30T21:06:25.309205",
     "exception": false,
     "start_time": "2025-07-30T21:06:25.271861",
     "status": "completed"
    },
    "tags": []
   },
   "outputs": [],
   "source": [
    "def sample_by_year_size(df,\n",
    "                        training_year: str,\n",
    "                        training_size: str,\n",
    "                        random_state: int = 42):\n",
    "    # --- parse training_year into a list of int years ---\n",
    "    if \"_\" in training_year:\n",
    "        start_str, end_str = training_year.split(\"_\", 1)\n",
    "        start = int(start_str)\n",
    "        end   = int(end_str) if len(end_str) == 4 else (int(end_str) + (start // 100)*100)\n",
    "        years = list(range(start, end + 1))\n",
    "    else:\n",
    "        years = [int(training_year)]\n",
    "\n",
    "    df = df[df[\"year\"].isin(years)].reset_index(drop=True)\n",
    "\n",
    "    # --- map training_size to total number of samples ---\n",
    "    total_map = {\"25k\": 25_000, \"5k\": 5_000, \"1k\": 1_000}\n",
    "    if training_size not in total_map:\n",
    "        return df  # e.g. \"all\"\n",
    "\n",
    "    total_samples = total_map[training_size]\n",
    "    n_years       = len(years)\n",
    "    base          = total_samples // n_years\n",
    "    remainder     = total_samples % n_years\n",
    "\n",
    "    # --- build a dict: year -> how many to sample ---\n",
    "    # give +1 to the first `remainder` years in ascending order\n",
    "    quotas = {\n",
    "        year: base + (1 if idx < remainder else 0)\n",
    "        for idx, year in enumerate(sorted(years))\n",
    "    }\n",
    "\n",
    "    # --- sample per‐year according to the quota dict ---\n",
    "    sampled = (\n",
    "        df\n",
    "        .groupby(\"year\", group_keys=False)\n",
    "        .apply(lambda grp: grp.sample(\n",
    "            n=min(len(grp), quotas[grp.name]),\n",
    "            random_state=random_state))\n",
    "        .reset_index(drop=True)\n",
    "    )\n",
    "\n",
    "    return sampled"
   ]
  },
  {
   "cell_type": "code",
   "execution_count": 15,
   "id": "c0ccd338-0e02-41f3-a09d-f56f9266e3fb",
   "metadata": {
    "execution": {
     "iopub.execute_input": "2025-07-30T21:06:25.365251Z",
     "iopub.status.busy": "2025-07-30T21:06:25.364768Z",
     "iopub.status.idle": "2025-07-30T21:06:25.370074Z",
     "shell.execute_reply": "2025-07-30T21:06:25.369099Z"
    },
    "papermill": {
     "duration": 0.04047,
     "end_time": "2025-07-30T21:06:25.371908",
     "exception": false,
     "start_time": "2025-07-30T21:06:25.331438",
     "status": "completed"
    },
    "tags": []
   },
   "outputs": [],
   "source": [
    "#universe[\"training_size\"]"
   ]
  },
  {
   "cell_type": "code",
   "execution_count": 16,
   "id": "ca707fd7-8047-4acd-bfa5-66248fbbf8e6",
   "metadata": {
    "execution": {
     "iopub.execute_input": "2025-07-30T21:06:25.416908Z",
     "iopub.status.busy": "2025-07-30T21:06:25.416068Z",
     "iopub.status.idle": "2025-07-30T21:06:25.421065Z",
     "shell.execute_reply": "2025-07-30T21:06:25.420019Z"
    },
    "papermill": {
     "duration": 0.028304,
     "end_time": "2025-07-30T21:06:25.422938",
     "exception": false,
     "start_time": "2025-07-30T21:06:25.394634",
     "status": "completed"
    },
    "tags": []
   },
   "outputs": [],
   "source": [
    "#universe[\"training_year\"]"
   ]
  },
  {
   "cell_type": "code",
   "execution_count": 17,
   "id": "aea9c6ef-6f46-42c8-85eb-5a62025c1508",
   "metadata": {
    "execution": {
     "iopub.execute_input": "2025-07-30T21:06:25.481260Z",
     "iopub.status.busy": "2025-07-30T21:06:25.480768Z",
     "iopub.status.idle": "2025-07-30T21:06:26.088268Z",
     "shell.execute_reply": "2025-07-30T21:06:26.087360Z"
    },
    "papermill": {
     "duration": 0.645796,
     "end_time": "2025-07-30T21:06:26.090196",
     "exception": false,
     "start_time": "2025-07-30T21:06:25.444400",
     "status": "completed"
    },
    "tags": []
   },
   "outputs": [],
   "source": [
    "siab_train = sample_by_year_size(siab,\n",
    "                               training_year=universe[\"training_year\"],\n",
    "                               training_size=universe[\"training_size\"])"
   ]
  },
  {
   "cell_type": "code",
   "execution_count": 18,
   "id": "8d3afb32-789d-442c-8d5d-9f5aa8dd2eed",
   "metadata": {
    "execution": {
     "iopub.execute_input": "2025-07-30T21:06:26.121424Z",
     "iopub.status.busy": "2025-07-30T21:06:26.120993Z",
     "iopub.status.idle": "2025-07-30T21:06:26.126047Z",
     "shell.execute_reply": "2025-07-30T21:06:26.125250Z"
    },
    "papermill": {
     "duration": 0.018068,
     "end_time": "2025-07-30T21:06:26.127400",
     "exception": false,
     "start_time": "2025-07-30T21:06:26.109332",
     "status": "completed"
    },
    "tags": []
   },
   "outputs": [],
   "source": [
    "#siab_train.shape"
   ]
  },
  {
   "cell_type": "code",
   "execution_count": 19,
   "id": "d582db68-1a4c-47fb-84fc-08518dc1975a",
   "metadata": {
    "execution": {
     "iopub.execute_input": "2025-07-30T21:06:26.161982Z",
     "iopub.status.busy": "2025-07-30T21:06:26.161639Z",
     "iopub.status.idle": "2025-07-30T21:06:26.165880Z",
     "shell.execute_reply": "2025-07-30T21:06:26.165121Z"
    },
    "papermill": {
     "duration": 0.027379,
     "end_time": "2025-07-30T21:06:26.167401",
     "exception": false,
     "start_time": "2025-07-30T21:06:26.140022",
     "status": "completed"
    },
    "tags": []
   },
   "outputs": [],
   "source": [
    "#display(siab_train.groupby(\"year\").size())"
   ]
  },
  {
   "cell_type": "code",
   "execution_count": 20,
   "id": "a561edb4-d032-42cb-8256-22eac1111c64",
   "metadata": {
    "execution": {
     "iopub.execute_input": "2025-07-30T21:06:26.192529Z",
     "iopub.status.busy": "2025-07-30T21:06:26.192070Z",
     "iopub.status.idle": "2025-07-30T21:06:26.420560Z",
     "shell.execute_reply": "2025-07-30T21:06:26.419555Z"
    },
    "papermill": {
     "duration": 0.241721,
     "end_time": "2025-07-30T21:06:26.422153",
     "exception": false,
     "start_time": "2025-07-30T21:06:26.180432",
     "status": "completed"
    },
    "tags": []
   },
   "outputs": [],
   "source": [
    "#siab_train = siab_s[siab_s.year < 2015]\n",
    "siab_calib = siab[siab.year == 2015]\n",
    "siab_test = siab[siab.year == 2016]"
   ]
  },
  {
   "cell_type": "code",
   "execution_count": 21,
   "id": "472de16f-c3db-4916-846b-1f0de9cf1746",
   "metadata": {
    "execution": {
     "iopub.execute_input": "2025-07-30T21:06:26.465480Z",
     "iopub.status.busy": "2025-07-30T21:06:26.465059Z",
     "iopub.status.idle": "2025-07-30T21:06:26.472963Z",
     "shell.execute_reply": "2025-07-30T21:06:26.471906Z"
    },
    "papermill": {
     "duration": 0.031504,
     "end_time": "2025-07-30T21:06:26.474642",
     "exception": false,
     "start_time": "2025-07-30T21:06:26.443138",
     "status": "completed"
    },
    "tags": []
   },
   "outputs": [],
   "source": [
    "X_train = siab_train.iloc[:,4:164]\n",
    "y_train = siab_train.iloc[:, [3]]"
   ]
  },
  {
   "cell_type": "code",
   "execution_count": 22,
   "id": "828c96af-f43a-4ed6-ba47-8ac73a47d56c",
   "metadata": {
    "execution": {
     "iopub.execute_input": "2025-07-30T21:06:26.519957Z",
     "iopub.status.busy": "2025-07-30T21:06:26.519089Z",
     "iopub.status.idle": "2025-07-30T21:06:26.575089Z",
     "shell.execute_reply": "2025-07-30T21:06:26.574157Z"
    },
    "papermill": {
     "duration": 0.07936,
     "end_time": "2025-07-30T21:06:26.576760",
     "exception": false,
     "start_time": "2025-07-30T21:06:26.497400",
     "status": "completed"
    },
    "tags": []
   },
   "outputs": [],
   "source": [
    "X_calib = siab_calib.iloc[:,4:164]\n",
    "y_calib = siab_calib.iloc[:, [3]]"
   ]
  },
  {
   "cell_type": "code",
   "execution_count": 23,
   "id": "c34be9c3-6bd6-476e-acd3-845840e303be",
   "metadata": {
    "execution": {
     "iopub.execute_input": "2025-07-30T21:06:26.601874Z",
     "iopub.status.busy": "2025-07-30T21:06:26.601060Z",
     "iopub.status.idle": "2025-07-30T21:06:26.648857Z",
     "shell.execute_reply": "2025-07-30T21:06:26.648011Z"
    },
    "papermill": {
     "duration": 0.061035,
     "end_time": "2025-07-30T21:06:26.650464",
     "exception": false,
     "start_time": "2025-07-30T21:06:26.589429",
     "status": "completed"
    },
    "tags": []
   },
   "outputs": [],
   "source": [
    "X_test = siab_test.iloc[:,4:164]\n",
    "y_true = siab_test.iloc[:, [3]]"
   ]
  },
  {
   "cell_type": "markdown",
   "id": "9901737e-04df-44f0-9100-f5ad144ed040",
   "metadata": {
    "papermill": {
     "duration": 0.010899,
     "end_time": "2025-07-30T21:06:26.674128",
     "exception": false,
     "start_time": "2025-07-30T21:06:26.663229",
     "status": "completed"
    },
    "tags": []
   },
   "source": [
    "# Splitting Data and Setting Training Data Size OLD VERSION"
   ]
  },
  {
   "cell_type": "code",
   "execution_count": 24,
   "id": "acbc8f7d-8fc8-4e86-8c59-5dcb0f58384b",
   "metadata": {
    "execution": {
     "iopub.execute_input": "2025-07-30T21:06:26.703639Z",
     "iopub.status.busy": "2025-07-30T21:06:26.703084Z",
     "iopub.status.idle": "2025-07-30T21:06:26.708010Z",
     "shell.execute_reply": "2025-07-30T21:06:26.707292Z"
    },
    "papermill": {
     "duration": 0.01973,
     "end_time": "2025-07-30T21:06:26.709443",
     "exception": false,
     "start_time": "2025-07-30T21:06:26.689713",
     "status": "completed"
    },
    "tags": []
   },
   "outputs": [],
   "source": [
    "#def sample_by_year(df, training_size, random_state=42):\n",
    "#    if training_size == \"2014\":\n",
    "#        return df[df[\"year\"] == 2014].reset_index(drop=True)\n",
    "#    \n",
    "#    size_map = {\n",
    "#        \"25k\": 5000,\n",
    "#        \"5k\": 1000,\n",
    "#        \"1k\": 200\n",
    "#    }\n",
    "#\n",
    "#    if training_size not in size_map:\n",
    "#        return df.reset_index(drop=True)  # use all data\n",
    "#\n",
    "#    n_per_year = size_map[training_size]\n",
    "#    grouped = df.groupby(\"year\")\n",
    "#    sampled = grouped.apply(lambda x: x.sample(n=min(n_per_year, len(x)), random_state=random_state))\n",
    "#    return sampled.reset_index(drop=True)"
   ]
  },
  {
   "cell_type": "code",
   "execution_count": 25,
   "id": "6d931f52-beaf-43ff-9e78-9d44a448d54e",
   "metadata": {
    "execution": {
     "iopub.execute_input": "2025-07-30T21:06:26.735635Z",
     "iopub.status.busy": "2025-07-30T21:06:26.735254Z",
     "iopub.status.idle": "2025-07-30T21:06:26.739696Z",
     "shell.execute_reply": "2025-07-30T21:06:26.738913Z"
    },
    "papermill": {
     "duration": 0.018739,
     "end_time": "2025-07-30T21:06:26.741128",
     "exception": false,
     "start_time": "2025-07-30T21:06:26.722389",
     "status": "completed"
    },
    "tags": []
   },
   "outputs": [],
   "source": [
    "#siab_s = sample_by_year(siab, universe[\"training_size\"])"
   ]
  },
  {
   "cell_type": "code",
   "execution_count": 26,
   "id": "5db0a40e-a4e2-4920-be85-b12ae061d70d",
   "metadata": {
    "execution": {
     "iopub.execute_input": "2025-07-30T21:06:26.767738Z",
     "iopub.status.busy": "2025-07-30T21:06:26.767370Z",
     "iopub.status.idle": "2025-07-30T21:06:26.773113Z",
     "shell.execute_reply": "2025-07-30T21:06:26.771878Z"
    },
    "papermill": {
     "duration": 0.021117,
     "end_time": "2025-07-30T21:06:26.775007",
     "exception": false,
     "start_time": "2025-07-30T21:06:26.753890",
     "status": "completed"
    },
    "tags": []
   },
   "outputs": [],
   "source": [
    "#display(siab_s.groupby(\"year\").size())"
   ]
  },
  {
   "cell_type": "code",
   "execution_count": 27,
   "id": "e6c733c5",
   "metadata": {
    "execution": {
     "iopub.execute_input": "2025-07-30T21:06:26.824785Z",
     "iopub.status.busy": "2025-07-30T21:06:26.824000Z",
     "iopub.status.idle": "2025-07-30T21:06:26.922135Z",
     "shell.execute_reply": "2025-07-30T21:06:26.921213Z"
    },
    "papermill": {
     "duration": 0.124286,
     "end_time": "2025-07-30T21:06:26.923898",
     "exception": false,
     "start_time": "2025-07-30T21:06:26.799612",
     "status": "completed"
    },
    "tags": []
   },
   "outputs": [],
   "source": [
    "# Auxiliary data needed downstream in the pipeline\n",
    "\n",
    "org_train = X_train.copy()\n",
    "org_test = X_test.copy()\n",
    "org_calib = X_calib.copy()"
   ]
  },
  {
   "cell_type": "code",
   "execution_count": 28,
   "id": "1466abac-c6da-4492-a62f-4240ae3783af",
   "metadata": {
    "execution": {
     "iopub.execute_input": "2025-07-30T21:06:26.969866Z",
     "iopub.status.busy": "2025-07-30T21:06:26.968989Z",
     "iopub.status.idle": "2025-07-30T21:06:26.975130Z",
     "shell.execute_reply": "2025-07-30T21:06:26.974260Z"
    },
    "papermill": {
     "duration": 0.030364,
     "end_time": "2025-07-30T21:06:26.976572",
     "exception": false,
     "start_time": "2025-07-30T21:06:26.946208",
     "status": "completed"
    },
    "tags": []
   },
   "outputs": [],
   "source": [
    "# put in other script?\n",
    "# Group sizes\n",
    "\n",
    "#def calculate_percentages(df, df_name):\n",
    "#    total_entries = len(df)\n",
    "#\n",
    "#    female_pct = (df['frau1'] == 1).mean() * 100\n",
    "#    non_german_pct = ((df['maxdeutsch1'] == 0) & (df['maxdeutsch.Missing.'] == 0)).mean() * 100\n",
    "#    non_german_male_pct = ((df['frau1'] == 0) & (df['maxdeutsch1'] == 0) & (df['maxdeutsch.Missing.'] == 0)).mean() * 100\n",
    "#    non_german_female_pct = ((df['frau1'] == 1) & (df['maxdeutsch1'] == 0) & (df['maxdeutsch.Missing.'] == 0)).mean() * 100\n",
    "#\n",
    "#    print(f\"--- {df_name} ---\")\n",
    "#    print(f\"Female: {female_pct:.2f}%\")\n",
    "#    print(f\"Non-German: {non_german_pct:.2f}%\")\n",
    "#    print(f\"Non-German Male: {non_german_male_pct:.2f}%\")\n",
    "#    print(f\"Non-German Female: {non_german_female_pct:.2f}%\\n\")\n",
    "#\n",
    "## Calculate for each DataFrame\n",
    "#calculate_percentages(siab_calib, \"siab_calib\")\n",
    "#calculate_percentages(siab_test, \"siab_test\")\n",
    "#calculate_percentages(siab_train, \"siab_train\")"
   ]
  },
  {
   "cell_type": "markdown",
   "id": "0a4a1b33",
   "metadata": {
    "papermill": {
     "duration": 0.02202,
     "end_time": "2025-07-30T21:06:27.015016",
     "exception": false,
     "start_time": "2025-07-30T21:06:26.992996",
     "status": "completed"
    },
    "tags": []
   },
   "source": [
    "# Preprocessing Data"
   ]
  },
  {
   "cell_type": "code",
   "execution_count": 29,
   "id": "ca879031",
   "metadata": {
    "execution": {
     "iopub.execute_input": "2025-07-30T21:06:27.061571Z",
     "iopub.status.busy": "2025-07-30T21:06:27.060920Z",
     "iopub.status.idle": "2025-07-30T21:06:27.067038Z",
     "shell.execute_reply": "2025-07-30T21:06:27.066081Z"
    },
    "papermill": {
     "duration": 0.031285,
     "end_time": "2025-07-30T21:06:27.068797",
     "exception": false,
     "start_time": "2025-07-30T21:06:27.037512",
     "status": "completed"
    },
    "tags": []
   },
   "outputs": [],
   "source": [
    "# EXCLUDE PROTECTED FEATURES\n",
    "# ----------------------\n",
    "# \"exclude_features\": \"none\", # \"nationality\", \"sex\", \"nationality-sex\"\n",
    "\n",
    "excluded_features = universe[\"exclude_features\"].split(\"-\") # split, e.g.: \"nationality-sex\" -> [\"nationality\", \"sex\"]\n",
    "excluded_features_dictionary = {\n",
    "    \"nationality\": [\"maxdeutsch1\", \"maxdeutsch.Missing.\"],\n",
    "    \"sex\": [\"frau1\"],\n",
    "    \"age\": [\"age\"],\n",
    "}\n"
   ]
  },
  {
   "cell_type": "code",
   "execution_count": 30,
   "id": "b745ac60",
   "metadata": {
    "execution": {
     "iopub.execute_input": "2025-07-30T21:06:27.116741Z",
     "iopub.status.busy": "2025-07-30T21:06:27.116070Z",
     "iopub.status.idle": "2025-07-30T21:06:27.122208Z",
     "shell.execute_reply": "2025-07-30T21:06:27.121189Z"
    },
    "papermill": {
     "duration": 0.031106,
     "end_time": "2025-07-30T21:06:27.123902",
     "exception": false,
     "start_time": "2025-07-30T21:06:27.092796",
     "status": "completed"
    },
    "tags": []
   },
   "outputs": [],
   "source": [
    "# Code nice names to column names\n",
    "\n",
    "excluded_features_columns = [\n",
    "    excluded_features_dictionary[f] for f in excluded_features if len(f) > 0 and f != \"none\"\n",
    "]"
   ]
  },
  {
   "cell_type": "code",
   "execution_count": 31,
   "id": "f84f73a2",
   "metadata": {
    "execution": {
     "iopub.execute_input": "2025-07-30T21:06:27.151773Z",
     "iopub.status.busy": "2025-07-30T21:06:27.151466Z",
     "iopub.status.idle": "2025-07-30T21:06:27.156272Z",
     "shell.execute_reply": "2025-07-30T21:06:27.155521Z"
    },
    "papermill": {
     "duration": 0.018139,
     "end_time": "2025-07-30T21:06:27.158045",
     "exception": false,
     "start_time": "2025-07-30T21:06:27.139906",
     "status": "completed"
    },
    "tags": []
   },
   "outputs": [],
   "source": [
    "from utils import flatten_once\n",
    "\n",
    "excluded_features_columns = flatten_once(excluded_features_columns)"
   ]
  },
  {
   "cell_type": "code",
   "execution_count": 32,
   "id": "884dea22",
   "metadata": {
    "execution": {
     "iopub.execute_input": "2025-07-30T21:06:27.204120Z",
     "iopub.status.busy": "2025-07-30T21:06:27.203333Z",
     "iopub.status.idle": "2025-07-30T21:06:27.213007Z",
     "shell.execute_reply": "2025-07-30T21:06:27.211948Z"
    },
    "papermill": {
     "duration": 0.034031,
     "end_time": "2025-07-30T21:06:27.214681",
     "exception": false,
     "start_time": "2025-07-30T21:06:27.180650",
     "status": "completed"
    },
    "tags": []
   },
   "outputs": [
    {
     "name": "stdout",
     "output_type": "stream",
     "text": [
      "Dropping features: ['frau1']\n"
     ]
    }
   ],
   "source": [
    "if len(excluded_features_columns) > 0:\n",
    "    print(f\"Dropping features: {excluded_features_columns}\")\n",
    "    X_train.drop(excluded_features_columns, axis=1, inplace=True)"
   ]
  },
  {
   "cell_type": "code",
   "execution_count": 33,
   "id": "95ab8b16",
   "metadata": {
    "execution": {
     "iopub.execute_input": "2025-07-30T21:06:27.260853Z",
     "iopub.status.busy": "2025-07-30T21:06:27.260504Z",
     "iopub.status.idle": "2025-07-30T21:06:27.309799Z",
     "shell.execute_reply": "2025-07-30T21:06:27.308996Z"
    },
    "papermill": {
     "duration": 0.073184,
     "end_time": "2025-07-30T21:06:27.311316",
     "exception": false,
     "start_time": "2025-07-30T21:06:27.238132",
     "status": "completed"
    },
    "tags": []
   },
   "outputs": [
    {
     "name": "stdout",
     "output_type": "stream",
     "text": [
      "Dropping features: ['frau1']\n"
     ]
    }
   ],
   "source": [
    "if len(excluded_features_columns) > 0:\n",
    "    print(f\"Dropping features: {excluded_features_columns}\")\n",
    "    X_test.drop(excluded_features_columns, axis=1, inplace=True)"
   ]
  },
  {
   "cell_type": "code",
   "execution_count": 34,
   "id": "1853aaf5-fb9f-46cb-a2b5-8ea4ae2237e4",
   "metadata": {
    "execution": {
     "iopub.execute_input": "2025-07-30T21:06:27.356751Z",
     "iopub.status.busy": "2025-07-30T21:06:27.356340Z",
     "iopub.status.idle": "2025-07-30T21:06:27.402502Z",
     "shell.execute_reply": "2025-07-30T21:06:27.401565Z"
    },
    "papermill": {
     "duration": 0.069687,
     "end_time": "2025-07-30T21:06:27.403864",
     "exception": false,
     "start_time": "2025-07-30T21:06:27.334177",
     "status": "completed"
    },
    "tags": []
   },
   "outputs": [
    {
     "name": "stdout",
     "output_type": "stream",
     "text": [
      "Dropping features: ['frau1']\n"
     ]
    }
   ],
   "source": [
    "if len(excluded_features_columns) > 0:\n",
    "    print(f\"Dropping features: {excluded_features_columns}\")\n",
    "    X_calib.drop(excluded_features_columns, axis=1, inplace=True)"
   ]
  },
  {
   "cell_type": "code",
   "execution_count": 35,
   "id": "6727d079-03e5-481e-9d38-292a90b7a0a8",
   "metadata": {
    "execution": {
     "iopub.execute_input": "2025-07-30T21:06:27.429239Z",
     "iopub.status.busy": "2025-07-30T21:06:27.428929Z",
     "iopub.status.idle": "2025-07-30T21:06:27.432894Z",
     "shell.execute_reply": "2025-07-30T21:06:27.432112Z"
    },
    "papermill": {
     "duration": 0.016895,
     "end_time": "2025-07-30T21:06:27.433978",
     "exception": false,
     "start_time": "2025-07-30T21:06:27.417083",
     "status": "completed"
    },
    "tags": []
   },
   "outputs": [],
   "source": [
    "# SPLIT & STRATIFY DATA\n",
    "# ----------------------"
   ]
  },
  {
   "cell_type": "code",
   "execution_count": 36,
   "id": "76c4dc6d",
   "metadata": {
    "execution": {
     "iopub.execute_input": "2025-07-30T21:06:27.459075Z",
     "iopub.status.busy": "2025-07-30T21:06:27.458695Z",
     "iopub.status.idle": "2025-07-30T21:06:27.481180Z",
     "shell.execute_reply": "2025-07-30T21:06:27.480318Z"
    },
    "papermill": {
     "duration": 0.03586,
     "end_time": "2025-07-30T21:06:27.482557",
     "exception": false,
     "start_time": "2025-07-30T21:06:27.446697",
     "status": "completed"
    },
    "tags": []
   },
   "outputs": [],
   "source": [
    "# EXCLUDE CERTAIN SUBGROUPS\n",
    "# ----------------------\n",
    "\n",
    "mode = universe.get(\"exclude_subgroups\", \"keep-all\") \n",
    "# Fetches the exclude_subgroups setting from the universe dict.\n",
    "# Defaults to \"keep-all\" if the key is missing."
   ]
  },
  {
   "cell_type": "code",
   "execution_count": 37,
   "id": "21994072",
   "metadata": {
    "execution": {
     "iopub.execute_input": "2025-07-30T21:06:27.515213Z",
     "iopub.status.busy": "2025-07-30T21:06:27.514460Z",
     "iopub.status.idle": "2025-07-30T21:06:27.520255Z",
     "shell.execute_reply": "2025-07-30T21:06:27.519264Z"
    },
    "papermill": {
     "duration": 0.020086,
     "end_time": "2025-07-30T21:06:27.522206",
     "exception": false,
     "start_time": "2025-07-30T21:06:27.502120",
     "status": "completed"
    },
    "tags": []
   },
   "outputs": [],
   "source": [
    "if mode == \"keep-all\":\n",
    "    keep_mask = pd.Series(True, index=org_train.index)\n",
    "\n",
    "# org_train contains the original feature columns from features_org (in Simson)\n",
    "# features_org contains unprocessed features, for me X_train at beginning ???\n",
    "# For keep-all, creates a boolean Series (keep_mask) of all True, so no rows are removed.\n",
    "\n",
    "elif mode == \"drop-non-german\":\n",
    "    keep_mask = org_train[\"maxdeutsch1\"] == 1 # ??? what about missing values?\n",
    "\n",
    "else:\n",
    "    raise ValueError(f\"Unsupported mode for exclude_subgroups: {mode}\")\n"
   ]
  },
  {
   "cell_type": "code",
   "execution_count": 38,
   "id": "71651440",
   "metadata": {
    "execution": {
     "iopub.execute_input": "2025-07-30T21:06:27.577357Z",
     "iopub.status.busy": "2025-07-30T21:06:27.576699Z",
     "iopub.status.idle": "2025-07-30T21:06:27.585373Z",
     "shell.execute_reply": "2025-07-30T21:06:27.583939Z"
    },
    "papermill": {
     "duration": 0.038431,
     "end_time": "2025-07-30T21:06:27.586826",
     "exception": false,
     "start_time": "2025-07-30T21:06:27.548395",
     "status": "completed"
    },
    "tags": []
   },
   "outputs": [
    {
     "name": "stdout",
     "output_type": "stream",
     "text": [
      "Dropping 665 rows (13.30%) where mode='drop-non-german'\n"
     ]
    }
   ],
   "source": [
    "n_drop = (~keep_mask).sum() # Calculates how many rows are set to be dropped\n",
    "if n_drop > 0:\n",
    "    pct = n_drop / len(keep_mask) * 100\n",
    "    print(f\"Dropping {n_drop} rows ({pct:.2f}%) where mode='{mode}'\")"
   ]
  },
  {
   "cell_type": "code",
   "execution_count": 39,
   "id": "5fb8eee5",
   "metadata": {
    "execution": {
     "iopub.execute_input": "2025-07-30T21:06:27.613007Z",
     "iopub.status.busy": "2025-07-30T21:06:27.612505Z",
     "iopub.status.idle": "2025-07-30T21:06:27.618819Z",
     "shell.execute_reply": "2025-07-30T21:06:27.618098Z"
    },
    "papermill": {
     "duration": 0.020919,
     "end_time": "2025-07-30T21:06:27.620265",
     "exception": false,
     "start_time": "2025-07-30T21:06:27.599346",
     "status": "completed"
    },
    "tags": []
   },
   "outputs": [],
   "source": [
    "X_train = X_train[keep_mask]"
   ]
  },
  {
   "cell_type": "code",
   "execution_count": 40,
   "id": "b202bb3a",
   "metadata": {
    "execution": {
     "iopub.execute_input": "2025-07-30T21:06:27.649697Z",
     "iopub.status.busy": "2025-07-30T21:06:27.649202Z",
     "iopub.status.idle": "2025-07-30T21:06:27.654236Z",
     "shell.execute_reply": "2025-07-30T21:06:27.653517Z"
    },
    "papermill": {
     "duration": 0.019022,
     "end_time": "2025-07-30T21:06:27.655444",
     "exception": false,
     "start_time": "2025-07-30T21:06:27.636422",
     "status": "completed"
    },
    "tags": []
   },
   "outputs": [],
   "source": [
    "y_train = y_train[keep_mask]"
   ]
  },
  {
   "cell_type": "markdown",
   "id": "493e2ac3",
   "metadata": {
    "papermill": {
     "duration": 0.015476,
     "end_time": "2025-07-30T21:06:27.682888",
     "exception": false,
     "start_time": "2025-07-30T21:06:27.667412",
     "status": "completed"
    },
    "tags": []
   },
   "source": [
    "# Model Training"
   ]
  },
  {
   "cell_type": "code",
   "execution_count": 41,
   "id": "679e1268",
   "metadata": {
    "execution": {
     "iopub.execute_input": "2025-07-30T21:06:27.730058Z",
     "iopub.status.busy": "2025-07-30T21:06:27.728950Z",
     "iopub.status.idle": "2025-07-30T21:06:27.809751Z",
     "shell.execute_reply": "2025-07-30T21:06:27.809033Z"
    },
    "papermill": {
     "duration": 0.104736,
     "end_time": "2025-07-30T21:06:27.811482",
     "exception": false,
     "start_time": "2025-07-30T21:06:27.706746",
     "status": "completed"
    },
    "tags": []
   },
   "outputs": [],
   "source": [
    "from sklearn.linear_model import LogisticRegression\n",
    "from sklearn.ensemble import GradientBoostingClassifier, RandomForestClassifier\n",
    "\n",
    "if (universe[\"model\"] == \"logreg\"):\n",
    "    model = LogisticRegression() #penalty=\"none\") #, solver=\"newton-cg\", max_iter=1) # include random_state=19 ?\n",
    "elif (universe[\"model\"] == \"penalized_logreg\"):\n",
    "    model = LogisticRegression(penalty=\"l2\", C=1.0) #, solver=\"newton-cg\", max_iter=1)\n",
    "elif (universe[\"model\"] == \"rf\"):\n",
    "    model = RandomForestClassifier(n_estimators=100, n_jobs=-1)\n",
    "elif (universe[\"model\"] == \"gbm\"):\n",
    "    model = GradientBoostingClassifier()\n",
    "elif (universe[\"model\"] == \"elasticnet\"):\n",
    "    model = LogisticRegression(penalty = 'elasticnet', solver = 'saga', l1_ratio = 0.5, max_iter=5000) # which solver to use?\n",
    "else:\n",
    "    raise \"Unsupported universe.model\""
   ]
  },
  {
   "cell_type": "code",
   "execution_count": 42,
   "id": "0cc8f744",
   "metadata": {
    "execution": {
     "iopub.execute_input": "2025-07-30T21:06:27.863046Z",
     "iopub.status.busy": "2025-07-30T21:06:27.862138Z",
     "iopub.status.idle": "2025-07-30T21:06:27.868749Z",
     "shell.execute_reply": "2025-07-30T21:06:27.867753Z"
    },
    "papermill": {
     "duration": 0.033016,
     "end_time": "2025-07-30T21:06:27.870434",
     "exception": false,
     "start_time": "2025-07-30T21:06:27.837418",
     "status": "completed"
    },
    "tags": []
   },
   "outputs": [],
   "source": [
    "import numpy as np\n",
    "from sklearn.pipeline import Pipeline\n",
    "from sklearn.preprocessing import StandardScaler\n",
    "\n",
    "model = Pipeline([\n",
    "    #(\"continuous_processor\", continuous_processor),\n",
    "    #(\"categorical_preprocessor\", categorical_preprocessor),\n",
    "    (\"scale\", StandardScaler() if universe[\"scale\"] == \"scale\" else None), \n",
    "    (\"model\", model),\n",
    "])"
   ]
  },
  {
   "cell_type": "code",
   "execution_count": 43,
   "id": "9442c04d",
   "metadata": {
    "execution": {
     "iopub.execute_input": "2025-07-30T21:06:27.919372Z",
     "iopub.status.busy": "2025-07-30T21:06:27.918899Z",
     "iopub.status.idle": "2025-07-30T21:06:32.153237Z",
     "shell.execute_reply": "2025-07-30T21:06:32.152381Z"
    },
    "papermill": {
     "duration": 4.260372,
     "end_time": "2025-07-30T21:06:32.155062",
     "exception": false,
     "start_time": "2025-07-30T21:06:27.894690",
     "status": "completed"
    },
    "tags": []
   },
   "outputs": [
    {
     "data": {
      "text/html": [
       "<style>#sk-container-id-1 {color: black;background-color: white;}#sk-container-id-1 pre{padding: 0;}#sk-container-id-1 div.sk-toggleable {background-color: white;}#sk-container-id-1 label.sk-toggleable__label {cursor: pointer;display: block;width: 100%;margin-bottom: 0;padding: 0.3em;box-sizing: border-box;text-align: center;}#sk-container-id-1 label.sk-toggleable__label-arrow:before {content: \"▸\";float: left;margin-right: 0.25em;color: #696969;}#sk-container-id-1 label.sk-toggleable__label-arrow:hover:before {color: black;}#sk-container-id-1 div.sk-estimator:hover label.sk-toggleable__label-arrow:before {color: black;}#sk-container-id-1 div.sk-toggleable__content {max-height: 0;max-width: 0;overflow: hidden;text-align: left;background-color: #f0f8ff;}#sk-container-id-1 div.sk-toggleable__content pre {margin: 0.2em;color: black;border-radius: 0.25em;background-color: #f0f8ff;}#sk-container-id-1 input.sk-toggleable__control:checked~div.sk-toggleable__content {max-height: 200px;max-width: 100%;overflow: auto;}#sk-container-id-1 input.sk-toggleable__control:checked~label.sk-toggleable__label-arrow:before {content: \"▾\";}#sk-container-id-1 div.sk-estimator input.sk-toggleable__control:checked~label.sk-toggleable__label {background-color: #d4ebff;}#sk-container-id-1 div.sk-label input.sk-toggleable__control:checked~label.sk-toggleable__label {background-color: #d4ebff;}#sk-container-id-1 input.sk-hidden--visually {border: 0;clip: rect(1px 1px 1px 1px);clip: rect(1px, 1px, 1px, 1px);height: 1px;margin: -1px;overflow: hidden;padding: 0;position: absolute;width: 1px;}#sk-container-id-1 div.sk-estimator {font-family: monospace;background-color: #f0f8ff;border: 1px dotted black;border-radius: 0.25em;box-sizing: border-box;margin-bottom: 0.5em;}#sk-container-id-1 div.sk-estimator:hover {background-color: #d4ebff;}#sk-container-id-1 div.sk-parallel-item::after {content: \"\";width: 100%;border-bottom: 1px solid gray;flex-grow: 1;}#sk-container-id-1 div.sk-label:hover label.sk-toggleable__label {background-color: #d4ebff;}#sk-container-id-1 div.sk-serial::before {content: \"\";position: absolute;border-left: 1px solid gray;box-sizing: border-box;top: 0;bottom: 0;left: 50%;z-index: 0;}#sk-container-id-1 div.sk-serial {display: flex;flex-direction: column;align-items: center;background-color: white;padding-right: 0.2em;padding-left: 0.2em;position: relative;}#sk-container-id-1 div.sk-item {position: relative;z-index: 1;}#sk-container-id-1 div.sk-parallel {display: flex;align-items: stretch;justify-content: center;background-color: white;position: relative;}#sk-container-id-1 div.sk-item::before, #sk-container-id-1 div.sk-parallel-item::before {content: \"\";position: absolute;border-left: 1px solid gray;box-sizing: border-box;top: 0;bottom: 0;left: 50%;z-index: -1;}#sk-container-id-1 div.sk-parallel-item {display: flex;flex-direction: column;z-index: 1;position: relative;background-color: white;}#sk-container-id-1 div.sk-parallel-item:first-child::after {align-self: flex-end;width: 50%;}#sk-container-id-1 div.sk-parallel-item:last-child::after {align-self: flex-start;width: 50%;}#sk-container-id-1 div.sk-parallel-item:only-child::after {width: 0;}#sk-container-id-1 div.sk-dashed-wrapped {border: 1px dashed gray;margin: 0 0.4em 0.5em 0.4em;box-sizing: border-box;padding-bottom: 0.4em;background-color: white;}#sk-container-id-1 div.sk-label label {font-family: monospace;font-weight: bold;display: inline-block;line-height: 1.2em;}#sk-container-id-1 div.sk-label-container {text-align: center;}#sk-container-id-1 div.sk-container {/* jupyter's `normalize.less` sets `[hidden] { display: none; }` but bootstrap.min.css set `[hidden] { display: none !important; }` so we also need the `!important` here to be able to override the default hidden behavior on the sphinx rendered scikit-learn.org. See: https://github.com/scikit-learn/scikit-learn/issues/21755 */display: inline-block !important;position: relative;}#sk-container-id-1 div.sk-text-repr-fallback {display: none;}</style><div id=\"sk-container-id-1\" class=\"sk-top-container\"><div class=\"sk-text-repr-fallback\"><pre>Pipeline(steps=[(&#x27;scale&#x27;, None), (&#x27;model&#x27;, GradientBoostingClassifier())])</pre><b>In a Jupyter environment, please rerun this cell to show the HTML representation or trust the notebook. <br />On GitHub, the HTML representation is unable to render, please try loading this page with nbviewer.org.</b></div><div class=\"sk-container\" hidden><div class=\"sk-item sk-dashed-wrapped\"><div class=\"sk-label-container\"><div class=\"sk-label sk-toggleable\"><input class=\"sk-toggleable__control sk-hidden--visually\" id=\"sk-estimator-id-1\" type=\"checkbox\" ><label for=\"sk-estimator-id-1\" class=\"sk-toggleable__label sk-toggleable__label-arrow\">Pipeline</label><div class=\"sk-toggleable__content\"><pre>Pipeline(steps=[(&#x27;scale&#x27;, None), (&#x27;model&#x27;, GradientBoostingClassifier())])</pre></div></div></div><div class=\"sk-serial\"><div class=\"sk-item\"><div class=\"sk-estimator sk-toggleable\"><input class=\"sk-toggleable__control sk-hidden--visually\" id=\"sk-estimator-id-2\" type=\"checkbox\" ><label for=\"sk-estimator-id-2\" class=\"sk-toggleable__label sk-toggleable__label-arrow\">None</label><div class=\"sk-toggleable__content\"><pre>None</pre></div></div></div><div class=\"sk-item\"><div class=\"sk-estimator sk-toggleable\"><input class=\"sk-toggleable__control sk-hidden--visually\" id=\"sk-estimator-id-3\" type=\"checkbox\" ><label for=\"sk-estimator-id-3\" class=\"sk-toggleable__label sk-toggleable__label-arrow\">GradientBoostingClassifier</label><div class=\"sk-toggleable__content\"><pre>GradientBoostingClassifier()</pre></div></div></div></div></div></div></div>"
      ],
      "text/plain": [
       "Pipeline(steps=[('scale', None), ('model', GradientBoostingClassifier())])"
      ]
     },
     "execution_count": 43,
     "metadata": {},
     "output_type": "execute_result"
    }
   ],
   "source": [
    "model.fit(X_train, y_train.values.ravel())"
   ]
  },
  {
   "cell_type": "code",
   "execution_count": 44,
   "id": "af59f8c0",
   "metadata": {
    "execution": {
     "iopub.execute_input": "2025-07-30T21:06:32.207105Z",
     "iopub.status.busy": "2025-07-30T21:06:32.206300Z",
     "iopub.status.idle": "2025-07-30T21:06:32.211743Z",
     "shell.execute_reply": "2025-07-30T21:06:32.210861Z"
    },
    "papermill": {
     "duration": 0.033856,
     "end_time": "2025-07-30T21:06:32.213645",
     "exception": false,
     "start_time": "2025-07-30T21:06:32.179789",
     "status": "completed"
    },
    "tags": []
   },
   "outputs": [],
   "source": [
    "from fairness_multiverse.universe import predict_w_threshold"
   ]
  },
  {
   "cell_type": "code",
   "execution_count": 45,
   "id": "a7cf2e16",
   "metadata": {
    "execution": {
     "iopub.execute_input": "2025-07-30T21:06:32.264790Z",
     "iopub.status.busy": "2025-07-30T21:06:32.264299Z",
     "iopub.status.idle": "2025-07-30T21:06:32.953323Z",
     "shell.execute_reply": "2025-07-30T21:06:32.952422Z"
    },
    "papermill": {
     "duration": 0.716865,
     "end_time": "2025-07-30T21:06:32.955024",
     "exception": false,
     "start_time": "2025-07-30T21:06:32.238159",
     "status": "completed"
    },
    "tags": []
   },
   "outputs": [
    {
     "data": {
      "text/plain": [
       "0.8638613309553004"
      ]
     },
     "execution_count": 45,
     "metadata": {},
     "output_type": "execute_result"
    }
   ],
   "source": [
    "probs_test = model.predict_proba(X_test)\n",
    "\n",
    "'''\n",
    "Below code returns a boolean array (or binary 0/1 array depending on how it’s used) where each element \n",
    "is True if the probability of class 1 is greater than or equal to the threshold, and False otherwise.\n",
    "'''\n",
    "y_pred_default = predict_w_threshold(probs_test, 0.5)\n",
    "\n",
    "from sklearn.metrics import accuracy_score\n",
    "\n",
    "# Naive prediction\n",
    "accuracy_score(y_true = y_true, y_pred = y_pred_default)"
   ]
  },
  {
   "cell_type": "code",
   "execution_count": 46,
   "id": "081964c3",
   "metadata": {
    "execution": {
     "iopub.execute_input": "2025-07-30T21:06:33.060076Z",
     "iopub.status.busy": "2025-07-30T21:06:33.059403Z",
     "iopub.status.idle": "2025-07-30T21:06:33.677131Z",
     "shell.execute_reply": "2025-07-30T21:06:33.676225Z"
    },
    "papermill": {
     "duration": 0.646127,
     "end_time": "2025-07-30T21:06:33.678728",
     "exception": false,
     "start_time": "2025-07-30T21:06:33.032601",
     "status": "completed"
    },
    "tags": []
   },
   "outputs": [
    {
     "data": {
      "text/plain": [
       "array([0, 0, 0, ..., 0, 0, 0])"
      ]
     },
     "execution_count": 46,
     "metadata": {},
     "output_type": "execute_result"
    }
   ],
   "source": [
    "model.predict(X_test)"
   ]
  },
  {
   "cell_type": "markdown",
   "id": "56c9705b",
   "metadata": {
    "papermill": {
     "duration": 0.022355,
     "end_time": "2025-07-30T21:06:33.724612",
     "exception": false,
     "start_time": "2025-07-30T21:06:33.702257",
     "status": "completed"
    },
    "tags": []
   },
   "source": [
    "# Conformal Prediction"
   ]
  },
  {
   "cell_type": "code",
   "execution_count": 47,
   "id": "160ec6ff",
   "metadata": {
    "execution": {
     "iopub.execute_input": "2025-07-30T21:06:33.773188Z",
     "iopub.status.busy": "2025-07-30T21:06:33.772498Z",
     "iopub.status.idle": "2025-07-30T21:06:33.778394Z",
     "shell.execute_reply": "2025-07-30T21:06:33.777351Z"
    },
    "papermill": {
     "duration": 0.03195,
     "end_time": "2025-07-30T21:06:33.780234",
     "exception": false,
     "start_time": "2025-07-30T21:06:33.748284",
     "status": "completed"
    },
    "tags": []
   },
   "outputs": [],
   "source": [
    "# Miscoverage level for conformal prediction (10% allowed error rate => 90% target coverage)\n",
    "alpha = 0.1"
   ]
  },
  {
   "cell_type": "code",
   "execution_count": 48,
   "id": "eadf4555-3dd3-440e-8e35-f82a4ad9f855",
   "metadata": {
    "execution": {
     "iopub.execute_input": "2025-07-30T21:06:33.829198Z",
     "iopub.status.busy": "2025-07-30T21:06:33.828755Z",
     "iopub.status.idle": "2025-07-30T21:06:34.367277Z",
     "shell.execute_reply": "2025-07-30T21:06:34.366518Z"
    },
    "papermill": {
     "duration": 0.564948,
     "end_time": "2025-07-30T21:06:34.369103",
     "exception": false,
     "start_time": "2025-07-30T21:06:33.804155",
     "status": "completed"
    },
    "tags": []
   },
   "outputs": [],
   "source": [
    "probs_calib = model.predict_proba(X_calib)"
   ]
  },
  {
   "cell_type": "code",
   "execution_count": 49,
   "id": "2ed93547-6d5d-4983-9b36-1ecb300da49a",
   "metadata": {
    "execution": {
     "iopub.execute_input": "2025-07-30T21:06:34.416887Z",
     "iopub.status.busy": "2025-07-30T21:06:34.416437Z",
     "iopub.status.idle": "2025-07-30T21:06:34.422020Z",
     "shell.execute_reply": "2025-07-30T21:06:34.421111Z"
    },
    "papermill": {
     "duration": 0.030769,
     "end_time": "2025-07-30T21:06:34.423786",
     "exception": false,
     "start_time": "2025-07-30T21:06:34.393017",
     "status": "completed"
    },
    "tags": []
   },
   "outputs": [],
   "source": [
    "y_calib = y_calib.values.ravel().astype(int)"
   ]
  },
  {
   "cell_type": "code",
   "execution_count": 50,
   "id": "65d1320d-f588-4b38-9072-62af1ae97f7d",
   "metadata": {
    "execution": {
     "iopub.execute_input": "2025-07-30T21:06:34.471789Z",
     "iopub.status.busy": "2025-07-30T21:06:34.470994Z",
     "iopub.status.idle": "2025-07-30T21:06:34.477880Z",
     "shell.execute_reply": "2025-07-30T21:06:34.477063Z"
    },
    "papermill": {
     "duration": 0.032044,
     "end_time": "2025-07-30T21:06:34.479330",
     "exception": false,
     "start_time": "2025-07-30T21:06:34.447286",
     "status": "completed"
    },
    "tags": []
   },
   "outputs": [],
   "source": [
    "from fairness_multiverse.conformal import compute_nc_scores\n",
    "\n",
    "# Compute nonconformity scores on calibration set (1 - probability of true class)\n",
    "nc_scores = compute_nc_scores(probs_calib, y_calib)"
   ]
  },
  {
   "cell_type": "code",
   "execution_count": 51,
   "id": "df3b8ca3-53b7-43d5-9667-7c85da7aeda2",
   "metadata": {
    "execution": {
     "iopub.execute_input": "2025-07-30T21:06:34.529579Z",
     "iopub.status.busy": "2025-07-30T21:06:34.529085Z",
     "iopub.status.idle": "2025-07-30T21:06:34.535852Z",
     "shell.execute_reply": "2025-07-30T21:06:34.534990Z"
    },
    "papermill": {
     "duration": 0.035265,
     "end_time": "2025-07-30T21:06:34.537586",
     "exception": false,
     "start_time": "2025-07-30T21:06:34.502321",
     "status": "completed"
    },
    "tags": []
   },
   "outputs": [],
   "source": [
    "from fairness_multiverse.conformal import find_threshold\n",
    "\n",
    "# Find conformal threshold q_hat for the given alpha (split conformal method)\n",
    "q_hat = find_threshold(nc_scores, alpha)"
   ]
  },
  {
   "cell_type": "code",
   "execution_count": 52,
   "id": "4d29e6c1-0ef6-4aa4-b8fe-4fe79b0d033a",
   "metadata": {
    "execution": {
     "iopub.execute_input": "2025-07-30T21:06:34.590045Z",
     "iopub.status.busy": "2025-07-30T21:06:34.589388Z",
     "iopub.status.idle": "2025-07-30T21:06:34.599948Z",
     "shell.execute_reply": "2025-07-30T21:06:34.598945Z"
    },
    "papermill": {
     "duration": 0.040416,
     "end_time": "2025-07-30T21:06:34.601598",
     "exception": false,
     "start_time": "2025-07-30T21:06:34.561182",
     "status": "completed"
    },
    "tags": []
   },
   "outputs": [
    {
     "data": {
      "text/plain": [
       "0.701413878534288"
      ]
     },
     "execution_count": 52,
     "metadata": {},
     "output_type": "execute_result"
    }
   ],
   "source": [
    "q_hat"
   ]
  },
  {
   "cell_type": "code",
   "execution_count": 53,
   "id": "92460794-cdac-4be2-ba28-f28c0515a6fb",
   "metadata": {
    "execution": {
     "iopub.execute_input": "2025-07-30T21:06:34.651880Z",
     "iopub.status.busy": "2025-07-30T21:06:34.651441Z",
     "iopub.status.idle": "2025-07-30T21:06:35.920770Z",
     "shell.execute_reply": "2025-07-30T21:06:35.919972Z"
    },
    "papermill": {
     "duration": 1.296761,
     "end_time": "2025-07-30T21:06:35.922619",
     "exception": false,
     "start_time": "2025-07-30T21:06:34.625858",
     "status": "completed"
    },
    "tags": []
   },
   "outputs": [],
   "source": [
    "from fairness_multiverse.conformal import predict_conformal_sets\n",
    "\n",
    "# Generate prediction sets for each test example\n",
    "pred_sets = predict_conformal_sets(model, X_test, q_hat)"
   ]
  },
  {
   "cell_type": "code",
   "execution_count": 54,
   "id": "d90c9a65-e6db-4f5d-80cd-e68fb7e46829",
   "metadata": {
    "execution": {
     "iopub.execute_input": "2025-07-30T21:06:35.976851Z",
     "iopub.status.busy": "2025-07-30T21:06:35.976428Z",
     "iopub.status.idle": "2025-07-30T21:06:35.980938Z",
     "shell.execute_reply": "2025-07-30T21:06:35.980162Z"
    },
    "papermill": {
     "duration": 0.033327,
     "end_time": "2025-07-30T21:06:35.982515",
     "exception": false,
     "start_time": "2025-07-30T21:06:35.949188",
     "status": "completed"
    },
    "tags": []
   },
   "outputs": [],
   "source": [
    "y_true = y_true.squeeze()"
   ]
  },
  {
   "cell_type": "code",
   "execution_count": 55,
   "id": "3a58a54a-1e68-46b9-927a-df01f18aebc8",
   "metadata": {
    "execution": {
     "iopub.execute_input": "2025-07-30T21:06:36.037796Z",
     "iopub.status.busy": "2025-07-30T21:06:36.037405Z",
     "iopub.status.idle": "2025-07-30T21:06:36.805625Z",
     "shell.execute_reply": "2025-07-30T21:06:36.804665Z"
    },
    "papermill": {
     "duration": 0.797388,
     "end_time": "2025-07-30T21:06:36.807084",
     "exception": false,
     "start_time": "2025-07-30T21:06:36.009696",
     "status": "completed"
    },
    "tags": []
   },
   "outputs": [],
   "source": [
    "from fairness_multiverse.conformal import evaluate_sets\n",
    "\n",
    "# Evaluate coverage and average set size on test data\n",
    "metrics = evaluate_sets(pred_sets, y_true)"
   ]
  },
  {
   "cell_type": "markdown",
   "id": "2b569c12-9aaa-4c88-98c9-bbcd0cf3ebb8",
   "metadata": {
    "papermill": {
     "duration": 0.026213,
     "end_time": "2025-07-30T21:06:36.857286",
     "exception": false,
     "start_time": "2025-07-30T21:06:36.831073",
     "status": "completed"
    },
    "tags": []
   },
   "source": [
    "# CP Metrics"
   ]
  },
  {
   "cell_type": "code",
   "execution_count": 56,
   "id": "5ce0a5cb-201f-45a0-ade5-94c7f0bd6095",
   "metadata": {
    "execution": {
     "iopub.execute_input": "2025-07-30T21:06:36.908291Z",
     "iopub.status.busy": "2025-07-30T21:06:36.907830Z",
     "iopub.status.idle": "2025-07-30T21:06:36.914483Z",
     "shell.execute_reply": "2025-07-30T21:06:36.913601Z"
    },
    "papermill": {
     "duration": 0.033226,
     "end_time": "2025-07-30T21:06:36.915618",
     "exception": false,
     "start_time": "2025-07-30T21:06:36.882392",
     "status": "completed"
    },
    "tags": []
   },
   "outputs": [
    {
     "data": {
      "text/plain": [
       "{'coverage': 0.9099320031211682, 'avg_size': 1.1262624010701148}"
      ]
     },
     "execution_count": 56,
     "metadata": {},
     "output_type": "execute_result"
    }
   ],
   "source": [
    "metrics"
   ]
  },
  {
   "cell_type": "code",
   "execution_count": 57,
   "id": "9b9a838d-31c9-430b-ae14-12baee460d17",
   "metadata": {
    "execution": {
     "iopub.execute_input": "2025-07-30T21:06:36.946049Z",
     "iopub.status.busy": "2025-07-30T21:06:36.945558Z",
     "iopub.status.idle": "2025-07-30T21:06:36.950669Z",
     "shell.execute_reply": "2025-07-30T21:06:36.949902Z"
    },
    "papermill": {
     "duration": 0.021884,
     "end_time": "2025-07-30T21:06:36.951888",
     "exception": false,
     "start_time": "2025-07-30T21:06:36.930004",
     "status": "completed"
    },
    "tags": []
   },
   "outputs": [],
   "source": [
    "example_universe = universe.copy()\n",
    "universe_training_year = example_universe.get(\"training_year\")\n",
    "universe_training_size = example_universe.get(\"training_size\")\n",
    "universe_scale = example_universe.get(\"scale\")\n",
    "universe_model = example_universe.get(\"model\")\n",
    "universe_exclude_features = example_universe.get(\"exclude_features\")\n",
    "universe_exclude_subgroups = example_universe.get(\"exclude_subgroups\")"
   ]
  },
  {
   "cell_type": "code",
   "execution_count": 58,
   "id": "f4b6a8ac-9dc0-4245-8a91-5b3b5999c4f9",
   "metadata": {
    "execution": {
     "iopub.execute_input": "2025-07-30T21:06:36.979611Z",
     "iopub.status.busy": "2025-07-30T21:06:36.979071Z",
     "iopub.status.idle": "2025-07-30T21:06:36.984084Z",
     "shell.execute_reply": "2025-07-30T21:06:36.983215Z"
    },
    "papermill": {
     "duration": 0.019865,
     "end_time": "2025-07-30T21:06:36.985301",
     "exception": false,
     "start_time": "2025-07-30T21:06:36.965436",
     "status": "completed"
    },
    "tags": []
   },
   "outputs": [],
   "source": [
    "cp_metrics_dict = {\n",
    "    \"universe_id\": [universe_id],\n",
    "    \"universe_training_year\": [universe_training_year],\n",
    "    \"universe_training_size\": [universe_training_size],\n",
    "    \"universe_scale\": [universe_scale],\n",
    "    \"universe_model\": [universe_model],\n",
    "    \"universe_exclude_features\": [universe_exclude_features],\n",
    "    \"universe_exclude_subgroups\": [universe_exclude_subgroups],\n",
    "    \"q_hat\": [q_hat],\n",
    "    \"coverage\": [metrics[\"coverage\"]],\n",
    "    \"avg_size\": [metrics[\"avg_size\"]],\n",
    "}"
   ]
  },
  {
   "cell_type": "code",
   "execution_count": 59,
   "id": "908acbb1-0371-4915-85ca-3fa520d2efe2",
   "metadata": {
    "execution": {
     "iopub.execute_input": "2025-07-30T21:06:37.011769Z",
     "iopub.status.busy": "2025-07-30T21:06:37.011217Z",
     "iopub.status.idle": "2025-07-30T21:06:37.017162Z",
     "shell.execute_reply": "2025-07-30T21:06:37.016241Z"
    },
    "papermill": {
     "duration": 0.020875,
     "end_time": "2025-07-30T21:06:37.018760",
     "exception": false,
     "start_time": "2025-07-30T21:06:36.997885",
     "status": "completed"
    },
    "tags": []
   },
   "outputs": [
    {
     "data": {
      "text/plain": [
       "{'universe_id': ['94c263ba6321de92c481749f81442021'],\n",
       " 'universe_training_year': ['2012_14'],\n",
       " 'universe_training_size': ['5k'],\n",
       " 'universe_scale': ['do-not-scale'],\n",
       " 'universe_model': ['gbm'],\n",
       " 'universe_exclude_features': ['sex'],\n",
       " 'universe_exclude_subgroups': ['drop-non-german'],\n",
       " 'q_hat': [0.701413878534288],\n",
       " 'coverage': [0.9099320031211682],\n",
       " 'avg_size': [1.1262624010701148]}"
      ]
     },
     "execution_count": 59,
     "metadata": {},
     "output_type": "execute_result"
    }
   ],
   "source": [
    "cp_metrics_dict"
   ]
  },
  {
   "cell_type": "code",
   "execution_count": 60,
   "id": "33007efc-14e9-4ec6-97ac-56a455c82265",
   "metadata": {
    "execution": {
     "iopub.execute_input": "2025-07-30T21:06:37.071785Z",
     "iopub.status.busy": "2025-07-30T21:06:37.071315Z",
     "iopub.status.idle": "2025-07-30T21:06:37.076432Z",
     "shell.execute_reply": "2025-07-30T21:06:37.075656Z"
    },
    "papermill": {
     "duration": 0.034402,
     "end_time": "2025-07-30T21:06:37.077628",
     "exception": false,
     "start_time": "2025-07-30T21:06:37.043226",
     "status": "completed"
    },
    "tags": []
   },
   "outputs": [],
   "source": [
    "cp_metrics_df = pd.DataFrame(cp_metrics_dict)"
   ]
  },
  {
   "cell_type": "code",
   "execution_count": 61,
   "id": "db12611b-57b2-4910-b9d0-355adfd6e7bf",
   "metadata": {
    "execution": {
     "iopub.execute_input": "2025-07-30T21:06:37.112152Z",
     "iopub.status.busy": "2025-07-30T21:06:37.111692Z",
     "iopub.status.idle": "2025-07-30T21:06:37.130511Z",
     "shell.execute_reply": "2025-07-30T21:06:37.129577Z"
    },
    "papermill": {
     "duration": 0.038206,
     "end_time": "2025-07-30T21:06:37.132303",
     "exception": false,
     "start_time": "2025-07-30T21:06:37.094097",
     "status": "completed"
    },
    "tags": []
   },
   "outputs": [
    {
     "data": {
      "text/html": [
       "<div>\n",
       "<style scoped>\n",
       "    .dataframe tbody tr th:only-of-type {\n",
       "        vertical-align: middle;\n",
       "    }\n",
       "\n",
       "    .dataframe tbody tr th {\n",
       "        vertical-align: top;\n",
       "    }\n",
       "\n",
       "    .dataframe thead th {\n",
       "        text-align: right;\n",
       "    }\n",
       "</style>\n",
       "<table border=\"1\" class=\"dataframe\">\n",
       "  <thead>\n",
       "    <tr style=\"text-align: right;\">\n",
       "      <th></th>\n",
       "      <th>universe_id</th>\n",
       "      <th>universe_training_year</th>\n",
       "      <th>universe_training_size</th>\n",
       "      <th>universe_scale</th>\n",
       "      <th>universe_model</th>\n",
       "      <th>universe_exclude_features</th>\n",
       "      <th>universe_exclude_subgroups</th>\n",
       "      <th>q_hat</th>\n",
       "      <th>coverage</th>\n",
       "      <th>avg_size</th>\n",
       "    </tr>\n",
       "  </thead>\n",
       "  <tbody>\n",
       "    <tr>\n",
       "      <th>0</th>\n",
       "      <td>94c263ba6321de92c481749f81442021</td>\n",
       "      <td>2012_14</td>\n",
       "      <td>5k</td>\n",
       "      <td>do-not-scale</td>\n",
       "      <td>gbm</td>\n",
       "      <td>sex</td>\n",
       "      <td>drop-non-german</td>\n",
       "      <td>0.701414</td>\n",
       "      <td>0.909932</td>\n",
       "      <td>1.126262</td>\n",
       "    </tr>\n",
       "  </tbody>\n",
       "</table>\n",
       "</div>"
      ],
      "text/plain": [
       "                        universe_id universe_training_year  \\\n",
       "0  94c263ba6321de92c481749f81442021                2012_14   \n",
       "\n",
       "  universe_training_size universe_scale universe_model  \\\n",
       "0                     5k   do-not-scale            gbm   \n",
       "\n",
       "  universe_exclude_features universe_exclude_subgroups     q_hat  coverage  \\\n",
       "0                       sex            drop-non-german  0.701414  0.909932   \n",
       "\n",
       "   avg_size  \n",
       "0  1.126262  "
      ]
     },
     "execution_count": 61,
     "metadata": {},
     "output_type": "execute_result"
    }
   ],
   "source": [
    "cp_metrics_df"
   ]
  },
  {
   "cell_type": "code",
   "execution_count": 62,
   "id": "b7fbde55-a0a1-47e4-9af6-fe4a17fa8c61",
   "metadata": {
    "execution": {
     "iopub.execute_input": "2025-07-30T21:06:37.184624Z",
     "iopub.status.busy": "2025-07-30T21:06:37.184071Z",
     "iopub.status.idle": "2025-07-30T21:06:37.196634Z",
     "shell.execute_reply": "2025-07-30T21:06:37.188854Z"
    },
    "papermill": {
     "duration": 0.040236,
     "end_time": "2025-07-30T21:06:37.198294",
     "exception": false,
     "start_time": "2025-07-30T21:06:37.158058",
     "status": "completed"
    },
    "tags": []
   },
   "outputs": [],
   "source": [
    "# Conditional Coverage & looking at subgroups"
   ]
  },
  {
   "cell_type": "code",
   "execution_count": 63,
   "id": "027ae886-68dd-4141-96c7-805a5450e1ef",
   "metadata": {
    "execution": {
     "iopub.execute_input": "2025-07-30T21:06:37.252188Z",
     "iopub.status.busy": "2025-07-30T21:06:37.251783Z",
     "iopub.status.idle": "2025-07-30T21:06:37.531126Z",
     "shell.execute_reply": "2025-07-30T21:06:37.530043Z"
    },
    "papermill": {
     "duration": 0.30869,
     "end_time": "2025-07-30T21:06:37.533069",
     "exception": false,
     "start_time": "2025-07-30T21:06:37.224379",
     "status": "completed"
    },
    "tags": []
   },
   "outputs": [],
   "source": [
    "from fairness_multiverse.conformal import build_cp_groups\n",
    "\n",
    "cp_groups_df = build_cp_groups(pred_sets, y_true, X_test.index, org_test)\n",
    "#needs universe_id and setting"
   ]
  },
  {
   "cell_type": "code",
   "execution_count": 64,
   "id": "01d5802c-663a-4d1f-9d69-e036faaffbf7",
   "metadata": {
    "execution": {
     "iopub.execute_input": "2025-07-30T21:06:37.607455Z",
     "iopub.status.busy": "2025-07-30T21:06:37.606951Z",
     "iopub.status.idle": "2025-07-30T21:06:37.611913Z",
     "shell.execute_reply": "2025-07-30T21:06:37.611032Z"
    },
    "papermill": {
     "duration": 0.034053,
     "end_time": "2025-07-30T21:06:37.613512",
     "exception": false,
     "start_time": "2025-07-30T21:06:37.579459",
     "status": "completed"
    },
    "tags": []
   },
   "outputs": [],
   "source": [
    "#delete\n",
    "#cp_groups_df"
   ]
  },
  {
   "cell_type": "code",
   "execution_count": 65,
   "id": "fa424af1-d1eb-443d-b717-2d279ada8408",
   "metadata": {
    "execution": {
     "iopub.execute_input": "2025-07-30T21:06:37.669043Z",
     "iopub.status.busy": "2025-07-30T21:06:37.667823Z",
     "iopub.status.idle": "2025-07-30T21:06:37.673812Z",
     "shell.execute_reply": "2025-07-30T21:06:37.672830Z"
    },
    "papermill": {
     "duration": 0.035589,
     "end_time": "2025-07-30T21:06:37.675542",
     "exception": false,
     "start_time": "2025-07-30T21:06:37.639953",
     "status": "completed"
    },
    "tags": []
   },
   "outputs": [],
   "source": [
    "#delete\n",
    "#percentage = (cp_groups_df['nongerman_female'] == 1).mean() * 100\n",
    "#print(percentage)\n"
   ]
  },
  {
   "cell_type": "code",
   "execution_count": 66,
   "id": "6cbdab96-b2b2-45af-ad54-d0516db2e28d",
   "metadata": {
    "execution": {
     "iopub.execute_input": "2025-07-30T21:06:37.728931Z",
     "iopub.status.busy": "2025-07-30T21:06:37.728236Z",
     "iopub.status.idle": "2025-07-30T21:06:39.179267Z",
     "shell.execute_reply": "2025-07-30T21:06:39.178298Z"
    },
    "papermill": {
     "duration": 1.479435,
     "end_time": "2025-07-30T21:06:39.181293",
     "exception": false,
     "start_time": "2025-07-30T21:06:37.701858",
     "status": "completed"
    },
    "tags": []
   },
   "outputs": [],
   "source": [
    "# Define covered = 1 if true_label is in the predicted set\n",
    "cp_groups_df['covered'] = cp_groups_df.apply(\n",
    "    lambda r: int(r['true_label'] in r['pred_set']),\n",
    "    axis=1\n",
    ")"
   ]
  },
  {
   "cell_type": "code",
   "execution_count": 67,
   "id": "338ff529-1a6b-4b87-a931-8e4788d52aad",
   "metadata": {
    "execution": {
     "iopub.execute_input": "2025-07-30T21:06:39.235850Z",
     "iopub.status.busy": "2025-07-30T21:06:39.235171Z",
     "iopub.status.idle": "2025-07-30T21:06:39.240234Z",
     "shell.execute_reply": "2025-07-30T21:06:39.239285Z"
    },
    "papermill": {
     "duration": 0.034794,
     "end_time": "2025-07-30T21:06:39.241941",
     "exception": false,
     "start_time": "2025-07-30T21:06:39.207147",
     "status": "completed"
    },
    "tags": []
   },
   "outputs": [],
   "source": [
    "#cp_groups_df"
   ]
  },
  {
   "cell_type": "code",
   "execution_count": 68,
   "id": "90032e27-66df-4540-9169-4e89cfbaa758",
   "metadata": {
    "execution": {
     "iopub.execute_input": "2025-07-30T21:06:39.292643Z",
     "iopub.status.busy": "2025-07-30T21:06:39.292119Z",
     "iopub.status.idle": "2025-07-30T21:06:39.303975Z",
     "shell.execute_reply": "2025-07-30T21:06:39.302988Z"
    },
    "papermill": {
     "duration": 0.039358,
     "end_time": "2025-07-30T21:06:39.305879",
     "exception": false,
     "start_time": "2025-07-30T21:06:39.266521",
     "status": "completed"
    },
    "tags": []
   },
   "outputs": [],
   "source": [
    "subgroups = ['frau1','nongerman','nongerman_male','nongerman_female']\n",
    "\n",
    "# Conditional coverage for subgroup==1\n",
    "cond_coverage = {\n",
    "    g: cp_groups_df.loc[cp_groups_df[g]==1, 'covered'].mean()\n",
    "    for g in subgroups\n",
    "}"
   ]
  },
  {
   "cell_type": "code",
   "execution_count": 69,
   "id": "1e348fb1-b9c3-45bc-ba23-f016827a7e0d",
   "metadata": {
    "execution": {
     "iopub.execute_input": "2025-07-30T21:06:39.358089Z",
     "iopub.status.busy": "2025-07-30T21:06:39.357611Z",
     "iopub.status.idle": "2025-07-30T21:06:39.364537Z",
     "shell.execute_reply": "2025-07-30T21:06:39.363656Z"
    },
    "papermill": {
     "duration": 0.034496,
     "end_time": "2025-07-30T21:06:39.365957",
     "exception": false,
     "start_time": "2025-07-30T21:06:39.331461",
     "status": "completed"
    },
    "tags": []
   },
   "outputs": [
    {
     "data": {
      "text/plain": [
       "{'frau1': 0.9058902817091252,\n",
       " 'nongerman': 0.9045079436366699,\n",
       " 'nongerman_male': 0.922363325227416,\n",
       " 'nongerman_female': 0.8749627421758569}"
      ]
     },
     "execution_count": 69,
     "metadata": {},
     "output_type": "execute_result"
    }
   ],
   "source": [
    "cond_coverage"
   ]
  },
  {
   "cell_type": "code",
   "execution_count": 70,
   "id": "f5093324-c3dd-4d63-bc4c-8d945e5c8bbb",
   "metadata": {
    "execution": {
     "iopub.execute_input": "2025-07-30T21:06:39.418490Z",
     "iopub.status.busy": "2025-07-30T21:06:39.417994Z",
     "iopub.status.idle": "2025-07-30T21:06:39.425512Z",
     "shell.execute_reply": "2025-07-30T21:06:39.424648Z"
    },
    "papermill": {
     "duration": 0.035613,
     "end_time": "2025-07-30T21:06:39.427002",
     "exception": false,
     "start_time": "2025-07-30T21:06:39.391389",
     "status": "completed"
    },
    "tags": []
   },
   "outputs": [],
   "source": [
    "for subgroup, cov in cond_coverage.items():\n",
    "    cp_metrics_df[f\"cov_{subgroup}\"] = cov"
   ]
  },
  {
   "cell_type": "code",
   "execution_count": 71,
   "id": "6e872e10-dbe5-49e8-b554-5030c98ff75d",
   "metadata": {
    "execution": {
     "iopub.execute_input": "2025-07-30T21:06:39.478889Z",
     "iopub.status.busy": "2025-07-30T21:06:39.478404Z",
     "iopub.status.idle": "2025-07-30T21:06:39.497805Z",
     "shell.execute_reply": "2025-07-30T21:06:39.496962Z"
    },
    "papermill": {
     "duration": 0.046508,
     "end_time": "2025-07-30T21:06:39.499416",
     "exception": false,
     "start_time": "2025-07-30T21:06:39.452908",
     "status": "completed"
    },
    "tags": []
   },
   "outputs": [
    {
     "data": {
      "text/html": [
       "<div>\n",
       "<style scoped>\n",
       "    .dataframe tbody tr th:only-of-type {\n",
       "        vertical-align: middle;\n",
       "    }\n",
       "\n",
       "    .dataframe tbody tr th {\n",
       "        vertical-align: top;\n",
       "    }\n",
       "\n",
       "    .dataframe thead th {\n",
       "        text-align: right;\n",
       "    }\n",
       "</style>\n",
       "<table border=\"1\" class=\"dataframe\">\n",
       "  <thead>\n",
       "    <tr style=\"text-align: right;\">\n",
       "      <th></th>\n",
       "      <th>universe_id</th>\n",
       "      <th>universe_training_year</th>\n",
       "      <th>universe_training_size</th>\n",
       "      <th>universe_scale</th>\n",
       "      <th>universe_model</th>\n",
       "      <th>universe_exclude_features</th>\n",
       "      <th>universe_exclude_subgroups</th>\n",
       "      <th>q_hat</th>\n",
       "      <th>coverage</th>\n",
       "      <th>avg_size</th>\n",
       "      <th>cov_frau1</th>\n",
       "      <th>cov_nongerman</th>\n",
       "      <th>cov_nongerman_male</th>\n",
       "      <th>cov_nongerman_female</th>\n",
       "    </tr>\n",
       "  </thead>\n",
       "  <tbody>\n",
       "    <tr>\n",
       "      <th>0</th>\n",
       "      <td>94c263ba6321de92c481749f81442021</td>\n",
       "      <td>2012_14</td>\n",
       "      <td>5k</td>\n",
       "      <td>do-not-scale</td>\n",
       "      <td>gbm</td>\n",
       "      <td>sex</td>\n",
       "      <td>drop-non-german</td>\n",
       "      <td>0.701414</td>\n",
       "      <td>0.909932</td>\n",
       "      <td>1.126262</td>\n",
       "      <td>0.90589</td>\n",
       "      <td>0.904508</td>\n",
       "      <td>0.922363</td>\n",
       "      <td>0.874963</td>\n",
       "    </tr>\n",
       "  </tbody>\n",
       "</table>\n",
       "</div>"
      ],
      "text/plain": [
       "                        universe_id universe_training_year  \\\n",
       "0  94c263ba6321de92c481749f81442021                2012_14   \n",
       "\n",
       "  universe_training_size universe_scale universe_model  \\\n",
       "0                     5k   do-not-scale            gbm   \n",
       "\n",
       "  universe_exclude_features universe_exclude_subgroups     q_hat  coverage  \\\n",
       "0                       sex            drop-non-german  0.701414  0.909932   \n",
       "\n",
       "   avg_size  cov_frau1  cov_nongerman  cov_nongerman_male  \\\n",
       "0  1.126262    0.90589       0.904508            0.922363   \n",
       "\n",
       "   cov_nongerman_female  \n",
       "0              0.874963  "
      ]
     },
     "execution_count": 71,
     "metadata": {},
     "output_type": "execute_result"
    }
   ],
   "source": [
    "cp_metrics_df"
   ]
  },
  {
   "cell_type": "markdown",
   "id": "33774451",
   "metadata": {
    "papermill": {
     "duration": 0.026997,
     "end_time": "2025-07-30T21:06:39.546274",
     "exception": false,
     "start_time": "2025-07-30T21:06:39.519277",
     "status": "completed"
    },
    "tags": []
   },
   "source": [
    "# (Fairness) Metrics"
   ]
  },
  {
   "cell_type": "code",
   "execution_count": 72,
   "id": "debc5d62",
   "metadata": {
    "execution": {
     "iopub.execute_input": "2025-07-30T21:06:39.590551Z",
     "iopub.status.busy": "2025-07-30T21:06:39.590082Z",
     "iopub.status.idle": "2025-07-30T21:06:39.604675Z",
     "shell.execute_reply": "2025-07-30T21:06:39.603097Z"
    },
    "papermill": {
     "duration": 0.032853,
     "end_time": "2025-07-30T21:06:39.607378",
     "exception": false,
     "start_time": "2025-07-30T21:06:39.574525",
     "status": "completed"
    },
    "tags": []
   },
   "outputs": [],
   "source": [
    "# do I need to include maxdeutsch1.missing?\n",
    "\n",
    "import numpy as np\n",
    "\n",
    "colname_to_bin = \"maxdeutsch1\"\n",
    "majority_value = org_train[colname_to_bin].mode()[0]\n",
    "\n",
    "org_test[\"majmin\"] = np.where(org_test[colname_to_bin] == majority_value, \"majority\", \"minority\")"
   ]
  },
  {
   "cell_type": "code",
   "execution_count": 73,
   "id": "06a50de5",
   "metadata": {
    "execution": {
     "iopub.execute_input": "2025-07-30T21:06:39.647828Z",
     "iopub.status.busy": "2025-07-30T21:06:39.647352Z",
     "iopub.status.idle": "2025-07-30T21:06:42.358541Z",
     "shell.execute_reply": "2025-07-30T21:06:42.357517Z"
    },
    "papermill": {
     "duration": 2.728234,
     "end_time": "2025-07-30T21:06:42.360806",
     "exception": false,
     "start_time": "2025-07-30T21:06:39.632572",
     "status": "completed"
    },
    "tags": []
   },
   "outputs": [],
   "source": [
    "example_universe = universe.copy()\n",
    "example_universe[\"cutoff\"] = example_universe[\"cutoff\"][0]\n",
    "example_universe[\"eval_fairness_grouping\"] = example_universe[\"eval_fairness_grouping\"][0]\n",
    "fairness_dict, metric_frame = universe_analysis.compute_metrics(\n",
    "    example_universe,\n",
    "    y_pred_prob=probs_test,\n",
    "    y_test=y_true,\n",
    "    org_test=org_test,\n",
    ")"
   ]
  },
  {
   "cell_type": "markdown",
   "id": "f95d4e02",
   "metadata": {
    "papermill": {
     "duration": 0.036532,
     "end_time": "2025-07-30T21:06:42.433442",
     "exception": false,
     "start_time": "2025-07-30T21:06:42.396910",
     "status": "completed"
    },
    "tags": []
   },
   "source": [
    "# Overall"
   ]
  },
  {
   "cell_type": "markdown",
   "id": "bdee4871",
   "metadata": {
    "papermill": {
     "duration": 0.039028,
     "end_time": "2025-07-30T21:06:42.511221",
     "exception": false,
     "start_time": "2025-07-30T21:06:42.472193",
     "status": "completed"
    },
    "tags": []
   },
   "source": [
    "Fairness\n",
    "Main fairness target: Equalized Odds. Seems to be a better fit than equal opportunity, since we're not only interested in Y = 1. Seems to be a better fit than demographic parity, since we also care about accuracy, not just equal distribution of preds.\n",
    "\n",
    "Pick column for computation of fairness metrics\n",
    "\n",
    "Performance\n",
    "Overall performance measures, most interesting in relation to the measures split by group below"
   ]
  },
  {
   "cell_type": "code",
   "execution_count": 74,
   "id": "c4e067c6",
   "metadata": {
    "execution": {
     "iopub.execute_input": "2025-07-30T21:06:42.590512Z",
     "iopub.status.busy": "2025-07-30T21:06:42.589975Z",
     "iopub.status.idle": "2025-07-30T21:06:42.599555Z",
     "shell.execute_reply": "2025-07-30T21:06:42.598500Z"
    },
    "papermill": {
     "duration": 0.05129,
     "end_time": "2025-07-30T21:06:42.601661",
     "exception": false,
     "start_time": "2025-07-30T21:06:42.550371",
     "status": "completed"
    },
    "tags": []
   },
   "outputs": [
    {
     "data": {
      "text/plain": [
       "accuracy                   0.224847\n",
       "balanced accuracy          0.549682\n",
       "f1                         0.246165\n",
       "precision                  0.140626\n",
       "false positive rate        0.887254\n",
       "false negative rate        0.013382\n",
       "selection rate             0.900000\n",
       "count                  89710.000000\n",
       "dtype: float64"
      ]
     },
     "execution_count": 74,
     "metadata": {},
     "output_type": "execute_result"
    }
   ],
   "source": [
    "metric_frame.overall"
   ]
  },
  {
   "cell_type": "markdown",
   "id": "e968fe9d",
   "metadata": {
    "papermill": {
     "duration": 0.047054,
     "end_time": "2025-07-30T21:06:42.688462",
     "exception": false,
     "start_time": "2025-07-30T21:06:42.641408",
     "status": "completed"
    },
    "tags": []
   },
   "source": [
    "By Group"
   ]
  },
  {
   "cell_type": "code",
   "execution_count": 75,
   "id": "ec325bce",
   "metadata": {
    "execution": {
     "iopub.execute_input": "2025-07-30T21:06:42.746033Z",
     "iopub.status.busy": "2025-07-30T21:06:42.745360Z",
     "iopub.status.idle": "2025-07-30T21:06:42.764406Z",
     "shell.execute_reply": "2025-07-30T21:06:42.763309Z"
    },
    "papermill": {
     "duration": 0.048962,
     "end_time": "2025-07-30T21:06:42.765958",
     "exception": false,
     "start_time": "2025-07-30T21:06:42.716996",
     "status": "completed"
    },
    "tags": []
   },
   "outputs": [
    {
     "data": {
      "text/html": [
       "<div>\n",
       "<style scoped>\n",
       "    .dataframe tbody tr th:only-of-type {\n",
       "        vertical-align: middle;\n",
       "    }\n",
       "\n",
       "    .dataframe tbody tr th {\n",
       "        vertical-align: top;\n",
       "    }\n",
       "\n",
       "    .dataframe thead th {\n",
       "        text-align: right;\n",
       "    }\n",
       "</style>\n",
       "<table border=\"1\" class=\"dataframe\">\n",
       "  <thead>\n",
       "    <tr style=\"text-align: right;\">\n",
       "      <th></th>\n",
       "      <th>accuracy</th>\n",
       "      <th>balanced accuracy</th>\n",
       "      <th>f1</th>\n",
       "      <th>precision</th>\n",
       "      <th>false positive rate</th>\n",
       "      <th>false negative rate</th>\n",
       "      <th>selection rate</th>\n",
       "      <th>count</th>\n",
       "    </tr>\n",
       "    <tr>\n",
       "      <th>majmin</th>\n",
       "      <th></th>\n",
       "      <th></th>\n",
       "      <th></th>\n",
       "      <th></th>\n",
       "      <th></th>\n",
       "      <th></th>\n",
       "      <th></th>\n",
       "      <th></th>\n",
       "    </tr>\n",
       "  </thead>\n",
       "  <tbody>\n",
       "    <tr>\n",
       "      <th>majority</th>\n",
       "      <td>0.247116</td>\n",
       "      <td>0.559657</td>\n",
       "      <td>0.256818</td>\n",
       "      <td>0.147670</td>\n",
       "      <td>0.865151</td>\n",
       "      <td>0.015536</td>\n",
       "      <td>0.880917</td>\n",
       "      <td>69170.0</td>\n",
       "    </tr>\n",
       "    <tr>\n",
       "      <th>minority</th>\n",
       "      <td>0.149854</td>\n",
       "      <td>0.517332</td>\n",
       "      <td>0.212501</td>\n",
       "      <td>0.118954</td>\n",
       "      <td>0.960269</td>\n",
       "      <td>0.005068</td>\n",
       "      <td>0.964265</td>\n",
       "      <td>20540.0</td>\n",
       "    </tr>\n",
       "  </tbody>\n",
       "</table>\n",
       "</div>"
      ],
      "text/plain": [
       "          accuracy  balanced accuracy        f1  precision  \\\n",
       "majmin                                                       \n",
       "majority  0.247116           0.559657  0.256818   0.147670   \n",
       "minority  0.149854           0.517332  0.212501   0.118954   \n",
       "\n",
       "          false positive rate  false negative rate  selection rate    count  \n",
       "majmin                                                                       \n",
       "majority             0.865151             0.015536        0.880917  69170.0  \n",
       "minority             0.960269             0.005068        0.964265  20540.0  "
      ]
     },
     "execution_count": 75,
     "metadata": {},
     "output_type": "execute_result"
    }
   ],
   "source": [
    "metric_frame.by_group"
   ]
  },
  {
   "cell_type": "code",
   "execution_count": 76,
   "id": "a9ddbe63",
   "metadata": {
    "execution": {
     "iopub.execute_input": "2025-07-30T21:06:42.822955Z",
     "iopub.status.busy": "2025-07-30T21:06:42.822456Z",
     "iopub.status.idle": "2025-07-30T21:06:44.982741Z",
     "shell.execute_reply": "2025-07-30T21:06:44.982046Z"
    },
    "papermill": {
     "duration": 2.189463,
     "end_time": "2025-07-30T21:06:44.983996",
     "exception": false,
     "start_time": "2025-07-30T21:06:42.794533",
     "status": "completed"
    },
    "tags": []
   },
   "outputs": [
    {
     "data": {
      "text/plain": [
       "array([[<Axes: title={'center': 'accuracy'}, xlabel='majmin'>,\n",
       "        <Axes: title={'center': 'balanced accuracy'}, xlabel='majmin'>,\n",
       "        <Axes: title={'center': 'f1'}, xlabel='majmin'>],\n",
       "       [<Axes: title={'center': 'precision'}, xlabel='majmin'>,\n",
       "        <Axes: title={'center': 'false positive rate'}, xlabel='majmin'>,\n",
       "        <Axes: title={'center': 'false negative rate'}, xlabel='majmin'>],\n",
       "       [<Axes: title={'center': 'selection rate'}, xlabel='majmin'>,\n",
       "        <Axes: title={'center': 'count'}, xlabel='majmin'>,\n",
       "        <Axes: xlabel='majmin'>]], dtype=object)"
      ]
     },
     "execution_count": 76,
     "metadata": {},
     "output_type": "execute_result"
    },
    {
     "data": {
      "image/png": "[encoded data removed]",
      "text/plain": [
       "<Figure size 1200x800 with 9 Axes>"
      ]
     },
     "metadata": {},
     "output_type": "display_data"
    }
   ],
   "source": [
    "# In a graphic\n",
    "metric_frame.by_group.plot.bar(\n",
    "    subplots=True,\n",
    "    layout=[3, 3],\n",
    "    legend=False,\n",
    "    figsize=[12, 8],\n",
    "    title=\"Show all metrics\",\n",
    ")"
   ]
  },
  {
   "cell_type": "markdown",
   "id": "f57a0bac",
   "metadata": {
    "papermill": {
     "duration": 0.015596,
     "end_time": "2025-07-30T21:06:45.015689",
     "exception": false,
     "start_time": "2025-07-30T21:06:45.000093",
     "status": "completed"
    },
    "tags": []
   },
   "source": [
    "# Final Output"
   ]
  },
  {
   "cell_type": "code",
   "execution_count": 77,
   "id": "96d280a3",
   "metadata": {
    "execution": {
     "iopub.execute_input": "2025-07-30T21:06:45.048988Z",
     "iopub.status.busy": "2025-07-30T21:06:45.048352Z",
     "iopub.status.idle": "2025-07-30T21:06:45.055692Z",
     "shell.execute_reply": "2025-07-30T21:06:45.055001Z"
    },
    "papermill": {
     "duration": 0.025779,
     "end_time": "2025-07-30T21:06:45.057314",
     "exception": false,
     "start_time": "2025-07-30T21:06:45.031535",
     "status": "completed"
    },
    "tags": []
   },
   "outputs": [
    {
     "data": {
      "text/plain": [
       "4"
      ]
     },
     "execution_count": 77,
     "metadata": {},
     "output_type": "execute_result"
    }
   ],
   "source": [
    "sub_universes = universe_analysis.generate_sub_universes()\n",
    "len(sub_universes)"
   ]
  },
  {
   "cell_type": "code",
   "execution_count": 78,
   "id": "92adf7ba",
   "metadata": {
    "execution": {
     "iopub.execute_input": "2025-07-30T21:06:45.091456Z",
     "iopub.status.busy": "2025-07-30T21:06:45.091098Z",
     "iopub.status.idle": "2025-07-30T21:06:45.096110Z",
     "shell.execute_reply": "2025-07-30T21:06:45.095386Z"
    },
    "papermill": {
     "duration": 0.023924,
     "end_time": "2025-07-30T21:06:45.097484",
     "exception": false,
     "start_time": "2025-07-30T21:06:45.073560",
     "status": "completed"
    },
    "tags": []
   },
   "outputs": [],
   "source": [
    "def filter_sub_universe_data(sub_universe, org_test):\n",
    "    # Keep all rows — no filtering\n",
    "    keep_rows_mask = np.ones(org_test.shape[0], dtype=bool)\n",
    "\n",
    "    print(f\"[INFO] Keeping all rows: {keep_rows_mask.sum()} rows retained.\")\n",
    "    return keep_rows_mask"
   ]
  },
  {
   "cell_type": "code",
   "execution_count": 79,
   "id": "4a759155",
   "metadata": {
    "execution": {
     "iopub.execute_input": "2025-07-30T21:06:45.131922Z",
     "iopub.status.busy": "2025-07-30T21:06:45.131413Z",
     "iopub.status.idle": "2025-07-30T21:06:54.676639Z",
     "shell.execute_reply": "2025-07-30T21:06:54.675344Z"
    },
    "papermill": {
     "duration": 9.564177,
     "end_time": "2025-07-30T21:06:54.678639",
     "exception": false,
     "start_time": "2025-07-30T21:06:45.114462",
     "status": "completed"
    },
    "tags": []
   },
   "outputs": [
    {
     "name": "stdout",
     "output_type": "stream",
     "text": [
      "Stopping execution_time clock.\n",
      "[INFO] Keeping all rows: 89710 rows retained.\n"
     ]
    },
    {
     "name": "stdout",
     "output_type": "stream",
     "text": [
      "[INFO] Keeping all rows: 89710 rows retained.\n"
     ]
    },
    {
     "name": "stdout",
     "output_type": "stream",
     "text": [
      "[INFO] Keeping all rows: 89710 rows retained.\n"
     ]
    },
    {
     "name": "stdout",
     "output_type": "stream",
     "text": [
      "[INFO] Keeping all rows: 89710 rows retained.\n"
     ]
    },
    {
     "data": {
      "text/html": [
       "<div>\n",
       "<style scoped>\n",
       "    .dataframe tbody tr th:only-of-type {\n",
       "        vertical-align: middle;\n",
       "    }\n",
       "\n",
       "    .dataframe tbody tr th {\n",
       "        vertical-align: top;\n",
       "    }\n",
       "\n",
       "    .dataframe thead th {\n",
       "        text-align: right;\n",
       "    }\n",
       "</style>\n",
       "<table border=\"1\" class=\"dataframe\">\n",
       "  <thead>\n",
       "    <tr style=\"text-align: right;\">\n",
       "      <th></th>\n",
       "      <th>run_no</th>\n",
       "      <th>universe_id</th>\n",
       "      <th>universe_settings</th>\n",
       "      <th>execution_time</th>\n",
       "      <th>test_size_n</th>\n",
       "      <th>test_size_frac</th>\n",
       "      <th>fair_main_equalized_odds_difference</th>\n",
       "      <th>fair_main_equalized_odds_ratio</th>\n",
       "      <th>fair_main_demographic_parity_difference</th>\n",
       "      <th>fair_main_demographic_parity_ratio</th>\n",
       "      <th>...</th>\n",
       "      <th>perf_grp_precision_0</th>\n",
       "      <th>perf_grp_precision_1</th>\n",
       "      <th>perf_grp_false positive rate_0</th>\n",
       "      <th>perf_grp_false positive rate_1</th>\n",
       "      <th>perf_grp_false negative rate_0</th>\n",
       "      <th>perf_grp_false negative rate_1</th>\n",
       "      <th>perf_grp_selection rate_0</th>\n",
       "      <th>perf_grp_selection rate_1</th>\n",
       "      <th>perf_grp_count_0</th>\n",
       "      <th>perf_grp_count_1</th>\n",
       "    </tr>\n",
       "  </thead>\n",
       "  <tbody>\n",
       "    <tr>\n",
       "      <th>0</th>\n",
       "      <td>14</td>\n",
       "      <td>94c263ba6321de92c481749f81442021</td>\n",
       "      <td>{\"cutoff\": \"quantile_0.1\", \"eval_fairness_grou...</td>\n",
       "      <td>33.549866</td>\n",
       "      <td>89710</td>\n",
       "      <td>1.0</td>\n",
       "      <td>0.095118</td>\n",
       "      <td>0.900947</td>\n",
       "      <td>0.083348</td>\n",
       "      <td>0.913563</td>\n",
       "      <td>...</td>\n",
       "      <td>NaN</td>\n",
       "      <td>NaN</td>\n",
       "      <td>NaN</td>\n",
       "      <td>NaN</td>\n",
       "      <td>NaN</td>\n",
       "      <td>NaN</td>\n",
       "      <td>NaN</td>\n",
       "      <td>NaN</td>\n",
       "      <td>NaN</td>\n",
       "      <td>NaN</td>\n",
       "    </tr>\n",
       "    <tr>\n",
       "      <th>0</th>\n",
       "      <td>14</td>\n",
       "      <td>94c263ba6321de92c481749f81442021</td>\n",
       "      <td>{\"cutoff\": \"quantile_0.1\", \"eval_fairness_grou...</td>\n",
       "      <td>33.549866</td>\n",
       "      <td>89710</td>\n",
       "      <td>1.0</td>\n",
       "      <td>0.095118</td>\n",
       "      <td>0.900947</td>\n",
       "      <td>0.083348</td>\n",
       "      <td>0.913563</td>\n",
       "      <td>...</td>\n",
       "      <td>0.118954</td>\n",
       "      <td>0.14767</td>\n",
       "      <td>0.960269</td>\n",
       "      <td>0.865151</td>\n",
       "      <td>0.005068</td>\n",
       "      <td>0.015536</td>\n",
       "      <td>0.964265</td>\n",
       "      <td>0.880917</td>\n",
       "      <td>20540.0</td>\n",
       "      <td>69170.0</td>\n",
       "    </tr>\n",
       "    <tr>\n",
       "      <th>0</th>\n",
       "      <td>14</td>\n",
       "      <td>94c263ba6321de92c481749f81442021</td>\n",
       "      <td>{\"cutoff\": \"quantile_0.25\", \"eval_fairness_gro...</td>\n",
       "      <td>33.549866</td>\n",
       "      <td>89710</td>\n",
       "      <td>1.0</td>\n",
       "      <td>0.095744</td>\n",
       "      <td>0.879619</td>\n",
       "      <td>0.079300</td>\n",
       "      <td>0.902238</td>\n",
       "      <td>...</td>\n",
       "      <td>NaN</td>\n",
       "      <td>NaN</td>\n",
       "      <td>NaN</td>\n",
       "      <td>NaN</td>\n",
       "      <td>NaN</td>\n",
       "      <td>NaN</td>\n",
       "      <td>NaN</td>\n",
       "      <td>NaN</td>\n",
       "      <td>NaN</td>\n",
       "      <td>NaN</td>\n",
       "    </tr>\n",
       "    <tr>\n",
       "      <th>0</th>\n",
       "      <td>14</td>\n",
       "      <td>94c263ba6321de92c481749f81442021</td>\n",
       "      <td>{\"cutoff\": \"quantile_0.25\", \"eval_fairness_gro...</td>\n",
       "      <td>33.549866</td>\n",
       "      <td>89710</td>\n",
       "      <td>1.0</td>\n",
       "      <td>0.095744</td>\n",
       "      <td>0.879619</td>\n",
       "      <td>0.079300</td>\n",
       "      <td>0.902238</td>\n",
       "      <td>...</td>\n",
       "      <td>0.132525</td>\n",
       "      <td>0.17038</td>\n",
       "      <td>0.795344</td>\n",
       "      <td>0.699600</td>\n",
       "      <td>0.067568</td>\n",
       "      <td>0.056346</td>\n",
       "      <td>0.811149</td>\n",
       "      <td>0.731849</td>\n",
       "      <td>20540.0</td>\n",
       "      <td>69170.0</td>\n",
       "    </tr>\n",
       "  </tbody>\n",
       "</table>\n",
       "<p>4 rows × 50 columns</p>\n",
       "</div>"
      ],
      "text/plain": [
       "  run_no                       universe_id  \\\n",
       "0     14  94c263ba6321de92c481749f81442021   \n",
       "0     14  94c263ba6321de92c481749f81442021   \n",
       "0     14  94c263ba6321de92c481749f81442021   \n",
       "0     14  94c263ba6321de92c481749f81442021   \n",
       "\n",
       "                                   universe_settings  execution_time  \\\n",
       "0  {\"cutoff\": \"quantile_0.1\", \"eval_fairness_grou...       33.549866   \n",
       "0  {\"cutoff\": \"quantile_0.1\", \"eval_fairness_grou...       33.549866   \n",
       "0  {\"cutoff\": \"quantile_0.25\", \"eval_fairness_gro...       33.549866   \n",
       "0  {\"cutoff\": \"quantile_0.25\", \"eval_fairness_gro...       33.549866   \n",
       "\n",
       "   test_size_n  test_size_frac  fair_main_equalized_odds_difference  \\\n",
       "0        89710             1.0                             0.095118   \n",
       "0        89710             1.0                             0.095118   \n",
       "0        89710             1.0                             0.095744   \n",
       "0        89710             1.0                             0.095744   \n",
       "\n",
       "   fair_main_equalized_odds_ratio  fair_main_demographic_parity_difference  \\\n",
       "0                        0.900947                                 0.083348   \n",
       "0                        0.900947                                 0.083348   \n",
       "0                        0.879619                                 0.079300   \n",
       "0                        0.879619                                 0.079300   \n",
       "\n",
       "   fair_main_demographic_parity_ratio  ...  perf_grp_precision_0  \\\n",
       "0                            0.913563  ...                   NaN   \n",
       "0                            0.913563  ...              0.118954   \n",
       "0                            0.902238  ...                   NaN   \n",
       "0                            0.902238  ...              0.132525   \n",
       "\n",
       "   perf_grp_precision_1  perf_grp_false positive rate_0  \\\n",
       "0                   NaN                             NaN   \n",
       "0               0.14767                        0.960269   \n",
       "0                   NaN                             NaN   \n",
       "0               0.17038                        0.795344   \n",
       "\n",
       "   perf_grp_false positive rate_1  perf_grp_false negative rate_0  \\\n",
       "0                             NaN                             NaN   \n",
       "0                        0.865151                        0.005068   \n",
       "0                             NaN                             NaN   \n",
       "0                        0.699600                        0.067568   \n",
       "\n",
       "   perf_grp_false negative rate_1  perf_grp_selection rate_0  \\\n",
       "0                             NaN                        NaN   \n",
       "0                        0.015536                   0.964265   \n",
       "0                             NaN                        NaN   \n",
       "0                        0.056346                   0.811149   \n",
       "\n",
       "   perf_grp_selection rate_1  perf_grp_count_0  perf_grp_count_1  \n",
       "0                        NaN               NaN               NaN  \n",
       "0                   0.880917           20540.0           69170.0  \n",
       "0                        NaN               NaN               NaN  \n",
       "0                   0.731849           20540.0           69170.0  \n",
       "\n",
       "[4 rows x 50 columns]"
      ]
     },
     "execution_count": 79,
     "metadata": {},
     "output_type": "execute_result"
    }
   ],
   "source": [
    "final_output = universe_analysis.generate_final_output(\n",
    "    y_pred_prob=probs_test,\n",
    "    y_test=y_true,\n",
    "    org_test=org_test,\n",
    "    filter_data=filter_sub_universe_data,\n",
    "    cp_metrics_df=cp_metrics_df,\n",
    "    save=True,\n",
    ")\n",
    "final_output"
   ]
  },
  {
   "cell_type": "code",
   "execution_count": null,
   "id": "721ff514-cb11-46f8-b6fc-50392f74b5cb",
   "metadata": {
    "papermill": {
     "duration": 0.031365,
     "end_time": "2025-07-30T21:06:54.745532",
     "exception": false,
     "start_time": "2025-07-30T21:06:54.714167",
     "status": "completed"
    },
    "tags": []
   },
   "outputs": [],
   "source": []
  }
 ],
 "metadata": {
  "celltoolbar": "Tags",
  "kernelspec": {
   "display_name": "Python (CMA Fairness)",
   "language": "python",
   "name": "cma_fair_env"
  },
  "language_info": {
   "codemirror_mode": {
    "name": "ipython",
    "version": 3
   },
   "file_extension": ".py",
   "mimetype": "text/x-python",
   "name": "python",
   "nbconvert_exporter": "python",
   "pygments_lexer": "ipython3",
   "version": "3.10.12"
  },
  "papermill": {
   "default_parameters": {},
   "duration": 47.122891,
   "end_time": "2025-07-30T21:06:55.599904",
   "environment_variables": {},
   "exception": null,
   "input_path": "universe_analysis.ipynb",
   "output_path": "output/runs/14/notebooks/m_14-94c263ba6321de92c481749f81442021.ipynb",
   "parameters": {
    "output_dir": "output",
    "run_no": "14",
    "seed": "2023",
    "universe": "{\"cutoff\": [\"quantile_0.1\", \"quantile_0.25\"], \"eval_fairness_grouping\": [\"majority-minority\", \"nationality-all\"], \"exclude_features\": \"sex\", \"exclude_subgroups\": \"drop-non-german\", \"model\": \"gbm\", \"scale\": \"do-not-scale\", \"training_size\": \"5k\", \"training_year\": \"2012_14\"}",
    "universe_id": "94c263ba6321de92c481749f81442021"
   },
   "start_time": "2025-07-30T21:06:08.477013",
   "version": "2.6.0"
  }
 },
 "nbformat": 4,
 "nbformat_minor": 5
}