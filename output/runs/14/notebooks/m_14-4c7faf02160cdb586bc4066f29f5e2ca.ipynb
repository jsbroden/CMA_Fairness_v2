{
 "cells": [
  {
   "cell_type": "code",
   "execution_count": 1,
   "id": "f159f837-637b-42ba-96b5-ec9a68c44524",
   "metadata": {
    "execution": {
     "iopub.execute_input": "2025-07-30T20:49:24.501350Z",
     "iopub.status.busy": "2025-07-30T20:49:24.500694Z",
     "iopub.status.idle": "2025-07-30T20:49:24.513808Z",
     "shell.execute_reply": "2025-07-30T20:49:24.512919Z"
    },
    "papermill": {
     "duration": 0.042405,
     "end_time": "2025-07-30T20:49:24.515237",
     "exception": false,
     "start_time": "2025-07-30T20:49:24.472832",
     "status": "completed"
    },
    "tags": []
   },
   "outputs": [
    {
     "name": "stdout",
     "output_type": "stream",
     "text": [
      "/dss/dsshome1/0C/ra93lal2/cma/CMA_Fairness_v2\n"
     ]
    },
    {
     "name": "stderr",
     "output_type": "stream",
     "text": [
      "/dss/dsshome1/0C/ra93lal2/.local/share/virtualenvs/CMA_Fairness_v2-3j10GkSs/lib/python3.10/site-packages/IPython/core/magics/osm.py:393: UserWarning: This is now an optional IPython functionality, using bookmarks requires you to install the `pickleshare` library.\n",
      "  bkms = self.shell.db.get('bookmarks', {})\n",
      "/dss/dsshome1/0C/ra93lal2/.local/share/virtualenvs/CMA_Fairness_v2-3j10GkSs/lib/python3.10/site-packages/IPython/core/magics/osm.py:417: UserWarning: This is now an optional IPython functionality, setting dhist requires you to install the `pickleshare` library.\n",
      "  self.shell.db['dhist'] = compress_dhist(dhist)[-100:]\n"
     ]
    }
   ],
   "source": [
    "%cd ~/cma/CMA_Fairness_v2"
   ]
  },
  {
   "cell_type": "markdown",
   "id": "de2603b9",
   "metadata": {
    "papermill": {
     "duration": 0.018933,
     "end_time": "2025-07-30T20:49:24.554447",
     "exception": false,
     "start_time": "2025-07-30T20:49:24.535514",
     "status": "completed"
    },
    "tags": []
   },
   "source": [
    "The following cell holds the definition of our parameters, these values can be overriden by rendering the with e.g. the following command:\n",
    "\n",
    "papermill -p alpha 0.2 -p ratio 0.3 universe_analysis.ipynb output/test_run.ipynb"
   ]
  },
  {
   "cell_type": "code",
   "execution_count": 2,
   "id": "a80968a0-40bb-4fa9-85ef-2d5eefb01975",
   "metadata": {
    "execution": {
     "iopub.execute_input": "2025-07-30T20:49:24.593555Z",
     "iopub.status.busy": "2025-07-30T20:49:24.592929Z",
     "iopub.status.idle": "2025-07-30T20:49:24.597966Z",
     "shell.execute_reply": "2025-07-30T20:49:24.597111Z"
    },
    "papermill": {
     "duration": 0.026109,
     "end_time": "2025-07-30T20:49:24.599494",
     "exception": false,
     "start_time": "2025-07-30T20:49:24.573385",
     "status": "completed"
    },
    "tags": []
   },
   "outputs": [
    {
     "name": "stdout",
     "output_type": "stream",
     "text": [
      "Current working directory: /dss/dsshome1/0C/ra93lal2/cma/CMA_Fairness_v2\n"
     ]
    }
   ],
   "source": [
    "import os\n",
    "print(\"Current working directory:\", os.getcwd())"
   ]
  },
  {
   "cell_type": "code",
   "execution_count": 3,
   "id": "2dce4c03",
   "metadata": {
    "execution": {
     "iopub.execute_input": "2025-07-30T20:49:24.638842Z",
     "iopub.status.busy": "2025-07-30T20:49:24.638242Z",
     "iopub.status.idle": "2025-07-30T20:49:24.644175Z",
     "shell.execute_reply": "2025-07-30T20:49:24.643356Z"
    },
    "papermill": {
     "duration": 0.027268,
     "end_time": "2025-07-30T20:49:24.645614",
     "exception": false,
     "start_time": "2025-07-30T20:49:24.618346",
     "status": "completed"
    },
    "tags": [
     "parameters"
    ]
   },
   "outputs": [],
   "source": [
    "run_no = 0\n",
    "universe_id = \"test\"\n",
    "universe = {\n",
    "    \"training_size\": \"25k\", # \"25k\", \"5k\", \"1k\"\n",
    "    \"training_year\": \"2014\", # \"2014\", \"2012_14\", \"2010_14\"\n",
    "    \"scale\": \"scale\", # \"scale\", \"do-not-scale\",\n",
    "    #\"stratify_split\": \"target\", # \"none\", \"target\", \"protected-attribute\", \"both\",\n",
    "    \"model\": \"elasticnet\", # \"logreg\", \"penalized_logreg\", \"rf\", \"gbm\", \"elasticnet\"\n",
    "    \"cutoff\": [\"quantile_0.15\", \"quantile_0.30\"],\n",
    "    \"exclude_features\": \"age\", # \"none\", \"nationality\", \"sex\", \"nationality-sex\", \"age\"\n",
    "    \"exclude_subgroups\": \"keep-all\", # \"keep-all\", \"drop-non-german\"\n",
    "    \"eval_fairness_grouping\": [\"majority-minority\", \"nationality-all\"]\n",
    "}\n",
    "\n",
    "output_dir=\"./output\"\n",
    "seed=0"
   ]
  },
  {
   "cell_type": "code",
   "execution_count": 4,
   "id": "b9a41ad0",
   "metadata": {
    "execution": {
     "iopub.execute_input": "2025-07-30T20:49:24.684320Z",
     "iopub.status.busy": "2025-07-30T20:49:24.683663Z",
     "iopub.status.idle": "2025-07-30T20:49:24.688888Z",
     "shell.execute_reply": "2025-07-30T20:49:24.687851Z"
    },
    "papermill": {
     "duration": 0.026201,
     "end_time": "2025-07-30T20:49:24.690368",
     "exception": false,
     "start_time": "2025-07-30T20:49:24.664167",
     "status": "completed"
    },
    "tags": [
     "injected-parameters"
    ]
   },
   "outputs": [],
   "source": [
    "# Parameters\n",
    "universe_id = \"4c7faf02160cdb586bc4066f29f5e2ca\"\n",
    "run_no = \"14\"\n",
    "universe = \"{\\\"cutoff\\\": [\\\"quantile_0.1\\\", \\\"quantile_0.25\\\"], \\\"eval_fairness_grouping\\\": [\\\"majority-minority\\\", \\\"nationality-all\\\"], \\\"exclude_features\\\": \\\"sex\\\", \\\"exclude_subgroups\\\": \\\"drop-non-german\\\", \\\"model\\\": \\\"elasticnet\\\", \\\"scale\\\": \\\"scale\\\", \\\"training_size\\\": \\\"5k\\\", \\\"training_year\\\": \\\"2014\\\"}\"\n",
    "output_dir = \"output\"\n",
    "seed = \"2023\"\n"
   ]
  },
  {
   "cell_type": "code",
   "execution_count": 5,
   "id": "1650acaf",
   "metadata": {
    "execution": {
     "iopub.execute_input": "2025-07-30T20:49:24.729301Z",
     "iopub.status.busy": "2025-07-30T20:49:24.728557Z",
     "iopub.status.idle": "2025-07-30T20:49:24.733273Z",
     "shell.execute_reply": "2025-07-30T20:49:24.732441Z"
    },
    "papermill": {
     "duration": 0.025004,
     "end_time": "2025-07-30T20:49:24.734676",
     "exception": false,
     "start_time": "2025-07-30T20:49:24.709672",
     "status": "completed"
    },
    "tags": []
   },
   "outputs": [],
   "source": [
    "import json\n",
    "# Parse universe into dict if it is passed as a string\n",
    "if isinstance(universe, str):\n",
    "    universe = json.loads(universe)"
   ]
  },
  {
   "cell_type": "code",
   "execution_count": 6,
   "id": "16620c48",
   "metadata": {
    "execution": {
     "iopub.execute_input": "2025-07-30T20:49:24.773822Z",
     "iopub.status.busy": "2025-07-30T20:49:24.773215Z",
     "iopub.status.idle": "2025-07-30T20:49:24.816825Z",
     "shell.execute_reply": "2025-07-30T20:49:24.815961Z"
    },
    "papermill": {
     "duration": 0.065155,
     "end_time": "2025-07-30T20:49:24.818627",
     "exception": false,
     "start_time": "2025-07-30T20:49:24.753472",
     "status": "completed"
    },
    "tags": []
   },
   "outputs": [],
   "source": [
    "# Auto-reload the custom package\n",
    "%load_ext autoreload\n",
    "%autoreload 1\n",
    "%aimport fairness_multiverse"
   ]
  },
  {
   "cell_type": "code",
   "execution_count": 7,
   "id": "01c5c9f3",
   "metadata": {
    "execution": {
     "iopub.execute_input": "2025-07-30T20:49:24.858830Z",
     "iopub.status.busy": "2025-07-30T20:49:24.858075Z",
     "iopub.status.idle": "2025-07-30T20:49:26.806249Z",
     "shell.execute_reply": "2025-07-30T20:49:26.805188Z"
    },
    "papermill": {
     "duration": 1.970607,
     "end_time": "2025-07-30T20:49:26.808171",
     "exception": false,
     "start_time": "2025-07-30T20:49:24.837564",
     "status": "completed"
    },
    "tags": []
   },
   "outputs": [],
   "source": [
    "from fairness_multiverse.universe import UniverseAnalysis\n",
    "\n",
    "universe_analysis = UniverseAnalysis(\n",
    "    run_no = run_no,\n",
    "    universe_id = universe_id,\n",
    "    universe = universe,\n",
    "    output_dir=output_dir,\n",
    ")"
   ]
  },
  {
   "cell_type": "code",
   "execution_count": 8,
   "id": "106241f5",
   "metadata": {
    "execution": {
     "iopub.execute_input": "2025-07-30T20:49:26.852765Z",
     "iopub.status.busy": "2025-07-30T20:49:26.852246Z",
     "iopub.status.idle": "2025-07-30T20:49:26.858721Z",
     "shell.execute_reply": "2025-07-30T20:49:26.857856Z"
    },
    "papermill": {
     "duration": 0.029488,
     "end_time": "2025-07-30T20:49:26.860139",
     "exception": false,
     "start_time": "2025-07-30T20:49:26.830651",
     "status": "completed"
    },
    "tags": []
   },
   "outputs": [
    {
     "name": "stdout",
     "output_type": "stream",
     "text": [
      "Using Seed: 2023\n"
     ]
    }
   ],
   "source": [
    "import numpy as np\n",
    "parsed_seed = int(seed)\n",
    "np.random.seed(parsed_seed)\n",
    "print(f\"Using Seed: {parsed_seed}\")"
   ]
  },
  {
   "cell_type": "markdown",
   "id": "e0ebdc57",
   "metadata": {
    "papermill": {
     "duration": 0.018946,
     "end_time": "2025-07-30T20:49:26.898904",
     "exception": false,
     "start_time": "2025-07-30T20:49:26.879958",
     "status": "completed"
    },
    "tags": []
   },
   "source": [
    "# Loading Data"
   ]
  },
  {
   "cell_type": "markdown",
   "id": "681925a3",
   "metadata": {
    "papermill": {
     "duration": 0.018139,
     "end_time": "2025-07-30T20:49:26.936002",
     "exception": false,
     "start_time": "2025-07-30T20:49:26.917863",
     "status": "completed"
    },
    "tags": []
   },
   "source": [
    "Load siab_train, siab_test, siab_calib and/or \n",
    "load siab_train_features, siab_train_labels"
   ]
  },
  {
   "cell_type": "code",
   "execution_count": 9,
   "id": "f0496b8a",
   "metadata": {
    "execution": {
     "iopub.execute_input": "2025-07-30T20:49:26.975873Z",
     "iopub.status.busy": "2025-07-30T20:49:26.975387Z",
     "iopub.status.idle": "2025-07-30T20:49:39.346513Z",
     "shell.execute_reply": "2025-07-30T20:49:39.345271Z"
    },
    "papermill": {
     "duration": 12.393089,
     "end_time": "2025-07-30T20:49:39.348027",
     "exception": false,
     "start_time": "2025-07-30T20:49:26.954938",
     "status": "completed"
    },
    "tags": []
   },
   "outputs": [
    {
     "name": "stdout",
     "output_type": "stream",
     "text": [
      "Loading SIAB data from cache: data/siab_cached.csv.gz\n"
     ]
    },
    {
     "name": "stdout",
     "output_type": "stream",
     "text": [
      "(643690, 164)\n"
     ]
    }
   ],
   "source": [
    "from pathlib import Path\n",
    "import pandas as pd\n",
    "\n",
    "# File paths\n",
    "raw_file = Path(\"data/raw/siab.csv\")\n",
    "cache_file = Path(\"data/siab_cached.csv.gz\")\n",
    "\n",
    "# Ensure cache directory exists\n",
    "cache_file.parent.mkdir(parents=True, exist_ok=True)\n",
    "\n",
    "# Load with simple caching\n",
    "if cache_file.exists():\n",
    "    print(f\"Loading SIAB data from cache: {cache_file}\")\n",
    "    siab = pd.read_csv(cache_file, compression='gzip')\n",
    "else:\n",
    "    print(f\"Cache not found. Reading raw SIAB data: {raw_file}\")\n",
    "    siab = pd.read_csv(raw_file)\n",
    "    siab.to_csv(cache_file, index=False, compression='gzip')\n",
    "    print(f\"Cached SIAB data to: {cache_file}\")\n",
    "\n",
    "# Now use `siab` DataFrame as needed\n",
    "print(siab.shape)"
   ]
  },
  {
   "cell_type": "code",
   "execution_count": 10,
   "id": "db0ca512-5f53-4dba-abdb-a2888bca41ba",
   "metadata": {
    "execution": {
     "iopub.execute_input": "2025-07-30T20:49:39.390827Z",
     "iopub.status.busy": "2025-07-30T20:49:39.390300Z",
     "iopub.status.idle": "2025-07-30T20:49:39.395997Z",
     "shell.execute_reply": "2025-07-30T20:49:39.395110Z"
    },
    "papermill": {
     "duration": 0.027613,
     "end_time": "2025-07-30T20:49:39.397697",
     "exception": false,
     "start_time": "2025-07-30T20:49:39.370084",
     "status": "completed"
    },
    "tags": []
   },
   "outputs": [],
   "source": [
    "#siab"
   ]
  },
  {
   "cell_type": "code",
   "execution_count": 11,
   "id": "a0edb063",
   "metadata": {
    "execution": {
     "iopub.execute_input": "2025-07-30T20:49:39.438085Z",
     "iopub.status.busy": "2025-07-30T20:49:39.437206Z",
     "iopub.status.idle": "2025-07-30T20:49:39.442114Z",
     "shell.execute_reply": "2025-07-30T20:49:39.441243Z"
    },
    "papermill": {
     "duration": 0.026405,
     "end_time": "2025-07-30T20:49:39.443714",
     "exception": false,
     "start_time": "2025-07-30T20:49:39.417309",
     "status": "completed"
    },
    "tags": []
   },
   "outputs": [],
   "source": [
    "#import pandas as pd\n",
    "#\n",
    "#X_train = pd.read_csv(\"./data/X_train.csv\")\n",
    "#y_train = pd.read_csv(\"./data/y_train.csv\")"
   ]
  },
  {
   "cell_type": "code",
   "execution_count": 12,
   "id": "63d08085",
   "metadata": {
    "execution": {
     "iopub.execute_input": "2025-07-30T20:49:39.484446Z",
     "iopub.status.busy": "2025-07-30T20:49:39.483534Z",
     "iopub.status.idle": "2025-07-30T20:49:39.488828Z",
     "shell.execute_reply": "2025-07-30T20:49:39.487868Z"
    },
    "papermill": {
     "duration": 0.027006,
     "end_time": "2025-07-30T20:49:39.490528",
     "exception": false,
     "start_time": "2025-07-30T20:49:39.463522",
     "status": "completed"
    },
    "tags": []
   },
   "outputs": [],
   "source": [
    "#X_test = pd.read_csv(\"./data/X_test.csv\")\n",
    "#y_true = pd.read_csv(\"./data/y_test.csv\")"
   ]
  },
  {
   "cell_type": "code",
   "execution_count": 13,
   "id": "98a8d0fa-1d3d-4ed8-bb2c-281470e24add",
   "metadata": {
    "execution": {
     "iopub.execute_input": "2025-07-30T20:49:39.530855Z",
     "iopub.status.busy": "2025-07-30T20:49:39.529989Z",
     "iopub.status.idle": "2025-07-30T20:49:39.534879Z",
     "shell.execute_reply": "2025-07-30T20:49:39.534048Z"
    },
    "papermill": {
     "duration": 0.026424,
     "end_time": "2025-07-30T20:49:39.536501",
     "exception": false,
     "start_time": "2025-07-30T20:49:39.510077",
     "status": "completed"
    },
    "tags": []
   },
   "outputs": [],
   "source": [
    "# Calibration data for conformal\n",
    "#X_calib = pd.read_csv(\"./data/X_calib.csv\")\n",
    "#y_calib = pd.read_csv(\"./data/y_calib.csv\")"
   ]
  },
  {
   "cell_type": "markdown",
   "id": "997051c5-15bd-4b69-9786-c3001a3ce484",
   "metadata": {
    "papermill": {
     "duration": 0.018973,
     "end_time": "2025-07-30T20:49:39.575041",
     "exception": false,
     "start_time": "2025-07-30T20:49:39.556068",
     "status": "completed"
    },
    "tags": []
   },
   "source": [
    "# Splitting Data and Setting Training Data Size"
   ]
  },
  {
   "cell_type": "code",
   "execution_count": 14,
   "id": "e993b61f-042d-41a6-8c81-f55681f86335",
   "metadata": {
    "execution": {
     "iopub.execute_input": "2025-07-30T20:49:39.615362Z",
     "iopub.status.busy": "2025-07-30T20:49:39.614485Z",
     "iopub.status.idle": "2025-07-30T20:49:39.627181Z",
     "shell.execute_reply": "2025-07-30T20:49:39.626250Z"
    },
    "papermill": {
     "duration": 0.034777,
     "end_time": "2025-07-30T20:49:39.628891",
     "exception": false,
     "start_time": "2025-07-30T20:49:39.594114",
     "status": "completed"
    },
    "tags": []
   },
   "outputs": [],
   "source": [
    "def sample_by_year_size(df,\n",
    "                        training_year: str,\n",
    "                        training_size: str,\n",
    "                        random_state: int = 42):\n",
    "    # --- parse training_year into a list of int years ---\n",
    "    if \"_\" in training_year:\n",
    "        start_str, end_str = training_year.split(\"_\", 1)\n",
    "        start = int(start_str)\n",
    "        end   = int(end_str) if len(end_str) == 4 else (int(end_str) + (start // 100)*100)\n",
    "        years = list(range(start, end + 1))\n",
    "    else:\n",
    "        years = [int(training_year)]\n",
    "\n",
    "    df = df[df[\"year\"].isin(years)].reset_index(drop=True)\n",
    "\n",
    "    # --- map training_size to total number of samples ---\n",
    "    total_map = {\"25k\": 25_000, \"5k\": 5_000, \"1k\": 1_000}\n",
    "    if training_size not in total_map:\n",
    "        return df  # e.g. \"all\"\n",
    "\n",
    "    total_samples = total_map[training_size]\n",
    "    n_years       = len(years)\n",
    "    base          = total_samples // n_years\n",
    "    remainder     = total_samples % n_years\n",
    "\n",
    "    # --- build a dict: year -> how many to sample ---\n",
    "    # give +1 to the first `remainder` years in ascending order\n",
    "    quotas = {\n",
    "        year: base + (1 if idx < remainder else 0)\n",
    "        for idx, year in enumerate(sorted(years))\n",
    "    }\n",
    "\n",
    "    # --- sample per‐year according to the quota dict ---\n",
    "    sampled = (\n",
    "        df\n",
    "        .groupby(\"year\", group_keys=False)\n",
    "        .apply(lambda grp: grp.sample(\n",
    "            n=min(len(grp), quotas[grp.name]),\n",
    "            random_state=random_state))\n",
    "        .reset_index(drop=True)\n",
    "    )\n",
    "\n",
    "    return sampled"
   ]
  },
  {
   "cell_type": "code",
   "execution_count": 15,
   "id": "c0ccd338-0e02-41f3-a09d-f56f9266e3fb",
   "metadata": {
    "execution": {
     "iopub.execute_input": "2025-07-30T20:49:39.671857Z",
     "iopub.status.busy": "2025-07-30T20:49:39.671210Z",
     "iopub.status.idle": "2025-07-30T20:49:39.676254Z",
     "shell.execute_reply": "2025-07-30T20:49:39.675312Z"
    },
    "papermill": {
     "duration": 0.027695,
     "end_time": "2025-07-30T20:49:39.677946",
     "exception": false,
     "start_time": "2025-07-30T20:49:39.650251",
     "status": "completed"
    },
    "tags": []
   },
   "outputs": [],
   "source": [
    "#universe[\"training_size\"]"
   ]
  },
  {
   "cell_type": "code",
   "execution_count": 16,
   "id": "ca707fd7-8047-4acd-bfa5-66248fbbf8e6",
   "metadata": {
    "execution": {
     "iopub.execute_input": "2025-07-30T20:49:39.721305Z",
     "iopub.status.busy": "2025-07-30T20:49:39.720669Z",
     "iopub.status.idle": "2025-07-30T20:49:39.725723Z",
     "shell.execute_reply": "2025-07-30T20:49:39.724892Z"
    },
    "papermill": {
     "duration": 0.028141,
     "end_time": "2025-07-30T20:49:39.727372",
     "exception": false,
     "start_time": "2025-07-30T20:49:39.699231",
     "status": "completed"
    },
    "tags": []
   },
   "outputs": [],
   "source": [
    "#universe[\"training_year\"]"
   ]
  },
  {
   "cell_type": "code",
   "execution_count": 17,
   "id": "aea9c6ef-6f46-42c8-85eb-5a62025c1508",
   "metadata": {
    "execution": {
     "iopub.execute_input": "2025-07-30T20:49:39.770844Z",
     "iopub.status.busy": "2025-07-30T20:49:39.770190Z",
     "iopub.status.idle": "2025-07-30T20:49:39.996731Z",
     "shell.execute_reply": "2025-07-30T20:49:39.995812Z"
    },
    "papermill": {
     "duration": 0.250342,
     "end_time": "2025-07-30T20:49:39.998654",
     "exception": false,
     "start_time": "2025-07-30T20:49:39.748312",
     "status": "completed"
    },
    "tags": []
   },
   "outputs": [],
   "source": [
    "siab_train = sample_by_year_size(siab,\n",
    "                               training_year=universe[\"training_year\"],\n",
    "                               training_size=universe[\"training_size\"])"
   ]
  },
  {
   "cell_type": "code",
   "execution_count": 18,
   "id": "8d3afb32-789d-442c-8d5d-9f5aa8dd2eed",
   "metadata": {
    "execution": {
     "iopub.execute_input": "2025-07-30T20:49:40.039787Z",
     "iopub.status.busy": "2025-07-30T20:49:40.039134Z",
     "iopub.status.idle": "2025-07-30T20:49:40.044201Z",
     "shell.execute_reply": "2025-07-30T20:49:40.043305Z"
    },
    "papermill": {
     "duration": 0.027068,
     "end_time": "2025-07-30T20:49:40.045901",
     "exception": false,
     "start_time": "2025-07-30T20:49:40.018833",
     "status": "completed"
    },
    "tags": []
   },
   "outputs": [],
   "source": [
    "#siab_train.shape"
   ]
  },
  {
   "cell_type": "code",
   "execution_count": 19,
   "id": "d582db68-1a4c-47fb-84fc-08518dc1975a",
   "metadata": {
    "execution": {
     "iopub.execute_input": "2025-07-30T20:49:40.087085Z",
     "iopub.status.busy": "2025-07-30T20:49:40.086453Z",
     "iopub.status.idle": "2025-07-30T20:49:40.091400Z",
     "shell.execute_reply": "2025-07-30T20:49:40.090544Z"
    },
    "papermill": {
     "duration": 0.027036,
     "end_time": "2025-07-30T20:49:40.093052",
     "exception": false,
     "start_time": "2025-07-30T20:49:40.066016",
     "status": "completed"
    },
    "tags": []
   },
   "outputs": [],
   "source": [
    "#display(siab_train.groupby(\"year\").size())"
   ]
  },
  {
   "cell_type": "code",
   "execution_count": 20,
   "id": "a561edb4-d032-42cb-8256-22eac1111c64",
   "metadata": {
    "execution": {
     "iopub.execute_input": "2025-07-30T20:49:40.133981Z",
     "iopub.status.busy": "2025-07-30T20:49:40.133151Z",
     "iopub.status.idle": "2025-07-30T20:49:40.392915Z",
     "shell.execute_reply": "2025-07-30T20:49:40.391932Z"
    },
    "papermill": {
     "duration": 0.282047,
     "end_time": "2025-07-30T20:49:40.394802",
     "exception": false,
     "start_time": "2025-07-30T20:49:40.112755",
     "status": "completed"
    },
    "tags": []
   },
   "outputs": [],
   "source": [
    "#siab_train = siab_s[siab_s.year < 2015]\n",
    "siab_calib = siab[siab.year == 2015]\n",
    "siab_test = siab[siab.year == 2016]"
   ]
  },
  {
   "cell_type": "code",
   "execution_count": 21,
   "id": "472de16f-c3db-4916-846b-1f0de9cf1746",
   "metadata": {
    "execution": {
     "iopub.execute_input": "2025-07-30T20:49:40.437155Z",
     "iopub.status.busy": "2025-07-30T20:49:40.436219Z",
     "iopub.status.idle": "2025-07-30T20:49:40.444721Z",
     "shell.execute_reply": "2025-07-30T20:49:40.443746Z"
    },
    "papermill": {
     "duration": 0.031551,
     "end_time": "2025-07-30T20:49:40.446516",
     "exception": false,
     "start_time": "2025-07-30T20:49:40.414965",
     "status": "completed"
    },
    "tags": []
   },
   "outputs": [],
   "source": [
    "X_train = siab_train.iloc[:,4:164]\n",
    "y_train = siab_train.iloc[:, [3]]"
   ]
  },
  {
   "cell_type": "code",
   "execution_count": 22,
   "id": "828c96af-f43a-4ed6-ba47-8ac73a47d56c",
   "metadata": {
    "execution": {
     "iopub.execute_input": "2025-07-30T20:49:40.489012Z",
     "iopub.status.busy": "2025-07-30T20:49:40.488359Z",
     "iopub.status.idle": "2025-07-30T20:49:40.551598Z",
     "shell.execute_reply": "2025-07-30T20:49:40.550479Z"
    },
    "papermill": {
     "duration": 0.086144,
     "end_time": "2025-07-30T20:49:40.553275",
     "exception": false,
     "start_time": "2025-07-30T20:49:40.467131",
     "status": "completed"
    },
    "tags": []
   },
   "outputs": [],
   "source": [
    "X_calib = siab_calib.iloc[:,4:164]\n",
    "y_calib = siab_calib.iloc[:, [3]]"
   ]
  },
  {
   "cell_type": "code",
   "execution_count": 23,
   "id": "c34be9c3-6bd6-476e-acd3-845840e303be",
   "metadata": {
    "execution": {
     "iopub.execute_input": "2025-07-30T20:49:40.596921Z",
     "iopub.status.busy": "2025-07-30T20:49:40.596179Z",
     "iopub.status.idle": "2025-07-30T20:49:40.661606Z",
     "shell.execute_reply": "2025-07-30T20:49:40.660524Z"
    },
    "papermill": {
     "duration": 0.089272,
     "end_time": "2025-07-30T20:49:40.663590",
     "exception": false,
     "start_time": "2025-07-30T20:49:40.574318",
     "status": "completed"
    },
    "tags": []
   },
   "outputs": [],
   "source": [
    "X_test = siab_test.iloc[:,4:164]\n",
    "y_true = siab_test.iloc[:, [3]]"
   ]
  },
  {
   "cell_type": "markdown",
   "id": "9901737e-04df-44f0-9100-f5ad144ed040",
   "metadata": {
    "papermill": {
     "duration": 0.026035,
     "end_time": "2025-07-30T20:49:40.716279",
     "exception": false,
     "start_time": "2025-07-30T20:49:40.690244",
     "status": "completed"
    },
    "tags": []
   },
   "source": [
    "# Splitting Data and Setting Training Data Size OLD VERSION"
   ]
  },
  {
   "cell_type": "code",
   "execution_count": 24,
   "id": "acbc8f7d-8fc8-4e86-8c59-5dcb0f58384b",
   "metadata": {
    "execution": {
     "iopub.execute_input": "2025-07-30T20:49:40.770110Z",
     "iopub.status.busy": "2025-07-30T20:49:40.769422Z",
     "iopub.status.idle": "2025-07-30T20:49:40.775523Z",
     "shell.execute_reply": "2025-07-30T20:49:40.774543Z"
    },
    "papermill": {
     "duration": 0.035299,
     "end_time": "2025-07-30T20:49:40.777569",
     "exception": false,
     "start_time": "2025-07-30T20:49:40.742270",
     "status": "completed"
    },
    "tags": []
   },
   "outputs": [],
   "source": [
    "#def sample_by_year(df, training_size, random_state=42):\n",
    "#    if training_size == \"2014\":\n",
    "#        return df[df[\"year\"] == 2014].reset_index(drop=True)\n",
    "#    \n",
    "#    size_map = {\n",
    "#        \"25k\": 5000,\n",
    "#        \"5k\": 1000,\n",
    "#        \"1k\": 200\n",
    "#    }\n",
    "#\n",
    "#    if training_size not in size_map:\n",
    "#        return df.reset_index(drop=True)  # use all data\n",
    "#\n",
    "#    n_per_year = size_map[training_size]\n",
    "#    grouped = df.groupby(\"year\")\n",
    "#    sampled = grouped.apply(lambda x: x.sample(n=min(n_per_year, len(x)), random_state=random_state))\n",
    "#    return sampled.reset_index(drop=True)"
   ]
  },
  {
   "cell_type": "code",
   "execution_count": 25,
   "id": "6d931f52-beaf-43ff-9e78-9d44a448d54e",
   "metadata": {
    "execution": {
     "iopub.execute_input": "2025-07-30T20:49:40.837454Z",
     "iopub.status.busy": "2025-07-30T20:49:40.836772Z",
     "iopub.status.idle": "2025-07-30T20:49:40.842399Z",
     "shell.execute_reply": "2025-07-30T20:49:40.841426Z"
    },
    "papermill": {
     "duration": 0.040178,
     "end_time": "2025-07-30T20:49:40.844264",
     "exception": false,
     "start_time": "2025-07-30T20:49:40.804086",
     "status": "completed"
    },
    "tags": []
   },
   "outputs": [],
   "source": [
    "#siab_s = sample_by_year(siab, universe[\"training_size\"])"
   ]
  },
  {
   "cell_type": "code",
   "execution_count": 26,
   "id": "5db0a40e-a4e2-4920-be85-b12ae061d70d",
   "metadata": {
    "execution": {
     "iopub.execute_input": "2025-07-30T20:49:40.898958Z",
     "iopub.status.busy": "2025-07-30T20:49:40.898279Z",
     "iopub.status.idle": "2025-07-30T20:49:40.903675Z",
     "shell.execute_reply": "2025-07-30T20:49:40.902753Z"
    },
    "papermill": {
     "duration": 0.034899,
     "end_time": "2025-07-30T20:49:40.905733",
     "exception": false,
     "start_time": "2025-07-30T20:49:40.870834",
     "status": "completed"
    },
    "tags": []
   },
   "outputs": [],
   "source": [
    "#display(siab_s.groupby(\"year\").size())"
   ]
  },
  {
   "cell_type": "code",
   "execution_count": 27,
   "id": "e6c733c5",
   "metadata": {
    "execution": {
     "iopub.execute_input": "2025-07-30T20:49:40.960968Z",
     "iopub.status.busy": "2025-07-30T20:49:40.960287Z",
     "iopub.status.idle": "2025-07-30T20:49:41.080149Z",
     "shell.execute_reply": "2025-07-30T20:49:41.079052Z"
    },
    "papermill": {
     "duration": 0.149438,
     "end_time": "2025-07-30T20:49:41.082101",
     "exception": false,
     "start_time": "2025-07-30T20:49:40.932663",
     "status": "completed"
    },
    "tags": []
   },
   "outputs": [],
   "source": [
    "# Auxiliary data needed downstream in the pipeline\n",
    "\n",
    "org_train = X_train.copy()\n",
    "org_test = X_test.copy()\n",
    "org_calib = X_calib.copy()"
   ]
  },
  {
   "cell_type": "code",
   "execution_count": 28,
   "id": "1466abac-c6da-4492-a62f-4240ae3783af",
   "metadata": {
    "execution": {
     "iopub.execute_input": "2025-07-30T20:49:41.124704Z",
     "iopub.status.busy": "2025-07-30T20:49:41.123817Z",
     "iopub.status.idle": "2025-07-30T20:49:41.129439Z",
     "shell.execute_reply": "2025-07-30T20:49:41.128556Z"
    },
    "papermill": {
     "duration": 0.029336,
     "end_time": "2025-07-30T20:49:41.131779",
     "exception": false,
     "start_time": "2025-07-30T20:49:41.102443",
     "status": "completed"
    },
    "tags": []
   },
   "outputs": [],
   "source": [
    "# put in other script?\n",
    "# Group sizes\n",
    "\n",
    "#def calculate_percentages(df, df_name):\n",
    "#    total_entries = len(df)\n",
    "#\n",
    "#    female_pct = (df['frau1'] == 1).mean() * 100\n",
    "#    non_german_pct = ((df['maxdeutsch1'] == 0) & (df['maxdeutsch.Missing.'] == 0)).mean() * 100\n",
    "#    non_german_male_pct = ((df['frau1'] == 0) & (df['maxdeutsch1'] == 0) & (df['maxdeutsch.Missing.'] == 0)).mean() * 100\n",
    "#    non_german_female_pct = ((df['frau1'] == 1) & (df['maxdeutsch1'] == 0) & (df['maxdeutsch.Missing.'] == 0)).mean() * 100\n",
    "#\n",
    "#    print(f\"--- {df_name} ---\")\n",
    "#    print(f\"Female: {female_pct:.2f}%\")\n",
    "#    print(f\"Non-German: {non_german_pct:.2f}%\")\n",
    "#    print(f\"Non-German Male: {non_german_male_pct:.2f}%\")\n",
    "#    print(f\"Non-German Female: {non_german_female_pct:.2f}%\\n\")\n",
    "#\n",
    "## Calculate for each DataFrame\n",
    "#calculate_percentages(siab_calib, \"siab_calib\")\n",
    "#calculate_percentages(siab_test, \"siab_test\")\n",
    "#calculate_percentages(siab_train, \"siab_train\")"
   ]
  },
  {
   "cell_type": "markdown",
   "id": "0a4a1b33",
   "metadata": {
    "papermill": {
     "duration": 0.026261,
     "end_time": "2025-07-30T20:49:41.184944",
     "exception": false,
     "start_time": "2025-07-30T20:49:41.158683",
     "status": "completed"
    },
    "tags": []
   },
   "source": [
    "# Preprocessing Data"
   ]
  },
  {
   "cell_type": "code",
   "execution_count": 29,
   "id": "ca879031",
   "metadata": {
    "execution": {
     "iopub.execute_input": "2025-07-30T20:49:41.244895Z",
     "iopub.status.busy": "2025-07-30T20:49:41.244147Z",
     "iopub.status.idle": "2025-07-30T20:49:41.251607Z",
     "shell.execute_reply": "2025-07-30T20:49:41.250353Z"
    },
    "papermill": {
     "duration": 0.04192,
     "end_time": "2025-07-30T20:49:41.253731",
     "exception": false,
     "start_time": "2025-07-30T20:49:41.211811",
     "status": "completed"
    },
    "tags": []
   },
   "outputs": [],
   "source": [
    "# EXCLUDE PROTECTED FEATURES\n",
    "# ----------------------\n",
    "# \"exclude_features\": \"none\", # \"nationality\", \"sex\", \"nationality-sex\"\n",
    "\n",
    "excluded_features = universe[\"exclude_features\"].split(\"-\") # split, e.g.: \"nationality-sex\" -> [\"nationality\", \"sex\"]\n",
    "excluded_features_dictionary = {\n",
    "    \"nationality\": [\"maxdeutsch1\", \"maxdeutsch.Missing.\"],\n",
    "    \"sex\": [\"frau1\"],\n",
    "    \"age\": [\"age\"],\n",
    "}\n"
   ]
  },
  {
   "cell_type": "code",
   "execution_count": 30,
   "id": "b745ac60",
   "metadata": {
    "execution": {
     "iopub.execute_input": "2025-07-30T20:49:41.319463Z",
     "iopub.status.busy": "2025-07-30T20:49:41.318746Z",
     "iopub.status.idle": "2025-07-30T20:49:41.325550Z",
     "shell.execute_reply": "2025-07-30T20:49:41.324466Z"
    },
    "papermill": {
     "duration": 0.042328,
     "end_time": "2025-07-30T20:49:41.327665",
     "exception": false,
     "start_time": "2025-07-30T20:49:41.285337",
     "status": "completed"
    },
    "tags": []
   },
   "outputs": [],
   "source": [
    "# Code nice names to column names\n",
    "\n",
    "excluded_features_columns = [\n",
    "    excluded_features_dictionary[f] for f in excluded_features if len(f) > 0 and f != \"none\"\n",
    "]"
   ]
  },
  {
   "cell_type": "code",
   "execution_count": 31,
   "id": "f84f73a2",
   "metadata": {
    "execution": {
     "iopub.execute_input": "2025-07-30T20:49:41.393026Z",
     "iopub.status.busy": "2025-07-30T20:49:41.392630Z",
     "iopub.status.idle": "2025-07-30T20:49:41.399401Z",
     "shell.execute_reply": "2025-07-30T20:49:41.398406Z"
    },
    "papermill": {
     "duration": 0.042016,
     "end_time": "2025-07-30T20:49:41.401540",
     "exception": false,
     "start_time": "2025-07-30T20:49:41.359524",
     "status": "completed"
    },
    "tags": []
   },
   "outputs": [],
   "source": [
    "from utils import flatten_once\n",
    "\n",
    "excluded_features_columns = flatten_once(excluded_features_columns)"
   ]
  },
  {
   "cell_type": "code",
   "execution_count": 32,
   "id": "884dea22",
   "metadata": {
    "execution": {
     "iopub.execute_input": "2025-07-30T20:49:41.467021Z",
     "iopub.status.busy": "2025-07-30T20:49:41.466043Z",
     "iopub.status.idle": "2025-07-30T20:49:41.478367Z",
     "shell.execute_reply": "2025-07-30T20:49:41.477154Z"
    },
    "papermill": {
     "duration": 0.046675,
     "end_time": "2025-07-30T20:49:41.479951",
     "exception": false,
     "start_time": "2025-07-30T20:49:41.433276",
     "status": "completed"
    },
    "tags": []
   },
   "outputs": [
    {
     "name": "stdout",
     "output_type": "stream",
     "text": [
      "Dropping features: ['frau1']\n"
     ]
    }
   ],
   "source": [
    "if len(excluded_features_columns) > 0:\n",
    "    print(f\"Dropping features: {excluded_features_columns}\")\n",
    "    X_train.drop(excluded_features_columns, axis=1, inplace=True)"
   ]
  },
  {
   "cell_type": "code",
   "execution_count": 33,
   "id": "95ab8b16",
   "metadata": {
    "execution": {
     "iopub.execute_input": "2025-07-30T20:49:41.523648Z",
     "iopub.status.busy": "2025-07-30T20:49:41.522708Z",
     "iopub.status.idle": "2025-07-30T20:49:41.601535Z",
     "shell.execute_reply": "2025-07-30T20:49:41.600386Z"
    },
    "papermill": {
     "duration": 0.102719,
     "end_time": "2025-07-30T20:49:41.603775",
     "exception": false,
     "start_time": "2025-07-30T20:49:41.501056",
     "status": "completed"
    },
    "tags": []
   },
   "outputs": [
    {
     "name": "stdout",
     "output_type": "stream",
     "text": [
      "Dropping features: ['frau1']\n"
     ]
    }
   ],
   "source": [
    "if len(excluded_features_columns) > 0:\n",
    "    print(f\"Dropping features: {excluded_features_columns}\")\n",
    "    X_test.drop(excluded_features_columns, axis=1, inplace=True)"
   ]
  },
  {
   "cell_type": "code",
   "execution_count": 34,
   "id": "1853aaf5-fb9f-46cb-a2b5-8ea4ae2237e4",
   "metadata": {
    "execution": {
     "iopub.execute_input": "2025-07-30T20:49:41.668827Z",
     "iopub.status.busy": "2025-07-30T20:49:41.667645Z",
     "iopub.status.idle": "2025-07-30T20:49:41.718480Z",
     "shell.execute_reply": "2025-07-30T20:49:41.717417Z"
    },
    "papermill": {
     "duration": 0.084846,
     "end_time": "2025-07-30T20:49:41.720446",
     "exception": false,
     "start_time": "2025-07-30T20:49:41.635600",
     "status": "completed"
    },
    "tags": []
   },
   "outputs": [
    {
     "name": "stdout",
     "output_type": "stream",
     "text": [
      "Dropping features: ['frau1']\n"
     ]
    }
   ],
   "source": [
    "if len(excluded_features_columns) > 0:\n",
    "    print(f\"Dropping features: {excluded_features_columns}\")\n",
    "    X_calib.drop(excluded_features_columns, axis=1, inplace=True)"
   ]
  },
  {
   "cell_type": "code",
   "execution_count": 35,
   "id": "6727d079-03e5-481e-9d38-292a90b7a0a8",
   "metadata": {
    "execution": {
     "iopub.execute_input": "2025-07-30T20:49:41.764559Z",
     "iopub.status.busy": "2025-07-30T20:49:41.763628Z",
     "iopub.status.idle": "2025-07-30T20:49:41.769655Z",
     "shell.execute_reply": "2025-07-30T20:49:41.768622Z"
    },
    "papermill": {
     "duration": 0.029816,
     "end_time": "2025-07-30T20:49:41.771365",
     "exception": false,
     "start_time": "2025-07-30T20:49:41.741549",
     "status": "completed"
    },
    "tags": []
   },
   "outputs": [],
   "source": [
    "# SPLIT & STRATIFY DATA\n",
    "# ----------------------"
   ]
  },
  {
   "cell_type": "code",
   "execution_count": 36,
   "id": "76c4dc6d",
   "metadata": {
    "execution": {
     "iopub.execute_input": "2025-07-30T20:49:41.815905Z",
     "iopub.status.busy": "2025-07-30T20:49:41.814977Z",
     "iopub.status.idle": "2025-07-30T20:49:41.822014Z",
     "shell.execute_reply": "2025-07-30T20:49:41.820824Z"
    },
    "papermill": {
     "duration": 0.030957,
     "end_time": "2025-07-30T20:49:41.823728",
     "exception": false,
     "start_time": "2025-07-30T20:49:41.792771",
     "status": "completed"
    },
    "tags": []
   },
   "outputs": [],
   "source": [
    "# EXCLUDE CERTAIN SUBGROUPS\n",
    "# ----------------------\n",
    "\n",
    "mode = universe.get(\"exclude_subgroups\", \"keep-all\") \n",
    "# Fetches the exclude_subgroups setting from the universe dict.\n",
    "# Defaults to \"keep-all\" if the key is missing."
   ]
  },
  {
   "cell_type": "code",
   "execution_count": 37,
   "id": "21994072",
   "metadata": {
    "execution": {
     "iopub.execute_input": "2025-07-30T20:49:41.868683Z",
     "iopub.status.busy": "2025-07-30T20:49:41.867891Z",
     "iopub.status.idle": "2025-07-30T20:49:41.876574Z",
     "shell.execute_reply": "2025-07-30T20:49:41.875448Z"
    },
    "papermill": {
     "duration": 0.032426,
     "end_time": "2025-07-30T20:49:41.878163",
     "exception": false,
     "start_time": "2025-07-30T20:49:41.845737",
     "status": "completed"
    },
    "tags": []
   },
   "outputs": [],
   "source": [
    "if mode == \"keep-all\":\n",
    "    keep_mask = pd.Series(True, index=org_train.index)\n",
    "\n",
    "# org_train contains the original feature columns from features_org (in Simson)\n",
    "# features_org contains unprocessed features, for me X_train at beginning ???\n",
    "# For keep-all, creates a boolean Series (keep_mask) of all True, so no rows are removed.\n",
    "\n",
    "elif mode == \"drop-non-german\":\n",
    "    keep_mask = org_train[\"maxdeutsch1\"] == 1 # ??? what about missing values?\n",
    "\n",
    "else:\n",
    "    raise ValueError(f\"Unsupported mode for exclude_subgroups: {mode}\")\n"
   ]
  },
  {
   "cell_type": "code",
   "execution_count": 38,
   "id": "71651440",
   "metadata": {
    "execution": {
     "iopub.execute_input": "2025-07-30T20:49:41.923189Z",
     "iopub.status.busy": "2025-07-30T20:49:41.922260Z",
     "iopub.status.idle": "2025-07-30T20:49:41.930730Z",
     "shell.execute_reply": "2025-07-30T20:49:41.929749Z"
    },
    "papermill": {
     "duration": 0.032851,
     "end_time": "2025-07-30T20:49:41.932580",
     "exception": false,
     "start_time": "2025-07-30T20:49:41.899729",
     "status": "completed"
    },
    "tags": []
   },
   "outputs": [
    {
     "name": "stdout",
     "output_type": "stream",
     "text": [
      "Dropping 741 rows (14.82%) where mode='drop-non-german'\n"
     ]
    }
   ],
   "source": [
    "n_drop = (~keep_mask).sum() # Calculates how many rows are set to be dropped\n",
    "if n_drop > 0:\n",
    "    pct = n_drop / len(keep_mask) * 100\n",
    "    print(f\"Dropping {n_drop} rows ({pct:.2f}%) where mode='{mode}'\")"
   ]
  },
  {
   "cell_type": "code",
   "execution_count": 39,
   "id": "5fb8eee5",
   "metadata": {
    "execution": {
     "iopub.execute_input": "2025-07-30T20:49:41.977760Z",
     "iopub.status.busy": "2025-07-30T20:49:41.976838Z",
     "iopub.status.idle": "2025-07-30T20:49:41.987316Z",
     "shell.execute_reply": "2025-07-30T20:49:41.986199Z"
    },
    "papermill": {
     "duration": 0.034929,
     "end_time": "2025-07-30T20:49:41.989076",
     "exception": false,
     "start_time": "2025-07-30T20:49:41.954147",
     "status": "completed"
    },
    "tags": []
   },
   "outputs": [],
   "source": [
    "X_train = X_train[keep_mask]"
   ]
  },
  {
   "cell_type": "code",
   "execution_count": 40,
   "id": "b202bb3a",
   "metadata": {
    "execution": {
     "iopub.execute_input": "2025-07-30T20:49:42.034461Z",
     "iopub.status.busy": "2025-07-30T20:49:42.033529Z",
     "iopub.status.idle": "2025-07-30T20:49:42.040930Z",
     "shell.execute_reply": "2025-07-30T20:49:42.039535Z"
    },
    "papermill": {
     "duration": 0.031711,
     "end_time": "2025-07-30T20:49:42.042652",
     "exception": false,
     "start_time": "2025-07-30T20:49:42.010941",
     "status": "completed"
    },
    "tags": []
   },
   "outputs": [],
   "source": [
    "y_train = y_train[keep_mask]"
   ]
  },
  {
   "cell_type": "markdown",
   "id": "493e2ac3",
   "metadata": {
    "papermill": {
     "duration": 0.020884,
     "end_time": "2025-07-30T20:49:42.085497",
     "exception": false,
     "start_time": "2025-07-30T20:49:42.064613",
     "status": "completed"
    },
    "tags": []
   },
   "source": [
    "# Model Training"
   ]
  },
  {
   "cell_type": "code",
   "execution_count": 41,
   "id": "679e1268",
   "metadata": {
    "execution": {
     "iopub.execute_input": "2025-07-30T20:49:42.129844Z",
     "iopub.status.busy": "2025-07-30T20:49:42.129085Z",
     "iopub.status.idle": "2025-07-30T20:49:42.256701Z",
     "shell.execute_reply": "2025-07-30T20:49:42.255609Z"
    },
    "papermill": {
     "duration": 0.152006,
     "end_time": "2025-07-30T20:49:42.258626",
     "exception": false,
     "start_time": "2025-07-30T20:49:42.106620",
     "status": "completed"
    },
    "tags": []
   },
   "outputs": [],
   "source": [
    "from sklearn.linear_model import LogisticRegression\n",
    "from sklearn.ensemble import GradientBoostingClassifier, RandomForestClassifier\n",
    "\n",
    "if (universe[\"model\"] == \"logreg\"):\n",
    "    model = LogisticRegression() #penalty=\"none\") #, solver=\"newton-cg\", max_iter=1) # include random_state=19 ?\n",
    "elif (universe[\"model\"] == \"penalized_logreg\"):\n",
    "    model = LogisticRegression(penalty=\"l2\", C=1.0) #, solver=\"newton-cg\", max_iter=1)\n",
    "elif (universe[\"model\"] == \"rf\"):\n",
    "    model = RandomForestClassifier(n_estimators=100, n_jobs=-1)\n",
    "elif (universe[\"model\"] == \"gbm\"):\n",
    "    model = GradientBoostingClassifier()\n",
    "elif (universe[\"model\"] == \"elasticnet\"):\n",
    "    model = LogisticRegression(penalty = 'elasticnet', solver = 'saga', l1_ratio = 0.5, max_iter=5000) # which solver to use?\n",
    "else:\n",
    "    raise \"Unsupported universe.model\""
   ]
  },
  {
   "cell_type": "code",
   "execution_count": 42,
   "id": "0cc8f744",
   "metadata": {
    "execution": {
     "iopub.execute_input": "2025-07-30T20:49:42.303451Z",
     "iopub.status.busy": "2025-07-30T20:49:42.302853Z",
     "iopub.status.idle": "2025-07-30T20:49:42.309596Z",
     "shell.execute_reply": "2025-07-30T20:49:42.308559Z"
    },
    "papermill": {
     "duration": 0.03052,
     "end_time": "2025-07-30T20:49:42.311284",
     "exception": false,
     "start_time": "2025-07-30T20:49:42.280764",
     "status": "completed"
    },
    "tags": []
   },
   "outputs": [],
   "source": [
    "import numpy as np\n",
    "from sklearn.pipeline import Pipeline\n",
    "from sklearn.preprocessing import StandardScaler\n",
    "\n",
    "model = Pipeline([\n",
    "    #(\"continuous_processor\", continuous_processor),\n",
    "    #(\"categorical_preprocessor\", categorical_preprocessor),\n",
    "    (\"scale\", StandardScaler() if universe[\"scale\"] == \"scale\" else None), \n",
    "    (\"model\", model),\n",
    "])"
   ]
  },
  {
   "cell_type": "code",
   "execution_count": 43,
   "id": "9442c04d",
   "metadata": {
    "execution": {
     "iopub.execute_input": "2025-07-30T20:49:42.355879Z",
     "iopub.status.busy": "2025-07-30T20:49:42.355301Z",
     "iopub.status.idle": "2025-07-30T20:49:49.979251Z",
     "shell.execute_reply": "2025-07-30T20:49:49.978267Z"
    },
    "papermill": {
     "duration": 7.647698,
     "end_time": "2025-07-30T20:49:49.980891",
     "exception": false,
     "start_time": "2025-07-30T20:49:42.333193",
     "status": "completed"
    },
    "tags": []
   },
   "outputs": [
    {
     "data": {
      "text/html": [
       "<style>#sk-container-id-1 {color: black;background-color: white;}#sk-container-id-1 pre{padding: 0;}#sk-container-id-1 div.sk-toggleable {background-color: white;}#sk-container-id-1 label.sk-toggleable__label {cursor: pointer;display: block;width: 100%;margin-bottom: 0;padding: 0.3em;box-sizing: border-box;text-align: center;}#sk-container-id-1 label.sk-toggleable__label-arrow:before {content: \"▸\";float: left;margin-right: 0.25em;color: #696969;}#sk-container-id-1 label.sk-toggleable__label-arrow:hover:before {color: black;}#sk-container-id-1 div.sk-estimator:hover label.sk-toggleable__label-arrow:before {color: black;}#sk-container-id-1 div.sk-toggleable__content {max-height: 0;max-width: 0;overflow: hidden;text-align: left;background-color: #f0f8ff;}#sk-container-id-1 div.sk-toggleable__content pre {margin: 0.2em;color: black;border-radius: 0.25em;background-color: #f0f8ff;}#sk-container-id-1 input.sk-toggleable__control:checked~div.sk-toggleable__content {max-height: 200px;max-width: 100%;overflow: auto;}#sk-container-id-1 input.sk-toggleable__control:checked~label.sk-toggleable__label-arrow:before {content: \"▾\";}#sk-container-id-1 div.sk-estimator input.sk-toggleable__control:checked~label.sk-toggleable__label {background-color: #d4ebff;}#sk-container-id-1 div.sk-label input.sk-toggleable__control:checked~label.sk-toggleable__label {background-color: #d4ebff;}#sk-container-id-1 input.sk-hidden--visually {border: 0;clip: rect(1px 1px 1px 1px);clip: rect(1px, 1px, 1px, 1px);height: 1px;margin: -1px;overflow: hidden;padding: 0;position: absolute;width: 1px;}#sk-container-id-1 div.sk-estimator {font-family: monospace;background-color: #f0f8ff;border: 1px dotted black;border-radius: 0.25em;box-sizing: border-box;margin-bottom: 0.5em;}#sk-container-id-1 div.sk-estimator:hover {background-color: #d4ebff;}#sk-container-id-1 div.sk-parallel-item::after {content: \"\";width: 100%;border-bottom: 1px solid gray;flex-grow: 1;}#sk-container-id-1 div.sk-label:hover label.sk-toggleable__label {background-color: #d4ebff;}#sk-container-id-1 div.sk-serial::before {content: \"\";position: absolute;border-left: 1px solid gray;box-sizing: border-box;top: 0;bottom: 0;left: 50%;z-index: 0;}#sk-container-id-1 div.sk-serial {display: flex;flex-direction: column;align-items: center;background-color: white;padding-right: 0.2em;padding-left: 0.2em;position: relative;}#sk-container-id-1 div.sk-item {position: relative;z-index: 1;}#sk-container-id-1 div.sk-parallel {display: flex;align-items: stretch;justify-content: center;background-color: white;position: relative;}#sk-container-id-1 div.sk-item::before, #sk-container-id-1 div.sk-parallel-item::before {content: \"\";position: absolute;border-left: 1px solid gray;box-sizing: border-box;top: 0;bottom: 0;left: 50%;z-index: -1;}#sk-container-id-1 div.sk-parallel-item {display: flex;flex-direction: column;z-index: 1;position: relative;background-color: white;}#sk-container-id-1 div.sk-parallel-item:first-child::after {align-self: flex-end;width: 50%;}#sk-container-id-1 div.sk-parallel-item:last-child::after {align-self: flex-start;width: 50%;}#sk-container-id-1 div.sk-parallel-item:only-child::after {width: 0;}#sk-container-id-1 div.sk-dashed-wrapped {border: 1px dashed gray;margin: 0 0.4em 0.5em 0.4em;box-sizing: border-box;padding-bottom: 0.4em;background-color: white;}#sk-container-id-1 div.sk-label label {font-family: monospace;font-weight: bold;display: inline-block;line-height: 1.2em;}#sk-container-id-1 div.sk-label-container {text-align: center;}#sk-container-id-1 div.sk-container {/* jupyter's `normalize.less` sets `[hidden] { display: none; }` but bootstrap.min.css set `[hidden] { display: none !important; }` so we also need the `!important` here to be able to override the default hidden behavior on the sphinx rendered scikit-learn.org. See: https://github.com/scikit-learn/scikit-learn/issues/21755 */display: inline-block !important;position: relative;}#sk-container-id-1 div.sk-text-repr-fallback {display: none;}</style><div id=\"sk-container-id-1\" class=\"sk-top-container\"><div class=\"sk-text-repr-fallback\"><pre>Pipeline(steps=[(&#x27;scale&#x27;, StandardScaler()),\n",
       "                (&#x27;model&#x27;,\n",
       "                 LogisticRegression(l1_ratio=0.5, max_iter=5000,\n",
       "                                    penalty=&#x27;elasticnet&#x27;, solver=&#x27;saga&#x27;))])</pre><b>In a Jupyter environment, please rerun this cell to show the HTML representation or trust the notebook. <br />On GitHub, the HTML representation is unable to render, please try loading this page with nbviewer.org.</b></div><div class=\"sk-container\" hidden><div class=\"sk-item sk-dashed-wrapped\"><div class=\"sk-label-container\"><div class=\"sk-label sk-toggleable\"><input class=\"sk-toggleable__control sk-hidden--visually\" id=\"sk-estimator-id-1\" type=\"checkbox\" ><label for=\"sk-estimator-id-1\" class=\"sk-toggleable__label sk-toggleable__label-arrow\">Pipeline</label><div class=\"sk-toggleable__content\"><pre>Pipeline(steps=[(&#x27;scale&#x27;, StandardScaler()),\n",
       "                (&#x27;model&#x27;,\n",
       "                 LogisticRegression(l1_ratio=0.5, max_iter=5000,\n",
       "                                    penalty=&#x27;elasticnet&#x27;, solver=&#x27;saga&#x27;))])</pre></div></div></div><div class=\"sk-serial\"><div class=\"sk-item\"><div class=\"sk-estimator sk-toggleable\"><input class=\"sk-toggleable__control sk-hidden--visually\" id=\"sk-estimator-id-2\" type=\"checkbox\" ><label for=\"sk-estimator-id-2\" class=\"sk-toggleable__label sk-toggleable__label-arrow\">StandardScaler</label><div class=\"sk-toggleable__content\"><pre>StandardScaler()</pre></div></div></div><div class=\"sk-item\"><div class=\"sk-estimator sk-toggleable\"><input class=\"sk-toggleable__control sk-hidden--visually\" id=\"sk-estimator-id-3\" type=\"checkbox\" ><label for=\"sk-estimator-id-3\" class=\"sk-toggleable__label sk-toggleable__label-arrow\">LogisticRegression</label><div class=\"sk-toggleable__content\"><pre>LogisticRegression(l1_ratio=0.5, max_iter=5000, penalty=&#x27;elasticnet&#x27;,\n",
       "                   solver=&#x27;saga&#x27;)</pre></div></div></div></div></div></div></div>"
      ],
      "text/plain": [
       "Pipeline(steps=[('scale', StandardScaler()),\n",
       "                ('model',\n",
       "                 LogisticRegression(l1_ratio=0.5, max_iter=5000,\n",
       "                                    penalty='elasticnet', solver='saga'))])"
      ]
     },
     "execution_count": 43,
     "metadata": {},
     "output_type": "execute_result"
    }
   ],
   "source": [
    "model.fit(X_train, y_train.values.ravel())"
   ]
  },
  {
   "cell_type": "code",
   "execution_count": 44,
   "id": "af59f8c0",
   "metadata": {
    "execution": {
     "iopub.execute_input": "2025-07-30T20:49:50.033128Z",
     "iopub.status.busy": "2025-07-30T20:49:50.032500Z",
     "iopub.status.idle": "2025-07-30T20:49:50.037686Z",
     "shell.execute_reply": "2025-07-30T20:49:50.036766Z"
    },
    "papermill": {
     "duration": 0.028658,
     "end_time": "2025-07-30T20:49:50.039172",
     "exception": false,
     "start_time": "2025-07-30T20:49:50.010514",
     "status": "completed"
    },
    "tags": []
   },
   "outputs": [],
   "source": [
    "from fairness_multiverse.universe import predict_w_threshold"
   ]
  },
  {
   "cell_type": "code",
   "execution_count": 45,
   "id": "a7cf2e16",
   "metadata": {
    "execution": {
     "iopub.execute_input": "2025-07-30T20:49:50.083713Z",
     "iopub.status.busy": "2025-07-30T20:49:50.082947Z",
     "iopub.status.idle": "2025-07-30T20:49:50.270187Z",
     "shell.execute_reply": "2025-07-30T20:49:50.269306Z"
    },
    "papermill": {
     "duration": 0.210673,
     "end_time": "2025-07-30T20:49:50.271859",
     "exception": false,
     "start_time": "2025-07-30T20:49:50.061186",
     "status": "completed"
    },
    "tags": []
   },
   "outputs": [
    {
     "data": {
      "text/plain": [
       "0.8566157618994538"
      ]
     },
     "execution_count": 45,
     "metadata": {},
     "output_type": "execute_result"
    }
   ],
   "source": [
    "probs_test = model.predict_proba(X_test)\n",
    "\n",
    "'''\n",
    "Below code returns a boolean array (or binary 0/1 array depending on how it’s used) where each element \n",
    "is True if the probability of class 1 is greater than or equal to the threshold, and False otherwise.\n",
    "'''\n",
    "y_pred_default = predict_w_threshold(probs_test, 0.5)\n",
    "\n",
    "from sklearn.metrics import accuracy_score\n",
    "\n",
    "# Naive prediction\n",
    "accuracy_score(y_true = y_true, y_pred = y_pred_default)"
   ]
  },
  {
   "cell_type": "code",
   "execution_count": 46,
   "id": "081964c3",
   "metadata": {
    "execution": {
     "iopub.execute_input": "2025-07-30T20:49:50.318508Z",
     "iopub.status.busy": "2025-07-30T20:49:50.317872Z",
     "iopub.status.idle": "2025-07-30T20:49:50.497812Z",
     "shell.execute_reply": "2025-07-30T20:49:50.497008Z"
    },
    "papermill": {
     "duration": 0.205045,
     "end_time": "2025-07-30T20:49:50.499322",
     "exception": false,
     "start_time": "2025-07-30T20:49:50.294277",
     "status": "completed"
    },
    "tags": []
   },
   "outputs": [
    {
     "data": {
      "text/plain": [
       "array([0, 0, 0, ..., 0, 0, 0])"
      ]
     },
     "execution_count": 46,
     "metadata": {},
     "output_type": "execute_result"
    }
   ],
   "source": [
    "model.predict(X_test)"
   ]
  },
  {
   "cell_type": "markdown",
   "id": "56c9705b",
   "metadata": {
    "papermill": {
     "duration": 0.022478,
     "end_time": "2025-07-30T20:49:50.544975",
     "exception": false,
     "start_time": "2025-07-30T20:49:50.522497",
     "status": "completed"
    },
    "tags": []
   },
   "source": [
    "# Conformal Prediction"
   ]
  },
  {
   "cell_type": "code",
   "execution_count": 47,
   "id": "160ec6ff",
   "metadata": {
    "execution": {
     "iopub.execute_input": "2025-07-30T20:49:50.592315Z",
     "iopub.status.busy": "2025-07-30T20:49:50.591668Z",
     "iopub.status.idle": "2025-07-30T20:49:50.597698Z",
     "shell.execute_reply": "2025-07-30T20:49:50.596826Z"
    },
    "papermill": {
     "duration": 0.031615,
     "end_time": "2025-07-30T20:49:50.599473",
     "exception": false,
     "start_time": "2025-07-30T20:49:50.567858",
     "status": "completed"
    },
    "tags": []
   },
   "outputs": [],
   "source": [
    "# Miscoverage level for conformal prediction (10% allowed error rate => 90% target coverage)\n",
    "alpha = 0.1"
   ]
  },
  {
   "cell_type": "code",
   "execution_count": 48,
   "id": "eadf4555-3dd3-440e-8e35-f82a4ad9f855",
   "metadata": {
    "execution": {
     "iopub.execute_input": "2025-07-30T20:49:50.648589Z",
     "iopub.status.busy": "2025-07-30T20:49:50.648098Z",
     "iopub.status.idle": "2025-07-30T20:49:50.819896Z",
     "shell.execute_reply": "2025-07-30T20:49:50.818946Z"
    },
    "papermill": {
     "duration": 0.198458,
     "end_time": "2025-07-30T20:49:50.821901",
     "exception": false,
     "start_time": "2025-07-30T20:49:50.623443",
     "status": "completed"
    },
    "tags": []
   },
   "outputs": [],
   "source": [
    "probs_calib = model.predict_proba(X_calib)"
   ]
  },
  {
   "cell_type": "code",
   "execution_count": 49,
   "id": "2ed93547-6d5d-4983-9b36-1ecb300da49a",
   "metadata": {
    "execution": {
     "iopub.execute_input": "2025-07-30T20:49:50.875662Z",
     "iopub.status.busy": "2025-07-30T20:49:50.874992Z",
     "iopub.status.idle": "2025-07-30T20:49:50.880632Z",
     "shell.execute_reply": "2025-07-30T20:49:50.879739Z"
    },
    "papermill": {
     "duration": 0.031908,
     "end_time": "2025-07-30T20:49:50.882336",
     "exception": false,
     "start_time": "2025-07-30T20:49:50.850428",
     "status": "completed"
    },
    "tags": []
   },
   "outputs": [],
   "source": [
    "y_calib = y_calib.values.ravel().astype(int)"
   ]
  },
  {
   "cell_type": "code",
   "execution_count": 50,
   "id": "65d1320d-f588-4b38-9072-62af1ae97f7d",
   "metadata": {
    "execution": {
     "iopub.execute_input": "2025-07-30T20:49:50.930407Z",
     "iopub.status.busy": "2025-07-30T20:49:50.929761Z",
     "iopub.status.idle": "2025-07-30T20:49:50.936856Z",
     "shell.execute_reply": "2025-07-30T20:49:50.935862Z"
    },
    "papermill": {
     "duration": 0.03577,
     "end_time": "2025-07-30T20:49:50.941353",
     "exception": false,
     "start_time": "2025-07-30T20:49:50.905583",
     "status": "completed"
    },
    "tags": []
   },
   "outputs": [],
   "source": [
    "from fairness_multiverse.conformal import compute_nc_scores\n",
    "\n",
    "# Compute nonconformity scores on calibration set (1 - probability of true class)\n",
    "nc_scores = compute_nc_scores(probs_calib, y_calib)"
   ]
  },
  {
   "cell_type": "code",
   "execution_count": 51,
   "id": "df3b8ca3-53b7-43d5-9667-7c85da7aeda2",
   "metadata": {
    "execution": {
     "iopub.execute_input": "2025-07-30T20:49:50.991684Z",
     "iopub.status.busy": "2025-07-30T20:49:50.990900Z",
     "iopub.status.idle": "2025-07-30T20:49:50.997693Z",
     "shell.execute_reply": "2025-07-30T20:49:50.996834Z"
    },
    "papermill": {
     "duration": 0.034011,
     "end_time": "2025-07-30T20:49:50.999346",
     "exception": false,
     "start_time": "2025-07-30T20:49:50.965335",
     "status": "completed"
    },
    "tags": []
   },
   "outputs": [],
   "source": [
    "from fairness_multiverse.conformal import find_threshold\n",
    "\n",
    "# Find conformal threshold q_hat for the given alpha (split conformal method)\n",
    "q_hat = find_threshold(nc_scores, alpha)"
   ]
  },
  {
   "cell_type": "code",
   "execution_count": 52,
   "id": "4d29e6c1-0ef6-4aa4-b8fe-4fe79b0d033a",
   "metadata": {
    "execution": {
     "iopub.execute_input": "2025-07-30T20:49:51.047072Z",
     "iopub.status.busy": "2025-07-30T20:49:51.046393Z",
     "iopub.status.idle": "2025-07-30T20:49:51.053342Z",
     "shell.execute_reply": "2025-07-30T20:49:51.052475Z"
    },
    "papermill": {
     "duration": 0.032052,
     "end_time": "2025-07-30T20:49:51.054952",
     "exception": false,
     "start_time": "2025-07-30T20:49:51.022900",
     "status": "completed"
    },
    "tags": []
   },
   "outputs": [
    {
     "data": {
      "text/plain": [
       "0.6916015765487387"
      ]
     },
     "execution_count": 52,
     "metadata": {},
     "output_type": "execute_result"
    }
   ],
   "source": [
    "q_hat"
   ]
  },
  {
   "cell_type": "code",
   "execution_count": 53,
   "id": "92460794-cdac-4be2-ba28-f28c0515a6fb",
   "metadata": {
    "execution": {
     "iopub.execute_input": "2025-07-30T20:49:51.103540Z",
     "iopub.status.busy": "2025-07-30T20:49:51.102907Z",
     "iopub.status.idle": "2025-07-30T20:49:51.941753Z",
     "shell.execute_reply": "2025-07-30T20:49:51.940859Z"
    },
    "papermill": {
     "duration": 0.864419,
     "end_time": "2025-07-30T20:49:51.943518",
     "exception": false,
     "start_time": "2025-07-30T20:49:51.079099",
     "status": "completed"
    },
    "tags": []
   },
   "outputs": [],
   "source": [
    "from fairness_multiverse.conformal import predict_conformal_sets\n",
    "\n",
    "# Generate prediction sets for each test example\n",
    "pred_sets = predict_conformal_sets(model, X_test, q_hat)"
   ]
  },
  {
   "cell_type": "code",
   "execution_count": 54,
   "id": "d90c9a65-e6db-4f5d-80cd-e68fb7e46829",
   "metadata": {
    "execution": {
     "iopub.execute_input": "2025-07-30T20:49:51.990928Z",
     "iopub.status.busy": "2025-07-30T20:49:51.990425Z",
     "iopub.status.idle": "2025-07-30T20:49:51.995994Z",
     "shell.execute_reply": "2025-07-30T20:49:51.994950Z"
    },
    "papermill": {
     "duration": 0.030919,
     "end_time": "2025-07-30T20:49:51.997769",
     "exception": false,
     "start_time": "2025-07-30T20:49:51.966850",
     "status": "completed"
    },
    "tags": []
   },
   "outputs": [],
   "source": [
    "y_true = y_true.squeeze()"
   ]
  },
  {
   "cell_type": "code",
   "execution_count": 55,
   "id": "3a58a54a-1e68-46b9-927a-df01f18aebc8",
   "metadata": {
    "execution": {
     "iopub.execute_input": "2025-07-30T20:49:52.046303Z",
     "iopub.status.busy": "2025-07-30T20:49:52.045819Z",
     "iopub.status.idle": "2025-07-30T20:49:52.929430Z",
     "shell.execute_reply": "2025-07-30T20:49:52.928553Z"
    },
    "papermill": {
     "duration": 0.90962,
     "end_time": "2025-07-30T20:49:52.931200",
     "exception": false,
     "start_time": "2025-07-30T20:49:52.021580",
     "status": "completed"
    },
    "tags": []
   },
   "outputs": [],
   "source": [
    "from fairness_multiverse.conformal import evaluate_sets\n",
    "\n",
    "# Evaluate coverage and average set size on test data\n",
    "metrics = evaluate_sets(pred_sets, y_true)"
   ]
  },
  {
   "cell_type": "markdown",
   "id": "2b569c12-9aaa-4c88-98c9-bbcd0cf3ebb8",
   "metadata": {
    "papermill": {
     "duration": 0.022383,
     "end_time": "2025-07-30T20:49:52.976944",
     "exception": false,
     "start_time": "2025-07-30T20:49:52.954561",
     "status": "completed"
    },
    "tags": []
   },
   "source": [
    "# CP Metrics"
   ]
  },
  {
   "cell_type": "code",
   "execution_count": 56,
   "id": "5ce0a5cb-201f-45a0-ade5-94c7f0bd6095",
   "metadata": {
    "execution": {
     "iopub.execute_input": "2025-07-30T20:49:53.024293Z",
     "iopub.status.busy": "2025-07-30T20:49:53.023616Z",
     "iopub.status.idle": "2025-07-30T20:49:53.030757Z",
     "shell.execute_reply": "2025-07-30T20:49:53.029862Z"
    },
    "papermill": {
     "duration": 0.032708,
     "end_time": "2025-07-30T20:49:53.032320",
     "exception": false,
     "start_time": "2025-07-30T20:49:52.999612",
     "status": "completed"
    },
    "tags": []
   },
   "outputs": [
    {
     "data": {
      "text/plain": [
       "{'coverage': 0.9101326496488685, 'avg_size': 1.137297960093635}"
      ]
     },
     "execution_count": 56,
     "metadata": {},
     "output_type": "execute_result"
    }
   ],
   "source": [
    "metrics"
   ]
  },
  {
   "cell_type": "code",
   "execution_count": 57,
   "id": "9b9a838d-31c9-430b-ae14-12baee460d17",
   "metadata": {
    "execution": {
     "iopub.execute_input": "2025-07-30T20:49:53.079620Z",
     "iopub.status.busy": "2025-07-30T20:49:53.079017Z",
     "iopub.status.idle": "2025-07-30T20:49:53.085161Z",
     "shell.execute_reply": "2025-07-30T20:49:53.084150Z"
    },
    "papermill": {
     "duration": 0.030808,
     "end_time": "2025-07-30T20:49:53.086720",
     "exception": false,
     "start_time": "2025-07-30T20:49:53.055912",
     "status": "completed"
    },
    "tags": []
   },
   "outputs": [],
   "source": [
    "example_universe = universe.copy()\n",
    "universe_training_year = example_universe.get(\"training_year\")\n",
    "universe_training_size = example_universe.get(\"training_size\")\n",
    "universe_scale = example_universe.get(\"scale\")\n",
    "universe_model = example_universe.get(\"model\")\n",
    "universe_exclude_features = example_universe.get(\"exclude_features\")\n",
    "universe_exclude_subgroups = example_universe.get(\"exclude_subgroups\")"
   ]
  },
  {
   "cell_type": "code",
   "execution_count": 58,
   "id": "f4b6a8ac-9dc0-4245-8a91-5b3b5999c4f9",
   "metadata": {
    "execution": {
     "iopub.execute_input": "2025-07-30T20:49:53.134541Z",
     "iopub.status.busy": "2025-07-30T20:49:53.133930Z",
     "iopub.status.idle": "2025-07-30T20:49:53.140662Z",
     "shell.execute_reply": "2025-07-30T20:49:53.139704Z"
    },
    "papermill": {
     "duration": 0.031511,
     "end_time": "2025-07-30T20:49:53.142281",
     "exception": false,
     "start_time": "2025-07-30T20:49:53.110770",
     "status": "completed"
    },
    "tags": []
   },
   "outputs": [],
   "source": [
    "cp_metrics_dict = {\n",
    "    \"universe_id\": [universe_id],\n",
    "    \"universe_training_year\": [universe_training_year],\n",
    "    \"universe_training_size\": [universe_training_size],\n",
    "    \"universe_scale\": [universe_scale],\n",
    "    \"universe_model\": [universe_model],\n",
    "    \"universe_exclude_features\": [universe_exclude_features],\n",
    "    \"universe_exclude_subgroups\": [universe_exclude_subgroups],\n",
    "    \"q_hat\": [q_hat],\n",
    "    \"coverage\": [metrics[\"coverage\"]],\n",
    "    \"avg_size\": [metrics[\"avg_size\"]],\n",
    "}"
   ]
  },
  {
   "cell_type": "code",
   "execution_count": 59,
   "id": "908acbb1-0371-4915-85ca-3fa520d2efe2",
   "metadata": {
    "execution": {
     "iopub.execute_input": "2025-07-30T20:49:53.190290Z",
     "iopub.status.busy": "2025-07-30T20:49:53.189488Z",
     "iopub.status.idle": "2025-07-30T20:49:53.196891Z",
     "shell.execute_reply": "2025-07-30T20:49:53.195945Z"
    },
    "papermill": {
     "duration": 0.032491,
     "end_time": "2025-07-30T20:49:53.198458",
     "exception": false,
     "start_time": "2025-07-30T20:49:53.165967",
     "status": "completed"
    },
    "tags": []
   },
   "outputs": [
    {
     "data": {
      "text/plain": [
       "{'universe_id': ['4c7faf02160cdb586bc4066f29f5e2ca'],\n",
       " 'universe_training_year': ['2014'],\n",
       " 'universe_training_size': ['5k'],\n",
       " 'universe_scale': ['scale'],\n",
       " 'universe_model': ['elasticnet'],\n",
       " 'universe_exclude_features': ['sex'],\n",
       " 'universe_exclude_subgroups': ['drop-non-german'],\n",
       " 'q_hat': [0.6916015765487387],\n",
       " 'coverage': [0.9101326496488685],\n",
       " 'avg_size': [1.137297960093635]}"
      ]
     },
     "execution_count": 59,
     "metadata": {},
     "output_type": "execute_result"
    }
   ],
   "source": [
    "cp_metrics_dict"
   ]
  },
  {
   "cell_type": "code",
   "execution_count": 60,
   "id": "33007efc-14e9-4ec6-97ac-56a455c82265",
   "metadata": {
    "execution": {
     "iopub.execute_input": "2025-07-30T20:49:53.246862Z",
     "iopub.status.busy": "2025-07-30T20:49:53.246250Z",
     "iopub.status.idle": "2025-07-30T20:49:53.252549Z",
     "shell.execute_reply": "2025-07-30T20:49:53.251667Z"
    },
    "papermill": {
     "duration": 0.031938,
     "end_time": "2025-07-30T20:49:53.254106",
     "exception": false,
     "start_time": "2025-07-30T20:49:53.222168",
     "status": "completed"
    },
    "tags": []
   },
   "outputs": [],
   "source": [
    "cp_metrics_df = pd.DataFrame(cp_metrics_dict)"
   ]
  },
  {
   "cell_type": "code",
   "execution_count": 61,
   "id": "db12611b-57b2-4910-b9d0-355adfd6e7bf",
   "metadata": {
    "execution": {
     "iopub.execute_input": "2025-07-30T20:49:53.303641Z",
     "iopub.status.busy": "2025-07-30T20:49:53.302900Z",
     "iopub.status.idle": "2025-07-30T20:49:53.321235Z",
     "shell.execute_reply": "2025-07-30T20:49:53.320319Z"
    },
    "papermill": {
     "duration": 0.044569,
     "end_time": "2025-07-30T20:49:53.322855",
     "exception": false,
     "start_time": "2025-07-30T20:49:53.278286",
     "status": "completed"
    },
    "tags": []
   },
   "outputs": [
    {
     "data": {
      "text/html": [
       "<div>\n",
       "<style scoped>\n",
       "    .dataframe tbody tr th:only-of-type {\n",
       "        vertical-align: middle;\n",
       "    }\n",
       "\n",
       "    .dataframe tbody tr th {\n",
       "        vertical-align: top;\n",
       "    }\n",
       "\n",
       "    .dataframe thead th {\n",
       "        text-align: right;\n",
       "    }\n",
       "</style>\n",
       "<table border=\"1\" class=\"dataframe\">\n",
       "  <thead>\n",
       "    <tr style=\"text-align: right;\">\n",
       "      <th></th>\n",
       "      <th>universe_id</th>\n",
       "      <th>universe_training_year</th>\n",
       "      <th>universe_training_size</th>\n",
       "      <th>universe_scale</th>\n",
       "      <th>universe_model</th>\n",
       "      <th>universe_exclude_features</th>\n",
       "      <th>universe_exclude_subgroups</th>\n",
       "      <th>q_hat</th>\n",
       "      <th>coverage</th>\n",
       "      <th>avg_size</th>\n",
       "    </tr>\n",
       "  </thead>\n",
       "  <tbody>\n",
       "    <tr>\n",
       "      <th>0</th>\n",
       "      <td>4c7faf02160cdb586bc4066f29f5e2ca</td>\n",
       "      <td>2014</td>\n",
       "      <td>5k</td>\n",
       "      <td>scale</td>\n",
       "      <td>elasticnet</td>\n",
       "      <td>sex</td>\n",
       "      <td>drop-non-german</td>\n",
       "      <td>0.691602</td>\n",
       "      <td>0.910133</td>\n",
       "      <td>1.137298</td>\n",
       "    </tr>\n",
       "  </tbody>\n",
       "</table>\n",
       "</div>"
      ],
      "text/plain": [
       "                        universe_id universe_training_year  \\\n",
       "0  4c7faf02160cdb586bc4066f29f5e2ca                   2014   \n",
       "\n",
       "  universe_training_size universe_scale universe_model  \\\n",
       "0                     5k          scale     elasticnet   \n",
       "\n",
       "  universe_exclude_features universe_exclude_subgroups     q_hat  coverage  \\\n",
       "0                       sex            drop-non-german  0.691602  0.910133   \n",
       "\n",
       "   avg_size  \n",
       "0  1.137298  "
      ]
     },
     "execution_count": 61,
     "metadata": {},
     "output_type": "execute_result"
    }
   ],
   "source": [
    "cp_metrics_df"
   ]
  },
  {
   "cell_type": "code",
   "execution_count": 62,
   "id": "b7fbde55-a0a1-47e4-9af6-fe4a17fa8c61",
   "metadata": {
    "execution": {
     "iopub.execute_input": "2025-07-30T20:49:53.372132Z",
     "iopub.status.busy": "2025-07-30T20:49:53.371321Z",
     "iopub.status.idle": "2025-07-30T20:49:53.376316Z",
     "shell.execute_reply": "2025-07-30T20:49:53.375456Z"
    },
    "papermill": {
     "duration": 0.03065,
     "end_time": "2025-07-30T20:49:53.377746",
     "exception": false,
     "start_time": "2025-07-30T20:49:53.347096",
     "status": "completed"
    },
    "tags": []
   },
   "outputs": [],
   "source": [
    "# Conditional Coverage & looking at subgroups"
   ]
  },
  {
   "cell_type": "code",
   "execution_count": 63,
   "id": "027ae886-68dd-4141-96c7-805a5450e1ef",
   "metadata": {
    "execution": {
     "iopub.execute_input": "2025-07-30T20:49:53.427056Z",
     "iopub.status.busy": "2025-07-30T20:49:53.426426Z",
     "iopub.status.idle": "2025-07-30T20:49:53.680975Z",
     "shell.execute_reply": "2025-07-30T20:49:53.679840Z"
    },
    "papermill": {
     "duration": 0.28085,
     "end_time": "2025-07-30T20:49:53.683072",
     "exception": false,
     "start_time": "2025-07-30T20:49:53.402222",
     "status": "completed"
    },
    "tags": []
   },
   "outputs": [],
   "source": [
    "from fairness_multiverse.conformal import build_cp_groups\n",
    "\n",
    "cp_groups_df = build_cp_groups(pred_sets, y_true, X_test.index, org_test)\n",
    "#needs universe_id and setting"
   ]
  },
  {
   "cell_type": "code",
   "execution_count": 64,
   "id": "01d5802c-663a-4d1f-9d69-e036faaffbf7",
   "metadata": {
    "execution": {
     "iopub.execute_input": "2025-07-30T20:49:53.734019Z",
     "iopub.status.busy": "2025-07-30T20:49:53.733358Z",
     "iopub.status.idle": "2025-07-30T20:49:53.739814Z",
     "shell.execute_reply": "2025-07-30T20:49:53.738828Z"
    },
    "papermill": {
     "duration": 0.033908,
     "end_time": "2025-07-30T20:49:53.741514",
     "exception": false,
     "start_time": "2025-07-30T20:49:53.707606",
     "status": "completed"
    },
    "tags": []
   },
   "outputs": [],
   "source": [
    "#delete\n",
    "#cp_groups_df"
   ]
  },
  {
   "cell_type": "code",
   "execution_count": 65,
   "id": "fa424af1-d1eb-443d-b717-2d279ada8408",
   "metadata": {
    "execution": {
     "iopub.execute_input": "2025-07-30T20:49:53.793562Z",
     "iopub.status.busy": "2025-07-30T20:49:53.792945Z",
     "iopub.status.idle": "2025-07-30T20:49:53.798185Z",
     "shell.execute_reply": "2025-07-30T20:49:53.797167Z"
    },
    "papermill": {
     "duration": 0.03301,
     "end_time": "2025-07-30T20:49:53.799948",
     "exception": false,
     "start_time": "2025-07-30T20:49:53.766938",
     "status": "completed"
    },
    "tags": []
   },
   "outputs": [],
   "source": [
    "#delete\n",
    "#percentage = (cp_groups_df['nongerman_female'] == 1).mean() * 100\n",
    "#print(percentage)\n"
   ]
  },
  {
   "cell_type": "code",
   "execution_count": 66,
   "id": "6cbdab96-b2b2-45af-ad54-d0516db2e28d",
   "metadata": {
    "execution": {
     "iopub.execute_input": "2025-07-30T20:49:53.854190Z",
     "iopub.status.busy": "2025-07-30T20:49:53.853413Z",
     "iopub.status.idle": "2025-07-30T20:49:55.691160Z",
     "shell.execute_reply": "2025-07-30T20:49:55.690433Z"
    },
    "papermill": {
     "duration": 1.867102,
     "end_time": "2025-07-30T20:49:55.692961",
     "exception": false,
     "start_time": "2025-07-30T20:49:53.825859",
     "status": "completed"
    },
    "tags": []
   },
   "outputs": [],
   "source": [
    "# Define covered = 1 if true_label is in the predicted set\n",
    "cp_groups_df['covered'] = cp_groups_df.apply(\n",
    "    lambda r: int(r['true_label'] in r['pred_set']),\n",
    "    axis=1\n",
    ")"
   ]
  },
  {
   "cell_type": "code",
   "execution_count": 67,
   "id": "338ff529-1a6b-4b87-a931-8e4788d52aad",
   "metadata": {
    "execution": {
     "iopub.execute_input": "2025-07-30T20:49:55.764667Z",
     "iopub.status.busy": "2025-07-30T20:49:55.763712Z",
     "iopub.status.idle": "2025-07-30T20:49:55.768907Z",
     "shell.execute_reply": "2025-07-30T20:49:55.767856Z"
    },
    "papermill": {
     "duration": 0.035832,
     "end_time": "2025-07-30T20:49:55.770684",
     "exception": false,
     "start_time": "2025-07-30T20:49:55.734852",
     "status": "completed"
    },
    "tags": []
   },
   "outputs": [],
   "source": [
    "#cp_groups_df"
   ]
  },
  {
   "cell_type": "code",
   "execution_count": 68,
   "id": "90032e27-66df-4540-9169-4e89cfbaa758",
   "metadata": {
    "execution": {
     "iopub.execute_input": "2025-07-30T20:49:55.822431Z",
     "iopub.status.busy": "2025-07-30T20:49:55.821701Z",
     "iopub.status.idle": "2025-07-30T20:49:55.834508Z",
     "shell.execute_reply": "2025-07-30T20:49:55.833520Z"
    },
    "papermill": {
     "duration": 0.041694,
     "end_time": "2025-07-30T20:49:55.836370",
     "exception": false,
     "start_time": "2025-07-30T20:49:55.794676",
     "status": "completed"
    },
    "tags": []
   },
   "outputs": [],
   "source": [
    "subgroups = ['frau1','nongerman','nongerman_male','nongerman_female']\n",
    "\n",
    "# Conditional coverage for subgroup==1\n",
    "cond_coverage = {\n",
    "    g: cp_groups_df.loc[cp_groups_df[g]==1, 'covered'].mean()\n",
    "    for g in subgroups\n",
    "}"
   ]
  },
  {
   "cell_type": "code",
   "execution_count": 69,
   "id": "1e348fb1-b9c3-45bc-ba23-f016827a7e0d",
   "metadata": {
    "execution": {
     "iopub.execute_input": "2025-07-30T20:49:55.896773Z",
     "iopub.status.busy": "2025-07-30T20:49:55.895877Z",
     "iopub.status.idle": "2025-07-30T20:49:55.903440Z",
     "shell.execute_reply": "2025-07-30T20:49:55.902493Z"
    },
    "papermill": {
     "duration": 0.036992,
     "end_time": "2025-07-30T20:49:55.905278",
     "exception": false,
     "start_time": "2025-07-30T20:49:55.868286",
     "status": "completed"
    },
    "tags": []
   },
   "outputs": [
    {
     "data": {
      "text/plain": [
       "{'frau1': 0.9086399784337512,\n",
       " 'nongerman': 0.9079324089148375,\n",
       " 'nongerman_male': 0.9256056921552733,\n",
       " 'nongerman_female': 0.8786885245901639}"
      ]
     },
     "execution_count": 69,
     "metadata": {},
     "output_type": "execute_result"
    }
   ],
   "source": [
    "cond_coverage"
   ]
  },
  {
   "cell_type": "code",
   "execution_count": 70,
   "id": "f5093324-c3dd-4d63-bc4c-8d945e5c8bbb",
   "metadata": {
    "execution": {
     "iopub.execute_input": "2025-07-30T20:49:55.962007Z",
     "iopub.status.busy": "2025-07-30T20:49:55.961350Z",
     "iopub.status.idle": "2025-07-30T20:49:55.969810Z",
     "shell.execute_reply": "2025-07-30T20:49:55.968852Z"
    },
    "papermill": {
     "duration": 0.03804,
     "end_time": "2025-07-30T20:49:55.971660",
     "exception": false,
     "start_time": "2025-07-30T20:49:55.933620",
     "status": "completed"
    },
    "tags": []
   },
   "outputs": [],
   "source": [
    "for subgroup, cov in cond_coverage.items():\n",
    "    cp_metrics_df[f\"cov_{subgroup}\"] = cov"
   ]
  },
  {
   "cell_type": "code",
   "execution_count": 71,
   "id": "6e872e10-dbe5-49e8-b554-5030c98ff75d",
   "metadata": {
    "execution": {
     "iopub.execute_input": "2025-07-30T20:49:56.028011Z",
     "iopub.status.busy": "2025-07-30T20:49:56.027329Z",
     "iopub.status.idle": "2025-07-30T20:49:56.047549Z",
     "shell.execute_reply": "2025-07-30T20:49:56.046533Z"
    },
    "papermill": {
     "duration": 0.049834,
     "end_time": "2025-07-30T20:49:56.049440",
     "exception": false,
     "start_time": "2025-07-30T20:49:55.999606",
     "status": "completed"
    },
    "tags": []
   },
   "outputs": [
    {
     "data": {
      "text/html": [
       "<div>\n",
       "<style scoped>\n",
       "    .dataframe tbody tr th:only-of-type {\n",
       "        vertical-align: middle;\n",
       "    }\n",
       "\n",
       "    .dataframe tbody tr th {\n",
       "        vertical-align: top;\n",
       "    }\n",
       "\n",
       "    .dataframe thead th {\n",
       "        text-align: right;\n",
       "    }\n",
       "</style>\n",
       "<table border=\"1\" class=\"dataframe\">\n",
       "  <thead>\n",
       "    <tr style=\"text-align: right;\">\n",
       "      <th></th>\n",
       "      <th>universe_id</th>\n",
       "      <th>universe_training_year</th>\n",
       "      <th>universe_training_size</th>\n",
       "      <th>universe_scale</th>\n",
       "      <th>universe_model</th>\n",
       "      <th>universe_exclude_features</th>\n",
       "      <th>universe_exclude_subgroups</th>\n",
       "      <th>q_hat</th>\n",
       "      <th>coverage</th>\n",
       "      <th>avg_size</th>\n",
       "      <th>cov_frau1</th>\n",
       "      <th>cov_nongerman</th>\n",
       "      <th>cov_nongerman_male</th>\n",
       "      <th>cov_nongerman_female</th>\n",
       "    </tr>\n",
       "  </thead>\n",
       "  <tbody>\n",
       "    <tr>\n",
       "      <th>0</th>\n",
       "      <td>4c7faf02160cdb586bc4066f29f5e2ca</td>\n",
       "      <td>2014</td>\n",
       "      <td>5k</td>\n",
       "      <td>scale</td>\n",
       "      <td>elasticnet</td>\n",
       "      <td>sex</td>\n",
       "      <td>drop-non-german</td>\n",
       "      <td>0.691602</td>\n",
       "      <td>0.910133</td>\n",
       "      <td>1.137298</td>\n",
       "      <td>0.90864</td>\n",
       "      <td>0.907932</td>\n",
       "      <td>0.925606</td>\n",
       "      <td>0.878689</td>\n",
       "    </tr>\n",
       "  </tbody>\n",
       "</table>\n",
       "</div>"
      ],
      "text/plain": [
       "                        universe_id universe_training_year  \\\n",
       "0  4c7faf02160cdb586bc4066f29f5e2ca                   2014   \n",
       "\n",
       "  universe_training_size universe_scale universe_model  \\\n",
       "0                     5k          scale     elasticnet   \n",
       "\n",
       "  universe_exclude_features universe_exclude_subgroups     q_hat  coverage  \\\n",
       "0                       sex            drop-non-german  0.691602  0.910133   \n",
       "\n",
       "   avg_size  cov_frau1  cov_nongerman  cov_nongerman_male  \\\n",
       "0  1.137298    0.90864       0.907932            0.925606   \n",
       "\n",
       "   cov_nongerman_female  \n",
       "0              0.878689  "
      ]
     },
     "execution_count": 71,
     "metadata": {},
     "output_type": "execute_result"
    }
   ],
   "source": [
    "cp_metrics_df"
   ]
  },
  {
   "cell_type": "markdown",
   "id": "33774451",
   "metadata": {
    "papermill": {
     "duration": 0.026978,
     "end_time": "2025-07-30T20:49:56.104465",
     "exception": false,
     "start_time": "2025-07-30T20:49:56.077487",
     "status": "completed"
    },
    "tags": []
   },
   "source": [
    "# (Fairness) Metrics"
   ]
  },
  {
   "cell_type": "code",
   "execution_count": 72,
   "id": "debc5d62",
   "metadata": {
    "execution": {
     "iopub.execute_input": "2025-07-30T20:49:56.160059Z",
     "iopub.status.busy": "2025-07-30T20:49:56.159456Z",
     "iopub.status.idle": "2025-07-30T20:49:56.181487Z",
     "shell.execute_reply": "2025-07-30T20:49:56.180476Z"
    },
    "papermill": {
     "duration": 0.051844,
     "end_time": "2025-07-30T20:49:56.183169",
     "exception": false,
     "start_time": "2025-07-30T20:49:56.131325",
     "status": "completed"
    },
    "tags": []
   },
   "outputs": [],
   "source": [
    "# do I need to include maxdeutsch1.missing?\n",
    "\n",
    "import numpy as np\n",
    "\n",
    "colname_to_bin = \"maxdeutsch1\"\n",
    "majority_value = org_train[colname_to_bin].mode()[0]\n",
    "\n",
    "org_test[\"majmin\"] = np.where(org_test[colname_to_bin] == majority_value, \"majority\", \"minority\")"
   ]
  },
  {
   "cell_type": "code",
   "execution_count": 73,
   "id": "06a50de5",
   "metadata": {
    "execution": {
     "iopub.execute_input": "2025-07-30T20:49:56.241207Z",
     "iopub.status.busy": "2025-07-30T20:49:56.240368Z",
     "iopub.status.idle": "2025-07-30T20:49:58.725143Z",
     "shell.execute_reply": "2025-07-30T20:49:58.724168Z"
    },
    "papermill": {
     "duration": 2.515408,
     "end_time": "2025-07-30T20:49:58.727055",
     "exception": false,
     "start_time": "2025-07-30T20:49:56.211647",
     "status": "completed"
    },
    "tags": []
   },
   "outputs": [],
   "source": [
    "example_universe = universe.copy()\n",
    "example_universe[\"cutoff\"] = example_universe[\"cutoff\"][0]\n",
    "example_universe[\"eval_fairness_grouping\"] = example_universe[\"eval_fairness_grouping\"][0]\n",
    "fairness_dict, metric_frame = universe_analysis.compute_metrics(\n",
    "    example_universe,\n",
    "    y_pred_prob=probs_test,\n",
    "    y_test=y_true,\n",
    "    org_test=org_test,\n",
    ")"
   ]
  },
  {
   "cell_type": "markdown",
   "id": "f95d4e02",
   "metadata": {
    "papermill": {
     "duration": 0.025751,
     "end_time": "2025-07-30T20:49:58.779706",
     "exception": false,
     "start_time": "2025-07-30T20:49:58.753955",
     "status": "completed"
    },
    "tags": []
   },
   "source": [
    "# Overall"
   ]
  },
  {
   "cell_type": "markdown",
   "id": "bdee4871",
   "metadata": {
    "papermill": {
     "duration": 0.029574,
     "end_time": "2025-07-30T20:49:58.834716",
     "exception": false,
     "start_time": "2025-07-30T20:49:58.805142",
     "status": "completed"
    },
    "tags": []
   },
   "source": [
    "Fairness\n",
    "Main fairness target: Equalized Odds. Seems to be a better fit than equal opportunity, since we're not only interested in Y = 1. Seems to be a better fit than demographic parity, since we also care about accuracy, not just equal distribution of preds.\n",
    "\n",
    "Pick column for computation of fairness metrics\n",
    "\n",
    "Performance\n",
    "Overall performance measures, most interesting in relation to the measures split by group below"
   ]
  },
  {
   "cell_type": "code",
   "execution_count": 74,
   "id": "c4e067c6",
   "metadata": {
    "execution": {
     "iopub.execute_input": "2025-07-30T20:49:58.887629Z",
     "iopub.status.busy": "2025-07-30T20:49:58.886916Z",
     "iopub.status.idle": "2025-07-30T20:49:58.896243Z",
     "shell.execute_reply": "2025-07-30T20:49:58.895229Z"
    },
    "papermill": {
     "duration": 0.036837,
     "end_time": "2025-07-30T20:49:58.897749",
     "exception": false,
     "start_time": "2025-07-30T20:49:58.860912",
     "status": "completed"
    },
    "tags": []
   },
   "outputs": [
    {
     "data": {
      "text/plain": [
       "accuracy                   0.223442\n",
       "balanced accuracy          0.546542\n",
       "f1                         0.244799\n",
       "precision                  0.139846\n",
       "false positive rate        0.888059\n",
       "false negative rate        0.018856\n",
       "selection rate             0.900000\n",
       "count                  89710.000000\n",
       "dtype: float64"
      ]
     },
     "execution_count": 74,
     "metadata": {},
     "output_type": "execute_result"
    }
   ],
   "source": [
    "metric_frame.overall"
   ]
  },
  {
   "cell_type": "markdown",
   "id": "e968fe9d",
   "metadata": {
    "papermill": {
     "duration": 0.025492,
     "end_time": "2025-07-30T20:49:58.950149",
     "exception": false,
     "start_time": "2025-07-30T20:49:58.924657",
     "status": "completed"
    },
    "tags": []
   },
   "source": [
    "By Group"
   ]
  },
  {
   "cell_type": "code",
   "execution_count": 75,
   "id": "ec325bce",
   "metadata": {
    "execution": {
     "iopub.execute_input": "2025-07-30T20:49:59.003429Z",
     "iopub.status.busy": "2025-07-30T20:49:59.002859Z",
     "iopub.status.idle": "2025-07-30T20:49:59.018579Z",
     "shell.execute_reply": "2025-07-30T20:49:59.017691Z"
    },
    "papermill": {
     "duration": 0.044387,
     "end_time": "2025-07-30T20:49:59.020523",
     "exception": false,
     "start_time": "2025-07-30T20:49:58.976136",
     "status": "completed"
    },
    "tags": []
   },
   "outputs": [
    {
     "data": {
      "text/html": [
       "<div>\n",
       "<style scoped>\n",
       "    .dataframe tbody tr th:only-of-type {\n",
       "        vertical-align: middle;\n",
       "    }\n",
       "\n",
       "    .dataframe tbody tr th {\n",
       "        vertical-align: top;\n",
       "    }\n",
       "\n",
       "    .dataframe thead th {\n",
       "        text-align: right;\n",
       "    }\n",
       "</style>\n",
       "<table border=\"1\" class=\"dataframe\">\n",
       "  <thead>\n",
       "    <tr style=\"text-align: right;\">\n",
       "      <th></th>\n",
       "      <th>accuracy</th>\n",
       "      <th>balanced accuracy</th>\n",
       "      <th>f1</th>\n",
       "      <th>precision</th>\n",
       "      <th>false positive rate</th>\n",
       "      <th>false negative rate</th>\n",
       "      <th>selection rate</th>\n",
       "      <th>count</th>\n",
       "    </tr>\n",
       "    <tr>\n",
       "      <th>majmin</th>\n",
       "      <th></th>\n",
       "      <th></th>\n",
       "      <th></th>\n",
       "      <th></th>\n",
       "      <th></th>\n",
       "      <th></th>\n",
       "      <th></th>\n",
       "      <th></th>\n",
       "    </tr>\n",
       "  </thead>\n",
       "  <tbody>\n",
       "    <tr>\n",
       "      <th>majority</th>\n",
       "      <td>0.235434</td>\n",
       "      <td>0.552185</td>\n",
       "      <td>0.253553</td>\n",
       "      <td>0.145554</td>\n",
       "      <td>0.878344</td>\n",
       "      <td>0.017287</td>\n",
       "      <td>0.892135</td>\n",
       "      <td>69170.0</td>\n",
       "    </tr>\n",
       "    <tr>\n",
       "      <th>minority</th>\n",
       "      <td>0.183057</td>\n",
       "      <td>0.527466</td>\n",
       "      <td>0.215815</td>\n",
       "      <td>0.121335</td>\n",
       "      <td>0.920152</td>\n",
       "      <td>0.024916</td>\n",
       "      <td>0.926485</td>\n",
       "      <td>20540.0</td>\n",
       "    </tr>\n",
       "  </tbody>\n",
       "</table>\n",
       "</div>"
      ],
      "text/plain": [
       "          accuracy  balanced accuracy        f1  precision  \\\n",
       "majmin                                                       \n",
       "majority  0.235434           0.552185  0.253553   0.145554   \n",
       "minority  0.183057           0.527466  0.215815   0.121335   \n",
       "\n",
       "          false positive rate  false negative rate  selection rate    count  \n",
       "majmin                                                                       \n",
       "majority             0.878344             0.017287        0.892135  69170.0  \n",
       "minority             0.920152             0.024916        0.926485  20540.0  "
      ]
     },
     "execution_count": 75,
     "metadata": {},
     "output_type": "execute_result"
    }
   ],
   "source": [
    "metric_frame.by_group"
   ]
  },
  {
   "cell_type": "code",
   "execution_count": 76,
   "id": "a9ddbe63",
   "metadata": {
    "execution": {
     "iopub.execute_input": "2025-07-30T20:49:59.077447Z",
     "iopub.status.busy": "2025-07-30T20:49:59.076781Z",
     "iopub.status.idle": "2025-07-30T20:50:01.402037Z",
     "shell.execute_reply": "2025-07-30T20:50:01.400965Z"
    },
    "papermill": {
     "duration": 2.355645,
     "end_time": "2025-07-30T20:50:01.403593",
     "exception": false,
     "start_time": "2025-07-30T20:49:59.047948",
     "status": "completed"
    },
    "tags": []
   },
   "outputs": [
    {
     "data": {
      "text/plain": [
       "array([[<Axes: title={'center': 'accuracy'}, xlabel='majmin'>,\n",
       "        <Axes: title={'center': 'balanced accuracy'}, xlabel='majmin'>,\n",
       "        <Axes: title={'center': 'f1'}, xlabel='majmin'>],\n",
       "       [<Axes: title={'center': 'precision'}, xlabel='majmin'>,\n",
       "        <Axes: title={'center': 'false positive rate'}, xlabel='majmin'>,\n",
       "        <Axes: title={'center': 'false negative rate'}, xlabel='majmin'>],\n",
       "       [<Axes: title={'center': 'selection rate'}, xlabel='majmin'>,\n",
       "        <Axes: title={'center': 'count'}, xlabel='majmin'>,\n",
       "        <Axes: xlabel='majmin'>]], dtype=object)"
      ]
     },
     "execution_count": 76,
     "metadata": {},
     "output_type": "execute_result"
    },
    {
     "data": {
      "image/png": "[encoded data removed]",
      "text/plain": [
       "<Figure size 1200x800 with 9 Axes>"
      ]
     },
     "metadata": {},
     "output_type": "display_data"
    }
   ],
   "source": [
    "# In a graphic\n",
    "metric_frame.by_group.plot.bar(\n",
    "    subplots=True,\n",
    "    layout=[3, 3],\n",
    "    legend=False,\n",
    "    figsize=[12, 8],\n",
    "    title=\"Show all metrics\",\n",
    ")"
   ]
  },
  {
   "cell_type": "markdown",
   "id": "f57a0bac",
   "metadata": {
    "papermill": {
     "duration": 0.031404,
     "end_time": "2025-07-30T20:50:01.478837",
     "exception": false,
     "start_time": "2025-07-30T20:50:01.447433",
     "status": "completed"
    },
    "tags": []
   },
   "source": [
    "# Final Output"
   ]
  },
  {
   "cell_type": "code",
   "execution_count": 77,
   "id": "96d280a3",
   "metadata": {
    "execution": {
     "iopub.execute_input": "2025-07-30T20:50:01.545670Z",
     "iopub.status.busy": "2025-07-30T20:50:01.544993Z",
     "iopub.status.idle": "2025-07-30T20:50:01.554982Z",
     "shell.execute_reply": "2025-07-30T20:50:01.553916Z"
    },
    "papermill": {
     "duration": 0.045887,
     "end_time": "2025-07-30T20:50:01.556774",
     "exception": false,
     "start_time": "2025-07-30T20:50:01.510887",
     "status": "completed"
    },
    "tags": []
   },
   "outputs": [
    {
     "data": {
      "text/plain": [
       "4"
      ]
     },
     "execution_count": 77,
     "metadata": {},
     "output_type": "execute_result"
    }
   ],
   "source": [
    "sub_universes = universe_analysis.generate_sub_universes()\n",
    "len(sub_universes)"
   ]
  },
  {
   "cell_type": "code",
   "execution_count": 78,
   "id": "92adf7ba",
   "metadata": {
    "execution": {
     "iopub.execute_input": "2025-07-30T20:50:01.633749Z",
     "iopub.status.busy": "2025-07-30T20:50:01.633000Z",
     "iopub.status.idle": "2025-07-30T20:50:01.649904Z",
     "shell.execute_reply": "2025-07-30T20:50:01.648729Z"
    },
    "papermill": {
     "duration": 0.05822,
     "end_time": "2025-07-30T20:50:01.651854",
     "exception": false,
     "start_time": "2025-07-30T20:50:01.593634",
     "status": "completed"
    },
    "tags": []
   },
   "outputs": [],
   "source": [
    "def filter_sub_universe_data(sub_universe, org_test):\n",
    "    # Keep all rows — no filtering\n",
    "    keep_rows_mask = np.ones(org_test.shape[0], dtype=bool)\n",
    "\n",
    "    print(f\"[INFO] Keeping all rows: {keep_rows_mask.sum()} rows retained.\")\n",
    "    return keep_rows_mask"
   ]
  },
  {
   "cell_type": "code",
   "execution_count": 79,
   "id": "4a759155",
   "metadata": {
    "execution": {
     "iopub.execute_input": "2025-07-30T20:50:01.723097Z",
     "iopub.status.busy": "2025-07-30T20:50:01.722281Z",
     "iopub.status.idle": "2025-07-30T20:50:12.471004Z",
     "shell.execute_reply": "2025-07-30T20:50:12.469980Z"
    },
    "papermill": {
     "duration": 10.785986,
     "end_time": "2025-07-30T20:50:12.472929",
     "exception": false,
     "start_time": "2025-07-30T20:50:01.686943",
     "status": "completed"
    },
    "tags": []
   },
   "outputs": [
    {
     "name": "stdout",
     "output_type": "stream",
     "text": [
      "Stopping execution_time clock.\n",
      "[INFO] Keeping all rows: 89710 rows retained.\n"
     ]
    },
    {
     "name": "stdout",
     "output_type": "stream",
     "text": [
      "[INFO] Keeping all rows: 89710 rows retained.\n"
     ]
    },
    {
     "name": "stdout",
     "output_type": "stream",
     "text": [
      "[INFO] Keeping all rows: 89710 rows retained.\n"
     ]
    },
    {
     "name": "stdout",
     "output_type": "stream",
     "text": [
      "[INFO] Keeping all rows: 89710 rows retained.\n"
     ]
    },
    {
     "data": {
      "text/html": [
       "<div>\n",
       "<style scoped>\n",
       "    .dataframe tbody tr th:only-of-type {\n",
       "        vertical-align: middle;\n",
       "    }\n",
       "\n",
       "    .dataframe tbody tr th {\n",
       "        vertical-align: top;\n",
       "    }\n",
       "\n",
       "    .dataframe thead th {\n",
       "        text-align: right;\n",
       "    }\n",
       "</style>\n",
       "<table border=\"1\" class=\"dataframe\">\n",
       "  <thead>\n",
       "    <tr style=\"text-align: right;\">\n",
       "      <th></th>\n",
       "      <th>run_no</th>\n",
       "      <th>universe_id</th>\n",
       "      <th>universe_settings</th>\n",
       "      <th>execution_time</th>\n",
       "      <th>test_size_n</th>\n",
       "      <th>test_size_frac</th>\n",
       "      <th>fair_main_equalized_odds_difference</th>\n",
       "      <th>fair_main_equalized_odds_ratio</th>\n",
       "      <th>fair_main_demographic_parity_difference</th>\n",
       "      <th>fair_main_demographic_parity_ratio</th>\n",
       "      <th>...</th>\n",
       "      <th>perf_grp_precision_0</th>\n",
       "      <th>perf_grp_precision_1</th>\n",
       "      <th>perf_grp_false positive rate_0</th>\n",
       "      <th>perf_grp_false positive rate_1</th>\n",
       "      <th>perf_grp_false negative rate_0</th>\n",
       "      <th>perf_grp_false negative rate_1</th>\n",
       "      <th>perf_grp_selection rate_0</th>\n",
       "      <th>perf_grp_selection rate_1</th>\n",
       "      <th>perf_grp_count_0</th>\n",
       "      <th>perf_grp_count_1</th>\n",
       "    </tr>\n",
       "  </thead>\n",
       "  <tbody>\n",
       "    <tr>\n",
       "      <th>0</th>\n",
       "      <td>14</td>\n",
       "      <td>4c7faf02160cdb586bc4066f29f5e2ca</td>\n",
       "      <td>{\"cutoff\": \"quantile_0.1\", \"eval_fairness_grou...</td>\n",
       "      <td>34.975735</td>\n",
       "      <td>89710</td>\n",
       "      <td>1.0</td>\n",
       "      <td>0.041808</td>\n",
       "      <td>0.954564</td>\n",
       "      <td>0.034350</td>\n",
       "      <td>0.962925</td>\n",
       "      <td>...</td>\n",
       "      <td>NaN</td>\n",
       "      <td>NaN</td>\n",
       "      <td>NaN</td>\n",
       "      <td>NaN</td>\n",
       "      <td>NaN</td>\n",
       "      <td>NaN</td>\n",
       "      <td>NaN</td>\n",
       "      <td>NaN</td>\n",
       "      <td>NaN</td>\n",
       "      <td>NaN</td>\n",
       "    </tr>\n",
       "    <tr>\n",
       "      <th>0</th>\n",
       "      <td>14</td>\n",
       "      <td>4c7faf02160cdb586bc4066f29f5e2ca</td>\n",
       "      <td>{\"cutoff\": \"quantile_0.1\", \"eval_fairness_grou...</td>\n",
       "      <td>34.975735</td>\n",
       "      <td>89710</td>\n",
       "      <td>1.0</td>\n",
       "      <td>0.041808</td>\n",
       "      <td>0.954564</td>\n",
       "      <td>0.034350</td>\n",
       "      <td>0.962925</td>\n",
       "      <td>...</td>\n",
       "      <td>0.121335</td>\n",
       "      <td>0.145554</td>\n",
       "      <td>0.920152</td>\n",
       "      <td>0.878344</td>\n",
       "      <td>0.024916</td>\n",
       "      <td>0.017287</td>\n",
       "      <td>0.926485</td>\n",
       "      <td>0.892135</td>\n",
       "      <td>20540.0</td>\n",
       "      <td>69170.0</td>\n",
       "    </tr>\n",
       "    <tr>\n",
       "      <th>0</th>\n",
       "      <td>14</td>\n",
       "      <td>4c7faf02160cdb586bc4066f29f5e2ca</td>\n",
       "      <td>{\"cutoff\": \"quantile_0.25\", \"eval_fairness_gro...</td>\n",
       "      <td>34.975735</td>\n",
       "      <td>89710</td>\n",
       "      <td>1.0</td>\n",
       "      <td>0.106598</td>\n",
       "      <td>0.867649</td>\n",
       "      <td>0.088723</td>\n",
       "      <td>0.891591</td>\n",
       "      <td>...</td>\n",
       "      <td>NaN</td>\n",
       "      <td>NaN</td>\n",
       "      <td>NaN</td>\n",
       "      <td>NaN</td>\n",
       "      <td>NaN</td>\n",
       "      <td>NaN</td>\n",
       "      <td>NaN</td>\n",
       "      <td>NaN</td>\n",
       "      <td>NaN</td>\n",
       "      <td>NaN</td>\n",
       "    </tr>\n",
       "    <tr>\n",
       "      <th>0</th>\n",
       "      <td>14</td>\n",
       "      <td>4c7faf02160cdb586bc4066f29f5e2ca</td>\n",
       "      <td>{\"cutoff\": \"quantile_0.25\", \"eval_fairness_gro...</td>\n",
       "      <td>34.975735</td>\n",
       "      <td>89710</td>\n",
       "      <td>1.0</td>\n",
       "      <td>0.106598</td>\n",
       "      <td>0.867649</td>\n",
       "      <td>0.088723</td>\n",
       "      <td>0.891591</td>\n",
       "      <td>...</td>\n",
       "      <td>0.129328</td>\n",
       "      <td>0.168846</td>\n",
       "      <td>0.805415</td>\n",
       "      <td>0.698817</td>\n",
       "      <td>0.081926</td>\n",
       "      <td>0.067615</td>\n",
       "      <td>0.818403</td>\n",
       "      <td>0.729680</td>\n",
       "      <td>20540.0</td>\n",
       "      <td>69170.0</td>\n",
       "    </tr>\n",
       "  </tbody>\n",
       "</table>\n",
       "<p>4 rows × 50 columns</p>\n",
       "</div>"
      ],
      "text/plain": [
       "  run_no                       universe_id  \\\n",
       "0     14  4c7faf02160cdb586bc4066f29f5e2ca   \n",
       "0     14  4c7faf02160cdb586bc4066f29f5e2ca   \n",
       "0     14  4c7faf02160cdb586bc4066f29f5e2ca   \n",
       "0     14  4c7faf02160cdb586bc4066f29f5e2ca   \n",
       "\n",
       "                                   universe_settings  execution_time  \\\n",
       "0  {\"cutoff\": \"quantile_0.1\", \"eval_fairness_grou...       34.975735   \n",
       "0  {\"cutoff\": \"quantile_0.1\", \"eval_fairness_grou...       34.975735   \n",
       "0  {\"cutoff\": \"quantile_0.25\", \"eval_fairness_gro...       34.975735   \n",
       "0  {\"cutoff\": \"quantile_0.25\", \"eval_fairness_gro...       34.975735   \n",
       "\n",
       "   test_size_n  test_size_frac  fair_main_equalized_odds_difference  \\\n",
       "0        89710             1.0                             0.041808   \n",
       "0        89710             1.0                             0.041808   \n",
       "0        89710             1.0                             0.106598   \n",
       "0        89710             1.0                             0.106598   \n",
       "\n",
       "   fair_main_equalized_odds_ratio  fair_main_demographic_parity_difference  \\\n",
       "0                        0.954564                                 0.034350   \n",
       "0                        0.954564                                 0.034350   \n",
       "0                        0.867649                                 0.088723   \n",
       "0                        0.867649                                 0.088723   \n",
       "\n",
       "   fair_main_demographic_parity_ratio  ...  perf_grp_precision_0  \\\n",
       "0                            0.962925  ...                   NaN   \n",
       "0                            0.962925  ...              0.121335   \n",
       "0                            0.891591  ...                   NaN   \n",
       "0                            0.891591  ...              0.129328   \n",
       "\n",
       "   perf_grp_precision_1  perf_grp_false positive rate_0  \\\n",
       "0                   NaN                             NaN   \n",
       "0              0.145554                        0.920152   \n",
       "0                   NaN                             NaN   \n",
       "0              0.168846                        0.805415   \n",
       "\n",
       "   perf_grp_false positive rate_1  perf_grp_false negative rate_0  \\\n",
       "0                             NaN                             NaN   \n",
       "0                        0.878344                        0.024916   \n",
       "0                             NaN                             NaN   \n",
       "0                        0.698817                        0.081926   \n",
       "\n",
       "   perf_grp_false negative rate_1  perf_grp_selection rate_0  \\\n",
       "0                             NaN                        NaN   \n",
       "0                        0.017287                   0.926485   \n",
       "0                             NaN                        NaN   \n",
       "0                        0.067615                   0.818403   \n",
       "\n",
       "   perf_grp_selection rate_1  perf_grp_count_0  perf_grp_count_1  \n",
       "0                        NaN               NaN               NaN  \n",
       "0                   0.892135           20540.0           69170.0  \n",
       "0                        NaN               NaN               NaN  \n",
       "0                   0.729680           20540.0           69170.0  \n",
       "\n",
       "[4 rows x 50 columns]"
      ]
     },
     "execution_count": 79,
     "metadata": {},
     "output_type": "execute_result"
    }
   ],
   "source": [
    "final_output = universe_analysis.generate_final_output(\n",
    "    y_pred_prob=probs_test,\n",
    "    y_test=y_true,\n",
    "    org_test=org_test,\n",
    "    filter_data=filter_sub_universe_data,\n",
    "    cp_metrics_df=cp_metrics_df,\n",
    "    save=True,\n",
    ")\n",
    "final_output"
   ]
  },
  {
   "cell_type": "code",
   "execution_count": null,
   "id": "721ff514-cb11-46f8-b6fc-50392f74b5cb",
   "metadata": {
    "papermill": {
     "duration": 0.02746,
     "end_time": "2025-07-30T20:50:12.535573",
     "exception": false,
     "start_time": "2025-07-30T20:50:12.508113",
     "status": "completed"
    },
    "tags": []
   },
   "outputs": [],
   "source": []
  }
 ],
 "metadata": {
  "celltoolbar": "Tags",
  "kernelspec": {
   "display_name": "Python (CMA Fairness)",
   "language": "python",
   "name": "cma_fair_env"
  },
  "language_info": {
   "codemirror_mode": {
    "name": "ipython",
    "version": 3
   },
   "file_extension": ".py",
   "mimetype": "text/x-python",
   "name": "python",
   "nbconvert_exporter": "python",
   "pygments_lexer": "ipython3",
   "version": "3.10.12"
  },
  "papermill": {
   "default_parameters": {},
   "duration": 49.965043,
   "end_time": "2025-07-30T20:50:13.382271",
   "environment_variables": {},
   "exception": null,
   "input_path": "universe_analysis.ipynb",
   "output_path": "output/runs/14/notebooks/m_14-4c7faf02160cdb586bc4066f29f5e2ca.ipynb",
   "parameters": {
    "output_dir": "output",
    "run_no": "14",
    "seed": "2023",
    "universe": "{\"cutoff\": [\"quantile_0.1\", \"quantile_0.25\"], \"eval_fairness_grouping\": [\"majority-minority\", \"nationality-all\"], \"exclude_features\": \"sex\", \"exclude_subgroups\": \"drop-non-german\", \"model\": \"elasticnet\", \"scale\": \"scale\", \"training_size\": \"5k\", \"training_year\": \"2014\"}",
    "universe_id": "4c7faf02160cdb586bc4066f29f5e2ca"
   },
   "start_time": "2025-07-30T20:49:23.417228",
   "version": "2.6.0"
  }
 },
 "nbformat": 4,
 "nbformat_minor": 5
}