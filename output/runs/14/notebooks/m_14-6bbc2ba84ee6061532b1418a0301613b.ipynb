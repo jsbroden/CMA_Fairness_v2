{
 "cells": [
  {
   "cell_type": "code",
   "execution_count": 1,
   "id": "f159f837-637b-42ba-96b5-ec9a68c44524",
   "metadata": {
    "execution": {
     "iopub.execute_input": "2025-07-30T19:59:53.950693Z",
     "iopub.status.busy": "2025-07-30T19:59:53.950289Z",
     "iopub.status.idle": "2025-07-30T19:59:53.967829Z",
     "shell.execute_reply": "2025-07-30T19:59:53.966708Z"
    },
    "papermill": {
     "duration": 0.075873,
     "end_time": "2025-07-30T19:59:53.969969",
     "exception": false,
     "start_time": "2025-07-30T19:59:53.894096",
     "status": "completed"
    },
    "tags": []
   },
   "outputs": [
    {
     "name": "stdout",
     "output_type": "stream",
     "text": [
      "/dss/dsshome1/0C/ra93lal2/cma/CMA_Fairness_v2\n"
     ]
    },
    {
     "name": "stderr",
     "output_type": "stream",
     "text": [
      "/dss/dsshome1/0C/ra93lal2/.local/share/virtualenvs/CMA_Fairness_v2-3j10GkSs/lib/python3.10/site-packages/IPython/core/magics/osm.py:393: UserWarning: This is now an optional IPython functionality, using bookmarks requires you to install the `pickleshare` library.\n",
      "  bkms = self.shell.db.get('bookmarks', {})\n",
      "/dss/dsshome1/0C/ra93lal2/.local/share/virtualenvs/CMA_Fairness_v2-3j10GkSs/lib/python3.10/site-packages/IPython/core/magics/osm.py:417: UserWarning: This is now an optional IPython functionality, setting dhist requires you to install the `pickleshare` library.\n",
      "  self.shell.db['dhist'] = compress_dhist(dhist)[-100:]\n"
     ]
    }
   ],
   "source": [
    "%cd ~/cma/CMA_Fairness_v2"
   ]
  },
  {
   "cell_type": "markdown",
   "id": "de2603b9",
   "metadata": {
    "papermill": {
     "duration": 0.0367,
     "end_time": "2025-07-30T19:59:54.075816",
     "exception": false,
     "start_time": "2025-07-30T19:59:54.039116",
     "status": "completed"
    },
    "tags": []
   },
   "source": [
    "The following cell holds the definition of our parameters, these values can be overriden by rendering the with e.g. the following command:\n",
    "\n",
    "papermill -p alpha 0.2 -p ratio 0.3 universe_analysis.ipynb output/test_run.ipynb"
   ]
  },
  {
   "cell_type": "code",
   "execution_count": 2,
   "id": "a80968a0-40bb-4fa9-85ef-2d5eefb01975",
   "metadata": {
    "execution": {
     "iopub.execute_input": "2025-07-30T19:59:54.165408Z",
     "iopub.status.busy": "2025-07-30T19:59:54.164925Z",
     "iopub.status.idle": "2025-07-30T19:59:54.171329Z",
     "shell.execute_reply": "2025-07-30T19:59:54.170080Z"
    },
    "papermill": {
     "duration": 0.047738,
     "end_time": "2025-07-30T19:59:54.176066",
     "exception": false,
     "start_time": "2025-07-30T19:59:54.128328",
     "status": "completed"
    },
    "tags": []
   },
   "outputs": [
    {
     "name": "stdout",
     "output_type": "stream",
     "text": [
      "Current working directory: /dss/dsshome1/0C/ra93lal2/cma/CMA_Fairness_v2\n"
     ]
    }
   ],
   "source": [
    "import os\n",
    "print(\"Current working directory:\", os.getcwd())"
   ]
  },
  {
   "cell_type": "code",
   "execution_count": 3,
   "id": "2dce4c03",
   "metadata": {
    "execution": {
     "iopub.execute_input": "2025-07-30T19:59:54.266501Z",
     "iopub.status.busy": "2025-07-30T19:59:54.266116Z",
     "iopub.status.idle": "2025-07-30T19:59:54.272725Z",
     "shell.execute_reply": "2025-07-30T19:59:54.271654Z"
    },
    "papermill": {
     "duration": 0.04552,
     "end_time": "2025-07-30T19:59:54.275818",
     "exception": false,
     "start_time": "2025-07-30T19:59:54.230298",
     "status": "completed"
    },
    "tags": [
     "parameters"
    ]
   },
   "outputs": [],
   "source": [
    "run_no = 0\n",
    "universe_id = \"test\"\n",
    "universe = {\n",
    "    \"training_size\": \"25k\", # \"25k\", \"5k\", \"1k\"\n",
    "    \"training_year\": \"2014\", # \"2014\", \"2012_14\", \"2010_14\"\n",
    "    \"scale\": \"scale\", # \"scale\", \"do-not-scale\",\n",
    "    #\"stratify_split\": \"target\", # \"none\", \"target\", \"protected-attribute\", \"both\",\n",
    "    \"model\": \"elasticnet\", # \"logreg\", \"penalized_logreg\", \"rf\", \"gbm\", \"elasticnet\"\n",
    "    \"cutoff\": [\"quantile_0.15\", \"quantile_0.30\"],\n",
    "    \"exclude_features\": \"age\", # \"none\", \"nationality\", \"sex\", \"nationality-sex\", \"age\"\n",
    "    \"exclude_subgroups\": \"keep-all\", # \"keep-all\", \"drop-non-german\"\n",
    "    \"eval_fairness_grouping\": [\"majority-minority\", \"nationality-all\"]\n",
    "}\n",
    "\n",
    "output_dir=\"./output\"\n",
    "seed=0"
   ]
  },
  {
   "cell_type": "code",
   "execution_count": 4,
   "id": "82c6627f",
   "metadata": {
    "execution": {
     "iopub.execute_input": "2025-07-30T19:59:54.332831Z",
     "iopub.status.busy": "2025-07-30T19:59:54.332454Z",
     "iopub.status.idle": "2025-07-30T19:59:54.337831Z",
     "shell.execute_reply": "2025-07-30T19:59:54.336768Z"
    },
    "papermill": {
     "duration": 0.029201,
     "end_time": "2025-07-30T19:59:54.340996",
     "exception": false,
     "start_time": "2025-07-30T19:59:54.311795",
     "status": "completed"
    },
    "tags": [
     "injected-parameters"
    ]
   },
   "outputs": [],
   "source": [
    "# Parameters\n",
    "universe_id = \"6bbc2ba84ee6061532b1418a0301613b\"\n",
    "run_no = \"14\"\n",
    "universe = \"{\\\"cutoff\\\": [\\\"quantile_0.1\\\", \\\"quantile_0.25\\\"], \\\"eval_fairness_grouping\\\": [\\\"majority-minority\\\", \\\"nationality-all\\\"], \\\"exclude_features\\\": \\\"age\\\", \\\"exclude_subgroups\\\": \\\"drop-non-german\\\", \\\"model\\\": \\\"rf\\\", \\\"scale\\\": \\\"do-not-scale\\\", \\\"training_size\\\": \\\"25k\\\", \\\"training_year\\\": \\\"2014\\\"}\"\n",
    "output_dir = \"output\"\n",
    "seed = \"2023\"\n"
   ]
  },
  {
   "cell_type": "code",
   "execution_count": 5,
   "id": "1650acaf",
   "metadata": {
    "execution": {
     "iopub.execute_input": "2025-07-30T19:59:54.410901Z",
     "iopub.status.busy": "2025-07-30T19:59:54.410492Z",
     "iopub.status.idle": "2025-07-30T19:59:54.417112Z",
     "shell.execute_reply": "2025-07-30T19:59:54.416078Z"
    },
    "papermill": {
     "duration": 0.056166,
     "end_time": "2025-07-30T19:59:54.419051",
     "exception": false,
     "start_time": "2025-07-30T19:59:54.362885",
     "status": "completed"
    },
    "tags": []
   },
   "outputs": [],
   "source": [
    "import json\n",
    "# Parse universe into dict if it is passed as a string\n",
    "if isinstance(universe, str):\n",
    "    universe = json.loads(universe)"
   ]
  },
  {
   "cell_type": "code",
   "execution_count": 6,
   "id": "16620c48",
   "metadata": {
    "execution": {
     "iopub.execute_input": "2025-07-30T19:59:54.452129Z",
     "iopub.status.busy": "2025-07-30T19:59:54.451734Z",
     "iopub.status.idle": "2025-07-30T19:59:54.484351Z",
     "shell.execute_reply": "2025-07-30T19:59:54.483615Z"
    },
    "papermill": {
     "duration": 0.050584,
     "end_time": "2025-07-30T19:59:54.485784",
     "exception": false,
     "start_time": "2025-07-30T19:59:54.435200",
     "status": "completed"
    },
    "tags": []
   },
   "outputs": [],
   "source": [
    "# Auto-reload the custom package\n",
    "%load_ext autoreload\n",
    "%autoreload 1\n",
    "%aimport fairness_multiverse"
   ]
  },
  {
   "cell_type": "code",
   "execution_count": 7,
   "id": "01c5c9f3",
   "metadata": {
    "execution": {
     "iopub.execute_input": "2025-07-30T19:59:54.508027Z",
     "iopub.status.busy": "2025-07-30T19:59:54.507282Z",
     "iopub.status.idle": "2025-07-30T19:59:57.195714Z",
     "shell.execute_reply": "2025-07-30T19:59:57.194418Z"
    },
    "papermill": {
     "duration": 2.701591,
     "end_time": "2025-07-30T19:59:57.198055",
     "exception": false,
     "start_time": "2025-07-30T19:59:54.496464",
     "status": "completed"
    },
    "tags": []
   },
   "outputs": [],
   "source": [
    "from fairness_multiverse.universe import UniverseAnalysis\n",
    "\n",
    "universe_analysis = UniverseAnalysis(\n",
    "    run_no = run_no,\n",
    "    universe_id = universe_id,\n",
    "    universe = universe,\n",
    "    output_dir=output_dir,\n",
    ")"
   ]
  },
  {
   "cell_type": "code",
   "execution_count": 8,
   "id": "106241f5",
   "metadata": {
    "execution": {
     "iopub.execute_input": "2025-07-30T19:59:57.314549Z",
     "iopub.status.busy": "2025-07-30T19:59:57.314140Z",
     "iopub.status.idle": "2025-07-30T19:59:57.322428Z",
     "shell.execute_reply": "2025-07-30T19:59:57.321412Z"
    },
    "papermill": {
     "duration": 0.060336,
     "end_time": "2025-07-30T19:59:57.323897",
     "exception": false,
     "start_time": "2025-07-30T19:59:57.263561",
     "status": "completed"
    },
    "tags": []
   },
   "outputs": [
    {
     "name": "stdout",
     "output_type": "stream",
     "text": [
      "Using Seed: 2023\n"
     ]
    }
   ],
   "source": [
    "import numpy as np\n",
    "parsed_seed = int(seed)\n",
    "np.random.seed(parsed_seed)\n",
    "print(f\"Using Seed: {parsed_seed}\")"
   ]
  },
  {
   "cell_type": "markdown",
   "id": "e0ebdc57",
   "metadata": {
    "papermill": {
     "duration": 0.047377,
     "end_time": "2025-07-30T19:59:57.408837",
     "exception": false,
     "start_time": "2025-07-30T19:59:57.361460",
     "status": "completed"
    },
    "tags": []
   },
   "source": [
    "# Loading Data"
   ]
  },
  {
   "cell_type": "markdown",
   "id": "681925a3",
   "metadata": {
    "papermill": {
     "duration": 0.021491,
     "end_time": "2025-07-30T19:59:57.450376",
     "exception": false,
     "start_time": "2025-07-30T19:59:57.428885",
     "status": "completed"
    },
    "tags": []
   },
   "source": [
    "Load siab_train, siab_test, siab_calib and/or \n",
    "load siab_train_features, siab_train_labels"
   ]
  },
  {
   "cell_type": "code",
   "execution_count": 9,
   "id": "f0496b8a",
   "metadata": {
    "execution": {
     "iopub.execute_input": "2025-07-30T19:59:57.490559Z",
     "iopub.status.busy": "2025-07-30T19:59:57.490095Z",
     "iopub.status.idle": "2025-07-30T20:00:10.740200Z",
     "shell.execute_reply": "2025-07-30T20:00:10.738795Z"
    },
    "papermill": {
     "duration": 13.272451,
     "end_time": "2025-07-30T20:00:10.742048",
     "exception": false,
     "start_time": "2025-07-30T19:59:57.469597",
     "status": "completed"
    },
    "tags": []
   },
   "outputs": [
    {
     "name": "stdout",
     "output_type": "stream",
     "text": [
      "Loading SIAB data from cache: data/siab_cached.csv.gz\n"
     ]
    },
    {
     "name": "stdout",
     "output_type": "stream",
     "text": [
      "(643690, 164)\n"
     ]
    }
   ],
   "source": [
    "from pathlib import Path\n",
    "import pandas as pd\n",
    "\n",
    "# File paths\n",
    "raw_file = Path(\"data/raw/siab.csv\")\n",
    "cache_file = Path(\"data/siab_cached.csv.gz\")\n",
    "\n",
    "# Ensure cache directory exists\n",
    "cache_file.parent.mkdir(parents=True, exist_ok=True)\n",
    "\n",
    "# Load with simple caching\n",
    "if cache_file.exists():\n",
    "    print(f\"Loading SIAB data from cache: {cache_file}\")\n",
    "    siab = pd.read_csv(cache_file, compression='gzip')\n",
    "else:\n",
    "    print(f\"Cache not found. Reading raw SIAB data: {raw_file}\")\n",
    "    siab = pd.read_csv(raw_file)\n",
    "    siab.to_csv(cache_file, index=False, compression='gzip')\n",
    "    print(f\"Cached SIAB data to: {cache_file}\")\n",
    "\n",
    "# Now use `siab` DataFrame as needed\n",
    "print(siab.shape)"
   ]
  },
  {
   "cell_type": "code",
   "execution_count": 10,
   "id": "db0ca512-5f53-4dba-abdb-a2888bca41ba",
   "metadata": {
    "execution": {
     "iopub.execute_input": "2025-07-30T20:00:10.789860Z",
     "iopub.status.busy": "2025-07-30T20:00:10.788947Z",
     "iopub.status.idle": "2025-07-30T20:00:10.795017Z",
     "shell.execute_reply": "2025-07-30T20:00:10.794061Z"
    },
    "papermill": {
     "duration": 0.029335,
     "end_time": "2025-07-30T20:00:10.796565",
     "exception": false,
     "start_time": "2025-07-30T20:00:10.767230",
     "status": "completed"
    },
    "tags": []
   },
   "outputs": [],
   "source": [
    "#siab"
   ]
  },
  {
   "cell_type": "code",
   "execution_count": 11,
   "id": "a0edb063",
   "metadata": {
    "execution": {
     "iopub.execute_input": "2025-07-30T20:00:10.853198Z",
     "iopub.status.busy": "2025-07-30T20:00:10.852729Z",
     "iopub.status.idle": "2025-07-30T20:00:10.858189Z",
     "shell.execute_reply": "2025-07-30T20:00:10.857222Z"
    },
    "papermill": {
     "duration": 0.039741,
     "end_time": "2025-07-30T20:00:10.860103",
     "exception": false,
     "start_time": "2025-07-30T20:00:10.820362",
     "status": "completed"
    },
    "tags": []
   },
   "outputs": [],
   "source": [
    "#import pandas as pd\n",
    "#\n",
    "#X_train = pd.read_csv(\"./data/X_train.csv\")\n",
    "#y_train = pd.read_csv(\"./data/y_train.csv\")"
   ]
  },
  {
   "cell_type": "code",
   "execution_count": 12,
   "id": "63d08085",
   "metadata": {
    "execution": {
     "iopub.execute_input": "2025-07-30T20:00:10.904527Z",
     "iopub.status.busy": "2025-07-30T20:00:10.904016Z",
     "iopub.status.idle": "2025-07-30T20:00:10.909023Z",
     "shell.execute_reply": "2025-07-30T20:00:10.907971Z"
    },
    "papermill": {
     "duration": 0.028434,
     "end_time": "2025-07-30T20:00:10.910598",
     "exception": false,
     "start_time": "2025-07-30T20:00:10.882164",
     "status": "completed"
    },
    "tags": []
   },
   "outputs": [],
   "source": [
    "#X_test = pd.read_csv(\"./data/X_test.csv\")\n",
    "#y_true = pd.read_csv(\"./data/y_test.csv\")"
   ]
  },
  {
   "cell_type": "code",
   "execution_count": 13,
   "id": "98a8d0fa-1d3d-4ed8-bb2c-281470e24add",
   "metadata": {
    "execution": {
     "iopub.execute_input": "2025-07-30T20:00:10.954697Z",
     "iopub.status.busy": "2025-07-30T20:00:10.954199Z",
     "iopub.status.idle": "2025-07-30T20:00:10.959399Z",
     "shell.execute_reply": "2025-07-30T20:00:10.958403Z"
    },
    "papermill": {
     "duration": 0.028577,
     "end_time": "2025-07-30T20:00:10.961275",
     "exception": false,
     "start_time": "2025-07-30T20:00:10.932698",
     "status": "completed"
    },
    "tags": []
   },
   "outputs": [],
   "source": [
    "# Calibration data for conformal\n",
    "#X_calib = pd.read_csv(\"./data/X_calib.csv\")\n",
    "#y_calib = pd.read_csv(\"./data/y_calib.csv\")"
   ]
  },
  {
   "cell_type": "markdown",
   "id": "997051c5-15bd-4b69-9786-c3001a3ce484",
   "metadata": {
    "papermill": {
     "duration": 0.01962,
     "end_time": "2025-07-30T20:00:11.001331",
     "exception": false,
     "start_time": "2025-07-30T20:00:10.981711",
     "status": "completed"
    },
    "tags": []
   },
   "source": [
    "# Splitting Data and Setting Training Data Size"
   ]
  },
  {
   "cell_type": "code",
   "execution_count": 14,
   "id": "e993b61f-042d-41a6-8c81-f55681f86335",
   "metadata": {
    "execution": {
     "iopub.execute_input": "2025-07-30T20:00:11.043384Z",
     "iopub.status.busy": "2025-07-30T20:00:11.042546Z",
     "iopub.status.idle": "2025-07-30T20:00:11.056141Z",
     "shell.execute_reply": "2025-07-30T20:00:11.055060Z"
    },
    "papermill": {
     "duration": 0.037156,
     "end_time": "2025-07-30T20:00:11.058022",
     "exception": false,
     "start_time": "2025-07-30T20:00:11.020866",
     "status": "completed"
    },
    "tags": []
   },
   "outputs": [],
   "source": [
    "def sample_by_year_size(df,\n",
    "                        training_year: str,\n",
    "                        training_size: str,\n",
    "                        random_state: int = 42):\n",
    "    # --- parse training_year into a list of int years ---\n",
    "    if \"_\" in training_year:\n",
    "        start_str, end_str = training_year.split(\"_\", 1)\n",
    "        start = int(start_str)\n",
    "        end   = int(end_str) if len(end_str) == 4 else (int(end_str) + (start // 100)*100)\n",
    "        years = list(range(start, end + 1))\n",
    "    else:\n",
    "        years = [int(training_year)]\n",
    "\n",
    "    df = df[df[\"year\"].isin(years)].reset_index(drop=True)\n",
    "\n",
    "    # --- map training_size to total number of samples ---\n",
    "    total_map = {\"25k\": 25_000, \"5k\": 5_000, \"1k\": 1_000}\n",
    "    if training_size not in total_map:\n",
    "        return df  # e.g. \"all\"\n",
    "\n",
    "    total_samples = total_map[training_size]\n",
    "    n_years       = len(years)\n",
    "    base          = total_samples // n_years\n",
    "    remainder     = total_samples % n_years\n",
    "\n",
    "    # --- build a dict: year -> how many to sample ---\n",
    "    # give +1 to the first `remainder` years in ascending order\n",
    "    quotas = {\n",
    "        year: base + (1 if idx < remainder else 0)\n",
    "        for idx, year in enumerate(sorted(years))\n",
    "    }\n",
    "\n",
    "    # --- sample per‐year according to the quota dict ---\n",
    "    sampled = (\n",
    "        df\n",
    "        .groupby(\"year\", group_keys=False)\n",
    "        .apply(lambda grp: grp.sample(\n",
    "            n=min(len(grp), quotas[grp.name]),\n",
    "            random_state=random_state))\n",
    "        .reset_index(drop=True)\n",
    "    )\n",
    "\n",
    "    return sampled"
   ]
  },
  {
   "cell_type": "code",
   "execution_count": 15,
   "id": "c0ccd338-0e02-41f3-a09d-f56f9266e3fb",
   "metadata": {
    "execution": {
     "iopub.execute_input": "2025-07-30T20:00:11.100540Z",
     "iopub.status.busy": "2025-07-30T20:00:11.099727Z",
     "iopub.status.idle": "2025-07-30T20:00:11.105176Z",
     "shell.execute_reply": "2025-07-30T20:00:11.104210Z"
    },
    "papermill": {
     "duration": 0.027877,
     "end_time": "2025-07-30T20:00:11.106921",
     "exception": false,
     "start_time": "2025-07-30T20:00:11.079044",
     "status": "completed"
    },
    "tags": []
   },
   "outputs": [],
   "source": [
    "#universe[\"training_size\"]"
   ]
  },
  {
   "cell_type": "code",
   "execution_count": 16,
   "id": "ca707fd7-8047-4acd-bfa5-66248fbbf8e6",
   "metadata": {
    "execution": {
     "iopub.execute_input": "2025-07-30T20:00:11.150681Z",
     "iopub.status.busy": "2025-07-30T20:00:11.149992Z",
     "iopub.status.idle": "2025-07-30T20:00:11.154974Z",
     "shell.execute_reply": "2025-07-30T20:00:11.154132Z"
    },
    "papermill": {
     "duration": 0.027351,
     "end_time": "2025-07-30T20:00:11.156421",
     "exception": false,
     "start_time": "2025-07-30T20:00:11.129070",
     "status": "completed"
    },
    "tags": []
   },
   "outputs": [],
   "source": [
    "#universe[\"training_year\"]"
   ]
  },
  {
   "cell_type": "code",
   "execution_count": 17,
   "id": "aea9c6ef-6f46-42c8-85eb-5a62025c1508",
   "metadata": {
    "execution": {
     "iopub.execute_input": "2025-07-30T20:00:11.197459Z",
     "iopub.status.busy": "2025-07-30T20:00:11.196768Z",
     "iopub.status.idle": "2025-07-30T20:00:11.466484Z",
     "shell.execute_reply": "2025-07-30T20:00:11.465525Z"
    },
    "papermill": {
     "duration": 0.29218,
     "end_time": "2025-07-30T20:00:11.468463",
     "exception": false,
     "start_time": "2025-07-30T20:00:11.176283",
     "status": "completed"
    },
    "tags": []
   },
   "outputs": [],
   "source": [
    "siab_train = sample_by_year_size(siab,\n",
    "                               training_year=universe[\"training_year\"],\n",
    "                               training_size=universe[\"training_size\"])"
   ]
  },
  {
   "cell_type": "code",
   "execution_count": 18,
   "id": "8d3afb32-789d-442c-8d5d-9f5aa8dd2eed",
   "metadata": {
    "execution": {
     "iopub.execute_input": "2025-07-30T20:00:11.509886Z",
     "iopub.status.busy": "2025-07-30T20:00:11.509419Z",
     "iopub.status.idle": "2025-07-30T20:00:11.517736Z",
     "shell.execute_reply": "2025-07-30T20:00:11.515667Z"
    },
    "papermill": {
     "duration": 0.031175,
     "end_time": "2025-07-30T20:00:11.519577",
     "exception": false,
     "start_time": "2025-07-30T20:00:11.488402",
     "status": "completed"
    },
    "tags": []
   },
   "outputs": [],
   "source": [
    "#siab_train.shape"
   ]
  },
  {
   "cell_type": "code",
   "execution_count": 19,
   "id": "d582db68-1a4c-47fb-84fc-08518dc1975a",
   "metadata": {
    "execution": {
     "iopub.execute_input": "2025-07-30T20:00:11.562667Z",
     "iopub.status.busy": "2025-07-30T20:00:11.562144Z",
     "iopub.status.idle": "2025-07-30T20:00:11.567720Z",
     "shell.execute_reply": "2025-07-30T20:00:11.566867Z"
    },
    "papermill": {
     "duration": 0.027875,
     "end_time": "2025-07-30T20:00:11.569280",
     "exception": false,
     "start_time": "2025-07-30T20:00:11.541405",
     "status": "completed"
    },
    "tags": []
   },
   "outputs": [],
   "source": [
    "#display(siab_train.groupby(\"year\").size())"
   ]
  },
  {
   "cell_type": "code",
   "execution_count": 20,
   "id": "a561edb4-d032-42cb-8256-22eac1111c64",
   "metadata": {
    "execution": {
     "iopub.execute_input": "2025-07-30T20:00:11.612560Z",
     "iopub.status.busy": "2025-07-30T20:00:11.611757Z",
     "iopub.status.idle": "2025-07-30T20:00:11.840836Z",
     "shell.execute_reply": "2025-07-30T20:00:11.839864Z"
    },
    "papermill": {
     "duration": 0.251554,
     "end_time": "2025-07-30T20:00:11.842456",
     "exception": false,
     "start_time": "2025-07-30T20:00:11.590902",
     "status": "completed"
    },
    "tags": []
   },
   "outputs": [],
   "source": [
    "#siab_train = siab_s[siab_s.year < 2015]\n",
    "siab_calib = siab[siab.year == 2015]\n",
    "siab_test = siab[siab.year == 2016]"
   ]
  },
  {
   "cell_type": "code",
   "execution_count": 21,
   "id": "472de16f-c3db-4916-846b-1f0de9cf1746",
   "metadata": {
    "execution": {
     "iopub.execute_input": "2025-07-30T20:00:11.887789Z",
     "iopub.status.busy": "2025-07-30T20:00:11.887277Z",
     "iopub.status.idle": "2025-07-30T20:00:11.902203Z",
     "shell.execute_reply": "2025-07-30T20:00:11.901083Z"
    },
    "papermill": {
     "duration": 0.040827,
     "end_time": "2025-07-30T20:00:11.903954",
     "exception": false,
     "start_time": "2025-07-30T20:00:11.863127",
     "status": "completed"
    },
    "tags": []
   },
   "outputs": [],
   "source": [
    "X_train = siab_train.iloc[:,4:164]\n",
    "y_train = siab_train.iloc[:, [3]]"
   ]
  },
  {
   "cell_type": "code",
   "execution_count": 22,
   "id": "828c96af-f43a-4ed6-ba47-8ac73a47d56c",
   "metadata": {
    "execution": {
     "iopub.execute_input": "2025-07-30T20:00:11.959530Z",
     "iopub.status.busy": "2025-07-30T20:00:11.958791Z",
     "iopub.status.idle": "2025-07-30T20:00:12.011640Z",
     "shell.execute_reply": "2025-07-30T20:00:12.010593Z"
    },
    "papermill": {
     "duration": 0.084682,
     "end_time": "2025-07-30T20:00:12.013425",
     "exception": false,
     "start_time": "2025-07-30T20:00:11.928743",
     "status": "completed"
    },
    "tags": []
   },
   "outputs": [],
   "source": [
    "X_calib = siab_calib.iloc[:,4:164]\n",
    "y_calib = siab_calib.iloc[:, [3]]"
   ]
  },
  {
   "cell_type": "code",
   "execution_count": 23,
   "id": "c34be9c3-6bd6-476e-acd3-845840e303be",
   "metadata": {
    "execution": {
     "iopub.execute_input": "2025-07-30T20:00:12.058016Z",
     "iopub.status.busy": "2025-07-30T20:00:12.057354Z",
     "iopub.status.idle": "2025-07-30T20:00:12.109001Z",
     "shell.execute_reply": "2025-07-30T20:00:12.107909Z"
    },
    "papermill": {
     "duration": 0.075745,
     "end_time": "2025-07-30T20:00:12.110827",
     "exception": false,
     "start_time": "2025-07-30T20:00:12.035082",
     "status": "completed"
    },
    "tags": []
   },
   "outputs": [],
   "source": [
    "X_test = siab_test.iloc[:,4:164]\n",
    "y_true = siab_test.iloc[:, [3]]"
   ]
  },
  {
   "cell_type": "markdown",
   "id": "9901737e-04df-44f0-9100-f5ad144ed040",
   "metadata": {
    "papermill": {
     "duration": 0.020372,
     "end_time": "2025-07-30T20:00:12.153328",
     "exception": false,
     "start_time": "2025-07-30T20:00:12.132956",
     "status": "completed"
    },
    "tags": []
   },
   "source": [
    "# Splitting Data and Setting Training Data Size OLD VERSION"
   ]
  },
  {
   "cell_type": "code",
   "execution_count": 24,
   "id": "acbc8f7d-8fc8-4e86-8c59-5dcb0f58384b",
   "metadata": {
    "execution": {
     "iopub.execute_input": "2025-07-30T20:00:12.203248Z",
     "iopub.status.busy": "2025-07-30T20:00:12.202755Z",
     "iopub.status.idle": "2025-07-30T20:00:12.208348Z",
     "shell.execute_reply": "2025-07-30T20:00:12.207369Z"
    },
    "papermill": {
     "duration": 0.030572,
     "end_time": "2025-07-30T20:00:12.209941",
     "exception": false,
     "start_time": "2025-07-30T20:00:12.179369",
     "status": "completed"
    },
    "tags": []
   },
   "outputs": [],
   "source": [
    "#def sample_by_year(df, training_size, random_state=42):\n",
    "#    if training_size == \"2014\":\n",
    "#        return df[df[\"year\"] == 2014].reset_index(drop=True)\n",
    "#    \n",
    "#    size_map = {\n",
    "#        \"25k\": 5000,\n",
    "#        \"5k\": 1000,\n",
    "#        \"1k\": 200\n",
    "#    }\n",
    "#\n",
    "#    if training_size not in size_map:\n",
    "#        return df.reset_index(drop=True)  # use all data\n",
    "#\n",
    "#    n_per_year = size_map[training_size]\n",
    "#    grouped = df.groupby(\"year\")\n",
    "#    sampled = grouped.apply(lambda x: x.sample(n=min(n_per_year, len(x)), random_state=random_state))\n",
    "#    return sampled.reset_index(drop=True)"
   ]
  },
  {
   "cell_type": "code",
   "execution_count": 25,
   "id": "6d931f52-beaf-43ff-9e78-9d44a448d54e",
   "metadata": {
    "execution": {
     "iopub.execute_input": "2025-07-30T20:00:12.254947Z",
     "iopub.status.busy": "2025-07-30T20:00:12.254420Z",
     "iopub.status.idle": "2025-07-30T20:00:12.259733Z",
     "shell.execute_reply": "2025-07-30T20:00:12.258898Z"
    },
    "papermill": {
     "duration": 0.030497,
     "end_time": "2025-07-30T20:00:12.261559",
     "exception": false,
     "start_time": "2025-07-30T20:00:12.231062",
     "status": "completed"
    },
    "tags": []
   },
   "outputs": [],
   "source": [
    "#siab_s = sample_by_year(siab, universe[\"training_size\"])"
   ]
  },
  {
   "cell_type": "code",
   "execution_count": 26,
   "id": "5db0a40e-a4e2-4920-be85-b12ae061d70d",
   "metadata": {
    "execution": {
     "iopub.execute_input": "2025-07-30T20:00:12.306486Z",
     "iopub.status.busy": "2025-07-30T20:00:12.306038Z",
     "iopub.status.idle": "2025-07-30T20:00:12.310929Z",
     "shell.execute_reply": "2025-07-30T20:00:12.309963Z"
    },
    "papermill": {
     "duration": 0.028967,
     "end_time": "2025-07-30T20:00:12.312671",
     "exception": false,
     "start_time": "2025-07-30T20:00:12.283704",
     "status": "completed"
    },
    "tags": []
   },
   "outputs": [],
   "source": [
    "#display(siab_s.groupby(\"year\").size())"
   ]
  },
  {
   "cell_type": "code",
   "execution_count": 27,
   "id": "e6c733c5",
   "metadata": {
    "execution": {
     "iopub.execute_input": "2025-07-30T20:00:12.360625Z",
     "iopub.status.busy": "2025-07-30T20:00:12.359857Z",
     "iopub.status.idle": "2025-07-30T20:00:12.471703Z",
     "shell.execute_reply": "2025-07-30T20:00:12.470700Z"
    },
    "papermill": {
     "duration": 0.138714,
     "end_time": "2025-07-30T20:00:12.473625",
     "exception": false,
     "start_time": "2025-07-30T20:00:12.334911",
     "status": "completed"
    },
    "tags": []
   },
   "outputs": [],
   "source": [
    "# Auxiliary data needed downstream in the pipeline\n",
    "\n",
    "org_train = X_train.copy()\n",
    "org_test = X_test.copy()\n",
    "org_calib = X_calib.copy()"
   ]
  },
  {
   "cell_type": "code",
   "execution_count": 28,
   "id": "1466abac-c6da-4492-a62f-4240ae3783af",
   "metadata": {
    "execution": {
     "iopub.execute_input": "2025-07-30T20:00:12.520195Z",
     "iopub.status.busy": "2025-07-30T20:00:12.519609Z",
     "iopub.status.idle": "2025-07-30T20:00:12.525689Z",
     "shell.execute_reply": "2025-07-30T20:00:12.524657Z"
    },
    "papermill": {
     "duration": 0.030157,
     "end_time": "2025-07-30T20:00:12.527289",
     "exception": false,
     "start_time": "2025-07-30T20:00:12.497132",
     "status": "completed"
    },
    "tags": []
   },
   "outputs": [],
   "source": [
    "# put in other script?\n",
    "# Group sizes\n",
    "\n",
    "#def calculate_percentages(df, df_name):\n",
    "#    total_entries = len(df)\n",
    "#\n",
    "#    female_pct = (df['frau1'] == 1).mean() * 100\n",
    "#    non_german_pct = ((df['maxdeutsch1'] == 0) & (df['maxdeutsch.Missing.'] == 0)).mean() * 100\n",
    "#    non_german_male_pct = ((df['frau1'] == 0) & (df['maxdeutsch1'] == 0) & (df['maxdeutsch.Missing.'] == 0)).mean() * 100\n",
    "#    non_german_female_pct = ((df['frau1'] == 1) & (df['maxdeutsch1'] == 0) & (df['maxdeutsch.Missing.'] == 0)).mean() * 100\n",
    "#\n",
    "#    print(f\"--- {df_name} ---\")\n",
    "#    print(f\"Female: {female_pct:.2f}%\")\n",
    "#    print(f\"Non-German: {non_german_pct:.2f}%\")\n",
    "#    print(f\"Non-German Male: {non_german_male_pct:.2f}%\")\n",
    "#    print(f\"Non-German Female: {non_german_female_pct:.2f}%\\n\")\n",
    "#\n",
    "## Calculate for each DataFrame\n",
    "#calculate_percentages(siab_calib, \"siab_calib\")\n",
    "#calculate_percentages(siab_test, \"siab_test\")\n",
    "#calculate_percentages(siab_train, \"siab_train\")"
   ]
  },
  {
   "cell_type": "markdown",
   "id": "0a4a1b33",
   "metadata": {
    "papermill": {
     "duration": 0.021336,
     "end_time": "2025-07-30T20:00:12.572567",
     "exception": false,
     "start_time": "2025-07-30T20:00:12.551231",
     "status": "completed"
    },
    "tags": []
   },
   "source": [
    "# Preprocessing Data"
   ]
  },
  {
   "cell_type": "code",
   "execution_count": 29,
   "id": "ca879031",
   "metadata": {
    "execution": {
     "iopub.execute_input": "2025-07-30T20:00:12.618985Z",
     "iopub.status.busy": "2025-07-30T20:00:12.618485Z",
     "iopub.status.idle": "2025-07-30T20:00:12.625575Z",
     "shell.execute_reply": "2025-07-30T20:00:12.624541Z"
    },
    "papermill": {
     "duration": 0.033498,
     "end_time": "2025-07-30T20:00:12.627302",
     "exception": false,
     "start_time": "2025-07-30T20:00:12.593804",
     "status": "completed"
    },
    "tags": []
   },
   "outputs": [],
   "source": [
    "# EXCLUDE PROTECTED FEATURES\n",
    "# ----------------------\n",
    "# \"exclude_features\": \"none\", # \"nationality\", \"sex\", \"nationality-sex\"\n",
    "\n",
    "excluded_features = universe[\"exclude_features\"].split(\"-\") # split, e.g.: \"nationality-sex\" -> [\"nationality\", \"sex\"]\n",
    "excluded_features_dictionary = {\n",
    "    \"nationality\": [\"maxdeutsch1\", \"maxdeutsch.Missing.\"],\n",
    "    \"sex\": [\"frau1\"],\n",
    "    \"age\": [\"age\"],\n",
    "}\n"
   ]
  },
  {
   "cell_type": "code",
   "execution_count": 30,
   "id": "b745ac60",
   "metadata": {
    "execution": {
     "iopub.execute_input": "2025-07-30T20:00:12.674209Z",
     "iopub.status.busy": "2025-07-30T20:00:12.673526Z",
     "iopub.status.idle": "2025-07-30T20:00:12.679546Z",
     "shell.execute_reply": "2025-07-30T20:00:12.678583Z"
    },
    "papermill": {
     "duration": 0.03071,
     "end_time": "2025-07-30T20:00:12.681209",
     "exception": false,
     "start_time": "2025-07-30T20:00:12.650499",
     "status": "completed"
    },
    "tags": []
   },
   "outputs": [],
   "source": [
    "# Code nice names to column names\n",
    "\n",
    "excluded_features_columns = [\n",
    "    excluded_features_dictionary[f] for f in excluded_features if len(f) > 0 and f != \"none\"\n",
    "]"
   ]
  },
  {
   "cell_type": "code",
   "execution_count": 31,
   "id": "f84f73a2",
   "metadata": {
    "execution": {
     "iopub.execute_input": "2025-07-30T20:00:12.727909Z",
     "iopub.status.busy": "2025-07-30T20:00:12.727255Z",
     "iopub.status.idle": "2025-07-30T20:00:12.733817Z",
     "shell.execute_reply": "2025-07-30T20:00:12.732933Z"
    },
    "papermill": {
     "duration": 0.031263,
     "end_time": "2025-07-30T20:00:12.735499",
     "exception": false,
     "start_time": "2025-07-30T20:00:12.704236",
     "status": "completed"
    },
    "tags": []
   },
   "outputs": [],
   "source": [
    "from utils import flatten_once\n",
    "\n",
    "excluded_features_columns = flatten_once(excluded_features_columns)"
   ]
  },
  {
   "cell_type": "code",
   "execution_count": 32,
   "id": "884dea22",
   "metadata": {
    "execution": {
     "iopub.execute_input": "2025-07-30T20:00:12.782697Z",
     "iopub.status.busy": "2025-07-30T20:00:12.781802Z",
     "iopub.status.idle": "2025-07-30T20:00:12.798143Z",
     "shell.execute_reply": "2025-07-30T20:00:12.797122Z"
    },
    "papermill": {
     "duration": 0.041199,
     "end_time": "2025-07-30T20:00:12.799809",
     "exception": false,
     "start_time": "2025-07-30T20:00:12.758610",
     "status": "completed"
    },
    "tags": []
   },
   "outputs": [
    {
     "name": "stdout",
     "output_type": "stream",
     "text": [
      "Dropping features: ['age']\n"
     ]
    }
   ],
   "source": [
    "if len(excluded_features_columns) > 0:\n",
    "    print(f\"Dropping features: {excluded_features_columns}\")\n",
    "    X_train.drop(excluded_features_columns, axis=1, inplace=True)"
   ]
  },
  {
   "cell_type": "code",
   "execution_count": 33,
   "id": "95ab8b16",
   "metadata": {
    "execution": {
     "iopub.execute_input": "2025-07-30T20:00:12.847475Z",
     "iopub.status.busy": "2025-07-30T20:00:12.846779Z",
     "iopub.status.idle": "2025-07-30T20:00:12.899111Z",
     "shell.execute_reply": "2025-07-30T20:00:12.898186Z"
    },
    "papermill": {
     "duration": 0.078152,
     "end_time": "2025-07-30T20:00:12.901095",
     "exception": false,
     "start_time": "2025-07-30T20:00:12.822943",
     "status": "completed"
    },
    "tags": []
   },
   "outputs": [
    {
     "name": "stdout",
     "output_type": "stream",
     "text": [
      "Dropping features: ['age']\n"
     ]
    }
   ],
   "source": [
    "if len(excluded_features_columns) > 0:\n",
    "    print(f\"Dropping features: {excluded_features_columns}\")\n",
    "    X_test.drop(excluded_features_columns, axis=1, inplace=True)"
   ]
  },
  {
   "cell_type": "code",
   "execution_count": 34,
   "id": "1853aaf5-fb9f-46cb-a2b5-8ea4ae2237e4",
   "metadata": {
    "execution": {
     "iopub.execute_input": "2025-07-30T20:00:12.958497Z",
     "iopub.status.busy": "2025-07-30T20:00:12.957815Z",
     "iopub.status.idle": "2025-07-30T20:00:13.011123Z",
     "shell.execute_reply": "2025-07-30T20:00:13.010150Z"
    },
    "papermill": {
     "duration": 0.07764,
     "end_time": "2025-07-30T20:00:13.012868",
     "exception": false,
     "start_time": "2025-07-30T20:00:12.935228",
     "status": "completed"
    },
    "tags": []
   },
   "outputs": [
    {
     "name": "stdout",
     "output_type": "stream",
     "text": [
      "Dropping features: ['age']\n"
     ]
    }
   ],
   "source": [
    "if len(excluded_features_columns) > 0:\n",
    "    print(f\"Dropping features: {excluded_features_columns}\")\n",
    "    X_calib.drop(excluded_features_columns, axis=1, inplace=True)"
   ]
  },
  {
   "cell_type": "code",
   "execution_count": 35,
   "id": "6727d079-03e5-481e-9d38-292a90b7a0a8",
   "metadata": {
    "execution": {
     "iopub.execute_input": "2025-07-30T20:00:13.059747Z",
     "iopub.status.busy": "2025-07-30T20:00:13.058893Z",
     "iopub.status.idle": "2025-07-30T20:00:13.064161Z",
     "shell.execute_reply": "2025-07-30T20:00:13.063149Z"
    },
    "papermill": {
     "duration": 0.02983,
     "end_time": "2025-07-30T20:00:13.065772",
     "exception": false,
     "start_time": "2025-07-30T20:00:13.035942",
     "status": "completed"
    },
    "tags": []
   },
   "outputs": [],
   "source": [
    "# SPLIT & STRATIFY DATA\n",
    "# ----------------------"
   ]
  },
  {
   "cell_type": "code",
   "execution_count": 36,
   "id": "76c4dc6d",
   "metadata": {
    "execution": {
     "iopub.execute_input": "2025-07-30T20:00:13.115789Z",
     "iopub.status.busy": "2025-07-30T20:00:13.114960Z",
     "iopub.status.idle": "2025-07-30T20:00:13.120598Z",
     "shell.execute_reply": "2025-07-30T20:00:13.119523Z"
    },
    "papermill": {
     "duration": 0.032091,
     "end_time": "2025-07-30T20:00:13.122534",
     "exception": false,
     "start_time": "2025-07-30T20:00:13.090443",
     "status": "completed"
    },
    "tags": []
   },
   "outputs": [],
   "source": [
    "# EXCLUDE CERTAIN SUBGROUPS\n",
    "# ----------------------\n",
    "\n",
    "mode = universe.get(\"exclude_subgroups\", \"keep-all\") \n",
    "# Fetches the exclude_subgroups setting from the universe dict.\n",
    "# Defaults to \"keep-all\" if the key is missing."
   ]
  },
  {
   "cell_type": "code",
   "execution_count": 37,
   "id": "21994072",
   "metadata": {
    "execution": {
     "iopub.execute_input": "2025-07-30T20:00:13.171219Z",
     "iopub.status.busy": "2025-07-30T20:00:13.170744Z",
     "iopub.status.idle": "2025-07-30T20:00:13.177593Z",
     "shell.execute_reply": "2025-07-30T20:00:13.176578Z"
    },
    "papermill": {
     "duration": 0.032284,
     "end_time": "2025-07-30T20:00:13.179260",
     "exception": false,
     "start_time": "2025-07-30T20:00:13.146976",
     "status": "completed"
    },
    "tags": []
   },
   "outputs": [],
   "source": [
    "if mode == \"keep-all\":\n",
    "    keep_mask = pd.Series(True, index=org_train.index)\n",
    "\n",
    "# org_train contains the original feature columns from features_org (in Simson)\n",
    "# features_org contains unprocessed features, for me X_train at beginning ???\n",
    "# For keep-all, creates a boolean Series (keep_mask) of all True, so no rows are removed.\n",
    "\n",
    "elif mode == \"drop-non-german\":\n",
    "    keep_mask = org_train[\"maxdeutsch1\"] == 1 # ??? what about missing values?\n",
    "\n",
    "else:\n",
    "    raise ValueError(f\"Unsupported mode for exclude_subgroups: {mode}\")\n"
   ]
  },
  {
   "cell_type": "code",
   "execution_count": 38,
   "id": "71651440",
   "metadata": {
    "execution": {
     "iopub.execute_input": "2025-07-30T20:00:13.228956Z",
     "iopub.status.busy": "2025-07-30T20:00:13.228238Z",
     "iopub.status.idle": "2025-07-30T20:00:13.236285Z",
     "shell.execute_reply": "2025-07-30T20:00:13.235379Z"
    },
    "papermill": {
     "duration": 0.033986,
     "end_time": "2025-07-30T20:00:13.237916",
     "exception": false,
     "start_time": "2025-07-30T20:00:13.203930",
     "status": "completed"
    },
    "tags": []
   },
   "outputs": [
    {
     "name": "stdout",
     "output_type": "stream",
     "text": [
      "Dropping 3688 rows (14.75%) where mode='drop-non-german'\n"
     ]
    }
   ],
   "source": [
    "n_drop = (~keep_mask).sum() # Calculates how many rows are set to be dropped\n",
    "if n_drop > 0:\n",
    "    pct = n_drop / len(keep_mask) * 100\n",
    "    print(f\"Dropping {n_drop} rows ({pct:.2f}%) where mode='{mode}'\")"
   ]
  },
  {
   "cell_type": "code",
   "execution_count": 39,
   "id": "5fb8eee5",
   "metadata": {
    "execution": {
     "iopub.execute_input": "2025-07-30T20:00:13.288247Z",
     "iopub.status.busy": "2025-07-30T20:00:13.287559Z",
     "iopub.status.idle": "2025-07-30T20:00:13.302637Z",
     "shell.execute_reply": "2025-07-30T20:00:13.301608Z"
    },
    "papermill": {
     "duration": 0.042321,
     "end_time": "2025-07-30T20:00:13.304495",
     "exception": false,
     "start_time": "2025-07-30T20:00:13.262174",
     "status": "completed"
    },
    "tags": []
   },
   "outputs": [],
   "source": [
    "X_train = X_train[keep_mask]"
   ]
  },
  {
   "cell_type": "code",
   "execution_count": 40,
   "id": "b202bb3a",
   "metadata": {
    "execution": {
     "iopub.execute_input": "2025-07-30T20:00:13.351852Z",
     "iopub.status.busy": "2025-07-30T20:00:13.351370Z",
     "iopub.status.idle": "2025-07-30T20:00:13.357879Z",
     "shell.execute_reply": "2025-07-30T20:00:13.356981Z"
    },
    "papermill": {
     "duration": 0.034724,
     "end_time": "2025-07-30T20:00:13.362413",
     "exception": false,
     "start_time": "2025-07-30T20:00:13.327689",
     "status": "completed"
    },
    "tags": []
   },
   "outputs": [],
   "source": [
    "y_train = y_train[keep_mask]"
   ]
  },
  {
   "cell_type": "markdown",
   "id": "493e2ac3",
   "metadata": {
    "papermill": {
     "duration": 0.021978,
     "end_time": "2025-07-30T20:00:13.406935",
     "exception": false,
     "start_time": "2025-07-30T20:00:13.384957",
     "status": "completed"
    },
    "tags": []
   },
   "source": [
    "# Model Training"
   ]
  },
  {
   "cell_type": "code",
   "execution_count": 41,
   "id": "679e1268",
   "metadata": {
    "execution": {
     "iopub.execute_input": "2025-07-30T20:00:13.453065Z",
     "iopub.status.busy": "2025-07-30T20:00:13.452552Z",
     "iopub.status.idle": "2025-07-30T20:00:13.557498Z",
     "shell.execute_reply": "2025-07-30T20:00:13.556607Z"
    },
    "papermill": {
     "duration": 0.130755,
     "end_time": "2025-07-30T20:00:13.559474",
     "exception": false,
     "start_time": "2025-07-30T20:00:13.428719",
     "status": "completed"
    },
    "tags": []
   },
   "outputs": [],
   "source": [
    "from sklearn.linear_model import LogisticRegression\n",
    "from sklearn.ensemble import GradientBoostingClassifier, RandomForestClassifier\n",
    "\n",
    "if (universe[\"model\"] == \"logreg\"):\n",
    "    model = LogisticRegression() #penalty=\"none\") #, solver=\"newton-cg\", max_iter=1) # include random_state=19 ?\n",
    "elif (universe[\"model\"] == \"penalized_logreg\"):\n",
    "    model = LogisticRegression(penalty=\"l2\", C=1.0) #, solver=\"newton-cg\", max_iter=1)\n",
    "elif (universe[\"model\"] == \"rf\"):\n",
    "    model = RandomForestClassifier(n_estimators=100, n_jobs=-1)\n",
    "elif (universe[\"model\"] == \"gbm\"):\n",
    "    model = GradientBoostingClassifier()\n",
    "elif (universe[\"model\"] == \"elasticnet\"):\n",
    "    model = LogisticRegression(penalty = 'elasticnet', solver = 'saga', l1_ratio = 0.5, max_iter=5000) # which solver to use?\n",
    "else:\n",
    "    raise \"Unsupported universe.model\""
   ]
  },
  {
   "cell_type": "code",
   "execution_count": 42,
   "id": "0cc8f744",
   "metadata": {
    "execution": {
     "iopub.execute_input": "2025-07-30T20:00:13.605280Z",
     "iopub.status.busy": "2025-07-30T20:00:13.604644Z",
     "iopub.status.idle": "2025-07-30T20:00:13.610962Z",
     "shell.execute_reply": "2025-07-30T20:00:13.610073Z"
    },
    "papermill": {
     "duration": 0.030613,
     "end_time": "2025-07-30T20:00:13.612651",
     "exception": false,
     "start_time": "2025-07-30T20:00:13.582038",
     "status": "completed"
    },
    "tags": []
   },
   "outputs": [],
   "source": [
    "import numpy as np\n",
    "from sklearn.pipeline import Pipeline\n",
    "from sklearn.preprocessing import StandardScaler\n",
    "\n",
    "model = Pipeline([\n",
    "    #(\"continuous_processor\", continuous_processor),\n",
    "    #(\"categorical_preprocessor\", categorical_preprocessor),\n",
    "    (\"scale\", StandardScaler() if universe[\"scale\"] == \"scale\" else None), \n",
    "    (\"model\", model),\n",
    "])"
   ]
  },
  {
   "cell_type": "code",
   "execution_count": 43,
   "id": "9442c04d",
   "metadata": {
    "execution": {
     "iopub.execute_input": "2025-07-30T20:00:13.658178Z",
     "iopub.status.busy": "2025-07-30T20:00:13.657515Z",
     "iopub.status.idle": "2025-07-30T20:00:16.988294Z",
     "shell.execute_reply": "2025-07-30T20:00:16.987483Z"
    },
    "papermill": {
     "duration": 3.354485,
     "end_time": "2025-07-30T20:00:16.989525",
     "exception": false,
     "start_time": "2025-07-30T20:00:13.635040",
     "status": "completed"
    },
    "tags": []
   },
   "outputs": [
    {
     "data": {
      "text/html": [
       "<style>#sk-container-id-1 {color: black;background-color: white;}#sk-container-id-1 pre{padding: 0;}#sk-container-id-1 div.sk-toggleable {background-color: white;}#sk-container-id-1 label.sk-toggleable__label {cursor: pointer;display: block;width: 100%;margin-bottom: 0;padding: 0.3em;box-sizing: border-box;text-align: center;}#sk-container-id-1 label.sk-toggleable__label-arrow:before {content: \"▸\";float: left;margin-right: 0.25em;color: #696969;}#sk-container-id-1 label.sk-toggleable__label-arrow:hover:before {color: black;}#sk-container-id-1 div.sk-estimator:hover label.sk-toggleable__label-arrow:before {color: black;}#sk-container-id-1 div.sk-toggleable__content {max-height: 0;max-width: 0;overflow: hidden;text-align: left;background-color: #f0f8ff;}#sk-container-id-1 div.sk-toggleable__content pre {margin: 0.2em;color: black;border-radius: 0.25em;background-color: #f0f8ff;}#sk-container-id-1 input.sk-toggleable__control:checked~div.sk-toggleable__content {max-height: 200px;max-width: 100%;overflow: auto;}#sk-container-id-1 input.sk-toggleable__control:checked~label.sk-toggleable__label-arrow:before {content: \"▾\";}#sk-container-id-1 div.sk-estimator input.sk-toggleable__control:checked~label.sk-toggleable__label {background-color: #d4ebff;}#sk-container-id-1 div.sk-label input.sk-toggleable__control:checked~label.sk-toggleable__label {background-color: #d4ebff;}#sk-container-id-1 input.sk-hidden--visually {border: 0;clip: rect(1px 1px 1px 1px);clip: rect(1px, 1px, 1px, 1px);height: 1px;margin: -1px;overflow: hidden;padding: 0;position: absolute;width: 1px;}#sk-container-id-1 div.sk-estimator {font-family: monospace;background-color: #f0f8ff;border: 1px dotted black;border-radius: 0.25em;box-sizing: border-box;margin-bottom: 0.5em;}#sk-container-id-1 div.sk-estimator:hover {background-color: #d4ebff;}#sk-container-id-1 div.sk-parallel-item::after {content: \"\";width: 100%;border-bottom: 1px solid gray;flex-grow: 1;}#sk-container-id-1 div.sk-label:hover label.sk-toggleable__label {background-color: #d4ebff;}#sk-container-id-1 div.sk-serial::before {content: \"\";position: absolute;border-left: 1px solid gray;box-sizing: border-box;top: 0;bottom: 0;left: 50%;z-index: 0;}#sk-container-id-1 div.sk-serial {display: flex;flex-direction: column;align-items: center;background-color: white;padding-right: 0.2em;padding-left: 0.2em;position: relative;}#sk-container-id-1 div.sk-item {position: relative;z-index: 1;}#sk-container-id-1 div.sk-parallel {display: flex;align-items: stretch;justify-content: center;background-color: white;position: relative;}#sk-container-id-1 div.sk-item::before, #sk-container-id-1 div.sk-parallel-item::before {content: \"\";position: absolute;border-left: 1px solid gray;box-sizing: border-box;top: 0;bottom: 0;left: 50%;z-index: -1;}#sk-container-id-1 div.sk-parallel-item {display: flex;flex-direction: column;z-index: 1;position: relative;background-color: white;}#sk-container-id-1 div.sk-parallel-item:first-child::after {align-self: flex-end;width: 50%;}#sk-container-id-1 div.sk-parallel-item:last-child::after {align-self: flex-start;width: 50%;}#sk-container-id-1 div.sk-parallel-item:only-child::after {width: 0;}#sk-container-id-1 div.sk-dashed-wrapped {border: 1px dashed gray;margin: 0 0.4em 0.5em 0.4em;box-sizing: border-box;padding-bottom: 0.4em;background-color: white;}#sk-container-id-1 div.sk-label label {font-family: monospace;font-weight: bold;display: inline-block;line-height: 1.2em;}#sk-container-id-1 div.sk-label-container {text-align: center;}#sk-container-id-1 div.sk-container {/* jupyter's `normalize.less` sets `[hidden] { display: none; }` but bootstrap.min.css set `[hidden] { display: none !important; }` so we also need the `!important` here to be able to override the default hidden behavior on the sphinx rendered scikit-learn.org. See: https://github.com/scikit-learn/scikit-learn/issues/21755 */display: inline-block !important;position: relative;}#sk-container-id-1 div.sk-text-repr-fallback {display: none;}</style><div id=\"sk-container-id-1\" class=\"sk-top-container\"><div class=\"sk-text-repr-fallback\"><pre>Pipeline(steps=[(&#x27;scale&#x27;, None), (&#x27;model&#x27;, RandomForestClassifier(n_jobs=-1))])</pre><b>In a Jupyter environment, please rerun this cell to show the HTML representation or trust the notebook. <br />On GitHub, the HTML representation is unable to render, please try loading this page with nbviewer.org.</b></div><div class=\"sk-container\" hidden><div class=\"sk-item sk-dashed-wrapped\"><div class=\"sk-label-container\"><div class=\"sk-label sk-toggleable\"><input class=\"sk-toggleable__control sk-hidden--visually\" id=\"sk-estimator-id-1\" type=\"checkbox\" ><label for=\"sk-estimator-id-1\" class=\"sk-toggleable__label sk-toggleable__label-arrow\">Pipeline</label><div class=\"sk-toggleable__content\"><pre>Pipeline(steps=[(&#x27;scale&#x27;, None), (&#x27;model&#x27;, RandomForestClassifier(n_jobs=-1))])</pre></div></div></div><div class=\"sk-serial\"><div class=\"sk-item\"><div class=\"sk-estimator sk-toggleable\"><input class=\"sk-toggleable__control sk-hidden--visually\" id=\"sk-estimator-id-2\" type=\"checkbox\" ><label for=\"sk-estimator-id-2\" class=\"sk-toggleable__label sk-toggleable__label-arrow\">None</label><div class=\"sk-toggleable__content\"><pre>None</pre></div></div></div><div class=\"sk-item\"><div class=\"sk-estimator sk-toggleable\"><input class=\"sk-toggleable__control sk-hidden--visually\" id=\"sk-estimator-id-3\" type=\"checkbox\" ><label for=\"sk-estimator-id-3\" class=\"sk-toggleable__label sk-toggleable__label-arrow\">RandomForestClassifier</label><div class=\"sk-toggleable__content\"><pre>RandomForestClassifier(n_jobs=-1)</pre></div></div></div></div></div></div></div>"
      ],
      "text/plain": [
       "Pipeline(steps=[('scale', None), ('model', RandomForestClassifier(n_jobs=-1))])"
      ]
     },
     "execution_count": 43,
     "metadata": {},
     "output_type": "execute_result"
    }
   ],
   "source": [
    "model.fit(X_train, y_train.values.ravel())"
   ]
  },
  {
   "cell_type": "code",
   "execution_count": 44,
   "id": "af59f8c0",
   "metadata": {
    "execution": {
     "iopub.execute_input": "2025-07-30T20:00:17.015081Z",
     "iopub.status.busy": "2025-07-30T20:00:17.014577Z",
     "iopub.status.idle": "2025-07-30T20:00:17.019156Z",
     "shell.execute_reply": "2025-07-30T20:00:17.018440Z"
    },
    "papermill": {
     "duration": 0.018577,
     "end_time": "2025-07-30T20:00:17.020638",
     "exception": false,
     "start_time": "2025-07-30T20:00:17.002061",
     "status": "completed"
    },
    "tags": []
   },
   "outputs": [],
   "source": [
    "from fairness_multiverse.universe import predict_w_threshold"
   ]
  },
  {
   "cell_type": "code",
   "execution_count": 45,
   "id": "a7cf2e16",
   "metadata": {
    "execution": {
     "iopub.execute_input": "2025-07-30T20:00:17.045893Z",
     "iopub.status.busy": "2025-07-30T20:00:17.045415Z",
     "iopub.status.idle": "2025-07-30T20:00:18.640985Z",
     "shell.execute_reply": "2025-07-30T20:00:18.640260Z"
    },
    "papermill": {
     "duration": 1.6094,
     "end_time": "2025-07-30T20:00:18.642189",
     "exception": false,
     "start_time": "2025-07-30T20:00:17.032789",
     "status": "completed"
    },
    "tags": []
   },
   "outputs": [
    {
     "data": {
      "text/plain": [
       "0.8679745847731579"
      ]
     },
     "execution_count": 45,
     "metadata": {},
     "output_type": "execute_result"
    }
   ],
   "source": [
    "probs_test = model.predict_proba(X_test)\n",
    "\n",
    "'''\n",
    "Below code returns a boolean array (or binary 0/1 array depending on how it’s used) where each element \n",
    "is True if the probability of class 1 is greater than or equal to the threshold, and False otherwise.\n",
    "'''\n",
    "y_pred_default = predict_w_threshold(probs_test, 0.5)\n",
    "\n",
    "from sklearn.metrics import accuracy_score\n",
    "\n",
    "# Naive prediction\n",
    "accuracy_score(y_true = y_true, y_pred = y_pred_default)"
   ]
  },
  {
   "cell_type": "code",
   "execution_count": 46,
   "id": "081964c3",
   "metadata": {
    "execution": {
     "iopub.execute_input": "2025-07-30T20:00:18.671262Z",
     "iopub.status.busy": "2025-07-30T20:00:18.670758Z",
     "iopub.status.idle": "2025-07-30T20:00:20.134438Z",
     "shell.execute_reply": "2025-07-30T20:00:20.133511Z"
    },
    "papermill": {
     "duration": 1.479359,
     "end_time": "2025-07-30T20:00:20.136475",
     "exception": false,
     "start_time": "2025-07-30T20:00:18.657116",
     "status": "completed"
    },
    "tags": []
   },
   "outputs": [
    {
     "data": {
      "text/plain": [
       "array([0, 0, 0, ..., 0, 0, 0])"
      ]
     },
     "execution_count": 46,
     "metadata": {},
     "output_type": "execute_result"
    }
   ],
   "source": [
    "model.predict(X_test)"
   ]
  },
  {
   "cell_type": "markdown",
   "id": "56c9705b",
   "metadata": {
    "papermill": {
     "duration": 0.023444,
     "end_time": "2025-07-30T20:00:20.184965",
     "exception": false,
     "start_time": "2025-07-30T20:00:20.161521",
     "status": "completed"
    },
    "tags": []
   },
   "source": [
    "# Conformal Prediction"
   ]
  },
  {
   "cell_type": "code",
   "execution_count": 47,
   "id": "160ec6ff",
   "metadata": {
    "execution": {
     "iopub.execute_input": "2025-07-30T20:00:20.238905Z",
     "iopub.status.busy": "2025-07-30T20:00:20.238204Z",
     "iopub.status.idle": "2025-07-30T20:00:20.244208Z",
     "shell.execute_reply": "2025-07-30T20:00:20.242985Z"
    },
    "papermill": {
     "duration": 0.035837,
     "end_time": "2025-07-30T20:00:20.246084",
     "exception": false,
     "start_time": "2025-07-30T20:00:20.210247",
     "status": "completed"
    },
    "tags": []
   },
   "outputs": [],
   "source": [
    "# Miscoverage level for conformal prediction (10% allowed error rate => 90% target coverage)\n",
    "alpha = 0.1"
   ]
  },
  {
   "cell_type": "code",
   "execution_count": 48,
   "id": "eadf4555-3dd3-440e-8e35-f82a4ad9f855",
   "metadata": {
    "execution": {
     "iopub.execute_input": "2025-07-30T20:00:20.295971Z",
     "iopub.status.busy": "2025-07-30T20:00:20.295259Z",
     "iopub.status.idle": "2025-07-30T20:00:21.266094Z",
     "shell.execute_reply": "2025-07-30T20:00:21.265019Z"
    },
    "papermill": {
     "duration": 0.998384,
     "end_time": "2025-07-30T20:00:21.268385",
     "exception": false,
     "start_time": "2025-07-30T20:00:20.270001",
     "status": "completed"
    },
    "tags": []
   },
   "outputs": [],
   "source": [
    "probs_calib = model.predict_proba(X_calib)"
   ]
  },
  {
   "cell_type": "code",
   "execution_count": 49,
   "id": "2ed93547-6d5d-4983-9b36-1ecb300da49a",
   "metadata": {
    "execution": {
     "iopub.execute_input": "2025-07-30T20:00:21.337766Z",
     "iopub.status.busy": "2025-07-30T20:00:21.336713Z",
     "iopub.status.idle": "2025-07-30T20:00:21.343960Z",
     "shell.execute_reply": "2025-07-30T20:00:21.342783Z"
    },
    "papermill": {
     "duration": 0.046424,
     "end_time": "2025-07-30T20:00:21.347527",
     "exception": false,
     "start_time": "2025-07-30T20:00:21.301103",
     "status": "completed"
    },
    "tags": []
   },
   "outputs": [],
   "source": [
    "y_calib = y_calib.values.ravel().astype(int)"
   ]
  },
  {
   "cell_type": "code",
   "execution_count": 50,
   "id": "65d1320d-f588-4b38-9072-62af1ae97f7d",
   "metadata": {
    "execution": {
     "iopub.execute_input": "2025-07-30T20:00:21.413048Z",
     "iopub.status.busy": "2025-07-30T20:00:21.412568Z",
     "iopub.status.idle": "2025-07-30T20:00:21.420376Z",
     "shell.execute_reply": "2025-07-30T20:00:21.419319Z"
    },
    "papermill": {
     "duration": 0.040014,
     "end_time": "2025-07-30T20:00:21.422478",
     "exception": false,
     "start_time": "2025-07-30T20:00:21.382464",
     "status": "completed"
    },
    "tags": []
   },
   "outputs": [],
   "source": [
    "from fairness_multiverse.conformal import compute_nc_scores\n",
    "\n",
    "# Compute nonconformity scores on calibration set (1 - probability of true class)\n",
    "nc_scores = compute_nc_scores(probs_calib, y_calib)"
   ]
  },
  {
   "cell_type": "code",
   "execution_count": 51,
   "id": "df3b8ca3-53b7-43d5-9667-7c85da7aeda2",
   "metadata": {
    "execution": {
     "iopub.execute_input": "2025-07-30T20:00:21.487607Z",
     "iopub.status.busy": "2025-07-30T20:00:21.487204Z",
     "iopub.status.idle": "2025-07-30T20:00:21.493651Z",
     "shell.execute_reply": "2025-07-30T20:00:21.492648Z"
    },
    "papermill": {
     "duration": 0.041662,
     "end_time": "2025-07-30T20:00:21.495374",
     "exception": false,
     "start_time": "2025-07-30T20:00:21.453712",
     "status": "completed"
    },
    "tags": []
   },
   "outputs": [],
   "source": [
    "from fairness_multiverse.conformal import find_threshold\n",
    "\n",
    "# Find conformal threshold q_hat for the given alpha (split conformal method)\n",
    "q_hat = find_threshold(nc_scores, alpha)"
   ]
  },
  {
   "cell_type": "code",
   "execution_count": 52,
   "id": "4d29e6c1-0ef6-4aa4-b8fe-4fe79b0d033a",
   "metadata": {
    "execution": {
     "iopub.execute_input": "2025-07-30T20:00:21.548413Z",
     "iopub.status.busy": "2025-07-30T20:00:21.547599Z",
     "iopub.status.idle": "2025-07-30T20:00:21.555584Z",
     "shell.execute_reply": "2025-07-30T20:00:21.554485Z"
    },
    "papermill": {
     "duration": 0.036739,
     "end_time": "2025-07-30T20:00:21.557286",
     "exception": false,
     "start_time": "2025-07-30T20:00:21.520547",
     "status": "completed"
    },
    "tags": []
   },
   "outputs": [
    {
     "data": {
      "text/plain": [
       "0.6699999999999999"
      ]
     },
     "execution_count": 52,
     "metadata": {},
     "output_type": "execute_result"
    }
   ],
   "source": [
    "q_hat"
   ]
  },
  {
   "cell_type": "code",
   "execution_count": 53,
   "id": "92460794-cdac-4be2-ba28-f28c0515a6fb",
   "metadata": {
    "execution": {
     "iopub.execute_input": "2025-07-30T20:00:21.609472Z",
     "iopub.status.busy": "2025-07-30T20:00:21.608391Z",
     "iopub.status.idle": "2025-07-30T20:00:23.233217Z",
     "shell.execute_reply": "2025-07-30T20:00:23.232149Z"
    },
    "papermill": {
     "duration": 1.653274,
     "end_time": "2025-07-30T20:00:23.235016",
     "exception": false,
     "start_time": "2025-07-30T20:00:21.581742",
     "status": "completed"
    },
    "tags": []
   },
   "outputs": [],
   "source": [
    "from fairness_multiverse.conformal import predict_conformal_sets\n",
    "\n",
    "# Generate prediction sets for each test example\n",
    "pred_sets = predict_conformal_sets(model, X_test, q_hat)"
   ]
  },
  {
   "cell_type": "code",
   "execution_count": 54,
   "id": "d90c9a65-e6db-4f5d-80cd-e68fb7e46829",
   "metadata": {
    "execution": {
     "iopub.execute_input": "2025-07-30T20:00:23.288901Z",
     "iopub.status.busy": "2025-07-30T20:00:23.288296Z",
     "iopub.status.idle": "2025-07-30T20:00:23.294546Z",
     "shell.execute_reply": "2025-07-30T20:00:23.293520Z"
    },
    "papermill": {
     "duration": 0.034675,
     "end_time": "2025-07-30T20:00:23.296371",
     "exception": false,
     "start_time": "2025-07-30T20:00:23.261696",
     "status": "completed"
    },
    "tags": []
   },
   "outputs": [],
   "source": [
    "y_true = y_true.squeeze()"
   ]
  },
  {
   "cell_type": "code",
   "execution_count": 55,
   "id": "3a58a54a-1e68-46b9-927a-df01f18aebc8",
   "metadata": {
    "execution": {
     "iopub.execute_input": "2025-07-30T20:00:23.351015Z",
     "iopub.status.busy": "2025-07-30T20:00:23.350499Z",
     "iopub.status.idle": "2025-07-30T20:00:24.731869Z",
     "shell.execute_reply": "2025-07-30T20:00:24.730657Z"
    },
    "papermill": {
     "duration": 1.4108,
     "end_time": "2025-07-30T20:00:24.734374",
     "exception": false,
     "start_time": "2025-07-30T20:00:23.323574",
     "status": "completed"
    },
    "tags": []
   },
   "outputs": [],
   "source": [
    "from fairness_multiverse.conformal import evaluate_sets\n",
    "\n",
    "# Evaluate coverage and average set size on test data\n",
    "metrics = evaluate_sets(pred_sets, y_true)"
   ]
  },
  {
   "cell_type": "markdown",
   "id": "2b569c12-9aaa-4c88-98c9-bbcd0cf3ebb8",
   "metadata": {
    "papermill": {
     "duration": 0.037204,
     "end_time": "2025-07-30T20:00:24.810899",
     "exception": false,
     "start_time": "2025-07-30T20:00:24.773695",
     "status": "completed"
    },
    "tags": []
   },
   "source": [
    "# CP Metrics"
   ]
  },
  {
   "cell_type": "code",
   "execution_count": 56,
   "id": "5ce0a5cb-201f-45a0-ade5-94c7f0bd6095",
   "metadata": {
    "execution": {
     "iopub.execute_input": "2025-07-30T20:00:24.885592Z",
     "iopub.status.busy": "2025-07-30T20:00:24.884739Z",
     "iopub.status.idle": "2025-07-30T20:00:24.893358Z",
     "shell.execute_reply": "2025-07-30T20:00:24.892365Z"
    },
    "papermill": {
     "duration": 0.048596,
     "end_time": "2025-07-30T20:00:24.895613",
     "exception": false,
     "start_time": "2025-07-30T20:00:24.847017",
     "status": "completed"
    },
    "tags": []
   },
   "outputs": [
    {
     "data": {
      "text/plain": [
       "{'coverage': 0.9160071340987627, 'avg_size': 1.1496154274885744}"
      ]
     },
     "execution_count": 56,
     "metadata": {},
     "output_type": "execute_result"
    }
   ],
   "source": [
    "metrics"
   ]
  },
  {
   "cell_type": "code",
   "execution_count": 57,
   "id": "9b9a838d-31c9-430b-ae14-12baee460d17",
   "metadata": {
    "execution": {
     "iopub.execute_input": "2025-07-30T20:00:24.970023Z",
     "iopub.status.busy": "2025-07-30T20:00:24.969532Z",
     "iopub.status.idle": "2025-07-30T20:00:24.977410Z",
     "shell.execute_reply": "2025-07-30T20:00:24.976128Z"
    },
    "papermill": {
     "duration": 0.047313,
     "end_time": "2025-07-30T20:00:24.979140",
     "exception": false,
     "start_time": "2025-07-30T20:00:24.931827",
     "status": "completed"
    },
    "tags": []
   },
   "outputs": [],
   "source": [
    "example_universe = universe.copy()\n",
    "universe_training_year = example_universe.get(\"training_year\")\n",
    "universe_training_size = example_universe.get(\"training_size\")\n",
    "universe_scale = example_universe.get(\"scale\")\n",
    "universe_model = example_universe.get(\"model\")\n",
    "universe_exclude_features = example_universe.get(\"exclude_features\")\n",
    "universe_exclude_subgroups = example_universe.get(\"exclude_subgroups\")"
   ]
  },
  {
   "cell_type": "code",
   "execution_count": 58,
   "id": "f4b6a8ac-9dc0-4245-8a91-5b3b5999c4f9",
   "metadata": {
    "execution": {
     "iopub.execute_input": "2025-07-30T20:00:25.031588Z",
     "iopub.status.busy": "2025-07-30T20:00:25.030577Z",
     "iopub.status.idle": "2025-07-30T20:00:25.038077Z",
     "shell.execute_reply": "2025-07-30T20:00:25.036854Z"
    },
    "papermill": {
     "duration": 0.035703,
     "end_time": "2025-07-30T20:00:25.039948",
     "exception": false,
     "start_time": "2025-07-30T20:00:25.004245",
     "status": "completed"
    },
    "tags": []
   },
   "outputs": [],
   "source": [
    "cp_metrics_dict = {\n",
    "    \"universe_id\": [universe_id],\n",
    "    \"universe_training_year\": [universe_training_year],\n",
    "    \"universe_training_size\": [universe_training_size],\n",
    "    \"universe_scale\": [universe_scale],\n",
    "    \"universe_model\": [universe_model],\n",
    "    \"universe_exclude_features\": [universe_exclude_features],\n",
    "    \"universe_exclude_subgroups\": [universe_exclude_subgroups],\n",
    "    \"q_hat\": [q_hat],\n",
    "    \"coverage\": [metrics[\"coverage\"]],\n",
    "    \"avg_size\": [metrics[\"avg_size\"]],\n",
    "}"
   ]
  },
  {
   "cell_type": "code",
   "execution_count": 59,
   "id": "908acbb1-0371-4915-85ca-3fa520d2efe2",
   "metadata": {
    "execution": {
     "iopub.execute_input": "2025-07-30T20:00:25.097302Z",
     "iopub.status.busy": "2025-07-30T20:00:25.096358Z",
     "iopub.status.idle": "2025-07-30T20:00:25.106799Z",
     "shell.execute_reply": "2025-07-30T20:00:25.105667Z"
    },
    "papermill": {
     "duration": 0.038868,
     "end_time": "2025-07-30T20:00:25.108631",
     "exception": false,
     "start_time": "2025-07-30T20:00:25.069763",
     "status": "completed"
    },
    "tags": []
   },
   "outputs": [
    {
     "data": {
      "text/plain": [
       "{'universe_id': ['6bbc2ba84ee6061532b1418a0301613b'],\n",
       " 'universe_training_year': ['2014'],\n",
       " 'universe_training_size': ['25k'],\n",
       " 'universe_scale': ['do-not-scale'],\n",
       " 'universe_model': ['rf'],\n",
       " 'universe_exclude_features': ['age'],\n",
       " 'universe_exclude_subgroups': ['drop-non-german'],\n",
       " 'q_hat': [0.6699999999999999],\n",
       " 'coverage': [0.9160071340987627],\n",
       " 'avg_size': [1.1496154274885744]}"
      ]
     },
     "execution_count": 59,
     "metadata": {},
     "output_type": "execute_result"
    }
   ],
   "source": [
    "cp_metrics_dict"
   ]
  },
  {
   "cell_type": "code",
   "execution_count": 60,
   "id": "33007efc-14e9-4ec6-97ac-56a455c82265",
   "metadata": {
    "execution": {
     "iopub.execute_input": "2025-07-30T20:00:25.162009Z",
     "iopub.status.busy": "2025-07-30T20:00:25.161541Z",
     "iopub.status.idle": "2025-07-30T20:00:25.168191Z",
     "shell.execute_reply": "2025-07-30T20:00:25.167190Z"
    },
    "papermill": {
     "duration": 0.034882,
     "end_time": "2025-07-30T20:00:25.169801",
     "exception": false,
     "start_time": "2025-07-30T20:00:25.134919",
     "status": "completed"
    },
    "tags": []
   },
   "outputs": [],
   "source": [
    "cp_metrics_df = pd.DataFrame(cp_metrics_dict)"
   ]
  },
  {
   "cell_type": "code",
   "execution_count": 61,
   "id": "db12611b-57b2-4910-b9d0-355adfd6e7bf",
   "metadata": {
    "execution": {
     "iopub.execute_input": "2025-07-30T20:00:25.223206Z",
     "iopub.status.busy": "2025-07-30T20:00:25.222707Z",
     "iopub.status.idle": "2025-07-30T20:00:25.243964Z",
     "shell.execute_reply": "2025-07-30T20:00:25.243192Z"
    },
    "papermill": {
     "duration": 0.048694,
     "end_time": "2025-07-30T20:00:25.245545",
     "exception": false,
     "start_time": "2025-07-30T20:00:25.196851",
     "status": "completed"
    },
    "tags": []
   },
   "outputs": [
    {
     "data": {
      "text/html": [
       "<div>\n",
       "<style scoped>\n",
       "    .dataframe tbody tr th:only-of-type {\n",
       "        vertical-align: middle;\n",
       "    }\n",
       "\n",
       "    .dataframe tbody tr th {\n",
       "        vertical-align: top;\n",
       "    }\n",
       "\n",
       "    .dataframe thead th {\n",
       "        text-align: right;\n",
       "    }\n",
       "</style>\n",
       "<table border=\"1\" class=\"dataframe\">\n",
       "  <thead>\n",
       "    <tr style=\"text-align: right;\">\n",
       "      <th></th>\n",
       "      <th>universe_id</th>\n",
       "      <th>universe_training_year</th>\n",
       "      <th>universe_training_size</th>\n",
       "      <th>universe_scale</th>\n",
       "      <th>universe_model</th>\n",
       "      <th>universe_exclude_features</th>\n",
       "      <th>universe_exclude_subgroups</th>\n",
       "      <th>q_hat</th>\n",
       "      <th>coverage</th>\n",
       "      <th>avg_size</th>\n",
       "    </tr>\n",
       "  </thead>\n",
       "  <tbody>\n",
       "    <tr>\n",
       "      <th>0</th>\n",
       "      <td>6bbc2ba84ee6061532b1418a0301613b</td>\n",
       "      <td>2014</td>\n",
       "      <td>25k</td>\n",
       "      <td>do-not-scale</td>\n",
       "      <td>rf</td>\n",
       "      <td>age</td>\n",
       "      <td>drop-non-german</td>\n",
       "      <td>0.67</td>\n",
       "      <td>0.916007</td>\n",
       "      <td>1.149615</td>\n",
       "    </tr>\n",
       "  </tbody>\n",
       "</table>\n",
       "</div>"
      ],
      "text/plain": [
       "                        universe_id universe_training_year  \\\n",
       "0  6bbc2ba84ee6061532b1418a0301613b                   2014   \n",
       "\n",
       "  universe_training_size universe_scale universe_model  \\\n",
       "0                    25k   do-not-scale             rf   \n",
       "\n",
       "  universe_exclude_features universe_exclude_subgroups  q_hat  coverage  \\\n",
       "0                       age            drop-non-german   0.67  0.916007   \n",
       "\n",
       "   avg_size  \n",
       "0  1.149615  "
      ]
     },
     "execution_count": 61,
     "metadata": {},
     "output_type": "execute_result"
    }
   ],
   "source": [
    "cp_metrics_df"
   ]
  },
  {
   "cell_type": "code",
   "execution_count": 62,
   "id": "b7fbde55-a0a1-47e4-9af6-fe4a17fa8c61",
   "metadata": {
    "execution": {
     "iopub.execute_input": "2025-07-30T20:00:25.281489Z",
     "iopub.status.busy": "2025-07-30T20:00:25.281072Z",
     "iopub.status.idle": "2025-07-30T20:00:25.287122Z",
     "shell.execute_reply": "2025-07-30T20:00:25.285973Z"
    },
    "papermill": {
     "duration": 0.029164,
     "end_time": "2025-07-30T20:00:25.288989",
     "exception": false,
     "start_time": "2025-07-30T20:00:25.259825",
     "status": "completed"
    },
    "tags": []
   },
   "outputs": [],
   "source": [
    "# Conditional Coverage & looking at subgroups"
   ]
  },
  {
   "cell_type": "code",
   "execution_count": 63,
   "id": "027ae886-68dd-4141-96c7-805a5450e1ef",
   "metadata": {
    "execution": {
     "iopub.execute_input": "2025-07-30T20:00:25.343915Z",
     "iopub.status.busy": "2025-07-30T20:00:25.343133Z",
     "iopub.status.idle": "2025-07-30T20:00:25.610571Z",
     "shell.execute_reply": "2025-07-30T20:00:25.609595Z"
    },
    "papermill": {
     "duration": 0.296108,
     "end_time": "2025-07-30T20:00:25.612300",
     "exception": false,
     "start_time": "2025-07-30T20:00:25.316192",
     "status": "completed"
    },
    "tags": []
   },
   "outputs": [],
   "source": [
    "from fairness_multiverse.conformal import build_cp_groups\n",
    "\n",
    "cp_groups_df = build_cp_groups(pred_sets, y_true, X_test.index, org_test)\n",
    "#needs universe_id and setting"
   ]
  },
  {
   "cell_type": "code",
   "execution_count": 64,
   "id": "01d5802c-663a-4d1f-9d69-e036faaffbf7",
   "metadata": {
    "execution": {
     "iopub.execute_input": "2025-07-30T20:00:25.667502Z",
     "iopub.status.busy": "2025-07-30T20:00:25.666984Z",
     "iopub.status.idle": "2025-07-30T20:00:25.672253Z",
     "shell.execute_reply": "2025-07-30T20:00:25.671236Z"
    },
    "papermill": {
     "duration": 0.035047,
     "end_time": "2025-07-30T20:00:25.673825",
     "exception": false,
     "start_time": "2025-07-30T20:00:25.638778",
     "status": "completed"
    },
    "tags": []
   },
   "outputs": [],
   "source": [
    "#delete\n",
    "#cp_groups_df"
   ]
  },
  {
   "cell_type": "code",
   "execution_count": 65,
   "id": "fa424af1-d1eb-443d-b717-2d279ada8408",
   "metadata": {
    "execution": {
     "iopub.execute_input": "2025-07-30T20:00:25.728641Z",
     "iopub.status.busy": "2025-07-30T20:00:25.727950Z",
     "iopub.status.idle": "2025-07-30T20:00:25.733062Z",
     "shell.execute_reply": "2025-07-30T20:00:25.732149Z"
    },
    "papermill": {
     "duration": 0.034703,
     "end_time": "2025-07-30T20:00:25.734701",
     "exception": false,
     "start_time": "2025-07-30T20:00:25.699998",
     "status": "completed"
    },
    "tags": []
   },
   "outputs": [],
   "source": [
    "#delete\n",
    "#percentage = (cp_groups_df['nongerman_female'] == 1).mean() * 100\n",
    "#print(percentage)\n"
   ]
  },
  {
   "cell_type": "code",
   "execution_count": 66,
   "id": "6cbdab96-b2b2-45af-ad54-d0516db2e28d",
   "metadata": {
    "execution": {
     "iopub.execute_input": "2025-07-30T20:00:25.789825Z",
     "iopub.status.busy": "2025-07-30T20:00:25.789160Z",
     "iopub.status.idle": "2025-07-30T20:00:27.500093Z",
     "shell.execute_reply": "2025-07-30T20:00:27.498871Z"
    },
    "papermill": {
     "duration": 1.740801,
     "end_time": "2025-07-30T20:00:27.501888",
     "exception": false,
     "start_time": "2025-07-30T20:00:25.761087",
     "status": "completed"
    },
    "tags": []
   },
   "outputs": [],
   "source": [
    "# Define covered = 1 if true_label is in the predicted set\n",
    "cp_groups_df['covered'] = cp_groups_df.apply(\n",
    "    lambda r: int(r['true_label'] in r['pred_set']),\n",
    "    axis=1\n",
    ")"
   ]
  },
  {
   "cell_type": "code",
   "execution_count": 67,
   "id": "338ff529-1a6b-4b87-a931-8e4788d52aad",
   "metadata": {
    "execution": {
     "iopub.execute_input": "2025-07-30T20:00:27.561425Z",
     "iopub.status.busy": "2025-07-30T20:00:27.560915Z",
     "iopub.status.idle": "2025-07-30T20:00:27.566033Z",
     "shell.execute_reply": "2025-07-30T20:00:27.565138Z"
    },
    "papermill": {
     "duration": 0.041074,
     "end_time": "2025-07-30T20:00:27.567811",
     "exception": false,
     "start_time": "2025-07-30T20:00:27.526737",
     "status": "completed"
    },
    "tags": []
   },
   "outputs": [],
   "source": [
    "#cp_groups_df"
   ]
  },
  {
   "cell_type": "code",
   "execution_count": 68,
   "id": "90032e27-66df-4540-9169-4e89cfbaa758",
   "metadata": {
    "execution": {
     "iopub.execute_input": "2025-07-30T20:00:27.622313Z",
     "iopub.status.busy": "2025-07-30T20:00:27.621646Z",
     "iopub.status.idle": "2025-07-30T20:00:27.633039Z",
     "shell.execute_reply": "2025-07-30T20:00:27.632049Z"
    },
    "papermill": {
     "duration": 0.040434,
     "end_time": "2025-07-30T20:00:27.634921",
     "exception": false,
     "start_time": "2025-07-30T20:00:27.594487",
     "status": "completed"
    },
    "tags": []
   },
   "outputs": [],
   "source": [
    "subgroups = ['frau1','nongerman','nongerman_male','nongerman_female']\n",
    "\n",
    "# Conditional coverage for subgroup==1\n",
    "cond_coverage = {\n",
    "    g: cp_groups_df.loc[cp_groups_df[g]==1, 'covered'].mean()\n",
    "    for g in subgroups\n",
    "}"
   ]
  },
  {
   "cell_type": "code",
   "execution_count": 69,
   "id": "1e348fb1-b9c3-45bc-ba23-f016827a7e0d",
   "metadata": {
    "execution": {
     "iopub.execute_input": "2025-07-30T20:00:27.691188Z",
     "iopub.status.busy": "2025-07-30T20:00:27.690738Z",
     "iopub.status.idle": "2025-07-30T20:00:27.698468Z",
     "shell.execute_reply": "2025-07-30T20:00:27.697553Z"
    },
    "papermill": {
     "duration": 0.037369,
     "end_time": "2025-07-30T20:00:27.700257",
     "exception": false,
     "start_time": "2025-07-30T20:00:27.662888",
     "status": "completed"
    },
    "tags": []
   },
   "outputs": [
    {
     "data": {
      "text/plain": [
       "{'frau1': 0.9144359078042863,\n",
       " 'nongerman': 0.9134340088699264,\n",
       " 'nongerman_male': 0.9274070071151941,\n",
       " 'nongerman_female': 0.8903129657228018}"
      ]
     },
     "execution_count": 69,
     "metadata": {},
     "output_type": "execute_result"
    }
   ],
   "source": [
    "cond_coverage"
   ]
  },
  {
   "cell_type": "code",
   "execution_count": 70,
   "id": "f5093324-c3dd-4d63-bc4c-8d945e5c8bbb",
   "metadata": {
    "execution": {
     "iopub.execute_input": "2025-07-30T20:00:27.730508Z",
     "iopub.status.busy": "2025-07-30T20:00:27.729692Z",
     "iopub.status.idle": "2025-07-30T20:00:27.735590Z",
     "shell.execute_reply": "2025-07-30T20:00:27.734939Z"
    },
    "papermill": {
     "duration": 0.021367,
     "end_time": "2025-07-30T20:00:27.736945",
     "exception": false,
     "start_time": "2025-07-30T20:00:27.715578",
     "status": "completed"
    },
    "tags": []
   },
   "outputs": [],
   "source": [
    "for subgroup, cov in cond_coverage.items():\n",
    "    cp_metrics_df[f\"cov_{subgroup}\"] = cov"
   ]
  },
  {
   "cell_type": "code",
   "execution_count": 71,
   "id": "6e872e10-dbe5-49e8-b554-5030c98ff75d",
   "metadata": {
    "execution": {
     "iopub.execute_input": "2025-07-30T20:00:27.795000Z",
     "iopub.status.busy": "2025-07-30T20:00:27.794305Z",
     "iopub.status.idle": "2025-07-30T20:00:27.813180Z",
     "shell.execute_reply": "2025-07-30T20:00:27.812152Z"
    },
    "papermill": {
     "duration": 0.034954,
     "end_time": "2025-07-30T20:00:27.814893",
     "exception": false,
     "start_time": "2025-07-30T20:00:27.779939",
     "status": "completed"
    },
    "tags": []
   },
   "outputs": [
    {
     "data": {
      "text/html": [
       "<div>\n",
       "<style scoped>\n",
       "    .dataframe tbody tr th:only-of-type {\n",
       "        vertical-align: middle;\n",
       "    }\n",
       "\n",
       "    .dataframe tbody tr th {\n",
       "        vertical-align: top;\n",
       "    }\n",
       "\n",
       "    .dataframe thead th {\n",
       "        text-align: right;\n",
       "    }\n",
       "</style>\n",
       "<table border=\"1\" class=\"dataframe\">\n",
       "  <thead>\n",
       "    <tr style=\"text-align: right;\">\n",
       "      <th></th>\n",
       "      <th>universe_id</th>\n",
       "      <th>universe_training_year</th>\n",
       "      <th>universe_training_size</th>\n",
       "      <th>universe_scale</th>\n",
       "      <th>universe_model</th>\n",
       "      <th>universe_exclude_features</th>\n",
       "      <th>universe_exclude_subgroups</th>\n",
       "      <th>q_hat</th>\n",
       "      <th>coverage</th>\n",
       "      <th>avg_size</th>\n",
       "      <th>cov_frau1</th>\n",
       "      <th>cov_nongerman</th>\n",
       "      <th>cov_nongerman_male</th>\n",
       "      <th>cov_nongerman_female</th>\n",
       "    </tr>\n",
       "  </thead>\n",
       "  <tbody>\n",
       "    <tr>\n",
       "      <th>0</th>\n",
       "      <td>6bbc2ba84ee6061532b1418a0301613b</td>\n",
       "      <td>2014</td>\n",
       "      <td>25k</td>\n",
       "      <td>do-not-scale</td>\n",
       "      <td>rf</td>\n",
       "      <td>age</td>\n",
       "      <td>drop-non-german</td>\n",
       "      <td>0.67</td>\n",
       "      <td>0.916007</td>\n",
       "      <td>1.149615</td>\n",
       "      <td>0.914436</td>\n",
       "      <td>0.913434</td>\n",
       "      <td>0.927407</td>\n",
       "      <td>0.890313</td>\n",
       "    </tr>\n",
       "  </tbody>\n",
       "</table>\n",
       "</div>"
      ],
      "text/plain": [
       "                        universe_id universe_training_year  \\\n",
       "0  6bbc2ba84ee6061532b1418a0301613b                   2014   \n",
       "\n",
       "  universe_training_size universe_scale universe_model  \\\n",
       "0                    25k   do-not-scale             rf   \n",
       "\n",
       "  universe_exclude_features universe_exclude_subgroups  q_hat  coverage  \\\n",
       "0                       age            drop-non-german   0.67  0.916007   \n",
       "\n",
       "   avg_size  cov_frau1  cov_nongerman  cov_nongerman_male  \\\n",
       "0  1.149615   0.914436       0.913434            0.927407   \n",
       "\n",
       "   cov_nongerman_female  \n",
       "0              0.890313  "
      ]
     },
     "execution_count": 71,
     "metadata": {},
     "output_type": "execute_result"
    }
   ],
   "source": [
    "cp_metrics_df"
   ]
  },
  {
   "cell_type": "markdown",
   "id": "33774451",
   "metadata": {
    "papermill": {
     "duration": 0.026604,
     "end_time": "2025-07-30T20:00:27.868796",
     "exception": false,
     "start_time": "2025-07-30T20:00:27.842192",
     "status": "completed"
    },
    "tags": []
   },
   "source": [
    "# (Fairness) Metrics"
   ]
  },
  {
   "cell_type": "code",
   "execution_count": 72,
   "id": "debc5d62",
   "metadata": {
    "execution": {
     "iopub.execute_input": "2025-07-30T20:00:27.924419Z",
     "iopub.status.busy": "2025-07-30T20:00:27.923546Z",
     "iopub.status.idle": "2025-07-30T20:00:27.944133Z",
     "shell.execute_reply": "2025-07-30T20:00:27.943159Z"
    },
    "papermill": {
     "duration": 0.051492,
     "end_time": "2025-07-30T20:00:27.946071",
     "exception": false,
     "start_time": "2025-07-30T20:00:27.894579",
     "status": "completed"
    },
    "tags": []
   },
   "outputs": [],
   "source": [
    "# do I need to include maxdeutsch1.missing?\n",
    "\n",
    "import numpy as np\n",
    "\n",
    "colname_to_bin = \"maxdeutsch1\"\n",
    "majority_value = org_train[colname_to_bin].mode()[0]\n",
    "\n",
    "org_test[\"majmin\"] = np.where(org_test[colname_to_bin] == majority_value, \"majority\", \"minority\")"
   ]
  },
  {
   "cell_type": "code",
   "execution_count": 73,
   "id": "06a50de5",
   "metadata": {
    "execution": {
     "iopub.execute_input": "2025-07-30T20:00:28.001881Z",
     "iopub.status.busy": "2025-07-30T20:00:28.001230Z",
     "iopub.status.idle": "2025-07-30T20:00:30.793261Z",
     "shell.execute_reply": "2025-07-30T20:00:30.792332Z"
    },
    "papermill": {
     "duration": 2.821887,
     "end_time": "2025-07-30T20:00:30.795211",
     "exception": false,
     "start_time": "2025-07-30T20:00:27.973324",
     "status": "completed"
    },
    "tags": []
   },
   "outputs": [],
   "source": [
    "example_universe = universe.copy()\n",
    "example_universe[\"cutoff\"] = example_universe[\"cutoff\"][0]\n",
    "example_universe[\"eval_fairness_grouping\"] = example_universe[\"eval_fairness_grouping\"][0]\n",
    "fairness_dict, metric_frame = universe_analysis.compute_metrics(\n",
    "    example_universe,\n",
    "    y_pred_prob=probs_test,\n",
    "    y_test=y_true,\n",
    "    org_test=org_test,\n",
    ")"
   ]
  },
  {
   "cell_type": "markdown",
   "id": "f95d4e02",
   "metadata": {
    "papermill": {
     "duration": 0.027104,
     "end_time": "2025-07-30T20:00:30.852203",
     "exception": false,
     "start_time": "2025-07-30T20:00:30.825099",
     "status": "completed"
    },
    "tags": []
   },
   "source": [
    "# Overall"
   ]
  },
  {
   "cell_type": "markdown",
   "id": "bdee4871",
   "metadata": {
    "papermill": {
     "duration": 0.026199,
     "end_time": "2025-07-30T20:00:30.904465",
     "exception": false,
     "start_time": "2025-07-30T20:00:30.878266",
     "status": "completed"
    },
    "tags": []
   },
   "source": [
    "Fairness\n",
    "Main fairness target: Equalized Odds. Seems to be a better fit than equal opportunity, since we're not only interested in Y = 1. Seems to be a better fit than demographic parity, since we also care about accuracy, not just equal distribution of preds.\n",
    "\n",
    "Pick column for computation of fairness metrics\n",
    "\n",
    "Performance\n",
    "Overall performance measures, most interesting in relation to the measures split by group below"
   ]
  },
  {
   "cell_type": "code",
   "execution_count": 74,
   "id": "c4e067c6",
   "metadata": {
    "execution": {
     "iopub.execute_input": "2025-07-30T20:00:30.960235Z",
     "iopub.status.busy": "2025-07-30T20:00:30.959337Z",
     "iopub.status.idle": "2025-07-30T20:00:30.967972Z",
     "shell.execute_reply": "2025-07-30T20:00:30.966975Z"
    },
    "papermill": {
     "duration": 0.03858,
     "end_time": "2025-07-30T20:00:30.969641",
     "exception": false,
     "start_time": "2025-07-30T20:00:30.931061",
     "status": "completed"
    },
    "tags": []
   },
   "outputs": [
    {
     "data": {
      "text/plain": [
       "accuracy                   0.205863\n",
       "balanced accuracy          0.532643\n",
       "f1                         0.239014\n",
       "precision                  0.136256\n",
       "false positive rate        0.906908\n",
       "false negative rate        0.027807\n",
       "selection rate             0.915283\n",
       "count                  89710.000000\n",
       "dtype: float64"
      ]
     },
     "execution_count": 74,
     "metadata": {},
     "output_type": "execute_result"
    }
   ],
   "source": [
    "metric_frame.overall"
   ]
  },
  {
   "cell_type": "markdown",
   "id": "e968fe9d",
   "metadata": {
    "papermill": {
     "duration": 0.026245,
     "end_time": "2025-07-30T20:00:31.023885",
     "exception": false,
     "start_time": "2025-07-30T20:00:30.997640",
     "status": "completed"
    },
    "tags": []
   },
   "source": [
    "By Group"
   ]
  },
  {
   "cell_type": "code",
   "execution_count": 75,
   "id": "ec325bce",
   "metadata": {
    "execution": {
     "iopub.execute_input": "2025-07-30T20:00:31.078789Z",
     "iopub.status.busy": "2025-07-30T20:00:31.078303Z",
     "iopub.status.idle": "2025-07-30T20:00:31.094610Z",
     "shell.execute_reply": "2025-07-30T20:00:31.093680Z"
    },
    "papermill": {
     "duration": 0.045288,
     "end_time": "2025-07-30T20:00:31.096445",
     "exception": false,
     "start_time": "2025-07-30T20:00:31.051157",
     "status": "completed"
    },
    "tags": []
   },
   "outputs": [
    {
     "data": {
      "text/html": [
       "<div>\n",
       "<style scoped>\n",
       "    .dataframe tbody tr th:only-of-type {\n",
       "        vertical-align: middle;\n",
       "    }\n",
       "\n",
       "    .dataframe tbody tr th {\n",
       "        vertical-align: top;\n",
       "    }\n",
       "\n",
       "    .dataframe thead th {\n",
       "        text-align: right;\n",
       "    }\n",
       "</style>\n",
       "<table border=\"1\" class=\"dataframe\">\n",
       "  <thead>\n",
       "    <tr style=\"text-align: right;\">\n",
       "      <th></th>\n",
       "      <th>accuracy</th>\n",
       "      <th>balanced accuracy</th>\n",
       "      <th>f1</th>\n",
       "      <th>precision</th>\n",
       "      <th>false positive rate</th>\n",
       "      <th>false negative rate</th>\n",
       "      <th>selection rate</th>\n",
       "      <th>count</th>\n",
       "    </tr>\n",
       "    <tr>\n",
       "      <th>majmin</th>\n",
       "      <th></th>\n",
       "      <th></th>\n",
       "      <th></th>\n",
       "      <th></th>\n",
       "      <th></th>\n",
       "      <th></th>\n",
       "      <th></th>\n",
       "      <th></th>\n",
       "    </tr>\n",
       "  </thead>\n",
       "  <tbody>\n",
       "    <tr>\n",
       "      <th>majority</th>\n",
       "      <td>0.197528</td>\n",
       "      <td>0.533035</td>\n",
       "      <td>0.245696</td>\n",
       "      <td>0.14027</td>\n",
       "      <td>0.922989</td>\n",
       "      <td>0.010941</td>\n",
       "      <td>0.931719</td>\n",
       "      <td>69170.0</td>\n",
       "    </tr>\n",
       "    <tr>\n",
       "      <th>minority</th>\n",
       "      <td>0.233934</td>\n",
       "      <td>0.526654</td>\n",
       "      <td>0.214468</td>\n",
       "      <td>0.12161</td>\n",
       "      <td>0.853786</td>\n",
       "      <td>0.092905</td>\n",
       "      <td>0.859932</td>\n",
       "      <td>20540.0</td>\n",
       "    </tr>\n",
       "  </tbody>\n",
       "</table>\n",
       "</div>"
      ],
      "text/plain": [
       "          accuracy  balanced accuracy        f1  precision  \\\n",
       "majmin                                                       \n",
       "majority  0.197528           0.533035  0.245696    0.14027   \n",
       "minority  0.233934           0.526654  0.214468    0.12161   \n",
       "\n",
       "          false positive rate  false negative rate  selection rate    count  \n",
       "majmin                                                                       \n",
       "majority             0.922989             0.010941        0.931719  69170.0  \n",
       "minority             0.853786             0.092905        0.859932  20540.0  "
      ]
     },
     "execution_count": 75,
     "metadata": {},
     "output_type": "execute_result"
    }
   ],
   "source": [
    "metric_frame.by_group"
   ]
  },
  {
   "cell_type": "code",
   "execution_count": 76,
   "id": "a9ddbe63",
   "metadata": {
    "execution": {
     "iopub.execute_input": "2025-07-30T20:00:31.153662Z",
     "iopub.status.busy": "2025-07-30T20:00:31.153279Z",
     "iopub.status.idle": "2025-07-30T20:00:33.528872Z",
     "shell.execute_reply": "2025-07-30T20:00:33.527947Z"
    },
    "papermill": {
     "duration": 2.405898,
     "end_time": "2025-07-30T20:00:33.530506",
     "exception": false,
     "start_time": "2025-07-30T20:00:31.124608",
     "status": "completed"
    },
    "tags": []
   },
   "outputs": [
    {
     "data": {
      "text/plain": [
       "array([[<Axes: title={'center': 'accuracy'}, xlabel='majmin'>,\n",
       "        <Axes: title={'center': 'balanced accuracy'}, xlabel='majmin'>,\n",
       "        <Axes: title={'center': 'f1'}, xlabel='majmin'>],\n",
       "       [<Axes: title={'center': 'precision'}, xlabel='majmin'>,\n",
       "        <Axes: title={'center': 'false positive rate'}, xlabel='majmin'>,\n",
       "        <Axes: title={'center': 'false negative rate'}, xlabel='majmin'>],\n",
       "       [<Axes: title={'center': 'selection rate'}, xlabel='majmin'>,\n",
       "        <Axes: title={'center': 'count'}, xlabel='majmin'>,\n",
       "        <Axes: xlabel='majmin'>]], dtype=object)"
      ]
     },
     "execution_count": 76,
     "metadata": {},
     "output_type": "execute_result"
    },
    {
     "data": {
      "image/png": "[encoded data removed]",
      "text/plain": [
       "<Figure size 1200x800 with 9 Axes>"
      ]
     },
     "metadata": {},
     "output_type": "display_data"
    }
   ],
   "source": [
    "# In a graphic\n",
    "metric_frame.by_group.plot.bar(\n",
    "    subplots=True,\n",
    "    layout=[3, 3],\n",
    "    legend=False,\n",
    "    figsize=[12, 8],\n",
    "    title=\"Show all metrics\",\n",
    ")"
   ]
  },
  {
   "cell_type": "markdown",
   "id": "f57a0bac",
   "metadata": {
    "papermill": {
     "duration": 0.028996,
     "end_time": "2025-07-30T20:00:33.591746",
     "exception": false,
     "start_time": "2025-07-30T20:00:33.562750",
     "status": "completed"
    },
    "tags": []
   },
   "source": [
    "# Final Output"
   ]
  },
  {
   "cell_type": "code",
   "execution_count": 77,
   "id": "96d280a3",
   "metadata": {
    "execution": {
     "iopub.execute_input": "2025-07-30T20:00:33.651877Z",
     "iopub.status.busy": "2025-07-30T20:00:33.651212Z",
     "iopub.status.idle": "2025-07-30T20:00:33.659724Z",
     "shell.execute_reply": "2025-07-30T20:00:33.658889Z"
    },
    "papermill": {
     "duration": 0.04085,
     "end_time": "2025-07-30T20:00:33.661215",
     "exception": false,
     "start_time": "2025-07-30T20:00:33.620365",
     "status": "completed"
    },
    "tags": []
   },
   "outputs": [
    {
     "data": {
      "text/plain": [
       "4"
      ]
     },
     "execution_count": 77,
     "metadata": {},
     "output_type": "execute_result"
    }
   ],
   "source": [
    "sub_universes = universe_analysis.generate_sub_universes()\n",
    "len(sub_universes)"
   ]
  },
  {
   "cell_type": "code",
   "execution_count": 78,
   "id": "92adf7ba",
   "metadata": {
    "execution": {
     "iopub.execute_input": "2025-07-30T20:00:33.726064Z",
     "iopub.status.busy": "2025-07-30T20:00:33.725017Z",
     "iopub.status.idle": "2025-07-30T20:00:33.731837Z",
     "shell.execute_reply": "2025-07-30T20:00:33.730832Z"
    },
    "papermill": {
     "duration": 0.039429,
     "end_time": "2025-07-30T20:00:33.733615",
     "exception": false,
     "start_time": "2025-07-30T20:00:33.694186",
     "status": "completed"
    },
    "tags": []
   },
   "outputs": [],
   "source": [
    "def filter_sub_universe_data(sub_universe, org_test):\n",
    "    # Keep all rows — no filtering\n",
    "    keep_rows_mask = np.ones(org_test.shape[0], dtype=bool)\n",
    "\n",
    "    print(f\"[INFO] Keeping all rows: {keep_rows_mask.sum()} rows retained.\")\n",
    "    return keep_rows_mask"
   ]
  },
  {
   "cell_type": "code",
   "execution_count": 79,
   "id": "4a759155",
   "metadata": {
    "execution": {
     "iopub.execute_input": "2025-07-30T20:00:33.794853Z",
     "iopub.status.busy": "2025-07-30T20:00:33.794395Z",
     "iopub.status.idle": "2025-07-30T20:00:41.788182Z",
     "shell.execute_reply": "2025-07-30T20:00:41.787325Z"
    },
    "papermill": {
     "duration": 8.025455,
     "end_time": "2025-07-30T20:00:41.789493",
     "exception": false,
     "start_time": "2025-07-30T20:00:33.764038",
     "status": "completed"
    },
    "tags": []
   },
   "outputs": [
    {
     "name": "stdout",
     "output_type": "stream",
     "text": [
      "Stopping execution_time clock.\n",
      "[INFO] Keeping all rows: 89710 rows retained.\n"
     ]
    },
    {
     "name": "stdout",
     "output_type": "stream",
     "text": [
      "[INFO] Keeping all rows: 89710 rows retained.\n"
     ]
    },
    {
     "name": "stdout",
     "output_type": "stream",
     "text": [
      "[INFO] Keeping all rows: 89710 rows retained.\n"
     ]
    },
    {
     "name": "stdout",
     "output_type": "stream",
     "text": [
      "[INFO] Keeping all rows: 89710 rows retained.\n"
     ]
    },
    {
     "data": {
      "text/html": [
       "<div>\n",
       "<style scoped>\n",
       "    .dataframe tbody tr th:only-of-type {\n",
       "        vertical-align: middle;\n",
       "    }\n",
       "\n",
       "    .dataframe tbody tr th {\n",
       "        vertical-align: top;\n",
       "    }\n",
       "\n",
       "    .dataframe thead th {\n",
       "        text-align: right;\n",
       "    }\n",
       "</style>\n",
       "<table border=\"1\" class=\"dataframe\">\n",
       "  <thead>\n",
       "    <tr style=\"text-align: right;\">\n",
       "      <th></th>\n",
       "      <th>run_no</th>\n",
       "      <th>universe_id</th>\n",
       "      <th>universe_settings</th>\n",
       "      <th>execution_time</th>\n",
       "      <th>test_size_n</th>\n",
       "      <th>test_size_frac</th>\n",
       "      <th>fair_main_equalized_odds_difference</th>\n",
       "      <th>fair_main_equalized_odds_ratio</th>\n",
       "      <th>fair_main_demographic_parity_difference</th>\n",
       "      <th>fair_main_demographic_parity_ratio</th>\n",
       "      <th>...</th>\n",
       "      <th>perf_grp_precision_0</th>\n",
       "      <th>perf_grp_precision_1</th>\n",
       "      <th>perf_grp_false positive rate_0</th>\n",
       "      <th>perf_grp_false positive rate_1</th>\n",
       "      <th>perf_grp_false negative rate_0</th>\n",
       "      <th>perf_grp_false negative rate_1</th>\n",
       "      <th>perf_grp_selection rate_0</th>\n",
       "      <th>perf_grp_selection rate_1</th>\n",
       "      <th>perf_grp_count_0</th>\n",
       "      <th>perf_grp_count_1</th>\n",
       "    </tr>\n",
       "  </thead>\n",
       "  <tbody>\n",
       "    <tr>\n",
       "      <th>0</th>\n",
       "      <td>14</td>\n",
       "      <td>6bbc2ba84ee6061532b1418a0301613b</td>\n",
       "      <td>{\"cutoff\": \"quantile_0.1\", \"eval_fairness_grou...</td>\n",
       "      <td>36.73119</td>\n",
       "      <td>89710</td>\n",
       "      <td>1.0</td>\n",
       "      <td>0.081964</td>\n",
       "      <td>0.917129</td>\n",
       "      <td>0.071787</td>\n",
       "      <td>0.922952</td>\n",
       "      <td>...</td>\n",
       "      <td>NaN</td>\n",
       "      <td>NaN</td>\n",
       "      <td>NaN</td>\n",
       "      <td>NaN</td>\n",
       "      <td>NaN</td>\n",
       "      <td>NaN</td>\n",
       "      <td>NaN</td>\n",
       "      <td>NaN</td>\n",
       "      <td>NaN</td>\n",
       "      <td>NaN</td>\n",
       "    </tr>\n",
       "    <tr>\n",
       "      <th>0</th>\n",
       "      <td>14</td>\n",
       "      <td>6bbc2ba84ee6061532b1418a0301613b</td>\n",
       "      <td>{\"cutoff\": \"quantile_0.1\", \"eval_fairness_grou...</td>\n",
       "      <td>36.73119</td>\n",
       "      <td>89710</td>\n",
       "      <td>1.0</td>\n",
       "      <td>0.081964</td>\n",
       "      <td>0.917129</td>\n",
       "      <td>0.071787</td>\n",
       "      <td>0.922952</td>\n",
       "      <td>...</td>\n",
       "      <td>0.121610</td>\n",
       "      <td>0.140270</td>\n",
       "      <td>0.853786</td>\n",
       "      <td>0.922989</td>\n",
       "      <td>0.092905</td>\n",
       "      <td>0.010941</td>\n",
       "      <td>0.859932</td>\n",
       "      <td>0.931719</td>\n",
       "      <td>20540.0</td>\n",
       "      <td>69170.0</td>\n",
       "    </tr>\n",
       "    <tr>\n",
       "      <th>0</th>\n",
       "      <td>14</td>\n",
       "      <td>6bbc2ba84ee6061532b1418a0301613b</td>\n",
       "      <td>{\"cutoff\": \"quantile_0.25\", \"eval_fairness_gro...</td>\n",
       "      <td>36.73119</td>\n",
       "      <td>89710</td>\n",
       "      <td>1.0</td>\n",
       "      <td>0.113604</td>\n",
       "      <td>0.879905</td>\n",
       "      <td>0.055866</td>\n",
       "      <td>0.926793</td>\n",
       "      <td>...</td>\n",
       "      <td>NaN</td>\n",
       "      <td>NaN</td>\n",
       "      <td>NaN</td>\n",
       "      <td>NaN</td>\n",
       "      <td>NaN</td>\n",
       "      <td>NaN</td>\n",
       "      <td>NaN</td>\n",
       "      <td>NaN</td>\n",
       "      <td>NaN</td>\n",
       "      <td>NaN</td>\n",
       "    </tr>\n",
       "    <tr>\n",
       "      <th>0</th>\n",
       "      <td>14</td>\n",
       "      <td>6bbc2ba84ee6061532b1418a0301613b</td>\n",
       "      <td>{\"cutoff\": \"quantile_0.25\", \"eval_fairness_gro...</td>\n",
       "      <td>36.73119</td>\n",
       "      <td>89710</td>\n",
       "      <td>1.0</td>\n",
       "      <td>0.113604</td>\n",
       "      <td>0.879905</td>\n",
       "      <td>0.055866</td>\n",
       "      <td>0.926793</td>\n",
       "      <td>...</td>\n",
       "      <td>0.135678</td>\n",
       "      <td>0.163797</td>\n",
       "      <td>0.690953</td>\n",
       "      <td>0.735282</td>\n",
       "      <td>0.167652</td>\n",
       "      <td>0.054048</td>\n",
       "      <td>0.707254</td>\n",
       "      <td>0.763120</td>\n",
       "      <td>20540.0</td>\n",
       "      <td>69170.0</td>\n",
       "    </tr>\n",
       "  </tbody>\n",
       "</table>\n",
       "<p>4 rows × 50 columns</p>\n",
       "</div>"
      ],
      "text/plain": [
       "  run_no                       universe_id  \\\n",
       "0     14  6bbc2ba84ee6061532b1418a0301613b   \n",
       "0     14  6bbc2ba84ee6061532b1418a0301613b   \n",
       "0     14  6bbc2ba84ee6061532b1418a0301613b   \n",
       "0     14  6bbc2ba84ee6061532b1418a0301613b   \n",
       "\n",
       "                                   universe_settings  execution_time  \\\n",
       "0  {\"cutoff\": \"quantile_0.1\", \"eval_fairness_grou...        36.73119   \n",
       "0  {\"cutoff\": \"quantile_0.1\", \"eval_fairness_grou...        36.73119   \n",
       "0  {\"cutoff\": \"quantile_0.25\", \"eval_fairness_gro...        36.73119   \n",
       "0  {\"cutoff\": \"quantile_0.25\", \"eval_fairness_gro...        36.73119   \n",
       "\n",
       "   test_size_n  test_size_frac  fair_main_equalized_odds_difference  \\\n",
       "0        89710             1.0                             0.081964   \n",
       "0        89710             1.0                             0.081964   \n",
       "0        89710             1.0                             0.113604   \n",
       "0        89710             1.0                             0.113604   \n",
       "\n",
       "   fair_main_equalized_odds_ratio  fair_main_demographic_parity_difference  \\\n",
       "0                        0.917129                                 0.071787   \n",
       "0                        0.917129                                 0.071787   \n",
       "0                        0.879905                                 0.055866   \n",
       "0                        0.879905                                 0.055866   \n",
       "\n",
       "   fair_main_demographic_parity_ratio  ...  perf_grp_precision_0  \\\n",
       "0                            0.922952  ...                   NaN   \n",
       "0                            0.922952  ...              0.121610   \n",
       "0                            0.926793  ...                   NaN   \n",
       "0                            0.926793  ...              0.135678   \n",
       "\n",
       "   perf_grp_precision_1  perf_grp_false positive rate_0  \\\n",
       "0                   NaN                             NaN   \n",
       "0              0.140270                        0.853786   \n",
       "0                   NaN                             NaN   \n",
       "0              0.163797                        0.690953   \n",
       "\n",
       "   perf_grp_false positive rate_1  perf_grp_false negative rate_0  \\\n",
       "0                             NaN                             NaN   \n",
       "0                        0.922989                        0.092905   \n",
       "0                             NaN                             NaN   \n",
       "0                        0.735282                        0.167652   \n",
       "\n",
       "   perf_grp_false negative rate_1  perf_grp_selection rate_0  \\\n",
       "0                             NaN                        NaN   \n",
       "0                        0.010941                   0.859932   \n",
       "0                             NaN                        NaN   \n",
       "0                        0.054048                   0.707254   \n",
       "\n",
       "   perf_grp_selection rate_1  perf_grp_count_0  perf_grp_count_1  \n",
       "0                        NaN               NaN               NaN  \n",
       "0                   0.931719           20540.0           69170.0  \n",
       "0                        NaN               NaN               NaN  \n",
       "0                   0.763120           20540.0           69170.0  \n",
       "\n",
       "[4 rows x 50 columns]"
      ]
     },
     "execution_count": 79,
     "metadata": {},
     "output_type": "execute_result"
    }
   ],
   "source": [
    "final_output = universe_analysis.generate_final_output(\n",
    "    y_pred_prob=probs_test,\n",
    "    y_test=y_true,\n",
    "    org_test=org_test,\n",
    "    filter_data=filter_sub_universe_data,\n",
    "    cp_metrics_df=cp_metrics_df,\n",
    "    save=True,\n",
    ")\n",
    "final_output"
   ]
  },
  {
   "cell_type": "code",
   "execution_count": null,
   "id": "721ff514-cb11-46f8-b6fc-50392f74b5cb",
   "metadata": {
    "papermill": {
     "duration": 0.015757,
     "end_time": "2025-07-30T20:00:41.823687",
     "exception": false,
     "start_time": "2025-07-30T20:00:41.807930",
     "status": "completed"
    },
    "tags": []
   },
   "outputs": [],
   "source": []
  }
 ],
 "metadata": {
  "celltoolbar": "Tags",
  "kernelspec": {
   "display_name": "Python (CMA Fairness)",
   "language": "python",
   "name": "cma_fair_env"
  },
  "language_info": {
   "codemirror_mode": {
    "name": "ipython",
    "version": 3
   },
   "file_extension": ".py",
   "mimetype": "text/x-python",
   "name": "python",
   "nbconvert_exporter": "python",
   "pygments_lexer": "ipython3",
   "version": "3.10.12"
  },
  "papermill": {
   "default_parameters": {},
   "duration": 50.179608,
   "end_time": "2025-07-30T20:00:42.456864",
   "environment_variables": {},
   "exception": null,
   "input_path": "universe_analysis.ipynb",
   "output_path": "output/runs/14/notebooks/m_14-6bbc2ba84ee6061532b1418a0301613b.ipynb",
   "parameters": {
    "output_dir": "output",
    "run_no": "14",
    "seed": "2023",
    "universe": "{\"cutoff\": [\"quantile_0.1\", \"quantile_0.25\"], \"eval_fairness_grouping\": [\"majority-minority\", \"nationality-all\"], \"exclude_features\": \"age\", \"exclude_subgroups\": \"drop-non-german\", \"model\": \"rf\", \"scale\": \"do-not-scale\", \"training_size\": \"25k\", \"training_year\": \"2014\"}",
    "universe_id": "6bbc2ba84ee6061532b1418a0301613b"
   },
   "start_time": "2025-07-30T19:59:52.277256",
   "version": "2.6.0"
  }
 },
 "nbformat": 4,
 "nbformat_minor": 5
}