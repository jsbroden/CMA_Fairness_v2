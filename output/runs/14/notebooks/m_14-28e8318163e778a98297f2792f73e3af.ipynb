{
 "cells": [
  {
   "cell_type": "code",
   "execution_count": 1,
   "id": "f159f837-637b-42ba-96b5-ec9a68c44524",
   "metadata": {
    "execution": {
     "iopub.execute_input": "2025-07-30T20:49:16.616270Z",
     "iopub.status.busy": "2025-07-30T20:49:16.615772Z",
     "iopub.status.idle": "2025-07-30T20:49:16.629269Z",
     "shell.execute_reply": "2025-07-30T20:49:16.628287Z"
    },
    "papermill": {
     "duration": 0.036225,
     "end_time": "2025-07-30T20:49:16.630810",
     "exception": false,
     "start_time": "2025-07-30T20:49:16.594585",
     "status": "completed"
    },
    "tags": []
   },
   "outputs": [
    {
     "name": "stdout",
     "output_type": "stream",
     "text": [
      "/dss/dsshome1/0C/ra93lal2/cma/CMA_Fairness_v2\n"
     ]
    },
    {
     "name": "stderr",
     "output_type": "stream",
     "text": [
      "/dss/dsshome1/0C/ra93lal2/.local/share/virtualenvs/CMA_Fairness_v2-3j10GkSs/lib/python3.10/site-packages/IPython/core/magics/osm.py:393: UserWarning: This is now an optional IPython functionality, using bookmarks requires you to install the `pickleshare` library.\n",
      "  bkms = self.shell.db.get('bookmarks', {})\n",
      "/dss/dsshome1/0C/ra93lal2/.local/share/virtualenvs/CMA_Fairness_v2-3j10GkSs/lib/python3.10/site-packages/IPython/core/magics/osm.py:417: UserWarning: This is now an optional IPython functionality, setting dhist requires you to install the `pickleshare` library.\n",
      "  self.shell.db['dhist'] = compress_dhist(dhist)[-100:]\n"
     ]
    }
   ],
   "source": [
    "%cd ~/cma/CMA_Fairness_v2"
   ]
  },
  {
   "cell_type": "markdown",
   "id": "de2603b9",
   "metadata": {
    "papermill": {
     "duration": 0.018577,
     "end_time": "2025-07-30T20:49:16.668852",
     "exception": false,
     "start_time": "2025-07-30T20:49:16.650275",
     "status": "completed"
    },
    "tags": []
   },
   "source": [
    "The following cell holds the definition of our parameters, these values can be overriden by rendering the with e.g. the following command:\n",
    "\n",
    "papermill -p alpha 0.2 -p ratio 0.3 universe_analysis.ipynb output/test_run.ipynb"
   ]
  },
  {
   "cell_type": "code",
   "execution_count": 2,
   "id": "a80968a0-40bb-4fa9-85ef-2d5eefb01975",
   "metadata": {
    "execution": {
     "iopub.execute_input": "2025-07-30T20:49:16.708800Z",
     "iopub.status.busy": "2025-07-30T20:49:16.707961Z",
     "iopub.status.idle": "2025-07-30T20:49:16.713771Z",
     "shell.execute_reply": "2025-07-30T20:49:16.712833Z"
    },
    "papermill": {
     "duration": 0.027515,
     "end_time": "2025-07-30T20:49:16.715388",
     "exception": false,
     "start_time": "2025-07-30T20:49:16.687873",
     "status": "completed"
    },
    "tags": []
   },
   "outputs": [
    {
     "name": "stdout",
     "output_type": "stream",
     "text": [
      "Current working directory: /dss/dsshome1/0C/ra93lal2/cma/CMA_Fairness_v2\n"
     ]
    }
   ],
   "source": [
    "import os\n",
    "print(\"Current working directory:\", os.getcwd())"
   ]
  },
  {
   "cell_type": "code",
   "execution_count": 3,
   "id": "2dce4c03",
   "metadata": {
    "execution": {
     "iopub.execute_input": "2025-07-30T20:49:16.756261Z",
     "iopub.status.busy": "2025-07-30T20:49:16.755613Z",
     "iopub.status.idle": "2025-07-30T20:49:16.763200Z",
     "shell.execute_reply": "2025-07-30T20:49:16.762260Z"
    },
    "papermill": {
     "duration": 0.030342,
     "end_time": "2025-07-30T20:49:16.764756",
     "exception": false,
     "start_time": "2025-07-30T20:49:16.734414",
     "status": "completed"
    },
    "tags": [
     "parameters"
    ]
   },
   "outputs": [],
   "source": [
    "run_no = 0\n",
    "universe_id = \"test\"\n",
    "universe = {\n",
    "    \"training_size\": \"25k\", # \"25k\", \"5k\", \"1k\"\n",
    "    \"training_year\": \"2014\", # \"2014\", \"2012_14\", \"2010_14\"\n",
    "    \"scale\": \"scale\", # \"scale\", \"do-not-scale\",\n",
    "    #\"stratify_split\": \"target\", # \"none\", \"target\", \"protected-attribute\", \"both\",\n",
    "    \"model\": \"elasticnet\", # \"logreg\", \"penalized_logreg\", \"rf\", \"gbm\", \"elasticnet\"\n",
    "    \"cutoff\": [\"quantile_0.15\", \"quantile_0.30\"],\n",
    "    \"exclude_features\": \"age\", # \"none\", \"nationality\", \"sex\", \"nationality-sex\", \"age\"\n",
    "    \"exclude_subgroups\": \"keep-all\", # \"keep-all\", \"drop-non-german\"\n",
    "    \"eval_fairness_grouping\": [\"majority-minority\", \"nationality-all\"]\n",
    "}\n",
    "\n",
    "output_dir=\"./output\"\n",
    "seed=0"
   ]
  },
  {
   "cell_type": "code",
   "execution_count": 4,
   "id": "e8258717",
   "metadata": {
    "execution": {
     "iopub.execute_input": "2025-07-30T20:49:16.812025Z",
     "iopub.status.busy": "2025-07-30T20:49:16.811574Z",
     "iopub.status.idle": "2025-07-30T20:49:16.816952Z",
     "shell.execute_reply": "2025-07-30T20:49:16.815888Z"
    },
    "papermill": {
     "duration": 0.030852,
     "end_time": "2025-07-30T20:49:16.819042",
     "exception": false,
     "start_time": "2025-07-30T20:49:16.788190",
     "status": "completed"
    },
    "tags": [
     "injected-parameters"
    ]
   },
   "outputs": [],
   "source": [
    "# Parameters\n",
    "universe_id = \"28e8318163e778a98297f2792f73e3af\"\n",
    "run_no = \"14\"\n",
    "universe = \"{\\\"cutoff\\\": [\\\"quantile_0.1\\\", \\\"quantile_0.25\\\"], \\\"eval_fairness_grouping\\\": [\\\"majority-minority\\\", \\\"nationality-all\\\"], \\\"exclude_features\\\": \\\"sex\\\", \\\"exclude_subgroups\\\": \\\"keep-all\\\", \\\"model\\\": \\\"elasticnet\\\", \\\"scale\\\": \\\"scale\\\", \\\"training_size\\\": \\\"5k\\\", \\\"training_year\\\": \\\"2014\\\"}\"\n",
    "output_dir = \"output\"\n",
    "seed = \"2023\"\n"
   ]
  },
  {
   "cell_type": "code",
   "execution_count": 5,
   "id": "1650acaf",
   "metadata": {
    "execution": {
     "iopub.execute_input": "2025-07-30T20:49:16.861707Z",
     "iopub.status.busy": "2025-07-30T20:49:16.861259Z",
     "iopub.status.idle": "2025-07-30T20:49:16.866456Z",
     "shell.execute_reply": "2025-07-30T20:49:16.865510Z"
    },
    "papermill": {
     "duration": 0.026714,
     "end_time": "2025-07-30T20:49:16.868132",
     "exception": false,
     "start_time": "2025-07-30T20:49:16.841418",
     "status": "completed"
    },
    "tags": []
   },
   "outputs": [],
   "source": [
    "import json\n",
    "# Parse universe into dict if it is passed as a string\n",
    "if isinstance(universe, str):\n",
    "    universe = json.loads(universe)"
   ]
  },
  {
   "cell_type": "code",
   "execution_count": 6,
   "id": "16620c48",
   "metadata": {
    "execution": {
     "iopub.execute_input": "2025-07-30T20:49:16.909892Z",
     "iopub.status.busy": "2025-07-30T20:49:16.909390Z",
     "iopub.status.idle": "2025-07-30T20:49:16.955645Z",
     "shell.execute_reply": "2025-07-30T20:49:16.954684Z"
    },
    "papermill": {
     "duration": 0.069233,
     "end_time": "2025-07-30T20:49:16.957512",
     "exception": false,
     "start_time": "2025-07-30T20:49:16.888279",
     "status": "completed"
    },
    "tags": []
   },
   "outputs": [],
   "source": [
    "# Auto-reload the custom package\n",
    "%load_ext autoreload\n",
    "%autoreload 1\n",
    "%aimport fairness_multiverse"
   ]
  },
  {
   "cell_type": "code",
   "execution_count": 7,
   "id": "01c5c9f3",
   "metadata": {
    "execution": {
     "iopub.execute_input": "2025-07-30T20:49:16.997982Z",
     "iopub.status.busy": "2025-07-30T20:49:16.997609Z",
     "iopub.status.idle": "2025-07-30T20:49:19.014578Z",
     "shell.execute_reply": "2025-07-30T20:49:19.013818Z"
    },
    "papermill": {
     "duration": 2.038801,
     "end_time": "2025-07-30T20:49:19.015931",
     "exception": false,
     "start_time": "2025-07-30T20:49:16.977130",
     "status": "completed"
    },
    "tags": []
   },
   "outputs": [],
   "source": [
    "from fairness_multiverse.universe import UniverseAnalysis\n",
    "\n",
    "universe_analysis = UniverseAnalysis(\n",
    "    run_no = run_no,\n",
    "    universe_id = universe_id,\n",
    "    universe = universe,\n",
    "    output_dir=output_dir,\n",
    ")"
   ]
  },
  {
   "cell_type": "code",
   "execution_count": 8,
   "id": "106241f5",
   "metadata": {
    "execution": {
     "iopub.execute_input": "2025-07-30T20:49:19.038006Z",
     "iopub.status.busy": "2025-07-30T20:49:19.037628Z",
     "iopub.status.idle": "2025-07-30T20:49:19.043726Z",
     "shell.execute_reply": "2025-07-30T20:49:19.042787Z"
    },
    "papermill": {
     "duration": 0.018767,
     "end_time": "2025-07-30T20:49:19.045490",
     "exception": false,
     "start_time": "2025-07-30T20:49:19.026723",
     "status": "completed"
    },
    "tags": []
   },
   "outputs": [
    {
     "name": "stdout",
     "output_type": "stream",
     "text": [
      "Using Seed: 2023\n"
     ]
    }
   ],
   "source": [
    "import numpy as np\n",
    "parsed_seed = int(seed)\n",
    "np.random.seed(parsed_seed)\n",
    "print(f\"Using Seed: {parsed_seed}\")"
   ]
  },
  {
   "cell_type": "markdown",
   "id": "e0ebdc57",
   "metadata": {
    "papermill": {
     "duration": 0.02077,
     "end_time": "2025-07-30T20:49:19.088868",
     "exception": false,
     "start_time": "2025-07-30T20:49:19.068098",
     "status": "completed"
    },
    "tags": []
   },
   "source": [
    "# Loading Data"
   ]
  },
  {
   "cell_type": "markdown",
   "id": "681925a3",
   "metadata": {
    "papermill": {
     "duration": 0.020829,
     "end_time": "2025-07-30T20:49:19.130314",
     "exception": false,
     "start_time": "2025-07-30T20:49:19.109485",
     "status": "completed"
    },
    "tags": []
   },
   "source": [
    "Load siab_train, siab_test, siab_calib and/or \n",
    "load siab_train_features, siab_train_labels"
   ]
  },
  {
   "cell_type": "code",
   "execution_count": 9,
   "id": "f0496b8a",
   "metadata": {
    "execution": {
     "iopub.execute_input": "2025-07-30T20:49:19.157542Z",
     "iopub.status.busy": "2025-07-30T20:49:19.156959Z",
     "iopub.status.idle": "2025-07-30T20:49:31.471393Z",
     "shell.execute_reply": "2025-07-30T20:49:31.470357Z"
    },
    "papermill": {
     "duration": 12.328647,
     "end_time": "2025-07-30T20:49:31.473160",
     "exception": false,
     "start_time": "2025-07-30T20:49:19.144513",
     "status": "completed"
    },
    "tags": []
   },
   "outputs": [
    {
     "name": "stdout",
     "output_type": "stream",
     "text": [
      "Loading SIAB data from cache: data/siab_cached.csv.gz\n"
     ]
    },
    {
     "name": "stdout",
     "output_type": "stream",
     "text": [
      "(643690, 164)\n"
     ]
    }
   ],
   "source": [
    "from pathlib import Path\n",
    "import pandas as pd\n",
    "\n",
    "# File paths\n",
    "raw_file = Path(\"data/raw/siab.csv\")\n",
    "cache_file = Path(\"data/siab_cached.csv.gz\")\n",
    "\n",
    "# Ensure cache directory exists\n",
    "cache_file.parent.mkdir(parents=True, exist_ok=True)\n",
    "\n",
    "# Load with simple caching\n",
    "if cache_file.exists():\n",
    "    print(f\"Loading SIAB data from cache: {cache_file}\")\n",
    "    siab = pd.read_csv(cache_file, compression='gzip')\n",
    "else:\n",
    "    print(f\"Cache not found. Reading raw SIAB data: {raw_file}\")\n",
    "    siab = pd.read_csv(raw_file)\n",
    "    siab.to_csv(cache_file, index=False, compression='gzip')\n",
    "    print(f\"Cached SIAB data to: {cache_file}\")\n",
    "\n",
    "# Now use `siab` DataFrame as needed\n",
    "print(siab.shape)"
   ]
  },
  {
   "cell_type": "code",
   "execution_count": 10,
   "id": "db0ca512-5f53-4dba-abdb-a2888bca41ba",
   "metadata": {
    "execution": {
     "iopub.execute_input": "2025-07-30T20:49:31.517095Z",
     "iopub.status.busy": "2025-07-30T20:49:31.516614Z",
     "iopub.status.idle": "2025-07-30T20:49:31.522032Z",
     "shell.execute_reply": "2025-07-30T20:49:31.521113Z"
    },
    "papermill": {
     "duration": 0.027774,
     "end_time": "2025-07-30T20:49:31.523619",
     "exception": false,
     "start_time": "2025-07-30T20:49:31.495845",
     "status": "completed"
    },
    "tags": []
   },
   "outputs": [],
   "source": [
    "#siab"
   ]
  },
  {
   "cell_type": "code",
   "execution_count": 11,
   "id": "a0edb063",
   "metadata": {
    "execution": {
     "iopub.execute_input": "2025-07-30T20:49:31.566843Z",
     "iopub.status.busy": "2025-07-30T20:49:31.566505Z",
     "iopub.status.idle": "2025-07-30T20:49:31.570365Z",
     "shell.execute_reply": "2025-07-30T20:49:31.569672Z"
    },
    "papermill": {
     "duration": 0.026418,
     "end_time": "2025-07-30T20:49:31.571946",
     "exception": false,
     "start_time": "2025-07-30T20:49:31.545528",
     "status": "completed"
    },
    "tags": []
   },
   "outputs": [],
   "source": [
    "#import pandas as pd\n",
    "#\n",
    "#X_train = pd.read_csv(\"./data/X_train.csv\")\n",
    "#y_train = pd.read_csv(\"./data/y_train.csv\")"
   ]
  },
  {
   "cell_type": "code",
   "execution_count": 12,
   "id": "63d08085",
   "metadata": {
    "execution": {
     "iopub.execute_input": "2025-07-30T20:49:31.617978Z",
     "iopub.status.busy": "2025-07-30T20:49:31.617115Z",
     "iopub.status.idle": "2025-07-30T20:49:31.622372Z",
     "shell.execute_reply": "2025-07-30T20:49:31.621399Z"
    },
    "papermill": {
     "duration": 0.029468,
     "end_time": "2025-07-30T20:49:31.624143",
     "exception": false,
     "start_time": "2025-07-30T20:49:31.594675",
     "status": "completed"
    },
    "tags": []
   },
   "outputs": [],
   "source": [
    "#X_test = pd.read_csv(\"./data/X_test.csv\")\n",
    "#y_true = pd.read_csv(\"./data/y_test.csv\")"
   ]
  },
  {
   "cell_type": "code",
   "execution_count": 13,
   "id": "98a8d0fa-1d3d-4ed8-bb2c-281470e24add",
   "metadata": {
    "execution": {
     "iopub.execute_input": "2025-07-30T20:49:31.664109Z",
     "iopub.status.busy": "2025-07-30T20:49:31.663561Z",
     "iopub.status.idle": "2025-07-30T20:49:31.667842Z",
     "shell.execute_reply": "2025-07-30T20:49:31.667138Z"
    },
    "papermill": {
     "duration": 0.025859,
     "end_time": "2025-07-30T20:49:31.669403",
     "exception": false,
     "start_time": "2025-07-30T20:49:31.643544",
     "status": "completed"
    },
    "tags": []
   },
   "outputs": [],
   "source": [
    "# Calibration data for conformal\n",
    "#X_calib = pd.read_csv(\"./data/X_calib.csv\")\n",
    "#y_calib = pd.read_csv(\"./data/y_calib.csv\")"
   ]
  },
  {
   "cell_type": "markdown",
   "id": "997051c5-15bd-4b69-9786-c3001a3ce484",
   "metadata": {
    "papermill": {
     "duration": 0.01009,
     "end_time": "2025-07-30T20:49:31.691039",
     "exception": false,
     "start_time": "2025-07-30T20:49:31.680949",
     "status": "completed"
    },
    "tags": []
   },
   "source": [
    "# Splitting Data and Setting Training Data Size"
   ]
  },
  {
   "cell_type": "code",
   "execution_count": 14,
   "id": "e993b61f-042d-41a6-8c81-f55681f86335",
   "metadata": {
    "execution": {
     "iopub.execute_input": "2025-07-30T20:49:31.718783Z",
     "iopub.status.busy": "2025-07-30T20:49:31.718433Z",
     "iopub.status.idle": "2025-07-30T20:49:31.727744Z",
     "shell.execute_reply": "2025-07-30T20:49:31.727037Z"
    },
    "papermill": {
     "duration": 0.024715,
     "end_time": "2025-07-30T20:49:31.729148",
     "exception": false,
     "start_time": "2025-07-30T20:49:31.704433",
     "status": "completed"
    },
    "tags": []
   },
   "outputs": [],
   "source": [
    "def sample_by_year_size(df,\n",
    "                        training_year: str,\n",
    "                        training_size: str,\n",
    "                        random_state: int = 42):\n",
    "    # --- parse training_year into a list of int years ---\n",
    "    if \"_\" in training_year:\n",
    "        start_str, end_str = training_year.split(\"_\", 1)\n",
    "        start = int(start_str)\n",
    "        end   = int(end_str) if len(end_str) == 4 else (int(end_str) + (start // 100)*100)\n",
    "        years = list(range(start, end + 1))\n",
    "    else:\n",
    "        years = [int(training_year)]\n",
    "\n",
    "    df = df[df[\"year\"].isin(years)].reset_index(drop=True)\n",
    "\n",
    "    # --- map training_size to total number of samples ---\n",
    "    total_map = {\"25k\": 25_000, \"5k\": 5_000, \"1k\": 1_000}\n",
    "    if training_size not in total_map:\n",
    "        return df  # e.g. \"all\"\n",
    "\n",
    "    total_samples = total_map[training_size]\n",
    "    n_years       = len(years)\n",
    "    base          = total_samples // n_years\n",
    "    remainder     = total_samples % n_years\n",
    "\n",
    "    # --- build a dict: year -> how many to sample ---\n",
    "    # give +1 to the first `remainder` years in ascending order\n",
    "    quotas = {\n",
    "        year: base + (1 if idx < remainder else 0)\n",
    "        for idx, year in enumerate(sorted(years))\n",
    "    }\n",
    "\n",
    "    # --- sample per‐year according to the quota dict ---\n",
    "    sampled = (\n",
    "        df\n",
    "        .groupby(\"year\", group_keys=False)\n",
    "        .apply(lambda grp: grp.sample(\n",
    "            n=min(len(grp), quotas[grp.name]),\n",
    "            random_state=random_state))\n",
    "        .reset_index(drop=True)\n",
    "    )\n",
    "\n",
    "    return sampled"
   ]
  },
  {
   "cell_type": "code",
   "execution_count": 15,
   "id": "c0ccd338-0e02-41f3-a09d-f56f9266e3fb",
   "metadata": {
    "execution": {
     "iopub.execute_input": "2025-07-30T20:49:31.753641Z",
     "iopub.status.busy": "2025-07-30T20:49:31.753018Z",
     "iopub.status.idle": "2025-07-30T20:49:31.757845Z",
     "shell.execute_reply": "2025-07-30T20:49:31.756956Z"
    },
    "papermill": {
     "duration": 0.018367,
     "end_time": "2025-07-30T20:49:31.759258",
     "exception": false,
     "start_time": "2025-07-30T20:49:31.740891",
     "status": "completed"
    },
    "tags": []
   },
   "outputs": [],
   "source": [
    "#universe[\"training_size\"]"
   ]
  },
  {
   "cell_type": "code",
   "execution_count": 16,
   "id": "ca707fd7-8047-4acd-bfa5-66248fbbf8e6",
   "metadata": {
    "execution": {
     "iopub.execute_input": "2025-07-30T20:49:31.794730Z",
     "iopub.status.busy": "2025-07-30T20:49:31.794393Z",
     "iopub.status.idle": "2025-07-30T20:49:31.799980Z",
     "shell.execute_reply": "2025-07-30T20:49:31.798404Z"
    },
    "papermill": {
     "duration": 0.029283,
     "end_time": "2025-07-30T20:49:31.801776",
     "exception": false,
     "start_time": "2025-07-30T20:49:31.772493",
     "status": "completed"
    },
    "tags": []
   },
   "outputs": [],
   "source": [
    "#universe[\"training_year\"]"
   ]
  },
  {
   "cell_type": "code",
   "execution_count": 17,
   "id": "aea9c6ef-6f46-42c8-85eb-5a62025c1508",
   "metadata": {
    "execution": {
     "iopub.execute_input": "2025-07-30T20:49:31.848571Z",
     "iopub.status.busy": "2025-07-30T20:49:31.847927Z",
     "iopub.status.idle": "2025-07-30T20:49:32.123328Z",
     "shell.execute_reply": "2025-07-30T20:49:32.122438Z"
    },
    "papermill": {
     "duration": 0.30104,
     "end_time": "2025-07-30T20:49:32.125234",
     "exception": false,
     "start_time": "2025-07-30T20:49:31.824194",
     "status": "completed"
    },
    "tags": []
   },
   "outputs": [],
   "source": [
    "siab_train = sample_by_year_size(siab,\n",
    "                               training_year=universe[\"training_year\"],\n",
    "                               training_size=universe[\"training_size\"])"
   ]
  },
  {
   "cell_type": "code",
   "execution_count": 18,
   "id": "8d3afb32-789d-442c-8d5d-9f5aa8dd2eed",
   "metadata": {
    "execution": {
     "iopub.execute_input": "2025-07-30T20:49:32.174559Z",
     "iopub.status.busy": "2025-07-30T20:49:32.173827Z",
     "iopub.status.idle": "2025-07-30T20:49:32.178959Z",
     "shell.execute_reply": "2025-07-30T20:49:32.177954Z"
    },
    "papermill": {
     "duration": 0.029738,
     "end_time": "2025-07-30T20:49:32.180944",
     "exception": false,
     "start_time": "2025-07-30T20:49:32.151206",
     "status": "completed"
    },
    "tags": []
   },
   "outputs": [],
   "source": [
    "#siab_train.shape"
   ]
  },
  {
   "cell_type": "code",
   "execution_count": 19,
   "id": "d582db68-1a4c-47fb-84fc-08518dc1975a",
   "metadata": {
    "execution": {
     "iopub.execute_input": "2025-07-30T20:49:32.221642Z",
     "iopub.status.busy": "2025-07-30T20:49:32.221006Z",
     "iopub.status.idle": "2025-07-30T20:49:32.226020Z",
     "shell.execute_reply": "2025-07-30T20:49:32.225045Z"
    },
    "papermill": {
     "duration": 0.026888,
     "end_time": "2025-07-30T20:49:32.227798",
     "exception": false,
     "start_time": "2025-07-30T20:49:32.200910",
     "status": "completed"
    },
    "tags": []
   },
   "outputs": [],
   "source": [
    "#display(siab_train.groupby(\"year\").size())"
   ]
  },
  {
   "cell_type": "code",
   "execution_count": 20,
   "id": "a561edb4-d032-42cb-8256-22eac1111c64",
   "metadata": {
    "execution": {
     "iopub.execute_input": "2025-07-30T20:49:32.269041Z",
     "iopub.status.busy": "2025-07-30T20:49:32.268493Z",
     "iopub.status.idle": "2025-07-30T20:49:32.534347Z",
     "shell.execute_reply": "2025-07-30T20:49:32.533412Z"
    },
    "papermill": {
     "duration": 0.287936,
     "end_time": "2025-07-30T20:49:32.536112",
     "exception": false,
     "start_time": "2025-07-30T20:49:32.248176",
     "status": "completed"
    },
    "tags": []
   },
   "outputs": [],
   "source": [
    "#siab_train = siab_s[siab_s.year < 2015]\n",
    "siab_calib = siab[siab.year == 2015]\n",
    "siab_test = siab[siab.year == 2016]"
   ]
  },
  {
   "cell_type": "code",
   "execution_count": 21,
   "id": "472de16f-c3db-4916-846b-1f0de9cf1746",
   "metadata": {
    "execution": {
     "iopub.execute_input": "2025-07-30T20:49:32.576507Z",
     "iopub.status.busy": "2025-07-30T20:49:32.575945Z",
     "iopub.status.idle": "2025-07-30T20:49:32.586060Z",
     "shell.execute_reply": "2025-07-30T20:49:32.585051Z"
    },
    "papermill": {
     "duration": 0.032246,
     "end_time": "2025-07-30T20:49:32.587946",
     "exception": false,
     "start_time": "2025-07-30T20:49:32.555700",
     "status": "completed"
    },
    "tags": []
   },
   "outputs": [],
   "source": [
    "X_train = siab_train.iloc[:,4:164]\n",
    "y_train = siab_train.iloc[:, [3]]"
   ]
  },
  {
   "cell_type": "code",
   "execution_count": 22,
   "id": "828c96af-f43a-4ed6-ba47-8ac73a47d56c",
   "metadata": {
    "execution": {
     "iopub.execute_input": "2025-07-30T20:49:32.617447Z",
     "iopub.status.busy": "2025-07-30T20:49:32.617023Z",
     "iopub.status.idle": "2025-07-30T20:49:32.662912Z",
     "shell.execute_reply": "2025-07-30T20:49:32.662152Z"
    },
    "papermill": {
     "duration": 0.059777,
     "end_time": "2025-07-30T20:49:32.664721",
     "exception": false,
     "start_time": "2025-07-30T20:49:32.604944",
     "status": "completed"
    },
    "tags": []
   },
   "outputs": [],
   "source": [
    "X_calib = siab_calib.iloc[:,4:164]\n",
    "y_calib = siab_calib.iloc[:, [3]]"
   ]
  },
  {
   "cell_type": "code",
   "execution_count": 23,
   "id": "c34be9c3-6bd6-476e-acd3-845840e303be",
   "metadata": {
    "execution": {
     "iopub.execute_input": "2025-07-30T20:49:32.711281Z",
     "iopub.status.busy": "2025-07-30T20:49:32.710266Z",
     "iopub.status.idle": "2025-07-30T20:49:32.775823Z",
     "shell.execute_reply": "2025-07-30T20:49:32.774700Z"
    },
    "papermill": {
     "duration": 0.090917,
     "end_time": "2025-07-30T20:49:32.777888",
     "exception": false,
     "start_time": "2025-07-30T20:49:32.686971",
     "status": "completed"
    },
    "tags": []
   },
   "outputs": [],
   "source": [
    "X_test = siab_test.iloc[:,4:164]\n",
    "y_true = siab_test.iloc[:, [3]]"
   ]
  },
  {
   "cell_type": "markdown",
   "id": "9901737e-04df-44f0-9100-f5ad144ed040",
   "metadata": {
    "papermill": {
     "duration": 0.021393,
     "end_time": "2025-07-30T20:49:32.821104",
     "exception": false,
     "start_time": "2025-07-30T20:49:32.799711",
     "status": "completed"
    },
    "tags": []
   },
   "source": [
    "# Splitting Data and Setting Training Data Size OLD VERSION"
   ]
  },
  {
   "cell_type": "code",
   "execution_count": 24,
   "id": "acbc8f7d-8fc8-4e86-8c59-5dcb0f58384b",
   "metadata": {
    "execution": {
     "iopub.execute_input": "2025-07-30T20:49:32.866973Z",
     "iopub.status.busy": "2025-07-30T20:49:32.866264Z",
     "iopub.status.idle": "2025-07-30T20:49:32.872418Z",
     "shell.execute_reply": "2025-07-30T20:49:32.871324Z"
    },
    "papermill": {
     "duration": 0.031425,
     "end_time": "2025-07-30T20:49:32.874118",
     "exception": false,
     "start_time": "2025-07-30T20:49:32.842693",
     "status": "completed"
    },
    "tags": []
   },
   "outputs": [],
   "source": [
    "#def sample_by_year(df, training_size, random_state=42):\n",
    "#    if training_size == \"2014\":\n",
    "#        return df[df[\"year\"] == 2014].reset_index(drop=True)\n",
    "#    \n",
    "#    size_map = {\n",
    "#        \"25k\": 5000,\n",
    "#        \"5k\": 1000,\n",
    "#        \"1k\": 200\n",
    "#    }\n",
    "#\n",
    "#    if training_size not in size_map:\n",
    "#        return df.reset_index(drop=True)  # use all data\n",
    "#\n",
    "#    n_per_year = size_map[training_size]\n",
    "#    grouped = df.groupby(\"year\")\n",
    "#    sampled = grouped.apply(lambda x: x.sample(n=min(n_per_year, len(x)), random_state=random_state))\n",
    "#    return sampled.reset_index(drop=True)"
   ]
  },
  {
   "cell_type": "code",
   "execution_count": 25,
   "id": "6d931f52-beaf-43ff-9e78-9d44a448d54e",
   "metadata": {
    "execution": {
     "iopub.execute_input": "2025-07-30T20:49:32.917888Z",
     "iopub.status.busy": "2025-07-30T20:49:32.917027Z",
     "iopub.status.idle": "2025-07-30T20:49:32.922630Z",
     "shell.execute_reply": "2025-07-30T20:49:32.921565Z"
    },
    "papermill": {
     "duration": 0.028305,
     "end_time": "2025-07-30T20:49:32.924386",
     "exception": false,
     "start_time": "2025-07-30T20:49:32.896081",
     "status": "completed"
    },
    "tags": []
   },
   "outputs": [],
   "source": [
    "#siab_s = sample_by_year(siab, universe[\"training_size\"])"
   ]
  },
  {
   "cell_type": "code",
   "execution_count": 26,
   "id": "5db0a40e-a4e2-4920-be85-b12ae061d70d",
   "metadata": {
    "execution": {
     "iopub.execute_input": "2025-07-30T20:49:32.967278Z",
     "iopub.status.busy": "2025-07-30T20:49:32.966415Z",
     "iopub.status.idle": "2025-07-30T20:49:32.971663Z",
     "shell.execute_reply": "2025-07-30T20:49:32.970653Z"
    },
    "papermill": {
     "duration": 0.027594,
     "end_time": "2025-07-30T20:49:32.973365",
     "exception": false,
     "start_time": "2025-07-30T20:49:32.945771",
     "status": "completed"
    },
    "tags": []
   },
   "outputs": [],
   "source": [
    "#display(siab_s.groupby(\"year\").size())"
   ]
  },
  {
   "cell_type": "code",
   "execution_count": 27,
   "id": "e6c733c5",
   "metadata": {
    "execution": {
     "iopub.execute_input": "2025-07-30T20:49:33.015401Z",
     "iopub.status.busy": "2025-07-30T20:49:33.014630Z",
     "iopub.status.idle": "2025-07-30T20:49:33.110117Z",
     "shell.execute_reply": "2025-07-30T20:49:33.109186Z"
    },
    "papermill": {
     "duration": 0.117818,
     "end_time": "2025-07-30T20:49:33.111964",
     "exception": false,
     "start_time": "2025-07-30T20:49:32.994146",
     "status": "completed"
    },
    "tags": []
   },
   "outputs": [],
   "source": [
    "# Auxiliary data needed downstream in the pipeline\n",
    "\n",
    "org_train = X_train.copy()\n",
    "org_test = X_test.copy()\n",
    "org_calib = X_calib.copy()"
   ]
  },
  {
   "cell_type": "code",
   "execution_count": 28,
   "id": "1466abac-c6da-4492-a62f-4240ae3783af",
   "metadata": {
    "execution": {
     "iopub.execute_input": "2025-07-30T20:49:33.154773Z",
     "iopub.status.busy": "2025-07-30T20:49:33.153765Z",
     "iopub.status.idle": "2025-07-30T20:49:33.160021Z",
     "shell.execute_reply": "2025-07-30T20:49:33.159031Z"
    },
    "papermill": {
     "duration": 0.028653,
     "end_time": "2025-07-30T20:49:33.161677",
     "exception": false,
     "start_time": "2025-07-30T20:49:33.133024",
     "status": "completed"
    },
    "tags": []
   },
   "outputs": [],
   "source": [
    "# put in other script?\n",
    "# Group sizes\n",
    "\n",
    "#def calculate_percentages(df, df_name):\n",
    "#    total_entries = len(df)\n",
    "#\n",
    "#    female_pct = (df['frau1'] == 1).mean() * 100\n",
    "#    non_german_pct = ((df['maxdeutsch1'] == 0) & (df['maxdeutsch.Missing.'] == 0)).mean() * 100\n",
    "#    non_german_male_pct = ((df['frau1'] == 0) & (df['maxdeutsch1'] == 0) & (df['maxdeutsch.Missing.'] == 0)).mean() * 100\n",
    "#    non_german_female_pct = ((df['frau1'] == 1) & (df['maxdeutsch1'] == 0) & (df['maxdeutsch.Missing.'] == 0)).mean() * 100\n",
    "#\n",
    "#    print(f\"--- {df_name} ---\")\n",
    "#    print(f\"Female: {female_pct:.2f}%\")\n",
    "#    print(f\"Non-German: {non_german_pct:.2f}%\")\n",
    "#    print(f\"Non-German Male: {non_german_male_pct:.2f}%\")\n",
    "#    print(f\"Non-German Female: {non_german_female_pct:.2f}%\\n\")\n",
    "#\n",
    "## Calculate for each DataFrame\n",
    "#calculate_percentages(siab_calib, \"siab_calib\")\n",
    "#calculate_percentages(siab_test, \"siab_test\")\n",
    "#calculate_percentages(siab_train, \"siab_train\")"
   ]
  },
  {
   "cell_type": "markdown",
   "id": "0a4a1b33",
   "metadata": {
    "papermill": {
     "duration": 0.020882,
     "end_time": "2025-07-30T20:49:33.205577",
     "exception": false,
     "start_time": "2025-07-30T20:49:33.184695",
     "status": "completed"
    },
    "tags": []
   },
   "source": [
    "# Preprocessing Data"
   ]
  },
  {
   "cell_type": "code",
   "execution_count": 29,
   "id": "ca879031",
   "metadata": {
    "execution": {
     "iopub.execute_input": "2025-07-30T20:49:33.250407Z",
     "iopub.status.busy": "2025-07-30T20:49:33.249755Z",
     "iopub.status.idle": "2025-07-30T20:49:33.256173Z",
     "shell.execute_reply": "2025-07-30T20:49:33.255222Z"
    },
    "papermill": {
     "duration": 0.03069,
     "end_time": "2025-07-30T20:49:33.257833",
     "exception": false,
     "start_time": "2025-07-30T20:49:33.227143",
     "status": "completed"
    },
    "tags": []
   },
   "outputs": [],
   "source": [
    "# EXCLUDE PROTECTED FEATURES\n",
    "# ----------------------\n",
    "# \"exclude_features\": \"none\", # \"nationality\", \"sex\", \"nationality-sex\"\n",
    "\n",
    "excluded_features = universe[\"exclude_features\"].split(\"-\") # split, e.g.: \"nationality-sex\" -> [\"nationality\", \"sex\"]\n",
    "excluded_features_dictionary = {\n",
    "    \"nationality\": [\"maxdeutsch1\", \"maxdeutsch.Missing.\"],\n",
    "    \"sex\": [\"frau1\"],\n",
    "    \"age\": [\"age\"],\n",
    "}\n"
   ]
  },
  {
   "cell_type": "code",
   "execution_count": 30,
   "id": "b745ac60",
   "metadata": {
    "execution": {
     "iopub.execute_input": "2025-07-30T20:49:33.304039Z",
     "iopub.status.busy": "2025-07-30T20:49:33.303311Z",
     "iopub.status.idle": "2025-07-30T20:49:33.309135Z",
     "shell.execute_reply": "2025-07-30T20:49:33.308115Z"
    },
    "papermill": {
     "duration": 0.030367,
     "end_time": "2025-07-30T20:49:33.310760",
     "exception": false,
     "start_time": "2025-07-30T20:49:33.280393",
     "status": "completed"
    },
    "tags": []
   },
   "outputs": [],
   "source": [
    "# Code nice names to column names\n",
    "\n",
    "excluded_features_columns = [\n",
    "    excluded_features_dictionary[f] for f in excluded_features if len(f) > 0 and f != \"none\"\n",
    "]"
   ]
  },
  {
   "cell_type": "code",
   "execution_count": 31,
   "id": "f84f73a2",
   "metadata": {
    "execution": {
     "iopub.execute_input": "2025-07-30T20:49:33.358710Z",
     "iopub.status.busy": "2025-07-30T20:49:33.357996Z",
     "iopub.status.idle": "2025-07-30T20:49:33.365308Z",
     "shell.execute_reply": "2025-07-30T20:49:33.364162Z"
    },
    "papermill": {
     "duration": 0.032501,
     "end_time": "2025-07-30T20:49:33.367148",
     "exception": false,
     "start_time": "2025-07-30T20:49:33.334647",
     "status": "completed"
    },
    "tags": []
   },
   "outputs": [],
   "source": [
    "from utils import flatten_once\n",
    "\n",
    "excluded_features_columns = flatten_once(excluded_features_columns)"
   ]
  },
  {
   "cell_type": "code",
   "execution_count": 32,
   "id": "884dea22",
   "metadata": {
    "execution": {
     "iopub.execute_input": "2025-07-30T20:49:33.416266Z",
     "iopub.status.busy": "2025-07-30T20:49:33.415531Z",
     "iopub.status.idle": "2025-07-30T20:49:33.426343Z",
     "shell.execute_reply": "2025-07-30T20:49:33.425196Z"
    },
    "papermill": {
     "duration": 0.036542,
     "end_time": "2025-07-30T20:49:33.428183",
     "exception": false,
     "start_time": "2025-07-30T20:49:33.391641",
     "status": "completed"
    },
    "tags": []
   },
   "outputs": [
    {
     "name": "stdout",
     "output_type": "stream",
     "text": [
      "Dropping features: ['frau1']\n"
     ]
    }
   ],
   "source": [
    "if len(excluded_features_columns) > 0:\n",
    "    print(f\"Dropping features: {excluded_features_columns}\")\n",
    "    X_train.drop(excluded_features_columns, axis=1, inplace=True)"
   ]
  },
  {
   "cell_type": "code",
   "execution_count": 33,
   "id": "95ab8b16",
   "metadata": {
    "execution": {
     "iopub.execute_input": "2025-07-30T20:49:33.475992Z",
     "iopub.status.busy": "2025-07-30T20:49:33.475341Z",
     "iopub.status.idle": "2025-07-30T20:49:33.531098Z",
     "shell.execute_reply": "2025-07-30T20:49:33.529989Z"
    },
    "papermill": {
     "duration": 0.080708,
     "end_time": "2025-07-30T20:49:33.533033",
     "exception": false,
     "start_time": "2025-07-30T20:49:33.452325",
     "status": "completed"
    },
    "tags": []
   },
   "outputs": [
    {
     "name": "stdout",
     "output_type": "stream",
     "text": [
      "Dropping features: ['frau1']\n"
     ]
    }
   ],
   "source": [
    "if len(excluded_features_columns) > 0:\n",
    "    print(f\"Dropping features: {excluded_features_columns}\")\n",
    "    X_test.drop(excluded_features_columns, axis=1, inplace=True)"
   ]
  },
  {
   "cell_type": "code",
   "execution_count": 34,
   "id": "1853aaf5-fb9f-46cb-a2b5-8ea4ae2237e4",
   "metadata": {
    "execution": {
     "iopub.execute_input": "2025-07-30T20:49:33.581925Z",
     "iopub.status.busy": "2025-07-30T20:49:33.581011Z",
     "iopub.status.idle": "2025-07-30T20:49:33.635862Z",
     "shell.execute_reply": "2025-07-30T20:49:33.634765Z"
    },
    "papermill": {
     "duration": 0.081324,
     "end_time": "2025-07-30T20:49:33.637946",
     "exception": false,
     "start_time": "2025-07-30T20:49:33.556622",
     "status": "completed"
    },
    "tags": []
   },
   "outputs": [
    {
     "name": "stdout",
     "output_type": "stream",
     "text": [
      "Dropping features: ['frau1']\n"
     ]
    }
   ],
   "source": [
    "if len(excluded_features_columns) > 0:\n",
    "    print(f\"Dropping features: {excluded_features_columns}\")\n",
    "    X_calib.drop(excluded_features_columns, axis=1, inplace=True)"
   ]
  },
  {
   "cell_type": "code",
   "execution_count": 35,
   "id": "6727d079-03e5-481e-9d38-292a90b7a0a8",
   "metadata": {
    "execution": {
     "iopub.execute_input": "2025-07-30T20:49:33.684332Z",
     "iopub.status.busy": "2025-07-30T20:49:33.683873Z",
     "iopub.status.idle": "2025-07-30T20:49:33.689001Z",
     "shell.execute_reply": "2025-07-30T20:49:33.688037Z"
    },
    "papermill": {
     "duration": 0.029677,
     "end_time": "2025-07-30T20:49:33.690717",
     "exception": false,
     "start_time": "2025-07-30T20:49:33.661040",
     "status": "completed"
    },
    "tags": []
   },
   "outputs": [],
   "source": [
    "# SPLIT & STRATIFY DATA\n",
    "# ----------------------"
   ]
  },
  {
   "cell_type": "code",
   "execution_count": 36,
   "id": "76c4dc6d",
   "metadata": {
    "execution": {
     "iopub.execute_input": "2025-07-30T20:49:33.737988Z",
     "iopub.status.busy": "2025-07-30T20:49:33.737064Z",
     "iopub.status.idle": "2025-07-30T20:49:33.743032Z",
     "shell.execute_reply": "2025-07-30T20:49:33.742018Z"
    },
    "papermill": {
     "duration": 0.030472,
     "end_time": "2025-07-30T20:49:33.744696",
     "exception": false,
     "start_time": "2025-07-30T20:49:33.714224",
     "status": "completed"
    },
    "tags": []
   },
   "outputs": [],
   "source": [
    "# EXCLUDE CERTAIN SUBGROUPS\n",
    "# ----------------------\n",
    "\n",
    "mode = universe.get(\"exclude_subgroups\", \"keep-all\") \n",
    "# Fetches the exclude_subgroups setting from the universe dict.\n",
    "# Defaults to \"keep-all\" if the key is missing."
   ]
  },
  {
   "cell_type": "code",
   "execution_count": 37,
   "id": "21994072",
   "metadata": {
    "execution": {
     "iopub.execute_input": "2025-07-30T20:49:33.794469Z",
     "iopub.status.busy": "2025-07-30T20:49:33.793836Z",
     "iopub.status.idle": "2025-07-30T20:49:33.801023Z",
     "shell.execute_reply": "2025-07-30T20:49:33.800010Z"
    },
    "papermill": {
     "duration": 0.033283,
     "end_time": "2025-07-30T20:49:33.802931",
     "exception": false,
     "start_time": "2025-07-30T20:49:33.769648",
     "status": "completed"
    },
    "tags": []
   },
   "outputs": [],
   "source": [
    "if mode == \"keep-all\":\n",
    "    keep_mask = pd.Series(True, index=org_train.index)\n",
    "\n",
    "# org_train contains the original feature columns from features_org (in Simson)\n",
    "# features_org contains unprocessed features, for me X_train at beginning ???\n",
    "# For keep-all, creates a boolean Series (keep_mask) of all True, so no rows are removed.\n",
    "\n",
    "elif mode == \"drop-non-german\":\n",
    "    keep_mask = org_train[\"maxdeutsch1\"] == 1 # ??? what about missing values?\n",
    "\n",
    "else:\n",
    "    raise ValueError(f\"Unsupported mode for exclude_subgroups: {mode}\")\n"
   ]
  },
  {
   "cell_type": "code",
   "execution_count": 38,
   "id": "71651440",
   "metadata": {
    "execution": {
     "iopub.execute_input": "2025-07-30T20:49:33.848870Z",
     "iopub.status.busy": "2025-07-30T20:49:33.848466Z",
     "iopub.status.idle": "2025-07-30T20:49:33.854837Z",
     "shell.execute_reply": "2025-07-30T20:49:33.853946Z"
    },
    "papermill": {
     "duration": 0.030765,
     "end_time": "2025-07-30T20:49:33.856619",
     "exception": false,
     "start_time": "2025-07-30T20:49:33.825854",
     "status": "completed"
    },
    "tags": []
   },
   "outputs": [],
   "source": [
    "n_drop = (~keep_mask).sum() # Calculates how many rows are set to be dropped\n",
    "if n_drop > 0:\n",
    "    pct = n_drop / len(keep_mask) * 100\n",
    "    print(f\"Dropping {n_drop} rows ({pct:.2f}%) where mode='{mode}'\")"
   ]
  },
  {
   "cell_type": "code",
   "execution_count": 39,
   "id": "5fb8eee5",
   "metadata": {
    "execution": {
     "iopub.execute_input": "2025-07-30T20:49:33.903101Z",
     "iopub.status.busy": "2025-07-30T20:49:33.902446Z",
     "iopub.status.idle": "2025-07-30T20:49:33.914680Z",
     "shell.execute_reply": "2025-07-30T20:49:33.913618Z"
    },
    "papermill": {
     "duration": 0.03713,
     "end_time": "2025-07-30T20:49:33.916545",
     "exception": false,
     "start_time": "2025-07-30T20:49:33.879415",
     "status": "completed"
    },
    "tags": []
   },
   "outputs": [],
   "source": [
    "X_train = X_train[keep_mask]"
   ]
  },
  {
   "cell_type": "code",
   "execution_count": 40,
   "id": "b202bb3a",
   "metadata": {
    "execution": {
     "iopub.execute_input": "2025-07-30T20:49:33.969255Z",
     "iopub.status.busy": "2025-07-30T20:49:33.968781Z",
     "iopub.status.idle": "2025-07-30T20:49:33.974994Z",
     "shell.execute_reply": "2025-07-30T20:49:33.974100Z"
    },
    "papermill": {
     "duration": 0.039047,
     "end_time": "2025-07-30T20:49:33.976783",
     "exception": false,
     "start_time": "2025-07-30T20:49:33.937736",
     "status": "completed"
    },
    "tags": []
   },
   "outputs": [],
   "source": [
    "y_train = y_train[keep_mask]"
   ]
  },
  {
   "cell_type": "markdown",
   "id": "493e2ac3",
   "metadata": {
    "papermill": {
     "duration": 0.019994,
     "end_time": "2025-07-30T20:49:34.018759",
     "exception": false,
     "start_time": "2025-07-30T20:49:33.998765",
     "status": "completed"
    },
    "tags": []
   },
   "source": [
    "# Model Training"
   ]
  },
  {
   "cell_type": "code",
   "execution_count": 41,
   "id": "679e1268",
   "metadata": {
    "execution": {
     "iopub.execute_input": "2025-07-30T20:49:34.061541Z",
     "iopub.status.busy": "2025-07-30T20:49:34.060751Z",
     "iopub.status.idle": "2025-07-30T20:49:34.163744Z",
     "shell.execute_reply": "2025-07-30T20:49:34.162808Z"
    },
    "papermill": {
     "duration": 0.126396,
     "end_time": "2025-07-30T20:49:34.165583",
     "exception": false,
     "start_time": "2025-07-30T20:49:34.039187",
     "status": "completed"
    },
    "tags": []
   },
   "outputs": [],
   "source": [
    "from sklearn.linear_model import LogisticRegression\n",
    "from sklearn.ensemble import GradientBoostingClassifier, RandomForestClassifier\n",
    "\n",
    "if (universe[\"model\"] == \"logreg\"):\n",
    "    model = LogisticRegression() #penalty=\"none\") #, solver=\"newton-cg\", max_iter=1) # include random_state=19 ?\n",
    "elif (universe[\"model\"] == \"penalized_logreg\"):\n",
    "    model = LogisticRegression(penalty=\"l2\", C=1.0) #, solver=\"newton-cg\", max_iter=1)\n",
    "elif (universe[\"model\"] == \"rf\"):\n",
    "    model = RandomForestClassifier(n_estimators=100, n_jobs=-1)\n",
    "elif (universe[\"model\"] == \"gbm\"):\n",
    "    model = GradientBoostingClassifier()\n",
    "elif (universe[\"model\"] == \"elasticnet\"):\n",
    "    model = LogisticRegression(penalty = 'elasticnet', solver = 'saga', l1_ratio = 0.5, max_iter=5000) # which solver to use?\n",
    "else:\n",
    "    raise \"Unsupported universe.model\""
   ]
  },
  {
   "cell_type": "code",
   "execution_count": 42,
   "id": "0cc8f744",
   "metadata": {
    "execution": {
     "iopub.execute_input": "2025-07-30T20:49:34.213411Z",
     "iopub.status.busy": "2025-07-30T20:49:34.212835Z",
     "iopub.status.idle": "2025-07-30T20:49:34.219935Z",
     "shell.execute_reply": "2025-07-30T20:49:34.218904Z"
    },
    "papermill": {
     "duration": 0.032407,
     "end_time": "2025-07-30T20:49:34.221713",
     "exception": false,
     "start_time": "2025-07-30T20:49:34.189306",
     "status": "completed"
    },
    "tags": []
   },
   "outputs": [],
   "source": [
    "import numpy as np\n",
    "from sklearn.pipeline import Pipeline\n",
    "from sklearn.preprocessing import StandardScaler\n",
    "\n",
    "model = Pipeline([\n",
    "    #(\"continuous_processor\", continuous_processor),\n",
    "    #(\"categorical_preprocessor\", categorical_preprocessor),\n",
    "    (\"scale\", StandardScaler() if universe[\"scale\"] == \"scale\" else None), \n",
    "    (\"model\", model),\n",
    "])"
   ]
  },
  {
   "cell_type": "code",
   "execution_count": 43,
   "id": "9442c04d",
   "metadata": {
    "execution": {
     "iopub.execute_input": "2025-07-30T20:49:34.270615Z",
     "iopub.status.busy": "2025-07-30T20:49:34.269705Z",
     "iopub.status.idle": "2025-07-30T20:49:43.675069Z",
     "shell.execute_reply": "2025-07-30T20:49:43.673994Z"
    },
    "papermill": {
     "duration": 9.431334,
     "end_time": "2025-07-30T20:49:43.677344",
     "exception": false,
     "start_time": "2025-07-30T20:49:34.246010",
     "status": "completed"
    },
    "tags": []
   },
   "outputs": [
    {
     "data": {
      "text/html": [
       "<style>#sk-container-id-1 {color: black;background-color: white;}#sk-container-id-1 pre{padding: 0;}#sk-container-id-1 div.sk-toggleable {background-color: white;}#sk-container-id-1 label.sk-toggleable__label {cursor: pointer;display: block;width: 100%;margin-bottom: 0;padding: 0.3em;box-sizing: border-box;text-align: center;}#sk-container-id-1 label.sk-toggleable__label-arrow:before {content: \"▸\";float: left;margin-right: 0.25em;color: #696969;}#sk-container-id-1 label.sk-toggleable__label-arrow:hover:before {color: black;}#sk-container-id-1 div.sk-estimator:hover label.sk-toggleable__label-arrow:before {color: black;}#sk-container-id-1 div.sk-toggleable__content {max-height: 0;max-width: 0;overflow: hidden;text-align: left;background-color: #f0f8ff;}#sk-container-id-1 div.sk-toggleable__content pre {margin: 0.2em;color: black;border-radius: 0.25em;background-color: #f0f8ff;}#sk-container-id-1 input.sk-toggleable__control:checked~div.sk-toggleable__content {max-height: 200px;max-width: 100%;overflow: auto;}#sk-container-id-1 input.sk-toggleable__control:checked~label.sk-toggleable__label-arrow:before {content: \"▾\";}#sk-container-id-1 div.sk-estimator input.sk-toggleable__control:checked~label.sk-toggleable__label {background-color: #d4ebff;}#sk-container-id-1 div.sk-label input.sk-toggleable__control:checked~label.sk-toggleable__label {background-color: #d4ebff;}#sk-container-id-1 input.sk-hidden--visually {border: 0;clip: rect(1px 1px 1px 1px);clip: rect(1px, 1px, 1px, 1px);height: 1px;margin: -1px;overflow: hidden;padding: 0;position: absolute;width: 1px;}#sk-container-id-1 div.sk-estimator {font-family: monospace;background-color: #f0f8ff;border: 1px dotted black;border-radius: 0.25em;box-sizing: border-box;margin-bottom: 0.5em;}#sk-container-id-1 div.sk-estimator:hover {background-color: #d4ebff;}#sk-container-id-1 div.sk-parallel-item::after {content: \"\";width: 100%;border-bottom: 1px solid gray;flex-grow: 1;}#sk-container-id-1 div.sk-label:hover label.sk-toggleable__label {background-color: #d4ebff;}#sk-container-id-1 div.sk-serial::before {content: \"\";position: absolute;border-left: 1px solid gray;box-sizing: border-box;top: 0;bottom: 0;left: 50%;z-index: 0;}#sk-container-id-1 div.sk-serial {display: flex;flex-direction: column;align-items: center;background-color: white;padding-right: 0.2em;padding-left: 0.2em;position: relative;}#sk-container-id-1 div.sk-item {position: relative;z-index: 1;}#sk-container-id-1 div.sk-parallel {display: flex;align-items: stretch;justify-content: center;background-color: white;position: relative;}#sk-container-id-1 div.sk-item::before, #sk-container-id-1 div.sk-parallel-item::before {content: \"\";position: absolute;border-left: 1px solid gray;box-sizing: border-box;top: 0;bottom: 0;left: 50%;z-index: -1;}#sk-container-id-1 div.sk-parallel-item {display: flex;flex-direction: column;z-index: 1;position: relative;background-color: white;}#sk-container-id-1 div.sk-parallel-item:first-child::after {align-self: flex-end;width: 50%;}#sk-container-id-1 div.sk-parallel-item:last-child::after {align-self: flex-start;width: 50%;}#sk-container-id-1 div.sk-parallel-item:only-child::after {width: 0;}#sk-container-id-1 div.sk-dashed-wrapped {border: 1px dashed gray;margin: 0 0.4em 0.5em 0.4em;box-sizing: border-box;padding-bottom: 0.4em;background-color: white;}#sk-container-id-1 div.sk-label label {font-family: monospace;font-weight: bold;display: inline-block;line-height: 1.2em;}#sk-container-id-1 div.sk-label-container {text-align: center;}#sk-container-id-1 div.sk-container {/* jupyter's `normalize.less` sets `[hidden] { display: none; }` but bootstrap.min.css set `[hidden] { display: none !important; }` so we also need the `!important` here to be able to override the default hidden behavior on the sphinx rendered scikit-learn.org. See: https://github.com/scikit-learn/scikit-learn/issues/21755 */display: inline-block !important;position: relative;}#sk-container-id-1 div.sk-text-repr-fallback {display: none;}</style><div id=\"sk-container-id-1\" class=\"sk-top-container\"><div class=\"sk-text-repr-fallback\"><pre>Pipeline(steps=[(&#x27;scale&#x27;, StandardScaler()),\n",
       "                (&#x27;model&#x27;,\n",
       "                 LogisticRegression(l1_ratio=0.5, max_iter=5000,\n",
       "                                    penalty=&#x27;elasticnet&#x27;, solver=&#x27;saga&#x27;))])</pre><b>In a Jupyter environment, please rerun this cell to show the HTML representation or trust the notebook. <br />On GitHub, the HTML representation is unable to render, please try loading this page with nbviewer.org.</b></div><div class=\"sk-container\" hidden><div class=\"sk-item sk-dashed-wrapped\"><div class=\"sk-label-container\"><div class=\"sk-label sk-toggleable\"><input class=\"sk-toggleable__control sk-hidden--visually\" id=\"sk-estimator-id-1\" type=\"checkbox\" ><label for=\"sk-estimator-id-1\" class=\"sk-toggleable__label sk-toggleable__label-arrow\">Pipeline</label><div class=\"sk-toggleable__content\"><pre>Pipeline(steps=[(&#x27;scale&#x27;, StandardScaler()),\n",
       "                (&#x27;model&#x27;,\n",
       "                 LogisticRegression(l1_ratio=0.5, max_iter=5000,\n",
       "                                    penalty=&#x27;elasticnet&#x27;, solver=&#x27;saga&#x27;))])</pre></div></div></div><div class=\"sk-serial\"><div class=\"sk-item\"><div class=\"sk-estimator sk-toggleable\"><input class=\"sk-toggleable__control sk-hidden--visually\" id=\"sk-estimator-id-2\" type=\"checkbox\" ><label for=\"sk-estimator-id-2\" class=\"sk-toggleable__label sk-toggleable__label-arrow\">StandardScaler</label><div class=\"sk-toggleable__content\"><pre>StandardScaler()</pre></div></div></div><div class=\"sk-item\"><div class=\"sk-estimator sk-toggleable\"><input class=\"sk-toggleable__control sk-hidden--visually\" id=\"sk-estimator-id-3\" type=\"checkbox\" ><label for=\"sk-estimator-id-3\" class=\"sk-toggleable__label sk-toggleable__label-arrow\">LogisticRegression</label><div class=\"sk-toggleable__content\"><pre>LogisticRegression(l1_ratio=0.5, max_iter=5000, penalty=&#x27;elasticnet&#x27;,\n",
       "                   solver=&#x27;saga&#x27;)</pre></div></div></div></div></div></div></div>"
      ],
      "text/plain": [
       "Pipeline(steps=[('scale', StandardScaler()),\n",
       "                ('model',\n",
       "                 LogisticRegression(l1_ratio=0.5, max_iter=5000,\n",
       "                                    penalty='elasticnet', solver='saga'))])"
      ]
     },
     "execution_count": 43,
     "metadata": {},
     "output_type": "execute_result"
    }
   ],
   "source": [
    "model.fit(X_train, y_train.values.ravel())"
   ]
  },
  {
   "cell_type": "code",
   "execution_count": 44,
   "id": "af59f8c0",
   "metadata": {
    "execution": {
     "iopub.execute_input": "2025-07-30T20:49:43.739319Z",
     "iopub.status.busy": "2025-07-30T20:49:43.738860Z",
     "iopub.status.idle": "2025-07-30T20:49:43.744329Z",
     "shell.execute_reply": "2025-07-30T20:49:43.743174Z"
    },
    "papermill": {
     "duration": 0.033118,
     "end_time": "2025-07-30T20:49:43.746078",
     "exception": false,
     "start_time": "2025-07-30T20:49:43.712960",
     "status": "completed"
    },
    "tags": []
   },
   "outputs": [],
   "source": [
    "from fairness_multiverse.universe import predict_w_threshold"
   ]
  },
  {
   "cell_type": "code",
   "execution_count": 45,
   "id": "a7cf2e16",
   "metadata": {
    "execution": {
     "iopub.execute_input": "2025-07-30T20:49:43.805983Z",
     "iopub.status.busy": "2025-07-30T20:49:43.805569Z",
     "iopub.status.idle": "2025-07-30T20:49:43.999262Z",
     "shell.execute_reply": "2025-07-30T20:49:43.998304Z"
    },
    "papermill": {
     "duration": 0.230139,
     "end_time": "2025-07-30T20:49:44.000701",
     "exception": false,
     "start_time": "2025-07-30T20:49:43.770562",
     "status": "completed"
    },
    "tags": []
   },
   "outputs": [
    {
     "data": {
      "text/plain": [
       "0.8579199643295062"
      ]
     },
     "execution_count": 45,
     "metadata": {},
     "output_type": "execute_result"
    }
   ],
   "source": [
    "probs_test = model.predict_proba(X_test)\n",
    "\n",
    "'''\n",
    "Below code returns a boolean array (or binary 0/1 array depending on how it’s used) where each element \n",
    "is True if the probability of class 1 is greater than or equal to the threshold, and False otherwise.\n",
    "'''\n",
    "y_pred_default = predict_w_threshold(probs_test, 0.5)\n",
    "\n",
    "from sklearn.metrics import accuracy_score\n",
    "\n",
    "# Naive prediction\n",
    "accuracy_score(y_true = y_true, y_pred = y_pred_default)"
   ]
  },
  {
   "cell_type": "code",
   "execution_count": 46,
   "id": "081964c3",
   "metadata": {
    "execution": {
     "iopub.execute_input": "2025-07-30T20:49:44.050192Z",
     "iopub.status.busy": "2025-07-30T20:49:44.049211Z",
     "iopub.status.idle": "2025-07-30T20:49:44.231614Z",
     "shell.execute_reply": "2025-07-30T20:49:44.230855Z"
    },
    "papermill": {
     "duration": 0.208737,
     "end_time": "2025-07-30T20:49:44.232819",
     "exception": false,
     "start_time": "2025-07-30T20:49:44.024082",
     "status": "completed"
    },
    "tags": []
   },
   "outputs": [
    {
     "data": {
      "text/plain": [
       "array([0, 0, 0, ..., 0, 0, 0])"
      ]
     },
     "execution_count": 46,
     "metadata": {},
     "output_type": "execute_result"
    }
   ],
   "source": [
    "model.predict(X_test)"
   ]
  },
  {
   "cell_type": "markdown",
   "id": "56c9705b",
   "metadata": {
    "papermill": {
     "duration": 0.011638,
     "end_time": "2025-07-30T20:49:44.257204",
     "exception": false,
     "start_time": "2025-07-30T20:49:44.245566",
     "status": "completed"
    },
    "tags": []
   },
   "source": [
    "# Conformal Prediction"
   ]
  },
  {
   "cell_type": "code",
   "execution_count": 47,
   "id": "160ec6ff",
   "metadata": {
    "execution": {
     "iopub.execute_input": "2025-07-30T20:49:44.304232Z",
     "iopub.status.busy": "2025-07-30T20:49:44.303479Z",
     "iopub.status.idle": "2025-07-30T20:49:44.308931Z",
     "shell.execute_reply": "2025-07-30T20:49:44.307959Z"
    },
    "papermill": {
     "duration": 0.031996,
     "end_time": "2025-07-30T20:49:44.310408",
     "exception": false,
     "start_time": "2025-07-30T20:49:44.278412",
     "status": "completed"
    },
    "tags": []
   },
   "outputs": [],
   "source": [
    "# Miscoverage level for conformal prediction (10% allowed error rate => 90% target coverage)\n",
    "alpha = 0.1"
   ]
  },
  {
   "cell_type": "code",
   "execution_count": 48,
   "id": "eadf4555-3dd3-440e-8e35-f82a4ad9f855",
   "metadata": {
    "execution": {
     "iopub.execute_input": "2025-07-30T20:49:44.360091Z",
     "iopub.status.busy": "2025-07-30T20:49:44.359625Z",
     "iopub.status.idle": "2025-07-30T20:49:44.545834Z",
     "shell.execute_reply": "2025-07-30T20:49:44.544944Z"
    },
    "papermill": {
     "duration": 0.213881,
     "end_time": "2025-07-30T20:49:44.547258",
     "exception": false,
     "start_time": "2025-07-30T20:49:44.333377",
     "status": "completed"
    },
    "tags": []
   },
   "outputs": [],
   "source": [
    "probs_calib = model.predict_proba(X_calib)"
   ]
  },
  {
   "cell_type": "code",
   "execution_count": 49,
   "id": "2ed93547-6d5d-4983-9b36-1ecb300da49a",
   "metadata": {
    "execution": {
     "iopub.execute_input": "2025-07-30T20:49:44.590558Z",
     "iopub.status.busy": "2025-07-30T20:49:44.589630Z",
     "iopub.status.idle": "2025-07-30T20:49:44.594930Z",
     "shell.execute_reply": "2025-07-30T20:49:44.594117Z"
    },
    "papermill": {
     "duration": 0.030529,
     "end_time": "2025-07-30T20:49:44.596601",
     "exception": false,
     "start_time": "2025-07-30T20:49:44.566072",
     "status": "completed"
    },
    "tags": []
   },
   "outputs": [],
   "source": [
    "y_calib = y_calib.values.ravel().astype(int)"
   ]
  },
  {
   "cell_type": "code",
   "execution_count": 50,
   "id": "65d1320d-f588-4b38-9072-62af1ae97f7d",
   "metadata": {
    "execution": {
     "iopub.execute_input": "2025-07-30T20:49:44.644791Z",
     "iopub.status.busy": "2025-07-30T20:49:44.644140Z",
     "iopub.status.idle": "2025-07-30T20:49:44.651364Z",
     "shell.execute_reply": "2025-07-30T20:49:44.650523Z"
    },
    "papermill": {
     "duration": 0.032566,
     "end_time": "2025-07-30T20:49:44.652861",
     "exception": false,
     "start_time": "2025-07-30T20:49:44.620295",
     "status": "completed"
    },
    "tags": []
   },
   "outputs": [],
   "source": [
    "from fairness_multiverse.conformal import compute_nc_scores\n",
    "\n",
    "# Compute nonconformity scores on calibration set (1 - probability of true class)\n",
    "nc_scores = compute_nc_scores(probs_calib, y_calib)"
   ]
  },
  {
   "cell_type": "code",
   "execution_count": 51,
   "id": "df3b8ca3-53b7-43d5-9667-7c85da7aeda2",
   "metadata": {
    "execution": {
     "iopub.execute_input": "2025-07-30T20:49:44.701088Z",
     "iopub.status.busy": "2025-07-30T20:49:44.700406Z",
     "iopub.status.idle": "2025-07-30T20:49:44.707174Z",
     "shell.execute_reply": "2025-07-30T20:49:44.706147Z"
    },
    "papermill": {
     "duration": 0.032331,
     "end_time": "2025-07-30T20:49:44.708894",
     "exception": false,
     "start_time": "2025-07-30T20:49:44.676563",
     "status": "completed"
    },
    "tags": []
   },
   "outputs": [],
   "source": [
    "from fairness_multiverse.conformal import find_threshold\n",
    "\n",
    "# Find conformal threshold q_hat for the given alpha (split conformal method)\n",
    "q_hat = find_threshold(nc_scores, alpha)"
   ]
  },
  {
   "cell_type": "code",
   "execution_count": 52,
   "id": "4d29e6c1-0ef6-4aa4-b8fe-4fe79b0d033a",
   "metadata": {
    "execution": {
     "iopub.execute_input": "2025-07-30T20:49:44.758280Z",
     "iopub.status.busy": "2025-07-30T20:49:44.757636Z",
     "iopub.status.idle": "2025-07-30T20:49:44.764692Z",
     "shell.execute_reply": "2025-07-30T20:49:44.763776Z"
    },
    "papermill": {
     "duration": 0.032737,
     "end_time": "2025-07-30T20:49:44.766438",
     "exception": false,
     "start_time": "2025-07-30T20:49:44.733701",
     "status": "completed"
    },
    "tags": []
   },
   "outputs": [
    {
     "data": {
      "text/plain": [
       "0.6841418850124528"
      ]
     },
     "execution_count": 52,
     "metadata": {},
     "output_type": "execute_result"
    }
   ],
   "source": [
    "q_hat"
   ]
  },
  {
   "cell_type": "code",
   "execution_count": 53,
   "id": "92460794-cdac-4be2-ba28-f28c0515a6fb",
   "metadata": {
    "execution": {
     "iopub.execute_input": "2025-07-30T20:49:44.816480Z",
     "iopub.status.busy": "2025-07-30T20:49:44.815792Z",
     "iopub.status.idle": "2025-07-30T20:49:45.638136Z",
     "shell.execute_reply": "2025-07-30T20:49:45.637121Z"
    },
    "papermill": {
     "duration": 0.848777,
     "end_time": "2025-07-30T20:49:45.640107",
     "exception": false,
     "start_time": "2025-07-30T20:49:44.791330",
     "status": "completed"
    },
    "tags": []
   },
   "outputs": [],
   "source": [
    "from fairness_multiverse.conformal import predict_conformal_sets\n",
    "\n",
    "# Generate prediction sets for each test example\n",
    "pred_sets = predict_conformal_sets(model, X_test, q_hat)"
   ]
  },
  {
   "cell_type": "code",
   "execution_count": 54,
   "id": "d90c9a65-e6db-4f5d-80cd-e68fb7e46829",
   "metadata": {
    "execution": {
     "iopub.execute_input": "2025-07-30T20:49:45.690164Z",
     "iopub.status.busy": "2025-07-30T20:49:45.689493Z",
     "iopub.status.idle": "2025-07-30T20:49:45.694986Z",
     "shell.execute_reply": "2025-07-30T20:49:45.694103Z"
    },
    "papermill": {
     "duration": 0.030976,
     "end_time": "2025-07-30T20:49:45.696581",
     "exception": false,
     "start_time": "2025-07-30T20:49:45.665605",
     "status": "completed"
    },
    "tags": []
   },
   "outputs": [],
   "source": [
    "y_true = y_true.squeeze()"
   ]
  },
  {
   "cell_type": "code",
   "execution_count": 55,
   "id": "3a58a54a-1e68-46b9-927a-df01f18aebc8",
   "metadata": {
    "execution": {
     "iopub.execute_input": "2025-07-30T20:49:45.746166Z",
     "iopub.status.busy": "2025-07-30T20:49:45.745517Z",
     "iopub.status.idle": "2025-07-30T20:49:46.634477Z",
     "shell.execute_reply": "2025-07-30T20:49:46.633449Z"
    },
    "papermill": {
     "duration": 0.915645,
     "end_time": "2025-07-30T20:49:46.636496",
     "exception": false,
     "start_time": "2025-07-30T20:49:45.720851",
     "status": "completed"
    },
    "tags": []
   },
   "outputs": [],
   "source": [
    "from fairness_multiverse.conformal import evaluate_sets\n",
    "\n",
    "# Evaluate coverage and average set size on test data\n",
    "metrics = evaluate_sets(pred_sets, y_true)"
   ]
  },
  {
   "cell_type": "markdown",
   "id": "2b569c12-9aaa-4c88-98c9-bbcd0cf3ebb8",
   "metadata": {
    "papermill": {
     "duration": 0.024205,
     "end_time": "2025-07-30T20:49:46.689905",
     "exception": false,
     "start_time": "2025-07-30T20:49:46.665700",
     "status": "completed"
    },
    "tags": []
   },
   "source": [
    "# CP Metrics"
   ]
  },
  {
   "cell_type": "code",
   "execution_count": 56,
   "id": "5ce0a5cb-201f-45a0-ade5-94c7f0bd6095",
   "metadata": {
    "execution": {
     "iopub.execute_input": "2025-07-30T20:49:46.737347Z",
     "iopub.status.busy": "2025-07-30T20:49:46.736660Z",
     "iopub.status.idle": "2025-07-30T20:49:46.743794Z",
     "shell.execute_reply": "2025-07-30T20:49:46.742852Z"
    },
    "papermill": {
     "duration": 0.033127,
     "end_time": "2025-07-30T20:49:46.745423",
     "exception": false,
     "start_time": "2025-07-30T20:49:46.712296",
     "status": "completed"
    },
    "tags": []
   },
   "outputs": [
    {
     "data": {
      "text/plain": [
       "{'coverage': 0.9104336194404191, 'avg_size': 1.1339204102106788}"
      ]
     },
     "execution_count": 56,
     "metadata": {},
     "output_type": "execute_result"
    }
   ],
   "source": [
    "metrics"
   ]
  },
  {
   "cell_type": "code",
   "execution_count": 57,
   "id": "9b9a838d-31c9-430b-ae14-12baee460d17",
   "metadata": {
    "execution": {
     "iopub.execute_input": "2025-07-30T20:49:46.795226Z",
     "iopub.status.busy": "2025-07-30T20:49:46.794719Z",
     "iopub.status.idle": "2025-07-30T20:49:46.862463Z",
     "shell.execute_reply": "2025-07-30T20:49:46.861268Z"
    },
    "papermill": {
     "duration": 0.094909,
     "end_time": "2025-07-30T20:49:46.864482",
     "exception": false,
     "start_time": "2025-07-30T20:49:46.769573",
     "status": "completed"
    },
    "tags": []
   },
   "outputs": [],
   "source": [
    "example_universe = universe.copy()\n",
    "universe_training_year = example_universe.get(\"training_year\")\n",
    "universe_training_size = example_universe.get(\"training_size\")\n",
    "universe_scale = example_universe.get(\"scale\")\n",
    "universe_model = example_universe.get(\"model\")\n",
    "universe_exclude_features = example_universe.get(\"exclude_features\")\n",
    "universe_exclude_subgroups = example_universe.get(\"exclude_subgroups\")"
   ]
  },
  {
   "cell_type": "code",
   "execution_count": 58,
   "id": "f4b6a8ac-9dc0-4245-8a91-5b3b5999c4f9",
   "metadata": {
    "execution": {
     "iopub.execute_input": "2025-07-30T20:49:46.914442Z",
     "iopub.status.busy": "2025-07-30T20:49:46.913958Z",
     "iopub.status.idle": "2025-07-30T20:49:46.920571Z",
     "shell.execute_reply": "2025-07-30T20:49:46.919529Z"
    },
    "papermill": {
     "duration": 0.033049,
     "end_time": "2025-07-30T20:49:46.922246",
     "exception": false,
     "start_time": "2025-07-30T20:49:46.889197",
     "status": "completed"
    },
    "tags": []
   },
   "outputs": [],
   "source": [
    "cp_metrics_dict = {\n",
    "    \"universe_id\": [universe_id],\n",
    "    \"universe_training_year\": [universe_training_year],\n",
    "    \"universe_training_size\": [universe_training_size],\n",
    "    \"universe_scale\": [universe_scale],\n",
    "    \"universe_model\": [universe_model],\n",
    "    \"universe_exclude_features\": [universe_exclude_features],\n",
    "    \"universe_exclude_subgroups\": [universe_exclude_subgroups],\n",
    "    \"q_hat\": [q_hat],\n",
    "    \"coverage\": [metrics[\"coverage\"]],\n",
    "    \"avg_size\": [metrics[\"avg_size\"]],\n",
    "}"
   ]
  },
  {
   "cell_type": "code",
   "execution_count": 59,
   "id": "908acbb1-0371-4915-85ca-3fa520d2efe2",
   "metadata": {
    "execution": {
     "iopub.execute_input": "2025-07-30T20:49:46.972234Z",
     "iopub.status.busy": "2025-07-30T20:49:46.971581Z",
     "iopub.status.idle": "2025-07-30T20:49:46.981844Z",
     "shell.execute_reply": "2025-07-30T20:49:46.980710Z"
    },
    "papermill": {
     "duration": 0.036755,
     "end_time": "2025-07-30T20:49:46.983653",
     "exception": false,
     "start_time": "2025-07-30T20:49:46.946898",
     "status": "completed"
    },
    "tags": []
   },
   "outputs": [
    {
     "data": {
      "text/plain": [
       "{'universe_id': ['28e8318163e778a98297f2792f73e3af'],\n",
       " 'universe_training_year': ['2014'],\n",
       " 'universe_training_size': ['5k'],\n",
       " 'universe_scale': ['scale'],\n",
       " 'universe_model': ['elasticnet'],\n",
       " 'universe_exclude_features': ['sex'],\n",
       " 'universe_exclude_subgroups': ['keep-all'],\n",
       " 'q_hat': [0.6841418850124528],\n",
       " 'coverage': [0.9104336194404191],\n",
       " 'avg_size': [1.1339204102106788]}"
      ]
     },
     "execution_count": 59,
     "metadata": {},
     "output_type": "execute_result"
    }
   ],
   "source": [
    "cp_metrics_dict"
   ]
  },
  {
   "cell_type": "code",
   "execution_count": 60,
   "id": "33007efc-14e9-4ec6-97ac-56a455c82265",
   "metadata": {
    "execution": {
     "iopub.execute_input": "2025-07-30T20:49:47.035595Z",
     "iopub.status.busy": "2025-07-30T20:49:47.035092Z",
     "iopub.status.idle": "2025-07-30T20:49:47.041650Z",
     "shell.execute_reply": "2025-07-30T20:49:47.040603Z"
    },
    "papermill": {
     "duration": 0.034589,
     "end_time": "2025-07-30T20:49:47.043245",
     "exception": false,
     "start_time": "2025-07-30T20:49:47.008656",
     "status": "completed"
    },
    "tags": []
   },
   "outputs": [],
   "source": [
    "cp_metrics_df = pd.DataFrame(cp_metrics_dict)"
   ]
  },
  {
   "cell_type": "code",
   "execution_count": 61,
   "id": "db12611b-57b2-4910-b9d0-355adfd6e7bf",
   "metadata": {
    "execution": {
     "iopub.execute_input": "2025-07-30T20:49:47.093728Z",
     "iopub.status.busy": "2025-07-30T20:49:47.092985Z",
     "iopub.status.idle": "2025-07-30T20:49:47.115396Z",
     "shell.execute_reply": "2025-07-30T20:49:47.114392Z"
    },
    "papermill": {
     "duration": 0.048838,
     "end_time": "2025-07-30T20:49:47.117070",
     "exception": false,
     "start_time": "2025-07-30T20:49:47.068232",
     "status": "completed"
    },
    "tags": []
   },
   "outputs": [
    {
     "data": {
      "text/html": [
       "<div>\n",
       "<style scoped>\n",
       "    .dataframe tbody tr th:only-of-type {\n",
       "        vertical-align: middle;\n",
       "    }\n",
       "\n",
       "    .dataframe tbody tr th {\n",
       "        vertical-align: top;\n",
       "    }\n",
       "\n",
       "    .dataframe thead th {\n",
       "        text-align: right;\n",
       "    }\n",
       "</style>\n",
       "<table border=\"1\" class=\"dataframe\">\n",
       "  <thead>\n",
       "    <tr style=\"text-align: right;\">\n",
       "      <th></th>\n",
       "      <th>universe_id</th>\n",
       "      <th>universe_training_year</th>\n",
       "      <th>universe_training_size</th>\n",
       "      <th>universe_scale</th>\n",
       "      <th>universe_model</th>\n",
       "      <th>universe_exclude_features</th>\n",
       "      <th>universe_exclude_subgroups</th>\n",
       "      <th>q_hat</th>\n",
       "      <th>coverage</th>\n",
       "      <th>avg_size</th>\n",
       "    </tr>\n",
       "  </thead>\n",
       "  <tbody>\n",
       "    <tr>\n",
       "      <th>0</th>\n",
       "      <td>28e8318163e778a98297f2792f73e3af</td>\n",
       "      <td>2014</td>\n",
       "      <td>5k</td>\n",
       "      <td>scale</td>\n",
       "      <td>elasticnet</td>\n",
       "      <td>sex</td>\n",
       "      <td>keep-all</td>\n",
       "      <td>0.684142</td>\n",
       "      <td>0.910434</td>\n",
       "      <td>1.13392</td>\n",
       "    </tr>\n",
       "  </tbody>\n",
       "</table>\n",
       "</div>"
      ],
      "text/plain": [
       "                        universe_id universe_training_year  \\\n",
       "0  28e8318163e778a98297f2792f73e3af                   2014   \n",
       "\n",
       "  universe_training_size universe_scale universe_model  \\\n",
       "0                     5k          scale     elasticnet   \n",
       "\n",
       "  universe_exclude_features universe_exclude_subgroups     q_hat  coverage  \\\n",
       "0                       sex                   keep-all  0.684142  0.910434   \n",
       "\n",
       "   avg_size  \n",
       "0   1.13392  "
      ]
     },
     "execution_count": 61,
     "metadata": {},
     "output_type": "execute_result"
    }
   ],
   "source": [
    "cp_metrics_df"
   ]
  },
  {
   "cell_type": "code",
   "execution_count": 62,
   "id": "b7fbde55-a0a1-47e4-9af6-fe4a17fa8c61",
   "metadata": {
    "execution": {
     "iopub.execute_input": "2025-07-30T20:49:47.173467Z",
     "iopub.status.busy": "2025-07-30T20:49:47.172810Z",
     "iopub.status.idle": "2025-07-30T20:49:47.180227Z",
     "shell.execute_reply": "2025-07-30T20:49:47.179106Z"
    },
    "papermill": {
     "duration": 0.037047,
     "end_time": "2025-07-30T20:49:47.181821",
     "exception": false,
     "start_time": "2025-07-30T20:49:47.144774",
     "status": "completed"
    },
    "tags": []
   },
   "outputs": [],
   "source": [
    "# Conditional Coverage & looking at subgroups"
   ]
  },
  {
   "cell_type": "code",
   "execution_count": 63,
   "id": "027ae886-68dd-4141-96c7-805a5450e1ef",
   "metadata": {
    "execution": {
     "iopub.execute_input": "2025-07-30T20:49:47.238454Z",
     "iopub.status.busy": "2025-07-30T20:49:47.238119Z",
     "iopub.status.idle": "2025-07-30T20:49:47.486088Z",
     "shell.execute_reply": "2025-07-30T20:49:47.485092Z"
    },
    "papermill": {
     "duration": 0.27693,
     "end_time": "2025-07-30T20:49:47.487576",
     "exception": false,
     "start_time": "2025-07-30T20:49:47.210646",
     "status": "completed"
    },
    "tags": []
   },
   "outputs": [],
   "source": [
    "from fairness_multiverse.conformal import build_cp_groups\n",
    "\n",
    "cp_groups_df = build_cp_groups(pred_sets, y_true, X_test.index, org_test)\n",
    "#needs universe_id and setting"
   ]
  },
  {
   "cell_type": "code",
   "execution_count": 64,
   "id": "01d5802c-663a-4d1f-9d69-e036faaffbf7",
   "metadata": {
    "execution": {
     "iopub.execute_input": "2025-07-30T20:49:47.542623Z",
     "iopub.status.busy": "2025-07-30T20:49:47.542180Z",
     "iopub.status.idle": "2025-07-30T20:49:47.546891Z",
     "shell.execute_reply": "2025-07-30T20:49:47.545956Z"
    },
    "papermill": {
     "duration": 0.033511,
     "end_time": "2025-07-30T20:49:47.548376",
     "exception": false,
     "start_time": "2025-07-30T20:49:47.514865",
     "status": "completed"
    },
    "tags": []
   },
   "outputs": [],
   "source": [
    "#delete\n",
    "#cp_groups_df"
   ]
  },
  {
   "cell_type": "code",
   "execution_count": 65,
   "id": "fa424af1-d1eb-443d-b717-2d279ada8408",
   "metadata": {
    "execution": {
     "iopub.execute_input": "2025-07-30T20:49:47.597284Z",
     "iopub.status.busy": "2025-07-30T20:49:47.596851Z",
     "iopub.status.idle": "2025-07-30T20:49:47.601286Z",
     "shell.execute_reply": "2025-07-30T20:49:47.600469Z"
    },
    "papermill": {
     "duration": 0.029632,
     "end_time": "2025-07-30T20:49:47.602749",
     "exception": false,
     "start_time": "2025-07-30T20:49:47.573117",
     "status": "completed"
    },
    "tags": []
   },
   "outputs": [],
   "source": [
    "#delete\n",
    "#percentage = (cp_groups_df['nongerman_female'] == 1).mean() * 100\n",
    "#print(percentage)\n"
   ]
  },
  {
   "cell_type": "code",
   "execution_count": 66,
   "id": "6cbdab96-b2b2-45af-ad54-d0516db2e28d",
   "metadata": {
    "execution": {
     "iopub.execute_input": "2025-07-30T20:49:47.652314Z",
     "iopub.status.busy": "2025-07-30T20:49:47.651685Z",
     "iopub.status.idle": "2025-07-30T20:49:49.242991Z",
     "shell.execute_reply": "2025-07-30T20:49:49.242119Z"
    },
    "papermill": {
     "duration": 1.617173,
     "end_time": "2025-07-30T20:49:49.244760",
     "exception": false,
     "start_time": "2025-07-30T20:49:47.627587",
     "status": "completed"
    },
    "tags": []
   },
   "outputs": [],
   "source": [
    "# Define covered = 1 if true_label is in the predicted set\n",
    "cp_groups_df['covered'] = cp_groups_df.apply(\n",
    "    lambda r: int(r['true_label'] in r['pred_set']),\n",
    "    axis=1\n",
    ")"
   ]
  },
  {
   "cell_type": "code",
   "execution_count": 67,
   "id": "338ff529-1a6b-4b87-a931-8e4788d52aad",
   "metadata": {
    "execution": {
     "iopub.execute_input": "2025-07-30T20:49:49.293986Z",
     "iopub.status.busy": "2025-07-30T20:49:49.293189Z",
     "iopub.status.idle": "2025-07-30T20:49:49.298246Z",
     "shell.execute_reply": "2025-07-30T20:49:49.297358Z"
    },
    "papermill": {
     "duration": 0.03061,
     "end_time": "2025-07-30T20:49:49.299804",
     "exception": false,
     "start_time": "2025-07-30T20:49:49.269194",
     "status": "completed"
    },
    "tags": []
   },
   "outputs": [],
   "source": [
    "#cp_groups_df"
   ]
  },
  {
   "cell_type": "code",
   "execution_count": 68,
   "id": "90032e27-66df-4540-9169-4e89cfbaa758",
   "metadata": {
    "execution": {
     "iopub.execute_input": "2025-07-30T20:49:49.349574Z",
     "iopub.status.busy": "2025-07-30T20:49:49.348746Z",
     "iopub.status.idle": "2025-07-30T20:49:49.360393Z",
     "shell.execute_reply": "2025-07-30T20:49:49.359449Z"
    },
    "papermill": {
     "duration": 0.037839,
     "end_time": "2025-07-30T20:49:49.362115",
     "exception": false,
     "start_time": "2025-07-30T20:49:49.324276",
     "status": "completed"
    },
    "tags": []
   },
   "outputs": [],
   "source": [
    "subgroups = ['frau1','nongerman','nongerman_male','nongerman_female']\n",
    "\n",
    "# Conditional coverage for subgroup==1\n",
    "cond_coverage = {\n",
    "    g: cp_groups_df.loc[cp_groups_df[g]==1, 'covered'].mean()\n",
    "    for g in subgroups\n",
    "}"
   ]
  },
  {
   "cell_type": "code",
   "execution_count": 69,
   "id": "1e348fb1-b9c3-45bc-ba23-f016827a7e0d",
   "metadata": {
    "execution": {
     "iopub.execute_input": "2025-07-30T20:49:49.414320Z",
     "iopub.status.busy": "2025-07-30T20:49:49.413686Z",
     "iopub.status.idle": "2025-07-30T20:49:49.420736Z",
     "shell.execute_reply": "2025-07-30T20:49:49.419780Z"
    },
    "papermill": {
     "duration": 0.03455,
     "end_time": "2025-07-30T20:49:49.422209",
     "exception": false,
     "start_time": "2025-07-30T20:49:49.387659",
     "status": "completed"
    },
    "tags": []
   },
   "outputs": [
    {
     "data": {
      "text/plain": [
       "{'frau1': 0.9096374174417038,\n",
       " 'nongerman': 0.9104586537921743,\n",
       " 'nongerman_male': 0.9274970728631902,\n",
       " 'nongerman_female': 0.8822652757078987}"
      ]
     },
     "execution_count": 69,
     "metadata": {},
     "output_type": "execute_result"
    }
   ],
   "source": [
    "cond_coverage"
   ]
  },
  {
   "cell_type": "code",
   "execution_count": 70,
   "id": "f5093324-c3dd-4d63-bc4c-8d945e5c8bbb",
   "metadata": {
    "execution": {
     "iopub.execute_input": "2025-07-30T20:49:49.474287Z",
     "iopub.status.busy": "2025-07-30T20:49:49.473609Z",
     "iopub.status.idle": "2025-07-30T20:49:49.480827Z",
     "shell.execute_reply": "2025-07-30T20:49:49.479939Z"
    },
    "papermill": {
     "duration": 0.034733,
     "end_time": "2025-07-30T20:49:49.482444",
     "exception": false,
     "start_time": "2025-07-30T20:49:49.447711",
     "status": "completed"
    },
    "tags": []
   },
   "outputs": [],
   "source": [
    "for subgroup, cov in cond_coverage.items():\n",
    "    cp_metrics_df[f\"cov_{subgroup}\"] = cov"
   ]
  },
  {
   "cell_type": "code",
   "execution_count": 71,
   "id": "6e872e10-dbe5-49e8-b554-5030c98ff75d",
   "metadata": {
    "execution": {
     "iopub.execute_input": "2025-07-30T20:49:49.534391Z",
     "iopub.status.busy": "2025-07-30T20:49:49.533928Z",
     "iopub.status.idle": "2025-07-30T20:49:49.552698Z",
     "shell.execute_reply": "2025-07-30T20:49:49.551730Z"
    },
    "papermill": {
     "duration": 0.046135,
     "end_time": "2025-07-30T20:49:49.554340",
     "exception": false,
     "start_time": "2025-07-30T20:49:49.508205",
     "status": "completed"
    },
    "tags": []
   },
   "outputs": [
    {
     "data": {
      "text/html": [
       "<div>\n",
       "<style scoped>\n",
       "    .dataframe tbody tr th:only-of-type {\n",
       "        vertical-align: middle;\n",
       "    }\n",
       "\n",
       "    .dataframe tbody tr th {\n",
       "        vertical-align: top;\n",
       "    }\n",
       "\n",
       "    .dataframe thead th {\n",
       "        text-align: right;\n",
       "    }\n",
       "</style>\n",
       "<table border=\"1\" class=\"dataframe\">\n",
       "  <thead>\n",
       "    <tr style=\"text-align: right;\">\n",
       "      <th></th>\n",
       "      <th>universe_id</th>\n",
       "      <th>universe_training_year</th>\n",
       "      <th>universe_training_size</th>\n",
       "      <th>universe_scale</th>\n",
       "      <th>universe_model</th>\n",
       "      <th>universe_exclude_features</th>\n",
       "      <th>universe_exclude_subgroups</th>\n",
       "      <th>q_hat</th>\n",
       "      <th>coverage</th>\n",
       "      <th>avg_size</th>\n",
       "      <th>cov_frau1</th>\n",
       "      <th>cov_nongerman</th>\n",
       "      <th>cov_nongerman_male</th>\n",
       "      <th>cov_nongerman_female</th>\n",
       "    </tr>\n",
       "  </thead>\n",
       "  <tbody>\n",
       "    <tr>\n",
       "      <th>0</th>\n",
       "      <td>28e8318163e778a98297f2792f73e3af</td>\n",
       "      <td>2014</td>\n",
       "      <td>5k</td>\n",
       "      <td>scale</td>\n",
       "      <td>elasticnet</td>\n",
       "      <td>sex</td>\n",
       "      <td>keep-all</td>\n",
       "      <td>0.684142</td>\n",
       "      <td>0.910434</td>\n",
       "      <td>1.13392</td>\n",
       "      <td>0.909637</td>\n",
       "      <td>0.910459</td>\n",
       "      <td>0.927497</td>\n",
       "      <td>0.882265</td>\n",
       "    </tr>\n",
       "  </tbody>\n",
       "</table>\n",
       "</div>"
      ],
      "text/plain": [
       "                        universe_id universe_training_year  \\\n",
       "0  28e8318163e778a98297f2792f73e3af                   2014   \n",
       "\n",
       "  universe_training_size universe_scale universe_model  \\\n",
       "0                     5k          scale     elasticnet   \n",
       "\n",
       "  universe_exclude_features universe_exclude_subgroups     q_hat  coverage  \\\n",
       "0                       sex                   keep-all  0.684142  0.910434   \n",
       "\n",
       "   avg_size  cov_frau1  cov_nongerman  cov_nongerman_male  \\\n",
       "0   1.13392   0.909637       0.910459            0.927497   \n",
       "\n",
       "   cov_nongerman_female  \n",
       "0              0.882265  "
      ]
     },
     "execution_count": 71,
     "metadata": {},
     "output_type": "execute_result"
    }
   ],
   "source": [
    "cp_metrics_df"
   ]
  },
  {
   "cell_type": "markdown",
   "id": "33774451",
   "metadata": {
    "papermill": {
     "duration": 0.024615,
     "end_time": "2025-07-30T20:49:49.604251",
     "exception": false,
     "start_time": "2025-07-30T20:49:49.579636",
     "status": "completed"
    },
    "tags": []
   },
   "source": [
    "# (Fairness) Metrics"
   ]
  },
  {
   "cell_type": "code",
   "execution_count": 72,
   "id": "debc5d62",
   "metadata": {
    "execution": {
     "iopub.execute_input": "2025-07-30T20:49:49.656768Z",
     "iopub.status.busy": "2025-07-30T20:49:49.656016Z",
     "iopub.status.idle": "2025-07-30T20:49:49.678487Z",
     "shell.execute_reply": "2025-07-30T20:49:49.677623Z"
    },
    "papermill": {
     "duration": 0.050443,
     "end_time": "2025-07-30T20:49:49.680165",
     "exception": false,
     "start_time": "2025-07-30T20:49:49.629722",
     "status": "completed"
    },
    "tags": []
   },
   "outputs": [],
   "source": [
    "# do I need to include maxdeutsch1.missing?\n",
    "\n",
    "import numpy as np\n",
    "\n",
    "colname_to_bin = \"maxdeutsch1\"\n",
    "majority_value = org_train[colname_to_bin].mode()[0]\n",
    "\n",
    "org_test[\"majmin\"] = np.where(org_test[colname_to_bin] == majority_value, \"majority\", \"minority\")"
   ]
  },
  {
   "cell_type": "code",
   "execution_count": 73,
   "id": "06a50de5",
   "metadata": {
    "execution": {
     "iopub.execute_input": "2025-07-30T20:49:49.732937Z",
     "iopub.status.busy": "2025-07-30T20:49:49.732265Z",
     "iopub.status.idle": "2025-07-30T20:49:52.379726Z",
     "shell.execute_reply": "2025-07-30T20:49:52.379010Z"
    },
    "papermill": {
     "duration": 2.67482,
     "end_time": "2025-07-30T20:49:52.381204",
     "exception": false,
     "start_time": "2025-07-30T20:49:49.706384",
     "status": "completed"
    },
    "tags": []
   },
   "outputs": [],
   "source": [
    "example_universe = universe.copy()\n",
    "example_universe[\"cutoff\"] = example_universe[\"cutoff\"][0]\n",
    "example_universe[\"eval_fairness_grouping\"] = example_universe[\"eval_fairness_grouping\"][0]\n",
    "fairness_dict, metric_frame = universe_analysis.compute_metrics(\n",
    "    example_universe,\n",
    "    y_pred_prob=probs_test,\n",
    "    y_test=y_true,\n",
    "    org_test=org_test,\n",
    ")"
   ]
  },
  {
   "cell_type": "markdown",
   "id": "f95d4e02",
   "metadata": {
    "papermill": {
     "duration": 0.013468,
     "end_time": "2025-07-30T20:49:52.414328",
     "exception": false,
     "start_time": "2025-07-30T20:49:52.400860",
     "status": "completed"
    },
    "tags": []
   },
   "source": [
    "# Overall"
   ]
  },
  {
   "cell_type": "markdown",
   "id": "bdee4871",
   "metadata": {
    "papermill": {
     "duration": 0.01317,
     "end_time": "2025-07-30T20:49:52.440624",
     "exception": false,
     "start_time": "2025-07-30T20:49:52.427454",
     "status": "completed"
    },
    "tags": []
   },
   "source": [
    "Fairness\n",
    "Main fairness target: Equalized Odds. Seems to be a better fit than equal opportunity, since we're not only interested in Y = 1. Seems to be a better fit than demographic parity, since we also care about accuracy, not just equal distribution of preds.\n",
    "\n",
    "Pick column for computation of fairness metrics\n",
    "\n",
    "Performance\n",
    "Overall performance measures, most interesting in relation to the measures split by group below"
   ]
  },
  {
   "cell_type": "code",
   "execution_count": 74,
   "id": "c4e067c6",
   "metadata": {
    "execution": {
     "iopub.execute_input": "2025-07-30T20:49:52.473261Z",
     "iopub.status.busy": "2025-07-30T20:49:52.472565Z",
     "iopub.status.idle": "2025-07-30T20:49:52.479582Z",
     "shell.execute_reply": "2025-07-30T20:49:52.478758Z"
    },
    "papermill": {
     "duration": 0.023071,
     "end_time": "2025-07-30T20:49:52.481264",
     "exception": false,
     "start_time": "2025-07-30T20:49:52.458193",
     "status": "completed"
    },
    "tags": []
   },
   "outputs": [
    {
     "data": {
      "text/plain": [
       "accuracy                   0.224312\n",
       "balanced accuracy          0.548486\n",
       "f1                         0.245645\n",
       "precision                  0.140329\n",
       "false positive rate        0.887560\n",
       "false negative rate        0.015468\n",
       "selection rate             0.900000\n",
       "count                  89710.000000\n",
       "dtype: float64"
      ]
     },
     "execution_count": 74,
     "metadata": {},
     "output_type": "execute_result"
    }
   ],
   "source": [
    "metric_frame.overall"
   ]
  },
  {
   "cell_type": "markdown",
   "id": "e968fe9d",
   "metadata": {
    "papermill": {
     "duration": 0.017945,
     "end_time": "2025-07-30T20:49:52.513842",
     "exception": false,
     "start_time": "2025-07-30T20:49:52.495897",
     "status": "completed"
    },
    "tags": []
   },
   "source": [
    "By Group"
   ]
  },
  {
   "cell_type": "code",
   "execution_count": 75,
   "id": "ec325bce",
   "metadata": {
    "execution": {
     "iopub.execute_input": "2025-07-30T20:49:52.541797Z",
     "iopub.status.busy": "2025-07-30T20:49:52.541351Z",
     "iopub.status.idle": "2025-07-30T20:49:52.555007Z",
     "shell.execute_reply": "2025-07-30T20:49:52.553961Z"
    },
    "papermill": {
     "duration": 0.029988,
     "end_time": "2025-07-30T20:49:52.557032",
     "exception": false,
     "start_time": "2025-07-30T20:49:52.527044",
     "status": "completed"
    },
    "tags": []
   },
   "outputs": [
    {
     "data": {
      "text/html": [
       "<div>\n",
       "<style scoped>\n",
       "    .dataframe tbody tr th:only-of-type {\n",
       "        vertical-align: middle;\n",
       "    }\n",
       "\n",
       "    .dataframe tbody tr th {\n",
       "        vertical-align: top;\n",
       "    }\n",
       "\n",
       "    .dataframe thead th {\n",
       "        text-align: right;\n",
       "    }\n",
       "</style>\n",
       "<table border=\"1\" class=\"dataframe\">\n",
       "  <thead>\n",
       "    <tr style=\"text-align: right;\">\n",
       "      <th></th>\n",
       "      <th>accuracy</th>\n",
       "      <th>balanced accuracy</th>\n",
       "      <th>f1</th>\n",
       "      <th>precision</th>\n",
       "      <th>false positive rate</th>\n",
       "      <th>false negative rate</th>\n",
       "      <th>selection rate</th>\n",
       "      <th>count</th>\n",
       "    </tr>\n",
       "    <tr>\n",
       "      <th>majmin</th>\n",
       "      <th></th>\n",
       "      <th></th>\n",
       "      <th></th>\n",
       "      <th></th>\n",
       "      <th></th>\n",
       "      <th></th>\n",
       "      <th></th>\n",
       "      <th></th>\n",
       "    </tr>\n",
       "  </thead>\n",
       "  <tbody>\n",
       "    <tr>\n",
       "      <th>majority</th>\n",
       "      <td>0.242330</td>\n",
       "      <td>0.556853</td>\n",
       "      <td>0.255589</td>\n",
       "      <td>0.146861</td>\n",
       "      <td>0.870648</td>\n",
       "      <td>0.015646</td>\n",
       "      <td>0.885673</td>\n",
       "      <td>69170.0</td>\n",
       "    </tr>\n",
       "    <tr>\n",
       "      <th>minority</th>\n",
       "      <td>0.163632</td>\n",
       "      <td>0.520895</td>\n",
       "      <td>0.213596</td>\n",
       "      <td>0.119782</td>\n",
       "      <td>0.943429</td>\n",
       "      <td>0.014780</td>\n",
       "      <td>0.948247</td>\n",
       "      <td>20540.0</td>\n",
       "    </tr>\n",
       "  </tbody>\n",
       "</table>\n",
       "</div>"
      ],
      "text/plain": [
       "          accuracy  balanced accuracy        f1  precision  \\\n",
       "majmin                                                       \n",
       "majority  0.242330           0.556853  0.255589   0.146861   \n",
       "minority  0.163632           0.520895  0.213596   0.119782   \n",
       "\n",
       "          false positive rate  false negative rate  selection rate    count  \n",
       "majmin                                                                       \n",
       "majority             0.870648             0.015646        0.885673  69170.0  \n",
       "minority             0.943429             0.014780        0.948247  20540.0  "
      ]
     },
     "execution_count": 75,
     "metadata": {},
     "output_type": "execute_result"
    }
   ],
   "source": [
    "metric_frame.by_group"
   ]
  },
  {
   "cell_type": "code",
   "execution_count": 76,
   "id": "a9ddbe63",
   "metadata": {
    "execution": {
     "iopub.execute_input": "2025-07-30T20:49:52.589116Z",
     "iopub.status.busy": "2025-07-30T20:49:52.588450Z",
     "iopub.status.idle": "2025-07-30T20:49:55.043954Z",
     "shell.execute_reply": "2025-07-30T20:49:55.042828Z"
    },
    "papermill": {
     "duration": 2.472293,
     "end_time": "2025-07-30T20:49:55.046075",
     "exception": false,
     "start_time": "2025-07-30T20:49:52.573782",
     "status": "completed"
    },
    "tags": []
   },
   "outputs": [
    {
     "data": {
      "text/plain": [
       "array([[<Axes: title={'center': 'accuracy'}, xlabel='majmin'>,\n",
       "        <Axes: title={'center': 'balanced accuracy'}, xlabel='majmin'>,\n",
       "        <Axes: title={'center': 'f1'}, xlabel='majmin'>],\n",
       "       [<Axes: title={'center': 'precision'}, xlabel='majmin'>,\n",
       "        <Axes: title={'center': 'false positive rate'}, xlabel='majmin'>,\n",
       "        <Axes: title={'center': 'false negative rate'}, xlabel='majmin'>],\n",
       "       [<Axes: title={'center': 'selection rate'}, xlabel='majmin'>,\n",
       "        <Axes: title={'center': 'count'}, xlabel='majmin'>,\n",
       "        <Axes: xlabel='majmin'>]], dtype=object)"
      ]
     },
     "execution_count": 76,
     "metadata": {},
     "output_type": "execute_result"
    },
    {
     "data": {
      "image/png": "[encoded data removed]",
      "text/plain": [
       "<Figure size 1200x800 with 9 Axes>"
      ]
     },
     "metadata": {},
     "output_type": "display_data"
    }
   ],
   "source": [
    "# In a graphic\n",
    "metric_frame.by_group.plot.bar(\n",
    "    subplots=True,\n",
    "    layout=[3, 3],\n",
    "    legend=False,\n",
    "    figsize=[12, 8],\n",
    "    title=\"Show all metrics\",\n",
    ")"
   ]
  },
  {
   "cell_type": "markdown",
   "id": "f57a0bac",
   "metadata": {
    "papermill": {
     "duration": 0.037543,
     "end_time": "2025-07-30T20:49:55.125047",
     "exception": false,
     "start_time": "2025-07-30T20:49:55.087504",
     "status": "completed"
    },
    "tags": []
   },
   "source": [
    "# Final Output"
   ]
  },
  {
   "cell_type": "code",
   "execution_count": 77,
   "id": "96d280a3",
   "metadata": {
    "execution": {
     "iopub.execute_input": "2025-07-30T20:49:55.188735Z",
     "iopub.status.busy": "2025-07-30T20:49:55.187962Z",
     "iopub.status.idle": "2025-07-30T20:49:55.197745Z",
     "shell.execute_reply": "2025-07-30T20:49:55.196761Z"
    },
    "papermill": {
     "duration": 0.044019,
     "end_time": "2025-07-30T20:49:55.199449",
     "exception": false,
     "start_time": "2025-07-30T20:49:55.155430",
     "status": "completed"
    },
    "tags": []
   },
   "outputs": [
    {
     "data": {
      "text/plain": [
       "4"
      ]
     },
     "execution_count": 77,
     "metadata": {},
     "output_type": "execute_result"
    }
   ],
   "source": [
    "sub_universes = universe_analysis.generate_sub_universes()\n",
    "len(sub_universes)"
   ]
  },
  {
   "cell_type": "code",
   "execution_count": 78,
   "id": "92adf7ba",
   "metadata": {
    "execution": {
     "iopub.execute_input": "2025-07-30T20:49:55.265484Z",
     "iopub.status.busy": "2025-07-30T20:49:55.264443Z",
     "iopub.status.idle": "2025-07-30T20:49:55.271213Z",
     "shell.execute_reply": "2025-07-30T20:49:55.270120Z"
    },
    "papermill": {
     "duration": 0.041835,
     "end_time": "2025-07-30T20:49:55.273229",
     "exception": false,
     "start_time": "2025-07-30T20:49:55.231394",
     "status": "completed"
    },
    "tags": []
   },
   "outputs": [],
   "source": [
    "def filter_sub_universe_data(sub_universe, org_test):\n",
    "    # Keep all rows — no filtering\n",
    "    keep_rows_mask = np.ones(org_test.shape[0], dtype=bool)\n",
    "\n",
    "    print(f\"[INFO] Keeping all rows: {keep_rows_mask.sum()} rows retained.\")\n",
    "    return keep_rows_mask"
   ]
  },
  {
   "cell_type": "code",
   "execution_count": 79,
   "id": "4a759155",
   "metadata": {
    "execution": {
     "iopub.execute_input": "2025-07-30T20:49:55.341698Z",
     "iopub.status.busy": "2025-07-30T20:49:55.340761Z",
     "iopub.status.idle": "2025-07-30T20:50:05.702190Z",
     "shell.execute_reply": "2025-07-30T20:50:05.700983Z"
    },
    "papermill": {
     "duration": 10.39643,
     "end_time": "2025-07-30T20:50:05.703904",
     "exception": false,
     "start_time": "2025-07-30T20:49:55.307474",
     "status": "completed"
    },
    "tags": []
   },
   "outputs": [
    {
     "name": "stdout",
     "output_type": "stream",
     "text": [
      "Stopping execution_time clock.\n",
      "[INFO] Keeping all rows: 89710 rows retained.\n"
     ]
    },
    {
     "name": "stdout",
     "output_type": "stream",
     "text": [
      "[INFO] Keeping all rows: 89710 rows retained.\n"
     ]
    },
    {
     "name": "stdout",
     "output_type": "stream",
     "text": [
      "[INFO] Keeping all rows: 89710 rows retained.\n"
     ]
    },
    {
     "name": "stdout",
     "output_type": "stream",
     "text": [
      "[INFO] Keeping all rows: 89710 rows retained.\n"
     ]
    },
    {
     "data": {
      "text/html": [
       "<div>\n",
       "<style scoped>\n",
       "    .dataframe tbody tr th:only-of-type {\n",
       "        vertical-align: middle;\n",
       "    }\n",
       "\n",
       "    .dataframe tbody tr th {\n",
       "        vertical-align: top;\n",
       "    }\n",
       "\n",
       "    .dataframe thead th {\n",
       "        text-align: right;\n",
       "    }\n",
       "</style>\n",
       "<table border=\"1\" class=\"dataframe\">\n",
       "  <thead>\n",
       "    <tr style=\"text-align: right;\">\n",
       "      <th></th>\n",
       "      <th>run_no</th>\n",
       "      <th>universe_id</th>\n",
       "      <th>universe_settings</th>\n",
       "      <th>execution_time</th>\n",
       "      <th>test_size_n</th>\n",
       "      <th>test_size_frac</th>\n",
       "      <th>fair_main_equalized_odds_difference</th>\n",
       "      <th>fair_main_equalized_odds_ratio</th>\n",
       "      <th>fair_main_demographic_parity_difference</th>\n",
       "      <th>fair_main_demographic_parity_ratio</th>\n",
       "      <th>...</th>\n",
       "      <th>perf_grp_precision_0</th>\n",
       "      <th>perf_grp_precision_1</th>\n",
       "      <th>perf_grp_false positive rate_0</th>\n",
       "      <th>perf_grp_false positive rate_1</th>\n",
       "      <th>perf_grp_false negative rate_0</th>\n",
       "      <th>perf_grp_false negative rate_1</th>\n",
       "      <th>perf_grp_selection rate_0</th>\n",
       "      <th>perf_grp_selection rate_1</th>\n",
       "      <th>perf_grp_count_0</th>\n",
       "      <th>perf_grp_count_1</th>\n",
       "    </tr>\n",
       "  </thead>\n",
       "  <tbody>\n",
       "    <tr>\n",
       "      <th>0</th>\n",
       "      <td>14</td>\n",
       "      <td>28e8318163e778a98297f2792f73e3af</td>\n",
       "      <td>{\"cutoff\": \"quantile_0.1\", \"eval_fairness_grou...</td>\n",
       "      <td>36.368305</td>\n",
       "      <td>89710</td>\n",
       "      <td>1.0</td>\n",
       "      <td>0.072781</td>\n",
       "      <td>0.922854</td>\n",
       "      <td>0.062574</td>\n",
       "      <td>0.934011</td>\n",
       "      <td>...</td>\n",
       "      <td>NaN</td>\n",
       "      <td>NaN</td>\n",
       "      <td>NaN</td>\n",
       "      <td>NaN</td>\n",
       "      <td>NaN</td>\n",
       "      <td>NaN</td>\n",
       "      <td>NaN</td>\n",
       "      <td>NaN</td>\n",
       "      <td>NaN</td>\n",
       "      <td>NaN</td>\n",
       "    </tr>\n",
       "    <tr>\n",
       "      <th>0</th>\n",
       "      <td>14</td>\n",
       "      <td>28e8318163e778a98297f2792f73e3af</td>\n",
       "      <td>{\"cutoff\": \"quantile_0.1\", \"eval_fairness_grou...</td>\n",
       "      <td>36.368305</td>\n",
       "      <td>89710</td>\n",
       "      <td>1.0</td>\n",
       "      <td>0.072781</td>\n",
       "      <td>0.922854</td>\n",
       "      <td>0.062574</td>\n",
       "      <td>0.934011</td>\n",
       "      <td>...</td>\n",
       "      <td>0.119782</td>\n",
       "      <td>0.146861</td>\n",
       "      <td>0.943429</td>\n",
       "      <td>0.870648</td>\n",
       "      <td>0.014780</td>\n",
       "      <td>0.015646</td>\n",
       "      <td>0.948247</td>\n",
       "      <td>0.885673</td>\n",
       "      <td>20540.0</td>\n",
       "      <td>69170.0</td>\n",
       "    </tr>\n",
       "    <tr>\n",
       "      <th>0</th>\n",
       "      <td>14</td>\n",
       "      <td>28e8318163e778a98297f2792f73e3af</td>\n",
       "      <td>{\"cutoff\": \"quantile_0.25\", \"eval_fairness_gro...</td>\n",
       "      <td>36.368305</td>\n",
       "      <td>89710</td>\n",
       "      <td>1.0</td>\n",
       "      <td>0.148541</td>\n",
       "      <td>0.822404</td>\n",
       "      <td>0.128566</td>\n",
       "      <td>0.848590</td>\n",
       "      <td>...</td>\n",
       "      <td>NaN</td>\n",
       "      <td>NaN</td>\n",
       "      <td>NaN</td>\n",
       "      <td>NaN</td>\n",
       "      <td>NaN</td>\n",
       "      <td>NaN</td>\n",
       "      <td>NaN</td>\n",
       "      <td>NaN</td>\n",
       "      <td>NaN</td>\n",
       "      <td>NaN</td>\n",
       "    </tr>\n",
       "    <tr>\n",
       "      <th>0</th>\n",
       "      <td>14</td>\n",
       "      <td>28e8318163e778a98297f2792f73e3af</td>\n",
       "      <td>{\"cutoff\": \"quantile_0.25\", \"eval_fairness_gro...</td>\n",
       "      <td>36.368305</td>\n",
       "      <td>89710</td>\n",
       "      <td>1.0</td>\n",
       "      <td>0.148541</td>\n",
       "      <td>0.822404</td>\n",
       "      <td>0.128566</td>\n",
       "      <td>0.848590</td>\n",
       "      <td>...</td>\n",
       "      <td>0.128548</td>\n",
       "      <td>0.171525</td>\n",
       "      <td>0.836397</td>\n",
       "      <td>0.687856</td>\n",
       "      <td>0.053209</td>\n",
       "      <td>0.064661</td>\n",
       "      <td>0.849124</td>\n",
       "      <td>0.720558</td>\n",
       "      <td>20540.0</td>\n",
       "      <td>69170.0</td>\n",
       "    </tr>\n",
       "  </tbody>\n",
       "</table>\n",
       "<p>4 rows × 50 columns</p>\n",
       "</div>"
      ],
      "text/plain": [
       "  run_no                       universe_id  \\\n",
       "0     14  28e8318163e778a98297f2792f73e3af   \n",
       "0     14  28e8318163e778a98297f2792f73e3af   \n",
       "0     14  28e8318163e778a98297f2792f73e3af   \n",
       "0     14  28e8318163e778a98297f2792f73e3af   \n",
       "\n",
       "                                   universe_settings  execution_time  \\\n",
       "0  {\"cutoff\": \"quantile_0.1\", \"eval_fairness_grou...       36.368305   \n",
       "0  {\"cutoff\": \"quantile_0.1\", \"eval_fairness_grou...       36.368305   \n",
       "0  {\"cutoff\": \"quantile_0.25\", \"eval_fairness_gro...       36.368305   \n",
       "0  {\"cutoff\": \"quantile_0.25\", \"eval_fairness_gro...       36.368305   \n",
       "\n",
       "   test_size_n  test_size_frac  fair_main_equalized_odds_difference  \\\n",
       "0        89710             1.0                             0.072781   \n",
       "0        89710             1.0                             0.072781   \n",
       "0        89710             1.0                             0.148541   \n",
       "0        89710             1.0                             0.148541   \n",
       "\n",
       "   fair_main_equalized_odds_ratio  fair_main_demographic_parity_difference  \\\n",
       "0                        0.922854                                 0.062574   \n",
       "0                        0.922854                                 0.062574   \n",
       "0                        0.822404                                 0.128566   \n",
       "0                        0.822404                                 0.128566   \n",
       "\n",
       "   fair_main_demographic_parity_ratio  ...  perf_grp_precision_0  \\\n",
       "0                            0.934011  ...                   NaN   \n",
       "0                            0.934011  ...              0.119782   \n",
       "0                            0.848590  ...                   NaN   \n",
       "0                            0.848590  ...              0.128548   \n",
       "\n",
       "   perf_grp_precision_1  perf_grp_false positive rate_0  \\\n",
       "0                   NaN                             NaN   \n",
       "0              0.146861                        0.943429   \n",
       "0                   NaN                             NaN   \n",
       "0              0.171525                        0.836397   \n",
       "\n",
       "   perf_grp_false positive rate_1  perf_grp_false negative rate_0  \\\n",
       "0                             NaN                             NaN   \n",
       "0                        0.870648                        0.014780   \n",
       "0                             NaN                             NaN   \n",
       "0                        0.687856                        0.053209   \n",
       "\n",
       "   perf_grp_false negative rate_1  perf_grp_selection rate_0  \\\n",
       "0                             NaN                        NaN   \n",
       "0                        0.015646                   0.948247   \n",
       "0                             NaN                        NaN   \n",
       "0                        0.064661                   0.849124   \n",
       "\n",
       "   perf_grp_selection rate_1  perf_grp_count_0  perf_grp_count_1  \n",
       "0                        NaN               NaN               NaN  \n",
       "0                   0.885673           20540.0           69170.0  \n",
       "0                        NaN               NaN               NaN  \n",
       "0                   0.720558           20540.0           69170.0  \n",
       "\n",
       "[4 rows x 50 columns]"
      ]
     },
     "execution_count": 79,
     "metadata": {},
     "output_type": "execute_result"
    }
   ],
   "source": [
    "final_output = universe_analysis.generate_final_output(\n",
    "    y_pred_prob=probs_test,\n",
    "    y_test=y_true,\n",
    "    org_test=org_test,\n",
    "    filter_data=filter_sub_universe_data,\n",
    "    cp_metrics_df=cp_metrics_df,\n",
    "    save=True,\n",
    ")\n",
    "final_output"
   ]
  },
  {
   "cell_type": "code",
   "execution_count": null,
   "id": "721ff514-cb11-46f8-b6fc-50392f74b5cb",
   "metadata": {
    "papermill": {
     "duration": 0.027459,
     "end_time": "2025-07-30T20:50:05.762492",
     "exception": false,
     "start_time": "2025-07-30T20:50:05.735033",
     "status": "completed"
    },
    "tags": []
   },
   "outputs": [],
   "source": []
  }
 ],
 "metadata": {
  "celltoolbar": "Tags",
  "kernelspec": {
   "display_name": "Python (CMA Fairness)",
   "language": "python",
   "name": "cma_fair_env"
  },
  "language_info": {
   "codemirror_mode": {
    "name": "ipython",
    "version": 3
   },
   "file_extension": ".py",
   "mimetype": "text/x-python",
   "name": "python",
   "nbconvert_exporter": "python",
   "pygments_lexer": "ipython3",
   "version": "3.10.12"
  },
  "papermill": {
   "default_parameters": {},
   "duration": 50.958656,
   "end_time": "2025-07-30T20:50:06.508759",
   "environment_variables": {},
   "exception": null,
   "input_path": "universe_analysis.ipynb",
   "output_path": "output/runs/14/notebooks/m_14-28e8318163e778a98297f2792f73e3af.ipynb",
   "parameters": {
    "output_dir": "output",
    "run_no": "14",
    "seed": "2023",
    "universe": "{\"cutoff\": [\"quantile_0.1\", \"quantile_0.25\"], \"eval_fairness_grouping\": [\"majority-minority\", \"nationality-all\"], \"exclude_features\": \"sex\", \"exclude_subgroups\": \"keep-all\", \"model\": \"elasticnet\", \"scale\": \"scale\", \"training_size\": \"5k\", \"training_year\": \"2014\"}",
    "universe_id": "28e8318163e778a98297f2792f73e3af"
   },
   "start_time": "2025-07-30T20:49:15.550103",
   "version": "2.6.0"
  }
 },
 "nbformat": 4,
 "nbformat_minor": 5
}