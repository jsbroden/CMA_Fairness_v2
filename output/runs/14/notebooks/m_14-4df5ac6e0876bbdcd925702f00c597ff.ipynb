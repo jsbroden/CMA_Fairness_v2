{
 "cells": [
  {
   "cell_type": "code",
   "execution_count": 1,
   "id": "f159f837-637b-42ba-96b5-ec9a68c44524",
   "metadata": {
    "execution": {
     "iopub.execute_input": "2025-07-30T20:11:33.399876Z",
     "iopub.status.busy": "2025-07-30T20:11:33.399490Z",
     "iopub.status.idle": "2025-07-30T20:11:33.414249Z",
     "shell.execute_reply": "2025-07-30T20:11:33.413231Z"
    },
    "papermill": {
     "duration": 0.040018,
     "end_time": "2025-07-30T20:11:33.416465",
     "exception": false,
     "start_time": "2025-07-30T20:11:33.376447",
     "status": "completed"
    },
    "tags": []
   },
   "outputs": [
    {
     "name": "stdout",
     "output_type": "stream",
     "text": [
      "/dss/dsshome1/0C/ra93lal2/cma/CMA_Fairness_v2\n"
     ]
    },
    {
     "name": "stderr",
     "output_type": "stream",
     "text": [
      "/dss/dsshome1/0C/ra93lal2/.local/share/virtualenvs/CMA_Fairness_v2-3j10GkSs/lib/python3.10/site-packages/IPython/core/magics/osm.py:393: UserWarning: This is now an optional IPython functionality, using bookmarks requires you to install the `pickleshare` library.\n",
      "  bkms = self.shell.db.get('bookmarks', {})\n",
      "/dss/dsshome1/0C/ra93lal2/.local/share/virtualenvs/CMA_Fairness_v2-3j10GkSs/lib/python3.10/site-packages/IPython/core/magics/osm.py:417: UserWarning: This is now an optional IPython functionality, setting dhist requires you to install the `pickleshare` library.\n",
      "  self.shell.db['dhist'] = compress_dhist(dhist)[-100:]\n"
     ]
    }
   ],
   "source": [
    "%cd ~/cma/CMA_Fairness_v2"
   ]
  },
  {
   "cell_type": "markdown",
   "id": "de2603b9",
   "metadata": {
    "papermill": {
     "duration": 0.037381,
     "end_time": "2025-07-30T20:11:33.516456",
     "exception": false,
     "start_time": "2025-07-30T20:11:33.479075",
     "status": "completed"
    },
    "tags": []
   },
   "source": [
    "The following cell holds the definition of our parameters, these values can be overriden by rendering the with e.g. the following command:\n",
    "\n",
    "papermill -p alpha 0.2 -p ratio 0.3 universe_analysis.ipynb output/test_run.ipynb"
   ]
  },
  {
   "cell_type": "code",
   "execution_count": 2,
   "id": "a80968a0-40bb-4fa9-85ef-2d5eefb01975",
   "metadata": {
    "execution": {
     "iopub.execute_input": "2025-07-30T20:11:33.576631Z",
     "iopub.status.busy": "2025-07-30T20:11:33.576226Z",
     "iopub.status.idle": "2025-07-30T20:11:33.581401Z",
     "shell.execute_reply": "2025-07-30T20:11:33.580573Z"
    },
    "papermill": {
     "duration": 0.026976,
     "end_time": "2025-07-30T20:11:33.583094",
     "exception": false,
     "start_time": "2025-07-30T20:11:33.556118",
     "status": "completed"
    },
    "tags": []
   },
   "outputs": [
    {
     "name": "stdout",
     "output_type": "stream",
     "text": [
      "Current working directory: /dss/dsshome1/0C/ra93lal2/cma/CMA_Fairness_v2\n"
     ]
    }
   ],
   "source": [
    "import os\n",
    "print(\"Current working directory:\", os.getcwd())"
   ]
  },
  {
   "cell_type": "code",
   "execution_count": 3,
   "id": "2dce4c03",
   "metadata": {
    "execution": {
     "iopub.execute_input": "2025-07-30T20:11:33.616557Z",
     "iopub.status.busy": "2025-07-30T20:11:33.616064Z",
     "iopub.status.idle": "2025-07-30T20:11:33.620736Z",
     "shell.execute_reply": "2025-07-30T20:11:33.619787Z"
    },
    "papermill": {
     "duration": 0.021189,
     "end_time": "2025-07-30T20:11:33.622775",
     "exception": false,
     "start_time": "2025-07-30T20:11:33.601586",
     "status": "completed"
    },
    "tags": [
     "parameters"
    ]
   },
   "outputs": [],
   "source": [
    "run_no = 0\n",
    "universe_id = \"test\"\n",
    "universe = {\n",
    "    \"training_size\": \"25k\", # \"25k\", \"5k\", \"1k\"\n",
    "    \"training_year\": \"2014\", # \"2014\", \"2012_14\", \"2010_14\"\n",
    "    \"scale\": \"scale\", # \"scale\", \"do-not-scale\",\n",
    "    #\"stratify_split\": \"target\", # \"none\", \"target\", \"protected-attribute\", \"both\",\n",
    "    \"model\": \"elasticnet\", # \"logreg\", \"penalized_logreg\", \"rf\", \"gbm\", \"elasticnet\"\n",
    "    \"cutoff\": [\"quantile_0.15\", \"quantile_0.30\"],\n",
    "    \"exclude_features\": \"age\", # \"none\", \"nationality\", \"sex\", \"nationality-sex\", \"age\"\n",
    "    \"exclude_subgroups\": \"keep-all\", # \"keep-all\", \"drop-non-german\"\n",
    "    \"eval_fairness_grouping\": [\"majority-minority\", \"nationality-all\"]\n",
    "}\n",
    "\n",
    "output_dir=\"./output\"\n",
    "seed=0"
   ]
  },
  {
   "cell_type": "code",
   "execution_count": 4,
   "id": "1764d23d",
   "metadata": {
    "execution": {
     "iopub.execute_input": "2025-07-30T20:11:33.657340Z",
     "iopub.status.busy": "2025-07-30T20:11:33.657006Z",
     "iopub.status.idle": "2025-07-30T20:11:33.661585Z",
     "shell.execute_reply": "2025-07-30T20:11:33.660676Z"
    },
    "papermill": {
     "duration": 0.021931,
     "end_time": "2025-07-30T20:11:33.662993",
     "exception": false,
     "start_time": "2025-07-30T20:11:33.641062",
     "status": "completed"
    },
    "tags": [
     "injected-parameters"
    ]
   },
   "outputs": [],
   "source": [
    "# Parameters\n",
    "universe_id = \"4df5ac6e0876bbdcd925702f00c597ff\"\n",
    "run_no = \"14\"\n",
    "universe = \"{\\\"cutoff\\\": [\\\"quantile_0.1\\\", \\\"quantile_0.25\\\"], \\\"eval_fairness_grouping\\\": [\\\"majority-minority\\\", \\\"nationality-all\\\"], \\\"exclude_features\\\": \\\"nationality-sex\\\", \\\"exclude_subgroups\\\": \\\"keep-all\\\", \\\"model\\\": \\\"rf\\\", \\\"scale\\\": \\\"scale\\\", \\\"training_size\\\": \\\"25k\\\", \\\"training_year\\\": \\\"2012_14\\\"}\"\n",
    "output_dir = \"output\"\n",
    "seed = \"2023\"\n"
   ]
  },
  {
   "cell_type": "code",
   "execution_count": 5,
   "id": "1650acaf",
   "metadata": {
    "execution": {
     "iopub.execute_input": "2025-07-30T20:11:33.688978Z",
     "iopub.status.busy": "2025-07-30T20:11:33.688638Z",
     "iopub.status.idle": "2025-07-30T20:11:33.775673Z",
     "shell.execute_reply": "2025-07-30T20:11:33.774916Z"
    },
    "papermill": {
     "duration": 0.101268,
     "end_time": "2025-07-30T20:11:33.778194",
     "exception": false,
     "start_time": "2025-07-30T20:11:33.676926",
     "status": "completed"
    },
    "tags": []
   },
   "outputs": [],
   "source": [
    "import json\n",
    "# Parse universe into dict if it is passed as a string\n",
    "if isinstance(universe, str):\n",
    "    universe = json.loads(universe)"
   ]
  },
  {
   "cell_type": "code",
   "execution_count": 6,
   "id": "16620c48",
   "metadata": {
    "execution": {
     "iopub.execute_input": "2025-07-30T20:11:33.837610Z",
     "iopub.status.busy": "2025-07-30T20:11:33.837121Z",
     "iopub.status.idle": "2025-07-30T20:11:33.886876Z",
     "shell.execute_reply": "2025-07-30T20:11:33.885965Z"
    },
    "papermill": {
     "duration": 0.072445,
     "end_time": "2025-07-30T20:11:33.888865",
     "exception": false,
     "start_time": "2025-07-30T20:11:33.816420",
     "status": "completed"
    },
    "tags": []
   },
   "outputs": [],
   "source": [
    "# Auto-reload the custom package\n",
    "%load_ext autoreload\n",
    "%autoreload 1\n",
    "%aimport fairness_multiverse"
   ]
  },
  {
   "cell_type": "code",
   "execution_count": 7,
   "id": "01c5c9f3",
   "metadata": {
    "execution": {
     "iopub.execute_input": "2025-07-30T20:11:34.016480Z",
     "iopub.status.busy": "2025-07-30T20:11:34.015567Z",
     "iopub.status.idle": "2025-07-30T20:11:36.617870Z",
     "shell.execute_reply": "2025-07-30T20:11:36.616895Z"
    },
    "papermill": {
     "duration": 2.653935,
     "end_time": "2025-07-30T20:11:36.619837",
     "exception": false,
     "start_time": "2025-07-30T20:11:33.965902",
     "status": "completed"
    },
    "tags": []
   },
   "outputs": [],
   "source": [
    "from fairness_multiverse.universe import UniverseAnalysis\n",
    "\n",
    "universe_analysis = UniverseAnalysis(\n",
    "    run_no = run_no,\n",
    "    universe_id = universe_id,\n",
    "    universe = universe,\n",
    "    output_dir=output_dir,\n",
    ")"
   ]
  },
  {
   "cell_type": "code",
   "execution_count": 8,
   "id": "106241f5",
   "metadata": {
    "execution": {
     "iopub.execute_input": "2025-07-30T20:11:36.661428Z",
     "iopub.status.busy": "2025-07-30T20:11:36.660951Z",
     "iopub.status.idle": "2025-07-30T20:11:36.685961Z",
     "shell.execute_reply": "2025-07-30T20:11:36.685049Z"
    },
    "papermill": {
     "duration": 0.058651,
     "end_time": "2025-07-30T20:11:36.697656",
     "exception": false,
     "start_time": "2025-07-30T20:11:36.639005",
     "status": "completed"
    },
    "tags": []
   },
   "outputs": [
    {
     "name": "stdout",
     "output_type": "stream",
     "text": [
      "Using Seed: 2023\n"
     ]
    }
   ],
   "source": [
    "import numpy as np\n",
    "parsed_seed = int(seed)\n",
    "np.random.seed(parsed_seed)\n",
    "print(f\"Using Seed: {parsed_seed}\")"
   ]
  },
  {
   "cell_type": "markdown",
   "id": "e0ebdc57",
   "metadata": {
    "papermill": {
     "duration": 0.0205,
     "end_time": "2025-07-30T20:11:36.741257",
     "exception": false,
     "start_time": "2025-07-30T20:11:36.720757",
     "status": "completed"
    },
    "tags": []
   },
   "source": [
    "# Loading Data"
   ]
  },
  {
   "cell_type": "markdown",
   "id": "681925a3",
   "metadata": {
    "papermill": {
     "duration": 0.020988,
     "end_time": "2025-07-30T20:11:36.806223",
     "exception": false,
     "start_time": "2025-07-30T20:11:36.785235",
     "status": "completed"
    },
    "tags": []
   },
   "source": [
    "Load siab_train, siab_test, siab_calib and/or \n",
    "load siab_train_features, siab_train_labels"
   ]
  },
  {
   "cell_type": "code",
   "execution_count": 9,
   "id": "f0496b8a",
   "metadata": {
    "execution": {
     "iopub.execute_input": "2025-07-30T20:11:36.853813Z",
     "iopub.status.busy": "2025-07-30T20:11:36.852795Z",
     "iopub.status.idle": "2025-07-30T20:11:48.989044Z",
     "shell.execute_reply": "2025-07-30T20:11:48.987856Z"
    },
    "papermill": {
     "duration": 12.162042,
     "end_time": "2025-07-30T20:11:48.990805",
     "exception": false,
     "start_time": "2025-07-30T20:11:36.828763",
     "status": "completed"
    },
    "tags": []
   },
   "outputs": [
    {
     "name": "stdout",
     "output_type": "stream",
     "text": [
      "Loading SIAB data from cache: data/siab_cached.csv.gz\n"
     ]
    },
    {
     "name": "stdout",
     "output_type": "stream",
     "text": [
      "(643690, 164)\n"
     ]
    }
   ],
   "source": [
    "from pathlib import Path\n",
    "import pandas as pd\n",
    "\n",
    "# File paths\n",
    "raw_file = Path(\"data/raw/siab.csv\")\n",
    "cache_file = Path(\"data/siab_cached.csv.gz\")\n",
    "\n",
    "# Ensure cache directory exists\n",
    "cache_file.parent.mkdir(parents=True, exist_ok=True)\n",
    "\n",
    "# Load with simple caching\n",
    "if cache_file.exists():\n",
    "    print(f\"Loading SIAB data from cache: {cache_file}\")\n",
    "    siab = pd.read_csv(cache_file, compression='gzip')\n",
    "else:\n",
    "    print(f\"Cache not found. Reading raw SIAB data: {raw_file}\")\n",
    "    siab = pd.read_csv(raw_file)\n",
    "    siab.to_csv(cache_file, index=False, compression='gzip')\n",
    "    print(f\"Cached SIAB data to: {cache_file}\")\n",
    "\n",
    "# Now use `siab` DataFrame as needed\n",
    "print(siab.shape)"
   ]
  },
  {
   "cell_type": "code",
   "execution_count": 10,
   "id": "db0ca512-5f53-4dba-abdb-a2888bca41ba",
   "metadata": {
    "execution": {
     "iopub.execute_input": "2025-07-30T20:11:49.036297Z",
     "iopub.status.busy": "2025-07-30T20:11:49.035616Z",
     "iopub.status.idle": "2025-07-30T20:11:49.041339Z",
     "shell.execute_reply": "2025-07-30T20:11:49.040406Z"
    },
    "papermill": {
     "duration": 0.028304,
     "end_time": "2025-07-30T20:11:49.043059",
     "exception": false,
     "start_time": "2025-07-30T20:11:49.014755",
     "status": "completed"
    },
    "tags": []
   },
   "outputs": [],
   "source": [
    "#siab"
   ]
  },
  {
   "cell_type": "code",
   "execution_count": 11,
   "id": "a0edb063",
   "metadata": {
    "execution": {
     "iopub.execute_input": "2025-07-30T20:11:49.084638Z",
     "iopub.status.busy": "2025-07-30T20:11:49.084161Z",
     "iopub.status.idle": "2025-07-30T20:11:49.088947Z",
     "shell.execute_reply": "2025-07-30T20:11:49.088004Z"
    },
    "papermill": {
     "duration": 0.038641,
     "end_time": "2025-07-30T20:11:49.101941",
     "exception": false,
     "start_time": "2025-07-30T20:11:49.063300",
     "status": "completed"
    },
    "tags": []
   },
   "outputs": [],
   "source": [
    "#import pandas as pd\n",
    "#\n",
    "#X_train = pd.read_csv(\"./data/X_train.csv\")\n",
    "#y_train = pd.read_csv(\"./data/y_train.csv\")"
   ]
  },
  {
   "cell_type": "code",
   "execution_count": 12,
   "id": "63d08085",
   "metadata": {
    "execution": {
     "iopub.execute_input": "2025-07-30T20:11:49.142187Z",
     "iopub.status.busy": "2025-07-30T20:11:49.141460Z",
     "iopub.status.idle": "2025-07-30T20:11:49.146466Z",
     "shell.execute_reply": "2025-07-30T20:11:49.145628Z"
    },
    "papermill": {
     "duration": 0.026723,
     "end_time": "2025-07-30T20:11:49.147903",
     "exception": false,
     "start_time": "2025-07-30T20:11:49.121180",
     "status": "completed"
    },
    "tags": []
   },
   "outputs": [],
   "source": [
    "#X_test = pd.read_csv(\"./data/X_test.csv\")\n",
    "#y_true = pd.read_csv(\"./data/y_test.csv\")"
   ]
  },
  {
   "cell_type": "code",
   "execution_count": 13,
   "id": "98a8d0fa-1d3d-4ed8-bb2c-281470e24add",
   "metadata": {
    "execution": {
     "iopub.execute_input": "2025-07-30T20:11:49.188602Z",
     "iopub.status.busy": "2025-07-30T20:11:49.188109Z",
     "iopub.status.idle": "2025-07-30T20:11:49.212210Z",
     "shell.execute_reply": "2025-07-30T20:11:49.211276Z"
    },
    "papermill": {
     "duration": 0.046437,
     "end_time": "2025-07-30T20:11:49.213868",
     "exception": false,
     "start_time": "2025-07-30T20:11:49.167431",
     "status": "completed"
    },
    "tags": []
   },
   "outputs": [],
   "source": [
    "# Calibration data for conformal\n",
    "#X_calib = pd.read_csv(\"./data/X_calib.csv\")\n",
    "#y_calib = pd.read_csv(\"./data/y_calib.csv\")"
   ]
  },
  {
   "cell_type": "markdown",
   "id": "997051c5-15bd-4b69-9786-c3001a3ce484",
   "metadata": {
    "papermill": {
     "duration": 0.021256,
     "end_time": "2025-07-30T20:11:49.255789",
     "exception": false,
     "start_time": "2025-07-30T20:11:49.234533",
     "status": "completed"
    },
    "tags": []
   },
   "source": [
    "# Splitting Data and Setting Training Data Size"
   ]
  },
  {
   "cell_type": "code",
   "execution_count": 14,
   "id": "e993b61f-042d-41a6-8c81-f55681f86335",
   "metadata": {
    "execution": {
     "iopub.execute_input": "2025-07-30T20:11:49.296271Z",
     "iopub.status.busy": "2025-07-30T20:11:49.295815Z",
     "iopub.status.idle": "2025-07-30T20:11:49.308787Z",
     "shell.execute_reply": "2025-07-30T20:11:49.307866Z"
    },
    "papermill": {
     "duration": 0.036273,
     "end_time": "2025-07-30T20:11:49.312039",
     "exception": false,
     "start_time": "2025-07-30T20:11:49.275766",
     "status": "completed"
    },
    "tags": []
   },
   "outputs": [],
   "source": [
    "def sample_by_year_size(df,\n",
    "                        training_year: str,\n",
    "                        training_size: str,\n",
    "                        random_state: int = 42):\n",
    "    # --- parse training_year into a list of int years ---\n",
    "    if \"_\" in training_year:\n",
    "        start_str, end_str = training_year.split(\"_\", 1)\n",
    "        start = int(start_str)\n",
    "        end   = int(end_str) if len(end_str) == 4 else (int(end_str) + (start // 100)*100)\n",
    "        years = list(range(start, end + 1))\n",
    "    else:\n",
    "        years = [int(training_year)]\n",
    "\n",
    "    df = df[df[\"year\"].isin(years)].reset_index(drop=True)\n",
    "\n",
    "    # --- map training_size to total number of samples ---\n",
    "    total_map = {\"25k\": 25_000, \"5k\": 5_000, \"1k\": 1_000}\n",
    "    if training_size not in total_map:\n",
    "        return df  # e.g. \"all\"\n",
    "\n",
    "    total_samples = total_map[training_size]\n",
    "    n_years       = len(years)\n",
    "    base          = total_samples // n_years\n",
    "    remainder     = total_samples % n_years\n",
    "\n",
    "    # --- build a dict: year -> how many to sample ---\n",
    "    # give +1 to the first `remainder` years in ascending order\n",
    "    quotas = {\n",
    "        year: base + (1 if idx < remainder else 0)\n",
    "        for idx, year in enumerate(sorted(years))\n",
    "    }\n",
    "\n",
    "    # --- sample per‐year according to the quota dict ---\n",
    "    sampled = (\n",
    "        df\n",
    "        .groupby(\"year\", group_keys=False)\n",
    "        .apply(lambda grp: grp.sample(\n",
    "            n=min(len(grp), quotas[grp.name]),\n",
    "            random_state=random_state))\n",
    "        .reset_index(drop=True)\n",
    "    )\n",
    "\n",
    "    return sampled"
   ]
  },
  {
   "cell_type": "code",
   "execution_count": 15,
   "id": "c0ccd338-0e02-41f3-a09d-f56f9266e3fb",
   "metadata": {
    "execution": {
     "iopub.execute_input": "2025-07-30T20:11:49.352733Z",
     "iopub.status.busy": "2025-07-30T20:11:49.352006Z",
     "iopub.status.idle": "2025-07-30T20:11:49.356970Z",
     "shell.execute_reply": "2025-07-30T20:11:49.355883Z"
    },
    "papermill": {
     "duration": 0.026561,
     "end_time": "2025-07-30T20:11:49.358817",
     "exception": false,
     "start_time": "2025-07-30T20:11:49.332256",
     "status": "completed"
    },
    "tags": []
   },
   "outputs": [],
   "source": [
    "#universe[\"training_size\"]"
   ]
  },
  {
   "cell_type": "code",
   "execution_count": 16,
   "id": "ca707fd7-8047-4acd-bfa5-66248fbbf8e6",
   "metadata": {
    "execution": {
     "iopub.execute_input": "2025-07-30T20:11:49.401174Z",
     "iopub.status.busy": "2025-07-30T20:11:49.400392Z",
     "iopub.status.idle": "2025-07-30T20:11:49.405266Z",
     "shell.execute_reply": "2025-07-30T20:11:49.404373Z"
    },
    "papermill": {
     "duration": 0.027147,
     "end_time": "2025-07-30T20:11:49.407085",
     "exception": false,
     "start_time": "2025-07-30T20:11:49.379938",
     "status": "completed"
    },
    "tags": []
   },
   "outputs": [],
   "source": [
    "#universe[\"training_year\"]"
   ]
  },
  {
   "cell_type": "code",
   "execution_count": 17,
   "id": "aea9c6ef-6f46-42c8-85eb-5a62025c1508",
   "metadata": {
    "execution": {
     "iopub.execute_input": "2025-07-30T20:11:49.451753Z",
     "iopub.status.busy": "2025-07-30T20:11:49.451286Z",
     "iopub.status.idle": "2025-07-30T20:11:50.112290Z",
     "shell.execute_reply": "2025-07-30T20:11:50.111342Z"
    },
    "papermill": {
     "duration": 0.685579,
     "end_time": "2025-07-30T20:11:50.114136",
     "exception": false,
     "start_time": "2025-07-30T20:11:49.428557",
     "status": "completed"
    },
    "tags": []
   },
   "outputs": [],
   "source": [
    "siab_train = sample_by_year_size(siab,\n",
    "                               training_year=universe[\"training_year\"],\n",
    "                               training_size=universe[\"training_size\"])"
   ]
  },
  {
   "cell_type": "code",
   "execution_count": 18,
   "id": "8d3afb32-789d-442c-8d5d-9f5aa8dd2eed",
   "metadata": {
    "execution": {
     "iopub.execute_input": "2025-07-30T20:11:50.183074Z",
     "iopub.status.busy": "2025-07-30T20:11:50.182677Z",
     "iopub.status.idle": "2025-07-30T20:11:50.187995Z",
     "shell.execute_reply": "2025-07-30T20:11:50.187016Z"
    },
    "papermill": {
     "duration": 0.045233,
     "end_time": "2025-07-30T20:11:50.189835",
     "exception": false,
     "start_time": "2025-07-30T20:11:50.144602",
     "status": "completed"
    },
    "tags": []
   },
   "outputs": [],
   "source": [
    "#siab_train.shape"
   ]
  },
  {
   "cell_type": "code",
   "execution_count": 19,
   "id": "d582db68-1a4c-47fb-84fc-08518dc1975a",
   "metadata": {
    "execution": {
     "iopub.execute_input": "2025-07-30T20:11:50.290056Z",
     "iopub.status.busy": "2025-07-30T20:11:50.289678Z",
     "iopub.status.idle": "2025-07-30T20:11:50.294652Z",
     "shell.execute_reply": "2025-07-30T20:11:50.293848Z"
    },
    "papermill": {
     "duration": 0.045674,
     "end_time": "2025-07-30T20:11:50.296372",
     "exception": false,
     "start_time": "2025-07-30T20:11:50.250698",
     "status": "completed"
    },
    "tags": []
   },
   "outputs": [],
   "source": [
    "#display(siab_train.groupby(\"year\").size())"
   ]
  },
  {
   "cell_type": "code",
   "execution_count": 20,
   "id": "a561edb4-d032-42cb-8256-22eac1111c64",
   "metadata": {
    "execution": {
     "iopub.execute_input": "2025-07-30T20:11:50.401150Z",
     "iopub.status.busy": "2025-07-30T20:11:50.400753Z",
     "iopub.status.idle": "2025-07-30T20:11:50.671646Z",
     "shell.execute_reply": "2025-07-30T20:11:50.670646Z"
    },
    "papermill": {
     "duration": 0.321069,
     "end_time": "2025-07-30T20:11:50.673358",
     "exception": false,
     "start_time": "2025-07-30T20:11:50.352289",
     "status": "completed"
    },
    "tags": []
   },
   "outputs": [],
   "source": [
    "#siab_train = siab_s[siab_s.year < 2015]\n",
    "siab_calib = siab[siab.year == 2015]\n",
    "siab_test = siab[siab.year == 2016]"
   ]
  },
  {
   "cell_type": "code",
   "execution_count": 21,
   "id": "472de16f-c3db-4916-846b-1f0de9cf1746",
   "metadata": {
    "execution": {
     "iopub.execute_input": "2025-07-30T20:11:50.759532Z",
     "iopub.status.busy": "2025-07-30T20:11:50.758577Z",
     "iopub.status.idle": "2025-07-30T20:11:50.780725Z",
     "shell.execute_reply": "2025-07-30T20:11:50.779395Z"
    },
    "papermill": {
     "duration": 0.067875,
     "end_time": "2025-07-30T20:11:50.782608",
     "exception": false,
     "start_time": "2025-07-30T20:11:50.714733",
     "status": "completed"
    },
    "tags": []
   },
   "outputs": [],
   "source": [
    "X_train = siab_train.iloc[:,4:164]\n",
    "y_train = siab_train.iloc[:, [3]]"
   ]
  },
  {
   "cell_type": "code",
   "execution_count": 22,
   "id": "828c96af-f43a-4ed6-ba47-8ac73a47d56c",
   "metadata": {
    "execution": {
     "iopub.execute_input": "2025-07-30T20:11:50.867084Z",
     "iopub.status.busy": "2025-07-30T20:11:50.866675Z",
     "iopub.status.idle": "2025-07-30T20:11:50.922688Z",
     "shell.execute_reply": "2025-07-30T20:11:50.918945Z"
    },
    "papermill": {
     "duration": 0.103792,
     "end_time": "2025-07-30T20:11:50.924648",
     "exception": false,
     "start_time": "2025-07-30T20:11:50.820856",
     "status": "completed"
    },
    "tags": []
   },
   "outputs": [],
   "source": [
    "X_calib = siab_calib.iloc[:,4:164]\n",
    "y_calib = siab_calib.iloc[:, [3]]"
   ]
  },
  {
   "cell_type": "code",
   "execution_count": 23,
   "id": "c34be9c3-6bd6-476e-acd3-845840e303be",
   "metadata": {
    "execution": {
     "iopub.execute_input": "2025-07-30T20:11:51.018882Z",
     "iopub.status.busy": "2025-07-30T20:11:51.018414Z",
     "iopub.status.idle": "2025-07-30T20:11:51.071304Z",
     "shell.execute_reply": "2025-07-30T20:11:51.070341Z"
    },
    "papermill": {
     "duration": 0.110235,
     "end_time": "2025-07-30T20:11:51.073196",
     "exception": false,
     "start_time": "2025-07-30T20:11:50.962961",
     "status": "completed"
    },
    "tags": []
   },
   "outputs": [],
   "source": [
    "X_test = siab_test.iloc[:,4:164]\n",
    "y_true = siab_test.iloc[:, [3]]"
   ]
  },
  {
   "cell_type": "markdown",
   "id": "9901737e-04df-44f0-9100-f5ad144ed040",
   "metadata": {
    "papermill": {
     "duration": 0.052642,
     "end_time": "2025-07-30T20:11:51.164565",
     "exception": false,
     "start_time": "2025-07-30T20:11:51.111923",
     "status": "completed"
    },
    "tags": []
   },
   "source": [
    "# Splitting Data and Setting Training Data Size OLD VERSION"
   ]
  },
  {
   "cell_type": "code",
   "execution_count": 24,
   "id": "acbc8f7d-8fc8-4e86-8c59-5dcb0f58384b",
   "metadata": {
    "execution": {
     "iopub.execute_input": "2025-07-30T20:11:51.220846Z",
     "iopub.status.busy": "2025-07-30T20:11:51.220315Z",
     "iopub.status.idle": "2025-07-30T20:11:51.226570Z",
     "shell.execute_reply": "2025-07-30T20:11:51.225595Z"
    },
    "papermill": {
     "duration": 0.033564,
     "end_time": "2025-07-30T20:11:51.230690",
     "exception": false,
     "start_time": "2025-07-30T20:11:51.197126",
     "status": "completed"
    },
    "tags": []
   },
   "outputs": [],
   "source": [
    "#def sample_by_year(df, training_size, random_state=42):\n",
    "#    if training_size == \"2014\":\n",
    "#        return df[df[\"year\"] == 2014].reset_index(drop=True)\n",
    "#    \n",
    "#    size_map = {\n",
    "#        \"25k\": 5000,\n",
    "#        \"5k\": 1000,\n",
    "#        \"1k\": 200\n",
    "#    }\n",
    "#\n",
    "#    if training_size not in size_map:\n",
    "#        return df.reset_index(drop=True)  # use all data\n",
    "#\n",
    "#    n_per_year = size_map[training_size]\n",
    "#    grouped = df.groupby(\"year\")\n",
    "#    sampled = grouped.apply(lambda x: x.sample(n=min(n_per_year, len(x)), random_state=random_state))\n",
    "#    return sampled.reset_index(drop=True)"
   ]
  },
  {
   "cell_type": "code",
   "execution_count": 25,
   "id": "6d931f52-beaf-43ff-9e78-9d44a448d54e",
   "metadata": {
    "execution": {
     "iopub.execute_input": "2025-07-30T20:11:51.314458Z",
     "iopub.status.busy": "2025-07-30T20:11:51.314033Z",
     "iopub.status.idle": "2025-07-30T20:11:51.319469Z",
     "shell.execute_reply": "2025-07-30T20:11:51.318582Z"
    },
    "papermill": {
     "duration": 0.05638,
     "end_time": "2025-07-30T20:11:51.321217",
     "exception": false,
     "start_time": "2025-07-30T20:11:51.264837",
     "status": "completed"
    },
    "tags": []
   },
   "outputs": [],
   "source": [
    "#siab_s = sample_by_year(siab, universe[\"training_size\"])"
   ]
  },
  {
   "cell_type": "code",
   "execution_count": 26,
   "id": "5db0a40e-a4e2-4920-be85-b12ae061d70d",
   "metadata": {
    "execution": {
     "iopub.execute_input": "2025-07-30T20:11:51.402073Z",
     "iopub.status.busy": "2025-07-30T20:11:51.401653Z",
     "iopub.status.idle": "2025-07-30T20:11:51.407053Z",
     "shell.execute_reply": "2025-07-30T20:11:51.406162Z"
    },
    "papermill": {
     "duration": 0.050812,
     "end_time": "2025-07-30T20:11:51.408649",
     "exception": false,
     "start_time": "2025-07-30T20:11:51.357837",
     "status": "completed"
    },
    "tags": []
   },
   "outputs": [],
   "source": [
    "#display(siab_s.groupby(\"year\").size())"
   ]
  },
  {
   "cell_type": "code",
   "execution_count": 27,
   "id": "e6c733c5",
   "metadata": {
    "execution": {
     "iopub.execute_input": "2025-07-30T20:11:51.493855Z",
     "iopub.status.busy": "2025-07-30T20:11:51.493470Z",
     "iopub.status.idle": "2025-07-30T20:11:51.686624Z",
     "shell.execute_reply": "2025-07-30T20:11:51.685699Z"
    },
    "papermill": {
     "duration": 0.256896,
     "end_time": "2025-07-30T20:11:51.688156",
     "exception": false,
     "start_time": "2025-07-30T20:11:51.431260",
     "status": "completed"
    },
    "tags": []
   },
   "outputs": [],
   "source": [
    "# Auxiliary data needed downstream in the pipeline\n",
    "\n",
    "org_train = X_train.copy()\n",
    "org_test = X_test.copy()\n",
    "org_calib = X_calib.copy()"
   ]
  },
  {
   "cell_type": "code",
   "execution_count": 28,
   "id": "1466abac-c6da-4492-a62f-4240ae3783af",
   "metadata": {
    "execution": {
     "iopub.execute_input": "2025-07-30T20:11:51.827143Z",
     "iopub.status.busy": "2025-07-30T20:11:51.826154Z",
     "iopub.status.idle": "2025-07-30T20:11:51.832478Z",
     "shell.execute_reply": "2025-07-30T20:11:51.831468Z"
    },
    "papermill": {
     "duration": 0.12038,
     "end_time": "2025-07-30T20:11:51.834350",
     "exception": false,
     "start_time": "2025-07-30T20:11:51.713970",
     "status": "completed"
    },
    "tags": []
   },
   "outputs": [],
   "source": [
    "# put in other script?\n",
    "# Group sizes\n",
    "\n",
    "#def calculate_percentages(df, df_name):\n",
    "#    total_entries = len(df)\n",
    "#\n",
    "#    female_pct = (df['frau1'] == 1).mean() * 100\n",
    "#    non_german_pct = ((df['maxdeutsch1'] == 0) & (df['maxdeutsch.Missing.'] == 0)).mean() * 100\n",
    "#    non_german_male_pct = ((df['frau1'] == 0) & (df['maxdeutsch1'] == 0) & (df['maxdeutsch.Missing.'] == 0)).mean() * 100\n",
    "#    non_german_female_pct = ((df['frau1'] == 1) & (df['maxdeutsch1'] == 0) & (df['maxdeutsch.Missing.'] == 0)).mean() * 100\n",
    "#\n",
    "#    print(f\"--- {df_name} ---\")\n",
    "#    print(f\"Female: {female_pct:.2f}%\")\n",
    "#    print(f\"Non-German: {non_german_pct:.2f}%\")\n",
    "#    print(f\"Non-German Male: {non_german_male_pct:.2f}%\")\n",
    "#    print(f\"Non-German Female: {non_german_female_pct:.2f}%\\n\")\n",
    "#\n",
    "## Calculate for each DataFrame\n",
    "#calculate_percentages(siab_calib, \"siab_calib\")\n",
    "#calculate_percentages(siab_test, \"siab_test\")\n",
    "#calculate_percentages(siab_train, \"siab_train\")"
   ]
  },
  {
   "cell_type": "markdown",
   "id": "0a4a1b33",
   "metadata": {
    "papermill": {
     "duration": 0.020648,
     "end_time": "2025-07-30T20:11:51.891305",
     "exception": false,
     "start_time": "2025-07-30T20:11:51.870657",
     "status": "completed"
    },
    "tags": []
   },
   "source": [
    "# Preprocessing Data"
   ]
  },
  {
   "cell_type": "code",
   "execution_count": 29,
   "id": "ca879031",
   "metadata": {
    "execution": {
     "iopub.execute_input": "2025-07-30T20:11:51.932668Z",
     "iopub.status.busy": "2025-07-30T20:11:51.932283Z",
     "iopub.status.idle": "2025-07-30T20:11:51.938241Z",
     "shell.execute_reply": "2025-07-30T20:11:51.937420Z"
    },
    "papermill": {
     "duration": 0.029715,
     "end_time": "2025-07-30T20:11:51.941067",
     "exception": false,
     "start_time": "2025-07-30T20:11:51.911352",
     "status": "completed"
    },
    "tags": []
   },
   "outputs": [],
   "source": [
    "# EXCLUDE PROTECTED FEATURES\n",
    "# ----------------------\n",
    "# \"exclude_features\": \"none\", # \"nationality\", \"sex\", \"nationality-sex\"\n",
    "\n",
    "excluded_features = universe[\"exclude_features\"].split(\"-\") # split, e.g.: \"nationality-sex\" -> [\"nationality\", \"sex\"]\n",
    "excluded_features_dictionary = {\n",
    "    \"nationality\": [\"maxdeutsch1\", \"maxdeutsch.Missing.\"],\n",
    "    \"sex\": [\"frau1\"],\n",
    "    \"age\": [\"age\"],\n",
    "}\n"
   ]
  },
  {
   "cell_type": "code",
   "execution_count": 30,
   "id": "b745ac60",
   "metadata": {
    "execution": {
     "iopub.execute_input": "2025-07-30T20:11:51.983968Z",
     "iopub.status.busy": "2025-07-30T20:11:51.983594Z",
     "iopub.status.idle": "2025-07-30T20:11:51.989794Z",
     "shell.execute_reply": "2025-07-30T20:11:51.988661Z"
    },
    "papermill": {
     "duration": 0.031083,
     "end_time": "2025-07-30T20:11:51.992954",
     "exception": false,
     "start_time": "2025-07-30T20:11:51.961871",
     "status": "completed"
    },
    "tags": []
   },
   "outputs": [],
   "source": [
    "# Code nice names to column names\n",
    "\n",
    "excluded_features_columns = [\n",
    "    excluded_features_dictionary[f] for f in excluded_features if len(f) > 0 and f != \"none\"\n",
    "]"
   ]
  },
  {
   "cell_type": "code",
   "execution_count": 31,
   "id": "f84f73a2",
   "metadata": {
    "execution": {
     "iopub.execute_input": "2025-07-30T20:11:52.035372Z",
     "iopub.status.busy": "2025-07-30T20:11:52.034930Z",
     "iopub.status.idle": "2025-07-30T20:11:52.042538Z",
     "shell.execute_reply": "2025-07-30T20:11:52.041526Z"
    },
    "papermill": {
     "duration": 0.032537,
     "end_time": "2025-07-30T20:11:52.046115",
     "exception": false,
     "start_time": "2025-07-30T20:11:52.013578",
     "status": "completed"
    },
    "tags": []
   },
   "outputs": [],
   "source": [
    "from utils import flatten_once\n",
    "\n",
    "excluded_features_columns = flatten_once(excluded_features_columns)"
   ]
  },
  {
   "cell_type": "code",
   "execution_count": 32,
   "id": "884dea22",
   "metadata": {
    "execution": {
     "iopub.execute_input": "2025-07-30T20:11:52.088343Z",
     "iopub.status.busy": "2025-07-30T20:11:52.087966Z",
     "iopub.status.idle": "2025-07-30T20:11:52.105946Z",
     "shell.execute_reply": "2025-07-30T20:11:52.104839Z"
    },
    "papermill": {
     "duration": 0.040931,
     "end_time": "2025-07-30T20:11:52.108143",
     "exception": false,
     "start_time": "2025-07-30T20:11:52.067212",
     "status": "completed"
    },
    "tags": []
   },
   "outputs": [
    {
     "name": "stdout",
     "output_type": "stream",
     "text": [
      "Dropping features: ['maxdeutsch1', 'maxdeutsch.Missing.', 'frau1']\n"
     ]
    }
   ],
   "source": [
    "if len(excluded_features_columns) > 0:\n",
    "    print(f\"Dropping features: {excluded_features_columns}\")\n",
    "    X_train.drop(excluded_features_columns, axis=1, inplace=True)"
   ]
  },
  {
   "cell_type": "code",
   "execution_count": 33,
   "id": "95ab8b16",
   "metadata": {
    "execution": {
     "iopub.execute_input": "2025-07-30T20:11:52.153086Z",
     "iopub.status.busy": "2025-07-30T20:11:52.152711Z",
     "iopub.status.idle": "2025-07-30T20:11:52.208212Z",
     "shell.execute_reply": "2025-07-30T20:11:52.207168Z"
    },
    "papermill": {
     "duration": 0.078568,
     "end_time": "2025-07-30T20:11:52.210039",
     "exception": false,
     "start_time": "2025-07-30T20:11:52.131471",
     "status": "completed"
    },
    "tags": []
   },
   "outputs": [
    {
     "name": "stdout",
     "output_type": "stream",
     "text": [
      "Dropping features: ['maxdeutsch1', 'maxdeutsch.Missing.', 'frau1']\n"
     ]
    }
   ],
   "source": [
    "if len(excluded_features_columns) > 0:\n",
    "    print(f\"Dropping features: {excluded_features_columns}\")\n",
    "    X_test.drop(excluded_features_columns, axis=1, inplace=True)"
   ]
  },
  {
   "cell_type": "code",
   "execution_count": 34,
   "id": "1853aaf5-fb9f-46cb-a2b5-8ea4ae2237e4",
   "metadata": {
    "execution": {
     "iopub.execute_input": "2025-07-30T20:11:52.283395Z",
     "iopub.status.busy": "2025-07-30T20:11:52.283009Z",
     "iopub.status.idle": "2025-07-30T20:11:52.332910Z",
     "shell.execute_reply": "2025-07-30T20:11:52.331762Z"
    },
    "papermill": {
     "duration": 0.08666,
     "end_time": "2025-07-30T20:11:52.334806",
     "exception": false,
     "start_time": "2025-07-30T20:11:52.248146",
     "status": "completed"
    },
    "tags": []
   },
   "outputs": [
    {
     "name": "stdout",
     "output_type": "stream",
     "text": [
      "Dropping features: ['maxdeutsch1', 'maxdeutsch.Missing.', 'frau1']\n"
     ]
    }
   ],
   "source": [
    "if len(excluded_features_columns) > 0:\n",
    "    print(f\"Dropping features: {excluded_features_columns}\")\n",
    "    X_calib.drop(excluded_features_columns, axis=1, inplace=True)"
   ]
  },
  {
   "cell_type": "code",
   "execution_count": 35,
   "id": "6727d079-03e5-481e-9d38-292a90b7a0a8",
   "metadata": {
    "execution": {
     "iopub.execute_input": "2025-07-30T20:11:52.396593Z",
     "iopub.status.busy": "2025-07-30T20:11:52.396154Z",
     "iopub.status.idle": "2025-07-30T20:11:52.401529Z",
     "shell.execute_reply": "2025-07-30T20:11:52.400312Z"
    },
    "papermill": {
     "duration": 0.032275,
     "end_time": "2025-07-30T20:11:52.404836",
     "exception": false,
     "start_time": "2025-07-30T20:11:52.372561",
     "status": "completed"
    },
    "tags": []
   },
   "outputs": [],
   "source": [
    "# SPLIT & STRATIFY DATA\n",
    "# ----------------------"
   ]
  },
  {
   "cell_type": "code",
   "execution_count": 36,
   "id": "76c4dc6d",
   "metadata": {
    "execution": {
     "iopub.execute_input": "2025-07-30T20:11:52.453714Z",
     "iopub.status.busy": "2025-07-30T20:11:52.453301Z",
     "iopub.status.idle": "2025-07-30T20:11:52.459042Z",
     "shell.execute_reply": "2025-07-30T20:11:52.458099Z"
    },
    "papermill": {
     "duration": 0.033271,
     "end_time": "2025-07-30T20:11:52.462274",
     "exception": false,
     "start_time": "2025-07-30T20:11:52.429003",
     "status": "completed"
    },
    "tags": []
   },
   "outputs": [],
   "source": [
    "# EXCLUDE CERTAIN SUBGROUPS\n",
    "# ----------------------\n",
    "\n",
    "mode = universe.get(\"exclude_subgroups\", \"keep-all\") \n",
    "# Fetches the exclude_subgroups setting from the universe dict.\n",
    "# Defaults to \"keep-all\" if the key is missing."
   ]
  },
  {
   "cell_type": "code",
   "execution_count": 37,
   "id": "21994072",
   "metadata": {
    "execution": {
     "iopub.execute_input": "2025-07-30T20:11:52.508974Z",
     "iopub.status.busy": "2025-07-30T20:11:52.508566Z",
     "iopub.status.idle": "2025-07-30T20:11:52.515403Z",
     "shell.execute_reply": "2025-07-30T20:11:52.514472Z"
    },
    "papermill": {
     "duration": 0.032967,
     "end_time": "2025-07-30T20:11:52.518338",
     "exception": false,
     "start_time": "2025-07-30T20:11:52.485371",
     "status": "completed"
    },
    "tags": []
   },
   "outputs": [],
   "source": [
    "if mode == \"keep-all\":\n",
    "    keep_mask = pd.Series(True, index=org_train.index)\n",
    "\n",
    "# org_train contains the original feature columns from features_org (in Simson)\n",
    "# features_org contains unprocessed features, for me X_train at beginning ???\n",
    "# For keep-all, creates a boolean Series (keep_mask) of all True, so no rows are removed.\n",
    "\n",
    "elif mode == \"drop-non-german\":\n",
    "    keep_mask = org_train[\"maxdeutsch1\"] == 1 # ??? what about missing values?\n",
    "\n",
    "else:\n",
    "    raise ValueError(f\"Unsupported mode for exclude_subgroups: {mode}\")\n"
   ]
  },
  {
   "cell_type": "code",
   "execution_count": 38,
   "id": "71651440",
   "metadata": {
    "execution": {
     "iopub.execute_input": "2025-07-30T20:11:52.562249Z",
     "iopub.status.busy": "2025-07-30T20:11:52.561513Z",
     "iopub.status.idle": "2025-07-30T20:11:52.566823Z",
     "shell.execute_reply": "2025-07-30T20:11:52.566061Z"
    },
    "papermill": {
     "duration": 0.028726,
     "end_time": "2025-07-30T20:11:52.568432",
     "exception": false,
     "start_time": "2025-07-30T20:11:52.539706",
     "status": "completed"
    },
    "tags": []
   },
   "outputs": [],
   "source": [
    "n_drop = (~keep_mask).sum() # Calculates how many rows are set to be dropped\n",
    "if n_drop > 0:\n",
    "    pct = n_drop / len(keep_mask) * 100\n",
    "    print(f\"Dropping {n_drop} rows ({pct:.2f}%) where mode='{mode}'\")"
   ]
  },
  {
   "cell_type": "code",
   "execution_count": 39,
   "id": "5fb8eee5",
   "metadata": {
    "execution": {
     "iopub.execute_input": "2025-07-30T20:11:52.612772Z",
     "iopub.status.busy": "2025-07-30T20:11:52.612261Z",
     "iopub.status.idle": "2025-07-30T20:11:52.628643Z",
     "shell.execute_reply": "2025-07-30T20:11:52.627623Z"
    },
    "papermill": {
     "duration": 0.039988,
     "end_time": "2025-07-30T20:11:52.630450",
     "exception": false,
     "start_time": "2025-07-30T20:11:52.590462",
     "status": "completed"
    },
    "tags": []
   },
   "outputs": [],
   "source": [
    "X_train = X_train[keep_mask]"
   ]
  },
  {
   "cell_type": "code",
   "execution_count": 40,
   "id": "b202bb3a",
   "metadata": {
    "execution": {
     "iopub.execute_input": "2025-07-30T20:11:52.677466Z",
     "iopub.status.busy": "2025-07-30T20:11:52.676800Z",
     "iopub.status.idle": "2025-07-30T20:11:52.684576Z",
     "shell.execute_reply": "2025-07-30T20:11:52.683476Z"
    },
    "papermill": {
     "duration": 0.03255,
     "end_time": "2025-07-30T20:11:52.686152",
     "exception": false,
     "start_time": "2025-07-30T20:11:52.653602",
     "status": "completed"
    },
    "tags": []
   },
   "outputs": [],
   "source": [
    "y_train = y_train[keep_mask]"
   ]
  },
  {
   "cell_type": "markdown",
   "id": "493e2ac3",
   "metadata": {
    "papermill": {
     "duration": 0.021351,
     "end_time": "2025-07-30T20:11:52.731471",
     "exception": false,
     "start_time": "2025-07-30T20:11:52.710120",
     "status": "completed"
    },
    "tags": []
   },
   "source": [
    "# Model Training"
   ]
  },
  {
   "cell_type": "code",
   "execution_count": 41,
   "id": "679e1268",
   "metadata": {
    "execution": {
     "iopub.execute_input": "2025-07-30T20:11:52.777029Z",
     "iopub.status.busy": "2025-07-30T20:11:52.776645Z",
     "iopub.status.idle": "2025-07-30T20:11:52.882512Z",
     "shell.execute_reply": "2025-07-30T20:11:52.881476Z"
    },
    "papermill": {
     "duration": 0.131831,
     "end_time": "2025-07-30T20:11:52.884919",
     "exception": false,
     "start_time": "2025-07-30T20:11:52.753088",
     "status": "completed"
    },
    "tags": []
   },
   "outputs": [],
   "source": [
    "from sklearn.linear_model import LogisticRegression\n",
    "from sklearn.ensemble import GradientBoostingClassifier, RandomForestClassifier\n",
    "\n",
    "if (universe[\"model\"] == \"logreg\"):\n",
    "    model = LogisticRegression() #penalty=\"none\") #, solver=\"newton-cg\", max_iter=1) # include random_state=19 ?\n",
    "elif (universe[\"model\"] == \"penalized_logreg\"):\n",
    "    model = LogisticRegression(penalty=\"l2\", C=1.0) #, solver=\"newton-cg\", max_iter=1)\n",
    "elif (universe[\"model\"] == \"rf\"):\n",
    "    model = RandomForestClassifier(n_estimators=100, n_jobs=-1)\n",
    "elif (universe[\"model\"] == \"gbm\"):\n",
    "    model = GradientBoostingClassifier()\n",
    "elif (universe[\"model\"] == \"elasticnet\"):\n",
    "    model = LogisticRegression(penalty = 'elasticnet', solver = 'saga', l1_ratio = 0.5, max_iter=5000) # which solver to use?\n",
    "else:\n",
    "    raise \"Unsupported universe.model\""
   ]
  },
  {
   "cell_type": "code",
   "execution_count": 42,
   "id": "0cc8f744",
   "metadata": {
    "execution": {
     "iopub.execute_input": "2025-07-30T20:11:52.935859Z",
     "iopub.status.busy": "2025-07-30T20:11:52.935385Z",
     "iopub.status.idle": "2025-07-30T20:11:52.942020Z",
     "shell.execute_reply": "2025-07-30T20:11:52.941064Z"
    },
    "papermill": {
     "duration": 0.032643,
     "end_time": "2025-07-30T20:11:52.943841",
     "exception": false,
     "start_time": "2025-07-30T20:11:52.911198",
     "status": "completed"
    },
    "tags": []
   },
   "outputs": [],
   "source": [
    "import numpy as np\n",
    "from sklearn.pipeline import Pipeline\n",
    "from sklearn.preprocessing import StandardScaler\n",
    "\n",
    "model = Pipeline([\n",
    "    #(\"continuous_processor\", continuous_processor),\n",
    "    #(\"categorical_preprocessor\", categorical_preprocessor),\n",
    "    (\"scale\", StandardScaler() if universe[\"scale\"] == \"scale\" else None), \n",
    "    (\"model\", model),\n",
    "])"
   ]
  },
  {
   "cell_type": "code",
   "execution_count": 43,
   "id": "9442c04d",
   "metadata": {
    "execution": {
     "iopub.execute_input": "2025-07-30T20:11:52.990806Z",
     "iopub.status.busy": "2025-07-30T20:11:52.990380Z",
     "iopub.status.idle": "2025-07-30T20:11:56.621106Z",
     "shell.execute_reply": "2025-07-30T20:11:56.620085Z"
    },
    "papermill": {
     "duration": 3.667209,
     "end_time": "2025-07-30T20:11:56.633671",
     "exception": false,
     "start_time": "2025-07-30T20:11:52.966462",
     "status": "completed"
    },
    "tags": []
   },
   "outputs": [
    {
     "data": {
      "text/html": [
       "<style>#sk-container-id-1 {color: black;background-color: white;}#sk-container-id-1 pre{padding: 0;}#sk-container-id-1 div.sk-toggleable {background-color: white;}#sk-container-id-1 label.sk-toggleable__label {cursor: pointer;display: block;width: 100%;margin-bottom: 0;padding: 0.3em;box-sizing: border-box;text-align: center;}#sk-container-id-1 label.sk-toggleable__label-arrow:before {content: \"▸\";float: left;margin-right: 0.25em;color: #696969;}#sk-container-id-1 label.sk-toggleable__label-arrow:hover:before {color: black;}#sk-container-id-1 div.sk-estimator:hover label.sk-toggleable__label-arrow:before {color: black;}#sk-container-id-1 div.sk-toggleable__content {max-height: 0;max-width: 0;overflow: hidden;text-align: left;background-color: #f0f8ff;}#sk-container-id-1 div.sk-toggleable__content pre {margin: 0.2em;color: black;border-radius: 0.25em;background-color: #f0f8ff;}#sk-container-id-1 input.sk-toggleable__control:checked~div.sk-toggleable__content {max-height: 200px;max-width: 100%;overflow: auto;}#sk-container-id-1 input.sk-toggleable__control:checked~label.sk-toggleable__label-arrow:before {content: \"▾\";}#sk-container-id-1 div.sk-estimator input.sk-toggleable__control:checked~label.sk-toggleable__label {background-color: #d4ebff;}#sk-container-id-1 div.sk-label input.sk-toggleable__control:checked~label.sk-toggleable__label {background-color: #d4ebff;}#sk-container-id-1 input.sk-hidden--visually {border: 0;clip: rect(1px 1px 1px 1px);clip: rect(1px, 1px, 1px, 1px);height: 1px;margin: -1px;overflow: hidden;padding: 0;position: absolute;width: 1px;}#sk-container-id-1 div.sk-estimator {font-family: monospace;background-color: #f0f8ff;border: 1px dotted black;border-radius: 0.25em;box-sizing: border-box;margin-bottom: 0.5em;}#sk-container-id-1 div.sk-estimator:hover {background-color: #d4ebff;}#sk-container-id-1 div.sk-parallel-item::after {content: \"\";width: 100%;border-bottom: 1px solid gray;flex-grow: 1;}#sk-container-id-1 div.sk-label:hover label.sk-toggleable__label {background-color: #d4ebff;}#sk-container-id-1 div.sk-serial::before {content: \"\";position: absolute;border-left: 1px solid gray;box-sizing: border-box;top: 0;bottom: 0;left: 50%;z-index: 0;}#sk-container-id-1 div.sk-serial {display: flex;flex-direction: column;align-items: center;background-color: white;padding-right: 0.2em;padding-left: 0.2em;position: relative;}#sk-container-id-1 div.sk-item {position: relative;z-index: 1;}#sk-container-id-1 div.sk-parallel {display: flex;align-items: stretch;justify-content: center;background-color: white;position: relative;}#sk-container-id-1 div.sk-item::before, #sk-container-id-1 div.sk-parallel-item::before {content: \"\";position: absolute;border-left: 1px solid gray;box-sizing: border-box;top: 0;bottom: 0;left: 50%;z-index: -1;}#sk-container-id-1 div.sk-parallel-item {display: flex;flex-direction: column;z-index: 1;position: relative;background-color: white;}#sk-container-id-1 div.sk-parallel-item:first-child::after {align-self: flex-end;width: 50%;}#sk-container-id-1 div.sk-parallel-item:last-child::after {align-self: flex-start;width: 50%;}#sk-container-id-1 div.sk-parallel-item:only-child::after {width: 0;}#sk-container-id-1 div.sk-dashed-wrapped {border: 1px dashed gray;margin: 0 0.4em 0.5em 0.4em;box-sizing: border-box;padding-bottom: 0.4em;background-color: white;}#sk-container-id-1 div.sk-label label {font-family: monospace;font-weight: bold;display: inline-block;line-height: 1.2em;}#sk-container-id-1 div.sk-label-container {text-align: center;}#sk-container-id-1 div.sk-container {/* jupyter's `normalize.less` sets `[hidden] { display: none; }` but bootstrap.min.css set `[hidden] { display: none !important; }` so we also need the `!important` here to be able to override the default hidden behavior on the sphinx rendered scikit-learn.org. See: https://github.com/scikit-learn/scikit-learn/issues/21755 */display: inline-block !important;position: relative;}#sk-container-id-1 div.sk-text-repr-fallback {display: none;}</style><div id=\"sk-container-id-1\" class=\"sk-top-container\"><div class=\"sk-text-repr-fallback\"><pre>Pipeline(steps=[(&#x27;scale&#x27;, StandardScaler()),\n",
       "                (&#x27;model&#x27;, RandomForestClassifier(n_jobs=-1))])</pre><b>In a Jupyter environment, please rerun this cell to show the HTML representation or trust the notebook. <br />On GitHub, the HTML representation is unable to render, please try loading this page with nbviewer.org.</b></div><div class=\"sk-container\" hidden><div class=\"sk-item sk-dashed-wrapped\"><div class=\"sk-label-container\"><div class=\"sk-label sk-toggleable\"><input class=\"sk-toggleable__control sk-hidden--visually\" id=\"sk-estimator-id-1\" type=\"checkbox\" ><label for=\"sk-estimator-id-1\" class=\"sk-toggleable__label sk-toggleable__label-arrow\">Pipeline</label><div class=\"sk-toggleable__content\"><pre>Pipeline(steps=[(&#x27;scale&#x27;, StandardScaler()),\n",
       "                (&#x27;model&#x27;, RandomForestClassifier(n_jobs=-1))])</pre></div></div></div><div class=\"sk-serial\"><div class=\"sk-item\"><div class=\"sk-estimator sk-toggleable\"><input class=\"sk-toggleable__control sk-hidden--visually\" id=\"sk-estimator-id-2\" type=\"checkbox\" ><label for=\"sk-estimator-id-2\" class=\"sk-toggleable__label sk-toggleable__label-arrow\">StandardScaler</label><div class=\"sk-toggleable__content\"><pre>StandardScaler()</pre></div></div></div><div class=\"sk-item\"><div class=\"sk-estimator sk-toggleable\"><input class=\"sk-toggleable__control sk-hidden--visually\" id=\"sk-estimator-id-3\" type=\"checkbox\" ><label for=\"sk-estimator-id-3\" class=\"sk-toggleable__label sk-toggleable__label-arrow\">RandomForestClassifier</label><div class=\"sk-toggleable__content\"><pre>RandomForestClassifier(n_jobs=-1)</pre></div></div></div></div></div></div></div>"
      ],
      "text/plain": [
       "Pipeline(steps=[('scale', StandardScaler()),\n",
       "                ('model', RandomForestClassifier(n_jobs=-1))])"
      ]
     },
     "execution_count": 43,
     "metadata": {},
     "output_type": "execute_result"
    }
   ],
   "source": [
    "model.fit(X_train, y_train.values.ravel())"
   ]
  },
  {
   "cell_type": "code",
   "execution_count": 44,
   "id": "af59f8c0",
   "metadata": {
    "execution": {
     "iopub.execute_input": "2025-07-30T20:11:56.721490Z",
     "iopub.status.busy": "2025-07-30T20:11:56.721090Z",
     "iopub.status.idle": "2025-07-30T20:11:56.727402Z",
     "shell.execute_reply": "2025-07-30T20:11:56.726550Z"
    },
    "papermill": {
     "duration": 0.048755,
     "end_time": "2025-07-30T20:11:56.729360",
     "exception": false,
     "start_time": "2025-07-30T20:11:56.680605",
     "status": "completed"
    },
    "tags": []
   },
   "outputs": [],
   "source": [
    "from fairness_multiverse.universe import predict_w_threshold"
   ]
  },
  {
   "cell_type": "code",
   "execution_count": 45,
   "id": "a7cf2e16",
   "metadata": {
    "execution": {
     "iopub.execute_input": "2025-07-30T20:11:56.807257Z",
     "iopub.status.busy": "2025-07-30T20:11:56.806820Z",
     "iopub.status.idle": "2025-07-30T20:11:57.936530Z",
     "shell.execute_reply": "2025-07-30T20:11:57.935521Z"
    },
    "papermill": {
     "duration": 1.185214,
     "end_time": "2025-07-30T20:11:57.938642",
     "exception": false,
     "start_time": "2025-07-30T20:11:56.753428",
     "status": "completed"
    },
    "tags": []
   },
   "outputs": [
    {
     "data": {
      "text/plain": [
       "0.8671385575744064"
      ]
     },
     "execution_count": 45,
     "metadata": {},
     "output_type": "execute_result"
    }
   ],
   "source": [
    "probs_test = model.predict_proba(X_test)\n",
    "\n",
    "'''\n",
    "Below code returns a boolean array (or binary 0/1 array depending on how it’s used) where each element \n",
    "is True if the probability of class 1 is greater than or equal to the threshold, and False otherwise.\n",
    "'''\n",
    "y_pred_default = predict_w_threshold(probs_test, 0.5)\n",
    "\n",
    "from sklearn.metrics import accuracy_score\n",
    "\n",
    "# Naive prediction\n",
    "accuracy_score(y_true = y_true, y_pred = y_pred_default)"
   ]
  },
  {
   "cell_type": "code",
   "execution_count": 46,
   "id": "081964c3",
   "metadata": {
    "execution": {
     "iopub.execute_input": "2025-07-30T20:11:58.031006Z",
     "iopub.status.busy": "2025-07-30T20:11:58.030601Z",
     "iopub.status.idle": "2025-07-30T20:11:59.295299Z",
     "shell.execute_reply": "2025-07-30T20:11:59.294259Z"
    },
    "papermill": {
     "duration": 1.306116,
     "end_time": "2025-07-30T20:11:59.296970",
     "exception": false,
     "start_time": "2025-07-30T20:11:57.990854",
     "status": "completed"
    },
    "tags": []
   },
   "outputs": [
    {
     "data": {
      "text/plain": [
       "array([0, 0, 0, ..., 0, 0, 0])"
      ]
     },
     "execution_count": 46,
     "metadata": {},
     "output_type": "execute_result"
    }
   ],
   "source": [
    "model.predict(X_test)"
   ]
  },
  {
   "cell_type": "markdown",
   "id": "56c9705b",
   "metadata": {
    "papermill": {
     "duration": 0.024604,
     "end_time": "2025-07-30T20:11:59.347825",
     "exception": false,
     "start_time": "2025-07-30T20:11:59.323221",
     "status": "completed"
    },
    "tags": []
   },
   "source": [
    "# Conformal Prediction"
   ]
  },
  {
   "cell_type": "code",
   "execution_count": 47,
   "id": "160ec6ff",
   "metadata": {
    "execution": {
     "iopub.execute_input": "2025-07-30T20:11:59.402606Z",
     "iopub.status.busy": "2025-07-30T20:11:59.402102Z",
     "iopub.status.idle": "2025-07-30T20:11:59.407627Z",
     "shell.execute_reply": "2025-07-30T20:11:59.406654Z"
    },
    "papermill": {
     "duration": 0.034431,
     "end_time": "2025-07-30T20:11:59.409280",
     "exception": false,
     "start_time": "2025-07-30T20:11:59.374849",
     "status": "completed"
    },
    "tags": []
   },
   "outputs": [],
   "source": [
    "# Miscoverage level for conformal prediction (10% allowed error rate => 90% target coverage)\n",
    "alpha = 0.1"
   ]
  },
  {
   "cell_type": "code",
   "execution_count": 48,
   "id": "eadf4555-3dd3-440e-8e35-f82a4ad9f855",
   "metadata": {
    "execution": {
     "iopub.execute_input": "2025-07-30T20:11:59.463549Z",
     "iopub.status.busy": "2025-07-30T20:11:59.463025Z",
     "iopub.status.idle": "2025-07-30T20:12:00.471071Z",
     "shell.execute_reply": "2025-07-30T20:12:00.469975Z"
    },
    "papermill": {
     "duration": 1.03843,
     "end_time": "2025-07-30T20:12:00.472911",
     "exception": false,
     "start_time": "2025-07-30T20:11:59.434481",
     "status": "completed"
    },
    "tags": []
   },
   "outputs": [],
   "source": [
    "probs_calib = model.predict_proba(X_calib)"
   ]
  },
  {
   "cell_type": "code",
   "execution_count": 49,
   "id": "2ed93547-6d5d-4983-9b36-1ecb300da49a",
   "metadata": {
    "execution": {
     "iopub.execute_input": "2025-07-30T20:12:00.526941Z",
     "iopub.status.busy": "2025-07-30T20:12:00.526542Z",
     "iopub.status.idle": "2025-07-30T20:12:00.532576Z",
     "shell.execute_reply": "2025-07-30T20:12:00.531556Z"
    },
    "papermill": {
     "duration": 0.03562,
     "end_time": "2025-07-30T20:12:00.534470",
     "exception": false,
     "start_time": "2025-07-30T20:12:00.498850",
     "status": "completed"
    },
    "tags": []
   },
   "outputs": [],
   "source": [
    "y_calib = y_calib.values.ravel().astype(int)"
   ]
  },
  {
   "cell_type": "code",
   "execution_count": 50,
   "id": "65d1320d-f588-4b38-9072-62af1ae97f7d",
   "metadata": {
    "execution": {
     "iopub.execute_input": "2025-07-30T20:12:00.592357Z",
     "iopub.status.busy": "2025-07-30T20:12:00.591211Z",
     "iopub.status.idle": "2025-07-30T20:12:00.601526Z",
     "shell.execute_reply": "2025-07-30T20:12:00.600473Z"
    },
    "papermill": {
     "duration": 0.041292,
     "end_time": "2025-07-30T20:12:00.603395",
     "exception": false,
     "start_time": "2025-07-30T20:12:00.562103",
     "status": "completed"
    },
    "tags": []
   },
   "outputs": [],
   "source": [
    "from fairness_multiverse.conformal import compute_nc_scores\n",
    "\n",
    "# Compute nonconformity scores on calibration set (1 - probability of true class)\n",
    "nc_scores = compute_nc_scores(probs_calib, y_calib)"
   ]
  },
  {
   "cell_type": "code",
   "execution_count": 51,
   "id": "df3b8ca3-53b7-43d5-9667-7c85da7aeda2",
   "metadata": {
    "execution": {
     "iopub.execute_input": "2025-07-30T20:12:00.661435Z",
     "iopub.status.busy": "2025-07-30T20:12:00.660942Z",
     "iopub.status.idle": "2025-07-30T20:12:00.668542Z",
     "shell.execute_reply": "2025-07-30T20:12:00.667333Z"
    },
    "papermill": {
     "duration": 0.038463,
     "end_time": "2025-07-30T20:12:00.670465",
     "exception": false,
     "start_time": "2025-07-30T20:12:00.632002",
     "status": "completed"
    },
    "tags": []
   },
   "outputs": [],
   "source": [
    "from fairness_multiverse.conformal import find_threshold\n",
    "\n",
    "# Find conformal threshold q_hat for the given alpha (split conformal method)\n",
    "q_hat = find_threshold(nc_scores, alpha)"
   ]
  },
  {
   "cell_type": "code",
   "execution_count": 52,
   "id": "4d29e6c1-0ef6-4aa4-b8fe-4fe79b0d033a",
   "metadata": {
    "execution": {
     "iopub.execute_input": "2025-07-30T20:12:00.727329Z",
     "iopub.status.busy": "2025-07-30T20:12:00.726490Z",
     "iopub.status.idle": "2025-07-30T20:12:00.734920Z",
     "shell.execute_reply": "2025-07-30T20:12:00.733846Z"
    },
    "papermill": {
     "duration": 0.037499,
     "end_time": "2025-07-30T20:12:00.736585",
     "exception": false,
     "start_time": "2025-07-30T20:12:00.699086",
     "status": "completed"
    },
    "tags": []
   },
   "outputs": [
    {
     "data": {
      "text/plain": [
       "0.6599999999999999"
      ]
     },
     "execution_count": 52,
     "metadata": {},
     "output_type": "execute_result"
    }
   ],
   "source": [
    "q_hat"
   ]
  },
  {
   "cell_type": "code",
   "execution_count": 53,
   "id": "92460794-cdac-4be2-ba28-f28c0515a6fb",
   "metadata": {
    "execution": {
     "iopub.execute_input": "2025-07-30T20:12:00.790972Z",
     "iopub.status.busy": "2025-07-30T20:12:00.790084Z",
     "iopub.status.idle": "2025-07-30T20:12:02.515608Z",
     "shell.execute_reply": "2025-07-30T20:12:02.514822Z"
    },
    "papermill": {
     "duration": 1.754332,
     "end_time": "2025-07-30T20:12:02.517259",
     "exception": false,
     "start_time": "2025-07-30T20:12:00.762927",
     "status": "completed"
    },
    "tags": []
   },
   "outputs": [],
   "source": [
    "from fairness_multiverse.conformal import predict_conformal_sets\n",
    "\n",
    "# Generate prediction sets for each test example\n",
    "pred_sets = predict_conformal_sets(model, X_test, q_hat)"
   ]
  },
  {
   "cell_type": "code",
   "execution_count": 54,
   "id": "d90c9a65-e6db-4f5d-80cd-e68fb7e46829",
   "metadata": {
    "execution": {
     "iopub.execute_input": "2025-07-30T20:12:02.543277Z",
     "iopub.status.busy": "2025-07-30T20:12:02.542965Z",
     "iopub.status.idle": "2025-07-30T20:12:02.547390Z",
     "shell.execute_reply": "2025-07-30T20:12:02.546626Z"
    },
    "papermill": {
     "duration": 0.01882,
     "end_time": "2025-07-30T20:12:02.549111",
     "exception": false,
     "start_time": "2025-07-30T20:12:02.530291",
     "status": "completed"
    },
    "tags": []
   },
   "outputs": [],
   "source": [
    "y_true = y_true.squeeze()"
   ]
  },
  {
   "cell_type": "code",
   "execution_count": 55,
   "id": "3a58a54a-1e68-46b9-927a-df01f18aebc8",
   "metadata": {
    "execution": {
     "iopub.execute_input": "2025-07-30T20:12:02.602032Z",
     "iopub.status.busy": "2025-07-30T20:12:02.601097Z",
     "iopub.status.idle": "2025-07-30T20:12:03.182018Z",
     "shell.execute_reply": "2025-07-30T20:12:03.181206Z"
    },
    "papermill": {
     "duration": 0.608721,
     "end_time": "2025-07-30T20:12:03.183991",
     "exception": false,
     "start_time": "2025-07-30T20:12:02.575270",
     "status": "completed"
    },
    "tags": []
   },
   "outputs": [],
   "source": [
    "from fairness_multiverse.conformal import evaluate_sets\n",
    "\n",
    "# Evaluate coverage and average set size on test data\n",
    "metrics = evaluate_sets(pred_sets, y_true)"
   ]
  },
  {
   "cell_type": "markdown",
   "id": "2b569c12-9aaa-4c88-98c9-bbcd0cf3ebb8",
   "metadata": {
    "papermill": {
     "duration": 0.025458,
     "end_time": "2025-07-30T20:12:03.235947",
     "exception": false,
     "start_time": "2025-07-30T20:12:03.210489",
     "status": "completed"
    },
    "tags": []
   },
   "source": [
    "# CP Metrics"
   ]
  },
  {
   "cell_type": "code",
   "execution_count": 56,
   "id": "5ce0a5cb-201f-45a0-ade5-94c7f0bd6095",
   "metadata": {
    "execution": {
     "iopub.execute_input": "2025-07-30T20:12:03.286436Z",
     "iopub.status.busy": "2025-07-30T20:12:03.285740Z",
     "iopub.status.idle": "2025-07-30T20:12:03.293081Z",
     "shell.execute_reply": "2025-07-30T20:12:03.292012Z"
    },
    "papermill": {
     "duration": 0.034586,
     "end_time": "2025-07-30T20:12:03.294672",
     "exception": false,
     "start_time": "2025-07-30T20:12:03.260086",
     "status": "completed"
    },
    "tags": []
   },
   "outputs": [
    {
     "data": {
      "text/plain": [
       "{'coverage': 0.9158845167762791, 'avg_size': 1.1453126741723332}"
      ]
     },
     "execution_count": 56,
     "metadata": {},
     "output_type": "execute_result"
    }
   ],
   "source": [
    "metrics"
   ]
  },
  {
   "cell_type": "code",
   "execution_count": 57,
   "id": "9b9a838d-31c9-430b-ae14-12baee460d17",
   "metadata": {
    "execution": {
     "iopub.execute_input": "2025-07-30T20:12:03.347883Z",
     "iopub.status.busy": "2025-07-30T20:12:03.347099Z",
     "iopub.status.idle": "2025-07-30T20:12:03.353957Z",
     "shell.execute_reply": "2025-07-30T20:12:03.353026Z"
    },
    "papermill": {
     "duration": 0.035887,
     "end_time": "2025-07-30T20:12:03.355632",
     "exception": false,
     "start_time": "2025-07-30T20:12:03.319745",
     "status": "completed"
    },
    "tags": []
   },
   "outputs": [],
   "source": [
    "example_universe = universe.copy()\n",
    "universe_training_year = example_universe.get(\"training_year\")\n",
    "universe_training_size = example_universe.get(\"training_size\")\n",
    "universe_scale = example_universe.get(\"scale\")\n",
    "universe_model = example_universe.get(\"model\")\n",
    "universe_exclude_features = example_universe.get(\"exclude_features\")\n",
    "universe_exclude_subgroups = example_universe.get(\"exclude_subgroups\")"
   ]
  },
  {
   "cell_type": "code",
   "execution_count": 58,
   "id": "f4b6a8ac-9dc0-4245-8a91-5b3b5999c4f9",
   "metadata": {
    "execution": {
     "iopub.execute_input": "2025-07-30T20:12:03.412189Z",
     "iopub.status.busy": "2025-07-30T20:12:03.411149Z",
     "iopub.status.idle": "2025-07-30T20:12:03.418534Z",
     "shell.execute_reply": "2025-07-30T20:12:03.417477Z"
    },
    "papermill": {
     "duration": 0.03713,
     "end_time": "2025-07-30T20:12:03.420399",
     "exception": false,
     "start_time": "2025-07-30T20:12:03.383269",
     "status": "completed"
    },
    "tags": []
   },
   "outputs": [],
   "source": [
    "cp_metrics_dict = {\n",
    "    \"universe_id\": [universe_id],\n",
    "    \"universe_training_year\": [universe_training_year],\n",
    "    \"universe_training_size\": [universe_training_size],\n",
    "    \"universe_scale\": [universe_scale],\n",
    "    \"universe_model\": [universe_model],\n",
    "    \"universe_exclude_features\": [universe_exclude_features],\n",
    "    \"universe_exclude_subgroups\": [universe_exclude_subgroups],\n",
    "    \"q_hat\": [q_hat],\n",
    "    \"coverage\": [metrics[\"coverage\"]],\n",
    "    \"avg_size\": [metrics[\"avg_size\"]],\n",
    "}"
   ]
  },
  {
   "cell_type": "code",
   "execution_count": 59,
   "id": "908acbb1-0371-4915-85ca-3fa520d2efe2",
   "metadata": {
    "execution": {
     "iopub.execute_input": "2025-07-30T20:12:03.474355Z",
     "iopub.status.busy": "2025-07-30T20:12:03.473782Z",
     "iopub.status.idle": "2025-07-30T20:12:03.481936Z",
     "shell.execute_reply": "2025-07-30T20:12:03.480927Z"
    },
    "papermill": {
     "duration": 0.036703,
     "end_time": "2025-07-30T20:12:03.483814",
     "exception": false,
     "start_time": "2025-07-30T20:12:03.447111",
     "status": "completed"
    },
    "tags": []
   },
   "outputs": [
    {
     "data": {
      "text/plain": [
       "{'universe_id': ['4df5ac6e0876bbdcd925702f00c597ff'],\n",
       " 'universe_training_year': ['2012_14'],\n",
       " 'universe_training_size': ['25k'],\n",
       " 'universe_scale': ['scale'],\n",
       " 'universe_model': ['rf'],\n",
       " 'universe_exclude_features': ['nationality-sex'],\n",
       " 'universe_exclude_subgroups': ['keep-all'],\n",
       " 'q_hat': [0.6599999999999999],\n",
       " 'coverage': [0.9158845167762791],\n",
       " 'avg_size': [1.1453126741723332]}"
      ]
     },
     "execution_count": 59,
     "metadata": {},
     "output_type": "execute_result"
    }
   ],
   "source": [
    "cp_metrics_dict"
   ]
  },
  {
   "cell_type": "code",
   "execution_count": 60,
   "id": "33007efc-14e9-4ec6-97ac-56a455c82265",
   "metadata": {
    "execution": {
     "iopub.execute_input": "2025-07-30T20:12:03.517754Z",
     "iopub.status.busy": "2025-07-30T20:12:03.517255Z",
     "iopub.status.idle": "2025-07-30T20:12:03.524833Z",
     "shell.execute_reply": "2025-07-30T20:12:03.523678Z"
    },
    "papermill": {
     "duration": 0.023141,
     "end_time": "2025-07-30T20:12:03.526500",
     "exception": false,
     "start_time": "2025-07-30T20:12:03.503359",
     "status": "completed"
    },
    "tags": []
   },
   "outputs": [],
   "source": [
    "cp_metrics_df = pd.DataFrame(cp_metrics_dict)"
   ]
  },
  {
   "cell_type": "code",
   "execution_count": 61,
   "id": "db12611b-57b2-4910-b9d0-355adfd6e7bf",
   "metadata": {
    "execution": {
     "iopub.execute_input": "2025-07-30T20:12:03.569110Z",
     "iopub.status.busy": "2025-07-30T20:12:03.568443Z",
     "iopub.status.idle": "2025-07-30T20:12:03.588421Z",
     "shell.execute_reply": "2025-07-30T20:12:03.587391Z"
    },
    "papermill": {
     "duration": 0.037301,
     "end_time": "2025-07-30T20:12:03.590317",
     "exception": false,
     "start_time": "2025-07-30T20:12:03.553016",
     "status": "completed"
    },
    "tags": []
   },
   "outputs": [
    {
     "data": {
      "text/html": [
       "<div>\n",
       "<style scoped>\n",
       "    .dataframe tbody tr th:only-of-type {\n",
       "        vertical-align: middle;\n",
       "    }\n",
       "\n",
       "    .dataframe tbody tr th {\n",
       "        vertical-align: top;\n",
       "    }\n",
       "\n",
       "    .dataframe thead th {\n",
       "        text-align: right;\n",
       "    }\n",
       "</style>\n",
       "<table border=\"1\" class=\"dataframe\">\n",
       "  <thead>\n",
       "    <tr style=\"text-align: right;\">\n",
       "      <th></th>\n",
       "      <th>universe_id</th>\n",
       "      <th>universe_training_year</th>\n",
       "      <th>universe_training_size</th>\n",
       "      <th>universe_scale</th>\n",
       "      <th>universe_model</th>\n",
       "      <th>universe_exclude_features</th>\n",
       "      <th>universe_exclude_subgroups</th>\n",
       "      <th>q_hat</th>\n",
       "      <th>coverage</th>\n",
       "      <th>avg_size</th>\n",
       "    </tr>\n",
       "  </thead>\n",
       "  <tbody>\n",
       "    <tr>\n",
       "      <th>0</th>\n",
       "      <td>4df5ac6e0876bbdcd925702f00c597ff</td>\n",
       "      <td>2012_14</td>\n",
       "      <td>25k</td>\n",
       "      <td>scale</td>\n",
       "      <td>rf</td>\n",
       "      <td>nationality-sex</td>\n",
       "      <td>keep-all</td>\n",
       "      <td>0.66</td>\n",
       "      <td>0.915885</td>\n",
       "      <td>1.145313</td>\n",
       "    </tr>\n",
       "  </tbody>\n",
       "</table>\n",
       "</div>"
      ],
      "text/plain": [
       "                        universe_id universe_training_year  \\\n",
       "0  4df5ac6e0876bbdcd925702f00c597ff                2012_14   \n",
       "\n",
       "  universe_training_size universe_scale universe_model  \\\n",
       "0                    25k          scale             rf   \n",
       "\n",
       "  universe_exclude_features universe_exclude_subgroups  q_hat  coverage  \\\n",
       "0           nationality-sex                   keep-all   0.66  0.915885   \n",
       "\n",
       "   avg_size  \n",
       "0  1.145313  "
      ]
     },
     "execution_count": 61,
     "metadata": {},
     "output_type": "execute_result"
    }
   ],
   "source": [
    "cp_metrics_df"
   ]
  },
  {
   "cell_type": "code",
   "execution_count": 62,
   "id": "b7fbde55-a0a1-47e4-9af6-fe4a17fa8c61",
   "metadata": {
    "execution": {
     "iopub.execute_input": "2025-07-30T20:12:03.646844Z",
     "iopub.status.busy": "2025-07-30T20:12:03.646361Z",
     "iopub.status.idle": "2025-07-30T20:12:03.651784Z",
     "shell.execute_reply": "2025-07-30T20:12:03.650764Z"
    },
    "papermill": {
     "duration": 0.035279,
     "end_time": "2025-07-30T20:12:03.653524",
     "exception": false,
     "start_time": "2025-07-30T20:12:03.618245",
     "status": "completed"
    },
    "tags": []
   },
   "outputs": [],
   "source": [
    "# Conditional Coverage & looking at subgroups"
   ]
  },
  {
   "cell_type": "code",
   "execution_count": 63,
   "id": "027ae886-68dd-4141-96c7-805a5450e1ef",
   "metadata": {
    "execution": {
     "iopub.execute_input": "2025-07-30T20:12:03.700688Z",
     "iopub.status.busy": "2025-07-30T20:12:03.700319Z",
     "iopub.status.idle": "2025-07-30T20:12:03.955519Z",
     "shell.execute_reply": "2025-07-30T20:12:03.954541Z"
    },
    "papermill": {
     "duration": 0.27553,
     "end_time": "2025-07-30T20:12:03.957041",
     "exception": false,
     "start_time": "2025-07-30T20:12:03.681511",
     "status": "completed"
    },
    "tags": []
   },
   "outputs": [],
   "source": [
    "from fairness_multiverse.conformal import build_cp_groups\n",
    "\n",
    "cp_groups_df = build_cp_groups(pred_sets, y_true, X_test.index, org_test)\n",
    "#needs universe_id and setting"
   ]
  },
  {
   "cell_type": "code",
   "execution_count": 64,
   "id": "01d5802c-663a-4d1f-9d69-e036faaffbf7",
   "metadata": {
    "execution": {
     "iopub.execute_input": "2025-07-30T20:12:04.007853Z",
     "iopub.status.busy": "2025-07-30T20:12:04.007406Z",
     "iopub.status.idle": "2025-07-30T20:12:04.012910Z",
     "shell.execute_reply": "2025-07-30T20:12:04.011898Z"
    },
    "papermill": {
     "duration": 0.034332,
     "end_time": "2025-07-30T20:12:04.014527",
     "exception": false,
     "start_time": "2025-07-30T20:12:03.980195",
     "status": "completed"
    },
    "tags": []
   },
   "outputs": [],
   "source": [
    "#delete\n",
    "#cp_groups_df"
   ]
  },
  {
   "cell_type": "code",
   "execution_count": 65,
   "id": "fa424af1-d1eb-443d-b717-2d279ada8408",
   "metadata": {
    "execution": {
     "iopub.execute_input": "2025-07-30T20:12:04.069137Z",
     "iopub.status.busy": "2025-07-30T20:12:04.068263Z",
     "iopub.status.idle": "2025-07-30T20:12:04.073460Z",
     "shell.execute_reply": "2025-07-30T20:12:04.072524Z"
    },
    "papermill": {
     "duration": 0.034189,
     "end_time": "2025-07-30T20:12:04.075056",
     "exception": false,
     "start_time": "2025-07-30T20:12:04.040867",
     "status": "completed"
    },
    "tags": []
   },
   "outputs": [],
   "source": [
    "#delete\n",
    "#percentage = (cp_groups_df['nongerman_female'] == 1).mean() * 100\n",
    "#print(percentage)\n"
   ]
  },
  {
   "cell_type": "code",
   "execution_count": 66,
   "id": "6cbdab96-b2b2-45af-ad54-d0516db2e28d",
   "metadata": {
    "execution": {
     "iopub.execute_input": "2025-07-30T20:12:04.128323Z",
     "iopub.status.busy": "2025-07-30T20:12:04.127650Z",
     "iopub.status.idle": "2025-07-30T20:12:05.791445Z",
     "shell.execute_reply": "2025-07-30T20:12:05.790180Z"
    },
    "papermill": {
     "duration": 1.69245,
     "end_time": "2025-07-30T20:12:05.793396",
     "exception": false,
     "start_time": "2025-07-30T20:12:04.100946",
     "status": "completed"
    },
    "tags": []
   },
   "outputs": [],
   "source": [
    "# Define covered = 1 if true_label is in the predicted set\n",
    "cp_groups_df['covered'] = cp_groups_df.apply(\n",
    "    lambda r: int(r['true_label'] in r['pred_set']),\n",
    "    axis=1\n",
    ")"
   ]
  },
  {
   "cell_type": "code",
   "execution_count": 67,
   "id": "338ff529-1a6b-4b87-a931-8e4788d52aad",
   "metadata": {
    "execution": {
     "iopub.execute_input": "2025-07-30T20:12:05.848198Z",
     "iopub.status.busy": "2025-07-30T20:12:05.847246Z",
     "iopub.status.idle": "2025-07-30T20:12:05.852438Z",
     "shell.execute_reply": "2025-07-30T20:12:05.851461Z"
    },
    "papermill": {
     "duration": 0.03411,
     "end_time": "2025-07-30T20:12:05.854120",
     "exception": false,
     "start_time": "2025-07-30T20:12:05.820010",
     "status": "completed"
    },
    "tags": []
   },
   "outputs": [],
   "source": [
    "#cp_groups_df"
   ]
  },
  {
   "cell_type": "code",
   "execution_count": 68,
   "id": "90032e27-66df-4540-9169-4e89cfbaa758",
   "metadata": {
    "execution": {
     "iopub.execute_input": "2025-07-30T20:12:05.909513Z",
     "iopub.status.busy": "2025-07-30T20:12:05.908524Z",
     "iopub.status.idle": "2025-07-30T20:12:05.920277Z",
     "shell.execute_reply": "2025-07-30T20:12:05.919249Z"
    },
    "papermill": {
     "duration": 0.041787,
     "end_time": "2025-07-30T20:12:05.922192",
     "exception": false,
     "start_time": "2025-07-30T20:12:05.880405",
     "status": "completed"
    },
    "tags": []
   },
   "outputs": [],
   "source": [
    "subgroups = ['frau1','nongerman','nongerman_male','nongerman_female']\n",
    "\n",
    "# Conditional coverage for subgroup==1\n",
    "cond_coverage = {\n",
    "    g: cp_groups_df.loc[cp_groups_df[g]==1, 'covered'].mean()\n",
    "    for g in subgroups\n",
    "}"
   ]
  },
  {
   "cell_type": "code",
   "execution_count": 69,
   "id": "1e348fb1-b9c3-45bc-ba23-f016827a7e0d",
   "metadata": {
    "execution": {
     "iopub.execute_input": "2025-07-30T20:12:05.977665Z",
     "iopub.status.busy": "2025-07-30T20:12:05.977013Z",
     "iopub.status.idle": "2025-07-30T20:12:05.984295Z",
     "shell.execute_reply": "2025-07-30T20:12:05.983281Z"
    },
    "papermill": {
     "duration": 0.037578,
     "end_time": "2025-07-30T20:12:05.985988",
     "exception": false,
     "start_time": "2025-07-30T20:12:05.948410",
     "status": "completed"
    },
    "tags": []
   },
   "outputs": [
    {
     "data": {
      "text/plain": [
       "{'frau1': 0.9152176843240329,\n",
       " 'nongerman': 0.9102902374670184,\n",
       " 'nongerman_male': 0.9254255606592813,\n",
       " 'nongerman_female': 0.8852459016393442}"
      ]
     },
     "execution_count": 69,
     "metadata": {},
     "output_type": "execute_result"
    }
   ],
   "source": [
    "cond_coverage"
   ]
  },
  {
   "cell_type": "code",
   "execution_count": 70,
   "id": "f5093324-c3dd-4d63-bc4c-8d945e5c8bbb",
   "metadata": {
    "execution": {
     "iopub.execute_input": "2025-07-30T20:12:06.041134Z",
     "iopub.status.busy": "2025-07-30T20:12:06.040641Z",
     "iopub.status.idle": "2025-07-30T20:12:06.048452Z",
     "shell.execute_reply": "2025-07-30T20:12:06.047448Z"
    },
    "papermill": {
     "duration": 0.036951,
     "end_time": "2025-07-30T20:12:06.050060",
     "exception": false,
     "start_time": "2025-07-30T20:12:06.013109",
     "status": "completed"
    },
    "tags": []
   },
   "outputs": [],
   "source": [
    "for subgroup, cov in cond_coverage.items():\n",
    "    cp_metrics_df[f\"cov_{subgroup}\"] = cov"
   ]
  },
  {
   "cell_type": "code",
   "execution_count": 71,
   "id": "6e872e10-dbe5-49e8-b554-5030c98ff75d",
   "metadata": {
    "execution": {
     "iopub.execute_input": "2025-07-30T20:12:06.104812Z",
     "iopub.status.busy": "2025-07-30T20:12:06.104285Z",
     "iopub.status.idle": "2025-07-30T20:12:06.126603Z",
     "shell.execute_reply": "2025-07-30T20:12:06.125446Z"
    },
    "papermill": {
     "duration": 0.050803,
     "end_time": "2025-07-30T20:12:06.128203",
     "exception": false,
     "start_time": "2025-07-30T20:12:06.077400",
     "status": "completed"
    },
    "tags": []
   },
   "outputs": [
    {
     "data": {
      "text/html": [
       "<div>\n",
       "<style scoped>\n",
       "    .dataframe tbody tr th:only-of-type {\n",
       "        vertical-align: middle;\n",
       "    }\n",
       "\n",
       "    .dataframe tbody tr th {\n",
       "        vertical-align: top;\n",
       "    }\n",
       "\n",
       "    .dataframe thead th {\n",
       "        text-align: right;\n",
       "    }\n",
       "</style>\n",
       "<table border=\"1\" class=\"dataframe\">\n",
       "  <thead>\n",
       "    <tr style=\"text-align: right;\">\n",
       "      <th></th>\n",
       "      <th>universe_id</th>\n",
       "      <th>universe_training_year</th>\n",
       "      <th>universe_training_size</th>\n",
       "      <th>universe_scale</th>\n",
       "      <th>universe_model</th>\n",
       "      <th>universe_exclude_features</th>\n",
       "      <th>universe_exclude_subgroups</th>\n",
       "      <th>q_hat</th>\n",
       "      <th>coverage</th>\n",
       "      <th>avg_size</th>\n",
       "      <th>cov_frau1</th>\n",
       "      <th>cov_nongerman</th>\n",
       "      <th>cov_nongerman_male</th>\n",
       "      <th>cov_nongerman_female</th>\n",
       "    </tr>\n",
       "  </thead>\n",
       "  <tbody>\n",
       "    <tr>\n",
       "      <th>0</th>\n",
       "      <td>4df5ac6e0876bbdcd925702f00c597ff</td>\n",
       "      <td>2012_14</td>\n",
       "      <td>25k</td>\n",
       "      <td>scale</td>\n",
       "      <td>rf</td>\n",
       "      <td>nationality-sex</td>\n",
       "      <td>keep-all</td>\n",
       "      <td>0.66</td>\n",
       "      <td>0.915885</td>\n",
       "      <td>1.145313</td>\n",
       "      <td>0.915218</td>\n",
       "      <td>0.91029</td>\n",
       "      <td>0.925426</td>\n",
       "      <td>0.885246</td>\n",
       "    </tr>\n",
       "  </tbody>\n",
       "</table>\n",
       "</div>"
      ],
      "text/plain": [
       "                        universe_id universe_training_year  \\\n",
       "0  4df5ac6e0876bbdcd925702f00c597ff                2012_14   \n",
       "\n",
       "  universe_training_size universe_scale universe_model  \\\n",
       "0                    25k          scale             rf   \n",
       "\n",
       "  universe_exclude_features universe_exclude_subgroups  q_hat  coverage  \\\n",
       "0           nationality-sex                   keep-all   0.66  0.915885   \n",
       "\n",
       "   avg_size  cov_frau1  cov_nongerman  cov_nongerman_male  \\\n",
       "0  1.145313   0.915218        0.91029            0.925426   \n",
       "\n",
       "   cov_nongerman_female  \n",
       "0              0.885246  "
      ]
     },
     "execution_count": 71,
     "metadata": {},
     "output_type": "execute_result"
    }
   ],
   "source": [
    "cp_metrics_df"
   ]
  },
  {
   "cell_type": "markdown",
   "id": "33774451",
   "metadata": {
    "papermill": {
     "duration": 0.027589,
     "end_time": "2025-07-30T20:12:06.182370",
     "exception": false,
     "start_time": "2025-07-30T20:12:06.154781",
     "status": "completed"
    },
    "tags": []
   },
   "source": [
    "# (Fairness) Metrics"
   ]
  },
  {
   "cell_type": "code",
   "execution_count": 72,
   "id": "debc5d62",
   "metadata": {
    "execution": {
     "iopub.execute_input": "2025-07-30T20:12:06.237026Z",
     "iopub.status.busy": "2025-07-30T20:12:06.236524Z",
     "iopub.status.idle": "2025-07-30T20:12:06.259489Z",
     "shell.execute_reply": "2025-07-30T20:12:06.258489Z"
    },
    "papermill": {
     "duration": 0.054092,
     "end_time": "2025-07-30T20:12:06.262247",
     "exception": false,
     "start_time": "2025-07-30T20:12:06.208155",
     "status": "completed"
    },
    "tags": []
   },
   "outputs": [],
   "source": [
    "# do I need to include maxdeutsch1.missing?\n",
    "\n",
    "import numpy as np\n",
    "\n",
    "colname_to_bin = \"maxdeutsch1\"\n",
    "majority_value = org_train[colname_to_bin].mode()[0]\n",
    "\n",
    "org_test[\"majmin\"] = np.where(org_test[colname_to_bin] == majority_value, \"majority\", \"minority\")"
   ]
  },
  {
   "cell_type": "code",
   "execution_count": 73,
   "id": "06a50de5",
   "metadata": {
    "execution": {
     "iopub.execute_input": "2025-07-30T20:12:06.317236Z",
     "iopub.status.busy": "2025-07-30T20:12:06.316721Z",
     "iopub.status.idle": "2025-07-30T20:12:09.139285Z",
     "shell.execute_reply": "2025-07-30T20:12:09.138292Z"
    },
    "papermill": {
     "duration": 2.852147,
     "end_time": "2025-07-30T20:12:09.141339",
     "exception": false,
     "start_time": "2025-07-30T20:12:06.289192",
     "status": "completed"
    },
    "tags": []
   },
   "outputs": [],
   "source": [
    "example_universe = universe.copy()\n",
    "example_universe[\"cutoff\"] = example_universe[\"cutoff\"][0]\n",
    "example_universe[\"eval_fairness_grouping\"] = example_universe[\"eval_fairness_grouping\"][0]\n",
    "fairness_dict, metric_frame = universe_analysis.compute_metrics(\n",
    "    example_universe,\n",
    "    y_pred_prob=probs_test,\n",
    "    y_test=y_true,\n",
    "    org_test=org_test,\n",
    ")"
   ]
  },
  {
   "cell_type": "markdown",
   "id": "f95d4e02",
   "metadata": {
    "papermill": {
     "duration": 0.026675,
     "end_time": "2025-07-30T20:12:09.197354",
     "exception": false,
     "start_time": "2025-07-30T20:12:09.170679",
     "status": "completed"
    },
    "tags": []
   },
   "source": [
    "# Overall"
   ]
  },
  {
   "cell_type": "markdown",
   "id": "bdee4871",
   "metadata": {
    "papermill": {
     "duration": 0.026222,
     "end_time": "2025-07-30T20:12:09.249651",
     "exception": false,
     "start_time": "2025-07-30T20:12:09.223429",
     "status": "completed"
    },
    "tags": []
   },
   "source": [
    "Fairness\n",
    "Main fairness target: Equalized Odds. Seems to be a better fit than equal opportunity, since we're not only interested in Y = 1. Seems to be a better fit than demographic parity, since we also care about accuracy, not just equal distribution of preds.\n",
    "\n",
    "Pick column for computation of fairness metrics\n",
    "\n",
    "Performance\n",
    "Overall performance measures, most interesting in relation to the measures split by group below"
   ]
  },
  {
   "cell_type": "code",
   "execution_count": 74,
   "id": "c4e067c6",
   "metadata": {
    "execution": {
     "iopub.execute_input": "2025-07-30T20:12:09.303836Z",
     "iopub.status.busy": "2025-07-30T20:12:09.303415Z",
     "iopub.status.idle": "2025-07-30T20:12:09.312220Z",
     "shell.execute_reply": "2025-07-30T20:12:09.311236Z"
    },
    "papermill": {
     "duration": 0.039998,
     "end_time": "2025-07-30T20:12:09.316387",
     "exception": false,
     "start_time": "2025-07-30T20:12:09.276389",
     "status": "completed"
    },
    "tags": []
   },
   "outputs": [
    {
     "data": {
      "text/plain": [
       "accuracy                   0.200502\n",
       "balanced accuracy          0.532569\n",
       "f1                         0.239102\n",
       "precision                  0.136176\n",
       "false positive rate        0.914094\n",
       "false negative rate        0.020768\n",
       "selection rate             0.922450\n",
       "count                  89710.000000\n",
       "dtype: float64"
      ]
     },
     "execution_count": 74,
     "metadata": {},
     "output_type": "execute_result"
    }
   ],
   "source": [
    "metric_frame.overall"
   ]
  },
  {
   "cell_type": "markdown",
   "id": "e968fe9d",
   "metadata": {
    "papermill": {
     "duration": 0.026672,
     "end_time": "2025-07-30T20:12:09.370950",
     "exception": false,
     "start_time": "2025-07-30T20:12:09.344278",
     "status": "completed"
    },
    "tags": []
   },
   "source": [
    "By Group"
   ]
  },
  {
   "cell_type": "code",
   "execution_count": 75,
   "id": "ec325bce",
   "metadata": {
    "execution": {
     "iopub.execute_input": "2025-07-30T20:12:09.427029Z",
     "iopub.status.busy": "2025-07-30T20:12:09.426594Z",
     "iopub.status.idle": "2025-07-30T20:12:09.455679Z",
     "shell.execute_reply": "2025-07-30T20:12:09.446416Z"
    },
    "papermill": {
     "duration": 0.060184,
     "end_time": "2025-07-30T20:12:09.457954",
     "exception": false,
     "start_time": "2025-07-30T20:12:09.397770",
     "status": "completed"
    },
    "tags": []
   },
   "outputs": [
    {
     "data": {
      "text/html": [
       "<div>\n",
       "<style scoped>\n",
       "    .dataframe tbody tr th:only-of-type {\n",
       "        vertical-align: middle;\n",
       "    }\n",
       "\n",
       "    .dataframe tbody tr th {\n",
       "        vertical-align: top;\n",
       "    }\n",
       "\n",
       "    .dataframe thead th {\n",
       "        text-align: right;\n",
       "    }\n",
       "</style>\n",
       "<table border=\"1\" class=\"dataframe\">\n",
       "  <thead>\n",
       "    <tr style=\"text-align: right;\">\n",
       "      <th></th>\n",
       "      <th>accuracy</th>\n",
       "      <th>balanced accuracy</th>\n",
       "      <th>f1</th>\n",
       "      <th>precision</th>\n",
       "      <th>false positive rate</th>\n",
       "      <th>false negative rate</th>\n",
       "      <th>selection rate</th>\n",
       "      <th>count</th>\n",
       "    </tr>\n",
       "    <tr>\n",
       "      <th>majmin</th>\n",
       "      <th></th>\n",
       "      <th></th>\n",
       "      <th></th>\n",
       "      <th></th>\n",
       "      <th></th>\n",
       "      <th></th>\n",
       "      <th></th>\n",
       "      <th></th>\n",
       "    </tr>\n",
       "  </thead>\n",
       "  <tbody>\n",
       "    <tr>\n",
       "      <th>majority</th>\n",
       "      <td>0.187307</td>\n",
       "      <td>0.528352</td>\n",
       "      <td>0.243887</td>\n",
       "      <td>0.139036</td>\n",
       "      <td>0.935199</td>\n",
       "      <td>0.008096</td>\n",
       "      <td>0.942692</td>\n",
       "      <td>69170.0</td>\n",
       "    </tr>\n",
       "    <tr>\n",
       "      <th>minority</th>\n",
       "      <td>0.244937</td>\n",
       "      <td>0.542972</td>\n",
       "      <td>0.221240</td>\n",
       "      <td>0.125549</td>\n",
       "      <td>0.844376</td>\n",
       "      <td>0.069679</td>\n",
       "      <td>0.854284</td>\n",
       "      <td>20540.0</td>\n",
       "    </tr>\n",
       "  </tbody>\n",
       "</table>\n",
       "</div>"
      ],
      "text/plain": [
       "          accuracy  balanced accuracy        f1  precision  \\\n",
       "majmin                                                       \n",
       "majority  0.187307           0.528352  0.243887   0.139036   \n",
       "minority  0.244937           0.542972  0.221240   0.125549   \n",
       "\n",
       "          false positive rate  false negative rate  selection rate    count  \n",
       "majmin                                                                       \n",
       "majority             0.935199             0.008096        0.942692  69170.0  \n",
       "minority             0.844376             0.069679        0.854284  20540.0  "
      ]
     },
     "execution_count": 75,
     "metadata": {},
     "output_type": "execute_result"
    }
   ],
   "source": [
    "metric_frame.by_group"
   ]
  },
  {
   "cell_type": "code",
   "execution_count": 76,
   "id": "a9ddbe63",
   "metadata": {
    "execution": {
     "iopub.execute_input": "2025-07-30T20:12:09.574756Z",
     "iopub.status.busy": "2025-07-30T20:12:09.574309Z",
     "iopub.status.idle": "2025-07-30T20:12:12.328899Z",
     "shell.execute_reply": "2025-07-30T20:12:12.328000Z"
    },
    "papermill": {
     "duration": 2.814223,
     "end_time": "2025-07-30T20:12:12.330404",
     "exception": false,
     "start_time": "2025-07-30T20:12:09.516181",
     "status": "completed"
    },
    "tags": []
   },
   "outputs": [
    {
     "data": {
      "text/plain": [
       "array([[<Axes: title={'center': 'accuracy'}, xlabel='majmin'>,\n",
       "        <Axes: title={'center': 'balanced accuracy'}, xlabel='majmin'>,\n",
       "        <Axes: title={'center': 'f1'}, xlabel='majmin'>],\n",
       "       [<Axes: title={'center': 'precision'}, xlabel='majmin'>,\n",
       "        <Axes: title={'center': 'false positive rate'}, xlabel='majmin'>,\n",
       "        <Axes: title={'center': 'false negative rate'}, xlabel='majmin'>],\n",
       "       [<Axes: title={'center': 'selection rate'}, xlabel='majmin'>,\n",
       "        <Axes: title={'center': 'count'}, xlabel='majmin'>,\n",
       "        <Axes: xlabel='majmin'>]], dtype=object)"
      ]
     },
     "execution_count": 76,
     "metadata": {},
     "output_type": "execute_result"
    },
    {
     "data": {
      "image/png": "[encoded data removed]",
      "text/plain": [
       "<Figure size 1200x800 with 9 Axes>"
      ]
     },
     "metadata": {},
     "output_type": "display_data"
    }
   ],
   "source": [
    "# In a graphic\n",
    "metric_frame.by_group.plot.bar(\n",
    "    subplots=True,\n",
    "    layout=[3, 3],\n",
    "    legend=False,\n",
    "    figsize=[12, 8],\n",
    "    title=\"Show all metrics\",\n",
    ")"
   ]
  },
  {
   "cell_type": "markdown",
   "id": "f57a0bac",
   "metadata": {
    "papermill": {
     "duration": 0.028688,
     "end_time": "2025-07-30T20:12:12.390730",
     "exception": false,
     "start_time": "2025-07-30T20:12:12.362042",
     "status": "completed"
    },
    "tags": []
   },
   "source": [
    "# Final Output"
   ]
  },
  {
   "cell_type": "code",
   "execution_count": 77,
   "id": "96d280a3",
   "metadata": {
    "execution": {
     "iopub.execute_input": "2025-07-30T20:12:12.450853Z",
     "iopub.status.busy": "2025-07-30T20:12:12.449695Z",
     "iopub.status.idle": "2025-07-30T20:12:12.458697Z",
     "shell.execute_reply": "2025-07-30T20:12:12.457689Z"
    },
    "papermill": {
     "duration": 0.042083,
     "end_time": "2025-07-30T20:12:12.462502",
     "exception": false,
     "start_time": "2025-07-30T20:12:12.420419",
     "status": "completed"
    },
    "tags": []
   },
   "outputs": [
    {
     "data": {
      "text/plain": [
       "4"
      ]
     },
     "execution_count": 77,
     "metadata": {},
     "output_type": "execute_result"
    }
   ],
   "source": [
    "sub_universes = universe_analysis.generate_sub_universes()\n",
    "len(sub_universes)"
   ]
  },
  {
   "cell_type": "code",
   "execution_count": 78,
   "id": "92adf7ba",
   "metadata": {
    "execution": {
     "iopub.execute_input": "2025-07-30T20:12:12.526964Z",
     "iopub.status.busy": "2025-07-30T20:12:12.526541Z",
     "iopub.status.idle": "2025-07-30T20:12:12.533323Z",
     "shell.execute_reply": "2025-07-30T20:12:12.532293Z"
    },
    "papermill": {
     "duration": 0.040416,
     "end_time": "2025-07-30T20:12:12.536653",
     "exception": false,
     "start_time": "2025-07-30T20:12:12.496237",
     "status": "completed"
    },
    "tags": []
   },
   "outputs": [],
   "source": [
    "def filter_sub_universe_data(sub_universe, org_test):\n",
    "    # Keep all rows — no filtering\n",
    "    keep_rows_mask = np.ones(org_test.shape[0], dtype=bool)\n",
    "\n",
    "    print(f\"[INFO] Keeping all rows: {keep_rows_mask.sum()} rows retained.\")\n",
    "    return keep_rows_mask"
   ]
  },
  {
   "cell_type": "code",
   "execution_count": 79,
   "id": "4a759155",
   "metadata": {
    "execution": {
     "iopub.execute_input": "2025-07-30T20:12:12.597508Z",
     "iopub.status.busy": "2025-07-30T20:12:12.597078Z",
     "iopub.status.idle": "2025-07-30T20:12:25.308951Z",
     "shell.execute_reply": "2025-07-30T20:12:25.292256Z"
    },
    "papermill": {
     "duration": 12.744149,
     "end_time": "2025-07-30T20:12:25.311275",
     "exception": false,
     "start_time": "2025-07-30T20:12:12.567126",
     "status": "completed"
    },
    "tags": []
   },
   "outputs": [
    {
     "name": "stdout",
     "output_type": "stream",
     "text": [
      "Stopping execution_time clock.\n",
      "[INFO] Keeping all rows: 89710 rows retained.\n"
     ]
    },
    {
     "name": "stdout",
     "output_type": "stream",
     "text": [
      "[INFO] Keeping all rows: 89710 rows retained.\n"
     ]
    },
    {
     "name": "stdout",
     "output_type": "stream",
     "text": [
      "[INFO] Keeping all rows: 89710 rows retained.\n"
     ]
    },
    {
     "name": "stdout",
     "output_type": "stream",
     "text": [
      "[INFO] Keeping all rows: 89710 rows retained.\n"
     ]
    },
    {
     "data": {
      "text/html": [
       "<div>\n",
       "<style scoped>\n",
       "    .dataframe tbody tr th:only-of-type {\n",
       "        vertical-align: middle;\n",
       "    }\n",
       "\n",
       "    .dataframe tbody tr th {\n",
       "        vertical-align: top;\n",
       "    }\n",
       "\n",
       "    .dataframe thead th {\n",
       "        text-align: right;\n",
       "    }\n",
       "</style>\n",
       "<table border=\"1\" class=\"dataframe\">\n",
       "  <thead>\n",
       "    <tr style=\"text-align: right;\">\n",
       "      <th></th>\n",
       "      <th>run_no</th>\n",
       "      <th>universe_id</th>\n",
       "      <th>universe_settings</th>\n",
       "      <th>execution_time</th>\n",
       "      <th>test_size_n</th>\n",
       "      <th>test_size_frac</th>\n",
       "      <th>fair_main_equalized_odds_difference</th>\n",
       "      <th>fair_main_equalized_odds_ratio</th>\n",
       "      <th>fair_main_demographic_parity_difference</th>\n",
       "      <th>fair_main_demographic_parity_ratio</th>\n",
       "      <th>...</th>\n",
       "      <th>perf_grp_precision_0</th>\n",
       "      <th>perf_grp_precision_1</th>\n",
       "      <th>perf_grp_false positive rate_0</th>\n",
       "      <th>perf_grp_false positive rate_1</th>\n",
       "      <th>perf_grp_false negative rate_0</th>\n",
       "      <th>perf_grp_false negative rate_1</th>\n",
       "      <th>perf_grp_selection rate_0</th>\n",
       "      <th>perf_grp_selection rate_1</th>\n",
       "      <th>perf_grp_count_0</th>\n",
       "      <th>perf_grp_count_1</th>\n",
       "    </tr>\n",
       "  </thead>\n",
       "  <tbody>\n",
       "    <tr>\n",
       "      <th>0</th>\n",
       "      <td>14</td>\n",
       "      <td>4df5ac6e0876bbdcd925702f00c597ff</td>\n",
       "      <td>{\"cutoff\": \"quantile_0.1\", \"eval_fairness_grou...</td>\n",
       "      <td>36.040311</td>\n",
       "      <td>89710</td>\n",
       "      <td>1.0</td>\n",
       "      <td>0.090823</td>\n",
       "      <td>0.902884</td>\n",
       "      <td>0.088408</td>\n",
       "      <td>0.906218</td>\n",
       "      <td>...</td>\n",
       "      <td>NaN</td>\n",
       "      <td>NaN</td>\n",
       "      <td>NaN</td>\n",
       "      <td>NaN</td>\n",
       "      <td>NaN</td>\n",
       "      <td>NaN</td>\n",
       "      <td>NaN</td>\n",
       "      <td>NaN</td>\n",
       "      <td>NaN</td>\n",
       "      <td>NaN</td>\n",
       "    </tr>\n",
       "    <tr>\n",
       "      <th>0</th>\n",
       "      <td>14</td>\n",
       "      <td>4df5ac6e0876bbdcd925702f00c597ff</td>\n",
       "      <td>{\"cutoff\": \"quantile_0.1\", \"eval_fairness_grou...</td>\n",
       "      <td>36.040311</td>\n",
       "      <td>89710</td>\n",
       "      <td>1.0</td>\n",
       "      <td>0.090823</td>\n",
       "      <td>0.902884</td>\n",
       "      <td>0.088408</td>\n",
       "      <td>0.906218</td>\n",
       "      <td>...</td>\n",
       "      <td>0.125549</td>\n",
       "      <td>0.139036</td>\n",
       "      <td>0.844376</td>\n",
       "      <td>0.935199</td>\n",
       "      <td>0.069679</td>\n",
       "      <td>0.008096</td>\n",
       "      <td>0.854284</td>\n",
       "      <td>0.942692</td>\n",
       "      <td>20540.0</td>\n",
       "      <td>69170.0</td>\n",
       "    </tr>\n",
       "    <tr>\n",
       "      <th>0</th>\n",
       "      <td>14</td>\n",
       "      <td>4df5ac6e0876bbdcd925702f00c597ff</td>\n",
       "      <td>{\"cutoff\": \"quantile_0.25\", \"eval_fairness_gro...</td>\n",
       "      <td>36.040311</td>\n",
       "      <td>89710</td>\n",
       "      <td>1.0</td>\n",
       "      <td>0.099986</td>\n",
       "      <td>0.888308</td>\n",
       "      <td>0.090776</td>\n",
       "      <td>0.885762</td>\n",
       "      <td>...</td>\n",
       "      <td>NaN</td>\n",
       "      <td>NaN</td>\n",
       "      <td>NaN</td>\n",
       "      <td>NaN</td>\n",
       "      <td>NaN</td>\n",
       "      <td>NaN</td>\n",
       "      <td>NaN</td>\n",
       "      <td>NaN</td>\n",
       "      <td>NaN</td>\n",
       "      <td>NaN</td>\n",
       "    </tr>\n",
       "    <tr>\n",
       "      <th>0</th>\n",
       "      <td>14</td>\n",
       "      <td>4df5ac6e0876bbdcd925702f00c597ff</td>\n",
       "      <td>{\"cutoff\": \"quantile_0.25\", \"eval_fairness_gro...</td>\n",
       "      <td>36.040311</td>\n",
       "      <td>89710</td>\n",
       "      <td>1.0</td>\n",
       "      <td>0.099986</td>\n",
       "      <td>0.888308</td>\n",
       "      <td>0.090776</td>\n",
       "      <td>0.885762</td>\n",
       "      <td>...</td>\n",
       "      <td>0.141039</td>\n",
       "      <td>0.159814</td>\n",
       "      <td>0.683359</td>\n",
       "      <td>0.769282</td>\n",
       "      <td>0.138936</td>\n",
       "      <td>0.038950</td>\n",
       "      <td>0.703846</td>\n",
       "      <td>0.794622</td>\n",
       "      <td>20540.0</td>\n",
       "      <td>69170.0</td>\n",
       "    </tr>\n",
       "  </tbody>\n",
       "</table>\n",
       "<p>4 rows × 50 columns</p>\n",
       "</div>"
      ],
      "text/plain": [
       "  run_no                       universe_id  \\\n",
       "0     14  4df5ac6e0876bbdcd925702f00c597ff   \n",
       "0     14  4df5ac6e0876bbdcd925702f00c597ff   \n",
       "0     14  4df5ac6e0876bbdcd925702f00c597ff   \n",
       "0     14  4df5ac6e0876bbdcd925702f00c597ff   \n",
       "\n",
       "                                   universe_settings  execution_time  \\\n",
       "0  {\"cutoff\": \"quantile_0.1\", \"eval_fairness_grou...       36.040311   \n",
       "0  {\"cutoff\": \"quantile_0.1\", \"eval_fairness_grou...       36.040311   \n",
       "0  {\"cutoff\": \"quantile_0.25\", \"eval_fairness_gro...       36.040311   \n",
       "0  {\"cutoff\": \"quantile_0.25\", \"eval_fairness_gro...       36.040311   \n",
       "\n",
       "   test_size_n  test_size_frac  fair_main_equalized_odds_difference  \\\n",
       "0        89710             1.0                             0.090823   \n",
       "0        89710             1.0                             0.090823   \n",
       "0        89710             1.0                             0.099986   \n",
       "0        89710             1.0                             0.099986   \n",
       "\n",
       "   fair_main_equalized_odds_ratio  fair_main_demographic_parity_difference  \\\n",
       "0                        0.902884                                 0.088408   \n",
       "0                        0.902884                                 0.088408   \n",
       "0                        0.888308                                 0.090776   \n",
       "0                        0.888308                                 0.090776   \n",
       "\n",
       "   fair_main_demographic_parity_ratio  ...  perf_grp_precision_0  \\\n",
       "0                            0.906218  ...                   NaN   \n",
       "0                            0.906218  ...              0.125549   \n",
       "0                            0.885762  ...                   NaN   \n",
       "0                            0.885762  ...              0.141039   \n",
       "\n",
       "   perf_grp_precision_1  perf_grp_false positive rate_0  \\\n",
       "0                   NaN                             NaN   \n",
       "0              0.139036                        0.844376   \n",
       "0                   NaN                             NaN   \n",
       "0              0.159814                        0.683359   \n",
       "\n",
       "   perf_grp_false positive rate_1  perf_grp_false negative rate_0  \\\n",
       "0                             NaN                             NaN   \n",
       "0                        0.935199                        0.069679   \n",
       "0                             NaN                             NaN   \n",
       "0                        0.769282                        0.138936   \n",
       "\n",
       "   perf_grp_false negative rate_1  perf_grp_selection rate_0  \\\n",
       "0                             NaN                        NaN   \n",
       "0                        0.008096                   0.854284   \n",
       "0                             NaN                        NaN   \n",
       "0                        0.038950                   0.703846   \n",
       "\n",
       "   perf_grp_selection rate_1  perf_grp_count_0  perf_grp_count_1  \n",
       "0                        NaN               NaN               NaN  \n",
       "0                   0.942692           20540.0           69170.0  \n",
       "0                        NaN               NaN               NaN  \n",
       "0                   0.794622           20540.0           69170.0  \n",
       "\n",
       "[4 rows x 50 columns]"
      ]
     },
     "execution_count": 79,
     "metadata": {},
     "output_type": "execute_result"
    }
   ],
   "source": [
    "final_output = universe_analysis.generate_final_output(\n",
    "    y_pred_prob=probs_test,\n",
    "    y_test=y_true,\n",
    "    org_test=org_test,\n",
    "    filter_data=filter_sub_universe_data,\n",
    "    cp_metrics_df=cp_metrics_df,\n",
    "    save=True,\n",
    ")\n",
    "final_output"
   ]
  },
  {
   "cell_type": "code",
   "execution_count": null,
   "id": "721ff514-cb11-46f8-b6fc-50392f74b5cb",
   "metadata": {
    "papermill": {
     "duration": 0.066419,
     "end_time": "2025-07-30T20:12:25.430945",
     "exception": false,
     "start_time": "2025-07-30T20:12:25.364526",
     "status": "completed"
    },
    "tags": []
   },
   "outputs": [],
   "source": []
  }
 ],
 "metadata": {
  "celltoolbar": "Tags",
  "kernelspec": {
   "display_name": "Python (CMA Fairness)",
   "language": "python",
   "name": "cma_fair_env"
  },
  "language_info": {
   "codemirror_mode": {
    "name": "ipython",
    "version": 3
   },
   "file_extension": ".py",
   "mimetype": "text/x-python",
   "name": "python",
   "nbconvert_exporter": "python",
   "pygments_lexer": "ipython3",
   "version": "3.10.12"
  },
  "papermill": {
   "default_parameters": {},
   "duration": 55.102643,
   "end_time": "2025-07-30T20:12:26.728497",
   "environment_variables": {},
   "exception": null,
   "input_path": "universe_analysis.ipynb",
   "output_path": "output/runs/14/notebooks/m_14-4df5ac6e0876bbdcd925702f00c597ff.ipynb",
   "parameters": {
    "output_dir": "output",
    "run_no": "14",
    "seed": "2023",
    "universe": "{\"cutoff\": [\"quantile_0.1\", \"quantile_0.25\"], \"eval_fairness_grouping\": [\"majority-minority\", \"nationality-all\"], \"exclude_features\": \"nationality-sex\", \"exclude_subgroups\": \"keep-all\", \"model\": \"rf\", \"scale\": \"scale\", \"training_size\": \"25k\", \"training_year\": \"2012_14\"}",
    "universe_id": "4df5ac6e0876bbdcd925702f00c597ff"
   },
   "start_time": "2025-07-30T20:11:31.625854",
   "version": "2.6.0"
  }
 },
 "nbformat": 4,
 "nbformat_minor": 5
}