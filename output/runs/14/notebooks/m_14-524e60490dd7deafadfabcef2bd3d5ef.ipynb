{
 "cells": [
  {
   "cell_type": "code",
   "execution_count": 1,
   "id": "f159f837-637b-42ba-96b5-ec9a68c44524",
   "metadata": {
    "execution": {
     "iopub.execute_input": "2025-07-30T21:28:49.557066Z",
     "iopub.status.busy": "2025-07-30T21:28:49.556365Z",
     "iopub.status.idle": "2025-07-30T21:28:49.570147Z",
     "shell.execute_reply": "2025-07-30T21:28:49.569143Z"
    },
    "papermill": {
     "duration": 0.036128,
     "end_time": "2025-07-30T21:28:49.571908",
     "exception": false,
     "start_time": "2025-07-30T21:28:49.535780",
     "status": "completed"
    },
    "tags": []
   },
   "outputs": [
    {
     "name": "stdout",
     "output_type": "stream",
     "text": [
      "/dss/dsshome1/0C/ra93lal2/cma/CMA_Fairness_v2\n"
     ]
    },
    {
     "name": "stderr",
     "output_type": "stream",
     "text": [
      "/dss/dsshome1/0C/ra93lal2/.local/share/virtualenvs/CMA_Fairness_v2-3j10GkSs/lib/python3.10/site-packages/IPython/core/magics/osm.py:393: UserWarning: This is now an optional IPython functionality, using bookmarks requires you to install the `pickleshare` library.\n",
      "  bkms = self.shell.db.get('bookmarks', {})\n",
      "/dss/dsshome1/0C/ra93lal2/.local/share/virtualenvs/CMA_Fairness_v2-3j10GkSs/lib/python3.10/site-packages/IPython/core/magics/osm.py:417: UserWarning: This is now an optional IPython functionality, setting dhist requires you to install the `pickleshare` library.\n",
      "  self.shell.db['dhist'] = compress_dhist(dhist)[-100:]\n"
     ]
    }
   ],
   "source": [
    "%cd ~/cma/CMA_Fairness_v2"
   ]
  },
  {
   "cell_type": "markdown",
   "id": "de2603b9",
   "metadata": {
    "papermill": {
     "duration": 0.019364,
     "end_time": "2025-07-30T21:28:49.613552",
     "exception": false,
     "start_time": "2025-07-30T21:28:49.594188",
     "status": "completed"
    },
    "tags": []
   },
   "source": [
    "The following cell holds the definition of our parameters, these values can be overriden by rendering the with e.g. the following command:\n",
    "\n",
    "papermill -p alpha 0.2 -p ratio 0.3 universe_analysis.ipynb output/test_run.ipynb"
   ]
  },
  {
   "cell_type": "code",
   "execution_count": 2,
   "id": "a80968a0-40bb-4fa9-85ef-2d5eefb01975",
   "metadata": {
    "execution": {
     "iopub.execute_input": "2025-07-30T21:28:49.653961Z",
     "iopub.status.busy": "2025-07-30T21:28:49.653082Z",
     "iopub.status.idle": "2025-07-30T21:28:49.658961Z",
     "shell.execute_reply": "2025-07-30T21:28:49.657964Z"
    },
    "papermill": {
     "duration": 0.027869,
     "end_time": "2025-07-30T21:28:49.660614",
     "exception": false,
     "start_time": "2025-07-30T21:28:49.632745",
     "status": "completed"
    },
    "tags": []
   },
   "outputs": [
    {
     "name": "stdout",
     "output_type": "stream",
     "text": [
      "Current working directory: /dss/dsshome1/0C/ra93lal2/cma/CMA_Fairness_v2\n"
     ]
    }
   ],
   "source": [
    "import os\n",
    "print(\"Current working directory:\", os.getcwd())"
   ]
  },
  {
   "cell_type": "code",
   "execution_count": 3,
   "id": "2dce4c03",
   "metadata": {
    "execution": {
     "iopub.execute_input": "2025-07-30T21:28:49.701587Z",
     "iopub.status.busy": "2025-07-30T21:28:49.700908Z",
     "iopub.status.idle": "2025-07-30T21:28:49.707385Z",
     "shell.execute_reply": "2025-07-30T21:28:49.706414Z"
    },
    "papermill": {
     "duration": 0.028615,
     "end_time": "2025-07-30T21:28:49.709005",
     "exception": false,
     "start_time": "2025-07-30T21:28:49.680390",
     "status": "completed"
    },
    "tags": [
     "parameters"
    ]
   },
   "outputs": [],
   "source": [
    "run_no = 0\n",
    "universe_id = \"test\"\n",
    "universe = {\n",
    "    \"training_size\": \"25k\", # \"25k\", \"5k\", \"1k\"\n",
    "    \"training_year\": \"2014\", # \"2014\", \"2012_14\", \"2010_14\"\n",
    "    \"scale\": \"scale\", # \"scale\", \"do-not-scale\",\n",
    "    #\"stratify_split\": \"target\", # \"none\", \"target\", \"protected-attribute\", \"both\",\n",
    "    \"model\": \"elasticnet\", # \"logreg\", \"penalized_logreg\", \"rf\", \"gbm\", \"elasticnet\"\n",
    "    \"cutoff\": [\"quantile_0.15\", \"quantile_0.30\"],\n",
    "    \"exclude_features\": \"age\", # \"none\", \"nationality\", \"sex\", \"nationality-sex\", \"age\"\n",
    "    \"exclude_subgroups\": \"keep-all\", # \"keep-all\", \"drop-non-german\"\n",
    "    \"eval_fairness_grouping\": [\"majority-minority\", \"nationality-all\"]\n",
    "}\n",
    "\n",
    "output_dir=\"./output\"\n",
    "seed=0"
   ]
  },
  {
   "cell_type": "code",
   "execution_count": 4,
   "id": "a42bf5e6",
   "metadata": {
    "execution": {
     "iopub.execute_input": "2025-07-30T21:28:49.751073Z",
     "iopub.status.busy": "2025-07-30T21:28:49.750316Z",
     "iopub.status.idle": "2025-07-30T21:28:49.755664Z",
     "shell.execute_reply": "2025-07-30T21:28:49.754704Z"
    },
    "papermill": {
     "duration": 0.027377,
     "end_time": "2025-07-30T21:28:49.757478",
     "exception": false,
     "start_time": "2025-07-30T21:28:49.730101",
     "status": "completed"
    },
    "tags": [
     "injected-parameters"
    ]
   },
   "outputs": [],
   "source": [
    "# Parameters\n",
    "universe_id = \"524e60490dd7deafadfabcef2bd3d5ef\"\n",
    "run_no = \"14\"\n",
    "universe = \"{\\\"cutoff\\\": [\\\"quantile_0.1\\\", \\\"quantile_0.25\\\"], \\\"eval_fairness_grouping\\\": [\\\"majority-minority\\\", \\\"nationality-all\\\"], \\\"exclude_features\\\": \\\"nationality-sex\\\", \\\"exclude_subgroups\\\": \\\"keep-all\\\", \\\"model\\\": \\\"penalized_logreg\\\", \\\"scale\\\": \\\"do-not-scale\\\", \\\"training_size\\\": \\\"1k\\\", \\\"training_year\\\": \\\"2014\\\"}\"\n",
    "output_dir = \"output\"\n",
    "seed = \"2023\"\n"
   ]
  },
  {
   "cell_type": "code",
   "execution_count": 5,
   "id": "1650acaf",
   "metadata": {
    "execution": {
     "iopub.execute_input": "2025-07-30T21:28:49.802191Z",
     "iopub.status.busy": "2025-07-30T21:28:49.801609Z",
     "iopub.status.idle": "2025-07-30T21:28:49.807331Z",
     "shell.execute_reply": "2025-07-30T21:28:49.806473Z"
    },
    "papermill": {
     "duration": 0.029178,
     "end_time": "2025-07-30T21:28:49.809045",
     "exception": false,
     "start_time": "2025-07-30T21:28:49.779867",
     "status": "completed"
    },
    "tags": []
   },
   "outputs": [],
   "source": [
    "import json\n",
    "# Parse universe into dict if it is passed as a string\n",
    "if isinstance(universe, str):\n",
    "    universe = json.loads(universe)"
   ]
  },
  {
   "cell_type": "code",
   "execution_count": 6,
   "id": "16620c48",
   "metadata": {
    "execution": {
     "iopub.execute_input": "2025-07-30T21:28:49.854199Z",
     "iopub.status.busy": "2025-07-30T21:28:49.853730Z",
     "iopub.status.idle": "2025-07-30T21:28:49.901854Z",
     "shell.execute_reply": "2025-07-30T21:28:49.900790Z"
    },
    "papermill": {
     "duration": 0.072061,
     "end_time": "2025-07-30T21:28:49.903842",
     "exception": false,
     "start_time": "2025-07-30T21:28:49.831781",
     "status": "completed"
    },
    "tags": []
   },
   "outputs": [],
   "source": [
    "# Auto-reload the custom package\n",
    "%load_ext autoreload\n",
    "%autoreload 1\n",
    "%aimport fairness_multiverse"
   ]
  },
  {
   "cell_type": "code",
   "execution_count": 7,
   "id": "01c5c9f3",
   "metadata": {
    "execution": {
     "iopub.execute_input": "2025-07-30T21:28:49.947622Z",
     "iopub.status.busy": "2025-07-30T21:28:49.947173Z",
     "iopub.status.idle": "2025-07-30T21:28:51.768276Z",
     "shell.execute_reply": "2025-07-30T21:28:51.767463Z"
    },
    "papermill": {
     "duration": 1.843548,
     "end_time": "2025-07-30T21:28:51.769750",
     "exception": false,
     "start_time": "2025-07-30T21:28:49.926202",
     "status": "completed"
    },
    "tags": []
   },
   "outputs": [],
   "source": [
    "from fairness_multiverse.universe import UniverseAnalysis\n",
    "\n",
    "universe_analysis = UniverseAnalysis(\n",
    "    run_no = run_no,\n",
    "    universe_id = universe_id,\n",
    "    universe = universe,\n",
    "    output_dir=output_dir,\n",
    ")"
   ]
  },
  {
   "cell_type": "code",
   "execution_count": 8,
   "id": "106241f5",
   "metadata": {
    "execution": {
     "iopub.execute_input": "2025-07-30T21:28:51.792808Z",
     "iopub.status.busy": "2025-07-30T21:28:51.792453Z",
     "iopub.status.idle": "2025-07-30T21:28:51.798311Z",
     "shell.execute_reply": "2025-07-30T21:28:51.797283Z"
    },
    "papermill": {
     "duration": 0.018573,
     "end_time": "2025-07-30T21:28:51.799805",
     "exception": false,
     "start_time": "2025-07-30T21:28:51.781232",
     "status": "completed"
    },
    "tags": []
   },
   "outputs": [
    {
     "name": "stdout",
     "output_type": "stream",
     "text": [
      "Using Seed: 2023\n"
     ]
    }
   ],
   "source": [
    "import numpy as np\n",
    "parsed_seed = int(seed)\n",
    "np.random.seed(parsed_seed)\n",
    "print(f\"Using Seed: {parsed_seed}\")"
   ]
  },
  {
   "cell_type": "markdown",
   "id": "e0ebdc57",
   "metadata": {
    "papermill": {
     "duration": 0.010638,
     "end_time": "2025-07-30T21:28:51.822391",
     "exception": false,
     "start_time": "2025-07-30T21:28:51.811753",
     "status": "completed"
    },
    "tags": []
   },
   "source": [
    "# Loading Data"
   ]
  },
  {
   "cell_type": "markdown",
   "id": "681925a3",
   "metadata": {
    "papermill": {
     "duration": 0.010172,
     "end_time": "2025-07-30T21:28:51.843443",
     "exception": false,
     "start_time": "2025-07-30T21:28:51.833271",
     "status": "completed"
    },
    "tags": []
   },
   "source": [
    "Load siab_train, siab_test, siab_calib and/or \n",
    "load siab_train_features, siab_train_labels"
   ]
  },
  {
   "cell_type": "code",
   "execution_count": 9,
   "id": "f0496b8a",
   "metadata": {
    "execution": {
     "iopub.execute_input": "2025-07-30T21:28:51.865558Z",
     "iopub.status.busy": "2025-07-30T21:28:51.865214Z",
     "iopub.status.idle": "2025-07-30T21:29:03.932156Z",
     "shell.execute_reply": "2025-07-30T21:29:03.930562Z"
    },
    "papermill": {
     "duration": 12.080309,
     "end_time": "2025-07-30T21:29:03.934298",
     "exception": false,
     "start_time": "2025-07-30T21:28:51.853989",
     "status": "completed"
    },
    "tags": []
   },
   "outputs": [
    {
     "name": "stdout",
     "output_type": "stream",
     "text": [
      "Loading SIAB data from cache: data/siab_cached.csv.gz\n"
     ]
    },
    {
     "name": "stdout",
     "output_type": "stream",
     "text": [
      "(643690, 164)\n"
     ]
    }
   ],
   "source": [
    "from pathlib import Path\n",
    "import pandas as pd\n",
    "\n",
    "# File paths\n",
    "raw_file = Path(\"data/raw/siab.csv\")\n",
    "cache_file = Path(\"data/siab_cached.csv.gz\")\n",
    "\n",
    "# Ensure cache directory exists\n",
    "cache_file.parent.mkdir(parents=True, exist_ok=True)\n",
    "\n",
    "# Load with simple caching\n",
    "if cache_file.exists():\n",
    "    print(f\"Loading SIAB data from cache: {cache_file}\")\n",
    "    siab = pd.read_csv(cache_file, compression='gzip')\n",
    "else:\n",
    "    print(f\"Cache not found. Reading raw SIAB data: {raw_file}\")\n",
    "    siab = pd.read_csv(raw_file)\n",
    "    siab.to_csv(cache_file, index=False, compression='gzip')\n",
    "    print(f\"Cached SIAB data to: {cache_file}\")\n",
    "\n",
    "# Now use `siab` DataFrame as needed\n",
    "print(siab.shape)"
   ]
  },
  {
   "cell_type": "code",
   "execution_count": 10,
   "id": "db0ca512-5f53-4dba-abdb-a2888bca41ba",
   "metadata": {
    "execution": {
     "iopub.execute_input": "2025-07-30T21:29:03.988845Z",
     "iopub.status.busy": "2025-07-30T21:29:03.988008Z",
     "iopub.status.idle": "2025-07-30T21:29:03.993824Z",
     "shell.execute_reply": "2025-07-30T21:29:03.992901Z"
    },
    "papermill": {
     "duration": 0.031247,
     "end_time": "2025-07-30T21:29:03.995682",
     "exception": false,
     "start_time": "2025-07-30T21:29:03.964435",
     "status": "completed"
    },
    "tags": []
   },
   "outputs": [],
   "source": [
    "#siab"
   ]
  },
  {
   "cell_type": "code",
   "execution_count": 11,
   "id": "a0edb063",
   "metadata": {
    "execution": {
     "iopub.execute_input": "2025-07-30T21:29:04.041060Z",
     "iopub.status.busy": "2025-07-30T21:29:04.040317Z",
     "iopub.status.idle": "2025-07-30T21:29:04.045691Z",
     "shell.execute_reply": "2025-07-30T21:29:04.044513Z"
    },
    "papermill": {
     "duration": 0.029919,
     "end_time": "2025-07-30T21:29:04.047419",
     "exception": false,
     "start_time": "2025-07-30T21:29:04.017500",
     "status": "completed"
    },
    "tags": []
   },
   "outputs": [],
   "source": [
    "#import pandas as pd\n",
    "#\n",
    "#X_train = pd.read_csv(\"./data/X_train.csv\")\n",
    "#y_train = pd.read_csv(\"./data/y_train.csv\")"
   ]
  },
  {
   "cell_type": "code",
   "execution_count": 12,
   "id": "63d08085",
   "metadata": {
    "execution": {
     "iopub.execute_input": "2025-07-30T21:29:04.093083Z",
     "iopub.status.busy": "2025-07-30T21:29:04.092284Z",
     "iopub.status.idle": "2025-07-30T21:29:04.098870Z",
     "shell.execute_reply": "2025-07-30T21:29:04.097606Z"
    },
    "papermill": {
     "duration": 0.031294,
     "end_time": "2025-07-30T21:29:04.100842",
     "exception": false,
     "start_time": "2025-07-30T21:29:04.069548",
     "status": "completed"
    },
    "tags": []
   },
   "outputs": [],
   "source": [
    "#X_test = pd.read_csv(\"./data/X_test.csv\")\n",
    "#y_true = pd.read_csv(\"./data/y_test.csv\")"
   ]
  },
  {
   "cell_type": "code",
   "execution_count": 13,
   "id": "98a8d0fa-1d3d-4ed8-bb2c-281470e24add",
   "metadata": {
    "execution": {
     "iopub.execute_input": "2025-07-30T21:29:04.145985Z",
     "iopub.status.busy": "2025-07-30T21:29:04.145536Z",
     "iopub.status.idle": "2025-07-30T21:29:04.150796Z",
     "shell.execute_reply": "2025-07-30T21:29:04.149809Z"
    },
    "papermill": {
     "duration": 0.029349,
     "end_time": "2025-07-30T21:29:04.152608",
     "exception": false,
     "start_time": "2025-07-30T21:29:04.123259",
     "status": "completed"
    },
    "tags": []
   },
   "outputs": [],
   "source": [
    "# Calibration data for conformal\n",
    "#X_calib = pd.read_csv(\"./data/X_calib.csv\")\n",
    "#y_calib = pd.read_csv(\"./data/y_calib.csv\")"
   ]
  },
  {
   "cell_type": "markdown",
   "id": "997051c5-15bd-4b69-9786-c3001a3ce484",
   "metadata": {
    "papermill": {
     "duration": 0.021585,
     "end_time": "2025-07-30T21:29:04.196626",
     "exception": false,
     "start_time": "2025-07-30T21:29:04.175041",
     "status": "completed"
    },
    "tags": []
   },
   "source": [
    "# Splitting Data and Setting Training Data Size"
   ]
  },
  {
   "cell_type": "code",
   "execution_count": 14,
   "id": "e993b61f-042d-41a6-8c81-f55681f86335",
   "metadata": {
    "execution": {
     "iopub.execute_input": "2025-07-30T21:29:04.241664Z",
     "iopub.status.busy": "2025-07-30T21:29:04.241247Z",
     "iopub.status.idle": "2025-07-30T21:29:04.255422Z",
     "shell.execute_reply": "2025-07-30T21:29:04.254417Z"
    },
    "papermill": {
     "duration": 0.039297,
     "end_time": "2025-07-30T21:29:04.257252",
     "exception": false,
     "start_time": "2025-07-30T21:29:04.217955",
     "status": "completed"
    },
    "tags": []
   },
   "outputs": [],
   "source": [
    "def sample_by_year_size(df,\n",
    "                        training_year: str,\n",
    "                        training_size: str,\n",
    "                        random_state: int = 42):\n",
    "    # --- parse training_year into a list of int years ---\n",
    "    if \"_\" in training_year:\n",
    "        start_str, end_str = training_year.split(\"_\", 1)\n",
    "        start = int(start_str)\n",
    "        end   = int(end_str) if len(end_str) == 4 else (int(end_str) + (start // 100)*100)\n",
    "        years = list(range(start, end + 1))\n",
    "    else:\n",
    "        years = [int(training_year)]\n",
    "\n",
    "    df = df[df[\"year\"].isin(years)].reset_index(drop=True)\n",
    "\n",
    "    # --- map training_size to total number of samples ---\n",
    "    total_map = {\"25k\": 25_000, \"5k\": 5_000, \"1k\": 1_000}\n",
    "    if training_size not in total_map:\n",
    "        return df  # e.g. \"all\"\n",
    "\n",
    "    total_samples = total_map[training_size]\n",
    "    n_years       = len(years)\n",
    "    base          = total_samples // n_years\n",
    "    remainder     = total_samples % n_years\n",
    "\n",
    "    # --- build a dict: year -> how many to sample ---\n",
    "    # give +1 to the first `remainder` years in ascending order\n",
    "    quotas = {\n",
    "        year: base + (1 if idx < remainder else 0)\n",
    "        for idx, year in enumerate(sorted(years))\n",
    "    }\n",
    "\n",
    "    # --- sample per‐year according to the quota dict ---\n",
    "    sampled = (\n",
    "        df\n",
    "        .groupby(\"year\", group_keys=False)\n",
    "        .apply(lambda grp: grp.sample(\n",
    "            n=min(len(grp), quotas[grp.name]),\n",
    "            random_state=random_state))\n",
    "        .reset_index(drop=True)\n",
    "    )\n",
    "\n",
    "    return sampled"
   ]
  },
  {
   "cell_type": "code",
   "execution_count": 15,
   "id": "c0ccd338-0e02-41f3-a09d-f56f9266e3fb",
   "metadata": {
    "execution": {
     "iopub.execute_input": "2025-07-30T21:29:04.302523Z",
     "iopub.status.busy": "2025-07-30T21:29:04.302026Z",
     "iopub.status.idle": "2025-07-30T21:29:04.307158Z",
     "shell.execute_reply": "2025-07-30T21:29:04.306138Z"
    },
    "papermill": {
     "duration": 0.029994,
     "end_time": "2025-07-30T21:29:04.309005",
     "exception": false,
     "start_time": "2025-07-30T21:29:04.279011",
     "status": "completed"
    },
    "tags": []
   },
   "outputs": [],
   "source": [
    "#universe[\"training_size\"]"
   ]
  },
  {
   "cell_type": "code",
   "execution_count": 16,
   "id": "ca707fd7-8047-4acd-bfa5-66248fbbf8e6",
   "metadata": {
    "execution": {
     "iopub.execute_input": "2025-07-30T21:29:04.354940Z",
     "iopub.status.busy": "2025-07-30T21:29:04.354117Z",
     "iopub.status.idle": "2025-07-30T21:29:04.359793Z",
     "shell.execute_reply": "2025-07-30T21:29:04.358790Z"
    },
    "papermill": {
     "duration": 0.02994,
     "end_time": "2025-07-30T21:29:04.361606",
     "exception": false,
     "start_time": "2025-07-30T21:29:04.331666",
     "status": "completed"
    },
    "tags": []
   },
   "outputs": [],
   "source": [
    "#universe[\"training_year\"]"
   ]
  },
  {
   "cell_type": "code",
   "execution_count": 17,
   "id": "aea9c6ef-6f46-42c8-85eb-5a62025c1508",
   "metadata": {
    "execution": {
     "iopub.execute_input": "2025-07-30T21:29:04.408024Z",
     "iopub.status.busy": "2025-07-30T21:29:04.407523Z",
     "iopub.status.idle": "2025-07-30T21:29:04.625467Z",
     "shell.execute_reply": "2025-07-30T21:29:04.624444Z"
    },
    "papermill": {
     "duration": 0.24221,
     "end_time": "2025-07-30T21:29:04.627190",
     "exception": false,
     "start_time": "2025-07-30T21:29:04.384980",
     "status": "completed"
    },
    "tags": []
   },
   "outputs": [],
   "source": [
    "siab_train = sample_by_year_size(siab,\n",
    "                               training_year=universe[\"training_year\"],\n",
    "                               training_size=universe[\"training_size\"])"
   ]
  },
  {
   "cell_type": "code",
   "execution_count": 18,
   "id": "8d3afb32-789d-442c-8d5d-9f5aa8dd2eed",
   "metadata": {
    "execution": {
     "iopub.execute_input": "2025-07-30T21:29:04.672804Z",
     "iopub.status.busy": "2025-07-30T21:29:04.672368Z",
     "iopub.status.idle": "2025-07-30T21:29:04.676882Z",
     "shell.execute_reply": "2025-07-30T21:29:04.675987Z"
    },
    "papermill": {
     "duration": 0.029007,
     "end_time": "2025-07-30T21:29:04.678701",
     "exception": false,
     "start_time": "2025-07-30T21:29:04.649694",
     "status": "completed"
    },
    "tags": []
   },
   "outputs": [],
   "source": [
    "#siab_train.shape"
   ]
  },
  {
   "cell_type": "code",
   "execution_count": 19,
   "id": "d582db68-1a4c-47fb-84fc-08518dc1975a",
   "metadata": {
    "execution": {
     "iopub.execute_input": "2025-07-30T21:29:04.724472Z",
     "iopub.status.busy": "2025-07-30T21:29:04.723855Z",
     "iopub.status.idle": "2025-07-30T21:29:04.729038Z",
     "shell.execute_reply": "2025-07-30T21:29:04.727984Z"
    },
    "papermill": {
     "duration": 0.029818,
     "end_time": "2025-07-30T21:29:04.730885",
     "exception": false,
     "start_time": "2025-07-30T21:29:04.701067",
     "status": "completed"
    },
    "tags": []
   },
   "outputs": [],
   "source": [
    "#display(siab_train.groupby(\"year\").size())"
   ]
  },
  {
   "cell_type": "code",
   "execution_count": 20,
   "id": "a561edb4-d032-42cb-8256-22eac1111c64",
   "metadata": {
    "execution": {
     "iopub.execute_input": "2025-07-30T21:29:04.776560Z",
     "iopub.status.busy": "2025-07-30T21:29:04.776165Z",
     "iopub.status.idle": "2025-07-30T21:29:05.034418Z",
     "shell.execute_reply": "2025-07-30T21:29:05.033542Z"
    },
    "papermill": {
     "duration": 0.282661,
     "end_time": "2025-07-30T21:29:05.036417",
     "exception": false,
     "start_time": "2025-07-30T21:29:04.753756",
     "status": "completed"
    },
    "tags": []
   },
   "outputs": [],
   "source": [
    "#siab_train = siab_s[siab_s.year < 2015]\n",
    "siab_calib = siab[siab.year == 2015]\n",
    "siab_test = siab[siab.year == 2016]"
   ]
  },
  {
   "cell_type": "code",
   "execution_count": 21,
   "id": "472de16f-c3db-4916-846b-1f0de9cf1746",
   "metadata": {
    "execution": {
     "iopub.execute_input": "2025-07-30T21:29:05.084463Z",
     "iopub.status.busy": "2025-07-30T21:29:05.083896Z",
     "iopub.status.idle": "2025-07-30T21:29:05.092084Z",
     "shell.execute_reply": "2025-07-30T21:29:05.090973Z"
    },
    "papermill": {
     "duration": 0.033898,
     "end_time": "2025-07-30T21:29:05.093765",
     "exception": false,
     "start_time": "2025-07-30T21:29:05.059867",
     "status": "completed"
    },
    "tags": []
   },
   "outputs": [],
   "source": [
    "X_train = siab_train.iloc[:,4:164]\n",
    "y_train = siab_train.iloc[:, [3]]"
   ]
  },
  {
   "cell_type": "code",
   "execution_count": 22,
   "id": "828c96af-f43a-4ed6-ba47-8ac73a47d56c",
   "metadata": {
    "execution": {
     "iopub.execute_input": "2025-07-30T21:29:05.139923Z",
     "iopub.status.busy": "2025-07-30T21:29:05.139203Z",
     "iopub.status.idle": "2025-07-30T21:29:05.193600Z",
     "shell.execute_reply": "2025-07-30T21:29:05.192439Z"
    },
    "papermill": {
     "duration": 0.079353,
     "end_time": "2025-07-30T21:29:05.195230",
     "exception": false,
     "start_time": "2025-07-30T21:29:05.115877",
     "status": "completed"
    },
    "tags": []
   },
   "outputs": [],
   "source": [
    "X_calib = siab_calib.iloc[:,4:164]\n",
    "y_calib = siab_calib.iloc[:, [3]]"
   ]
  },
  {
   "cell_type": "code",
   "execution_count": 23,
   "id": "c34be9c3-6bd6-476e-acd3-845840e303be",
   "metadata": {
    "execution": {
     "iopub.execute_input": "2025-07-30T21:29:05.241607Z",
     "iopub.status.busy": "2025-07-30T21:29:05.241088Z",
     "iopub.status.idle": "2025-07-30T21:29:05.298890Z",
     "shell.execute_reply": "2025-07-30T21:29:05.297660Z"
    },
    "papermill": {
     "duration": 0.082802,
     "end_time": "2025-07-30T21:29:05.300844",
     "exception": false,
     "start_time": "2025-07-30T21:29:05.218042",
     "status": "completed"
    },
    "tags": []
   },
   "outputs": [],
   "source": [
    "X_test = siab_test.iloc[:,4:164]\n",
    "y_true = siab_test.iloc[:, [3]]"
   ]
  },
  {
   "cell_type": "markdown",
   "id": "9901737e-04df-44f0-9100-f5ad144ed040",
   "metadata": {
    "papermill": {
     "duration": 0.022105,
     "end_time": "2025-07-30T21:29:05.346010",
     "exception": false,
     "start_time": "2025-07-30T21:29:05.323905",
     "status": "completed"
    },
    "tags": []
   },
   "source": [
    "# Splitting Data and Setting Training Data Size OLD VERSION"
   ]
  },
  {
   "cell_type": "code",
   "execution_count": 24,
   "id": "acbc8f7d-8fc8-4e86-8c59-5dcb0f58384b",
   "metadata": {
    "execution": {
     "iopub.execute_input": "2025-07-30T21:29:05.390083Z",
     "iopub.status.busy": "2025-07-30T21:29:05.389383Z",
     "iopub.status.idle": "2025-07-30T21:29:05.395765Z",
     "shell.execute_reply": "2025-07-30T21:29:05.394639Z"
    },
    "papermill": {
     "duration": 0.030785,
     "end_time": "2025-07-30T21:29:05.397653",
     "exception": false,
     "start_time": "2025-07-30T21:29:05.366868",
     "status": "completed"
    },
    "tags": []
   },
   "outputs": [],
   "source": [
    "#def sample_by_year(df, training_size, random_state=42):\n",
    "#    if training_size == \"2014\":\n",
    "#        return df[df[\"year\"] == 2014].reset_index(drop=True)\n",
    "#    \n",
    "#    size_map = {\n",
    "#        \"25k\": 5000,\n",
    "#        \"5k\": 1000,\n",
    "#        \"1k\": 200\n",
    "#    }\n",
    "#\n",
    "#    if training_size not in size_map:\n",
    "#        return df.reset_index(drop=True)  # use all data\n",
    "#\n",
    "#    n_per_year = size_map[training_size]\n",
    "#    grouped = df.groupby(\"year\")\n",
    "#    sampled = grouped.apply(lambda x: x.sample(n=min(n_per_year, len(x)), random_state=random_state))\n",
    "#    return sampled.reset_index(drop=True)"
   ]
  },
  {
   "cell_type": "code",
   "execution_count": 25,
   "id": "6d931f52-beaf-43ff-9e78-9d44a448d54e",
   "metadata": {
    "execution": {
     "iopub.execute_input": "2025-07-30T21:29:05.445584Z",
     "iopub.status.busy": "2025-07-30T21:29:05.445041Z",
     "iopub.status.idle": "2025-07-30T21:29:05.450435Z",
     "shell.execute_reply": "2025-07-30T21:29:05.449418Z"
    },
    "papermill": {
     "duration": 0.031175,
     "end_time": "2025-07-30T21:29:05.452586",
     "exception": false,
     "start_time": "2025-07-30T21:29:05.421411",
     "status": "completed"
    },
    "tags": []
   },
   "outputs": [],
   "source": [
    "#siab_s = sample_by_year(siab, universe[\"training_size\"])"
   ]
  },
  {
   "cell_type": "code",
   "execution_count": 26,
   "id": "5db0a40e-a4e2-4920-be85-b12ae061d70d",
   "metadata": {
    "execution": {
     "iopub.execute_input": "2025-07-30T21:29:05.502047Z",
     "iopub.status.busy": "2025-07-30T21:29:05.501530Z",
     "iopub.status.idle": "2025-07-30T21:29:05.506081Z",
     "shell.execute_reply": "2025-07-30T21:29:05.505328Z"
    },
    "papermill": {
     "duration": 0.032864,
     "end_time": "2025-07-30T21:29:05.509640",
     "exception": false,
     "start_time": "2025-07-30T21:29:05.476776",
     "status": "completed"
    },
    "tags": []
   },
   "outputs": [],
   "source": [
    "#display(siab_s.groupby(\"year\").size())"
   ]
  },
  {
   "cell_type": "code",
   "execution_count": 27,
   "id": "e6c733c5",
   "metadata": {
    "execution": {
     "iopub.execute_input": "2025-07-30T21:29:05.534377Z",
     "iopub.status.busy": "2025-07-30T21:29:05.533740Z",
     "iopub.status.idle": "2025-07-30T21:29:05.627647Z",
     "shell.execute_reply": "2025-07-30T21:29:05.626441Z"
    },
    "papermill": {
     "duration": 0.107662,
     "end_time": "2025-07-30T21:29:05.629399",
     "exception": false,
     "start_time": "2025-07-30T21:29:05.521737",
     "status": "completed"
    },
    "tags": []
   },
   "outputs": [],
   "source": [
    "# Auxiliary data needed downstream in the pipeline\n",
    "\n",
    "org_train = X_train.copy()\n",
    "org_test = X_test.copy()\n",
    "org_calib = X_calib.copy()"
   ]
  },
  {
   "cell_type": "code",
   "execution_count": 28,
   "id": "1466abac-c6da-4492-a62f-4240ae3783af",
   "metadata": {
    "execution": {
     "iopub.execute_input": "2025-07-30T21:29:05.679295Z",
     "iopub.status.busy": "2025-07-30T21:29:05.678649Z",
     "iopub.status.idle": "2025-07-30T21:29:05.684891Z",
     "shell.execute_reply": "2025-07-30T21:29:05.683859Z"
    },
    "papermill": {
     "duration": 0.034599,
     "end_time": "2025-07-30T21:29:05.686803",
     "exception": false,
     "start_time": "2025-07-30T21:29:05.652204",
     "status": "completed"
    },
    "tags": []
   },
   "outputs": [],
   "source": [
    "# put in other script?\n",
    "# Group sizes\n",
    "\n",
    "#def calculate_percentages(df, df_name):\n",
    "#    total_entries = len(df)\n",
    "#\n",
    "#    female_pct = (df['frau1'] == 1).mean() * 100\n",
    "#    non_german_pct = ((df['maxdeutsch1'] == 0) & (df['maxdeutsch.Missing.'] == 0)).mean() * 100\n",
    "#    non_german_male_pct = ((df['frau1'] == 0) & (df['maxdeutsch1'] == 0) & (df['maxdeutsch.Missing.'] == 0)).mean() * 100\n",
    "#    non_german_female_pct = ((df['frau1'] == 1) & (df['maxdeutsch1'] == 0) & (df['maxdeutsch.Missing.'] == 0)).mean() * 100\n",
    "#\n",
    "#    print(f\"--- {df_name} ---\")\n",
    "#    print(f\"Female: {female_pct:.2f}%\")\n",
    "#    print(f\"Non-German: {non_german_pct:.2f}%\")\n",
    "#    print(f\"Non-German Male: {non_german_male_pct:.2f}%\")\n",
    "#    print(f\"Non-German Female: {non_german_female_pct:.2f}%\\n\")\n",
    "#\n",
    "## Calculate for each DataFrame\n",
    "#calculate_percentages(siab_calib, \"siab_calib\")\n",
    "#calculate_percentages(siab_test, \"siab_test\")\n",
    "#calculate_percentages(siab_train, \"siab_train\")"
   ]
  },
  {
   "cell_type": "markdown",
   "id": "0a4a1b33",
   "metadata": {
    "papermill": {
     "duration": 0.011117,
     "end_time": "2025-07-30T21:29:05.712342",
     "exception": false,
     "start_time": "2025-07-30T21:29:05.701225",
     "status": "completed"
    },
    "tags": []
   },
   "source": [
    "# Preprocessing Data"
   ]
  },
  {
   "cell_type": "code",
   "execution_count": 29,
   "id": "ca879031",
   "metadata": {
    "execution": {
     "iopub.execute_input": "2025-07-30T21:29:05.736534Z",
     "iopub.status.busy": "2025-07-30T21:29:05.736157Z",
     "iopub.status.idle": "2025-07-30T21:29:05.741400Z",
     "shell.execute_reply": "2025-07-30T21:29:05.740621Z"
    },
    "papermill": {
     "duration": 0.018763,
     "end_time": "2025-07-30T21:29:05.742841",
     "exception": false,
     "start_time": "2025-07-30T21:29:05.724078",
     "status": "completed"
    },
    "tags": []
   },
   "outputs": [],
   "source": [
    "# EXCLUDE PROTECTED FEATURES\n",
    "# ----------------------\n",
    "# \"exclude_features\": \"none\", # \"nationality\", \"sex\", \"nationality-sex\"\n",
    "\n",
    "excluded_features = universe[\"exclude_features\"].split(\"-\") # split, e.g.: \"nationality-sex\" -> [\"nationality\", \"sex\"]\n",
    "excluded_features_dictionary = {\n",
    "    \"nationality\": [\"maxdeutsch1\", \"maxdeutsch.Missing.\"],\n",
    "    \"sex\": [\"frau1\"],\n",
    "    \"age\": [\"age\"],\n",
    "}\n"
   ]
  },
  {
   "cell_type": "code",
   "execution_count": 30,
   "id": "b745ac60",
   "metadata": {
    "execution": {
     "iopub.execute_input": "2025-07-30T21:29:05.772533Z",
     "iopub.status.busy": "2025-07-30T21:29:05.772170Z",
     "iopub.status.idle": "2025-07-30T21:29:05.776873Z",
     "shell.execute_reply": "2025-07-30T21:29:05.775969Z"
    },
    "papermill": {
     "duration": 0.022454,
     "end_time": "2025-07-30T21:29:05.778322",
     "exception": false,
     "start_time": "2025-07-30T21:29:05.755868",
     "status": "completed"
    },
    "tags": []
   },
   "outputs": [],
   "source": [
    "# Code nice names to column names\n",
    "\n",
    "excluded_features_columns = [\n",
    "    excluded_features_dictionary[f] for f in excluded_features if len(f) > 0 and f != \"none\"\n",
    "]"
   ]
  },
  {
   "cell_type": "code",
   "execution_count": 31,
   "id": "f84f73a2",
   "metadata": {
    "execution": {
     "iopub.execute_input": "2025-07-30T21:29:05.804777Z",
     "iopub.status.busy": "2025-07-30T21:29:05.804437Z",
     "iopub.status.idle": "2025-07-30T21:29:05.809620Z",
     "shell.execute_reply": "2025-07-30T21:29:05.808770Z"
    },
    "papermill": {
     "duration": 0.018706,
     "end_time": "2025-07-30T21:29:05.810794",
     "exception": false,
     "start_time": "2025-07-30T21:29:05.792088",
     "status": "completed"
    },
    "tags": []
   },
   "outputs": [],
   "source": [
    "from utils import flatten_once\n",
    "\n",
    "excluded_features_columns = flatten_once(excluded_features_columns)"
   ]
  },
  {
   "cell_type": "code",
   "execution_count": 32,
   "id": "884dea22",
   "metadata": {
    "execution": {
     "iopub.execute_input": "2025-07-30T21:29:05.853116Z",
     "iopub.status.busy": "2025-07-30T21:29:05.851980Z",
     "iopub.status.idle": "2025-07-30T21:29:05.861097Z",
     "shell.execute_reply": "2025-07-30T21:29:05.859980Z"
    },
    "papermill": {
     "duration": 0.037536,
     "end_time": "2025-07-30T21:29:05.872101",
     "exception": false,
     "start_time": "2025-07-30T21:29:05.834565",
     "status": "completed"
    },
    "tags": []
   },
   "outputs": [
    {
     "name": "stdout",
     "output_type": "stream",
     "text": [
      "Dropping features: ['maxdeutsch1', 'maxdeutsch.Missing.', 'frau1']\n"
     ]
    }
   ],
   "source": [
    "if len(excluded_features_columns) > 0:\n",
    "    print(f\"Dropping features: {excluded_features_columns}\")\n",
    "    X_train.drop(excluded_features_columns, axis=1, inplace=True)"
   ]
  },
  {
   "cell_type": "code",
   "execution_count": 33,
   "id": "95ab8b16",
   "metadata": {
    "execution": {
     "iopub.execute_input": "2025-07-30T21:29:05.944919Z",
     "iopub.status.busy": "2025-07-30T21:29:05.944447Z",
     "iopub.status.idle": "2025-07-30T21:29:06.001887Z",
     "shell.execute_reply": "2025-07-30T21:29:06.000720Z"
    },
    "papermill": {
     "duration": 0.084347,
     "end_time": "2025-07-30T21:29:06.003727",
     "exception": false,
     "start_time": "2025-07-30T21:29:05.919380",
     "status": "completed"
    },
    "tags": []
   },
   "outputs": [
    {
     "name": "stdout",
     "output_type": "stream",
     "text": [
      "Dropping features: ['maxdeutsch1', 'maxdeutsch.Missing.', 'frau1']\n"
     ]
    }
   ],
   "source": [
    "if len(excluded_features_columns) > 0:\n",
    "    print(f\"Dropping features: {excluded_features_columns}\")\n",
    "    X_test.drop(excluded_features_columns, axis=1, inplace=True)"
   ]
  },
  {
   "cell_type": "code",
   "execution_count": 34,
   "id": "1853aaf5-fb9f-46cb-a2b5-8ea4ae2237e4",
   "metadata": {
    "execution": {
     "iopub.execute_input": "2025-07-30T21:29:06.053742Z",
     "iopub.status.busy": "2025-07-30T21:29:06.053134Z",
     "iopub.status.idle": "2025-07-30T21:29:06.106103Z",
     "shell.execute_reply": "2025-07-30T21:29:06.105219Z"
    },
    "papermill": {
     "duration": 0.079547,
     "end_time": "2025-07-30T21:29:06.107481",
     "exception": false,
     "start_time": "2025-07-30T21:29:06.027934",
     "status": "completed"
    },
    "tags": []
   },
   "outputs": [
    {
     "name": "stdout",
     "output_type": "stream",
     "text": [
      "Dropping features: ['maxdeutsch1', 'maxdeutsch.Missing.', 'frau1']\n"
     ]
    }
   ],
   "source": [
    "if len(excluded_features_columns) > 0:\n",
    "    print(f\"Dropping features: {excluded_features_columns}\")\n",
    "    X_calib.drop(excluded_features_columns, axis=1, inplace=True)"
   ]
  },
  {
   "cell_type": "code",
   "execution_count": 35,
   "id": "6727d079-03e5-481e-9d38-292a90b7a0a8",
   "metadata": {
    "execution": {
     "iopub.execute_input": "2025-07-30T21:29:06.158738Z",
     "iopub.status.busy": "2025-07-30T21:29:06.158124Z",
     "iopub.status.idle": "2025-07-30T21:29:06.163463Z",
     "shell.execute_reply": "2025-07-30T21:29:06.162382Z"
    },
    "papermill": {
     "duration": 0.033449,
     "end_time": "2025-07-30T21:29:06.165904",
     "exception": false,
     "start_time": "2025-07-30T21:29:06.132455",
     "status": "completed"
    },
    "tags": []
   },
   "outputs": [],
   "source": [
    "# SPLIT & STRATIFY DATA\n",
    "# ----------------------"
   ]
  },
  {
   "cell_type": "code",
   "execution_count": 36,
   "id": "76c4dc6d",
   "metadata": {
    "execution": {
     "iopub.execute_input": "2025-07-30T21:29:06.217398Z",
     "iopub.status.busy": "2025-07-30T21:29:06.216912Z",
     "iopub.status.idle": "2025-07-30T21:29:06.223815Z",
     "shell.execute_reply": "2025-07-30T21:29:06.222581Z"
    },
    "papermill": {
     "duration": 0.034745,
     "end_time": "2025-07-30T21:29:06.225657",
     "exception": false,
     "start_time": "2025-07-30T21:29:06.190912",
     "status": "completed"
    },
    "tags": []
   },
   "outputs": [],
   "source": [
    "# EXCLUDE CERTAIN SUBGROUPS\n",
    "# ----------------------\n",
    "\n",
    "mode = universe.get(\"exclude_subgroups\", \"keep-all\") \n",
    "# Fetches the exclude_subgroups setting from the universe dict.\n",
    "# Defaults to \"keep-all\" if the key is missing."
   ]
  },
  {
   "cell_type": "code",
   "execution_count": 37,
   "id": "21994072",
   "metadata": {
    "execution": {
     "iopub.execute_input": "2025-07-30T21:29:06.276125Z",
     "iopub.status.busy": "2025-07-30T21:29:06.275744Z",
     "iopub.status.idle": "2025-07-30T21:29:06.283219Z",
     "shell.execute_reply": "2025-07-30T21:29:06.281642Z"
    },
    "papermill": {
     "duration": 0.034257,
     "end_time": "2025-07-30T21:29:06.285010",
     "exception": false,
     "start_time": "2025-07-30T21:29:06.250753",
     "status": "completed"
    },
    "tags": []
   },
   "outputs": [],
   "source": [
    "if mode == \"keep-all\":\n",
    "    keep_mask = pd.Series(True, index=org_train.index)\n",
    "\n",
    "# org_train contains the original feature columns from features_org (in Simson)\n",
    "# features_org contains unprocessed features, for me X_train at beginning ???\n",
    "# For keep-all, creates a boolean Series (keep_mask) of all True, so no rows are removed.\n",
    "\n",
    "elif mode == \"drop-non-german\":\n",
    "    keep_mask = org_train[\"maxdeutsch1\"] == 1 # ??? what about missing values?\n",
    "\n",
    "else:\n",
    "    raise ValueError(f\"Unsupported mode for exclude_subgroups: {mode}\")\n"
   ]
  },
  {
   "cell_type": "code",
   "execution_count": 38,
   "id": "71651440",
   "metadata": {
    "execution": {
     "iopub.execute_input": "2025-07-30T21:29:06.335143Z",
     "iopub.status.busy": "2025-07-30T21:29:06.334323Z",
     "iopub.status.idle": "2025-07-30T21:29:06.343133Z",
     "shell.execute_reply": "2025-07-30T21:29:06.341763Z"
    },
    "papermill": {
     "duration": 0.036384,
     "end_time": "2025-07-30T21:29:06.345298",
     "exception": false,
     "start_time": "2025-07-30T21:29:06.308914",
     "status": "completed"
    },
    "tags": []
   },
   "outputs": [],
   "source": [
    "n_drop = (~keep_mask).sum() # Calculates how many rows are set to be dropped\n",
    "if n_drop > 0:\n",
    "    pct = n_drop / len(keep_mask) * 100\n",
    "    print(f\"Dropping {n_drop} rows ({pct:.2f}%) where mode='{mode}'\")"
   ]
  },
  {
   "cell_type": "code",
   "execution_count": 39,
   "id": "5fb8eee5",
   "metadata": {
    "execution": {
     "iopub.execute_input": "2025-07-30T21:29:06.408147Z",
     "iopub.status.busy": "2025-07-30T21:29:06.407498Z",
     "iopub.status.idle": "2025-07-30T21:29:06.412779Z",
     "shell.execute_reply": "2025-07-30T21:29:06.412023Z"
    },
    "papermill": {
     "duration": 0.035127,
     "end_time": "2025-07-30T21:29:06.417484",
     "exception": false,
     "start_time": "2025-07-30T21:29:06.382357",
     "status": "completed"
    },
    "tags": []
   },
   "outputs": [],
   "source": [
    "X_train = X_train[keep_mask]"
   ]
  },
  {
   "cell_type": "code",
   "execution_count": 40,
   "id": "b202bb3a",
   "metadata": {
    "execution": {
     "iopub.execute_input": "2025-07-30T21:29:06.443850Z",
     "iopub.status.busy": "2025-07-30T21:29:06.443507Z",
     "iopub.status.idle": "2025-07-30T21:29:06.448346Z",
     "shell.execute_reply": "2025-07-30T21:29:06.447541Z"
    },
    "papermill": {
     "duration": 0.01873,
     "end_time": "2025-07-30T21:29:06.449603",
     "exception": false,
     "start_time": "2025-07-30T21:29:06.430873",
     "status": "completed"
    },
    "tags": []
   },
   "outputs": [],
   "source": [
    "y_train = y_train[keep_mask]"
   ]
  },
  {
   "cell_type": "markdown",
   "id": "493e2ac3",
   "metadata": {
    "papermill": {
     "duration": 0.012547,
     "end_time": "2025-07-30T21:29:06.483059",
     "exception": false,
     "start_time": "2025-07-30T21:29:06.470512",
     "status": "completed"
    },
    "tags": []
   },
   "source": [
    "# Model Training"
   ]
  },
  {
   "cell_type": "code",
   "execution_count": 41,
   "id": "679e1268",
   "metadata": {
    "execution": {
     "iopub.execute_input": "2025-07-30T21:29:06.508219Z",
     "iopub.status.busy": "2025-07-30T21:29:06.507831Z",
     "iopub.status.idle": "2025-07-30T21:29:06.611307Z",
     "shell.execute_reply": "2025-07-30T21:29:06.610260Z"
    },
    "papermill": {
     "duration": 0.118577,
     "end_time": "2025-07-30T21:29:06.613442",
     "exception": false,
     "start_time": "2025-07-30T21:29:06.494865",
     "status": "completed"
    },
    "tags": []
   },
   "outputs": [],
   "source": [
    "from sklearn.linear_model import LogisticRegression\n",
    "from sklearn.ensemble import GradientBoostingClassifier, RandomForestClassifier\n",
    "\n",
    "if (universe[\"model\"] == \"logreg\"):\n",
    "    model = LogisticRegression() #penalty=\"none\") #, solver=\"newton-cg\", max_iter=1) # include random_state=19 ?\n",
    "elif (universe[\"model\"] == \"penalized_logreg\"):\n",
    "    model = LogisticRegression(penalty=\"l2\", C=1.0) #, solver=\"newton-cg\", max_iter=1)\n",
    "elif (universe[\"model\"] == \"rf\"):\n",
    "    model = RandomForestClassifier(n_estimators=100, n_jobs=-1)\n",
    "elif (universe[\"model\"] == \"gbm\"):\n",
    "    model = GradientBoostingClassifier()\n",
    "elif (universe[\"model\"] == \"elasticnet\"):\n",
    "    model = LogisticRegression(penalty = 'elasticnet', solver = 'saga', l1_ratio = 0.5, max_iter=5000) # which solver to use?\n",
    "else:\n",
    "    raise \"Unsupported universe.model\""
   ]
  },
  {
   "cell_type": "code",
   "execution_count": 42,
   "id": "0cc8f744",
   "metadata": {
    "execution": {
     "iopub.execute_input": "2025-07-30T21:29:06.656769Z",
     "iopub.status.busy": "2025-07-30T21:29:06.656413Z",
     "iopub.status.idle": "2025-07-30T21:29:06.661961Z",
     "shell.execute_reply": "2025-07-30T21:29:06.661093Z"
    },
    "papermill": {
     "duration": 0.024082,
     "end_time": "2025-07-30T21:29:06.663345",
     "exception": false,
     "start_time": "2025-07-30T21:29:06.639263",
     "status": "completed"
    },
    "tags": []
   },
   "outputs": [],
   "source": [
    "import numpy as np\n",
    "from sklearn.pipeline import Pipeline\n",
    "from sklearn.preprocessing import StandardScaler\n",
    "\n",
    "model = Pipeline([\n",
    "    #(\"continuous_processor\", continuous_processor),\n",
    "    #(\"categorical_preprocessor\", categorical_preprocessor),\n",
    "    (\"scale\", StandardScaler() if universe[\"scale\"] == \"scale\" else None), \n",
    "    (\"model\", model),\n",
    "])"
   ]
  },
  {
   "cell_type": "code",
   "execution_count": 43,
   "id": "9442c04d",
   "metadata": {
    "execution": {
     "iopub.execute_input": "2025-07-30T21:29:06.692223Z",
     "iopub.status.busy": "2025-07-30T21:29:06.691694Z",
     "iopub.status.idle": "2025-07-30T21:29:06.740827Z",
     "shell.execute_reply": "2025-07-30T21:29:06.739459Z"
    },
    "papermill": {
     "duration": 0.064982,
     "end_time": "2025-07-30T21:29:06.742078",
     "exception": false,
     "start_time": "2025-07-30T21:29:06.677096",
     "status": "completed"
    },
    "tags": []
   },
   "outputs": [
    {
     "name": "stderr",
     "output_type": "stream",
     "text": [
      "/dss/dsshome1/0C/ra93lal2/.local/share/virtualenvs/CMA_Fairness_v2-3j10GkSs/lib/python3.10/site-packages/sklearn/linear_model/_logistic.py:444: ConvergenceWarning: lbfgs failed to converge (status=1):\n",
      "STOP: TOTAL NO. of ITERATIONS REACHED LIMIT.\n",
      "\n",
      "Increase the number of iterations (max_iter) or scale the data as shown in:\n",
      "    https://scikit-learn.org/stable/modules/preprocessing.html\n",
      "Please also refer to the documentation for alternative solver options:\n",
      "    https://scikit-learn.org/stable/modules/linear_model.html#logistic-regression\n",
      "  n_iter_i = _check_optimize_result(\n"
     ]
    },
    {
     "data": {
      "text/html": [
       "<style>#sk-container-id-1 {color: black;background-color: white;}#sk-container-id-1 pre{padding: 0;}#sk-container-id-1 div.sk-toggleable {background-color: white;}#sk-container-id-1 label.sk-toggleable__label {cursor: pointer;display: block;width: 100%;margin-bottom: 0;padding: 0.3em;box-sizing: border-box;text-align: center;}#sk-container-id-1 label.sk-toggleable__label-arrow:before {content: \"▸\";float: left;margin-right: 0.25em;color: #696969;}#sk-container-id-1 label.sk-toggleable__label-arrow:hover:before {color: black;}#sk-container-id-1 div.sk-estimator:hover label.sk-toggleable__label-arrow:before {color: black;}#sk-container-id-1 div.sk-toggleable__content {max-height: 0;max-width: 0;overflow: hidden;text-align: left;background-color: #f0f8ff;}#sk-container-id-1 div.sk-toggleable__content pre {margin: 0.2em;color: black;border-radius: 0.25em;background-color: #f0f8ff;}#sk-container-id-1 input.sk-toggleable__control:checked~div.sk-toggleable__content {max-height: 200px;max-width: 100%;overflow: auto;}#sk-container-id-1 input.sk-toggleable__control:checked~label.sk-toggleable__label-arrow:before {content: \"▾\";}#sk-container-id-1 div.sk-estimator input.sk-toggleable__control:checked~label.sk-toggleable__label {background-color: #d4ebff;}#sk-container-id-1 div.sk-label input.sk-toggleable__control:checked~label.sk-toggleable__label {background-color: #d4ebff;}#sk-container-id-1 input.sk-hidden--visually {border: 0;clip: rect(1px 1px 1px 1px);clip: rect(1px, 1px, 1px, 1px);height: 1px;margin: -1px;overflow: hidden;padding: 0;position: absolute;width: 1px;}#sk-container-id-1 div.sk-estimator {font-family: monospace;background-color: #f0f8ff;border: 1px dotted black;border-radius: 0.25em;box-sizing: border-box;margin-bottom: 0.5em;}#sk-container-id-1 div.sk-estimator:hover {background-color: #d4ebff;}#sk-container-id-1 div.sk-parallel-item::after {content: \"\";width: 100%;border-bottom: 1px solid gray;flex-grow: 1;}#sk-container-id-1 div.sk-label:hover label.sk-toggleable__label {background-color: #d4ebff;}#sk-container-id-1 div.sk-serial::before {content: \"\";position: absolute;border-left: 1px solid gray;box-sizing: border-box;top: 0;bottom: 0;left: 50%;z-index: 0;}#sk-container-id-1 div.sk-serial {display: flex;flex-direction: column;align-items: center;background-color: white;padding-right: 0.2em;padding-left: 0.2em;position: relative;}#sk-container-id-1 div.sk-item {position: relative;z-index: 1;}#sk-container-id-1 div.sk-parallel {display: flex;align-items: stretch;justify-content: center;background-color: white;position: relative;}#sk-container-id-1 div.sk-item::before, #sk-container-id-1 div.sk-parallel-item::before {content: \"\";position: absolute;border-left: 1px solid gray;box-sizing: border-box;top: 0;bottom: 0;left: 50%;z-index: -1;}#sk-container-id-1 div.sk-parallel-item {display: flex;flex-direction: column;z-index: 1;position: relative;background-color: white;}#sk-container-id-1 div.sk-parallel-item:first-child::after {align-self: flex-end;width: 50%;}#sk-container-id-1 div.sk-parallel-item:last-child::after {align-self: flex-start;width: 50%;}#sk-container-id-1 div.sk-parallel-item:only-child::after {width: 0;}#sk-container-id-1 div.sk-dashed-wrapped {border: 1px dashed gray;margin: 0 0.4em 0.5em 0.4em;box-sizing: border-box;padding-bottom: 0.4em;background-color: white;}#sk-container-id-1 div.sk-label label {font-family: monospace;font-weight: bold;display: inline-block;line-height: 1.2em;}#sk-container-id-1 div.sk-label-container {text-align: center;}#sk-container-id-1 div.sk-container {/* jupyter's `normalize.less` sets `[hidden] { display: none; }` but bootstrap.min.css set `[hidden] { display: none !important; }` so we also need the `!important` here to be able to override the default hidden behavior on the sphinx rendered scikit-learn.org. See: https://github.com/scikit-learn/scikit-learn/issues/21755 */display: inline-block !important;position: relative;}#sk-container-id-1 div.sk-text-repr-fallback {display: none;}</style><div id=\"sk-container-id-1\" class=\"sk-top-container\"><div class=\"sk-text-repr-fallback\"><pre>Pipeline(steps=[(&#x27;scale&#x27;, None), (&#x27;model&#x27;, LogisticRegression())])</pre><b>In a Jupyter environment, please rerun this cell to show the HTML representation or trust the notebook. <br />On GitHub, the HTML representation is unable to render, please try loading this page with nbviewer.org.</b></div><div class=\"sk-container\" hidden><div class=\"sk-item sk-dashed-wrapped\"><div class=\"sk-label-container\"><div class=\"sk-label sk-toggleable\"><input class=\"sk-toggleable__control sk-hidden--visually\" id=\"sk-estimator-id-1\" type=\"checkbox\" ><label for=\"sk-estimator-id-1\" class=\"sk-toggleable__label sk-toggleable__label-arrow\">Pipeline</label><div class=\"sk-toggleable__content\"><pre>Pipeline(steps=[(&#x27;scale&#x27;, None), (&#x27;model&#x27;, LogisticRegression())])</pre></div></div></div><div class=\"sk-serial\"><div class=\"sk-item\"><div class=\"sk-estimator sk-toggleable\"><input class=\"sk-toggleable__control sk-hidden--visually\" id=\"sk-estimator-id-2\" type=\"checkbox\" ><label for=\"sk-estimator-id-2\" class=\"sk-toggleable__label sk-toggleable__label-arrow\">None</label><div class=\"sk-toggleable__content\"><pre>None</pre></div></div></div><div class=\"sk-item\"><div class=\"sk-estimator sk-toggleable\"><input class=\"sk-toggleable__control sk-hidden--visually\" id=\"sk-estimator-id-3\" type=\"checkbox\" ><label for=\"sk-estimator-id-3\" class=\"sk-toggleable__label sk-toggleable__label-arrow\">LogisticRegression</label><div class=\"sk-toggleable__content\"><pre>LogisticRegression()</pre></div></div></div></div></div></div></div>"
      ],
      "text/plain": [
       "Pipeline(steps=[('scale', None), ('model', LogisticRegression())])"
      ]
     },
     "execution_count": 43,
     "metadata": {},
     "output_type": "execute_result"
    }
   ],
   "source": [
    "model.fit(X_train, y_train.values.ravel())"
   ]
  },
  {
   "cell_type": "code",
   "execution_count": 44,
   "id": "af59f8c0",
   "metadata": {
    "execution": {
     "iopub.execute_input": "2025-07-30T21:29:06.769514Z",
     "iopub.status.busy": "2025-07-30T21:29:06.769010Z",
     "iopub.status.idle": "2025-07-30T21:29:06.773938Z",
     "shell.execute_reply": "2025-07-30T21:29:06.773092Z"
    },
    "papermill": {
     "duration": 0.020069,
     "end_time": "2025-07-30T21:29:06.775176",
     "exception": false,
     "start_time": "2025-07-30T21:29:06.755107",
     "status": "completed"
    },
    "tags": []
   },
   "outputs": [],
   "source": [
    "from fairness_multiverse.universe import predict_w_threshold"
   ]
  },
  {
   "cell_type": "code",
   "execution_count": 45,
   "id": "a7cf2e16",
   "metadata": {
    "execution": {
     "iopub.execute_input": "2025-07-30T21:29:06.802813Z",
     "iopub.status.busy": "2025-07-30T21:29:06.802296Z",
     "iopub.status.idle": "2025-07-30T21:29:06.886400Z",
     "shell.execute_reply": "2025-07-30T21:29:06.885676Z"
    },
    "papermill": {
     "duration": 0.098769,
     "end_time": "2025-07-30T21:29:06.887660",
     "exception": false,
     "start_time": "2025-07-30T21:29:06.788891",
     "status": "completed"
    },
    "tags": []
   },
   "outputs": [
    {
     "data": {
      "text/plain": [
       "0.8499386913387582"
      ]
     },
     "execution_count": 45,
     "metadata": {},
     "output_type": "execute_result"
    }
   ],
   "source": [
    "probs_test = model.predict_proba(X_test)\n",
    "\n",
    "'''\n",
    "Below code returns a boolean array (or binary 0/1 array depending on how it’s used) where each element \n",
    "is True if the probability of class 1 is greater than or equal to the threshold, and False otherwise.\n",
    "'''\n",
    "y_pred_default = predict_w_threshold(probs_test, 0.5)\n",
    "\n",
    "from sklearn.metrics import accuracy_score\n",
    "\n",
    "# Naive prediction\n",
    "accuracy_score(y_true = y_true, y_pred = y_pred_default)"
   ]
  },
  {
   "cell_type": "code",
   "execution_count": 46,
   "id": "081964c3",
   "metadata": {
    "execution": {
     "iopub.execute_input": "2025-07-30T21:29:06.914466Z",
     "iopub.status.busy": "2025-07-30T21:29:06.913946Z",
     "iopub.status.idle": "2025-07-30T21:29:06.989686Z",
     "shell.execute_reply": "2025-07-30T21:29:06.988818Z"
    },
    "papermill": {
     "duration": 0.09055,
     "end_time": "2025-07-30T21:29:06.990987",
     "exception": false,
     "start_time": "2025-07-30T21:29:06.900437",
     "status": "completed"
    },
    "tags": []
   },
   "outputs": [
    {
     "data": {
      "text/plain": [
       "array([0, 0, 0, ..., 0, 0, 0])"
      ]
     },
     "execution_count": 46,
     "metadata": {},
     "output_type": "execute_result"
    }
   ],
   "source": [
    "model.predict(X_test)"
   ]
  },
  {
   "cell_type": "markdown",
   "id": "56c9705b",
   "metadata": {
    "papermill": {
     "duration": 0.012264,
     "end_time": "2025-07-30T21:29:07.016500",
     "exception": false,
     "start_time": "2025-07-30T21:29:07.004236",
     "status": "completed"
    },
    "tags": []
   },
   "source": [
    "# Conformal Prediction"
   ]
  },
  {
   "cell_type": "code",
   "execution_count": 47,
   "id": "160ec6ff",
   "metadata": {
    "execution": {
     "iopub.execute_input": "2025-07-30T21:29:07.042565Z",
     "iopub.status.busy": "2025-07-30T21:29:07.042061Z",
     "iopub.status.idle": "2025-07-30T21:29:07.046640Z",
     "shell.execute_reply": "2025-07-30T21:29:07.045843Z"
    },
    "papermill": {
     "duration": 0.019233,
     "end_time": "2025-07-30T21:29:07.047987",
     "exception": false,
     "start_time": "2025-07-30T21:29:07.028754",
     "status": "completed"
    },
    "tags": []
   },
   "outputs": [],
   "source": [
    "# Miscoverage level for conformal prediction (10% allowed error rate => 90% target coverage)\n",
    "alpha = 0.1"
   ]
  },
  {
   "cell_type": "code",
   "execution_count": 48,
   "id": "eadf4555-3dd3-440e-8e35-f82a4ad9f855",
   "metadata": {
    "execution": {
     "iopub.execute_input": "2025-07-30T21:29:07.075730Z",
     "iopub.status.busy": "2025-07-30T21:29:07.075219Z",
     "iopub.status.idle": "2025-07-30T21:29:07.149261Z",
     "shell.execute_reply": "2025-07-30T21:29:07.148494Z"
    },
    "papermill": {
     "duration": 0.08879,
     "end_time": "2025-07-30T21:29:07.150745",
     "exception": false,
     "start_time": "2025-07-30T21:29:07.061955",
     "status": "completed"
    },
    "tags": []
   },
   "outputs": [],
   "source": [
    "probs_calib = model.predict_proba(X_calib)"
   ]
  },
  {
   "cell_type": "code",
   "execution_count": 49,
   "id": "2ed93547-6d5d-4983-9b36-1ecb300da49a",
   "metadata": {
    "execution": {
     "iopub.execute_input": "2025-07-30T21:29:07.178703Z",
     "iopub.status.busy": "2025-07-30T21:29:07.178199Z",
     "iopub.status.idle": "2025-07-30T21:29:07.183412Z",
     "shell.execute_reply": "2025-07-30T21:29:07.182655Z"
    },
    "papermill": {
     "duration": 0.020301,
     "end_time": "2025-07-30T21:29:07.184872",
     "exception": false,
     "start_time": "2025-07-30T21:29:07.164571",
     "status": "completed"
    },
    "tags": []
   },
   "outputs": [],
   "source": [
    "y_calib = y_calib.values.ravel().astype(int)"
   ]
  },
  {
   "cell_type": "code",
   "execution_count": 50,
   "id": "65d1320d-f588-4b38-9072-62af1ae97f7d",
   "metadata": {
    "execution": {
     "iopub.execute_input": "2025-07-30T21:29:07.213305Z",
     "iopub.status.busy": "2025-07-30T21:29:07.212786Z",
     "iopub.status.idle": "2025-07-30T21:29:07.219067Z",
     "shell.execute_reply": "2025-07-30T21:29:07.218276Z"
    },
    "papermill": {
     "duration": 0.02164,
     "end_time": "2025-07-30T21:29:07.220511",
     "exception": false,
     "start_time": "2025-07-30T21:29:07.198871",
     "status": "completed"
    },
    "tags": []
   },
   "outputs": [],
   "source": [
    "from fairness_multiverse.conformal import compute_nc_scores\n",
    "\n",
    "# Compute nonconformity scores on calibration set (1 - probability of true class)\n",
    "nc_scores = compute_nc_scores(probs_calib, y_calib)"
   ]
  },
  {
   "cell_type": "code",
   "execution_count": 51,
   "id": "df3b8ca3-53b7-43d5-9667-7c85da7aeda2",
   "metadata": {
    "execution": {
     "iopub.execute_input": "2025-07-30T21:29:07.285530Z",
     "iopub.status.busy": "2025-07-30T21:29:07.284748Z",
     "iopub.status.idle": "2025-07-30T21:29:07.290783Z",
     "shell.execute_reply": "2025-07-30T21:29:07.289941Z"
    },
    "papermill": {
     "duration": 0.022903,
     "end_time": "2025-07-30T21:29:07.292486",
     "exception": false,
     "start_time": "2025-07-30T21:29:07.269583",
     "status": "completed"
    },
    "tags": []
   },
   "outputs": [],
   "source": [
    "from fairness_multiverse.conformal import find_threshold\n",
    "\n",
    "# Find conformal threshold q_hat for the given alpha (split conformal method)\n",
    "q_hat = find_threshold(nc_scores, alpha)"
   ]
  },
  {
   "cell_type": "code",
   "execution_count": 52,
   "id": "4d29e6c1-0ef6-4aa4-b8fe-4fe79b0d033a",
   "metadata": {
    "execution": {
     "iopub.execute_input": "2025-07-30T21:29:07.322652Z",
     "iopub.status.busy": "2025-07-30T21:29:07.322151Z",
     "iopub.status.idle": "2025-07-30T21:29:07.328921Z",
     "shell.execute_reply": "2025-07-30T21:29:07.328074Z"
    },
    "papermill": {
     "duration": 0.02278,
     "end_time": "2025-07-30T21:29:07.330317",
     "exception": false,
     "start_time": "2025-07-30T21:29:07.307537",
     "status": "completed"
    },
    "tags": []
   },
   "outputs": [
    {
     "data": {
      "text/plain": [
       "0.693853374898139"
      ]
     },
     "execution_count": 52,
     "metadata": {},
     "output_type": "execute_result"
    }
   ],
   "source": [
    "q_hat"
   ]
  },
  {
   "cell_type": "code",
   "execution_count": 53,
   "id": "92460794-cdac-4be2-ba28-f28c0515a6fb",
   "metadata": {
    "execution": {
     "iopub.execute_input": "2025-07-30T21:29:07.360905Z",
     "iopub.status.busy": "2025-07-30T21:29:07.360295Z",
     "iopub.status.idle": "2025-07-30T21:29:07.950513Z",
     "shell.execute_reply": "2025-07-30T21:29:07.949764Z"
    },
    "papermill": {
     "duration": 0.606307,
     "end_time": "2025-07-30T21:29:07.951943",
     "exception": false,
     "start_time": "2025-07-30T21:29:07.345636",
     "status": "completed"
    },
    "tags": []
   },
   "outputs": [],
   "source": [
    "from fairness_multiverse.conformal import predict_conformal_sets\n",
    "\n",
    "# Generate prediction sets for each test example\n",
    "pred_sets = predict_conformal_sets(model, X_test, q_hat)"
   ]
  },
  {
   "cell_type": "code",
   "execution_count": 54,
   "id": "d90c9a65-e6db-4f5d-80cd-e68fb7e46829",
   "metadata": {
    "execution": {
     "iopub.execute_input": "2025-07-30T21:29:07.982655Z",
     "iopub.status.busy": "2025-07-30T21:29:07.982339Z",
     "iopub.status.idle": "2025-07-30T21:29:07.986708Z",
     "shell.execute_reply": "2025-07-30T21:29:07.985973Z"
    },
    "papermill": {
     "duration": 0.019245,
     "end_time": "2025-07-30T21:29:07.988134",
     "exception": false,
     "start_time": "2025-07-30T21:29:07.968889",
     "status": "completed"
    },
    "tags": []
   },
   "outputs": [],
   "source": [
    "y_true = y_true.squeeze()"
   ]
  },
  {
   "cell_type": "code",
   "execution_count": 55,
   "id": "3a58a54a-1e68-46b9-927a-df01f18aebc8",
   "metadata": {
    "execution": {
     "iopub.execute_input": "2025-07-30T21:29:08.014738Z",
     "iopub.status.busy": "2025-07-30T21:29:08.014119Z",
     "iopub.status.idle": "2025-07-30T21:29:08.742322Z",
     "shell.execute_reply": "2025-07-30T21:29:08.741565Z"
    },
    "papermill": {
     "duration": 0.742785,
     "end_time": "2025-07-30T21:29:08.743843",
     "exception": false,
     "start_time": "2025-07-30T21:29:08.001058",
     "status": "completed"
    },
    "tags": []
   },
   "outputs": [],
   "source": [
    "from fairness_multiverse.conformal import evaluate_sets\n",
    "\n",
    "# Evaluate coverage and average set size on test data\n",
    "metrics = evaluate_sets(pred_sets, y_true)"
   ]
  },
  {
   "cell_type": "markdown",
   "id": "2b569c12-9aaa-4c88-98c9-bbcd0cf3ebb8",
   "metadata": {
    "papermill": {
     "duration": 0.025849,
     "end_time": "2025-07-30T21:29:08.793165",
     "exception": false,
     "start_time": "2025-07-30T21:29:08.767316",
     "status": "completed"
    },
    "tags": []
   },
   "source": [
    "# CP Metrics"
   ]
  },
  {
   "cell_type": "code",
   "execution_count": 56,
   "id": "5ce0a5cb-201f-45a0-ade5-94c7f0bd6095",
   "metadata": {
    "execution": {
     "iopub.execute_input": "2025-07-30T21:29:08.843743Z",
     "iopub.status.busy": "2025-07-30T21:29:08.843298Z",
     "iopub.status.idle": "2025-07-30T21:29:08.851362Z",
     "shell.execute_reply": "2025-07-30T21:29:08.850015Z"
    },
    "papermill": {
     "duration": 0.037777,
     "end_time": "2025-07-30T21:29:08.853385",
     "exception": false,
     "start_time": "2025-07-30T21:29:08.815608",
     "status": "completed"
    },
    "tags": []
   },
   "outputs": [
    {
     "data": {
      "text/plain": [
       "{'coverage': 0.908906476424033, 'avg_size': 1.2208226507635715}"
      ]
     },
     "execution_count": 56,
     "metadata": {},
     "output_type": "execute_result"
    }
   ],
   "source": [
    "metrics"
   ]
  },
  {
   "cell_type": "code",
   "execution_count": 57,
   "id": "9b9a838d-31c9-430b-ae14-12baee460d17",
   "metadata": {
    "execution": {
     "iopub.execute_input": "2025-07-30T21:29:08.915342Z",
     "iopub.status.busy": "2025-07-30T21:29:08.914831Z",
     "iopub.status.idle": "2025-07-30T21:29:08.922241Z",
     "shell.execute_reply": "2025-07-30T21:29:08.921262Z"
    },
    "papermill": {
     "duration": 0.034075,
     "end_time": "2025-07-30T21:29:08.923940",
     "exception": false,
     "start_time": "2025-07-30T21:29:08.889865",
     "status": "completed"
    },
    "tags": []
   },
   "outputs": [],
   "source": [
    "example_universe = universe.copy()\n",
    "universe_training_year = example_universe.get(\"training_year\")\n",
    "universe_training_size = example_universe.get(\"training_size\")\n",
    "universe_scale = example_universe.get(\"scale\")\n",
    "universe_model = example_universe.get(\"model\")\n",
    "universe_exclude_features = example_universe.get(\"exclude_features\")\n",
    "universe_exclude_subgroups = example_universe.get(\"exclude_subgroups\")"
   ]
  },
  {
   "cell_type": "code",
   "execution_count": 58,
   "id": "f4b6a8ac-9dc0-4245-8a91-5b3b5999c4f9",
   "metadata": {
    "execution": {
     "iopub.execute_input": "2025-07-30T21:29:08.989126Z",
     "iopub.status.busy": "2025-07-30T21:29:08.988627Z",
     "iopub.status.idle": "2025-07-30T21:29:08.996528Z",
     "shell.execute_reply": "2025-07-30T21:29:08.995396Z"
    },
    "papermill": {
     "duration": 0.047423,
     "end_time": "2025-07-30T21:29:08.998459",
     "exception": false,
     "start_time": "2025-07-30T21:29:08.951036",
     "status": "completed"
    },
    "tags": []
   },
   "outputs": [],
   "source": [
    "cp_metrics_dict = {\n",
    "    \"universe_id\": [universe_id],\n",
    "    \"universe_training_year\": [universe_training_year],\n",
    "    \"universe_training_size\": [universe_training_size],\n",
    "    \"universe_scale\": [universe_scale],\n",
    "    \"universe_model\": [universe_model],\n",
    "    \"universe_exclude_features\": [universe_exclude_features],\n",
    "    \"universe_exclude_subgroups\": [universe_exclude_subgroups],\n",
    "    \"q_hat\": [q_hat],\n",
    "    \"coverage\": [metrics[\"coverage\"]],\n",
    "    \"avg_size\": [metrics[\"avg_size\"]],\n",
    "}"
   ]
  },
  {
   "cell_type": "code",
   "execution_count": 59,
   "id": "908acbb1-0371-4915-85ca-3fa520d2efe2",
   "metadata": {
    "execution": {
     "iopub.execute_input": "2025-07-30T21:29:09.036092Z",
     "iopub.status.busy": "2025-07-30T21:29:09.035712Z",
     "iopub.status.idle": "2025-07-30T21:29:09.042193Z",
     "shell.execute_reply": "2025-07-30T21:29:09.041408Z"
    },
    "papermill": {
     "duration": 0.026194,
     "end_time": "2025-07-30T21:29:09.043404",
     "exception": false,
     "start_time": "2025-07-30T21:29:09.017210",
     "status": "completed"
    },
    "tags": []
   },
   "outputs": [
    {
     "data": {
      "text/plain": [
       "{'universe_id': ['524e60490dd7deafadfabcef2bd3d5ef'],\n",
       " 'universe_training_year': ['2014'],\n",
       " 'universe_training_size': ['1k'],\n",
       " 'universe_scale': ['do-not-scale'],\n",
       " 'universe_model': ['penalized_logreg'],\n",
       " 'universe_exclude_features': ['nationality-sex'],\n",
       " 'universe_exclude_subgroups': ['keep-all'],\n",
       " 'q_hat': [0.693853374898139],\n",
       " 'coverage': [0.908906476424033],\n",
       " 'avg_size': [1.2208226507635715]}"
      ]
     },
     "execution_count": 59,
     "metadata": {},
     "output_type": "execute_result"
    }
   ],
   "source": [
    "cp_metrics_dict"
   ]
  },
  {
   "cell_type": "code",
   "execution_count": 60,
   "id": "33007efc-14e9-4ec6-97ac-56a455c82265",
   "metadata": {
    "execution": {
     "iopub.execute_input": "2025-07-30T21:29:09.071556Z",
     "iopub.status.busy": "2025-07-30T21:29:09.071210Z",
     "iopub.status.idle": "2025-07-30T21:29:09.077022Z",
     "shell.execute_reply": "2025-07-30T21:29:09.076229Z"
    },
    "papermill": {
     "duration": 0.020865,
     "end_time": "2025-07-30T21:29:09.078348",
     "exception": false,
     "start_time": "2025-07-30T21:29:09.057483",
     "status": "completed"
    },
    "tags": []
   },
   "outputs": [],
   "source": [
    "cp_metrics_df = pd.DataFrame(cp_metrics_dict)"
   ]
  },
  {
   "cell_type": "code",
   "execution_count": 61,
   "id": "db12611b-57b2-4910-b9d0-355adfd6e7bf",
   "metadata": {
    "execution": {
     "iopub.execute_input": "2025-07-30T21:29:09.123996Z",
     "iopub.status.busy": "2025-07-30T21:29:09.123514Z",
     "iopub.status.idle": "2025-07-30T21:29:09.142845Z",
     "shell.execute_reply": "2025-07-30T21:29:09.141886Z"
    },
    "papermill": {
     "duration": 0.04978,
     "end_time": "2025-07-30T21:29:09.144454",
     "exception": false,
     "start_time": "2025-07-30T21:29:09.094674",
     "status": "completed"
    },
    "tags": []
   },
   "outputs": [
    {
     "data": {
      "text/html": [
       "<div>\n",
       "<style scoped>\n",
       "    .dataframe tbody tr th:only-of-type {\n",
       "        vertical-align: middle;\n",
       "    }\n",
       "\n",
       "    .dataframe tbody tr th {\n",
       "        vertical-align: top;\n",
       "    }\n",
       "\n",
       "    .dataframe thead th {\n",
       "        text-align: right;\n",
       "    }\n",
       "</style>\n",
       "<table border=\"1\" class=\"dataframe\">\n",
       "  <thead>\n",
       "    <tr style=\"text-align: right;\">\n",
       "      <th></th>\n",
       "      <th>universe_id</th>\n",
       "      <th>universe_training_year</th>\n",
       "      <th>universe_training_size</th>\n",
       "      <th>universe_scale</th>\n",
       "      <th>universe_model</th>\n",
       "      <th>universe_exclude_features</th>\n",
       "      <th>universe_exclude_subgroups</th>\n",
       "      <th>q_hat</th>\n",
       "      <th>coverage</th>\n",
       "      <th>avg_size</th>\n",
       "    </tr>\n",
       "  </thead>\n",
       "  <tbody>\n",
       "    <tr>\n",
       "      <th>0</th>\n",
       "      <td>524e60490dd7deafadfabcef2bd3d5ef</td>\n",
       "      <td>2014</td>\n",
       "      <td>1k</td>\n",
       "      <td>do-not-scale</td>\n",
       "      <td>penalized_logreg</td>\n",
       "      <td>nationality-sex</td>\n",
       "      <td>keep-all</td>\n",
       "      <td>0.693853</td>\n",
       "      <td>0.908906</td>\n",
       "      <td>1.220823</td>\n",
       "    </tr>\n",
       "  </tbody>\n",
       "</table>\n",
       "</div>"
      ],
      "text/plain": [
       "                        universe_id universe_training_year  \\\n",
       "0  524e60490dd7deafadfabcef2bd3d5ef                   2014   \n",
       "\n",
       "  universe_training_size universe_scale    universe_model  \\\n",
       "0                     1k   do-not-scale  penalized_logreg   \n",
       "\n",
       "  universe_exclude_features universe_exclude_subgroups     q_hat  coverage  \\\n",
       "0           nationality-sex                   keep-all  0.693853  0.908906   \n",
       "\n",
       "   avg_size  \n",
       "0  1.220823  "
      ]
     },
     "execution_count": 61,
     "metadata": {},
     "output_type": "execute_result"
    }
   ],
   "source": [
    "cp_metrics_df"
   ]
  },
  {
   "cell_type": "code",
   "execution_count": 62,
   "id": "b7fbde55-a0a1-47e4-9af6-fe4a17fa8c61",
   "metadata": {
    "execution": {
     "iopub.execute_input": "2025-07-30T21:29:09.201485Z",
     "iopub.status.busy": "2025-07-30T21:29:09.200969Z",
     "iopub.status.idle": "2025-07-30T21:29:09.206562Z",
     "shell.execute_reply": "2025-07-30T21:29:09.205543Z"
    },
    "papermill": {
     "duration": 0.035168,
     "end_time": "2025-07-30T21:29:09.208039",
     "exception": false,
     "start_time": "2025-07-30T21:29:09.172871",
     "status": "completed"
    },
    "tags": []
   },
   "outputs": [],
   "source": [
    "# Conditional Coverage & looking at subgroups"
   ]
  },
  {
   "cell_type": "code",
   "execution_count": 63,
   "id": "027ae886-68dd-4141-96c7-805a5450e1ef",
   "metadata": {
    "execution": {
     "iopub.execute_input": "2025-07-30T21:29:09.259917Z",
     "iopub.status.busy": "2025-07-30T21:29:09.259429Z",
     "iopub.status.idle": "2025-07-30T21:29:09.538112Z",
     "shell.execute_reply": "2025-07-30T21:29:09.537108Z"
    },
    "papermill": {
     "duration": 0.310068,
     "end_time": "2025-07-30T21:29:09.540388",
     "exception": false,
     "start_time": "2025-07-30T21:29:09.230320",
     "status": "completed"
    },
    "tags": []
   },
   "outputs": [],
   "source": [
    "from fairness_multiverse.conformal import build_cp_groups\n",
    "\n",
    "cp_groups_df = build_cp_groups(pred_sets, y_true, X_test.index, org_test)\n",
    "#needs universe_id and setting"
   ]
  },
  {
   "cell_type": "code",
   "execution_count": 64,
   "id": "01d5802c-663a-4d1f-9d69-e036faaffbf7",
   "metadata": {
    "execution": {
     "iopub.execute_input": "2025-07-30T21:29:09.595218Z",
     "iopub.status.busy": "2025-07-30T21:29:09.594321Z",
     "iopub.status.idle": "2025-07-30T21:29:09.599379Z",
     "shell.execute_reply": "2025-07-30T21:29:09.598370Z"
    },
    "papermill": {
     "duration": 0.034911,
     "end_time": "2025-07-30T21:29:09.601080",
     "exception": false,
     "start_time": "2025-07-30T21:29:09.566169",
     "status": "completed"
    },
    "tags": []
   },
   "outputs": [],
   "source": [
    "#delete\n",
    "#cp_groups_df"
   ]
  },
  {
   "cell_type": "code",
   "execution_count": 65,
   "id": "fa424af1-d1eb-443d-b717-2d279ada8408",
   "metadata": {
    "execution": {
     "iopub.execute_input": "2025-07-30T21:29:09.655265Z",
     "iopub.status.busy": "2025-07-30T21:29:09.654782Z",
     "iopub.status.idle": "2025-07-30T21:29:09.660080Z",
     "shell.execute_reply": "2025-07-30T21:29:09.659064Z"
    },
    "papermill": {
     "duration": 0.034993,
     "end_time": "2025-07-30T21:29:09.661860",
     "exception": false,
     "start_time": "2025-07-30T21:29:09.626867",
     "status": "completed"
    },
    "tags": []
   },
   "outputs": [],
   "source": [
    "#delete\n",
    "#percentage = (cp_groups_df['nongerman_female'] == 1).mean() * 100\n",
    "#print(percentage)\n"
   ]
  },
  {
   "cell_type": "code",
   "execution_count": 66,
   "id": "6cbdab96-b2b2-45af-ad54-d0516db2e28d",
   "metadata": {
    "execution": {
     "iopub.execute_input": "2025-07-30T21:29:09.717056Z",
     "iopub.status.busy": "2025-07-30T21:29:09.716011Z",
     "iopub.status.idle": "2025-07-30T21:29:11.536748Z",
     "shell.execute_reply": "2025-07-30T21:29:11.535691Z"
    },
    "papermill": {
     "duration": 1.850335,
     "end_time": "2025-07-30T21:29:11.538783",
     "exception": false,
     "start_time": "2025-07-30T21:29:09.688448",
     "status": "completed"
    },
    "tags": []
   },
   "outputs": [],
   "source": [
    "# Define covered = 1 if true_label is in the predicted set\n",
    "cp_groups_df['covered'] = cp_groups_df.apply(\n",
    "    lambda r: int(r['true_label'] in r['pred_set']),\n",
    "    axis=1\n",
    ")"
   ]
  },
  {
   "cell_type": "code",
   "execution_count": 67,
   "id": "338ff529-1a6b-4b87-a931-8e4788d52aad",
   "metadata": {
    "execution": {
     "iopub.execute_input": "2025-07-30T21:29:11.605036Z",
     "iopub.status.busy": "2025-07-30T21:29:11.604131Z",
     "iopub.status.idle": "2025-07-30T21:29:11.611232Z",
     "shell.execute_reply": "2025-07-30T21:29:11.609957Z"
    },
    "papermill": {
     "duration": 0.04108,
     "end_time": "2025-07-30T21:29:11.613482",
     "exception": false,
     "start_time": "2025-07-30T21:29:11.572402",
     "status": "completed"
    },
    "tags": []
   },
   "outputs": [],
   "source": [
    "#cp_groups_df"
   ]
  },
  {
   "cell_type": "code",
   "execution_count": 68,
   "id": "90032e27-66df-4540-9169-4e89cfbaa758",
   "metadata": {
    "execution": {
     "iopub.execute_input": "2025-07-30T21:29:11.693354Z",
     "iopub.status.busy": "2025-07-30T21:29:11.692825Z",
     "iopub.status.idle": "2025-07-30T21:29:11.704709Z",
     "shell.execute_reply": "2025-07-30T21:29:11.703771Z"
    },
    "papermill": {
     "duration": 0.054019,
     "end_time": "2025-07-30T21:29:11.707248",
     "exception": false,
     "start_time": "2025-07-30T21:29:11.653229",
     "status": "completed"
    },
    "tags": []
   },
   "outputs": [],
   "source": [
    "subgroups = ['frau1','nongerman','nongerman_male','nongerman_female']\n",
    "\n",
    "# Conditional coverage for subgroup==1\n",
    "cond_coverage = {\n",
    "    g: cp_groups_df.loc[cp_groups_df[g]==1, 'covered'].mean()\n",
    "    for g in subgroups\n",
    "}"
   ]
  },
  {
   "cell_type": "code",
   "execution_count": 69,
   "id": "1e348fb1-b9c3-45bc-ba23-f016827a7e0d",
   "metadata": {
    "execution": {
     "iopub.execute_input": "2025-07-30T21:29:11.787738Z",
     "iopub.status.busy": "2025-07-30T21:29:11.787189Z",
     "iopub.status.idle": "2025-07-30T21:29:11.795181Z",
     "shell.execute_reply": "2025-07-30T21:29:11.794258Z"
    },
    "papermill": {
     "duration": 0.050706,
     "end_time": "2025-07-30T21:29:11.797482",
     "exception": false,
     "start_time": "2025-07-30T21:29:11.746776",
     "status": "completed"
    },
    "tags": []
   },
   "outputs": [
    {
     "data": {
      "text/plain": [
       "{'frau1': 0.907292087882464,\n",
       " 'nongerman': 0.9303317801605568,\n",
       " 'nongerman_male': 0.9437089075024768,\n",
       " 'nongerman_female': 0.9081967213114754}"
      ]
     },
     "execution_count": 69,
     "metadata": {},
     "output_type": "execute_result"
    }
   ],
   "source": [
    "cond_coverage"
   ]
  },
  {
   "cell_type": "code",
   "execution_count": 70,
   "id": "f5093324-c3dd-4d63-bc4c-8d945e5c8bbb",
   "metadata": {
    "execution": {
     "iopub.execute_input": "2025-07-30T21:29:11.878806Z",
     "iopub.status.busy": "2025-07-30T21:29:11.878393Z",
     "iopub.status.idle": "2025-07-30T21:29:11.888151Z",
     "shell.execute_reply": "2025-07-30T21:29:11.886859Z"
    },
    "papermill": {
     "duration": 0.05296,
     "end_time": "2025-07-30T21:29:11.890187",
     "exception": false,
     "start_time": "2025-07-30T21:29:11.837227",
     "status": "completed"
    },
    "tags": []
   },
   "outputs": [],
   "source": [
    "for subgroup, cov in cond_coverage.items():\n",
    "    cp_metrics_df[f\"cov_{subgroup}\"] = cov"
   ]
  },
  {
   "cell_type": "code",
   "execution_count": 71,
   "id": "6e872e10-dbe5-49e8-b554-5030c98ff75d",
   "metadata": {
    "execution": {
     "iopub.execute_input": "2025-07-30T21:29:11.969559Z",
     "iopub.status.busy": "2025-07-30T21:29:11.969002Z",
     "iopub.status.idle": "2025-07-30T21:29:11.996626Z",
     "shell.execute_reply": "2025-07-30T21:29:11.995444Z"
    },
    "papermill": {
     "duration": 0.070026,
     "end_time": "2025-07-30T21:29:11.998704",
     "exception": false,
     "start_time": "2025-07-30T21:29:11.928678",
     "status": "completed"
    },
    "tags": []
   },
   "outputs": [
    {
     "data": {
      "text/html": [
       "<div>\n",
       "<style scoped>\n",
       "    .dataframe tbody tr th:only-of-type {\n",
       "        vertical-align: middle;\n",
       "    }\n",
       "\n",
       "    .dataframe tbody tr th {\n",
       "        vertical-align: top;\n",
       "    }\n",
       "\n",
       "    .dataframe thead th {\n",
       "        text-align: right;\n",
       "    }\n",
       "</style>\n",
       "<table border=\"1\" class=\"dataframe\">\n",
       "  <thead>\n",
       "    <tr style=\"text-align: right;\">\n",
       "      <th></th>\n",
       "      <th>universe_id</th>\n",
       "      <th>universe_training_year</th>\n",
       "      <th>universe_training_size</th>\n",
       "      <th>universe_scale</th>\n",
       "      <th>universe_model</th>\n",
       "      <th>universe_exclude_features</th>\n",
       "      <th>universe_exclude_subgroups</th>\n",
       "      <th>q_hat</th>\n",
       "      <th>coverage</th>\n",
       "      <th>avg_size</th>\n",
       "      <th>cov_frau1</th>\n",
       "      <th>cov_nongerman</th>\n",
       "      <th>cov_nongerman_male</th>\n",
       "      <th>cov_nongerman_female</th>\n",
       "    </tr>\n",
       "  </thead>\n",
       "  <tbody>\n",
       "    <tr>\n",
       "      <th>0</th>\n",
       "      <td>524e60490dd7deafadfabcef2bd3d5ef</td>\n",
       "      <td>2014</td>\n",
       "      <td>1k</td>\n",
       "      <td>do-not-scale</td>\n",
       "      <td>penalized_logreg</td>\n",
       "      <td>nationality-sex</td>\n",
       "      <td>keep-all</td>\n",
       "      <td>0.693853</td>\n",
       "      <td>0.908906</td>\n",
       "      <td>1.220823</td>\n",
       "      <td>0.907292</td>\n",
       "      <td>0.930332</td>\n",
       "      <td>0.943709</td>\n",
       "      <td>0.908197</td>\n",
       "    </tr>\n",
       "  </tbody>\n",
       "</table>\n",
       "</div>"
      ],
      "text/plain": [
       "                        universe_id universe_training_year  \\\n",
       "0  524e60490dd7deafadfabcef2bd3d5ef                   2014   \n",
       "\n",
       "  universe_training_size universe_scale    universe_model  \\\n",
       "0                     1k   do-not-scale  penalized_logreg   \n",
       "\n",
       "  universe_exclude_features universe_exclude_subgroups     q_hat  coverage  \\\n",
       "0           nationality-sex                   keep-all  0.693853  0.908906   \n",
       "\n",
       "   avg_size  cov_frau1  cov_nongerman  cov_nongerman_male  \\\n",
       "0  1.220823   0.907292       0.930332            0.943709   \n",
       "\n",
       "   cov_nongerman_female  \n",
       "0              0.908197  "
      ]
     },
     "execution_count": 71,
     "metadata": {},
     "output_type": "execute_result"
    }
   ],
   "source": [
    "cp_metrics_df"
   ]
  },
  {
   "cell_type": "markdown",
   "id": "33774451",
   "metadata": {
    "papermill": {
     "duration": 0.038755,
     "end_time": "2025-07-30T21:29:12.077022",
     "exception": false,
     "start_time": "2025-07-30T21:29:12.038267",
     "status": "completed"
    },
    "tags": []
   },
   "source": [
    "# (Fairness) Metrics"
   ]
  },
  {
   "cell_type": "code",
   "execution_count": 72,
   "id": "debc5d62",
   "metadata": {
    "execution": {
     "iopub.execute_input": "2025-07-30T21:29:12.156764Z",
     "iopub.status.busy": "2025-07-30T21:29:12.155688Z",
     "iopub.status.idle": "2025-07-30T21:29:12.177764Z",
     "shell.execute_reply": "2025-07-30T21:29:12.176612Z"
    },
    "papermill": {
     "duration": 0.064732,
     "end_time": "2025-07-30T21:29:12.180346",
     "exception": false,
     "start_time": "2025-07-30T21:29:12.115614",
     "status": "completed"
    },
    "tags": []
   },
   "outputs": [],
   "source": [
    "# do I need to include maxdeutsch1.missing?\n",
    "\n",
    "import numpy as np\n",
    "\n",
    "colname_to_bin = \"maxdeutsch1\"\n",
    "majority_value = org_train[colname_to_bin].mode()[0]\n",
    "\n",
    "org_test[\"majmin\"] = np.where(org_test[colname_to_bin] == majority_value, \"majority\", \"minority\")"
   ]
  },
  {
   "cell_type": "code",
   "execution_count": 73,
   "id": "06a50de5",
   "metadata": {
    "execution": {
     "iopub.execute_input": "2025-07-30T21:29:12.248442Z",
     "iopub.status.busy": "2025-07-30T21:29:12.247297Z",
     "iopub.status.idle": "2025-07-30T21:29:15.103390Z",
     "shell.execute_reply": "2025-07-30T21:29:15.102617Z"
    },
    "papermill": {
     "duration": 2.886177,
     "end_time": "2025-07-30T21:29:15.104937",
     "exception": false,
     "start_time": "2025-07-30T21:29:12.218760",
     "status": "completed"
    },
    "tags": []
   },
   "outputs": [],
   "source": [
    "example_universe = universe.copy()\n",
    "example_universe[\"cutoff\"] = example_universe[\"cutoff\"][0]\n",
    "example_universe[\"eval_fairness_grouping\"] = example_universe[\"eval_fairness_grouping\"][0]\n",
    "fairness_dict, metric_frame = universe_analysis.compute_metrics(\n",
    "    example_universe,\n",
    "    y_pred_prob=probs_test,\n",
    "    y_test=y_true,\n",
    "    org_test=org_test,\n",
    ")"
   ]
  },
  {
   "cell_type": "markdown",
   "id": "f95d4e02",
   "metadata": {
    "papermill": {
     "duration": 0.019066,
     "end_time": "2025-07-30T21:29:15.145366",
     "exception": false,
     "start_time": "2025-07-30T21:29:15.126300",
     "status": "completed"
    },
    "tags": []
   },
   "source": [
    "# Overall"
   ]
  },
  {
   "cell_type": "markdown",
   "id": "bdee4871",
   "metadata": {
    "papermill": {
     "duration": 0.014568,
     "end_time": "2025-07-30T21:29:15.174786",
     "exception": false,
     "start_time": "2025-07-30T21:29:15.160218",
     "status": "completed"
    },
    "tags": []
   },
   "source": [
    "Fairness\n",
    "Main fairness target: Equalized Odds. Seems to be a better fit than equal opportunity, since we're not only interested in Y = 1. Seems to be a better fit than demographic parity, since we also care about accuracy, not just equal distribution of preds.\n",
    "\n",
    "Pick column for computation of fairness metrics\n",
    "\n",
    "Performance\n",
    "Overall performance measures, most interesting in relation to the measures split by group below"
   ]
  },
  {
   "cell_type": "code",
   "execution_count": 74,
   "id": "c4e067c6",
   "metadata": {
    "execution": {
     "iopub.execute_input": "2025-07-30T21:29:15.233254Z",
     "iopub.status.busy": "2025-07-30T21:29:15.232303Z",
     "iopub.status.idle": "2025-07-30T21:29:15.240837Z",
     "shell.execute_reply": "2025-07-30T21:29:15.240020Z"
    },
    "papermill": {
     "duration": 0.04277,
     "end_time": "2025-07-30T21:29:15.242168",
     "exception": false,
     "start_time": "2025-07-30T21:29:15.199398",
     "status": "completed"
    },
    "tags": []
   },
   "outputs": [
    {
     "data": {
      "text/plain": [
       "accuracy                   0.217490\n",
       "balanced accuracy          0.533234\n",
       "f1                         0.239010\n",
       "precision                  0.136539\n",
       "false positive rate        0.891473\n",
       "false negative rate        0.042058\n",
       "selection rate             0.900000\n",
       "count                  89710.000000\n",
       "dtype: float64"
      ]
     },
     "execution_count": 74,
     "metadata": {},
     "output_type": "execute_result"
    }
   ],
   "source": [
    "metric_frame.overall"
   ]
  },
  {
   "cell_type": "markdown",
   "id": "e968fe9d",
   "metadata": {
    "papermill": {
     "duration": 0.015762,
     "end_time": "2025-07-30T21:29:15.276140",
     "exception": false,
     "start_time": "2025-07-30T21:29:15.260378",
     "status": "completed"
    },
    "tags": []
   },
   "source": [
    "By Group"
   ]
  },
  {
   "cell_type": "code",
   "execution_count": 75,
   "id": "ec325bce",
   "metadata": {
    "execution": {
     "iopub.execute_input": "2025-07-30T21:29:15.307568Z",
     "iopub.status.busy": "2025-07-30T21:29:15.307054Z",
     "iopub.status.idle": "2025-07-30T21:29:15.320219Z",
     "shell.execute_reply": "2025-07-30T21:29:15.319077Z"
    },
    "papermill": {
     "duration": 0.030644,
     "end_time": "2025-07-30T21:29:15.321684",
     "exception": false,
     "start_time": "2025-07-30T21:29:15.291040",
     "status": "completed"
    },
    "tags": []
   },
   "outputs": [
    {
     "data": {
      "text/html": [
       "<div>\n",
       "<style scoped>\n",
       "    .dataframe tbody tr th:only-of-type {\n",
       "        vertical-align: middle;\n",
       "    }\n",
       "\n",
       "    .dataframe tbody tr th {\n",
       "        vertical-align: top;\n",
       "    }\n",
       "\n",
       "    .dataframe thead th {\n",
       "        text-align: right;\n",
       "    }\n",
       "</style>\n",
       "<table border=\"1\" class=\"dataframe\">\n",
       "  <thead>\n",
       "    <tr style=\"text-align: right;\">\n",
       "      <th></th>\n",
       "      <th>accuracy</th>\n",
       "      <th>balanced accuracy</th>\n",
       "      <th>f1</th>\n",
       "      <th>precision</th>\n",
       "      <th>false positive rate</th>\n",
       "      <th>false negative rate</th>\n",
       "      <th>selection rate</th>\n",
       "      <th>count</th>\n",
       "    </tr>\n",
       "    <tr>\n",
       "      <th>majmin</th>\n",
       "      <th></th>\n",
       "      <th></th>\n",
       "      <th></th>\n",
       "      <th></th>\n",
       "      <th></th>\n",
       "      <th></th>\n",
       "      <th></th>\n",
       "      <th></th>\n",
       "    </tr>\n",
       "  </thead>\n",
       "  <tbody>\n",
       "    <tr>\n",
       "      <th>majority</th>\n",
       "      <td>0.238123</td>\n",
       "      <td>0.540841</td>\n",
       "      <td>0.248306</td>\n",
       "      <td>0.142766</td>\n",
       "      <td>0.870615</td>\n",
       "      <td>0.047702</td>\n",
       "      <td>0.881408</td>\n",
       "      <td>69170.0</td>\n",
       "    </tr>\n",
       "    <tr>\n",
       "      <th>minority</th>\n",
       "      <td>0.148004</td>\n",
       "      <td>0.509676</td>\n",
       "      <td>0.209575</td>\n",
       "      <td>0.117338</td>\n",
       "      <td>0.960379</td>\n",
       "      <td>0.020270</td>\n",
       "      <td>0.962610</td>\n",
       "      <td>20540.0</td>\n",
       "    </tr>\n",
       "  </tbody>\n",
       "</table>\n",
       "</div>"
      ],
      "text/plain": [
       "          accuracy  balanced accuracy        f1  precision  \\\n",
       "majmin                                                       \n",
       "majority  0.238123           0.540841  0.248306   0.142766   \n",
       "minority  0.148004           0.509676  0.209575   0.117338   \n",
       "\n",
       "          false positive rate  false negative rate  selection rate    count  \n",
       "majmin                                                                       \n",
       "majority             0.870615             0.047702        0.881408  69170.0  \n",
       "minority             0.960379             0.020270        0.962610  20540.0  "
      ]
     },
     "execution_count": 75,
     "metadata": {},
     "output_type": "execute_result"
    }
   ],
   "source": [
    "metric_frame.by_group"
   ]
  },
  {
   "cell_type": "code",
   "execution_count": 76,
   "id": "a9ddbe63",
   "metadata": {
    "execution": {
     "iopub.execute_input": "2025-07-30T21:29:15.354190Z",
     "iopub.status.busy": "2025-07-30T21:29:15.353671Z",
     "iopub.status.idle": "2025-07-30T21:29:17.801450Z",
     "shell.execute_reply": "2025-07-30T21:29:17.800437Z"
    },
    "papermill": {
     "duration": 2.466084,
     "end_time": "2025-07-30T21:29:17.803364",
     "exception": false,
     "start_time": "2025-07-30T21:29:15.337280",
     "status": "completed"
    },
    "tags": []
   },
   "outputs": [
    {
     "data": {
      "text/plain": [
       "array([[<Axes: title={'center': 'accuracy'}, xlabel='majmin'>,\n",
       "        <Axes: title={'center': 'balanced accuracy'}, xlabel='majmin'>,\n",
       "        <Axes: title={'center': 'f1'}, xlabel='majmin'>],\n",
       "       [<Axes: title={'center': 'precision'}, xlabel='majmin'>,\n",
       "        <Axes: title={'center': 'false positive rate'}, xlabel='majmin'>,\n",
       "        <Axes: title={'center': 'false negative rate'}, xlabel='majmin'>],\n",
       "       [<Axes: title={'center': 'selection rate'}, xlabel='majmin'>,\n",
       "        <Axes: title={'center': 'count'}, xlabel='majmin'>,\n",
       "        <Axes: xlabel='majmin'>]], dtype=object)"
      ]
     },
     "execution_count": 76,
     "metadata": {},
     "output_type": "execute_result"
    },
    {
     "data": {
      "image/png": "[encoded data removed]",
      "text/plain": [
       "<Figure size 1200x800 with 9 Axes>"
      ]
     },
     "metadata": {},
     "output_type": "display_data"
    }
   ],
   "source": [
    "# In a graphic\n",
    "metric_frame.by_group.plot.bar(\n",
    "    subplots=True,\n",
    "    layout=[3, 3],\n",
    "    legend=False,\n",
    "    figsize=[12, 8],\n",
    "    title=\"Show all metrics\",\n",
    ")"
   ]
  },
  {
   "cell_type": "markdown",
   "id": "f57a0bac",
   "metadata": {
    "papermill": {
     "duration": 0.027705,
     "end_time": "2025-07-30T21:29:17.862364",
     "exception": false,
     "start_time": "2025-07-30T21:29:17.834659",
     "status": "completed"
    },
    "tags": []
   },
   "source": [
    "# Final Output"
   ]
  },
  {
   "cell_type": "code",
   "execution_count": 77,
   "id": "96d280a3",
   "metadata": {
    "execution": {
     "iopub.execute_input": "2025-07-30T21:29:17.921656Z",
     "iopub.status.busy": "2025-07-30T21:29:17.920991Z",
     "iopub.status.idle": "2025-07-30T21:29:17.929392Z",
     "shell.execute_reply": "2025-07-30T21:29:17.928382Z"
    },
    "papermill": {
     "duration": 0.039563,
     "end_time": "2025-07-30T21:29:17.931044",
     "exception": false,
     "start_time": "2025-07-30T21:29:17.891481",
     "status": "completed"
    },
    "tags": []
   },
   "outputs": [
    {
     "data": {
      "text/plain": [
       "4"
      ]
     },
     "execution_count": 77,
     "metadata": {},
     "output_type": "execute_result"
    }
   ],
   "source": [
    "sub_universes = universe_analysis.generate_sub_universes()\n",
    "len(sub_universes)"
   ]
  },
  {
   "cell_type": "code",
   "execution_count": 78,
   "id": "92adf7ba",
   "metadata": {
    "execution": {
     "iopub.execute_input": "2025-07-30T21:29:17.967024Z",
     "iopub.status.busy": "2025-07-30T21:29:17.966628Z",
     "iopub.status.idle": "2025-07-30T21:29:17.990999Z",
     "shell.execute_reply": "2025-07-30T21:29:17.990216Z"
    },
    "papermill": {
     "duration": 0.043592,
     "end_time": "2025-07-30T21:29:17.992771",
     "exception": false,
     "start_time": "2025-07-30T21:29:17.949179",
     "status": "completed"
    },
    "tags": []
   },
   "outputs": [],
   "source": [
    "def filter_sub_universe_data(sub_universe, org_test):\n",
    "    # Keep all rows — no filtering\n",
    "    keep_rows_mask = np.ones(org_test.shape[0], dtype=bool)\n",
    "\n",
    "    print(f\"[INFO] Keeping all rows: {keep_rows_mask.sum()} rows retained.\")\n",
    "    return keep_rows_mask"
   ]
  },
  {
   "cell_type": "code",
   "execution_count": 79,
   "id": "4a759155",
   "metadata": {
    "execution": {
     "iopub.execute_input": "2025-07-30T21:29:18.053332Z",
     "iopub.status.busy": "2025-07-30T21:29:18.052487Z",
     "iopub.status.idle": "2025-07-30T21:29:28.817694Z",
     "shell.execute_reply": "2025-07-30T21:29:28.816985Z"
    },
    "papermill": {
     "duration": 10.79592,
     "end_time": "2025-07-30T21:29:28.818922",
     "exception": false,
     "start_time": "2025-07-30T21:29:18.023002",
     "status": "completed"
    },
    "tags": []
   },
   "outputs": [
    {
     "name": "stdout",
     "output_type": "stream",
     "text": [
      "Stopping execution_time clock.\n",
      "[INFO] Keeping all rows: 89710 rows retained.\n"
     ]
    },
    {
     "name": "stdout",
     "output_type": "stream",
     "text": [
      "[INFO] Keeping all rows: 89710 rows retained.\n"
     ]
    },
    {
     "name": "stdout",
     "output_type": "stream",
     "text": [
      "[INFO] Keeping all rows: 89710 rows retained.\n"
     ]
    },
    {
     "name": "stdout",
     "output_type": "stream",
     "text": [
      "[INFO] Keeping all rows: 89710 rows retained.\n"
     ]
    },
    {
     "data": {
      "text/html": [
       "<div>\n",
       "<style scoped>\n",
       "    .dataframe tbody tr th:only-of-type {\n",
       "        vertical-align: middle;\n",
       "    }\n",
       "\n",
       "    .dataframe tbody tr th {\n",
       "        vertical-align: top;\n",
       "    }\n",
       "\n",
       "    .dataframe thead th {\n",
       "        text-align: right;\n",
       "    }\n",
       "</style>\n",
       "<table border=\"1\" class=\"dataframe\">\n",
       "  <thead>\n",
       "    <tr style=\"text-align: right;\">\n",
       "      <th></th>\n",
       "      <th>run_no</th>\n",
       "      <th>universe_id</th>\n",
       "      <th>universe_settings</th>\n",
       "      <th>execution_time</th>\n",
       "      <th>test_size_n</th>\n",
       "      <th>test_size_frac</th>\n",
       "      <th>fair_main_equalized_odds_difference</th>\n",
       "      <th>fair_main_equalized_odds_ratio</th>\n",
       "      <th>fair_main_demographic_parity_difference</th>\n",
       "      <th>fair_main_demographic_parity_ratio</th>\n",
       "      <th>...</th>\n",
       "      <th>perf_grp_precision_0</th>\n",
       "      <th>perf_grp_precision_1</th>\n",
       "      <th>perf_grp_false positive rate_0</th>\n",
       "      <th>perf_grp_false positive rate_1</th>\n",
       "      <th>perf_grp_false negative rate_0</th>\n",
       "      <th>perf_grp_false negative rate_1</th>\n",
       "      <th>perf_grp_selection rate_0</th>\n",
       "      <th>perf_grp_selection rate_1</th>\n",
       "      <th>perf_grp_count_0</th>\n",
       "      <th>perf_grp_count_1</th>\n",
       "    </tr>\n",
       "  </thead>\n",
       "  <tbody>\n",
       "    <tr>\n",
       "      <th>0</th>\n",
       "      <td>14</td>\n",
       "      <td>524e60490dd7deafadfabcef2bd3d5ef</td>\n",
       "      <td>{\"cutoff\": \"quantile_0.1\", \"eval_fairness_grou...</td>\n",
       "      <td>26.323631</td>\n",
       "      <td>89710</td>\n",
       "      <td>1.0</td>\n",
       "      <td>0.089764</td>\n",
       "      <td>0.906533</td>\n",
       "      <td>0.081201</td>\n",
       "      <td>0.915644</td>\n",
       "      <td>...</td>\n",
       "      <td>NaN</td>\n",
       "      <td>NaN</td>\n",
       "      <td>NaN</td>\n",
       "      <td>NaN</td>\n",
       "      <td>NaN</td>\n",
       "      <td>NaN</td>\n",
       "      <td>NaN</td>\n",
       "      <td>NaN</td>\n",
       "      <td>NaN</td>\n",
       "      <td>NaN</td>\n",
       "    </tr>\n",
       "    <tr>\n",
       "      <th>0</th>\n",
       "      <td>14</td>\n",
       "      <td>524e60490dd7deafadfabcef2bd3d5ef</td>\n",
       "      <td>{\"cutoff\": \"quantile_0.1\", \"eval_fairness_grou...</td>\n",
       "      <td>26.323631</td>\n",
       "      <td>89710</td>\n",
       "      <td>1.0</td>\n",
       "      <td>0.089764</td>\n",
       "      <td>0.906533</td>\n",
       "      <td>0.081201</td>\n",
       "      <td>0.915644</td>\n",
       "      <td>...</td>\n",
       "      <td>0.117338</td>\n",
       "      <td>0.142766</td>\n",
       "      <td>0.960379</td>\n",
       "      <td>0.870615</td>\n",
       "      <td>0.020270</td>\n",
       "      <td>0.047702</td>\n",
       "      <td>0.962610</td>\n",
       "      <td>0.881408</td>\n",
       "      <td>20540.0</td>\n",
       "      <td>69170.0</td>\n",
       "    </tr>\n",
       "    <tr>\n",
       "      <th>0</th>\n",
       "      <td>14</td>\n",
       "      <td>524e60490dd7deafadfabcef2bd3d5ef</td>\n",
       "      <td>{\"cutoff\": \"quantile_0.25\", \"eval_fairness_gro...</td>\n",
       "      <td>26.323631</td>\n",
       "      <td>89710</td>\n",
       "      <td>1.0</td>\n",
       "      <td>0.208099</td>\n",
       "      <td>0.766785</td>\n",
       "      <td>0.190761</td>\n",
       "      <td>0.787353</td>\n",
       "      <td>...</td>\n",
       "      <td>NaN</td>\n",
       "      <td>NaN</td>\n",
       "      <td>NaN</td>\n",
       "      <td>NaN</td>\n",
       "      <td>NaN</td>\n",
       "      <td>NaN</td>\n",
       "      <td>NaN</td>\n",
       "      <td>NaN</td>\n",
       "      <td>NaN</td>\n",
       "      <td>NaN</td>\n",
       "    </tr>\n",
       "    <tr>\n",
       "      <th>0</th>\n",
       "      <td>14</td>\n",
       "      <td>524e60490dd7deafadfabcef2bd3d5ef</td>\n",
       "      <td>{\"cutoff\": \"quantile_0.25\", \"eval_fairness_gro...</td>\n",
       "      <td>26.323631</td>\n",
       "      <td>89710</td>\n",
       "      <td>1.0</td>\n",
       "      <td>0.208099</td>\n",
       "      <td>0.766785</td>\n",
       "      <td>0.190761</td>\n",
       "      <td>0.787353</td>\n",
       "      <td>...</td>\n",
       "      <td>0.119993</td>\n",
       "      <td>0.159305</td>\n",
       "      <td>0.892307</td>\n",
       "      <td>0.684208</td>\n",
       "      <td>0.066301</td>\n",
       "      <td>0.148468</td>\n",
       "      <td>0.897079</td>\n",
       "      <td>0.706318</td>\n",
       "      <td>20540.0</td>\n",
       "      <td>69170.0</td>\n",
       "    </tr>\n",
       "  </tbody>\n",
       "</table>\n",
       "<p>4 rows × 50 columns</p>\n",
       "</div>"
      ],
      "text/plain": [
       "  run_no                       universe_id  \\\n",
       "0     14  524e60490dd7deafadfabcef2bd3d5ef   \n",
       "0     14  524e60490dd7deafadfabcef2bd3d5ef   \n",
       "0     14  524e60490dd7deafadfabcef2bd3d5ef   \n",
       "0     14  524e60490dd7deafadfabcef2bd3d5ef   \n",
       "\n",
       "                                   universe_settings  execution_time  \\\n",
       "0  {\"cutoff\": \"quantile_0.1\", \"eval_fairness_grou...       26.323631   \n",
       "0  {\"cutoff\": \"quantile_0.1\", \"eval_fairness_grou...       26.323631   \n",
       "0  {\"cutoff\": \"quantile_0.25\", \"eval_fairness_gro...       26.323631   \n",
       "0  {\"cutoff\": \"quantile_0.25\", \"eval_fairness_gro...       26.323631   \n",
       "\n",
       "   test_size_n  test_size_frac  fair_main_equalized_odds_difference  \\\n",
       "0        89710             1.0                             0.089764   \n",
       "0        89710             1.0                             0.089764   \n",
       "0        89710             1.0                             0.208099   \n",
       "0        89710             1.0                             0.208099   \n",
       "\n",
       "   fair_main_equalized_odds_ratio  fair_main_demographic_parity_difference  \\\n",
       "0                        0.906533                                 0.081201   \n",
       "0                        0.906533                                 0.081201   \n",
       "0                        0.766785                                 0.190761   \n",
       "0                        0.766785                                 0.190761   \n",
       "\n",
       "   fair_main_demographic_parity_ratio  ...  perf_grp_precision_0  \\\n",
       "0                            0.915644  ...                   NaN   \n",
       "0                            0.915644  ...              0.117338   \n",
       "0                            0.787353  ...                   NaN   \n",
       "0                            0.787353  ...              0.119993   \n",
       "\n",
       "   perf_grp_precision_1  perf_grp_false positive rate_0  \\\n",
       "0                   NaN                             NaN   \n",
       "0              0.142766                        0.960379   \n",
       "0                   NaN                             NaN   \n",
       "0              0.159305                        0.892307   \n",
       "\n",
       "   perf_grp_false positive rate_1  perf_grp_false negative rate_0  \\\n",
       "0                             NaN                             NaN   \n",
       "0                        0.870615                        0.020270   \n",
       "0                             NaN                             NaN   \n",
       "0                        0.684208                        0.066301   \n",
       "\n",
       "   perf_grp_false negative rate_1  perf_grp_selection rate_0  \\\n",
       "0                             NaN                        NaN   \n",
       "0                        0.047702                   0.962610   \n",
       "0                             NaN                        NaN   \n",
       "0                        0.148468                   0.897079   \n",
       "\n",
       "   perf_grp_selection rate_1  perf_grp_count_0  perf_grp_count_1  \n",
       "0                        NaN               NaN               NaN  \n",
       "0                   0.881408           20540.0           69170.0  \n",
       "0                        NaN               NaN               NaN  \n",
       "0                   0.706318           20540.0           69170.0  \n",
       "\n",
       "[4 rows x 50 columns]"
      ]
     },
     "execution_count": 79,
     "metadata": {},
     "output_type": "execute_result"
    }
   ],
   "source": [
    "final_output = universe_analysis.generate_final_output(\n",
    "    y_pred_prob=probs_test,\n",
    "    y_test=y_true,\n",
    "    org_test=org_test,\n",
    "    filter_data=filter_sub_universe_data,\n",
    "    cp_metrics_df=cp_metrics_df,\n",
    "    save=True,\n",
    ")\n",
    "final_output"
   ]
  },
  {
   "cell_type": "code",
   "execution_count": null,
   "id": "721ff514-cb11-46f8-b6fc-50392f74b5cb",
   "metadata": {
    "papermill": {
     "duration": 0.016793,
     "end_time": "2025-07-30T21:29:28.855122",
     "exception": false,
     "start_time": "2025-07-30T21:29:28.838329",
     "status": "completed"
    },
    "tags": []
   },
   "outputs": [],
   "source": []
  }
 ],
 "metadata": {
  "celltoolbar": "Tags",
  "kernelspec": {
   "display_name": "Python (CMA Fairness)",
   "language": "python",
   "name": "cma_fair_env"
  },
  "language_info": {
   "codemirror_mode": {
    "name": "ipython",
    "version": 3
   },
   "file_extension": ".py",
   "mimetype": "text/x-python",
   "name": "python",
   "nbconvert_exporter": "python",
   "pygments_lexer": "ipython3",
   "version": "3.10.12"
  },
  "papermill": {
   "default_parameters": {},
   "duration": 41.146783,
   "end_time": "2025-07-30T21:29:29.589537",
   "environment_variables": {},
   "exception": null,
   "input_path": "universe_analysis.ipynb",
   "output_path": "output/runs/14/notebooks/m_14-524e60490dd7deafadfabcef2bd3d5ef.ipynb",
   "parameters": {
    "output_dir": "output",
    "run_no": "14",
    "seed": "2023",
    "universe": "{\"cutoff\": [\"quantile_0.1\", \"quantile_0.25\"], \"eval_fairness_grouping\": [\"majority-minority\", \"nationality-all\"], \"exclude_features\": \"nationality-sex\", \"exclude_subgroups\": \"keep-all\", \"model\": \"penalized_logreg\", \"scale\": \"do-not-scale\", \"training_size\": \"1k\", \"training_year\": \"2014\"}",
    "universe_id": "524e60490dd7deafadfabcef2bd3d5ef"
   },
   "start_time": "2025-07-30T21:28:48.442754",
   "version": "2.6.0"
  }
 },
 "nbformat": 4,
 "nbformat_minor": 5
}