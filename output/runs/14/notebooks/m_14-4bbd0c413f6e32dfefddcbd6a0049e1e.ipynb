{
 "cells": [
  {
   "cell_type": "code",
   "execution_count": 1,
   "id": "f159f837-637b-42ba-96b5-ec9a68c44524",
   "metadata": {
    "execution": {
     "iopub.execute_input": "2025-07-30T21:28:52.395347Z",
     "iopub.status.busy": "2025-07-30T21:28:52.394860Z",
     "iopub.status.idle": "2025-07-30T21:28:52.408085Z",
     "shell.execute_reply": "2025-07-30T21:28:52.407124Z"
    },
    "papermill": {
     "duration": 0.036726,
     "end_time": "2025-07-30T21:28:52.409759",
     "exception": false,
     "start_time": "2025-07-30T21:28:52.373033",
     "status": "completed"
    },
    "tags": []
   },
   "outputs": [
    {
     "name": "stdout",
     "output_type": "stream",
     "text": [
      "/dss/dsshome1/0C/ra93lal2/cma/CMA_Fairness_v2\n"
     ]
    },
    {
     "name": "stderr",
     "output_type": "stream",
     "text": [
      "/dss/dsshome1/0C/ra93lal2/.local/share/virtualenvs/CMA_Fairness_v2-3j10GkSs/lib/python3.10/site-packages/IPython/core/magics/osm.py:393: UserWarning: This is now an optional IPython functionality, using bookmarks requires you to install the `pickleshare` library.\n",
      "  bkms = self.shell.db.get('bookmarks', {})\n",
      "/dss/dsshome1/0C/ra93lal2/.local/share/virtualenvs/CMA_Fairness_v2-3j10GkSs/lib/python3.10/site-packages/IPython/core/magics/osm.py:417: UserWarning: This is now an optional IPython functionality, setting dhist requires you to install the `pickleshare` library.\n",
      "  self.shell.db['dhist'] = compress_dhist(dhist)[-100:]\n"
     ]
    }
   ],
   "source": [
    "%cd ~/cma/CMA_Fairness_v2"
   ]
  },
  {
   "cell_type": "markdown",
   "id": "de2603b9",
   "metadata": {
    "papermill": {
     "duration": 0.019965,
     "end_time": "2025-07-30T21:28:52.450549",
     "exception": false,
     "start_time": "2025-07-30T21:28:52.430584",
     "status": "completed"
    },
    "tags": []
   },
   "source": [
    "The following cell holds the definition of our parameters, these values can be overriden by rendering the with e.g. the following command:\n",
    "\n",
    "papermill -p alpha 0.2 -p ratio 0.3 universe_analysis.ipynb output/test_run.ipynb"
   ]
  },
  {
   "cell_type": "code",
   "execution_count": 2,
   "id": "a80968a0-40bb-4fa9-85ef-2d5eefb01975",
   "metadata": {
    "execution": {
     "iopub.execute_input": "2025-07-30T21:28:52.485949Z",
     "iopub.status.busy": "2025-07-30T21:28:52.485539Z",
     "iopub.status.idle": "2025-07-30T21:28:52.490920Z",
     "shell.execute_reply": "2025-07-30T21:28:52.490261Z"
    },
    "papermill": {
     "duration": 0.021725,
     "end_time": "2025-07-30T21:28:52.492540",
     "exception": false,
     "start_time": "2025-07-30T21:28:52.470815",
     "status": "completed"
    },
    "tags": []
   },
   "outputs": [
    {
     "name": "stdout",
     "output_type": "stream",
     "text": [
      "Current working directory: /dss/dsshome1/0C/ra93lal2/cma/CMA_Fairness_v2\n"
     ]
    }
   ],
   "source": [
    "import os\n",
    "print(\"Current working directory:\", os.getcwd())"
   ]
  },
  {
   "cell_type": "code",
   "execution_count": 3,
   "id": "2dce4c03",
   "metadata": {
    "execution": {
     "iopub.execute_input": "2025-07-30T21:28:52.514513Z",
     "iopub.status.busy": "2025-07-30T21:28:52.513910Z",
     "iopub.status.idle": "2025-07-30T21:28:52.518905Z",
     "shell.execute_reply": "2025-07-30T21:28:52.518210Z"
    },
    "papermill": {
     "duration": 0.017173,
     "end_time": "2025-07-30T21:28:52.520444",
     "exception": false,
     "start_time": "2025-07-30T21:28:52.503271",
     "status": "completed"
    },
    "tags": [
     "parameters"
    ]
   },
   "outputs": [],
   "source": [
    "run_no = 0\n",
    "universe_id = \"test\"\n",
    "universe = {\n",
    "    \"training_size\": \"25k\", # \"25k\", \"5k\", \"1k\"\n",
    "    \"training_year\": \"2014\", # \"2014\", \"2012_14\", \"2010_14\"\n",
    "    \"scale\": \"scale\", # \"scale\", \"do-not-scale\",\n",
    "    #\"stratify_split\": \"target\", # \"none\", \"target\", \"protected-attribute\", \"both\",\n",
    "    \"model\": \"elasticnet\", # \"logreg\", \"penalized_logreg\", \"rf\", \"gbm\", \"elasticnet\"\n",
    "    \"cutoff\": [\"quantile_0.15\", \"quantile_0.30\"],\n",
    "    \"exclude_features\": \"age\", # \"none\", \"nationality\", \"sex\", \"nationality-sex\", \"age\"\n",
    "    \"exclude_subgroups\": \"keep-all\", # \"keep-all\", \"drop-non-german\"\n",
    "    \"eval_fairness_grouping\": [\"majority-minority\", \"nationality-all\"]\n",
    "}\n",
    "\n",
    "output_dir=\"./output\"\n",
    "seed=0"
   ]
  },
  {
   "cell_type": "code",
   "execution_count": 4,
   "id": "60879936",
   "metadata": {
    "execution": {
     "iopub.execute_input": "2025-07-30T21:28:52.542673Z",
     "iopub.status.busy": "2025-07-30T21:28:52.542010Z",
     "iopub.status.idle": "2025-07-30T21:28:52.546591Z",
     "shell.execute_reply": "2025-07-30T21:28:52.545942Z"
    },
    "papermill": {
     "duration": 0.016719,
     "end_time": "2025-07-30T21:28:52.547880",
     "exception": false,
     "start_time": "2025-07-30T21:28:52.531161",
     "status": "completed"
    },
    "tags": [
     "injected-parameters"
    ]
   },
   "outputs": [],
   "source": [
    "# Parameters\n",
    "universe_id = \"4bbd0c413f6e32dfefddcbd6a0049e1e\"\n",
    "run_no = \"14\"\n",
    "universe = \"{\\\"cutoff\\\": [\\\"quantile_0.1\\\", \\\"quantile_0.25\\\"], \\\"eval_fairness_grouping\\\": [\\\"majority-minority\\\", \\\"nationality-all\\\"], \\\"exclude_features\\\": \\\"age\\\", \\\"exclude_subgroups\\\": \\\"keep-all\\\", \\\"model\\\": \\\"penalized_logreg\\\", \\\"scale\\\": \\\"do-not-scale\\\", \\\"training_size\\\": \\\"1k\\\", \\\"training_year\\\": \\\"2014\\\"}\"\n",
    "output_dir = \"output\"\n",
    "seed = \"2023\"\n"
   ]
  },
  {
   "cell_type": "code",
   "execution_count": 5,
   "id": "1650acaf",
   "metadata": {
    "execution": {
     "iopub.execute_input": "2025-07-30T21:28:52.570900Z",
     "iopub.status.busy": "2025-07-30T21:28:52.570318Z",
     "iopub.status.idle": "2025-07-30T21:28:52.574578Z",
     "shell.execute_reply": "2025-07-30T21:28:52.573923Z"
    },
    "papermill": {
     "duration": 0.017266,
     "end_time": "2025-07-30T21:28:52.575889",
     "exception": false,
     "start_time": "2025-07-30T21:28:52.558623",
     "status": "completed"
    },
    "tags": []
   },
   "outputs": [],
   "source": [
    "import json\n",
    "# Parse universe into dict if it is passed as a string\n",
    "if isinstance(universe, str):\n",
    "    universe = json.loads(universe)"
   ]
  },
  {
   "cell_type": "code",
   "execution_count": 6,
   "id": "16620c48",
   "metadata": {
    "execution": {
     "iopub.execute_input": "2025-07-30T21:28:52.597642Z",
     "iopub.status.busy": "2025-07-30T21:28:52.596990Z",
     "iopub.status.idle": "2025-07-30T21:28:52.625045Z",
     "shell.execute_reply": "2025-07-30T21:28:52.624276Z"
    },
    "papermill": {
     "duration": 0.040098,
     "end_time": "2025-07-30T21:28:52.626409",
     "exception": false,
     "start_time": "2025-07-30T21:28:52.586311",
     "status": "completed"
    },
    "tags": []
   },
   "outputs": [],
   "source": [
    "# Auto-reload the custom package\n",
    "%load_ext autoreload\n",
    "%autoreload 1\n",
    "%aimport fairness_multiverse"
   ]
  },
  {
   "cell_type": "code",
   "execution_count": 7,
   "id": "01c5c9f3",
   "metadata": {
    "execution": {
     "iopub.execute_input": "2025-07-30T21:28:52.648188Z",
     "iopub.status.busy": "2025-07-30T21:28:52.647536Z",
     "iopub.status.idle": "2025-07-30T21:28:54.328804Z",
     "shell.execute_reply": "2025-07-30T21:28:54.327617Z"
    },
    "papermill": {
     "duration": 1.693944,
     "end_time": "2025-07-30T21:28:54.330895",
     "exception": false,
     "start_time": "2025-07-30T21:28:52.636951",
     "status": "completed"
    },
    "tags": []
   },
   "outputs": [],
   "source": [
    "from fairness_multiverse.universe import UniverseAnalysis\n",
    "\n",
    "universe_analysis = UniverseAnalysis(\n",
    "    run_no = run_no,\n",
    "    universe_id = universe_id,\n",
    "    universe = universe,\n",
    "    output_dir=output_dir,\n",
    ")"
   ]
  },
  {
   "cell_type": "code",
   "execution_count": 8,
   "id": "106241f5",
   "metadata": {
    "execution": {
     "iopub.execute_input": "2025-07-30T21:28:54.374231Z",
     "iopub.status.busy": "2025-07-30T21:28:54.373269Z",
     "iopub.status.idle": "2025-07-30T21:28:54.380015Z",
     "shell.execute_reply": "2025-07-30T21:28:54.378985Z"
    },
    "papermill": {
     "duration": 0.029227,
     "end_time": "2025-07-30T21:28:54.381561",
     "exception": false,
     "start_time": "2025-07-30T21:28:54.352334",
     "status": "completed"
    },
    "tags": []
   },
   "outputs": [
    {
     "name": "stdout",
     "output_type": "stream",
     "text": [
      "Using Seed: 2023\n"
     ]
    }
   ],
   "source": [
    "import numpy as np\n",
    "parsed_seed = int(seed)\n",
    "np.random.seed(parsed_seed)\n",
    "print(f\"Using Seed: {parsed_seed}\")"
   ]
  },
  {
   "cell_type": "markdown",
   "id": "e0ebdc57",
   "metadata": {
    "papermill": {
     "duration": 0.019988,
     "end_time": "2025-07-30T21:28:54.422154",
     "exception": false,
     "start_time": "2025-07-30T21:28:54.402166",
     "status": "completed"
    },
    "tags": []
   },
   "source": [
    "# Loading Data"
   ]
  },
  {
   "cell_type": "markdown",
   "id": "681925a3",
   "metadata": {
    "papermill": {
     "duration": 0.019241,
     "end_time": "2025-07-30T21:28:54.461372",
     "exception": false,
     "start_time": "2025-07-30T21:28:54.442131",
     "status": "completed"
    },
    "tags": []
   },
   "source": [
    "Load siab_train, siab_test, siab_calib and/or \n",
    "load siab_train_features, siab_train_labels"
   ]
  },
  {
   "cell_type": "code",
   "execution_count": 9,
   "id": "f0496b8a",
   "metadata": {
    "execution": {
     "iopub.execute_input": "2025-07-30T21:28:54.503826Z",
     "iopub.status.busy": "2025-07-30T21:28:54.503189Z",
     "iopub.status.idle": "2025-07-30T21:29:07.750866Z",
     "shell.execute_reply": "2025-07-30T21:29:07.749611Z"
    },
    "papermill": {
     "duration": 13.271082,
     "end_time": "2025-07-30T21:29:07.752713",
     "exception": false,
     "start_time": "2025-07-30T21:28:54.481631",
     "status": "completed"
    },
    "tags": []
   },
   "outputs": [
    {
     "name": "stdout",
     "output_type": "stream",
     "text": [
      "Loading SIAB data from cache: data/siab_cached.csv.gz\n"
     ]
    },
    {
     "name": "stdout",
     "output_type": "stream",
     "text": [
      "(643690, 164)\n"
     ]
    }
   ],
   "source": [
    "from pathlib import Path\n",
    "import pandas as pd\n",
    "\n",
    "# File paths\n",
    "raw_file = Path(\"data/raw/siab.csv\")\n",
    "cache_file = Path(\"data/siab_cached.csv.gz\")\n",
    "\n",
    "# Ensure cache directory exists\n",
    "cache_file.parent.mkdir(parents=True, exist_ok=True)\n",
    "\n",
    "# Load with simple caching\n",
    "if cache_file.exists():\n",
    "    print(f\"Loading SIAB data from cache: {cache_file}\")\n",
    "    siab = pd.read_csv(cache_file, compression='gzip')\n",
    "else:\n",
    "    print(f\"Cache not found. Reading raw SIAB data: {raw_file}\")\n",
    "    siab = pd.read_csv(raw_file)\n",
    "    siab.to_csv(cache_file, index=False, compression='gzip')\n",
    "    print(f\"Cached SIAB data to: {cache_file}\")\n",
    "\n",
    "# Now use `siab` DataFrame as needed\n",
    "print(siab.shape)"
   ]
  },
  {
   "cell_type": "code",
   "execution_count": 10,
   "id": "db0ca512-5f53-4dba-abdb-a2888bca41ba",
   "metadata": {
    "execution": {
     "iopub.execute_input": "2025-07-30T21:29:07.801262Z",
     "iopub.status.busy": "2025-07-30T21:29:07.800401Z",
     "iopub.status.idle": "2025-07-30T21:29:07.806415Z",
     "shell.execute_reply": "2025-07-30T21:29:07.805537Z"
    },
    "papermill": {
     "duration": 0.029829,
     "end_time": "2025-07-30T21:29:07.808097",
     "exception": false,
     "start_time": "2025-07-30T21:29:07.778268",
     "status": "completed"
    },
    "tags": []
   },
   "outputs": [],
   "source": [
    "#siab"
   ]
  },
  {
   "cell_type": "code",
   "execution_count": 11,
   "id": "a0edb063",
   "metadata": {
    "execution": {
     "iopub.execute_input": "2025-07-30T21:29:07.852339Z",
     "iopub.status.busy": "2025-07-30T21:29:07.851496Z",
     "iopub.status.idle": "2025-07-30T21:29:07.857098Z",
     "shell.execute_reply": "2025-07-30T21:29:07.856142Z"
    },
    "papermill": {
     "duration": 0.029461,
     "end_time": "2025-07-30T21:29:07.858751",
     "exception": false,
     "start_time": "2025-07-30T21:29:07.829290",
     "status": "completed"
    },
    "tags": []
   },
   "outputs": [],
   "source": [
    "#import pandas as pd\n",
    "#\n",
    "#X_train = pd.read_csv(\"./data/X_train.csv\")\n",
    "#y_train = pd.read_csv(\"./data/y_train.csv\")"
   ]
  },
  {
   "cell_type": "code",
   "execution_count": 12,
   "id": "63d08085",
   "metadata": {
    "execution": {
     "iopub.execute_input": "2025-07-30T21:29:07.904960Z",
     "iopub.status.busy": "2025-07-30T21:29:07.903245Z",
     "iopub.status.idle": "2025-07-30T21:29:07.909114Z",
     "shell.execute_reply": "2025-07-30T21:29:07.908148Z"
    },
    "papermill": {
     "duration": 0.029771,
     "end_time": "2025-07-30T21:29:07.910733",
     "exception": false,
     "start_time": "2025-07-30T21:29:07.880962",
     "status": "completed"
    },
    "tags": []
   },
   "outputs": [],
   "source": [
    "#X_test = pd.read_csv(\"./data/X_test.csv\")\n",
    "#y_true = pd.read_csv(\"./data/y_test.csv\")"
   ]
  },
  {
   "cell_type": "code",
   "execution_count": 13,
   "id": "98a8d0fa-1d3d-4ed8-bb2c-281470e24add",
   "metadata": {
    "execution": {
     "iopub.execute_input": "2025-07-30T21:29:07.956309Z",
     "iopub.status.busy": "2025-07-30T21:29:07.955818Z",
     "iopub.status.idle": "2025-07-30T21:29:07.960996Z",
     "shell.execute_reply": "2025-07-30T21:29:07.959958Z"
    },
    "papermill": {
     "duration": 0.029433,
     "end_time": "2025-07-30T21:29:07.962822",
     "exception": false,
     "start_time": "2025-07-30T21:29:07.933389",
     "status": "completed"
    },
    "tags": []
   },
   "outputs": [],
   "source": [
    "# Calibration data for conformal\n",
    "#X_calib = pd.read_csv(\"./data/X_calib.csv\")\n",
    "#y_calib = pd.read_csv(\"./data/y_calib.csv\")"
   ]
  },
  {
   "cell_type": "markdown",
   "id": "997051c5-15bd-4b69-9786-c3001a3ce484",
   "metadata": {
    "papermill": {
     "duration": 0.021821,
     "end_time": "2025-07-30T21:29:08.006945",
     "exception": false,
     "start_time": "2025-07-30T21:29:07.985124",
     "status": "completed"
    },
    "tags": []
   },
   "source": [
    "# Splitting Data and Setting Training Data Size"
   ]
  },
  {
   "cell_type": "code",
   "execution_count": 14,
   "id": "e993b61f-042d-41a6-8c81-f55681f86335",
   "metadata": {
    "execution": {
     "iopub.execute_input": "2025-07-30T21:29:08.051823Z",
     "iopub.status.busy": "2025-07-30T21:29:08.051336Z",
     "iopub.status.idle": "2025-07-30T21:29:08.065567Z",
     "shell.execute_reply": "2025-07-30T21:29:08.064602Z"
    },
    "papermill": {
     "duration": 0.038793,
     "end_time": "2025-07-30T21:29:08.067204",
     "exception": false,
     "start_time": "2025-07-30T21:29:08.028411",
     "status": "completed"
    },
    "tags": []
   },
   "outputs": [],
   "source": [
    "def sample_by_year_size(df,\n",
    "                        training_year: str,\n",
    "                        training_size: str,\n",
    "                        random_state: int = 42):\n",
    "    # --- parse training_year into a list of int years ---\n",
    "    if \"_\" in training_year:\n",
    "        start_str, end_str = training_year.split(\"_\", 1)\n",
    "        start = int(start_str)\n",
    "        end   = int(end_str) if len(end_str) == 4 else (int(end_str) + (start // 100)*100)\n",
    "        years = list(range(start, end + 1))\n",
    "    else:\n",
    "        years = [int(training_year)]\n",
    "\n",
    "    df = df[df[\"year\"].isin(years)].reset_index(drop=True)\n",
    "\n",
    "    # --- map training_size to total number of samples ---\n",
    "    total_map = {\"25k\": 25_000, \"5k\": 5_000, \"1k\": 1_000}\n",
    "    if training_size not in total_map:\n",
    "        return df  # e.g. \"all\"\n",
    "\n",
    "    total_samples = total_map[training_size]\n",
    "    n_years       = len(years)\n",
    "    base          = total_samples // n_years\n",
    "    remainder     = total_samples % n_years\n",
    "\n",
    "    # --- build a dict: year -> how many to sample ---\n",
    "    # give +1 to the first `remainder` years in ascending order\n",
    "    quotas = {\n",
    "        year: base + (1 if idx < remainder else 0)\n",
    "        for idx, year in enumerate(sorted(years))\n",
    "    }\n",
    "\n",
    "    # --- sample per‐year according to the quota dict ---\n",
    "    sampled = (\n",
    "        df\n",
    "        .groupby(\"year\", group_keys=False)\n",
    "        .apply(lambda grp: grp.sample(\n",
    "            n=min(len(grp), quotas[grp.name]),\n",
    "            random_state=random_state))\n",
    "        .reset_index(drop=True)\n",
    "    )\n",
    "\n",
    "    return sampled"
   ]
  },
  {
   "cell_type": "code",
   "execution_count": 15,
   "id": "c0ccd338-0e02-41f3-a09d-f56f9266e3fb",
   "metadata": {
    "execution": {
     "iopub.execute_input": "2025-07-30T21:29:08.113115Z",
     "iopub.status.busy": "2025-07-30T21:29:08.112229Z",
     "iopub.status.idle": "2025-07-30T21:29:08.118166Z",
     "shell.execute_reply": "2025-07-30T21:29:08.117208Z"
    },
    "papermill": {
     "duration": 0.030541,
     "end_time": "2025-07-30T21:29:08.120112",
     "exception": false,
     "start_time": "2025-07-30T21:29:08.089571",
     "status": "completed"
    },
    "tags": []
   },
   "outputs": [],
   "source": [
    "#universe[\"training_size\"]"
   ]
  },
  {
   "cell_type": "code",
   "execution_count": 16,
   "id": "ca707fd7-8047-4acd-bfa5-66248fbbf8e6",
   "metadata": {
    "execution": {
     "iopub.execute_input": "2025-07-30T21:29:08.165743Z",
     "iopub.status.busy": "2025-07-30T21:29:08.164882Z",
     "iopub.status.idle": "2025-07-30T21:29:08.170036Z",
     "shell.execute_reply": "2025-07-30T21:29:08.169065Z"
    },
    "papermill": {
     "duration": 0.029569,
     "end_time": "2025-07-30T21:29:08.171701",
     "exception": false,
     "start_time": "2025-07-30T21:29:08.142132",
     "status": "completed"
    },
    "tags": []
   },
   "outputs": [],
   "source": [
    "#universe[\"training_year\"]"
   ]
  },
  {
   "cell_type": "code",
   "execution_count": 17,
   "id": "aea9c6ef-6f46-42c8-85eb-5a62025c1508",
   "metadata": {
    "execution": {
     "iopub.execute_input": "2025-07-30T21:29:08.217635Z",
     "iopub.status.busy": "2025-07-30T21:29:08.216761Z",
     "iopub.status.idle": "2025-07-30T21:29:08.416210Z",
     "shell.execute_reply": "2025-07-30T21:29:08.415446Z"
    },
    "papermill": {
     "duration": 0.224039,
     "end_time": "2025-07-30T21:29:08.418061",
     "exception": false,
     "start_time": "2025-07-30T21:29:08.194022",
     "status": "completed"
    },
    "tags": []
   },
   "outputs": [],
   "source": [
    "siab_train = sample_by_year_size(siab,\n",
    "                               training_year=universe[\"training_year\"],\n",
    "                               training_size=universe[\"training_size\"])"
   ]
  },
  {
   "cell_type": "code",
   "execution_count": 18,
   "id": "8d3afb32-789d-442c-8d5d-9f5aa8dd2eed",
   "metadata": {
    "execution": {
     "iopub.execute_input": "2025-07-30T21:29:08.468243Z",
     "iopub.status.busy": "2025-07-30T21:29:08.467731Z",
     "iopub.status.idle": "2025-07-30T21:29:08.472979Z",
     "shell.execute_reply": "2025-07-30T21:29:08.471954Z"
    },
    "papermill": {
     "duration": 0.018197,
     "end_time": "2025-07-30T21:29:08.474458",
     "exception": false,
     "start_time": "2025-07-30T21:29:08.456261",
     "status": "completed"
    },
    "tags": []
   },
   "outputs": [],
   "source": [
    "#siab_train.shape"
   ]
  },
  {
   "cell_type": "code",
   "execution_count": 19,
   "id": "d582db68-1a4c-47fb-84fc-08518dc1975a",
   "metadata": {
    "execution": {
     "iopub.execute_input": "2025-07-30T21:29:08.500449Z",
     "iopub.status.busy": "2025-07-30T21:29:08.499870Z",
     "iopub.status.idle": "2025-07-30T21:29:08.503837Z",
     "shell.execute_reply": "2025-07-30T21:29:08.503128Z"
    },
    "papermill": {
     "duration": 0.016705,
     "end_time": "2025-07-30T21:29:08.505203",
     "exception": false,
     "start_time": "2025-07-30T21:29:08.488498",
     "status": "completed"
    },
    "tags": []
   },
   "outputs": [],
   "source": [
    "#display(siab_train.groupby(\"year\").size())"
   ]
  },
  {
   "cell_type": "code",
   "execution_count": 20,
   "id": "a561edb4-d032-42cb-8256-22eac1111c64",
   "metadata": {
    "execution": {
     "iopub.execute_input": "2025-07-30T21:29:08.528357Z",
     "iopub.status.busy": "2025-07-30T21:29:08.527851Z",
     "iopub.status.idle": "2025-07-30T21:29:08.747512Z",
     "shell.execute_reply": "2025-07-30T21:29:08.746532Z"
    },
    "papermill": {
     "duration": 0.233097,
     "end_time": "2025-07-30T21:29:08.749557",
     "exception": false,
     "start_time": "2025-07-30T21:29:08.516460",
     "status": "completed"
    },
    "tags": []
   },
   "outputs": [],
   "source": [
    "#siab_train = siab_s[siab_s.year < 2015]\n",
    "siab_calib = siab[siab.year == 2015]\n",
    "siab_test = siab[siab.year == 2016]"
   ]
  },
  {
   "cell_type": "code",
   "execution_count": 21,
   "id": "472de16f-c3db-4916-846b-1f0de9cf1746",
   "metadata": {
    "execution": {
     "iopub.execute_input": "2025-07-30T21:29:08.797726Z",
     "iopub.status.busy": "2025-07-30T21:29:08.797252Z",
     "iopub.status.idle": "2025-07-30T21:29:08.804371Z",
     "shell.execute_reply": "2025-07-30T21:29:08.803547Z"
    },
    "papermill": {
     "duration": 0.032651,
     "end_time": "2025-07-30T21:29:08.806878",
     "exception": false,
     "start_time": "2025-07-30T21:29:08.774227",
     "status": "completed"
    },
    "tags": []
   },
   "outputs": [],
   "source": [
    "X_train = siab_train.iloc[:,4:164]\n",
    "y_train = siab_train.iloc[:, [3]]"
   ]
  },
  {
   "cell_type": "code",
   "execution_count": 22,
   "id": "828c96af-f43a-4ed6-ba47-8ac73a47d56c",
   "metadata": {
    "execution": {
     "iopub.execute_input": "2025-07-30T21:29:08.852741Z",
     "iopub.status.busy": "2025-07-30T21:29:08.852023Z",
     "iopub.status.idle": "2025-07-30T21:29:08.905459Z",
     "shell.execute_reply": "2025-07-30T21:29:08.904282Z"
    },
    "papermill": {
     "duration": 0.077414,
     "end_time": "2025-07-30T21:29:08.907168",
     "exception": false,
     "start_time": "2025-07-30T21:29:08.829754",
     "status": "completed"
    },
    "tags": []
   },
   "outputs": [],
   "source": [
    "X_calib = siab_calib.iloc[:,4:164]\n",
    "y_calib = siab_calib.iloc[:, [3]]"
   ]
  },
  {
   "cell_type": "code",
   "execution_count": 23,
   "id": "c34be9c3-6bd6-476e-acd3-845840e303be",
   "metadata": {
    "execution": {
     "iopub.execute_input": "2025-07-30T21:29:08.951423Z",
     "iopub.status.busy": "2025-07-30T21:29:08.950876Z",
     "iopub.status.idle": "2025-07-30T21:29:09.006467Z",
     "shell.execute_reply": "2025-07-30T21:29:09.005382Z"
    },
    "papermill": {
     "duration": 0.081741,
     "end_time": "2025-07-30T21:29:09.008133",
     "exception": false,
     "start_time": "2025-07-30T21:29:08.926392",
     "status": "completed"
    },
    "tags": []
   },
   "outputs": [],
   "source": [
    "X_test = siab_test.iloc[:,4:164]\n",
    "y_true = siab_test.iloc[:, [3]]"
   ]
  },
  {
   "cell_type": "markdown",
   "id": "9901737e-04df-44f0-9100-f5ad144ed040",
   "metadata": {
    "papermill": {
     "duration": 0.022664,
     "end_time": "2025-07-30T21:29:09.054135",
     "exception": false,
     "start_time": "2025-07-30T21:29:09.031471",
     "status": "completed"
    },
    "tags": []
   },
   "source": [
    "# Splitting Data and Setting Training Data Size OLD VERSION"
   ]
  },
  {
   "cell_type": "code",
   "execution_count": 24,
   "id": "acbc8f7d-8fc8-4e86-8c59-5dcb0f58384b",
   "metadata": {
    "execution": {
     "iopub.execute_input": "2025-07-30T21:29:09.098735Z",
     "iopub.status.busy": "2025-07-30T21:29:09.098188Z",
     "iopub.status.idle": "2025-07-30T21:29:09.104182Z",
     "shell.execute_reply": "2025-07-30T21:29:09.103216Z"
    },
    "papermill": {
     "duration": 0.030529,
     "end_time": "2025-07-30T21:29:09.105792",
     "exception": false,
     "start_time": "2025-07-30T21:29:09.075263",
     "status": "completed"
    },
    "tags": []
   },
   "outputs": [],
   "source": [
    "#def sample_by_year(df, training_size, random_state=42):\n",
    "#    if training_size == \"2014\":\n",
    "#        return df[df[\"year\"] == 2014].reset_index(drop=True)\n",
    "#    \n",
    "#    size_map = {\n",
    "#        \"25k\": 5000,\n",
    "#        \"5k\": 1000,\n",
    "#        \"1k\": 200\n",
    "#    }\n",
    "#\n",
    "#    if training_size not in size_map:\n",
    "#        return df.reset_index(drop=True)  # use all data\n",
    "#\n",
    "#    n_per_year = size_map[training_size]\n",
    "#    grouped = df.groupby(\"year\")\n",
    "#    sampled = grouped.apply(lambda x: x.sample(n=min(n_per_year, len(x)), random_state=random_state))\n",
    "#    return sampled.reset_index(drop=True)"
   ]
  },
  {
   "cell_type": "code",
   "execution_count": 25,
   "id": "6d931f52-beaf-43ff-9e78-9d44a448d54e",
   "metadata": {
    "execution": {
     "iopub.execute_input": "2025-07-30T21:29:09.151729Z",
     "iopub.status.busy": "2025-07-30T21:29:09.151214Z",
     "iopub.status.idle": "2025-07-30T21:29:09.158128Z",
     "shell.execute_reply": "2025-07-30T21:29:09.156786Z"
    },
    "papermill": {
     "duration": 0.03212,
     "end_time": "2025-07-30T21:29:09.159882",
     "exception": false,
     "start_time": "2025-07-30T21:29:09.127762",
     "status": "completed"
    },
    "tags": []
   },
   "outputs": [],
   "source": [
    "#siab_s = sample_by_year(siab, universe[\"training_size\"])"
   ]
  },
  {
   "cell_type": "code",
   "execution_count": 26,
   "id": "5db0a40e-a4e2-4920-be85-b12ae061d70d",
   "metadata": {
    "execution": {
     "iopub.execute_input": "2025-07-30T21:29:09.209849Z",
     "iopub.status.busy": "2025-07-30T21:29:09.209317Z",
     "iopub.status.idle": "2025-07-30T21:29:09.214927Z",
     "shell.execute_reply": "2025-07-30T21:29:09.213991Z"
    },
    "papermill": {
     "duration": 0.030734,
     "end_time": "2025-07-30T21:29:09.216668",
     "exception": false,
     "start_time": "2025-07-30T21:29:09.185934",
     "status": "completed"
    },
    "tags": []
   },
   "outputs": [],
   "source": [
    "#display(siab_s.groupby(\"year\").size())"
   ]
  },
  {
   "cell_type": "code",
   "execution_count": 27,
   "id": "e6c733c5",
   "metadata": {
    "execution": {
     "iopub.execute_input": "2025-07-30T21:29:09.263262Z",
     "iopub.status.busy": "2025-07-30T21:29:09.262472Z",
     "iopub.status.idle": "2025-07-30T21:29:09.359381Z",
     "shell.execute_reply": "2025-07-30T21:29:09.358375Z"
    },
    "papermill": {
     "duration": 0.121042,
     "end_time": "2025-07-30T21:29:09.360972",
     "exception": false,
     "start_time": "2025-07-30T21:29:09.239930",
     "status": "completed"
    },
    "tags": []
   },
   "outputs": [],
   "source": [
    "# Auxiliary data needed downstream in the pipeline\n",
    "\n",
    "org_train = X_train.copy()\n",
    "org_test = X_test.copy()\n",
    "org_calib = X_calib.copy()"
   ]
  },
  {
   "cell_type": "code",
   "execution_count": 28,
   "id": "1466abac-c6da-4492-a62f-4240ae3783af",
   "metadata": {
    "execution": {
     "iopub.execute_input": "2025-07-30T21:29:09.406391Z",
     "iopub.status.busy": "2025-07-30T21:29:09.405426Z",
     "iopub.status.idle": "2025-07-30T21:29:09.411466Z",
     "shell.execute_reply": "2025-07-30T21:29:09.410507Z"
    },
    "papermill": {
     "duration": 0.032627,
     "end_time": "2025-07-30T21:29:09.413125",
     "exception": false,
     "start_time": "2025-07-30T21:29:09.380498",
     "status": "completed"
    },
    "tags": []
   },
   "outputs": [],
   "source": [
    "# put in other script?\n",
    "# Group sizes\n",
    "\n",
    "#def calculate_percentages(df, df_name):\n",
    "#    total_entries = len(df)\n",
    "#\n",
    "#    female_pct = (df['frau1'] == 1).mean() * 100\n",
    "#    non_german_pct = ((df['maxdeutsch1'] == 0) & (df['maxdeutsch.Missing.'] == 0)).mean() * 100\n",
    "#    non_german_male_pct = ((df['frau1'] == 0) & (df['maxdeutsch1'] == 0) & (df['maxdeutsch.Missing.'] == 0)).mean() * 100\n",
    "#    non_german_female_pct = ((df['frau1'] == 1) & (df['maxdeutsch1'] == 0) & (df['maxdeutsch.Missing.'] == 0)).mean() * 100\n",
    "#\n",
    "#    print(f\"--- {df_name} ---\")\n",
    "#    print(f\"Female: {female_pct:.2f}%\")\n",
    "#    print(f\"Non-German: {non_german_pct:.2f}%\")\n",
    "#    print(f\"Non-German Male: {non_german_male_pct:.2f}%\")\n",
    "#    print(f\"Non-German Female: {non_german_female_pct:.2f}%\\n\")\n",
    "#\n",
    "## Calculate for each DataFrame\n",
    "#calculate_percentages(siab_calib, \"siab_calib\")\n",
    "#calculate_percentages(siab_test, \"siab_test\")\n",
    "#calculate_percentages(siab_train, \"siab_train\")"
   ]
  },
  {
   "cell_type": "markdown",
   "id": "0a4a1b33",
   "metadata": {
    "papermill": {
     "duration": 0.012621,
     "end_time": "2025-07-30T21:29:09.446181",
     "exception": false,
     "start_time": "2025-07-30T21:29:09.433560",
     "status": "completed"
    },
    "tags": []
   },
   "source": [
    "# Preprocessing Data"
   ]
  },
  {
   "cell_type": "code",
   "execution_count": 29,
   "id": "ca879031",
   "metadata": {
    "execution": {
     "iopub.execute_input": "2025-07-30T21:29:09.471386Z",
     "iopub.status.busy": "2025-07-30T21:29:09.470619Z",
     "iopub.status.idle": "2025-07-30T21:29:09.476906Z",
     "shell.execute_reply": "2025-07-30T21:29:09.475921Z"
    },
    "papermill": {
     "duration": 0.02053,
     "end_time": "2025-07-30T21:29:09.478589",
     "exception": false,
     "start_time": "2025-07-30T21:29:09.458059",
     "status": "completed"
    },
    "tags": []
   },
   "outputs": [],
   "source": [
    "# EXCLUDE PROTECTED FEATURES\n",
    "# ----------------------\n",
    "# \"exclude_features\": \"none\", # \"nationality\", \"sex\", \"nationality-sex\"\n",
    "\n",
    "excluded_features = universe[\"exclude_features\"].split(\"-\") # split, e.g.: \"nationality-sex\" -> [\"nationality\", \"sex\"]\n",
    "excluded_features_dictionary = {\n",
    "    \"nationality\": [\"maxdeutsch1\", \"maxdeutsch.Missing.\"],\n",
    "    \"sex\": [\"frau1\"],\n",
    "    \"age\": [\"age\"],\n",
    "}\n"
   ]
  },
  {
   "cell_type": "code",
   "execution_count": 30,
   "id": "b745ac60",
   "metadata": {
    "execution": {
     "iopub.execute_input": "2025-07-30T21:29:09.526897Z",
     "iopub.status.busy": "2025-07-30T21:29:09.526187Z",
     "iopub.status.idle": "2025-07-30T21:29:09.533207Z",
     "shell.execute_reply": "2025-07-30T21:29:09.532191Z"
    },
    "papermill": {
     "duration": 0.033267,
     "end_time": "2025-07-30T21:29:09.535040",
     "exception": false,
     "start_time": "2025-07-30T21:29:09.501773",
     "status": "completed"
    },
    "tags": []
   },
   "outputs": [],
   "source": [
    "# Code nice names to column names\n",
    "\n",
    "excluded_features_columns = [\n",
    "    excluded_features_dictionary[f] for f in excluded_features if len(f) > 0 and f != \"none\"\n",
    "]"
   ]
  },
  {
   "cell_type": "code",
   "execution_count": 31,
   "id": "f84f73a2",
   "metadata": {
    "execution": {
     "iopub.execute_input": "2025-07-30T21:29:09.584304Z",
     "iopub.status.busy": "2025-07-30T21:29:09.583569Z",
     "iopub.status.idle": "2025-07-30T21:29:09.591270Z",
     "shell.execute_reply": "2025-07-30T21:29:09.590303Z"
    },
    "papermill": {
     "duration": 0.036022,
     "end_time": "2025-07-30T21:29:09.593135",
     "exception": false,
     "start_time": "2025-07-30T21:29:09.557113",
     "status": "completed"
    },
    "tags": []
   },
   "outputs": [],
   "source": [
    "from utils import flatten_once\n",
    "\n",
    "excluded_features_columns = flatten_once(excluded_features_columns)"
   ]
  },
  {
   "cell_type": "code",
   "execution_count": 32,
   "id": "884dea22",
   "metadata": {
    "execution": {
     "iopub.execute_input": "2025-07-30T21:29:09.642275Z",
     "iopub.status.busy": "2025-07-30T21:29:09.641415Z",
     "iopub.status.idle": "2025-07-30T21:29:09.649879Z",
     "shell.execute_reply": "2025-07-30T21:29:09.648867Z"
    },
    "papermill": {
     "duration": 0.033385,
     "end_time": "2025-07-30T21:29:09.651475",
     "exception": false,
     "start_time": "2025-07-30T21:29:09.618090",
     "status": "completed"
    },
    "tags": []
   },
   "outputs": [
    {
     "name": "stdout",
     "output_type": "stream",
     "text": [
      "Dropping features: ['age']\n"
     ]
    }
   ],
   "source": [
    "if len(excluded_features_columns) > 0:\n",
    "    print(f\"Dropping features: {excluded_features_columns}\")\n",
    "    X_train.drop(excluded_features_columns, axis=1, inplace=True)"
   ]
  },
  {
   "cell_type": "code",
   "execution_count": 33,
   "id": "95ab8b16",
   "metadata": {
    "execution": {
     "iopub.execute_input": "2025-07-30T21:29:09.703627Z",
     "iopub.status.busy": "2025-07-30T21:29:09.702738Z",
     "iopub.status.idle": "2025-07-30T21:29:09.759137Z",
     "shell.execute_reply": "2025-07-30T21:29:09.758081Z"
    },
    "papermill": {
     "duration": 0.083848,
     "end_time": "2025-07-30T21:29:09.760973",
     "exception": false,
     "start_time": "2025-07-30T21:29:09.677125",
     "status": "completed"
    },
    "tags": []
   },
   "outputs": [
    {
     "name": "stdout",
     "output_type": "stream",
     "text": [
      "Dropping features: ['age']\n"
     ]
    }
   ],
   "source": [
    "if len(excluded_features_columns) > 0:\n",
    "    print(f\"Dropping features: {excluded_features_columns}\")\n",
    "    X_test.drop(excluded_features_columns, axis=1, inplace=True)"
   ]
  },
  {
   "cell_type": "code",
   "execution_count": 34,
   "id": "1853aaf5-fb9f-46cb-a2b5-8ea4ae2237e4",
   "metadata": {
    "execution": {
     "iopub.execute_input": "2025-07-30T21:29:09.808599Z",
     "iopub.status.busy": "2025-07-30T21:29:09.808093Z",
     "iopub.status.idle": "2025-07-30T21:29:09.863472Z",
     "shell.execute_reply": "2025-07-30T21:29:09.862307Z"
    },
    "papermill": {
     "duration": 0.082431,
     "end_time": "2025-07-30T21:29:09.865271",
     "exception": false,
     "start_time": "2025-07-30T21:29:09.782840",
     "status": "completed"
    },
    "tags": []
   },
   "outputs": [
    {
     "name": "stdout",
     "output_type": "stream",
     "text": [
      "Dropping features: ['age']\n"
     ]
    }
   ],
   "source": [
    "if len(excluded_features_columns) > 0:\n",
    "    print(f\"Dropping features: {excluded_features_columns}\")\n",
    "    X_calib.drop(excluded_features_columns, axis=1, inplace=True)"
   ]
  },
  {
   "cell_type": "code",
   "execution_count": 35,
   "id": "6727d079-03e5-481e-9d38-292a90b7a0a8",
   "metadata": {
    "execution": {
     "iopub.execute_input": "2025-07-30T21:29:09.912961Z",
     "iopub.status.busy": "2025-07-30T21:29:09.912443Z",
     "iopub.status.idle": "2025-07-30T21:29:09.917559Z",
     "shell.execute_reply": "2025-07-30T21:29:09.916400Z"
    },
    "papermill": {
     "duration": 0.030126,
     "end_time": "2025-07-30T21:29:09.919278",
     "exception": false,
     "start_time": "2025-07-30T21:29:09.889152",
     "status": "completed"
    },
    "tags": []
   },
   "outputs": [],
   "source": [
    "# SPLIT & STRATIFY DATA\n",
    "# ----------------------"
   ]
  },
  {
   "cell_type": "code",
   "execution_count": 36,
   "id": "76c4dc6d",
   "metadata": {
    "execution": {
     "iopub.execute_input": "2025-07-30T21:29:09.966248Z",
     "iopub.status.busy": "2025-07-30T21:29:09.965352Z",
     "iopub.status.idle": "2025-07-30T21:29:09.970981Z",
     "shell.execute_reply": "2025-07-30T21:29:09.970047Z"
    },
    "papermill": {
     "duration": 0.030249,
     "end_time": "2025-07-30T21:29:09.972797",
     "exception": false,
     "start_time": "2025-07-30T21:29:09.942548",
     "status": "completed"
    },
    "tags": []
   },
   "outputs": [],
   "source": [
    "# EXCLUDE CERTAIN SUBGROUPS\n",
    "# ----------------------\n",
    "\n",
    "mode = universe.get(\"exclude_subgroups\", \"keep-all\") \n",
    "# Fetches the exclude_subgroups setting from the universe dict.\n",
    "# Defaults to \"keep-all\" if the key is missing."
   ]
  },
  {
   "cell_type": "code",
   "execution_count": 37,
   "id": "21994072",
   "metadata": {
    "execution": {
     "iopub.execute_input": "2025-07-30T21:29:10.019733Z",
     "iopub.status.busy": "2025-07-30T21:29:10.019257Z",
     "iopub.status.idle": "2025-07-30T21:29:10.026012Z",
     "shell.execute_reply": "2025-07-30T21:29:10.024977Z"
    },
    "papermill": {
     "duration": 0.032031,
     "end_time": "2025-07-30T21:29:10.027829",
     "exception": false,
     "start_time": "2025-07-30T21:29:09.995798",
     "status": "completed"
    },
    "tags": []
   },
   "outputs": [],
   "source": [
    "if mode == \"keep-all\":\n",
    "    keep_mask = pd.Series(True, index=org_train.index)\n",
    "\n",
    "# org_train contains the original feature columns from features_org (in Simson)\n",
    "# features_org contains unprocessed features, for me X_train at beginning ???\n",
    "# For keep-all, creates a boolean Series (keep_mask) of all True, so no rows are removed.\n",
    "\n",
    "elif mode == \"drop-non-german\":\n",
    "    keep_mask = org_train[\"maxdeutsch1\"] == 1 # ??? what about missing values?\n",
    "\n",
    "else:\n",
    "    raise ValueError(f\"Unsupported mode for exclude_subgroups: {mode}\")\n"
   ]
  },
  {
   "cell_type": "code",
   "execution_count": 38,
   "id": "71651440",
   "metadata": {
    "execution": {
     "iopub.execute_input": "2025-07-30T21:29:10.074460Z",
     "iopub.status.busy": "2025-07-30T21:29:10.074033Z",
     "iopub.status.idle": "2025-07-30T21:29:10.080238Z",
     "shell.execute_reply": "2025-07-30T21:29:10.079205Z"
    },
    "papermill": {
     "duration": 0.03152,
     "end_time": "2025-07-30T21:29:10.081802",
     "exception": false,
     "start_time": "2025-07-30T21:29:10.050282",
     "status": "completed"
    },
    "tags": []
   },
   "outputs": [],
   "source": [
    "n_drop = (~keep_mask).sum() # Calculates how many rows are set to be dropped\n",
    "if n_drop > 0:\n",
    "    pct = n_drop / len(keep_mask) * 100\n",
    "    print(f\"Dropping {n_drop} rows ({pct:.2f}%) where mode='{mode}'\")"
   ]
  },
  {
   "cell_type": "code",
   "execution_count": 39,
   "id": "5fb8eee5",
   "metadata": {
    "execution": {
     "iopub.execute_input": "2025-07-30T21:29:10.128094Z",
     "iopub.status.busy": "2025-07-30T21:29:10.127457Z",
     "iopub.status.idle": "2025-07-30T21:29:10.134864Z",
     "shell.execute_reply": "2025-07-30T21:29:10.133883Z"
    },
    "papermill": {
     "duration": 0.032506,
     "end_time": "2025-07-30T21:29:10.136516",
     "exception": false,
     "start_time": "2025-07-30T21:29:10.104010",
     "status": "completed"
    },
    "tags": []
   },
   "outputs": [],
   "source": [
    "X_train = X_train[keep_mask]"
   ]
  },
  {
   "cell_type": "code",
   "execution_count": 40,
   "id": "b202bb3a",
   "metadata": {
    "execution": {
     "iopub.execute_input": "2025-07-30T21:29:10.183563Z",
     "iopub.status.busy": "2025-07-30T21:29:10.182691Z",
     "iopub.status.idle": "2025-07-30T21:29:10.189022Z",
     "shell.execute_reply": "2025-07-30T21:29:10.187996Z"
    },
    "papermill": {
     "duration": 0.030617,
     "end_time": "2025-07-30T21:29:10.190713",
     "exception": false,
     "start_time": "2025-07-30T21:29:10.160096",
     "status": "completed"
    },
    "tags": []
   },
   "outputs": [],
   "source": [
    "y_train = y_train[keep_mask]"
   ]
  },
  {
   "cell_type": "markdown",
   "id": "493e2ac3",
   "metadata": {
    "papermill": {
     "duration": 0.021894,
     "end_time": "2025-07-30T21:29:10.236076",
     "exception": false,
     "start_time": "2025-07-30T21:29:10.214182",
     "status": "completed"
    },
    "tags": []
   },
   "source": [
    "# Model Training"
   ]
  },
  {
   "cell_type": "code",
   "execution_count": 41,
   "id": "679e1268",
   "metadata": {
    "execution": {
     "iopub.execute_input": "2025-07-30T21:29:10.283744Z",
     "iopub.status.busy": "2025-07-30T21:29:10.282969Z",
     "iopub.status.idle": "2025-07-30T21:29:10.388162Z",
     "shell.execute_reply": "2025-07-30T21:29:10.387151Z"
    },
    "papermill": {
     "duration": 0.131705,
     "end_time": "2025-07-30T21:29:10.390147",
     "exception": false,
     "start_time": "2025-07-30T21:29:10.258442",
     "status": "completed"
    },
    "tags": []
   },
   "outputs": [],
   "source": [
    "from sklearn.linear_model import LogisticRegression\n",
    "from sklearn.ensemble import GradientBoostingClassifier, RandomForestClassifier\n",
    "\n",
    "if (universe[\"model\"] == \"logreg\"):\n",
    "    model = LogisticRegression() #penalty=\"none\") #, solver=\"newton-cg\", max_iter=1) # include random_state=19 ?\n",
    "elif (universe[\"model\"] == \"penalized_logreg\"):\n",
    "    model = LogisticRegression(penalty=\"l2\", C=1.0) #, solver=\"newton-cg\", max_iter=1)\n",
    "elif (universe[\"model\"] == \"rf\"):\n",
    "    model = RandomForestClassifier(n_estimators=100, n_jobs=-1)\n",
    "elif (universe[\"model\"] == \"gbm\"):\n",
    "    model = GradientBoostingClassifier()\n",
    "elif (universe[\"model\"] == \"elasticnet\"):\n",
    "    model = LogisticRegression(penalty = 'elasticnet', solver = 'saga', l1_ratio = 0.5, max_iter=5000) # which solver to use?\n",
    "else:\n",
    "    raise \"Unsupported universe.model\""
   ]
  },
  {
   "cell_type": "code",
   "execution_count": 42,
   "id": "0cc8f744",
   "metadata": {
    "execution": {
     "iopub.execute_input": "2025-07-30T21:29:10.439637Z",
     "iopub.status.busy": "2025-07-30T21:29:10.438959Z",
     "iopub.status.idle": "2025-07-30T21:29:10.445753Z",
     "shell.execute_reply": "2025-07-30T21:29:10.444753Z"
    },
    "papermill": {
     "duration": 0.03333,
     "end_time": "2025-07-30T21:29:10.447768",
     "exception": false,
     "start_time": "2025-07-30T21:29:10.414438",
     "status": "completed"
    },
    "tags": []
   },
   "outputs": [],
   "source": [
    "import numpy as np\n",
    "from sklearn.pipeline import Pipeline\n",
    "from sklearn.preprocessing import StandardScaler\n",
    "\n",
    "model = Pipeline([\n",
    "    #(\"continuous_processor\", continuous_processor),\n",
    "    #(\"categorical_preprocessor\", categorical_preprocessor),\n",
    "    (\"scale\", StandardScaler() if universe[\"scale\"] == \"scale\" else None), \n",
    "    (\"model\", model),\n",
    "])"
   ]
  },
  {
   "cell_type": "code",
   "execution_count": 43,
   "id": "9442c04d",
   "metadata": {
    "execution": {
     "iopub.execute_input": "2025-07-30T21:29:10.506692Z",
     "iopub.status.busy": "2025-07-30T21:29:10.505986Z",
     "iopub.status.idle": "2025-07-30T21:29:10.577275Z",
     "shell.execute_reply": "2025-07-30T21:29:10.576083Z"
    },
    "papermill": {
     "duration": 0.104024,
     "end_time": "2025-07-30T21:29:10.580668",
     "exception": false,
     "start_time": "2025-07-30T21:29:10.476644",
     "status": "completed"
    },
    "tags": []
   },
   "outputs": [
    {
     "name": "stderr",
     "output_type": "stream",
     "text": [
      "/dss/dsshome1/0C/ra93lal2/.local/share/virtualenvs/CMA_Fairness_v2-3j10GkSs/lib/python3.10/site-packages/sklearn/linear_model/_logistic.py:444: ConvergenceWarning: lbfgs failed to converge (status=1):\n",
      "STOP: TOTAL NO. of ITERATIONS REACHED LIMIT.\n",
      "\n",
      "Increase the number of iterations (max_iter) or scale the data as shown in:\n",
      "    https://scikit-learn.org/stable/modules/preprocessing.html\n",
      "Please also refer to the documentation for alternative solver options:\n",
      "    https://scikit-learn.org/stable/modules/linear_model.html#logistic-regression\n",
      "  n_iter_i = _check_optimize_result(\n"
     ]
    },
    {
     "data": {
      "text/html": [
       "<style>#sk-container-id-1 {color: black;background-color: white;}#sk-container-id-1 pre{padding: 0;}#sk-container-id-1 div.sk-toggleable {background-color: white;}#sk-container-id-1 label.sk-toggleable__label {cursor: pointer;display: block;width: 100%;margin-bottom: 0;padding: 0.3em;box-sizing: border-box;text-align: center;}#sk-container-id-1 label.sk-toggleable__label-arrow:before {content: \"▸\";float: left;margin-right: 0.25em;color: #696969;}#sk-container-id-1 label.sk-toggleable__label-arrow:hover:before {color: black;}#sk-container-id-1 div.sk-estimator:hover label.sk-toggleable__label-arrow:before {color: black;}#sk-container-id-1 div.sk-toggleable__content {max-height: 0;max-width: 0;overflow: hidden;text-align: left;background-color: #f0f8ff;}#sk-container-id-1 div.sk-toggleable__content pre {margin: 0.2em;color: black;border-radius: 0.25em;background-color: #f0f8ff;}#sk-container-id-1 input.sk-toggleable__control:checked~div.sk-toggleable__content {max-height: 200px;max-width: 100%;overflow: auto;}#sk-container-id-1 input.sk-toggleable__control:checked~label.sk-toggleable__label-arrow:before {content: \"▾\";}#sk-container-id-1 div.sk-estimator input.sk-toggleable__control:checked~label.sk-toggleable__label {background-color: #d4ebff;}#sk-container-id-1 div.sk-label input.sk-toggleable__control:checked~label.sk-toggleable__label {background-color: #d4ebff;}#sk-container-id-1 input.sk-hidden--visually {border: 0;clip: rect(1px 1px 1px 1px);clip: rect(1px, 1px, 1px, 1px);height: 1px;margin: -1px;overflow: hidden;padding: 0;position: absolute;width: 1px;}#sk-container-id-1 div.sk-estimator {font-family: monospace;background-color: #f0f8ff;border: 1px dotted black;border-radius: 0.25em;box-sizing: border-box;margin-bottom: 0.5em;}#sk-container-id-1 div.sk-estimator:hover {background-color: #d4ebff;}#sk-container-id-1 div.sk-parallel-item::after {content: \"\";width: 100%;border-bottom: 1px solid gray;flex-grow: 1;}#sk-container-id-1 div.sk-label:hover label.sk-toggleable__label {background-color: #d4ebff;}#sk-container-id-1 div.sk-serial::before {content: \"\";position: absolute;border-left: 1px solid gray;box-sizing: border-box;top: 0;bottom: 0;left: 50%;z-index: 0;}#sk-container-id-1 div.sk-serial {display: flex;flex-direction: column;align-items: center;background-color: white;padding-right: 0.2em;padding-left: 0.2em;position: relative;}#sk-container-id-1 div.sk-item {position: relative;z-index: 1;}#sk-container-id-1 div.sk-parallel {display: flex;align-items: stretch;justify-content: center;background-color: white;position: relative;}#sk-container-id-1 div.sk-item::before, #sk-container-id-1 div.sk-parallel-item::before {content: \"\";position: absolute;border-left: 1px solid gray;box-sizing: border-box;top: 0;bottom: 0;left: 50%;z-index: -1;}#sk-container-id-1 div.sk-parallel-item {display: flex;flex-direction: column;z-index: 1;position: relative;background-color: white;}#sk-container-id-1 div.sk-parallel-item:first-child::after {align-self: flex-end;width: 50%;}#sk-container-id-1 div.sk-parallel-item:last-child::after {align-self: flex-start;width: 50%;}#sk-container-id-1 div.sk-parallel-item:only-child::after {width: 0;}#sk-container-id-1 div.sk-dashed-wrapped {border: 1px dashed gray;margin: 0 0.4em 0.5em 0.4em;box-sizing: border-box;padding-bottom: 0.4em;background-color: white;}#sk-container-id-1 div.sk-label label {font-family: monospace;font-weight: bold;display: inline-block;line-height: 1.2em;}#sk-container-id-1 div.sk-label-container {text-align: center;}#sk-container-id-1 div.sk-container {/* jupyter's `normalize.less` sets `[hidden] { display: none; }` but bootstrap.min.css set `[hidden] { display: none !important; }` so we also need the `!important` here to be able to override the default hidden behavior on the sphinx rendered scikit-learn.org. See: https://github.com/scikit-learn/scikit-learn/issues/21755 */display: inline-block !important;position: relative;}#sk-container-id-1 div.sk-text-repr-fallback {display: none;}</style><div id=\"sk-container-id-1\" class=\"sk-top-container\"><div class=\"sk-text-repr-fallback\"><pre>Pipeline(steps=[(&#x27;scale&#x27;, None), (&#x27;model&#x27;, LogisticRegression())])</pre><b>In a Jupyter environment, please rerun this cell to show the HTML representation or trust the notebook. <br />On GitHub, the HTML representation is unable to render, please try loading this page with nbviewer.org.</b></div><div class=\"sk-container\" hidden><div class=\"sk-item sk-dashed-wrapped\"><div class=\"sk-label-container\"><div class=\"sk-label sk-toggleable\"><input class=\"sk-toggleable__control sk-hidden--visually\" id=\"sk-estimator-id-1\" type=\"checkbox\" ><label for=\"sk-estimator-id-1\" class=\"sk-toggleable__label sk-toggleable__label-arrow\">Pipeline</label><div class=\"sk-toggleable__content\"><pre>Pipeline(steps=[(&#x27;scale&#x27;, None), (&#x27;model&#x27;, LogisticRegression())])</pre></div></div></div><div class=\"sk-serial\"><div class=\"sk-item\"><div class=\"sk-estimator sk-toggleable\"><input class=\"sk-toggleable__control sk-hidden--visually\" id=\"sk-estimator-id-2\" type=\"checkbox\" ><label for=\"sk-estimator-id-2\" class=\"sk-toggleable__label sk-toggleable__label-arrow\">None</label><div class=\"sk-toggleable__content\"><pre>None</pre></div></div></div><div class=\"sk-item\"><div class=\"sk-estimator sk-toggleable\"><input class=\"sk-toggleable__control sk-hidden--visually\" id=\"sk-estimator-id-3\" type=\"checkbox\" ><label for=\"sk-estimator-id-3\" class=\"sk-toggleable__label sk-toggleable__label-arrow\">LogisticRegression</label><div class=\"sk-toggleable__content\"><pre>LogisticRegression()</pre></div></div></div></div></div></div></div>"
      ],
      "text/plain": [
       "Pipeline(steps=[('scale', None), ('model', LogisticRegression())])"
      ]
     },
     "execution_count": 43,
     "metadata": {},
     "output_type": "execute_result"
    }
   ],
   "source": [
    "model.fit(X_train, y_train.values.ravel())"
   ]
  },
  {
   "cell_type": "code",
   "execution_count": 44,
   "id": "af59f8c0",
   "metadata": {
    "execution": {
     "iopub.execute_input": "2025-07-30T21:29:10.641130Z",
     "iopub.status.busy": "2025-07-30T21:29:10.640329Z",
     "iopub.status.idle": "2025-07-30T21:29:10.646572Z",
     "shell.execute_reply": "2025-07-30T21:29:10.645352Z"
    },
    "papermill": {
     "duration": 0.038622,
     "end_time": "2025-07-30T21:29:10.648518",
     "exception": false,
     "start_time": "2025-07-30T21:29:10.609896",
     "status": "completed"
    },
    "tags": []
   },
   "outputs": [],
   "source": [
    "from fairness_multiverse.universe import predict_w_threshold"
   ]
  },
  {
   "cell_type": "code",
   "execution_count": 45,
   "id": "a7cf2e16",
   "metadata": {
    "execution": {
     "iopub.execute_input": "2025-07-30T21:29:10.709431Z",
     "iopub.status.busy": "2025-07-30T21:29:10.708564Z",
     "iopub.status.idle": "2025-07-30T21:29:10.808455Z",
     "shell.execute_reply": "2025-07-30T21:29:10.807291Z"
    },
    "papermill": {
     "duration": 0.13292,
     "end_time": "2025-07-30T21:29:10.810963",
     "exception": false,
     "start_time": "2025-07-30T21:29:10.678043",
     "status": "completed"
    },
    "tags": []
   },
   "outputs": [
    {
     "data": {
      "text/plain": [
       "0.8406309218593245"
      ]
     },
     "execution_count": 45,
     "metadata": {},
     "output_type": "execute_result"
    }
   ],
   "source": [
    "probs_test = model.predict_proba(X_test)\n",
    "\n",
    "'''\n",
    "Below code returns a boolean array (or binary 0/1 array depending on how it’s used) where each element \n",
    "is True if the probability of class 1 is greater than or equal to the threshold, and False otherwise.\n",
    "'''\n",
    "y_pred_default = predict_w_threshold(probs_test, 0.5)\n",
    "\n",
    "from sklearn.metrics import accuracy_score\n",
    "\n",
    "# Naive prediction\n",
    "accuracy_score(y_true = y_true, y_pred = y_pred_default)"
   ]
  },
  {
   "cell_type": "code",
   "execution_count": 46,
   "id": "081964c3",
   "metadata": {
    "execution": {
     "iopub.execute_input": "2025-07-30T21:29:10.873953Z",
     "iopub.status.busy": "2025-07-30T21:29:10.873527Z",
     "iopub.status.idle": "2025-07-30T21:29:10.962331Z",
     "shell.execute_reply": "2025-07-30T21:29:10.961215Z"
    },
    "papermill": {
     "duration": 0.123057,
     "end_time": "2025-07-30T21:29:10.964700",
     "exception": false,
     "start_time": "2025-07-30T21:29:10.841643",
     "status": "completed"
    },
    "tags": []
   },
   "outputs": [
    {
     "data": {
      "text/plain": [
       "array([0, 0, 0, ..., 0, 0, 0])"
      ]
     },
     "execution_count": 46,
     "metadata": {},
     "output_type": "execute_result"
    }
   ],
   "source": [
    "model.predict(X_test)"
   ]
  },
  {
   "cell_type": "markdown",
   "id": "56c9705b",
   "metadata": {
    "papermill": {
     "duration": 0.030013,
     "end_time": "2025-07-30T21:29:11.025255",
     "exception": false,
     "start_time": "2025-07-30T21:29:10.995242",
     "status": "completed"
    },
    "tags": []
   },
   "source": [
    "# Conformal Prediction"
   ]
  },
  {
   "cell_type": "code",
   "execution_count": 47,
   "id": "160ec6ff",
   "metadata": {
    "execution": {
     "iopub.execute_input": "2025-07-30T21:29:11.087254Z",
     "iopub.status.busy": "2025-07-30T21:29:11.086644Z",
     "iopub.status.idle": "2025-07-30T21:29:11.092987Z",
     "shell.execute_reply": "2025-07-30T21:29:11.091905Z"
    },
    "papermill": {
     "duration": 0.040639,
     "end_time": "2025-07-30T21:29:11.095881",
     "exception": false,
     "start_time": "2025-07-30T21:29:11.055242",
     "status": "completed"
    },
    "tags": []
   },
   "outputs": [],
   "source": [
    "# Miscoverage level for conformal prediction (10% allowed error rate => 90% target coverage)\n",
    "alpha = 0.1"
   ]
  },
  {
   "cell_type": "code",
   "execution_count": 48,
   "id": "eadf4555-3dd3-440e-8e35-f82a4ad9f855",
   "metadata": {
    "execution": {
     "iopub.execute_input": "2025-07-30T21:29:11.153846Z",
     "iopub.status.busy": "2025-07-30T21:29:11.153256Z",
     "iopub.status.idle": "2025-07-30T21:29:11.240801Z",
     "shell.execute_reply": "2025-07-30T21:29:11.239628Z"
    },
    "papermill": {
     "duration": 0.116701,
     "end_time": "2025-07-30T21:29:11.243336",
     "exception": false,
     "start_time": "2025-07-30T21:29:11.126635",
     "status": "completed"
    },
    "tags": []
   },
   "outputs": [],
   "source": [
    "probs_calib = model.predict_proba(X_calib)"
   ]
  },
  {
   "cell_type": "code",
   "execution_count": 49,
   "id": "2ed93547-6d5d-4983-9b36-1ecb300da49a",
   "metadata": {
    "execution": {
     "iopub.execute_input": "2025-07-30T21:29:11.312690Z",
     "iopub.status.busy": "2025-07-30T21:29:11.311032Z",
     "iopub.status.idle": "2025-07-30T21:29:11.318597Z",
     "shell.execute_reply": "2025-07-30T21:29:11.317467Z"
    },
    "papermill": {
     "duration": 0.046862,
     "end_time": "2025-07-30T21:29:11.326265",
     "exception": false,
     "start_time": "2025-07-30T21:29:11.279403",
     "status": "completed"
    },
    "tags": []
   },
   "outputs": [],
   "source": [
    "y_calib = y_calib.values.ravel().astype(int)"
   ]
  },
  {
   "cell_type": "code",
   "execution_count": 50,
   "id": "65d1320d-f588-4b38-9072-62af1ae97f7d",
   "metadata": {
    "execution": {
     "iopub.execute_input": "2025-07-30T21:29:11.378201Z",
     "iopub.status.busy": "2025-07-30T21:29:11.377693Z",
     "iopub.status.idle": "2025-07-30T21:29:11.385212Z",
     "shell.execute_reply": "2025-07-30T21:29:11.384270Z"
    },
    "papermill": {
     "duration": 0.035515,
     "end_time": "2025-07-30T21:29:11.386972",
     "exception": false,
     "start_time": "2025-07-30T21:29:11.351457",
     "status": "completed"
    },
    "tags": []
   },
   "outputs": [],
   "source": [
    "from fairness_multiverse.conformal import compute_nc_scores\n",
    "\n",
    "# Compute nonconformity scores on calibration set (1 - probability of true class)\n",
    "nc_scores = compute_nc_scores(probs_calib, y_calib)"
   ]
  },
  {
   "cell_type": "code",
   "execution_count": 51,
   "id": "df3b8ca3-53b7-43d5-9667-7c85da7aeda2",
   "metadata": {
    "execution": {
     "iopub.execute_input": "2025-07-30T21:29:11.438340Z",
     "iopub.status.busy": "2025-07-30T21:29:11.437779Z",
     "iopub.status.idle": "2025-07-30T21:29:11.445989Z",
     "shell.execute_reply": "2025-07-30T21:29:11.444790Z"
    },
    "papermill": {
     "duration": 0.036359,
     "end_time": "2025-07-30T21:29:11.447764",
     "exception": false,
     "start_time": "2025-07-30T21:29:11.411405",
     "status": "completed"
    },
    "tags": []
   },
   "outputs": [],
   "source": [
    "from fairness_multiverse.conformal import find_threshold\n",
    "\n",
    "# Find conformal threshold q_hat for the given alpha (split conformal method)\n",
    "q_hat = find_threshold(nc_scores, alpha)"
   ]
  },
  {
   "cell_type": "code",
   "execution_count": 52,
   "id": "4d29e6c1-0ef6-4aa4-b8fe-4fe79b0d033a",
   "metadata": {
    "execution": {
     "iopub.execute_input": "2025-07-30T21:29:11.499153Z",
     "iopub.status.busy": "2025-07-30T21:29:11.498428Z",
     "iopub.status.idle": "2025-07-30T21:29:11.508145Z",
     "shell.execute_reply": "2025-07-30T21:29:11.506711Z"
    },
    "papermill": {
     "duration": 0.037444,
     "end_time": "2025-07-30T21:29:11.510014",
     "exception": false,
     "start_time": "2025-07-30T21:29:11.472570",
     "status": "completed"
    },
    "tags": []
   },
   "outputs": [
    {
     "data": {
      "text/plain": [
       "0.6648688628641781"
      ]
     },
     "execution_count": 52,
     "metadata": {},
     "output_type": "execute_result"
    }
   ],
   "source": [
    "q_hat"
   ]
  },
  {
   "cell_type": "code",
   "execution_count": 53,
   "id": "92460794-cdac-4be2-ba28-f28c0515a6fb",
   "metadata": {
    "execution": {
     "iopub.execute_input": "2025-07-30T21:29:11.572799Z",
     "iopub.status.busy": "2025-07-30T21:29:11.572250Z",
     "iopub.status.idle": "2025-07-30T21:29:12.367121Z",
     "shell.execute_reply": "2025-07-30T21:29:12.366129Z"
    },
    "papermill": {
     "duration": 0.833955,
     "end_time": "2025-07-30T21:29:12.369166",
     "exception": false,
     "start_time": "2025-07-30T21:29:11.535211",
     "status": "completed"
    },
    "tags": []
   },
   "outputs": [],
   "source": [
    "from fairness_multiverse.conformal import predict_conformal_sets\n",
    "\n",
    "# Generate prediction sets for each test example\n",
    "pred_sets = predict_conformal_sets(model, X_test, q_hat)"
   ]
  },
  {
   "cell_type": "code",
   "execution_count": 54,
   "id": "d90c9a65-e6db-4f5d-80cd-e68fb7e46829",
   "metadata": {
    "execution": {
     "iopub.execute_input": "2025-07-30T21:29:12.422516Z",
     "iopub.status.busy": "2025-07-30T21:29:12.421650Z",
     "iopub.status.idle": "2025-07-30T21:29:12.427028Z",
     "shell.execute_reply": "2025-07-30T21:29:12.426146Z"
    },
    "papermill": {
     "duration": 0.033274,
     "end_time": "2025-07-30T21:29:12.428850",
     "exception": false,
     "start_time": "2025-07-30T21:29:12.395576",
     "status": "completed"
    },
    "tags": []
   },
   "outputs": [],
   "source": [
    "y_true = y_true.squeeze()"
   ]
  },
  {
   "cell_type": "code",
   "execution_count": 55,
   "id": "3a58a54a-1e68-46b9-927a-df01f18aebc8",
   "metadata": {
    "execution": {
     "iopub.execute_input": "2025-07-30T21:29:12.469479Z",
     "iopub.status.busy": "2025-07-30T21:29:12.469083Z",
     "iopub.status.idle": "2025-07-30T21:29:13.371314Z",
     "shell.execute_reply": "2025-07-30T21:29:13.370540Z"
    },
    "papermill": {
     "duration": 0.918927,
     "end_time": "2025-07-30T21:29:13.373168",
     "exception": false,
     "start_time": "2025-07-30T21:29:12.454241",
     "status": "completed"
    },
    "tags": []
   },
   "outputs": [],
   "source": [
    "from fairness_multiverse.conformal import evaluate_sets\n",
    "\n",
    "# Evaluate coverage and average set size on test data\n",
    "metrics = evaluate_sets(pred_sets, y_true)"
   ]
  },
  {
   "cell_type": "markdown",
   "id": "2b569c12-9aaa-4c88-98c9-bbcd0cf3ebb8",
   "metadata": {
    "papermill": {
     "duration": 0.024377,
     "end_time": "2025-07-30T21:29:13.438422",
     "exception": false,
     "start_time": "2025-07-30T21:29:13.414045",
     "status": "completed"
    },
    "tags": []
   },
   "source": [
    "# CP Metrics"
   ]
  },
  {
   "cell_type": "code",
   "execution_count": 56,
   "id": "5ce0a5cb-201f-45a0-ade5-94c7f0bd6095",
   "metadata": {
    "execution": {
     "iopub.execute_input": "2025-07-30T21:29:13.490935Z",
     "iopub.status.busy": "2025-07-30T21:29:13.490119Z",
     "iopub.status.idle": "2025-07-30T21:29:13.499483Z",
     "shell.execute_reply": "2025-07-30T21:29:13.498197Z"
    },
    "papermill": {
     "duration": 0.037247,
     "end_time": "2025-07-30T21:29:13.501347",
     "exception": false,
     "start_time": "2025-07-30T21:29:13.464100",
     "status": "completed"
    },
    "tags": []
   },
   "outputs": [
    {
     "data": {
      "text/plain": [
       "{'coverage': 0.9106119719094862, 'avg_size': 1.26541076803032}"
      ]
     },
     "execution_count": 56,
     "metadata": {},
     "output_type": "execute_result"
    }
   ],
   "source": [
    "metrics"
   ]
  },
  {
   "cell_type": "code",
   "execution_count": 57,
   "id": "9b9a838d-31c9-430b-ae14-12baee460d17",
   "metadata": {
    "execution": {
     "iopub.execute_input": "2025-07-30T21:29:13.555855Z",
     "iopub.status.busy": "2025-07-30T21:29:13.555119Z",
     "iopub.status.idle": "2025-07-30T21:29:13.561832Z",
     "shell.execute_reply": "2025-07-30T21:29:13.561002Z"
    },
    "papermill": {
     "duration": 0.035834,
     "end_time": "2025-07-30T21:29:13.563452",
     "exception": false,
     "start_time": "2025-07-30T21:29:13.527618",
     "status": "completed"
    },
    "tags": []
   },
   "outputs": [],
   "source": [
    "example_universe = universe.copy()\n",
    "universe_training_year = example_universe.get(\"training_year\")\n",
    "universe_training_size = example_universe.get(\"training_size\")\n",
    "universe_scale = example_universe.get(\"scale\")\n",
    "universe_model = example_universe.get(\"model\")\n",
    "universe_exclude_features = example_universe.get(\"exclude_features\")\n",
    "universe_exclude_subgroups = example_universe.get(\"exclude_subgroups\")"
   ]
  },
  {
   "cell_type": "code",
   "execution_count": 58,
   "id": "f4b6a8ac-9dc0-4245-8a91-5b3b5999c4f9",
   "metadata": {
    "execution": {
     "iopub.execute_input": "2025-07-30T21:29:13.616414Z",
     "iopub.status.busy": "2025-07-30T21:29:13.615729Z",
     "iopub.status.idle": "2025-07-30T21:29:13.622633Z",
     "shell.execute_reply": "2025-07-30T21:29:13.621910Z"
    },
    "papermill": {
     "duration": 0.035581,
     "end_time": "2025-07-30T21:29:13.624289",
     "exception": false,
     "start_time": "2025-07-30T21:29:13.588708",
     "status": "completed"
    },
    "tags": []
   },
   "outputs": [],
   "source": [
    "cp_metrics_dict = {\n",
    "    \"universe_id\": [universe_id],\n",
    "    \"universe_training_year\": [universe_training_year],\n",
    "    \"universe_training_size\": [universe_training_size],\n",
    "    \"universe_scale\": [universe_scale],\n",
    "    \"universe_model\": [universe_model],\n",
    "    \"universe_exclude_features\": [universe_exclude_features],\n",
    "    \"universe_exclude_subgroups\": [universe_exclude_subgroups],\n",
    "    \"q_hat\": [q_hat],\n",
    "    \"coverage\": [metrics[\"coverage\"]],\n",
    "    \"avg_size\": [metrics[\"avg_size\"]],\n",
    "}"
   ]
  },
  {
   "cell_type": "code",
   "execution_count": 59,
   "id": "908acbb1-0371-4915-85ca-3fa520d2efe2",
   "metadata": {
    "execution": {
     "iopub.execute_input": "2025-07-30T21:29:13.677614Z",
     "iopub.status.busy": "2025-07-30T21:29:13.677126Z",
     "iopub.status.idle": "2025-07-30T21:29:13.684800Z",
     "shell.execute_reply": "2025-07-30T21:29:13.683677Z"
    },
    "papermill": {
     "duration": 0.036194,
     "end_time": "2025-07-30T21:29:13.686340",
     "exception": false,
     "start_time": "2025-07-30T21:29:13.650146",
     "status": "completed"
    },
    "tags": []
   },
   "outputs": [
    {
     "data": {
      "text/plain": [
       "{'universe_id': ['4bbd0c413f6e32dfefddcbd6a0049e1e'],\n",
       " 'universe_training_year': ['2014'],\n",
       " 'universe_training_size': ['1k'],\n",
       " 'universe_scale': ['do-not-scale'],\n",
       " 'universe_model': ['penalized_logreg'],\n",
       " 'universe_exclude_features': ['age'],\n",
       " 'universe_exclude_subgroups': ['keep-all'],\n",
       " 'q_hat': [0.6648688628641781],\n",
       " 'coverage': [0.9106119719094862],\n",
       " 'avg_size': [1.26541076803032]}"
      ]
     },
     "execution_count": 59,
     "metadata": {},
     "output_type": "execute_result"
    }
   ],
   "source": [
    "cp_metrics_dict"
   ]
  },
  {
   "cell_type": "code",
   "execution_count": 60,
   "id": "33007efc-14e9-4ec6-97ac-56a455c82265",
   "metadata": {
    "execution": {
     "iopub.execute_input": "2025-07-30T21:29:13.741480Z",
     "iopub.status.busy": "2025-07-30T21:29:13.740511Z",
     "iopub.status.idle": "2025-07-30T21:29:13.747790Z",
     "shell.execute_reply": "2025-07-30T21:29:13.746810Z"
    },
    "papermill": {
     "duration": 0.037261,
     "end_time": "2025-07-30T21:29:13.750010",
     "exception": false,
     "start_time": "2025-07-30T21:29:13.712749",
     "status": "completed"
    },
    "tags": []
   },
   "outputs": [],
   "source": [
    "cp_metrics_df = pd.DataFrame(cp_metrics_dict)"
   ]
  },
  {
   "cell_type": "code",
   "execution_count": 61,
   "id": "db12611b-57b2-4910-b9d0-355adfd6e7bf",
   "metadata": {
    "execution": {
     "iopub.execute_input": "2025-07-30T21:29:13.813006Z",
     "iopub.status.busy": "2025-07-30T21:29:13.812083Z",
     "iopub.status.idle": "2025-07-30T21:29:13.833997Z",
     "shell.execute_reply": "2025-07-30T21:29:13.832972Z"
    },
    "papermill": {
     "duration": 0.051501,
     "end_time": "2025-07-30T21:29:13.835698",
     "exception": false,
     "start_time": "2025-07-30T21:29:13.784197",
     "status": "completed"
    },
    "tags": []
   },
   "outputs": [
    {
     "data": {
      "text/html": [
       "<div>\n",
       "<style scoped>\n",
       "    .dataframe tbody tr th:only-of-type {\n",
       "        vertical-align: middle;\n",
       "    }\n",
       "\n",
       "    .dataframe tbody tr th {\n",
       "        vertical-align: top;\n",
       "    }\n",
       "\n",
       "    .dataframe thead th {\n",
       "        text-align: right;\n",
       "    }\n",
       "</style>\n",
       "<table border=\"1\" class=\"dataframe\">\n",
       "  <thead>\n",
       "    <tr style=\"text-align: right;\">\n",
       "      <th></th>\n",
       "      <th>universe_id</th>\n",
       "      <th>universe_training_year</th>\n",
       "      <th>universe_training_size</th>\n",
       "      <th>universe_scale</th>\n",
       "      <th>universe_model</th>\n",
       "      <th>universe_exclude_features</th>\n",
       "      <th>universe_exclude_subgroups</th>\n",
       "      <th>q_hat</th>\n",
       "      <th>coverage</th>\n",
       "      <th>avg_size</th>\n",
       "    </tr>\n",
       "  </thead>\n",
       "  <tbody>\n",
       "    <tr>\n",
       "      <th>0</th>\n",
       "      <td>4bbd0c413f6e32dfefddcbd6a0049e1e</td>\n",
       "      <td>2014</td>\n",
       "      <td>1k</td>\n",
       "      <td>do-not-scale</td>\n",
       "      <td>penalized_logreg</td>\n",
       "      <td>age</td>\n",
       "      <td>keep-all</td>\n",
       "      <td>0.664869</td>\n",
       "      <td>0.910612</td>\n",
       "      <td>1.265411</td>\n",
       "    </tr>\n",
       "  </tbody>\n",
       "</table>\n",
       "</div>"
      ],
      "text/plain": [
       "                        universe_id universe_training_year  \\\n",
       "0  4bbd0c413f6e32dfefddcbd6a0049e1e                   2014   \n",
       "\n",
       "  universe_training_size universe_scale    universe_model  \\\n",
       "0                     1k   do-not-scale  penalized_logreg   \n",
       "\n",
       "  universe_exclude_features universe_exclude_subgroups     q_hat  coverage  \\\n",
       "0                       age                   keep-all  0.664869  0.910612   \n",
       "\n",
       "   avg_size  \n",
       "0  1.265411  "
      ]
     },
     "execution_count": 61,
     "metadata": {},
     "output_type": "execute_result"
    }
   ],
   "source": [
    "cp_metrics_df"
   ]
  },
  {
   "cell_type": "code",
   "execution_count": 62,
   "id": "b7fbde55-a0a1-47e4-9af6-fe4a17fa8c61",
   "metadata": {
    "execution": {
     "iopub.execute_input": "2025-07-30T21:29:13.892645Z",
     "iopub.status.busy": "2025-07-30T21:29:13.891658Z",
     "iopub.status.idle": "2025-07-30T21:29:13.897537Z",
     "shell.execute_reply": "2025-07-30T21:29:13.896513Z"
    },
    "papermill": {
     "duration": 0.035838,
     "end_time": "2025-07-30T21:29:13.899567",
     "exception": false,
     "start_time": "2025-07-30T21:29:13.863729",
     "status": "completed"
    },
    "tags": []
   },
   "outputs": [],
   "source": [
    "# Conditional Coverage & looking at subgroups"
   ]
  },
  {
   "cell_type": "code",
   "execution_count": 63,
   "id": "027ae886-68dd-4141-96c7-805a5450e1ef",
   "metadata": {
    "execution": {
     "iopub.execute_input": "2025-07-30T21:29:13.967014Z",
     "iopub.status.busy": "2025-07-30T21:29:13.966478Z",
     "iopub.status.idle": "2025-07-30T21:29:14.313681Z",
     "shell.execute_reply": "2025-07-30T21:29:14.312322Z"
    },
    "papermill": {
     "duration": 0.382909,
     "end_time": "2025-07-30T21:29:14.315547",
     "exception": false,
     "start_time": "2025-07-30T21:29:13.932638",
     "status": "completed"
    },
    "tags": []
   },
   "outputs": [],
   "source": [
    "from fairness_multiverse.conformal import build_cp_groups\n",
    "\n",
    "cp_groups_df = build_cp_groups(pred_sets, y_true, X_test.index, org_test)\n",
    "#needs universe_id and setting"
   ]
  },
  {
   "cell_type": "code",
   "execution_count": 64,
   "id": "01d5802c-663a-4d1f-9d69-e036faaffbf7",
   "metadata": {
    "execution": {
     "iopub.execute_input": "2025-07-30T21:29:14.381458Z",
     "iopub.status.busy": "2025-07-30T21:29:14.380545Z",
     "iopub.status.idle": "2025-07-30T21:29:14.386641Z",
     "shell.execute_reply": "2025-07-30T21:29:14.385640Z"
    },
    "papermill": {
     "duration": 0.032834,
     "end_time": "2025-07-30T21:29:14.388389",
     "exception": false,
     "start_time": "2025-07-30T21:29:14.355555",
     "status": "completed"
    },
    "tags": []
   },
   "outputs": [],
   "source": [
    "#delete\n",
    "#cp_groups_df"
   ]
  },
  {
   "cell_type": "code",
   "execution_count": 65,
   "id": "fa424af1-d1eb-443d-b717-2d279ada8408",
   "metadata": {
    "execution": {
     "iopub.execute_input": "2025-07-30T21:29:14.442663Z",
     "iopub.status.busy": "2025-07-30T21:29:14.441838Z",
     "iopub.status.idle": "2025-07-30T21:29:14.450132Z",
     "shell.execute_reply": "2025-07-30T21:29:14.449067Z"
    },
    "papermill": {
     "duration": 0.036381,
     "end_time": "2025-07-30T21:29:14.451951",
     "exception": false,
     "start_time": "2025-07-30T21:29:14.415570",
     "status": "completed"
    },
    "tags": []
   },
   "outputs": [],
   "source": [
    "#delete\n",
    "#percentage = (cp_groups_df['nongerman_female'] == 1).mean() * 100\n",
    "#print(percentage)\n"
   ]
  },
  {
   "cell_type": "code",
   "execution_count": 66,
   "id": "6cbdab96-b2b2-45af-ad54-d0516db2e28d",
   "metadata": {
    "execution": {
     "iopub.execute_input": "2025-07-30T21:29:14.509654Z",
     "iopub.status.busy": "2025-07-30T21:29:14.509154Z",
     "iopub.status.idle": "2025-07-30T21:29:15.988739Z",
     "shell.execute_reply": "2025-07-30T21:29:15.987694Z"
    },
    "papermill": {
     "duration": 1.511395,
     "end_time": "2025-07-30T21:29:15.991208",
     "exception": false,
     "start_time": "2025-07-30T21:29:14.479813",
     "status": "completed"
    },
    "tags": []
   },
   "outputs": [],
   "source": [
    "# Define covered = 1 if true_label is in the predicted set\n",
    "cp_groups_df['covered'] = cp_groups_df.apply(\n",
    "    lambda r: int(r['true_label'] in r['pred_set']),\n",
    "    axis=1\n",
    ")"
   ]
  },
  {
   "cell_type": "code",
   "execution_count": 67,
   "id": "338ff529-1a6b-4b87-a931-8e4788d52aad",
   "metadata": {
    "execution": {
     "iopub.execute_input": "2025-07-30T21:29:16.055118Z",
     "iopub.status.busy": "2025-07-30T21:29:16.054659Z",
     "iopub.status.idle": "2025-07-30T21:29:16.060323Z",
     "shell.execute_reply": "2025-07-30T21:29:16.059285Z"
    },
    "papermill": {
     "duration": 0.039395,
     "end_time": "2025-07-30T21:29:16.061981",
     "exception": false,
     "start_time": "2025-07-30T21:29:16.022586",
     "status": "completed"
    },
    "tags": []
   },
   "outputs": [],
   "source": [
    "#cp_groups_df"
   ]
  },
  {
   "cell_type": "code",
   "execution_count": 68,
   "id": "90032e27-66df-4540-9169-4e89cfbaa758",
   "metadata": {
    "execution": {
     "iopub.execute_input": "2025-07-30T21:29:16.124406Z",
     "iopub.status.busy": "2025-07-30T21:29:16.123820Z",
     "iopub.status.idle": "2025-07-30T21:29:16.136521Z",
     "shell.execute_reply": "2025-07-30T21:29:16.134844Z"
    },
    "papermill": {
     "duration": 0.046464,
     "end_time": "2025-07-30T21:29:16.138990",
     "exception": false,
     "start_time": "2025-07-30T21:29:16.092526",
     "status": "completed"
    },
    "tags": []
   },
   "outputs": [],
   "source": [
    "subgroups = ['frau1','nongerman','nongerman_male','nongerman_female']\n",
    "\n",
    "# Conditional coverage for subgroup==1\n",
    "cond_coverage = {\n",
    "    g: cp_groups_df.loc[cp_groups_df[g]==1, 'covered'].mean()\n",
    "    for g in subgroups\n",
    "}"
   ]
  },
  {
   "cell_type": "code",
   "execution_count": 69,
   "id": "1e348fb1-b9c3-45bc-ba23-f016827a7e0d",
   "metadata": {
    "execution": {
     "iopub.execute_input": "2025-07-30T21:29:16.202626Z",
     "iopub.status.busy": "2025-07-30T21:29:16.202116Z",
     "iopub.status.idle": "2025-07-30T21:29:16.210407Z",
     "shell.execute_reply": "2025-07-30T21:29:16.209266Z"
    },
    "papermill": {
     "duration": 0.041899,
     "end_time": "2025-07-30T21:29:16.212387",
     "exception": false,
     "start_time": "2025-07-30T21:29:16.170488",
     "status": "completed"
    },
    "tags": []
   },
   "outputs": [
    {
     "data": {
      "text/plain": [
       "{'frau1': 0.9093139237093948,\n",
       " 'nongerman': 0.9582327513613653,\n",
       " 'nongerman_male': 0.96613527875349,\n",
       " 'nongerman_female': 0.9451564828614009}"
      ]
     },
     "execution_count": 69,
     "metadata": {},
     "output_type": "execute_result"
    }
   ],
   "source": [
    "cond_coverage"
   ]
  },
  {
   "cell_type": "code",
   "execution_count": 70,
   "id": "f5093324-c3dd-4d63-bc4c-8d945e5c8bbb",
   "metadata": {
    "execution": {
     "iopub.execute_input": "2025-07-30T21:29:16.277698Z",
     "iopub.status.busy": "2025-07-30T21:29:16.276752Z",
     "iopub.status.idle": "2025-07-30T21:29:16.284909Z",
     "shell.execute_reply": "2025-07-30T21:29:16.283687Z"
    },
    "papermill": {
     "duration": 0.042295,
     "end_time": "2025-07-30T21:29:16.286706",
     "exception": false,
     "start_time": "2025-07-30T21:29:16.244411",
     "status": "completed"
    },
    "tags": []
   },
   "outputs": [],
   "source": [
    "for subgroup, cov in cond_coverage.items():\n",
    "    cp_metrics_df[f\"cov_{subgroup}\"] = cov"
   ]
  },
  {
   "cell_type": "code",
   "execution_count": 71,
   "id": "6e872e10-dbe5-49e8-b554-5030c98ff75d",
   "metadata": {
    "execution": {
     "iopub.execute_input": "2025-07-30T21:29:16.350371Z",
     "iopub.status.busy": "2025-07-30T21:29:16.349632Z",
     "iopub.status.idle": "2025-07-30T21:29:16.372794Z",
     "shell.execute_reply": "2025-07-30T21:29:16.371555Z"
    },
    "papermill": {
     "duration": 0.057462,
     "end_time": "2025-07-30T21:29:16.374502",
     "exception": false,
     "start_time": "2025-07-30T21:29:16.317040",
     "status": "completed"
    },
    "tags": []
   },
   "outputs": [
    {
     "data": {
      "text/html": [
       "<div>\n",
       "<style scoped>\n",
       "    .dataframe tbody tr th:only-of-type {\n",
       "        vertical-align: middle;\n",
       "    }\n",
       "\n",
       "    .dataframe tbody tr th {\n",
       "        vertical-align: top;\n",
       "    }\n",
       "\n",
       "    .dataframe thead th {\n",
       "        text-align: right;\n",
       "    }\n",
       "</style>\n",
       "<table border=\"1\" class=\"dataframe\">\n",
       "  <thead>\n",
       "    <tr style=\"text-align: right;\">\n",
       "      <th></th>\n",
       "      <th>universe_id</th>\n",
       "      <th>universe_training_year</th>\n",
       "      <th>universe_training_size</th>\n",
       "      <th>universe_scale</th>\n",
       "      <th>universe_model</th>\n",
       "      <th>universe_exclude_features</th>\n",
       "      <th>universe_exclude_subgroups</th>\n",
       "      <th>q_hat</th>\n",
       "      <th>coverage</th>\n",
       "      <th>avg_size</th>\n",
       "      <th>cov_frau1</th>\n",
       "      <th>cov_nongerman</th>\n",
       "      <th>cov_nongerman_male</th>\n",
       "      <th>cov_nongerman_female</th>\n",
       "    </tr>\n",
       "  </thead>\n",
       "  <tbody>\n",
       "    <tr>\n",
       "      <th>0</th>\n",
       "      <td>4bbd0c413f6e32dfefddcbd6a0049e1e</td>\n",
       "      <td>2014</td>\n",
       "      <td>1k</td>\n",
       "      <td>do-not-scale</td>\n",
       "      <td>penalized_logreg</td>\n",
       "      <td>age</td>\n",
       "      <td>keep-all</td>\n",
       "      <td>0.664869</td>\n",
       "      <td>0.910612</td>\n",
       "      <td>1.265411</td>\n",
       "      <td>0.909314</td>\n",
       "      <td>0.958233</td>\n",
       "      <td>0.966135</td>\n",
       "      <td>0.945156</td>\n",
       "    </tr>\n",
       "  </tbody>\n",
       "</table>\n",
       "</div>"
      ],
      "text/plain": [
       "                        universe_id universe_training_year  \\\n",
       "0  4bbd0c413f6e32dfefddcbd6a0049e1e                   2014   \n",
       "\n",
       "  universe_training_size universe_scale    universe_model  \\\n",
       "0                     1k   do-not-scale  penalized_logreg   \n",
       "\n",
       "  universe_exclude_features universe_exclude_subgroups     q_hat  coverage  \\\n",
       "0                       age                   keep-all  0.664869  0.910612   \n",
       "\n",
       "   avg_size  cov_frau1  cov_nongerman  cov_nongerman_male  \\\n",
       "0  1.265411   0.909314       0.958233            0.966135   \n",
       "\n",
       "   cov_nongerman_female  \n",
       "0              0.945156  "
      ]
     },
     "execution_count": 71,
     "metadata": {},
     "output_type": "execute_result"
    }
   ],
   "source": [
    "cp_metrics_df"
   ]
  },
  {
   "cell_type": "markdown",
   "id": "33774451",
   "metadata": {
    "papermill": {
     "duration": 0.031159,
     "end_time": "2025-07-30T21:29:16.436949",
     "exception": false,
     "start_time": "2025-07-30T21:29:16.405790",
     "status": "completed"
    },
    "tags": []
   },
   "source": [
    "# (Fairness) Metrics"
   ]
  },
  {
   "cell_type": "code",
   "execution_count": 72,
   "id": "debc5d62",
   "metadata": {
    "execution": {
     "iopub.execute_input": "2025-07-30T21:29:16.500766Z",
     "iopub.status.busy": "2025-07-30T21:29:16.500238Z",
     "iopub.status.idle": "2025-07-30T21:29:16.537550Z",
     "shell.execute_reply": "2025-07-30T21:29:16.536489Z"
    },
    "papermill": {
     "duration": 0.072242,
     "end_time": "2025-07-30T21:29:16.539496",
     "exception": false,
     "start_time": "2025-07-30T21:29:16.467254",
     "status": "completed"
    },
    "tags": []
   },
   "outputs": [],
   "source": [
    "# do I need to include maxdeutsch1.missing?\n",
    "\n",
    "import numpy as np\n",
    "\n",
    "colname_to_bin = \"maxdeutsch1\"\n",
    "majority_value = org_train[colname_to_bin].mode()[0]\n",
    "\n",
    "org_test[\"majmin\"] = np.where(org_test[colname_to_bin] == majority_value, \"majority\", \"minority\")"
   ]
  },
  {
   "cell_type": "code",
   "execution_count": 73,
   "id": "06a50de5",
   "metadata": {
    "execution": {
     "iopub.execute_input": "2025-07-30T21:29:16.604263Z",
     "iopub.status.busy": "2025-07-30T21:29:16.603609Z",
     "iopub.status.idle": "2025-07-30T21:29:19.143270Z",
     "shell.execute_reply": "2025-07-30T21:29:19.142293Z"
    },
    "papermill": {
     "duration": 2.574742,
     "end_time": "2025-07-30T21:29:19.144923",
     "exception": false,
     "start_time": "2025-07-30T21:29:16.570181",
     "status": "completed"
    },
    "tags": []
   },
   "outputs": [],
   "source": [
    "example_universe = universe.copy()\n",
    "example_universe[\"cutoff\"] = example_universe[\"cutoff\"][0]\n",
    "example_universe[\"eval_fairness_grouping\"] = example_universe[\"eval_fairness_grouping\"][0]\n",
    "fairness_dict, metric_frame = universe_analysis.compute_metrics(\n",
    "    example_universe,\n",
    "    y_pred_prob=probs_test,\n",
    "    y_test=y_true,\n",
    "    org_test=org_test,\n",
    ")"
   ]
  },
  {
   "cell_type": "markdown",
   "id": "f95d4e02",
   "metadata": {
    "papermill": {
     "duration": 0.025888,
     "end_time": "2025-07-30T21:29:19.209753",
     "exception": false,
     "start_time": "2025-07-30T21:29:19.183865",
     "status": "completed"
    },
    "tags": []
   },
   "source": [
    "# Overall"
   ]
  },
  {
   "cell_type": "markdown",
   "id": "bdee4871",
   "metadata": {
    "papermill": {
     "duration": 0.025872,
     "end_time": "2025-07-30T21:29:19.261414",
     "exception": false,
     "start_time": "2025-07-30T21:29:19.235542",
     "status": "completed"
    },
    "tags": []
   },
   "source": [
    "Fairness\n",
    "Main fairness target: Equalized Odds. Seems to be a better fit than equal opportunity, since we're not only interested in Y = 1. Seems to be a better fit than demographic parity, since we also care about accuracy, not just equal distribution of preds.\n",
    "\n",
    "Pick column for computation of fairness metrics\n",
    "\n",
    "Performance\n",
    "Overall performance measures, most interesting in relation to the measures split by group below"
   ]
  },
  {
   "cell_type": "code",
   "execution_count": 74,
   "id": "c4e067c6",
   "metadata": {
    "execution": {
     "iopub.execute_input": "2025-07-30T21:29:19.312944Z",
     "iopub.status.busy": "2025-07-30T21:29:19.312562Z",
     "iopub.status.idle": "2025-07-30T21:29:19.321617Z",
     "shell.execute_reply": "2025-07-30T21:29:19.320666Z"
    },
    "papermill": {
     "duration": 0.038134,
     "end_time": "2025-07-30T21:29:19.324583",
     "exception": false,
     "start_time": "2025-07-30T21:29:19.286449",
     "status": "completed"
    },
    "tags": []
   },
   "outputs": [
    {
     "data": {
      "text/plain": [
       "accuracy                   0.215572\n",
       "balanced accuracy          0.528948\n",
       "f1                         0.237146\n",
       "precision                  0.135474\n",
       "false positive rate        0.892573\n",
       "false negative rate        0.049531\n",
       "selection rate             0.900000\n",
       "count                  89710.000000\n",
       "dtype: float64"
      ]
     },
     "execution_count": 74,
     "metadata": {},
     "output_type": "execute_result"
    }
   ],
   "source": [
    "metric_frame.overall"
   ]
  },
  {
   "cell_type": "markdown",
   "id": "e968fe9d",
   "metadata": {
    "papermill": {
     "duration": 0.038443,
     "end_time": "2025-07-30T21:29:19.389986",
     "exception": false,
     "start_time": "2025-07-30T21:29:19.351543",
     "status": "completed"
    },
    "tags": []
   },
   "source": [
    "By Group"
   ]
  },
  {
   "cell_type": "code",
   "execution_count": 75,
   "id": "ec325bce",
   "metadata": {
    "execution": {
     "iopub.execute_input": "2025-07-30T21:29:19.531763Z",
     "iopub.status.busy": "2025-07-30T21:29:19.531379Z",
     "iopub.status.idle": "2025-07-30T21:29:19.555941Z",
     "shell.execute_reply": "2025-07-30T21:29:19.555030Z"
    },
    "papermill": {
     "duration": 0.102834,
     "end_time": "2025-07-30T21:29:19.557762",
     "exception": false,
     "start_time": "2025-07-30T21:29:19.454928",
     "status": "completed"
    },
    "tags": []
   },
   "outputs": [
    {
     "data": {
      "text/html": [
       "<div>\n",
       "<style scoped>\n",
       "    .dataframe tbody tr th:only-of-type {\n",
       "        vertical-align: middle;\n",
       "    }\n",
       "\n",
       "    .dataframe tbody tr th {\n",
       "        vertical-align: top;\n",
       "    }\n",
       "\n",
       "    .dataframe thead th {\n",
       "        text-align: right;\n",
       "    }\n",
       "</style>\n",
       "<table border=\"1\" class=\"dataframe\">\n",
       "  <thead>\n",
       "    <tr style=\"text-align: right;\">\n",
       "      <th></th>\n",
       "      <th>accuracy</th>\n",
       "      <th>balanced accuracy</th>\n",
       "      <th>f1</th>\n",
       "      <th>precision</th>\n",
       "      <th>false positive rate</th>\n",
       "      <th>false negative rate</th>\n",
       "      <th>selection rate</th>\n",
       "      <th>count</th>\n",
       "    </tr>\n",
       "    <tr>\n",
       "      <th>majmin</th>\n",
       "      <th></th>\n",
       "      <th></th>\n",
       "      <th></th>\n",
       "      <th></th>\n",
       "      <th></th>\n",
       "      <th></th>\n",
       "      <th></th>\n",
       "      <th></th>\n",
       "    </tr>\n",
       "  </thead>\n",
       "  <tbody>\n",
       "    <tr>\n",
       "      <th>majority</th>\n",
       "      <td>0.236605</td>\n",
       "      <td>0.535932</td>\n",
       "      <td>0.246066</td>\n",
       "      <td>0.141499</td>\n",
       "      <td>0.870915</td>\n",
       "      <td>0.057221</td>\n",
       "      <td>0.880411</td>\n",
       "      <td>69170.0</td>\n",
       "    </tr>\n",
       "    <tr>\n",
       "      <th>minority</th>\n",
       "      <td>0.144742</td>\n",
       "      <td>0.508016</td>\n",
       "      <td>0.209014</td>\n",
       "      <td>0.116980</td>\n",
       "      <td>0.964121</td>\n",
       "      <td>0.019848</td>\n",
       "      <td>0.965969</td>\n",
       "      <td>20540.0</td>\n",
       "    </tr>\n",
       "  </tbody>\n",
       "</table>\n",
       "</div>"
      ],
      "text/plain": [
       "          accuracy  balanced accuracy        f1  precision  \\\n",
       "majmin                                                       \n",
       "majority  0.236605           0.535932  0.246066   0.141499   \n",
       "minority  0.144742           0.508016  0.209014   0.116980   \n",
       "\n",
       "          false positive rate  false negative rate  selection rate    count  \n",
       "majmin                                                                       \n",
       "majority             0.870915             0.057221        0.880411  69170.0  \n",
       "minority             0.964121             0.019848        0.965969  20540.0  "
      ]
     },
     "execution_count": 75,
     "metadata": {},
     "output_type": "execute_result"
    }
   ],
   "source": [
    "metric_frame.by_group"
   ]
  },
  {
   "cell_type": "code",
   "execution_count": 76,
   "id": "a9ddbe63",
   "metadata": {
    "execution": {
     "iopub.execute_input": "2025-07-30T21:29:19.627017Z",
     "iopub.status.busy": "2025-07-30T21:29:19.626603Z",
     "iopub.status.idle": "2025-07-30T21:29:22.496210Z",
     "shell.execute_reply": "2025-07-30T21:29:22.490202Z"
    },
    "papermill": {
     "duration": 2.897992,
     "end_time": "2025-07-30T21:29:22.497885",
     "exception": false,
     "start_time": "2025-07-30T21:29:19.599893",
     "status": "completed"
    },
    "tags": []
   },
   "outputs": [
    {
     "data": {
      "text/plain": [
       "array([[<Axes: title={'center': 'accuracy'}, xlabel='majmin'>,\n",
       "        <Axes: title={'center': 'balanced accuracy'}, xlabel='majmin'>,\n",
       "        <Axes: title={'center': 'f1'}, xlabel='majmin'>],\n",
       "       [<Axes: title={'center': 'precision'}, xlabel='majmin'>,\n",
       "        <Axes: title={'center': 'false positive rate'}, xlabel='majmin'>,\n",
       "        <Axes: title={'center': 'false negative rate'}, xlabel='majmin'>],\n",
       "       [<Axes: title={'center': 'selection rate'}, xlabel='majmin'>,\n",
       "        <Axes: title={'center': 'count'}, xlabel='majmin'>,\n",
       "        <Axes: xlabel='majmin'>]], dtype=object)"
      ]
     },
     "execution_count": 76,
     "metadata": {},
     "output_type": "execute_result"
    },
    {
     "data": {
      "image/png": "[encoded data removed]",
      "text/plain": [
       "<Figure size 1200x800 with 9 Axes>"
      ]
     },
     "metadata": {},
     "output_type": "display_data"
    }
   ],
   "source": [
    "# In a graphic\n",
    "metric_frame.by_group.plot.bar(\n",
    "    subplots=True,\n",
    "    layout=[3, 3],\n",
    "    legend=False,\n",
    "    figsize=[12, 8],\n",
    "    title=\"Show all metrics\",\n",
    ")"
   ]
  },
  {
   "cell_type": "markdown",
   "id": "f57a0bac",
   "metadata": {
    "papermill": {
     "duration": 0.064803,
     "end_time": "2025-07-30T21:29:22.609521",
     "exception": false,
     "start_time": "2025-07-30T21:29:22.544718",
     "status": "completed"
    },
    "tags": []
   },
   "source": [
    "# Final Output"
   ]
  },
  {
   "cell_type": "code",
   "execution_count": 77,
   "id": "96d280a3",
   "metadata": {
    "execution": {
     "iopub.execute_input": "2025-07-30T21:29:22.696830Z",
     "iopub.status.busy": "2025-07-30T21:29:22.696228Z",
     "iopub.status.idle": "2025-07-30T21:29:22.704899Z",
     "shell.execute_reply": "2025-07-30T21:29:22.704088Z"
    },
    "papermill": {
     "duration": 0.075056,
     "end_time": "2025-07-30T21:29:22.713129",
     "exception": false,
     "start_time": "2025-07-30T21:29:22.638073",
     "status": "completed"
    },
    "tags": []
   },
   "outputs": [
    {
     "data": {
      "text/plain": [
       "4"
      ]
     },
     "execution_count": 77,
     "metadata": {},
     "output_type": "execute_result"
    }
   ],
   "source": [
    "sub_universes = universe_analysis.generate_sub_universes()\n",
    "len(sub_universes)"
   ]
  },
  {
   "cell_type": "code",
   "execution_count": 78,
   "id": "92adf7ba",
   "metadata": {
    "execution": {
     "iopub.execute_input": "2025-07-30T21:29:22.821446Z",
     "iopub.status.busy": "2025-07-30T21:29:22.820997Z",
     "iopub.status.idle": "2025-07-30T21:29:22.828315Z",
     "shell.execute_reply": "2025-07-30T21:29:22.827355Z"
    },
    "papermill": {
     "duration": 0.074525,
     "end_time": "2025-07-30T21:29:22.830244",
     "exception": false,
     "start_time": "2025-07-30T21:29:22.755719",
     "status": "completed"
    },
    "tags": []
   },
   "outputs": [],
   "source": [
    "def filter_sub_universe_data(sub_universe, org_test):\n",
    "    # Keep all rows — no filtering\n",
    "    keep_rows_mask = np.ones(org_test.shape[0], dtype=bool)\n",
    "\n",
    "    print(f\"[INFO] Keeping all rows: {keep_rows_mask.sum()} rows retained.\")\n",
    "    return keep_rows_mask"
   ]
  },
  {
   "cell_type": "code",
   "execution_count": 79,
   "id": "4a759155",
   "metadata": {
    "execution": {
     "iopub.execute_input": "2025-07-30T21:29:22.896116Z",
     "iopub.status.busy": "2025-07-30T21:29:22.895697Z",
     "iopub.status.idle": "2025-07-30T21:29:31.954742Z",
     "shell.execute_reply": "2025-07-30T21:29:31.954045Z"
    },
    "papermill": {
     "duration": 9.097587,
     "end_time": "2025-07-30T21:29:31.955926",
     "exception": false,
     "start_time": "2025-07-30T21:29:22.858339",
     "status": "completed"
    },
    "tags": []
   },
   "outputs": [
    {
     "name": "stdout",
     "output_type": "stream",
     "text": [
      "Stopping execution_time clock.\n",
      "[INFO] Keeping all rows: 89710 rows retained.\n"
     ]
    },
    {
     "name": "stdout",
     "output_type": "stream",
     "text": [
      "[INFO] Keeping all rows: 89710 rows retained.\n"
     ]
    },
    {
     "name": "stdout",
     "output_type": "stream",
     "text": [
      "[INFO] Keeping all rows: 89710 rows retained.\n"
     ]
    },
    {
     "name": "stdout",
     "output_type": "stream",
     "text": [
      "[INFO] Keeping all rows: 89710 rows retained.\n"
     ]
    },
    {
     "data": {
      "text/html": [
       "<div>\n",
       "<style scoped>\n",
       "    .dataframe tbody tr th:only-of-type {\n",
       "        vertical-align: middle;\n",
       "    }\n",
       "\n",
       "    .dataframe tbody tr th {\n",
       "        vertical-align: top;\n",
       "    }\n",
       "\n",
       "    .dataframe thead th {\n",
       "        text-align: right;\n",
       "    }\n",
       "</style>\n",
       "<table border=\"1\" class=\"dataframe\">\n",
       "  <thead>\n",
       "    <tr style=\"text-align: right;\">\n",
       "      <th></th>\n",
       "      <th>run_no</th>\n",
       "      <th>universe_id</th>\n",
       "      <th>universe_settings</th>\n",
       "      <th>execution_time</th>\n",
       "      <th>test_size_n</th>\n",
       "      <th>test_size_frac</th>\n",
       "      <th>fair_main_equalized_odds_difference</th>\n",
       "      <th>fair_main_equalized_odds_ratio</th>\n",
       "      <th>fair_main_demographic_parity_difference</th>\n",
       "      <th>fair_main_demographic_parity_ratio</th>\n",
       "      <th>...</th>\n",
       "      <th>perf_grp_precision_0</th>\n",
       "      <th>perf_grp_precision_1</th>\n",
       "      <th>perf_grp_false positive rate_0</th>\n",
       "      <th>perf_grp_false positive rate_1</th>\n",
       "      <th>perf_grp_false negative rate_0</th>\n",
       "      <th>perf_grp_false negative rate_1</th>\n",
       "      <th>perf_grp_selection rate_0</th>\n",
       "      <th>perf_grp_selection rate_1</th>\n",
       "      <th>perf_grp_count_0</th>\n",
       "      <th>perf_grp_count_1</th>\n",
       "    </tr>\n",
       "  </thead>\n",
       "  <tbody>\n",
       "    <tr>\n",
       "      <th>0</th>\n",
       "      <td>14</td>\n",
       "      <td>4bbd0c413f6e32dfefddcbd6a0049e1e</td>\n",
       "      <td>{\"cutoff\": \"quantile_0.1\", \"eval_fairness_grou...</td>\n",
       "      <td>28.629583</td>\n",
       "      <td>89710</td>\n",
       "      <td>1.0</td>\n",
       "      <td>0.093206</td>\n",
       "      <td>0.903325</td>\n",
       "      <td>0.085558</td>\n",
       "      <td>0.911428</td>\n",
       "      <td>...</td>\n",
       "      <td>NaN</td>\n",
       "      <td>NaN</td>\n",
       "      <td>NaN</td>\n",
       "      <td>NaN</td>\n",
       "      <td>NaN</td>\n",
       "      <td>NaN</td>\n",
       "      <td>NaN</td>\n",
       "      <td>NaN</td>\n",
       "      <td>NaN</td>\n",
       "      <td>NaN</td>\n",
       "    </tr>\n",
       "    <tr>\n",
       "      <th>0</th>\n",
       "      <td>14</td>\n",
       "      <td>4bbd0c413f6e32dfefddcbd6a0049e1e</td>\n",
       "      <td>{\"cutoff\": \"quantile_0.1\", \"eval_fairness_grou...</td>\n",
       "      <td>28.629583</td>\n",
       "      <td>89710</td>\n",
       "      <td>1.0</td>\n",
       "      <td>0.093206</td>\n",
       "      <td>0.903325</td>\n",
       "      <td>0.085558</td>\n",
       "      <td>0.911428</td>\n",
       "      <td>...</td>\n",
       "      <td>0.116980</td>\n",
       "      <td>0.141499</td>\n",
       "      <td>0.964121</td>\n",
       "      <td>0.870915</td>\n",
       "      <td>0.019848</td>\n",
       "      <td>0.057221</td>\n",
       "      <td>0.965969</td>\n",
       "      <td>0.880411</td>\n",
       "      <td>20540.0</td>\n",
       "      <td>69170.0</td>\n",
       "    </tr>\n",
       "    <tr>\n",
       "      <th>0</th>\n",
       "      <td>14</td>\n",
       "      <td>4bbd0c413f6e32dfefddcbd6a0049e1e</td>\n",
       "      <td>{\"cutoff\": \"quantile_0.25\", \"eval_fairness_gro...</td>\n",
       "      <td>28.629583</td>\n",
       "      <td>89710</td>\n",
       "      <td>1.0</td>\n",
       "      <td>0.223011</td>\n",
       "      <td>0.753884</td>\n",
       "      <td>0.206357</td>\n",
       "      <td>0.773010</td>\n",
       "      <td>...</td>\n",
       "      <td>NaN</td>\n",
       "      <td>NaN</td>\n",
       "      <td>NaN</td>\n",
       "      <td>NaN</td>\n",
       "      <td>NaN</td>\n",
       "      <td>NaN</td>\n",
       "      <td>NaN</td>\n",
       "      <td>NaN</td>\n",
       "      <td>NaN</td>\n",
       "      <td>NaN</td>\n",
       "    </tr>\n",
       "    <tr>\n",
       "      <th>0</th>\n",
       "      <td>14</td>\n",
       "      <td>4bbd0c413f6e32dfefddcbd6a0049e1e</td>\n",
       "      <td>{\"cutoff\": \"quantile_0.25\", \"eval_fairness_gro...</td>\n",
       "      <td>28.629583</td>\n",
       "      <td>89710</td>\n",
       "      <td>1.0</td>\n",
       "      <td>0.223011</td>\n",
       "      <td>0.753884</td>\n",
       "      <td>0.206357</td>\n",
       "      <td>0.773010</td>\n",
       "      <td>...</td>\n",
       "      <td>0.118192</td>\n",
       "      <td>0.156391</td>\n",
       "      <td>0.906119</td>\n",
       "      <td>0.683108</td>\n",
       "      <td>0.067990</td>\n",
       "      <td>0.168271</td>\n",
       "      <td>0.909104</td>\n",
       "      <td>0.702747</td>\n",
       "      <td>20540.0</td>\n",
       "      <td>69170.0</td>\n",
       "    </tr>\n",
       "  </tbody>\n",
       "</table>\n",
       "<p>4 rows × 50 columns</p>\n",
       "</div>"
      ],
      "text/plain": [
       "  run_no                       universe_id  \\\n",
       "0     14  4bbd0c413f6e32dfefddcbd6a0049e1e   \n",
       "0     14  4bbd0c413f6e32dfefddcbd6a0049e1e   \n",
       "0     14  4bbd0c413f6e32dfefddcbd6a0049e1e   \n",
       "0     14  4bbd0c413f6e32dfefddcbd6a0049e1e   \n",
       "\n",
       "                                   universe_settings  execution_time  \\\n",
       "0  {\"cutoff\": \"quantile_0.1\", \"eval_fairness_grou...       28.629583   \n",
       "0  {\"cutoff\": \"quantile_0.1\", \"eval_fairness_grou...       28.629583   \n",
       "0  {\"cutoff\": \"quantile_0.25\", \"eval_fairness_gro...       28.629583   \n",
       "0  {\"cutoff\": \"quantile_0.25\", \"eval_fairness_gro...       28.629583   \n",
       "\n",
       "   test_size_n  test_size_frac  fair_main_equalized_odds_difference  \\\n",
       "0        89710             1.0                             0.093206   \n",
       "0        89710             1.0                             0.093206   \n",
       "0        89710             1.0                             0.223011   \n",
       "0        89710             1.0                             0.223011   \n",
       "\n",
       "   fair_main_equalized_odds_ratio  fair_main_demographic_parity_difference  \\\n",
       "0                        0.903325                                 0.085558   \n",
       "0                        0.903325                                 0.085558   \n",
       "0                        0.753884                                 0.206357   \n",
       "0                        0.753884                                 0.206357   \n",
       "\n",
       "   fair_main_demographic_parity_ratio  ...  perf_grp_precision_0  \\\n",
       "0                            0.911428  ...                   NaN   \n",
       "0                            0.911428  ...              0.116980   \n",
       "0                            0.773010  ...                   NaN   \n",
       "0                            0.773010  ...              0.118192   \n",
       "\n",
       "   perf_grp_precision_1  perf_grp_false positive rate_0  \\\n",
       "0                   NaN                             NaN   \n",
       "0              0.141499                        0.964121   \n",
       "0                   NaN                             NaN   \n",
       "0              0.156391                        0.906119   \n",
       "\n",
       "   perf_grp_false positive rate_1  perf_grp_false negative rate_0  \\\n",
       "0                             NaN                             NaN   \n",
       "0                        0.870915                        0.019848   \n",
       "0                             NaN                             NaN   \n",
       "0                        0.683108                        0.067990   \n",
       "\n",
       "   perf_grp_false negative rate_1  perf_grp_selection rate_0  \\\n",
       "0                             NaN                        NaN   \n",
       "0                        0.057221                   0.965969   \n",
       "0                             NaN                        NaN   \n",
       "0                        0.168271                   0.909104   \n",
       "\n",
       "   perf_grp_selection rate_1  perf_grp_count_0  perf_grp_count_1  \n",
       "0                        NaN               NaN               NaN  \n",
       "0                   0.880411           20540.0           69170.0  \n",
       "0                        NaN               NaN               NaN  \n",
       "0                   0.702747           20540.0           69170.0  \n",
       "\n",
       "[4 rows x 50 columns]"
      ]
     },
     "execution_count": 79,
     "metadata": {},
     "output_type": "execute_result"
    }
   ],
   "source": [
    "final_output = universe_analysis.generate_final_output(\n",
    "    y_pred_prob=probs_test,\n",
    "    y_test=y_true,\n",
    "    org_test=org_test,\n",
    "    filter_data=filter_sub_universe_data,\n",
    "    cp_metrics_df=cp_metrics_df,\n",
    "    save=True,\n",
    ")\n",
    "final_output"
   ]
  },
  {
   "cell_type": "code",
   "execution_count": null,
   "id": "721ff514-cb11-46f8-b6fc-50392f74b5cb",
   "metadata": {
    "papermill": {
     "duration": 0.01561,
     "end_time": "2025-07-30T21:29:31.989886",
     "exception": false,
     "start_time": "2025-07-30T21:29:31.974276",
     "status": "completed"
    },
    "tags": []
   },
   "outputs": [],
   "source": []
  }
 ],
 "metadata": {
  "celltoolbar": "Tags",
  "kernelspec": {
   "display_name": "Python (CMA Fairness)",
   "language": "python",
   "name": "cma_fair_env"
  },
  "language_info": {
   "codemirror_mode": {
    "name": "ipython",
    "version": 3
   },
   "file_extension": ".py",
   "mimetype": "text/x-python",
   "name": "python",
   "nbconvert_exporter": "python",
   "pygments_lexer": "ipython3",
   "version": "3.10.12"
  },
  "papermill": {
   "default_parameters": {},
   "duration": 41.460485,
   "end_time": "2025-07-30T21:29:32.722828",
   "environment_variables": {},
   "exception": null,
   "input_path": "universe_analysis.ipynb",
   "output_path": "output/runs/14/notebooks/m_14-4bbd0c413f6e32dfefddcbd6a0049e1e.ipynb",
   "parameters": {
    "output_dir": "output",
    "run_no": "14",
    "seed": "2023",
    "universe": "{\"cutoff\": [\"quantile_0.1\", \"quantile_0.25\"], \"eval_fairness_grouping\": [\"majority-minority\", \"nationality-all\"], \"exclude_features\": \"age\", \"exclude_subgroups\": \"keep-all\", \"model\": \"penalized_logreg\", \"scale\": \"do-not-scale\", \"training_size\": \"1k\", \"training_year\": \"2014\"}",
    "universe_id": "4bbd0c413f6e32dfefddcbd6a0049e1e"
   },
   "start_time": "2025-07-30T21:28:51.262343",
   "version": "2.6.0"
  }
 },
 "nbformat": 4,
 "nbformat_minor": 5
}