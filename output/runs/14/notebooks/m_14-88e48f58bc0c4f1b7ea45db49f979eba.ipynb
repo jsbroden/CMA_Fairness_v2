{
 "cells": [
  {
   "cell_type": "code",
   "execution_count": 1,
   "id": "f159f837-637b-42ba-96b5-ec9a68c44524",
   "metadata": {
    "execution": {
     "iopub.execute_input": "2025-07-30T21:06:21.326617Z",
     "iopub.status.busy": "2025-07-30T21:06:21.326130Z",
     "iopub.status.idle": "2025-07-30T21:06:21.340438Z",
     "shell.execute_reply": "2025-07-30T21:06:21.339284Z"
    },
    "papermill": {
     "duration": 0.038129,
     "end_time": "2025-07-30T21:06:21.341995",
     "exception": false,
     "start_time": "2025-07-30T21:06:21.303866",
     "status": "completed"
    },
    "tags": []
   },
   "outputs": [
    {
     "name": "stdout",
     "output_type": "stream",
     "text": [
      "/dss/dsshome1/0C/ra93lal2/cma/CMA_Fairness_v2\n"
     ]
    },
    {
     "name": "stderr",
     "output_type": "stream",
     "text": [
      "/dss/dsshome1/0C/ra93lal2/.local/share/virtualenvs/CMA_Fairness_v2-3j10GkSs/lib/python3.10/site-packages/IPython/core/magics/osm.py:393: UserWarning: This is now an optional IPython functionality, using bookmarks requires you to install the `pickleshare` library.\n",
      "  bkms = self.shell.db.get('bookmarks', {})\n",
      "/dss/dsshome1/0C/ra93lal2/.local/share/virtualenvs/CMA_Fairness_v2-3j10GkSs/lib/python3.10/site-packages/IPython/core/magics/osm.py:417: UserWarning: This is now an optional IPython functionality, setting dhist requires you to install the `pickleshare` library.\n",
      "  self.shell.db['dhist'] = compress_dhist(dhist)[-100:]\n"
     ]
    }
   ],
   "source": [
    "%cd ~/cma/CMA_Fairness_v2"
   ]
  },
  {
   "cell_type": "markdown",
   "id": "de2603b9",
   "metadata": {
    "papermill": {
     "duration": 0.019286,
     "end_time": "2025-07-30T21:06:21.381439",
     "exception": false,
     "start_time": "2025-07-30T21:06:21.362153",
     "status": "completed"
    },
    "tags": []
   },
   "source": [
    "The following cell holds the definition of our parameters, these values can be overriden by rendering the with e.g. the following command:\n",
    "\n",
    "papermill -p alpha 0.2 -p ratio 0.3 universe_analysis.ipynb output/test_run.ipynb"
   ]
  },
  {
   "cell_type": "code",
   "execution_count": 2,
   "id": "a80968a0-40bb-4fa9-85ef-2d5eefb01975",
   "metadata": {
    "execution": {
     "iopub.execute_input": "2025-07-30T21:06:21.422378Z",
     "iopub.status.busy": "2025-07-30T21:06:21.421747Z",
     "iopub.status.idle": "2025-07-30T21:06:21.427729Z",
     "shell.execute_reply": "2025-07-30T21:06:21.426738Z"
    },
    "papermill": {
     "duration": 0.029098,
     "end_time": "2025-07-30T21:06:21.429575",
     "exception": false,
     "start_time": "2025-07-30T21:06:21.400477",
     "status": "completed"
    },
    "tags": []
   },
   "outputs": [
    {
     "name": "stdout",
     "output_type": "stream",
     "text": [
      "Current working directory: /dss/dsshome1/0C/ra93lal2/cma/CMA_Fairness_v2\n"
     ]
    }
   ],
   "source": [
    "import os\n",
    "print(\"Current working directory:\", os.getcwd())"
   ]
  },
  {
   "cell_type": "code",
   "execution_count": 3,
   "id": "2dce4c03",
   "metadata": {
    "execution": {
     "iopub.execute_input": "2025-07-30T21:06:21.470319Z",
     "iopub.status.busy": "2025-07-30T21:06:21.469832Z",
     "iopub.status.idle": "2025-07-30T21:06:21.476876Z",
     "shell.execute_reply": "2025-07-30T21:06:21.475948Z"
    },
    "papermill": {
     "duration": 0.02893,
     "end_time": "2025-07-30T21:06:21.478511",
     "exception": false,
     "start_time": "2025-07-30T21:06:21.449581",
     "status": "completed"
    },
    "tags": [
     "parameters"
    ]
   },
   "outputs": [],
   "source": [
    "run_no = 0\n",
    "universe_id = \"test\"\n",
    "universe = {\n",
    "    \"training_size\": \"25k\", # \"25k\", \"5k\", \"1k\"\n",
    "    \"training_year\": \"2014\", # \"2014\", \"2012_14\", \"2010_14\"\n",
    "    \"scale\": \"scale\", # \"scale\", \"do-not-scale\",\n",
    "    #\"stratify_split\": \"target\", # \"none\", \"target\", \"protected-attribute\", \"both\",\n",
    "    \"model\": \"elasticnet\", # \"logreg\", \"penalized_logreg\", \"rf\", \"gbm\", \"elasticnet\"\n",
    "    \"cutoff\": [\"quantile_0.15\", \"quantile_0.30\"],\n",
    "    \"exclude_features\": \"age\", # \"none\", \"nationality\", \"sex\", \"nationality-sex\", \"age\"\n",
    "    \"exclude_subgroups\": \"keep-all\", # \"keep-all\", \"drop-non-german\"\n",
    "    \"eval_fairness_grouping\": [\"majority-minority\", \"nationality-all\"]\n",
    "}\n",
    "\n",
    "output_dir=\"./output\"\n",
    "seed=0"
   ]
  },
  {
   "cell_type": "code",
   "execution_count": 4,
   "id": "05c5cb33",
   "metadata": {
    "execution": {
     "iopub.execute_input": "2025-07-30T21:06:21.522195Z",
     "iopub.status.busy": "2025-07-30T21:06:21.521554Z",
     "iopub.status.idle": "2025-07-30T21:06:21.529081Z",
     "shell.execute_reply": "2025-07-30T21:06:21.526156Z"
    },
    "papermill": {
     "duration": 0.031913,
     "end_time": "2025-07-30T21:06:21.531018",
     "exception": false,
     "start_time": "2025-07-30T21:06:21.499105",
     "status": "completed"
    },
    "tags": [
     "injected-parameters"
    ]
   },
   "outputs": [],
   "source": [
    "# Parameters\n",
    "universe_id = \"88e48f58bc0c4f1b7ea45db49f979eba\"\n",
    "run_no = \"14\"\n",
    "universe = \"{\\\"cutoff\\\": [\\\"quantile_0.1\\\", \\\"quantile_0.25\\\"], \\\"eval_fairness_grouping\\\": [\\\"majority-minority\\\", \\\"nationality-all\\\"], \\\"exclude_features\\\": \\\"nationality-sex\\\", \\\"exclude_subgroups\\\": \\\"keep-all\\\", \\\"model\\\": \\\"gbm\\\", \\\"scale\\\": \\\"do-not-scale\\\", \\\"training_size\\\": \\\"5k\\\", \\\"training_year\\\": \\\"2012_14\\\"}\"\n",
    "output_dir = \"output\"\n",
    "seed = \"2023\"\n"
   ]
  },
  {
   "cell_type": "code",
   "execution_count": 5,
   "id": "1650acaf",
   "metadata": {
    "execution": {
     "iopub.execute_input": "2025-07-30T21:06:21.573991Z",
     "iopub.status.busy": "2025-07-30T21:06:21.573302Z",
     "iopub.status.idle": "2025-07-30T21:06:21.579430Z",
     "shell.execute_reply": "2025-07-30T21:06:21.577763Z"
    },
    "papermill": {
     "duration": 0.033597,
     "end_time": "2025-07-30T21:06:21.585834",
     "exception": false,
     "start_time": "2025-07-30T21:06:21.552237",
     "status": "completed"
    },
    "tags": []
   },
   "outputs": [],
   "source": [
    "import json\n",
    "# Parse universe into dict if it is passed as a string\n",
    "if isinstance(universe, str):\n",
    "    universe = json.loads(universe)"
   ]
  },
  {
   "cell_type": "code",
   "execution_count": 6,
   "id": "16620c48",
   "metadata": {
    "execution": {
     "iopub.execute_input": "2025-07-30T21:06:21.628020Z",
     "iopub.status.busy": "2025-07-30T21:06:21.627509Z",
     "iopub.status.idle": "2025-07-30T21:06:21.673366Z",
     "shell.execute_reply": "2025-07-30T21:06:21.672448Z"
    },
    "papermill": {
     "duration": 0.069494,
     "end_time": "2025-07-30T21:06:21.675177",
     "exception": false,
     "start_time": "2025-07-30T21:06:21.605683",
     "status": "completed"
    },
    "tags": []
   },
   "outputs": [],
   "source": [
    "# Auto-reload the custom package\n",
    "%load_ext autoreload\n",
    "%autoreload 1\n",
    "%aimport fairness_multiverse"
   ]
  },
  {
   "cell_type": "code",
   "execution_count": 7,
   "id": "01c5c9f3",
   "metadata": {
    "execution": {
     "iopub.execute_input": "2025-07-30T21:06:21.718420Z",
     "iopub.status.busy": "2025-07-30T21:06:21.717955Z",
     "iopub.status.idle": "2025-07-30T21:06:23.653480Z",
     "shell.execute_reply": "2025-07-30T21:06:23.650933Z"
    },
    "papermill": {
     "duration": 1.961716,
     "end_time": "2025-07-30T21:06:23.655738",
     "exception": false,
     "start_time": "2025-07-30T21:06:21.694022",
     "status": "completed"
    },
    "tags": []
   },
   "outputs": [],
   "source": [
    "from fairness_multiverse.universe import UniverseAnalysis\n",
    "\n",
    "universe_analysis = UniverseAnalysis(\n",
    "    run_no = run_no,\n",
    "    universe_id = universe_id,\n",
    "    universe = universe,\n",
    "    output_dir=output_dir,\n",
    ")"
   ]
  },
  {
   "cell_type": "code",
   "execution_count": 8,
   "id": "106241f5",
   "metadata": {
    "execution": {
     "iopub.execute_input": "2025-07-30T21:06:23.708604Z",
     "iopub.status.busy": "2025-07-30T21:06:23.707941Z",
     "iopub.status.idle": "2025-07-30T21:06:23.715640Z",
     "shell.execute_reply": "2025-07-30T21:06:23.714358Z"
    },
    "papermill": {
     "duration": 0.036045,
     "end_time": "2025-07-30T21:06:23.717406",
     "exception": false,
     "start_time": "2025-07-30T21:06:23.681361",
     "status": "completed"
    },
    "tags": []
   },
   "outputs": [
    {
     "name": "stdout",
     "output_type": "stream",
     "text": [
      "Using Seed: 2023\n"
     ]
    }
   ],
   "source": [
    "import numpy as np\n",
    "parsed_seed = int(seed)\n",
    "np.random.seed(parsed_seed)\n",
    "print(f\"Using Seed: {parsed_seed}\")"
   ]
  },
  {
   "cell_type": "markdown",
   "id": "e0ebdc57",
   "metadata": {
    "papermill": {
     "duration": 0.0196,
     "end_time": "2025-07-30T21:06:23.758350",
     "exception": false,
     "start_time": "2025-07-30T21:06:23.738750",
     "status": "completed"
    },
    "tags": []
   },
   "source": [
    "# Loading Data"
   ]
  },
  {
   "cell_type": "markdown",
   "id": "681925a3",
   "metadata": {
    "papermill": {
     "duration": 0.019634,
     "end_time": "2025-07-30T21:06:23.797148",
     "exception": false,
     "start_time": "2025-07-30T21:06:23.777514",
     "status": "completed"
    },
    "tags": []
   },
   "source": [
    "Load siab_train, siab_test, siab_calib and/or \n",
    "load siab_train_features, siab_train_labels"
   ]
  },
  {
   "cell_type": "code",
   "execution_count": 9,
   "id": "f0496b8a",
   "metadata": {
    "execution": {
     "iopub.execute_input": "2025-07-30T21:06:23.840268Z",
     "iopub.status.busy": "2025-07-30T21:06:23.839203Z",
     "iopub.status.idle": "2025-07-30T21:06:36.734034Z",
     "shell.execute_reply": "2025-07-30T21:06:36.732824Z"
    },
    "papermill": {
     "duration": 12.918392,
     "end_time": "2025-07-30T21:06:36.735693",
     "exception": false,
     "start_time": "2025-07-30T21:06:23.817301",
     "status": "completed"
    },
    "tags": []
   },
   "outputs": [
    {
     "name": "stdout",
     "output_type": "stream",
     "text": [
      "Loading SIAB data from cache: data/siab_cached.csv.gz\n"
     ]
    },
    {
     "name": "stdout",
     "output_type": "stream",
     "text": [
      "(643690, 164)\n"
     ]
    }
   ],
   "source": [
    "from pathlib import Path\n",
    "import pandas as pd\n",
    "\n",
    "# File paths\n",
    "raw_file = Path(\"data/raw/siab.csv\")\n",
    "cache_file = Path(\"data/siab_cached.csv.gz\")\n",
    "\n",
    "# Ensure cache directory exists\n",
    "cache_file.parent.mkdir(parents=True, exist_ok=True)\n",
    "\n",
    "# Load with simple caching\n",
    "if cache_file.exists():\n",
    "    print(f\"Loading SIAB data from cache: {cache_file}\")\n",
    "    siab = pd.read_csv(cache_file, compression='gzip')\n",
    "else:\n",
    "    print(f\"Cache not found. Reading raw SIAB data: {raw_file}\")\n",
    "    siab = pd.read_csv(raw_file)\n",
    "    siab.to_csv(cache_file, index=False, compression='gzip')\n",
    "    print(f\"Cached SIAB data to: {cache_file}\")\n",
    "\n",
    "# Now use `siab` DataFrame as needed\n",
    "print(siab.shape)"
   ]
  },
  {
   "cell_type": "code",
   "execution_count": 10,
   "id": "db0ca512-5f53-4dba-abdb-a2888bca41ba",
   "metadata": {
    "execution": {
     "iopub.execute_input": "2025-07-30T21:06:36.782037Z",
     "iopub.status.busy": "2025-07-30T21:06:36.781510Z",
     "iopub.status.idle": "2025-07-30T21:06:36.787380Z",
     "shell.execute_reply": "2025-07-30T21:06:36.786272Z"
    },
    "papermill": {
     "duration": 0.029905,
     "end_time": "2025-07-30T21:06:36.789124",
     "exception": false,
     "start_time": "2025-07-30T21:06:36.759219",
     "status": "completed"
    },
    "tags": []
   },
   "outputs": [],
   "source": [
    "#siab"
   ]
  },
  {
   "cell_type": "code",
   "execution_count": 11,
   "id": "a0edb063",
   "metadata": {
    "execution": {
     "iopub.execute_input": "2025-07-30T21:06:36.832871Z",
     "iopub.status.busy": "2025-07-30T21:06:36.831850Z",
     "iopub.status.idle": "2025-07-30T21:06:36.842244Z",
     "shell.execute_reply": "2025-07-30T21:06:36.841251Z"
    },
    "papermill": {
     "duration": 0.033487,
     "end_time": "2025-07-30T21:06:36.843998",
     "exception": false,
     "start_time": "2025-07-30T21:06:36.810511",
     "status": "completed"
    },
    "tags": []
   },
   "outputs": [],
   "source": [
    "#import pandas as pd\n",
    "#\n",
    "#X_train = pd.read_csv(\"./data/X_train.csv\")\n",
    "#y_train = pd.read_csv(\"./data/y_train.csv\")"
   ]
  },
  {
   "cell_type": "code",
   "execution_count": 12,
   "id": "63d08085",
   "metadata": {
    "execution": {
     "iopub.execute_input": "2025-07-30T21:06:36.888161Z",
     "iopub.status.busy": "2025-07-30T21:06:36.887661Z",
     "iopub.status.idle": "2025-07-30T21:06:36.892360Z",
     "shell.execute_reply": "2025-07-30T21:06:36.891474Z"
    },
    "papermill": {
     "duration": 0.029157,
     "end_time": "2025-07-30T21:06:36.893913",
     "exception": false,
     "start_time": "2025-07-30T21:06:36.864756",
     "status": "completed"
    },
    "tags": []
   },
   "outputs": [],
   "source": [
    "#X_test = pd.read_csv(\"./data/X_test.csv\")\n",
    "#y_true = pd.read_csv(\"./data/y_test.csv\")"
   ]
  },
  {
   "cell_type": "code",
   "execution_count": 13,
   "id": "98a8d0fa-1d3d-4ed8-bb2c-281470e24add",
   "metadata": {
    "execution": {
     "iopub.execute_input": "2025-07-30T21:06:36.938874Z",
     "iopub.status.busy": "2025-07-30T21:06:36.938255Z",
     "iopub.status.idle": "2025-07-30T21:06:36.943201Z",
     "shell.execute_reply": "2025-07-30T21:06:36.942187Z"
    },
    "papermill": {
     "duration": 0.029522,
     "end_time": "2025-07-30T21:06:36.944864",
     "exception": false,
     "start_time": "2025-07-30T21:06:36.915342",
     "status": "completed"
    },
    "tags": []
   },
   "outputs": [],
   "source": [
    "# Calibration data for conformal\n",
    "#X_calib = pd.read_csv(\"./data/X_calib.csv\")\n",
    "#y_calib = pd.read_csv(\"./data/y_calib.csv\")"
   ]
  },
  {
   "cell_type": "markdown",
   "id": "997051c5-15bd-4b69-9786-c3001a3ce484",
   "metadata": {
    "papermill": {
     "duration": 0.020495,
     "end_time": "2025-07-30T21:06:36.986537",
     "exception": false,
     "start_time": "2025-07-30T21:06:36.966042",
     "status": "completed"
    },
    "tags": []
   },
   "source": [
    "# Splitting Data and Setting Training Data Size"
   ]
  },
  {
   "cell_type": "code",
   "execution_count": 14,
   "id": "e993b61f-042d-41a6-8c81-f55681f86335",
   "metadata": {
    "execution": {
     "iopub.execute_input": "2025-07-30T21:06:37.029618Z",
     "iopub.status.busy": "2025-07-30T21:06:37.028926Z",
     "iopub.status.idle": "2025-07-30T21:06:37.042187Z",
     "shell.execute_reply": "2025-07-30T21:06:37.041262Z"
    },
    "papermill": {
     "duration": 0.036734,
     "end_time": "2025-07-30T21:06:37.043904",
     "exception": false,
     "start_time": "2025-07-30T21:06:37.007170",
     "status": "completed"
    },
    "tags": []
   },
   "outputs": [],
   "source": [
    "def sample_by_year_size(df,\n",
    "                        training_year: str,\n",
    "                        training_size: str,\n",
    "                        random_state: int = 42):\n",
    "    # --- parse training_year into a list of int years ---\n",
    "    if \"_\" in training_year:\n",
    "        start_str, end_str = training_year.split(\"_\", 1)\n",
    "        start = int(start_str)\n",
    "        end   = int(end_str) if len(end_str) == 4 else (int(end_str) + (start // 100)*100)\n",
    "        years = list(range(start, end + 1))\n",
    "    else:\n",
    "        years = [int(training_year)]\n",
    "\n",
    "    df = df[df[\"year\"].isin(years)].reset_index(drop=True)\n",
    "\n",
    "    # --- map training_size to total number of samples ---\n",
    "    total_map = {\"25k\": 25_000, \"5k\": 5_000, \"1k\": 1_000}\n",
    "    if training_size not in total_map:\n",
    "        return df  # e.g. \"all\"\n",
    "\n",
    "    total_samples = total_map[training_size]\n",
    "    n_years       = len(years)\n",
    "    base          = total_samples // n_years\n",
    "    remainder     = total_samples % n_years\n",
    "\n",
    "    # --- build a dict: year -> how many to sample ---\n",
    "    # give +1 to the first `remainder` years in ascending order\n",
    "    quotas = {\n",
    "        year: base + (1 if idx < remainder else 0)\n",
    "        for idx, year in enumerate(sorted(years))\n",
    "    }\n",
    "\n",
    "    # --- sample per‐year according to the quota dict ---\n",
    "    sampled = (\n",
    "        df\n",
    "        .groupby(\"year\", group_keys=False)\n",
    "        .apply(lambda grp: grp.sample(\n",
    "            n=min(len(grp), quotas[grp.name]),\n",
    "            random_state=random_state))\n",
    "        .reset_index(drop=True)\n",
    "    )\n",
    "\n",
    "    return sampled"
   ]
  },
  {
   "cell_type": "code",
   "execution_count": 15,
   "id": "c0ccd338-0e02-41f3-a09d-f56f9266e3fb",
   "metadata": {
    "execution": {
     "iopub.execute_input": "2025-07-30T21:06:37.087238Z",
     "iopub.status.busy": "2025-07-30T21:06:37.086607Z",
     "iopub.status.idle": "2025-07-30T21:06:37.091547Z",
     "shell.execute_reply": "2025-07-30T21:06:37.090601Z"
    },
    "papermill": {
     "duration": 0.028004,
     "end_time": "2025-07-30T21:06:37.093204",
     "exception": false,
     "start_time": "2025-07-30T21:06:37.065200",
     "status": "completed"
    },
    "tags": []
   },
   "outputs": [],
   "source": [
    "#universe[\"training_size\"]"
   ]
  },
  {
   "cell_type": "code",
   "execution_count": 16,
   "id": "ca707fd7-8047-4acd-bfa5-66248fbbf8e6",
   "metadata": {
    "execution": {
     "iopub.execute_input": "2025-07-30T21:06:37.136342Z",
     "iopub.status.busy": "2025-07-30T21:06:37.135880Z",
     "iopub.status.idle": "2025-07-30T21:06:37.140931Z",
     "shell.execute_reply": "2025-07-30T21:06:37.139980Z"
    },
    "papermill": {
     "duration": 0.028202,
     "end_time": "2025-07-30T21:06:37.142648",
     "exception": false,
     "start_time": "2025-07-30T21:06:37.114446",
     "status": "completed"
    },
    "tags": []
   },
   "outputs": [],
   "source": [
    "#universe[\"training_year\"]"
   ]
  },
  {
   "cell_type": "code",
   "execution_count": 17,
   "id": "aea9c6ef-6f46-42c8-85eb-5a62025c1508",
   "metadata": {
    "execution": {
     "iopub.execute_input": "2025-07-30T21:06:37.186949Z",
     "iopub.status.busy": "2025-07-30T21:06:37.186493Z",
     "iopub.status.idle": "2025-07-30T21:06:37.794606Z",
     "shell.execute_reply": "2025-07-30T21:06:37.793634Z"
    },
    "papermill": {
     "duration": 0.632367,
     "end_time": "2025-07-30T21:06:37.796621",
     "exception": false,
     "start_time": "2025-07-30T21:06:37.164254",
     "status": "completed"
    },
    "tags": []
   },
   "outputs": [],
   "source": [
    "siab_train = sample_by_year_size(siab,\n",
    "                               training_year=universe[\"training_year\"],\n",
    "                               training_size=universe[\"training_size\"])"
   ]
  },
  {
   "cell_type": "code",
   "execution_count": 18,
   "id": "8d3afb32-789d-442c-8d5d-9f5aa8dd2eed",
   "metadata": {
    "execution": {
     "iopub.execute_input": "2025-07-30T21:06:37.839468Z",
     "iopub.status.busy": "2025-07-30T21:06:37.838995Z",
     "iopub.status.idle": "2025-07-30T21:06:37.843621Z",
     "shell.execute_reply": "2025-07-30T21:06:37.842780Z"
    },
    "papermill": {
     "duration": 0.027796,
     "end_time": "2025-07-30T21:06:37.845688",
     "exception": false,
     "start_time": "2025-07-30T21:06:37.817892",
     "status": "completed"
    },
    "tags": []
   },
   "outputs": [],
   "source": [
    "#siab_train.shape"
   ]
  },
  {
   "cell_type": "code",
   "execution_count": 19,
   "id": "d582db68-1a4c-47fb-84fc-08518dc1975a",
   "metadata": {
    "execution": {
     "iopub.execute_input": "2025-07-30T21:06:37.890083Z",
     "iopub.status.busy": "2025-07-30T21:06:37.889543Z",
     "iopub.status.idle": "2025-07-30T21:06:37.895425Z",
     "shell.execute_reply": "2025-07-30T21:06:37.894169Z"
    },
    "papermill": {
     "duration": 0.02982,
     "end_time": "2025-07-30T21:06:37.897566",
     "exception": false,
     "start_time": "2025-07-30T21:06:37.867746",
     "status": "completed"
    },
    "tags": []
   },
   "outputs": [],
   "source": [
    "#display(siab_train.groupby(\"year\").size())"
   ]
  },
  {
   "cell_type": "code",
   "execution_count": 20,
   "id": "a561edb4-d032-42cb-8256-22eac1111c64",
   "metadata": {
    "execution": {
     "iopub.execute_input": "2025-07-30T21:06:37.954814Z",
     "iopub.status.busy": "2025-07-30T21:06:37.954333Z",
     "iopub.status.idle": "2025-07-30T21:06:38.215174Z",
     "shell.execute_reply": "2025-07-30T21:06:38.214289Z"
    },
    "papermill": {
     "duration": 0.290752,
     "end_time": "2025-07-30T21:06:38.217067",
     "exception": false,
     "start_time": "2025-07-30T21:06:37.926315",
     "status": "completed"
    },
    "tags": []
   },
   "outputs": [],
   "source": [
    "#siab_train = siab_s[siab_s.year < 2015]\n",
    "siab_calib = siab[siab.year == 2015]\n",
    "siab_test = siab[siab.year == 2016]"
   ]
  },
  {
   "cell_type": "code",
   "execution_count": 21,
   "id": "472de16f-c3db-4916-846b-1f0de9cf1746",
   "metadata": {
    "execution": {
     "iopub.execute_input": "2025-07-30T21:06:38.258170Z",
     "iopub.status.busy": "2025-07-30T21:06:38.257379Z",
     "iopub.status.idle": "2025-07-30T21:06:38.265838Z",
     "shell.execute_reply": "2025-07-30T21:06:38.264805Z"
    },
    "papermill": {
     "duration": 0.03031,
     "end_time": "2025-07-30T21:06:38.267705",
     "exception": false,
     "start_time": "2025-07-30T21:06:38.237395",
     "status": "completed"
    },
    "tags": []
   },
   "outputs": [],
   "source": [
    "X_train = siab_train.iloc[:,4:164]\n",
    "y_train = siab_train.iloc[:, [3]]"
   ]
  },
  {
   "cell_type": "code",
   "execution_count": 22,
   "id": "828c96af-f43a-4ed6-ba47-8ac73a47d56c",
   "metadata": {
    "execution": {
     "iopub.execute_input": "2025-07-30T21:06:38.315372Z",
     "iopub.status.busy": "2025-07-30T21:06:38.314835Z",
     "iopub.status.idle": "2025-07-30T21:06:38.367099Z",
     "shell.execute_reply": "2025-07-30T21:06:38.366100Z"
    },
    "papermill": {
     "duration": 0.077469,
     "end_time": "2025-07-30T21:06:38.368867",
     "exception": false,
     "start_time": "2025-07-30T21:06:38.291398",
     "status": "completed"
    },
    "tags": []
   },
   "outputs": [],
   "source": [
    "X_calib = siab_calib.iloc[:,4:164]\n",
    "y_calib = siab_calib.iloc[:, [3]]"
   ]
  },
  {
   "cell_type": "code",
   "execution_count": 23,
   "id": "c34be9c3-6bd6-476e-acd3-845840e303be",
   "metadata": {
    "execution": {
     "iopub.execute_input": "2025-07-30T21:06:38.412499Z",
     "iopub.status.busy": "2025-07-30T21:06:38.411529Z",
     "iopub.status.idle": "2025-07-30T21:06:38.465424Z",
     "shell.execute_reply": "2025-07-30T21:06:38.464273Z"
    },
    "papermill": {
     "duration": 0.077738,
     "end_time": "2025-07-30T21:06:38.467361",
     "exception": false,
     "start_time": "2025-07-30T21:06:38.389623",
     "status": "completed"
    },
    "tags": []
   },
   "outputs": [],
   "source": [
    "X_test = siab_test.iloc[:,4:164]\n",
    "y_true = siab_test.iloc[:, [3]]"
   ]
  },
  {
   "cell_type": "markdown",
   "id": "9901737e-04df-44f0-9100-f5ad144ed040",
   "metadata": {
    "papermill": {
     "duration": 0.0229,
     "end_time": "2025-07-30T21:06:38.514339",
     "exception": false,
     "start_time": "2025-07-30T21:06:38.491439",
     "status": "completed"
    },
    "tags": []
   },
   "source": [
    "# Splitting Data and Setting Training Data Size OLD VERSION"
   ]
  },
  {
   "cell_type": "code",
   "execution_count": 24,
   "id": "acbc8f7d-8fc8-4e86-8c59-5dcb0f58384b",
   "metadata": {
    "execution": {
     "iopub.execute_input": "2025-07-30T21:06:38.561501Z",
     "iopub.status.busy": "2025-07-30T21:06:38.560862Z",
     "iopub.status.idle": "2025-07-30T21:06:38.566469Z",
     "shell.execute_reply": "2025-07-30T21:06:38.565453Z"
    },
    "papermill": {
     "duration": 0.031432,
     "end_time": "2025-07-30T21:06:38.568262",
     "exception": false,
     "start_time": "2025-07-30T21:06:38.536830",
     "status": "completed"
    },
    "tags": []
   },
   "outputs": [],
   "source": [
    "#def sample_by_year(df, training_size, random_state=42):\n",
    "#    if training_size == \"2014\":\n",
    "#        return df[df[\"year\"] == 2014].reset_index(drop=True)\n",
    "#    \n",
    "#    size_map = {\n",
    "#        \"25k\": 5000,\n",
    "#        \"5k\": 1000,\n",
    "#        \"1k\": 200\n",
    "#    }\n",
    "#\n",
    "#    if training_size not in size_map:\n",
    "#        return df.reset_index(drop=True)  # use all data\n",
    "#\n",
    "#    n_per_year = size_map[training_size]\n",
    "#    grouped = df.groupby(\"year\")\n",
    "#    sampled = grouped.apply(lambda x: x.sample(n=min(n_per_year, len(x)), random_state=random_state))\n",
    "#    return sampled.reset_index(drop=True)"
   ]
  },
  {
   "cell_type": "code",
   "execution_count": 25,
   "id": "6d931f52-beaf-43ff-9e78-9d44a448d54e",
   "metadata": {
    "execution": {
     "iopub.execute_input": "2025-07-30T21:06:38.616297Z",
     "iopub.status.busy": "2025-07-30T21:06:38.615813Z",
     "iopub.status.idle": "2025-07-30T21:06:38.620973Z",
     "shell.execute_reply": "2025-07-30T21:06:38.619941Z"
    },
    "papermill": {
     "duration": 0.030543,
     "end_time": "2025-07-30T21:06:38.622754",
     "exception": false,
     "start_time": "2025-07-30T21:06:38.592211",
     "status": "completed"
    },
    "tags": []
   },
   "outputs": [],
   "source": [
    "#siab_s = sample_by_year(siab, universe[\"training_size\"])"
   ]
  },
  {
   "cell_type": "code",
   "execution_count": 26,
   "id": "5db0a40e-a4e2-4920-be85-b12ae061d70d",
   "metadata": {
    "execution": {
     "iopub.execute_input": "2025-07-30T21:06:38.671169Z",
     "iopub.status.busy": "2025-07-30T21:06:38.670686Z",
     "iopub.status.idle": "2025-07-30T21:06:38.675884Z",
     "shell.execute_reply": "2025-07-30T21:06:38.674889Z"
    },
    "papermill": {
     "duration": 0.031138,
     "end_time": "2025-07-30T21:06:38.677926",
     "exception": false,
     "start_time": "2025-07-30T21:06:38.646788",
     "status": "completed"
    },
    "tags": []
   },
   "outputs": [],
   "source": [
    "#display(siab_s.groupby(\"year\").size())"
   ]
  },
  {
   "cell_type": "code",
   "execution_count": 27,
   "id": "e6c733c5",
   "metadata": {
    "execution": {
     "iopub.execute_input": "2025-07-30T21:06:38.726258Z",
     "iopub.status.busy": "2025-07-30T21:06:38.725814Z",
     "iopub.status.idle": "2025-07-30T21:06:38.819336Z",
     "shell.execute_reply": "2025-07-30T21:06:38.818369Z"
    },
    "papermill": {
     "duration": 0.119345,
     "end_time": "2025-07-30T21:06:38.821363",
     "exception": false,
     "start_time": "2025-07-30T21:06:38.702018",
     "status": "completed"
    },
    "tags": []
   },
   "outputs": [],
   "source": [
    "# Auxiliary data needed downstream in the pipeline\n",
    "\n",
    "org_train = X_train.copy()\n",
    "org_test = X_test.copy()\n",
    "org_calib = X_calib.copy()"
   ]
  },
  {
   "cell_type": "code",
   "execution_count": 28,
   "id": "1466abac-c6da-4492-a62f-4240ae3783af",
   "metadata": {
    "execution": {
     "iopub.execute_input": "2025-07-30T21:06:38.869861Z",
     "iopub.status.busy": "2025-07-30T21:06:38.868971Z",
     "iopub.status.idle": "2025-07-30T21:06:38.875236Z",
     "shell.execute_reply": "2025-07-30T21:06:38.874237Z"
    },
    "papermill": {
     "duration": 0.032142,
     "end_time": "2025-07-30T21:06:38.877137",
     "exception": false,
     "start_time": "2025-07-30T21:06:38.844995",
     "status": "completed"
    },
    "tags": []
   },
   "outputs": [],
   "source": [
    "# put in other script?\n",
    "# Group sizes\n",
    "\n",
    "#def calculate_percentages(df, df_name):\n",
    "#    total_entries = len(df)\n",
    "#\n",
    "#    female_pct = (df['frau1'] == 1).mean() * 100\n",
    "#    non_german_pct = ((df['maxdeutsch1'] == 0) & (df['maxdeutsch.Missing.'] == 0)).mean() * 100\n",
    "#    non_german_male_pct = ((df['frau1'] == 0) & (df['maxdeutsch1'] == 0) & (df['maxdeutsch.Missing.'] == 0)).mean() * 100\n",
    "#    non_german_female_pct = ((df['frau1'] == 1) & (df['maxdeutsch1'] == 0) & (df['maxdeutsch.Missing.'] == 0)).mean() * 100\n",
    "#\n",
    "#    print(f\"--- {df_name} ---\")\n",
    "#    print(f\"Female: {female_pct:.2f}%\")\n",
    "#    print(f\"Non-German: {non_german_pct:.2f}%\")\n",
    "#    print(f\"Non-German Male: {non_german_male_pct:.2f}%\")\n",
    "#    print(f\"Non-German Female: {non_german_female_pct:.2f}%\\n\")\n",
    "#\n",
    "## Calculate for each DataFrame\n",
    "#calculate_percentages(siab_calib, \"siab_calib\")\n",
    "#calculate_percentages(siab_test, \"siab_test\")\n",
    "#calculate_percentages(siab_train, \"siab_train\")"
   ]
  },
  {
   "cell_type": "markdown",
   "id": "0a4a1b33",
   "metadata": {
    "papermill": {
     "duration": 0.020695,
     "end_time": "2025-07-30T21:06:38.920418",
     "exception": false,
     "start_time": "2025-07-30T21:06:38.899723",
     "status": "completed"
    },
    "tags": []
   },
   "source": [
    "# Preprocessing Data"
   ]
  },
  {
   "cell_type": "code",
   "execution_count": 29,
   "id": "ca879031",
   "metadata": {
    "execution": {
     "iopub.execute_input": "2025-07-30T21:06:38.965178Z",
     "iopub.status.busy": "2025-07-30T21:06:38.964523Z",
     "iopub.status.idle": "2025-07-30T21:06:38.971336Z",
     "shell.execute_reply": "2025-07-30T21:06:38.970307Z"
    },
    "papermill": {
     "duration": 0.031923,
     "end_time": "2025-07-30T21:06:38.973052",
     "exception": false,
     "start_time": "2025-07-30T21:06:38.941129",
     "status": "completed"
    },
    "tags": []
   },
   "outputs": [],
   "source": [
    "# EXCLUDE PROTECTED FEATURES\n",
    "# ----------------------\n",
    "# \"exclude_features\": \"none\", # \"nationality\", \"sex\", \"nationality-sex\"\n",
    "\n",
    "excluded_features = universe[\"exclude_features\"].split(\"-\") # split, e.g.: \"nationality-sex\" -> [\"nationality\", \"sex\"]\n",
    "excluded_features_dictionary = {\n",
    "    \"nationality\": [\"maxdeutsch1\", \"maxdeutsch.Missing.\"],\n",
    "    \"sex\": [\"frau1\"],\n",
    "    \"age\": [\"age\"],\n",
    "}\n"
   ]
  },
  {
   "cell_type": "code",
   "execution_count": 30,
   "id": "b745ac60",
   "metadata": {
    "execution": {
     "iopub.execute_input": "2025-07-30T21:06:39.017532Z",
     "iopub.status.busy": "2025-07-30T21:06:39.016623Z",
     "iopub.status.idle": "2025-07-30T21:06:39.022620Z",
     "shell.execute_reply": "2025-07-30T21:06:39.021573Z"
    },
    "papermill": {
     "duration": 0.029557,
     "end_time": "2025-07-30T21:06:39.024479",
     "exception": false,
     "start_time": "2025-07-30T21:06:38.994922",
     "status": "completed"
    },
    "tags": []
   },
   "outputs": [],
   "source": [
    "# Code nice names to column names\n",
    "\n",
    "excluded_features_columns = [\n",
    "    excluded_features_dictionary[f] for f in excluded_features if len(f) > 0 and f != \"none\"\n",
    "]"
   ]
  },
  {
   "cell_type": "code",
   "execution_count": 31,
   "id": "f84f73a2",
   "metadata": {
    "execution": {
     "iopub.execute_input": "2025-07-30T21:06:39.067589Z",
     "iopub.status.busy": "2025-07-30T21:06:39.066974Z",
     "iopub.status.idle": "2025-07-30T21:06:39.073397Z",
     "shell.execute_reply": "2025-07-30T21:06:39.072563Z"
    },
    "papermill": {
     "duration": 0.029526,
     "end_time": "2025-07-30T21:06:39.074952",
     "exception": false,
     "start_time": "2025-07-30T21:06:39.045426",
     "status": "completed"
    },
    "tags": []
   },
   "outputs": [],
   "source": [
    "from utils import flatten_once\n",
    "\n",
    "excluded_features_columns = flatten_once(excluded_features_columns)"
   ]
  },
  {
   "cell_type": "code",
   "execution_count": 32,
   "id": "884dea22",
   "metadata": {
    "execution": {
     "iopub.execute_input": "2025-07-30T21:06:39.117551Z",
     "iopub.status.busy": "2025-07-30T21:06:39.116729Z",
     "iopub.status.idle": "2025-07-30T21:06:39.126169Z",
     "shell.execute_reply": "2025-07-30T21:06:39.125167Z"
    },
    "papermill": {
     "duration": 0.032121,
     "end_time": "2025-07-30T21:06:39.127768",
     "exception": false,
     "start_time": "2025-07-30T21:06:39.095647",
     "status": "completed"
    },
    "tags": []
   },
   "outputs": [
    {
     "name": "stdout",
     "output_type": "stream",
     "text": [
      "Dropping features: ['maxdeutsch1', 'maxdeutsch.Missing.', 'frau1']\n"
     ]
    }
   ],
   "source": [
    "if len(excluded_features_columns) > 0:\n",
    "    print(f\"Dropping features: {excluded_features_columns}\")\n",
    "    X_train.drop(excluded_features_columns, axis=1, inplace=True)"
   ]
  },
  {
   "cell_type": "code",
   "execution_count": 33,
   "id": "95ab8b16",
   "metadata": {
    "execution": {
     "iopub.execute_input": "2025-07-30T21:06:39.173405Z",
     "iopub.status.busy": "2025-07-30T21:06:39.172744Z",
     "iopub.status.idle": "2025-07-30T21:06:39.230656Z",
     "shell.execute_reply": "2025-07-30T21:06:39.229509Z"
    },
    "papermill": {
     "duration": 0.082151,
     "end_time": "2025-07-30T21:06:39.232462",
     "exception": false,
     "start_time": "2025-07-30T21:06:39.150311",
     "status": "completed"
    },
    "tags": []
   },
   "outputs": [
    {
     "name": "stdout",
     "output_type": "stream",
     "text": [
      "Dropping features: ['maxdeutsch1', 'maxdeutsch.Missing.', 'frau1']\n"
     ]
    }
   ],
   "source": [
    "if len(excluded_features_columns) > 0:\n",
    "    print(f\"Dropping features: {excluded_features_columns}\")\n",
    "    X_test.drop(excluded_features_columns, axis=1, inplace=True)"
   ]
  },
  {
   "cell_type": "code",
   "execution_count": 34,
   "id": "1853aaf5-fb9f-46cb-a2b5-8ea4ae2237e4",
   "metadata": {
    "execution": {
     "iopub.execute_input": "2025-07-30T21:06:39.278379Z",
     "iopub.status.busy": "2025-07-30T21:06:39.277894Z",
     "iopub.status.idle": "2025-07-30T21:06:39.332263Z",
     "shell.execute_reply": "2025-07-30T21:06:39.331151Z"
    },
    "papermill": {
     "duration": 0.078344,
     "end_time": "2025-07-30T21:06:39.334068",
     "exception": false,
     "start_time": "2025-07-30T21:06:39.255724",
     "status": "completed"
    },
    "tags": []
   },
   "outputs": [
    {
     "name": "stdout",
     "output_type": "stream",
     "text": [
      "Dropping features: ['maxdeutsch1', 'maxdeutsch.Missing.', 'frau1']\n"
     ]
    }
   ],
   "source": [
    "if len(excluded_features_columns) > 0:\n",
    "    print(f\"Dropping features: {excluded_features_columns}\")\n",
    "    X_calib.drop(excluded_features_columns, axis=1, inplace=True)"
   ]
  },
  {
   "cell_type": "code",
   "execution_count": 35,
   "id": "6727d079-03e5-481e-9d38-292a90b7a0a8",
   "metadata": {
    "execution": {
     "iopub.execute_input": "2025-07-30T21:06:39.380464Z",
     "iopub.status.busy": "2025-07-30T21:06:39.380066Z",
     "iopub.status.idle": "2025-07-30T21:06:39.384841Z",
     "shell.execute_reply": "2025-07-30T21:06:39.383901Z"
    },
    "papermill": {
     "duration": 0.02933,
     "end_time": "2025-07-30T21:06:39.386610",
     "exception": false,
     "start_time": "2025-07-30T21:06:39.357280",
     "status": "completed"
    },
    "tags": []
   },
   "outputs": [],
   "source": [
    "# SPLIT & STRATIFY DATA\n",
    "# ----------------------"
   ]
  },
  {
   "cell_type": "code",
   "execution_count": 36,
   "id": "76c4dc6d",
   "metadata": {
    "execution": {
     "iopub.execute_input": "2025-07-30T21:06:39.433836Z",
     "iopub.status.busy": "2025-07-30T21:06:39.433351Z",
     "iopub.status.idle": "2025-07-30T21:06:39.439158Z",
     "shell.execute_reply": "2025-07-30T21:06:39.438160Z"
    },
    "papermill": {
     "duration": 0.030922,
     "end_time": "2025-07-30T21:06:39.440951",
     "exception": false,
     "start_time": "2025-07-30T21:06:39.410029",
     "status": "completed"
    },
    "tags": []
   },
   "outputs": [],
   "source": [
    "# EXCLUDE CERTAIN SUBGROUPS\n",
    "# ----------------------\n",
    "\n",
    "mode = universe.get(\"exclude_subgroups\", \"keep-all\") \n",
    "# Fetches the exclude_subgroups setting from the universe dict.\n",
    "# Defaults to \"keep-all\" if the key is missing."
   ]
  },
  {
   "cell_type": "code",
   "execution_count": 37,
   "id": "21994072",
   "metadata": {
    "execution": {
     "iopub.execute_input": "2025-07-30T21:06:39.491732Z",
     "iopub.status.busy": "2025-07-30T21:06:39.491092Z",
     "iopub.status.idle": "2025-07-30T21:06:39.498329Z",
     "shell.execute_reply": "2025-07-30T21:06:39.497439Z"
    },
    "papermill": {
     "duration": 0.036131,
     "end_time": "2025-07-30T21:06:39.500096",
     "exception": false,
     "start_time": "2025-07-30T21:06:39.463965",
     "status": "completed"
    },
    "tags": []
   },
   "outputs": [],
   "source": [
    "if mode == \"keep-all\":\n",
    "    keep_mask = pd.Series(True, index=org_train.index)\n",
    "\n",
    "# org_train contains the original feature columns from features_org (in Simson)\n",
    "# features_org contains unprocessed features, for me X_train at beginning ???\n",
    "# For keep-all, creates a boolean Series (keep_mask) of all True, so no rows are removed.\n",
    "\n",
    "elif mode == \"drop-non-german\":\n",
    "    keep_mask = org_train[\"maxdeutsch1\"] == 1 # ??? what about missing values?\n",
    "\n",
    "else:\n",
    "    raise ValueError(f\"Unsupported mode for exclude_subgroups: {mode}\")\n"
   ]
  },
  {
   "cell_type": "code",
   "execution_count": 38,
   "id": "71651440",
   "metadata": {
    "execution": {
     "iopub.execute_input": "2025-07-30T21:06:39.547369Z",
     "iopub.status.busy": "2025-07-30T21:06:39.546932Z",
     "iopub.status.idle": "2025-07-30T21:06:39.553077Z",
     "shell.execute_reply": "2025-07-30T21:06:39.551982Z"
    },
    "papermill": {
     "duration": 0.031029,
     "end_time": "2025-07-30T21:06:39.554738",
     "exception": false,
     "start_time": "2025-07-30T21:06:39.523709",
     "status": "completed"
    },
    "tags": []
   },
   "outputs": [],
   "source": [
    "n_drop = (~keep_mask).sum() # Calculates how many rows are set to be dropped\n",
    "if n_drop > 0:\n",
    "    pct = n_drop / len(keep_mask) * 100\n",
    "    print(f\"Dropping {n_drop} rows ({pct:.2f}%) where mode='{mode}'\")"
   ]
  },
  {
   "cell_type": "code",
   "execution_count": 39,
   "id": "5fb8eee5",
   "metadata": {
    "execution": {
     "iopub.execute_input": "2025-07-30T21:06:39.601916Z",
     "iopub.status.busy": "2025-07-30T21:06:39.601420Z",
     "iopub.status.idle": "2025-07-30T21:06:39.608933Z",
     "shell.execute_reply": "2025-07-30T21:06:39.607879Z"
    },
    "papermill": {
     "duration": 0.033297,
     "end_time": "2025-07-30T21:06:39.610907",
     "exception": false,
     "start_time": "2025-07-30T21:06:39.577610",
     "status": "completed"
    },
    "tags": []
   },
   "outputs": [],
   "source": [
    "X_train = X_train[keep_mask]"
   ]
  },
  {
   "cell_type": "code",
   "execution_count": 40,
   "id": "b202bb3a",
   "metadata": {
    "execution": {
     "iopub.execute_input": "2025-07-30T21:06:39.661311Z",
     "iopub.status.busy": "2025-07-30T21:06:39.660838Z",
     "iopub.status.idle": "2025-07-30T21:06:39.666600Z",
     "shell.execute_reply": "2025-07-30T21:06:39.665753Z"
    },
    "papermill": {
     "duration": 0.031877,
     "end_time": "2025-07-30T21:06:39.668146",
     "exception": false,
     "start_time": "2025-07-30T21:06:39.636269",
     "status": "completed"
    },
    "tags": []
   },
   "outputs": [],
   "source": [
    "y_train = y_train[keep_mask]"
   ]
  },
  {
   "cell_type": "markdown",
   "id": "493e2ac3",
   "metadata": {
    "papermill": {
     "duration": 0.022602,
     "end_time": "2025-07-30T21:06:39.713420",
     "exception": false,
     "start_time": "2025-07-30T21:06:39.690818",
     "status": "completed"
    },
    "tags": []
   },
   "source": [
    "# Model Training"
   ]
  },
  {
   "cell_type": "code",
   "execution_count": 41,
   "id": "679e1268",
   "metadata": {
    "execution": {
     "iopub.execute_input": "2025-07-30T21:06:39.759999Z",
     "iopub.status.busy": "2025-07-30T21:06:39.759494Z",
     "iopub.status.idle": "2025-07-30T21:06:39.859565Z",
     "shell.execute_reply": "2025-07-30T21:06:39.858573Z"
    },
    "papermill": {
     "duration": 0.126088,
     "end_time": "2025-07-30T21:06:39.861714",
     "exception": false,
     "start_time": "2025-07-30T21:06:39.735626",
     "status": "completed"
    },
    "tags": []
   },
   "outputs": [],
   "source": [
    "from sklearn.linear_model import LogisticRegression\n",
    "from sklearn.ensemble import GradientBoostingClassifier, RandomForestClassifier\n",
    "\n",
    "if (universe[\"model\"] == \"logreg\"):\n",
    "    model = LogisticRegression() #penalty=\"none\") #, solver=\"newton-cg\", max_iter=1) # include random_state=19 ?\n",
    "elif (universe[\"model\"] == \"penalized_logreg\"):\n",
    "    model = LogisticRegression(penalty=\"l2\", C=1.0) #, solver=\"newton-cg\", max_iter=1)\n",
    "elif (universe[\"model\"] == \"rf\"):\n",
    "    model = RandomForestClassifier(n_estimators=100, n_jobs=-1)\n",
    "elif (universe[\"model\"] == \"gbm\"):\n",
    "    model = GradientBoostingClassifier()\n",
    "elif (universe[\"model\"] == \"elasticnet\"):\n",
    "    model = LogisticRegression(penalty = 'elasticnet', solver = 'saga', l1_ratio = 0.5, max_iter=5000) # which solver to use?\n",
    "else:\n",
    "    raise \"Unsupported universe.model\""
   ]
  },
  {
   "cell_type": "code",
   "execution_count": 42,
   "id": "0cc8f744",
   "metadata": {
    "execution": {
     "iopub.execute_input": "2025-07-30T21:06:39.908750Z",
     "iopub.status.busy": "2025-07-30T21:06:39.908205Z",
     "iopub.status.idle": "2025-07-30T21:06:39.915142Z",
     "shell.execute_reply": "2025-07-30T21:06:39.914046Z"
    },
    "papermill": {
     "duration": 0.031836,
     "end_time": "2025-07-30T21:06:39.916989",
     "exception": false,
     "start_time": "2025-07-30T21:06:39.885153",
     "status": "completed"
    },
    "tags": []
   },
   "outputs": [],
   "source": [
    "import numpy as np\n",
    "from sklearn.pipeline import Pipeline\n",
    "from sklearn.preprocessing import StandardScaler\n",
    "\n",
    "model = Pipeline([\n",
    "    #(\"continuous_processor\", continuous_processor),\n",
    "    #(\"categorical_preprocessor\", categorical_preprocessor),\n",
    "    (\"scale\", StandardScaler() if universe[\"scale\"] == \"scale\" else None), \n",
    "    (\"model\", model),\n",
    "])"
   ]
  },
  {
   "cell_type": "code",
   "execution_count": 43,
   "id": "9442c04d",
   "metadata": {
    "execution": {
     "iopub.execute_input": "2025-07-30T21:06:39.963838Z",
     "iopub.status.busy": "2025-07-30T21:06:39.963332Z",
     "iopub.status.idle": "2025-07-30T21:06:44.417721Z",
     "shell.execute_reply": "2025-07-30T21:06:44.416511Z"
    },
    "papermill": {
     "duration": 4.479265,
     "end_time": "2025-07-30T21:06:44.419415",
     "exception": false,
     "start_time": "2025-07-30T21:06:39.940150",
     "status": "completed"
    },
    "tags": []
   },
   "outputs": [
    {
     "data": {
      "text/html": [
       "<style>#sk-container-id-1 {color: black;background-color: white;}#sk-container-id-1 pre{padding: 0;}#sk-container-id-1 div.sk-toggleable {background-color: white;}#sk-container-id-1 label.sk-toggleable__label {cursor: pointer;display: block;width: 100%;margin-bottom: 0;padding: 0.3em;box-sizing: border-box;text-align: center;}#sk-container-id-1 label.sk-toggleable__label-arrow:before {content: \"▸\";float: left;margin-right: 0.25em;color: #696969;}#sk-container-id-1 label.sk-toggleable__label-arrow:hover:before {color: black;}#sk-container-id-1 div.sk-estimator:hover label.sk-toggleable__label-arrow:before {color: black;}#sk-container-id-1 div.sk-toggleable__content {max-height: 0;max-width: 0;overflow: hidden;text-align: left;background-color: #f0f8ff;}#sk-container-id-1 div.sk-toggleable__content pre {margin: 0.2em;color: black;border-radius: 0.25em;background-color: #f0f8ff;}#sk-container-id-1 input.sk-toggleable__control:checked~div.sk-toggleable__content {max-height: 200px;max-width: 100%;overflow: auto;}#sk-container-id-1 input.sk-toggleable__control:checked~label.sk-toggleable__label-arrow:before {content: \"▾\";}#sk-container-id-1 div.sk-estimator input.sk-toggleable__control:checked~label.sk-toggleable__label {background-color: #d4ebff;}#sk-container-id-1 div.sk-label input.sk-toggleable__control:checked~label.sk-toggleable__label {background-color: #d4ebff;}#sk-container-id-1 input.sk-hidden--visually {border: 0;clip: rect(1px 1px 1px 1px);clip: rect(1px, 1px, 1px, 1px);height: 1px;margin: -1px;overflow: hidden;padding: 0;position: absolute;width: 1px;}#sk-container-id-1 div.sk-estimator {font-family: monospace;background-color: #f0f8ff;border: 1px dotted black;border-radius: 0.25em;box-sizing: border-box;margin-bottom: 0.5em;}#sk-container-id-1 div.sk-estimator:hover {background-color: #d4ebff;}#sk-container-id-1 div.sk-parallel-item::after {content: \"\";width: 100%;border-bottom: 1px solid gray;flex-grow: 1;}#sk-container-id-1 div.sk-label:hover label.sk-toggleable__label {background-color: #d4ebff;}#sk-container-id-1 div.sk-serial::before {content: \"\";position: absolute;border-left: 1px solid gray;box-sizing: border-box;top: 0;bottom: 0;left: 50%;z-index: 0;}#sk-container-id-1 div.sk-serial {display: flex;flex-direction: column;align-items: center;background-color: white;padding-right: 0.2em;padding-left: 0.2em;position: relative;}#sk-container-id-1 div.sk-item {position: relative;z-index: 1;}#sk-container-id-1 div.sk-parallel {display: flex;align-items: stretch;justify-content: center;background-color: white;position: relative;}#sk-container-id-1 div.sk-item::before, #sk-container-id-1 div.sk-parallel-item::before {content: \"\";position: absolute;border-left: 1px solid gray;box-sizing: border-box;top: 0;bottom: 0;left: 50%;z-index: -1;}#sk-container-id-1 div.sk-parallel-item {display: flex;flex-direction: column;z-index: 1;position: relative;background-color: white;}#sk-container-id-1 div.sk-parallel-item:first-child::after {align-self: flex-end;width: 50%;}#sk-container-id-1 div.sk-parallel-item:last-child::after {align-self: flex-start;width: 50%;}#sk-container-id-1 div.sk-parallel-item:only-child::after {width: 0;}#sk-container-id-1 div.sk-dashed-wrapped {border: 1px dashed gray;margin: 0 0.4em 0.5em 0.4em;box-sizing: border-box;padding-bottom: 0.4em;background-color: white;}#sk-container-id-1 div.sk-label label {font-family: monospace;font-weight: bold;display: inline-block;line-height: 1.2em;}#sk-container-id-1 div.sk-label-container {text-align: center;}#sk-container-id-1 div.sk-container {/* jupyter's `normalize.less` sets `[hidden] { display: none; }` but bootstrap.min.css set `[hidden] { display: none !important; }` so we also need the `!important` here to be able to override the default hidden behavior on the sphinx rendered scikit-learn.org. See: https://github.com/scikit-learn/scikit-learn/issues/21755 */display: inline-block !important;position: relative;}#sk-container-id-1 div.sk-text-repr-fallback {display: none;}</style><div id=\"sk-container-id-1\" class=\"sk-top-container\"><div class=\"sk-text-repr-fallback\"><pre>Pipeline(steps=[(&#x27;scale&#x27;, None), (&#x27;model&#x27;, GradientBoostingClassifier())])</pre><b>In a Jupyter environment, please rerun this cell to show the HTML representation or trust the notebook. <br />On GitHub, the HTML representation is unable to render, please try loading this page with nbviewer.org.</b></div><div class=\"sk-container\" hidden><div class=\"sk-item sk-dashed-wrapped\"><div class=\"sk-label-container\"><div class=\"sk-label sk-toggleable\"><input class=\"sk-toggleable__control sk-hidden--visually\" id=\"sk-estimator-id-1\" type=\"checkbox\" ><label for=\"sk-estimator-id-1\" class=\"sk-toggleable__label sk-toggleable__label-arrow\">Pipeline</label><div class=\"sk-toggleable__content\"><pre>Pipeline(steps=[(&#x27;scale&#x27;, None), (&#x27;model&#x27;, GradientBoostingClassifier())])</pre></div></div></div><div class=\"sk-serial\"><div class=\"sk-item\"><div class=\"sk-estimator sk-toggleable\"><input class=\"sk-toggleable__control sk-hidden--visually\" id=\"sk-estimator-id-2\" type=\"checkbox\" ><label for=\"sk-estimator-id-2\" class=\"sk-toggleable__label sk-toggleable__label-arrow\">None</label><div class=\"sk-toggleable__content\"><pre>None</pre></div></div></div><div class=\"sk-item\"><div class=\"sk-estimator sk-toggleable\"><input class=\"sk-toggleable__control sk-hidden--visually\" id=\"sk-estimator-id-3\" type=\"checkbox\" ><label for=\"sk-estimator-id-3\" class=\"sk-toggleable__label sk-toggleable__label-arrow\">GradientBoostingClassifier</label><div class=\"sk-toggleable__content\"><pre>GradientBoostingClassifier()</pre></div></div></div></div></div></div></div>"
      ],
      "text/plain": [
       "Pipeline(steps=[('scale', None), ('model', GradientBoostingClassifier())])"
      ]
     },
     "execution_count": 43,
     "metadata": {},
     "output_type": "execute_result"
    }
   ],
   "source": [
    "model.fit(X_train, y_train.values.ravel())"
   ]
  },
  {
   "cell_type": "code",
   "execution_count": 44,
   "id": "af59f8c0",
   "metadata": {
    "execution": {
     "iopub.execute_input": "2025-07-30T21:06:44.465755Z",
     "iopub.status.busy": "2025-07-30T21:06:44.465070Z",
     "iopub.status.idle": "2025-07-30T21:06:44.471650Z",
     "shell.execute_reply": "2025-07-30T21:06:44.469847Z"
    },
    "papermill": {
     "duration": 0.031355,
     "end_time": "2025-07-30T21:06:44.473434",
     "exception": false,
     "start_time": "2025-07-30T21:06:44.442079",
     "status": "completed"
    },
    "tags": []
   },
   "outputs": [],
   "source": [
    "from fairness_multiverse.universe import predict_w_threshold"
   ]
  },
  {
   "cell_type": "code",
   "execution_count": 45,
   "id": "a7cf2e16",
   "metadata": {
    "execution": {
     "iopub.execute_input": "2025-07-30T21:06:44.525884Z",
     "iopub.status.busy": "2025-07-30T21:06:44.525370Z",
     "iopub.status.idle": "2025-07-30T21:06:45.156742Z",
     "shell.execute_reply": "2025-07-30T21:06:45.155769Z"
    },
    "papermill": {
     "duration": 0.659555,
     "end_time": "2025-07-30T21:06:45.158913",
     "exception": false,
     "start_time": "2025-07-30T21:06:44.499358",
     "status": "completed"
    },
    "tags": []
   },
   "outputs": [
    {
     "data": {
      "text/plain": [
       "0.8631590681083491"
      ]
     },
     "execution_count": 45,
     "metadata": {},
     "output_type": "execute_result"
    }
   ],
   "source": [
    "probs_test = model.predict_proba(X_test)\n",
    "\n",
    "'''\n",
    "Below code returns a boolean array (or binary 0/1 array depending on how it’s used) where each element \n",
    "is True if the probability of class 1 is greater than or equal to the threshold, and False otherwise.\n",
    "'''\n",
    "y_pred_default = predict_w_threshold(probs_test, 0.5)\n",
    "\n",
    "from sklearn.metrics import accuracy_score\n",
    "\n",
    "# Naive prediction\n",
    "accuracy_score(y_true = y_true, y_pred = y_pred_default)"
   ]
  },
  {
   "cell_type": "code",
   "execution_count": 46,
   "id": "081964c3",
   "metadata": {
    "execution": {
     "iopub.execute_input": "2025-07-30T21:06:45.217831Z",
     "iopub.status.busy": "2025-07-30T21:06:45.217189Z",
     "iopub.status.idle": "2025-07-30T21:06:45.835005Z",
     "shell.execute_reply": "2025-07-30T21:06:45.834093Z"
    },
    "papermill": {
     "duration": 0.645675,
     "end_time": "2025-07-30T21:06:45.836575",
     "exception": false,
     "start_time": "2025-07-30T21:06:45.190900",
     "status": "completed"
    },
    "tags": []
   },
   "outputs": [
    {
     "data": {
      "text/plain": [
       "array([0, 0, 0, ..., 0, 0, 0])"
      ]
     },
     "execution_count": 46,
     "metadata": {},
     "output_type": "execute_result"
    }
   ],
   "source": [
    "model.predict(X_test)"
   ]
  },
  {
   "cell_type": "markdown",
   "id": "56c9705b",
   "metadata": {
    "papermill": {
     "duration": 0.022261,
     "end_time": "2025-07-30T21:06:45.883981",
     "exception": false,
     "start_time": "2025-07-30T21:06:45.861720",
     "status": "completed"
    },
    "tags": []
   },
   "source": [
    "# Conformal Prediction"
   ]
  },
  {
   "cell_type": "code",
   "execution_count": 47,
   "id": "160ec6ff",
   "metadata": {
    "execution": {
     "iopub.execute_input": "2025-07-30T21:06:45.933197Z",
     "iopub.status.busy": "2025-07-30T21:06:45.932551Z",
     "iopub.status.idle": "2025-07-30T21:06:45.937520Z",
     "shell.execute_reply": "2025-07-30T21:06:45.936703Z"
    },
    "papermill": {
     "duration": 0.030874,
     "end_time": "2025-07-30T21:06:45.939013",
     "exception": false,
     "start_time": "2025-07-30T21:06:45.908139",
     "status": "completed"
    },
    "tags": []
   },
   "outputs": [],
   "source": [
    "# Miscoverage level for conformal prediction (10% allowed error rate => 90% target coverage)\n",
    "alpha = 0.1"
   ]
  },
  {
   "cell_type": "code",
   "execution_count": 48,
   "id": "eadf4555-3dd3-440e-8e35-f82a4ad9f855",
   "metadata": {
    "execution": {
     "iopub.execute_input": "2025-07-30T21:06:45.985336Z",
     "iopub.status.busy": "2025-07-30T21:06:45.984715Z",
     "iopub.status.idle": "2025-07-30T21:06:46.565631Z",
     "shell.execute_reply": "2025-07-30T21:06:46.564726Z"
    },
    "papermill": {
     "duration": 0.606103,
     "end_time": "2025-07-30T21:06:46.567549",
     "exception": false,
     "start_time": "2025-07-30T21:06:45.961446",
     "status": "completed"
    },
    "tags": []
   },
   "outputs": [],
   "source": [
    "probs_calib = model.predict_proba(X_calib)"
   ]
  },
  {
   "cell_type": "code",
   "execution_count": 49,
   "id": "2ed93547-6d5d-4983-9b36-1ecb300da49a",
   "metadata": {
    "execution": {
     "iopub.execute_input": "2025-07-30T21:06:46.615222Z",
     "iopub.status.busy": "2025-07-30T21:06:46.614363Z",
     "iopub.status.idle": "2025-07-30T21:06:46.619880Z",
     "shell.execute_reply": "2025-07-30T21:06:46.619002Z"
    },
    "papermill": {
     "duration": 0.030416,
     "end_time": "2025-07-30T21:06:46.621625",
     "exception": false,
     "start_time": "2025-07-30T21:06:46.591209",
     "status": "completed"
    },
    "tags": []
   },
   "outputs": [],
   "source": [
    "y_calib = y_calib.values.ravel().astype(int)"
   ]
  },
  {
   "cell_type": "code",
   "execution_count": 50,
   "id": "65d1320d-f588-4b38-9072-62af1ae97f7d",
   "metadata": {
    "execution": {
     "iopub.execute_input": "2025-07-30T21:06:46.670963Z",
     "iopub.status.busy": "2025-07-30T21:06:46.670330Z",
     "iopub.status.idle": "2025-07-30T21:06:46.677406Z",
     "shell.execute_reply": "2025-07-30T21:06:46.676531Z"
    },
    "papermill": {
     "duration": 0.032886,
     "end_time": "2025-07-30T21:06:46.678982",
     "exception": false,
     "start_time": "2025-07-30T21:06:46.646096",
     "status": "completed"
    },
    "tags": []
   },
   "outputs": [],
   "source": [
    "from fairness_multiverse.conformal import compute_nc_scores\n",
    "\n",
    "# Compute nonconformity scores on calibration set (1 - probability of true class)\n",
    "nc_scores = compute_nc_scores(probs_calib, y_calib)"
   ]
  },
  {
   "cell_type": "code",
   "execution_count": 51,
   "id": "df3b8ca3-53b7-43d5-9667-7c85da7aeda2",
   "metadata": {
    "execution": {
     "iopub.execute_input": "2025-07-30T21:06:46.728728Z",
     "iopub.status.busy": "2025-07-30T21:06:46.728097Z",
     "iopub.status.idle": "2025-07-30T21:06:46.734908Z",
     "shell.execute_reply": "2025-07-30T21:06:46.734023Z"
    },
    "papermill": {
     "duration": 0.033021,
     "end_time": "2025-07-30T21:06:46.736483",
     "exception": false,
     "start_time": "2025-07-30T21:06:46.703462",
     "status": "completed"
    },
    "tags": []
   },
   "outputs": [],
   "source": [
    "from fairness_multiverse.conformal import find_threshold\n",
    "\n",
    "# Find conformal threshold q_hat for the given alpha (split conformal method)\n",
    "q_hat = find_threshold(nc_scores, alpha)"
   ]
  },
  {
   "cell_type": "code",
   "execution_count": 52,
   "id": "4d29e6c1-0ef6-4aa4-b8fe-4fe79b0d033a",
   "metadata": {
    "execution": {
     "iopub.execute_input": "2025-07-30T21:06:46.789832Z",
     "iopub.status.busy": "2025-07-30T21:06:46.788734Z",
     "iopub.status.idle": "2025-07-30T21:06:46.795828Z",
     "shell.execute_reply": "2025-07-30T21:06:46.795149Z"
    },
    "papermill": {
     "duration": 0.035503,
     "end_time": "2025-07-30T21:06:46.797146",
     "exception": false,
     "start_time": "2025-07-30T21:06:46.761643",
     "status": "completed"
    },
    "tags": []
   },
   "outputs": [
    {
     "data": {
      "text/plain": [
       "0.6911211872885445"
      ]
     },
     "execution_count": 52,
     "metadata": {},
     "output_type": "execute_result"
    }
   ],
   "source": [
    "q_hat"
   ]
  },
  {
   "cell_type": "code",
   "execution_count": 53,
   "id": "92460794-cdac-4be2-ba28-f28c0515a6fb",
   "metadata": {
    "execution": {
     "iopub.execute_input": "2025-07-30T21:06:46.824698Z",
     "iopub.status.busy": "2025-07-30T21:06:46.824186Z",
     "iopub.status.idle": "2025-07-30T21:06:47.652851Z",
     "shell.execute_reply": "2025-07-30T21:06:47.652108Z"
    },
    "papermill": {
     "duration": 0.843755,
     "end_time": "2025-07-30T21:06:47.654259",
     "exception": false,
     "start_time": "2025-07-30T21:06:46.810504",
     "status": "completed"
    },
    "tags": []
   },
   "outputs": [],
   "source": [
    "from fairness_multiverse.conformal import predict_conformal_sets\n",
    "\n",
    "# Generate prediction sets for each test example\n",
    "pred_sets = predict_conformal_sets(model, X_test, q_hat)"
   ]
  },
  {
   "cell_type": "code",
   "execution_count": 54,
   "id": "d90c9a65-e6db-4f5d-80cd-e68fb7e46829",
   "metadata": {
    "execution": {
     "iopub.execute_input": "2025-07-30T21:06:47.683583Z",
     "iopub.status.busy": "2025-07-30T21:06:47.683089Z",
     "iopub.status.idle": "2025-07-30T21:06:47.687865Z",
     "shell.execute_reply": "2025-07-30T21:06:47.687090Z"
    },
    "papermill": {
     "duration": 0.019314,
     "end_time": "2025-07-30T21:06:47.689078",
     "exception": false,
     "start_time": "2025-07-30T21:06:47.669764",
     "status": "completed"
    },
    "tags": []
   },
   "outputs": [],
   "source": [
    "y_true = y_true.squeeze()"
   ]
  },
  {
   "cell_type": "code",
   "execution_count": 55,
   "id": "3a58a54a-1e68-46b9-927a-df01f18aebc8",
   "metadata": {
    "execution": {
     "iopub.execute_input": "2025-07-30T21:06:47.715996Z",
     "iopub.status.busy": "2025-07-30T21:06:47.715504Z",
     "iopub.status.idle": "2025-07-30T21:06:48.189221Z",
     "shell.execute_reply": "2025-07-30T21:06:48.188465Z"
    },
    "papermill": {
     "duration": 0.488557,
     "end_time": "2025-07-30T21:06:48.190706",
     "exception": false,
     "start_time": "2025-07-30T21:06:47.702149",
     "status": "completed"
    },
    "tags": []
   },
   "outputs": [],
   "source": [
    "from fairness_multiverse.conformal import evaluate_sets\n",
    "\n",
    "# Evaluate coverage and average set size on test data\n",
    "metrics = evaluate_sets(pred_sets, y_true)"
   ]
  },
  {
   "cell_type": "markdown",
   "id": "2b569c12-9aaa-4c88-98c9-bbcd0cf3ebb8",
   "metadata": {
    "papermill": {
     "duration": 0.01307,
     "end_time": "2025-07-30T21:06:48.216822",
     "exception": false,
     "start_time": "2025-07-30T21:06:48.203752",
     "status": "completed"
    },
    "tags": []
   },
   "source": [
    "# CP Metrics"
   ]
  },
  {
   "cell_type": "code",
   "execution_count": 56,
   "id": "5ce0a5cb-201f-45a0-ade5-94c7f0bd6095",
   "metadata": {
    "execution": {
     "iopub.execute_input": "2025-07-30T21:06:48.242767Z",
     "iopub.status.busy": "2025-07-30T21:06:48.242268Z",
     "iopub.status.idle": "2025-07-30T21:06:48.249064Z",
     "shell.execute_reply": "2025-07-30T21:06:48.248109Z"
    },
    "papermill": {
     "duration": 0.021244,
     "end_time": "2025-07-30T21:06:48.250394",
     "exception": false,
     "start_time": "2025-07-30T21:06:48.229150",
     "status": "completed"
    },
    "tags": []
   },
   "outputs": [
    {
     "data": {
      "text/plain": [
       "{'coverage': 0.9094080927432839, 'avg_size': 1.1230632036562256}"
      ]
     },
     "execution_count": 56,
     "metadata": {},
     "output_type": "execute_result"
    }
   ],
   "source": [
    "metrics"
   ]
  },
  {
   "cell_type": "code",
   "execution_count": 57,
   "id": "9b9a838d-31c9-430b-ae14-12baee460d17",
   "metadata": {
    "execution": {
     "iopub.execute_input": "2025-07-30T21:06:48.278004Z",
     "iopub.status.busy": "2025-07-30T21:06:48.277505Z",
     "iopub.status.idle": "2025-07-30T21:06:48.282799Z",
     "shell.execute_reply": "2025-07-30T21:06:48.282049Z"
    },
    "papermill": {
     "duration": 0.02018,
     "end_time": "2025-07-30T21:06:48.284181",
     "exception": false,
     "start_time": "2025-07-30T21:06:48.264001",
     "status": "completed"
    },
    "tags": []
   },
   "outputs": [],
   "source": [
    "example_universe = universe.copy()\n",
    "universe_training_year = example_universe.get(\"training_year\")\n",
    "universe_training_size = example_universe.get(\"training_size\")\n",
    "universe_scale = example_universe.get(\"scale\")\n",
    "universe_model = example_universe.get(\"model\")\n",
    "universe_exclude_features = example_universe.get(\"exclude_features\")\n",
    "universe_exclude_subgroups = example_universe.get(\"exclude_subgroups\")"
   ]
  },
  {
   "cell_type": "code",
   "execution_count": 58,
   "id": "f4b6a8ac-9dc0-4245-8a91-5b3b5999c4f9",
   "metadata": {
    "execution": {
     "iopub.execute_input": "2025-07-30T21:06:48.312286Z",
     "iopub.status.busy": "2025-07-30T21:06:48.311925Z",
     "iopub.status.idle": "2025-07-30T21:06:48.317356Z",
     "shell.execute_reply": "2025-07-30T21:06:48.316629Z"
    },
    "papermill": {
     "duration": 0.020727,
     "end_time": "2025-07-30T21:06:48.318648",
     "exception": false,
     "start_time": "2025-07-30T21:06:48.297921",
     "status": "completed"
    },
    "tags": []
   },
   "outputs": [],
   "source": [
    "cp_metrics_dict = {\n",
    "    \"universe_id\": [universe_id],\n",
    "    \"universe_training_year\": [universe_training_year],\n",
    "    \"universe_training_size\": [universe_training_size],\n",
    "    \"universe_scale\": [universe_scale],\n",
    "    \"universe_model\": [universe_model],\n",
    "    \"universe_exclude_features\": [universe_exclude_features],\n",
    "    \"universe_exclude_subgroups\": [universe_exclude_subgroups],\n",
    "    \"q_hat\": [q_hat],\n",
    "    \"coverage\": [metrics[\"coverage\"]],\n",
    "    \"avg_size\": [metrics[\"avg_size\"]],\n",
    "}"
   ]
  },
  {
   "cell_type": "code",
   "execution_count": 59,
   "id": "908acbb1-0371-4915-85ca-3fa520d2efe2",
   "metadata": {
    "execution": {
     "iopub.execute_input": "2025-07-30T21:06:48.346710Z",
     "iopub.status.busy": "2025-07-30T21:06:48.346369Z",
     "iopub.status.idle": "2025-07-30T21:06:48.352743Z",
     "shell.execute_reply": "2025-07-30T21:06:48.352022Z"
    },
    "papermill": {
     "duration": 0.021567,
     "end_time": "2025-07-30T21:06:48.354204",
     "exception": false,
     "start_time": "2025-07-30T21:06:48.332637",
     "status": "completed"
    },
    "tags": []
   },
   "outputs": [
    {
     "data": {
      "text/plain": [
       "{'universe_id': ['88e48f58bc0c4f1b7ea45db49f979eba'],\n",
       " 'universe_training_year': ['2012_14'],\n",
       " 'universe_training_size': ['5k'],\n",
       " 'universe_scale': ['do-not-scale'],\n",
       " 'universe_model': ['gbm'],\n",
       " 'universe_exclude_features': ['nationality-sex'],\n",
       " 'universe_exclude_subgroups': ['keep-all'],\n",
       " 'q_hat': [0.6911211872885445],\n",
       " 'coverage': [0.9094080927432839],\n",
       " 'avg_size': [1.1230632036562256]}"
      ]
     },
     "execution_count": 59,
     "metadata": {},
     "output_type": "execute_result"
    }
   ],
   "source": [
    "cp_metrics_dict"
   ]
  },
  {
   "cell_type": "code",
   "execution_count": 60,
   "id": "33007efc-14e9-4ec6-97ac-56a455c82265",
   "metadata": {
    "execution": {
     "iopub.execute_input": "2025-07-30T21:06:48.422099Z",
     "iopub.status.busy": "2025-07-30T21:06:48.421598Z",
     "iopub.status.idle": "2025-07-30T21:06:48.427400Z",
     "shell.execute_reply": "2025-07-30T21:06:48.426631Z"
    },
    "papermill": {
     "duration": 0.060491,
     "end_time": "2025-07-30T21:06:48.428745",
     "exception": false,
     "start_time": "2025-07-30T21:06:48.368254",
     "status": "completed"
    },
    "tags": []
   },
   "outputs": [],
   "source": [
    "cp_metrics_df = pd.DataFrame(cp_metrics_dict)"
   ]
  },
  {
   "cell_type": "code",
   "execution_count": 61,
   "id": "db12611b-57b2-4910-b9d0-355adfd6e7bf",
   "metadata": {
    "execution": {
     "iopub.execute_input": "2025-07-30T21:06:48.457506Z",
     "iopub.status.busy": "2025-07-30T21:06:48.457008Z",
     "iopub.status.idle": "2025-07-30T21:06:48.471083Z",
     "shell.execute_reply": "2025-07-30T21:06:48.470366Z"
    },
    "papermill": {
     "duration": 0.029551,
     "end_time": "2025-07-30T21:06:48.472513",
     "exception": false,
     "start_time": "2025-07-30T21:06:48.442962",
     "status": "completed"
    },
    "tags": []
   },
   "outputs": [
    {
     "data": {
      "text/html": [
       "<div>\n",
       "<style scoped>\n",
       "    .dataframe tbody tr th:only-of-type {\n",
       "        vertical-align: middle;\n",
       "    }\n",
       "\n",
       "    .dataframe tbody tr th {\n",
       "        vertical-align: top;\n",
       "    }\n",
       "\n",
       "    .dataframe thead th {\n",
       "        text-align: right;\n",
       "    }\n",
       "</style>\n",
       "<table border=\"1\" class=\"dataframe\">\n",
       "  <thead>\n",
       "    <tr style=\"text-align: right;\">\n",
       "      <th></th>\n",
       "      <th>universe_id</th>\n",
       "      <th>universe_training_year</th>\n",
       "      <th>universe_training_size</th>\n",
       "      <th>universe_scale</th>\n",
       "      <th>universe_model</th>\n",
       "      <th>universe_exclude_features</th>\n",
       "      <th>universe_exclude_subgroups</th>\n",
       "      <th>q_hat</th>\n",
       "      <th>coverage</th>\n",
       "      <th>avg_size</th>\n",
       "    </tr>\n",
       "  </thead>\n",
       "  <tbody>\n",
       "    <tr>\n",
       "      <th>0</th>\n",
       "      <td>88e48f58bc0c4f1b7ea45db49f979eba</td>\n",
       "      <td>2012_14</td>\n",
       "      <td>5k</td>\n",
       "      <td>do-not-scale</td>\n",
       "      <td>gbm</td>\n",
       "      <td>nationality-sex</td>\n",
       "      <td>keep-all</td>\n",
       "      <td>0.691121</td>\n",
       "      <td>0.909408</td>\n",
       "      <td>1.123063</td>\n",
       "    </tr>\n",
       "  </tbody>\n",
       "</table>\n",
       "</div>"
      ],
      "text/plain": [
       "                        universe_id universe_training_year  \\\n",
       "0  88e48f58bc0c4f1b7ea45db49f979eba                2012_14   \n",
       "\n",
       "  universe_training_size universe_scale universe_model  \\\n",
       "0                     5k   do-not-scale            gbm   \n",
       "\n",
       "  universe_exclude_features universe_exclude_subgroups     q_hat  coverage  \\\n",
       "0           nationality-sex                   keep-all  0.691121  0.909408   \n",
       "\n",
       "   avg_size  \n",
       "0  1.123063  "
      ]
     },
     "execution_count": 61,
     "metadata": {},
     "output_type": "execute_result"
    }
   ],
   "source": [
    "cp_metrics_df"
   ]
  },
  {
   "cell_type": "code",
   "execution_count": 62,
   "id": "b7fbde55-a0a1-47e4-9af6-fe4a17fa8c61",
   "metadata": {
    "execution": {
     "iopub.execute_input": "2025-07-30T21:06:48.500784Z",
     "iopub.status.busy": "2025-07-30T21:06:48.500285Z",
     "iopub.status.idle": "2025-07-30T21:06:48.505196Z",
     "shell.execute_reply": "2025-07-30T21:06:48.503984Z"
    },
    "papermill": {
     "duration": 0.019865,
     "end_time": "2025-07-30T21:06:48.506313",
     "exception": false,
     "start_time": "2025-07-30T21:06:48.486448",
     "status": "completed"
    },
    "tags": []
   },
   "outputs": [],
   "source": [
    "# Conditional Coverage & looking at subgroups"
   ]
  },
  {
   "cell_type": "code",
   "execution_count": 63,
   "id": "027ae886-68dd-4141-96c7-805a5450e1ef",
   "metadata": {
    "execution": {
     "iopub.execute_input": "2025-07-30T21:06:48.535826Z",
     "iopub.status.busy": "2025-07-30T21:06:48.535333Z",
     "iopub.status.idle": "2025-07-30T21:06:48.716546Z",
     "shell.execute_reply": "2025-07-30T21:06:48.715784Z"
    },
    "papermill": {
     "duration": 0.19696,
     "end_time": "2025-07-30T21:06:48.718012",
     "exception": false,
     "start_time": "2025-07-30T21:06:48.521052",
     "status": "completed"
    },
    "tags": []
   },
   "outputs": [],
   "source": [
    "from fairness_multiverse.conformal import build_cp_groups\n",
    "\n",
    "cp_groups_df = build_cp_groups(pred_sets, y_true, X_test.index, org_test)\n",
    "#needs universe_id and setting"
   ]
  },
  {
   "cell_type": "code",
   "execution_count": 64,
   "id": "01d5802c-663a-4d1f-9d69-e036faaffbf7",
   "metadata": {
    "execution": {
     "iopub.execute_input": "2025-07-30T21:06:48.746650Z",
     "iopub.status.busy": "2025-07-30T21:06:48.746160Z",
     "iopub.status.idle": "2025-07-30T21:06:48.750390Z",
     "shell.execute_reply": "2025-07-30T21:06:48.749593Z"
    },
    "papermill": {
     "duration": 0.019769,
     "end_time": "2025-07-30T21:06:48.751660",
     "exception": false,
     "start_time": "2025-07-30T21:06:48.731891",
     "status": "completed"
    },
    "tags": []
   },
   "outputs": [],
   "source": [
    "#delete\n",
    "#cp_groups_df"
   ]
  },
  {
   "cell_type": "code",
   "execution_count": 65,
   "id": "fa424af1-d1eb-443d-b717-2d279ada8408",
   "metadata": {
    "execution": {
     "iopub.execute_input": "2025-07-30T21:06:48.780739Z",
     "iopub.status.busy": "2025-07-30T21:06:48.780238Z",
     "iopub.status.idle": "2025-07-30T21:06:48.784686Z",
     "shell.execute_reply": "2025-07-30T21:06:48.783886Z"
    },
    "papermill": {
     "duration": 0.019808,
     "end_time": "2025-07-30T21:06:48.786021",
     "exception": false,
     "start_time": "2025-07-30T21:06:48.766213",
     "status": "completed"
    },
    "tags": []
   },
   "outputs": [],
   "source": [
    "#delete\n",
    "#percentage = (cp_groups_df['nongerman_female'] == 1).mean() * 100\n",
    "#print(percentage)\n"
   ]
  },
  {
   "cell_type": "code",
   "execution_count": 66,
   "id": "6cbdab96-b2b2-45af-ad54-d0516db2e28d",
   "metadata": {
    "execution": {
     "iopub.execute_input": "2025-07-30T21:06:48.814681Z",
     "iopub.status.busy": "2025-07-30T21:06:48.814335Z",
     "iopub.status.idle": "2025-07-30T21:06:50.010424Z",
     "shell.execute_reply": "2025-07-30T21:06:50.009555Z"
    },
    "papermill": {
     "duration": 1.211812,
     "end_time": "2025-07-30T21:06:50.012249",
     "exception": false,
     "start_time": "2025-07-30T21:06:48.800437",
     "status": "completed"
    },
    "tags": []
   },
   "outputs": [],
   "source": [
    "# Define covered = 1 if true_label is in the predicted set\n",
    "cp_groups_df['covered'] = cp_groups_df.apply(\n",
    "    lambda r: int(r['true_label'] in r['pred_set']),\n",
    "    axis=1\n",
    ")"
   ]
  },
  {
   "cell_type": "code",
   "execution_count": 67,
   "id": "338ff529-1a6b-4b87-a931-8e4788d52aad",
   "metadata": {
    "execution": {
     "iopub.execute_input": "2025-07-30T21:06:50.065199Z",
     "iopub.status.busy": "2025-07-30T21:06:50.064709Z",
     "iopub.status.idle": "2025-07-30T21:06:50.070640Z",
     "shell.execute_reply": "2025-07-30T21:06:50.069494Z"
    },
    "papermill": {
     "duration": 0.035389,
     "end_time": "2025-07-30T21:06:50.072463",
     "exception": false,
     "start_time": "2025-07-30T21:06:50.037074",
     "status": "completed"
    },
    "tags": []
   },
   "outputs": [],
   "source": [
    "#cp_groups_df"
   ]
  },
  {
   "cell_type": "code",
   "execution_count": 68,
   "id": "90032e27-66df-4540-9169-4e89cfbaa758",
   "metadata": {
    "execution": {
     "iopub.execute_input": "2025-07-30T21:06:50.127002Z",
     "iopub.status.busy": "2025-07-30T21:06:50.126178Z",
     "iopub.status.idle": "2025-07-30T21:06:50.140324Z",
     "shell.execute_reply": "2025-07-30T21:06:50.139264Z"
    },
    "papermill": {
     "duration": 0.043129,
     "end_time": "2025-07-30T21:06:50.142252",
     "exception": false,
     "start_time": "2025-07-30T21:06:50.099123",
     "status": "completed"
    },
    "tags": []
   },
   "outputs": [],
   "source": [
    "subgroups = ['frau1','nongerman','nongerman_male','nongerman_female']\n",
    "\n",
    "# Conditional coverage for subgroup==1\n",
    "cond_coverage = {\n",
    "    g: cp_groups_df.loc[cp_groups_df[g]==1, 'covered'].mean()\n",
    "    for g in subgroups\n",
    "}"
   ]
  },
  {
   "cell_type": "code",
   "execution_count": 69,
   "id": "1e348fb1-b9c3-45bc-ba23-f016827a7e0d",
   "metadata": {
    "execution": {
     "iopub.execute_input": "2025-07-30T21:06:50.197002Z",
     "iopub.status.busy": "2025-07-30T21:06:50.195868Z",
     "iopub.status.idle": "2025-07-30T21:06:50.204753Z",
     "shell.execute_reply": "2025-07-30T21:06:50.203593Z"
    },
    "papermill": {
     "duration": 0.038586,
     "end_time": "2025-07-30T21:06:50.206431",
     "exception": false,
     "start_time": "2025-07-30T21:06:50.167845",
     "status": "completed"
    },
    "tags": []
   },
   "outputs": [
    {
     "data": {
      "text/plain": [
       "{'frau1': 0.9049467583232241,\n",
       " 'nongerman': 0.9069780497389547,\n",
       " 'nongerman_male': 0.9242547059353328,\n",
       " 'nongerman_female': 0.8783904619970194}"
      ]
     },
     "execution_count": 69,
     "metadata": {},
     "output_type": "execute_result"
    }
   ],
   "source": [
    "cond_coverage"
   ]
  },
  {
   "cell_type": "code",
   "execution_count": 70,
   "id": "f5093324-c3dd-4d63-bc4c-8d945e5c8bbb",
   "metadata": {
    "execution": {
     "iopub.execute_input": "2025-07-30T21:06:50.260194Z",
     "iopub.status.busy": "2025-07-30T21:06:50.259554Z",
     "iopub.status.idle": "2025-07-30T21:06:50.272881Z",
     "shell.execute_reply": "2025-07-30T21:06:50.266041Z"
    },
    "papermill": {
     "duration": 0.042464,
     "end_time": "2025-07-30T21:06:50.274885",
     "exception": false,
     "start_time": "2025-07-30T21:06:50.232421",
     "status": "completed"
    },
    "tags": []
   },
   "outputs": [],
   "source": [
    "for subgroup, cov in cond_coverage.items():\n",
    "    cp_metrics_df[f\"cov_{subgroup}\"] = cov"
   ]
  },
  {
   "cell_type": "code",
   "execution_count": 71,
   "id": "6e872e10-dbe5-49e8-b554-5030c98ff75d",
   "metadata": {
    "execution": {
     "iopub.execute_input": "2025-07-30T21:06:50.327043Z",
     "iopub.status.busy": "2025-07-30T21:06:50.326141Z",
     "iopub.status.idle": "2025-07-30T21:06:50.344107Z",
     "shell.execute_reply": "2025-07-30T21:06:50.343180Z"
    },
    "papermill": {
     "duration": 0.042426,
     "end_time": "2025-07-30T21:06:50.345847",
     "exception": false,
     "start_time": "2025-07-30T21:06:50.303421",
     "status": "completed"
    },
    "tags": []
   },
   "outputs": [
    {
     "data": {
      "text/html": [
       "<div>\n",
       "<style scoped>\n",
       "    .dataframe tbody tr th:only-of-type {\n",
       "        vertical-align: middle;\n",
       "    }\n",
       "\n",
       "    .dataframe tbody tr th {\n",
       "        vertical-align: top;\n",
       "    }\n",
       "\n",
       "    .dataframe thead th {\n",
       "        text-align: right;\n",
       "    }\n",
       "</style>\n",
       "<table border=\"1\" class=\"dataframe\">\n",
       "  <thead>\n",
       "    <tr style=\"text-align: right;\">\n",
       "      <th></th>\n",
       "      <th>universe_id</th>\n",
       "      <th>universe_training_year</th>\n",
       "      <th>universe_training_size</th>\n",
       "      <th>universe_scale</th>\n",
       "      <th>universe_model</th>\n",
       "      <th>universe_exclude_features</th>\n",
       "      <th>universe_exclude_subgroups</th>\n",
       "      <th>q_hat</th>\n",
       "      <th>coverage</th>\n",
       "      <th>avg_size</th>\n",
       "      <th>cov_frau1</th>\n",
       "      <th>cov_nongerman</th>\n",
       "      <th>cov_nongerman_male</th>\n",
       "      <th>cov_nongerman_female</th>\n",
       "    </tr>\n",
       "  </thead>\n",
       "  <tbody>\n",
       "    <tr>\n",
       "      <th>0</th>\n",
       "      <td>88e48f58bc0c4f1b7ea45db49f979eba</td>\n",
       "      <td>2012_14</td>\n",
       "      <td>5k</td>\n",
       "      <td>do-not-scale</td>\n",
       "      <td>gbm</td>\n",
       "      <td>nationality-sex</td>\n",
       "      <td>keep-all</td>\n",
       "      <td>0.691121</td>\n",
       "      <td>0.909408</td>\n",
       "      <td>1.123063</td>\n",
       "      <td>0.904947</td>\n",
       "      <td>0.906978</td>\n",
       "      <td>0.924255</td>\n",
       "      <td>0.87839</td>\n",
       "    </tr>\n",
       "  </tbody>\n",
       "</table>\n",
       "</div>"
      ],
      "text/plain": [
       "                        universe_id universe_training_year  \\\n",
       "0  88e48f58bc0c4f1b7ea45db49f979eba                2012_14   \n",
       "\n",
       "  universe_training_size universe_scale universe_model  \\\n",
       "0                     5k   do-not-scale            gbm   \n",
       "\n",
       "  universe_exclude_features universe_exclude_subgroups     q_hat  coverage  \\\n",
       "0           nationality-sex                   keep-all  0.691121  0.909408   \n",
       "\n",
       "   avg_size  cov_frau1  cov_nongerman  cov_nongerman_male  \\\n",
       "0  1.123063   0.904947       0.906978            0.924255   \n",
       "\n",
       "   cov_nongerman_female  \n",
       "0               0.87839  "
      ]
     },
     "execution_count": 71,
     "metadata": {},
     "output_type": "execute_result"
    }
   ],
   "source": [
    "cp_metrics_df"
   ]
  },
  {
   "cell_type": "markdown",
   "id": "33774451",
   "metadata": {
    "papermill": {
     "duration": 0.01456,
     "end_time": "2025-07-30T21:06:50.378687",
     "exception": false,
     "start_time": "2025-07-30T21:06:50.364127",
     "status": "completed"
    },
    "tags": []
   },
   "source": [
    "# (Fairness) Metrics"
   ]
  },
  {
   "cell_type": "code",
   "execution_count": 72,
   "id": "debc5d62",
   "metadata": {
    "execution": {
     "iopub.execute_input": "2025-07-30T21:06:50.414598Z",
     "iopub.status.busy": "2025-07-30T21:06:50.414155Z",
     "iopub.status.idle": "2025-07-30T21:06:50.429559Z",
     "shell.execute_reply": "2025-07-30T21:06:50.428818Z"
    },
    "papermill": {
     "duration": 0.037797,
     "end_time": "2025-07-30T21:06:50.430994",
     "exception": false,
     "start_time": "2025-07-30T21:06:50.393197",
     "status": "completed"
    },
    "tags": []
   },
   "outputs": [],
   "source": [
    "# do I need to include maxdeutsch1.missing?\n",
    "\n",
    "import numpy as np\n",
    "\n",
    "colname_to_bin = \"maxdeutsch1\"\n",
    "majority_value = org_train[colname_to_bin].mode()[0]\n",
    "\n",
    "org_test[\"majmin\"] = np.where(org_test[colname_to_bin] == majority_value, \"majority\", \"minority\")"
   ]
  },
  {
   "cell_type": "code",
   "execution_count": 73,
   "id": "06a50de5",
   "metadata": {
    "execution": {
     "iopub.execute_input": "2025-07-30T21:06:50.473392Z",
     "iopub.status.busy": "2025-07-30T21:06:50.472941Z",
     "iopub.status.idle": "2025-07-30T21:06:53.436684Z",
     "shell.execute_reply": "2025-07-30T21:06:53.435444Z"
    },
    "papermill": {
     "duration": 2.993477,
     "end_time": "2025-07-30T21:06:53.438789",
     "exception": false,
     "start_time": "2025-07-30T21:06:50.445312",
     "status": "completed"
    },
    "tags": []
   },
   "outputs": [],
   "source": [
    "example_universe = universe.copy()\n",
    "example_universe[\"cutoff\"] = example_universe[\"cutoff\"][0]\n",
    "example_universe[\"eval_fairness_grouping\"] = example_universe[\"eval_fairness_grouping\"][0]\n",
    "fairness_dict, metric_frame = universe_analysis.compute_metrics(\n",
    "    example_universe,\n",
    "    y_pred_prob=probs_test,\n",
    "    y_test=y_true,\n",
    "    org_test=org_test,\n",
    ")"
   ]
  },
  {
   "cell_type": "markdown",
   "id": "f95d4e02",
   "metadata": {
    "papermill": {
     "duration": 0.056075,
     "end_time": "2025-07-30T21:06:53.526396",
     "exception": false,
     "start_time": "2025-07-30T21:06:53.470321",
     "status": "completed"
    },
    "tags": []
   },
   "source": [
    "# Overall"
   ]
  },
  {
   "cell_type": "markdown",
   "id": "bdee4871",
   "metadata": {
    "papermill": {
     "duration": 0.02547,
     "end_time": "2025-07-30T21:06:53.581381",
     "exception": false,
     "start_time": "2025-07-30T21:06:53.555911",
     "status": "completed"
    },
    "tags": []
   },
   "source": [
    "Fairness\n",
    "Main fairness target: Equalized Odds. Seems to be a better fit than equal opportunity, since we're not only interested in Y = 1. Seems to be a better fit than demographic parity, since we also care about accuracy, not just equal distribution of preds.\n",
    "\n",
    "Pick column for computation of fairness metrics\n",
    "\n",
    "Performance\n",
    "Overall performance measures, most interesting in relation to the measures split by group below"
   ]
  },
  {
   "cell_type": "code",
   "execution_count": 74,
   "id": "c4e067c6",
   "metadata": {
    "execution": {
     "iopub.execute_input": "2025-07-30T21:06:53.640090Z",
     "iopub.status.busy": "2025-07-30T21:06:53.639128Z",
     "iopub.status.idle": "2025-07-30T21:06:53.648422Z",
     "shell.execute_reply": "2025-07-30T21:06:53.647216Z"
    },
    "papermill": {
     "duration": 0.041118,
     "end_time": "2025-07-30T21:06:53.651474",
     "exception": false,
     "start_time": "2025-07-30T21:06:53.610356",
     "status": "completed"
    },
    "tags": []
   },
   "outputs": [
    {
     "data": {
      "text/plain": [
       "accuracy                   0.224579\n",
       "balanced accuracy          0.549084\n",
       "f1                         0.245905\n",
       "precision                  0.140477\n",
       "false positive rate        0.887407\n",
       "false negative rate        0.014425\n",
       "selection rate             0.900000\n",
       "count                  89710.000000\n",
       "dtype: float64"
      ]
     },
     "execution_count": 74,
     "metadata": {},
     "output_type": "execute_result"
    }
   ],
   "source": [
    "metric_frame.overall"
   ]
  },
  {
   "cell_type": "markdown",
   "id": "e968fe9d",
   "metadata": {
    "papermill": {
     "duration": 0.028389,
     "end_time": "2025-07-30T21:06:53.707427",
     "exception": false,
     "start_time": "2025-07-30T21:06:53.679038",
     "status": "completed"
    },
    "tags": []
   },
   "source": [
    "By Group"
   ]
  },
  {
   "cell_type": "code",
   "execution_count": 75,
   "id": "ec325bce",
   "metadata": {
    "execution": {
     "iopub.execute_input": "2025-07-30T21:06:53.760455Z",
     "iopub.status.busy": "2025-07-30T21:06:53.759669Z",
     "iopub.status.idle": "2025-07-30T21:06:53.777233Z",
     "shell.execute_reply": "2025-07-30T21:06:53.776070Z"
    },
    "papermill": {
     "duration": 0.045512,
     "end_time": "2025-07-30T21:06:53.779006",
     "exception": false,
     "start_time": "2025-07-30T21:06:53.733494",
     "status": "completed"
    },
    "tags": []
   },
   "outputs": [
    {
     "data": {
      "text/html": [
       "<div>\n",
       "<style scoped>\n",
       "    .dataframe tbody tr th:only-of-type {\n",
       "        vertical-align: middle;\n",
       "    }\n",
       "\n",
       "    .dataframe tbody tr th {\n",
       "        vertical-align: top;\n",
       "    }\n",
       "\n",
       "    .dataframe thead th {\n",
       "        text-align: right;\n",
       "    }\n",
       "</style>\n",
       "<table border=\"1\" class=\"dataframe\">\n",
       "  <thead>\n",
       "    <tr style=\"text-align: right;\">\n",
       "      <th></th>\n",
       "      <th>accuracy</th>\n",
       "      <th>balanced accuracy</th>\n",
       "      <th>f1</th>\n",
       "      <th>precision</th>\n",
       "      <th>false positive rate</th>\n",
       "      <th>false negative rate</th>\n",
       "      <th>selection rate</th>\n",
       "      <th>count</th>\n",
       "    </tr>\n",
       "    <tr>\n",
       "      <th>majmin</th>\n",
       "      <th></th>\n",
       "      <th></th>\n",
       "      <th></th>\n",
       "      <th></th>\n",
       "      <th></th>\n",
       "      <th></th>\n",
       "      <th></th>\n",
       "      <th></th>\n",
       "    </tr>\n",
       "  </thead>\n",
       "  <tbody>\n",
       "    <tr>\n",
       "      <th>majority</th>\n",
       "      <td>0.245222</td>\n",
       "      <td>0.558194</td>\n",
       "      <td>0.256169</td>\n",
       "      <td>0.147261</td>\n",
       "      <td>0.86720</td>\n",
       "      <td>0.016411</td>\n",
       "      <td>0.882579</td>\n",
       "      <td>69170.0</td>\n",
       "    </tr>\n",
       "    <tr>\n",
       "      <th>minority</th>\n",
       "      <td>0.155063</td>\n",
       "      <td>0.519541</td>\n",
       "      <td>0.213246</td>\n",
       "      <td>0.119445</td>\n",
       "      <td>0.95416</td>\n",
       "      <td>0.006757</td>\n",
       "      <td>0.958666</td>\n",
       "      <td>20540.0</td>\n",
       "    </tr>\n",
       "  </tbody>\n",
       "</table>\n",
       "</div>"
      ],
      "text/plain": [
       "          accuracy  balanced accuracy        f1  precision  \\\n",
       "majmin                                                       \n",
       "majority  0.245222           0.558194  0.256169   0.147261   \n",
       "minority  0.155063           0.519541  0.213246   0.119445   \n",
       "\n",
       "          false positive rate  false negative rate  selection rate    count  \n",
       "majmin                                                                       \n",
       "majority              0.86720             0.016411        0.882579  69170.0  \n",
       "minority              0.95416             0.006757        0.958666  20540.0  "
      ]
     },
     "execution_count": 75,
     "metadata": {},
     "output_type": "execute_result"
    }
   ],
   "source": [
    "metric_frame.by_group"
   ]
  },
  {
   "cell_type": "code",
   "execution_count": 76,
   "id": "a9ddbe63",
   "metadata": {
    "execution": {
     "iopub.execute_input": "2025-07-30T21:06:53.837655Z",
     "iopub.status.busy": "2025-07-30T21:06:53.837010Z",
     "iopub.status.idle": "2025-07-30T21:06:55.864277Z",
     "shell.execute_reply": "2025-07-30T21:06:55.863490Z"
    },
    "papermill": {
     "duration": 2.058108,
     "end_time": "2025-07-30T21:06:55.866349",
     "exception": false,
     "start_time": "2025-07-30T21:06:53.808241",
     "status": "completed"
    },
    "tags": []
   },
   "outputs": [
    {
     "data": {
      "text/plain": [
       "array([[<Axes: title={'center': 'accuracy'}, xlabel='majmin'>,\n",
       "        <Axes: title={'center': 'balanced accuracy'}, xlabel='majmin'>,\n",
       "        <Axes: title={'center': 'f1'}, xlabel='majmin'>],\n",
       "       [<Axes: title={'center': 'precision'}, xlabel='majmin'>,\n",
       "        <Axes: title={'center': 'false positive rate'}, xlabel='majmin'>,\n",
       "        <Axes: title={'center': 'false negative rate'}, xlabel='majmin'>],\n",
       "       [<Axes: title={'center': 'selection rate'}, xlabel='majmin'>,\n",
       "        <Axes: title={'center': 'count'}, xlabel='majmin'>,\n",
       "        <Axes: xlabel='majmin'>]], dtype=object)"
      ]
     },
     "execution_count": 76,
     "metadata": {},
     "output_type": "execute_result"
    },
    {
     "data": {
      "image/png": "[encoded data removed]",
      "text/plain": [
       "<Figure size 1200x800 with 9 Axes>"
      ]
     },
     "metadata": {},
     "output_type": "display_data"
    }
   ],
   "source": [
    "# In a graphic\n",
    "metric_frame.by_group.plot.bar(\n",
    "    subplots=True,\n",
    "    layout=[3, 3],\n",
    "    legend=False,\n",
    "    figsize=[12, 8],\n",
    "    title=\"Show all metrics\",\n",
    ")"
   ]
  },
  {
   "cell_type": "markdown",
   "id": "f57a0bac",
   "metadata": {
    "papermill": {
     "duration": 0.034907,
     "end_time": "2025-07-30T21:06:55.937276",
     "exception": false,
     "start_time": "2025-07-30T21:06:55.902369",
     "status": "completed"
    },
    "tags": []
   },
   "source": [
    "# Final Output"
   ]
  },
  {
   "cell_type": "code",
   "execution_count": 77,
   "id": "96d280a3",
   "metadata": {
    "execution": {
     "iopub.execute_input": "2025-07-30T21:06:56.017422Z",
     "iopub.status.busy": "2025-07-30T21:06:56.016741Z",
     "iopub.status.idle": "2025-07-30T21:06:56.025517Z",
     "shell.execute_reply": "2025-07-30T21:06:56.024562Z"
    },
    "papermill": {
     "duration": 0.051991,
     "end_time": "2025-07-30T21:06:56.027194",
     "exception": false,
     "start_time": "2025-07-30T21:06:55.975203",
     "status": "completed"
    },
    "tags": []
   },
   "outputs": [
    {
     "data": {
      "text/plain": [
       "4"
      ]
     },
     "execution_count": 77,
     "metadata": {},
     "output_type": "execute_result"
    }
   ],
   "source": [
    "sub_universes = universe_analysis.generate_sub_universes()\n",
    "len(sub_universes)"
   ]
  },
  {
   "cell_type": "code",
   "execution_count": 78,
   "id": "92adf7ba",
   "metadata": {
    "execution": {
     "iopub.execute_input": "2025-07-30T21:06:56.087790Z",
     "iopub.status.busy": "2025-07-30T21:06:56.087211Z",
     "iopub.status.idle": "2025-07-30T21:06:56.093489Z",
     "shell.execute_reply": "2025-07-30T21:06:56.092423Z"
    },
    "papermill": {
     "duration": 0.038678,
     "end_time": "2025-07-30T21:06:56.095095",
     "exception": false,
     "start_time": "2025-07-30T21:06:56.056417",
     "status": "completed"
    },
    "tags": []
   },
   "outputs": [],
   "source": [
    "def filter_sub_universe_data(sub_universe, org_test):\n",
    "    # Keep all rows — no filtering\n",
    "    keep_rows_mask = np.ones(org_test.shape[0], dtype=bool)\n",
    "\n",
    "    print(f\"[INFO] Keeping all rows: {keep_rows_mask.sum()} rows retained.\")\n",
    "    return keep_rows_mask"
   ]
  },
  {
   "cell_type": "code",
   "execution_count": 79,
   "id": "4a759155",
   "metadata": {
    "execution": {
     "iopub.execute_input": "2025-07-30T21:06:56.156238Z",
     "iopub.status.busy": "2025-07-30T21:06:56.155426Z",
     "iopub.status.idle": "2025-07-30T21:07:06.826008Z",
     "shell.execute_reply": "2025-07-30T21:07:06.824969Z"
    },
    "papermill": {
     "duration": 10.702854,
     "end_time": "2025-07-30T21:07:06.827558",
     "exception": false,
     "start_time": "2025-07-30T21:06:56.124704",
     "status": "completed"
    },
    "tags": []
   },
   "outputs": [
    {
     "name": "stdout",
     "output_type": "stream",
     "text": [
      "Stopping execution_time clock.\n",
      "[INFO] Keeping all rows: 89710 rows retained.\n"
     ]
    },
    {
     "name": "stdout",
     "output_type": "stream",
     "text": [
      "[INFO] Keeping all rows: 89710 rows retained.\n"
     ]
    },
    {
     "name": "stdout",
     "output_type": "stream",
     "text": [
      "[INFO] Keeping all rows: 89710 rows retained.\n"
     ]
    },
    {
     "name": "stdout",
     "output_type": "stream",
     "text": [
      "[INFO] Keeping all rows: 89710 rows retained.\n"
     ]
    },
    {
     "data": {
      "text/html": [
       "<div>\n",
       "<style scoped>\n",
       "    .dataframe tbody tr th:only-of-type {\n",
       "        vertical-align: middle;\n",
       "    }\n",
       "\n",
       "    .dataframe tbody tr th {\n",
       "        vertical-align: top;\n",
       "    }\n",
       "\n",
       "    .dataframe thead th {\n",
       "        text-align: right;\n",
       "    }\n",
       "</style>\n",
       "<table border=\"1\" class=\"dataframe\">\n",
       "  <thead>\n",
       "    <tr style=\"text-align: right;\">\n",
       "      <th></th>\n",
       "      <th>run_no</th>\n",
       "      <th>universe_id</th>\n",
       "      <th>universe_settings</th>\n",
       "      <th>execution_time</th>\n",
       "      <th>test_size_n</th>\n",
       "      <th>test_size_frac</th>\n",
       "      <th>fair_main_equalized_odds_difference</th>\n",
       "      <th>fair_main_equalized_odds_ratio</th>\n",
       "      <th>fair_main_demographic_parity_difference</th>\n",
       "      <th>fair_main_demographic_parity_ratio</th>\n",
       "      <th>...</th>\n",
       "      <th>perf_grp_precision_0</th>\n",
       "      <th>perf_grp_precision_1</th>\n",
       "      <th>perf_grp_false positive rate_0</th>\n",
       "      <th>perf_grp_false positive rate_1</th>\n",
       "      <th>perf_grp_false negative rate_0</th>\n",
       "      <th>perf_grp_false negative rate_1</th>\n",
       "      <th>perf_grp_selection rate_0</th>\n",
       "      <th>perf_grp_selection rate_1</th>\n",
       "      <th>perf_grp_count_0</th>\n",
       "      <th>perf_grp_count_1</th>\n",
       "    </tr>\n",
       "  </thead>\n",
       "  <tbody>\n",
       "    <tr>\n",
       "      <th>0</th>\n",
       "      <td>14</td>\n",
       "      <td>88e48f58bc0c4f1b7ea45db49f979eba</td>\n",
       "      <td>{\"cutoff\": \"quantile_0.1\", \"eval_fairness_grou...</td>\n",
       "      <td>32.564805</td>\n",
       "      <td>89710</td>\n",
       "      <td>1.0</td>\n",
       "      <td>0.086961</td>\n",
       "      <td>0.908862</td>\n",
       "      <td>0.076087</td>\n",
       "      <td>0.920633</td>\n",
       "      <td>...</td>\n",
       "      <td>NaN</td>\n",
       "      <td>NaN</td>\n",
       "      <td>NaN</td>\n",
       "      <td>NaN</td>\n",
       "      <td>NaN</td>\n",
       "      <td>NaN</td>\n",
       "      <td>NaN</td>\n",
       "      <td>NaN</td>\n",
       "      <td>NaN</td>\n",
       "      <td>NaN</td>\n",
       "    </tr>\n",
       "    <tr>\n",
       "      <th>0</th>\n",
       "      <td>14</td>\n",
       "      <td>88e48f58bc0c4f1b7ea45db49f979eba</td>\n",
       "      <td>{\"cutoff\": \"quantile_0.1\", \"eval_fairness_grou...</td>\n",
       "      <td>32.564805</td>\n",
       "      <td>89710</td>\n",
       "      <td>1.0</td>\n",
       "      <td>0.086961</td>\n",
       "      <td>0.908862</td>\n",
       "      <td>0.076087</td>\n",
       "      <td>0.920633</td>\n",
       "      <td>...</td>\n",
       "      <td>0.119445</td>\n",
       "      <td>0.147261</td>\n",
       "      <td>0.954160</td>\n",
       "      <td>0.867200</td>\n",
       "      <td>0.006757</td>\n",
       "      <td>0.016411</td>\n",
       "      <td>0.958666</td>\n",
       "      <td>0.882579</td>\n",
       "      <td>20540.0</td>\n",
       "      <td>69170.0</td>\n",
       "    </tr>\n",
       "    <tr>\n",
       "      <th>0</th>\n",
       "      <td>14</td>\n",
       "      <td>88e48f58bc0c4f1b7ea45db49f979eba</td>\n",
       "      <td>{\"cutoff\": \"quantile_0.25\", \"eval_fairness_gro...</td>\n",
       "      <td>32.564805</td>\n",
       "      <td>89710</td>\n",
       "      <td>1.0</td>\n",
       "      <td>0.103975</td>\n",
       "      <td>0.870249</td>\n",
       "      <td>0.086576</td>\n",
       "      <td>0.893999</td>\n",
       "      <td>...</td>\n",
       "      <td>NaN</td>\n",
       "      <td>NaN</td>\n",
       "      <td>NaN</td>\n",
       "      <td>NaN</td>\n",
       "      <td>NaN</td>\n",
       "      <td>NaN</td>\n",
       "      <td>NaN</td>\n",
       "      <td>NaN</td>\n",
       "      <td>NaN</td>\n",
       "      <td>NaN</td>\n",
       "    </tr>\n",
       "    <tr>\n",
       "      <th>0</th>\n",
       "      <td>14</td>\n",
       "      <td>88e48f58bc0c4f1b7ea45db49f979eba</td>\n",
       "      <td>{\"cutoff\": \"quantile_0.25\", \"eval_fairness_gro...</td>\n",
       "      <td>32.564805</td>\n",
       "      <td>89710</td>\n",
       "      <td>1.0</td>\n",
       "      <td>0.103975</td>\n",
       "      <td>0.870249</td>\n",
       "      <td>0.086576</td>\n",
       "      <td>0.893999</td>\n",
       "      <td>...</td>\n",
       "      <td>0.131974</td>\n",
       "      <td>0.171128</td>\n",
       "      <td>0.801343</td>\n",
       "      <td>0.697368</td>\n",
       "      <td>0.065034</td>\n",
       "      <td>0.054376</td>\n",
       "      <td>0.816748</td>\n",
       "      <td>0.730172</td>\n",
       "      <td>20540.0</td>\n",
       "      <td>69170.0</td>\n",
       "    </tr>\n",
       "  </tbody>\n",
       "</table>\n",
       "<p>4 rows × 50 columns</p>\n",
       "</div>"
      ],
      "text/plain": [
       "  run_no                       universe_id  \\\n",
       "0     14  88e48f58bc0c4f1b7ea45db49f979eba   \n",
       "0     14  88e48f58bc0c4f1b7ea45db49f979eba   \n",
       "0     14  88e48f58bc0c4f1b7ea45db49f979eba   \n",
       "0     14  88e48f58bc0c4f1b7ea45db49f979eba   \n",
       "\n",
       "                                   universe_settings  execution_time  \\\n",
       "0  {\"cutoff\": \"quantile_0.1\", \"eval_fairness_grou...       32.564805   \n",
       "0  {\"cutoff\": \"quantile_0.1\", \"eval_fairness_grou...       32.564805   \n",
       "0  {\"cutoff\": \"quantile_0.25\", \"eval_fairness_gro...       32.564805   \n",
       "0  {\"cutoff\": \"quantile_0.25\", \"eval_fairness_gro...       32.564805   \n",
       "\n",
       "   test_size_n  test_size_frac  fair_main_equalized_odds_difference  \\\n",
       "0        89710             1.0                             0.086961   \n",
       "0        89710             1.0                             0.086961   \n",
       "0        89710             1.0                             0.103975   \n",
       "0        89710             1.0                             0.103975   \n",
       "\n",
       "   fair_main_equalized_odds_ratio  fair_main_demographic_parity_difference  \\\n",
       "0                        0.908862                                 0.076087   \n",
       "0                        0.908862                                 0.076087   \n",
       "0                        0.870249                                 0.086576   \n",
       "0                        0.870249                                 0.086576   \n",
       "\n",
       "   fair_main_demographic_parity_ratio  ...  perf_grp_precision_0  \\\n",
       "0                            0.920633  ...                   NaN   \n",
       "0                            0.920633  ...              0.119445   \n",
       "0                            0.893999  ...                   NaN   \n",
       "0                            0.893999  ...              0.131974   \n",
       "\n",
       "   perf_grp_precision_1  perf_grp_false positive rate_0  \\\n",
       "0                   NaN                             NaN   \n",
       "0              0.147261                        0.954160   \n",
       "0                   NaN                             NaN   \n",
       "0              0.171128                        0.801343   \n",
       "\n",
       "   perf_grp_false positive rate_1  perf_grp_false negative rate_0  \\\n",
       "0                             NaN                             NaN   \n",
       "0                        0.867200                        0.006757   \n",
       "0                             NaN                             NaN   \n",
       "0                        0.697368                        0.065034   \n",
       "\n",
       "   perf_grp_false negative rate_1  perf_grp_selection rate_0  \\\n",
       "0                             NaN                        NaN   \n",
       "0                        0.016411                   0.958666   \n",
       "0                             NaN                        NaN   \n",
       "0                        0.054376                   0.816748   \n",
       "\n",
       "   perf_grp_selection rate_1  perf_grp_count_0  perf_grp_count_1  \n",
       "0                        NaN               NaN               NaN  \n",
       "0                   0.882579           20540.0           69170.0  \n",
       "0                        NaN               NaN               NaN  \n",
       "0                   0.730172           20540.0           69170.0  \n",
       "\n",
       "[4 rows x 50 columns]"
      ]
     },
     "execution_count": 79,
     "metadata": {},
     "output_type": "execute_result"
    }
   ],
   "source": [
    "final_output = universe_analysis.generate_final_output(\n",
    "    y_pred_prob=probs_test,\n",
    "    y_test=y_true,\n",
    "    org_test=org_test,\n",
    "    filter_data=filter_sub_universe_data,\n",
    "    cp_metrics_df=cp_metrics_df,\n",
    "    save=True,\n",
    ")\n",
    "final_output"
   ]
  },
  {
   "cell_type": "code",
   "execution_count": null,
   "id": "721ff514-cb11-46f8-b6fc-50392f74b5cb",
   "metadata": {
    "papermill": {
     "duration": 0.030871,
     "end_time": "2025-07-30T21:07:06.891250",
     "exception": false,
     "start_time": "2025-07-30T21:07:06.860379",
     "status": "completed"
    },
    "tags": []
   },
   "outputs": [],
   "source": []
  }
 ],
 "metadata": {
  "celltoolbar": "Tags",
  "kernelspec": {
   "display_name": "Python (CMA Fairness)",
   "language": "python",
   "name": "cma_fair_env"
  },
  "language_info": {
   "codemirror_mode": {
    "name": "ipython",
    "version": 3
   },
   "file_extension": ".py",
   "mimetype": "text/x-python",
   "name": "python",
   "nbconvert_exporter": "python",
   "pygments_lexer": "ipython3",
   "version": "3.10.12"
  },
  "papermill": {
   "default_parameters": {},
   "duration": 47.47461,
   "end_time": "2025-07-30T21:07:07.638882",
   "environment_variables": {},
   "exception": null,
   "input_path": "universe_analysis.ipynb",
   "output_path": "output/runs/14/notebooks/m_14-88e48f58bc0c4f1b7ea45db49f979eba.ipynb",
   "parameters": {
    "output_dir": "output",
    "run_no": "14",
    "seed": "2023",
    "universe": "{\"cutoff\": [\"quantile_0.1\", \"quantile_0.25\"], \"eval_fairness_grouping\": [\"majority-minority\", \"nationality-all\"], \"exclude_features\": \"nationality-sex\", \"exclude_subgroups\": \"keep-all\", \"model\": \"gbm\", \"scale\": \"do-not-scale\", \"training_size\": \"5k\", \"training_year\": \"2012_14\"}",
    "universe_id": "88e48f58bc0c4f1b7ea45db49f979eba"
   },
   "start_time": "2025-07-30T21:06:20.164272",
   "version": "2.6.0"
  }
 },
 "nbformat": 4,
 "nbformat_minor": 5
}