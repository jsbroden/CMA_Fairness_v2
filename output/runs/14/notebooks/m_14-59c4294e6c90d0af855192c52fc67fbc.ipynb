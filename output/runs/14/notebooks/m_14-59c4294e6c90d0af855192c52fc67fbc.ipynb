{
 "cells": [
  {
   "cell_type": "code",
   "execution_count": 1,
   "id": "f159f837-637b-42ba-96b5-ec9a68c44524",
   "metadata": {
    "execution": {
     "iopub.execute_input": "2025-07-30T21:30:23.789743Z",
     "iopub.status.busy": "2025-07-30T21:30:23.788709Z",
     "iopub.status.idle": "2025-07-30T21:30:23.802868Z",
     "shell.execute_reply": "2025-07-30T21:30:23.801983Z"
    },
    "papermill": {
     "duration": 0.044231,
     "end_time": "2025-07-30T21:30:23.806898",
     "exception": false,
     "start_time": "2025-07-30T21:30:23.762667",
     "status": "completed"
    },
    "tags": []
   },
   "outputs": [
    {
     "name": "stdout",
     "output_type": "stream",
     "text": [
      "/dss/dsshome1/0C/ra93lal2/cma/CMA_Fairness_v2\n"
     ]
    },
    {
     "name": "stderr",
     "output_type": "stream",
     "text": [
      "/dss/dsshome1/0C/ra93lal2/.local/share/virtualenvs/CMA_Fairness_v2-3j10GkSs/lib/python3.10/site-packages/IPython/core/magics/osm.py:393: UserWarning: This is now an optional IPython functionality, using bookmarks requires you to install the `pickleshare` library.\n",
      "  bkms = self.shell.db.get('bookmarks', {})\n",
      "/dss/dsshome1/0C/ra93lal2/.local/share/virtualenvs/CMA_Fairness_v2-3j10GkSs/lib/python3.10/site-packages/IPython/core/magics/osm.py:417: UserWarning: This is now an optional IPython functionality, setting dhist requires you to install the `pickleshare` library.\n",
      "  self.shell.db['dhist'] = compress_dhist(dhist)[-100:]\n"
     ]
    }
   ],
   "source": [
    "%cd ~/cma/CMA_Fairness_v2"
   ]
  },
  {
   "cell_type": "markdown",
   "id": "de2603b9",
   "metadata": {
    "papermill": {
     "duration": 0.02263,
     "end_time": "2025-07-30T21:30:23.848226",
     "exception": false,
     "start_time": "2025-07-30T21:30:23.825596",
     "status": "completed"
    },
    "tags": []
   },
   "source": [
    "The following cell holds the definition of our parameters, these values can be overriden by rendering the with e.g. the following command:\n",
    "\n",
    "papermill -p alpha 0.2 -p ratio 0.3 universe_analysis.ipynb output/test_run.ipynb"
   ]
  },
  {
   "cell_type": "code",
   "execution_count": 2,
   "id": "a80968a0-40bb-4fa9-85ef-2d5eefb01975",
   "metadata": {
    "execution": {
     "iopub.execute_input": "2025-07-30T21:30:23.887072Z",
     "iopub.status.busy": "2025-07-30T21:30:23.886722Z",
     "iopub.status.idle": "2025-07-30T21:30:23.892513Z",
     "shell.execute_reply": "2025-07-30T21:30:23.891190Z"
    },
    "papermill": {
     "duration": 0.02566,
     "end_time": "2025-07-30T21:30:23.894384",
     "exception": false,
     "start_time": "2025-07-30T21:30:23.868724",
     "status": "completed"
    },
    "tags": []
   },
   "outputs": [
    {
     "name": "stdout",
     "output_type": "stream",
     "text": [
      "Current working directory: /dss/dsshome1/0C/ra93lal2/cma/CMA_Fairness_v2\n"
     ]
    }
   ],
   "source": [
    "import os\n",
    "print(\"Current working directory:\", os.getcwd())"
   ]
  },
  {
   "cell_type": "code",
   "execution_count": 3,
   "id": "2dce4c03",
   "metadata": {
    "execution": {
     "iopub.execute_input": "2025-07-30T21:30:23.933135Z",
     "iopub.status.busy": "2025-07-30T21:30:23.932795Z",
     "iopub.status.idle": "2025-07-30T21:30:23.938621Z",
     "shell.execute_reply": "2025-07-30T21:30:23.937682Z"
    },
    "papermill": {
     "duration": 0.027154,
     "end_time": "2025-07-30T21:30:23.940158",
     "exception": false,
     "start_time": "2025-07-30T21:30:23.913004",
     "status": "completed"
    },
    "tags": [
     "parameters"
    ]
   },
   "outputs": [],
   "source": [
    "run_no = 0\n",
    "universe_id = \"test\"\n",
    "universe = {\n",
    "    \"training_size\": \"25k\", # \"25k\", \"5k\", \"1k\"\n",
    "    \"training_year\": \"2014\", # \"2014\", \"2012_14\", \"2010_14\"\n",
    "    \"scale\": \"scale\", # \"scale\", \"do-not-scale\",\n",
    "    #\"stratify_split\": \"target\", # \"none\", \"target\", \"protected-attribute\", \"both\",\n",
    "    \"model\": \"elasticnet\", # \"logreg\", \"penalized_logreg\", \"rf\", \"gbm\", \"elasticnet\"\n",
    "    \"cutoff\": [\"quantile_0.15\", \"quantile_0.30\"],\n",
    "    \"exclude_features\": \"age\", # \"none\", \"nationality\", \"sex\", \"nationality-sex\", \"age\"\n",
    "    \"exclude_subgroups\": \"keep-all\", # \"keep-all\", \"drop-non-german\"\n",
    "    \"eval_fairness_grouping\": [\"majority-minority\", \"nationality-all\"]\n",
    "}\n",
    "\n",
    "output_dir=\"./output\"\n",
    "seed=0"
   ]
  },
  {
   "cell_type": "code",
   "execution_count": 4,
   "id": "07bb0360",
   "metadata": {
    "execution": {
     "iopub.execute_input": "2025-07-30T21:30:23.980457Z",
     "iopub.status.busy": "2025-07-30T21:30:23.979588Z",
     "iopub.status.idle": "2025-07-30T21:30:24.030864Z",
     "shell.execute_reply": "2025-07-30T21:30:24.029937Z"
    },
    "papermill": {
     "duration": 0.073853,
     "end_time": "2025-07-30T21:30:24.032524",
     "exception": false,
     "start_time": "2025-07-30T21:30:23.958671",
     "status": "completed"
    },
    "tags": [
     "injected-parameters"
    ]
   },
   "outputs": [],
   "source": [
    "# Parameters\n",
    "universe_id = \"59c4294e6c90d0af855192c52fc67fbc\"\n",
    "run_no = \"14\"\n",
    "universe = \"{\\\"cutoff\\\": [\\\"quantile_0.1\\\", \\\"quantile_0.25\\\"], \\\"eval_fairness_grouping\\\": [\\\"majority-minority\\\", \\\"nationality-all\\\"], \\\"exclude_features\\\": \\\"none\\\", \\\"exclude_subgroups\\\": \\\"drop-non-german\\\", \\\"model\\\": \\\"gbm\\\", \\\"scale\\\": \\\"do-not-scale\\\", \\\"training_size\\\": \\\"1k\\\", \\\"training_year\\\": \\\"2014\\\"}\"\n",
    "output_dir = \"output\"\n",
    "seed = \"2023\"\n"
   ]
  },
  {
   "cell_type": "code",
   "execution_count": 5,
   "id": "1650acaf",
   "metadata": {
    "execution": {
     "iopub.execute_input": "2025-07-30T21:30:24.078394Z",
     "iopub.status.busy": "2025-07-30T21:30:24.077758Z",
     "iopub.status.idle": "2025-07-30T21:30:24.082438Z",
     "shell.execute_reply": "2025-07-30T21:30:24.081562Z"
    },
    "papermill": {
     "duration": 0.029185,
     "end_time": "2025-07-30T21:30:24.084104",
     "exception": false,
     "start_time": "2025-07-30T21:30:24.054919",
     "status": "completed"
    },
    "tags": []
   },
   "outputs": [],
   "source": [
    "import json\n",
    "# Parse universe into dict if it is passed as a string\n",
    "if isinstance(universe, str):\n",
    "    universe = json.loads(universe)"
   ]
  },
  {
   "cell_type": "code",
   "execution_count": 6,
   "id": "16620c48",
   "metadata": {
    "execution": {
     "iopub.execute_input": "2025-07-30T21:30:24.125934Z",
     "iopub.status.busy": "2025-07-30T21:30:24.125117Z",
     "iopub.status.idle": "2025-07-30T21:30:24.165362Z",
     "shell.execute_reply": "2025-07-30T21:30:24.164209Z"
    },
    "papermill": {
     "duration": 0.061327,
     "end_time": "2025-07-30T21:30:24.166888",
     "exception": false,
     "start_time": "2025-07-30T21:30:24.105561",
     "status": "completed"
    },
    "tags": []
   },
   "outputs": [],
   "source": [
    "# Auto-reload the custom package\n",
    "%load_ext autoreload\n",
    "%autoreload 1\n",
    "%aimport fairness_multiverse"
   ]
  },
  {
   "cell_type": "code",
   "execution_count": 7,
   "id": "01c5c9f3",
   "metadata": {
    "execution": {
     "iopub.execute_input": "2025-07-30T21:30:24.191132Z",
     "iopub.status.busy": "2025-07-30T21:30:24.190745Z",
     "iopub.status.idle": "2025-07-30T21:30:29.719358Z",
     "shell.execute_reply": "2025-07-30T21:30:29.718427Z"
    },
    "papermill": {
     "duration": 5.542218,
     "end_time": "2025-07-30T21:30:29.721202",
     "exception": false,
     "start_time": "2025-07-30T21:30:24.178984",
     "status": "completed"
    },
    "tags": []
   },
   "outputs": [],
   "source": [
    "from fairness_multiverse.universe import UniverseAnalysis\n",
    "\n",
    "universe_analysis = UniverseAnalysis(\n",
    "    run_no = run_no,\n",
    "    universe_id = universe_id,\n",
    "    universe = universe,\n",
    "    output_dir=output_dir,\n",
    ")"
   ]
  },
  {
   "cell_type": "code",
   "execution_count": 8,
   "id": "106241f5",
   "metadata": {
    "execution": {
     "iopub.execute_input": "2025-07-30T21:30:29.746940Z",
     "iopub.status.busy": "2025-07-30T21:30:29.746609Z",
     "iopub.status.idle": "2025-07-30T21:30:29.752242Z",
     "shell.execute_reply": "2025-07-30T21:30:29.751419Z"
    },
    "papermill": {
     "duration": 0.018414,
     "end_time": "2025-07-30T21:30:29.753644",
     "exception": false,
     "start_time": "2025-07-30T21:30:29.735230",
     "status": "completed"
    },
    "tags": []
   },
   "outputs": [
    {
     "name": "stdout",
     "output_type": "stream",
     "text": [
      "Using Seed: 2023\n"
     ]
    }
   ],
   "source": [
    "import numpy as np\n",
    "parsed_seed = int(seed)\n",
    "np.random.seed(parsed_seed)\n",
    "print(f\"Using Seed: {parsed_seed}\")"
   ]
  },
  {
   "cell_type": "markdown",
   "id": "e0ebdc57",
   "metadata": {
    "papermill": {
     "duration": 0.010316,
     "end_time": "2025-07-30T21:30:29.776964",
     "exception": false,
     "start_time": "2025-07-30T21:30:29.766648",
     "status": "completed"
    },
    "tags": []
   },
   "source": [
    "# Loading Data"
   ]
  },
  {
   "cell_type": "markdown",
   "id": "681925a3",
   "metadata": {
    "papermill": {
     "duration": 0.011928,
     "end_time": "2025-07-30T21:30:29.802272",
     "exception": false,
     "start_time": "2025-07-30T21:30:29.790344",
     "status": "completed"
    },
    "tags": []
   },
   "source": [
    "Load siab_train, siab_test, siab_calib and/or \n",
    "load siab_train_features, siab_train_labels"
   ]
  },
  {
   "cell_type": "code",
   "execution_count": 9,
   "id": "f0496b8a",
   "metadata": {
    "execution": {
     "iopub.execute_input": "2025-07-30T21:30:29.831370Z",
     "iopub.status.busy": "2025-07-30T21:30:29.830957Z",
     "iopub.status.idle": "2025-07-30T21:30:41.247750Z",
     "shell.execute_reply": "2025-07-30T21:30:41.245931Z"
    },
    "papermill": {
     "duration": 11.432866,
     "end_time": "2025-07-30T21:30:41.249775",
     "exception": false,
     "start_time": "2025-07-30T21:30:29.816909",
     "status": "completed"
    },
    "tags": []
   },
   "outputs": [
    {
     "name": "stdout",
     "output_type": "stream",
     "text": [
      "Loading SIAB data from cache: data/siab_cached.csv.gz\n"
     ]
    },
    {
     "name": "stdout",
     "output_type": "stream",
     "text": [
      "(643690, 164)\n"
     ]
    }
   ],
   "source": [
    "from pathlib import Path\n",
    "import pandas as pd\n",
    "\n",
    "# File paths\n",
    "raw_file = Path(\"data/raw/siab.csv\")\n",
    "cache_file = Path(\"data/siab_cached.csv.gz\")\n",
    "\n",
    "# Ensure cache directory exists\n",
    "cache_file.parent.mkdir(parents=True, exist_ok=True)\n",
    "\n",
    "# Load with simple caching\n",
    "if cache_file.exists():\n",
    "    print(f\"Loading SIAB data from cache: {cache_file}\")\n",
    "    siab = pd.read_csv(cache_file, compression='gzip')\n",
    "else:\n",
    "    print(f\"Cache not found. Reading raw SIAB data: {raw_file}\")\n",
    "    siab = pd.read_csv(raw_file)\n",
    "    siab.to_csv(cache_file, index=False, compression='gzip')\n",
    "    print(f\"Cached SIAB data to: {cache_file}\")\n",
    "\n",
    "# Now use `siab` DataFrame as needed\n",
    "print(siab.shape)"
   ]
  },
  {
   "cell_type": "code",
   "execution_count": 10,
   "id": "db0ca512-5f53-4dba-abdb-a2888bca41ba",
   "metadata": {
    "execution": {
     "iopub.execute_input": "2025-07-30T21:30:41.298843Z",
     "iopub.status.busy": "2025-07-30T21:30:41.298294Z",
     "iopub.status.idle": "2025-07-30T21:30:41.304731Z",
     "shell.execute_reply": "2025-07-30T21:30:41.303550Z"
    },
    "papermill": {
     "duration": 0.03241,
     "end_time": "2025-07-30T21:30:41.306576",
     "exception": false,
     "start_time": "2025-07-30T21:30:41.274166",
     "status": "completed"
    },
    "tags": []
   },
   "outputs": [],
   "source": [
    "#siab"
   ]
  },
  {
   "cell_type": "code",
   "execution_count": 11,
   "id": "a0edb063",
   "metadata": {
    "execution": {
     "iopub.execute_input": "2025-07-30T21:30:41.350613Z",
     "iopub.status.busy": "2025-07-30T21:30:41.350096Z",
     "iopub.status.idle": "2025-07-30T21:30:41.355392Z",
     "shell.execute_reply": "2025-07-30T21:30:41.354346Z"
    },
    "papermill": {
     "duration": 0.028711,
     "end_time": "2025-07-30T21:30:41.357307",
     "exception": false,
     "start_time": "2025-07-30T21:30:41.328596",
     "status": "completed"
    },
    "tags": []
   },
   "outputs": [],
   "source": [
    "#import pandas as pd\n",
    "#\n",
    "#X_train = pd.read_csv(\"./data/X_train.csv\")\n",
    "#y_train = pd.read_csv(\"./data/y_train.csv\")"
   ]
  },
  {
   "cell_type": "code",
   "execution_count": 12,
   "id": "63d08085",
   "metadata": {
    "execution": {
     "iopub.execute_input": "2025-07-30T21:30:41.403834Z",
     "iopub.status.busy": "2025-07-30T21:30:41.403344Z",
     "iopub.status.idle": "2025-07-30T21:30:41.409282Z",
     "shell.execute_reply": "2025-07-30T21:30:41.407948Z"
    },
    "papermill": {
     "duration": 0.031958,
     "end_time": "2025-07-30T21:30:41.411482",
     "exception": false,
     "start_time": "2025-07-30T21:30:41.379524",
     "status": "completed"
    },
    "tags": []
   },
   "outputs": [],
   "source": [
    "#X_test = pd.read_csv(\"./data/X_test.csv\")\n",
    "#y_true = pd.read_csv(\"./data/y_test.csv\")"
   ]
  },
  {
   "cell_type": "code",
   "execution_count": 13,
   "id": "98a8d0fa-1d3d-4ed8-bb2c-281470e24add",
   "metadata": {
    "execution": {
     "iopub.execute_input": "2025-07-30T21:30:41.471991Z",
     "iopub.status.busy": "2025-07-30T21:30:41.471367Z",
     "iopub.status.idle": "2025-07-30T21:30:41.476801Z",
     "shell.execute_reply": "2025-07-30T21:30:41.475717Z"
    },
    "papermill": {
     "duration": 0.038651,
     "end_time": "2025-07-30T21:30:41.478614",
     "exception": false,
     "start_time": "2025-07-30T21:30:41.439963",
     "status": "completed"
    },
    "tags": []
   },
   "outputs": [],
   "source": [
    "# Calibration data for conformal\n",
    "#X_calib = pd.read_csv(\"./data/X_calib.csv\")\n",
    "#y_calib = pd.read_csv(\"./data/y_calib.csv\")"
   ]
  },
  {
   "cell_type": "markdown",
   "id": "997051c5-15bd-4b69-9786-c3001a3ce484",
   "metadata": {
    "papermill": {
     "duration": 0.029809,
     "end_time": "2025-07-30T21:30:41.536715",
     "exception": false,
     "start_time": "2025-07-30T21:30:41.506906",
     "status": "completed"
    },
    "tags": []
   },
   "source": [
    "# Splitting Data and Setting Training Data Size"
   ]
  },
  {
   "cell_type": "code",
   "execution_count": 14,
   "id": "e993b61f-042d-41a6-8c81-f55681f86335",
   "metadata": {
    "execution": {
     "iopub.execute_input": "2025-07-30T21:30:41.596319Z",
     "iopub.status.busy": "2025-07-30T21:30:41.595384Z",
     "iopub.status.idle": "2025-07-30T21:30:41.611780Z",
     "shell.execute_reply": "2025-07-30T21:30:41.610601Z"
    },
    "papermill": {
     "duration": 0.048137,
     "end_time": "2025-07-30T21:30:41.613793",
     "exception": false,
     "start_time": "2025-07-30T21:30:41.565656",
     "status": "completed"
    },
    "tags": []
   },
   "outputs": [],
   "source": [
    "def sample_by_year_size(df,\n",
    "                        training_year: str,\n",
    "                        training_size: str,\n",
    "                        random_state: int = 42):\n",
    "    # --- parse training_year into a list of int years ---\n",
    "    if \"_\" in training_year:\n",
    "        start_str, end_str = training_year.split(\"_\", 1)\n",
    "        start = int(start_str)\n",
    "        end   = int(end_str) if len(end_str) == 4 else (int(end_str) + (start // 100)*100)\n",
    "        years = list(range(start, end + 1))\n",
    "    else:\n",
    "        years = [int(training_year)]\n",
    "\n",
    "    df = df[df[\"year\"].isin(years)].reset_index(drop=True)\n",
    "\n",
    "    # --- map training_size to total number of samples ---\n",
    "    total_map = {\"25k\": 25_000, \"5k\": 5_000, \"1k\": 1_000}\n",
    "    if training_size not in total_map:\n",
    "        return df  # e.g. \"all\"\n",
    "\n",
    "    total_samples = total_map[training_size]\n",
    "    n_years       = len(years)\n",
    "    base          = total_samples // n_years\n",
    "    remainder     = total_samples % n_years\n",
    "\n",
    "    # --- build a dict: year -> how many to sample ---\n",
    "    # give +1 to the first `remainder` years in ascending order\n",
    "    quotas = {\n",
    "        year: base + (1 if idx < remainder else 0)\n",
    "        for idx, year in enumerate(sorted(years))\n",
    "    }\n",
    "\n",
    "    # --- sample per‐year according to the quota dict ---\n",
    "    sampled = (\n",
    "        df\n",
    "        .groupby(\"year\", group_keys=False)\n",
    "        .apply(lambda grp: grp.sample(\n",
    "            n=min(len(grp), quotas[grp.name]),\n",
    "            random_state=random_state))\n",
    "        .reset_index(drop=True)\n",
    "    )\n",
    "\n",
    "    return sampled"
   ]
  },
  {
   "cell_type": "code",
   "execution_count": 15,
   "id": "c0ccd338-0e02-41f3-a09d-f56f9266e3fb",
   "metadata": {
    "execution": {
     "iopub.execute_input": "2025-07-30T21:30:41.669385Z",
     "iopub.status.busy": "2025-07-30T21:30:41.668918Z",
     "iopub.status.idle": "2025-07-30T21:30:41.673961Z",
     "shell.execute_reply": "2025-07-30T21:30:41.672968Z"
    },
    "papermill": {
     "duration": 0.033078,
     "end_time": "2025-07-30T21:30:41.675483",
     "exception": false,
     "start_time": "2025-07-30T21:30:41.642405",
     "status": "completed"
    },
    "tags": []
   },
   "outputs": [],
   "source": [
    "#universe[\"training_size\"]"
   ]
  },
  {
   "cell_type": "code",
   "execution_count": 16,
   "id": "ca707fd7-8047-4acd-bfa5-66248fbbf8e6",
   "metadata": {
    "execution": {
     "iopub.execute_input": "2025-07-30T21:30:41.724644Z",
     "iopub.status.busy": "2025-07-30T21:30:41.724204Z",
     "iopub.status.idle": "2025-07-30T21:30:41.728959Z",
     "shell.execute_reply": "2025-07-30T21:30:41.727932Z"
    },
    "papermill": {
     "duration": 0.031834,
     "end_time": "2025-07-30T21:30:41.730279",
     "exception": false,
     "start_time": "2025-07-30T21:30:41.698445",
     "status": "completed"
    },
    "tags": []
   },
   "outputs": [],
   "source": [
    "#universe[\"training_year\"]"
   ]
  },
  {
   "cell_type": "code",
   "execution_count": 17,
   "id": "aea9c6ef-6f46-42c8-85eb-5a62025c1508",
   "metadata": {
    "execution": {
     "iopub.execute_input": "2025-07-30T21:30:41.758965Z",
     "iopub.status.busy": "2025-07-30T21:30:41.758307Z",
     "iopub.status.idle": "2025-07-30T21:30:42.038734Z",
     "shell.execute_reply": "2025-07-30T21:30:42.037504Z"
    },
    "papermill": {
     "duration": 0.297828,
     "end_time": "2025-07-30T21:30:42.041417",
     "exception": false,
     "start_time": "2025-07-30T21:30:41.743589",
     "status": "completed"
    },
    "tags": []
   },
   "outputs": [],
   "source": [
    "siab_train = sample_by_year_size(siab,\n",
    "                               training_year=universe[\"training_year\"],\n",
    "                               training_size=universe[\"training_size\"])"
   ]
  },
  {
   "cell_type": "code",
   "execution_count": 18,
   "id": "8d3afb32-789d-442c-8d5d-9f5aa8dd2eed",
   "metadata": {
    "execution": {
     "iopub.execute_input": "2025-07-30T21:30:42.110673Z",
     "iopub.status.busy": "2025-07-30T21:30:42.109711Z",
     "iopub.status.idle": "2025-07-30T21:30:42.115544Z",
     "shell.execute_reply": "2025-07-30T21:30:42.114410Z"
    },
    "papermill": {
     "duration": 0.046331,
     "end_time": "2025-07-30T21:30:42.117826",
     "exception": false,
     "start_time": "2025-07-30T21:30:42.071495",
     "status": "completed"
    },
    "tags": []
   },
   "outputs": [],
   "source": [
    "#siab_train.shape"
   ]
  },
  {
   "cell_type": "code",
   "execution_count": 19,
   "id": "d582db68-1a4c-47fb-84fc-08518dc1975a",
   "metadata": {
    "execution": {
     "iopub.execute_input": "2025-07-30T21:30:42.170200Z",
     "iopub.status.busy": "2025-07-30T21:30:42.169715Z",
     "iopub.status.idle": "2025-07-30T21:30:42.174764Z",
     "shell.execute_reply": "2025-07-30T21:30:42.173904Z"
    },
    "papermill": {
     "duration": 0.033592,
     "end_time": "2025-07-30T21:30:42.176415",
     "exception": false,
     "start_time": "2025-07-30T21:30:42.142823",
     "status": "completed"
    },
    "tags": []
   },
   "outputs": [],
   "source": [
    "#display(siab_train.groupby(\"year\").size())"
   ]
  },
  {
   "cell_type": "code",
   "execution_count": 20,
   "id": "a561edb4-d032-42cb-8256-22eac1111c64",
   "metadata": {
    "execution": {
     "iopub.execute_input": "2025-07-30T21:30:42.226840Z",
     "iopub.status.busy": "2025-07-30T21:30:42.226288Z",
     "iopub.status.idle": "2025-07-30T21:30:42.496177Z",
     "shell.execute_reply": "2025-07-30T21:30:42.495209Z"
    },
    "papermill": {
     "duration": 0.298791,
     "end_time": "2025-07-30T21:30:42.498254",
     "exception": false,
     "start_time": "2025-07-30T21:30:42.199463",
     "status": "completed"
    },
    "tags": []
   },
   "outputs": [],
   "source": [
    "#siab_train = siab_s[siab_s.year < 2015]\n",
    "siab_calib = siab[siab.year == 2015]\n",
    "siab_test = siab[siab.year == 2016]"
   ]
  },
  {
   "cell_type": "code",
   "execution_count": 21,
   "id": "472de16f-c3db-4916-846b-1f0de9cf1746",
   "metadata": {
    "execution": {
     "iopub.execute_input": "2025-07-30T21:30:42.548816Z",
     "iopub.status.busy": "2025-07-30T21:30:42.547851Z",
     "iopub.status.idle": "2025-07-30T21:30:42.555795Z",
     "shell.execute_reply": "2025-07-30T21:30:42.554706Z"
    },
    "papermill": {
     "duration": 0.034481,
     "end_time": "2025-07-30T21:30:42.557603",
     "exception": false,
     "start_time": "2025-07-30T21:30:42.523122",
     "status": "completed"
    },
    "tags": []
   },
   "outputs": [],
   "source": [
    "X_train = siab_train.iloc[:,4:164]\n",
    "y_train = siab_train.iloc[:, [3]]"
   ]
  },
  {
   "cell_type": "code",
   "execution_count": 22,
   "id": "828c96af-f43a-4ed6-ba47-8ac73a47d56c",
   "metadata": {
    "execution": {
     "iopub.execute_input": "2025-07-30T21:30:42.607819Z",
     "iopub.status.busy": "2025-07-30T21:30:42.607079Z",
     "iopub.status.idle": "2025-07-30T21:30:42.657632Z",
     "shell.execute_reply": "2025-07-30T21:30:42.655492Z"
    },
    "papermill": {
     "duration": 0.091474,
     "end_time": "2025-07-30T21:30:42.673256",
     "exception": false,
     "start_time": "2025-07-30T21:30:42.581782",
     "status": "completed"
    },
    "tags": []
   },
   "outputs": [],
   "source": [
    "X_calib = siab_calib.iloc[:,4:164]\n",
    "y_calib = siab_calib.iloc[:, [3]]"
   ]
  },
  {
   "cell_type": "code",
   "execution_count": 23,
   "id": "c34be9c3-6bd6-476e-acd3-845840e303be",
   "metadata": {
    "execution": {
     "iopub.execute_input": "2025-07-30T21:30:42.721565Z",
     "iopub.status.busy": "2025-07-30T21:30:42.720652Z",
     "iopub.status.idle": "2025-07-30T21:30:42.775282Z",
     "shell.execute_reply": "2025-07-30T21:30:42.774299Z"
    },
    "papermill": {
     "duration": 0.079998,
     "end_time": "2025-07-30T21:30:42.777136",
     "exception": false,
     "start_time": "2025-07-30T21:30:42.697138",
     "status": "completed"
    },
    "tags": []
   },
   "outputs": [],
   "source": [
    "X_test = siab_test.iloc[:,4:164]\n",
    "y_true = siab_test.iloc[:, [3]]"
   ]
  },
  {
   "cell_type": "markdown",
   "id": "9901737e-04df-44f0-9100-f5ad144ed040",
   "metadata": {
    "papermill": {
     "duration": 0.023526,
     "end_time": "2025-07-30T21:30:42.820887",
     "exception": false,
     "start_time": "2025-07-30T21:30:42.797361",
     "status": "completed"
    },
    "tags": []
   },
   "source": [
    "# Splitting Data and Setting Training Data Size OLD VERSION"
   ]
  },
  {
   "cell_type": "code",
   "execution_count": 24,
   "id": "acbc8f7d-8fc8-4e86-8c59-5dcb0f58384b",
   "metadata": {
    "execution": {
     "iopub.execute_input": "2025-07-30T21:30:42.868180Z",
     "iopub.status.busy": "2025-07-30T21:30:42.867101Z",
     "iopub.status.idle": "2025-07-30T21:30:42.872993Z",
     "shell.execute_reply": "2025-07-30T21:30:42.871834Z"
    },
    "papermill": {
     "duration": 0.032863,
     "end_time": "2025-07-30T21:30:42.876613",
     "exception": false,
     "start_time": "2025-07-30T21:30:42.843750",
     "status": "completed"
    },
    "tags": []
   },
   "outputs": [],
   "source": [
    "#def sample_by_year(df, training_size, random_state=42):\n",
    "#    if training_size == \"2014\":\n",
    "#        return df[df[\"year\"] == 2014].reset_index(drop=True)\n",
    "#    \n",
    "#    size_map = {\n",
    "#        \"25k\": 5000,\n",
    "#        \"5k\": 1000,\n",
    "#        \"1k\": 200\n",
    "#    }\n",
    "#\n",
    "#    if training_size not in size_map:\n",
    "#        return df.reset_index(drop=True)  # use all data\n",
    "#\n",
    "#    n_per_year = size_map[training_size]\n",
    "#    grouped = df.groupby(\"year\")\n",
    "#    sampled = grouped.apply(lambda x: x.sample(n=min(n_per_year, len(x)), random_state=random_state))\n",
    "#    return sampled.reset_index(drop=True)"
   ]
  },
  {
   "cell_type": "code",
   "execution_count": 25,
   "id": "6d931f52-beaf-43ff-9e78-9d44a448d54e",
   "metadata": {
    "execution": {
     "iopub.execute_input": "2025-07-30T21:30:42.923714Z",
     "iopub.status.busy": "2025-07-30T21:30:42.923221Z",
     "iopub.status.idle": "2025-07-30T21:30:42.927756Z",
     "shell.execute_reply": "2025-07-30T21:30:42.927032Z"
    },
    "papermill": {
     "duration": 0.029846,
     "end_time": "2025-07-30T21:30:42.929553",
     "exception": false,
     "start_time": "2025-07-30T21:30:42.899707",
     "status": "completed"
    },
    "tags": []
   },
   "outputs": [],
   "source": [
    "#siab_s = sample_by_year(siab, universe[\"training_size\"])"
   ]
  },
  {
   "cell_type": "code",
   "execution_count": 26,
   "id": "5db0a40e-a4e2-4920-be85-b12ae061d70d",
   "metadata": {
    "execution": {
     "iopub.execute_input": "2025-07-30T21:30:42.973109Z",
     "iopub.status.busy": "2025-07-30T21:30:42.972726Z",
     "iopub.status.idle": "2025-07-30T21:30:42.977831Z",
     "shell.execute_reply": "2025-07-30T21:30:42.976805Z"
    },
    "papermill": {
     "duration": 0.028564,
     "end_time": "2025-07-30T21:30:42.979572",
     "exception": false,
     "start_time": "2025-07-30T21:30:42.951008",
     "status": "completed"
    },
    "tags": []
   },
   "outputs": [],
   "source": [
    "#display(siab_s.groupby(\"year\").size())"
   ]
  },
  {
   "cell_type": "code",
   "execution_count": 27,
   "id": "e6c733c5",
   "metadata": {
    "execution": {
     "iopub.execute_input": "2025-07-30T21:30:43.021891Z",
     "iopub.status.busy": "2025-07-30T21:30:43.021448Z",
     "iopub.status.idle": "2025-07-30T21:30:43.124527Z",
     "shell.execute_reply": "2025-07-30T21:30:43.123288Z"
    },
    "papermill": {
     "duration": 0.125212,
     "end_time": "2025-07-30T21:30:43.126114",
     "exception": false,
     "start_time": "2025-07-30T21:30:43.000902",
     "status": "completed"
    },
    "tags": []
   },
   "outputs": [],
   "source": [
    "# Auxiliary data needed downstream in the pipeline\n",
    "\n",
    "org_train = X_train.copy()\n",
    "org_test = X_test.copy()\n",
    "org_calib = X_calib.copy()"
   ]
  },
  {
   "cell_type": "code",
   "execution_count": 28,
   "id": "1466abac-c6da-4492-a62f-4240ae3783af",
   "metadata": {
    "execution": {
     "iopub.execute_input": "2025-07-30T21:30:43.169823Z",
     "iopub.status.busy": "2025-07-30T21:30:43.168925Z",
     "iopub.status.idle": "2025-07-30T21:30:43.175587Z",
     "shell.execute_reply": "2025-07-30T21:30:43.174353Z"
    },
    "papermill": {
     "duration": 0.035061,
     "end_time": "2025-07-30T21:30:43.177736",
     "exception": false,
     "start_time": "2025-07-30T21:30:43.142675",
     "status": "completed"
    },
    "tags": []
   },
   "outputs": [],
   "source": [
    "# put in other script?\n",
    "# Group sizes\n",
    "\n",
    "#def calculate_percentages(df, df_name):\n",
    "#    total_entries = len(df)\n",
    "#\n",
    "#    female_pct = (df['frau1'] == 1).mean() * 100\n",
    "#    non_german_pct = ((df['maxdeutsch1'] == 0) & (df['maxdeutsch.Missing.'] == 0)).mean() * 100\n",
    "#    non_german_male_pct = ((df['frau1'] == 0) & (df['maxdeutsch1'] == 0) & (df['maxdeutsch.Missing.'] == 0)).mean() * 100\n",
    "#    non_german_female_pct = ((df['frau1'] == 1) & (df['maxdeutsch1'] == 0) & (df['maxdeutsch.Missing.'] == 0)).mean() * 100\n",
    "#\n",
    "#    print(f\"--- {df_name} ---\")\n",
    "#    print(f\"Female: {female_pct:.2f}%\")\n",
    "#    print(f\"Non-German: {non_german_pct:.2f}%\")\n",
    "#    print(f\"Non-German Male: {non_german_male_pct:.2f}%\")\n",
    "#    print(f\"Non-German Female: {non_german_female_pct:.2f}%\\n\")\n",
    "#\n",
    "## Calculate for each DataFrame\n",
    "#calculate_percentages(siab_calib, \"siab_calib\")\n",
    "#calculate_percentages(siab_test, \"siab_test\")\n",
    "#calculate_percentages(siab_train, \"siab_train\")"
   ]
  },
  {
   "cell_type": "markdown",
   "id": "0a4a1b33",
   "metadata": {
    "papermill": {
     "duration": 0.023598,
     "end_time": "2025-07-30T21:30:43.226261",
     "exception": false,
     "start_time": "2025-07-30T21:30:43.202663",
     "status": "completed"
    },
    "tags": []
   },
   "source": [
    "# Preprocessing Data"
   ]
  },
  {
   "cell_type": "code",
   "execution_count": 29,
   "id": "ca879031",
   "metadata": {
    "execution": {
     "iopub.execute_input": "2025-07-30T21:30:43.263239Z",
     "iopub.status.busy": "2025-07-30T21:30:43.262854Z",
     "iopub.status.idle": "2025-07-30T21:30:43.268129Z",
     "shell.execute_reply": "2025-07-30T21:30:43.267132Z"
    },
    "papermill": {
     "duration": 0.024938,
     "end_time": "2025-07-30T21:30:43.273704",
     "exception": false,
     "start_time": "2025-07-30T21:30:43.248766",
     "status": "completed"
    },
    "tags": []
   },
   "outputs": [],
   "source": [
    "# EXCLUDE PROTECTED FEATURES\n",
    "# ----------------------\n",
    "# \"exclude_features\": \"none\", # \"nationality\", \"sex\", \"nationality-sex\"\n",
    "\n",
    "excluded_features = universe[\"exclude_features\"].split(\"-\") # split, e.g.: \"nationality-sex\" -> [\"nationality\", \"sex\"]\n",
    "excluded_features_dictionary = {\n",
    "    \"nationality\": [\"maxdeutsch1\", \"maxdeutsch.Missing.\"],\n",
    "    \"sex\": [\"frau1\"],\n",
    "    \"age\": [\"age\"],\n",
    "}\n"
   ]
  },
  {
   "cell_type": "code",
   "execution_count": 30,
   "id": "b745ac60",
   "metadata": {
    "execution": {
     "iopub.execute_input": "2025-07-30T21:30:43.304563Z",
     "iopub.status.busy": "2025-07-30T21:30:43.304111Z",
     "iopub.status.idle": "2025-07-30T21:30:43.310118Z",
     "shell.execute_reply": "2025-07-30T21:30:43.309131Z"
    },
    "papermill": {
     "duration": 0.023662,
     "end_time": "2025-07-30T21:30:43.311737",
     "exception": false,
     "start_time": "2025-07-30T21:30:43.288075",
     "status": "completed"
    },
    "tags": []
   },
   "outputs": [],
   "source": [
    "# Code nice names to column names\n",
    "\n",
    "excluded_features_columns = [\n",
    "    excluded_features_dictionary[f] for f in excluded_features if len(f) > 0 and f != \"none\"\n",
    "]"
   ]
  },
  {
   "cell_type": "code",
   "execution_count": 31,
   "id": "f84f73a2",
   "metadata": {
    "execution": {
     "iopub.execute_input": "2025-07-30T21:30:43.359184Z",
     "iopub.status.busy": "2025-07-30T21:30:43.358416Z",
     "iopub.status.idle": "2025-07-30T21:30:43.365856Z",
     "shell.execute_reply": "2025-07-30T21:30:43.364740Z"
    },
    "papermill": {
     "duration": 0.034519,
     "end_time": "2025-07-30T21:30:43.368946",
     "exception": false,
     "start_time": "2025-07-30T21:30:43.334427",
     "status": "completed"
    },
    "tags": []
   },
   "outputs": [],
   "source": [
    "from utils import flatten_once\n",
    "\n",
    "excluded_features_columns = flatten_once(excluded_features_columns)"
   ]
  },
  {
   "cell_type": "code",
   "execution_count": 32,
   "id": "884dea22",
   "metadata": {
    "execution": {
     "iopub.execute_input": "2025-07-30T21:30:43.423619Z",
     "iopub.status.busy": "2025-07-30T21:30:43.423240Z",
     "iopub.status.idle": "2025-07-30T21:30:43.429139Z",
     "shell.execute_reply": "2025-07-30T21:30:43.428175Z"
    },
    "papermill": {
     "duration": 0.035109,
     "end_time": "2025-07-30T21:30:43.431068",
     "exception": false,
     "start_time": "2025-07-30T21:30:43.395959",
     "status": "completed"
    },
    "tags": []
   },
   "outputs": [],
   "source": [
    "if len(excluded_features_columns) > 0:\n",
    "    print(f\"Dropping features: {excluded_features_columns}\")\n",
    "    X_train.drop(excluded_features_columns, axis=1, inplace=True)"
   ]
  },
  {
   "cell_type": "code",
   "execution_count": 33,
   "id": "95ab8b16",
   "metadata": {
    "execution": {
     "iopub.execute_input": "2025-07-30T21:30:43.523171Z",
     "iopub.status.busy": "2025-07-30T21:30:43.521941Z",
     "iopub.status.idle": "2025-07-30T21:30:43.529080Z",
     "shell.execute_reply": "2025-07-30T21:30:43.528024Z"
    },
    "papermill": {
     "duration": 0.058583,
     "end_time": "2025-07-30T21:30:43.537990",
     "exception": false,
     "start_time": "2025-07-30T21:30:43.479407",
     "status": "completed"
    },
    "tags": []
   },
   "outputs": [],
   "source": [
    "if len(excluded_features_columns) > 0:\n",
    "    print(f\"Dropping features: {excluded_features_columns}\")\n",
    "    X_test.drop(excluded_features_columns, axis=1, inplace=True)"
   ]
  },
  {
   "cell_type": "code",
   "execution_count": 34,
   "id": "1853aaf5-fb9f-46cb-a2b5-8ea4ae2237e4",
   "metadata": {
    "execution": {
     "iopub.execute_input": "2025-07-30T21:30:43.601748Z",
     "iopub.status.busy": "2025-07-30T21:30:43.601257Z",
     "iopub.status.idle": "2025-07-30T21:30:43.607952Z",
     "shell.execute_reply": "2025-07-30T21:30:43.606855Z"
    },
    "papermill": {
     "duration": 0.038623,
     "end_time": "2025-07-30T21:30:43.611654",
     "exception": false,
     "start_time": "2025-07-30T21:30:43.573031",
     "status": "completed"
    },
    "tags": []
   },
   "outputs": [],
   "source": [
    "if len(excluded_features_columns) > 0:\n",
    "    print(f\"Dropping features: {excluded_features_columns}\")\n",
    "    X_calib.drop(excluded_features_columns, axis=1, inplace=True)"
   ]
  },
  {
   "cell_type": "code",
   "execution_count": 35,
   "id": "6727d079-03e5-481e-9d38-292a90b7a0a8",
   "metadata": {
    "execution": {
     "iopub.execute_input": "2025-07-30T21:30:43.667251Z",
     "iopub.status.busy": "2025-07-30T21:30:43.666829Z",
     "iopub.status.idle": "2025-07-30T21:30:43.672013Z",
     "shell.execute_reply": "2025-07-30T21:30:43.671109Z"
    },
    "papermill": {
     "duration": 0.035543,
     "end_time": "2025-07-30T21:30:43.674332",
     "exception": false,
     "start_time": "2025-07-30T21:30:43.638789",
     "status": "completed"
    },
    "tags": []
   },
   "outputs": [],
   "source": [
    "# SPLIT & STRATIFY DATA\n",
    "# ----------------------"
   ]
  },
  {
   "cell_type": "code",
   "execution_count": 36,
   "id": "76c4dc6d",
   "metadata": {
    "execution": {
     "iopub.execute_input": "2025-07-30T21:30:43.728659Z",
     "iopub.status.busy": "2025-07-30T21:30:43.727976Z",
     "iopub.status.idle": "2025-07-30T21:30:43.734217Z",
     "shell.execute_reply": "2025-07-30T21:30:43.733296Z"
    },
    "papermill": {
     "duration": 0.037332,
     "end_time": "2025-07-30T21:30:43.736964",
     "exception": false,
     "start_time": "2025-07-30T21:30:43.699632",
     "status": "completed"
    },
    "tags": []
   },
   "outputs": [],
   "source": [
    "# EXCLUDE CERTAIN SUBGROUPS\n",
    "# ----------------------\n",
    "\n",
    "mode = universe.get(\"exclude_subgroups\", \"keep-all\") \n",
    "# Fetches the exclude_subgroups setting from the universe dict.\n",
    "# Defaults to \"keep-all\" if the key is missing."
   ]
  },
  {
   "cell_type": "code",
   "execution_count": 37,
   "id": "21994072",
   "metadata": {
    "execution": {
     "iopub.execute_input": "2025-07-30T21:30:43.788846Z",
     "iopub.status.busy": "2025-07-30T21:30:43.788391Z",
     "iopub.status.idle": "2025-07-30T21:30:43.796965Z",
     "shell.execute_reply": "2025-07-30T21:30:43.795749Z"
    },
    "papermill": {
     "duration": 0.036915,
     "end_time": "2025-07-30T21:30:43.799877",
     "exception": false,
     "start_time": "2025-07-30T21:30:43.762962",
     "status": "completed"
    },
    "tags": []
   },
   "outputs": [],
   "source": [
    "if mode == \"keep-all\":\n",
    "    keep_mask = pd.Series(True, index=org_train.index)\n",
    "\n",
    "# org_train contains the original feature columns from features_org (in Simson)\n",
    "# features_org contains unprocessed features, for me X_train at beginning ???\n",
    "# For keep-all, creates a boolean Series (keep_mask) of all True, so no rows are removed.\n",
    "\n",
    "elif mode == \"drop-non-german\":\n",
    "    keep_mask = org_train[\"maxdeutsch1\"] == 1 # ??? what about missing values?\n",
    "\n",
    "else:\n",
    "    raise ValueError(f\"Unsupported mode for exclude_subgroups: {mode}\")\n"
   ]
  },
  {
   "cell_type": "code",
   "execution_count": 38,
   "id": "71651440",
   "metadata": {
    "execution": {
     "iopub.execute_input": "2025-07-30T21:30:43.853390Z",
     "iopub.status.busy": "2025-07-30T21:30:43.852961Z",
     "iopub.status.idle": "2025-07-30T21:30:43.860641Z",
     "shell.execute_reply": "2025-07-30T21:30:43.859636Z"
    },
    "papermill": {
     "duration": 0.037324,
     "end_time": "2025-07-30T21:30:43.864723",
     "exception": false,
     "start_time": "2025-07-30T21:30:43.827399",
     "status": "completed"
    },
    "tags": []
   },
   "outputs": [
    {
     "name": "stdout",
     "output_type": "stream",
     "text": [
      "Dropping 147 rows (14.70%) where mode='drop-non-german'\n"
     ]
    }
   ],
   "source": [
    "n_drop = (~keep_mask).sum() # Calculates how many rows are set to be dropped\n",
    "if n_drop > 0:\n",
    "    pct = n_drop / len(keep_mask) * 100\n",
    "    print(f\"Dropping {n_drop} rows ({pct:.2f}%) where mode='{mode}'\")"
   ]
  },
  {
   "cell_type": "code",
   "execution_count": 39,
   "id": "5fb8eee5",
   "metadata": {
    "execution": {
     "iopub.execute_input": "2025-07-30T21:30:43.929633Z",
     "iopub.status.busy": "2025-07-30T21:30:43.929221Z",
     "iopub.status.idle": "2025-07-30T21:30:43.936136Z",
     "shell.execute_reply": "2025-07-30T21:30:43.934957Z"
    },
    "papermill": {
     "duration": 0.047324,
     "end_time": "2025-07-30T21:30:43.937652",
     "exception": false,
     "start_time": "2025-07-30T21:30:43.890328",
     "status": "completed"
    },
    "tags": []
   },
   "outputs": [],
   "source": [
    "X_train = X_train[keep_mask]"
   ]
  },
  {
   "cell_type": "code",
   "execution_count": 40,
   "id": "b202bb3a",
   "metadata": {
    "execution": {
     "iopub.execute_input": "2025-07-30T21:30:44.021618Z",
     "iopub.status.busy": "2025-07-30T21:30:44.021199Z",
     "iopub.status.idle": "2025-07-30T21:30:44.027519Z",
     "shell.execute_reply": "2025-07-30T21:30:44.026456Z"
    },
    "papermill": {
     "duration": 0.041383,
     "end_time": "2025-07-30T21:30:44.030146",
     "exception": false,
     "start_time": "2025-07-30T21:30:43.988763",
     "status": "completed"
    },
    "tags": []
   },
   "outputs": [],
   "source": [
    "y_train = y_train[keep_mask]"
   ]
  },
  {
   "cell_type": "markdown",
   "id": "493e2ac3",
   "metadata": {
    "papermill": {
     "duration": 0.024684,
     "end_time": "2025-07-30T21:30:44.078762",
     "exception": false,
     "start_time": "2025-07-30T21:30:44.054078",
     "status": "completed"
    },
    "tags": []
   },
   "source": [
    "# Model Training"
   ]
  },
  {
   "cell_type": "code",
   "execution_count": 41,
   "id": "679e1268",
   "metadata": {
    "execution": {
     "iopub.execute_input": "2025-07-30T21:30:44.129764Z",
     "iopub.status.busy": "2025-07-30T21:30:44.129261Z",
     "iopub.status.idle": "2025-07-30T21:30:44.243382Z",
     "shell.execute_reply": "2025-07-30T21:30:44.242360Z"
    },
    "papermill": {
     "duration": 0.153965,
     "end_time": "2025-07-30T21:30:44.257401",
     "exception": false,
     "start_time": "2025-07-30T21:30:44.103436",
     "status": "completed"
    },
    "tags": []
   },
   "outputs": [],
   "source": [
    "from sklearn.linear_model import LogisticRegression\n",
    "from sklearn.ensemble import GradientBoostingClassifier, RandomForestClassifier\n",
    "\n",
    "if (universe[\"model\"] == \"logreg\"):\n",
    "    model = LogisticRegression() #penalty=\"none\") #, solver=\"newton-cg\", max_iter=1) # include random_state=19 ?\n",
    "elif (universe[\"model\"] == \"penalized_logreg\"):\n",
    "    model = LogisticRegression(penalty=\"l2\", C=1.0) #, solver=\"newton-cg\", max_iter=1)\n",
    "elif (universe[\"model\"] == \"rf\"):\n",
    "    model = RandomForestClassifier(n_estimators=100, n_jobs=-1)\n",
    "elif (universe[\"model\"] == \"gbm\"):\n",
    "    model = GradientBoostingClassifier()\n",
    "elif (universe[\"model\"] == \"elasticnet\"):\n",
    "    model = LogisticRegression(penalty = 'elasticnet', solver = 'saga', l1_ratio = 0.5, max_iter=5000) # which solver to use?\n",
    "else:\n",
    "    raise \"Unsupported universe.model\""
   ]
  },
  {
   "cell_type": "code",
   "execution_count": 42,
   "id": "0cc8f744",
   "metadata": {
    "execution": {
     "iopub.execute_input": "2025-07-30T21:30:44.333831Z",
     "iopub.status.busy": "2025-07-30T21:30:44.333449Z",
     "iopub.status.idle": "2025-07-30T21:30:44.339621Z",
     "shell.execute_reply": "2025-07-30T21:30:44.338697Z"
    },
    "papermill": {
     "duration": 0.049584,
     "end_time": "2025-07-30T21:30:44.343171",
     "exception": false,
     "start_time": "2025-07-30T21:30:44.293587",
     "status": "completed"
    },
    "tags": []
   },
   "outputs": [],
   "source": [
    "import numpy as np\n",
    "from sklearn.pipeline import Pipeline\n",
    "from sklearn.preprocessing import StandardScaler\n",
    "\n",
    "model = Pipeline([\n",
    "    #(\"continuous_processor\", continuous_processor),\n",
    "    #(\"categorical_preprocessor\", categorical_preprocessor),\n",
    "    (\"scale\", StandardScaler() if universe[\"scale\"] == \"scale\" else None), \n",
    "    (\"model\", model),\n",
    "])"
   ]
  },
  {
   "cell_type": "code",
   "execution_count": 43,
   "id": "9442c04d",
   "metadata": {
    "execution": {
     "iopub.execute_input": "2025-07-30T21:30:44.458422Z",
     "iopub.status.busy": "2025-07-30T21:30:44.458012Z",
     "iopub.status.idle": "2025-07-30T21:30:45.570395Z",
     "shell.execute_reply": "2025-07-30T21:30:45.569441Z"
    },
    "papermill": {
     "duration": 1.183021,
     "end_time": "2025-07-30T21:30:45.572064",
     "exception": false,
     "start_time": "2025-07-30T21:30:44.389043",
     "status": "completed"
    },
    "tags": []
   },
   "outputs": [
    {
     "data": {
      "text/html": [
       "<style>#sk-container-id-1 {color: black;background-color: white;}#sk-container-id-1 pre{padding: 0;}#sk-container-id-1 div.sk-toggleable {background-color: white;}#sk-container-id-1 label.sk-toggleable__label {cursor: pointer;display: block;width: 100%;margin-bottom: 0;padding: 0.3em;box-sizing: border-box;text-align: center;}#sk-container-id-1 label.sk-toggleable__label-arrow:before {content: \"▸\";float: left;margin-right: 0.25em;color: #696969;}#sk-container-id-1 label.sk-toggleable__label-arrow:hover:before {color: black;}#sk-container-id-1 div.sk-estimator:hover label.sk-toggleable__label-arrow:before {color: black;}#sk-container-id-1 div.sk-toggleable__content {max-height: 0;max-width: 0;overflow: hidden;text-align: left;background-color: #f0f8ff;}#sk-container-id-1 div.sk-toggleable__content pre {margin: 0.2em;color: black;border-radius: 0.25em;background-color: #f0f8ff;}#sk-container-id-1 input.sk-toggleable__control:checked~div.sk-toggleable__content {max-height: 200px;max-width: 100%;overflow: auto;}#sk-container-id-1 input.sk-toggleable__control:checked~label.sk-toggleable__label-arrow:before {content: \"▾\";}#sk-container-id-1 div.sk-estimator input.sk-toggleable__control:checked~label.sk-toggleable__label {background-color: #d4ebff;}#sk-container-id-1 div.sk-label input.sk-toggleable__control:checked~label.sk-toggleable__label {background-color: #d4ebff;}#sk-container-id-1 input.sk-hidden--visually {border: 0;clip: rect(1px 1px 1px 1px);clip: rect(1px, 1px, 1px, 1px);height: 1px;margin: -1px;overflow: hidden;padding: 0;position: absolute;width: 1px;}#sk-container-id-1 div.sk-estimator {font-family: monospace;background-color: #f0f8ff;border: 1px dotted black;border-radius: 0.25em;box-sizing: border-box;margin-bottom: 0.5em;}#sk-container-id-1 div.sk-estimator:hover {background-color: #d4ebff;}#sk-container-id-1 div.sk-parallel-item::after {content: \"\";width: 100%;border-bottom: 1px solid gray;flex-grow: 1;}#sk-container-id-1 div.sk-label:hover label.sk-toggleable__label {background-color: #d4ebff;}#sk-container-id-1 div.sk-serial::before {content: \"\";position: absolute;border-left: 1px solid gray;box-sizing: border-box;top: 0;bottom: 0;left: 50%;z-index: 0;}#sk-container-id-1 div.sk-serial {display: flex;flex-direction: column;align-items: center;background-color: white;padding-right: 0.2em;padding-left: 0.2em;position: relative;}#sk-container-id-1 div.sk-item {position: relative;z-index: 1;}#sk-container-id-1 div.sk-parallel {display: flex;align-items: stretch;justify-content: center;background-color: white;position: relative;}#sk-container-id-1 div.sk-item::before, #sk-container-id-1 div.sk-parallel-item::before {content: \"\";position: absolute;border-left: 1px solid gray;box-sizing: border-box;top: 0;bottom: 0;left: 50%;z-index: -1;}#sk-container-id-1 div.sk-parallel-item {display: flex;flex-direction: column;z-index: 1;position: relative;background-color: white;}#sk-container-id-1 div.sk-parallel-item:first-child::after {align-self: flex-end;width: 50%;}#sk-container-id-1 div.sk-parallel-item:last-child::after {align-self: flex-start;width: 50%;}#sk-container-id-1 div.sk-parallel-item:only-child::after {width: 0;}#sk-container-id-1 div.sk-dashed-wrapped {border: 1px dashed gray;margin: 0 0.4em 0.5em 0.4em;box-sizing: border-box;padding-bottom: 0.4em;background-color: white;}#sk-container-id-1 div.sk-label label {font-family: monospace;font-weight: bold;display: inline-block;line-height: 1.2em;}#sk-container-id-1 div.sk-label-container {text-align: center;}#sk-container-id-1 div.sk-container {/* jupyter's `normalize.less` sets `[hidden] { display: none; }` but bootstrap.min.css set `[hidden] { display: none !important; }` so we also need the `!important` here to be able to override the default hidden behavior on the sphinx rendered scikit-learn.org. See: https://github.com/scikit-learn/scikit-learn/issues/21755 */display: inline-block !important;position: relative;}#sk-container-id-1 div.sk-text-repr-fallback {display: none;}</style><div id=\"sk-container-id-1\" class=\"sk-top-container\"><div class=\"sk-text-repr-fallback\"><pre>Pipeline(steps=[(&#x27;scale&#x27;, None), (&#x27;model&#x27;, GradientBoostingClassifier())])</pre><b>In a Jupyter environment, please rerun this cell to show the HTML representation or trust the notebook. <br />On GitHub, the HTML representation is unable to render, please try loading this page with nbviewer.org.</b></div><div class=\"sk-container\" hidden><div class=\"sk-item sk-dashed-wrapped\"><div class=\"sk-label-container\"><div class=\"sk-label sk-toggleable\"><input class=\"sk-toggleable__control sk-hidden--visually\" id=\"sk-estimator-id-1\" type=\"checkbox\" ><label for=\"sk-estimator-id-1\" class=\"sk-toggleable__label sk-toggleable__label-arrow\">Pipeline</label><div class=\"sk-toggleable__content\"><pre>Pipeline(steps=[(&#x27;scale&#x27;, None), (&#x27;model&#x27;, GradientBoostingClassifier())])</pre></div></div></div><div class=\"sk-serial\"><div class=\"sk-item\"><div class=\"sk-estimator sk-toggleable\"><input class=\"sk-toggleable__control sk-hidden--visually\" id=\"sk-estimator-id-2\" type=\"checkbox\" ><label for=\"sk-estimator-id-2\" class=\"sk-toggleable__label sk-toggleable__label-arrow\">None</label><div class=\"sk-toggleable__content\"><pre>None</pre></div></div></div><div class=\"sk-item\"><div class=\"sk-estimator sk-toggleable\"><input class=\"sk-toggleable__control sk-hidden--visually\" id=\"sk-estimator-id-3\" type=\"checkbox\" ><label for=\"sk-estimator-id-3\" class=\"sk-toggleable__label sk-toggleable__label-arrow\">GradientBoostingClassifier</label><div class=\"sk-toggleable__content\"><pre>GradientBoostingClassifier()</pre></div></div></div></div></div></div></div>"
      ],
      "text/plain": [
       "Pipeline(steps=[('scale', None), ('model', GradientBoostingClassifier())])"
      ]
     },
     "execution_count": 43,
     "metadata": {},
     "output_type": "execute_result"
    }
   ],
   "source": [
    "model.fit(X_train, y_train.values.ravel())"
   ]
  },
  {
   "cell_type": "code",
   "execution_count": 44,
   "id": "af59f8c0",
   "metadata": {
    "execution": {
     "iopub.execute_input": "2025-07-30T21:30:45.627341Z",
     "iopub.status.busy": "2025-07-30T21:30:45.626846Z",
     "iopub.status.idle": "2025-07-30T21:30:45.632931Z",
     "shell.execute_reply": "2025-07-30T21:30:45.631865Z"
    },
    "papermill": {
     "duration": 0.036324,
     "end_time": "2025-07-30T21:30:45.634972",
     "exception": false,
     "start_time": "2025-07-30T21:30:45.598648",
     "status": "completed"
    },
    "tags": []
   },
   "outputs": [],
   "source": [
    "from fairness_multiverse.universe import predict_w_threshold"
   ]
  },
  {
   "cell_type": "code",
   "execution_count": 45,
   "id": "a7cf2e16",
   "metadata": {
    "execution": {
     "iopub.execute_input": "2025-07-30T21:30:45.695212Z",
     "iopub.status.busy": "2025-07-30T21:30:45.694058Z",
     "iopub.status.idle": "2025-07-30T21:30:46.387307Z",
     "shell.execute_reply": "2025-07-30T21:30:46.386128Z"
    },
    "papermill": {
     "duration": 0.729485,
     "end_time": "2025-07-30T21:30:46.388907",
     "exception": false,
     "start_time": "2025-07-30T21:30:45.659422",
     "status": "completed"
    },
    "tags": []
   },
   "outputs": [
    {
     "data": {
      "text/plain": [
       "0.8482220488239884"
      ]
     },
     "execution_count": 45,
     "metadata": {},
     "output_type": "execute_result"
    }
   ],
   "source": [
    "probs_test = model.predict_proba(X_test)\n",
    "\n",
    "'''\n",
    "Below code returns a boolean array (or binary 0/1 array depending on how it’s used) where each element \n",
    "is True if the probability of class 1 is greater than or equal to the threshold, and False otherwise.\n",
    "'''\n",
    "y_pred_default = predict_w_threshold(probs_test, 0.5)\n",
    "\n",
    "from sklearn.metrics import accuracy_score\n",
    "\n",
    "# Naive prediction\n",
    "accuracy_score(y_true = y_true, y_pred = y_pred_default)"
   ]
  },
  {
   "cell_type": "code",
   "execution_count": 46,
   "id": "081964c3",
   "metadata": {
    "execution": {
     "iopub.execute_input": "2025-07-30T21:30:46.509574Z",
     "iopub.status.busy": "2025-07-30T21:30:46.508831Z",
     "iopub.status.idle": "2025-07-30T21:30:47.241652Z",
     "shell.execute_reply": "2025-07-30T21:30:47.240962Z"
    },
    "papermill": {
     "duration": 0.778062,
     "end_time": "2025-07-30T21:30:47.242893",
     "exception": false,
     "start_time": "2025-07-30T21:30:46.464831",
     "status": "completed"
    },
    "tags": []
   },
   "outputs": [
    {
     "data": {
      "text/plain": [
       "array([0, 0, 0, ..., 0, 0, 0])"
      ]
     },
     "execution_count": 46,
     "metadata": {},
     "output_type": "execute_result"
    }
   ],
   "source": [
    "model.predict(X_test)"
   ]
  },
  {
   "cell_type": "markdown",
   "id": "56c9705b",
   "metadata": {
    "papermill": {
     "duration": 0.013363,
     "end_time": "2025-07-30T21:30:47.273269",
     "exception": false,
     "start_time": "2025-07-30T21:30:47.259906",
     "status": "completed"
    },
    "tags": []
   },
   "source": [
    "# Conformal Prediction"
   ]
  },
  {
   "cell_type": "code",
   "execution_count": 47,
   "id": "160ec6ff",
   "metadata": {
    "execution": {
     "iopub.execute_input": "2025-07-30T21:30:47.326576Z",
     "iopub.status.busy": "2025-07-30T21:30:47.326137Z",
     "iopub.status.idle": "2025-07-30T21:30:47.331388Z",
     "shell.execute_reply": "2025-07-30T21:30:47.330328Z"
    },
    "papermill": {
     "duration": 0.034024,
     "end_time": "2025-07-30T21:30:47.333034",
     "exception": false,
     "start_time": "2025-07-30T21:30:47.299010",
     "status": "completed"
    },
    "tags": []
   },
   "outputs": [],
   "source": [
    "# Miscoverage level for conformal prediction (10% allowed error rate => 90% target coverage)\n",
    "alpha = 0.1"
   ]
  },
  {
   "cell_type": "code",
   "execution_count": 48,
   "id": "eadf4555-3dd3-440e-8e35-f82a4ad9f855",
   "metadata": {
    "execution": {
     "iopub.execute_input": "2025-07-30T21:30:47.374356Z",
     "iopub.status.busy": "2025-07-30T21:30:47.373863Z",
     "iopub.status.idle": "2025-07-30T21:30:47.985256Z",
     "shell.execute_reply": "2025-07-30T21:30:47.984221Z"
    },
    "papermill": {
     "duration": 0.636667,
     "end_time": "2025-07-30T21:30:47.987208",
     "exception": false,
     "start_time": "2025-07-30T21:30:47.350541",
     "status": "completed"
    },
    "tags": []
   },
   "outputs": [],
   "source": [
    "probs_calib = model.predict_proba(X_calib)"
   ]
  },
  {
   "cell_type": "code",
   "execution_count": 49,
   "id": "2ed93547-6d5d-4983-9b36-1ecb300da49a",
   "metadata": {
    "execution": {
     "iopub.execute_input": "2025-07-30T21:30:48.040164Z",
     "iopub.status.busy": "2025-07-30T21:30:48.039193Z",
     "iopub.status.idle": "2025-07-30T21:30:48.046246Z",
     "shell.execute_reply": "2025-07-30T21:30:48.045348Z"
    },
    "papermill": {
     "duration": 0.035123,
     "end_time": "2025-07-30T21:30:48.047884",
     "exception": false,
     "start_time": "2025-07-30T21:30:48.012761",
     "status": "completed"
    },
    "tags": []
   },
   "outputs": [],
   "source": [
    "y_calib = y_calib.values.ravel().astype(int)"
   ]
  },
  {
   "cell_type": "code",
   "execution_count": 50,
   "id": "65d1320d-f588-4b38-9072-62af1ae97f7d",
   "metadata": {
    "execution": {
     "iopub.execute_input": "2025-07-30T21:30:48.096315Z",
     "iopub.status.busy": "2025-07-30T21:30:48.095502Z",
     "iopub.status.idle": "2025-07-30T21:30:48.102322Z",
     "shell.execute_reply": "2025-07-30T21:30:48.101455Z"
    },
    "papermill": {
     "duration": 0.032346,
     "end_time": "2025-07-30T21:30:48.103877",
     "exception": false,
     "start_time": "2025-07-30T21:30:48.071531",
     "status": "completed"
    },
    "tags": []
   },
   "outputs": [],
   "source": [
    "from fairness_multiverse.conformal import compute_nc_scores\n",
    "\n",
    "# Compute nonconformity scores on calibration set (1 - probability of true class)\n",
    "nc_scores = compute_nc_scores(probs_calib, y_calib)"
   ]
  },
  {
   "cell_type": "code",
   "execution_count": 51,
   "id": "df3b8ca3-53b7-43d5-9667-7c85da7aeda2",
   "metadata": {
    "execution": {
     "iopub.execute_input": "2025-07-30T21:30:48.164413Z",
     "iopub.status.busy": "2025-07-30T21:30:48.163144Z",
     "iopub.status.idle": "2025-07-30T21:30:48.171540Z",
     "shell.execute_reply": "2025-07-30T21:30:48.170402Z"
    },
    "papermill": {
     "duration": 0.041973,
     "end_time": "2025-07-30T21:30:48.173791",
     "exception": false,
     "start_time": "2025-07-30T21:30:48.131818",
     "status": "completed"
    },
    "tags": []
   },
   "outputs": [],
   "source": [
    "from fairness_multiverse.conformal import find_threshold\n",
    "\n",
    "# Find conformal threshold q_hat for the given alpha (split conformal method)\n",
    "q_hat = find_threshold(nc_scores, alpha)"
   ]
  },
  {
   "cell_type": "code",
   "execution_count": 52,
   "id": "4d29e6c1-0ef6-4aa4-b8fe-4fe79b0d033a",
   "metadata": {
    "execution": {
     "iopub.execute_input": "2025-07-30T21:30:48.237701Z",
     "iopub.status.busy": "2025-07-30T21:30:48.236869Z",
     "iopub.status.idle": "2025-07-30T21:30:48.245621Z",
     "shell.execute_reply": "2025-07-30T21:30:48.244462Z"
    },
    "papermill": {
     "duration": 0.042566,
     "end_time": "2025-07-30T21:30:48.247448",
     "exception": false,
     "start_time": "2025-07-30T21:30:48.204882",
     "status": "completed"
    },
    "tags": []
   },
   "outputs": [
    {
     "data": {
      "text/plain": [
       "0.7581034284174833"
      ]
     },
     "execution_count": 52,
     "metadata": {},
     "output_type": "execute_result"
    }
   ],
   "source": [
    "q_hat"
   ]
  },
  {
   "cell_type": "code",
   "execution_count": 53,
   "id": "92460794-cdac-4be2-ba28-f28c0515a6fb",
   "metadata": {
    "execution": {
     "iopub.execute_input": "2025-07-30T21:30:48.312069Z",
     "iopub.status.busy": "2025-07-30T21:30:48.311190Z",
     "iopub.status.idle": "2025-07-30T21:30:50.409356Z",
     "shell.execute_reply": "2025-07-30T21:30:50.407939Z"
    },
    "papermill": {
     "duration": 2.13359,
     "end_time": "2025-07-30T21:30:50.412180",
     "exception": false,
     "start_time": "2025-07-30T21:30:48.278590",
     "status": "completed"
    },
    "tags": []
   },
   "outputs": [],
   "source": [
    "from fairness_multiverse.conformal import predict_conformal_sets\n",
    "\n",
    "# Generate prediction sets for each test example\n",
    "pred_sets = predict_conformal_sets(model, X_test, q_hat)"
   ]
  },
  {
   "cell_type": "code",
   "execution_count": 54,
   "id": "d90c9a65-e6db-4f5d-80cd-e68fb7e46829",
   "metadata": {
    "execution": {
     "iopub.execute_input": "2025-07-30T21:30:50.488647Z",
     "iopub.status.busy": "2025-07-30T21:30:50.487656Z",
     "iopub.status.idle": "2025-07-30T21:30:50.494501Z",
     "shell.execute_reply": "2025-07-30T21:30:50.493219Z"
    },
    "papermill": {
     "duration": 0.040077,
     "end_time": "2025-07-30T21:30:50.497039",
     "exception": false,
     "start_time": "2025-07-30T21:30:50.456962",
     "status": "completed"
    },
    "tags": []
   },
   "outputs": [],
   "source": [
    "y_true = y_true.squeeze()"
   ]
  },
  {
   "cell_type": "code",
   "execution_count": 55,
   "id": "3a58a54a-1e68-46b9-927a-df01f18aebc8",
   "metadata": {
    "execution": {
     "iopub.execute_input": "2025-07-30T21:30:50.564200Z",
     "iopub.status.busy": "2025-07-30T21:30:50.563282Z",
     "iopub.status.idle": "2025-07-30T21:30:51.648892Z",
     "shell.execute_reply": "2025-07-30T21:30:51.647787Z"
    },
    "papermill": {
     "duration": 1.1198,
     "end_time": "2025-07-30T21:30:51.651214",
     "exception": false,
     "start_time": "2025-07-30T21:30:50.531414",
     "status": "completed"
    },
    "tags": []
   },
   "outputs": [],
   "source": [
    "from fairness_multiverse.conformal import evaluate_sets\n",
    "\n",
    "# Evaluate coverage and average set size on test data\n",
    "metrics = evaluate_sets(pred_sets, y_true)"
   ]
  },
  {
   "cell_type": "markdown",
   "id": "2b569c12-9aaa-4c88-98c9-bbcd0cf3ebb8",
   "metadata": {
    "papermill": {
     "duration": 0.023472,
     "end_time": "2025-07-30T21:30:51.709073",
     "exception": false,
     "start_time": "2025-07-30T21:30:51.685601",
     "status": "completed"
    },
    "tags": []
   },
   "source": [
    "# CP Metrics"
   ]
  },
  {
   "cell_type": "code",
   "execution_count": 56,
   "id": "5ce0a5cb-201f-45a0-ade5-94c7f0bd6095",
   "metadata": {
    "execution": {
     "iopub.execute_input": "2025-07-30T21:30:51.750230Z",
     "iopub.status.busy": "2025-07-30T21:30:51.749788Z",
     "iopub.status.idle": "2025-07-30T21:30:51.757811Z",
     "shell.execute_reply": "2025-07-30T21:30:51.756663Z"
    },
    "papermill": {
     "duration": 0.035914,
     "end_time": "2025-07-30T21:30:51.759765",
     "exception": false,
     "start_time": "2025-07-30T21:30:51.723851",
     "status": "completed"
    },
    "tags": []
   },
   "outputs": [
    {
     "data": {
      "text/plain": [
       "{'coverage': 0.9092520343328503, 'avg_size': 1.1593244900234088}"
      ]
     },
     "execution_count": 56,
     "metadata": {},
     "output_type": "execute_result"
    }
   ],
   "source": [
    "metrics"
   ]
  },
  {
   "cell_type": "code",
   "execution_count": 57,
   "id": "9b9a838d-31c9-430b-ae14-12baee460d17",
   "metadata": {
    "execution": {
     "iopub.execute_input": "2025-07-30T21:30:51.796613Z",
     "iopub.status.busy": "2025-07-30T21:30:51.796116Z",
     "iopub.status.idle": "2025-07-30T21:30:51.805284Z",
     "shell.execute_reply": "2025-07-30T21:30:51.803889Z"
    },
    "papermill": {
     "duration": 0.030275,
     "end_time": "2025-07-30T21:30:51.807263",
     "exception": false,
     "start_time": "2025-07-30T21:30:51.776988",
     "status": "completed"
    },
    "tags": []
   },
   "outputs": [],
   "source": [
    "example_universe = universe.copy()\n",
    "universe_training_year = example_universe.get(\"training_year\")\n",
    "universe_training_size = example_universe.get(\"training_size\")\n",
    "universe_scale = example_universe.get(\"scale\")\n",
    "universe_model = example_universe.get(\"model\")\n",
    "universe_exclude_features = example_universe.get(\"exclude_features\")\n",
    "universe_exclude_subgroups = example_universe.get(\"exclude_subgroups\")"
   ]
  },
  {
   "cell_type": "code",
   "execution_count": 58,
   "id": "f4b6a8ac-9dc0-4245-8a91-5b3b5999c4f9",
   "metadata": {
    "execution": {
     "iopub.execute_input": "2025-07-30T21:30:51.861663Z",
     "iopub.status.busy": "2025-07-30T21:30:51.861355Z",
     "iopub.status.idle": "2025-07-30T21:30:51.866826Z",
     "shell.execute_reply": "2025-07-30T21:30:51.865603Z"
    },
    "papermill": {
     "duration": 0.030929,
     "end_time": "2025-07-30T21:30:51.868242",
     "exception": false,
     "start_time": "2025-07-30T21:30:51.837313",
     "status": "completed"
    },
    "tags": []
   },
   "outputs": [],
   "source": [
    "cp_metrics_dict = {\n",
    "    \"universe_id\": [universe_id],\n",
    "    \"universe_training_year\": [universe_training_year],\n",
    "    \"universe_training_size\": [universe_training_size],\n",
    "    \"universe_scale\": [universe_scale],\n",
    "    \"universe_model\": [universe_model],\n",
    "    \"universe_exclude_features\": [universe_exclude_features],\n",
    "    \"universe_exclude_subgroups\": [universe_exclude_subgroups],\n",
    "    \"q_hat\": [q_hat],\n",
    "    \"coverage\": [metrics[\"coverage\"]],\n",
    "    \"avg_size\": [metrics[\"avg_size\"]],\n",
    "}"
   ]
  },
  {
   "cell_type": "code",
   "execution_count": 59,
   "id": "908acbb1-0371-4915-85ca-3fa520d2efe2",
   "metadata": {
    "execution": {
     "iopub.execute_input": "2025-07-30T21:30:51.899547Z",
     "iopub.status.busy": "2025-07-30T21:30:51.899040Z",
     "iopub.status.idle": "2025-07-30T21:30:51.905754Z",
     "shell.execute_reply": "2025-07-30T21:30:51.905015Z"
    },
    "papermill": {
     "duration": 0.023892,
     "end_time": "2025-07-30T21:30:51.907105",
     "exception": false,
     "start_time": "2025-07-30T21:30:51.883213",
     "status": "completed"
    },
    "tags": []
   },
   "outputs": [
    {
     "data": {
      "text/plain": [
       "{'universe_id': ['59c4294e6c90d0af855192c52fc67fbc'],\n",
       " 'universe_training_year': ['2014'],\n",
       " 'universe_training_size': ['1k'],\n",
       " 'universe_scale': ['do-not-scale'],\n",
       " 'universe_model': ['gbm'],\n",
       " 'universe_exclude_features': ['none'],\n",
       " 'universe_exclude_subgroups': ['drop-non-german'],\n",
       " 'q_hat': [0.7581034284174833],\n",
       " 'coverage': [0.9092520343328503],\n",
       " 'avg_size': [1.1593244900234088]}"
      ]
     },
     "execution_count": 59,
     "metadata": {},
     "output_type": "execute_result"
    }
   ],
   "source": [
    "cp_metrics_dict"
   ]
  },
  {
   "cell_type": "code",
   "execution_count": 60,
   "id": "33007efc-14e9-4ec6-97ac-56a455c82265",
   "metadata": {
    "execution": {
     "iopub.execute_input": "2025-07-30T21:30:51.959841Z",
     "iopub.status.busy": "2025-07-30T21:30:51.959311Z",
     "iopub.status.idle": "2025-07-30T21:30:51.966632Z",
     "shell.execute_reply": "2025-07-30T21:30:51.965617Z"
    },
    "papermill": {
     "duration": 0.038068,
     "end_time": "2025-07-30T21:30:51.968489",
     "exception": false,
     "start_time": "2025-07-30T21:30:51.930421",
     "status": "completed"
    },
    "tags": []
   },
   "outputs": [],
   "source": [
    "cp_metrics_df = pd.DataFrame(cp_metrics_dict)"
   ]
  },
  {
   "cell_type": "code",
   "execution_count": 61,
   "id": "db12611b-57b2-4910-b9d0-355adfd6e7bf",
   "metadata": {
    "execution": {
     "iopub.execute_input": "2025-07-30T21:30:52.024376Z",
     "iopub.status.busy": "2025-07-30T21:30:52.023951Z",
     "iopub.status.idle": "2025-07-30T21:30:52.042814Z",
     "shell.execute_reply": "2025-07-30T21:30:52.041826Z"
    },
    "papermill": {
     "duration": 0.048289,
     "end_time": "2025-07-30T21:30:52.044553",
     "exception": false,
     "start_time": "2025-07-30T21:30:51.996264",
     "status": "completed"
    },
    "tags": []
   },
   "outputs": [
    {
     "data": {
      "text/html": [
       "<div>\n",
       "<style scoped>\n",
       "    .dataframe tbody tr th:only-of-type {\n",
       "        vertical-align: middle;\n",
       "    }\n",
       "\n",
       "    .dataframe tbody tr th {\n",
       "        vertical-align: top;\n",
       "    }\n",
       "\n",
       "    .dataframe thead th {\n",
       "        text-align: right;\n",
       "    }\n",
       "</style>\n",
       "<table border=\"1\" class=\"dataframe\">\n",
       "  <thead>\n",
       "    <tr style=\"text-align: right;\">\n",
       "      <th></th>\n",
       "      <th>universe_id</th>\n",
       "      <th>universe_training_year</th>\n",
       "      <th>universe_training_size</th>\n",
       "      <th>universe_scale</th>\n",
       "      <th>universe_model</th>\n",
       "      <th>universe_exclude_features</th>\n",
       "      <th>universe_exclude_subgroups</th>\n",
       "      <th>q_hat</th>\n",
       "      <th>coverage</th>\n",
       "      <th>avg_size</th>\n",
       "    </tr>\n",
       "  </thead>\n",
       "  <tbody>\n",
       "    <tr>\n",
       "      <th>0</th>\n",
       "      <td>59c4294e6c90d0af855192c52fc67fbc</td>\n",
       "      <td>2014</td>\n",
       "      <td>1k</td>\n",
       "      <td>do-not-scale</td>\n",
       "      <td>gbm</td>\n",
       "      <td>none</td>\n",
       "      <td>drop-non-german</td>\n",
       "      <td>0.758103</td>\n",
       "      <td>0.909252</td>\n",
       "      <td>1.159324</td>\n",
       "    </tr>\n",
       "  </tbody>\n",
       "</table>\n",
       "</div>"
      ],
      "text/plain": [
       "                        universe_id universe_training_year  \\\n",
       "0  59c4294e6c90d0af855192c52fc67fbc                   2014   \n",
       "\n",
       "  universe_training_size universe_scale universe_model  \\\n",
       "0                     1k   do-not-scale            gbm   \n",
       "\n",
       "  universe_exclude_features universe_exclude_subgroups     q_hat  coverage  \\\n",
       "0                      none            drop-non-german  0.758103  0.909252   \n",
       "\n",
       "   avg_size  \n",
       "0  1.159324  "
      ]
     },
     "execution_count": 61,
     "metadata": {},
     "output_type": "execute_result"
    }
   ],
   "source": [
    "cp_metrics_df"
   ]
  },
  {
   "cell_type": "code",
   "execution_count": 62,
   "id": "b7fbde55-a0a1-47e4-9af6-fe4a17fa8c61",
   "metadata": {
    "execution": {
     "iopub.execute_input": "2025-07-30T21:30:52.107075Z",
     "iopub.status.busy": "2025-07-30T21:30:52.106584Z",
     "iopub.status.idle": "2025-07-30T21:30:52.112495Z",
     "shell.execute_reply": "2025-07-30T21:30:52.111429Z"
    },
    "papermill": {
     "duration": 0.038895,
     "end_time": "2025-07-30T21:30:52.114097",
     "exception": false,
     "start_time": "2025-07-30T21:30:52.075202",
     "status": "completed"
    },
    "tags": []
   },
   "outputs": [],
   "source": [
    "# Conditional Coverage & looking at subgroups"
   ]
  },
  {
   "cell_type": "code",
   "execution_count": 63,
   "id": "027ae886-68dd-4141-96c7-805a5450e1ef",
   "metadata": {
    "execution": {
     "iopub.execute_input": "2025-07-30T21:30:52.171803Z",
     "iopub.status.busy": "2025-07-30T21:30:52.171074Z",
     "iopub.status.idle": "2025-07-30T21:30:52.487327Z",
     "shell.execute_reply": "2025-07-30T21:30:52.486294Z"
    },
    "papermill": {
     "duration": 0.346152,
     "end_time": "2025-07-30T21:30:52.489531",
     "exception": false,
     "start_time": "2025-07-30T21:30:52.143379",
     "status": "completed"
    },
    "tags": []
   },
   "outputs": [],
   "source": [
    "from fairness_multiverse.conformal import build_cp_groups\n",
    "\n",
    "cp_groups_df = build_cp_groups(pred_sets, y_true, X_test.index, org_test)\n",
    "#needs universe_id and setting"
   ]
  },
  {
   "cell_type": "code",
   "execution_count": 64,
   "id": "01d5802c-663a-4d1f-9d69-e036faaffbf7",
   "metadata": {
    "execution": {
     "iopub.execute_input": "2025-07-30T21:30:52.549786Z",
     "iopub.status.busy": "2025-07-30T21:30:52.549206Z",
     "iopub.status.idle": "2025-07-30T21:30:52.554758Z",
     "shell.execute_reply": "2025-07-30T21:30:52.553763Z"
    },
    "papermill": {
     "duration": 0.037625,
     "end_time": "2025-07-30T21:30:52.556723",
     "exception": false,
     "start_time": "2025-07-30T21:30:52.519098",
     "status": "completed"
    },
    "tags": []
   },
   "outputs": [],
   "source": [
    "#delete\n",
    "#cp_groups_df"
   ]
  },
  {
   "cell_type": "code",
   "execution_count": 65,
   "id": "fa424af1-d1eb-443d-b717-2d279ada8408",
   "metadata": {
    "execution": {
     "iopub.execute_input": "2025-07-30T21:30:52.586576Z",
     "iopub.status.busy": "2025-07-30T21:30:52.586247Z",
     "iopub.status.idle": "2025-07-30T21:30:52.591886Z",
     "shell.execute_reply": "2025-07-30T21:30:52.590174Z"
    },
    "papermill": {
     "duration": 0.022885,
     "end_time": "2025-07-30T21:30:52.594389",
     "exception": false,
     "start_time": "2025-07-30T21:30:52.571504",
     "status": "completed"
    },
    "tags": []
   },
   "outputs": [],
   "source": [
    "#delete\n",
    "#percentage = (cp_groups_df['nongerman_female'] == 1).mean() * 100\n",
    "#print(percentage)\n"
   ]
  },
  {
   "cell_type": "code",
   "execution_count": 66,
   "id": "6cbdab96-b2b2-45af-ad54-d0516db2e28d",
   "metadata": {
    "execution": {
     "iopub.execute_input": "2025-07-30T21:30:52.628371Z",
     "iopub.status.busy": "2025-07-30T21:30:52.627747Z",
     "iopub.status.idle": "2025-07-30T21:30:54.430836Z",
     "shell.execute_reply": "2025-07-30T21:30:54.430035Z"
    },
    "papermill": {
     "duration": 1.821874,
     "end_time": "2025-07-30T21:30:54.432584",
     "exception": false,
     "start_time": "2025-07-30T21:30:52.610710",
     "status": "completed"
    },
    "tags": []
   },
   "outputs": [],
   "source": [
    "# Define covered = 1 if true_label is in the predicted set\n",
    "cp_groups_df['covered'] = cp_groups_df.apply(\n",
    "    lambda r: int(r['true_label'] in r['pred_set']),\n",
    "    axis=1\n",
    ")"
   ]
  },
  {
   "cell_type": "code",
   "execution_count": 67,
   "id": "338ff529-1a6b-4b87-a931-8e4788d52aad",
   "metadata": {
    "execution": {
     "iopub.execute_input": "2025-07-30T21:30:54.477423Z",
     "iopub.status.busy": "2025-07-30T21:30:54.476916Z",
     "iopub.status.idle": "2025-07-30T21:30:54.481524Z",
     "shell.execute_reply": "2025-07-30T21:30:54.480832Z"
    },
    "papermill": {
     "duration": 0.023375,
     "end_time": "2025-07-30T21:30:54.483103",
     "exception": false,
     "start_time": "2025-07-30T21:30:54.459728",
     "status": "completed"
    },
    "tags": []
   },
   "outputs": [],
   "source": [
    "#cp_groups_df"
   ]
  },
  {
   "cell_type": "code",
   "execution_count": 68,
   "id": "90032e27-66df-4540-9169-4e89cfbaa758",
   "metadata": {
    "execution": {
     "iopub.execute_input": "2025-07-30T21:30:54.541246Z",
     "iopub.status.busy": "2025-07-30T21:30:54.540460Z",
     "iopub.status.idle": "2025-07-30T21:30:54.551101Z",
     "shell.execute_reply": "2025-07-30T21:30:54.549868Z"
    },
    "papermill": {
     "duration": 0.039879,
     "end_time": "2025-07-30T21:30:54.553014",
     "exception": false,
     "start_time": "2025-07-30T21:30:54.513135",
     "status": "completed"
    },
    "tags": []
   },
   "outputs": [],
   "source": [
    "subgroups = ['frau1','nongerman','nongerman_male','nongerman_female']\n",
    "\n",
    "# Conditional coverage for subgroup==1\n",
    "cond_coverage = {\n",
    "    g: cp_groups_df.loc[cp_groups_df[g]==1, 'covered'].mean()\n",
    "    for g in subgroups\n",
    "}"
   ]
  },
  {
   "cell_type": "code",
   "execution_count": 69,
   "id": "1e348fb1-b9c3-45bc-ba23-f016827a7e0d",
   "metadata": {
    "execution": {
     "iopub.execute_input": "2025-07-30T21:30:54.607787Z",
     "iopub.status.busy": "2025-07-30T21:30:54.606922Z",
     "iopub.status.idle": "2025-07-30T21:30:54.614895Z",
     "shell.execute_reply": "2025-07-30T21:30:54.613860Z"
    },
    "papermill": {
     "duration": 0.036135,
     "end_time": "2025-07-30T21:30:54.616603",
     "exception": false,
     "start_time": "2025-07-30T21:30:54.580468",
     "status": "completed"
    },
    "tags": []
   },
   "outputs": [
    {
     "data": {
      "text/plain": [
       "{'frau1': 0.9079390753470818,\n",
       " 'nongerman': 0.9078201313647336,\n",
       " 'nongerman_male': 0.9236242456993605,\n",
       " 'nongerman_female': 0.8816691505216095}"
      ]
     },
     "execution_count": 69,
     "metadata": {},
     "output_type": "execute_result"
    }
   ],
   "source": [
    "cond_coverage"
   ]
  },
  {
   "cell_type": "code",
   "execution_count": 70,
   "id": "f5093324-c3dd-4d63-bc4c-8d945e5c8bbb",
   "metadata": {
    "execution": {
     "iopub.execute_input": "2025-07-30T21:30:54.672786Z",
     "iopub.status.busy": "2025-07-30T21:30:54.672343Z",
     "iopub.status.idle": "2025-07-30T21:30:54.679318Z",
     "shell.execute_reply": "2025-07-30T21:30:54.678619Z"
    },
    "papermill": {
     "duration": 0.036228,
     "end_time": "2025-07-30T21:30:54.680700",
     "exception": false,
     "start_time": "2025-07-30T21:30:54.644472",
     "status": "completed"
    },
    "tags": []
   },
   "outputs": [],
   "source": [
    "for subgroup, cov in cond_coverage.items():\n",
    "    cp_metrics_df[f\"cov_{subgroup}\"] = cov"
   ]
  },
  {
   "cell_type": "code",
   "execution_count": 71,
   "id": "6e872e10-dbe5-49e8-b554-5030c98ff75d",
   "metadata": {
    "execution": {
     "iopub.execute_input": "2025-07-30T21:30:54.716305Z",
     "iopub.status.busy": "2025-07-30T21:30:54.715746Z",
     "iopub.status.idle": "2025-07-30T21:30:54.730375Z",
     "shell.execute_reply": "2025-07-30T21:30:54.729575Z"
    },
    "papermill": {
     "duration": 0.032853,
     "end_time": "2025-07-30T21:30:54.731764",
     "exception": false,
     "start_time": "2025-07-30T21:30:54.698911",
     "status": "completed"
    },
    "tags": []
   },
   "outputs": [
    {
     "data": {
      "text/html": [
       "<div>\n",
       "<style scoped>\n",
       "    .dataframe tbody tr th:only-of-type {\n",
       "        vertical-align: middle;\n",
       "    }\n",
       "\n",
       "    .dataframe tbody tr th {\n",
       "        vertical-align: top;\n",
       "    }\n",
       "\n",
       "    .dataframe thead th {\n",
       "        text-align: right;\n",
       "    }\n",
       "</style>\n",
       "<table border=\"1\" class=\"dataframe\">\n",
       "  <thead>\n",
       "    <tr style=\"text-align: right;\">\n",
       "      <th></th>\n",
       "      <th>universe_id</th>\n",
       "      <th>universe_training_year</th>\n",
       "      <th>universe_training_size</th>\n",
       "      <th>universe_scale</th>\n",
       "      <th>universe_model</th>\n",
       "      <th>universe_exclude_features</th>\n",
       "      <th>universe_exclude_subgroups</th>\n",
       "      <th>q_hat</th>\n",
       "      <th>coverage</th>\n",
       "      <th>avg_size</th>\n",
       "      <th>cov_frau1</th>\n",
       "      <th>cov_nongerman</th>\n",
       "      <th>cov_nongerman_male</th>\n",
       "      <th>cov_nongerman_female</th>\n",
       "    </tr>\n",
       "  </thead>\n",
       "  <tbody>\n",
       "    <tr>\n",
       "      <th>0</th>\n",
       "      <td>59c4294e6c90d0af855192c52fc67fbc</td>\n",
       "      <td>2014</td>\n",
       "      <td>1k</td>\n",
       "      <td>do-not-scale</td>\n",
       "      <td>gbm</td>\n",
       "      <td>none</td>\n",
       "      <td>drop-non-german</td>\n",
       "      <td>0.758103</td>\n",
       "      <td>0.909252</td>\n",
       "      <td>1.159324</td>\n",
       "      <td>0.907939</td>\n",
       "      <td>0.90782</td>\n",
       "      <td>0.923624</td>\n",
       "      <td>0.881669</td>\n",
       "    </tr>\n",
       "  </tbody>\n",
       "</table>\n",
       "</div>"
      ],
      "text/plain": [
       "                        universe_id universe_training_year  \\\n",
       "0  59c4294e6c90d0af855192c52fc67fbc                   2014   \n",
       "\n",
       "  universe_training_size universe_scale universe_model  \\\n",
       "0                     1k   do-not-scale            gbm   \n",
       "\n",
       "  universe_exclude_features universe_exclude_subgroups     q_hat  coverage  \\\n",
       "0                      none            drop-non-german  0.758103  0.909252   \n",
       "\n",
       "   avg_size  cov_frau1  cov_nongerman  cov_nongerman_male  \\\n",
       "0  1.159324   0.907939        0.90782            0.923624   \n",
       "\n",
       "   cov_nongerman_female  \n",
       "0              0.881669  "
      ]
     },
     "execution_count": 71,
     "metadata": {},
     "output_type": "execute_result"
    }
   ],
   "source": [
    "cp_metrics_df"
   ]
  },
  {
   "cell_type": "markdown",
   "id": "33774451",
   "metadata": {
    "papermill": {
     "duration": 0.017664,
     "end_time": "2025-07-30T21:30:54.764607",
     "exception": false,
     "start_time": "2025-07-30T21:30:54.746943",
     "status": "completed"
    },
    "tags": []
   },
   "source": [
    "# (Fairness) Metrics"
   ]
  },
  {
   "cell_type": "code",
   "execution_count": 72,
   "id": "debc5d62",
   "metadata": {
    "execution": {
     "iopub.execute_input": "2025-07-30T21:30:54.801604Z",
     "iopub.status.busy": "2025-07-30T21:30:54.801010Z",
     "iopub.status.idle": "2025-07-30T21:30:54.815213Z",
     "shell.execute_reply": "2025-07-30T21:30:54.814299Z"
    },
    "papermill": {
     "duration": 0.031945,
     "end_time": "2025-07-30T21:30:54.816748",
     "exception": false,
     "start_time": "2025-07-30T21:30:54.784803",
     "status": "completed"
    },
    "tags": []
   },
   "outputs": [],
   "source": [
    "# do I need to include maxdeutsch1.missing?\n",
    "\n",
    "import numpy as np\n",
    "\n",
    "colname_to_bin = \"maxdeutsch1\"\n",
    "majority_value = org_train[colname_to_bin].mode()[0]\n",
    "\n",
    "org_test[\"majmin\"] = np.where(org_test[colname_to_bin] == majority_value, \"majority\", \"minority\")"
   ]
  },
  {
   "cell_type": "code",
   "execution_count": 73,
   "id": "06a50de5",
   "metadata": {
    "execution": {
     "iopub.execute_input": "2025-07-30T21:30:54.862459Z",
     "iopub.status.busy": "2025-07-30T21:30:54.861522Z",
     "iopub.status.idle": "2025-07-30T21:30:57.172419Z",
     "shell.execute_reply": "2025-07-30T21:30:57.171452Z"
    },
    "papermill": {
     "duration": 2.338278,
     "end_time": "2025-07-30T21:30:57.173971",
     "exception": false,
     "start_time": "2025-07-30T21:30:54.835693",
     "status": "completed"
    },
    "tags": []
   },
   "outputs": [],
   "source": [
    "example_universe = universe.copy()\n",
    "example_universe[\"cutoff\"] = example_universe[\"cutoff\"][0]\n",
    "example_universe[\"eval_fairness_grouping\"] = example_universe[\"eval_fairness_grouping\"][0]\n",
    "fairness_dict, metric_frame = universe_analysis.compute_metrics(\n",
    "    example_universe,\n",
    "    y_pred_prob=probs_test,\n",
    "    y_test=y_true,\n",
    "    org_test=org_test,\n",
    ")"
   ]
  },
  {
   "cell_type": "markdown",
   "id": "f95d4e02",
   "metadata": {
    "papermill": {
     "duration": 0.028972,
     "end_time": "2025-07-30T21:30:57.234326",
     "exception": false,
     "start_time": "2025-07-30T21:30:57.205354",
     "status": "completed"
    },
    "tags": []
   },
   "source": [
    "# Overall"
   ]
  },
  {
   "cell_type": "markdown",
   "id": "bdee4871",
   "metadata": {
    "papermill": {
     "duration": 0.029948,
     "end_time": "2025-07-30T21:30:57.290737",
     "exception": false,
     "start_time": "2025-07-30T21:30:57.260789",
     "status": "completed"
    },
    "tags": []
   },
   "source": [
    "Fairness\n",
    "Main fairness target: Equalized Odds. Seems to be a better fit than equal opportunity, since we're not only interested in Y = 1. Seems to be a better fit than demographic parity, since we also care about accuracy, not just equal distribution of preds.\n",
    "\n",
    "Pick column for computation of fairness metrics\n",
    "\n",
    "Performance\n",
    "Overall performance measures, most interesting in relation to the measures split by group below"
   ]
  },
  {
   "cell_type": "code",
   "execution_count": 74,
   "id": "c4e067c6",
   "metadata": {
    "execution": {
     "iopub.execute_input": "2025-07-30T21:30:57.328210Z",
     "iopub.status.busy": "2025-07-30T21:30:57.327669Z",
     "iopub.status.idle": "2025-07-30T21:30:57.336824Z",
     "shell.execute_reply": "2025-07-30T21:30:57.335954Z"
    },
    "papermill": {
     "duration": 0.02617,
     "end_time": "2025-07-30T21:30:57.338499",
     "exception": false,
     "start_time": "2025-07-30T21:30:57.312329",
     "status": "completed"
    },
    "tags": []
   },
   "outputs": [
    {
     "data": {
      "text/plain": [
       "accuracy                   0.221146\n",
       "balanced accuracy          0.541409\n",
       "f1                         0.242566\n",
       "precision                  0.138570\n",
       "false positive rate        0.889376\n",
       "false negative rate        0.027807\n",
       "selection rate             0.900000\n",
       "count                  89710.000000\n",
       "dtype: float64"
      ]
     },
     "execution_count": 74,
     "metadata": {},
     "output_type": "execute_result"
    }
   ],
   "source": [
    "metric_frame.overall"
   ]
  },
  {
   "cell_type": "markdown",
   "id": "e968fe9d",
   "metadata": {
    "papermill": {
     "duration": 0.014788,
     "end_time": "2025-07-30T21:30:57.373944",
     "exception": false,
     "start_time": "2025-07-30T21:30:57.359156",
     "status": "completed"
    },
    "tags": []
   },
   "source": [
    "By Group"
   ]
  },
  {
   "cell_type": "code",
   "execution_count": 75,
   "id": "ec325bce",
   "metadata": {
    "execution": {
     "iopub.execute_input": "2025-07-30T21:30:57.404644Z",
     "iopub.status.busy": "2025-07-30T21:30:57.404303Z",
     "iopub.status.idle": "2025-07-30T21:30:57.416616Z",
     "shell.execute_reply": "2025-07-30T21:30:57.415845Z"
    },
    "papermill": {
     "duration": 0.028824,
     "end_time": "2025-07-30T21:30:57.417916",
     "exception": false,
     "start_time": "2025-07-30T21:30:57.389092",
     "status": "completed"
    },
    "tags": []
   },
   "outputs": [
    {
     "data": {
      "text/html": [
       "<div>\n",
       "<style scoped>\n",
       "    .dataframe tbody tr th:only-of-type {\n",
       "        vertical-align: middle;\n",
       "    }\n",
       "\n",
       "    .dataframe tbody tr th {\n",
       "        vertical-align: top;\n",
       "    }\n",
       "\n",
       "    .dataframe thead th {\n",
       "        text-align: right;\n",
       "    }\n",
       "</style>\n",
       "<table border=\"1\" class=\"dataframe\">\n",
       "  <thead>\n",
       "    <tr style=\"text-align: right;\">\n",
       "      <th></th>\n",
       "      <th>accuracy</th>\n",
       "      <th>balanced accuracy</th>\n",
       "      <th>f1</th>\n",
       "      <th>precision</th>\n",
       "      <th>false positive rate</th>\n",
       "      <th>false negative rate</th>\n",
       "      <th>selection rate</th>\n",
       "      <th>count</th>\n",
       "    </tr>\n",
       "    <tr>\n",
       "      <th>majmin</th>\n",
       "      <th></th>\n",
       "      <th></th>\n",
       "      <th></th>\n",
       "      <th></th>\n",
       "      <th></th>\n",
       "      <th></th>\n",
       "      <th></th>\n",
       "      <th></th>\n",
       "    </tr>\n",
       "  </thead>\n",
       "  <tbody>\n",
       "    <tr>\n",
       "      <th>majority</th>\n",
       "      <td>0.240422</td>\n",
       "      <td>0.549215</td>\n",
       "      <td>0.252121</td>\n",
       "      <td>0.144914</td>\n",
       "      <td>0.870498</td>\n",
       "      <td>0.031072</td>\n",
       "      <td>0.883504</td>\n",
       "      <td>69170.0</td>\n",
       "    </tr>\n",
       "    <tr>\n",
       "      <th>minority</th>\n",
       "      <td>0.156232</td>\n",
       "      <td>0.516529</td>\n",
       "      <td>0.212048</td>\n",
       "      <td>0.118816</td>\n",
       "      <td>0.951739</td>\n",
       "      <td>0.015203</td>\n",
       "      <td>0.955550</td>\n",
       "      <td>20540.0</td>\n",
       "    </tr>\n",
       "  </tbody>\n",
       "</table>\n",
       "</div>"
      ],
      "text/plain": [
       "          accuracy  balanced accuracy        f1  precision  \\\n",
       "majmin                                                       \n",
       "majority  0.240422           0.549215  0.252121   0.144914   \n",
       "minority  0.156232           0.516529  0.212048   0.118816   \n",
       "\n",
       "          false positive rate  false negative rate  selection rate    count  \n",
       "majmin                                                                       \n",
       "majority             0.870498             0.031072        0.883504  69170.0  \n",
       "minority             0.951739             0.015203        0.955550  20540.0  "
      ]
     },
     "execution_count": 75,
     "metadata": {},
     "output_type": "execute_result"
    }
   ],
   "source": [
    "metric_frame.by_group"
   ]
  },
  {
   "cell_type": "code",
   "execution_count": 76,
   "id": "a9ddbe63",
   "metadata": {
    "execution": {
     "iopub.execute_input": "2025-07-30T21:30:57.454698Z",
     "iopub.status.busy": "2025-07-30T21:30:57.454272Z",
     "iopub.status.idle": "2025-07-30T21:31:00.034281Z",
     "shell.execute_reply": "2025-07-30T21:31:00.033420Z"
    },
    "papermill": {
     "duration": 2.597718,
     "end_time": "2025-07-30T21:31:00.036306",
     "exception": false,
     "start_time": "2025-07-30T21:30:57.438588",
     "status": "completed"
    },
    "tags": []
   },
   "outputs": [
    {
     "data": {
      "text/plain": [
       "array([[<Axes: title={'center': 'accuracy'}, xlabel='majmin'>,\n",
       "        <Axes: title={'center': 'balanced accuracy'}, xlabel='majmin'>,\n",
       "        <Axes: title={'center': 'f1'}, xlabel='majmin'>],\n",
       "       [<Axes: title={'center': 'precision'}, xlabel='majmin'>,\n",
       "        <Axes: title={'center': 'false positive rate'}, xlabel='majmin'>,\n",
       "        <Axes: title={'center': 'false negative rate'}, xlabel='majmin'>],\n",
       "       [<Axes: title={'center': 'selection rate'}, xlabel='majmin'>,\n",
       "        <Axes: title={'center': 'count'}, xlabel='majmin'>,\n",
       "        <Axes: xlabel='majmin'>]], dtype=object)"
      ]
     },
     "execution_count": 76,
     "metadata": {},
     "output_type": "execute_result"
    },
    {
     "data": {
      "image/png": "[encoded data removed]",
      "text/plain": [
       "<Figure size 1200x800 with 9 Axes>"
      ]
     },
     "metadata": {},
     "output_type": "display_data"
    }
   ],
   "source": [
    "# In a graphic\n",
    "metric_frame.by_group.plot.bar(\n",
    "    subplots=True,\n",
    "    layout=[3, 3],\n",
    "    legend=False,\n",
    "    figsize=[12, 8],\n",
    "    title=\"Show all metrics\",\n",
    ")"
   ]
  },
  {
   "cell_type": "markdown",
   "id": "f57a0bac",
   "metadata": {
    "papermill": {
     "duration": 0.034477,
     "end_time": "2025-07-30T21:31:00.105455",
     "exception": false,
     "start_time": "2025-07-30T21:31:00.070978",
     "status": "completed"
    },
    "tags": []
   },
   "source": [
    "# Final Output"
   ]
  },
  {
   "cell_type": "code",
   "execution_count": 77,
   "id": "96d280a3",
   "metadata": {
    "execution": {
     "iopub.execute_input": "2025-07-30T21:31:00.150164Z",
     "iopub.status.busy": "2025-07-30T21:31:00.149447Z",
     "iopub.status.idle": "2025-07-30T21:31:00.157617Z",
     "shell.execute_reply": "2025-07-30T21:31:00.156859Z"
    },
    "papermill": {
     "duration": 0.028558,
     "end_time": "2025-07-30T21:31:00.159060",
     "exception": false,
     "start_time": "2025-07-30T21:31:00.130502",
     "status": "completed"
    },
    "tags": []
   },
   "outputs": [
    {
     "data": {
      "text/plain": [
       "4"
      ]
     },
     "execution_count": 77,
     "metadata": {},
     "output_type": "execute_result"
    }
   ],
   "source": [
    "sub_universes = universe_analysis.generate_sub_universes()\n",
    "len(sub_universes)"
   ]
  },
  {
   "cell_type": "code",
   "execution_count": 78,
   "id": "92adf7ba",
   "metadata": {
    "execution": {
     "iopub.execute_input": "2025-07-30T21:31:00.208726Z",
     "iopub.status.busy": "2025-07-30T21:31:00.208188Z",
     "iopub.status.idle": "2025-07-30T21:31:00.215030Z",
     "shell.execute_reply": "2025-07-30T21:31:00.213981Z"
    },
    "papermill": {
     "duration": 0.039777,
     "end_time": "2025-07-30T21:31:00.216728",
     "exception": false,
     "start_time": "2025-07-30T21:31:00.176951",
     "status": "completed"
    },
    "tags": []
   },
   "outputs": [],
   "source": [
    "def filter_sub_universe_data(sub_universe, org_test):\n",
    "    # Keep all rows — no filtering\n",
    "    keep_rows_mask = np.ones(org_test.shape[0], dtype=bool)\n",
    "\n",
    "    print(f\"[INFO] Keeping all rows: {keep_rows_mask.sum()} rows retained.\")\n",
    "    return keep_rows_mask"
   ]
  },
  {
   "cell_type": "code",
   "execution_count": 79,
   "id": "4a759155",
   "metadata": {
    "execution": {
     "iopub.execute_input": "2025-07-30T21:31:00.288817Z",
     "iopub.status.busy": "2025-07-30T21:31:00.287820Z",
     "iopub.status.idle": "2025-07-30T21:31:09.047998Z",
     "shell.execute_reply": "2025-07-30T21:31:09.046808Z"
    },
    "papermill": {
     "duration": 8.797656,
     "end_time": "2025-07-30T21:31:09.049729",
     "exception": false,
     "start_time": "2025-07-30T21:31:00.252073",
     "status": "completed"
    },
    "tags": []
   },
   "outputs": [
    {
     "name": "stdout",
     "output_type": "stream",
     "text": [
      "Stopping execution_time clock.\n",
      "[INFO] Keeping all rows: 89710 rows retained.\n"
     ]
    },
    {
     "name": "stdout",
     "output_type": "stream",
     "text": [
      "[INFO] Keeping all rows: 89710 rows retained.\n"
     ]
    },
    {
     "name": "stdout",
     "output_type": "stream",
     "text": [
      "[INFO] Keeping all rows: 89710 rows retained.\n"
     ]
    },
    {
     "name": "stdout",
     "output_type": "stream",
     "text": [
      "[INFO] Keeping all rows: 89710 rows retained.\n"
     ]
    },
    {
     "data": {
      "text/html": [
       "<div>\n",
       "<style scoped>\n",
       "    .dataframe tbody tr th:only-of-type {\n",
       "        vertical-align: middle;\n",
       "    }\n",
       "\n",
       "    .dataframe tbody tr th {\n",
       "        vertical-align: top;\n",
       "    }\n",
       "\n",
       "    .dataframe thead th {\n",
       "        text-align: right;\n",
       "    }\n",
       "</style>\n",
       "<table border=\"1\" class=\"dataframe\">\n",
       "  <thead>\n",
       "    <tr style=\"text-align: right;\">\n",
       "      <th></th>\n",
       "      <th>run_no</th>\n",
       "      <th>universe_id</th>\n",
       "      <th>universe_settings</th>\n",
       "      <th>execution_time</th>\n",
       "      <th>test_size_n</th>\n",
       "      <th>test_size_frac</th>\n",
       "      <th>fair_main_equalized_odds_difference</th>\n",
       "      <th>fair_main_equalized_odds_ratio</th>\n",
       "      <th>fair_main_demographic_parity_difference</th>\n",
       "      <th>fair_main_demographic_parity_ratio</th>\n",
       "      <th>...</th>\n",
       "      <th>perf_grp_precision_0</th>\n",
       "      <th>perf_grp_precision_1</th>\n",
       "      <th>perf_grp_false positive rate_0</th>\n",
       "      <th>perf_grp_false positive rate_1</th>\n",
       "      <th>perf_grp_false negative rate_0</th>\n",
       "      <th>perf_grp_false negative rate_1</th>\n",
       "      <th>perf_grp_selection rate_0</th>\n",
       "      <th>perf_grp_selection rate_1</th>\n",
       "      <th>perf_grp_count_0</th>\n",
       "      <th>perf_grp_count_1</th>\n",
       "    </tr>\n",
       "  </thead>\n",
       "  <tbody>\n",
       "    <tr>\n",
       "      <th>0</th>\n",
       "      <td>14</td>\n",
       "      <td>59c4294e6c90d0af855192c52fc67fbc</td>\n",
       "      <td>{\"cutoff\": \"quantile_0.1\", \"eval_fairness_grou...</td>\n",
       "      <td>30.61919</td>\n",
       "      <td>89710</td>\n",
       "      <td>1.0</td>\n",
       "      <td>0.081241</td>\n",
       "      <td>0.914640</td>\n",
       "      <td>0.072046</td>\n",
       "      <td>0.924603</td>\n",
       "      <td>...</td>\n",
       "      <td>NaN</td>\n",
       "      <td>NaN</td>\n",
       "      <td>NaN</td>\n",
       "      <td>NaN</td>\n",
       "      <td>NaN</td>\n",
       "      <td>NaN</td>\n",
       "      <td>NaN</td>\n",
       "      <td>NaN</td>\n",
       "      <td>NaN</td>\n",
       "      <td>NaN</td>\n",
       "    </tr>\n",
       "    <tr>\n",
       "      <th>0</th>\n",
       "      <td>14</td>\n",
       "      <td>59c4294e6c90d0af855192c52fc67fbc</td>\n",
       "      <td>{\"cutoff\": \"quantile_0.1\", \"eval_fairness_grou...</td>\n",
       "      <td>30.61919</td>\n",
       "      <td>89710</td>\n",
       "      <td>1.0</td>\n",
       "      <td>0.081241</td>\n",
       "      <td>0.914640</td>\n",
       "      <td>0.072046</td>\n",
       "      <td>0.924603</td>\n",
       "      <td>...</td>\n",
       "      <td>0.118816</td>\n",
       "      <td>0.144914</td>\n",
       "      <td>0.951739</td>\n",
       "      <td>0.870498</td>\n",
       "      <td>0.015203</td>\n",
       "      <td>0.031072</td>\n",
       "      <td>0.955550</td>\n",
       "      <td>0.883504</td>\n",
       "      <td>20540.0</td>\n",
       "      <td>69170.0</td>\n",
       "    </tr>\n",
       "    <tr>\n",
       "      <th>0</th>\n",
       "      <td>14</td>\n",
       "      <td>59c4294e6c90d0af855192c52fc67fbc</td>\n",
       "      <td>{\"cutoff\": \"quantile_0.25\", \"eval_fairness_gro...</td>\n",
       "      <td>30.61919</td>\n",
       "      <td>89710</td>\n",
       "      <td>1.0</td>\n",
       "      <td>0.177295</td>\n",
       "      <td>0.794751</td>\n",
       "      <td>0.158171</td>\n",
       "      <td>0.818916</td>\n",
       "      <td>...</td>\n",
       "      <td>NaN</td>\n",
       "      <td>NaN</td>\n",
       "      <td>NaN</td>\n",
       "      <td>NaN</td>\n",
       "      <td>NaN</td>\n",
       "      <td>NaN</td>\n",
       "      <td>NaN</td>\n",
       "      <td>NaN</td>\n",
       "      <td>NaN</td>\n",
       "      <td>NaN</td>\n",
       "    </tr>\n",
       "    <tr>\n",
       "      <th>0</th>\n",
       "      <td>14</td>\n",
       "      <td>59c4294e6c90d0af855192c52fc67fbc</td>\n",
       "      <td>{\"cutoff\": \"quantile_0.25\", \"eval_fairness_gro...</td>\n",
       "      <td>30.61919</td>\n",
       "      <td>89710</td>\n",
       "      <td>1.0</td>\n",
       "      <td>0.177295</td>\n",
       "      <td>0.794751</td>\n",
       "      <td>0.158171</td>\n",
       "      <td>0.818916</td>\n",
       "      <td>...</td>\n",
       "      <td>0.125077</td>\n",
       "      <td>0.167068</td>\n",
       "      <td>0.863801</td>\n",
       "      <td>0.686507</td>\n",
       "      <td>0.052365</td>\n",
       "      <td>0.095624</td>\n",
       "      <td>0.873466</td>\n",
       "      <td>0.715296</td>\n",
       "      <td>20540.0</td>\n",
       "      <td>69170.0</td>\n",
       "    </tr>\n",
       "  </tbody>\n",
       "</table>\n",
       "<p>4 rows × 50 columns</p>\n",
       "</div>"
      ],
      "text/plain": [
       "  run_no                       universe_id  \\\n",
       "0     14  59c4294e6c90d0af855192c52fc67fbc   \n",
       "0     14  59c4294e6c90d0af855192c52fc67fbc   \n",
       "0     14  59c4294e6c90d0af855192c52fc67fbc   \n",
       "0     14  59c4294e6c90d0af855192c52fc67fbc   \n",
       "\n",
       "                                   universe_settings  execution_time  \\\n",
       "0  {\"cutoff\": \"quantile_0.1\", \"eval_fairness_grou...        30.61919   \n",
       "0  {\"cutoff\": \"quantile_0.1\", \"eval_fairness_grou...        30.61919   \n",
       "0  {\"cutoff\": \"quantile_0.25\", \"eval_fairness_gro...        30.61919   \n",
       "0  {\"cutoff\": \"quantile_0.25\", \"eval_fairness_gro...        30.61919   \n",
       "\n",
       "   test_size_n  test_size_frac  fair_main_equalized_odds_difference  \\\n",
       "0        89710             1.0                             0.081241   \n",
       "0        89710             1.0                             0.081241   \n",
       "0        89710             1.0                             0.177295   \n",
       "0        89710             1.0                             0.177295   \n",
       "\n",
       "   fair_main_equalized_odds_ratio  fair_main_demographic_parity_difference  \\\n",
       "0                        0.914640                                 0.072046   \n",
       "0                        0.914640                                 0.072046   \n",
       "0                        0.794751                                 0.158171   \n",
       "0                        0.794751                                 0.158171   \n",
       "\n",
       "   fair_main_demographic_parity_ratio  ...  perf_grp_precision_0  \\\n",
       "0                            0.924603  ...                   NaN   \n",
       "0                            0.924603  ...              0.118816   \n",
       "0                            0.818916  ...                   NaN   \n",
       "0                            0.818916  ...              0.125077   \n",
       "\n",
       "   perf_grp_precision_1  perf_grp_false positive rate_0  \\\n",
       "0                   NaN                             NaN   \n",
       "0              0.144914                        0.951739   \n",
       "0                   NaN                             NaN   \n",
       "0              0.167068                        0.863801   \n",
       "\n",
       "   perf_grp_false positive rate_1  perf_grp_false negative rate_0  \\\n",
       "0                             NaN                             NaN   \n",
       "0                        0.870498                        0.015203   \n",
       "0                             NaN                             NaN   \n",
       "0                        0.686507                        0.052365   \n",
       "\n",
       "   perf_grp_false negative rate_1  perf_grp_selection rate_0  \\\n",
       "0                             NaN                        NaN   \n",
       "0                        0.031072                   0.955550   \n",
       "0                             NaN                        NaN   \n",
       "0                        0.095624                   0.873466   \n",
       "\n",
       "   perf_grp_selection rate_1  perf_grp_count_0  perf_grp_count_1  \n",
       "0                        NaN               NaN               NaN  \n",
       "0                   0.883504           20540.0           69170.0  \n",
       "0                        NaN               NaN               NaN  \n",
       "0                   0.715296           20540.0           69170.0  \n",
       "\n",
       "[4 rows x 50 columns]"
      ]
     },
     "execution_count": 79,
     "metadata": {},
     "output_type": "execute_result"
    }
   ],
   "source": [
    "final_output = universe_analysis.generate_final_output(\n",
    "    y_pred_prob=probs_test,\n",
    "    y_test=y_true,\n",
    "    org_test=org_test,\n",
    "    filter_data=filter_sub_universe_data,\n",
    "    cp_metrics_df=cp_metrics_df,\n",
    "    save=True,\n",
    ")\n",
    "final_output"
   ]
  },
  {
   "cell_type": "code",
   "execution_count": null,
   "id": "721ff514-cb11-46f8-b6fc-50392f74b5cb",
   "metadata": {
    "papermill": {
     "duration": 0.037066,
     "end_time": "2025-07-30T21:31:09.117592",
     "exception": false,
     "start_time": "2025-07-30T21:31:09.080526",
     "status": "completed"
    },
    "tags": []
   },
   "outputs": [],
   "source": []
  }
 ],
 "metadata": {
  "celltoolbar": "Tags",
  "kernelspec": {
   "display_name": "Python (CMA Fairness)",
   "language": "python",
   "name": "cma_fair_env"
  },
  "language_info": {
   "codemirror_mode": {
    "name": "ipython",
    "version": 3
   },
   "file_extension": ".py",
   "mimetype": "text/x-python",
   "name": "python",
   "nbconvert_exporter": "python",
   "pygments_lexer": "ipython3",
   "version": "3.10.12"
  },
  "papermill": {
   "default_parameters": {},
   "duration": 54.718119,
   "end_time": "2025-07-30T21:31:10.075610",
   "environment_variables": {},
   "exception": null,
   "input_path": "universe_analysis.ipynb",
   "output_path": "output/runs/14/notebooks/m_14-59c4294e6c90d0af855192c52fc67fbc.ipynb",
   "parameters": {
    "output_dir": "output",
    "run_no": "14",
    "seed": "2023",
    "universe": "{\"cutoff\": [\"quantile_0.1\", \"quantile_0.25\"], \"eval_fairness_grouping\": [\"majority-minority\", \"nationality-all\"], \"exclude_features\": \"none\", \"exclude_subgroups\": \"drop-non-german\", \"model\": \"gbm\", \"scale\": \"do-not-scale\", \"training_size\": \"1k\", \"training_year\": \"2014\"}",
    "universe_id": "59c4294e6c90d0af855192c52fc67fbc"
   },
   "start_time": "2025-07-30T21:30:15.357491",
   "version": "2.6.0"
  }
 },
 "nbformat": 4,
 "nbformat_minor": 5
}