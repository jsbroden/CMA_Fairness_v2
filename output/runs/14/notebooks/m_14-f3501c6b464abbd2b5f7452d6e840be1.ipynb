{
 "cells": [
  {
   "cell_type": "code",
   "execution_count": 1,
   "id": "f159f837-637b-42ba-96b5-ec9a68c44524",
   "metadata": {
    "execution": {
     "iopub.execute_input": "2025-07-30T21:50:41.059491Z",
     "iopub.status.busy": "2025-07-30T21:50:41.058969Z",
     "iopub.status.idle": "2025-07-30T21:50:41.072600Z",
     "shell.execute_reply": "2025-07-30T21:50:41.071520Z"
    },
    "papermill": {
     "duration": 0.035585,
     "end_time": "2025-07-30T21:50:41.074414",
     "exception": false,
     "start_time": "2025-07-30T21:50:41.038829",
     "status": "completed"
    },
    "tags": []
   },
   "outputs": [
    {
     "name": "stdout",
     "output_type": "stream",
     "text": [
      "/dss/dsshome1/0C/ra93lal2/cma/CMA_Fairness_v2\n"
     ]
    },
    {
     "name": "stderr",
     "output_type": "stream",
     "text": [
      "/dss/dsshome1/0C/ra93lal2/.local/share/virtualenvs/CMA_Fairness_v2-3j10GkSs/lib/python3.10/site-packages/IPython/core/magics/osm.py:393: UserWarning: This is now an optional IPython functionality, using bookmarks requires you to install the `pickleshare` library.\n",
      "  bkms = self.shell.db.get('bookmarks', {})\n",
      "/dss/dsshome1/0C/ra93lal2/.local/share/virtualenvs/CMA_Fairness_v2-3j10GkSs/lib/python3.10/site-packages/IPython/core/magics/osm.py:417: UserWarning: This is now an optional IPython functionality, setting dhist requires you to install the `pickleshare` library.\n",
      "  self.shell.db['dhist'] = compress_dhist(dhist)[-100:]\n"
     ]
    }
   ],
   "source": [
    "%cd ~/cma/CMA_Fairness_v2"
   ]
  },
  {
   "cell_type": "markdown",
   "id": "de2603b9",
   "metadata": {
    "papermill": {
     "duration": 0.017875,
     "end_time": "2025-07-30T21:50:41.112458",
     "exception": false,
     "start_time": "2025-07-30T21:50:41.094583",
     "status": "completed"
    },
    "tags": []
   },
   "source": [
    "The following cell holds the definition of our parameters, these values can be overriden by rendering the with e.g. the following command:\n",
    "\n",
    "papermill -p alpha 0.2 -p ratio 0.3 universe_analysis.ipynb output/test_run.ipynb"
   ]
  },
  {
   "cell_type": "code",
   "execution_count": 2,
   "id": "a80968a0-40bb-4fa9-85ef-2d5eefb01975",
   "metadata": {
    "execution": {
     "iopub.execute_input": "2025-07-30T21:50:41.153355Z",
     "iopub.status.busy": "2025-07-30T21:50:41.152720Z",
     "iopub.status.idle": "2025-07-30T21:50:41.158389Z",
     "shell.execute_reply": "2025-07-30T21:50:41.157372Z"
    },
    "papermill": {
     "duration": 0.029217,
     "end_time": "2025-07-30T21:50:41.159891",
     "exception": false,
     "start_time": "2025-07-30T21:50:41.130674",
     "status": "completed"
    },
    "tags": []
   },
   "outputs": [
    {
     "name": "stdout",
     "output_type": "stream",
     "text": [
      "Current working directory: /dss/dsshome1/0C/ra93lal2/cma/CMA_Fairness_v2\n"
     ]
    }
   ],
   "source": [
    "import os\n",
    "print(\"Current working directory:\", os.getcwd())"
   ]
  },
  {
   "cell_type": "code",
   "execution_count": 3,
   "id": "2dce4c03",
   "metadata": {
    "execution": {
     "iopub.execute_input": "2025-07-30T21:50:41.199139Z",
     "iopub.status.busy": "2025-07-30T21:50:41.198387Z",
     "iopub.status.idle": "2025-07-30T21:50:41.204511Z",
     "shell.execute_reply": "2025-07-30T21:50:41.203430Z"
    },
    "papermill": {
     "duration": 0.02663,
     "end_time": "2025-07-30T21:50:41.206226",
     "exception": false,
     "start_time": "2025-07-30T21:50:41.179596",
     "status": "completed"
    },
    "tags": [
     "parameters"
    ]
   },
   "outputs": [],
   "source": [
    "run_no = 0\n",
    "universe_id = \"test\"\n",
    "universe = {\n",
    "    \"training_size\": \"25k\", # \"25k\", \"5k\", \"1k\"\n",
    "    \"training_year\": \"2014\", # \"2014\", \"2012_14\", \"2010_14\"\n",
    "    \"scale\": \"scale\", # \"scale\", \"do-not-scale\",\n",
    "    #\"stratify_split\": \"target\", # \"none\", \"target\", \"protected-attribute\", \"both\",\n",
    "    \"model\": \"elasticnet\", # \"logreg\", \"penalized_logreg\", \"rf\", \"gbm\", \"elasticnet\"\n",
    "    \"cutoff\": [\"quantile_0.15\", \"quantile_0.30\"],\n",
    "    \"exclude_features\": \"age\", # \"none\", \"nationality\", \"sex\", \"nationality-sex\", \"age\"\n",
    "    \"exclude_subgroups\": \"keep-all\", # \"keep-all\", \"drop-non-german\"\n",
    "    \"eval_fairness_grouping\": [\"majority-minority\", \"nationality-all\"]\n",
    "}\n",
    "\n",
    "output_dir=\"./output\"\n",
    "seed=0"
   ]
  },
  {
   "cell_type": "code",
   "execution_count": 4,
   "id": "c514fdf0",
   "metadata": {
    "execution": {
     "iopub.execute_input": "2025-07-30T21:50:41.245278Z",
     "iopub.status.busy": "2025-07-30T21:50:41.244521Z",
     "iopub.status.idle": "2025-07-30T21:50:41.249876Z",
     "shell.execute_reply": "2025-07-30T21:50:41.248978Z"
    },
    "papermill": {
     "duration": 0.026281,
     "end_time": "2025-07-30T21:50:41.251517",
     "exception": false,
     "start_time": "2025-07-30T21:50:41.225236",
     "status": "completed"
    },
    "tags": [
     "injected-parameters"
    ]
   },
   "outputs": [],
   "source": [
    "# Parameters\n",
    "universe_id = \"f3501c6b464abbd2b5f7452d6e840be1\"\n",
    "run_no = \"14\"\n",
    "universe = \"{\\\"cutoff\\\": [\\\"quantile_0.1\\\", \\\"quantile_0.25\\\"], \\\"eval_fairness_grouping\\\": [\\\"majority-minority\\\", \\\"nationality-all\\\"], \\\"exclude_features\\\": \\\"age\\\", \\\"exclude_subgroups\\\": \\\"keep-all\\\", \\\"model\\\": \\\"penalized_logreg\\\", \\\"scale\\\": \\\"do-not-scale\\\", \\\"training_size\\\": \\\"1k\\\", \\\"training_year\\\": \\\"2010_14\\\"}\"\n",
    "output_dir = \"output\"\n",
    "seed = \"2023\"\n"
   ]
  },
  {
   "cell_type": "code",
   "execution_count": 5,
   "id": "1650acaf",
   "metadata": {
    "execution": {
     "iopub.execute_input": "2025-07-30T21:50:41.290363Z",
     "iopub.status.busy": "2025-07-30T21:50:41.289733Z",
     "iopub.status.idle": "2025-07-30T21:50:41.295191Z",
     "shell.execute_reply": "2025-07-30T21:50:41.294225Z"
    },
    "papermill": {
     "duration": 0.025877,
     "end_time": "2025-07-30T21:50:41.296905",
     "exception": false,
     "start_time": "2025-07-30T21:50:41.271028",
     "status": "completed"
    },
    "tags": []
   },
   "outputs": [],
   "source": [
    "import json\n",
    "# Parse universe into dict if it is passed as a string\n",
    "if isinstance(universe, str):\n",
    "    universe = json.loads(universe)"
   ]
  },
  {
   "cell_type": "code",
   "execution_count": 6,
   "id": "16620c48",
   "metadata": {
    "execution": {
     "iopub.execute_input": "2025-07-30T21:50:41.335998Z",
     "iopub.status.busy": "2025-07-30T21:50:41.335232Z",
     "iopub.status.idle": "2025-07-30T21:50:41.376115Z",
     "shell.execute_reply": "2025-07-30T21:50:41.375183Z"
    },
    "papermill": {
     "duration": 0.061743,
     "end_time": "2025-07-30T21:50:41.377834",
     "exception": false,
     "start_time": "2025-07-30T21:50:41.316091",
     "status": "completed"
    },
    "tags": []
   },
   "outputs": [],
   "source": [
    "# Auto-reload the custom package\n",
    "%load_ext autoreload\n",
    "%autoreload 1\n",
    "%aimport fairness_multiverse"
   ]
  },
  {
   "cell_type": "code",
   "execution_count": 7,
   "id": "01c5c9f3",
   "metadata": {
    "execution": {
     "iopub.execute_input": "2025-07-30T21:50:41.416921Z",
     "iopub.status.busy": "2025-07-30T21:50:41.416328Z",
     "iopub.status.idle": "2025-07-30T21:50:43.288309Z",
     "shell.execute_reply": "2025-07-30T21:50:43.287202Z"
    },
    "papermill": {
     "duration": 1.893004,
     "end_time": "2025-07-30T21:50:43.290400",
     "exception": false,
     "start_time": "2025-07-30T21:50:41.397396",
     "status": "completed"
    },
    "tags": []
   },
   "outputs": [],
   "source": [
    "from fairness_multiverse.universe import UniverseAnalysis\n",
    "\n",
    "universe_analysis = UniverseAnalysis(\n",
    "    run_no = run_no,\n",
    "    universe_id = universe_id,\n",
    "    universe = universe,\n",
    "    output_dir=output_dir,\n",
    ")"
   ]
  },
  {
   "cell_type": "code",
   "execution_count": 8,
   "id": "106241f5",
   "metadata": {
    "execution": {
     "iopub.execute_input": "2025-07-30T21:50:43.336823Z",
     "iopub.status.busy": "2025-07-30T21:50:43.336105Z",
     "iopub.status.idle": "2025-07-30T21:50:43.342902Z",
     "shell.execute_reply": "2025-07-30T21:50:43.341863Z"
    },
    "papermill": {
     "duration": 0.031954,
     "end_time": "2025-07-30T21:50:43.345046",
     "exception": false,
     "start_time": "2025-07-30T21:50:43.313092",
     "status": "completed"
    },
    "tags": []
   },
   "outputs": [
    {
     "name": "stdout",
     "output_type": "stream",
     "text": [
      "Using Seed: 2023\n"
     ]
    }
   ],
   "source": [
    "import numpy as np\n",
    "parsed_seed = int(seed)\n",
    "np.random.seed(parsed_seed)\n",
    "print(f\"Using Seed: {parsed_seed}\")"
   ]
  },
  {
   "cell_type": "markdown",
   "id": "e0ebdc57",
   "metadata": {
    "papermill": {
     "duration": 0.024645,
     "end_time": "2025-07-30T21:50:43.397520",
     "exception": false,
     "start_time": "2025-07-30T21:50:43.372875",
     "status": "completed"
    },
    "tags": []
   },
   "source": [
    "# Loading Data"
   ]
  },
  {
   "cell_type": "markdown",
   "id": "681925a3",
   "metadata": {
    "papermill": {
     "duration": 0.018035,
     "end_time": "2025-07-30T21:50:43.434685",
     "exception": false,
     "start_time": "2025-07-30T21:50:43.416650",
     "status": "completed"
    },
    "tags": []
   },
   "source": [
    "Load siab_train, siab_test, siab_calib and/or \n",
    "load siab_train_features, siab_train_labels"
   ]
  },
  {
   "cell_type": "code",
   "execution_count": 9,
   "id": "f0496b8a",
   "metadata": {
    "execution": {
     "iopub.execute_input": "2025-07-30T21:50:43.473243Z",
     "iopub.status.busy": "2025-07-30T21:50:43.472590Z",
     "iopub.status.idle": "2025-07-30T21:50:54.033047Z",
     "shell.execute_reply": "2025-07-30T21:50:54.031813Z"
    },
    "papermill": {
     "duration": 10.5818,
     "end_time": "2025-07-30T21:50:54.034785",
     "exception": false,
     "start_time": "2025-07-30T21:50:43.452985",
     "status": "completed"
    },
    "tags": []
   },
   "outputs": [
    {
     "name": "stdout",
     "output_type": "stream",
     "text": [
      "Loading SIAB data from cache: data/siab_cached.csv.gz\n"
     ]
    },
    {
     "name": "stdout",
     "output_type": "stream",
     "text": [
      "(643690, 164)\n"
     ]
    }
   ],
   "source": [
    "from pathlib import Path\n",
    "import pandas as pd\n",
    "\n",
    "# File paths\n",
    "raw_file = Path(\"data/raw/siab.csv\")\n",
    "cache_file = Path(\"data/siab_cached.csv.gz\")\n",
    "\n",
    "# Ensure cache directory exists\n",
    "cache_file.parent.mkdir(parents=True, exist_ok=True)\n",
    "\n",
    "# Load with simple caching\n",
    "if cache_file.exists():\n",
    "    print(f\"Loading SIAB data from cache: {cache_file}\")\n",
    "    siab = pd.read_csv(cache_file, compression='gzip')\n",
    "else:\n",
    "    print(f\"Cache not found. Reading raw SIAB data: {raw_file}\")\n",
    "    siab = pd.read_csv(raw_file)\n",
    "    siab.to_csv(cache_file, index=False, compression='gzip')\n",
    "    print(f\"Cached SIAB data to: {cache_file}\")\n",
    "\n",
    "# Now use `siab` DataFrame as needed\n",
    "print(siab.shape)"
   ]
  },
  {
   "cell_type": "code",
   "execution_count": 10,
   "id": "db0ca512-5f53-4dba-abdb-a2888bca41ba",
   "metadata": {
    "execution": {
     "iopub.execute_input": "2025-07-30T21:50:54.079928Z",
     "iopub.status.busy": "2025-07-30T21:50:54.079397Z",
     "iopub.status.idle": "2025-07-30T21:50:54.085664Z",
     "shell.execute_reply": "2025-07-30T21:50:54.084593Z"
    },
    "papermill": {
     "duration": 0.029103,
     "end_time": "2025-07-30T21:50:54.087541",
     "exception": false,
     "start_time": "2025-07-30T21:50:54.058438",
     "status": "completed"
    },
    "tags": []
   },
   "outputs": [],
   "source": [
    "#siab"
   ]
  },
  {
   "cell_type": "code",
   "execution_count": 11,
   "id": "a0edb063",
   "metadata": {
    "execution": {
     "iopub.execute_input": "2025-07-30T21:50:54.130837Z",
     "iopub.status.busy": "2025-07-30T21:50:54.130311Z",
     "iopub.status.idle": "2025-07-30T21:50:54.135346Z",
     "shell.execute_reply": "2025-07-30T21:50:54.134359Z"
    },
    "papermill": {
     "duration": 0.027613,
     "end_time": "2025-07-30T21:50:54.137043",
     "exception": false,
     "start_time": "2025-07-30T21:50:54.109430",
     "status": "completed"
    },
    "tags": []
   },
   "outputs": [],
   "source": [
    "#import pandas as pd\n",
    "#\n",
    "#X_train = pd.read_csv(\"./data/X_train.csv\")\n",
    "#y_train = pd.read_csv(\"./data/y_train.csv\")"
   ]
  },
  {
   "cell_type": "code",
   "execution_count": 12,
   "id": "63d08085",
   "metadata": {
    "execution": {
     "iopub.execute_input": "2025-07-30T21:50:54.180413Z",
     "iopub.status.busy": "2025-07-30T21:50:54.179901Z",
     "iopub.status.idle": "2025-07-30T21:50:54.185129Z",
     "shell.execute_reply": "2025-07-30T21:50:54.184082Z"
    },
    "papermill": {
     "duration": 0.02832,
     "end_time": "2025-07-30T21:50:54.186946",
     "exception": false,
     "start_time": "2025-07-30T21:50:54.158626",
     "status": "completed"
    },
    "tags": []
   },
   "outputs": [],
   "source": [
    "#X_test = pd.read_csv(\"./data/X_test.csv\")\n",
    "#y_true = pd.read_csv(\"./data/y_test.csv\")"
   ]
  },
  {
   "cell_type": "code",
   "execution_count": 13,
   "id": "98a8d0fa-1d3d-4ed8-bb2c-281470e24add",
   "metadata": {
    "execution": {
     "iopub.execute_input": "2025-07-30T21:50:54.231348Z",
     "iopub.status.busy": "2025-07-30T21:50:54.230762Z",
     "iopub.status.idle": "2025-07-30T21:50:54.235544Z",
     "shell.execute_reply": "2025-07-30T21:50:54.234732Z"
    },
    "papermill": {
     "duration": 0.027784,
     "end_time": "2025-07-30T21:50:54.236864",
     "exception": false,
     "start_time": "2025-07-30T21:50:54.209080",
     "status": "completed"
    },
    "tags": []
   },
   "outputs": [],
   "source": [
    "# Calibration data for conformal\n",
    "#X_calib = pd.read_csv(\"./data/X_calib.csv\")\n",
    "#y_calib = pd.read_csv(\"./data/y_calib.csv\")"
   ]
  },
  {
   "cell_type": "markdown",
   "id": "997051c5-15bd-4b69-9786-c3001a3ce484",
   "metadata": {
    "papermill": {
     "duration": 0.010352,
     "end_time": "2025-07-30T21:50:54.259000",
     "exception": false,
     "start_time": "2025-07-30T21:50:54.248648",
     "status": "completed"
    },
    "tags": []
   },
   "source": [
    "# Splitting Data and Setting Training Data Size"
   ]
  },
  {
   "cell_type": "code",
   "execution_count": 14,
   "id": "e993b61f-042d-41a6-8c81-f55681f86335",
   "metadata": {
    "execution": {
     "iopub.execute_input": "2025-07-30T21:50:54.280813Z",
     "iopub.status.busy": "2025-07-30T21:50:54.280471Z",
     "iopub.status.idle": "2025-07-30T21:50:54.290209Z",
     "shell.execute_reply": "2025-07-30T21:50:54.289163Z"
    },
    "papermill": {
     "duration": 0.022818,
     "end_time": "2025-07-30T21:50:54.292085",
     "exception": false,
     "start_time": "2025-07-30T21:50:54.269267",
     "status": "completed"
    },
    "tags": []
   },
   "outputs": [],
   "source": [
    "def sample_by_year_size(df,\n",
    "                        training_year: str,\n",
    "                        training_size: str,\n",
    "                        random_state: int = 42):\n",
    "    # --- parse training_year into a list of int years ---\n",
    "    if \"_\" in training_year:\n",
    "        start_str, end_str = training_year.split(\"_\", 1)\n",
    "        start = int(start_str)\n",
    "        end   = int(end_str) if len(end_str) == 4 else (int(end_str) + (start // 100)*100)\n",
    "        years = list(range(start, end + 1))\n",
    "    else:\n",
    "        years = [int(training_year)]\n",
    "\n",
    "    df = df[df[\"year\"].isin(years)].reset_index(drop=True)\n",
    "\n",
    "    # --- map training_size to total number of samples ---\n",
    "    total_map = {\"25k\": 25_000, \"5k\": 5_000, \"1k\": 1_000}\n",
    "    if training_size not in total_map:\n",
    "        return df  # e.g. \"all\"\n",
    "\n",
    "    total_samples = total_map[training_size]\n",
    "    n_years       = len(years)\n",
    "    base          = total_samples // n_years\n",
    "    remainder     = total_samples % n_years\n",
    "\n",
    "    # --- build a dict: year -> how many to sample ---\n",
    "    # give +1 to the first `remainder` years in ascending order\n",
    "    quotas = {\n",
    "        year: base + (1 if idx < remainder else 0)\n",
    "        for idx, year in enumerate(sorted(years))\n",
    "    }\n",
    "\n",
    "    # --- sample per‐year according to the quota dict ---\n",
    "    sampled = (\n",
    "        df\n",
    "        .groupby(\"year\", group_keys=False)\n",
    "        .apply(lambda grp: grp.sample(\n",
    "            n=min(len(grp), quotas[grp.name]),\n",
    "            random_state=random_state))\n",
    "        .reset_index(drop=True)\n",
    "    )\n",
    "\n",
    "    return sampled"
   ]
  },
  {
   "cell_type": "code",
   "execution_count": 15,
   "id": "c0ccd338-0e02-41f3-a09d-f56f9266e3fb",
   "metadata": {
    "execution": {
     "iopub.execute_input": "2025-07-30T21:50:54.336862Z",
     "iopub.status.busy": "2025-07-30T21:50:54.335783Z",
     "iopub.status.idle": "2025-07-30T21:50:54.341239Z",
     "shell.execute_reply": "2025-07-30T21:50:54.340164Z"
    },
    "papermill": {
     "duration": 0.028857,
     "end_time": "2025-07-30T21:50:54.343009",
     "exception": false,
     "start_time": "2025-07-30T21:50:54.314152",
     "status": "completed"
    },
    "tags": []
   },
   "outputs": [],
   "source": [
    "#universe[\"training_size\"]"
   ]
  },
  {
   "cell_type": "code",
   "execution_count": 16,
   "id": "ca707fd7-8047-4acd-bfa5-66248fbbf8e6",
   "metadata": {
    "execution": {
     "iopub.execute_input": "2025-07-30T21:50:54.386628Z",
     "iopub.status.busy": "2025-07-30T21:50:54.385710Z",
     "iopub.status.idle": "2025-07-30T21:50:54.390945Z",
     "shell.execute_reply": "2025-07-30T21:50:54.389886Z"
    },
    "papermill": {
     "duration": 0.028701,
     "end_time": "2025-07-30T21:50:54.392826",
     "exception": false,
     "start_time": "2025-07-30T21:50:54.364125",
     "status": "completed"
    },
    "tags": []
   },
   "outputs": [],
   "source": [
    "#universe[\"training_year\"]"
   ]
  },
  {
   "cell_type": "code",
   "execution_count": 17,
   "id": "aea9c6ef-6f46-42c8-85eb-5a62025c1508",
   "metadata": {
    "execution": {
     "iopub.execute_input": "2025-07-30T21:50:54.435717Z",
     "iopub.status.busy": "2025-07-30T21:50:54.435213Z",
     "iopub.status.idle": "2025-07-30T21:50:55.430570Z",
     "shell.execute_reply": "2025-07-30T21:50:55.429587Z"
    },
    "papermill": {
     "duration": 1.018261,
     "end_time": "2025-07-30T21:50:55.432689",
     "exception": false,
     "start_time": "2025-07-30T21:50:54.414428",
     "status": "completed"
    },
    "tags": []
   },
   "outputs": [],
   "source": [
    "siab_train = sample_by_year_size(siab,\n",
    "                               training_year=universe[\"training_year\"],\n",
    "                               training_size=universe[\"training_size\"])"
   ]
  },
  {
   "cell_type": "code",
   "execution_count": 18,
   "id": "8d3afb32-789d-442c-8d5d-9f5aa8dd2eed",
   "metadata": {
    "execution": {
     "iopub.execute_input": "2025-07-30T21:50:55.466914Z",
     "iopub.status.busy": "2025-07-30T21:50:55.466511Z",
     "iopub.status.idle": "2025-07-30T21:50:55.470687Z",
     "shell.execute_reply": "2025-07-30T21:50:55.469982Z"
    },
    "papermill": {
     "duration": 0.019499,
     "end_time": "2025-07-30T21:50:55.471968",
     "exception": false,
     "start_time": "2025-07-30T21:50:55.452469",
     "status": "completed"
    },
    "tags": []
   },
   "outputs": [],
   "source": [
    "#siab_train.shape"
   ]
  },
  {
   "cell_type": "code",
   "execution_count": 19,
   "id": "d582db68-1a4c-47fb-84fc-08518dc1975a",
   "metadata": {
    "execution": {
     "iopub.execute_input": "2025-07-30T21:50:55.495948Z",
     "iopub.status.busy": "2025-07-30T21:50:55.495035Z",
     "iopub.status.idle": "2025-07-30T21:50:55.500526Z",
     "shell.execute_reply": "2025-07-30T21:50:55.499574Z"
    },
    "papermill": {
     "duration": 0.018334,
     "end_time": "2025-07-30T21:50:55.502072",
     "exception": false,
     "start_time": "2025-07-30T21:50:55.483738",
     "status": "completed"
    },
    "tags": []
   },
   "outputs": [],
   "source": [
    "#display(siab_train.groupby(\"year\").size())"
   ]
  },
  {
   "cell_type": "code",
   "execution_count": 20,
   "id": "a561edb4-d032-42cb-8256-22eac1111c64",
   "metadata": {
    "execution": {
     "iopub.execute_input": "2025-07-30T21:50:55.526403Z",
     "iopub.status.busy": "2025-07-30T21:50:55.525673Z",
     "iopub.status.idle": "2025-07-30T21:50:55.712549Z",
     "shell.execute_reply": "2025-07-30T21:50:55.711788Z"
    },
    "papermill": {
     "duration": 0.200235,
     "end_time": "2025-07-30T21:50:55.714364",
     "exception": false,
     "start_time": "2025-07-30T21:50:55.514129",
     "status": "completed"
    },
    "tags": []
   },
   "outputs": [],
   "source": [
    "#siab_train = siab_s[siab_s.year < 2015]\n",
    "siab_calib = siab[siab.year == 2015]\n",
    "siab_test = siab[siab.year == 2016]"
   ]
  },
  {
   "cell_type": "code",
   "execution_count": 21,
   "id": "472de16f-c3db-4916-846b-1f0de9cf1746",
   "metadata": {
    "execution": {
     "iopub.execute_input": "2025-07-30T21:50:55.759035Z",
     "iopub.status.busy": "2025-07-30T21:50:55.758378Z",
     "iopub.status.idle": "2025-07-30T21:50:55.765722Z",
     "shell.execute_reply": "2025-07-30T21:50:55.764541Z"
    },
    "papermill": {
     "duration": 0.031668,
     "end_time": "2025-07-30T21:50:55.767656",
     "exception": false,
     "start_time": "2025-07-30T21:50:55.735988",
     "status": "completed"
    },
    "tags": []
   },
   "outputs": [],
   "source": [
    "X_train = siab_train.iloc[:,4:164]\n",
    "y_train = siab_train.iloc[:, [3]]"
   ]
  },
  {
   "cell_type": "code",
   "execution_count": 22,
   "id": "828c96af-f43a-4ed6-ba47-8ac73a47d56c",
   "metadata": {
    "execution": {
     "iopub.execute_input": "2025-07-30T21:50:55.812666Z",
     "iopub.status.busy": "2025-07-30T21:50:55.812247Z",
     "iopub.status.idle": "2025-07-30T21:50:55.858359Z",
     "shell.execute_reply": "2025-07-30T21:50:55.857547Z"
    },
    "papermill": {
     "duration": 0.069675,
     "end_time": "2025-07-30T21:50:55.859656",
     "exception": false,
     "start_time": "2025-07-30T21:50:55.789981",
     "status": "completed"
    },
    "tags": []
   },
   "outputs": [],
   "source": [
    "X_calib = siab_calib.iloc[:,4:164]\n",
    "y_calib = siab_calib.iloc[:, [3]]"
   ]
  },
  {
   "cell_type": "code",
   "execution_count": 23,
   "id": "c34be9c3-6bd6-476e-acd3-845840e303be",
   "metadata": {
    "execution": {
     "iopub.execute_input": "2025-07-30T21:50:55.884262Z",
     "iopub.status.busy": "2025-07-30T21:50:55.883578Z",
     "iopub.status.idle": "2025-07-30T21:50:55.931560Z",
     "shell.execute_reply": "2025-07-30T21:50:55.930588Z"
    },
    "papermill": {
     "duration": 0.061353,
     "end_time": "2025-07-30T21:50:55.933265",
     "exception": false,
     "start_time": "2025-07-30T21:50:55.871912",
     "status": "completed"
    },
    "tags": []
   },
   "outputs": [],
   "source": [
    "X_test = siab_test.iloc[:,4:164]\n",
    "y_true = siab_test.iloc[:, [3]]"
   ]
  },
  {
   "cell_type": "markdown",
   "id": "9901737e-04df-44f0-9100-f5ad144ed040",
   "metadata": {
    "papermill": {
     "duration": 0.010942,
     "end_time": "2025-07-30T21:50:55.956686",
     "exception": false,
     "start_time": "2025-07-30T21:50:55.945744",
     "status": "completed"
    },
    "tags": []
   },
   "source": [
    "# Splitting Data and Setting Training Data Size OLD VERSION"
   ]
  },
  {
   "cell_type": "code",
   "execution_count": 24,
   "id": "acbc8f7d-8fc8-4e86-8c59-5dcb0f58384b",
   "metadata": {
    "execution": {
     "iopub.execute_input": "2025-07-30T21:50:55.979692Z",
     "iopub.status.busy": "2025-07-30T21:50:55.979190Z",
     "iopub.status.idle": "2025-07-30T21:50:55.984144Z",
     "shell.execute_reply": "2025-07-30T21:50:55.983351Z"
    },
    "papermill": {
     "duration": 0.017855,
     "end_time": "2025-07-30T21:50:55.985370",
     "exception": false,
     "start_time": "2025-07-30T21:50:55.967515",
     "status": "completed"
    },
    "tags": []
   },
   "outputs": [],
   "source": [
    "#def sample_by_year(df, training_size, random_state=42):\n",
    "#    if training_size == \"2014\":\n",
    "#        return df[df[\"year\"] == 2014].reset_index(drop=True)\n",
    "#    \n",
    "#    size_map = {\n",
    "#        \"25k\": 5000,\n",
    "#        \"5k\": 1000,\n",
    "#        \"1k\": 200\n",
    "#    }\n",
    "#\n",
    "#    if training_size not in size_map:\n",
    "#        return df.reset_index(drop=True)  # use all data\n",
    "#\n",
    "#    n_per_year = size_map[training_size]\n",
    "#    grouped = df.groupby(\"year\")\n",
    "#    sampled = grouped.apply(lambda x: x.sample(n=min(n_per_year, len(x)), random_state=random_state))\n",
    "#    return sampled.reset_index(drop=True)"
   ]
  },
  {
   "cell_type": "code",
   "execution_count": 25,
   "id": "6d931f52-beaf-43ff-9e78-9d44a448d54e",
   "metadata": {
    "execution": {
     "iopub.execute_input": "2025-07-30T21:50:56.009526Z",
     "iopub.status.busy": "2025-07-30T21:50:56.009125Z",
     "iopub.status.idle": "2025-07-30T21:50:56.013879Z",
     "shell.execute_reply": "2025-07-30T21:50:56.013102Z"
    },
    "papermill": {
     "duration": 0.017779,
     "end_time": "2025-07-30T21:50:56.015143",
     "exception": false,
     "start_time": "2025-07-30T21:50:55.997364",
     "status": "completed"
    },
    "tags": []
   },
   "outputs": [],
   "source": [
    "#siab_s = sample_by_year(siab, universe[\"training_size\"])"
   ]
  },
  {
   "cell_type": "code",
   "execution_count": 26,
   "id": "5db0a40e-a4e2-4920-be85-b12ae061d70d",
   "metadata": {
    "execution": {
     "iopub.execute_input": "2025-07-30T21:50:56.040728Z",
     "iopub.status.busy": "2025-07-30T21:50:56.040097Z",
     "iopub.status.idle": "2025-07-30T21:50:56.045462Z",
     "shell.execute_reply": "2025-07-30T21:50:56.044278Z"
    },
    "papermill": {
     "duration": 0.019951,
     "end_time": "2025-07-30T21:50:56.047203",
     "exception": false,
     "start_time": "2025-07-30T21:50:56.027252",
     "status": "completed"
    },
    "tags": []
   },
   "outputs": [],
   "source": [
    "#display(siab_s.groupby(\"year\").size())"
   ]
  },
  {
   "cell_type": "code",
   "execution_count": 27,
   "id": "e6c733c5",
   "metadata": {
    "execution": {
     "iopub.execute_input": "2025-07-30T21:50:56.093851Z",
     "iopub.status.busy": "2025-07-30T21:50:56.092917Z",
     "iopub.status.idle": "2025-07-30T21:50:56.187628Z",
     "shell.execute_reply": "2025-07-30T21:50:56.186612Z"
    },
    "papermill": {
     "duration": 0.119584,
     "end_time": "2025-07-30T21:50:56.189492",
     "exception": false,
     "start_time": "2025-07-30T21:50:56.069908",
     "status": "completed"
    },
    "tags": []
   },
   "outputs": [],
   "source": [
    "# Auxiliary data needed downstream in the pipeline\n",
    "\n",
    "org_train = X_train.copy()\n",
    "org_test = X_test.copy()\n",
    "org_calib = X_calib.copy()"
   ]
  },
  {
   "cell_type": "code",
   "execution_count": 28,
   "id": "1466abac-c6da-4492-a62f-4240ae3783af",
   "metadata": {
    "execution": {
     "iopub.execute_input": "2025-07-30T21:50:56.212998Z",
     "iopub.status.busy": "2025-07-30T21:50:56.212592Z",
     "iopub.status.idle": "2025-07-30T21:50:56.217625Z",
     "shell.execute_reply": "2025-07-30T21:50:56.216839Z"
    },
    "papermill": {
     "duration": 0.017948,
     "end_time": "2025-07-30T21:50:56.218810",
     "exception": false,
     "start_time": "2025-07-30T21:50:56.200862",
     "status": "completed"
    },
    "tags": []
   },
   "outputs": [],
   "source": [
    "# put in other script?\n",
    "# Group sizes\n",
    "\n",
    "#def calculate_percentages(df, df_name):\n",
    "#    total_entries = len(df)\n",
    "#\n",
    "#    female_pct = (df['frau1'] == 1).mean() * 100\n",
    "#    non_german_pct = ((df['maxdeutsch1'] == 0) & (df['maxdeutsch.Missing.'] == 0)).mean() * 100\n",
    "#    non_german_male_pct = ((df['frau1'] == 0) & (df['maxdeutsch1'] == 0) & (df['maxdeutsch.Missing.'] == 0)).mean() * 100\n",
    "#    non_german_female_pct = ((df['frau1'] == 1) & (df['maxdeutsch1'] == 0) & (df['maxdeutsch.Missing.'] == 0)).mean() * 100\n",
    "#\n",
    "#    print(f\"--- {df_name} ---\")\n",
    "#    print(f\"Female: {female_pct:.2f}%\")\n",
    "#    print(f\"Non-German: {non_german_pct:.2f}%\")\n",
    "#    print(f\"Non-German Male: {non_german_male_pct:.2f}%\")\n",
    "#    print(f\"Non-German Female: {non_german_female_pct:.2f}%\\n\")\n",
    "#\n",
    "## Calculate for each DataFrame\n",
    "#calculate_percentages(siab_calib, \"siab_calib\")\n",
    "#calculate_percentages(siab_test, \"siab_test\")\n",
    "#calculate_percentages(siab_train, \"siab_train\")"
   ]
  },
  {
   "cell_type": "markdown",
   "id": "0a4a1b33",
   "metadata": {
    "papermill": {
     "duration": 0.011054,
     "end_time": "2025-07-30T21:50:56.241540",
     "exception": false,
     "start_time": "2025-07-30T21:50:56.230486",
     "status": "completed"
    },
    "tags": []
   },
   "source": [
    "# Preprocessing Data"
   ]
  },
  {
   "cell_type": "code",
   "execution_count": 29,
   "id": "ca879031",
   "metadata": {
    "execution": {
     "iopub.execute_input": "2025-07-30T21:50:56.264898Z",
     "iopub.status.busy": "2025-07-30T21:50:56.264403Z",
     "iopub.status.idle": "2025-07-30T21:50:56.269524Z",
     "shell.execute_reply": "2025-07-30T21:50:56.268850Z"
    },
    "papermill": {
     "duration": 0.018259,
     "end_time": "2025-07-30T21:50:56.270847",
     "exception": false,
     "start_time": "2025-07-30T21:50:56.252588",
     "status": "completed"
    },
    "tags": []
   },
   "outputs": [],
   "source": [
    "# EXCLUDE PROTECTED FEATURES\n",
    "# ----------------------\n",
    "# \"exclude_features\": \"none\", # \"nationality\", \"sex\", \"nationality-sex\"\n",
    "\n",
    "excluded_features = universe[\"exclude_features\"].split(\"-\") # split, e.g.: \"nationality-sex\" -> [\"nationality\", \"sex\"]\n",
    "excluded_features_dictionary = {\n",
    "    \"nationality\": [\"maxdeutsch1\", \"maxdeutsch.Missing.\"],\n",
    "    \"sex\": [\"frau1\"],\n",
    "    \"age\": [\"age\"],\n",
    "}\n"
   ]
  },
  {
   "cell_type": "code",
   "execution_count": 30,
   "id": "b745ac60",
   "metadata": {
    "execution": {
     "iopub.execute_input": "2025-07-30T21:50:56.294477Z",
     "iopub.status.busy": "2025-07-30T21:50:56.294005Z",
     "iopub.status.idle": "2025-07-30T21:50:56.298585Z",
     "shell.execute_reply": "2025-07-30T21:50:56.297935Z"
    },
    "papermill": {
     "duration": 0.017548,
     "end_time": "2025-07-30T21:50:56.299860",
     "exception": false,
     "start_time": "2025-07-30T21:50:56.282312",
     "status": "completed"
    },
    "tags": []
   },
   "outputs": [],
   "source": [
    "# Code nice names to column names\n",
    "\n",
    "excluded_features_columns = [\n",
    "    excluded_features_dictionary[f] for f in excluded_features if len(f) > 0 and f != \"none\"\n",
    "]"
   ]
  },
  {
   "cell_type": "code",
   "execution_count": 31,
   "id": "f84f73a2",
   "metadata": {
    "execution": {
     "iopub.execute_input": "2025-07-30T21:50:56.324055Z",
     "iopub.status.busy": "2025-07-30T21:50:56.323330Z",
     "iopub.status.idle": "2025-07-30T21:50:56.328613Z",
     "shell.execute_reply": "2025-07-30T21:50:56.327835Z"
    },
    "papermill": {
     "duration": 0.018362,
     "end_time": "2025-07-30T21:50:56.329885",
     "exception": false,
     "start_time": "2025-07-30T21:50:56.311523",
     "status": "completed"
    },
    "tags": []
   },
   "outputs": [],
   "source": [
    "from utils import flatten_once\n",
    "\n",
    "excluded_features_columns = flatten_once(excluded_features_columns)"
   ]
  },
  {
   "cell_type": "code",
   "execution_count": 32,
   "id": "884dea22",
   "metadata": {
    "execution": {
     "iopub.execute_input": "2025-07-30T21:50:56.354265Z",
     "iopub.status.busy": "2025-07-30T21:50:56.353566Z",
     "iopub.status.idle": "2025-07-30T21:50:56.360408Z",
     "shell.execute_reply": "2025-07-30T21:50:56.359675Z"
    },
    "papermill": {
     "duration": 0.020006,
     "end_time": "2025-07-30T21:50:56.361844",
     "exception": false,
     "start_time": "2025-07-30T21:50:56.341838",
     "status": "completed"
    },
    "tags": []
   },
   "outputs": [
    {
     "name": "stdout",
     "output_type": "stream",
     "text": [
      "Dropping features: ['age']\n"
     ]
    }
   ],
   "source": [
    "if len(excluded_features_columns) > 0:\n",
    "    print(f\"Dropping features: {excluded_features_columns}\")\n",
    "    X_train.drop(excluded_features_columns, axis=1, inplace=True)"
   ]
  },
  {
   "cell_type": "code",
   "execution_count": 33,
   "id": "95ab8b16",
   "metadata": {
    "execution": {
     "iopub.execute_input": "2025-07-30T21:50:56.408875Z",
     "iopub.status.busy": "2025-07-30T21:50:56.408138Z",
     "iopub.status.idle": "2025-07-30T21:50:56.468717Z",
     "shell.execute_reply": "2025-07-30T21:50:56.467574Z"
    },
    "papermill": {
     "duration": 0.086404,
     "end_time": "2025-07-30T21:50:56.470384",
     "exception": false,
     "start_time": "2025-07-30T21:50:56.383980",
     "status": "completed"
    },
    "tags": []
   },
   "outputs": [
    {
     "name": "stdout",
     "output_type": "stream",
     "text": [
      "Dropping features: ['age']\n"
     ]
    }
   ],
   "source": [
    "if len(excluded_features_columns) > 0:\n",
    "    print(f\"Dropping features: {excluded_features_columns}\")\n",
    "    X_test.drop(excluded_features_columns, axis=1, inplace=True)"
   ]
  },
  {
   "cell_type": "code",
   "execution_count": 34,
   "id": "1853aaf5-fb9f-46cb-a2b5-8ea4ae2237e4",
   "metadata": {
    "execution": {
     "iopub.execute_input": "2025-07-30T21:50:56.517522Z",
     "iopub.status.busy": "2025-07-30T21:50:56.516586Z",
     "iopub.status.idle": "2025-07-30T21:50:56.569667Z",
     "shell.execute_reply": "2025-07-30T21:50:56.568656Z"
    },
    "papermill": {
     "duration": 0.078456,
     "end_time": "2025-07-30T21:50:56.571624",
     "exception": false,
     "start_time": "2025-07-30T21:50:56.493168",
     "status": "completed"
    },
    "tags": []
   },
   "outputs": [
    {
     "name": "stdout",
     "output_type": "stream",
     "text": [
      "Dropping features: ['age']\n"
     ]
    }
   ],
   "source": [
    "if len(excluded_features_columns) > 0:\n",
    "    print(f\"Dropping features: {excluded_features_columns}\")\n",
    "    X_calib.drop(excluded_features_columns, axis=1, inplace=True)"
   ]
  },
  {
   "cell_type": "code",
   "execution_count": 35,
   "id": "6727d079-03e5-481e-9d38-292a90b7a0a8",
   "metadata": {
    "execution": {
     "iopub.execute_input": "2025-07-30T21:50:56.618012Z",
     "iopub.status.busy": "2025-07-30T21:50:56.617025Z",
     "iopub.status.idle": "2025-07-30T21:50:56.622140Z",
     "shell.execute_reply": "2025-07-30T21:50:56.621213Z"
    },
    "papermill": {
     "duration": 0.029196,
     "end_time": "2025-07-30T21:50:56.623854",
     "exception": false,
     "start_time": "2025-07-30T21:50:56.594658",
     "status": "completed"
    },
    "tags": []
   },
   "outputs": [],
   "source": [
    "# SPLIT & STRATIFY DATA\n",
    "# ----------------------"
   ]
  },
  {
   "cell_type": "code",
   "execution_count": 36,
   "id": "76c4dc6d",
   "metadata": {
    "execution": {
     "iopub.execute_input": "2025-07-30T21:50:56.670684Z",
     "iopub.status.busy": "2025-07-30T21:50:56.670007Z",
     "iopub.status.idle": "2025-07-30T21:50:56.675480Z",
     "shell.execute_reply": "2025-07-30T21:50:56.674601Z"
    },
    "papermill": {
     "duration": 0.029993,
     "end_time": "2025-07-30T21:50:56.677018",
     "exception": false,
     "start_time": "2025-07-30T21:50:56.647025",
     "status": "completed"
    },
    "tags": []
   },
   "outputs": [],
   "source": [
    "# EXCLUDE CERTAIN SUBGROUPS\n",
    "# ----------------------\n",
    "\n",
    "mode = universe.get(\"exclude_subgroups\", \"keep-all\") \n",
    "# Fetches the exclude_subgroups setting from the universe dict.\n",
    "# Defaults to \"keep-all\" if the key is missing."
   ]
  },
  {
   "cell_type": "code",
   "execution_count": 37,
   "id": "21994072",
   "metadata": {
    "execution": {
     "iopub.execute_input": "2025-07-30T21:50:56.722854Z",
     "iopub.status.busy": "2025-07-30T21:50:56.722204Z",
     "iopub.status.idle": "2025-07-30T21:50:56.729039Z",
     "shell.execute_reply": "2025-07-30T21:50:56.728012Z"
    },
    "papermill": {
     "duration": 0.031086,
     "end_time": "2025-07-30T21:50:56.730679",
     "exception": false,
     "start_time": "2025-07-30T21:50:56.699593",
     "status": "completed"
    },
    "tags": []
   },
   "outputs": [],
   "source": [
    "if mode == \"keep-all\":\n",
    "    keep_mask = pd.Series(True, index=org_train.index)\n",
    "\n",
    "# org_train contains the original feature columns from features_org (in Simson)\n",
    "# features_org contains unprocessed features, for me X_train at beginning ???\n",
    "# For keep-all, creates a boolean Series (keep_mask) of all True, so no rows are removed.\n",
    "\n",
    "elif mode == \"drop-non-german\":\n",
    "    keep_mask = org_train[\"maxdeutsch1\"] == 1 # ??? what about missing values?\n",
    "\n",
    "else:\n",
    "    raise ValueError(f\"Unsupported mode for exclude_subgroups: {mode}\")\n"
   ]
  },
  {
   "cell_type": "code",
   "execution_count": 38,
   "id": "71651440",
   "metadata": {
    "execution": {
     "iopub.execute_input": "2025-07-30T21:50:56.781548Z",
     "iopub.status.busy": "2025-07-30T21:50:56.780895Z",
     "iopub.status.idle": "2025-07-30T21:50:56.787715Z",
     "shell.execute_reply": "2025-07-30T21:50:56.786839Z"
    },
    "papermill": {
     "duration": 0.03256,
     "end_time": "2025-07-30T21:50:56.789318",
     "exception": false,
     "start_time": "2025-07-30T21:50:56.756758",
     "status": "completed"
    },
    "tags": []
   },
   "outputs": [],
   "source": [
    "n_drop = (~keep_mask).sum() # Calculates how many rows are set to be dropped\n",
    "if n_drop > 0:\n",
    "    pct = n_drop / len(keep_mask) * 100\n",
    "    print(f\"Dropping {n_drop} rows ({pct:.2f}%) where mode='{mode}'\")"
   ]
  },
  {
   "cell_type": "code",
   "execution_count": 39,
   "id": "5fb8eee5",
   "metadata": {
    "execution": {
     "iopub.execute_input": "2025-07-30T21:50:56.837411Z",
     "iopub.status.busy": "2025-07-30T21:50:56.836505Z",
     "iopub.status.idle": "2025-07-30T21:50:56.843093Z",
     "shell.execute_reply": "2025-07-30T21:50:56.842131Z"
    },
    "papermill": {
     "duration": 0.031852,
     "end_time": "2025-07-30T21:50:56.844752",
     "exception": false,
     "start_time": "2025-07-30T21:50:56.812900",
     "status": "completed"
    },
    "tags": []
   },
   "outputs": [],
   "source": [
    "X_train = X_train[keep_mask]"
   ]
  },
  {
   "cell_type": "code",
   "execution_count": 40,
   "id": "b202bb3a",
   "metadata": {
    "execution": {
     "iopub.execute_input": "2025-07-30T21:50:56.891463Z",
     "iopub.status.busy": "2025-07-30T21:50:56.890769Z",
     "iopub.status.idle": "2025-07-30T21:50:56.896982Z",
     "shell.execute_reply": "2025-07-30T21:50:56.896076Z"
    },
    "papermill": {
     "duration": 0.031436,
     "end_time": "2025-07-30T21:50:56.898628",
     "exception": false,
     "start_time": "2025-07-30T21:50:56.867192",
     "status": "completed"
    },
    "tags": []
   },
   "outputs": [],
   "source": [
    "y_train = y_train[keep_mask]"
   ]
  },
  {
   "cell_type": "markdown",
   "id": "493e2ac3",
   "metadata": {
    "papermill": {
     "duration": 0.022278,
     "end_time": "2025-07-30T21:50:56.943898",
     "exception": false,
     "start_time": "2025-07-30T21:50:56.921620",
     "status": "completed"
    },
    "tags": []
   },
   "source": [
    "# Model Training"
   ]
  },
  {
   "cell_type": "code",
   "execution_count": 41,
   "id": "679e1268",
   "metadata": {
    "execution": {
     "iopub.execute_input": "2025-07-30T21:50:56.990434Z",
     "iopub.status.busy": "2025-07-30T21:50:56.989632Z",
     "iopub.status.idle": "2025-07-30T21:50:57.073754Z",
     "shell.execute_reply": "2025-07-30T21:50:57.073021Z"
    },
    "papermill": {
     "duration": 0.109183,
     "end_time": "2025-07-30T21:50:57.075557",
     "exception": false,
     "start_time": "2025-07-30T21:50:56.966374",
     "status": "completed"
    },
    "tags": []
   },
   "outputs": [],
   "source": [
    "from sklearn.linear_model import LogisticRegression\n",
    "from sklearn.ensemble import GradientBoostingClassifier, RandomForestClassifier\n",
    "\n",
    "if (universe[\"model\"] == \"logreg\"):\n",
    "    model = LogisticRegression() #penalty=\"none\") #, solver=\"newton-cg\", max_iter=1) # include random_state=19 ?\n",
    "elif (universe[\"model\"] == \"penalized_logreg\"):\n",
    "    model = LogisticRegression(penalty=\"l2\", C=1.0) #, solver=\"newton-cg\", max_iter=1)\n",
    "elif (universe[\"model\"] == \"rf\"):\n",
    "    model = RandomForestClassifier(n_estimators=100, n_jobs=-1)\n",
    "elif (universe[\"model\"] == \"gbm\"):\n",
    "    model = GradientBoostingClassifier()\n",
    "elif (universe[\"model\"] == \"elasticnet\"):\n",
    "    model = LogisticRegression(penalty = 'elasticnet', solver = 'saga', l1_ratio = 0.5, max_iter=5000) # which solver to use?\n",
    "else:\n",
    "    raise \"Unsupported universe.model\""
   ]
  },
  {
   "cell_type": "code",
   "execution_count": 42,
   "id": "0cc8f744",
   "metadata": {
    "execution": {
     "iopub.execute_input": "2025-07-30T21:50:57.137612Z",
     "iopub.status.busy": "2025-07-30T21:50:57.136919Z",
     "iopub.status.idle": "2025-07-30T21:50:57.143837Z",
     "shell.execute_reply": "2025-07-30T21:50:57.142887Z"
    },
    "papermill": {
     "duration": 0.037126,
     "end_time": "2025-07-30T21:50:57.149960",
     "exception": false,
     "start_time": "2025-07-30T21:50:57.112834",
     "status": "completed"
    },
    "tags": []
   },
   "outputs": [],
   "source": [
    "import numpy as np\n",
    "from sklearn.pipeline import Pipeline\n",
    "from sklearn.preprocessing import StandardScaler\n",
    "\n",
    "model = Pipeline([\n",
    "    #(\"continuous_processor\", continuous_processor),\n",
    "    #(\"categorical_preprocessor\", categorical_preprocessor),\n",
    "    (\"scale\", StandardScaler() if universe[\"scale\"] == \"scale\" else None), \n",
    "    (\"model\", model),\n",
    "])"
   ]
  },
  {
   "cell_type": "code",
   "execution_count": 43,
   "id": "9442c04d",
   "metadata": {
    "execution": {
     "iopub.execute_input": "2025-07-30T21:50:57.200324Z",
     "iopub.status.busy": "2025-07-30T21:50:57.199294Z",
     "iopub.status.idle": "2025-07-30T21:50:57.269160Z",
     "shell.execute_reply": "2025-07-30T21:50:57.268274Z"
    },
    "papermill": {
     "duration": 0.096098,
     "end_time": "2025-07-30T21:50:57.270745",
     "exception": false,
     "start_time": "2025-07-30T21:50:57.174647",
     "status": "completed"
    },
    "tags": []
   },
   "outputs": [
    {
     "name": "stderr",
     "output_type": "stream",
     "text": [
      "/dss/dsshome1/0C/ra93lal2/.local/share/virtualenvs/CMA_Fairness_v2-3j10GkSs/lib/python3.10/site-packages/sklearn/linear_model/_logistic.py:444: ConvergenceWarning: lbfgs failed to converge (status=1):\n",
      "STOP: TOTAL NO. of ITERATIONS REACHED LIMIT.\n",
      "\n",
      "Increase the number of iterations (max_iter) or scale the data as shown in:\n",
      "    https://scikit-learn.org/stable/modules/preprocessing.html\n",
      "Please also refer to the documentation for alternative solver options:\n",
      "    https://scikit-learn.org/stable/modules/linear_model.html#logistic-regression\n",
      "  n_iter_i = _check_optimize_result(\n"
     ]
    },
    {
     "data": {
      "text/html": [
       "<style>#sk-container-id-1 {color: black;background-color: white;}#sk-container-id-1 pre{padding: 0;}#sk-container-id-1 div.sk-toggleable {background-color: white;}#sk-container-id-1 label.sk-toggleable__label {cursor: pointer;display: block;width: 100%;margin-bottom: 0;padding: 0.3em;box-sizing: border-box;text-align: center;}#sk-container-id-1 label.sk-toggleable__label-arrow:before {content: \"▸\";float: left;margin-right: 0.25em;color: #696969;}#sk-container-id-1 label.sk-toggleable__label-arrow:hover:before {color: black;}#sk-container-id-1 div.sk-estimator:hover label.sk-toggleable__label-arrow:before {color: black;}#sk-container-id-1 div.sk-toggleable__content {max-height: 0;max-width: 0;overflow: hidden;text-align: left;background-color: #f0f8ff;}#sk-container-id-1 div.sk-toggleable__content pre {margin: 0.2em;color: black;border-radius: 0.25em;background-color: #f0f8ff;}#sk-container-id-1 input.sk-toggleable__control:checked~div.sk-toggleable__content {max-height: 200px;max-width: 100%;overflow: auto;}#sk-container-id-1 input.sk-toggleable__control:checked~label.sk-toggleable__label-arrow:before {content: \"▾\";}#sk-container-id-1 div.sk-estimator input.sk-toggleable__control:checked~label.sk-toggleable__label {background-color: #d4ebff;}#sk-container-id-1 div.sk-label input.sk-toggleable__control:checked~label.sk-toggleable__label {background-color: #d4ebff;}#sk-container-id-1 input.sk-hidden--visually {border: 0;clip: rect(1px 1px 1px 1px);clip: rect(1px, 1px, 1px, 1px);height: 1px;margin: -1px;overflow: hidden;padding: 0;position: absolute;width: 1px;}#sk-container-id-1 div.sk-estimator {font-family: monospace;background-color: #f0f8ff;border: 1px dotted black;border-radius: 0.25em;box-sizing: border-box;margin-bottom: 0.5em;}#sk-container-id-1 div.sk-estimator:hover {background-color: #d4ebff;}#sk-container-id-1 div.sk-parallel-item::after {content: \"\";width: 100%;border-bottom: 1px solid gray;flex-grow: 1;}#sk-container-id-1 div.sk-label:hover label.sk-toggleable__label {background-color: #d4ebff;}#sk-container-id-1 div.sk-serial::before {content: \"\";position: absolute;border-left: 1px solid gray;box-sizing: border-box;top: 0;bottom: 0;left: 50%;z-index: 0;}#sk-container-id-1 div.sk-serial {display: flex;flex-direction: column;align-items: center;background-color: white;padding-right: 0.2em;padding-left: 0.2em;position: relative;}#sk-container-id-1 div.sk-item {position: relative;z-index: 1;}#sk-container-id-1 div.sk-parallel {display: flex;align-items: stretch;justify-content: center;background-color: white;position: relative;}#sk-container-id-1 div.sk-item::before, #sk-container-id-1 div.sk-parallel-item::before {content: \"\";position: absolute;border-left: 1px solid gray;box-sizing: border-box;top: 0;bottom: 0;left: 50%;z-index: -1;}#sk-container-id-1 div.sk-parallel-item {display: flex;flex-direction: column;z-index: 1;position: relative;background-color: white;}#sk-container-id-1 div.sk-parallel-item:first-child::after {align-self: flex-end;width: 50%;}#sk-container-id-1 div.sk-parallel-item:last-child::after {align-self: flex-start;width: 50%;}#sk-container-id-1 div.sk-parallel-item:only-child::after {width: 0;}#sk-container-id-1 div.sk-dashed-wrapped {border: 1px dashed gray;margin: 0 0.4em 0.5em 0.4em;box-sizing: border-box;padding-bottom: 0.4em;background-color: white;}#sk-container-id-1 div.sk-label label {font-family: monospace;font-weight: bold;display: inline-block;line-height: 1.2em;}#sk-container-id-1 div.sk-label-container {text-align: center;}#sk-container-id-1 div.sk-container {/* jupyter's `normalize.less` sets `[hidden] { display: none; }` but bootstrap.min.css set `[hidden] { display: none !important; }` so we also need the `!important` here to be able to override the default hidden behavior on the sphinx rendered scikit-learn.org. See: https://github.com/scikit-learn/scikit-learn/issues/21755 */display: inline-block !important;position: relative;}#sk-container-id-1 div.sk-text-repr-fallback {display: none;}</style><div id=\"sk-container-id-1\" class=\"sk-top-container\"><div class=\"sk-text-repr-fallback\"><pre>Pipeline(steps=[(&#x27;scale&#x27;, None), (&#x27;model&#x27;, LogisticRegression())])</pre><b>In a Jupyter environment, please rerun this cell to show the HTML representation or trust the notebook. <br />On GitHub, the HTML representation is unable to render, please try loading this page with nbviewer.org.</b></div><div class=\"sk-container\" hidden><div class=\"sk-item sk-dashed-wrapped\"><div class=\"sk-label-container\"><div class=\"sk-label sk-toggleable\"><input class=\"sk-toggleable__control sk-hidden--visually\" id=\"sk-estimator-id-1\" type=\"checkbox\" ><label for=\"sk-estimator-id-1\" class=\"sk-toggleable__label sk-toggleable__label-arrow\">Pipeline</label><div class=\"sk-toggleable__content\"><pre>Pipeline(steps=[(&#x27;scale&#x27;, None), (&#x27;model&#x27;, LogisticRegression())])</pre></div></div></div><div class=\"sk-serial\"><div class=\"sk-item\"><div class=\"sk-estimator sk-toggleable\"><input class=\"sk-toggleable__control sk-hidden--visually\" id=\"sk-estimator-id-2\" type=\"checkbox\" ><label for=\"sk-estimator-id-2\" class=\"sk-toggleable__label sk-toggleable__label-arrow\">None</label><div class=\"sk-toggleable__content\"><pre>None</pre></div></div></div><div class=\"sk-item\"><div class=\"sk-estimator sk-toggleable\"><input class=\"sk-toggleable__control sk-hidden--visually\" id=\"sk-estimator-id-3\" type=\"checkbox\" ><label for=\"sk-estimator-id-3\" class=\"sk-toggleable__label sk-toggleable__label-arrow\">LogisticRegression</label><div class=\"sk-toggleable__content\"><pre>LogisticRegression()</pre></div></div></div></div></div></div></div>"
      ],
      "text/plain": [
       "Pipeline(steps=[('scale', None), ('model', LogisticRegression())])"
      ]
     },
     "execution_count": 43,
     "metadata": {},
     "output_type": "execute_result"
    }
   ],
   "source": [
    "model.fit(X_train, y_train.values.ravel())"
   ]
  },
  {
   "cell_type": "code",
   "execution_count": 44,
   "id": "af59f8c0",
   "metadata": {
    "execution": {
     "iopub.execute_input": "2025-07-30T21:50:57.318876Z",
     "iopub.status.busy": "2025-07-30T21:50:57.318229Z",
     "iopub.status.idle": "2025-07-30T21:50:57.323593Z",
     "shell.execute_reply": "2025-07-30T21:50:57.322638Z"
    },
    "papermill": {
     "duration": 0.031215,
     "end_time": "2025-07-30T21:50:57.325320",
     "exception": false,
     "start_time": "2025-07-30T21:50:57.294105",
     "status": "completed"
    },
    "tags": []
   },
   "outputs": [],
   "source": [
    "from fairness_multiverse.universe import predict_w_threshold"
   ]
  },
  {
   "cell_type": "code",
   "execution_count": 45,
   "id": "a7cf2e16",
   "metadata": {
    "execution": {
     "iopub.execute_input": "2025-07-30T21:50:57.375017Z",
     "iopub.status.busy": "2025-07-30T21:50:57.374301Z",
     "iopub.status.idle": "2025-07-30T21:50:57.469829Z",
     "shell.execute_reply": "2025-07-30T21:50:57.468859Z"
    },
    "papermill": {
     "duration": 0.122105,
     "end_time": "2025-07-30T21:50:57.471474",
     "exception": false,
     "start_time": "2025-07-30T21:50:57.349369",
     "status": "completed"
    },
    "tags": []
   },
   "outputs": [
    {
     "data": {
      "text/plain": [
       "0.8548433842381006"
      ]
     },
     "execution_count": 45,
     "metadata": {},
     "output_type": "execute_result"
    }
   ],
   "source": [
    "probs_test = model.predict_proba(X_test)\n",
    "\n",
    "'''\n",
    "Below code returns a boolean array (or binary 0/1 array depending on how it’s used) where each element \n",
    "is True if the probability of class 1 is greater than or equal to the threshold, and False otherwise.\n",
    "'''\n",
    "y_pred_default = predict_w_threshold(probs_test, 0.5)\n",
    "\n",
    "from sklearn.metrics import accuracy_score\n",
    "\n",
    "# Naive prediction\n",
    "accuracy_score(y_true = y_true, y_pred = y_pred_default)"
   ]
  },
  {
   "cell_type": "code",
   "execution_count": 46,
   "id": "081964c3",
   "metadata": {
    "execution": {
     "iopub.execute_input": "2025-07-30T21:50:57.520812Z",
     "iopub.status.busy": "2025-07-30T21:50:57.520157Z",
     "iopub.status.idle": "2025-07-30T21:50:57.605549Z",
     "shell.execute_reply": "2025-07-30T21:50:57.604487Z"
    },
    "papermill": {
     "duration": 0.112614,
     "end_time": "2025-07-30T21:50:57.607444",
     "exception": false,
     "start_time": "2025-07-30T21:50:57.494830",
     "status": "completed"
    },
    "tags": []
   },
   "outputs": [
    {
     "data": {
      "text/plain": [
       "array([0, 0, 0, ..., 0, 0, 0])"
      ]
     },
     "execution_count": 46,
     "metadata": {},
     "output_type": "execute_result"
    }
   ],
   "source": [
    "model.predict(X_test)"
   ]
  },
  {
   "cell_type": "markdown",
   "id": "56c9705b",
   "metadata": {
    "papermill": {
     "duration": 0.022825,
     "end_time": "2025-07-30T21:50:57.654285",
     "exception": false,
     "start_time": "2025-07-30T21:50:57.631460",
     "status": "completed"
    },
    "tags": []
   },
   "source": [
    "# Conformal Prediction"
   ]
  },
  {
   "cell_type": "code",
   "execution_count": 47,
   "id": "160ec6ff",
   "metadata": {
    "execution": {
     "iopub.execute_input": "2025-07-30T21:50:57.704263Z",
     "iopub.status.busy": "2025-07-30T21:50:57.703357Z",
     "iopub.status.idle": "2025-07-30T21:50:57.708798Z",
     "shell.execute_reply": "2025-07-30T21:50:57.707739Z"
    },
    "papermill": {
     "duration": 0.031833,
     "end_time": "2025-07-30T21:50:57.710425",
     "exception": false,
     "start_time": "2025-07-30T21:50:57.678592",
     "status": "completed"
    },
    "tags": []
   },
   "outputs": [],
   "source": [
    "# Miscoverage level for conformal prediction (10% allowed error rate => 90% target coverage)\n",
    "alpha = 0.1"
   ]
  },
  {
   "cell_type": "code",
   "execution_count": 48,
   "id": "eadf4555-3dd3-440e-8e35-f82a4ad9f855",
   "metadata": {
    "execution": {
     "iopub.execute_input": "2025-07-30T21:50:57.760282Z",
     "iopub.status.busy": "2025-07-30T21:50:57.759535Z",
     "iopub.status.idle": "2025-07-30T21:50:57.842889Z",
     "shell.execute_reply": "2025-07-30T21:50:57.841875Z"
    },
    "papermill": {
     "duration": 0.110064,
     "end_time": "2025-07-30T21:50:57.844807",
     "exception": false,
     "start_time": "2025-07-30T21:50:57.734743",
     "status": "completed"
    },
    "tags": []
   },
   "outputs": [],
   "source": [
    "probs_calib = model.predict_proba(X_calib)"
   ]
  },
  {
   "cell_type": "code",
   "execution_count": 49,
   "id": "2ed93547-6d5d-4983-9b36-1ecb300da49a",
   "metadata": {
    "execution": {
     "iopub.execute_input": "2025-07-30T21:50:57.894855Z",
     "iopub.status.busy": "2025-07-30T21:50:57.894151Z",
     "iopub.status.idle": "2025-07-30T21:50:57.900813Z",
     "shell.execute_reply": "2025-07-30T21:50:57.899800Z"
    },
    "papermill": {
     "duration": 0.033319,
     "end_time": "2025-07-30T21:50:57.902408",
     "exception": false,
     "start_time": "2025-07-30T21:50:57.869089",
     "status": "completed"
    },
    "tags": []
   },
   "outputs": [],
   "source": [
    "y_calib = y_calib.values.ravel().astype(int)"
   ]
  },
  {
   "cell_type": "code",
   "execution_count": 50,
   "id": "65d1320d-f588-4b38-9072-62af1ae97f7d",
   "metadata": {
    "execution": {
     "iopub.execute_input": "2025-07-30T21:50:57.952501Z",
     "iopub.status.busy": "2025-07-30T21:50:57.951807Z",
     "iopub.status.idle": "2025-07-30T21:50:57.959512Z",
     "shell.execute_reply": "2025-07-30T21:50:57.958573Z"
    },
    "papermill": {
     "duration": 0.03438,
     "end_time": "2025-07-30T21:50:57.961700",
     "exception": false,
     "start_time": "2025-07-30T21:50:57.927320",
     "status": "completed"
    },
    "tags": []
   },
   "outputs": [],
   "source": [
    "from fairness_multiverse.conformal import compute_nc_scores\n",
    "\n",
    "# Compute nonconformity scores on calibration set (1 - probability of true class)\n",
    "nc_scores = compute_nc_scores(probs_calib, y_calib)"
   ]
  },
  {
   "cell_type": "code",
   "execution_count": 51,
   "id": "df3b8ca3-53b7-43d5-9667-7c85da7aeda2",
   "metadata": {
    "execution": {
     "iopub.execute_input": "2025-07-30T21:50:58.012070Z",
     "iopub.status.busy": "2025-07-30T21:50:58.011139Z",
     "iopub.status.idle": "2025-07-30T21:50:58.018056Z",
     "shell.execute_reply": "2025-07-30T21:50:58.017108Z"
    },
    "papermill": {
     "duration": 0.033241,
     "end_time": "2025-07-30T21:50:58.019695",
     "exception": false,
     "start_time": "2025-07-30T21:50:57.986454",
     "status": "completed"
    },
    "tags": []
   },
   "outputs": [],
   "source": [
    "from fairness_multiverse.conformal import find_threshold\n",
    "\n",
    "# Find conformal threshold q_hat for the given alpha (split conformal method)\n",
    "q_hat = find_threshold(nc_scores, alpha)"
   ]
  },
  {
   "cell_type": "code",
   "execution_count": 52,
   "id": "4d29e6c1-0ef6-4aa4-b8fe-4fe79b0d033a",
   "metadata": {
    "execution": {
     "iopub.execute_input": "2025-07-30T21:50:58.071333Z",
     "iopub.status.busy": "2025-07-30T21:50:58.070308Z",
     "iopub.status.idle": "2025-07-30T21:50:58.077654Z",
     "shell.execute_reply": "2025-07-30T21:50:58.076654Z"
    },
    "papermill": {
     "duration": 0.034214,
     "end_time": "2025-07-30T21:50:58.079129",
     "exception": false,
     "start_time": "2025-07-30T21:50:58.044915",
     "status": "completed"
    },
    "tags": []
   },
   "outputs": [
    {
     "data": {
      "text/plain": [
       "0.6768602344056824"
      ]
     },
     "execution_count": 52,
     "metadata": {},
     "output_type": "execute_result"
    }
   ],
   "source": [
    "q_hat"
   ]
  },
  {
   "cell_type": "code",
   "execution_count": 53,
   "id": "92460794-cdac-4be2-ba28-f28c0515a6fb",
   "metadata": {
    "execution": {
     "iopub.execute_input": "2025-07-30T21:50:58.130854Z",
     "iopub.status.busy": "2025-07-30T21:50:58.130187Z",
     "iopub.status.idle": "2025-07-30T21:50:59.037192Z",
     "shell.execute_reply": "2025-07-30T21:50:59.036155Z"
    },
    "papermill": {
     "duration": 0.934813,
     "end_time": "2025-07-30T21:50:59.039169",
     "exception": false,
     "start_time": "2025-07-30T21:50:58.104356",
     "status": "completed"
    },
    "tags": []
   },
   "outputs": [],
   "source": [
    "from fairness_multiverse.conformal import predict_conformal_sets\n",
    "\n",
    "# Generate prediction sets for each test example\n",
    "pred_sets = predict_conformal_sets(model, X_test, q_hat)"
   ]
  },
  {
   "cell_type": "code",
   "execution_count": 54,
   "id": "d90c9a65-e6db-4f5d-80cd-e68fb7e46829",
   "metadata": {
    "execution": {
     "iopub.execute_input": "2025-07-30T21:50:59.090897Z",
     "iopub.status.busy": "2025-07-30T21:50:59.090119Z",
     "iopub.status.idle": "2025-07-30T21:50:59.096591Z",
     "shell.execute_reply": "2025-07-30T21:50:59.095530Z"
    },
    "papermill": {
     "duration": 0.035155,
     "end_time": "2025-07-30T21:50:59.098467",
     "exception": false,
     "start_time": "2025-07-30T21:50:59.063312",
     "status": "completed"
    },
    "tags": []
   },
   "outputs": [],
   "source": [
    "y_true = y_true.squeeze()"
   ]
  },
  {
   "cell_type": "code",
   "execution_count": 55,
   "id": "3a58a54a-1e68-46b9-927a-df01f18aebc8",
   "metadata": {
    "execution": {
     "iopub.execute_input": "2025-07-30T21:50:59.151013Z",
     "iopub.status.busy": "2025-07-30T21:50:59.149982Z",
     "iopub.status.idle": "2025-07-30T21:51:00.469887Z",
     "shell.execute_reply": "2025-07-30T21:51:00.469124Z"
    },
    "papermill": {
     "duration": 1.347846,
     "end_time": "2025-07-30T21:51:00.471274",
     "exception": false,
     "start_time": "2025-07-30T21:50:59.123428",
     "status": "completed"
    },
    "tags": []
   },
   "outputs": [],
   "source": [
    "from fairness_multiverse.conformal import evaluate_sets\n",
    "\n",
    "# Evaluate coverage and average set size on test data\n",
    "metrics = evaluate_sets(pred_sets, y_true)"
   ]
  },
  {
   "cell_type": "markdown",
   "id": "2b569c12-9aaa-4c88-98c9-bbcd0cf3ebb8",
   "metadata": {
    "papermill": {
     "duration": 0.066948,
     "end_time": "2025-07-30T21:51:00.551450",
     "exception": false,
     "start_time": "2025-07-30T21:51:00.484502",
     "status": "completed"
    },
    "tags": []
   },
   "source": [
    "# CP Metrics"
   ]
  },
  {
   "cell_type": "code",
   "execution_count": 56,
   "id": "5ce0a5cb-201f-45a0-ade5-94c7f0bd6095",
   "metadata": {
    "execution": {
     "iopub.execute_input": "2025-07-30T21:51:00.602604Z",
     "iopub.status.busy": "2025-07-30T21:51:00.602133Z",
     "iopub.status.idle": "2025-07-30T21:51:00.609292Z",
     "shell.execute_reply": "2025-07-30T21:51:00.608353Z"
    },
    "papermill": {
     "duration": 0.036703,
     "end_time": "2025-07-30T21:51:00.612008",
     "exception": false,
     "start_time": "2025-07-30T21:51:00.575305",
     "status": "completed"
    },
    "tags": []
   },
   "outputs": [
    {
     "data": {
      "text/plain": [
       "{'coverage': 0.9133652881507078, 'avg_size': 1.272143573737599}"
      ]
     },
     "execution_count": 56,
     "metadata": {},
     "output_type": "execute_result"
    }
   ],
   "source": [
    "metrics"
   ]
  },
  {
   "cell_type": "code",
   "execution_count": 57,
   "id": "9b9a838d-31c9-430b-ae14-12baee460d17",
   "metadata": {
    "execution": {
     "iopub.execute_input": "2025-07-30T21:51:00.663831Z",
     "iopub.status.busy": "2025-07-30T21:51:00.663393Z",
     "iopub.status.idle": "2025-07-30T21:51:00.669960Z",
     "shell.execute_reply": "2025-07-30T21:51:00.669017Z"
    },
    "papermill": {
     "duration": 0.034429,
     "end_time": "2025-07-30T21:51:00.671886",
     "exception": false,
     "start_time": "2025-07-30T21:51:00.637457",
     "status": "completed"
    },
    "tags": []
   },
   "outputs": [],
   "source": [
    "example_universe = universe.copy()\n",
    "universe_training_year = example_universe.get(\"training_year\")\n",
    "universe_training_size = example_universe.get(\"training_size\")\n",
    "universe_scale = example_universe.get(\"scale\")\n",
    "universe_model = example_universe.get(\"model\")\n",
    "universe_exclude_features = example_universe.get(\"exclude_features\")\n",
    "universe_exclude_subgroups = example_universe.get(\"exclude_subgroups\")"
   ]
  },
  {
   "cell_type": "code",
   "execution_count": 58,
   "id": "f4b6a8ac-9dc0-4245-8a91-5b3b5999c4f9",
   "metadata": {
    "execution": {
     "iopub.execute_input": "2025-07-30T21:51:00.724215Z",
     "iopub.status.busy": "2025-07-30T21:51:00.723622Z",
     "iopub.status.idle": "2025-07-30T21:51:00.729364Z",
     "shell.execute_reply": "2025-07-30T21:51:00.728683Z"
    },
    "papermill": {
     "duration": 0.031597,
     "end_time": "2025-07-30T21:51:00.730635",
     "exception": false,
     "start_time": "2025-07-30T21:51:00.699038",
     "status": "completed"
    },
    "tags": []
   },
   "outputs": [],
   "source": [
    "cp_metrics_dict = {\n",
    "    \"universe_id\": [universe_id],\n",
    "    \"universe_training_year\": [universe_training_year],\n",
    "    \"universe_training_size\": [universe_training_size],\n",
    "    \"universe_scale\": [universe_scale],\n",
    "    \"universe_model\": [universe_model],\n",
    "    \"universe_exclude_features\": [universe_exclude_features],\n",
    "    \"universe_exclude_subgroups\": [universe_exclude_subgroups],\n",
    "    \"q_hat\": [q_hat],\n",
    "    \"coverage\": [metrics[\"coverage\"]],\n",
    "    \"avg_size\": [metrics[\"avg_size\"]],\n",
    "}"
   ]
  },
  {
   "cell_type": "code",
   "execution_count": 59,
   "id": "908acbb1-0371-4915-85ca-3fa520d2efe2",
   "metadata": {
    "execution": {
     "iopub.execute_input": "2025-07-30T21:51:00.762780Z",
     "iopub.status.busy": "2025-07-30T21:51:00.762192Z",
     "iopub.status.idle": "2025-07-30T21:51:00.770059Z",
     "shell.execute_reply": "2025-07-30T21:51:00.769197Z"
    },
    "papermill": {
     "duration": 0.025939,
     "end_time": "2025-07-30T21:51:00.771664",
     "exception": false,
     "start_time": "2025-07-30T21:51:00.745725",
     "status": "completed"
    },
    "tags": []
   },
   "outputs": [
    {
     "data": {
      "text/plain": [
       "{'universe_id': ['f3501c6b464abbd2b5f7452d6e840be1'],\n",
       " 'universe_training_year': ['2010_14'],\n",
       " 'universe_training_size': ['1k'],\n",
       " 'universe_scale': ['do-not-scale'],\n",
       " 'universe_model': ['penalized_logreg'],\n",
       " 'universe_exclude_features': ['age'],\n",
       " 'universe_exclude_subgroups': ['keep-all'],\n",
       " 'q_hat': [0.6768602344056824],\n",
       " 'coverage': [0.9133652881507078],\n",
       " 'avg_size': [1.272143573737599]}"
      ]
     },
     "execution_count": 59,
     "metadata": {},
     "output_type": "execute_result"
    }
   ],
   "source": [
    "cp_metrics_dict"
   ]
  },
  {
   "cell_type": "code",
   "execution_count": 60,
   "id": "33007efc-14e9-4ec6-97ac-56a455c82265",
   "metadata": {
    "execution": {
     "iopub.execute_input": "2025-07-30T21:51:00.805780Z",
     "iopub.status.busy": "2025-07-30T21:51:00.804935Z",
     "iopub.status.idle": "2025-07-30T21:51:00.810260Z",
     "shell.execute_reply": "2025-07-30T21:51:00.809556Z"
    },
    "papermill": {
     "duration": 0.021109,
     "end_time": "2025-07-30T21:51:00.811759",
     "exception": false,
     "start_time": "2025-07-30T21:51:00.790650",
     "status": "completed"
    },
    "tags": []
   },
   "outputs": [],
   "source": [
    "cp_metrics_df = pd.DataFrame(cp_metrics_dict)"
   ]
  },
  {
   "cell_type": "code",
   "execution_count": 61,
   "id": "db12611b-57b2-4910-b9d0-355adfd6e7bf",
   "metadata": {
    "execution": {
     "iopub.execute_input": "2025-07-30T21:51:00.855104Z",
     "iopub.status.busy": "2025-07-30T21:51:00.854629Z",
     "iopub.status.idle": "2025-07-30T21:51:00.874630Z",
     "shell.execute_reply": "2025-07-30T21:51:00.873524Z"
    },
    "papermill": {
     "duration": 0.050563,
     "end_time": "2025-07-30T21:51:00.876666",
     "exception": false,
     "start_time": "2025-07-30T21:51:00.826103",
     "status": "completed"
    },
    "tags": []
   },
   "outputs": [
    {
     "data": {
      "text/html": [
       "<div>\n",
       "<style scoped>\n",
       "    .dataframe tbody tr th:only-of-type {\n",
       "        vertical-align: middle;\n",
       "    }\n",
       "\n",
       "    .dataframe tbody tr th {\n",
       "        vertical-align: top;\n",
       "    }\n",
       "\n",
       "    .dataframe thead th {\n",
       "        text-align: right;\n",
       "    }\n",
       "</style>\n",
       "<table border=\"1\" class=\"dataframe\">\n",
       "  <thead>\n",
       "    <tr style=\"text-align: right;\">\n",
       "      <th></th>\n",
       "      <th>universe_id</th>\n",
       "      <th>universe_training_year</th>\n",
       "      <th>universe_training_size</th>\n",
       "      <th>universe_scale</th>\n",
       "      <th>universe_model</th>\n",
       "      <th>universe_exclude_features</th>\n",
       "      <th>universe_exclude_subgroups</th>\n",
       "      <th>q_hat</th>\n",
       "      <th>coverage</th>\n",
       "      <th>avg_size</th>\n",
       "    </tr>\n",
       "  </thead>\n",
       "  <tbody>\n",
       "    <tr>\n",
       "      <th>0</th>\n",
       "      <td>f3501c6b464abbd2b5f7452d6e840be1</td>\n",
       "      <td>2010_14</td>\n",
       "      <td>1k</td>\n",
       "      <td>do-not-scale</td>\n",
       "      <td>penalized_logreg</td>\n",
       "      <td>age</td>\n",
       "      <td>keep-all</td>\n",
       "      <td>0.67686</td>\n",
       "      <td>0.913365</td>\n",
       "      <td>1.272144</td>\n",
       "    </tr>\n",
       "  </tbody>\n",
       "</table>\n",
       "</div>"
      ],
      "text/plain": [
       "                        universe_id universe_training_year  \\\n",
       "0  f3501c6b464abbd2b5f7452d6e840be1                2010_14   \n",
       "\n",
       "  universe_training_size universe_scale    universe_model  \\\n",
       "0                     1k   do-not-scale  penalized_logreg   \n",
       "\n",
       "  universe_exclude_features universe_exclude_subgroups    q_hat  coverage  \\\n",
       "0                       age                   keep-all  0.67686  0.913365   \n",
       "\n",
       "   avg_size  \n",
       "0  1.272144  "
      ]
     },
     "execution_count": 61,
     "metadata": {},
     "output_type": "execute_result"
    }
   ],
   "source": [
    "cp_metrics_df"
   ]
  },
  {
   "cell_type": "code",
   "execution_count": 62,
   "id": "b7fbde55-a0a1-47e4-9af6-fe4a17fa8c61",
   "metadata": {
    "execution": {
     "iopub.execute_input": "2025-07-30T21:51:00.950257Z",
     "iopub.status.busy": "2025-07-30T21:51:00.949106Z",
     "iopub.status.idle": "2025-07-30T21:51:00.955005Z",
     "shell.execute_reply": "2025-07-30T21:51:00.953839Z"
    },
    "papermill": {
     "duration": 0.045398,
     "end_time": "2025-07-30T21:51:00.957402",
     "exception": false,
     "start_time": "2025-07-30T21:51:00.912004",
     "status": "completed"
    },
    "tags": []
   },
   "outputs": [],
   "source": [
    "# Conditional Coverage & looking at subgroups"
   ]
  },
  {
   "cell_type": "code",
   "execution_count": 63,
   "id": "027ae886-68dd-4141-96c7-805a5450e1ef",
   "metadata": {
    "execution": {
     "iopub.execute_input": "2025-07-30T21:51:01.032866Z",
     "iopub.status.busy": "2025-07-30T21:51:01.032090Z",
     "iopub.status.idle": "2025-07-30T21:51:01.414937Z",
     "shell.execute_reply": "2025-07-30T21:51:01.413946Z"
    },
    "papermill": {
     "duration": 0.424058,
     "end_time": "2025-07-30T21:51:01.416961",
     "exception": false,
     "start_time": "2025-07-30T21:51:00.992903",
     "status": "completed"
    },
    "tags": []
   },
   "outputs": [],
   "source": [
    "from fairness_multiverse.conformal import build_cp_groups\n",
    "\n",
    "cp_groups_df = build_cp_groups(pred_sets, y_true, X_test.index, org_test)\n",
    "#needs universe_id and setting"
   ]
  },
  {
   "cell_type": "code",
   "execution_count": 64,
   "id": "01d5802c-663a-4d1f-9d69-e036faaffbf7",
   "metadata": {
    "execution": {
     "iopub.execute_input": "2025-07-30T21:51:01.473690Z",
     "iopub.status.busy": "2025-07-30T21:51:01.472983Z",
     "iopub.status.idle": "2025-07-30T21:51:01.479530Z",
     "shell.execute_reply": "2025-07-30T21:51:01.478417Z"
    },
    "papermill": {
     "duration": 0.03782,
     "end_time": "2025-07-30T21:51:01.481601",
     "exception": false,
     "start_time": "2025-07-30T21:51:01.443781",
     "status": "completed"
    },
    "tags": []
   },
   "outputs": [],
   "source": [
    "#delete\n",
    "#cp_groups_df"
   ]
  },
  {
   "cell_type": "code",
   "execution_count": 65,
   "id": "fa424af1-d1eb-443d-b717-2d279ada8408",
   "metadata": {
    "execution": {
     "iopub.execute_input": "2025-07-30T21:51:01.537275Z",
     "iopub.status.busy": "2025-07-30T21:51:01.536701Z",
     "iopub.status.idle": "2025-07-30T21:51:01.542980Z",
     "shell.execute_reply": "2025-07-30T21:51:01.541786Z"
    },
    "papermill": {
     "duration": 0.036951,
     "end_time": "2025-07-30T21:51:01.545541",
     "exception": false,
     "start_time": "2025-07-30T21:51:01.508590",
     "status": "completed"
    },
    "tags": []
   },
   "outputs": [],
   "source": [
    "#delete\n",
    "#percentage = (cp_groups_df['nongerman_female'] == 1).mean() * 100\n",
    "#print(percentage)\n"
   ]
  },
  {
   "cell_type": "code",
   "execution_count": 66,
   "id": "6cbdab96-b2b2-45af-ad54-d0516db2e28d",
   "metadata": {
    "execution": {
     "iopub.execute_input": "2025-07-30T21:51:01.600955Z",
     "iopub.status.busy": "2025-07-30T21:51:01.600427Z",
     "iopub.status.idle": "2025-07-30T21:51:03.343647Z",
     "shell.execute_reply": "2025-07-30T21:51:03.342395Z"
    },
    "papermill": {
     "duration": 1.772813,
     "end_time": "2025-07-30T21:51:03.345677",
     "exception": false,
     "start_time": "2025-07-30T21:51:01.572864",
     "status": "completed"
    },
    "tags": []
   },
   "outputs": [],
   "source": [
    "# Define covered = 1 if true_label is in the predicted set\n",
    "cp_groups_df['covered'] = cp_groups_df.apply(\n",
    "    lambda r: int(r['true_label'] in r['pred_set']),\n",
    "    axis=1\n",
    ")"
   ]
  },
  {
   "cell_type": "code",
   "execution_count": 67,
   "id": "338ff529-1a6b-4b87-a931-8e4788d52aad",
   "metadata": {
    "execution": {
     "iopub.execute_input": "2025-07-30T21:51:03.406441Z",
     "iopub.status.busy": "2025-07-30T21:51:03.405802Z",
     "iopub.status.idle": "2025-07-30T21:51:03.412329Z",
     "shell.execute_reply": "2025-07-30T21:51:03.411270Z"
    },
    "papermill": {
     "duration": 0.040109,
     "end_time": "2025-07-30T21:51:03.414108",
     "exception": false,
     "start_time": "2025-07-30T21:51:03.373999",
     "status": "completed"
    },
    "tags": []
   },
   "outputs": [],
   "source": [
    "#cp_groups_df"
   ]
  },
  {
   "cell_type": "code",
   "execution_count": 68,
   "id": "90032e27-66df-4540-9169-4e89cfbaa758",
   "metadata": {
    "execution": {
     "iopub.execute_input": "2025-07-30T21:51:03.470966Z",
     "iopub.status.busy": "2025-07-30T21:51:03.470433Z",
     "iopub.status.idle": "2025-07-30T21:51:03.482430Z",
     "shell.execute_reply": "2025-07-30T21:51:03.481386Z"
    },
    "papermill": {
     "duration": 0.043271,
     "end_time": "2025-07-30T21:51:03.484233",
     "exception": false,
     "start_time": "2025-07-30T21:51:03.440962",
     "status": "completed"
    },
    "tags": []
   },
   "outputs": [],
   "source": [
    "subgroups = ['frau1','nongerman','nongerman_male','nongerman_female']\n",
    "\n",
    "# Conditional coverage for subgroup==1\n",
    "cond_coverage = {\n",
    "    g: cp_groups_df.loc[cp_groups_df[g]==1, 'covered'].mean()\n",
    "    for g in subgroups\n",
    "}"
   ]
  },
  {
   "cell_type": "code",
   "execution_count": 69,
   "id": "1e348fb1-b9c3-45bc-ba23-f016827a7e0d",
   "metadata": {
    "execution": {
     "iopub.execute_input": "2025-07-30T21:51:03.541612Z",
     "iopub.status.busy": "2025-07-30T21:51:03.540545Z",
     "iopub.status.idle": "2025-07-30T21:51:03.550549Z",
     "shell.execute_reply": "2025-07-30T21:51:03.549144Z"
    },
    "papermill": {
     "duration": 0.041956,
     "end_time": "2025-07-30T21:51:03.552763",
     "exception": false,
     "start_time": "2025-07-30T21:51:03.510807",
     "status": "completed"
    },
    "tags": []
   },
   "outputs": [
    {
     "data": {
      "text/plain": [
       "{'frau1': 0.913303679741205,\n",
       " 'nongerman': 0.9626677145904676,\n",
       " 'nongerman_male': 0.9684769882013871,\n",
       " 'nongerman_female': 0.9530551415797317}"
      ]
     },
     "execution_count": 69,
     "metadata": {},
     "output_type": "execute_result"
    }
   ],
   "source": [
    "cond_coverage"
   ]
  },
  {
   "cell_type": "code",
   "execution_count": 70,
   "id": "f5093324-c3dd-4d63-bc4c-8d945e5c8bbb",
   "metadata": {
    "execution": {
     "iopub.execute_input": "2025-07-30T21:51:03.606832Z",
     "iopub.status.busy": "2025-07-30T21:51:03.605883Z",
     "iopub.status.idle": "2025-07-30T21:51:03.614284Z",
     "shell.execute_reply": "2025-07-30T21:51:03.613021Z"
    },
    "papermill": {
     "duration": 0.038943,
     "end_time": "2025-07-30T21:51:03.616060",
     "exception": false,
     "start_time": "2025-07-30T21:51:03.577117",
     "status": "completed"
    },
    "tags": []
   },
   "outputs": [],
   "source": [
    "for subgroup, cov in cond_coverage.items():\n",
    "    cp_metrics_df[f\"cov_{subgroup}\"] = cov"
   ]
  },
  {
   "cell_type": "code",
   "execution_count": 71,
   "id": "6e872e10-dbe5-49e8-b554-5030c98ff75d",
   "metadata": {
    "execution": {
     "iopub.execute_input": "2025-07-30T21:51:03.676288Z",
     "iopub.status.busy": "2025-07-30T21:51:03.675875Z",
     "iopub.status.idle": "2025-07-30T21:51:03.696438Z",
     "shell.execute_reply": "2025-07-30T21:51:03.695308Z"
    },
    "papermill": {
     "duration": 0.054415,
     "end_time": "2025-07-30T21:51:03.698288",
     "exception": false,
     "start_time": "2025-07-30T21:51:03.643873",
     "status": "completed"
    },
    "tags": []
   },
   "outputs": [
    {
     "data": {
      "text/html": [
       "<div>\n",
       "<style scoped>\n",
       "    .dataframe tbody tr th:only-of-type {\n",
       "        vertical-align: middle;\n",
       "    }\n",
       "\n",
       "    .dataframe tbody tr th {\n",
       "        vertical-align: top;\n",
       "    }\n",
       "\n",
       "    .dataframe thead th {\n",
       "        text-align: right;\n",
       "    }\n",
       "</style>\n",
       "<table border=\"1\" class=\"dataframe\">\n",
       "  <thead>\n",
       "    <tr style=\"text-align: right;\">\n",
       "      <th></th>\n",
       "      <th>universe_id</th>\n",
       "      <th>universe_training_year</th>\n",
       "      <th>universe_training_size</th>\n",
       "      <th>universe_scale</th>\n",
       "      <th>universe_model</th>\n",
       "      <th>universe_exclude_features</th>\n",
       "      <th>universe_exclude_subgroups</th>\n",
       "      <th>q_hat</th>\n",
       "      <th>coverage</th>\n",
       "      <th>avg_size</th>\n",
       "      <th>cov_frau1</th>\n",
       "      <th>cov_nongerman</th>\n",
       "      <th>cov_nongerman_male</th>\n",
       "      <th>cov_nongerman_female</th>\n",
       "    </tr>\n",
       "  </thead>\n",
       "  <tbody>\n",
       "    <tr>\n",
       "      <th>0</th>\n",
       "      <td>f3501c6b464abbd2b5f7452d6e840be1</td>\n",
       "      <td>2010_14</td>\n",
       "      <td>1k</td>\n",
       "      <td>do-not-scale</td>\n",
       "      <td>penalized_logreg</td>\n",
       "      <td>age</td>\n",
       "      <td>keep-all</td>\n",
       "      <td>0.67686</td>\n",
       "      <td>0.913365</td>\n",
       "      <td>1.272144</td>\n",
       "      <td>0.913304</td>\n",
       "      <td>0.962668</td>\n",
       "      <td>0.968477</td>\n",
       "      <td>0.953055</td>\n",
       "    </tr>\n",
       "  </tbody>\n",
       "</table>\n",
       "</div>"
      ],
      "text/plain": [
       "                        universe_id universe_training_year  \\\n",
       "0  f3501c6b464abbd2b5f7452d6e840be1                2010_14   \n",
       "\n",
       "  universe_training_size universe_scale    universe_model  \\\n",
       "0                     1k   do-not-scale  penalized_logreg   \n",
       "\n",
       "  universe_exclude_features universe_exclude_subgroups    q_hat  coverage  \\\n",
       "0                       age                   keep-all  0.67686  0.913365   \n",
       "\n",
       "   avg_size  cov_frau1  cov_nongerman  cov_nongerman_male  \\\n",
       "0  1.272144   0.913304       0.962668            0.968477   \n",
       "\n",
       "   cov_nongerman_female  \n",
       "0              0.953055  "
      ]
     },
     "execution_count": 71,
     "metadata": {},
     "output_type": "execute_result"
    }
   ],
   "source": [
    "cp_metrics_df"
   ]
  },
  {
   "cell_type": "markdown",
   "id": "33774451",
   "metadata": {
    "papermill": {
     "duration": 0.028025,
     "end_time": "2025-07-30T21:51:03.754043",
     "exception": false,
     "start_time": "2025-07-30T21:51:03.726018",
     "status": "completed"
    },
    "tags": []
   },
   "source": [
    "# (Fairness) Metrics"
   ]
  },
  {
   "cell_type": "code",
   "execution_count": 72,
   "id": "debc5d62",
   "metadata": {
    "execution": {
     "iopub.execute_input": "2025-07-30T21:51:03.812993Z",
     "iopub.status.busy": "2025-07-30T21:51:03.812385Z",
     "iopub.status.idle": "2025-07-30T21:51:03.837235Z",
     "shell.execute_reply": "2025-07-30T21:51:03.836123Z"
    },
    "papermill": {
     "duration": 0.058165,
     "end_time": "2025-07-30T21:51:03.839244",
     "exception": false,
     "start_time": "2025-07-30T21:51:03.781079",
     "status": "completed"
    },
    "tags": []
   },
   "outputs": [],
   "source": [
    "# do I need to include maxdeutsch1.missing?\n",
    "\n",
    "import numpy as np\n",
    "\n",
    "colname_to_bin = \"maxdeutsch1\"\n",
    "majority_value = org_train[colname_to_bin].mode()[0]\n",
    "\n",
    "org_test[\"majmin\"] = np.where(org_test[colname_to_bin] == majority_value, \"majority\", \"minority\")"
   ]
  },
  {
   "cell_type": "code",
   "execution_count": 73,
   "id": "06a50de5",
   "metadata": {
    "execution": {
     "iopub.execute_input": "2025-07-30T21:51:03.898553Z",
     "iopub.status.busy": "2025-07-30T21:51:03.897984Z",
     "iopub.status.idle": "2025-07-30T21:51:06.094362Z",
     "shell.execute_reply": "2025-07-30T21:51:06.093418Z"
    },
    "papermill": {
     "duration": 2.228358,
     "end_time": "2025-07-30T21:51:06.096190",
     "exception": false,
     "start_time": "2025-07-30T21:51:03.867832",
     "status": "completed"
    },
    "tags": []
   },
   "outputs": [],
   "source": [
    "example_universe = universe.copy()\n",
    "example_universe[\"cutoff\"] = example_universe[\"cutoff\"][0]\n",
    "example_universe[\"eval_fairness_grouping\"] = example_universe[\"eval_fairness_grouping\"][0]\n",
    "fairness_dict, metric_frame = universe_analysis.compute_metrics(\n",
    "    example_universe,\n",
    "    y_pred_prob=probs_test,\n",
    "    y_test=y_true,\n",
    "    org_test=org_test,\n",
    ")"
   ]
  },
  {
   "cell_type": "markdown",
   "id": "f95d4e02",
   "metadata": {
    "papermill": {
     "duration": 0.054169,
     "end_time": "2025-07-30T21:51:06.234549",
     "exception": false,
     "start_time": "2025-07-30T21:51:06.180380",
     "status": "completed"
    },
    "tags": []
   },
   "source": [
    "# Overall"
   ]
  },
  {
   "cell_type": "markdown",
   "id": "bdee4871",
   "metadata": {
    "papermill": {
     "duration": 0.030967,
     "end_time": "2025-07-30T21:51:06.329677",
     "exception": false,
     "start_time": "2025-07-30T21:51:06.298710",
     "status": "completed"
    },
    "tags": []
   },
   "source": [
    "Fairness\n",
    "Main fairness target: Equalized Odds. Seems to be a better fit than equal opportunity, since we're not only interested in Y = 1. Seems to be a better fit than demographic parity, since we also care about accuracy, not just equal distribution of preds.\n",
    "\n",
    "Pick column for computation of fairness metrics\n",
    "\n",
    "Performance\n",
    "Overall performance measures, most interesting in relation to the measures split by group below"
   ]
  },
  {
   "cell_type": "code",
   "execution_count": 74,
   "id": "c4e067c6",
   "metadata": {
    "execution": {
     "iopub.execute_input": "2025-07-30T21:51:06.419465Z",
     "iopub.status.busy": "2025-07-30T21:51:06.418953Z",
     "iopub.status.idle": "2025-07-30T21:51:06.428340Z",
     "shell.execute_reply": "2025-07-30T21:51:06.427197Z"
    },
    "papermill": {
     "duration": 0.045079,
     "end_time": "2025-07-30T21:51:06.431554",
     "exception": false,
     "start_time": "2025-07-30T21:51:06.386475",
     "status": "completed"
    },
    "tags": []
   },
   "outputs": [
    {
     "data": {
      "text/plain": [
       "accuracy                   0.213900\n",
       "balanced accuracy          0.525210\n",
       "f1                         0.235520\n",
       "precision                  0.134545\n",
       "false positive rate        0.893532\n",
       "false negative rate        0.056048\n",
       "selection rate             0.900000\n",
       "count                  89710.000000\n",
       "dtype: float64"
      ]
     },
     "execution_count": 74,
     "metadata": {},
     "output_type": "execute_result"
    }
   ],
   "source": [
    "metric_frame.overall"
   ]
  },
  {
   "cell_type": "markdown",
   "id": "e968fe9d",
   "metadata": {
    "papermill": {
     "duration": 0.031599,
     "end_time": "2025-07-30T21:51:06.498883",
     "exception": false,
     "start_time": "2025-07-30T21:51:06.467284",
     "status": "completed"
    },
    "tags": []
   },
   "source": [
    "By Group"
   ]
  },
  {
   "cell_type": "code",
   "execution_count": 75,
   "id": "ec325bce",
   "metadata": {
    "execution": {
     "iopub.execute_input": "2025-07-30T21:51:06.562210Z",
     "iopub.status.busy": "2025-07-30T21:51:06.561532Z",
     "iopub.status.idle": "2025-07-30T21:51:06.583936Z",
     "shell.execute_reply": "2025-07-30T21:51:06.582813Z"
    },
    "papermill": {
     "duration": 0.056821,
     "end_time": "2025-07-30T21:51:06.585819",
     "exception": false,
     "start_time": "2025-07-30T21:51:06.528998",
     "status": "completed"
    },
    "tags": []
   },
   "outputs": [
    {
     "data": {
      "text/html": [
       "<div>\n",
       "<style scoped>\n",
       "    .dataframe tbody tr th:only-of-type {\n",
       "        vertical-align: middle;\n",
       "    }\n",
       "\n",
       "    .dataframe tbody tr th {\n",
       "        vertical-align: top;\n",
       "    }\n",
       "\n",
       "    .dataframe thead th {\n",
       "        text-align: right;\n",
       "    }\n",
       "</style>\n",
       "<table border=\"1\" class=\"dataframe\">\n",
       "  <thead>\n",
       "    <tr style=\"text-align: right;\">\n",
       "      <th></th>\n",
       "      <th>accuracy</th>\n",
       "      <th>balanced accuracy</th>\n",
       "      <th>f1</th>\n",
       "      <th>precision</th>\n",
       "      <th>false positive rate</th>\n",
       "      <th>false negative rate</th>\n",
       "      <th>selection rate</th>\n",
       "      <th>count</th>\n",
       "    </tr>\n",
       "    <tr>\n",
       "      <th>majmin</th>\n",
       "      <th></th>\n",
       "      <th></th>\n",
       "      <th></th>\n",
       "      <th></th>\n",
       "      <th></th>\n",
       "      <th></th>\n",
       "      <th></th>\n",
       "      <th></th>\n",
       "    </tr>\n",
       "  </thead>\n",
       "  <tbody>\n",
       "    <tr>\n",
       "      <th>majority</th>\n",
       "      <td>0.235912</td>\n",
       "      <td>0.531405</td>\n",
       "      <td>0.243978</td>\n",
       "      <td>0.140337</td>\n",
       "      <td>0.870232</td>\n",
       "      <td>0.066958</td>\n",
       "      <td>0.878531</td>\n",
       "      <td>69170.0</td>\n",
       "    </tr>\n",
       "    <tr>\n",
       "      <th>minority</th>\n",
       "      <td>0.139776</td>\n",
       "      <td>0.507780</td>\n",
       "      <td>0.209051</td>\n",
       "      <td>0.116920</td>\n",
       "      <td>0.970504</td>\n",
       "      <td>0.013936</td>\n",
       "      <td>0.972298</td>\n",
       "      <td>20540.0</td>\n",
       "    </tr>\n",
       "  </tbody>\n",
       "</table>\n",
       "</div>"
      ],
      "text/plain": [
       "          accuracy  balanced accuracy        f1  precision  \\\n",
       "majmin                                                       \n",
       "majority  0.235912           0.531405  0.243978   0.140337   \n",
       "minority  0.139776           0.507780  0.209051   0.116920   \n",
       "\n",
       "          false positive rate  false negative rate  selection rate    count  \n",
       "majmin                                                                       \n",
       "majority             0.870232             0.066958        0.878531  69170.0  \n",
       "minority             0.970504             0.013936        0.972298  20540.0  "
      ]
     },
     "execution_count": 75,
     "metadata": {},
     "output_type": "execute_result"
    }
   ],
   "source": [
    "metric_frame.by_group"
   ]
  },
  {
   "cell_type": "code",
   "execution_count": 76,
   "id": "a9ddbe63",
   "metadata": {
    "execution": {
     "iopub.execute_input": "2025-07-30T21:51:06.650603Z",
     "iopub.status.busy": "2025-07-30T21:51:06.649626Z",
     "iopub.status.idle": "2025-07-30T21:51:09.559285Z",
     "shell.execute_reply": "2025-07-30T21:51:09.558313Z"
    },
    "papermill": {
     "duration": 2.944405,
     "end_time": "2025-07-30T21:51:09.561446",
     "exception": false,
     "start_time": "2025-07-30T21:51:06.617041",
     "status": "completed"
    },
    "tags": []
   },
   "outputs": [
    {
     "data": {
      "text/plain": [
       "array([[<Axes: title={'center': 'accuracy'}, xlabel='majmin'>,\n",
       "        <Axes: title={'center': 'balanced accuracy'}, xlabel='majmin'>,\n",
       "        <Axes: title={'center': 'f1'}, xlabel='majmin'>],\n",
       "       [<Axes: title={'center': 'precision'}, xlabel='majmin'>,\n",
       "        <Axes: title={'center': 'false positive rate'}, xlabel='majmin'>,\n",
       "        <Axes: title={'center': 'false negative rate'}, xlabel='majmin'>],\n",
       "       [<Axes: title={'center': 'selection rate'}, xlabel='majmin'>,\n",
       "        <Axes: title={'center': 'count'}, xlabel='majmin'>,\n",
       "        <Axes: xlabel='majmin'>]], dtype=object)"
      ]
     },
     "execution_count": 76,
     "metadata": {},
     "output_type": "execute_result"
    },
    {
     "data": {
      "image/png": "[encoded data removed]",
      "text/plain": [
       "<Figure size 1200x800 with 9 Axes>"
      ]
     },
     "metadata": {},
     "output_type": "display_data"
    }
   ],
   "source": [
    "# In a graphic\n",
    "metric_frame.by_group.plot.bar(\n",
    "    subplots=True,\n",
    "    layout=[3, 3],\n",
    "    legend=False,\n",
    "    figsize=[12, 8],\n",
    "    title=\"Show all metrics\",\n",
    ")"
   ]
  },
  {
   "cell_type": "markdown",
   "id": "f57a0bac",
   "metadata": {
    "papermill": {
     "duration": 0.064731,
     "end_time": "2025-07-30T21:51:09.658307",
     "exception": false,
     "start_time": "2025-07-30T21:51:09.593576",
     "status": "completed"
    },
    "tags": []
   },
   "source": [
    "# Final Output"
   ]
  },
  {
   "cell_type": "code",
   "execution_count": 77,
   "id": "96d280a3",
   "metadata": {
    "execution": {
     "iopub.execute_input": "2025-07-30T21:51:09.753010Z",
     "iopub.status.busy": "2025-07-30T21:51:09.752475Z",
     "iopub.status.idle": "2025-07-30T21:51:09.761378Z",
     "shell.execute_reply": "2025-07-30T21:51:09.760387Z"
    },
    "papermill": {
     "duration": 0.057338,
     "end_time": "2025-07-30T21:51:09.771271",
     "exception": false,
     "start_time": "2025-07-30T21:51:09.713933",
     "status": "completed"
    },
    "tags": []
   },
   "outputs": [
    {
     "data": {
      "text/plain": [
       "4"
      ]
     },
     "execution_count": 77,
     "metadata": {},
     "output_type": "execute_result"
    }
   ],
   "source": [
    "sub_universes = universe_analysis.generate_sub_universes()\n",
    "len(sub_universes)"
   ]
  },
  {
   "cell_type": "code",
   "execution_count": 78,
   "id": "92adf7ba",
   "metadata": {
    "execution": {
     "iopub.execute_input": "2025-07-30T21:51:09.898360Z",
     "iopub.status.busy": "2025-07-30T21:51:09.897972Z",
     "iopub.status.idle": "2025-07-30T21:51:09.905319Z",
     "shell.execute_reply": "2025-07-30T21:51:09.904396Z"
    },
    "papermill": {
     "duration": 0.08102,
     "end_time": "2025-07-30T21:51:09.907596",
     "exception": false,
     "start_time": "2025-07-30T21:51:09.826576",
     "status": "completed"
    },
    "tags": []
   },
   "outputs": [],
   "source": [
    "def filter_sub_universe_data(sub_universe, org_test):\n",
    "    # Keep all rows — no filtering\n",
    "    keep_rows_mask = np.ones(org_test.shape[0], dtype=bool)\n",
    "\n",
    "    print(f\"[INFO] Keeping all rows: {keep_rows_mask.sum()} rows retained.\")\n",
    "    return keep_rows_mask"
   ]
  },
  {
   "cell_type": "code",
   "execution_count": 79,
   "id": "4a759155",
   "metadata": {
    "execution": {
     "iopub.execute_input": "2025-07-30T21:51:09.992517Z",
     "iopub.status.busy": "2025-07-30T21:51:09.992060Z",
     "iopub.status.idle": "2025-07-30T21:51:21.641637Z",
     "shell.execute_reply": "2025-07-30T21:51:21.640360Z"
    },
    "papermill": {
     "duration": 11.685536,
     "end_time": "2025-07-30T21:51:21.643238",
     "exception": false,
     "start_time": "2025-07-30T21:51:09.957702",
     "status": "completed"
    },
    "tags": []
   },
   "outputs": [
    {
     "name": "stdout",
     "output_type": "stream",
     "text": [
      "Stopping execution_time clock.\n",
      "[INFO] Keeping all rows: 89710 rows retained.\n"
     ]
    },
    {
     "name": "stdout",
     "output_type": "stream",
     "text": [
      "[INFO] Keeping all rows: 89710 rows retained.\n"
     ]
    },
    {
     "name": "stdout",
     "output_type": "stream",
     "text": [
      "[INFO] Keeping all rows: 89710 rows retained.\n"
     ]
    },
    {
     "name": "stdout",
     "output_type": "stream",
     "text": [
      "[INFO] Keeping all rows: 89710 rows retained.\n"
     ]
    },
    {
     "data": {
      "text/html": [
       "<div>\n",
       "<style scoped>\n",
       "    .dataframe tbody tr th:only-of-type {\n",
       "        vertical-align: middle;\n",
       "    }\n",
       "\n",
       "    .dataframe tbody tr th {\n",
       "        vertical-align: top;\n",
       "    }\n",
       "\n",
       "    .dataframe thead th {\n",
       "        text-align: right;\n",
       "    }\n",
       "</style>\n",
       "<table border=\"1\" class=\"dataframe\">\n",
       "  <thead>\n",
       "    <tr style=\"text-align: right;\">\n",
       "      <th></th>\n",
       "      <th>run_no</th>\n",
       "      <th>universe_id</th>\n",
       "      <th>universe_settings</th>\n",
       "      <th>execution_time</th>\n",
       "      <th>test_size_n</th>\n",
       "      <th>test_size_frac</th>\n",
       "      <th>fair_main_equalized_odds_difference</th>\n",
       "      <th>fair_main_equalized_odds_ratio</th>\n",
       "      <th>fair_main_demographic_parity_difference</th>\n",
       "      <th>fair_main_demographic_parity_ratio</th>\n",
       "      <th>...</th>\n",
       "      <th>perf_grp_precision_0</th>\n",
       "      <th>perf_grp_precision_1</th>\n",
       "      <th>perf_grp_false positive rate_0</th>\n",
       "      <th>perf_grp_false positive rate_1</th>\n",
       "      <th>perf_grp_false negative rate_0</th>\n",
       "      <th>perf_grp_false negative rate_1</th>\n",
       "      <th>perf_grp_selection rate_0</th>\n",
       "      <th>perf_grp_selection rate_1</th>\n",
       "      <th>perf_grp_count_0</th>\n",
       "      <th>perf_grp_count_1</th>\n",
       "    </tr>\n",
       "  </thead>\n",
       "  <tbody>\n",
       "    <tr>\n",
       "      <th>0</th>\n",
       "      <td>14</td>\n",
       "      <td>f3501c6b464abbd2b5f7452d6e840be1</td>\n",
       "      <td>{\"cutoff\": \"quantile_0.1\", \"eval_fairness_grou...</td>\n",
       "      <td>26.760097</td>\n",
       "      <td>89710</td>\n",
       "      <td>1.0</td>\n",
       "      <td>0.100273</td>\n",
       "      <td>0.896680</td>\n",
       "      <td>0.093767</td>\n",
       "      <td>0.903562</td>\n",
       "      <td>...</td>\n",
       "      <td>NaN</td>\n",
       "      <td>NaN</td>\n",
       "      <td>NaN</td>\n",
       "      <td>NaN</td>\n",
       "      <td>NaN</td>\n",
       "      <td>NaN</td>\n",
       "      <td>NaN</td>\n",
       "      <td>NaN</td>\n",
       "      <td>NaN</td>\n",
       "      <td>NaN</td>\n",
       "    </tr>\n",
       "    <tr>\n",
       "      <th>0</th>\n",
       "      <td>14</td>\n",
       "      <td>f3501c6b464abbd2b5f7452d6e840be1</td>\n",
       "      <td>{\"cutoff\": \"quantile_0.1\", \"eval_fairness_grou...</td>\n",
       "      <td>26.760097</td>\n",
       "      <td>89710</td>\n",
       "      <td>1.0</td>\n",
       "      <td>0.100273</td>\n",
       "      <td>0.896680</td>\n",
       "      <td>0.093767</td>\n",
       "      <td>0.903562</td>\n",
       "      <td>...</td>\n",
       "      <td>0.116920</td>\n",
       "      <td>0.140337</td>\n",
       "      <td>0.970504</td>\n",
       "      <td>0.870232</td>\n",
       "      <td>0.013936</td>\n",
       "      <td>0.066958</td>\n",
       "      <td>0.972298</td>\n",
       "      <td>0.878531</td>\n",
       "      <td>20540.0</td>\n",
       "      <td>69170.0</td>\n",
       "    </tr>\n",
       "    <tr>\n",
       "      <th>0</th>\n",
       "      <td>14</td>\n",
       "      <td>f3501c6b464abbd2b5f7452d6e840be1</td>\n",
       "      <td>{\"cutoff\": \"quantile_0.25\", \"eval_fairness_gro...</td>\n",
       "      <td>26.760097</td>\n",
       "      <td>89710</td>\n",
       "      <td>1.0</td>\n",
       "      <td>0.233726</td>\n",
       "      <td>0.744017</td>\n",
       "      <td>0.217849</td>\n",
       "      <td>0.762682</td>\n",
       "      <td>...</td>\n",
       "      <td>NaN</td>\n",
       "      <td>NaN</td>\n",
       "      <td>NaN</td>\n",
       "      <td>NaN</td>\n",
       "      <td>NaN</td>\n",
       "      <td>NaN</td>\n",
       "      <td>NaN</td>\n",
       "      <td>NaN</td>\n",
       "      <td>NaN</td>\n",
       "      <td>NaN</td>\n",
       "    </tr>\n",
       "    <tr>\n",
       "      <th>0</th>\n",
       "      <td>14</td>\n",
       "      <td>f3501c6b464abbd2b5f7452d6e840be1</td>\n",
       "      <td>{\"cutoff\": \"quantile_0.25\", \"eval_fairness_gro...</td>\n",
       "      <td>26.760097</td>\n",
       "      <td>89710</td>\n",
       "      <td>1.0</td>\n",
       "      <td>0.233726</td>\n",
       "      <td>0.744017</td>\n",
       "      <td>0.217849</td>\n",
       "      <td>0.762682</td>\n",
       "      <td>...</td>\n",
       "      <td>0.120021</td>\n",
       "      <td>0.157908</td>\n",
       "      <td>0.913053</td>\n",
       "      <td>0.679327</td>\n",
       "      <td>0.044341</td>\n",
       "      <td>0.163348</td>\n",
       "      <td>0.917965</td>\n",
       "      <td>0.700116</td>\n",
       "      <td>20540.0</td>\n",
       "      <td>69170.0</td>\n",
       "    </tr>\n",
       "  </tbody>\n",
       "</table>\n",
       "<p>4 rows × 50 columns</p>\n",
       "</div>"
      ],
      "text/plain": [
       "  run_no                       universe_id  \\\n",
       "0     14  f3501c6b464abbd2b5f7452d6e840be1   \n",
       "0     14  f3501c6b464abbd2b5f7452d6e840be1   \n",
       "0     14  f3501c6b464abbd2b5f7452d6e840be1   \n",
       "0     14  f3501c6b464abbd2b5f7452d6e840be1   \n",
       "\n",
       "                                   universe_settings  execution_time  \\\n",
       "0  {\"cutoff\": \"quantile_0.1\", \"eval_fairness_grou...       26.760097   \n",
       "0  {\"cutoff\": \"quantile_0.1\", \"eval_fairness_grou...       26.760097   \n",
       "0  {\"cutoff\": \"quantile_0.25\", \"eval_fairness_gro...       26.760097   \n",
       "0  {\"cutoff\": \"quantile_0.25\", \"eval_fairness_gro...       26.760097   \n",
       "\n",
       "   test_size_n  test_size_frac  fair_main_equalized_odds_difference  \\\n",
       "0        89710             1.0                             0.100273   \n",
       "0        89710             1.0                             0.100273   \n",
       "0        89710             1.0                             0.233726   \n",
       "0        89710             1.0                             0.233726   \n",
       "\n",
       "   fair_main_equalized_odds_ratio  fair_main_demographic_parity_difference  \\\n",
       "0                        0.896680                                 0.093767   \n",
       "0                        0.896680                                 0.093767   \n",
       "0                        0.744017                                 0.217849   \n",
       "0                        0.744017                                 0.217849   \n",
       "\n",
       "   fair_main_demographic_parity_ratio  ...  perf_grp_precision_0  \\\n",
       "0                            0.903562  ...                   NaN   \n",
       "0                            0.903562  ...              0.116920   \n",
       "0                            0.762682  ...                   NaN   \n",
       "0                            0.762682  ...              0.120021   \n",
       "\n",
       "   perf_grp_precision_1  perf_grp_false positive rate_0  \\\n",
       "0                   NaN                             NaN   \n",
       "0              0.140337                        0.970504   \n",
       "0                   NaN                             NaN   \n",
       "0              0.157908                        0.913053   \n",
       "\n",
       "   perf_grp_false positive rate_1  perf_grp_false negative rate_0  \\\n",
       "0                             NaN                             NaN   \n",
       "0                        0.870232                        0.013936   \n",
       "0                             NaN                             NaN   \n",
       "0                        0.679327                        0.044341   \n",
       "\n",
       "   perf_grp_false negative rate_1  perf_grp_selection rate_0  \\\n",
       "0                             NaN                        NaN   \n",
       "0                        0.066958                   0.972298   \n",
       "0                             NaN                        NaN   \n",
       "0                        0.163348                   0.917965   \n",
       "\n",
       "   perf_grp_selection rate_1  perf_grp_count_0  perf_grp_count_1  \n",
       "0                        NaN               NaN               NaN  \n",
       "0                   0.878531           20540.0           69170.0  \n",
       "0                        NaN               NaN               NaN  \n",
       "0                   0.700116           20540.0           69170.0  \n",
       "\n",
       "[4 rows x 50 columns]"
      ]
     },
     "execution_count": 79,
     "metadata": {},
     "output_type": "execute_result"
    }
   ],
   "source": [
    "final_output = universe_analysis.generate_final_output(\n",
    "    y_pred_prob=probs_test,\n",
    "    y_test=y_true,\n",
    "    org_test=org_test,\n",
    "    filter_data=filter_sub_universe_data,\n",
    "    cp_metrics_df=cp_metrics_df,\n",
    "    save=True,\n",
    ")\n",
    "final_output"
   ]
  },
  {
   "cell_type": "code",
   "execution_count": null,
   "id": "721ff514-cb11-46f8-b6fc-50392f74b5cb",
   "metadata": {
    "papermill": {
     "duration": 0.017006,
     "end_time": "2025-07-30T21:51:21.692058",
     "exception": false,
     "start_time": "2025-07-30T21:51:21.675052",
     "status": "completed"
    },
    "tags": []
   },
   "outputs": [],
   "source": []
  }
 ],
 "metadata": {
  "celltoolbar": "Tags",
  "kernelspec": {
   "display_name": "Python (CMA Fairness)",
   "language": "python",
   "name": "cma_fair_env"
  },
  "language_info": {
   "codemirror_mode": {
    "name": "ipython",
    "version": 3
   },
   "file_extension": ".py",
   "mimetype": "text/x-python",
   "name": "python",
   "nbconvert_exporter": "python",
   "pygments_lexer": "ipython3",
   "version": "3.10.12"
  },
  "papermill": {
   "default_parameters": {},
   "duration": 42.303283,
   "end_time": "2025-07-30T21:51:22.426612",
   "environment_variables": {},
   "exception": null,
   "input_path": "universe_analysis.ipynb",
   "output_path": "output/runs/14/notebooks/m_14-f3501c6b464abbd2b5f7452d6e840be1.ipynb",
   "parameters": {
    "output_dir": "output",
    "run_no": "14",
    "seed": "2023",
    "universe": "{\"cutoff\": [\"quantile_0.1\", \"quantile_0.25\"], \"eval_fairness_grouping\": [\"majority-minority\", \"nationality-all\"], \"exclude_features\": \"age\", \"exclude_subgroups\": \"keep-all\", \"model\": \"penalized_logreg\", \"scale\": \"do-not-scale\", \"training_size\": \"1k\", \"training_year\": \"2010_14\"}",
    "universe_id": "f3501c6b464abbd2b5f7452d6e840be1"
   },
   "start_time": "2025-07-30T21:50:40.123329",
   "version": "2.6.0"
  }
 },
 "nbformat": 4,
 "nbformat_minor": 5
}