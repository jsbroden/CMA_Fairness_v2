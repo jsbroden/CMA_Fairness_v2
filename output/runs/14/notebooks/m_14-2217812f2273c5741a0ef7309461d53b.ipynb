{
 "cells": [
  {
   "cell_type": "code",
   "execution_count": 1,
   "id": "f159f837-637b-42ba-96b5-ec9a68c44524",
   "metadata": {
    "execution": {
     "iopub.execute_input": "2025-07-30T21:24:46.826210Z",
     "iopub.status.busy": "2025-07-30T21:24:46.825859Z",
     "iopub.status.idle": "2025-07-30T21:24:46.838767Z",
     "shell.execute_reply": "2025-07-30T21:24:46.837695Z"
    },
    "papermill": {
     "duration": 0.032624,
     "end_time": "2025-07-30T21:24:46.844322",
     "exception": false,
     "start_time": "2025-07-30T21:24:46.811698",
     "status": "completed"
    },
    "tags": []
   },
   "outputs": [
    {
     "name": "stdout",
     "output_type": "stream",
     "text": [
      "/dss/dsshome1/0C/ra93lal2/cma/CMA_Fairness_v2\n"
     ]
    },
    {
     "name": "stderr",
     "output_type": "stream",
     "text": [
      "/dss/dsshome1/0C/ra93lal2/.local/share/virtualenvs/CMA_Fairness_v2-3j10GkSs/lib/python3.10/site-packages/IPython/core/magics/osm.py:393: UserWarning: This is now an optional IPython functionality, using bookmarks requires you to install the `pickleshare` library.\n",
      "  bkms = self.shell.db.get('bookmarks', {})\n",
      "/dss/dsshome1/0C/ra93lal2/.local/share/virtualenvs/CMA_Fairness_v2-3j10GkSs/lib/python3.10/site-packages/IPython/core/magics/osm.py:417: UserWarning: This is now an optional IPython functionality, setting dhist requires you to install the `pickleshare` library.\n",
      "  self.shell.db['dhist'] = compress_dhist(dhist)[-100:]\n"
     ]
    }
   ],
   "source": [
    "%cd ~/cma/CMA_Fairness_v2"
   ]
  },
  {
   "cell_type": "markdown",
   "id": "de2603b9",
   "metadata": {
    "papermill": {
     "duration": 0.021722,
     "end_time": "2025-07-30T21:24:46.890051",
     "exception": false,
     "start_time": "2025-07-30T21:24:46.868329",
     "status": "completed"
    },
    "tags": []
   },
   "source": [
    "The following cell holds the definition of our parameters, these values can be overriden by rendering the with e.g. the following command:\n",
    "\n",
    "papermill -p alpha 0.2 -p ratio 0.3 universe_analysis.ipynb output/test_run.ipynb"
   ]
  },
  {
   "cell_type": "code",
   "execution_count": 2,
   "id": "a80968a0-40bb-4fa9-85ef-2d5eefb01975",
   "metadata": {
    "execution": {
     "iopub.execute_input": "2025-07-30T21:24:46.937529Z",
     "iopub.status.busy": "2025-07-30T21:24:46.936649Z",
     "iopub.status.idle": "2025-07-30T21:24:46.942208Z",
     "shell.execute_reply": "2025-07-30T21:24:46.941460Z"
    },
    "papermill": {
     "duration": 0.029303,
     "end_time": "2025-07-30T21:24:46.943962",
     "exception": false,
     "start_time": "2025-07-30T21:24:46.914659",
     "status": "completed"
    },
    "tags": []
   },
   "outputs": [
    {
     "name": "stdout",
     "output_type": "stream",
     "text": [
      "Current working directory: /dss/dsshome1/0C/ra93lal2/cma/CMA_Fairness_v2\n"
     ]
    }
   ],
   "source": [
    "import os\n",
    "print(\"Current working directory:\", os.getcwd())"
   ]
  },
  {
   "cell_type": "code",
   "execution_count": 3,
   "id": "2dce4c03",
   "metadata": {
    "execution": {
     "iopub.execute_input": "2025-07-30T21:24:46.991108Z",
     "iopub.status.busy": "2025-07-30T21:24:46.990637Z",
     "iopub.status.idle": "2025-07-30T21:24:46.998087Z",
     "shell.execute_reply": "2025-07-30T21:24:46.996440Z"
    },
    "papermill": {
     "duration": 0.032436,
     "end_time": "2025-07-30T21:24:46.999967",
     "exception": false,
     "start_time": "2025-07-30T21:24:46.967531",
     "status": "completed"
    },
    "tags": [
     "parameters"
    ]
   },
   "outputs": [],
   "source": [
    "run_no = 0\n",
    "universe_id = \"test\"\n",
    "universe = {\n",
    "    \"training_size\": \"25k\", # \"25k\", \"5k\", \"1k\"\n",
    "    \"training_year\": \"2014\", # \"2014\", \"2012_14\", \"2010_14\"\n",
    "    \"scale\": \"scale\", # \"scale\", \"do-not-scale\",\n",
    "    #\"stratify_split\": \"target\", # \"none\", \"target\", \"protected-attribute\", \"both\",\n",
    "    \"model\": \"elasticnet\", # \"logreg\", \"penalized_logreg\", \"rf\", \"gbm\", \"elasticnet\"\n",
    "    \"cutoff\": [\"quantile_0.15\", \"quantile_0.30\"],\n",
    "    \"exclude_features\": \"age\", # \"none\", \"nationality\", \"sex\", \"nationality-sex\", \"age\"\n",
    "    \"exclude_subgroups\": \"keep-all\", # \"keep-all\", \"drop-non-german\"\n",
    "    \"eval_fairness_grouping\": [\"majority-minority\", \"nationality-all\"]\n",
    "}\n",
    "\n",
    "output_dir=\"./output\"\n",
    "seed=0"
   ]
  },
  {
   "cell_type": "code",
   "execution_count": 4,
   "id": "05959f19",
   "metadata": {
    "execution": {
     "iopub.execute_input": "2025-07-30T21:24:47.042542Z",
     "iopub.status.busy": "2025-07-30T21:24:47.041959Z",
     "iopub.status.idle": "2025-07-30T21:24:47.048887Z",
     "shell.execute_reply": "2025-07-30T21:24:47.047616Z"
    },
    "papermill": {
     "duration": 0.028232,
     "end_time": "2025-07-30T21:24:47.050632",
     "exception": false,
     "start_time": "2025-07-30T21:24:47.022400",
     "status": "completed"
    },
    "tags": [
     "injected-parameters"
    ]
   },
   "outputs": [],
   "source": [
    "# Parameters\n",
    "universe_id = \"2217812f2273c5741a0ef7309461d53b\"\n",
    "run_no = \"14\"\n",
    "universe = \"{\\\"cutoff\\\": [\\\"quantile_0.1\\\", \\\"quantile_0.25\\\"], \\\"eval_fairness_grouping\\\": [\\\"majority-minority\\\", \\\"nationality-all\\\"], \\\"exclude_features\\\": \\\"nationality-sex\\\", \\\"exclude_subgroups\\\": \\\"drop-non-german\\\", \\\"model\\\": \\\"rf\\\", \\\"scale\\\": \\\"scale\\\", \\\"training_size\\\": \\\"1k\\\", \\\"training_year\\\": \\\"2014\\\"}\"\n",
    "output_dir = \"output\"\n",
    "seed = \"2023\"\n"
   ]
  },
  {
   "cell_type": "code",
   "execution_count": 5,
   "id": "1650acaf",
   "metadata": {
    "execution": {
     "iopub.execute_input": "2025-07-30T21:24:47.091714Z",
     "iopub.status.busy": "2025-07-30T21:24:47.090986Z",
     "iopub.status.idle": "2025-07-30T21:24:47.096263Z",
     "shell.execute_reply": "2025-07-30T21:24:47.094688Z"
    },
    "papermill": {
     "duration": 0.031432,
     "end_time": "2025-07-30T21:24:47.105725",
     "exception": false,
     "start_time": "2025-07-30T21:24:47.074293",
     "status": "completed"
    },
    "tags": []
   },
   "outputs": [],
   "source": [
    "import json\n",
    "# Parse universe into dict if it is passed as a string\n",
    "if isinstance(universe, str):\n",
    "    universe = json.loads(universe)"
   ]
  },
  {
   "cell_type": "code",
   "execution_count": 6,
   "id": "16620c48",
   "metadata": {
    "execution": {
     "iopub.execute_input": "2025-07-30T21:24:47.147680Z",
     "iopub.status.busy": "2025-07-30T21:24:47.147341Z",
     "iopub.status.idle": "2025-07-30T21:24:47.190867Z",
     "shell.execute_reply": "2025-07-30T21:24:47.190048Z"
    },
    "papermill": {
     "duration": 0.065869,
     "end_time": "2025-07-30T21:24:47.192556",
     "exception": false,
     "start_time": "2025-07-30T21:24:47.126687",
     "status": "completed"
    },
    "tags": []
   },
   "outputs": [],
   "source": [
    "# Auto-reload the custom package\n",
    "%load_ext autoreload\n",
    "%autoreload 1\n",
    "%aimport fairness_multiverse"
   ]
  },
  {
   "cell_type": "code",
   "execution_count": 7,
   "id": "01c5c9f3",
   "metadata": {
    "execution": {
     "iopub.execute_input": "2025-07-30T21:24:47.287611Z",
     "iopub.status.busy": "2025-07-30T21:24:47.285751Z",
     "iopub.status.idle": "2025-07-30T21:24:50.231938Z",
     "shell.execute_reply": "2025-07-30T21:24:50.230862Z"
    },
    "papermill": {
     "duration": 3.023225,
     "end_time": "2025-07-30T21:24:50.234394",
     "exception": false,
     "start_time": "2025-07-30T21:24:47.211169",
     "status": "completed"
    },
    "tags": []
   },
   "outputs": [],
   "source": [
    "from fairness_multiverse.universe import UniverseAnalysis\n",
    "\n",
    "universe_analysis = UniverseAnalysis(\n",
    "    run_no = run_no,\n",
    "    universe_id = universe_id,\n",
    "    universe = universe,\n",
    "    output_dir=output_dir,\n",
    ")"
   ]
  },
  {
   "cell_type": "code",
   "execution_count": 8,
   "id": "106241f5",
   "metadata": {
    "execution": {
     "iopub.execute_input": "2025-07-30T21:24:50.280115Z",
     "iopub.status.busy": "2025-07-30T21:24:50.279716Z",
     "iopub.status.idle": "2025-07-30T21:24:50.302066Z",
     "shell.execute_reply": "2025-07-30T21:24:50.301170Z"
    },
    "papermill": {
     "duration": 0.048922,
     "end_time": "2025-07-30T21:24:50.303640",
     "exception": false,
     "start_time": "2025-07-30T21:24:50.254718",
     "status": "completed"
    },
    "tags": []
   },
   "outputs": [
    {
     "name": "stdout",
     "output_type": "stream",
     "text": [
      "Using Seed: 2023\n"
     ]
    }
   ],
   "source": [
    "import numpy as np\n",
    "parsed_seed = int(seed)\n",
    "np.random.seed(parsed_seed)\n",
    "print(f\"Using Seed: {parsed_seed}\")"
   ]
  },
  {
   "cell_type": "markdown",
   "id": "e0ebdc57",
   "metadata": {
    "papermill": {
     "duration": 0.018922,
     "end_time": "2025-07-30T21:24:50.352695",
     "exception": false,
     "start_time": "2025-07-30T21:24:50.333773",
     "status": "completed"
    },
    "tags": []
   },
   "source": [
    "# Loading Data"
   ]
  },
  {
   "cell_type": "markdown",
   "id": "681925a3",
   "metadata": {
    "papermill": {
     "duration": 0.05535,
     "end_time": "2025-07-30T21:24:50.426959",
     "exception": false,
     "start_time": "2025-07-30T21:24:50.371609",
     "status": "completed"
    },
    "tags": []
   },
   "source": [
    "Load siab_train, siab_test, siab_calib and/or \n",
    "load siab_train_features, siab_train_labels"
   ]
  },
  {
   "cell_type": "code",
   "execution_count": 9,
   "id": "f0496b8a",
   "metadata": {
    "execution": {
     "iopub.execute_input": "2025-07-30T21:24:50.479561Z",
     "iopub.status.busy": "2025-07-30T21:24:50.479143Z",
     "iopub.status.idle": "2025-07-30T21:25:03.765036Z",
     "shell.execute_reply": "2025-07-30T21:25:03.763544Z"
    },
    "papermill": {
     "duration": 13.310568,
     "end_time": "2025-07-30T21:25:03.766844",
     "exception": false,
     "start_time": "2025-07-30T21:24:50.456276",
     "status": "completed"
    },
    "tags": []
   },
   "outputs": [
    {
     "name": "stdout",
     "output_type": "stream",
     "text": [
      "Loading SIAB data from cache: data/siab_cached.csv.gz\n"
     ]
    },
    {
     "name": "stdout",
     "output_type": "stream",
     "text": [
      "(643690, 164)\n"
     ]
    }
   ],
   "source": [
    "from pathlib import Path\n",
    "import pandas as pd\n",
    "\n",
    "# File paths\n",
    "raw_file = Path(\"data/raw/siab.csv\")\n",
    "cache_file = Path(\"data/siab_cached.csv.gz\")\n",
    "\n",
    "# Ensure cache directory exists\n",
    "cache_file.parent.mkdir(parents=True, exist_ok=True)\n",
    "\n",
    "# Load with simple caching\n",
    "if cache_file.exists():\n",
    "    print(f\"Loading SIAB data from cache: {cache_file}\")\n",
    "    siab = pd.read_csv(cache_file, compression='gzip')\n",
    "else:\n",
    "    print(f\"Cache not found. Reading raw SIAB data: {raw_file}\")\n",
    "    siab = pd.read_csv(raw_file)\n",
    "    siab.to_csv(cache_file, index=False, compression='gzip')\n",
    "    print(f\"Cached SIAB data to: {cache_file}\")\n",
    "\n",
    "# Now use `siab` DataFrame as needed\n",
    "print(siab.shape)"
   ]
  },
  {
   "cell_type": "code",
   "execution_count": 10,
   "id": "db0ca512-5f53-4dba-abdb-a2888bca41ba",
   "metadata": {
    "execution": {
     "iopub.execute_input": "2025-07-30T21:25:03.818954Z",
     "iopub.status.busy": "2025-07-30T21:25:03.818379Z",
     "iopub.status.idle": "2025-07-30T21:25:03.825105Z",
     "shell.execute_reply": "2025-07-30T21:25:03.823866Z"
    },
    "papermill": {
     "duration": 0.033853,
     "end_time": "2025-07-30T21:25:03.827026",
     "exception": false,
     "start_time": "2025-07-30T21:25:03.793173",
     "status": "completed"
    },
    "tags": []
   },
   "outputs": [],
   "source": [
    "#siab"
   ]
  },
  {
   "cell_type": "code",
   "execution_count": 11,
   "id": "a0edb063",
   "metadata": {
    "execution": {
     "iopub.execute_input": "2025-07-30T21:25:03.877854Z",
     "iopub.status.busy": "2025-07-30T21:25:03.876826Z",
     "iopub.status.idle": "2025-07-30T21:25:03.882957Z",
     "shell.execute_reply": "2025-07-30T21:25:03.881784Z"
    },
    "papermill": {
     "duration": 0.032965,
     "end_time": "2025-07-30T21:25:03.885113",
     "exception": false,
     "start_time": "2025-07-30T21:25:03.852148",
     "status": "completed"
    },
    "tags": []
   },
   "outputs": [],
   "source": [
    "#import pandas as pd\n",
    "#\n",
    "#X_train = pd.read_csv(\"./data/X_train.csv\")\n",
    "#y_train = pd.read_csv(\"./data/y_train.csv\")"
   ]
  },
  {
   "cell_type": "code",
   "execution_count": 12,
   "id": "63d08085",
   "metadata": {
    "execution": {
     "iopub.execute_input": "2025-07-30T21:25:03.936013Z",
     "iopub.status.busy": "2025-07-30T21:25:03.935090Z",
     "iopub.status.idle": "2025-07-30T21:25:03.942242Z",
     "shell.execute_reply": "2025-07-30T21:25:03.941134Z"
    },
    "papermill": {
     "duration": 0.034411,
     "end_time": "2025-07-30T21:25:03.944399",
     "exception": false,
     "start_time": "2025-07-30T21:25:03.909988",
     "status": "completed"
    },
    "tags": []
   },
   "outputs": [],
   "source": [
    "#X_test = pd.read_csv(\"./data/X_test.csv\")\n",
    "#y_true = pd.read_csv(\"./data/y_test.csv\")"
   ]
  },
  {
   "cell_type": "code",
   "execution_count": 13,
   "id": "98a8d0fa-1d3d-4ed8-bb2c-281470e24add",
   "metadata": {
    "execution": {
     "iopub.execute_input": "2025-07-30T21:25:03.995001Z",
     "iopub.status.busy": "2025-07-30T21:25:03.994471Z",
     "iopub.status.idle": "2025-07-30T21:25:04.000430Z",
     "shell.execute_reply": "2025-07-30T21:25:03.999287Z"
    },
    "papermill": {
     "duration": 0.033561,
     "end_time": "2025-07-30T21:25:04.002523",
     "exception": false,
     "start_time": "2025-07-30T21:25:03.968962",
     "status": "completed"
    },
    "tags": []
   },
   "outputs": [],
   "source": [
    "# Calibration data for conformal\n",
    "#X_calib = pd.read_csv(\"./data/X_calib.csv\")\n",
    "#y_calib = pd.read_csv(\"./data/y_calib.csv\")"
   ]
  },
  {
   "cell_type": "markdown",
   "id": "997051c5-15bd-4b69-9786-c3001a3ce484",
   "metadata": {
    "papermill": {
     "duration": 0.023398,
     "end_time": "2025-07-30T21:25:04.050760",
     "exception": false,
     "start_time": "2025-07-30T21:25:04.027362",
     "status": "completed"
    },
    "tags": []
   },
   "source": [
    "# Splitting Data and Setting Training Data Size"
   ]
  },
  {
   "cell_type": "code",
   "execution_count": 14,
   "id": "e993b61f-042d-41a6-8c81-f55681f86335",
   "metadata": {
    "execution": {
     "iopub.execute_input": "2025-07-30T21:25:04.100145Z",
     "iopub.status.busy": "2025-07-30T21:25:04.099640Z",
     "iopub.status.idle": "2025-07-30T21:25:04.113356Z",
     "shell.execute_reply": "2025-07-30T21:25:04.112296Z"
    },
    "papermill": {
     "duration": 0.041192,
     "end_time": "2025-07-30T21:25:04.115344",
     "exception": false,
     "start_time": "2025-07-30T21:25:04.074152",
     "status": "completed"
    },
    "tags": []
   },
   "outputs": [],
   "source": [
    "def sample_by_year_size(df,\n",
    "                        training_year: str,\n",
    "                        training_size: str,\n",
    "                        random_state: int = 42):\n",
    "    # --- parse training_year into a list of int years ---\n",
    "    if \"_\" in training_year:\n",
    "        start_str, end_str = training_year.split(\"_\", 1)\n",
    "        start = int(start_str)\n",
    "        end   = int(end_str) if len(end_str) == 4 else (int(end_str) + (start // 100)*100)\n",
    "        years = list(range(start, end + 1))\n",
    "    else:\n",
    "        years = [int(training_year)]\n",
    "\n",
    "    df = df[df[\"year\"].isin(years)].reset_index(drop=True)\n",
    "\n",
    "    # --- map training_size to total number of samples ---\n",
    "    total_map = {\"25k\": 25_000, \"5k\": 5_000, \"1k\": 1_000}\n",
    "    if training_size not in total_map:\n",
    "        return df  # e.g. \"all\"\n",
    "\n",
    "    total_samples = total_map[training_size]\n",
    "    n_years       = len(years)\n",
    "    base          = total_samples // n_years\n",
    "    remainder     = total_samples % n_years\n",
    "\n",
    "    # --- build a dict: year -> how many to sample ---\n",
    "    # give +1 to the first `remainder` years in ascending order\n",
    "    quotas = {\n",
    "        year: base + (1 if idx < remainder else 0)\n",
    "        for idx, year in enumerate(sorted(years))\n",
    "    }\n",
    "\n",
    "    # --- sample per‐year according to the quota dict ---\n",
    "    sampled = (\n",
    "        df\n",
    "        .groupby(\"year\", group_keys=False)\n",
    "        .apply(lambda grp: grp.sample(\n",
    "            n=min(len(grp), quotas[grp.name]),\n",
    "            random_state=random_state))\n",
    "        .reset_index(drop=True)\n",
    "    )\n",
    "\n",
    "    return sampled"
   ]
  },
  {
   "cell_type": "code",
   "execution_count": 15,
   "id": "c0ccd338-0e02-41f3-a09d-f56f9266e3fb",
   "metadata": {
    "execution": {
     "iopub.execute_input": "2025-07-30T21:25:04.166271Z",
     "iopub.status.busy": "2025-07-30T21:25:04.165598Z",
     "iopub.status.idle": "2025-07-30T21:25:04.171209Z",
     "shell.execute_reply": "2025-07-30T21:25:04.170128Z"
    },
    "papermill": {
     "duration": 0.033076,
     "end_time": "2025-07-30T21:25:04.173048",
     "exception": false,
     "start_time": "2025-07-30T21:25:04.139972",
     "status": "completed"
    },
    "tags": []
   },
   "outputs": [],
   "source": [
    "#universe[\"training_size\"]"
   ]
  },
  {
   "cell_type": "code",
   "execution_count": 16,
   "id": "ca707fd7-8047-4acd-bfa5-66248fbbf8e6",
   "metadata": {
    "execution": {
     "iopub.execute_input": "2025-07-30T21:25:04.223474Z",
     "iopub.status.busy": "2025-07-30T21:25:04.222780Z",
     "iopub.status.idle": "2025-07-30T21:25:04.228223Z",
     "shell.execute_reply": "2025-07-30T21:25:04.227189Z"
    },
    "papermill": {
     "duration": 0.032648,
     "end_time": "2025-07-30T21:25:04.230241",
     "exception": false,
     "start_time": "2025-07-30T21:25:04.197593",
     "status": "completed"
    },
    "tags": []
   },
   "outputs": [],
   "source": [
    "#universe[\"training_year\"]"
   ]
  },
  {
   "cell_type": "code",
   "execution_count": 17,
   "id": "aea9c6ef-6f46-42c8-85eb-5a62025c1508",
   "metadata": {
    "execution": {
     "iopub.execute_input": "2025-07-30T21:25:04.280424Z",
     "iopub.status.busy": "2025-07-30T21:25:04.279919Z",
     "iopub.status.idle": "2025-07-30T21:25:04.485099Z",
     "shell.execute_reply": "2025-07-30T21:25:04.484075Z"
    },
    "papermill": {
     "duration": 0.232589,
     "end_time": "2025-07-30T21:25:04.487299",
     "exception": false,
     "start_time": "2025-07-30T21:25:04.254710",
     "status": "completed"
    },
    "tags": []
   },
   "outputs": [],
   "source": [
    "siab_train = sample_by_year_size(siab,\n",
    "                               training_year=universe[\"training_year\"],\n",
    "                               training_size=universe[\"training_size\"])"
   ]
  },
  {
   "cell_type": "code",
   "execution_count": 18,
   "id": "8d3afb32-789d-442c-8d5d-9f5aa8dd2eed",
   "metadata": {
    "execution": {
     "iopub.execute_input": "2025-07-30T21:25:04.538198Z",
     "iopub.status.busy": "2025-07-30T21:25:04.537678Z",
     "iopub.status.idle": "2025-07-30T21:25:04.543715Z",
     "shell.execute_reply": "2025-07-30T21:25:04.542405Z"
    },
    "papermill": {
     "duration": 0.034054,
     "end_time": "2025-07-30T21:25:04.545862",
     "exception": false,
     "start_time": "2025-07-30T21:25:04.511808",
     "status": "completed"
    },
    "tags": []
   },
   "outputs": [],
   "source": [
    "#siab_train.shape"
   ]
  },
  {
   "cell_type": "code",
   "execution_count": 19,
   "id": "d582db68-1a4c-47fb-84fc-08518dc1975a",
   "metadata": {
    "execution": {
     "iopub.execute_input": "2025-07-30T21:25:04.597937Z",
     "iopub.status.busy": "2025-07-30T21:25:04.597473Z",
     "iopub.status.idle": "2025-07-30T21:25:04.602739Z",
     "shell.execute_reply": "2025-07-30T21:25:04.601602Z"
    },
    "papermill": {
     "duration": 0.033392,
     "end_time": "2025-07-30T21:25:04.604629",
     "exception": false,
     "start_time": "2025-07-30T21:25:04.571237",
     "status": "completed"
    },
    "tags": []
   },
   "outputs": [],
   "source": [
    "#display(siab_train.groupby(\"year\").size())"
   ]
  },
  {
   "cell_type": "code",
   "execution_count": 20,
   "id": "a561edb4-d032-42cb-8256-22eac1111c64",
   "metadata": {
    "execution": {
     "iopub.execute_input": "2025-07-30T21:25:04.655647Z",
     "iopub.status.busy": "2025-07-30T21:25:04.655163Z",
     "iopub.status.idle": "2025-07-30T21:25:04.891032Z",
     "shell.execute_reply": "2025-07-30T21:25:04.889795Z"
    },
    "papermill": {
     "duration": 0.263426,
     "end_time": "2025-07-30T21:25:04.893086",
     "exception": false,
     "start_time": "2025-07-30T21:25:04.629660",
     "status": "completed"
    },
    "tags": []
   },
   "outputs": [],
   "source": [
    "#siab_train = siab_s[siab_s.year < 2015]\n",
    "siab_calib = siab[siab.year == 2015]\n",
    "siab_test = siab[siab.year == 2016]"
   ]
  },
  {
   "cell_type": "code",
   "execution_count": 21,
   "id": "472de16f-c3db-4916-846b-1f0de9cf1746",
   "metadata": {
    "execution": {
     "iopub.execute_input": "2025-07-30T21:25:04.937087Z",
     "iopub.status.busy": "2025-07-30T21:25:04.936134Z",
     "iopub.status.idle": "2025-07-30T21:25:04.943358Z",
     "shell.execute_reply": "2025-07-30T21:25:04.942309Z"
    },
    "papermill": {
     "duration": 0.031835,
     "end_time": "2025-07-30T21:25:04.945628",
     "exception": false,
     "start_time": "2025-07-30T21:25:04.913793",
     "status": "completed"
    },
    "tags": []
   },
   "outputs": [],
   "source": [
    "X_train = siab_train.iloc[:,4:164]\n",
    "y_train = siab_train.iloc[:, [3]]"
   ]
  },
  {
   "cell_type": "code",
   "execution_count": 22,
   "id": "828c96af-f43a-4ed6-ba47-8ac73a47d56c",
   "metadata": {
    "execution": {
     "iopub.execute_input": "2025-07-30T21:25:04.991953Z",
     "iopub.status.busy": "2025-07-30T21:25:04.991056Z",
     "iopub.status.idle": "2025-07-30T21:25:05.022586Z",
     "shell.execute_reply": "2025-07-30T21:25:05.021611Z"
    },
    "papermill": {
     "duration": 0.056565,
     "end_time": "2025-07-30T21:25:05.024702",
     "exception": false,
     "start_time": "2025-07-30T21:25:04.968137",
     "status": "completed"
    },
    "tags": []
   },
   "outputs": [],
   "source": [
    "X_calib = siab_calib.iloc[:,4:164]\n",
    "y_calib = siab_calib.iloc[:, [3]]"
   ]
  },
  {
   "cell_type": "code",
   "execution_count": 23,
   "id": "c34be9c3-6bd6-476e-acd3-845840e303be",
   "metadata": {
    "execution": {
     "iopub.execute_input": "2025-07-30T21:25:05.065310Z",
     "iopub.status.busy": "2025-07-30T21:25:05.064729Z",
     "iopub.status.idle": "2025-07-30T21:25:05.123015Z",
     "shell.execute_reply": "2025-07-30T21:25:05.122091Z"
    },
    "papermill": {
     "duration": 0.076538,
     "end_time": "2025-07-30T21:25:05.125418",
     "exception": false,
     "start_time": "2025-07-30T21:25:05.048880",
     "status": "completed"
    },
    "tags": []
   },
   "outputs": [],
   "source": [
    "X_test = siab_test.iloc[:,4:164]\n",
    "y_true = siab_test.iloc[:, [3]]"
   ]
  },
  {
   "cell_type": "markdown",
   "id": "9901737e-04df-44f0-9100-f5ad144ed040",
   "metadata": {
    "papermill": {
     "duration": 0.021812,
     "end_time": "2025-07-30T21:25:05.170319",
     "exception": false,
     "start_time": "2025-07-30T21:25:05.148507",
     "status": "completed"
    },
    "tags": []
   },
   "source": [
    "# Splitting Data and Setting Training Data Size OLD VERSION"
   ]
  },
  {
   "cell_type": "code",
   "execution_count": 24,
   "id": "acbc8f7d-8fc8-4e86-8c59-5dcb0f58384b",
   "metadata": {
    "execution": {
     "iopub.execute_input": "2025-07-30T21:25:05.214758Z",
     "iopub.status.busy": "2025-07-30T21:25:05.214310Z",
     "iopub.status.idle": "2025-07-30T21:25:05.219852Z",
     "shell.execute_reply": "2025-07-30T21:25:05.218746Z"
    },
    "papermill": {
     "duration": 0.029213,
     "end_time": "2025-07-30T21:25:05.221505",
     "exception": false,
     "start_time": "2025-07-30T21:25:05.192292",
     "status": "completed"
    },
    "tags": []
   },
   "outputs": [],
   "source": [
    "#def sample_by_year(df, training_size, random_state=42):\n",
    "#    if training_size == \"2014\":\n",
    "#        return df[df[\"year\"] == 2014].reset_index(drop=True)\n",
    "#    \n",
    "#    size_map = {\n",
    "#        \"25k\": 5000,\n",
    "#        \"5k\": 1000,\n",
    "#        \"1k\": 200\n",
    "#    }\n",
    "#\n",
    "#    if training_size not in size_map:\n",
    "#        return df.reset_index(drop=True)  # use all data\n",
    "#\n",
    "#    n_per_year = size_map[training_size]\n",
    "#    grouped = df.groupby(\"year\")\n",
    "#    sampled = grouped.apply(lambda x: x.sample(n=min(n_per_year, len(x)), random_state=random_state))\n",
    "#    return sampled.reset_index(drop=True)"
   ]
  },
  {
   "cell_type": "code",
   "execution_count": 25,
   "id": "6d931f52-beaf-43ff-9e78-9d44a448d54e",
   "metadata": {
    "execution": {
     "iopub.execute_input": "2025-07-30T21:25:05.268153Z",
     "iopub.status.busy": "2025-07-30T21:25:05.267640Z",
     "iopub.status.idle": "2025-07-30T21:25:05.272739Z",
     "shell.execute_reply": "2025-07-30T21:25:05.271729Z"
    },
    "papermill": {
     "duration": 0.03063,
     "end_time": "2025-07-30T21:25:05.274475",
     "exception": false,
     "start_time": "2025-07-30T21:25:05.243845",
     "status": "completed"
    },
    "tags": []
   },
   "outputs": [],
   "source": [
    "#siab_s = sample_by_year(siab, universe[\"training_size\"])"
   ]
  },
  {
   "cell_type": "code",
   "execution_count": 26,
   "id": "5db0a40e-a4e2-4920-be85-b12ae061d70d",
   "metadata": {
    "execution": {
     "iopub.execute_input": "2025-07-30T21:25:05.318800Z",
     "iopub.status.busy": "2025-07-30T21:25:05.318298Z",
     "iopub.status.idle": "2025-07-30T21:25:05.325160Z",
     "shell.execute_reply": "2025-07-30T21:25:05.324136Z"
    },
    "papermill": {
     "duration": 0.03099,
     "end_time": "2025-07-30T21:25:05.327095",
     "exception": false,
     "start_time": "2025-07-30T21:25:05.296105",
     "status": "completed"
    },
    "tags": []
   },
   "outputs": [],
   "source": [
    "#display(siab_s.groupby(\"year\").size())"
   ]
  },
  {
   "cell_type": "code",
   "execution_count": 27,
   "id": "e6c733c5",
   "metadata": {
    "execution": {
     "iopub.execute_input": "2025-07-30T21:25:05.375664Z",
     "iopub.status.busy": "2025-07-30T21:25:05.375136Z",
     "iopub.status.idle": "2025-07-30T21:25:05.466849Z",
     "shell.execute_reply": "2025-07-30T21:25:05.466110Z"
    },
    "papermill": {
     "duration": 0.116915,
     "end_time": "2025-07-30T21:25:05.468336",
     "exception": false,
     "start_time": "2025-07-30T21:25:05.351421",
     "status": "completed"
    },
    "tags": []
   },
   "outputs": [],
   "source": [
    "# Auxiliary data needed downstream in the pipeline\n",
    "\n",
    "org_train = X_train.copy()\n",
    "org_test = X_test.copy()\n",
    "org_calib = X_calib.copy()"
   ]
  },
  {
   "cell_type": "code",
   "execution_count": 28,
   "id": "1466abac-c6da-4492-a62f-4240ae3783af",
   "metadata": {
    "execution": {
     "iopub.execute_input": "2025-07-30T21:25:05.495679Z",
     "iopub.status.busy": "2025-07-30T21:25:05.495003Z",
     "iopub.status.idle": "2025-07-30T21:25:05.499890Z",
     "shell.execute_reply": "2025-07-30T21:25:05.499072Z"
    },
    "papermill": {
     "duration": 0.018505,
     "end_time": "2025-07-30T21:25:05.501480",
     "exception": false,
     "start_time": "2025-07-30T21:25:05.482975",
     "status": "completed"
    },
    "tags": []
   },
   "outputs": [],
   "source": [
    "# put in other script?\n",
    "# Group sizes\n",
    "\n",
    "#def calculate_percentages(df, df_name):\n",
    "#    total_entries = len(df)\n",
    "#\n",
    "#    female_pct = (df['frau1'] == 1).mean() * 100\n",
    "#    non_german_pct = ((df['maxdeutsch1'] == 0) & (df['maxdeutsch.Missing.'] == 0)).mean() * 100\n",
    "#    non_german_male_pct = ((df['frau1'] == 0) & (df['maxdeutsch1'] == 0) & (df['maxdeutsch.Missing.'] == 0)).mean() * 100\n",
    "#    non_german_female_pct = ((df['frau1'] == 1) & (df['maxdeutsch1'] == 0) & (df['maxdeutsch.Missing.'] == 0)).mean() * 100\n",
    "#\n",
    "#    print(f\"--- {df_name} ---\")\n",
    "#    print(f\"Female: {female_pct:.2f}%\")\n",
    "#    print(f\"Non-German: {non_german_pct:.2f}%\")\n",
    "#    print(f\"Non-German Male: {non_german_male_pct:.2f}%\")\n",
    "#    print(f\"Non-German Female: {non_german_female_pct:.2f}%\\n\")\n",
    "#\n",
    "## Calculate for each DataFrame\n",
    "#calculate_percentages(siab_calib, \"siab_calib\")\n",
    "#calculate_percentages(siab_test, \"siab_test\")\n",
    "#calculate_percentages(siab_train, \"siab_train\")"
   ]
  },
  {
   "cell_type": "markdown",
   "id": "0a4a1b33",
   "metadata": {
    "papermill": {
     "duration": 0.013707,
     "end_time": "2025-07-30T21:25:05.538142",
     "exception": false,
     "start_time": "2025-07-30T21:25:05.524435",
     "status": "completed"
    },
    "tags": []
   },
   "source": [
    "# Preprocessing Data"
   ]
  },
  {
   "cell_type": "code",
   "execution_count": 29,
   "id": "ca879031",
   "metadata": {
    "execution": {
     "iopub.execute_input": "2025-07-30T21:25:05.564236Z",
     "iopub.status.busy": "2025-07-30T21:25:05.563800Z",
     "iopub.status.idle": "2025-07-30T21:25:05.572964Z",
     "shell.execute_reply": "2025-07-30T21:25:05.571195Z"
    },
    "papermill": {
     "duration": 0.024231,
     "end_time": "2025-07-30T21:25:05.575150",
     "exception": false,
     "start_time": "2025-07-30T21:25:05.550919",
     "status": "completed"
    },
    "tags": []
   },
   "outputs": [],
   "source": [
    "# EXCLUDE PROTECTED FEATURES\n",
    "# ----------------------\n",
    "# \"exclude_features\": \"none\", # \"nationality\", \"sex\", \"nationality-sex\"\n",
    "\n",
    "excluded_features = universe[\"exclude_features\"].split(\"-\") # split, e.g.: \"nationality-sex\" -> [\"nationality\", \"sex\"]\n",
    "excluded_features_dictionary = {\n",
    "    \"nationality\": [\"maxdeutsch1\", \"maxdeutsch.Missing.\"],\n",
    "    \"sex\": [\"frau1\"],\n",
    "    \"age\": [\"age\"],\n",
    "}\n"
   ]
  },
  {
   "cell_type": "code",
   "execution_count": 30,
   "id": "b745ac60",
   "metadata": {
    "execution": {
     "iopub.execute_input": "2025-07-30T21:25:05.621322Z",
     "iopub.status.busy": "2025-07-30T21:25:05.620452Z",
     "iopub.status.idle": "2025-07-30T21:25:05.626944Z",
     "shell.execute_reply": "2025-07-30T21:25:05.625970Z"
    },
    "papermill": {
     "duration": 0.03092,
     "end_time": "2025-07-30T21:25:05.628793",
     "exception": false,
     "start_time": "2025-07-30T21:25:05.597873",
     "status": "completed"
    },
    "tags": []
   },
   "outputs": [],
   "source": [
    "# Code nice names to column names\n",
    "\n",
    "excluded_features_columns = [\n",
    "    excluded_features_dictionary[f] for f in excluded_features if len(f) > 0 and f != \"none\"\n",
    "]"
   ]
  },
  {
   "cell_type": "code",
   "execution_count": 31,
   "id": "f84f73a2",
   "metadata": {
    "execution": {
     "iopub.execute_input": "2025-07-30T21:25:05.678359Z",
     "iopub.status.busy": "2025-07-30T21:25:05.677837Z",
     "iopub.status.idle": "2025-07-30T21:25:05.684970Z",
     "shell.execute_reply": "2025-07-30T21:25:05.683966Z"
    },
    "papermill": {
     "duration": 0.035183,
     "end_time": "2025-07-30T21:25:05.686731",
     "exception": false,
     "start_time": "2025-07-30T21:25:05.651548",
     "status": "completed"
    },
    "tags": []
   },
   "outputs": [],
   "source": [
    "from utils import flatten_once\n",
    "\n",
    "excluded_features_columns = flatten_once(excluded_features_columns)"
   ]
  },
  {
   "cell_type": "code",
   "execution_count": 32,
   "id": "884dea22",
   "metadata": {
    "execution": {
     "iopub.execute_input": "2025-07-30T21:25:05.732151Z",
     "iopub.status.busy": "2025-07-30T21:25:05.731589Z",
     "iopub.status.idle": "2025-07-30T21:25:05.741625Z",
     "shell.execute_reply": "2025-07-30T21:25:05.740482Z"
    },
    "papermill": {
     "duration": 0.03487,
     "end_time": "2025-07-30T21:25:05.743447",
     "exception": false,
     "start_time": "2025-07-30T21:25:05.708577",
     "status": "completed"
    },
    "tags": []
   },
   "outputs": [
    {
     "name": "stdout",
     "output_type": "stream",
     "text": [
      "Dropping features: ['maxdeutsch1', 'maxdeutsch.Missing.', 'frau1']\n"
     ]
    }
   ],
   "source": [
    "if len(excluded_features_columns) > 0:\n",
    "    print(f\"Dropping features: {excluded_features_columns}\")\n",
    "    X_train.drop(excluded_features_columns, axis=1, inplace=True)"
   ]
  },
  {
   "cell_type": "code",
   "execution_count": 33,
   "id": "95ab8b16",
   "metadata": {
    "execution": {
     "iopub.execute_input": "2025-07-30T21:25:05.789227Z",
     "iopub.status.busy": "2025-07-30T21:25:05.788758Z",
     "iopub.status.idle": "2025-07-30T21:25:05.844401Z",
     "shell.execute_reply": "2025-07-30T21:25:05.842557Z"
    },
    "papermill": {
     "duration": 0.080365,
     "end_time": "2025-07-30T21:25:05.846272",
     "exception": false,
     "start_time": "2025-07-30T21:25:05.765907",
     "status": "completed"
    },
    "tags": []
   },
   "outputs": [
    {
     "name": "stdout",
     "output_type": "stream",
     "text": [
      "Dropping features: ['maxdeutsch1', 'maxdeutsch.Missing.', 'frau1']\n"
     ]
    }
   ],
   "source": [
    "if len(excluded_features_columns) > 0:\n",
    "    print(f\"Dropping features: {excluded_features_columns}\")\n",
    "    X_test.drop(excluded_features_columns, axis=1, inplace=True)"
   ]
  },
  {
   "cell_type": "code",
   "execution_count": 34,
   "id": "1853aaf5-fb9f-46cb-a2b5-8ea4ae2237e4",
   "metadata": {
    "execution": {
     "iopub.execute_input": "2025-07-30T21:25:05.879554Z",
     "iopub.status.busy": "2025-07-30T21:25:05.879159Z",
     "iopub.status.idle": "2025-07-30T21:25:05.932125Z",
     "shell.execute_reply": "2025-07-30T21:25:05.931276Z"
    },
    "papermill": {
     "duration": 0.067279,
     "end_time": "2025-07-30T21:25:05.933449",
     "exception": false,
     "start_time": "2025-07-30T21:25:05.866170",
     "status": "completed"
    },
    "tags": []
   },
   "outputs": [
    {
     "name": "stdout",
     "output_type": "stream",
     "text": [
      "Dropping features: ['maxdeutsch1', 'maxdeutsch.Missing.', 'frau1']\n"
     ]
    }
   ],
   "source": [
    "if len(excluded_features_columns) > 0:\n",
    "    print(f\"Dropping features: {excluded_features_columns}\")\n",
    "    X_calib.drop(excluded_features_columns, axis=1, inplace=True)"
   ]
  },
  {
   "cell_type": "code",
   "execution_count": 35,
   "id": "6727d079-03e5-481e-9d38-292a90b7a0a8",
   "metadata": {
    "execution": {
     "iopub.execute_input": "2025-07-30T21:25:05.960224Z",
     "iopub.status.busy": "2025-07-30T21:25:05.959375Z",
     "iopub.status.idle": "2025-07-30T21:25:05.964499Z",
     "shell.execute_reply": "2025-07-30T21:25:05.963215Z"
    },
    "papermill": {
     "duration": 0.020205,
     "end_time": "2025-07-30T21:25:05.966348",
     "exception": false,
     "start_time": "2025-07-30T21:25:05.946143",
     "status": "completed"
    },
    "tags": []
   },
   "outputs": [],
   "source": [
    "# SPLIT & STRATIFY DATA\n",
    "# ----------------------"
   ]
  },
  {
   "cell_type": "code",
   "execution_count": 36,
   "id": "76c4dc6d",
   "metadata": {
    "execution": {
     "iopub.execute_input": "2025-07-30T21:25:06.025905Z",
     "iopub.status.busy": "2025-07-30T21:25:06.025418Z",
     "iopub.status.idle": "2025-07-30T21:25:06.031142Z",
     "shell.execute_reply": "2025-07-30T21:25:06.030070Z"
    },
    "papermill": {
     "duration": 0.043204,
     "end_time": "2025-07-30T21:25:06.033113",
     "exception": false,
     "start_time": "2025-07-30T21:25:05.989909",
     "status": "completed"
    },
    "tags": []
   },
   "outputs": [],
   "source": [
    "# EXCLUDE CERTAIN SUBGROUPS\n",
    "# ----------------------\n",
    "\n",
    "mode = universe.get(\"exclude_subgroups\", \"keep-all\") \n",
    "# Fetches the exclude_subgroups setting from the universe dict.\n",
    "# Defaults to \"keep-all\" if the key is missing."
   ]
  },
  {
   "cell_type": "code",
   "execution_count": 37,
   "id": "21994072",
   "metadata": {
    "execution": {
     "iopub.execute_input": "2025-07-30T21:25:06.059773Z",
     "iopub.status.busy": "2025-07-30T21:25:06.059384Z",
     "iopub.status.idle": "2025-07-30T21:25:06.064628Z",
     "shell.execute_reply": "2025-07-30T21:25:06.063751Z"
    },
    "papermill": {
     "duration": 0.019503,
     "end_time": "2025-07-30T21:25:06.066028",
     "exception": false,
     "start_time": "2025-07-30T21:25:06.046525",
     "status": "completed"
    },
    "tags": []
   },
   "outputs": [],
   "source": [
    "if mode == \"keep-all\":\n",
    "    keep_mask = pd.Series(True, index=org_train.index)\n",
    "\n",
    "# org_train contains the original feature columns from features_org (in Simson)\n",
    "# features_org contains unprocessed features, for me X_train at beginning ???\n",
    "# For keep-all, creates a boolean Series (keep_mask) of all True, so no rows are removed.\n",
    "\n",
    "elif mode == \"drop-non-german\":\n",
    "    keep_mask = org_train[\"maxdeutsch1\"] == 1 # ??? what about missing values?\n",
    "\n",
    "else:\n",
    "    raise ValueError(f\"Unsupported mode for exclude_subgroups: {mode}\")\n"
   ]
  },
  {
   "cell_type": "code",
   "execution_count": 38,
   "id": "71651440",
   "metadata": {
    "execution": {
     "iopub.execute_input": "2025-07-30T21:25:06.096511Z",
     "iopub.status.busy": "2025-07-30T21:25:06.096103Z",
     "iopub.status.idle": "2025-07-30T21:25:06.101554Z",
     "shell.execute_reply": "2025-07-30T21:25:06.100579Z"
    },
    "papermill": {
     "duration": 0.025952,
     "end_time": "2025-07-30T21:25:06.104413",
     "exception": false,
     "start_time": "2025-07-30T21:25:06.078461",
     "status": "completed"
    },
    "tags": []
   },
   "outputs": [
    {
     "name": "stdout",
     "output_type": "stream",
     "text": [
      "Dropping 147 rows (14.70%) where mode='drop-non-german'\n"
     ]
    }
   ],
   "source": [
    "n_drop = (~keep_mask).sum() # Calculates how many rows are set to be dropped\n",
    "if n_drop > 0:\n",
    "    pct = n_drop / len(keep_mask) * 100\n",
    "    print(f\"Dropping {n_drop} rows ({pct:.2f}%) where mode='{mode}'\")"
   ]
  },
  {
   "cell_type": "code",
   "execution_count": 39,
   "id": "5fb8eee5",
   "metadata": {
    "execution": {
     "iopub.execute_input": "2025-07-30T21:25:06.155369Z",
     "iopub.status.busy": "2025-07-30T21:25:06.154844Z",
     "iopub.status.idle": "2025-07-30T21:25:06.161407Z",
     "shell.execute_reply": "2025-07-30T21:25:06.160395Z"
    },
    "papermill": {
     "duration": 0.0345,
     "end_time": "2025-07-30T21:25:06.163097",
     "exception": false,
     "start_time": "2025-07-30T21:25:06.128597",
     "status": "completed"
    },
    "tags": []
   },
   "outputs": [],
   "source": [
    "X_train = X_train[keep_mask]"
   ]
  },
  {
   "cell_type": "code",
   "execution_count": 40,
   "id": "b202bb3a",
   "metadata": {
    "execution": {
     "iopub.execute_input": "2025-07-30T21:25:06.210230Z",
     "iopub.status.busy": "2025-07-30T21:25:06.209784Z",
     "iopub.status.idle": "2025-07-30T21:25:06.215758Z",
     "shell.execute_reply": "2025-07-30T21:25:06.214691Z"
    },
    "papermill": {
     "duration": 0.03209,
     "end_time": "2025-07-30T21:25:06.218903",
     "exception": false,
     "start_time": "2025-07-30T21:25:06.186813",
     "status": "completed"
    },
    "tags": []
   },
   "outputs": [],
   "source": [
    "y_train = y_train[keep_mask]"
   ]
  },
  {
   "cell_type": "markdown",
   "id": "493e2ac3",
   "metadata": {
    "papermill": {
     "duration": 0.023116,
     "end_time": "2025-07-30T21:25:06.265337",
     "exception": false,
     "start_time": "2025-07-30T21:25:06.242221",
     "status": "completed"
    },
    "tags": []
   },
   "source": [
    "# Model Training"
   ]
  },
  {
   "cell_type": "code",
   "execution_count": 41,
   "id": "679e1268",
   "metadata": {
    "execution": {
     "iopub.execute_input": "2025-07-30T21:25:06.311262Z",
     "iopub.status.busy": "2025-07-30T21:25:06.310763Z",
     "iopub.status.idle": "2025-07-30T21:25:06.416989Z",
     "shell.execute_reply": "2025-07-30T21:25:06.415641Z"
    },
    "papermill": {
     "duration": 0.131574,
     "end_time": "2025-07-30T21:25:06.419238",
     "exception": false,
     "start_time": "2025-07-30T21:25:06.287664",
     "status": "completed"
    },
    "tags": []
   },
   "outputs": [],
   "source": [
    "from sklearn.linear_model import LogisticRegression\n",
    "from sklearn.ensemble import GradientBoostingClassifier, RandomForestClassifier\n",
    "\n",
    "if (universe[\"model\"] == \"logreg\"):\n",
    "    model = LogisticRegression() #penalty=\"none\") #, solver=\"newton-cg\", max_iter=1) # include random_state=19 ?\n",
    "elif (universe[\"model\"] == \"penalized_logreg\"):\n",
    "    model = LogisticRegression(penalty=\"l2\", C=1.0) #, solver=\"newton-cg\", max_iter=1)\n",
    "elif (universe[\"model\"] == \"rf\"):\n",
    "    model = RandomForestClassifier(n_estimators=100, n_jobs=-1)\n",
    "elif (universe[\"model\"] == \"gbm\"):\n",
    "    model = GradientBoostingClassifier()\n",
    "elif (universe[\"model\"] == \"elasticnet\"):\n",
    "    model = LogisticRegression(penalty = 'elasticnet', solver = 'saga', l1_ratio = 0.5, max_iter=5000) # which solver to use?\n",
    "else:\n",
    "    raise \"Unsupported universe.model\""
   ]
  },
  {
   "cell_type": "code",
   "execution_count": 42,
   "id": "0cc8f744",
   "metadata": {
    "execution": {
     "iopub.execute_input": "2025-07-30T21:25:06.467061Z",
     "iopub.status.busy": "2025-07-30T21:25:06.466168Z",
     "iopub.status.idle": "2025-07-30T21:25:06.473412Z",
     "shell.execute_reply": "2025-07-30T21:25:06.472462Z"
    },
    "papermill": {
     "duration": 0.032347,
     "end_time": "2025-07-30T21:25:06.475006",
     "exception": false,
     "start_time": "2025-07-30T21:25:06.442659",
     "status": "completed"
    },
    "tags": []
   },
   "outputs": [],
   "source": [
    "import numpy as np\n",
    "from sklearn.pipeline import Pipeline\n",
    "from sklearn.preprocessing import StandardScaler\n",
    "\n",
    "model = Pipeline([\n",
    "    #(\"continuous_processor\", continuous_processor),\n",
    "    #(\"categorical_preprocessor\", categorical_preprocessor),\n",
    "    (\"scale\", StandardScaler() if universe[\"scale\"] == \"scale\" else None), \n",
    "    (\"model\", model),\n",
    "])"
   ]
  },
  {
   "cell_type": "code",
   "execution_count": 43,
   "id": "9442c04d",
   "metadata": {
    "execution": {
     "iopub.execute_input": "2025-07-30T21:25:06.521692Z",
     "iopub.status.busy": "2025-07-30T21:25:06.521102Z",
     "iopub.status.idle": "2025-07-30T21:25:06.927472Z",
     "shell.execute_reply": "2025-07-30T21:25:06.926386Z"
    },
    "papermill": {
     "duration": 0.431631,
     "end_time": "2025-07-30T21:25:06.929042",
     "exception": false,
     "start_time": "2025-07-30T21:25:06.497411",
     "status": "completed"
    },
    "tags": []
   },
   "outputs": [
    {
     "data": {
      "text/html": [
       "<style>#sk-container-id-1 {color: black;background-color: white;}#sk-container-id-1 pre{padding: 0;}#sk-container-id-1 div.sk-toggleable {background-color: white;}#sk-container-id-1 label.sk-toggleable__label {cursor: pointer;display: block;width: 100%;margin-bottom: 0;padding: 0.3em;box-sizing: border-box;text-align: center;}#sk-container-id-1 label.sk-toggleable__label-arrow:before {content: \"▸\";float: left;margin-right: 0.25em;color: #696969;}#sk-container-id-1 label.sk-toggleable__label-arrow:hover:before {color: black;}#sk-container-id-1 div.sk-estimator:hover label.sk-toggleable__label-arrow:before {color: black;}#sk-container-id-1 div.sk-toggleable__content {max-height: 0;max-width: 0;overflow: hidden;text-align: left;background-color: #f0f8ff;}#sk-container-id-1 div.sk-toggleable__content pre {margin: 0.2em;color: black;border-radius: 0.25em;background-color: #f0f8ff;}#sk-container-id-1 input.sk-toggleable__control:checked~div.sk-toggleable__content {max-height: 200px;max-width: 100%;overflow: auto;}#sk-container-id-1 input.sk-toggleable__control:checked~label.sk-toggleable__label-arrow:before {content: \"▾\";}#sk-container-id-1 div.sk-estimator input.sk-toggleable__control:checked~label.sk-toggleable__label {background-color: #d4ebff;}#sk-container-id-1 div.sk-label input.sk-toggleable__control:checked~label.sk-toggleable__label {background-color: #d4ebff;}#sk-container-id-1 input.sk-hidden--visually {border: 0;clip: rect(1px 1px 1px 1px);clip: rect(1px, 1px, 1px, 1px);height: 1px;margin: -1px;overflow: hidden;padding: 0;position: absolute;width: 1px;}#sk-container-id-1 div.sk-estimator {font-family: monospace;background-color: #f0f8ff;border: 1px dotted black;border-radius: 0.25em;box-sizing: border-box;margin-bottom: 0.5em;}#sk-container-id-1 div.sk-estimator:hover {background-color: #d4ebff;}#sk-container-id-1 div.sk-parallel-item::after {content: \"\";width: 100%;border-bottom: 1px solid gray;flex-grow: 1;}#sk-container-id-1 div.sk-label:hover label.sk-toggleable__label {background-color: #d4ebff;}#sk-container-id-1 div.sk-serial::before {content: \"\";position: absolute;border-left: 1px solid gray;box-sizing: border-box;top: 0;bottom: 0;left: 50%;z-index: 0;}#sk-container-id-1 div.sk-serial {display: flex;flex-direction: column;align-items: center;background-color: white;padding-right: 0.2em;padding-left: 0.2em;position: relative;}#sk-container-id-1 div.sk-item {position: relative;z-index: 1;}#sk-container-id-1 div.sk-parallel {display: flex;align-items: stretch;justify-content: center;background-color: white;position: relative;}#sk-container-id-1 div.sk-item::before, #sk-container-id-1 div.sk-parallel-item::before {content: \"\";position: absolute;border-left: 1px solid gray;box-sizing: border-box;top: 0;bottom: 0;left: 50%;z-index: -1;}#sk-container-id-1 div.sk-parallel-item {display: flex;flex-direction: column;z-index: 1;position: relative;background-color: white;}#sk-container-id-1 div.sk-parallel-item:first-child::after {align-self: flex-end;width: 50%;}#sk-container-id-1 div.sk-parallel-item:last-child::after {align-self: flex-start;width: 50%;}#sk-container-id-1 div.sk-parallel-item:only-child::after {width: 0;}#sk-container-id-1 div.sk-dashed-wrapped {border: 1px dashed gray;margin: 0 0.4em 0.5em 0.4em;box-sizing: border-box;padding-bottom: 0.4em;background-color: white;}#sk-container-id-1 div.sk-label label {font-family: monospace;font-weight: bold;display: inline-block;line-height: 1.2em;}#sk-container-id-1 div.sk-label-container {text-align: center;}#sk-container-id-1 div.sk-container {/* jupyter's `normalize.less` sets `[hidden] { display: none; }` but bootstrap.min.css set `[hidden] { display: none !important; }` so we also need the `!important` here to be able to override the default hidden behavior on the sphinx rendered scikit-learn.org. See: https://github.com/scikit-learn/scikit-learn/issues/21755 */display: inline-block !important;position: relative;}#sk-container-id-1 div.sk-text-repr-fallback {display: none;}</style><div id=\"sk-container-id-1\" class=\"sk-top-container\"><div class=\"sk-text-repr-fallback\"><pre>Pipeline(steps=[(&#x27;scale&#x27;, StandardScaler()),\n",
       "                (&#x27;model&#x27;, RandomForestClassifier(n_jobs=-1))])</pre><b>In a Jupyter environment, please rerun this cell to show the HTML representation or trust the notebook. <br />On GitHub, the HTML representation is unable to render, please try loading this page with nbviewer.org.</b></div><div class=\"sk-container\" hidden><div class=\"sk-item sk-dashed-wrapped\"><div class=\"sk-label-container\"><div class=\"sk-label sk-toggleable\"><input class=\"sk-toggleable__control sk-hidden--visually\" id=\"sk-estimator-id-1\" type=\"checkbox\" ><label for=\"sk-estimator-id-1\" class=\"sk-toggleable__label sk-toggleable__label-arrow\">Pipeline</label><div class=\"sk-toggleable__content\"><pre>Pipeline(steps=[(&#x27;scale&#x27;, StandardScaler()),\n",
       "                (&#x27;model&#x27;, RandomForestClassifier(n_jobs=-1))])</pre></div></div></div><div class=\"sk-serial\"><div class=\"sk-item\"><div class=\"sk-estimator sk-toggleable\"><input class=\"sk-toggleable__control sk-hidden--visually\" id=\"sk-estimator-id-2\" type=\"checkbox\" ><label for=\"sk-estimator-id-2\" class=\"sk-toggleable__label sk-toggleable__label-arrow\">StandardScaler</label><div class=\"sk-toggleable__content\"><pre>StandardScaler()</pre></div></div></div><div class=\"sk-item\"><div class=\"sk-estimator sk-toggleable\"><input class=\"sk-toggleable__control sk-hidden--visually\" id=\"sk-estimator-id-3\" type=\"checkbox\" ><label for=\"sk-estimator-id-3\" class=\"sk-toggleable__label sk-toggleable__label-arrow\">RandomForestClassifier</label><div class=\"sk-toggleable__content\"><pre>RandomForestClassifier(n_jobs=-1)</pre></div></div></div></div></div></div></div>"
      ],
      "text/plain": [
       "Pipeline(steps=[('scale', StandardScaler()),\n",
       "                ('model', RandomForestClassifier(n_jobs=-1))])"
      ]
     },
     "execution_count": 43,
     "metadata": {},
     "output_type": "execute_result"
    }
   ],
   "source": [
    "model.fit(X_train, y_train.values.ravel())"
   ]
  },
  {
   "cell_type": "code",
   "execution_count": 44,
   "id": "af59f8c0",
   "metadata": {
    "execution": {
     "iopub.execute_input": "2025-07-30T21:25:06.987731Z",
     "iopub.status.busy": "2025-07-30T21:25:06.986763Z",
     "iopub.status.idle": "2025-07-30T21:25:06.992023Z",
     "shell.execute_reply": "2025-07-30T21:25:06.991089Z"
    },
    "papermill": {
     "duration": 0.033599,
     "end_time": "2025-07-30T21:25:06.994673",
     "exception": false,
     "start_time": "2025-07-30T21:25:06.961074",
     "status": "completed"
    },
    "tags": []
   },
   "outputs": [],
   "source": [
    "from fairness_multiverse.universe import predict_w_threshold"
   ]
  },
  {
   "cell_type": "code",
   "execution_count": 45,
   "id": "a7cf2e16",
   "metadata": {
    "execution": {
     "iopub.execute_input": "2025-07-30T21:25:07.042213Z",
     "iopub.status.busy": "2025-07-30T21:25:07.041777Z",
     "iopub.status.idle": "2025-07-30T21:25:07.873700Z",
     "shell.execute_reply": "2025-07-30T21:25:07.872778Z"
    },
    "papermill": {
     "duration": 0.859062,
     "end_time": "2025-07-30T21:25:07.876913",
     "exception": false,
     "start_time": "2025-07-30T21:25:07.017851",
     "status": "completed"
    },
    "tags": []
   },
   "outputs": [
    {
     "data": {
      "text/plain": [
       "0.8610188384795452"
      ]
     },
     "execution_count": 45,
     "metadata": {},
     "output_type": "execute_result"
    }
   ],
   "source": [
    "probs_test = model.predict_proba(X_test)\n",
    "\n",
    "'''\n",
    "Below code returns a boolean array (or binary 0/1 array depending on how it’s used) where each element \n",
    "is True if the probability of class 1 is greater than or equal to the threshold, and False otherwise.\n",
    "'''\n",
    "y_pred_default = predict_w_threshold(probs_test, 0.5)\n",
    "\n",
    "from sklearn.metrics import accuracy_score\n",
    "\n",
    "# Naive prediction\n",
    "accuracy_score(y_true = y_true, y_pred = y_pred_default)"
   ]
  },
  {
   "cell_type": "code",
   "execution_count": 46,
   "id": "081964c3",
   "metadata": {
    "execution": {
     "iopub.execute_input": "2025-07-30T21:25:07.930092Z",
     "iopub.status.busy": "2025-07-30T21:25:07.929700Z",
     "iopub.status.idle": "2025-07-30T21:25:08.981830Z",
     "shell.execute_reply": "2025-07-30T21:25:08.980956Z"
    },
    "papermill": {
     "duration": 1.089554,
     "end_time": "2025-07-30T21:25:08.983489",
     "exception": false,
     "start_time": "2025-07-30T21:25:07.893935",
     "status": "completed"
    },
    "tags": []
   },
   "outputs": [
    {
     "data": {
      "text/plain": [
       "array([0, 0, 0, ..., 0, 0, 0])"
      ]
     },
     "execution_count": 46,
     "metadata": {},
     "output_type": "execute_result"
    }
   ],
   "source": [
    "model.predict(X_test)"
   ]
  },
  {
   "cell_type": "markdown",
   "id": "56c9705b",
   "metadata": {
    "papermill": {
     "duration": 0.029376,
     "end_time": "2025-07-30T21:25:09.048289",
     "exception": false,
     "start_time": "2025-07-30T21:25:09.018913",
     "status": "completed"
    },
    "tags": []
   },
   "source": [
    "# Conformal Prediction"
   ]
  },
  {
   "cell_type": "code",
   "execution_count": 47,
   "id": "160ec6ff",
   "metadata": {
    "execution": {
     "iopub.execute_input": "2025-07-30T21:25:09.174667Z",
     "iopub.status.busy": "2025-07-30T21:25:09.174292Z",
     "iopub.status.idle": "2025-07-30T21:25:09.179473Z",
     "shell.execute_reply": "2025-07-30T21:25:09.178494Z"
    },
    "papermill": {
     "duration": 0.07627,
     "end_time": "2025-07-30T21:25:09.180976",
     "exception": false,
     "start_time": "2025-07-30T21:25:09.104706",
     "status": "completed"
    },
    "tags": []
   },
   "outputs": [],
   "source": [
    "# Miscoverage level for conformal prediction (10% allowed error rate => 90% target coverage)\n",
    "alpha = 0.1"
   ]
  },
  {
   "cell_type": "code",
   "execution_count": 48,
   "id": "eadf4555-3dd3-440e-8e35-f82a4ad9f855",
   "metadata": {
    "execution": {
     "iopub.execute_input": "2025-07-30T21:25:09.249437Z",
     "iopub.status.busy": "2025-07-30T21:25:09.249047Z",
     "iopub.status.idle": "2025-07-30T21:25:10.249571Z",
     "shell.execute_reply": "2025-07-30T21:25:10.248671Z"
    },
    "papermill": {
     "duration": 1.026958,
     "end_time": "2025-07-30T21:25:10.251746",
     "exception": false,
     "start_time": "2025-07-30T21:25:09.224788",
     "status": "completed"
    },
    "tags": []
   },
   "outputs": [],
   "source": [
    "probs_calib = model.predict_proba(X_calib)"
   ]
  },
  {
   "cell_type": "code",
   "execution_count": 49,
   "id": "2ed93547-6d5d-4983-9b36-1ecb300da49a",
   "metadata": {
    "execution": {
     "iopub.execute_input": "2025-07-30T21:25:10.309976Z",
     "iopub.status.busy": "2025-07-30T21:25:10.309561Z",
     "iopub.status.idle": "2025-07-30T21:25:10.319138Z",
     "shell.execute_reply": "2025-07-30T21:25:10.317888Z"
    },
    "papermill": {
     "duration": 0.03124,
     "end_time": "2025-07-30T21:25:10.324251",
     "exception": false,
     "start_time": "2025-07-30T21:25:10.293011",
     "status": "completed"
    },
    "tags": []
   },
   "outputs": [],
   "source": [
    "y_calib = y_calib.values.ravel().astype(int)"
   ]
  },
  {
   "cell_type": "code",
   "execution_count": 50,
   "id": "65d1320d-f588-4b38-9072-62af1ae97f7d",
   "metadata": {
    "execution": {
     "iopub.execute_input": "2025-07-30T21:25:10.372385Z",
     "iopub.status.busy": "2025-07-30T21:25:10.371927Z",
     "iopub.status.idle": "2025-07-30T21:25:10.379314Z",
     "shell.execute_reply": "2025-07-30T21:25:10.378298Z"
    },
    "papermill": {
     "duration": 0.034321,
     "end_time": "2025-07-30T21:25:10.382216",
     "exception": false,
     "start_time": "2025-07-30T21:25:10.347895",
     "status": "completed"
    },
    "tags": []
   },
   "outputs": [],
   "source": [
    "from fairness_multiverse.conformal import compute_nc_scores\n",
    "\n",
    "# Compute nonconformity scores on calibration set (1 - probability of true class)\n",
    "nc_scores = compute_nc_scores(probs_calib, y_calib)"
   ]
  },
  {
   "cell_type": "code",
   "execution_count": 51,
   "id": "df3b8ca3-53b7-43d5-9667-7c85da7aeda2",
   "metadata": {
    "execution": {
     "iopub.execute_input": "2025-07-30T21:25:10.431268Z",
     "iopub.status.busy": "2025-07-30T21:25:10.430837Z",
     "iopub.status.idle": "2025-07-30T21:25:10.437663Z",
     "shell.execute_reply": "2025-07-30T21:25:10.436533Z"
    },
    "papermill": {
     "duration": 0.033191,
     "end_time": "2025-07-30T21:25:10.439570",
     "exception": false,
     "start_time": "2025-07-30T21:25:10.406379",
     "status": "completed"
    },
    "tags": []
   },
   "outputs": [],
   "source": [
    "from fairness_multiverse.conformal import find_threshold\n",
    "\n",
    "# Find conformal threshold q_hat for the given alpha (split conformal method)\n",
    "q_hat = find_threshold(nc_scores, alpha)"
   ]
  },
  {
   "cell_type": "code",
   "execution_count": 52,
   "id": "4d29e6c1-0ef6-4aa4-b8fe-4fe79b0d033a",
   "metadata": {
    "execution": {
     "iopub.execute_input": "2025-07-30T21:25:10.490030Z",
     "iopub.status.busy": "2025-07-30T21:25:10.489652Z",
     "iopub.status.idle": "2025-07-30T21:25:10.496494Z",
     "shell.execute_reply": "2025-07-30T21:25:10.495500Z"
    },
    "papermill": {
     "duration": 0.035664,
     "end_time": "2025-07-30T21:25:10.500374",
     "exception": false,
     "start_time": "2025-07-30T21:25:10.464710",
     "status": "completed"
    },
    "tags": []
   },
   "outputs": [
    {
     "data": {
      "text/plain": [
       "0.6699999999999999"
      ]
     },
     "execution_count": 52,
     "metadata": {},
     "output_type": "execute_result"
    }
   ],
   "source": [
    "q_hat"
   ]
  },
  {
   "cell_type": "code",
   "execution_count": 53,
   "id": "92460794-cdac-4be2-ba28-f28c0515a6fb",
   "metadata": {
    "execution": {
     "iopub.execute_input": "2025-07-30T21:25:10.552398Z",
     "iopub.status.busy": "2025-07-30T21:25:10.551936Z",
     "iopub.status.idle": "2025-07-30T21:25:12.252459Z",
     "shell.execute_reply": "2025-07-30T21:25:12.251474Z"
    },
    "papermill": {
     "duration": 1.728151,
     "end_time": "2025-07-30T21:25:12.254310",
     "exception": false,
     "start_time": "2025-07-30T21:25:10.526159",
     "status": "completed"
    },
    "tags": []
   },
   "outputs": [],
   "source": [
    "from fairness_multiverse.conformal import predict_conformal_sets\n",
    "\n",
    "# Generate prediction sets for each test example\n",
    "pred_sets = predict_conformal_sets(model, X_test, q_hat)"
   ]
  },
  {
   "cell_type": "code",
   "execution_count": 54,
   "id": "d90c9a65-e6db-4f5d-80cd-e68fb7e46829",
   "metadata": {
    "execution": {
     "iopub.execute_input": "2025-07-30T21:25:12.336765Z",
     "iopub.status.busy": "2025-07-30T21:25:12.336359Z",
     "iopub.status.idle": "2025-07-30T21:25:12.343702Z",
     "shell.execute_reply": "2025-07-30T21:25:12.342636Z"
    },
    "papermill": {
     "duration": 0.048454,
     "end_time": "2025-07-30T21:25:12.345781",
     "exception": false,
     "start_time": "2025-07-30T21:25:12.297327",
     "status": "completed"
    },
    "tags": []
   },
   "outputs": [],
   "source": [
    "y_true = y_true.squeeze()"
   ]
  },
  {
   "cell_type": "code",
   "execution_count": 55,
   "id": "3a58a54a-1e68-46b9-927a-df01f18aebc8",
   "metadata": {
    "execution": {
     "iopub.execute_input": "2025-07-30T21:25:12.396477Z",
     "iopub.status.busy": "2025-07-30T21:25:12.395990Z",
     "iopub.status.idle": "2025-07-30T21:25:13.292159Z",
     "shell.execute_reply": "2025-07-30T21:25:13.291187Z"
    },
    "papermill": {
     "duration": 0.921788,
     "end_time": "2025-07-30T21:25:13.293702",
     "exception": false,
     "start_time": "2025-07-30T21:25:12.371914",
     "status": "completed"
    },
    "tags": []
   },
   "outputs": [],
   "source": [
    "from fairness_multiverse.conformal import evaluate_sets\n",
    "\n",
    "# Evaluate coverage and average set size on test data\n",
    "metrics = evaluate_sets(pred_sets, y_true)"
   ]
  },
  {
   "cell_type": "markdown",
   "id": "2b569c12-9aaa-4c88-98c9-bbcd0cf3ebb8",
   "metadata": {
    "papermill": {
     "duration": 0.013141,
     "end_time": "2025-07-30T21:25:13.332474",
     "exception": false,
     "start_time": "2025-07-30T21:25:13.319333",
     "status": "completed"
    },
    "tags": []
   },
   "source": [
    "# CP Metrics"
   ]
  },
  {
   "cell_type": "code",
   "execution_count": 56,
   "id": "5ce0a5cb-201f-45a0-ade5-94c7f0bd6095",
   "metadata": {
    "execution": {
     "iopub.execute_input": "2025-07-30T21:25:13.359711Z",
     "iopub.status.busy": "2025-07-30T21:25:13.359346Z",
     "iopub.status.idle": "2025-07-30T21:25:13.365967Z",
     "shell.execute_reply": "2025-07-30T21:25:13.365090Z"
    },
    "papermill": {
     "duration": 0.022103,
     "end_time": "2025-07-30T21:25:13.367293",
     "exception": false,
     "start_time": "2025-07-30T21:25:13.345190",
     "status": "completed"
    },
    "tags": []
   },
   "outputs": [
    {
     "data": {
      "text/plain": [
       "{'coverage': 0.9135882287370416, 'avg_size': 1.1469624345112028}"
      ]
     },
     "execution_count": 56,
     "metadata": {},
     "output_type": "execute_result"
    }
   ],
   "source": [
    "metrics"
   ]
  },
  {
   "cell_type": "code",
   "execution_count": 57,
   "id": "9b9a838d-31c9-430b-ae14-12baee460d17",
   "metadata": {
    "execution": {
     "iopub.execute_input": "2025-07-30T21:25:13.394738Z",
     "iopub.status.busy": "2025-07-30T21:25:13.394259Z",
     "iopub.status.idle": "2025-07-30T21:25:13.399140Z",
     "shell.execute_reply": "2025-07-30T21:25:13.398435Z"
    },
    "papermill": {
     "duration": 0.019072,
     "end_time": "2025-07-30T21:25:13.400431",
     "exception": false,
     "start_time": "2025-07-30T21:25:13.381359",
     "status": "completed"
    },
    "tags": []
   },
   "outputs": [],
   "source": [
    "example_universe = universe.copy()\n",
    "universe_training_year = example_universe.get(\"training_year\")\n",
    "universe_training_size = example_universe.get(\"training_size\")\n",
    "universe_scale = example_universe.get(\"scale\")\n",
    "universe_model = example_universe.get(\"model\")\n",
    "universe_exclude_features = example_universe.get(\"exclude_features\")\n",
    "universe_exclude_subgroups = example_universe.get(\"exclude_subgroups\")"
   ]
  },
  {
   "cell_type": "code",
   "execution_count": 58,
   "id": "f4b6a8ac-9dc0-4245-8a91-5b3b5999c4f9",
   "metadata": {
    "execution": {
     "iopub.execute_input": "2025-07-30T21:25:13.431548Z",
     "iopub.status.busy": "2025-07-30T21:25:13.431063Z",
     "iopub.status.idle": "2025-07-30T21:25:13.436295Z",
     "shell.execute_reply": "2025-07-30T21:25:13.435443Z"
    },
    "papermill": {
     "duration": 0.019936,
     "end_time": "2025-07-30T21:25:13.437762",
     "exception": false,
     "start_time": "2025-07-30T21:25:13.417826",
     "status": "completed"
    },
    "tags": []
   },
   "outputs": [],
   "source": [
    "cp_metrics_dict = {\n",
    "    \"universe_id\": [universe_id],\n",
    "    \"universe_training_year\": [universe_training_year],\n",
    "    \"universe_training_size\": [universe_training_size],\n",
    "    \"universe_scale\": [universe_scale],\n",
    "    \"universe_model\": [universe_model],\n",
    "    \"universe_exclude_features\": [universe_exclude_features],\n",
    "    \"universe_exclude_subgroups\": [universe_exclude_subgroups],\n",
    "    \"q_hat\": [q_hat],\n",
    "    \"coverage\": [metrics[\"coverage\"]],\n",
    "    \"avg_size\": [metrics[\"avg_size\"]],\n",
    "}"
   ]
  },
  {
   "cell_type": "code",
   "execution_count": 59,
   "id": "908acbb1-0371-4915-85ca-3fa520d2efe2",
   "metadata": {
    "execution": {
     "iopub.execute_input": "2025-07-30T21:25:13.465148Z",
     "iopub.status.busy": "2025-07-30T21:25:13.464766Z",
     "iopub.status.idle": "2025-07-30T21:25:13.471737Z",
     "shell.execute_reply": "2025-07-30T21:25:13.470691Z"
    },
    "papermill": {
     "duration": 0.022112,
     "end_time": "2025-07-30T21:25:13.473603",
     "exception": false,
     "start_time": "2025-07-30T21:25:13.451491",
     "status": "completed"
    },
    "tags": []
   },
   "outputs": [
    {
     "data": {
      "text/plain": [
       "{'universe_id': ['2217812f2273c5741a0ef7309461d53b'],\n",
       " 'universe_training_year': ['2014'],\n",
       " 'universe_training_size': ['1k'],\n",
       " 'universe_scale': ['scale'],\n",
       " 'universe_model': ['rf'],\n",
       " 'universe_exclude_features': ['nationality-sex'],\n",
       " 'universe_exclude_subgroups': ['drop-non-german'],\n",
       " 'q_hat': [0.6699999999999999],\n",
       " 'coverage': [0.9135882287370416],\n",
       " 'avg_size': [1.1469624345112028]}"
      ]
     },
     "execution_count": 59,
     "metadata": {},
     "output_type": "execute_result"
    }
   ],
   "source": [
    "cp_metrics_dict"
   ]
  },
  {
   "cell_type": "code",
   "execution_count": 60,
   "id": "33007efc-14e9-4ec6-97ac-56a455c82265",
   "metadata": {
    "execution": {
     "iopub.execute_input": "2025-07-30T21:25:13.528986Z",
     "iopub.status.busy": "2025-07-30T21:25:13.528481Z",
     "iopub.status.idle": "2025-07-30T21:25:13.535378Z",
     "shell.execute_reply": "2025-07-30T21:25:13.534427Z"
    },
    "papermill": {
     "duration": 0.035708,
     "end_time": "2025-07-30T21:25:13.536969",
     "exception": false,
     "start_time": "2025-07-30T21:25:13.501261",
     "status": "completed"
    },
    "tags": []
   },
   "outputs": [],
   "source": [
    "cp_metrics_df = pd.DataFrame(cp_metrics_dict)"
   ]
  },
  {
   "cell_type": "code",
   "execution_count": 61,
   "id": "db12611b-57b2-4910-b9d0-355adfd6e7bf",
   "metadata": {
    "execution": {
     "iopub.execute_input": "2025-07-30T21:25:13.593997Z",
     "iopub.status.busy": "2025-07-30T21:25:13.593483Z",
     "iopub.status.idle": "2025-07-30T21:25:13.614704Z",
     "shell.execute_reply": "2025-07-30T21:25:13.613565Z"
    },
    "papermill": {
     "duration": 0.05264,
     "end_time": "2025-07-30T21:25:13.616722",
     "exception": false,
     "start_time": "2025-07-30T21:25:13.564082",
     "status": "completed"
    },
    "tags": []
   },
   "outputs": [
    {
     "data": {
      "text/html": [
       "<div>\n",
       "<style scoped>\n",
       "    .dataframe tbody tr th:only-of-type {\n",
       "        vertical-align: middle;\n",
       "    }\n",
       "\n",
       "    .dataframe tbody tr th {\n",
       "        vertical-align: top;\n",
       "    }\n",
       "\n",
       "    .dataframe thead th {\n",
       "        text-align: right;\n",
       "    }\n",
       "</style>\n",
       "<table border=\"1\" class=\"dataframe\">\n",
       "  <thead>\n",
       "    <tr style=\"text-align: right;\">\n",
       "      <th></th>\n",
       "      <th>universe_id</th>\n",
       "      <th>universe_training_year</th>\n",
       "      <th>universe_training_size</th>\n",
       "      <th>universe_scale</th>\n",
       "      <th>universe_model</th>\n",
       "      <th>universe_exclude_features</th>\n",
       "      <th>universe_exclude_subgroups</th>\n",
       "      <th>q_hat</th>\n",
       "      <th>coverage</th>\n",
       "      <th>avg_size</th>\n",
       "    </tr>\n",
       "  </thead>\n",
       "  <tbody>\n",
       "    <tr>\n",
       "      <th>0</th>\n",
       "      <td>2217812f2273c5741a0ef7309461d53b</td>\n",
       "      <td>2014</td>\n",
       "      <td>1k</td>\n",
       "      <td>scale</td>\n",
       "      <td>rf</td>\n",
       "      <td>nationality-sex</td>\n",
       "      <td>drop-non-german</td>\n",
       "      <td>0.67</td>\n",
       "      <td>0.913588</td>\n",
       "      <td>1.146962</td>\n",
       "    </tr>\n",
       "  </tbody>\n",
       "</table>\n",
       "</div>"
      ],
      "text/plain": [
       "                        universe_id universe_training_year  \\\n",
       "0  2217812f2273c5741a0ef7309461d53b                   2014   \n",
       "\n",
       "  universe_training_size universe_scale universe_model  \\\n",
       "0                     1k          scale             rf   \n",
       "\n",
       "  universe_exclude_features universe_exclude_subgroups  q_hat  coverage  \\\n",
       "0           nationality-sex            drop-non-german   0.67  0.913588   \n",
       "\n",
       "   avg_size  \n",
       "0  1.146962  "
      ]
     },
     "execution_count": 61,
     "metadata": {},
     "output_type": "execute_result"
    }
   ],
   "source": [
    "cp_metrics_df"
   ]
  },
  {
   "cell_type": "code",
   "execution_count": 62,
   "id": "b7fbde55-a0a1-47e4-9af6-fe4a17fa8c61",
   "metadata": {
    "execution": {
     "iopub.execute_input": "2025-07-30T21:25:13.662611Z",
     "iopub.status.busy": "2025-07-30T21:25:13.661900Z",
     "iopub.status.idle": "2025-07-30T21:25:13.667603Z",
     "shell.execute_reply": "2025-07-30T21:25:13.666532Z"
    },
    "papermill": {
     "duration": 0.025473,
     "end_time": "2025-07-30T21:25:13.669310",
     "exception": false,
     "start_time": "2025-07-30T21:25:13.643837",
     "status": "completed"
    },
    "tags": []
   },
   "outputs": [],
   "source": [
    "# Conditional Coverage & looking at subgroups"
   ]
  },
  {
   "cell_type": "code",
   "execution_count": 63,
   "id": "027ae886-68dd-4141-96c7-805a5450e1ef",
   "metadata": {
    "execution": {
     "iopub.execute_input": "2025-07-30T21:25:13.721491Z",
     "iopub.status.busy": "2025-07-30T21:25:13.720830Z",
     "iopub.status.idle": "2025-07-30T21:25:13.989042Z",
     "shell.execute_reply": "2025-07-30T21:25:13.987766Z"
    },
    "papermill": {
     "duration": 0.295387,
     "end_time": "2025-07-30T21:25:13.991125",
     "exception": false,
     "start_time": "2025-07-30T21:25:13.695738",
     "status": "completed"
    },
    "tags": []
   },
   "outputs": [],
   "source": [
    "from fairness_multiverse.conformal import build_cp_groups\n",
    "\n",
    "cp_groups_df = build_cp_groups(pred_sets, y_true, X_test.index, org_test)\n",
    "#needs universe_id and setting"
   ]
  },
  {
   "cell_type": "code",
   "execution_count": 64,
   "id": "01d5802c-663a-4d1f-9d69-e036faaffbf7",
   "metadata": {
    "execution": {
     "iopub.execute_input": "2025-07-30T21:25:14.025694Z",
     "iopub.status.busy": "2025-07-30T21:25:14.025303Z",
     "iopub.status.idle": "2025-07-30T21:25:14.030233Z",
     "shell.execute_reply": "2025-07-30T21:25:14.029325Z"
    },
    "papermill": {
     "duration": 0.020919,
     "end_time": "2025-07-30T21:25:14.031979",
     "exception": false,
     "start_time": "2025-07-30T21:25:14.011060",
     "status": "completed"
    },
    "tags": []
   },
   "outputs": [],
   "source": [
    "#delete\n",
    "#cp_groups_df"
   ]
  },
  {
   "cell_type": "code",
   "execution_count": 65,
   "id": "fa424af1-d1eb-443d-b717-2d279ada8408",
   "metadata": {
    "execution": {
     "iopub.execute_input": "2025-07-30T21:25:14.083686Z",
     "iopub.status.busy": "2025-07-30T21:25:14.083174Z",
     "iopub.status.idle": "2025-07-30T21:25:14.087420Z",
     "shell.execute_reply": "2025-07-30T21:25:14.086563Z"
    },
    "papermill": {
     "duration": 0.035957,
     "end_time": "2025-07-30T21:25:14.092729",
     "exception": false,
     "start_time": "2025-07-30T21:25:14.056772",
     "status": "completed"
    },
    "tags": []
   },
   "outputs": [],
   "source": [
    "#delete\n",
    "#percentage = (cp_groups_df['nongerman_female'] == 1).mean() * 100\n",
    "#print(percentage)\n"
   ]
  },
  {
   "cell_type": "code",
   "execution_count": 66,
   "id": "6cbdab96-b2b2-45af-ad54-d0516db2e28d",
   "metadata": {
    "execution": {
     "iopub.execute_input": "2025-07-30T21:25:14.121183Z",
     "iopub.status.busy": "2025-07-30T21:25:14.120669Z",
     "iopub.status.idle": "2025-07-30T21:25:15.781930Z",
     "shell.execute_reply": "2025-07-30T21:25:15.780878Z"
    },
    "papermill": {
     "duration": 1.677347,
     "end_time": "2025-07-30T21:25:15.783924",
     "exception": false,
     "start_time": "2025-07-30T21:25:14.106577",
     "status": "completed"
    },
    "tags": []
   },
   "outputs": [],
   "source": [
    "# Define covered = 1 if true_label is in the predicted set\n",
    "cp_groups_df['covered'] = cp_groups_df.apply(\n",
    "    lambda r: int(r['true_label'] in r['pred_set']),\n",
    "    axis=1\n",
    ")"
   ]
  },
  {
   "cell_type": "code",
   "execution_count": 67,
   "id": "338ff529-1a6b-4b87-a931-8e4788d52aad",
   "metadata": {
    "execution": {
     "iopub.execute_input": "2025-07-30T21:25:15.845457Z",
     "iopub.status.busy": "2025-07-30T21:25:15.844796Z",
     "iopub.status.idle": "2025-07-30T21:25:15.850419Z",
     "shell.execute_reply": "2025-07-30T21:25:15.849437Z"
    },
    "papermill": {
     "duration": 0.037919,
     "end_time": "2025-07-30T21:25:15.852221",
     "exception": false,
     "start_time": "2025-07-30T21:25:15.814302",
     "status": "completed"
    },
    "tags": []
   },
   "outputs": [],
   "source": [
    "#cp_groups_df"
   ]
  },
  {
   "cell_type": "code",
   "execution_count": 68,
   "id": "90032e27-66df-4540-9169-4e89cfbaa758",
   "metadata": {
    "execution": {
     "iopub.execute_input": "2025-07-30T21:25:15.918556Z",
     "iopub.status.busy": "2025-07-30T21:25:15.918058Z",
     "iopub.status.idle": "2025-07-30T21:25:15.929529Z",
     "shell.execute_reply": "2025-07-30T21:25:15.928523Z"
    },
    "papermill": {
     "duration": 0.049291,
     "end_time": "2025-07-30T21:25:15.931382",
     "exception": false,
     "start_time": "2025-07-30T21:25:15.882091",
     "status": "completed"
    },
    "tags": []
   },
   "outputs": [],
   "source": [
    "subgroups = ['frau1','nongerman','nongerman_male','nongerman_female']\n",
    "\n",
    "# Conditional coverage for subgroup==1\n",
    "cond_coverage = {\n",
    "    g: cp_groups_df.loc[cp_groups_df[g]==1, 'covered'].mean()\n",
    "    for g in subgroups\n",
    "}"
   ]
  },
  {
   "cell_type": "code",
   "execution_count": 69,
   "id": "1e348fb1-b9c3-45bc-ba23-f016827a7e0d",
   "metadata": {
    "execution": {
     "iopub.execute_input": "2025-07-30T21:25:15.992980Z",
     "iopub.status.busy": "2025-07-30T21:25:15.992447Z",
     "iopub.status.idle": "2025-07-30T21:25:16.000369Z",
     "shell.execute_reply": "2025-07-30T21:25:15.999150Z"
    },
    "papermill": {
     "duration": 0.040161,
     "end_time": "2025-07-30T21:25:16.002700",
     "exception": false,
     "start_time": "2025-07-30T21:25:15.962539",
     "status": "completed"
    },
    "tags": []
   },
   "outputs": [
    {
     "data": {
      "text/plain": [
       "{'frau1': 0.9093678393314463,\n",
       " 'nongerman': 0.9082131027900971,\n",
       " 'nongerman_male': 0.9264162838872377,\n",
       " 'nongerman_female': 0.8780923994038748}"
      ]
     },
     "execution_count": 69,
     "metadata": {},
     "output_type": "execute_result"
    }
   ],
   "source": [
    "cond_coverage"
   ]
  },
  {
   "cell_type": "code",
   "execution_count": 70,
   "id": "f5093324-c3dd-4d63-bc4c-8d945e5c8bbb",
   "metadata": {
    "execution": {
     "iopub.execute_input": "2025-07-30T21:25:16.065519Z",
     "iopub.status.busy": "2025-07-30T21:25:16.064997Z",
     "iopub.status.idle": "2025-07-30T21:25:16.072853Z",
     "shell.execute_reply": "2025-07-30T21:25:16.071805Z"
    },
    "papermill": {
     "duration": 0.041516,
     "end_time": "2025-07-30T21:25:16.074955",
     "exception": false,
     "start_time": "2025-07-30T21:25:16.033439",
     "status": "completed"
    },
    "tags": []
   },
   "outputs": [],
   "source": [
    "for subgroup, cov in cond_coverage.items():\n",
    "    cp_metrics_df[f\"cov_{subgroup}\"] = cov"
   ]
  },
  {
   "cell_type": "code",
   "execution_count": 71,
   "id": "6e872e10-dbe5-49e8-b554-5030c98ff75d",
   "metadata": {
    "execution": {
     "iopub.execute_input": "2025-07-30T21:25:16.131695Z",
     "iopub.status.busy": "2025-07-30T21:25:16.131119Z",
     "iopub.status.idle": "2025-07-30T21:25:16.153790Z",
     "shell.execute_reply": "2025-07-30T21:25:16.152841Z"
    },
    "papermill": {
     "duration": 0.052127,
     "end_time": "2025-07-30T21:25:16.155153",
     "exception": false,
     "start_time": "2025-07-30T21:25:16.103026",
     "status": "completed"
    },
    "tags": []
   },
   "outputs": [
    {
     "data": {
      "text/html": [
       "<div>\n",
       "<style scoped>\n",
       "    .dataframe tbody tr th:only-of-type {\n",
       "        vertical-align: middle;\n",
       "    }\n",
       "\n",
       "    .dataframe tbody tr th {\n",
       "        vertical-align: top;\n",
       "    }\n",
       "\n",
       "    .dataframe thead th {\n",
       "        text-align: right;\n",
       "    }\n",
       "</style>\n",
       "<table border=\"1\" class=\"dataframe\">\n",
       "  <thead>\n",
       "    <tr style=\"text-align: right;\">\n",
       "      <th></th>\n",
       "      <th>universe_id</th>\n",
       "      <th>universe_training_year</th>\n",
       "      <th>universe_training_size</th>\n",
       "      <th>universe_scale</th>\n",
       "      <th>universe_model</th>\n",
       "      <th>universe_exclude_features</th>\n",
       "      <th>universe_exclude_subgroups</th>\n",
       "      <th>q_hat</th>\n",
       "      <th>coverage</th>\n",
       "      <th>avg_size</th>\n",
       "      <th>cov_frau1</th>\n",
       "      <th>cov_nongerman</th>\n",
       "      <th>cov_nongerman_male</th>\n",
       "      <th>cov_nongerman_female</th>\n",
       "    </tr>\n",
       "  </thead>\n",
       "  <tbody>\n",
       "    <tr>\n",
       "      <th>0</th>\n",
       "      <td>2217812f2273c5741a0ef7309461d53b</td>\n",
       "      <td>2014</td>\n",
       "      <td>1k</td>\n",
       "      <td>scale</td>\n",
       "      <td>rf</td>\n",
       "      <td>nationality-sex</td>\n",
       "      <td>drop-non-german</td>\n",
       "      <td>0.67</td>\n",
       "      <td>0.913588</td>\n",
       "      <td>1.146962</td>\n",
       "      <td>0.909368</td>\n",
       "      <td>0.908213</td>\n",
       "      <td>0.926416</td>\n",
       "      <td>0.878092</td>\n",
       "    </tr>\n",
       "  </tbody>\n",
       "</table>\n",
       "</div>"
      ],
      "text/plain": [
       "                        universe_id universe_training_year  \\\n",
       "0  2217812f2273c5741a0ef7309461d53b                   2014   \n",
       "\n",
       "  universe_training_size universe_scale universe_model  \\\n",
       "0                     1k          scale             rf   \n",
       "\n",
       "  universe_exclude_features universe_exclude_subgroups  q_hat  coverage  \\\n",
       "0           nationality-sex            drop-non-german   0.67  0.913588   \n",
       "\n",
       "   avg_size  cov_frau1  cov_nongerman  cov_nongerman_male  \\\n",
       "0  1.146962   0.909368       0.908213            0.926416   \n",
       "\n",
       "   cov_nongerman_female  \n",
       "0              0.878092  "
      ]
     },
     "execution_count": 71,
     "metadata": {},
     "output_type": "execute_result"
    }
   ],
   "source": [
    "cp_metrics_df"
   ]
  },
  {
   "cell_type": "markdown",
   "id": "33774451",
   "metadata": {
    "papermill": {
     "duration": 0.02967,
     "end_time": "2025-07-30T21:25:16.202372",
     "exception": false,
     "start_time": "2025-07-30T21:25:16.172702",
     "status": "completed"
    },
    "tags": []
   },
   "source": [
    "# (Fairness) Metrics"
   ]
  },
  {
   "cell_type": "code",
   "execution_count": 72,
   "id": "debc5d62",
   "metadata": {
    "execution": {
     "iopub.execute_input": "2025-07-30T21:25:16.262368Z",
     "iopub.status.busy": "2025-07-30T21:25:16.261874Z",
     "iopub.status.idle": "2025-07-30T21:25:16.284253Z",
     "shell.execute_reply": "2025-07-30T21:25:16.282873Z"
    },
    "papermill": {
     "duration": 0.054548,
     "end_time": "2025-07-30T21:25:16.285993",
     "exception": false,
     "start_time": "2025-07-30T21:25:16.231445",
     "status": "completed"
    },
    "tags": []
   },
   "outputs": [],
   "source": [
    "# do I need to include maxdeutsch1.missing?\n",
    "\n",
    "import numpy as np\n",
    "\n",
    "colname_to_bin = \"maxdeutsch1\"\n",
    "majority_value = org_train[colname_to_bin].mode()[0]\n",
    "\n",
    "org_test[\"majmin\"] = np.where(org_test[colname_to_bin] == majority_value, \"majority\", \"minority\")"
   ]
  },
  {
   "cell_type": "code",
   "execution_count": 73,
   "id": "06a50de5",
   "metadata": {
    "execution": {
     "iopub.execute_input": "2025-07-30T21:25:16.341024Z",
     "iopub.status.busy": "2025-07-30T21:25:16.340513Z",
     "iopub.status.idle": "2025-07-30T21:25:18.630789Z",
     "shell.execute_reply": "2025-07-30T21:25:18.630008Z"
    },
    "papermill": {
     "duration": 2.321416,
     "end_time": "2025-07-30T21:25:18.632299",
     "exception": false,
     "start_time": "2025-07-30T21:25:16.310883",
     "status": "completed"
    },
    "tags": []
   },
   "outputs": [],
   "source": [
    "example_universe = universe.copy()\n",
    "example_universe[\"cutoff\"] = example_universe[\"cutoff\"][0]\n",
    "example_universe[\"eval_fairness_grouping\"] = example_universe[\"eval_fairness_grouping\"][0]\n",
    "fairness_dict, metric_frame = universe_analysis.compute_metrics(\n",
    "    example_universe,\n",
    "    y_pred_prob=probs_test,\n",
    "    y_test=y_true,\n",
    "    org_test=org_test,\n",
    ")"
   ]
  },
  {
   "cell_type": "markdown",
   "id": "f95d4e02",
   "metadata": {
    "papermill": {
     "duration": 0.013451,
     "end_time": "2025-07-30T21:25:18.660156",
     "exception": false,
     "start_time": "2025-07-30T21:25:18.646705",
     "status": "completed"
    },
    "tags": []
   },
   "source": [
    "# Overall"
   ]
  },
  {
   "cell_type": "markdown",
   "id": "bdee4871",
   "metadata": {
    "papermill": {
     "duration": 0.013756,
     "end_time": "2025-07-30T21:25:18.687237",
     "exception": false,
     "start_time": "2025-07-30T21:25:18.673481",
     "status": "completed"
    },
    "tags": []
   },
   "source": [
    "Fairness\n",
    "Main fairness target: Equalized Odds. Seems to be a better fit than equal opportunity, since we're not only interested in Y = 1. Seems to be a better fit than demographic parity, since we also care about accuracy, not just equal distribution of preds.\n",
    "\n",
    "Pick column for computation of fairness metrics\n",
    "\n",
    "Performance\n",
    "Overall performance measures, most interesting in relation to the measures split by group below"
   ]
  },
  {
   "cell_type": "code",
   "execution_count": 74,
   "id": "c4e067c6",
   "metadata": {
    "execution": {
     "iopub.execute_input": "2025-07-30T21:25:18.715509Z",
     "iopub.status.busy": "2025-07-30T21:25:18.715011Z",
     "iopub.status.idle": "2025-07-30T21:25:18.722640Z",
     "shell.execute_reply": "2025-07-30T21:25:18.721881Z"
    },
    "papermill": {
     "duration": 0.023041,
     "end_time": "2025-07-30T21:25:18.723903",
     "exception": false,
     "start_time": "2025-07-30T21:25:18.700862",
     "status": "completed"
    },
    "tags": []
   },
   "outputs": [
    {
     "data": {
      "text/plain": [
       "accuracy                   0.202397\n",
       "balanced accuracy          0.535879\n",
       "f1                         0.240503\n",
       "precision                  0.136984\n",
       "false positive rate        0.912688\n",
       "false negative rate        0.015554\n",
       "selection rate             0.921893\n",
       "count                  89710.000000\n",
       "dtype: float64"
      ]
     },
     "execution_count": 74,
     "metadata": {},
     "output_type": "execute_result"
    }
   ],
   "source": [
    "metric_frame.overall"
   ]
  },
  {
   "cell_type": "markdown",
   "id": "e968fe9d",
   "metadata": {
    "papermill": {
     "duration": 0.013454,
     "end_time": "2025-07-30T21:25:18.752151",
     "exception": false,
     "start_time": "2025-07-30T21:25:18.738697",
     "status": "completed"
    },
    "tags": []
   },
   "source": [
    "By Group"
   ]
  },
  {
   "cell_type": "code",
   "execution_count": 75,
   "id": "ec325bce",
   "metadata": {
    "execution": {
     "iopub.execute_input": "2025-07-30T21:25:18.780820Z",
     "iopub.status.busy": "2025-07-30T21:25:18.779949Z",
     "iopub.status.idle": "2025-07-30T21:25:18.791963Z",
     "shell.execute_reply": "2025-07-30T21:25:18.791204Z"
    },
    "papermill": {
     "duration": 0.028291,
     "end_time": "2025-07-30T21:25:18.793803",
     "exception": false,
     "start_time": "2025-07-30T21:25:18.765512",
     "status": "completed"
    },
    "tags": []
   },
   "outputs": [
    {
     "data": {
      "text/html": [
       "<div>\n",
       "<style scoped>\n",
       "    .dataframe tbody tr th:only-of-type {\n",
       "        vertical-align: middle;\n",
       "    }\n",
       "\n",
       "    .dataframe tbody tr th {\n",
       "        vertical-align: top;\n",
       "    }\n",
       "\n",
       "    .dataframe thead th {\n",
       "        text-align: right;\n",
       "    }\n",
       "</style>\n",
       "<table border=\"1\" class=\"dataframe\">\n",
       "  <thead>\n",
       "    <tr style=\"text-align: right;\">\n",
       "      <th></th>\n",
       "      <th>accuracy</th>\n",
       "      <th>balanced accuracy</th>\n",
       "      <th>f1</th>\n",
       "      <th>precision</th>\n",
       "      <th>false positive rate</th>\n",
       "      <th>false negative rate</th>\n",
       "      <th>selection rate</th>\n",
       "      <th>count</th>\n",
       "    </tr>\n",
       "    <tr>\n",
       "      <th>majmin</th>\n",
       "      <th></th>\n",
       "      <th></th>\n",
       "      <th></th>\n",
       "      <th></th>\n",
       "      <th></th>\n",
       "      <th></th>\n",
       "      <th></th>\n",
       "      <th></th>\n",
       "    </tr>\n",
       "  </thead>\n",
       "  <tbody>\n",
       "    <tr>\n",
       "      <th>majority</th>\n",
       "      <td>0.210568</td>\n",
       "      <td>0.539528</td>\n",
       "      <td>0.248290</td>\n",
       "      <td>0.142014</td>\n",
       "      <td>0.907596</td>\n",
       "      <td>0.013348</td>\n",
       "      <td>0.918043</td>\n",
       "      <td>69170.0</td>\n",
       "    </tr>\n",
       "    <tr>\n",
       "      <th>minority</th>\n",
       "      <td>0.174878</td>\n",
       "      <td>0.523211</td>\n",
       "      <td>0.214279</td>\n",
       "      <td>0.120352</td>\n",
       "      <td>0.929507</td>\n",
       "      <td>0.024071</td>\n",
       "      <td>0.934859</td>\n",
       "      <td>20540.0</td>\n",
       "    </tr>\n",
       "  </tbody>\n",
       "</table>\n",
       "</div>"
      ],
      "text/plain": [
       "          accuracy  balanced accuracy        f1  precision  \\\n",
       "majmin                                                       \n",
       "majority  0.210568           0.539528  0.248290   0.142014   \n",
       "minority  0.174878           0.523211  0.214279   0.120352   \n",
       "\n",
       "          false positive rate  false negative rate  selection rate    count  \n",
       "majmin                                                                       \n",
       "majority             0.907596             0.013348        0.918043  69170.0  \n",
       "minority             0.929507             0.024071        0.934859  20540.0  "
      ]
     },
     "execution_count": 75,
     "metadata": {},
     "output_type": "execute_result"
    }
   ],
   "source": [
    "metric_frame.by_group"
   ]
  },
  {
   "cell_type": "code",
   "execution_count": 76,
   "id": "a9ddbe63",
   "metadata": {
    "execution": {
     "iopub.execute_input": "2025-07-30T21:25:18.851744Z",
     "iopub.status.busy": "2025-07-30T21:25:18.850902Z",
     "iopub.status.idle": "2025-07-30T21:25:20.950028Z",
     "shell.execute_reply": "2025-07-30T21:25:20.949055Z"
    },
    "papermill": {
     "duration": 2.128945,
     "end_time": "2025-07-30T21:25:20.951628",
     "exception": false,
     "start_time": "2025-07-30T21:25:18.822683",
     "status": "completed"
    },
    "tags": []
   },
   "outputs": [
    {
     "data": {
      "text/plain": [
       "array([[<Axes: title={'center': 'accuracy'}, xlabel='majmin'>,\n",
       "        <Axes: title={'center': 'balanced accuracy'}, xlabel='majmin'>,\n",
       "        <Axes: title={'center': 'f1'}, xlabel='majmin'>],\n",
       "       [<Axes: title={'center': 'precision'}, xlabel='majmin'>,\n",
       "        <Axes: title={'center': 'false positive rate'}, xlabel='majmin'>,\n",
       "        <Axes: title={'center': 'false negative rate'}, xlabel='majmin'>],\n",
       "       [<Axes: title={'center': 'selection rate'}, xlabel='majmin'>,\n",
       "        <Axes: title={'center': 'count'}, xlabel='majmin'>,\n",
       "        <Axes: xlabel='majmin'>]], dtype=object)"
      ]
     },
     "execution_count": 76,
     "metadata": {},
     "output_type": "execute_result"
    },
    {
     "data": {
      "image/png": "[encoded data removed]",
      "text/plain": [
       "<Figure size 1200x800 with 9 Axes>"
      ]
     },
     "metadata": {},
     "output_type": "display_data"
    }
   ],
   "source": [
    "# In a graphic\n",
    "metric_frame.by_group.plot.bar(\n",
    "    subplots=True,\n",
    "    layout=[3, 3],\n",
    "    legend=False,\n",
    "    figsize=[12, 8],\n",
    "    title=\"Show all metrics\",\n",
    ")"
   ]
  },
  {
   "cell_type": "markdown",
   "id": "f57a0bac",
   "metadata": {
    "papermill": {
     "duration": 0.029786,
     "end_time": "2025-07-30T21:25:21.014568",
     "exception": false,
     "start_time": "2025-07-30T21:25:20.984782",
     "status": "completed"
    },
    "tags": []
   },
   "source": [
    "# Final Output"
   ]
  },
  {
   "cell_type": "code",
   "execution_count": 77,
   "id": "96d280a3",
   "metadata": {
    "execution": {
     "iopub.execute_input": "2025-07-30T21:25:21.076155Z",
     "iopub.status.busy": "2025-07-30T21:25:21.075473Z",
     "iopub.status.idle": "2025-07-30T21:25:21.083836Z",
     "shell.execute_reply": "2025-07-30T21:25:21.082780Z"
    },
    "papermill": {
     "duration": 0.041124,
     "end_time": "2025-07-30T21:25:21.085462",
     "exception": false,
     "start_time": "2025-07-30T21:25:21.044338",
     "status": "completed"
    },
    "tags": []
   },
   "outputs": [
    {
     "data": {
      "text/plain": [
       "4"
      ]
     },
     "execution_count": 77,
     "metadata": {},
     "output_type": "execute_result"
    }
   ],
   "source": [
    "sub_universes = universe_analysis.generate_sub_universes()\n",
    "len(sub_universes)"
   ]
  },
  {
   "cell_type": "code",
   "execution_count": 78,
   "id": "92adf7ba",
   "metadata": {
    "execution": {
     "iopub.execute_input": "2025-07-30T21:25:21.150040Z",
     "iopub.status.busy": "2025-07-30T21:25:21.149106Z",
     "iopub.status.idle": "2025-07-30T21:25:21.155668Z",
     "shell.execute_reply": "2025-07-30T21:25:21.154634Z"
    },
    "papermill": {
     "duration": 0.040593,
     "end_time": "2025-07-30T21:25:21.157378",
     "exception": false,
     "start_time": "2025-07-30T21:25:21.116785",
     "status": "completed"
    },
    "tags": []
   },
   "outputs": [],
   "source": [
    "def filter_sub_universe_data(sub_universe, org_test):\n",
    "    # Keep all rows — no filtering\n",
    "    keep_rows_mask = np.ones(org_test.shape[0], dtype=bool)\n",
    "\n",
    "    print(f\"[INFO] Keeping all rows: {keep_rows_mask.sum()} rows retained.\")\n",
    "    return keep_rows_mask"
   ]
  },
  {
   "cell_type": "code",
   "execution_count": 79,
   "id": "4a759155",
   "metadata": {
    "execution": {
     "iopub.execute_input": "2025-07-30T21:25:21.223964Z",
     "iopub.status.busy": "2025-07-30T21:25:21.223121Z",
     "iopub.status.idle": "2025-07-30T21:25:31.255889Z",
     "shell.execute_reply": "2025-07-30T21:25:31.254676Z"
    },
    "papermill": {
     "duration": 10.068264,
     "end_time": "2025-07-30T21:25:31.257847",
     "exception": false,
     "start_time": "2025-07-30T21:25:21.189583",
     "status": "completed"
    },
    "tags": []
   },
   "outputs": [
    {
     "name": "stdout",
     "output_type": "stream",
     "text": [
      "Stopping execution_time clock.\n",
      "[INFO] Keeping all rows: 89710 rows retained.\n"
     ]
    },
    {
     "name": "stdout",
     "output_type": "stream",
     "text": [
      "[INFO] Keeping all rows: 89710 rows retained.\n"
     ]
    },
    {
     "name": "stdout",
     "output_type": "stream",
     "text": [
      "[INFO] Keeping all rows: 89710 rows retained.\n"
     ]
    },
    {
     "name": "stdout",
     "output_type": "stream",
     "text": [
      "[INFO] Keeping all rows: 89710 rows retained.\n"
     ]
    },
    {
     "data": {
      "text/html": [
       "<div>\n",
       "<style scoped>\n",
       "    .dataframe tbody tr th:only-of-type {\n",
       "        vertical-align: middle;\n",
       "    }\n",
       "\n",
       "    .dataframe tbody tr th {\n",
       "        vertical-align: top;\n",
       "    }\n",
       "\n",
       "    .dataframe thead th {\n",
       "        text-align: right;\n",
       "    }\n",
       "</style>\n",
       "<table border=\"1\" class=\"dataframe\">\n",
       "  <thead>\n",
       "    <tr style=\"text-align: right;\">\n",
       "      <th></th>\n",
       "      <th>run_no</th>\n",
       "      <th>universe_id</th>\n",
       "      <th>universe_settings</th>\n",
       "      <th>execution_time</th>\n",
       "      <th>test_size_n</th>\n",
       "      <th>test_size_frac</th>\n",
       "      <th>fair_main_equalized_odds_difference</th>\n",
       "      <th>fair_main_equalized_odds_ratio</th>\n",
       "      <th>fair_main_demographic_parity_difference</th>\n",
       "      <th>fair_main_demographic_parity_ratio</th>\n",
       "      <th>...</th>\n",
       "      <th>perf_grp_precision_0</th>\n",
       "      <th>perf_grp_precision_1</th>\n",
       "      <th>perf_grp_false positive rate_0</th>\n",
       "      <th>perf_grp_false positive rate_1</th>\n",
       "      <th>perf_grp_false negative rate_0</th>\n",
       "      <th>perf_grp_false negative rate_1</th>\n",
       "      <th>perf_grp_selection rate_0</th>\n",
       "      <th>perf_grp_selection rate_1</th>\n",
       "      <th>perf_grp_count_0</th>\n",
       "      <th>perf_grp_count_1</th>\n",
       "    </tr>\n",
       "  </thead>\n",
       "  <tbody>\n",
       "    <tr>\n",
       "      <th>0</th>\n",
       "      <td>14</td>\n",
       "      <td>2217812f2273c5741a0ef7309461d53b</td>\n",
       "      <td>{\"cutoff\": \"quantile_0.1\", \"eval_fairness_grou...</td>\n",
       "      <td>31.058471</td>\n",
       "      <td>89710</td>\n",
       "      <td>1.0</td>\n",
       "      <td>0.021911</td>\n",
       "      <td>0.976428</td>\n",
       "      <td>0.016816</td>\n",
       "      <td>0.982012</td>\n",
       "      <td>...</td>\n",
       "      <td>NaN</td>\n",
       "      <td>NaN</td>\n",
       "      <td>NaN</td>\n",
       "      <td>NaN</td>\n",
       "      <td>NaN</td>\n",
       "      <td>NaN</td>\n",
       "      <td>NaN</td>\n",
       "      <td>NaN</td>\n",
       "      <td>NaN</td>\n",
       "      <td>NaN</td>\n",
       "    </tr>\n",
       "    <tr>\n",
       "      <th>0</th>\n",
       "      <td>14</td>\n",
       "      <td>2217812f2273c5741a0ef7309461d53b</td>\n",
       "      <td>{\"cutoff\": \"quantile_0.1\", \"eval_fairness_grou...</td>\n",
       "      <td>31.058471</td>\n",
       "      <td>89710</td>\n",
       "      <td>1.0</td>\n",
       "      <td>0.021911</td>\n",
       "      <td>0.976428</td>\n",
       "      <td>0.016816</td>\n",
       "      <td>0.982012</td>\n",
       "      <td>...</td>\n",
       "      <td>0.120352</td>\n",
       "      <td>0.142014</td>\n",
       "      <td>0.929507</td>\n",
       "      <td>0.907596</td>\n",
       "      <td>0.024071</td>\n",
       "      <td>0.013348</td>\n",
       "      <td>0.934859</td>\n",
       "      <td>0.918043</td>\n",
       "      <td>20540.0</td>\n",
       "      <td>69170.0</td>\n",
       "    </tr>\n",
       "    <tr>\n",
       "      <th>0</th>\n",
       "      <td>14</td>\n",
       "      <td>2217812f2273c5741a0ef7309461d53b</td>\n",
       "      <td>{\"cutoff\": \"quantile_0.25\", \"eval_fairness_gro...</td>\n",
       "      <td>31.058471</td>\n",
       "      <td>89710</td>\n",
       "      <td>1.0</td>\n",
       "      <td>0.043052</td>\n",
       "      <td>0.948420</td>\n",
       "      <td>0.026691</td>\n",
       "      <td>0.966047</td>\n",
       "      <td>...</td>\n",
       "      <td>NaN</td>\n",
       "      <td>NaN</td>\n",
       "      <td>NaN</td>\n",
       "      <td>NaN</td>\n",
       "      <td>NaN</td>\n",
       "      <td>NaN</td>\n",
       "      <td>NaN</td>\n",
       "      <td>NaN</td>\n",
       "      <td>NaN</td>\n",
       "      <td>NaN</td>\n",
       "    </tr>\n",
       "    <tr>\n",
       "      <th>0</th>\n",
       "      <td>14</td>\n",
       "      <td>2217812f2273c5741a0ef7309461d53b</td>\n",
       "      <td>{\"cutoff\": \"quantile_0.25\", \"eval_fairness_gro...</td>\n",
       "      <td>31.058471</td>\n",
       "      <td>89710</td>\n",
       "      <td>1.0</td>\n",
       "      <td>0.043052</td>\n",
       "      <td>0.948420</td>\n",
       "      <td>0.026691</td>\n",
       "      <td>0.966047</td>\n",
       "      <td>...</td>\n",
       "      <td>0.131851</td>\n",
       "      <td>0.163925</td>\n",
       "      <td>0.771407</td>\n",
       "      <td>0.731618</td>\n",
       "      <td>0.100929</td>\n",
       "      <td>0.057877</td>\n",
       "      <td>0.786125</td>\n",
       "      <td>0.759433</td>\n",
       "      <td>20540.0</td>\n",
       "      <td>69170.0</td>\n",
       "    </tr>\n",
       "  </tbody>\n",
       "</table>\n",
       "<p>4 rows × 50 columns</p>\n",
       "</div>"
      ],
      "text/plain": [
       "  run_no                       universe_id  \\\n",
       "0     14  2217812f2273c5741a0ef7309461d53b   \n",
       "0     14  2217812f2273c5741a0ef7309461d53b   \n",
       "0     14  2217812f2273c5741a0ef7309461d53b   \n",
       "0     14  2217812f2273c5741a0ef7309461d53b   \n",
       "\n",
       "                                   universe_settings  execution_time  \\\n",
       "0  {\"cutoff\": \"quantile_0.1\", \"eval_fairness_grou...       31.058471   \n",
       "0  {\"cutoff\": \"quantile_0.1\", \"eval_fairness_grou...       31.058471   \n",
       "0  {\"cutoff\": \"quantile_0.25\", \"eval_fairness_gro...       31.058471   \n",
       "0  {\"cutoff\": \"quantile_0.25\", \"eval_fairness_gro...       31.058471   \n",
       "\n",
       "   test_size_n  test_size_frac  fair_main_equalized_odds_difference  \\\n",
       "0        89710             1.0                             0.021911   \n",
       "0        89710             1.0                             0.021911   \n",
       "0        89710             1.0                             0.043052   \n",
       "0        89710             1.0                             0.043052   \n",
       "\n",
       "   fair_main_equalized_odds_ratio  fair_main_demographic_parity_difference  \\\n",
       "0                        0.976428                                 0.016816   \n",
       "0                        0.976428                                 0.016816   \n",
       "0                        0.948420                                 0.026691   \n",
       "0                        0.948420                                 0.026691   \n",
       "\n",
       "   fair_main_demographic_parity_ratio  ...  perf_grp_precision_0  \\\n",
       "0                            0.982012  ...                   NaN   \n",
       "0                            0.982012  ...              0.120352   \n",
       "0                            0.966047  ...                   NaN   \n",
       "0                            0.966047  ...              0.131851   \n",
       "\n",
       "   perf_grp_precision_1  perf_grp_false positive rate_0  \\\n",
       "0                   NaN                             NaN   \n",
       "0              0.142014                        0.929507   \n",
       "0                   NaN                             NaN   \n",
       "0              0.163925                        0.771407   \n",
       "\n",
       "   perf_grp_false positive rate_1  perf_grp_false negative rate_0  \\\n",
       "0                             NaN                             NaN   \n",
       "0                        0.907596                        0.024071   \n",
       "0                             NaN                             NaN   \n",
       "0                        0.731618                        0.100929   \n",
       "\n",
       "   perf_grp_false negative rate_1  perf_grp_selection rate_0  \\\n",
       "0                             NaN                        NaN   \n",
       "0                        0.013348                   0.934859   \n",
       "0                             NaN                        NaN   \n",
       "0                        0.057877                   0.786125   \n",
       "\n",
       "   perf_grp_selection rate_1  perf_grp_count_0  perf_grp_count_1  \n",
       "0                        NaN               NaN               NaN  \n",
       "0                   0.918043           20540.0           69170.0  \n",
       "0                        NaN               NaN               NaN  \n",
       "0                   0.759433           20540.0           69170.0  \n",
       "\n",
       "[4 rows x 50 columns]"
      ]
     },
     "execution_count": 79,
     "metadata": {},
     "output_type": "execute_result"
    }
   ],
   "source": [
    "final_output = universe_analysis.generate_final_output(\n",
    "    y_pred_prob=probs_test,\n",
    "    y_test=y_true,\n",
    "    org_test=org_test,\n",
    "    filter_data=filter_sub_universe_data,\n",
    "    cp_metrics_df=cp_metrics_df,\n",
    "    save=True,\n",
    ")\n",
    "final_output"
   ]
  },
  {
   "cell_type": "code",
   "execution_count": null,
   "id": "721ff514-cb11-46f8-b6fc-50392f74b5cb",
   "metadata": {
    "papermill": {
     "duration": 0.03272,
     "end_time": "2025-07-30T21:25:31.327135",
     "exception": false,
     "start_time": "2025-07-30T21:25:31.294415",
     "status": "completed"
    },
    "tags": []
   },
   "outputs": [],
   "source": []
  }
 ],
 "metadata": {
  "celltoolbar": "Tags",
  "kernelspec": {
   "display_name": "Python (CMA Fairness)",
   "language": "python",
   "name": "cma_fair_env"
  },
  "language_info": {
   "codemirror_mode": {
    "name": "ipython",
    "version": 3
   },
   "file_extension": ".py",
   "mimetype": "text/x-python",
   "name": "python",
   "nbconvert_exporter": "python",
   "pygments_lexer": "ipython3",
   "version": "3.10.12"
  },
  "papermill": {
   "default_parameters": {},
   "duration": 46.655857,
   "end_time": "2025-07-30T21:25:32.283506",
   "environment_variables": {},
   "exception": null,
   "input_path": "universe_analysis.ipynb",
   "output_path": "output/runs/14/notebooks/m_14-2217812f2273c5741a0ef7309461d53b.ipynb",
   "parameters": {
    "output_dir": "output",
    "run_no": "14",
    "seed": "2023",
    "universe": "{\"cutoff\": [\"quantile_0.1\", \"quantile_0.25\"], \"eval_fairness_grouping\": [\"majority-minority\", \"nationality-all\"], \"exclude_features\": \"nationality-sex\", \"exclude_subgroups\": \"drop-non-german\", \"model\": \"rf\", \"scale\": \"scale\", \"training_size\": \"1k\", \"training_year\": \"2014\"}",
    "universe_id": "2217812f2273c5741a0ef7309461d53b"
   },
   "start_time": "2025-07-30T21:24:45.627649",
   "version": "2.6.0"
  }
 },
 "nbformat": 4,
 "nbformat_minor": 5
}