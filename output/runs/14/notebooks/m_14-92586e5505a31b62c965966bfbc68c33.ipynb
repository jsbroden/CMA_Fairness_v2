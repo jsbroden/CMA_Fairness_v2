{
 "cells": [
  {
   "cell_type": "code",
   "execution_count": 1,
   "id": "f159f837-637b-42ba-96b5-ec9a68c44524",
   "metadata": {
    "execution": {
     "iopub.execute_input": "2025-07-30T20:50:12.488950Z",
     "iopub.status.busy": "2025-07-30T20:50:12.488453Z",
     "iopub.status.idle": "2025-07-30T20:50:12.504120Z",
     "shell.execute_reply": "2025-07-30T20:50:12.503138Z"
    },
    "papermill": {
     "duration": 0.041706,
     "end_time": "2025-07-30T20:50:12.506104",
     "exception": false,
     "start_time": "2025-07-30T20:50:12.464398",
     "status": "completed"
    },
    "tags": []
   },
   "outputs": [
    {
     "name": "stdout",
     "output_type": "stream",
     "text": [
      "/dss/dsshome1/0C/ra93lal2/cma/CMA_Fairness_v2\n"
     ]
    },
    {
     "name": "stderr",
     "output_type": "stream",
     "text": [
      "/dss/dsshome1/0C/ra93lal2/.local/share/virtualenvs/CMA_Fairness_v2-3j10GkSs/lib/python3.10/site-packages/IPython/core/magics/osm.py:393: UserWarning: This is now an optional IPython functionality, using bookmarks requires you to install the `pickleshare` library.\n",
      "  bkms = self.shell.db.get('bookmarks', {})\n",
      "/dss/dsshome1/0C/ra93lal2/.local/share/virtualenvs/CMA_Fairness_v2-3j10GkSs/lib/python3.10/site-packages/IPython/core/magics/osm.py:417: UserWarning: This is now an optional IPython functionality, setting dhist requires you to install the `pickleshare` library.\n",
      "  self.shell.db['dhist'] = compress_dhist(dhist)[-100:]\n"
     ]
    }
   ],
   "source": [
    "%cd ~/cma/CMA_Fairness_v2"
   ]
  },
  {
   "cell_type": "markdown",
   "id": "de2603b9",
   "metadata": {
    "papermill": {
     "duration": 0.018406,
     "end_time": "2025-07-30T20:50:12.544230",
     "exception": false,
     "start_time": "2025-07-30T20:50:12.525824",
     "status": "completed"
    },
    "tags": []
   },
   "source": [
    "The following cell holds the definition of our parameters, these values can be overriden by rendering the with e.g. the following command:\n",
    "\n",
    "papermill -p alpha 0.2 -p ratio 0.3 universe_analysis.ipynb output/test_run.ipynb"
   ]
  },
  {
   "cell_type": "code",
   "execution_count": 2,
   "id": "a80968a0-40bb-4fa9-85ef-2d5eefb01975",
   "metadata": {
    "execution": {
     "iopub.execute_input": "2025-07-30T20:50:12.577994Z",
     "iopub.status.busy": "2025-07-30T20:50:12.577649Z",
     "iopub.status.idle": "2025-07-30T20:50:12.581803Z",
     "shell.execute_reply": "2025-07-30T20:50:12.581150Z"
    },
    "papermill": {
     "duration": 0.019176,
     "end_time": "2025-07-30T20:50:12.583133",
     "exception": false,
     "start_time": "2025-07-30T20:50:12.563957",
     "status": "completed"
    },
    "tags": []
   },
   "outputs": [
    {
     "name": "stdout",
     "output_type": "stream",
     "text": [
      "Current working directory: /dss/dsshome1/0C/ra93lal2/cma/CMA_Fairness_v2\n"
     ]
    }
   ],
   "source": [
    "import os\n",
    "print(\"Current working directory:\", os.getcwd())"
   ]
  },
  {
   "cell_type": "code",
   "execution_count": 3,
   "id": "2dce4c03",
   "metadata": {
    "execution": {
     "iopub.execute_input": "2025-07-30T20:50:12.625158Z",
     "iopub.status.busy": "2025-07-30T20:50:12.624708Z",
     "iopub.status.idle": "2025-07-30T20:50:12.630651Z",
     "shell.execute_reply": "2025-07-30T20:50:12.629761Z"
    },
    "papermill": {
     "duration": 0.029213,
     "end_time": "2025-07-30T20:50:12.632293",
     "exception": false,
     "start_time": "2025-07-30T20:50:12.603080",
     "status": "completed"
    },
    "tags": [
     "parameters"
    ]
   },
   "outputs": [],
   "source": [
    "run_no = 0\n",
    "universe_id = \"test\"\n",
    "universe = {\n",
    "    \"training_size\": \"25k\", # \"25k\", \"5k\", \"1k\"\n",
    "    \"training_year\": \"2014\", # \"2014\", \"2012_14\", \"2010_14\"\n",
    "    \"scale\": \"scale\", # \"scale\", \"do-not-scale\",\n",
    "    #\"stratify_split\": \"target\", # \"none\", \"target\", \"protected-attribute\", \"both\",\n",
    "    \"model\": \"elasticnet\", # \"logreg\", \"penalized_logreg\", \"rf\", \"gbm\", \"elasticnet\"\n",
    "    \"cutoff\": [\"quantile_0.15\", \"quantile_0.30\"],\n",
    "    \"exclude_features\": \"age\", # \"none\", \"nationality\", \"sex\", \"nationality-sex\", \"age\"\n",
    "    \"exclude_subgroups\": \"keep-all\", # \"keep-all\", \"drop-non-german\"\n",
    "    \"eval_fairness_grouping\": [\"majority-minority\", \"nationality-all\"]\n",
    "}\n",
    "\n",
    "output_dir=\"./output\"\n",
    "seed=0"
   ]
  },
  {
   "cell_type": "code",
   "execution_count": 4,
   "id": "ddcbf348",
   "metadata": {
    "execution": {
     "iopub.execute_input": "2025-07-30T20:50:12.673714Z",
     "iopub.status.busy": "2025-07-30T20:50:12.673020Z",
     "iopub.status.idle": "2025-07-30T20:50:12.679008Z",
     "shell.execute_reply": "2025-07-30T20:50:12.678132Z"
    },
    "papermill": {
     "duration": 0.02905,
     "end_time": "2025-07-30T20:50:12.680557",
     "exception": false,
     "start_time": "2025-07-30T20:50:12.651507",
     "status": "completed"
    },
    "tags": [
     "injected-parameters"
    ]
   },
   "outputs": [],
   "source": [
    "# Parameters\n",
    "universe_id = \"92586e5505a31b62c965966bfbc68c33\"\n",
    "run_no = \"14\"\n",
    "universe = \"{\\\"cutoff\\\": [\\\"quantile_0.1\\\", \\\"quantile_0.25\\\"], \\\"eval_fairness_grouping\\\": [\\\"majority-minority\\\", \\\"nationality-all\\\"], \\\"exclude_features\\\": \\\"none\\\", \\\"exclude_subgroups\\\": \\\"keep-all\\\", \\\"model\\\": \\\"logreg\\\", \\\"scale\\\": \\\"do-not-scale\\\", \\\"training_size\\\": \\\"5k\\\", \\\"training_year\\\": \\\"2014\\\"}\"\n",
    "output_dir = \"output\"\n",
    "seed = \"2023\"\n"
   ]
  },
  {
   "cell_type": "code",
   "execution_count": 5,
   "id": "1650acaf",
   "metadata": {
    "execution": {
     "iopub.execute_input": "2025-07-30T20:50:12.721347Z",
     "iopub.status.busy": "2025-07-30T20:50:12.720633Z",
     "iopub.status.idle": "2025-07-30T20:50:12.725940Z",
     "shell.execute_reply": "2025-07-30T20:50:12.725024Z"
    },
    "papermill": {
     "duration": 0.027695,
     "end_time": "2025-07-30T20:50:12.727366",
     "exception": false,
     "start_time": "2025-07-30T20:50:12.699671",
     "status": "completed"
    },
    "tags": []
   },
   "outputs": [],
   "source": [
    "import json\n",
    "# Parse universe into dict if it is passed as a string\n",
    "if isinstance(universe, str):\n",
    "    universe = json.loads(universe)"
   ]
  },
  {
   "cell_type": "code",
   "execution_count": 6,
   "id": "16620c48",
   "metadata": {
    "execution": {
     "iopub.execute_input": "2025-07-30T20:50:12.767968Z",
     "iopub.status.busy": "2025-07-30T20:50:12.767273Z",
     "iopub.status.idle": "2025-07-30T20:50:12.812747Z",
     "shell.execute_reply": "2025-07-30T20:50:12.811727Z"
    },
    "papermill": {
     "duration": 0.067674,
     "end_time": "2025-07-30T20:50:12.814694",
     "exception": false,
     "start_time": "2025-07-30T20:50:12.747020",
     "status": "completed"
    },
    "tags": []
   },
   "outputs": [],
   "source": [
    "# Auto-reload the custom package\n",
    "%load_ext autoreload\n",
    "%autoreload 1\n",
    "%aimport fairness_multiverse"
   ]
  },
  {
   "cell_type": "code",
   "execution_count": 7,
   "id": "01c5c9f3",
   "metadata": {
    "execution": {
     "iopub.execute_input": "2025-07-30T20:50:12.856505Z",
     "iopub.status.busy": "2025-07-30T20:50:12.855866Z",
     "iopub.status.idle": "2025-07-30T20:50:14.772670Z",
     "shell.execute_reply": "2025-07-30T20:50:14.771724Z"
    },
    "papermill": {
     "duration": 1.938658,
     "end_time": "2025-07-30T20:50:14.774276",
     "exception": false,
     "start_time": "2025-07-30T20:50:12.835618",
     "status": "completed"
    },
    "tags": []
   },
   "outputs": [],
   "source": [
    "from fairness_multiverse.universe import UniverseAnalysis\n",
    "\n",
    "universe_analysis = UniverseAnalysis(\n",
    "    run_no = run_no,\n",
    "    universe_id = universe_id,\n",
    "    universe = universe,\n",
    "    output_dir=output_dir,\n",
    ")"
   ]
  },
  {
   "cell_type": "code",
   "execution_count": 8,
   "id": "106241f5",
   "metadata": {
    "execution": {
     "iopub.execute_input": "2025-07-30T20:50:14.822865Z",
     "iopub.status.busy": "2025-07-30T20:50:14.822508Z",
     "iopub.status.idle": "2025-07-30T20:50:14.828216Z",
     "shell.execute_reply": "2025-07-30T20:50:14.827452Z"
    },
    "papermill": {
     "duration": 0.031844,
     "end_time": "2025-07-30T20:50:14.829556",
     "exception": false,
     "start_time": "2025-07-30T20:50:14.797712",
     "status": "completed"
    },
    "tags": []
   },
   "outputs": [
    {
     "name": "stdout",
     "output_type": "stream",
     "text": [
      "Using Seed: 2023\n"
     ]
    }
   ],
   "source": [
    "import numpy as np\n",
    "parsed_seed = int(seed)\n",
    "np.random.seed(parsed_seed)\n",
    "print(f\"Using Seed: {parsed_seed}\")"
   ]
  },
  {
   "cell_type": "markdown",
   "id": "e0ebdc57",
   "metadata": {
    "papermill": {
     "duration": 0.010361,
     "end_time": "2025-07-30T20:50:14.851268",
     "exception": false,
     "start_time": "2025-07-30T20:50:14.840907",
     "status": "completed"
    },
    "tags": []
   },
   "source": [
    "# Loading Data"
   ]
  },
  {
   "cell_type": "markdown",
   "id": "681925a3",
   "metadata": {
    "papermill": {
     "duration": 0.014721,
     "end_time": "2025-07-30T20:50:14.876684",
     "exception": false,
     "start_time": "2025-07-30T20:50:14.861963",
     "status": "completed"
    },
    "tags": []
   },
   "source": [
    "Load siab_train, siab_test, siab_calib and/or \n",
    "load siab_train_features, siab_train_labels"
   ]
  },
  {
   "cell_type": "code",
   "execution_count": 9,
   "id": "f0496b8a",
   "metadata": {
    "execution": {
     "iopub.execute_input": "2025-07-30T20:50:14.899850Z",
     "iopub.status.busy": "2025-07-30T20:50:14.899496Z",
     "iopub.status.idle": "2025-07-30T20:50:27.138316Z",
     "shell.execute_reply": "2025-07-30T20:50:27.137191Z"
    },
    "papermill": {
     "duration": 12.252005,
     "end_time": "2025-07-30T20:50:27.139835",
     "exception": false,
     "start_time": "2025-07-30T20:50:14.887830",
     "status": "completed"
    },
    "tags": []
   },
   "outputs": [
    {
     "name": "stdout",
     "output_type": "stream",
     "text": [
      "Loading SIAB data from cache: data/siab_cached.csv.gz\n"
     ]
    },
    {
     "name": "stdout",
     "output_type": "stream",
     "text": [
      "(643690, 164)\n"
     ]
    }
   ],
   "source": [
    "from pathlib import Path\n",
    "import pandas as pd\n",
    "\n",
    "# File paths\n",
    "raw_file = Path(\"data/raw/siab.csv\")\n",
    "cache_file = Path(\"data/siab_cached.csv.gz\")\n",
    "\n",
    "# Ensure cache directory exists\n",
    "cache_file.parent.mkdir(parents=True, exist_ok=True)\n",
    "\n",
    "# Load with simple caching\n",
    "if cache_file.exists():\n",
    "    print(f\"Loading SIAB data from cache: {cache_file}\")\n",
    "    siab = pd.read_csv(cache_file, compression='gzip')\n",
    "else:\n",
    "    print(f\"Cache not found. Reading raw SIAB data: {raw_file}\")\n",
    "    siab = pd.read_csv(raw_file)\n",
    "    siab.to_csv(cache_file, index=False, compression='gzip')\n",
    "    print(f\"Cached SIAB data to: {cache_file}\")\n",
    "\n",
    "# Now use `siab` DataFrame as needed\n",
    "print(siab.shape)"
   ]
  },
  {
   "cell_type": "code",
   "execution_count": 10,
   "id": "db0ca512-5f53-4dba-abdb-a2888bca41ba",
   "metadata": {
    "execution": {
     "iopub.execute_input": "2025-07-30T20:50:27.181870Z",
     "iopub.status.busy": "2025-07-30T20:50:27.181334Z",
     "iopub.status.idle": "2025-07-30T20:50:27.187331Z",
     "shell.execute_reply": "2025-07-30T20:50:27.186401Z"
    },
    "papermill": {
     "duration": 0.027464,
     "end_time": "2025-07-30T20:50:27.188934",
     "exception": false,
     "start_time": "2025-07-30T20:50:27.161470",
     "status": "completed"
    },
    "tags": []
   },
   "outputs": [],
   "source": [
    "#siab"
   ]
  },
  {
   "cell_type": "code",
   "execution_count": 11,
   "id": "a0edb063",
   "metadata": {
    "execution": {
     "iopub.execute_input": "2025-07-30T20:50:27.228884Z",
     "iopub.status.busy": "2025-07-30T20:50:27.227992Z",
     "iopub.status.idle": "2025-07-30T20:50:27.233072Z",
     "shell.execute_reply": "2025-07-30T20:50:27.232181Z"
    },
    "papermill": {
     "duration": 0.026446,
     "end_time": "2025-07-30T20:50:27.234744",
     "exception": false,
     "start_time": "2025-07-30T20:50:27.208298",
     "status": "completed"
    },
    "tags": []
   },
   "outputs": [],
   "source": [
    "#import pandas as pd\n",
    "#\n",
    "#X_train = pd.read_csv(\"./data/X_train.csv\")\n",
    "#y_train = pd.read_csv(\"./data/y_train.csv\")"
   ]
  },
  {
   "cell_type": "code",
   "execution_count": 12,
   "id": "63d08085",
   "metadata": {
    "execution": {
     "iopub.execute_input": "2025-07-30T20:50:27.274770Z",
     "iopub.status.busy": "2025-07-30T20:50:27.273986Z",
     "iopub.status.idle": "2025-07-30T20:50:27.279113Z",
     "shell.execute_reply": "2025-07-30T20:50:27.278143Z"
    },
    "papermill": {
     "duration": 0.026386,
     "end_time": "2025-07-30T20:50:27.280672",
     "exception": false,
     "start_time": "2025-07-30T20:50:27.254286",
     "status": "completed"
    },
    "tags": []
   },
   "outputs": [],
   "source": [
    "#X_test = pd.read_csv(\"./data/X_test.csv\")\n",
    "#y_true = pd.read_csv(\"./data/y_test.csv\")"
   ]
  },
  {
   "cell_type": "code",
   "execution_count": 13,
   "id": "98a8d0fa-1d3d-4ed8-bb2c-281470e24add",
   "metadata": {
    "execution": {
     "iopub.execute_input": "2025-07-30T20:50:27.320688Z",
     "iopub.status.busy": "2025-07-30T20:50:27.319823Z",
     "iopub.status.idle": "2025-07-30T20:50:27.325155Z",
     "shell.execute_reply": "2025-07-30T20:50:27.324296Z"
    },
    "papermill": {
     "duration": 0.026573,
     "end_time": "2025-07-30T20:50:27.326702",
     "exception": false,
     "start_time": "2025-07-30T20:50:27.300129",
     "status": "completed"
    },
    "tags": []
   },
   "outputs": [],
   "source": [
    "# Calibration data for conformal\n",
    "#X_calib = pd.read_csv(\"./data/X_calib.csv\")\n",
    "#y_calib = pd.read_csv(\"./data/y_calib.csv\")"
   ]
  },
  {
   "cell_type": "markdown",
   "id": "997051c5-15bd-4b69-9786-c3001a3ce484",
   "metadata": {
    "papermill": {
     "duration": 0.018427,
     "end_time": "2025-07-30T20:50:27.364483",
     "exception": false,
     "start_time": "2025-07-30T20:50:27.346056",
     "status": "completed"
    },
    "tags": []
   },
   "source": [
    "# Splitting Data and Setting Training Data Size"
   ]
  },
  {
   "cell_type": "code",
   "execution_count": 14,
   "id": "e993b61f-042d-41a6-8c81-f55681f86335",
   "metadata": {
    "execution": {
     "iopub.execute_input": "2025-07-30T20:50:27.403892Z",
     "iopub.status.busy": "2025-07-30T20:50:27.402991Z",
     "iopub.status.idle": "2025-07-30T20:50:27.415898Z",
     "shell.execute_reply": "2025-07-30T20:50:27.414987Z"
    },
    "papermill": {
     "duration": 0.034571,
     "end_time": "2025-07-30T20:50:27.417507",
     "exception": false,
     "start_time": "2025-07-30T20:50:27.382936",
     "status": "completed"
    },
    "tags": []
   },
   "outputs": [],
   "source": [
    "def sample_by_year_size(df,\n",
    "                        training_year: str,\n",
    "                        training_size: str,\n",
    "                        random_state: int = 42):\n",
    "    # --- parse training_year into a list of int years ---\n",
    "    if \"_\" in training_year:\n",
    "        start_str, end_str = training_year.split(\"_\", 1)\n",
    "        start = int(start_str)\n",
    "        end   = int(end_str) if len(end_str) == 4 else (int(end_str) + (start // 100)*100)\n",
    "        years = list(range(start, end + 1))\n",
    "    else:\n",
    "        years = [int(training_year)]\n",
    "\n",
    "    df = df[df[\"year\"].isin(years)].reset_index(drop=True)\n",
    "\n",
    "    # --- map training_size to total number of samples ---\n",
    "    total_map = {\"25k\": 25_000, \"5k\": 5_000, \"1k\": 1_000}\n",
    "    if training_size not in total_map:\n",
    "        return df  # e.g. \"all\"\n",
    "\n",
    "    total_samples = total_map[training_size]\n",
    "    n_years       = len(years)\n",
    "    base          = total_samples // n_years\n",
    "    remainder     = total_samples % n_years\n",
    "\n",
    "    # --- build a dict: year -> how many to sample ---\n",
    "    # give +1 to the first `remainder` years in ascending order\n",
    "    quotas = {\n",
    "        year: base + (1 if idx < remainder else 0)\n",
    "        for idx, year in enumerate(sorted(years))\n",
    "    }\n",
    "\n",
    "    # --- sample per‐year according to the quota dict ---\n",
    "    sampled = (\n",
    "        df\n",
    "        .groupby(\"year\", group_keys=False)\n",
    "        .apply(lambda grp: grp.sample(\n",
    "            n=min(len(grp), quotas[grp.name]),\n",
    "            random_state=random_state))\n",
    "        .reset_index(drop=True)\n",
    "    )\n",
    "\n",
    "    return sampled"
   ]
  },
  {
   "cell_type": "code",
   "execution_count": 15,
   "id": "c0ccd338-0e02-41f3-a09d-f56f9266e3fb",
   "metadata": {
    "execution": {
     "iopub.execute_input": "2025-07-30T20:50:27.457648Z",
     "iopub.status.busy": "2025-07-30T20:50:27.457008Z",
     "iopub.status.idle": "2025-07-30T20:50:27.463150Z",
     "shell.execute_reply": "2025-07-30T20:50:27.462275Z"
    },
    "papermill": {
     "duration": 0.027601,
     "end_time": "2025-07-30T20:50:27.464835",
     "exception": false,
     "start_time": "2025-07-30T20:50:27.437234",
     "status": "completed"
    },
    "tags": []
   },
   "outputs": [],
   "source": [
    "#universe[\"training_size\"]"
   ]
  },
  {
   "cell_type": "code",
   "execution_count": 16,
   "id": "ca707fd7-8047-4acd-bfa5-66248fbbf8e6",
   "metadata": {
    "execution": {
     "iopub.execute_input": "2025-07-30T20:50:27.504524Z",
     "iopub.status.busy": "2025-07-30T20:50:27.503880Z",
     "iopub.status.idle": "2025-07-30T20:50:27.509016Z",
     "shell.execute_reply": "2025-07-30T20:50:27.508057Z"
    },
    "papermill": {
     "duration": 0.026366,
     "end_time": "2025-07-30T20:50:27.510546",
     "exception": false,
     "start_time": "2025-07-30T20:50:27.484180",
     "status": "completed"
    },
    "tags": []
   },
   "outputs": [],
   "source": [
    "#universe[\"training_year\"]"
   ]
  },
  {
   "cell_type": "code",
   "execution_count": 17,
   "id": "aea9c6ef-6f46-42c8-85eb-5a62025c1508",
   "metadata": {
    "execution": {
     "iopub.execute_input": "2025-07-30T20:50:27.550613Z",
     "iopub.status.busy": "2025-07-30T20:50:27.549924Z",
     "iopub.status.idle": "2025-07-30T20:50:27.775704Z",
     "shell.execute_reply": "2025-07-30T20:50:27.774828Z"
    },
    "papermill": {
     "duration": 0.247579,
     "end_time": "2025-07-30T20:50:27.777524",
     "exception": false,
     "start_time": "2025-07-30T20:50:27.529945",
     "status": "completed"
    },
    "tags": []
   },
   "outputs": [],
   "source": [
    "siab_train = sample_by_year_size(siab,\n",
    "                               training_year=universe[\"training_year\"],\n",
    "                               training_size=universe[\"training_size\"])"
   ]
  },
  {
   "cell_type": "code",
   "execution_count": 18,
   "id": "8d3afb32-789d-442c-8d5d-9f5aa8dd2eed",
   "metadata": {
    "execution": {
     "iopub.execute_input": "2025-07-30T20:50:27.817767Z",
     "iopub.status.busy": "2025-07-30T20:50:27.817125Z",
     "iopub.status.idle": "2025-07-30T20:50:27.823063Z",
     "shell.execute_reply": "2025-07-30T20:50:27.822126Z"
    },
    "papermill": {
     "duration": 0.027524,
     "end_time": "2025-07-30T20:50:27.824696",
     "exception": false,
     "start_time": "2025-07-30T20:50:27.797172",
     "status": "completed"
    },
    "tags": []
   },
   "outputs": [],
   "source": [
    "#siab_train.shape"
   ]
  },
  {
   "cell_type": "code",
   "execution_count": 19,
   "id": "d582db68-1a4c-47fb-84fc-08518dc1975a",
   "metadata": {
    "execution": {
     "iopub.execute_input": "2025-07-30T20:50:27.865033Z",
     "iopub.status.busy": "2025-07-30T20:50:27.864396Z",
     "iopub.status.idle": "2025-07-30T20:50:27.869356Z",
     "shell.execute_reply": "2025-07-30T20:50:27.868507Z"
    },
    "papermill": {
     "duration": 0.026587,
     "end_time": "2025-07-30T20:50:27.870844",
     "exception": false,
     "start_time": "2025-07-30T20:50:27.844257",
     "status": "completed"
    },
    "tags": []
   },
   "outputs": [],
   "source": [
    "#display(siab_train.groupby(\"year\").size())"
   ]
  },
  {
   "cell_type": "code",
   "execution_count": 20,
   "id": "a561edb4-d032-42cb-8256-22eac1111c64",
   "metadata": {
    "execution": {
     "iopub.execute_input": "2025-07-30T20:50:27.912641Z",
     "iopub.status.busy": "2025-07-30T20:50:27.911629Z",
     "iopub.status.idle": "2025-07-30T20:50:28.160988Z",
     "shell.execute_reply": "2025-07-30T20:50:28.159937Z"
    },
    "papermill": {
     "duration": 0.272452,
     "end_time": "2025-07-30T20:50:28.162816",
     "exception": false,
     "start_time": "2025-07-30T20:50:27.890364",
     "status": "completed"
    },
    "tags": []
   },
   "outputs": [],
   "source": [
    "#siab_train = siab_s[siab_s.year < 2015]\n",
    "siab_calib = siab[siab.year == 2015]\n",
    "siab_test = siab[siab.year == 2016]"
   ]
  },
  {
   "cell_type": "code",
   "execution_count": 21,
   "id": "472de16f-c3db-4916-846b-1f0de9cf1746",
   "metadata": {
    "execution": {
     "iopub.execute_input": "2025-07-30T20:50:28.204560Z",
     "iopub.status.busy": "2025-07-30T20:50:28.203608Z",
     "iopub.status.idle": "2025-07-30T20:50:28.212527Z",
     "shell.execute_reply": "2025-07-30T20:50:28.211530Z"
    },
    "papermill": {
     "duration": 0.031974,
     "end_time": "2025-07-30T20:50:28.214559",
     "exception": false,
     "start_time": "2025-07-30T20:50:28.182585",
     "status": "completed"
    },
    "tags": []
   },
   "outputs": [],
   "source": [
    "X_train = siab_train.iloc[:,4:164]\n",
    "y_train = siab_train.iloc[:, [3]]"
   ]
  },
  {
   "cell_type": "code",
   "execution_count": 22,
   "id": "828c96af-f43a-4ed6-ba47-8ac73a47d56c",
   "metadata": {
    "execution": {
     "iopub.execute_input": "2025-07-30T20:50:28.270273Z",
     "iopub.status.busy": "2025-07-30T20:50:28.269582Z",
     "iopub.status.idle": "2025-07-30T20:50:28.374629Z",
     "shell.execute_reply": "2025-07-30T20:50:28.373463Z"
    },
    "papermill": {
     "duration": 0.135215,
     "end_time": "2025-07-30T20:50:28.376796",
     "exception": false,
     "start_time": "2025-07-30T20:50:28.241581",
     "status": "completed"
    },
    "tags": []
   },
   "outputs": [],
   "source": [
    "X_calib = siab_calib.iloc[:,4:164]\n",
    "y_calib = siab_calib.iloc[:, [3]]"
   ]
  },
  {
   "cell_type": "code",
   "execution_count": 23,
   "id": "c34be9c3-6bd6-476e-acd3-845840e303be",
   "metadata": {
    "execution": {
     "iopub.execute_input": "2025-07-30T20:50:28.419709Z",
     "iopub.status.busy": "2025-07-30T20:50:28.418992Z",
     "iopub.status.idle": "2025-07-30T20:50:28.485357Z",
     "shell.execute_reply": "2025-07-30T20:50:28.484335Z"
    },
    "papermill": {
     "duration": 0.089682,
     "end_time": "2025-07-30T20:50:28.487179",
     "exception": false,
     "start_time": "2025-07-30T20:50:28.397497",
     "status": "completed"
    },
    "tags": []
   },
   "outputs": [],
   "source": [
    "X_test = siab_test.iloc[:,4:164]\n",
    "y_true = siab_test.iloc[:, [3]]"
   ]
  },
  {
   "cell_type": "markdown",
   "id": "9901737e-04df-44f0-9100-f5ad144ed040",
   "metadata": {
    "papermill": {
     "duration": 0.0198,
     "end_time": "2025-07-30T20:50:28.527337",
     "exception": false,
     "start_time": "2025-07-30T20:50:28.507537",
     "status": "completed"
    },
    "tags": []
   },
   "source": [
    "# Splitting Data and Setting Training Data Size OLD VERSION"
   ]
  },
  {
   "cell_type": "code",
   "execution_count": 24,
   "id": "acbc8f7d-8fc8-4e86-8c59-5dcb0f58384b",
   "metadata": {
    "execution": {
     "iopub.execute_input": "2025-07-30T20:50:28.569423Z",
     "iopub.status.busy": "2025-07-30T20:50:28.568756Z",
     "iopub.status.idle": "2025-07-30T20:50:28.575757Z",
     "shell.execute_reply": "2025-07-30T20:50:28.574747Z"
    },
    "papermill": {
     "duration": 0.030358,
     "end_time": "2025-07-30T20:50:28.577483",
     "exception": false,
     "start_time": "2025-07-30T20:50:28.547125",
     "status": "completed"
    },
    "tags": []
   },
   "outputs": [],
   "source": [
    "#def sample_by_year(df, training_size, random_state=42):\n",
    "#    if training_size == \"2014\":\n",
    "#        return df[df[\"year\"] == 2014].reset_index(drop=True)\n",
    "#    \n",
    "#    size_map = {\n",
    "#        \"25k\": 5000,\n",
    "#        \"5k\": 1000,\n",
    "#        \"1k\": 200\n",
    "#    }\n",
    "#\n",
    "#    if training_size not in size_map:\n",
    "#        return df.reset_index(drop=True)  # use all data\n",
    "#\n",
    "#    n_per_year = size_map[training_size]\n",
    "#    grouped = df.groupby(\"year\")\n",
    "#    sampled = grouped.apply(lambda x: x.sample(n=min(n_per_year, len(x)), random_state=random_state))\n",
    "#    return sampled.reset_index(drop=True)"
   ]
  },
  {
   "cell_type": "code",
   "execution_count": 25,
   "id": "6d931f52-beaf-43ff-9e78-9d44a448d54e",
   "metadata": {
    "execution": {
     "iopub.execute_input": "2025-07-30T20:50:28.619895Z",
     "iopub.status.busy": "2025-07-30T20:50:28.619292Z",
     "iopub.status.idle": "2025-07-30T20:50:28.625318Z",
     "shell.execute_reply": "2025-07-30T20:50:28.624248Z"
    },
    "papermill": {
     "duration": 0.029072,
     "end_time": "2025-07-30T20:50:28.626977",
     "exception": false,
     "start_time": "2025-07-30T20:50:28.597905",
     "status": "completed"
    },
    "tags": []
   },
   "outputs": [],
   "source": [
    "#siab_s = sample_by_year(siab, universe[\"training_size\"])"
   ]
  },
  {
   "cell_type": "code",
   "execution_count": 26,
   "id": "5db0a40e-a4e2-4920-be85-b12ae061d70d",
   "metadata": {
    "execution": {
     "iopub.execute_input": "2025-07-30T20:50:28.669339Z",
     "iopub.status.busy": "2025-07-30T20:50:28.668779Z",
     "iopub.status.idle": "2025-07-30T20:50:28.674683Z",
     "shell.execute_reply": "2025-07-30T20:50:28.673719Z"
    },
    "papermill": {
     "duration": 0.029142,
     "end_time": "2025-07-30T20:50:28.676394",
     "exception": false,
     "start_time": "2025-07-30T20:50:28.647252",
     "status": "completed"
    },
    "tags": []
   },
   "outputs": [],
   "source": [
    "#display(siab_s.groupby(\"year\").size())"
   ]
  },
  {
   "cell_type": "code",
   "execution_count": 27,
   "id": "e6c733c5",
   "metadata": {
    "execution": {
     "iopub.execute_input": "2025-07-30T20:50:28.719395Z",
     "iopub.status.busy": "2025-07-30T20:50:28.718717Z",
     "iopub.status.idle": "2025-07-30T20:50:28.845474Z",
     "shell.execute_reply": "2025-07-30T20:50:28.844360Z"
    },
    "papermill": {
     "duration": 0.15026,
     "end_time": "2025-07-30T20:50:28.847420",
     "exception": false,
     "start_time": "2025-07-30T20:50:28.697160",
     "status": "completed"
    },
    "tags": []
   },
   "outputs": [],
   "source": [
    "# Auxiliary data needed downstream in the pipeline\n",
    "\n",
    "org_train = X_train.copy()\n",
    "org_test = X_test.copy()\n",
    "org_calib = X_calib.copy()"
   ]
  },
  {
   "cell_type": "code",
   "execution_count": 28,
   "id": "1466abac-c6da-4492-a62f-4240ae3783af",
   "metadata": {
    "execution": {
     "iopub.execute_input": "2025-07-30T20:50:28.890337Z",
     "iopub.status.busy": "2025-07-30T20:50:28.889387Z",
     "iopub.status.idle": "2025-07-30T20:50:28.896923Z",
     "shell.execute_reply": "2025-07-30T20:50:28.895648Z"
    },
    "papermill": {
     "duration": 0.031163,
     "end_time": "2025-07-30T20:50:28.898801",
     "exception": false,
     "start_time": "2025-07-30T20:50:28.867638",
     "status": "completed"
    },
    "tags": []
   },
   "outputs": [],
   "source": [
    "# put in other script?\n",
    "# Group sizes\n",
    "\n",
    "#def calculate_percentages(df, df_name):\n",
    "#    total_entries = len(df)\n",
    "#\n",
    "#    female_pct = (df['frau1'] == 1).mean() * 100\n",
    "#    non_german_pct = ((df['maxdeutsch1'] == 0) & (df['maxdeutsch.Missing.'] == 0)).mean() * 100\n",
    "#    non_german_male_pct = ((df['frau1'] == 0) & (df['maxdeutsch1'] == 0) & (df['maxdeutsch.Missing.'] == 0)).mean() * 100\n",
    "#    non_german_female_pct = ((df['frau1'] == 1) & (df['maxdeutsch1'] == 0) & (df['maxdeutsch.Missing.'] == 0)).mean() * 100\n",
    "#\n",
    "#    print(f\"--- {df_name} ---\")\n",
    "#    print(f\"Female: {female_pct:.2f}%\")\n",
    "#    print(f\"Non-German: {non_german_pct:.2f}%\")\n",
    "#    print(f\"Non-German Male: {non_german_male_pct:.2f}%\")\n",
    "#    print(f\"Non-German Female: {non_german_female_pct:.2f}%\\n\")\n",
    "#\n",
    "## Calculate for each DataFrame\n",
    "#calculate_percentages(siab_calib, \"siab_calib\")\n",
    "#calculate_percentages(siab_test, \"siab_test\")\n",
    "#calculate_percentages(siab_train, \"siab_train\")"
   ]
  },
  {
   "cell_type": "markdown",
   "id": "0a4a1b33",
   "metadata": {
    "papermill": {
     "duration": 0.020061,
     "end_time": "2025-07-30T20:50:28.939838",
     "exception": false,
     "start_time": "2025-07-30T20:50:28.919777",
     "status": "completed"
    },
    "tags": []
   },
   "source": [
    "# Preprocessing Data"
   ]
  },
  {
   "cell_type": "code",
   "execution_count": 29,
   "id": "ca879031",
   "metadata": {
    "execution": {
     "iopub.execute_input": "2025-07-30T20:50:28.982386Z",
     "iopub.status.busy": "2025-07-30T20:50:28.981589Z",
     "iopub.status.idle": "2025-07-30T20:50:28.989580Z",
     "shell.execute_reply": "2025-07-30T20:50:28.988497Z"
    },
    "papermill": {
     "duration": 0.031367,
     "end_time": "2025-07-30T20:50:28.991201",
     "exception": false,
     "start_time": "2025-07-30T20:50:28.959834",
     "status": "completed"
    },
    "tags": []
   },
   "outputs": [],
   "source": [
    "# EXCLUDE PROTECTED FEATURES\n",
    "# ----------------------\n",
    "# \"exclude_features\": \"none\", # \"nationality\", \"sex\", \"nationality-sex\"\n",
    "\n",
    "excluded_features = universe[\"exclude_features\"].split(\"-\") # split, e.g.: \"nationality-sex\" -> [\"nationality\", \"sex\"]\n",
    "excluded_features_dictionary = {\n",
    "    \"nationality\": [\"maxdeutsch1\", \"maxdeutsch.Missing.\"],\n",
    "    \"sex\": [\"frau1\"],\n",
    "    \"age\": [\"age\"],\n",
    "}\n"
   ]
  },
  {
   "cell_type": "code",
   "execution_count": 30,
   "id": "b745ac60",
   "metadata": {
    "execution": {
     "iopub.execute_input": "2025-07-30T20:50:29.034249Z",
     "iopub.status.busy": "2025-07-30T20:50:29.033551Z",
     "iopub.status.idle": "2025-07-30T20:50:29.041338Z",
     "shell.execute_reply": "2025-07-30T20:50:29.040318Z"
    },
    "papermill": {
     "duration": 0.031124,
     "end_time": "2025-07-30T20:50:29.042971",
     "exception": false,
     "start_time": "2025-07-30T20:50:29.011847",
     "status": "completed"
    },
    "tags": []
   },
   "outputs": [],
   "source": [
    "# Code nice names to column names\n",
    "\n",
    "excluded_features_columns = [\n",
    "    excluded_features_dictionary[f] for f in excluded_features if len(f) > 0 and f != \"none\"\n",
    "]"
   ]
  },
  {
   "cell_type": "code",
   "execution_count": 31,
   "id": "f84f73a2",
   "metadata": {
    "execution": {
     "iopub.execute_input": "2025-07-30T20:50:29.086958Z",
     "iopub.status.busy": "2025-07-30T20:50:29.085387Z",
     "iopub.status.idle": "2025-07-30T20:50:29.093374Z",
     "shell.execute_reply": "2025-07-30T20:50:29.092270Z"
    },
    "papermill": {
     "duration": 0.031446,
     "end_time": "2025-07-30T20:50:29.095144",
     "exception": false,
     "start_time": "2025-07-30T20:50:29.063698",
     "status": "completed"
    },
    "tags": []
   },
   "outputs": [],
   "source": [
    "from utils import flatten_once\n",
    "\n",
    "excluded_features_columns = flatten_once(excluded_features_columns)"
   ]
  },
  {
   "cell_type": "code",
   "execution_count": 32,
   "id": "884dea22",
   "metadata": {
    "execution": {
     "iopub.execute_input": "2025-07-30T20:50:29.138676Z",
     "iopub.status.busy": "2025-07-30T20:50:29.137976Z",
     "iopub.status.idle": "2025-07-30T20:50:29.145136Z",
     "shell.execute_reply": "2025-07-30T20:50:29.144059Z"
    },
    "papermill": {
     "duration": 0.030558,
     "end_time": "2025-07-30T20:50:29.146662",
     "exception": false,
     "start_time": "2025-07-30T20:50:29.116104",
     "status": "completed"
    },
    "tags": []
   },
   "outputs": [],
   "source": [
    "if len(excluded_features_columns) > 0:\n",
    "    print(f\"Dropping features: {excluded_features_columns}\")\n",
    "    X_train.drop(excluded_features_columns, axis=1, inplace=True)"
   ]
  },
  {
   "cell_type": "code",
   "execution_count": 33,
   "id": "95ab8b16",
   "metadata": {
    "execution": {
     "iopub.execute_input": "2025-07-30T20:50:29.190100Z",
     "iopub.status.busy": "2025-07-30T20:50:29.189395Z",
     "iopub.status.idle": "2025-07-30T20:50:29.197253Z",
     "shell.execute_reply": "2025-07-30T20:50:29.196160Z"
    },
    "papermill": {
     "duration": 0.031461,
     "end_time": "2025-07-30T20:50:29.198920",
     "exception": false,
     "start_time": "2025-07-30T20:50:29.167459",
     "status": "completed"
    },
    "tags": []
   },
   "outputs": [],
   "source": [
    "if len(excluded_features_columns) > 0:\n",
    "    print(f\"Dropping features: {excluded_features_columns}\")\n",
    "    X_test.drop(excluded_features_columns, axis=1, inplace=True)"
   ]
  },
  {
   "cell_type": "code",
   "execution_count": 34,
   "id": "1853aaf5-fb9f-46cb-a2b5-8ea4ae2237e4",
   "metadata": {
    "execution": {
     "iopub.execute_input": "2025-07-30T20:50:29.242502Z",
     "iopub.status.busy": "2025-07-30T20:50:29.241534Z",
     "iopub.status.idle": "2025-07-30T20:50:29.249382Z",
     "shell.execute_reply": "2025-07-30T20:50:29.248191Z"
    },
    "papermill": {
     "duration": 0.031331,
     "end_time": "2025-07-30T20:50:29.251062",
     "exception": false,
     "start_time": "2025-07-30T20:50:29.219731",
     "status": "completed"
    },
    "tags": []
   },
   "outputs": [],
   "source": [
    "if len(excluded_features_columns) > 0:\n",
    "    print(f\"Dropping features: {excluded_features_columns}\")\n",
    "    X_calib.drop(excluded_features_columns, axis=1, inplace=True)"
   ]
  },
  {
   "cell_type": "code",
   "execution_count": 35,
   "id": "6727d079-03e5-481e-9d38-292a90b7a0a8",
   "metadata": {
    "execution": {
     "iopub.execute_input": "2025-07-30T20:50:29.294947Z",
     "iopub.status.busy": "2025-07-30T20:50:29.294011Z",
     "iopub.status.idle": "2025-07-30T20:50:29.300150Z",
     "shell.execute_reply": "2025-07-30T20:50:29.299124Z"
    },
    "papermill": {
     "duration": 0.029601,
     "end_time": "2025-07-30T20:50:29.301915",
     "exception": false,
     "start_time": "2025-07-30T20:50:29.272314",
     "status": "completed"
    },
    "tags": []
   },
   "outputs": [],
   "source": [
    "# SPLIT & STRATIFY DATA\n",
    "# ----------------------"
   ]
  },
  {
   "cell_type": "code",
   "execution_count": 36,
   "id": "76c4dc6d",
   "metadata": {
    "execution": {
     "iopub.execute_input": "2025-07-30T20:50:29.345815Z",
     "iopub.status.busy": "2025-07-30T20:50:29.344875Z",
     "iopub.status.idle": "2025-07-30T20:50:29.351683Z",
     "shell.execute_reply": "2025-07-30T20:50:29.350700Z"
    },
    "papermill": {
     "duration": 0.03042,
     "end_time": "2025-07-30T20:50:29.353344",
     "exception": false,
     "start_time": "2025-07-30T20:50:29.322924",
     "status": "completed"
    },
    "tags": []
   },
   "outputs": [],
   "source": [
    "# EXCLUDE CERTAIN SUBGROUPS\n",
    "# ----------------------\n",
    "\n",
    "mode = universe.get(\"exclude_subgroups\", \"keep-all\") \n",
    "# Fetches the exclude_subgroups setting from the universe dict.\n",
    "# Defaults to \"keep-all\" if the key is missing."
   ]
  },
  {
   "cell_type": "code",
   "execution_count": 37,
   "id": "21994072",
   "metadata": {
    "execution": {
     "iopub.execute_input": "2025-07-30T20:50:29.397357Z",
     "iopub.status.busy": "2025-07-30T20:50:29.396670Z",
     "iopub.status.idle": "2025-07-30T20:50:29.405771Z",
     "shell.execute_reply": "2025-07-30T20:50:29.404699Z"
    },
    "papermill": {
     "duration": 0.03274,
     "end_time": "2025-07-30T20:50:29.407330",
     "exception": false,
     "start_time": "2025-07-30T20:50:29.374590",
     "status": "completed"
    },
    "tags": []
   },
   "outputs": [],
   "source": [
    "if mode == \"keep-all\":\n",
    "    keep_mask = pd.Series(True, index=org_train.index)\n",
    "\n",
    "# org_train contains the original feature columns from features_org (in Simson)\n",
    "# features_org contains unprocessed features, for me X_train at beginning ???\n",
    "# For keep-all, creates a boolean Series (keep_mask) of all True, so no rows are removed.\n",
    "\n",
    "elif mode == \"drop-non-german\":\n",
    "    keep_mask = org_train[\"maxdeutsch1\"] == 1 # ??? what about missing values?\n",
    "\n",
    "else:\n",
    "    raise ValueError(f\"Unsupported mode for exclude_subgroups: {mode}\")\n"
   ]
  },
  {
   "cell_type": "code",
   "execution_count": 38,
   "id": "71651440",
   "metadata": {
    "execution": {
     "iopub.execute_input": "2025-07-30T20:50:29.451579Z",
     "iopub.status.busy": "2025-07-30T20:50:29.450869Z",
     "iopub.status.idle": "2025-07-30T20:50:29.459214Z",
     "shell.execute_reply": "2025-07-30T20:50:29.458208Z"
    },
    "papermill": {
     "duration": 0.03185,
     "end_time": "2025-07-30T20:50:29.460783",
     "exception": false,
     "start_time": "2025-07-30T20:50:29.428933",
     "status": "completed"
    },
    "tags": []
   },
   "outputs": [],
   "source": [
    "n_drop = (~keep_mask).sum() # Calculates how many rows are set to be dropped\n",
    "if n_drop > 0:\n",
    "    pct = n_drop / len(keep_mask) * 100\n",
    "    print(f\"Dropping {n_drop} rows ({pct:.2f}%) where mode='{mode}'\")"
   ]
  },
  {
   "cell_type": "code",
   "execution_count": 39,
   "id": "5fb8eee5",
   "metadata": {
    "execution": {
     "iopub.execute_input": "2025-07-30T20:50:29.505040Z",
     "iopub.status.busy": "2025-07-30T20:50:29.504091Z",
     "iopub.status.idle": "2025-07-30T20:50:29.513066Z",
     "shell.execute_reply": "2025-07-30T20:50:29.511929Z"
    },
    "papermill": {
     "duration": 0.03337,
     "end_time": "2025-07-30T20:50:29.515469",
     "exception": false,
     "start_time": "2025-07-30T20:50:29.482099",
     "status": "completed"
    },
    "tags": []
   },
   "outputs": [],
   "source": [
    "X_train = X_train[keep_mask]"
   ]
  },
  {
   "cell_type": "code",
   "execution_count": 40,
   "id": "b202bb3a",
   "metadata": {
    "execution": {
     "iopub.execute_input": "2025-07-30T20:50:29.582056Z",
     "iopub.status.busy": "2025-07-30T20:50:29.581322Z",
     "iopub.status.idle": "2025-07-30T20:50:29.588646Z",
     "shell.execute_reply": "2025-07-30T20:50:29.587586Z"
    },
    "papermill": {
     "duration": 0.042879,
     "end_time": "2025-07-30T20:50:29.590765",
     "exception": false,
     "start_time": "2025-07-30T20:50:29.547886",
     "status": "completed"
    },
    "tags": []
   },
   "outputs": [],
   "source": [
    "y_train = y_train[keep_mask]"
   ]
  },
  {
   "cell_type": "markdown",
   "id": "493e2ac3",
   "metadata": {
    "papermill": {
     "duration": 0.031605,
     "end_time": "2025-07-30T20:50:29.654365",
     "exception": false,
     "start_time": "2025-07-30T20:50:29.622760",
     "status": "completed"
    },
    "tags": []
   },
   "source": [
    "# Model Training"
   ]
  },
  {
   "cell_type": "code",
   "execution_count": 41,
   "id": "679e1268",
   "metadata": {
    "execution": {
     "iopub.execute_input": "2025-07-30T20:50:29.719659Z",
     "iopub.status.busy": "2025-07-30T20:50:29.719161Z",
     "iopub.status.idle": "2025-07-30T20:50:29.839910Z",
     "shell.execute_reply": "2025-07-30T20:50:29.838884Z"
    },
    "papermill": {
     "duration": 0.155799,
     "end_time": "2025-07-30T20:50:29.842104",
     "exception": false,
     "start_time": "2025-07-30T20:50:29.686305",
     "status": "completed"
    },
    "tags": []
   },
   "outputs": [],
   "source": [
    "from sklearn.linear_model import LogisticRegression\n",
    "from sklearn.ensemble import GradientBoostingClassifier, RandomForestClassifier\n",
    "\n",
    "if (universe[\"model\"] == \"logreg\"):\n",
    "    model = LogisticRegression() #penalty=\"none\") #, solver=\"newton-cg\", max_iter=1) # include random_state=19 ?\n",
    "elif (universe[\"model\"] == \"penalized_logreg\"):\n",
    "    model = LogisticRegression(penalty=\"l2\", C=1.0) #, solver=\"newton-cg\", max_iter=1)\n",
    "elif (universe[\"model\"] == \"rf\"):\n",
    "    model = RandomForestClassifier(n_estimators=100, n_jobs=-1)\n",
    "elif (universe[\"model\"] == \"gbm\"):\n",
    "    model = GradientBoostingClassifier()\n",
    "elif (universe[\"model\"] == \"elasticnet\"):\n",
    "    model = LogisticRegression(penalty = 'elasticnet', solver = 'saga', l1_ratio = 0.5, max_iter=5000) # which solver to use?\n",
    "else:\n",
    "    raise \"Unsupported universe.model\""
   ]
  },
  {
   "cell_type": "code",
   "execution_count": 42,
   "id": "0cc8f744",
   "metadata": {
    "execution": {
     "iopub.execute_input": "2025-07-30T20:50:29.886557Z",
     "iopub.status.busy": "2025-07-30T20:50:29.885984Z",
     "iopub.status.idle": "2025-07-30T20:50:29.893278Z",
     "shell.execute_reply": "2025-07-30T20:50:29.892274Z"
    },
    "papermill": {
     "duration": 0.031051,
     "end_time": "2025-07-30T20:50:29.894749",
     "exception": false,
     "start_time": "2025-07-30T20:50:29.863698",
     "status": "completed"
    },
    "tags": []
   },
   "outputs": [],
   "source": [
    "import numpy as np\n",
    "from sklearn.pipeline import Pipeline\n",
    "from sklearn.preprocessing import StandardScaler\n",
    "\n",
    "model = Pipeline([\n",
    "    #(\"continuous_processor\", continuous_processor),\n",
    "    #(\"categorical_preprocessor\", categorical_preprocessor),\n",
    "    (\"scale\", StandardScaler() if universe[\"scale\"] == \"scale\" else None), \n",
    "    (\"model\", model),\n",
    "])"
   ]
  },
  {
   "cell_type": "code",
   "execution_count": 43,
   "id": "9442c04d",
   "metadata": {
    "execution": {
     "iopub.execute_input": "2025-07-30T20:50:29.941319Z",
     "iopub.status.busy": "2025-07-30T20:50:29.940859Z",
     "iopub.status.idle": "2025-07-30T20:50:30.078556Z",
     "shell.execute_reply": "2025-07-30T20:50:30.077495Z"
    },
    "papermill": {
     "duration": 0.163741,
     "end_time": "2025-07-30T20:50:30.080466",
     "exception": false,
     "start_time": "2025-07-30T20:50:29.916725",
     "status": "completed"
    },
    "tags": []
   },
   "outputs": [
    {
     "name": "stderr",
     "output_type": "stream",
     "text": [
      "/dss/dsshome1/0C/ra93lal2/.local/share/virtualenvs/CMA_Fairness_v2-3j10GkSs/lib/python3.10/site-packages/sklearn/linear_model/_logistic.py:444: ConvergenceWarning: lbfgs failed to converge (status=1):\n",
      "STOP: TOTAL NO. of ITERATIONS REACHED LIMIT.\n",
      "\n",
      "Increase the number of iterations (max_iter) or scale the data as shown in:\n",
      "    https://scikit-learn.org/stable/modules/preprocessing.html\n",
      "Please also refer to the documentation for alternative solver options:\n",
      "    https://scikit-learn.org/stable/modules/linear_model.html#logistic-regression\n",
      "  n_iter_i = _check_optimize_result(\n"
     ]
    },
    {
     "data": {
      "text/html": [
       "<style>#sk-container-id-1 {color: black;background-color: white;}#sk-container-id-1 pre{padding: 0;}#sk-container-id-1 div.sk-toggleable {background-color: white;}#sk-container-id-1 label.sk-toggleable__label {cursor: pointer;display: block;width: 100%;margin-bottom: 0;padding: 0.3em;box-sizing: border-box;text-align: center;}#sk-container-id-1 label.sk-toggleable__label-arrow:before {content: \"▸\";float: left;margin-right: 0.25em;color: #696969;}#sk-container-id-1 label.sk-toggleable__label-arrow:hover:before {color: black;}#sk-container-id-1 div.sk-estimator:hover label.sk-toggleable__label-arrow:before {color: black;}#sk-container-id-1 div.sk-toggleable__content {max-height: 0;max-width: 0;overflow: hidden;text-align: left;background-color: #f0f8ff;}#sk-container-id-1 div.sk-toggleable__content pre {margin: 0.2em;color: black;border-radius: 0.25em;background-color: #f0f8ff;}#sk-container-id-1 input.sk-toggleable__control:checked~div.sk-toggleable__content {max-height: 200px;max-width: 100%;overflow: auto;}#sk-container-id-1 input.sk-toggleable__control:checked~label.sk-toggleable__label-arrow:before {content: \"▾\";}#sk-container-id-1 div.sk-estimator input.sk-toggleable__control:checked~label.sk-toggleable__label {background-color: #d4ebff;}#sk-container-id-1 div.sk-label input.sk-toggleable__control:checked~label.sk-toggleable__label {background-color: #d4ebff;}#sk-container-id-1 input.sk-hidden--visually {border: 0;clip: rect(1px 1px 1px 1px);clip: rect(1px, 1px, 1px, 1px);height: 1px;margin: -1px;overflow: hidden;padding: 0;position: absolute;width: 1px;}#sk-container-id-1 div.sk-estimator {font-family: monospace;background-color: #f0f8ff;border: 1px dotted black;border-radius: 0.25em;box-sizing: border-box;margin-bottom: 0.5em;}#sk-container-id-1 div.sk-estimator:hover {background-color: #d4ebff;}#sk-container-id-1 div.sk-parallel-item::after {content: \"\";width: 100%;border-bottom: 1px solid gray;flex-grow: 1;}#sk-container-id-1 div.sk-label:hover label.sk-toggleable__label {background-color: #d4ebff;}#sk-container-id-1 div.sk-serial::before {content: \"\";position: absolute;border-left: 1px solid gray;box-sizing: border-box;top: 0;bottom: 0;left: 50%;z-index: 0;}#sk-container-id-1 div.sk-serial {display: flex;flex-direction: column;align-items: center;background-color: white;padding-right: 0.2em;padding-left: 0.2em;position: relative;}#sk-container-id-1 div.sk-item {position: relative;z-index: 1;}#sk-container-id-1 div.sk-parallel {display: flex;align-items: stretch;justify-content: center;background-color: white;position: relative;}#sk-container-id-1 div.sk-item::before, #sk-container-id-1 div.sk-parallel-item::before {content: \"\";position: absolute;border-left: 1px solid gray;box-sizing: border-box;top: 0;bottom: 0;left: 50%;z-index: -1;}#sk-container-id-1 div.sk-parallel-item {display: flex;flex-direction: column;z-index: 1;position: relative;background-color: white;}#sk-container-id-1 div.sk-parallel-item:first-child::after {align-self: flex-end;width: 50%;}#sk-container-id-1 div.sk-parallel-item:last-child::after {align-self: flex-start;width: 50%;}#sk-container-id-1 div.sk-parallel-item:only-child::after {width: 0;}#sk-container-id-1 div.sk-dashed-wrapped {border: 1px dashed gray;margin: 0 0.4em 0.5em 0.4em;box-sizing: border-box;padding-bottom: 0.4em;background-color: white;}#sk-container-id-1 div.sk-label label {font-family: monospace;font-weight: bold;display: inline-block;line-height: 1.2em;}#sk-container-id-1 div.sk-label-container {text-align: center;}#sk-container-id-1 div.sk-container {/* jupyter's `normalize.less` sets `[hidden] { display: none; }` but bootstrap.min.css set `[hidden] { display: none !important; }` so we also need the `!important` here to be able to override the default hidden behavior on the sphinx rendered scikit-learn.org. See: https://github.com/scikit-learn/scikit-learn/issues/21755 */display: inline-block !important;position: relative;}#sk-container-id-1 div.sk-text-repr-fallback {display: none;}</style><div id=\"sk-container-id-1\" class=\"sk-top-container\"><div class=\"sk-text-repr-fallback\"><pre>Pipeline(steps=[(&#x27;scale&#x27;, None), (&#x27;model&#x27;, LogisticRegression())])</pre><b>In a Jupyter environment, please rerun this cell to show the HTML representation or trust the notebook. <br />On GitHub, the HTML representation is unable to render, please try loading this page with nbviewer.org.</b></div><div class=\"sk-container\" hidden><div class=\"sk-item sk-dashed-wrapped\"><div class=\"sk-label-container\"><div class=\"sk-label sk-toggleable\"><input class=\"sk-toggleable__control sk-hidden--visually\" id=\"sk-estimator-id-1\" type=\"checkbox\" ><label for=\"sk-estimator-id-1\" class=\"sk-toggleable__label sk-toggleable__label-arrow\">Pipeline</label><div class=\"sk-toggleable__content\"><pre>Pipeline(steps=[(&#x27;scale&#x27;, None), (&#x27;model&#x27;, LogisticRegression())])</pre></div></div></div><div class=\"sk-serial\"><div class=\"sk-item\"><div class=\"sk-estimator sk-toggleable\"><input class=\"sk-toggleable__control sk-hidden--visually\" id=\"sk-estimator-id-2\" type=\"checkbox\" ><label for=\"sk-estimator-id-2\" class=\"sk-toggleable__label sk-toggleable__label-arrow\">None</label><div class=\"sk-toggleable__content\"><pre>None</pre></div></div></div><div class=\"sk-item\"><div class=\"sk-estimator sk-toggleable\"><input class=\"sk-toggleable__control sk-hidden--visually\" id=\"sk-estimator-id-3\" type=\"checkbox\" ><label for=\"sk-estimator-id-3\" class=\"sk-toggleable__label sk-toggleable__label-arrow\">LogisticRegression</label><div class=\"sk-toggleable__content\"><pre>LogisticRegression()</pre></div></div></div></div></div></div></div>"
      ],
      "text/plain": [
       "Pipeline(steps=[('scale', None), ('model', LogisticRegression())])"
      ]
     },
     "execution_count": 43,
     "metadata": {},
     "output_type": "execute_result"
    }
   ],
   "source": [
    "model.fit(X_train, y_train.values.ravel())"
   ]
  },
  {
   "cell_type": "code",
   "execution_count": 44,
   "id": "af59f8c0",
   "metadata": {
    "execution": {
     "iopub.execute_input": "2025-07-30T20:50:30.135658Z",
     "iopub.status.busy": "2025-07-30T20:50:30.134779Z",
     "iopub.status.idle": "2025-07-30T20:50:30.141299Z",
     "shell.execute_reply": "2025-07-30T20:50:30.140000Z"
    },
    "papermill": {
     "duration": 0.038781,
     "end_time": "2025-07-30T20:50:30.143424",
     "exception": false,
     "start_time": "2025-07-30T20:50:30.104643",
     "status": "completed"
    },
    "tags": []
   },
   "outputs": [],
   "source": [
    "from fairness_multiverse.universe import predict_w_threshold"
   ]
  },
  {
   "cell_type": "code",
   "execution_count": 45,
   "id": "a7cf2e16",
   "metadata": {
    "execution": {
     "iopub.execute_input": "2025-07-30T20:50:30.208745Z",
     "iopub.status.busy": "2025-07-30T20:50:30.208201Z",
     "iopub.status.idle": "2025-07-30T20:50:30.318647Z",
     "shell.execute_reply": "2025-07-30T20:50:30.317475Z"
    },
    "papermill": {
     "duration": 0.146072,
     "end_time": "2025-07-30T20:50:30.320808",
     "exception": false,
     "start_time": "2025-07-30T20:50:30.174736",
     "status": "completed"
    },
    "tags": []
   },
   "outputs": [
    {
     "data": {
      "text/plain": [
       "0.8599264296065099"
      ]
     },
     "execution_count": 45,
     "metadata": {},
     "output_type": "execute_result"
    }
   ],
   "source": [
    "probs_test = model.predict_proba(X_test)\n",
    "\n",
    "'''\n",
    "Below code returns a boolean array (or binary 0/1 array depending on how it’s used) where each element \n",
    "is True if the probability of class 1 is greater than or equal to the threshold, and False otherwise.\n",
    "'''\n",
    "y_pred_default = predict_w_threshold(probs_test, 0.5)\n",
    "\n",
    "from sklearn.metrics import accuracy_score\n",
    "\n",
    "# Naive prediction\n",
    "accuracy_score(y_true = y_true, y_pred = y_pred_default)"
   ]
  },
  {
   "cell_type": "code",
   "execution_count": 46,
   "id": "081964c3",
   "metadata": {
    "execution": {
     "iopub.execute_input": "2025-07-30T20:50:30.358104Z",
     "iopub.status.busy": "2025-07-30T20:50:30.357583Z",
     "iopub.status.idle": "2025-07-30T20:50:30.453528Z",
     "shell.execute_reply": "2025-07-30T20:50:30.452379Z"
    },
    "papermill": {
     "duration": 0.111511,
     "end_time": "2025-07-30T20:50:30.455239",
     "exception": false,
     "start_time": "2025-07-30T20:50:30.343728",
     "status": "completed"
    },
    "tags": []
   },
   "outputs": [
    {
     "data": {
      "text/plain": [
       "array([0, 0, 0, ..., 0, 0, 0])"
      ]
     },
     "execution_count": 46,
     "metadata": {},
     "output_type": "execute_result"
    }
   ],
   "source": [
    "model.predict(X_test)"
   ]
  },
  {
   "cell_type": "markdown",
   "id": "56c9705b",
   "metadata": {
    "papermill": {
     "duration": 0.02641,
     "end_time": "2025-07-30T20:50:30.507989",
     "exception": false,
     "start_time": "2025-07-30T20:50:30.481579",
     "status": "completed"
    },
    "tags": []
   },
   "source": [
    "# Conformal Prediction"
   ]
  },
  {
   "cell_type": "code",
   "execution_count": 47,
   "id": "160ec6ff",
   "metadata": {
    "execution": {
     "iopub.execute_input": "2025-07-30T20:50:30.558909Z",
     "iopub.status.busy": "2025-07-30T20:50:30.558262Z",
     "iopub.status.idle": "2025-07-30T20:50:30.565123Z",
     "shell.execute_reply": "2025-07-30T20:50:30.563829Z"
    },
    "papermill": {
     "duration": 0.033832,
     "end_time": "2025-07-30T20:50:30.567377",
     "exception": false,
     "start_time": "2025-07-30T20:50:30.533545",
     "status": "completed"
    },
    "tags": []
   },
   "outputs": [],
   "source": [
    "# Miscoverage level for conformal prediction (10% allowed error rate => 90% target coverage)\n",
    "alpha = 0.1"
   ]
  },
  {
   "cell_type": "code",
   "execution_count": 48,
   "id": "eadf4555-3dd3-440e-8e35-f82a4ad9f855",
   "metadata": {
    "execution": {
     "iopub.execute_input": "2025-07-30T20:50:30.632735Z",
     "iopub.status.busy": "2025-07-30T20:50:30.632225Z",
     "iopub.status.idle": "2025-07-30T20:50:30.717418Z",
     "shell.execute_reply": "2025-07-30T20:50:30.716308Z"
    },
    "papermill": {
     "duration": 0.120309,
     "end_time": "2025-07-30T20:50:30.719762",
     "exception": false,
     "start_time": "2025-07-30T20:50:30.599453",
     "status": "completed"
    },
    "tags": []
   },
   "outputs": [],
   "source": [
    "probs_calib = model.predict_proba(X_calib)"
   ]
  },
  {
   "cell_type": "code",
   "execution_count": 49,
   "id": "2ed93547-6d5d-4983-9b36-1ecb300da49a",
   "metadata": {
    "execution": {
     "iopub.execute_input": "2025-07-30T20:50:30.789102Z",
     "iopub.status.busy": "2025-07-30T20:50:30.788584Z",
     "iopub.status.idle": "2025-07-30T20:50:30.794795Z",
     "shell.execute_reply": "2025-07-30T20:50:30.793673Z"
    },
    "papermill": {
     "duration": 0.039329,
     "end_time": "2025-07-30T20:50:30.796742",
     "exception": false,
     "start_time": "2025-07-30T20:50:30.757413",
     "status": "completed"
    },
    "tags": []
   },
   "outputs": [],
   "source": [
    "y_calib = y_calib.values.ravel().astype(int)"
   ]
  },
  {
   "cell_type": "code",
   "execution_count": 50,
   "id": "65d1320d-f588-4b38-9072-62af1ae97f7d",
   "metadata": {
    "execution": {
     "iopub.execute_input": "2025-07-30T20:50:30.863436Z",
     "iopub.status.busy": "2025-07-30T20:50:30.862918Z",
     "iopub.status.idle": "2025-07-30T20:50:30.871771Z",
     "shell.execute_reply": "2025-07-30T20:50:30.870777Z"
    },
    "papermill": {
     "duration": 0.044534,
     "end_time": "2025-07-30T20:50:30.873770",
     "exception": false,
     "start_time": "2025-07-30T20:50:30.829236",
     "status": "completed"
    },
    "tags": []
   },
   "outputs": [],
   "source": [
    "from fairness_multiverse.conformal import compute_nc_scores\n",
    "\n",
    "# Compute nonconformity scores on calibration set (1 - probability of true class)\n",
    "nc_scores = compute_nc_scores(probs_calib, y_calib)"
   ]
  },
  {
   "cell_type": "code",
   "execution_count": 51,
   "id": "df3b8ca3-53b7-43d5-9667-7c85da7aeda2",
   "metadata": {
    "execution": {
     "iopub.execute_input": "2025-07-30T20:50:30.929396Z",
     "iopub.status.busy": "2025-07-30T20:50:30.928256Z",
     "iopub.status.idle": "2025-07-30T20:50:30.937870Z",
     "shell.execute_reply": "2025-07-30T20:50:30.936286Z"
    },
    "papermill": {
     "duration": 0.039635,
     "end_time": "2025-07-30T20:50:30.939792",
     "exception": false,
     "start_time": "2025-07-30T20:50:30.900157",
     "status": "completed"
    },
    "tags": []
   },
   "outputs": [],
   "source": [
    "from fairness_multiverse.conformal import find_threshold\n",
    "\n",
    "# Find conformal threshold q_hat for the given alpha (split conformal method)\n",
    "q_hat = find_threshold(nc_scores, alpha)"
   ]
  },
  {
   "cell_type": "code",
   "execution_count": 52,
   "id": "4d29e6c1-0ef6-4aa4-b8fe-4fe79b0d033a",
   "metadata": {
    "execution": {
     "iopub.execute_input": "2025-07-30T20:50:30.989223Z",
     "iopub.status.busy": "2025-07-30T20:50:30.988668Z",
     "iopub.status.idle": "2025-07-30T20:50:30.996585Z",
     "shell.execute_reply": "2025-07-30T20:50:30.995351Z"
    },
    "papermill": {
     "duration": 0.035036,
     "end_time": "2025-07-30T20:50:30.998861",
     "exception": false,
     "start_time": "2025-07-30T20:50:30.963825",
     "status": "completed"
    },
    "tags": []
   },
   "outputs": [
    {
     "data": {
      "text/plain": [
       "0.6734481120149244"
      ]
     },
     "execution_count": 52,
     "metadata": {},
     "output_type": "execute_result"
    }
   ],
   "source": [
    "q_hat"
   ]
  },
  {
   "cell_type": "code",
   "execution_count": 53,
   "id": "92460794-cdac-4be2-ba28-f28c0515a6fb",
   "metadata": {
    "execution": {
     "iopub.execute_input": "2025-07-30T20:50:31.047045Z",
     "iopub.status.busy": "2025-07-30T20:50:31.046528Z",
     "iopub.status.idle": "2025-07-30T20:50:31.909287Z",
     "shell.execute_reply": "2025-07-30T20:50:31.907504Z"
    },
    "papermill": {
     "duration": 0.88932,
     "end_time": "2025-07-30T20:50:31.911387",
     "exception": false,
     "start_time": "2025-07-30T20:50:31.022067",
     "status": "completed"
    },
    "tags": []
   },
   "outputs": [],
   "source": [
    "from fairness_multiverse.conformal import predict_conformal_sets\n",
    "\n",
    "# Generate prediction sets for each test example\n",
    "pred_sets = predict_conformal_sets(model, X_test, q_hat)"
   ]
  },
  {
   "cell_type": "code",
   "execution_count": 54,
   "id": "d90c9a65-e6db-4f5d-80cd-e68fb7e46829",
   "metadata": {
    "execution": {
     "iopub.execute_input": "2025-07-30T20:50:31.958289Z",
     "iopub.status.busy": "2025-07-30T20:50:31.957562Z",
     "iopub.status.idle": "2025-07-30T20:50:31.966005Z",
     "shell.execute_reply": "2025-07-30T20:50:31.964770Z"
    },
    "papermill": {
     "duration": 0.030444,
     "end_time": "2025-07-30T20:50:31.967729",
     "exception": false,
     "start_time": "2025-07-30T20:50:31.937285",
     "status": "completed"
    },
    "tags": []
   },
   "outputs": [],
   "source": [
    "y_true = y_true.squeeze()"
   ]
  },
  {
   "cell_type": "code",
   "execution_count": 55,
   "id": "3a58a54a-1e68-46b9-927a-df01f18aebc8",
   "metadata": {
    "execution": {
     "iopub.execute_input": "2025-07-30T20:50:32.019034Z",
     "iopub.status.busy": "2025-07-30T20:50:32.018397Z",
     "iopub.status.idle": "2025-07-30T20:50:32.924091Z",
     "shell.execute_reply": "2025-07-30T20:50:32.922921Z"
    },
    "papermill": {
     "duration": 0.934007,
     "end_time": "2025-07-30T20:50:32.926012",
     "exception": false,
     "start_time": "2025-07-30T20:50:31.992005",
     "status": "completed"
    },
    "tags": []
   },
   "outputs": [],
   "source": [
    "from fairness_multiverse.conformal import evaluate_sets\n",
    "\n",
    "# Evaluate coverage and average set size on test data\n",
    "metrics = evaluate_sets(pred_sets, y_true)"
   ]
  },
  {
   "cell_type": "markdown",
   "id": "2b569c12-9aaa-4c88-98c9-bbcd0cf3ebb8",
   "metadata": {
    "papermill": {
     "duration": 0.024244,
     "end_time": "2025-07-30T20:50:32.973806",
     "exception": false,
     "start_time": "2025-07-30T20:50:32.949562",
     "status": "completed"
    },
    "tags": []
   },
   "source": [
    "# CP Metrics"
   ]
  },
  {
   "cell_type": "code",
   "execution_count": 56,
   "id": "5ce0a5cb-201f-45a0-ade5-94c7f0bd6095",
   "metadata": {
    "execution": {
     "iopub.execute_input": "2025-07-30T20:50:33.022282Z",
     "iopub.status.busy": "2025-07-30T20:50:33.021780Z",
     "iopub.status.idle": "2025-07-30T20:50:33.029409Z",
     "shell.execute_reply": "2025-07-30T20:50:33.028397Z"
    },
    "papermill": {
     "duration": 0.034095,
     "end_time": "2025-07-30T20:50:33.031203",
     "exception": false,
     "start_time": "2025-07-30T20:50:32.997108",
     "status": "completed"
    },
    "tags": []
   },
   "outputs": [
    {
     "data": {
      "text/plain": [
       "{'coverage': 0.9118604391929551, 'avg_size': 1.2026864340653216}"
      ]
     },
     "execution_count": 56,
     "metadata": {},
     "output_type": "execute_result"
    }
   ],
   "source": [
    "metrics"
   ]
  },
  {
   "cell_type": "code",
   "execution_count": 57,
   "id": "9b9a838d-31c9-430b-ae14-12baee460d17",
   "metadata": {
    "execution": {
     "iopub.execute_input": "2025-07-30T20:50:33.088290Z",
     "iopub.status.busy": "2025-07-30T20:50:33.086712Z",
     "iopub.status.idle": "2025-07-30T20:50:33.094915Z",
     "shell.execute_reply": "2025-07-30T20:50:33.093746Z"
    },
    "papermill": {
     "duration": 0.040743,
     "end_time": "2025-07-30T20:50:33.097494",
     "exception": false,
     "start_time": "2025-07-30T20:50:33.056751",
     "status": "completed"
    },
    "tags": []
   },
   "outputs": [],
   "source": [
    "example_universe = universe.copy()\n",
    "universe_training_year = example_universe.get(\"training_year\")\n",
    "universe_training_size = example_universe.get(\"training_size\")\n",
    "universe_scale = example_universe.get(\"scale\")\n",
    "universe_model = example_universe.get(\"model\")\n",
    "universe_exclude_features = example_universe.get(\"exclude_features\")\n",
    "universe_exclude_subgroups = example_universe.get(\"exclude_subgroups\")"
   ]
  },
  {
   "cell_type": "code",
   "execution_count": 58,
   "id": "f4b6a8ac-9dc0-4245-8a91-5b3b5999c4f9",
   "metadata": {
    "execution": {
     "iopub.execute_input": "2025-07-30T20:50:33.164785Z",
     "iopub.status.busy": "2025-07-30T20:50:33.164064Z",
     "iopub.status.idle": "2025-07-30T20:50:33.177373Z",
     "shell.execute_reply": "2025-07-30T20:50:33.176223Z"
    },
    "papermill": {
     "duration": 0.048698,
     "end_time": "2025-07-30T20:50:33.179470",
     "exception": false,
     "start_time": "2025-07-30T20:50:33.130772",
     "status": "completed"
    },
    "tags": []
   },
   "outputs": [],
   "source": [
    "cp_metrics_dict = {\n",
    "    \"universe_id\": [universe_id],\n",
    "    \"universe_training_year\": [universe_training_year],\n",
    "    \"universe_training_size\": [universe_training_size],\n",
    "    \"universe_scale\": [universe_scale],\n",
    "    \"universe_model\": [universe_model],\n",
    "    \"universe_exclude_features\": [universe_exclude_features],\n",
    "    \"universe_exclude_subgroups\": [universe_exclude_subgroups],\n",
    "    \"q_hat\": [q_hat],\n",
    "    \"coverage\": [metrics[\"coverage\"]],\n",
    "    \"avg_size\": [metrics[\"avg_size\"]],\n",
    "}"
   ]
  },
  {
   "cell_type": "code",
   "execution_count": 59,
   "id": "908acbb1-0371-4915-85ca-3fa520d2efe2",
   "metadata": {
    "execution": {
     "iopub.execute_input": "2025-07-30T20:50:33.247524Z",
     "iopub.status.busy": "2025-07-30T20:50:33.246685Z",
     "iopub.status.idle": "2025-07-30T20:50:33.255070Z",
     "shell.execute_reply": "2025-07-30T20:50:33.253944Z"
    },
    "papermill": {
     "duration": 0.045729,
     "end_time": "2025-07-30T20:50:33.257060",
     "exception": false,
     "start_time": "2025-07-30T20:50:33.211331",
     "status": "completed"
    },
    "tags": []
   },
   "outputs": [
    {
     "data": {
      "text/plain": [
       "{'universe_id': ['92586e5505a31b62c965966bfbc68c33'],\n",
       " 'universe_training_year': ['2014'],\n",
       " 'universe_training_size': ['5k'],\n",
       " 'universe_scale': ['do-not-scale'],\n",
       " 'universe_model': ['logreg'],\n",
       " 'universe_exclude_features': ['none'],\n",
       " 'universe_exclude_subgroups': ['keep-all'],\n",
       " 'q_hat': [0.6734481120149244],\n",
       " 'coverage': [0.9118604391929551],\n",
       " 'avg_size': [1.2026864340653216]}"
      ]
     },
     "execution_count": 59,
     "metadata": {},
     "output_type": "execute_result"
    }
   ],
   "source": [
    "cp_metrics_dict"
   ]
  },
  {
   "cell_type": "code",
   "execution_count": 60,
   "id": "33007efc-14e9-4ec6-97ac-56a455c82265",
   "metadata": {
    "execution": {
     "iopub.execute_input": "2025-07-30T20:50:33.301493Z",
     "iopub.status.busy": "2025-07-30T20:50:33.301114Z",
     "iopub.status.idle": "2025-07-30T20:50:33.307561Z",
     "shell.execute_reply": "2025-07-30T20:50:33.306455Z"
    },
    "papermill": {
     "duration": 0.03096,
     "end_time": "2025-07-30T20:50:33.314301",
     "exception": false,
     "start_time": "2025-07-30T20:50:33.283341",
     "status": "completed"
    },
    "tags": []
   },
   "outputs": [],
   "source": [
    "cp_metrics_df = pd.DataFrame(cp_metrics_dict)"
   ]
  },
  {
   "cell_type": "code",
   "execution_count": 61,
   "id": "db12611b-57b2-4910-b9d0-355adfd6e7bf",
   "metadata": {
    "execution": {
     "iopub.execute_input": "2025-07-30T20:50:33.370675Z",
     "iopub.status.busy": "2025-07-30T20:50:33.370192Z",
     "iopub.status.idle": "2025-07-30T20:50:33.388066Z",
     "shell.execute_reply": "2025-07-30T20:50:33.387123Z"
    },
    "papermill": {
     "duration": 0.04747,
     "end_time": "2025-07-30T20:50:33.389654",
     "exception": false,
     "start_time": "2025-07-30T20:50:33.342184",
     "status": "completed"
    },
    "tags": []
   },
   "outputs": [
    {
     "data": {
      "text/html": [
       "<div>\n",
       "<style scoped>\n",
       "    .dataframe tbody tr th:only-of-type {\n",
       "        vertical-align: middle;\n",
       "    }\n",
       "\n",
       "    .dataframe tbody tr th {\n",
       "        vertical-align: top;\n",
       "    }\n",
       "\n",
       "    .dataframe thead th {\n",
       "        text-align: right;\n",
       "    }\n",
       "</style>\n",
       "<table border=\"1\" class=\"dataframe\">\n",
       "  <thead>\n",
       "    <tr style=\"text-align: right;\">\n",
       "      <th></th>\n",
       "      <th>universe_id</th>\n",
       "      <th>universe_training_year</th>\n",
       "      <th>universe_training_size</th>\n",
       "      <th>universe_scale</th>\n",
       "      <th>universe_model</th>\n",
       "      <th>universe_exclude_features</th>\n",
       "      <th>universe_exclude_subgroups</th>\n",
       "      <th>q_hat</th>\n",
       "      <th>coverage</th>\n",
       "      <th>avg_size</th>\n",
       "    </tr>\n",
       "  </thead>\n",
       "  <tbody>\n",
       "    <tr>\n",
       "      <th>0</th>\n",
       "      <td>92586e5505a31b62c965966bfbc68c33</td>\n",
       "      <td>2014</td>\n",
       "      <td>5k</td>\n",
       "      <td>do-not-scale</td>\n",
       "      <td>logreg</td>\n",
       "      <td>none</td>\n",
       "      <td>keep-all</td>\n",
       "      <td>0.673448</td>\n",
       "      <td>0.91186</td>\n",
       "      <td>1.202686</td>\n",
       "    </tr>\n",
       "  </tbody>\n",
       "</table>\n",
       "</div>"
      ],
      "text/plain": [
       "                        universe_id universe_training_year  \\\n",
       "0  92586e5505a31b62c965966bfbc68c33                   2014   \n",
       "\n",
       "  universe_training_size universe_scale universe_model  \\\n",
       "0                     5k   do-not-scale         logreg   \n",
       "\n",
       "  universe_exclude_features universe_exclude_subgroups     q_hat  coverage  \\\n",
       "0                      none                   keep-all  0.673448   0.91186   \n",
       "\n",
       "   avg_size  \n",
       "0  1.202686  "
      ]
     },
     "execution_count": 61,
     "metadata": {},
     "output_type": "execute_result"
    }
   ],
   "source": [
    "cp_metrics_df"
   ]
  },
  {
   "cell_type": "code",
   "execution_count": 62,
   "id": "b7fbde55-a0a1-47e4-9af6-fe4a17fa8c61",
   "metadata": {
    "execution": {
     "iopub.execute_input": "2025-07-30T20:50:33.445003Z",
     "iopub.status.busy": "2025-07-30T20:50:33.444130Z",
     "iopub.status.idle": "2025-07-30T20:50:33.449418Z",
     "shell.execute_reply": "2025-07-30T20:50:33.448444Z"
    },
    "papermill": {
     "duration": 0.034426,
     "end_time": "2025-07-30T20:50:33.451189",
     "exception": false,
     "start_time": "2025-07-30T20:50:33.416763",
     "status": "completed"
    },
    "tags": []
   },
   "outputs": [],
   "source": [
    "# Conditional Coverage & looking at subgroups"
   ]
  },
  {
   "cell_type": "code",
   "execution_count": 63,
   "id": "027ae886-68dd-4141-96c7-805a5450e1ef",
   "metadata": {
    "execution": {
     "iopub.execute_input": "2025-07-30T20:50:33.502990Z",
     "iopub.status.busy": "2025-07-30T20:50:33.502474Z",
     "iopub.status.idle": "2025-07-30T20:50:33.777861Z",
     "shell.execute_reply": "2025-07-30T20:50:33.777115Z"
    },
    "papermill": {
     "duration": 0.30259,
     "end_time": "2025-07-30T20:50:33.779526",
     "exception": false,
     "start_time": "2025-07-30T20:50:33.476936",
     "status": "completed"
    },
    "tags": []
   },
   "outputs": [],
   "source": [
    "from fairness_multiverse.conformal import build_cp_groups\n",
    "\n",
    "cp_groups_df = build_cp_groups(pred_sets, y_true, X_test.index, org_test)\n",
    "#needs universe_id and setting"
   ]
  },
  {
   "cell_type": "code",
   "execution_count": 64,
   "id": "01d5802c-663a-4d1f-9d69-e036faaffbf7",
   "metadata": {
    "execution": {
     "iopub.execute_input": "2025-07-30T20:50:33.833619Z",
     "iopub.status.busy": "2025-07-30T20:50:33.833209Z",
     "iopub.status.idle": "2025-07-30T20:50:33.838908Z",
     "shell.execute_reply": "2025-07-30T20:50:33.838008Z"
    },
    "papermill": {
     "duration": 0.036381,
     "end_time": "2025-07-30T20:50:33.840753",
     "exception": false,
     "start_time": "2025-07-30T20:50:33.804372",
     "status": "completed"
    },
    "tags": []
   },
   "outputs": [],
   "source": [
    "#delete\n",
    "#cp_groups_df"
   ]
  },
  {
   "cell_type": "code",
   "execution_count": 65,
   "id": "fa424af1-d1eb-443d-b717-2d279ada8408",
   "metadata": {
    "execution": {
     "iopub.execute_input": "2025-07-30T20:50:33.891368Z",
     "iopub.status.busy": "2025-07-30T20:50:33.890897Z",
     "iopub.status.idle": "2025-07-30T20:50:33.895830Z",
     "shell.execute_reply": "2025-07-30T20:50:33.894946Z"
    },
    "papermill": {
     "duration": 0.03144,
     "end_time": "2025-07-30T20:50:33.897422",
     "exception": false,
     "start_time": "2025-07-30T20:50:33.865982",
     "status": "completed"
    },
    "tags": []
   },
   "outputs": [],
   "source": [
    "#delete\n",
    "#percentage = (cp_groups_df['nongerman_female'] == 1).mean() * 100\n",
    "#print(percentage)\n"
   ]
  },
  {
   "cell_type": "code",
   "execution_count": 66,
   "id": "6cbdab96-b2b2-45af-ad54-d0516db2e28d",
   "metadata": {
    "execution": {
     "iopub.execute_input": "2025-07-30T20:50:33.949361Z",
     "iopub.status.busy": "2025-07-30T20:50:33.948835Z",
     "iopub.status.idle": "2025-07-30T20:50:35.478291Z",
     "shell.execute_reply": "2025-07-30T20:50:35.477337Z"
    },
    "papermill": {
     "duration": 1.55742,
     "end_time": "2025-07-30T20:50:35.480183",
     "exception": false,
     "start_time": "2025-07-30T20:50:33.922763",
     "status": "completed"
    },
    "tags": []
   },
   "outputs": [],
   "source": [
    "# Define covered = 1 if true_label is in the predicted set\n",
    "cp_groups_df['covered'] = cp_groups_df.apply(\n",
    "    lambda r: int(r['true_label'] in r['pred_set']),\n",
    "    axis=1\n",
    ")"
   ]
  },
  {
   "cell_type": "code",
   "execution_count": 67,
   "id": "338ff529-1a6b-4b87-a931-8e4788d52aad",
   "metadata": {
    "execution": {
     "iopub.execute_input": "2025-07-30T20:50:35.526296Z",
     "iopub.status.busy": "2025-07-30T20:50:35.525945Z",
     "iopub.status.idle": "2025-07-30T20:50:35.533879Z",
     "shell.execute_reply": "2025-07-30T20:50:35.529387Z"
    },
    "papermill": {
     "duration": 0.026062,
     "end_time": "2025-07-30T20:50:35.535749",
     "exception": false,
     "start_time": "2025-07-30T20:50:35.509687",
     "status": "completed"
    },
    "tags": []
   },
   "outputs": [],
   "source": [
    "#cp_groups_df"
   ]
  },
  {
   "cell_type": "code",
   "execution_count": 68,
   "id": "90032e27-66df-4540-9169-4e89cfbaa758",
   "metadata": {
    "execution": {
     "iopub.execute_input": "2025-07-30T20:50:35.593863Z",
     "iopub.status.busy": "2025-07-30T20:50:35.593218Z",
     "iopub.status.idle": "2025-07-30T20:50:35.603986Z",
     "shell.execute_reply": "2025-07-30T20:50:35.602939Z"
    },
    "papermill": {
     "duration": 0.041319,
     "end_time": "2025-07-30T20:50:35.605782",
     "exception": false,
     "start_time": "2025-07-30T20:50:35.564463",
     "status": "completed"
    },
    "tags": []
   },
   "outputs": [],
   "source": [
    "subgroups = ['frau1','nongerman','nongerman_male','nongerman_female']\n",
    "\n",
    "# Conditional coverage for subgroup==1\n",
    "cond_coverage = {\n",
    "    g: cp_groups_df.loc[cp_groups_df[g]==1, 'covered'].mean()\n",
    "    for g in subgroups\n",
    "}"
   ]
  },
  {
   "cell_type": "code",
   "execution_count": 69,
   "id": "1e348fb1-b9c3-45bc-ba23-f016827a7e0d",
   "metadata": {
    "execution": {
     "iopub.execute_input": "2025-07-30T20:50:35.662823Z",
     "iopub.status.busy": "2025-07-30T20:50:35.661894Z",
     "iopub.status.idle": "2025-07-30T20:50:35.669963Z",
     "shell.execute_reply": "2025-07-30T20:50:35.669004Z"
    },
    "papermill": {
     "duration": 0.038353,
     "end_time": "2025-07-30T20:50:35.671627",
     "exception": false,
     "start_time": "2025-07-30T20:50:35.633274",
     "status": "completed"
    },
    "tags": []
   },
   "outputs": [
    {
     "data": {
      "text/plain": [
       "{'frau1': 0.909610459630678,\n",
       " 'nongerman': 0.9265143434570258,\n",
       " 'nongerman_male': 0.9422678555345402,\n",
       " 'nongerman_female': 0.9004470938897169}"
      ]
     },
     "execution_count": 69,
     "metadata": {},
     "output_type": "execute_result"
    }
   ],
   "source": [
    "cond_coverage"
   ]
  },
  {
   "cell_type": "code",
   "execution_count": 70,
   "id": "f5093324-c3dd-4d63-bc4c-8d945e5c8bbb",
   "metadata": {
    "execution": {
     "iopub.execute_input": "2025-07-30T20:50:35.726579Z",
     "iopub.status.busy": "2025-07-30T20:50:35.726181Z",
     "iopub.status.idle": "2025-07-30T20:50:35.732390Z",
     "shell.execute_reply": "2025-07-30T20:50:35.731608Z"
    },
    "papermill": {
     "duration": 0.034102,
     "end_time": "2025-07-30T20:50:35.733735",
     "exception": false,
     "start_time": "2025-07-30T20:50:35.699633",
     "status": "completed"
    },
    "tags": []
   },
   "outputs": [],
   "source": [
    "for subgroup, cov in cond_coverage.items():\n",
    "    cp_metrics_df[f\"cov_{subgroup}\"] = cov"
   ]
  },
  {
   "cell_type": "code",
   "execution_count": 71,
   "id": "6e872e10-dbe5-49e8-b554-5030c98ff75d",
   "metadata": {
    "execution": {
     "iopub.execute_input": "2025-07-30T20:50:35.786698Z",
     "iopub.status.busy": "2025-07-30T20:50:35.786235Z",
     "iopub.status.idle": "2025-07-30T20:50:35.804990Z",
     "shell.execute_reply": "2025-07-30T20:50:35.804019Z"
    },
    "papermill": {
     "duration": 0.049722,
     "end_time": "2025-07-30T20:50:35.806644",
     "exception": false,
     "start_time": "2025-07-30T20:50:35.756922",
     "status": "completed"
    },
    "tags": []
   },
   "outputs": [
    {
     "data": {
      "text/html": [
       "<div>\n",
       "<style scoped>\n",
       "    .dataframe tbody tr th:only-of-type {\n",
       "        vertical-align: middle;\n",
       "    }\n",
       "\n",
       "    .dataframe tbody tr th {\n",
       "        vertical-align: top;\n",
       "    }\n",
       "\n",
       "    .dataframe thead th {\n",
       "        text-align: right;\n",
       "    }\n",
       "</style>\n",
       "<table border=\"1\" class=\"dataframe\">\n",
       "  <thead>\n",
       "    <tr style=\"text-align: right;\">\n",
       "      <th></th>\n",
       "      <th>universe_id</th>\n",
       "      <th>universe_training_year</th>\n",
       "      <th>universe_training_size</th>\n",
       "      <th>universe_scale</th>\n",
       "      <th>universe_model</th>\n",
       "      <th>universe_exclude_features</th>\n",
       "      <th>universe_exclude_subgroups</th>\n",
       "      <th>q_hat</th>\n",
       "      <th>coverage</th>\n",
       "      <th>avg_size</th>\n",
       "      <th>cov_frau1</th>\n",
       "      <th>cov_nongerman</th>\n",
       "      <th>cov_nongerman_male</th>\n",
       "      <th>cov_nongerman_female</th>\n",
       "    </tr>\n",
       "  </thead>\n",
       "  <tbody>\n",
       "    <tr>\n",
       "      <th>0</th>\n",
       "      <td>92586e5505a31b62c965966bfbc68c33</td>\n",
       "      <td>2014</td>\n",
       "      <td>5k</td>\n",
       "      <td>do-not-scale</td>\n",
       "      <td>logreg</td>\n",
       "      <td>none</td>\n",
       "      <td>keep-all</td>\n",
       "      <td>0.673448</td>\n",
       "      <td>0.91186</td>\n",
       "      <td>1.202686</td>\n",
       "      <td>0.90961</td>\n",
       "      <td>0.926514</td>\n",
       "      <td>0.942268</td>\n",
       "      <td>0.900447</td>\n",
       "    </tr>\n",
       "  </tbody>\n",
       "</table>\n",
       "</div>"
      ],
      "text/plain": [
       "                        universe_id universe_training_year  \\\n",
       "0  92586e5505a31b62c965966bfbc68c33                   2014   \n",
       "\n",
       "  universe_training_size universe_scale universe_model  \\\n",
       "0                     5k   do-not-scale         logreg   \n",
       "\n",
       "  universe_exclude_features universe_exclude_subgroups     q_hat  coverage  \\\n",
       "0                      none                   keep-all  0.673448   0.91186   \n",
       "\n",
       "   avg_size  cov_frau1  cov_nongerman  cov_nongerman_male  \\\n",
       "0  1.202686    0.90961       0.926514            0.942268   \n",
       "\n",
       "   cov_nongerman_female  \n",
       "0              0.900447  "
      ]
     },
     "execution_count": 71,
     "metadata": {},
     "output_type": "execute_result"
    }
   ],
   "source": [
    "cp_metrics_df"
   ]
  },
  {
   "cell_type": "markdown",
   "id": "33774451",
   "metadata": {
    "papermill": {
     "duration": 0.01659,
     "end_time": "2025-07-30T20:50:35.848775",
     "exception": false,
     "start_time": "2025-07-30T20:50:35.832185",
     "status": "completed"
    },
    "tags": []
   },
   "source": [
    "# (Fairness) Metrics"
   ]
  },
  {
   "cell_type": "code",
   "execution_count": 72,
   "id": "debc5d62",
   "metadata": {
    "execution": {
     "iopub.execute_input": "2025-07-30T20:50:35.876618Z",
     "iopub.status.busy": "2025-07-30T20:50:35.876153Z",
     "iopub.status.idle": "2025-07-30T20:50:35.900450Z",
     "shell.execute_reply": "2025-07-30T20:50:35.897922Z"
    },
    "papermill": {
     "duration": 0.040702,
     "end_time": "2025-07-30T20:50:35.902501",
     "exception": false,
     "start_time": "2025-07-30T20:50:35.861799",
     "status": "completed"
    },
    "tags": []
   },
   "outputs": [],
   "source": [
    "# do I need to include maxdeutsch1.missing?\n",
    "\n",
    "import numpy as np\n",
    "\n",
    "colname_to_bin = \"maxdeutsch1\"\n",
    "majority_value = org_train[colname_to_bin].mode()[0]\n",
    "\n",
    "org_test[\"majmin\"] = np.where(org_test[colname_to_bin] == majority_value, \"majority\", \"minority\")"
   ]
  },
  {
   "cell_type": "code",
   "execution_count": 73,
   "id": "06a50de5",
   "metadata": {
    "execution": {
     "iopub.execute_input": "2025-07-30T20:50:35.962717Z",
     "iopub.status.busy": "2025-07-30T20:50:35.961999Z",
     "iopub.status.idle": "2025-07-30T20:50:38.358807Z",
     "shell.execute_reply": "2025-07-30T20:50:38.357909Z"
    },
    "papermill": {
     "duration": 2.426892,
     "end_time": "2025-07-30T20:50:38.360640",
     "exception": false,
     "start_time": "2025-07-30T20:50:35.933748",
     "status": "completed"
    },
    "tags": []
   },
   "outputs": [],
   "source": [
    "example_universe = universe.copy()\n",
    "example_universe[\"cutoff\"] = example_universe[\"cutoff\"][0]\n",
    "example_universe[\"eval_fairness_grouping\"] = example_universe[\"eval_fairness_grouping\"][0]\n",
    "fairness_dict, metric_frame = universe_analysis.compute_metrics(\n",
    "    example_universe,\n",
    "    y_pred_prob=probs_test,\n",
    "    y_test=y_true,\n",
    "    org_test=org_test,\n",
    ")"
   ]
  },
  {
   "cell_type": "markdown",
   "id": "f95d4e02",
   "metadata": {
    "papermill": {
     "duration": 0.025237,
     "end_time": "2025-07-30T20:50:38.412798",
     "exception": false,
     "start_time": "2025-07-30T20:50:38.387561",
     "status": "completed"
    },
    "tags": []
   },
   "source": [
    "# Overall"
   ]
  },
  {
   "cell_type": "markdown",
   "id": "bdee4871",
   "metadata": {
    "papermill": {
     "duration": 0.024285,
     "end_time": "2025-07-30T20:50:38.460891",
     "exception": false,
     "start_time": "2025-07-30T20:50:38.436606",
     "status": "completed"
    },
    "tags": []
   },
   "source": [
    "Fairness\n",
    "Main fairness target: Equalized Odds. Seems to be a better fit than equal opportunity, since we're not only interested in Y = 1. Seems to be a better fit than demographic parity, since we also care about accuracy, not just equal distribution of preds.\n",
    "\n",
    "Pick column for computation of fairness metrics\n",
    "\n",
    "Performance\n",
    "Overall performance measures, most interesting in relation to the measures split by group below"
   ]
  },
  {
   "cell_type": "code",
   "execution_count": 74,
   "id": "c4e067c6",
   "metadata": {
    "execution": {
     "iopub.execute_input": "2025-07-30T20:50:38.510764Z",
     "iopub.status.busy": "2025-07-30T20:50:38.510270Z",
     "iopub.status.idle": "2025-07-30T20:50:38.518184Z",
     "shell.execute_reply": "2025-07-30T20:50:38.517170Z"
    },
    "papermill": {
     "duration": 0.034962,
     "end_time": "2025-07-30T20:50:38.519680",
     "exception": false,
     "start_time": "2025-07-30T20:50:38.484718",
     "status": "completed"
    },
    "tags": []
   },
   "outputs": [
    {
     "data": {
      "text/plain": [
       "accuracy                   0.216531\n",
       "balanced accuracy          0.531091\n",
       "f1                         0.238078\n",
       "precision                  0.136006\n",
       "false positive rate        0.892023\n",
       "false negative rate        0.045794\n",
       "selection rate             0.900000\n",
       "count                  89710.000000\n",
       "dtype: float64"
      ]
     },
     "execution_count": 74,
     "metadata": {},
     "output_type": "execute_result"
    }
   ],
   "source": [
    "metric_frame.overall"
   ]
  },
  {
   "cell_type": "markdown",
   "id": "e968fe9d",
   "metadata": {
    "papermill": {
     "duration": 0.025169,
     "end_time": "2025-07-30T20:50:38.569666",
     "exception": false,
     "start_time": "2025-07-30T20:50:38.544497",
     "status": "completed"
    },
    "tags": []
   },
   "source": [
    "By Group"
   ]
  },
  {
   "cell_type": "code",
   "execution_count": 75,
   "id": "ec325bce",
   "metadata": {
    "execution": {
     "iopub.execute_input": "2025-07-30T20:50:38.618910Z",
     "iopub.status.busy": "2025-07-30T20:50:38.618559Z",
     "iopub.status.idle": "2025-07-30T20:50:38.636172Z",
     "shell.execute_reply": "2025-07-30T20:50:38.635120Z"
    },
    "papermill": {
     "duration": 0.044324,
     "end_time": "2025-07-30T20:50:38.638037",
     "exception": false,
     "start_time": "2025-07-30T20:50:38.593713",
     "status": "completed"
    },
    "tags": []
   },
   "outputs": [
    {
     "data": {
      "text/html": [
       "<div>\n",
       "<style scoped>\n",
       "    .dataframe tbody tr th:only-of-type {\n",
       "        vertical-align: middle;\n",
       "    }\n",
       "\n",
       "    .dataframe tbody tr th {\n",
       "        vertical-align: top;\n",
       "    }\n",
       "\n",
       "    .dataframe thead th {\n",
       "        text-align: right;\n",
       "    }\n",
       "</style>\n",
       "<table border=\"1\" class=\"dataframe\">\n",
       "  <thead>\n",
       "    <tr style=\"text-align: right;\">\n",
       "      <th></th>\n",
       "      <th>accuracy</th>\n",
       "      <th>balanced accuracy</th>\n",
       "      <th>f1</th>\n",
       "      <th>precision</th>\n",
       "      <th>false positive rate</th>\n",
       "      <th>false negative rate</th>\n",
       "      <th>selection rate</th>\n",
       "      <th>count</th>\n",
       "    </tr>\n",
       "    <tr>\n",
       "      <th>majmin</th>\n",
       "      <th></th>\n",
       "      <th></th>\n",
       "      <th></th>\n",
       "      <th></th>\n",
       "      <th></th>\n",
       "      <th></th>\n",
       "      <th></th>\n",
       "      <th></th>\n",
       "    </tr>\n",
       "  </thead>\n",
       "  <tbody>\n",
       "    <tr>\n",
       "      <th>majority</th>\n",
       "      <td>0.238167</td>\n",
       "      <td>0.538223</td>\n",
       "      <td>0.247092</td>\n",
       "      <td>0.142104</td>\n",
       "      <td>0.869615</td>\n",
       "      <td>0.053939</td>\n",
       "      <td>0.879717</td>\n",
       "      <td>69170.0</td>\n",
       "    </tr>\n",
       "    <tr>\n",
       "      <th>minority</th>\n",
       "      <td>0.143671</td>\n",
       "      <td>0.509798</td>\n",
       "      <td>0.209732</td>\n",
       "      <td>0.117351</td>\n",
       "      <td>0.966047</td>\n",
       "      <td>0.014358</td>\n",
       "      <td>0.968306</td>\n",
       "      <td>20540.0</td>\n",
       "    </tr>\n",
       "  </tbody>\n",
       "</table>\n",
       "</div>"
      ],
      "text/plain": [
       "          accuracy  balanced accuracy        f1  precision  \\\n",
       "majmin                                                       \n",
       "majority  0.238167           0.538223  0.247092   0.142104   \n",
       "minority  0.143671           0.509798  0.209732   0.117351   \n",
       "\n",
       "          false positive rate  false negative rate  selection rate    count  \n",
       "majmin                                                                       \n",
       "majority             0.869615             0.053939        0.879717  69170.0  \n",
       "minority             0.966047             0.014358        0.968306  20540.0  "
      ]
     },
     "execution_count": 75,
     "metadata": {},
     "output_type": "execute_result"
    }
   ],
   "source": [
    "metric_frame.by_group"
   ]
  },
  {
   "cell_type": "code",
   "execution_count": 76,
   "id": "a9ddbe63",
   "metadata": {
    "execution": {
     "iopub.execute_input": "2025-07-30T20:50:38.690784Z",
     "iopub.status.busy": "2025-07-30T20:50:38.690289Z",
     "iopub.status.idle": "2025-07-30T20:50:40.986477Z",
     "shell.execute_reply": "2025-07-30T20:50:40.985432Z"
    },
    "papermill": {
     "duration": 2.323573,
     "end_time": "2025-07-30T20:50:40.988221",
     "exception": false,
     "start_time": "2025-07-30T20:50:38.664648",
     "status": "completed"
    },
    "tags": []
   },
   "outputs": [
    {
     "data": {
      "text/plain": [
       "array([[<Axes: title={'center': 'accuracy'}, xlabel='majmin'>,\n",
       "        <Axes: title={'center': 'balanced accuracy'}, xlabel='majmin'>,\n",
       "        <Axes: title={'center': 'f1'}, xlabel='majmin'>],\n",
       "       [<Axes: title={'center': 'precision'}, xlabel='majmin'>,\n",
       "        <Axes: title={'center': 'false positive rate'}, xlabel='majmin'>,\n",
       "        <Axes: title={'center': 'false negative rate'}, xlabel='majmin'>],\n",
       "       [<Axes: title={'center': 'selection rate'}, xlabel='majmin'>,\n",
       "        <Axes: title={'center': 'count'}, xlabel='majmin'>,\n",
       "        <Axes: xlabel='majmin'>]], dtype=object)"
      ]
     },
     "execution_count": 76,
     "metadata": {},
     "output_type": "execute_result"
    },
    {
     "data": {
      "image/png": "[encoded data removed]",
      "text/plain": [
       "<Figure size 1200x800 with 9 Axes>"
      ]
     },
     "metadata": {},
     "output_type": "display_data"
    }
   ],
   "source": [
    "# In a graphic\n",
    "metric_frame.by_group.plot.bar(\n",
    "    subplots=True,\n",
    "    layout=[3, 3],\n",
    "    legend=False,\n",
    "    figsize=[12, 8],\n",
    "    title=\"Show all metrics\",\n",
    ")"
   ]
  },
  {
   "cell_type": "markdown",
   "id": "f57a0bac",
   "metadata": {
    "papermill": {
     "duration": 0.031742,
     "end_time": "2025-07-30T20:50:41.052691",
     "exception": false,
     "start_time": "2025-07-30T20:50:41.020949",
     "status": "completed"
    },
    "tags": []
   },
   "source": [
    "# Final Output"
   ]
  },
  {
   "cell_type": "code",
   "execution_count": 77,
   "id": "96d280a3",
   "metadata": {
    "execution": {
     "iopub.execute_input": "2025-07-30T20:50:41.117192Z",
     "iopub.status.busy": "2025-07-30T20:50:41.116567Z",
     "iopub.status.idle": "2025-07-30T20:50:41.124479Z",
     "shell.execute_reply": "2025-07-30T20:50:41.123535Z"
    },
    "papermill": {
     "duration": 0.042222,
     "end_time": "2025-07-30T20:50:41.126194",
     "exception": false,
     "start_time": "2025-07-30T20:50:41.083972",
     "status": "completed"
    },
    "tags": []
   },
   "outputs": [
    {
     "data": {
      "text/plain": [
       "4"
      ]
     },
     "execution_count": 77,
     "metadata": {},
     "output_type": "execute_result"
    }
   ],
   "source": [
    "sub_universes = universe_analysis.generate_sub_universes()\n",
    "len(sub_universes)"
   ]
  },
  {
   "cell_type": "code",
   "execution_count": 78,
   "id": "92adf7ba",
   "metadata": {
    "execution": {
     "iopub.execute_input": "2025-07-30T20:50:41.192644Z",
     "iopub.status.busy": "2025-07-30T20:50:41.191954Z",
     "iopub.status.idle": "2025-07-30T20:50:41.198388Z",
     "shell.execute_reply": "2025-07-30T20:50:41.197515Z"
    },
    "papermill": {
     "duration": 0.040909,
     "end_time": "2025-07-30T20:50:41.199785",
     "exception": false,
     "start_time": "2025-07-30T20:50:41.158876",
     "status": "completed"
    },
    "tags": []
   },
   "outputs": [],
   "source": [
    "def filter_sub_universe_data(sub_universe, org_test):\n",
    "    # Keep all rows — no filtering\n",
    "    keep_rows_mask = np.ones(org_test.shape[0], dtype=bool)\n",
    "\n",
    "    print(f\"[INFO] Keeping all rows: {keep_rows_mask.sum()} rows retained.\")\n",
    "    return keep_rows_mask"
   ]
  },
  {
   "cell_type": "code",
   "execution_count": 79,
   "id": "4a759155",
   "metadata": {
    "execution": {
     "iopub.execute_input": "2025-07-30T20:50:41.254168Z",
     "iopub.status.busy": "2025-07-30T20:50:41.253313Z",
     "iopub.status.idle": "2025-07-30T20:50:51.511654Z",
     "shell.execute_reply": "2025-07-30T20:50:51.510891Z"
    },
    "papermill": {
     "duration": 10.287022,
     "end_time": "2025-07-30T20:50:51.513470",
     "exception": false,
     "start_time": "2025-07-30T20:50:41.226448",
     "status": "completed"
    },
    "tags": []
   },
   "outputs": [
    {
     "name": "stdout",
     "output_type": "stream",
     "text": [
      "Stopping execution_time clock.\n",
      "[INFO] Keeping all rows: 89710 rows retained.\n"
     ]
    },
    {
     "name": "stdout",
     "output_type": "stream",
     "text": [
      "[INFO] Keeping all rows: 89710 rows retained.\n"
     ]
    },
    {
     "name": "stdout",
     "output_type": "stream",
     "text": [
      "[INFO] Keeping all rows: 89710 rows retained.\n"
     ]
    },
    {
     "name": "stdout",
     "output_type": "stream",
     "text": [
      "[INFO] Keeping all rows: 89710 rows retained.\n"
     ]
    },
    {
     "data": {
      "text/html": [
       "<div>\n",
       "<style scoped>\n",
       "    .dataframe tbody tr th:only-of-type {\n",
       "        vertical-align: middle;\n",
       "    }\n",
       "\n",
       "    .dataframe tbody tr th {\n",
       "        vertical-align: top;\n",
       "    }\n",
       "\n",
       "    .dataframe thead th {\n",
       "        text-align: right;\n",
       "    }\n",
       "</style>\n",
       "<table border=\"1\" class=\"dataframe\">\n",
       "  <thead>\n",
       "    <tr style=\"text-align: right;\">\n",
       "      <th></th>\n",
       "      <th>run_no</th>\n",
       "      <th>universe_id</th>\n",
       "      <th>universe_settings</th>\n",
       "      <th>execution_time</th>\n",
       "      <th>test_size_n</th>\n",
       "      <th>test_size_frac</th>\n",
       "      <th>fair_main_equalized_odds_difference</th>\n",
       "      <th>fair_main_equalized_odds_ratio</th>\n",
       "      <th>fair_main_demographic_parity_difference</th>\n",
       "      <th>fair_main_demographic_parity_ratio</th>\n",
       "      <th>...</th>\n",
       "      <th>perf_grp_precision_0</th>\n",
       "      <th>perf_grp_precision_1</th>\n",
       "      <th>perf_grp_false positive rate_0</th>\n",
       "      <th>perf_grp_false positive rate_1</th>\n",
       "      <th>perf_grp_false negative rate_0</th>\n",
       "      <th>perf_grp_false negative rate_1</th>\n",
       "      <th>perf_grp_selection rate_0</th>\n",
       "      <th>perf_grp_selection rate_1</th>\n",
       "      <th>perf_grp_count_0</th>\n",
       "      <th>perf_grp_count_1</th>\n",
       "    </tr>\n",
       "  </thead>\n",
       "  <tbody>\n",
       "    <tr>\n",
       "      <th>0</th>\n",
       "      <td>14</td>\n",
       "      <td>92586e5505a31b62c965966bfbc68c33</td>\n",
       "      <td>{\"cutoff\": \"quantile_0.1\", \"eval_fairness_grou...</td>\n",
       "      <td>26.545319</td>\n",
       "      <td>89710</td>\n",
       "      <td>1.0</td>\n",
       "      <td>0.096431</td>\n",
       "      <td>0.900179</td>\n",
       "      <td>0.088589</td>\n",
       "      <td>0.908511</td>\n",
       "      <td>...</td>\n",
       "      <td>NaN</td>\n",
       "      <td>NaN</td>\n",
       "      <td>NaN</td>\n",
       "      <td>NaN</td>\n",
       "      <td>NaN</td>\n",
       "      <td>NaN</td>\n",
       "      <td>NaN</td>\n",
       "      <td>NaN</td>\n",
       "      <td>NaN</td>\n",
       "      <td>NaN</td>\n",
       "    </tr>\n",
       "    <tr>\n",
       "      <th>0</th>\n",
       "      <td>14</td>\n",
       "      <td>92586e5505a31b62c965966bfbc68c33</td>\n",
       "      <td>{\"cutoff\": \"quantile_0.1\", \"eval_fairness_grou...</td>\n",
       "      <td>26.545319</td>\n",
       "      <td>89710</td>\n",
       "      <td>1.0</td>\n",
       "      <td>0.096431</td>\n",
       "      <td>0.900179</td>\n",
       "      <td>0.088589</td>\n",
       "      <td>0.908511</td>\n",
       "      <td>...</td>\n",
       "      <td>0.117351</td>\n",
       "      <td>0.142104</td>\n",
       "      <td>0.966047</td>\n",
       "      <td>0.869615</td>\n",
       "      <td>0.014358</td>\n",
       "      <td>0.053939</td>\n",
       "      <td>0.968306</td>\n",
       "      <td>0.879717</td>\n",
       "      <td>20540.0</td>\n",
       "      <td>69170.0</td>\n",
       "    </tr>\n",
       "    <tr>\n",
       "      <th>0</th>\n",
       "      <td>14</td>\n",
       "      <td>92586e5505a31b62c965966bfbc68c33</td>\n",
       "      <td>{\"cutoff\": \"quantile_0.25\", \"eval_fairness_gro...</td>\n",
       "      <td>26.545319</td>\n",
       "      <td>89710</td>\n",
       "      <td>1.0</td>\n",
       "      <td>0.212911</td>\n",
       "      <td>0.761774</td>\n",
       "      <td>0.195371</td>\n",
       "      <td>0.783074</td>\n",
       "      <td>...</td>\n",
       "      <td>NaN</td>\n",
       "      <td>NaN</td>\n",
       "      <td>NaN</td>\n",
       "      <td>NaN</td>\n",
       "      <td>NaN</td>\n",
       "      <td>NaN</td>\n",
       "      <td>NaN</td>\n",
       "      <td>NaN</td>\n",
       "      <td>NaN</td>\n",
       "      <td>NaN</td>\n",
       "    </tr>\n",
       "    <tr>\n",
       "      <th>0</th>\n",
       "      <td>14</td>\n",
       "      <td>92586e5505a31b62c965966bfbc68c33</td>\n",
       "      <td>{\"cutoff\": \"quantile_0.25\", \"eval_fairness_gro...</td>\n",
       "      <td>26.545319</td>\n",
       "      <td>89710</td>\n",
       "      <td>1.0</td>\n",
       "      <td>0.212911</td>\n",
       "      <td>0.761774</td>\n",
       "      <td>0.195371</td>\n",
       "      <td>0.783074</td>\n",
       "      <td>...</td>\n",
       "      <td>0.122061</td>\n",
       "      <td>0.162208</td>\n",
       "      <td>0.893738</td>\n",
       "      <td>0.680826</td>\n",
       "      <td>0.046453</td>\n",
       "      <td>0.134245</td>\n",
       "      <td>0.900633</td>\n",
       "      <td>0.705262</td>\n",
       "      <td>20540.0</td>\n",
       "      <td>69170.0</td>\n",
       "    </tr>\n",
       "  </tbody>\n",
       "</table>\n",
       "<p>4 rows × 50 columns</p>\n",
       "</div>"
      ],
      "text/plain": [
       "  run_no                       universe_id  \\\n",
       "0     14  92586e5505a31b62c965966bfbc68c33   \n",
       "0     14  92586e5505a31b62c965966bfbc68c33   \n",
       "0     14  92586e5505a31b62c965966bfbc68c33   \n",
       "0     14  92586e5505a31b62c965966bfbc68c33   \n",
       "\n",
       "                                   universe_settings  execution_time  \\\n",
       "0  {\"cutoff\": \"quantile_0.1\", \"eval_fairness_grou...       26.545319   \n",
       "0  {\"cutoff\": \"quantile_0.1\", \"eval_fairness_grou...       26.545319   \n",
       "0  {\"cutoff\": \"quantile_0.25\", \"eval_fairness_gro...       26.545319   \n",
       "0  {\"cutoff\": \"quantile_0.25\", \"eval_fairness_gro...       26.545319   \n",
       "\n",
       "   test_size_n  test_size_frac  fair_main_equalized_odds_difference  \\\n",
       "0        89710             1.0                             0.096431   \n",
       "0        89710             1.0                             0.096431   \n",
       "0        89710             1.0                             0.212911   \n",
       "0        89710             1.0                             0.212911   \n",
       "\n",
       "   fair_main_equalized_odds_ratio  fair_main_demographic_parity_difference  \\\n",
       "0                        0.900179                                 0.088589   \n",
       "0                        0.900179                                 0.088589   \n",
       "0                        0.761774                                 0.195371   \n",
       "0                        0.761774                                 0.195371   \n",
       "\n",
       "   fair_main_demographic_parity_ratio  ...  perf_grp_precision_0  \\\n",
       "0                            0.908511  ...                   NaN   \n",
       "0                            0.908511  ...              0.117351   \n",
       "0                            0.783074  ...                   NaN   \n",
       "0                            0.783074  ...              0.122061   \n",
       "\n",
       "   perf_grp_precision_1  perf_grp_false positive rate_0  \\\n",
       "0                   NaN                             NaN   \n",
       "0              0.142104                        0.966047   \n",
       "0                   NaN                             NaN   \n",
       "0              0.162208                        0.893738   \n",
       "\n",
       "   perf_grp_false positive rate_1  perf_grp_false negative rate_0  \\\n",
       "0                             NaN                             NaN   \n",
       "0                        0.869615                        0.014358   \n",
       "0                             NaN                             NaN   \n",
       "0                        0.680826                        0.046453   \n",
       "\n",
       "   perf_grp_false negative rate_1  perf_grp_selection rate_0  \\\n",
       "0                             NaN                        NaN   \n",
       "0                        0.053939                   0.968306   \n",
       "0                             NaN                        NaN   \n",
       "0                        0.134245                   0.900633   \n",
       "\n",
       "   perf_grp_selection rate_1  perf_grp_count_0  perf_grp_count_1  \n",
       "0                        NaN               NaN               NaN  \n",
       "0                   0.879717           20540.0           69170.0  \n",
       "0                        NaN               NaN               NaN  \n",
       "0                   0.705262           20540.0           69170.0  \n",
       "\n",
       "[4 rows x 50 columns]"
      ]
     },
     "execution_count": 79,
     "metadata": {},
     "output_type": "execute_result"
    }
   ],
   "source": [
    "final_output = universe_analysis.generate_final_output(\n",
    "    y_pred_prob=probs_test,\n",
    "    y_test=y_true,\n",
    "    org_test=org_test,\n",
    "    filter_data=filter_sub_universe_data,\n",
    "    cp_metrics_df=cp_metrics_df,\n",
    "    save=True,\n",
    ")\n",
    "final_output"
   ]
  },
  {
   "cell_type": "code",
   "execution_count": null,
   "id": "721ff514-cb11-46f8-b6fc-50392f74b5cb",
   "metadata": {
    "papermill": {
     "duration": 0.038124,
     "end_time": "2025-07-30T20:50:51.585731",
     "exception": false,
     "start_time": "2025-07-30T20:50:51.547607",
     "status": "completed"
    },
    "tags": []
   },
   "outputs": [],
   "source": []
  }
 ],
 "metadata": {
  "celltoolbar": "Tags",
  "kernelspec": {
   "display_name": "Python (CMA Fairness)",
   "language": "python",
   "name": "cma_fair_env"
  },
  "language_info": {
   "codemirror_mode": {
    "name": "ipython",
    "version": 3
   },
   "file_extension": ".py",
   "mimetype": "text/x-python",
   "name": "python",
   "nbconvert_exporter": "python",
   "pygments_lexer": "ipython3",
   "version": "3.10.12"
  },
  "papermill": {
   "default_parameters": {},
   "duration": 40.879128,
   "end_time": "2025-07-30T20:50:52.233203",
   "environment_variables": {},
   "exception": null,
   "input_path": "universe_analysis.ipynb",
   "output_path": "output/runs/14/notebooks/m_14-92586e5505a31b62c965966bfbc68c33.ipynb",
   "parameters": {
    "output_dir": "output",
    "run_no": "14",
    "seed": "2023",
    "universe": "{\"cutoff\": [\"quantile_0.1\", \"quantile_0.25\"], \"eval_fairness_grouping\": [\"majority-minority\", \"nationality-all\"], \"exclude_features\": \"none\", \"exclude_subgroups\": \"keep-all\", \"model\": \"logreg\", \"scale\": \"do-not-scale\", \"training_size\": \"5k\", \"training_year\": \"2014\"}",
    "universe_id": "92586e5505a31b62c965966bfbc68c33"
   },
   "start_time": "2025-07-30T20:50:11.354075",
   "version": "2.6.0"
  }
 },
 "nbformat": 4,
 "nbformat_minor": 5
}