{
 "cells": [
  {
   "cell_type": "code",
   "execution_count": 1,
   "id": "f159f837-637b-42ba-96b5-ec9a68c44524",
   "metadata": {
    "execution": {
     "iopub.execute_input": "2025-07-30T20:51:38.421096Z",
     "iopub.status.busy": "2025-07-30T20:51:38.420563Z",
     "iopub.status.idle": "2025-07-30T20:51:38.433534Z",
     "shell.execute_reply": "2025-07-30T20:51:38.432542Z"
    },
    "papermill": {
     "duration": 0.036283,
     "end_time": "2025-07-30T20:51:38.434927",
     "exception": false,
     "start_time": "2025-07-30T20:51:38.398644",
     "status": "completed"
    },
    "tags": []
   },
   "outputs": [
    {
     "name": "stdout",
     "output_type": "stream",
     "text": [
      "/dss/dsshome1/0C/ra93lal2/cma/CMA_Fairness_v2\n"
     ]
    },
    {
     "name": "stderr",
     "output_type": "stream",
     "text": [
      "/dss/dsshome1/0C/ra93lal2/.local/share/virtualenvs/CMA_Fairness_v2-3j10GkSs/lib/python3.10/site-packages/IPython/core/magics/osm.py:393: UserWarning: This is now an optional IPython functionality, using bookmarks requires you to install the `pickleshare` library.\n",
      "  bkms = self.shell.db.get('bookmarks', {})\n",
      "/dss/dsshome1/0C/ra93lal2/.local/share/virtualenvs/CMA_Fairness_v2-3j10GkSs/lib/python3.10/site-packages/IPython/core/magics/osm.py:417: UserWarning: This is now an optional IPython functionality, setting dhist requires you to install the `pickleshare` library.\n",
      "  self.shell.db['dhist'] = compress_dhist(dhist)[-100:]\n"
     ]
    }
   ],
   "source": [
    "%cd ~/cma/CMA_Fairness_v2"
   ]
  },
  {
   "cell_type": "markdown",
   "id": "de2603b9",
   "metadata": {
    "papermill": {
     "duration": 0.010974,
     "end_time": "2025-07-30T20:51:38.457152",
     "exception": false,
     "start_time": "2025-07-30T20:51:38.446178",
     "status": "completed"
    },
    "tags": []
   },
   "source": [
    "The following cell holds the definition of our parameters, these values can be overriden by rendering the with e.g. the following command:\n",
    "\n",
    "papermill -p alpha 0.2 -p ratio 0.3 universe_analysis.ipynb output/test_run.ipynb"
   ]
  },
  {
   "cell_type": "code",
   "execution_count": 2,
   "id": "a80968a0-40bb-4fa9-85ef-2d5eefb01975",
   "metadata": {
    "execution": {
     "iopub.execute_input": "2025-07-30T20:51:38.501061Z",
     "iopub.status.busy": "2025-07-30T20:51:38.500432Z",
     "iopub.status.idle": "2025-07-30T20:51:38.505912Z",
     "shell.execute_reply": "2025-07-30T20:51:38.504893Z"
    },
    "papermill": {
     "duration": 0.029397,
     "end_time": "2025-07-30T20:51:38.507428",
     "exception": false,
     "start_time": "2025-07-30T20:51:38.478031",
     "status": "completed"
    },
    "tags": []
   },
   "outputs": [
    {
     "name": "stdout",
     "output_type": "stream",
     "text": [
      "Current working directory: /dss/dsshome1/0C/ra93lal2/cma/CMA_Fairness_v2\n"
     ]
    }
   ],
   "source": [
    "import os\n",
    "print(\"Current working directory:\", os.getcwd())"
   ]
  },
  {
   "cell_type": "code",
   "execution_count": 3,
   "id": "2dce4c03",
   "metadata": {
    "execution": {
     "iopub.execute_input": "2025-07-30T20:51:38.595406Z",
     "iopub.status.busy": "2025-07-30T20:51:38.594930Z",
     "iopub.status.idle": "2025-07-30T20:51:38.601296Z",
     "shell.execute_reply": "2025-07-30T20:51:38.600356Z"
    },
    "papermill": {
     "duration": 0.028341,
     "end_time": "2025-07-30T20:51:38.602919",
     "exception": false,
     "start_time": "2025-07-30T20:51:38.574578",
     "status": "completed"
    },
    "tags": [
     "parameters"
    ]
   },
   "outputs": [],
   "source": [
    "run_no = 0\n",
    "universe_id = \"test\"\n",
    "universe = {\n",
    "    \"training_size\": \"25k\", # \"25k\", \"5k\", \"1k\"\n",
    "    \"training_year\": \"2014\", # \"2014\", \"2012_14\", \"2010_14\"\n",
    "    \"scale\": \"scale\", # \"scale\", \"do-not-scale\",\n",
    "    #\"stratify_split\": \"target\", # \"none\", \"target\", \"protected-attribute\", \"both\",\n",
    "    \"model\": \"elasticnet\", # \"logreg\", \"penalized_logreg\", \"rf\", \"gbm\", \"elasticnet\"\n",
    "    \"cutoff\": [\"quantile_0.15\", \"quantile_0.30\"],\n",
    "    \"exclude_features\": \"age\", # \"none\", \"nationality\", \"sex\", \"nationality-sex\", \"age\"\n",
    "    \"exclude_subgroups\": \"keep-all\", # \"keep-all\", \"drop-non-german\"\n",
    "    \"eval_fairness_grouping\": [\"majority-minority\", \"nationality-all\"]\n",
    "}\n",
    "\n",
    "output_dir=\"./output\"\n",
    "seed=0"
   ]
  },
  {
   "cell_type": "code",
   "execution_count": 4,
   "id": "6ed91140",
   "metadata": {
    "execution": {
     "iopub.execute_input": "2025-07-30T20:51:38.643660Z",
     "iopub.status.busy": "2025-07-30T20:51:38.642972Z",
     "iopub.status.idle": "2025-07-30T20:51:38.648598Z",
     "shell.execute_reply": "2025-07-30T20:51:38.647565Z"
    },
    "papermill": {
     "duration": 0.027632,
     "end_time": "2025-07-30T20:51:38.650135",
     "exception": false,
     "start_time": "2025-07-30T20:51:38.622503",
     "status": "completed"
    },
    "tags": [
     "injected-parameters"
    ]
   },
   "outputs": [],
   "source": [
    "# Parameters\n",
    "universe_id = \"a72b65934a646b8ea32584245ccef2e6\"\n",
    "run_no = \"14\"\n",
    "universe = \"{\\\"cutoff\\\": [\\\"quantile_0.1\\\", \\\"quantile_0.25\\\"], \\\"eval_fairness_grouping\\\": [\\\"majority-minority\\\", \\\"nationality-all\\\"], \\\"exclude_features\\\": \\\"nationality-sex\\\", \\\"exclude_subgroups\\\": \\\"keep-all\\\", \\\"model\\\": \\\"penalized_logreg\\\", \\\"scale\\\": \\\"do-not-scale\\\", \\\"training_size\\\": \\\"5k\\\", \\\"training_year\\\": \\\"2014\\\"}\"\n",
    "output_dir = \"output\"\n",
    "seed = \"2023\"\n"
   ]
  },
  {
   "cell_type": "code",
   "execution_count": 5,
   "id": "1650acaf",
   "metadata": {
    "execution": {
     "iopub.execute_input": "2025-07-30T20:51:38.692188Z",
     "iopub.status.busy": "2025-07-30T20:51:38.691362Z",
     "iopub.status.idle": "2025-07-30T20:51:38.696666Z",
     "shell.execute_reply": "2025-07-30T20:51:38.695649Z"
    },
    "papermill": {
     "duration": 0.027931,
     "end_time": "2025-07-30T20:51:38.698407",
     "exception": false,
     "start_time": "2025-07-30T20:51:38.670476",
     "status": "completed"
    },
    "tags": []
   },
   "outputs": [],
   "source": [
    "import json\n",
    "# Parse universe into dict if it is passed as a string\n",
    "if isinstance(universe, str):\n",
    "    universe = json.loads(universe)"
   ]
  },
  {
   "cell_type": "code",
   "execution_count": 6,
   "id": "16620c48",
   "metadata": {
    "execution": {
     "iopub.execute_input": "2025-07-30T20:51:38.741333Z",
     "iopub.status.busy": "2025-07-30T20:51:38.740634Z",
     "iopub.status.idle": "2025-07-30T20:51:38.788605Z",
     "shell.execute_reply": "2025-07-30T20:51:38.787703Z"
    },
    "papermill": {
     "duration": 0.071204,
     "end_time": "2025-07-30T20:51:38.790501",
     "exception": false,
     "start_time": "2025-07-30T20:51:38.719297",
     "status": "completed"
    },
    "tags": []
   },
   "outputs": [],
   "source": [
    "# Auto-reload the custom package\n",
    "%load_ext autoreload\n",
    "%autoreload 1\n",
    "%aimport fairness_multiverse"
   ]
  },
  {
   "cell_type": "code",
   "execution_count": 7,
   "id": "01c5c9f3",
   "metadata": {
    "execution": {
     "iopub.execute_input": "2025-07-30T20:51:38.832948Z",
     "iopub.status.busy": "2025-07-30T20:51:38.832488Z",
     "iopub.status.idle": "2025-07-30T20:51:40.757266Z",
     "shell.execute_reply": "2025-07-30T20:51:40.756283Z"
    },
    "papermill": {
     "duration": 1.947823,
     "end_time": "2025-07-30T20:51:40.759178",
     "exception": false,
     "start_time": "2025-07-30T20:51:38.811355",
     "status": "completed"
    },
    "tags": []
   },
   "outputs": [],
   "source": [
    "from fairness_multiverse.universe import UniverseAnalysis\n",
    "\n",
    "universe_analysis = UniverseAnalysis(\n",
    "    run_no = run_no,\n",
    "    universe_id = universe_id,\n",
    "    universe = universe,\n",
    "    output_dir=output_dir,\n",
    ")"
   ]
  },
  {
   "cell_type": "code",
   "execution_count": 8,
   "id": "106241f5",
   "metadata": {
    "execution": {
     "iopub.execute_input": "2025-07-30T20:51:40.801005Z",
     "iopub.status.busy": "2025-07-30T20:51:40.800504Z",
     "iopub.status.idle": "2025-07-30T20:51:40.807656Z",
     "shell.execute_reply": "2025-07-30T20:51:40.806684Z"
    },
    "papermill": {
     "duration": 0.030103,
     "end_time": "2025-07-30T20:51:40.809271",
     "exception": false,
     "start_time": "2025-07-30T20:51:40.779168",
     "status": "completed"
    },
    "tags": []
   },
   "outputs": [
    {
     "name": "stdout",
     "output_type": "stream",
     "text": [
      "Using Seed: 2023\n"
     ]
    }
   ],
   "source": [
    "import numpy as np\n",
    "parsed_seed = int(seed)\n",
    "np.random.seed(parsed_seed)\n",
    "print(f\"Using Seed: {parsed_seed}\")"
   ]
  },
  {
   "cell_type": "markdown",
   "id": "e0ebdc57",
   "metadata": {
    "papermill": {
     "duration": 0.019146,
     "end_time": "2025-07-30T20:51:40.849067",
     "exception": false,
     "start_time": "2025-07-30T20:51:40.829921",
     "status": "completed"
    },
    "tags": []
   },
   "source": [
    "# Loading Data"
   ]
  },
  {
   "cell_type": "markdown",
   "id": "681925a3",
   "metadata": {
    "papermill": {
     "duration": 0.020292,
     "end_time": "2025-07-30T20:51:40.889825",
     "exception": false,
     "start_time": "2025-07-30T20:51:40.869533",
     "status": "completed"
    },
    "tags": []
   },
   "source": [
    "Load siab_train, siab_test, siab_calib and/or \n",
    "load siab_train_features, siab_train_labels"
   ]
  },
  {
   "cell_type": "code",
   "execution_count": 9,
   "id": "f0496b8a",
   "metadata": {
    "execution": {
     "iopub.execute_input": "2025-07-30T20:51:40.931555Z",
     "iopub.status.busy": "2025-07-30T20:51:40.931045Z",
     "iopub.status.idle": "2025-07-30T20:51:54.011051Z",
     "shell.execute_reply": "2025-07-30T20:51:54.009915Z"
    },
    "papermill": {
     "duration": 13.102972,
     "end_time": "2025-07-30T20:51:54.012826",
     "exception": false,
     "start_time": "2025-07-30T20:51:40.909854",
     "status": "completed"
    },
    "tags": []
   },
   "outputs": [
    {
     "name": "stdout",
     "output_type": "stream",
     "text": [
      "Loading SIAB data from cache: data/siab_cached.csv.gz\n"
     ]
    },
    {
     "name": "stdout",
     "output_type": "stream",
     "text": [
      "(643690, 164)\n"
     ]
    }
   ],
   "source": [
    "from pathlib import Path\n",
    "import pandas as pd\n",
    "\n",
    "# File paths\n",
    "raw_file = Path(\"data/raw/siab.csv\")\n",
    "cache_file = Path(\"data/siab_cached.csv.gz\")\n",
    "\n",
    "# Ensure cache directory exists\n",
    "cache_file.parent.mkdir(parents=True, exist_ok=True)\n",
    "\n",
    "# Load with simple caching\n",
    "if cache_file.exists():\n",
    "    print(f\"Loading SIAB data from cache: {cache_file}\")\n",
    "    siab = pd.read_csv(cache_file, compression='gzip')\n",
    "else:\n",
    "    print(f\"Cache not found. Reading raw SIAB data: {raw_file}\")\n",
    "    siab = pd.read_csv(raw_file)\n",
    "    siab.to_csv(cache_file, index=False, compression='gzip')\n",
    "    print(f\"Cached SIAB data to: {cache_file}\")\n",
    "\n",
    "# Now use `siab` DataFrame as needed\n",
    "print(siab.shape)"
   ]
  },
  {
   "cell_type": "code",
   "execution_count": 10,
   "id": "db0ca512-5f53-4dba-abdb-a2888bca41ba",
   "metadata": {
    "execution": {
     "iopub.execute_input": "2025-07-30T20:51:54.072877Z",
     "iopub.status.busy": "2025-07-30T20:51:54.072329Z",
     "iopub.status.idle": "2025-07-30T20:51:54.078322Z",
     "shell.execute_reply": "2025-07-30T20:51:54.077290Z"
    },
    "papermill": {
     "duration": 0.031901,
     "end_time": "2025-07-30T20:51:54.080127",
     "exception": false,
     "start_time": "2025-07-30T20:51:54.048226",
     "status": "completed"
    },
    "tags": []
   },
   "outputs": [],
   "source": [
    "#siab"
   ]
  },
  {
   "cell_type": "code",
   "execution_count": 11,
   "id": "a0edb063",
   "metadata": {
    "execution": {
     "iopub.execute_input": "2025-07-30T20:51:54.117438Z",
     "iopub.status.busy": "2025-07-30T20:51:54.116845Z",
     "iopub.status.idle": "2025-07-30T20:51:54.121723Z",
     "shell.execute_reply": "2025-07-30T20:51:54.120741Z"
    },
    "papermill": {
     "duration": 0.031495,
     "end_time": "2025-07-30T20:51:54.123799",
     "exception": false,
     "start_time": "2025-07-30T20:51:54.092304",
     "status": "completed"
    },
    "tags": []
   },
   "outputs": [],
   "source": [
    "#import pandas as pd\n",
    "#\n",
    "#X_train = pd.read_csv(\"./data/X_train.csv\")\n",
    "#y_train = pd.read_csv(\"./data/y_train.csv\")"
   ]
  },
  {
   "cell_type": "code",
   "execution_count": 12,
   "id": "63d08085",
   "metadata": {
    "execution": {
     "iopub.execute_input": "2025-07-30T20:51:54.152852Z",
     "iopub.status.busy": "2025-07-30T20:51:54.152157Z",
     "iopub.status.idle": "2025-07-30T20:51:54.967683Z",
     "shell.execute_reply": "2025-07-30T20:51:54.966614Z"
    },
    "papermill": {
     "duration": 0.830484,
     "end_time": "2025-07-30T20:51:54.969942",
     "exception": false,
     "start_time": "2025-07-30T20:51:54.139458",
     "status": "completed"
    },
    "tags": []
   },
   "outputs": [],
   "source": [
    "#X_test = pd.read_csv(\"./data/X_test.csv\")\n",
    "#y_true = pd.read_csv(\"./data/y_test.csv\")"
   ]
  },
  {
   "cell_type": "code",
   "execution_count": 13,
   "id": "98a8d0fa-1d3d-4ed8-bb2c-281470e24add",
   "metadata": {
    "execution": {
     "iopub.execute_input": "2025-07-30T20:51:55.019150Z",
     "iopub.status.busy": "2025-07-30T20:51:55.018128Z",
     "iopub.status.idle": "2025-07-30T20:51:55.023451Z",
     "shell.execute_reply": "2025-07-30T20:51:55.022461Z"
    },
    "papermill": {
     "duration": 0.030777,
     "end_time": "2025-07-30T20:51:55.025245",
     "exception": false,
     "start_time": "2025-07-30T20:51:54.994468",
     "status": "completed"
    },
    "tags": []
   },
   "outputs": [],
   "source": [
    "# Calibration data for conformal\n",
    "#X_calib = pd.read_csv(\"./data/X_calib.csv\")\n",
    "#y_calib = pd.read_csv(\"./data/y_calib.csv\")"
   ]
  },
  {
   "cell_type": "markdown",
   "id": "997051c5-15bd-4b69-9786-c3001a3ce484",
   "metadata": {
    "papermill": {
     "duration": 0.023053,
     "end_time": "2025-07-30T20:51:55.069546",
     "exception": false,
     "start_time": "2025-07-30T20:51:55.046493",
     "status": "completed"
    },
    "tags": []
   },
   "source": [
    "# Splitting Data and Setting Training Data Size"
   ]
  },
  {
   "cell_type": "code",
   "execution_count": 14,
   "id": "e993b61f-042d-41a6-8c81-f55681f86335",
   "metadata": {
    "execution": {
     "iopub.execute_input": "2025-07-30T20:51:55.130178Z",
     "iopub.status.busy": "2025-07-30T20:51:55.129565Z",
     "iopub.status.idle": "2025-07-30T20:51:55.144553Z",
     "shell.execute_reply": "2025-07-30T20:51:55.143405Z"
    },
    "papermill": {
     "duration": 0.054835,
     "end_time": "2025-07-30T20:51:55.146642",
     "exception": false,
     "start_time": "2025-07-30T20:51:55.091807",
     "status": "completed"
    },
    "tags": []
   },
   "outputs": [],
   "source": [
    "def sample_by_year_size(df,\n",
    "                        training_year: str,\n",
    "                        training_size: str,\n",
    "                        random_state: int = 42):\n",
    "    # --- parse training_year into a list of int years ---\n",
    "    if \"_\" in training_year:\n",
    "        start_str, end_str = training_year.split(\"_\", 1)\n",
    "        start = int(start_str)\n",
    "        end   = int(end_str) if len(end_str) == 4 else (int(end_str) + (start // 100)*100)\n",
    "        years = list(range(start, end + 1))\n",
    "    else:\n",
    "        years = [int(training_year)]\n",
    "\n",
    "    df = df[df[\"year\"].isin(years)].reset_index(drop=True)\n",
    "\n",
    "    # --- map training_size to total number of samples ---\n",
    "    total_map = {\"25k\": 25_000, \"5k\": 5_000, \"1k\": 1_000}\n",
    "    if training_size not in total_map:\n",
    "        return df  # e.g. \"all\"\n",
    "\n",
    "    total_samples = total_map[training_size]\n",
    "    n_years       = len(years)\n",
    "    base          = total_samples // n_years\n",
    "    remainder     = total_samples % n_years\n",
    "\n",
    "    # --- build a dict: year -> how many to sample ---\n",
    "    # give +1 to the first `remainder` years in ascending order\n",
    "    quotas = {\n",
    "        year: base + (1 if idx < remainder else 0)\n",
    "        for idx, year in enumerate(sorted(years))\n",
    "    }\n",
    "\n",
    "    # --- sample per‐year according to the quota dict ---\n",
    "    sampled = (\n",
    "        df\n",
    "        .groupby(\"year\", group_keys=False)\n",
    "        .apply(lambda grp: grp.sample(\n",
    "            n=min(len(grp), quotas[grp.name]),\n",
    "            random_state=random_state))\n",
    "        .reset_index(drop=True)\n",
    "    )\n",
    "\n",
    "    return sampled"
   ]
  },
  {
   "cell_type": "code",
   "execution_count": 15,
   "id": "c0ccd338-0e02-41f3-a09d-f56f9266e3fb",
   "metadata": {
    "execution": {
     "iopub.execute_input": "2025-07-30T20:51:55.193515Z",
     "iopub.status.busy": "2025-07-30T20:51:55.193060Z",
     "iopub.status.idle": "2025-07-30T20:51:55.197449Z",
     "shell.execute_reply": "2025-07-30T20:51:55.196689Z"
    },
    "papermill": {
     "duration": 0.028636,
     "end_time": "2025-07-30T20:51:55.198698",
     "exception": false,
     "start_time": "2025-07-30T20:51:55.170062",
     "status": "completed"
    },
    "tags": []
   },
   "outputs": [],
   "source": [
    "#universe[\"training_size\"]"
   ]
  },
  {
   "cell_type": "code",
   "execution_count": 16,
   "id": "ca707fd7-8047-4acd-bfa5-66248fbbf8e6",
   "metadata": {
    "execution": {
     "iopub.execute_input": "2025-07-30T20:51:55.227930Z",
     "iopub.status.busy": "2025-07-30T20:51:55.227535Z",
     "iopub.status.idle": "2025-07-30T20:51:55.233059Z",
     "shell.execute_reply": "2025-07-30T20:51:55.231915Z"
    },
    "papermill": {
     "duration": 0.02553,
     "end_time": "2025-07-30T20:51:55.236779",
     "exception": false,
     "start_time": "2025-07-30T20:51:55.211249",
     "status": "completed"
    },
    "tags": []
   },
   "outputs": [],
   "source": [
    "#universe[\"training_year\"]"
   ]
  },
  {
   "cell_type": "code",
   "execution_count": 17,
   "id": "aea9c6ef-6f46-42c8-85eb-5a62025c1508",
   "metadata": {
    "execution": {
     "iopub.execute_input": "2025-07-30T20:51:55.285389Z",
     "iopub.status.busy": "2025-07-30T20:51:55.284649Z",
     "iopub.status.idle": "2025-07-30T20:51:55.555380Z",
     "shell.execute_reply": "2025-07-30T20:51:55.554325Z"
    },
    "papermill": {
     "duration": 0.297291,
     "end_time": "2025-07-30T20:51:55.557329",
     "exception": false,
     "start_time": "2025-07-30T20:51:55.260038",
     "status": "completed"
    },
    "tags": []
   },
   "outputs": [],
   "source": [
    "siab_train = sample_by_year_size(siab,\n",
    "                               training_year=universe[\"training_year\"],\n",
    "                               training_size=universe[\"training_size\"])"
   ]
  },
  {
   "cell_type": "code",
   "execution_count": 18,
   "id": "8d3afb32-789d-442c-8d5d-9f5aa8dd2eed",
   "metadata": {
    "execution": {
     "iopub.execute_input": "2025-07-30T20:51:55.606157Z",
     "iopub.status.busy": "2025-07-30T20:51:55.605628Z",
     "iopub.status.idle": "2025-07-30T20:51:55.611474Z",
     "shell.execute_reply": "2025-07-30T20:51:55.610359Z"
    },
    "papermill": {
     "duration": 0.031496,
     "end_time": "2025-07-30T20:51:55.613383",
     "exception": false,
     "start_time": "2025-07-30T20:51:55.581887",
     "status": "completed"
    },
    "tags": []
   },
   "outputs": [],
   "source": [
    "#siab_train.shape"
   ]
  },
  {
   "cell_type": "code",
   "execution_count": 19,
   "id": "d582db68-1a4c-47fb-84fc-08518dc1975a",
   "metadata": {
    "execution": {
     "iopub.execute_input": "2025-07-30T20:51:55.662021Z",
     "iopub.status.busy": "2025-07-30T20:51:55.661563Z",
     "iopub.status.idle": "2025-07-30T20:51:55.666302Z",
     "shell.execute_reply": "2025-07-30T20:51:55.665331Z"
    },
    "papermill": {
     "duration": 0.030677,
     "end_time": "2025-07-30T20:51:55.668009",
     "exception": false,
     "start_time": "2025-07-30T20:51:55.637332",
     "status": "completed"
    },
    "tags": []
   },
   "outputs": [],
   "source": [
    "#display(siab_train.groupby(\"year\").size())"
   ]
  },
  {
   "cell_type": "code",
   "execution_count": 20,
   "id": "a561edb4-d032-42cb-8256-22eac1111c64",
   "metadata": {
    "execution": {
     "iopub.execute_input": "2025-07-30T20:51:55.714487Z",
     "iopub.status.busy": "2025-07-30T20:51:55.713960Z",
     "iopub.status.idle": "2025-07-30T20:51:55.965076Z",
     "shell.execute_reply": "2025-07-30T20:51:55.964024Z"
    },
    "papermill": {
     "duration": 0.27846,
     "end_time": "2025-07-30T20:51:55.969123",
     "exception": false,
     "start_time": "2025-07-30T20:51:55.690663",
     "status": "completed"
    },
    "tags": []
   },
   "outputs": [],
   "source": [
    "#siab_train = siab_s[siab_s.year < 2015]\n",
    "siab_calib = siab[siab.year == 2015]\n",
    "siab_test = siab[siab.year == 2016]"
   ]
  },
  {
   "cell_type": "code",
   "execution_count": 21,
   "id": "472de16f-c3db-4916-846b-1f0de9cf1746",
   "metadata": {
    "execution": {
     "iopub.execute_input": "2025-07-30T20:51:56.016216Z",
     "iopub.status.busy": "2025-07-30T20:51:56.015693Z",
     "iopub.status.idle": "2025-07-30T20:51:56.024165Z",
     "shell.execute_reply": "2025-07-30T20:51:56.023199Z"
    },
    "papermill": {
     "duration": 0.034009,
     "end_time": "2025-07-30T20:51:56.026021",
     "exception": false,
     "start_time": "2025-07-30T20:51:55.992012",
     "status": "completed"
    },
    "tags": []
   },
   "outputs": [],
   "source": [
    "X_train = siab_train.iloc[:,4:164]\n",
    "y_train = siab_train.iloc[:, [3]]"
   ]
  },
  {
   "cell_type": "code",
   "execution_count": 22,
   "id": "828c96af-f43a-4ed6-ba47-8ac73a47d56c",
   "metadata": {
    "execution": {
     "iopub.execute_input": "2025-07-30T20:51:56.076250Z",
     "iopub.status.busy": "2025-07-30T20:51:56.075814Z",
     "iopub.status.idle": "2025-07-30T20:51:56.122686Z",
     "shell.execute_reply": "2025-07-30T20:51:56.121956Z"
    },
    "papermill": {
     "duration": 0.071441,
     "end_time": "2025-07-30T20:51:56.124009",
     "exception": false,
     "start_time": "2025-07-30T20:51:56.052568",
     "status": "completed"
    },
    "tags": []
   },
   "outputs": [],
   "source": [
    "X_calib = siab_calib.iloc[:,4:164]\n",
    "y_calib = siab_calib.iloc[:, [3]]"
   ]
  },
  {
   "cell_type": "code",
   "execution_count": 23,
   "id": "c34be9c3-6bd6-476e-acd3-845840e303be",
   "metadata": {
    "execution": {
     "iopub.execute_input": "2025-07-30T20:51:56.148165Z",
     "iopub.status.busy": "2025-07-30T20:51:56.147762Z",
     "iopub.status.idle": "2025-07-30T20:51:56.198927Z",
     "shell.execute_reply": "2025-07-30T20:51:56.197819Z"
    },
    "papermill": {
     "duration": 0.064184,
     "end_time": "2025-07-30T20:51:56.200548",
     "exception": false,
     "start_time": "2025-07-30T20:51:56.136364",
     "status": "completed"
    },
    "tags": []
   },
   "outputs": [],
   "source": [
    "X_test = siab_test.iloc[:,4:164]\n",
    "y_true = siab_test.iloc[:, [3]]"
   ]
  },
  {
   "cell_type": "markdown",
   "id": "9901737e-04df-44f0-9100-f5ad144ed040",
   "metadata": {
    "papermill": {
     "duration": 0.020361,
     "end_time": "2025-07-30T20:51:56.241627",
     "exception": false,
     "start_time": "2025-07-30T20:51:56.221266",
     "status": "completed"
    },
    "tags": []
   },
   "source": [
    "# Splitting Data and Setting Training Data Size OLD VERSION"
   ]
  },
  {
   "cell_type": "code",
   "execution_count": 24,
   "id": "acbc8f7d-8fc8-4e86-8c59-5dcb0f58384b",
   "metadata": {
    "execution": {
     "iopub.execute_input": "2025-07-30T20:51:56.290694Z",
     "iopub.status.busy": "2025-07-30T20:51:56.289936Z",
     "iopub.status.idle": "2025-07-30T20:51:56.295716Z",
     "shell.execute_reply": "2025-07-30T20:51:56.294703Z"
    },
    "papermill": {
     "duration": 0.029601,
     "end_time": "2025-07-30T20:51:56.297117",
     "exception": false,
     "start_time": "2025-07-30T20:51:56.267516",
     "status": "completed"
    },
    "tags": []
   },
   "outputs": [],
   "source": [
    "#def sample_by_year(df, training_size, random_state=42):\n",
    "#    if training_size == \"2014\":\n",
    "#        return df[df[\"year\"] == 2014].reset_index(drop=True)\n",
    "#    \n",
    "#    size_map = {\n",
    "#        \"25k\": 5000,\n",
    "#        \"5k\": 1000,\n",
    "#        \"1k\": 200\n",
    "#    }\n",
    "#\n",
    "#    if training_size not in size_map:\n",
    "#        return df.reset_index(drop=True)  # use all data\n",
    "#\n",
    "#    n_per_year = size_map[training_size]\n",
    "#    grouped = df.groupby(\"year\")\n",
    "#    sampled = grouped.apply(lambda x: x.sample(n=min(n_per_year, len(x)), random_state=random_state))\n",
    "#    return sampled.reset_index(drop=True)"
   ]
  },
  {
   "cell_type": "code",
   "execution_count": 25,
   "id": "6d931f52-beaf-43ff-9e78-9d44a448d54e",
   "metadata": {
    "execution": {
     "iopub.execute_input": "2025-07-30T20:51:56.336927Z",
     "iopub.status.busy": "2025-07-30T20:51:56.336503Z",
     "iopub.status.idle": "2025-07-30T20:51:56.341405Z",
     "shell.execute_reply": "2025-07-30T20:51:56.340524Z"
    },
    "papermill": {
     "duration": 0.033209,
     "end_time": "2025-07-30T20:51:56.342753",
     "exception": false,
     "start_time": "2025-07-30T20:51:56.309544",
     "status": "completed"
    },
    "tags": []
   },
   "outputs": [],
   "source": [
    "#siab_s = sample_by_year(siab, universe[\"training_size\"])"
   ]
  },
  {
   "cell_type": "code",
   "execution_count": 26,
   "id": "5db0a40e-a4e2-4920-be85-b12ae061d70d",
   "metadata": {
    "execution": {
     "iopub.execute_input": "2025-07-30T20:51:56.389124Z",
     "iopub.status.busy": "2025-07-30T20:51:56.388697Z",
     "iopub.status.idle": "2025-07-30T20:51:56.393433Z",
     "shell.execute_reply": "2025-07-30T20:51:56.392442Z"
    },
    "papermill": {
     "duration": 0.029078,
     "end_time": "2025-07-30T20:51:56.394954",
     "exception": false,
     "start_time": "2025-07-30T20:51:56.365876",
     "status": "completed"
    },
    "tags": []
   },
   "outputs": [],
   "source": [
    "#display(siab_s.groupby(\"year\").size())"
   ]
  },
  {
   "cell_type": "code",
   "execution_count": 27,
   "id": "e6c733c5",
   "metadata": {
    "execution": {
     "iopub.execute_input": "2025-07-30T20:51:56.440082Z",
     "iopub.status.busy": "2025-07-30T20:51:56.439524Z",
     "iopub.status.idle": "2025-07-30T20:51:56.528613Z",
     "shell.execute_reply": "2025-07-30T20:51:56.527561Z"
    },
    "papermill": {
     "duration": 0.111417,
     "end_time": "2025-07-30T20:51:56.530162",
     "exception": false,
     "start_time": "2025-07-30T20:51:56.418745",
     "status": "completed"
    },
    "tags": []
   },
   "outputs": [],
   "source": [
    "# Auxiliary data needed downstream in the pipeline\n",
    "\n",
    "org_train = X_train.copy()\n",
    "org_test = X_test.copy()\n",
    "org_calib = X_calib.copy()"
   ]
  },
  {
   "cell_type": "code",
   "execution_count": 28,
   "id": "1466abac-c6da-4492-a62f-4240ae3783af",
   "metadata": {
    "execution": {
     "iopub.execute_input": "2025-07-30T20:51:56.554590Z",
     "iopub.status.busy": "2025-07-30T20:51:56.554273Z",
     "iopub.status.idle": "2025-07-30T20:51:56.558476Z",
     "shell.execute_reply": "2025-07-30T20:51:56.557751Z"
    },
    "papermill": {
     "duration": 0.01736,
     "end_time": "2025-07-30T20:51:56.559989",
     "exception": false,
     "start_time": "2025-07-30T20:51:56.542629",
     "status": "completed"
    },
    "tags": []
   },
   "outputs": [],
   "source": [
    "# put in other script?\n",
    "# Group sizes\n",
    "\n",
    "#def calculate_percentages(df, df_name):\n",
    "#    total_entries = len(df)\n",
    "#\n",
    "#    female_pct = (df['frau1'] == 1).mean() * 100\n",
    "#    non_german_pct = ((df['maxdeutsch1'] == 0) & (df['maxdeutsch.Missing.'] == 0)).mean() * 100\n",
    "#    non_german_male_pct = ((df['frau1'] == 0) & (df['maxdeutsch1'] == 0) & (df['maxdeutsch.Missing.'] == 0)).mean() * 100\n",
    "#    non_german_female_pct = ((df['frau1'] == 1) & (df['maxdeutsch1'] == 0) & (df['maxdeutsch.Missing.'] == 0)).mean() * 100\n",
    "#\n",
    "#    print(f\"--- {df_name} ---\")\n",
    "#    print(f\"Female: {female_pct:.2f}%\")\n",
    "#    print(f\"Non-German: {non_german_pct:.2f}%\")\n",
    "#    print(f\"Non-German Male: {non_german_male_pct:.2f}%\")\n",
    "#    print(f\"Non-German Female: {non_german_female_pct:.2f}%\\n\")\n",
    "#\n",
    "## Calculate for each DataFrame\n",
    "#calculate_percentages(siab_calib, \"siab_calib\")\n",
    "#calculate_percentages(siab_test, \"siab_test\")\n",
    "#calculate_percentages(siab_train, \"siab_train\")"
   ]
  },
  {
   "cell_type": "markdown",
   "id": "0a4a1b33",
   "metadata": {
    "papermill": {
     "duration": 0.023095,
     "end_time": "2025-07-30T20:51:56.607373",
     "exception": false,
     "start_time": "2025-07-30T20:51:56.584278",
     "status": "completed"
    },
    "tags": []
   },
   "source": [
    "# Preprocessing Data"
   ]
  },
  {
   "cell_type": "code",
   "execution_count": 29,
   "id": "ca879031",
   "metadata": {
    "execution": {
     "iopub.execute_input": "2025-07-30T20:51:56.653287Z",
     "iopub.status.busy": "2025-07-30T20:51:56.652802Z",
     "iopub.status.idle": "2025-07-30T20:51:56.700314Z",
     "shell.execute_reply": "2025-07-30T20:51:56.699573Z"
    },
    "papermill": {
     "duration": 0.071339,
     "end_time": "2025-07-30T20:51:56.702149",
     "exception": false,
     "start_time": "2025-07-30T20:51:56.630810",
     "status": "completed"
    },
    "tags": []
   },
   "outputs": [],
   "source": [
    "# EXCLUDE PROTECTED FEATURES\n",
    "# ----------------------\n",
    "# \"exclude_features\": \"none\", # \"nationality\", \"sex\", \"nationality-sex\"\n",
    "\n",
    "excluded_features = universe[\"exclude_features\"].split(\"-\") # split, e.g.: \"nationality-sex\" -> [\"nationality\", \"sex\"]\n",
    "excluded_features_dictionary = {\n",
    "    \"nationality\": [\"maxdeutsch1\", \"maxdeutsch.Missing.\"],\n",
    "    \"sex\": [\"frau1\"],\n",
    "    \"age\": [\"age\"],\n",
    "}\n"
   ]
  },
  {
   "cell_type": "code",
   "execution_count": 30,
   "id": "b745ac60",
   "metadata": {
    "execution": {
     "iopub.execute_input": "2025-07-30T20:51:56.752585Z",
     "iopub.status.busy": "2025-07-30T20:51:56.752096Z",
     "iopub.status.idle": "2025-07-30T20:51:56.757473Z",
     "shell.execute_reply": "2025-07-30T20:51:56.756739Z"
    },
    "papermill": {
     "duration": 0.029908,
     "end_time": "2025-07-30T20:51:56.758618",
     "exception": false,
     "start_time": "2025-07-30T20:51:56.728710",
     "status": "completed"
    },
    "tags": []
   },
   "outputs": [],
   "source": [
    "# Code nice names to column names\n",
    "\n",
    "excluded_features_columns = [\n",
    "    excluded_features_dictionary[f] for f in excluded_features if len(f) > 0 and f != \"none\"\n",
    "]"
   ]
  },
  {
   "cell_type": "code",
   "execution_count": 31,
   "id": "f84f73a2",
   "metadata": {
    "execution": {
     "iopub.execute_input": "2025-07-30T20:51:56.782266Z",
     "iopub.status.busy": "2025-07-30T20:51:56.781940Z",
     "iopub.status.idle": "2025-07-30T20:51:56.786904Z",
     "shell.execute_reply": "2025-07-30T20:51:56.786184Z"
    },
    "papermill": {
     "duration": 0.017999,
     "end_time": "2025-07-30T20:51:56.788176",
     "exception": false,
     "start_time": "2025-07-30T20:51:56.770177",
     "status": "completed"
    },
    "tags": []
   },
   "outputs": [],
   "source": [
    "from utils import flatten_once\n",
    "\n",
    "excluded_features_columns = flatten_once(excluded_features_columns)"
   ]
  },
  {
   "cell_type": "code",
   "execution_count": 32,
   "id": "884dea22",
   "metadata": {
    "execution": {
     "iopub.execute_input": "2025-07-30T20:51:56.823383Z",
     "iopub.status.busy": "2025-07-30T20:51:56.822914Z",
     "iopub.status.idle": "2025-07-30T20:51:56.832078Z",
     "shell.execute_reply": "2025-07-30T20:51:56.831162Z"
    },
    "papermill": {
     "duration": 0.034505,
     "end_time": "2025-07-30T20:51:56.834001",
     "exception": false,
     "start_time": "2025-07-30T20:51:56.799496",
     "status": "completed"
    },
    "tags": []
   },
   "outputs": [
    {
     "name": "stdout",
     "output_type": "stream",
     "text": [
      "Dropping features: ['maxdeutsch1', 'maxdeutsch.Missing.', 'frau1']\n"
     ]
    }
   ],
   "source": [
    "if len(excluded_features_columns) > 0:\n",
    "    print(f\"Dropping features: {excluded_features_columns}\")\n",
    "    X_train.drop(excluded_features_columns, axis=1, inplace=True)"
   ]
  },
  {
   "cell_type": "code",
   "execution_count": 33,
   "id": "95ab8b16",
   "metadata": {
    "execution": {
     "iopub.execute_input": "2025-07-30T20:51:56.872754Z",
     "iopub.status.busy": "2025-07-30T20:51:56.872397Z",
     "iopub.status.idle": "2025-07-30T20:51:56.922336Z",
     "shell.execute_reply": "2025-07-30T20:51:56.921162Z"
    },
    "papermill": {
     "duration": 0.065445,
     "end_time": "2025-07-30T20:51:56.924127",
     "exception": false,
     "start_time": "2025-07-30T20:51:56.858682",
     "status": "completed"
    },
    "tags": []
   },
   "outputs": [
    {
     "name": "stdout",
     "output_type": "stream",
     "text": [
      "Dropping features: ['maxdeutsch1', 'maxdeutsch.Missing.', 'frau1']\n"
     ]
    }
   ],
   "source": [
    "if len(excluded_features_columns) > 0:\n",
    "    print(f\"Dropping features: {excluded_features_columns}\")\n",
    "    X_test.drop(excluded_features_columns, axis=1, inplace=True)"
   ]
  },
  {
   "cell_type": "code",
   "execution_count": 34,
   "id": "1853aaf5-fb9f-46cb-a2b5-8ea4ae2237e4",
   "metadata": {
    "execution": {
     "iopub.execute_input": "2025-07-30T20:51:56.982223Z",
     "iopub.status.busy": "2025-07-30T20:51:56.981679Z",
     "iopub.status.idle": "2025-07-30T20:51:57.037902Z",
     "shell.execute_reply": "2025-07-30T20:51:57.037020Z"
    },
    "papermill": {
     "duration": 0.087626,
     "end_time": "2025-07-30T20:51:57.039738",
     "exception": false,
     "start_time": "2025-07-30T20:51:56.952112",
     "status": "completed"
    },
    "tags": []
   },
   "outputs": [
    {
     "name": "stdout",
     "output_type": "stream",
     "text": [
      "Dropping features: ['maxdeutsch1', 'maxdeutsch.Missing.', 'frau1']\n"
     ]
    }
   ],
   "source": [
    "if len(excluded_features_columns) > 0:\n",
    "    print(f\"Dropping features: {excluded_features_columns}\")\n",
    "    X_calib.drop(excluded_features_columns, axis=1, inplace=True)"
   ]
  },
  {
   "cell_type": "code",
   "execution_count": 35,
   "id": "6727d079-03e5-481e-9d38-292a90b7a0a8",
   "metadata": {
    "execution": {
     "iopub.execute_input": "2025-07-30T20:51:57.080552Z",
     "iopub.status.busy": "2025-07-30T20:51:57.079994Z",
     "iopub.status.idle": "2025-07-30T20:51:57.083672Z",
     "shell.execute_reply": "2025-07-30T20:51:57.082928Z"
    },
    "papermill": {
     "duration": 0.018406,
     "end_time": "2025-07-30T20:51:57.084920",
     "exception": false,
     "start_time": "2025-07-30T20:51:57.066514",
     "status": "completed"
    },
    "tags": []
   },
   "outputs": [],
   "source": [
    "# SPLIT & STRATIFY DATA\n",
    "# ----------------------"
   ]
  },
  {
   "cell_type": "code",
   "execution_count": 36,
   "id": "76c4dc6d",
   "metadata": {
    "execution": {
     "iopub.execute_input": "2025-07-30T20:51:57.108465Z",
     "iopub.status.busy": "2025-07-30T20:51:57.108026Z",
     "iopub.status.idle": "2025-07-30T20:51:57.111841Z",
     "shell.execute_reply": "2025-07-30T20:51:57.111083Z"
    },
    "papermill": {
     "duration": 0.01657,
     "end_time": "2025-07-30T20:51:57.113027",
     "exception": false,
     "start_time": "2025-07-30T20:51:57.096457",
     "status": "completed"
    },
    "tags": []
   },
   "outputs": [],
   "source": [
    "# EXCLUDE CERTAIN SUBGROUPS\n",
    "# ----------------------\n",
    "\n",
    "mode = universe.get(\"exclude_subgroups\", \"keep-all\") \n",
    "# Fetches the exclude_subgroups setting from the universe dict.\n",
    "# Defaults to \"keep-all\" if the key is missing."
   ]
  },
  {
   "cell_type": "code",
   "execution_count": 37,
   "id": "21994072",
   "metadata": {
    "execution": {
     "iopub.execute_input": "2025-07-30T20:51:57.151210Z",
     "iopub.status.busy": "2025-07-30T20:51:57.150841Z",
     "iopub.status.idle": "2025-07-30T20:51:57.156763Z",
     "shell.execute_reply": "2025-07-30T20:51:57.155878Z"
    },
    "papermill": {
     "duration": 0.032222,
     "end_time": "2025-07-30T20:51:57.158427",
     "exception": false,
     "start_time": "2025-07-30T20:51:57.126205",
     "status": "completed"
    },
    "tags": []
   },
   "outputs": [],
   "source": [
    "if mode == \"keep-all\":\n",
    "    keep_mask = pd.Series(True, index=org_train.index)\n",
    "\n",
    "# org_train contains the original feature columns from features_org (in Simson)\n",
    "# features_org contains unprocessed features, for me X_train at beginning ???\n",
    "# For keep-all, creates a boolean Series (keep_mask) of all True, so no rows are removed.\n",
    "\n",
    "elif mode == \"drop-non-german\":\n",
    "    keep_mask = org_train[\"maxdeutsch1\"] == 1 # ??? what about missing values?\n",
    "\n",
    "else:\n",
    "    raise ValueError(f\"Unsupported mode for exclude_subgroups: {mode}\")\n"
   ]
  },
  {
   "cell_type": "code",
   "execution_count": 38,
   "id": "71651440",
   "metadata": {
    "execution": {
     "iopub.execute_input": "2025-07-30T20:51:57.209800Z",
     "iopub.status.busy": "2025-07-30T20:51:57.209442Z",
     "iopub.status.idle": "2025-07-30T20:51:57.214746Z",
     "shell.execute_reply": "2025-07-30T20:51:57.214007Z"
    },
    "papermill": {
     "duration": 0.032624,
     "end_time": "2025-07-30T20:51:57.216071",
     "exception": false,
     "start_time": "2025-07-30T20:51:57.183447",
     "status": "completed"
    },
    "tags": []
   },
   "outputs": [],
   "source": [
    "n_drop = (~keep_mask).sum() # Calculates how many rows are set to be dropped\n",
    "if n_drop > 0:\n",
    "    pct = n_drop / len(keep_mask) * 100\n",
    "    print(f\"Dropping {n_drop} rows ({pct:.2f}%) where mode='{mode}'\")"
   ]
  },
  {
   "cell_type": "code",
   "execution_count": 39,
   "id": "5fb8eee5",
   "metadata": {
    "execution": {
     "iopub.execute_input": "2025-07-30T20:51:57.242158Z",
     "iopub.status.busy": "2025-07-30T20:51:57.241782Z",
     "iopub.status.idle": "2025-07-30T20:51:57.248812Z",
     "shell.execute_reply": "2025-07-30T20:51:57.247823Z"
    },
    "papermill": {
     "duration": 0.02206,
     "end_time": "2025-07-30T20:51:57.250615",
     "exception": false,
     "start_time": "2025-07-30T20:51:57.228555",
     "status": "completed"
    },
    "tags": []
   },
   "outputs": [],
   "source": [
    "X_train = X_train[keep_mask]"
   ]
  },
  {
   "cell_type": "code",
   "execution_count": 40,
   "id": "b202bb3a",
   "metadata": {
    "execution": {
     "iopub.execute_input": "2025-07-30T20:51:57.289062Z",
     "iopub.status.busy": "2025-07-30T20:51:57.288652Z",
     "iopub.status.idle": "2025-07-30T20:51:57.294312Z",
     "shell.execute_reply": "2025-07-30T20:51:57.293452Z"
    },
    "papermill": {
     "duration": 0.022694,
     "end_time": "2025-07-30T20:51:57.295607",
     "exception": false,
     "start_time": "2025-07-30T20:51:57.272913",
     "status": "completed"
    },
    "tags": []
   },
   "outputs": [],
   "source": [
    "y_train = y_train[keep_mask]"
   ]
  },
  {
   "cell_type": "markdown",
   "id": "493e2ac3",
   "metadata": {
    "papermill": {
     "duration": 0.014257,
     "end_time": "2025-07-30T20:51:57.321938",
     "exception": false,
     "start_time": "2025-07-30T20:51:57.307681",
     "status": "completed"
    },
    "tags": []
   },
   "source": [
    "# Model Training"
   ]
  },
  {
   "cell_type": "code",
   "execution_count": 41,
   "id": "679e1268",
   "metadata": {
    "execution": {
     "iopub.execute_input": "2025-07-30T20:51:57.390030Z",
     "iopub.status.busy": "2025-07-30T20:51:57.389471Z",
     "iopub.status.idle": "2025-07-30T20:51:57.473093Z",
     "shell.execute_reply": "2025-07-30T20:51:57.471964Z"
    },
    "papermill": {
     "duration": 0.12002,
     "end_time": "2025-07-30T20:51:57.475617",
     "exception": false,
     "start_time": "2025-07-30T20:51:57.355597",
     "status": "completed"
    },
    "tags": []
   },
   "outputs": [],
   "source": [
    "from sklearn.linear_model import LogisticRegression\n",
    "from sklearn.ensemble import GradientBoostingClassifier, RandomForestClassifier\n",
    "\n",
    "if (universe[\"model\"] == \"logreg\"):\n",
    "    model = LogisticRegression() #penalty=\"none\") #, solver=\"newton-cg\", max_iter=1) # include random_state=19 ?\n",
    "elif (universe[\"model\"] == \"penalized_logreg\"):\n",
    "    model = LogisticRegression(penalty=\"l2\", C=1.0) #, solver=\"newton-cg\", max_iter=1)\n",
    "elif (universe[\"model\"] == \"rf\"):\n",
    "    model = RandomForestClassifier(n_estimators=100, n_jobs=-1)\n",
    "elif (universe[\"model\"] == \"gbm\"):\n",
    "    model = GradientBoostingClassifier()\n",
    "elif (universe[\"model\"] == \"elasticnet\"):\n",
    "    model = LogisticRegression(penalty = 'elasticnet', solver = 'saga', l1_ratio = 0.5, max_iter=5000) # which solver to use?\n",
    "else:\n",
    "    raise \"Unsupported universe.model\""
   ]
  },
  {
   "cell_type": "code",
   "execution_count": 42,
   "id": "0cc8f744",
   "metadata": {
    "execution": {
     "iopub.execute_input": "2025-07-30T20:51:57.519262Z",
     "iopub.status.busy": "2025-07-30T20:51:57.518804Z",
     "iopub.status.idle": "2025-07-30T20:51:57.525329Z",
     "shell.execute_reply": "2025-07-30T20:51:57.524300Z"
    },
    "papermill": {
     "duration": 0.023749,
     "end_time": "2025-07-30T20:51:57.527018",
     "exception": false,
     "start_time": "2025-07-30T20:51:57.503269",
     "status": "completed"
    },
    "tags": []
   },
   "outputs": [],
   "source": [
    "import numpy as np\n",
    "from sklearn.pipeline import Pipeline\n",
    "from sklearn.preprocessing import StandardScaler\n",
    "\n",
    "model = Pipeline([\n",
    "    #(\"continuous_processor\", continuous_processor),\n",
    "    #(\"categorical_preprocessor\", categorical_preprocessor),\n",
    "    (\"scale\", StandardScaler() if universe[\"scale\"] == \"scale\" else None), \n",
    "    (\"model\", model),\n",
    "])"
   ]
  },
  {
   "cell_type": "code",
   "execution_count": 43,
   "id": "9442c04d",
   "metadata": {
    "execution": {
     "iopub.execute_input": "2025-07-30T20:51:57.574651Z",
     "iopub.status.busy": "2025-07-30T20:51:57.574150Z",
     "iopub.status.idle": "2025-07-30T20:51:57.701988Z",
     "shell.execute_reply": "2025-07-30T20:51:57.701277Z"
    },
    "papermill": {
     "duration": 0.153263,
     "end_time": "2025-07-30T20:51:57.703425",
     "exception": false,
     "start_time": "2025-07-30T20:51:57.550162",
     "status": "completed"
    },
    "tags": []
   },
   "outputs": [
    {
     "name": "stderr",
     "output_type": "stream",
     "text": [
      "/dss/dsshome1/0C/ra93lal2/.local/share/virtualenvs/CMA_Fairness_v2-3j10GkSs/lib/python3.10/site-packages/sklearn/linear_model/_logistic.py:444: ConvergenceWarning: lbfgs failed to converge (status=1):\n",
      "STOP: TOTAL NO. of ITERATIONS REACHED LIMIT.\n",
      "\n",
      "Increase the number of iterations (max_iter) or scale the data as shown in:\n",
      "    https://scikit-learn.org/stable/modules/preprocessing.html\n",
      "Please also refer to the documentation for alternative solver options:\n",
      "    https://scikit-learn.org/stable/modules/linear_model.html#logistic-regression\n",
      "  n_iter_i = _check_optimize_result(\n"
     ]
    },
    {
     "data": {
      "text/html": [
       "<style>#sk-container-id-1 {color: black;background-color: white;}#sk-container-id-1 pre{padding: 0;}#sk-container-id-1 div.sk-toggleable {background-color: white;}#sk-container-id-1 label.sk-toggleable__label {cursor: pointer;display: block;width: 100%;margin-bottom: 0;padding: 0.3em;box-sizing: border-box;text-align: center;}#sk-container-id-1 label.sk-toggleable__label-arrow:before {content: \"▸\";float: left;margin-right: 0.25em;color: #696969;}#sk-container-id-1 label.sk-toggleable__label-arrow:hover:before {color: black;}#sk-container-id-1 div.sk-estimator:hover label.sk-toggleable__label-arrow:before {color: black;}#sk-container-id-1 div.sk-toggleable__content {max-height: 0;max-width: 0;overflow: hidden;text-align: left;background-color: #f0f8ff;}#sk-container-id-1 div.sk-toggleable__content pre {margin: 0.2em;color: black;border-radius: 0.25em;background-color: #f0f8ff;}#sk-container-id-1 input.sk-toggleable__control:checked~div.sk-toggleable__content {max-height: 200px;max-width: 100%;overflow: auto;}#sk-container-id-1 input.sk-toggleable__control:checked~label.sk-toggleable__label-arrow:before {content: \"▾\";}#sk-container-id-1 div.sk-estimator input.sk-toggleable__control:checked~label.sk-toggleable__label {background-color: #d4ebff;}#sk-container-id-1 div.sk-label input.sk-toggleable__control:checked~label.sk-toggleable__label {background-color: #d4ebff;}#sk-container-id-1 input.sk-hidden--visually {border: 0;clip: rect(1px 1px 1px 1px);clip: rect(1px, 1px, 1px, 1px);height: 1px;margin: -1px;overflow: hidden;padding: 0;position: absolute;width: 1px;}#sk-container-id-1 div.sk-estimator {font-family: monospace;background-color: #f0f8ff;border: 1px dotted black;border-radius: 0.25em;box-sizing: border-box;margin-bottom: 0.5em;}#sk-container-id-1 div.sk-estimator:hover {background-color: #d4ebff;}#sk-container-id-1 div.sk-parallel-item::after {content: \"\";width: 100%;border-bottom: 1px solid gray;flex-grow: 1;}#sk-container-id-1 div.sk-label:hover label.sk-toggleable__label {background-color: #d4ebff;}#sk-container-id-1 div.sk-serial::before {content: \"\";position: absolute;border-left: 1px solid gray;box-sizing: border-box;top: 0;bottom: 0;left: 50%;z-index: 0;}#sk-container-id-1 div.sk-serial {display: flex;flex-direction: column;align-items: center;background-color: white;padding-right: 0.2em;padding-left: 0.2em;position: relative;}#sk-container-id-1 div.sk-item {position: relative;z-index: 1;}#sk-container-id-1 div.sk-parallel {display: flex;align-items: stretch;justify-content: center;background-color: white;position: relative;}#sk-container-id-1 div.sk-item::before, #sk-container-id-1 div.sk-parallel-item::before {content: \"\";position: absolute;border-left: 1px solid gray;box-sizing: border-box;top: 0;bottom: 0;left: 50%;z-index: -1;}#sk-container-id-1 div.sk-parallel-item {display: flex;flex-direction: column;z-index: 1;position: relative;background-color: white;}#sk-container-id-1 div.sk-parallel-item:first-child::after {align-self: flex-end;width: 50%;}#sk-container-id-1 div.sk-parallel-item:last-child::after {align-self: flex-start;width: 50%;}#sk-container-id-1 div.sk-parallel-item:only-child::after {width: 0;}#sk-container-id-1 div.sk-dashed-wrapped {border: 1px dashed gray;margin: 0 0.4em 0.5em 0.4em;box-sizing: border-box;padding-bottom: 0.4em;background-color: white;}#sk-container-id-1 div.sk-label label {font-family: monospace;font-weight: bold;display: inline-block;line-height: 1.2em;}#sk-container-id-1 div.sk-label-container {text-align: center;}#sk-container-id-1 div.sk-container {/* jupyter's `normalize.less` sets `[hidden] { display: none; }` but bootstrap.min.css set `[hidden] { display: none !important; }` so we also need the `!important` here to be able to override the default hidden behavior on the sphinx rendered scikit-learn.org. See: https://github.com/scikit-learn/scikit-learn/issues/21755 */display: inline-block !important;position: relative;}#sk-container-id-1 div.sk-text-repr-fallback {display: none;}</style><div id=\"sk-container-id-1\" class=\"sk-top-container\"><div class=\"sk-text-repr-fallback\"><pre>Pipeline(steps=[(&#x27;scale&#x27;, None), (&#x27;model&#x27;, LogisticRegression())])</pre><b>In a Jupyter environment, please rerun this cell to show the HTML representation or trust the notebook. <br />On GitHub, the HTML representation is unable to render, please try loading this page with nbviewer.org.</b></div><div class=\"sk-container\" hidden><div class=\"sk-item sk-dashed-wrapped\"><div class=\"sk-label-container\"><div class=\"sk-label sk-toggleable\"><input class=\"sk-toggleable__control sk-hidden--visually\" id=\"sk-estimator-id-1\" type=\"checkbox\" ><label for=\"sk-estimator-id-1\" class=\"sk-toggleable__label sk-toggleable__label-arrow\">Pipeline</label><div class=\"sk-toggleable__content\"><pre>Pipeline(steps=[(&#x27;scale&#x27;, None), (&#x27;model&#x27;, LogisticRegression())])</pre></div></div></div><div class=\"sk-serial\"><div class=\"sk-item\"><div class=\"sk-estimator sk-toggleable\"><input class=\"sk-toggleable__control sk-hidden--visually\" id=\"sk-estimator-id-2\" type=\"checkbox\" ><label for=\"sk-estimator-id-2\" class=\"sk-toggleable__label sk-toggleable__label-arrow\">None</label><div class=\"sk-toggleable__content\"><pre>None</pre></div></div></div><div class=\"sk-item\"><div class=\"sk-estimator sk-toggleable\"><input class=\"sk-toggleable__control sk-hidden--visually\" id=\"sk-estimator-id-3\" type=\"checkbox\" ><label for=\"sk-estimator-id-3\" class=\"sk-toggleable__label sk-toggleable__label-arrow\">LogisticRegression</label><div class=\"sk-toggleable__content\"><pre>LogisticRegression()</pre></div></div></div></div></div></div></div>"
      ],
      "text/plain": [
       "Pipeline(steps=[('scale', None), ('model', LogisticRegression())])"
      ]
     },
     "execution_count": 43,
     "metadata": {},
     "output_type": "execute_result"
    }
   ],
   "source": [
    "model.fit(X_train, y_train.values.ravel())"
   ]
  },
  {
   "cell_type": "code",
   "execution_count": 44,
   "id": "af59f8c0",
   "metadata": {
    "execution": {
     "iopub.execute_input": "2025-07-30T20:51:57.755329Z",
     "iopub.status.busy": "2025-07-30T20:51:57.754425Z",
     "iopub.status.idle": "2025-07-30T20:51:57.759985Z",
     "shell.execute_reply": "2025-07-30T20:51:57.759148Z"
    },
    "papermill": {
     "duration": 0.034667,
     "end_time": "2025-07-30T20:51:57.761927",
     "exception": false,
     "start_time": "2025-07-30T20:51:57.727260",
     "status": "completed"
    },
    "tags": []
   },
   "outputs": [],
   "source": [
    "from fairness_multiverse.universe import predict_w_threshold"
   ]
  },
  {
   "cell_type": "code",
   "execution_count": 45,
   "id": "a7cf2e16",
   "metadata": {
    "execution": {
     "iopub.execute_input": "2025-07-30T20:51:57.811044Z",
     "iopub.status.busy": "2025-07-30T20:51:57.810434Z",
     "iopub.status.idle": "2025-07-30T20:51:57.901522Z",
     "shell.execute_reply": "2025-07-30T20:51:57.900558Z"
    },
    "papermill": {
     "duration": 0.117944,
     "end_time": "2025-07-30T20:51:57.903172",
     "exception": false,
     "start_time": "2025-07-30T20:51:57.785228",
     "status": "completed"
    },
    "tags": []
   },
   "outputs": [
    {
     "data": {
      "text/plain": [
       "0.8590792553784417"
      ]
     },
     "execution_count": 45,
     "metadata": {},
     "output_type": "execute_result"
    }
   ],
   "source": [
    "probs_test = model.predict_proba(X_test)\n",
    "\n",
    "'''\n",
    "Below code returns a boolean array (or binary 0/1 array depending on how it’s used) where each element \n",
    "is True if the probability of class 1 is greater than or equal to the threshold, and False otherwise.\n",
    "'''\n",
    "y_pred_default = predict_w_threshold(probs_test, 0.5)\n",
    "\n",
    "from sklearn.metrics import accuracy_score\n",
    "\n",
    "# Naive prediction\n",
    "accuracy_score(y_true = y_true, y_pred = y_pred_default)"
   ]
  },
  {
   "cell_type": "code",
   "execution_count": 46,
   "id": "081964c3",
   "metadata": {
    "execution": {
     "iopub.execute_input": "2025-07-30T20:51:57.949872Z",
     "iopub.status.busy": "2025-07-30T20:51:57.949384Z",
     "iopub.status.idle": "2025-07-30T20:51:58.039340Z",
     "shell.execute_reply": "2025-07-30T20:51:58.038522Z"
    },
    "papermill": {
     "duration": 0.114953,
     "end_time": "2025-07-30T20:51:58.041313",
     "exception": false,
     "start_time": "2025-07-30T20:51:57.926360",
     "status": "completed"
    },
    "tags": []
   },
   "outputs": [
    {
     "data": {
      "text/plain": [
       "array([0, 0, 0, ..., 0, 0, 0])"
      ]
     },
     "execution_count": 46,
     "metadata": {},
     "output_type": "execute_result"
    }
   ],
   "source": [
    "model.predict(X_test)"
   ]
  },
  {
   "cell_type": "markdown",
   "id": "56c9705b",
   "metadata": {
    "papermill": {
     "duration": 0.021918,
     "end_time": "2025-07-30T20:51:58.086854",
     "exception": false,
     "start_time": "2025-07-30T20:51:58.064936",
     "status": "completed"
    },
    "tags": []
   },
   "source": [
    "# Conformal Prediction"
   ]
  },
  {
   "cell_type": "code",
   "execution_count": 47,
   "id": "160ec6ff",
   "metadata": {
    "execution": {
     "iopub.execute_input": "2025-07-30T20:51:58.132671Z",
     "iopub.status.busy": "2025-07-30T20:51:58.132237Z",
     "iopub.status.idle": "2025-07-30T20:51:58.137385Z",
     "shell.execute_reply": "2025-07-30T20:51:58.136499Z"
    },
    "papermill": {
     "duration": 0.029511,
     "end_time": "2025-07-30T20:51:58.139049",
     "exception": false,
     "start_time": "2025-07-30T20:51:58.109538",
     "status": "completed"
    },
    "tags": []
   },
   "outputs": [],
   "source": [
    "# Miscoverage level for conformal prediction (10% allowed error rate => 90% target coverage)\n",
    "alpha = 0.1"
   ]
  },
  {
   "cell_type": "code",
   "execution_count": 48,
   "id": "eadf4555-3dd3-440e-8e35-f82a4ad9f855",
   "metadata": {
    "execution": {
     "iopub.execute_input": "2025-07-30T20:51:58.188277Z",
     "iopub.status.busy": "2025-07-30T20:51:58.187795Z",
     "iopub.status.idle": "2025-07-30T20:51:58.265392Z",
     "shell.execute_reply": "2025-07-30T20:51:58.264407Z"
    },
    "papermill": {
     "duration": 0.104023,
     "end_time": "2025-07-30T20:51:58.267487",
     "exception": false,
     "start_time": "2025-07-30T20:51:58.163464",
     "status": "completed"
    },
    "tags": []
   },
   "outputs": [],
   "source": [
    "probs_calib = model.predict_proba(X_calib)"
   ]
  },
  {
   "cell_type": "code",
   "execution_count": 49,
   "id": "2ed93547-6d5d-4983-9b36-1ecb300da49a",
   "metadata": {
    "execution": {
     "iopub.execute_input": "2025-07-30T20:51:58.324382Z",
     "iopub.status.busy": "2025-07-30T20:51:58.323450Z",
     "iopub.status.idle": "2025-07-30T20:51:58.329701Z",
     "shell.execute_reply": "2025-07-30T20:51:58.328766Z"
    },
    "papermill": {
     "duration": 0.036681,
     "end_time": "2025-07-30T20:51:58.331596",
     "exception": false,
     "start_time": "2025-07-30T20:51:58.294915",
     "status": "completed"
    },
    "tags": []
   },
   "outputs": [],
   "source": [
    "y_calib = y_calib.values.ravel().astype(int)"
   ]
  },
  {
   "cell_type": "code",
   "execution_count": 50,
   "id": "65d1320d-f588-4b38-9072-62af1ae97f7d",
   "metadata": {
    "execution": {
     "iopub.execute_input": "2025-07-30T20:51:58.389052Z",
     "iopub.status.busy": "2025-07-30T20:51:58.388433Z",
     "iopub.status.idle": "2025-07-30T20:51:58.396337Z",
     "shell.execute_reply": "2025-07-30T20:51:58.395174Z"
    },
    "papermill": {
     "duration": 0.038063,
     "end_time": "2025-07-30T20:51:58.398331",
     "exception": false,
     "start_time": "2025-07-30T20:51:58.360268",
     "status": "completed"
    },
    "tags": []
   },
   "outputs": [],
   "source": [
    "from fairness_multiverse.conformal import compute_nc_scores\n",
    "\n",
    "# Compute nonconformity scores on calibration set (1 - probability of true class)\n",
    "nc_scores = compute_nc_scores(probs_calib, y_calib)"
   ]
  },
  {
   "cell_type": "code",
   "execution_count": 51,
   "id": "df3b8ca3-53b7-43d5-9667-7c85da7aeda2",
   "metadata": {
    "execution": {
     "iopub.execute_input": "2025-07-30T20:51:58.456613Z",
     "iopub.status.busy": "2025-07-30T20:51:58.456027Z",
     "iopub.status.idle": "2025-07-30T20:51:58.463320Z",
     "shell.execute_reply": "2025-07-30T20:51:58.462323Z"
    },
    "papermill": {
     "duration": 0.037642,
     "end_time": "2025-07-30T20:51:58.465539",
     "exception": false,
     "start_time": "2025-07-30T20:51:58.427897",
     "status": "completed"
    },
    "tags": []
   },
   "outputs": [],
   "source": [
    "from fairness_multiverse.conformal import find_threshold\n",
    "\n",
    "# Find conformal threshold q_hat for the given alpha (split conformal method)\n",
    "q_hat = find_threshold(nc_scores, alpha)"
   ]
  },
  {
   "cell_type": "code",
   "execution_count": 52,
   "id": "4d29e6c1-0ef6-4aa4-b8fe-4fe79b0d033a",
   "metadata": {
    "execution": {
     "iopub.execute_input": "2025-07-30T20:51:58.526887Z",
     "iopub.status.busy": "2025-07-30T20:51:58.526401Z",
     "iopub.status.idle": "2025-07-30T20:51:58.533406Z",
     "shell.execute_reply": "2025-07-30T20:51:58.532477Z"
    },
    "papermill": {
     "duration": 0.037515,
     "end_time": "2025-07-30T20:51:58.534951",
     "exception": false,
     "start_time": "2025-07-30T20:51:58.497436",
     "status": "completed"
    },
    "tags": []
   },
   "outputs": [
    {
     "data": {
      "text/plain": [
       "0.6814696962413396"
      ]
     },
     "execution_count": 52,
     "metadata": {},
     "output_type": "execute_result"
    }
   ],
   "source": [
    "q_hat"
   ]
  },
  {
   "cell_type": "code",
   "execution_count": 53,
   "id": "92460794-cdac-4be2-ba28-f28c0515a6fb",
   "metadata": {
    "execution": {
     "iopub.execute_input": "2025-07-30T20:51:58.589398Z",
     "iopub.status.busy": "2025-07-30T20:51:58.588373Z",
     "iopub.status.idle": "2025-07-30T20:51:59.467094Z",
     "shell.execute_reply": "2025-07-30T20:51:59.466063Z"
    },
    "papermill": {
     "duration": 0.906702,
     "end_time": "2025-07-30T20:51:59.469065",
     "exception": false,
     "start_time": "2025-07-30T20:51:58.562363",
     "status": "completed"
    },
    "tags": []
   },
   "outputs": [],
   "source": [
    "from fairness_multiverse.conformal import predict_conformal_sets\n",
    "\n",
    "# Generate prediction sets for each test example\n",
    "pred_sets = predict_conformal_sets(model, X_test, q_hat)"
   ]
  },
  {
   "cell_type": "code",
   "execution_count": 54,
   "id": "d90c9a65-e6db-4f5d-80cd-e68fb7e46829",
   "metadata": {
    "execution": {
     "iopub.execute_input": "2025-07-30T20:51:59.532563Z",
     "iopub.status.busy": "2025-07-30T20:51:59.532063Z",
     "iopub.status.idle": "2025-07-30T20:51:59.538111Z",
     "shell.execute_reply": "2025-07-30T20:51:59.537135Z"
    },
    "papermill": {
     "duration": 0.031062,
     "end_time": "2025-07-30T20:51:59.539883",
     "exception": false,
     "start_time": "2025-07-30T20:51:59.508821",
     "status": "completed"
    },
    "tags": []
   },
   "outputs": [],
   "source": [
    "y_true = y_true.squeeze()"
   ]
  },
  {
   "cell_type": "code",
   "execution_count": 55,
   "id": "3a58a54a-1e68-46b9-927a-df01f18aebc8",
   "metadata": {
    "execution": {
     "iopub.execute_input": "2025-07-30T20:51:59.593916Z",
     "iopub.status.busy": "2025-07-30T20:51:59.593236Z",
     "iopub.status.idle": "2025-07-30T20:52:00.624210Z",
     "shell.execute_reply": "2025-07-30T20:52:00.623230Z"
    },
    "papermill": {
     "duration": 1.059434,
     "end_time": "2025-07-30T20:52:00.625979",
     "exception": false,
     "start_time": "2025-07-30T20:51:59.566545",
     "status": "completed"
    },
    "tags": []
   },
   "outputs": [],
   "source": [
    "from fairness_multiverse.conformal import evaluate_sets\n",
    "\n",
    "# Evaluate coverage and average set size on test data\n",
    "metrics = evaluate_sets(pred_sets, y_true)"
   ]
  },
  {
   "cell_type": "markdown",
   "id": "2b569c12-9aaa-4c88-98c9-bbcd0cf3ebb8",
   "metadata": {
    "papermill": {
     "duration": 0.023754,
     "end_time": "2025-07-30T20:52:00.674152",
     "exception": false,
     "start_time": "2025-07-30T20:52:00.650398",
     "status": "completed"
    },
    "tags": []
   },
   "source": [
    "# CP Metrics"
   ]
  },
  {
   "cell_type": "code",
   "execution_count": 56,
   "id": "5ce0a5cb-201f-45a0-ade5-94c7f0bd6095",
   "metadata": {
    "execution": {
     "iopub.execute_input": "2025-07-30T20:52:00.721754Z",
     "iopub.status.busy": "2025-07-30T20:52:00.721245Z",
     "iopub.status.idle": "2025-07-30T20:52:00.728672Z",
     "shell.execute_reply": "2025-07-30T20:52:00.727768Z"
    },
    "papermill": {
     "duration": 0.033494,
     "end_time": "2025-07-30T20:52:00.730360",
     "exception": false,
     "start_time": "2025-07-30T20:52:00.696866",
     "status": "completed"
    },
    "tags": []
   },
   "outputs": [
    {
     "data": {
      "text/plain": [
       "{'coverage': 0.9109352357596701, 'avg_size': 1.1973024189053618}"
      ]
     },
     "execution_count": 56,
     "metadata": {},
     "output_type": "execute_result"
    }
   ],
   "source": [
    "metrics"
   ]
  },
  {
   "cell_type": "code",
   "execution_count": 57,
   "id": "9b9a838d-31c9-430b-ae14-12baee460d17",
   "metadata": {
    "execution": {
     "iopub.execute_input": "2025-07-30T20:52:00.782222Z",
     "iopub.status.busy": "2025-07-30T20:52:00.781417Z",
     "iopub.status.idle": "2025-07-30T20:52:00.787966Z",
     "shell.execute_reply": "2025-07-30T20:52:00.786843Z"
    },
    "papermill": {
     "duration": 0.033704,
     "end_time": "2025-07-30T20:52:00.789877",
     "exception": false,
     "start_time": "2025-07-30T20:52:00.756173",
     "status": "completed"
    },
    "tags": []
   },
   "outputs": [],
   "source": [
    "example_universe = universe.copy()\n",
    "universe_training_year = example_universe.get(\"training_year\")\n",
    "universe_training_size = example_universe.get(\"training_size\")\n",
    "universe_scale = example_universe.get(\"scale\")\n",
    "universe_model = example_universe.get(\"model\")\n",
    "universe_exclude_features = example_universe.get(\"exclude_features\")\n",
    "universe_exclude_subgroups = example_universe.get(\"exclude_subgroups\")"
   ]
  },
  {
   "cell_type": "code",
   "execution_count": 58,
   "id": "f4b6a8ac-9dc0-4245-8a91-5b3b5999c4f9",
   "metadata": {
    "execution": {
     "iopub.execute_input": "2025-07-30T20:52:00.842846Z",
     "iopub.status.busy": "2025-07-30T20:52:00.842374Z",
     "iopub.status.idle": "2025-07-30T20:52:00.848883Z",
     "shell.execute_reply": "2025-07-30T20:52:00.847966Z"
    },
    "papermill": {
     "duration": 0.034681,
     "end_time": "2025-07-30T20:52:00.850443",
     "exception": false,
     "start_time": "2025-07-30T20:52:00.815762",
     "status": "completed"
    },
    "tags": []
   },
   "outputs": [],
   "source": [
    "cp_metrics_dict = {\n",
    "    \"universe_id\": [universe_id],\n",
    "    \"universe_training_year\": [universe_training_year],\n",
    "    \"universe_training_size\": [universe_training_size],\n",
    "    \"universe_scale\": [universe_scale],\n",
    "    \"universe_model\": [universe_model],\n",
    "    \"universe_exclude_features\": [universe_exclude_features],\n",
    "    \"universe_exclude_subgroups\": [universe_exclude_subgroups],\n",
    "    \"q_hat\": [q_hat],\n",
    "    \"coverage\": [metrics[\"coverage\"]],\n",
    "    \"avg_size\": [metrics[\"avg_size\"]],\n",
    "}"
   ]
  },
  {
   "cell_type": "code",
   "execution_count": 59,
   "id": "908acbb1-0371-4915-85ca-3fa520d2efe2",
   "metadata": {
    "execution": {
     "iopub.execute_input": "2025-07-30T20:52:00.903834Z",
     "iopub.status.busy": "2025-07-30T20:52:00.902982Z",
     "iopub.status.idle": "2025-07-30T20:52:00.910308Z",
     "shell.execute_reply": "2025-07-30T20:52:00.909454Z"
    },
    "papermill": {
     "duration": 0.034901,
     "end_time": "2025-07-30T20:52:00.911752",
     "exception": false,
     "start_time": "2025-07-30T20:52:00.876851",
     "status": "completed"
    },
    "tags": []
   },
   "outputs": [
    {
     "data": {
      "text/plain": [
       "{'universe_id': ['a72b65934a646b8ea32584245ccef2e6'],\n",
       " 'universe_training_year': ['2014'],\n",
       " 'universe_training_size': ['5k'],\n",
       " 'universe_scale': ['do-not-scale'],\n",
       " 'universe_model': ['penalized_logreg'],\n",
       " 'universe_exclude_features': ['nationality-sex'],\n",
       " 'universe_exclude_subgroups': ['keep-all'],\n",
       " 'q_hat': [0.6814696962413396],\n",
       " 'coverage': [0.9109352357596701],\n",
       " 'avg_size': [1.1973024189053618]}"
      ]
     },
     "execution_count": 59,
     "metadata": {},
     "output_type": "execute_result"
    }
   ],
   "source": [
    "cp_metrics_dict"
   ]
  },
  {
   "cell_type": "code",
   "execution_count": 60,
   "id": "33007efc-14e9-4ec6-97ac-56a455c82265",
   "metadata": {
    "execution": {
     "iopub.execute_input": "2025-07-30T20:52:00.964827Z",
     "iopub.status.busy": "2025-07-30T20:52:00.964203Z",
     "iopub.status.idle": "2025-07-30T20:52:00.970554Z",
     "shell.execute_reply": "2025-07-30T20:52:00.969652Z"
    },
    "papermill": {
     "duration": 0.03524,
     "end_time": "2025-07-30T20:52:00.972177",
     "exception": false,
     "start_time": "2025-07-30T20:52:00.936937",
     "status": "completed"
    },
    "tags": []
   },
   "outputs": [],
   "source": [
    "cp_metrics_df = pd.DataFrame(cp_metrics_dict)"
   ]
  },
  {
   "cell_type": "code",
   "execution_count": 61,
   "id": "db12611b-57b2-4910-b9d0-355adfd6e7bf",
   "metadata": {
    "execution": {
     "iopub.execute_input": "2025-07-30T20:52:01.021986Z",
     "iopub.status.busy": "2025-07-30T20:52:01.021324Z",
     "iopub.status.idle": "2025-07-30T20:52:01.039990Z",
     "shell.execute_reply": "2025-07-30T20:52:01.039104Z"
    },
    "papermill": {
     "duration": 0.045473,
     "end_time": "2025-07-30T20:52:01.041846",
     "exception": false,
     "start_time": "2025-07-30T20:52:00.996373",
     "status": "completed"
    },
    "tags": []
   },
   "outputs": [
    {
     "data": {
      "text/html": [
       "<div>\n",
       "<style scoped>\n",
       "    .dataframe tbody tr th:only-of-type {\n",
       "        vertical-align: middle;\n",
       "    }\n",
       "\n",
       "    .dataframe tbody tr th {\n",
       "        vertical-align: top;\n",
       "    }\n",
       "\n",
       "    .dataframe thead th {\n",
       "        text-align: right;\n",
       "    }\n",
       "</style>\n",
       "<table border=\"1\" class=\"dataframe\">\n",
       "  <thead>\n",
       "    <tr style=\"text-align: right;\">\n",
       "      <th></th>\n",
       "      <th>universe_id</th>\n",
       "      <th>universe_training_year</th>\n",
       "      <th>universe_training_size</th>\n",
       "      <th>universe_scale</th>\n",
       "      <th>universe_model</th>\n",
       "      <th>universe_exclude_features</th>\n",
       "      <th>universe_exclude_subgroups</th>\n",
       "      <th>q_hat</th>\n",
       "      <th>coverage</th>\n",
       "      <th>avg_size</th>\n",
       "    </tr>\n",
       "  </thead>\n",
       "  <tbody>\n",
       "    <tr>\n",
       "      <th>0</th>\n",
       "      <td>a72b65934a646b8ea32584245ccef2e6</td>\n",
       "      <td>2014</td>\n",
       "      <td>5k</td>\n",
       "      <td>do-not-scale</td>\n",
       "      <td>penalized_logreg</td>\n",
       "      <td>nationality-sex</td>\n",
       "      <td>keep-all</td>\n",
       "      <td>0.68147</td>\n",
       "      <td>0.910935</td>\n",
       "      <td>1.197302</td>\n",
       "    </tr>\n",
       "  </tbody>\n",
       "</table>\n",
       "</div>"
      ],
      "text/plain": [
       "                        universe_id universe_training_year  \\\n",
       "0  a72b65934a646b8ea32584245ccef2e6                   2014   \n",
       "\n",
       "  universe_training_size universe_scale    universe_model  \\\n",
       "0                     5k   do-not-scale  penalized_logreg   \n",
       "\n",
       "  universe_exclude_features universe_exclude_subgroups    q_hat  coverage  \\\n",
       "0           nationality-sex                   keep-all  0.68147  0.910935   \n",
       "\n",
       "   avg_size  \n",
       "0  1.197302  "
      ]
     },
     "execution_count": 61,
     "metadata": {},
     "output_type": "execute_result"
    }
   ],
   "source": [
    "cp_metrics_df"
   ]
  },
  {
   "cell_type": "code",
   "execution_count": 62,
   "id": "b7fbde55-a0a1-47e4-9af6-fe4a17fa8c61",
   "metadata": {
    "execution": {
     "iopub.execute_input": "2025-07-30T20:52:01.097837Z",
     "iopub.status.busy": "2025-07-30T20:52:01.096283Z",
     "iopub.status.idle": "2025-07-30T20:52:01.102375Z",
     "shell.execute_reply": "2025-07-30T20:52:01.101383Z"
    },
    "papermill": {
     "duration": 0.034406,
     "end_time": "2025-07-30T20:52:01.103991",
     "exception": false,
     "start_time": "2025-07-30T20:52:01.069585",
     "status": "completed"
    },
    "tags": []
   },
   "outputs": [],
   "source": [
    "# Conditional Coverage & looking at subgroups"
   ]
  },
  {
   "cell_type": "code",
   "execution_count": 63,
   "id": "027ae886-68dd-4141-96c7-805a5450e1ef",
   "metadata": {
    "execution": {
     "iopub.execute_input": "2025-07-30T20:52:01.157063Z",
     "iopub.status.busy": "2025-07-30T20:52:01.156374Z",
     "iopub.status.idle": "2025-07-30T20:52:01.413472Z",
     "shell.execute_reply": "2025-07-30T20:52:01.412562Z"
    },
    "papermill": {
     "duration": 0.285371,
     "end_time": "2025-07-30T20:52:01.415338",
     "exception": false,
     "start_time": "2025-07-30T20:52:01.129967",
     "status": "completed"
    },
    "tags": []
   },
   "outputs": [],
   "source": [
    "from fairness_multiverse.conformal import build_cp_groups\n",
    "\n",
    "cp_groups_df = build_cp_groups(pred_sets, y_true, X_test.index, org_test)\n",
    "#needs universe_id and setting"
   ]
  },
  {
   "cell_type": "code",
   "execution_count": 64,
   "id": "01d5802c-663a-4d1f-9d69-e036faaffbf7",
   "metadata": {
    "execution": {
     "iopub.execute_input": "2025-07-30T20:52:01.465905Z",
     "iopub.status.busy": "2025-07-30T20:52:01.465200Z",
     "iopub.status.idle": "2025-07-30T20:52:01.469766Z",
     "shell.execute_reply": "2025-07-30T20:52:01.468919Z"
    },
    "papermill": {
     "duration": 0.031275,
     "end_time": "2025-07-30T20:52:01.471161",
     "exception": false,
     "start_time": "2025-07-30T20:52:01.439886",
     "status": "completed"
    },
    "tags": []
   },
   "outputs": [],
   "source": [
    "#delete\n",
    "#cp_groups_df"
   ]
  },
  {
   "cell_type": "code",
   "execution_count": 65,
   "id": "fa424af1-d1eb-443d-b717-2d279ada8408",
   "metadata": {
    "execution": {
     "iopub.execute_input": "2025-07-30T20:52:01.523338Z",
     "iopub.status.busy": "2025-07-30T20:52:01.522871Z",
     "iopub.status.idle": "2025-07-30T20:52:01.527675Z",
     "shell.execute_reply": "2025-07-30T20:52:01.526723Z"
    },
    "papermill": {
     "duration": 0.03136,
     "end_time": "2025-07-30T20:52:01.529199",
     "exception": false,
     "start_time": "2025-07-30T20:52:01.497839",
     "status": "completed"
    },
    "tags": []
   },
   "outputs": [],
   "source": [
    "#delete\n",
    "#percentage = (cp_groups_df['nongerman_female'] == 1).mean() * 100\n",
    "#print(percentage)\n"
   ]
  },
  {
   "cell_type": "code",
   "execution_count": 66,
   "id": "6cbdab96-b2b2-45af-ad54-d0516db2e28d",
   "metadata": {
    "execution": {
     "iopub.execute_input": "2025-07-30T20:52:01.577582Z",
     "iopub.status.busy": "2025-07-30T20:52:01.577092Z",
     "iopub.status.idle": "2025-07-30T20:52:02.886014Z",
     "shell.execute_reply": "2025-07-30T20:52:02.885266Z"
    },
    "papermill": {
     "duration": 1.334316,
     "end_time": "2025-07-30T20:52:02.887442",
     "exception": false,
     "start_time": "2025-07-30T20:52:01.553126",
     "status": "completed"
    },
    "tags": []
   },
   "outputs": [],
   "source": [
    "# Define covered = 1 if true_label is in the predicted set\n",
    "cp_groups_df['covered'] = cp_groups_df.apply(\n",
    "    lambda r: int(r['true_label'] in r['pred_set']),\n",
    "    axis=1\n",
    ")"
   ]
  },
  {
   "cell_type": "code",
   "execution_count": 67,
   "id": "338ff529-1a6b-4b87-a931-8e4788d52aad",
   "metadata": {
    "execution": {
     "iopub.execute_input": "2025-07-30T20:52:02.916217Z",
     "iopub.status.busy": "2025-07-30T20:52:02.915419Z",
     "iopub.status.idle": "2025-07-30T20:52:02.919902Z",
     "shell.execute_reply": "2025-07-30T20:52:02.919258Z"
    },
    "papermill": {
     "duration": 0.019456,
     "end_time": "2025-07-30T20:52:02.921159",
     "exception": false,
     "start_time": "2025-07-30T20:52:02.901703",
     "status": "completed"
    },
    "tags": []
   },
   "outputs": [],
   "source": [
    "#cp_groups_df"
   ]
  },
  {
   "cell_type": "code",
   "execution_count": 68,
   "id": "90032e27-66df-4540-9169-4e89cfbaa758",
   "metadata": {
    "execution": {
     "iopub.execute_input": "2025-07-30T20:52:02.948589Z",
     "iopub.status.busy": "2025-07-30T20:52:02.947935Z",
     "iopub.status.idle": "2025-07-30T20:52:02.956608Z",
     "shell.execute_reply": "2025-07-30T20:52:02.955872Z"
    },
    "papermill": {
     "duration": 0.023395,
     "end_time": "2025-07-30T20:52:02.957931",
     "exception": false,
     "start_time": "2025-07-30T20:52:02.934536",
     "status": "completed"
    },
    "tags": []
   },
   "outputs": [],
   "source": [
    "subgroups = ['frau1','nongerman','nongerman_male','nongerman_female']\n",
    "\n",
    "# Conditional coverage for subgroup==1\n",
    "cond_coverage = {\n",
    "    g: cp_groups_df.loc[cp_groups_df[g]==1, 'covered'].mean()\n",
    "    for g in subgroups\n",
    "}"
   ]
  },
  {
   "cell_type": "code",
   "execution_count": 69,
   "id": "1e348fb1-b9c3-45bc-ba23-f016827a7e0d",
   "metadata": {
    "execution": {
     "iopub.execute_input": "2025-07-30T20:52:03.011376Z",
     "iopub.status.busy": "2025-07-30T20:52:03.010942Z",
     "iopub.status.idle": "2025-07-30T20:52:03.017793Z",
     "shell.execute_reply": "2025-07-30T20:52:03.017080Z"
    },
    "papermill": {
     "duration": 0.036349,
     "end_time": "2025-07-30T20:52:03.019180",
     "exception": false,
     "start_time": "2025-07-30T20:52:02.982831",
     "status": "completed"
    },
    "tags": []
   },
   "outputs": [
    {
     "data": {
      "text/plain": [
       "{'frau1': 0.9085051893786225,\n",
       " 'nongerman': 0.9248863189805199,\n",
       " 'nongerman_male': 0.9402864090786274,\n",
       " 'nongerman_female': 0.8994038748137109}"
      ]
     },
     "execution_count": 69,
     "metadata": {},
     "output_type": "execute_result"
    }
   ],
   "source": [
    "cond_coverage"
   ]
  },
  {
   "cell_type": "code",
   "execution_count": 70,
   "id": "f5093324-c3dd-4d63-bc4c-8d945e5c8bbb",
   "metadata": {
    "execution": {
     "iopub.execute_input": "2025-07-30T20:52:03.047891Z",
     "iopub.status.busy": "2025-07-30T20:52:03.047074Z",
     "iopub.status.idle": "2025-07-30T20:52:03.052792Z",
     "shell.execute_reply": "2025-07-30T20:52:03.052128Z"
    },
    "papermill": {
     "duration": 0.021288,
     "end_time": "2025-07-30T20:52:03.054157",
     "exception": false,
     "start_time": "2025-07-30T20:52:03.032869",
     "status": "completed"
    },
    "tags": []
   },
   "outputs": [],
   "source": [
    "for subgroup, cov in cond_coverage.items():\n",
    "    cp_metrics_df[f\"cov_{subgroup}\"] = cov"
   ]
  },
  {
   "cell_type": "code",
   "execution_count": 71,
   "id": "6e872e10-dbe5-49e8-b554-5030c98ff75d",
   "metadata": {
    "execution": {
     "iopub.execute_input": "2025-07-30T20:52:03.082177Z",
     "iopub.status.busy": "2025-07-30T20:52:03.081814Z",
     "iopub.status.idle": "2025-07-30T20:52:03.095374Z",
     "shell.execute_reply": "2025-07-30T20:52:03.094715Z"
    },
    "papermill": {
     "duration": 0.028833,
     "end_time": "2025-07-30T20:52:03.096689",
     "exception": false,
     "start_time": "2025-07-30T20:52:03.067856",
     "status": "completed"
    },
    "tags": []
   },
   "outputs": [
    {
     "data": {
      "text/html": [
       "<div>\n",
       "<style scoped>\n",
       "    .dataframe tbody tr th:only-of-type {\n",
       "        vertical-align: middle;\n",
       "    }\n",
       "\n",
       "    .dataframe tbody tr th {\n",
       "        vertical-align: top;\n",
       "    }\n",
       "\n",
       "    .dataframe thead th {\n",
       "        text-align: right;\n",
       "    }\n",
       "</style>\n",
       "<table border=\"1\" class=\"dataframe\">\n",
       "  <thead>\n",
       "    <tr style=\"text-align: right;\">\n",
       "      <th></th>\n",
       "      <th>universe_id</th>\n",
       "      <th>universe_training_year</th>\n",
       "      <th>universe_training_size</th>\n",
       "      <th>universe_scale</th>\n",
       "      <th>universe_model</th>\n",
       "      <th>universe_exclude_features</th>\n",
       "      <th>universe_exclude_subgroups</th>\n",
       "      <th>q_hat</th>\n",
       "      <th>coverage</th>\n",
       "      <th>avg_size</th>\n",
       "      <th>cov_frau1</th>\n",
       "      <th>cov_nongerman</th>\n",
       "      <th>cov_nongerman_male</th>\n",
       "      <th>cov_nongerman_female</th>\n",
       "    </tr>\n",
       "  </thead>\n",
       "  <tbody>\n",
       "    <tr>\n",
       "      <th>0</th>\n",
       "      <td>a72b65934a646b8ea32584245ccef2e6</td>\n",
       "      <td>2014</td>\n",
       "      <td>5k</td>\n",
       "      <td>do-not-scale</td>\n",
       "      <td>penalized_logreg</td>\n",
       "      <td>nationality-sex</td>\n",
       "      <td>keep-all</td>\n",
       "      <td>0.68147</td>\n",
       "      <td>0.910935</td>\n",
       "      <td>1.197302</td>\n",
       "      <td>0.908505</td>\n",
       "      <td>0.924886</td>\n",
       "      <td>0.940286</td>\n",
       "      <td>0.899404</td>\n",
       "    </tr>\n",
       "  </tbody>\n",
       "</table>\n",
       "</div>"
      ],
      "text/plain": [
       "                        universe_id universe_training_year  \\\n",
       "0  a72b65934a646b8ea32584245ccef2e6                   2014   \n",
       "\n",
       "  universe_training_size universe_scale    universe_model  \\\n",
       "0                     5k   do-not-scale  penalized_logreg   \n",
       "\n",
       "  universe_exclude_features universe_exclude_subgroups    q_hat  coverage  \\\n",
       "0           nationality-sex                   keep-all  0.68147  0.910935   \n",
       "\n",
       "   avg_size  cov_frau1  cov_nongerman  cov_nongerman_male  \\\n",
       "0  1.197302   0.908505       0.924886            0.940286   \n",
       "\n",
       "   cov_nongerman_female  \n",
       "0              0.899404  "
      ]
     },
     "execution_count": 71,
     "metadata": {},
     "output_type": "execute_result"
    }
   ],
   "source": [
    "cp_metrics_df"
   ]
  },
  {
   "cell_type": "markdown",
   "id": "33774451",
   "metadata": {
    "papermill": {
     "duration": 0.013165,
     "end_time": "2025-07-30T20:52:03.124295",
     "exception": false,
     "start_time": "2025-07-30T20:52:03.111130",
     "status": "completed"
    },
    "tags": []
   },
   "source": [
    "# (Fairness) Metrics"
   ]
  },
  {
   "cell_type": "code",
   "execution_count": 72,
   "id": "debc5d62",
   "metadata": {
    "execution": {
     "iopub.execute_input": "2025-07-30T20:52:03.151943Z",
     "iopub.status.busy": "2025-07-30T20:52:03.151463Z",
     "iopub.status.idle": "2025-07-30T20:52:03.165734Z",
     "shell.execute_reply": "2025-07-30T20:52:03.164535Z"
    },
    "papermill": {
     "duration": 0.02989,
     "end_time": "2025-07-30T20:52:03.167444",
     "exception": false,
     "start_time": "2025-07-30T20:52:03.137554",
     "status": "completed"
    },
    "tags": []
   },
   "outputs": [],
   "source": [
    "# do I need to include maxdeutsch1.missing?\n",
    "\n",
    "import numpy as np\n",
    "\n",
    "colname_to_bin = \"maxdeutsch1\"\n",
    "majority_value = org_train[colname_to_bin].mode()[0]\n",
    "\n",
    "org_test[\"majmin\"] = np.where(org_test[colname_to_bin] == majority_value, \"majority\", \"minority\")"
   ]
  },
  {
   "cell_type": "code",
   "execution_count": 73,
   "id": "06a50de5",
   "metadata": {
    "execution": {
     "iopub.execute_input": "2025-07-30T20:52:03.221111Z",
     "iopub.status.busy": "2025-07-30T20:52:03.220609Z",
     "iopub.status.idle": "2025-07-30T20:52:06.024700Z",
     "shell.execute_reply": "2025-07-30T20:52:06.023820Z"
    },
    "papermill": {
     "duration": 2.831374,
     "end_time": "2025-07-30T20:52:06.026467",
     "exception": false,
     "start_time": "2025-07-30T20:52:03.195093",
     "status": "completed"
    },
    "tags": []
   },
   "outputs": [],
   "source": [
    "example_universe = universe.copy()\n",
    "example_universe[\"cutoff\"] = example_universe[\"cutoff\"][0]\n",
    "example_universe[\"eval_fairness_grouping\"] = example_universe[\"eval_fairness_grouping\"][0]\n",
    "fairness_dict, metric_frame = universe_analysis.compute_metrics(\n",
    "    example_universe,\n",
    "    y_pred_prob=probs_test,\n",
    "    y_test=y_true,\n",
    "    org_test=org_test,\n",
    ")"
   ]
  },
  {
   "cell_type": "markdown",
   "id": "f95d4e02",
   "metadata": {
    "papermill": {
     "duration": 0.027299,
     "end_time": "2025-07-30T20:52:06.079431",
     "exception": false,
     "start_time": "2025-07-30T20:52:06.052132",
     "status": "completed"
    },
    "tags": []
   },
   "source": [
    "# Overall"
   ]
  },
  {
   "cell_type": "markdown",
   "id": "bdee4871",
   "metadata": {
    "papermill": {
     "duration": 0.024259,
     "end_time": "2025-07-30T20:52:06.128596",
     "exception": false,
     "start_time": "2025-07-30T20:52:06.104337",
     "status": "completed"
    },
    "tags": []
   },
   "source": [
    "Fairness\n",
    "Main fairness target: Equalized Odds. Seems to be a better fit than equal opportunity, since we're not only interested in Y = 1. Seems to be a better fit than demographic parity, since we also care about accuracy, not just equal distribution of preds.\n",
    "\n",
    "Pick column for computation of fairness metrics\n",
    "\n",
    "Performance\n",
    "Overall performance measures, most interesting in relation to the measures split by group below"
   ]
  },
  {
   "cell_type": "code",
   "execution_count": 74,
   "id": "c4e067c6",
   "metadata": {
    "execution": {
     "iopub.execute_input": "2025-07-30T20:52:06.181005Z",
     "iopub.status.busy": "2025-07-30T20:52:06.180355Z",
     "iopub.status.idle": "2025-07-30T20:52:06.189135Z",
     "shell.execute_reply": "2025-07-30T20:52:06.188179Z"
    },
    "papermill": {
     "duration": 0.03636,
     "end_time": "2025-07-30T20:52:06.190651",
     "exception": false,
     "start_time": "2025-07-30T20:52:06.154291",
     "status": "completed"
    },
    "tags": []
   },
   "outputs": [
    {
     "data": {
      "text/plain": [
       "accuracy                   0.216553\n",
       "balanced accuracy          0.531141\n",
       "f1                         0.238100\n",
       "precision                  0.136019\n",
       "false positive rate        0.892010\n",
       "false negative rate        0.045707\n",
       "selection rate             0.900000\n",
       "count                  89710.000000\n",
       "dtype: float64"
      ]
     },
     "execution_count": 74,
     "metadata": {},
     "output_type": "execute_result"
    }
   ],
   "source": [
    "metric_frame.overall"
   ]
  },
  {
   "cell_type": "markdown",
   "id": "e968fe9d",
   "metadata": {
    "papermill": {
     "duration": 0.024516,
     "end_time": "2025-07-30T20:52:06.242496",
     "exception": false,
     "start_time": "2025-07-30T20:52:06.217980",
     "status": "completed"
    },
    "tags": []
   },
   "source": [
    "By Group"
   ]
  },
  {
   "cell_type": "code",
   "execution_count": 75,
   "id": "ec325bce",
   "metadata": {
    "execution": {
     "iopub.execute_input": "2025-07-30T20:52:06.294291Z",
     "iopub.status.busy": "2025-07-30T20:52:06.293628Z",
     "iopub.status.idle": "2025-07-30T20:52:06.309218Z",
     "shell.execute_reply": "2025-07-30T20:52:06.308309Z"
    },
    "papermill": {
     "duration": 0.042826,
     "end_time": "2025-07-30T20:52:06.310629",
     "exception": false,
     "start_time": "2025-07-30T20:52:06.267803",
     "status": "completed"
    },
    "tags": []
   },
   "outputs": [
    {
     "data": {
      "text/html": [
       "<div>\n",
       "<style scoped>\n",
       "    .dataframe tbody tr th:only-of-type {\n",
       "        vertical-align: middle;\n",
       "    }\n",
       "\n",
       "    .dataframe tbody tr th {\n",
       "        vertical-align: top;\n",
       "    }\n",
       "\n",
       "    .dataframe thead th {\n",
       "        text-align: right;\n",
       "    }\n",
       "</style>\n",
       "<table border=\"1\" class=\"dataframe\">\n",
       "  <thead>\n",
       "    <tr style=\"text-align: right;\">\n",
       "      <th></th>\n",
       "      <th>accuracy</th>\n",
       "      <th>balanced accuracy</th>\n",
       "      <th>f1</th>\n",
       "      <th>precision</th>\n",
       "      <th>false positive rate</th>\n",
       "      <th>false negative rate</th>\n",
       "      <th>selection rate</th>\n",
       "      <th>count</th>\n",
       "    </tr>\n",
       "    <tr>\n",
       "      <th>majmin</th>\n",
       "      <th></th>\n",
       "      <th></th>\n",
       "      <th></th>\n",
       "      <th></th>\n",
       "      <th></th>\n",
       "      <th></th>\n",
       "      <th></th>\n",
       "      <th></th>\n",
       "    </tr>\n",
       "  </thead>\n",
       "  <tbody>\n",
       "    <tr>\n",
       "      <th>majority</th>\n",
       "      <td>0.237907</td>\n",
       "      <td>0.538351</td>\n",
       "      <td>0.247158</td>\n",
       "      <td>0.142132</td>\n",
       "      <td>0.870015</td>\n",
       "      <td>0.053282</td>\n",
       "      <td>0.880150</td>\n",
       "      <td>69170.0</td>\n",
       "    </tr>\n",
       "    <tr>\n",
       "      <th>minority</th>\n",
       "      <td>0.144645</td>\n",
       "      <td>0.509430</td>\n",
       "      <td>0.209565</td>\n",
       "      <td>0.117277</td>\n",
       "      <td>0.964671</td>\n",
       "      <td>0.016470</td>\n",
       "      <td>0.966845</td>\n",
       "      <td>20540.0</td>\n",
       "    </tr>\n",
       "  </tbody>\n",
       "</table>\n",
       "</div>"
      ],
      "text/plain": [
       "          accuracy  balanced accuracy        f1  precision  \\\n",
       "majmin                                                       \n",
       "majority  0.237907           0.538351  0.247158   0.142132   \n",
       "minority  0.144645           0.509430  0.209565   0.117277   \n",
       "\n",
       "          false positive rate  false negative rate  selection rate    count  \n",
       "majmin                                                                       \n",
       "majority             0.870015             0.053282        0.880150  69170.0  \n",
       "minority             0.964671             0.016470        0.966845  20540.0  "
      ]
     },
     "execution_count": 75,
     "metadata": {},
     "output_type": "execute_result"
    }
   ],
   "source": [
    "metric_frame.by_group"
   ]
  },
  {
   "cell_type": "code",
   "execution_count": 76,
   "id": "a9ddbe63",
   "metadata": {
    "execution": {
     "iopub.execute_input": "2025-07-30T20:52:06.368810Z",
     "iopub.status.busy": "2025-07-30T20:52:06.368104Z",
     "iopub.status.idle": "2025-07-30T20:52:08.677940Z",
     "shell.execute_reply": "2025-07-30T20:52:08.676930Z"
    },
    "papermill": {
     "duration": 2.339219,
     "end_time": "2025-07-30T20:52:08.679581",
     "exception": false,
     "start_time": "2025-07-30T20:52:06.340362",
     "status": "completed"
    },
    "tags": []
   },
   "outputs": [
    {
     "data": {
      "text/plain": [
       "array([[<Axes: title={'center': 'accuracy'}, xlabel='majmin'>,\n",
       "        <Axes: title={'center': 'balanced accuracy'}, xlabel='majmin'>,\n",
       "        <Axes: title={'center': 'f1'}, xlabel='majmin'>],\n",
       "       [<Axes: title={'center': 'precision'}, xlabel='majmin'>,\n",
       "        <Axes: title={'center': 'false positive rate'}, xlabel='majmin'>,\n",
       "        <Axes: title={'center': 'false negative rate'}, xlabel='majmin'>],\n",
       "       [<Axes: title={'center': 'selection rate'}, xlabel='majmin'>,\n",
       "        <Axes: title={'center': 'count'}, xlabel='majmin'>,\n",
       "        <Axes: xlabel='majmin'>]], dtype=object)"
      ]
     },
     "execution_count": 76,
     "metadata": {},
     "output_type": "execute_result"
    },
    {
     "data": {
      "image/png": "[encoded data removed]",
      "text/plain": [
       "<Figure size 1200x800 with 9 Axes>"
      ]
     },
     "metadata": {},
     "output_type": "display_data"
    }
   ],
   "source": [
    "# In a graphic\n",
    "metric_frame.by_group.plot.bar(\n",
    "    subplots=True,\n",
    "    layout=[3, 3],\n",
    "    legend=False,\n",
    "    figsize=[12, 8],\n",
    "    title=\"Show all metrics\",\n",
    ")"
   ]
  },
  {
   "cell_type": "markdown",
   "id": "f57a0bac",
   "metadata": {
    "papermill": {
     "duration": 0.028145,
     "end_time": "2025-07-30T20:52:08.735689",
     "exception": false,
     "start_time": "2025-07-30T20:52:08.707544",
     "status": "completed"
    },
    "tags": []
   },
   "source": [
    "# Final Output"
   ]
  },
  {
   "cell_type": "code",
   "execution_count": 77,
   "id": "96d280a3",
   "metadata": {
    "execution": {
     "iopub.execute_input": "2025-07-30T20:52:08.796157Z",
     "iopub.status.busy": "2025-07-30T20:52:08.795176Z",
     "iopub.status.idle": "2025-07-30T20:52:08.803449Z",
     "shell.execute_reply": "2025-07-30T20:52:08.802568Z"
    },
    "papermill": {
     "duration": 0.040328,
     "end_time": "2025-07-30T20:52:08.804955",
     "exception": false,
     "start_time": "2025-07-30T20:52:08.764627",
     "status": "completed"
    },
    "tags": []
   },
   "outputs": [
    {
     "data": {
      "text/plain": [
       "4"
      ]
     },
     "execution_count": 77,
     "metadata": {},
     "output_type": "execute_result"
    }
   ],
   "source": [
    "sub_universes = universe_analysis.generate_sub_universes()\n",
    "len(sub_universes)"
   ]
  },
  {
   "cell_type": "code",
   "execution_count": 78,
   "id": "92adf7ba",
   "metadata": {
    "execution": {
     "iopub.execute_input": "2025-07-30T20:52:08.860647Z",
     "iopub.status.busy": "2025-07-30T20:52:08.860007Z",
     "iopub.status.idle": "2025-07-30T20:52:08.866140Z",
     "shell.execute_reply": "2025-07-30T20:52:08.865331Z"
    },
    "papermill": {
     "duration": 0.036049,
     "end_time": "2025-07-30T20:52:08.867711",
     "exception": false,
     "start_time": "2025-07-30T20:52:08.831662",
     "status": "completed"
    },
    "tags": []
   },
   "outputs": [],
   "source": [
    "def filter_sub_universe_data(sub_universe, org_test):\n",
    "    # Keep all rows — no filtering\n",
    "    keep_rows_mask = np.ones(org_test.shape[0], dtype=bool)\n",
    "\n",
    "    print(f\"[INFO] Keeping all rows: {keep_rows_mask.sum()} rows retained.\")\n",
    "    return keep_rows_mask"
   ]
  },
  {
   "cell_type": "code",
   "execution_count": 79,
   "id": "4a759155",
   "metadata": {
    "execution": {
     "iopub.execute_input": "2025-07-30T20:52:08.924639Z",
     "iopub.status.busy": "2025-07-30T20:52:08.924060Z",
     "iopub.status.idle": "2025-07-30T20:52:18.516508Z",
     "shell.execute_reply": "2025-07-30T20:52:18.515616Z"
    },
    "papermill": {
     "duration": 9.621621,
     "end_time": "2025-07-30T20:52:18.517956",
     "exception": false,
     "start_time": "2025-07-30T20:52:08.896335",
     "status": "completed"
    },
    "tags": []
   },
   "outputs": [
    {
     "name": "stdout",
     "output_type": "stream",
     "text": [
      "Stopping execution_time clock.\n",
      "[INFO] Keeping all rows: 89710 rows retained.\n"
     ]
    },
    {
     "name": "stdout",
     "output_type": "stream",
     "text": [
      "[INFO] Keeping all rows: 89710 rows retained.\n"
     ]
    },
    {
     "name": "stdout",
     "output_type": "stream",
     "text": [
      "[INFO] Keeping all rows: 89710 rows retained.\n"
     ]
    },
    {
     "name": "stdout",
     "output_type": "stream",
     "text": [
      "[INFO] Keeping all rows: 89710 rows retained.\n"
     ]
    },
    {
     "data": {
      "text/html": [
       "<div>\n",
       "<style scoped>\n",
       "    .dataframe tbody tr th:only-of-type {\n",
       "        vertical-align: middle;\n",
       "    }\n",
       "\n",
       "    .dataframe tbody tr th {\n",
       "        vertical-align: top;\n",
       "    }\n",
       "\n",
       "    .dataframe thead th {\n",
       "        text-align: right;\n",
       "    }\n",
       "</style>\n",
       "<table border=\"1\" class=\"dataframe\">\n",
       "  <thead>\n",
       "    <tr style=\"text-align: right;\">\n",
       "      <th></th>\n",
       "      <th>run_no</th>\n",
       "      <th>universe_id</th>\n",
       "      <th>universe_settings</th>\n",
       "      <th>execution_time</th>\n",
       "      <th>test_size_n</th>\n",
       "      <th>test_size_frac</th>\n",
       "      <th>fair_main_equalized_odds_difference</th>\n",
       "      <th>fair_main_equalized_odds_ratio</th>\n",
       "      <th>fair_main_demographic_parity_difference</th>\n",
       "      <th>fair_main_demographic_parity_ratio</th>\n",
       "      <th>...</th>\n",
       "      <th>perf_grp_precision_0</th>\n",
       "      <th>perf_grp_precision_1</th>\n",
       "      <th>perf_grp_false positive rate_0</th>\n",
       "      <th>perf_grp_false positive rate_1</th>\n",
       "      <th>perf_grp_false negative rate_0</th>\n",
       "      <th>perf_grp_false negative rate_1</th>\n",
       "      <th>perf_grp_selection rate_0</th>\n",
       "      <th>perf_grp_selection rate_1</th>\n",
       "      <th>perf_grp_count_0</th>\n",
       "      <th>perf_grp_count_1</th>\n",
       "    </tr>\n",
       "  </thead>\n",
       "  <tbody>\n",
       "    <tr>\n",
       "      <th>0</th>\n",
       "      <td>14</td>\n",
       "      <td>a72b65934a646b8ea32584245ccef2e6</td>\n",
       "      <td>{\"cutoff\": \"quantile_0.1\", \"eval_fairness_grou...</td>\n",
       "      <td>28.227185</td>\n",
       "      <td>89710</td>\n",
       "      <td>1.0</td>\n",
       "      <td>0.094656</td>\n",
       "      <td>0.901877</td>\n",
       "      <td>0.086695</td>\n",
       "      <td>0.910332</td>\n",
       "      <td>...</td>\n",
       "      <td>NaN</td>\n",
       "      <td>NaN</td>\n",
       "      <td>NaN</td>\n",
       "      <td>NaN</td>\n",
       "      <td>NaN</td>\n",
       "      <td>NaN</td>\n",
       "      <td>NaN</td>\n",
       "      <td>NaN</td>\n",
       "      <td>NaN</td>\n",
       "      <td>NaN</td>\n",
       "    </tr>\n",
       "    <tr>\n",
       "      <th>0</th>\n",
       "      <td>14</td>\n",
       "      <td>a72b65934a646b8ea32584245ccef2e6</td>\n",
       "      <td>{\"cutoff\": \"quantile_0.1\", \"eval_fairness_grou...</td>\n",
       "      <td>28.227185</td>\n",
       "      <td>89710</td>\n",
       "      <td>1.0</td>\n",
       "      <td>0.094656</td>\n",
       "      <td>0.901877</td>\n",
       "      <td>0.086695</td>\n",
       "      <td>0.910332</td>\n",
       "      <td>...</td>\n",
       "      <td>0.117277</td>\n",
       "      <td>0.142132</td>\n",
       "      <td>0.964671</td>\n",
       "      <td>0.870015</td>\n",
       "      <td>0.016470</td>\n",
       "      <td>0.053282</td>\n",
       "      <td>0.966845</td>\n",
       "      <td>0.880150</td>\n",
       "      <td>20540.0</td>\n",
       "      <td>69170.0</td>\n",
       "    </tr>\n",
       "    <tr>\n",
       "      <th>0</th>\n",
       "      <td>14</td>\n",
       "      <td>a72b65934a646b8ea32584245ccef2e6</td>\n",
       "      <td>{\"cutoff\": \"quantile_0.25\", \"eval_fairness_gro...</td>\n",
       "      <td>28.227185</td>\n",
       "      <td>89710</td>\n",
       "      <td>1.0</td>\n",
       "      <td>0.207110</td>\n",
       "      <td>0.767119</td>\n",
       "      <td>0.189940</td>\n",
       "      <td>0.788119</td>\n",
       "      <td>...</td>\n",
       "      <td>NaN</td>\n",
       "      <td>NaN</td>\n",
       "      <td>NaN</td>\n",
       "      <td>NaN</td>\n",
       "      <td>NaN</td>\n",
       "      <td>NaN</td>\n",
       "      <td>NaN</td>\n",
       "      <td>NaN</td>\n",
       "      <td>NaN</td>\n",
       "      <td>NaN</td>\n",
       "    </tr>\n",
       "    <tr>\n",
       "      <th>0</th>\n",
       "      <td>14</td>\n",
       "      <td>a72b65934a646b8ea32584245ccef2e6</td>\n",
       "      <td>{\"cutoff\": \"quantile_0.25\", \"eval_fairness_gro...</td>\n",
       "      <td>28.227185</td>\n",
       "      <td>89710</td>\n",
       "      <td>1.0</td>\n",
       "      <td>0.207110</td>\n",
       "      <td>0.767119</td>\n",
       "      <td>0.189940</td>\n",
       "      <td>0.788119</td>\n",
       "      <td>...</td>\n",
       "      <td>0.122305</td>\n",
       "      <td>0.161964</td>\n",
       "      <td>0.889335</td>\n",
       "      <td>0.682226</td>\n",
       "      <td>0.048986</td>\n",
       "      <td>0.134026</td>\n",
       "      <td>0.896446</td>\n",
       "      <td>0.706506</td>\n",
       "      <td>20540.0</td>\n",
       "      <td>69170.0</td>\n",
       "    </tr>\n",
       "  </tbody>\n",
       "</table>\n",
       "<p>4 rows × 50 columns</p>\n",
       "</div>"
      ],
      "text/plain": [
       "  run_no                       universe_id  \\\n",
       "0     14  a72b65934a646b8ea32584245ccef2e6   \n",
       "0     14  a72b65934a646b8ea32584245ccef2e6   \n",
       "0     14  a72b65934a646b8ea32584245ccef2e6   \n",
       "0     14  a72b65934a646b8ea32584245ccef2e6   \n",
       "\n",
       "                                   universe_settings  execution_time  \\\n",
       "0  {\"cutoff\": \"quantile_0.1\", \"eval_fairness_grou...       28.227185   \n",
       "0  {\"cutoff\": \"quantile_0.1\", \"eval_fairness_grou...       28.227185   \n",
       "0  {\"cutoff\": \"quantile_0.25\", \"eval_fairness_gro...       28.227185   \n",
       "0  {\"cutoff\": \"quantile_0.25\", \"eval_fairness_gro...       28.227185   \n",
       "\n",
       "   test_size_n  test_size_frac  fair_main_equalized_odds_difference  \\\n",
       "0        89710             1.0                             0.094656   \n",
       "0        89710             1.0                             0.094656   \n",
       "0        89710             1.0                             0.207110   \n",
       "0        89710             1.0                             0.207110   \n",
       "\n",
       "   fair_main_equalized_odds_ratio  fair_main_demographic_parity_difference  \\\n",
       "0                        0.901877                                 0.086695   \n",
       "0                        0.901877                                 0.086695   \n",
       "0                        0.767119                                 0.189940   \n",
       "0                        0.767119                                 0.189940   \n",
       "\n",
       "   fair_main_demographic_parity_ratio  ...  perf_grp_precision_0  \\\n",
       "0                            0.910332  ...                   NaN   \n",
       "0                            0.910332  ...              0.117277   \n",
       "0                            0.788119  ...                   NaN   \n",
       "0                            0.788119  ...              0.122305   \n",
       "\n",
       "   perf_grp_precision_1  perf_grp_false positive rate_0  \\\n",
       "0                   NaN                             NaN   \n",
       "0              0.142132                        0.964671   \n",
       "0                   NaN                             NaN   \n",
       "0              0.161964                        0.889335   \n",
       "\n",
       "   perf_grp_false positive rate_1  perf_grp_false negative rate_0  \\\n",
       "0                             NaN                             NaN   \n",
       "0                        0.870015                        0.016470   \n",
       "0                             NaN                             NaN   \n",
       "0                        0.682226                        0.048986   \n",
       "\n",
       "   perf_grp_false negative rate_1  perf_grp_selection rate_0  \\\n",
       "0                             NaN                        NaN   \n",
       "0                        0.053282                   0.966845   \n",
       "0                             NaN                        NaN   \n",
       "0                        0.134026                   0.896446   \n",
       "\n",
       "   perf_grp_selection rate_1  perf_grp_count_0  perf_grp_count_1  \n",
       "0                        NaN               NaN               NaN  \n",
       "0                   0.880150           20540.0           69170.0  \n",
       "0                        NaN               NaN               NaN  \n",
       "0                   0.706506           20540.0           69170.0  \n",
       "\n",
       "[4 rows x 50 columns]"
      ]
     },
     "execution_count": 79,
     "metadata": {},
     "output_type": "execute_result"
    }
   ],
   "source": [
    "final_output = universe_analysis.generate_final_output(\n",
    "    y_pred_prob=probs_test,\n",
    "    y_test=y_true,\n",
    "    org_test=org_test,\n",
    "    filter_data=filter_sub_universe_data,\n",
    "    cp_metrics_df=cp_metrics_df,\n",
    "    save=True,\n",
    ")\n",
    "final_output"
   ]
  },
  {
   "cell_type": "code",
   "execution_count": null,
   "id": "721ff514-cb11-46f8-b6fc-50392f74b5cb",
   "metadata": {
    "papermill": {
     "duration": 0.016584,
     "end_time": "2025-07-30T20:52:18.554812",
     "exception": false,
     "start_time": "2025-07-30T20:52:18.538228",
     "status": "completed"
    },
    "tags": []
   },
   "outputs": [],
   "source": []
  }
 ],
 "metadata": {
  "celltoolbar": "Tags",
  "kernelspec": {
   "display_name": "Python (CMA Fairness)",
   "language": "python",
   "name": "cma_fair_env"
  },
  "language_info": {
   "codemirror_mode": {
    "name": "ipython",
    "version": 3
   },
   "file_extension": ".py",
   "mimetype": "text/x-python",
   "name": "python",
   "nbconvert_exporter": "python",
   "pygments_lexer": "ipython3",
   "version": "3.10.12"
  },
  "papermill": {
   "default_parameters": {},
   "duration": 42.317952,
   "end_time": "2025-07-30T20:52:19.390394",
   "environment_variables": {},
   "exception": null,
   "input_path": "universe_analysis.ipynb",
   "output_path": "output/runs/14/notebooks/m_14-a72b65934a646b8ea32584245ccef2e6.ipynb",
   "parameters": {
    "output_dir": "output",
    "run_no": "14",
    "seed": "2023",
    "universe": "{\"cutoff\": [\"quantile_0.1\", \"quantile_0.25\"], \"eval_fairness_grouping\": [\"majority-minority\", \"nationality-all\"], \"exclude_features\": \"nationality-sex\", \"exclude_subgroups\": \"keep-all\", \"model\": \"penalized_logreg\", \"scale\": \"do-not-scale\", \"training_size\": \"5k\", \"training_year\": \"2014\"}",
    "universe_id": "a72b65934a646b8ea32584245ccef2e6"
   },
   "start_time": "2025-07-30T20:51:37.072442",
   "version": "2.6.0"
  }
 },
 "nbformat": 4,
 "nbformat_minor": 5
}