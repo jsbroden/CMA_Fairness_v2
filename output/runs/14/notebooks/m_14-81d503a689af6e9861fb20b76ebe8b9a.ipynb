{
 "cells": [
  {
   "cell_type": "code",
   "execution_count": 1,
   "id": "f159f837-637b-42ba-96b5-ec9a68c44524",
   "metadata": {
    "execution": {
     "iopub.execute_input": "2025-07-30T21:12:08.746076Z",
     "iopub.status.busy": "2025-07-30T21:12:08.745577Z",
     "iopub.status.idle": "2025-07-30T21:12:08.759932Z",
     "shell.execute_reply": "2025-07-30T21:12:08.758827Z"
    },
    "papermill": {
     "duration": 0.037347,
     "end_time": "2025-07-30T21:12:08.761929",
     "exception": false,
     "start_time": "2025-07-30T21:12:08.724582",
     "status": "completed"
    },
    "tags": []
   },
   "outputs": [
    {
     "name": "stdout",
     "output_type": "stream",
     "text": [
      "/dss/dsshome1/0C/ra93lal2/cma/CMA_Fairness_v2\n"
     ]
    },
    {
     "name": "stderr",
     "output_type": "stream",
     "text": [
      "/dss/dsshome1/0C/ra93lal2/.local/share/virtualenvs/CMA_Fairness_v2-3j10GkSs/lib/python3.10/site-packages/IPython/core/magics/osm.py:393: UserWarning: This is now an optional IPython functionality, using bookmarks requires you to install the `pickleshare` library.\n",
      "  bkms = self.shell.db.get('bookmarks', {})\n",
      "/dss/dsshome1/0C/ra93lal2/.local/share/virtualenvs/CMA_Fairness_v2-3j10GkSs/lib/python3.10/site-packages/IPython/core/magics/osm.py:417: UserWarning: This is now an optional IPython functionality, setting dhist requires you to install the `pickleshare` library.\n",
      "  self.shell.db['dhist'] = compress_dhist(dhist)[-100:]\n"
     ]
    }
   ],
   "source": [
    "%cd ~/cma/CMA_Fairness_v2"
   ]
  },
  {
   "cell_type": "markdown",
   "id": "de2603b9",
   "metadata": {
    "papermill": {
     "duration": 0.021882,
     "end_time": "2025-07-30T21:12:08.806703",
     "exception": false,
     "start_time": "2025-07-30T21:12:08.784821",
     "status": "completed"
    },
    "tags": []
   },
   "source": [
    "The following cell holds the definition of our parameters, these values can be overriden by rendering the with e.g. the following command:\n",
    "\n",
    "papermill -p alpha 0.2 -p ratio 0.3 universe_analysis.ipynb output/test_run.ipynb"
   ]
  },
  {
   "cell_type": "code",
   "execution_count": 2,
   "id": "a80968a0-40bb-4fa9-85ef-2d5eefb01975",
   "metadata": {
    "execution": {
     "iopub.execute_input": "2025-07-30T21:12:08.852359Z",
     "iopub.status.busy": "2025-07-30T21:12:08.851363Z",
     "iopub.status.idle": "2025-07-30T21:12:08.857645Z",
     "shell.execute_reply": "2025-07-30T21:12:08.856475Z"
    },
    "papermill": {
     "duration": 0.030798,
     "end_time": "2025-07-30T21:12:08.859398",
     "exception": false,
     "start_time": "2025-07-30T21:12:08.828600",
     "status": "completed"
    },
    "tags": []
   },
   "outputs": [
    {
     "name": "stdout",
     "output_type": "stream",
     "text": [
      "Current working directory: /dss/dsshome1/0C/ra93lal2/cma/CMA_Fairness_v2\n"
     ]
    }
   ],
   "source": [
    "import os\n",
    "print(\"Current working directory:\", os.getcwd())"
   ]
  },
  {
   "cell_type": "code",
   "execution_count": 3,
   "id": "2dce4c03",
   "metadata": {
    "execution": {
     "iopub.execute_input": "2025-07-30T21:12:08.905571Z",
     "iopub.status.busy": "2025-07-30T21:12:08.904876Z",
     "iopub.status.idle": "2025-07-30T21:12:08.911323Z",
     "shell.execute_reply": "2025-07-30T21:12:08.910263Z"
    },
    "papermill": {
     "duration": 0.03076,
     "end_time": "2025-07-30T21:12:08.912960",
     "exception": false,
     "start_time": "2025-07-30T21:12:08.882200",
     "status": "completed"
    },
    "tags": [
     "parameters"
    ]
   },
   "outputs": [],
   "source": [
    "run_no = 0\n",
    "universe_id = \"test\"\n",
    "universe = {\n",
    "    \"training_size\": \"25k\", # \"25k\", \"5k\", \"1k\"\n",
    "    \"training_year\": \"2014\", # \"2014\", \"2012_14\", \"2010_14\"\n",
    "    \"scale\": \"scale\", # \"scale\", \"do-not-scale\",\n",
    "    #\"stratify_split\": \"target\", # \"none\", \"target\", \"protected-attribute\", \"both\",\n",
    "    \"model\": \"elasticnet\", # \"logreg\", \"penalized_logreg\", \"rf\", \"gbm\", \"elasticnet\"\n",
    "    \"cutoff\": [\"quantile_0.15\", \"quantile_0.30\"],\n",
    "    \"exclude_features\": \"age\", # \"none\", \"nationality\", \"sex\", \"nationality-sex\", \"age\"\n",
    "    \"exclude_subgroups\": \"keep-all\", # \"keep-all\", \"drop-non-german\"\n",
    "    \"eval_fairness_grouping\": [\"majority-minority\", \"nationality-all\"]\n",
    "}\n",
    "\n",
    "output_dir=\"./output\"\n",
    "seed=0"
   ]
  },
  {
   "cell_type": "code",
   "execution_count": 4,
   "id": "065efb26",
   "metadata": {
    "execution": {
     "iopub.execute_input": "2025-07-30T21:12:08.959572Z",
     "iopub.status.busy": "2025-07-30T21:12:08.958896Z",
     "iopub.status.idle": "2025-07-30T21:12:08.964953Z",
     "shell.execute_reply": "2025-07-30T21:12:08.963697Z"
    },
    "papermill": {
     "duration": 0.030723,
     "end_time": "2025-07-30T21:12:08.966852",
     "exception": false,
     "start_time": "2025-07-30T21:12:08.936129",
     "status": "completed"
    },
    "tags": [
     "injected-parameters"
    ]
   },
   "outputs": [],
   "source": [
    "# Parameters\n",
    "universe_id = \"81d503a689af6e9861fb20b76ebe8b9a\"\n",
    "run_no = \"14\"\n",
    "universe = \"{\\\"cutoff\\\": [\\\"quantile_0.1\\\", \\\"quantile_0.25\\\"], \\\"eval_fairness_grouping\\\": [\\\"majority-minority\\\", \\\"nationality-all\\\"], \\\"exclude_features\\\": \\\"nationality-sex\\\", \\\"exclude_subgroups\\\": \\\"keep-all\\\", \\\"model\\\": \\\"rf\\\", \\\"scale\\\": \\\"scale\\\", \\\"training_size\\\": \\\"5k\\\", \\\"training_year\\\": \\\"2010_14\\\"}\"\n",
    "output_dir = \"output\"\n",
    "seed = \"2023\"\n"
   ]
  },
  {
   "cell_type": "code",
   "execution_count": 5,
   "id": "1650acaf",
   "metadata": {
    "execution": {
     "iopub.execute_input": "2025-07-30T21:12:09.014113Z",
     "iopub.status.busy": "2025-07-30T21:12:09.013182Z",
     "iopub.status.idle": "2025-07-30T21:12:09.018382Z",
     "shell.execute_reply": "2025-07-30T21:12:09.017407Z"
    },
    "papermill": {
     "duration": 0.030631,
     "end_time": "2025-07-30T21:12:09.020365",
     "exception": false,
     "start_time": "2025-07-30T21:12:08.989734",
     "status": "completed"
    },
    "tags": []
   },
   "outputs": [],
   "source": [
    "import json\n",
    "# Parse universe into dict if it is passed as a string\n",
    "if isinstance(universe, str):\n",
    "    universe = json.loads(universe)"
   ]
  },
  {
   "cell_type": "code",
   "execution_count": 6,
   "id": "16620c48",
   "metadata": {
    "execution": {
     "iopub.execute_input": "2025-07-30T21:12:09.068621Z",
     "iopub.status.busy": "2025-07-30T21:12:09.068120Z",
     "iopub.status.idle": "2025-07-30T21:12:09.113057Z",
     "shell.execute_reply": "2025-07-30T21:12:09.112059Z"
    },
    "papermill": {
     "duration": 0.070373,
     "end_time": "2025-07-30T21:12:09.115198",
     "exception": false,
     "start_time": "2025-07-30T21:12:09.044825",
     "status": "completed"
    },
    "tags": []
   },
   "outputs": [],
   "source": [
    "# Auto-reload the custom package\n",
    "%load_ext autoreload\n",
    "%autoreload 1\n",
    "%aimport fairness_multiverse"
   ]
  },
  {
   "cell_type": "code",
   "execution_count": 7,
   "id": "01c5c9f3",
   "metadata": {
    "execution": {
     "iopub.execute_input": "2025-07-30T21:12:09.162686Z",
     "iopub.status.busy": "2025-07-30T21:12:09.161996Z",
     "iopub.status.idle": "2025-07-30T21:12:10.630252Z",
     "shell.execute_reply": "2025-07-30T21:12:10.629400Z"
    },
    "papermill": {
     "duration": 1.493166,
     "end_time": "2025-07-30T21:12:10.631776",
     "exception": false,
     "start_time": "2025-07-30T21:12:09.138610",
     "status": "completed"
    },
    "tags": []
   },
   "outputs": [],
   "source": [
    "from fairness_multiverse.universe import UniverseAnalysis\n",
    "\n",
    "universe_analysis = UniverseAnalysis(\n",
    "    run_no = run_no,\n",
    "    universe_id = universe_id,\n",
    "    universe = universe,\n",
    "    output_dir=output_dir,\n",
    ")"
   ]
  },
  {
   "cell_type": "code",
   "execution_count": 8,
   "id": "106241f5",
   "metadata": {
    "execution": {
     "iopub.execute_input": "2025-07-30T21:12:10.655448Z",
     "iopub.status.busy": "2025-07-30T21:12:10.654901Z",
     "iopub.status.idle": "2025-07-30T21:12:10.661047Z",
     "shell.execute_reply": "2025-07-30T21:12:10.660108Z"
    },
    "papermill": {
     "duration": 0.019348,
     "end_time": "2025-07-30T21:12:10.662317",
     "exception": false,
     "start_time": "2025-07-30T21:12:10.642969",
     "status": "completed"
    },
    "tags": []
   },
   "outputs": [
    {
     "name": "stdout",
     "output_type": "stream",
     "text": [
      "Using Seed: 2023\n"
     ]
    }
   ],
   "source": [
    "import numpy as np\n",
    "parsed_seed = int(seed)\n",
    "np.random.seed(parsed_seed)\n",
    "print(f\"Using Seed: {parsed_seed}\")"
   ]
  },
  {
   "cell_type": "markdown",
   "id": "e0ebdc57",
   "metadata": {
    "papermill": {
     "duration": 0.010824,
     "end_time": "2025-07-30T21:12:10.685054",
     "exception": false,
     "start_time": "2025-07-30T21:12:10.674230",
     "status": "completed"
    },
    "tags": []
   },
   "source": [
    "# Loading Data"
   ]
  },
  {
   "cell_type": "markdown",
   "id": "681925a3",
   "metadata": {
    "papermill": {
     "duration": 0.010704,
     "end_time": "2025-07-30T21:12:10.706234",
     "exception": false,
     "start_time": "2025-07-30T21:12:10.695530",
     "status": "completed"
    },
    "tags": []
   },
   "source": [
    "Load siab_train, siab_test, siab_calib and/or \n",
    "load siab_train_features, siab_train_labels"
   ]
  },
  {
   "cell_type": "code",
   "execution_count": 9,
   "id": "f0496b8a",
   "metadata": {
    "execution": {
     "iopub.execute_input": "2025-07-30T21:12:10.729449Z",
     "iopub.status.busy": "2025-07-30T21:12:10.728760Z",
     "iopub.status.idle": "2025-07-30T21:12:24.220223Z",
     "shell.execute_reply": "2025-07-30T21:12:24.218856Z"
    },
    "papermill": {
     "duration": 13.505011,
     "end_time": "2025-07-30T21:12:24.221887",
     "exception": false,
     "start_time": "2025-07-30T21:12:10.716876",
     "status": "completed"
    },
    "tags": []
   },
   "outputs": [
    {
     "name": "stdout",
     "output_type": "stream",
     "text": [
      "Loading SIAB data from cache: data/siab_cached.csv.gz\n"
     ]
    },
    {
     "name": "stdout",
     "output_type": "stream",
     "text": [
      "(643690, 164)\n"
     ]
    }
   ],
   "source": [
    "from pathlib import Path\n",
    "import pandas as pd\n",
    "\n",
    "# File paths\n",
    "raw_file = Path(\"data/raw/siab.csv\")\n",
    "cache_file = Path(\"data/siab_cached.csv.gz\")\n",
    "\n",
    "# Ensure cache directory exists\n",
    "cache_file.parent.mkdir(parents=True, exist_ok=True)\n",
    "\n",
    "# Load with simple caching\n",
    "if cache_file.exists():\n",
    "    print(f\"Loading SIAB data from cache: {cache_file}\")\n",
    "    siab = pd.read_csv(cache_file, compression='gzip')\n",
    "else:\n",
    "    print(f\"Cache not found. Reading raw SIAB data: {raw_file}\")\n",
    "    siab = pd.read_csv(raw_file)\n",
    "    siab.to_csv(cache_file, index=False, compression='gzip')\n",
    "    print(f\"Cached SIAB data to: {cache_file}\")\n",
    "\n",
    "# Now use `siab` DataFrame as needed\n",
    "print(siab.shape)"
   ]
  },
  {
   "cell_type": "code",
   "execution_count": 10,
   "id": "db0ca512-5f53-4dba-abdb-a2888bca41ba",
   "metadata": {
    "execution": {
     "iopub.execute_input": "2025-07-30T21:12:24.268102Z",
     "iopub.status.busy": "2025-07-30T21:12:24.267122Z",
     "iopub.status.idle": "2025-07-30T21:12:24.273370Z",
     "shell.execute_reply": "2025-07-30T21:12:24.272281Z"
    },
    "papermill": {
     "duration": 0.033544,
     "end_time": "2025-07-30T21:12:24.278963",
     "exception": false,
     "start_time": "2025-07-30T21:12:24.245419",
     "status": "completed"
    },
    "tags": []
   },
   "outputs": [],
   "source": [
    "#siab"
   ]
  },
  {
   "cell_type": "code",
   "execution_count": 11,
   "id": "a0edb063",
   "metadata": {
    "execution": {
     "iopub.execute_input": "2025-07-30T21:12:24.322471Z",
     "iopub.status.busy": "2025-07-30T21:12:24.322091Z",
     "iopub.status.idle": "2025-07-30T21:12:24.327515Z",
     "shell.execute_reply": "2025-07-30T21:12:24.326368Z"
    },
    "papermill": {
     "duration": 0.028313,
     "end_time": "2025-07-30T21:12:24.329434",
     "exception": false,
     "start_time": "2025-07-30T21:12:24.301121",
     "status": "completed"
    },
    "tags": []
   },
   "outputs": [],
   "source": [
    "#import pandas as pd\n",
    "#\n",
    "#X_train = pd.read_csv(\"./data/X_train.csv\")\n",
    "#y_train = pd.read_csv(\"./data/y_train.csv\")"
   ]
  },
  {
   "cell_type": "code",
   "execution_count": 12,
   "id": "63d08085",
   "metadata": {
    "execution": {
     "iopub.execute_input": "2025-07-30T21:12:24.373730Z",
     "iopub.status.busy": "2025-07-30T21:12:24.373372Z",
     "iopub.status.idle": "2025-07-30T21:12:24.379142Z",
     "shell.execute_reply": "2025-07-30T21:12:24.377263Z"
    },
    "papermill": {
     "duration": 0.029978,
     "end_time": "2025-07-30T21:12:24.381694",
     "exception": false,
     "start_time": "2025-07-30T21:12:24.351716",
     "status": "completed"
    },
    "tags": []
   },
   "outputs": [],
   "source": [
    "#X_test = pd.read_csv(\"./data/X_test.csv\")\n",
    "#y_true = pd.read_csv(\"./data/y_test.csv\")"
   ]
  },
  {
   "cell_type": "code",
   "execution_count": 13,
   "id": "98a8d0fa-1d3d-4ed8-bb2c-281470e24add",
   "metadata": {
    "execution": {
     "iopub.execute_input": "2025-07-30T21:12:24.424212Z",
     "iopub.status.busy": "2025-07-30T21:12:24.423756Z",
     "iopub.status.idle": "2025-07-30T21:12:24.429196Z",
     "shell.execute_reply": "2025-07-30T21:12:24.428025Z"
    },
    "papermill": {
     "duration": 0.028981,
     "end_time": "2025-07-30T21:12:24.431884",
     "exception": false,
     "start_time": "2025-07-30T21:12:24.402903",
     "status": "completed"
    },
    "tags": []
   },
   "outputs": [],
   "source": [
    "# Calibration data for conformal\n",
    "#X_calib = pd.read_csv(\"./data/X_calib.csv\")\n",
    "#y_calib = pd.read_csv(\"./data/y_calib.csv\")"
   ]
  },
  {
   "cell_type": "markdown",
   "id": "997051c5-15bd-4b69-9786-c3001a3ce484",
   "metadata": {
    "papermill": {
     "duration": 0.021719,
     "end_time": "2025-07-30T21:12:24.475619",
     "exception": false,
     "start_time": "2025-07-30T21:12:24.453900",
     "status": "completed"
    },
    "tags": []
   },
   "source": [
    "# Splitting Data and Setting Training Data Size"
   ]
  },
  {
   "cell_type": "code",
   "execution_count": 14,
   "id": "e993b61f-042d-41a6-8c81-f55681f86335",
   "metadata": {
    "execution": {
     "iopub.execute_input": "2025-07-30T21:12:24.525391Z",
     "iopub.status.busy": "2025-07-30T21:12:24.524907Z",
     "iopub.status.idle": "2025-07-30T21:12:24.537732Z",
     "shell.execute_reply": "2025-07-30T21:12:24.536448Z"
    },
    "papermill": {
     "duration": 0.042173,
     "end_time": "2025-07-30T21:12:24.539589",
     "exception": false,
     "start_time": "2025-07-30T21:12:24.497416",
     "status": "completed"
    },
    "tags": []
   },
   "outputs": [],
   "source": [
    "def sample_by_year_size(df,\n",
    "                        training_year: str,\n",
    "                        training_size: str,\n",
    "                        random_state: int = 42):\n",
    "    # --- parse training_year into a list of int years ---\n",
    "    if \"_\" in training_year:\n",
    "        start_str, end_str = training_year.split(\"_\", 1)\n",
    "        start = int(start_str)\n",
    "        end   = int(end_str) if len(end_str) == 4 else (int(end_str) + (start // 100)*100)\n",
    "        years = list(range(start, end + 1))\n",
    "    else:\n",
    "        years = [int(training_year)]\n",
    "\n",
    "    df = df[df[\"year\"].isin(years)].reset_index(drop=True)\n",
    "\n",
    "    # --- map training_size to total number of samples ---\n",
    "    total_map = {\"25k\": 25_000, \"5k\": 5_000, \"1k\": 1_000}\n",
    "    if training_size not in total_map:\n",
    "        return df  # e.g. \"all\"\n",
    "\n",
    "    total_samples = total_map[training_size]\n",
    "    n_years       = len(years)\n",
    "    base          = total_samples // n_years\n",
    "    remainder     = total_samples % n_years\n",
    "\n",
    "    # --- build a dict: year -> how many to sample ---\n",
    "    # give +1 to the first `remainder` years in ascending order\n",
    "    quotas = {\n",
    "        year: base + (1 if idx < remainder else 0)\n",
    "        for idx, year in enumerate(sorted(years))\n",
    "    }\n",
    "\n",
    "    # --- sample per‐year according to the quota dict ---\n",
    "    sampled = (\n",
    "        df\n",
    "        .groupby(\"year\", group_keys=False)\n",
    "        .apply(lambda grp: grp.sample(\n",
    "            n=min(len(grp), quotas[grp.name]),\n",
    "            random_state=random_state))\n",
    "        .reset_index(drop=True)\n",
    "    )\n",
    "\n",
    "    return sampled"
   ]
  },
  {
   "cell_type": "code",
   "execution_count": 15,
   "id": "c0ccd338-0e02-41f3-a09d-f56f9266e3fb",
   "metadata": {
    "execution": {
     "iopub.execute_input": "2025-07-30T21:12:24.582420Z",
     "iopub.status.busy": "2025-07-30T21:12:24.581999Z",
     "iopub.status.idle": "2025-07-30T21:12:24.587074Z",
     "shell.execute_reply": "2025-07-30T21:12:24.586177Z"
    },
    "papermill": {
     "duration": 0.027213,
     "end_time": "2025-07-30T21:12:24.588760",
     "exception": false,
     "start_time": "2025-07-30T21:12:24.561547",
     "status": "completed"
    },
    "tags": []
   },
   "outputs": [],
   "source": [
    "#universe[\"training_size\"]"
   ]
  },
  {
   "cell_type": "code",
   "execution_count": 16,
   "id": "ca707fd7-8047-4acd-bfa5-66248fbbf8e6",
   "metadata": {
    "execution": {
     "iopub.execute_input": "2025-07-30T21:12:24.631153Z",
     "iopub.status.busy": "2025-07-30T21:12:24.630775Z",
     "iopub.status.idle": "2025-07-30T21:12:24.635869Z",
     "shell.execute_reply": "2025-07-30T21:12:24.634811Z"
    },
    "papermill": {
     "duration": 0.027466,
     "end_time": "2025-07-30T21:12:24.637448",
     "exception": false,
     "start_time": "2025-07-30T21:12:24.609982",
     "status": "completed"
    },
    "tags": []
   },
   "outputs": [],
   "source": [
    "#universe[\"training_year\"]"
   ]
  },
  {
   "cell_type": "code",
   "execution_count": 17,
   "id": "aea9c6ef-6f46-42c8-85eb-5a62025c1508",
   "metadata": {
    "execution": {
     "iopub.execute_input": "2025-07-30T21:12:24.685151Z",
     "iopub.status.busy": "2025-07-30T21:12:24.684118Z",
     "iopub.status.idle": "2025-07-30T21:12:25.751019Z",
     "shell.execute_reply": "2025-07-30T21:12:25.749927Z"
    },
    "papermill": {
     "duration": 1.093642,
     "end_time": "2025-07-30T21:12:25.753010",
     "exception": false,
     "start_time": "2025-07-30T21:12:24.659368",
     "status": "completed"
    },
    "tags": []
   },
   "outputs": [],
   "source": [
    "siab_train = sample_by_year_size(siab,\n",
    "                               training_year=universe[\"training_year\"],\n",
    "                               training_size=universe[\"training_size\"])"
   ]
  },
  {
   "cell_type": "code",
   "execution_count": 18,
   "id": "8d3afb32-789d-442c-8d5d-9f5aa8dd2eed",
   "metadata": {
    "execution": {
     "iopub.execute_input": "2025-07-30T21:12:25.800249Z",
     "iopub.status.busy": "2025-07-30T21:12:25.798995Z",
     "iopub.status.idle": "2025-07-30T21:12:25.805395Z",
     "shell.execute_reply": "2025-07-30T21:12:25.804385Z"
    },
    "papermill": {
     "duration": 0.032275,
     "end_time": "2025-07-30T21:12:25.807379",
     "exception": false,
     "start_time": "2025-07-30T21:12:25.775104",
     "status": "completed"
    },
    "tags": []
   },
   "outputs": [],
   "source": [
    "#siab_train.shape"
   ]
  },
  {
   "cell_type": "code",
   "execution_count": 19,
   "id": "d582db68-1a4c-47fb-84fc-08518dc1975a",
   "metadata": {
    "execution": {
     "iopub.execute_input": "2025-07-30T21:12:25.853826Z",
     "iopub.status.busy": "2025-07-30T21:12:25.853150Z",
     "iopub.status.idle": "2025-07-30T21:12:25.859282Z",
     "shell.execute_reply": "2025-07-30T21:12:25.858047Z"
    },
    "papermill": {
     "duration": 0.032362,
     "end_time": "2025-07-30T21:12:25.861530",
     "exception": false,
     "start_time": "2025-07-30T21:12:25.829168",
     "status": "completed"
    },
    "tags": []
   },
   "outputs": [],
   "source": [
    "#display(siab_train.groupby(\"year\").size())"
   ]
  },
  {
   "cell_type": "code",
   "execution_count": 20,
   "id": "a561edb4-d032-42cb-8256-22eac1111c64",
   "metadata": {
    "execution": {
     "iopub.execute_input": "2025-07-30T21:12:25.906347Z",
     "iopub.status.busy": "2025-07-30T21:12:25.905816Z",
     "iopub.status.idle": "2025-07-30T21:12:26.273734Z",
     "shell.execute_reply": "2025-07-30T21:12:26.271915Z"
    },
    "papermill": {
     "duration": 0.392314,
     "end_time": "2025-07-30T21:12:26.275552",
     "exception": false,
     "start_time": "2025-07-30T21:12:25.883238",
     "status": "completed"
    },
    "tags": []
   },
   "outputs": [],
   "source": [
    "#siab_train = siab_s[siab_s.year < 2015]\n",
    "siab_calib = siab[siab.year == 2015]\n",
    "siab_test = siab[siab.year == 2016]"
   ]
  },
  {
   "cell_type": "code",
   "execution_count": 21,
   "id": "472de16f-c3db-4916-846b-1f0de9cf1746",
   "metadata": {
    "execution": {
     "iopub.execute_input": "2025-07-30T21:12:26.353906Z",
     "iopub.status.busy": "2025-07-30T21:12:26.353517Z",
     "iopub.status.idle": "2025-07-30T21:12:26.362350Z",
     "shell.execute_reply": "2025-07-30T21:12:26.361379Z"
    },
    "papermill": {
     "duration": 0.070966,
     "end_time": "2025-07-30T21:12:26.378482",
     "exception": false,
     "start_time": "2025-07-30T21:12:26.307516",
     "status": "completed"
    },
    "tags": []
   },
   "outputs": [],
   "source": [
    "X_train = siab_train.iloc[:,4:164]\n",
    "y_train = siab_train.iloc[:, [3]]"
   ]
  },
  {
   "cell_type": "code",
   "execution_count": 22,
   "id": "828c96af-f43a-4ed6-ba47-8ac73a47d56c",
   "metadata": {
    "execution": {
     "iopub.execute_input": "2025-07-30T21:12:26.495352Z",
     "iopub.status.busy": "2025-07-30T21:12:26.494954Z",
     "iopub.status.idle": "2025-07-30T21:12:26.570529Z",
     "shell.execute_reply": "2025-07-30T21:12:26.569293Z"
    },
    "papermill": {
     "duration": 0.129167,
     "end_time": "2025-07-30T21:12:26.572828",
     "exception": false,
     "start_time": "2025-07-30T21:12:26.443661",
     "status": "completed"
    },
    "tags": []
   },
   "outputs": [],
   "source": [
    "X_calib = siab_calib.iloc[:,4:164]\n",
    "y_calib = siab_calib.iloc[:, [3]]"
   ]
  },
  {
   "cell_type": "code",
   "execution_count": 23,
   "id": "c34be9c3-6bd6-476e-acd3-845840e303be",
   "metadata": {
    "execution": {
     "iopub.execute_input": "2025-07-30T21:12:26.630066Z",
     "iopub.status.busy": "2025-07-30T21:12:26.629676Z",
     "iopub.status.idle": "2025-07-30T21:12:26.682966Z",
     "shell.execute_reply": "2025-07-30T21:12:26.681857Z"
    },
    "papermill": {
     "duration": 0.083849,
     "end_time": "2025-07-30T21:12:26.684928",
     "exception": false,
     "start_time": "2025-07-30T21:12:26.601079",
     "status": "completed"
    },
    "tags": []
   },
   "outputs": [],
   "source": [
    "X_test = siab_test.iloc[:,4:164]\n",
    "y_true = siab_test.iloc[:, [3]]"
   ]
  },
  {
   "cell_type": "markdown",
   "id": "9901737e-04df-44f0-9100-f5ad144ed040",
   "metadata": {
    "papermill": {
     "duration": 0.020273,
     "end_time": "2025-07-30T21:12:26.727602",
     "exception": false,
     "start_time": "2025-07-30T21:12:26.707329",
     "status": "completed"
    },
    "tags": []
   },
   "source": [
    "# Splitting Data and Setting Training Data Size OLD VERSION"
   ]
  },
  {
   "cell_type": "code",
   "execution_count": 24,
   "id": "acbc8f7d-8fc8-4e86-8c59-5dcb0f58384b",
   "metadata": {
    "execution": {
     "iopub.execute_input": "2025-07-30T21:12:26.773652Z",
     "iopub.status.busy": "2025-07-30T21:12:26.772938Z",
     "iopub.status.idle": "2025-07-30T21:12:26.778586Z",
     "shell.execute_reply": "2025-07-30T21:12:26.777578Z"
    },
    "papermill": {
     "duration": 0.030476,
     "end_time": "2025-07-30T21:12:26.780275",
     "exception": false,
     "start_time": "2025-07-30T21:12:26.749799",
     "status": "completed"
    },
    "tags": []
   },
   "outputs": [],
   "source": [
    "#def sample_by_year(df, training_size, random_state=42):\n",
    "#    if training_size == \"2014\":\n",
    "#        return df[df[\"year\"] == 2014].reset_index(drop=True)\n",
    "#    \n",
    "#    size_map = {\n",
    "#        \"25k\": 5000,\n",
    "#        \"5k\": 1000,\n",
    "#        \"1k\": 200\n",
    "#    }\n",
    "#\n",
    "#    if training_size not in size_map:\n",
    "#        return df.reset_index(drop=True)  # use all data\n",
    "#\n",
    "#    n_per_year = size_map[training_size]\n",
    "#    grouped = df.groupby(\"year\")\n",
    "#    sampled = grouped.apply(lambda x: x.sample(n=min(n_per_year, len(x)), random_state=random_state))\n",
    "#    return sampled.reset_index(drop=True)"
   ]
  },
  {
   "cell_type": "code",
   "execution_count": 25,
   "id": "6d931f52-beaf-43ff-9e78-9d44a448d54e",
   "metadata": {
    "execution": {
     "iopub.execute_input": "2025-07-30T21:12:26.828973Z",
     "iopub.status.busy": "2025-07-30T21:12:26.828455Z",
     "iopub.status.idle": "2025-07-30T21:12:26.834018Z",
     "shell.execute_reply": "2025-07-30T21:12:26.832985Z"
    },
    "papermill": {
     "duration": 0.032465,
     "end_time": "2025-07-30T21:12:26.835686",
     "exception": false,
     "start_time": "2025-07-30T21:12:26.803221",
     "status": "completed"
    },
    "tags": []
   },
   "outputs": [],
   "source": [
    "#siab_s = sample_by_year(siab, universe[\"training_size\"])"
   ]
  },
  {
   "cell_type": "code",
   "execution_count": 26,
   "id": "5db0a40e-a4e2-4920-be85-b12ae061d70d",
   "metadata": {
    "execution": {
     "iopub.execute_input": "2025-07-30T21:12:26.882093Z",
     "iopub.status.busy": "2025-07-30T21:12:26.881428Z",
     "iopub.status.idle": "2025-07-30T21:12:26.886799Z",
     "shell.execute_reply": "2025-07-30T21:12:26.885775Z"
    },
    "papermill": {
     "duration": 0.030785,
     "end_time": "2025-07-30T21:12:26.888675",
     "exception": false,
     "start_time": "2025-07-30T21:12:26.857890",
     "status": "completed"
    },
    "tags": []
   },
   "outputs": [],
   "source": [
    "#display(siab_s.groupby(\"year\").size())"
   ]
  },
  {
   "cell_type": "code",
   "execution_count": 27,
   "id": "e6c733c5",
   "metadata": {
    "execution": {
     "iopub.execute_input": "2025-07-30T21:12:26.935006Z",
     "iopub.status.busy": "2025-07-30T21:12:26.934334Z",
     "iopub.status.idle": "2025-07-30T21:12:27.055143Z",
     "shell.execute_reply": "2025-07-30T21:12:27.048498Z"
    },
    "papermill": {
     "duration": 0.145687,
     "end_time": "2025-07-30T21:12:27.056925",
     "exception": false,
     "start_time": "2025-07-30T21:12:26.911238",
     "status": "completed"
    },
    "tags": []
   },
   "outputs": [],
   "source": [
    "# Auxiliary data needed downstream in the pipeline\n",
    "\n",
    "org_train = X_train.copy()\n",
    "org_test = X_test.copy()\n",
    "org_calib = X_calib.copy()"
   ]
  },
  {
   "cell_type": "code",
   "execution_count": 28,
   "id": "1466abac-c6da-4492-a62f-4240ae3783af",
   "metadata": {
    "execution": {
     "iopub.execute_input": "2025-07-30T21:12:27.168367Z",
     "iopub.status.busy": "2025-07-30T21:12:27.167952Z",
     "iopub.status.idle": "2025-07-30T21:12:27.174121Z",
     "shell.execute_reply": "2025-07-30T21:12:27.173099Z"
    },
    "papermill": {
     "duration": 0.052704,
     "end_time": "2025-07-30T21:12:27.176996",
     "exception": false,
     "start_time": "2025-07-30T21:12:27.124292",
     "status": "completed"
    },
    "tags": []
   },
   "outputs": [],
   "source": [
    "# put in other script?\n",
    "# Group sizes\n",
    "\n",
    "#def calculate_percentages(df, df_name):\n",
    "#    total_entries = len(df)\n",
    "#\n",
    "#    female_pct = (df['frau1'] == 1).mean() * 100\n",
    "#    non_german_pct = ((df['maxdeutsch1'] == 0) & (df['maxdeutsch.Missing.'] == 0)).mean() * 100\n",
    "#    non_german_male_pct = ((df['frau1'] == 0) & (df['maxdeutsch1'] == 0) & (df['maxdeutsch.Missing.'] == 0)).mean() * 100\n",
    "#    non_german_female_pct = ((df['frau1'] == 1) & (df['maxdeutsch1'] == 0) & (df['maxdeutsch.Missing.'] == 0)).mean() * 100\n",
    "#\n",
    "#    print(f\"--- {df_name} ---\")\n",
    "#    print(f\"Female: {female_pct:.2f}%\")\n",
    "#    print(f\"Non-German: {non_german_pct:.2f}%\")\n",
    "#    print(f\"Non-German Male: {non_german_male_pct:.2f}%\")\n",
    "#    print(f\"Non-German Female: {non_german_female_pct:.2f}%\\n\")\n",
    "#\n",
    "## Calculate for each DataFrame\n",
    "#calculate_percentages(siab_calib, \"siab_calib\")\n",
    "#calculate_percentages(siab_test, \"siab_test\")\n",
    "#calculate_percentages(siab_train, \"siab_train\")"
   ]
  },
  {
   "cell_type": "markdown",
   "id": "0a4a1b33",
   "metadata": {
    "papermill": {
     "duration": 0.019772,
     "end_time": "2025-07-30T21:12:27.218362",
     "exception": false,
     "start_time": "2025-07-30T21:12:27.198590",
     "status": "completed"
    },
    "tags": []
   },
   "source": [
    "# Preprocessing Data"
   ]
  },
  {
   "cell_type": "code",
   "execution_count": 29,
   "id": "ca879031",
   "metadata": {
    "execution": {
     "iopub.execute_input": "2025-07-30T21:12:27.262937Z",
     "iopub.status.busy": "2025-07-30T21:12:27.262536Z",
     "iopub.status.idle": "2025-07-30T21:12:27.268837Z",
     "shell.execute_reply": "2025-07-30T21:12:27.267707Z"
    },
    "papermill": {
     "duration": 0.03217,
     "end_time": "2025-07-30T21:12:27.271722",
     "exception": false,
     "start_time": "2025-07-30T21:12:27.239552",
     "status": "completed"
    },
    "tags": []
   },
   "outputs": [],
   "source": [
    "# EXCLUDE PROTECTED FEATURES\n",
    "# ----------------------\n",
    "# \"exclude_features\": \"none\", # \"nationality\", \"sex\", \"nationality-sex\"\n",
    "\n",
    "excluded_features = universe[\"exclude_features\"].split(\"-\") # split, e.g.: \"nationality-sex\" -> [\"nationality\", \"sex\"]\n",
    "excluded_features_dictionary = {\n",
    "    \"nationality\": [\"maxdeutsch1\", \"maxdeutsch.Missing.\"],\n",
    "    \"sex\": [\"frau1\"],\n",
    "    \"age\": [\"age\"],\n",
    "}\n"
   ]
  },
  {
   "cell_type": "code",
   "execution_count": 30,
   "id": "b745ac60",
   "metadata": {
    "execution": {
     "iopub.execute_input": "2025-07-30T21:12:27.317602Z",
     "iopub.status.busy": "2025-07-30T21:12:27.317207Z",
     "iopub.status.idle": "2025-07-30T21:12:27.323164Z",
     "shell.execute_reply": "2025-07-30T21:12:27.322129Z"
    },
    "papermill": {
     "duration": 0.03135,
     "end_time": "2025-07-30T21:12:27.326468",
     "exception": false,
     "start_time": "2025-07-30T21:12:27.295118",
     "status": "completed"
    },
    "tags": []
   },
   "outputs": [],
   "source": [
    "# Code nice names to column names\n",
    "\n",
    "excluded_features_columns = [\n",
    "    excluded_features_dictionary[f] for f in excluded_features if len(f) > 0 and f != \"none\"\n",
    "]"
   ]
  },
  {
   "cell_type": "code",
   "execution_count": 31,
   "id": "f84f73a2",
   "metadata": {
    "execution": {
     "iopub.execute_input": "2025-07-30T21:12:27.379372Z",
     "iopub.status.busy": "2025-07-30T21:12:27.378964Z",
     "iopub.status.idle": "2025-07-30T21:12:27.385236Z",
     "shell.execute_reply": "2025-07-30T21:12:27.384261Z"
    },
    "papermill": {
     "duration": 0.032079,
     "end_time": "2025-07-30T21:12:27.387885",
     "exception": false,
     "start_time": "2025-07-30T21:12:27.355806",
     "status": "completed"
    },
    "tags": []
   },
   "outputs": [],
   "source": [
    "from utils import flatten_once\n",
    "\n",
    "excluded_features_columns = flatten_once(excluded_features_columns)"
   ]
  },
  {
   "cell_type": "code",
   "execution_count": 32,
   "id": "884dea22",
   "metadata": {
    "execution": {
     "iopub.execute_input": "2025-07-30T21:12:27.433066Z",
     "iopub.status.busy": "2025-07-30T21:12:27.432654Z",
     "iopub.status.idle": "2025-07-30T21:12:27.442834Z",
     "shell.execute_reply": "2025-07-30T21:12:27.441637Z"
    },
    "papermill": {
     "duration": 0.037387,
     "end_time": "2025-07-30T21:12:27.446964",
     "exception": false,
     "start_time": "2025-07-30T21:12:27.409577",
     "status": "completed"
    },
    "tags": []
   },
   "outputs": [
    {
     "name": "stdout",
     "output_type": "stream",
     "text": [
      "Dropping features: ['maxdeutsch1', 'maxdeutsch.Missing.', 'frau1']\n"
     ]
    }
   ],
   "source": [
    "if len(excluded_features_columns) > 0:\n",
    "    print(f\"Dropping features: {excluded_features_columns}\")\n",
    "    X_train.drop(excluded_features_columns, axis=1, inplace=True)"
   ]
  },
  {
   "cell_type": "code",
   "execution_count": 33,
   "id": "95ab8b16",
   "metadata": {
    "execution": {
     "iopub.execute_input": "2025-07-30T21:12:27.492494Z",
     "iopub.status.busy": "2025-07-30T21:12:27.492107Z",
     "iopub.status.idle": "2025-07-30T21:12:27.550729Z",
     "shell.execute_reply": "2025-07-30T21:12:27.549721Z"
    },
    "papermill": {
     "duration": 0.082683,
     "end_time": "2025-07-30T21:12:27.552417",
     "exception": false,
     "start_time": "2025-07-30T21:12:27.469734",
     "status": "completed"
    },
    "tags": []
   },
   "outputs": [
    {
     "name": "stdout",
     "output_type": "stream",
     "text": [
      "Dropping features: ['maxdeutsch1', 'maxdeutsch.Missing.', 'frau1']\n"
     ]
    }
   ],
   "source": [
    "if len(excluded_features_columns) > 0:\n",
    "    print(f\"Dropping features: {excluded_features_columns}\")\n",
    "    X_test.drop(excluded_features_columns, axis=1, inplace=True)"
   ]
  },
  {
   "cell_type": "code",
   "execution_count": 34,
   "id": "1853aaf5-fb9f-46cb-a2b5-8ea4ae2237e4",
   "metadata": {
    "execution": {
     "iopub.execute_input": "2025-07-30T21:12:27.651284Z",
     "iopub.status.busy": "2025-07-30T21:12:27.650799Z",
     "iopub.status.idle": "2025-07-30T21:12:27.725748Z",
     "shell.execute_reply": "2025-07-30T21:12:27.724520Z"
    },
    "papermill": {
     "duration": 0.147748,
     "end_time": "2025-07-30T21:12:27.729230",
     "exception": false,
     "start_time": "2025-07-30T21:12:27.581482",
     "status": "completed"
    },
    "tags": []
   },
   "outputs": [
    {
     "name": "stdout",
     "output_type": "stream",
     "text": [
      "Dropping features: ['maxdeutsch1', 'maxdeutsch.Missing.', 'frau1']\n"
     ]
    }
   ],
   "source": [
    "if len(excluded_features_columns) > 0:\n",
    "    print(f\"Dropping features: {excluded_features_columns}\")\n",
    "    X_calib.drop(excluded_features_columns, axis=1, inplace=True)"
   ]
  },
  {
   "cell_type": "code",
   "execution_count": 35,
   "id": "6727d079-03e5-481e-9d38-292a90b7a0a8",
   "metadata": {
    "execution": {
     "iopub.execute_input": "2025-07-30T21:12:27.776608Z",
     "iopub.status.busy": "2025-07-30T21:12:27.776109Z",
     "iopub.status.idle": "2025-07-30T21:12:27.781208Z",
     "shell.execute_reply": "2025-07-30T21:12:27.780082Z"
    },
    "papermill": {
     "duration": 0.030886,
     "end_time": "2025-07-30T21:12:27.782906",
     "exception": false,
     "start_time": "2025-07-30T21:12:27.752020",
     "status": "completed"
    },
    "tags": []
   },
   "outputs": [],
   "source": [
    "# SPLIT & STRATIFY DATA\n",
    "# ----------------------"
   ]
  },
  {
   "cell_type": "code",
   "execution_count": 36,
   "id": "76c4dc6d",
   "metadata": {
    "execution": {
     "iopub.execute_input": "2025-07-30T21:12:27.831036Z",
     "iopub.status.busy": "2025-07-30T21:12:27.830542Z",
     "iopub.status.idle": "2025-07-30T21:12:27.836356Z",
     "shell.execute_reply": "2025-07-30T21:12:27.835394Z"
    },
    "papermill": {
     "duration": 0.030722,
     "end_time": "2025-07-30T21:12:27.838092",
     "exception": false,
     "start_time": "2025-07-30T21:12:27.807370",
     "status": "completed"
    },
    "tags": []
   },
   "outputs": [],
   "source": [
    "# EXCLUDE CERTAIN SUBGROUPS\n",
    "# ----------------------\n",
    "\n",
    "mode = universe.get(\"exclude_subgroups\", \"keep-all\") \n",
    "# Fetches the exclude_subgroups setting from the universe dict.\n",
    "# Defaults to \"keep-all\" if the key is missing."
   ]
  },
  {
   "cell_type": "code",
   "execution_count": 37,
   "id": "21994072",
   "metadata": {
    "execution": {
     "iopub.execute_input": "2025-07-30T21:12:27.887903Z",
     "iopub.status.busy": "2025-07-30T21:12:27.886971Z",
     "iopub.status.idle": "2025-07-30T21:12:27.894104Z",
     "shell.execute_reply": "2025-07-30T21:12:27.893088Z"
    },
    "papermill": {
     "duration": 0.034148,
     "end_time": "2025-07-30T21:12:27.895958",
     "exception": false,
     "start_time": "2025-07-30T21:12:27.861810",
     "status": "completed"
    },
    "tags": []
   },
   "outputs": [],
   "source": [
    "if mode == \"keep-all\":\n",
    "    keep_mask = pd.Series(True, index=org_train.index)\n",
    "\n",
    "# org_train contains the original feature columns from features_org (in Simson)\n",
    "# features_org contains unprocessed features, for me X_train at beginning ???\n",
    "# For keep-all, creates a boolean Series (keep_mask) of all True, so no rows are removed.\n",
    "\n",
    "elif mode == \"drop-non-german\":\n",
    "    keep_mask = org_train[\"maxdeutsch1\"] == 1 # ??? what about missing values?\n",
    "\n",
    "else:\n",
    "    raise ValueError(f\"Unsupported mode for exclude_subgroups: {mode}\")\n"
   ]
  },
  {
   "cell_type": "code",
   "execution_count": 38,
   "id": "71651440",
   "metadata": {
    "execution": {
     "iopub.execute_input": "2025-07-30T21:12:27.944919Z",
     "iopub.status.busy": "2025-07-30T21:12:27.944327Z",
     "iopub.status.idle": "2025-07-30T21:12:27.952636Z",
     "shell.execute_reply": "2025-07-30T21:12:27.951411Z"
    },
    "papermill": {
     "duration": 0.035011,
     "end_time": "2025-07-30T21:12:27.954604",
     "exception": false,
     "start_time": "2025-07-30T21:12:27.919593",
     "status": "completed"
    },
    "tags": []
   },
   "outputs": [],
   "source": [
    "n_drop = (~keep_mask).sum() # Calculates how many rows are set to be dropped\n",
    "if n_drop > 0:\n",
    "    pct = n_drop / len(keep_mask) * 100\n",
    "    print(f\"Dropping {n_drop} rows ({pct:.2f}%) where mode='{mode}'\")"
   ]
  },
  {
   "cell_type": "code",
   "execution_count": 39,
   "id": "5fb8eee5",
   "metadata": {
    "execution": {
     "iopub.execute_input": "2025-07-30T21:12:28.002976Z",
     "iopub.status.busy": "2025-07-30T21:12:28.002033Z",
     "iopub.status.idle": "2025-07-30T21:12:28.014073Z",
     "shell.execute_reply": "2025-07-30T21:12:28.012603Z"
    },
    "papermill": {
     "duration": 0.038764,
     "end_time": "2025-07-30T21:12:28.016313",
     "exception": false,
     "start_time": "2025-07-30T21:12:27.977549",
     "status": "completed"
    },
    "tags": []
   },
   "outputs": [],
   "source": [
    "X_train = X_train[keep_mask]"
   ]
  },
  {
   "cell_type": "code",
   "execution_count": 40,
   "id": "b202bb3a",
   "metadata": {
    "execution": {
     "iopub.execute_input": "2025-07-30T21:12:28.065045Z",
     "iopub.status.busy": "2025-07-30T21:12:28.064293Z",
     "iopub.status.idle": "2025-07-30T21:12:28.071342Z",
     "shell.execute_reply": "2025-07-30T21:12:28.070283Z"
    },
    "papermill": {
     "duration": 0.0333,
     "end_time": "2025-07-30T21:12:28.073015",
     "exception": false,
     "start_time": "2025-07-30T21:12:28.039715",
     "status": "completed"
    },
    "tags": []
   },
   "outputs": [],
   "source": [
    "y_train = y_train[keep_mask]"
   ]
  },
  {
   "cell_type": "markdown",
   "id": "493e2ac3",
   "metadata": {
    "papermill": {
     "duration": 0.021829,
     "end_time": "2025-07-30T21:12:28.118479",
     "exception": false,
     "start_time": "2025-07-30T21:12:28.096650",
     "status": "completed"
    },
    "tags": []
   },
   "source": [
    "# Model Training"
   ]
  },
  {
   "cell_type": "code",
   "execution_count": 41,
   "id": "679e1268",
   "metadata": {
    "execution": {
     "iopub.execute_input": "2025-07-30T21:12:28.168178Z",
     "iopub.status.busy": "2025-07-30T21:12:28.167759Z",
     "iopub.status.idle": "2025-07-30T21:12:28.389483Z",
     "shell.execute_reply": "2025-07-30T21:12:28.388361Z"
    },
    "papermill": {
     "duration": 0.24991,
     "end_time": "2025-07-30T21:12:28.391422",
     "exception": false,
     "start_time": "2025-07-30T21:12:28.141512",
     "status": "completed"
    },
    "tags": []
   },
   "outputs": [],
   "source": [
    "from sklearn.linear_model import LogisticRegression\n",
    "from sklearn.ensemble import GradientBoostingClassifier, RandomForestClassifier\n",
    "\n",
    "if (universe[\"model\"] == \"logreg\"):\n",
    "    model = LogisticRegression() #penalty=\"none\") #, solver=\"newton-cg\", max_iter=1) # include random_state=19 ?\n",
    "elif (universe[\"model\"] == \"penalized_logreg\"):\n",
    "    model = LogisticRegression(penalty=\"l2\", C=1.0) #, solver=\"newton-cg\", max_iter=1)\n",
    "elif (universe[\"model\"] == \"rf\"):\n",
    "    model = RandomForestClassifier(n_estimators=100, n_jobs=-1)\n",
    "elif (universe[\"model\"] == \"gbm\"):\n",
    "    model = GradientBoostingClassifier()\n",
    "elif (universe[\"model\"] == \"elasticnet\"):\n",
    "    model = LogisticRegression(penalty = 'elasticnet', solver = 'saga', l1_ratio = 0.5, max_iter=5000) # which solver to use?\n",
    "else:\n",
    "    raise \"Unsupported universe.model\""
   ]
  },
  {
   "cell_type": "code",
   "execution_count": 42,
   "id": "0cc8f744",
   "metadata": {
    "execution": {
     "iopub.execute_input": "2025-07-30T21:12:28.486082Z",
     "iopub.status.busy": "2025-07-30T21:12:28.485680Z",
     "iopub.status.idle": "2025-07-30T21:12:28.492897Z",
     "shell.execute_reply": "2025-07-30T21:12:28.491985Z"
    },
    "papermill": {
     "duration": 0.081751,
     "end_time": "2025-07-30T21:12:28.503369",
     "exception": false,
     "start_time": "2025-07-30T21:12:28.421618",
     "status": "completed"
    },
    "tags": []
   },
   "outputs": [],
   "source": [
    "import numpy as np\n",
    "from sklearn.pipeline import Pipeline\n",
    "from sklearn.preprocessing import StandardScaler\n",
    "\n",
    "model = Pipeline([\n",
    "    #(\"continuous_processor\", continuous_processor),\n",
    "    #(\"categorical_preprocessor\", categorical_preprocessor),\n",
    "    (\"scale\", StandardScaler() if universe[\"scale\"] == \"scale\" else None), \n",
    "    (\"model\", model),\n",
    "])"
   ]
  },
  {
   "cell_type": "code",
   "execution_count": 43,
   "id": "9442c04d",
   "metadata": {
    "execution": {
     "iopub.execute_input": "2025-07-30T21:12:28.570365Z",
     "iopub.status.busy": "2025-07-30T21:12:28.569940Z",
     "iopub.status.idle": "2025-07-30T21:12:29.621348Z",
     "shell.execute_reply": "2025-07-30T21:12:29.620432Z"
    },
    "papermill": {
     "duration": 1.07608,
     "end_time": "2025-07-30T21:12:29.622957",
     "exception": false,
     "start_time": "2025-07-30T21:12:28.546877",
     "status": "completed"
    },
    "tags": []
   },
   "outputs": [
    {
     "data": {
      "text/html": [
       "<style>#sk-container-id-1 {color: black;background-color: white;}#sk-container-id-1 pre{padding: 0;}#sk-container-id-1 div.sk-toggleable {background-color: white;}#sk-container-id-1 label.sk-toggleable__label {cursor: pointer;display: block;width: 100%;margin-bottom: 0;padding: 0.3em;box-sizing: border-box;text-align: center;}#sk-container-id-1 label.sk-toggleable__label-arrow:before {content: \"▸\";float: left;margin-right: 0.25em;color: #696969;}#sk-container-id-1 label.sk-toggleable__label-arrow:hover:before {color: black;}#sk-container-id-1 div.sk-estimator:hover label.sk-toggleable__label-arrow:before {color: black;}#sk-container-id-1 div.sk-toggleable__content {max-height: 0;max-width: 0;overflow: hidden;text-align: left;background-color: #f0f8ff;}#sk-container-id-1 div.sk-toggleable__content pre {margin: 0.2em;color: black;border-radius: 0.25em;background-color: #f0f8ff;}#sk-container-id-1 input.sk-toggleable__control:checked~div.sk-toggleable__content {max-height: 200px;max-width: 100%;overflow: auto;}#sk-container-id-1 input.sk-toggleable__control:checked~label.sk-toggleable__label-arrow:before {content: \"▾\";}#sk-container-id-1 div.sk-estimator input.sk-toggleable__control:checked~label.sk-toggleable__label {background-color: #d4ebff;}#sk-container-id-1 div.sk-label input.sk-toggleable__control:checked~label.sk-toggleable__label {background-color: #d4ebff;}#sk-container-id-1 input.sk-hidden--visually {border: 0;clip: rect(1px 1px 1px 1px);clip: rect(1px, 1px, 1px, 1px);height: 1px;margin: -1px;overflow: hidden;padding: 0;position: absolute;width: 1px;}#sk-container-id-1 div.sk-estimator {font-family: monospace;background-color: #f0f8ff;border: 1px dotted black;border-radius: 0.25em;box-sizing: border-box;margin-bottom: 0.5em;}#sk-container-id-1 div.sk-estimator:hover {background-color: #d4ebff;}#sk-container-id-1 div.sk-parallel-item::after {content: \"\";width: 100%;border-bottom: 1px solid gray;flex-grow: 1;}#sk-container-id-1 div.sk-label:hover label.sk-toggleable__label {background-color: #d4ebff;}#sk-container-id-1 div.sk-serial::before {content: \"\";position: absolute;border-left: 1px solid gray;box-sizing: border-box;top: 0;bottom: 0;left: 50%;z-index: 0;}#sk-container-id-1 div.sk-serial {display: flex;flex-direction: column;align-items: center;background-color: white;padding-right: 0.2em;padding-left: 0.2em;position: relative;}#sk-container-id-1 div.sk-item {position: relative;z-index: 1;}#sk-container-id-1 div.sk-parallel {display: flex;align-items: stretch;justify-content: center;background-color: white;position: relative;}#sk-container-id-1 div.sk-item::before, #sk-container-id-1 div.sk-parallel-item::before {content: \"\";position: absolute;border-left: 1px solid gray;box-sizing: border-box;top: 0;bottom: 0;left: 50%;z-index: -1;}#sk-container-id-1 div.sk-parallel-item {display: flex;flex-direction: column;z-index: 1;position: relative;background-color: white;}#sk-container-id-1 div.sk-parallel-item:first-child::after {align-self: flex-end;width: 50%;}#sk-container-id-1 div.sk-parallel-item:last-child::after {align-self: flex-start;width: 50%;}#sk-container-id-1 div.sk-parallel-item:only-child::after {width: 0;}#sk-container-id-1 div.sk-dashed-wrapped {border: 1px dashed gray;margin: 0 0.4em 0.5em 0.4em;box-sizing: border-box;padding-bottom: 0.4em;background-color: white;}#sk-container-id-1 div.sk-label label {font-family: monospace;font-weight: bold;display: inline-block;line-height: 1.2em;}#sk-container-id-1 div.sk-label-container {text-align: center;}#sk-container-id-1 div.sk-container {/* jupyter's `normalize.less` sets `[hidden] { display: none; }` but bootstrap.min.css set `[hidden] { display: none !important; }` so we also need the `!important` here to be able to override the default hidden behavior on the sphinx rendered scikit-learn.org. See: https://github.com/scikit-learn/scikit-learn/issues/21755 */display: inline-block !important;position: relative;}#sk-container-id-1 div.sk-text-repr-fallback {display: none;}</style><div id=\"sk-container-id-1\" class=\"sk-top-container\"><div class=\"sk-text-repr-fallback\"><pre>Pipeline(steps=[(&#x27;scale&#x27;, StandardScaler()),\n",
       "                (&#x27;model&#x27;, RandomForestClassifier(n_jobs=-1))])</pre><b>In a Jupyter environment, please rerun this cell to show the HTML representation or trust the notebook. <br />On GitHub, the HTML representation is unable to render, please try loading this page with nbviewer.org.</b></div><div class=\"sk-container\" hidden><div class=\"sk-item sk-dashed-wrapped\"><div class=\"sk-label-container\"><div class=\"sk-label sk-toggleable\"><input class=\"sk-toggleable__control sk-hidden--visually\" id=\"sk-estimator-id-1\" type=\"checkbox\" ><label for=\"sk-estimator-id-1\" class=\"sk-toggleable__label sk-toggleable__label-arrow\">Pipeline</label><div class=\"sk-toggleable__content\"><pre>Pipeline(steps=[(&#x27;scale&#x27;, StandardScaler()),\n",
       "                (&#x27;model&#x27;, RandomForestClassifier(n_jobs=-1))])</pre></div></div></div><div class=\"sk-serial\"><div class=\"sk-item\"><div class=\"sk-estimator sk-toggleable\"><input class=\"sk-toggleable__control sk-hidden--visually\" id=\"sk-estimator-id-2\" type=\"checkbox\" ><label for=\"sk-estimator-id-2\" class=\"sk-toggleable__label sk-toggleable__label-arrow\">StandardScaler</label><div class=\"sk-toggleable__content\"><pre>StandardScaler()</pre></div></div></div><div class=\"sk-item\"><div class=\"sk-estimator sk-toggleable\"><input class=\"sk-toggleable__control sk-hidden--visually\" id=\"sk-estimator-id-3\" type=\"checkbox\" ><label for=\"sk-estimator-id-3\" class=\"sk-toggleable__label sk-toggleable__label-arrow\">RandomForestClassifier</label><div class=\"sk-toggleable__content\"><pre>RandomForestClassifier(n_jobs=-1)</pre></div></div></div></div></div></div></div>"
      ],
      "text/plain": [
       "Pipeline(steps=[('scale', StandardScaler()),\n",
       "                ('model', RandomForestClassifier(n_jobs=-1))])"
      ]
     },
     "execution_count": 43,
     "metadata": {},
     "output_type": "execute_result"
    }
   ],
   "source": [
    "model.fit(X_train, y_train.values.ravel())"
   ]
  },
  {
   "cell_type": "code",
   "execution_count": 44,
   "id": "af59f8c0",
   "metadata": {
    "execution": {
     "iopub.execute_input": "2025-07-30T21:12:29.673522Z",
     "iopub.status.busy": "2025-07-30T21:12:29.672960Z",
     "iopub.status.idle": "2025-07-30T21:12:29.678749Z",
     "shell.execute_reply": "2025-07-30T21:12:29.677732Z"
    },
    "papermill": {
     "duration": 0.033486,
     "end_time": "2025-07-30T21:12:29.680512",
     "exception": false,
     "start_time": "2025-07-30T21:12:29.647026",
     "status": "completed"
    },
    "tags": []
   },
   "outputs": [],
   "source": [
    "from fairness_multiverse.universe import predict_w_threshold"
   ]
  },
  {
   "cell_type": "code",
   "execution_count": 45,
   "id": "a7cf2e16",
   "metadata": {
    "execution": {
     "iopub.execute_input": "2025-07-30T21:12:29.730021Z",
     "iopub.status.busy": "2025-07-30T21:12:29.729212Z",
     "iopub.status.idle": "2025-07-30T21:12:30.648707Z",
     "shell.execute_reply": "2025-07-30T21:12:30.647673Z"
    },
    "papermill": {
     "duration": 0.945973,
     "end_time": "2025-07-30T21:12:30.650476",
     "exception": false,
     "start_time": "2025-07-30T21:12:29.704503",
     "status": "completed"
    },
    "tags": []
   },
   "outputs": [
    {
     "data": {
      "text/plain": [
       "0.8666146471965221"
      ]
     },
     "execution_count": 45,
     "metadata": {},
     "output_type": "execute_result"
    }
   ],
   "source": [
    "probs_test = model.predict_proba(X_test)\n",
    "\n",
    "'''\n",
    "Below code returns a boolean array (or binary 0/1 array depending on how it’s used) where each element \n",
    "is True if the probability of class 1 is greater than or equal to the threshold, and False otherwise.\n",
    "'''\n",
    "y_pred_default = predict_w_threshold(probs_test, 0.5)\n",
    "\n",
    "from sklearn.metrics import accuracy_score\n",
    "\n",
    "# Naive prediction\n",
    "accuracy_score(y_true = y_true, y_pred = y_pred_default)"
   ]
  },
  {
   "cell_type": "code",
   "execution_count": 46,
   "id": "081964c3",
   "metadata": {
    "execution": {
     "iopub.execute_input": "2025-07-30T21:12:30.708227Z",
     "iopub.status.busy": "2025-07-30T21:12:30.707491Z",
     "iopub.status.idle": "2025-07-30T21:12:31.732762Z",
     "shell.execute_reply": "2025-07-30T21:12:31.731725Z"
    },
    "papermill": {
     "duration": 1.053978,
     "end_time": "2025-07-30T21:12:31.734402",
     "exception": false,
     "start_time": "2025-07-30T21:12:30.680424",
     "status": "completed"
    },
    "tags": []
   },
   "outputs": [
    {
     "data": {
      "text/plain": [
       "array([0, 0, 0, ..., 0, 0, 0])"
      ]
     },
     "execution_count": 46,
     "metadata": {},
     "output_type": "execute_result"
    }
   ],
   "source": [
    "model.predict(X_test)"
   ]
  },
  {
   "cell_type": "markdown",
   "id": "56c9705b",
   "metadata": {
    "papermill": {
     "duration": 0.023782,
     "end_time": "2025-07-30T21:12:31.786915",
     "exception": false,
     "start_time": "2025-07-30T21:12:31.763133",
     "status": "completed"
    },
    "tags": []
   },
   "source": [
    "# Conformal Prediction"
   ]
  },
  {
   "cell_type": "code",
   "execution_count": 47,
   "id": "160ec6ff",
   "metadata": {
    "execution": {
     "iopub.execute_input": "2025-07-30T21:12:31.818633Z",
     "iopub.status.busy": "2025-07-30T21:12:31.818281Z",
     "iopub.status.idle": "2025-07-30T21:12:31.823350Z",
     "shell.execute_reply": "2025-07-30T21:12:31.822365Z"
    },
    "papermill": {
     "duration": 0.026423,
     "end_time": "2025-07-30T21:12:31.830364",
     "exception": false,
     "start_time": "2025-07-30T21:12:31.803941",
     "status": "completed"
    },
    "tags": []
   },
   "outputs": [],
   "source": [
    "# Miscoverage level for conformal prediction (10% allowed error rate => 90% target coverage)\n",
    "alpha = 0.1"
   ]
  },
  {
   "cell_type": "code",
   "execution_count": 48,
   "id": "eadf4555-3dd3-440e-8e35-f82a4ad9f855",
   "metadata": {
    "execution": {
     "iopub.execute_input": "2025-07-30T21:12:31.883899Z",
     "iopub.status.busy": "2025-07-30T21:12:31.883439Z",
     "iopub.status.idle": "2025-07-30T21:12:32.882990Z",
     "shell.execute_reply": "2025-07-30T21:12:32.881669Z"
    },
    "papermill": {
     "duration": 1.028267,
     "end_time": "2025-07-30T21:12:32.885233",
     "exception": false,
     "start_time": "2025-07-30T21:12:31.856966",
     "status": "completed"
    },
    "tags": []
   },
   "outputs": [],
   "source": [
    "probs_calib = model.predict_proba(X_calib)"
   ]
  },
  {
   "cell_type": "code",
   "execution_count": 49,
   "id": "2ed93547-6d5d-4983-9b36-1ecb300da49a",
   "metadata": {
    "execution": {
     "iopub.execute_input": "2025-07-30T21:12:32.941140Z",
     "iopub.status.busy": "2025-07-30T21:12:32.940142Z",
     "iopub.status.idle": "2025-07-30T21:12:32.948806Z",
     "shell.execute_reply": "2025-07-30T21:12:32.946119Z"
    },
    "papermill": {
     "duration": 0.038394,
     "end_time": "2025-07-30T21:12:32.950763",
     "exception": false,
     "start_time": "2025-07-30T21:12:32.912369",
     "status": "completed"
    },
    "tags": []
   },
   "outputs": [],
   "source": [
    "y_calib = y_calib.values.ravel().astype(int)"
   ]
  },
  {
   "cell_type": "code",
   "execution_count": 50,
   "id": "65d1320d-f588-4b38-9072-62af1ae97f7d",
   "metadata": {
    "execution": {
     "iopub.execute_input": "2025-07-30T21:12:33.005322Z",
     "iopub.status.busy": "2025-07-30T21:12:33.004562Z",
     "iopub.status.idle": "2025-07-30T21:12:33.014202Z",
     "shell.execute_reply": "2025-07-30T21:12:33.012934Z"
    },
    "papermill": {
     "duration": 0.039149,
     "end_time": "2025-07-30T21:12:33.016918",
     "exception": false,
     "start_time": "2025-07-30T21:12:32.977769",
     "status": "completed"
    },
    "tags": []
   },
   "outputs": [],
   "source": [
    "from fairness_multiverse.conformal import compute_nc_scores\n",
    "\n",
    "# Compute nonconformity scores on calibration set (1 - probability of true class)\n",
    "nc_scores = compute_nc_scores(probs_calib, y_calib)"
   ]
  },
  {
   "cell_type": "code",
   "execution_count": 51,
   "id": "df3b8ca3-53b7-43d5-9667-7c85da7aeda2",
   "metadata": {
    "execution": {
     "iopub.execute_input": "2025-07-30T21:12:33.087783Z",
     "iopub.status.busy": "2025-07-30T21:12:33.086986Z",
     "iopub.status.idle": "2025-07-30T21:12:33.095248Z",
     "shell.execute_reply": "2025-07-30T21:12:33.094078Z"
    },
    "papermill": {
     "duration": 0.046134,
     "end_time": "2025-07-30T21:12:33.097533",
     "exception": false,
     "start_time": "2025-07-30T21:12:33.051399",
     "status": "completed"
    },
    "tags": []
   },
   "outputs": [],
   "source": [
    "from fairness_multiverse.conformal import find_threshold\n",
    "\n",
    "# Find conformal threshold q_hat for the given alpha (split conformal method)\n",
    "q_hat = find_threshold(nc_scores, alpha)"
   ]
  },
  {
   "cell_type": "code",
   "execution_count": 52,
   "id": "4d29e6c1-0ef6-4aa4-b8fe-4fe79b0d033a",
   "metadata": {
    "execution": {
     "iopub.execute_input": "2025-07-30T21:12:33.171168Z",
     "iopub.status.busy": "2025-07-30T21:12:33.170719Z",
     "iopub.status.idle": "2025-07-30T21:12:33.179118Z",
     "shell.execute_reply": "2025-07-30T21:12:33.177783Z"
    },
    "papermill": {
     "duration": 0.048899,
     "end_time": "2025-07-30T21:12:33.181409",
     "exception": false,
     "start_time": "2025-07-30T21:12:33.132510",
     "status": "completed"
    },
    "tags": []
   },
   "outputs": [
    {
     "data": {
      "text/plain": [
       "0.6699999999999999"
      ]
     },
     "execution_count": 52,
     "metadata": {},
     "output_type": "execute_result"
    }
   ],
   "source": [
    "q_hat"
   ]
  },
  {
   "cell_type": "code",
   "execution_count": 53,
   "id": "92460794-cdac-4be2-ba28-f28c0515a6fb",
   "metadata": {
    "execution": {
     "iopub.execute_input": "2025-07-30T21:12:33.255448Z",
     "iopub.status.busy": "2025-07-30T21:12:33.254657Z",
     "iopub.status.idle": "2025-07-30T21:12:34.879871Z",
     "shell.execute_reply": "2025-07-30T21:12:34.879103Z"
    },
    "papermill": {
     "duration": 1.66385,
     "end_time": "2025-07-30T21:12:34.881443",
     "exception": false,
     "start_time": "2025-07-30T21:12:33.217593",
     "status": "completed"
    },
    "tags": []
   },
   "outputs": [],
   "source": [
    "from fairness_multiverse.conformal import predict_conformal_sets\n",
    "\n",
    "# Generate prediction sets for each test example\n",
    "pred_sets = predict_conformal_sets(model, X_test, q_hat)"
   ]
  },
  {
   "cell_type": "code",
   "execution_count": 54,
   "id": "d90c9a65-e6db-4f5d-80cd-e68fb7e46829",
   "metadata": {
    "execution": {
     "iopub.execute_input": "2025-07-30T21:12:34.909170Z",
     "iopub.status.busy": "2025-07-30T21:12:34.908564Z",
     "iopub.status.idle": "2025-07-30T21:12:34.913334Z",
     "shell.execute_reply": "2025-07-30T21:12:34.912602Z"
    },
    "papermill": {
     "duration": 0.019443,
     "end_time": "2025-07-30T21:12:34.914588",
     "exception": false,
     "start_time": "2025-07-30T21:12:34.895145",
     "status": "completed"
    },
    "tags": []
   },
   "outputs": [],
   "source": [
    "y_true = y_true.squeeze()"
   ]
  },
  {
   "cell_type": "code",
   "execution_count": 55,
   "id": "3a58a54a-1e68-46b9-927a-df01f18aebc8",
   "metadata": {
    "execution": {
     "iopub.execute_input": "2025-07-30T21:12:34.943201Z",
     "iopub.status.busy": "2025-07-30T21:12:34.942681Z",
     "iopub.status.idle": "2025-07-30T21:12:35.420826Z",
     "shell.execute_reply": "2025-07-30T21:12:35.420063Z"
    },
    "papermill": {
     "duration": 0.493536,
     "end_time": "2025-07-30T21:12:35.422308",
     "exception": false,
     "start_time": "2025-07-30T21:12:34.928772",
     "status": "completed"
    },
    "tags": []
   },
   "outputs": [],
   "source": [
    "from fairness_multiverse.conformal import evaluate_sets\n",
    "\n",
    "# Evaluate coverage and average set size on test data\n",
    "metrics = evaluate_sets(pred_sets, y_true)"
   ]
  },
  {
   "cell_type": "markdown",
   "id": "2b569c12-9aaa-4c88-98c9-bbcd0cf3ebb8",
   "metadata": {
    "papermill": {
     "duration": 0.013537,
     "end_time": "2025-07-30T21:12:35.449418",
     "exception": false,
     "start_time": "2025-07-30T21:12:35.435881",
     "status": "completed"
    },
    "tags": []
   },
   "source": [
    "# CP Metrics"
   ]
  },
  {
   "cell_type": "code",
   "execution_count": 56,
   "id": "5ce0a5cb-201f-45a0-ade5-94c7f0bd6095",
   "metadata": {
    "execution": {
     "iopub.execute_input": "2025-07-30T21:12:35.477352Z",
     "iopub.status.busy": "2025-07-30T21:12:35.476792Z",
     "iopub.status.idle": "2025-07-30T21:12:35.483490Z",
     "shell.execute_reply": "2025-07-30T21:12:35.482711Z"
    },
    "papermill": {
     "duration": 0.022466,
     "end_time": "2025-07-30T21:12:35.484912",
     "exception": false,
     "start_time": "2025-07-30T21:12:35.462446",
     "status": "completed"
    },
    "tags": []
   },
   "outputs": [
    {
     "data": {
      "text/plain": [
       "{'coverage': 0.9142904915839929, 'avg_size': 1.1473414335079701}"
      ]
     },
     "execution_count": 56,
     "metadata": {},
     "output_type": "execute_result"
    }
   ],
   "source": [
    "metrics"
   ]
  },
  {
   "cell_type": "code",
   "execution_count": 57,
   "id": "9b9a838d-31c9-430b-ae14-12baee460d17",
   "metadata": {
    "execution": {
     "iopub.execute_input": "2025-07-30T21:12:35.514005Z",
     "iopub.status.busy": "2025-07-30T21:12:35.513496Z",
     "iopub.status.idle": "2025-07-30T21:12:35.519449Z",
     "shell.execute_reply": "2025-07-30T21:12:35.518630Z"
    },
    "papermill": {
     "duration": 0.021653,
     "end_time": "2025-07-30T21:12:35.520948",
     "exception": false,
     "start_time": "2025-07-30T21:12:35.499295",
     "status": "completed"
    },
    "tags": []
   },
   "outputs": [],
   "source": [
    "example_universe = universe.copy()\n",
    "universe_training_year = example_universe.get(\"training_year\")\n",
    "universe_training_size = example_universe.get(\"training_size\")\n",
    "universe_scale = example_universe.get(\"scale\")\n",
    "universe_model = example_universe.get(\"model\")\n",
    "universe_exclude_features = example_universe.get(\"exclude_features\")\n",
    "universe_exclude_subgroups = example_universe.get(\"exclude_subgroups\")"
   ]
  },
  {
   "cell_type": "code",
   "execution_count": 58,
   "id": "f4b6a8ac-9dc0-4245-8a91-5b3b5999c4f9",
   "metadata": {
    "execution": {
     "iopub.execute_input": "2025-07-30T21:12:35.550977Z",
     "iopub.status.busy": "2025-07-30T21:12:35.550294Z",
     "iopub.status.idle": "2025-07-30T21:12:35.555695Z",
     "shell.execute_reply": "2025-07-30T21:12:35.555005Z"
    },
    "papermill": {
     "duration": 0.02097,
     "end_time": "2025-07-30T21:12:35.557073",
     "exception": false,
     "start_time": "2025-07-30T21:12:35.536103",
     "status": "completed"
    },
    "tags": []
   },
   "outputs": [],
   "source": [
    "cp_metrics_dict = {\n",
    "    \"universe_id\": [universe_id],\n",
    "    \"universe_training_year\": [universe_training_year],\n",
    "    \"universe_training_size\": [universe_training_size],\n",
    "    \"universe_scale\": [universe_scale],\n",
    "    \"universe_model\": [universe_model],\n",
    "    \"universe_exclude_features\": [universe_exclude_features],\n",
    "    \"universe_exclude_subgroups\": [universe_exclude_subgroups],\n",
    "    \"q_hat\": [q_hat],\n",
    "    \"coverage\": [metrics[\"coverage\"]],\n",
    "    \"avg_size\": [metrics[\"avg_size\"]],\n",
    "}"
   ]
  },
  {
   "cell_type": "code",
   "execution_count": 59,
   "id": "908acbb1-0371-4915-85ca-3fa520d2efe2",
   "metadata": {
    "execution": {
     "iopub.execute_input": "2025-07-30T21:12:35.589329Z",
     "iopub.status.busy": "2025-07-30T21:12:35.588874Z",
     "iopub.status.idle": "2025-07-30T21:12:35.600547Z",
     "shell.execute_reply": "2025-07-30T21:12:35.599466Z"
    },
    "papermill": {
     "duration": 0.030649,
     "end_time": "2025-07-30T21:12:35.602274",
     "exception": false,
     "start_time": "2025-07-30T21:12:35.571625",
     "status": "completed"
    },
    "tags": []
   },
   "outputs": [
    {
     "data": {
      "text/plain": [
       "{'universe_id': ['81d503a689af6e9861fb20b76ebe8b9a'],\n",
       " 'universe_training_year': ['2010_14'],\n",
       " 'universe_training_size': ['5k'],\n",
       " 'universe_scale': ['scale'],\n",
       " 'universe_model': ['rf'],\n",
       " 'universe_exclude_features': ['nationality-sex'],\n",
       " 'universe_exclude_subgroups': ['keep-all'],\n",
       " 'q_hat': [0.6699999999999999],\n",
       " 'coverage': [0.9142904915839929],\n",
       " 'avg_size': [1.1473414335079701]}"
      ]
     },
     "execution_count": 59,
     "metadata": {},
     "output_type": "execute_result"
    }
   ],
   "source": [
    "cp_metrics_dict"
   ]
  },
  {
   "cell_type": "code",
   "execution_count": 60,
   "id": "33007efc-14e9-4ec6-97ac-56a455c82265",
   "metadata": {
    "execution": {
     "iopub.execute_input": "2025-07-30T21:12:35.658620Z",
     "iopub.status.busy": "2025-07-30T21:12:35.657735Z",
     "iopub.status.idle": "2025-07-30T21:12:35.664518Z",
     "shell.execute_reply": "2025-07-30T21:12:35.663377Z"
    },
    "papermill": {
     "duration": 0.036638,
     "end_time": "2025-07-30T21:12:35.665907",
     "exception": false,
     "start_time": "2025-07-30T21:12:35.629269",
     "status": "completed"
    },
    "tags": []
   },
   "outputs": [],
   "source": [
    "cp_metrics_df = pd.DataFrame(cp_metrics_dict)"
   ]
  },
  {
   "cell_type": "code",
   "execution_count": 61,
   "id": "db12611b-57b2-4910-b9d0-355adfd6e7bf",
   "metadata": {
    "execution": {
     "iopub.execute_input": "2025-07-30T21:12:35.699600Z",
     "iopub.status.busy": "2025-07-30T21:12:35.699248Z",
     "iopub.status.idle": "2025-07-30T21:12:35.713750Z",
     "shell.execute_reply": "2025-07-30T21:12:35.713007Z"
    },
    "papermill": {
     "duration": 0.031419,
     "end_time": "2025-07-30T21:12:35.715135",
     "exception": false,
     "start_time": "2025-07-30T21:12:35.683716",
     "status": "completed"
    },
    "tags": []
   },
   "outputs": [
    {
     "data": {
      "text/html": [
       "<div>\n",
       "<style scoped>\n",
       "    .dataframe tbody tr th:only-of-type {\n",
       "        vertical-align: middle;\n",
       "    }\n",
       "\n",
       "    .dataframe tbody tr th {\n",
       "        vertical-align: top;\n",
       "    }\n",
       "\n",
       "    .dataframe thead th {\n",
       "        text-align: right;\n",
       "    }\n",
       "</style>\n",
       "<table border=\"1\" class=\"dataframe\">\n",
       "  <thead>\n",
       "    <tr style=\"text-align: right;\">\n",
       "      <th></th>\n",
       "      <th>universe_id</th>\n",
       "      <th>universe_training_year</th>\n",
       "      <th>universe_training_size</th>\n",
       "      <th>universe_scale</th>\n",
       "      <th>universe_model</th>\n",
       "      <th>universe_exclude_features</th>\n",
       "      <th>universe_exclude_subgroups</th>\n",
       "      <th>q_hat</th>\n",
       "      <th>coverage</th>\n",
       "      <th>avg_size</th>\n",
       "    </tr>\n",
       "  </thead>\n",
       "  <tbody>\n",
       "    <tr>\n",
       "      <th>0</th>\n",
       "      <td>81d503a689af6e9861fb20b76ebe8b9a</td>\n",
       "      <td>2010_14</td>\n",
       "      <td>5k</td>\n",
       "      <td>scale</td>\n",
       "      <td>rf</td>\n",
       "      <td>nationality-sex</td>\n",
       "      <td>keep-all</td>\n",
       "      <td>0.67</td>\n",
       "      <td>0.91429</td>\n",
       "      <td>1.147341</td>\n",
       "    </tr>\n",
       "  </tbody>\n",
       "</table>\n",
       "</div>"
      ],
      "text/plain": [
       "                        universe_id universe_training_year  \\\n",
       "0  81d503a689af6e9861fb20b76ebe8b9a                2010_14   \n",
       "\n",
       "  universe_training_size universe_scale universe_model  \\\n",
       "0                     5k          scale             rf   \n",
       "\n",
       "  universe_exclude_features universe_exclude_subgroups  q_hat  coverage  \\\n",
       "0           nationality-sex                   keep-all   0.67   0.91429   \n",
       "\n",
       "   avg_size  \n",
       "0  1.147341  "
      ]
     },
     "execution_count": 61,
     "metadata": {},
     "output_type": "execute_result"
    }
   ],
   "source": [
    "cp_metrics_df"
   ]
  },
  {
   "cell_type": "code",
   "execution_count": 62,
   "id": "b7fbde55-a0a1-47e4-9af6-fe4a17fa8c61",
   "metadata": {
    "execution": {
     "iopub.execute_input": "2025-07-30T21:12:35.776595Z",
     "iopub.status.busy": "2025-07-30T21:12:35.776024Z",
     "iopub.status.idle": "2025-07-30T21:12:35.781688Z",
     "shell.execute_reply": "2025-07-30T21:12:35.780540Z"
    },
    "papermill": {
     "duration": 0.043184,
     "end_time": "2025-07-30T21:12:35.783910",
     "exception": false,
     "start_time": "2025-07-30T21:12:35.740726",
     "status": "completed"
    },
    "tags": []
   },
   "outputs": [],
   "source": [
    "# Conditional Coverage & looking at subgroups"
   ]
  },
  {
   "cell_type": "code",
   "execution_count": 63,
   "id": "027ae886-68dd-4141-96c7-805a5450e1ef",
   "metadata": {
    "execution": {
     "iopub.execute_input": "2025-07-30T21:12:35.854466Z",
     "iopub.status.busy": "2025-07-30T21:12:35.853779Z",
     "iopub.status.idle": "2025-07-30T21:12:36.088768Z",
     "shell.execute_reply": "2025-07-30T21:12:36.087951Z"
    },
    "papermill": {
     "duration": 0.271683,
     "end_time": "2025-07-30T21:12:36.090394",
     "exception": false,
     "start_time": "2025-07-30T21:12:35.818711",
     "status": "completed"
    },
    "tags": []
   },
   "outputs": [],
   "source": [
    "from fairness_multiverse.conformal import build_cp_groups\n",
    "\n",
    "cp_groups_df = build_cp_groups(pred_sets, y_true, X_test.index, org_test)\n",
    "#needs universe_id and setting"
   ]
  },
  {
   "cell_type": "code",
   "execution_count": 64,
   "id": "01d5802c-663a-4d1f-9d69-e036faaffbf7",
   "metadata": {
    "execution": {
     "iopub.execute_input": "2025-07-30T21:12:36.124139Z",
     "iopub.status.busy": "2025-07-30T21:12:36.123710Z",
     "iopub.status.idle": "2025-07-30T21:12:36.128905Z",
     "shell.execute_reply": "2025-07-30T21:12:36.127930Z"
    },
    "papermill": {
     "duration": 0.026124,
     "end_time": "2025-07-30T21:12:36.130912",
     "exception": false,
     "start_time": "2025-07-30T21:12:36.104788",
     "status": "completed"
    },
    "tags": []
   },
   "outputs": [],
   "source": [
    "#delete\n",
    "#cp_groups_df"
   ]
  },
  {
   "cell_type": "code",
   "execution_count": 65,
   "id": "fa424af1-d1eb-443d-b717-2d279ada8408",
   "metadata": {
    "execution": {
     "iopub.execute_input": "2025-07-30T21:12:36.194859Z",
     "iopub.status.busy": "2025-07-30T21:12:36.194083Z",
     "iopub.status.idle": "2025-07-30T21:12:36.200639Z",
     "shell.execute_reply": "2025-07-30T21:12:36.199509Z"
    },
    "papermill": {
     "duration": 0.042279,
     "end_time": "2025-07-30T21:12:36.202548",
     "exception": false,
     "start_time": "2025-07-30T21:12:36.160269",
     "status": "completed"
    },
    "tags": []
   },
   "outputs": [],
   "source": [
    "#delete\n",
    "#percentage = (cp_groups_df['nongerman_female'] == 1).mean() * 100\n",
    "#print(percentage)\n"
   ]
  },
  {
   "cell_type": "code",
   "execution_count": 66,
   "id": "6cbdab96-b2b2-45af-ad54-d0516db2e28d",
   "metadata": {
    "execution": {
     "iopub.execute_input": "2025-07-30T21:12:36.258776Z",
     "iopub.status.busy": "2025-07-30T21:12:36.257882Z",
     "iopub.status.idle": "2025-07-30T21:12:37.640895Z",
     "shell.execute_reply": "2025-07-30T21:12:37.639753Z"
    },
    "papermill": {
     "duration": 1.411766,
     "end_time": "2025-07-30T21:12:37.643471",
     "exception": false,
     "start_time": "2025-07-30T21:12:36.231705",
     "status": "completed"
    },
    "tags": []
   },
   "outputs": [],
   "source": [
    "# Define covered = 1 if true_label is in the predicted set\n",
    "cp_groups_df['covered'] = cp_groups_df.apply(\n",
    "    lambda r: int(r['true_label'] in r['pred_set']),\n",
    "    axis=1\n",
    ")"
   ]
  },
  {
   "cell_type": "code",
   "execution_count": 67,
   "id": "338ff529-1a6b-4b87-a931-8e4788d52aad",
   "metadata": {
    "execution": {
     "iopub.execute_input": "2025-07-30T21:12:37.723444Z",
     "iopub.status.busy": "2025-07-30T21:12:37.723093Z",
     "iopub.status.idle": "2025-07-30T21:12:37.728724Z",
     "shell.execute_reply": "2025-07-30T21:12:37.727269Z"
    },
    "papermill": {
     "duration": 0.047782,
     "end_time": "2025-07-30T21:12:37.731245",
     "exception": false,
     "start_time": "2025-07-30T21:12:37.683463",
     "status": "completed"
    },
    "tags": []
   },
   "outputs": [],
   "source": [
    "#cp_groups_df"
   ]
  },
  {
   "cell_type": "code",
   "execution_count": 68,
   "id": "90032e27-66df-4540-9169-4e89cfbaa758",
   "metadata": {
    "execution": {
     "iopub.execute_input": "2025-07-30T21:12:37.810896Z",
     "iopub.status.busy": "2025-07-30T21:12:37.810513Z",
     "iopub.status.idle": "2025-07-30T21:12:37.823803Z",
     "shell.execute_reply": "2025-07-30T21:12:37.822504Z"
    },
    "papermill": {
     "duration": 0.054897,
     "end_time": "2025-07-30T21:12:37.826599",
     "exception": false,
     "start_time": "2025-07-30T21:12:37.771702",
     "status": "completed"
    },
    "tags": []
   },
   "outputs": [],
   "source": [
    "subgroups = ['frau1','nongerman','nongerman_male','nongerman_female']\n",
    "\n",
    "# Conditional coverage for subgroup==1\n",
    "cond_coverage = {\n",
    "    g: cp_groups_df.loc[cp_groups_df[g]==1, 'covered'].mean()\n",
    "    for g in subgroups\n",
    "}"
   ]
  },
  {
   "cell_type": "code",
   "execution_count": 69,
   "id": "1e348fb1-b9c3-45bc-ba23-f016827a7e0d",
   "metadata": {
    "execution": {
     "iopub.execute_input": "2025-07-30T21:12:37.904924Z",
     "iopub.status.busy": "2025-07-30T21:12:37.904403Z",
     "iopub.status.idle": "2025-07-30T21:12:37.914484Z",
     "shell.execute_reply": "2025-07-30T21:12:37.913154Z"
    },
    "papermill": {
     "duration": 0.053373,
     "end_time": "2025-07-30T21:12:37.918950",
     "exception": false,
     "start_time": "2025-07-30T21:12:37.865577",
     "status": "completed"
    },
    "tags": []
   },
   "outputs": [
    {
     "data": {
      "text/plain": [
       "{'frau1': 0.9113357595363256,\n",
       " 'nongerman': 0.9118621231684725,\n",
       " 'nongerman_male': 0.9261460866432496,\n",
       " 'nongerman_female': 0.8882265275707899}"
      ]
     },
     "execution_count": 69,
     "metadata": {},
     "output_type": "execute_result"
    }
   ],
   "source": [
    "cond_coverage"
   ]
  },
  {
   "cell_type": "code",
   "execution_count": 70,
   "id": "f5093324-c3dd-4d63-bc4c-8d945e5c8bbb",
   "metadata": {
    "execution": {
     "iopub.execute_input": "2025-07-30T21:12:37.998287Z",
     "iopub.status.busy": "2025-07-30T21:12:37.997734Z",
     "iopub.status.idle": "2025-07-30T21:12:38.007977Z",
     "shell.execute_reply": "2025-07-30T21:12:38.006310Z"
    },
    "papermill": {
     "duration": 0.054635,
     "end_time": "2025-07-30T21:12:38.012887",
     "exception": false,
     "start_time": "2025-07-30T21:12:37.958252",
     "status": "completed"
    },
    "tags": []
   },
   "outputs": [],
   "source": [
    "for subgroup, cov in cond_coverage.items():\n",
    "    cp_metrics_df[f\"cov_{subgroup}\"] = cov"
   ]
  },
  {
   "cell_type": "code",
   "execution_count": 71,
   "id": "6e872e10-dbe5-49e8-b554-5030c98ff75d",
   "metadata": {
    "execution": {
     "iopub.execute_input": "2025-07-30T21:12:38.089668Z",
     "iopub.status.busy": "2025-07-30T21:12:38.089151Z",
     "iopub.status.idle": "2025-07-30T21:12:38.120584Z",
     "shell.execute_reply": "2025-07-30T21:12:38.118961Z"
    },
    "papermill": {
     "duration": 0.072834,
     "end_time": "2025-07-30T21:12:38.122889",
     "exception": false,
     "start_time": "2025-07-30T21:12:38.050055",
     "status": "completed"
    },
    "tags": []
   },
   "outputs": [
    {
     "data": {
      "text/html": [
       "<div>\n",
       "<style scoped>\n",
       "    .dataframe tbody tr th:only-of-type {\n",
       "        vertical-align: middle;\n",
       "    }\n",
       "\n",
       "    .dataframe tbody tr th {\n",
       "        vertical-align: top;\n",
       "    }\n",
       "\n",
       "    .dataframe thead th {\n",
       "        text-align: right;\n",
       "    }\n",
       "</style>\n",
       "<table border=\"1\" class=\"dataframe\">\n",
       "  <thead>\n",
       "    <tr style=\"text-align: right;\">\n",
       "      <th></th>\n",
       "      <th>universe_id</th>\n",
       "      <th>universe_training_year</th>\n",
       "      <th>universe_training_size</th>\n",
       "      <th>universe_scale</th>\n",
       "      <th>universe_model</th>\n",
       "      <th>universe_exclude_features</th>\n",
       "      <th>universe_exclude_subgroups</th>\n",
       "      <th>q_hat</th>\n",
       "      <th>coverage</th>\n",
       "      <th>avg_size</th>\n",
       "      <th>cov_frau1</th>\n",
       "      <th>cov_nongerman</th>\n",
       "      <th>cov_nongerman_male</th>\n",
       "      <th>cov_nongerman_female</th>\n",
       "    </tr>\n",
       "  </thead>\n",
       "  <tbody>\n",
       "    <tr>\n",
       "      <th>0</th>\n",
       "      <td>81d503a689af6e9861fb20b76ebe8b9a</td>\n",
       "      <td>2010_14</td>\n",
       "      <td>5k</td>\n",
       "      <td>scale</td>\n",
       "      <td>rf</td>\n",
       "      <td>nationality-sex</td>\n",
       "      <td>keep-all</td>\n",
       "      <td>0.67</td>\n",
       "      <td>0.91429</td>\n",
       "      <td>1.147341</td>\n",
       "      <td>0.911336</td>\n",
       "      <td>0.911862</td>\n",
       "      <td>0.926146</td>\n",
       "      <td>0.888227</td>\n",
       "    </tr>\n",
       "  </tbody>\n",
       "</table>\n",
       "</div>"
      ],
      "text/plain": [
       "                        universe_id universe_training_year  \\\n",
       "0  81d503a689af6e9861fb20b76ebe8b9a                2010_14   \n",
       "\n",
       "  universe_training_size universe_scale universe_model  \\\n",
       "0                     5k          scale             rf   \n",
       "\n",
       "  universe_exclude_features universe_exclude_subgroups  q_hat  coverage  \\\n",
       "0           nationality-sex                   keep-all   0.67   0.91429   \n",
       "\n",
       "   avg_size  cov_frau1  cov_nongerman  cov_nongerman_male  \\\n",
       "0  1.147341   0.911336       0.911862            0.926146   \n",
       "\n",
       "   cov_nongerman_female  \n",
       "0              0.888227  "
      ]
     },
     "execution_count": 71,
     "metadata": {},
     "output_type": "execute_result"
    }
   ],
   "source": [
    "cp_metrics_df"
   ]
  },
  {
   "cell_type": "markdown",
   "id": "33774451",
   "metadata": {
    "papermill": {
     "duration": 0.022728,
     "end_time": "2025-07-30T21:12:38.172829",
     "exception": false,
     "start_time": "2025-07-30T21:12:38.150101",
     "status": "completed"
    },
    "tags": []
   },
   "source": [
    "# (Fairness) Metrics"
   ]
  },
  {
   "cell_type": "code",
   "execution_count": 72,
   "id": "debc5d62",
   "metadata": {
    "execution": {
     "iopub.execute_input": "2025-07-30T21:12:38.234117Z",
     "iopub.status.busy": "2025-07-30T21:12:38.233636Z",
     "iopub.status.idle": "2025-07-30T21:12:38.255790Z",
     "shell.execute_reply": "2025-07-30T21:12:38.254764Z"
    },
    "papermill": {
     "duration": 0.05409,
     "end_time": "2025-07-30T21:12:38.258071",
     "exception": false,
     "start_time": "2025-07-30T21:12:38.203981",
     "status": "completed"
    },
    "tags": []
   },
   "outputs": [],
   "source": [
    "# do I need to include maxdeutsch1.missing?\n",
    "\n",
    "import numpy as np\n",
    "\n",
    "colname_to_bin = \"maxdeutsch1\"\n",
    "majority_value = org_train[colname_to_bin].mode()[0]\n",
    "\n",
    "org_test[\"majmin\"] = np.where(org_test[colname_to_bin] == majority_value, \"majority\", \"minority\")"
   ]
  },
  {
   "cell_type": "code",
   "execution_count": 73,
   "id": "06a50de5",
   "metadata": {
    "execution": {
     "iopub.execute_input": "2025-07-30T21:12:38.315288Z",
     "iopub.status.busy": "2025-07-30T21:12:38.314882Z",
     "iopub.status.idle": "2025-07-30T21:12:41.147717Z",
     "shell.execute_reply": "2025-07-30T21:12:41.146306Z"
    },
    "papermill": {
     "duration": 2.863224,
     "end_time": "2025-07-30T21:12:41.150203",
     "exception": false,
     "start_time": "2025-07-30T21:12:38.286979",
     "status": "completed"
    },
    "tags": []
   },
   "outputs": [],
   "source": [
    "example_universe = universe.copy()\n",
    "example_universe[\"cutoff\"] = example_universe[\"cutoff\"][0]\n",
    "example_universe[\"eval_fairness_grouping\"] = example_universe[\"eval_fairness_grouping\"][0]\n",
    "fairness_dict, metric_frame = universe_analysis.compute_metrics(\n",
    "    example_universe,\n",
    "    y_pred_prob=probs_test,\n",
    "    y_test=y_true,\n",
    "    org_test=org_test,\n",
    ")"
   ]
  },
  {
   "cell_type": "markdown",
   "id": "f95d4e02",
   "metadata": {
    "papermill": {
     "duration": 0.025474,
     "end_time": "2025-07-30T21:12:41.212144",
     "exception": false,
     "start_time": "2025-07-30T21:12:41.186670",
     "status": "completed"
    },
    "tags": []
   },
   "source": [
    "# Overall"
   ]
  },
  {
   "cell_type": "markdown",
   "id": "bdee4871",
   "metadata": {
    "papermill": {
     "duration": 0.029087,
     "end_time": "2025-07-30T21:12:41.276889",
     "exception": false,
     "start_time": "2025-07-30T21:12:41.247802",
     "status": "completed"
    },
    "tags": []
   },
   "source": [
    "Fairness\n",
    "Main fairness target: Equalized Odds. Seems to be a better fit than equal opportunity, since we're not only interested in Y = 1. Seems to be a better fit than demographic parity, since we also care about accuracy, not just equal distribution of preds.\n",
    "\n",
    "Pick column for computation of fairness metrics\n",
    "\n",
    "Performance\n",
    "Overall performance measures, most interesting in relation to the measures split by group below"
   ]
  },
  {
   "cell_type": "code",
   "execution_count": 74,
   "id": "c4e067c6",
   "metadata": {
    "execution": {
     "iopub.execute_input": "2025-07-30T21:12:41.340076Z",
     "iopub.status.busy": "2025-07-30T21:12:41.339537Z",
     "iopub.status.idle": "2025-07-30T21:12:41.352681Z",
     "shell.execute_reply": "2025-07-30T21:12:41.351118Z"
    },
    "papermill": {
     "duration": 0.050832,
     "end_time": "2025-07-30T21:12:41.354510",
     "exception": false,
     "start_time": "2025-07-30T21:12:41.303678",
     "status": "completed"
    },
    "tags": []
   },
   "outputs": [
    {
     "data": {
      "text/plain": [
       "accuracy                   0.205495\n",
       "balanced accuracy          0.534099\n",
       "f1                         0.239660\n",
       "precision                  0.136600\n",
       "false positive rate        0.907905\n",
       "false negative rate        0.023896\n",
       "selection rate             0.916654\n",
       "count                  89710.000000\n",
       "dtype: float64"
      ]
     },
     "execution_count": 74,
     "metadata": {},
     "output_type": "execute_result"
    }
   ],
   "source": [
    "metric_frame.overall"
   ]
  },
  {
   "cell_type": "markdown",
   "id": "e968fe9d",
   "metadata": {
    "papermill": {
     "duration": 0.06231,
     "end_time": "2025-07-30T21:12:41.484002",
     "exception": false,
     "start_time": "2025-07-30T21:12:41.421692",
     "status": "completed"
    },
    "tags": []
   },
   "source": [
    "By Group"
   ]
  },
  {
   "cell_type": "code",
   "execution_count": 75,
   "id": "ec325bce",
   "metadata": {
    "execution": {
     "iopub.execute_input": "2025-07-30T21:12:41.561929Z",
     "iopub.status.busy": "2025-07-30T21:12:41.561379Z",
     "iopub.status.idle": "2025-07-30T21:12:41.581854Z",
     "shell.execute_reply": "2025-07-30T21:12:41.580208Z"
    },
    "papermill": {
     "duration": 0.055614,
     "end_time": "2025-07-30T21:12:41.588119",
     "exception": false,
     "start_time": "2025-07-30T21:12:41.532505",
     "status": "completed"
    },
    "tags": []
   },
   "outputs": [
    {
     "data": {
      "text/html": [
       "<div>\n",
       "<style scoped>\n",
       "    .dataframe tbody tr th:only-of-type {\n",
       "        vertical-align: middle;\n",
       "    }\n",
       "\n",
       "    .dataframe tbody tr th {\n",
       "        vertical-align: top;\n",
       "    }\n",
       "\n",
       "    .dataframe thead th {\n",
       "        text-align: right;\n",
       "    }\n",
       "</style>\n",
       "<table border=\"1\" class=\"dataframe\">\n",
       "  <thead>\n",
       "    <tr style=\"text-align: right;\">\n",
       "      <th></th>\n",
       "      <th>accuracy</th>\n",
       "      <th>balanced accuracy</th>\n",
       "      <th>f1</th>\n",
       "      <th>precision</th>\n",
       "      <th>false positive rate</th>\n",
       "      <th>false negative rate</th>\n",
       "      <th>selection rate</th>\n",
       "      <th>count</th>\n",
       "    </tr>\n",
       "    <tr>\n",
       "      <th>majmin</th>\n",
       "      <th></th>\n",
       "      <th></th>\n",
       "      <th></th>\n",
       "      <th></th>\n",
       "      <th></th>\n",
       "      <th></th>\n",
       "      <th></th>\n",
       "      <th></th>\n",
       "    </tr>\n",
       "  </thead>\n",
       "  <tbody>\n",
       "    <tr>\n",
       "      <th>majority</th>\n",
       "      <td>0.196718</td>\n",
       "      <td>0.533496</td>\n",
       "      <td>0.245918</td>\n",
       "      <td>0.140372</td>\n",
       "      <td>0.924255</td>\n",
       "      <td>0.008753</td>\n",
       "      <td>0.933107</td>\n",
       "      <td>69170.0</td>\n",
       "    </tr>\n",
       "    <tr>\n",
       "      <th>minority</th>\n",
       "      <td>0.235054</td>\n",
       "      <td>0.531878</td>\n",
       "      <td>0.216672</td>\n",
       "      <td>0.122838</td>\n",
       "      <td>0.853896</td>\n",
       "      <td>0.082348</td>\n",
       "      <td>0.861246</td>\n",
       "      <td>20540.0</td>\n",
       "    </tr>\n",
       "  </tbody>\n",
       "</table>\n",
       "</div>"
      ],
      "text/plain": [
       "          accuracy  balanced accuracy        f1  precision  \\\n",
       "majmin                                                       \n",
       "majority  0.196718           0.533496  0.245918   0.140372   \n",
       "minority  0.235054           0.531878  0.216672   0.122838   \n",
       "\n",
       "          false positive rate  false negative rate  selection rate    count  \n",
       "majmin                                                                       \n",
       "majority             0.924255             0.008753        0.933107  69170.0  \n",
       "minority             0.853896             0.082348        0.861246  20540.0  "
      ]
     },
     "execution_count": 75,
     "metadata": {},
     "output_type": "execute_result"
    }
   ],
   "source": [
    "metric_frame.by_group"
   ]
  },
  {
   "cell_type": "code",
   "execution_count": 76,
   "id": "a9ddbe63",
   "metadata": {
    "execution": {
     "iopub.execute_input": "2025-07-30T21:12:41.641832Z",
     "iopub.status.busy": "2025-07-30T21:12:41.640842Z",
     "iopub.status.idle": "2025-07-30T21:12:44.241074Z",
     "shell.execute_reply": "2025-07-30T21:12:44.239860Z"
    },
    "papermill": {
     "duration": 2.629228,
     "end_time": "2025-07-30T21:12:44.243178",
     "exception": false,
     "start_time": "2025-07-30T21:12:41.613950",
     "status": "completed"
    },
    "tags": []
   },
   "outputs": [
    {
     "data": {
      "text/plain": [
       "array([[<Axes: title={'center': 'accuracy'}, xlabel='majmin'>,\n",
       "        <Axes: title={'center': 'balanced accuracy'}, xlabel='majmin'>,\n",
       "        <Axes: title={'center': 'f1'}, xlabel='majmin'>],\n",
       "       [<Axes: title={'center': 'precision'}, xlabel='majmin'>,\n",
       "        <Axes: title={'center': 'false positive rate'}, xlabel='majmin'>,\n",
       "        <Axes: title={'center': 'false negative rate'}, xlabel='majmin'>],\n",
       "       [<Axes: title={'center': 'selection rate'}, xlabel='majmin'>,\n",
       "        <Axes: title={'center': 'count'}, xlabel='majmin'>,\n",
       "        <Axes: xlabel='majmin'>]], dtype=object)"
      ]
     },
     "execution_count": 76,
     "metadata": {},
     "output_type": "execute_result"
    },
    {
     "data": {
      "image/png": "[encoded data removed]",
      "text/plain": [
       "<Figure size 1200x800 with 9 Axes>"
      ]
     },
     "metadata": {},
     "output_type": "display_data"
    }
   ],
   "source": [
    "# In a graphic\n",
    "metric_frame.by_group.plot.bar(\n",
    "    subplots=True,\n",
    "    layout=[3, 3],\n",
    "    legend=False,\n",
    "    figsize=[12, 8],\n",
    "    title=\"Show all metrics\",\n",
    ")"
   ]
  },
  {
   "cell_type": "markdown",
   "id": "f57a0bac",
   "metadata": {
    "papermill": {
     "duration": 0.0686,
     "end_time": "2025-07-30T21:12:44.364471",
     "exception": false,
     "start_time": "2025-07-30T21:12:44.295871",
     "status": "completed"
    },
    "tags": []
   },
   "source": [
    "# Final Output"
   ]
  },
  {
   "cell_type": "code",
   "execution_count": 77,
   "id": "96d280a3",
   "metadata": {
    "execution": {
     "iopub.execute_input": "2025-07-30T21:12:44.455210Z",
     "iopub.status.busy": "2025-07-30T21:12:44.454570Z",
     "iopub.status.idle": "2025-07-30T21:12:44.464040Z",
     "shell.execute_reply": "2025-07-30T21:12:44.462897Z"
    },
    "papermill": {
     "duration": 0.05627,
     "end_time": "2025-07-30T21:12:44.477943",
     "exception": false,
     "start_time": "2025-07-30T21:12:44.421673",
     "status": "completed"
    },
    "tags": []
   },
   "outputs": [
    {
     "data": {
      "text/plain": [
       "4"
      ]
     },
     "execution_count": 77,
     "metadata": {},
     "output_type": "execute_result"
    }
   ],
   "source": [
    "sub_universes = universe_analysis.generate_sub_universes()\n",
    "len(sub_universes)"
   ]
  },
  {
   "cell_type": "code",
   "execution_count": 78,
   "id": "92adf7ba",
   "metadata": {
    "execution": {
     "iopub.execute_input": "2025-07-30T21:12:44.616466Z",
     "iopub.status.busy": "2025-07-30T21:12:44.616001Z",
     "iopub.status.idle": "2025-07-30T21:12:44.623357Z",
     "shell.execute_reply": "2025-07-30T21:12:44.622169Z"
    },
    "papermill": {
     "duration": 0.075464,
     "end_time": "2025-07-30T21:12:44.625061",
     "exception": false,
     "start_time": "2025-07-30T21:12:44.549597",
     "status": "completed"
    },
    "tags": []
   },
   "outputs": [],
   "source": [
    "def filter_sub_universe_data(sub_universe, org_test):\n",
    "    # Keep all rows — no filtering\n",
    "    keep_rows_mask = np.ones(org_test.shape[0], dtype=bool)\n",
    "\n",
    "    print(f\"[INFO] Keeping all rows: {keep_rows_mask.sum()} rows retained.\")\n",
    "    return keep_rows_mask"
   ]
  },
  {
   "cell_type": "code",
   "execution_count": 79,
   "id": "4a759155",
   "metadata": {
    "execution": {
     "iopub.execute_input": "2025-07-30T21:12:44.714020Z",
     "iopub.status.busy": "2025-07-30T21:12:44.713449Z",
     "iopub.status.idle": "2025-07-30T21:12:56.126290Z",
     "shell.execute_reply": "2025-07-30T21:12:56.125475Z"
    },
    "papermill": {
     "duration": 11.454898,
     "end_time": "2025-07-30T21:12:56.127804",
     "exception": false,
     "start_time": "2025-07-30T21:12:44.672906",
     "status": "completed"
    },
    "tags": []
   },
   "outputs": [
    {
     "name": "stdout",
     "output_type": "stream",
     "text": [
      "Stopping execution_time clock.\n",
      "[INFO] Keeping all rows: 89710 rows retained.\n"
     ]
    },
    {
     "name": "stdout",
     "output_type": "stream",
     "text": [
      "[INFO] Keeping all rows: 89710 rows retained.\n"
     ]
    },
    {
     "name": "stdout",
     "output_type": "stream",
     "text": [
      "[INFO] Keeping all rows: 89710 rows retained.\n"
     ]
    },
    {
     "name": "stdout",
     "output_type": "stream",
     "text": [
      "[INFO] Keeping all rows: 89710 rows retained.\n"
     ]
    },
    {
     "data": {
      "text/html": [
       "<div>\n",
       "<style scoped>\n",
       "    .dataframe tbody tr th:only-of-type {\n",
       "        vertical-align: middle;\n",
       "    }\n",
       "\n",
       "    .dataframe tbody tr th {\n",
       "        vertical-align: top;\n",
       "    }\n",
       "\n",
       "    .dataframe thead th {\n",
       "        text-align: right;\n",
       "    }\n",
       "</style>\n",
       "<table border=\"1\" class=\"dataframe\">\n",
       "  <thead>\n",
       "    <tr style=\"text-align: right;\">\n",
       "      <th></th>\n",
       "      <th>run_no</th>\n",
       "      <th>universe_id</th>\n",
       "      <th>universe_settings</th>\n",
       "      <th>execution_time</th>\n",
       "      <th>test_size_n</th>\n",
       "      <th>test_size_frac</th>\n",
       "      <th>fair_main_equalized_odds_difference</th>\n",
       "      <th>fair_main_equalized_odds_ratio</th>\n",
       "      <th>fair_main_demographic_parity_difference</th>\n",
       "      <th>fair_main_demographic_parity_ratio</th>\n",
       "      <th>...</th>\n",
       "      <th>perf_grp_precision_0</th>\n",
       "      <th>perf_grp_precision_1</th>\n",
       "      <th>perf_grp_false positive rate_0</th>\n",
       "      <th>perf_grp_false positive rate_1</th>\n",
       "      <th>perf_grp_false negative rate_0</th>\n",
       "      <th>perf_grp_false negative rate_1</th>\n",
       "      <th>perf_grp_selection rate_0</th>\n",
       "      <th>perf_grp_selection rate_1</th>\n",
       "      <th>perf_grp_count_0</th>\n",
       "      <th>perf_grp_count_1</th>\n",
       "    </tr>\n",
       "  </thead>\n",
       "  <tbody>\n",
       "    <tr>\n",
       "      <th>0</th>\n",
       "      <td>14</td>\n",
       "      <td>81d503a689af6e9861fb20b76ebe8b9a</td>\n",
       "      <td>{\"cutoff\": \"quantile_0.1\", \"eval_fairness_grou...</td>\n",
       "      <td>34.125794</td>\n",
       "      <td>89710</td>\n",
       "      <td>1.0</td>\n",
       "      <td>0.073595</td>\n",
       "      <td>0.923875</td>\n",
       "      <td>0.071860</td>\n",
       "      <td>0.922988</td>\n",
       "      <td>...</td>\n",
       "      <td>NaN</td>\n",
       "      <td>NaN</td>\n",
       "      <td>NaN</td>\n",
       "      <td>NaN</td>\n",
       "      <td>NaN</td>\n",
       "      <td>NaN</td>\n",
       "      <td>NaN</td>\n",
       "      <td>NaN</td>\n",
       "      <td>NaN</td>\n",
       "      <td>NaN</td>\n",
       "    </tr>\n",
       "    <tr>\n",
       "      <th>0</th>\n",
       "      <td>14</td>\n",
       "      <td>81d503a689af6e9861fb20b76ebe8b9a</td>\n",
       "      <td>{\"cutoff\": \"quantile_0.1\", \"eval_fairness_grou...</td>\n",
       "      <td>34.125794</td>\n",
       "      <td>89710</td>\n",
       "      <td>1.0</td>\n",
       "      <td>0.073595</td>\n",
       "      <td>0.923875</td>\n",
       "      <td>0.071860</td>\n",
       "      <td>0.922988</td>\n",
       "      <td>...</td>\n",
       "      <td>0.122838</td>\n",
       "      <td>0.140372</td>\n",
       "      <td>0.853896</td>\n",
       "      <td>0.924255</td>\n",
       "      <td>0.082348</td>\n",
       "      <td>0.008753</td>\n",
       "      <td>0.861246</td>\n",
       "      <td>0.933107</td>\n",
       "      <td>20540.0</td>\n",
       "      <td>69170.0</td>\n",
       "    </tr>\n",
       "    <tr>\n",
       "      <th>0</th>\n",
       "      <td>14</td>\n",
       "      <td>81d503a689af6e9861fb20b76ebe8b9a</td>\n",
       "      <td>{\"cutoff\": \"quantile_0.25\", \"eval_fairness_gro...</td>\n",
       "      <td>34.125794</td>\n",
       "      <td>89710</td>\n",
       "      <td>1.0</td>\n",
       "      <td>0.128486</td>\n",
       "      <td>0.865864</td>\n",
       "      <td>0.080579</td>\n",
       "      <td>0.897835</td>\n",
       "      <td>...</td>\n",
       "      <td>NaN</td>\n",
       "      <td>NaN</td>\n",
       "      <td>NaN</td>\n",
       "      <td>NaN</td>\n",
       "      <td>NaN</td>\n",
       "      <td>NaN</td>\n",
       "      <td>NaN</td>\n",
       "      <td>NaN</td>\n",
       "      <td>NaN</td>\n",
       "      <td>NaN</td>\n",
       "    </tr>\n",
       "    <tr>\n",
       "      <th>0</th>\n",
       "      <td>14</td>\n",
       "      <td>81d503a689af6e9861fb20b76ebe8b9a</td>\n",
       "      <td>{\"cutoff\": \"quantile_0.25\", \"eval_fairness_gro...</td>\n",
       "      <td>34.125794</td>\n",
       "      <td>89710</td>\n",
       "      <td>1.0</td>\n",
       "      <td>0.128486</td>\n",
       "      <td>0.865864</td>\n",
       "      <td>0.080579</td>\n",
       "      <td>0.897835</td>\n",
       "      <td>...</td>\n",
       "      <td>0.135029</td>\n",
       "      <td>0.160480</td>\n",
       "      <td>0.692329</td>\n",
       "      <td>0.762952</td>\n",
       "      <td>0.170608</td>\n",
       "      <td>0.042123</td>\n",
       "      <td>0.708130</td>\n",
       "      <td>0.788709</td>\n",
       "      <td>20540.0</td>\n",
       "      <td>69170.0</td>\n",
       "    </tr>\n",
       "  </tbody>\n",
       "</table>\n",
       "<p>4 rows × 50 columns</p>\n",
       "</div>"
      ],
      "text/plain": [
       "  run_no                       universe_id  \\\n",
       "0     14  81d503a689af6e9861fb20b76ebe8b9a   \n",
       "0     14  81d503a689af6e9861fb20b76ebe8b9a   \n",
       "0     14  81d503a689af6e9861fb20b76ebe8b9a   \n",
       "0     14  81d503a689af6e9861fb20b76ebe8b9a   \n",
       "\n",
       "                                   universe_settings  execution_time  \\\n",
       "0  {\"cutoff\": \"quantile_0.1\", \"eval_fairness_grou...       34.125794   \n",
       "0  {\"cutoff\": \"quantile_0.1\", \"eval_fairness_grou...       34.125794   \n",
       "0  {\"cutoff\": \"quantile_0.25\", \"eval_fairness_gro...       34.125794   \n",
       "0  {\"cutoff\": \"quantile_0.25\", \"eval_fairness_gro...       34.125794   \n",
       "\n",
       "   test_size_n  test_size_frac  fair_main_equalized_odds_difference  \\\n",
       "0        89710             1.0                             0.073595   \n",
       "0        89710             1.0                             0.073595   \n",
       "0        89710             1.0                             0.128486   \n",
       "0        89710             1.0                             0.128486   \n",
       "\n",
       "   fair_main_equalized_odds_ratio  fair_main_demographic_parity_difference  \\\n",
       "0                        0.923875                                 0.071860   \n",
       "0                        0.923875                                 0.071860   \n",
       "0                        0.865864                                 0.080579   \n",
       "0                        0.865864                                 0.080579   \n",
       "\n",
       "   fair_main_demographic_parity_ratio  ...  perf_grp_precision_0  \\\n",
       "0                            0.922988  ...                   NaN   \n",
       "0                            0.922988  ...              0.122838   \n",
       "0                            0.897835  ...                   NaN   \n",
       "0                            0.897835  ...              0.135029   \n",
       "\n",
       "   perf_grp_precision_1  perf_grp_false positive rate_0  \\\n",
       "0                   NaN                             NaN   \n",
       "0              0.140372                        0.853896   \n",
       "0                   NaN                             NaN   \n",
       "0              0.160480                        0.692329   \n",
       "\n",
       "   perf_grp_false positive rate_1  perf_grp_false negative rate_0  \\\n",
       "0                             NaN                             NaN   \n",
       "0                        0.924255                        0.082348   \n",
       "0                             NaN                             NaN   \n",
       "0                        0.762952                        0.170608   \n",
       "\n",
       "   perf_grp_false negative rate_1  perf_grp_selection rate_0  \\\n",
       "0                             NaN                        NaN   \n",
       "0                        0.008753                   0.861246   \n",
       "0                             NaN                        NaN   \n",
       "0                        0.042123                   0.708130   \n",
       "\n",
       "   perf_grp_selection rate_1  perf_grp_count_0  perf_grp_count_1  \n",
       "0                        NaN               NaN               NaN  \n",
       "0                   0.933107           20540.0           69170.0  \n",
       "0                        NaN               NaN               NaN  \n",
       "0                   0.788709           20540.0           69170.0  \n",
       "\n",
       "[4 rows x 50 columns]"
      ]
     },
     "execution_count": 79,
     "metadata": {},
     "output_type": "execute_result"
    }
   ],
   "source": [
    "final_output = universe_analysis.generate_final_output(\n",
    "    y_pred_prob=probs_test,\n",
    "    y_test=y_true,\n",
    "    org_test=org_test,\n",
    "    filter_data=filter_sub_universe_data,\n",
    "    cp_metrics_df=cp_metrics_df,\n",
    "    save=True,\n",
    ")\n",
    "final_output"
   ]
  },
  {
   "cell_type": "code",
   "execution_count": null,
   "id": "721ff514-cb11-46f8-b6fc-50392f74b5cb",
   "metadata": {
    "papermill": {
     "duration": 0.029398,
     "end_time": "2025-07-30T21:12:56.188493",
     "exception": false,
     "start_time": "2025-07-30T21:12:56.159095",
     "status": "completed"
    },
    "tags": []
   },
   "outputs": [],
   "source": []
  }
 ],
 "metadata": {
  "celltoolbar": "Tags",
  "kernelspec": {
   "display_name": "Python (CMA Fairness)",
   "language": "python",
   "name": "cma_fair_env"
  },
  "language_info": {
   "codemirror_mode": {
    "name": "ipython",
    "version": 3
   },
   "file_extension": ".py",
   "mimetype": "text/x-python",
   "name": "python",
   "nbconvert_exporter": "python",
   "pygments_lexer": "ipython3",
   "version": "3.10.12"
  },
  "papermill": {
   "default_parameters": {},
   "duration": 49.512341,
   "end_time": "2025-07-30T21:12:57.045831",
   "environment_variables": {},
   "exception": null,
   "input_path": "universe_analysis.ipynb",
   "output_path": "output/runs/14/notebooks/m_14-81d503a689af6e9861fb20b76ebe8b9a.ipynb",
   "parameters": {
    "output_dir": "output",
    "run_no": "14",
    "seed": "2023",
    "universe": "{\"cutoff\": [\"quantile_0.1\", \"quantile_0.25\"], \"eval_fairness_grouping\": [\"majority-minority\", \"nationality-all\"], \"exclude_features\": \"nationality-sex\", \"exclude_subgroups\": \"keep-all\", \"model\": \"rf\", \"scale\": \"scale\", \"training_size\": \"5k\", \"training_year\": \"2010_14\"}",
    "universe_id": "81d503a689af6e9861fb20b76ebe8b9a"
   },
   "start_time": "2025-07-30T21:12:07.533490",
   "version": "2.6.0"
  }
 },
 "nbformat": 4,
 "nbformat_minor": 5
}