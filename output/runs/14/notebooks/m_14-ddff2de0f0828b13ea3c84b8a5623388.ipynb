{
 "cells": [
  {
   "cell_type": "code",
   "execution_count": 1,
   "id": "f159f837-637b-42ba-96b5-ec9a68c44524",
   "metadata": {
    "execution": {
     "iopub.execute_input": "2025-07-30T21:33:01.360058Z",
     "iopub.status.busy": "2025-07-30T21:33:01.359387Z",
     "iopub.status.idle": "2025-07-30T21:33:01.372416Z",
     "shell.execute_reply": "2025-07-30T21:33:01.371424Z"
    },
    "papermill": {
     "duration": 0.034981,
     "end_time": "2025-07-30T21:33:01.373954",
     "exception": false,
     "start_time": "2025-07-30T21:33:01.338973",
     "status": "completed"
    },
    "tags": []
   },
   "outputs": [
    {
     "name": "stdout",
     "output_type": "stream",
     "text": [
      "/dss/dsshome1/0C/ra93lal2/cma/CMA_Fairness_v2\n"
     ]
    },
    {
     "name": "stderr",
     "output_type": "stream",
     "text": [
      "/dss/dsshome1/0C/ra93lal2/.local/share/virtualenvs/CMA_Fairness_v2-3j10GkSs/lib/python3.10/site-packages/IPython/core/magics/osm.py:393: UserWarning: This is now an optional IPython functionality, using bookmarks requires you to install the `pickleshare` library.\n",
      "  bkms = self.shell.db.get('bookmarks', {})\n",
      "/dss/dsshome1/0C/ra93lal2/.local/share/virtualenvs/CMA_Fairness_v2-3j10GkSs/lib/python3.10/site-packages/IPython/core/magics/osm.py:417: UserWarning: This is now an optional IPython functionality, setting dhist requires you to install the `pickleshare` library.\n",
      "  self.shell.db['dhist'] = compress_dhist(dhist)[-100:]\n"
     ]
    }
   ],
   "source": [
    "%cd ~/cma/CMA_Fairness_v2"
   ]
  },
  {
   "cell_type": "markdown",
   "id": "de2603b9",
   "metadata": {
    "papermill": {
     "duration": 0.017705,
     "end_time": "2025-07-30T21:33:01.410471",
     "exception": false,
     "start_time": "2025-07-30T21:33:01.392766",
     "status": "completed"
    },
    "tags": []
   },
   "source": [
    "The following cell holds the definition of our parameters, these values can be overriden by rendering the with e.g. the following command:\n",
    "\n",
    "papermill -p alpha 0.2 -p ratio 0.3 universe_analysis.ipynb output/test_run.ipynb"
   ]
  },
  {
   "cell_type": "code",
   "execution_count": 2,
   "id": "a80968a0-40bb-4fa9-85ef-2d5eefb01975",
   "metadata": {
    "execution": {
     "iopub.execute_input": "2025-07-30T21:33:01.449051Z",
     "iopub.status.busy": "2025-07-30T21:33:01.448274Z",
     "iopub.status.idle": "2025-07-30T21:33:01.453795Z",
     "shell.execute_reply": "2025-07-30T21:33:01.452858Z"
    },
    "papermill": {
     "duration": 0.027323,
     "end_time": "2025-07-30T21:33:01.455396",
     "exception": false,
     "start_time": "2025-07-30T21:33:01.428073",
     "status": "completed"
    },
    "tags": []
   },
   "outputs": [
    {
     "name": "stdout",
     "output_type": "stream",
     "text": [
      "Current working directory: /dss/dsshome1/0C/ra93lal2/cma/CMA_Fairness_v2\n"
     ]
    }
   ],
   "source": [
    "import os\n",
    "print(\"Current working directory:\", os.getcwd())"
   ]
  },
  {
   "cell_type": "code",
   "execution_count": 3,
   "id": "2dce4c03",
   "metadata": {
    "execution": {
     "iopub.execute_input": "2025-07-30T21:33:01.494057Z",
     "iopub.status.busy": "2025-07-30T21:33:01.493464Z",
     "iopub.status.idle": "2025-07-30T21:33:01.499885Z",
     "shell.execute_reply": "2025-07-30T21:33:01.499089Z"
    },
    "papermill": {
     "duration": 0.027578,
     "end_time": "2025-07-30T21:33:01.501433",
     "exception": false,
     "start_time": "2025-07-30T21:33:01.473855",
     "status": "completed"
    },
    "tags": [
     "parameters"
    ]
   },
   "outputs": [],
   "source": [
    "run_no = 0\n",
    "universe_id = \"test\"\n",
    "universe = {\n",
    "    \"training_size\": \"25k\", # \"25k\", \"5k\", \"1k\"\n",
    "    \"training_year\": \"2014\", # \"2014\", \"2012_14\", \"2010_14\"\n",
    "    \"scale\": \"scale\", # \"scale\", \"do-not-scale\",\n",
    "    #\"stratify_split\": \"target\", # \"none\", \"target\", \"protected-attribute\", \"both\",\n",
    "    \"model\": \"elasticnet\", # \"logreg\", \"penalized_logreg\", \"rf\", \"gbm\", \"elasticnet\"\n",
    "    \"cutoff\": [\"quantile_0.15\", \"quantile_0.30\"],\n",
    "    \"exclude_features\": \"age\", # \"none\", \"nationality\", \"sex\", \"nationality-sex\", \"age\"\n",
    "    \"exclude_subgroups\": \"keep-all\", # \"keep-all\", \"drop-non-german\"\n",
    "    \"eval_fairness_grouping\": [\"majority-minority\", \"nationality-all\"]\n",
    "}\n",
    "\n",
    "output_dir=\"./output\"\n",
    "seed=0"
   ]
  },
  {
   "cell_type": "code",
   "execution_count": 4,
   "id": "0fc2350f",
   "metadata": {
    "execution": {
     "iopub.execute_input": "2025-07-30T21:33:01.539749Z",
     "iopub.status.busy": "2025-07-30T21:33:01.539138Z",
     "iopub.status.idle": "2025-07-30T21:33:01.544222Z",
     "shell.execute_reply": "2025-07-30T21:33:01.543380Z"
    },
    "papermill": {
     "duration": 0.025582,
     "end_time": "2025-07-30T21:33:01.545722",
     "exception": false,
     "start_time": "2025-07-30T21:33:01.520140",
     "status": "completed"
    },
    "tags": [
     "injected-parameters"
    ]
   },
   "outputs": [],
   "source": [
    "# Parameters\n",
    "universe_id = \"ddff2de0f0828b13ea3c84b8a5623388\"\n",
    "run_no = \"14\"\n",
    "universe = \"{\\\"cutoff\\\": [\\\"quantile_0.1\\\", \\\"quantile_0.25\\\"], \\\"eval_fairness_grouping\\\": [\\\"majority-minority\\\", \\\"nationality-all\\\"], \\\"exclude_features\\\": \\\"nationality\\\", \\\"exclude_subgroups\\\": \\\"keep-all\\\", \\\"model\\\": \\\"logreg\\\", \\\"scale\\\": \\\"scale\\\", \\\"training_size\\\": \\\"1k\\\", \\\"training_year\\\": \\\"2012_14\\\"}\"\n",
    "output_dir = \"output\"\n",
    "seed = \"2023\"\n"
   ]
  },
  {
   "cell_type": "code",
   "execution_count": 5,
   "id": "1650acaf",
   "metadata": {
    "execution": {
     "iopub.execute_input": "2025-07-30T21:33:01.585129Z",
     "iopub.status.busy": "2025-07-30T21:33:01.584418Z",
     "iopub.status.idle": "2025-07-30T21:33:01.589252Z",
     "shell.execute_reply": "2025-07-30T21:33:01.588472Z"
    },
    "papermill": {
     "duration": 0.025797,
     "end_time": "2025-07-30T21:33:01.590780",
     "exception": false,
     "start_time": "2025-07-30T21:33:01.564983",
     "status": "completed"
    },
    "tags": []
   },
   "outputs": [],
   "source": [
    "import json\n",
    "# Parse universe into dict if it is passed as a string\n",
    "if isinstance(universe, str):\n",
    "    universe = json.loads(universe)"
   ]
  },
  {
   "cell_type": "code",
   "execution_count": 6,
   "id": "16620c48",
   "metadata": {
    "execution": {
     "iopub.execute_input": "2025-07-30T21:33:01.629978Z",
     "iopub.status.busy": "2025-07-30T21:33:01.629219Z",
     "iopub.status.idle": "2025-07-30T21:33:01.671319Z",
     "shell.execute_reply": "2025-07-30T21:33:01.670384Z"
    },
    "papermill": {
     "duration": 0.063804,
     "end_time": "2025-07-30T21:33:01.673198",
     "exception": false,
     "start_time": "2025-07-30T21:33:01.609394",
     "status": "completed"
    },
    "tags": []
   },
   "outputs": [],
   "source": [
    "# Auto-reload the custom package\n",
    "%load_ext autoreload\n",
    "%autoreload 1\n",
    "%aimport fairness_multiverse"
   ]
  },
  {
   "cell_type": "code",
   "execution_count": 7,
   "id": "01c5c9f3",
   "metadata": {
    "execution": {
     "iopub.execute_input": "2025-07-30T21:33:01.713075Z",
     "iopub.status.busy": "2025-07-30T21:33:01.711936Z",
     "iopub.status.idle": "2025-07-30T21:33:03.815605Z",
     "shell.execute_reply": "2025-07-30T21:33:03.814326Z"
    },
    "papermill": {
     "duration": 2.125345,
     "end_time": "2025-07-30T21:33:03.817778",
     "exception": false,
     "start_time": "2025-07-30T21:33:01.692433",
     "status": "completed"
    },
    "tags": []
   },
   "outputs": [],
   "source": [
    "from fairness_multiverse.universe import UniverseAnalysis\n",
    "\n",
    "universe_analysis = UniverseAnalysis(\n",
    "    run_no = run_no,\n",
    "    universe_id = universe_id,\n",
    "    universe = universe,\n",
    "    output_dir=output_dir,\n",
    ")"
   ]
  },
  {
   "cell_type": "code",
   "execution_count": 8,
   "id": "106241f5",
   "metadata": {
    "execution": {
     "iopub.execute_input": "2025-07-30T21:33:03.865974Z",
     "iopub.status.busy": "2025-07-30T21:33:03.865315Z",
     "iopub.status.idle": "2025-07-30T21:33:03.873871Z",
     "shell.execute_reply": "2025-07-30T21:33:03.872620Z"
    },
    "papermill": {
     "duration": 0.034624,
     "end_time": "2025-07-30T21:33:03.875717",
     "exception": false,
     "start_time": "2025-07-30T21:33:03.841093",
     "status": "completed"
    },
    "tags": []
   },
   "outputs": [
    {
     "name": "stdout",
     "output_type": "stream",
     "text": [
      "Using Seed: 2023\n"
     ]
    }
   ],
   "source": [
    "import numpy as np\n",
    "parsed_seed = int(seed)\n",
    "np.random.seed(parsed_seed)\n",
    "print(f\"Using Seed: {parsed_seed}\")"
   ]
  },
  {
   "cell_type": "markdown",
   "id": "e0ebdc57",
   "metadata": {
    "papermill": {
     "duration": 0.022447,
     "end_time": "2025-07-30T21:33:03.921279",
     "exception": false,
     "start_time": "2025-07-30T21:33:03.898832",
     "status": "completed"
    },
    "tags": []
   },
   "source": [
    "# Loading Data"
   ]
  },
  {
   "cell_type": "markdown",
   "id": "681925a3",
   "metadata": {
    "papermill": {
     "duration": 0.022572,
     "end_time": "2025-07-30T21:33:03.966599",
     "exception": false,
     "start_time": "2025-07-30T21:33:03.944027",
     "status": "completed"
    },
    "tags": []
   },
   "source": [
    "Load siab_train, siab_test, siab_calib and/or \n",
    "load siab_train_features, siab_train_labels"
   ]
  },
  {
   "cell_type": "code",
   "execution_count": 9,
   "id": "f0496b8a",
   "metadata": {
    "execution": {
     "iopub.execute_input": "2025-07-30T21:33:04.014719Z",
     "iopub.status.busy": "2025-07-30T21:33:04.013847Z",
     "iopub.status.idle": "2025-07-30T21:33:15.315080Z",
     "shell.execute_reply": "2025-07-30T21:33:15.313958Z"
    },
    "papermill": {
     "duration": 11.327054,
     "end_time": "2025-07-30T21:33:15.316735",
     "exception": false,
     "start_time": "2025-07-30T21:33:03.989681",
     "status": "completed"
    },
    "tags": []
   },
   "outputs": [
    {
     "name": "stdout",
     "output_type": "stream",
     "text": [
      "Loading SIAB data from cache: data/siab_cached.csv.gz\n"
     ]
    },
    {
     "name": "stdout",
     "output_type": "stream",
     "text": [
      "(643690, 164)\n"
     ]
    }
   ],
   "source": [
    "from pathlib import Path\n",
    "import pandas as pd\n",
    "\n",
    "# File paths\n",
    "raw_file = Path(\"data/raw/siab.csv\")\n",
    "cache_file = Path(\"data/siab_cached.csv.gz\")\n",
    "\n",
    "# Ensure cache directory exists\n",
    "cache_file.parent.mkdir(parents=True, exist_ok=True)\n",
    "\n",
    "# Load with simple caching\n",
    "if cache_file.exists():\n",
    "    print(f\"Loading SIAB data from cache: {cache_file}\")\n",
    "    siab = pd.read_csv(cache_file, compression='gzip')\n",
    "else:\n",
    "    print(f\"Cache not found. Reading raw SIAB data: {raw_file}\")\n",
    "    siab = pd.read_csv(raw_file)\n",
    "    siab.to_csv(cache_file, index=False, compression='gzip')\n",
    "    print(f\"Cached SIAB data to: {cache_file}\")\n",
    "\n",
    "# Now use `siab` DataFrame as needed\n",
    "print(siab.shape)"
   ]
  },
  {
   "cell_type": "code",
   "execution_count": 10,
   "id": "db0ca512-5f53-4dba-abdb-a2888bca41ba",
   "metadata": {
    "execution": {
     "iopub.execute_input": "2025-07-30T21:33:15.364399Z",
     "iopub.status.busy": "2025-07-30T21:33:15.363647Z",
     "iopub.status.idle": "2025-07-30T21:33:15.369348Z",
     "shell.execute_reply": "2025-07-30T21:33:15.368447Z"
    },
    "papermill": {
     "duration": 0.027826,
     "end_time": "2025-07-30T21:33:15.371147",
     "exception": false,
     "start_time": "2025-07-30T21:33:15.343321",
     "status": "completed"
    },
    "tags": []
   },
   "outputs": [],
   "source": [
    "#siab"
   ]
  },
  {
   "cell_type": "code",
   "execution_count": 11,
   "id": "a0edb063",
   "metadata": {
    "execution": {
     "iopub.execute_input": "2025-07-30T21:33:15.411968Z",
     "iopub.status.busy": "2025-07-30T21:33:15.411223Z",
     "iopub.status.idle": "2025-07-30T21:33:15.416089Z",
     "shell.execute_reply": "2025-07-30T21:33:15.415154Z"
    },
    "papermill": {
     "duration": 0.026183,
     "end_time": "2025-07-30T21:33:15.417660",
     "exception": false,
     "start_time": "2025-07-30T21:33:15.391477",
     "status": "completed"
    },
    "tags": []
   },
   "outputs": [],
   "source": [
    "#import pandas as pd\n",
    "#\n",
    "#X_train = pd.read_csv(\"./data/X_train.csv\")\n",
    "#y_train = pd.read_csv(\"./data/y_train.csv\")"
   ]
  },
  {
   "cell_type": "code",
   "execution_count": 12,
   "id": "63d08085",
   "metadata": {
    "execution": {
     "iopub.execute_input": "2025-07-30T21:33:15.460667Z",
     "iopub.status.busy": "2025-07-30T21:33:15.460199Z",
     "iopub.status.idle": "2025-07-30T21:33:15.464791Z",
     "shell.execute_reply": "2025-07-30T21:33:15.464011Z"
    },
    "papermill": {
     "duration": 0.0269,
     "end_time": "2025-07-30T21:33:15.466321",
     "exception": false,
     "start_time": "2025-07-30T21:33:15.439421",
     "status": "completed"
    },
    "tags": []
   },
   "outputs": [],
   "source": [
    "#X_test = pd.read_csv(\"./data/X_test.csv\")\n",
    "#y_true = pd.read_csv(\"./data/y_test.csv\")"
   ]
  },
  {
   "cell_type": "code",
   "execution_count": 13,
   "id": "98a8d0fa-1d3d-4ed8-bb2c-281470e24add",
   "metadata": {
    "execution": {
     "iopub.execute_input": "2025-07-30T21:33:15.510163Z",
     "iopub.status.busy": "2025-07-30T21:33:15.509741Z",
     "iopub.status.idle": "2025-07-30T21:33:15.514696Z",
     "shell.execute_reply": "2025-07-30T21:33:15.513645Z"
    },
    "papermill": {
     "duration": 0.028559,
     "end_time": "2025-07-30T21:33:15.516413",
     "exception": false,
     "start_time": "2025-07-30T21:33:15.487854",
     "status": "completed"
    },
    "tags": []
   },
   "outputs": [],
   "source": [
    "# Calibration data for conformal\n",
    "#X_calib = pd.read_csv(\"./data/X_calib.csv\")\n",
    "#y_calib = pd.read_csv(\"./data/y_calib.csv\")"
   ]
  },
  {
   "cell_type": "markdown",
   "id": "997051c5-15bd-4b69-9786-c3001a3ce484",
   "metadata": {
    "papermill": {
     "duration": 0.022094,
     "end_time": "2025-07-30T21:33:15.559723",
     "exception": false,
     "start_time": "2025-07-30T21:33:15.537629",
     "status": "completed"
    },
    "tags": []
   },
   "source": [
    "# Splitting Data and Setting Training Data Size"
   ]
  },
  {
   "cell_type": "code",
   "execution_count": 14,
   "id": "e993b61f-042d-41a6-8c81-f55681f86335",
   "metadata": {
    "execution": {
     "iopub.execute_input": "2025-07-30T21:33:15.602852Z",
     "iopub.status.busy": "2025-07-30T21:33:15.602332Z",
     "iopub.status.idle": "2025-07-30T21:33:15.616149Z",
     "shell.execute_reply": "2025-07-30T21:33:15.615228Z"
    },
    "papermill": {
     "duration": 0.036904,
     "end_time": "2025-07-30T21:33:15.617733",
     "exception": false,
     "start_time": "2025-07-30T21:33:15.580829",
     "status": "completed"
    },
    "tags": []
   },
   "outputs": [],
   "source": [
    "def sample_by_year_size(df,\n",
    "                        training_year: str,\n",
    "                        training_size: str,\n",
    "                        random_state: int = 42):\n",
    "    # --- parse training_year into a list of int years ---\n",
    "    if \"_\" in training_year:\n",
    "        start_str, end_str = training_year.split(\"_\", 1)\n",
    "        start = int(start_str)\n",
    "        end   = int(end_str) if len(end_str) == 4 else (int(end_str) + (start // 100)*100)\n",
    "        years = list(range(start, end + 1))\n",
    "    else:\n",
    "        years = [int(training_year)]\n",
    "\n",
    "    df = df[df[\"year\"].isin(years)].reset_index(drop=True)\n",
    "\n",
    "    # --- map training_size to total number of samples ---\n",
    "    total_map = {\"25k\": 25_000, \"5k\": 5_000, \"1k\": 1_000}\n",
    "    if training_size not in total_map:\n",
    "        return df  # e.g. \"all\"\n",
    "\n",
    "    total_samples = total_map[training_size]\n",
    "    n_years       = len(years)\n",
    "    base          = total_samples // n_years\n",
    "    remainder     = total_samples % n_years\n",
    "\n",
    "    # --- build a dict: year -> how many to sample ---\n",
    "    # give +1 to the first `remainder` years in ascending order\n",
    "    quotas = {\n",
    "        year: base + (1 if idx < remainder else 0)\n",
    "        for idx, year in enumerate(sorted(years))\n",
    "    }\n",
    "\n",
    "    # --- sample per‐year according to the quota dict ---\n",
    "    sampled = (\n",
    "        df\n",
    "        .groupby(\"year\", group_keys=False)\n",
    "        .apply(lambda grp: grp.sample(\n",
    "            n=min(len(grp), quotas[grp.name]),\n",
    "            random_state=random_state))\n",
    "        .reset_index(drop=True)\n",
    "    )\n",
    "\n",
    "    return sampled"
   ]
  },
  {
   "cell_type": "code",
   "execution_count": 15,
   "id": "c0ccd338-0e02-41f3-a09d-f56f9266e3fb",
   "metadata": {
    "execution": {
     "iopub.execute_input": "2025-07-30T21:33:15.660610Z",
     "iopub.status.busy": "2025-07-30T21:33:15.660069Z",
     "iopub.status.idle": "2025-07-30T21:33:15.665210Z",
     "shell.execute_reply": "2025-07-30T21:33:15.664249Z"
    },
    "papermill": {
     "duration": 0.027845,
     "end_time": "2025-07-30T21:33:15.666657",
     "exception": false,
     "start_time": "2025-07-30T21:33:15.638812",
     "status": "completed"
    },
    "tags": []
   },
   "outputs": [],
   "source": [
    "#universe[\"training_size\"]"
   ]
  },
  {
   "cell_type": "code",
   "execution_count": 16,
   "id": "ca707fd7-8047-4acd-bfa5-66248fbbf8e6",
   "metadata": {
    "execution": {
     "iopub.execute_input": "2025-07-30T21:33:15.711387Z",
     "iopub.status.busy": "2025-07-30T21:33:15.710373Z",
     "iopub.status.idle": "2025-07-30T21:33:15.715591Z",
     "shell.execute_reply": "2025-07-30T21:33:15.714640Z"
    },
    "papermill": {
     "duration": 0.029609,
     "end_time": "2025-07-30T21:33:15.717276",
     "exception": false,
     "start_time": "2025-07-30T21:33:15.687667",
     "status": "completed"
    },
    "tags": []
   },
   "outputs": [],
   "source": [
    "#universe[\"training_year\"]"
   ]
  },
  {
   "cell_type": "code",
   "execution_count": 17,
   "id": "aea9c6ef-6f46-42c8-85eb-5a62025c1508",
   "metadata": {
    "execution": {
     "iopub.execute_input": "2025-07-30T21:33:15.793141Z",
     "iopub.status.busy": "2025-07-30T21:33:15.792611Z",
     "iopub.status.idle": "2025-07-30T21:33:16.390589Z",
     "shell.execute_reply": "2025-07-30T21:33:16.389829Z"
    },
    "papermill": {
     "duration": 0.640222,
     "end_time": "2025-07-30T21:33:16.392462",
     "exception": false,
     "start_time": "2025-07-30T21:33:15.752240",
     "status": "completed"
    },
    "tags": []
   },
   "outputs": [],
   "source": [
    "siab_train = sample_by_year_size(siab,\n",
    "                               training_year=universe[\"training_year\"],\n",
    "                               training_size=universe[\"training_size\"])"
   ]
  },
  {
   "cell_type": "code",
   "execution_count": 18,
   "id": "8d3afb32-789d-442c-8d5d-9f5aa8dd2eed",
   "metadata": {
    "execution": {
     "iopub.execute_input": "2025-07-30T21:33:16.433358Z",
     "iopub.status.busy": "2025-07-30T21:33:16.433024Z",
     "iopub.status.idle": "2025-07-30T21:33:16.436923Z",
     "shell.execute_reply": "2025-07-30T21:33:16.436139Z"
    },
    "papermill": {
     "duration": 0.024794,
     "end_time": "2025-07-30T21:33:16.438350",
     "exception": false,
     "start_time": "2025-07-30T21:33:16.413556",
     "status": "completed"
    },
    "tags": []
   },
   "outputs": [],
   "source": [
    "#siab_train.shape"
   ]
  },
  {
   "cell_type": "code",
   "execution_count": 19,
   "id": "d582db68-1a4c-47fb-84fc-08518dc1975a",
   "metadata": {
    "execution": {
     "iopub.execute_input": "2025-07-30T21:33:16.478640Z",
     "iopub.status.busy": "2025-07-30T21:33:16.478110Z",
     "iopub.status.idle": "2025-07-30T21:33:16.482993Z",
     "shell.execute_reply": "2025-07-30T21:33:16.482072Z"
    },
    "papermill": {
     "duration": 0.026546,
     "end_time": "2025-07-30T21:33:16.484714",
     "exception": false,
     "start_time": "2025-07-30T21:33:16.458168",
     "status": "completed"
    },
    "tags": []
   },
   "outputs": [],
   "source": [
    "#display(siab_train.groupby(\"year\").size())"
   ]
  },
  {
   "cell_type": "code",
   "execution_count": 20,
   "id": "a561edb4-d032-42cb-8256-22eac1111c64",
   "metadata": {
    "execution": {
     "iopub.execute_input": "2025-07-30T21:33:16.526418Z",
     "iopub.status.busy": "2025-07-30T21:33:16.525567Z",
     "iopub.status.idle": "2025-07-30T21:33:16.774566Z",
     "shell.execute_reply": "2025-07-30T21:33:16.773391Z"
    },
    "papermill": {
     "duration": 0.271884,
     "end_time": "2025-07-30T21:33:16.776479",
     "exception": false,
     "start_time": "2025-07-30T21:33:16.504595",
     "status": "completed"
    },
    "tags": []
   },
   "outputs": [],
   "source": [
    "#siab_train = siab_s[siab_s.year < 2015]\n",
    "siab_calib = siab[siab.year == 2015]\n",
    "siab_test = siab[siab.year == 2016]"
   ]
  },
  {
   "cell_type": "code",
   "execution_count": 21,
   "id": "472de16f-c3db-4916-846b-1f0de9cf1746",
   "metadata": {
    "execution": {
     "iopub.execute_input": "2025-07-30T21:33:16.823856Z",
     "iopub.status.busy": "2025-07-30T21:33:16.823227Z",
     "iopub.status.idle": "2025-07-30T21:33:16.830273Z",
     "shell.execute_reply": "2025-07-30T21:33:16.829372Z"
    },
    "papermill": {
     "duration": 0.03193,
     "end_time": "2025-07-30T21:33:16.831931",
     "exception": false,
     "start_time": "2025-07-30T21:33:16.800001",
     "status": "completed"
    },
    "tags": []
   },
   "outputs": [],
   "source": [
    "X_train = siab_train.iloc[:,4:164]\n",
    "y_train = siab_train.iloc[:, [3]]"
   ]
  },
  {
   "cell_type": "code",
   "execution_count": 22,
   "id": "828c96af-f43a-4ed6-ba47-8ac73a47d56c",
   "metadata": {
    "execution": {
     "iopub.execute_input": "2025-07-30T21:33:16.879102Z",
     "iopub.status.busy": "2025-07-30T21:33:16.878589Z",
     "iopub.status.idle": "2025-07-30T21:33:16.934741Z",
     "shell.execute_reply": "2025-07-30T21:33:16.933692Z"
    },
    "papermill": {
     "duration": 0.081826,
     "end_time": "2025-07-30T21:33:16.936846",
     "exception": false,
     "start_time": "2025-07-30T21:33:16.855020",
     "status": "completed"
    },
    "tags": []
   },
   "outputs": [],
   "source": [
    "X_calib = siab_calib.iloc[:,4:164]\n",
    "y_calib = siab_calib.iloc[:, [3]]"
   ]
  },
  {
   "cell_type": "code",
   "execution_count": 23,
   "id": "c34be9c3-6bd6-476e-acd3-845840e303be",
   "metadata": {
    "execution": {
     "iopub.execute_input": "2025-07-30T21:33:16.987142Z",
     "iopub.status.busy": "2025-07-30T21:33:16.986619Z",
     "iopub.status.idle": "2025-07-30T21:33:17.045458Z",
     "shell.execute_reply": "2025-07-30T21:33:17.044335Z"
    },
    "papermill": {
     "duration": 0.08458,
     "end_time": "2025-07-30T21:33:17.047024",
     "exception": false,
     "start_time": "2025-07-30T21:33:16.962444",
     "status": "completed"
    },
    "tags": []
   },
   "outputs": [],
   "source": [
    "X_test = siab_test.iloc[:,4:164]\n",
    "y_true = siab_test.iloc[:, [3]]"
   ]
  },
  {
   "cell_type": "markdown",
   "id": "9901737e-04df-44f0-9100-f5ad144ed040",
   "metadata": {
    "papermill": {
     "duration": 0.021171,
     "end_time": "2025-07-30T21:33:17.090350",
     "exception": false,
     "start_time": "2025-07-30T21:33:17.069179",
     "status": "completed"
    },
    "tags": []
   },
   "source": [
    "# Splitting Data and Setting Training Data Size OLD VERSION"
   ]
  },
  {
   "cell_type": "code",
   "execution_count": 24,
   "id": "acbc8f7d-8fc8-4e86-8c59-5dcb0f58384b",
   "metadata": {
    "execution": {
     "iopub.execute_input": "2025-07-30T21:33:17.134031Z",
     "iopub.status.busy": "2025-07-30T21:33:17.133531Z",
     "iopub.status.idle": "2025-07-30T21:33:17.139271Z",
     "shell.execute_reply": "2025-07-30T21:33:17.138364Z"
    },
    "papermill": {
     "duration": 0.029288,
     "end_time": "2025-07-30T21:33:17.140864",
     "exception": false,
     "start_time": "2025-07-30T21:33:17.111576",
     "status": "completed"
    },
    "tags": []
   },
   "outputs": [],
   "source": [
    "#def sample_by_year(df, training_size, random_state=42):\n",
    "#    if training_size == \"2014\":\n",
    "#        return df[df[\"year\"] == 2014].reset_index(drop=True)\n",
    "#    \n",
    "#    size_map = {\n",
    "#        \"25k\": 5000,\n",
    "#        \"5k\": 1000,\n",
    "#        \"1k\": 200\n",
    "#    }\n",
    "#\n",
    "#    if training_size not in size_map:\n",
    "#        return df.reset_index(drop=True)  # use all data\n",
    "#\n",
    "#    n_per_year = size_map[training_size]\n",
    "#    grouped = df.groupby(\"year\")\n",
    "#    sampled = grouped.apply(lambda x: x.sample(n=min(n_per_year, len(x)), random_state=random_state))\n",
    "#    return sampled.reset_index(drop=True)"
   ]
  },
  {
   "cell_type": "code",
   "execution_count": 25,
   "id": "6d931f52-beaf-43ff-9e78-9d44a448d54e",
   "metadata": {
    "execution": {
     "iopub.execute_input": "2025-07-30T21:33:17.245258Z",
     "iopub.status.busy": "2025-07-30T21:33:17.244480Z",
     "iopub.status.idle": "2025-07-30T21:33:17.250500Z",
     "shell.execute_reply": "2025-07-30T21:33:17.249450Z"
    },
    "papermill": {
     "duration": 0.08961,
     "end_time": "2025-07-30T21:33:17.252442",
     "exception": false,
     "start_time": "2025-07-30T21:33:17.162832",
     "status": "completed"
    },
    "tags": []
   },
   "outputs": [],
   "source": [
    "#siab_s = sample_by_year(siab, universe[\"training_size\"])"
   ]
  },
  {
   "cell_type": "code",
   "execution_count": 26,
   "id": "5db0a40e-a4e2-4920-be85-b12ae061d70d",
   "metadata": {
    "execution": {
     "iopub.execute_input": "2025-07-30T21:33:17.299586Z",
     "iopub.status.busy": "2025-07-30T21:33:17.298890Z",
     "iopub.status.idle": "2025-07-30T21:33:17.303882Z",
     "shell.execute_reply": "2025-07-30T21:33:17.303021Z"
    },
    "papermill": {
     "duration": 0.030005,
     "end_time": "2025-07-30T21:33:17.305533",
     "exception": false,
     "start_time": "2025-07-30T21:33:17.275528",
     "status": "completed"
    },
    "tags": []
   },
   "outputs": [],
   "source": [
    "#display(siab_s.groupby(\"year\").size())"
   ]
  },
  {
   "cell_type": "code",
   "execution_count": 27,
   "id": "e6c733c5",
   "metadata": {
    "execution": {
     "iopub.execute_input": "2025-07-30T21:33:17.352892Z",
     "iopub.status.busy": "2025-07-30T21:33:17.351890Z",
     "iopub.status.idle": "2025-07-30T21:33:17.449277Z",
     "shell.execute_reply": "2025-07-30T21:33:17.448332Z"
    },
    "papermill": {
     "duration": 0.122403,
     "end_time": "2025-07-30T21:33:17.450857",
     "exception": false,
     "start_time": "2025-07-30T21:33:17.328454",
     "status": "completed"
    },
    "tags": []
   },
   "outputs": [],
   "source": [
    "# Auxiliary data needed downstream in the pipeline\n",
    "\n",
    "org_train = X_train.copy()\n",
    "org_test = X_test.copy()\n",
    "org_calib = X_calib.copy()"
   ]
  },
  {
   "cell_type": "code",
   "execution_count": 28,
   "id": "1466abac-c6da-4492-a62f-4240ae3783af",
   "metadata": {
    "execution": {
     "iopub.execute_input": "2025-07-30T21:33:17.497984Z",
     "iopub.status.busy": "2025-07-30T21:33:17.497297Z",
     "iopub.status.idle": "2025-07-30T21:33:17.503479Z",
     "shell.execute_reply": "2025-07-30T21:33:17.502418Z"
    },
    "papermill": {
     "duration": 0.032112,
     "end_time": "2025-07-30T21:33:17.505124",
     "exception": false,
     "start_time": "2025-07-30T21:33:17.473012",
     "status": "completed"
    },
    "tags": []
   },
   "outputs": [],
   "source": [
    "# put in other script?\n",
    "# Group sizes\n",
    "\n",
    "#def calculate_percentages(df, df_name):\n",
    "#    total_entries = len(df)\n",
    "#\n",
    "#    female_pct = (df['frau1'] == 1).mean() * 100\n",
    "#    non_german_pct = ((df['maxdeutsch1'] == 0) & (df['maxdeutsch.Missing.'] == 0)).mean() * 100\n",
    "#    non_german_male_pct = ((df['frau1'] == 0) & (df['maxdeutsch1'] == 0) & (df['maxdeutsch.Missing.'] == 0)).mean() * 100\n",
    "#    non_german_female_pct = ((df['frau1'] == 1) & (df['maxdeutsch1'] == 0) & (df['maxdeutsch.Missing.'] == 0)).mean() * 100\n",
    "#\n",
    "#    print(f\"--- {df_name} ---\")\n",
    "#    print(f\"Female: {female_pct:.2f}%\")\n",
    "#    print(f\"Non-German: {non_german_pct:.2f}%\")\n",
    "#    print(f\"Non-German Male: {non_german_male_pct:.2f}%\")\n",
    "#    print(f\"Non-German Female: {non_german_female_pct:.2f}%\\n\")\n",
    "#\n",
    "## Calculate for each DataFrame\n",
    "#calculate_percentages(siab_calib, \"siab_calib\")\n",
    "#calculate_percentages(siab_test, \"siab_test\")\n",
    "#calculate_percentages(siab_train, \"siab_train\")"
   ]
  },
  {
   "cell_type": "markdown",
   "id": "0a4a1b33",
   "metadata": {
    "papermill": {
     "duration": 0.022411,
     "end_time": "2025-07-30T21:33:17.551169",
     "exception": false,
     "start_time": "2025-07-30T21:33:17.528758",
     "status": "completed"
    },
    "tags": []
   },
   "source": [
    "# Preprocessing Data"
   ]
  },
  {
   "cell_type": "code",
   "execution_count": 29,
   "id": "ca879031",
   "metadata": {
    "execution": {
     "iopub.execute_input": "2025-07-30T21:33:17.608688Z",
     "iopub.status.busy": "2025-07-30T21:33:17.607685Z",
     "iopub.status.idle": "2025-07-30T21:33:17.614810Z",
     "shell.execute_reply": "2025-07-30T21:33:17.613826Z"
    },
    "papermill": {
     "duration": 0.039184,
     "end_time": "2025-07-30T21:33:17.617012",
     "exception": false,
     "start_time": "2025-07-30T21:33:17.577828",
     "status": "completed"
    },
    "tags": []
   },
   "outputs": [],
   "source": [
    "# EXCLUDE PROTECTED FEATURES\n",
    "# ----------------------\n",
    "# \"exclude_features\": \"none\", # \"nationality\", \"sex\", \"nationality-sex\"\n",
    "\n",
    "excluded_features = universe[\"exclude_features\"].split(\"-\") # split, e.g.: \"nationality-sex\" -> [\"nationality\", \"sex\"]\n",
    "excluded_features_dictionary = {\n",
    "    \"nationality\": [\"maxdeutsch1\", \"maxdeutsch.Missing.\"],\n",
    "    \"sex\": [\"frau1\"],\n",
    "    \"age\": [\"age\"],\n",
    "}\n"
   ]
  },
  {
   "cell_type": "code",
   "execution_count": 30,
   "id": "b745ac60",
   "metadata": {
    "execution": {
     "iopub.execute_input": "2025-07-30T21:33:17.678028Z",
     "iopub.status.busy": "2025-07-30T21:33:17.677034Z",
     "iopub.status.idle": "2025-07-30T21:33:17.683899Z",
     "shell.execute_reply": "2025-07-30T21:33:17.682830Z"
    },
    "papermill": {
     "duration": 0.039308,
     "end_time": "2025-07-30T21:33:17.685901",
     "exception": false,
     "start_time": "2025-07-30T21:33:17.646593",
     "status": "completed"
    },
    "tags": []
   },
   "outputs": [],
   "source": [
    "# Code nice names to column names\n",
    "\n",
    "excluded_features_columns = [\n",
    "    excluded_features_dictionary[f] for f in excluded_features if len(f) > 0 and f != \"none\"\n",
    "]"
   ]
  },
  {
   "cell_type": "code",
   "execution_count": 31,
   "id": "f84f73a2",
   "metadata": {
    "execution": {
     "iopub.execute_input": "2025-07-30T21:33:17.745616Z",
     "iopub.status.busy": "2025-07-30T21:33:17.744855Z",
     "iopub.status.idle": "2025-07-30T21:33:17.752256Z",
     "shell.execute_reply": "2025-07-30T21:33:17.751117Z"
    },
    "papermill": {
     "duration": 0.039322,
     "end_time": "2025-07-30T21:33:17.754217",
     "exception": false,
     "start_time": "2025-07-30T21:33:17.714895",
     "status": "completed"
    },
    "tags": []
   },
   "outputs": [],
   "source": [
    "from utils import flatten_once\n",
    "\n",
    "excluded_features_columns = flatten_once(excluded_features_columns)"
   ]
  },
  {
   "cell_type": "code",
   "execution_count": 32,
   "id": "884dea22",
   "metadata": {
    "execution": {
     "iopub.execute_input": "2025-07-30T21:33:17.805136Z",
     "iopub.status.busy": "2025-07-30T21:33:17.804542Z",
     "iopub.status.idle": "2025-07-30T21:33:17.815047Z",
     "shell.execute_reply": "2025-07-30T21:33:17.813839Z"
    },
    "papermill": {
     "duration": 0.038387,
     "end_time": "2025-07-30T21:33:17.816882",
     "exception": false,
     "start_time": "2025-07-30T21:33:17.778495",
     "status": "completed"
    },
    "tags": []
   },
   "outputs": [
    {
     "name": "stdout",
     "output_type": "stream",
     "text": [
      "Dropping features: ['maxdeutsch1', 'maxdeutsch.Missing.']\n"
     ]
    }
   ],
   "source": [
    "if len(excluded_features_columns) > 0:\n",
    "    print(f\"Dropping features: {excluded_features_columns}\")\n",
    "    X_train.drop(excluded_features_columns, axis=1, inplace=True)"
   ]
  },
  {
   "cell_type": "code",
   "execution_count": 33,
   "id": "95ab8b16",
   "metadata": {
    "execution": {
     "iopub.execute_input": "2025-07-30T21:33:17.872199Z",
     "iopub.status.busy": "2025-07-30T21:33:17.871332Z",
     "iopub.status.idle": "2025-07-30T21:33:17.947764Z",
     "shell.execute_reply": "2025-07-30T21:33:17.946600Z"
    },
    "papermill": {
     "duration": 0.10607,
     "end_time": "2025-07-30T21:33:17.949543",
     "exception": false,
     "start_time": "2025-07-30T21:33:17.843473",
     "status": "completed"
    },
    "tags": []
   },
   "outputs": [
    {
     "name": "stdout",
     "output_type": "stream",
     "text": [
      "Dropping features: ['maxdeutsch1', 'maxdeutsch.Missing.']\n"
     ]
    }
   ],
   "source": [
    "if len(excluded_features_columns) > 0:\n",
    "    print(f\"Dropping features: {excluded_features_columns}\")\n",
    "    X_test.drop(excluded_features_columns, axis=1, inplace=True)"
   ]
  },
  {
   "cell_type": "code",
   "execution_count": 34,
   "id": "1853aaf5-fb9f-46cb-a2b5-8ea4ae2237e4",
   "metadata": {
    "execution": {
     "iopub.execute_input": "2025-07-30T21:33:17.976109Z",
     "iopub.status.busy": "2025-07-30T21:33:17.975583Z",
     "iopub.status.idle": "2025-07-30T21:33:18.023544Z",
     "shell.execute_reply": "2025-07-30T21:33:18.022823Z"
    },
    "papermill": {
     "duration": 0.061828,
     "end_time": "2025-07-30T21:33:18.024775",
     "exception": false,
     "start_time": "2025-07-30T21:33:17.962947",
     "status": "completed"
    },
    "tags": []
   },
   "outputs": [
    {
     "name": "stdout",
     "output_type": "stream",
     "text": [
      "Dropping features: ['maxdeutsch1', 'maxdeutsch.Missing.']\n"
     ]
    }
   ],
   "source": [
    "if len(excluded_features_columns) > 0:\n",
    "    print(f\"Dropping features: {excluded_features_columns}\")\n",
    "    X_calib.drop(excluded_features_columns, axis=1, inplace=True)"
   ]
  },
  {
   "cell_type": "code",
   "execution_count": 35,
   "id": "6727d079-03e5-481e-9d38-292a90b7a0a8",
   "metadata": {
    "execution": {
     "iopub.execute_input": "2025-07-30T21:33:18.050257Z",
     "iopub.status.busy": "2025-07-30T21:33:18.049731Z",
     "iopub.status.idle": "2025-07-30T21:33:18.054159Z",
     "shell.execute_reply": "2025-07-30T21:33:18.053400Z"
    },
    "papermill": {
     "duration": 0.018309,
     "end_time": "2025-07-30T21:33:18.055492",
     "exception": false,
     "start_time": "2025-07-30T21:33:18.037183",
     "status": "completed"
    },
    "tags": []
   },
   "outputs": [],
   "source": [
    "# SPLIT & STRATIFY DATA\n",
    "# ----------------------"
   ]
  },
  {
   "cell_type": "code",
   "execution_count": 36,
   "id": "76c4dc6d",
   "metadata": {
    "execution": {
     "iopub.execute_input": "2025-07-30T21:33:18.081875Z",
     "iopub.status.busy": "2025-07-30T21:33:18.081387Z",
     "iopub.status.idle": "2025-07-30T21:33:18.086006Z",
     "shell.execute_reply": "2025-07-30T21:33:18.085345Z"
    },
    "papermill": {
     "duration": 0.018337,
     "end_time": "2025-07-30T21:33:18.087222",
     "exception": false,
     "start_time": "2025-07-30T21:33:18.068885",
     "status": "completed"
    },
    "tags": []
   },
   "outputs": [],
   "source": [
    "# EXCLUDE CERTAIN SUBGROUPS\n",
    "# ----------------------\n",
    "\n",
    "mode = universe.get(\"exclude_subgroups\", \"keep-all\") \n",
    "# Fetches the exclude_subgroups setting from the universe dict.\n",
    "# Defaults to \"keep-all\" if the key is missing."
   ]
  },
  {
   "cell_type": "code",
   "execution_count": 37,
   "id": "21994072",
   "metadata": {
    "execution": {
     "iopub.execute_input": "2025-07-30T21:33:18.112568Z",
     "iopub.status.busy": "2025-07-30T21:33:18.112000Z",
     "iopub.status.idle": "2025-07-30T21:33:18.117702Z",
     "shell.execute_reply": "2025-07-30T21:33:18.116977Z"
    },
    "papermill": {
     "duration": 0.019641,
     "end_time": "2025-07-30T21:33:18.119104",
     "exception": false,
     "start_time": "2025-07-30T21:33:18.099463",
     "status": "completed"
    },
    "tags": []
   },
   "outputs": [],
   "source": [
    "if mode == \"keep-all\":\n",
    "    keep_mask = pd.Series(True, index=org_train.index)\n",
    "\n",
    "# org_train contains the original feature columns from features_org (in Simson)\n",
    "# features_org contains unprocessed features, for me X_train at beginning ???\n",
    "# For keep-all, creates a boolean Series (keep_mask) of all True, so no rows are removed.\n",
    "\n",
    "elif mode == \"drop-non-german\":\n",
    "    keep_mask = org_train[\"maxdeutsch1\"] == 1 # ??? what about missing values?\n",
    "\n",
    "else:\n",
    "    raise ValueError(f\"Unsupported mode for exclude_subgroups: {mode}\")\n"
   ]
  },
  {
   "cell_type": "code",
   "execution_count": 38,
   "id": "71651440",
   "metadata": {
    "execution": {
     "iopub.execute_input": "2025-07-30T21:33:18.164447Z",
     "iopub.status.busy": "2025-07-30T21:33:18.163883Z",
     "iopub.status.idle": "2025-07-30T21:33:18.170951Z",
     "shell.execute_reply": "2025-07-30T21:33:18.169969Z"
    },
    "papermill": {
     "duration": 0.033847,
     "end_time": "2025-07-30T21:33:18.172676",
     "exception": false,
     "start_time": "2025-07-30T21:33:18.138829",
     "status": "completed"
    },
    "tags": []
   },
   "outputs": [],
   "source": [
    "n_drop = (~keep_mask).sum() # Calculates how many rows are set to be dropped\n",
    "if n_drop > 0:\n",
    "    pct = n_drop / len(keep_mask) * 100\n",
    "    print(f\"Dropping {n_drop} rows ({pct:.2f}%) where mode='{mode}'\")"
   ]
  },
  {
   "cell_type": "code",
   "execution_count": 39,
   "id": "5fb8eee5",
   "metadata": {
    "execution": {
     "iopub.execute_input": "2025-07-30T21:33:18.221390Z",
     "iopub.status.busy": "2025-07-30T21:33:18.220432Z",
     "iopub.status.idle": "2025-07-30T21:33:18.227425Z",
     "shell.execute_reply": "2025-07-30T21:33:18.226430Z"
    },
    "papermill": {
     "duration": 0.032098,
     "end_time": "2025-07-30T21:33:18.229257",
     "exception": false,
     "start_time": "2025-07-30T21:33:18.197159",
     "status": "completed"
    },
    "tags": []
   },
   "outputs": [],
   "source": [
    "X_train = X_train[keep_mask]"
   ]
  },
  {
   "cell_type": "code",
   "execution_count": 40,
   "id": "b202bb3a",
   "metadata": {
    "execution": {
     "iopub.execute_input": "2025-07-30T21:33:18.282664Z",
     "iopub.status.busy": "2025-07-30T21:33:18.281514Z",
     "iopub.status.idle": "2025-07-30T21:33:18.289572Z",
     "shell.execute_reply": "2025-07-30T21:33:18.288456Z"
    },
    "papermill": {
     "duration": 0.036432,
     "end_time": "2025-07-30T21:33:18.291265",
     "exception": false,
     "start_time": "2025-07-30T21:33:18.254833",
     "status": "completed"
    },
    "tags": []
   },
   "outputs": [],
   "source": [
    "y_train = y_train[keep_mask]"
   ]
  },
  {
   "cell_type": "markdown",
   "id": "493e2ac3",
   "metadata": {
    "papermill": {
     "duration": 0.02521,
     "end_time": "2025-07-30T21:33:18.341832",
     "exception": false,
     "start_time": "2025-07-30T21:33:18.316622",
     "status": "completed"
    },
    "tags": []
   },
   "source": [
    "# Model Training"
   ]
  },
  {
   "cell_type": "code",
   "execution_count": 41,
   "id": "679e1268",
   "metadata": {
    "execution": {
     "iopub.execute_input": "2025-07-30T21:33:18.394731Z",
     "iopub.status.busy": "2025-07-30T21:33:18.393713Z",
     "iopub.status.idle": "2025-07-30T21:33:18.511546Z",
     "shell.execute_reply": "2025-07-30T21:33:18.510367Z"
    },
    "papermill": {
     "duration": 0.147366,
     "end_time": "2025-07-30T21:33:18.514247",
     "exception": false,
     "start_time": "2025-07-30T21:33:18.366881",
     "status": "completed"
    },
    "tags": []
   },
   "outputs": [],
   "source": [
    "from sklearn.linear_model import LogisticRegression\n",
    "from sklearn.ensemble import GradientBoostingClassifier, RandomForestClassifier\n",
    "\n",
    "if (universe[\"model\"] == \"logreg\"):\n",
    "    model = LogisticRegression() #penalty=\"none\") #, solver=\"newton-cg\", max_iter=1) # include random_state=19 ?\n",
    "elif (universe[\"model\"] == \"penalized_logreg\"):\n",
    "    model = LogisticRegression(penalty=\"l2\", C=1.0) #, solver=\"newton-cg\", max_iter=1)\n",
    "elif (universe[\"model\"] == \"rf\"):\n",
    "    model = RandomForestClassifier(n_estimators=100, n_jobs=-1)\n",
    "elif (universe[\"model\"] == \"gbm\"):\n",
    "    model = GradientBoostingClassifier()\n",
    "elif (universe[\"model\"] == \"elasticnet\"):\n",
    "    model = LogisticRegression(penalty = 'elasticnet', solver = 'saga', l1_ratio = 0.5, max_iter=5000) # which solver to use?\n",
    "else:\n",
    "    raise \"Unsupported universe.model\""
   ]
  },
  {
   "cell_type": "code",
   "execution_count": 42,
   "id": "0cc8f744",
   "metadata": {
    "execution": {
     "iopub.execute_input": "2025-07-30T21:33:18.585622Z",
     "iopub.status.busy": "2025-07-30T21:33:18.584803Z",
     "iopub.status.idle": "2025-07-30T21:33:18.593254Z",
     "shell.execute_reply": "2025-07-30T21:33:18.592109Z"
    },
    "papermill": {
     "duration": 0.046132,
     "end_time": "2025-07-30T21:33:18.595130",
     "exception": false,
     "start_time": "2025-07-30T21:33:18.548998",
     "status": "completed"
    },
    "tags": []
   },
   "outputs": [],
   "source": [
    "import numpy as np\n",
    "from sklearn.pipeline import Pipeline\n",
    "from sklearn.preprocessing import StandardScaler\n",
    "\n",
    "model = Pipeline([\n",
    "    #(\"continuous_processor\", continuous_processor),\n",
    "    #(\"categorical_preprocessor\", categorical_preprocessor),\n",
    "    (\"scale\", StandardScaler() if universe[\"scale\"] == \"scale\" else None), \n",
    "    (\"model\", model),\n",
    "])"
   ]
  },
  {
   "cell_type": "code",
   "execution_count": 43,
   "id": "9442c04d",
   "metadata": {
    "execution": {
     "iopub.execute_input": "2025-07-30T21:33:18.643812Z",
     "iopub.status.busy": "2025-07-30T21:33:18.642789Z",
     "iopub.status.idle": "2025-07-30T21:33:18.761637Z",
     "shell.execute_reply": "2025-07-30T21:33:18.760502Z"
    },
    "papermill": {
     "duration": 0.145074,
     "end_time": "2025-07-30T21:33:18.763448",
     "exception": false,
     "start_time": "2025-07-30T21:33:18.618374",
     "status": "completed"
    },
    "tags": []
   },
   "outputs": [
    {
     "name": "stderr",
     "output_type": "stream",
     "text": [
      "/dss/dsshome1/0C/ra93lal2/.local/share/virtualenvs/CMA_Fairness_v2-3j10GkSs/lib/python3.10/site-packages/sklearn/linear_model/_logistic.py:444: ConvergenceWarning: lbfgs failed to converge (status=1):\n",
      "STOP: TOTAL NO. of ITERATIONS REACHED LIMIT.\n",
      "\n",
      "Increase the number of iterations (max_iter) or scale the data as shown in:\n",
      "    https://scikit-learn.org/stable/modules/preprocessing.html\n",
      "Please also refer to the documentation for alternative solver options:\n",
      "    https://scikit-learn.org/stable/modules/linear_model.html#logistic-regression\n",
      "  n_iter_i = _check_optimize_result(\n"
     ]
    },
    {
     "data": {
      "text/html": [
       "<style>#sk-container-id-1 {color: black;background-color: white;}#sk-container-id-1 pre{padding: 0;}#sk-container-id-1 div.sk-toggleable {background-color: white;}#sk-container-id-1 label.sk-toggleable__label {cursor: pointer;display: block;width: 100%;margin-bottom: 0;padding: 0.3em;box-sizing: border-box;text-align: center;}#sk-container-id-1 label.sk-toggleable__label-arrow:before {content: \"▸\";float: left;margin-right: 0.25em;color: #696969;}#sk-container-id-1 label.sk-toggleable__label-arrow:hover:before {color: black;}#sk-container-id-1 div.sk-estimator:hover label.sk-toggleable__label-arrow:before {color: black;}#sk-container-id-1 div.sk-toggleable__content {max-height: 0;max-width: 0;overflow: hidden;text-align: left;background-color: #f0f8ff;}#sk-container-id-1 div.sk-toggleable__content pre {margin: 0.2em;color: black;border-radius: 0.25em;background-color: #f0f8ff;}#sk-container-id-1 input.sk-toggleable__control:checked~div.sk-toggleable__content {max-height: 200px;max-width: 100%;overflow: auto;}#sk-container-id-1 input.sk-toggleable__control:checked~label.sk-toggleable__label-arrow:before {content: \"▾\";}#sk-container-id-1 div.sk-estimator input.sk-toggleable__control:checked~label.sk-toggleable__label {background-color: #d4ebff;}#sk-container-id-1 div.sk-label input.sk-toggleable__control:checked~label.sk-toggleable__label {background-color: #d4ebff;}#sk-container-id-1 input.sk-hidden--visually {border: 0;clip: rect(1px 1px 1px 1px);clip: rect(1px, 1px, 1px, 1px);height: 1px;margin: -1px;overflow: hidden;padding: 0;position: absolute;width: 1px;}#sk-container-id-1 div.sk-estimator {font-family: monospace;background-color: #f0f8ff;border: 1px dotted black;border-radius: 0.25em;box-sizing: border-box;margin-bottom: 0.5em;}#sk-container-id-1 div.sk-estimator:hover {background-color: #d4ebff;}#sk-container-id-1 div.sk-parallel-item::after {content: \"\";width: 100%;border-bottom: 1px solid gray;flex-grow: 1;}#sk-container-id-1 div.sk-label:hover label.sk-toggleable__label {background-color: #d4ebff;}#sk-container-id-1 div.sk-serial::before {content: \"\";position: absolute;border-left: 1px solid gray;box-sizing: border-box;top: 0;bottom: 0;left: 50%;z-index: 0;}#sk-container-id-1 div.sk-serial {display: flex;flex-direction: column;align-items: center;background-color: white;padding-right: 0.2em;padding-left: 0.2em;position: relative;}#sk-container-id-1 div.sk-item {position: relative;z-index: 1;}#sk-container-id-1 div.sk-parallel {display: flex;align-items: stretch;justify-content: center;background-color: white;position: relative;}#sk-container-id-1 div.sk-item::before, #sk-container-id-1 div.sk-parallel-item::before {content: \"\";position: absolute;border-left: 1px solid gray;box-sizing: border-box;top: 0;bottom: 0;left: 50%;z-index: -1;}#sk-container-id-1 div.sk-parallel-item {display: flex;flex-direction: column;z-index: 1;position: relative;background-color: white;}#sk-container-id-1 div.sk-parallel-item:first-child::after {align-self: flex-end;width: 50%;}#sk-container-id-1 div.sk-parallel-item:last-child::after {align-self: flex-start;width: 50%;}#sk-container-id-1 div.sk-parallel-item:only-child::after {width: 0;}#sk-container-id-1 div.sk-dashed-wrapped {border: 1px dashed gray;margin: 0 0.4em 0.5em 0.4em;box-sizing: border-box;padding-bottom: 0.4em;background-color: white;}#sk-container-id-1 div.sk-label label {font-family: monospace;font-weight: bold;display: inline-block;line-height: 1.2em;}#sk-container-id-1 div.sk-label-container {text-align: center;}#sk-container-id-1 div.sk-container {/* jupyter's `normalize.less` sets `[hidden] { display: none; }` but bootstrap.min.css set `[hidden] { display: none !important; }` so we also need the `!important` here to be able to override the default hidden behavior on the sphinx rendered scikit-learn.org. See: https://github.com/scikit-learn/scikit-learn/issues/21755 */display: inline-block !important;position: relative;}#sk-container-id-1 div.sk-text-repr-fallback {display: none;}</style><div id=\"sk-container-id-1\" class=\"sk-top-container\"><div class=\"sk-text-repr-fallback\"><pre>Pipeline(steps=[(&#x27;scale&#x27;, StandardScaler()), (&#x27;model&#x27;, LogisticRegression())])</pre><b>In a Jupyter environment, please rerun this cell to show the HTML representation or trust the notebook. <br />On GitHub, the HTML representation is unable to render, please try loading this page with nbviewer.org.</b></div><div class=\"sk-container\" hidden><div class=\"sk-item sk-dashed-wrapped\"><div class=\"sk-label-container\"><div class=\"sk-label sk-toggleable\"><input class=\"sk-toggleable__control sk-hidden--visually\" id=\"sk-estimator-id-1\" type=\"checkbox\" ><label for=\"sk-estimator-id-1\" class=\"sk-toggleable__label sk-toggleable__label-arrow\">Pipeline</label><div class=\"sk-toggleable__content\"><pre>Pipeline(steps=[(&#x27;scale&#x27;, StandardScaler()), (&#x27;model&#x27;, LogisticRegression())])</pre></div></div></div><div class=\"sk-serial\"><div class=\"sk-item\"><div class=\"sk-estimator sk-toggleable\"><input class=\"sk-toggleable__control sk-hidden--visually\" id=\"sk-estimator-id-2\" type=\"checkbox\" ><label for=\"sk-estimator-id-2\" class=\"sk-toggleable__label sk-toggleable__label-arrow\">StandardScaler</label><div class=\"sk-toggleable__content\"><pre>StandardScaler()</pre></div></div></div><div class=\"sk-item\"><div class=\"sk-estimator sk-toggleable\"><input class=\"sk-toggleable__control sk-hidden--visually\" id=\"sk-estimator-id-3\" type=\"checkbox\" ><label for=\"sk-estimator-id-3\" class=\"sk-toggleable__label sk-toggleable__label-arrow\">LogisticRegression</label><div class=\"sk-toggleable__content\"><pre>LogisticRegression()</pre></div></div></div></div></div></div></div>"
      ],
      "text/plain": [
       "Pipeline(steps=[('scale', StandardScaler()), ('model', LogisticRegression())])"
      ]
     },
     "execution_count": 43,
     "metadata": {},
     "output_type": "execute_result"
    }
   ],
   "source": [
    "model.fit(X_train, y_train.values.ravel())"
   ]
  },
  {
   "cell_type": "code",
   "execution_count": 44,
   "id": "af59f8c0",
   "metadata": {
    "execution": {
     "iopub.execute_input": "2025-07-30T21:33:18.812001Z",
     "iopub.status.busy": "2025-07-30T21:33:18.811481Z",
     "iopub.status.idle": "2025-07-30T21:33:18.818155Z",
     "shell.execute_reply": "2025-07-30T21:33:18.817163Z"
    },
    "papermill": {
     "duration": 0.034255,
     "end_time": "2025-07-30T21:33:18.822342",
     "exception": false,
     "start_time": "2025-07-30T21:33:18.788087",
     "status": "completed"
    },
    "tags": []
   },
   "outputs": [],
   "source": [
    "from fairness_multiverse.universe import predict_w_threshold"
   ]
  },
  {
   "cell_type": "code",
   "execution_count": 45,
   "id": "a7cf2e16",
   "metadata": {
    "execution": {
     "iopub.execute_input": "2025-07-30T21:33:18.876861Z",
     "iopub.status.busy": "2025-07-30T21:33:18.876140Z",
     "iopub.status.idle": "2025-07-30T21:33:19.076277Z",
     "shell.execute_reply": "2025-07-30T21:33:19.075261Z"
    },
    "papermill": {
     "duration": 0.229924,
     "end_time": "2025-07-30T21:33:19.077819",
     "exception": false,
     "start_time": "2025-07-30T21:33:18.847895",
     "status": "completed"
    },
    "tags": []
   },
   "outputs": [
    {
     "data": {
      "text/plain": [
       "0.8180135993757663"
      ]
     },
     "execution_count": 45,
     "metadata": {},
     "output_type": "execute_result"
    }
   ],
   "source": [
    "probs_test = model.predict_proba(X_test)\n",
    "\n",
    "'''\n",
    "Below code returns a boolean array (or binary 0/1 array depending on how it’s used) where each element \n",
    "is True if the probability of class 1 is greater than or equal to the threshold, and False otherwise.\n",
    "'''\n",
    "y_pred_default = predict_w_threshold(probs_test, 0.5)\n",
    "\n",
    "from sklearn.metrics import accuracy_score\n",
    "\n",
    "# Naive prediction\n",
    "accuracy_score(y_true = y_true, y_pred = y_pred_default)"
   ]
  },
  {
   "cell_type": "code",
   "execution_count": 46,
   "id": "081964c3",
   "metadata": {
    "execution": {
     "iopub.execute_input": "2025-07-30T21:33:19.137302Z",
     "iopub.status.busy": "2025-07-30T21:33:19.136608Z",
     "iopub.status.idle": "2025-07-30T21:33:19.339618Z",
     "shell.execute_reply": "2025-07-30T21:33:19.338674Z"
    },
    "papermill": {
     "duration": 0.234236,
     "end_time": "2025-07-30T21:33:19.341247",
     "exception": false,
     "start_time": "2025-07-30T21:33:19.107011",
     "status": "completed"
    },
    "tags": []
   },
   "outputs": [
    {
     "data": {
      "text/plain": [
       "array([0, 0, 0, ..., 0, 0, 0])"
      ]
     },
     "execution_count": 46,
     "metadata": {},
     "output_type": "execute_result"
    }
   ],
   "source": [
    "model.predict(X_test)"
   ]
  },
  {
   "cell_type": "markdown",
   "id": "56c9705b",
   "metadata": {
    "papermill": {
     "duration": 0.029089,
     "end_time": "2025-07-30T21:33:19.397707",
     "exception": false,
     "start_time": "2025-07-30T21:33:19.368618",
     "status": "completed"
    },
    "tags": []
   },
   "source": [
    "# Conformal Prediction"
   ]
  },
  {
   "cell_type": "code",
   "execution_count": 47,
   "id": "160ec6ff",
   "metadata": {
    "execution": {
     "iopub.execute_input": "2025-07-30T21:33:19.447483Z",
     "iopub.status.busy": "2025-07-30T21:33:19.446457Z",
     "iopub.status.idle": "2025-07-30T21:33:19.452167Z",
     "shell.execute_reply": "2025-07-30T21:33:19.451193Z"
    },
    "papermill": {
     "duration": 0.03213,
     "end_time": "2025-07-30T21:33:19.453918",
     "exception": false,
     "start_time": "2025-07-30T21:33:19.421788",
     "status": "completed"
    },
    "tags": []
   },
   "outputs": [],
   "source": [
    "# Miscoverage level for conformal prediction (10% allowed error rate => 90% target coverage)\n",
    "alpha = 0.1"
   ]
  },
  {
   "cell_type": "code",
   "execution_count": 48,
   "id": "eadf4555-3dd3-440e-8e35-f82a4ad9f855",
   "metadata": {
    "execution": {
     "iopub.execute_input": "2025-07-30T21:33:19.505672Z",
     "iopub.status.busy": "2025-07-30T21:33:19.504824Z",
     "iopub.status.idle": "2025-07-30T21:33:19.684508Z",
     "shell.execute_reply": "2025-07-30T21:33:19.683388Z"
    },
    "papermill": {
     "duration": 0.207537,
     "end_time": "2025-07-30T21:33:19.686583",
     "exception": false,
     "start_time": "2025-07-30T21:33:19.479046",
     "status": "completed"
    },
    "tags": []
   },
   "outputs": [],
   "source": [
    "probs_calib = model.predict_proba(X_calib)"
   ]
  },
  {
   "cell_type": "code",
   "execution_count": 49,
   "id": "2ed93547-6d5d-4983-9b36-1ecb300da49a",
   "metadata": {
    "execution": {
     "iopub.execute_input": "2025-07-30T21:33:19.730329Z",
     "iopub.status.busy": "2025-07-30T21:33:19.729892Z",
     "iopub.status.idle": "2025-07-30T21:33:19.735845Z",
     "shell.execute_reply": "2025-07-30T21:33:19.734761Z"
    },
    "papermill": {
     "duration": 0.025244,
     "end_time": "2025-07-30T21:33:19.737609",
     "exception": false,
     "start_time": "2025-07-30T21:33:19.712365",
     "status": "completed"
    },
    "tags": []
   },
   "outputs": [],
   "source": [
    "y_calib = y_calib.values.ravel().astype(int)"
   ]
  },
  {
   "cell_type": "code",
   "execution_count": 50,
   "id": "65d1320d-f588-4b38-9072-62af1ae97f7d",
   "metadata": {
    "execution": {
     "iopub.execute_input": "2025-07-30T21:33:19.789033Z",
     "iopub.status.busy": "2025-07-30T21:33:19.788269Z",
     "iopub.status.idle": "2025-07-30T21:33:19.795711Z",
     "shell.execute_reply": "2025-07-30T21:33:19.794728Z"
    },
    "papermill": {
     "duration": 0.034455,
     "end_time": "2025-07-30T21:33:19.797380",
     "exception": false,
     "start_time": "2025-07-30T21:33:19.762925",
     "status": "completed"
    },
    "tags": []
   },
   "outputs": [],
   "source": [
    "from fairness_multiverse.conformal import compute_nc_scores\n",
    "\n",
    "# Compute nonconformity scores on calibration set (1 - probability of true class)\n",
    "nc_scores = compute_nc_scores(probs_calib, y_calib)"
   ]
  },
  {
   "cell_type": "code",
   "execution_count": 51,
   "id": "df3b8ca3-53b7-43d5-9667-7c85da7aeda2",
   "metadata": {
    "execution": {
     "iopub.execute_input": "2025-07-30T21:33:19.848189Z",
     "iopub.status.busy": "2025-07-30T21:33:19.847652Z",
     "iopub.status.idle": "2025-07-30T21:33:19.854886Z",
     "shell.execute_reply": "2025-07-30T21:33:19.853961Z"
    },
    "papermill": {
     "duration": 0.034107,
     "end_time": "2025-07-30T21:33:19.856497",
     "exception": false,
     "start_time": "2025-07-30T21:33:19.822390",
     "status": "completed"
    },
    "tags": []
   },
   "outputs": [],
   "source": [
    "from fairness_multiverse.conformal import find_threshold\n",
    "\n",
    "# Find conformal threshold q_hat for the given alpha (split conformal method)\n",
    "q_hat = find_threshold(nc_scores, alpha)"
   ]
  },
  {
   "cell_type": "code",
   "execution_count": 52,
   "id": "4d29e6c1-0ef6-4aa4-b8fe-4fe79b0d033a",
   "metadata": {
    "execution": {
     "iopub.execute_input": "2025-07-30T21:33:19.909284Z",
     "iopub.status.busy": "2025-07-30T21:33:19.908415Z",
     "iopub.status.idle": "2025-07-30T21:33:19.916186Z",
     "shell.execute_reply": "2025-07-30T21:33:19.914928Z"
    },
    "papermill": {
     "duration": 0.036055,
     "end_time": "2025-07-30T21:33:19.917768",
     "exception": false,
     "start_time": "2025-07-30T21:33:19.881713",
     "status": "completed"
    },
    "tags": []
   },
   "outputs": [
    {
     "data": {
      "text/plain": [
       "0.8122915236114419"
      ]
     },
     "execution_count": 52,
     "metadata": {},
     "output_type": "execute_result"
    }
   ],
   "source": [
    "q_hat"
   ]
  },
  {
   "cell_type": "code",
   "execution_count": 53,
   "id": "92460794-cdac-4be2-ba28-f28c0515a6fb",
   "metadata": {
    "execution": {
     "iopub.execute_input": "2025-07-30T21:33:19.970664Z",
     "iopub.status.busy": "2025-07-30T21:33:19.969847Z",
     "iopub.status.idle": "2025-07-30T21:33:20.971046Z",
     "shell.execute_reply": "2025-07-30T21:33:20.970057Z"
    },
    "papermill": {
     "duration": 1.030389,
     "end_time": "2025-07-30T21:33:20.973029",
     "exception": false,
     "start_time": "2025-07-30T21:33:19.942640",
     "status": "completed"
    },
    "tags": []
   },
   "outputs": [],
   "source": [
    "from fairness_multiverse.conformal import predict_conformal_sets\n",
    "\n",
    "# Generate prediction sets for each test example\n",
    "pred_sets = predict_conformal_sets(model, X_test, q_hat)"
   ]
  },
  {
   "cell_type": "code",
   "execution_count": 54,
   "id": "d90c9a65-e6db-4f5d-80cd-e68fb7e46829",
   "metadata": {
    "execution": {
     "iopub.execute_input": "2025-07-30T21:33:21.027215Z",
     "iopub.status.busy": "2025-07-30T21:33:21.026395Z",
     "iopub.status.idle": "2025-07-30T21:33:21.032803Z",
     "shell.execute_reply": "2025-07-30T21:33:21.031670Z"
    },
    "papermill": {
     "duration": 0.035567,
     "end_time": "2025-07-30T21:33:21.034804",
     "exception": false,
     "start_time": "2025-07-30T21:33:20.999237",
     "status": "completed"
    },
    "tags": []
   },
   "outputs": [],
   "source": [
    "y_true = y_true.squeeze()"
   ]
  },
  {
   "cell_type": "code",
   "execution_count": 55,
   "id": "3a58a54a-1e68-46b9-927a-df01f18aebc8",
   "metadata": {
    "execution": {
     "iopub.execute_input": "2025-07-30T21:33:21.086423Z",
     "iopub.status.busy": "2025-07-30T21:33:21.085960Z",
     "iopub.status.idle": "2025-07-30T21:33:21.989341Z",
     "shell.execute_reply": "2025-07-30T21:33:21.988287Z"
    },
    "papermill": {
     "duration": 0.931019,
     "end_time": "2025-07-30T21:33:21.991417",
     "exception": false,
     "start_time": "2025-07-30T21:33:21.060398",
     "status": "completed"
    },
    "tags": []
   },
   "outputs": [],
   "source": [
    "from fairness_multiverse.conformal import evaluate_sets\n",
    "\n",
    "# Evaluate coverage and average set size on test data\n",
    "metrics = evaluate_sets(pred_sets, y_true)"
   ]
  },
  {
   "cell_type": "markdown",
   "id": "2b569c12-9aaa-4c88-98c9-bbcd0cf3ebb8",
   "metadata": {
    "papermill": {
     "duration": 0.023623,
     "end_time": "2025-07-30T21:33:22.057498",
     "exception": false,
     "start_time": "2025-07-30T21:33:22.033875",
     "status": "completed"
    },
    "tags": []
   },
   "source": [
    "# CP Metrics"
   ]
  },
  {
   "cell_type": "code",
   "execution_count": 56,
   "id": "5ce0a5cb-201f-45a0-ade5-94c7f0bd6095",
   "metadata": {
    "execution": {
     "iopub.execute_input": "2025-07-30T21:33:22.108000Z",
     "iopub.status.busy": "2025-07-30T21:33:22.107314Z",
     "iopub.status.idle": "2025-07-30T21:33:22.114472Z",
     "shell.execute_reply": "2025-07-30T21:33:22.113563Z"
    },
    "papermill": {
     "duration": 0.033752,
     "end_time": "2025-07-30T21:33:22.116124",
     "exception": false,
     "start_time": "2025-07-30T21:33:22.082372",
     "status": "completed"
    },
    "tags": []
   },
   "outputs": [
    {
     "data": {
      "text/plain": [
       "{'coverage': 0.9086389477204325, 'avg_size': 1.2561029985508863}"
      ]
     },
     "execution_count": 56,
     "metadata": {},
     "output_type": "execute_result"
    }
   ],
   "source": [
    "metrics"
   ]
  },
  {
   "cell_type": "code",
   "execution_count": 57,
   "id": "9b9a838d-31c9-430b-ae14-12baee460d17",
   "metadata": {
    "execution": {
     "iopub.execute_input": "2025-07-30T21:33:22.170571Z",
     "iopub.status.busy": "2025-07-30T21:33:22.169405Z",
     "iopub.status.idle": "2025-07-30T21:33:22.177632Z",
     "shell.execute_reply": "2025-07-30T21:33:22.176134Z"
    },
    "papermill": {
     "duration": 0.037454,
     "end_time": "2025-07-30T21:33:22.179467",
     "exception": false,
     "start_time": "2025-07-30T21:33:22.142013",
     "status": "completed"
    },
    "tags": []
   },
   "outputs": [],
   "source": [
    "example_universe = universe.copy()\n",
    "universe_training_year = example_universe.get(\"training_year\")\n",
    "universe_training_size = example_universe.get(\"training_size\")\n",
    "universe_scale = example_universe.get(\"scale\")\n",
    "universe_model = example_universe.get(\"model\")\n",
    "universe_exclude_features = example_universe.get(\"exclude_features\")\n",
    "universe_exclude_subgroups = example_universe.get(\"exclude_subgroups\")"
   ]
  },
  {
   "cell_type": "code",
   "execution_count": 58,
   "id": "f4b6a8ac-9dc0-4245-8a91-5b3b5999c4f9",
   "metadata": {
    "execution": {
     "iopub.execute_input": "2025-07-30T21:33:22.230195Z",
     "iopub.status.busy": "2025-07-30T21:33:22.229555Z",
     "iopub.status.idle": "2025-07-30T21:33:22.236217Z",
     "shell.execute_reply": "2025-07-30T21:33:22.235349Z"
    },
    "papermill": {
     "duration": 0.034173,
     "end_time": "2025-07-30T21:33:22.237836",
     "exception": false,
     "start_time": "2025-07-30T21:33:22.203663",
     "status": "completed"
    },
    "tags": []
   },
   "outputs": [],
   "source": [
    "cp_metrics_dict = {\n",
    "    \"universe_id\": [universe_id],\n",
    "    \"universe_training_year\": [universe_training_year],\n",
    "    \"universe_training_size\": [universe_training_size],\n",
    "    \"universe_scale\": [universe_scale],\n",
    "    \"universe_model\": [universe_model],\n",
    "    \"universe_exclude_features\": [universe_exclude_features],\n",
    "    \"universe_exclude_subgroups\": [universe_exclude_subgroups],\n",
    "    \"q_hat\": [q_hat],\n",
    "    \"coverage\": [metrics[\"coverage\"]],\n",
    "    \"avg_size\": [metrics[\"avg_size\"]],\n",
    "}"
   ]
  },
  {
   "cell_type": "code",
   "execution_count": 59,
   "id": "908acbb1-0371-4915-85ca-3fa520d2efe2",
   "metadata": {
    "execution": {
     "iopub.execute_input": "2025-07-30T21:33:22.289778Z",
     "iopub.status.busy": "2025-07-30T21:33:22.289270Z",
     "iopub.status.idle": "2025-07-30T21:33:22.297010Z",
     "shell.execute_reply": "2025-07-30T21:33:22.296091Z"
    },
    "papermill": {
     "duration": 0.036744,
     "end_time": "2025-07-30T21:33:22.298449",
     "exception": false,
     "start_time": "2025-07-30T21:33:22.261705",
     "status": "completed"
    },
    "tags": []
   },
   "outputs": [
    {
     "data": {
      "text/plain": [
       "{'universe_id': ['ddff2de0f0828b13ea3c84b8a5623388'],\n",
       " 'universe_training_year': ['2012_14'],\n",
       " 'universe_training_size': ['1k'],\n",
       " 'universe_scale': ['scale'],\n",
       " 'universe_model': ['logreg'],\n",
       " 'universe_exclude_features': ['nationality'],\n",
       " 'universe_exclude_subgroups': ['keep-all'],\n",
       " 'q_hat': [0.8122915236114419],\n",
       " 'coverage': [0.9086389477204325],\n",
       " 'avg_size': [1.2561029985508863]}"
      ]
     },
     "execution_count": 59,
     "metadata": {},
     "output_type": "execute_result"
    }
   ],
   "source": [
    "cp_metrics_dict"
   ]
  },
  {
   "cell_type": "code",
   "execution_count": 60,
   "id": "33007efc-14e9-4ec6-97ac-56a455c82265",
   "metadata": {
    "execution": {
     "iopub.execute_input": "2025-07-30T21:33:22.348238Z",
     "iopub.status.busy": "2025-07-30T21:33:22.347599Z",
     "iopub.status.idle": "2025-07-30T21:33:22.354407Z",
     "shell.execute_reply": "2025-07-30T21:33:22.353360Z"
    },
    "papermill": {
     "duration": 0.033794,
     "end_time": "2025-07-30T21:33:22.356209",
     "exception": false,
     "start_time": "2025-07-30T21:33:22.322415",
     "status": "completed"
    },
    "tags": []
   },
   "outputs": [],
   "source": [
    "cp_metrics_df = pd.DataFrame(cp_metrics_dict)"
   ]
  },
  {
   "cell_type": "code",
   "execution_count": 61,
   "id": "db12611b-57b2-4910-b9d0-355adfd6e7bf",
   "metadata": {
    "execution": {
     "iopub.execute_input": "2025-07-30T21:33:22.410513Z",
     "iopub.status.busy": "2025-07-30T21:33:22.409633Z",
     "iopub.status.idle": "2025-07-30T21:33:22.427814Z",
     "shell.execute_reply": "2025-07-30T21:33:22.426743Z"
    },
    "papermill": {
     "duration": 0.046921,
     "end_time": "2025-07-30T21:33:22.429551",
     "exception": false,
     "start_time": "2025-07-30T21:33:22.382630",
     "status": "completed"
    },
    "tags": []
   },
   "outputs": [
    {
     "data": {
      "text/html": [
       "<div>\n",
       "<style scoped>\n",
       "    .dataframe tbody tr th:only-of-type {\n",
       "        vertical-align: middle;\n",
       "    }\n",
       "\n",
       "    .dataframe tbody tr th {\n",
       "        vertical-align: top;\n",
       "    }\n",
       "\n",
       "    .dataframe thead th {\n",
       "        text-align: right;\n",
       "    }\n",
       "</style>\n",
       "<table border=\"1\" class=\"dataframe\">\n",
       "  <thead>\n",
       "    <tr style=\"text-align: right;\">\n",
       "      <th></th>\n",
       "      <th>universe_id</th>\n",
       "      <th>universe_training_year</th>\n",
       "      <th>universe_training_size</th>\n",
       "      <th>universe_scale</th>\n",
       "      <th>universe_model</th>\n",
       "      <th>universe_exclude_features</th>\n",
       "      <th>universe_exclude_subgroups</th>\n",
       "      <th>q_hat</th>\n",
       "      <th>coverage</th>\n",
       "      <th>avg_size</th>\n",
       "    </tr>\n",
       "  </thead>\n",
       "  <tbody>\n",
       "    <tr>\n",
       "      <th>0</th>\n",
       "      <td>ddff2de0f0828b13ea3c84b8a5623388</td>\n",
       "      <td>2012_14</td>\n",
       "      <td>1k</td>\n",
       "      <td>scale</td>\n",
       "      <td>logreg</td>\n",
       "      <td>nationality</td>\n",
       "      <td>keep-all</td>\n",
       "      <td>0.812292</td>\n",
       "      <td>0.908639</td>\n",
       "      <td>1.256103</td>\n",
       "    </tr>\n",
       "  </tbody>\n",
       "</table>\n",
       "</div>"
      ],
      "text/plain": [
       "                        universe_id universe_training_year  \\\n",
       "0  ddff2de0f0828b13ea3c84b8a5623388                2012_14   \n",
       "\n",
       "  universe_training_size universe_scale universe_model  \\\n",
       "0                     1k          scale         logreg   \n",
       "\n",
       "  universe_exclude_features universe_exclude_subgroups     q_hat  coverage  \\\n",
       "0               nationality                   keep-all  0.812292  0.908639   \n",
       "\n",
       "   avg_size  \n",
       "0  1.256103  "
      ]
     },
     "execution_count": 61,
     "metadata": {},
     "output_type": "execute_result"
    }
   ],
   "source": [
    "cp_metrics_df"
   ]
  },
  {
   "cell_type": "code",
   "execution_count": 62,
   "id": "b7fbde55-a0a1-47e4-9af6-fe4a17fa8c61",
   "metadata": {
    "execution": {
     "iopub.execute_input": "2025-07-30T21:33:22.480249Z",
     "iopub.status.busy": "2025-07-30T21:33:22.479192Z",
     "iopub.status.idle": "2025-07-30T21:33:22.485396Z",
     "shell.execute_reply": "2025-07-30T21:33:22.484481Z"
    },
    "papermill": {
     "duration": 0.032956,
     "end_time": "2025-07-30T21:33:22.487180",
     "exception": false,
     "start_time": "2025-07-30T21:33:22.454224",
     "status": "completed"
    },
    "tags": []
   },
   "outputs": [],
   "source": [
    "# Conditional Coverage & looking at subgroups"
   ]
  },
  {
   "cell_type": "code",
   "execution_count": 63,
   "id": "027ae886-68dd-4141-96c7-805a5450e1ef",
   "metadata": {
    "execution": {
     "iopub.execute_input": "2025-07-30T21:33:22.538777Z",
     "iopub.status.busy": "2025-07-30T21:33:22.537931Z",
     "iopub.status.idle": "2025-07-30T21:33:22.816666Z",
     "shell.execute_reply": "2025-07-30T21:33:22.815563Z"
    },
    "papermill": {
     "duration": 0.305708,
     "end_time": "2025-07-30T21:33:22.818521",
     "exception": false,
     "start_time": "2025-07-30T21:33:22.512813",
     "status": "completed"
    },
    "tags": []
   },
   "outputs": [],
   "source": [
    "from fairness_multiverse.conformal import build_cp_groups\n",
    "\n",
    "cp_groups_df = build_cp_groups(pred_sets, y_true, X_test.index, org_test)\n",
    "#needs universe_id and setting"
   ]
  },
  {
   "cell_type": "code",
   "execution_count": 64,
   "id": "01d5802c-663a-4d1f-9d69-e036faaffbf7",
   "metadata": {
    "execution": {
     "iopub.execute_input": "2025-07-30T21:33:22.869167Z",
     "iopub.status.busy": "2025-07-30T21:33:22.868773Z",
     "iopub.status.idle": "2025-07-30T21:33:22.873776Z",
     "shell.execute_reply": "2025-07-30T21:33:22.872837Z"
    },
    "papermill": {
     "duration": 0.031826,
     "end_time": "2025-07-30T21:33:22.875467",
     "exception": false,
     "start_time": "2025-07-30T21:33:22.843641",
     "status": "completed"
    },
    "tags": []
   },
   "outputs": [],
   "source": [
    "#delete\n",
    "#cp_groups_df"
   ]
  },
  {
   "cell_type": "code",
   "execution_count": 65,
   "id": "fa424af1-d1eb-443d-b717-2d279ada8408",
   "metadata": {
    "execution": {
     "iopub.execute_input": "2025-07-30T21:33:22.928070Z",
     "iopub.status.busy": "2025-07-30T21:33:22.927534Z",
     "iopub.status.idle": "2025-07-30T21:33:22.932958Z",
     "shell.execute_reply": "2025-07-30T21:33:22.931964Z"
    },
    "papermill": {
     "duration": 0.032662,
     "end_time": "2025-07-30T21:33:22.934721",
     "exception": false,
     "start_time": "2025-07-30T21:33:22.902059",
     "status": "completed"
    },
    "tags": []
   },
   "outputs": [],
   "source": [
    "#delete\n",
    "#percentage = (cp_groups_df['nongerman_female'] == 1).mean() * 100\n",
    "#print(percentage)\n"
   ]
  },
  {
   "cell_type": "code",
   "execution_count": 66,
   "id": "6cbdab96-b2b2-45af-ad54-d0516db2e28d",
   "metadata": {
    "execution": {
     "iopub.execute_input": "2025-07-30T21:33:22.988312Z",
     "iopub.status.busy": "2025-07-30T21:33:22.987743Z",
     "iopub.status.idle": "2025-07-30T21:33:24.519704Z",
     "shell.execute_reply": "2025-07-30T21:33:24.518687Z"
    },
    "papermill": {
     "duration": 1.561841,
     "end_time": "2025-07-30T21:33:24.521767",
     "exception": false,
     "start_time": "2025-07-30T21:33:22.959926",
     "status": "completed"
    },
    "tags": []
   },
   "outputs": [],
   "source": [
    "# Define covered = 1 if true_label is in the predicted set\n",
    "cp_groups_df['covered'] = cp_groups_df.apply(\n",
    "    lambda r: int(r['true_label'] in r['pred_set']),\n",
    "    axis=1\n",
    ")"
   ]
  },
  {
   "cell_type": "code",
   "execution_count": 67,
   "id": "338ff529-1a6b-4b87-a931-8e4788d52aad",
   "metadata": {
    "execution": {
     "iopub.execute_input": "2025-07-30T21:33:24.576899Z",
     "iopub.status.busy": "2025-07-30T21:33:24.576217Z",
     "iopub.status.idle": "2025-07-30T21:33:24.581376Z",
     "shell.execute_reply": "2025-07-30T21:33:24.580282Z"
    },
    "papermill": {
     "duration": 0.033987,
     "end_time": "2025-07-30T21:33:24.583412",
     "exception": false,
     "start_time": "2025-07-30T21:33:24.549425",
     "status": "completed"
    },
    "tags": []
   },
   "outputs": [],
   "source": [
    "#cp_groups_df"
   ]
  },
  {
   "cell_type": "code",
   "execution_count": 68,
   "id": "90032e27-66df-4540-9169-4e89cfbaa758",
   "metadata": {
    "execution": {
     "iopub.execute_input": "2025-07-30T21:33:24.638455Z",
     "iopub.status.busy": "2025-07-30T21:33:24.637990Z",
     "iopub.status.idle": "2025-07-30T21:33:24.649355Z",
     "shell.execute_reply": "2025-07-30T21:33:24.648426Z"
    },
    "papermill": {
     "duration": 0.040188,
     "end_time": "2025-07-30T21:33:24.651128",
     "exception": false,
     "start_time": "2025-07-30T21:33:24.610940",
     "status": "completed"
    },
    "tags": []
   },
   "outputs": [],
   "source": [
    "subgroups = ['frau1','nongerman','nongerman_male','nongerman_female']\n",
    "\n",
    "# Conditional coverage for subgroup==1\n",
    "cond_coverage = {\n",
    "    g: cp_groups_df.loc[cp_groups_df[g]==1, 'covered'].mean()\n",
    "    for g in subgroups\n",
    "}"
   ]
  },
  {
   "cell_type": "code",
   "execution_count": 69,
   "id": "1e348fb1-b9c3-45bc-ba23-f016827a7e0d",
   "metadata": {
    "execution": {
     "iopub.execute_input": "2025-07-30T21:33:24.706058Z",
     "iopub.status.busy": "2025-07-30T21:33:24.705398Z",
     "iopub.status.idle": "2025-07-30T21:33:24.712656Z",
     "shell.execute_reply": "2025-07-30T21:33:24.711662Z"
    },
    "papermill": {
     "duration": 0.03573,
     "end_time": "2025-07-30T21:33:24.714225",
     "exception": false,
     "start_time": "2025-07-30T21:33:24.678495",
     "status": "completed"
    },
    "tags": []
   },
   "outputs": [
    {
     "data": {
      "text/plain": [
       "{'frau1': 0.9019274834883407,\n",
       " 'nongerman': 0.9140515353954977,\n",
       " 'nongerman_male': 0.9322705575069801,\n",
       " 'nongerman_female': 0.8839046199701938}"
      ]
     },
     "execution_count": 69,
     "metadata": {},
     "output_type": "execute_result"
    }
   ],
   "source": [
    "cond_coverage"
   ]
  },
  {
   "cell_type": "code",
   "execution_count": 70,
   "id": "f5093324-c3dd-4d63-bc4c-8d945e5c8bbb",
   "metadata": {
    "execution": {
     "iopub.execute_input": "2025-07-30T21:33:24.769344Z",
     "iopub.status.busy": "2025-07-30T21:33:24.768689Z",
     "iopub.status.idle": "2025-07-30T21:33:24.776164Z",
     "shell.execute_reply": "2025-07-30T21:33:24.775169Z"
    },
    "papermill": {
     "duration": 0.036375,
     "end_time": "2025-07-30T21:33:24.777766",
     "exception": false,
     "start_time": "2025-07-30T21:33:24.741391",
     "status": "completed"
    },
    "tags": []
   },
   "outputs": [],
   "source": [
    "for subgroup, cov in cond_coverage.items():\n",
    "    cp_metrics_df[f\"cov_{subgroup}\"] = cov"
   ]
  },
  {
   "cell_type": "code",
   "execution_count": 71,
   "id": "6e872e10-dbe5-49e8-b554-5030c98ff75d",
   "metadata": {
    "execution": {
     "iopub.execute_input": "2025-07-30T21:33:24.833921Z",
     "iopub.status.busy": "2025-07-30T21:33:24.833004Z",
     "iopub.status.idle": "2025-07-30T21:33:24.851955Z",
     "shell.execute_reply": "2025-07-30T21:33:24.850889Z"
    },
    "papermill": {
     "duration": 0.048417,
     "end_time": "2025-07-30T21:33:24.853501",
     "exception": false,
     "start_time": "2025-07-30T21:33:24.805084",
     "status": "completed"
    },
    "tags": []
   },
   "outputs": [
    {
     "data": {
      "text/html": [
       "<div>\n",
       "<style scoped>\n",
       "    .dataframe tbody tr th:only-of-type {\n",
       "        vertical-align: middle;\n",
       "    }\n",
       "\n",
       "    .dataframe tbody tr th {\n",
       "        vertical-align: top;\n",
       "    }\n",
       "\n",
       "    .dataframe thead th {\n",
       "        text-align: right;\n",
       "    }\n",
       "</style>\n",
       "<table border=\"1\" class=\"dataframe\">\n",
       "  <thead>\n",
       "    <tr style=\"text-align: right;\">\n",
       "      <th></th>\n",
       "      <th>universe_id</th>\n",
       "      <th>universe_training_year</th>\n",
       "      <th>universe_training_size</th>\n",
       "      <th>universe_scale</th>\n",
       "      <th>universe_model</th>\n",
       "      <th>universe_exclude_features</th>\n",
       "      <th>universe_exclude_subgroups</th>\n",
       "      <th>q_hat</th>\n",
       "      <th>coverage</th>\n",
       "      <th>avg_size</th>\n",
       "      <th>cov_frau1</th>\n",
       "      <th>cov_nongerman</th>\n",
       "      <th>cov_nongerman_male</th>\n",
       "      <th>cov_nongerman_female</th>\n",
       "    </tr>\n",
       "  </thead>\n",
       "  <tbody>\n",
       "    <tr>\n",
       "      <th>0</th>\n",
       "      <td>ddff2de0f0828b13ea3c84b8a5623388</td>\n",
       "      <td>2012_14</td>\n",
       "      <td>1k</td>\n",
       "      <td>scale</td>\n",
       "      <td>logreg</td>\n",
       "      <td>nationality</td>\n",
       "      <td>keep-all</td>\n",
       "      <td>0.812292</td>\n",
       "      <td>0.908639</td>\n",
       "      <td>1.256103</td>\n",
       "      <td>0.901927</td>\n",
       "      <td>0.914052</td>\n",
       "      <td>0.932271</td>\n",
       "      <td>0.883905</td>\n",
       "    </tr>\n",
       "  </tbody>\n",
       "</table>\n",
       "</div>"
      ],
      "text/plain": [
       "                        universe_id universe_training_year  \\\n",
       "0  ddff2de0f0828b13ea3c84b8a5623388                2012_14   \n",
       "\n",
       "  universe_training_size universe_scale universe_model  \\\n",
       "0                     1k          scale         logreg   \n",
       "\n",
       "  universe_exclude_features universe_exclude_subgroups     q_hat  coverage  \\\n",
       "0               nationality                   keep-all  0.812292  0.908639   \n",
       "\n",
       "   avg_size  cov_frau1  cov_nongerman  cov_nongerman_male  \\\n",
       "0  1.256103   0.901927       0.914052            0.932271   \n",
       "\n",
       "   cov_nongerman_female  \n",
       "0              0.883905  "
      ]
     },
     "execution_count": 71,
     "metadata": {},
     "output_type": "execute_result"
    }
   ],
   "source": [
    "cp_metrics_df"
   ]
  },
  {
   "cell_type": "markdown",
   "id": "33774451",
   "metadata": {
    "papermill": {
     "duration": 0.025841,
     "end_time": "2025-07-30T21:33:24.905616",
     "exception": false,
     "start_time": "2025-07-30T21:33:24.879775",
     "status": "completed"
    },
    "tags": []
   },
   "source": [
    "# (Fairness) Metrics"
   ]
  },
  {
   "cell_type": "code",
   "execution_count": 72,
   "id": "debc5d62",
   "metadata": {
    "execution": {
     "iopub.execute_input": "2025-07-30T21:33:24.958821Z",
     "iopub.status.busy": "2025-07-30T21:33:24.958182Z",
     "iopub.status.idle": "2025-07-30T21:33:24.980588Z",
     "shell.execute_reply": "2025-07-30T21:33:24.979630Z"
    },
    "papermill": {
     "duration": 0.050948,
     "end_time": "2025-07-30T21:33:24.982396",
     "exception": false,
     "start_time": "2025-07-30T21:33:24.931448",
     "status": "completed"
    },
    "tags": []
   },
   "outputs": [],
   "source": [
    "# do I need to include maxdeutsch1.missing?\n",
    "\n",
    "import numpy as np\n",
    "\n",
    "colname_to_bin = \"maxdeutsch1\"\n",
    "majority_value = org_train[colname_to_bin].mode()[0]\n",
    "\n",
    "org_test[\"majmin\"] = np.where(org_test[colname_to_bin] == majority_value, \"majority\", \"minority\")"
   ]
  },
  {
   "cell_type": "code",
   "execution_count": 73,
   "id": "06a50de5",
   "metadata": {
    "execution": {
     "iopub.execute_input": "2025-07-30T21:33:25.035650Z",
     "iopub.status.busy": "2025-07-30T21:33:25.035178Z",
     "iopub.status.idle": "2025-07-30T21:33:27.858206Z",
     "shell.execute_reply": "2025-07-30T21:33:27.857291Z"
    },
    "papermill": {
     "duration": 2.851118,
     "end_time": "2025-07-30T21:33:27.859983",
     "exception": false,
     "start_time": "2025-07-30T21:33:25.008865",
     "status": "completed"
    },
    "tags": []
   },
   "outputs": [],
   "source": [
    "example_universe = universe.copy()\n",
    "example_universe[\"cutoff\"] = example_universe[\"cutoff\"][0]\n",
    "example_universe[\"eval_fairness_grouping\"] = example_universe[\"eval_fairness_grouping\"][0]\n",
    "fairness_dict, metric_frame = universe_analysis.compute_metrics(\n",
    "    example_universe,\n",
    "    y_pred_prob=probs_test,\n",
    "    y_test=y_true,\n",
    "    org_test=org_test,\n",
    ")"
   ]
  },
  {
   "cell_type": "markdown",
   "id": "f95d4e02",
   "metadata": {
    "papermill": {
     "duration": 0.02462,
     "end_time": "2025-07-30T21:33:27.911855",
     "exception": false,
     "start_time": "2025-07-30T21:33:27.887235",
     "status": "completed"
    },
    "tags": []
   },
   "source": [
    "# Overall"
   ]
  },
  {
   "cell_type": "markdown",
   "id": "bdee4871",
   "metadata": {
    "papermill": {
     "duration": 0.025844,
     "end_time": "2025-07-30T21:33:27.962588",
     "exception": false,
     "start_time": "2025-07-30T21:33:27.936744",
     "status": "completed"
    },
    "tags": []
   },
   "source": [
    "Fairness\n",
    "Main fairness target: Equalized Odds. Seems to be a better fit than equal opportunity, since we're not only interested in Y = 1. Seems to be a better fit than demographic parity, since we also care about accuracy, not just equal distribution of preds.\n",
    "\n",
    "Pick column for computation of fairness metrics\n",
    "\n",
    "Performance\n",
    "Overall performance measures, most interesting in relation to the measures split by group below"
   ]
  },
  {
   "cell_type": "code",
   "execution_count": 74,
   "id": "c4e067c6",
   "metadata": {
    "execution": {
     "iopub.execute_input": "2025-07-30T21:33:28.016895Z",
     "iopub.status.busy": "2025-07-30T21:33:28.016375Z",
     "iopub.status.idle": "2025-07-30T21:33:28.025466Z",
     "shell.execute_reply": "2025-07-30T21:33:28.024612Z"
    },
    "papermill": {
     "duration": 0.038742,
     "end_time": "2025-07-30T21:33:28.027298",
     "exception": false,
     "start_time": "2025-07-30T21:33:27.988556",
     "status": "completed"
    },
    "tags": []
   },
   "outputs": [
    {
     "data": {
      "text/plain": [
       "accuracy                   0.217244\n",
       "balanced accuracy          0.532686\n",
       "f1                         0.238772\n",
       "precision                  0.136402\n",
       "false positive rate        0.891614\n",
       "false negative rate        0.043014\n",
       "selection rate             0.900000\n",
       "count                  89710.000000\n",
       "dtype: float64"
      ]
     },
     "execution_count": 74,
     "metadata": {},
     "output_type": "execute_result"
    }
   ],
   "source": [
    "metric_frame.overall"
   ]
  },
  {
   "cell_type": "markdown",
   "id": "e968fe9d",
   "metadata": {
    "papermill": {
     "duration": 0.027135,
     "end_time": "2025-07-30T21:33:28.093659",
     "exception": false,
     "start_time": "2025-07-30T21:33:28.066524",
     "status": "completed"
    },
    "tags": []
   },
   "source": [
    "By Group"
   ]
  },
  {
   "cell_type": "code",
   "execution_count": 75,
   "id": "ec325bce",
   "metadata": {
    "execution": {
     "iopub.execute_input": "2025-07-30T21:33:28.148106Z",
     "iopub.status.busy": "2025-07-30T21:33:28.147555Z",
     "iopub.status.idle": "2025-07-30T21:33:28.165254Z",
     "shell.execute_reply": "2025-07-30T21:33:28.163672Z"
    },
    "papermill": {
     "duration": 0.047709,
     "end_time": "2025-07-30T21:33:28.167338",
     "exception": false,
     "start_time": "2025-07-30T21:33:28.119629",
     "status": "completed"
    },
    "tags": []
   },
   "outputs": [
    {
     "data": {
      "text/html": [
       "<div>\n",
       "<style scoped>\n",
       "    .dataframe tbody tr th:only-of-type {\n",
       "        vertical-align: middle;\n",
       "    }\n",
       "\n",
       "    .dataframe tbody tr th {\n",
       "        vertical-align: top;\n",
       "    }\n",
       "\n",
       "    .dataframe thead th {\n",
       "        text-align: right;\n",
       "    }\n",
       "</style>\n",
       "<table border=\"1\" class=\"dataframe\">\n",
       "  <thead>\n",
       "    <tr style=\"text-align: right;\">\n",
       "      <th></th>\n",
       "      <th>accuracy</th>\n",
       "      <th>balanced accuracy</th>\n",
       "      <th>f1</th>\n",
       "      <th>precision</th>\n",
       "      <th>false positive rate</th>\n",
       "      <th>false negative rate</th>\n",
       "      <th>selection rate</th>\n",
       "      <th>count</th>\n",
       "    </tr>\n",
       "    <tr>\n",
       "      <th>majmin</th>\n",
       "      <th></th>\n",
       "      <th></th>\n",
       "      <th></th>\n",
       "      <th></th>\n",
       "      <th></th>\n",
       "      <th></th>\n",
       "      <th></th>\n",
       "      <th></th>\n",
       "    </tr>\n",
       "  </thead>\n",
       "  <tbody>\n",
       "    <tr>\n",
       "      <th>majority</th>\n",
       "      <td>0.235275</td>\n",
       "      <td>0.538180</td>\n",
       "      <td>0.247139</td>\n",
       "      <td>0.142048</td>\n",
       "      <td>0.873530</td>\n",
       "      <td>0.050109</td>\n",
       "      <td>0.883620</td>\n",
       "      <td>69170.0</td>\n",
       "    </tr>\n",
       "    <tr>\n",
       "      <th>minority</th>\n",
       "      <td>0.156524</td>\n",
       "      <td>0.516511</td>\n",
       "      <td>0.212034</td>\n",
       "      <td>0.118813</td>\n",
       "      <td>0.951354</td>\n",
       "      <td>0.015625</td>\n",
       "      <td>0.955161</td>\n",
       "      <td>20540.0</td>\n",
       "    </tr>\n",
       "  </tbody>\n",
       "</table>\n",
       "</div>"
      ],
      "text/plain": [
       "          accuracy  balanced accuracy        f1  precision  \\\n",
       "majmin                                                       \n",
       "majority  0.235275           0.538180  0.247139   0.142048   \n",
       "minority  0.156524           0.516511  0.212034   0.118813   \n",
       "\n",
       "          false positive rate  false negative rate  selection rate    count  \n",
       "majmin                                                                       \n",
       "majority             0.873530             0.050109        0.883620  69170.0  \n",
       "minority             0.951354             0.015625        0.955161  20540.0  "
      ]
     },
     "execution_count": 75,
     "metadata": {},
     "output_type": "execute_result"
    }
   ],
   "source": [
    "metric_frame.by_group"
   ]
  },
  {
   "cell_type": "code",
   "execution_count": 76,
   "id": "a9ddbe63",
   "metadata": {
    "execution": {
     "iopub.execute_input": "2025-07-30T21:33:28.224017Z",
     "iopub.status.busy": "2025-07-30T21:33:28.223608Z",
     "iopub.status.idle": "2025-07-30T21:33:30.619884Z",
     "shell.execute_reply": "2025-07-30T21:33:30.618858Z"
    },
    "papermill": {
     "duration": 2.426687,
     "end_time": "2025-07-30T21:33:30.621543",
     "exception": false,
     "start_time": "2025-07-30T21:33:28.194856",
     "status": "completed"
    },
    "tags": []
   },
   "outputs": [
    {
     "data": {
      "text/plain": [
       "array([[<Axes: title={'center': 'accuracy'}, xlabel='majmin'>,\n",
       "        <Axes: title={'center': 'balanced accuracy'}, xlabel='majmin'>,\n",
       "        <Axes: title={'center': 'f1'}, xlabel='majmin'>],\n",
       "       [<Axes: title={'center': 'precision'}, xlabel='majmin'>,\n",
       "        <Axes: title={'center': 'false positive rate'}, xlabel='majmin'>,\n",
       "        <Axes: title={'center': 'false negative rate'}, xlabel='majmin'>],\n",
       "       [<Axes: title={'center': 'selection rate'}, xlabel='majmin'>,\n",
       "        <Axes: title={'center': 'count'}, xlabel='majmin'>,\n",
       "        <Axes: xlabel='majmin'>]], dtype=object)"
      ]
     },
     "execution_count": 76,
     "metadata": {},
     "output_type": "execute_result"
    },
    {
     "data": {
      "image/png": "[encoded data removed]",
      "text/plain": [
       "<Figure size 1200x800 with 9 Axes>"
      ]
     },
     "metadata": {},
     "output_type": "display_data"
    }
   ],
   "source": [
    "# In a graphic\n",
    "metric_frame.by_group.plot.bar(\n",
    "    subplots=True,\n",
    "    layout=[3, 3],\n",
    "    legend=False,\n",
    "    figsize=[12, 8],\n",
    "    title=\"Show all metrics\",\n",
    ")"
   ]
  },
  {
   "cell_type": "markdown",
   "id": "f57a0bac",
   "metadata": {
    "papermill": {
     "duration": 0.031868,
     "end_time": "2025-07-30T21:33:30.685850",
     "exception": false,
     "start_time": "2025-07-30T21:33:30.653982",
     "status": "completed"
    },
    "tags": []
   },
   "source": [
    "# Final Output"
   ]
  },
  {
   "cell_type": "code",
   "execution_count": 77,
   "id": "96d280a3",
   "metadata": {
    "execution": {
     "iopub.execute_input": "2025-07-30T21:33:30.752500Z",
     "iopub.status.busy": "2025-07-30T21:33:30.751741Z",
     "iopub.status.idle": "2025-07-30T21:33:30.760818Z",
     "shell.execute_reply": "2025-07-30T21:33:30.759671Z"
    },
    "papermill": {
     "duration": 0.044758,
     "end_time": "2025-07-30T21:33:30.762427",
     "exception": false,
     "start_time": "2025-07-30T21:33:30.717669",
     "status": "completed"
    },
    "tags": []
   },
   "outputs": [
    {
     "data": {
      "text/plain": [
       "4"
      ]
     },
     "execution_count": 77,
     "metadata": {},
     "output_type": "execute_result"
    }
   ],
   "source": [
    "sub_universes = universe_analysis.generate_sub_universes()\n",
    "len(sub_universes)"
   ]
  },
  {
   "cell_type": "code",
   "execution_count": 78,
   "id": "92adf7ba",
   "metadata": {
    "execution": {
     "iopub.execute_input": "2025-07-30T21:33:30.828456Z",
     "iopub.status.busy": "2025-07-30T21:33:30.827703Z",
     "iopub.status.idle": "2025-07-30T21:33:30.834637Z",
     "shell.execute_reply": "2025-07-30T21:33:30.833695Z"
    },
    "papermill": {
     "duration": 0.04193,
     "end_time": "2025-07-30T21:33:30.836507",
     "exception": false,
     "start_time": "2025-07-30T21:33:30.794577",
     "status": "completed"
    },
    "tags": []
   },
   "outputs": [],
   "source": [
    "def filter_sub_universe_data(sub_universe, org_test):\n",
    "    # Keep all rows — no filtering\n",
    "    keep_rows_mask = np.ones(org_test.shape[0], dtype=bool)\n",
    "\n",
    "    print(f\"[INFO] Keeping all rows: {keep_rows_mask.sum()} rows retained.\")\n",
    "    return keep_rows_mask"
   ]
  },
  {
   "cell_type": "code",
   "execution_count": 79,
   "id": "4a759155",
   "metadata": {
    "execution": {
     "iopub.execute_input": "2025-07-30T21:33:30.904294Z",
     "iopub.status.busy": "2025-07-30T21:33:30.903615Z",
     "iopub.status.idle": "2025-07-30T21:33:40.957402Z",
     "shell.execute_reply": "2025-07-30T21:33:40.956454Z"
    },
    "papermill": {
     "duration": 10.089322,
     "end_time": "2025-07-30T21:33:40.959051",
     "exception": false,
     "start_time": "2025-07-30T21:33:30.869729",
     "status": "completed"
    },
    "tags": []
   },
   "outputs": [
    {
     "name": "stdout",
     "output_type": "stream",
     "text": [
      "Stopping execution_time clock.\n",
      "[INFO] Keeping all rows: 89710 rows retained.\n"
     ]
    },
    {
     "name": "stdout",
     "output_type": "stream",
     "text": [
      "[INFO] Keeping all rows: 89710 rows retained.\n"
     ]
    },
    {
     "name": "stdout",
     "output_type": "stream",
     "text": [
      "[INFO] Keeping all rows: 89710 rows retained.\n"
     ]
    },
    {
     "name": "stdout",
     "output_type": "stream",
     "text": [
      "[INFO] Keeping all rows: 89710 rows retained.\n"
     ]
    },
    {
     "data": {
      "text/html": [
       "<div>\n",
       "<style scoped>\n",
       "    .dataframe tbody tr th:only-of-type {\n",
       "        vertical-align: middle;\n",
       "    }\n",
       "\n",
       "    .dataframe tbody tr th {\n",
       "        vertical-align: top;\n",
       "    }\n",
       "\n",
       "    .dataframe thead th {\n",
       "        text-align: right;\n",
       "    }\n",
       "</style>\n",
       "<table border=\"1\" class=\"dataframe\">\n",
       "  <thead>\n",
       "    <tr style=\"text-align: right;\">\n",
       "      <th></th>\n",
       "      <th>run_no</th>\n",
       "      <th>universe_id</th>\n",
       "      <th>universe_settings</th>\n",
       "      <th>execution_time</th>\n",
       "      <th>test_size_n</th>\n",
       "      <th>test_size_frac</th>\n",
       "      <th>fair_main_equalized_odds_difference</th>\n",
       "      <th>fair_main_equalized_odds_ratio</th>\n",
       "      <th>fair_main_demographic_parity_difference</th>\n",
       "      <th>fair_main_demographic_parity_ratio</th>\n",
       "      <th>...</th>\n",
       "      <th>perf_grp_precision_0</th>\n",
       "      <th>perf_grp_precision_1</th>\n",
       "      <th>perf_grp_false positive rate_0</th>\n",
       "      <th>perf_grp_false positive rate_1</th>\n",
       "      <th>perf_grp_false negative rate_0</th>\n",
       "      <th>perf_grp_false negative rate_1</th>\n",
       "      <th>perf_grp_selection rate_0</th>\n",
       "      <th>perf_grp_selection rate_1</th>\n",
       "      <th>perf_grp_count_0</th>\n",
       "      <th>perf_grp_count_1</th>\n",
       "    </tr>\n",
       "  </thead>\n",
       "  <tbody>\n",
       "    <tr>\n",
       "      <th>0</th>\n",
       "      <td>14</td>\n",
       "      <td>ddff2de0f0828b13ea3c84b8a5623388</td>\n",
       "      <td>{\"cutoff\": \"quantile_0.1\", \"eval_fairness_grou...</td>\n",
       "      <td>27.15801</td>\n",
       "      <td>89710</td>\n",
       "      <td>1.0</td>\n",
       "      <td>0.077824</td>\n",
       "      <td>0.918197</td>\n",
       "      <td>0.071541</td>\n",
       "      <td>0.925101</td>\n",
       "      <td>...</td>\n",
       "      <td>NaN</td>\n",
       "      <td>NaN</td>\n",
       "      <td>NaN</td>\n",
       "      <td>NaN</td>\n",
       "      <td>NaN</td>\n",
       "      <td>NaN</td>\n",
       "      <td>NaN</td>\n",
       "      <td>NaN</td>\n",
       "      <td>NaN</td>\n",
       "      <td>NaN</td>\n",
       "    </tr>\n",
       "    <tr>\n",
       "      <th>0</th>\n",
       "      <td>14</td>\n",
       "      <td>ddff2de0f0828b13ea3c84b8a5623388</td>\n",
       "      <td>{\"cutoff\": \"quantile_0.1\", \"eval_fairness_grou...</td>\n",
       "      <td>27.15801</td>\n",
       "      <td>89710</td>\n",
       "      <td>1.0</td>\n",
       "      <td>0.077824</td>\n",
       "      <td>0.918197</td>\n",
       "      <td>0.071541</td>\n",
       "      <td>0.925101</td>\n",
       "      <td>...</td>\n",
       "      <td>0.118813</td>\n",
       "      <td>0.142048</td>\n",
       "      <td>0.951354</td>\n",
       "      <td>0.87353</td>\n",
       "      <td>0.015625</td>\n",
       "      <td>0.050109</td>\n",
       "      <td>0.955161</td>\n",
       "      <td>0.883620</td>\n",
       "      <td>20540.0</td>\n",
       "      <td>69170.0</td>\n",
       "    </tr>\n",
       "    <tr>\n",
       "      <th>0</th>\n",
       "      <td>14</td>\n",
       "      <td>ddff2de0f0828b13ea3c84b8a5623388</td>\n",
       "      <td>{\"cutoff\": \"quantile_0.25\", \"eval_fairness_gro...</td>\n",
       "      <td>27.15801</td>\n",
       "      <td>89710</td>\n",
       "      <td>1.0</td>\n",
       "      <td>0.165183</td>\n",
       "      <td>0.807435</td>\n",
       "      <td>0.150981</td>\n",
       "      <td>0.825739</td>\n",
       "      <td>...</td>\n",
       "      <td>NaN</td>\n",
       "      <td>NaN</td>\n",
       "      <td>NaN</td>\n",
       "      <td>NaN</td>\n",
       "      <td>NaN</td>\n",
       "      <td>NaN</td>\n",
       "      <td>NaN</td>\n",
       "      <td>NaN</td>\n",
       "      <td>NaN</td>\n",
       "      <td>NaN</td>\n",
       "    </tr>\n",
       "    <tr>\n",
       "      <th>0</th>\n",
       "      <td>14</td>\n",
       "      <td>ddff2de0f0828b13ea3c84b8a5623388</td>\n",
       "      <td>{\"cutoff\": \"quantile_0.25\", \"eval_fairness_gro...</td>\n",
       "      <td>27.15801</td>\n",
       "      <td>89710</td>\n",
       "      <td>1.0</td>\n",
       "      <td>0.165183</td>\n",
       "      <td>0.807435</td>\n",
       "      <td>0.150981</td>\n",
       "      <td>0.825739</td>\n",
       "      <td>...</td>\n",
       "      <td>0.124073</td>\n",
       "      <td>0.159803</td>\n",
       "      <td>0.857803</td>\n",
       "      <td>0.69262</td>\n",
       "      <td>0.067568</td>\n",
       "      <td>0.134792</td>\n",
       "      <td>0.866407</td>\n",
       "      <td>0.715426</td>\n",
       "      <td>20540.0</td>\n",
       "      <td>69170.0</td>\n",
       "    </tr>\n",
       "  </tbody>\n",
       "</table>\n",
       "<p>4 rows × 50 columns</p>\n",
       "</div>"
      ],
      "text/plain": [
       "  run_no                       universe_id  \\\n",
       "0     14  ddff2de0f0828b13ea3c84b8a5623388   \n",
       "0     14  ddff2de0f0828b13ea3c84b8a5623388   \n",
       "0     14  ddff2de0f0828b13ea3c84b8a5623388   \n",
       "0     14  ddff2de0f0828b13ea3c84b8a5623388   \n",
       "\n",
       "                                   universe_settings  execution_time  \\\n",
       "0  {\"cutoff\": \"quantile_0.1\", \"eval_fairness_grou...        27.15801   \n",
       "0  {\"cutoff\": \"quantile_0.1\", \"eval_fairness_grou...        27.15801   \n",
       "0  {\"cutoff\": \"quantile_0.25\", \"eval_fairness_gro...        27.15801   \n",
       "0  {\"cutoff\": \"quantile_0.25\", \"eval_fairness_gro...        27.15801   \n",
       "\n",
       "   test_size_n  test_size_frac  fair_main_equalized_odds_difference  \\\n",
       "0        89710             1.0                             0.077824   \n",
       "0        89710             1.0                             0.077824   \n",
       "0        89710             1.0                             0.165183   \n",
       "0        89710             1.0                             0.165183   \n",
       "\n",
       "   fair_main_equalized_odds_ratio  fair_main_demographic_parity_difference  \\\n",
       "0                        0.918197                                 0.071541   \n",
       "0                        0.918197                                 0.071541   \n",
       "0                        0.807435                                 0.150981   \n",
       "0                        0.807435                                 0.150981   \n",
       "\n",
       "   fair_main_demographic_parity_ratio  ...  perf_grp_precision_0  \\\n",
       "0                            0.925101  ...                   NaN   \n",
       "0                            0.925101  ...              0.118813   \n",
       "0                            0.825739  ...                   NaN   \n",
       "0                            0.825739  ...              0.124073   \n",
       "\n",
       "   perf_grp_precision_1  perf_grp_false positive rate_0  \\\n",
       "0                   NaN                             NaN   \n",
       "0              0.142048                        0.951354   \n",
       "0                   NaN                             NaN   \n",
       "0              0.159803                        0.857803   \n",
       "\n",
       "   perf_grp_false positive rate_1  perf_grp_false negative rate_0  \\\n",
       "0                             NaN                             NaN   \n",
       "0                         0.87353                        0.015625   \n",
       "0                             NaN                             NaN   \n",
       "0                         0.69262                        0.067568   \n",
       "\n",
       "   perf_grp_false negative rate_1  perf_grp_selection rate_0  \\\n",
       "0                             NaN                        NaN   \n",
       "0                        0.050109                   0.955161   \n",
       "0                             NaN                        NaN   \n",
       "0                        0.134792                   0.866407   \n",
       "\n",
       "   perf_grp_selection rate_1  perf_grp_count_0  perf_grp_count_1  \n",
       "0                        NaN               NaN               NaN  \n",
       "0                   0.883620           20540.0           69170.0  \n",
       "0                        NaN               NaN               NaN  \n",
       "0                   0.715426           20540.0           69170.0  \n",
       "\n",
       "[4 rows x 50 columns]"
      ]
     },
     "execution_count": 79,
     "metadata": {},
     "output_type": "execute_result"
    }
   ],
   "source": [
    "final_output = universe_analysis.generate_final_output(\n",
    "    y_pred_prob=probs_test,\n",
    "    y_test=y_true,\n",
    "    org_test=org_test,\n",
    "    filter_data=filter_sub_universe_data,\n",
    "    cp_metrics_df=cp_metrics_df,\n",
    "    save=True,\n",
    ")\n",
    "final_output"
   ]
  },
  {
   "cell_type": "code",
   "execution_count": null,
   "id": "721ff514-cb11-46f8-b6fc-50392f74b5cb",
   "metadata": {
    "papermill": {
     "duration": 0.031897,
     "end_time": "2025-07-30T21:33:41.024939",
     "exception": false,
     "start_time": "2025-07-30T21:33:40.993042",
     "status": "completed"
    },
    "tags": []
   },
   "outputs": [],
   "source": []
  }
 ],
 "metadata": {
  "celltoolbar": "Tags",
  "kernelspec": {
   "display_name": "Python (CMA Fairness)",
   "language": "python",
   "name": "cma_fair_env"
  },
  "language_info": {
   "codemirror_mode": {
    "name": "ipython",
    "version": 3
   },
   "file_extension": ".py",
   "mimetype": "text/x-python",
   "name": "python",
   "nbconvert_exporter": "python",
   "pygments_lexer": "ipython3",
   "version": "3.10.12"
  },
  "papermill": {
   "default_parameters": {},
   "duration": 41.540336,
   "end_time": "2025-07-30T21:33:41.759149",
   "environment_variables": {},
   "exception": null,
   "input_path": "universe_analysis.ipynb",
   "output_path": "output/runs/14/notebooks/m_14-ddff2de0f0828b13ea3c84b8a5623388.ipynb",
   "parameters": {
    "output_dir": "output",
    "run_no": "14",
    "seed": "2023",
    "universe": "{\"cutoff\": [\"quantile_0.1\", \"quantile_0.25\"], \"eval_fairness_grouping\": [\"majority-minority\", \"nationality-all\"], \"exclude_features\": \"nationality\", \"exclude_subgroups\": \"keep-all\", \"model\": \"logreg\", \"scale\": \"scale\", \"training_size\": \"1k\", \"training_year\": \"2012_14\"}",
    "universe_id": "ddff2de0f0828b13ea3c84b8a5623388"
   },
   "start_time": "2025-07-30T21:33:00.218813",
   "version": "2.6.0"
  }
 },
 "nbformat": 4,
 "nbformat_minor": 5
}