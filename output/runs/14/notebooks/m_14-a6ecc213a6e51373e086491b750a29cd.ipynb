{
 "cells": [
  {
   "cell_type": "code",
   "execution_count": 1,
   "id": "f159f837-637b-42ba-96b5-ec9a68c44524",
   "metadata": {
    "execution": {
     "iopub.execute_input": "2025-07-30T21:48:40.755786Z",
     "iopub.status.busy": "2025-07-30T21:48:40.755334Z",
     "iopub.status.idle": "2025-07-30T21:48:40.767329Z",
     "shell.execute_reply": "2025-07-30T21:48:40.766294Z"
    },
    "papermill": {
     "duration": 0.035329,
     "end_time": "2025-07-30T21:48:40.768729",
     "exception": false,
     "start_time": "2025-07-30T21:48:40.733400",
     "status": "completed"
    },
    "tags": []
   },
   "outputs": [
    {
     "name": "stdout",
     "output_type": "stream",
     "text": [
      "/dss/dsshome1/0C/ra93lal2/cma/CMA_Fairness_v2\n"
     ]
    },
    {
     "name": "stderr",
     "output_type": "stream",
     "text": [
      "/dss/dsshome1/0C/ra93lal2/.local/share/virtualenvs/CMA_Fairness_v2-3j10GkSs/lib/python3.10/site-packages/IPython/core/magics/osm.py:393: UserWarning: This is now an optional IPython functionality, using bookmarks requires you to install the `pickleshare` library.\n",
      "  bkms = self.shell.db.get('bookmarks', {})\n",
      "/dss/dsshome1/0C/ra93lal2/.local/share/virtualenvs/CMA_Fairness_v2-3j10GkSs/lib/python3.10/site-packages/IPython/core/magics/osm.py:417: UserWarning: This is now an optional IPython functionality, setting dhist requires you to install the `pickleshare` library.\n",
      "  self.shell.db['dhist'] = compress_dhist(dhist)[-100:]\n"
     ]
    }
   ],
   "source": [
    "%cd ~/cma/CMA_Fairness_v2"
   ]
  },
  {
   "cell_type": "markdown",
   "id": "de2603b9",
   "metadata": {
    "papermill": {
     "duration": 0.019396,
     "end_time": "2025-07-30T21:48:40.807759",
     "exception": false,
     "start_time": "2025-07-30T21:48:40.788363",
     "status": "completed"
    },
    "tags": []
   },
   "source": [
    "The following cell holds the definition of our parameters, these values can be overriden by rendering the with e.g. the following command:\n",
    "\n",
    "papermill -p alpha 0.2 -p ratio 0.3 universe_analysis.ipynb output/test_run.ipynb"
   ]
  },
  {
   "cell_type": "code",
   "execution_count": 2,
   "id": "a80968a0-40bb-4fa9-85ef-2d5eefb01975",
   "metadata": {
    "execution": {
     "iopub.execute_input": "2025-07-30T21:48:40.831144Z",
     "iopub.status.busy": "2025-07-30T21:48:40.830617Z",
     "iopub.status.idle": "2025-07-30T21:48:40.834904Z",
     "shell.execute_reply": "2025-07-30T21:48:40.834246Z"
    },
    "papermill": {
     "duration": 0.015818,
     "end_time": "2025-07-30T21:48:40.836108",
     "exception": false,
     "start_time": "2025-07-30T21:48:40.820290",
     "status": "completed"
    },
    "tags": []
   },
   "outputs": [
    {
     "name": "stdout",
     "output_type": "stream",
     "text": [
      "Current working directory: /dss/dsshome1/0C/ra93lal2/cma/CMA_Fairness_v2\n"
     ]
    }
   ],
   "source": [
    "import os\n",
    "print(\"Current working directory:\", os.getcwd())"
   ]
  },
  {
   "cell_type": "code",
   "execution_count": 3,
   "id": "2dce4c03",
   "metadata": {
    "execution": {
     "iopub.execute_input": "2025-07-30T21:48:40.868866Z",
     "iopub.status.busy": "2025-07-30T21:48:40.868500Z",
     "iopub.status.idle": "2025-07-30T21:48:40.873236Z",
     "shell.execute_reply": "2025-07-30T21:48:40.872360Z"
    },
    "papermill": {
     "duration": 0.027959,
     "end_time": "2025-07-30T21:48:40.874828",
     "exception": false,
     "start_time": "2025-07-30T21:48:40.846869",
     "status": "completed"
    },
    "tags": [
     "parameters"
    ]
   },
   "outputs": [],
   "source": [
    "run_no = 0\n",
    "universe_id = \"test\"\n",
    "universe = {\n",
    "    \"training_size\": \"25k\", # \"25k\", \"5k\", \"1k\"\n",
    "    \"training_year\": \"2014\", # \"2014\", \"2012_14\", \"2010_14\"\n",
    "    \"scale\": \"scale\", # \"scale\", \"do-not-scale\",\n",
    "    #\"stratify_split\": \"target\", # \"none\", \"target\", \"protected-attribute\", \"both\",\n",
    "    \"model\": \"elasticnet\", # \"logreg\", \"penalized_logreg\", \"rf\", \"gbm\", \"elasticnet\"\n",
    "    \"cutoff\": [\"quantile_0.15\", \"quantile_0.30\"],\n",
    "    \"exclude_features\": \"age\", # \"none\", \"nationality\", \"sex\", \"nationality-sex\", \"age\"\n",
    "    \"exclude_subgroups\": \"keep-all\", # \"keep-all\", \"drop-non-german\"\n",
    "    \"eval_fairness_grouping\": [\"majority-minority\", \"nationality-all\"]\n",
    "}\n",
    "\n",
    "output_dir=\"./output\"\n",
    "seed=0"
   ]
  },
  {
   "cell_type": "code",
   "execution_count": 4,
   "id": "32c0f4c3",
   "metadata": {
    "execution": {
     "iopub.execute_input": "2025-07-30T21:48:40.913228Z",
     "iopub.status.busy": "2025-07-30T21:48:40.912812Z",
     "iopub.status.idle": "2025-07-30T21:48:40.918155Z",
     "shell.execute_reply": "2025-07-30T21:48:40.917229Z"
    },
    "papermill": {
     "duration": 0.030278,
     "end_time": "2025-07-30T21:48:40.920136",
     "exception": false,
     "start_time": "2025-07-30T21:48:40.889858",
     "status": "completed"
    },
    "tags": [
     "injected-parameters"
    ]
   },
   "outputs": [],
   "source": [
    "# Parameters\n",
    "universe_id = \"a6ecc213a6e51373e086491b750a29cd\"\n",
    "run_no = \"14\"\n",
    "universe = \"{\\\"cutoff\\\": [\\\"quantile_0.1\\\", \\\"quantile_0.25\\\"], \\\"eval_fairness_grouping\\\": [\\\"majority-minority\\\", \\\"nationality-all\\\"], \\\"exclude_features\\\": \\\"age\\\", \\\"exclude_subgroups\\\": \\\"drop-non-german\\\", \\\"model\\\": \\\"elasticnet\\\", \\\"scale\\\": \\\"scale\\\", \\\"training_size\\\": \\\"1k\\\", \\\"training_year\\\": \\\"2010_14\\\"}\"\n",
    "output_dir = \"output\"\n",
    "seed = \"2023\"\n"
   ]
  },
  {
   "cell_type": "code",
   "execution_count": 5,
   "id": "1650acaf",
   "metadata": {
    "execution": {
     "iopub.execute_input": "2025-07-30T21:48:40.967310Z",
     "iopub.status.busy": "2025-07-30T21:48:40.966673Z",
     "iopub.status.idle": "2025-07-30T21:48:40.971859Z",
     "shell.execute_reply": "2025-07-30T21:48:40.970773Z"
    },
    "papermill": {
     "duration": 0.030123,
     "end_time": "2025-07-30T21:48:40.973650",
     "exception": false,
     "start_time": "2025-07-30T21:48:40.943527",
     "status": "completed"
    },
    "tags": []
   },
   "outputs": [],
   "source": [
    "import json\n",
    "# Parse universe into dict if it is passed as a string\n",
    "if isinstance(universe, str):\n",
    "    universe = json.loads(universe)"
   ]
  },
  {
   "cell_type": "code",
   "execution_count": 6,
   "id": "16620c48",
   "metadata": {
    "execution": {
     "iopub.execute_input": "2025-07-30T21:48:41.017987Z",
     "iopub.status.busy": "2025-07-30T21:48:41.017578Z",
     "iopub.status.idle": "2025-07-30T21:48:41.065022Z",
     "shell.execute_reply": "2025-07-30T21:48:41.063964Z"
    },
    "papermill": {
     "duration": 0.066015,
     "end_time": "2025-07-30T21:48:41.066918",
     "exception": false,
     "start_time": "2025-07-30T21:48:41.000903",
     "status": "completed"
    },
    "tags": []
   },
   "outputs": [],
   "source": [
    "# Auto-reload the custom package\n",
    "%load_ext autoreload\n",
    "%autoreload 1\n",
    "%aimport fairness_multiverse"
   ]
  },
  {
   "cell_type": "code",
   "execution_count": 7,
   "id": "01c5c9f3",
   "metadata": {
    "execution": {
     "iopub.execute_input": "2025-07-30T21:48:41.106161Z",
     "iopub.status.busy": "2025-07-30T21:48:41.105556Z",
     "iopub.status.idle": "2025-07-30T21:48:43.007066Z",
     "shell.execute_reply": "2025-07-30T21:48:43.005411Z"
    },
    "papermill": {
     "duration": 1.920492,
     "end_time": "2025-07-30T21:48:43.009035",
     "exception": false,
     "start_time": "2025-07-30T21:48:41.088543",
     "status": "completed"
    },
    "tags": []
   },
   "outputs": [],
   "source": [
    "from fairness_multiverse.universe import UniverseAnalysis\n",
    "\n",
    "universe_analysis = UniverseAnalysis(\n",
    "    run_no = run_no,\n",
    "    universe_id = universe_id,\n",
    "    universe = universe,\n",
    "    output_dir=output_dir,\n",
    ")"
   ]
  },
  {
   "cell_type": "code",
   "execution_count": 8,
   "id": "106241f5",
   "metadata": {
    "execution": {
     "iopub.execute_input": "2025-07-30T21:48:43.056964Z",
     "iopub.status.busy": "2025-07-30T21:48:43.056550Z",
     "iopub.status.idle": "2025-07-30T21:48:43.062530Z",
     "shell.execute_reply": "2025-07-30T21:48:43.061764Z"
    },
    "papermill": {
     "duration": 0.018979,
     "end_time": "2025-07-30T21:48:43.064106",
     "exception": false,
     "start_time": "2025-07-30T21:48:43.045127",
     "status": "completed"
    },
    "tags": []
   },
   "outputs": [
    {
     "name": "stdout",
     "output_type": "stream",
     "text": [
      "Using Seed: 2023\n"
     ]
    }
   ],
   "source": [
    "import numpy as np\n",
    "parsed_seed = int(seed)\n",
    "np.random.seed(parsed_seed)\n",
    "print(f\"Using Seed: {parsed_seed}\")"
   ]
  },
  {
   "cell_type": "markdown",
   "id": "e0ebdc57",
   "metadata": {
    "papermill": {
     "duration": 0.019092,
     "end_time": "2025-07-30T21:48:43.105250",
     "exception": false,
     "start_time": "2025-07-30T21:48:43.086158",
     "status": "completed"
    },
    "tags": []
   },
   "source": [
    "# Loading Data"
   ]
  },
  {
   "cell_type": "markdown",
   "id": "681925a3",
   "metadata": {
    "papermill": {
     "duration": 0.019569,
     "end_time": "2025-07-30T21:48:43.143936",
     "exception": false,
     "start_time": "2025-07-30T21:48:43.124367",
     "status": "completed"
    },
    "tags": []
   },
   "source": [
    "Load siab_train, siab_test, siab_calib and/or \n",
    "load siab_train_features, siab_train_labels"
   ]
  },
  {
   "cell_type": "code",
   "execution_count": 9,
   "id": "f0496b8a",
   "metadata": {
    "execution": {
     "iopub.execute_input": "2025-07-30T21:48:43.185165Z",
     "iopub.status.busy": "2025-07-30T21:48:43.184455Z",
     "iopub.status.idle": "2025-07-30T21:48:53.183132Z",
     "shell.execute_reply": "2025-07-30T21:48:53.182187Z"
    },
    "papermill": {
     "duration": 10.02081,
     "end_time": "2025-07-30T21:48:53.184467",
     "exception": false,
     "start_time": "2025-07-30T21:48:43.163657",
     "status": "completed"
    },
    "tags": []
   },
   "outputs": [
    {
     "name": "stdout",
     "output_type": "stream",
     "text": [
      "Loading SIAB data from cache: data/siab_cached.csv.gz\n"
     ]
    },
    {
     "name": "stdout",
     "output_type": "stream",
     "text": [
      "(643690, 164)\n"
     ]
    }
   ],
   "source": [
    "from pathlib import Path\n",
    "import pandas as pd\n",
    "\n",
    "# File paths\n",
    "raw_file = Path(\"data/raw/siab.csv\")\n",
    "cache_file = Path(\"data/siab_cached.csv.gz\")\n",
    "\n",
    "# Ensure cache directory exists\n",
    "cache_file.parent.mkdir(parents=True, exist_ok=True)\n",
    "\n",
    "# Load with simple caching\n",
    "if cache_file.exists():\n",
    "    print(f\"Loading SIAB data from cache: {cache_file}\")\n",
    "    siab = pd.read_csv(cache_file, compression='gzip')\n",
    "else:\n",
    "    print(f\"Cache not found. Reading raw SIAB data: {raw_file}\")\n",
    "    siab = pd.read_csv(raw_file)\n",
    "    siab.to_csv(cache_file, index=False, compression='gzip')\n",
    "    print(f\"Cached SIAB data to: {cache_file}\")\n",
    "\n",
    "# Now use `siab` DataFrame as needed\n",
    "print(siab.shape)"
   ]
  },
  {
   "cell_type": "code",
   "execution_count": 10,
   "id": "db0ca512-5f53-4dba-abdb-a2888bca41ba",
   "metadata": {
    "execution": {
     "iopub.execute_input": "2025-07-30T21:48:53.210044Z",
     "iopub.status.busy": "2025-07-30T21:48:53.209660Z",
     "iopub.status.idle": "2025-07-30T21:48:53.214288Z",
     "shell.execute_reply": "2025-07-30T21:48:53.213311Z"
    },
    "papermill": {
     "duration": 0.018113,
     "end_time": "2025-07-30T21:48:53.215709",
     "exception": false,
     "start_time": "2025-07-30T21:48:53.197596",
     "status": "completed"
    },
    "tags": []
   },
   "outputs": [],
   "source": [
    "#siab"
   ]
  },
  {
   "cell_type": "code",
   "execution_count": 11,
   "id": "a0edb063",
   "metadata": {
    "execution": {
     "iopub.execute_input": "2025-07-30T21:48:53.239979Z",
     "iopub.status.busy": "2025-07-30T21:48:53.239478Z",
     "iopub.status.idle": "2025-07-30T21:48:53.244056Z",
     "shell.execute_reply": "2025-07-30T21:48:53.243212Z"
    },
    "papermill": {
     "duration": 0.017389,
     "end_time": "2025-07-30T21:48:53.245333",
     "exception": false,
     "start_time": "2025-07-30T21:48:53.227944",
     "status": "completed"
    },
    "tags": []
   },
   "outputs": [],
   "source": [
    "#import pandas as pd\n",
    "#\n",
    "#X_train = pd.read_csv(\"./data/X_train.csv\")\n",
    "#y_train = pd.read_csv(\"./data/y_train.csv\")"
   ]
  },
  {
   "cell_type": "code",
   "execution_count": 12,
   "id": "63d08085",
   "metadata": {
    "execution": {
     "iopub.execute_input": "2025-07-30T21:48:53.269161Z",
     "iopub.status.busy": "2025-07-30T21:48:53.268811Z",
     "iopub.status.idle": "2025-07-30T21:48:53.272759Z",
     "shell.execute_reply": "2025-07-30T21:48:53.272012Z"
    },
    "papermill": {
     "duration": 0.01695,
     "end_time": "2025-07-30T21:48:53.274174",
     "exception": false,
     "start_time": "2025-07-30T21:48:53.257224",
     "status": "completed"
    },
    "tags": []
   },
   "outputs": [],
   "source": [
    "#X_test = pd.read_csv(\"./data/X_test.csv\")\n",
    "#y_true = pd.read_csv(\"./data/y_test.csv\")"
   ]
  },
  {
   "cell_type": "code",
   "execution_count": 13,
   "id": "98a8d0fa-1d3d-4ed8-bb2c-281470e24add",
   "metadata": {
    "execution": {
     "iopub.execute_input": "2025-07-30T21:48:53.298216Z",
     "iopub.status.busy": "2025-07-30T21:48:53.297862Z",
     "iopub.status.idle": "2025-07-30T21:48:53.302174Z",
     "shell.execute_reply": "2025-07-30T21:48:53.301401Z"
    },
    "papermill": {
     "duration": 0.017413,
     "end_time": "2025-07-30T21:48:53.303479",
     "exception": false,
     "start_time": "2025-07-30T21:48:53.286066",
     "status": "completed"
    },
    "tags": []
   },
   "outputs": [],
   "source": [
    "# Calibration data for conformal\n",
    "#X_calib = pd.read_csv(\"./data/X_calib.csv\")\n",
    "#y_calib = pd.read_csv(\"./data/y_calib.csv\")"
   ]
  },
  {
   "cell_type": "markdown",
   "id": "997051c5-15bd-4b69-9786-c3001a3ce484",
   "metadata": {
    "papermill": {
     "duration": 0.010871,
     "end_time": "2025-07-30T21:48:53.326210",
     "exception": false,
     "start_time": "2025-07-30T21:48:53.315339",
     "status": "completed"
    },
    "tags": []
   },
   "source": [
    "# Splitting Data and Setting Training Data Size"
   ]
  },
  {
   "cell_type": "code",
   "execution_count": 14,
   "id": "e993b61f-042d-41a6-8c81-f55681f86335",
   "metadata": {
    "execution": {
     "iopub.execute_input": "2025-07-30T21:48:53.348637Z",
     "iopub.status.busy": "2025-07-30T21:48:53.348265Z",
     "iopub.status.idle": "2025-07-30T21:48:53.358086Z",
     "shell.execute_reply": "2025-07-30T21:48:53.357235Z"
    },
    "papermill": {
     "duration": 0.022698,
     "end_time": "2025-07-30T21:48:53.359368",
     "exception": false,
     "start_time": "2025-07-30T21:48:53.336670",
     "status": "completed"
    },
    "tags": []
   },
   "outputs": [],
   "source": [
    "def sample_by_year_size(df,\n",
    "                        training_year: str,\n",
    "                        training_size: str,\n",
    "                        random_state: int = 42):\n",
    "    # --- parse training_year into a list of int years ---\n",
    "    if \"_\" in training_year:\n",
    "        start_str, end_str = training_year.split(\"_\", 1)\n",
    "        start = int(start_str)\n",
    "        end   = int(end_str) if len(end_str) == 4 else (int(end_str) + (start // 100)*100)\n",
    "        years = list(range(start, end + 1))\n",
    "    else:\n",
    "        years = [int(training_year)]\n",
    "\n",
    "    df = df[df[\"year\"].isin(years)].reset_index(drop=True)\n",
    "\n",
    "    # --- map training_size to total number of samples ---\n",
    "    total_map = {\"25k\": 25_000, \"5k\": 5_000, \"1k\": 1_000}\n",
    "    if training_size not in total_map:\n",
    "        return df  # e.g. \"all\"\n",
    "\n",
    "    total_samples = total_map[training_size]\n",
    "    n_years       = len(years)\n",
    "    base          = total_samples // n_years\n",
    "    remainder     = total_samples % n_years\n",
    "\n",
    "    # --- build a dict: year -> how many to sample ---\n",
    "    # give +1 to the first `remainder` years in ascending order\n",
    "    quotas = {\n",
    "        year: base + (1 if idx < remainder else 0)\n",
    "        for idx, year in enumerate(sorted(years))\n",
    "    }\n",
    "\n",
    "    # --- sample per‐year according to the quota dict ---\n",
    "    sampled = (\n",
    "        df\n",
    "        .groupby(\"year\", group_keys=False)\n",
    "        .apply(lambda grp: grp.sample(\n",
    "            n=min(len(grp), quotas[grp.name]),\n",
    "            random_state=random_state))\n",
    "        .reset_index(drop=True)\n",
    "    )\n",
    "\n",
    "    return sampled"
   ]
  },
  {
   "cell_type": "code",
   "execution_count": 15,
   "id": "c0ccd338-0e02-41f3-a09d-f56f9266e3fb",
   "metadata": {
    "execution": {
     "iopub.execute_input": "2025-07-30T21:48:53.384057Z",
     "iopub.status.busy": "2025-07-30T21:48:53.383427Z",
     "iopub.status.idle": "2025-07-30T21:48:53.388003Z",
     "shell.execute_reply": "2025-07-30T21:48:53.387186Z"
    },
    "papermill": {
     "duration": 0.017553,
     "end_time": "2025-07-30T21:48:53.389314",
     "exception": false,
     "start_time": "2025-07-30T21:48:53.371761",
     "status": "completed"
    },
    "tags": []
   },
   "outputs": [],
   "source": [
    "#universe[\"training_size\"]"
   ]
  },
  {
   "cell_type": "code",
   "execution_count": 16,
   "id": "ca707fd7-8047-4acd-bfa5-66248fbbf8e6",
   "metadata": {
    "execution": {
     "iopub.execute_input": "2025-07-30T21:48:53.413963Z",
     "iopub.status.busy": "2025-07-30T21:48:53.413467Z",
     "iopub.status.idle": "2025-07-30T21:48:53.418286Z",
     "shell.execute_reply": "2025-07-30T21:48:53.417496Z"
    },
    "papermill": {
     "duration": 0.018307,
     "end_time": "2025-07-30T21:48:53.419615",
     "exception": false,
     "start_time": "2025-07-30T21:48:53.401308",
     "status": "completed"
    },
    "tags": []
   },
   "outputs": [],
   "source": [
    "#universe[\"training_year\"]"
   ]
  },
  {
   "cell_type": "code",
   "execution_count": 17,
   "id": "aea9c6ef-6f46-42c8-85eb-5a62025c1508",
   "metadata": {
    "execution": {
     "iopub.execute_input": "2025-07-30T21:48:53.443948Z",
     "iopub.status.busy": "2025-07-30T21:48:53.443450Z",
     "iopub.status.idle": "2025-07-30T21:48:54.324846Z",
     "shell.execute_reply": "2025-07-30T21:48:54.324090Z"
    },
    "papermill": {
     "duration": 0.894693,
     "end_time": "2025-07-30T21:48:54.326352",
     "exception": false,
     "start_time": "2025-07-30T21:48:53.431659",
     "status": "completed"
    },
    "tags": []
   },
   "outputs": [],
   "source": [
    "siab_train = sample_by_year_size(siab,\n",
    "                               training_year=universe[\"training_year\"],\n",
    "                               training_size=universe[\"training_size\"])"
   ]
  },
  {
   "cell_type": "code",
   "execution_count": 18,
   "id": "8d3afb32-789d-442c-8d5d-9f5aa8dd2eed",
   "metadata": {
    "execution": {
     "iopub.execute_input": "2025-07-30T21:48:54.350491Z",
     "iopub.status.busy": "2025-07-30T21:48:54.350132Z",
     "iopub.status.idle": "2025-07-30T21:48:54.354430Z",
     "shell.execute_reply": "2025-07-30T21:48:54.353481Z"
    },
    "papermill": {
     "duration": 0.018006,
     "end_time": "2025-07-30T21:48:54.355753",
     "exception": false,
     "start_time": "2025-07-30T21:48:54.337747",
     "status": "completed"
    },
    "tags": []
   },
   "outputs": [],
   "source": [
    "#siab_train.shape"
   ]
  },
  {
   "cell_type": "code",
   "execution_count": 19,
   "id": "d582db68-1a4c-47fb-84fc-08518dc1975a",
   "metadata": {
    "execution": {
     "iopub.execute_input": "2025-07-30T21:48:54.381342Z",
     "iopub.status.busy": "2025-07-30T21:48:54.380828Z",
     "iopub.status.idle": "2025-07-30T21:48:54.385627Z",
     "shell.execute_reply": "2025-07-30T21:48:54.384806Z"
    },
    "papermill": {
     "duration": 0.018417,
     "end_time": "2025-07-30T21:48:54.386875",
     "exception": false,
     "start_time": "2025-07-30T21:48:54.368458",
     "status": "completed"
    },
    "tags": []
   },
   "outputs": [],
   "source": [
    "#display(siab_train.groupby(\"year\").size())"
   ]
  },
  {
   "cell_type": "code",
   "execution_count": 20,
   "id": "a561edb4-d032-42cb-8256-22eac1111c64",
   "metadata": {
    "execution": {
     "iopub.execute_input": "2025-07-30T21:48:54.412640Z",
     "iopub.status.busy": "2025-07-30T21:48:54.412131Z",
     "iopub.status.idle": "2025-07-30T21:48:54.646833Z",
     "shell.execute_reply": "2025-07-30T21:48:54.646058Z"
    },
    "papermill": {
     "duration": 0.248867,
     "end_time": "2025-07-30T21:48:54.648341",
     "exception": false,
     "start_time": "2025-07-30T21:48:54.399474",
     "status": "completed"
    },
    "tags": []
   },
   "outputs": [],
   "source": [
    "#siab_train = siab_s[siab_s.year < 2015]\n",
    "siab_calib = siab[siab.year == 2015]\n",
    "siab_test = siab[siab.year == 2016]"
   ]
  },
  {
   "cell_type": "code",
   "execution_count": 21,
   "id": "472de16f-c3db-4916-846b-1f0de9cf1746",
   "metadata": {
    "execution": {
     "iopub.execute_input": "2025-07-30T21:48:54.672915Z",
     "iopub.status.busy": "2025-07-30T21:48:54.672548Z",
     "iopub.status.idle": "2025-07-30T21:48:54.678324Z",
     "shell.execute_reply": "2025-07-30T21:48:54.677301Z"
    },
    "papermill": {
     "duration": 0.019716,
     "end_time": "2025-07-30T21:48:54.679566",
     "exception": false,
     "start_time": "2025-07-30T21:48:54.659850",
     "status": "completed"
    },
    "tags": []
   },
   "outputs": [],
   "source": [
    "X_train = siab_train.iloc[:,4:164]\n",
    "y_train = siab_train.iloc[:, [3]]"
   ]
  },
  {
   "cell_type": "code",
   "execution_count": 22,
   "id": "828c96af-f43a-4ed6-ba47-8ac73a47d56c",
   "metadata": {
    "execution": {
     "iopub.execute_input": "2025-07-30T21:48:54.705008Z",
     "iopub.status.busy": "2025-07-30T21:48:54.704495Z",
     "iopub.status.idle": "2025-07-30T21:48:54.751697Z",
     "shell.execute_reply": "2025-07-30T21:48:54.750918Z"
    },
    "papermill": {
     "duration": 0.060921,
     "end_time": "2025-07-30T21:48:54.753013",
     "exception": false,
     "start_time": "2025-07-30T21:48:54.692092",
     "status": "completed"
    },
    "tags": []
   },
   "outputs": [],
   "source": [
    "X_calib = siab_calib.iloc[:,4:164]\n",
    "y_calib = siab_calib.iloc[:, [3]]"
   ]
  },
  {
   "cell_type": "code",
   "execution_count": 23,
   "id": "c34be9c3-6bd6-476e-acd3-845840e303be",
   "metadata": {
    "execution": {
     "iopub.execute_input": "2025-07-30T21:48:54.779056Z",
     "iopub.status.busy": "2025-07-30T21:48:54.778344Z",
     "iopub.status.idle": "2025-07-30T21:48:54.834008Z",
     "shell.execute_reply": "2025-07-30T21:48:54.832869Z"
    },
    "papermill": {
     "duration": 0.070187,
     "end_time": "2025-07-30T21:48:54.835993",
     "exception": false,
     "start_time": "2025-07-30T21:48:54.765806",
     "status": "completed"
    },
    "tags": []
   },
   "outputs": [],
   "source": [
    "X_test = siab_test.iloc[:,4:164]\n",
    "y_true = siab_test.iloc[:, [3]]"
   ]
  },
  {
   "cell_type": "markdown",
   "id": "9901737e-04df-44f0-9100-f5ad144ed040",
   "metadata": {
    "papermill": {
     "duration": 0.022784,
     "end_time": "2025-07-30T21:48:54.881568",
     "exception": false,
     "start_time": "2025-07-30T21:48:54.858784",
     "status": "completed"
    },
    "tags": []
   },
   "source": [
    "# Splitting Data and Setting Training Data Size OLD VERSION"
   ]
  },
  {
   "cell_type": "code",
   "execution_count": 24,
   "id": "acbc8f7d-8fc8-4e86-8c59-5dcb0f58384b",
   "metadata": {
    "execution": {
     "iopub.execute_input": "2025-07-30T21:48:54.918400Z",
     "iopub.status.busy": "2025-07-30T21:48:54.918045Z",
     "iopub.status.idle": "2025-07-30T21:48:54.922384Z",
     "shell.execute_reply": "2025-07-30T21:48:54.921580Z"
    },
    "papermill": {
     "duration": 0.01919,
     "end_time": "2025-07-30T21:48:54.923717",
     "exception": false,
     "start_time": "2025-07-30T21:48:54.904527",
     "status": "completed"
    },
    "tags": []
   },
   "outputs": [],
   "source": [
    "#def sample_by_year(df, training_size, random_state=42):\n",
    "#    if training_size == \"2014\":\n",
    "#        return df[df[\"year\"] == 2014].reset_index(drop=True)\n",
    "#    \n",
    "#    size_map = {\n",
    "#        \"25k\": 5000,\n",
    "#        \"5k\": 1000,\n",
    "#        \"1k\": 200\n",
    "#    }\n",
    "#\n",
    "#    if training_size not in size_map:\n",
    "#        return df.reset_index(drop=True)  # use all data\n",
    "#\n",
    "#    n_per_year = size_map[training_size]\n",
    "#    grouped = df.groupby(\"year\")\n",
    "#    sampled = grouped.apply(lambda x: x.sample(n=min(n_per_year, len(x)), random_state=random_state))\n",
    "#    return sampled.reset_index(drop=True)"
   ]
  },
  {
   "cell_type": "code",
   "execution_count": 25,
   "id": "6d931f52-beaf-43ff-9e78-9d44a448d54e",
   "metadata": {
    "execution": {
     "iopub.execute_input": "2025-07-30T21:48:54.948821Z",
     "iopub.status.busy": "2025-07-30T21:48:54.948300Z",
     "iopub.status.idle": "2025-07-30T21:48:54.953965Z",
     "shell.execute_reply": "2025-07-30T21:48:54.952805Z"
    },
    "papermill": {
     "duration": 0.019534,
     "end_time": "2025-07-30T21:48:54.955715",
     "exception": false,
     "start_time": "2025-07-30T21:48:54.936181",
     "status": "completed"
    },
    "tags": []
   },
   "outputs": [],
   "source": [
    "#siab_s = sample_by_year(siab, universe[\"training_size\"])"
   ]
  },
  {
   "cell_type": "code",
   "execution_count": 26,
   "id": "5db0a40e-a4e2-4920-be85-b12ae061d70d",
   "metadata": {
    "execution": {
     "iopub.execute_input": "2025-07-30T21:48:55.002853Z",
     "iopub.status.busy": "2025-07-30T21:48:55.002161Z",
     "iopub.status.idle": "2025-07-30T21:48:55.015045Z",
     "shell.execute_reply": "2025-07-30T21:48:55.013941Z"
    },
    "papermill": {
     "duration": 0.037566,
     "end_time": "2025-07-30T21:48:55.017112",
     "exception": false,
     "start_time": "2025-07-30T21:48:54.979546",
     "status": "completed"
    },
    "tags": []
   },
   "outputs": [],
   "source": [
    "#display(siab_s.groupby(\"year\").size())"
   ]
  },
  {
   "cell_type": "code",
   "execution_count": 27,
   "id": "e6c733c5",
   "metadata": {
    "execution": {
     "iopub.execute_input": "2025-07-30T21:48:55.044984Z",
     "iopub.status.busy": "2025-07-30T21:48:55.044486Z",
     "iopub.status.idle": "2025-07-30T21:48:55.134647Z",
     "shell.execute_reply": "2025-07-30T21:48:55.133942Z"
    },
    "papermill": {
     "duration": 0.104916,
     "end_time": "2025-07-30T21:48:55.136274",
     "exception": false,
     "start_time": "2025-07-30T21:48:55.031358",
     "status": "completed"
    },
    "tags": []
   },
   "outputs": [],
   "source": [
    "# Auxiliary data needed downstream in the pipeline\n",
    "\n",
    "org_train = X_train.copy()\n",
    "org_test = X_test.copy()\n",
    "org_calib = X_calib.copy()"
   ]
  },
  {
   "cell_type": "code",
   "execution_count": 28,
   "id": "1466abac-c6da-4492-a62f-4240ae3783af",
   "metadata": {
    "execution": {
     "iopub.execute_input": "2025-07-30T21:48:55.160735Z",
     "iopub.status.busy": "2025-07-30T21:48:55.160207Z",
     "iopub.status.idle": "2025-07-30T21:48:55.164959Z",
     "shell.execute_reply": "2025-07-30T21:48:55.164225Z"
    },
    "papermill": {
     "duration": 0.018422,
     "end_time": "2025-07-30T21:48:55.166328",
     "exception": false,
     "start_time": "2025-07-30T21:48:55.147906",
     "status": "completed"
    },
    "tags": []
   },
   "outputs": [],
   "source": [
    "# put in other script?\n",
    "# Group sizes\n",
    "\n",
    "#def calculate_percentages(df, df_name):\n",
    "#    total_entries = len(df)\n",
    "#\n",
    "#    female_pct = (df['frau1'] == 1).mean() * 100\n",
    "#    non_german_pct = ((df['maxdeutsch1'] == 0) & (df['maxdeutsch.Missing.'] == 0)).mean() * 100\n",
    "#    non_german_male_pct = ((df['frau1'] == 0) & (df['maxdeutsch1'] == 0) & (df['maxdeutsch.Missing.'] == 0)).mean() * 100\n",
    "#    non_german_female_pct = ((df['frau1'] == 1) & (df['maxdeutsch1'] == 0) & (df['maxdeutsch.Missing.'] == 0)).mean() * 100\n",
    "#\n",
    "#    print(f\"--- {df_name} ---\")\n",
    "#    print(f\"Female: {female_pct:.2f}%\")\n",
    "#    print(f\"Non-German: {non_german_pct:.2f}%\")\n",
    "#    print(f\"Non-German Male: {non_german_male_pct:.2f}%\")\n",
    "#    print(f\"Non-German Female: {non_german_female_pct:.2f}%\\n\")\n",
    "#\n",
    "## Calculate for each DataFrame\n",
    "#calculate_percentages(siab_calib, \"siab_calib\")\n",
    "#calculate_percentages(siab_test, \"siab_test\")\n",
    "#calculate_percentages(siab_train, \"siab_train\")"
   ]
  },
  {
   "cell_type": "markdown",
   "id": "0a4a1b33",
   "metadata": {
    "papermill": {
     "duration": 0.026142,
     "end_time": "2025-07-30T21:48:55.209232",
     "exception": false,
     "start_time": "2025-07-30T21:48:55.183090",
     "status": "completed"
    },
    "tags": []
   },
   "source": [
    "# Preprocessing Data"
   ]
  },
  {
   "cell_type": "code",
   "execution_count": 29,
   "id": "ca879031",
   "metadata": {
    "execution": {
     "iopub.execute_input": "2025-07-30T21:48:55.271487Z",
     "iopub.status.busy": "2025-07-30T21:48:55.270940Z",
     "iopub.status.idle": "2025-07-30T21:48:55.278014Z",
     "shell.execute_reply": "2025-07-30T21:48:55.276912Z"
    },
    "papermill": {
     "duration": 0.040609,
     "end_time": "2025-07-30T21:48:55.280299",
     "exception": false,
     "start_time": "2025-07-30T21:48:55.239690",
     "status": "completed"
    },
    "tags": []
   },
   "outputs": [],
   "source": [
    "# EXCLUDE PROTECTED FEATURES\n",
    "# ----------------------\n",
    "# \"exclude_features\": \"none\", # \"nationality\", \"sex\", \"nationality-sex\"\n",
    "\n",
    "excluded_features = universe[\"exclude_features\"].split(\"-\") # split, e.g.: \"nationality-sex\" -> [\"nationality\", \"sex\"]\n",
    "excluded_features_dictionary = {\n",
    "    \"nationality\": [\"maxdeutsch1\", \"maxdeutsch.Missing.\"],\n",
    "    \"sex\": [\"frau1\"],\n",
    "    \"age\": [\"age\"],\n",
    "}\n"
   ]
  },
  {
   "cell_type": "code",
   "execution_count": 30,
   "id": "b745ac60",
   "metadata": {
    "execution": {
     "iopub.execute_input": "2025-07-30T21:48:55.342737Z",
     "iopub.status.busy": "2025-07-30T21:48:55.342304Z",
     "iopub.status.idle": "2025-07-30T21:48:55.348840Z",
     "shell.execute_reply": "2025-07-30T21:48:55.347599Z"
    },
    "papermill": {
     "duration": 0.040709,
     "end_time": "2025-07-30T21:48:55.351425",
     "exception": false,
     "start_time": "2025-07-30T21:48:55.310716",
     "status": "completed"
    },
    "tags": []
   },
   "outputs": [],
   "source": [
    "# Code nice names to column names\n",
    "\n",
    "excluded_features_columns = [\n",
    "    excluded_features_dictionary[f] for f in excluded_features if len(f) > 0 and f != \"none\"\n",
    "]"
   ]
  },
  {
   "cell_type": "code",
   "execution_count": 31,
   "id": "f84f73a2",
   "metadata": {
    "execution": {
     "iopub.execute_input": "2025-07-30T21:48:55.414843Z",
     "iopub.status.busy": "2025-07-30T21:48:55.414061Z",
     "iopub.status.idle": "2025-07-30T21:48:55.421620Z",
     "shell.execute_reply": "2025-07-30T21:48:55.420466Z"
    },
    "papermill": {
     "duration": 0.041784,
     "end_time": "2025-07-30T21:48:55.424349",
     "exception": false,
     "start_time": "2025-07-30T21:48:55.382565",
     "status": "completed"
    },
    "tags": []
   },
   "outputs": [],
   "source": [
    "from utils import flatten_once\n",
    "\n",
    "excluded_features_columns = flatten_once(excluded_features_columns)"
   ]
  },
  {
   "cell_type": "code",
   "execution_count": 32,
   "id": "884dea22",
   "metadata": {
    "execution": {
     "iopub.execute_input": "2025-07-30T21:48:55.486754Z",
     "iopub.status.busy": "2025-07-30T21:48:55.486247Z",
     "iopub.status.idle": "2025-07-30T21:48:55.495401Z",
     "shell.execute_reply": "2025-07-30T21:48:55.494329Z"
    },
    "papermill": {
     "duration": 0.043216,
     "end_time": "2025-07-30T21:48:55.497792",
     "exception": false,
     "start_time": "2025-07-30T21:48:55.454576",
     "status": "completed"
    },
    "tags": []
   },
   "outputs": [
    {
     "name": "stdout",
     "output_type": "stream",
     "text": [
      "Dropping features: ['age']\n"
     ]
    }
   ],
   "source": [
    "if len(excluded_features_columns) > 0:\n",
    "    print(f\"Dropping features: {excluded_features_columns}\")\n",
    "    X_train.drop(excluded_features_columns, axis=1, inplace=True)"
   ]
  },
  {
   "cell_type": "code",
   "execution_count": 33,
   "id": "95ab8b16",
   "metadata": {
    "execution": {
     "iopub.execute_input": "2025-07-30T21:48:55.564746Z",
     "iopub.status.busy": "2025-07-30T21:48:55.563969Z",
     "iopub.status.idle": "2025-07-30T21:48:55.618581Z",
     "shell.execute_reply": "2025-07-30T21:48:55.617566Z"
    },
    "papermill": {
     "duration": 0.09021,
     "end_time": "2025-07-30T21:48:55.620450",
     "exception": false,
     "start_time": "2025-07-30T21:48:55.530240",
     "status": "completed"
    },
    "tags": []
   },
   "outputs": [
    {
     "name": "stdout",
     "output_type": "stream",
     "text": [
      "Dropping features: ['age']\n"
     ]
    }
   ],
   "source": [
    "if len(excluded_features_columns) > 0:\n",
    "    print(f\"Dropping features: {excluded_features_columns}\")\n",
    "    X_test.drop(excluded_features_columns, axis=1, inplace=True)"
   ]
  },
  {
   "cell_type": "code",
   "execution_count": 34,
   "id": "1853aaf5-fb9f-46cb-a2b5-8ea4ae2237e4",
   "metadata": {
    "execution": {
     "iopub.execute_input": "2025-07-30T21:48:55.668336Z",
     "iopub.status.busy": "2025-07-30T21:48:55.667923Z",
     "iopub.status.idle": "2025-07-30T21:48:55.744987Z",
     "shell.execute_reply": "2025-07-30T21:48:55.744129Z"
    },
    "papermill": {
     "duration": 0.102147,
     "end_time": "2025-07-30T21:48:55.746957",
     "exception": false,
     "start_time": "2025-07-30T21:48:55.644810",
     "status": "completed"
    },
    "tags": []
   },
   "outputs": [
    {
     "name": "stdout",
     "output_type": "stream",
     "text": [
      "Dropping features: ['age']\n"
     ]
    }
   ],
   "source": [
    "if len(excluded_features_columns) > 0:\n",
    "    print(f\"Dropping features: {excluded_features_columns}\")\n",
    "    X_calib.drop(excluded_features_columns, axis=1, inplace=True)"
   ]
  },
  {
   "cell_type": "code",
   "execution_count": 35,
   "id": "6727d079-03e5-481e-9d38-292a90b7a0a8",
   "metadata": {
    "execution": {
     "iopub.execute_input": "2025-07-30T21:48:55.795154Z",
     "iopub.status.busy": "2025-07-30T21:48:55.794739Z",
     "iopub.status.idle": "2025-07-30T21:48:55.800394Z",
     "shell.execute_reply": "2025-07-30T21:48:55.798936Z"
    },
    "papermill": {
     "duration": 0.032746,
     "end_time": "2025-07-30T21:48:55.802519",
     "exception": false,
     "start_time": "2025-07-30T21:48:55.769773",
     "status": "completed"
    },
    "tags": []
   },
   "outputs": [],
   "source": [
    "# SPLIT & STRATIFY DATA\n",
    "# ----------------------"
   ]
  },
  {
   "cell_type": "code",
   "execution_count": 36,
   "id": "76c4dc6d",
   "metadata": {
    "execution": {
     "iopub.execute_input": "2025-07-30T21:48:55.852402Z",
     "iopub.status.busy": "2025-07-30T21:48:55.851973Z",
     "iopub.status.idle": "2025-07-30T21:48:55.857368Z",
     "shell.execute_reply": "2025-07-30T21:48:55.856384Z"
    },
    "papermill": {
     "duration": 0.031685,
     "end_time": "2025-07-30T21:48:55.859211",
     "exception": false,
     "start_time": "2025-07-30T21:48:55.827526",
     "status": "completed"
    },
    "tags": []
   },
   "outputs": [],
   "source": [
    "# EXCLUDE CERTAIN SUBGROUPS\n",
    "# ----------------------\n",
    "\n",
    "mode = universe.get(\"exclude_subgroups\", \"keep-all\") \n",
    "# Fetches the exclude_subgroups setting from the universe dict.\n",
    "# Defaults to \"keep-all\" if the key is missing."
   ]
  },
  {
   "cell_type": "code",
   "execution_count": 37,
   "id": "21994072",
   "metadata": {
    "execution": {
     "iopub.execute_input": "2025-07-30T21:48:55.910460Z",
     "iopub.status.busy": "2025-07-30T21:48:55.909881Z",
     "iopub.status.idle": "2025-07-30T21:48:55.918075Z",
     "shell.execute_reply": "2025-07-30T21:48:55.916867Z"
    },
    "papermill": {
     "duration": 0.03632,
     "end_time": "2025-07-30T21:48:55.919992",
     "exception": false,
     "start_time": "2025-07-30T21:48:55.883672",
     "status": "completed"
    },
    "tags": []
   },
   "outputs": [],
   "source": [
    "if mode == \"keep-all\":\n",
    "    keep_mask = pd.Series(True, index=org_train.index)\n",
    "\n",
    "# org_train contains the original feature columns from features_org (in Simson)\n",
    "# features_org contains unprocessed features, for me X_train at beginning ???\n",
    "# For keep-all, creates a boolean Series (keep_mask) of all True, so no rows are removed.\n",
    "\n",
    "elif mode == \"drop-non-german\":\n",
    "    keep_mask = org_train[\"maxdeutsch1\"] == 1 # ??? what about missing values?\n",
    "\n",
    "else:\n",
    "    raise ValueError(f\"Unsupported mode for exclude_subgroups: {mode}\")\n"
   ]
  },
  {
   "cell_type": "code",
   "execution_count": 38,
   "id": "71651440",
   "metadata": {
    "execution": {
     "iopub.execute_input": "2025-07-30T21:48:55.970809Z",
     "iopub.status.busy": "2025-07-30T21:48:55.970258Z",
     "iopub.status.idle": "2025-07-30T21:48:55.979091Z",
     "shell.execute_reply": "2025-07-30T21:48:55.977986Z"
    },
    "papermill": {
     "duration": 0.03662,
     "end_time": "2025-07-30T21:48:55.981306",
     "exception": false,
     "start_time": "2025-07-30T21:48:55.944686",
     "status": "completed"
    },
    "tags": []
   },
   "outputs": [
    {
     "name": "stdout",
     "output_type": "stream",
     "text": [
      "Dropping 131 rows (13.10%) where mode='drop-non-german'\n"
     ]
    }
   ],
   "source": [
    "n_drop = (~keep_mask).sum() # Calculates how many rows are set to be dropped\n",
    "if n_drop > 0:\n",
    "    pct = n_drop / len(keep_mask) * 100\n",
    "    print(f\"Dropping {n_drop} rows ({pct:.2f}%) where mode='{mode}'\")"
   ]
  },
  {
   "cell_type": "code",
   "execution_count": 39,
   "id": "5fb8eee5",
   "metadata": {
    "execution": {
     "iopub.execute_input": "2025-07-30T21:48:56.052767Z",
     "iopub.status.busy": "2025-07-30T21:48:56.052216Z",
     "iopub.status.idle": "2025-07-30T21:48:56.059678Z",
     "shell.execute_reply": "2025-07-30T21:48:56.058509Z"
    },
    "papermill": {
     "duration": 0.035942,
     "end_time": "2025-07-30T21:48:56.061971",
     "exception": false,
     "start_time": "2025-07-30T21:48:56.026029",
     "status": "completed"
    },
    "tags": []
   },
   "outputs": [],
   "source": [
    "X_train = X_train[keep_mask]"
   ]
  },
  {
   "cell_type": "code",
   "execution_count": 40,
   "id": "b202bb3a",
   "metadata": {
    "execution": {
     "iopub.execute_input": "2025-07-30T21:48:56.129172Z",
     "iopub.status.busy": "2025-07-30T21:48:56.128005Z",
     "iopub.status.idle": "2025-07-30T21:48:56.135783Z",
     "shell.execute_reply": "2025-07-30T21:48:56.134278Z"
    },
    "papermill": {
     "duration": 0.043691,
     "end_time": "2025-07-30T21:48:56.138278",
     "exception": false,
     "start_time": "2025-07-30T21:48:56.094587",
     "status": "completed"
    },
    "tags": []
   },
   "outputs": [],
   "source": [
    "y_train = y_train[keep_mask]"
   ]
  },
  {
   "cell_type": "markdown",
   "id": "493e2ac3",
   "metadata": {
    "papermill": {
     "duration": 0.022756,
     "end_time": "2025-07-30T21:48:56.186291",
     "exception": false,
     "start_time": "2025-07-30T21:48:56.163535",
     "status": "completed"
    },
    "tags": []
   },
   "source": [
    "# Model Training"
   ]
  },
  {
   "cell_type": "code",
   "execution_count": 41,
   "id": "679e1268",
   "metadata": {
    "execution": {
     "iopub.execute_input": "2025-07-30T21:48:56.213212Z",
     "iopub.status.busy": "2025-07-30T21:48:56.212692Z",
     "iopub.status.idle": "2025-07-30T21:48:56.324906Z",
     "shell.execute_reply": "2025-07-30T21:48:56.323814Z"
    },
    "papermill": {
     "duration": 0.127689,
     "end_time": "2025-07-30T21:48:56.326529",
     "exception": false,
     "start_time": "2025-07-30T21:48:56.198840",
     "status": "completed"
    },
    "tags": []
   },
   "outputs": [],
   "source": [
    "from sklearn.linear_model import LogisticRegression\n",
    "from sklearn.ensemble import GradientBoostingClassifier, RandomForestClassifier\n",
    "\n",
    "if (universe[\"model\"] == \"logreg\"):\n",
    "    model = LogisticRegression() #penalty=\"none\") #, solver=\"newton-cg\", max_iter=1) # include random_state=19 ?\n",
    "elif (universe[\"model\"] == \"penalized_logreg\"):\n",
    "    model = LogisticRegression(penalty=\"l2\", C=1.0) #, solver=\"newton-cg\", max_iter=1)\n",
    "elif (universe[\"model\"] == \"rf\"):\n",
    "    model = RandomForestClassifier(n_estimators=100, n_jobs=-1)\n",
    "elif (universe[\"model\"] == \"gbm\"):\n",
    "    model = GradientBoostingClassifier()\n",
    "elif (universe[\"model\"] == \"elasticnet\"):\n",
    "    model = LogisticRegression(penalty = 'elasticnet', solver = 'saga', l1_ratio = 0.5, max_iter=5000) # which solver to use?\n",
    "else:\n",
    "    raise \"Unsupported universe.model\""
   ]
  },
  {
   "cell_type": "code",
   "execution_count": 42,
   "id": "0cc8f744",
   "metadata": {
    "execution": {
     "iopub.execute_input": "2025-07-30T21:48:56.365238Z",
     "iopub.status.busy": "2025-07-30T21:48:56.364867Z",
     "iopub.status.idle": "2025-07-30T21:48:56.370406Z",
     "shell.execute_reply": "2025-07-30T21:48:56.369552Z"
    },
    "papermill": {
     "duration": 0.023303,
     "end_time": "2025-07-30T21:48:56.372068",
     "exception": false,
     "start_time": "2025-07-30T21:48:56.348765",
     "status": "completed"
    },
    "tags": []
   },
   "outputs": [],
   "source": [
    "import numpy as np\n",
    "from sklearn.pipeline import Pipeline\n",
    "from sklearn.preprocessing import StandardScaler\n",
    "\n",
    "model = Pipeline([\n",
    "    #(\"continuous_processor\", continuous_processor),\n",
    "    #(\"categorical_preprocessor\", categorical_preprocessor),\n",
    "    (\"scale\", StandardScaler() if universe[\"scale\"] == \"scale\" else None), \n",
    "    (\"model\", model),\n",
    "])"
   ]
  },
  {
   "cell_type": "code",
   "execution_count": 43,
   "id": "9442c04d",
   "metadata": {
    "execution": {
     "iopub.execute_input": "2025-07-30T21:48:56.400833Z",
     "iopub.status.busy": "2025-07-30T21:48:56.400479Z",
     "iopub.status.idle": "2025-07-30T21:48:59.734646Z",
     "shell.execute_reply": "2025-07-30T21:48:59.733694Z"
    },
    "papermill": {
     "duration": 3.350188,
     "end_time": "2025-07-30T21:48:59.736393",
     "exception": false,
     "start_time": "2025-07-30T21:48:56.386205",
     "status": "completed"
    },
    "tags": []
   },
   "outputs": [
    {
     "data": {
      "text/html": [
       "<style>#sk-container-id-1 {color: black;background-color: white;}#sk-container-id-1 pre{padding: 0;}#sk-container-id-1 div.sk-toggleable {background-color: white;}#sk-container-id-1 label.sk-toggleable__label {cursor: pointer;display: block;width: 100%;margin-bottom: 0;padding: 0.3em;box-sizing: border-box;text-align: center;}#sk-container-id-1 label.sk-toggleable__label-arrow:before {content: \"▸\";float: left;margin-right: 0.25em;color: #696969;}#sk-container-id-1 label.sk-toggleable__label-arrow:hover:before {color: black;}#sk-container-id-1 div.sk-estimator:hover label.sk-toggleable__label-arrow:before {color: black;}#sk-container-id-1 div.sk-toggleable__content {max-height: 0;max-width: 0;overflow: hidden;text-align: left;background-color: #f0f8ff;}#sk-container-id-1 div.sk-toggleable__content pre {margin: 0.2em;color: black;border-radius: 0.25em;background-color: #f0f8ff;}#sk-container-id-1 input.sk-toggleable__control:checked~div.sk-toggleable__content {max-height: 200px;max-width: 100%;overflow: auto;}#sk-container-id-1 input.sk-toggleable__control:checked~label.sk-toggleable__label-arrow:before {content: \"▾\";}#sk-container-id-1 div.sk-estimator input.sk-toggleable__control:checked~label.sk-toggleable__label {background-color: #d4ebff;}#sk-container-id-1 div.sk-label input.sk-toggleable__control:checked~label.sk-toggleable__label {background-color: #d4ebff;}#sk-container-id-1 input.sk-hidden--visually {border: 0;clip: rect(1px 1px 1px 1px);clip: rect(1px, 1px, 1px, 1px);height: 1px;margin: -1px;overflow: hidden;padding: 0;position: absolute;width: 1px;}#sk-container-id-1 div.sk-estimator {font-family: monospace;background-color: #f0f8ff;border: 1px dotted black;border-radius: 0.25em;box-sizing: border-box;margin-bottom: 0.5em;}#sk-container-id-1 div.sk-estimator:hover {background-color: #d4ebff;}#sk-container-id-1 div.sk-parallel-item::after {content: \"\";width: 100%;border-bottom: 1px solid gray;flex-grow: 1;}#sk-container-id-1 div.sk-label:hover label.sk-toggleable__label {background-color: #d4ebff;}#sk-container-id-1 div.sk-serial::before {content: \"\";position: absolute;border-left: 1px solid gray;box-sizing: border-box;top: 0;bottom: 0;left: 50%;z-index: 0;}#sk-container-id-1 div.sk-serial {display: flex;flex-direction: column;align-items: center;background-color: white;padding-right: 0.2em;padding-left: 0.2em;position: relative;}#sk-container-id-1 div.sk-item {position: relative;z-index: 1;}#sk-container-id-1 div.sk-parallel {display: flex;align-items: stretch;justify-content: center;background-color: white;position: relative;}#sk-container-id-1 div.sk-item::before, #sk-container-id-1 div.sk-parallel-item::before {content: \"\";position: absolute;border-left: 1px solid gray;box-sizing: border-box;top: 0;bottom: 0;left: 50%;z-index: -1;}#sk-container-id-1 div.sk-parallel-item {display: flex;flex-direction: column;z-index: 1;position: relative;background-color: white;}#sk-container-id-1 div.sk-parallel-item:first-child::after {align-self: flex-end;width: 50%;}#sk-container-id-1 div.sk-parallel-item:last-child::after {align-self: flex-start;width: 50%;}#sk-container-id-1 div.sk-parallel-item:only-child::after {width: 0;}#sk-container-id-1 div.sk-dashed-wrapped {border: 1px dashed gray;margin: 0 0.4em 0.5em 0.4em;box-sizing: border-box;padding-bottom: 0.4em;background-color: white;}#sk-container-id-1 div.sk-label label {font-family: monospace;font-weight: bold;display: inline-block;line-height: 1.2em;}#sk-container-id-1 div.sk-label-container {text-align: center;}#sk-container-id-1 div.sk-container {/* jupyter's `normalize.less` sets `[hidden] { display: none; }` but bootstrap.min.css set `[hidden] { display: none !important; }` so we also need the `!important` here to be able to override the default hidden behavior on the sphinx rendered scikit-learn.org. See: https://github.com/scikit-learn/scikit-learn/issues/21755 */display: inline-block !important;position: relative;}#sk-container-id-1 div.sk-text-repr-fallback {display: none;}</style><div id=\"sk-container-id-1\" class=\"sk-top-container\"><div class=\"sk-text-repr-fallback\"><pre>Pipeline(steps=[(&#x27;scale&#x27;, StandardScaler()),\n",
       "                (&#x27;model&#x27;,\n",
       "                 LogisticRegression(l1_ratio=0.5, max_iter=5000,\n",
       "                                    penalty=&#x27;elasticnet&#x27;, solver=&#x27;saga&#x27;))])</pre><b>In a Jupyter environment, please rerun this cell to show the HTML representation or trust the notebook. <br />On GitHub, the HTML representation is unable to render, please try loading this page with nbviewer.org.</b></div><div class=\"sk-container\" hidden><div class=\"sk-item sk-dashed-wrapped\"><div class=\"sk-label-container\"><div class=\"sk-label sk-toggleable\"><input class=\"sk-toggleable__control sk-hidden--visually\" id=\"sk-estimator-id-1\" type=\"checkbox\" ><label for=\"sk-estimator-id-1\" class=\"sk-toggleable__label sk-toggleable__label-arrow\">Pipeline</label><div class=\"sk-toggleable__content\"><pre>Pipeline(steps=[(&#x27;scale&#x27;, StandardScaler()),\n",
       "                (&#x27;model&#x27;,\n",
       "                 LogisticRegression(l1_ratio=0.5, max_iter=5000,\n",
       "                                    penalty=&#x27;elasticnet&#x27;, solver=&#x27;saga&#x27;))])</pre></div></div></div><div class=\"sk-serial\"><div class=\"sk-item\"><div class=\"sk-estimator sk-toggleable\"><input class=\"sk-toggleable__control sk-hidden--visually\" id=\"sk-estimator-id-2\" type=\"checkbox\" ><label for=\"sk-estimator-id-2\" class=\"sk-toggleable__label sk-toggleable__label-arrow\">StandardScaler</label><div class=\"sk-toggleable__content\"><pre>StandardScaler()</pre></div></div></div><div class=\"sk-item\"><div class=\"sk-estimator sk-toggleable\"><input class=\"sk-toggleable__control sk-hidden--visually\" id=\"sk-estimator-id-3\" type=\"checkbox\" ><label for=\"sk-estimator-id-3\" class=\"sk-toggleable__label sk-toggleable__label-arrow\">LogisticRegression</label><div class=\"sk-toggleable__content\"><pre>LogisticRegression(l1_ratio=0.5, max_iter=5000, penalty=&#x27;elasticnet&#x27;,\n",
       "                   solver=&#x27;saga&#x27;)</pre></div></div></div></div></div></div></div>"
      ],
      "text/plain": [
       "Pipeline(steps=[('scale', StandardScaler()),\n",
       "                ('model',\n",
       "                 LogisticRegression(l1_ratio=0.5, max_iter=5000,\n",
       "                                    penalty='elasticnet', solver='saga'))])"
      ]
     },
     "execution_count": 43,
     "metadata": {},
     "output_type": "execute_result"
    }
   ],
   "source": [
    "model.fit(X_train, y_train.values.ravel())"
   ]
  },
  {
   "cell_type": "code",
   "execution_count": 44,
   "id": "af59f8c0",
   "metadata": {
    "execution": {
     "iopub.execute_input": "2025-07-30T21:48:59.788604Z",
     "iopub.status.busy": "2025-07-30T21:48:59.788225Z",
     "iopub.status.idle": "2025-07-30T21:48:59.799611Z",
     "shell.execute_reply": "2025-07-30T21:48:59.798650Z"
    },
    "papermill": {
     "duration": 0.038264,
     "end_time": "2025-07-30T21:48:59.801457",
     "exception": false,
     "start_time": "2025-07-30T21:48:59.763193",
     "status": "completed"
    },
    "tags": []
   },
   "outputs": [],
   "source": [
    "from fairness_multiverse.universe import predict_w_threshold"
   ]
  },
  {
   "cell_type": "code",
   "execution_count": 45,
   "id": "a7cf2e16",
   "metadata": {
    "execution": {
     "iopub.execute_input": "2025-07-30T21:48:59.852463Z",
     "iopub.status.busy": "2025-07-30T21:48:59.851940Z",
     "iopub.status.idle": "2025-07-30T21:49:00.056168Z",
     "shell.execute_reply": "2025-07-30T21:49:00.055206Z"
    },
    "papermill": {
     "duration": 0.231333,
     "end_time": "2025-07-30T21:49:00.057715",
     "exception": false,
     "start_time": "2025-07-30T21:48:59.826382",
     "status": "completed"
    },
    "tags": []
   },
   "outputs": [
    {
     "data": {
      "text/plain": [
       "0.8269646639170661"
      ]
     },
     "execution_count": 45,
     "metadata": {},
     "output_type": "execute_result"
    }
   ],
   "source": [
    "probs_test = model.predict_proba(X_test)\n",
    "\n",
    "'''\n",
    "Below code returns a boolean array (or binary 0/1 array depending on how it’s used) where each element \n",
    "is True if the probability of class 1 is greater than or equal to the threshold, and False otherwise.\n",
    "'''\n",
    "y_pred_default = predict_w_threshold(probs_test, 0.5)\n",
    "\n",
    "from sklearn.metrics import accuracy_score\n",
    "\n",
    "# Naive prediction\n",
    "accuracy_score(y_true = y_true, y_pred = y_pred_default)"
   ]
  },
  {
   "cell_type": "code",
   "execution_count": 46,
   "id": "081964c3",
   "metadata": {
    "execution": {
     "iopub.execute_input": "2025-07-30T21:49:00.106950Z",
     "iopub.status.busy": "2025-07-30T21:49:00.106523Z",
     "iopub.status.idle": "2025-07-30T21:49:00.295142Z",
     "shell.execute_reply": "2025-07-30T21:49:00.293925Z"
    },
    "papermill": {
     "duration": 0.217372,
     "end_time": "2025-07-30T21:49:00.297396",
     "exception": false,
     "start_time": "2025-07-30T21:49:00.080024",
     "status": "completed"
    },
    "tags": []
   },
   "outputs": [
    {
     "data": {
      "text/plain": [
       "array([0, 0, 0, ..., 0, 0, 0])"
      ]
     },
     "execution_count": 46,
     "metadata": {},
     "output_type": "execute_result"
    }
   ],
   "source": [
    "model.predict(X_test)"
   ]
  },
  {
   "cell_type": "markdown",
   "id": "56c9705b",
   "metadata": {
    "papermill": {
     "duration": 0.03521,
     "end_time": "2025-07-30T21:49:00.364059",
     "exception": false,
     "start_time": "2025-07-30T21:49:00.328849",
     "status": "completed"
    },
    "tags": []
   },
   "source": [
    "# Conformal Prediction"
   ]
  },
  {
   "cell_type": "code",
   "execution_count": 47,
   "id": "160ec6ff",
   "metadata": {
    "execution": {
     "iopub.execute_input": "2025-07-30T21:49:00.434607Z",
     "iopub.status.busy": "2025-07-30T21:49:00.433893Z",
     "iopub.status.idle": "2025-07-30T21:49:00.441810Z",
     "shell.execute_reply": "2025-07-30T21:49:00.440552Z"
    },
    "papermill": {
     "duration": 0.045472,
     "end_time": "2025-07-30T21:49:00.443939",
     "exception": false,
     "start_time": "2025-07-30T21:49:00.398467",
     "status": "completed"
    },
    "tags": []
   },
   "outputs": [],
   "source": [
    "# Miscoverage level for conformal prediction (10% allowed error rate => 90% target coverage)\n",
    "alpha = 0.1"
   ]
  },
  {
   "cell_type": "code",
   "execution_count": 48,
   "id": "eadf4555-3dd3-440e-8e35-f82a4ad9f855",
   "metadata": {
    "execution": {
     "iopub.execute_input": "2025-07-30T21:49:00.514688Z",
     "iopub.status.busy": "2025-07-30T21:49:00.513926Z",
     "iopub.status.idle": "2025-07-30T21:49:00.700274Z",
     "shell.execute_reply": "2025-07-30T21:49:00.699142Z"
    },
    "papermill": {
     "duration": 0.224222,
     "end_time": "2025-07-30T21:49:00.702750",
     "exception": false,
     "start_time": "2025-07-30T21:49:00.478528",
     "status": "completed"
    },
    "tags": []
   },
   "outputs": [],
   "source": [
    "probs_calib = model.predict_proba(X_calib)"
   ]
  },
  {
   "cell_type": "code",
   "execution_count": 49,
   "id": "2ed93547-6d5d-4983-9b36-1ecb300da49a",
   "metadata": {
    "execution": {
     "iopub.execute_input": "2025-07-30T21:49:00.770666Z",
     "iopub.status.busy": "2025-07-30T21:49:00.769885Z",
     "iopub.status.idle": "2025-07-30T21:49:00.776995Z",
     "shell.execute_reply": "2025-07-30T21:49:00.775848Z"
    },
    "papermill": {
     "duration": 0.043272,
     "end_time": "2025-07-30T21:49:00.779166",
     "exception": false,
     "start_time": "2025-07-30T21:49:00.735894",
     "status": "completed"
    },
    "tags": []
   },
   "outputs": [],
   "source": [
    "y_calib = y_calib.values.ravel().astype(int)"
   ]
  },
  {
   "cell_type": "code",
   "execution_count": 50,
   "id": "65d1320d-f588-4b38-9072-62af1ae97f7d",
   "metadata": {
    "execution": {
     "iopub.execute_input": "2025-07-30T21:49:00.849472Z",
     "iopub.status.busy": "2025-07-30T21:49:00.847506Z",
     "iopub.status.idle": "2025-07-30T21:49:00.856975Z",
     "shell.execute_reply": "2025-07-30T21:49:00.855898Z"
    },
    "papermill": {
     "duration": 0.046707,
     "end_time": "2025-07-30T21:49:00.859241",
     "exception": false,
     "start_time": "2025-07-30T21:49:00.812534",
     "status": "completed"
    },
    "tags": []
   },
   "outputs": [],
   "source": [
    "from fairness_multiverse.conformal import compute_nc_scores\n",
    "\n",
    "# Compute nonconformity scores on calibration set (1 - probability of true class)\n",
    "nc_scores = compute_nc_scores(probs_calib, y_calib)"
   ]
  },
  {
   "cell_type": "code",
   "execution_count": 51,
   "id": "df3b8ca3-53b7-43d5-9667-7c85da7aeda2",
   "metadata": {
    "execution": {
     "iopub.execute_input": "2025-07-30T21:49:00.921150Z",
     "iopub.status.busy": "2025-07-30T21:49:00.920570Z",
     "iopub.status.idle": "2025-07-30T21:49:00.928660Z",
     "shell.execute_reply": "2025-07-30T21:49:00.927446Z"
    },
    "papermill": {
     "duration": 0.037615,
     "end_time": "2025-07-30T21:49:00.930239",
     "exception": false,
     "start_time": "2025-07-30T21:49:00.892624",
     "status": "completed"
    },
    "tags": []
   },
   "outputs": [],
   "source": [
    "from fairness_multiverse.conformal import find_threshold\n",
    "\n",
    "# Find conformal threshold q_hat for the given alpha (split conformal method)\n",
    "q_hat = find_threshold(nc_scores, alpha)"
   ]
  },
  {
   "cell_type": "code",
   "execution_count": 52,
   "id": "4d29e6c1-0ef6-4aa4-b8fe-4fe79b0d033a",
   "metadata": {
    "execution": {
     "iopub.execute_input": "2025-07-30T21:49:00.982468Z",
     "iopub.status.busy": "2025-07-30T21:49:00.982001Z",
     "iopub.status.idle": "2025-07-30T21:49:00.989419Z",
     "shell.execute_reply": "2025-07-30T21:49:00.988411Z"
    },
    "papermill": {
     "duration": 0.034506,
     "end_time": "2025-07-30T21:49:00.991064",
     "exception": false,
     "start_time": "2025-07-30T21:49:00.956558",
     "status": "completed"
    },
    "tags": []
   },
   "outputs": [
    {
     "data": {
      "text/plain": [
       "0.7708112106717043"
      ]
     },
     "execution_count": 52,
     "metadata": {},
     "output_type": "execute_result"
    }
   ],
   "source": [
    "q_hat"
   ]
  },
  {
   "cell_type": "code",
   "execution_count": 53,
   "id": "92460794-cdac-4be2-ba28-f28c0515a6fb",
   "metadata": {
    "execution": {
     "iopub.execute_input": "2025-07-30T21:49:01.042440Z",
     "iopub.status.busy": "2025-07-30T21:49:01.041881Z",
     "iopub.status.idle": "2025-07-30T21:49:01.930012Z",
     "shell.execute_reply": "2025-07-30T21:49:01.929057Z"
    },
    "papermill": {
     "duration": 0.916259,
     "end_time": "2025-07-30T21:49:01.932328",
     "exception": false,
     "start_time": "2025-07-30T21:49:01.016069",
     "status": "completed"
    },
    "tags": []
   },
   "outputs": [],
   "source": [
    "from fairness_multiverse.conformal import predict_conformal_sets\n",
    "\n",
    "# Generate prediction sets for each test example\n",
    "pred_sets = predict_conformal_sets(model, X_test, q_hat)"
   ]
  },
  {
   "cell_type": "code",
   "execution_count": 54,
   "id": "d90c9a65-e6db-4f5d-80cd-e68fb7e46829",
   "metadata": {
    "execution": {
     "iopub.execute_input": "2025-07-30T21:49:01.996944Z",
     "iopub.status.busy": "2025-07-30T21:49:01.996545Z",
     "iopub.status.idle": "2025-07-30T21:49:02.002203Z",
     "shell.execute_reply": "2025-07-30T21:49:02.001305Z"
    },
    "papermill": {
     "duration": 0.038637,
     "end_time": "2025-07-30T21:49:02.003698",
     "exception": false,
     "start_time": "2025-07-30T21:49:01.965061",
     "status": "completed"
    },
    "tags": []
   },
   "outputs": [],
   "source": [
    "y_true = y_true.squeeze()"
   ]
  },
  {
   "cell_type": "code",
   "execution_count": 55,
   "id": "3a58a54a-1e68-46b9-927a-df01f18aebc8",
   "metadata": {
    "execution": {
     "iopub.execute_input": "2025-07-30T21:49:02.055469Z",
     "iopub.status.busy": "2025-07-30T21:49:02.055059Z",
     "iopub.status.idle": "2025-07-30T21:49:02.912302Z",
     "shell.execute_reply": "2025-07-30T21:49:02.911316Z"
    },
    "papermill": {
     "duration": 0.884051,
     "end_time": "2025-07-30T21:49:02.914633",
     "exception": false,
     "start_time": "2025-07-30T21:49:02.030582",
     "status": "completed"
    },
    "tags": []
   },
   "outputs": [],
   "source": [
    "from fairness_multiverse.conformal import evaluate_sets\n",
    "\n",
    "# Evaluate coverage and average set size on test data\n",
    "metrics = evaluate_sets(pred_sets, y_true)"
   ]
  },
  {
   "cell_type": "markdown",
   "id": "2b569c12-9aaa-4c88-98c9-bbcd0cf3ebb8",
   "metadata": {
    "papermill": {
     "duration": 0.037324,
     "end_time": "2025-07-30T21:49:02.986733",
     "exception": false,
     "start_time": "2025-07-30T21:49:02.949409",
     "status": "completed"
    },
    "tags": []
   },
   "source": [
    "# CP Metrics"
   ]
  },
  {
   "cell_type": "code",
   "execution_count": 56,
   "id": "5ce0a5cb-201f-45a0-ade5-94c7f0bd6095",
   "metadata": {
    "execution": {
     "iopub.execute_input": "2025-07-30T21:49:03.060704Z",
     "iopub.status.busy": "2025-07-30T21:49:03.060167Z",
     "iopub.status.idle": "2025-07-30T21:49:03.067615Z",
     "shell.execute_reply": "2025-07-30T21:49:03.066547Z"
    },
    "papermill": {
     "duration": 0.046464,
     "end_time": "2025-07-30T21:49:03.069271",
     "exception": false,
     "start_time": "2025-07-30T21:49:03.022807",
     "status": "completed"
    },
    "tags": []
   },
   "outputs": [
    {
     "data": {
      "text/plain": [
       "{'coverage': 0.9094972689778175, 'avg_size': 1.219841712183703}"
      ]
     },
     "execution_count": 56,
     "metadata": {},
     "output_type": "execute_result"
    }
   ],
   "source": [
    "metrics"
   ]
  },
  {
   "cell_type": "code",
   "execution_count": 57,
   "id": "9b9a838d-31c9-430b-ae14-12baee460d17",
   "metadata": {
    "execution": {
     "iopub.execute_input": "2025-07-30T21:49:03.121392Z",
     "iopub.status.busy": "2025-07-30T21:49:03.120865Z",
     "iopub.status.idle": "2025-07-30T21:49:03.128144Z",
     "shell.execute_reply": "2025-07-30T21:49:03.127154Z"
    },
    "papermill": {
     "duration": 0.034216,
     "end_time": "2025-07-30T21:49:03.130069",
     "exception": false,
     "start_time": "2025-07-30T21:49:03.095853",
     "status": "completed"
    },
    "tags": []
   },
   "outputs": [],
   "source": [
    "example_universe = universe.copy()\n",
    "universe_training_year = example_universe.get(\"training_year\")\n",
    "universe_training_size = example_universe.get(\"training_size\")\n",
    "universe_scale = example_universe.get(\"scale\")\n",
    "universe_model = example_universe.get(\"model\")\n",
    "universe_exclude_features = example_universe.get(\"exclude_features\")\n",
    "universe_exclude_subgroups = example_universe.get(\"exclude_subgroups\")"
   ]
  },
  {
   "cell_type": "code",
   "execution_count": 58,
   "id": "f4b6a8ac-9dc0-4245-8a91-5b3b5999c4f9",
   "metadata": {
    "execution": {
     "iopub.execute_input": "2025-07-30T21:49:03.182142Z",
     "iopub.status.busy": "2025-07-30T21:49:03.181513Z",
     "iopub.status.idle": "2025-07-30T21:49:03.190312Z",
     "shell.execute_reply": "2025-07-30T21:49:03.189141Z"
    },
    "papermill": {
     "duration": 0.036277,
     "end_time": "2025-07-30T21:49:03.192285",
     "exception": false,
     "start_time": "2025-07-30T21:49:03.156008",
     "status": "completed"
    },
    "tags": []
   },
   "outputs": [],
   "source": [
    "cp_metrics_dict = {\n",
    "    \"universe_id\": [universe_id],\n",
    "    \"universe_training_year\": [universe_training_year],\n",
    "    \"universe_training_size\": [universe_training_size],\n",
    "    \"universe_scale\": [universe_scale],\n",
    "    \"universe_model\": [universe_model],\n",
    "    \"universe_exclude_features\": [universe_exclude_features],\n",
    "    \"universe_exclude_subgroups\": [universe_exclude_subgroups],\n",
    "    \"q_hat\": [q_hat],\n",
    "    \"coverage\": [metrics[\"coverage\"]],\n",
    "    \"avg_size\": [metrics[\"avg_size\"]],\n",
    "}"
   ]
  },
  {
   "cell_type": "code",
   "execution_count": 59,
   "id": "908acbb1-0371-4915-85ca-3fa520d2efe2",
   "metadata": {
    "execution": {
     "iopub.execute_input": "2025-07-30T21:49:03.256807Z",
     "iopub.status.busy": "2025-07-30T21:49:03.255860Z",
     "iopub.status.idle": "2025-07-30T21:49:03.265926Z",
     "shell.execute_reply": "2025-07-30T21:49:03.262996Z"
    },
    "papermill": {
     "duration": 0.050093,
     "end_time": "2025-07-30T21:49:03.268112",
     "exception": false,
     "start_time": "2025-07-30T21:49:03.218019",
     "status": "completed"
    },
    "tags": []
   },
   "outputs": [
    {
     "data": {
      "text/plain": [
       "{'universe_id': ['a6ecc213a6e51373e086491b750a29cd'],\n",
       " 'universe_training_year': ['2010_14'],\n",
       " 'universe_training_size': ['1k'],\n",
       " 'universe_scale': ['scale'],\n",
       " 'universe_model': ['elasticnet'],\n",
       " 'universe_exclude_features': ['age'],\n",
       " 'universe_exclude_subgroups': ['drop-non-german'],\n",
       " 'q_hat': [0.7708112106717043],\n",
       " 'coverage': [0.9094972689778175],\n",
       " 'avg_size': [1.219841712183703]}"
      ]
     },
     "execution_count": 59,
     "metadata": {},
     "output_type": "execute_result"
    }
   ],
   "source": [
    "cp_metrics_dict"
   ]
  },
  {
   "cell_type": "code",
   "execution_count": 60,
   "id": "33007efc-14e9-4ec6-97ac-56a455c82265",
   "metadata": {
    "execution": {
     "iopub.execute_input": "2025-07-30T21:49:03.330794Z",
     "iopub.status.busy": "2025-07-30T21:49:03.330317Z",
     "iopub.status.idle": "2025-07-30T21:49:03.338056Z",
     "shell.execute_reply": "2025-07-30T21:49:03.336953Z"
    },
    "papermill": {
     "duration": 0.049493,
     "end_time": "2025-07-30T21:49:03.340424",
     "exception": false,
     "start_time": "2025-07-30T21:49:03.290931",
     "status": "completed"
    },
    "tags": []
   },
   "outputs": [],
   "source": [
    "cp_metrics_df = pd.DataFrame(cp_metrics_dict)"
   ]
  },
  {
   "cell_type": "code",
   "execution_count": 61,
   "id": "db12611b-57b2-4910-b9d0-355adfd6e7bf",
   "metadata": {
    "execution": {
     "iopub.execute_input": "2025-07-30T21:49:03.418818Z",
     "iopub.status.busy": "2025-07-30T21:49:03.418197Z",
     "iopub.status.idle": "2025-07-30T21:49:03.444692Z",
     "shell.execute_reply": "2025-07-30T21:49:03.443292Z"
    },
    "papermill": {
     "duration": 0.076871,
     "end_time": "2025-07-30T21:49:03.455787",
     "exception": false,
     "start_time": "2025-07-30T21:49:03.378916",
     "status": "completed"
    },
    "tags": []
   },
   "outputs": [
    {
     "data": {
      "text/html": [
       "<div>\n",
       "<style scoped>\n",
       "    .dataframe tbody tr th:only-of-type {\n",
       "        vertical-align: middle;\n",
       "    }\n",
       "\n",
       "    .dataframe tbody tr th {\n",
       "        vertical-align: top;\n",
       "    }\n",
       "\n",
       "    .dataframe thead th {\n",
       "        text-align: right;\n",
       "    }\n",
       "</style>\n",
       "<table border=\"1\" class=\"dataframe\">\n",
       "  <thead>\n",
       "    <tr style=\"text-align: right;\">\n",
       "      <th></th>\n",
       "      <th>universe_id</th>\n",
       "      <th>universe_training_year</th>\n",
       "      <th>universe_training_size</th>\n",
       "      <th>universe_scale</th>\n",
       "      <th>universe_model</th>\n",
       "      <th>universe_exclude_features</th>\n",
       "      <th>universe_exclude_subgroups</th>\n",
       "      <th>q_hat</th>\n",
       "      <th>coverage</th>\n",
       "      <th>avg_size</th>\n",
       "    </tr>\n",
       "  </thead>\n",
       "  <tbody>\n",
       "    <tr>\n",
       "      <th>0</th>\n",
       "      <td>a6ecc213a6e51373e086491b750a29cd</td>\n",
       "      <td>2010_14</td>\n",
       "      <td>1k</td>\n",
       "      <td>scale</td>\n",
       "      <td>elasticnet</td>\n",
       "      <td>age</td>\n",
       "      <td>drop-non-german</td>\n",
       "      <td>0.770811</td>\n",
       "      <td>0.909497</td>\n",
       "      <td>1.219842</td>\n",
       "    </tr>\n",
       "  </tbody>\n",
       "</table>\n",
       "</div>"
      ],
      "text/plain": [
       "                        universe_id universe_training_year  \\\n",
       "0  a6ecc213a6e51373e086491b750a29cd                2010_14   \n",
       "\n",
       "  universe_training_size universe_scale universe_model  \\\n",
       "0                     1k          scale     elasticnet   \n",
       "\n",
       "  universe_exclude_features universe_exclude_subgroups     q_hat  coverage  \\\n",
       "0                       age            drop-non-german  0.770811  0.909497   \n",
       "\n",
       "   avg_size  \n",
       "0  1.219842  "
      ]
     },
     "execution_count": 61,
     "metadata": {},
     "output_type": "execute_result"
    }
   ],
   "source": [
    "cp_metrics_df"
   ]
  },
  {
   "cell_type": "code",
   "execution_count": 62,
   "id": "b7fbde55-a0a1-47e4-9af6-fe4a17fa8c61",
   "metadata": {
    "execution": {
     "iopub.execute_input": "2025-07-30T21:49:03.530298Z",
     "iopub.status.busy": "2025-07-30T21:49:03.529172Z",
     "iopub.status.idle": "2025-07-30T21:49:03.535900Z",
     "shell.execute_reply": "2025-07-30T21:49:03.534836Z"
    },
    "papermill": {
     "duration": 0.044617,
     "end_time": "2025-07-30T21:49:03.538070",
     "exception": false,
     "start_time": "2025-07-30T21:49:03.493453",
     "status": "completed"
    },
    "tags": []
   },
   "outputs": [],
   "source": [
    "# Conditional Coverage & looking at subgroups"
   ]
  },
  {
   "cell_type": "code",
   "execution_count": 63,
   "id": "027ae886-68dd-4141-96c7-805a5450e1ef",
   "metadata": {
    "execution": {
     "iopub.execute_input": "2025-07-30T21:49:03.612100Z",
     "iopub.status.busy": "2025-07-30T21:49:03.611453Z",
     "iopub.status.idle": "2025-07-30T21:49:03.897735Z",
     "shell.execute_reply": "2025-07-30T21:49:03.896601Z"
    },
    "papermill": {
     "duration": 0.324636,
     "end_time": "2025-07-30T21:49:03.899693",
     "exception": false,
     "start_time": "2025-07-30T21:49:03.575057",
     "status": "completed"
    },
    "tags": []
   },
   "outputs": [],
   "source": [
    "from fairness_multiverse.conformal import build_cp_groups\n",
    "\n",
    "cp_groups_df = build_cp_groups(pred_sets, y_true, X_test.index, org_test)\n",
    "#needs universe_id and setting"
   ]
  },
  {
   "cell_type": "code",
   "execution_count": 64,
   "id": "01d5802c-663a-4d1f-9d69-e036faaffbf7",
   "metadata": {
    "execution": {
     "iopub.execute_input": "2025-07-30T21:49:03.985004Z",
     "iopub.status.busy": "2025-07-30T21:49:03.982982Z",
     "iopub.status.idle": "2025-07-30T21:49:03.989847Z",
     "shell.execute_reply": "2025-07-30T21:49:03.988443Z"
    },
    "papermill": {
     "duration": 0.043774,
     "end_time": "2025-07-30T21:49:03.991740",
     "exception": false,
     "start_time": "2025-07-30T21:49:03.947966",
     "status": "completed"
    },
    "tags": []
   },
   "outputs": [],
   "source": [
    "#delete\n",
    "#cp_groups_df"
   ]
  },
  {
   "cell_type": "code",
   "execution_count": 65,
   "id": "fa424af1-d1eb-443d-b717-2d279ada8408",
   "metadata": {
    "execution": {
     "iopub.execute_input": "2025-07-30T21:49:04.069519Z",
     "iopub.status.busy": "2025-07-30T21:49:04.068877Z",
     "iopub.status.idle": "2025-07-30T21:49:04.074130Z",
     "shell.execute_reply": "2025-07-30T21:49:04.073013Z"
    },
    "papermill": {
     "duration": 0.04499,
     "end_time": "2025-07-30T21:49:04.076121",
     "exception": false,
     "start_time": "2025-07-30T21:49:04.031131",
     "status": "completed"
    },
    "tags": []
   },
   "outputs": [],
   "source": [
    "#delete\n",
    "#percentage = (cp_groups_df['nongerman_female'] == 1).mean() * 100\n",
    "#print(percentage)\n"
   ]
  },
  {
   "cell_type": "code",
   "execution_count": 66,
   "id": "6cbdab96-b2b2-45af-ad54-d0516db2e28d",
   "metadata": {
    "execution": {
     "iopub.execute_input": "2025-07-30T21:49:04.136864Z",
     "iopub.status.busy": "2025-07-30T21:49:04.136270Z",
     "iopub.status.idle": "2025-07-30T21:49:06.008389Z",
     "shell.execute_reply": "2025-07-30T21:49:06.007360Z"
    },
    "papermill": {
     "duration": 1.903533,
     "end_time": "2025-07-30T21:49:06.010109",
     "exception": false,
     "start_time": "2025-07-30T21:49:04.106576",
     "status": "completed"
    },
    "tags": []
   },
   "outputs": [],
   "source": [
    "# Define covered = 1 if true_label is in the predicted set\n",
    "cp_groups_df['covered'] = cp_groups_df.apply(\n",
    "    lambda r: int(r['true_label'] in r['pred_set']),\n",
    "    axis=1\n",
    ")"
   ]
  },
  {
   "cell_type": "code",
   "execution_count": 67,
   "id": "338ff529-1a6b-4b87-a931-8e4788d52aad",
   "metadata": {
    "execution": {
     "iopub.execute_input": "2025-07-30T21:49:06.043521Z",
     "iopub.status.busy": "2025-07-30T21:49:06.043190Z",
     "iopub.status.idle": "2025-07-30T21:49:06.047268Z",
     "shell.execute_reply": "2025-07-30T21:49:06.046540Z"
    },
    "papermill": {
     "duration": 0.022979,
     "end_time": "2025-07-30T21:49:06.048571",
     "exception": false,
     "start_time": "2025-07-30T21:49:06.025592",
     "status": "completed"
    },
    "tags": []
   },
   "outputs": [],
   "source": [
    "#cp_groups_df"
   ]
  },
  {
   "cell_type": "code",
   "execution_count": 68,
   "id": "90032e27-66df-4540-9169-4e89cfbaa758",
   "metadata": {
    "execution": {
     "iopub.execute_input": "2025-07-30T21:49:06.083224Z",
     "iopub.status.busy": "2025-07-30T21:49:06.082848Z",
     "iopub.status.idle": "2025-07-30T21:49:06.091607Z",
     "shell.execute_reply": "2025-07-30T21:49:06.090896Z"
    },
    "papermill": {
     "duration": 0.025193,
     "end_time": "2025-07-30T21:49:06.093127",
     "exception": false,
     "start_time": "2025-07-30T21:49:06.067934",
     "status": "completed"
    },
    "tags": []
   },
   "outputs": [],
   "source": [
    "subgroups = ['frau1','nongerman','nongerman_male','nongerman_female']\n",
    "\n",
    "# Conditional coverage for subgroup==1\n",
    "cond_coverage = {\n",
    "    g: cp_groups_df.loc[cp_groups_df[g]==1, 'covered'].mean()\n",
    "    for g in subgroups\n",
    "}"
   ]
  },
  {
   "cell_type": "code",
   "execution_count": 69,
   "id": "1e348fb1-b9c3-45bc-ba23-f016827a7e0d",
   "metadata": {
    "execution": {
     "iopub.execute_input": "2025-07-30T21:49:06.139657Z",
     "iopub.status.busy": "2025-07-30T21:49:06.139208Z",
     "iopub.status.idle": "2025-07-30T21:49:06.146260Z",
     "shell.execute_reply": "2025-07-30T21:49:06.145291Z"
    },
    "papermill": {
     "duration": 0.036723,
     "end_time": "2025-07-30T21:49:06.148270",
     "exception": false,
     "start_time": "2025-07-30T21:49:06.111547",
     "status": "completed"
    },
    "tags": []
   },
   "outputs": [
    {
     "data": {
      "text/plain": [
       "{'frau1': 0.9088017252999057,\n",
       " 'nongerman': 0.909897266041655,\n",
       " 'nongerman_male': 0.9256957579032694,\n",
       " 'nongerman_female': 0.8837555886736215}"
      ]
     },
     "execution_count": 69,
     "metadata": {},
     "output_type": "execute_result"
    }
   ],
   "source": [
    "cond_coverage"
   ]
  },
  {
   "cell_type": "code",
   "execution_count": 70,
   "id": "f5093324-c3dd-4d63-bc4c-8d945e5c8bbb",
   "metadata": {
    "execution": {
     "iopub.execute_input": "2025-07-30T21:49:06.208818Z",
     "iopub.status.busy": "2025-07-30T21:49:06.208279Z",
     "iopub.status.idle": "2025-07-30T21:49:06.216184Z",
     "shell.execute_reply": "2025-07-30T21:49:06.215213Z"
    },
    "papermill": {
     "duration": 0.040378,
     "end_time": "2025-07-30T21:49:06.217916",
     "exception": false,
     "start_time": "2025-07-30T21:49:06.177538",
     "status": "completed"
    },
    "tags": []
   },
   "outputs": [],
   "source": [
    "for subgroup, cov in cond_coverage.items():\n",
    "    cp_metrics_df[f\"cov_{subgroup}\"] = cov"
   ]
  },
  {
   "cell_type": "code",
   "execution_count": 71,
   "id": "6e872e10-dbe5-49e8-b554-5030c98ff75d",
   "metadata": {
    "execution": {
     "iopub.execute_input": "2025-07-30T21:49:06.279498Z",
     "iopub.status.busy": "2025-07-30T21:49:06.278989Z",
     "iopub.status.idle": "2025-07-30T21:49:06.297437Z",
     "shell.execute_reply": "2025-07-30T21:49:06.296444Z"
    },
    "papermill": {
     "duration": 0.050693,
     "end_time": "2025-07-30T21:49:06.299546",
     "exception": false,
     "start_time": "2025-07-30T21:49:06.248853",
     "status": "completed"
    },
    "tags": []
   },
   "outputs": [
    {
     "data": {
      "text/html": [
       "<div>\n",
       "<style scoped>\n",
       "    .dataframe tbody tr th:only-of-type {\n",
       "        vertical-align: middle;\n",
       "    }\n",
       "\n",
       "    .dataframe tbody tr th {\n",
       "        vertical-align: top;\n",
       "    }\n",
       "\n",
       "    .dataframe thead th {\n",
       "        text-align: right;\n",
       "    }\n",
       "</style>\n",
       "<table border=\"1\" class=\"dataframe\">\n",
       "  <thead>\n",
       "    <tr style=\"text-align: right;\">\n",
       "      <th></th>\n",
       "      <th>universe_id</th>\n",
       "      <th>universe_training_year</th>\n",
       "      <th>universe_training_size</th>\n",
       "      <th>universe_scale</th>\n",
       "      <th>universe_model</th>\n",
       "      <th>universe_exclude_features</th>\n",
       "      <th>universe_exclude_subgroups</th>\n",
       "      <th>q_hat</th>\n",
       "      <th>coverage</th>\n",
       "      <th>avg_size</th>\n",
       "      <th>cov_frau1</th>\n",
       "      <th>cov_nongerman</th>\n",
       "      <th>cov_nongerman_male</th>\n",
       "      <th>cov_nongerman_female</th>\n",
       "    </tr>\n",
       "  </thead>\n",
       "  <tbody>\n",
       "    <tr>\n",
       "      <th>0</th>\n",
       "      <td>a6ecc213a6e51373e086491b750a29cd</td>\n",
       "      <td>2010_14</td>\n",
       "      <td>1k</td>\n",
       "      <td>scale</td>\n",
       "      <td>elasticnet</td>\n",
       "      <td>age</td>\n",
       "      <td>drop-non-german</td>\n",
       "      <td>0.770811</td>\n",
       "      <td>0.909497</td>\n",
       "      <td>1.219842</td>\n",
       "      <td>0.908802</td>\n",
       "      <td>0.909897</td>\n",
       "      <td>0.925696</td>\n",
       "      <td>0.883756</td>\n",
       "    </tr>\n",
       "  </tbody>\n",
       "</table>\n",
       "</div>"
      ],
      "text/plain": [
       "                        universe_id universe_training_year  \\\n",
       "0  a6ecc213a6e51373e086491b750a29cd                2010_14   \n",
       "\n",
       "  universe_training_size universe_scale universe_model  \\\n",
       "0                     1k          scale     elasticnet   \n",
       "\n",
       "  universe_exclude_features universe_exclude_subgroups     q_hat  coverage  \\\n",
       "0                       age            drop-non-german  0.770811  0.909497   \n",
       "\n",
       "   avg_size  cov_frau1  cov_nongerman  cov_nongerman_male  \\\n",
       "0  1.219842   0.908802       0.909897            0.925696   \n",
       "\n",
       "   cov_nongerman_female  \n",
       "0              0.883756  "
      ]
     },
     "execution_count": 71,
     "metadata": {},
     "output_type": "execute_result"
    }
   ],
   "source": [
    "cp_metrics_df"
   ]
  },
  {
   "cell_type": "markdown",
   "id": "33774451",
   "metadata": {
    "papermill": {
     "duration": 0.028723,
     "end_time": "2025-07-30T21:49:06.357753",
     "exception": false,
     "start_time": "2025-07-30T21:49:06.329030",
     "status": "completed"
    },
    "tags": []
   },
   "source": [
    "# (Fairness) Metrics"
   ]
  },
  {
   "cell_type": "code",
   "execution_count": 72,
   "id": "debc5d62",
   "metadata": {
    "execution": {
     "iopub.execute_input": "2025-07-30T21:49:06.417132Z",
     "iopub.status.busy": "2025-07-30T21:49:06.416637Z",
     "iopub.status.idle": "2025-07-30T21:49:06.439567Z",
     "shell.execute_reply": "2025-07-30T21:49:06.438504Z"
    },
    "papermill": {
     "duration": 0.055319,
     "end_time": "2025-07-30T21:49:06.441766",
     "exception": false,
     "start_time": "2025-07-30T21:49:06.386447",
     "status": "completed"
    },
    "tags": []
   },
   "outputs": [],
   "source": [
    "# do I need to include maxdeutsch1.missing?\n",
    "\n",
    "import numpy as np\n",
    "\n",
    "colname_to_bin = \"maxdeutsch1\"\n",
    "majority_value = org_train[colname_to_bin].mode()[0]\n",
    "\n",
    "org_test[\"majmin\"] = np.where(org_test[colname_to_bin] == majority_value, \"majority\", \"minority\")"
   ]
  },
  {
   "cell_type": "code",
   "execution_count": 73,
   "id": "06a50de5",
   "metadata": {
    "execution": {
     "iopub.execute_input": "2025-07-30T21:49:06.503725Z",
     "iopub.status.busy": "2025-07-30T21:49:06.502841Z",
     "iopub.status.idle": "2025-07-30T21:49:09.296973Z",
     "shell.execute_reply": "2025-07-30T21:49:09.295803Z"
    },
    "papermill": {
     "duration": 2.82714,
     "end_time": "2025-07-30T21:49:09.299119",
     "exception": false,
     "start_time": "2025-07-30T21:49:06.471979",
     "status": "completed"
    },
    "tags": []
   },
   "outputs": [],
   "source": [
    "example_universe = universe.copy()\n",
    "example_universe[\"cutoff\"] = example_universe[\"cutoff\"][0]\n",
    "example_universe[\"eval_fairness_grouping\"] = example_universe[\"eval_fairness_grouping\"][0]\n",
    "fairness_dict, metric_frame = universe_analysis.compute_metrics(\n",
    "    example_universe,\n",
    "    y_pred_prob=probs_test,\n",
    "    y_test=y_true,\n",
    "    org_test=org_test,\n",
    ")"
   ]
  },
  {
   "cell_type": "markdown",
   "id": "f95d4e02",
   "metadata": {
    "papermill": {
     "duration": 0.029289,
     "end_time": "2025-07-30T21:49:09.360726",
     "exception": false,
     "start_time": "2025-07-30T21:49:09.331437",
     "status": "completed"
    },
    "tags": []
   },
   "source": [
    "# Overall"
   ]
  },
  {
   "cell_type": "markdown",
   "id": "bdee4871",
   "metadata": {
    "papermill": {
     "duration": 0.029869,
     "end_time": "2025-07-30T21:49:09.420814",
     "exception": false,
     "start_time": "2025-07-30T21:49:09.390945",
     "status": "completed"
    },
    "tags": []
   },
   "source": [
    "Fairness\n",
    "Main fairness target: Equalized Odds. Seems to be a better fit than equal opportunity, since we're not only interested in Y = 1. Seems to be a better fit than demographic parity, since we also care about accuracy, not just equal distribution of preds.\n",
    "\n",
    "Pick column for computation of fairness metrics\n",
    "\n",
    "Performance\n",
    "Overall performance measures, most interesting in relation to the measures split by group below"
   ]
  },
  {
   "cell_type": "code",
   "execution_count": 74,
   "id": "c4e067c6",
   "metadata": {
    "execution": {
     "iopub.execute_input": "2025-07-30T21:49:09.483137Z",
     "iopub.status.busy": "2025-07-30T21:49:09.482681Z",
     "iopub.status.idle": "2025-07-30T21:49:09.492671Z",
     "shell.execute_reply": "2025-07-30T21:49:09.491345Z"
    },
    "papermill": {
     "duration": 0.042361,
     "end_time": "2025-07-30T21:49:09.494437",
     "exception": false,
     "start_time": "2025-07-30T21:49:09.452076",
     "status": "completed"
    },
    "tags": []
   },
   "outputs": [
    {
     "data": {
      "text/plain": [
       "accuracy                   0.218337\n",
       "balanced accuracy          0.535128\n",
       "f1                         0.239834\n",
       "precision                  0.137009\n",
       "false positive rate        0.890987\n",
       "false negative rate        0.038756\n",
       "selection rate             0.900000\n",
       "count                  89710.000000\n",
       "dtype: float64"
      ]
     },
     "execution_count": 74,
     "metadata": {},
     "output_type": "execute_result"
    }
   ],
   "source": [
    "metric_frame.overall"
   ]
  },
  {
   "cell_type": "markdown",
   "id": "e968fe9d",
   "metadata": {
    "papermill": {
     "duration": 0.02554,
     "end_time": "2025-07-30T21:49:09.546749",
     "exception": false,
     "start_time": "2025-07-30T21:49:09.521209",
     "status": "completed"
    },
    "tags": []
   },
   "source": [
    "By Group"
   ]
  },
  {
   "cell_type": "code",
   "execution_count": 75,
   "id": "ec325bce",
   "metadata": {
    "execution": {
     "iopub.execute_input": "2025-07-30T21:49:09.601440Z",
     "iopub.status.busy": "2025-07-30T21:49:09.600739Z",
     "iopub.status.idle": "2025-07-30T21:49:09.618984Z",
     "shell.execute_reply": "2025-07-30T21:49:09.617982Z"
    },
    "papermill": {
     "duration": 0.047288,
     "end_time": "2025-07-30T21:49:09.620775",
     "exception": false,
     "start_time": "2025-07-30T21:49:09.573487",
     "status": "completed"
    },
    "tags": []
   },
   "outputs": [
    {
     "data": {
      "text/html": [
       "<div>\n",
       "<style scoped>\n",
       "    .dataframe tbody tr th:only-of-type {\n",
       "        vertical-align: middle;\n",
       "    }\n",
       "\n",
       "    .dataframe tbody tr th {\n",
       "        vertical-align: top;\n",
       "    }\n",
       "\n",
       "    .dataframe thead th {\n",
       "        text-align: right;\n",
       "    }\n",
       "</style>\n",
       "<table border=\"1\" class=\"dataframe\">\n",
       "  <thead>\n",
       "    <tr style=\"text-align: right;\">\n",
       "      <th></th>\n",
       "      <th>accuracy</th>\n",
       "      <th>balanced accuracy</th>\n",
       "      <th>f1</th>\n",
       "      <th>precision</th>\n",
       "      <th>false positive rate</th>\n",
       "      <th>false negative rate</th>\n",
       "      <th>selection rate</th>\n",
       "      <th>count</th>\n",
       "    </tr>\n",
       "    <tr>\n",
       "      <th>majmin</th>\n",
       "      <th></th>\n",
       "      <th></th>\n",
       "      <th></th>\n",
       "      <th></th>\n",
       "      <th></th>\n",
       "      <th></th>\n",
       "      <th></th>\n",
       "      <th></th>\n",
       "    </tr>\n",
       "  </thead>\n",
       "  <tbody>\n",
       "    <tr>\n",
       "      <th>majority</th>\n",
       "      <td>0.231068</td>\n",
       "      <td>0.539003</td>\n",
       "      <td>0.247613</td>\n",
       "      <td>0.142191</td>\n",
       "      <td>0.879544</td>\n",
       "      <td>0.042451</td>\n",
       "      <td>0.889851</td>\n",
       "      <td>69170.0</td>\n",
       "    </tr>\n",
       "    <tr>\n",
       "      <th>minority</th>\n",
       "      <td>0.175463</td>\n",
       "      <td>0.523358</td>\n",
       "      <td>0.214325</td>\n",
       "      <td>0.120388</td>\n",
       "      <td>0.928792</td>\n",
       "      <td>0.024493</td>\n",
       "      <td>0.934177</td>\n",
       "      <td>20540.0</td>\n",
       "    </tr>\n",
       "  </tbody>\n",
       "</table>\n",
       "</div>"
      ],
      "text/plain": [
       "          accuracy  balanced accuracy        f1  precision  \\\n",
       "majmin                                                       \n",
       "majority  0.231068           0.539003  0.247613   0.142191   \n",
       "minority  0.175463           0.523358  0.214325   0.120388   \n",
       "\n",
       "          false positive rate  false negative rate  selection rate    count  \n",
       "majmin                                                                       \n",
       "majority             0.879544             0.042451        0.889851  69170.0  \n",
       "minority             0.928792             0.024493        0.934177  20540.0  "
      ]
     },
     "execution_count": 75,
     "metadata": {},
     "output_type": "execute_result"
    }
   ],
   "source": [
    "metric_frame.by_group"
   ]
  },
  {
   "cell_type": "code",
   "execution_count": 76,
   "id": "a9ddbe63",
   "metadata": {
    "execution": {
     "iopub.execute_input": "2025-07-30T21:49:09.674146Z",
     "iopub.status.busy": "2025-07-30T21:49:09.673675Z",
     "iopub.status.idle": "2025-07-30T21:49:12.017566Z",
     "shell.execute_reply": "2025-07-30T21:49:12.016527Z"
    },
    "papermill": {
     "duration": 2.371436,
     "end_time": "2025-07-30T21:49:12.019231",
     "exception": false,
     "start_time": "2025-07-30T21:49:09.647795",
     "status": "completed"
    },
    "tags": []
   },
   "outputs": [
    {
     "data": {
      "text/plain": [
       "array([[<Axes: title={'center': 'accuracy'}, xlabel='majmin'>,\n",
       "        <Axes: title={'center': 'balanced accuracy'}, xlabel='majmin'>,\n",
       "        <Axes: title={'center': 'f1'}, xlabel='majmin'>],\n",
       "       [<Axes: title={'center': 'precision'}, xlabel='majmin'>,\n",
       "        <Axes: title={'center': 'false positive rate'}, xlabel='majmin'>,\n",
       "        <Axes: title={'center': 'false negative rate'}, xlabel='majmin'>],\n",
       "       [<Axes: title={'center': 'selection rate'}, xlabel='majmin'>,\n",
       "        <Axes: title={'center': 'count'}, xlabel='majmin'>,\n",
       "        <Axes: xlabel='majmin'>]], dtype=object)"
      ]
     },
     "execution_count": 76,
     "metadata": {},
     "output_type": "execute_result"
    },
    {
     "data": {
      "image/png": "[encoded data removed]",
      "text/plain": [
       "<Figure size 1200x800 with 9 Axes>"
      ]
     },
     "metadata": {},
     "output_type": "display_data"
    }
   ],
   "source": [
    "# In a graphic\n",
    "metric_frame.by_group.plot.bar(\n",
    "    subplots=True,\n",
    "    layout=[3, 3],\n",
    "    legend=False,\n",
    "    figsize=[12, 8],\n",
    "    title=\"Show all metrics\",\n",
    ")"
   ]
  },
  {
   "cell_type": "markdown",
   "id": "f57a0bac",
   "metadata": {
    "papermill": {
     "duration": 0.032165,
     "end_time": "2025-07-30T21:49:12.086128",
     "exception": false,
     "start_time": "2025-07-30T21:49:12.053963",
     "status": "completed"
    },
    "tags": []
   },
   "source": [
    "# Final Output"
   ]
  },
  {
   "cell_type": "code",
   "execution_count": 77,
   "id": "96d280a3",
   "metadata": {
    "execution": {
     "iopub.execute_input": "2025-07-30T21:49:12.150808Z",
     "iopub.status.busy": "2025-07-30T21:49:12.150153Z",
     "iopub.status.idle": "2025-07-30T21:49:12.158808Z",
     "shell.execute_reply": "2025-07-30T21:49:12.157756Z"
    },
    "papermill": {
     "duration": 0.042883,
     "end_time": "2025-07-30T21:49:12.160461",
     "exception": false,
     "start_time": "2025-07-30T21:49:12.117578",
     "status": "completed"
    },
    "tags": []
   },
   "outputs": [
    {
     "data": {
      "text/plain": [
       "4"
      ]
     },
     "execution_count": 77,
     "metadata": {},
     "output_type": "execute_result"
    }
   ],
   "source": [
    "sub_universes = universe_analysis.generate_sub_universes()\n",
    "len(sub_universes)"
   ]
  },
  {
   "cell_type": "code",
   "execution_count": 78,
   "id": "92adf7ba",
   "metadata": {
    "execution": {
     "iopub.execute_input": "2025-07-30T21:49:12.227826Z",
     "iopub.status.busy": "2025-07-30T21:49:12.227083Z",
     "iopub.status.idle": "2025-07-30T21:49:12.233667Z",
     "shell.execute_reply": "2025-07-30T21:49:12.232542Z"
    },
    "papermill": {
     "duration": 0.04287,
     "end_time": "2025-07-30T21:49:12.235412",
     "exception": false,
     "start_time": "2025-07-30T21:49:12.192542",
     "status": "completed"
    },
    "tags": []
   },
   "outputs": [],
   "source": [
    "def filter_sub_universe_data(sub_universe, org_test):\n",
    "    # Keep all rows — no filtering\n",
    "    keep_rows_mask = np.ones(org_test.shape[0], dtype=bool)\n",
    "\n",
    "    print(f\"[INFO] Keeping all rows: {keep_rows_mask.sum()} rows retained.\")\n",
    "    return keep_rows_mask"
   ]
  },
  {
   "cell_type": "code",
   "execution_count": 79,
   "id": "4a759155",
   "metadata": {
    "execution": {
     "iopub.execute_input": "2025-07-30T21:49:12.302548Z",
     "iopub.status.busy": "2025-07-30T21:49:12.301695Z",
     "iopub.status.idle": "2025-07-30T21:49:22.483606Z",
     "shell.execute_reply": "2025-07-30T21:49:22.482758Z"
    },
    "papermill": {
     "duration": 10.216284,
     "end_time": "2025-07-30T21:49:22.485150",
     "exception": false,
     "start_time": "2025-07-30T21:49:12.268866",
     "status": "completed"
    },
    "tags": []
   },
   "outputs": [
    {
     "name": "stdout",
     "output_type": "stream",
     "text": [
      "Stopping execution_time clock.\n",
      "[INFO] Keeping all rows: 89710 rows retained.\n"
     ]
    },
    {
     "name": "stdout",
     "output_type": "stream",
     "text": [
      "[INFO] Keeping all rows: 89710 rows retained.\n"
     ]
    },
    {
     "name": "stdout",
     "output_type": "stream",
     "text": [
      "[INFO] Keeping all rows: 89710 rows retained.\n"
     ]
    },
    {
     "name": "stdout",
     "output_type": "stream",
     "text": [
      "[INFO] Keeping all rows: 89710 rows retained.\n"
     ]
    },
    {
     "data": {
      "text/html": [
       "<div>\n",
       "<style scoped>\n",
       "    .dataframe tbody tr th:only-of-type {\n",
       "        vertical-align: middle;\n",
       "    }\n",
       "\n",
       "    .dataframe tbody tr th {\n",
       "        vertical-align: top;\n",
       "    }\n",
       "\n",
       "    .dataframe thead th {\n",
       "        text-align: right;\n",
       "    }\n",
       "</style>\n",
       "<table border=\"1\" class=\"dataframe\">\n",
       "  <thead>\n",
       "    <tr style=\"text-align: right;\">\n",
       "      <th></th>\n",
       "      <th>run_no</th>\n",
       "      <th>universe_id</th>\n",
       "      <th>universe_settings</th>\n",
       "      <th>execution_time</th>\n",
       "      <th>test_size_n</th>\n",
       "      <th>test_size_frac</th>\n",
       "      <th>fair_main_equalized_odds_difference</th>\n",
       "      <th>fair_main_equalized_odds_ratio</th>\n",
       "      <th>fair_main_demographic_parity_difference</th>\n",
       "      <th>fair_main_demographic_parity_ratio</th>\n",
       "      <th>...</th>\n",
       "      <th>perf_grp_precision_0</th>\n",
       "      <th>perf_grp_precision_1</th>\n",
       "      <th>perf_grp_false positive rate_0</th>\n",
       "      <th>perf_grp_false positive rate_1</th>\n",
       "      <th>perf_grp_false negative rate_0</th>\n",
       "      <th>perf_grp_false negative rate_1</th>\n",
       "      <th>perf_grp_selection rate_0</th>\n",
       "      <th>perf_grp_selection rate_1</th>\n",
       "      <th>perf_grp_count_0</th>\n",
       "      <th>perf_grp_count_1</th>\n",
       "    </tr>\n",
       "  </thead>\n",
       "  <tbody>\n",
       "    <tr>\n",
       "      <th>0</th>\n",
       "      <td>14</td>\n",
       "      <td>a6ecc213a6e51373e086491b750a29cd</td>\n",
       "      <td>{\"cutoff\": \"quantile_0.1\", \"eval_fairness_grou...</td>\n",
       "      <td>29.361314</td>\n",
       "      <td>89710</td>\n",
       "      <td>1.0</td>\n",
       "      <td>0.049248</td>\n",
       "      <td>0.946976</td>\n",
       "      <td>0.044326</td>\n",
       "      <td>0.952551</td>\n",
       "      <td>...</td>\n",
       "      <td>NaN</td>\n",
       "      <td>NaN</td>\n",
       "      <td>NaN</td>\n",
       "      <td>NaN</td>\n",
       "      <td>NaN</td>\n",
       "      <td>NaN</td>\n",
       "      <td>NaN</td>\n",
       "      <td>NaN</td>\n",
       "      <td>NaN</td>\n",
       "      <td>NaN</td>\n",
       "    </tr>\n",
       "    <tr>\n",
       "      <th>0</th>\n",
       "      <td>14</td>\n",
       "      <td>a6ecc213a6e51373e086491b750a29cd</td>\n",
       "      <td>{\"cutoff\": \"quantile_0.1\", \"eval_fairness_grou...</td>\n",
       "      <td>29.361314</td>\n",
       "      <td>89710</td>\n",
       "      <td>1.0</td>\n",
       "      <td>0.049248</td>\n",
       "      <td>0.946976</td>\n",
       "      <td>0.044326</td>\n",
       "      <td>0.952551</td>\n",
       "      <td>...</td>\n",
       "      <td>0.120388</td>\n",
       "      <td>0.142191</td>\n",
       "      <td>0.928792</td>\n",
       "      <td>0.879544</td>\n",
       "      <td>0.024493</td>\n",
       "      <td>0.042451</td>\n",
       "      <td>0.934177</td>\n",
       "      <td>0.889851</td>\n",
       "      <td>20540.0</td>\n",
       "      <td>69170.0</td>\n",
       "    </tr>\n",
       "    <tr>\n",
       "      <th>0</th>\n",
       "      <td>14</td>\n",
       "      <td>a6ecc213a6e51373e086491b750a29cd</td>\n",
       "      <td>{\"cutoff\": \"quantile_0.25\", \"eval_fairness_gro...</td>\n",
       "      <td>29.361314</td>\n",
       "      <td>89710</td>\n",
       "      <td>1.0</td>\n",
       "      <td>0.135501</td>\n",
       "      <td>0.837545</td>\n",
       "      <td>0.122188</td>\n",
       "      <td>0.855263</td>\n",
       "      <td>...</td>\n",
       "      <td>NaN</td>\n",
       "      <td>NaN</td>\n",
       "      <td>NaN</td>\n",
       "      <td>NaN</td>\n",
       "      <td>NaN</td>\n",
       "      <td>NaN</td>\n",
       "      <td>NaN</td>\n",
       "      <td>NaN</td>\n",
       "      <td>NaN</td>\n",
       "      <td>NaN</td>\n",
       "    </tr>\n",
       "    <tr>\n",
       "      <th>0</th>\n",
       "      <td>14</td>\n",
       "      <td>a6ecc213a6e51373e086491b750a29cd</td>\n",
       "      <td>{\"cutoff\": \"quantile_0.25\", \"eval_fairness_gro...</td>\n",
       "      <td>29.361314</td>\n",
       "      <td>89710</td>\n",
       "      <td>1.0</td>\n",
       "      <td>0.135501</td>\n",
       "      <td>0.837545</td>\n",
       "      <td>0.122188</td>\n",
       "      <td>0.855263</td>\n",
       "      <td>...</td>\n",
       "      <td>0.125894</td>\n",
       "      <td>0.160306</td>\n",
       "      <td>0.834085</td>\n",
       "      <td>0.698584</td>\n",
       "      <td>0.078125</td>\n",
       "      <td>0.124070</td>\n",
       "      <td>0.844206</td>\n",
       "      <td>0.722018</td>\n",
       "      <td>20540.0</td>\n",
       "      <td>69170.0</td>\n",
       "    </tr>\n",
       "  </tbody>\n",
       "</table>\n",
       "<p>4 rows × 50 columns</p>\n",
       "</div>"
      ],
      "text/plain": [
       "  run_no                       universe_id  \\\n",
       "0     14  a6ecc213a6e51373e086491b750a29cd   \n",
       "0     14  a6ecc213a6e51373e086491b750a29cd   \n",
       "0     14  a6ecc213a6e51373e086491b750a29cd   \n",
       "0     14  a6ecc213a6e51373e086491b750a29cd   \n",
       "\n",
       "                                   universe_settings  execution_time  \\\n",
       "0  {\"cutoff\": \"quantile_0.1\", \"eval_fairness_grou...       29.361314   \n",
       "0  {\"cutoff\": \"quantile_0.1\", \"eval_fairness_grou...       29.361314   \n",
       "0  {\"cutoff\": \"quantile_0.25\", \"eval_fairness_gro...       29.361314   \n",
       "0  {\"cutoff\": \"quantile_0.25\", \"eval_fairness_gro...       29.361314   \n",
       "\n",
       "   test_size_n  test_size_frac  fair_main_equalized_odds_difference  \\\n",
       "0        89710             1.0                             0.049248   \n",
       "0        89710             1.0                             0.049248   \n",
       "0        89710             1.0                             0.135501   \n",
       "0        89710             1.0                             0.135501   \n",
       "\n",
       "   fair_main_equalized_odds_ratio  fair_main_demographic_parity_difference  \\\n",
       "0                        0.946976                                 0.044326   \n",
       "0                        0.946976                                 0.044326   \n",
       "0                        0.837545                                 0.122188   \n",
       "0                        0.837545                                 0.122188   \n",
       "\n",
       "   fair_main_demographic_parity_ratio  ...  perf_grp_precision_0  \\\n",
       "0                            0.952551  ...                   NaN   \n",
       "0                            0.952551  ...              0.120388   \n",
       "0                            0.855263  ...                   NaN   \n",
       "0                            0.855263  ...              0.125894   \n",
       "\n",
       "   perf_grp_precision_1  perf_grp_false positive rate_0  \\\n",
       "0                   NaN                             NaN   \n",
       "0              0.142191                        0.928792   \n",
       "0                   NaN                             NaN   \n",
       "0              0.160306                        0.834085   \n",
       "\n",
       "   perf_grp_false positive rate_1  perf_grp_false negative rate_0  \\\n",
       "0                             NaN                             NaN   \n",
       "0                        0.879544                        0.024493   \n",
       "0                             NaN                             NaN   \n",
       "0                        0.698584                        0.078125   \n",
       "\n",
       "   perf_grp_false negative rate_1  perf_grp_selection rate_0  \\\n",
       "0                             NaN                        NaN   \n",
       "0                        0.042451                   0.934177   \n",
       "0                             NaN                        NaN   \n",
       "0                        0.124070                   0.844206   \n",
       "\n",
       "   perf_grp_selection rate_1  perf_grp_count_0  perf_grp_count_1  \n",
       "0                        NaN               NaN               NaN  \n",
       "0                   0.889851           20540.0           69170.0  \n",
       "0                        NaN               NaN               NaN  \n",
       "0                   0.722018           20540.0           69170.0  \n",
       "\n",
       "[4 rows x 50 columns]"
      ]
     },
     "execution_count": 79,
     "metadata": {},
     "output_type": "execute_result"
    }
   ],
   "source": [
    "final_output = universe_analysis.generate_final_output(\n",
    "    y_pred_prob=probs_test,\n",
    "    y_test=y_true,\n",
    "    org_test=org_test,\n",
    "    filter_data=filter_sub_universe_data,\n",
    "    cp_metrics_df=cp_metrics_df,\n",
    "    save=True,\n",
    ")\n",
    "final_output"
   ]
  },
  {
   "cell_type": "code",
   "execution_count": null,
   "id": "721ff514-cb11-46f8-b6fc-50392f74b5cb",
   "metadata": {
    "papermill": {
     "duration": 0.0279,
     "end_time": "2025-07-30T21:49:22.545088",
     "exception": false,
     "start_time": "2025-07-30T21:49:22.517188",
     "status": "completed"
    },
    "tags": []
   },
   "outputs": [],
   "source": []
  }
 ],
 "metadata": {
  "celltoolbar": "Tags",
  "kernelspec": {
   "display_name": "Python (CMA Fairness)",
   "language": "python",
   "name": "cma_fair_env"
  },
  "language_info": {
   "codemirror_mode": {
    "name": "ipython",
    "version": 3
   },
   "file_extension": ".py",
   "mimetype": "text/x-python",
   "name": "python",
   "nbconvert_exporter": "python",
   "pygments_lexer": "ipython3",
   "version": "3.10.12"
  },
  "papermill": {
   "default_parameters": {},
   "duration": 43.650576,
   "end_time": "2025-07-30T21:49:23.293228",
   "environment_variables": {},
   "exception": null,
   "input_path": "universe_analysis.ipynb",
   "output_path": "output/runs/14/notebooks/m_14-a6ecc213a6e51373e086491b750a29cd.ipynb",
   "parameters": {
    "output_dir": "output",
    "run_no": "14",
    "seed": "2023",
    "universe": "{\"cutoff\": [\"quantile_0.1\", \"quantile_0.25\"], \"eval_fairness_grouping\": [\"majority-minority\", \"nationality-all\"], \"exclude_features\": \"age\", \"exclude_subgroups\": \"drop-non-german\", \"model\": \"elasticnet\", \"scale\": \"scale\", \"training_size\": \"1k\", \"training_year\": \"2010_14\"}",
    "universe_id": "a6ecc213a6e51373e086491b750a29cd"
   },
   "start_time": "2025-07-30T21:48:39.642652",
   "version": "2.6.0"
  }
 },
 "nbformat": 4,
 "nbformat_minor": 5
}