{
 "cells": [
  {
   "cell_type": "code",
   "execution_count": 1,
   "id": "f159f837-637b-42ba-96b5-ec9a68c44524",
   "metadata": {
    "execution": {
     "iopub.execute_input": "2025-07-30T20:44:23.285439Z",
     "iopub.status.busy": "2025-07-30T20:44:23.284959Z",
     "iopub.status.idle": "2025-07-30T20:44:23.297421Z",
     "shell.execute_reply": "2025-07-30T20:44:23.296499Z"
    },
    "papermill": {
     "duration": 0.035248,
     "end_time": "2025-07-30T20:44:23.298836",
     "exception": false,
     "start_time": "2025-07-30T20:44:23.263588",
     "status": "completed"
    },
    "tags": []
   },
   "outputs": [
    {
     "name": "stdout",
     "output_type": "stream",
     "text": [
      "/dss/dsshome1/0C/ra93lal2/cma/CMA_Fairness_v2\n"
     ]
    },
    {
     "name": "stderr",
     "output_type": "stream",
     "text": [
      "/dss/dsshome1/0C/ra93lal2/.local/share/virtualenvs/CMA_Fairness_v2-3j10GkSs/lib/python3.10/site-packages/IPython/core/magics/osm.py:393: UserWarning: This is now an optional IPython functionality, using bookmarks requires you to install the `pickleshare` library.\n",
      "  bkms = self.shell.db.get('bookmarks', {})\n",
      "/dss/dsshome1/0C/ra93lal2/.local/share/virtualenvs/CMA_Fairness_v2-3j10GkSs/lib/python3.10/site-packages/IPython/core/magics/osm.py:417: UserWarning: This is now an optional IPython functionality, setting dhist requires you to install the `pickleshare` library.\n",
      "  self.shell.db['dhist'] = compress_dhist(dhist)[-100:]\n"
     ]
    }
   ],
   "source": [
    "%cd ~/cma/CMA_Fairness_v2"
   ]
  },
  {
   "cell_type": "markdown",
   "id": "de2603b9",
   "metadata": {
    "papermill": {
     "duration": 0.018104,
     "end_time": "2025-07-30T20:44:23.335578",
     "exception": false,
     "start_time": "2025-07-30T20:44:23.317474",
     "status": "completed"
    },
    "tags": []
   },
   "source": [
    "The following cell holds the definition of our parameters, these values can be overriden by rendering the with e.g. the following command:\n",
    "\n",
    "papermill -p alpha 0.2 -p ratio 0.3 universe_analysis.ipynb output/test_run.ipynb"
   ]
  },
  {
   "cell_type": "code",
   "execution_count": 2,
   "id": "a80968a0-40bb-4fa9-85ef-2d5eefb01975",
   "metadata": {
    "execution": {
     "iopub.execute_input": "2025-07-30T20:44:23.372610Z",
     "iopub.status.busy": "2025-07-30T20:44:23.371965Z",
     "iopub.status.idle": "2025-07-30T20:44:23.377622Z",
     "shell.execute_reply": "2025-07-30T20:44:23.376803Z"
    },
    "papermill": {
     "duration": 0.026022,
     "end_time": "2025-07-30T20:44:23.379113",
     "exception": false,
     "start_time": "2025-07-30T20:44:23.353091",
     "status": "completed"
    },
    "tags": []
   },
   "outputs": [
    {
     "name": "stdout",
     "output_type": "stream",
     "text": [
      "Current working directory: /dss/dsshome1/0C/ra93lal2/cma/CMA_Fairness_v2\n"
     ]
    }
   ],
   "source": [
    "import os\n",
    "print(\"Current working directory:\", os.getcwd())"
   ]
  },
  {
   "cell_type": "code",
   "execution_count": 3,
   "id": "2dce4c03",
   "metadata": {
    "execution": {
     "iopub.execute_input": "2025-07-30T20:44:23.418723Z",
     "iopub.status.busy": "2025-07-30T20:44:23.418120Z",
     "iopub.status.idle": "2025-07-30T20:44:23.424175Z",
     "shell.execute_reply": "2025-07-30T20:44:23.423263Z"
    },
    "papermill": {
     "duration": 0.027702,
     "end_time": "2025-07-30T20:44:23.425671",
     "exception": false,
     "start_time": "2025-07-30T20:44:23.397969",
     "status": "completed"
    },
    "tags": [
     "parameters"
    ]
   },
   "outputs": [],
   "source": [
    "run_no = 0\n",
    "universe_id = \"test\"\n",
    "universe = {\n",
    "    \"training_size\": \"25k\", # \"25k\", \"5k\", \"1k\"\n",
    "    \"training_year\": \"2014\", # \"2014\", \"2012_14\", \"2010_14\"\n",
    "    \"scale\": \"scale\", # \"scale\", \"do-not-scale\",\n",
    "    #\"stratify_split\": \"target\", # \"none\", \"target\", \"protected-attribute\", \"both\",\n",
    "    \"model\": \"elasticnet\", # \"logreg\", \"penalized_logreg\", \"rf\", \"gbm\", \"elasticnet\"\n",
    "    \"cutoff\": [\"quantile_0.15\", \"quantile_0.30\"],\n",
    "    \"exclude_features\": \"age\", # \"none\", \"nationality\", \"sex\", \"nationality-sex\", \"age\"\n",
    "    \"exclude_subgroups\": \"keep-all\", # \"keep-all\", \"drop-non-german\"\n",
    "    \"eval_fairness_grouping\": [\"majority-minority\", \"nationality-all\"]\n",
    "}\n",
    "\n",
    "output_dir=\"./output\"\n",
    "seed=0"
   ]
  },
  {
   "cell_type": "code",
   "execution_count": 4,
   "id": "5c44c79b",
   "metadata": {
    "execution": {
     "iopub.execute_input": "2025-07-30T20:44:23.504021Z",
     "iopub.status.busy": "2025-07-30T20:44:23.503404Z",
     "iopub.status.idle": "2025-07-30T20:44:23.508431Z",
     "shell.execute_reply": "2025-07-30T20:44:23.507628Z"
    },
    "papermill": {
     "duration": 0.025808,
     "end_time": "2025-07-30T20:44:23.510106",
     "exception": false,
     "start_time": "2025-07-30T20:44:23.484298",
     "status": "completed"
    },
    "tags": [
     "injected-parameters"
    ]
   },
   "outputs": [],
   "source": [
    "# Parameters\n",
    "universe_id = \"268b1b88a8184128cbcf23d6d669432b\"\n",
    "run_no = \"14\"\n",
    "universe = \"{\\\"cutoff\\\": [\\\"quantile_0.1\\\", \\\"quantile_0.25\\\"], \\\"eval_fairness_grouping\\\": [\\\"majority-minority\\\", \\\"nationality-all\\\"], \\\"exclude_features\\\": \\\"nationality\\\", \\\"exclude_subgroups\\\": \\\"keep-all\\\", \\\"model\\\": \\\"penalized_logreg\\\", \\\"scale\\\": \\\"scale\\\", \\\"training_size\\\": \\\"5k\\\", \\\"training_year\\\": \\\"2014\\\"}\"\n",
    "output_dir = \"output\"\n",
    "seed = \"2023\"\n"
   ]
  },
  {
   "cell_type": "code",
   "execution_count": 5,
   "id": "1650acaf",
   "metadata": {
    "execution": {
     "iopub.execute_input": "2025-07-30T20:44:23.549922Z",
     "iopub.status.busy": "2025-07-30T20:44:23.549308Z",
     "iopub.status.idle": "2025-07-30T20:44:23.554526Z",
     "shell.execute_reply": "2025-07-30T20:44:23.553687Z"
    },
    "papermill": {
     "duration": 0.02569,
     "end_time": "2025-07-30T20:44:23.556002",
     "exception": false,
     "start_time": "2025-07-30T20:44:23.530312",
     "status": "completed"
    },
    "tags": []
   },
   "outputs": [],
   "source": [
    "import json\n",
    "# Parse universe into dict if it is passed as a string\n",
    "if isinstance(universe, str):\n",
    "    universe = json.loads(universe)"
   ]
  },
  {
   "cell_type": "code",
   "execution_count": 6,
   "id": "16620c48",
   "metadata": {
    "execution": {
     "iopub.execute_input": "2025-07-30T20:44:23.594937Z",
     "iopub.status.busy": "2025-07-30T20:44:23.594517Z",
     "iopub.status.idle": "2025-07-30T20:44:23.639066Z",
     "shell.execute_reply": "2025-07-30T20:44:23.637999Z"
    },
    "papermill": {
     "duration": 0.065511,
     "end_time": "2025-07-30T20:44:23.640916",
     "exception": false,
     "start_time": "2025-07-30T20:44:23.575405",
     "status": "completed"
    },
    "tags": []
   },
   "outputs": [],
   "source": [
    "# Auto-reload the custom package\n",
    "%load_ext autoreload\n",
    "%autoreload 1\n",
    "%aimport fairness_multiverse"
   ]
  },
  {
   "cell_type": "code",
   "execution_count": 7,
   "id": "01c5c9f3",
   "metadata": {
    "execution": {
     "iopub.execute_input": "2025-07-30T20:44:23.680176Z",
     "iopub.status.busy": "2025-07-30T20:44:23.679503Z",
     "iopub.status.idle": "2025-07-30T20:44:25.211678Z",
     "shell.execute_reply": "2025-07-30T20:44:25.210857Z"
    },
    "papermill": {
     "duration": 1.553145,
     "end_time": "2025-07-30T20:44:25.213160",
     "exception": false,
     "start_time": "2025-07-30T20:44:23.660015",
     "status": "completed"
    },
    "tags": []
   },
   "outputs": [],
   "source": [
    "from fairness_multiverse.universe import UniverseAnalysis\n",
    "\n",
    "universe_analysis = UniverseAnalysis(\n",
    "    run_no = run_no,\n",
    "    universe_id = universe_id,\n",
    "    universe = universe,\n",
    "    output_dir=output_dir,\n",
    ")"
   ]
  },
  {
   "cell_type": "code",
   "execution_count": 8,
   "id": "106241f5",
   "metadata": {
    "execution": {
     "iopub.execute_input": "2025-07-30T20:44:25.249688Z",
     "iopub.status.busy": "2025-07-30T20:44:25.249235Z",
     "iopub.status.idle": "2025-07-30T20:44:25.255884Z",
     "shell.execute_reply": "2025-07-30T20:44:25.254882Z"
    },
    "papermill": {
     "duration": 0.031503,
     "end_time": "2025-07-30T20:44:25.258213",
     "exception": false,
     "start_time": "2025-07-30T20:44:25.226710",
     "status": "completed"
    },
    "tags": []
   },
   "outputs": [
    {
     "name": "stdout",
     "output_type": "stream",
     "text": [
      "Using Seed: 2023\n"
     ]
    }
   ],
   "source": [
    "import numpy as np\n",
    "parsed_seed = int(seed)\n",
    "np.random.seed(parsed_seed)\n",
    "print(f\"Using Seed: {parsed_seed}\")"
   ]
  },
  {
   "cell_type": "markdown",
   "id": "e0ebdc57",
   "metadata": {
    "papermill": {
     "duration": 0.02052,
     "end_time": "2025-07-30T20:44:25.299714",
     "exception": false,
     "start_time": "2025-07-30T20:44:25.279194",
     "status": "completed"
    },
    "tags": []
   },
   "source": [
    "# Loading Data"
   ]
  },
  {
   "cell_type": "markdown",
   "id": "681925a3",
   "metadata": {
    "papermill": {
     "duration": 0.020632,
     "end_time": "2025-07-30T20:44:25.341054",
     "exception": false,
     "start_time": "2025-07-30T20:44:25.320422",
     "status": "completed"
    },
    "tags": []
   },
   "source": [
    "Load siab_train, siab_test, siab_calib and/or \n",
    "load siab_train_features, siab_train_labels"
   ]
  },
  {
   "cell_type": "code",
   "execution_count": 9,
   "id": "f0496b8a",
   "metadata": {
    "execution": {
     "iopub.execute_input": "2025-07-30T20:44:25.374911Z",
     "iopub.status.busy": "2025-07-30T20:44:25.374470Z",
     "iopub.status.idle": "2025-07-30T20:44:36.920724Z",
     "shell.execute_reply": "2025-07-30T20:44:36.919517Z"
    },
    "papermill": {
     "duration": 11.56119,
     "end_time": "2025-07-30T20:44:36.922418",
     "exception": false,
     "start_time": "2025-07-30T20:44:25.361228",
     "status": "completed"
    },
    "tags": []
   },
   "outputs": [
    {
     "name": "stdout",
     "output_type": "stream",
     "text": [
      "Loading SIAB data from cache: data/siab_cached.csv.gz\n"
     ]
    },
    {
     "name": "stdout",
     "output_type": "stream",
     "text": [
      "(643690, 164)\n"
     ]
    }
   ],
   "source": [
    "from pathlib import Path\n",
    "import pandas as pd\n",
    "\n",
    "# File paths\n",
    "raw_file = Path(\"data/raw/siab.csv\")\n",
    "cache_file = Path(\"data/siab_cached.csv.gz\")\n",
    "\n",
    "# Ensure cache directory exists\n",
    "cache_file.parent.mkdir(parents=True, exist_ok=True)\n",
    "\n",
    "# Load with simple caching\n",
    "if cache_file.exists():\n",
    "    print(f\"Loading SIAB data from cache: {cache_file}\")\n",
    "    siab = pd.read_csv(cache_file, compression='gzip')\n",
    "else:\n",
    "    print(f\"Cache not found. Reading raw SIAB data: {raw_file}\")\n",
    "    siab = pd.read_csv(raw_file)\n",
    "    siab.to_csv(cache_file, index=False, compression='gzip')\n",
    "    print(f\"Cached SIAB data to: {cache_file}\")\n",
    "\n",
    "# Now use `siab` DataFrame as needed\n",
    "print(siab.shape)"
   ]
  },
  {
   "cell_type": "code",
   "execution_count": 10,
   "id": "db0ca512-5f53-4dba-abdb-a2888bca41ba",
   "metadata": {
    "execution": {
     "iopub.execute_input": "2025-07-30T20:44:36.965164Z",
     "iopub.status.busy": "2025-07-30T20:44:36.964759Z",
     "iopub.status.idle": "2025-07-30T20:44:36.969977Z",
     "shell.execute_reply": "2025-07-30T20:44:36.969035Z"
    },
    "papermill": {
     "duration": 0.026302,
     "end_time": "2025-07-30T20:44:36.971449",
     "exception": false,
     "start_time": "2025-07-30T20:44:36.945147",
     "status": "completed"
    },
    "tags": []
   },
   "outputs": [],
   "source": [
    "#siab"
   ]
  },
  {
   "cell_type": "code",
   "execution_count": 11,
   "id": "a0edb063",
   "metadata": {
    "execution": {
     "iopub.execute_input": "2025-07-30T20:44:37.015904Z",
     "iopub.status.busy": "2025-07-30T20:44:37.015200Z",
     "iopub.status.idle": "2025-07-30T20:44:37.020445Z",
     "shell.execute_reply": "2025-07-30T20:44:37.019436Z"
    },
    "papermill": {
     "duration": 0.029031,
     "end_time": "2025-07-30T20:44:37.022248",
     "exception": false,
     "start_time": "2025-07-30T20:44:36.993217",
     "status": "completed"
    },
    "tags": []
   },
   "outputs": [],
   "source": [
    "#import pandas as pd\n",
    "#\n",
    "#X_train = pd.read_csv(\"./data/X_train.csv\")\n",
    "#y_train = pd.read_csv(\"./data/y_train.csv\")"
   ]
  },
  {
   "cell_type": "code",
   "execution_count": 12,
   "id": "63d08085",
   "metadata": {
    "execution": {
     "iopub.execute_input": "2025-07-30T20:44:37.067419Z",
     "iopub.status.busy": "2025-07-30T20:44:37.066689Z",
     "iopub.status.idle": "2025-07-30T20:44:37.071459Z",
     "shell.execute_reply": "2025-07-30T20:44:37.070557Z"
    },
    "papermill": {
     "duration": 0.028731,
     "end_time": "2025-07-30T20:44:37.072898",
     "exception": false,
     "start_time": "2025-07-30T20:44:37.044167",
     "status": "completed"
    },
    "tags": []
   },
   "outputs": [],
   "source": [
    "#X_test = pd.read_csv(\"./data/X_test.csv\")\n",
    "#y_true = pd.read_csv(\"./data/y_test.csv\")"
   ]
  },
  {
   "cell_type": "code",
   "execution_count": 13,
   "id": "98a8d0fa-1d3d-4ed8-bb2c-281470e24add",
   "metadata": {
    "execution": {
     "iopub.execute_input": "2025-07-30T20:44:37.115518Z",
     "iopub.status.busy": "2025-07-30T20:44:37.115064Z",
     "iopub.status.idle": "2025-07-30T20:44:37.119938Z",
     "shell.execute_reply": "2025-07-30T20:44:37.119090Z"
    },
    "papermill": {
     "duration": 0.028805,
     "end_time": "2025-07-30T20:44:37.121681",
     "exception": false,
     "start_time": "2025-07-30T20:44:37.092876",
     "status": "completed"
    },
    "tags": []
   },
   "outputs": [],
   "source": [
    "# Calibration data for conformal\n",
    "#X_calib = pd.read_csv(\"./data/X_calib.csv\")\n",
    "#y_calib = pd.read_csv(\"./data/y_calib.csv\")"
   ]
  },
  {
   "cell_type": "markdown",
   "id": "997051c5-15bd-4b69-9786-c3001a3ce484",
   "metadata": {
    "papermill": {
     "duration": 0.022022,
     "end_time": "2025-07-30T20:44:37.160653",
     "exception": false,
     "start_time": "2025-07-30T20:44:37.138631",
     "status": "completed"
    },
    "tags": []
   },
   "source": [
    "# Splitting Data and Setting Training Data Size"
   ]
  },
  {
   "cell_type": "code",
   "execution_count": 14,
   "id": "e993b61f-042d-41a6-8c81-f55681f86335",
   "metadata": {
    "execution": {
     "iopub.execute_input": "2025-07-30T20:44:37.201493Z",
     "iopub.status.busy": "2025-07-30T20:44:37.200583Z",
     "iopub.status.idle": "2025-07-30T20:44:37.214218Z",
     "shell.execute_reply": "2025-07-30T20:44:37.213335Z"
    },
    "papermill": {
     "duration": 0.033823,
     "end_time": "2025-07-30T20:44:37.215786",
     "exception": false,
     "start_time": "2025-07-30T20:44:37.181963",
     "status": "completed"
    },
    "tags": []
   },
   "outputs": [],
   "source": [
    "def sample_by_year_size(df,\n",
    "                        training_year: str,\n",
    "                        training_size: str,\n",
    "                        random_state: int = 42):\n",
    "    # --- parse training_year into a list of int years ---\n",
    "    if \"_\" in training_year:\n",
    "        start_str, end_str = training_year.split(\"_\", 1)\n",
    "        start = int(start_str)\n",
    "        end   = int(end_str) if len(end_str) == 4 else (int(end_str) + (start // 100)*100)\n",
    "        years = list(range(start, end + 1))\n",
    "    else:\n",
    "        years = [int(training_year)]\n",
    "\n",
    "    df = df[df[\"year\"].isin(years)].reset_index(drop=True)\n",
    "\n",
    "    # --- map training_size to total number of samples ---\n",
    "    total_map = {\"25k\": 25_000, \"5k\": 5_000, \"1k\": 1_000}\n",
    "    if training_size not in total_map:\n",
    "        return df  # e.g. \"all\"\n",
    "\n",
    "    total_samples = total_map[training_size]\n",
    "    n_years       = len(years)\n",
    "    base          = total_samples // n_years\n",
    "    remainder     = total_samples % n_years\n",
    "\n",
    "    # --- build a dict: year -> how many to sample ---\n",
    "    # give +1 to the first `remainder` years in ascending order\n",
    "    quotas = {\n",
    "        year: base + (1 if idx < remainder else 0)\n",
    "        for idx, year in enumerate(sorted(years))\n",
    "    }\n",
    "\n",
    "    # --- sample per‐year according to the quota dict ---\n",
    "    sampled = (\n",
    "        df\n",
    "        .groupby(\"year\", group_keys=False)\n",
    "        .apply(lambda grp: grp.sample(\n",
    "            n=min(len(grp), quotas[grp.name]),\n",
    "            random_state=random_state))\n",
    "        .reset_index(drop=True)\n",
    "    )\n",
    "\n",
    "    return sampled"
   ]
  },
  {
   "cell_type": "code",
   "execution_count": 15,
   "id": "c0ccd338-0e02-41f3-a09d-f56f9266e3fb",
   "metadata": {
    "execution": {
     "iopub.execute_input": "2025-07-30T20:44:37.255673Z",
     "iopub.status.busy": "2025-07-30T20:44:37.254981Z",
     "iopub.status.idle": "2025-07-30T20:44:37.260334Z",
     "shell.execute_reply": "2025-07-30T20:44:37.259309Z"
    },
    "papermill": {
     "duration": 0.0245,
     "end_time": "2025-07-30T20:44:37.262041",
     "exception": false,
     "start_time": "2025-07-30T20:44:37.237541",
     "status": "completed"
    },
    "tags": []
   },
   "outputs": [],
   "source": [
    "#universe[\"training_size\"]"
   ]
  },
  {
   "cell_type": "code",
   "execution_count": 16,
   "id": "ca707fd7-8047-4acd-bfa5-66248fbbf8e6",
   "metadata": {
    "execution": {
     "iopub.execute_input": "2025-07-30T20:44:37.307193Z",
     "iopub.status.busy": "2025-07-30T20:44:37.306546Z",
     "iopub.status.idle": "2025-07-30T20:44:37.311687Z",
     "shell.execute_reply": "2025-07-30T20:44:37.310797Z"
    },
    "papermill": {
     "duration": 0.032706,
     "end_time": "2025-07-30T20:44:37.316866",
     "exception": false,
     "start_time": "2025-07-30T20:44:37.284160",
     "status": "completed"
    },
    "tags": []
   },
   "outputs": [],
   "source": [
    "#universe[\"training_year\"]"
   ]
  },
  {
   "cell_type": "code",
   "execution_count": 17,
   "id": "aea9c6ef-6f46-42c8-85eb-5a62025c1508",
   "metadata": {
    "execution": {
     "iopub.execute_input": "2025-07-30T20:44:37.359728Z",
     "iopub.status.busy": "2025-07-30T20:44:37.359171Z",
     "iopub.status.idle": "2025-07-30T20:44:37.543832Z",
     "shell.execute_reply": "2025-07-30T20:44:37.542816Z"
    },
    "papermill": {
     "duration": 0.20765,
     "end_time": "2025-07-30T20:44:37.545414",
     "exception": false,
     "start_time": "2025-07-30T20:44:37.337764",
     "status": "completed"
    },
    "tags": []
   },
   "outputs": [],
   "source": [
    "siab_train = sample_by_year_size(siab,\n",
    "                               training_year=universe[\"training_year\"],\n",
    "                               training_size=universe[\"training_size\"])"
   ]
  },
  {
   "cell_type": "code",
   "execution_count": 18,
   "id": "8d3afb32-789d-442c-8d5d-9f5aa8dd2eed",
   "metadata": {
    "execution": {
     "iopub.execute_input": "2025-07-30T20:44:37.589976Z",
     "iopub.status.busy": "2025-07-30T20:44:37.589324Z",
     "iopub.status.idle": "2025-07-30T20:44:37.595469Z",
     "shell.execute_reply": "2025-07-30T20:44:37.594604Z"
    },
    "papermill": {
     "duration": 0.030381,
     "end_time": "2025-07-30T20:44:37.597304",
     "exception": false,
     "start_time": "2025-07-30T20:44:37.566923",
     "status": "completed"
    },
    "tags": []
   },
   "outputs": [],
   "source": [
    "#siab_train.shape"
   ]
  },
  {
   "cell_type": "code",
   "execution_count": 19,
   "id": "d582db68-1a4c-47fb-84fc-08518dc1975a",
   "metadata": {
    "execution": {
     "iopub.execute_input": "2025-07-30T20:44:37.643162Z",
     "iopub.status.busy": "2025-07-30T20:44:37.642696Z",
     "iopub.status.idle": "2025-07-30T20:44:37.647973Z",
     "shell.execute_reply": "2025-07-30T20:44:37.647130Z"
    },
    "papermill": {
     "duration": 0.030566,
     "end_time": "2025-07-30T20:44:37.649766",
     "exception": false,
     "start_time": "2025-07-30T20:44:37.619200",
     "status": "completed"
    },
    "tags": []
   },
   "outputs": [],
   "source": [
    "#display(siab_train.groupby(\"year\").size())"
   ]
  },
  {
   "cell_type": "code",
   "execution_count": 20,
   "id": "a561edb4-d032-42cb-8256-22eac1111c64",
   "metadata": {
    "execution": {
     "iopub.execute_input": "2025-07-30T20:44:37.694702Z",
     "iopub.status.busy": "2025-07-30T20:44:37.694066Z",
     "iopub.status.idle": "2025-07-30T20:44:37.894413Z",
     "shell.execute_reply": "2025-07-30T20:44:37.893465Z"
    },
    "papermill": {
     "duration": 0.224285,
     "end_time": "2025-07-30T20:44:37.895919",
     "exception": false,
     "start_time": "2025-07-30T20:44:37.671634",
     "status": "completed"
    },
    "tags": []
   },
   "outputs": [],
   "source": [
    "#siab_train = siab_s[siab_s.year < 2015]\n",
    "siab_calib = siab[siab.year == 2015]\n",
    "siab_test = siab[siab.year == 2016]"
   ]
  },
  {
   "cell_type": "code",
   "execution_count": 21,
   "id": "472de16f-c3db-4916-846b-1f0de9cf1746",
   "metadata": {
    "execution": {
     "iopub.execute_input": "2025-07-30T20:44:37.944531Z",
     "iopub.status.busy": "2025-07-30T20:44:37.943736Z",
     "iopub.status.idle": "2025-07-30T20:44:37.951899Z",
     "shell.execute_reply": "2025-07-30T20:44:37.951012Z"
    },
    "papermill": {
     "duration": 0.033715,
     "end_time": "2025-07-30T20:44:37.953551",
     "exception": false,
     "start_time": "2025-07-30T20:44:37.919836",
     "status": "completed"
    },
    "tags": []
   },
   "outputs": [],
   "source": [
    "X_train = siab_train.iloc[:,4:164]\n",
    "y_train = siab_train.iloc[:, [3]]"
   ]
  },
  {
   "cell_type": "code",
   "execution_count": 22,
   "id": "828c96af-f43a-4ed6-ba47-8ac73a47d56c",
   "metadata": {
    "execution": {
     "iopub.execute_input": "2025-07-30T20:44:38.001949Z",
     "iopub.status.busy": "2025-07-30T20:44:38.001289Z",
     "iopub.status.idle": "2025-07-30T20:44:38.052475Z",
     "shell.execute_reply": "2025-07-30T20:44:38.051469Z"
    },
    "papermill": {
     "duration": 0.076866,
     "end_time": "2025-07-30T20:44:38.054338",
     "exception": false,
     "start_time": "2025-07-30T20:44:37.977472",
     "status": "completed"
    },
    "tags": []
   },
   "outputs": [],
   "source": [
    "X_calib = siab_calib.iloc[:,4:164]\n",
    "y_calib = siab_calib.iloc[:, [3]]"
   ]
  },
  {
   "cell_type": "code",
   "execution_count": 23,
   "id": "c34be9c3-6bd6-476e-acd3-845840e303be",
   "metadata": {
    "execution": {
     "iopub.execute_input": "2025-07-30T20:44:38.102985Z",
     "iopub.status.busy": "2025-07-30T20:44:38.102353Z",
     "iopub.status.idle": "2025-07-30T20:44:38.153783Z",
     "shell.execute_reply": "2025-07-30T20:44:38.152818Z"
    },
    "papermill": {
     "duration": 0.077045,
     "end_time": "2025-07-30T20:44:38.155539",
     "exception": false,
     "start_time": "2025-07-30T20:44:38.078494",
     "status": "completed"
    },
    "tags": []
   },
   "outputs": [],
   "source": [
    "X_test = siab_test.iloc[:,4:164]\n",
    "y_true = siab_test.iloc[:, [3]]"
   ]
  },
  {
   "cell_type": "markdown",
   "id": "9901737e-04df-44f0-9100-f5ad144ed040",
   "metadata": {
    "papermill": {
     "duration": 0.023141,
     "end_time": "2025-07-30T20:44:38.202657",
     "exception": false,
     "start_time": "2025-07-30T20:44:38.179516",
     "status": "completed"
    },
    "tags": []
   },
   "source": [
    "# Splitting Data and Setting Training Data Size OLD VERSION"
   ]
  },
  {
   "cell_type": "code",
   "execution_count": 24,
   "id": "acbc8f7d-8fc8-4e86-8c59-5dcb0f58384b",
   "metadata": {
    "execution": {
     "iopub.execute_input": "2025-07-30T20:44:38.250785Z",
     "iopub.status.busy": "2025-07-30T20:44:38.250143Z",
     "iopub.status.idle": "2025-07-30T20:44:38.255932Z",
     "shell.execute_reply": "2025-07-30T20:44:38.255008Z"
    },
    "papermill": {
     "duration": 0.031731,
     "end_time": "2025-07-30T20:44:38.257675",
     "exception": false,
     "start_time": "2025-07-30T20:44:38.225944",
     "status": "completed"
    },
    "tags": []
   },
   "outputs": [],
   "source": [
    "#def sample_by_year(df, training_size, random_state=42):\n",
    "#    if training_size == \"2014\":\n",
    "#        return df[df[\"year\"] == 2014].reset_index(drop=True)\n",
    "#    \n",
    "#    size_map = {\n",
    "#        \"25k\": 5000,\n",
    "#        \"5k\": 1000,\n",
    "#        \"1k\": 200\n",
    "#    }\n",
    "#\n",
    "#    if training_size not in size_map:\n",
    "#        return df.reset_index(drop=True)  # use all data\n",
    "#\n",
    "#    n_per_year = size_map[training_size]\n",
    "#    grouped = df.groupby(\"year\")\n",
    "#    sampled = grouped.apply(lambda x: x.sample(n=min(n_per_year, len(x)), random_state=random_state))\n",
    "#    return sampled.reset_index(drop=True)"
   ]
  },
  {
   "cell_type": "code",
   "execution_count": 25,
   "id": "6d931f52-beaf-43ff-9e78-9d44a448d54e",
   "metadata": {
    "execution": {
     "iopub.execute_input": "2025-07-30T20:44:38.306412Z",
     "iopub.status.busy": "2025-07-30T20:44:38.305788Z",
     "iopub.status.idle": "2025-07-30T20:44:38.310581Z",
     "shell.execute_reply": "2025-07-30T20:44:38.309724Z"
    },
    "papermill": {
     "duration": 0.030768,
     "end_time": "2025-07-30T20:44:38.312237",
     "exception": false,
     "start_time": "2025-07-30T20:44:38.281469",
     "status": "completed"
    },
    "tags": []
   },
   "outputs": [],
   "source": [
    "#siab_s = sample_by_year(siab, universe[\"training_size\"])"
   ]
  },
  {
   "cell_type": "code",
   "execution_count": 26,
   "id": "5db0a40e-a4e2-4920-be85-b12ae061d70d",
   "metadata": {
    "execution": {
     "iopub.execute_input": "2025-07-30T20:44:38.360886Z",
     "iopub.status.busy": "2025-07-30T20:44:38.360231Z",
     "iopub.status.idle": "2025-07-30T20:44:38.365130Z",
     "shell.execute_reply": "2025-07-30T20:44:38.364254Z"
    },
    "papermill": {
     "duration": 0.031122,
     "end_time": "2025-07-30T20:44:38.367056",
     "exception": false,
     "start_time": "2025-07-30T20:44:38.335934",
     "status": "completed"
    },
    "tags": []
   },
   "outputs": [],
   "source": [
    "#display(siab_s.groupby(\"year\").size())"
   ]
  },
  {
   "cell_type": "code",
   "execution_count": 27,
   "id": "e6c733c5",
   "metadata": {
    "execution": {
     "iopub.execute_input": "2025-07-30T20:44:38.415945Z",
     "iopub.status.busy": "2025-07-30T20:44:38.415204Z",
     "iopub.status.idle": "2025-07-30T20:44:38.508972Z",
     "shell.execute_reply": "2025-07-30T20:44:38.507873Z"
    },
    "papermill": {
     "duration": 0.120157,
     "end_time": "2025-07-30T20:44:38.511097",
     "exception": false,
     "start_time": "2025-07-30T20:44:38.390940",
     "status": "completed"
    },
    "tags": []
   },
   "outputs": [],
   "source": [
    "# Auxiliary data needed downstream in the pipeline\n",
    "\n",
    "org_train = X_train.copy()\n",
    "org_test = X_test.copy()\n",
    "org_calib = X_calib.copy()"
   ]
  },
  {
   "cell_type": "code",
   "execution_count": 28,
   "id": "1466abac-c6da-4492-a62f-4240ae3783af",
   "metadata": {
    "execution": {
     "iopub.execute_input": "2025-07-30T20:44:38.562152Z",
     "iopub.status.busy": "2025-07-30T20:44:38.561506Z",
     "iopub.status.idle": "2025-07-30T20:44:38.568384Z",
     "shell.execute_reply": "2025-07-30T20:44:38.567357Z"
    },
    "papermill": {
     "duration": 0.034869,
     "end_time": "2025-07-30T20:44:38.570439",
     "exception": false,
     "start_time": "2025-07-30T20:44:38.535570",
     "status": "completed"
    },
    "tags": []
   },
   "outputs": [],
   "source": [
    "# put in other script?\n",
    "# Group sizes\n",
    "\n",
    "#def calculate_percentages(df, df_name):\n",
    "#    total_entries = len(df)\n",
    "#\n",
    "#    female_pct = (df['frau1'] == 1).mean() * 100\n",
    "#    non_german_pct = ((df['maxdeutsch1'] == 0) & (df['maxdeutsch.Missing.'] == 0)).mean() * 100\n",
    "#    non_german_male_pct = ((df['frau1'] == 0) & (df['maxdeutsch1'] == 0) & (df['maxdeutsch.Missing.'] == 0)).mean() * 100\n",
    "#    non_german_female_pct = ((df['frau1'] == 1) & (df['maxdeutsch1'] == 0) & (df['maxdeutsch.Missing.'] == 0)).mean() * 100\n",
    "#\n",
    "#    print(f\"--- {df_name} ---\")\n",
    "#    print(f\"Female: {female_pct:.2f}%\")\n",
    "#    print(f\"Non-German: {non_german_pct:.2f}%\")\n",
    "#    print(f\"Non-German Male: {non_german_male_pct:.2f}%\")\n",
    "#    print(f\"Non-German Female: {non_german_female_pct:.2f}%\\n\")\n",
    "#\n",
    "## Calculate for each DataFrame\n",
    "#calculate_percentages(siab_calib, \"siab_calib\")\n",
    "#calculate_percentages(siab_test, \"siab_test\")\n",
    "#calculate_percentages(siab_train, \"siab_train\")"
   ]
  },
  {
   "cell_type": "markdown",
   "id": "0a4a1b33",
   "metadata": {
    "papermill": {
     "duration": 0.023428,
     "end_time": "2025-07-30T20:44:38.618314",
     "exception": false,
     "start_time": "2025-07-30T20:44:38.594886",
     "status": "completed"
    },
    "tags": []
   },
   "source": [
    "# Preprocessing Data"
   ]
  },
  {
   "cell_type": "code",
   "execution_count": 29,
   "id": "ca879031",
   "metadata": {
    "execution": {
     "iopub.execute_input": "2025-07-30T20:44:38.667113Z",
     "iopub.status.busy": "2025-07-30T20:44:38.666457Z",
     "iopub.status.idle": "2025-07-30T20:44:38.672807Z",
     "shell.execute_reply": "2025-07-30T20:44:38.671816Z"
    },
    "papermill": {
     "duration": 0.032384,
     "end_time": "2025-07-30T20:44:38.674366",
     "exception": false,
     "start_time": "2025-07-30T20:44:38.641982",
     "status": "completed"
    },
    "tags": []
   },
   "outputs": [],
   "source": [
    "# EXCLUDE PROTECTED FEATURES\n",
    "# ----------------------\n",
    "# \"exclude_features\": \"none\", # \"nationality\", \"sex\", \"nationality-sex\"\n",
    "\n",
    "excluded_features = universe[\"exclude_features\"].split(\"-\") # split, e.g.: \"nationality-sex\" -> [\"nationality\", \"sex\"]\n",
    "excluded_features_dictionary = {\n",
    "    \"nationality\": [\"maxdeutsch1\", \"maxdeutsch.Missing.\"],\n",
    "    \"sex\": [\"frau1\"],\n",
    "    \"age\": [\"age\"],\n",
    "}\n"
   ]
  },
  {
   "cell_type": "code",
   "execution_count": 30,
   "id": "b745ac60",
   "metadata": {
    "execution": {
     "iopub.execute_input": "2025-07-30T20:44:38.723456Z",
     "iopub.status.busy": "2025-07-30T20:44:38.722820Z",
     "iopub.status.idle": "2025-07-30T20:44:38.728580Z",
     "shell.execute_reply": "2025-07-30T20:44:38.727569Z"
    },
    "papermill": {
     "duration": 0.031991,
     "end_time": "2025-07-30T20:44:38.730213",
     "exception": false,
     "start_time": "2025-07-30T20:44:38.698222",
     "status": "completed"
    },
    "tags": []
   },
   "outputs": [],
   "source": [
    "# Code nice names to column names\n",
    "\n",
    "excluded_features_columns = [\n",
    "    excluded_features_dictionary[f] for f in excluded_features if len(f) > 0 and f != \"none\"\n",
    "]"
   ]
  },
  {
   "cell_type": "code",
   "execution_count": 31,
   "id": "f84f73a2",
   "metadata": {
    "execution": {
     "iopub.execute_input": "2025-07-30T20:44:38.780161Z",
     "iopub.status.busy": "2025-07-30T20:44:38.779242Z",
     "iopub.status.idle": "2025-07-30T20:44:38.786032Z",
     "shell.execute_reply": "2025-07-30T20:44:38.785173Z"
    },
    "papermill": {
     "duration": 0.033208,
     "end_time": "2025-07-30T20:44:38.787583",
     "exception": false,
     "start_time": "2025-07-30T20:44:38.754375",
     "status": "completed"
    },
    "tags": []
   },
   "outputs": [],
   "source": [
    "from utils import flatten_once\n",
    "\n",
    "excluded_features_columns = flatten_once(excluded_features_columns)"
   ]
  },
  {
   "cell_type": "code",
   "execution_count": 32,
   "id": "884dea22",
   "metadata": {
    "execution": {
     "iopub.execute_input": "2025-07-30T20:44:38.837936Z",
     "iopub.status.busy": "2025-07-30T20:44:38.837296Z",
     "iopub.status.idle": "2025-07-30T20:44:38.846421Z",
     "shell.execute_reply": "2025-07-30T20:44:38.845460Z"
    },
    "papermill": {
     "duration": 0.036061,
     "end_time": "2025-07-30T20:44:38.848126",
     "exception": false,
     "start_time": "2025-07-30T20:44:38.812065",
     "status": "completed"
    },
    "tags": []
   },
   "outputs": [
    {
     "name": "stdout",
     "output_type": "stream",
     "text": [
      "Dropping features: ['maxdeutsch1', 'maxdeutsch.Missing.']\n"
     ]
    }
   ],
   "source": [
    "if len(excluded_features_columns) > 0:\n",
    "    print(f\"Dropping features: {excluded_features_columns}\")\n",
    "    X_train.drop(excluded_features_columns, axis=1, inplace=True)"
   ]
  },
  {
   "cell_type": "code",
   "execution_count": 33,
   "id": "95ab8b16",
   "metadata": {
    "execution": {
     "iopub.execute_input": "2025-07-30T20:44:38.899006Z",
     "iopub.status.busy": "2025-07-30T20:44:38.898369Z",
     "iopub.status.idle": "2025-07-30T20:44:38.951779Z",
     "shell.execute_reply": "2025-07-30T20:44:38.950750Z"
    },
    "papermill": {
     "duration": 0.081889,
     "end_time": "2025-07-30T20:44:38.954668",
     "exception": false,
     "start_time": "2025-07-30T20:44:38.872779",
     "status": "completed"
    },
    "tags": []
   },
   "outputs": [
    {
     "name": "stdout",
     "output_type": "stream",
     "text": [
      "Dropping features: ['maxdeutsch1', 'maxdeutsch.Missing.']\n"
     ]
    }
   ],
   "source": [
    "if len(excluded_features_columns) > 0:\n",
    "    print(f\"Dropping features: {excluded_features_columns}\")\n",
    "    X_test.drop(excluded_features_columns, axis=1, inplace=True)"
   ]
  },
  {
   "cell_type": "code",
   "execution_count": 34,
   "id": "1853aaf5-fb9f-46cb-a2b5-8ea4ae2237e4",
   "metadata": {
    "execution": {
     "iopub.execute_input": "2025-07-30T20:44:39.006823Z",
     "iopub.status.busy": "2025-07-30T20:44:39.005921Z",
     "iopub.status.idle": "2025-07-30T20:44:39.058044Z",
     "shell.execute_reply": "2025-07-30T20:44:39.056982Z"
    },
    "papermill": {
     "duration": 0.079977,
     "end_time": "2025-07-30T20:44:39.059970",
     "exception": false,
     "start_time": "2025-07-30T20:44:38.979993",
     "status": "completed"
    },
    "tags": []
   },
   "outputs": [
    {
     "name": "stdout",
     "output_type": "stream",
     "text": [
      "Dropping features: ['maxdeutsch1', 'maxdeutsch.Missing.']\n"
     ]
    }
   ],
   "source": [
    "if len(excluded_features_columns) > 0:\n",
    "    print(f\"Dropping features: {excluded_features_columns}\")\n",
    "    X_calib.drop(excluded_features_columns, axis=1, inplace=True)"
   ]
  },
  {
   "cell_type": "code",
   "execution_count": 35,
   "id": "6727d079-03e5-481e-9d38-292a90b7a0a8",
   "metadata": {
    "execution": {
     "iopub.execute_input": "2025-07-30T20:44:39.111952Z",
     "iopub.status.busy": "2025-07-30T20:44:39.111289Z",
     "iopub.status.idle": "2025-07-30T20:44:39.116116Z",
     "shell.execute_reply": "2025-07-30T20:44:39.115273Z"
    },
    "papermill": {
     "duration": 0.032199,
     "end_time": "2025-07-30T20:44:39.117571",
     "exception": false,
     "start_time": "2025-07-30T20:44:39.085372",
     "status": "completed"
    },
    "tags": []
   },
   "outputs": [],
   "source": [
    "# SPLIT & STRATIFY DATA\n",
    "# ----------------------"
   ]
  },
  {
   "cell_type": "code",
   "execution_count": 36,
   "id": "76c4dc6d",
   "metadata": {
    "execution": {
     "iopub.execute_input": "2025-07-30T20:44:39.162267Z",
     "iopub.status.busy": "2025-07-30T20:44:39.161630Z",
     "iopub.status.idle": "2025-07-30T20:44:39.167079Z",
     "shell.execute_reply": "2025-07-30T20:44:39.166227Z"
    },
    "papermill": {
     "duration": 0.029282,
     "end_time": "2025-07-30T20:44:39.168613",
     "exception": false,
     "start_time": "2025-07-30T20:44:39.139331",
     "status": "completed"
    },
    "tags": []
   },
   "outputs": [],
   "source": [
    "# EXCLUDE CERTAIN SUBGROUPS\n",
    "# ----------------------\n",
    "\n",
    "mode = universe.get(\"exclude_subgroups\", \"keep-all\") \n",
    "# Fetches the exclude_subgroups setting from the universe dict.\n",
    "# Defaults to \"keep-all\" if the key is missing."
   ]
  },
  {
   "cell_type": "code",
   "execution_count": 37,
   "id": "21994072",
   "metadata": {
    "execution": {
     "iopub.execute_input": "2025-07-30T20:44:39.203930Z",
     "iopub.status.busy": "2025-07-30T20:44:39.203319Z",
     "iopub.status.idle": "2025-07-30T20:44:39.208654Z",
     "shell.execute_reply": "2025-07-30T20:44:39.207996Z"
    },
    "papermill": {
     "duration": 0.019486,
     "end_time": "2025-07-30T20:44:39.209811",
     "exception": false,
     "start_time": "2025-07-30T20:44:39.190325",
     "status": "completed"
    },
    "tags": []
   },
   "outputs": [],
   "source": [
    "if mode == \"keep-all\":\n",
    "    keep_mask = pd.Series(True, index=org_train.index)\n",
    "\n",
    "# org_train contains the original feature columns from features_org (in Simson)\n",
    "# features_org contains unprocessed features, for me X_train at beginning ???\n",
    "# For keep-all, creates a boolean Series (keep_mask) of all True, so no rows are removed.\n",
    "\n",
    "elif mode == \"drop-non-german\":\n",
    "    keep_mask = org_train[\"maxdeutsch1\"] == 1 # ??? what about missing values?\n",
    "\n",
    "else:\n",
    "    raise ValueError(f\"Unsupported mode for exclude_subgroups: {mode}\")\n"
   ]
  },
  {
   "cell_type": "code",
   "execution_count": 38,
   "id": "71651440",
   "metadata": {
    "execution": {
     "iopub.execute_input": "2025-07-30T20:44:39.234944Z",
     "iopub.status.busy": "2025-07-30T20:44:39.234457Z",
     "iopub.status.idle": "2025-07-30T20:44:39.239952Z",
     "shell.execute_reply": "2025-07-30T20:44:39.239308Z"
    },
    "papermill": {
     "duration": 0.0195,
     "end_time": "2025-07-30T20:44:39.241294",
     "exception": false,
     "start_time": "2025-07-30T20:44:39.221794",
     "status": "completed"
    },
    "tags": []
   },
   "outputs": [],
   "source": [
    "n_drop = (~keep_mask).sum() # Calculates how many rows are set to be dropped\n",
    "if n_drop > 0:\n",
    "    pct = n_drop / len(keep_mask) * 100\n",
    "    print(f\"Dropping {n_drop} rows ({pct:.2f}%) where mode='{mode}'\")"
   ]
  },
  {
   "cell_type": "code",
   "execution_count": 39,
   "id": "5fb8eee5",
   "metadata": {
    "execution": {
     "iopub.execute_input": "2025-07-30T20:44:39.269703Z",
     "iopub.status.busy": "2025-07-30T20:44:39.269215Z",
     "iopub.status.idle": "2025-07-30T20:44:39.275936Z",
     "shell.execute_reply": "2025-07-30T20:44:39.275300Z"
    },
    "papermill": {
     "duration": 0.020798,
     "end_time": "2025-07-30T20:44:39.277438",
     "exception": false,
     "start_time": "2025-07-30T20:44:39.256640",
     "status": "completed"
    },
    "tags": []
   },
   "outputs": [],
   "source": [
    "X_train = X_train[keep_mask]"
   ]
  },
  {
   "cell_type": "code",
   "execution_count": 40,
   "id": "b202bb3a",
   "metadata": {
    "execution": {
     "iopub.execute_input": "2025-07-30T20:44:39.305008Z",
     "iopub.status.busy": "2025-07-30T20:44:39.304538Z",
     "iopub.status.idle": "2025-07-30T20:44:39.310473Z",
     "shell.execute_reply": "2025-07-30T20:44:39.309698Z"
    },
    "papermill": {
     "duration": 0.02222,
     "end_time": "2025-07-30T20:44:39.312330",
     "exception": false,
     "start_time": "2025-07-30T20:44:39.290110",
     "status": "completed"
    },
    "tags": []
   },
   "outputs": [],
   "source": [
    "y_train = y_train[keep_mask]"
   ]
  },
  {
   "cell_type": "markdown",
   "id": "493e2ac3",
   "metadata": {
    "papermill": {
     "duration": 0.023581,
     "end_time": "2025-07-30T20:44:39.360201",
     "exception": false,
     "start_time": "2025-07-30T20:44:39.336620",
     "status": "completed"
    },
    "tags": []
   },
   "source": [
    "# Model Training"
   ]
  },
  {
   "cell_type": "code",
   "execution_count": 41,
   "id": "679e1268",
   "metadata": {
    "execution": {
     "iopub.execute_input": "2025-07-30T20:44:39.406264Z",
     "iopub.status.busy": "2025-07-30T20:44:39.405801Z",
     "iopub.status.idle": "2025-07-30T20:44:39.508502Z",
     "shell.execute_reply": "2025-07-30T20:44:39.507552Z"
    },
    "papermill": {
     "duration": 0.128972,
     "end_time": "2025-07-30T20:44:39.510456",
     "exception": false,
     "start_time": "2025-07-30T20:44:39.381484",
     "status": "completed"
    },
    "tags": []
   },
   "outputs": [],
   "source": [
    "from sklearn.linear_model import LogisticRegression\n",
    "from sklearn.ensemble import GradientBoostingClassifier, RandomForestClassifier\n",
    "\n",
    "if (universe[\"model\"] == \"logreg\"):\n",
    "    model = LogisticRegression() #penalty=\"none\") #, solver=\"newton-cg\", max_iter=1) # include random_state=19 ?\n",
    "elif (universe[\"model\"] == \"penalized_logreg\"):\n",
    "    model = LogisticRegression(penalty=\"l2\", C=1.0) #, solver=\"newton-cg\", max_iter=1)\n",
    "elif (universe[\"model\"] == \"rf\"):\n",
    "    model = RandomForestClassifier(n_estimators=100, n_jobs=-1)\n",
    "elif (universe[\"model\"] == \"gbm\"):\n",
    "    model = GradientBoostingClassifier()\n",
    "elif (universe[\"model\"] == \"elasticnet\"):\n",
    "    model = LogisticRegression(penalty = 'elasticnet', solver = 'saga', l1_ratio = 0.5, max_iter=5000) # which solver to use?\n",
    "else:\n",
    "    raise \"Unsupported universe.model\""
   ]
  },
  {
   "cell_type": "code",
   "execution_count": 42,
   "id": "0cc8f744",
   "metadata": {
    "execution": {
     "iopub.execute_input": "2025-07-30T20:44:39.559659Z",
     "iopub.status.busy": "2025-07-30T20:44:39.559282Z",
     "iopub.status.idle": "2025-07-30T20:44:39.566331Z",
     "shell.execute_reply": "2025-07-30T20:44:39.565557Z"
    },
    "papermill": {
     "duration": 0.033611,
     "end_time": "2025-07-30T20:44:39.567924",
     "exception": false,
     "start_time": "2025-07-30T20:44:39.534313",
     "status": "completed"
    },
    "tags": []
   },
   "outputs": [],
   "source": [
    "import numpy as np\n",
    "from sklearn.pipeline import Pipeline\n",
    "from sklearn.preprocessing import StandardScaler\n",
    "\n",
    "model = Pipeline([\n",
    "    #(\"continuous_processor\", continuous_processor),\n",
    "    #(\"categorical_preprocessor\", categorical_preprocessor),\n",
    "    (\"scale\", StandardScaler() if universe[\"scale\"] == \"scale\" else None), \n",
    "    (\"model\", model),\n",
    "])"
   ]
  },
  {
   "cell_type": "code",
   "execution_count": 43,
   "id": "9442c04d",
   "metadata": {
    "execution": {
     "iopub.execute_input": "2025-07-30T20:44:39.614142Z",
     "iopub.status.busy": "2025-07-30T20:44:39.613668Z",
     "iopub.status.idle": "2025-07-30T20:44:39.768770Z",
     "shell.execute_reply": "2025-07-30T20:44:39.767931Z"
    },
    "papermill": {
     "duration": 0.18013,
     "end_time": "2025-07-30T20:44:39.770264",
     "exception": false,
     "start_time": "2025-07-30T20:44:39.590134",
     "status": "completed"
    },
    "tags": []
   },
   "outputs": [
    {
     "name": "stderr",
     "output_type": "stream",
     "text": [
      "/dss/dsshome1/0C/ra93lal2/.local/share/virtualenvs/CMA_Fairness_v2-3j10GkSs/lib/python3.10/site-packages/sklearn/linear_model/_logistic.py:444: ConvergenceWarning: lbfgs failed to converge (status=1):\n",
      "STOP: TOTAL NO. of ITERATIONS REACHED LIMIT.\n",
      "\n",
      "Increase the number of iterations (max_iter) or scale the data as shown in:\n",
      "    https://scikit-learn.org/stable/modules/preprocessing.html\n",
      "Please also refer to the documentation for alternative solver options:\n",
      "    https://scikit-learn.org/stable/modules/linear_model.html#logistic-regression\n",
      "  n_iter_i = _check_optimize_result(\n"
     ]
    },
    {
     "data": {
      "text/html": [
       "<style>#sk-container-id-1 {color: black;background-color: white;}#sk-container-id-1 pre{padding: 0;}#sk-container-id-1 div.sk-toggleable {background-color: white;}#sk-container-id-1 label.sk-toggleable__label {cursor: pointer;display: block;width: 100%;margin-bottom: 0;padding: 0.3em;box-sizing: border-box;text-align: center;}#sk-container-id-1 label.sk-toggleable__label-arrow:before {content: \"▸\";float: left;margin-right: 0.25em;color: #696969;}#sk-container-id-1 label.sk-toggleable__label-arrow:hover:before {color: black;}#sk-container-id-1 div.sk-estimator:hover label.sk-toggleable__label-arrow:before {color: black;}#sk-container-id-1 div.sk-toggleable__content {max-height: 0;max-width: 0;overflow: hidden;text-align: left;background-color: #f0f8ff;}#sk-container-id-1 div.sk-toggleable__content pre {margin: 0.2em;color: black;border-radius: 0.25em;background-color: #f0f8ff;}#sk-container-id-1 input.sk-toggleable__control:checked~div.sk-toggleable__content {max-height: 200px;max-width: 100%;overflow: auto;}#sk-container-id-1 input.sk-toggleable__control:checked~label.sk-toggleable__label-arrow:before {content: \"▾\";}#sk-container-id-1 div.sk-estimator input.sk-toggleable__control:checked~label.sk-toggleable__label {background-color: #d4ebff;}#sk-container-id-1 div.sk-label input.sk-toggleable__control:checked~label.sk-toggleable__label {background-color: #d4ebff;}#sk-container-id-1 input.sk-hidden--visually {border: 0;clip: rect(1px 1px 1px 1px);clip: rect(1px, 1px, 1px, 1px);height: 1px;margin: -1px;overflow: hidden;padding: 0;position: absolute;width: 1px;}#sk-container-id-1 div.sk-estimator {font-family: monospace;background-color: #f0f8ff;border: 1px dotted black;border-radius: 0.25em;box-sizing: border-box;margin-bottom: 0.5em;}#sk-container-id-1 div.sk-estimator:hover {background-color: #d4ebff;}#sk-container-id-1 div.sk-parallel-item::after {content: \"\";width: 100%;border-bottom: 1px solid gray;flex-grow: 1;}#sk-container-id-1 div.sk-label:hover label.sk-toggleable__label {background-color: #d4ebff;}#sk-container-id-1 div.sk-serial::before {content: \"\";position: absolute;border-left: 1px solid gray;box-sizing: border-box;top: 0;bottom: 0;left: 50%;z-index: 0;}#sk-container-id-1 div.sk-serial {display: flex;flex-direction: column;align-items: center;background-color: white;padding-right: 0.2em;padding-left: 0.2em;position: relative;}#sk-container-id-1 div.sk-item {position: relative;z-index: 1;}#sk-container-id-1 div.sk-parallel {display: flex;align-items: stretch;justify-content: center;background-color: white;position: relative;}#sk-container-id-1 div.sk-item::before, #sk-container-id-1 div.sk-parallel-item::before {content: \"\";position: absolute;border-left: 1px solid gray;box-sizing: border-box;top: 0;bottom: 0;left: 50%;z-index: -1;}#sk-container-id-1 div.sk-parallel-item {display: flex;flex-direction: column;z-index: 1;position: relative;background-color: white;}#sk-container-id-1 div.sk-parallel-item:first-child::after {align-self: flex-end;width: 50%;}#sk-container-id-1 div.sk-parallel-item:last-child::after {align-self: flex-start;width: 50%;}#sk-container-id-1 div.sk-parallel-item:only-child::after {width: 0;}#sk-container-id-1 div.sk-dashed-wrapped {border: 1px dashed gray;margin: 0 0.4em 0.5em 0.4em;box-sizing: border-box;padding-bottom: 0.4em;background-color: white;}#sk-container-id-1 div.sk-label label {font-family: monospace;font-weight: bold;display: inline-block;line-height: 1.2em;}#sk-container-id-1 div.sk-label-container {text-align: center;}#sk-container-id-1 div.sk-container {/* jupyter's `normalize.less` sets `[hidden] { display: none; }` but bootstrap.min.css set `[hidden] { display: none !important; }` so we also need the `!important` here to be able to override the default hidden behavior on the sphinx rendered scikit-learn.org. See: https://github.com/scikit-learn/scikit-learn/issues/21755 */display: inline-block !important;position: relative;}#sk-container-id-1 div.sk-text-repr-fallback {display: none;}</style><div id=\"sk-container-id-1\" class=\"sk-top-container\"><div class=\"sk-text-repr-fallback\"><pre>Pipeline(steps=[(&#x27;scale&#x27;, StandardScaler()), (&#x27;model&#x27;, LogisticRegression())])</pre><b>In a Jupyter environment, please rerun this cell to show the HTML representation or trust the notebook. <br />On GitHub, the HTML representation is unable to render, please try loading this page with nbviewer.org.</b></div><div class=\"sk-container\" hidden><div class=\"sk-item sk-dashed-wrapped\"><div class=\"sk-label-container\"><div class=\"sk-label sk-toggleable\"><input class=\"sk-toggleable__control sk-hidden--visually\" id=\"sk-estimator-id-1\" type=\"checkbox\" ><label for=\"sk-estimator-id-1\" class=\"sk-toggleable__label sk-toggleable__label-arrow\">Pipeline</label><div class=\"sk-toggleable__content\"><pre>Pipeline(steps=[(&#x27;scale&#x27;, StandardScaler()), (&#x27;model&#x27;, LogisticRegression())])</pre></div></div></div><div class=\"sk-serial\"><div class=\"sk-item\"><div class=\"sk-estimator sk-toggleable\"><input class=\"sk-toggleable__control sk-hidden--visually\" id=\"sk-estimator-id-2\" type=\"checkbox\" ><label for=\"sk-estimator-id-2\" class=\"sk-toggleable__label sk-toggleable__label-arrow\">StandardScaler</label><div class=\"sk-toggleable__content\"><pre>StandardScaler()</pre></div></div></div><div class=\"sk-item\"><div class=\"sk-estimator sk-toggleable\"><input class=\"sk-toggleable__control sk-hidden--visually\" id=\"sk-estimator-id-3\" type=\"checkbox\" ><label for=\"sk-estimator-id-3\" class=\"sk-toggleable__label sk-toggleable__label-arrow\">LogisticRegression</label><div class=\"sk-toggleable__content\"><pre>LogisticRegression()</pre></div></div></div></div></div></div></div>"
      ],
      "text/plain": [
       "Pipeline(steps=[('scale', StandardScaler()), ('model', LogisticRegression())])"
      ]
     },
     "execution_count": 43,
     "metadata": {},
     "output_type": "execute_result"
    }
   ],
   "source": [
    "model.fit(X_train, y_train.values.ravel())"
   ]
  },
  {
   "cell_type": "code",
   "execution_count": 44,
   "id": "af59f8c0",
   "metadata": {
    "execution": {
     "iopub.execute_input": "2025-07-30T20:44:39.819517Z",
     "iopub.status.busy": "2025-07-30T20:44:39.818869Z",
     "iopub.status.idle": "2025-07-30T20:44:39.824152Z",
     "shell.execute_reply": "2025-07-30T20:44:39.823345Z"
    },
    "papermill": {
     "duration": 0.030664,
     "end_time": "2025-07-30T20:44:39.825603",
     "exception": false,
     "start_time": "2025-07-30T20:44:39.794939",
     "status": "completed"
    },
    "tags": []
   },
   "outputs": [],
   "source": [
    "from fairness_multiverse.universe import predict_w_threshold"
   ]
  },
  {
   "cell_type": "code",
   "execution_count": 45,
   "id": "a7cf2e16",
   "metadata": {
    "execution": {
     "iopub.execute_input": "2025-07-30T20:44:39.872947Z",
     "iopub.status.busy": "2025-07-30T20:44:39.872565Z",
     "iopub.status.idle": "2025-07-30T20:44:40.065694Z",
     "shell.execute_reply": "2025-07-30T20:44:40.064833Z"
    },
    "papermill": {
     "duration": 0.218119,
     "end_time": "2025-07-30T20:44:40.067233",
     "exception": false,
     "start_time": "2025-07-30T20:44:39.849114",
     "status": "completed"
    },
    "tags": []
   },
   "outputs": [
    {
     "data": {
      "text/plain": [
       "0.8573737598929885"
      ]
     },
     "execution_count": 45,
     "metadata": {},
     "output_type": "execute_result"
    }
   ],
   "source": [
    "probs_test = model.predict_proba(X_test)\n",
    "\n",
    "'''\n",
    "Below code returns a boolean array (or binary 0/1 array depending on how it’s used) where each element \n",
    "is True if the probability of class 1 is greater than or equal to the threshold, and False otherwise.\n",
    "'''\n",
    "y_pred_default = predict_w_threshold(probs_test, 0.5)\n",
    "\n",
    "from sklearn.metrics import accuracy_score\n",
    "\n",
    "# Naive prediction\n",
    "accuracy_score(y_true = y_true, y_pred = y_pred_default)"
   ]
  },
  {
   "cell_type": "code",
   "execution_count": 46,
   "id": "081964c3",
   "metadata": {
    "execution": {
     "iopub.execute_input": "2025-07-30T20:44:40.116982Z",
     "iopub.status.busy": "2025-07-30T20:44:40.116334Z",
     "iopub.status.idle": "2025-07-30T20:44:40.295465Z",
     "shell.execute_reply": "2025-07-30T20:44:40.294538Z"
    },
    "papermill": {
     "duration": 0.205572,
     "end_time": "2025-07-30T20:44:40.297126",
     "exception": false,
     "start_time": "2025-07-30T20:44:40.091554",
     "status": "completed"
    },
    "tags": []
   },
   "outputs": [
    {
     "data": {
      "text/plain": [
       "array([0, 0, 0, ..., 0, 0, 0])"
      ]
     },
     "execution_count": 46,
     "metadata": {},
     "output_type": "execute_result"
    }
   ],
   "source": [
    "model.predict(X_test)"
   ]
  },
  {
   "cell_type": "markdown",
   "id": "56c9705b",
   "metadata": {
    "papermill": {
     "duration": 0.023611,
     "end_time": "2025-07-30T20:44:40.347701",
     "exception": false,
     "start_time": "2025-07-30T20:44:40.324090",
     "status": "completed"
    },
    "tags": []
   },
   "source": [
    "# Conformal Prediction"
   ]
  },
  {
   "cell_type": "code",
   "execution_count": 47,
   "id": "160ec6ff",
   "metadata": {
    "execution": {
     "iopub.execute_input": "2025-07-30T20:44:40.394892Z",
     "iopub.status.busy": "2025-07-30T20:44:40.394349Z",
     "iopub.status.idle": "2025-07-30T20:44:40.399768Z",
     "shell.execute_reply": "2025-07-30T20:44:40.398822Z"
    },
    "papermill": {
     "duration": 0.031362,
     "end_time": "2025-07-30T20:44:40.401434",
     "exception": false,
     "start_time": "2025-07-30T20:44:40.370072",
     "status": "completed"
    },
    "tags": []
   },
   "outputs": [],
   "source": [
    "# Miscoverage level for conformal prediction (10% allowed error rate => 90% target coverage)\n",
    "alpha = 0.1"
   ]
  },
  {
   "cell_type": "code",
   "execution_count": 48,
   "id": "eadf4555-3dd3-440e-8e35-f82a4ad9f855",
   "metadata": {
    "execution": {
     "iopub.execute_input": "2025-07-30T20:44:40.451114Z",
     "iopub.status.busy": "2025-07-30T20:44:40.450386Z",
     "iopub.status.idle": "2025-07-30T20:44:40.634753Z",
     "shell.execute_reply": "2025-07-30T20:44:40.633747Z"
    },
    "papermill": {
     "duration": 0.210338,
     "end_time": "2025-07-30T20:44:40.636465",
     "exception": false,
     "start_time": "2025-07-30T20:44:40.426127",
     "status": "completed"
    },
    "tags": []
   },
   "outputs": [],
   "source": [
    "probs_calib = model.predict_proba(X_calib)"
   ]
  },
  {
   "cell_type": "code",
   "execution_count": 49,
   "id": "2ed93547-6d5d-4983-9b36-1ecb300da49a",
   "metadata": {
    "execution": {
     "iopub.execute_input": "2025-07-30T20:44:40.701381Z",
     "iopub.status.busy": "2025-07-30T20:44:40.700747Z",
     "iopub.status.idle": "2025-07-30T20:44:40.706274Z",
     "shell.execute_reply": "2025-07-30T20:44:40.705291Z"
    },
    "papermill": {
     "duration": 0.030863,
     "end_time": "2025-07-30T20:44:40.707821",
     "exception": false,
     "start_time": "2025-07-30T20:44:40.676958",
     "status": "completed"
    },
    "tags": []
   },
   "outputs": [],
   "source": [
    "y_calib = y_calib.values.ravel().astype(int)"
   ]
  },
  {
   "cell_type": "code",
   "execution_count": 50,
   "id": "65d1320d-f588-4b38-9072-62af1ae97f7d",
   "metadata": {
    "execution": {
     "iopub.execute_input": "2025-07-30T20:44:40.755436Z",
     "iopub.status.busy": "2025-07-30T20:44:40.754867Z",
     "iopub.status.idle": "2025-07-30T20:44:40.762715Z",
     "shell.execute_reply": "2025-07-30T20:44:40.761729Z"
    },
    "papermill": {
     "duration": 0.033475,
     "end_time": "2025-07-30T20:44:40.764492",
     "exception": false,
     "start_time": "2025-07-30T20:44:40.731017",
     "status": "completed"
    },
    "tags": []
   },
   "outputs": [],
   "source": [
    "from fairness_multiverse.conformal import compute_nc_scores\n",
    "\n",
    "# Compute nonconformity scores on calibration set (1 - probability of true class)\n",
    "nc_scores = compute_nc_scores(probs_calib, y_calib)"
   ]
  },
  {
   "cell_type": "code",
   "execution_count": 51,
   "id": "df3b8ca3-53b7-43d5-9667-7c85da7aeda2",
   "metadata": {
    "execution": {
     "iopub.execute_input": "2025-07-30T20:44:40.813080Z",
     "iopub.status.busy": "2025-07-30T20:44:40.812599Z",
     "iopub.status.idle": "2025-07-30T20:44:40.819415Z",
     "shell.execute_reply": "2025-07-30T20:44:40.818617Z"
    },
    "papermill": {
     "duration": 0.032755,
     "end_time": "2025-07-30T20:44:40.820907",
     "exception": false,
     "start_time": "2025-07-30T20:44:40.788152",
     "status": "completed"
    },
    "tags": []
   },
   "outputs": [],
   "source": [
    "from fairness_multiverse.conformal import find_threshold\n",
    "\n",
    "# Find conformal threshold q_hat for the given alpha (split conformal method)\n",
    "q_hat = find_threshold(nc_scores, alpha)"
   ]
  },
  {
   "cell_type": "code",
   "execution_count": 52,
   "id": "4d29e6c1-0ef6-4aa4-b8fe-4fe79b0d033a",
   "metadata": {
    "execution": {
     "iopub.execute_input": "2025-07-30T20:44:40.869241Z",
     "iopub.status.busy": "2025-07-30T20:44:40.868738Z",
     "iopub.status.idle": "2025-07-30T20:44:40.876015Z",
     "shell.execute_reply": "2025-07-30T20:44:40.875175Z"
    },
    "papermill": {
     "duration": 0.033393,
     "end_time": "2025-07-30T20:44:40.877563",
     "exception": false,
     "start_time": "2025-07-30T20:44:40.844170",
     "status": "completed"
    },
    "tags": []
   },
   "outputs": [
    {
     "data": {
      "text/plain": [
       "0.6851717109856603"
      ]
     },
     "execution_count": 52,
     "metadata": {},
     "output_type": "execute_result"
    }
   ],
   "source": [
    "q_hat"
   ]
  },
  {
   "cell_type": "code",
   "execution_count": 53,
   "id": "92460794-cdac-4be2-ba28-f28c0515a6fb",
   "metadata": {
    "execution": {
     "iopub.execute_input": "2025-07-30T20:44:40.928732Z",
     "iopub.status.busy": "2025-07-30T20:44:40.927468Z",
     "iopub.status.idle": "2025-07-30T20:44:41.898096Z",
     "shell.execute_reply": "2025-07-30T20:44:41.897359Z"
    },
    "papermill": {
     "duration": 0.997216,
     "end_time": "2025-07-30T20:44:41.899971",
     "exception": false,
     "start_time": "2025-07-30T20:44:40.902755",
     "status": "completed"
    },
    "tags": []
   },
   "outputs": [],
   "source": [
    "from fairness_multiverse.conformal import predict_conformal_sets\n",
    "\n",
    "# Generate prediction sets for each test example\n",
    "pred_sets = predict_conformal_sets(model, X_test, q_hat)"
   ]
  },
  {
   "cell_type": "code",
   "execution_count": 54,
   "id": "d90c9a65-e6db-4f5d-80cd-e68fb7e46829",
   "metadata": {
    "execution": {
     "iopub.execute_input": "2025-07-30T20:44:41.956115Z",
     "iopub.status.busy": "2025-07-30T20:44:41.955488Z",
     "iopub.status.idle": "2025-07-30T20:44:41.961451Z",
     "shell.execute_reply": "2025-07-30T20:44:41.960437Z"
    },
    "papermill": {
     "duration": 0.035414,
     "end_time": "2025-07-30T20:44:41.963169",
     "exception": false,
     "start_time": "2025-07-30T20:44:41.927755",
     "status": "completed"
    },
    "tags": []
   },
   "outputs": [],
   "source": [
    "y_true = y_true.squeeze()"
   ]
  },
  {
   "cell_type": "code",
   "execution_count": 55,
   "id": "3a58a54a-1e68-46b9-927a-df01f18aebc8",
   "metadata": {
    "execution": {
     "iopub.execute_input": "2025-07-30T20:44:42.020590Z",
     "iopub.status.busy": "2025-07-30T20:44:42.020160Z",
     "iopub.status.idle": "2025-07-30T20:44:42.929680Z",
     "shell.execute_reply": "2025-07-30T20:44:42.928635Z"
    },
    "papermill": {
     "duration": 0.940813,
     "end_time": "2025-07-30T20:44:42.931789",
     "exception": false,
     "start_time": "2025-07-30T20:44:41.990976",
     "status": "completed"
    },
    "tags": []
   },
   "outputs": [],
   "source": [
    "from fairness_multiverse.conformal import evaluate_sets\n",
    "\n",
    "# Evaluate coverage and average set size on test data\n",
    "metrics = evaluate_sets(pred_sets, y_true)"
   ]
  },
  {
   "cell_type": "markdown",
   "id": "2b569c12-9aaa-4c88-98c9-bbcd0cf3ebb8",
   "metadata": {
    "papermill": {
     "duration": 0.025951,
     "end_time": "2025-07-30T20:44:42.984320",
     "exception": false,
     "start_time": "2025-07-30T20:44:42.958369",
     "status": "completed"
    },
    "tags": []
   },
   "source": [
    "# CP Metrics"
   ]
  },
  {
   "cell_type": "code",
   "execution_count": 56,
   "id": "5ce0a5cb-201f-45a0-ade5-94c7f0bd6095",
   "metadata": {
    "execution": {
     "iopub.execute_input": "2025-07-30T20:44:43.047330Z",
     "iopub.status.busy": "2025-07-30T20:44:43.046854Z",
     "iopub.status.idle": "2025-07-30T20:44:43.054053Z",
     "shell.execute_reply": "2025-07-30T20:44:43.053078Z"
    },
    "papermill": {
     "duration": 0.036864,
     "end_time": "2025-07-30T20:44:43.055874",
     "exception": false,
     "start_time": "2025-07-30T20:44:43.019010",
     "status": "completed"
    },
    "tags": []
   },
   "outputs": [
    {
     "data": {
      "text/plain": [
       "{'coverage': 0.9102775610299855, 'avg_size': 1.1346561141455802}"
      ]
     },
     "execution_count": 56,
     "metadata": {},
     "output_type": "execute_result"
    }
   ],
   "source": [
    "metrics"
   ]
  },
  {
   "cell_type": "code",
   "execution_count": 57,
   "id": "9b9a838d-31c9-430b-ae14-12baee460d17",
   "metadata": {
    "execution": {
     "iopub.execute_input": "2025-07-30T20:44:43.110325Z",
     "iopub.status.busy": "2025-07-30T20:44:43.109653Z",
     "iopub.status.idle": "2025-07-30T20:44:43.116364Z",
     "shell.execute_reply": "2025-07-30T20:44:43.115288Z"
    },
    "papermill": {
     "duration": 0.035417,
     "end_time": "2025-07-30T20:44:43.118060",
     "exception": false,
     "start_time": "2025-07-30T20:44:43.082643",
     "status": "completed"
    },
    "tags": []
   },
   "outputs": [],
   "source": [
    "example_universe = universe.copy()\n",
    "universe_training_year = example_universe.get(\"training_year\")\n",
    "universe_training_size = example_universe.get(\"training_size\")\n",
    "universe_scale = example_universe.get(\"scale\")\n",
    "universe_model = example_universe.get(\"model\")\n",
    "universe_exclude_features = example_universe.get(\"exclude_features\")\n",
    "universe_exclude_subgroups = example_universe.get(\"exclude_subgroups\")"
   ]
  },
  {
   "cell_type": "code",
   "execution_count": 58,
   "id": "f4b6a8ac-9dc0-4245-8a91-5b3b5999c4f9",
   "metadata": {
    "execution": {
     "iopub.execute_input": "2025-07-30T20:44:43.173674Z",
     "iopub.status.busy": "2025-07-30T20:44:43.172956Z",
     "iopub.status.idle": "2025-07-30T20:44:43.180720Z",
     "shell.execute_reply": "2025-07-30T20:44:43.179547Z"
    },
    "papermill": {
     "duration": 0.036783,
     "end_time": "2025-07-30T20:44:43.182352",
     "exception": false,
     "start_time": "2025-07-30T20:44:43.145569",
     "status": "completed"
    },
    "tags": []
   },
   "outputs": [],
   "source": [
    "cp_metrics_dict = {\n",
    "    \"universe_id\": [universe_id],\n",
    "    \"universe_training_year\": [universe_training_year],\n",
    "    \"universe_training_size\": [universe_training_size],\n",
    "    \"universe_scale\": [universe_scale],\n",
    "    \"universe_model\": [universe_model],\n",
    "    \"universe_exclude_features\": [universe_exclude_features],\n",
    "    \"universe_exclude_subgroups\": [universe_exclude_subgroups],\n",
    "    \"q_hat\": [q_hat],\n",
    "    \"coverage\": [metrics[\"coverage\"]],\n",
    "    \"avg_size\": [metrics[\"avg_size\"]],\n",
    "}"
   ]
  },
  {
   "cell_type": "code",
   "execution_count": 59,
   "id": "908acbb1-0371-4915-85ca-3fa520d2efe2",
   "metadata": {
    "execution": {
     "iopub.execute_input": "2025-07-30T20:44:43.210926Z",
     "iopub.status.busy": "2025-07-30T20:44:43.210483Z",
     "iopub.status.idle": "2025-07-30T20:44:43.217113Z",
     "shell.execute_reply": "2025-07-30T20:44:43.216081Z"
    },
    "papermill": {
     "duration": 0.022957,
     "end_time": "2025-07-30T20:44:43.219465",
     "exception": false,
     "start_time": "2025-07-30T20:44:43.196508",
     "status": "completed"
    },
    "tags": []
   },
   "outputs": [
    {
     "data": {
      "text/plain": [
       "{'universe_id': ['268b1b88a8184128cbcf23d6d669432b'],\n",
       " 'universe_training_year': ['2014'],\n",
       " 'universe_training_size': ['5k'],\n",
       " 'universe_scale': ['scale'],\n",
       " 'universe_model': ['penalized_logreg'],\n",
       " 'universe_exclude_features': ['nationality'],\n",
       " 'universe_exclude_subgroups': ['keep-all'],\n",
       " 'q_hat': [0.6851717109856603],\n",
       " 'coverage': [0.9102775610299855],\n",
       " 'avg_size': [1.1346561141455802]}"
      ]
     },
     "execution_count": 59,
     "metadata": {},
     "output_type": "execute_result"
    }
   ],
   "source": [
    "cp_metrics_dict"
   ]
  },
  {
   "cell_type": "code",
   "execution_count": 60,
   "id": "33007efc-14e9-4ec6-97ac-56a455c82265",
   "metadata": {
    "execution": {
     "iopub.execute_input": "2025-07-30T20:44:43.250742Z",
     "iopub.status.busy": "2025-07-30T20:44:43.250043Z",
     "iopub.status.idle": "2025-07-30T20:44:43.255277Z",
     "shell.execute_reply": "2025-07-30T20:44:43.254593Z"
    },
    "papermill": {
     "duration": 0.021713,
     "end_time": "2025-07-30T20:44:43.256640",
     "exception": false,
     "start_time": "2025-07-30T20:44:43.234927",
     "status": "completed"
    },
    "tags": []
   },
   "outputs": [],
   "source": [
    "cp_metrics_df = pd.DataFrame(cp_metrics_dict)"
   ]
  },
  {
   "cell_type": "code",
   "execution_count": 61,
   "id": "db12611b-57b2-4910-b9d0-355adfd6e7bf",
   "metadata": {
    "execution": {
     "iopub.execute_input": "2025-07-30T20:44:43.285115Z",
     "iopub.status.busy": "2025-07-30T20:44:43.284765Z",
     "iopub.status.idle": "2025-07-30T20:44:43.299644Z",
     "shell.execute_reply": "2025-07-30T20:44:43.298936Z"
    },
    "papermill": {
     "duration": 0.030512,
     "end_time": "2025-07-30T20:44:43.301175",
     "exception": false,
     "start_time": "2025-07-30T20:44:43.270663",
     "status": "completed"
    },
    "tags": []
   },
   "outputs": [
    {
     "data": {
      "text/html": [
       "<div>\n",
       "<style scoped>\n",
       "    .dataframe tbody tr th:only-of-type {\n",
       "        vertical-align: middle;\n",
       "    }\n",
       "\n",
       "    .dataframe tbody tr th {\n",
       "        vertical-align: top;\n",
       "    }\n",
       "\n",
       "    .dataframe thead th {\n",
       "        text-align: right;\n",
       "    }\n",
       "</style>\n",
       "<table border=\"1\" class=\"dataframe\">\n",
       "  <thead>\n",
       "    <tr style=\"text-align: right;\">\n",
       "      <th></th>\n",
       "      <th>universe_id</th>\n",
       "      <th>universe_training_year</th>\n",
       "      <th>universe_training_size</th>\n",
       "      <th>universe_scale</th>\n",
       "      <th>universe_model</th>\n",
       "      <th>universe_exclude_features</th>\n",
       "      <th>universe_exclude_subgroups</th>\n",
       "      <th>q_hat</th>\n",
       "      <th>coverage</th>\n",
       "      <th>avg_size</th>\n",
       "    </tr>\n",
       "  </thead>\n",
       "  <tbody>\n",
       "    <tr>\n",
       "      <th>0</th>\n",
       "      <td>268b1b88a8184128cbcf23d6d669432b</td>\n",
       "      <td>2014</td>\n",
       "      <td>5k</td>\n",
       "      <td>scale</td>\n",
       "      <td>penalized_logreg</td>\n",
       "      <td>nationality</td>\n",
       "      <td>keep-all</td>\n",
       "      <td>0.685172</td>\n",
       "      <td>0.910278</td>\n",
       "      <td>1.134656</td>\n",
       "    </tr>\n",
       "  </tbody>\n",
       "</table>\n",
       "</div>"
      ],
      "text/plain": [
       "                        universe_id universe_training_year  \\\n",
       "0  268b1b88a8184128cbcf23d6d669432b                   2014   \n",
       "\n",
       "  universe_training_size universe_scale    universe_model  \\\n",
       "0                     5k          scale  penalized_logreg   \n",
       "\n",
       "  universe_exclude_features universe_exclude_subgroups     q_hat  coverage  \\\n",
       "0               nationality                   keep-all  0.685172  0.910278   \n",
       "\n",
       "   avg_size  \n",
       "0  1.134656  "
      ]
     },
     "execution_count": 61,
     "metadata": {},
     "output_type": "execute_result"
    }
   ],
   "source": [
    "cp_metrics_df"
   ]
  },
  {
   "cell_type": "code",
   "execution_count": 62,
   "id": "b7fbde55-a0a1-47e4-9af6-fe4a17fa8c61",
   "metadata": {
    "execution": {
     "iopub.execute_input": "2025-07-30T20:44:43.329545Z",
     "iopub.status.busy": "2025-07-30T20:44:43.329006Z",
     "iopub.status.idle": "2025-07-30T20:44:43.333536Z",
     "shell.execute_reply": "2025-07-30T20:44:43.332824Z"
    },
    "papermill": {
     "duration": 0.019914,
     "end_time": "2025-07-30T20:44:43.334872",
     "exception": false,
     "start_time": "2025-07-30T20:44:43.314958",
     "status": "completed"
    },
    "tags": []
   },
   "outputs": [],
   "source": [
    "# Conditional Coverage & looking at subgroups"
   ]
  },
  {
   "cell_type": "code",
   "execution_count": 63,
   "id": "027ae886-68dd-4141-96c7-805a5450e1ef",
   "metadata": {
    "execution": {
     "iopub.execute_input": "2025-07-30T20:44:43.366040Z",
     "iopub.status.busy": "2025-07-30T20:44:43.365481Z",
     "iopub.status.idle": "2025-07-30T20:44:43.651521Z",
     "shell.execute_reply": "2025-07-30T20:44:43.650438Z"
    },
    "papermill": {
     "duration": 0.304403,
     "end_time": "2025-07-30T20:44:43.653633",
     "exception": false,
     "start_time": "2025-07-30T20:44:43.349230",
     "status": "completed"
    },
    "tags": []
   },
   "outputs": [],
   "source": [
    "from fairness_multiverse.conformal import build_cp_groups\n",
    "\n",
    "cp_groups_df = build_cp_groups(pred_sets, y_true, X_test.index, org_test)\n",
    "#needs universe_id and setting"
   ]
  },
  {
   "cell_type": "code",
   "execution_count": 64,
   "id": "01d5802c-663a-4d1f-9d69-e036faaffbf7",
   "metadata": {
    "execution": {
     "iopub.execute_input": "2025-07-30T20:44:43.714361Z",
     "iopub.status.busy": "2025-07-30T20:44:43.713687Z",
     "iopub.status.idle": "2025-07-30T20:44:43.719696Z",
     "shell.execute_reply": "2025-07-30T20:44:43.718541Z"
    },
    "papermill": {
     "duration": 0.037763,
     "end_time": "2025-07-30T20:44:43.721437",
     "exception": false,
     "start_time": "2025-07-30T20:44:43.683674",
     "status": "completed"
    },
    "tags": []
   },
   "outputs": [],
   "source": [
    "#delete\n",
    "#cp_groups_df"
   ]
  },
  {
   "cell_type": "code",
   "execution_count": 65,
   "id": "fa424af1-d1eb-443d-b717-2d279ada8408",
   "metadata": {
    "execution": {
     "iopub.execute_input": "2025-07-30T20:44:43.785477Z",
     "iopub.status.busy": "2025-07-30T20:44:43.784938Z",
     "iopub.status.idle": "2025-07-30T20:44:43.791008Z",
     "shell.execute_reply": "2025-07-30T20:44:43.789885Z"
    },
    "papermill": {
     "duration": 0.039563,
     "end_time": "2025-07-30T20:44:43.793124",
     "exception": false,
     "start_time": "2025-07-30T20:44:43.753561",
     "status": "completed"
    },
    "tags": []
   },
   "outputs": [],
   "source": [
    "#delete\n",
    "#percentage = (cp_groups_df['nongerman_female'] == 1).mean() * 100\n",
    "#print(percentage)\n"
   ]
  },
  {
   "cell_type": "code",
   "execution_count": 66,
   "id": "6cbdab96-b2b2-45af-ad54-d0516db2e28d",
   "metadata": {
    "execution": {
     "iopub.execute_input": "2025-07-30T20:44:43.859588Z",
     "iopub.status.busy": "2025-07-30T20:44:43.858835Z",
     "iopub.status.idle": "2025-07-30T20:44:45.514489Z",
     "shell.execute_reply": "2025-07-30T20:44:45.513521Z"
    },
    "papermill": {
     "duration": 1.691549,
     "end_time": "2025-07-30T20:44:45.516537",
     "exception": false,
     "start_time": "2025-07-30T20:44:43.824988",
     "status": "completed"
    },
    "tags": []
   },
   "outputs": [],
   "source": [
    "# Define covered = 1 if true_label is in the predicted set\n",
    "cp_groups_df['covered'] = cp_groups_df.apply(\n",
    "    lambda r: int(r['true_label'] in r['pred_set']),\n",
    "    axis=1\n",
    ")"
   ]
  },
  {
   "cell_type": "code",
   "execution_count": 67,
   "id": "338ff529-1a6b-4b87-a931-8e4788d52aad",
   "metadata": {
    "execution": {
     "iopub.execute_input": "2025-07-30T20:44:45.575637Z",
     "iopub.status.busy": "2025-07-30T20:44:45.574999Z",
     "iopub.status.idle": "2025-07-30T20:44:45.580101Z",
     "shell.execute_reply": "2025-07-30T20:44:45.579193Z"
    },
    "papermill": {
     "duration": 0.035185,
     "end_time": "2025-07-30T20:44:45.581834",
     "exception": false,
     "start_time": "2025-07-30T20:44:45.546649",
     "status": "completed"
    },
    "tags": []
   },
   "outputs": [],
   "source": [
    "#cp_groups_df"
   ]
  },
  {
   "cell_type": "code",
   "execution_count": 68,
   "id": "90032e27-66df-4540-9169-4e89cfbaa758",
   "metadata": {
    "execution": {
     "iopub.execute_input": "2025-07-30T20:44:45.638555Z",
     "iopub.status.busy": "2025-07-30T20:44:45.637732Z",
     "iopub.status.idle": "2025-07-30T20:44:45.649382Z",
     "shell.execute_reply": "2025-07-30T20:44:45.648451Z"
    },
    "papermill": {
     "duration": 0.041731,
     "end_time": "2025-07-30T20:44:45.651116",
     "exception": false,
     "start_time": "2025-07-30T20:44:45.609385",
     "status": "completed"
    },
    "tags": []
   },
   "outputs": [],
   "source": [
    "subgroups = ['frau1','nongerman','nongerman_male','nongerman_female']\n",
    "\n",
    "# Conditional coverage for subgroup==1\n",
    "cond_coverage = {\n",
    "    g: cp_groups_df.loc[cp_groups_df[g]==1, 'covered'].mean()\n",
    "    for g in subgroups\n",
    "}"
   ]
  },
  {
   "cell_type": "code",
   "execution_count": 69,
   "id": "1e348fb1-b9c3-45bc-ba23-f016827a7e0d",
   "metadata": {
    "execution": {
     "iopub.execute_input": "2025-07-30T20:44:45.703954Z",
     "iopub.status.busy": "2025-07-30T20:44:45.703278Z",
     "iopub.status.idle": "2025-07-30T20:44:45.710565Z",
     "shell.execute_reply": "2025-07-30T20:44:45.709595Z"
    },
    "papermill": {
     "duration": 0.03245,
     "end_time": "2025-07-30T20:44:45.711970",
     "exception": false,
     "start_time": "2025-07-30T20:44:45.679520",
     "status": "completed"
    },
    "tags": []
   },
   "outputs": [
    {
     "data": {
      "text/plain": [
       "{'frau1': 0.9078042862919531,\n",
       " 'nongerman': 0.9093358782911357,\n",
       " 'nongerman_male': 0.9283076645951545,\n",
       " 'nongerman_female': 0.8779433681073026}"
      ]
     },
     "execution_count": 69,
     "metadata": {},
     "output_type": "execute_result"
    }
   ],
   "source": [
    "cond_coverage"
   ]
  },
  {
   "cell_type": "code",
   "execution_count": 70,
   "id": "f5093324-c3dd-4d63-bc4c-8d945e5c8bbb",
   "metadata": {
    "execution": {
     "iopub.execute_input": "2025-07-30T20:44:45.755954Z",
     "iopub.status.busy": "2025-07-30T20:44:45.755615Z",
     "iopub.status.idle": "2025-07-30T20:44:45.761537Z",
     "shell.execute_reply": "2025-07-30T20:44:45.760795Z"
    },
    "papermill": {
     "duration": 0.021459,
     "end_time": "2025-07-30T20:44:45.762742",
     "exception": false,
     "start_time": "2025-07-30T20:44:45.741283",
     "status": "completed"
    },
    "tags": []
   },
   "outputs": [],
   "source": [
    "for subgroup, cov in cond_coverage.items():\n",
    "    cp_metrics_df[f\"cov_{subgroup}\"] = cov"
   ]
  },
  {
   "cell_type": "code",
   "execution_count": 71,
   "id": "6e872e10-dbe5-49e8-b554-5030c98ff75d",
   "metadata": {
    "execution": {
     "iopub.execute_input": "2025-07-30T20:44:45.791187Z",
     "iopub.status.busy": "2025-07-30T20:44:45.790879Z",
     "iopub.status.idle": "2025-07-30T20:44:45.804528Z",
     "shell.execute_reply": "2025-07-30T20:44:45.803793Z"
    },
    "papermill": {
     "duration": 0.028764,
     "end_time": "2025-07-30T20:44:45.805883",
     "exception": false,
     "start_time": "2025-07-30T20:44:45.777119",
     "status": "completed"
    },
    "tags": []
   },
   "outputs": [
    {
     "data": {
      "text/html": [
       "<div>\n",
       "<style scoped>\n",
       "    .dataframe tbody tr th:only-of-type {\n",
       "        vertical-align: middle;\n",
       "    }\n",
       "\n",
       "    .dataframe tbody tr th {\n",
       "        vertical-align: top;\n",
       "    }\n",
       "\n",
       "    .dataframe thead th {\n",
       "        text-align: right;\n",
       "    }\n",
       "</style>\n",
       "<table border=\"1\" class=\"dataframe\">\n",
       "  <thead>\n",
       "    <tr style=\"text-align: right;\">\n",
       "      <th></th>\n",
       "      <th>universe_id</th>\n",
       "      <th>universe_training_year</th>\n",
       "      <th>universe_training_size</th>\n",
       "      <th>universe_scale</th>\n",
       "      <th>universe_model</th>\n",
       "      <th>universe_exclude_features</th>\n",
       "      <th>universe_exclude_subgroups</th>\n",
       "      <th>q_hat</th>\n",
       "      <th>coverage</th>\n",
       "      <th>avg_size</th>\n",
       "      <th>cov_frau1</th>\n",
       "      <th>cov_nongerman</th>\n",
       "      <th>cov_nongerman_male</th>\n",
       "      <th>cov_nongerman_female</th>\n",
       "    </tr>\n",
       "  </thead>\n",
       "  <tbody>\n",
       "    <tr>\n",
       "      <th>0</th>\n",
       "      <td>268b1b88a8184128cbcf23d6d669432b</td>\n",
       "      <td>2014</td>\n",
       "      <td>5k</td>\n",
       "      <td>scale</td>\n",
       "      <td>penalized_logreg</td>\n",
       "      <td>nationality</td>\n",
       "      <td>keep-all</td>\n",
       "      <td>0.685172</td>\n",
       "      <td>0.910278</td>\n",
       "      <td>1.134656</td>\n",
       "      <td>0.907804</td>\n",
       "      <td>0.909336</td>\n",
       "      <td>0.928308</td>\n",
       "      <td>0.877943</td>\n",
       "    </tr>\n",
       "  </tbody>\n",
       "</table>\n",
       "</div>"
      ],
      "text/plain": [
       "                        universe_id universe_training_year  \\\n",
       "0  268b1b88a8184128cbcf23d6d669432b                   2014   \n",
       "\n",
       "  universe_training_size universe_scale    universe_model  \\\n",
       "0                     5k          scale  penalized_logreg   \n",
       "\n",
       "  universe_exclude_features universe_exclude_subgroups     q_hat  coverage  \\\n",
       "0               nationality                   keep-all  0.685172  0.910278   \n",
       "\n",
       "   avg_size  cov_frau1  cov_nongerman  cov_nongerman_male  \\\n",
       "0  1.134656   0.907804       0.909336            0.928308   \n",
       "\n",
       "   cov_nongerman_female  \n",
       "0              0.877943  "
      ]
     },
     "execution_count": 71,
     "metadata": {},
     "output_type": "execute_result"
    }
   ],
   "source": [
    "cp_metrics_df"
   ]
  },
  {
   "cell_type": "markdown",
   "id": "33774451",
   "metadata": {
    "papermill": {
     "duration": 0.028208,
     "end_time": "2025-07-30T20:44:45.851830",
     "exception": false,
     "start_time": "2025-07-30T20:44:45.823622",
     "status": "completed"
    },
    "tags": []
   },
   "source": [
    "# (Fairness) Metrics"
   ]
  },
  {
   "cell_type": "code",
   "execution_count": 72,
   "id": "debc5d62",
   "metadata": {
    "execution": {
     "iopub.execute_input": "2025-07-30T20:44:45.905608Z",
     "iopub.status.busy": "2025-07-30T20:44:45.905128Z",
     "iopub.status.idle": "2025-07-30T20:44:45.926591Z",
     "shell.execute_reply": "2025-07-30T20:44:45.925787Z"
    },
    "papermill": {
     "duration": 0.052535,
     "end_time": "2025-07-30T20:44:45.931676",
     "exception": false,
     "start_time": "2025-07-30T20:44:45.879141",
     "status": "completed"
    },
    "tags": []
   },
   "outputs": [],
   "source": [
    "# do I need to include maxdeutsch1.missing?\n",
    "\n",
    "import numpy as np\n",
    "\n",
    "colname_to_bin = \"maxdeutsch1\"\n",
    "majority_value = org_train[colname_to_bin].mode()[0]\n",
    "\n",
    "org_test[\"majmin\"] = np.where(org_test[colname_to_bin] == majority_value, \"majority\", \"minority\")"
   ]
  },
  {
   "cell_type": "code",
   "execution_count": 73,
   "id": "06a50de5",
   "metadata": {
    "execution": {
     "iopub.execute_input": "2025-07-30T20:44:45.988510Z",
     "iopub.status.busy": "2025-07-30T20:44:45.987616Z",
     "iopub.status.idle": "2025-07-30T20:44:47.602429Z",
     "shell.execute_reply": "2025-07-30T20:44:47.601696Z"
    },
    "papermill": {
     "duration": 1.644749,
     "end_time": "2025-07-30T20:44:47.603841",
     "exception": false,
     "start_time": "2025-07-30T20:44:45.959092",
     "status": "completed"
    },
    "tags": []
   },
   "outputs": [],
   "source": [
    "example_universe = universe.copy()\n",
    "example_universe[\"cutoff\"] = example_universe[\"cutoff\"][0]\n",
    "example_universe[\"eval_fairness_grouping\"] = example_universe[\"eval_fairness_grouping\"][0]\n",
    "fairness_dict, metric_frame = universe_analysis.compute_metrics(\n",
    "    example_universe,\n",
    "    y_pred_prob=probs_test,\n",
    "    y_test=y_true,\n",
    "    org_test=org_test,\n",
    ")"
   ]
  },
  {
   "cell_type": "markdown",
   "id": "f95d4e02",
   "metadata": {
    "papermill": {
     "duration": 0.013069,
     "end_time": "2025-07-30T20:44:47.631578",
     "exception": false,
     "start_time": "2025-07-30T20:44:47.618509",
     "status": "completed"
    },
    "tags": []
   },
   "source": [
    "# Overall"
   ]
  },
  {
   "cell_type": "markdown",
   "id": "bdee4871",
   "metadata": {
    "papermill": {
     "duration": 0.013934,
     "end_time": "2025-07-30T20:44:47.658769",
     "exception": false,
     "start_time": "2025-07-30T20:44:47.644835",
     "status": "completed"
    },
    "tags": []
   },
   "source": [
    "Fairness\n",
    "Main fairness target: Equalized Odds. Seems to be a better fit than equal opportunity, since we're not only interested in Y = 1. Seems to be a better fit than demographic parity, since we also care about accuracy, not just equal distribution of preds.\n",
    "\n",
    "Pick column for computation of fairness metrics\n",
    "\n",
    "Performance\n",
    "Overall performance measures, most interesting in relation to the measures split by group below"
   ]
  },
  {
   "cell_type": "code",
   "execution_count": 74,
   "id": "c4e067c6",
   "metadata": {
    "execution": {
     "iopub.execute_input": "2025-07-30T20:44:47.686756Z",
     "iopub.status.busy": "2025-07-30T20:44:47.686261Z",
     "iopub.status.idle": "2025-07-30T20:44:47.693629Z",
     "shell.execute_reply": "2025-07-30T20:44:47.692967Z"
    },
    "papermill": {
     "duration": 0.022984,
     "end_time": "2025-07-30T20:44:47.694886",
     "exception": false,
     "start_time": "2025-07-30T20:44:47.671902",
     "status": "completed"
    },
    "tags": []
   },
   "outputs": [
    {
     "data": {
      "text/plain": [
       "accuracy                   0.224334\n",
       "balanced accuracy          0.548536\n",
       "f1                         0.245667\n",
       "precision                  0.140341\n",
       "false positive rate        0.887548\n",
       "false negative rate        0.015381\n",
       "selection rate             0.900000\n",
       "count                  89710.000000\n",
       "dtype: float64"
      ]
     },
     "execution_count": 74,
     "metadata": {},
     "output_type": "execute_result"
    }
   ],
   "source": [
    "metric_frame.overall"
   ]
  },
  {
   "cell_type": "markdown",
   "id": "e968fe9d",
   "metadata": {
    "papermill": {
     "duration": 0.013362,
     "end_time": "2025-07-30T20:44:47.722362",
     "exception": false,
     "start_time": "2025-07-30T20:44:47.709000",
     "status": "completed"
    },
    "tags": []
   },
   "source": [
    "By Group"
   ]
  },
  {
   "cell_type": "code",
   "execution_count": 75,
   "id": "ec325bce",
   "metadata": {
    "execution": {
     "iopub.execute_input": "2025-07-30T20:44:47.750532Z",
     "iopub.status.busy": "2025-07-30T20:44:47.750136Z",
     "iopub.status.idle": "2025-07-30T20:44:47.762428Z",
     "shell.execute_reply": "2025-07-30T20:44:47.761609Z"
    },
    "papermill": {
     "duration": 0.028064,
     "end_time": "2025-07-30T20:44:47.763645",
     "exception": false,
     "start_time": "2025-07-30T20:44:47.735581",
     "status": "completed"
    },
    "tags": []
   },
   "outputs": [
    {
     "data": {
      "text/html": [
       "<div>\n",
       "<style scoped>\n",
       "    .dataframe tbody tr th:only-of-type {\n",
       "        vertical-align: middle;\n",
       "    }\n",
       "\n",
       "    .dataframe tbody tr th {\n",
       "        vertical-align: top;\n",
       "    }\n",
       "\n",
       "    .dataframe thead th {\n",
       "        text-align: right;\n",
       "    }\n",
       "</style>\n",
       "<table border=\"1\" class=\"dataframe\">\n",
       "  <thead>\n",
       "    <tr style=\"text-align: right;\">\n",
       "      <th></th>\n",
       "      <th>accuracy</th>\n",
       "      <th>balanced accuracy</th>\n",
       "      <th>f1</th>\n",
       "      <th>precision</th>\n",
       "      <th>false positive rate</th>\n",
       "      <th>false negative rate</th>\n",
       "      <th>selection rate</th>\n",
       "      <th>count</th>\n",
       "    </tr>\n",
       "    <tr>\n",
       "      <th>majmin</th>\n",
       "      <th></th>\n",
       "      <th></th>\n",
       "      <th></th>\n",
       "      <th></th>\n",
       "      <th></th>\n",
       "      <th></th>\n",
       "      <th></th>\n",
       "      <th></th>\n",
       "    </tr>\n",
       "  </thead>\n",
       "  <tbody>\n",
       "    <tr>\n",
       "      <th>majority</th>\n",
       "      <td>0.241521</td>\n",
       "      <td>0.556433</td>\n",
       "      <td>0.255407</td>\n",
       "      <td>0.146738</td>\n",
       "      <td>0.871598</td>\n",
       "      <td>0.015536</td>\n",
       "      <td>0.886511</td>\n",
       "      <td>69170.0</td>\n",
       "    </tr>\n",
       "    <tr>\n",
       "      <th>minority</th>\n",
       "      <td>0.166456</td>\n",
       "      <td>0.522491</td>\n",
       "      <td>0.214164</td>\n",
       "      <td>0.120140</td>\n",
       "      <td>0.940238</td>\n",
       "      <td>0.014780</td>\n",
       "      <td>0.945424</td>\n",
       "      <td>20540.0</td>\n",
       "    </tr>\n",
       "  </tbody>\n",
       "</table>\n",
       "</div>"
      ],
      "text/plain": [
       "          accuracy  balanced accuracy        f1  precision  \\\n",
       "majmin                                                       \n",
       "majority  0.241521           0.556433  0.255407   0.146738   \n",
       "minority  0.166456           0.522491  0.214164   0.120140   \n",
       "\n",
       "          false positive rate  false negative rate  selection rate    count  \n",
       "majmin                                                                       \n",
       "majority             0.871598             0.015536        0.886511  69170.0  \n",
       "minority             0.940238             0.014780        0.945424  20540.0  "
      ]
     },
     "execution_count": 75,
     "metadata": {},
     "output_type": "execute_result"
    }
   ],
   "source": [
    "metric_frame.by_group"
   ]
  },
  {
   "cell_type": "code",
   "execution_count": 76,
   "id": "a9ddbe63",
   "metadata": {
    "execution": {
     "iopub.execute_input": "2025-07-30T20:44:47.792861Z",
     "iopub.status.busy": "2025-07-30T20:44:47.792208Z",
     "iopub.status.idle": "2025-07-30T20:44:49.507710Z",
     "shell.execute_reply": "2025-07-30T20:44:49.507004Z"
    },
    "papermill": {
     "duration": 1.730885,
     "end_time": "2025-07-30T20:44:49.508988",
     "exception": false,
     "start_time": "2025-07-30T20:44:47.778103",
     "status": "completed"
    },
    "tags": []
   },
   "outputs": [
    {
     "data": {
      "text/plain": [
       "array([[<Axes: title={'center': 'accuracy'}, xlabel='majmin'>,\n",
       "        <Axes: title={'center': 'balanced accuracy'}, xlabel='majmin'>,\n",
       "        <Axes: title={'center': 'f1'}, xlabel='majmin'>],\n",
       "       [<Axes: title={'center': 'precision'}, xlabel='majmin'>,\n",
       "        <Axes: title={'center': 'false positive rate'}, xlabel='majmin'>,\n",
       "        <Axes: title={'center': 'false negative rate'}, xlabel='majmin'>],\n",
       "       [<Axes: title={'center': 'selection rate'}, xlabel='majmin'>,\n",
       "        <Axes: title={'center': 'count'}, xlabel='majmin'>,\n",
       "        <Axes: xlabel='majmin'>]], dtype=object)"
      ]
     },
     "execution_count": 76,
     "metadata": {},
     "output_type": "execute_result"
    },
    {
     "data": {
      "image/png": "[encoded data removed]",
      "text/plain": [
       "<Figure size 1200x800 with 9 Axes>"
      ]
     },
     "metadata": {},
     "output_type": "display_data"
    }
   ],
   "source": [
    "# In a graphic\n",
    "metric_frame.by_group.plot.bar(\n",
    "    subplots=True,\n",
    "    layout=[3, 3],\n",
    "    legend=False,\n",
    "    figsize=[12, 8],\n",
    "    title=\"Show all metrics\",\n",
    ")"
   ]
  },
  {
   "cell_type": "markdown",
   "id": "f57a0bac",
   "metadata": {
    "papermill": {
     "duration": 0.014409,
     "end_time": "2025-07-30T20:44:49.538855",
     "exception": false,
     "start_time": "2025-07-30T20:44:49.524446",
     "status": "completed"
    },
    "tags": []
   },
   "source": [
    "# Final Output"
   ]
  },
  {
   "cell_type": "code",
   "execution_count": 77,
   "id": "96d280a3",
   "metadata": {
    "execution": {
     "iopub.execute_input": "2025-07-30T20:44:49.569159Z",
     "iopub.status.busy": "2025-07-30T20:44:49.568693Z",
     "iopub.status.idle": "2025-07-30T20:44:49.575187Z",
     "shell.execute_reply": "2025-07-30T20:44:49.574539Z"
    },
    "papermill": {
     "duration": 0.023259,
     "end_time": "2025-07-30T20:44:49.576420",
     "exception": false,
     "start_time": "2025-07-30T20:44:49.553161",
     "status": "completed"
    },
    "tags": []
   },
   "outputs": [
    {
     "data": {
      "text/plain": [
       "4"
      ]
     },
     "execution_count": 77,
     "metadata": {},
     "output_type": "execute_result"
    }
   ],
   "source": [
    "sub_universes = universe_analysis.generate_sub_universes()\n",
    "len(sub_universes)"
   ]
  },
  {
   "cell_type": "code",
   "execution_count": 78,
   "id": "92adf7ba",
   "metadata": {
    "execution": {
     "iopub.execute_input": "2025-07-30T20:44:49.607454Z",
     "iopub.status.busy": "2025-07-30T20:44:49.606757Z",
     "iopub.status.idle": "2025-07-30T20:44:49.625802Z",
     "shell.execute_reply": "2025-07-30T20:44:49.625118Z"
    },
    "papermill": {
     "duration": 0.035756,
     "end_time": "2025-07-30T20:44:49.627123",
     "exception": false,
     "start_time": "2025-07-30T20:44:49.591367",
     "status": "completed"
    },
    "tags": []
   },
   "outputs": [],
   "source": [
    "def filter_sub_universe_data(sub_universe, org_test):\n",
    "    # Keep all rows — no filtering\n",
    "    keep_rows_mask = np.ones(org_test.shape[0], dtype=bool)\n",
    "\n",
    "    print(f\"[INFO] Keeping all rows: {keep_rows_mask.sum()} rows retained.\")\n",
    "    return keep_rows_mask"
   ]
  },
  {
   "cell_type": "code",
   "execution_count": 79,
   "id": "4a759155",
   "metadata": {
    "execution": {
     "iopub.execute_input": "2025-07-30T20:44:49.658969Z",
     "iopub.status.busy": "2025-07-30T20:44:49.658333Z",
     "iopub.status.idle": "2025-07-30T20:44:56.293361Z",
     "shell.execute_reply": "2025-07-30T20:44:56.292378Z"
    },
    "papermill": {
     "duration": 6.652711,
     "end_time": "2025-07-30T20:44:56.295671",
     "exception": false,
     "start_time": "2025-07-30T20:44:49.642960",
     "status": "completed"
    },
    "tags": []
   },
   "outputs": [
    {
     "name": "stdout",
     "output_type": "stream",
     "text": [
      "Stopping execution_time clock.\n",
      "[INFO] Keeping all rows: 89710 rows retained.\n"
     ]
    },
    {
     "name": "stdout",
     "output_type": "stream",
     "text": [
      "[INFO] Keeping all rows: 89710 rows retained.\n"
     ]
    },
    {
     "name": "stdout",
     "output_type": "stream",
     "text": [
      "[INFO] Keeping all rows: 89710 rows retained.\n"
     ]
    },
    {
     "name": "stdout",
     "output_type": "stream",
     "text": [
      "[INFO] Keeping all rows: 89710 rows retained.\n"
     ]
    },
    {
     "data": {
      "text/html": [
       "<div>\n",
       "<style scoped>\n",
       "    .dataframe tbody tr th:only-of-type {\n",
       "        vertical-align: middle;\n",
       "    }\n",
       "\n",
       "    .dataframe tbody tr th {\n",
       "        vertical-align: top;\n",
       "    }\n",
       "\n",
       "    .dataframe thead th {\n",
       "        text-align: right;\n",
       "    }\n",
       "</style>\n",
       "<table border=\"1\" class=\"dataframe\">\n",
       "  <thead>\n",
       "    <tr style=\"text-align: right;\">\n",
       "      <th></th>\n",
       "      <th>run_no</th>\n",
       "      <th>universe_id</th>\n",
       "      <th>universe_settings</th>\n",
       "      <th>execution_time</th>\n",
       "      <th>test_size_n</th>\n",
       "      <th>test_size_frac</th>\n",
       "      <th>fair_main_equalized_odds_difference</th>\n",
       "      <th>fair_main_equalized_odds_ratio</th>\n",
       "      <th>fair_main_demographic_parity_difference</th>\n",
       "      <th>fair_main_demographic_parity_ratio</th>\n",
       "      <th>...</th>\n",
       "      <th>perf_grp_precision_0</th>\n",
       "      <th>perf_grp_precision_1</th>\n",
       "      <th>perf_grp_false positive rate_0</th>\n",
       "      <th>perf_grp_false positive rate_1</th>\n",
       "      <th>perf_grp_false negative rate_0</th>\n",
       "      <th>perf_grp_false negative rate_1</th>\n",
       "      <th>perf_grp_selection rate_0</th>\n",
       "      <th>perf_grp_selection rate_1</th>\n",
       "      <th>perf_grp_count_0</th>\n",
       "      <th>perf_grp_count_1</th>\n",
       "    </tr>\n",
       "  </thead>\n",
       "  <tbody>\n",
       "    <tr>\n",
       "      <th>0</th>\n",
       "      <td>14</td>\n",
       "      <td>268b1b88a8184128cbcf23d6d669432b</td>\n",
       "      <td>{\"cutoff\": \"quantile_0.1\", \"eval_fairness_grou...</td>\n",
       "      <td>24.487344</td>\n",
       "      <td>89710</td>\n",
       "      <td>1.0</td>\n",
       "      <td>0.068640</td>\n",
       "      <td>0.926997</td>\n",
       "      <td>0.058912</td>\n",
       "      <td>0.937687</td>\n",
       "      <td>...</td>\n",
       "      <td>NaN</td>\n",
       "      <td>NaN</td>\n",
       "      <td>NaN</td>\n",
       "      <td>NaN</td>\n",
       "      <td>NaN</td>\n",
       "      <td>NaN</td>\n",
       "      <td>NaN</td>\n",
       "      <td>NaN</td>\n",
       "      <td>NaN</td>\n",
       "      <td>NaN</td>\n",
       "    </tr>\n",
       "    <tr>\n",
       "      <th>0</th>\n",
       "      <td>14</td>\n",
       "      <td>268b1b88a8184128cbcf23d6d669432b</td>\n",
       "      <td>{\"cutoff\": \"quantile_0.1\", \"eval_fairness_grou...</td>\n",
       "      <td>24.487344</td>\n",
       "      <td>89710</td>\n",
       "      <td>1.0</td>\n",
       "      <td>0.068640</td>\n",
       "      <td>0.926997</td>\n",
       "      <td>0.058912</td>\n",
       "      <td>0.937687</td>\n",
       "      <td>...</td>\n",
       "      <td>0.120140</td>\n",
       "      <td>0.146738</td>\n",
       "      <td>0.940238</td>\n",
       "      <td>0.871598</td>\n",
       "      <td>0.01478</td>\n",
       "      <td>0.015536</td>\n",
       "      <td>0.945424</td>\n",
       "      <td>0.886511</td>\n",
       "      <td>20540.0</td>\n",
       "      <td>69170.0</td>\n",
       "    </tr>\n",
       "    <tr>\n",
       "      <th>0</th>\n",
       "      <td>14</td>\n",
       "      <td>268b1b88a8184128cbcf23d6d669432b</td>\n",
       "      <td>{\"cutoff\": \"quantile_0.25\", \"eval_fairness_gro...</td>\n",
       "      <td>24.487344</td>\n",
       "      <td>89710</td>\n",
       "      <td>1.0</td>\n",
       "      <td>0.144083</td>\n",
       "      <td>0.827074</td>\n",
       "      <td>0.124335</td>\n",
       "      <td>0.853008</td>\n",
       "      <td>...</td>\n",
       "      <td>NaN</td>\n",
       "      <td>NaN</td>\n",
       "      <td>NaN</td>\n",
       "      <td>NaN</td>\n",
       "      <td>NaN</td>\n",
       "      <td>NaN</td>\n",
       "      <td>NaN</td>\n",
       "      <td>NaN</td>\n",
       "      <td>NaN</td>\n",
       "      <td>NaN</td>\n",
       "    </tr>\n",
       "    <tr>\n",
       "      <th>0</th>\n",
       "      <td>14</td>\n",
       "      <td>268b1b88a8184128cbcf23d6d669432b</td>\n",
       "      <td>{\"cutoff\": \"quantile_0.25\", \"eval_fairness_gro...</td>\n",
       "      <td>24.487344</td>\n",
       "      <td>89710</td>\n",
       "      <td>1.0</td>\n",
       "      <td>0.144083</td>\n",
       "      <td>0.827074</td>\n",
       "      <td>0.124335</td>\n",
       "      <td>0.853008</td>\n",
       "      <td>...</td>\n",
       "      <td>0.128525</td>\n",
       "      <td>0.171115</td>\n",
       "      <td>0.833205</td>\n",
       "      <td>0.689122</td>\n",
       "      <td>0.05701</td>\n",
       "      <td>0.065646</td>\n",
       "      <td>0.845862</td>\n",
       "      <td>0.721527</td>\n",
       "      <td>20540.0</td>\n",
       "      <td>69170.0</td>\n",
       "    </tr>\n",
       "  </tbody>\n",
       "</table>\n",
       "<p>4 rows × 50 columns</p>\n",
       "</div>"
      ],
      "text/plain": [
       "  run_no                       universe_id  \\\n",
       "0     14  268b1b88a8184128cbcf23d6d669432b   \n",
       "0     14  268b1b88a8184128cbcf23d6d669432b   \n",
       "0     14  268b1b88a8184128cbcf23d6d669432b   \n",
       "0     14  268b1b88a8184128cbcf23d6d669432b   \n",
       "\n",
       "                                   universe_settings  execution_time  \\\n",
       "0  {\"cutoff\": \"quantile_0.1\", \"eval_fairness_grou...       24.487344   \n",
       "0  {\"cutoff\": \"quantile_0.1\", \"eval_fairness_grou...       24.487344   \n",
       "0  {\"cutoff\": \"quantile_0.25\", \"eval_fairness_gro...       24.487344   \n",
       "0  {\"cutoff\": \"quantile_0.25\", \"eval_fairness_gro...       24.487344   \n",
       "\n",
       "   test_size_n  test_size_frac  fair_main_equalized_odds_difference  \\\n",
       "0        89710             1.0                             0.068640   \n",
       "0        89710             1.0                             0.068640   \n",
       "0        89710             1.0                             0.144083   \n",
       "0        89710             1.0                             0.144083   \n",
       "\n",
       "   fair_main_equalized_odds_ratio  fair_main_demographic_parity_difference  \\\n",
       "0                        0.926997                                 0.058912   \n",
       "0                        0.926997                                 0.058912   \n",
       "0                        0.827074                                 0.124335   \n",
       "0                        0.827074                                 0.124335   \n",
       "\n",
       "   fair_main_demographic_parity_ratio  ...  perf_grp_precision_0  \\\n",
       "0                            0.937687  ...                   NaN   \n",
       "0                            0.937687  ...              0.120140   \n",
       "0                            0.853008  ...                   NaN   \n",
       "0                            0.853008  ...              0.128525   \n",
       "\n",
       "   perf_grp_precision_1  perf_grp_false positive rate_0  \\\n",
       "0                   NaN                             NaN   \n",
       "0              0.146738                        0.940238   \n",
       "0                   NaN                             NaN   \n",
       "0              0.171115                        0.833205   \n",
       "\n",
       "   perf_grp_false positive rate_1  perf_grp_false negative rate_0  \\\n",
       "0                             NaN                             NaN   \n",
       "0                        0.871598                         0.01478   \n",
       "0                             NaN                             NaN   \n",
       "0                        0.689122                         0.05701   \n",
       "\n",
       "   perf_grp_false negative rate_1  perf_grp_selection rate_0  \\\n",
       "0                             NaN                        NaN   \n",
       "0                        0.015536                   0.945424   \n",
       "0                             NaN                        NaN   \n",
       "0                        0.065646                   0.845862   \n",
       "\n",
       "   perf_grp_selection rate_1  perf_grp_count_0  perf_grp_count_1  \n",
       "0                        NaN               NaN               NaN  \n",
       "0                   0.886511           20540.0           69170.0  \n",
       "0                        NaN               NaN               NaN  \n",
       "0                   0.721527           20540.0           69170.0  \n",
       "\n",
       "[4 rows x 50 columns]"
      ]
     },
     "execution_count": 79,
     "metadata": {},
     "output_type": "execute_result"
    }
   ],
   "source": [
    "final_output = universe_analysis.generate_final_output(\n",
    "    y_pred_prob=probs_test,\n",
    "    y_test=y_true,\n",
    "    org_test=org_test,\n",
    "    filter_data=filter_sub_universe_data,\n",
    "    cp_metrics_df=cp_metrics_df,\n",
    "    save=True,\n",
    ")\n",
    "final_output"
   ]
  },
  {
   "cell_type": "code",
   "execution_count": null,
   "id": "721ff514-cb11-46f8-b6fc-50392f74b5cb",
   "metadata": {
    "papermill": {
     "duration": 0.038349,
     "end_time": "2025-07-30T20:44:56.374974",
     "exception": false,
     "start_time": "2025-07-30T20:44:56.336625",
     "status": "completed"
    },
    "tags": []
   },
   "outputs": [],
   "source": []
  }
 ],
 "metadata": {
  "celltoolbar": "Tags",
  "kernelspec": {
   "display_name": "Python (CMA Fairness)",
   "language": "python",
   "name": "cma_fair_env"
  },
  "language_info": {
   "codemirror_mode": {
    "name": "ipython",
    "version": 3
   },
   "file_extension": ".py",
   "mimetype": "text/x-python",
   "name": "python",
   "nbconvert_exporter": "python",
   "pygments_lexer": "ipython3",
   "version": "3.10.12"
  },
  "papermill": {
   "default_parameters": {},
   "duration": 35.013611,
   "end_time": "2025-07-30T20:44:57.136089",
   "environment_variables": {},
   "exception": null,
   "input_path": "universe_analysis.ipynb",
   "output_path": "output/runs/14/notebooks/m_14-268b1b88a8184128cbcf23d6d669432b.ipynb",
   "parameters": {
    "output_dir": "output",
    "run_no": "14",
    "seed": "2023",
    "universe": "{\"cutoff\": [\"quantile_0.1\", \"quantile_0.25\"], \"eval_fairness_grouping\": [\"majority-minority\", \"nationality-all\"], \"exclude_features\": \"nationality\", \"exclude_subgroups\": \"keep-all\", \"model\": \"penalized_logreg\", \"scale\": \"scale\", \"training_size\": \"5k\", \"training_year\": \"2014\"}",
    "universe_id": "268b1b88a8184128cbcf23d6d669432b"
   },
   "start_time": "2025-07-30T20:44:22.122478",
   "version": "2.6.0"
  }
 },
 "nbformat": 4,
 "nbformat_minor": 5
}