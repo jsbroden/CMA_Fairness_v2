{
 "cells": [
  {
   "cell_type": "code",
   "execution_count": 1,
   "id": "f159f837-637b-42ba-96b5-ec9a68c44524",
   "metadata": {
    "execution": {
     "iopub.execute_input": "2025-07-30T19:52:38.261436Z",
     "iopub.status.busy": "2025-07-30T19:52:38.260516Z",
     "iopub.status.idle": "2025-07-30T19:52:38.274211Z",
     "shell.execute_reply": "2025-07-30T19:52:38.273251Z"
    },
    "papermill": {
     "duration": 0.036113,
     "end_time": "2025-07-30T19:52:38.275787",
     "exception": false,
     "start_time": "2025-07-30T19:52:38.239674",
     "status": "completed"
    },
    "tags": []
   },
   "outputs": [
    {
     "name": "stdout",
     "output_type": "stream",
     "text": [
      "/dss/dsshome1/0C/ra93lal2/cma/CMA_Fairness_v2\n"
     ]
    },
    {
     "name": "stderr",
     "output_type": "stream",
     "text": [
      "/dss/dsshome1/0C/ra93lal2/.local/share/virtualenvs/CMA_Fairness_v2-3j10GkSs/lib/python3.10/site-packages/IPython/core/magics/osm.py:393: UserWarning: This is now an optional IPython functionality, using bookmarks requires you to install the `pickleshare` library.\n",
      "  bkms = self.shell.db.get('bookmarks', {})\n",
      "/dss/dsshome1/0C/ra93lal2/.local/share/virtualenvs/CMA_Fairness_v2-3j10GkSs/lib/python3.10/site-packages/IPython/core/magics/osm.py:417: UserWarning: This is now an optional IPython functionality, setting dhist requires you to install the `pickleshare` library.\n",
      "  self.shell.db['dhist'] = compress_dhist(dhist)[-100:]\n"
     ]
    }
   ],
   "source": [
    "%cd ~/cma/CMA_Fairness_v2"
   ]
  },
  {
   "cell_type": "markdown",
   "id": "de2603b9",
   "metadata": {
    "papermill": {
     "duration": 0.018785,
     "end_time": "2025-07-30T19:52:38.314999",
     "exception": false,
     "start_time": "2025-07-30T19:52:38.296214",
     "status": "completed"
    },
    "tags": []
   },
   "source": [
    "The following cell holds the definition of our parameters, these values can be overriden by rendering the with e.g. the following command:\n",
    "\n",
    "papermill -p alpha 0.2 -p ratio 0.3 universe_analysis.ipynb output/test_run.ipynb"
   ]
  },
  {
   "cell_type": "code",
   "execution_count": 2,
   "id": "a80968a0-40bb-4fa9-85ef-2d5eefb01975",
   "metadata": {
    "execution": {
     "iopub.execute_input": "2025-07-30T19:52:38.355877Z",
     "iopub.status.busy": "2025-07-30T19:52:38.355182Z",
     "iopub.status.idle": "2025-07-30T19:52:38.361623Z",
     "shell.execute_reply": "2025-07-30T19:52:38.360620Z"
    },
    "papermill": {
     "duration": 0.02922,
     "end_time": "2025-07-30T19:52:38.363245",
     "exception": false,
     "start_time": "2025-07-30T19:52:38.334025",
     "status": "completed"
    },
    "tags": []
   },
   "outputs": [
    {
     "name": "stdout",
     "output_type": "stream",
     "text": [
      "Current working directory: /dss/dsshome1/0C/ra93lal2/cma/CMA_Fairness_v2\n"
     ]
    }
   ],
   "source": [
    "import os\n",
    "print(\"Current working directory:\", os.getcwd())"
   ]
  },
  {
   "cell_type": "code",
   "execution_count": 3,
   "id": "2dce4c03",
   "metadata": {
    "execution": {
     "iopub.execute_input": "2025-07-30T19:52:38.404129Z",
     "iopub.status.busy": "2025-07-30T19:52:38.403196Z",
     "iopub.status.idle": "2025-07-30T19:52:38.410066Z",
     "shell.execute_reply": "2025-07-30T19:52:38.409135Z"
    },
    "papermill": {
     "duration": 0.028658,
     "end_time": "2025-07-30T19:52:38.411755",
     "exception": false,
     "start_time": "2025-07-30T19:52:38.383097",
     "status": "completed"
    },
    "tags": [
     "parameters"
    ]
   },
   "outputs": [],
   "source": [
    "run_no = 0\n",
    "universe_id = \"test\"\n",
    "universe = {\n",
    "    \"training_size\": \"25k\", # \"25k\", \"5k\", \"1k\"\n",
    "    \"training_year\": \"2014\", # \"2014\", \"2012_14\", \"2010_14\"\n",
    "    \"scale\": \"scale\", # \"scale\", \"do-not-scale\",\n",
    "    #\"stratify_split\": \"target\", # \"none\", \"target\", \"protected-attribute\", \"both\",\n",
    "    \"model\": \"elasticnet\", # \"logreg\", \"penalized_logreg\", \"rf\", \"gbm\", \"elasticnet\"\n",
    "    \"cutoff\": [\"quantile_0.15\", \"quantile_0.30\"],\n",
    "    \"exclude_features\": \"age\", # \"none\", \"nationality\", \"sex\", \"nationality-sex\", \"age\"\n",
    "    \"exclude_subgroups\": \"keep-all\", # \"keep-all\", \"drop-non-german\"\n",
    "    \"eval_fairness_grouping\": [\"majority-minority\", \"nationality-all\"]\n",
    "}\n",
    "\n",
    "output_dir=\"./output\"\n",
    "seed=0"
   ]
  },
  {
   "cell_type": "code",
   "execution_count": 4,
   "id": "f1888221",
   "metadata": {
    "execution": {
     "iopub.execute_input": "2025-07-30T19:52:38.453904Z",
     "iopub.status.busy": "2025-07-30T19:52:38.453077Z",
     "iopub.status.idle": "2025-07-30T19:52:38.458504Z",
     "shell.execute_reply": "2025-07-30T19:52:38.457566Z"
    },
    "papermill": {
     "duration": 0.027365,
     "end_time": "2025-07-30T19:52:38.459959",
     "exception": false,
     "start_time": "2025-07-30T19:52:38.432594",
     "status": "completed"
    },
    "tags": [
     "injected-parameters"
    ]
   },
   "outputs": [],
   "source": [
    "# Parameters\n",
    "universe_id = \"da87f0bf520574467dc6d9216a3cf66e\"\n",
    "run_no = \"14\"\n",
    "universe = \"{\\\"cutoff\\\": [\\\"quantile_0.1\\\", \\\"quantile_0.25\\\"], \\\"eval_fairness_grouping\\\": [\\\"majority-minority\\\", \\\"nationality-all\\\"], \\\"exclude_features\\\": \\\"nationality-sex\\\", \\\"exclude_subgroups\\\": \\\"drop-non-german\\\", \\\"model\\\": \\\"rf\\\", \\\"scale\\\": \\\"scale\\\", \\\"training_size\\\": \\\"25k\\\", \\\"training_year\\\": \\\"2014\\\"}\"\n",
    "output_dir = \"output\"\n",
    "seed = \"2023\"\n"
   ]
  },
  {
   "cell_type": "code",
   "execution_count": 5,
   "id": "1650acaf",
   "metadata": {
    "execution": {
     "iopub.execute_input": "2025-07-30T19:52:38.502564Z",
     "iopub.status.busy": "2025-07-30T19:52:38.501669Z",
     "iopub.status.idle": "2025-07-30T19:52:38.507120Z",
     "shell.execute_reply": "2025-07-30T19:52:38.506236Z"
    },
    "papermill": {
     "duration": 0.028731,
     "end_time": "2025-07-30T19:52:38.508740",
     "exception": false,
     "start_time": "2025-07-30T19:52:38.480009",
     "status": "completed"
    },
    "tags": []
   },
   "outputs": [],
   "source": [
    "import json\n",
    "# Parse universe into dict if it is passed as a string\n",
    "if isinstance(universe, str):\n",
    "    universe = json.loads(universe)"
   ]
  },
  {
   "cell_type": "code",
   "execution_count": 6,
   "id": "16620c48",
   "metadata": {
    "execution": {
     "iopub.execute_input": "2025-07-30T19:52:38.549665Z",
     "iopub.status.busy": "2025-07-30T19:52:38.548965Z",
     "iopub.status.idle": "2025-07-30T19:52:38.593551Z",
     "shell.execute_reply": "2025-07-30T19:52:38.592598Z"
    },
    "papermill": {
     "duration": 0.067205,
     "end_time": "2025-07-30T19:52:38.595490",
     "exception": false,
     "start_time": "2025-07-30T19:52:38.528285",
     "status": "completed"
    },
    "tags": []
   },
   "outputs": [],
   "source": [
    "# Auto-reload the custom package\n",
    "%load_ext autoreload\n",
    "%autoreload 1\n",
    "%aimport fairness_multiverse"
   ]
  },
  {
   "cell_type": "code",
   "execution_count": 7,
   "id": "01c5c9f3",
   "metadata": {
    "execution": {
     "iopub.execute_input": "2025-07-30T19:52:38.638608Z",
     "iopub.status.busy": "2025-07-30T19:52:38.637685Z",
     "iopub.status.idle": "2025-07-30T19:52:40.575244Z",
     "shell.execute_reply": "2025-07-30T19:52:40.574274Z"
    },
    "papermill": {
     "duration": 1.960562,
     "end_time": "2025-07-30T19:52:40.577221",
     "exception": false,
     "start_time": "2025-07-30T19:52:38.616659",
     "status": "completed"
    },
    "tags": []
   },
   "outputs": [],
   "source": [
    "from fairness_multiverse.universe import UniverseAnalysis\n",
    "\n",
    "universe_analysis = UniverseAnalysis(\n",
    "    run_no = run_no,\n",
    "    universe_id = universe_id,\n",
    "    universe = universe,\n",
    "    output_dir=output_dir,\n",
    ")"
   ]
  },
  {
   "cell_type": "code",
   "execution_count": 8,
   "id": "106241f5",
   "metadata": {
    "execution": {
     "iopub.execute_input": "2025-07-30T19:52:40.620466Z",
     "iopub.status.busy": "2025-07-30T19:52:40.619653Z",
     "iopub.status.idle": "2025-07-30T19:52:40.626350Z",
     "shell.execute_reply": "2025-07-30T19:52:40.625444Z"
    },
    "papermill": {
     "duration": 0.030498,
     "end_time": "2025-07-30T19:52:40.628066",
     "exception": false,
     "start_time": "2025-07-30T19:52:40.597568",
     "status": "completed"
    },
    "tags": []
   },
   "outputs": [
    {
     "name": "stdout",
     "output_type": "stream",
     "text": [
      "Using Seed: 2023\n"
     ]
    }
   ],
   "source": [
    "import numpy as np\n",
    "parsed_seed = int(seed)\n",
    "np.random.seed(parsed_seed)\n",
    "print(f\"Using Seed: {parsed_seed}\")"
   ]
  },
  {
   "cell_type": "markdown",
   "id": "e0ebdc57",
   "metadata": {
    "papermill": {
     "duration": 0.019304,
     "end_time": "2025-07-30T19:52:40.667828",
     "exception": false,
     "start_time": "2025-07-30T19:52:40.648524",
     "status": "completed"
    },
    "tags": []
   },
   "source": [
    "# Loading Data"
   ]
  },
  {
   "cell_type": "markdown",
   "id": "681925a3",
   "metadata": {
    "papermill": {
     "duration": 0.020216,
     "end_time": "2025-07-30T19:52:40.708217",
     "exception": false,
     "start_time": "2025-07-30T19:52:40.688001",
     "status": "completed"
    },
    "tags": []
   },
   "source": [
    "Load siab_train, siab_test, siab_calib and/or \n",
    "load siab_train_features, siab_train_labels"
   ]
  },
  {
   "cell_type": "code",
   "execution_count": 9,
   "id": "f0496b8a",
   "metadata": {
    "execution": {
     "iopub.execute_input": "2025-07-30T19:52:40.749743Z",
     "iopub.status.busy": "2025-07-30T19:52:40.749140Z",
     "iopub.status.idle": "2025-07-30T19:53:05.157789Z",
     "shell.execute_reply": "2025-07-30T19:53:05.156191Z"
    },
    "papermill": {
     "duration": 24.432522,
     "end_time": "2025-07-30T19:53:05.160256",
     "exception": false,
     "start_time": "2025-07-30T19:52:40.727734",
     "status": "completed"
    },
    "tags": []
   },
   "outputs": [
    {
     "name": "stdout",
     "output_type": "stream",
     "text": [
      "Loading SIAB data from cache: data/siab_cached.csv.gz\n"
     ]
    },
    {
     "name": "stdout",
     "output_type": "stream",
     "text": [
      "(643690, 164)\n"
     ]
    }
   ],
   "source": [
    "from pathlib import Path\n",
    "import pandas as pd\n",
    "\n",
    "# File paths\n",
    "raw_file = Path(\"data/raw/siab.csv\")\n",
    "cache_file = Path(\"data/siab_cached.csv.gz\")\n",
    "\n",
    "# Ensure cache directory exists\n",
    "cache_file.parent.mkdir(parents=True, exist_ok=True)\n",
    "\n",
    "# Load with simple caching\n",
    "if cache_file.exists():\n",
    "    print(f\"Loading SIAB data from cache: {cache_file}\")\n",
    "    siab = pd.read_csv(cache_file, compression='gzip')\n",
    "else:\n",
    "    print(f\"Cache not found. Reading raw SIAB data: {raw_file}\")\n",
    "    siab = pd.read_csv(raw_file)\n",
    "    siab.to_csv(cache_file, index=False, compression='gzip')\n",
    "    print(f\"Cached SIAB data to: {cache_file}\")\n",
    "\n",
    "# Now use `siab` DataFrame as needed\n",
    "print(siab.shape)"
   ]
  },
  {
   "cell_type": "code",
   "execution_count": 10,
   "id": "db0ca512-5f53-4dba-abdb-a2888bca41ba",
   "metadata": {
    "execution": {
     "iopub.execute_input": "2025-07-30T19:53:05.257829Z",
     "iopub.status.busy": "2025-07-30T19:53:05.257389Z",
     "iopub.status.idle": "2025-07-30T19:53:05.263584Z",
     "shell.execute_reply": "2025-07-30T19:53:05.262637Z"
    },
    "papermill": {
     "duration": 0.077862,
     "end_time": "2025-07-30T19:53:05.282082",
     "exception": false,
     "start_time": "2025-07-30T19:53:05.204220",
     "status": "completed"
    },
    "tags": []
   },
   "outputs": [],
   "source": [
    "#siab"
   ]
  },
  {
   "cell_type": "code",
   "execution_count": 11,
   "id": "a0edb063",
   "metadata": {
    "execution": {
     "iopub.execute_input": "2025-07-30T19:53:05.353062Z",
     "iopub.status.busy": "2025-07-30T19:53:05.352637Z",
     "iopub.status.idle": "2025-07-30T19:53:05.358220Z",
     "shell.execute_reply": "2025-07-30T19:53:05.357306Z"
    },
    "papermill": {
     "duration": 0.03687,
     "end_time": "2025-07-30T19:53:05.367256",
     "exception": false,
     "start_time": "2025-07-30T19:53:05.330386",
     "status": "completed"
    },
    "tags": []
   },
   "outputs": [],
   "source": [
    "#import pandas as pd\n",
    "#\n",
    "#X_train = pd.read_csv(\"./data/X_train.csv\")\n",
    "#y_train = pd.read_csv(\"./data/y_train.csv\")"
   ]
  },
  {
   "cell_type": "code",
   "execution_count": 12,
   "id": "63d08085",
   "metadata": {
    "execution": {
     "iopub.execute_input": "2025-07-30T19:53:05.436263Z",
     "iopub.status.busy": "2025-07-30T19:53:05.435733Z",
     "iopub.status.idle": "2025-07-30T19:53:05.441060Z",
     "shell.execute_reply": "2025-07-30T19:53:05.440108Z"
    },
    "papermill": {
     "duration": 0.037583,
     "end_time": "2025-07-30T19:53:05.445892",
     "exception": false,
     "start_time": "2025-07-30T19:53:05.408309",
     "status": "completed"
    },
    "tags": []
   },
   "outputs": [],
   "source": [
    "#X_test = pd.read_csv(\"./data/X_test.csv\")\n",
    "#y_true = pd.read_csv(\"./data/y_test.csv\")"
   ]
  },
  {
   "cell_type": "code",
   "execution_count": 13,
   "id": "98a8d0fa-1d3d-4ed8-bb2c-281470e24add",
   "metadata": {
    "execution": {
     "iopub.execute_input": "2025-07-30T19:53:05.566292Z",
     "iopub.status.busy": "2025-07-30T19:53:05.565875Z",
     "iopub.status.idle": "2025-07-30T19:53:05.571340Z",
     "shell.execute_reply": "2025-07-30T19:53:05.570324Z"
    },
    "papermill": {
     "duration": 0.057674,
     "end_time": "2025-07-30T19:53:05.574467",
     "exception": false,
     "start_time": "2025-07-30T19:53:05.516793",
     "status": "completed"
    },
    "tags": []
   },
   "outputs": [],
   "source": [
    "# Calibration data for conformal\n",
    "#X_calib = pd.read_csv(\"./data/X_calib.csv\")\n",
    "#y_calib = pd.read_csv(\"./data/y_calib.csv\")"
   ]
  },
  {
   "cell_type": "markdown",
   "id": "997051c5-15bd-4b69-9786-c3001a3ce484",
   "metadata": {
    "papermill": {
     "duration": 0.06353,
     "end_time": "2025-07-30T19:53:05.680802",
     "exception": false,
     "start_time": "2025-07-30T19:53:05.617272",
     "status": "completed"
    },
    "tags": []
   },
   "source": [
    "# Splitting Data and Setting Training Data Size"
   ]
  },
  {
   "cell_type": "code",
   "execution_count": 14,
   "id": "e993b61f-042d-41a6-8c81-f55681f86335",
   "metadata": {
    "execution": {
     "iopub.execute_input": "2025-07-30T19:53:05.824635Z",
     "iopub.status.busy": "2025-07-30T19:53:05.824188Z",
     "iopub.status.idle": "2025-07-30T19:53:05.838866Z",
     "shell.execute_reply": "2025-07-30T19:53:05.837929Z"
    },
    "papermill": {
     "duration": 0.096907,
     "end_time": "2025-07-30T19:53:05.841039",
     "exception": false,
     "start_time": "2025-07-30T19:53:05.744132",
     "status": "completed"
    },
    "tags": []
   },
   "outputs": [],
   "source": [
    "def sample_by_year_size(df,\n",
    "                        training_year: str,\n",
    "                        training_size: str,\n",
    "                        random_state: int = 42):\n",
    "    # --- parse training_year into a list of int years ---\n",
    "    if \"_\" in training_year:\n",
    "        start_str, end_str = training_year.split(\"_\", 1)\n",
    "        start = int(start_str)\n",
    "        end   = int(end_str) if len(end_str) == 4 else (int(end_str) + (start // 100)*100)\n",
    "        years = list(range(start, end + 1))\n",
    "    else:\n",
    "        years = [int(training_year)]\n",
    "\n",
    "    df = df[df[\"year\"].isin(years)].reset_index(drop=True)\n",
    "\n",
    "    # --- map training_size to total number of samples ---\n",
    "    total_map = {\"25k\": 25_000, \"5k\": 5_000, \"1k\": 1_000}\n",
    "    if training_size not in total_map:\n",
    "        return df  # e.g. \"all\"\n",
    "\n",
    "    total_samples = total_map[training_size]\n",
    "    n_years       = len(years)\n",
    "    base          = total_samples // n_years\n",
    "    remainder     = total_samples % n_years\n",
    "\n",
    "    # --- build a dict: year -> how many to sample ---\n",
    "    # give +1 to the first `remainder` years in ascending order\n",
    "    quotas = {\n",
    "        year: base + (1 if idx < remainder else 0)\n",
    "        for idx, year in enumerate(sorted(years))\n",
    "    }\n",
    "\n",
    "    # --- sample per‐year according to the quota dict ---\n",
    "    sampled = (\n",
    "        df\n",
    "        .groupby(\"year\", group_keys=False)\n",
    "        .apply(lambda grp: grp.sample(\n",
    "            n=min(len(grp), quotas[grp.name]),\n",
    "            random_state=random_state))\n",
    "        .reset_index(drop=True)\n",
    "    )\n",
    "\n",
    "    return sampled"
   ]
  },
  {
   "cell_type": "code",
   "execution_count": 15,
   "id": "c0ccd338-0e02-41f3-a09d-f56f9266e3fb",
   "metadata": {
    "execution": {
     "iopub.execute_input": "2025-07-30T19:53:05.945644Z",
     "iopub.status.busy": "2025-07-30T19:53:05.945228Z",
     "iopub.status.idle": "2025-07-30T19:53:05.955420Z",
     "shell.execute_reply": "2025-07-30T19:53:05.954448Z"
    },
    "papermill": {
     "duration": 0.073119,
     "end_time": "2025-07-30T19:53:05.957422",
     "exception": false,
     "start_time": "2025-07-30T19:53:05.884303",
     "status": "completed"
    },
    "tags": []
   },
   "outputs": [],
   "source": [
    "#universe[\"training_size\"]"
   ]
  },
  {
   "cell_type": "code",
   "execution_count": 16,
   "id": "ca707fd7-8047-4acd-bfa5-66248fbbf8e6",
   "metadata": {
    "execution": {
     "iopub.execute_input": "2025-07-30T19:53:06.043425Z",
     "iopub.status.busy": "2025-07-30T19:53:06.043014Z",
     "iopub.status.idle": "2025-07-30T19:53:06.049596Z",
     "shell.execute_reply": "2025-07-30T19:53:06.048693Z"
    },
    "papermill": {
     "duration": 0.067464,
     "end_time": "2025-07-30T19:53:06.061945",
     "exception": false,
     "start_time": "2025-07-30T19:53:05.994481",
     "status": "completed"
    },
    "tags": []
   },
   "outputs": [],
   "source": [
    "#universe[\"training_year\"]"
   ]
  },
  {
   "cell_type": "code",
   "execution_count": 17,
   "id": "aea9c6ef-6f46-42c8-85eb-5a62025c1508",
   "metadata": {
    "execution": {
     "iopub.execute_input": "2025-07-30T19:53:06.183934Z",
     "iopub.status.busy": "2025-07-30T19:53:06.183538Z",
     "iopub.status.idle": "2025-07-30T19:53:06.575652Z",
     "shell.execute_reply": "2025-07-30T19:53:06.574655Z"
    },
    "papermill": {
     "duration": 0.476824,
     "end_time": "2025-07-30T19:53:06.577476",
     "exception": false,
     "start_time": "2025-07-30T19:53:06.100652",
     "status": "completed"
    },
    "tags": []
   },
   "outputs": [],
   "source": [
    "siab_train = sample_by_year_size(siab,\n",
    "                               training_year=universe[\"training_year\"],\n",
    "                               training_size=universe[\"training_size\"])"
   ]
  },
  {
   "cell_type": "code",
   "execution_count": 18,
   "id": "8d3afb32-789d-442c-8d5d-9f5aa8dd2eed",
   "metadata": {
    "execution": {
     "iopub.execute_input": "2025-07-30T19:53:06.620944Z",
     "iopub.status.busy": "2025-07-30T19:53:06.620408Z",
     "iopub.status.idle": "2025-07-30T19:53:06.625968Z",
     "shell.execute_reply": "2025-07-30T19:53:06.625046Z"
    },
    "papermill": {
     "duration": 0.031496,
     "end_time": "2025-07-30T19:53:06.628005",
     "exception": false,
     "start_time": "2025-07-30T19:53:06.596509",
     "status": "completed"
    },
    "tags": []
   },
   "outputs": [],
   "source": [
    "#siab_train.shape"
   ]
  },
  {
   "cell_type": "code",
   "execution_count": 19,
   "id": "d582db68-1a4c-47fb-84fc-08518dc1975a",
   "metadata": {
    "execution": {
     "iopub.execute_input": "2025-07-30T19:53:06.674038Z",
     "iopub.status.busy": "2025-07-30T19:53:06.673507Z",
     "iopub.status.idle": "2025-07-30T19:53:06.678481Z",
     "shell.execute_reply": "2025-07-30T19:53:06.677825Z"
    },
    "papermill": {
     "duration": 0.031182,
     "end_time": "2025-07-30T19:53:06.680007",
     "exception": false,
     "start_time": "2025-07-30T19:53:06.648825",
     "status": "completed"
    },
    "tags": []
   },
   "outputs": [],
   "source": [
    "#display(siab_train.groupby(\"year\").size())"
   ]
  },
  {
   "cell_type": "code",
   "execution_count": 20,
   "id": "a561edb4-d032-42cb-8256-22eac1111c64",
   "metadata": {
    "execution": {
     "iopub.execute_input": "2025-07-30T19:53:06.726018Z",
     "iopub.status.busy": "2025-07-30T19:53:06.725621Z",
     "iopub.status.idle": "2025-07-30T19:53:07.037370Z",
     "shell.execute_reply": "2025-07-30T19:53:07.036362Z"
    },
    "papermill": {
     "duration": 0.336216,
     "end_time": "2025-07-30T19:53:07.039455",
     "exception": false,
     "start_time": "2025-07-30T19:53:06.703239",
     "status": "completed"
    },
    "tags": []
   },
   "outputs": [],
   "source": [
    "#siab_train = siab_s[siab_s.year < 2015]\n",
    "siab_calib = siab[siab.year == 2015]\n",
    "siab_test = siab[siab.year == 2016]"
   ]
  },
  {
   "cell_type": "code",
   "execution_count": 21,
   "id": "472de16f-c3db-4916-846b-1f0de9cf1746",
   "metadata": {
    "execution": {
     "iopub.execute_input": "2025-07-30T19:53:07.147525Z",
     "iopub.status.busy": "2025-07-30T19:53:07.147131Z",
     "iopub.status.idle": "2025-07-30T19:53:07.175104Z",
     "shell.execute_reply": "2025-07-30T19:53:07.174034Z"
    },
    "papermill": {
     "duration": 0.072903,
     "end_time": "2025-07-30T19:53:07.177415",
     "exception": false,
     "start_time": "2025-07-30T19:53:07.104512",
     "status": "completed"
    },
    "tags": []
   },
   "outputs": [],
   "source": [
    "X_train = siab_train.iloc[:,4:164]\n",
    "y_train = siab_train.iloc[:, [3]]"
   ]
  },
  {
   "cell_type": "code",
   "execution_count": 22,
   "id": "828c96af-f43a-4ed6-ba47-8ac73a47d56c",
   "metadata": {
    "execution": {
     "iopub.execute_input": "2025-07-30T19:53:07.484461Z",
     "iopub.status.busy": "2025-07-30T19:53:07.484055Z",
     "iopub.status.idle": "2025-07-30T19:53:07.581571Z",
     "shell.execute_reply": "2025-07-30T19:53:07.580595Z"
    },
    "papermill": {
     "duration": 0.202082,
     "end_time": "2025-07-30T19:53:07.583028",
     "exception": false,
     "start_time": "2025-07-30T19:53:07.380946",
     "status": "completed"
    },
    "tags": []
   },
   "outputs": [],
   "source": [
    "X_calib = siab_calib.iloc[:,4:164]\n",
    "y_calib = siab_calib.iloc[:, [3]]"
   ]
  },
  {
   "cell_type": "code",
   "execution_count": 23,
   "id": "c34be9c3-6bd6-476e-acd3-845840e303be",
   "metadata": {
    "execution": {
     "iopub.execute_input": "2025-07-30T19:53:07.697902Z",
     "iopub.status.busy": "2025-07-30T19:53:07.697495Z",
     "iopub.status.idle": "2025-07-30T19:53:07.838131Z",
     "shell.execute_reply": "2025-07-30T19:53:07.837065Z"
    },
    "papermill": {
     "duration": 0.221503,
     "end_time": "2025-07-30T19:53:07.840003",
     "exception": false,
     "start_time": "2025-07-30T19:53:07.618500",
     "status": "completed"
    },
    "tags": []
   },
   "outputs": [],
   "source": [
    "X_test = siab_test.iloc[:,4:164]\n",
    "y_true = siab_test.iloc[:, [3]]"
   ]
  },
  {
   "cell_type": "markdown",
   "id": "9901737e-04df-44f0-9100-f5ad144ed040",
   "metadata": {
    "papermill": {
     "duration": 0.020437,
     "end_time": "2025-07-30T19:53:07.878401",
     "exception": false,
     "start_time": "2025-07-30T19:53:07.857964",
     "status": "completed"
    },
    "tags": []
   },
   "source": [
    "# Splitting Data and Setting Training Data Size OLD VERSION"
   ]
  },
  {
   "cell_type": "code",
   "execution_count": 24,
   "id": "acbc8f7d-8fc8-4e86-8c59-5dcb0f58384b",
   "metadata": {
    "execution": {
     "iopub.execute_input": "2025-07-30T19:53:07.922135Z",
     "iopub.status.busy": "2025-07-30T19:53:07.921451Z",
     "iopub.status.idle": "2025-07-30T19:53:07.927061Z",
     "shell.execute_reply": "2025-07-30T19:53:07.926263Z"
    },
    "papermill": {
     "duration": 0.030289,
     "end_time": "2025-07-30T19:53:07.929551",
     "exception": false,
     "start_time": "2025-07-30T19:53:07.899262",
     "status": "completed"
    },
    "tags": []
   },
   "outputs": [],
   "source": [
    "#def sample_by_year(df, training_size, random_state=42):\n",
    "#    if training_size == \"2014\":\n",
    "#        return df[df[\"year\"] == 2014].reset_index(drop=True)\n",
    "#    \n",
    "#    size_map = {\n",
    "#        \"25k\": 5000,\n",
    "#        \"5k\": 1000,\n",
    "#        \"1k\": 200\n",
    "#    }\n",
    "#\n",
    "#    if training_size not in size_map:\n",
    "#        return df.reset_index(drop=True)  # use all data\n",
    "#\n",
    "#    n_per_year = size_map[training_size]\n",
    "#    grouped = df.groupby(\"year\")\n",
    "#    sampled = grouped.apply(lambda x: x.sample(n=min(n_per_year, len(x)), random_state=random_state))\n",
    "#    return sampled.reset_index(drop=True)"
   ]
  },
  {
   "cell_type": "code",
   "execution_count": 25,
   "id": "6d931f52-beaf-43ff-9e78-9d44a448d54e",
   "metadata": {
    "execution": {
     "iopub.execute_input": "2025-07-30T19:53:07.977706Z",
     "iopub.status.busy": "2025-07-30T19:53:07.977268Z",
     "iopub.status.idle": "2025-07-30T19:53:07.982299Z",
     "shell.execute_reply": "2025-07-30T19:53:07.981479Z"
    },
    "papermill": {
     "duration": 0.03356,
     "end_time": "2025-07-30T19:53:07.986624",
     "exception": false,
     "start_time": "2025-07-30T19:53:07.953064",
     "status": "completed"
    },
    "tags": []
   },
   "outputs": [],
   "source": [
    "#siab_s = sample_by_year(siab, universe[\"training_size\"])"
   ]
  },
  {
   "cell_type": "code",
   "execution_count": 26,
   "id": "5db0a40e-a4e2-4920-be85-b12ae061d70d",
   "metadata": {
    "execution": {
     "iopub.execute_input": "2025-07-30T19:53:08.044607Z",
     "iopub.status.busy": "2025-07-30T19:53:08.044062Z",
     "iopub.status.idle": "2025-07-30T19:53:08.049842Z",
     "shell.execute_reply": "2025-07-30T19:53:08.048711Z"
    },
    "papermill": {
     "duration": 0.02729,
     "end_time": "2025-07-30T19:53:08.051730",
     "exception": false,
     "start_time": "2025-07-30T19:53:08.024440",
     "status": "completed"
    },
    "tags": []
   },
   "outputs": [],
   "source": [
    "#display(siab_s.groupby(\"year\").size())"
   ]
  },
  {
   "cell_type": "code",
   "execution_count": 27,
   "id": "e6c733c5",
   "metadata": {
    "execution": {
     "iopub.execute_input": "2025-07-30T19:53:08.103537Z",
     "iopub.status.busy": "2025-07-30T19:53:08.101817Z",
     "iopub.status.idle": "2025-07-30T19:53:08.234245Z",
     "shell.execute_reply": "2025-07-30T19:53:08.233217Z"
    },
    "papermill": {
     "duration": 0.160016,
     "end_time": "2025-07-30T19:53:08.236196",
     "exception": false,
     "start_time": "2025-07-30T19:53:08.076180",
     "status": "completed"
    },
    "tags": []
   },
   "outputs": [],
   "source": [
    "# Auxiliary data needed downstream in the pipeline\n",
    "\n",
    "org_train = X_train.copy()\n",
    "org_test = X_test.copy()\n",
    "org_calib = X_calib.copy()"
   ]
  },
  {
   "cell_type": "code",
   "execution_count": 28,
   "id": "1466abac-c6da-4492-a62f-4240ae3783af",
   "metadata": {
    "execution": {
     "iopub.execute_input": "2025-07-30T19:53:08.350390Z",
     "iopub.status.busy": "2025-07-30T19:53:08.349960Z",
     "iopub.status.idle": "2025-07-30T19:53:08.357772Z",
     "shell.execute_reply": "2025-07-30T19:53:08.356758Z"
    },
    "papermill": {
     "duration": 0.066827,
     "end_time": "2025-07-30T19:53:08.359609",
     "exception": false,
     "start_time": "2025-07-30T19:53:08.292782",
     "status": "completed"
    },
    "tags": []
   },
   "outputs": [],
   "source": [
    "# put in other script?\n",
    "# Group sizes\n",
    "\n",
    "#def calculate_percentages(df, df_name):\n",
    "#    total_entries = len(df)\n",
    "#\n",
    "#    female_pct = (df['frau1'] == 1).mean() * 100\n",
    "#    non_german_pct = ((df['maxdeutsch1'] == 0) & (df['maxdeutsch.Missing.'] == 0)).mean() * 100\n",
    "#    non_german_male_pct = ((df['frau1'] == 0) & (df['maxdeutsch1'] == 0) & (df['maxdeutsch.Missing.'] == 0)).mean() * 100\n",
    "#    non_german_female_pct = ((df['frau1'] == 1) & (df['maxdeutsch1'] == 0) & (df['maxdeutsch.Missing.'] == 0)).mean() * 100\n",
    "#\n",
    "#    print(f\"--- {df_name} ---\")\n",
    "#    print(f\"Female: {female_pct:.2f}%\")\n",
    "#    print(f\"Non-German: {non_german_pct:.2f}%\")\n",
    "#    print(f\"Non-German Male: {non_german_male_pct:.2f}%\")\n",
    "#    print(f\"Non-German Female: {non_german_female_pct:.2f}%\\n\")\n",
    "#\n",
    "## Calculate for each DataFrame\n",
    "#calculate_percentages(siab_calib, \"siab_calib\")\n",
    "#calculate_percentages(siab_test, \"siab_test\")\n",
    "#calculate_percentages(siab_train, \"siab_train\")"
   ]
  },
  {
   "cell_type": "markdown",
   "id": "0a4a1b33",
   "metadata": {
    "papermill": {
     "duration": 0.047684,
     "end_time": "2025-07-30T19:53:08.460353",
     "exception": false,
     "start_time": "2025-07-30T19:53:08.412669",
     "status": "completed"
    },
    "tags": []
   },
   "source": [
    "# Preprocessing Data"
   ]
  },
  {
   "cell_type": "code",
   "execution_count": 29,
   "id": "ca879031",
   "metadata": {
    "execution": {
     "iopub.execute_input": "2025-07-30T19:53:08.528196Z",
     "iopub.status.busy": "2025-07-30T19:53:08.527676Z",
     "iopub.status.idle": "2025-07-30T19:53:08.534490Z",
     "shell.execute_reply": "2025-07-30T19:53:08.533425Z"
    },
    "papermill": {
     "duration": 0.037923,
     "end_time": "2025-07-30T19:53:08.542669",
     "exception": false,
     "start_time": "2025-07-30T19:53:08.504746",
     "status": "completed"
    },
    "tags": []
   },
   "outputs": [],
   "source": [
    "# EXCLUDE PROTECTED FEATURES\n",
    "# ----------------------\n",
    "# \"exclude_features\": \"none\", # \"nationality\", \"sex\", \"nationality-sex\"\n",
    "\n",
    "excluded_features = universe[\"exclude_features\"].split(\"-\") # split, e.g.: \"nationality-sex\" -> [\"nationality\", \"sex\"]\n",
    "excluded_features_dictionary = {\n",
    "    \"nationality\": [\"maxdeutsch1\", \"maxdeutsch.Missing.\"],\n",
    "    \"sex\": [\"frau1\"],\n",
    "    \"age\": [\"age\"],\n",
    "}\n"
   ]
  },
  {
   "cell_type": "code",
   "execution_count": 30,
   "id": "b745ac60",
   "metadata": {
    "execution": {
     "iopub.execute_input": "2025-07-30T19:53:08.642542Z",
     "iopub.status.busy": "2025-07-30T19:53:08.642117Z",
     "iopub.status.idle": "2025-07-30T19:53:08.648309Z",
     "shell.execute_reply": "2025-07-30T19:53:08.647238Z"
    },
    "papermill": {
     "duration": 0.066455,
     "end_time": "2025-07-30T19:53:08.650963",
     "exception": false,
     "start_time": "2025-07-30T19:53:08.584508",
     "status": "completed"
    },
    "tags": []
   },
   "outputs": [],
   "source": [
    "# Code nice names to column names\n",
    "\n",
    "excluded_features_columns = [\n",
    "    excluded_features_dictionary[f] for f in excluded_features if len(f) > 0 and f != \"none\"\n",
    "]"
   ]
  },
  {
   "cell_type": "code",
   "execution_count": 31,
   "id": "f84f73a2",
   "metadata": {
    "execution": {
     "iopub.execute_input": "2025-07-30T19:53:08.698887Z",
     "iopub.status.busy": "2025-07-30T19:53:08.698468Z",
     "iopub.status.idle": "2025-07-30T19:53:08.705086Z",
     "shell.execute_reply": "2025-07-30T19:53:08.704023Z"
    },
    "papermill": {
     "duration": 0.032775,
     "end_time": "2025-07-30T19:53:08.707155",
     "exception": false,
     "start_time": "2025-07-30T19:53:08.674380",
     "status": "completed"
    },
    "tags": []
   },
   "outputs": [],
   "source": [
    "from utils import flatten_once\n",
    "\n",
    "excluded_features_columns = flatten_once(excluded_features_columns)"
   ]
  },
  {
   "cell_type": "code",
   "execution_count": 32,
   "id": "884dea22",
   "metadata": {
    "execution": {
     "iopub.execute_input": "2025-07-30T19:53:08.757500Z",
     "iopub.status.busy": "2025-07-30T19:53:08.756999Z",
     "iopub.status.idle": "2025-07-30T19:53:08.779592Z",
     "shell.execute_reply": "2025-07-30T19:53:08.778241Z"
    },
    "papermill": {
     "duration": 0.060296,
     "end_time": "2025-07-30T19:53:08.791429",
     "exception": false,
     "start_time": "2025-07-30T19:53:08.731133",
     "status": "completed"
    },
    "tags": []
   },
   "outputs": [
    {
     "name": "stdout",
     "output_type": "stream",
     "text": [
      "Dropping features: ['maxdeutsch1', 'maxdeutsch.Missing.', 'frau1']\n"
     ]
    }
   ],
   "source": [
    "if len(excluded_features_columns) > 0:\n",
    "    print(f\"Dropping features: {excluded_features_columns}\")\n",
    "    X_train.drop(excluded_features_columns, axis=1, inplace=True)"
   ]
  },
  {
   "cell_type": "code",
   "execution_count": 33,
   "id": "95ab8b16",
   "metadata": {
    "execution": {
     "iopub.execute_input": "2025-07-30T19:53:08.906691Z",
     "iopub.status.busy": "2025-07-30T19:53:08.906265Z",
     "iopub.status.idle": "2025-07-30T19:53:08.960128Z",
     "shell.execute_reply": "2025-07-30T19:53:08.958919Z"
    },
    "papermill": {
     "duration": 0.12267,
     "end_time": "2025-07-30T19:53:08.962106",
     "exception": false,
     "start_time": "2025-07-30T19:53:08.839436",
     "status": "completed"
    },
    "tags": []
   },
   "outputs": [
    {
     "name": "stdout",
     "output_type": "stream",
     "text": [
      "Dropping features: ['maxdeutsch1', 'maxdeutsch.Missing.', 'frau1']\n"
     ]
    }
   ],
   "source": [
    "if len(excluded_features_columns) > 0:\n",
    "    print(f\"Dropping features: {excluded_features_columns}\")\n",
    "    X_test.drop(excluded_features_columns, axis=1, inplace=True)"
   ]
  },
  {
   "cell_type": "code",
   "execution_count": 34,
   "id": "1853aaf5-fb9f-46cb-a2b5-8ea4ae2237e4",
   "metadata": {
    "execution": {
     "iopub.execute_input": "2025-07-30T19:53:08.993007Z",
     "iopub.status.busy": "2025-07-30T19:53:08.992646Z",
     "iopub.status.idle": "2025-07-30T19:53:09.043052Z",
     "shell.execute_reply": "2025-07-30T19:53:09.042008Z"
    },
    "papermill": {
     "duration": 0.064303,
     "end_time": "2025-07-30T19:53:09.044905",
     "exception": false,
     "start_time": "2025-07-30T19:53:08.980602",
     "status": "completed"
    },
    "tags": []
   },
   "outputs": [
    {
     "name": "stdout",
     "output_type": "stream",
     "text": [
      "Dropping features: ['maxdeutsch1', 'maxdeutsch.Missing.', 'frau1']\n"
     ]
    }
   ],
   "source": [
    "if len(excluded_features_columns) > 0:\n",
    "    print(f\"Dropping features: {excluded_features_columns}\")\n",
    "    X_calib.drop(excluded_features_columns, axis=1, inplace=True)"
   ]
  },
  {
   "cell_type": "code",
   "execution_count": 35,
   "id": "6727d079-03e5-481e-9d38-292a90b7a0a8",
   "metadata": {
    "execution": {
     "iopub.execute_input": "2025-07-30T19:53:09.095933Z",
     "iopub.status.busy": "2025-07-30T19:53:09.095038Z",
     "iopub.status.idle": "2025-07-30T19:53:09.100317Z",
     "shell.execute_reply": "2025-07-30T19:53:09.099065Z"
    },
    "papermill": {
     "duration": 0.032671,
     "end_time": "2025-07-30T19:53:09.102010",
     "exception": false,
     "start_time": "2025-07-30T19:53:09.069339",
     "status": "completed"
    },
    "tags": []
   },
   "outputs": [],
   "source": [
    "# SPLIT & STRATIFY DATA\n",
    "# ----------------------"
   ]
  },
  {
   "cell_type": "code",
   "execution_count": 36,
   "id": "76c4dc6d",
   "metadata": {
    "execution": {
     "iopub.execute_input": "2025-07-30T19:53:09.155653Z",
     "iopub.status.busy": "2025-07-30T19:53:09.155292Z",
     "iopub.status.idle": "2025-07-30T19:53:09.160278Z",
     "shell.execute_reply": "2025-07-30T19:53:09.159290Z"
    },
    "papermill": {
     "duration": 0.035427,
     "end_time": "2025-07-30T19:53:09.161876",
     "exception": false,
     "start_time": "2025-07-30T19:53:09.126449",
     "status": "completed"
    },
    "tags": []
   },
   "outputs": [],
   "source": [
    "# EXCLUDE CERTAIN SUBGROUPS\n",
    "# ----------------------\n",
    "\n",
    "mode = universe.get(\"exclude_subgroups\", \"keep-all\") \n",
    "# Fetches the exclude_subgroups setting from the universe dict.\n",
    "# Defaults to \"keep-all\" if the key is missing."
   ]
  },
  {
   "cell_type": "code",
   "execution_count": 37,
   "id": "21994072",
   "metadata": {
    "execution": {
     "iopub.execute_input": "2025-07-30T19:53:09.213034Z",
     "iopub.status.busy": "2025-07-30T19:53:09.212634Z",
     "iopub.status.idle": "2025-07-30T19:53:09.219411Z",
     "shell.execute_reply": "2025-07-30T19:53:09.218511Z"
    },
    "papermill": {
     "duration": 0.034325,
     "end_time": "2025-07-30T19:53:09.221377",
     "exception": false,
     "start_time": "2025-07-30T19:53:09.187052",
     "status": "completed"
    },
    "tags": []
   },
   "outputs": [],
   "source": [
    "if mode == \"keep-all\":\n",
    "    keep_mask = pd.Series(True, index=org_train.index)\n",
    "\n",
    "# org_train contains the original feature columns from features_org (in Simson)\n",
    "# features_org contains unprocessed features, for me X_train at beginning ???\n",
    "# For keep-all, creates a boolean Series (keep_mask) of all True, so no rows are removed.\n",
    "\n",
    "elif mode == \"drop-non-german\":\n",
    "    keep_mask = org_train[\"maxdeutsch1\"] == 1 # ??? what about missing values?\n",
    "\n",
    "else:\n",
    "    raise ValueError(f\"Unsupported mode for exclude_subgroups: {mode}\")\n"
   ]
  },
  {
   "cell_type": "code",
   "execution_count": 38,
   "id": "71651440",
   "metadata": {
    "execution": {
     "iopub.execute_input": "2025-07-30T19:53:09.275186Z",
     "iopub.status.busy": "2025-07-30T19:53:09.274659Z",
     "iopub.status.idle": "2025-07-30T19:53:09.282209Z",
     "shell.execute_reply": "2025-07-30T19:53:09.281140Z"
    },
    "papermill": {
     "duration": 0.044417,
     "end_time": "2025-07-30T19:53:09.291785",
     "exception": false,
     "start_time": "2025-07-30T19:53:09.247368",
     "status": "completed"
    },
    "tags": []
   },
   "outputs": [
    {
     "name": "stdout",
     "output_type": "stream",
     "text": [
      "Dropping 3688 rows (14.75%) where mode='drop-non-german'\n"
     ]
    }
   ],
   "source": [
    "n_drop = (~keep_mask).sum() # Calculates how many rows are set to be dropped\n",
    "if n_drop > 0:\n",
    "    pct = n_drop / len(keep_mask) * 100\n",
    "    print(f\"Dropping {n_drop} rows ({pct:.2f}%) where mode='{mode}'\")"
   ]
  },
  {
   "cell_type": "code",
   "execution_count": 39,
   "id": "5fb8eee5",
   "metadata": {
    "execution": {
     "iopub.execute_input": "2025-07-30T19:53:09.361480Z",
     "iopub.status.busy": "2025-07-30T19:53:09.360969Z",
     "iopub.status.idle": "2025-07-30T19:53:09.375274Z",
     "shell.execute_reply": "2025-07-30T19:53:09.374085Z"
    },
    "papermill": {
     "duration": 0.044291,
     "end_time": "2025-07-30T19:53:09.378276",
     "exception": false,
     "start_time": "2025-07-30T19:53:09.333985",
     "status": "completed"
    },
    "tags": []
   },
   "outputs": [],
   "source": [
    "X_train = X_train[keep_mask]"
   ]
  },
  {
   "cell_type": "code",
   "execution_count": 40,
   "id": "b202bb3a",
   "metadata": {
    "execution": {
     "iopub.execute_input": "2025-07-30T19:53:09.432574Z",
     "iopub.status.busy": "2025-07-30T19:53:09.432056Z",
     "iopub.status.idle": "2025-07-30T19:53:09.438610Z",
     "shell.execute_reply": "2025-07-30T19:53:09.437700Z"
    },
    "papermill": {
     "duration": 0.035401,
     "end_time": "2025-07-30T19:53:09.440619",
     "exception": false,
     "start_time": "2025-07-30T19:53:09.405218",
     "status": "completed"
    },
    "tags": []
   },
   "outputs": [],
   "source": [
    "y_train = y_train[keep_mask]"
   ]
  },
  {
   "cell_type": "markdown",
   "id": "493e2ac3",
   "metadata": {
    "papermill": {
     "duration": 0.026016,
     "end_time": "2025-07-30T19:53:09.494602",
     "exception": false,
     "start_time": "2025-07-30T19:53:09.468586",
     "status": "completed"
    },
    "tags": []
   },
   "source": [
    "# Model Training"
   ]
  },
  {
   "cell_type": "code",
   "execution_count": 41,
   "id": "679e1268",
   "metadata": {
    "execution": {
     "iopub.execute_input": "2025-07-30T19:53:09.547805Z",
     "iopub.status.busy": "2025-07-30T19:53:09.547380Z",
     "iopub.status.idle": "2025-07-30T19:53:09.699364Z",
     "shell.execute_reply": "2025-07-30T19:53:09.698141Z"
    },
    "papermill": {
     "duration": 0.183066,
     "end_time": "2025-07-30T19:53:09.701975",
     "exception": false,
     "start_time": "2025-07-30T19:53:09.518909",
     "status": "completed"
    },
    "tags": []
   },
   "outputs": [],
   "source": [
    "from sklearn.linear_model import LogisticRegression\n",
    "from sklearn.ensemble import GradientBoostingClassifier, RandomForestClassifier\n",
    "\n",
    "if (universe[\"model\"] == \"logreg\"):\n",
    "    model = LogisticRegression() #penalty=\"none\") #, solver=\"newton-cg\", max_iter=1) # include random_state=19 ?\n",
    "elif (universe[\"model\"] == \"penalized_logreg\"):\n",
    "    model = LogisticRegression(penalty=\"l2\", C=1.0) #, solver=\"newton-cg\", max_iter=1)\n",
    "elif (universe[\"model\"] == \"rf\"):\n",
    "    model = RandomForestClassifier(n_estimators=100, n_jobs=-1)\n",
    "elif (universe[\"model\"] == \"gbm\"):\n",
    "    model = GradientBoostingClassifier()\n",
    "elif (universe[\"model\"] == \"elasticnet\"):\n",
    "    model = LogisticRegression(penalty = 'elasticnet', solver = 'saga', l1_ratio = 0.5, max_iter=5000) # which solver to use?\n",
    "else:\n",
    "    raise \"Unsupported universe.model\""
   ]
  },
  {
   "cell_type": "code",
   "execution_count": 42,
   "id": "0cc8f744",
   "metadata": {
    "execution": {
     "iopub.execute_input": "2025-07-30T19:53:09.769637Z",
     "iopub.status.busy": "2025-07-30T19:53:09.769313Z",
     "iopub.status.idle": "2025-07-30T19:53:09.775906Z",
     "shell.execute_reply": "2025-07-30T19:53:09.774983Z"
    },
    "papermill": {
     "duration": 0.036349,
     "end_time": "2025-07-30T19:53:09.782562",
     "exception": false,
     "start_time": "2025-07-30T19:53:09.746213",
     "status": "completed"
    },
    "tags": []
   },
   "outputs": [],
   "source": [
    "import numpy as np\n",
    "from sklearn.pipeline import Pipeline\n",
    "from sklearn.preprocessing import StandardScaler\n",
    "\n",
    "model = Pipeline([\n",
    "    #(\"continuous_processor\", continuous_processor),\n",
    "    #(\"categorical_preprocessor\", categorical_preprocessor),\n",
    "    (\"scale\", StandardScaler() if universe[\"scale\"] == \"scale\" else None), \n",
    "    (\"model\", model),\n",
    "])"
   ]
  },
  {
   "cell_type": "code",
   "execution_count": 43,
   "id": "9442c04d",
   "metadata": {
    "execution": {
     "iopub.execute_input": "2025-07-30T19:53:09.833756Z",
     "iopub.status.busy": "2025-07-30T19:53:09.833066Z",
     "iopub.status.idle": "2025-07-30T19:53:12.800025Z",
     "shell.execute_reply": "2025-07-30T19:53:12.799220Z"
    },
    "papermill": {
     "duration": 2.994685,
     "end_time": "2025-07-30T19:53:12.801646",
     "exception": false,
     "start_time": "2025-07-30T19:53:09.806961",
     "status": "completed"
    },
    "tags": []
   },
   "outputs": [
    {
     "data": {
      "text/html": [
       "<style>#sk-container-id-1 {color: black;background-color: white;}#sk-container-id-1 pre{padding: 0;}#sk-container-id-1 div.sk-toggleable {background-color: white;}#sk-container-id-1 label.sk-toggleable__label {cursor: pointer;display: block;width: 100%;margin-bottom: 0;padding: 0.3em;box-sizing: border-box;text-align: center;}#sk-container-id-1 label.sk-toggleable__label-arrow:before {content: \"▸\";float: left;margin-right: 0.25em;color: #696969;}#sk-container-id-1 label.sk-toggleable__label-arrow:hover:before {color: black;}#sk-container-id-1 div.sk-estimator:hover label.sk-toggleable__label-arrow:before {color: black;}#sk-container-id-1 div.sk-toggleable__content {max-height: 0;max-width: 0;overflow: hidden;text-align: left;background-color: #f0f8ff;}#sk-container-id-1 div.sk-toggleable__content pre {margin: 0.2em;color: black;border-radius: 0.25em;background-color: #f0f8ff;}#sk-container-id-1 input.sk-toggleable__control:checked~div.sk-toggleable__content {max-height: 200px;max-width: 100%;overflow: auto;}#sk-container-id-1 input.sk-toggleable__control:checked~label.sk-toggleable__label-arrow:before {content: \"▾\";}#sk-container-id-1 div.sk-estimator input.sk-toggleable__control:checked~label.sk-toggleable__label {background-color: #d4ebff;}#sk-container-id-1 div.sk-label input.sk-toggleable__control:checked~label.sk-toggleable__label {background-color: #d4ebff;}#sk-container-id-1 input.sk-hidden--visually {border: 0;clip: rect(1px 1px 1px 1px);clip: rect(1px, 1px, 1px, 1px);height: 1px;margin: -1px;overflow: hidden;padding: 0;position: absolute;width: 1px;}#sk-container-id-1 div.sk-estimator {font-family: monospace;background-color: #f0f8ff;border: 1px dotted black;border-radius: 0.25em;box-sizing: border-box;margin-bottom: 0.5em;}#sk-container-id-1 div.sk-estimator:hover {background-color: #d4ebff;}#sk-container-id-1 div.sk-parallel-item::after {content: \"\";width: 100%;border-bottom: 1px solid gray;flex-grow: 1;}#sk-container-id-1 div.sk-label:hover label.sk-toggleable__label {background-color: #d4ebff;}#sk-container-id-1 div.sk-serial::before {content: \"\";position: absolute;border-left: 1px solid gray;box-sizing: border-box;top: 0;bottom: 0;left: 50%;z-index: 0;}#sk-container-id-1 div.sk-serial {display: flex;flex-direction: column;align-items: center;background-color: white;padding-right: 0.2em;padding-left: 0.2em;position: relative;}#sk-container-id-1 div.sk-item {position: relative;z-index: 1;}#sk-container-id-1 div.sk-parallel {display: flex;align-items: stretch;justify-content: center;background-color: white;position: relative;}#sk-container-id-1 div.sk-item::before, #sk-container-id-1 div.sk-parallel-item::before {content: \"\";position: absolute;border-left: 1px solid gray;box-sizing: border-box;top: 0;bottom: 0;left: 50%;z-index: -1;}#sk-container-id-1 div.sk-parallel-item {display: flex;flex-direction: column;z-index: 1;position: relative;background-color: white;}#sk-container-id-1 div.sk-parallel-item:first-child::after {align-self: flex-end;width: 50%;}#sk-container-id-1 div.sk-parallel-item:last-child::after {align-self: flex-start;width: 50%;}#sk-container-id-1 div.sk-parallel-item:only-child::after {width: 0;}#sk-container-id-1 div.sk-dashed-wrapped {border: 1px dashed gray;margin: 0 0.4em 0.5em 0.4em;box-sizing: border-box;padding-bottom: 0.4em;background-color: white;}#sk-container-id-1 div.sk-label label {font-family: monospace;font-weight: bold;display: inline-block;line-height: 1.2em;}#sk-container-id-1 div.sk-label-container {text-align: center;}#sk-container-id-1 div.sk-container {/* jupyter's `normalize.less` sets `[hidden] { display: none; }` but bootstrap.min.css set `[hidden] { display: none !important; }` so we also need the `!important` here to be able to override the default hidden behavior on the sphinx rendered scikit-learn.org. See: https://github.com/scikit-learn/scikit-learn/issues/21755 */display: inline-block !important;position: relative;}#sk-container-id-1 div.sk-text-repr-fallback {display: none;}</style><div id=\"sk-container-id-1\" class=\"sk-top-container\"><div class=\"sk-text-repr-fallback\"><pre>Pipeline(steps=[(&#x27;scale&#x27;, StandardScaler()),\n",
       "                (&#x27;model&#x27;, RandomForestClassifier(n_jobs=-1))])</pre><b>In a Jupyter environment, please rerun this cell to show the HTML representation or trust the notebook. <br />On GitHub, the HTML representation is unable to render, please try loading this page with nbviewer.org.</b></div><div class=\"sk-container\" hidden><div class=\"sk-item sk-dashed-wrapped\"><div class=\"sk-label-container\"><div class=\"sk-label sk-toggleable\"><input class=\"sk-toggleable__control sk-hidden--visually\" id=\"sk-estimator-id-1\" type=\"checkbox\" ><label for=\"sk-estimator-id-1\" class=\"sk-toggleable__label sk-toggleable__label-arrow\">Pipeline</label><div class=\"sk-toggleable__content\"><pre>Pipeline(steps=[(&#x27;scale&#x27;, StandardScaler()),\n",
       "                (&#x27;model&#x27;, RandomForestClassifier(n_jobs=-1))])</pre></div></div></div><div class=\"sk-serial\"><div class=\"sk-item\"><div class=\"sk-estimator sk-toggleable\"><input class=\"sk-toggleable__control sk-hidden--visually\" id=\"sk-estimator-id-2\" type=\"checkbox\" ><label for=\"sk-estimator-id-2\" class=\"sk-toggleable__label sk-toggleable__label-arrow\">StandardScaler</label><div class=\"sk-toggleable__content\"><pre>StandardScaler()</pre></div></div></div><div class=\"sk-item\"><div class=\"sk-estimator sk-toggleable\"><input class=\"sk-toggleable__control sk-hidden--visually\" id=\"sk-estimator-id-3\" type=\"checkbox\" ><label for=\"sk-estimator-id-3\" class=\"sk-toggleable__label sk-toggleable__label-arrow\">RandomForestClassifier</label><div class=\"sk-toggleable__content\"><pre>RandomForestClassifier(n_jobs=-1)</pre></div></div></div></div></div></div></div>"
      ],
      "text/plain": [
       "Pipeline(steps=[('scale', StandardScaler()),\n",
       "                ('model', RandomForestClassifier(n_jobs=-1))])"
      ]
     },
     "execution_count": 43,
     "metadata": {},
     "output_type": "execute_result"
    }
   ],
   "source": [
    "model.fit(X_train, y_train.values.ravel())"
   ]
  },
  {
   "cell_type": "code",
   "execution_count": 44,
   "id": "af59f8c0",
   "metadata": {
    "execution": {
     "iopub.execute_input": "2025-07-30T19:53:12.847997Z",
     "iopub.status.busy": "2025-07-30T19:53:12.847345Z",
     "iopub.status.idle": "2025-07-30T19:53:12.852716Z",
     "shell.execute_reply": "2025-07-30T19:53:12.851760Z"
    },
    "papermill": {
     "duration": 0.029871,
     "end_time": "2025-07-30T19:53:12.854122",
     "exception": false,
     "start_time": "2025-07-30T19:53:12.824251",
     "status": "completed"
    },
    "tags": []
   },
   "outputs": [],
   "source": [
    "from fairness_multiverse.universe import predict_w_threshold"
   ]
  },
  {
   "cell_type": "code",
   "execution_count": 45,
   "id": "a7cf2e16",
   "metadata": {
    "execution": {
     "iopub.execute_input": "2025-07-30T19:53:12.898701Z",
     "iopub.status.busy": "2025-07-30T19:53:12.898373Z",
     "iopub.status.idle": "2025-07-30T19:53:13.942681Z",
     "shell.execute_reply": "2025-07-30T19:53:13.941767Z"
    },
    "papermill": {
     "duration": 1.06862,
     "end_time": "2025-07-30T19:53:13.944463",
     "exception": false,
     "start_time": "2025-07-30T19:53:12.875843",
     "status": "completed"
    },
    "tags": []
   },
   "outputs": [
    {
     "data": {
      "text/plain": [
       "0.8628135101995318"
      ]
     },
     "execution_count": 45,
     "metadata": {},
     "output_type": "execute_result"
    }
   ],
   "source": [
    "probs_test = model.predict_proba(X_test)\n",
    "\n",
    "'''\n",
    "Below code returns a boolean array (or binary 0/1 array depending on how it’s used) where each element \n",
    "is True if the probability of class 1 is greater than or equal to the threshold, and False otherwise.\n",
    "'''\n",
    "y_pred_default = predict_w_threshold(probs_test, 0.5)\n",
    "\n",
    "from sklearn.metrics import accuracy_score\n",
    "\n",
    "# Naive prediction\n",
    "accuracy_score(y_true = y_true, y_pred = y_pred_default)"
   ]
  },
  {
   "cell_type": "code",
   "execution_count": 46,
   "id": "081964c3",
   "metadata": {
    "execution": {
     "iopub.execute_input": "2025-07-30T19:53:14.001505Z",
     "iopub.status.busy": "2025-07-30T19:53:14.001015Z",
     "iopub.status.idle": "2025-07-30T19:53:15.109119Z",
     "shell.execute_reply": "2025-07-30T19:53:15.108059Z"
    },
    "papermill": {
     "duration": 1.138188,
     "end_time": "2025-07-30T19:53:15.110919",
     "exception": false,
     "start_time": "2025-07-30T19:53:13.972731",
     "status": "completed"
    },
    "tags": []
   },
   "outputs": [
    {
     "data": {
      "text/plain": [
       "array([0, 0, 0, ..., 0, 0, 0])"
      ]
     },
     "execution_count": 46,
     "metadata": {},
     "output_type": "execute_result"
    }
   ],
   "source": [
    "model.predict(X_test)"
   ]
  },
  {
   "cell_type": "markdown",
   "id": "56c9705b",
   "metadata": {
    "papermill": {
     "duration": 0.02633,
     "end_time": "2025-07-30T19:53:15.164160",
     "exception": false,
     "start_time": "2025-07-30T19:53:15.137830",
     "status": "completed"
    },
    "tags": []
   },
   "source": [
    "# Conformal Prediction"
   ]
  },
  {
   "cell_type": "code",
   "execution_count": 47,
   "id": "160ec6ff",
   "metadata": {
    "execution": {
     "iopub.execute_input": "2025-07-30T19:53:15.219417Z",
     "iopub.status.busy": "2025-07-30T19:53:15.218588Z",
     "iopub.status.idle": "2025-07-30T19:53:15.224329Z",
     "shell.execute_reply": "2025-07-30T19:53:15.223205Z"
    },
    "papermill": {
     "duration": 0.035339,
     "end_time": "2025-07-30T19:53:15.226079",
     "exception": false,
     "start_time": "2025-07-30T19:53:15.190740",
     "status": "completed"
    },
    "tags": []
   },
   "outputs": [],
   "source": [
    "# Miscoverage level for conformal prediction (10% allowed error rate => 90% target coverage)\n",
    "alpha = 0.1"
   ]
  },
  {
   "cell_type": "code",
   "execution_count": 48,
   "id": "eadf4555-3dd3-440e-8e35-f82a4ad9f855",
   "metadata": {
    "execution": {
     "iopub.execute_input": "2025-07-30T19:53:15.281142Z",
     "iopub.status.busy": "2025-07-30T19:53:15.280622Z",
     "iopub.status.idle": "2025-07-30T19:53:16.337294Z",
     "shell.execute_reply": "2025-07-30T19:53:16.336417Z"
    },
    "papermill": {
     "duration": 1.085735,
     "end_time": "2025-07-30T19:53:16.338727",
     "exception": false,
     "start_time": "2025-07-30T19:53:15.252992",
     "status": "completed"
    },
    "tags": []
   },
   "outputs": [],
   "source": [
    "probs_calib = model.predict_proba(X_calib)"
   ]
  },
  {
   "cell_type": "code",
   "execution_count": 49,
   "id": "2ed93547-6d5d-4983-9b36-1ecb300da49a",
   "metadata": {
    "execution": {
     "iopub.execute_input": "2025-07-30T19:53:16.364484Z",
     "iopub.status.busy": "2025-07-30T19:53:16.364161Z",
     "iopub.status.idle": "2025-07-30T19:53:16.369007Z",
     "shell.execute_reply": "2025-07-30T19:53:16.368275Z"
    },
    "papermill": {
     "duration": 0.019026,
     "end_time": "2025-07-30T19:53:16.370306",
     "exception": false,
     "start_time": "2025-07-30T19:53:16.351280",
     "status": "completed"
    },
    "tags": []
   },
   "outputs": [],
   "source": [
    "y_calib = y_calib.values.ravel().astype(int)"
   ]
  },
  {
   "cell_type": "code",
   "execution_count": 50,
   "id": "65d1320d-f588-4b38-9072-62af1ae97f7d",
   "metadata": {
    "execution": {
     "iopub.execute_input": "2025-07-30T19:53:16.410810Z",
     "iopub.status.busy": "2025-07-30T19:53:16.410413Z",
     "iopub.status.idle": "2025-07-30T19:53:16.417021Z",
     "shell.execute_reply": "2025-07-30T19:53:16.416010Z"
    },
    "papermill": {
     "duration": 0.033735,
     "end_time": "2025-07-30T19:53:16.418794",
     "exception": false,
     "start_time": "2025-07-30T19:53:16.385059",
     "status": "completed"
    },
    "tags": []
   },
   "outputs": [],
   "source": [
    "from fairness_multiverse.conformal import compute_nc_scores\n",
    "\n",
    "# Compute nonconformity scores on calibration set (1 - probability of true class)\n",
    "nc_scores = compute_nc_scores(probs_calib, y_calib)"
   ]
  },
  {
   "cell_type": "code",
   "execution_count": 51,
   "id": "df3b8ca3-53b7-43d5-9667-7c85da7aeda2",
   "metadata": {
    "execution": {
     "iopub.execute_input": "2025-07-30T19:53:16.470683Z",
     "iopub.status.busy": "2025-07-30T19:53:16.470245Z",
     "iopub.status.idle": "2025-07-30T19:53:16.477287Z",
     "shell.execute_reply": "2025-07-30T19:53:16.476279Z"
    },
    "papermill": {
     "duration": 0.034339,
     "end_time": "2025-07-30T19:53:16.478998",
     "exception": false,
     "start_time": "2025-07-30T19:53:16.444659",
     "status": "completed"
    },
    "tags": []
   },
   "outputs": [],
   "source": [
    "from fairness_multiverse.conformal import find_threshold\n",
    "\n",
    "# Find conformal threshold q_hat for the given alpha (split conformal method)\n",
    "q_hat = find_threshold(nc_scores, alpha)"
   ]
  },
  {
   "cell_type": "code",
   "execution_count": 52,
   "id": "4d29e6c1-0ef6-4aa4-b8fe-4fe79b0d033a",
   "metadata": {
    "execution": {
     "iopub.execute_input": "2025-07-30T19:53:16.528906Z",
     "iopub.status.busy": "2025-07-30T19:53:16.528452Z",
     "iopub.status.idle": "2025-07-30T19:53:16.535163Z",
     "shell.execute_reply": "2025-07-30T19:53:16.534204Z"
    },
    "papermill": {
     "duration": 0.032707,
     "end_time": "2025-07-30T19:53:16.536688",
     "exception": false,
     "start_time": "2025-07-30T19:53:16.503981",
     "status": "completed"
    },
    "tags": []
   },
   "outputs": [
    {
     "data": {
      "text/plain": [
       "0.6599999999999999"
      ]
     },
     "execution_count": 52,
     "metadata": {},
     "output_type": "execute_result"
    }
   ],
   "source": [
    "q_hat"
   ]
  },
  {
   "cell_type": "code",
   "execution_count": 53,
   "id": "92460794-cdac-4be2-ba28-f28c0515a6fb",
   "metadata": {
    "execution": {
     "iopub.execute_input": "2025-07-30T19:53:16.586625Z",
     "iopub.status.busy": "2025-07-30T19:53:16.585566Z",
     "iopub.status.idle": "2025-07-30T19:53:18.333634Z",
     "shell.execute_reply": "2025-07-30T19:53:18.332859Z"
    },
    "papermill": {
     "duration": 1.774519,
     "end_time": "2025-07-30T19:53:18.335005",
     "exception": false,
     "start_time": "2025-07-30T19:53:16.560486",
     "status": "completed"
    },
    "tags": []
   },
   "outputs": [],
   "source": [
    "from fairness_multiverse.conformal import predict_conformal_sets\n",
    "\n",
    "# Generate prediction sets for each test example\n",
    "pred_sets = predict_conformal_sets(model, X_test, q_hat)"
   ]
  },
  {
   "cell_type": "code",
   "execution_count": 54,
   "id": "d90c9a65-e6db-4f5d-80cd-e68fb7e46829",
   "metadata": {
    "execution": {
     "iopub.execute_input": "2025-07-30T19:53:18.361749Z",
     "iopub.status.busy": "2025-07-30T19:53:18.361252Z",
     "iopub.status.idle": "2025-07-30T19:53:18.365781Z",
     "shell.execute_reply": "2025-07-30T19:53:18.365013Z"
    },
    "papermill": {
     "duration": 0.019011,
     "end_time": "2025-07-30T19:53:18.367127",
     "exception": false,
     "start_time": "2025-07-30T19:53:18.348116",
     "status": "completed"
    },
    "tags": []
   },
   "outputs": [],
   "source": [
    "y_true = y_true.squeeze()"
   ]
  },
  {
   "cell_type": "code",
   "execution_count": 55,
   "id": "3a58a54a-1e68-46b9-927a-df01f18aebc8",
   "metadata": {
    "execution": {
     "iopub.execute_input": "2025-07-30T19:53:18.394373Z",
     "iopub.status.busy": "2025-07-30T19:53:18.393648Z",
     "iopub.status.idle": "2025-07-30T19:53:19.031314Z",
     "shell.execute_reply": "2025-07-30T19:53:19.030557Z"
    },
    "papermill": {
     "duration": 0.652616,
     "end_time": "2025-07-30T19:53:19.032913",
     "exception": false,
     "start_time": "2025-07-30T19:53:18.380297",
     "status": "completed"
    },
    "tags": []
   },
   "outputs": [],
   "source": [
    "from fairness_multiverse.conformal import evaluate_sets\n",
    "\n",
    "# Evaluate coverage and average set size on test data\n",
    "metrics = evaluate_sets(pred_sets, y_true)"
   ]
  },
  {
   "cell_type": "markdown",
   "id": "2b569c12-9aaa-4c88-98c9-bbcd0cf3ebb8",
   "metadata": {
    "papermill": {
     "duration": 0.01243,
     "end_time": "2025-07-30T19:53:19.058819",
     "exception": false,
     "start_time": "2025-07-30T19:53:19.046389",
     "status": "completed"
    },
    "tags": []
   },
   "source": [
    "# CP Metrics"
   ]
  },
  {
   "cell_type": "code",
   "execution_count": 56,
   "id": "5ce0a5cb-201f-45a0-ade5-94c7f0bd6095",
   "metadata": {
    "execution": {
     "iopub.execute_input": "2025-07-30T19:53:19.086057Z",
     "iopub.status.busy": "2025-07-30T19:53:19.085553Z",
     "iopub.status.idle": "2025-07-30T19:53:19.092195Z",
     "shell.execute_reply": "2025-07-30T19:53:19.091366Z"
    },
    "papermill": {
     "duration": 0.021816,
     "end_time": "2025-07-30T19:53:19.093612",
     "exception": false,
     "start_time": "2025-07-30T19:53:19.071796",
     "status": "completed"
    },
    "tags": []
   },
   "outputs": [
    {
     "data": {
      "text/plain": [
       "{'coverage': 0.9149816074016275, 'avg_size': 1.1475420800356706}"
      ]
     },
     "execution_count": 56,
     "metadata": {},
     "output_type": "execute_result"
    }
   ],
   "source": [
    "metrics"
   ]
  },
  {
   "cell_type": "code",
   "execution_count": 57,
   "id": "9b9a838d-31c9-430b-ae14-12baee460d17",
   "metadata": {
    "execution": {
     "iopub.execute_input": "2025-07-30T19:53:19.120993Z",
     "iopub.status.busy": "2025-07-30T19:53:19.120360Z",
     "iopub.status.idle": "2025-07-30T19:53:19.125288Z",
     "shell.execute_reply": "2025-07-30T19:53:19.124581Z"
    },
    "papermill": {
     "duration": 0.01986,
     "end_time": "2025-07-30T19:53:19.126635",
     "exception": false,
     "start_time": "2025-07-30T19:53:19.106775",
     "status": "completed"
    },
    "tags": []
   },
   "outputs": [],
   "source": [
    "example_universe = universe.copy()\n",
    "universe_training_year = example_universe.get(\"training_year\")\n",
    "universe_training_size = example_universe.get(\"training_size\")\n",
    "universe_scale = example_universe.get(\"scale\")\n",
    "universe_model = example_universe.get(\"model\")\n",
    "universe_exclude_features = example_universe.get(\"exclude_features\")\n",
    "universe_exclude_subgroups = example_universe.get(\"exclude_subgroups\")"
   ]
  },
  {
   "cell_type": "code",
   "execution_count": 58,
   "id": "f4b6a8ac-9dc0-4245-8a91-5b3b5999c4f9",
   "metadata": {
    "execution": {
     "iopub.execute_input": "2025-07-30T19:53:19.154242Z",
     "iopub.status.busy": "2025-07-30T19:53:19.153918Z",
     "iopub.status.idle": "2025-07-30T19:53:19.159119Z",
     "shell.execute_reply": "2025-07-30T19:53:19.158301Z"
    },
    "papermill": {
     "duration": 0.020741,
     "end_time": "2025-07-30T19:53:19.160769",
     "exception": false,
     "start_time": "2025-07-30T19:53:19.140028",
     "status": "completed"
    },
    "tags": []
   },
   "outputs": [],
   "source": [
    "cp_metrics_dict = {\n",
    "    \"universe_id\": [universe_id],\n",
    "    \"universe_training_year\": [universe_training_year],\n",
    "    \"universe_training_size\": [universe_training_size],\n",
    "    \"universe_scale\": [universe_scale],\n",
    "    \"universe_model\": [universe_model],\n",
    "    \"universe_exclude_features\": [universe_exclude_features],\n",
    "    \"universe_exclude_subgroups\": [universe_exclude_subgroups],\n",
    "    \"q_hat\": [q_hat],\n",
    "    \"coverage\": [metrics[\"coverage\"]],\n",
    "    \"avg_size\": [metrics[\"avg_size\"]],\n",
    "}"
   ]
  },
  {
   "cell_type": "code",
   "execution_count": 59,
   "id": "908acbb1-0371-4915-85ca-3fa520d2efe2",
   "metadata": {
    "execution": {
     "iopub.execute_input": "2025-07-30T19:53:19.188795Z",
     "iopub.status.busy": "2025-07-30T19:53:19.188248Z",
     "iopub.status.idle": "2025-07-30T19:53:19.194914Z",
     "shell.execute_reply": "2025-07-30T19:53:19.194221Z"
    },
    "papermill": {
     "duration": 0.021614,
     "end_time": "2025-07-30T19:53:19.196195",
     "exception": false,
     "start_time": "2025-07-30T19:53:19.174581",
     "status": "completed"
    },
    "tags": []
   },
   "outputs": [
    {
     "data": {
      "text/plain": [
       "{'universe_id': ['da87f0bf520574467dc6d9216a3cf66e'],\n",
       " 'universe_training_year': ['2014'],\n",
       " 'universe_training_size': ['25k'],\n",
       " 'universe_scale': ['scale'],\n",
       " 'universe_model': ['rf'],\n",
       " 'universe_exclude_features': ['nationality-sex'],\n",
       " 'universe_exclude_subgroups': ['drop-non-german'],\n",
       " 'q_hat': [0.6599999999999999],\n",
       " 'coverage': [0.9149816074016275],\n",
       " 'avg_size': [1.1475420800356706]}"
      ]
     },
     "execution_count": 59,
     "metadata": {},
     "output_type": "execute_result"
    }
   ],
   "source": [
    "cp_metrics_dict"
   ]
  },
  {
   "cell_type": "code",
   "execution_count": 60,
   "id": "33007efc-14e9-4ec6-97ac-56a455c82265",
   "metadata": {
    "execution": {
     "iopub.execute_input": "2025-07-30T19:53:19.224226Z",
     "iopub.status.busy": "2025-07-30T19:53:19.223470Z",
     "iopub.status.idle": "2025-07-30T19:53:19.228481Z",
     "shell.execute_reply": "2025-07-30T19:53:19.227685Z"
    },
    "papermill": {
     "duration": 0.020211,
     "end_time": "2025-07-30T19:53:19.229782",
     "exception": false,
     "start_time": "2025-07-30T19:53:19.209571",
     "status": "completed"
    },
    "tags": []
   },
   "outputs": [],
   "source": [
    "cp_metrics_df = pd.DataFrame(cp_metrics_dict)"
   ]
  },
  {
   "cell_type": "code",
   "execution_count": 61,
   "id": "db12611b-57b2-4910-b9d0-355adfd6e7bf",
   "metadata": {
    "execution": {
     "iopub.execute_input": "2025-07-30T19:53:19.258239Z",
     "iopub.status.busy": "2025-07-30T19:53:19.257565Z",
     "iopub.status.idle": "2025-07-30T19:53:19.271460Z",
     "shell.execute_reply": "2025-07-30T19:53:19.270759Z"
    },
    "papermill": {
     "duration": 0.02924,
     "end_time": "2025-07-30T19:53:19.272901",
     "exception": false,
     "start_time": "2025-07-30T19:53:19.243661",
     "status": "completed"
    },
    "tags": []
   },
   "outputs": [
    {
     "data": {
      "text/html": [
       "<div>\n",
       "<style scoped>\n",
       "    .dataframe tbody tr th:only-of-type {\n",
       "        vertical-align: middle;\n",
       "    }\n",
       "\n",
       "    .dataframe tbody tr th {\n",
       "        vertical-align: top;\n",
       "    }\n",
       "\n",
       "    .dataframe thead th {\n",
       "        text-align: right;\n",
       "    }\n",
       "</style>\n",
       "<table border=\"1\" class=\"dataframe\">\n",
       "  <thead>\n",
       "    <tr style=\"text-align: right;\">\n",
       "      <th></th>\n",
       "      <th>universe_id</th>\n",
       "      <th>universe_training_year</th>\n",
       "      <th>universe_training_size</th>\n",
       "      <th>universe_scale</th>\n",
       "      <th>universe_model</th>\n",
       "      <th>universe_exclude_features</th>\n",
       "      <th>universe_exclude_subgroups</th>\n",
       "      <th>q_hat</th>\n",
       "      <th>coverage</th>\n",
       "      <th>avg_size</th>\n",
       "    </tr>\n",
       "  </thead>\n",
       "  <tbody>\n",
       "    <tr>\n",
       "      <th>0</th>\n",
       "      <td>da87f0bf520574467dc6d9216a3cf66e</td>\n",
       "      <td>2014</td>\n",
       "      <td>25k</td>\n",
       "      <td>scale</td>\n",
       "      <td>rf</td>\n",
       "      <td>nationality-sex</td>\n",
       "      <td>drop-non-german</td>\n",
       "      <td>0.66</td>\n",
       "      <td>0.914982</td>\n",
       "      <td>1.147542</td>\n",
       "    </tr>\n",
       "  </tbody>\n",
       "</table>\n",
       "</div>"
      ],
      "text/plain": [
       "                        universe_id universe_training_year  \\\n",
       "0  da87f0bf520574467dc6d9216a3cf66e                   2014   \n",
       "\n",
       "  universe_training_size universe_scale universe_model  \\\n",
       "0                    25k          scale             rf   \n",
       "\n",
       "  universe_exclude_features universe_exclude_subgroups  q_hat  coverage  \\\n",
       "0           nationality-sex            drop-non-german   0.66  0.914982   \n",
       "\n",
       "   avg_size  \n",
       "0  1.147542  "
      ]
     },
     "execution_count": 61,
     "metadata": {},
     "output_type": "execute_result"
    }
   ],
   "source": [
    "cp_metrics_df"
   ]
  },
  {
   "cell_type": "code",
   "execution_count": 62,
   "id": "b7fbde55-a0a1-47e4-9af6-fe4a17fa8c61",
   "metadata": {
    "execution": {
     "iopub.execute_input": "2025-07-30T19:53:19.301506Z",
     "iopub.status.busy": "2025-07-30T19:53:19.300990Z",
     "iopub.status.idle": "2025-07-30T19:53:19.305188Z",
     "shell.execute_reply": "2025-07-30T19:53:19.304445Z"
    },
    "papermill": {
     "duration": 0.019557,
     "end_time": "2025-07-30T19:53:19.306617",
     "exception": false,
     "start_time": "2025-07-30T19:53:19.287060",
     "status": "completed"
    },
    "tags": []
   },
   "outputs": [],
   "source": [
    "# Conditional Coverage & looking at subgroups"
   ]
  },
  {
   "cell_type": "code",
   "execution_count": 63,
   "id": "027ae886-68dd-4141-96c7-805a5450e1ef",
   "metadata": {
    "execution": {
     "iopub.execute_input": "2025-07-30T19:53:19.335115Z",
     "iopub.status.busy": "2025-07-30T19:53:19.334734Z",
     "iopub.status.idle": "2025-07-30T19:53:19.571904Z",
     "shell.execute_reply": "2025-07-30T19:53:19.570951Z"
    },
    "papermill": {
     "duration": 0.252844,
     "end_time": "2025-07-30T19:53:19.573727",
     "exception": false,
     "start_time": "2025-07-30T19:53:19.320883",
     "status": "completed"
    },
    "tags": []
   },
   "outputs": [],
   "source": [
    "from fairness_multiverse.conformal import build_cp_groups\n",
    "\n",
    "cp_groups_df = build_cp_groups(pred_sets, y_true, X_test.index, org_test)\n",
    "#needs universe_id and setting"
   ]
  },
  {
   "cell_type": "code",
   "execution_count": 64,
   "id": "01d5802c-663a-4d1f-9d69-e036faaffbf7",
   "metadata": {
    "execution": {
     "iopub.execute_input": "2025-07-30T19:53:19.630083Z",
     "iopub.status.busy": "2025-07-30T19:53:19.629649Z",
     "iopub.status.idle": "2025-07-30T19:53:19.634668Z",
     "shell.execute_reply": "2025-07-30T19:53:19.633682Z"
    },
    "papermill": {
     "duration": 0.035744,
     "end_time": "2025-07-30T19:53:19.636486",
     "exception": false,
     "start_time": "2025-07-30T19:53:19.600742",
     "status": "completed"
    },
    "tags": []
   },
   "outputs": [],
   "source": [
    "#delete\n",
    "#cp_groups_df"
   ]
  },
  {
   "cell_type": "code",
   "execution_count": 65,
   "id": "fa424af1-d1eb-443d-b717-2d279ada8408",
   "metadata": {
    "execution": {
     "iopub.execute_input": "2025-07-30T19:53:19.693805Z",
     "iopub.status.busy": "2025-07-30T19:53:19.693075Z",
     "iopub.status.idle": "2025-07-30T19:53:19.698094Z",
     "shell.execute_reply": "2025-07-30T19:53:19.697299Z"
    },
    "papermill": {
     "duration": 0.035485,
     "end_time": "2025-07-30T19:53:19.699442",
     "exception": false,
     "start_time": "2025-07-30T19:53:19.663957",
     "status": "completed"
    },
    "tags": []
   },
   "outputs": [],
   "source": [
    "#delete\n",
    "#percentage = (cp_groups_df['nongerman_female'] == 1).mean() * 100\n",
    "#print(percentage)\n"
   ]
  },
  {
   "cell_type": "code",
   "execution_count": 66,
   "id": "6cbdab96-b2b2-45af-ad54-d0516db2e28d",
   "metadata": {
    "execution": {
     "iopub.execute_input": "2025-07-30T19:53:19.748705Z",
     "iopub.status.busy": "2025-07-30T19:53:19.748309Z",
     "iopub.status.idle": "2025-07-30T19:53:21.160429Z",
     "shell.execute_reply": "2025-07-30T19:53:21.159281Z"
    },
    "papermill": {
     "duration": 1.442414,
     "end_time": "2025-07-30T19:53:21.162421",
     "exception": false,
     "start_time": "2025-07-30T19:53:19.720007",
     "status": "completed"
    },
    "tags": []
   },
   "outputs": [],
   "source": [
    "# Define covered = 1 if true_label is in the predicted set\n",
    "cp_groups_df['covered'] = cp_groups_df.apply(\n",
    "    lambda r: int(r['true_label'] in r['pred_set']),\n",
    "    axis=1\n",
    ")"
   ]
  },
  {
   "cell_type": "code",
   "execution_count": 67,
   "id": "338ff529-1a6b-4b87-a931-8e4788d52aad",
   "metadata": {
    "execution": {
     "iopub.execute_input": "2025-07-30T19:53:21.212832Z",
     "iopub.status.busy": "2025-07-30T19:53:21.212187Z",
     "iopub.status.idle": "2025-07-30T19:53:21.217046Z",
     "shell.execute_reply": "2025-07-30T19:53:21.216138Z"
    },
    "papermill": {
     "duration": 0.031361,
     "end_time": "2025-07-30T19:53:21.218545",
     "exception": false,
     "start_time": "2025-07-30T19:53:21.187184",
     "status": "completed"
    },
    "tags": []
   },
   "outputs": [],
   "source": [
    "#cp_groups_df"
   ]
  },
  {
   "cell_type": "code",
   "execution_count": 68,
   "id": "90032e27-66df-4540-9169-4e89cfbaa758",
   "metadata": {
    "execution": {
     "iopub.execute_input": "2025-07-30T19:53:21.268685Z",
     "iopub.status.busy": "2025-07-30T19:53:21.267887Z",
     "iopub.status.idle": "2025-07-30T19:53:21.278818Z",
     "shell.execute_reply": "2025-07-30T19:53:21.278069Z"
    },
    "papermill": {
     "duration": 0.037987,
     "end_time": "2025-07-30T19:53:21.280293",
     "exception": false,
     "start_time": "2025-07-30T19:53:21.242306",
     "status": "completed"
    },
    "tags": []
   },
   "outputs": [],
   "source": [
    "subgroups = ['frau1','nongerman','nongerman_male','nongerman_female']\n",
    "\n",
    "# Conditional coverage for subgroup==1\n",
    "cond_coverage = {\n",
    "    g: cp_groups_df.loc[cp_groups_df[g]==1, 'covered'].mean()\n",
    "    for g in subgroups\n",
    "}"
   ]
  },
  {
   "cell_type": "code",
   "execution_count": 69,
   "id": "1e348fb1-b9c3-45bc-ba23-f016827a7e0d",
   "metadata": {
    "execution": {
     "iopub.execute_input": "2025-07-30T19:53:21.331684Z",
     "iopub.status.busy": "2025-07-30T19:53:21.331101Z",
     "iopub.status.idle": "2025-07-30T19:53:21.337876Z",
     "shell.execute_reply": "2025-07-30T19:53:21.336924Z"
    },
    "papermill": {
     "duration": 0.034413,
     "end_time": "2025-07-30T19:53:21.339325",
     "exception": false,
     "start_time": "2025-07-30T19:53:21.304912",
     "status": "completed"
    },
    "tags": []
   },
   "outputs": [
    {
     "data": {
      "text/plain": [
       "{'frau1': 0.9149750640248012,\n",
       " 'nongerman': 0.9158479761971594,\n",
       " 'nongerman_male': 0.9285778618391426,\n",
       " 'nongerman_female': 0.8947839046199701}"
      ]
     },
     "execution_count": 69,
     "metadata": {},
     "output_type": "execute_result"
    }
   ],
   "source": [
    "cond_coverage"
   ]
  },
  {
   "cell_type": "code",
   "execution_count": 70,
   "id": "f5093324-c3dd-4d63-bc4c-8d945e5c8bbb",
   "metadata": {
    "execution": {
     "iopub.execute_input": "2025-07-30T19:53:21.389609Z",
     "iopub.status.busy": "2025-07-30T19:53:21.388850Z",
     "iopub.status.idle": "2025-07-30T19:53:21.396561Z",
     "shell.execute_reply": "2025-07-30T19:53:21.395575Z"
    },
    "papermill": {
     "duration": 0.034545,
     "end_time": "2025-07-30T19:53:21.398399",
     "exception": false,
     "start_time": "2025-07-30T19:53:21.363854",
     "status": "completed"
    },
    "tags": []
   },
   "outputs": [],
   "source": [
    "for subgroup, cov in cond_coverage.items():\n",
    "    cp_metrics_df[f\"cov_{subgroup}\"] = cov"
   ]
  },
  {
   "cell_type": "code",
   "execution_count": 71,
   "id": "6e872e10-dbe5-49e8-b554-5030c98ff75d",
   "metadata": {
    "execution": {
     "iopub.execute_input": "2025-07-30T19:53:21.448001Z",
     "iopub.status.busy": "2025-07-30T19:53:21.447346Z",
     "iopub.status.idle": "2025-07-30T19:53:21.465505Z",
     "shell.execute_reply": "2025-07-30T19:53:21.464722Z"
    },
    "papermill": {
     "duration": 0.044256,
     "end_time": "2025-07-30T19:53:21.466925",
     "exception": false,
     "start_time": "2025-07-30T19:53:21.422669",
     "status": "completed"
    },
    "tags": []
   },
   "outputs": [
    {
     "data": {
      "text/html": [
       "<div>\n",
       "<style scoped>\n",
       "    .dataframe tbody tr th:only-of-type {\n",
       "        vertical-align: middle;\n",
       "    }\n",
       "\n",
       "    .dataframe tbody tr th {\n",
       "        vertical-align: top;\n",
       "    }\n",
       "\n",
       "    .dataframe thead th {\n",
       "        text-align: right;\n",
       "    }\n",
       "</style>\n",
       "<table border=\"1\" class=\"dataframe\">\n",
       "  <thead>\n",
       "    <tr style=\"text-align: right;\">\n",
       "      <th></th>\n",
       "      <th>universe_id</th>\n",
       "      <th>universe_training_year</th>\n",
       "      <th>universe_training_size</th>\n",
       "      <th>universe_scale</th>\n",
       "      <th>universe_model</th>\n",
       "      <th>universe_exclude_features</th>\n",
       "      <th>universe_exclude_subgroups</th>\n",
       "      <th>q_hat</th>\n",
       "      <th>coverage</th>\n",
       "      <th>avg_size</th>\n",
       "      <th>cov_frau1</th>\n",
       "      <th>cov_nongerman</th>\n",
       "      <th>cov_nongerman_male</th>\n",
       "      <th>cov_nongerman_female</th>\n",
       "    </tr>\n",
       "  </thead>\n",
       "  <tbody>\n",
       "    <tr>\n",
       "      <th>0</th>\n",
       "      <td>da87f0bf520574467dc6d9216a3cf66e</td>\n",
       "      <td>2014</td>\n",
       "      <td>25k</td>\n",
       "      <td>scale</td>\n",
       "      <td>rf</td>\n",
       "      <td>nationality-sex</td>\n",
       "      <td>drop-non-german</td>\n",
       "      <td>0.66</td>\n",
       "      <td>0.914982</td>\n",
       "      <td>1.147542</td>\n",
       "      <td>0.914975</td>\n",
       "      <td>0.915848</td>\n",
       "      <td>0.928578</td>\n",
       "      <td>0.894784</td>\n",
       "    </tr>\n",
       "  </tbody>\n",
       "</table>\n",
       "</div>"
      ],
      "text/plain": [
       "                        universe_id universe_training_year  \\\n",
       "0  da87f0bf520574467dc6d9216a3cf66e                   2014   \n",
       "\n",
       "  universe_training_size universe_scale universe_model  \\\n",
       "0                    25k          scale             rf   \n",
       "\n",
       "  universe_exclude_features universe_exclude_subgroups  q_hat  coverage  \\\n",
       "0           nationality-sex            drop-non-german   0.66  0.914982   \n",
       "\n",
       "   avg_size  cov_frau1  cov_nongerman  cov_nongerman_male  \\\n",
       "0  1.147542   0.914975       0.915848            0.928578   \n",
       "\n",
       "   cov_nongerman_female  \n",
       "0              0.894784  "
      ]
     },
     "execution_count": 71,
     "metadata": {},
     "output_type": "execute_result"
    }
   ],
   "source": [
    "cp_metrics_df"
   ]
  },
  {
   "cell_type": "markdown",
   "id": "33774451",
   "metadata": {
    "papermill": {
     "duration": 0.02528,
     "end_time": "2025-07-30T19:53:21.516498",
     "exception": false,
     "start_time": "2025-07-30T19:53:21.491218",
     "status": "completed"
    },
    "tags": []
   },
   "source": [
    "# (Fairness) Metrics"
   ]
  },
  {
   "cell_type": "code",
   "execution_count": 72,
   "id": "debc5d62",
   "metadata": {
    "execution": {
     "iopub.execute_input": "2025-07-30T19:53:21.568007Z",
     "iopub.status.busy": "2025-07-30T19:53:21.567370Z",
     "iopub.status.idle": "2025-07-30T19:53:21.588352Z",
     "shell.execute_reply": "2025-07-30T19:53:21.587545Z"
    },
    "papermill": {
     "duration": 0.04956,
     "end_time": "2025-07-30T19:53:21.589902",
     "exception": false,
     "start_time": "2025-07-30T19:53:21.540342",
     "status": "completed"
    },
    "tags": []
   },
   "outputs": [],
   "source": [
    "# do I need to include maxdeutsch1.missing?\n",
    "\n",
    "import numpy as np\n",
    "\n",
    "colname_to_bin = \"maxdeutsch1\"\n",
    "majority_value = org_train[colname_to_bin].mode()[0]\n",
    "\n",
    "org_test[\"majmin\"] = np.where(org_test[colname_to_bin] == majority_value, \"majority\", \"minority\")"
   ]
  },
  {
   "cell_type": "code",
   "execution_count": 73,
   "id": "06a50de5",
   "metadata": {
    "execution": {
     "iopub.execute_input": "2025-07-30T19:53:21.640521Z",
     "iopub.status.busy": "2025-07-30T19:53:21.639741Z",
     "iopub.status.idle": "2025-07-30T19:53:24.518820Z",
     "shell.execute_reply": "2025-07-30T19:53:24.517921Z"
    },
    "papermill": {
     "duration": 2.90591,
     "end_time": "2025-07-30T19:53:24.520879",
     "exception": false,
     "start_time": "2025-07-30T19:53:21.614969",
     "status": "completed"
    },
    "tags": []
   },
   "outputs": [],
   "source": [
    "example_universe = universe.copy()\n",
    "example_universe[\"cutoff\"] = example_universe[\"cutoff\"][0]\n",
    "example_universe[\"eval_fairness_grouping\"] = example_universe[\"eval_fairness_grouping\"][0]\n",
    "fairness_dict, metric_frame = universe_analysis.compute_metrics(\n",
    "    example_universe,\n",
    "    y_pred_prob=probs_test,\n",
    "    y_test=y_true,\n",
    "    org_test=org_test,\n",
    ")"
   ]
  },
  {
   "cell_type": "markdown",
   "id": "f95d4e02",
   "metadata": {
    "papermill": {
     "duration": 0.025702,
     "end_time": "2025-07-30T19:53:24.573599",
     "exception": false,
     "start_time": "2025-07-30T19:53:24.547897",
     "status": "completed"
    },
    "tags": []
   },
   "source": [
    "# Overall"
   ]
  },
  {
   "cell_type": "markdown",
   "id": "bdee4871",
   "metadata": {
    "papermill": {
     "duration": 0.025292,
     "end_time": "2025-07-30T19:53:24.624553",
     "exception": false,
     "start_time": "2025-07-30T19:53:24.599261",
     "status": "completed"
    },
    "tags": []
   },
   "source": [
    "Fairness\n",
    "Main fairness target: Equalized Odds. Seems to be a better fit than equal opportunity, since we're not only interested in Y = 1. Seems to be a better fit than demographic parity, since we also care about accuracy, not just equal distribution of preds.\n",
    "\n",
    "Pick column for computation of fairness metrics\n",
    "\n",
    "Performance\n",
    "Overall performance measures, most interesting in relation to the measures split by group below"
   ]
  },
  {
   "cell_type": "code",
   "execution_count": 74,
   "id": "c4e067c6",
   "metadata": {
    "execution": {
     "iopub.execute_input": "2025-07-30T19:53:24.679055Z",
     "iopub.status.busy": "2025-07-30T19:53:24.678387Z",
     "iopub.status.idle": "2025-07-30T19:53:24.686462Z",
     "shell.execute_reply": "2025-07-30T19:53:24.685565Z"
    },
    "papermill": {
     "duration": 0.036673,
     "end_time": "2025-07-30T19:53:24.687879",
     "exception": false,
     "start_time": "2025-07-30T19:53:24.651206",
     "status": "completed"
    },
    "tags": []
   },
   "outputs": [
    {
     "data": {
      "text/plain": [
       "accuracy                   0.204894\n",
       "balanced accuracy          0.536162\n",
       "f1                         0.240575\n",
       "precision                  0.137083\n",
       "false positive rate        0.909427\n",
       "false negative rate        0.018248\n",
       "selection rate             0.918705\n",
       "count                  89710.000000\n",
       "dtype: float64"
      ]
     },
     "execution_count": 74,
     "metadata": {},
     "output_type": "execute_result"
    }
   ],
   "source": [
    "metric_frame.overall"
   ]
  },
  {
   "cell_type": "markdown",
   "id": "e968fe9d",
   "metadata": {
    "papermill": {
     "duration": 0.024432,
     "end_time": "2025-07-30T19:53:24.737896",
     "exception": false,
     "start_time": "2025-07-30T19:53:24.713464",
     "status": "completed"
    },
    "tags": []
   },
   "source": [
    "By Group"
   ]
  },
  {
   "cell_type": "code",
   "execution_count": 75,
   "id": "ec325bce",
   "metadata": {
    "execution": {
     "iopub.execute_input": "2025-07-30T19:53:24.790264Z",
     "iopub.status.busy": "2025-07-30T19:53:24.789625Z",
     "iopub.status.idle": "2025-07-30T19:53:24.805498Z",
     "shell.execute_reply": "2025-07-30T19:53:24.804456Z"
    },
    "papermill": {
     "duration": 0.04428,
     "end_time": "2025-07-30T19:53:24.807300",
     "exception": false,
     "start_time": "2025-07-30T19:53:24.763020",
     "status": "completed"
    },
    "tags": []
   },
   "outputs": [
    {
     "data": {
      "text/html": [
       "<div>\n",
       "<style scoped>\n",
       "    .dataframe tbody tr th:only-of-type {\n",
       "        vertical-align: middle;\n",
       "    }\n",
       "\n",
       "    .dataframe tbody tr th {\n",
       "        vertical-align: top;\n",
       "    }\n",
       "\n",
       "    .dataframe thead th {\n",
       "        text-align: right;\n",
       "    }\n",
       "</style>\n",
       "<table border=\"1\" class=\"dataframe\">\n",
       "  <thead>\n",
       "    <tr style=\"text-align: right;\">\n",
       "      <th></th>\n",
       "      <th>accuracy</th>\n",
       "      <th>balanced accuracy</th>\n",
       "      <th>f1</th>\n",
       "      <th>precision</th>\n",
       "      <th>false positive rate</th>\n",
       "      <th>false negative rate</th>\n",
       "      <th>selection rate</th>\n",
       "      <th>count</th>\n",
       "    </tr>\n",
       "    <tr>\n",
       "      <th>majmin</th>\n",
       "      <th></th>\n",
       "      <th></th>\n",
       "      <th></th>\n",
       "      <th></th>\n",
       "      <th></th>\n",
       "      <th></th>\n",
       "      <th></th>\n",
       "      <th></th>\n",
       "    </tr>\n",
       "  </thead>\n",
       "  <tbody>\n",
       "    <tr>\n",
       "      <th>majority</th>\n",
       "      <td>0.200058</td>\n",
       "      <td>0.535328</td>\n",
       "      <td>0.246651</td>\n",
       "      <td>0.140853</td>\n",
       "      <td>0.920373</td>\n",
       "      <td>0.008972</td>\n",
       "      <td>0.929709</td>\n",
       "      <td>69170.0</td>\n",
       "    </tr>\n",
       "    <tr>\n",
       "      <th>minority</th>\n",
       "      <td>0.221178</td>\n",
       "      <td>0.536340</td>\n",
       "      <td>0.218782</td>\n",
       "      <td>0.123695</td>\n",
       "      <td>0.873267</td>\n",
       "      <td>0.054054</td>\n",
       "      <td>0.881646</td>\n",
       "      <td>20540.0</td>\n",
       "    </tr>\n",
       "  </tbody>\n",
       "</table>\n",
       "</div>"
      ],
      "text/plain": [
       "          accuracy  balanced accuracy        f1  precision  \\\n",
       "majmin                                                       \n",
       "majority  0.200058           0.535328  0.246651   0.140853   \n",
       "minority  0.221178           0.536340  0.218782   0.123695   \n",
       "\n",
       "          false positive rate  false negative rate  selection rate    count  \n",
       "majmin                                                                       \n",
       "majority             0.920373             0.008972        0.929709  69170.0  \n",
       "minority             0.873267             0.054054        0.881646  20540.0  "
      ]
     },
     "execution_count": 75,
     "metadata": {},
     "output_type": "execute_result"
    }
   ],
   "source": [
    "metric_frame.by_group"
   ]
  },
  {
   "cell_type": "code",
   "execution_count": 76,
   "id": "a9ddbe63",
   "metadata": {
    "execution": {
     "iopub.execute_input": "2025-07-30T19:53:24.863367Z",
     "iopub.status.busy": "2025-07-30T19:53:24.861939Z",
     "iopub.status.idle": "2025-07-30T19:53:27.028857Z",
     "shell.execute_reply": "2025-07-30T19:53:27.028143Z"
    },
    "papermill": {
     "duration": 2.196527,
     "end_time": "2025-07-30T19:53:27.030090",
     "exception": false,
     "start_time": "2025-07-30T19:53:24.833563",
     "status": "completed"
    },
    "tags": []
   },
   "outputs": [
    {
     "data": {
      "text/plain": [
       "array([[<Axes: title={'center': 'accuracy'}, xlabel='majmin'>,\n",
       "        <Axes: title={'center': 'balanced accuracy'}, xlabel='majmin'>,\n",
       "        <Axes: title={'center': 'f1'}, xlabel='majmin'>],\n",
       "       [<Axes: title={'center': 'precision'}, xlabel='majmin'>,\n",
       "        <Axes: title={'center': 'false positive rate'}, xlabel='majmin'>,\n",
       "        <Axes: title={'center': 'false negative rate'}, xlabel='majmin'>],\n",
       "       [<Axes: title={'center': 'selection rate'}, xlabel='majmin'>,\n",
       "        <Axes: title={'center': 'count'}, xlabel='majmin'>,\n",
       "        <Axes: xlabel='majmin'>]], dtype=object)"
      ]
     },
     "execution_count": 76,
     "metadata": {},
     "output_type": "execute_result"
    },
    {
     "data": {
      "image/png": "[encoded data removed]",
      "text/plain": [
       "<Figure size 1200x800 with 9 Axes>"
      ]
     },
     "metadata": {},
     "output_type": "display_data"
    }
   ],
   "source": [
    "# In a graphic\n",
    "metric_frame.by_group.plot.bar(\n",
    "    subplots=True,\n",
    "    layout=[3, 3],\n",
    "    legend=False,\n",
    "    figsize=[12, 8],\n",
    "    title=\"Show all metrics\",\n",
    ")"
   ]
  },
  {
   "cell_type": "markdown",
   "id": "f57a0bac",
   "metadata": {
    "papermill": {
     "duration": 0.01474,
     "end_time": "2025-07-30T19:53:27.064091",
     "exception": false,
     "start_time": "2025-07-30T19:53:27.049351",
     "status": "completed"
    },
    "tags": []
   },
   "source": [
    "# Final Output"
   ]
  },
  {
   "cell_type": "code",
   "execution_count": 77,
   "id": "96d280a3",
   "metadata": {
    "execution": {
     "iopub.execute_input": "2025-07-30T19:53:27.099200Z",
     "iopub.status.busy": "2025-07-30T19:53:27.098672Z",
     "iopub.status.idle": "2025-07-30T19:53:27.105200Z",
     "shell.execute_reply": "2025-07-30T19:53:27.104521Z"
    },
    "papermill": {
     "duration": 0.027404,
     "end_time": "2025-07-30T19:53:27.106356",
     "exception": false,
     "start_time": "2025-07-30T19:53:27.078952",
     "status": "completed"
    },
    "tags": []
   },
   "outputs": [
    {
     "data": {
      "text/plain": [
       "4"
      ]
     },
     "execution_count": 77,
     "metadata": {},
     "output_type": "execute_result"
    }
   ],
   "source": [
    "sub_universes = universe_analysis.generate_sub_universes()\n",
    "len(sub_universes)"
   ]
  },
  {
   "cell_type": "code",
   "execution_count": 78,
   "id": "92adf7ba",
   "metadata": {
    "execution": {
     "iopub.execute_input": "2025-07-30T19:53:27.140211Z",
     "iopub.status.busy": "2025-07-30T19:53:27.139444Z",
     "iopub.status.idle": "2025-07-30T19:53:27.153773Z",
     "shell.execute_reply": "2025-07-30T19:53:27.152812Z"
    },
    "papermill": {
     "duration": 0.033957,
     "end_time": "2025-07-30T19:53:27.155102",
     "exception": false,
     "start_time": "2025-07-30T19:53:27.121145",
     "status": "completed"
    },
    "tags": []
   },
   "outputs": [],
   "source": [
    "def filter_sub_universe_data(sub_universe, org_test):\n",
    "    # Keep all rows — no filtering\n",
    "    keep_rows_mask = np.ones(org_test.shape[0], dtype=bool)\n",
    "\n",
    "    print(f\"[INFO] Keeping all rows: {keep_rows_mask.sum()} rows retained.\")\n",
    "    return keep_rows_mask"
   ]
  },
  {
   "cell_type": "code",
   "execution_count": 79,
   "id": "4a759155",
   "metadata": {
    "execution": {
     "iopub.execute_input": "2025-07-30T19:53:27.193805Z",
     "iopub.status.busy": "2025-07-30T19:53:27.193107Z",
     "iopub.status.idle": "2025-07-30T19:53:36.641172Z",
     "shell.execute_reply": "2025-07-30T19:53:36.640100Z"
    },
    "papermill": {
     "duration": 9.471642,
     "end_time": "2025-07-30T19:53:36.642772",
     "exception": false,
     "start_time": "2025-07-30T19:53:27.171130",
     "status": "completed"
    },
    "tags": []
   },
   "outputs": [
    {
     "name": "stdout",
     "output_type": "stream",
     "text": [
      "Stopping execution_time clock.\n",
      "[INFO] Keeping all rows: 89710 rows retained.\n"
     ]
    },
    {
     "name": "stdout",
     "output_type": "stream",
     "text": [
      "[INFO] Keeping all rows: 89710 rows retained.\n"
     ]
    },
    {
     "name": "stdout",
     "output_type": "stream",
     "text": [
      "[INFO] Keeping all rows: 89710 rows retained.\n"
     ]
    },
    {
     "name": "stdout",
     "output_type": "stream",
     "text": [
      "[INFO] Keeping all rows: 89710 rows retained.\n"
     ]
    },
    {
     "data": {
      "text/html": [
       "<div>\n",
       "<style scoped>\n",
       "    .dataframe tbody tr th:only-of-type {\n",
       "        vertical-align: middle;\n",
       "    }\n",
       "\n",
       "    .dataframe tbody tr th {\n",
       "        vertical-align: top;\n",
       "    }\n",
       "\n",
       "    .dataframe thead th {\n",
       "        text-align: right;\n",
       "    }\n",
       "</style>\n",
       "<table border=\"1\" class=\"dataframe\">\n",
       "  <thead>\n",
       "    <tr style=\"text-align: right;\">\n",
       "      <th></th>\n",
       "      <th>run_no</th>\n",
       "      <th>universe_id</th>\n",
       "      <th>universe_settings</th>\n",
       "      <th>execution_time</th>\n",
       "      <th>test_size_n</th>\n",
       "      <th>test_size_frac</th>\n",
       "      <th>fair_main_equalized_odds_difference</th>\n",
       "      <th>fair_main_equalized_odds_ratio</th>\n",
       "      <th>fair_main_demographic_parity_difference</th>\n",
       "      <th>fair_main_demographic_parity_ratio</th>\n",
       "      <th>...</th>\n",
       "      <th>perf_grp_precision_0</th>\n",
       "      <th>perf_grp_precision_1</th>\n",
       "      <th>perf_grp_false positive rate_0</th>\n",
       "      <th>perf_grp_false positive rate_1</th>\n",
       "      <th>perf_grp_false negative rate_0</th>\n",
       "      <th>perf_grp_false negative rate_1</th>\n",
       "      <th>perf_grp_selection rate_0</th>\n",
       "      <th>perf_grp_selection rate_1</th>\n",
       "      <th>perf_grp_count_0</th>\n",
       "      <th>perf_grp_count_1</th>\n",
       "    </tr>\n",
       "  </thead>\n",
       "  <tbody>\n",
       "    <tr>\n",
       "      <th>0</th>\n",
       "      <td>14</td>\n",
       "      <td>da87f0bf520574467dc6d9216a3cf66e</td>\n",
       "      <td>{\"cutoff\": \"quantile_0.1\", \"eval_fairness_grou...</td>\n",
       "      <td>46.677947</td>\n",
       "      <td>89710</td>\n",
       "      <td>1.0</td>\n",
       "      <td>0.047107</td>\n",
       "      <td>0.948818</td>\n",
       "      <td>0.048064</td>\n",
       "      <td>0.948302</td>\n",
       "      <td>...</td>\n",
       "      <td>NaN</td>\n",
       "      <td>NaN</td>\n",
       "      <td>NaN</td>\n",
       "      <td>NaN</td>\n",
       "      <td>NaN</td>\n",
       "      <td>NaN</td>\n",
       "      <td>NaN</td>\n",
       "      <td>NaN</td>\n",
       "      <td>NaN</td>\n",
       "      <td>NaN</td>\n",
       "    </tr>\n",
       "    <tr>\n",
       "      <th>0</th>\n",
       "      <td>14</td>\n",
       "      <td>da87f0bf520574467dc6d9216a3cf66e</td>\n",
       "      <td>{\"cutoff\": \"quantile_0.1\", \"eval_fairness_grou...</td>\n",
       "      <td>46.677947</td>\n",
       "      <td>89710</td>\n",
       "      <td>1.0</td>\n",
       "      <td>0.047107</td>\n",
       "      <td>0.948818</td>\n",
       "      <td>0.048064</td>\n",
       "      <td>0.948302</td>\n",
       "      <td>...</td>\n",
       "      <td>0.123695</td>\n",
       "      <td>0.140853</td>\n",
       "      <td>0.873267</td>\n",
       "      <td>0.920373</td>\n",
       "      <td>0.054054</td>\n",
       "      <td>0.008972</td>\n",
       "      <td>0.881646</td>\n",
       "      <td>0.929709</td>\n",
       "      <td>20540.0</td>\n",
       "      <td>69170.0</td>\n",
       "    </tr>\n",
       "    <tr>\n",
       "      <th>0</th>\n",
       "      <td>14</td>\n",
       "      <td>da87f0bf520574467dc6d9216a3cf66e</td>\n",
       "      <td>{\"cutoff\": \"quantile_0.25\", \"eval_fairness_gro...</td>\n",
       "      <td>46.677947</td>\n",
       "      <td>89710</td>\n",
       "      <td>1.0</td>\n",
       "      <td>0.074359</td>\n",
       "      <td>0.921709</td>\n",
       "      <td>0.032022</td>\n",
       "      <td>0.957944</td>\n",
       "      <td>...</td>\n",
       "      <td>NaN</td>\n",
       "      <td>NaN</td>\n",
       "      <td>NaN</td>\n",
       "      <td>NaN</td>\n",
       "      <td>NaN</td>\n",
       "      <td>NaN</td>\n",
       "      <td>NaN</td>\n",
       "      <td>NaN</td>\n",
       "      <td>NaN</td>\n",
       "      <td>NaN</td>\n",
       "    </tr>\n",
       "    <tr>\n",
       "      <th>0</th>\n",
       "      <td>14</td>\n",
       "      <td>da87f0bf520574467dc6d9216a3cf66e</td>\n",
       "      <td>{\"cutoff\": \"quantile_0.25\", \"eval_fairness_gro...</td>\n",
       "      <td>46.677947</td>\n",
       "      <td>89710</td>\n",
       "      <td>1.0</td>\n",
       "      <td>0.074359</td>\n",
       "      <td>0.921709</td>\n",
       "      <td>0.032022</td>\n",
       "      <td>0.957944</td>\n",
       "      <td>...</td>\n",
       "      <td>0.138366</td>\n",
       "      <td>0.164825</td>\n",
       "      <td>0.710379</td>\n",
       "      <td>0.732750</td>\n",
       "      <td>0.124578</td>\n",
       "      <td>0.050219</td>\n",
       "      <td>0.729406</td>\n",
       "      <td>0.761428</td>\n",
       "      <td>20540.0</td>\n",
       "      <td>69170.0</td>\n",
       "    </tr>\n",
       "  </tbody>\n",
       "</table>\n",
       "<p>4 rows × 50 columns</p>\n",
       "</div>"
      ],
      "text/plain": [
       "  run_no                       universe_id  \\\n",
       "0     14  da87f0bf520574467dc6d9216a3cf66e   \n",
       "0     14  da87f0bf520574467dc6d9216a3cf66e   \n",
       "0     14  da87f0bf520574467dc6d9216a3cf66e   \n",
       "0     14  da87f0bf520574467dc6d9216a3cf66e   \n",
       "\n",
       "                                   universe_settings  execution_time  \\\n",
       "0  {\"cutoff\": \"quantile_0.1\", \"eval_fairness_grou...       46.677947   \n",
       "0  {\"cutoff\": \"quantile_0.1\", \"eval_fairness_grou...       46.677947   \n",
       "0  {\"cutoff\": \"quantile_0.25\", \"eval_fairness_gro...       46.677947   \n",
       "0  {\"cutoff\": \"quantile_0.25\", \"eval_fairness_gro...       46.677947   \n",
       "\n",
       "   test_size_n  test_size_frac  fair_main_equalized_odds_difference  \\\n",
       "0        89710             1.0                             0.047107   \n",
       "0        89710             1.0                             0.047107   \n",
       "0        89710             1.0                             0.074359   \n",
       "0        89710             1.0                             0.074359   \n",
       "\n",
       "   fair_main_equalized_odds_ratio  fair_main_demographic_parity_difference  \\\n",
       "0                        0.948818                                 0.048064   \n",
       "0                        0.948818                                 0.048064   \n",
       "0                        0.921709                                 0.032022   \n",
       "0                        0.921709                                 0.032022   \n",
       "\n",
       "   fair_main_demographic_parity_ratio  ...  perf_grp_precision_0  \\\n",
       "0                            0.948302  ...                   NaN   \n",
       "0                            0.948302  ...              0.123695   \n",
       "0                            0.957944  ...                   NaN   \n",
       "0                            0.957944  ...              0.138366   \n",
       "\n",
       "   perf_grp_precision_1  perf_grp_false positive rate_0  \\\n",
       "0                   NaN                             NaN   \n",
       "0              0.140853                        0.873267   \n",
       "0                   NaN                             NaN   \n",
       "0              0.164825                        0.710379   \n",
       "\n",
       "   perf_grp_false positive rate_1  perf_grp_false negative rate_0  \\\n",
       "0                             NaN                             NaN   \n",
       "0                        0.920373                        0.054054   \n",
       "0                             NaN                             NaN   \n",
       "0                        0.732750                        0.124578   \n",
       "\n",
       "   perf_grp_false negative rate_1  perf_grp_selection rate_0  \\\n",
       "0                             NaN                        NaN   \n",
       "0                        0.008972                   0.881646   \n",
       "0                             NaN                        NaN   \n",
       "0                        0.050219                   0.729406   \n",
       "\n",
       "   perf_grp_selection rate_1  perf_grp_count_0  perf_grp_count_1  \n",
       "0                        NaN               NaN               NaN  \n",
       "0                   0.929709           20540.0           69170.0  \n",
       "0                        NaN               NaN               NaN  \n",
       "0                   0.761428           20540.0           69170.0  \n",
       "\n",
       "[4 rows x 50 columns]"
      ]
     },
     "execution_count": 79,
     "metadata": {},
     "output_type": "execute_result"
    }
   ],
   "source": [
    "final_output = universe_analysis.generate_final_output(\n",
    "    y_pred_prob=probs_test,\n",
    "    y_test=y_true,\n",
    "    org_test=org_test,\n",
    "    filter_data=filter_sub_universe_data,\n",
    "    cp_metrics_df=cp_metrics_df,\n",
    "    save=True,\n",
    ")\n",
    "final_output"
   ]
  },
  {
   "cell_type": "code",
   "execution_count": null,
   "id": "721ff514-cb11-46f8-b6fc-50392f74b5cb",
   "metadata": {
    "papermill": {
     "duration": 0.032282,
     "end_time": "2025-07-30T19:53:36.708786",
     "exception": false,
     "start_time": "2025-07-30T19:53:36.676504",
     "status": "completed"
    },
    "tags": []
   },
   "outputs": [],
   "source": []
  }
 ],
 "metadata": {
  "celltoolbar": "Tags",
  "kernelspec": {
   "display_name": "Python (CMA Fairness)",
   "language": "python",
   "name": "cma_fair_env"
  },
  "language_info": {
   "codemirror_mode": {
    "name": "ipython",
    "version": 3
   },
   "file_extension": ".py",
   "mimetype": "text/x-python",
   "name": "python",
   "nbconvert_exporter": "python",
   "pygments_lexer": "ipython3",
   "version": "3.10.12"
  },
  "papermill": {
   "default_parameters": {},
   "duration": 60.440067,
   "end_time": "2025-07-30T19:53:37.559649",
   "environment_variables": {},
   "exception": null,
   "input_path": "universe_analysis.ipynb",
   "output_path": "output/runs/14/notebooks/m_14-da87f0bf520574467dc6d9216a3cf66e.ipynb",
   "parameters": {
    "output_dir": "output",
    "run_no": "14",
    "seed": "2023",
    "universe": "{\"cutoff\": [\"quantile_0.1\", \"quantile_0.25\"], \"eval_fairness_grouping\": [\"majority-minority\", \"nationality-all\"], \"exclude_features\": \"nationality-sex\", \"exclude_subgroups\": \"drop-non-german\", \"model\": \"rf\", \"scale\": \"scale\", \"training_size\": \"25k\", \"training_year\": \"2014\"}",
    "universe_id": "da87f0bf520574467dc6d9216a3cf66e"
   },
   "start_time": "2025-07-30T19:52:37.119582",
   "version": "2.6.0"
  }
 },
 "nbformat": 4,
 "nbformat_minor": 5
}