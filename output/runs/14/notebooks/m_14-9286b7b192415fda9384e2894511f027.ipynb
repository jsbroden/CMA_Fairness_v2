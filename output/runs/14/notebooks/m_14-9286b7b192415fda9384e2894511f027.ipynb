{
 "cells": [
  {
   "cell_type": "code",
   "execution_count": 1,
   "id": "f159f837-637b-42ba-96b5-ec9a68c44524",
   "metadata": {
    "execution": {
     "iopub.execute_input": "2025-07-30T20:53:06.334475Z",
     "iopub.status.busy": "2025-07-30T20:53:06.334021Z",
     "iopub.status.idle": "2025-07-30T20:53:06.346409Z",
     "shell.execute_reply": "2025-07-30T20:53:06.345579Z"
    },
    "papermill": {
     "duration": 0.036705,
     "end_time": "2025-07-30T20:53:06.347923",
     "exception": false,
     "start_time": "2025-07-30T20:53:06.311218",
     "status": "completed"
    },
    "tags": []
   },
   "outputs": [
    {
     "name": "stdout",
     "output_type": "stream",
     "text": [
      "/dss/dsshome1/0C/ra93lal2/cma/CMA_Fairness_v2\n"
     ]
    },
    {
     "name": "stderr",
     "output_type": "stream",
     "text": [
      "/dss/dsshome1/0C/ra93lal2/.local/share/virtualenvs/CMA_Fairness_v2-3j10GkSs/lib/python3.10/site-packages/IPython/core/magics/osm.py:393: UserWarning: This is now an optional IPython functionality, using bookmarks requires you to install the `pickleshare` library.\n",
      "  bkms = self.shell.db.get('bookmarks', {})\n",
      "/dss/dsshome1/0C/ra93lal2/.local/share/virtualenvs/CMA_Fairness_v2-3j10GkSs/lib/python3.10/site-packages/IPython/core/magics/osm.py:417: UserWarning: This is now an optional IPython functionality, setting dhist requires you to install the `pickleshare` library.\n",
      "  self.shell.db['dhist'] = compress_dhist(dhist)[-100:]\n"
     ]
    }
   ],
   "source": [
    "%cd ~/cma/CMA_Fairness_v2"
   ]
  },
  {
   "cell_type": "markdown",
   "id": "de2603b9",
   "metadata": {
    "papermill": {
     "duration": 0.019159,
     "end_time": "2025-07-30T20:53:06.386853",
     "exception": false,
     "start_time": "2025-07-30T20:53:06.367694",
     "status": "completed"
    },
    "tags": []
   },
   "source": [
    "The following cell holds the definition of our parameters, these values can be overriden by rendering the with e.g. the following command:\n",
    "\n",
    "papermill -p alpha 0.2 -p ratio 0.3 universe_analysis.ipynb output/test_run.ipynb"
   ]
  },
  {
   "cell_type": "code",
   "execution_count": 2,
   "id": "a80968a0-40bb-4fa9-85ef-2d5eefb01975",
   "metadata": {
    "execution": {
     "iopub.execute_input": "2025-07-30T20:53:06.428158Z",
     "iopub.status.busy": "2025-07-30T20:53:06.427154Z",
     "iopub.status.idle": "2025-07-30T20:53:06.433120Z",
     "shell.execute_reply": "2025-07-30T20:53:06.431967Z"
    },
    "papermill": {
     "duration": 0.028611,
     "end_time": "2025-07-30T20:53:06.434759",
     "exception": false,
     "start_time": "2025-07-30T20:53:06.406148",
     "status": "completed"
    },
    "tags": []
   },
   "outputs": [
    {
     "name": "stdout",
     "output_type": "stream",
     "text": [
      "Current working directory: /dss/dsshome1/0C/ra93lal2/cma/CMA_Fairness_v2\n"
     ]
    }
   ],
   "source": [
    "import os\n",
    "print(\"Current working directory:\", os.getcwd())"
   ]
  },
  {
   "cell_type": "code",
   "execution_count": 3,
   "id": "2dce4c03",
   "metadata": {
    "execution": {
     "iopub.execute_input": "2025-07-30T20:53:06.475808Z",
     "iopub.status.busy": "2025-07-30T20:53:06.474845Z",
     "iopub.status.idle": "2025-07-30T20:53:06.481626Z",
     "shell.execute_reply": "2025-07-30T20:53:06.480702Z"
    },
    "papermill": {
     "duration": 0.028562,
     "end_time": "2025-07-30T20:53:06.483246",
     "exception": false,
     "start_time": "2025-07-30T20:53:06.454684",
     "status": "completed"
    },
    "tags": [
     "parameters"
    ]
   },
   "outputs": [],
   "source": [
    "run_no = 0\n",
    "universe_id = \"test\"\n",
    "universe = {\n",
    "    \"training_size\": \"25k\", # \"25k\", \"5k\", \"1k\"\n",
    "    \"training_year\": \"2014\", # \"2014\", \"2012_14\", \"2010_14\"\n",
    "    \"scale\": \"scale\", # \"scale\", \"do-not-scale\",\n",
    "    #\"stratify_split\": \"target\", # \"none\", \"target\", \"protected-attribute\", \"both\",\n",
    "    \"model\": \"elasticnet\", # \"logreg\", \"penalized_logreg\", \"rf\", \"gbm\", \"elasticnet\"\n",
    "    \"cutoff\": [\"quantile_0.15\", \"quantile_0.30\"],\n",
    "    \"exclude_features\": \"age\", # \"none\", \"nationality\", \"sex\", \"nationality-sex\", \"age\"\n",
    "    \"exclude_subgroups\": \"keep-all\", # \"keep-all\", \"drop-non-german\"\n",
    "    \"eval_fairness_grouping\": [\"majority-minority\", \"nationality-all\"]\n",
    "}\n",
    "\n",
    "output_dir=\"./output\"\n",
    "seed=0"
   ]
  },
  {
   "cell_type": "code",
   "execution_count": 4,
   "id": "065d90b0",
   "metadata": {
    "execution": {
     "iopub.execute_input": "2025-07-30T20:53:06.524167Z",
     "iopub.status.busy": "2025-07-30T20:53:06.523361Z",
     "iopub.status.idle": "2025-07-30T20:53:06.529186Z",
     "shell.execute_reply": "2025-07-30T20:53:06.528135Z"
    },
    "papermill": {
     "duration": 0.027886,
     "end_time": "2025-07-30T20:53:06.530808",
     "exception": false,
     "start_time": "2025-07-30T20:53:06.502922",
     "status": "completed"
    },
    "tags": [
     "injected-parameters"
    ]
   },
   "outputs": [],
   "source": [
    "# Parameters\n",
    "universe_id = \"9286b7b192415fda9384e2894511f027\"\n",
    "run_no = \"14\"\n",
    "universe = \"{\\\"cutoff\\\": [\\\"quantile_0.1\\\", \\\"quantile_0.25\\\"], \\\"eval_fairness_grouping\\\": [\\\"majority-minority\\\", \\\"nationality-all\\\"], \\\"exclude_features\\\": \\\"age\\\", \\\"exclude_subgroups\\\": \\\"drop-non-german\\\", \\\"model\\\": \\\"rf\\\", \\\"scale\\\": \\\"do-not-scale\\\", \\\"training_size\\\": \\\"5k\\\", \\\"training_year\\\": \\\"2014\\\"}\"\n",
    "output_dir = \"output\"\n",
    "seed = \"2023\"\n"
   ]
  },
  {
   "cell_type": "code",
   "execution_count": 5,
   "id": "1650acaf",
   "metadata": {
    "execution": {
     "iopub.execute_input": "2025-07-30T20:53:06.570134Z",
     "iopub.status.busy": "2025-07-30T20:53:06.569669Z",
     "iopub.status.idle": "2025-07-30T20:53:06.574812Z",
     "shell.execute_reply": "2025-07-30T20:53:06.573903Z"
    },
    "papermill": {
     "duration": 0.026742,
     "end_time": "2025-07-30T20:53:06.576501",
     "exception": false,
     "start_time": "2025-07-30T20:53:06.549759",
     "status": "completed"
    },
    "tags": []
   },
   "outputs": [],
   "source": [
    "import json\n",
    "# Parse universe into dict if it is passed as a string\n",
    "if isinstance(universe, str):\n",
    "    universe = json.loads(universe)"
   ]
  },
  {
   "cell_type": "code",
   "execution_count": 6,
   "id": "16620c48",
   "metadata": {
    "execution": {
     "iopub.execute_input": "2025-07-30T20:53:06.616247Z",
     "iopub.status.busy": "2025-07-30T20:53:06.615757Z",
     "iopub.status.idle": "2025-07-30T20:53:06.663774Z",
     "shell.execute_reply": "2025-07-30T20:53:06.662842Z"
    },
    "papermill": {
     "duration": 0.069809,
     "end_time": "2025-07-30T20:53:06.665689",
     "exception": false,
     "start_time": "2025-07-30T20:53:06.595880",
     "status": "completed"
    },
    "tags": []
   },
   "outputs": [],
   "source": [
    "# Auto-reload the custom package\n",
    "%load_ext autoreload\n",
    "%autoreload 1\n",
    "%aimport fairness_multiverse"
   ]
  },
  {
   "cell_type": "code",
   "execution_count": 7,
   "id": "01c5c9f3",
   "metadata": {
    "execution": {
     "iopub.execute_input": "2025-07-30T20:53:06.707618Z",
     "iopub.status.busy": "2025-07-30T20:53:06.706996Z",
     "iopub.status.idle": "2025-07-30T20:53:08.656326Z",
     "shell.execute_reply": "2025-07-30T20:53:08.655245Z"
    },
    "papermill": {
     "duration": 1.971608,
     "end_time": "2025-07-30T20:53:08.658302",
     "exception": false,
     "start_time": "2025-07-30T20:53:06.686694",
     "status": "completed"
    },
    "tags": []
   },
   "outputs": [],
   "source": [
    "from fairness_multiverse.universe import UniverseAnalysis\n",
    "\n",
    "universe_analysis = UniverseAnalysis(\n",
    "    run_no = run_no,\n",
    "    universe_id = universe_id,\n",
    "    universe = universe,\n",
    "    output_dir=output_dir,\n",
    ")"
   ]
  },
  {
   "cell_type": "code",
   "execution_count": 8,
   "id": "106241f5",
   "metadata": {
    "execution": {
     "iopub.execute_input": "2025-07-30T20:53:08.700116Z",
     "iopub.status.busy": "2025-07-30T20:53:08.699617Z",
     "iopub.status.idle": "2025-07-30T20:53:08.706193Z",
     "shell.execute_reply": "2025-07-30T20:53:08.705217Z"
    },
    "papermill": {
     "duration": 0.028767,
     "end_time": "2025-07-30T20:53:08.707913",
     "exception": false,
     "start_time": "2025-07-30T20:53:08.679146",
     "status": "completed"
    },
    "tags": []
   },
   "outputs": [
    {
     "name": "stdout",
     "output_type": "stream",
     "text": [
      "Using Seed: 2023\n"
     ]
    }
   ],
   "source": [
    "import numpy as np\n",
    "parsed_seed = int(seed)\n",
    "np.random.seed(parsed_seed)\n",
    "print(f\"Using Seed: {parsed_seed}\")"
   ]
  },
  {
   "cell_type": "markdown",
   "id": "e0ebdc57",
   "metadata": {
    "papermill": {
     "duration": 0.020773,
     "end_time": "2025-07-30T20:53:08.749566",
     "exception": false,
     "start_time": "2025-07-30T20:53:08.728793",
     "status": "completed"
    },
    "tags": []
   },
   "source": [
    "# Loading Data"
   ]
  },
  {
   "cell_type": "markdown",
   "id": "681925a3",
   "metadata": {
    "papermill": {
     "duration": 0.020531,
     "end_time": "2025-07-30T20:53:08.789920",
     "exception": false,
     "start_time": "2025-07-30T20:53:08.769389",
     "status": "completed"
    },
    "tags": []
   },
   "source": [
    "Load siab_train, siab_test, siab_calib and/or \n",
    "load siab_train_features, siab_train_labels"
   ]
  },
  {
   "cell_type": "code",
   "execution_count": 9,
   "id": "f0496b8a",
   "metadata": {
    "execution": {
     "iopub.execute_input": "2025-07-30T20:53:08.833247Z",
     "iopub.status.busy": "2025-07-30T20:53:08.832591Z",
     "iopub.status.idle": "2025-07-30T20:53:22.808294Z",
     "shell.execute_reply": "2025-07-30T20:53:22.807246Z"
    },
    "papermill": {
     "duration": 13.999535,
     "end_time": "2025-07-30T20:53:22.810239",
     "exception": false,
     "start_time": "2025-07-30T20:53:08.810704",
     "status": "completed"
    },
    "tags": []
   },
   "outputs": [
    {
     "name": "stdout",
     "output_type": "stream",
     "text": [
      "Loading SIAB data from cache: data/siab_cached.csv.gz\n"
     ]
    },
    {
     "name": "stdout",
     "output_type": "stream",
     "text": [
      "(643690, 164)\n"
     ]
    }
   ],
   "source": [
    "from pathlib import Path\n",
    "import pandas as pd\n",
    "\n",
    "# File paths\n",
    "raw_file = Path(\"data/raw/siab.csv\")\n",
    "cache_file = Path(\"data/siab_cached.csv.gz\")\n",
    "\n",
    "# Ensure cache directory exists\n",
    "cache_file.parent.mkdir(parents=True, exist_ok=True)\n",
    "\n",
    "# Load with simple caching\n",
    "if cache_file.exists():\n",
    "    print(f\"Loading SIAB data from cache: {cache_file}\")\n",
    "    siab = pd.read_csv(cache_file, compression='gzip')\n",
    "else:\n",
    "    print(f\"Cache not found. Reading raw SIAB data: {raw_file}\")\n",
    "    siab = pd.read_csv(raw_file)\n",
    "    siab.to_csv(cache_file, index=False, compression='gzip')\n",
    "    print(f\"Cached SIAB data to: {cache_file}\")\n",
    "\n",
    "# Now use `siab` DataFrame as needed\n",
    "print(siab.shape)"
   ]
  },
  {
   "cell_type": "code",
   "execution_count": 10,
   "id": "db0ca512-5f53-4dba-abdb-a2888bca41ba",
   "metadata": {
    "execution": {
     "iopub.execute_input": "2025-07-30T20:53:22.895843Z",
     "iopub.status.busy": "2025-07-30T20:53:22.895368Z",
     "iopub.status.idle": "2025-07-30T20:53:22.903352Z",
     "shell.execute_reply": "2025-07-30T20:53:22.902357Z"
    },
    "papermill": {
     "duration": 0.051548,
     "end_time": "2025-07-30T20:53:22.905364",
     "exception": false,
     "start_time": "2025-07-30T20:53:22.853816",
     "status": "completed"
    },
    "tags": []
   },
   "outputs": [],
   "source": [
    "#siab"
   ]
  },
  {
   "cell_type": "code",
   "execution_count": 11,
   "id": "a0edb063",
   "metadata": {
    "execution": {
     "iopub.execute_input": "2025-07-30T20:53:22.952457Z",
     "iopub.status.busy": "2025-07-30T20:53:22.952014Z",
     "iopub.status.idle": "2025-07-30T20:53:22.957869Z",
     "shell.execute_reply": "2025-07-30T20:53:22.956816Z"
    },
    "papermill": {
     "duration": 0.03368,
     "end_time": "2025-07-30T20:53:22.961317",
     "exception": false,
     "start_time": "2025-07-30T20:53:22.927637",
     "status": "completed"
    },
    "tags": []
   },
   "outputs": [],
   "source": [
    "#import pandas as pd\n",
    "#\n",
    "#X_train = pd.read_csv(\"./data/X_train.csv\")\n",
    "#y_train = pd.read_csv(\"./data/y_train.csv\")"
   ]
  },
  {
   "cell_type": "code",
   "execution_count": 12,
   "id": "63d08085",
   "metadata": {
    "execution": {
     "iopub.execute_input": "2025-07-30T20:53:23.021839Z",
     "iopub.status.busy": "2025-07-30T20:53:23.021411Z",
     "iopub.status.idle": "2025-07-30T20:53:23.026462Z",
     "shell.execute_reply": "2025-07-30T20:53:23.025614Z"
    },
    "papermill": {
     "duration": 0.037065,
     "end_time": "2025-07-30T20:53:23.029232",
     "exception": false,
     "start_time": "2025-07-30T20:53:22.992167",
     "status": "completed"
    },
    "tags": []
   },
   "outputs": [],
   "source": [
    "#X_test = pd.read_csv(\"./data/X_test.csv\")\n",
    "#y_true = pd.read_csv(\"./data/y_test.csv\")"
   ]
  },
  {
   "cell_type": "code",
   "execution_count": 13,
   "id": "98a8d0fa-1d3d-4ed8-bb2c-281470e24add",
   "metadata": {
    "execution": {
     "iopub.execute_input": "2025-07-30T20:53:23.111004Z",
     "iopub.status.busy": "2025-07-30T20:53:23.110581Z",
     "iopub.status.idle": "2025-07-30T20:53:23.120837Z",
     "shell.execute_reply": "2025-07-30T20:53:23.119774Z"
    },
    "papermill": {
     "duration": 0.035642,
     "end_time": "2025-07-30T20:53:23.122462",
     "exception": false,
     "start_time": "2025-07-30T20:53:23.086820",
     "status": "completed"
    },
    "tags": []
   },
   "outputs": [],
   "source": [
    "# Calibration data for conformal\n",
    "#X_calib = pd.read_csv(\"./data/X_calib.csv\")\n",
    "#y_calib = pd.read_csv(\"./data/y_calib.csv\")"
   ]
  },
  {
   "cell_type": "markdown",
   "id": "997051c5-15bd-4b69-9786-c3001a3ce484",
   "metadata": {
    "papermill": {
     "duration": 0.017168,
     "end_time": "2025-07-30T20:53:23.162486",
     "exception": false,
     "start_time": "2025-07-30T20:53:23.145318",
     "status": "completed"
    },
    "tags": []
   },
   "source": [
    "# Splitting Data and Setting Training Data Size"
   ]
  },
  {
   "cell_type": "code",
   "execution_count": 14,
   "id": "e993b61f-042d-41a6-8c81-f55681f86335",
   "metadata": {
    "execution": {
     "iopub.execute_input": "2025-07-30T20:53:23.207962Z",
     "iopub.status.busy": "2025-07-30T20:53:23.207529Z",
     "iopub.status.idle": "2025-07-30T20:53:23.221281Z",
     "shell.execute_reply": "2025-07-30T20:53:23.220204Z"
    },
    "papermill": {
     "duration": 0.03967,
     "end_time": "2025-07-30T20:53:23.223124",
     "exception": false,
     "start_time": "2025-07-30T20:53:23.183454",
     "status": "completed"
    },
    "tags": []
   },
   "outputs": [],
   "source": [
    "def sample_by_year_size(df,\n",
    "                        training_year: str,\n",
    "                        training_size: str,\n",
    "                        random_state: int = 42):\n",
    "    # --- parse training_year into a list of int years ---\n",
    "    if \"_\" in training_year:\n",
    "        start_str, end_str = training_year.split(\"_\", 1)\n",
    "        start = int(start_str)\n",
    "        end   = int(end_str) if len(end_str) == 4 else (int(end_str) + (start // 100)*100)\n",
    "        years = list(range(start, end + 1))\n",
    "    else:\n",
    "        years = [int(training_year)]\n",
    "\n",
    "    df = df[df[\"year\"].isin(years)].reset_index(drop=True)\n",
    "\n",
    "    # --- map training_size to total number of samples ---\n",
    "    total_map = {\"25k\": 25_000, \"5k\": 5_000, \"1k\": 1_000}\n",
    "    if training_size not in total_map:\n",
    "        return df  # e.g. \"all\"\n",
    "\n",
    "    total_samples = total_map[training_size]\n",
    "    n_years       = len(years)\n",
    "    base          = total_samples // n_years\n",
    "    remainder     = total_samples % n_years\n",
    "\n",
    "    # --- build a dict: year -> how many to sample ---\n",
    "    # give +1 to the first `remainder` years in ascending order\n",
    "    quotas = {\n",
    "        year: base + (1 if idx < remainder else 0)\n",
    "        for idx, year in enumerate(sorted(years))\n",
    "    }\n",
    "\n",
    "    # --- sample per‐year according to the quota dict ---\n",
    "    sampled = (\n",
    "        df\n",
    "        .groupby(\"year\", group_keys=False)\n",
    "        .apply(lambda grp: grp.sample(\n",
    "            n=min(len(grp), quotas[grp.name]),\n",
    "            random_state=random_state))\n",
    "        .reset_index(drop=True)\n",
    "    )\n",
    "\n",
    "    return sampled"
   ]
  },
  {
   "cell_type": "code",
   "execution_count": 15,
   "id": "c0ccd338-0e02-41f3-a09d-f56f9266e3fb",
   "metadata": {
    "execution": {
     "iopub.execute_input": "2025-07-30T20:53:23.259179Z",
     "iopub.status.busy": "2025-07-30T20:53:23.258769Z",
     "iopub.status.idle": "2025-07-30T20:53:23.264485Z",
     "shell.execute_reply": "2025-07-30T20:53:23.263366Z"
    },
    "papermill": {
     "duration": 0.025701,
     "end_time": "2025-07-30T20:53:23.267038",
     "exception": false,
     "start_time": "2025-07-30T20:53:23.241337",
     "status": "completed"
    },
    "tags": []
   },
   "outputs": [],
   "source": [
    "#universe[\"training_size\"]"
   ]
  },
  {
   "cell_type": "code",
   "execution_count": 16,
   "id": "ca707fd7-8047-4acd-bfa5-66248fbbf8e6",
   "metadata": {
    "execution": {
     "iopub.execute_input": "2025-07-30T20:53:23.329769Z",
     "iopub.status.busy": "2025-07-30T20:53:23.329327Z",
     "iopub.status.idle": "2025-07-30T20:53:23.335361Z",
     "shell.execute_reply": "2025-07-30T20:53:23.334353Z"
    },
    "papermill": {
     "duration": 0.034691,
     "end_time": "2025-07-30T20:53:23.338505",
     "exception": false,
     "start_time": "2025-07-30T20:53:23.303814",
     "status": "completed"
    },
    "tags": []
   },
   "outputs": [],
   "source": [
    "#universe[\"training_year\"]"
   ]
  },
  {
   "cell_type": "code",
   "execution_count": 17,
   "id": "aea9c6ef-6f46-42c8-85eb-5a62025c1508",
   "metadata": {
    "execution": {
     "iopub.execute_input": "2025-07-30T20:53:23.387085Z",
     "iopub.status.busy": "2025-07-30T20:53:23.386615Z",
     "iopub.status.idle": "2025-07-30T20:53:23.658032Z",
     "shell.execute_reply": "2025-07-30T20:53:23.656970Z"
    },
    "papermill": {
     "duration": 0.298521,
     "end_time": "2025-07-30T20:53:23.660252",
     "exception": false,
     "start_time": "2025-07-30T20:53:23.361731",
     "status": "completed"
    },
    "tags": []
   },
   "outputs": [],
   "source": [
    "siab_train = sample_by_year_size(siab,\n",
    "                               training_year=universe[\"training_year\"],\n",
    "                               training_size=universe[\"training_size\"])"
   ]
  },
  {
   "cell_type": "code",
   "execution_count": 18,
   "id": "8d3afb32-789d-442c-8d5d-9f5aa8dd2eed",
   "metadata": {
    "execution": {
     "iopub.execute_input": "2025-07-30T20:53:23.709467Z",
     "iopub.status.busy": "2025-07-30T20:53:23.709085Z",
     "iopub.status.idle": "2025-07-30T20:53:23.714220Z",
     "shell.execute_reply": "2025-07-30T20:53:23.713214Z"
    },
    "papermill": {
     "duration": 0.032704,
     "end_time": "2025-07-30T20:53:23.717326",
     "exception": false,
     "start_time": "2025-07-30T20:53:23.684622",
     "status": "completed"
    },
    "tags": []
   },
   "outputs": [],
   "source": [
    "#siab_train.shape"
   ]
  },
  {
   "cell_type": "code",
   "execution_count": 19,
   "id": "d582db68-1a4c-47fb-84fc-08518dc1975a",
   "metadata": {
    "execution": {
     "iopub.execute_input": "2025-07-30T20:53:23.768076Z",
     "iopub.status.busy": "2025-07-30T20:53:23.767597Z",
     "iopub.status.idle": "2025-07-30T20:53:23.773448Z",
     "shell.execute_reply": "2025-07-30T20:53:23.772284Z"
    },
    "papermill": {
     "duration": 0.033967,
     "end_time": "2025-07-30T20:53:23.775715",
     "exception": false,
     "start_time": "2025-07-30T20:53:23.741748",
     "status": "completed"
    },
    "tags": []
   },
   "outputs": [],
   "source": [
    "#display(siab_train.groupby(\"year\").size())"
   ]
  },
  {
   "cell_type": "code",
   "execution_count": 20,
   "id": "a561edb4-d032-42cb-8256-22eac1111c64",
   "metadata": {
    "execution": {
     "iopub.execute_input": "2025-07-30T20:53:23.827750Z",
     "iopub.status.busy": "2025-07-30T20:53:23.827290Z",
     "iopub.status.idle": "2025-07-30T20:53:24.084532Z",
     "shell.execute_reply": "2025-07-30T20:53:24.082445Z"
    },
    "papermill": {
     "duration": 0.285355,
     "end_time": "2025-07-30T20:53:24.086502",
     "exception": false,
     "start_time": "2025-07-30T20:53:23.801147",
     "status": "completed"
    },
    "tags": []
   },
   "outputs": [],
   "source": [
    "#siab_train = siab_s[siab_s.year < 2015]\n",
    "siab_calib = siab[siab.year == 2015]\n",
    "siab_test = siab[siab.year == 2016]"
   ]
  },
  {
   "cell_type": "code",
   "execution_count": 21,
   "id": "472de16f-c3db-4916-846b-1f0de9cf1746",
   "metadata": {
    "execution": {
     "iopub.execute_input": "2025-07-30T20:53:24.193894Z",
     "iopub.status.busy": "2025-07-30T20:53:24.193095Z",
     "iopub.status.idle": "2025-07-30T20:53:24.202688Z",
     "shell.execute_reply": "2025-07-30T20:53:24.201558Z"
    },
    "papermill": {
     "duration": 0.076668,
     "end_time": "2025-07-30T20:53:24.206228",
     "exception": false,
     "start_time": "2025-07-30T20:53:24.129560",
     "status": "completed"
    },
    "tags": []
   },
   "outputs": [],
   "source": [
    "X_train = siab_train.iloc[:,4:164]\n",
    "y_train = siab_train.iloc[:, [3]]"
   ]
  },
  {
   "cell_type": "code",
   "execution_count": 22,
   "id": "828c96af-f43a-4ed6-ba47-8ac73a47d56c",
   "metadata": {
    "execution": {
     "iopub.execute_input": "2025-07-30T20:53:24.321029Z",
     "iopub.status.busy": "2025-07-30T20:53:24.320613Z",
     "iopub.status.idle": "2025-07-30T20:53:24.437220Z",
     "shell.execute_reply": "2025-07-30T20:53:24.435559Z"
    },
    "papermill": {
     "duration": 0.156174,
     "end_time": "2025-07-30T20:53:24.439055",
     "exception": false,
     "start_time": "2025-07-30T20:53:24.282881",
     "status": "completed"
    },
    "tags": []
   },
   "outputs": [],
   "source": [
    "X_calib = siab_calib.iloc[:,4:164]\n",
    "y_calib = siab_calib.iloc[:, [3]]"
   ]
  },
  {
   "cell_type": "code",
   "execution_count": 23,
   "id": "c34be9c3-6bd6-476e-acd3-845840e303be",
   "metadata": {
    "execution": {
     "iopub.execute_input": "2025-07-30T20:53:24.518639Z",
     "iopub.status.busy": "2025-07-30T20:53:24.518253Z",
     "iopub.status.idle": "2025-07-30T20:53:24.641345Z",
     "shell.execute_reply": "2025-07-30T20:53:24.640394Z"
    },
    "papermill": {
     "duration": 0.172466,
     "end_time": "2025-07-30T20:53:24.643396",
     "exception": false,
     "start_time": "2025-07-30T20:53:24.470930",
     "status": "completed"
    },
    "tags": []
   },
   "outputs": [],
   "source": [
    "X_test = siab_test.iloc[:,4:164]\n",
    "y_true = siab_test.iloc[:, [3]]"
   ]
  },
  {
   "cell_type": "markdown",
   "id": "9901737e-04df-44f0-9100-f5ad144ed040",
   "metadata": {
    "papermill": {
     "duration": 0.049486,
     "end_time": "2025-07-30T20:53:24.746246",
     "exception": false,
     "start_time": "2025-07-30T20:53:24.696760",
     "status": "completed"
    },
    "tags": []
   },
   "source": [
    "# Splitting Data and Setting Training Data Size OLD VERSION"
   ]
  },
  {
   "cell_type": "code",
   "execution_count": 24,
   "id": "acbc8f7d-8fc8-4e86-8c59-5dcb0f58384b",
   "metadata": {
    "execution": {
     "iopub.execute_input": "2025-07-30T20:53:24.788961Z",
     "iopub.status.busy": "2025-07-30T20:53:24.788489Z",
     "iopub.status.idle": "2025-07-30T20:53:24.793890Z",
     "shell.execute_reply": "2025-07-30T20:53:24.792862Z"
    },
    "papermill": {
     "duration": 0.033489,
     "end_time": "2025-07-30T20:53:24.801748",
     "exception": false,
     "start_time": "2025-07-30T20:53:24.768259",
     "status": "completed"
    },
    "tags": []
   },
   "outputs": [],
   "source": [
    "#def sample_by_year(df, training_size, random_state=42):\n",
    "#    if training_size == \"2014\":\n",
    "#        return df[df[\"year\"] == 2014].reset_index(drop=True)\n",
    "#    \n",
    "#    size_map = {\n",
    "#        \"25k\": 5000,\n",
    "#        \"5k\": 1000,\n",
    "#        \"1k\": 200\n",
    "#    }\n",
    "#\n",
    "#    if training_size not in size_map:\n",
    "#        return df.reset_index(drop=True)  # use all data\n",
    "#\n",
    "#    n_per_year = size_map[training_size]\n",
    "#    grouped = df.groupby(\"year\")\n",
    "#    sampled = grouped.apply(lambda x: x.sample(n=min(n_per_year, len(x)), random_state=random_state))\n",
    "#    return sampled.reset_index(drop=True)"
   ]
  },
  {
   "cell_type": "code",
   "execution_count": 25,
   "id": "6d931f52-beaf-43ff-9e78-9d44a448d54e",
   "metadata": {
    "execution": {
     "iopub.execute_input": "2025-07-30T20:53:24.849547Z",
     "iopub.status.busy": "2025-07-30T20:53:24.849109Z",
     "iopub.status.idle": "2025-07-30T20:53:24.855073Z",
     "shell.execute_reply": "2025-07-30T20:53:24.853891Z"
    },
    "papermill": {
     "duration": 0.034218,
     "end_time": "2025-07-30T20:53:24.858323",
     "exception": false,
     "start_time": "2025-07-30T20:53:24.824105",
     "status": "completed"
    },
    "tags": []
   },
   "outputs": [],
   "source": [
    "#siab_s = sample_by_year(siab, universe[\"training_size\"])"
   ]
  },
  {
   "cell_type": "code",
   "execution_count": 26,
   "id": "5db0a40e-a4e2-4920-be85-b12ae061d70d",
   "metadata": {
    "execution": {
     "iopub.execute_input": "2025-07-30T20:53:24.915049Z",
     "iopub.status.busy": "2025-07-30T20:53:24.914506Z",
     "iopub.status.idle": "2025-07-30T20:53:24.921296Z",
     "shell.execute_reply": "2025-07-30T20:53:24.920079Z"
    },
    "papermill": {
     "duration": 0.048306,
     "end_time": "2025-07-30T20:53:24.930713",
     "exception": false,
     "start_time": "2025-07-30T20:53:24.882407",
     "status": "completed"
    },
    "tags": []
   },
   "outputs": [],
   "source": [
    "#display(siab_s.groupby(\"year\").size())"
   ]
  },
  {
   "cell_type": "code",
   "execution_count": 27,
   "id": "e6c733c5",
   "metadata": {
    "execution": {
     "iopub.execute_input": "2025-07-30T20:53:25.000331Z",
     "iopub.status.busy": "2025-07-30T20:53:24.999884Z",
     "iopub.status.idle": "2025-07-30T20:53:25.242932Z",
     "shell.execute_reply": "2025-07-30T20:53:25.241963Z"
    },
    "papermill": {
     "duration": 0.274019,
     "end_time": "2025-07-30T20:53:25.244770",
     "exception": false,
     "start_time": "2025-07-30T20:53:24.970751",
     "status": "completed"
    },
    "tags": []
   },
   "outputs": [],
   "source": [
    "# Auxiliary data needed downstream in the pipeline\n",
    "\n",
    "org_train = X_train.copy()\n",
    "org_test = X_test.copy()\n",
    "org_calib = X_calib.copy()"
   ]
  },
  {
   "cell_type": "code",
   "execution_count": 28,
   "id": "1466abac-c6da-4492-a62f-4240ae3783af",
   "metadata": {
    "execution": {
     "iopub.execute_input": "2025-07-30T20:53:25.406852Z",
     "iopub.status.busy": "2025-07-30T20:53:25.406419Z",
     "iopub.status.idle": "2025-07-30T20:53:25.412926Z",
     "shell.execute_reply": "2025-07-30T20:53:25.411858Z"
    },
    "papermill": {
     "duration": 0.094269,
     "end_time": "2025-07-30T20:53:25.414448",
     "exception": false,
     "start_time": "2025-07-30T20:53:25.320179",
     "status": "completed"
    },
    "tags": []
   },
   "outputs": [],
   "source": [
    "# put in other script?\n",
    "# Group sizes\n",
    "\n",
    "#def calculate_percentages(df, df_name):\n",
    "#    total_entries = len(df)\n",
    "#\n",
    "#    female_pct = (df['frau1'] == 1).mean() * 100\n",
    "#    non_german_pct = ((df['maxdeutsch1'] == 0) & (df['maxdeutsch.Missing.'] == 0)).mean() * 100\n",
    "#    non_german_male_pct = ((df['frau1'] == 0) & (df['maxdeutsch1'] == 0) & (df['maxdeutsch.Missing.'] == 0)).mean() * 100\n",
    "#    non_german_female_pct = ((df['frau1'] == 1) & (df['maxdeutsch1'] == 0) & (df['maxdeutsch.Missing.'] == 0)).mean() * 100\n",
    "#\n",
    "#    print(f\"--- {df_name} ---\")\n",
    "#    print(f\"Female: {female_pct:.2f}%\")\n",
    "#    print(f\"Non-German: {non_german_pct:.2f}%\")\n",
    "#    print(f\"Non-German Male: {non_german_male_pct:.2f}%\")\n",
    "#    print(f\"Non-German Female: {non_german_female_pct:.2f}%\\n\")\n",
    "#\n",
    "## Calculate for each DataFrame\n",
    "#calculate_percentages(siab_calib, \"siab_calib\")\n",
    "#calculate_percentages(siab_test, \"siab_test\")\n",
    "#calculate_percentages(siab_train, \"siab_train\")"
   ]
  },
  {
   "cell_type": "markdown",
   "id": "0a4a1b33",
   "metadata": {
    "papermill": {
     "duration": 0.041787,
     "end_time": "2025-07-30T20:53:25.495061",
     "exception": false,
     "start_time": "2025-07-30T20:53:25.453274",
     "status": "completed"
    },
    "tags": []
   },
   "source": [
    "# Preprocessing Data"
   ]
  },
  {
   "cell_type": "code",
   "execution_count": 29,
   "id": "ca879031",
   "metadata": {
    "execution": {
     "iopub.execute_input": "2025-07-30T20:53:25.541369Z",
     "iopub.status.busy": "2025-07-30T20:53:25.540933Z",
     "iopub.status.idle": "2025-07-30T20:53:25.546857Z",
     "shell.execute_reply": "2025-07-30T20:53:25.545915Z"
    },
    "papermill": {
     "duration": 0.031189,
     "end_time": "2025-07-30T20:53:25.549752",
     "exception": false,
     "start_time": "2025-07-30T20:53:25.518563",
     "status": "completed"
    },
    "tags": []
   },
   "outputs": [],
   "source": [
    "# EXCLUDE PROTECTED FEATURES\n",
    "# ----------------------\n",
    "# \"exclude_features\": \"none\", # \"nationality\", \"sex\", \"nationality-sex\"\n",
    "\n",
    "excluded_features = universe[\"exclude_features\"].split(\"-\") # split, e.g.: \"nationality-sex\" -> [\"nationality\", \"sex\"]\n",
    "excluded_features_dictionary = {\n",
    "    \"nationality\": [\"maxdeutsch1\", \"maxdeutsch.Missing.\"],\n",
    "    \"sex\": [\"frau1\"],\n",
    "    \"age\": [\"age\"],\n",
    "}\n"
   ]
  },
  {
   "cell_type": "code",
   "execution_count": 30,
   "id": "b745ac60",
   "metadata": {
    "execution": {
     "iopub.execute_input": "2025-07-30T20:53:25.628648Z",
     "iopub.status.busy": "2025-07-30T20:53:25.628189Z",
     "iopub.status.idle": "2025-07-30T20:53:25.634319Z",
     "shell.execute_reply": "2025-07-30T20:53:25.633105Z"
    },
    "papermill": {
     "duration": 0.060421,
     "end_time": "2025-07-30T20:53:25.635916",
     "exception": false,
     "start_time": "2025-07-30T20:53:25.575495",
     "status": "completed"
    },
    "tags": []
   },
   "outputs": [],
   "source": [
    "# Code nice names to column names\n",
    "\n",
    "excluded_features_columns = [\n",
    "    excluded_features_dictionary[f] for f in excluded_features if len(f) > 0 and f != \"none\"\n",
    "]"
   ]
  },
  {
   "cell_type": "code",
   "execution_count": 31,
   "id": "f84f73a2",
   "metadata": {
    "execution": {
     "iopub.execute_input": "2025-07-30T20:53:25.729529Z",
     "iopub.status.busy": "2025-07-30T20:53:25.729103Z",
     "iopub.status.idle": "2025-07-30T20:53:25.735878Z",
     "shell.execute_reply": "2025-07-30T20:53:25.734739Z"
    },
    "papermill": {
     "duration": 0.058958,
     "end_time": "2025-07-30T20:53:25.737821",
     "exception": false,
     "start_time": "2025-07-30T20:53:25.678863",
     "status": "completed"
    },
    "tags": []
   },
   "outputs": [],
   "source": [
    "from utils import flatten_once\n",
    "\n",
    "excluded_features_columns = flatten_once(excluded_features_columns)"
   ]
  },
  {
   "cell_type": "code",
   "execution_count": 32,
   "id": "884dea22",
   "metadata": {
    "execution": {
     "iopub.execute_input": "2025-07-30T20:53:25.798004Z",
     "iopub.status.busy": "2025-07-30T20:53:25.797524Z",
     "iopub.status.idle": "2025-07-30T20:53:25.806579Z",
     "shell.execute_reply": "2025-07-30T20:53:25.805699Z"
    },
    "papermill": {
     "duration": 0.031528,
     "end_time": "2025-07-30T20:53:25.807922",
     "exception": false,
     "start_time": "2025-07-30T20:53:25.776394",
     "status": "completed"
    },
    "tags": []
   },
   "outputs": [
    {
     "name": "stdout",
     "output_type": "stream",
     "text": [
      "Dropping features: ['age']\n"
     ]
    }
   ],
   "source": [
    "if len(excluded_features_columns) > 0:\n",
    "    print(f\"Dropping features: {excluded_features_columns}\")\n",
    "    X_train.drop(excluded_features_columns, axis=1, inplace=True)"
   ]
  },
  {
   "cell_type": "code",
   "execution_count": 33,
   "id": "95ab8b16",
   "metadata": {
    "execution": {
     "iopub.execute_input": "2025-07-30T20:53:25.834617Z",
     "iopub.status.busy": "2025-07-30T20:53:25.834277Z",
     "iopub.status.idle": "2025-07-30T20:53:25.916857Z",
     "shell.execute_reply": "2025-07-30T20:53:25.915713Z"
    },
    "papermill": {
     "duration": 0.097353,
     "end_time": "2025-07-30T20:53:25.918747",
     "exception": false,
     "start_time": "2025-07-30T20:53:25.821394",
     "status": "completed"
    },
    "tags": []
   },
   "outputs": [
    {
     "name": "stdout",
     "output_type": "stream",
     "text": [
      "Dropping features: ['age']\n"
     ]
    }
   ],
   "source": [
    "if len(excluded_features_columns) > 0:\n",
    "    print(f\"Dropping features: {excluded_features_columns}\")\n",
    "    X_test.drop(excluded_features_columns, axis=1, inplace=True)"
   ]
  },
  {
   "cell_type": "code",
   "execution_count": 34,
   "id": "1853aaf5-fb9f-46cb-a2b5-8ea4ae2237e4",
   "metadata": {
    "execution": {
     "iopub.execute_input": "2025-07-30T20:53:25.964499Z",
     "iopub.status.busy": "2025-07-30T20:53:25.963989Z",
     "iopub.status.idle": "2025-07-30T20:53:26.085351Z",
     "shell.execute_reply": "2025-07-30T20:53:26.084109Z"
    },
    "papermill": {
     "duration": 0.147649,
     "end_time": "2025-07-30T20:53:26.087272",
     "exception": false,
     "start_time": "2025-07-30T20:53:25.939623",
     "status": "completed"
    },
    "tags": []
   },
   "outputs": [
    {
     "name": "stdout",
     "output_type": "stream",
     "text": [
      "Dropping features: ['age']\n"
     ]
    }
   ],
   "source": [
    "if len(excluded_features_columns) > 0:\n",
    "    print(f\"Dropping features: {excluded_features_columns}\")\n",
    "    X_calib.drop(excluded_features_columns, axis=1, inplace=True)"
   ]
  },
  {
   "cell_type": "code",
   "execution_count": 35,
   "id": "6727d079-03e5-481e-9d38-292a90b7a0a8",
   "metadata": {
    "execution": {
     "iopub.execute_input": "2025-07-30T20:53:26.133655Z",
     "iopub.status.busy": "2025-07-30T20:53:26.133220Z",
     "iopub.status.idle": "2025-07-30T20:53:26.138046Z",
     "shell.execute_reply": "2025-07-30T20:53:26.137194Z"
    },
    "papermill": {
     "duration": 0.030643,
     "end_time": "2025-07-30T20:53:26.141111",
     "exception": false,
     "start_time": "2025-07-30T20:53:26.110468",
     "status": "completed"
    },
    "tags": []
   },
   "outputs": [],
   "source": [
    "# SPLIT & STRATIFY DATA\n",
    "# ----------------------"
   ]
  },
  {
   "cell_type": "code",
   "execution_count": 36,
   "id": "76c4dc6d",
   "metadata": {
    "execution": {
     "iopub.execute_input": "2025-07-30T20:53:26.188902Z",
     "iopub.status.busy": "2025-07-30T20:53:26.188464Z",
     "iopub.status.idle": "2025-07-30T20:53:26.195040Z",
     "shell.execute_reply": "2025-07-30T20:53:26.194099Z"
    },
    "papermill": {
     "duration": 0.033162,
     "end_time": "2025-07-30T20:53:26.198529",
     "exception": false,
     "start_time": "2025-07-30T20:53:26.165367",
     "status": "completed"
    },
    "tags": []
   },
   "outputs": [],
   "source": [
    "# EXCLUDE CERTAIN SUBGROUPS\n",
    "# ----------------------\n",
    "\n",
    "mode = universe.get(\"exclude_subgroups\", \"keep-all\") \n",
    "# Fetches the exclude_subgroups setting from the universe dict.\n",
    "# Defaults to \"keep-all\" if the key is missing."
   ]
  },
  {
   "cell_type": "code",
   "execution_count": 37,
   "id": "21994072",
   "metadata": {
    "execution": {
     "iopub.execute_input": "2025-07-30T20:53:26.342095Z",
     "iopub.status.busy": "2025-07-30T20:53:26.341711Z",
     "iopub.status.idle": "2025-07-30T20:53:26.349540Z",
     "shell.execute_reply": "2025-07-30T20:53:26.348487Z"
    },
    "papermill": {
     "duration": 0.073958,
     "end_time": "2025-07-30T20:53:26.351800",
     "exception": false,
     "start_time": "2025-07-30T20:53:26.277842",
     "status": "completed"
    },
    "tags": []
   },
   "outputs": [],
   "source": [
    "if mode == \"keep-all\":\n",
    "    keep_mask = pd.Series(True, index=org_train.index)\n",
    "\n",
    "# org_train contains the original feature columns from features_org (in Simson)\n",
    "# features_org contains unprocessed features, for me X_train at beginning ???\n",
    "# For keep-all, creates a boolean Series (keep_mask) of all True, so no rows are removed.\n",
    "\n",
    "elif mode == \"drop-non-german\":\n",
    "    keep_mask = org_train[\"maxdeutsch1\"] == 1 # ??? what about missing values?\n",
    "\n",
    "else:\n",
    "    raise ValueError(f\"Unsupported mode for exclude_subgroups: {mode}\")\n"
   ]
  },
  {
   "cell_type": "code",
   "execution_count": 38,
   "id": "71651440",
   "metadata": {
    "execution": {
     "iopub.execute_input": "2025-07-30T20:53:26.468290Z",
     "iopub.status.busy": "2025-07-30T20:53:26.467864Z",
     "iopub.status.idle": "2025-07-30T20:53:26.474822Z",
     "shell.execute_reply": "2025-07-30T20:53:26.473912Z"
    },
    "papermill": {
     "duration": 0.056157,
     "end_time": "2025-07-30T20:53:26.476954",
     "exception": false,
     "start_time": "2025-07-30T20:53:26.420797",
     "status": "completed"
    },
    "tags": []
   },
   "outputs": [
    {
     "name": "stdout",
     "output_type": "stream",
     "text": [
      "Dropping 741 rows (14.82%) where mode='drop-non-german'\n"
     ]
    }
   ],
   "source": [
    "n_drop = (~keep_mask).sum() # Calculates how many rows are set to be dropped\n",
    "if n_drop > 0:\n",
    "    pct = n_drop / len(keep_mask) * 100\n",
    "    print(f\"Dropping {n_drop} rows ({pct:.2f}%) where mode='{mode}'\")"
   ]
  },
  {
   "cell_type": "code",
   "execution_count": 39,
   "id": "5fb8eee5",
   "metadata": {
    "execution": {
     "iopub.execute_input": "2025-07-30T20:53:26.533633Z",
     "iopub.status.busy": "2025-07-30T20:53:26.533242Z",
     "iopub.status.idle": "2025-07-30T20:53:26.541425Z",
     "shell.execute_reply": "2025-07-30T20:53:26.539801Z"
    },
    "papermill": {
     "duration": 0.04285,
     "end_time": "2025-07-30T20:53:26.550646",
     "exception": false,
     "start_time": "2025-07-30T20:53:26.507796",
     "status": "completed"
    },
    "tags": []
   },
   "outputs": [],
   "source": [
    "X_train = X_train[keep_mask]"
   ]
  },
  {
   "cell_type": "code",
   "execution_count": 40,
   "id": "b202bb3a",
   "metadata": {
    "execution": {
     "iopub.execute_input": "2025-07-30T20:53:26.625795Z",
     "iopub.status.busy": "2025-07-30T20:53:26.625377Z",
     "iopub.status.idle": "2025-07-30T20:53:26.631709Z",
     "shell.execute_reply": "2025-07-30T20:53:26.630738Z"
    },
    "papermill": {
     "duration": 0.033491,
     "end_time": "2025-07-30T20:53:26.634806",
     "exception": false,
     "start_time": "2025-07-30T20:53:26.601315",
     "status": "completed"
    },
    "tags": []
   },
   "outputs": [],
   "source": [
    "y_train = y_train[keep_mask]"
   ]
  },
  {
   "cell_type": "markdown",
   "id": "493e2ac3",
   "metadata": {
    "papermill": {
     "duration": 0.024506,
     "end_time": "2025-07-30T20:53:26.685754",
     "exception": false,
     "start_time": "2025-07-30T20:53:26.661248",
     "status": "completed"
    },
    "tags": []
   },
   "source": [
    "# Model Training"
   ]
  },
  {
   "cell_type": "code",
   "execution_count": 41,
   "id": "679e1268",
   "metadata": {
    "execution": {
     "iopub.execute_input": "2025-07-30T20:53:26.734696Z",
     "iopub.status.busy": "2025-07-30T20:53:26.734269Z",
     "iopub.status.idle": "2025-07-30T20:53:26.898224Z",
     "shell.execute_reply": "2025-07-30T20:53:26.897037Z"
    },
    "papermill": {
     "duration": 0.195624,
     "end_time": "2025-07-30T20:53:26.904921",
     "exception": false,
     "start_time": "2025-07-30T20:53:26.709297",
     "status": "completed"
    },
    "tags": []
   },
   "outputs": [],
   "source": [
    "from sklearn.linear_model import LogisticRegression\n",
    "from sklearn.ensemble import GradientBoostingClassifier, RandomForestClassifier\n",
    "\n",
    "if (universe[\"model\"] == \"logreg\"):\n",
    "    model = LogisticRegression() #penalty=\"none\") #, solver=\"newton-cg\", max_iter=1) # include random_state=19 ?\n",
    "elif (universe[\"model\"] == \"penalized_logreg\"):\n",
    "    model = LogisticRegression(penalty=\"l2\", C=1.0) #, solver=\"newton-cg\", max_iter=1)\n",
    "elif (universe[\"model\"] == \"rf\"):\n",
    "    model = RandomForestClassifier(n_estimators=100, n_jobs=-1)\n",
    "elif (universe[\"model\"] == \"gbm\"):\n",
    "    model = GradientBoostingClassifier()\n",
    "elif (universe[\"model\"] == \"elasticnet\"):\n",
    "    model = LogisticRegression(penalty = 'elasticnet', solver = 'saga', l1_ratio = 0.5, max_iter=5000) # which solver to use?\n",
    "else:\n",
    "    raise \"Unsupported universe.model\""
   ]
  },
  {
   "cell_type": "code",
   "execution_count": 42,
   "id": "0cc8f744",
   "metadata": {
    "execution": {
     "iopub.execute_input": "2025-07-30T20:53:26.997878Z",
     "iopub.status.busy": "2025-07-30T20:53:26.997480Z",
     "iopub.status.idle": "2025-07-30T20:53:27.003743Z",
     "shell.execute_reply": "2025-07-30T20:53:27.002739Z"
    },
    "papermill": {
     "duration": 0.078707,
     "end_time": "2025-07-30T20:53:27.006778",
     "exception": false,
     "start_time": "2025-07-30T20:53:26.928071",
     "status": "completed"
    },
    "tags": []
   },
   "outputs": [],
   "source": [
    "import numpy as np\n",
    "from sklearn.pipeline import Pipeline\n",
    "from sklearn.preprocessing import StandardScaler\n",
    "\n",
    "model = Pipeline([\n",
    "    #(\"continuous_processor\", continuous_processor),\n",
    "    #(\"categorical_preprocessor\", categorical_preprocessor),\n",
    "    (\"scale\", StandardScaler() if universe[\"scale\"] == \"scale\" else None), \n",
    "    (\"model\", model),\n",
    "])"
   ]
  },
  {
   "cell_type": "code",
   "execution_count": 43,
   "id": "9442c04d",
   "metadata": {
    "execution": {
     "iopub.execute_input": "2025-07-30T20:53:27.070866Z",
     "iopub.status.busy": "2025-07-30T20:53:27.070467Z",
     "iopub.status.idle": "2025-07-30T20:53:28.141279Z",
     "shell.execute_reply": "2025-07-30T20:53:28.140111Z"
    },
    "papermill": {
     "duration": 1.100941,
     "end_time": "2025-07-30T20:53:28.143173",
     "exception": false,
     "start_time": "2025-07-30T20:53:27.042232",
     "status": "completed"
    },
    "tags": []
   },
   "outputs": [
    {
     "data": {
      "text/html": [
       "<style>#sk-container-id-1 {color: black;background-color: white;}#sk-container-id-1 pre{padding: 0;}#sk-container-id-1 div.sk-toggleable {background-color: white;}#sk-container-id-1 label.sk-toggleable__label {cursor: pointer;display: block;width: 100%;margin-bottom: 0;padding: 0.3em;box-sizing: border-box;text-align: center;}#sk-container-id-1 label.sk-toggleable__label-arrow:before {content: \"▸\";float: left;margin-right: 0.25em;color: #696969;}#sk-container-id-1 label.sk-toggleable__label-arrow:hover:before {color: black;}#sk-container-id-1 div.sk-estimator:hover label.sk-toggleable__label-arrow:before {color: black;}#sk-container-id-1 div.sk-toggleable__content {max-height: 0;max-width: 0;overflow: hidden;text-align: left;background-color: #f0f8ff;}#sk-container-id-1 div.sk-toggleable__content pre {margin: 0.2em;color: black;border-radius: 0.25em;background-color: #f0f8ff;}#sk-container-id-1 input.sk-toggleable__control:checked~div.sk-toggleable__content {max-height: 200px;max-width: 100%;overflow: auto;}#sk-container-id-1 input.sk-toggleable__control:checked~label.sk-toggleable__label-arrow:before {content: \"▾\";}#sk-container-id-1 div.sk-estimator input.sk-toggleable__control:checked~label.sk-toggleable__label {background-color: #d4ebff;}#sk-container-id-1 div.sk-label input.sk-toggleable__control:checked~label.sk-toggleable__label {background-color: #d4ebff;}#sk-container-id-1 input.sk-hidden--visually {border: 0;clip: rect(1px 1px 1px 1px);clip: rect(1px, 1px, 1px, 1px);height: 1px;margin: -1px;overflow: hidden;padding: 0;position: absolute;width: 1px;}#sk-container-id-1 div.sk-estimator {font-family: monospace;background-color: #f0f8ff;border: 1px dotted black;border-radius: 0.25em;box-sizing: border-box;margin-bottom: 0.5em;}#sk-container-id-1 div.sk-estimator:hover {background-color: #d4ebff;}#sk-container-id-1 div.sk-parallel-item::after {content: \"\";width: 100%;border-bottom: 1px solid gray;flex-grow: 1;}#sk-container-id-1 div.sk-label:hover label.sk-toggleable__label {background-color: #d4ebff;}#sk-container-id-1 div.sk-serial::before {content: \"\";position: absolute;border-left: 1px solid gray;box-sizing: border-box;top: 0;bottom: 0;left: 50%;z-index: 0;}#sk-container-id-1 div.sk-serial {display: flex;flex-direction: column;align-items: center;background-color: white;padding-right: 0.2em;padding-left: 0.2em;position: relative;}#sk-container-id-1 div.sk-item {position: relative;z-index: 1;}#sk-container-id-1 div.sk-parallel {display: flex;align-items: stretch;justify-content: center;background-color: white;position: relative;}#sk-container-id-1 div.sk-item::before, #sk-container-id-1 div.sk-parallel-item::before {content: \"\";position: absolute;border-left: 1px solid gray;box-sizing: border-box;top: 0;bottom: 0;left: 50%;z-index: -1;}#sk-container-id-1 div.sk-parallel-item {display: flex;flex-direction: column;z-index: 1;position: relative;background-color: white;}#sk-container-id-1 div.sk-parallel-item:first-child::after {align-self: flex-end;width: 50%;}#sk-container-id-1 div.sk-parallel-item:last-child::after {align-self: flex-start;width: 50%;}#sk-container-id-1 div.sk-parallel-item:only-child::after {width: 0;}#sk-container-id-1 div.sk-dashed-wrapped {border: 1px dashed gray;margin: 0 0.4em 0.5em 0.4em;box-sizing: border-box;padding-bottom: 0.4em;background-color: white;}#sk-container-id-1 div.sk-label label {font-family: monospace;font-weight: bold;display: inline-block;line-height: 1.2em;}#sk-container-id-1 div.sk-label-container {text-align: center;}#sk-container-id-1 div.sk-container {/* jupyter's `normalize.less` sets `[hidden] { display: none; }` but bootstrap.min.css set `[hidden] { display: none !important; }` so we also need the `!important` here to be able to override the default hidden behavior on the sphinx rendered scikit-learn.org. See: https://github.com/scikit-learn/scikit-learn/issues/21755 */display: inline-block !important;position: relative;}#sk-container-id-1 div.sk-text-repr-fallback {display: none;}</style><div id=\"sk-container-id-1\" class=\"sk-top-container\"><div class=\"sk-text-repr-fallback\"><pre>Pipeline(steps=[(&#x27;scale&#x27;, None), (&#x27;model&#x27;, RandomForestClassifier(n_jobs=-1))])</pre><b>In a Jupyter environment, please rerun this cell to show the HTML representation or trust the notebook. <br />On GitHub, the HTML representation is unable to render, please try loading this page with nbviewer.org.</b></div><div class=\"sk-container\" hidden><div class=\"sk-item sk-dashed-wrapped\"><div class=\"sk-label-container\"><div class=\"sk-label sk-toggleable\"><input class=\"sk-toggleable__control sk-hidden--visually\" id=\"sk-estimator-id-1\" type=\"checkbox\" ><label for=\"sk-estimator-id-1\" class=\"sk-toggleable__label sk-toggleable__label-arrow\">Pipeline</label><div class=\"sk-toggleable__content\"><pre>Pipeline(steps=[(&#x27;scale&#x27;, None), (&#x27;model&#x27;, RandomForestClassifier(n_jobs=-1))])</pre></div></div></div><div class=\"sk-serial\"><div class=\"sk-item\"><div class=\"sk-estimator sk-toggleable\"><input class=\"sk-toggleable__control sk-hidden--visually\" id=\"sk-estimator-id-2\" type=\"checkbox\" ><label for=\"sk-estimator-id-2\" class=\"sk-toggleable__label sk-toggleable__label-arrow\">None</label><div class=\"sk-toggleable__content\"><pre>None</pre></div></div></div><div class=\"sk-item\"><div class=\"sk-estimator sk-toggleable\"><input class=\"sk-toggleable__control sk-hidden--visually\" id=\"sk-estimator-id-3\" type=\"checkbox\" ><label for=\"sk-estimator-id-3\" class=\"sk-toggleable__label sk-toggleable__label-arrow\">RandomForestClassifier</label><div class=\"sk-toggleable__content\"><pre>RandomForestClassifier(n_jobs=-1)</pre></div></div></div></div></div></div></div>"
      ],
      "text/plain": [
       "Pipeline(steps=[('scale', None), ('model', RandomForestClassifier(n_jobs=-1))])"
      ]
     },
     "execution_count": 43,
     "metadata": {},
     "output_type": "execute_result"
    }
   ],
   "source": [
    "model.fit(X_train, y_train.values.ravel())"
   ]
  },
  {
   "cell_type": "code",
   "execution_count": 44,
   "id": "af59f8c0",
   "metadata": {
    "execution": {
     "iopub.execute_input": "2025-07-30T20:53:28.255045Z",
     "iopub.status.busy": "2025-07-30T20:53:28.254659Z",
     "iopub.status.idle": "2025-07-30T20:53:28.260238Z",
     "shell.execute_reply": "2025-07-30T20:53:28.259336Z"
    },
    "papermill": {
     "duration": 0.064302,
     "end_time": "2025-07-30T20:53:28.262390",
     "exception": false,
     "start_time": "2025-07-30T20:53:28.198088",
     "status": "completed"
    },
    "tags": []
   },
   "outputs": [],
   "source": [
    "from fairness_multiverse.universe import predict_w_threshold"
   ]
  },
  {
   "cell_type": "code",
   "execution_count": 45,
   "id": "a7cf2e16",
   "metadata": {
    "execution": {
     "iopub.execute_input": "2025-07-30T20:53:28.382834Z",
     "iopub.status.busy": "2025-07-30T20:53:28.382398Z",
     "iopub.status.idle": "2025-07-30T20:53:29.365570Z",
     "shell.execute_reply": "2025-07-30T20:53:29.364901Z"
    },
    "papermill": {
     "duration": 1.041825,
     "end_time": "2025-07-30T20:53:29.366809",
     "exception": false,
     "start_time": "2025-07-30T20:53:28.324984",
     "status": "completed"
    },
    "tags": []
   },
   "outputs": [
    {
     "data": {
      "text/plain": [
       "0.8635715081930665"
      ]
     },
     "execution_count": 45,
     "metadata": {},
     "output_type": "execute_result"
    }
   ],
   "source": [
    "probs_test = model.predict_proba(X_test)\n",
    "\n",
    "'''\n",
    "Below code returns a boolean array (or binary 0/1 array depending on how it’s used) where each element \n",
    "is True if the probability of class 1 is greater than or equal to the threshold, and False otherwise.\n",
    "'''\n",
    "y_pred_default = predict_w_threshold(probs_test, 0.5)\n",
    "\n",
    "from sklearn.metrics import accuracy_score\n",
    "\n",
    "# Naive prediction\n",
    "accuracy_score(y_true = y_true, y_pred = y_pred_default)"
   ]
  },
  {
   "cell_type": "code",
   "execution_count": 46,
   "id": "081964c3",
   "metadata": {
    "execution": {
     "iopub.execute_input": "2025-07-30T20:53:29.396451Z",
     "iopub.status.busy": "2025-07-30T20:53:29.395808Z",
     "iopub.status.idle": "2025-07-30T20:53:30.218149Z",
     "shell.execute_reply": "2025-07-30T20:53:30.217147Z"
    },
    "papermill": {
     "duration": 0.837406,
     "end_time": "2025-07-30T20:53:30.219837",
     "exception": false,
     "start_time": "2025-07-30T20:53:29.382431",
     "status": "completed"
    },
    "tags": []
   },
   "outputs": [
    {
     "data": {
      "text/plain": [
       "array([0, 0, 0, ..., 0, 0, 0])"
      ]
     },
     "execution_count": 46,
     "metadata": {},
     "output_type": "execute_result"
    }
   ],
   "source": [
    "model.predict(X_test)"
   ]
  },
  {
   "cell_type": "markdown",
   "id": "56c9705b",
   "metadata": {
    "papermill": {
     "duration": 0.024304,
     "end_time": "2025-07-30T20:53:30.308513",
     "exception": false,
     "start_time": "2025-07-30T20:53:30.284209",
     "status": "completed"
    },
    "tags": []
   },
   "source": [
    "# Conformal Prediction"
   ]
  },
  {
   "cell_type": "code",
   "execution_count": 47,
   "id": "160ec6ff",
   "metadata": {
    "execution": {
     "iopub.execute_input": "2025-07-30T20:53:30.356966Z",
     "iopub.status.busy": "2025-07-30T20:53:30.356124Z",
     "iopub.status.idle": "2025-07-30T20:53:30.361599Z",
     "shell.execute_reply": "2025-07-30T20:53:30.360610Z"
    },
    "papermill": {
     "duration": 0.031645,
     "end_time": "2025-07-30T20:53:30.363283",
     "exception": false,
     "start_time": "2025-07-30T20:53:30.331638",
     "status": "completed"
    },
    "tags": []
   },
   "outputs": [],
   "source": [
    "# Miscoverage level for conformal prediction (10% allowed error rate => 90% target coverage)\n",
    "alpha = 0.1"
   ]
  },
  {
   "cell_type": "code",
   "execution_count": 48,
   "id": "eadf4555-3dd3-440e-8e35-f82a4ad9f855",
   "metadata": {
    "execution": {
     "iopub.execute_input": "2025-07-30T20:53:30.412197Z",
     "iopub.status.busy": "2025-07-30T20:53:30.411423Z",
     "iopub.status.idle": "2025-07-30T20:53:31.193821Z",
     "shell.execute_reply": "2025-07-30T20:53:31.192635Z"
    },
    "papermill": {
     "duration": 0.807858,
     "end_time": "2025-07-30T20:53:31.195362",
     "exception": false,
     "start_time": "2025-07-30T20:53:30.387504",
     "status": "completed"
    },
    "tags": []
   },
   "outputs": [],
   "source": [
    "probs_calib = model.predict_proba(X_calib)"
   ]
  },
  {
   "cell_type": "code",
   "execution_count": 49,
   "id": "2ed93547-6d5d-4983-9b36-1ecb300da49a",
   "metadata": {
    "execution": {
     "iopub.execute_input": "2025-07-30T20:53:31.249757Z",
     "iopub.status.busy": "2025-07-30T20:53:31.248832Z",
     "iopub.status.idle": "2025-07-30T20:53:31.254565Z",
     "shell.execute_reply": "2025-07-30T20:53:31.253604Z"
    },
    "papermill": {
     "duration": 0.035311,
     "end_time": "2025-07-30T20:53:31.256483",
     "exception": false,
     "start_time": "2025-07-30T20:53:31.221172",
     "status": "completed"
    },
    "tags": []
   },
   "outputs": [],
   "source": [
    "y_calib = y_calib.values.ravel().astype(int)"
   ]
  },
  {
   "cell_type": "code",
   "execution_count": 50,
   "id": "65d1320d-f588-4b38-9072-62af1ae97f7d",
   "metadata": {
    "execution": {
     "iopub.execute_input": "2025-07-30T20:53:31.311001Z",
     "iopub.status.busy": "2025-07-30T20:53:31.310488Z",
     "iopub.status.idle": "2025-07-30T20:53:31.318359Z",
     "shell.execute_reply": "2025-07-30T20:53:31.317143Z"
    },
    "papermill": {
     "duration": 0.036596,
     "end_time": "2025-07-30T20:53:31.320019",
     "exception": false,
     "start_time": "2025-07-30T20:53:31.283423",
     "status": "completed"
    },
    "tags": []
   },
   "outputs": [],
   "source": [
    "from fairness_multiverse.conformal import compute_nc_scores\n",
    "\n",
    "# Compute nonconformity scores on calibration set (1 - probability of true class)\n",
    "nc_scores = compute_nc_scores(probs_calib, y_calib)"
   ]
  },
  {
   "cell_type": "code",
   "execution_count": 51,
   "id": "df3b8ca3-53b7-43d5-9667-7c85da7aeda2",
   "metadata": {
    "execution": {
     "iopub.execute_input": "2025-07-30T20:53:31.375717Z",
     "iopub.status.busy": "2025-07-30T20:53:31.375201Z",
     "iopub.status.idle": "2025-07-30T20:53:31.381891Z",
     "shell.execute_reply": "2025-07-30T20:53:31.380978Z"
    },
    "papermill": {
     "duration": 0.036227,
     "end_time": "2025-07-30T20:53:31.383529",
     "exception": false,
     "start_time": "2025-07-30T20:53:31.347302",
     "status": "completed"
    },
    "tags": []
   },
   "outputs": [],
   "source": [
    "from fairness_multiverse.conformal import find_threshold\n",
    "\n",
    "# Find conformal threshold q_hat for the given alpha (split conformal method)\n",
    "q_hat = find_threshold(nc_scores, alpha)"
   ]
  },
  {
   "cell_type": "code",
   "execution_count": 52,
   "id": "4d29e6c1-0ef6-4aa4-b8fe-4fe79b0d033a",
   "metadata": {
    "execution": {
     "iopub.execute_input": "2025-07-30T20:53:31.441490Z",
     "iopub.status.busy": "2025-07-30T20:53:31.440677Z",
     "iopub.status.idle": "2025-07-30T20:53:31.448416Z",
     "shell.execute_reply": "2025-07-30T20:53:31.447312Z"
    },
    "papermill": {
     "duration": 0.038511,
     "end_time": "2025-07-30T20:53:31.449959",
     "exception": false,
     "start_time": "2025-07-30T20:53:31.411448",
     "status": "completed"
    },
    "tags": []
   },
   "outputs": [
    {
     "data": {
      "text/plain": [
       "0.6599999999999999"
      ]
     },
     "execution_count": 52,
     "metadata": {},
     "output_type": "execute_result"
    }
   ],
   "source": [
    "q_hat"
   ]
  },
  {
   "cell_type": "code",
   "execution_count": 53,
   "id": "92460794-cdac-4be2-ba28-f28c0515a6fb",
   "metadata": {
    "execution": {
     "iopub.execute_input": "2025-07-30T20:53:31.507977Z",
     "iopub.status.busy": "2025-07-30T20:53:31.507512Z",
     "iopub.status.idle": "2025-07-30T20:53:33.102547Z",
     "shell.execute_reply": "2025-07-30T20:53:33.101792Z"
    },
    "papermill": {
     "duration": 1.626018,
     "end_time": "2025-07-30T20:53:33.103963",
     "exception": false,
     "start_time": "2025-07-30T20:53:31.477945",
     "status": "completed"
    },
    "tags": []
   },
   "outputs": [],
   "source": [
    "from fairness_multiverse.conformal import predict_conformal_sets\n",
    "\n",
    "# Generate prediction sets for each test example\n",
    "pred_sets = predict_conformal_sets(model, X_test, q_hat)"
   ]
  },
  {
   "cell_type": "code",
   "execution_count": 54,
   "id": "d90c9a65-e6db-4f5d-80cd-e68fb7e46829",
   "metadata": {
    "execution": {
     "iopub.execute_input": "2025-07-30T20:53:33.148815Z",
     "iopub.status.busy": "2025-07-30T20:53:33.148345Z",
     "iopub.status.idle": "2025-07-30T20:53:33.153697Z",
     "shell.execute_reply": "2025-07-30T20:53:33.152762Z"
    },
    "papermill": {
     "duration": 0.029901,
     "end_time": "2025-07-30T20:53:33.155217",
     "exception": false,
     "start_time": "2025-07-30T20:53:33.125316",
     "status": "completed"
    },
    "tags": []
   },
   "outputs": [],
   "source": [
    "y_true = y_true.squeeze()"
   ]
  },
  {
   "cell_type": "code",
   "execution_count": 55,
   "id": "3a58a54a-1e68-46b9-927a-df01f18aebc8",
   "metadata": {
    "execution": {
     "iopub.execute_input": "2025-07-30T20:53:33.206632Z",
     "iopub.status.busy": "2025-07-30T20:53:33.206368Z",
     "iopub.status.idle": "2025-07-30T20:53:34.086057Z",
     "shell.execute_reply": "2025-07-30T20:53:34.085044Z"
    },
    "papermill": {
     "duration": 0.90529,
     "end_time": "2025-07-30T20:53:34.087988",
     "exception": false,
     "start_time": "2025-07-30T20:53:33.182698",
     "status": "completed"
    },
    "tags": []
   },
   "outputs": [],
   "source": [
    "from fairness_multiverse.conformal import evaluate_sets\n",
    "\n",
    "# Evaluate coverage and average set size on test data\n",
    "metrics = evaluate_sets(pred_sets, y_true)"
   ]
  },
  {
   "cell_type": "markdown",
   "id": "2b569c12-9aaa-4c88-98c9-bbcd0cf3ebb8",
   "metadata": {
    "papermill": {
     "duration": 0.023066,
     "end_time": "2025-07-30T20:53:34.137134",
     "exception": false,
     "start_time": "2025-07-30T20:53:34.114068",
     "status": "completed"
    },
    "tags": []
   },
   "source": [
    "# CP Metrics"
   ]
  },
  {
   "cell_type": "code",
   "execution_count": 56,
   "id": "5ce0a5cb-201f-45a0-ade5-94c7f0bd6095",
   "metadata": {
    "execution": {
     "iopub.execute_input": "2025-07-30T20:53:34.187654Z",
     "iopub.status.busy": "2025-07-30T20:53:34.186949Z",
     "iopub.status.idle": "2025-07-30T20:53:34.194792Z",
     "shell.execute_reply": "2025-07-30T20:53:34.193789Z"
    },
    "papermill": {
     "duration": 0.034251,
     "end_time": "2025-07-30T20:53:34.196312",
     "exception": false,
     "start_time": "2025-07-30T20:53:34.162061",
     "status": "completed"
    },
    "tags": []
   },
   "outputs": [
    {
     "data": {
      "text/plain": [
       "{'coverage': 0.9103444432058856, 'avg_size': 1.1371641957418348}"
      ]
     },
     "execution_count": 56,
     "metadata": {},
     "output_type": "execute_result"
    }
   ],
   "source": [
    "metrics"
   ]
  },
  {
   "cell_type": "code",
   "execution_count": 57,
   "id": "9b9a838d-31c9-430b-ae14-12baee460d17",
   "metadata": {
    "execution": {
     "iopub.execute_input": "2025-07-30T20:53:34.249827Z",
     "iopub.status.busy": "2025-07-30T20:53:34.249152Z",
     "iopub.status.idle": "2025-07-30T20:53:34.256494Z",
     "shell.execute_reply": "2025-07-30T20:53:34.255408Z"
    },
    "papermill": {
     "duration": 0.03449,
     "end_time": "2025-07-30T20:53:34.258072",
     "exception": false,
     "start_time": "2025-07-30T20:53:34.223582",
     "status": "completed"
    },
    "tags": []
   },
   "outputs": [],
   "source": [
    "example_universe = universe.copy()\n",
    "universe_training_year = example_universe.get(\"training_year\")\n",
    "universe_training_size = example_universe.get(\"training_size\")\n",
    "universe_scale = example_universe.get(\"scale\")\n",
    "universe_model = example_universe.get(\"model\")\n",
    "universe_exclude_features = example_universe.get(\"exclude_features\")\n",
    "universe_exclude_subgroups = example_universe.get(\"exclude_subgroups\")"
   ]
  },
  {
   "cell_type": "code",
   "execution_count": 58,
   "id": "f4b6a8ac-9dc0-4245-8a91-5b3b5999c4f9",
   "metadata": {
    "execution": {
     "iopub.execute_input": "2025-07-30T20:53:34.310393Z",
     "iopub.status.busy": "2025-07-30T20:53:34.309556Z",
     "iopub.status.idle": "2025-07-30T20:53:34.316430Z",
     "shell.execute_reply": "2025-07-30T20:53:34.315374Z"
    },
    "papermill": {
     "duration": 0.034955,
     "end_time": "2025-07-30T20:53:34.318295",
     "exception": false,
     "start_time": "2025-07-30T20:53:34.283340",
     "status": "completed"
    },
    "tags": []
   },
   "outputs": [],
   "source": [
    "cp_metrics_dict = {\n",
    "    \"universe_id\": [universe_id],\n",
    "    \"universe_training_year\": [universe_training_year],\n",
    "    \"universe_training_size\": [universe_training_size],\n",
    "    \"universe_scale\": [universe_scale],\n",
    "    \"universe_model\": [universe_model],\n",
    "    \"universe_exclude_features\": [universe_exclude_features],\n",
    "    \"universe_exclude_subgroups\": [universe_exclude_subgroups],\n",
    "    \"q_hat\": [q_hat],\n",
    "    \"coverage\": [metrics[\"coverage\"]],\n",
    "    \"avg_size\": [metrics[\"avg_size\"]],\n",
    "}"
   ]
  },
  {
   "cell_type": "code",
   "execution_count": 59,
   "id": "908acbb1-0371-4915-85ca-3fa520d2efe2",
   "metadata": {
    "execution": {
     "iopub.execute_input": "2025-07-30T20:53:34.379183Z",
     "iopub.status.busy": "2025-07-30T20:53:34.378496Z",
     "iopub.status.idle": "2025-07-30T20:53:34.386794Z",
     "shell.execute_reply": "2025-07-30T20:53:34.385820Z"
    },
    "papermill": {
     "duration": 0.040642,
     "end_time": "2025-07-30T20:53:34.388530",
     "exception": false,
     "start_time": "2025-07-30T20:53:34.347888",
     "status": "completed"
    },
    "tags": []
   },
   "outputs": [
    {
     "data": {
      "text/plain": [
       "{'universe_id': ['9286b7b192415fda9384e2894511f027'],\n",
       " 'universe_training_year': ['2014'],\n",
       " 'universe_training_size': ['5k'],\n",
       " 'universe_scale': ['do-not-scale'],\n",
       " 'universe_model': ['rf'],\n",
       " 'universe_exclude_features': ['age'],\n",
       " 'universe_exclude_subgroups': ['drop-non-german'],\n",
       " 'q_hat': [0.6599999999999999],\n",
       " 'coverage': [0.9103444432058856],\n",
       " 'avg_size': [1.1371641957418348]}"
      ]
     },
     "execution_count": 59,
     "metadata": {},
     "output_type": "execute_result"
    }
   ],
   "source": [
    "cp_metrics_dict"
   ]
  },
  {
   "cell_type": "code",
   "execution_count": 60,
   "id": "33007efc-14e9-4ec6-97ac-56a455c82265",
   "metadata": {
    "execution": {
     "iopub.execute_input": "2025-07-30T20:53:34.449610Z",
     "iopub.status.busy": "2025-07-30T20:53:34.448943Z",
     "iopub.status.idle": "2025-07-30T20:53:34.456404Z",
     "shell.execute_reply": "2025-07-30T20:53:34.455349Z"
    },
    "papermill": {
     "duration": 0.040033,
     "end_time": "2025-07-30T20:53:34.458424",
     "exception": false,
     "start_time": "2025-07-30T20:53:34.418391",
     "status": "completed"
    },
    "tags": []
   },
   "outputs": [],
   "source": [
    "cp_metrics_df = pd.DataFrame(cp_metrics_dict)"
   ]
  },
  {
   "cell_type": "code",
   "execution_count": 61,
   "id": "db12611b-57b2-4910-b9d0-355adfd6e7bf",
   "metadata": {
    "execution": {
     "iopub.execute_input": "2025-07-30T20:53:34.509767Z",
     "iopub.status.busy": "2025-07-30T20:53:34.509026Z",
     "iopub.status.idle": "2025-07-30T20:53:34.530957Z",
     "shell.execute_reply": "2025-07-30T20:53:34.529879Z"
    },
    "papermill": {
     "duration": 0.049401,
     "end_time": "2025-07-30T20:53:34.532631",
     "exception": false,
     "start_time": "2025-07-30T20:53:34.483230",
     "status": "completed"
    },
    "tags": []
   },
   "outputs": [
    {
     "data": {
      "text/html": [
       "<div>\n",
       "<style scoped>\n",
       "    .dataframe tbody tr th:only-of-type {\n",
       "        vertical-align: middle;\n",
       "    }\n",
       "\n",
       "    .dataframe tbody tr th {\n",
       "        vertical-align: top;\n",
       "    }\n",
       "\n",
       "    .dataframe thead th {\n",
       "        text-align: right;\n",
       "    }\n",
       "</style>\n",
       "<table border=\"1\" class=\"dataframe\">\n",
       "  <thead>\n",
       "    <tr style=\"text-align: right;\">\n",
       "      <th></th>\n",
       "      <th>universe_id</th>\n",
       "      <th>universe_training_year</th>\n",
       "      <th>universe_training_size</th>\n",
       "      <th>universe_scale</th>\n",
       "      <th>universe_model</th>\n",
       "      <th>universe_exclude_features</th>\n",
       "      <th>universe_exclude_subgroups</th>\n",
       "      <th>q_hat</th>\n",
       "      <th>coverage</th>\n",
       "      <th>avg_size</th>\n",
       "    </tr>\n",
       "  </thead>\n",
       "  <tbody>\n",
       "    <tr>\n",
       "      <th>0</th>\n",
       "      <td>9286b7b192415fda9384e2894511f027</td>\n",
       "      <td>2014</td>\n",
       "      <td>5k</td>\n",
       "      <td>do-not-scale</td>\n",
       "      <td>rf</td>\n",
       "      <td>age</td>\n",
       "      <td>drop-non-german</td>\n",
       "      <td>0.66</td>\n",
       "      <td>0.910344</td>\n",
       "      <td>1.137164</td>\n",
       "    </tr>\n",
       "  </tbody>\n",
       "</table>\n",
       "</div>"
      ],
      "text/plain": [
       "                        universe_id universe_training_year  \\\n",
       "0  9286b7b192415fda9384e2894511f027                   2014   \n",
       "\n",
       "  universe_training_size universe_scale universe_model  \\\n",
       "0                     5k   do-not-scale             rf   \n",
       "\n",
       "  universe_exclude_features universe_exclude_subgroups  q_hat  coverage  \\\n",
       "0                       age            drop-non-german   0.66  0.910344   \n",
       "\n",
       "   avg_size  \n",
       "0  1.137164  "
      ]
     },
     "execution_count": 61,
     "metadata": {},
     "output_type": "execute_result"
    }
   ],
   "source": [
    "cp_metrics_df"
   ]
  },
  {
   "cell_type": "code",
   "execution_count": 62,
   "id": "b7fbde55-a0a1-47e4-9af6-fe4a17fa8c61",
   "metadata": {
    "execution": {
     "iopub.execute_input": "2025-07-30T20:53:34.587415Z",
     "iopub.status.busy": "2025-07-30T20:53:34.586537Z",
     "iopub.status.idle": "2025-07-30T20:53:34.591838Z",
     "shell.execute_reply": "2025-07-30T20:53:34.590852Z"
    },
    "papermill": {
     "duration": 0.03342,
     "end_time": "2025-07-30T20:53:34.593599",
     "exception": false,
     "start_time": "2025-07-30T20:53:34.560179",
     "status": "completed"
    },
    "tags": []
   },
   "outputs": [],
   "source": [
    "# Conditional Coverage & looking at subgroups"
   ]
  },
  {
   "cell_type": "code",
   "execution_count": 63,
   "id": "027ae886-68dd-4141-96c7-805a5450e1ef",
   "metadata": {
    "execution": {
     "iopub.execute_input": "2025-07-30T20:53:34.654592Z",
     "iopub.status.busy": "2025-07-30T20:53:34.653854Z",
     "iopub.status.idle": "2025-07-30T20:53:34.889045Z",
     "shell.execute_reply": "2025-07-30T20:53:34.888302Z"
    },
    "papermill": {
     "duration": 0.267538,
     "end_time": "2025-07-30T20:53:34.890769",
     "exception": false,
     "start_time": "2025-07-30T20:53:34.623231",
     "status": "completed"
    },
    "tags": []
   },
   "outputs": [],
   "source": [
    "from fairness_multiverse.conformal import build_cp_groups\n",
    "\n",
    "cp_groups_df = build_cp_groups(pred_sets, y_true, X_test.index, org_test)\n",
    "#needs universe_id and setting"
   ]
  },
  {
   "cell_type": "code",
   "execution_count": 64,
   "id": "01d5802c-663a-4d1f-9d69-e036faaffbf7",
   "metadata": {
    "execution": {
     "iopub.execute_input": "2025-07-30T20:53:34.947434Z",
     "iopub.status.busy": "2025-07-30T20:53:34.947013Z",
     "iopub.status.idle": "2025-07-30T20:53:34.951692Z",
     "shell.execute_reply": "2025-07-30T20:53:34.950986Z"
    },
    "papermill": {
     "duration": 0.031489,
     "end_time": "2025-07-30T20:53:34.953093",
     "exception": false,
     "start_time": "2025-07-30T20:53:34.921604",
     "status": "completed"
    },
    "tags": []
   },
   "outputs": [],
   "source": [
    "#delete\n",
    "#cp_groups_df"
   ]
  },
  {
   "cell_type": "code",
   "execution_count": 65,
   "id": "fa424af1-d1eb-443d-b717-2d279ada8408",
   "metadata": {
    "execution": {
     "iopub.execute_input": "2025-07-30T20:53:34.981283Z",
     "iopub.status.busy": "2025-07-30T20:53:34.980957Z",
     "iopub.status.idle": "2025-07-30T20:53:34.995035Z",
     "shell.execute_reply": "2025-07-30T20:53:34.994366Z"
    },
    "papermill": {
     "duration": 0.029969,
     "end_time": "2025-07-30T20:53:34.996394",
     "exception": false,
     "start_time": "2025-07-30T20:53:34.966425",
     "status": "completed"
    },
    "tags": []
   },
   "outputs": [],
   "source": [
    "#delete\n",
    "#percentage = (cp_groups_df['nongerman_female'] == 1).mean() * 100\n",
    "#print(percentage)\n"
   ]
  },
  {
   "cell_type": "code",
   "execution_count": 66,
   "id": "6cbdab96-b2b2-45af-ad54-d0516db2e28d",
   "metadata": {
    "execution": {
     "iopub.execute_input": "2025-07-30T20:53:35.028653Z",
     "iopub.status.busy": "2025-07-30T20:53:35.028329Z",
     "iopub.status.idle": "2025-07-30T20:53:36.582152Z",
     "shell.execute_reply": "2025-07-30T20:53:36.581140Z"
    },
    "papermill": {
     "duration": 1.572184,
     "end_time": "2025-07-30T20:53:36.584073",
     "exception": false,
     "start_time": "2025-07-30T20:53:35.011889",
     "status": "completed"
    },
    "tags": []
   },
   "outputs": [],
   "source": [
    "# Define covered = 1 if true_label is in the predicted set\n",
    "cp_groups_df['covered'] = cp_groups_df.apply(\n",
    "    lambda r: int(r['true_label'] in r['pred_set']),\n",
    "    axis=1\n",
    ")"
   ]
  },
  {
   "cell_type": "code",
   "execution_count": 67,
   "id": "338ff529-1a6b-4b87-a931-8e4788d52aad",
   "metadata": {
    "execution": {
     "iopub.execute_input": "2025-07-30T20:53:36.635228Z",
     "iopub.status.busy": "2025-07-30T20:53:36.634861Z",
     "iopub.status.idle": "2025-07-30T20:53:36.639204Z",
     "shell.execute_reply": "2025-07-30T20:53:36.638318Z"
    },
    "papermill": {
     "duration": 0.031171,
     "end_time": "2025-07-30T20:53:36.640714",
     "exception": false,
     "start_time": "2025-07-30T20:53:36.609543",
     "status": "completed"
    },
    "tags": []
   },
   "outputs": [],
   "source": [
    "#cp_groups_df"
   ]
  },
  {
   "cell_type": "code",
   "execution_count": 68,
   "id": "90032e27-66df-4540-9169-4e89cfbaa758",
   "metadata": {
    "execution": {
     "iopub.execute_input": "2025-07-30T20:53:36.696021Z",
     "iopub.status.busy": "2025-07-30T20:53:36.695356Z",
     "iopub.status.idle": "2025-07-30T20:53:36.704951Z",
     "shell.execute_reply": "2025-07-30T20:53:36.704289Z"
    },
    "papermill": {
     "duration": 0.038534,
     "end_time": "2025-07-30T20:53:36.706127",
     "exception": false,
     "start_time": "2025-07-30T20:53:36.667593",
     "status": "completed"
    },
    "tags": []
   },
   "outputs": [],
   "source": [
    "subgroups = ['frau1','nongerman','nongerman_male','nongerman_female']\n",
    "\n",
    "# Conditional coverage for subgroup==1\n",
    "cond_coverage = {\n",
    "    g: cp_groups_df.loc[cp_groups_df[g]==1, 'covered'].mean()\n",
    "    for g in subgroups\n",
    "}"
   ]
  },
  {
   "cell_type": "code",
   "execution_count": 69,
   "id": "1e348fb1-b9c3-45bc-ba23-f016827a7e0d",
   "metadata": {
    "execution": {
     "iopub.execute_input": "2025-07-30T20:53:36.734858Z",
     "iopub.status.busy": "2025-07-30T20:53:36.734207Z",
     "iopub.status.idle": "2025-07-30T20:53:36.740666Z",
     "shell.execute_reply": "2025-07-30T20:53:36.739864Z"
    },
    "papermill": {
     "duration": 0.021637,
     "end_time": "2025-07-30T20:53:36.741941",
     "exception": false,
     "start_time": "2025-07-30T20:53:36.720304",
     "status": "completed"
    },
    "tags": []
   },
   "outputs": [
    {
     "data": {
      "text/plain": [
       "{'frau1': 0.9114166329694029,\n",
       " 'nongerman': 0.8963678212541403,\n",
       " 'nongerman_male': 0.902909123660272,\n",
       " 'nongerman_female': 0.8855439642324888}"
      ]
     },
     "execution_count": 69,
     "metadata": {},
     "output_type": "execute_result"
    }
   ],
   "source": [
    "cond_coverage"
   ]
  },
  {
   "cell_type": "code",
   "execution_count": 70,
   "id": "f5093324-c3dd-4d63-bc4c-8d945e5c8bbb",
   "metadata": {
    "execution": {
     "iopub.execute_input": "2025-07-30T20:53:36.781422Z",
     "iopub.status.busy": "2025-07-30T20:53:36.780813Z",
     "iopub.status.idle": "2025-07-30T20:53:36.789161Z",
     "shell.execute_reply": "2025-07-30T20:53:36.788286Z"
    },
    "papermill": {
     "duration": 0.034385,
     "end_time": "2025-07-30T20:53:36.790807",
     "exception": false,
     "start_time": "2025-07-30T20:53:36.756422",
     "status": "completed"
    },
    "tags": []
   },
   "outputs": [],
   "source": [
    "for subgroup, cov in cond_coverage.items():\n",
    "    cp_metrics_df[f\"cov_{subgroup}\"] = cov"
   ]
  },
  {
   "cell_type": "code",
   "execution_count": 71,
   "id": "6e872e10-dbe5-49e8-b554-5030c98ff75d",
   "metadata": {
    "execution": {
     "iopub.execute_input": "2025-07-30T20:53:36.843622Z",
     "iopub.status.busy": "2025-07-30T20:53:36.842792Z",
     "iopub.status.idle": "2025-07-30T20:53:36.862070Z",
     "shell.execute_reply": "2025-07-30T20:53:36.861140Z"
    },
    "papermill": {
     "duration": 0.051848,
     "end_time": "2025-07-30T20:53:36.866080",
     "exception": false,
     "start_time": "2025-07-30T20:53:36.814232",
     "status": "completed"
    },
    "tags": []
   },
   "outputs": [
    {
     "data": {
      "text/html": [
       "<div>\n",
       "<style scoped>\n",
       "    .dataframe tbody tr th:only-of-type {\n",
       "        vertical-align: middle;\n",
       "    }\n",
       "\n",
       "    .dataframe tbody tr th {\n",
       "        vertical-align: top;\n",
       "    }\n",
       "\n",
       "    .dataframe thead th {\n",
       "        text-align: right;\n",
       "    }\n",
       "</style>\n",
       "<table border=\"1\" class=\"dataframe\">\n",
       "  <thead>\n",
       "    <tr style=\"text-align: right;\">\n",
       "      <th></th>\n",
       "      <th>universe_id</th>\n",
       "      <th>universe_training_year</th>\n",
       "      <th>universe_training_size</th>\n",
       "      <th>universe_scale</th>\n",
       "      <th>universe_model</th>\n",
       "      <th>universe_exclude_features</th>\n",
       "      <th>universe_exclude_subgroups</th>\n",
       "      <th>q_hat</th>\n",
       "      <th>coverage</th>\n",
       "      <th>avg_size</th>\n",
       "      <th>cov_frau1</th>\n",
       "      <th>cov_nongerman</th>\n",
       "      <th>cov_nongerman_male</th>\n",
       "      <th>cov_nongerman_female</th>\n",
       "    </tr>\n",
       "  </thead>\n",
       "  <tbody>\n",
       "    <tr>\n",
       "      <th>0</th>\n",
       "      <td>9286b7b192415fda9384e2894511f027</td>\n",
       "      <td>2014</td>\n",
       "      <td>5k</td>\n",
       "      <td>do-not-scale</td>\n",
       "      <td>rf</td>\n",
       "      <td>age</td>\n",
       "      <td>drop-non-german</td>\n",
       "      <td>0.66</td>\n",
       "      <td>0.910344</td>\n",
       "      <td>1.137164</td>\n",
       "      <td>0.911417</td>\n",
       "      <td>0.896368</td>\n",
       "      <td>0.902909</td>\n",
       "      <td>0.885544</td>\n",
       "    </tr>\n",
       "  </tbody>\n",
       "</table>\n",
       "</div>"
      ],
      "text/plain": [
       "                        universe_id universe_training_year  \\\n",
       "0  9286b7b192415fda9384e2894511f027                   2014   \n",
       "\n",
       "  universe_training_size universe_scale universe_model  \\\n",
       "0                     5k   do-not-scale             rf   \n",
       "\n",
       "  universe_exclude_features universe_exclude_subgroups  q_hat  coverage  \\\n",
       "0                       age            drop-non-german   0.66  0.910344   \n",
       "\n",
       "   avg_size  cov_frau1  cov_nongerman  cov_nongerman_male  \\\n",
       "0  1.137164   0.911417       0.896368            0.902909   \n",
       "\n",
       "   cov_nongerman_female  \n",
       "0              0.885544  "
      ]
     },
     "execution_count": 71,
     "metadata": {},
     "output_type": "execute_result"
    }
   ],
   "source": [
    "cp_metrics_df"
   ]
  },
  {
   "cell_type": "markdown",
   "id": "33774451",
   "metadata": {
    "papermill": {
     "duration": 0.014021,
     "end_time": "2025-07-30T20:53:36.901480",
     "exception": false,
     "start_time": "2025-07-30T20:53:36.887459",
     "status": "completed"
    },
    "tags": []
   },
   "source": [
    "# (Fairness) Metrics"
   ]
  },
  {
   "cell_type": "code",
   "execution_count": 72,
   "id": "debc5d62",
   "metadata": {
    "execution": {
     "iopub.execute_input": "2025-07-30T20:53:36.929879Z",
     "iopub.status.busy": "2025-07-30T20:53:36.929528Z",
     "iopub.status.idle": "2025-07-30T20:53:36.949680Z",
     "shell.execute_reply": "2025-07-30T20:53:36.948937Z"
    },
    "papermill": {
     "duration": 0.036174,
     "end_time": "2025-07-30T20:53:36.951079",
     "exception": false,
     "start_time": "2025-07-30T20:53:36.914905",
     "status": "completed"
    },
    "tags": []
   },
   "outputs": [],
   "source": [
    "# do I need to include maxdeutsch1.missing?\n",
    "\n",
    "import numpy as np\n",
    "\n",
    "colname_to_bin = \"maxdeutsch1\"\n",
    "majority_value = org_train[colname_to_bin].mode()[0]\n",
    "\n",
    "org_test[\"majmin\"] = np.where(org_test[colname_to_bin] == majority_value, \"majority\", \"minority\")"
   ]
  },
  {
   "cell_type": "code",
   "execution_count": 73,
   "id": "06a50de5",
   "metadata": {
    "execution": {
     "iopub.execute_input": "2025-07-30T20:53:36.981667Z",
     "iopub.status.busy": "2025-07-30T20:53:36.981215Z",
     "iopub.status.idle": "2025-07-30T20:53:39.634992Z",
     "shell.execute_reply": "2025-07-30T20:53:39.633973Z"
    },
    "papermill": {
     "duration": 2.671157,
     "end_time": "2025-07-30T20:53:39.637018",
     "exception": false,
     "start_time": "2025-07-30T20:53:36.965861",
     "status": "completed"
    },
    "tags": []
   },
   "outputs": [],
   "source": [
    "example_universe = universe.copy()\n",
    "example_universe[\"cutoff\"] = example_universe[\"cutoff\"][0]\n",
    "example_universe[\"eval_fairness_grouping\"] = example_universe[\"eval_fairness_grouping\"][0]\n",
    "fairness_dict, metric_frame = universe_analysis.compute_metrics(\n",
    "    example_universe,\n",
    "    y_pred_prob=probs_test,\n",
    "    y_test=y_true,\n",
    "    org_test=org_test,\n",
    ")"
   ]
  },
  {
   "cell_type": "markdown",
   "id": "f95d4e02",
   "metadata": {
    "papermill": {
     "duration": 0.026379,
     "end_time": "2025-07-30T20:53:39.690405",
     "exception": false,
     "start_time": "2025-07-30T20:53:39.664026",
     "status": "completed"
    },
    "tags": []
   },
   "source": [
    "# Overall"
   ]
  },
  {
   "cell_type": "markdown",
   "id": "bdee4871",
   "metadata": {
    "papermill": {
     "duration": 0.024725,
     "end_time": "2025-07-30T20:53:39.739752",
     "exception": false,
     "start_time": "2025-07-30T20:53:39.715027",
     "status": "completed"
    },
    "tags": []
   },
   "source": [
    "Fairness\n",
    "Main fairness target: Equalized Odds. Seems to be a better fit than equal opportunity, since we're not only interested in Y = 1. Seems to be a better fit than demographic parity, since we also care about accuracy, not just equal distribution of preds.\n",
    "\n",
    "Pick column for computation of fairness metrics\n",
    "\n",
    "Performance\n",
    "Overall performance measures, most interesting in relation to the measures split by group below"
   ]
  },
  {
   "cell_type": "code",
   "execution_count": 74,
   "id": "c4e067c6",
   "metadata": {
    "execution": {
     "iopub.execute_input": "2025-07-30T20:53:39.797971Z",
     "iopub.status.busy": "2025-07-30T20:53:39.797392Z",
     "iopub.status.idle": "2025-07-30T20:53:39.806614Z",
     "shell.execute_reply": "2025-07-30T20:53:39.805629Z"
    },
    "papermill": {
     "duration": 0.043147,
     "end_time": "2025-07-30T20:53:39.808297",
     "exception": false,
     "start_time": "2025-07-30T20:53:39.765150",
     "status": "completed"
    },
    "tags": []
   },
   "outputs": [
    {
     "data": {
      "text/plain": [
       "accuracy                   0.198662\n",
       "balanced accuracy          0.532329\n",
       "f1                         0.239039\n",
       "precision                  0.136098\n",
       "false positive rate        0.916486\n",
       "false negative rate        0.018856\n",
       "selection rate             0.924780\n",
       "count                  89710.000000\n",
       "dtype: float64"
      ]
     },
     "execution_count": 74,
     "metadata": {},
     "output_type": "execute_result"
    }
   ],
   "source": [
    "metric_frame.overall"
   ]
  },
  {
   "cell_type": "markdown",
   "id": "e968fe9d",
   "metadata": {
    "papermill": {
     "duration": 0.033185,
     "end_time": "2025-07-30T20:53:39.878970",
     "exception": false,
     "start_time": "2025-07-30T20:53:39.845785",
     "status": "completed"
    },
    "tags": []
   },
   "source": [
    "By Group"
   ]
  },
  {
   "cell_type": "code",
   "execution_count": 75,
   "id": "ec325bce",
   "metadata": {
    "execution": {
     "iopub.execute_input": "2025-07-30T20:53:39.930708Z",
     "iopub.status.busy": "2025-07-30T20:53:39.930144Z",
     "iopub.status.idle": "2025-07-30T20:53:39.946651Z",
     "shell.execute_reply": "2025-07-30T20:53:39.945727Z"
    },
    "papermill": {
     "duration": 0.044129,
     "end_time": "2025-07-30T20:53:39.948219",
     "exception": false,
     "start_time": "2025-07-30T20:53:39.904090",
     "status": "completed"
    },
    "tags": []
   },
   "outputs": [
    {
     "data": {
      "text/html": [
       "<div>\n",
       "<style scoped>\n",
       "    .dataframe tbody tr th:only-of-type {\n",
       "        vertical-align: middle;\n",
       "    }\n",
       "\n",
       "    .dataframe tbody tr th {\n",
       "        vertical-align: top;\n",
       "    }\n",
       "\n",
       "    .dataframe thead th {\n",
       "        text-align: right;\n",
       "    }\n",
       "</style>\n",
       "<table border=\"1\" class=\"dataframe\">\n",
       "  <thead>\n",
       "    <tr style=\"text-align: right;\">\n",
       "      <th></th>\n",
       "      <th>accuracy</th>\n",
       "      <th>balanced accuracy</th>\n",
       "      <th>f1</th>\n",
       "      <th>precision</th>\n",
       "      <th>false positive rate</th>\n",
       "      <th>false negative rate</th>\n",
       "      <th>selection rate</th>\n",
       "      <th>count</th>\n",
       "    </tr>\n",
       "    <tr>\n",
       "      <th>majmin</th>\n",
       "      <th></th>\n",
       "      <th></th>\n",
       "      <th></th>\n",
       "      <th></th>\n",
       "      <th></th>\n",
       "      <th></th>\n",
       "      <th></th>\n",
       "      <th></th>\n",
       "    </tr>\n",
       "  </thead>\n",
       "  <tbody>\n",
       "    <tr>\n",
       "      <th>majority</th>\n",
       "      <td>0.197687</td>\n",
       "      <td>0.533452</td>\n",
       "      <td>0.245876</td>\n",
       "      <td>0.140372</td>\n",
       "      <td>0.922922</td>\n",
       "      <td>0.010175</td>\n",
       "      <td>0.931762</td>\n",
       "      <td>69170.0</td>\n",
       "    </tr>\n",
       "    <tr>\n",
       "      <th>minority</th>\n",
       "      <td>0.201947</td>\n",
       "      <td>0.526206</td>\n",
       "      <td>0.214943</td>\n",
       "      <td>0.121219</td>\n",
       "      <td>0.895223</td>\n",
       "      <td>0.052365</td>\n",
       "      <td>0.901266</td>\n",
       "      <td>20540.0</td>\n",
       "    </tr>\n",
       "  </tbody>\n",
       "</table>\n",
       "</div>"
      ],
      "text/plain": [
       "          accuracy  balanced accuracy        f1  precision  \\\n",
       "majmin                                                       \n",
       "majority  0.197687           0.533452  0.245876   0.140372   \n",
       "minority  0.201947           0.526206  0.214943   0.121219   \n",
       "\n",
       "          false positive rate  false negative rate  selection rate    count  \n",
       "majmin                                                                       \n",
       "majority             0.922922             0.010175        0.931762  69170.0  \n",
       "minority             0.895223             0.052365        0.901266  20540.0  "
      ]
     },
     "execution_count": 75,
     "metadata": {},
     "output_type": "execute_result"
    }
   ],
   "source": [
    "metric_frame.by_group"
   ]
  },
  {
   "cell_type": "code",
   "execution_count": 76,
   "id": "a9ddbe63",
   "metadata": {
    "execution": {
     "iopub.execute_input": "2025-07-30T20:53:40.002225Z",
     "iopub.status.busy": "2025-07-30T20:53:40.001551Z",
     "iopub.status.idle": "2025-07-30T20:53:42.684665Z",
     "shell.execute_reply": "2025-07-30T20:53:42.683856Z"
    },
    "papermill": {
     "duration": 2.71168,
     "end_time": "2025-07-30T20:53:42.686223",
     "exception": false,
     "start_time": "2025-07-30T20:53:39.974543",
     "status": "completed"
    },
    "tags": []
   },
   "outputs": [
    {
     "data": {
      "text/plain": [
       "array([[<Axes: title={'center': 'accuracy'}, xlabel='majmin'>,\n",
       "        <Axes: title={'center': 'balanced accuracy'}, xlabel='majmin'>,\n",
       "        <Axes: title={'center': 'f1'}, xlabel='majmin'>],\n",
       "       [<Axes: title={'center': 'precision'}, xlabel='majmin'>,\n",
       "        <Axes: title={'center': 'false positive rate'}, xlabel='majmin'>,\n",
       "        <Axes: title={'center': 'false negative rate'}, xlabel='majmin'>],\n",
       "       [<Axes: title={'center': 'selection rate'}, xlabel='majmin'>,\n",
       "        <Axes: title={'center': 'count'}, xlabel='majmin'>,\n",
       "        <Axes: xlabel='majmin'>]], dtype=object)"
      ]
     },
     "execution_count": 76,
     "metadata": {},
     "output_type": "execute_result"
    },
    {
     "data": {
      "image/png": "[encoded data removed]",
      "text/plain": [
       "<Figure size 1200x800 with 9 Axes>"
      ]
     },
     "metadata": {},
     "output_type": "display_data"
    }
   ],
   "source": [
    "# In a graphic\n",
    "metric_frame.by_group.plot.bar(\n",
    "    subplots=True,\n",
    "    layout=[3, 3],\n",
    "    legend=False,\n",
    "    figsize=[12, 8],\n",
    "    title=\"Show all metrics\",\n",
    ")"
   ]
  },
  {
   "cell_type": "markdown",
   "id": "f57a0bac",
   "metadata": {
    "papermill": {
     "duration": 0.017387,
     "end_time": "2025-07-30T20:53:42.730328",
     "exception": false,
     "start_time": "2025-07-30T20:53:42.712941",
     "status": "completed"
    },
    "tags": []
   },
   "source": [
    "# Final Output"
   ]
  },
  {
   "cell_type": "code",
   "execution_count": 77,
   "id": "96d280a3",
   "metadata": {
    "execution": {
     "iopub.execute_input": "2025-07-30T20:53:42.768322Z",
     "iopub.status.busy": "2025-07-30T20:53:42.767018Z",
     "iopub.status.idle": "2025-07-30T20:53:42.777379Z",
     "shell.execute_reply": "2025-07-30T20:53:42.776150Z"
    },
    "papermill": {
     "duration": 0.031868,
     "end_time": "2025-07-30T20:53:42.779677",
     "exception": false,
     "start_time": "2025-07-30T20:53:42.747809",
     "status": "completed"
    },
    "tags": []
   },
   "outputs": [
    {
     "data": {
      "text/plain": [
       "4"
      ]
     },
     "execution_count": 77,
     "metadata": {},
     "output_type": "execute_result"
    }
   ],
   "source": [
    "sub_universes = universe_analysis.generate_sub_universes()\n",
    "len(sub_universes)"
   ]
  },
  {
   "cell_type": "code",
   "execution_count": 78,
   "id": "92adf7ba",
   "metadata": {
    "execution": {
     "iopub.execute_input": "2025-07-30T20:53:42.850986Z",
     "iopub.status.busy": "2025-07-30T20:53:42.850470Z",
     "iopub.status.idle": "2025-07-30T20:53:42.857336Z",
     "shell.execute_reply": "2025-07-30T20:53:42.856258Z"
    },
    "papermill": {
     "duration": 0.039589,
     "end_time": "2025-07-30T20:53:42.859016",
     "exception": false,
     "start_time": "2025-07-30T20:53:42.819427",
     "status": "completed"
    },
    "tags": []
   },
   "outputs": [],
   "source": [
    "def filter_sub_universe_data(sub_universe, org_test):\n",
    "    # Keep all rows — no filtering\n",
    "    keep_rows_mask = np.ones(org_test.shape[0], dtype=bool)\n",
    "\n",
    "    print(f\"[INFO] Keeping all rows: {keep_rows_mask.sum()} rows retained.\")\n",
    "    return keep_rows_mask"
   ]
  },
  {
   "cell_type": "code",
   "execution_count": 79,
   "id": "4a759155",
   "metadata": {
    "execution": {
     "iopub.execute_input": "2025-07-30T20:53:42.916898Z",
     "iopub.status.busy": "2025-07-30T20:53:42.916441Z",
     "iopub.status.idle": "2025-07-30T20:53:52.877842Z",
     "shell.execute_reply": "2025-07-30T20:53:52.876946Z"
    },
    "papermill": {
     "duration": 9.991085,
     "end_time": "2025-07-30T20:53:52.879464",
     "exception": false,
     "start_time": "2025-07-30T20:53:42.888379",
     "status": "completed"
    },
    "tags": []
   },
   "outputs": [
    {
     "name": "stdout",
     "output_type": "stream",
     "text": [
      "Stopping execution_time clock.\n",
      "[INFO] Keeping all rows: 89710 rows retained.\n"
     ]
    },
    {
     "name": "stdout",
     "output_type": "stream",
     "text": [
      "[INFO] Keeping all rows: 89710 rows retained.\n"
     ]
    },
    {
     "name": "stdout",
     "output_type": "stream",
     "text": [
      "[INFO] Keeping all rows: 89710 rows retained.\n"
     ]
    },
    {
     "name": "stdout",
     "output_type": "stream",
     "text": [
      "[INFO] Keeping all rows: 89710 rows retained.\n"
     ]
    },
    {
     "data": {
      "text/html": [
       "<div>\n",
       "<style scoped>\n",
       "    .dataframe tbody tr th:only-of-type {\n",
       "        vertical-align: middle;\n",
       "    }\n",
       "\n",
       "    .dataframe tbody tr th {\n",
       "        vertical-align: top;\n",
       "    }\n",
       "\n",
       "    .dataframe thead th {\n",
       "        text-align: right;\n",
       "    }\n",
       "</style>\n",
       "<table border=\"1\" class=\"dataframe\">\n",
       "  <thead>\n",
       "    <tr style=\"text-align: right;\">\n",
       "      <th></th>\n",
       "      <th>run_no</th>\n",
       "      <th>universe_id</th>\n",
       "      <th>universe_settings</th>\n",
       "      <th>execution_time</th>\n",
       "      <th>test_size_n</th>\n",
       "      <th>test_size_frac</th>\n",
       "      <th>fair_main_equalized_odds_difference</th>\n",
       "      <th>fair_main_equalized_odds_ratio</th>\n",
       "      <th>fair_main_demographic_parity_difference</th>\n",
       "      <th>fair_main_demographic_parity_ratio</th>\n",
       "      <th>...</th>\n",
       "      <th>perf_grp_precision_0</th>\n",
       "      <th>perf_grp_precision_1</th>\n",
       "      <th>perf_grp_false positive rate_0</th>\n",
       "      <th>perf_grp_false positive rate_1</th>\n",
       "      <th>perf_grp_false negative rate_0</th>\n",
       "      <th>perf_grp_false negative rate_1</th>\n",
       "      <th>perf_grp_selection rate_0</th>\n",
       "      <th>perf_grp_selection rate_1</th>\n",
       "      <th>perf_grp_count_0</th>\n",
       "      <th>perf_grp_count_1</th>\n",
       "    </tr>\n",
       "  </thead>\n",
       "  <tbody>\n",
       "    <tr>\n",
       "      <th>0</th>\n",
       "      <td>14</td>\n",
       "      <td>9286b7b192415fda9384e2894511f027</td>\n",
       "      <td>{\"cutoff\": \"quantile_0.1\", \"eval_fairness_grou...</td>\n",
       "      <td>34.326869</td>\n",
       "      <td>89710</td>\n",
       "      <td>1.0</td>\n",
       "      <td>0.042190</td>\n",
       "      <td>0.957376</td>\n",
       "      <td>0.030497</td>\n",
       "      <td>0.96727</td>\n",
       "      <td>...</td>\n",
       "      <td>NaN</td>\n",
       "      <td>NaN</td>\n",
       "      <td>NaN</td>\n",
       "      <td>NaN</td>\n",
       "      <td>NaN</td>\n",
       "      <td>NaN</td>\n",
       "      <td>NaN</td>\n",
       "      <td>NaN</td>\n",
       "      <td>NaN</td>\n",
       "      <td>NaN</td>\n",
       "    </tr>\n",
       "    <tr>\n",
       "      <th>0</th>\n",
       "      <td>14</td>\n",
       "      <td>9286b7b192415fda9384e2894511f027</td>\n",
       "      <td>{\"cutoff\": \"quantile_0.1\", \"eval_fairness_grou...</td>\n",
       "      <td>34.326869</td>\n",
       "      <td>89710</td>\n",
       "      <td>1.0</td>\n",
       "      <td>0.042190</td>\n",
       "      <td>0.957376</td>\n",
       "      <td>0.030497</td>\n",
       "      <td>0.96727</td>\n",
       "      <td>...</td>\n",
       "      <td>0.121219</td>\n",
       "      <td>0.140372</td>\n",
       "      <td>0.895223</td>\n",
       "      <td>0.922922</td>\n",
       "      <td>0.052365</td>\n",
       "      <td>0.010175</td>\n",
       "      <td>0.901266</td>\n",
       "      <td>0.931762</td>\n",
       "      <td>20540.0</td>\n",
       "      <td>69170.0</td>\n",
       "    </tr>\n",
       "    <tr>\n",
       "      <th>0</th>\n",
       "      <td>14</td>\n",
       "      <td>9286b7b192415fda9384e2894511f027</td>\n",
       "      <td>{\"cutoff\": \"quantile_0.25\", \"eval_fairness_gro...</td>\n",
       "      <td>34.326869</td>\n",
       "      <td>89710</td>\n",
       "      <td>1.0</td>\n",
       "      <td>0.095605</td>\n",
       "      <td>0.898451</td>\n",
       "      <td>0.038707</td>\n",
       "      <td>0.94935</td>\n",
       "      <td>...</td>\n",
       "      <td>NaN</td>\n",
       "      <td>NaN</td>\n",
       "      <td>NaN</td>\n",
       "      <td>NaN</td>\n",
       "      <td>NaN</td>\n",
       "      <td>NaN</td>\n",
       "      <td>NaN</td>\n",
       "      <td>NaN</td>\n",
       "      <td>NaN</td>\n",
       "      <td>NaN</td>\n",
       "    </tr>\n",
       "    <tr>\n",
       "      <th>0</th>\n",
       "      <td>14</td>\n",
       "      <td>9286b7b192415fda9384e2894511f027</td>\n",
       "      <td>{\"cutoff\": \"quantile_0.25\", \"eval_fairness_gro...</td>\n",
       "      <td>34.326869</td>\n",
       "      <td>89710</td>\n",
       "      <td>1.0</td>\n",
       "      <td>0.095605</td>\n",
       "      <td>0.898451</td>\n",
       "      <td>0.038707</td>\n",
       "      <td>0.94935</td>\n",
       "      <td>...</td>\n",
       "      <td>0.134411</td>\n",
       "      <td>0.162785</td>\n",
       "      <td>0.709828</td>\n",
       "      <td>0.737231</td>\n",
       "      <td>0.154139</td>\n",
       "      <td>0.058534</td>\n",
       "      <td>0.725511</td>\n",
       "      <td>0.764219</td>\n",
       "      <td>20540.0</td>\n",
       "      <td>69170.0</td>\n",
       "    </tr>\n",
       "  </tbody>\n",
       "</table>\n",
       "<p>4 rows × 50 columns</p>\n",
       "</div>"
      ],
      "text/plain": [
       "  run_no                       universe_id  \\\n",
       "0     14  9286b7b192415fda9384e2894511f027   \n",
       "0     14  9286b7b192415fda9384e2894511f027   \n",
       "0     14  9286b7b192415fda9384e2894511f027   \n",
       "0     14  9286b7b192415fda9384e2894511f027   \n",
       "\n",
       "                                   universe_settings  execution_time  \\\n",
       "0  {\"cutoff\": \"quantile_0.1\", \"eval_fairness_grou...       34.326869   \n",
       "0  {\"cutoff\": \"quantile_0.1\", \"eval_fairness_grou...       34.326869   \n",
       "0  {\"cutoff\": \"quantile_0.25\", \"eval_fairness_gro...       34.326869   \n",
       "0  {\"cutoff\": \"quantile_0.25\", \"eval_fairness_gro...       34.326869   \n",
       "\n",
       "   test_size_n  test_size_frac  fair_main_equalized_odds_difference  \\\n",
       "0        89710             1.0                             0.042190   \n",
       "0        89710             1.0                             0.042190   \n",
       "0        89710             1.0                             0.095605   \n",
       "0        89710             1.0                             0.095605   \n",
       "\n",
       "   fair_main_equalized_odds_ratio  fair_main_demographic_parity_difference  \\\n",
       "0                        0.957376                                 0.030497   \n",
       "0                        0.957376                                 0.030497   \n",
       "0                        0.898451                                 0.038707   \n",
       "0                        0.898451                                 0.038707   \n",
       "\n",
       "   fair_main_demographic_parity_ratio  ...  perf_grp_precision_0  \\\n",
       "0                             0.96727  ...                   NaN   \n",
       "0                             0.96727  ...              0.121219   \n",
       "0                             0.94935  ...                   NaN   \n",
       "0                             0.94935  ...              0.134411   \n",
       "\n",
       "   perf_grp_precision_1  perf_grp_false positive rate_0  \\\n",
       "0                   NaN                             NaN   \n",
       "0              0.140372                        0.895223   \n",
       "0                   NaN                             NaN   \n",
       "0              0.162785                        0.709828   \n",
       "\n",
       "   perf_grp_false positive rate_1  perf_grp_false negative rate_0  \\\n",
       "0                             NaN                             NaN   \n",
       "0                        0.922922                        0.052365   \n",
       "0                             NaN                             NaN   \n",
       "0                        0.737231                        0.154139   \n",
       "\n",
       "   perf_grp_false negative rate_1  perf_grp_selection rate_0  \\\n",
       "0                             NaN                        NaN   \n",
       "0                        0.010175                   0.901266   \n",
       "0                             NaN                        NaN   \n",
       "0                        0.058534                   0.725511   \n",
       "\n",
       "   perf_grp_selection rate_1  perf_grp_count_0  perf_grp_count_1  \n",
       "0                        NaN               NaN               NaN  \n",
       "0                   0.931762           20540.0           69170.0  \n",
       "0                        NaN               NaN               NaN  \n",
       "0                   0.764219           20540.0           69170.0  \n",
       "\n",
       "[4 rows x 50 columns]"
      ]
     },
     "execution_count": 79,
     "metadata": {},
     "output_type": "execute_result"
    }
   ],
   "source": [
    "final_output = universe_analysis.generate_final_output(\n",
    "    y_pred_prob=probs_test,\n",
    "    y_test=y_true,\n",
    "    org_test=org_test,\n",
    "    filter_data=filter_sub_universe_data,\n",
    "    cp_metrics_df=cp_metrics_df,\n",
    "    save=True,\n",
    ")\n",
    "final_output"
   ]
  },
  {
   "cell_type": "code",
   "execution_count": null,
   "id": "721ff514-cb11-46f8-b6fc-50392f74b5cb",
   "metadata": {
    "papermill": {
     "duration": 0.031783,
     "end_time": "2025-07-30T20:53:52.943407",
     "exception": false,
     "start_time": "2025-07-30T20:53:52.911624",
     "status": "completed"
    },
    "tags": []
   },
   "outputs": [],
   "source": []
  }
 ],
 "metadata": {
  "celltoolbar": "Tags",
  "kernelspec": {
   "display_name": "Python (CMA Fairness)",
   "language": "python",
   "name": "cma_fair_env"
  },
  "language_info": {
   "codemirror_mode": {
    "name": "ipython",
    "version": 3
   },
   "file_extension": ".py",
   "mimetype": "text/x-python",
   "name": "python",
   "nbconvert_exporter": "python",
   "pygments_lexer": "ipython3",
   "version": "3.10.12"
  },
  "papermill": {
   "default_parameters": {},
   "duration": 48.443974,
   "end_time": "2025-07-30T20:53:53.691611",
   "environment_variables": {},
   "exception": null,
   "input_path": "universe_analysis.ipynb",
   "output_path": "output/runs/14/notebooks/m_14-9286b7b192415fda9384e2894511f027.ipynb",
   "parameters": {
    "output_dir": "output",
    "run_no": "14",
    "seed": "2023",
    "universe": "{\"cutoff\": [\"quantile_0.1\", \"quantile_0.25\"], \"eval_fairness_grouping\": [\"majority-minority\", \"nationality-all\"], \"exclude_features\": \"age\", \"exclude_subgroups\": \"drop-non-german\", \"model\": \"rf\", \"scale\": \"do-not-scale\", \"training_size\": \"5k\", \"training_year\": \"2014\"}",
    "universe_id": "9286b7b192415fda9384e2894511f027"
   },
   "start_time": "2025-07-30T20:53:05.247637",
   "version": "2.6.0"
  }
 },
 "nbformat": 4,
 "nbformat_minor": 5
}