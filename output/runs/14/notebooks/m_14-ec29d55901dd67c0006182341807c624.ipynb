{
 "cells": [
  {
   "cell_type": "code",
   "execution_count": 1,
   "id": "f159f837-637b-42ba-96b5-ec9a68c44524",
   "metadata": {
    "execution": {
     "iopub.execute_input": "2025-07-30T20:51:36.715827Z",
     "iopub.status.busy": "2025-07-30T20:51:36.715348Z",
     "iopub.status.idle": "2025-07-30T20:51:36.728629Z",
     "shell.execute_reply": "2025-07-30T20:51:36.727439Z"
    },
    "papermill": {
     "duration": 0.037244,
     "end_time": "2025-07-30T20:51:36.730304",
     "exception": false,
     "start_time": "2025-07-30T20:51:36.693060",
     "status": "completed"
    },
    "tags": []
   },
   "outputs": [
    {
     "name": "stdout",
     "output_type": "stream",
     "text": [
      "/dss/dsshome1/0C/ra93lal2/cma/CMA_Fairness_v2\n"
     ]
    },
    {
     "name": "stderr",
     "output_type": "stream",
     "text": [
      "/dss/dsshome1/0C/ra93lal2/.local/share/virtualenvs/CMA_Fairness_v2-3j10GkSs/lib/python3.10/site-packages/IPython/core/magics/osm.py:393: UserWarning: This is now an optional IPython functionality, using bookmarks requires you to install the `pickleshare` library.\n",
      "  bkms = self.shell.db.get('bookmarks', {})\n",
      "/dss/dsshome1/0C/ra93lal2/.local/share/virtualenvs/CMA_Fairness_v2-3j10GkSs/lib/python3.10/site-packages/IPython/core/magics/osm.py:417: UserWarning: This is now an optional IPython functionality, setting dhist requires you to install the `pickleshare` library.\n",
      "  self.shell.db['dhist'] = compress_dhist(dhist)[-100:]\n"
     ]
    }
   ],
   "source": [
    "%cd ~/cma/CMA_Fairness_v2"
   ]
  },
  {
   "cell_type": "markdown",
   "id": "de2603b9",
   "metadata": {
    "papermill": {
     "duration": 0.020315,
     "end_time": "2025-07-30T20:51:36.772768",
     "exception": false,
     "start_time": "2025-07-30T20:51:36.752453",
     "status": "completed"
    },
    "tags": []
   },
   "source": [
    "The following cell holds the definition of our parameters, these values can be overriden by rendering the with e.g. the following command:\n",
    "\n",
    "papermill -p alpha 0.2 -p ratio 0.3 universe_analysis.ipynb output/test_run.ipynb"
   ]
  },
  {
   "cell_type": "code",
   "execution_count": 2,
   "id": "a80968a0-40bb-4fa9-85ef-2d5eefb01975",
   "metadata": {
    "execution": {
     "iopub.execute_input": "2025-07-30T20:51:36.813969Z",
     "iopub.status.busy": "2025-07-30T20:51:36.813457Z",
     "iopub.status.idle": "2025-07-30T20:51:36.819552Z",
     "shell.execute_reply": "2025-07-30T20:51:36.818597Z"
    },
    "papermill": {
     "duration": 0.028941,
     "end_time": "2025-07-30T20:51:36.821494",
     "exception": false,
     "start_time": "2025-07-30T20:51:36.792553",
     "status": "completed"
    },
    "tags": []
   },
   "outputs": [
    {
     "name": "stdout",
     "output_type": "stream",
     "text": [
      "Current working directory: /dss/dsshome1/0C/ra93lal2/cma/CMA_Fairness_v2\n"
     ]
    }
   ],
   "source": [
    "import os\n",
    "print(\"Current working directory:\", os.getcwd())"
   ]
  },
  {
   "cell_type": "code",
   "execution_count": 3,
   "id": "2dce4c03",
   "metadata": {
    "execution": {
     "iopub.execute_input": "2025-07-30T20:51:36.869961Z",
     "iopub.status.busy": "2025-07-30T20:51:36.869497Z",
     "iopub.status.idle": "2025-07-30T20:51:36.875840Z",
     "shell.execute_reply": "2025-07-30T20:51:36.874931Z"
    },
    "papermill": {
     "duration": 0.031712,
     "end_time": "2025-07-30T20:51:36.877614",
     "exception": false,
     "start_time": "2025-07-30T20:51:36.845902",
     "status": "completed"
    },
    "tags": [
     "parameters"
    ]
   },
   "outputs": [],
   "source": [
    "run_no = 0\n",
    "universe_id = \"test\"\n",
    "universe = {\n",
    "    \"training_size\": \"25k\", # \"25k\", \"5k\", \"1k\"\n",
    "    \"training_year\": \"2014\", # \"2014\", \"2012_14\", \"2010_14\"\n",
    "    \"scale\": \"scale\", # \"scale\", \"do-not-scale\",\n",
    "    #\"stratify_split\": \"target\", # \"none\", \"target\", \"protected-attribute\", \"both\",\n",
    "    \"model\": \"elasticnet\", # \"logreg\", \"penalized_logreg\", \"rf\", \"gbm\", \"elasticnet\"\n",
    "    \"cutoff\": [\"quantile_0.15\", \"quantile_0.30\"],\n",
    "    \"exclude_features\": \"age\", # \"none\", \"nationality\", \"sex\", \"nationality-sex\", \"age\"\n",
    "    \"exclude_subgroups\": \"keep-all\", # \"keep-all\", \"drop-non-german\"\n",
    "    \"eval_fairness_grouping\": [\"majority-minority\", \"nationality-all\"]\n",
    "}\n",
    "\n",
    "output_dir=\"./output\"\n",
    "seed=0"
   ]
  },
  {
   "cell_type": "code",
   "execution_count": 4,
   "id": "90439553",
   "metadata": {
    "execution": {
     "iopub.execute_input": "2025-07-30T20:51:36.921692Z",
     "iopub.status.busy": "2025-07-30T20:51:36.921037Z",
     "iopub.status.idle": "2025-07-30T20:51:36.926576Z",
     "shell.execute_reply": "2025-07-30T20:51:36.925659Z"
    },
    "papermill": {
     "duration": 0.029035,
     "end_time": "2025-07-30T20:51:36.928234",
     "exception": false,
     "start_time": "2025-07-30T20:51:36.899199",
     "status": "completed"
    },
    "tags": [
     "injected-parameters"
    ]
   },
   "outputs": [],
   "source": [
    "# Parameters\n",
    "universe_id = \"ec29d55901dd67c0006182341807c624\"\n",
    "run_no = \"14\"\n",
    "universe = \"{\\\"cutoff\\\": [\\\"quantile_0.1\\\", \\\"quantile_0.25\\\"], \\\"eval_fairness_grouping\\\": [\\\"majority-minority\\\", \\\"nationality-all\\\"], \\\"exclude_features\\\": \\\"sex\\\", \\\"exclude_subgroups\\\": \\\"keep-all\\\", \\\"model\\\": \\\"penalized_logreg\\\", \\\"scale\\\": \\\"do-not-scale\\\", \\\"training_size\\\": \\\"5k\\\", \\\"training_year\\\": \\\"2014\\\"}\"\n",
    "output_dir = \"output\"\n",
    "seed = \"2023\"\n"
   ]
  },
  {
   "cell_type": "code",
   "execution_count": 5,
   "id": "1650acaf",
   "metadata": {
    "execution": {
     "iopub.execute_input": "2025-07-30T20:51:36.971525Z",
     "iopub.status.busy": "2025-07-30T20:51:36.970799Z",
     "iopub.status.idle": "2025-07-30T20:51:36.975765Z",
     "shell.execute_reply": "2025-07-30T20:51:36.974812Z"
    },
    "papermill": {
     "duration": 0.028013,
     "end_time": "2025-07-30T20:51:36.977546",
     "exception": false,
     "start_time": "2025-07-30T20:51:36.949533",
     "status": "completed"
    },
    "tags": []
   },
   "outputs": [],
   "source": [
    "import json\n",
    "# Parse universe into dict if it is passed as a string\n",
    "if isinstance(universe, str):\n",
    "    universe = json.loads(universe)"
   ]
  },
  {
   "cell_type": "code",
   "execution_count": 6,
   "id": "16620c48",
   "metadata": {
    "execution": {
     "iopub.execute_input": "2025-07-30T20:51:37.019423Z",
     "iopub.status.busy": "2025-07-30T20:51:37.019031Z",
     "iopub.status.idle": "2025-07-30T20:51:37.048355Z",
     "shell.execute_reply": "2025-07-30T20:51:37.047670Z"
    },
    "papermill": {
     "duration": 0.051305,
     "end_time": "2025-07-30T20:51:37.049599",
     "exception": false,
     "start_time": "2025-07-30T20:51:36.998294",
     "status": "completed"
    },
    "tags": []
   },
   "outputs": [],
   "source": [
    "# Auto-reload the custom package\n",
    "%load_ext autoreload\n",
    "%autoreload 1\n",
    "%aimport fairness_multiverse"
   ]
  },
  {
   "cell_type": "code",
   "execution_count": 7,
   "id": "01c5c9f3",
   "metadata": {
    "execution": {
     "iopub.execute_input": "2025-07-30T20:51:37.071237Z",
     "iopub.status.busy": "2025-07-30T20:51:37.070764Z",
     "iopub.status.idle": "2025-07-30T20:51:38.853942Z",
     "shell.execute_reply": "2025-07-30T20:51:38.853184Z"
    },
    "papermill": {
     "duration": 1.795738,
     "end_time": "2025-07-30T20:51:38.855718",
     "exception": false,
     "start_time": "2025-07-30T20:51:37.059980",
     "status": "completed"
    },
    "tags": []
   },
   "outputs": [],
   "source": [
    "from fairness_multiverse.universe import UniverseAnalysis\n",
    "\n",
    "universe_analysis = UniverseAnalysis(\n",
    "    run_no = run_no,\n",
    "    universe_id = universe_id,\n",
    "    universe = universe,\n",
    "    output_dir=output_dir,\n",
    ")"
   ]
  },
  {
   "cell_type": "code",
   "execution_count": 8,
   "id": "106241f5",
   "metadata": {
    "execution": {
     "iopub.execute_input": "2025-07-30T20:51:38.899960Z",
     "iopub.status.busy": "2025-07-30T20:51:38.899455Z",
     "iopub.status.idle": "2025-07-30T20:51:38.906278Z",
     "shell.execute_reply": "2025-07-30T20:51:38.905353Z"
    },
    "papermill": {
     "duration": 0.031246,
     "end_time": "2025-07-30T20:51:38.908554",
     "exception": false,
     "start_time": "2025-07-30T20:51:38.877308",
     "status": "completed"
    },
    "tags": []
   },
   "outputs": [
    {
     "name": "stdout",
     "output_type": "stream",
     "text": [
      "Using Seed: 2023\n"
     ]
    }
   ],
   "source": [
    "import numpy as np\n",
    "parsed_seed = int(seed)\n",
    "np.random.seed(parsed_seed)\n",
    "print(f\"Using Seed: {parsed_seed}\")"
   ]
  },
  {
   "cell_type": "markdown",
   "id": "e0ebdc57",
   "metadata": {
    "papermill": {
     "duration": 0.020442,
     "end_time": "2025-07-30T20:51:38.949249",
     "exception": false,
     "start_time": "2025-07-30T20:51:38.928807",
     "status": "completed"
    },
    "tags": []
   },
   "source": [
    "# Loading Data"
   ]
  },
  {
   "cell_type": "markdown",
   "id": "681925a3",
   "metadata": {
    "papermill": {
     "duration": 0.019377,
     "end_time": "2025-07-30T20:51:38.990134",
     "exception": false,
     "start_time": "2025-07-30T20:51:38.970757",
     "status": "completed"
    },
    "tags": []
   },
   "source": [
    "Load siab_train, siab_test, siab_calib and/or \n",
    "load siab_train_features, siab_train_labels"
   ]
  },
  {
   "cell_type": "code",
   "execution_count": 9,
   "id": "f0496b8a",
   "metadata": {
    "execution": {
     "iopub.execute_input": "2025-07-30T20:51:39.032359Z",
     "iopub.status.busy": "2025-07-30T20:51:39.031850Z",
     "iopub.status.idle": "2025-07-30T20:51:51.638467Z",
     "shell.execute_reply": "2025-07-30T20:51:51.637085Z"
    },
    "papermill": {
     "duration": 12.630643,
     "end_time": "2025-07-30T20:51:51.640849",
     "exception": false,
     "start_time": "2025-07-30T20:51:39.010206",
     "status": "completed"
    },
    "tags": []
   },
   "outputs": [
    {
     "name": "stdout",
     "output_type": "stream",
     "text": [
      "Loading SIAB data from cache: data/siab_cached.csv.gz\n"
     ]
    },
    {
     "name": "stdout",
     "output_type": "stream",
     "text": [
      "(643690, 164)\n"
     ]
    }
   ],
   "source": [
    "from pathlib import Path\n",
    "import pandas as pd\n",
    "\n",
    "# File paths\n",
    "raw_file = Path(\"data/raw/siab.csv\")\n",
    "cache_file = Path(\"data/siab_cached.csv.gz\")\n",
    "\n",
    "# Ensure cache directory exists\n",
    "cache_file.parent.mkdir(parents=True, exist_ok=True)\n",
    "\n",
    "# Load with simple caching\n",
    "if cache_file.exists():\n",
    "    print(f\"Loading SIAB data from cache: {cache_file}\")\n",
    "    siab = pd.read_csv(cache_file, compression='gzip')\n",
    "else:\n",
    "    print(f\"Cache not found. Reading raw SIAB data: {raw_file}\")\n",
    "    siab = pd.read_csv(raw_file)\n",
    "    siab.to_csv(cache_file, index=False, compression='gzip')\n",
    "    print(f\"Cached SIAB data to: {cache_file}\")\n",
    "\n",
    "# Now use `siab` DataFrame as needed\n",
    "print(siab.shape)"
   ]
  },
  {
   "cell_type": "code",
   "execution_count": 10,
   "id": "db0ca512-5f53-4dba-abdb-a2888bca41ba",
   "metadata": {
    "execution": {
     "iopub.execute_input": "2025-07-30T20:51:51.702214Z",
     "iopub.status.busy": "2025-07-30T20:51:51.701725Z",
     "iopub.status.idle": "2025-07-30T20:51:51.708038Z",
     "shell.execute_reply": "2025-07-30T20:51:51.707106Z"
    },
    "papermill": {
     "duration": 0.036128,
     "end_time": "2025-07-30T20:51:51.709491",
     "exception": false,
     "start_time": "2025-07-30T20:51:51.673363",
     "status": "completed"
    },
    "tags": []
   },
   "outputs": [],
   "source": [
    "#siab"
   ]
  },
  {
   "cell_type": "code",
   "execution_count": 11,
   "id": "a0edb063",
   "metadata": {
    "execution": {
     "iopub.execute_input": "2025-07-30T20:51:51.776359Z",
     "iopub.status.busy": "2025-07-30T20:51:51.775654Z",
     "iopub.status.idle": "2025-07-30T20:51:51.780059Z",
     "shell.execute_reply": "2025-07-30T20:51:51.779317Z"
    },
    "papermill": {
     "duration": 0.045127,
     "end_time": "2025-07-30T20:51:51.781351",
     "exception": false,
     "start_time": "2025-07-30T20:51:51.736224",
     "status": "completed"
    },
    "tags": []
   },
   "outputs": [],
   "source": [
    "#import pandas as pd\n",
    "#\n",
    "#X_train = pd.read_csv(\"./data/X_train.csv\")\n",
    "#y_train = pd.read_csv(\"./data/y_train.csv\")"
   ]
  },
  {
   "cell_type": "code",
   "execution_count": 12,
   "id": "63d08085",
   "metadata": {
    "execution": {
     "iopub.execute_input": "2025-07-30T20:51:51.809346Z",
     "iopub.status.busy": "2025-07-30T20:51:51.808579Z",
     "iopub.status.idle": "2025-07-30T20:51:51.815489Z",
     "shell.execute_reply": "2025-07-30T20:51:51.814188Z"
    },
    "papermill": {
     "duration": 0.024262,
     "end_time": "2025-07-30T20:51:51.817209",
     "exception": false,
     "start_time": "2025-07-30T20:51:51.792947",
     "status": "completed"
    },
    "tags": []
   },
   "outputs": [],
   "source": [
    "#X_test = pd.read_csv(\"./data/X_test.csv\")\n",
    "#y_true = pd.read_csv(\"./data/y_test.csv\")"
   ]
  },
  {
   "cell_type": "code",
   "execution_count": 13,
   "id": "98a8d0fa-1d3d-4ed8-bb2c-281470e24add",
   "metadata": {
    "execution": {
     "iopub.execute_input": "2025-07-30T20:51:51.868968Z",
     "iopub.status.busy": "2025-07-30T20:51:51.868131Z",
     "iopub.status.idle": "2025-07-30T20:51:51.931012Z",
     "shell.execute_reply": "2025-07-30T20:51:51.929961Z"
    },
    "papermill": {
     "duration": 0.093394,
     "end_time": "2025-07-30T20:51:51.933324",
     "exception": false,
     "start_time": "2025-07-30T20:51:51.839930",
     "status": "completed"
    },
    "tags": []
   },
   "outputs": [],
   "source": [
    "# Calibration data for conformal\n",
    "#X_calib = pd.read_csv(\"./data/X_calib.csv\")\n",
    "#y_calib = pd.read_csv(\"./data/y_calib.csv\")"
   ]
  },
  {
   "cell_type": "markdown",
   "id": "997051c5-15bd-4b69-9786-c3001a3ce484",
   "metadata": {
    "papermill": {
     "duration": 0.021859,
     "end_time": "2025-07-30T20:51:51.978930",
     "exception": false,
     "start_time": "2025-07-30T20:51:51.957071",
     "status": "completed"
    },
    "tags": []
   },
   "source": [
    "# Splitting Data and Setting Training Data Size"
   ]
  },
  {
   "cell_type": "code",
   "execution_count": 14,
   "id": "e993b61f-042d-41a6-8c81-f55681f86335",
   "metadata": {
    "execution": {
     "iopub.execute_input": "2025-07-30T20:51:52.025652Z",
     "iopub.status.busy": "2025-07-30T20:51:52.025120Z",
     "iopub.status.idle": "2025-07-30T20:51:52.039381Z",
     "shell.execute_reply": "2025-07-30T20:51:52.038396Z"
    },
    "papermill": {
     "duration": 0.04023,
     "end_time": "2025-07-30T20:51:52.041149",
     "exception": false,
     "start_time": "2025-07-30T20:51:52.000919",
     "status": "completed"
    },
    "tags": []
   },
   "outputs": [],
   "source": [
    "def sample_by_year_size(df,\n",
    "                        training_year: str,\n",
    "                        training_size: str,\n",
    "                        random_state: int = 42):\n",
    "    # --- parse training_year into a list of int years ---\n",
    "    if \"_\" in training_year:\n",
    "        start_str, end_str = training_year.split(\"_\", 1)\n",
    "        start = int(start_str)\n",
    "        end   = int(end_str) if len(end_str) == 4 else (int(end_str) + (start // 100)*100)\n",
    "        years = list(range(start, end + 1))\n",
    "    else:\n",
    "        years = [int(training_year)]\n",
    "\n",
    "    df = df[df[\"year\"].isin(years)].reset_index(drop=True)\n",
    "\n",
    "    # --- map training_size to total number of samples ---\n",
    "    total_map = {\"25k\": 25_000, \"5k\": 5_000, \"1k\": 1_000}\n",
    "    if training_size not in total_map:\n",
    "        return df  # e.g. \"all\"\n",
    "\n",
    "    total_samples = total_map[training_size]\n",
    "    n_years       = len(years)\n",
    "    base          = total_samples // n_years\n",
    "    remainder     = total_samples % n_years\n",
    "\n",
    "    # --- build a dict: year -> how many to sample ---\n",
    "    # give +1 to the first `remainder` years in ascending order\n",
    "    quotas = {\n",
    "        year: base + (1 if idx < remainder else 0)\n",
    "        for idx, year in enumerate(sorted(years))\n",
    "    }\n",
    "\n",
    "    # --- sample per‐year according to the quota dict ---\n",
    "    sampled = (\n",
    "        df\n",
    "        .groupby(\"year\", group_keys=False)\n",
    "        .apply(lambda grp: grp.sample(\n",
    "            n=min(len(grp), quotas[grp.name]),\n",
    "            random_state=random_state))\n",
    "        .reset_index(drop=True)\n",
    "    )\n",
    "\n",
    "    return sampled"
   ]
  },
  {
   "cell_type": "code",
   "execution_count": 15,
   "id": "c0ccd338-0e02-41f3-a09d-f56f9266e3fb",
   "metadata": {
    "execution": {
     "iopub.execute_input": "2025-07-30T20:51:52.089698Z",
     "iopub.status.busy": "2025-07-30T20:51:52.088964Z",
     "iopub.status.idle": "2025-07-30T20:51:52.094127Z",
     "shell.execute_reply": "2025-07-30T20:51:52.093242Z"
    },
    "papermill": {
     "duration": 0.031408,
     "end_time": "2025-07-30T20:51:52.095960",
     "exception": false,
     "start_time": "2025-07-30T20:51:52.064552",
     "status": "completed"
    },
    "tags": []
   },
   "outputs": [],
   "source": [
    "#universe[\"training_size\"]"
   ]
  },
  {
   "cell_type": "code",
   "execution_count": 16,
   "id": "ca707fd7-8047-4acd-bfa5-66248fbbf8e6",
   "metadata": {
    "execution": {
     "iopub.execute_input": "2025-07-30T20:51:52.146444Z",
     "iopub.status.busy": "2025-07-30T20:51:52.145428Z",
     "iopub.status.idle": "2025-07-30T20:51:52.151775Z",
     "shell.execute_reply": "2025-07-30T20:51:52.150675Z"
    },
    "papermill": {
     "duration": 0.033394,
     "end_time": "2025-07-30T20:51:52.153746",
     "exception": false,
     "start_time": "2025-07-30T20:51:52.120352",
     "status": "completed"
    },
    "tags": []
   },
   "outputs": [],
   "source": [
    "#universe[\"training_year\"]"
   ]
  },
  {
   "cell_type": "code",
   "execution_count": 17,
   "id": "aea9c6ef-6f46-42c8-85eb-5a62025c1508",
   "metadata": {
    "execution": {
     "iopub.execute_input": "2025-07-30T20:51:52.200614Z",
     "iopub.status.busy": "2025-07-30T20:51:52.199872Z",
     "iopub.status.idle": "2025-07-30T20:51:52.495418Z",
     "shell.execute_reply": "2025-07-30T20:51:52.494372Z"
    },
    "papermill": {
     "duration": 0.320497,
     "end_time": "2025-07-30T20:51:52.497445",
     "exception": false,
     "start_time": "2025-07-30T20:51:52.176948",
     "status": "completed"
    },
    "tags": []
   },
   "outputs": [],
   "source": [
    "siab_train = sample_by_year_size(siab,\n",
    "                               training_year=universe[\"training_year\"],\n",
    "                               training_size=universe[\"training_size\"])"
   ]
  },
  {
   "cell_type": "code",
   "execution_count": 18,
   "id": "8d3afb32-789d-442c-8d5d-9f5aa8dd2eed",
   "metadata": {
    "execution": {
     "iopub.execute_input": "2025-07-30T20:51:52.552349Z",
     "iopub.status.busy": "2025-07-30T20:51:52.551835Z",
     "iopub.status.idle": "2025-07-30T20:51:52.557160Z",
     "shell.execute_reply": "2025-07-30T20:51:52.556117Z"
    },
    "papermill": {
     "duration": 0.038615,
     "end_time": "2025-07-30T20:51:52.559152",
     "exception": false,
     "start_time": "2025-07-30T20:51:52.520537",
     "status": "completed"
    },
    "tags": []
   },
   "outputs": [],
   "source": [
    "#siab_train.shape"
   ]
  },
  {
   "cell_type": "code",
   "execution_count": 19,
   "id": "d582db68-1a4c-47fb-84fc-08518dc1975a",
   "metadata": {
    "execution": {
     "iopub.execute_input": "2025-07-30T20:51:52.609329Z",
     "iopub.status.busy": "2025-07-30T20:51:52.608823Z",
     "iopub.status.idle": "2025-07-30T20:51:52.614057Z",
     "shell.execute_reply": "2025-07-30T20:51:52.613071Z"
    },
    "papermill": {
     "duration": 0.032058,
     "end_time": "2025-07-30T20:51:52.615751",
     "exception": false,
     "start_time": "2025-07-30T20:51:52.583693",
     "status": "completed"
    },
    "tags": []
   },
   "outputs": [],
   "source": [
    "#display(siab_train.groupby(\"year\").size())"
   ]
  },
  {
   "cell_type": "code",
   "execution_count": 20,
   "id": "a561edb4-d032-42cb-8256-22eac1111c64",
   "metadata": {
    "execution": {
     "iopub.execute_input": "2025-07-30T20:51:52.662540Z",
     "iopub.status.busy": "2025-07-30T20:51:52.661626Z",
     "iopub.status.idle": "2025-07-30T20:51:52.931456Z",
     "shell.execute_reply": "2025-07-30T20:51:52.930685Z"
    },
    "papermill": {
     "duration": 0.293149,
     "end_time": "2025-07-30T20:51:52.932952",
     "exception": false,
     "start_time": "2025-07-30T20:51:52.639803",
     "status": "completed"
    },
    "tags": []
   },
   "outputs": [],
   "source": [
    "#siab_train = siab_s[siab_s.year < 2015]\n",
    "siab_calib = siab[siab.year == 2015]\n",
    "siab_test = siab[siab.year == 2016]"
   ]
  },
  {
   "cell_type": "code",
   "execution_count": 21,
   "id": "472de16f-c3db-4916-846b-1f0de9cf1746",
   "metadata": {
    "execution": {
     "iopub.execute_input": "2025-07-30T20:51:52.958715Z",
     "iopub.status.busy": "2025-07-30T20:51:52.958097Z",
     "iopub.status.idle": "2025-07-30T20:51:52.967478Z",
     "shell.execute_reply": "2025-07-30T20:51:52.966689Z"
    },
    "papermill": {
     "duration": 0.024014,
     "end_time": "2025-07-30T20:51:52.968867",
     "exception": false,
     "start_time": "2025-07-30T20:51:52.944853",
     "status": "completed"
    },
    "tags": []
   },
   "outputs": [],
   "source": [
    "X_train = siab_train.iloc[:,4:164]\n",
    "y_train = siab_train.iloc[:, [3]]"
   ]
  },
  {
   "cell_type": "code",
   "execution_count": 22,
   "id": "828c96af-f43a-4ed6-ba47-8ac73a47d56c",
   "metadata": {
    "execution": {
     "iopub.execute_input": "2025-07-30T20:51:52.994496Z",
     "iopub.status.busy": "2025-07-30T20:51:52.993990Z",
     "iopub.status.idle": "2025-07-30T20:51:53.042744Z",
     "shell.execute_reply": "2025-07-30T20:51:53.041904Z"
    },
    "papermill": {
     "duration": 0.063115,
     "end_time": "2025-07-30T20:51:53.044737",
     "exception": false,
     "start_time": "2025-07-30T20:51:52.981622",
     "status": "completed"
    },
    "tags": []
   },
   "outputs": [],
   "source": [
    "X_calib = siab_calib.iloc[:,4:164]\n",
    "y_calib = siab_calib.iloc[:, [3]]"
   ]
  },
  {
   "cell_type": "code",
   "execution_count": 23,
   "id": "c34be9c3-6bd6-476e-acd3-845840e303be",
   "metadata": {
    "execution": {
     "iopub.execute_input": "2025-07-30T20:51:53.070850Z",
     "iopub.status.busy": "2025-07-30T20:51:53.070434Z",
     "iopub.status.idle": "2025-07-30T20:51:53.120421Z",
     "shell.execute_reply": "2025-07-30T20:51:53.119352Z"
    },
    "papermill": {
     "duration": 0.065085,
     "end_time": "2025-07-30T20:51:53.122153",
     "exception": false,
     "start_time": "2025-07-30T20:51:53.057068",
     "status": "completed"
    },
    "tags": []
   },
   "outputs": [],
   "source": [
    "X_test = siab_test.iloc[:,4:164]\n",
    "y_true = siab_test.iloc[:, [3]]"
   ]
  },
  {
   "cell_type": "markdown",
   "id": "9901737e-04df-44f0-9100-f5ad144ed040",
   "metadata": {
    "papermill": {
     "duration": 0.011686,
     "end_time": "2025-07-30T20:51:53.146653",
     "exception": false,
     "start_time": "2025-07-30T20:51:53.134967",
     "status": "completed"
    },
    "tags": []
   },
   "source": [
    "# Splitting Data and Setting Training Data Size OLD VERSION"
   ]
  },
  {
   "cell_type": "code",
   "execution_count": 24,
   "id": "acbc8f7d-8fc8-4e86-8c59-5dcb0f58384b",
   "metadata": {
    "execution": {
     "iopub.execute_input": "2025-07-30T20:51:53.170779Z",
     "iopub.status.busy": "2025-07-30T20:51:53.170262Z",
     "iopub.status.idle": "2025-07-30T20:51:53.175052Z",
     "shell.execute_reply": "2025-07-30T20:51:53.174314Z"
    },
    "papermill": {
     "duration": 0.018457,
     "end_time": "2025-07-30T20:51:53.176400",
     "exception": false,
     "start_time": "2025-07-30T20:51:53.157943",
     "status": "completed"
    },
    "tags": []
   },
   "outputs": [],
   "source": [
    "#def sample_by_year(df, training_size, random_state=42):\n",
    "#    if training_size == \"2014\":\n",
    "#        return df[df[\"year\"] == 2014].reset_index(drop=True)\n",
    "#    \n",
    "#    size_map = {\n",
    "#        \"25k\": 5000,\n",
    "#        \"5k\": 1000,\n",
    "#        \"1k\": 200\n",
    "#    }\n",
    "#\n",
    "#    if training_size not in size_map:\n",
    "#        return df.reset_index(drop=True)  # use all data\n",
    "#\n",
    "#    n_per_year = size_map[training_size]\n",
    "#    grouped = df.groupby(\"year\")\n",
    "#    sampled = grouped.apply(lambda x: x.sample(n=min(n_per_year, len(x)), random_state=random_state))\n",
    "#    return sampled.reset_index(drop=True)"
   ]
  },
  {
   "cell_type": "code",
   "execution_count": 25,
   "id": "6d931f52-beaf-43ff-9e78-9d44a448d54e",
   "metadata": {
    "execution": {
     "iopub.execute_input": "2025-07-30T20:51:53.201917Z",
     "iopub.status.busy": "2025-07-30T20:51:53.201375Z",
     "iopub.status.idle": "2025-07-30T20:51:53.205950Z",
     "shell.execute_reply": "2025-07-30T20:51:53.205170Z"
    },
    "papermill": {
     "duration": 0.01838,
     "end_time": "2025-07-30T20:51:53.207363",
     "exception": false,
     "start_time": "2025-07-30T20:51:53.188983",
     "status": "completed"
    },
    "tags": []
   },
   "outputs": [],
   "source": [
    "#siab_s = sample_by_year(siab, universe[\"training_size\"])"
   ]
  },
  {
   "cell_type": "code",
   "execution_count": 26,
   "id": "5db0a40e-a4e2-4920-be85-b12ae061d70d",
   "metadata": {
    "execution": {
     "iopub.execute_input": "2025-07-30T20:51:53.233004Z",
     "iopub.status.busy": "2025-07-30T20:51:53.232502Z",
     "iopub.status.idle": "2025-07-30T20:51:53.236970Z",
     "shell.execute_reply": "2025-07-30T20:51:53.236161Z"
    },
    "papermill": {
     "duration": 0.018764,
     "end_time": "2025-07-30T20:51:53.238403",
     "exception": false,
     "start_time": "2025-07-30T20:51:53.219639",
     "status": "completed"
    },
    "tags": []
   },
   "outputs": [],
   "source": [
    "#display(siab_s.groupby(\"year\").size())"
   ]
  },
  {
   "cell_type": "code",
   "execution_count": 27,
   "id": "e6c733c5",
   "metadata": {
    "execution": {
     "iopub.execute_input": "2025-07-30T20:51:53.263626Z",
     "iopub.status.busy": "2025-07-30T20:51:53.263088Z",
     "iopub.status.idle": "2025-07-30T20:51:53.352192Z",
     "shell.execute_reply": "2025-07-30T20:51:53.351396Z"
    },
    "papermill": {
     "duration": 0.103118,
     "end_time": "2025-07-30T20:51:53.353754",
     "exception": false,
     "start_time": "2025-07-30T20:51:53.250636",
     "status": "completed"
    },
    "tags": []
   },
   "outputs": [],
   "source": [
    "# Auxiliary data needed downstream in the pipeline\n",
    "\n",
    "org_train = X_train.copy()\n",
    "org_test = X_test.copy()\n",
    "org_calib = X_calib.copy()"
   ]
  },
  {
   "cell_type": "code",
   "execution_count": 28,
   "id": "1466abac-c6da-4492-a62f-4240ae3783af",
   "metadata": {
    "execution": {
     "iopub.execute_input": "2025-07-30T20:51:53.382949Z",
     "iopub.status.busy": "2025-07-30T20:51:53.382602Z",
     "iopub.status.idle": "2025-07-30T20:51:53.387553Z",
     "shell.execute_reply": "2025-07-30T20:51:53.386822Z"
    },
    "papermill": {
     "duration": 0.021544,
     "end_time": "2025-07-30T20:51:53.388965",
     "exception": false,
     "start_time": "2025-07-30T20:51:53.367421",
     "status": "completed"
    },
    "tags": []
   },
   "outputs": [],
   "source": [
    "# put in other script?\n",
    "# Group sizes\n",
    "\n",
    "#def calculate_percentages(df, df_name):\n",
    "#    total_entries = len(df)\n",
    "#\n",
    "#    female_pct = (df['frau1'] == 1).mean() * 100\n",
    "#    non_german_pct = ((df['maxdeutsch1'] == 0) & (df['maxdeutsch.Missing.'] == 0)).mean() * 100\n",
    "#    non_german_male_pct = ((df['frau1'] == 0) & (df['maxdeutsch1'] == 0) & (df['maxdeutsch.Missing.'] == 0)).mean() * 100\n",
    "#    non_german_female_pct = ((df['frau1'] == 1) & (df['maxdeutsch1'] == 0) & (df['maxdeutsch.Missing.'] == 0)).mean() * 100\n",
    "#\n",
    "#    print(f\"--- {df_name} ---\")\n",
    "#    print(f\"Female: {female_pct:.2f}%\")\n",
    "#    print(f\"Non-German: {non_german_pct:.2f}%\")\n",
    "#    print(f\"Non-German Male: {non_german_male_pct:.2f}%\")\n",
    "#    print(f\"Non-German Female: {non_german_female_pct:.2f}%\\n\")\n",
    "#\n",
    "## Calculate for each DataFrame\n",
    "#calculate_percentages(siab_calib, \"siab_calib\")\n",
    "#calculate_percentages(siab_test, \"siab_test\")\n",
    "#calculate_percentages(siab_train, \"siab_train\")"
   ]
  },
  {
   "cell_type": "markdown",
   "id": "0a4a1b33",
   "metadata": {
    "papermill": {
     "duration": 0.010959,
     "end_time": "2025-07-30T20:51:53.412633",
     "exception": false,
     "start_time": "2025-07-30T20:51:53.401674",
     "status": "completed"
    },
    "tags": []
   },
   "source": [
    "# Preprocessing Data"
   ]
  },
  {
   "cell_type": "code",
   "execution_count": 29,
   "id": "ca879031",
   "metadata": {
    "execution": {
     "iopub.execute_input": "2025-07-30T20:51:53.436207Z",
     "iopub.status.busy": "2025-07-30T20:51:53.435820Z",
     "iopub.status.idle": "2025-07-30T20:51:53.441111Z",
     "shell.execute_reply": "2025-07-30T20:51:53.440330Z"
    },
    "papermill": {
     "duration": 0.018814,
     "end_time": "2025-07-30T20:51:53.442510",
     "exception": false,
     "start_time": "2025-07-30T20:51:53.423696",
     "status": "completed"
    },
    "tags": []
   },
   "outputs": [],
   "source": [
    "# EXCLUDE PROTECTED FEATURES\n",
    "# ----------------------\n",
    "# \"exclude_features\": \"none\", # \"nationality\", \"sex\", \"nationality-sex\"\n",
    "\n",
    "excluded_features = universe[\"exclude_features\"].split(\"-\") # split, e.g.: \"nationality-sex\" -> [\"nationality\", \"sex\"]\n",
    "excluded_features_dictionary = {\n",
    "    \"nationality\": [\"maxdeutsch1\", \"maxdeutsch.Missing.\"],\n",
    "    \"sex\": [\"frau1\"],\n",
    "    \"age\": [\"age\"],\n",
    "}\n"
   ]
  },
  {
   "cell_type": "code",
   "execution_count": 30,
   "id": "b745ac60",
   "metadata": {
    "execution": {
     "iopub.execute_input": "2025-07-30T20:51:53.501435Z",
     "iopub.status.busy": "2025-07-30T20:51:53.500012Z",
     "iopub.status.idle": "2025-07-30T20:51:53.507768Z",
     "shell.execute_reply": "2025-07-30T20:51:53.506538Z"
    },
    "papermill": {
     "duration": 0.041752,
     "end_time": "2025-07-30T20:51:53.509774",
     "exception": false,
     "start_time": "2025-07-30T20:51:53.468022",
     "status": "completed"
    },
    "tags": []
   },
   "outputs": [],
   "source": [
    "# Code nice names to column names\n",
    "\n",
    "excluded_features_columns = [\n",
    "    excluded_features_dictionary[f] for f in excluded_features if len(f) > 0 and f != \"none\"\n",
    "]"
   ]
  },
  {
   "cell_type": "code",
   "execution_count": 31,
   "id": "f84f73a2",
   "metadata": {
    "execution": {
     "iopub.execute_input": "2025-07-30T20:51:53.559267Z",
     "iopub.status.busy": "2025-07-30T20:51:53.558757Z",
     "iopub.status.idle": "2025-07-30T20:51:53.564535Z",
     "shell.execute_reply": "2025-07-30T20:51:53.563678Z"
    },
    "papermill": {
     "duration": 0.025856,
     "end_time": "2025-07-30T20:51:53.565930",
     "exception": false,
     "start_time": "2025-07-30T20:51:53.540074",
     "status": "completed"
    },
    "tags": []
   },
   "outputs": [],
   "source": [
    "from utils import flatten_once\n",
    "\n",
    "excluded_features_columns = flatten_once(excluded_features_columns)"
   ]
  },
  {
   "cell_type": "code",
   "execution_count": 32,
   "id": "884dea22",
   "metadata": {
    "execution": {
     "iopub.execute_input": "2025-07-30T20:51:53.591458Z",
     "iopub.status.busy": "2025-07-30T20:51:53.590922Z",
     "iopub.status.idle": "2025-07-30T20:51:53.599377Z",
     "shell.execute_reply": "2025-07-30T20:51:53.598651Z"
    },
    "papermill": {
     "duration": 0.022391,
     "end_time": "2025-07-30T20:51:53.600739",
     "exception": false,
     "start_time": "2025-07-30T20:51:53.578348",
     "status": "completed"
    },
    "tags": []
   },
   "outputs": [
    {
     "name": "stdout",
     "output_type": "stream",
     "text": [
      "Dropping features: ['frau1']\n"
     ]
    }
   ],
   "source": [
    "if len(excluded_features_columns) > 0:\n",
    "    print(f\"Dropping features: {excluded_features_columns}\")\n",
    "    X_train.drop(excluded_features_columns, axis=1, inplace=True)"
   ]
  },
  {
   "cell_type": "code",
   "execution_count": 33,
   "id": "95ab8b16",
   "metadata": {
    "execution": {
     "iopub.execute_input": "2025-07-30T20:51:53.626095Z",
     "iopub.status.busy": "2025-07-30T20:51:53.625570Z",
     "iopub.status.idle": "2025-07-30T20:51:53.710509Z",
     "shell.execute_reply": "2025-07-30T20:51:53.709346Z"
    },
    "papermill": {
     "duration": 0.100159,
     "end_time": "2025-07-30T20:51:53.713296",
     "exception": false,
     "start_time": "2025-07-30T20:51:53.613137",
     "status": "completed"
    },
    "tags": []
   },
   "outputs": [
    {
     "name": "stdout",
     "output_type": "stream",
     "text": [
      "Dropping features: ['frau1']\n"
     ]
    }
   ],
   "source": [
    "if len(excluded_features_columns) > 0:\n",
    "    print(f\"Dropping features: {excluded_features_columns}\")\n",
    "    X_test.drop(excluded_features_columns, axis=1, inplace=True)"
   ]
  },
  {
   "cell_type": "code",
   "execution_count": 34,
   "id": "1853aaf5-fb9f-46cb-a2b5-8ea4ae2237e4",
   "metadata": {
    "execution": {
     "iopub.execute_input": "2025-07-30T20:51:53.762506Z",
     "iopub.status.busy": "2025-07-30T20:51:53.762097Z",
     "iopub.status.idle": "2025-07-30T20:51:53.841365Z",
     "shell.execute_reply": "2025-07-30T20:51:53.840021Z"
    },
    "papermill": {
     "duration": 0.1064,
     "end_time": "2025-07-30T20:51:53.843751",
     "exception": false,
     "start_time": "2025-07-30T20:51:53.737351",
     "status": "completed"
    },
    "tags": []
   },
   "outputs": [
    {
     "name": "stdout",
     "output_type": "stream",
     "text": [
      "Dropping features: ['frau1']\n"
     ]
    }
   ],
   "source": [
    "if len(excluded_features_columns) > 0:\n",
    "    print(f\"Dropping features: {excluded_features_columns}\")\n",
    "    X_calib.drop(excluded_features_columns, axis=1, inplace=True)"
   ]
  },
  {
   "cell_type": "code",
   "execution_count": 35,
   "id": "6727d079-03e5-481e-9d38-292a90b7a0a8",
   "metadata": {
    "execution": {
     "iopub.execute_input": "2025-07-30T20:51:53.898126Z",
     "iopub.status.busy": "2025-07-30T20:51:53.897690Z",
     "iopub.status.idle": "2025-07-30T20:51:53.902407Z",
     "shell.execute_reply": "2025-07-30T20:51:53.901354Z"
    },
    "papermill": {
     "duration": 0.031574,
     "end_time": "2025-07-30T20:51:53.905398",
     "exception": false,
     "start_time": "2025-07-30T20:51:53.873824",
     "status": "completed"
    },
    "tags": []
   },
   "outputs": [],
   "source": [
    "# SPLIT & STRATIFY DATA\n",
    "# ----------------------"
   ]
  },
  {
   "cell_type": "code",
   "execution_count": 36,
   "id": "76c4dc6d",
   "metadata": {
    "execution": {
     "iopub.execute_input": "2025-07-30T20:51:53.986768Z",
     "iopub.status.busy": "2025-07-30T20:51:53.986218Z",
     "iopub.status.idle": "2025-07-30T20:51:53.990785Z",
     "shell.execute_reply": "2025-07-30T20:51:53.990088Z"
    },
    "papermill": {
     "duration": 0.037804,
     "end_time": "2025-07-30T20:51:53.992365",
     "exception": false,
     "start_time": "2025-07-30T20:51:53.954561",
     "status": "completed"
    },
    "tags": []
   },
   "outputs": [],
   "source": [
    "# EXCLUDE CERTAIN SUBGROUPS\n",
    "# ----------------------\n",
    "\n",
    "mode = universe.get(\"exclude_subgroups\", \"keep-all\") \n",
    "# Fetches the exclude_subgroups setting from the universe dict.\n",
    "# Defaults to \"keep-all\" if the key is missing."
   ]
  },
  {
   "cell_type": "code",
   "execution_count": 37,
   "id": "21994072",
   "metadata": {
    "execution": {
     "iopub.execute_input": "2025-07-30T20:51:54.040793Z",
     "iopub.status.busy": "2025-07-30T20:51:54.040317Z",
     "iopub.status.idle": "2025-07-30T20:51:54.064139Z",
     "shell.execute_reply": "2025-07-30T20:51:54.046500Z"
    },
    "papermill": {
     "duration": 0.050046,
     "end_time": "2025-07-30T20:51:54.065981",
     "exception": false,
     "start_time": "2025-07-30T20:51:54.015935",
     "status": "completed"
    },
    "tags": []
   },
   "outputs": [],
   "source": [
    "if mode == \"keep-all\":\n",
    "    keep_mask = pd.Series(True, index=org_train.index)\n",
    "\n",
    "# org_train contains the original feature columns from features_org (in Simson)\n",
    "# features_org contains unprocessed features, for me X_train at beginning ???\n",
    "# For keep-all, creates a boolean Series (keep_mask) of all True, so no rows are removed.\n",
    "\n",
    "elif mode == \"drop-non-german\":\n",
    "    keep_mask = org_train[\"maxdeutsch1\"] == 1 # ??? what about missing values?\n",
    "\n",
    "else:\n",
    "    raise ValueError(f\"Unsupported mode for exclude_subgroups: {mode}\")\n"
   ]
  },
  {
   "cell_type": "code",
   "execution_count": 38,
   "id": "71651440",
   "metadata": {
    "execution": {
     "iopub.execute_input": "2025-07-30T20:51:54.117627Z",
     "iopub.status.busy": "2025-07-30T20:51:54.117203Z",
     "iopub.status.idle": "2025-07-30T20:51:54.124270Z",
     "shell.execute_reply": "2025-07-30T20:51:54.123400Z"
    },
    "papermill": {
     "duration": 0.034038,
     "end_time": "2025-07-30T20:51:54.125498",
     "exception": false,
     "start_time": "2025-07-30T20:51:54.091460",
     "status": "completed"
    },
    "tags": []
   },
   "outputs": [],
   "source": [
    "n_drop = (~keep_mask).sum() # Calculates how many rows are set to be dropped\n",
    "if n_drop > 0:\n",
    "    pct = n_drop / len(keep_mask) * 100\n",
    "    print(f\"Dropping {n_drop} rows ({pct:.2f}%) where mode='{mode}'\")"
   ]
  },
  {
   "cell_type": "code",
   "execution_count": 39,
   "id": "5fb8eee5",
   "metadata": {
    "execution": {
     "iopub.execute_input": "2025-07-30T20:51:54.156628Z",
     "iopub.status.busy": "2025-07-30T20:51:54.156269Z",
     "iopub.status.idle": "2025-07-30T20:51:54.162807Z",
     "shell.execute_reply": "2025-07-30T20:51:54.162082Z"
    },
    "papermill": {
     "duration": 0.021844,
     "end_time": "2025-07-30T20:51:54.164377",
     "exception": false,
     "start_time": "2025-07-30T20:51:54.142533",
     "status": "completed"
    },
    "tags": []
   },
   "outputs": [],
   "source": [
    "X_train = X_train[keep_mask]"
   ]
  },
  {
   "cell_type": "code",
   "execution_count": 40,
   "id": "b202bb3a",
   "metadata": {
    "execution": {
     "iopub.execute_input": "2025-07-30T20:51:54.218629Z",
     "iopub.status.busy": "2025-07-30T20:51:54.217802Z",
     "iopub.status.idle": "2025-07-30T20:51:54.223893Z",
     "shell.execute_reply": "2025-07-30T20:51:54.223100Z"
    },
    "papermill": {
     "duration": 0.034908,
     "end_time": "2025-07-30T20:51:54.225526",
     "exception": false,
     "start_time": "2025-07-30T20:51:54.190618",
     "status": "completed"
    },
    "tags": []
   },
   "outputs": [],
   "source": [
    "y_train = y_train[keep_mask]"
   ]
  },
  {
   "cell_type": "markdown",
   "id": "493e2ac3",
   "metadata": {
    "papermill": {
     "duration": 0.015671,
     "end_time": "2025-07-30T20:51:54.261722",
     "exception": false,
     "start_time": "2025-07-30T20:51:54.246051",
     "status": "completed"
    },
    "tags": []
   },
   "source": [
    "# Model Training"
   ]
  },
  {
   "cell_type": "code",
   "execution_count": 41,
   "id": "679e1268",
   "metadata": {
    "execution": {
     "iopub.execute_input": "2025-07-30T20:51:54.289620Z",
     "iopub.status.busy": "2025-07-30T20:51:54.289140Z",
     "iopub.status.idle": "2025-07-30T20:51:54.388332Z",
     "shell.execute_reply": "2025-07-30T20:51:54.387240Z"
    },
    "papermill": {
     "duration": 0.115577,
     "end_time": "2025-07-30T20:51:54.390395",
     "exception": false,
     "start_time": "2025-07-30T20:51:54.274818",
     "status": "completed"
    },
    "tags": []
   },
   "outputs": [],
   "source": [
    "from sklearn.linear_model import LogisticRegression\n",
    "from sklearn.ensemble import GradientBoostingClassifier, RandomForestClassifier\n",
    "\n",
    "if (universe[\"model\"] == \"logreg\"):\n",
    "    model = LogisticRegression() #penalty=\"none\") #, solver=\"newton-cg\", max_iter=1) # include random_state=19 ?\n",
    "elif (universe[\"model\"] == \"penalized_logreg\"):\n",
    "    model = LogisticRegression(penalty=\"l2\", C=1.0) #, solver=\"newton-cg\", max_iter=1)\n",
    "elif (universe[\"model\"] == \"rf\"):\n",
    "    model = RandomForestClassifier(n_estimators=100, n_jobs=-1)\n",
    "elif (universe[\"model\"] == \"gbm\"):\n",
    "    model = GradientBoostingClassifier()\n",
    "elif (universe[\"model\"] == \"elasticnet\"):\n",
    "    model = LogisticRegression(penalty = 'elasticnet', solver = 'saga', l1_ratio = 0.5, max_iter=5000) # which solver to use?\n",
    "else:\n",
    "    raise \"Unsupported universe.model\""
   ]
  },
  {
   "cell_type": "code",
   "execution_count": 42,
   "id": "0cc8f744",
   "metadata": {
    "execution": {
     "iopub.execute_input": "2025-07-30T20:51:54.446641Z",
     "iopub.status.busy": "2025-07-30T20:51:54.446155Z",
     "iopub.status.idle": "2025-07-30T20:51:54.452443Z",
     "shell.execute_reply": "2025-07-30T20:51:54.451445Z"
    },
    "papermill": {
     "duration": 0.036955,
     "end_time": "2025-07-30T20:51:54.454320",
     "exception": false,
     "start_time": "2025-07-30T20:51:54.417365",
     "status": "completed"
    },
    "tags": []
   },
   "outputs": [],
   "source": [
    "import numpy as np\n",
    "from sklearn.pipeline import Pipeline\n",
    "from sklearn.preprocessing import StandardScaler\n",
    "\n",
    "model = Pipeline([\n",
    "    #(\"continuous_processor\", continuous_processor),\n",
    "    #(\"categorical_preprocessor\", categorical_preprocessor),\n",
    "    (\"scale\", StandardScaler() if universe[\"scale\"] == \"scale\" else None), \n",
    "    (\"model\", model),\n",
    "])"
   ]
  },
  {
   "cell_type": "code",
   "execution_count": 43,
   "id": "9442c04d",
   "metadata": {
    "execution": {
     "iopub.execute_input": "2025-07-30T20:51:54.508549Z",
     "iopub.status.busy": "2025-07-30T20:51:54.507977Z",
     "iopub.status.idle": "2025-07-30T20:51:54.657003Z",
     "shell.execute_reply": "2025-07-30T20:51:54.655918Z"
    },
    "papermill": {
     "duration": 0.177648,
     "end_time": "2025-07-30T20:51:54.658309",
     "exception": false,
     "start_time": "2025-07-30T20:51:54.480661",
     "status": "completed"
    },
    "tags": []
   },
   "outputs": [
    {
     "name": "stderr",
     "output_type": "stream",
     "text": [
      "/dss/dsshome1/0C/ra93lal2/.local/share/virtualenvs/CMA_Fairness_v2-3j10GkSs/lib/python3.10/site-packages/sklearn/linear_model/_logistic.py:444: ConvergenceWarning: lbfgs failed to converge (status=1):\n",
      "STOP: TOTAL NO. of ITERATIONS REACHED LIMIT.\n",
      "\n",
      "Increase the number of iterations (max_iter) or scale the data as shown in:\n",
      "    https://scikit-learn.org/stable/modules/preprocessing.html\n",
      "Please also refer to the documentation for alternative solver options:\n",
      "    https://scikit-learn.org/stable/modules/linear_model.html#logistic-regression\n",
      "  n_iter_i = _check_optimize_result(\n"
     ]
    },
    {
     "data": {
      "text/html": [
       "<style>#sk-container-id-1 {color: black;background-color: white;}#sk-container-id-1 pre{padding: 0;}#sk-container-id-1 div.sk-toggleable {background-color: white;}#sk-container-id-1 label.sk-toggleable__label {cursor: pointer;display: block;width: 100%;margin-bottom: 0;padding: 0.3em;box-sizing: border-box;text-align: center;}#sk-container-id-1 label.sk-toggleable__label-arrow:before {content: \"▸\";float: left;margin-right: 0.25em;color: #696969;}#sk-container-id-1 label.sk-toggleable__label-arrow:hover:before {color: black;}#sk-container-id-1 div.sk-estimator:hover label.sk-toggleable__label-arrow:before {color: black;}#sk-container-id-1 div.sk-toggleable__content {max-height: 0;max-width: 0;overflow: hidden;text-align: left;background-color: #f0f8ff;}#sk-container-id-1 div.sk-toggleable__content pre {margin: 0.2em;color: black;border-radius: 0.25em;background-color: #f0f8ff;}#sk-container-id-1 input.sk-toggleable__control:checked~div.sk-toggleable__content {max-height: 200px;max-width: 100%;overflow: auto;}#sk-container-id-1 input.sk-toggleable__control:checked~label.sk-toggleable__label-arrow:before {content: \"▾\";}#sk-container-id-1 div.sk-estimator input.sk-toggleable__control:checked~label.sk-toggleable__label {background-color: #d4ebff;}#sk-container-id-1 div.sk-label input.sk-toggleable__control:checked~label.sk-toggleable__label {background-color: #d4ebff;}#sk-container-id-1 input.sk-hidden--visually {border: 0;clip: rect(1px 1px 1px 1px);clip: rect(1px, 1px, 1px, 1px);height: 1px;margin: -1px;overflow: hidden;padding: 0;position: absolute;width: 1px;}#sk-container-id-1 div.sk-estimator {font-family: monospace;background-color: #f0f8ff;border: 1px dotted black;border-radius: 0.25em;box-sizing: border-box;margin-bottom: 0.5em;}#sk-container-id-1 div.sk-estimator:hover {background-color: #d4ebff;}#sk-container-id-1 div.sk-parallel-item::after {content: \"\";width: 100%;border-bottom: 1px solid gray;flex-grow: 1;}#sk-container-id-1 div.sk-label:hover label.sk-toggleable__label {background-color: #d4ebff;}#sk-container-id-1 div.sk-serial::before {content: \"\";position: absolute;border-left: 1px solid gray;box-sizing: border-box;top: 0;bottom: 0;left: 50%;z-index: 0;}#sk-container-id-1 div.sk-serial {display: flex;flex-direction: column;align-items: center;background-color: white;padding-right: 0.2em;padding-left: 0.2em;position: relative;}#sk-container-id-1 div.sk-item {position: relative;z-index: 1;}#sk-container-id-1 div.sk-parallel {display: flex;align-items: stretch;justify-content: center;background-color: white;position: relative;}#sk-container-id-1 div.sk-item::before, #sk-container-id-1 div.sk-parallel-item::before {content: \"\";position: absolute;border-left: 1px solid gray;box-sizing: border-box;top: 0;bottom: 0;left: 50%;z-index: -1;}#sk-container-id-1 div.sk-parallel-item {display: flex;flex-direction: column;z-index: 1;position: relative;background-color: white;}#sk-container-id-1 div.sk-parallel-item:first-child::after {align-self: flex-end;width: 50%;}#sk-container-id-1 div.sk-parallel-item:last-child::after {align-self: flex-start;width: 50%;}#sk-container-id-1 div.sk-parallel-item:only-child::after {width: 0;}#sk-container-id-1 div.sk-dashed-wrapped {border: 1px dashed gray;margin: 0 0.4em 0.5em 0.4em;box-sizing: border-box;padding-bottom: 0.4em;background-color: white;}#sk-container-id-1 div.sk-label label {font-family: monospace;font-weight: bold;display: inline-block;line-height: 1.2em;}#sk-container-id-1 div.sk-label-container {text-align: center;}#sk-container-id-1 div.sk-container {/* jupyter's `normalize.less` sets `[hidden] { display: none; }` but bootstrap.min.css set `[hidden] { display: none !important; }` so we also need the `!important` here to be able to override the default hidden behavior on the sphinx rendered scikit-learn.org. See: https://github.com/scikit-learn/scikit-learn/issues/21755 */display: inline-block !important;position: relative;}#sk-container-id-1 div.sk-text-repr-fallback {display: none;}</style><div id=\"sk-container-id-1\" class=\"sk-top-container\"><div class=\"sk-text-repr-fallback\"><pre>Pipeline(steps=[(&#x27;scale&#x27;, None), (&#x27;model&#x27;, LogisticRegression())])</pre><b>In a Jupyter environment, please rerun this cell to show the HTML representation or trust the notebook. <br />On GitHub, the HTML representation is unable to render, please try loading this page with nbviewer.org.</b></div><div class=\"sk-container\" hidden><div class=\"sk-item sk-dashed-wrapped\"><div class=\"sk-label-container\"><div class=\"sk-label sk-toggleable\"><input class=\"sk-toggleable__control sk-hidden--visually\" id=\"sk-estimator-id-1\" type=\"checkbox\" ><label for=\"sk-estimator-id-1\" class=\"sk-toggleable__label sk-toggleable__label-arrow\">Pipeline</label><div class=\"sk-toggleable__content\"><pre>Pipeline(steps=[(&#x27;scale&#x27;, None), (&#x27;model&#x27;, LogisticRegression())])</pre></div></div></div><div class=\"sk-serial\"><div class=\"sk-item\"><div class=\"sk-estimator sk-toggleable\"><input class=\"sk-toggleable__control sk-hidden--visually\" id=\"sk-estimator-id-2\" type=\"checkbox\" ><label for=\"sk-estimator-id-2\" class=\"sk-toggleable__label sk-toggleable__label-arrow\">None</label><div class=\"sk-toggleable__content\"><pre>None</pre></div></div></div><div class=\"sk-item\"><div class=\"sk-estimator sk-toggleable\"><input class=\"sk-toggleable__control sk-hidden--visually\" id=\"sk-estimator-id-3\" type=\"checkbox\" ><label for=\"sk-estimator-id-3\" class=\"sk-toggleable__label sk-toggleable__label-arrow\">LogisticRegression</label><div class=\"sk-toggleable__content\"><pre>LogisticRegression()</pre></div></div></div></div></div></div></div>"
      ],
      "text/plain": [
       "Pipeline(steps=[('scale', None), ('model', LogisticRegression())])"
      ]
     },
     "execution_count": 43,
     "metadata": {},
     "output_type": "execute_result"
    }
   ],
   "source": [
    "model.fit(X_train, y_train.values.ravel())"
   ]
  },
  {
   "cell_type": "code",
   "execution_count": 44,
   "id": "af59f8c0",
   "metadata": {
    "execution": {
     "iopub.execute_input": "2025-07-30T20:51:54.685290Z",
     "iopub.status.busy": "2025-07-30T20:51:54.684948Z",
     "iopub.status.idle": "2025-07-30T20:51:54.689437Z",
     "shell.execute_reply": "2025-07-30T20:51:54.688661Z"
    },
    "papermill": {
     "duration": 0.020137,
     "end_time": "2025-07-30T20:51:54.691529",
     "exception": false,
     "start_time": "2025-07-30T20:51:54.671392",
     "status": "completed"
    },
    "tags": []
   },
   "outputs": [],
   "source": [
    "from fairness_multiverse.universe import predict_w_threshold"
   ]
  },
  {
   "cell_type": "code",
   "execution_count": 45,
   "id": "a7cf2e16",
   "metadata": {
    "execution": {
     "iopub.execute_input": "2025-07-30T20:51:54.722314Z",
     "iopub.status.busy": "2025-07-30T20:51:54.721757Z",
     "iopub.status.idle": "2025-07-30T20:51:54.814087Z",
     "shell.execute_reply": "2025-07-30T20:51:54.813321Z"
    },
    "papermill": {
     "duration": 0.107047,
     "end_time": "2025-07-30T20:51:54.815458",
     "exception": false,
     "start_time": "2025-07-30T20:51:54.708411",
     "status": "completed"
    },
    "tags": []
   },
   "outputs": [
    {
     "data": {
      "text/plain": [
       "0.8615093077694794"
      ]
     },
     "execution_count": 45,
     "metadata": {},
     "output_type": "execute_result"
    }
   ],
   "source": [
    "probs_test = model.predict_proba(X_test)\n",
    "\n",
    "'''\n",
    "Below code returns a boolean array (or binary 0/1 array depending on how it’s used) where each element \n",
    "is True if the probability of class 1 is greater than or equal to the threshold, and False otherwise.\n",
    "'''\n",
    "y_pred_default = predict_w_threshold(probs_test, 0.5)\n",
    "\n",
    "from sklearn.metrics import accuracy_score\n",
    "\n",
    "# Naive prediction\n",
    "accuracy_score(y_true = y_true, y_pred = y_pred_default)"
   ]
  },
  {
   "cell_type": "code",
   "execution_count": 46,
   "id": "081964c3",
   "metadata": {
    "execution": {
     "iopub.execute_input": "2025-07-30T20:51:54.841780Z",
     "iopub.status.busy": "2025-07-30T20:51:54.841474Z",
     "iopub.status.idle": "2025-07-30T20:51:54.916329Z",
     "shell.execute_reply": "2025-07-30T20:51:54.915603Z"
    },
    "papermill": {
     "duration": 0.0894,
     "end_time": "2025-07-30T20:51:54.917572",
     "exception": false,
     "start_time": "2025-07-30T20:51:54.828172",
     "status": "completed"
    },
    "tags": []
   },
   "outputs": [
    {
     "data": {
      "text/plain": [
       "array([0, 0, 0, ..., 0, 0, 0])"
      ]
     },
     "execution_count": 46,
     "metadata": {},
     "output_type": "execute_result"
    }
   ],
   "source": [
    "model.predict(X_test)"
   ]
  },
  {
   "cell_type": "markdown",
   "id": "56c9705b",
   "metadata": {
    "papermill": {
     "duration": 0.013044,
     "end_time": "2025-07-30T20:51:54.943382",
     "exception": false,
     "start_time": "2025-07-30T20:51:54.930338",
     "status": "completed"
    },
    "tags": []
   },
   "source": [
    "# Conformal Prediction"
   ]
  },
  {
   "cell_type": "code",
   "execution_count": 47,
   "id": "160ec6ff",
   "metadata": {
    "execution": {
     "iopub.execute_input": "2025-07-30T20:51:54.974412Z",
     "iopub.status.busy": "2025-07-30T20:51:54.974051Z",
     "iopub.status.idle": "2025-07-30T20:51:54.978940Z",
     "shell.execute_reply": "2025-07-30T20:51:54.978113Z"
    },
    "papermill": {
     "duration": 0.023595,
     "end_time": "2025-07-30T20:51:54.980268",
     "exception": false,
     "start_time": "2025-07-30T20:51:54.956673",
     "status": "completed"
    },
    "tags": []
   },
   "outputs": [],
   "source": [
    "# Miscoverage level for conformal prediction (10% allowed error rate => 90% target coverage)\n",
    "alpha = 0.1"
   ]
  },
  {
   "cell_type": "code",
   "execution_count": 48,
   "id": "eadf4555-3dd3-440e-8e35-f82a4ad9f855",
   "metadata": {
    "execution": {
     "iopub.execute_input": "2025-07-30T20:51:55.006642Z",
     "iopub.status.busy": "2025-07-30T20:51:55.006056Z",
     "iopub.status.idle": "2025-07-30T20:51:55.091996Z",
     "shell.execute_reply": "2025-07-30T20:51:55.090579Z"
    },
    "papermill": {
     "duration": 0.100805,
     "end_time": "2025-07-30T20:51:55.094167",
     "exception": false,
     "start_time": "2025-07-30T20:51:54.993362",
     "status": "completed"
    },
    "tags": []
   },
   "outputs": [],
   "source": [
    "probs_calib = model.predict_proba(X_calib)"
   ]
  },
  {
   "cell_type": "code",
   "execution_count": 49,
   "id": "2ed93547-6d5d-4983-9b36-1ecb300da49a",
   "metadata": {
    "execution": {
     "iopub.execute_input": "2025-07-30T20:51:55.163592Z",
     "iopub.status.busy": "2025-07-30T20:51:55.162508Z",
     "iopub.status.idle": "2025-07-30T20:51:55.168768Z",
     "shell.execute_reply": "2025-07-30T20:51:55.167821Z"
    },
    "papermill": {
     "duration": 0.035772,
     "end_time": "2025-07-30T20:51:55.170407",
     "exception": false,
     "start_time": "2025-07-30T20:51:55.134635",
     "status": "completed"
    },
    "tags": []
   },
   "outputs": [],
   "source": [
    "y_calib = y_calib.values.ravel().astype(int)"
   ]
  },
  {
   "cell_type": "code",
   "execution_count": 50,
   "id": "65d1320d-f588-4b38-9072-62af1ae97f7d",
   "metadata": {
    "execution": {
     "iopub.execute_input": "2025-07-30T20:51:55.222564Z",
     "iopub.status.busy": "2025-07-30T20:51:55.222013Z",
     "iopub.status.idle": "2025-07-30T20:51:55.229111Z",
     "shell.execute_reply": "2025-07-30T20:51:55.227987Z"
    },
    "papermill": {
     "duration": 0.038175,
     "end_time": "2025-07-30T20:51:55.231069",
     "exception": false,
     "start_time": "2025-07-30T20:51:55.192894",
     "status": "completed"
    },
    "tags": []
   },
   "outputs": [],
   "source": [
    "from fairness_multiverse.conformal import compute_nc_scores\n",
    "\n",
    "# Compute nonconformity scores on calibration set (1 - probability of true class)\n",
    "nc_scores = compute_nc_scores(probs_calib, y_calib)"
   ]
  },
  {
   "cell_type": "code",
   "execution_count": 51,
   "id": "df3b8ca3-53b7-43d5-9667-7c85da7aeda2",
   "metadata": {
    "execution": {
     "iopub.execute_input": "2025-07-30T20:51:55.287679Z",
     "iopub.status.busy": "2025-07-30T20:51:55.287250Z",
     "iopub.status.idle": "2025-07-30T20:51:55.293401Z",
     "shell.execute_reply": "2025-07-30T20:51:55.292472Z"
    },
    "papermill": {
     "duration": 0.036309,
     "end_time": "2025-07-30T20:51:55.295144",
     "exception": false,
     "start_time": "2025-07-30T20:51:55.258835",
     "status": "completed"
    },
    "tags": []
   },
   "outputs": [],
   "source": [
    "from fairness_multiverse.conformal import find_threshold\n",
    "\n",
    "# Find conformal threshold q_hat for the given alpha (split conformal method)\n",
    "q_hat = find_threshold(nc_scores, alpha)"
   ]
  },
  {
   "cell_type": "code",
   "execution_count": 52,
   "id": "4d29e6c1-0ef6-4aa4-b8fe-4fe79b0d033a",
   "metadata": {
    "execution": {
     "iopub.execute_input": "2025-07-30T20:51:55.353157Z",
     "iopub.status.busy": "2025-07-30T20:51:55.352658Z",
     "iopub.status.idle": "2025-07-30T20:51:55.360702Z",
     "shell.execute_reply": "2025-07-30T20:51:55.359492Z"
    },
    "papermill": {
     "duration": 0.039461,
     "end_time": "2025-07-30T20:51:55.362745",
     "exception": false,
     "start_time": "2025-07-30T20:51:55.323284",
     "status": "completed"
    },
    "tags": []
   },
   "outputs": [
    {
     "data": {
      "text/plain": [
       "0.6781420765700201"
      ]
     },
     "execution_count": 52,
     "metadata": {},
     "output_type": "execute_result"
    }
   ],
   "source": [
    "q_hat"
   ]
  },
  {
   "cell_type": "code",
   "execution_count": 53,
   "id": "92460794-cdac-4be2-ba28-f28c0515a6fb",
   "metadata": {
    "execution": {
     "iopub.execute_input": "2025-07-30T20:51:55.426443Z",
     "iopub.status.busy": "2025-07-30T20:51:55.425374Z",
     "iopub.status.idle": "2025-07-30T20:51:56.294808Z",
     "shell.execute_reply": "2025-07-30T20:51:56.293943Z"
    },
    "papermill": {
     "duration": 0.903542,
     "end_time": "2025-07-30T20:51:56.296767",
     "exception": false,
     "start_time": "2025-07-30T20:51:55.393225",
     "status": "completed"
    },
    "tags": []
   },
   "outputs": [],
   "source": [
    "from fairness_multiverse.conformal import predict_conformal_sets\n",
    "\n",
    "# Generate prediction sets for each test example\n",
    "pred_sets = predict_conformal_sets(model, X_test, q_hat)"
   ]
  },
  {
   "cell_type": "code",
   "execution_count": 54,
   "id": "d90c9a65-e6db-4f5d-80cd-e68fb7e46829",
   "metadata": {
    "execution": {
     "iopub.execute_input": "2025-07-30T20:51:56.352368Z",
     "iopub.status.busy": "2025-07-30T20:51:56.351922Z",
     "iopub.status.idle": "2025-07-30T20:51:56.357161Z",
     "shell.execute_reply": "2025-07-30T20:51:56.356306Z"
    },
    "papermill": {
     "duration": 0.034246,
     "end_time": "2025-07-30T20:51:56.358557",
     "exception": false,
     "start_time": "2025-07-30T20:51:56.324311",
     "status": "completed"
    },
    "tags": []
   },
   "outputs": [],
   "source": [
    "y_true = y_true.squeeze()"
   ]
  },
  {
   "cell_type": "code",
   "execution_count": 55,
   "id": "3a58a54a-1e68-46b9-927a-df01f18aebc8",
   "metadata": {
    "execution": {
     "iopub.execute_input": "2025-07-30T20:51:56.398356Z",
     "iopub.status.busy": "2025-07-30T20:51:56.397831Z",
     "iopub.status.idle": "2025-07-30T20:51:57.162373Z",
     "shell.execute_reply": "2025-07-30T20:51:57.161368Z"
    },
    "papermill": {
     "duration": 0.791944,
     "end_time": "2025-07-30T20:51:57.164410",
     "exception": false,
     "start_time": "2025-07-30T20:51:56.372466",
     "status": "completed"
    },
    "tags": []
   },
   "outputs": [],
   "source": [
    "from fairness_multiverse.conformal import evaluate_sets\n",
    "\n",
    "# Evaluate coverage and average set size on test data\n",
    "metrics = evaluate_sets(pred_sets, y_true)"
   ]
  },
  {
   "cell_type": "markdown",
   "id": "2b569c12-9aaa-4c88-98c9-bbcd0cf3ebb8",
   "metadata": {
    "papermill": {
     "duration": 0.026352,
     "end_time": "2025-07-30T20:51:57.217258",
     "exception": false,
     "start_time": "2025-07-30T20:51:57.190906",
     "status": "completed"
    },
    "tags": []
   },
   "source": [
    "# CP Metrics"
   ]
  },
  {
   "cell_type": "code",
   "execution_count": 56,
   "id": "5ce0a5cb-201f-45a0-ade5-94c7f0bd6095",
   "metadata": {
    "execution": {
     "iopub.execute_input": "2025-07-30T20:51:57.270481Z",
     "iopub.status.busy": "2025-07-30T20:51:57.269855Z",
     "iopub.status.idle": "2025-07-30T20:51:57.277427Z",
     "shell.execute_reply": "2025-07-30T20:51:57.276426Z"
    },
    "papermill": {
     "duration": 0.035081,
     "end_time": "2025-07-30T20:51:57.278981",
     "exception": false,
     "start_time": "2025-07-30T20:51:57.243900",
     "status": "completed"
    },
    "tags": []
   },
   "outputs": [
    {
     "data": {
      "text/plain": [
       "{'coverage': 0.9116597926652548, 'avg_size': 1.2057295730687771}"
      ]
     },
     "execution_count": 56,
     "metadata": {},
     "output_type": "execute_result"
    }
   ],
   "source": [
    "metrics"
   ]
  },
  {
   "cell_type": "code",
   "execution_count": 57,
   "id": "9b9a838d-31c9-430b-ae14-12baee460d17",
   "metadata": {
    "execution": {
     "iopub.execute_input": "2025-07-30T20:51:57.331906Z",
     "iopub.status.busy": "2025-07-30T20:51:57.330780Z",
     "iopub.status.idle": "2025-07-30T20:51:57.338028Z",
     "shell.execute_reply": "2025-07-30T20:51:57.337101Z"
    },
    "papermill": {
     "duration": 0.035819,
     "end_time": "2025-07-30T20:51:57.339712",
     "exception": false,
     "start_time": "2025-07-30T20:51:57.303893",
     "status": "completed"
    },
    "tags": []
   },
   "outputs": [],
   "source": [
    "example_universe = universe.copy()\n",
    "universe_training_year = example_universe.get(\"training_year\")\n",
    "universe_training_size = example_universe.get(\"training_size\")\n",
    "universe_scale = example_universe.get(\"scale\")\n",
    "universe_model = example_universe.get(\"model\")\n",
    "universe_exclude_features = example_universe.get(\"exclude_features\")\n",
    "universe_exclude_subgroups = example_universe.get(\"exclude_subgroups\")"
   ]
  },
  {
   "cell_type": "code",
   "execution_count": 58,
   "id": "f4b6a8ac-9dc0-4245-8a91-5b3b5999c4f9",
   "metadata": {
    "execution": {
     "iopub.execute_input": "2025-07-30T20:51:57.393690Z",
     "iopub.status.busy": "2025-07-30T20:51:57.393132Z",
     "iopub.status.idle": "2025-07-30T20:51:57.400549Z",
     "shell.execute_reply": "2025-07-30T20:51:57.399384Z"
    },
    "papermill": {
     "duration": 0.03573,
     "end_time": "2025-07-30T20:51:57.402347",
     "exception": false,
     "start_time": "2025-07-30T20:51:57.366617",
     "status": "completed"
    },
    "tags": []
   },
   "outputs": [],
   "source": [
    "cp_metrics_dict = {\n",
    "    \"universe_id\": [universe_id],\n",
    "    \"universe_training_year\": [universe_training_year],\n",
    "    \"universe_training_size\": [universe_training_size],\n",
    "    \"universe_scale\": [universe_scale],\n",
    "    \"universe_model\": [universe_model],\n",
    "    \"universe_exclude_features\": [universe_exclude_features],\n",
    "    \"universe_exclude_subgroups\": [universe_exclude_subgroups],\n",
    "    \"q_hat\": [q_hat],\n",
    "    \"coverage\": [metrics[\"coverage\"]],\n",
    "    \"avg_size\": [metrics[\"avg_size\"]],\n",
    "}"
   ]
  },
  {
   "cell_type": "code",
   "execution_count": 59,
   "id": "908acbb1-0371-4915-85ca-3fa520d2efe2",
   "metadata": {
    "execution": {
     "iopub.execute_input": "2025-07-30T20:51:57.455188Z",
     "iopub.status.busy": "2025-07-30T20:51:57.454432Z",
     "iopub.status.idle": "2025-07-30T20:51:57.462247Z",
     "shell.execute_reply": "2025-07-30T20:51:57.461270Z"
    },
    "papermill": {
     "duration": 0.033539,
     "end_time": "2025-07-30T20:51:57.463762",
     "exception": false,
     "start_time": "2025-07-30T20:51:57.430223",
     "status": "completed"
    },
    "tags": []
   },
   "outputs": [
    {
     "data": {
      "text/plain": [
       "{'universe_id': ['ec29d55901dd67c0006182341807c624'],\n",
       " 'universe_training_year': ['2014'],\n",
       " 'universe_training_size': ['5k'],\n",
       " 'universe_scale': ['do-not-scale'],\n",
       " 'universe_model': ['penalized_logreg'],\n",
       " 'universe_exclude_features': ['sex'],\n",
       " 'universe_exclude_subgroups': ['keep-all'],\n",
       " 'q_hat': [0.6781420765700201],\n",
       " 'coverage': [0.9116597926652548],\n",
       " 'avg_size': [1.2057295730687771]}"
      ]
     },
     "execution_count": 59,
     "metadata": {},
     "output_type": "execute_result"
    }
   ],
   "source": [
    "cp_metrics_dict"
   ]
  },
  {
   "cell_type": "code",
   "execution_count": 60,
   "id": "33007efc-14e9-4ec6-97ac-56a455c82265",
   "metadata": {
    "execution": {
     "iopub.execute_input": "2025-07-30T20:51:57.515627Z",
     "iopub.status.busy": "2025-07-30T20:51:57.515134Z",
     "iopub.status.idle": "2025-07-30T20:51:57.521446Z",
     "shell.execute_reply": "2025-07-30T20:51:57.520424Z"
    },
    "papermill": {
     "duration": 0.034071,
     "end_time": "2025-07-30T20:51:57.523102",
     "exception": false,
     "start_time": "2025-07-30T20:51:57.489031",
     "status": "completed"
    },
    "tags": []
   },
   "outputs": [],
   "source": [
    "cp_metrics_df = pd.DataFrame(cp_metrics_dict)"
   ]
  },
  {
   "cell_type": "code",
   "execution_count": 61,
   "id": "db12611b-57b2-4910-b9d0-355adfd6e7bf",
   "metadata": {
    "execution": {
     "iopub.execute_input": "2025-07-30T20:51:57.576788Z",
     "iopub.status.busy": "2025-07-30T20:51:57.576205Z",
     "iopub.status.idle": "2025-07-30T20:51:57.594187Z",
     "shell.execute_reply": "2025-07-30T20:51:57.593097Z"
    },
    "papermill": {
     "duration": 0.044743,
     "end_time": "2025-07-30T20:51:57.596188",
     "exception": false,
     "start_time": "2025-07-30T20:51:57.551445",
     "status": "completed"
    },
    "tags": []
   },
   "outputs": [
    {
     "data": {
      "text/html": [
       "<div>\n",
       "<style scoped>\n",
       "    .dataframe tbody tr th:only-of-type {\n",
       "        vertical-align: middle;\n",
       "    }\n",
       "\n",
       "    .dataframe tbody tr th {\n",
       "        vertical-align: top;\n",
       "    }\n",
       "\n",
       "    .dataframe thead th {\n",
       "        text-align: right;\n",
       "    }\n",
       "</style>\n",
       "<table border=\"1\" class=\"dataframe\">\n",
       "  <thead>\n",
       "    <tr style=\"text-align: right;\">\n",
       "      <th></th>\n",
       "      <th>universe_id</th>\n",
       "      <th>universe_training_year</th>\n",
       "      <th>universe_training_size</th>\n",
       "      <th>universe_scale</th>\n",
       "      <th>universe_model</th>\n",
       "      <th>universe_exclude_features</th>\n",
       "      <th>universe_exclude_subgroups</th>\n",
       "      <th>q_hat</th>\n",
       "      <th>coverage</th>\n",
       "      <th>avg_size</th>\n",
       "    </tr>\n",
       "  </thead>\n",
       "  <tbody>\n",
       "    <tr>\n",
       "      <th>0</th>\n",
       "      <td>ec29d55901dd67c0006182341807c624</td>\n",
       "      <td>2014</td>\n",
       "      <td>5k</td>\n",
       "      <td>do-not-scale</td>\n",
       "      <td>penalized_logreg</td>\n",
       "      <td>sex</td>\n",
       "      <td>keep-all</td>\n",
       "      <td>0.678142</td>\n",
       "      <td>0.91166</td>\n",
       "      <td>1.20573</td>\n",
       "    </tr>\n",
       "  </tbody>\n",
       "</table>\n",
       "</div>"
      ],
      "text/plain": [
       "                        universe_id universe_training_year  \\\n",
       "0  ec29d55901dd67c0006182341807c624                   2014   \n",
       "\n",
       "  universe_training_size universe_scale    universe_model  \\\n",
       "0                     5k   do-not-scale  penalized_logreg   \n",
       "\n",
       "  universe_exclude_features universe_exclude_subgroups     q_hat  coverage  \\\n",
       "0                       sex                   keep-all  0.678142   0.91166   \n",
       "\n",
       "   avg_size  \n",
       "0   1.20573  "
      ]
     },
     "execution_count": 61,
     "metadata": {},
     "output_type": "execute_result"
    }
   ],
   "source": [
    "cp_metrics_df"
   ]
  },
  {
   "cell_type": "code",
   "execution_count": 62,
   "id": "b7fbde55-a0a1-47e4-9af6-fe4a17fa8c61",
   "metadata": {
    "execution": {
     "iopub.execute_input": "2025-07-30T20:51:57.639325Z",
     "iopub.status.busy": "2025-07-30T20:51:57.638973Z",
     "iopub.status.idle": "2025-07-30T20:51:57.644124Z",
     "shell.execute_reply": "2025-07-30T20:51:57.642976Z"
    },
    "papermill": {
     "duration": 0.02407,
     "end_time": "2025-07-30T20:51:57.646122",
     "exception": false,
     "start_time": "2025-07-30T20:51:57.622052",
     "status": "completed"
    },
    "tags": []
   },
   "outputs": [],
   "source": [
    "# Conditional Coverage & looking at subgroups"
   ]
  },
  {
   "cell_type": "code",
   "execution_count": 63,
   "id": "027ae886-68dd-4141-96c7-805a5450e1ef",
   "metadata": {
    "execution": {
     "iopub.execute_input": "2025-07-30T20:51:57.709891Z",
     "iopub.status.busy": "2025-07-30T20:51:57.709458Z",
     "iopub.status.idle": "2025-07-30T20:51:58.000784Z",
     "shell.execute_reply": "2025-07-30T20:51:57.999679Z"
    },
    "papermill": {
     "duration": 0.324018,
     "end_time": "2025-07-30T20:51:58.002899",
     "exception": false,
     "start_time": "2025-07-30T20:51:57.678881",
     "status": "completed"
    },
    "tags": []
   },
   "outputs": [],
   "source": [
    "from fairness_multiverse.conformal import build_cp_groups\n",
    "\n",
    "cp_groups_df = build_cp_groups(pred_sets, y_true, X_test.index, org_test)\n",
    "#needs universe_id and setting"
   ]
  },
  {
   "cell_type": "code",
   "execution_count": 64,
   "id": "01d5802c-663a-4d1f-9d69-e036faaffbf7",
   "metadata": {
    "execution": {
     "iopub.execute_input": "2025-07-30T20:51:58.063989Z",
     "iopub.status.busy": "2025-07-30T20:51:58.063469Z",
     "iopub.status.idle": "2025-07-30T20:51:58.068630Z",
     "shell.execute_reply": "2025-07-30T20:51:58.067698Z"
    },
    "papermill": {
     "duration": 0.037535,
     "end_time": "2025-07-30T20:51:58.070311",
     "exception": false,
     "start_time": "2025-07-30T20:51:58.032776",
     "status": "completed"
    },
    "tags": []
   },
   "outputs": [],
   "source": [
    "#delete\n",
    "#cp_groups_df"
   ]
  },
  {
   "cell_type": "code",
   "execution_count": 65,
   "id": "fa424af1-d1eb-443d-b717-2d279ada8408",
   "metadata": {
    "execution": {
     "iopub.execute_input": "2025-07-30T20:51:58.128502Z",
     "iopub.status.busy": "2025-07-30T20:51:58.127640Z",
     "iopub.status.idle": "2025-07-30T20:51:58.132768Z",
     "shell.execute_reply": "2025-07-30T20:51:58.131787Z"
    },
    "papermill": {
     "duration": 0.035958,
     "end_time": "2025-07-30T20:51:58.134594",
     "exception": false,
     "start_time": "2025-07-30T20:51:58.098636",
     "status": "completed"
    },
    "tags": []
   },
   "outputs": [],
   "source": [
    "#delete\n",
    "#percentage = (cp_groups_df['nongerman_female'] == 1).mean() * 100\n",
    "#print(percentage)\n"
   ]
  },
  {
   "cell_type": "code",
   "execution_count": 66,
   "id": "6cbdab96-b2b2-45af-ad54-d0516db2e28d",
   "metadata": {
    "execution": {
     "iopub.execute_input": "2025-07-30T20:51:58.194579Z",
     "iopub.status.busy": "2025-07-30T20:51:58.194093Z",
     "iopub.status.idle": "2025-07-30T20:51:59.759542Z",
     "shell.execute_reply": "2025-07-30T20:51:59.758738Z"
    },
    "papermill": {
     "duration": 1.596799,
     "end_time": "2025-07-30T20:51:59.760963",
     "exception": false,
     "start_time": "2025-07-30T20:51:58.164164",
     "status": "completed"
    },
    "tags": []
   },
   "outputs": [],
   "source": [
    "# Define covered = 1 if true_label is in the predicted set\n",
    "cp_groups_df['covered'] = cp_groups_df.apply(\n",
    "    lambda r: int(r['true_label'] in r['pred_set']),\n",
    "    axis=1\n",
    ")"
   ]
  },
  {
   "cell_type": "code",
   "execution_count": 67,
   "id": "338ff529-1a6b-4b87-a931-8e4788d52aad",
   "metadata": {
    "execution": {
     "iopub.execute_input": "2025-07-30T20:51:59.788985Z",
     "iopub.status.busy": "2025-07-30T20:51:59.788311Z",
     "iopub.status.idle": "2025-07-30T20:51:59.792684Z",
     "shell.execute_reply": "2025-07-30T20:51:59.792009Z"
    },
    "papermill": {
     "duration": 0.019392,
     "end_time": "2025-07-30T20:51:59.794014",
     "exception": false,
     "start_time": "2025-07-30T20:51:59.774622",
     "status": "completed"
    },
    "tags": []
   },
   "outputs": [],
   "source": [
    "#cp_groups_df"
   ]
  },
  {
   "cell_type": "code",
   "execution_count": 68,
   "id": "90032e27-66df-4540-9169-4e89cfbaa758",
   "metadata": {
    "execution": {
     "iopub.execute_input": "2025-07-30T20:51:59.825515Z",
     "iopub.status.busy": "2025-07-30T20:51:59.825223Z",
     "iopub.status.idle": "2025-07-30T20:51:59.833748Z",
     "shell.execute_reply": "2025-07-30T20:51:59.832994Z"
    },
    "papermill": {
     "duration": 0.023844,
     "end_time": "2025-07-30T20:51:59.835039",
     "exception": false,
     "start_time": "2025-07-30T20:51:59.811195",
     "status": "completed"
    },
    "tags": []
   },
   "outputs": [],
   "source": [
    "subgroups = ['frau1','nongerman','nongerman_male','nongerman_female']\n",
    "\n",
    "# Conditional coverage for subgroup==1\n",
    "cond_coverage = {\n",
    "    g: cp_groups_df.loc[cp_groups_df[g]==1, 'covered'].mean()\n",
    "    for g in subgroups\n",
    "}"
   ]
  },
  {
   "cell_type": "code",
   "execution_count": 69,
   "id": "1e348fb1-b9c3-45bc-ba23-f016827a7e0d",
   "metadata": {
    "execution": {
     "iopub.execute_input": "2025-07-30T20:51:59.865358Z",
     "iopub.status.busy": "2025-07-30T20:51:59.864503Z",
     "iopub.status.idle": "2025-07-30T20:51:59.871057Z",
     "shell.execute_reply": "2025-07-30T20:51:59.870263Z"
    },
    "papermill": {
     "duration": 0.023694,
     "end_time": "2025-07-30T20:51:59.872404",
     "exception": false,
     "start_time": "2025-07-30T20:51:59.848710",
     "status": "completed"
    },
    "tags": []
   },
   "outputs": [
    {
     "data": {
      "text/plain": [
       "{'frau1': 0.9090982612211889,\n",
       " 'nongerman': 0.9296581148599338,\n",
       " 'nongerman_male': 0.9446095649824372,\n",
       " 'nongerman_female': 0.9049180327868852}"
      ]
     },
     "execution_count": 69,
     "metadata": {},
     "output_type": "execute_result"
    }
   ],
   "source": [
    "cond_coverage"
   ]
  },
  {
   "cell_type": "code",
   "execution_count": 70,
   "id": "f5093324-c3dd-4d63-bc4c-8d945e5c8bbb",
   "metadata": {
    "execution": {
     "iopub.execute_input": "2025-07-30T20:51:59.901183Z",
     "iopub.status.busy": "2025-07-30T20:51:59.900574Z",
     "iopub.status.idle": "2025-07-30T20:51:59.906140Z",
     "shell.execute_reply": "2025-07-30T20:51:59.905449Z"
    },
    "papermill": {
     "duration": 0.020866,
     "end_time": "2025-07-30T20:51:59.907364",
     "exception": false,
     "start_time": "2025-07-30T20:51:59.886498",
     "status": "completed"
    },
    "tags": []
   },
   "outputs": [],
   "source": [
    "for subgroup, cov in cond_coverage.items():\n",
    "    cp_metrics_df[f\"cov_{subgroup}\"] = cov"
   ]
  },
  {
   "cell_type": "code",
   "execution_count": 71,
   "id": "6e872e10-dbe5-49e8-b554-5030c98ff75d",
   "metadata": {
    "execution": {
     "iopub.execute_input": "2025-07-30T20:51:59.939403Z",
     "iopub.status.busy": "2025-07-30T20:51:59.938893Z",
     "iopub.status.idle": "2025-07-30T20:51:59.952519Z",
     "shell.execute_reply": "2025-07-30T20:51:59.951644Z"
    },
    "papermill": {
     "duration": 0.031433,
     "end_time": "2025-07-30T20:51:59.953801",
     "exception": false,
     "start_time": "2025-07-30T20:51:59.922368",
     "status": "completed"
    },
    "tags": []
   },
   "outputs": [
    {
     "data": {
      "text/html": [
       "<div>\n",
       "<style scoped>\n",
       "    .dataframe tbody tr th:only-of-type {\n",
       "        vertical-align: middle;\n",
       "    }\n",
       "\n",
       "    .dataframe tbody tr th {\n",
       "        vertical-align: top;\n",
       "    }\n",
       "\n",
       "    .dataframe thead th {\n",
       "        text-align: right;\n",
       "    }\n",
       "</style>\n",
       "<table border=\"1\" class=\"dataframe\">\n",
       "  <thead>\n",
       "    <tr style=\"text-align: right;\">\n",
       "      <th></th>\n",
       "      <th>universe_id</th>\n",
       "      <th>universe_training_year</th>\n",
       "      <th>universe_training_size</th>\n",
       "      <th>universe_scale</th>\n",
       "      <th>universe_model</th>\n",
       "      <th>universe_exclude_features</th>\n",
       "      <th>universe_exclude_subgroups</th>\n",
       "      <th>q_hat</th>\n",
       "      <th>coverage</th>\n",
       "      <th>avg_size</th>\n",
       "      <th>cov_frau1</th>\n",
       "      <th>cov_nongerman</th>\n",
       "      <th>cov_nongerman_male</th>\n",
       "      <th>cov_nongerman_female</th>\n",
       "    </tr>\n",
       "  </thead>\n",
       "  <tbody>\n",
       "    <tr>\n",
       "      <th>0</th>\n",
       "      <td>ec29d55901dd67c0006182341807c624</td>\n",
       "      <td>2014</td>\n",
       "      <td>5k</td>\n",
       "      <td>do-not-scale</td>\n",
       "      <td>penalized_logreg</td>\n",
       "      <td>sex</td>\n",
       "      <td>keep-all</td>\n",
       "      <td>0.678142</td>\n",
       "      <td>0.91166</td>\n",
       "      <td>1.20573</td>\n",
       "      <td>0.909098</td>\n",
       "      <td>0.929658</td>\n",
       "      <td>0.94461</td>\n",
       "      <td>0.904918</td>\n",
       "    </tr>\n",
       "  </tbody>\n",
       "</table>\n",
       "</div>"
      ],
      "text/plain": [
       "                        universe_id universe_training_year  \\\n",
       "0  ec29d55901dd67c0006182341807c624                   2014   \n",
       "\n",
       "  universe_training_size universe_scale    universe_model  \\\n",
       "0                     5k   do-not-scale  penalized_logreg   \n",
       "\n",
       "  universe_exclude_features universe_exclude_subgroups     q_hat  coverage  \\\n",
       "0                       sex                   keep-all  0.678142   0.91166   \n",
       "\n",
       "   avg_size  cov_frau1  cov_nongerman  cov_nongerman_male  \\\n",
       "0   1.20573   0.909098       0.929658             0.94461   \n",
       "\n",
       "   cov_nongerman_female  \n",
       "0              0.904918  "
      ]
     },
     "execution_count": 71,
     "metadata": {},
     "output_type": "execute_result"
    }
   ],
   "source": [
    "cp_metrics_df"
   ]
  },
  {
   "cell_type": "markdown",
   "id": "33774451",
   "metadata": {
    "papermill": {
     "duration": 0.016222,
     "end_time": "2025-07-30T20:51:59.984144",
     "exception": false,
     "start_time": "2025-07-30T20:51:59.967922",
     "status": "completed"
    },
    "tags": []
   },
   "source": [
    "# (Fairness) Metrics"
   ]
  },
  {
   "cell_type": "code",
   "execution_count": 72,
   "id": "debc5d62",
   "metadata": {
    "execution": {
     "iopub.execute_input": "2025-07-30T20:52:00.014036Z",
     "iopub.status.busy": "2025-07-30T20:52:00.013693Z",
     "iopub.status.idle": "2025-07-30T20:52:00.026687Z",
     "shell.execute_reply": "2025-07-30T20:52:00.025999Z"
    },
    "papermill": {
     "duration": 0.028579,
     "end_time": "2025-07-30T20:52:00.027978",
     "exception": false,
     "start_time": "2025-07-30T20:51:59.999399",
     "status": "completed"
    },
    "tags": []
   },
   "outputs": [],
   "source": [
    "# do I need to include maxdeutsch1.missing?\n",
    "\n",
    "import numpy as np\n",
    "\n",
    "colname_to_bin = \"maxdeutsch1\"\n",
    "majority_value = org_train[colname_to_bin].mode()[0]\n",
    "\n",
    "org_test[\"majmin\"] = np.where(org_test[colname_to_bin] == majority_value, \"majority\", \"minority\")"
   ]
  },
  {
   "cell_type": "code",
   "execution_count": 73,
   "id": "06a50de5",
   "metadata": {
    "execution": {
     "iopub.execute_input": "2025-07-30T20:52:00.061829Z",
     "iopub.status.busy": "2025-07-30T20:52:00.061193Z",
     "iopub.status.idle": "2025-07-30T20:52:02.097173Z",
     "shell.execute_reply": "2025-07-30T20:52:02.096082Z"
    },
    "papermill": {
     "duration": 2.053881,
     "end_time": "2025-07-30T20:52:02.099067",
     "exception": false,
     "start_time": "2025-07-30T20:52:00.045186",
     "status": "completed"
    },
    "tags": []
   },
   "outputs": [],
   "source": [
    "example_universe = universe.copy()\n",
    "example_universe[\"cutoff\"] = example_universe[\"cutoff\"][0]\n",
    "example_universe[\"eval_fairness_grouping\"] = example_universe[\"eval_fairness_grouping\"][0]\n",
    "fairness_dict, metric_frame = universe_analysis.compute_metrics(\n",
    "    example_universe,\n",
    "    y_pred_prob=probs_test,\n",
    "    y_test=y_true,\n",
    "    org_test=org_test,\n",
    ")"
   ]
  },
  {
   "cell_type": "markdown",
   "id": "f95d4e02",
   "metadata": {
    "papermill": {
     "duration": 0.029441,
     "end_time": "2025-07-30T20:52:02.162173",
     "exception": false,
     "start_time": "2025-07-30T20:52:02.132732",
     "status": "completed"
    },
    "tags": []
   },
   "source": [
    "# Overall"
   ]
  },
  {
   "cell_type": "markdown",
   "id": "bdee4871",
   "metadata": {
    "papermill": {
     "duration": 0.028792,
     "end_time": "2025-07-30T20:52:02.220816",
     "exception": false,
     "start_time": "2025-07-30T20:52:02.192024",
     "status": "completed"
    },
    "tags": []
   },
   "source": [
    "Fairness\n",
    "Main fairness target: Equalized Odds. Seems to be a better fit than equal opportunity, since we're not only interested in Y = 1. Seems to be a better fit than demographic parity, since we also care about accuracy, not just equal distribution of preds.\n",
    "\n",
    "Pick column for computation of fairness metrics\n",
    "\n",
    "Performance\n",
    "Overall performance measures, most interesting in relation to the measures split by group below"
   ]
  },
  {
   "cell_type": "code",
   "execution_count": 74,
   "id": "c4e067c6",
   "metadata": {
    "execution": {
     "iopub.execute_input": "2025-07-30T20:52:02.281358Z",
     "iopub.status.busy": "2025-07-30T20:52:02.280439Z",
     "iopub.status.idle": "2025-07-30T20:52:02.289551Z",
     "shell.execute_reply": "2025-07-30T20:52:02.288475Z"
    },
    "papermill": {
     "duration": 0.040894,
     "end_time": "2025-07-30T20:52:02.291196",
     "exception": false,
     "start_time": "2025-07-30T20:52:02.250302",
     "status": "completed"
    },
    "tags": []
   },
   "outputs": [
    {
     "data": {
      "text/plain": [
       "accuracy                   0.216241\n",
       "balanced accuracy          0.530443\n",
       "f1                         0.237796\n",
       "precision                  0.135845\n",
       "false positive rate        0.892189\n",
       "false negative rate        0.046924\n",
       "selection rate             0.900000\n",
       "count                  89710.000000\n",
       "dtype: float64"
      ]
     },
     "execution_count": 74,
     "metadata": {},
     "output_type": "execute_result"
    }
   ],
   "source": [
    "metric_frame.overall"
   ]
  },
  {
   "cell_type": "markdown",
   "id": "e968fe9d",
   "metadata": {
    "papermill": {
     "duration": 0.029607,
     "end_time": "2025-07-30T20:52:02.351391",
     "exception": false,
     "start_time": "2025-07-30T20:52:02.321784",
     "status": "completed"
    },
    "tags": []
   },
   "source": [
    "By Group"
   ]
  },
  {
   "cell_type": "code",
   "execution_count": 75,
   "id": "ec325bce",
   "metadata": {
    "execution": {
     "iopub.execute_input": "2025-07-30T20:52:02.414730Z",
     "iopub.status.busy": "2025-07-30T20:52:02.414260Z",
     "iopub.status.idle": "2025-07-30T20:52:02.429746Z",
     "shell.execute_reply": "2025-07-30T20:52:02.428834Z"
    },
    "papermill": {
     "duration": 0.048956,
     "end_time": "2025-07-30T20:52:02.431352",
     "exception": false,
     "start_time": "2025-07-30T20:52:02.382396",
     "status": "completed"
    },
    "tags": []
   },
   "outputs": [
    {
     "data": {
      "text/html": [
       "<div>\n",
       "<style scoped>\n",
       "    .dataframe tbody tr th:only-of-type {\n",
       "        vertical-align: middle;\n",
       "    }\n",
       "\n",
       "    .dataframe tbody tr th {\n",
       "        vertical-align: top;\n",
       "    }\n",
       "\n",
       "    .dataframe thead th {\n",
       "        text-align: right;\n",
       "    }\n",
       "</style>\n",
       "<table border=\"1\" class=\"dataframe\">\n",
       "  <thead>\n",
       "    <tr style=\"text-align: right;\">\n",
       "      <th></th>\n",
       "      <th>accuracy</th>\n",
       "      <th>balanced accuracy</th>\n",
       "      <th>f1</th>\n",
       "      <th>precision</th>\n",
       "      <th>false positive rate</th>\n",
       "      <th>false negative rate</th>\n",
       "      <th>selection rate</th>\n",
       "      <th>count</th>\n",
       "    </tr>\n",
       "    <tr>\n",
       "      <th>majmin</th>\n",
       "      <th></th>\n",
       "      <th></th>\n",
       "      <th></th>\n",
       "      <th></th>\n",
       "      <th></th>\n",
       "      <th></th>\n",
       "      <th></th>\n",
       "      <th></th>\n",
       "    </tr>\n",
       "  </thead>\n",
       "  <tbody>\n",
       "    <tr>\n",
       "      <th>majority</th>\n",
       "      <td>0.237646</td>\n",
       "      <td>0.537645</td>\n",
       "      <td>0.246836</td>\n",
       "      <td>0.141949</td>\n",
       "      <td>0.870115</td>\n",
       "      <td>0.054595</td>\n",
       "      <td>0.880064</td>\n",
       "      <td>69170.0</td>\n",
       "    </tr>\n",
       "    <tr>\n",
       "      <th>minority</th>\n",
       "      <td>0.144158</td>\n",
       "      <td>0.508787</td>\n",
       "      <td>0.209328</td>\n",
       "      <td>0.117141</td>\n",
       "      <td>0.965111</td>\n",
       "      <td>0.017314</td>\n",
       "      <td>0.967137</td>\n",
       "      <td>20540.0</td>\n",
       "    </tr>\n",
       "  </tbody>\n",
       "</table>\n",
       "</div>"
      ],
      "text/plain": [
       "          accuracy  balanced accuracy        f1  precision  \\\n",
       "majmin                                                       \n",
       "majority  0.237646           0.537645  0.246836   0.141949   \n",
       "minority  0.144158           0.508787  0.209328   0.117141   \n",
       "\n",
       "          false positive rate  false negative rate  selection rate    count  \n",
       "majmin                                                                       \n",
       "majority             0.870115             0.054595        0.880064  69170.0  \n",
       "minority             0.965111             0.017314        0.967137  20540.0  "
      ]
     },
     "execution_count": 75,
     "metadata": {},
     "output_type": "execute_result"
    }
   ],
   "source": [
    "metric_frame.by_group"
   ]
  },
  {
   "cell_type": "code",
   "execution_count": 76,
   "id": "a9ddbe63",
   "metadata": {
    "execution": {
     "iopub.execute_input": "2025-07-30T20:52:02.492574Z",
     "iopub.status.busy": "2025-07-30T20:52:02.491893Z",
     "iopub.status.idle": "2025-07-30T20:52:04.476142Z",
     "shell.execute_reply": "2025-07-30T20:52:04.475395Z"
    },
    "papermill": {
     "duration": 2.015909,
     "end_time": "2025-07-30T20:52:04.477877",
     "exception": false,
     "start_time": "2025-07-30T20:52:02.461968",
     "status": "completed"
    },
    "tags": []
   },
   "outputs": [
    {
     "data": {
      "text/plain": [
       "array([[<Axes: title={'center': 'accuracy'}, xlabel='majmin'>,\n",
       "        <Axes: title={'center': 'balanced accuracy'}, xlabel='majmin'>,\n",
       "        <Axes: title={'center': 'f1'}, xlabel='majmin'>],\n",
       "       [<Axes: title={'center': 'precision'}, xlabel='majmin'>,\n",
       "        <Axes: title={'center': 'false positive rate'}, xlabel='majmin'>,\n",
       "        <Axes: title={'center': 'false negative rate'}, xlabel='majmin'>],\n",
       "       [<Axes: title={'center': 'selection rate'}, xlabel='majmin'>,\n",
       "        <Axes: title={'center': 'count'}, xlabel='majmin'>,\n",
       "        <Axes: xlabel='majmin'>]], dtype=object)"
      ]
     },
     "execution_count": 76,
     "metadata": {},
     "output_type": "execute_result"
    },
    {
     "data": {
      "image/png": "[encoded data removed]",
      "text/plain": [
       "<Figure size 1200x800 with 9 Axes>"
      ]
     },
     "metadata": {},
     "output_type": "display_data"
    }
   ],
   "source": [
    "# In a graphic\n",
    "metric_frame.by_group.plot.bar(\n",
    "    subplots=True,\n",
    "    layout=[3, 3],\n",
    "    legend=False,\n",
    "    figsize=[12, 8],\n",
    "    title=\"Show all metrics\",\n",
    ")"
   ]
  },
  {
   "cell_type": "markdown",
   "id": "f57a0bac",
   "metadata": {
    "papermill": {
     "duration": 0.026117,
     "end_time": "2025-07-30T20:52:04.530945",
     "exception": false,
     "start_time": "2025-07-30T20:52:04.504828",
     "status": "completed"
    },
    "tags": []
   },
   "source": [
    "# Final Output"
   ]
  },
  {
   "cell_type": "code",
   "execution_count": 77,
   "id": "96d280a3",
   "metadata": {
    "execution": {
     "iopub.execute_input": "2025-07-30T20:52:04.587389Z",
     "iopub.status.busy": "2025-07-30T20:52:04.586229Z",
     "iopub.status.idle": "2025-07-30T20:52:04.594683Z",
     "shell.execute_reply": "2025-07-30T20:52:04.593841Z"
    },
    "papermill": {
     "duration": 0.038567,
     "end_time": "2025-07-30T20:52:04.596205",
     "exception": false,
     "start_time": "2025-07-30T20:52:04.557638",
     "status": "completed"
    },
    "tags": []
   },
   "outputs": [
    {
     "data": {
      "text/plain": [
       "4"
      ]
     },
     "execution_count": 77,
     "metadata": {},
     "output_type": "execute_result"
    }
   ],
   "source": [
    "sub_universes = universe_analysis.generate_sub_universes()\n",
    "len(sub_universes)"
   ]
  },
  {
   "cell_type": "code",
   "execution_count": 78,
   "id": "92adf7ba",
   "metadata": {
    "execution": {
     "iopub.execute_input": "2025-07-30T20:52:04.654503Z",
     "iopub.status.busy": "2025-07-30T20:52:04.653596Z",
     "iopub.status.idle": "2025-07-30T20:52:04.659561Z",
     "shell.execute_reply": "2025-07-30T20:52:04.658695Z"
    },
    "papermill": {
     "duration": 0.036255,
     "end_time": "2025-07-30T20:52:04.660981",
     "exception": false,
     "start_time": "2025-07-30T20:52:04.624726",
     "status": "completed"
    },
    "tags": []
   },
   "outputs": [],
   "source": [
    "def filter_sub_universe_data(sub_universe, org_test):\n",
    "    # Keep all rows — no filtering\n",
    "    keep_rows_mask = np.ones(org_test.shape[0], dtype=bool)\n",
    "\n",
    "    print(f\"[INFO] Keeping all rows: {keep_rows_mask.sum()} rows retained.\")\n",
    "    return keep_rows_mask"
   ]
  },
  {
   "cell_type": "code",
   "execution_count": 79,
   "id": "4a759155",
   "metadata": {
    "execution": {
     "iopub.execute_input": "2025-07-30T20:52:04.718592Z",
     "iopub.status.busy": "2025-07-30T20:52:04.717623Z",
     "iopub.status.idle": "2025-07-30T20:52:15.745425Z",
     "shell.execute_reply": "2025-07-30T20:52:15.744506Z"
    },
    "papermill": {
     "duration": 11.057849,
     "end_time": "2025-07-30T20:52:15.746973",
     "exception": false,
     "start_time": "2025-07-30T20:52:04.689124",
     "status": "completed"
    },
    "tags": []
   },
   "outputs": [
    {
     "name": "stdout",
     "output_type": "stream",
     "text": [
      "Stopping execution_time clock.\n",
      "[INFO] Keeping all rows: 89710 rows retained.\n"
     ]
    },
    {
     "name": "stdout",
     "output_type": "stream",
     "text": [
      "[INFO] Keeping all rows: 89710 rows retained.\n"
     ]
    },
    {
     "name": "stdout",
     "output_type": "stream",
     "text": [
      "[INFO] Keeping all rows: 89710 rows retained.\n"
     ]
    },
    {
     "name": "stdout",
     "output_type": "stream",
     "text": [
      "[INFO] Keeping all rows: 89710 rows retained.\n"
     ]
    },
    {
     "data": {
      "text/html": [
       "<div>\n",
       "<style scoped>\n",
       "    .dataframe tbody tr th:only-of-type {\n",
       "        vertical-align: middle;\n",
       "    }\n",
       "\n",
       "    .dataframe tbody tr th {\n",
       "        vertical-align: top;\n",
       "    }\n",
       "\n",
       "    .dataframe thead th {\n",
       "        text-align: right;\n",
       "    }\n",
       "</style>\n",
       "<table border=\"1\" class=\"dataframe\">\n",
       "  <thead>\n",
       "    <tr style=\"text-align: right;\">\n",
       "      <th></th>\n",
       "      <th>run_no</th>\n",
       "      <th>universe_id</th>\n",
       "      <th>universe_settings</th>\n",
       "      <th>execution_time</th>\n",
       "      <th>test_size_n</th>\n",
       "      <th>test_size_frac</th>\n",
       "      <th>fair_main_equalized_odds_difference</th>\n",
       "      <th>fair_main_equalized_odds_ratio</th>\n",
       "      <th>fair_main_demographic_parity_difference</th>\n",
       "      <th>fair_main_demographic_parity_ratio</th>\n",
       "      <th>...</th>\n",
       "      <th>perf_grp_precision_0</th>\n",
       "      <th>perf_grp_precision_1</th>\n",
       "      <th>perf_grp_false positive rate_0</th>\n",
       "      <th>perf_grp_false positive rate_1</th>\n",
       "      <th>perf_grp_false negative rate_0</th>\n",
       "      <th>perf_grp_false negative rate_1</th>\n",
       "      <th>perf_grp_selection rate_0</th>\n",
       "      <th>perf_grp_selection rate_1</th>\n",
       "      <th>perf_grp_count_0</th>\n",
       "      <th>perf_grp_count_1</th>\n",
       "    </tr>\n",
       "  </thead>\n",
       "  <tbody>\n",
       "    <tr>\n",
       "      <th>0</th>\n",
       "      <td>14</td>\n",
       "      <td>ec29d55901dd67c0006182341807c624</td>\n",
       "      <td>{\"cutoff\": \"quantile_0.1\", \"eval_fairness_grou...</td>\n",
       "      <td>25.925512</td>\n",
       "      <td>89710</td>\n",
       "      <td>1.0</td>\n",
       "      <td>0.094996</td>\n",
       "      <td>0.901570</td>\n",
       "      <td>0.087074</td>\n",
       "      <td>0.909968</td>\n",
       "      <td>...</td>\n",
       "      <td>NaN</td>\n",
       "      <td>NaN</td>\n",
       "      <td>NaN</td>\n",
       "      <td>NaN</td>\n",
       "      <td>NaN</td>\n",
       "      <td>NaN</td>\n",
       "      <td>NaN</td>\n",
       "      <td>NaN</td>\n",
       "      <td>NaN</td>\n",
       "      <td>NaN</td>\n",
       "    </tr>\n",
       "    <tr>\n",
       "      <th>0</th>\n",
       "      <td>14</td>\n",
       "      <td>ec29d55901dd67c0006182341807c624</td>\n",
       "      <td>{\"cutoff\": \"quantile_0.1\", \"eval_fairness_grou...</td>\n",
       "      <td>25.925512</td>\n",
       "      <td>89710</td>\n",
       "      <td>1.0</td>\n",
       "      <td>0.094996</td>\n",
       "      <td>0.901570</td>\n",
       "      <td>0.087074</td>\n",
       "      <td>0.909968</td>\n",
       "      <td>...</td>\n",
       "      <td>0.117141</td>\n",
       "      <td>0.141949</td>\n",
       "      <td>0.965111</td>\n",
       "      <td>0.870115</td>\n",
       "      <td>0.017314</td>\n",
       "      <td>0.054595</td>\n",
       "      <td>0.967137</td>\n",
       "      <td>0.880064</td>\n",
       "      <td>20540.0</td>\n",
       "      <td>69170.0</td>\n",
       "    </tr>\n",
       "    <tr>\n",
       "      <th>0</th>\n",
       "      <td>14</td>\n",
       "      <td>ec29d55901dd67c0006182341807c624</td>\n",
       "      <td>{\"cutoff\": \"quantile_0.25\", \"eval_fairness_gro...</td>\n",
       "      <td>25.925512</td>\n",
       "      <td>89710</td>\n",
       "      <td>1.0</td>\n",
       "      <td>0.210606</td>\n",
       "      <td>0.763903</td>\n",
       "      <td>0.193287</td>\n",
       "      <td>0.785004</td>\n",
       "      <td>...</td>\n",
       "      <td>NaN</td>\n",
       "      <td>NaN</td>\n",
       "      <td>NaN</td>\n",
       "      <td>NaN</td>\n",
       "      <td>NaN</td>\n",
       "      <td>NaN</td>\n",
       "      <td>NaN</td>\n",
       "      <td>NaN</td>\n",
       "      <td>NaN</td>\n",
       "      <td>NaN</td>\n",
       "    </tr>\n",
       "    <tr>\n",
       "      <th>0</th>\n",
       "      <td>14</td>\n",
       "      <td>ec29d55901dd67c0006182341807c624</td>\n",
       "      <td>{\"cutoff\": \"quantile_0.25\", \"eval_fairness_gro...</td>\n",
       "      <td>25.925512</td>\n",
       "      <td>89710</td>\n",
       "      <td>1.0</td>\n",
       "      <td>0.210606</td>\n",
       "      <td>0.763903</td>\n",
       "      <td>0.193287</td>\n",
       "      <td>0.785004</td>\n",
       "      <td>...</td>\n",
       "      <td>0.122170</td>\n",
       "      <td>0.162037</td>\n",
       "      <td>0.892032</td>\n",
       "      <td>0.681426</td>\n",
       "      <td>0.047297</td>\n",
       "      <td>0.134573</td>\n",
       "      <td>0.899026</td>\n",
       "      <td>0.705739</td>\n",
       "      <td>20540.0</td>\n",
       "      <td>69170.0</td>\n",
       "    </tr>\n",
       "  </tbody>\n",
       "</table>\n",
       "<p>4 rows × 50 columns</p>\n",
       "</div>"
      ],
      "text/plain": [
       "  run_no                       universe_id  \\\n",
       "0     14  ec29d55901dd67c0006182341807c624   \n",
       "0     14  ec29d55901dd67c0006182341807c624   \n",
       "0     14  ec29d55901dd67c0006182341807c624   \n",
       "0     14  ec29d55901dd67c0006182341807c624   \n",
       "\n",
       "                                   universe_settings  execution_time  \\\n",
       "0  {\"cutoff\": \"quantile_0.1\", \"eval_fairness_grou...       25.925512   \n",
       "0  {\"cutoff\": \"quantile_0.1\", \"eval_fairness_grou...       25.925512   \n",
       "0  {\"cutoff\": \"quantile_0.25\", \"eval_fairness_gro...       25.925512   \n",
       "0  {\"cutoff\": \"quantile_0.25\", \"eval_fairness_gro...       25.925512   \n",
       "\n",
       "   test_size_n  test_size_frac  fair_main_equalized_odds_difference  \\\n",
       "0        89710             1.0                             0.094996   \n",
       "0        89710             1.0                             0.094996   \n",
       "0        89710             1.0                             0.210606   \n",
       "0        89710             1.0                             0.210606   \n",
       "\n",
       "   fair_main_equalized_odds_ratio  fair_main_demographic_parity_difference  \\\n",
       "0                        0.901570                                 0.087074   \n",
       "0                        0.901570                                 0.087074   \n",
       "0                        0.763903                                 0.193287   \n",
       "0                        0.763903                                 0.193287   \n",
       "\n",
       "   fair_main_demographic_parity_ratio  ...  perf_grp_precision_0  \\\n",
       "0                            0.909968  ...                   NaN   \n",
       "0                            0.909968  ...              0.117141   \n",
       "0                            0.785004  ...                   NaN   \n",
       "0                            0.785004  ...              0.122170   \n",
       "\n",
       "   perf_grp_precision_1  perf_grp_false positive rate_0  \\\n",
       "0                   NaN                             NaN   \n",
       "0              0.141949                        0.965111   \n",
       "0                   NaN                             NaN   \n",
       "0              0.162037                        0.892032   \n",
       "\n",
       "   perf_grp_false positive rate_1  perf_grp_false negative rate_0  \\\n",
       "0                             NaN                             NaN   \n",
       "0                        0.870115                        0.017314   \n",
       "0                             NaN                             NaN   \n",
       "0                        0.681426                        0.047297   \n",
       "\n",
       "   perf_grp_false negative rate_1  perf_grp_selection rate_0  \\\n",
       "0                             NaN                        NaN   \n",
       "0                        0.054595                   0.967137   \n",
       "0                             NaN                        NaN   \n",
       "0                        0.134573                   0.899026   \n",
       "\n",
       "   perf_grp_selection rate_1  perf_grp_count_0  perf_grp_count_1  \n",
       "0                        NaN               NaN               NaN  \n",
       "0                   0.880064           20540.0           69170.0  \n",
       "0                        NaN               NaN               NaN  \n",
       "0                   0.705739           20540.0           69170.0  \n",
       "\n",
       "[4 rows x 50 columns]"
      ]
     },
     "execution_count": 79,
     "metadata": {},
     "output_type": "execute_result"
    }
   ],
   "source": [
    "final_output = universe_analysis.generate_final_output(\n",
    "    y_pred_prob=probs_test,\n",
    "    y_test=y_true,\n",
    "    org_test=org_test,\n",
    "    filter_data=filter_sub_universe_data,\n",
    "    cp_metrics_df=cp_metrics_df,\n",
    "    save=True,\n",
    ")\n",
    "final_output"
   ]
  },
  {
   "cell_type": "code",
   "execution_count": null,
   "id": "721ff514-cb11-46f8-b6fc-50392f74b5cb",
   "metadata": {
    "papermill": {
     "duration": 0.016497,
     "end_time": "2025-07-30T20:52:15.786256",
     "exception": false,
     "start_time": "2025-07-30T20:52:15.769759",
     "status": "completed"
    },
    "tags": []
   },
   "outputs": [],
   "source": []
  }
 ],
 "metadata": {
  "celltoolbar": "Tags",
  "kernelspec": {
   "display_name": "Python (CMA Fairness)",
   "language": "python",
   "name": "cma_fair_env"
  },
  "language_info": {
   "codemirror_mode": {
    "name": "ipython",
    "version": 3
   },
   "file_extension": ".py",
   "mimetype": "text/x-python",
   "name": "python",
   "nbconvert_exporter": "python",
   "pygments_lexer": "ipython3",
   "version": "3.10.12"
  },
  "papermill": {
   "default_parameters": {},
   "duration": 41.007674,
   "end_time": "2025-07-30T20:52:16.521193",
   "environment_variables": {},
   "exception": null,
   "input_path": "universe_analysis.ipynb",
   "output_path": "output/runs/14/notebooks/m_14-ec29d55901dd67c0006182341807c624.ipynb",
   "parameters": {
    "output_dir": "output",
    "run_no": "14",
    "seed": "2023",
    "universe": "{\"cutoff\": [\"quantile_0.1\", \"quantile_0.25\"], \"eval_fairness_grouping\": [\"majority-minority\", \"nationality-all\"], \"exclude_features\": \"sex\", \"exclude_subgroups\": \"keep-all\", \"model\": \"penalized_logreg\", \"scale\": \"do-not-scale\", \"training_size\": \"5k\", \"training_year\": \"2014\"}",
    "universe_id": "ec29d55901dd67c0006182341807c624"
   },
   "start_time": "2025-07-30T20:51:35.513519",
   "version": "2.6.0"
  }
 },
 "nbformat": 4,
 "nbformat_minor": 5
}