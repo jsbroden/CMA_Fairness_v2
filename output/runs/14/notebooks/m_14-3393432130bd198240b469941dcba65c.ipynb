{
 "cells": [
  {
   "cell_type": "code",
   "execution_count": 1,
   "id": "f159f837-637b-42ba-96b5-ec9a68c44524",
   "metadata": {
    "execution": {
     "iopub.execute_input": "2025-07-30T20:49:48.703948Z",
     "iopub.status.busy": "2025-07-30T20:49:48.703495Z",
     "iopub.status.idle": "2025-07-30T20:49:48.716604Z",
     "shell.execute_reply": "2025-07-30T20:49:48.715536Z"
    },
    "papermill": {
     "duration": 0.034376,
     "end_time": "2025-07-30T20:49:48.718009",
     "exception": false,
     "start_time": "2025-07-30T20:49:48.683633",
     "status": "completed"
    },
    "tags": []
   },
   "outputs": [
    {
     "name": "stdout",
     "output_type": "stream",
     "text": [
      "/dss/dsshome1/0C/ra93lal2/cma/CMA_Fairness_v2\n"
     ]
    },
    {
     "name": "stderr",
     "output_type": "stream",
     "text": [
      "/dss/dsshome1/0C/ra93lal2/.local/share/virtualenvs/CMA_Fairness_v2-3j10GkSs/lib/python3.10/site-packages/IPython/core/magics/osm.py:393: UserWarning: This is now an optional IPython functionality, using bookmarks requires you to install the `pickleshare` library.\n",
      "  bkms = self.shell.db.get('bookmarks', {})\n",
      "/dss/dsshome1/0C/ra93lal2/.local/share/virtualenvs/CMA_Fairness_v2-3j10GkSs/lib/python3.10/site-packages/IPython/core/magics/osm.py:417: UserWarning: This is now an optional IPython functionality, setting dhist requires you to install the `pickleshare` library.\n",
      "  self.shell.db['dhist'] = compress_dhist(dhist)[-100:]\n"
     ]
    }
   ],
   "source": [
    "%cd ~/cma/CMA_Fairness_v2"
   ]
  },
  {
   "cell_type": "markdown",
   "id": "de2603b9",
   "metadata": {
    "papermill": {
     "duration": 0.017764,
     "end_time": "2025-07-30T20:49:48.754436",
     "exception": false,
     "start_time": "2025-07-30T20:49:48.736672",
     "status": "completed"
    },
    "tags": []
   },
   "source": [
    "The following cell holds the definition of our parameters, these values can be overriden by rendering the with e.g. the following command:\n",
    "\n",
    "papermill -p alpha 0.2 -p ratio 0.3 universe_analysis.ipynb output/test_run.ipynb"
   ]
  },
  {
   "cell_type": "code",
   "execution_count": 2,
   "id": "a80968a0-40bb-4fa9-85ef-2d5eefb01975",
   "metadata": {
    "execution": {
     "iopub.execute_input": "2025-07-30T20:49:48.790933Z",
     "iopub.status.busy": "2025-07-30T20:49:48.790319Z",
     "iopub.status.idle": "2025-07-30T20:49:48.796164Z",
     "shell.execute_reply": "2025-07-30T20:49:48.795153Z"
    },
    "papermill": {
     "duration": 0.025945,
     "end_time": "2025-07-30T20:49:48.797675",
     "exception": false,
     "start_time": "2025-07-30T20:49:48.771730",
     "status": "completed"
    },
    "tags": []
   },
   "outputs": [
    {
     "name": "stdout",
     "output_type": "stream",
     "text": [
      "Current working directory: /dss/dsshome1/0C/ra93lal2/cma/CMA_Fairness_v2\n"
     ]
    }
   ],
   "source": [
    "import os\n",
    "print(\"Current working directory:\", os.getcwd())"
   ]
  },
  {
   "cell_type": "code",
   "execution_count": 3,
   "id": "2dce4c03",
   "metadata": {
    "execution": {
     "iopub.execute_input": "2025-07-30T20:49:48.835592Z",
     "iopub.status.busy": "2025-07-30T20:49:48.835036Z",
     "iopub.status.idle": "2025-07-30T20:49:48.840853Z",
     "shell.execute_reply": "2025-07-30T20:49:48.840064Z"
    },
    "papermill": {
     "duration": 0.02616,
     "end_time": "2025-07-30T20:49:48.842315",
     "exception": false,
     "start_time": "2025-07-30T20:49:48.816155",
     "status": "completed"
    },
    "tags": [
     "parameters"
    ]
   },
   "outputs": [],
   "source": [
    "run_no = 0\n",
    "universe_id = \"test\"\n",
    "universe = {\n",
    "    \"training_size\": \"25k\", # \"25k\", \"5k\", \"1k\"\n",
    "    \"training_year\": \"2014\", # \"2014\", \"2012_14\", \"2010_14\"\n",
    "    \"scale\": \"scale\", # \"scale\", \"do-not-scale\",\n",
    "    #\"stratify_split\": \"target\", # \"none\", \"target\", \"protected-attribute\", \"both\",\n",
    "    \"model\": \"elasticnet\", # \"logreg\", \"penalized_logreg\", \"rf\", \"gbm\", \"elasticnet\"\n",
    "    \"cutoff\": [\"quantile_0.15\", \"quantile_0.30\"],\n",
    "    \"exclude_features\": \"age\", # \"none\", \"nationality\", \"sex\", \"nationality-sex\", \"age\"\n",
    "    \"exclude_subgroups\": \"keep-all\", # \"keep-all\", \"drop-non-german\"\n",
    "    \"eval_fairness_grouping\": [\"majority-minority\", \"nationality-all\"]\n",
    "}\n",
    "\n",
    "output_dir=\"./output\"\n",
    "seed=0"
   ]
  },
  {
   "cell_type": "code",
   "execution_count": 4,
   "id": "0595a571",
   "metadata": {
    "execution": {
     "iopub.execute_input": "2025-07-30T20:49:48.879881Z",
     "iopub.status.busy": "2025-07-30T20:49:48.879139Z",
     "iopub.status.idle": "2025-07-30T20:49:48.884416Z",
     "shell.execute_reply": "2025-07-30T20:49:48.883449Z"
    },
    "papermill": {
     "duration": 0.025179,
     "end_time": "2025-07-30T20:49:48.885921",
     "exception": false,
     "start_time": "2025-07-30T20:49:48.860742",
     "status": "completed"
    },
    "tags": [
     "injected-parameters"
    ]
   },
   "outputs": [],
   "source": [
    "# Parameters\n",
    "universe_id = \"3393432130bd198240b469941dcba65c\"\n",
    "run_no = \"14\"\n",
    "universe = \"{\\\"cutoff\\\": [\\\"quantile_0.1\\\", \\\"quantile_0.25\\\"], \\\"eval_fairness_grouping\\\": [\\\"majority-minority\\\", \\\"nationality-all\\\"], \\\"exclude_features\\\": \\\"age\\\", \\\"exclude_subgroups\\\": \\\"keep-all\\\", \\\"model\\\": \\\"elasticnet\\\", \\\"scale\\\": \\\"scale\\\", \\\"training_size\\\": \\\"5k\\\", \\\"training_year\\\": \\\"2014\\\"}\"\n",
    "output_dir = \"output\"\n",
    "seed = \"2023\"\n"
   ]
  },
  {
   "cell_type": "code",
   "execution_count": 5,
   "id": "1650acaf",
   "metadata": {
    "execution": {
     "iopub.execute_input": "2025-07-30T20:49:48.923491Z",
     "iopub.status.busy": "2025-07-30T20:49:48.922776Z",
     "iopub.status.idle": "2025-07-30T20:49:48.927626Z",
     "shell.execute_reply": "2025-07-30T20:49:48.926785Z"
    },
    "papermill": {
     "duration": 0.024847,
     "end_time": "2025-07-30T20:49:48.929062",
     "exception": false,
     "start_time": "2025-07-30T20:49:48.904215",
     "status": "completed"
    },
    "tags": []
   },
   "outputs": [],
   "source": [
    "import json\n",
    "# Parse universe into dict if it is passed as a string\n",
    "if isinstance(universe, str):\n",
    "    universe = json.loads(universe)"
   ]
  },
  {
   "cell_type": "code",
   "execution_count": 6,
   "id": "16620c48",
   "metadata": {
    "execution": {
     "iopub.execute_input": "2025-07-30T20:49:48.966728Z",
     "iopub.status.busy": "2025-07-30T20:49:48.965981Z",
     "iopub.status.idle": "2025-07-30T20:49:49.008749Z",
     "shell.execute_reply": "2025-07-30T20:49:49.007908Z"
    },
    "papermill": {
     "duration": 0.062941,
     "end_time": "2025-07-30T20:49:49.010356",
     "exception": false,
     "start_time": "2025-07-30T20:49:48.947415",
     "status": "completed"
    },
    "tags": []
   },
   "outputs": [],
   "source": [
    "# Auto-reload the custom package\n",
    "%load_ext autoreload\n",
    "%autoreload 1\n",
    "%aimport fairness_multiverse"
   ]
  },
  {
   "cell_type": "code",
   "execution_count": 7,
   "id": "01c5c9f3",
   "metadata": {
    "execution": {
     "iopub.execute_input": "2025-07-30T20:49:49.048498Z",
     "iopub.status.busy": "2025-07-30T20:49:49.047715Z",
     "iopub.status.idle": "2025-07-30T20:49:50.936072Z",
     "shell.execute_reply": "2025-07-30T20:49:50.934952Z"
    },
    "papermill": {
     "duration": 1.909142,
     "end_time": "2025-07-30T20:49:50.938018",
     "exception": false,
     "start_time": "2025-07-30T20:49:49.028876",
     "status": "completed"
    },
    "tags": []
   },
   "outputs": [],
   "source": [
    "from fairness_multiverse.universe import UniverseAnalysis\n",
    "\n",
    "universe_analysis = UniverseAnalysis(\n",
    "    run_no = run_no,\n",
    "    universe_id = universe_id,\n",
    "    universe = universe,\n",
    "    output_dir=output_dir,\n",
    ")"
   ]
  },
  {
   "cell_type": "code",
   "execution_count": 8,
   "id": "106241f5",
   "metadata": {
    "execution": {
     "iopub.execute_input": "2025-07-30T20:49:50.979813Z",
     "iopub.status.busy": "2025-07-30T20:49:50.979341Z",
     "iopub.status.idle": "2025-07-30T20:49:50.986338Z",
     "shell.execute_reply": "2025-07-30T20:49:50.985398Z"
    },
    "papermill": {
     "duration": 0.028568,
     "end_time": "2025-07-30T20:49:50.987915",
     "exception": false,
     "start_time": "2025-07-30T20:49:50.959347",
     "status": "completed"
    },
    "tags": []
   },
   "outputs": [
    {
     "name": "stdout",
     "output_type": "stream",
     "text": [
      "Using Seed: 2023\n"
     ]
    }
   ],
   "source": [
    "import numpy as np\n",
    "parsed_seed = int(seed)\n",
    "np.random.seed(parsed_seed)\n",
    "print(f\"Using Seed: {parsed_seed}\")"
   ]
  },
  {
   "cell_type": "markdown",
   "id": "e0ebdc57",
   "metadata": {
    "papermill": {
     "duration": 0.019312,
     "end_time": "2025-07-30T20:49:51.028651",
     "exception": false,
     "start_time": "2025-07-30T20:49:51.009339",
     "status": "completed"
    },
    "tags": []
   },
   "source": [
    "# Loading Data"
   ]
  },
  {
   "cell_type": "markdown",
   "id": "681925a3",
   "metadata": {
    "papermill": {
     "duration": 0.019728,
     "end_time": "2025-07-30T20:49:51.067149",
     "exception": false,
     "start_time": "2025-07-30T20:49:51.047421",
     "status": "completed"
    },
    "tags": []
   },
   "source": [
    "Load siab_train, siab_test, siab_calib and/or \n",
    "load siab_train_features, siab_train_labels"
   ]
  },
  {
   "cell_type": "code",
   "execution_count": 9,
   "id": "f0496b8a",
   "metadata": {
    "execution": {
     "iopub.execute_input": "2025-07-30T20:49:51.107655Z",
     "iopub.status.busy": "2025-07-30T20:49:51.107161Z",
     "iopub.status.idle": "2025-07-30T20:50:03.034930Z",
     "shell.execute_reply": "2025-07-30T20:50:03.033799Z"
    },
    "papermill": {
     "duration": 11.949473,
     "end_time": "2025-07-30T20:50:03.036726",
     "exception": false,
     "start_time": "2025-07-30T20:49:51.087253",
     "status": "completed"
    },
    "tags": []
   },
   "outputs": [
    {
     "name": "stdout",
     "output_type": "stream",
     "text": [
      "Loading SIAB data from cache: data/siab_cached.csv.gz\n"
     ]
    },
    {
     "name": "stdout",
     "output_type": "stream",
     "text": [
      "(643690, 164)\n"
     ]
    }
   ],
   "source": [
    "from pathlib import Path\n",
    "import pandas as pd\n",
    "\n",
    "# File paths\n",
    "raw_file = Path(\"data/raw/siab.csv\")\n",
    "cache_file = Path(\"data/siab_cached.csv.gz\")\n",
    "\n",
    "# Ensure cache directory exists\n",
    "cache_file.parent.mkdir(parents=True, exist_ok=True)\n",
    "\n",
    "# Load with simple caching\n",
    "if cache_file.exists():\n",
    "    print(f\"Loading SIAB data from cache: {cache_file}\")\n",
    "    siab = pd.read_csv(cache_file, compression='gzip')\n",
    "else:\n",
    "    print(f\"Cache not found. Reading raw SIAB data: {raw_file}\")\n",
    "    siab = pd.read_csv(raw_file)\n",
    "    siab.to_csv(cache_file, index=False, compression='gzip')\n",
    "    print(f\"Cached SIAB data to: {cache_file}\")\n",
    "\n",
    "# Now use `siab` DataFrame as needed\n",
    "print(siab.shape)"
   ]
  },
  {
   "cell_type": "code",
   "execution_count": 10,
   "id": "db0ca512-5f53-4dba-abdb-a2888bca41ba",
   "metadata": {
    "execution": {
     "iopub.execute_input": "2025-07-30T20:50:03.085153Z",
     "iopub.status.busy": "2025-07-30T20:50:03.084643Z",
     "iopub.status.idle": "2025-07-30T20:50:03.090252Z",
     "shell.execute_reply": "2025-07-30T20:50:03.089342Z"
    },
    "papermill": {
     "duration": 0.030466,
     "end_time": "2025-07-30T20:50:03.091954",
     "exception": false,
     "start_time": "2025-07-30T20:50:03.061488",
     "status": "completed"
    },
    "tags": []
   },
   "outputs": [],
   "source": [
    "#siab"
   ]
  },
  {
   "cell_type": "code",
   "execution_count": 11,
   "id": "a0edb063",
   "metadata": {
    "execution": {
     "iopub.execute_input": "2025-07-30T20:50:03.130235Z",
     "iopub.status.busy": "2025-07-30T20:50:03.129586Z",
     "iopub.status.idle": "2025-07-30T20:50:03.133843Z",
     "shell.execute_reply": "2025-07-30T20:50:03.133183Z"
    },
    "papermill": {
     "duration": 0.020814,
     "end_time": "2025-07-30T20:50:03.135069",
     "exception": false,
     "start_time": "2025-07-30T20:50:03.114255",
     "status": "completed"
    },
    "tags": []
   },
   "outputs": [],
   "source": [
    "#import pandas as pd\n",
    "#\n",
    "#X_train = pd.read_csv(\"./data/X_train.csv\")\n",
    "#y_train = pd.read_csv(\"./data/y_train.csv\")"
   ]
  },
  {
   "cell_type": "code",
   "execution_count": 12,
   "id": "63d08085",
   "metadata": {
    "execution": {
     "iopub.execute_input": "2025-07-30T20:50:03.157995Z",
     "iopub.status.busy": "2025-07-30T20:50:03.157446Z",
     "iopub.status.idle": "2025-07-30T20:50:03.178609Z",
     "shell.execute_reply": "2025-07-30T20:50:03.177078Z"
    },
    "papermill": {
     "duration": 0.034898,
     "end_time": "2025-07-30T20:50:03.180515",
     "exception": false,
     "start_time": "2025-07-30T20:50:03.145617",
     "status": "completed"
    },
    "tags": []
   },
   "outputs": [],
   "source": [
    "#X_test = pd.read_csv(\"./data/X_test.csv\")\n",
    "#y_true = pd.read_csv(\"./data/y_test.csv\")"
   ]
  },
  {
   "cell_type": "code",
   "execution_count": 13,
   "id": "98a8d0fa-1d3d-4ed8-bb2c-281470e24add",
   "metadata": {
    "execution": {
     "iopub.execute_input": "2025-07-30T20:50:03.206709Z",
     "iopub.status.busy": "2025-07-30T20:50:03.206194Z",
     "iopub.status.idle": "2025-07-30T20:50:03.210511Z",
     "shell.execute_reply": "2025-07-30T20:50:03.209769Z"
    },
    "papermill": {
     "duration": 0.017315,
     "end_time": "2025-07-30T20:50:03.211851",
     "exception": false,
     "start_time": "2025-07-30T20:50:03.194536",
     "status": "completed"
    },
    "tags": []
   },
   "outputs": [],
   "source": [
    "# Calibration data for conformal\n",
    "#X_calib = pd.read_csv(\"./data/X_calib.csv\")\n",
    "#y_calib = pd.read_csv(\"./data/y_calib.csv\")"
   ]
  },
  {
   "cell_type": "markdown",
   "id": "997051c5-15bd-4b69-9786-c3001a3ce484",
   "metadata": {
    "papermill": {
     "duration": 0.010418,
     "end_time": "2025-07-30T20:50:03.233393",
     "exception": false,
     "start_time": "2025-07-30T20:50:03.222975",
     "status": "completed"
    },
    "tags": []
   },
   "source": [
    "# Splitting Data and Setting Training Data Size"
   ]
  },
  {
   "cell_type": "code",
   "execution_count": 14,
   "id": "e993b61f-042d-41a6-8c81-f55681f86335",
   "metadata": {
    "execution": {
     "iopub.execute_input": "2025-07-30T20:50:03.271772Z",
     "iopub.status.busy": "2025-07-30T20:50:03.271330Z",
     "iopub.status.idle": "2025-07-30T20:50:03.284753Z",
     "shell.execute_reply": "2025-07-30T20:50:03.283686Z"
    },
    "papermill": {
     "duration": 0.041524,
     "end_time": "2025-07-30T20:50:03.286634",
     "exception": false,
     "start_time": "2025-07-30T20:50:03.245110",
     "status": "completed"
    },
    "tags": []
   },
   "outputs": [],
   "source": [
    "def sample_by_year_size(df,\n",
    "                        training_year: str,\n",
    "                        training_size: str,\n",
    "                        random_state: int = 42):\n",
    "    # --- parse training_year into a list of int years ---\n",
    "    if \"_\" in training_year:\n",
    "        start_str, end_str = training_year.split(\"_\", 1)\n",
    "        start = int(start_str)\n",
    "        end   = int(end_str) if len(end_str) == 4 else (int(end_str) + (start // 100)*100)\n",
    "        years = list(range(start, end + 1))\n",
    "    else:\n",
    "        years = [int(training_year)]\n",
    "\n",
    "    df = df[df[\"year\"].isin(years)].reset_index(drop=True)\n",
    "\n",
    "    # --- map training_size to total number of samples ---\n",
    "    total_map = {\"25k\": 25_000, \"5k\": 5_000, \"1k\": 1_000}\n",
    "    if training_size not in total_map:\n",
    "        return df  # e.g. \"all\"\n",
    "\n",
    "    total_samples = total_map[training_size]\n",
    "    n_years       = len(years)\n",
    "    base          = total_samples // n_years\n",
    "    remainder     = total_samples % n_years\n",
    "\n",
    "    # --- build a dict: year -> how many to sample ---\n",
    "    # give +1 to the first `remainder` years in ascending order\n",
    "    quotas = {\n",
    "        year: base + (1 if idx < remainder else 0)\n",
    "        for idx, year in enumerate(sorted(years))\n",
    "    }\n",
    "\n",
    "    # --- sample per‐year according to the quota dict ---\n",
    "    sampled = (\n",
    "        df\n",
    "        .groupby(\"year\", group_keys=False)\n",
    "        .apply(lambda grp: grp.sample(\n",
    "            n=min(len(grp), quotas[grp.name]),\n",
    "            random_state=random_state))\n",
    "        .reset_index(drop=True)\n",
    "    )\n",
    "\n",
    "    return sampled"
   ]
  },
  {
   "cell_type": "code",
   "execution_count": 15,
   "id": "c0ccd338-0e02-41f3-a09d-f56f9266e3fb",
   "metadata": {
    "execution": {
     "iopub.execute_input": "2025-07-30T20:50:03.336080Z",
     "iopub.status.busy": "2025-07-30T20:50:03.335424Z",
     "iopub.status.idle": "2025-07-30T20:50:03.350237Z",
     "shell.execute_reply": "2025-07-30T20:50:03.349404Z"
    },
    "papermill": {
     "duration": 0.037746,
     "end_time": "2025-07-30T20:50:03.351671",
     "exception": false,
     "start_time": "2025-07-30T20:50:03.313925",
     "status": "completed"
    },
    "tags": []
   },
   "outputs": [],
   "source": [
    "#universe[\"training_size\"]"
   ]
  },
  {
   "cell_type": "code",
   "execution_count": 16,
   "id": "ca707fd7-8047-4acd-bfa5-66248fbbf8e6",
   "metadata": {
    "execution": {
     "iopub.execute_input": "2025-07-30T20:50:03.391826Z",
     "iopub.status.busy": "2025-07-30T20:50:03.391265Z",
     "iopub.status.idle": "2025-07-30T20:50:03.397301Z",
     "shell.execute_reply": "2025-07-30T20:50:03.396438Z"
    },
    "papermill": {
     "duration": 0.027435,
     "end_time": "2025-07-30T20:50:03.398848",
     "exception": false,
     "start_time": "2025-07-30T20:50:03.371413",
     "status": "completed"
    },
    "tags": []
   },
   "outputs": [],
   "source": [
    "#universe[\"training_year\"]"
   ]
  },
  {
   "cell_type": "code",
   "execution_count": 17,
   "id": "aea9c6ef-6f46-42c8-85eb-5a62025c1508",
   "metadata": {
    "execution": {
     "iopub.execute_input": "2025-07-30T20:50:03.440654Z",
     "iopub.status.busy": "2025-07-30T20:50:03.439993Z",
     "iopub.status.idle": "2025-07-30T20:50:03.617698Z",
     "shell.execute_reply": "2025-07-30T20:50:03.616741Z"
    },
    "papermill": {
     "duration": 0.199979,
     "end_time": "2025-07-30T20:50:03.619662",
     "exception": false,
     "start_time": "2025-07-30T20:50:03.419683",
     "status": "completed"
    },
    "tags": []
   },
   "outputs": [],
   "source": [
    "siab_train = sample_by_year_size(siab,\n",
    "                               training_year=universe[\"training_year\"],\n",
    "                               training_size=universe[\"training_size\"])"
   ]
  },
  {
   "cell_type": "code",
   "execution_count": 18,
   "id": "8d3afb32-789d-442c-8d5d-9f5aa8dd2eed",
   "metadata": {
    "execution": {
     "iopub.execute_input": "2025-07-30T20:50:03.664260Z",
     "iopub.status.busy": "2025-07-30T20:50:03.663590Z",
     "iopub.status.idle": "2025-07-30T20:50:03.668730Z",
     "shell.execute_reply": "2025-07-30T20:50:03.667716Z"
    },
    "papermill": {
     "duration": 0.027401,
     "end_time": "2025-07-30T20:50:03.670280",
     "exception": false,
     "start_time": "2025-07-30T20:50:03.642879",
     "status": "completed"
    },
    "tags": []
   },
   "outputs": [],
   "source": [
    "#siab_train.shape"
   ]
  },
  {
   "cell_type": "code",
   "execution_count": 19,
   "id": "d582db68-1a4c-47fb-84fc-08518dc1975a",
   "metadata": {
    "execution": {
     "iopub.execute_input": "2025-07-30T20:50:03.711844Z",
     "iopub.status.busy": "2025-07-30T20:50:03.711228Z",
     "iopub.status.idle": "2025-07-30T20:50:03.716904Z",
     "shell.execute_reply": "2025-07-30T20:50:03.715992Z"
    },
    "papermill": {
     "duration": 0.027653,
     "end_time": "2025-07-30T20:50:03.718355",
     "exception": false,
     "start_time": "2025-07-30T20:50:03.690702",
     "status": "completed"
    },
    "tags": []
   },
   "outputs": [],
   "source": [
    "#display(siab_train.groupby(\"year\").size())"
   ]
  },
  {
   "cell_type": "code",
   "execution_count": 20,
   "id": "a561edb4-d032-42cb-8256-22eac1111c64",
   "metadata": {
    "execution": {
     "iopub.execute_input": "2025-07-30T20:50:03.759864Z",
     "iopub.status.busy": "2025-07-30T20:50:03.759239Z",
     "iopub.status.idle": "2025-07-30T20:50:03.954591Z",
     "shell.execute_reply": "2025-07-30T20:50:03.953727Z"
    },
    "papermill": {
     "duration": 0.218438,
     "end_time": "2025-07-30T20:50:03.956621",
     "exception": false,
     "start_time": "2025-07-30T20:50:03.738183",
     "status": "completed"
    },
    "tags": []
   },
   "outputs": [],
   "source": [
    "#siab_train = siab_s[siab_s.year < 2015]\n",
    "siab_calib = siab[siab.year == 2015]\n",
    "siab_test = siab[siab.year == 2016]"
   ]
  },
  {
   "cell_type": "code",
   "execution_count": 21,
   "id": "472de16f-c3db-4916-846b-1f0de9cf1746",
   "metadata": {
    "execution": {
     "iopub.execute_input": "2025-07-30T20:50:03.997560Z",
     "iopub.status.busy": "2025-07-30T20:50:03.996956Z",
     "iopub.status.idle": "2025-07-30T20:50:04.005130Z",
     "shell.execute_reply": "2025-07-30T20:50:04.004243Z"
    },
    "papermill": {
     "duration": 0.029957,
     "end_time": "2025-07-30T20:50:04.006810",
     "exception": false,
     "start_time": "2025-07-30T20:50:03.976853",
     "status": "completed"
    },
    "tags": []
   },
   "outputs": [],
   "source": [
    "X_train = siab_train.iloc[:,4:164]\n",
    "y_train = siab_train.iloc[:, [3]]"
   ]
  },
  {
   "cell_type": "code",
   "execution_count": 22,
   "id": "828c96af-f43a-4ed6-ba47-8ac73a47d56c",
   "metadata": {
    "execution": {
     "iopub.execute_input": "2025-07-30T20:50:04.048094Z",
     "iopub.status.busy": "2025-07-30T20:50:04.047477Z",
     "iopub.status.idle": "2025-07-30T20:50:04.096335Z",
     "shell.execute_reply": "2025-07-30T20:50:04.095265Z"
    },
    "papermill": {
     "duration": 0.070841,
     "end_time": "2025-07-30T20:50:04.098062",
     "exception": false,
     "start_time": "2025-07-30T20:50:04.027221",
     "status": "completed"
    },
    "tags": []
   },
   "outputs": [],
   "source": [
    "X_calib = siab_calib.iloc[:,4:164]\n",
    "y_calib = siab_calib.iloc[:, [3]]"
   ]
  },
  {
   "cell_type": "code",
   "execution_count": 23,
   "id": "c34be9c3-6bd6-476e-acd3-845840e303be",
   "metadata": {
    "execution": {
     "iopub.execute_input": "2025-07-30T20:50:04.138796Z",
     "iopub.status.busy": "2025-07-30T20:50:04.138212Z",
     "iopub.status.idle": "2025-07-30T20:50:04.188909Z",
     "shell.execute_reply": "2025-07-30T20:50:04.187797Z"
    },
    "papermill": {
     "duration": 0.072634,
     "end_time": "2025-07-30T20:50:04.191007",
     "exception": false,
     "start_time": "2025-07-30T20:50:04.118373",
     "status": "completed"
    },
    "tags": []
   },
   "outputs": [],
   "source": [
    "X_test = siab_test.iloc[:,4:164]\n",
    "y_true = siab_test.iloc[:, [3]]"
   ]
  },
  {
   "cell_type": "markdown",
   "id": "9901737e-04df-44f0-9100-f5ad144ed040",
   "metadata": {
    "papermill": {
     "duration": 0.01916,
     "end_time": "2025-07-30T20:50:04.231835",
     "exception": false,
     "start_time": "2025-07-30T20:50:04.212675",
     "status": "completed"
    },
    "tags": []
   },
   "source": [
    "# Splitting Data and Setting Training Data Size OLD VERSION"
   ]
  },
  {
   "cell_type": "code",
   "execution_count": 24,
   "id": "acbc8f7d-8fc8-4e86-8c59-5dcb0f58384b",
   "metadata": {
    "execution": {
     "iopub.execute_input": "2025-07-30T20:50:04.272495Z",
     "iopub.status.busy": "2025-07-30T20:50:04.271835Z",
     "iopub.status.idle": "2025-07-30T20:50:04.278154Z",
     "shell.execute_reply": "2025-07-30T20:50:04.277287Z"
    },
    "papermill": {
     "duration": 0.028431,
     "end_time": "2025-07-30T20:50:04.279626",
     "exception": false,
     "start_time": "2025-07-30T20:50:04.251195",
     "status": "completed"
    },
    "tags": []
   },
   "outputs": [],
   "source": [
    "#def sample_by_year(df, training_size, random_state=42):\n",
    "#    if training_size == \"2014\":\n",
    "#        return df[df[\"year\"] == 2014].reset_index(drop=True)\n",
    "#    \n",
    "#    size_map = {\n",
    "#        \"25k\": 5000,\n",
    "#        \"5k\": 1000,\n",
    "#        \"1k\": 200\n",
    "#    }\n",
    "#\n",
    "#    if training_size not in size_map:\n",
    "#        return df.reset_index(drop=True)  # use all data\n",
    "#\n",
    "#    n_per_year = size_map[training_size]\n",
    "#    grouped = df.groupby(\"year\")\n",
    "#    sampled = grouped.apply(lambda x: x.sample(n=min(n_per_year, len(x)), random_state=random_state))\n",
    "#    return sampled.reset_index(drop=True)"
   ]
  },
  {
   "cell_type": "code",
   "execution_count": 25,
   "id": "6d931f52-beaf-43ff-9e78-9d44a448d54e",
   "metadata": {
    "execution": {
     "iopub.execute_input": "2025-07-30T20:50:04.321452Z",
     "iopub.status.busy": "2025-07-30T20:50:04.320841Z",
     "iopub.status.idle": "2025-07-30T20:50:04.325646Z",
     "shell.execute_reply": "2025-07-30T20:50:04.324784Z"
    },
    "papermill": {
     "duration": 0.027555,
     "end_time": "2025-07-30T20:50:04.327112",
     "exception": false,
     "start_time": "2025-07-30T20:50:04.299557",
     "status": "completed"
    },
    "tags": []
   },
   "outputs": [],
   "source": [
    "#siab_s = sample_by_year(siab, universe[\"training_size\"])"
   ]
  },
  {
   "cell_type": "code",
   "execution_count": 26,
   "id": "5db0a40e-a4e2-4920-be85-b12ae061d70d",
   "metadata": {
    "execution": {
     "iopub.execute_input": "2025-07-30T20:50:04.368555Z",
     "iopub.status.busy": "2025-07-30T20:50:04.367890Z",
     "iopub.status.idle": "2025-07-30T20:50:04.372756Z",
     "shell.execute_reply": "2025-07-30T20:50:04.371839Z"
    },
    "papermill": {
     "duration": 0.026924,
     "end_time": "2025-07-30T20:50:04.374282",
     "exception": false,
     "start_time": "2025-07-30T20:50:04.347358",
     "status": "completed"
    },
    "tags": []
   },
   "outputs": [],
   "source": [
    "#display(siab_s.groupby(\"year\").size())"
   ]
  },
  {
   "cell_type": "code",
   "execution_count": 27,
   "id": "e6c733c5",
   "metadata": {
    "execution": {
     "iopub.execute_input": "2025-07-30T20:50:04.416382Z",
     "iopub.status.busy": "2025-07-30T20:50:04.415874Z",
     "iopub.status.idle": "2025-07-30T20:50:04.505476Z",
     "shell.execute_reply": "2025-07-30T20:50:04.504597Z"
    },
    "papermill": {
     "duration": 0.112385,
     "end_time": "2025-07-30T20:50:04.507354",
     "exception": false,
     "start_time": "2025-07-30T20:50:04.394969",
     "status": "completed"
    },
    "tags": []
   },
   "outputs": [],
   "source": [
    "# Auxiliary data needed downstream in the pipeline\n",
    "\n",
    "org_train = X_train.copy()\n",
    "org_test = X_test.copy()\n",
    "org_calib = X_calib.copy()"
   ]
  },
  {
   "cell_type": "code",
   "execution_count": 28,
   "id": "1466abac-c6da-4492-a62f-4240ae3783af",
   "metadata": {
    "execution": {
     "iopub.execute_input": "2025-07-30T20:50:04.549028Z",
     "iopub.status.busy": "2025-07-30T20:50:04.548412Z",
     "iopub.status.idle": "2025-07-30T20:50:04.554439Z",
     "shell.execute_reply": "2025-07-30T20:50:04.553524Z"
    },
    "papermill": {
     "duration": 0.028353,
     "end_time": "2025-07-30T20:50:04.556137",
     "exception": false,
     "start_time": "2025-07-30T20:50:04.527784",
     "status": "completed"
    },
    "tags": []
   },
   "outputs": [],
   "source": [
    "# put in other script?\n",
    "# Group sizes\n",
    "\n",
    "#def calculate_percentages(df, df_name):\n",
    "#    total_entries = len(df)\n",
    "#\n",
    "#    female_pct = (df['frau1'] == 1).mean() * 100\n",
    "#    non_german_pct = ((df['maxdeutsch1'] == 0) & (df['maxdeutsch.Missing.'] == 0)).mean() * 100\n",
    "#    non_german_male_pct = ((df['frau1'] == 0) & (df['maxdeutsch1'] == 0) & (df['maxdeutsch.Missing.'] == 0)).mean() * 100\n",
    "#    non_german_female_pct = ((df['frau1'] == 1) & (df['maxdeutsch1'] == 0) & (df['maxdeutsch.Missing.'] == 0)).mean() * 100\n",
    "#\n",
    "#    print(f\"--- {df_name} ---\")\n",
    "#    print(f\"Female: {female_pct:.2f}%\")\n",
    "#    print(f\"Non-German: {non_german_pct:.2f}%\")\n",
    "#    print(f\"Non-German Male: {non_german_male_pct:.2f}%\")\n",
    "#    print(f\"Non-German Female: {non_german_female_pct:.2f}%\\n\")\n",
    "#\n",
    "## Calculate for each DataFrame\n",
    "#calculate_percentages(siab_calib, \"siab_calib\")\n",
    "#calculate_percentages(siab_test, \"siab_test\")\n",
    "#calculate_percentages(siab_train, \"siab_train\")"
   ]
  },
  {
   "cell_type": "markdown",
   "id": "0a4a1b33",
   "metadata": {
    "papermill": {
     "duration": 0.019186,
     "end_time": "2025-07-30T20:50:04.595274",
     "exception": false,
     "start_time": "2025-07-30T20:50:04.576088",
     "status": "completed"
    },
    "tags": []
   },
   "source": [
    "# Preprocessing Data"
   ]
  },
  {
   "cell_type": "code",
   "execution_count": 29,
   "id": "ca879031",
   "metadata": {
    "execution": {
     "iopub.execute_input": "2025-07-30T20:50:04.638158Z",
     "iopub.status.busy": "2025-07-30T20:50:04.637546Z",
     "iopub.status.idle": "2025-07-30T20:50:04.643394Z",
     "shell.execute_reply": "2025-07-30T20:50:04.642439Z"
    },
    "papermill": {
     "duration": 0.028602,
     "end_time": "2025-07-30T20:50:04.645388",
     "exception": false,
     "start_time": "2025-07-30T20:50:04.616786",
     "status": "completed"
    },
    "tags": []
   },
   "outputs": [],
   "source": [
    "# EXCLUDE PROTECTED FEATURES\n",
    "# ----------------------\n",
    "# \"exclude_features\": \"none\", # \"nationality\", \"sex\", \"nationality-sex\"\n",
    "\n",
    "excluded_features = universe[\"exclude_features\"].split(\"-\") # split, e.g.: \"nationality-sex\" -> [\"nationality\", \"sex\"]\n",
    "excluded_features_dictionary = {\n",
    "    \"nationality\": [\"maxdeutsch1\", \"maxdeutsch.Missing.\"],\n",
    "    \"sex\": [\"frau1\"],\n",
    "    \"age\": [\"age\"],\n",
    "}\n"
   ]
  },
  {
   "cell_type": "code",
   "execution_count": 30,
   "id": "b745ac60",
   "metadata": {
    "execution": {
     "iopub.execute_input": "2025-07-30T20:50:04.687618Z",
     "iopub.status.busy": "2025-07-30T20:50:04.686967Z",
     "iopub.status.idle": "2025-07-30T20:50:04.692758Z",
     "shell.execute_reply": "2025-07-30T20:50:04.691722Z"
    },
    "papermill": {
     "duration": 0.028506,
     "end_time": "2025-07-30T20:50:04.694305",
     "exception": false,
     "start_time": "2025-07-30T20:50:04.665799",
     "status": "completed"
    },
    "tags": []
   },
   "outputs": [],
   "source": [
    "# Code nice names to column names\n",
    "\n",
    "excluded_features_columns = [\n",
    "    excluded_features_dictionary[f] for f in excluded_features if len(f) > 0 and f != \"none\"\n",
    "]"
   ]
  },
  {
   "cell_type": "code",
   "execution_count": 31,
   "id": "f84f73a2",
   "metadata": {
    "execution": {
     "iopub.execute_input": "2025-07-30T20:50:04.736856Z",
     "iopub.status.busy": "2025-07-30T20:50:04.736191Z",
     "iopub.status.idle": "2025-07-30T20:50:04.742567Z",
     "shell.execute_reply": "2025-07-30T20:50:04.741774Z"
    },
    "papermill": {
     "duration": 0.028645,
     "end_time": "2025-07-30T20:50:04.744161",
     "exception": false,
     "start_time": "2025-07-30T20:50:04.715516",
     "status": "completed"
    },
    "tags": []
   },
   "outputs": [],
   "source": [
    "from utils import flatten_once\n",
    "\n",
    "excluded_features_columns = flatten_once(excluded_features_columns)"
   ]
  },
  {
   "cell_type": "code",
   "execution_count": 32,
   "id": "884dea22",
   "metadata": {
    "execution": {
     "iopub.execute_input": "2025-07-30T20:50:04.786210Z",
     "iopub.status.busy": "2025-07-30T20:50:04.785408Z",
     "iopub.status.idle": "2025-07-30T20:50:04.794147Z",
     "shell.execute_reply": "2025-07-30T20:50:04.793288Z"
    },
    "papermill": {
     "duration": 0.030629,
     "end_time": "2025-07-30T20:50:04.795696",
     "exception": false,
     "start_time": "2025-07-30T20:50:04.765067",
     "status": "completed"
    },
    "tags": []
   },
   "outputs": [
    {
     "name": "stdout",
     "output_type": "stream",
     "text": [
      "Dropping features: ['age']\n"
     ]
    }
   ],
   "source": [
    "if len(excluded_features_columns) > 0:\n",
    "    print(f\"Dropping features: {excluded_features_columns}\")\n",
    "    X_train.drop(excluded_features_columns, axis=1, inplace=True)"
   ]
  },
  {
   "cell_type": "code",
   "execution_count": 33,
   "id": "95ab8b16",
   "metadata": {
    "execution": {
     "iopub.execute_input": "2025-07-30T20:50:04.841669Z",
     "iopub.status.busy": "2025-07-30T20:50:04.840871Z",
     "iopub.status.idle": "2025-07-30T20:50:04.894032Z",
     "shell.execute_reply": "2025-07-30T20:50:04.893136Z"
    },
    "papermill": {
     "duration": 0.079831,
     "end_time": "2025-07-30T20:50:04.898473",
     "exception": false,
     "start_time": "2025-07-30T20:50:04.818642",
     "status": "completed"
    },
    "tags": []
   },
   "outputs": [
    {
     "name": "stdout",
     "output_type": "stream",
     "text": [
      "Dropping features: ['age']\n"
     ]
    }
   ],
   "source": [
    "if len(excluded_features_columns) > 0:\n",
    "    print(f\"Dropping features: {excluded_features_columns}\")\n",
    "    X_test.drop(excluded_features_columns, axis=1, inplace=True)"
   ]
  },
  {
   "cell_type": "code",
   "execution_count": 34,
   "id": "1853aaf5-fb9f-46cb-a2b5-8ea4ae2237e4",
   "metadata": {
    "execution": {
     "iopub.execute_input": "2025-07-30T20:50:04.943938Z",
     "iopub.status.busy": "2025-07-30T20:50:04.943067Z",
     "iopub.status.idle": "2025-07-30T20:50:04.994029Z",
     "shell.execute_reply": "2025-07-30T20:50:04.993138Z"
    },
    "papermill": {
     "duration": 0.07531,
     "end_time": "2025-07-30T20:50:04.995618",
     "exception": false,
     "start_time": "2025-07-30T20:50:04.920308",
     "status": "completed"
    },
    "tags": []
   },
   "outputs": [
    {
     "name": "stdout",
     "output_type": "stream",
     "text": [
      "Dropping features: ['age']\n"
     ]
    }
   ],
   "source": [
    "if len(excluded_features_columns) > 0:\n",
    "    print(f\"Dropping features: {excluded_features_columns}\")\n",
    "    X_calib.drop(excluded_features_columns, axis=1, inplace=True)"
   ]
  },
  {
   "cell_type": "code",
   "execution_count": 35,
   "id": "6727d079-03e5-481e-9d38-292a90b7a0a8",
   "metadata": {
    "execution": {
     "iopub.execute_input": "2025-07-30T20:50:05.038362Z",
     "iopub.status.busy": "2025-07-30T20:50:05.037748Z",
     "iopub.status.idle": "2025-07-30T20:50:05.042320Z",
     "shell.execute_reply": "2025-07-30T20:50:05.041467Z"
    },
    "papermill": {
     "duration": 0.02695,
     "end_time": "2025-07-30T20:50:05.043859",
     "exception": false,
     "start_time": "2025-07-30T20:50:05.016909",
     "status": "completed"
    },
    "tags": []
   },
   "outputs": [],
   "source": [
    "# SPLIT & STRATIFY DATA\n",
    "# ----------------------"
   ]
  },
  {
   "cell_type": "code",
   "execution_count": 36,
   "id": "76c4dc6d",
   "metadata": {
    "execution": {
     "iopub.execute_input": "2025-07-30T20:50:05.085990Z",
     "iopub.status.busy": "2025-07-30T20:50:05.085400Z",
     "iopub.status.idle": "2025-07-30T20:50:05.090523Z",
     "shell.execute_reply": "2025-07-30T20:50:05.089721Z"
    },
    "papermill": {
     "duration": 0.027439,
     "end_time": "2025-07-30T20:50:05.091993",
     "exception": false,
     "start_time": "2025-07-30T20:50:05.064554",
     "status": "completed"
    },
    "tags": []
   },
   "outputs": [],
   "source": [
    "# EXCLUDE CERTAIN SUBGROUPS\n",
    "# ----------------------\n",
    "\n",
    "mode = universe.get(\"exclude_subgroups\", \"keep-all\") \n",
    "# Fetches the exclude_subgroups setting from the universe dict.\n",
    "# Defaults to \"keep-all\" if the key is missing."
   ]
  },
  {
   "cell_type": "code",
   "execution_count": 37,
   "id": "21994072",
   "metadata": {
    "execution": {
     "iopub.execute_input": "2025-07-30T20:50:05.134065Z",
     "iopub.status.busy": "2025-07-30T20:50:05.133470Z",
     "iopub.status.idle": "2025-07-30T20:50:05.139881Z",
     "shell.execute_reply": "2025-07-30T20:50:05.138978Z"
    },
    "papermill": {
     "duration": 0.028936,
     "end_time": "2025-07-30T20:50:05.141521",
     "exception": false,
     "start_time": "2025-07-30T20:50:05.112585",
     "status": "completed"
    },
    "tags": []
   },
   "outputs": [],
   "source": [
    "if mode == \"keep-all\":\n",
    "    keep_mask = pd.Series(True, index=org_train.index)\n",
    "\n",
    "# org_train contains the original feature columns from features_org (in Simson)\n",
    "# features_org contains unprocessed features, for me X_train at beginning ???\n",
    "# For keep-all, creates a boolean Series (keep_mask) of all True, so no rows are removed.\n",
    "\n",
    "elif mode == \"drop-non-german\":\n",
    "    keep_mask = org_train[\"maxdeutsch1\"] == 1 # ??? what about missing values?\n",
    "\n",
    "else:\n",
    "    raise ValueError(f\"Unsupported mode for exclude_subgroups: {mode}\")\n"
   ]
  },
  {
   "cell_type": "code",
   "execution_count": 38,
   "id": "71651440",
   "metadata": {
    "execution": {
     "iopub.execute_input": "2025-07-30T20:50:05.185077Z",
     "iopub.status.busy": "2025-07-30T20:50:05.184483Z",
     "iopub.status.idle": "2025-07-30T20:50:05.190454Z",
     "shell.execute_reply": "2025-07-30T20:50:05.189645Z"
    },
    "papermill": {
     "duration": 0.029486,
     "end_time": "2025-07-30T20:50:05.191957",
     "exception": false,
     "start_time": "2025-07-30T20:50:05.162471",
     "status": "completed"
    },
    "tags": []
   },
   "outputs": [],
   "source": [
    "n_drop = (~keep_mask).sum() # Calculates how many rows are set to be dropped\n",
    "if n_drop > 0:\n",
    "    pct = n_drop / len(keep_mask) * 100\n",
    "    print(f\"Dropping {n_drop} rows ({pct:.2f}%) where mode='{mode}'\")"
   ]
  },
  {
   "cell_type": "code",
   "execution_count": 39,
   "id": "5fb8eee5",
   "metadata": {
    "execution": {
     "iopub.execute_input": "2025-07-30T20:50:05.233993Z",
     "iopub.status.busy": "2025-07-30T20:50:05.233591Z",
     "iopub.status.idle": "2025-07-30T20:50:05.240859Z",
     "shell.execute_reply": "2025-07-30T20:50:05.239943Z"
    },
    "papermill": {
     "duration": 0.02979,
     "end_time": "2025-07-30T20:50:05.242607",
     "exception": false,
     "start_time": "2025-07-30T20:50:05.212817",
     "status": "completed"
    },
    "tags": []
   },
   "outputs": [],
   "source": [
    "X_train = X_train[keep_mask]"
   ]
  },
  {
   "cell_type": "code",
   "execution_count": 40,
   "id": "b202bb3a",
   "metadata": {
    "execution": {
     "iopub.execute_input": "2025-07-30T20:50:05.285119Z",
     "iopub.status.busy": "2025-07-30T20:50:05.284712Z",
     "iopub.status.idle": "2025-07-30T20:50:05.290064Z",
     "shell.execute_reply": "2025-07-30T20:50:05.289234Z"
    },
    "papermill": {
     "duration": 0.027604,
     "end_time": "2025-07-30T20:50:05.291548",
     "exception": false,
     "start_time": "2025-07-30T20:50:05.263944",
     "status": "completed"
    },
    "tags": []
   },
   "outputs": [],
   "source": [
    "y_train = y_train[keep_mask]"
   ]
  },
  {
   "cell_type": "markdown",
   "id": "493e2ac3",
   "metadata": {
    "papermill": {
     "duration": 0.020218,
     "end_time": "2025-07-30T20:50:05.332752",
     "exception": false,
     "start_time": "2025-07-30T20:50:05.312534",
     "status": "completed"
    },
    "tags": []
   },
   "source": [
    "# Model Training"
   ]
  },
  {
   "cell_type": "code",
   "execution_count": 41,
   "id": "679e1268",
   "metadata": {
    "execution": {
     "iopub.execute_input": "2025-07-30T20:50:05.376842Z",
     "iopub.status.busy": "2025-07-30T20:50:05.375909Z",
     "iopub.status.idle": "2025-07-30T20:50:05.479485Z",
     "shell.execute_reply": "2025-07-30T20:50:05.478307Z"
    },
    "papermill": {
     "duration": 0.127765,
     "end_time": "2025-07-30T20:50:05.481237",
     "exception": false,
     "start_time": "2025-07-30T20:50:05.353472",
     "status": "completed"
    },
    "tags": []
   },
   "outputs": [],
   "source": [
    "from sklearn.linear_model import LogisticRegression\n",
    "from sklearn.ensemble import GradientBoostingClassifier, RandomForestClassifier\n",
    "\n",
    "if (universe[\"model\"] == \"logreg\"):\n",
    "    model = LogisticRegression() #penalty=\"none\") #, solver=\"newton-cg\", max_iter=1) # include random_state=19 ?\n",
    "elif (universe[\"model\"] == \"penalized_logreg\"):\n",
    "    model = LogisticRegression(penalty=\"l2\", C=1.0) #, solver=\"newton-cg\", max_iter=1)\n",
    "elif (universe[\"model\"] == \"rf\"):\n",
    "    model = RandomForestClassifier(n_estimators=100, n_jobs=-1)\n",
    "elif (universe[\"model\"] == \"gbm\"):\n",
    "    model = GradientBoostingClassifier()\n",
    "elif (universe[\"model\"] == \"elasticnet\"):\n",
    "    model = LogisticRegression(penalty = 'elasticnet', solver = 'saga', l1_ratio = 0.5, max_iter=5000) # which solver to use?\n",
    "else:\n",
    "    raise \"Unsupported universe.model\""
   ]
  },
  {
   "cell_type": "code",
   "execution_count": 42,
   "id": "0cc8f744",
   "metadata": {
    "execution": {
     "iopub.execute_input": "2025-07-30T20:50:05.525634Z",
     "iopub.status.busy": "2025-07-30T20:50:05.525009Z",
     "iopub.status.idle": "2025-07-30T20:50:05.531205Z",
     "shell.execute_reply": "2025-07-30T20:50:05.530247Z"
    },
    "papermill": {
     "duration": 0.029365,
     "end_time": "2025-07-30T20:50:05.532753",
     "exception": false,
     "start_time": "2025-07-30T20:50:05.503388",
     "status": "completed"
    },
    "tags": []
   },
   "outputs": [],
   "source": [
    "import numpy as np\n",
    "from sklearn.pipeline import Pipeline\n",
    "from sklearn.preprocessing import StandardScaler\n",
    "\n",
    "model = Pipeline([\n",
    "    #(\"continuous_processor\", continuous_processor),\n",
    "    #(\"categorical_preprocessor\", categorical_preprocessor),\n",
    "    (\"scale\", StandardScaler() if universe[\"scale\"] == \"scale\" else None), \n",
    "    (\"model\", model),\n",
    "])"
   ]
  },
  {
   "cell_type": "code",
   "execution_count": 43,
   "id": "9442c04d",
   "metadata": {
    "execution": {
     "iopub.execute_input": "2025-07-30T20:50:05.578339Z",
     "iopub.status.busy": "2025-07-30T20:50:05.577714Z",
     "iopub.status.idle": "2025-07-30T20:50:13.605435Z",
     "shell.execute_reply": "2025-07-30T20:50:13.604440Z"
    },
    "papermill": {
     "duration": 8.052727,
     "end_time": "2025-07-30T20:50:13.607111",
     "exception": false,
     "start_time": "2025-07-30T20:50:05.554384",
     "status": "completed"
    },
    "tags": []
   },
   "outputs": [
    {
     "data": {
      "text/html": [
       "<style>#sk-container-id-1 {color: black;background-color: white;}#sk-container-id-1 pre{padding: 0;}#sk-container-id-1 div.sk-toggleable {background-color: white;}#sk-container-id-1 label.sk-toggleable__label {cursor: pointer;display: block;width: 100%;margin-bottom: 0;padding: 0.3em;box-sizing: border-box;text-align: center;}#sk-container-id-1 label.sk-toggleable__label-arrow:before {content: \"▸\";float: left;margin-right: 0.25em;color: #696969;}#sk-container-id-1 label.sk-toggleable__label-arrow:hover:before {color: black;}#sk-container-id-1 div.sk-estimator:hover label.sk-toggleable__label-arrow:before {color: black;}#sk-container-id-1 div.sk-toggleable__content {max-height: 0;max-width: 0;overflow: hidden;text-align: left;background-color: #f0f8ff;}#sk-container-id-1 div.sk-toggleable__content pre {margin: 0.2em;color: black;border-radius: 0.25em;background-color: #f0f8ff;}#sk-container-id-1 input.sk-toggleable__control:checked~div.sk-toggleable__content {max-height: 200px;max-width: 100%;overflow: auto;}#sk-container-id-1 input.sk-toggleable__control:checked~label.sk-toggleable__label-arrow:before {content: \"▾\";}#sk-container-id-1 div.sk-estimator input.sk-toggleable__control:checked~label.sk-toggleable__label {background-color: #d4ebff;}#sk-container-id-1 div.sk-label input.sk-toggleable__control:checked~label.sk-toggleable__label {background-color: #d4ebff;}#sk-container-id-1 input.sk-hidden--visually {border: 0;clip: rect(1px 1px 1px 1px);clip: rect(1px, 1px, 1px, 1px);height: 1px;margin: -1px;overflow: hidden;padding: 0;position: absolute;width: 1px;}#sk-container-id-1 div.sk-estimator {font-family: monospace;background-color: #f0f8ff;border: 1px dotted black;border-radius: 0.25em;box-sizing: border-box;margin-bottom: 0.5em;}#sk-container-id-1 div.sk-estimator:hover {background-color: #d4ebff;}#sk-container-id-1 div.sk-parallel-item::after {content: \"\";width: 100%;border-bottom: 1px solid gray;flex-grow: 1;}#sk-container-id-1 div.sk-label:hover label.sk-toggleable__label {background-color: #d4ebff;}#sk-container-id-1 div.sk-serial::before {content: \"\";position: absolute;border-left: 1px solid gray;box-sizing: border-box;top: 0;bottom: 0;left: 50%;z-index: 0;}#sk-container-id-1 div.sk-serial {display: flex;flex-direction: column;align-items: center;background-color: white;padding-right: 0.2em;padding-left: 0.2em;position: relative;}#sk-container-id-1 div.sk-item {position: relative;z-index: 1;}#sk-container-id-1 div.sk-parallel {display: flex;align-items: stretch;justify-content: center;background-color: white;position: relative;}#sk-container-id-1 div.sk-item::before, #sk-container-id-1 div.sk-parallel-item::before {content: \"\";position: absolute;border-left: 1px solid gray;box-sizing: border-box;top: 0;bottom: 0;left: 50%;z-index: -1;}#sk-container-id-1 div.sk-parallel-item {display: flex;flex-direction: column;z-index: 1;position: relative;background-color: white;}#sk-container-id-1 div.sk-parallel-item:first-child::after {align-self: flex-end;width: 50%;}#sk-container-id-1 div.sk-parallel-item:last-child::after {align-self: flex-start;width: 50%;}#sk-container-id-1 div.sk-parallel-item:only-child::after {width: 0;}#sk-container-id-1 div.sk-dashed-wrapped {border: 1px dashed gray;margin: 0 0.4em 0.5em 0.4em;box-sizing: border-box;padding-bottom: 0.4em;background-color: white;}#sk-container-id-1 div.sk-label label {font-family: monospace;font-weight: bold;display: inline-block;line-height: 1.2em;}#sk-container-id-1 div.sk-label-container {text-align: center;}#sk-container-id-1 div.sk-container {/* jupyter's `normalize.less` sets `[hidden] { display: none; }` but bootstrap.min.css set `[hidden] { display: none !important; }` so we also need the `!important` here to be able to override the default hidden behavior on the sphinx rendered scikit-learn.org. See: https://github.com/scikit-learn/scikit-learn/issues/21755 */display: inline-block !important;position: relative;}#sk-container-id-1 div.sk-text-repr-fallback {display: none;}</style><div id=\"sk-container-id-1\" class=\"sk-top-container\"><div class=\"sk-text-repr-fallback\"><pre>Pipeline(steps=[(&#x27;scale&#x27;, StandardScaler()),\n",
       "                (&#x27;model&#x27;,\n",
       "                 LogisticRegression(l1_ratio=0.5, max_iter=5000,\n",
       "                                    penalty=&#x27;elasticnet&#x27;, solver=&#x27;saga&#x27;))])</pre><b>In a Jupyter environment, please rerun this cell to show the HTML representation or trust the notebook. <br />On GitHub, the HTML representation is unable to render, please try loading this page with nbviewer.org.</b></div><div class=\"sk-container\" hidden><div class=\"sk-item sk-dashed-wrapped\"><div class=\"sk-label-container\"><div class=\"sk-label sk-toggleable\"><input class=\"sk-toggleable__control sk-hidden--visually\" id=\"sk-estimator-id-1\" type=\"checkbox\" ><label for=\"sk-estimator-id-1\" class=\"sk-toggleable__label sk-toggleable__label-arrow\">Pipeline</label><div class=\"sk-toggleable__content\"><pre>Pipeline(steps=[(&#x27;scale&#x27;, StandardScaler()),\n",
       "                (&#x27;model&#x27;,\n",
       "                 LogisticRegression(l1_ratio=0.5, max_iter=5000,\n",
       "                                    penalty=&#x27;elasticnet&#x27;, solver=&#x27;saga&#x27;))])</pre></div></div></div><div class=\"sk-serial\"><div class=\"sk-item\"><div class=\"sk-estimator sk-toggleable\"><input class=\"sk-toggleable__control sk-hidden--visually\" id=\"sk-estimator-id-2\" type=\"checkbox\" ><label for=\"sk-estimator-id-2\" class=\"sk-toggleable__label sk-toggleable__label-arrow\">StandardScaler</label><div class=\"sk-toggleable__content\"><pre>StandardScaler()</pre></div></div></div><div class=\"sk-item\"><div class=\"sk-estimator sk-toggleable\"><input class=\"sk-toggleable__control sk-hidden--visually\" id=\"sk-estimator-id-3\" type=\"checkbox\" ><label for=\"sk-estimator-id-3\" class=\"sk-toggleable__label sk-toggleable__label-arrow\">LogisticRegression</label><div class=\"sk-toggleable__content\"><pre>LogisticRegression(l1_ratio=0.5, max_iter=5000, penalty=&#x27;elasticnet&#x27;,\n",
       "                   solver=&#x27;saga&#x27;)</pre></div></div></div></div></div></div></div>"
      ],
      "text/plain": [
       "Pipeline(steps=[('scale', StandardScaler()),\n",
       "                ('model',\n",
       "                 LogisticRegression(l1_ratio=0.5, max_iter=5000,\n",
       "                                    penalty='elasticnet', solver='saga'))])"
      ]
     },
     "execution_count": 43,
     "metadata": {},
     "output_type": "execute_result"
    }
   ],
   "source": [
    "model.fit(X_train, y_train.values.ravel())"
   ]
  },
  {
   "cell_type": "code",
   "execution_count": 44,
   "id": "af59f8c0",
   "metadata": {
    "execution": {
     "iopub.execute_input": "2025-07-30T20:50:13.662288Z",
     "iopub.status.busy": "2025-07-30T20:50:13.661548Z",
     "iopub.status.idle": "2025-07-30T20:50:13.667178Z",
     "shell.execute_reply": "2025-07-30T20:50:13.666119Z"
    },
    "papermill": {
     "duration": 0.033514,
     "end_time": "2025-07-30T20:50:13.669139",
     "exception": false,
     "start_time": "2025-07-30T20:50:13.635625",
     "status": "completed"
    },
    "tags": []
   },
   "outputs": [],
   "source": [
    "from fairness_multiverse.universe import predict_w_threshold"
   ]
  },
  {
   "cell_type": "code",
   "execution_count": 45,
   "id": "a7cf2e16",
   "metadata": {
    "execution": {
     "iopub.execute_input": "2025-07-30T20:50:13.720660Z",
     "iopub.status.busy": "2025-07-30T20:50:13.720186Z",
     "iopub.status.idle": "2025-07-30T20:50:13.915679Z",
     "shell.execute_reply": "2025-07-30T20:50:13.914724Z"
    },
    "papermill": {
     "duration": 0.222904,
     "end_time": "2025-07-30T20:50:13.917431",
     "exception": false,
     "start_time": "2025-07-30T20:50:13.694527",
     "status": "completed"
    },
    "tags": []
   },
   "outputs": [
    {
     "data": {
      "text/plain": [
       "0.8572511425705049"
      ]
     },
     "execution_count": 45,
     "metadata": {},
     "output_type": "execute_result"
    }
   ],
   "source": [
    "probs_test = model.predict_proba(X_test)\n",
    "\n",
    "'''\n",
    "Below code returns a boolean array (or binary 0/1 array depending on how it’s used) where each element \n",
    "is True if the probability of class 1 is greater than or equal to the threshold, and False otherwise.\n",
    "'''\n",
    "y_pred_default = predict_w_threshold(probs_test, 0.5)\n",
    "\n",
    "from sklearn.metrics import accuracy_score\n",
    "\n",
    "# Naive prediction\n",
    "accuracy_score(y_true = y_true, y_pred = y_pred_default)"
   ]
  },
  {
   "cell_type": "code",
   "execution_count": 46,
   "id": "081964c3",
   "metadata": {
    "execution": {
     "iopub.execute_input": "2025-07-30T20:50:13.967262Z",
     "iopub.status.busy": "2025-07-30T20:50:13.966732Z",
     "iopub.status.idle": "2025-07-30T20:50:14.145784Z",
     "shell.execute_reply": "2025-07-30T20:50:14.144595Z"
    },
    "papermill": {
     "duration": 0.205821,
     "end_time": "2025-07-30T20:50:14.147282",
     "exception": false,
     "start_time": "2025-07-30T20:50:13.941461",
     "status": "completed"
    },
    "tags": []
   },
   "outputs": [
    {
     "data": {
      "text/plain": [
       "array([0, 0, 0, ..., 0, 0, 0])"
      ]
     },
     "execution_count": 46,
     "metadata": {},
     "output_type": "execute_result"
    }
   ],
   "source": [
    "model.predict(X_test)"
   ]
  },
  {
   "cell_type": "markdown",
   "id": "56c9705b",
   "metadata": {
    "papermill": {
     "duration": 0.021968,
     "end_time": "2025-07-30T20:50:14.192132",
     "exception": false,
     "start_time": "2025-07-30T20:50:14.170164",
     "status": "completed"
    },
    "tags": []
   },
   "source": [
    "# Conformal Prediction"
   ]
  },
  {
   "cell_type": "code",
   "execution_count": 47,
   "id": "160ec6ff",
   "metadata": {
    "execution": {
     "iopub.execute_input": "2025-07-30T20:50:14.246137Z",
     "iopub.status.busy": "2025-07-30T20:50:14.245635Z",
     "iopub.status.idle": "2025-07-30T20:50:14.251109Z",
     "shell.execute_reply": "2025-07-30T20:50:14.250044Z"
    },
    "papermill": {
     "duration": 0.035598,
     "end_time": "2025-07-30T20:50:14.252800",
     "exception": false,
     "start_time": "2025-07-30T20:50:14.217202",
     "status": "completed"
    },
    "tags": []
   },
   "outputs": [],
   "source": [
    "# Miscoverage level for conformal prediction (10% allowed error rate => 90% target coverage)\n",
    "alpha = 0.1"
   ]
  },
  {
   "cell_type": "code",
   "execution_count": 48,
   "id": "eadf4555-3dd3-440e-8e35-f82a4ad9f855",
   "metadata": {
    "execution": {
     "iopub.execute_input": "2025-07-30T20:50:14.306133Z",
     "iopub.status.busy": "2025-07-30T20:50:14.305670Z",
     "iopub.status.idle": "2025-07-30T20:50:14.479625Z",
     "shell.execute_reply": "2025-07-30T20:50:14.478639Z"
    },
    "papermill": {
     "duration": 0.202467,
     "end_time": "2025-07-30T20:50:14.481473",
     "exception": false,
     "start_time": "2025-07-30T20:50:14.279006",
     "status": "completed"
    },
    "tags": []
   },
   "outputs": [],
   "source": [
    "probs_calib = model.predict_proba(X_calib)"
   ]
  },
  {
   "cell_type": "code",
   "execution_count": 49,
   "id": "2ed93547-6d5d-4983-9b36-1ecb300da49a",
   "metadata": {
    "execution": {
     "iopub.execute_input": "2025-07-30T20:50:14.532344Z",
     "iopub.status.busy": "2025-07-30T20:50:14.531862Z",
     "iopub.status.idle": "2025-07-30T20:50:14.537509Z",
     "shell.execute_reply": "2025-07-30T20:50:14.536594Z"
    },
    "papermill": {
     "duration": 0.033717,
     "end_time": "2025-07-30T20:50:14.539921",
     "exception": false,
     "start_time": "2025-07-30T20:50:14.506204",
     "status": "completed"
    },
    "tags": []
   },
   "outputs": [],
   "source": [
    "y_calib = y_calib.values.ravel().astype(int)"
   ]
  },
  {
   "cell_type": "code",
   "execution_count": 50,
   "id": "65d1320d-f588-4b38-9072-62af1ae97f7d",
   "metadata": {
    "execution": {
     "iopub.execute_input": "2025-07-30T20:50:14.591357Z",
     "iopub.status.busy": "2025-07-30T20:50:14.590868Z",
     "iopub.status.idle": "2025-07-30T20:50:14.601101Z",
     "shell.execute_reply": "2025-07-30T20:50:14.600071Z"
    },
    "papermill": {
     "duration": 0.037728,
     "end_time": "2025-07-30T20:50:14.602813",
     "exception": false,
     "start_time": "2025-07-30T20:50:14.565085",
     "status": "completed"
    },
    "tags": []
   },
   "outputs": [],
   "source": [
    "from fairness_multiverse.conformal import compute_nc_scores\n",
    "\n",
    "# Compute nonconformity scores on calibration set (1 - probability of true class)\n",
    "nc_scores = compute_nc_scores(probs_calib, y_calib)"
   ]
  },
  {
   "cell_type": "code",
   "execution_count": 51,
   "id": "df3b8ca3-53b7-43d5-9667-7c85da7aeda2",
   "metadata": {
    "execution": {
     "iopub.execute_input": "2025-07-30T20:50:14.652649Z",
     "iopub.status.busy": "2025-07-30T20:50:14.652214Z",
     "iopub.status.idle": "2025-07-30T20:50:14.658816Z",
     "shell.execute_reply": "2025-07-30T20:50:14.657813Z"
    },
    "papermill": {
     "duration": 0.033457,
     "end_time": "2025-07-30T20:50:14.660561",
     "exception": false,
     "start_time": "2025-07-30T20:50:14.627104",
     "status": "completed"
    },
    "tags": []
   },
   "outputs": [],
   "source": [
    "from fairness_multiverse.conformal import find_threshold\n",
    "\n",
    "# Find conformal threshold q_hat for the given alpha (split conformal method)\n",
    "q_hat = find_threshold(nc_scores, alpha)"
   ]
  },
  {
   "cell_type": "code",
   "execution_count": 52,
   "id": "4d29e6c1-0ef6-4aa4-b8fe-4fe79b0d033a",
   "metadata": {
    "execution": {
     "iopub.execute_input": "2025-07-30T20:50:14.710950Z",
     "iopub.status.busy": "2025-07-30T20:50:14.710082Z",
     "iopub.status.idle": "2025-07-30T20:50:14.717813Z",
     "shell.execute_reply": "2025-07-30T20:50:14.716980Z"
    },
    "papermill": {
     "duration": 0.03488,
     "end_time": "2025-07-30T20:50:14.719468",
     "exception": false,
     "start_time": "2025-07-30T20:50:14.684588",
     "status": "completed"
    },
    "tags": []
   },
   "outputs": [
    {
     "data": {
      "text/plain": [
       "0.6902142107601859"
      ]
     },
     "execution_count": 52,
     "metadata": {},
     "output_type": "execute_result"
    }
   ],
   "source": [
    "q_hat"
   ]
  },
  {
   "cell_type": "code",
   "execution_count": 53,
   "id": "92460794-cdac-4be2-ba28-f28c0515a6fb",
   "metadata": {
    "execution": {
     "iopub.execute_input": "2025-07-30T20:50:14.767800Z",
     "iopub.status.busy": "2025-07-30T20:50:14.767232Z",
     "iopub.status.idle": "2025-07-30T20:50:15.703047Z",
     "shell.execute_reply": "2025-07-30T20:50:15.702043Z"
    },
    "papermill": {
     "duration": 0.961867,
     "end_time": "2025-07-30T20:50:15.705003",
     "exception": false,
     "start_time": "2025-07-30T20:50:14.743136",
     "status": "completed"
    },
    "tags": []
   },
   "outputs": [],
   "source": [
    "from fairness_multiverse.conformal import predict_conformal_sets\n",
    "\n",
    "# Generate prediction sets for each test example\n",
    "pred_sets = predict_conformal_sets(model, X_test, q_hat)"
   ]
  },
  {
   "cell_type": "code",
   "execution_count": 54,
   "id": "d90c9a65-e6db-4f5d-80cd-e68fb7e46829",
   "metadata": {
    "execution": {
     "iopub.execute_input": "2025-07-30T20:50:15.733248Z",
     "iopub.status.busy": "2025-07-30T20:50:15.732800Z",
     "iopub.status.idle": "2025-07-30T20:50:15.738001Z",
     "shell.execute_reply": "2025-07-30T20:50:15.736848Z"
    },
    "papermill": {
     "duration": 0.020196,
     "end_time": "2025-07-30T20:50:15.739942",
     "exception": false,
     "start_time": "2025-07-30T20:50:15.719746",
     "status": "completed"
    },
    "tags": []
   },
   "outputs": [],
   "source": [
    "y_true = y_true.squeeze()"
   ]
  },
  {
   "cell_type": "code",
   "execution_count": 55,
   "id": "3a58a54a-1e68-46b9-927a-df01f18aebc8",
   "metadata": {
    "execution": {
     "iopub.execute_input": "2025-07-30T20:50:15.790506Z",
     "iopub.status.busy": "2025-07-30T20:50:15.789991Z",
     "iopub.status.idle": "2025-07-30T20:50:16.682553Z",
     "shell.execute_reply": "2025-07-30T20:50:16.681838Z"
    },
    "papermill": {
     "duration": 0.919044,
     "end_time": "2025-07-30T20:50:16.684357",
     "exception": false,
     "start_time": "2025-07-30T20:50:15.765313",
     "status": "completed"
    },
    "tags": []
   },
   "outputs": [],
   "source": [
    "from fairness_multiverse.conformal import evaluate_sets\n",
    "\n",
    "# Evaluate coverage and average set size on test data\n",
    "metrics = evaluate_sets(pred_sets, y_true)"
   ]
  },
  {
   "cell_type": "markdown",
   "id": "2b569c12-9aaa-4c88-98c9-bbcd0cf3ebb8",
   "metadata": {
    "papermill": {
     "duration": 0.024582,
     "end_time": "2025-07-30T20:50:16.733805",
     "exception": false,
     "start_time": "2025-07-30T20:50:16.709223",
     "status": "completed"
    },
    "tags": []
   },
   "source": [
    "# CP Metrics"
   ]
  },
  {
   "cell_type": "code",
   "execution_count": 56,
   "id": "5ce0a5cb-201f-45a0-ade5-94c7f0bd6095",
   "metadata": {
    "execution": {
     "iopub.execute_input": "2025-07-30T20:50:16.783938Z",
     "iopub.status.busy": "2025-07-30T20:50:16.783461Z",
     "iopub.status.idle": "2025-07-30T20:50:16.791001Z",
     "shell.execute_reply": "2025-07-30T20:50:16.789994Z"
    },
    "papermill": {
     "duration": 0.034187,
     "end_time": "2025-07-30T20:50:16.793136",
     "exception": false,
     "start_time": "2025-07-30T20:50:16.758949",
     "status": "completed"
    },
    "tags": []
   },
   "outputs": [
    {
     "data": {
      "text/plain": [
       "{'coverage': 0.9105116486456359, 'avg_size': 1.1359045814290492}"
      ]
     },
     "execution_count": 56,
     "metadata": {},
     "output_type": "execute_result"
    }
   ],
   "source": [
    "metrics"
   ]
  },
  {
   "cell_type": "code",
   "execution_count": 57,
   "id": "9b9a838d-31c9-430b-ae14-12baee460d17",
   "metadata": {
    "execution": {
     "iopub.execute_input": "2025-07-30T20:50:16.866198Z",
     "iopub.status.busy": "2025-07-30T20:50:16.865355Z",
     "iopub.status.idle": "2025-07-30T20:50:16.872446Z",
     "shell.execute_reply": "2025-07-30T20:50:16.871508Z"
    },
    "papermill": {
     "duration": 0.055365,
     "end_time": "2025-07-30T20:50:16.874078",
     "exception": false,
     "start_time": "2025-07-30T20:50:16.818713",
     "status": "completed"
    },
    "tags": []
   },
   "outputs": [],
   "source": [
    "example_universe = universe.copy()\n",
    "universe_training_year = example_universe.get(\"training_year\")\n",
    "universe_training_size = example_universe.get(\"training_size\")\n",
    "universe_scale = example_universe.get(\"scale\")\n",
    "universe_model = example_universe.get(\"model\")\n",
    "universe_exclude_features = example_universe.get(\"exclude_features\")\n",
    "universe_exclude_subgroups = example_universe.get(\"exclude_subgroups\")"
   ]
  },
  {
   "cell_type": "code",
   "execution_count": 58,
   "id": "f4b6a8ac-9dc0-4245-8a91-5b3b5999c4f9",
   "metadata": {
    "execution": {
     "iopub.execute_input": "2025-07-30T20:50:16.928161Z",
     "iopub.status.busy": "2025-07-30T20:50:16.927645Z",
     "iopub.status.idle": "2025-07-30T20:50:16.934657Z",
     "shell.execute_reply": "2025-07-30T20:50:16.933642Z"
    },
    "papermill": {
     "duration": 0.034912,
     "end_time": "2025-07-30T20:50:16.936324",
     "exception": false,
     "start_time": "2025-07-30T20:50:16.901412",
     "status": "completed"
    },
    "tags": []
   },
   "outputs": [],
   "source": [
    "cp_metrics_dict = {\n",
    "    \"universe_id\": [universe_id],\n",
    "    \"universe_training_year\": [universe_training_year],\n",
    "    \"universe_training_size\": [universe_training_size],\n",
    "    \"universe_scale\": [universe_scale],\n",
    "    \"universe_model\": [universe_model],\n",
    "    \"universe_exclude_features\": [universe_exclude_features],\n",
    "    \"universe_exclude_subgroups\": [universe_exclude_subgroups],\n",
    "    \"q_hat\": [q_hat],\n",
    "    \"coverage\": [metrics[\"coverage\"]],\n",
    "    \"avg_size\": [metrics[\"avg_size\"]],\n",
    "}"
   ]
  },
  {
   "cell_type": "code",
   "execution_count": 59,
   "id": "908acbb1-0371-4915-85ca-3fa520d2efe2",
   "metadata": {
    "execution": {
     "iopub.execute_input": "2025-07-30T20:50:16.987987Z",
     "iopub.status.busy": "2025-07-30T20:50:16.987344Z",
     "iopub.status.idle": "2025-07-30T20:50:16.994814Z",
     "shell.execute_reply": "2025-07-30T20:50:16.993977Z"
    },
    "papermill": {
     "duration": 0.03441,
     "end_time": "2025-07-30T20:50:16.996361",
     "exception": false,
     "start_time": "2025-07-30T20:50:16.961951",
     "status": "completed"
    },
    "tags": []
   },
   "outputs": [
    {
     "data": {
      "text/plain": [
       "{'universe_id': ['3393432130bd198240b469941dcba65c'],\n",
       " 'universe_training_year': ['2014'],\n",
       " 'universe_training_size': ['5k'],\n",
       " 'universe_scale': ['scale'],\n",
       " 'universe_model': ['elasticnet'],\n",
       " 'universe_exclude_features': ['age'],\n",
       " 'universe_exclude_subgroups': ['keep-all'],\n",
       " 'q_hat': [0.6902142107601859],\n",
       " 'coverage': [0.9105116486456359],\n",
       " 'avg_size': [1.1359045814290492]}"
      ]
     },
     "execution_count": 59,
     "metadata": {},
     "output_type": "execute_result"
    }
   ],
   "source": [
    "cp_metrics_dict"
   ]
  },
  {
   "cell_type": "code",
   "execution_count": 60,
   "id": "33007efc-14e9-4ec6-97ac-56a455c82265",
   "metadata": {
    "execution": {
     "iopub.execute_input": "2025-07-30T20:50:17.050386Z",
     "iopub.status.busy": "2025-07-30T20:50:17.049886Z",
     "iopub.status.idle": "2025-07-30T20:50:17.056263Z",
     "shell.execute_reply": "2025-07-30T20:50:17.055305Z"
    },
    "papermill": {
     "duration": 0.03499,
     "end_time": "2025-07-30T20:50:17.057703",
     "exception": false,
     "start_time": "2025-07-30T20:50:17.022713",
     "status": "completed"
    },
    "tags": []
   },
   "outputs": [],
   "source": [
    "cp_metrics_df = pd.DataFrame(cp_metrics_dict)"
   ]
  },
  {
   "cell_type": "code",
   "execution_count": 61,
   "id": "db12611b-57b2-4910-b9d0-355adfd6e7bf",
   "metadata": {
    "execution": {
     "iopub.execute_input": "2025-07-30T20:50:17.109893Z",
     "iopub.status.busy": "2025-07-30T20:50:17.109325Z",
     "iopub.status.idle": "2025-07-30T20:50:17.127848Z",
     "shell.execute_reply": "2025-07-30T20:50:17.126968Z"
    },
    "papermill": {
     "duration": 0.046857,
     "end_time": "2025-07-30T20:50:17.129532",
     "exception": false,
     "start_time": "2025-07-30T20:50:17.082675",
     "status": "completed"
    },
    "tags": []
   },
   "outputs": [
    {
     "data": {
      "text/html": [
       "<div>\n",
       "<style scoped>\n",
       "    .dataframe tbody tr th:only-of-type {\n",
       "        vertical-align: middle;\n",
       "    }\n",
       "\n",
       "    .dataframe tbody tr th {\n",
       "        vertical-align: top;\n",
       "    }\n",
       "\n",
       "    .dataframe thead th {\n",
       "        text-align: right;\n",
       "    }\n",
       "</style>\n",
       "<table border=\"1\" class=\"dataframe\">\n",
       "  <thead>\n",
       "    <tr style=\"text-align: right;\">\n",
       "      <th></th>\n",
       "      <th>universe_id</th>\n",
       "      <th>universe_training_year</th>\n",
       "      <th>universe_training_size</th>\n",
       "      <th>universe_scale</th>\n",
       "      <th>universe_model</th>\n",
       "      <th>universe_exclude_features</th>\n",
       "      <th>universe_exclude_subgroups</th>\n",
       "      <th>q_hat</th>\n",
       "      <th>coverage</th>\n",
       "      <th>avg_size</th>\n",
       "    </tr>\n",
       "  </thead>\n",
       "  <tbody>\n",
       "    <tr>\n",
       "      <th>0</th>\n",
       "      <td>3393432130bd198240b469941dcba65c</td>\n",
       "      <td>2014</td>\n",
       "      <td>5k</td>\n",
       "      <td>scale</td>\n",
       "      <td>elasticnet</td>\n",
       "      <td>age</td>\n",
       "      <td>keep-all</td>\n",
       "      <td>0.690214</td>\n",
       "      <td>0.910512</td>\n",
       "      <td>1.135905</td>\n",
       "    </tr>\n",
       "  </tbody>\n",
       "</table>\n",
       "</div>"
      ],
      "text/plain": [
       "                        universe_id universe_training_year  \\\n",
       "0  3393432130bd198240b469941dcba65c                   2014   \n",
       "\n",
       "  universe_training_size universe_scale universe_model  \\\n",
       "0                     5k          scale     elasticnet   \n",
       "\n",
       "  universe_exclude_features universe_exclude_subgroups     q_hat  coverage  \\\n",
       "0                       age                   keep-all  0.690214  0.910512   \n",
       "\n",
       "   avg_size  \n",
       "0  1.135905  "
      ]
     },
     "execution_count": 61,
     "metadata": {},
     "output_type": "execute_result"
    }
   ],
   "source": [
    "cp_metrics_df"
   ]
  },
  {
   "cell_type": "code",
   "execution_count": 62,
   "id": "b7fbde55-a0a1-47e4-9af6-fe4a17fa8c61",
   "metadata": {
    "execution": {
     "iopub.execute_input": "2025-07-30T20:50:17.183051Z",
     "iopub.status.busy": "2025-07-30T20:50:17.182207Z",
     "iopub.status.idle": "2025-07-30T20:50:17.187587Z",
     "shell.execute_reply": "2025-07-30T20:50:17.186686Z"
    },
    "papermill": {
     "duration": 0.033676,
     "end_time": "2025-07-30T20:50:17.189150",
     "exception": false,
     "start_time": "2025-07-30T20:50:17.155474",
     "status": "completed"
    },
    "tags": []
   },
   "outputs": [],
   "source": [
    "# Conditional Coverage & looking at subgroups"
   ]
  },
  {
   "cell_type": "code",
   "execution_count": 63,
   "id": "027ae886-68dd-4141-96c7-805a5450e1ef",
   "metadata": {
    "execution": {
     "iopub.execute_input": "2025-07-30T20:50:17.241653Z",
     "iopub.status.busy": "2025-07-30T20:50:17.240801Z",
     "iopub.status.idle": "2025-07-30T20:50:17.515613Z",
     "shell.execute_reply": "2025-07-30T20:50:17.514614Z"
    },
    "papermill": {
     "duration": 0.303289,
     "end_time": "2025-07-30T20:50:17.517730",
     "exception": false,
     "start_time": "2025-07-30T20:50:17.214441",
     "status": "completed"
    },
    "tags": []
   },
   "outputs": [],
   "source": [
    "from fairness_multiverse.conformal import build_cp_groups\n",
    "\n",
    "cp_groups_df = build_cp_groups(pred_sets, y_true, X_test.index, org_test)\n",
    "#needs universe_id and setting"
   ]
  },
  {
   "cell_type": "code",
   "execution_count": 64,
   "id": "01d5802c-663a-4d1f-9d69-e036faaffbf7",
   "metadata": {
    "execution": {
     "iopub.execute_input": "2025-07-30T20:50:17.570044Z",
     "iopub.status.busy": "2025-07-30T20:50:17.569381Z",
     "iopub.status.idle": "2025-07-30T20:50:17.574224Z",
     "shell.execute_reply": "2025-07-30T20:50:17.573262Z"
    },
    "papermill": {
     "duration": 0.032804,
     "end_time": "2025-07-30T20:50:17.575865",
     "exception": false,
     "start_time": "2025-07-30T20:50:17.543061",
     "status": "completed"
    },
    "tags": []
   },
   "outputs": [],
   "source": [
    "#delete\n",
    "#cp_groups_df"
   ]
  },
  {
   "cell_type": "code",
   "execution_count": 65,
   "id": "fa424af1-d1eb-443d-b717-2d279ada8408",
   "metadata": {
    "execution": {
     "iopub.execute_input": "2025-07-30T20:50:17.627985Z",
     "iopub.status.busy": "2025-07-30T20:50:17.627324Z",
     "iopub.status.idle": "2025-07-30T20:50:17.632482Z",
     "shell.execute_reply": "2025-07-30T20:50:17.631460Z"
    },
    "papermill": {
     "duration": 0.032497,
     "end_time": "2025-07-30T20:50:17.634033",
     "exception": false,
     "start_time": "2025-07-30T20:50:17.601536",
     "status": "completed"
    },
    "tags": []
   },
   "outputs": [],
   "source": [
    "#delete\n",
    "#percentage = (cp_groups_df['nongerman_female'] == 1).mean() * 100\n",
    "#print(percentage)\n"
   ]
  },
  {
   "cell_type": "code",
   "execution_count": 66,
   "id": "6cbdab96-b2b2-45af-ad54-d0516db2e28d",
   "metadata": {
    "execution": {
     "iopub.execute_input": "2025-07-30T20:50:17.686672Z",
     "iopub.status.busy": "2025-07-30T20:50:17.686010Z",
     "iopub.status.idle": "2025-07-30T20:50:19.466608Z",
     "shell.execute_reply": "2025-07-30T20:50:19.465562Z"
    },
    "papermill": {
     "duration": 1.808389,
     "end_time": "2025-07-30T20:50:19.468550",
     "exception": false,
     "start_time": "2025-07-30T20:50:17.660161",
     "status": "completed"
    },
    "tags": []
   },
   "outputs": [],
   "source": [
    "# Define covered = 1 if true_label is in the predicted set\n",
    "cp_groups_df['covered'] = cp_groups_df.apply(\n",
    "    lambda r: int(r['true_label'] in r['pred_set']),\n",
    "    axis=1\n",
    ")"
   ]
  },
  {
   "cell_type": "code",
   "execution_count": 67,
   "id": "338ff529-1a6b-4b87-a931-8e4788d52aad",
   "metadata": {
    "execution": {
     "iopub.execute_input": "2025-07-30T20:50:19.518728Z",
     "iopub.status.busy": "2025-07-30T20:50:19.517955Z",
     "iopub.status.idle": "2025-07-30T20:50:19.523979Z",
     "shell.execute_reply": "2025-07-30T20:50:19.522909Z"
    },
    "papermill": {
     "duration": 0.032691,
     "end_time": "2025-07-30T20:50:19.525585",
     "exception": false,
     "start_time": "2025-07-30T20:50:19.492894",
     "status": "completed"
    },
    "tags": []
   },
   "outputs": [],
   "source": [
    "#cp_groups_df"
   ]
  },
  {
   "cell_type": "code",
   "execution_count": 68,
   "id": "90032e27-66df-4540-9169-4e89cfbaa758",
   "metadata": {
    "execution": {
     "iopub.execute_input": "2025-07-30T20:50:19.575472Z",
     "iopub.status.busy": "2025-07-30T20:50:19.574799Z",
     "iopub.status.idle": "2025-07-30T20:50:19.588084Z",
     "shell.execute_reply": "2025-07-30T20:50:19.587128Z"
    },
    "papermill": {
     "duration": 0.040046,
     "end_time": "2025-07-30T20:50:19.589843",
     "exception": false,
     "start_time": "2025-07-30T20:50:19.549797",
     "status": "completed"
    },
    "tags": []
   },
   "outputs": [],
   "source": [
    "subgroups = ['frau1','nongerman','nongerman_male','nongerman_female']\n",
    "\n",
    "# Conditional coverage for subgroup==1\n",
    "cond_coverage = {\n",
    "    g: cp_groups_df.loc[cp_groups_df[g]==1, 'covered'].mean()\n",
    "    for g in subgroups\n",
    "}"
   ]
  },
  {
   "cell_type": "code",
   "execution_count": 69,
   "id": "1e348fb1-b9c3-45bc-ba23-f016827a7e0d",
   "metadata": {
    "execution": {
     "iopub.execute_input": "2025-07-30T20:50:19.640018Z",
     "iopub.status.busy": "2025-07-30T20:50:19.639265Z",
     "iopub.status.idle": "2025-07-30T20:50:19.648185Z",
     "shell.execute_reply": "2025-07-30T20:50:19.647116Z"
    },
    "papermill": {
     "duration": 0.035878,
     "end_time": "2025-07-30T20:50:19.649911",
     "exception": false,
     "start_time": "2025-07-30T20:50:19.614033",
     "status": "completed"
    },
    "tags": []
   },
   "outputs": [
    {
     "data": {
      "text/plain": [
       "{'frau1': 0.9073999191265669,\n",
       " 'nongerman': 0.9079885476898895,\n",
       " 'nongerman_male': 0.9268666126272179,\n",
       " 'nongerman_female': 0.8767511177347243}"
      ]
     },
     "execution_count": 69,
     "metadata": {},
     "output_type": "execute_result"
    }
   ],
   "source": [
    "cond_coverage"
   ]
  },
  {
   "cell_type": "code",
   "execution_count": 70,
   "id": "f5093324-c3dd-4d63-bc4c-8d945e5c8bbb",
   "metadata": {
    "execution": {
     "iopub.execute_input": "2025-07-30T20:50:19.700826Z",
     "iopub.status.busy": "2025-07-30T20:50:19.699987Z",
     "iopub.status.idle": "2025-07-30T20:50:19.708865Z",
     "shell.execute_reply": "2025-07-30T20:50:19.707757Z"
    },
    "papermill": {
     "duration": 0.036219,
     "end_time": "2025-07-30T20:50:19.710508",
     "exception": false,
     "start_time": "2025-07-30T20:50:19.674289",
     "status": "completed"
    },
    "tags": []
   },
   "outputs": [],
   "source": [
    "for subgroup, cov in cond_coverage.items():\n",
    "    cp_metrics_df[f\"cov_{subgroup}\"] = cov"
   ]
  },
  {
   "cell_type": "code",
   "execution_count": 71,
   "id": "6e872e10-dbe5-49e8-b554-5030c98ff75d",
   "metadata": {
    "execution": {
     "iopub.execute_input": "2025-07-30T20:50:19.761567Z",
     "iopub.status.busy": "2025-07-30T20:50:19.760894Z",
     "iopub.status.idle": "2025-07-30T20:50:19.782317Z",
     "shell.execute_reply": "2025-07-30T20:50:19.781183Z"
    },
    "papermill": {
     "duration": 0.049354,
     "end_time": "2025-07-30T20:50:19.784510",
     "exception": false,
     "start_time": "2025-07-30T20:50:19.735156",
     "status": "completed"
    },
    "tags": []
   },
   "outputs": [
    {
     "data": {
      "text/html": [
       "<div>\n",
       "<style scoped>\n",
       "    .dataframe tbody tr th:only-of-type {\n",
       "        vertical-align: middle;\n",
       "    }\n",
       "\n",
       "    .dataframe tbody tr th {\n",
       "        vertical-align: top;\n",
       "    }\n",
       "\n",
       "    .dataframe thead th {\n",
       "        text-align: right;\n",
       "    }\n",
       "</style>\n",
       "<table border=\"1\" class=\"dataframe\">\n",
       "  <thead>\n",
       "    <tr style=\"text-align: right;\">\n",
       "      <th></th>\n",
       "      <th>universe_id</th>\n",
       "      <th>universe_training_year</th>\n",
       "      <th>universe_training_size</th>\n",
       "      <th>universe_scale</th>\n",
       "      <th>universe_model</th>\n",
       "      <th>universe_exclude_features</th>\n",
       "      <th>universe_exclude_subgroups</th>\n",
       "      <th>q_hat</th>\n",
       "      <th>coverage</th>\n",
       "      <th>avg_size</th>\n",
       "      <th>cov_frau1</th>\n",
       "      <th>cov_nongerman</th>\n",
       "      <th>cov_nongerman_male</th>\n",
       "      <th>cov_nongerman_female</th>\n",
       "    </tr>\n",
       "  </thead>\n",
       "  <tbody>\n",
       "    <tr>\n",
       "      <th>0</th>\n",
       "      <td>3393432130bd198240b469941dcba65c</td>\n",
       "      <td>2014</td>\n",
       "      <td>5k</td>\n",
       "      <td>scale</td>\n",
       "      <td>elasticnet</td>\n",
       "      <td>age</td>\n",
       "      <td>keep-all</td>\n",
       "      <td>0.690214</td>\n",
       "      <td>0.910512</td>\n",
       "      <td>1.135905</td>\n",
       "      <td>0.9074</td>\n",
       "      <td>0.907989</td>\n",
       "      <td>0.926867</td>\n",
       "      <td>0.876751</td>\n",
       "    </tr>\n",
       "  </tbody>\n",
       "</table>\n",
       "</div>"
      ],
      "text/plain": [
       "                        universe_id universe_training_year  \\\n",
       "0  3393432130bd198240b469941dcba65c                   2014   \n",
       "\n",
       "  universe_training_size universe_scale universe_model  \\\n",
       "0                     5k          scale     elasticnet   \n",
       "\n",
       "  universe_exclude_features universe_exclude_subgroups     q_hat  coverage  \\\n",
       "0                       age                   keep-all  0.690214  0.910512   \n",
       "\n",
       "   avg_size  cov_frau1  cov_nongerman  cov_nongerman_male  \\\n",
       "0  1.135905     0.9074       0.907989            0.926867   \n",
       "\n",
       "   cov_nongerman_female  \n",
       "0              0.876751  "
      ]
     },
     "execution_count": 71,
     "metadata": {},
     "output_type": "execute_result"
    }
   ],
   "source": [
    "cp_metrics_df"
   ]
  },
  {
   "cell_type": "markdown",
   "id": "33774451",
   "metadata": {
    "papermill": {
     "duration": 0.037166,
     "end_time": "2025-07-30T20:50:19.860248",
     "exception": false,
     "start_time": "2025-07-30T20:50:19.823082",
     "status": "completed"
    },
    "tags": []
   },
   "source": [
    "# (Fairness) Metrics"
   ]
  },
  {
   "cell_type": "code",
   "execution_count": 72,
   "id": "debc5d62",
   "metadata": {
    "execution": {
     "iopub.execute_input": "2025-07-30T20:50:19.937590Z",
     "iopub.status.busy": "2025-07-30T20:50:19.936877Z",
     "iopub.status.idle": "2025-07-30T20:50:19.959380Z",
     "shell.execute_reply": "2025-07-30T20:50:19.958263Z"
    },
    "papermill": {
     "duration": 0.063553,
     "end_time": "2025-07-30T20:50:19.962146",
     "exception": false,
     "start_time": "2025-07-30T20:50:19.898593",
     "status": "completed"
    },
    "tags": []
   },
   "outputs": [],
   "source": [
    "# do I need to include maxdeutsch1.missing?\n",
    "\n",
    "import numpy as np\n",
    "\n",
    "colname_to_bin = \"maxdeutsch1\"\n",
    "majority_value = org_train[colname_to_bin].mode()[0]\n",
    "\n",
    "org_test[\"majmin\"] = np.where(org_test[colname_to_bin] == majority_value, \"majority\", \"minority\")"
   ]
  },
  {
   "cell_type": "code",
   "execution_count": 73,
   "id": "06a50de5",
   "metadata": {
    "execution": {
     "iopub.execute_input": "2025-07-30T20:50:20.038640Z",
     "iopub.status.busy": "2025-07-30T20:50:20.038148Z",
     "iopub.status.idle": "2025-07-30T20:50:22.148136Z",
     "shell.execute_reply": "2025-07-30T20:50:22.147364Z"
    },
    "papermill": {
     "duration": 2.149609,
     "end_time": "2025-07-30T20:50:22.149582",
     "exception": false,
     "start_time": "2025-07-30T20:50:19.999973",
     "status": "completed"
    },
    "tags": []
   },
   "outputs": [],
   "source": [
    "example_universe = universe.copy()\n",
    "example_universe[\"cutoff\"] = example_universe[\"cutoff\"][0]\n",
    "example_universe[\"eval_fairness_grouping\"] = example_universe[\"eval_fairness_grouping\"][0]\n",
    "fairness_dict, metric_frame = universe_analysis.compute_metrics(\n",
    "    example_universe,\n",
    "    y_pred_prob=probs_test,\n",
    "    y_test=y_true,\n",
    "    org_test=org_test,\n",
    ")"
   ]
  },
  {
   "cell_type": "markdown",
   "id": "f95d4e02",
   "metadata": {
    "papermill": {
     "duration": 0.017688,
     "end_time": "2025-07-30T20:50:22.184809",
     "exception": false,
     "start_time": "2025-07-30T20:50:22.167121",
     "status": "completed"
    },
    "tags": []
   },
   "source": [
    "# Overall"
   ]
  },
  {
   "cell_type": "markdown",
   "id": "bdee4871",
   "metadata": {
    "papermill": {
     "duration": 0.013194,
     "end_time": "2025-07-30T20:50:22.211885",
     "exception": false,
     "start_time": "2025-07-30T20:50:22.198691",
     "status": "completed"
    },
    "tags": []
   },
   "source": [
    "Fairness\n",
    "Main fairness target: Equalized Odds. Seems to be a better fit than equal opportunity, since we're not only interested in Y = 1. Seems to be a better fit than demographic parity, since we also care about accuracy, not just equal distribution of preds.\n",
    "\n",
    "Pick column for computation of fairness metrics\n",
    "\n",
    "Performance\n",
    "Overall performance measures, most interesting in relation to the measures split by group below"
   ]
  },
  {
   "cell_type": "code",
   "execution_count": 74,
   "id": "c4e067c6",
   "metadata": {
    "execution": {
     "iopub.execute_input": "2025-07-30T20:50:22.272428Z",
     "iopub.status.busy": "2025-07-30T20:50:22.271521Z",
     "iopub.status.idle": "2025-07-30T20:50:22.279910Z",
     "shell.execute_reply": "2025-07-30T20:50:22.278852Z"
    },
    "papermill": {
     "duration": 0.050232,
     "end_time": "2025-07-30T20:50:22.281926",
     "exception": false,
     "start_time": "2025-07-30T20:50:22.231694",
     "status": "completed"
    },
    "tags": []
   },
   "outputs": [
    {
     "data": {
      "text/plain": [
       "accuracy                   0.223866\n",
       "balanced accuracy          0.547489\n",
       "f1                         0.245211\n",
       "precision                  0.140081\n",
       "false positive rate        0.887816\n",
       "false negative rate        0.017205\n",
       "selection rate             0.900000\n",
       "count                  89710.000000\n",
       "dtype: float64"
      ]
     },
     "execution_count": 74,
     "metadata": {},
     "output_type": "execute_result"
    }
   ],
   "source": [
    "metric_frame.overall"
   ]
  },
  {
   "cell_type": "markdown",
   "id": "e968fe9d",
   "metadata": {
    "papermill": {
     "duration": 0.01415,
     "end_time": "2025-07-30T20:50:22.332806",
     "exception": false,
     "start_time": "2025-07-30T20:50:22.318656",
     "status": "completed"
    },
    "tags": []
   },
   "source": [
    "By Group"
   ]
  },
  {
   "cell_type": "code",
   "execution_count": 75,
   "id": "ec325bce",
   "metadata": {
    "execution": {
     "iopub.execute_input": "2025-07-30T20:50:22.361248Z",
     "iopub.status.busy": "2025-07-30T20:50:22.360807Z",
     "iopub.status.idle": "2025-07-30T20:50:22.375161Z",
     "shell.execute_reply": "2025-07-30T20:50:22.374404Z"
    },
    "papermill": {
     "duration": 0.030296,
     "end_time": "2025-07-30T20:50:22.376622",
     "exception": false,
     "start_time": "2025-07-30T20:50:22.346326",
     "status": "completed"
    },
    "tags": []
   },
   "outputs": [
    {
     "data": {
      "text/html": [
       "<div>\n",
       "<style scoped>\n",
       "    .dataframe tbody tr th:only-of-type {\n",
       "        vertical-align: middle;\n",
       "    }\n",
       "\n",
       "    .dataframe tbody tr th {\n",
       "        vertical-align: top;\n",
       "    }\n",
       "\n",
       "    .dataframe thead th {\n",
       "        text-align: right;\n",
       "    }\n",
       "</style>\n",
       "<table border=\"1\" class=\"dataframe\">\n",
       "  <thead>\n",
       "    <tr style=\"text-align: right;\">\n",
       "      <th></th>\n",
       "      <th>accuracy</th>\n",
       "      <th>balanced accuracy</th>\n",
       "      <th>f1</th>\n",
       "      <th>precision</th>\n",
       "      <th>false positive rate</th>\n",
       "      <th>false negative rate</th>\n",
       "      <th>selection rate</th>\n",
       "      <th>count</th>\n",
       "    </tr>\n",
       "    <tr>\n",
       "      <th>majmin</th>\n",
       "      <th></th>\n",
       "      <th></th>\n",
       "      <th></th>\n",
       "      <th></th>\n",
       "      <th></th>\n",
       "      <th></th>\n",
       "      <th></th>\n",
       "      <th></th>\n",
       "    </tr>\n",
       "  </thead>\n",
       "  <tbody>\n",
       "    <tr>\n",
       "      <th>majority</th>\n",
       "      <td>0.242620</td>\n",
       "      <td>0.556046</td>\n",
       "      <td>0.255218</td>\n",
       "      <td>0.146667</td>\n",
       "      <td>0.869965</td>\n",
       "      <td>0.017943</td>\n",
       "      <td>0.884777</td>\n",
       "      <td>69170.0</td>\n",
       "    </tr>\n",
       "    <tr>\n",
       "      <th>minority</th>\n",
       "      <td>0.160711</td>\n",
       "      <td>0.519428</td>\n",
       "      <td>0.213083</td>\n",
       "      <td>0.119453</td>\n",
       "      <td>0.946786</td>\n",
       "      <td>0.014358</td>\n",
       "      <td>0.951266</td>\n",
       "      <td>20540.0</td>\n",
       "    </tr>\n",
       "  </tbody>\n",
       "</table>\n",
       "</div>"
      ],
      "text/plain": [
       "          accuracy  balanced accuracy        f1  precision  \\\n",
       "majmin                                                       \n",
       "majority  0.242620           0.556046  0.255218   0.146667   \n",
       "minority  0.160711           0.519428  0.213083   0.119453   \n",
       "\n",
       "          false positive rate  false negative rate  selection rate    count  \n",
       "majmin                                                                       \n",
       "majority             0.869965             0.017943        0.884777  69170.0  \n",
       "minority             0.946786             0.014358        0.951266  20540.0  "
      ]
     },
     "execution_count": 75,
     "metadata": {},
     "output_type": "execute_result"
    }
   ],
   "source": [
    "metric_frame.by_group"
   ]
  },
  {
   "cell_type": "code",
   "execution_count": 76,
   "id": "a9ddbe63",
   "metadata": {
    "execution": {
     "iopub.execute_input": "2025-07-30T20:50:22.407676Z",
     "iopub.status.busy": "2025-07-30T20:50:22.407190Z",
     "iopub.status.idle": "2025-07-30T20:50:24.328383Z",
     "shell.execute_reply": "2025-07-30T20:50:24.327537Z"
    },
    "papermill": {
     "duration": 1.938108,
     "end_time": "2025-07-30T20:50:24.329981",
     "exception": false,
     "start_time": "2025-07-30T20:50:22.391873",
     "status": "completed"
    },
    "tags": []
   },
   "outputs": [
    {
     "data": {
      "text/plain": [
       "array([[<Axes: title={'center': 'accuracy'}, xlabel='majmin'>,\n",
       "        <Axes: title={'center': 'balanced accuracy'}, xlabel='majmin'>,\n",
       "        <Axes: title={'center': 'f1'}, xlabel='majmin'>],\n",
       "       [<Axes: title={'center': 'precision'}, xlabel='majmin'>,\n",
       "        <Axes: title={'center': 'false positive rate'}, xlabel='majmin'>,\n",
       "        <Axes: title={'center': 'false negative rate'}, xlabel='majmin'>],\n",
       "       [<Axes: title={'center': 'selection rate'}, xlabel='majmin'>,\n",
       "        <Axes: title={'center': 'count'}, xlabel='majmin'>,\n",
       "        <Axes: xlabel='majmin'>]], dtype=object)"
      ]
     },
     "execution_count": 76,
     "metadata": {},
     "output_type": "execute_result"
    },
    {
     "data": {
      "image/png": "[encoded data removed]",
      "text/plain": [
       "<Figure size 1200x800 with 9 Axes>"
      ]
     },
     "metadata": {},
     "output_type": "display_data"
    }
   ],
   "source": [
    "# In a graphic\n",
    "metric_frame.by_group.plot.bar(\n",
    "    subplots=True,\n",
    "    layout=[3, 3],\n",
    "    legend=False,\n",
    "    figsize=[12, 8],\n",
    "    title=\"Show all metrics\",\n",
    ")"
   ]
  },
  {
   "cell_type": "markdown",
   "id": "f57a0bac",
   "metadata": {
    "papermill": {
     "duration": 0.025923,
     "end_time": "2025-07-30T20:50:24.382663",
     "exception": false,
     "start_time": "2025-07-30T20:50:24.356740",
     "status": "completed"
    },
    "tags": []
   },
   "source": [
    "# Final Output"
   ]
  },
  {
   "cell_type": "code",
   "execution_count": 77,
   "id": "96d280a3",
   "metadata": {
    "execution": {
     "iopub.execute_input": "2025-07-30T20:50:24.436449Z",
     "iopub.status.busy": "2025-07-30T20:50:24.435800Z",
     "iopub.status.idle": "2025-07-30T20:50:24.443869Z",
     "shell.execute_reply": "2025-07-30T20:50:24.443016Z"
    },
    "papermill": {
     "duration": 0.036687,
     "end_time": "2025-07-30T20:50:24.445361",
     "exception": false,
     "start_time": "2025-07-30T20:50:24.408674",
     "status": "completed"
    },
    "tags": []
   },
   "outputs": [
    {
     "data": {
      "text/plain": [
       "4"
      ]
     },
     "execution_count": 77,
     "metadata": {},
     "output_type": "execute_result"
    }
   ],
   "source": [
    "sub_universes = universe_analysis.generate_sub_universes()\n",
    "len(sub_universes)"
   ]
  },
  {
   "cell_type": "code",
   "execution_count": 78,
   "id": "92adf7ba",
   "metadata": {
    "execution": {
     "iopub.execute_input": "2025-07-30T20:50:24.500147Z",
     "iopub.status.busy": "2025-07-30T20:50:24.499468Z",
     "iopub.status.idle": "2025-07-30T20:50:24.505563Z",
     "shell.execute_reply": "2025-07-30T20:50:24.504612Z"
    },
    "papermill": {
     "duration": 0.035015,
     "end_time": "2025-07-30T20:50:24.507042",
     "exception": false,
     "start_time": "2025-07-30T20:50:24.472027",
     "status": "completed"
    },
    "tags": []
   },
   "outputs": [],
   "source": [
    "def filter_sub_universe_data(sub_universe, org_test):\n",
    "    # Keep all rows — no filtering\n",
    "    keep_rows_mask = np.ones(org_test.shape[0], dtype=bool)\n",
    "\n",
    "    print(f\"[INFO] Keeping all rows: {keep_rows_mask.sum()} rows retained.\")\n",
    "    return keep_rows_mask"
   ]
  },
  {
   "cell_type": "code",
   "execution_count": 79,
   "id": "4a759155",
   "metadata": {
    "execution": {
     "iopub.execute_input": "2025-07-30T20:50:24.562129Z",
     "iopub.status.busy": "2025-07-30T20:50:24.561472Z",
     "iopub.status.idle": "2025-07-30T20:50:35.143365Z",
     "shell.execute_reply": "2025-07-30T20:50:35.142092Z"
    },
    "papermill": {
     "duration": 10.610922,
     "end_time": "2025-07-30T20:50:35.145014",
     "exception": false,
     "start_time": "2025-07-30T20:50:24.534092",
     "status": "completed"
    },
    "tags": []
   },
   "outputs": [
    {
     "name": "stdout",
     "output_type": "stream",
     "text": [
      "Stopping execution_time clock.\n",
      "[INFO] Keeping all rows: 89710 rows retained.\n"
     ]
    },
    {
     "name": "stdout",
     "output_type": "stream",
     "text": [
      "[INFO] Keeping all rows: 89710 rows retained.\n"
     ]
    },
    {
     "name": "stdout",
     "output_type": "stream",
     "text": [
      "[INFO] Keeping all rows: 89710 rows retained.\n"
     ]
    },
    {
     "name": "stdout",
     "output_type": "stream",
     "text": [
      "[INFO] Keeping all rows: 89710 rows retained.\n"
     ]
    },
    {
     "data": {
      "text/html": [
       "<div>\n",
       "<style scoped>\n",
       "    .dataframe tbody tr th:only-of-type {\n",
       "        vertical-align: middle;\n",
       "    }\n",
       "\n",
       "    .dataframe tbody tr th {\n",
       "        vertical-align: top;\n",
       "    }\n",
       "\n",
       "    .dataframe thead th {\n",
       "        text-align: right;\n",
       "    }\n",
       "</style>\n",
       "<table border=\"1\" class=\"dataframe\">\n",
       "  <thead>\n",
       "    <tr style=\"text-align: right;\">\n",
       "      <th></th>\n",
       "      <th>run_no</th>\n",
       "      <th>universe_id</th>\n",
       "      <th>universe_settings</th>\n",
       "      <th>execution_time</th>\n",
       "      <th>test_size_n</th>\n",
       "      <th>test_size_frac</th>\n",
       "      <th>fair_main_equalized_odds_difference</th>\n",
       "      <th>fair_main_equalized_odds_ratio</th>\n",
       "      <th>fair_main_demographic_parity_difference</th>\n",
       "      <th>fair_main_demographic_parity_ratio</th>\n",
       "      <th>...</th>\n",
       "      <th>perf_grp_precision_0</th>\n",
       "      <th>perf_grp_precision_1</th>\n",
       "      <th>perf_grp_false positive rate_0</th>\n",
       "      <th>perf_grp_false positive rate_1</th>\n",
       "      <th>perf_grp_false negative rate_0</th>\n",
       "      <th>perf_grp_false negative rate_1</th>\n",
       "      <th>perf_grp_selection rate_0</th>\n",
       "      <th>perf_grp_selection rate_1</th>\n",
       "      <th>perf_grp_count_0</th>\n",
       "      <th>perf_grp_count_1</th>\n",
       "    </tr>\n",
       "  </thead>\n",
       "  <tbody>\n",
       "    <tr>\n",
       "      <th>0</th>\n",
       "      <td>14</td>\n",
       "      <td>3393432130bd198240b469941dcba65c</td>\n",
       "      <td>{\"cutoff\": \"quantile_0.1\", \"eval_fairness_grou...</td>\n",
       "      <td>33.688751</td>\n",
       "      <td>89710</td>\n",
       "      <td>1.0</td>\n",
       "      <td>0.076821</td>\n",
       "      <td>0.918861</td>\n",
       "      <td>0.066489</td>\n",
       "      <td>0.930105</td>\n",
       "      <td>...</td>\n",
       "      <td>NaN</td>\n",
       "      <td>NaN</td>\n",
       "      <td>NaN</td>\n",
       "      <td>NaN</td>\n",
       "      <td>NaN</td>\n",
       "      <td>NaN</td>\n",
       "      <td>NaN</td>\n",
       "      <td>NaN</td>\n",
       "      <td>NaN</td>\n",
       "      <td>NaN</td>\n",
       "    </tr>\n",
       "    <tr>\n",
       "      <th>0</th>\n",
       "      <td>14</td>\n",
       "      <td>3393432130bd198240b469941dcba65c</td>\n",
       "      <td>{\"cutoff\": \"quantile_0.1\", \"eval_fairness_grou...</td>\n",
       "      <td>33.688751</td>\n",
       "      <td>89710</td>\n",
       "      <td>1.0</td>\n",
       "      <td>0.076821</td>\n",
       "      <td>0.918861</td>\n",
       "      <td>0.066489</td>\n",
       "      <td>0.930105</td>\n",
       "      <td>...</td>\n",
       "      <td>0.119453</td>\n",
       "      <td>0.146667</td>\n",
       "      <td>0.946786</td>\n",
       "      <td>0.869965</td>\n",
       "      <td>0.014358</td>\n",
       "      <td>0.017943</td>\n",
       "      <td>0.951266</td>\n",
       "      <td>0.884777</td>\n",
       "      <td>20540.0</td>\n",
       "      <td>69170.0</td>\n",
       "    </tr>\n",
       "    <tr>\n",
       "      <th>0</th>\n",
       "      <td>14</td>\n",
       "      <td>3393432130bd198240b469941dcba65c</td>\n",
       "      <td>{\"cutoff\": \"quantile_0.25\", \"eval_fairness_gro...</td>\n",
       "      <td>33.688751</td>\n",
       "      <td>89710</td>\n",
       "      <td>1.0</td>\n",
       "      <td>0.149980</td>\n",
       "      <td>0.821048</td>\n",
       "      <td>0.130207</td>\n",
       "      <td>0.846885</td>\n",
       "      <td>...</td>\n",
       "      <td>NaN</td>\n",
       "      <td>NaN</td>\n",
       "      <td>NaN</td>\n",
       "      <td>NaN</td>\n",
       "      <td>NaN</td>\n",
       "      <td>NaN</td>\n",
       "      <td>NaN</td>\n",
       "      <td>NaN</td>\n",
       "      <td>NaN</td>\n",
       "      <td>NaN</td>\n",
       "    </tr>\n",
       "    <tr>\n",
       "      <th>0</th>\n",
       "      <td>14</td>\n",
       "      <td>3393432130bd198240b469941dcba65c</td>\n",
       "      <td>{\"cutoff\": \"quantile_0.25\", \"eval_fairness_gro...</td>\n",
       "      <td>33.688751</td>\n",
       "      <td>89710</td>\n",
       "      <td>1.0</td>\n",
       "      <td>0.149980</td>\n",
       "      <td>0.821048</td>\n",
       "      <td>0.130207</td>\n",
       "      <td>0.846885</td>\n",
       "      <td>...</td>\n",
       "      <td>0.128070</td>\n",
       "      <td>0.170772</td>\n",
       "      <td>0.838103</td>\n",
       "      <td>0.688123</td>\n",
       "      <td>0.055321</td>\n",
       "      <td>0.069256</td>\n",
       "      <td>0.850389</td>\n",
       "      <td>0.720182</td>\n",
       "      <td>20540.0</td>\n",
       "      <td>69170.0</td>\n",
       "    </tr>\n",
       "  </tbody>\n",
       "</table>\n",
       "<p>4 rows × 50 columns</p>\n",
       "</div>"
      ],
      "text/plain": [
       "  run_no                       universe_id  \\\n",
       "0     14  3393432130bd198240b469941dcba65c   \n",
       "0     14  3393432130bd198240b469941dcba65c   \n",
       "0     14  3393432130bd198240b469941dcba65c   \n",
       "0     14  3393432130bd198240b469941dcba65c   \n",
       "\n",
       "                                   universe_settings  execution_time  \\\n",
       "0  {\"cutoff\": \"quantile_0.1\", \"eval_fairness_grou...       33.688751   \n",
       "0  {\"cutoff\": \"quantile_0.1\", \"eval_fairness_grou...       33.688751   \n",
       "0  {\"cutoff\": \"quantile_0.25\", \"eval_fairness_gro...       33.688751   \n",
       "0  {\"cutoff\": \"quantile_0.25\", \"eval_fairness_gro...       33.688751   \n",
       "\n",
       "   test_size_n  test_size_frac  fair_main_equalized_odds_difference  \\\n",
       "0        89710             1.0                             0.076821   \n",
       "0        89710             1.0                             0.076821   \n",
       "0        89710             1.0                             0.149980   \n",
       "0        89710             1.0                             0.149980   \n",
       "\n",
       "   fair_main_equalized_odds_ratio  fair_main_demographic_parity_difference  \\\n",
       "0                        0.918861                                 0.066489   \n",
       "0                        0.918861                                 0.066489   \n",
       "0                        0.821048                                 0.130207   \n",
       "0                        0.821048                                 0.130207   \n",
       "\n",
       "   fair_main_demographic_parity_ratio  ...  perf_grp_precision_0  \\\n",
       "0                            0.930105  ...                   NaN   \n",
       "0                            0.930105  ...              0.119453   \n",
       "0                            0.846885  ...                   NaN   \n",
       "0                            0.846885  ...              0.128070   \n",
       "\n",
       "   perf_grp_precision_1  perf_grp_false positive rate_0  \\\n",
       "0                   NaN                             NaN   \n",
       "0              0.146667                        0.946786   \n",
       "0                   NaN                             NaN   \n",
       "0              0.170772                        0.838103   \n",
       "\n",
       "   perf_grp_false positive rate_1  perf_grp_false negative rate_0  \\\n",
       "0                             NaN                             NaN   \n",
       "0                        0.869965                        0.014358   \n",
       "0                             NaN                             NaN   \n",
       "0                        0.688123                        0.055321   \n",
       "\n",
       "   perf_grp_false negative rate_1  perf_grp_selection rate_0  \\\n",
       "0                             NaN                        NaN   \n",
       "0                        0.017943                   0.951266   \n",
       "0                             NaN                        NaN   \n",
       "0                        0.069256                   0.850389   \n",
       "\n",
       "   perf_grp_selection rate_1  perf_grp_count_0  perf_grp_count_1  \n",
       "0                        NaN               NaN               NaN  \n",
       "0                   0.884777           20540.0           69170.0  \n",
       "0                        NaN               NaN               NaN  \n",
       "0                   0.720182           20540.0           69170.0  \n",
       "\n",
       "[4 rows x 50 columns]"
      ]
     },
     "execution_count": 79,
     "metadata": {},
     "output_type": "execute_result"
    }
   ],
   "source": [
    "final_output = universe_analysis.generate_final_output(\n",
    "    y_pred_prob=probs_test,\n",
    "    y_test=y_true,\n",
    "    org_test=org_test,\n",
    "    filter_data=filter_sub_universe_data,\n",
    "    cp_metrics_df=cp_metrics_df,\n",
    "    save=True,\n",
    ")\n",
    "final_output"
   ]
  },
  {
   "cell_type": "code",
   "execution_count": null,
   "id": "721ff514-cb11-46f8-b6fc-50392f74b5cb",
   "metadata": {
    "papermill": {
     "duration": 0.026447,
     "end_time": "2025-07-30T20:50:35.202013",
     "exception": false,
     "start_time": "2025-07-30T20:50:35.175566",
     "status": "completed"
    },
    "tags": []
   },
   "outputs": [],
   "source": []
  }
 ],
 "metadata": {
  "celltoolbar": "Tags",
  "kernelspec": {
   "display_name": "Python (CMA Fairness)",
   "language": "python",
   "name": "cma_fair_env"
  },
  "language_info": {
   "codemirror_mode": {
    "name": "ipython",
    "version": 3
   },
   "file_extension": ".py",
   "mimetype": "text/x-python",
   "name": "python",
   "nbconvert_exporter": "python",
   "pygments_lexer": "ipython3",
   "version": "3.10.12"
  },
  "papermill": {
   "default_parameters": {},
   "duration": 48.396987,
   "end_time": "2025-07-30T20:50:36.048116",
   "environment_variables": {},
   "exception": null,
   "input_path": "universe_analysis.ipynb",
   "output_path": "output/runs/14/notebooks/m_14-3393432130bd198240b469941dcba65c.ipynb",
   "parameters": {
    "output_dir": "output",
    "run_no": "14",
    "seed": "2023",
    "universe": "{\"cutoff\": [\"quantile_0.1\", \"quantile_0.25\"], \"eval_fairness_grouping\": [\"majority-minority\", \"nationality-all\"], \"exclude_features\": \"age\", \"exclude_subgroups\": \"keep-all\", \"model\": \"elasticnet\", \"scale\": \"scale\", \"training_size\": \"5k\", \"training_year\": \"2014\"}",
    "universe_id": "3393432130bd198240b469941dcba65c"
   },
   "start_time": "2025-07-30T20:49:47.651129",
   "version": "2.6.0"
  }
 },
 "nbformat": 4,
 "nbformat_minor": 5
}