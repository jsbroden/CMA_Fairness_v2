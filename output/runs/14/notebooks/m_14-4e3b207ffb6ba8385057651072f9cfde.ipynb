{
 "cells": [
  {
   "cell_type": "code",
   "execution_count": 1,
   "id": "f159f837-637b-42ba-96b5-ec9a68c44524",
   "metadata": {
    "execution": {
     "iopub.execute_input": "2025-07-30T21:47:59.525543Z",
     "iopub.status.busy": "2025-07-30T21:47:59.525056Z",
     "iopub.status.idle": "2025-07-30T21:47:59.535039Z",
     "shell.execute_reply": "2025-07-30T21:47:59.534171Z"
    },
    "papermill": {
     "duration": 0.023022,
     "end_time": "2025-07-30T21:47:59.536328",
     "exception": false,
     "start_time": "2025-07-30T21:47:59.513306",
     "status": "completed"
    },
    "tags": []
   },
   "outputs": [
    {
     "name": "stdout",
     "output_type": "stream",
     "text": [
      "/dss/dsshome1/0C/ra93lal2/cma/CMA_Fairness_v2\n"
     ]
    },
    {
     "name": "stderr",
     "output_type": "stream",
     "text": [
      "/dss/dsshome1/0C/ra93lal2/.local/share/virtualenvs/CMA_Fairness_v2-3j10GkSs/lib/python3.10/site-packages/IPython/core/magics/osm.py:393: UserWarning: This is now an optional IPython functionality, using bookmarks requires you to install the `pickleshare` library.\n",
      "  bkms = self.shell.db.get('bookmarks', {})\n",
      "/dss/dsshome1/0C/ra93lal2/.local/share/virtualenvs/CMA_Fairness_v2-3j10GkSs/lib/python3.10/site-packages/IPython/core/magics/osm.py:417: UserWarning: This is now an optional IPython functionality, setting dhist requires you to install the `pickleshare` library.\n",
      "  self.shell.db['dhist'] = compress_dhist(dhist)[-100:]\n"
     ]
    }
   ],
   "source": [
    "%cd ~/cma/CMA_Fairness_v2"
   ]
  },
  {
   "cell_type": "markdown",
   "id": "de2603b9",
   "metadata": {
    "papermill": {
     "duration": 0.010374,
     "end_time": "2025-07-30T21:47:59.557657",
     "exception": false,
     "start_time": "2025-07-30T21:47:59.547283",
     "status": "completed"
    },
    "tags": []
   },
   "source": [
    "The following cell holds the definition of our parameters, these values can be overriden by rendering the with e.g. the following command:\n",
    "\n",
    "papermill -p alpha 0.2 -p ratio 0.3 universe_analysis.ipynb output/test_run.ipynb"
   ]
  },
  {
   "cell_type": "code",
   "execution_count": 2,
   "id": "a80968a0-40bb-4fa9-85ef-2d5eefb01975",
   "metadata": {
    "execution": {
     "iopub.execute_input": "2025-07-30T21:47:59.579027Z",
     "iopub.status.busy": "2025-07-30T21:47:59.578534Z",
     "iopub.status.idle": "2025-07-30T21:47:59.583769Z",
     "shell.execute_reply": "2025-07-30T21:47:59.582822Z"
    },
    "papermill": {
     "duration": 0.017534,
     "end_time": "2025-07-30T21:47:59.585176",
     "exception": false,
     "start_time": "2025-07-30T21:47:59.567642",
     "status": "completed"
    },
    "tags": []
   },
   "outputs": [
    {
     "name": "stdout",
     "output_type": "stream",
     "text": [
      "Current working directory: /dss/dsshome1/0C/ra93lal2/cma/CMA_Fairness_v2\n"
     ]
    }
   ],
   "source": [
    "import os\n",
    "print(\"Current working directory:\", os.getcwd())"
   ]
  },
  {
   "cell_type": "code",
   "execution_count": 3,
   "id": "2dce4c03",
   "metadata": {
    "execution": {
     "iopub.execute_input": "2025-07-30T21:47:59.607559Z",
     "iopub.status.busy": "2025-07-30T21:47:59.607080Z",
     "iopub.status.idle": "2025-07-30T21:47:59.611814Z",
     "shell.execute_reply": "2025-07-30T21:47:59.611150Z"
    },
    "papermill": {
     "duration": 0.016924,
     "end_time": "2025-07-30T21:47:59.613202",
     "exception": false,
     "start_time": "2025-07-30T21:47:59.596278",
     "status": "completed"
    },
    "tags": [
     "parameters"
    ]
   },
   "outputs": [],
   "source": [
    "run_no = 0\n",
    "universe_id = \"test\"\n",
    "universe = {\n",
    "    \"training_size\": \"25k\", # \"25k\", \"5k\", \"1k\"\n",
    "    \"training_year\": \"2014\", # \"2014\", \"2012_14\", \"2010_14\"\n",
    "    \"scale\": \"scale\", # \"scale\", \"do-not-scale\",\n",
    "    #\"stratify_split\": \"target\", # \"none\", \"target\", \"protected-attribute\", \"both\",\n",
    "    \"model\": \"elasticnet\", # \"logreg\", \"penalized_logreg\", \"rf\", \"gbm\", \"elasticnet\"\n",
    "    \"cutoff\": [\"quantile_0.15\", \"quantile_0.30\"],\n",
    "    \"exclude_features\": \"age\", # \"none\", \"nationality\", \"sex\", \"nationality-sex\", \"age\"\n",
    "    \"exclude_subgroups\": \"keep-all\", # \"keep-all\", \"drop-non-german\"\n",
    "    \"eval_fairness_grouping\": [\"majority-minority\", \"nationality-all\"]\n",
    "}\n",
    "\n",
    "output_dir=\"./output\"\n",
    "seed=0"
   ]
  },
  {
   "cell_type": "code",
   "execution_count": 4,
   "id": "f9a6794d",
   "metadata": {
    "execution": {
     "iopub.execute_input": "2025-07-30T21:47:59.635443Z",
     "iopub.status.busy": "2025-07-30T21:47:59.634960Z",
     "iopub.status.idle": "2025-07-30T21:47:59.639065Z",
     "shell.execute_reply": "2025-07-30T21:47:59.638382Z"
    },
    "papermill": {
     "duration": 0.016399,
     "end_time": "2025-07-30T21:47:59.640570",
     "exception": false,
     "start_time": "2025-07-30T21:47:59.624171",
     "status": "completed"
    },
    "tags": [
     "injected-parameters"
    ]
   },
   "outputs": [],
   "source": [
    "# Parameters\n",
    "universe_id = \"4e3b207ffb6ba8385057651072f9cfde\"\n",
    "run_no = \"14\"\n",
    "universe = \"{\\\"cutoff\\\": [\\\"quantile_0.1\\\", \\\"quantile_0.25\\\"], \\\"eval_fairness_grouping\\\": [\\\"majority-minority\\\", \\\"nationality-all\\\"], \\\"exclude_features\\\": \\\"sex\\\", \\\"exclude_subgroups\\\": \\\"keep-all\\\", \\\"model\\\": \\\"elasticnet\\\", \\\"scale\\\": \\\"scale\\\", \\\"training_size\\\": \\\"1k\\\", \\\"training_year\\\": \\\"2010_14\\\"}\"\n",
    "output_dir = \"output\"\n",
    "seed = \"2023\"\n"
   ]
  },
  {
   "cell_type": "code",
   "execution_count": 5,
   "id": "1650acaf",
   "metadata": {
    "execution": {
     "iopub.execute_input": "2025-07-30T21:47:59.663318Z",
     "iopub.status.busy": "2025-07-30T21:47:59.662833Z",
     "iopub.status.idle": "2025-07-30T21:47:59.667519Z",
     "shell.execute_reply": "2025-07-30T21:47:59.666764Z"
    },
    "papermill": {
     "duration": 0.017056,
     "end_time": "2025-07-30T21:47:59.668764",
     "exception": false,
     "start_time": "2025-07-30T21:47:59.651708",
     "status": "completed"
    },
    "tags": []
   },
   "outputs": [],
   "source": [
    "import json\n",
    "# Parse universe into dict if it is passed as a string\n",
    "if isinstance(universe, str):\n",
    "    universe = json.loads(universe)"
   ]
  },
  {
   "cell_type": "code",
   "execution_count": 6,
   "id": "16620c48",
   "metadata": {
    "execution": {
     "iopub.execute_input": "2025-07-30T21:47:59.691562Z",
     "iopub.status.busy": "2025-07-30T21:47:59.690889Z",
     "iopub.status.idle": "2025-07-30T21:47:59.719632Z",
     "shell.execute_reply": "2025-07-30T21:47:59.718916Z"
    },
    "papermill": {
     "duration": 0.041282,
     "end_time": "2025-07-30T21:47:59.721194",
     "exception": false,
     "start_time": "2025-07-30T21:47:59.679912",
     "status": "completed"
    },
    "tags": []
   },
   "outputs": [],
   "source": [
    "# Auto-reload the custom package\n",
    "%load_ext autoreload\n",
    "%autoreload 1\n",
    "%aimport fairness_multiverse"
   ]
  },
  {
   "cell_type": "code",
   "execution_count": 7,
   "id": "01c5c9f3",
   "metadata": {
    "execution": {
     "iopub.execute_input": "2025-07-30T21:47:59.743783Z",
     "iopub.status.busy": "2025-07-30T21:47:59.743005Z",
     "iopub.status.idle": "2025-07-30T21:48:01.492304Z",
     "shell.execute_reply": "2025-07-30T21:48:01.491175Z"
    },
    "papermill": {
     "duration": 1.762395,
     "end_time": "2025-07-30T21:48:01.494190",
     "exception": false,
     "start_time": "2025-07-30T21:47:59.731795",
     "status": "completed"
    },
    "tags": []
   },
   "outputs": [],
   "source": [
    "from fairness_multiverse.universe import UniverseAnalysis\n",
    "\n",
    "universe_analysis = UniverseAnalysis(\n",
    "    run_no = run_no,\n",
    "    universe_id = universe_id,\n",
    "    universe = universe,\n",
    "    output_dir=output_dir,\n",
    ")"
   ]
  },
  {
   "cell_type": "code",
   "execution_count": 8,
   "id": "106241f5",
   "metadata": {
    "execution": {
     "iopub.execute_input": "2025-07-30T21:48:01.546343Z",
     "iopub.status.busy": "2025-07-30T21:48:01.545289Z",
     "iopub.status.idle": "2025-07-30T21:48:01.555317Z",
     "shell.execute_reply": "2025-07-30T21:48:01.554294Z"
    },
    "papermill": {
     "duration": 0.034254,
     "end_time": "2025-07-30T21:48:01.557044",
     "exception": false,
     "start_time": "2025-07-30T21:48:01.522790",
     "status": "completed"
    },
    "tags": []
   },
   "outputs": [
    {
     "name": "stdout",
     "output_type": "stream",
     "text": [
      "Using Seed: 2023\n"
     ]
    }
   ],
   "source": [
    "import numpy as np\n",
    "parsed_seed = int(seed)\n",
    "np.random.seed(parsed_seed)\n",
    "print(f\"Using Seed: {parsed_seed}\")"
   ]
  },
  {
   "cell_type": "markdown",
   "id": "e0ebdc57",
   "metadata": {
    "papermill": {
     "duration": 0.022921,
     "end_time": "2025-07-30T21:48:01.603474",
     "exception": false,
     "start_time": "2025-07-30T21:48:01.580553",
     "status": "completed"
    },
    "tags": []
   },
   "source": [
    "# Loading Data"
   ]
  },
  {
   "cell_type": "markdown",
   "id": "681925a3",
   "metadata": {
    "papermill": {
     "duration": 0.02234,
     "end_time": "2025-07-30T21:48:01.646601",
     "exception": false,
     "start_time": "2025-07-30T21:48:01.624261",
     "status": "completed"
    },
    "tags": []
   },
   "source": [
    "Load siab_train, siab_test, siab_calib and/or \n",
    "load siab_train_features, siab_train_labels"
   ]
  },
  {
   "cell_type": "code",
   "execution_count": 9,
   "id": "f0496b8a",
   "metadata": {
    "execution": {
     "iopub.execute_input": "2025-07-30T21:48:01.689848Z",
     "iopub.status.busy": "2025-07-30T21:48:01.689392Z",
     "iopub.status.idle": "2025-07-30T21:48:14.801347Z",
     "shell.execute_reply": "2025-07-30T21:48:14.799865Z"
    },
    "papermill": {
     "duration": 13.134907,
     "end_time": "2025-07-30T21:48:14.802740",
     "exception": false,
     "start_time": "2025-07-30T21:48:01.667833",
     "status": "completed"
    },
    "tags": []
   },
   "outputs": [
    {
     "name": "stdout",
     "output_type": "stream",
     "text": [
      "Loading SIAB data from cache: data/siab_cached.csv.gz\n"
     ]
    },
    {
     "name": "stdout",
     "output_type": "stream",
     "text": [
      "(643690, 164)\n"
     ]
    }
   ],
   "source": [
    "from pathlib import Path\n",
    "import pandas as pd\n",
    "\n",
    "# File paths\n",
    "raw_file = Path(\"data/raw/siab.csv\")\n",
    "cache_file = Path(\"data/siab_cached.csv.gz\")\n",
    "\n",
    "# Ensure cache directory exists\n",
    "cache_file.parent.mkdir(parents=True, exist_ok=True)\n",
    "\n",
    "# Load with simple caching\n",
    "if cache_file.exists():\n",
    "    print(f\"Loading SIAB data from cache: {cache_file}\")\n",
    "    siab = pd.read_csv(cache_file, compression='gzip')\n",
    "else:\n",
    "    print(f\"Cache not found. Reading raw SIAB data: {raw_file}\")\n",
    "    siab = pd.read_csv(raw_file)\n",
    "    siab.to_csv(cache_file, index=False, compression='gzip')\n",
    "    print(f\"Cached SIAB data to: {cache_file}\")\n",
    "\n",
    "# Now use `siab` DataFrame as needed\n",
    "print(siab.shape)"
   ]
  },
  {
   "cell_type": "code",
   "execution_count": 10,
   "id": "db0ca512-5f53-4dba-abdb-a2888bca41ba",
   "metadata": {
    "execution": {
     "iopub.execute_input": "2025-07-30T21:48:14.852657Z",
     "iopub.status.busy": "2025-07-30T21:48:14.852227Z",
     "iopub.status.idle": "2025-07-30T21:48:14.856786Z",
     "shell.execute_reply": "2025-07-30T21:48:14.855984Z"
    },
    "papermill": {
     "duration": 0.029642,
     "end_time": "2025-07-30T21:48:14.859297",
     "exception": false,
     "start_time": "2025-07-30T21:48:14.829655",
     "status": "completed"
    },
    "tags": []
   },
   "outputs": [],
   "source": [
    "#siab"
   ]
  },
  {
   "cell_type": "code",
   "execution_count": 11,
   "id": "a0edb063",
   "metadata": {
    "execution": {
     "iopub.execute_input": "2025-07-30T21:48:14.903574Z",
     "iopub.status.busy": "2025-07-30T21:48:14.903139Z",
     "iopub.status.idle": "2025-07-30T21:48:14.908084Z",
     "shell.execute_reply": "2025-07-30T21:48:14.907074Z"
    },
    "papermill": {
     "duration": 0.02654,
     "end_time": "2025-07-30T21:48:14.909951",
     "exception": false,
     "start_time": "2025-07-30T21:48:14.883411",
     "status": "completed"
    },
    "tags": []
   },
   "outputs": [],
   "source": [
    "#import pandas as pd\n",
    "#\n",
    "#X_train = pd.read_csv(\"./data/X_train.csv\")\n",
    "#y_train = pd.read_csv(\"./data/y_train.csv\")"
   ]
  },
  {
   "cell_type": "code",
   "execution_count": 12,
   "id": "63d08085",
   "metadata": {
    "execution": {
     "iopub.execute_input": "2025-07-30T21:48:14.951735Z",
     "iopub.status.busy": "2025-07-30T21:48:14.951355Z",
     "iopub.status.idle": "2025-07-30T21:48:14.956123Z",
     "shell.execute_reply": "2025-07-30T21:48:14.955167Z"
    },
    "papermill": {
     "duration": 0.026331,
     "end_time": "2025-07-30T21:48:14.957703",
     "exception": false,
     "start_time": "2025-07-30T21:48:14.931372",
     "status": "completed"
    },
    "tags": []
   },
   "outputs": [],
   "source": [
    "#X_test = pd.read_csv(\"./data/X_test.csv\")\n",
    "#y_true = pd.read_csv(\"./data/y_test.csv\")"
   ]
  },
  {
   "cell_type": "code",
   "execution_count": 13,
   "id": "98a8d0fa-1d3d-4ed8-bb2c-281470e24add",
   "metadata": {
    "execution": {
     "iopub.execute_input": "2025-07-30T21:48:14.999731Z",
     "iopub.status.busy": "2025-07-30T21:48:14.998893Z",
     "iopub.status.idle": "2025-07-30T21:48:15.003665Z",
     "shell.execute_reply": "2025-07-30T21:48:15.002900Z"
    },
    "papermill": {
     "duration": 0.0251,
     "end_time": "2025-07-30T21:48:15.005158",
     "exception": false,
     "start_time": "2025-07-30T21:48:14.980058",
     "status": "completed"
    },
    "tags": []
   },
   "outputs": [],
   "source": [
    "# Calibration data for conformal\n",
    "#X_calib = pd.read_csv(\"./data/X_calib.csv\")\n",
    "#y_calib = pd.read_csv(\"./data/y_calib.csv\")"
   ]
  },
  {
   "cell_type": "markdown",
   "id": "997051c5-15bd-4b69-9786-c3001a3ce484",
   "metadata": {
    "papermill": {
     "duration": 0.010293,
     "end_time": "2025-07-30T21:48:15.026863",
     "exception": false,
     "start_time": "2025-07-30T21:48:15.016570",
     "status": "completed"
    },
    "tags": []
   },
   "source": [
    "# Splitting Data and Setting Training Data Size"
   ]
  },
  {
   "cell_type": "code",
   "execution_count": 14,
   "id": "e993b61f-042d-41a6-8c81-f55681f86335",
   "metadata": {
    "execution": {
     "iopub.execute_input": "2025-07-30T21:48:15.050028Z",
     "iopub.status.busy": "2025-07-30T21:48:15.049720Z",
     "iopub.status.idle": "2025-07-30T21:48:15.065783Z",
     "shell.execute_reply": "2025-07-30T21:48:15.064679Z"
    },
    "papermill": {
     "duration": 0.030189,
     "end_time": "2025-07-30T21:48:15.067945",
     "exception": false,
     "start_time": "2025-07-30T21:48:15.037756",
     "status": "completed"
    },
    "tags": []
   },
   "outputs": [],
   "source": [
    "def sample_by_year_size(df,\n",
    "                        training_year: str,\n",
    "                        training_size: str,\n",
    "                        random_state: int = 42):\n",
    "    # --- parse training_year into a list of int years ---\n",
    "    if \"_\" in training_year:\n",
    "        start_str, end_str = training_year.split(\"_\", 1)\n",
    "        start = int(start_str)\n",
    "        end   = int(end_str) if len(end_str) == 4 else (int(end_str) + (start // 100)*100)\n",
    "        years = list(range(start, end + 1))\n",
    "    else:\n",
    "        years = [int(training_year)]\n",
    "\n",
    "    df = df[df[\"year\"].isin(years)].reset_index(drop=True)\n",
    "\n",
    "    # --- map training_size to total number of samples ---\n",
    "    total_map = {\"25k\": 25_000, \"5k\": 5_000, \"1k\": 1_000}\n",
    "    if training_size not in total_map:\n",
    "        return df  # e.g. \"all\"\n",
    "\n",
    "    total_samples = total_map[training_size]\n",
    "    n_years       = len(years)\n",
    "    base          = total_samples // n_years\n",
    "    remainder     = total_samples % n_years\n",
    "\n",
    "    # --- build a dict: year -> how many to sample ---\n",
    "    # give +1 to the first `remainder` years in ascending order\n",
    "    quotas = {\n",
    "        year: base + (1 if idx < remainder else 0)\n",
    "        for idx, year in enumerate(sorted(years))\n",
    "    }\n",
    "\n",
    "    # --- sample per‐year according to the quota dict ---\n",
    "    sampled = (\n",
    "        df\n",
    "        .groupby(\"year\", group_keys=False)\n",
    "        .apply(lambda grp: grp.sample(\n",
    "            n=min(len(grp), quotas[grp.name]),\n",
    "            random_state=random_state))\n",
    "        .reset_index(drop=True)\n",
    "    )\n",
    "\n",
    "    return sampled"
   ]
  },
  {
   "cell_type": "code",
   "execution_count": 15,
   "id": "c0ccd338-0e02-41f3-a09d-f56f9266e3fb",
   "metadata": {
    "execution": {
     "iopub.execute_input": "2025-07-30T21:48:15.131581Z",
     "iopub.status.busy": "2025-07-30T21:48:15.130276Z",
     "iopub.status.idle": "2025-07-30T21:48:15.137354Z",
     "shell.execute_reply": "2025-07-30T21:48:15.136329Z"
    },
    "papermill": {
     "duration": 0.040923,
     "end_time": "2025-07-30T21:48:15.139546",
     "exception": false,
     "start_time": "2025-07-30T21:48:15.098623",
     "status": "completed"
    },
    "tags": []
   },
   "outputs": [],
   "source": [
    "#universe[\"training_size\"]"
   ]
  },
  {
   "cell_type": "code",
   "execution_count": 16,
   "id": "ca707fd7-8047-4acd-bfa5-66248fbbf8e6",
   "metadata": {
    "execution": {
     "iopub.execute_input": "2025-07-30T21:48:15.171769Z",
     "iopub.status.busy": "2025-07-30T21:48:15.171390Z",
     "iopub.status.idle": "2025-07-30T21:48:15.176356Z",
     "shell.execute_reply": "2025-07-30T21:48:15.175340Z"
    },
    "papermill": {
     "duration": 0.018885,
     "end_time": "2025-07-30T21:48:15.177981",
     "exception": false,
     "start_time": "2025-07-30T21:48:15.159096",
     "status": "completed"
    },
    "tags": []
   },
   "outputs": [],
   "source": [
    "#universe[\"training_year\"]"
   ]
  },
  {
   "cell_type": "code",
   "execution_count": 17,
   "id": "aea9c6ef-6f46-42c8-85eb-5a62025c1508",
   "metadata": {
    "execution": {
     "iopub.execute_input": "2025-07-30T21:48:15.225762Z",
     "iopub.status.busy": "2025-07-30T21:48:15.225024Z",
     "iopub.status.idle": "2025-07-30T21:48:16.237345Z",
     "shell.execute_reply": "2025-07-30T21:48:16.236595Z"
    },
    "papermill": {
     "duration": 1.038598,
     "end_time": "2025-07-30T21:48:16.239143",
     "exception": false,
     "start_time": "2025-07-30T21:48:15.200545",
     "status": "completed"
    },
    "tags": []
   },
   "outputs": [],
   "source": [
    "siab_train = sample_by_year_size(siab,\n",
    "                               training_year=universe[\"training_year\"],\n",
    "                               training_size=universe[\"training_size\"])"
   ]
  },
  {
   "cell_type": "code",
   "execution_count": 18,
   "id": "8d3afb32-789d-442c-8d5d-9f5aa8dd2eed",
   "metadata": {
    "execution": {
     "iopub.execute_input": "2025-07-30T21:48:16.303705Z",
     "iopub.status.busy": "2025-07-30T21:48:16.302804Z",
     "iopub.status.idle": "2025-07-30T21:48:16.310007Z",
     "shell.execute_reply": "2025-07-30T21:48:16.308605Z"
    },
    "papermill": {
     "duration": 0.043202,
     "end_time": "2025-07-30T21:48:16.312723",
     "exception": false,
     "start_time": "2025-07-30T21:48:16.269521",
     "status": "completed"
    },
    "tags": []
   },
   "outputs": [],
   "source": [
    "#siab_train.shape"
   ]
  },
  {
   "cell_type": "code",
   "execution_count": 19,
   "id": "d582db68-1a4c-47fb-84fc-08518dc1975a",
   "metadata": {
    "execution": {
     "iopub.execute_input": "2025-07-30T21:48:16.379000Z",
     "iopub.status.busy": "2025-07-30T21:48:16.378370Z",
     "iopub.status.idle": "2025-07-30T21:48:16.384926Z",
     "shell.execute_reply": "2025-07-30T21:48:16.383560Z"
    },
    "papermill": {
     "duration": 0.042393,
     "end_time": "2025-07-30T21:48:16.387348",
     "exception": false,
     "start_time": "2025-07-30T21:48:16.344955",
     "status": "completed"
    },
    "tags": []
   },
   "outputs": [],
   "source": [
    "#display(siab_train.groupby(\"year\").size())"
   ]
  },
  {
   "cell_type": "code",
   "execution_count": 20,
   "id": "a561edb4-d032-42cb-8256-22eac1111c64",
   "metadata": {
    "execution": {
     "iopub.execute_input": "2025-07-30T21:48:16.451173Z",
     "iopub.status.busy": "2025-07-30T21:48:16.450678Z",
     "iopub.status.idle": "2025-07-30T21:48:16.705349Z",
     "shell.execute_reply": "2025-07-30T21:48:16.704450Z"
    },
    "papermill": {
     "duration": 0.289698,
     "end_time": "2025-07-30T21:48:16.707801",
     "exception": false,
     "start_time": "2025-07-30T21:48:16.418103",
     "status": "completed"
    },
    "tags": []
   },
   "outputs": [],
   "source": [
    "#siab_train = siab_s[siab_s.year < 2015]\n",
    "siab_calib = siab[siab.year == 2015]\n",
    "siab_test = siab[siab.year == 2016]"
   ]
  },
  {
   "cell_type": "code",
   "execution_count": 21,
   "id": "472de16f-c3db-4916-846b-1f0de9cf1746",
   "metadata": {
    "execution": {
     "iopub.execute_input": "2025-07-30T21:48:16.795500Z",
     "iopub.status.busy": "2025-07-30T21:48:16.794835Z",
     "iopub.status.idle": "2025-07-30T21:48:16.801446Z",
     "shell.execute_reply": "2025-07-30T21:48:16.800395Z"
    },
    "papermill": {
     "duration": 0.054874,
     "end_time": "2025-07-30T21:48:16.803819",
     "exception": false,
     "start_time": "2025-07-30T21:48:16.748945",
     "status": "completed"
    },
    "tags": []
   },
   "outputs": [],
   "source": [
    "X_train = siab_train.iloc[:,4:164]\n",
    "y_train = siab_train.iloc[:, [3]]"
   ]
  },
  {
   "cell_type": "code",
   "execution_count": 22,
   "id": "828c96af-f43a-4ed6-ba47-8ac73a47d56c",
   "metadata": {
    "execution": {
     "iopub.execute_input": "2025-07-30T21:48:16.867972Z",
     "iopub.status.busy": "2025-07-30T21:48:16.867534Z",
     "iopub.status.idle": "2025-07-30T21:48:16.918589Z",
     "shell.execute_reply": "2025-07-30T21:48:16.917563Z"
    },
    "papermill": {
     "duration": 0.084312,
     "end_time": "2025-07-30T21:48:16.920263",
     "exception": false,
     "start_time": "2025-07-30T21:48:16.835951",
     "status": "completed"
    },
    "tags": []
   },
   "outputs": [],
   "source": [
    "X_calib = siab_calib.iloc[:,4:164]\n",
    "y_calib = siab_calib.iloc[:, [3]]"
   ]
  },
  {
   "cell_type": "code",
   "execution_count": 23,
   "id": "c34be9c3-6bd6-476e-acd3-845840e303be",
   "metadata": {
    "execution": {
     "iopub.execute_input": "2025-07-30T21:48:16.963019Z",
     "iopub.status.busy": "2025-07-30T21:48:16.962405Z",
     "iopub.status.idle": "2025-07-30T21:48:17.019471Z",
     "shell.execute_reply": "2025-07-30T21:48:17.018474Z"
    },
    "papermill": {
     "duration": 0.080225,
     "end_time": "2025-07-30T21:48:17.021343",
     "exception": false,
     "start_time": "2025-07-30T21:48:16.941118",
     "status": "completed"
    },
    "tags": []
   },
   "outputs": [],
   "source": [
    "X_test = siab_test.iloc[:,4:164]\n",
    "y_true = siab_test.iloc[:, [3]]"
   ]
  },
  {
   "cell_type": "markdown",
   "id": "9901737e-04df-44f0-9100-f5ad144ed040",
   "metadata": {
    "papermill": {
     "duration": 0.020812,
     "end_time": "2025-07-30T21:48:17.066258",
     "exception": false,
     "start_time": "2025-07-30T21:48:17.045446",
     "status": "completed"
    },
    "tags": []
   },
   "source": [
    "# Splitting Data and Setting Training Data Size OLD VERSION"
   ]
  },
  {
   "cell_type": "code",
   "execution_count": 24,
   "id": "acbc8f7d-8fc8-4e86-8c59-5dcb0f58384b",
   "metadata": {
    "execution": {
     "iopub.execute_input": "2025-07-30T21:48:17.109600Z",
     "iopub.status.busy": "2025-07-30T21:48:17.108892Z",
     "iopub.status.idle": "2025-07-30T21:48:17.115400Z",
     "shell.execute_reply": "2025-07-30T21:48:17.114558Z"
    },
    "papermill": {
     "duration": 0.029482,
     "end_time": "2025-07-30T21:48:17.117004",
     "exception": false,
     "start_time": "2025-07-30T21:48:17.087522",
     "status": "completed"
    },
    "tags": []
   },
   "outputs": [],
   "source": [
    "#def sample_by_year(df, training_size, random_state=42):\n",
    "#    if training_size == \"2014\":\n",
    "#        return df[df[\"year\"] == 2014].reset_index(drop=True)\n",
    "#    \n",
    "#    size_map = {\n",
    "#        \"25k\": 5000,\n",
    "#        \"5k\": 1000,\n",
    "#        \"1k\": 200\n",
    "#    }\n",
    "#\n",
    "#    if training_size not in size_map:\n",
    "#        return df.reset_index(drop=True)  # use all data\n",
    "#\n",
    "#    n_per_year = size_map[training_size]\n",
    "#    grouped = df.groupby(\"year\")\n",
    "#    sampled = grouped.apply(lambda x: x.sample(n=min(n_per_year, len(x)), random_state=random_state))\n",
    "#    return sampled.reset_index(drop=True)"
   ]
  },
  {
   "cell_type": "code",
   "execution_count": 25,
   "id": "6d931f52-beaf-43ff-9e78-9d44a448d54e",
   "metadata": {
    "execution": {
     "iopub.execute_input": "2025-07-30T21:48:17.159720Z",
     "iopub.status.busy": "2025-07-30T21:48:17.159258Z",
     "iopub.status.idle": "2025-07-30T21:48:17.164501Z",
     "shell.execute_reply": "2025-07-30T21:48:17.163467Z"
    },
    "papermill": {
     "duration": 0.030046,
     "end_time": "2025-07-30T21:48:17.166337",
     "exception": false,
     "start_time": "2025-07-30T21:48:17.136291",
     "status": "completed"
    },
    "tags": []
   },
   "outputs": [],
   "source": [
    "#siab_s = sample_by_year(siab, universe[\"training_size\"])"
   ]
  },
  {
   "cell_type": "code",
   "execution_count": 26,
   "id": "5db0a40e-a4e2-4920-be85-b12ae061d70d",
   "metadata": {
    "execution": {
     "iopub.execute_input": "2025-07-30T21:48:17.212864Z",
     "iopub.status.busy": "2025-07-30T21:48:17.212314Z",
     "iopub.status.idle": "2025-07-30T21:48:17.217503Z",
     "shell.execute_reply": "2025-07-30T21:48:17.216461Z"
    },
    "papermill": {
     "duration": 0.032661,
     "end_time": "2025-07-30T21:48:17.219935",
     "exception": false,
     "start_time": "2025-07-30T21:48:17.187274",
     "status": "completed"
    },
    "tags": []
   },
   "outputs": [],
   "source": [
    "#display(siab_s.groupby(\"year\").size())"
   ]
  },
  {
   "cell_type": "code",
   "execution_count": 27,
   "id": "e6c733c5",
   "metadata": {
    "execution": {
     "iopub.execute_input": "2025-07-30T21:48:17.267528Z",
     "iopub.status.busy": "2025-07-30T21:48:17.267027Z",
     "iopub.status.idle": "2025-07-30T21:48:17.360184Z",
     "shell.execute_reply": "2025-07-30T21:48:17.359417Z"
    },
    "papermill": {
     "duration": 0.119675,
     "end_time": "2025-07-30T21:48:17.361944",
     "exception": false,
     "start_time": "2025-07-30T21:48:17.242269",
     "status": "completed"
    },
    "tags": []
   },
   "outputs": [],
   "source": [
    "# Auxiliary data needed downstream in the pipeline\n",
    "\n",
    "org_train = X_train.copy()\n",
    "org_test = X_test.copy()\n",
    "org_calib = X_calib.copy()"
   ]
  },
  {
   "cell_type": "code",
   "execution_count": 28,
   "id": "1466abac-c6da-4492-a62f-4240ae3783af",
   "metadata": {
    "execution": {
     "iopub.execute_input": "2025-07-30T21:48:17.405796Z",
     "iopub.status.busy": "2025-07-30T21:48:17.405249Z",
     "iopub.status.idle": "2025-07-30T21:48:17.411589Z",
     "shell.execute_reply": "2025-07-30T21:48:17.410468Z"
    },
    "papermill": {
     "duration": 0.029999,
     "end_time": "2025-07-30T21:48:17.413175",
     "exception": false,
     "start_time": "2025-07-30T21:48:17.383176",
     "status": "completed"
    },
    "tags": []
   },
   "outputs": [],
   "source": [
    "# put in other script?\n",
    "# Group sizes\n",
    "\n",
    "#def calculate_percentages(df, df_name):\n",
    "#    total_entries = len(df)\n",
    "#\n",
    "#    female_pct = (df['frau1'] == 1).mean() * 100\n",
    "#    non_german_pct = ((df['maxdeutsch1'] == 0) & (df['maxdeutsch.Missing.'] == 0)).mean() * 100\n",
    "#    non_german_male_pct = ((df['frau1'] == 0) & (df['maxdeutsch1'] == 0) & (df['maxdeutsch.Missing.'] == 0)).mean() * 100\n",
    "#    non_german_female_pct = ((df['frau1'] == 1) & (df['maxdeutsch1'] == 0) & (df['maxdeutsch.Missing.'] == 0)).mean() * 100\n",
    "#\n",
    "#    print(f\"--- {df_name} ---\")\n",
    "#    print(f\"Female: {female_pct:.2f}%\")\n",
    "#    print(f\"Non-German: {non_german_pct:.2f}%\")\n",
    "#    print(f\"Non-German Male: {non_german_male_pct:.2f}%\")\n",
    "#    print(f\"Non-German Female: {non_german_female_pct:.2f}%\\n\")\n",
    "#\n",
    "## Calculate for each DataFrame\n",
    "#calculate_percentages(siab_calib, \"siab_calib\")\n",
    "#calculate_percentages(siab_test, \"siab_test\")\n",
    "#calculate_percentages(siab_train, \"siab_train\")"
   ]
  },
  {
   "cell_type": "markdown",
   "id": "0a4a1b33",
   "metadata": {
    "papermill": {
     "duration": 0.021971,
     "end_time": "2025-07-30T21:48:17.456344",
     "exception": false,
     "start_time": "2025-07-30T21:48:17.434373",
     "status": "completed"
    },
    "tags": []
   },
   "source": [
    "# Preprocessing Data"
   ]
  },
  {
   "cell_type": "code",
   "execution_count": 29,
   "id": "ca879031",
   "metadata": {
    "execution": {
     "iopub.execute_input": "2025-07-30T21:48:17.500133Z",
     "iopub.status.busy": "2025-07-30T21:48:17.499600Z",
     "iopub.status.idle": "2025-07-30T21:48:17.506704Z",
     "shell.execute_reply": "2025-07-30T21:48:17.505524Z"
    },
    "papermill": {
     "duration": 0.031749,
     "end_time": "2025-07-30T21:48:17.508518",
     "exception": false,
     "start_time": "2025-07-30T21:48:17.476769",
     "status": "completed"
    },
    "tags": []
   },
   "outputs": [],
   "source": [
    "# EXCLUDE PROTECTED FEATURES\n",
    "# ----------------------\n",
    "# \"exclude_features\": \"none\", # \"nationality\", \"sex\", \"nationality-sex\"\n",
    "\n",
    "excluded_features = universe[\"exclude_features\"].split(\"-\") # split, e.g.: \"nationality-sex\" -> [\"nationality\", \"sex\"]\n",
    "excluded_features_dictionary = {\n",
    "    \"nationality\": [\"maxdeutsch1\", \"maxdeutsch.Missing.\"],\n",
    "    \"sex\": [\"frau1\"],\n",
    "    \"age\": [\"age\"],\n",
    "}\n"
   ]
  },
  {
   "cell_type": "code",
   "execution_count": 30,
   "id": "b745ac60",
   "metadata": {
    "execution": {
     "iopub.execute_input": "2025-07-30T21:48:17.553035Z",
     "iopub.status.busy": "2025-07-30T21:48:17.552173Z",
     "iopub.status.idle": "2025-07-30T21:48:17.558377Z",
     "shell.execute_reply": "2025-07-30T21:48:17.557421Z"
    },
    "papermill": {
     "duration": 0.030323,
     "end_time": "2025-07-30T21:48:17.559961",
     "exception": false,
     "start_time": "2025-07-30T21:48:17.529638",
     "status": "completed"
    },
    "tags": []
   },
   "outputs": [],
   "source": [
    "# Code nice names to column names\n",
    "\n",
    "excluded_features_columns = [\n",
    "    excluded_features_dictionary[f] for f in excluded_features if len(f) > 0 and f != \"none\"\n",
    "]"
   ]
  },
  {
   "cell_type": "code",
   "execution_count": 31,
   "id": "f84f73a2",
   "metadata": {
    "execution": {
     "iopub.execute_input": "2025-07-30T21:48:17.605791Z",
     "iopub.status.busy": "2025-07-30T21:48:17.605272Z",
     "iopub.status.idle": "2025-07-30T21:48:17.614939Z",
     "shell.execute_reply": "2025-07-30T21:48:17.611078Z"
    },
    "papermill": {
     "duration": 0.0347,
     "end_time": "2025-07-30T21:48:17.616744",
     "exception": false,
     "start_time": "2025-07-30T21:48:17.582044",
     "status": "completed"
    },
    "tags": []
   },
   "outputs": [],
   "source": [
    "from utils import flatten_once\n",
    "\n",
    "excluded_features_columns = flatten_once(excluded_features_columns)"
   ]
  },
  {
   "cell_type": "code",
   "execution_count": 32,
   "id": "884dea22",
   "metadata": {
    "execution": {
     "iopub.execute_input": "2025-07-30T21:48:17.664252Z",
     "iopub.status.busy": "2025-07-30T21:48:17.663371Z",
     "iopub.status.idle": "2025-07-30T21:48:17.673246Z",
     "shell.execute_reply": "2025-07-30T21:48:17.672069Z"
    },
    "papermill": {
     "duration": 0.036004,
     "end_time": "2025-07-30T21:48:17.675001",
     "exception": false,
     "start_time": "2025-07-30T21:48:17.638997",
     "status": "completed"
    },
    "tags": []
   },
   "outputs": [
    {
     "name": "stdout",
     "output_type": "stream",
     "text": [
      "Dropping features: ['frau1']\n"
     ]
    }
   ],
   "source": [
    "if len(excluded_features_columns) > 0:\n",
    "    print(f\"Dropping features: {excluded_features_columns}\")\n",
    "    X_train.drop(excluded_features_columns, axis=1, inplace=True)"
   ]
  },
  {
   "cell_type": "code",
   "execution_count": 33,
   "id": "95ab8b16",
   "metadata": {
    "execution": {
     "iopub.execute_input": "2025-07-30T21:48:17.726869Z",
     "iopub.status.busy": "2025-07-30T21:48:17.726127Z",
     "iopub.status.idle": "2025-07-30T21:48:17.792971Z",
     "shell.execute_reply": "2025-07-30T21:48:17.791429Z"
    },
    "papermill": {
     "duration": 0.094428,
     "end_time": "2025-07-30T21:48:17.794725",
     "exception": false,
     "start_time": "2025-07-30T21:48:17.700297",
     "status": "completed"
    },
    "tags": []
   },
   "outputs": [
    {
     "name": "stdout",
     "output_type": "stream",
     "text": [
      "Dropping features: ['frau1']\n"
     ]
    }
   ],
   "source": [
    "if len(excluded_features_columns) > 0:\n",
    "    print(f\"Dropping features: {excluded_features_columns}\")\n",
    "    X_test.drop(excluded_features_columns, axis=1, inplace=True)"
   ]
  },
  {
   "cell_type": "code",
   "execution_count": 34,
   "id": "1853aaf5-fb9f-46cb-a2b5-8ea4ae2237e4",
   "metadata": {
    "execution": {
     "iopub.execute_input": "2025-07-30T21:48:17.841181Z",
     "iopub.status.busy": "2025-07-30T21:48:17.840699Z",
     "iopub.status.idle": "2025-07-30T21:48:17.894658Z",
     "shell.execute_reply": "2025-07-30T21:48:17.893600Z"
    },
    "papermill": {
     "duration": 0.077518,
     "end_time": "2025-07-30T21:48:17.896274",
     "exception": false,
     "start_time": "2025-07-30T21:48:17.818756",
     "status": "completed"
    },
    "tags": []
   },
   "outputs": [
    {
     "name": "stdout",
     "output_type": "stream",
     "text": [
      "Dropping features: ['frau1']\n"
     ]
    }
   ],
   "source": [
    "if len(excluded_features_columns) > 0:\n",
    "    print(f\"Dropping features: {excluded_features_columns}\")\n",
    "    X_calib.drop(excluded_features_columns, axis=1, inplace=True)"
   ]
  },
  {
   "cell_type": "code",
   "execution_count": 35,
   "id": "6727d079-03e5-481e-9d38-292a90b7a0a8",
   "metadata": {
    "execution": {
     "iopub.execute_input": "2025-07-30T21:48:17.942051Z",
     "iopub.status.busy": "2025-07-30T21:48:17.940437Z",
     "iopub.status.idle": "2025-07-30T21:48:17.946486Z",
     "shell.execute_reply": "2025-07-30T21:48:17.945419Z"
    },
    "papermill": {
     "duration": 0.030485,
     "end_time": "2025-07-30T21:48:17.948157",
     "exception": false,
     "start_time": "2025-07-30T21:48:17.917672",
     "status": "completed"
    },
    "tags": []
   },
   "outputs": [],
   "source": [
    "# SPLIT & STRATIFY DATA\n",
    "# ----------------------"
   ]
  },
  {
   "cell_type": "code",
   "execution_count": 36,
   "id": "76c4dc6d",
   "metadata": {
    "execution": {
     "iopub.execute_input": "2025-07-30T21:48:17.992959Z",
     "iopub.status.busy": "2025-07-30T21:48:17.992216Z",
     "iopub.status.idle": "2025-07-30T21:48:17.998720Z",
     "shell.execute_reply": "2025-07-30T21:48:17.997823Z"
    },
    "papermill": {
     "duration": 0.043647,
     "end_time": "2025-07-30T21:48:18.013450",
     "exception": false,
     "start_time": "2025-07-30T21:48:17.969803",
     "status": "completed"
    },
    "tags": []
   },
   "outputs": [],
   "source": [
    "# EXCLUDE CERTAIN SUBGROUPS\n",
    "# ----------------------\n",
    "\n",
    "mode = universe.get(\"exclude_subgroups\", \"keep-all\") \n",
    "# Fetches the exclude_subgroups setting from the universe dict.\n",
    "# Defaults to \"keep-all\" if the key is missing."
   ]
  },
  {
   "cell_type": "code",
   "execution_count": 37,
   "id": "21994072",
   "metadata": {
    "execution": {
     "iopub.execute_input": "2025-07-30T21:48:18.057177Z",
     "iopub.status.busy": "2025-07-30T21:48:18.056667Z",
     "iopub.status.idle": "2025-07-30T21:48:18.063523Z",
     "shell.execute_reply": "2025-07-30T21:48:18.062401Z"
    },
    "papermill": {
     "duration": 0.030731,
     "end_time": "2025-07-30T21:48:18.065359",
     "exception": false,
     "start_time": "2025-07-30T21:48:18.034628",
     "status": "completed"
    },
    "tags": []
   },
   "outputs": [],
   "source": [
    "if mode == \"keep-all\":\n",
    "    keep_mask = pd.Series(True, index=org_train.index)\n",
    "\n",
    "# org_train contains the original feature columns from features_org (in Simson)\n",
    "# features_org contains unprocessed features, for me X_train at beginning ???\n",
    "# For keep-all, creates a boolean Series (keep_mask) of all True, so no rows are removed.\n",
    "\n",
    "elif mode == \"drop-non-german\":\n",
    "    keep_mask = org_train[\"maxdeutsch1\"] == 1 # ??? what about missing values?\n",
    "\n",
    "else:\n",
    "    raise ValueError(f\"Unsupported mode for exclude_subgroups: {mode}\")\n"
   ]
  },
  {
   "cell_type": "code",
   "execution_count": 38,
   "id": "71651440",
   "metadata": {
    "execution": {
     "iopub.execute_input": "2025-07-30T21:48:18.118345Z",
     "iopub.status.busy": "2025-07-30T21:48:18.117859Z",
     "iopub.status.idle": "2025-07-30T21:48:18.124417Z",
     "shell.execute_reply": "2025-07-30T21:48:18.123364Z"
    },
    "papermill": {
     "duration": 0.034663,
     "end_time": "2025-07-30T21:48:18.126120",
     "exception": false,
     "start_time": "2025-07-30T21:48:18.091457",
     "status": "completed"
    },
    "tags": []
   },
   "outputs": [],
   "source": [
    "n_drop = (~keep_mask).sum() # Calculates how many rows are set to be dropped\n",
    "if n_drop > 0:\n",
    "    pct = n_drop / len(keep_mask) * 100\n",
    "    print(f\"Dropping {n_drop} rows ({pct:.2f}%) where mode='{mode}'\")"
   ]
  },
  {
   "cell_type": "code",
   "execution_count": 39,
   "id": "5fb8eee5",
   "metadata": {
    "execution": {
     "iopub.execute_input": "2025-07-30T21:48:18.173038Z",
     "iopub.status.busy": "2025-07-30T21:48:18.172529Z",
     "iopub.status.idle": "2025-07-30T21:48:18.178649Z",
     "shell.execute_reply": "2025-07-30T21:48:18.177820Z"
    },
    "papermill": {
     "duration": 0.031685,
     "end_time": "2025-07-30T21:48:18.180351",
     "exception": false,
     "start_time": "2025-07-30T21:48:18.148666",
     "status": "completed"
    },
    "tags": []
   },
   "outputs": [],
   "source": [
    "X_train = X_train[keep_mask]"
   ]
  },
  {
   "cell_type": "code",
   "execution_count": 40,
   "id": "b202bb3a",
   "metadata": {
    "execution": {
     "iopub.execute_input": "2025-07-30T21:48:18.225137Z",
     "iopub.status.busy": "2025-07-30T21:48:18.224700Z",
     "iopub.status.idle": "2025-07-30T21:48:18.231449Z",
     "shell.execute_reply": "2025-07-30T21:48:18.230373Z"
    },
    "papermill": {
     "duration": 0.030896,
     "end_time": "2025-07-30T21:48:18.233037",
     "exception": false,
     "start_time": "2025-07-30T21:48:18.202141",
     "status": "completed"
    },
    "tags": []
   },
   "outputs": [],
   "source": [
    "y_train = y_train[keep_mask]"
   ]
  },
  {
   "cell_type": "markdown",
   "id": "493e2ac3",
   "metadata": {
    "papermill": {
     "duration": 0.020751,
     "end_time": "2025-07-30T21:48:18.275921",
     "exception": false,
     "start_time": "2025-07-30T21:48:18.255170",
     "status": "completed"
    },
    "tags": []
   },
   "source": [
    "# Model Training"
   ]
  },
  {
   "cell_type": "code",
   "execution_count": 41,
   "id": "679e1268",
   "metadata": {
    "execution": {
     "iopub.execute_input": "2025-07-30T21:48:18.319754Z",
     "iopub.status.busy": "2025-07-30T21:48:18.318822Z",
     "iopub.status.idle": "2025-07-30T21:48:18.443303Z",
     "shell.execute_reply": "2025-07-30T21:48:18.442209Z"
    },
    "papermill": {
     "duration": 0.148643,
     "end_time": "2025-07-30T21:48:18.445327",
     "exception": false,
     "start_time": "2025-07-30T21:48:18.296684",
     "status": "completed"
    },
    "tags": []
   },
   "outputs": [],
   "source": [
    "from sklearn.linear_model import LogisticRegression\n",
    "from sklearn.ensemble import GradientBoostingClassifier, RandomForestClassifier\n",
    "\n",
    "if (universe[\"model\"] == \"logreg\"):\n",
    "    model = LogisticRegression() #penalty=\"none\") #, solver=\"newton-cg\", max_iter=1) # include random_state=19 ?\n",
    "elif (universe[\"model\"] == \"penalized_logreg\"):\n",
    "    model = LogisticRegression(penalty=\"l2\", C=1.0) #, solver=\"newton-cg\", max_iter=1)\n",
    "elif (universe[\"model\"] == \"rf\"):\n",
    "    model = RandomForestClassifier(n_estimators=100, n_jobs=-1)\n",
    "elif (universe[\"model\"] == \"gbm\"):\n",
    "    model = GradientBoostingClassifier()\n",
    "elif (universe[\"model\"] == \"elasticnet\"):\n",
    "    model = LogisticRegression(penalty = 'elasticnet', solver = 'saga', l1_ratio = 0.5, max_iter=5000) # which solver to use?\n",
    "else:\n",
    "    raise \"Unsupported universe.model\""
   ]
  },
  {
   "cell_type": "code",
   "execution_count": 42,
   "id": "0cc8f744",
   "metadata": {
    "execution": {
     "iopub.execute_input": "2025-07-30T21:48:18.494101Z",
     "iopub.status.busy": "2025-07-30T21:48:18.493399Z",
     "iopub.status.idle": "2025-07-30T21:48:18.500806Z",
     "shell.execute_reply": "2025-07-30T21:48:18.499611Z"
    },
    "papermill": {
     "duration": 0.035605,
     "end_time": "2025-07-30T21:48:18.503057",
     "exception": false,
     "start_time": "2025-07-30T21:48:18.467452",
     "status": "completed"
    },
    "tags": []
   },
   "outputs": [],
   "source": [
    "import numpy as np\n",
    "from sklearn.pipeline import Pipeline\n",
    "from sklearn.preprocessing import StandardScaler\n",
    "\n",
    "model = Pipeline([\n",
    "    #(\"continuous_processor\", continuous_processor),\n",
    "    #(\"categorical_preprocessor\", categorical_preprocessor),\n",
    "    (\"scale\", StandardScaler() if universe[\"scale\"] == \"scale\" else None), \n",
    "    (\"model\", model),\n",
    "])"
   ]
  },
  {
   "cell_type": "code",
   "execution_count": 43,
   "id": "9442c04d",
   "metadata": {
    "execution": {
     "iopub.execute_input": "2025-07-30T21:48:18.557255Z",
     "iopub.status.busy": "2025-07-30T21:48:18.556427Z",
     "iopub.status.idle": "2025-07-30T21:48:22.028138Z",
     "shell.execute_reply": "2025-07-30T21:48:22.023197Z"
    },
    "papermill": {
     "duration": 3.500815,
     "end_time": "2025-07-30T21:48:22.029882",
     "exception": false,
     "start_time": "2025-07-30T21:48:18.529067",
     "status": "completed"
    },
    "tags": []
   },
   "outputs": [
    {
     "data": {
      "text/html": [
       "<style>#sk-container-id-1 {color: black;background-color: white;}#sk-container-id-1 pre{padding: 0;}#sk-container-id-1 div.sk-toggleable {background-color: white;}#sk-container-id-1 label.sk-toggleable__label {cursor: pointer;display: block;width: 100%;margin-bottom: 0;padding: 0.3em;box-sizing: border-box;text-align: center;}#sk-container-id-1 label.sk-toggleable__label-arrow:before {content: \"▸\";float: left;margin-right: 0.25em;color: #696969;}#sk-container-id-1 label.sk-toggleable__label-arrow:hover:before {color: black;}#sk-container-id-1 div.sk-estimator:hover label.sk-toggleable__label-arrow:before {color: black;}#sk-container-id-1 div.sk-toggleable__content {max-height: 0;max-width: 0;overflow: hidden;text-align: left;background-color: #f0f8ff;}#sk-container-id-1 div.sk-toggleable__content pre {margin: 0.2em;color: black;border-radius: 0.25em;background-color: #f0f8ff;}#sk-container-id-1 input.sk-toggleable__control:checked~div.sk-toggleable__content {max-height: 200px;max-width: 100%;overflow: auto;}#sk-container-id-1 input.sk-toggleable__control:checked~label.sk-toggleable__label-arrow:before {content: \"▾\";}#sk-container-id-1 div.sk-estimator input.sk-toggleable__control:checked~label.sk-toggleable__label {background-color: #d4ebff;}#sk-container-id-1 div.sk-label input.sk-toggleable__control:checked~label.sk-toggleable__label {background-color: #d4ebff;}#sk-container-id-1 input.sk-hidden--visually {border: 0;clip: rect(1px 1px 1px 1px);clip: rect(1px, 1px, 1px, 1px);height: 1px;margin: -1px;overflow: hidden;padding: 0;position: absolute;width: 1px;}#sk-container-id-1 div.sk-estimator {font-family: monospace;background-color: #f0f8ff;border: 1px dotted black;border-radius: 0.25em;box-sizing: border-box;margin-bottom: 0.5em;}#sk-container-id-1 div.sk-estimator:hover {background-color: #d4ebff;}#sk-container-id-1 div.sk-parallel-item::after {content: \"\";width: 100%;border-bottom: 1px solid gray;flex-grow: 1;}#sk-container-id-1 div.sk-label:hover label.sk-toggleable__label {background-color: #d4ebff;}#sk-container-id-1 div.sk-serial::before {content: \"\";position: absolute;border-left: 1px solid gray;box-sizing: border-box;top: 0;bottom: 0;left: 50%;z-index: 0;}#sk-container-id-1 div.sk-serial {display: flex;flex-direction: column;align-items: center;background-color: white;padding-right: 0.2em;padding-left: 0.2em;position: relative;}#sk-container-id-1 div.sk-item {position: relative;z-index: 1;}#sk-container-id-1 div.sk-parallel {display: flex;align-items: stretch;justify-content: center;background-color: white;position: relative;}#sk-container-id-1 div.sk-item::before, #sk-container-id-1 div.sk-parallel-item::before {content: \"\";position: absolute;border-left: 1px solid gray;box-sizing: border-box;top: 0;bottom: 0;left: 50%;z-index: -1;}#sk-container-id-1 div.sk-parallel-item {display: flex;flex-direction: column;z-index: 1;position: relative;background-color: white;}#sk-container-id-1 div.sk-parallel-item:first-child::after {align-self: flex-end;width: 50%;}#sk-container-id-1 div.sk-parallel-item:last-child::after {align-self: flex-start;width: 50%;}#sk-container-id-1 div.sk-parallel-item:only-child::after {width: 0;}#sk-container-id-1 div.sk-dashed-wrapped {border: 1px dashed gray;margin: 0 0.4em 0.5em 0.4em;box-sizing: border-box;padding-bottom: 0.4em;background-color: white;}#sk-container-id-1 div.sk-label label {font-family: monospace;font-weight: bold;display: inline-block;line-height: 1.2em;}#sk-container-id-1 div.sk-label-container {text-align: center;}#sk-container-id-1 div.sk-container {/* jupyter's `normalize.less` sets `[hidden] { display: none; }` but bootstrap.min.css set `[hidden] { display: none !important; }` so we also need the `!important` here to be able to override the default hidden behavior on the sphinx rendered scikit-learn.org. See: https://github.com/scikit-learn/scikit-learn/issues/21755 */display: inline-block !important;position: relative;}#sk-container-id-1 div.sk-text-repr-fallback {display: none;}</style><div id=\"sk-container-id-1\" class=\"sk-top-container\"><div class=\"sk-text-repr-fallback\"><pre>Pipeline(steps=[(&#x27;scale&#x27;, StandardScaler()),\n",
       "                (&#x27;model&#x27;,\n",
       "                 LogisticRegression(l1_ratio=0.5, max_iter=5000,\n",
       "                                    penalty=&#x27;elasticnet&#x27;, solver=&#x27;saga&#x27;))])</pre><b>In a Jupyter environment, please rerun this cell to show the HTML representation or trust the notebook. <br />On GitHub, the HTML representation is unable to render, please try loading this page with nbviewer.org.</b></div><div class=\"sk-container\" hidden><div class=\"sk-item sk-dashed-wrapped\"><div class=\"sk-label-container\"><div class=\"sk-label sk-toggleable\"><input class=\"sk-toggleable__control sk-hidden--visually\" id=\"sk-estimator-id-1\" type=\"checkbox\" ><label for=\"sk-estimator-id-1\" class=\"sk-toggleable__label sk-toggleable__label-arrow\">Pipeline</label><div class=\"sk-toggleable__content\"><pre>Pipeline(steps=[(&#x27;scale&#x27;, StandardScaler()),\n",
       "                (&#x27;model&#x27;,\n",
       "                 LogisticRegression(l1_ratio=0.5, max_iter=5000,\n",
       "                                    penalty=&#x27;elasticnet&#x27;, solver=&#x27;saga&#x27;))])</pre></div></div></div><div class=\"sk-serial\"><div class=\"sk-item\"><div class=\"sk-estimator sk-toggleable\"><input class=\"sk-toggleable__control sk-hidden--visually\" id=\"sk-estimator-id-2\" type=\"checkbox\" ><label for=\"sk-estimator-id-2\" class=\"sk-toggleable__label sk-toggleable__label-arrow\">StandardScaler</label><div class=\"sk-toggleable__content\"><pre>StandardScaler()</pre></div></div></div><div class=\"sk-item\"><div class=\"sk-estimator sk-toggleable\"><input class=\"sk-toggleable__control sk-hidden--visually\" id=\"sk-estimator-id-3\" type=\"checkbox\" ><label for=\"sk-estimator-id-3\" class=\"sk-toggleable__label sk-toggleable__label-arrow\">LogisticRegression</label><div class=\"sk-toggleable__content\"><pre>LogisticRegression(l1_ratio=0.5, max_iter=5000, penalty=&#x27;elasticnet&#x27;,\n",
       "                   solver=&#x27;saga&#x27;)</pre></div></div></div></div></div></div></div>"
      ],
      "text/plain": [
       "Pipeline(steps=[('scale', StandardScaler()),\n",
       "                ('model',\n",
       "                 LogisticRegression(l1_ratio=0.5, max_iter=5000,\n",
       "                                    penalty='elasticnet', solver='saga'))])"
      ]
     },
     "execution_count": 43,
     "metadata": {},
     "output_type": "execute_result"
    }
   ],
   "source": [
    "model.fit(X_train, y_train.values.ravel())"
   ]
  },
  {
   "cell_type": "code",
   "execution_count": 44,
   "id": "af59f8c0",
   "metadata": {
    "execution": {
     "iopub.execute_input": "2025-07-30T21:48:22.080380Z",
     "iopub.status.busy": "2025-07-30T21:48:22.079500Z",
     "iopub.status.idle": "2025-07-30T21:48:22.084528Z",
     "shell.execute_reply": "2025-07-30T21:48:22.083597Z"
    },
    "papermill": {
     "duration": 0.033652,
     "end_time": "2025-07-30T21:48:22.086162",
     "exception": false,
     "start_time": "2025-07-30T21:48:22.052510",
     "status": "completed"
    },
    "tags": []
   },
   "outputs": [],
   "source": [
    "from fairness_multiverse.universe import predict_w_threshold"
   ]
  },
  {
   "cell_type": "code",
   "execution_count": 45,
   "id": "a7cf2e16",
   "metadata": {
    "execution": {
     "iopub.execute_input": "2025-07-30T21:48:22.135164Z",
     "iopub.status.busy": "2025-07-30T21:48:22.134524Z",
     "iopub.status.idle": "2025-07-30T21:48:22.319020Z",
     "shell.execute_reply": "2025-07-30T21:48:22.318324Z"
    },
    "papermill": {
     "duration": 0.21098,
     "end_time": "2025-07-30T21:48:22.320256",
     "exception": false,
     "start_time": "2025-07-30T21:48:22.109276",
     "status": "completed"
    },
    "tags": []
   },
   "outputs": [
    {
     "data": {
      "text/plain": [
       "0.824724111024412"
      ]
     },
     "execution_count": 45,
     "metadata": {},
     "output_type": "execute_result"
    }
   ],
   "source": [
    "probs_test = model.predict_proba(X_test)\n",
    "\n",
    "'''\n",
    "Below code returns a boolean array (or binary 0/1 array depending on how it’s used) where each element \n",
    "is True if the probability of class 1 is greater than or equal to the threshold, and False otherwise.\n",
    "'''\n",
    "y_pred_default = predict_w_threshold(probs_test, 0.5)\n",
    "\n",
    "from sklearn.metrics import accuracy_score\n",
    "\n",
    "# Naive prediction\n",
    "accuracy_score(y_true = y_true, y_pred = y_pred_default)"
   ]
  },
  {
   "cell_type": "code",
   "execution_count": 46,
   "id": "081964c3",
   "metadata": {
    "execution": {
     "iopub.execute_input": "2025-07-30T21:48:22.346231Z",
     "iopub.status.busy": "2025-07-30T21:48:22.345736Z",
     "iopub.status.idle": "2025-07-30T21:48:22.507786Z",
     "shell.execute_reply": "2025-07-30T21:48:22.506943Z"
    },
    "papermill": {
     "duration": 0.176502,
     "end_time": "2025-07-30T21:48:22.509119",
     "exception": false,
     "start_time": "2025-07-30T21:48:22.332617",
     "status": "completed"
    },
    "tags": []
   },
   "outputs": [
    {
     "data": {
      "text/plain": [
       "array([0, 0, 0, ..., 0, 0, 0])"
      ]
     },
     "execution_count": 46,
     "metadata": {},
     "output_type": "execute_result"
    }
   ],
   "source": [
    "model.predict(X_test)"
   ]
  },
  {
   "cell_type": "markdown",
   "id": "56c9705b",
   "metadata": {
    "papermill": {
     "duration": 0.024114,
     "end_time": "2025-07-30T21:48:22.548538",
     "exception": false,
     "start_time": "2025-07-30T21:48:22.524424",
     "status": "completed"
    },
    "tags": []
   },
   "source": [
    "# Conformal Prediction"
   ]
  },
  {
   "cell_type": "code",
   "execution_count": 47,
   "id": "160ec6ff",
   "metadata": {
    "execution": {
     "iopub.execute_input": "2025-07-30T21:48:22.590872Z",
     "iopub.status.busy": "2025-07-30T21:48:22.590072Z",
     "iopub.status.idle": "2025-07-30T21:48:22.594744Z",
     "shell.execute_reply": "2025-07-30T21:48:22.593969Z"
    },
    "papermill": {
     "duration": 0.023013,
     "end_time": "2025-07-30T21:48:22.596018",
     "exception": false,
     "start_time": "2025-07-30T21:48:22.573005",
     "status": "completed"
    },
    "tags": []
   },
   "outputs": [],
   "source": [
    "# Miscoverage level for conformal prediction (10% allowed error rate => 90% target coverage)\n",
    "alpha = 0.1"
   ]
  },
  {
   "cell_type": "code",
   "execution_count": 48,
   "id": "eadf4555-3dd3-440e-8e35-f82a4ad9f855",
   "metadata": {
    "execution": {
     "iopub.execute_input": "2025-07-30T21:48:22.621748Z",
     "iopub.status.busy": "2025-07-30T21:48:22.621377Z",
     "iopub.status.idle": "2025-07-30T21:48:22.791757Z",
     "shell.execute_reply": "2025-07-30T21:48:22.790811Z"
    },
    "papermill": {
     "duration": 0.184471,
     "end_time": "2025-07-30T21:48:22.793365",
     "exception": false,
     "start_time": "2025-07-30T21:48:22.608894",
     "status": "completed"
    },
    "tags": []
   },
   "outputs": [],
   "source": [
    "probs_calib = model.predict_proba(X_calib)"
   ]
  },
  {
   "cell_type": "code",
   "execution_count": 49,
   "id": "2ed93547-6d5d-4983-9b36-1ecb300da49a",
   "metadata": {
    "execution": {
     "iopub.execute_input": "2025-07-30T21:48:22.843892Z",
     "iopub.status.busy": "2025-07-30T21:48:22.843490Z",
     "iopub.status.idle": "2025-07-30T21:48:22.849026Z",
     "shell.execute_reply": "2025-07-30T21:48:22.848079Z"
    },
    "papermill": {
     "duration": 0.033458,
     "end_time": "2025-07-30T21:48:22.850631",
     "exception": false,
     "start_time": "2025-07-30T21:48:22.817173",
     "status": "completed"
    },
    "tags": []
   },
   "outputs": [],
   "source": [
    "y_calib = y_calib.values.ravel().astype(int)"
   ]
  },
  {
   "cell_type": "code",
   "execution_count": 50,
   "id": "65d1320d-f588-4b38-9072-62af1ae97f7d",
   "metadata": {
    "execution": {
     "iopub.execute_input": "2025-07-30T21:48:22.902524Z",
     "iopub.status.busy": "2025-07-30T21:48:22.902149Z",
     "iopub.status.idle": "2025-07-30T21:48:22.908699Z",
     "shell.execute_reply": "2025-07-30T21:48:22.907736Z"
    },
    "papermill": {
     "duration": 0.03411,
     "end_time": "2025-07-30T21:48:22.910251",
     "exception": false,
     "start_time": "2025-07-30T21:48:22.876141",
     "status": "completed"
    },
    "tags": []
   },
   "outputs": [],
   "source": [
    "from fairness_multiverse.conformal import compute_nc_scores\n",
    "\n",
    "# Compute nonconformity scores on calibration set (1 - probability of true class)\n",
    "nc_scores = compute_nc_scores(probs_calib, y_calib)"
   ]
  },
  {
   "cell_type": "code",
   "execution_count": 51,
   "id": "df3b8ca3-53b7-43d5-9667-7c85da7aeda2",
   "metadata": {
    "execution": {
     "iopub.execute_input": "2025-07-30T21:48:22.962752Z",
     "iopub.status.busy": "2025-07-30T21:48:22.962342Z",
     "iopub.status.idle": "2025-07-30T21:48:22.969047Z",
     "shell.execute_reply": "2025-07-30T21:48:22.968146Z"
    },
    "papermill": {
     "duration": 0.035086,
     "end_time": "2025-07-30T21:48:22.970856",
     "exception": false,
     "start_time": "2025-07-30T21:48:22.935770",
     "status": "completed"
    },
    "tags": []
   },
   "outputs": [],
   "source": [
    "from fairness_multiverse.conformal import find_threshold\n",
    "\n",
    "# Find conformal threshold q_hat for the given alpha (split conformal method)\n",
    "q_hat = find_threshold(nc_scores, alpha)"
   ]
  },
  {
   "cell_type": "code",
   "execution_count": 52,
   "id": "4d29e6c1-0ef6-4aa4-b8fe-4fe79b0d033a",
   "metadata": {
    "execution": {
     "iopub.execute_input": "2025-07-30T21:48:23.023161Z",
     "iopub.status.busy": "2025-07-30T21:48:23.022858Z",
     "iopub.status.idle": "2025-07-30T21:48:23.029248Z",
     "shell.execute_reply": "2025-07-30T21:48:23.028246Z"
    },
    "papermill": {
     "duration": 0.034171,
     "end_time": "2025-07-30T21:48:23.030738",
     "exception": false,
     "start_time": "2025-07-30T21:48:22.996567",
     "status": "completed"
    },
    "tags": []
   },
   "outputs": [
    {
     "data": {
      "text/plain": [
       "0.754043070621413"
      ]
     },
     "execution_count": 52,
     "metadata": {},
     "output_type": "execute_result"
    }
   ],
   "source": [
    "q_hat"
   ]
  },
  {
   "cell_type": "code",
   "execution_count": 53,
   "id": "92460794-cdac-4be2-ba28-f28c0515a6fb",
   "metadata": {
    "execution": {
     "iopub.execute_input": "2025-07-30T21:48:23.083828Z",
     "iopub.status.busy": "2025-07-30T21:48:23.083100Z",
     "iopub.status.idle": "2025-07-30T21:48:23.683059Z",
     "shell.execute_reply": "2025-07-30T21:48:23.682307Z"
    },
    "papermill": {
     "duration": 0.628435,
     "end_time": "2025-07-30T21:48:23.684905",
     "exception": false,
     "start_time": "2025-07-30T21:48:23.056470",
     "status": "completed"
    },
    "tags": []
   },
   "outputs": [],
   "source": [
    "from fairness_multiverse.conformal import predict_conformal_sets\n",
    "\n",
    "# Generate prediction sets for each test example\n",
    "pred_sets = predict_conformal_sets(model, X_test, q_hat)"
   ]
  },
  {
   "cell_type": "code",
   "execution_count": 54,
   "id": "d90c9a65-e6db-4f5d-80cd-e68fb7e46829",
   "metadata": {
    "execution": {
     "iopub.execute_input": "2025-07-30T21:48:23.739030Z",
     "iopub.status.busy": "2025-07-30T21:48:23.738376Z",
     "iopub.status.idle": "2025-07-30T21:48:23.743768Z",
     "shell.execute_reply": "2025-07-30T21:48:23.742863Z"
    },
    "papermill": {
     "duration": 0.034025,
     "end_time": "2025-07-30T21:48:23.745425",
     "exception": false,
     "start_time": "2025-07-30T21:48:23.711400",
     "status": "completed"
    },
    "tags": []
   },
   "outputs": [],
   "source": [
    "y_true = y_true.squeeze()"
   ]
  },
  {
   "cell_type": "code",
   "execution_count": 55,
   "id": "3a58a54a-1e68-46b9-927a-df01f18aebc8",
   "metadata": {
    "execution": {
     "iopub.execute_input": "2025-07-30T21:48:23.799965Z",
     "iopub.status.busy": "2025-07-30T21:48:23.799460Z",
     "iopub.status.idle": "2025-07-30T21:48:24.676285Z",
     "shell.execute_reply": "2025-07-30T21:48:24.675509Z"
    },
    "papermill": {
     "duration": 0.905355,
     "end_time": "2025-07-30T21:48:24.677929",
     "exception": false,
     "start_time": "2025-07-30T21:48:23.772574",
     "status": "completed"
    },
    "tags": []
   },
   "outputs": [],
   "source": [
    "from fairness_multiverse.conformal import evaluate_sets\n",
    "\n",
    "# Evaluate coverage and average set size on test data\n",
    "metrics = evaluate_sets(pred_sets, y_true)"
   ]
  },
  {
   "cell_type": "markdown",
   "id": "2b569c12-9aaa-4c88-98c9-bbcd0cf3ebb8",
   "metadata": {
    "papermill": {
     "duration": 0.020539,
     "end_time": "2025-07-30T21:48:24.714920",
     "exception": false,
     "start_time": "2025-07-30T21:48:24.694381",
     "status": "completed"
    },
    "tags": []
   },
   "source": [
    "# CP Metrics"
   ]
  },
  {
   "cell_type": "code",
   "execution_count": 56,
   "id": "5ce0a5cb-201f-45a0-ade5-94c7f0bd6095",
   "metadata": {
    "execution": {
     "iopub.execute_input": "2025-07-30T21:48:24.761479Z",
     "iopub.status.busy": "2025-07-30T21:48:24.761052Z",
     "iopub.status.idle": "2025-07-30T21:48:24.767749Z",
     "shell.execute_reply": "2025-07-30T21:48:24.766930Z"
    },
    "papermill": {
     "duration": 0.033886,
     "end_time": "2025-07-30T21:48:24.769255",
     "exception": false,
     "start_time": "2025-07-30T21:48:24.735369",
     "status": "completed"
    },
    "tags": []
   },
   "outputs": [
    {
     "data": {
      "text/plain": [
       "{'coverage': 0.9074573626128637, 'avg_size': 1.2211793557017054}"
      ]
     },
     "execution_count": 56,
     "metadata": {},
     "output_type": "execute_result"
    }
   ],
   "source": [
    "metrics"
   ]
  },
  {
   "cell_type": "code",
   "execution_count": 57,
   "id": "9b9a838d-31c9-430b-ae14-12baee460d17",
   "metadata": {
    "execution": {
     "iopub.execute_input": "2025-07-30T21:48:24.821511Z",
     "iopub.status.busy": "2025-07-30T21:48:24.820648Z",
     "iopub.status.idle": "2025-07-30T21:48:24.827157Z",
     "shell.execute_reply": "2025-07-30T21:48:24.826160Z"
    },
    "papermill": {
     "duration": 0.0349,
     "end_time": "2025-07-30T21:48:24.828974",
     "exception": false,
     "start_time": "2025-07-30T21:48:24.794074",
     "status": "completed"
    },
    "tags": []
   },
   "outputs": [],
   "source": [
    "example_universe = universe.copy()\n",
    "universe_training_year = example_universe.get(\"training_year\")\n",
    "universe_training_size = example_universe.get(\"training_size\")\n",
    "universe_scale = example_universe.get(\"scale\")\n",
    "universe_model = example_universe.get(\"model\")\n",
    "universe_exclude_features = example_universe.get(\"exclude_features\")\n",
    "universe_exclude_subgroups = example_universe.get(\"exclude_subgroups\")"
   ]
  },
  {
   "cell_type": "code",
   "execution_count": 58,
   "id": "f4b6a8ac-9dc0-4245-8a91-5b3b5999c4f9",
   "metadata": {
    "execution": {
     "iopub.execute_input": "2025-07-30T21:48:24.881474Z",
     "iopub.status.busy": "2025-07-30T21:48:24.880784Z",
     "iopub.status.idle": "2025-07-30T21:48:24.887562Z",
     "shell.execute_reply": "2025-07-30T21:48:24.886562Z"
    },
    "papermill": {
     "duration": 0.034505,
     "end_time": "2025-07-30T21:48:24.889223",
     "exception": false,
     "start_time": "2025-07-30T21:48:24.854718",
     "status": "completed"
    },
    "tags": []
   },
   "outputs": [],
   "source": [
    "cp_metrics_dict = {\n",
    "    \"universe_id\": [universe_id],\n",
    "    \"universe_training_year\": [universe_training_year],\n",
    "    \"universe_training_size\": [universe_training_size],\n",
    "    \"universe_scale\": [universe_scale],\n",
    "    \"universe_model\": [universe_model],\n",
    "    \"universe_exclude_features\": [universe_exclude_features],\n",
    "    \"universe_exclude_subgroups\": [universe_exclude_subgroups],\n",
    "    \"q_hat\": [q_hat],\n",
    "    \"coverage\": [metrics[\"coverage\"]],\n",
    "    \"avg_size\": [metrics[\"avg_size\"]],\n",
    "}"
   ]
  },
  {
   "cell_type": "code",
   "execution_count": 59,
   "id": "908acbb1-0371-4915-85ca-3fa520d2efe2",
   "metadata": {
    "execution": {
     "iopub.execute_input": "2025-07-30T21:48:24.939681Z",
     "iopub.status.busy": "2025-07-30T21:48:24.939157Z",
     "iopub.status.idle": "2025-07-30T21:48:24.946555Z",
     "shell.execute_reply": "2025-07-30T21:48:24.945688Z"
    },
    "papermill": {
     "duration": 0.033385,
     "end_time": "2025-07-30T21:48:24.948361",
     "exception": false,
     "start_time": "2025-07-30T21:48:24.914976",
     "status": "completed"
    },
    "tags": []
   },
   "outputs": [
    {
     "data": {
      "text/plain": [
       "{'universe_id': ['4e3b207ffb6ba8385057651072f9cfde'],\n",
       " 'universe_training_year': ['2010_14'],\n",
       " 'universe_training_size': ['1k'],\n",
       " 'universe_scale': ['scale'],\n",
       " 'universe_model': ['elasticnet'],\n",
       " 'universe_exclude_features': ['sex'],\n",
       " 'universe_exclude_subgroups': ['keep-all'],\n",
       " 'q_hat': [0.754043070621413],\n",
       " 'coverage': [0.9074573626128637],\n",
       " 'avg_size': [1.2211793557017054]}"
      ]
     },
     "execution_count": 59,
     "metadata": {},
     "output_type": "execute_result"
    }
   ],
   "source": [
    "cp_metrics_dict"
   ]
  },
  {
   "cell_type": "code",
   "execution_count": 60,
   "id": "33007efc-14e9-4ec6-97ac-56a455c82265",
   "metadata": {
    "execution": {
     "iopub.execute_input": "2025-07-30T21:48:25.009620Z",
     "iopub.status.busy": "2025-07-30T21:48:25.009140Z",
     "iopub.status.idle": "2025-07-30T21:48:25.015631Z",
     "shell.execute_reply": "2025-07-30T21:48:25.014570Z"
    },
    "papermill": {
     "duration": 0.040974,
     "end_time": "2025-07-30T21:48:25.017516",
     "exception": false,
     "start_time": "2025-07-30T21:48:24.976542",
     "status": "completed"
    },
    "tags": []
   },
   "outputs": [],
   "source": [
    "cp_metrics_df = pd.DataFrame(cp_metrics_dict)"
   ]
  },
  {
   "cell_type": "code",
   "execution_count": 61,
   "id": "db12611b-57b2-4910-b9d0-355adfd6e7bf",
   "metadata": {
    "execution": {
     "iopub.execute_input": "2025-07-30T21:48:25.058894Z",
     "iopub.status.busy": "2025-07-30T21:48:25.058458Z",
     "iopub.status.idle": "2025-07-30T21:48:25.077354Z",
     "shell.execute_reply": "2025-07-30T21:48:25.076652Z"
    },
    "papermill": {
     "duration": 0.037258,
     "end_time": "2025-07-30T21:48:25.078719",
     "exception": false,
     "start_time": "2025-07-30T21:48:25.041461",
     "status": "completed"
    },
    "tags": []
   },
   "outputs": [
    {
     "data": {
      "text/html": [
       "<div>\n",
       "<style scoped>\n",
       "    .dataframe tbody tr th:only-of-type {\n",
       "        vertical-align: middle;\n",
       "    }\n",
       "\n",
       "    .dataframe tbody tr th {\n",
       "        vertical-align: top;\n",
       "    }\n",
       "\n",
       "    .dataframe thead th {\n",
       "        text-align: right;\n",
       "    }\n",
       "</style>\n",
       "<table border=\"1\" class=\"dataframe\">\n",
       "  <thead>\n",
       "    <tr style=\"text-align: right;\">\n",
       "      <th></th>\n",
       "      <th>universe_id</th>\n",
       "      <th>universe_training_year</th>\n",
       "      <th>universe_training_size</th>\n",
       "      <th>universe_scale</th>\n",
       "      <th>universe_model</th>\n",
       "      <th>universe_exclude_features</th>\n",
       "      <th>universe_exclude_subgroups</th>\n",
       "      <th>q_hat</th>\n",
       "      <th>coverage</th>\n",
       "      <th>avg_size</th>\n",
       "    </tr>\n",
       "  </thead>\n",
       "  <tbody>\n",
       "    <tr>\n",
       "      <th>0</th>\n",
       "      <td>4e3b207ffb6ba8385057651072f9cfde</td>\n",
       "      <td>2010_14</td>\n",
       "      <td>1k</td>\n",
       "      <td>scale</td>\n",
       "      <td>elasticnet</td>\n",
       "      <td>sex</td>\n",
       "      <td>keep-all</td>\n",
       "      <td>0.754043</td>\n",
       "      <td>0.907457</td>\n",
       "      <td>1.221179</td>\n",
       "    </tr>\n",
       "  </tbody>\n",
       "</table>\n",
       "</div>"
      ],
      "text/plain": [
       "                        universe_id universe_training_year  \\\n",
       "0  4e3b207ffb6ba8385057651072f9cfde                2010_14   \n",
       "\n",
       "  universe_training_size universe_scale universe_model  \\\n",
       "0                     1k          scale     elasticnet   \n",
       "\n",
       "  universe_exclude_features universe_exclude_subgroups     q_hat  coverage  \\\n",
       "0                       sex                   keep-all  0.754043  0.907457   \n",
       "\n",
       "   avg_size  \n",
       "0  1.221179  "
      ]
     },
     "execution_count": 61,
     "metadata": {},
     "output_type": "execute_result"
    }
   ],
   "source": [
    "cp_metrics_df"
   ]
  },
  {
   "cell_type": "code",
   "execution_count": 62,
   "id": "b7fbde55-a0a1-47e4-9af6-fe4a17fa8c61",
   "metadata": {
    "execution": {
     "iopub.execute_input": "2025-07-30T21:48:25.107832Z",
     "iopub.status.busy": "2025-07-30T21:48:25.107389Z",
     "iopub.status.idle": "2025-07-30T21:48:25.112570Z",
     "shell.execute_reply": "2025-07-30T21:48:25.111706Z"
    },
    "papermill": {
     "duration": 0.02088,
     "end_time": "2025-07-30T21:48:25.113849",
     "exception": false,
     "start_time": "2025-07-30T21:48:25.092969",
     "status": "completed"
    },
    "tags": []
   },
   "outputs": [],
   "source": [
    "# Conditional Coverage & looking at subgroups"
   ]
  },
  {
   "cell_type": "code",
   "execution_count": 63,
   "id": "027ae886-68dd-4141-96c7-805a5450e1ef",
   "metadata": {
    "execution": {
     "iopub.execute_input": "2025-07-30T21:48:25.149604Z",
     "iopub.status.busy": "2025-07-30T21:48:25.149241Z",
     "iopub.status.idle": "2025-07-30T21:48:25.361079Z",
     "shell.execute_reply": "2025-07-30T21:48:25.360046Z"
    },
    "papermill": {
     "duration": 0.234239,
     "end_time": "2025-07-30T21:48:25.362973",
     "exception": false,
     "start_time": "2025-07-30T21:48:25.128734",
     "status": "completed"
    },
    "tags": []
   },
   "outputs": [],
   "source": [
    "from fairness_multiverse.conformal import build_cp_groups\n",
    "\n",
    "cp_groups_df = build_cp_groups(pred_sets, y_true, X_test.index, org_test)\n",
    "#needs universe_id and setting"
   ]
  },
  {
   "cell_type": "code",
   "execution_count": 64,
   "id": "01d5802c-663a-4d1f-9d69-e036faaffbf7",
   "metadata": {
    "execution": {
     "iopub.execute_input": "2025-07-30T21:48:25.416430Z",
     "iopub.status.busy": "2025-07-30T21:48:25.415938Z",
     "iopub.status.idle": "2025-07-30T21:48:25.420781Z",
     "shell.execute_reply": "2025-07-30T21:48:25.419782Z"
    },
    "papermill": {
     "duration": 0.046332,
     "end_time": "2025-07-30T21:48:25.437036",
     "exception": false,
     "start_time": "2025-07-30T21:48:25.390704",
     "status": "completed"
    },
    "tags": []
   },
   "outputs": [],
   "source": [
    "#delete\n",
    "#cp_groups_df"
   ]
  },
  {
   "cell_type": "code",
   "execution_count": 65,
   "id": "fa424af1-d1eb-443d-b717-2d279ada8408",
   "metadata": {
    "execution": {
     "iopub.execute_input": "2025-07-30T21:48:25.490900Z",
     "iopub.status.busy": "2025-07-30T21:48:25.490411Z",
     "iopub.status.idle": "2025-07-30T21:48:25.495169Z",
     "shell.execute_reply": "2025-07-30T21:48:25.494269Z"
    },
    "papermill": {
     "duration": 0.034239,
     "end_time": "2025-07-30T21:48:25.496781",
     "exception": false,
     "start_time": "2025-07-30T21:48:25.462542",
     "status": "completed"
    },
    "tags": []
   },
   "outputs": [],
   "source": [
    "#delete\n",
    "#percentage = (cp_groups_df['nongerman_female'] == 1).mean() * 100\n",
    "#print(percentage)\n"
   ]
  },
  {
   "cell_type": "code",
   "execution_count": 66,
   "id": "6cbdab96-b2b2-45af-ad54-d0516db2e28d",
   "metadata": {
    "execution": {
     "iopub.execute_input": "2025-07-30T21:48:25.550671Z",
     "iopub.status.busy": "2025-07-30T21:48:25.550161Z",
     "iopub.status.idle": "2025-07-30T21:48:27.137951Z",
     "shell.execute_reply": "2025-07-30T21:48:27.136958Z"
    },
    "papermill": {
     "duration": 1.616692,
     "end_time": "2025-07-30T21:48:27.139906",
     "exception": false,
     "start_time": "2025-07-30T21:48:25.523214",
     "status": "completed"
    },
    "tags": []
   },
   "outputs": [],
   "source": [
    "# Define covered = 1 if true_label is in the predicted set\n",
    "cp_groups_df['covered'] = cp_groups_df.apply(\n",
    "    lambda r: int(r['true_label'] in r['pred_set']),\n",
    "    axis=1\n",
    ")"
   ]
  },
  {
   "cell_type": "code",
   "execution_count": 67,
   "id": "338ff529-1a6b-4b87-a931-8e4788d52aad",
   "metadata": {
    "execution": {
     "iopub.execute_input": "2025-07-30T21:48:27.193361Z",
     "iopub.status.busy": "2025-07-30T21:48:27.192604Z",
     "iopub.status.idle": "2025-07-30T21:48:27.197199Z",
     "shell.execute_reply": "2025-07-30T21:48:27.196287Z"
    },
    "papermill": {
     "duration": 0.029487,
     "end_time": "2025-07-30T21:48:27.198860",
     "exception": false,
     "start_time": "2025-07-30T21:48:27.169373",
     "status": "completed"
    },
    "tags": []
   },
   "outputs": [],
   "source": [
    "#cp_groups_df"
   ]
  },
  {
   "cell_type": "code",
   "execution_count": 68,
   "id": "90032e27-66df-4540-9169-4e89cfbaa758",
   "metadata": {
    "execution": {
     "iopub.execute_input": "2025-07-30T21:48:27.246820Z",
     "iopub.status.busy": "2025-07-30T21:48:27.246426Z",
     "iopub.status.idle": "2025-07-30T21:48:27.257087Z",
     "shell.execute_reply": "2025-07-30T21:48:27.256217Z"
    },
    "papermill": {
     "duration": 0.036497,
     "end_time": "2025-07-30T21:48:27.258783",
     "exception": false,
     "start_time": "2025-07-30T21:48:27.222286",
     "status": "completed"
    },
    "tags": []
   },
   "outputs": [],
   "source": [
    "subgroups = ['frau1','nongerman','nongerman_male','nongerman_female']\n",
    "\n",
    "# Conditional coverage for subgroup==1\n",
    "cond_coverage = {\n",
    "    g: cp_groups_df.loc[cp_groups_df[g]==1, 'covered'].mean()\n",
    "    for g in subgroups\n",
    "}"
   ]
  },
  {
   "cell_type": "code",
   "execution_count": 69,
   "id": "1e348fb1-b9c3-45bc-ba23-f016827a7e0d",
   "metadata": {
    "execution": {
     "iopub.execute_input": "2025-07-30T21:48:27.312491Z",
     "iopub.status.busy": "2025-07-30T21:48:27.311835Z",
     "iopub.status.idle": "2025-07-30T21:48:27.318948Z",
     "shell.execute_reply": "2025-07-30T21:48:27.317954Z"
    },
    "papermill": {
     "duration": 0.036209,
     "end_time": "2025-07-30T21:48:27.320653",
     "exception": false,
     "start_time": "2025-07-30T21:48:27.284444",
     "status": "completed"
    },
    "tags": []
   },
   "outputs": [
    {
     "data": {
      "text/plain": [
       "{'frau1': 0.9083164847014422,\n",
       " 'nongerman': 0.9155111435468478,\n",
       " 'nongerman_male': 0.9291182563271188,\n",
       " 'nongerman_female': 0.8929955290611028}"
      ]
     },
     "execution_count": 69,
     "metadata": {},
     "output_type": "execute_result"
    }
   ],
   "source": [
    "cond_coverage"
   ]
  },
  {
   "cell_type": "code",
   "execution_count": 70,
   "id": "f5093324-c3dd-4d63-bc4c-8d945e5c8bbb",
   "metadata": {
    "execution": {
     "iopub.execute_input": "2025-07-30T21:48:27.372617Z",
     "iopub.status.busy": "2025-07-30T21:48:27.371750Z",
     "iopub.status.idle": "2025-07-30T21:48:27.378596Z",
     "shell.execute_reply": "2025-07-30T21:48:27.377732Z"
    },
    "papermill": {
     "duration": 0.032796,
     "end_time": "2025-07-30T21:48:27.380236",
     "exception": false,
     "start_time": "2025-07-30T21:48:27.347440",
     "status": "completed"
    },
    "tags": []
   },
   "outputs": [],
   "source": [
    "for subgroup, cov in cond_coverage.items():\n",
    "    cp_metrics_df[f\"cov_{subgroup}\"] = cov"
   ]
  },
  {
   "cell_type": "code",
   "execution_count": 71,
   "id": "6e872e10-dbe5-49e8-b554-5030c98ff75d",
   "metadata": {
    "execution": {
     "iopub.execute_input": "2025-07-30T21:48:27.433656Z",
     "iopub.status.busy": "2025-07-30T21:48:27.433117Z",
     "iopub.status.idle": "2025-07-30T21:48:27.451676Z",
     "shell.execute_reply": "2025-07-30T21:48:27.450919Z"
    },
    "papermill": {
     "duration": 0.049037,
     "end_time": "2025-07-30T21:48:27.452952",
     "exception": false,
     "start_time": "2025-07-30T21:48:27.403915",
     "status": "completed"
    },
    "tags": []
   },
   "outputs": [
    {
     "data": {
      "text/html": [
       "<div>\n",
       "<style scoped>\n",
       "    .dataframe tbody tr th:only-of-type {\n",
       "        vertical-align: middle;\n",
       "    }\n",
       "\n",
       "    .dataframe tbody tr th {\n",
       "        vertical-align: top;\n",
       "    }\n",
       "\n",
       "    .dataframe thead th {\n",
       "        text-align: right;\n",
       "    }\n",
       "</style>\n",
       "<table border=\"1\" class=\"dataframe\">\n",
       "  <thead>\n",
       "    <tr style=\"text-align: right;\">\n",
       "      <th></th>\n",
       "      <th>universe_id</th>\n",
       "      <th>universe_training_year</th>\n",
       "      <th>universe_training_size</th>\n",
       "      <th>universe_scale</th>\n",
       "      <th>universe_model</th>\n",
       "      <th>universe_exclude_features</th>\n",
       "      <th>universe_exclude_subgroups</th>\n",
       "      <th>q_hat</th>\n",
       "      <th>coverage</th>\n",
       "      <th>avg_size</th>\n",
       "      <th>cov_frau1</th>\n",
       "      <th>cov_nongerman</th>\n",
       "      <th>cov_nongerman_male</th>\n",
       "      <th>cov_nongerman_female</th>\n",
       "    </tr>\n",
       "  </thead>\n",
       "  <tbody>\n",
       "    <tr>\n",
       "      <th>0</th>\n",
       "      <td>4e3b207ffb6ba8385057651072f9cfde</td>\n",
       "      <td>2010_14</td>\n",
       "      <td>1k</td>\n",
       "      <td>scale</td>\n",
       "      <td>elasticnet</td>\n",
       "      <td>sex</td>\n",
       "      <td>keep-all</td>\n",
       "      <td>0.754043</td>\n",
       "      <td>0.907457</td>\n",
       "      <td>1.221179</td>\n",
       "      <td>0.908316</td>\n",
       "      <td>0.915511</td>\n",
       "      <td>0.929118</td>\n",
       "      <td>0.892996</td>\n",
       "    </tr>\n",
       "  </tbody>\n",
       "</table>\n",
       "</div>"
      ],
      "text/plain": [
       "                        universe_id universe_training_year  \\\n",
       "0  4e3b207ffb6ba8385057651072f9cfde                2010_14   \n",
       "\n",
       "  universe_training_size universe_scale universe_model  \\\n",
       "0                     1k          scale     elasticnet   \n",
       "\n",
       "  universe_exclude_features universe_exclude_subgroups     q_hat  coverage  \\\n",
       "0                       sex                   keep-all  0.754043  0.907457   \n",
       "\n",
       "   avg_size  cov_frau1  cov_nongerman  cov_nongerman_male  \\\n",
       "0  1.221179   0.908316       0.915511            0.929118   \n",
       "\n",
       "   cov_nongerman_female  \n",
       "0              0.892996  "
      ]
     },
     "execution_count": 71,
     "metadata": {},
     "output_type": "execute_result"
    }
   ],
   "source": [
    "cp_metrics_df"
   ]
  },
  {
   "cell_type": "markdown",
   "id": "33774451",
   "metadata": {
    "papermill": {
     "duration": 0.034751,
     "end_time": "2025-07-30T21:48:27.522422",
     "exception": false,
     "start_time": "2025-07-30T21:48:27.487671",
     "status": "completed"
    },
    "tags": []
   },
   "source": [
    "# (Fairness) Metrics"
   ]
  },
  {
   "cell_type": "code",
   "execution_count": 72,
   "id": "debc5d62",
   "metadata": {
    "execution": {
     "iopub.execute_input": "2025-07-30T21:48:27.576130Z",
     "iopub.status.busy": "2025-07-30T21:48:27.575605Z",
     "iopub.status.idle": "2025-07-30T21:48:27.612111Z",
     "shell.execute_reply": "2025-07-30T21:48:27.596185Z"
    },
    "papermill": {
     "duration": 0.063759,
     "end_time": "2025-07-30T21:48:27.613870",
     "exception": false,
     "start_time": "2025-07-30T21:48:27.550111",
     "status": "completed"
    },
    "tags": []
   },
   "outputs": [],
   "source": [
    "# do I need to include maxdeutsch1.missing?\n",
    "\n",
    "import numpy as np\n",
    "\n",
    "colname_to_bin = \"maxdeutsch1\"\n",
    "majority_value = org_train[colname_to_bin].mode()[0]\n",
    "\n",
    "org_test[\"majmin\"] = np.where(org_test[colname_to_bin] == majority_value, \"majority\", \"minority\")"
   ]
  },
  {
   "cell_type": "code",
   "execution_count": 73,
   "id": "06a50de5",
   "metadata": {
    "execution": {
     "iopub.execute_input": "2025-07-30T21:48:27.666060Z",
     "iopub.status.busy": "2025-07-30T21:48:27.665249Z",
     "iopub.status.idle": "2025-07-30T21:48:30.407248Z",
     "shell.execute_reply": "2025-07-30T21:48:30.406283Z"
    },
    "papermill": {
     "duration": 2.769432,
     "end_time": "2025-07-30T21:48:30.408974",
     "exception": false,
     "start_time": "2025-07-30T21:48:27.639542",
     "status": "completed"
    },
    "tags": []
   },
   "outputs": [],
   "source": [
    "example_universe = universe.copy()\n",
    "example_universe[\"cutoff\"] = example_universe[\"cutoff\"][0]\n",
    "example_universe[\"eval_fairness_grouping\"] = example_universe[\"eval_fairness_grouping\"][0]\n",
    "fairness_dict, metric_frame = universe_analysis.compute_metrics(\n",
    "    example_universe,\n",
    "    y_pred_prob=probs_test,\n",
    "    y_test=y_true,\n",
    "    org_test=org_test,\n",
    ")"
   ]
  },
  {
   "cell_type": "markdown",
   "id": "f95d4e02",
   "metadata": {
    "papermill": {
     "duration": 0.028777,
     "end_time": "2025-07-30T21:48:30.467938",
     "exception": false,
     "start_time": "2025-07-30T21:48:30.439161",
     "status": "completed"
    },
    "tags": []
   },
   "source": [
    "# Overall"
   ]
  },
  {
   "cell_type": "markdown",
   "id": "bdee4871",
   "metadata": {
    "papermill": {
     "duration": 0.024088,
     "end_time": "2025-07-30T21:48:30.521383",
     "exception": false,
     "start_time": "2025-07-30T21:48:30.497295",
     "status": "completed"
    },
    "tags": []
   },
   "source": [
    "Fairness\n",
    "Main fairness target: Equalized Odds. Seems to be a better fit than equal opportunity, since we're not only interested in Y = 1. Seems to be a better fit than demographic parity, since we also care about accuracy, not just equal distribution of preds.\n",
    "\n",
    "Pick column for computation of fairness metrics\n",
    "\n",
    "Performance\n",
    "Overall performance measures, most interesting in relation to the measures split by group below"
   ]
  },
  {
   "cell_type": "code",
   "execution_count": 74,
   "id": "c4e067c6",
   "metadata": {
    "execution": {
     "iopub.execute_input": "2025-07-30T21:48:30.572106Z",
     "iopub.status.busy": "2025-07-30T21:48:30.571153Z",
     "iopub.status.idle": "2025-07-30T21:48:30.580308Z",
     "shell.execute_reply": "2025-07-30T21:48:30.579429Z"
    },
    "papermill": {
     "duration": 0.0366,
     "end_time": "2025-07-30T21:48:30.581859",
     "exception": false,
     "start_time": "2025-07-30T21:48:30.545259",
     "status": "completed"
    },
    "tags": []
   },
   "outputs": [
    {
     "data": {
      "text/plain": [
       "accuracy                   0.218894\n",
       "balanced accuracy          0.536374\n",
       "f1                         0.240376\n",
       "precision                  0.137319\n",
       "false positive rate        0.890668\n",
       "false negative rate        0.036583\n",
       "selection rate             0.900000\n",
       "count                  89710.000000\n",
       "dtype: float64"
      ]
     },
     "execution_count": 74,
     "metadata": {},
     "output_type": "execute_result"
    }
   ],
   "source": [
    "metric_frame.overall"
   ]
  },
  {
   "cell_type": "markdown",
   "id": "e968fe9d",
   "metadata": {
    "papermill": {
     "duration": 0.024704,
     "end_time": "2025-07-30T21:48:30.631797",
     "exception": false,
     "start_time": "2025-07-30T21:48:30.607093",
     "status": "completed"
    },
    "tags": []
   },
   "source": [
    "By Group"
   ]
  },
  {
   "cell_type": "code",
   "execution_count": 75,
   "id": "ec325bce",
   "metadata": {
    "execution": {
     "iopub.execute_input": "2025-07-30T21:48:30.682279Z",
     "iopub.status.busy": "2025-07-30T21:48:30.681665Z",
     "iopub.status.idle": "2025-07-30T21:48:30.698614Z",
     "shell.execute_reply": "2025-07-30T21:48:30.697671Z"
    },
    "papermill": {
     "duration": 0.044025,
     "end_time": "2025-07-30T21:48:30.700176",
     "exception": false,
     "start_time": "2025-07-30T21:48:30.656151",
     "status": "completed"
    },
    "tags": []
   },
   "outputs": [
    {
     "data": {
      "text/html": [
       "<div>\n",
       "<style scoped>\n",
       "    .dataframe tbody tr th:only-of-type {\n",
       "        vertical-align: middle;\n",
       "    }\n",
       "\n",
       "    .dataframe tbody tr th {\n",
       "        vertical-align: top;\n",
       "    }\n",
       "\n",
       "    .dataframe thead th {\n",
       "        text-align: right;\n",
       "    }\n",
       "</style>\n",
       "<table border=\"1\" class=\"dataframe\">\n",
       "  <thead>\n",
       "    <tr style=\"text-align: right;\">\n",
       "      <th></th>\n",
       "      <th>accuracy</th>\n",
       "      <th>balanced accuracy</th>\n",
       "      <th>f1</th>\n",
       "      <th>precision</th>\n",
       "      <th>false positive rate</th>\n",
       "      <th>false negative rate</th>\n",
       "      <th>selection rate</th>\n",
       "      <th>count</th>\n",
       "    </tr>\n",
       "    <tr>\n",
       "      <th>majmin</th>\n",
       "      <th></th>\n",
       "      <th></th>\n",
       "      <th></th>\n",
       "      <th></th>\n",
       "      <th></th>\n",
       "      <th></th>\n",
       "      <th></th>\n",
       "      <th></th>\n",
       "    </tr>\n",
       "  </thead>\n",
       "  <tbody>\n",
       "    <tr>\n",
       "      <th>majority</th>\n",
       "      <td>0.232615</td>\n",
       "      <td>0.541378</td>\n",
       "      <td>0.248669</td>\n",
       "      <td>0.142811</td>\n",
       "      <td>0.878294</td>\n",
       "      <td>0.038950</td>\n",
       "      <td>0.889229</td>\n",
       "      <td>69170.0</td>\n",
       "    </tr>\n",
       "    <tr>\n",
       "      <th>minority</th>\n",
       "      <td>0.172687</td>\n",
       "      <td>0.520504</td>\n",
       "      <td>0.213251</td>\n",
       "      <td>0.119755</td>\n",
       "      <td>0.931543</td>\n",
       "      <td>0.027449</td>\n",
       "      <td>0.936271</td>\n",
       "      <td>20540.0</td>\n",
       "    </tr>\n",
       "  </tbody>\n",
       "</table>\n",
       "</div>"
      ],
      "text/plain": [
       "          accuracy  balanced accuracy        f1  precision  \\\n",
       "majmin                                                       \n",
       "majority  0.232615           0.541378  0.248669   0.142811   \n",
       "minority  0.172687           0.520504  0.213251   0.119755   \n",
       "\n",
       "          false positive rate  false negative rate  selection rate    count  \n",
       "majmin                                                                       \n",
       "majority             0.878294             0.038950        0.889229  69170.0  \n",
       "minority             0.931543             0.027449        0.936271  20540.0  "
      ]
     },
     "execution_count": 75,
     "metadata": {},
     "output_type": "execute_result"
    }
   ],
   "source": [
    "metric_frame.by_group"
   ]
  },
  {
   "cell_type": "code",
   "execution_count": 76,
   "id": "a9ddbe63",
   "metadata": {
    "execution": {
     "iopub.execute_input": "2025-07-30T21:48:30.752337Z",
     "iopub.status.busy": "2025-07-30T21:48:30.751533Z",
     "iopub.status.idle": "2025-07-30T21:48:32.453290Z",
     "shell.execute_reply": "2025-07-30T21:48:32.452586Z"
    },
    "papermill": {
     "duration": 1.728776,
     "end_time": "2025-07-30T21:48:32.454568",
     "exception": false,
     "start_time": "2025-07-30T21:48:30.725792",
     "status": "completed"
    },
    "tags": []
   },
   "outputs": [
    {
     "data": {
      "text/plain": [
       "array([[<Axes: title={'center': 'accuracy'}, xlabel='majmin'>,\n",
       "        <Axes: title={'center': 'balanced accuracy'}, xlabel='majmin'>,\n",
       "        <Axes: title={'center': 'f1'}, xlabel='majmin'>],\n",
       "       [<Axes: title={'center': 'precision'}, xlabel='majmin'>,\n",
       "        <Axes: title={'center': 'false positive rate'}, xlabel='majmin'>,\n",
       "        <Axes: title={'center': 'false negative rate'}, xlabel='majmin'>],\n",
       "       [<Axes: title={'center': 'selection rate'}, xlabel='majmin'>,\n",
       "        <Axes: title={'center': 'count'}, xlabel='majmin'>,\n",
       "        <Axes: xlabel='majmin'>]], dtype=object)"
      ]
     },
     "execution_count": 76,
     "metadata": {},
     "output_type": "execute_result"
    },
    {
     "data": {
      "image/png": "[encoded data removed]",
      "text/plain": [
       "<Figure size 1200x800 with 9 Axes>"
      ]
     },
     "metadata": {},
     "output_type": "display_data"
    }
   ],
   "source": [
    "# In a graphic\n",
    "metric_frame.by_group.plot.bar(\n",
    "    subplots=True,\n",
    "    layout=[3, 3],\n",
    "    legend=False,\n",
    "    figsize=[12, 8],\n",
    "    title=\"Show all metrics\",\n",
    ")"
   ]
  },
  {
   "cell_type": "markdown",
   "id": "f57a0bac",
   "metadata": {
    "papermill": {
     "duration": 0.014213,
     "end_time": "2025-07-30T21:48:32.484566",
     "exception": false,
     "start_time": "2025-07-30T21:48:32.470353",
     "status": "completed"
    },
    "tags": []
   },
   "source": [
    "# Final Output"
   ]
  },
  {
   "cell_type": "code",
   "execution_count": 77,
   "id": "96d280a3",
   "metadata": {
    "execution": {
     "iopub.execute_input": "2025-07-30T21:48:32.514915Z",
     "iopub.status.busy": "2025-07-30T21:48:32.514455Z",
     "iopub.status.idle": "2025-07-30T21:48:32.521193Z",
     "shell.execute_reply": "2025-07-30T21:48:32.520493Z"
    },
    "papermill": {
     "duration": 0.023306,
     "end_time": "2025-07-30T21:48:32.522370",
     "exception": false,
     "start_time": "2025-07-30T21:48:32.499064",
     "status": "completed"
    },
    "tags": []
   },
   "outputs": [
    {
     "data": {
      "text/plain": [
       "4"
      ]
     },
     "execution_count": 77,
     "metadata": {},
     "output_type": "execute_result"
    }
   ],
   "source": [
    "sub_universes = universe_analysis.generate_sub_universes()\n",
    "len(sub_universes)"
   ]
  },
  {
   "cell_type": "code",
   "execution_count": 78,
   "id": "92adf7ba",
   "metadata": {
    "execution": {
     "iopub.execute_input": "2025-07-30T21:48:32.553181Z",
     "iopub.status.busy": "2025-07-30T21:48:32.552693Z",
     "iopub.status.idle": "2025-07-30T21:48:32.557788Z",
     "shell.execute_reply": "2025-07-30T21:48:32.557056Z"
    },
    "papermill": {
     "duration": 0.021995,
     "end_time": "2025-07-30T21:48:32.559058",
     "exception": false,
     "start_time": "2025-07-30T21:48:32.537063",
     "status": "completed"
    },
    "tags": []
   },
   "outputs": [],
   "source": [
    "def filter_sub_universe_data(sub_universe, org_test):\n",
    "    # Keep all rows — no filtering\n",
    "    keep_rows_mask = np.ones(org_test.shape[0], dtype=bool)\n",
    "\n",
    "    print(f\"[INFO] Keeping all rows: {keep_rows_mask.sum()} rows retained.\")\n",
    "    return keep_rows_mask"
   ]
  },
  {
   "cell_type": "code",
   "execution_count": 79,
   "id": "4a759155",
   "metadata": {
    "execution": {
     "iopub.execute_input": "2025-07-30T21:48:32.589910Z",
     "iopub.status.busy": "2025-07-30T21:48:32.589400Z",
     "iopub.status.idle": "2025-07-30T21:48:38.516704Z",
     "shell.execute_reply": "2025-07-30T21:48:38.515962Z"
    },
    "papermill": {
     "duration": 5.943773,
     "end_time": "2025-07-30T21:48:38.517906",
     "exception": false,
     "start_time": "2025-07-30T21:48:32.574133",
     "status": "completed"
    },
    "tags": []
   },
   "outputs": [
    {
     "name": "stdout",
     "output_type": "stream",
     "text": [
      "Stopping execution_time clock.\n",
      "[INFO] Keeping all rows: 89710 rows retained.\n"
     ]
    },
    {
     "name": "stdout",
     "output_type": "stream",
     "text": [
      "[INFO] Keeping all rows: 89710 rows retained.\n"
     ]
    },
    {
     "name": "stdout",
     "output_type": "stream",
     "text": [
      "[INFO] Keeping all rows: 89710 rows retained.\n"
     ]
    },
    {
     "name": "stdout",
     "output_type": "stream",
     "text": [
      "[INFO] Keeping all rows: 89710 rows retained.\n"
     ]
    },
    {
     "data": {
      "text/html": [
       "<div>\n",
       "<style scoped>\n",
       "    .dataframe tbody tr th:only-of-type {\n",
       "        vertical-align: middle;\n",
       "    }\n",
       "\n",
       "    .dataframe tbody tr th {\n",
       "        vertical-align: top;\n",
       "    }\n",
       "\n",
       "    .dataframe thead th {\n",
       "        text-align: right;\n",
       "    }\n",
       "</style>\n",
       "<table border=\"1\" class=\"dataframe\">\n",
       "  <thead>\n",
       "    <tr style=\"text-align: right;\">\n",
       "      <th></th>\n",
       "      <th>run_no</th>\n",
       "      <th>universe_id</th>\n",
       "      <th>universe_settings</th>\n",
       "      <th>execution_time</th>\n",
       "      <th>test_size_n</th>\n",
       "      <th>test_size_frac</th>\n",
       "      <th>fair_main_equalized_odds_difference</th>\n",
       "      <th>fair_main_equalized_odds_ratio</th>\n",
       "      <th>fair_main_demographic_parity_difference</th>\n",
       "      <th>fair_main_demographic_parity_ratio</th>\n",
       "      <th>...</th>\n",
       "      <th>perf_grp_precision_0</th>\n",
       "      <th>perf_grp_precision_1</th>\n",
       "      <th>perf_grp_false positive rate_0</th>\n",
       "      <th>perf_grp_false positive rate_1</th>\n",
       "      <th>perf_grp_false negative rate_0</th>\n",
       "      <th>perf_grp_false negative rate_1</th>\n",
       "      <th>perf_grp_selection rate_0</th>\n",
       "      <th>perf_grp_selection rate_1</th>\n",
       "      <th>perf_grp_count_0</th>\n",
       "      <th>perf_grp_count_1</th>\n",
       "    </tr>\n",
       "  </thead>\n",
       "  <tbody>\n",
       "    <tr>\n",
       "      <th>0</th>\n",
       "      <td>14</td>\n",
       "      <td>4e3b207ffb6ba8385057651072f9cfde</td>\n",
       "      <td>{\"cutoff\": \"quantile_0.1\", \"eval_fairness_grou...</td>\n",
       "      <td>31.165372</td>\n",
       "      <td>89710</td>\n",
       "      <td>1.0</td>\n",
       "      <td>0.053249</td>\n",
       "      <td>0.942838</td>\n",
       "      <td>0.047041</td>\n",
       "      <td>0.949757</td>\n",
       "      <td>...</td>\n",
       "      <td>NaN</td>\n",
       "      <td>NaN</td>\n",
       "      <td>NaN</td>\n",
       "      <td>NaN</td>\n",
       "      <td>NaN</td>\n",
       "      <td>NaN</td>\n",
       "      <td>NaN</td>\n",
       "      <td>NaN</td>\n",
       "      <td>NaN</td>\n",
       "      <td>NaN</td>\n",
       "    </tr>\n",
       "    <tr>\n",
       "      <th>0</th>\n",
       "      <td>14</td>\n",
       "      <td>4e3b207ffb6ba8385057651072f9cfde</td>\n",
       "      <td>{\"cutoff\": \"quantile_0.1\", \"eval_fairness_grou...</td>\n",
       "      <td>31.165372</td>\n",
       "      <td>89710</td>\n",
       "      <td>1.0</td>\n",
       "      <td>0.053249</td>\n",
       "      <td>0.942838</td>\n",
       "      <td>0.047041</td>\n",
       "      <td>0.949757</td>\n",
       "      <td>...</td>\n",
       "      <td>0.119755</td>\n",
       "      <td>0.142811</td>\n",
       "      <td>0.931543</td>\n",
       "      <td>0.878294</td>\n",
       "      <td>0.027449</td>\n",
       "      <td>0.038950</td>\n",
       "      <td>0.936271</td>\n",
       "      <td>0.889229</td>\n",
       "      <td>20540.0</td>\n",
       "      <td>69170.0</td>\n",
       "    </tr>\n",
       "    <tr>\n",
       "      <th>0</th>\n",
       "      <td>14</td>\n",
       "      <td>4e3b207ffb6ba8385057651072f9cfde</td>\n",
       "      <td>{\"cutoff\": \"quantile_0.25\", \"eval_fairness_gro...</td>\n",
       "      <td>31.165372</td>\n",
       "      <td>89710</td>\n",
       "      <td>1.0</td>\n",
       "      <td>0.099869</td>\n",
       "      <td>0.889464</td>\n",
       "      <td>0.047476</td>\n",
       "      <td>0.937603</td>\n",
       "      <td>...</td>\n",
       "      <td>NaN</td>\n",
       "      <td>NaN</td>\n",
       "      <td>NaN</td>\n",
       "      <td>NaN</td>\n",
       "      <td>NaN</td>\n",
       "      <td>NaN</td>\n",
       "      <td>NaN</td>\n",
       "      <td>NaN</td>\n",
       "      <td>NaN</td>\n",
       "      <td>NaN</td>\n",
       "    </tr>\n",
       "    <tr>\n",
       "      <th>0</th>\n",
       "      <td>14</td>\n",
       "      <td>4e3b207ffb6ba8385057651072f9cfde</td>\n",
       "      <td>{\"cutoff\": \"quantile_0.25\", \"eval_fairness_gro...</td>\n",
       "      <td>31.165372</td>\n",
       "      <td>89710</td>\n",
       "      <td>1.0</td>\n",
       "      <td>0.099869</td>\n",
       "      <td>0.889464</td>\n",
       "      <td>0.047476</td>\n",
       "      <td>0.937603</td>\n",
       "      <td>...</td>\n",
       "      <td>0.129871</td>\n",
       "      <td>0.156910</td>\n",
       "      <td>0.701629</td>\n",
       "      <td>0.739147</td>\n",
       "      <td>0.196368</td>\n",
       "      <td>0.096499</td>\n",
       "      <td>0.713389</td>\n",
       "      <td>0.760865</td>\n",
       "      <td>20540.0</td>\n",
       "      <td>69170.0</td>\n",
       "    </tr>\n",
       "  </tbody>\n",
       "</table>\n",
       "<p>4 rows × 50 columns</p>\n",
       "</div>"
      ],
      "text/plain": [
       "  run_no                       universe_id  \\\n",
       "0     14  4e3b207ffb6ba8385057651072f9cfde   \n",
       "0     14  4e3b207ffb6ba8385057651072f9cfde   \n",
       "0     14  4e3b207ffb6ba8385057651072f9cfde   \n",
       "0     14  4e3b207ffb6ba8385057651072f9cfde   \n",
       "\n",
       "                                   universe_settings  execution_time  \\\n",
       "0  {\"cutoff\": \"quantile_0.1\", \"eval_fairness_grou...       31.165372   \n",
       "0  {\"cutoff\": \"quantile_0.1\", \"eval_fairness_grou...       31.165372   \n",
       "0  {\"cutoff\": \"quantile_0.25\", \"eval_fairness_gro...       31.165372   \n",
       "0  {\"cutoff\": \"quantile_0.25\", \"eval_fairness_gro...       31.165372   \n",
       "\n",
       "   test_size_n  test_size_frac  fair_main_equalized_odds_difference  \\\n",
       "0        89710             1.0                             0.053249   \n",
       "0        89710             1.0                             0.053249   \n",
       "0        89710             1.0                             0.099869   \n",
       "0        89710             1.0                             0.099869   \n",
       "\n",
       "   fair_main_equalized_odds_ratio  fair_main_demographic_parity_difference  \\\n",
       "0                        0.942838                                 0.047041   \n",
       "0                        0.942838                                 0.047041   \n",
       "0                        0.889464                                 0.047476   \n",
       "0                        0.889464                                 0.047476   \n",
       "\n",
       "   fair_main_demographic_parity_ratio  ...  perf_grp_precision_0  \\\n",
       "0                            0.949757  ...                   NaN   \n",
       "0                            0.949757  ...              0.119755   \n",
       "0                            0.937603  ...                   NaN   \n",
       "0                            0.937603  ...              0.129871   \n",
       "\n",
       "   perf_grp_precision_1  perf_grp_false positive rate_0  \\\n",
       "0                   NaN                             NaN   \n",
       "0              0.142811                        0.931543   \n",
       "0                   NaN                             NaN   \n",
       "0              0.156910                        0.701629   \n",
       "\n",
       "   perf_grp_false positive rate_1  perf_grp_false negative rate_0  \\\n",
       "0                             NaN                             NaN   \n",
       "0                        0.878294                        0.027449   \n",
       "0                             NaN                             NaN   \n",
       "0                        0.739147                        0.196368   \n",
       "\n",
       "   perf_grp_false negative rate_1  perf_grp_selection rate_0  \\\n",
       "0                             NaN                        NaN   \n",
       "0                        0.038950                   0.936271   \n",
       "0                             NaN                        NaN   \n",
       "0                        0.096499                   0.713389   \n",
       "\n",
       "   perf_grp_selection rate_1  perf_grp_count_0  perf_grp_count_1  \n",
       "0                        NaN               NaN               NaN  \n",
       "0                   0.889229           20540.0           69170.0  \n",
       "0                        NaN               NaN               NaN  \n",
       "0                   0.760865           20540.0           69170.0  \n",
       "\n",
       "[4 rows x 50 columns]"
      ]
     },
     "execution_count": 79,
     "metadata": {},
     "output_type": "execute_result"
    }
   ],
   "source": [
    "final_output = universe_analysis.generate_final_output(\n",
    "    y_pred_prob=probs_test,\n",
    "    y_test=y_true,\n",
    "    org_test=org_test,\n",
    "    filter_data=filter_sub_universe_data,\n",
    "    cp_metrics_df=cp_metrics_df,\n",
    "    save=True,\n",
    ")\n",
    "final_output"
   ]
  },
  {
   "cell_type": "code",
   "execution_count": null,
   "id": "721ff514-cb11-46f8-b6fc-50392f74b5cb",
   "metadata": {
    "papermill": {
     "duration": 0.015776,
     "end_time": "2025-07-30T21:48:38.550003",
     "exception": false,
     "start_time": "2025-07-30T21:48:38.534227",
     "status": "completed"
    },
    "tags": []
   },
   "outputs": [],
   "source": []
  }
 ],
 "metadata": {
  "celltoolbar": "Tags",
  "kernelspec": {
   "display_name": "Python (CMA Fairness)",
   "language": "python",
   "name": "cma_fair_env"
  },
  "language_info": {
   "codemirror_mode": {
    "name": "ipython",
    "version": 3
   },
   "file_extension": ".py",
   "mimetype": "text/x-python",
   "name": "python",
   "nbconvert_exporter": "python",
   "pygments_lexer": "ipython3",
   "version": "3.10.12"
  },
  "papermill": {
   "default_parameters": {},
   "duration": 40.9896,
   "end_time": "2025-07-30T21:48:39.386883",
   "environment_variables": {},
   "exception": null,
   "input_path": "universe_analysis.ipynb",
   "output_path": "output/runs/14/notebooks/m_14-4e3b207ffb6ba8385057651072f9cfde.ipynb",
   "parameters": {
    "output_dir": "output",
    "run_no": "14",
    "seed": "2023",
    "universe": "{\"cutoff\": [\"quantile_0.1\", \"quantile_0.25\"], \"eval_fairness_grouping\": [\"majority-minority\", \"nationality-all\"], \"exclude_features\": \"sex\", \"exclude_subgroups\": \"keep-all\", \"model\": \"elasticnet\", \"scale\": \"scale\", \"training_size\": \"1k\", \"training_year\": \"2010_14\"}",
    "universe_id": "4e3b207ffb6ba8385057651072f9cfde"
   },
   "start_time": "2025-07-30T21:47:58.397283",
   "version": "2.6.0"
  }
 },
 "nbformat": 4,
 "nbformat_minor": 5
}