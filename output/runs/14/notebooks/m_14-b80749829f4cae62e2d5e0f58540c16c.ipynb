{
 "cells": [
  {
   "cell_type": "code",
   "execution_count": 1,
   "id": "f159f837-637b-42ba-96b5-ec9a68c44524",
   "metadata": {
    "execution": {
     "iopub.execute_input": "2025-07-30T21:48:01.997513Z",
     "iopub.status.busy": "2025-07-30T21:48:01.996624Z",
     "iopub.status.idle": "2025-07-30T21:48:02.010336Z",
     "shell.execute_reply": "2025-07-30T21:48:02.009308Z"
    },
    "papermill": {
     "duration": 0.036581,
     "end_time": "2025-07-30T21:48:02.012016",
     "exception": false,
     "start_time": "2025-07-30T21:48:01.975435",
     "status": "completed"
    },
    "tags": []
   },
   "outputs": [
    {
     "name": "stdout",
     "output_type": "stream",
     "text": [
      "/dss/dsshome1/0C/ra93lal2/cma/CMA_Fairness_v2\n"
     ]
    },
    {
     "name": "stderr",
     "output_type": "stream",
     "text": [
      "/dss/dsshome1/0C/ra93lal2/.local/share/virtualenvs/CMA_Fairness_v2-3j10GkSs/lib/python3.10/site-packages/IPython/core/magics/osm.py:393: UserWarning: This is now an optional IPython functionality, using bookmarks requires you to install the `pickleshare` library.\n",
      "  bkms = self.shell.db.get('bookmarks', {})\n",
      "/dss/dsshome1/0C/ra93lal2/.local/share/virtualenvs/CMA_Fairness_v2-3j10GkSs/lib/python3.10/site-packages/IPython/core/magics/osm.py:417: UserWarning: This is now an optional IPython functionality, setting dhist requires you to install the `pickleshare` library.\n",
      "  self.shell.db['dhist'] = compress_dhist(dhist)[-100:]\n"
     ]
    }
   ],
   "source": [
    "%cd ~/cma/CMA_Fairness_v2"
   ]
  },
  {
   "cell_type": "markdown",
   "id": "de2603b9",
   "metadata": {
    "papermill": {
     "duration": 0.01927,
     "end_time": "2025-07-30T21:48:02.052139",
     "exception": false,
     "start_time": "2025-07-30T21:48:02.032869",
     "status": "completed"
    },
    "tags": []
   },
   "source": [
    "The following cell holds the definition of our parameters, these values can be overriden by rendering the with e.g. the following command:\n",
    "\n",
    "papermill -p alpha 0.2 -p ratio 0.3 universe_analysis.ipynb output/test_run.ipynb"
   ]
  },
  {
   "cell_type": "code",
   "execution_count": 2,
   "id": "a80968a0-40bb-4fa9-85ef-2d5eefb01975",
   "metadata": {
    "execution": {
     "iopub.execute_input": "2025-07-30T21:48:02.093035Z",
     "iopub.status.busy": "2025-07-30T21:48:02.092117Z",
     "iopub.status.idle": "2025-07-30T21:48:02.098146Z",
     "shell.execute_reply": "2025-07-30T21:48:02.096997Z"
    },
    "papermill": {
     "duration": 0.028171,
     "end_time": "2025-07-30T21:48:02.099823",
     "exception": false,
     "start_time": "2025-07-30T21:48:02.071652",
     "status": "completed"
    },
    "tags": []
   },
   "outputs": [
    {
     "name": "stdout",
     "output_type": "stream",
     "text": [
      "Current working directory: /dss/dsshome1/0C/ra93lal2/cma/CMA_Fairness_v2\n"
     ]
    }
   ],
   "source": [
    "import os\n",
    "print(\"Current working directory:\", os.getcwd())"
   ]
  },
  {
   "cell_type": "code",
   "execution_count": 3,
   "id": "2dce4c03",
   "metadata": {
    "execution": {
     "iopub.execute_input": "2025-07-30T21:48:02.142004Z",
     "iopub.status.busy": "2025-07-30T21:48:02.141160Z",
     "iopub.status.idle": "2025-07-30T21:48:02.147908Z",
     "shell.execute_reply": "2025-07-30T21:48:02.146873Z"
    },
    "papermill": {
     "duration": 0.029246,
     "end_time": "2025-07-30T21:48:02.149352",
     "exception": false,
     "start_time": "2025-07-30T21:48:02.120106",
     "status": "completed"
    },
    "tags": [
     "parameters"
    ]
   },
   "outputs": [],
   "source": [
    "run_no = 0\n",
    "universe_id = \"test\"\n",
    "universe = {\n",
    "    \"training_size\": \"25k\", # \"25k\", \"5k\", \"1k\"\n",
    "    \"training_year\": \"2014\", # \"2014\", \"2012_14\", \"2010_14\"\n",
    "    \"scale\": \"scale\", # \"scale\", \"do-not-scale\",\n",
    "    #\"stratify_split\": \"target\", # \"none\", \"target\", \"protected-attribute\", \"both\",\n",
    "    \"model\": \"elasticnet\", # \"logreg\", \"penalized_logreg\", \"rf\", \"gbm\", \"elasticnet\"\n",
    "    \"cutoff\": [\"quantile_0.15\", \"quantile_0.30\"],\n",
    "    \"exclude_features\": \"age\", # \"none\", \"nationality\", \"sex\", \"nationality-sex\", \"age\"\n",
    "    \"exclude_subgroups\": \"keep-all\", # \"keep-all\", \"drop-non-german\"\n",
    "    \"eval_fairness_grouping\": [\"majority-minority\", \"nationality-all\"]\n",
    "}\n",
    "\n",
    "output_dir=\"./output\"\n",
    "seed=0"
   ]
  },
  {
   "cell_type": "code",
   "execution_count": 4,
   "id": "499d5127",
   "metadata": {
    "execution": {
     "iopub.execute_input": "2025-07-30T21:48:02.171663Z",
     "iopub.status.busy": "2025-07-30T21:48:02.171201Z",
     "iopub.status.idle": "2025-07-30T21:48:02.175405Z",
     "shell.execute_reply": "2025-07-30T21:48:02.174622Z"
    },
    "papermill": {
     "duration": 0.016193,
     "end_time": "2025-07-30T21:48:02.176770",
     "exception": false,
     "start_time": "2025-07-30T21:48:02.160577",
     "status": "completed"
    },
    "tags": [
     "injected-parameters"
    ]
   },
   "outputs": [],
   "source": [
    "# Parameters\n",
    "universe_id = \"b80749829f4cae62e2d5e0f58540c16c\"\n",
    "run_no = \"14\"\n",
    "universe = \"{\\\"cutoff\\\": [\\\"quantile_0.1\\\", \\\"quantile_0.25\\\"], \\\"eval_fairness_grouping\\\": [\\\"majority-minority\\\", \\\"nationality-all\\\"], \\\"exclude_features\\\": \\\"nationality-sex\\\", \\\"exclude_subgroups\\\": \\\"keep-all\\\", \\\"model\\\": \\\"elasticnet\\\", \\\"scale\\\": \\\"scale\\\", \\\"training_size\\\": \\\"1k\\\", \\\"training_year\\\": \\\"2010_14\\\"}\"\n",
    "output_dir = \"output\"\n",
    "seed = \"2023\"\n"
   ]
  },
  {
   "cell_type": "code",
   "execution_count": 5,
   "id": "1650acaf",
   "metadata": {
    "execution": {
     "iopub.execute_input": "2025-07-30T21:48:02.199398Z",
     "iopub.status.busy": "2025-07-30T21:48:02.198933Z",
     "iopub.status.idle": "2025-07-30T21:48:02.202963Z",
     "shell.execute_reply": "2025-07-30T21:48:02.202195Z"
    },
    "papermill": {
     "duration": 0.016114,
     "end_time": "2025-07-30T21:48:02.204210",
     "exception": false,
     "start_time": "2025-07-30T21:48:02.188096",
     "status": "completed"
    },
    "tags": []
   },
   "outputs": [],
   "source": [
    "import json\n",
    "# Parse universe into dict if it is passed as a string\n",
    "if isinstance(universe, str):\n",
    "    universe = json.loads(universe)"
   ]
  },
  {
   "cell_type": "code",
   "execution_count": 6,
   "id": "16620c48",
   "metadata": {
    "execution": {
     "iopub.execute_input": "2025-07-30T21:48:02.226676Z",
     "iopub.status.busy": "2025-07-30T21:48:02.226195Z",
     "iopub.status.idle": "2025-07-30T21:48:02.255476Z",
     "shell.execute_reply": "2025-07-30T21:48:02.254768Z"
    },
    "papermill": {
     "duration": 0.041599,
     "end_time": "2025-07-30T21:48:02.256958",
     "exception": false,
     "start_time": "2025-07-30T21:48:02.215359",
     "status": "completed"
    },
    "tags": []
   },
   "outputs": [],
   "source": [
    "# Auto-reload the custom package\n",
    "%load_ext autoreload\n",
    "%autoreload 1\n",
    "%aimport fairness_multiverse"
   ]
  },
  {
   "cell_type": "code",
   "execution_count": 7,
   "id": "01c5c9f3",
   "metadata": {
    "execution": {
     "iopub.execute_input": "2025-07-30T21:48:02.279447Z",
     "iopub.status.busy": "2025-07-30T21:48:02.278980Z",
     "iopub.status.idle": "2025-07-30T21:48:03.985662Z",
     "shell.execute_reply": "2025-07-30T21:48:03.984576Z"
    },
    "papermill": {
     "duration": 1.719884,
     "end_time": "2025-07-30T21:48:03.987671",
     "exception": false,
     "start_time": "2025-07-30T21:48:02.267787",
     "status": "completed"
    },
    "tags": []
   },
   "outputs": [],
   "source": [
    "from fairness_multiverse.universe import UniverseAnalysis\n",
    "\n",
    "universe_analysis = UniverseAnalysis(\n",
    "    run_no = run_no,\n",
    "    universe_id = universe_id,\n",
    "    universe = universe,\n",
    "    output_dir=output_dir,\n",
    ")"
   ]
  },
  {
   "cell_type": "code",
   "execution_count": 8,
   "id": "106241f5",
   "metadata": {
    "execution": {
     "iopub.execute_input": "2025-07-30T21:48:04.031626Z",
     "iopub.status.busy": "2025-07-30T21:48:04.030713Z",
     "iopub.status.idle": "2025-07-30T21:48:04.038354Z",
     "shell.execute_reply": "2025-07-30T21:48:04.037254Z"
    },
    "papermill": {
     "duration": 0.031933,
     "end_time": "2025-07-30T21:48:04.040235",
     "exception": false,
     "start_time": "2025-07-30T21:48:04.008302",
     "status": "completed"
    },
    "tags": []
   },
   "outputs": [
    {
     "name": "stdout",
     "output_type": "stream",
     "text": [
      "Using Seed: 2023\n"
     ]
    }
   ],
   "source": [
    "import numpy as np\n",
    "parsed_seed = int(seed)\n",
    "np.random.seed(parsed_seed)\n",
    "print(f\"Using Seed: {parsed_seed}\")"
   ]
  },
  {
   "cell_type": "markdown",
   "id": "e0ebdc57",
   "metadata": {
    "papermill": {
     "duration": 0.019541,
     "end_time": "2025-07-30T21:48:04.081937",
     "exception": false,
     "start_time": "2025-07-30T21:48:04.062396",
     "status": "completed"
    },
    "tags": []
   },
   "source": [
    "# Loading Data"
   ]
  },
  {
   "cell_type": "markdown",
   "id": "681925a3",
   "metadata": {
    "papermill": {
     "duration": 0.021174,
     "end_time": "2025-07-30T21:48:04.124640",
     "exception": false,
     "start_time": "2025-07-30T21:48:04.103466",
     "status": "completed"
    },
    "tags": []
   },
   "source": [
    "Load siab_train, siab_test, siab_calib and/or \n",
    "load siab_train_features, siab_train_labels"
   ]
  },
  {
   "cell_type": "code",
   "execution_count": 9,
   "id": "f0496b8a",
   "metadata": {
    "execution": {
     "iopub.execute_input": "2025-07-30T21:48:04.167936Z",
     "iopub.status.busy": "2025-07-30T21:48:04.166995Z",
     "iopub.status.idle": "2025-07-30T21:48:17.129295Z",
     "shell.execute_reply": "2025-07-30T21:48:17.128107Z"
    },
    "papermill": {
     "duration": 12.986766,
     "end_time": "2025-07-30T21:48:17.131322",
     "exception": false,
     "start_time": "2025-07-30T21:48:04.144556",
     "status": "completed"
    },
    "tags": []
   },
   "outputs": [
    {
     "name": "stdout",
     "output_type": "stream",
     "text": [
      "Loading SIAB data from cache: data/siab_cached.csv.gz\n"
     ]
    },
    {
     "name": "stdout",
     "output_type": "stream",
     "text": [
      "(643690, 164)\n"
     ]
    }
   ],
   "source": [
    "from pathlib import Path\n",
    "import pandas as pd\n",
    "\n",
    "# File paths\n",
    "raw_file = Path(\"data/raw/siab.csv\")\n",
    "cache_file = Path(\"data/siab_cached.csv.gz\")\n",
    "\n",
    "# Ensure cache directory exists\n",
    "cache_file.parent.mkdir(parents=True, exist_ok=True)\n",
    "\n",
    "# Load with simple caching\n",
    "if cache_file.exists():\n",
    "    print(f\"Loading SIAB data from cache: {cache_file}\")\n",
    "    siab = pd.read_csv(cache_file, compression='gzip')\n",
    "else:\n",
    "    print(f\"Cache not found. Reading raw SIAB data: {raw_file}\")\n",
    "    siab = pd.read_csv(raw_file)\n",
    "    siab.to_csv(cache_file, index=False, compression='gzip')\n",
    "    print(f\"Cached SIAB data to: {cache_file}\")\n",
    "\n",
    "# Now use `siab` DataFrame as needed\n",
    "print(siab.shape)"
   ]
  },
  {
   "cell_type": "code",
   "execution_count": 10,
   "id": "db0ca512-5f53-4dba-abdb-a2888bca41ba",
   "metadata": {
    "execution": {
     "iopub.execute_input": "2025-07-30T21:48:17.179144Z",
     "iopub.status.busy": "2025-07-30T21:48:17.178433Z",
     "iopub.status.idle": "2025-07-30T21:48:17.184413Z",
     "shell.execute_reply": "2025-07-30T21:48:17.183385Z"
    },
    "papermill": {
     "duration": 0.028905,
     "end_time": "2025-07-30T21:48:17.186023",
     "exception": false,
     "start_time": "2025-07-30T21:48:17.157118",
     "status": "completed"
    },
    "tags": []
   },
   "outputs": [],
   "source": [
    "#siab"
   ]
  },
  {
   "cell_type": "code",
   "execution_count": 11,
   "id": "a0edb063",
   "metadata": {
    "execution": {
     "iopub.execute_input": "2025-07-30T21:48:17.230870Z",
     "iopub.status.busy": "2025-07-30T21:48:17.230439Z",
     "iopub.status.idle": "2025-07-30T21:48:17.236660Z",
     "shell.execute_reply": "2025-07-30T21:48:17.235373Z"
    },
    "papermill": {
     "duration": 0.030094,
     "end_time": "2025-07-30T21:48:17.238696",
     "exception": false,
     "start_time": "2025-07-30T21:48:17.208602",
     "status": "completed"
    },
    "tags": []
   },
   "outputs": [],
   "source": [
    "#import pandas as pd\n",
    "#\n",
    "#X_train = pd.read_csv(\"./data/X_train.csv\")\n",
    "#y_train = pd.read_csv(\"./data/y_train.csv\")"
   ]
  },
  {
   "cell_type": "code",
   "execution_count": 12,
   "id": "63d08085",
   "metadata": {
    "execution": {
     "iopub.execute_input": "2025-07-30T21:48:17.301714Z",
     "iopub.status.busy": "2025-07-30T21:48:17.301225Z",
     "iopub.status.idle": "2025-07-30T21:48:17.306642Z",
     "shell.execute_reply": "2025-07-30T21:48:17.305733Z"
    },
    "papermill": {
     "duration": 0.039647,
     "end_time": "2025-07-30T21:48:17.309282",
     "exception": false,
     "start_time": "2025-07-30T21:48:17.269635",
     "status": "completed"
    },
    "tags": []
   },
   "outputs": [],
   "source": [
    "#X_test = pd.read_csv(\"./data/X_test.csv\")\n",
    "#y_true = pd.read_csv(\"./data/y_test.csv\")"
   ]
  },
  {
   "cell_type": "code",
   "execution_count": 13,
   "id": "98a8d0fa-1d3d-4ed8-bb2c-281470e24add",
   "metadata": {
    "execution": {
     "iopub.execute_input": "2025-07-30T21:48:17.371092Z",
     "iopub.status.busy": "2025-07-30T21:48:17.370613Z",
     "iopub.status.idle": "2025-07-30T21:48:17.374897Z",
     "shell.execute_reply": "2025-07-30T21:48:17.373909Z"
    },
    "papermill": {
     "duration": 0.03661,
     "end_time": "2025-07-30T21:48:17.376182",
     "exception": false,
     "start_time": "2025-07-30T21:48:17.339572",
     "status": "completed"
    },
    "tags": []
   },
   "outputs": [],
   "source": [
    "# Calibration data for conformal\n",
    "#X_calib = pd.read_csv(\"./data/X_calib.csv\")\n",
    "#y_calib = pd.read_csv(\"./data/y_calib.csv\")"
   ]
  },
  {
   "cell_type": "markdown",
   "id": "997051c5-15bd-4b69-9786-c3001a3ce484",
   "metadata": {
    "papermill": {
     "duration": 0.010982,
     "end_time": "2025-07-30T21:48:17.399327",
     "exception": false,
     "start_time": "2025-07-30T21:48:17.388345",
     "status": "completed"
    },
    "tags": []
   },
   "source": [
    "# Splitting Data and Setting Training Data Size"
   ]
  },
  {
   "cell_type": "code",
   "execution_count": 14,
   "id": "e993b61f-042d-41a6-8c81-f55681f86335",
   "metadata": {
    "execution": {
     "iopub.execute_input": "2025-07-30T21:48:17.427469Z",
     "iopub.status.busy": "2025-07-30T21:48:17.427120Z",
     "iopub.status.idle": "2025-07-30T21:48:17.437006Z",
     "shell.execute_reply": "2025-07-30T21:48:17.436117Z"
    },
    "papermill": {
     "duration": 0.024175,
     "end_time": "2025-07-30T21:48:17.438461",
     "exception": false,
     "start_time": "2025-07-30T21:48:17.414286",
     "status": "completed"
    },
    "tags": []
   },
   "outputs": [],
   "source": [
    "def sample_by_year_size(df,\n",
    "                        training_year: str,\n",
    "                        training_size: str,\n",
    "                        random_state: int = 42):\n",
    "    # --- parse training_year into a list of int years ---\n",
    "    if \"_\" in training_year:\n",
    "        start_str, end_str = training_year.split(\"_\", 1)\n",
    "        start = int(start_str)\n",
    "        end   = int(end_str) if len(end_str) == 4 else (int(end_str) + (start // 100)*100)\n",
    "        years = list(range(start, end + 1))\n",
    "    else:\n",
    "        years = [int(training_year)]\n",
    "\n",
    "    df = df[df[\"year\"].isin(years)].reset_index(drop=True)\n",
    "\n",
    "    # --- map training_size to total number of samples ---\n",
    "    total_map = {\"25k\": 25_000, \"5k\": 5_000, \"1k\": 1_000}\n",
    "    if training_size not in total_map:\n",
    "        return df  # e.g. \"all\"\n",
    "\n",
    "    total_samples = total_map[training_size]\n",
    "    n_years       = len(years)\n",
    "    base          = total_samples // n_years\n",
    "    remainder     = total_samples % n_years\n",
    "\n",
    "    # --- build a dict: year -> how many to sample ---\n",
    "    # give +1 to the first `remainder` years in ascending order\n",
    "    quotas = {\n",
    "        year: base + (1 if idx < remainder else 0)\n",
    "        for idx, year in enumerate(sorted(years))\n",
    "    }\n",
    "\n",
    "    # --- sample per‐year according to the quota dict ---\n",
    "    sampled = (\n",
    "        df\n",
    "        .groupby(\"year\", group_keys=False)\n",
    "        .apply(lambda grp: grp.sample(\n",
    "            n=min(len(grp), quotas[grp.name]),\n",
    "            random_state=random_state))\n",
    "        .reset_index(drop=True)\n",
    "    )\n",
    "\n",
    "    return sampled"
   ]
  },
  {
   "cell_type": "code",
   "execution_count": 15,
   "id": "c0ccd338-0e02-41f3-a09d-f56f9266e3fb",
   "metadata": {
    "execution": {
     "iopub.execute_input": "2025-07-30T21:48:17.481817Z",
     "iopub.status.busy": "2025-07-30T21:48:17.481249Z",
     "iopub.status.idle": "2025-07-30T21:48:17.486923Z",
     "shell.execute_reply": "2025-07-30T21:48:17.485779Z"
    },
    "papermill": {
     "duration": 0.030939,
     "end_time": "2025-07-30T21:48:17.488950",
     "exception": false,
     "start_time": "2025-07-30T21:48:17.458011",
     "status": "completed"
    },
    "tags": []
   },
   "outputs": [],
   "source": [
    "#universe[\"training_size\"]"
   ]
  },
  {
   "cell_type": "code",
   "execution_count": 16,
   "id": "ca707fd7-8047-4acd-bfa5-66248fbbf8e6",
   "metadata": {
    "execution": {
     "iopub.execute_input": "2025-07-30T21:48:17.541993Z",
     "iopub.status.busy": "2025-07-30T21:48:17.541437Z",
     "iopub.status.idle": "2025-07-30T21:48:17.547614Z",
     "shell.execute_reply": "2025-07-30T21:48:17.546457Z"
    },
    "papermill": {
     "duration": 0.038832,
     "end_time": "2025-07-30T21:48:17.549751",
     "exception": false,
     "start_time": "2025-07-30T21:48:17.510919",
     "status": "completed"
    },
    "tags": []
   },
   "outputs": [],
   "source": [
    "#universe[\"training_year\"]"
   ]
  },
  {
   "cell_type": "code",
   "execution_count": 17,
   "id": "aea9c6ef-6f46-42c8-85eb-5a62025c1508",
   "metadata": {
    "execution": {
     "iopub.execute_input": "2025-07-30T21:48:17.613627Z",
     "iopub.status.busy": "2025-07-30T21:48:17.612530Z",
     "iopub.status.idle": "2025-07-30T21:48:18.708096Z",
     "shell.execute_reply": "2025-07-30T21:48:18.707134Z"
    },
    "papermill": {
     "duration": 1.129288,
     "end_time": "2025-07-30T21:48:18.710147",
     "exception": false,
     "start_time": "2025-07-30T21:48:17.580859",
     "status": "completed"
    },
    "tags": []
   },
   "outputs": [],
   "source": [
    "siab_train = sample_by_year_size(siab,\n",
    "                               training_year=universe[\"training_year\"],\n",
    "                               training_size=universe[\"training_size\"])"
   ]
  },
  {
   "cell_type": "code",
   "execution_count": 18,
   "id": "8d3afb32-789d-442c-8d5d-9f5aa8dd2eed",
   "metadata": {
    "execution": {
     "iopub.execute_input": "2025-07-30T21:48:18.758626Z",
     "iopub.status.busy": "2025-07-30T21:48:18.758121Z",
     "iopub.status.idle": "2025-07-30T21:48:18.763570Z",
     "shell.execute_reply": "2025-07-30T21:48:18.762616Z"
    },
    "papermill": {
     "duration": 0.031798,
     "end_time": "2025-07-30T21:48:18.765326",
     "exception": false,
     "start_time": "2025-07-30T21:48:18.733528",
     "status": "completed"
    },
    "tags": []
   },
   "outputs": [],
   "source": [
    "#siab_train.shape"
   ]
  },
  {
   "cell_type": "code",
   "execution_count": 19,
   "id": "d582db68-1a4c-47fb-84fc-08518dc1975a",
   "metadata": {
    "execution": {
     "iopub.execute_input": "2025-07-30T21:48:18.814831Z",
     "iopub.status.busy": "2025-07-30T21:48:18.814128Z",
     "iopub.status.idle": "2025-07-30T21:48:18.819396Z",
     "shell.execute_reply": "2025-07-30T21:48:18.818281Z"
    },
    "papermill": {
     "duration": 0.031932,
     "end_time": "2025-07-30T21:48:18.821460",
     "exception": false,
     "start_time": "2025-07-30T21:48:18.789528",
     "status": "completed"
    },
    "tags": []
   },
   "outputs": [],
   "source": [
    "#display(siab_train.groupby(\"year\").size())"
   ]
  },
  {
   "cell_type": "code",
   "execution_count": 20,
   "id": "a561edb4-d032-42cb-8256-22eac1111c64",
   "metadata": {
    "execution": {
     "iopub.execute_input": "2025-07-30T21:48:18.870918Z",
     "iopub.status.busy": "2025-07-30T21:48:18.870259Z",
     "iopub.status.idle": "2025-07-30T21:48:19.099735Z",
     "shell.execute_reply": "2025-07-30T21:48:19.098795Z"
    },
    "papermill": {
     "duration": 0.25541,
     "end_time": "2025-07-30T21:48:19.101762",
     "exception": false,
     "start_time": "2025-07-30T21:48:18.846352",
     "status": "completed"
    },
    "tags": []
   },
   "outputs": [],
   "source": [
    "#siab_train = siab_s[siab_s.year < 2015]\n",
    "siab_calib = siab[siab.year == 2015]\n",
    "siab_test = siab[siab.year == 2016]"
   ]
  },
  {
   "cell_type": "code",
   "execution_count": 21,
   "id": "472de16f-c3db-4916-846b-1f0de9cf1746",
   "metadata": {
    "execution": {
     "iopub.execute_input": "2025-07-30T21:48:19.151600Z",
     "iopub.status.busy": "2025-07-30T21:48:19.151121Z",
     "iopub.status.idle": "2025-07-30T21:48:19.172992Z",
     "shell.execute_reply": "2025-07-30T21:48:19.172088Z"
    },
    "papermill": {
     "duration": 0.048888,
     "end_time": "2025-07-30T21:48:19.174754",
     "exception": false,
     "start_time": "2025-07-30T21:48:19.125866",
     "status": "completed"
    },
    "tags": []
   },
   "outputs": [],
   "source": [
    "X_train = siab_train.iloc[:,4:164]\n",
    "y_train = siab_train.iloc[:, [3]]"
   ]
  },
  {
   "cell_type": "code",
   "execution_count": 22,
   "id": "828c96af-f43a-4ed6-ba47-8ac73a47d56c",
   "metadata": {
    "execution": {
     "iopub.execute_input": "2025-07-30T21:48:19.217185Z",
     "iopub.status.busy": "2025-07-30T21:48:19.216645Z",
     "iopub.status.idle": "2025-07-30T21:48:19.271313Z",
     "shell.execute_reply": "2025-07-30T21:48:19.270224Z"
    },
    "papermill": {
     "duration": 0.07755,
     "end_time": "2025-07-30T21:48:19.273319",
     "exception": false,
     "start_time": "2025-07-30T21:48:19.195769",
     "status": "completed"
    },
    "tags": []
   },
   "outputs": [],
   "source": [
    "X_calib = siab_calib.iloc[:,4:164]\n",
    "y_calib = siab_calib.iloc[:, [3]]"
   ]
  },
  {
   "cell_type": "code",
   "execution_count": 23,
   "id": "c34be9c3-6bd6-476e-acd3-845840e303be",
   "metadata": {
    "execution": {
     "iopub.execute_input": "2025-07-30T21:48:19.334957Z",
     "iopub.status.busy": "2025-07-30T21:48:19.334454Z",
     "iopub.status.idle": "2025-07-30T21:48:19.395361Z",
     "shell.execute_reply": "2025-07-30T21:48:19.394178Z"
    },
    "papermill": {
     "duration": 0.086546,
     "end_time": "2025-07-30T21:48:19.396786",
     "exception": false,
     "start_time": "2025-07-30T21:48:19.310240",
     "status": "completed"
    },
    "tags": []
   },
   "outputs": [],
   "source": [
    "X_test = siab_test.iloc[:,4:164]\n",
    "y_true = siab_test.iloc[:, [3]]"
   ]
  },
  {
   "cell_type": "markdown",
   "id": "9901737e-04df-44f0-9100-f5ad144ed040",
   "metadata": {
    "papermill": {
     "duration": 0.024173,
     "end_time": "2025-07-30T21:48:19.442004",
     "exception": false,
     "start_time": "2025-07-30T21:48:19.417831",
     "status": "completed"
    },
    "tags": []
   },
   "source": [
    "# Splitting Data and Setting Training Data Size OLD VERSION"
   ]
  },
  {
   "cell_type": "code",
   "execution_count": 24,
   "id": "acbc8f7d-8fc8-4e86-8c59-5dcb0f58384b",
   "metadata": {
    "execution": {
     "iopub.execute_input": "2025-07-30T21:48:19.491431Z",
     "iopub.status.busy": "2025-07-30T21:48:19.490937Z",
     "iopub.status.idle": "2025-07-30T21:48:19.496325Z",
     "shell.execute_reply": "2025-07-30T21:48:19.495415Z"
    },
    "papermill": {
     "duration": 0.032065,
     "end_time": "2025-07-30T21:48:19.497857",
     "exception": false,
     "start_time": "2025-07-30T21:48:19.465792",
     "status": "completed"
    },
    "tags": []
   },
   "outputs": [],
   "source": [
    "#def sample_by_year(df, training_size, random_state=42):\n",
    "#    if training_size == \"2014\":\n",
    "#        return df[df[\"year\"] == 2014].reset_index(drop=True)\n",
    "#    \n",
    "#    size_map = {\n",
    "#        \"25k\": 5000,\n",
    "#        \"5k\": 1000,\n",
    "#        \"1k\": 200\n",
    "#    }\n",
    "#\n",
    "#    if training_size not in size_map:\n",
    "#        return df.reset_index(drop=True)  # use all data\n",
    "#\n",
    "#    n_per_year = size_map[training_size]\n",
    "#    grouped = df.groupby(\"year\")\n",
    "#    sampled = grouped.apply(lambda x: x.sample(n=min(n_per_year, len(x)), random_state=random_state))\n",
    "#    return sampled.reset_index(drop=True)"
   ]
  },
  {
   "cell_type": "code",
   "execution_count": 25,
   "id": "6d931f52-beaf-43ff-9e78-9d44a448d54e",
   "metadata": {
    "execution": {
     "iopub.execute_input": "2025-07-30T21:48:19.547505Z",
     "iopub.status.busy": "2025-07-30T21:48:19.547007Z",
     "iopub.status.idle": "2025-07-30T21:48:19.588145Z",
     "shell.execute_reply": "2025-07-30T21:48:19.587052Z"
    },
    "papermill": {
     "duration": 0.068141,
     "end_time": "2025-07-30T21:48:19.590407",
     "exception": false,
     "start_time": "2025-07-30T21:48:19.522266",
     "status": "completed"
    },
    "tags": []
   },
   "outputs": [],
   "source": [
    "#siab_s = sample_by_year(siab, universe[\"training_size\"])"
   ]
  },
  {
   "cell_type": "code",
   "execution_count": 26,
   "id": "5db0a40e-a4e2-4920-be85-b12ae061d70d",
   "metadata": {
    "execution": {
     "iopub.execute_input": "2025-07-30T21:48:19.640820Z",
     "iopub.status.busy": "2025-07-30T21:48:19.640335Z",
     "iopub.status.idle": "2025-07-30T21:48:19.645706Z",
     "shell.execute_reply": "2025-07-30T21:48:19.644773Z"
    },
    "papermill": {
     "duration": 0.031216,
     "end_time": "2025-07-30T21:48:19.647483",
     "exception": false,
     "start_time": "2025-07-30T21:48:19.616267",
     "status": "completed"
    },
    "tags": []
   },
   "outputs": [],
   "source": [
    "#display(siab_s.groupby(\"year\").size())"
   ]
  },
  {
   "cell_type": "code",
   "execution_count": 27,
   "id": "e6c733c5",
   "metadata": {
    "execution": {
     "iopub.execute_input": "2025-07-30T21:48:19.696099Z",
     "iopub.status.busy": "2025-07-30T21:48:19.695619Z",
     "iopub.status.idle": "2025-07-30T21:48:19.798654Z",
     "shell.execute_reply": "2025-07-30T21:48:19.797417Z"
    },
    "papermill": {
     "duration": 0.129819,
     "end_time": "2025-07-30T21:48:19.800839",
     "exception": false,
     "start_time": "2025-07-30T21:48:19.671020",
     "status": "completed"
    },
    "tags": []
   },
   "outputs": [],
   "source": [
    "# Auxiliary data needed downstream in the pipeline\n",
    "\n",
    "org_train = X_train.copy()\n",
    "org_test = X_test.copy()\n",
    "org_calib = X_calib.copy()"
   ]
  },
  {
   "cell_type": "code",
   "execution_count": 28,
   "id": "1466abac-c6da-4492-a62f-4240ae3783af",
   "metadata": {
    "execution": {
     "iopub.execute_input": "2025-07-30T21:48:19.850583Z",
     "iopub.status.busy": "2025-07-30T21:48:19.849910Z",
     "iopub.status.idle": "2025-07-30T21:48:19.856507Z",
     "shell.execute_reply": "2025-07-30T21:48:19.855295Z"
    },
    "papermill": {
     "duration": 0.033541,
     "end_time": "2025-07-30T21:48:19.858522",
     "exception": false,
     "start_time": "2025-07-30T21:48:19.824981",
     "status": "completed"
    },
    "tags": []
   },
   "outputs": [],
   "source": [
    "# put in other script?\n",
    "# Group sizes\n",
    "\n",
    "#def calculate_percentages(df, df_name):\n",
    "#    total_entries = len(df)\n",
    "#\n",
    "#    female_pct = (df['frau1'] == 1).mean() * 100\n",
    "#    non_german_pct = ((df['maxdeutsch1'] == 0) & (df['maxdeutsch.Missing.'] == 0)).mean() * 100\n",
    "#    non_german_male_pct = ((df['frau1'] == 0) & (df['maxdeutsch1'] == 0) & (df['maxdeutsch.Missing.'] == 0)).mean() * 100\n",
    "#    non_german_female_pct = ((df['frau1'] == 1) & (df['maxdeutsch1'] == 0) & (df['maxdeutsch.Missing.'] == 0)).mean() * 100\n",
    "#\n",
    "#    print(f\"--- {df_name} ---\")\n",
    "#    print(f\"Female: {female_pct:.2f}%\")\n",
    "#    print(f\"Non-German: {non_german_pct:.2f}%\")\n",
    "#    print(f\"Non-German Male: {non_german_male_pct:.2f}%\")\n",
    "#    print(f\"Non-German Female: {non_german_female_pct:.2f}%\\n\")\n",
    "#\n",
    "## Calculate for each DataFrame\n",
    "#calculate_percentages(siab_calib, \"siab_calib\")\n",
    "#calculate_percentages(siab_test, \"siab_test\")\n",
    "#calculate_percentages(siab_train, \"siab_train\")"
   ]
  },
  {
   "cell_type": "markdown",
   "id": "0a4a1b33",
   "metadata": {
    "papermill": {
     "duration": 0.023507,
     "end_time": "2025-07-30T21:48:19.907451",
     "exception": false,
     "start_time": "2025-07-30T21:48:19.883944",
     "status": "completed"
    },
    "tags": []
   },
   "source": [
    "# Preprocessing Data"
   ]
  },
  {
   "cell_type": "code",
   "execution_count": 29,
   "id": "ca879031",
   "metadata": {
    "execution": {
     "iopub.execute_input": "2025-07-30T21:48:19.958625Z",
     "iopub.status.busy": "2025-07-30T21:48:19.958115Z",
     "iopub.status.idle": "2025-07-30T21:48:19.965113Z",
     "shell.execute_reply": "2025-07-30T21:48:19.964074Z"
    },
    "papermill": {
     "duration": 0.034597,
     "end_time": "2025-07-30T21:48:19.966779",
     "exception": false,
     "start_time": "2025-07-30T21:48:19.932182",
     "status": "completed"
    },
    "tags": []
   },
   "outputs": [],
   "source": [
    "# EXCLUDE PROTECTED FEATURES\n",
    "# ----------------------\n",
    "# \"exclude_features\": \"none\", # \"nationality\", \"sex\", \"nationality-sex\"\n",
    "\n",
    "excluded_features = universe[\"exclude_features\"].split(\"-\") # split, e.g.: \"nationality-sex\" -> [\"nationality\", \"sex\"]\n",
    "excluded_features_dictionary = {\n",
    "    \"nationality\": [\"maxdeutsch1\", \"maxdeutsch.Missing.\"],\n",
    "    \"sex\": [\"frau1\"],\n",
    "    \"age\": [\"age\"],\n",
    "}\n"
   ]
  },
  {
   "cell_type": "code",
   "execution_count": 30,
   "id": "b745ac60",
   "metadata": {
    "execution": {
     "iopub.execute_input": "2025-07-30T21:48:20.015357Z",
     "iopub.status.busy": "2025-07-30T21:48:20.014634Z",
     "iopub.status.idle": "2025-07-30T21:48:20.020160Z",
     "shell.execute_reply": "2025-07-30T21:48:20.019145Z"
    },
    "papermill": {
     "duration": 0.031114,
     "end_time": "2025-07-30T21:48:20.021948",
     "exception": false,
     "start_time": "2025-07-30T21:48:19.990834",
     "status": "completed"
    },
    "tags": []
   },
   "outputs": [],
   "source": [
    "# Code nice names to column names\n",
    "\n",
    "excluded_features_columns = [\n",
    "    excluded_features_dictionary[f] for f in excluded_features if len(f) > 0 and f != \"none\"\n",
    "]"
   ]
  },
  {
   "cell_type": "code",
   "execution_count": 31,
   "id": "f84f73a2",
   "metadata": {
    "execution": {
     "iopub.execute_input": "2025-07-30T21:48:20.066032Z",
     "iopub.status.busy": "2025-07-30T21:48:20.065613Z",
     "iopub.status.idle": "2025-07-30T21:48:20.072254Z",
     "shell.execute_reply": "2025-07-30T21:48:20.071424Z"
    },
    "papermill": {
     "duration": 0.028861,
     "end_time": "2025-07-30T21:48:20.074015",
     "exception": false,
     "start_time": "2025-07-30T21:48:20.045154",
     "status": "completed"
    },
    "tags": []
   },
   "outputs": [],
   "source": [
    "from utils import flatten_once\n",
    "\n",
    "excluded_features_columns = flatten_once(excluded_features_columns)"
   ]
  },
  {
   "cell_type": "code",
   "execution_count": 32,
   "id": "884dea22",
   "metadata": {
    "execution": {
     "iopub.execute_input": "2025-07-30T21:48:20.117788Z",
     "iopub.status.busy": "2025-07-30T21:48:20.116973Z",
     "iopub.status.idle": "2025-07-30T21:48:20.125921Z",
     "shell.execute_reply": "2025-07-30T21:48:20.124855Z"
    },
    "papermill": {
     "duration": 0.031856,
     "end_time": "2025-07-30T21:48:20.127589",
     "exception": false,
     "start_time": "2025-07-30T21:48:20.095733",
     "status": "completed"
    },
    "tags": []
   },
   "outputs": [
    {
     "name": "stdout",
     "output_type": "stream",
     "text": [
      "Dropping features: ['maxdeutsch1', 'maxdeutsch.Missing.', 'frau1']\n"
     ]
    }
   ],
   "source": [
    "if len(excluded_features_columns) > 0:\n",
    "    print(f\"Dropping features: {excluded_features_columns}\")\n",
    "    X_train.drop(excluded_features_columns, axis=1, inplace=True)"
   ]
  },
  {
   "cell_type": "code",
   "execution_count": 33,
   "id": "95ab8b16",
   "metadata": {
    "execution": {
     "iopub.execute_input": "2025-07-30T21:48:20.171933Z",
     "iopub.status.busy": "2025-07-30T21:48:20.170898Z",
     "iopub.status.idle": "2025-07-30T21:48:20.226214Z",
     "shell.execute_reply": "2025-07-30T21:48:20.225128Z"
    },
    "papermill": {
     "duration": 0.079438,
     "end_time": "2025-07-30T21:48:20.227891",
     "exception": false,
     "start_time": "2025-07-30T21:48:20.148453",
     "status": "completed"
    },
    "tags": []
   },
   "outputs": [
    {
     "name": "stdout",
     "output_type": "stream",
     "text": [
      "Dropping features: ['maxdeutsch1', 'maxdeutsch.Missing.', 'frau1']\n"
     ]
    }
   ],
   "source": [
    "if len(excluded_features_columns) > 0:\n",
    "    print(f\"Dropping features: {excluded_features_columns}\")\n",
    "    X_test.drop(excluded_features_columns, axis=1, inplace=True)"
   ]
  },
  {
   "cell_type": "code",
   "execution_count": 34,
   "id": "1853aaf5-fb9f-46cb-a2b5-8ea4ae2237e4",
   "metadata": {
    "execution": {
     "iopub.execute_input": "2025-07-30T21:48:20.273058Z",
     "iopub.status.busy": "2025-07-30T21:48:20.272188Z",
     "iopub.status.idle": "2025-07-30T21:48:20.321341Z",
     "shell.execute_reply": "2025-07-30T21:48:20.320334Z"
    },
    "papermill": {
     "duration": 0.073682,
     "end_time": "2025-07-30T21:48:20.323181",
     "exception": false,
     "start_time": "2025-07-30T21:48:20.249499",
     "status": "completed"
    },
    "tags": []
   },
   "outputs": [
    {
     "name": "stdout",
     "output_type": "stream",
     "text": [
      "Dropping features: ['maxdeutsch1', 'maxdeutsch.Missing.', 'frau1']\n"
     ]
    }
   ],
   "source": [
    "if len(excluded_features_columns) > 0:\n",
    "    print(f\"Dropping features: {excluded_features_columns}\")\n",
    "    X_calib.drop(excluded_features_columns, axis=1, inplace=True)"
   ]
  },
  {
   "cell_type": "code",
   "execution_count": 35,
   "id": "6727d079-03e5-481e-9d38-292a90b7a0a8",
   "metadata": {
    "execution": {
     "iopub.execute_input": "2025-07-30T21:48:20.375240Z",
     "iopub.status.busy": "2025-07-30T21:48:20.374701Z",
     "iopub.status.idle": "2025-07-30T21:48:20.380083Z",
     "shell.execute_reply": "2025-07-30T21:48:20.378819Z"
    },
    "papermill": {
     "duration": 0.032618,
     "end_time": "2025-07-30T21:48:20.381946",
     "exception": false,
     "start_time": "2025-07-30T21:48:20.349328",
     "status": "completed"
    },
    "tags": []
   },
   "outputs": [],
   "source": [
    "# SPLIT & STRATIFY DATA\n",
    "# ----------------------"
   ]
  },
  {
   "cell_type": "code",
   "execution_count": 36,
   "id": "76c4dc6d",
   "metadata": {
    "execution": {
     "iopub.execute_input": "2025-07-30T21:48:20.434453Z",
     "iopub.status.busy": "2025-07-30T21:48:20.433993Z",
     "iopub.status.idle": "2025-07-30T21:48:20.439307Z",
     "shell.execute_reply": "2025-07-30T21:48:20.438348Z"
    },
    "papermill": {
     "duration": 0.033074,
     "end_time": "2025-07-30T21:48:20.440921",
     "exception": false,
     "start_time": "2025-07-30T21:48:20.407847",
     "status": "completed"
    },
    "tags": []
   },
   "outputs": [],
   "source": [
    "# EXCLUDE CERTAIN SUBGROUPS\n",
    "# ----------------------\n",
    "\n",
    "mode = universe.get(\"exclude_subgroups\", \"keep-all\") \n",
    "# Fetches the exclude_subgroups setting from the universe dict.\n",
    "# Defaults to \"keep-all\" if the key is missing."
   ]
  },
  {
   "cell_type": "code",
   "execution_count": 37,
   "id": "21994072",
   "metadata": {
    "execution": {
     "iopub.execute_input": "2025-07-30T21:48:20.493869Z",
     "iopub.status.busy": "2025-07-30T21:48:20.493207Z",
     "iopub.status.idle": "2025-07-30T21:48:20.500627Z",
     "shell.execute_reply": "2025-07-30T21:48:20.499594Z"
    },
    "papermill": {
     "duration": 0.035656,
     "end_time": "2025-07-30T21:48:20.502489",
     "exception": false,
     "start_time": "2025-07-30T21:48:20.466833",
     "status": "completed"
    },
    "tags": []
   },
   "outputs": [],
   "source": [
    "if mode == \"keep-all\":\n",
    "    keep_mask = pd.Series(True, index=org_train.index)\n",
    "\n",
    "# org_train contains the original feature columns from features_org (in Simson)\n",
    "# features_org contains unprocessed features, for me X_train at beginning ???\n",
    "# For keep-all, creates a boolean Series (keep_mask) of all True, so no rows are removed.\n",
    "\n",
    "elif mode == \"drop-non-german\":\n",
    "    keep_mask = org_train[\"maxdeutsch1\"] == 1 # ??? what about missing values?\n",
    "\n",
    "else:\n",
    "    raise ValueError(f\"Unsupported mode for exclude_subgroups: {mode}\")\n"
   ]
  },
  {
   "cell_type": "code",
   "execution_count": 38,
   "id": "71651440",
   "metadata": {
    "execution": {
     "iopub.execute_input": "2025-07-30T21:48:20.555909Z",
     "iopub.status.busy": "2025-07-30T21:48:20.555192Z",
     "iopub.status.idle": "2025-07-30T21:48:20.563356Z",
     "shell.execute_reply": "2025-07-30T21:48:20.562276Z"
    },
    "papermill": {
     "duration": 0.036837,
     "end_time": "2025-07-30T21:48:20.565205",
     "exception": false,
     "start_time": "2025-07-30T21:48:20.528368",
     "status": "completed"
    },
    "tags": []
   },
   "outputs": [],
   "source": [
    "n_drop = (~keep_mask).sum() # Calculates how many rows are set to be dropped\n",
    "if n_drop > 0:\n",
    "    pct = n_drop / len(keep_mask) * 100\n",
    "    print(f\"Dropping {n_drop} rows ({pct:.2f}%) where mode='{mode}'\")"
   ]
  },
  {
   "cell_type": "code",
   "execution_count": 39,
   "id": "5fb8eee5",
   "metadata": {
    "execution": {
     "iopub.execute_input": "2025-07-30T21:48:20.611306Z",
     "iopub.status.busy": "2025-07-30T21:48:20.610865Z",
     "iopub.status.idle": "2025-07-30T21:48:20.616541Z",
     "shell.execute_reply": "2025-07-30T21:48:20.615821Z"
    },
    "papermill": {
     "duration": 0.02691,
     "end_time": "2025-07-30T21:48:20.618242",
     "exception": false,
     "start_time": "2025-07-30T21:48:20.591332",
     "status": "completed"
    },
    "tags": []
   },
   "outputs": [],
   "source": [
    "X_train = X_train[keep_mask]"
   ]
  },
  {
   "cell_type": "code",
   "execution_count": 40,
   "id": "b202bb3a",
   "metadata": {
    "execution": {
     "iopub.execute_input": "2025-07-30T21:48:20.668319Z",
     "iopub.status.busy": "2025-07-30T21:48:20.667656Z",
     "iopub.status.idle": "2025-07-30T21:48:20.673237Z",
     "shell.execute_reply": "2025-07-30T21:48:20.672226Z"
    },
    "papermill": {
     "duration": 0.032171,
     "end_time": "2025-07-30T21:48:20.674976",
     "exception": false,
     "start_time": "2025-07-30T21:48:20.642805",
     "status": "completed"
    },
    "tags": []
   },
   "outputs": [],
   "source": [
    "y_train = y_train[keep_mask]"
   ]
  },
  {
   "cell_type": "markdown",
   "id": "493e2ac3",
   "metadata": {
    "papermill": {
     "duration": 0.02534,
     "end_time": "2025-07-30T21:48:20.725409",
     "exception": false,
     "start_time": "2025-07-30T21:48:20.700069",
     "status": "completed"
    },
    "tags": []
   },
   "source": [
    "# Model Training"
   ]
  },
  {
   "cell_type": "code",
   "execution_count": 41,
   "id": "679e1268",
   "metadata": {
    "execution": {
     "iopub.execute_input": "2025-07-30T21:48:20.775032Z",
     "iopub.status.busy": "2025-07-30T21:48:20.774650Z",
     "iopub.status.idle": "2025-07-30T21:48:20.863522Z",
     "shell.execute_reply": "2025-07-30T21:48:20.862443Z"
    },
    "papermill": {
     "duration": 0.115862,
     "end_time": "2025-07-30T21:48:20.865681",
     "exception": false,
     "start_time": "2025-07-30T21:48:20.749819",
     "status": "completed"
    },
    "tags": []
   },
   "outputs": [],
   "source": [
    "from sklearn.linear_model import LogisticRegression\n",
    "from sklearn.ensemble import GradientBoostingClassifier, RandomForestClassifier\n",
    "\n",
    "if (universe[\"model\"] == \"logreg\"):\n",
    "    model = LogisticRegression() #penalty=\"none\") #, solver=\"newton-cg\", max_iter=1) # include random_state=19 ?\n",
    "elif (universe[\"model\"] == \"penalized_logreg\"):\n",
    "    model = LogisticRegression(penalty=\"l2\", C=1.0) #, solver=\"newton-cg\", max_iter=1)\n",
    "elif (universe[\"model\"] == \"rf\"):\n",
    "    model = RandomForestClassifier(n_estimators=100, n_jobs=-1)\n",
    "elif (universe[\"model\"] == \"gbm\"):\n",
    "    model = GradientBoostingClassifier()\n",
    "elif (universe[\"model\"] == \"elasticnet\"):\n",
    "    model = LogisticRegression(penalty = 'elasticnet', solver = 'saga', l1_ratio = 0.5, max_iter=5000) # which solver to use?\n",
    "else:\n",
    "    raise \"Unsupported universe.model\""
   ]
  },
  {
   "cell_type": "code",
   "execution_count": 42,
   "id": "0cc8f744",
   "metadata": {
    "execution": {
     "iopub.execute_input": "2025-07-30T21:48:20.919306Z",
     "iopub.status.busy": "2025-07-30T21:48:20.918594Z",
     "iopub.status.idle": "2025-07-30T21:48:20.925454Z",
     "shell.execute_reply": "2025-07-30T21:48:20.924246Z"
    },
    "papermill": {
     "duration": 0.035561,
     "end_time": "2025-07-30T21:48:20.927339",
     "exception": false,
     "start_time": "2025-07-30T21:48:20.891778",
     "status": "completed"
    },
    "tags": []
   },
   "outputs": [],
   "source": [
    "import numpy as np\n",
    "from sklearn.pipeline import Pipeline\n",
    "from sklearn.preprocessing import StandardScaler\n",
    "\n",
    "model = Pipeline([\n",
    "    #(\"continuous_processor\", continuous_processor),\n",
    "    #(\"categorical_preprocessor\", categorical_preprocessor),\n",
    "    (\"scale\", StandardScaler() if universe[\"scale\"] == \"scale\" else None), \n",
    "    (\"model\", model),\n",
    "])"
   ]
  },
  {
   "cell_type": "code",
   "execution_count": 43,
   "id": "9442c04d",
   "metadata": {
    "execution": {
     "iopub.execute_input": "2025-07-30T21:48:20.982746Z",
     "iopub.status.busy": "2025-07-30T21:48:20.982040Z",
     "iopub.status.idle": "2025-07-30T21:48:24.381382Z",
     "shell.execute_reply": "2025-07-30T21:48:24.380529Z"
    },
    "papermill": {
     "duration": 3.428373,
     "end_time": "2025-07-30T21:48:24.383161",
     "exception": false,
     "start_time": "2025-07-30T21:48:20.954788",
     "status": "completed"
    },
    "tags": []
   },
   "outputs": [
    {
     "data": {
      "text/html": [
       "<style>#sk-container-id-1 {color: black;background-color: white;}#sk-container-id-1 pre{padding: 0;}#sk-container-id-1 div.sk-toggleable {background-color: white;}#sk-container-id-1 label.sk-toggleable__label {cursor: pointer;display: block;width: 100%;margin-bottom: 0;padding: 0.3em;box-sizing: border-box;text-align: center;}#sk-container-id-1 label.sk-toggleable__label-arrow:before {content: \"▸\";float: left;margin-right: 0.25em;color: #696969;}#sk-container-id-1 label.sk-toggleable__label-arrow:hover:before {color: black;}#sk-container-id-1 div.sk-estimator:hover label.sk-toggleable__label-arrow:before {color: black;}#sk-container-id-1 div.sk-toggleable__content {max-height: 0;max-width: 0;overflow: hidden;text-align: left;background-color: #f0f8ff;}#sk-container-id-1 div.sk-toggleable__content pre {margin: 0.2em;color: black;border-radius: 0.25em;background-color: #f0f8ff;}#sk-container-id-1 input.sk-toggleable__control:checked~div.sk-toggleable__content {max-height: 200px;max-width: 100%;overflow: auto;}#sk-container-id-1 input.sk-toggleable__control:checked~label.sk-toggleable__label-arrow:before {content: \"▾\";}#sk-container-id-1 div.sk-estimator input.sk-toggleable__control:checked~label.sk-toggleable__label {background-color: #d4ebff;}#sk-container-id-1 div.sk-label input.sk-toggleable__control:checked~label.sk-toggleable__label {background-color: #d4ebff;}#sk-container-id-1 input.sk-hidden--visually {border: 0;clip: rect(1px 1px 1px 1px);clip: rect(1px, 1px, 1px, 1px);height: 1px;margin: -1px;overflow: hidden;padding: 0;position: absolute;width: 1px;}#sk-container-id-1 div.sk-estimator {font-family: monospace;background-color: #f0f8ff;border: 1px dotted black;border-radius: 0.25em;box-sizing: border-box;margin-bottom: 0.5em;}#sk-container-id-1 div.sk-estimator:hover {background-color: #d4ebff;}#sk-container-id-1 div.sk-parallel-item::after {content: \"\";width: 100%;border-bottom: 1px solid gray;flex-grow: 1;}#sk-container-id-1 div.sk-label:hover label.sk-toggleable__label {background-color: #d4ebff;}#sk-container-id-1 div.sk-serial::before {content: \"\";position: absolute;border-left: 1px solid gray;box-sizing: border-box;top: 0;bottom: 0;left: 50%;z-index: 0;}#sk-container-id-1 div.sk-serial {display: flex;flex-direction: column;align-items: center;background-color: white;padding-right: 0.2em;padding-left: 0.2em;position: relative;}#sk-container-id-1 div.sk-item {position: relative;z-index: 1;}#sk-container-id-1 div.sk-parallel {display: flex;align-items: stretch;justify-content: center;background-color: white;position: relative;}#sk-container-id-1 div.sk-item::before, #sk-container-id-1 div.sk-parallel-item::before {content: \"\";position: absolute;border-left: 1px solid gray;box-sizing: border-box;top: 0;bottom: 0;left: 50%;z-index: -1;}#sk-container-id-1 div.sk-parallel-item {display: flex;flex-direction: column;z-index: 1;position: relative;background-color: white;}#sk-container-id-1 div.sk-parallel-item:first-child::after {align-self: flex-end;width: 50%;}#sk-container-id-1 div.sk-parallel-item:last-child::after {align-self: flex-start;width: 50%;}#sk-container-id-1 div.sk-parallel-item:only-child::after {width: 0;}#sk-container-id-1 div.sk-dashed-wrapped {border: 1px dashed gray;margin: 0 0.4em 0.5em 0.4em;box-sizing: border-box;padding-bottom: 0.4em;background-color: white;}#sk-container-id-1 div.sk-label label {font-family: monospace;font-weight: bold;display: inline-block;line-height: 1.2em;}#sk-container-id-1 div.sk-label-container {text-align: center;}#sk-container-id-1 div.sk-container {/* jupyter's `normalize.less` sets `[hidden] { display: none; }` but bootstrap.min.css set `[hidden] { display: none !important; }` so we also need the `!important` here to be able to override the default hidden behavior on the sphinx rendered scikit-learn.org. See: https://github.com/scikit-learn/scikit-learn/issues/21755 */display: inline-block !important;position: relative;}#sk-container-id-1 div.sk-text-repr-fallback {display: none;}</style><div id=\"sk-container-id-1\" class=\"sk-top-container\"><div class=\"sk-text-repr-fallback\"><pre>Pipeline(steps=[(&#x27;scale&#x27;, StandardScaler()),\n",
       "                (&#x27;model&#x27;,\n",
       "                 LogisticRegression(l1_ratio=0.5, max_iter=5000,\n",
       "                                    penalty=&#x27;elasticnet&#x27;, solver=&#x27;saga&#x27;))])</pre><b>In a Jupyter environment, please rerun this cell to show the HTML representation or trust the notebook. <br />On GitHub, the HTML representation is unable to render, please try loading this page with nbviewer.org.</b></div><div class=\"sk-container\" hidden><div class=\"sk-item sk-dashed-wrapped\"><div class=\"sk-label-container\"><div class=\"sk-label sk-toggleable\"><input class=\"sk-toggleable__control sk-hidden--visually\" id=\"sk-estimator-id-1\" type=\"checkbox\" ><label for=\"sk-estimator-id-1\" class=\"sk-toggleable__label sk-toggleable__label-arrow\">Pipeline</label><div class=\"sk-toggleable__content\"><pre>Pipeline(steps=[(&#x27;scale&#x27;, StandardScaler()),\n",
       "                (&#x27;model&#x27;,\n",
       "                 LogisticRegression(l1_ratio=0.5, max_iter=5000,\n",
       "                                    penalty=&#x27;elasticnet&#x27;, solver=&#x27;saga&#x27;))])</pre></div></div></div><div class=\"sk-serial\"><div class=\"sk-item\"><div class=\"sk-estimator sk-toggleable\"><input class=\"sk-toggleable__control sk-hidden--visually\" id=\"sk-estimator-id-2\" type=\"checkbox\" ><label for=\"sk-estimator-id-2\" class=\"sk-toggleable__label sk-toggleable__label-arrow\">StandardScaler</label><div class=\"sk-toggleable__content\"><pre>StandardScaler()</pre></div></div></div><div class=\"sk-item\"><div class=\"sk-estimator sk-toggleable\"><input class=\"sk-toggleable__control sk-hidden--visually\" id=\"sk-estimator-id-3\" type=\"checkbox\" ><label for=\"sk-estimator-id-3\" class=\"sk-toggleable__label sk-toggleable__label-arrow\">LogisticRegression</label><div class=\"sk-toggleable__content\"><pre>LogisticRegression(l1_ratio=0.5, max_iter=5000, penalty=&#x27;elasticnet&#x27;,\n",
       "                   solver=&#x27;saga&#x27;)</pre></div></div></div></div></div></div></div>"
      ],
      "text/plain": [
       "Pipeline(steps=[('scale', StandardScaler()),\n",
       "                ('model',\n",
       "                 LogisticRegression(l1_ratio=0.5, max_iter=5000,\n",
       "                                    penalty='elasticnet', solver='saga'))])"
      ]
     },
     "execution_count": 43,
     "metadata": {},
     "output_type": "execute_result"
    }
   ],
   "source": [
    "model.fit(X_train, y_train.values.ravel())"
   ]
  },
  {
   "cell_type": "code",
   "execution_count": 44,
   "id": "af59f8c0",
   "metadata": {
    "execution": {
     "iopub.execute_input": "2025-07-30T21:48:24.445847Z",
     "iopub.status.busy": "2025-07-30T21:48:24.445405Z",
     "iopub.status.idle": "2025-07-30T21:48:24.450632Z",
     "shell.execute_reply": "2025-07-30T21:48:24.449656Z"
    },
    "papermill": {
     "duration": 0.030827,
     "end_time": "2025-07-30T21:48:24.452134",
     "exception": false,
     "start_time": "2025-07-30T21:48:24.421307",
     "status": "completed"
    },
    "tags": []
   },
   "outputs": [],
   "source": [
    "from fairness_multiverse.universe import predict_w_threshold"
   ]
  },
  {
   "cell_type": "code",
   "execution_count": 45,
   "id": "a7cf2e16",
   "metadata": {
    "execution": {
     "iopub.execute_input": "2025-07-30T21:48:24.499615Z",
     "iopub.status.busy": "2025-07-30T21:48:24.498944Z",
     "iopub.status.idle": "2025-07-30T21:48:24.685989Z",
     "shell.execute_reply": "2025-07-30T21:48:24.685108Z"
    },
    "papermill": {
     "duration": 0.213333,
     "end_time": "2025-07-30T21:48:24.687492",
     "exception": false,
     "start_time": "2025-07-30T21:48:24.474159",
     "status": "completed"
    },
    "tags": []
   },
   "outputs": [
    {
     "data": {
      "text/plain": [
       "0.82543752090068"
      ]
     },
     "execution_count": 45,
     "metadata": {},
     "output_type": "execute_result"
    }
   ],
   "source": [
    "probs_test = model.predict_proba(X_test)\n",
    "\n",
    "'''\n",
    "Below code returns a boolean array (or binary 0/1 array depending on how it’s used) where each element \n",
    "is True if the probability of class 1 is greater than or equal to the threshold, and False otherwise.\n",
    "'''\n",
    "y_pred_default = predict_w_threshold(probs_test, 0.5)\n",
    "\n",
    "from sklearn.metrics import accuracy_score\n",
    "\n",
    "# Naive prediction\n",
    "accuracy_score(y_true = y_true, y_pred = y_pred_default)"
   ]
  },
  {
   "cell_type": "code",
   "execution_count": 46,
   "id": "081964c3",
   "metadata": {
    "execution": {
     "iopub.execute_input": "2025-07-30T21:48:24.735508Z",
     "iopub.status.busy": "2025-07-30T21:48:24.735041Z",
     "iopub.status.idle": "2025-07-30T21:48:24.913396Z",
     "shell.execute_reply": "2025-07-30T21:48:24.912469Z"
    },
    "papermill": {
     "duration": 0.203553,
     "end_time": "2025-07-30T21:48:24.914954",
     "exception": false,
     "start_time": "2025-07-30T21:48:24.711401",
     "status": "completed"
    },
    "tags": []
   },
   "outputs": [
    {
     "data": {
      "text/plain": [
       "array([0, 0, 0, ..., 0, 0, 0])"
      ]
     },
     "execution_count": 46,
     "metadata": {},
     "output_type": "execute_result"
    }
   ],
   "source": [
    "model.predict(X_test)"
   ]
  },
  {
   "cell_type": "markdown",
   "id": "56c9705b",
   "metadata": {
    "papermill": {
     "duration": 0.02616,
     "end_time": "2025-07-30T21:48:24.965530",
     "exception": false,
     "start_time": "2025-07-30T21:48:24.939370",
     "status": "completed"
    },
    "tags": []
   },
   "source": [
    "# Conformal Prediction"
   ]
  },
  {
   "cell_type": "code",
   "execution_count": 47,
   "id": "160ec6ff",
   "metadata": {
    "execution": {
     "iopub.execute_input": "2025-07-30T21:48:24.993097Z",
     "iopub.status.busy": "2025-07-30T21:48:24.992662Z",
     "iopub.status.idle": "2025-07-30T21:48:24.997475Z",
     "shell.execute_reply": "2025-07-30T21:48:24.996617Z"
    },
    "papermill": {
     "duration": 0.019887,
     "end_time": "2025-07-30T21:48:24.998835",
     "exception": false,
     "start_time": "2025-07-30T21:48:24.978948",
     "status": "completed"
    },
    "tags": []
   },
   "outputs": [],
   "source": [
    "# Miscoverage level for conformal prediction (10% allowed error rate => 90% target coverage)\n",
    "alpha = 0.1"
   ]
  },
  {
   "cell_type": "code",
   "execution_count": 48,
   "id": "eadf4555-3dd3-440e-8e35-f82a4ad9f855",
   "metadata": {
    "execution": {
     "iopub.execute_input": "2025-07-30T21:48:25.039412Z",
     "iopub.status.busy": "2025-07-30T21:48:25.038712Z",
     "iopub.status.idle": "2025-07-30T21:48:25.214942Z",
     "shell.execute_reply": "2025-07-30T21:48:25.213834Z"
    },
    "papermill": {
     "duration": 0.204706,
     "end_time": "2025-07-30T21:48:25.217108",
     "exception": false,
     "start_time": "2025-07-30T21:48:25.012402",
     "status": "completed"
    },
    "tags": []
   },
   "outputs": [],
   "source": [
    "probs_calib = model.predict_proba(X_calib)"
   ]
  },
  {
   "cell_type": "code",
   "execution_count": 49,
   "id": "2ed93547-6d5d-4983-9b36-1ecb300da49a",
   "metadata": {
    "execution": {
     "iopub.execute_input": "2025-07-30T21:48:25.268786Z",
     "iopub.status.busy": "2025-07-30T21:48:25.267932Z",
     "iopub.status.idle": "2025-07-30T21:48:25.274243Z",
     "shell.execute_reply": "2025-07-30T21:48:25.273313Z"
    },
    "papermill": {
     "duration": 0.035617,
     "end_time": "2025-07-30T21:48:25.275871",
     "exception": false,
     "start_time": "2025-07-30T21:48:25.240254",
     "status": "completed"
    },
    "tags": []
   },
   "outputs": [],
   "source": [
    "y_calib = y_calib.values.ravel().astype(int)"
   ]
  },
  {
   "cell_type": "code",
   "execution_count": 50,
   "id": "65d1320d-f588-4b38-9072-62af1ae97f7d",
   "metadata": {
    "execution": {
     "iopub.execute_input": "2025-07-30T21:48:25.324253Z",
     "iopub.status.busy": "2025-07-30T21:48:25.323337Z",
     "iopub.status.idle": "2025-07-30T21:48:25.332707Z",
     "shell.execute_reply": "2025-07-30T21:48:25.331767Z"
    },
    "papermill": {
     "duration": 0.034939,
     "end_time": "2025-07-30T21:48:25.334416",
     "exception": false,
     "start_time": "2025-07-30T21:48:25.299477",
     "status": "completed"
    },
    "tags": []
   },
   "outputs": [],
   "source": [
    "from fairness_multiverse.conformal import compute_nc_scores\n",
    "\n",
    "# Compute nonconformity scores on calibration set (1 - probability of true class)\n",
    "nc_scores = compute_nc_scores(probs_calib, y_calib)"
   ]
  },
  {
   "cell_type": "code",
   "execution_count": 51,
   "id": "df3b8ca3-53b7-43d5-9667-7c85da7aeda2",
   "metadata": {
    "execution": {
     "iopub.execute_input": "2025-07-30T21:48:25.385742Z",
     "iopub.status.busy": "2025-07-30T21:48:25.384866Z",
     "iopub.status.idle": "2025-07-30T21:48:25.392431Z",
     "shell.execute_reply": "2025-07-30T21:48:25.391462Z"
    },
    "papermill": {
     "duration": 0.033816,
     "end_time": "2025-07-30T21:48:25.394222",
     "exception": false,
     "start_time": "2025-07-30T21:48:25.360406",
     "status": "completed"
    },
    "tags": []
   },
   "outputs": [],
   "source": [
    "from fairness_multiverse.conformal import find_threshold\n",
    "\n",
    "# Find conformal threshold q_hat for the given alpha (split conformal method)\n",
    "q_hat = find_threshold(nc_scores, alpha)"
   ]
  },
  {
   "cell_type": "code",
   "execution_count": 52,
   "id": "4d29e6c1-0ef6-4aa4-b8fe-4fe79b0d033a",
   "metadata": {
    "execution": {
     "iopub.execute_input": "2025-07-30T21:48:25.445116Z",
     "iopub.status.busy": "2025-07-30T21:48:25.444356Z",
     "iopub.status.idle": "2025-07-30T21:48:25.451497Z",
     "shell.execute_reply": "2025-07-30T21:48:25.450591Z"
    },
    "papermill": {
     "duration": 0.032246,
     "end_time": "2025-07-30T21:48:25.453089",
     "exception": false,
     "start_time": "2025-07-30T21:48:25.420843",
     "status": "completed"
    },
    "tags": []
   },
   "outputs": [
    {
     "data": {
      "text/plain": [
       "0.7533649233556456"
      ]
     },
     "execution_count": 52,
     "metadata": {},
     "output_type": "execute_result"
    }
   ],
   "source": [
    "q_hat"
   ]
  },
  {
   "cell_type": "code",
   "execution_count": 53,
   "id": "92460794-cdac-4be2-ba28-f28c0515a6fb",
   "metadata": {
    "execution": {
     "iopub.execute_input": "2025-07-30T21:48:25.500315Z",
     "iopub.status.busy": "2025-07-30T21:48:25.499114Z",
     "iopub.status.idle": "2025-07-30T21:48:26.411265Z",
     "shell.execute_reply": "2025-07-30T21:48:26.410196Z"
    },
    "papermill": {
     "duration": 0.937155,
     "end_time": "2025-07-30T21:48:26.412910",
     "exception": false,
     "start_time": "2025-07-30T21:48:25.475755",
     "status": "completed"
    },
    "tags": []
   },
   "outputs": [],
   "source": [
    "from fairness_multiverse.conformal import predict_conformal_sets\n",
    "\n",
    "# Generate prediction sets for each test example\n",
    "pred_sets = predict_conformal_sets(model, X_test, q_hat)"
   ]
  },
  {
   "cell_type": "code",
   "execution_count": 54,
   "id": "d90c9a65-e6db-4f5d-80cd-e68fb7e46829",
   "metadata": {
    "execution": {
     "iopub.execute_input": "2025-07-30T21:48:26.467333Z",
     "iopub.status.busy": "2025-07-30T21:48:26.466918Z",
     "iopub.status.idle": "2025-07-30T21:48:26.472480Z",
     "shell.execute_reply": "2025-07-30T21:48:26.471450Z"
    },
    "papermill": {
     "duration": 0.034929,
     "end_time": "2025-07-30T21:48:26.474382",
     "exception": false,
     "start_time": "2025-07-30T21:48:26.439453",
     "status": "completed"
    },
    "tags": []
   },
   "outputs": [],
   "source": [
    "y_true = y_true.squeeze()"
   ]
  },
  {
   "cell_type": "code",
   "execution_count": 55,
   "id": "3a58a54a-1e68-46b9-927a-df01f18aebc8",
   "metadata": {
    "execution": {
     "iopub.execute_input": "2025-07-30T21:48:26.529118Z",
     "iopub.status.busy": "2025-07-30T21:48:26.528529Z",
     "iopub.status.idle": "2025-07-30T21:48:27.596508Z",
     "shell.execute_reply": "2025-07-30T21:48:27.595442Z"
    },
    "papermill": {
     "duration": 1.096979,
     "end_time": "2025-07-30T21:48:27.598381",
     "exception": false,
     "start_time": "2025-07-30T21:48:26.501402",
     "status": "completed"
    },
    "tags": []
   },
   "outputs": [],
   "source": [
    "from fairness_multiverse.conformal import evaluate_sets\n",
    "\n",
    "# Evaluate coverage and average set size on test data\n",
    "metrics = evaluate_sets(pred_sets, y_true)"
   ]
  },
  {
   "cell_type": "markdown",
   "id": "2b569c12-9aaa-4c88-98c9-bbcd0cf3ebb8",
   "metadata": {
    "papermill": {
     "duration": 0.02491,
     "end_time": "2025-07-30T21:48:27.652763",
     "exception": false,
     "start_time": "2025-07-30T21:48:27.627853",
     "status": "completed"
    },
    "tags": []
   },
   "source": [
    "# CP Metrics"
   ]
  },
  {
   "cell_type": "code",
   "execution_count": 56,
   "id": "5ce0a5cb-201f-45a0-ade5-94c7f0bd6095",
   "metadata": {
    "execution": {
     "iopub.execute_input": "2025-07-30T21:48:27.706345Z",
     "iopub.status.busy": "2025-07-30T21:48:27.705839Z",
     "iopub.status.idle": "2025-07-30T21:48:27.712566Z",
     "shell.execute_reply": "2025-07-30T21:48:27.711735Z"
    },
    "papermill": {
     "duration": 0.034822,
     "end_time": "2025-07-30T21:48:27.714260",
     "exception": false,
     "start_time": "2025-07-30T21:48:27.679438",
     "status": "completed"
    },
    "tags": []
   },
   "outputs": [
    {
     "data": {
      "text/plain": [
       "{'coverage': 0.9077025972578308, 'avg_size': 1.2195073013042024}"
      ]
     },
     "execution_count": 56,
     "metadata": {},
     "output_type": "execute_result"
    }
   ],
   "source": [
    "metrics"
   ]
  },
  {
   "cell_type": "code",
   "execution_count": 57,
   "id": "9b9a838d-31c9-430b-ae14-12baee460d17",
   "metadata": {
    "execution": {
     "iopub.execute_input": "2025-07-30T21:48:27.766207Z",
     "iopub.status.busy": "2025-07-30T21:48:27.765480Z",
     "iopub.status.idle": "2025-07-30T21:48:27.772234Z",
     "shell.execute_reply": "2025-07-30T21:48:27.771208Z"
    },
    "papermill": {
     "duration": 0.046486,
     "end_time": "2025-07-30T21:48:27.786457",
     "exception": false,
     "start_time": "2025-07-30T21:48:27.739971",
     "status": "completed"
    },
    "tags": []
   },
   "outputs": [],
   "source": [
    "example_universe = universe.copy()\n",
    "universe_training_year = example_universe.get(\"training_year\")\n",
    "universe_training_size = example_universe.get(\"training_size\")\n",
    "universe_scale = example_universe.get(\"scale\")\n",
    "universe_model = example_universe.get(\"model\")\n",
    "universe_exclude_features = example_universe.get(\"exclude_features\")\n",
    "universe_exclude_subgroups = example_universe.get(\"exclude_subgroups\")"
   ]
  },
  {
   "cell_type": "code",
   "execution_count": 58,
   "id": "f4b6a8ac-9dc0-4245-8a91-5b3b5999c4f9",
   "metadata": {
    "execution": {
     "iopub.execute_input": "2025-07-30T21:48:27.862005Z",
     "iopub.status.busy": "2025-07-30T21:48:27.861323Z",
     "iopub.status.idle": "2025-07-30T21:48:27.867945Z",
     "shell.execute_reply": "2025-07-30T21:48:27.866963Z"
    },
    "papermill": {
     "duration": 0.037127,
     "end_time": "2025-07-30T21:48:27.869695",
     "exception": false,
     "start_time": "2025-07-30T21:48:27.832568",
     "status": "completed"
    },
    "tags": []
   },
   "outputs": [],
   "source": [
    "cp_metrics_dict = {\n",
    "    \"universe_id\": [universe_id],\n",
    "    \"universe_training_year\": [universe_training_year],\n",
    "    \"universe_training_size\": [universe_training_size],\n",
    "    \"universe_scale\": [universe_scale],\n",
    "    \"universe_model\": [universe_model],\n",
    "    \"universe_exclude_features\": [universe_exclude_features],\n",
    "    \"universe_exclude_subgroups\": [universe_exclude_subgroups],\n",
    "    \"q_hat\": [q_hat],\n",
    "    \"coverage\": [metrics[\"coverage\"]],\n",
    "    \"avg_size\": [metrics[\"avg_size\"]],\n",
    "}"
   ]
  },
  {
   "cell_type": "code",
   "execution_count": 59,
   "id": "908acbb1-0371-4915-85ca-3fa520d2efe2",
   "metadata": {
    "execution": {
     "iopub.execute_input": "2025-07-30T21:48:27.926246Z",
     "iopub.status.busy": "2025-07-30T21:48:27.925600Z",
     "iopub.status.idle": "2025-07-30T21:48:27.933011Z",
     "shell.execute_reply": "2025-07-30T21:48:27.932073Z"
    },
    "papermill": {
     "duration": 0.036213,
     "end_time": "2025-07-30T21:48:27.934676",
     "exception": false,
     "start_time": "2025-07-30T21:48:27.898463",
     "status": "completed"
    },
    "tags": []
   },
   "outputs": [
    {
     "data": {
      "text/plain": [
       "{'universe_id': ['b80749829f4cae62e2d5e0f58540c16c'],\n",
       " 'universe_training_year': ['2010_14'],\n",
       " 'universe_training_size': ['1k'],\n",
       " 'universe_scale': ['scale'],\n",
       " 'universe_model': ['elasticnet'],\n",
       " 'universe_exclude_features': ['nationality-sex'],\n",
       " 'universe_exclude_subgroups': ['keep-all'],\n",
       " 'q_hat': [0.7533649233556456],\n",
       " 'coverage': [0.9077025972578308],\n",
       " 'avg_size': [1.2195073013042024]}"
      ]
     },
     "execution_count": 59,
     "metadata": {},
     "output_type": "execute_result"
    }
   ],
   "source": [
    "cp_metrics_dict"
   ]
  },
  {
   "cell_type": "code",
   "execution_count": 60,
   "id": "33007efc-14e9-4ec6-97ac-56a455c82265",
   "metadata": {
    "execution": {
     "iopub.execute_input": "2025-07-30T21:48:27.989508Z",
     "iopub.status.busy": "2025-07-30T21:48:27.989021Z",
     "iopub.status.idle": "2025-07-30T21:48:27.995645Z",
     "shell.execute_reply": "2025-07-30T21:48:27.994509Z"
    },
    "papermill": {
     "duration": 0.035715,
     "end_time": "2025-07-30T21:48:27.997385",
     "exception": false,
     "start_time": "2025-07-30T21:48:27.961670",
     "status": "completed"
    },
    "tags": []
   },
   "outputs": [],
   "source": [
    "cp_metrics_df = pd.DataFrame(cp_metrics_dict)"
   ]
  },
  {
   "cell_type": "code",
   "execution_count": 61,
   "id": "db12611b-57b2-4910-b9d0-355adfd6e7bf",
   "metadata": {
    "execution": {
     "iopub.execute_input": "2025-07-30T21:48:28.053509Z",
     "iopub.status.busy": "2025-07-30T21:48:28.052840Z",
     "iopub.status.idle": "2025-07-30T21:48:28.072977Z",
     "shell.execute_reply": "2025-07-30T21:48:28.070588Z"
    },
    "papermill": {
     "duration": 0.049992,
     "end_time": "2025-07-30T21:48:28.074786",
     "exception": false,
     "start_time": "2025-07-30T21:48:28.024794",
     "status": "completed"
    },
    "tags": []
   },
   "outputs": [
    {
     "data": {
      "text/html": [
       "<div>\n",
       "<style scoped>\n",
       "    .dataframe tbody tr th:only-of-type {\n",
       "        vertical-align: middle;\n",
       "    }\n",
       "\n",
       "    .dataframe tbody tr th {\n",
       "        vertical-align: top;\n",
       "    }\n",
       "\n",
       "    .dataframe thead th {\n",
       "        text-align: right;\n",
       "    }\n",
       "</style>\n",
       "<table border=\"1\" class=\"dataframe\">\n",
       "  <thead>\n",
       "    <tr style=\"text-align: right;\">\n",
       "      <th></th>\n",
       "      <th>universe_id</th>\n",
       "      <th>universe_training_year</th>\n",
       "      <th>universe_training_size</th>\n",
       "      <th>universe_scale</th>\n",
       "      <th>universe_model</th>\n",
       "      <th>universe_exclude_features</th>\n",
       "      <th>universe_exclude_subgroups</th>\n",
       "      <th>q_hat</th>\n",
       "      <th>coverage</th>\n",
       "      <th>avg_size</th>\n",
       "    </tr>\n",
       "  </thead>\n",
       "  <tbody>\n",
       "    <tr>\n",
       "      <th>0</th>\n",
       "      <td>b80749829f4cae62e2d5e0f58540c16c</td>\n",
       "      <td>2010_14</td>\n",
       "      <td>1k</td>\n",
       "      <td>scale</td>\n",
       "      <td>elasticnet</td>\n",
       "      <td>nationality-sex</td>\n",
       "      <td>keep-all</td>\n",
       "      <td>0.753365</td>\n",
       "      <td>0.907703</td>\n",
       "      <td>1.219507</td>\n",
       "    </tr>\n",
       "  </tbody>\n",
       "</table>\n",
       "</div>"
      ],
      "text/plain": [
       "                        universe_id universe_training_year  \\\n",
       "0  b80749829f4cae62e2d5e0f58540c16c                2010_14   \n",
       "\n",
       "  universe_training_size universe_scale universe_model  \\\n",
       "0                     1k          scale     elasticnet   \n",
       "\n",
       "  universe_exclude_features universe_exclude_subgroups     q_hat  coverage  \\\n",
       "0           nationality-sex                   keep-all  0.753365  0.907703   \n",
       "\n",
       "   avg_size  \n",
       "0  1.219507  "
      ]
     },
     "execution_count": 61,
     "metadata": {},
     "output_type": "execute_result"
    }
   ],
   "source": [
    "cp_metrics_df"
   ]
  },
  {
   "cell_type": "code",
   "execution_count": 62,
   "id": "b7fbde55-a0a1-47e4-9af6-fe4a17fa8c61",
   "metadata": {
    "execution": {
     "iopub.execute_input": "2025-07-30T21:48:28.130983Z",
     "iopub.status.busy": "2025-07-30T21:48:28.130074Z",
     "iopub.status.idle": "2025-07-30T21:48:28.135244Z",
     "shell.execute_reply": "2025-07-30T21:48:28.134319Z"
    },
    "papermill": {
     "duration": 0.034698,
     "end_time": "2025-07-30T21:48:28.136960",
     "exception": false,
     "start_time": "2025-07-30T21:48:28.102262",
     "status": "completed"
    },
    "tags": []
   },
   "outputs": [],
   "source": [
    "# Conditional Coverage & looking at subgroups"
   ]
  },
  {
   "cell_type": "code",
   "execution_count": 63,
   "id": "027ae886-68dd-4141-96c7-805a5450e1ef",
   "metadata": {
    "execution": {
     "iopub.execute_input": "2025-07-30T21:48:28.187843Z",
     "iopub.status.busy": "2025-07-30T21:48:28.187359Z",
     "iopub.status.idle": "2025-07-30T21:48:28.435101Z",
     "shell.execute_reply": "2025-07-30T21:48:28.434076Z"
    },
    "papermill": {
     "duration": 0.27479,
     "end_time": "2025-07-30T21:48:28.437287",
     "exception": false,
     "start_time": "2025-07-30T21:48:28.162497",
     "status": "completed"
    },
    "tags": []
   },
   "outputs": [],
   "source": [
    "from fairness_multiverse.conformal import build_cp_groups\n",
    "\n",
    "cp_groups_df = build_cp_groups(pred_sets, y_true, X_test.index, org_test)\n",
    "#needs universe_id and setting"
   ]
  },
  {
   "cell_type": "code",
   "execution_count": 64,
   "id": "01d5802c-663a-4d1f-9d69-e036faaffbf7",
   "metadata": {
    "execution": {
     "iopub.execute_input": "2025-07-30T21:48:28.495213Z",
     "iopub.status.busy": "2025-07-30T21:48:28.494224Z",
     "iopub.status.idle": "2025-07-30T21:48:28.499524Z",
     "shell.execute_reply": "2025-07-30T21:48:28.498498Z"
    },
    "papermill": {
     "duration": 0.036672,
     "end_time": "2025-07-30T21:48:28.501257",
     "exception": false,
     "start_time": "2025-07-30T21:48:28.464585",
     "status": "completed"
    },
    "tags": []
   },
   "outputs": [],
   "source": [
    "#delete\n",
    "#cp_groups_df"
   ]
  },
  {
   "cell_type": "code",
   "execution_count": 65,
   "id": "fa424af1-d1eb-443d-b717-2d279ada8408",
   "metadata": {
    "execution": {
     "iopub.execute_input": "2025-07-30T21:48:28.553340Z",
     "iopub.status.busy": "2025-07-30T21:48:28.552798Z",
     "iopub.status.idle": "2025-07-30T21:48:28.558305Z",
     "shell.execute_reply": "2025-07-30T21:48:28.557218Z"
    },
    "papermill": {
     "duration": 0.032583,
     "end_time": "2025-07-30T21:48:28.560437",
     "exception": false,
     "start_time": "2025-07-30T21:48:28.527854",
     "status": "completed"
    },
    "tags": []
   },
   "outputs": [],
   "source": [
    "#delete\n",
    "#percentage = (cp_groups_df['nongerman_female'] == 1).mean() * 100\n",
    "#print(percentage)\n"
   ]
  },
  {
   "cell_type": "code",
   "execution_count": 66,
   "id": "6cbdab96-b2b2-45af-ad54-d0516db2e28d",
   "metadata": {
    "execution": {
     "iopub.execute_input": "2025-07-30T21:48:28.607437Z",
     "iopub.status.busy": "2025-07-30T21:48:28.607116Z",
     "iopub.status.idle": "2025-07-30T21:48:29.598246Z",
     "shell.execute_reply": "2025-07-30T21:48:29.597502Z"
    },
    "papermill": {
     "duration": 1.010564,
     "end_time": "2025-07-30T21:48:29.599660",
     "exception": false,
     "start_time": "2025-07-30T21:48:28.589096",
     "status": "completed"
    },
    "tags": []
   },
   "outputs": [],
   "source": [
    "# Define covered = 1 if true_label is in the predicted set\n",
    "cp_groups_df['covered'] = cp_groups_df.apply(\n",
    "    lambda r: int(r['true_label'] in r['pred_set']),\n",
    "    axis=1\n",
    ")"
   ]
  },
  {
   "cell_type": "code",
   "execution_count": 67,
   "id": "338ff529-1a6b-4b87-a931-8e4788d52aad",
   "metadata": {
    "execution": {
     "iopub.execute_input": "2025-07-30T21:48:29.627733Z",
     "iopub.status.busy": "2025-07-30T21:48:29.627329Z",
     "iopub.status.idle": "2025-07-30T21:48:29.631233Z",
     "shell.execute_reply": "2025-07-30T21:48:29.630378Z"
    },
    "papermill": {
     "duration": 0.018848,
     "end_time": "2025-07-30T21:48:29.632739",
     "exception": false,
     "start_time": "2025-07-30T21:48:29.613891",
     "status": "completed"
    },
    "tags": []
   },
   "outputs": [],
   "source": [
    "#cp_groups_df"
   ]
  },
  {
   "cell_type": "code",
   "execution_count": 68,
   "id": "90032e27-66df-4540-9169-4e89cfbaa758",
   "metadata": {
    "execution": {
     "iopub.execute_input": "2025-07-30T21:48:29.684104Z",
     "iopub.status.busy": "2025-07-30T21:48:29.683619Z",
     "iopub.status.idle": "2025-07-30T21:48:29.695102Z",
     "shell.execute_reply": "2025-07-30T21:48:29.694022Z"
    },
    "papermill": {
     "duration": 0.040188,
     "end_time": "2025-07-30T21:48:29.697207",
     "exception": false,
     "start_time": "2025-07-30T21:48:29.657019",
     "status": "completed"
    },
    "tags": []
   },
   "outputs": [],
   "source": [
    "subgroups = ['frau1','nongerman','nongerman_male','nongerman_female']\n",
    "\n",
    "# Conditional coverage for subgroup==1\n",
    "cond_coverage = {\n",
    "    g: cp_groups_df.loc[cp_groups_df[g]==1, 'covered'].mean()\n",
    "    for g in subgroups\n",
    "}"
   ]
  },
  {
   "cell_type": "code",
   "execution_count": 69,
   "id": "1e348fb1-b9c3-45bc-ba23-f016827a7e0d",
   "metadata": {
    "execution": {
     "iopub.execute_input": "2025-07-30T21:48:29.751990Z",
     "iopub.status.busy": "2025-07-30T21:48:29.751238Z",
     "iopub.status.idle": "2025-07-30T21:48:29.757609Z",
     "shell.execute_reply": "2025-07-30T21:48:29.756841Z"
    },
    "papermill": {
     "duration": 0.036804,
     "end_time": "2025-07-30T21:48:29.761062",
     "exception": false,
     "start_time": "2025-07-30T21:48:29.724258",
     "status": "completed"
    },
    "tags": []
   },
   "outputs": [
    {
     "data": {
      "text/plain": [
       "{'frau1': 0.9085321471896483,\n",
       " 'nongerman': 0.9156234210969517,\n",
       " 'nongerman_male': 0.9288480590831307,\n",
       " 'nongerman_female': 0.8937406855439642}"
      ]
     },
     "execution_count": 69,
     "metadata": {},
     "output_type": "execute_result"
    }
   ],
   "source": [
    "cond_coverage"
   ]
  },
  {
   "cell_type": "code",
   "execution_count": 70,
   "id": "f5093324-c3dd-4d63-bc4c-8d945e5c8bbb",
   "metadata": {
    "execution": {
     "iopub.execute_input": "2025-07-30T21:48:29.821736Z",
     "iopub.status.busy": "2025-07-30T21:48:29.821235Z",
     "iopub.status.idle": "2025-07-30T21:48:29.828848Z",
     "shell.execute_reply": "2025-07-30T21:48:29.827690Z"
    },
    "papermill": {
     "duration": 0.039521,
     "end_time": "2025-07-30T21:48:29.830686",
     "exception": false,
     "start_time": "2025-07-30T21:48:29.791165",
     "status": "completed"
    },
    "tags": []
   },
   "outputs": [],
   "source": [
    "for subgroup, cov in cond_coverage.items():\n",
    "    cp_metrics_df[f\"cov_{subgroup}\"] = cov"
   ]
  },
  {
   "cell_type": "code",
   "execution_count": 71,
   "id": "6e872e10-dbe5-49e8-b554-5030c98ff75d",
   "metadata": {
    "execution": {
     "iopub.execute_input": "2025-07-30T21:48:29.891729Z",
     "iopub.status.busy": "2025-07-30T21:48:29.891244Z",
     "iopub.status.idle": "2025-07-30T21:48:29.911765Z",
     "shell.execute_reply": "2025-07-30T21:48:29.910774Z"
    },
    "papermill": {
     "duration": 0.052721,
     "end_time": "2025-07-30T21:48:29.913680",
     "exception": false,
     "start_time": "2025-07-30T21:48:29.860959",
     "status": "completed"
    },
    "tags": []
   },
   "outputs": [
    {
     "data": {
      "text/html": [
       "<div>\n",
       "<style scoped>\n",
       "    .dataframe tbody tr th:only-of-type {\n",
       "        vertical-align: middle;\n",
       "    }\n",
       "\n",
       "    .dataframe tbody tr th {\n",
       "        vertical-align: top;\n",
       "    }\n",
       "\n",
       "    .dataframe thead th {\n",
       "        text-align: right;\n",
       "    }\n",
       "</style>\n",
       "<table border=\"1\" class=\"dataframe\">\n",
       "  <thead>\n",
       "    <tr style=\"text-align: right;\">\n",
       "      <th></th>\n",
       "      <th>universe_id</th>\n",
       "      <th>universe_training_year</th>\n",
       "      <th>universe_training_size</th>\n",
       "      <th>universe_scale</th>\n",
       "      <th>universe_model</th>\n",
       "      <th>universe_exclude_features</th>\n",
       "      <th>universe_exclude_subgroups</th>\n",
       "      <th>q_hat</th>\n",
       "      <th>coverage</th>\n",
       "      <th>avg_size</th>\n",
       "      <th>cov_frau1</th>\n",
       "      <th>cov_nongerman</th>\n",
       "      <th>cov_nongerman_male</th>\n",
       "      <th>cov_nongerman_female</th>\n",
       "    </tr>\n",
       "  </thead>\n",
       "  <tbody>\n",
       "    <tr>\n",
       "      <th>0</th>\n",
       "      <td>b80749829f4cae62e2d5e0f58540c16c</td>\n",
       "      <td>2010_14</td>\n",
       "      <td>1k</td>\n",
       "      <td>scale</td>\n",
       "      <td>elasticnet</td>\n",
       "      <td>nationality-sex</td>\n",
       "      <td>keep-all</td>\n",
       "      <td>0.753365</td>\n",
       "      <td>0.907703</td>\n",
       "      <td>1.219507</td>\n",
       "      <td>0.908532</td>\n",
       "      <td>0.915623</td>\n",
       "      <td>0.928848</td>\n",
       "      <td>0.893741</td>\n",
       "    </tr>\n",
       "  </tbody>\n",
       "</table>\n",
       "</div>"
      ],
      "text/plain": [
       "                        universe_id universe_training_year  \\\n",
       "0  b80749829f4cae62e2d5e0f58540c16c                2010_14   \n",
       "\n",
       "  universe_training_size universe_scale universe_model  \\\n",
       "0                     1k          scale     elasticnet   \n",
       "\n",
       "  universe_exclude_features universe_exclude_subgroups     q_hat  coverage  \\\n",
       "0           nationality-sex                   keep-all  0.753365  0.907703   \n",
       "\n",
       "   avg_size  cov_frau1  cov_nongerman  cov_nongerman_male  \\\n",
       "0  1.219507   0.908532       0.915623            0.928848   \n",
       "\n",
       "   cov_nongerman_female  \n",
       "0              0.893741  "
      ]
     },
     "execution_count": 71,
     "metadata": {},
     "output_type": "execute_result"
    }
   ],
   "source": [
    "cp_metrics_df"
   ]
  },
  {
   "cell_type": "markdown",
   "id": "33774451",
   "metadata": {
    "papermill": {
     "duration": 0.028276,
     "end_time": "2025-07-30T21:48:29.971732",
     "exception": false,
     "start_time": "2025-07-30T21:48:29.943456",
     "status": "completed"
    },
    "tags": []
   },
   "source": [
    "# (Fairness) Metrics"
   ]
  },
  {
   "cell_type": "code",
   "execution_count": 72,
   "id": "debc5d62",
   "metadata": {
    "execution": {
     "iopub.execute_input": "2025-07-30T21:48:30.029933Z",
     "iopub.status.busy": "2025-07-30T21:48:30.029278Z",
     "iopub.status.idle": "2025-07-30T21:48:30.052226Z",
     "shell.execute_reply": "2025-07-30T21:48:30.051316Z"
    },
    "papermill": {
     "duration": 0.053852,
     "end_time": "2025-07-30T21:48:30.054003",
     "exception": false,
     "start_time": "2025-07-30T21:48:30.000151",
     "status": "completed"
    },
    "tags": []
   },
   "outputs": [],
   "source": [
    "# do I need to include maxdeutsch1.missing?\n",
    "\n",
    "import numpy as np\n",
    "\n",
    "colname_to_bin = \"maxdeutsch1\"\n",
    "majority_value = org_train[colname_to_bin].mode()[0]\n",
    "\n",
    "org_test[\"majmin\"] = np.where(org_test[colname_to_bin] == majority_value, \"majority\", \"minority\")"
   ]
  },
  {
   "cell_type": "code",
   "execution_count": 73,
   "id": "06a50de5",
   "metadata": {
    "execution": {
     "iopub.execute_input": "2025-07-30T21:48:30.111675Z",
     "iopub.status.busy": "2025-07-30T21:48:30.111212Z",
     "iopub.status.idle": "2025-07-30T21:48:32.993590Z",
     "shell.execute_reply": "2025-07-30T21:48:32.992682Z"
    },
    "papermill": {
     "duration": 2.913394,
     "end_time": "2025-07-30T21:48:32.995537",
     "exception": false,
     "start_time": "2025-07-30T21:48:30.082143",
     "status": "completed"
    },
    "tags": []
   },
   "outputs": [],
   "source": [
    "example_universe = universe.copy()\n",
    "example_universe[\"cutoff\"] = example_universe[\"cutoff\"][0]\n",
    "example_universe[\"eval_fairness_grouping\"] = example_universe[\"eval_fairness_grouping\"][0]\n",
    "fairness_dict, metric_frame = universe_analysis.compute_metrics(\n",
    "    example_universe,\n",
    "    y_pred_prob=probs_test,\n",
    "    y_test=y_true,\n",
    "    org_test=org_test,\n",
    ")"
   ]
  },
  {
   "cell_type": "markdown",
   "id": "f95d4e02",
   "metadata": {
    "papermill": {
     "duration": 0.024216,
     "end_time": "2025-07-30T21:48:33.048415",
     "exception": false,
     "start_time": "2025-07-30T21:48:33.024199",
     "status": "completed"
    },
    "tags": []
   },
   "source": [
    "# Overall"
   ]
  },
  {
   "cell_type": "markdown",
   "id": "bdee4871",
   "metadata": {
    "papermill": {
     "duration": 0.024092,
     "end_time": "2025-07-30T21:48:33.098107",
     "exception": false,
     "start_time": "2025-07-30T21:48:33.074015",
     "status": "completed"
    },
    "tags": []
   },
   "source": [
    "Fairness\n",
    "Main fairness target: Equalized Odds. Seems to be a better fit than equal opportunity, since we're not only interested in Y = 1. Seems to be a better fit than demographic parity, since we also care about accuracy, not just equal distribution of preds.\n",
    "\n",
    "Pick column for computation of fairness metrics\n",
    "\n",
    "Performance\n",
    "Overall performance measures, most interesting in relation to the measures split by group below"
   ]
  },
  {
   "cell_type": "code",
   "execution_count": 74,
   "id": "c4e067c6",
   "metadata": {
    "execution": {
     "iopub.execute_input": "2025-07-30T21:48:33.150173Z",
     "iopub.status.busy": "2025-07-30T21:48:33.149532Z",
     "iopub.status.idle": "2025-07-30T21:48:33.157856Z",
     "shell.execute_reply": "2025-07-30T21:48:33.156975Z"
    },
    "papermill": {
     "duration": 0.036447,
     "end_time": "2025-07-30T21:48:33.159510",
     "exception": false,
     "start_time": "2025-07-30T21:48:33.123063",
     "status": "completed"
    },
    "tags": []
   },
   "outputs": [
    {
     "data": {
      "text/plain": [
       "accuracy                   0.218894\n",
       "balanced accuracy          0.536374\n",
       "f1                         0.240376\n",
       "precision                  0.137319\n",
       "false positive rate        0.890668\n",
       "false negative rate        0.036583\n",
       "selection rate             0.900000\n",
       "count                  89710.000000\n",
       "dtype: float64"
      ]
     },
     "execution_count": 74,
     "metadata": {},
     "output_type": "execute_result"
    }
   ],
   "source": [
    "metric_frame.overall"
   ]
  },
  {
   "cell_type": "markdown",
   "id": "e968fe9d",
   "metadata": {
    "papermill": {
     "duration": 0.024743,
     "end_time": "2025-07-30T21:48:33.210689",
     "exception": false,
     "start_time": "2025-07-30T21:48:33.185946",
     "status": "completed"
    },
    "tags": []
   },
   "source": [
    "By Group"
   ]
  },
  {
   "cell_type": "code",
   "execution_count": 75,
   "id": "ec325bce",
   "metadata": {
    "execution": {
     "iopub.execute_input": "2025-07-30T21:48:33.267409Z",
     "iopub.status.busy": "2025-07-30T21:48:33.266752Z",
     "iopub.status.idle": "2025-07-30T21:48:33.282655Z",
     "shell.execute_reply": "2025-07-30T21:48:33.281486Z"
    },
    "papermill": {
     "duration": 0.047981,
     "end_time": "2025-07-30T21:48:33.284258",
     "exception": false,
     "start_time": "2025-07-30T21:48:33.236277",
     "status": "completed"
    },
    "tags": []
   },
   "outputs": [
    {
     "data": {
      "text/html": [
       "<div>\n",
       "<style scoped>\n",
       "    .dataframe tbody tr th:only-of-type {\n",
       "        vertical-align: middle;\n",
       "    }\n",
       "\n",
       "    .dataframe tbody tr th {\n",
       "        vertical-align: top;\n",
       "    }\n",
       "\n",
       "    .dataframe thead th {\n",
       "        text-align: right;\n",
       "    }\n",
       "</style>\n",
       "<table border=\"1\" class=\"dataframe\">\n",
       "  <thead>\n",
       "    <tr style=\"text-align: right;\">\n",
       "      <th></th>\n",
       "      <th>accuracy</th>\n",
       "      <th>balanced accuracy</th>\n",
       "      <th>f1</th>\n",
       "      <th>precision</th>\n",
       "      <th>false positive rate</th>\n",
       "      <th>false negative rate</th>\n",
       "      <th>selection rate</th>\n",
       "      <th>count</th>\n",
       "    </tr>\n",
       "    <tr>\n",
       "      <th>majmin</th>\n",
       "      <th></th>\n",
       "      <th></th>\n",
       "      <th></th>\n",
       "      <th></th>\n",
       "      <th></th>\n",
       "      <th></th>\n",
       "      <th></th>\n",
       "      <th></th>\n",
       "    </tr>\n",
       "  </thead>\n",
       "  <tbody>\n",
       "    <tr>\n",
       "      <th>majority</th>\n",
       "      <td>0.231603</td>\n",
       "      <td>0.540841</td>\n",
       "      <td>0.248445</td>\n",
       "      <td>0.142660</td>\n",
       "      <td>0.879477</td>\n",
       "      <td>0.038840</td>\n",
       "      <td>0.890270</td>\n",
       "      <td>69170.0</td>\n",
       "    </tr>\n",
       "    <tr>\n",
       "      <th>minority</th>\n",
       "      <td>0.176095</td>\n",
       "      <td>0.522246</td>\n",
       "      <td>0.213871</td>\n",
       "      <td>0.120152</td>\n",
       "      <td>0.927636</td>\n",
       "      <td>0.027872</td>\n",
       "      <td>0.932765</td>\n",
       "      <td>20540.0</td>\n",
       "    </tr>\n",
       "  </tbody>\n",
       "</table>\n",
       "</div>"
      ],
      "text/plain": [
       "          accuracy  balanced accuracy        f1  precision  \\\n",
       "majmin                                                       \n",
       "majority  0.231603           0.540841  0.248445   0.142660   \n",
       "minority  0.176095           0.522246  0.213871   0.120152   \n",
       "\n",
       "          false positive rate  false negative rate  selection rate    count  \n",
       "majmin                                                                       \n",
       "majority             0.879477             0.038840        0.890270  69170.0  \n",
       "minority             0.927636             0.027872        0.932765  20540.0  "
      ]
     },
     "execution_count": 75,
     "metadata": {},
     "output_type": "execute_result"
    }
   ],
   "source": [
    "metric_frame.by_group"
   ]
  },
  {
   "cell_type": "code",
   "execution_count": 76,
   "id": "a9ddbe63",
   "metadata": {
    "execution": {
     "iopub.execute_input": "2025-07-30T21:48:33.338477Z",
     "iopub.status.busy": "2025-07-30T21:48:33.337781Z",
     "iopub.status.idle": "2025-07-30T21:48:35.622162Z",
     "shell.execute_reply": "2025-07-30T21:48:35.621234Z"
    },
    "papermill": {
     "duration": 2.312571,
     "end_time": "2025-07-30T21:48:35.623715",
     "exception": false,
     "start_time": "2025-07-30T21:48:33.311144",
     "status": "completed"
    },
    "tags": []
   },
   "outputs": [
    {
     "data": {
      "text/plain": [
       "array([[<Axes: title={'center': 'accuracy'}, xlabel='majmin'>,\n",
       "        <Axes: title={'center': 'balanced accuracy'}, xlabel='majmin'>,\n",
       "        <Axes: title={'center': 'f1'}, xlabel='majmin'>],\n",
       "       [<Axes: title={'center': 'precision'}, xlabel='majmin'>,\n",
       "        <Axes: title={'center': 'false positive rate'}, xlabel='majmin'>,\n",
       "        <Axes: title={'center': 'false negative rate'}, xlabel='majmin'>],\n",
       "       [<Axes: title={'center': 'selection rate'}, xlabel='majmin'>,\n",
       "        <Axes: title={'center': 'count'}, xlabel='majmin'>,\n",
       "        <Axes: xlabel='majmin'>]], dtype=object)"
      ]
     },
     "execution_count": 76,
     "metadata": {},
     "output_type": "execute_result"
    },
    {
     "data": {
      "image/png": "[encoded data removed]",
      "text/plain": [
       "<Figure size 1200x800 with 9 Axes>"
      ]
     },
     "metadata": {},
     "output_type": "display_data"
    }
   ],
   "source": [
    "# In a graphic\n",
    "metric_frame.by_group.plot.bar(\n",
    "    subplots=True,\n",
    "    layout=[3, 3],\n",
    "    legend=False,\n",
    "    figsize=[12, 8],\n",
    "    title=\"Show all metrics\",\n",
    ")"
   ]
  },
  {
   "cell_type": "markdown",
   "id": "f57a0bac",
   "metadata": {
    "papermill": {
     "duration": 0.026738,
     "end_time": "2025-07-30T21:48:35.678749",
     "exception": false,
     "start_time": "2025-07-30T21:48:35.652011",
     "status": "completed"
    },
    "tags": []
   },
   "source": [
    "# Final Output"
   ]
  },
  {
   "cell_type": "code",
   "execution_count": 77,
   "id": "96d280a3",
   "metadata": {
    "execution": {
     "iopub.execute_input": "2025-07-30T21:48:35.733801Z",
     "iopub.status.busy": "2025-07-30T21:48:35.733161Z",
     "iopub.status.idle": "2025-07-30T21:48:35.741323Z",
     "shell.execute_reply": "2025-07-30T21:48:35.740457Z"
    },
    "papermill": {
     "duration": 0.03771,
     "end_time": "2025-07-30T21:48:35.742726",
     "exception": false,
     "start_time": "2025-07-30T21:48:35.705016",
     "status": "completed"
    },
    "tags": []
   },
   "outputs": [
    {
     "data": {
      "text/plain": [
       "4"
      ]
     },
     "execution_count": 77,
     "metadata": {},
     "output_type": "execute_result"
    }
   ],
   "source": [
    "sub_universes = universe_analysis.generate_sub_universes()\n",
    "len(sub_universes)"
   ]
  },
  {
   "cell_type": "code",
   "execution_count": 78,
   "id": "92adf7ba",
   "metadata": {
    "execution": {
     "iopub.execute_input": "2025-07-30T21:48:35.800601Z",
     "iopub.status.busy": "2025-07-30T21:48:35.799904Z",
     "iopub.status.idle": "2025-07-30T21:48:35.805964Z",
     "shell.execute_reply": "2025-07-30T21:48:35.804948Z"
    },
    "papermill": {
     "duration": 0.036859,
     "end_time": "2025-07-30T21:48:35.807658",
     "exception": false,
     "start_time": "2025-07-30T21:48:35.770799",
     "status": "completed"
    },
    "tags": []
   },
   "outputs": [],
   "source": [
    "def filter_sub_universe_data(sub_universe, org_test):\n",
    "    # Keep all rows — no filtering\n",
    "    keep_rows_mask = np.ones(org_test.shape[0], dtype=bool)\n",
    "\n",
    "    print(f\"[INFO] Keeping all rows: {keep_rows_mask.sum()} rows retained.\")\n",
    "    return keep_rows_mask"
   ]
  },
  {
   "cell_type": "code",
   "execution_count": 79,
   "id": "4a759155",
   "metadata": {
    "execution": {
     "iopub.execute_input": "2025-07-30T21:48:35.864146Z",
     "iopub.status.busy": "2025-07-30T21:48:35.863524Z",
     "iopub.status.idle": "2025-07-30T21:48:46.367280Z",
     "shell.execute_reply": "2025-07-30T21:48:46.366225Z"
    },
    "papermill": {
     "duration": 10.532545,
     "end_time": "2025-07-30T21:48:46.368817",
     "exception": false,
     "start_time": "2025-07-30T21:48:35.836272",
     "status": "completed"
    },
    "tags": []
   },
   "outputs": [
    {
     "name": "stdout",
     "output_type": "stream",
     "text": [
      "Stopping execution_time clock.\n",
      "[INFO] Keeping all rows: 89710 rows retained.\n"
     ]
    },
    {
     "name": "stdout",
     "output_type": "stream",
     "text": [
      "[INFO] Keeping all rows: 89710 rows retained.\n"
     ]
    },
    {
     "name": "stdout",
     "output_type": "stream",
     "text": [
      "[INFO] Keeping all rows: 89710 rows retained.\n"
     ]
    },
    {
     "name": "stdout",
     "output_type": "stream",
     "text": [
      "[INFO] Keeping all rows: 89710 rows retained.\n"
     ]
    },
    {
     "data": {
      "text/html": [
       "<div>\n",
       "<style scoped>\n",
       "    .dataframe tbody tr th:only-of-type {\n",
       "        vertical-align: middle;\n",
       "    }\n",
       "\n",
       "    .dataframe tbody tr th {\n",
       "        vertical-align: top;\n",
       "    }\n",
       "\n",
       "    .dataframe thead th {\n",
       "        text-align: right;\n",
       "    }\n",
       "</style>\n",
       "<table border=\"1\" class=\"dataframe\">\n",
       "  <thead>\n",
       "    <tr style=\"text-align: right;\">\n",
       "      <th></th>\n",
       "      <th>run_no</th>\n",
       "      <th>universe_id</th>\n",
       "      <th>universe_settings</th>\n",
       "      <th>execution_time</th>\n",
       "      <th>test_size_n</th>\n",
       "      <th>test_size_frac</th>\n",
       "      <th>fair_main_equalized_odds_difference</th>\n",
       "      <th>fair_main_equalized_odds_ratio</th>\n",
       "      <th>fair_main_demographic_parity_difference</th>\n",
       "      <th>fair_main_demographic_parity_ratio</th>\n",
       "      <th>...</th>\n",
       "      <th>perf_grp_precision_0</th>\n",
       "      <th>perf_grp_precision_1</th>\n",
       "      <th>perf_grp_false positive rate_0</th>\n",
       "      <th>perf_grp_false positive rate_1</th>\n",
       "      <th>perf_grp_false negative rate_0</th>\n",
       "      <th>perf_grp_false negative rate_1</th>\n",
       "      <th>perf_grp_selection rate_0</th>\n",
       "      <th>perf_grp_selection rate_1</th>\n",
       "      <th>perf_grp_count_0</th>\n",
       "      <th>perf_grp_count_1</th>\n",
       "    </tr>\n",
       "  </thead>\n",
       "  <tbody>\n",
       "    <tr>\n",
       "      <th>0</th>\n",
       "      <td>14</td>\n",
       "      <td>b80749829f4cae62e2d5e0f58540c16c</td>\n",
       "      <td>{\"cutoff\": \"quantile_0.1\", \"eval_fairness_grou...</td>\n",
       "      <td>31.942729</td>\n",
       "      <td>89710</td>\n",
       "      <td>1.0</td>\n",
       "      <td>0.048159</td>\n",
       "      <td>0.948084</td>\n",
       "      <td>0.042495</td>\n",
       "      <td>0.954442</td>\n",
       "      <td>...</td>\n",
       "      <td>NaN</td>\n",
       "      <td>NaN</td>\n",
       "      <td>NaN</td>\n",
       "      <td>NaN</td>\n",
       "      <td>NaN</td>\n",
       "      <td>NaN</td>\n",
       "      <td>NaN</td>\n",
       "      <td>NaN</td>\n",
       "      <td>NaN</td>\n",
       "      <td>NaN</td>\n",
       "    </tr>\n",
       "    <tr>\n",
       "      <th>0</th>\n",
       "      <td>14</td>\n",
       "      <td>b80749829f4cae62e2d5e0f58540c16c</td>\n",
       "      <td>{\"cutoff\": \"quantile_0.1\", \"eval_fairness_grou...</td>\n",
       "      <td>31.942729</td>\n",
       "      <td>89710</td>\n",
       "      <td>1.0</td>\n",
       "      <td>0.048159</td>\n",
       "      <td>0.948084</td>\n",
       "      <td>0.042495</td>\n",
       "      <td>0.954442</td>\n",
       "      <td>...</td>\n",
       "      <td>0.120152</td>\n",
       "      <td>0.142660</td>\n",
       "      <td>0.927636</td>\n",
       "      <td>0.879477</td>\n",
       "      <td>0.027872</td>\n",
       "      <td>0.038840</td>\n",
       "      <td>0.932765</td>\n",
       "      <td>0.89027</td>\n",
       "      <td>20540.0</td>\n",
       "      <td>69170.0</td>\n",
       "    </tr>\n",
       "    <tr>\n",
       "      <th>0</th>\n",
       "      <td>14</td>\n",
       "      <td>b80749829f4cae62e2d5e0f58540c16c</td>\n",
       "      <td>{\"cutoff\": \"quantile_0.25\", \"eval_fairness_gro...</td>\n",
       "      <td>31.942729</td>\n",
       "      <td>89710</td>\n",
       "      <td>1.0</td>\n",
       "      <td>0.104248</td>\n",
       "      <td>0.884799</td>\n",
       "      <td>0.053287</td>\n",
       "      <td>0.930109</td>\n",
       "      <td>...</td>\n",
       "      <td>NaN</td>\n",
       "      <td>NaN</td>\n",
       "      <td>NaN</td>\n",
       "      <td>NaN</td>\n",
       "      <td>NaN</td>\n",
       "      <td>NaN</td>\n",
       "      <td>NaN</td>\n",
       "      <td>NaN</td>\n",
       "      <td>NaN</td>\n",
       "      <td>NaN</td>\n",
       "    </tr>\n",
       "    <tr>\n",
       "      <th>0</th>\n",
       "      <td>14</td>\n",
       "      <td>b80749829f4cae62e2d5e0f58540c16c</td>\n",
       "      <td>{\"cutoff\": \"quantile_0.25\", \"eval_fairness_gro...</td>\n",
       "      <td>31.942729</td>\n",
       "      <td>89710</td>\n",
       "      <td>1.0</td>\n",
       "      <td>0.104248</td>\n",
       "      <td>0.884799</td>\n",
       "      <td>0.053287</td>\n",
       "      <td>0.930109</td>\n",
       "      <td>...</td>\n",
       "      <td>0.130166</td>\n",
       "      <td>0.156832</td>\n",
       "      <td>0.697227</td>\n",
       "      <td>0.740746</td>\n",
       "      <td>0.199324</td>\n",
       "      <td>0.095077</td>\n",
       "      <td>0.709153</td>\n",
       "      <td>0.76244</td>\n",
       "      <td>20540.0</td>\n",
       "      <td>69170.0</td>\n",
       "    </tr>\n",
       "  </tbody>\n",
       "</table>\n",
       "<p>4 rows × 50 columns</p>\n",
       "</div>"
      ],
      "text/plain": [
       "  run_no                       universe_id  \\\n",
       "0     14  b80749829f4cae62e2d5e0f58540c16c   \n",
       "0     14  b80749829f4cae62e2d5e0f58540c16c   \n",
       "0     14  b80749829f4cae62e2d5e0f58540c16c   \n",
       "0     14  b80749829f4cae62e2d5e0f58540c16c   \n",
       "\n",
       "                                   universe_settings  execution_time  \\\n",
       "0  {\"cutoff\": \"quantile_0.1\", \"eval_fairness_grou...       31.942729   \n",
       "0  {\"cutoff\": \"quantile_0.1\", \"eval_fairness_grou...       31.942729   \n",
       "0  {\"cutoff\": \"quantile_0.25\", \"eval_fairness_gro...       31.942729   \n",
       "0  {\"cutoff\": \"quantile_0.25\", \"eval_fairness_gro...       31.942729   \n",
       "\n",
       "   test_size_n  test_size_frac  fair_main_equalized_odds_difference  \\\n",
       "0        89710             1.0                             0.048159   \n",
       "0        89710             1.0                             0.048159   \n",
       "0        89710             1.0                             0.104248   \n",
       "0        89710             1.0                             0.104248   \n",
       "\n",
       "   fair_main_equalized_odds_ratio  fair_main_demographic_parity_difference  \\\n",
       "0                        0.948084                                 0.042495   \n",
       "0                        0.948084                                 0.042495   \n",
       "0                        0.884799                                 0.053287   \n",
       "0                        0.884799                                 0.053287   \n",
       "\n",
       "   fair_main_demographic_parity_ratio  ...  perf_grp_precision_0  \\\n",
       "0                            0.954442  ...                   NaN   \n",
       "0                            0.954442  ...              0.120152   \n",
       "0                            0.930109  ...                   NaN   \n",
       "0                            0.930109  ...              0.130166   \n",
       "\n",
       "   perf_grp_precision_1  perf_grp_false positive rate_0  \\\n",
       "0                   NaN                             NaN   \n",
       "0              0.142660                        0.927636   \n",
       "0                   NaN                             NaN   \n",
       "0              0.156832                        0.697227   \n",
       "\n",
       "   perf_grp_false positive rate_1  perf_grp_false negative rate_0  \\\n",
       "0                             NaN                             NaN   \n",
       "0                        0.879477                        0.027872   \n",
       "0                             NaN                             NaN   \n",
       "0                        0.740746                        0.199324   \n",
       "\n",
       "   perf_grp_false negative rate_1  perf_grp_selection rate_0  \\\n",
       "0                             NaN                        NaN   \n",
       "0                        0.038840                   0.932765   \n",
       "0                             NaN                        NaN   \n",
       "0                        0.095077                   0.709153   \n",
       "\n",
       "   perf_grp_selection rate_1  perf_grp_count_0  perf_grp_count_1  \n",
       "0                        NaN               NaN               NaN  \n",
       "0                    0.89027           20540.0           69170.0  \n",
       "0                        NaN               NaN               NaN  \n",
       "0                    0.76244           20540.0           69170.0  \n",
       "\n",
       "[4 rows x 50 columns]"
      ]
     },
     "execution_count": 79,
     "metadata": {},
     "output_type": "execute_result"
    }
   ],
   "source": [
    "final_output = universe_analysis.generate_final_output(\n",
    "    y_pred_prob=probs_test,\n",
    "    y_test=y_true,\n",
    "    org_test=org_test,\n",
    "    filter_data=filter_sub_universe_data,\n",
    "    cp_metrics_df=cp_metrics_df,\n",
    "    save=True,\n",
    ")\n",
    "final_output"
   ]
  },
  {
   "cell_type": "code",
   "execution_count": null,
   "id": "721ff514-cb11-46f8-b6fc-50392f74b5cb",
   "metadata": {
    "papermill": {
     "duration": 0.030153,
     "end_time": "2025-07-30T21:48:46.431837",
     "exception": false,
     "start_time": "2025-07-30T21:48:46.401684",
     "status": "completed"
    },
    "tags": []
   },
   "outputs": [],
   "source": []
  }
 ],
 "metadata": {
  "celltoolbar": "Tags",
  "kernelspec": {
   "display_name": "Python (CMA Fairness)",
   "language": "python",
   "name": "cma_fair_env"
  },
  "language_info": {
   "codemirror_mode": {
    "name": "ipython",
    "version": 3
   },
   "file_extension": ".py",
   "mimetype": "text/x-python",
   "name": "python",
   "nbconvert_exporter": "python",
   "pygments_lexer": "ipython3",
   "version": "3.10.12"
  },
  "papermill": {
   "default_parameters": {},
   "duration": 46.468459,
   "end_time": "2025-07-30T21:48:47.280405",
   "environment_variables": {},
   "exception": null,
   "input_path": "universe_analysis.ipynb",
   "output_path": "output/runs/14/notebooks/m_14-b80749829f4cae62e2d5e0f58540c16c.ipynb",
   "parameters": {
    "output_dir": "output",
    "run_no": "14",
    "seed": "2023",
    "universe": "{\"cutoff\": [\"quantile_0.1\", \"quantile_0.25\"], \"eval_fairness_grouping\": [\"majority-minority\", \"nationality-all\"], \"exclude_features\": \"nationality-sex\", \"exclude_subgroups\": \"keep-all\", \"model\": \"elasticnet\", \"scale\": \"scale\", \"training_size\": \"1k\", \"training_year\": \"2010_14\"}",
    "universe_id": "b80749829f4cae62e2d5e0f58540c16c"
   },
   "start_time": "2025-07-30T21:48:00.811946",
   "version": "2.6.0"
  }
 },
 "nbformat": 4,
 "nbformat_minor": 5
}