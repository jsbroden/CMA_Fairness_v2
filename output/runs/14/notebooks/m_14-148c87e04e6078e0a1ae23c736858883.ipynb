{
 "cells": [
  {
   "cell_type": "code",
   "execution_count": 1,
   "id": "f159f837-637b-42ba-96b5-ec9a68c44524",
   "metadata": {
    "execution": {
     "iopub.execute_input": "2025-07-30T20:16:24.445473Z",
     "iopub.status.busy": "2025-07-30T20:16:24.444626Z",
     "iopub.status.idle": "2025-07-30T20:16:24.459495Z",
     "shell.execute_reply": "2025-07-30T20:16:24.458484Z"
    },
    "papermill": {
     "duration": 0.041357,
     "end_time": "2025-07-30T20:16:24.461407",
     "exception": false,
     "start_time": "2025-07-30T20:16:24.420050",
     "status": "completed"
    },
    "tags": []
   },
   "outputs": [
    {
     "name": "stdout",
     "output_type": "stream",
     "text": [
      "/dss/dsshome1/0C/ra93lal2/cma/CMA_Fairness_v2\n"
     ]
    },
    {
     "name": "stderr",
     "output_type": "stream",
     "text": [
      "/dss/dsshome1/0C/ra93lal2/.local/share/virtualenvs/CMA_Fairness_v2-3j10GkSs/lib/python3.10/site-packages/IPython/core/magics/osm.py:393: UserWarning: This is now an optional IPython functionality, using bookmarks requires you to install the `pickleshare` library.\n",
      "  bkms = self.shell.db.get('bookmarks', {})\n",
      "/dss/dsshome1/0C/ra93lal2/.local/share/virtualenvs/CMA_Fairness_v2-3j10GkSs/lib/python3.10/site-packages/IPython/core/magics/osm.py:417: UserWarning: This is now an optional IPython functionality, setting dhist requires you to install the `pickleshare` library.\n",
      "  self.shell.db['dhist'] = compress_dhist(dhist)[-100:]\n"
     ]
    }
   ],
   "source": [
    "%cd ~/cma/CMA_Fairness_v2"
   ]
  },
  {
   "cell_type": "markdown",
   "id": "de2603b9",
   "metadata": {
    "papermill": {
     "duration": 0.020859,
     "end_time": "2025-07-30T20:16:24.503104",
     "exception": false,
     "start_time": "2025-07-30T20:16:24.482245",
     "status": "completed"
    },
    "tags": []
   },
   "source": [
    "The following cell holds the definition of our parameters, these values can be overriden by rendering the with e.g. the following command:\n",
    "\n",
    "papermill -p alpha 0.2 -p ratio 0.3 universe_analysis.ipynb output/test_run.ipynb"
   ]
  },
  {
   "cell_type": "code",
   "execution_count": 2,
   "id": "a80968a0-40bb-4fa9-85ef-2d5eefb01975",
   "metadata": {
    "execution": {
     "iopub.execute_input": "2025-07-30T20:16:24.545759Z",
     "iopub.status.busy": "2025-07-30T20:16:24.545121Z",
     "iopub.status.idle": "2025-07-30T20:16:24.550909Z",
     "shell.execute_reply": "2025-07-30T20:16:24.549891Z"
    },
    "papermill": {
     "duration": 0.029082,
     "end_time": "2025-07-30T20:16:24.552671",
     "exception": false,
     "start_time": "2025-07-30T20:16:24.523589",
     "status": "completed"
    },
    "tags": []
   },
   "outputs": [
    {
     "name": "stdout",
     "output_type": "stream",
     "text": [
      "Current working directory: /dss/dsshome1/0C/ra93lal2/cma/CMA_Fairness_v2\n"
     ]
    }
   ],
   "source": [
    "import os\n",
    "print(\"Current working directory:\", os.getcwd())"
   ]
  },
  {
   "cell_type": "code",
   "execution_count": 3,
   "id": "2dce4c03",
   "metadata": {
    "execution": {
     "iopub.execute_input": "2025-07-30T20:16:24.597256Z",
     "iopub.status.busy": "2025-07-30T20:16:24.596473Z",
     "iopub.status.idle": "2025-07-30T20:16:24.602848Z",
     "shell.execute_reply": "2025-07-30T20:16:24.601984Z"
    },
    "papermill": {
     "duration": 0.029524,
     "end_time": "2025-07-30T20:16:24.604463",
     "exception": false,
     "start_time": "2025-07-30T20:16:24.574939",
     "status": "completed"
    },
    "tags": [
     "parameters"
    ]
   },
   "outputs": [],
   "source": [
    "run_no = 0\n",
    "universe_id = \"test\"\n",
    "universe = {\n",
    "    \"training_size\": \"25k\", # \"25k\", \"5k\", \"1k\"\n",
    "    \"training_year\": \"2014\", # \"2014\", \"2012_14\", \"2010_14\"\n",
    "    \"scale\": \"scale\", # \"scale\", \"do-not-scale\",\n",
    "    #\"stratify_split\": \"target\", # \"none\", \"target\", \"protected-attribute\", \"both\",\n",
    "    \"model\": \"elasticnet\", # \"logreg\", \"penalized_logreg\", \"rf\", \"gbm\", \"elasticnet\"\n",
    "    \"cutoff\": [\"quantile_0.15\", \"quantile_0.30\"],\n",
    "    \"exclude_features\": \"age\", # \"none\", \"nationality\", \"sex\", \"nationality-sex\", \"age\"\n",
    "    \"exclude_subgroups\": \"keep-all\", # \"keep-all\", \"drop-non-german\"\n",
    "    \"eval_fairness_grouping\": [\"majority-minority\", \"nationality-all\"]\n",
    "}\n",
    "\n",
    "output_dir=\"./output\"\n",
    "seed=0"
   ]
  },
  {
   "cell_type": "code",
   "execution_count": 4,
   "id": "6952a79f",
   "metadata": {
    "execution": {
     "iopub.execute_input": "2025-07-30T20:16:24.646772Z",
     "iopub.status.busy": "2025-07-30T20:16:24.646108Z",
     "iopub.status.idle": "2025-07-30T20:16:24.651447Z",
     "shell.execute_reply": "2025-07-30T20:16:24.650582Z"
    },
    "papermill": {
     "duration": 0.028637,
     "end_time": "2025-07-30T20:16:24.653067",
     "exception": false,
     "start_time": "2025-07-30T20:16:24.624430",
     "status": "completed"
    },
    "tags": [
     "injected-parameters"
    ]
   },
   "outputs": [],
   "source": [
    "# Parameters\n",
    "universe_id = \"148c87e04e6078e0a1ae23c736858883\"\n",
    "run_no = \"14\"\n",
    "universe = \"{\\\"cutoff\\\": [\\\"quantile_0.1\\\", \\\"quantile_0.25\\\"], \\\"eval_fairness_grouping\\\": [\\\"majority-minority\\\", \\\"nationality-all\\\"], \\\"exclude_features\\\": \\\"none\\\", \\\"exclude_subgroups\\\": \\\"drop-non-german\\\", \\\"model\\\": \\\"penalized_logreg\\\", \\\"scale\\\": \\\"do-not-scale\\\", \\\"training_size\\\": \\\"25k\\\", \\\"training_year\\\": \\\"2012_14\\\"}\"\n",
    "output_dir = \"output\"\n",
    "seed = \"2023\"\n"
   ]
  },
  {
   "cell_type": "code",
   "execution_count": 5,
   "id": "1650acaf",
   "metadata": {
    "execution": {
     "iopub.execute_input": "2025-07-30T20:16:24.694148Z",
     "iopub.status.busy": "2025-07-30T20:16:24.693783Z",
     "iopub.status.idle": "2025-07-30T20:16:24.697985Z",
     "shell.execute_reply": "2025-07-30T20:16:24.697340Z"
    },
    "papermill": {
     "duration": 0.029565,
     "end_time": "2025-07-30T20:16:24.702276",
     "exception": false,
     "start_time": "2025-07-30T20:16:24.672711",
     "status": "completed"
    },
    "tags": []
   },
   "outputs": [],
   "source": [
    "import json\n",
    "# Parse universe into dict if it is passed as a string\n",
    "if isinstance(universe, str):\n",
    "    universe = json.loads(universe)"
   ]
  },
  {
   "cell_type": "code",
   "execution_count": 6,
   "id": "16620c48",
   "metadata": {
    "execution": {
     "iopub.execute_input": "2025-07-30T20:16:24.741383Z",
     "iopub.status.busy": "2025-07-30T20:16:24.741082Z",
     "iopub.status.idle": "2025-07-30T20:16:24.786924Z",
     "shell.execute_reply": "2025-07-30T20:16:24.784404Z"
    },
    "papermill": {
     "duration": 0.067307,
     "end_time": "2025-07-30T20:16:24.789301",
     "exception": false,
     "start_time": "2025-07-30T20:16:24.721994",
     "status": "completed"
    },
    "tags": []
   },
   "outputs": [],
   "source": [
    "# Auto-reload the custom package\n",
    "%load_ext autoreload\n",
    "%autoreload 1\n",
    "%aimport fairness_multiverse"
   ]
  },
  {
   "cell_type": "code",
   "execution_count": 7,
   "id": "01c5c9f3",
   "metadata": {
    "execution": {
     "iopub.execute_input": "2025-07-30T20:16:24.836371Z",
     "iopub.status.busy": "2025-07-30T20:16:24.835786Z",
     "iopub.status.idle": "2025-07-30T20:16:26.818316Z",
     "shell.execute_reply": "2025-07-30T20:16:26.817241Z"
    },
    "papermill": {
     "duration": 2.007941,
     "end_time": "2025-07-30T20:16:26.820408",
     "exception": false,
     "start_time": "2025-07-30T20:16:24.812467",
     "status": "completed"
    },
    "tags": []
   },
   "outputs": [],
   "source": [
    "from fairness_multiverse.universe import UniverseAnalysis\n",
    "\n",
    "universe_analysis = UniverseAnalysis(\n",
    "    run_no = run_no,\n",
    "    universe_id = universe_id,\n",
    "    universe = universe,\n",
    "    output_dir=output_dir,\n",
    ")"
   ]
  },
  {
   "cell_type": "code",
   "execution_count": 8,
   "id": "106241f5",
   "metadata": {
    "execution": {
     "iopub.execute_input": "2025-07-30T20:16:26.863726Z",
     "iopub.status.busy": "2025-07-30T20:16:26.862801Z",
     "iopub.status.idle": "2025-07-30T20:16:26.870544Z",
     "shell.execute_reply": "2025-07-30T20:16:26.869442Z"
    },
    "papermill": {
     "duration": 0.031575,
     "end_time": "2025-07-30T20:16:26.872777",
     "exception": false,
     "start_time": "2025-07-30T20:16:26.841202",
     "status": "completed"
    },
    "tags": []
   },
   "outputs": [
    {
     "name": "stdout",
     "output_type": "stream",
     "text": [
      "Using Seed: 2023\n"
     ]
    }
   ],
   "source": [
    "import numpy as np\n",
    "parsed_seed = int(seed)\n",
    "np.random.seed(parsed_seed)\n",
    "print(f\"Using Seed: {parsed_seed}\")"
   ]
  },
  {
   "cell_type": "markdown",
   "id": "e0ebdc57",
   "metadata": {
    "papermill": {
     "duration": 0.025276,
     "end_time": "2025-07-30T20:16:26.924347",
     "exception": false,
     "start_time": "2025-07-30T20:16:26.899071",
     "status": "completed"
    },
    "tags": []
   },
   "source": [
    "# Loading Data"
   ]
  },
  {
   "cell_type": "markdown",
   "id": "681925a3",
   "metadata": {
    "papermill": {
     "duration": 0.026298,
     "end_time": "2025-07-30T20:16:26.976346",
     "exception": false,
     "start_time": "2025-07-30T20:16:26.950048",
     "status": "completed"
    },
    "tags": []
   },
   "source": [
    "Load siab_train, siab_test, siab_calib and/or \n",
    "load siab_train_features, siab_train_labels"
   ]
  },
  {
   "cell_type": "code",
   "execution_count": 9,
   "id": "f0496b8a",
   "metadata": {
    "execution": {
     "iopub.execute_input": "2025-07-30T20:16:27.030515Z",
     "iopub.status.busy": "2025-07-30T20:16:27.029799Z",
     "iopub.status.idle": "2025-07-30T20:16:38.360789Z",
     "shell.execute_reply": "2025-07-30T20:16:38.359627Z"
    },
    "papermill": {
     "duration": 11.360082,
     "end_time": "2025-07-30T20:16:38.362611",
     "exception": false,
     "start_time": "2025-07-30T20:16:27.002529",
     "status": "completed"
    },
    "tags": []
   },
   "outputs": [
    {
     "name": "stdout",
     "output_type": "stream",
     "text": [
      "Loading SIAB data from cache: data/siab_cached.csv.gz\n"
     ]
    },
    {
     "name": "stdout",
     "output_type": "stream",
     "text": [
      "(643690, 164)\n"
     ]
    }
   ],
   "source": [
    "from pathlib import Path\n",
    "import pandas as pd\n",
    "\n",
    "# File paths\n",
    "raw_file = Path(\"data/raw/siab.csv\")\n",
    "cache_file = Path(\"data/siab_cached.csv.gz\")\n",
    "\n",
    "# Ensure cache directory exists\n",
    "cache_file.parent.mkdir(parents=True, exist_ok=True)\n",
    "\n",
    "# Load with simple caching\n",
    "if cache_file.exists():\n",
    "    print(f\"Loading SIAB data from cache: {cache_file}\")\n",
    "    siab = pd.read_csv(cache_file, compression='gzip')\n",
    "else:\n",
    "    print(f\"Cache not found. Reading raw SIAB data: {raw_file}\")\n",
    "    siab = pd.read_csv(raw_file)\n",
    "    siab.to_csv(cache_file, index=False, compression='gzip')\n",
    "    print(f\"Cached SIAB data to: {cache_file}\")\n",
    "\n",
    "# Now use `siab` DataFrame as needed\n",
    "print(siab.shape)"
   ]
  },
  {
   "cell_type": "code",
   "execution_count": 10,
   "id": "db0ca512-5f53-4dba-abdb-a2888bca41ba",
   "metadata": {
    "execution": {
     "iopub.execute_input": "2025-07-30T20:16:38.410891Z",
     "iopub.status.busy": "2025-07-30T20:16:38.410005Z",
     "iopub.status.idle": "2025-07-30T20:16:38.416120Z",
     "shell.execute_reply": "2025-07-30T20:16:38.415154Z"
    },
    "papermill": {
     "duration": 0.028854,
     "end_time": "2025-07-30T20:16:38.417607",
     "exception": false,
     "start_time": "2025-07-30T20:16:38.388753",
     "status": "completed"
    },
    "tags": []
   },
   "outputs": [],
   "source": [
    "#siab"
   ]
  },
  {
   "cell_type": "code",
   "execution_count": 11,
   "id": "a0edb063",
   "metadata": {
    "execution": {
     "iopub.execute_input": "2025-07-30T20:16:38.460125Z",
     "iopub.status.busy": "2025-07-30T20:16:38.459557Z",
     "iopub.status.idle": "2025-07-30T20:16:38.464841Z",
     "shell.execute_reply": "2025-07-30T20:16:38.463878Z"
    },
    "papermill": {
     "duration": 0.029181,
     "end_time": "2025-07-30T20:16:38.466535",
     "exception": false,
     "start_time": "2025-07-30T20:16:38.437354",
     "status": "completed"
    },
    "tags": []
   },
   "outputs": [],
   "source": [
    "#import pandas as pd\n",
    "#\n",
    "#X_train = pd.read_csv(\"./data/X_train.csv\")\n",
    "#y_train = pd.read_csv(\"./data/y_train.csv\")"
   ]
  },
  {
   "cell_type": "code",
   "execution_count": 12,
   "id": "63d08085",
   "metadata": {
    "execution": {
     "iopub.execute_input": "2025-07-30T20:16:38.508163Z",
     "iopub.status.busy": "2025-07-30T20:16:38.507634Z",
     "iopub.status.idle": "2025-07-30T20:16:38.512604Z",
     "shell.execute_reply": "2025-07-30T20:16:38.511586Z"
    },
    "papermill": {
     "duration": 0.027708,
     "end_time": "2025-07-30T20:16:38.514454",
     "exception": false,
     "start_time": "2025-07-30T20:16:38.486746",
     "status": "completed"
    },
    "tags": []
   },
   "outputs": [],
   "source": [
    "#X_test = pd.read_csv(\"./data/X_test.csv\")\n",
    "#y_true = pd.read_csv(\"./data/y_test.csv\")"
   ]
  },
  {
   "cell_type": "code",
   "execution_count": 13,
   "id": "98a8d0fa-1d3d-4ed8-bb2c-281470e24add",
   "metadata": {
    "execution": {
     "iopub.execute_input": "2025-07-30T20:16:38.558585Z",
     "iopub.status.busy": "2025-07-30T20:16:38.557742Z",
     "iopub.status.idle": "2025-07-30T20:16:38.562845Z",
     "shell.execute_reply": "2025-07-30T20:16:38.561922Z"
    },
    "papermill": {
     "duration": 0.028552,
     "end_time": "2025-07-30T20:16:38.564537",
     "exception": false,
     "start_time": "2025-07-30T20:16:38.535985",
     "status": "completed"
    },
    "tags": []
   },
   "outputs": [],
   "source": [
    "# Calibration data for conformal\n",
    "#X_calib = pd.read_csv(\"./data/X_calib.csv\")\n",
    "#y_calib = pd.read_csv(\"./data/y_calib.csv\")"
   ]
  },
  {
   "cell_type": "markdown",
   "id": "997051c5-15bd-4b69-9786-c3001a3ce484",
   "metadata": {
    "papermill": {
     "duration": 0.020603,
     "end_time": "2025-07-30T20:16:38.606693",
     "exception": false,
     "start_time": "2025-07-30T20:16:38.586090",
     "status": "completed"
    },
    "tags": []
   },
   "source": [
    "# Splitting Data and Setting Training Data Size"
   ]
  },
  {
   "cell_type": "code",
   "execution_count": 14,
   "id": "e993b61f-042d-41a6-8c81-f55681f86335",
   "metadata": {
    "execution": {
     "iopub.execute_input": "2025-07-30T20:16:38.651701Z",
     "iopub.status.busy": "2025-07-30T20:16:38.651229Z",
     "iopub.status.idle": "2025-07-30T20:16:38.667953Z",
     "shell.execute_reply": "2025-07-30T20:16:38.666804Z"
    },
    "papermill": {
     "duration": 0.041229,
     "end_time": "2025-07-30T20:16:38.669653",
     "exception": false,
     "start_time": "2025-07-30T20:16:38.628424",
     "status": "completed"
    },
    "tags": []
   },
   "outputs": [],
   "source": [
    "def sample_by_year_size(df,\n",
    "                        training_year: str,\n",
    "                        training_size: str,\n",
    "                        random_state: int = 42):\n",
    "    # --- parse training_year into a list of int years ---\n",
    "    if \"_\" in training_year:\n",
    "        start_str, end_str = training_year.split(\"_\", 1)\n",
    "        start = int(start_str)\n",
    "        end   = int(end_str) if len(end_str) == 4 else (int(end_str) + (start // 100)*100)\n",
    "        years = list(range(start, end + 1))\n",
    "    else:\n",
    "        years = [int(training_year)]\n",
    "\n",
    "    df = df[df[\"year\"].isin(years)].reset_index(drop=True)\n",
    "\n",
    "    # --- map training_size to total number of samples ---\n",
    "    total_map = {\"25k\": 25_000, \"5k\": 5_000, \"1k\": 1_000}\n",
    "    if training_size not in total_map:\n",
    "        return df  # e.g. \"all\"\n",
    "\n",
    "    total_samples = total_map[training_size]\n",
    "    n_years       = len(years)\n",
    "    base          = total_samples // n_years\n",
    "    remainder     = total_samples % n_years\n",
    "\n",
    "    # --- build a dict: year -> how many to sample ---\n",
    "    # give +1 to the first `remainder` years in ascending order\n",
    "    quotas = {\n",
    "        year: base + (1 if idx < remainder else 0)\n",
    "        for idx, year in enumerate(sorted(years))\n",
    "    }\n",
    "\n",
    "    # --- sample per‐year according to the quota dict ---\n",
    "    sampled = (\n",
    "        df\n",
    "        .groupby(\"year\", group_keys=False)\n",
    "        .apply(lambda grp: grp.sample(\n",
    "            n=min(len(grp), quotas[grp.name]),\n",
    "            random_state=random_state))\n",
    "        .reset_index(drop=True)\n",
    "    )\n",
    "\n",
    "    return sampled"
   ]
  },
  {
   "cell_type": "code",
   "execution_count": 15,
   "id": "c0ccd338-0e02-41f3-a09d-f56f9266e3fb",
   "metadata": {
    "execution": {
     "iopub.execute_input": "2025-07-30T20:16:38.715709Z",
     "iopub.status.busy": "2025-07-30T20:16:38.714691Z",
     "iopub.status.idle": "2025-07-30T20:16:38.719943Z",
     "shell.execute_reply": "2025-07-30T20:16:38.718978Z"
    },
    "papermill": {
     "duration": 0.030041,
     "end_time": "2025-07-30T20:16:38.721717",
     "exception": false,
     "start_time": "2025-07-30T20:16:38.691676",
     "status": "completed"
    },
    "tags": []
   },
   "outputs": [],
   "source": [
    "#universe[\"training_size\"]"
   ]
  },
  {
   "cell_type": "code",
   "execution_count": 16,
   "id": "ca707fd7-8047-4acd-bfa5-66248fbbf8e6",
   "metadata": {
    "execution": {
     "iopub.execute_input": "2025-07-30T20:16:38.768935Z",
     "iopub.status.busy": "2025-07-30T20:16:38.767853Z",
     "iopub.status.idle": "2025-07-30T20:16:38.773316Z",
     "shell.execute_reply": "2025-07-30T20:16:38.772307Z"
    },
    "papermill": {
     "duration": 0.03086,
     "end_time": "2025-07-30T20:16:38.775008",
     "exception": false,
     "start_time": "2025-07-30T20:16:38.744148",
     "status": "completed"
    },
    "tags": []
   },
   "outputs": [],
   "source": [
    "#universe[\"training_year\"]"
   ]
  },
  {
   "cell_type": "code",
   "execution_count": 17,
   "id": "aea9c6ef-6f46-42c8-85eb-5a62025c1508",
   "metadata": {
    "execution": {
     "iopub.execute_input": "2025-07-30T20:16:38.821281Z",
     "iopub.status.busy": "2025-07-30T20:16:38.820343Z",
     "iopub.status.idle": "2025-07-30T20:16:39.504049Z",
     "shell.execute_reply": "2025-07-30T20:16:39.502946Z"
    },
    "papermill": {
     "duration": 0.708796,
     "end_time": "2025-07-30T20:16:39.506257",
     "exception": false,
     "start_time": "2025-07-30T20:16:38.797461",
     "status": "completed"
    },
    "tags": []
   },
   "outputs": [],
   "source": [
    "siab_train = sample_by_year_size(siab,\n",
    "                               training_year=universe[\"training_year\"],\n",
    "                               training_size=universe[\"training_size\"])"
   ]
  },
  {
   "cell_type": "code",
   "execution_count": 18,
   "id": "8d3afb32-789d-442c-8d5d-9f5aa8dd2eed",
   "metadata": {
    "execution": {
     "iopub.execute_input": "2025-07-30T20:16:39.551949Z",
     "iopub.status.busy": "2025-07-30T20:16:39.551405Z",
     "iopub.status.idle": "2025-07-30T20:16:39.556978Z",
     "shell.execute_reply": "2025-07-30T20:16:39.556011Z"
    },
    "papermill": {
     "duration": 0.030344,
     "end_time": "2025-07-30T20:16:39.558618",
     "exception": false,
     "start_time": "2025-07-30T20:16:39.528274",
     "status": "completed"
    },
    "tags": []
   },
   "outputs": [],
   "source": [
    "#siab_train.shape"
   ]
  },
  {
   "cell_type": "code",
   "execution_count": 19,
   "id": "d582db68-1a4c-47fb-84fc-08518dc1975a",
   "metadata": {
    "execution": {
     "iopub.execute_input": "2025-07-30T20:16:39.604408Z",
     "iopub.status.busy": "2025-07-30T20:16:39.603848Z",
     "iopub.status.idle": "2025-07-30T20:16:39.609302Z",
     "shell.execute_reply": "2025-07-30T20:16:39.608180Z"
    },
    "papermill": {
     "duration": 0.030425,
     "end_time": "2025-07-30T20:16:39.611122",
     "exception": false,
     "start_time": "2025-07-30T20:16:39.580697",
     "status": "completed"
    },
    "tags": []
   },
   "outputs": [],
   "source": [
    "#display(siab_train.groupby(\"year\").size())"
   ]
  },
  {
   "cell_type": "code",
   "execution_count": 20,
   "id": "a561edb4-d032-42cb-8256-22eac1111c64",
   "metadata": {
    "execution": {
     "iopub.execute_input": "2025-07-30T20:16:39.668980Z",
     "iopub.status.busy": "2025-07-30T20:16:39.668342Z",
     "iopub.status.idle": "2025-07-30T20:16:39.909403Z",
     "shell.execute_reply": "2025-07-30T20:16:39.908407Z"
    },
    "papermill": {
     "duration": 0.273378,
     "end_time": "2025-07-30T20:16:39.911533",
     "exception": false,
     "start_time": "2025-07-30T20:16:39.638155",
     "status": "completed"
    },
    "tags": []
   },
   "outputs": [],
   "source": [
    "#siab_train = siab_s[siab_s.year < 2015]\n",
    "siab_calib = siab[siab.year == 2015]\n",
    "siab_test = siab[siab.year == 2016]"
   ]
  },
  {
   "cell_type": "code",
   "execution_count": 21,
   "id": "472de16f-c3db-4916-846b-1f0de9cf1746",
   "metadata": {
    "execution": {
     "iopub.execute_input": "2025-07-30T20:16:39.973009Z",
     "iopub.status.busy": "2025-07-30T20:16:39.972288Z",
     "iopub.status.idle": "2025-07-30T20:16:39.989333Z",
     "shell.execute_reply": "2025-07-30T20:16:39.988299Z"
    },
    "papermill": {
     "duration": 0.04719,
     "end_time": "2025-07-30T20:16:39.990862",
     "exception": false,
     "start_time": "2025-07-30T20:16:39.943672",
     "status": "completed"
    },
    "tags": []
   },
   "outputs": [],
   "source": [
    "X_train = siab_train.iloc[:,4:164]\n",
    "y_train = siab_train.iloc[:, [3]]"
   ]
  },
  {
   "cell_type": "code",
   "execution_count": 22,
   "id": "828c96af-f43a-4ed6-ba47-8ac73a47d56c",
   "metadata": {
    "execution": {
     "iopub.execute_input": "2025-07-30T20:16:40.043613Z",
     "iopub.status.busy": "2025-07-30T20:16:40.042576Z",
     "iopub.status.idle": "2025-07-30T20:16:40.095197Z",
     "shell.execute_reply": "2025-07-30T20:16:40.094311Z"
    },
    "papermill": {
     "duration": 0.077507,
     "end_time": "2025-07-30T20:16:40.097273",
     "exception": false,
     "start_time": "2025-07-30T20:16:40.019766",
     "status": "completed"
    },
    "tags": []
   },
   "outputs": [],
   "source": [
    "X_calib = siab_calib.iloc[:,4:164]\n",
    "y_calib = siab_calib.iloc[:, [3]]"
   ]
  },
  {
   "cell_type": "code",
   "execution_count": 23,
   "id": "c34be9c3-6bd6-476e-acd3-845840e303be",
   "metadata": {
    "execution": {
     "iopub.execute_input": "2025-07-30T20:16:40.143771Z",
     "iopub.status.busy": "2025-07-30T20:16:40.143278Z",
     "iopub.status.idle": "2025-07-30T20:16:40.199550Z",
     "shell.execute_reply": "2025-07-30T20:16:40.198433Z"
    },
    "papermill": {
     "duration": 0.080841,
     "end_time": "2025-07-30T20:16:40.201205",
     "exception": false,
     "start_time": "2025-07-30T20:16:40.120364",
     "status": "completed"
    },
    "tags": []
   },
   "outputs": [],
   "source": [
    "X_test = siab_test.iloc[:,4:164]\n",
    "y_true = siab_test.iloc[:, [3]]"
   ]
  },
  {
   "cell_type": "markdown",
   "id": "9901737e-04df-44f0-9100-f5ad144ed040",
   "metadata": {
    "papermill": {
     "duration": 0.021572,
     "end_time": "2025-07-30T20:16:40.245084",
     "exception": false,
     "start_time": "2025-07-30T20:16:40.223512",
     "status": "completed"
    },
    "tags": []
   },
   "source": [
    "# Splitting Data and Setting Training Data Size OLD VERSION"
   ]
  },
  {
   "cell_type": "code",
   "execution_count": 24,
   "id": "acbc8f7d-8fc8-4e86-8c59-5dcb0f58384b",
   "metadata": {
    "execution": {
     "iopub.execute_input": "2025-07-30T20:16:40.290888Z",
     "iopub.status.busy": "2025-07-30T20:16:40.290397Z",
     "iopub.status.idle": "2025-07-30T20:16:40.296551Z",
     "shell.execute_reply": "2025-07-30T20:16:40.295468Z"
    },
    "papermill": {
     "duration": 0.030969,
     "end_time": "2025-07-30T20:16:40.298208",
     "exception": false,
     "start_time": "2025-07-30T20:16:40.267239",
     "status": "completed"
    },
    "tags": []
   },
   "outputs": [],
   "source": [
    "#def sample_by_year(df, training_size, random_state=42):\n",
    "#    if training_size == \"2014\":\n",
    "#        return df[df[\"year\"] == 2014].reset_index(drop=True)\n",
    "#    \n",
    "#    size_map = {\n",
    "#        \"25k\": 5000,\n",
    "#        \"5k\": 1000,\n",
    "#        \"1k\": 200\n",
    "#    }\n",
    "#\n",
    "#    if training_size not in size_map:\n",
    "#        return df.reset_index(drop=True)  # use all data\n",
    "#\n",
    "#    n_per_year = size_map[training_size]\n",
    "#    grouped = df.groupby(\"year\")\n",
    "#    sampled = grouped.apply(lambda x: x.sample(n=min(n_per_year, len(x)), random_state=random_state))\n",
    "#    return sampled.reset_index(drop=True)"
   ]
  },
  {
   "cell_type": "code",
   "execution_count": 25,
   "id": "6d931f52-beaf-43ff-9e78-9d44a448d54e",
   "metadata": {
    "execution": {
     "iopub.execute_input": "2025-07-30T20:16:40.345266Z",
     "iopub.status.busy": "2025-07-30T20:16:40.344629Z",
     "iopub.status.idle": "2025-07-30T20:16:40.353866Z",
     "shell.execute_reply": "2025-07-30T20:16:40.352555Z"
    },
    "papermill": {
     "duration": 0.034841,
     "end_time": "2025-07-30T20:16:40.355999",
     "exception": false,
     "start_time": "2025-07-30T20:16:40.321158",
     "status": "completed"
    },
    "tags": []
   },
   "outputs": [],
   "source": [
    "#siab_s = sample_by_year(siab, universe[\"training_size\"])"
   ]
  },
  {
   "cell_type": "code",
   "execution_count": 26,
   "id": "5db0a40e-a4e2-4920-be85-b12ae061d70d",
   "metadata": {
    "execution": {
     "iopub.execute_input": "2025-07-30T20:16:40.408736Z",
     "iopub.status.busy": "2025-07-30T20:16:40.408180Z",
     "iopub.status.idle": "2025-07-30T20:16:40.413438Z",
     "shell.execute_reply": "2025-07-30T20:16:40.412510Z"
    },
    "papermill": {
     "duration": 0.033665,
     "end_time": "2025-07-30T20:16:40.415292",
     "exception": false,
     "start_time": "2025-07-30T20:16:40.381627",
     "status": "completed"
    },
    "tags": []
   },
   "outputs": [],
   "source": [
    "#display(siab_s.groupby(\"year\").size())"
   ]
  },
  {
   "cell_type": "code",
   "execution_count": 27,
   "id": "e6c733c5",
   "metadata": {
    "execution": {
     "iopub.execute_input": "2025-07-30T20:16:40.463113Z",
     "iopub.status.busy": "2025-07-30T20:16:40.462686Z",
     "iopub.status.idle": "2025-07-30T20:16:40.645145Z",
     "shell.execute_reply": "2025-07-30T20:16:40.643846Z"
    },
    "papermill": {
     "duration": 0.209074,
     "end_time": "2025-07-30T20:16:40.647253",
     "exception": false,
     "start_time": "2025-07-30T20:16:40.438179",
     "status": "completed"
    },
    "tags": []
   },
   "outputs": [],
   "source": [
    "# Auxiliary data needed downstream in the pipeline\n",
    "\n",
    "org_train = X_train.copy()\n",
    "org_test = X_test.copy()\n",
    "org_calib = X_calib.copy()"
   ]
  },
  {
   "cell_type": "code",
   "execution_count": 28,
   "id": "1466abac-c6da-4492-a62f-4240ae3783af",
   "metadata": {
    "execution": {
     "iopub.execute_input": "2025-07-30T20:16:40.696408Z",
     "iopub.status.busy": "2025-07-30T20:16:40.695799Z",
     "iopub.status.idle": "2025-07-30T20:16:40.702310Z",
     "shell.execute_reply": "2025-07-30T20:16:40.701222Z"
    },
    "papermill": {
     "duration": 0.032995,
     "end_time": "2025-07-30T20:16:40.704078",
     "exception": false,
     "start_time": "2025-07-30T20:16:40.671083",
     "status": "completed"
    },
    "tags": []
   },
   "outputs": [],
   "source": [
    "# put in other script?\n",
    "# Group sizes\n",
    "\n",
    "#def calculate_percentages(df, df_name):\n",
    "#    total_entries = len(df)\n",
    "#\n",
    "#    female_pct = (df['frau1'] == 1).mean() * 100\n",
    "#    non_german_pct = ((df['maxdeutsch1'] == 0) & (df['maxdeutsch.Missing.'] == 0)).mean() * 100\n",
    "#    non_german_male_pct = ((df['frau1'] == 0) & (df['maxdeutsch1'] == 0) & (df['maxdeutsch.Missing.'] == 0)).mean() * 100\n",
    "#    non_german_female_pct = ((df['frau1'] == 1) & (df['maxdeutsch1'] == 0) & (df['maxdeutsch.Missing.'] == 0)).mean() * 100\n",
    "#\n",
    "#    print(f\"--- {df_name} ---\")\n",
    "#    print(f\"Female: {female_pct:.2f}%\")\n",
    "#    print(f\"Non-German: {non_german_pct:.2f}%\")\n",
    "#    print(f\"Non-German Male: {non_german_male_pct:.2f}%\")\n",
    "#    print(f\"Non-German Female: {non_german_female_pct:.2f}%\\n\")\n",
    "#\n",
    "## Calculate for each DataFrame\n",
    "#calculate_percentages(siab_calib, \"siab_calib\")\n",
    "#calculate_percentages(siab_test, \"siab_test\")\n",
    "#calculate_percentages(siab_train, \"siab_train\")"
   ]
  },
  {
   "cell_type": "markdown",
   "id": "0a4a1b33",
   "metadata": {
    "papermill": {
     "duration": 0.022149,
     "end_time": "2025-07-30T20:16:40.748800",
     "exception": false,
     "start_time": "2025-07-30T20:16:40.726651",
     "status": "completed"
    },
    "tags": []
   },
   "source": [
    "# Preprocessing Data"
   ]
  },
  {
   "cell_type": "code",
   "execution_count": 29,
   "id": "ca879031",
   "metadata": {
    "execution": {
     "iopub.execute_input": "2025-07-30T20:16:40.795269Z",
     "iopub.status.busy": "2025-07-30T20:16:40.794753Z",
     "iopub.status.idle": "2025-07-30T20:16:40.801043Z",
     "shell.execute_reply": "2025-07-30T20:16:40.800081Z"
    },
    "papermill": {
     "duration": 0.031754,
     "end_time": "2025-07-30T20:16:40.802816",
     "exception": false,
     "start_time": "2025-07-30T20:16:40.771062",
     "status": "completed"
    },
    "tags": []
   },
   "outputs": [],
   "source": [
    "# EXCLUDE PROTECTED FEATURES\n",
    "# ----------------------\n",
    "# \"exclude_features\": \"none\", # \"nationality\", \"sex\", \"nationality-sex\"\n",
    "\n",
    "excluded_features = universe[\"exclude_features\"].split(\"-\") # split, e.g.: \"nationality-sex\" -> [\"nationality\", \"sex\"]\n",
    "excluded_features_dictionary = {\n",
    "    \"nationality\": [\"maxdeutsch1\", \"maxdeutsch.Missing.\"],\n",
    "    \"sex\": [\"frau1\"],\n",
    "    \"age\": [\"age\"],\n",
    "}\n"
   ]
  },
  {
   "cell_type": "code",
   "execution_count": 30,
   "id": "b745ac60",
   "metadata": {
    "execution": {
     "iopub.execute_input": "2025-07-30T20:16:40.851931Z",
     "iopub.status.busy": "2025-07-30T20:16:40.851381Z",
     "iopub.status.idle": "2025-07-30T20:16:40.856490Z",
     "shell.execute_reply": "2025-07-30T20:16:40.855382Z"
    },
    "papermill": {
     "duration": 0.030742,
     "end_time": "2025-07-30T20:16:40.858213",
     "exception": false,
     "start_time": "2025-07-30T20:16:40.827471",
     "status": "completed"
    },
    "tags": []
   },
   "outputs": [],
   "source": [
    "# Code nice names to column names\n",
    "\n",
    "excluded_features_columns = [\n",
    "    excluded_features_dictionary[f] for f in excluded_features if len(f) > 0 and f != \"none\"\n",
    "]"
   ]
  },
  {
   "cell_type": "code",
   "execution_count": 31,
   "id": "f84f73a2",
   "metadata": {
    "execution": {
     "iopub.execute_input": "2025-07-30T20:16:40.906047Z",
     "iopub.status.busy": "2025-07-30T20:16:40.905328Z",
     "iopub.status.idle": "2025-07-30T20:16:40.911454Z",
     "shell.execute_reply": "2025-07-30T20:16:40.910684Z"
    },
    "papermill": {
     "duration": 0.030782,
     "end_time": "2025-07-30T20:16:40.912980",
     "exception": false,
     "start_time": "2025-07-30T20:16:40.882198",
     "status": "completed"
    },
    "tags": []
   },
   "outputs": [],
   "source": [
    "from utils import flatten_once\n",
    "\n",
    "excluded_features_columns = flatten_once(excluded_features_columns)"
   ]
  },
  {
   "cell_type": "code",
   "execution_count": 32,
   "id": "884dea22",
   "metadata": {
    "execution": {
     "iopub.execute_input": "2025-07-30T20:16:40.942281Z",
     "iopub.status.busy": "2025-07-30T20:16:40.941610Z",
     "iopub.status.idle": "2025-07-30T20:16:40.946610Z",
     "shell.execute_reply": "2025-07-30T20:16:40.945831Z"
    },
    "papermill": {
     "duration": 0.019083,
     "end_time": "2025-07-30T20:16:40.948122",
     "exception": false,
     "start_time": "2025-07-30T20:16:40.929039",
     "status": "completed"
    },
    "tags": []
   },
   "outputs": [],
   "source": [
    "if len(excluded_features_columns) > 0:\n",
    "    print(f\"Dropping features: {excluded_features_columns}\")\n",
    "    X_train.drop(excluded_features_columns, axis=1, inplace=True)"
   ]
  },
  {
   "cell_type": "code",
   "execution_count": 33,
   "id": "95ab8b16",
   "metadata": {
    "execution": {
     "iopub.execute_input": "2025-07-30T20:16:40.973178Z",
     "iopub.status.busy": "2025-07-30T20:16:40.972663Z",
     "iopub.status.idle": "2025-07-30T20:16:40.977526Z",
     "shell.execute_reply": "2025-07-30T20:16:40.976712Z"
    },
    "papermill": {
     "duration": 0.018387,
     "end_time": "2025-07-30T20:16:40.978870",
     "exception": false,
     "start_time": "2025-07-30T20:16:40.960483",
     "status": "completed"
    },
    "tags": []
   },
   "outputs": [],
   "source": [
    "if len(excluded_features_columns) > 0:\n",
    "    print(f\"Dropping features: {excluded_features_columns}\")\n",
    "    X_test.drop(excluded_features_columns, axis=1, inplace=True)"
   ]
  },
  {
   "cell_type": "code",
   "execution_count": 34,
   "id": "1853aaf5-fb9f-46cb-a2b5-8ea4ae2237e4",
   "metadata": {
    "execution": {
     "iopub.execute_input": "2025-07-30T20:16:41.009929Z",
     "iopub.status.busy": "2025-07-30T20:16:41.009213Z",
     "iopub.status.idle": "2025-07-30T20:16:41.016680Z",
     "shell.execute_reply": "2025-07-30T20:16:41.015439Z"
    },
    "papermill": {
     "duration": 0.027449,
     "end_time": "2025-07-30T20:16:41.018707",
     "exception": false,
     "start_time": "2025-07-30T20:16:40.991258",
     "status": "completed"
    },
    "tags": []
   },
   "outputs": [],
   "source": [
    "if len(excluded_features_columns) > 0:\n",
    "    print(f\"Dropping features: {excluded_features_columns}\")\n",
    "    X_calib.drop(excluded_features_columns, axis=1, inplace=True)"
   ]
  },
  {
   "cell_type": "code",
   "execution_count": 35,
   "id": "6727d079-03e5-481e-9d38-292a90b7a0a8",
   "metadata": {
    "execution": {
     "iopub.execute_input": "2025-07-30T20:16:41.069737Z",
     "iopub.status.busy": "2025-07-30T20:16:41.069224Z",
     "iopub.status.idle": "2025-07-30T20:16:41.075498Z",
     "shell.execute_reply": "2025-07-30T20:16:41.073354Z"
    },
    "papermill": {
     "duration": 0.033582,
     "end_time": "2025-07-30T20:16:41.077693",
     "exception": false,
     "start_time": "2025-07-30T20:16:41.044111",
     "status": "completed"
    },
    "tags": []
   },
   "outputs": [],
   "source": [
    "# SPLIT & STRATIFY DATA\n",
    "# ----------------------"
   ]
  },
  {
   "cell_type": "code",
   "execution_count": 36,
   "id": "76c4dc6d",
   "metadata": {
    "execution": {
     "iopub.execute_input": "2025-07-30T20:16:41.127271Z",
     "iopub.status.busy": "2025-07-30T20:16:41.126376Z",
     "iopub.status.idle": "2025-07-30T20:16:41.137554Z",
     "shell.execute_reply": "2025-07-30T20:16:41.136582Z"
    },
    "papermill": {
     "duration": 0.037484,
     "end_time": "2025-07-30T20:16:41.139495",
     "exception": false,
     "start_time": "2025-07-30T20:16:41.102011",
     "status": "completed"
    },
    "tags": []
   },
   "outputs": [],
   "source": [
    "# EXCLUDE CERTAIN SUBGROUPS\n",
    "# ----------------------\n",
    "\n",
    "mode = universe.get(\"exclude_subgroups\", \"keep-all\") \n",
    "# Fetches the exclude_subgroups setting from the universe dict.\n",
    "# Defaults to \"keep-all\" if the key is missing."
   ]
  },
  {
   "cell_type": "code",
   "execution_count": 37,
   "id": "21994072",
   "metadata": {
    "execution": {
     "iopub.execute_input": "2025-07-30T20:16:41.185977Z",
     "iopub.status.busy": "2025-07-30T20:16:41.185527Z",
     "iopub.status.idle": "2025-07-30T20:16:41.193394Z",
     "shell.execute_reply": "2025-07-30T20:16:41.192334Z"
    },
    "papermill": {
     "duration": 0.033224,
     "end_time": "2025-07-30T20:16:41.195426",
     "exception": false,
     "start_time": "2025-07-30T20:16:41.162202",
     "status": "completed"
    },
    "tags": []
   },
   "outputs": [],
   "source": [
    "if mode == \"keep-all\":\n",
    "    keep_mask = pd.Series(True, index=org_train.index)\n",
    "\n",
    "# org_train contains the original feature columns from features_org (in Simson)\n",
    "# features_org contains unprocessed features, for me X_train at beginning ???\n",
    "# For keep-all, creates a boolean Series (keep_mask) of all True, so no rows are removed.\n",
    "\n",
    "elif mode == \"drop-non-german\":\n",
    "    keep_mask = org_train[\"maxdeutsch1\"] == 1 # ??? what about missing values?\n",
    "\n",
    "else:\n",
    "    raise ValueError(f\"Unsupported mode for exclude_subgroups: {mode}\")\n"
   ]
  },
  {
   "cell_type": "code",
   "execution_count": 38,
   "id": "71651440",
   "metadata": {
    "execution": {
     "iopub.execute_input": "2025-07-30T20:16:41.249001Z",
     "iopub.status.busy": "2025-07-30T20:16:41.248479Z",
     "iopub.status.idle": "2025-07-30T20:16:41.256372Z",
     "shell.execute_reply": "2025-07-30T20:16:41.255147Z"
    },
    "papermill": {
     "duration": 0.03606,
     "end_time": "2025-07-30T20:16:41.257985",
     "exception": false,
     "start_time": "2025-07-30T20:16:41.221925",
     "status": "completed"
    },
    "tags": []
   },
   "outputs": [
    {
     "name": "stdout",
     "output_type": "stream",
     "text": [
      "Dropping 3481 rows (13.92%) where mode='drop-non-german'\n"
     ]
    }
   ],
   "source": [
    "n_drop = (~keep_mask).sum() # Calculates how many rows are set to be dropped\n",
    "if n_drop > 0:\n",
    "    pct = n_drop / len(keep_mask) * 100\n",
    "    print(f\"Dropping {n_drop} rows ({pct:.2f}%) where mode='{mode}'\")"
   ]
  },
  {
   "cell_type": "code",
   "execution_count": 39,
   "id": "5fb8eee5",
   "metadata": {
    "execution": {
     "iopub.execute_input": "2025-07-30T20:16:41.307050Z",
     "iopub.status.busy": "2025-07-30T20:16:41.306516Z",
     "iopub.status.idle": "2025-07-30T20:16:41.329127Z",
     "shell.execute_reply": "2025-07-30T20:16:41.327979Z"
    },
    "papermill": {
     "duration": 0.048655,
     "end_time": "2025-07-30T20:16:41.330910",
     "exception": false,
     "start_time": "2025-07-30T20:16:41.282255",
     "status": "completed"
    },
    "tags": []
   },
   "outputs": [],
   "source": [
    "X_train = X_train[keep_mask]"
   ]
  },
  {
   "cell_type": "code",
   "execution_count": 40,
   "id": "b202bb3a",
   "metadata": {
    "execution": {
     "iopub.execute_input": "2025-07-30T20:16:41.380509Z",
     "iopub.status.busy": "2025-07-30T20:16:41.379671Z",
     "iopub.status.idle": "2025-07-30T20:16:41.387307Z",
     "shell.execute_reply": "2025-07-30T20:16:41.386309Z"
    },
    "papermill": {
     "duration": 0.034041,
     "end_time": "2025-07-30T20:16:41.389106",
     "exception": false,
     "start_time": "2025-07-30T20:16:41.355065",
     "status": "completed"
    },
    "tags": []
   },
   "outputs": [],
   "source": [
    "y_train = y_train[keep_mask]"
   ]
  },
  {
   "cell_type": "markdown",
   "id": "493e2ac3",
   "metadata": {
    "papermill": {
     "duration": 0.024414,
     "end_time": "2025-07-30T20:16:41.437518",
     "exception": false,
     "start_time": "2025-07-30T20:16:41.413104",
     "status": "completed"
    },
    "tags": []
   },
   "source": [
    "# Model Training"
   ]
  },
  {
   "cell_type": "code",
   "execution_count": 41,
   "id": "679e1268",
   "metadata": {
    "execution": {
     "iopub.execute_input": "2025-07-30T20:16:41.487408Z",
     "iopub.status.busy": "2025-07-30T20:16:41.486945Z",
     "iopub.status.idle": "2025-07-30T20:16:41.615729Z",
     "shell.execute_reply": "2025-07-30T20:16:41.614618Z"
    },
    "papermill": {
     "duration": 0.156038,
     "end_time": "2025-07-30T20:16:41.617872",
     "exception": false,
     "start_time": "2025-07-30T20:16:41.461834",
     "status": "completed"
    },
    "tags": []
   },
   "outputs": [],
   "source": [
    "from sklearn.linear_model import LogisticRegression\n",
    "from sklearn.ensemble import GradientBoostingClassifier, RandomForestClassifier\n",
    "\n",
    "if (universe[\"model\"] == \"logreg\"):\n",
    "    model = LogisticRegression() #penalty=\"none\") #, solver=\"newton-cg\", max_iter=1) # include random_state=19 ?\n",
    "elif (universe[\"model\"] == \"penalized_logreg\"):\n",
    "    model = LogisticRegression(penalty=\"l2\", C=1.0) #, solver=\"newton-cg\", max_iter=1)\n",
    "elif (universe[\"model\"] == \"rf\"):\n",
    "    model = RandomForestClassifier(n_estimators=100, n_jobs=-1)\n",
    "elif (universe[\"model\"] == \"gbm\"):\n",
    "    model = GradientBoostingClassifier()\n",
    "elif (universe[\"model\"] == \"elasticnet\"):\n",
    "    model = LogisticRegression(penalty = 'elasticnet', solver = 'saga', l1_ratio = 0.5, max_iter=5000) # which solver to use?\n",
    "else:\n",
    "    raise \"Unsupported universe.model\""
   ]
  },
  {
   "cell_type": "code",
   "execution_count": 42,
   "id": "0cc8f744",
   "metadata": {
    "execution": {
     "iopub.execute_input": "2025-07-30T20:16:41.667807Z",
     "iopub.status.busy": "2025-07-30T20:16:41.667056Z",
     "iopub.status.idle": "2025-07-30T20:16:41.674261Z",
     "shell.execute_reply": "2025-07-30T20:16:41.673063Z"
    },
    "papermill": {
     "duration": 0.034184,
     "end_time": "2025-07-30T20:16:41.675944",
     "exception": false,
     "start_time": "2025-07-30T20:16:41.641760",
     "status": "completed"
    },
    "tags": []
   },
   "outputs": [],
   "source": [
    "import numpy as np\n",
    "from sklearn.pipeline import Pipeline\n",
    "from sklearn.preprocessing import StandardScaler\n",
    "\n",
    "model = Pipeline([\n",
    "    #(\"continuous_processor\", continuous_processor),\n",
    "    #(\"categorical_preprocessor\", categorical_preprocessor),\n",
    "    (\"scale\", StandardScaler() if universe[\"scale\"] == \"scale\" else None), \n",
    "    (\"model\", model),\n",
    "])"
   ]
  },
  {
   "cell_type": "code",
   "execution_count": 43,
   "id": "9442c04d",
   "metadata": {
    "execution": {
     "iopub.execute_input": "2025-07-30T20:16:41.725529Z",
     "iopub.status.busy": "2025-07-30T20:16:41.725052Z",
     "iopub.status.idle": "2025-07-30T20:16:42.669967Z",
     "shell.execute_reply": "2025-07-30T20:16:42.668983Z"
    },
    "papermill": {
     "duration": 0.971203,
     "end_time": "2025-07-30T20:16:42.671853",
     "exception": false,
     "start_time": "2025-07-30T20:16:41.700650",
     "status": "completed"
    },
    "tags": []
   },
   "outputs": [
    {
     "name": "stderr",
     "output_type": "stream",
     "text": [
      "/dss/dsshome1/0C/ra93lal2/.local/share/virtualenvs/CMA_Fairness_v2-3j10GkSs/lib/python3.10/site-packages/sklearn/linear_model/_logistic.py:444: ConvergenceWarning: lbfgs failed to converge (status=1):\n",
      "STOP: TOTAL NO. of ITERATIONS REACHED LIMIT.\n",
      "\n",
      "Increase the number of iterations (max_iter) or scale the data as shown in:\n",
      "    https://scikit-learn.org/stable/modules/preprocessing.html\n",
      "Please also refer to the documentation for alternative solver options:\n",
      "    https://scikit-learn.org/stable/modules/linear_model.html#logistic-regression\n",
      "  n_iter_i = _check_optimize_result(\n"
     ]
    },
    {
     "data": {
      "text/html": [
       "<style>#sk-container-id-1 {color: black;background-color: white;}#sk-container-id-1 pre{padding: 0;}#sk-container-id-1 div.sk-toggleable {background-color: white;}#sk-container-id-1 label.sk-toggleable__label {cursor: pointer;display: block;width: 100%;margin-bottom: 0;padding: 0.3em;box-sizing: border-box;text-align: center;}#sk-container-id-1 label.sk-toggleable__label-arrow:before {content: \"▸\";float: left;margin-right: 0.25em;color: #696969;}#sk-container-id-1 label.sk-toggleable__label-arrow:hover:before {color: black;}#sk-container-id-1 div.sk-estimator:hover label.sk-toggleable__label-arrow:before {color: black;}#sk-container-id-1 div.sk-toggleable__content {max-height: 0;max-width: 0;overflow: hidden;text-align: left;background-color: #f0f8ff;}#sk-container-id-1 div.sk-toggleable__content pre {margin: 0.2em;color: black;border-radius: 0.25em;background-color: #f0f8ff;}#sk-container-id-1 input.sk-toggleable__control:checked~div.sk-toggleable__content {max-height: 200px;max-width: 100%;overflow: auto;}#sk-container-id-1 input.sk-toggleable__control:checked~label.sk-toggleable__label-arrow:before {content: \"▾\";}#sk-container-id-1 div.sk-estimator input.sk-toggleable__control:checked~label.sk-toggleable__label {background-color: #d4ebff;}#sk-container-id-1 div.sk-label input.sk-toggleable__control:checked~label.sk-toggleable__label {background-color: #d4ebff;}#sk-container-id-1 input.sk-hidden--visually {border: 0;clip: rect(1px 1px 1px 1px);clip: rect(1px, 1px, 1px, 1px);height: 1px;margin: -1px;overflow: hidden;padding: 0;position: absolute;width: 1px;}#sk-container-id-1 div.sk-estimator {font-family: monospace;background-color: #f0f8ff;border: 1px dotted black;border-radius: 0.25em;box-sizing: border-box;margin-bottom: 0.5em;}#sk-container-id-1 div.sk-estimator:hover {background-color: #d4ebff;}#sk-container-id-1 div.sk-parallel-item::after {content: \"\";width: 100%;border-bottom: 1px solid gray;flex-grow: 1;}#sk-container-id-1 div.sk-label:hover label.sk-toggleable__label {background-color: #d4ebff;}#sk-container-id-1 div.sk-serial::before {content: \"\";position: absolute;border-left: 1px solid gray;box-sizing: border-box;top: 0;bottom: 0;left: 50%;z-index: 0;}#sk-container-id-1 div.sk-serial {display: flex;flex-direction: column;align-items: center;background-color: white;padding-right: 0.2em;padding-left: 0.2em;position: relative;}#sk-container-id-1 div.sk-item {position: relative;z-index: 1;}#sk-container-id-1 div.sk-parallel {display: flex;align-items: stretch;justify-content: center;background-color: white;position: relative;}#sk-container-id-1 div.sk-item::before, #sk-container-id-1 div.sk-parallel-item::before {content: \"\";position: absolute;border-left: 1px solid gray;box-sizing: border-box;top: 0;bottom: 0;left: 50%;z-index: -1;}#sk-container-id-1 div.sk-parallel-item {display: flex;flex-direction: column;z-index: 1;position: relative;background-color: white;}#sk-container-id-1 div.sk-parallel-item:first-child::after {align-self: flex-end;width: 50%;}#sk-container-id-1 div.sk-parallel-item:last-child::after {align-self: flex-start;width: 50%;}#sk-container-id-1 div.sk-parallel-item:only-child::after {width: 0;}#sk-container-id-1 div.sk-dashed-wrapped {border: 1px dashed gray;margin: 0 0.4em 0.5em 0.4em;box-sizing: border-box;padding-bottom: 0.4em;background-color: white;}#sk-container-id-1 div.sk-label label {font-family: monospace;font-weight: bold;display: inline-block;line-height: 1.2em;}#sk-container-id-1 div.sk-label-container {text-align: center;}#sk-container-id-1 div.sk-container {/* jupyter's `normalize.less` sets `[hidden] { display: none; }` but bootstrap.min.css set `[hidden] { display: none !important; }` so we also need the `!important` here to be able to override the default hidden behavior on the sphinx rendered scikit-learn.org. See: https://github.com/scikit-learn/scikit-learn/issues/21755 */display: inline-block !important;position: relative;}#sk-container-id-1 div.sk-text-repr-fallback {display: none;}</style><div id=\"sk-container-id-1\" class=\"sk-top-container\"><div class=\"sk-text-repr-fallback\"><pre>Pipeline(steps=[(&#x27;scale&#x27;, None), (&#x27;model&#x27;, LogisticRegression())])</pre><b>In a Jupyter environment, please rerun this cell to show the HTML representation or trust the notebook. <br />On GitHub, the HTML representation is unable to render, please try loading this page with nbviewer.org.</b></div><div class=\"sk-container\" hidden><div class=\"sk-item sk-dashed-wrapped\"><div class=\"sk-label-container\"><div class=\"sk-label sk-toggleable\"><input class=\"sk-toggleable__control sk-hidden--visually\" id=\"sk-estimator-id-1\" type=\"checkbox\" ><label for=\"sk-estimator-id-1\" class=\"sk-toggleable__label sk-toggleable__label-arrow\">Pipeline</label><div class=\"sk-toggleable__content\"><pre>Pipeline(steps=[(&#x27;scale&#x27;, None), (&#x27;model&#x27;, LogisticRegression())])</pre></div></div></div><div class=\"sk-serial\"><div class=\"sk-item\"><div class=\"sk-estimator sk-toggleable\"><input class=\"sk-toggleable__control sk-hidden--visually\" id=\"sk-estimator-id-2\" type=\"checkbox\" ><label for=\"sk-estimator-id-2\" class=\"sk-toggleable__label sk-toggleable__label-arrow\">None</label><div class=\"sk-toggleable__content\"><pre>None</pre></div></div></div><div class=\"sk-item\"><div class=\"sk-estimator sk-toggleable\"><input class=\"sk-toggleable__control sk-hidden--visually\" id=\"sk-estimator-id-3\" type=\"checkbox\" ><label for=\"sk-estimator-id-3\" class=\"sk-toggleable__label sk-toggleable__label-arrow\">LogisticRegression</label><div class=\"sk-toggleable__content\"><pre>LogisticRegression()</pre></div></div></div></div></div></div></div>"
      ],
      "text/plain": [
       "Pipeline(steps=[('scale', None), ('model', LogisticRegression())])"
      ]
     },
     "execution_count": 43,
     "metadata": {},
     "output_type": "execute_result"
    }
   ],
   "source": [
    "model.fit(X_train, y_train.values.ravel())"
   ]
  },
  {
   "cell_type": "code",
   "execution_count": 44,
   "id": "af59f8c0",
   "metadata": {
    "execution": {
     "iopub.execute_input": "2025-07-30T20:16:42.727688Z",
     "iopub.status.busy": "2025-07-30T20:16:42.727143Z",
     "iopub.status.idle": "2025-07-30T20:16:42.733239Z",
     "shell.execute_reply": "2025-07-30T20:16:42.732095Z"
    },
    "papermill": {
     "duration": 0.036812,
     "end_time": "2025-07-30T20:16:42.735172",
     "exception": false,
     "start_time": "2025-07-30T20:16:42.698360",
     "status": "completed"
    },
    "tags": []
   },
   "outputs": [],
   "source": [
    "from fairness_multiverse.universe import predict_w_threshold"
   ]
  },
  {
   "cell_type": "code",
   "execution_count": 45,
   "id": "a7cf2e16",
   "metadata": {
    "execution": {
     "iopub.execute_input": "2025-07-30T20:16:42.792882Z",
     "iopub.status.busy": "2025-07-30T20:16:42.792325Z",
     "iopub.status.idle": "2025-07-30T20:16:42.889955Z",
     "shell.execute_reply": "2025-07-30T20:16:42.888994Z"
    },
    "papermill": {
     "duration": 0.132677,
     "end_time": "2025-07-30T20:16:42.894734",
     "exception": false,
     "start_time": "2025-07-30T20:16:42.762057",
     "status": "completed"
    },
    "tags": []
   },
   "outputs": [
    {
     "data": {
      "text/plain": [
       "0.8608627800691115"
      ]
     },
     "execution_count": 45,
     "metadata": {},
     "output_type": "execute_result"
    }
   ],
   "source": [
    "probs_test = model.predict_proba(X_test)\n",
    "\n",
    "'''\n",
    "Below code returns a boolean array (or binary 0/1 array depending on how it’s used) where each element \n",
    "is True if the probability of class 1 is greater than or equal to the threshold, and False otherwise.\n",
    "'''\n",
    "y_pred_default = predict_w_threshold(probs_test, 0.5)\n",
    "\n",
    "from sklearn.metrics import accuracy_score\n",
    "\n",
    "# Naive prediction\n",
    "accuracy_score(y_true = y_true, y_pred = y_pred_default)"
   ]
  },
  {
   "cell_type": "code",
   "execution_count": 46,
   "id": "081964c3",
   "metadata": {
    "execution": {
     "iopub.execute_input": "2025-07-30T20:16:42.945258Z",
     "iopub.status.busy": "2025-07-30T20:16:42.944399Z",
     "iopub.status.idle": "2025-07-30T20:16:43.033382Z",
     "shell.execute_reply": "2025-07-30T20:16:43.032325Z"
    },
    "papermill": {
     "duration": 0.115556,
     "end_time": "2025-07-30T20:16:43.035316",
     "exception": false,
     "start_time": "2025-07-30T20:16:42.919760",
     "status": "completed"
    },
    "tags": []
   },
   "outputs": [
    {
     "data": {
      "text/plain": [
       "array([0, 0, 0, ..., 0, 0, 0])"
      ]
     },
     "execution_count": 46,
     "metadata": {},
     "output_type": "execute_result"
    }
   ],
   "source": [
    "model.predict(X_test)"
   ]
  },
  {
   "cell_type": "markdown",
   "id": "56c9705b",
   "metadata": {
    "papermill": {
     "duration": 0.031851,
     "end_time": "2025-07-30T20:16:43.098106",
     "exception": false,
     "start_time": "2025-07-30T20:16:43.066255",
     "status": "completed"
    },
    "tags": []
   },
   "source": [
    "# Conformal Prediction"
   ]
  },
  {
   "cell_type": "code",
   "execution_count": 47,
   "id": "160ec6ff",
   "metadata": {
    "execution": {
     "iopub.execute_input": "2025-07-30T20:16:43.149020Z",
     "iopub.status.busy": "2025-07-30T20:16:43.148586Z",
     "iopub.status.idle": "2025-07-30T20:16:43.153364Z",
     "shell.execute_reply": "2025-07-30T20:16:43.152429Z"
    },
    "papermill": {
     "duration": 0.025718,
     "end_time": "2025-07-30T20:16:43.154727",
     "exception": false,
     "start_time": "2025-07-30T20:16:43.129009",
     "status": "completed"
    },
    "tags": []
   },
   "outputs": [],
   "source": [
    "# Miscoverage level for conformal prediction (10% allowed error rate => 90% target coverage)\n",
    "alpha = 0.1"
   ]
  },
  {
   "cell_type": "code",
   "execution_count": 48,
   "id": "eadf4555-3dd3-440e-8e35-f82a4ad9f855",
   "metadata": {
    "execution": {
     "iopub.execute_input": "2025-07-30T20:16:43.193769Z",
     "iopub.status.busy": "2025-07-30T20:16:43.193286Z",
     "iopub.status.idle": "2025-07-30T20:16:43.278137Z",
     "shell.execute_reply": "2025-07-30T20:16:43.277199Z"
    },
    "papermill": {
     "duration": 0.111078,
     "end_time": "2025-07-30T20:16:43.279935",
     "exception": false,
     "start_time": "2025-07-30T20:16:43.168857",
     "status": "completed"
    },
    "tags": []
   },
   "outputs": [],
   "source": [
    "probs_calib = model.predict_proba(X_calib)"
   ]
  },
  {
   "cell_type": "code",
   "execution_count": 49,
   "id": "2ed93547-6d5d-4983-9b36-1ecb300da49a",
   "metadata": {
    "execution": {
     "iopub.execute_input": "2025-07-30T20:16:43.332772Z",
     "iopub.status.busy": "2025-07-30T20:16:43.331777Z",
     "iopub.status.idle": "2025-07-30T20:16:43.337712Z",
     "shell.execute_reply": "2025-07-30T20:16:43.336772Z"
    },
    "papermill": {
     "duration": 0.033905,
     "end_time": "2025-07-30T20:16:43.339383",
     "exception": false,
     "start_time": "2025-07-30T20:16:43.305478",
     "status": "completed"
    },
    "tags": []
   },
   "outputs": [],
   "source": [
    "y_calib = y_calib.values.ravel().astype(int)"
   ]
  },
  {
   "cell_type": "code",
   "execution_count": 50,
   "id": "65d1320d-f588-4b38-9072-62af1ae97f7d",
   "metadata": {
    "execution": {
     "iopub.execute_input": "2025-07-30T20:16:43.390432Z",
     "iopub.status.busy": "2025-07-30T20:16:43.389911Z",
     "iopub.status.idle": "2025-07-30T20:16:43.397593Z",
     "shell.execute_reply": "2025-07-30T20:16:43.396530Z"
    },
    "papermill": {
     "duration": 0.034662,
     "end_time": "2025-07-30T20:16:43.399278",
     "exception": false,
     "start_time": "2025-07-30T20:16:43.364616",
     "status": "completed"
    },
    "tags": []
   },
   "outputs": [],
   "source": [
    "from fairness_multiverse.conformal import compute_nc_scores\n",
    "\n",
    "# Compute nonconformity scores on calibration set (1 - probability of true class)\n",
    "nc_scores = compute_nc_scores(probs_calib, y_calib)"
   ]
  },
  {
   "cell_type": "code",
   "execution_count": 51,
   "id": "df3b8ca3-53b7-43d5-9667-7c85da7aeda2",
   "metadata": {
    "execution": {
     "iopub.execute_input": "2025-07-30T20:16:43.450507Z",
     "iopub.status.busy": "2025-07-30T20:16:43.450087Z",
     "iopub.status.idle": "2025-07-30T20:16:43.456974Z",
     "shell.execute_reply": "2025-07-30T20:16:43.455905Z"
    },
    "papermill": {
     "duration": 0.034161,
     "end_time": "2025-07-30T20:16:43.458555",
     "exception": false,
     "start_time": "2025-07-30T20:16:43.424394",
     "status": "completed"
    },
    "tags": []
   },
   "outputs": [],
   "source": [
    "from fairness_multiverse.conformal import find_threshold\n",
    "\n",
    "# Find conformal threshold q_hat for the given alpha (split conformal method)\n",
    "q_hat = find_threshold(nc_scores, alpha)"
   ]
  },
  {
   "cell_type": "code",
   "execution_count": 52,
   "id": "4d29e6c1-0ef6-4aa4-b8fe-4fe79b0d033a",
   "metadata": {
    "execution": {
     "iopub.execute_input": "2025-07-30T20:16:43.509148Z",
     "iopub.status.busy": "2025-07-30T20:16:43.508447Z",
     "iopub.status.idle": "2025-07-30T20:16:43.516080Z",
     "shell.execute_reply": "2025-07-30T20:16:43.515050Z"
    },
    "papermill": {
     "duration": 0.034214,
     "end_time": "2025-07-30T20:16:43.517646",
     "exception": false,
     "start_time": "2025-07-30T20:16:43.483432",
     "status": "completed"
    },
    "tags": []
   },
   "outputs": [
    {
     "data": {
      "text/plain": [
       "0.6693719626315237"
      ]
     },
     "execution_count": 52,
     "metadata": {},
     "output_type": "execute_result"
    }
   ],
   "source": [
    "q_hat"
   ]
  },
  {
   "cell_type": "code",
   "execution_count": 53,
   "id": "92460794-cdac-4be2-ba28-f28c0515a6fb",
   "metadata": {
    "execution": {
     "iopub.execute_input": "2025-07-30T20:16:43.569863Z",
     "iopub.status.busy": "2025-07-30T20:16:43.569363Z",
     "iopub.status.idle": "2025-07-30T20:16:44.352901Z",
     "shell.execute_reply": "2025-07-30T20:16:44.351854Z"
    },
    "papermill": {
     "duration": 0.812174,
     "end_time": "2025-07-30T20:16:44.355217",
     "exception": false,
     "start_time": "2025-07-30T20:16:43.543043",
     "status": "completed"
    },
    "tags": []
   },
   "outputs": [],
   "source": [
    "from fairness_multiverse.conformal import predict_conformal_sets\n",
    "\n",
    "# Generate prediction sets for each test example\n",
    "pred_sets = predict_conformal_sets(model, X_test, q_hat)"
   ]
  },
  {
   "cell_type": "code",
   "execution_count": 54,
   "id": "d90c9a65-e6db-4f5d-80cd-e68fb7e46829",
   "metadata": {
    "execution": {
     "iopub.execute_input": "2025-07-30T20:16:44.420371Z",
     "iopub.status.busy": "2025-07-30T20:16:44.419613Z",
     "iopub.status.idle": "2025-07-30T20:16:44.425697Z",
     "shell.execute_reply": "2025-07-30T20:16:44.424661Z"
    },
    "papermill": {
     "duration": 0.041948,
     "end_time": "2025-07-30T20:16:44.427633",
     "exception": false,
     "start_time": "2025-07-30T20:16:44.385685",
     "status": "completed"
    },
    "tags": []
   },
   "outputs": [],
   "source": [
    "y_true = y_true.squeeze()"
   ]
  },
  {
   "cell_type": "code",
   "execution_count": 55,
   "id": "3a58a54a-1e68-46b9-927a-df01f18aebc8",
   "metadata": {
    "execution": {
     "iopub.execute_input": "2025-07-30T20:16:44.490739Z",
     "iopub.status.busy": "2025-07-30T20:16:44.489922Z",
     "iopub.status.idle": "2025-07-30T20:16:45.554078Z",
     "shell.execute_reply": "2025-07-30T20:16:45.553351Z"
    },
    "papermill": {
     "duration": 1.097626,
     "end_time": "2025-07-30T20:16:45.555877",
     "exception": false,
     "start_time": "2025-07-30T20:16:44.458251",
     "status": "completed"
    },
    "tags": []
   },
   "outputs": [],
   "source": [
    "from fairness_multiverse.conformal import evaluate_sets\n",
    "\n",
    "# Evaluate coverage and average set size on test data\n",
    "metrics = evaluate_sets(pred_sets, y_true)"
   ]
  },
  {
   "cell_type": "markdown",
   "id": "2b569c12-9aaa-4c88-98c9-bbcd0cf3ebb8",
   "metadata": {
    "papermill": {
     "duration": 0.025544,
     "end_time": "2025-07-30T20:16:45.607276",
     "exception": false,
     "start_time": "2025-07-30T20:16:45.581732",
     "status": "completed"
    },
    "tags": []
   },
   "source": [
    "# CP Metrics"
   ]
  },
  {
   "cell_type": "code",
   "execution_count": 56,
   "id": "5ce0a5cb-201f-45a0-ade5-94c7f0bd6095",
   "metadata": {
    "execution": {
     "iopub.execute_input": "2025-07-30T20:16:45.659714Z",
     "iopub.status.busy": "2025-07-30T20:16:45.659153Z",
     "iopub.status.idle": "2025-07-30T20:16:45.667589Z",
     "shell.execute_reply": "2025-07-30T20:16:45.666543Z"
    },
    "papermill": {
     "duration": 0.03747,
     "end_time": "2025-07-30T20:16:45.669255",
     "exception": false,
     "start_time": "2025-07-30T20:16:45.631785",
     "status": "completed"
    },
    "tags": []
   },
   "outputs": [
    {
     "data": {
      "text/plain": [
       "{'coverage': 0.9112362055512206, 'avg_size': 1.2155501058967786}"
      ]
     },
     "execution_count": 56,
     "metadata": {},
     "output_type": "execute_result"
    }
   ],
   "source": [
    "metrics"
   ]
  },
  {
   "cell_type": "code",
   "execution_count": 57,
   "id": "9b9a838d-31c9-430b-ae14-12baee460d17",
   "metadata": {
    "execution": {
     "iopub.execute_input": "2025-07-30T20:16:45.722496Z",
     "iopub.status.busy": "2025-07-30T20:16:45.722000Z",
     "iopub.status.idle": "2025-07-30T20:16:45.729457Z",
     "shell.execute_reply": "2025-07-30T20:16:45.728245Z"
    },
    "papermill": {
     "duration": 0.036532,
     "end_time": "2025-07-30T20:16:45.731269",
     "exception": false,
     "start_time": "2025-07-30T20:16:45.694737",
     "status": "completed"
    },
    "tags": []
   },
   "outputs": [],
   "source": [
    "example_universe = universe.copy()\n",
    "universe_training_year = example_universe.get(\"training_year\")\n",
    "universe_training_size = example_universe.get(\"training_size\")\n",
    "universe_scale = example_universe.get(\"scale\")\n",
    "universe_model = example_universe.get(\"model\")\n",
    "universe_exclude_features = example_universe.get(\"exclude_features\")\n",
    "universe_exclude_subgroups = example_universe.get(\"exclude_subgroups\")"
   ]
  },
  {
   "cell_type": "code",
   "execution_count": 58,
   "id": "f4b6a8ac-9dc0-4245-8a91-5b3b5999c4f9",
   "metadata": {
    "execution": {
     "iopub.execute_input": "2025-07-30T20:16:45.785466Z",
     "iopub.status.busy": "2025-07-30T20:16:45.783962Z",
     "iopub.status.idle": "2025-07-30T20:16:45.791538Z",
     "shell.execute_reply": "2025-07-30T20:16:45.790595Z"
    },
    "papermill": {
     "duration": 0.036203,
     "end_time": "2025-07-30T20:16:45.793357",
     "exception": false,
     "start_time": "2025-07-30T20:16:45.757154",
     "status": "completed"
    },
    "tags": []
   },
   "outputs": [],
   "source": [
    "cp_metrics_dict = {\n",
    "    \"universe_id\": [universe_id],\n",
    "    \"universe_training_year\": [universe_training_year],\n",
    "    \"universe_training_size\": [universe_training_size],\n",
    "    \"universe_scale\": [universe_scale],\n",
    "    \"universe_model\": [universe_model],\n",
    "    \"universe_exclude_features\": [universe_exclude_features],\n",
    "    \"universe_exclude_subgroups\": [universe_exclude_subgroups],\n",
    "    \"q_hat\": [q_hat],\n",
    "    \"coverage\": [metrics[\"coverage\"]],\n",
    "    \"avg_size\": [metrics[\"avg_size\"]],\n",
    "}"
   ]
  },
  {
   "cell_type": "code",
   "execution_count": 59,
   "id": "908acbb1-0371-4915-85ca-3fa520d2efe2",
   "metadata": {
    "execution": {
     "iopub.execute_input": "2025-07-30T20:16:45.845860Z",
     "iopub.status.busy": "2025-07-30T20:16:45.845370Z",
     "iopub.status.idle": "2025-07-30T20:16:45.853161Z",
     "shell.execute_reply": "2025-07-30T20:16:45.852232Z"
    },
    "papermill": {
     "duration": 0.035962,
     "end_time": "2025-07-30T20:16:45.854820",
     "exception": false,
     "start_time": "2025-07-30T20:16:45.818858",
     "status": "completed"
    },
    "tags": []
   },
   "outputs": [
    {
     "data": {
      "text/plain": [
       "{'universe_id': ['148c87e04e6078e0a1ae23c736858883'],\n",
       " 'universe_training_year': ['2012_14'],\n",
       " 'universe_training_size': ['25k'],\n",
       " 'universe_scale': ['do-not-scale'],\n",
       " 'universe_model': ['penalized_logreg'],\n",
       " 'universe_exclude_features': ['none'],\n",
       " 'universe_exclude_subgroups': ['drop-non-german'],\n",
       " 'q_hat': [0.6693719626315237],\n",
       " 'coverage': [0.9112362055512206],\n",
       " 'avg_size': [1.2155501058967786]}"
      ]
     },
     "execution_count": 59,
     "metadata": {},
     "output_type": "execute_result"
    }
   ],
   "source": [
    "cp_metrics_dict"
   ]
  },
  {
   "cell_type": "code",
   "execution_count": 60,
   "id": "33007efc-14e9-4ec6-97ac-56a455c82265",
   "metadata": {
    "execution": {
     "iopub.execute_input": "2025-07-30T20:16:45.910672Z",
     "iopub.status.busy": "2025-07-30T20:16:45.909885Z",
     "iopub.status.idle": "2025-07-30T20:16:45.916608Z",
     "shell.execute_reply": "2025-07-30T20:16:45.915386Z"
    },
    "papermill": {
     "duration": 0.034253,
     "end_time": "2025-07-30T20:16:45.918266",
     "exception": false,
     "start_time": "2025-07-30T20:16:45.884013",
     "status": "completed"
    },
    "tags": []
   },
   "outputs": [],
   "source": [
    "cp_metrics_df = pd.DataFrame(cp_metrics_dict)"
   ]
  },
  {
   "cell_type": "code",
   "execution_count": 61,
   "id": "db12611b-57b2-4910-b9d0-355adfd6e7bf",
   "metadata": {
    "execution": {
     "iopub.execute_input": "2025-07-30T20:16:45.972746Z",
     "iopub.status.busy": "2025-07-30T20:16:45.972025Z",
     "iopub.status.idle": "2025-07-30T20:16:45.992415Z",
     "shell.execute_reply": "2025-07-30T20:16:45.991198Z"
    },
    "papermill": {
     "duration": 0.049306,
     "end_time": "2025-07-30T20:16:45.994059",
     "exception": false,
     "start_time": "2025-07-30T20:16:45.944753",
     "status": "completed"
    },
    "tags": []
   },
   "outputs": [
    {
     "data": {
      "text/html": [
       "<div>\n",
       "<style scoped>\n",
       "    .dataframe tbody tr th:only-of-type {\n",
       "        vertical-align: middle;\n",
       "    }\n",
       "\n",
       "    .dataframe tbody tr th {\n",
       "        vertical-align: top;\n",
       "    }\n",
       "\n",
       "    .dataframe thead th {\n",
       "        text-align: right;\n",
       "    }\n",
       "</style>\n",
       "<table border=\"1\" class=\"dataframe\">\n",
       "  <thead>\n",
       "    <tr style=\"text-align: right;\">\n",
       "      <th></th>\n",
       "      <th>universe_id</th>\n",
       "      <th>universe_training_year</th>\n",
       "      <th>universe_training_size</th>\n",
       "      <th>universe_scale</th>\n",
       "      <th>universe_model</th>\n",
       "      <th>universe_exclude_features</th>\n",
       "      <th>universe_exclude_subgroups</th>\n",
       "      <th>q_hat</th>\n",
       "      <th>coverage</th>\n",
       "      <th>avg_size</th>\n",
       "    </tr>\n",
       "  </thead>\n",
       "  <tbody>\n",
       "    <tr>\n",
       "      <th>0</th>\n",
       "      <td>148c87e04e6078e0a1ae23c736858883</td>\n",
       "      <td>2012_14</td>\n",
       "      <td>25k</td>\n",
       "      <td>do-not-scale</td>\n",
       "      <td>penalized_logreg</td>\n",
       "      <td>none</td>\n",
       "      <td>drop-non-german</td>\n",
       "      <td>0.669372</td>\n",
       "      <td>0.911236</td>\n",
       "      <td>1.21555</td>\n",
       "    </tr>\n",
       "  </tbody>\n",
       "</table>\n",
       "</div>"
      ],
      "text/plain": [
       "                        universe_id universe_training_year  \\\n",
       "0  148c87e04e6078e0a1ae23c736858883                2012_14   \n",
       "\n",
       "  universe_training_size universe_scale    universe_model  \\\n",
       "0                    25k   do-not-scale  penalized_logreg   \n",
       "\n",
       "  universe_exclude_features universe_exclude_subgroups     q_hat  coverage  \\\n",
       "0                      none            drop-non-german  0.669372  0.911236   \n",
       "\n",
       "   avg_size  \n",
       "0   1.21555  "
      ]
     },
     "execution_count": 61,
     "metadata": {},
     "output_type": "execute_result"
    }
   ],
   "source": [
    "cp_metrics_df"
   ]
  },
  {
   "cell_type": "code",
   "execution_count": 62,
   "id": "b7fbde55-a0a1-47e4-9af6-fe4a17fa8c61",
   "metadata": {
    "execution": {
     "iopub.execute_input": "2025-07-30T20:16:46.046860Z",
     "iopub.status.busy": "2025-07-30T20:16:46.046123Z",
     "iopub.status.idle": "2025-07-30T20:16:46.051461Z",
     "shell.execute_reply": "2025-07-30T20:16:46.050521Z"
    },
    "papermill": {
     "duration": 0.033593,
     "end_time": "2025-07-30T20:16:46.053036",
     "exception": false,
     "start_time": "2025-07-30T20:16:46.019443",
     "status": "completed"
    },
    "tags": []
   },
   "outputs": [],
   "source": [
    "# Conditional Coverage & looking at subgroups"
   ]
  },
  {
   "cell_type": "code",
   "execution_count": 63,
   "id": "027ae886-68dd-4141-96c7-805a5450e1ef",
   "metadata": {
    "execution": {
     "iopub.execute_input": "2025-07-30T20:16:46.103146Z",
     "iopub.status.busy": "2025-07-30T20:16:46.102634Z",
     "iopub.status.idle": "2025-07-30T20:16:46.395507Z",
     "shell.execute_reply": "2025-07-30T20:16:46.394397Z"
    },
    "papermill": {
     "duration": 0.320277,
     "end_time": "2025-07-30T20:16:46.397858",
     "exception": false,
     "start_time": "2025-07-30T20:16:46.077581",
     "status": "completed"
    },
    "tags": []
   },
   "outputs": [],
   "source": [
    "from fairness_multiverse.conformal import build_cp_groups\n",
    "\n",
    "cp_groups_df = build_cp_groups(pred_sets, y_true, X_test.index, org_test)\n",
    "#needs universe_id and setting"
   ]
  },
  {
   "cell_type": "code",
   "execution_count": 64,
   "id": "01d5802c-663a-4d1f-9d69-e036faaffbf7",
   "metadata": {
    "execution": {
     "iopub.execute_input": "2025-07-30T20:16:46.452263Z",
     "iopub.status.busy": "2025-07-30T20:16:46.451529Z",
     "iopub.status.idle": "2025-07-30T20:16:46.457369Z",
     "shell.execute_reply": "2025-07-30T20:16:46.456225Z"
    },
    "papermill": {
     "duration": 0.035755,
     "end_time": "2025-07-30T20:16:46.458824",
     "exception": false,
     "start_time": "2025-07-30T20:16:46.423069",
     "status": "completed"
    },
    "tags": []
   },
   "outputs": [],
   "source": [
    "#delete\n",
    "#cp_groups_df"
   ]
  },
  {
   "cell_type": "code",
   "execution_count": 65,
   "id": "fa424af1-d1eb-443d-b717-2d279ada8408",
   "metadata": {
    "execution": {
     "iopub.execute_input": "2025-07-30T20:16:46.489922Z",
     "iopub.status.busy": "2025-07-30T20:16:46.489534Z",
     "iopub.status.idle": "2025-07-30T20:16:46.494023Z",
     "shell.execute_reply": "2025-07-30T20:16:46.493370Z"
    },
    "papermill": {
     "duration": 0.021214,
     "end_time": "2025-07-30T20:16:46.495275",
     "exception": false,
     "start_time": "2025-07-30T20:16:46.474061",
     "status": "completed"
    },
    "tags": []
   },
   "outputs": [],
   "source": [
    "#delete\n",
    "#percentage = (cp_groups_df['nongerman_female'] == 1).mean() * 100\n",
    "#print(percentage)\n"
   ]
  },
  {
   "cell_type": "code",
   "execution_count": 66,
   "id": "6cbdab96-b2b2-45af-ad54-d0516db2e28d",
   "metadata": {
    "execution": {
     "iopub.execute_input": "2025-07-30T20:16:46.529156Z",
     "iopub.status.busy": "2025-07-30T20:16:46.528593Z",
     "iopub.status.idle": "2025-07-30T20:16:48.103823Z",
     "shell.execute_reply": "2025-07-30T20:16:48.102900Z"
    },
    "papermill": {
     "duration": 1.595761,
     "end_time": "2025-07-30T20:16:48.105692",
     "exception": false,
     "start_time": "2025-07-30T20:16:46.509931",
     "status": "completed"
    },
    "tags": []
   },
   "outputs": [],
   "source": [
    "# Define covered = 1 if true_label is in the predicted set\n",
    "cp_groups_df['covered'] = cp_groups_df.apply(\n",
    "    lambda r: int(r['true_label'] in r['pred_set']),\n",
    "    axis=1\n",
    ")"
   ]
  },
  {
   "cell_type": "code",
   "execution_count": 67,
   "id": "338ff529-1a6b-4b87-a931-8e4788d52aad",
   "metadata": {
    "execution": {
     "iopub.execute_input": "2025-07-30T20:16:48.160881Z",
     "iopub.status.busy": "2025-07-30T20:16:48.160390Z",
     "iopub.status.idle": "2025-07-30T20:16:48.165460Z",
     "shell.execute_reply": "2025-07-30T20:16:48.164524Z"
    },
    "papermill": {
     "duration": 0.03384,
     "end_time": "2025-07-30T20:16:48.167203",
     "exception": false,
     "start_time": "2025-07-30T20:16:48.133363",
     "status": "completed"
    },
    "tags": []
   },
   "outputs": [],
   "source": [
    "#cp_groups_df"
   ]
  },
  {
   "cell_type": "code",
   "execution_count": 68,
   "id": "90032e27-66df-4540-9169-4e89cfbaa758",
   "metadata": {
    "execution": {
     "iopub.execute_input": "2025-07-30T20:16:48.217797Z",
     "iopub.status.busy": "2025-07-30T20:16:48.217056Z",
     "iopub.status.idle": "2025-07-30T20:16:48.228711Z",
     "shell.execute_reply": "2025-07-30T20:16:48.227690Z"
    },
    "papermill": {
     "duration": 0.039259,
     "end_time": "2025-07-30T20:16:48.230528",
     "exception": false,
     "start_time": "2025-07-30T20:16:48.191269",
     "status": "completed"
    },
    "tags": []
   },
   "outputs": [],
   "source": [
    "subgroups = ['frau1','nongerman','nongerman_male','nongerman_female']\n",
    "\n",
    "# Conditional coverage for subgroup==1\n",
    "cond_coverage = {\n",
    "    g: cp_groups_df.loc[cp_groups_df[g]==1, 'covered'].mean()\n",
    "    for g in subgroups\n",
    "}"
   ]
  },
  {
   "cell_type": "code",
   "execution_count": 69,
   "id": "1e348fb1-b9c3-45bc-ba23-f016827a7e0d",
   "metadata": {
    "execution": {
     "iopub.execute_input": "2025-07-30T20:16:48.282680Z",
     "iopub.status.busy": "2025-07-30T20:16:48.282180Z",
     "iopub.status.idle": "2025-07-30T20:16:48.289929Z",
     "shell.execute_reply": "2025-07-30T20:16:48.288967Z"
    },
    "papermill": {
     "duration": 0.036149,
     "end_time": "2025-07-30T20:16:48.291429",
     "exception": false,
     "start_time": "2025-07-30T20:16:48.255280",
     "status": "completed"
    },
    "tags": []
   },
   "outputs": [
    {
     "data": {
      "text/plain": [
       "{'frau1': 0.9102844049063216,\n",
       " 'nongerman': 0.9383596249929826,\n",
       " 'nongerman_male': 0.9492929838782311,\n",
       " 'nongerman_female': 0.9202682563338301}"
      ]
     },
     "execution_count": 69,
     "metadata": {},
     "output_type": "execute_result"
    }
   ],
   "source": [
    "cond_coverage"
   ]
  },
  {
   "cell_type": "code",
   "execution_count": 70,
   "id": "f5093324-c3dd-4d63-bc4c-8d945e5c8bbb",
   "metadata": {
    "execution": {
     "iopub.execute_input": "2025-07-30T20:16:48.344617Z",
     "iopub.status.busy": "2025-07-30T20:16:48.343665Z",
     "iopub.status.idle": "2025-07-30T20:16:48.350610Z",
     "shell.execute_reply": "2025-07-30T20:16:48.349700Z"
    },
    "papermill": {
     "duration": 0.035366,
     "end_time": "2025-07-30T20:16:48.352291",
     "exception": false,
     "start_time": "2025-07-30T20:16:48.316925",
     "status": "completed"
    },
    "tags": []
   },
   "outputs": [],
   "source": [
    "for subgroup, cov in cond_coverage.items():\n",
    "    cp_metrics_df[f\"cov_{subgroup}\"] = cov"
   ]
  },
  {
   "cell_type": "code",
   "execution_count": 71,
   "id": "6e872e10-dbe5-49e8-b554-5030c98ff75d",
   "metadata": {
    "execution": {
     "iopub.execute_input": "2025-07-30T20:16:48.410061Z",
     "iopub.status.busy": "2025-07-30T20:16:48.409574Z",
     "iopub.status.idle": "2025-07-30T20:16:48.430535Z",
     "shell.execute_reply": "2025-07-30T20:16:48.429546Z"
    },
    "papermill": {
     "duration": 0.051513,
     "end_time": "2025-07-30T20:16:48.432198",
     "exception": false,
     "start_time": "2025-07-30T20:16:48.380685",
     "status": "completed"
    },
    "tags": []
   },
   "outputs": [
    {
     "data": {
      "text/html": [
       "<div>\n",
       "<style scoped>\n",
       "    .dataframe tbody tr th:only-of-type {\n",
       "        vertical-align: middle;\n",
       "    }\n",
       "\n",
       "    .dataframe tbody tr th {\n",
       "        vertical-align: top;\n",
       "    }\n",
       "\n",
       "    .dataframe thead th {\n",
       "        text-align: right;\n",
       "    }\n",
       "</style>\n",
       "<table border=\"1\" class=\"dataframe\">\n",
       "  <thead>\n",
       "    <tr style=\"text-align: right;\">\n",
       "      <th></th>\n",
       "      <th>universe_id</th>\n",
       "      <th>universe_training_year</th>\n",
       "      <th>universe_training_size</th>\n",
       "      <th>universe_scale</th>\n",
       "      <th>universe_model</th>\n",
       "      <th>universe_exclude_features</th>\n",
       "      <th>universe_exclude_subgroups</th>\n",
       "      <th>q_hat</th>\n",
       "      <th>coverage</th>\n",
       "      <th>avg_size</th>\n",
       "      <th>cov_frau1</th>\n",
       "      <th>cov_nongerman</th>\n",
       "      <th>cov_nongerman_male</th>\n",
       "      <th>cov_nongerman_female</th>\n",
       "    </tr>\n",
       "  </thead>\n",
       "  <tbody>\n",
       "    <tr>\n",
       "      <th>0</th>\n",
       "      <td>148c87e04e6078e0a1ae23c736858883</td>\n",
       "      <td>2012_14</td>\n",
       "      <td>25k</td>\n",
       "      <td>do-not-scale</td>\n",
       "      <td>penalized_logreg</td>\n",
       "      <td>none</td>\n",
       "      <td>drop-non-german</td>\n",
       "      <td>0.669372</td>\n",
       "      <td>0.911236</td>\n",
       "      <td>1.21555</td>\n",
       "      <td>0.910284</td>\n",
       "      <td>0.93836</td>\n",
       "      <td>0.949293</td>\n",
       "      <td>0.920268</td>\n",
       "    </tr>\n",
       "  </tbody>\n",
       "</table>\n",
       "</div>"
      ],
      "text/plain": [
       "                        universe_id universe_training_year  \\\n",
       "0  148c87e04e6078e0a1ae23c736858883                2012_14   \n",
       "\n",
       "  universe_training_size universe_scale    universe_model  \\\n",
       "0                    25k   do-not-scale  penalized_logreg   \n",
       "\n",
       "  universe_exclude_features universe_exclude_subgroups     q_hat  coverage  \\\n",
       "0                      none            drop-non-german  0.669372  0.911236   \n",
       "\n",
       "   avg_size  cov_frau1  cov_nongerman  cov_nongerman_male  \\\n",
       "0   1.21555   0.910284        0.93836            0.949293   \n",
       "\n",
       "   cov_nongerman_female  \n",
       "0              0.920268  "
      ]
     },
     "execution_count": 71,
     "metadata": {},
     "output_type": "execute_result"
    }
   ],
   "source": [
    "cp_metrics_df"
   ]
  },
  {
   "cell_type": "markdown",
   "id": "33774451",
   "metadata": {
    "papermill": {
     "duration": 0.024369,
     "end_time": "2025-07-30T20:16:48.485995",
     "exception": false,
     "start_time": "2025-07-30T20:16:48.461626",
     "status": "completed"
    },
    "tags": []
   },
   "source": [
    "# (Fairness) Metrics"
   ]
  },
  {
   "cell_type": "code",
   "execution_count": 72,
   "id": "debc5d62",
   "metadata": {
    "execution": {
     "iopub.execute_input": "2025-07-30T20:16:48.538398Z",
     "iopub.status.busy": "2025-07-30T20:16:48.537928Z",
     "iopub.status.idle": "2025-07-30T20:16:48.560532Z",
     "shell.execute_reply": "2025-07-30T20:16:48.559472Z"
    },
    "papermill": {
     "duration": 0.048426,
     "end_time": "2025-07-30T20:16:48.562363",
     "exception": false,
     "start_time": "2025-07-30T20:16:48.513937",
     "status": "completed"
    },
    "tags": []
   },
   "outputs": [],
   "source": [
    "# do I need to include maxdeutsch1.missing?\n",
    "\n",
    "import numpy as np\n",
    "\n",
    "colname_to_bin = \"maxdeutsch1\"\n",
    "majority_value = org_train[colname_to_bin].mode()[0]\n",
    "\n",
    "org_test[\"majmin\"] = np.where(org_test[colname_to_bin] == majority_value, \"majority\", \"minority\")"
   ]
  },
  {
   "cell_type": "code",
   "execution_count": 73,
   "id": "06a50de5",
   "metadata": {
    "execution": {
     "iopub.execute_input": "2025-07-30T20:16:48.599457Z",
     "iopub.status.busy": "2025-07-30T20:16:48.599071Z",
     "iopub.status.idle": "2025-07-30T20:16:51.177578Z",
     "shell.execute_reply": "2025-07-30T20:16:51.176584Z"
    },
    "papermill": {
     "duration": 2.597328,
     "end_time": "2025-07-30T20:16:51.179499",
     "exception": false,
     "start_time": "2025-07-30T20:16:48.582171",
     "status": "completed"
    },
    "tags": []
   },
   "outputs": [],
   "source": [
    "example_universe = universe.copy()\n",
    "example_universe[\"cutoff\"] = example_universe[\"cutoff\"][0]\n",
    "example_universe[\"eval_fairness_grouping\"] = example_universe[\"eval_fairness_grouping\"][0]\n",
    "fairness_dict, metric_frame = universe_analysis.compute_metrics(\n",
    "    example_universe,\n",
    "    y_pred_prob=probs_test,\n",
    "    y_test=y_true,\n",
    "    org_test=org_test,\n",
    ")"
   ]
  },
  {
   "cell_type": "markdown",
   "id": "f95d4e02",
   "metadata": {
    "papermill": {
     "duration": 0.026035,
     "end_time": "2025-07-30T20:16:51.233366",
     "exception": false,
     "start_time": "2025-07-30T20:16:51.207331",
     "status": "completed"
    },
    "tags": []
   },
   "source": [
    "# Overall"
   ]
  },
  {
   "cell_type": "markdown",
   "id": "bdee4871",
   "metadata": {
    "papermill": {
     "duration": 0.02697,
     "end_time": "2025-07-30T20:16:51.287129",
     "exception": false,
     "start_time": "2025-07-30T20:16:51.260159",
     "status": "completed"
    },
    "tags": []
   },
   "source": [
    "Fairness\n",
    "Main fairness target: Equalized Odds. Seems to be a better fit than equal opportunity, since we're not only interested in Y = 1. Seems to be a better fit than demographic parity, since we also care about accuracy, not just equal distribution of preds.\n",
    "\n",
    "Pick column for computation of fairness metrics\n",
    "\n",
    "Performance\n",
    "Overall performance measures, most interesting in relation to the measures split by group below"
   ]
  },
  {
   "cell_type": "code",
   "execution_count": 74,
   "id": "c4e067c6",
   "metadata": {
    "execution": {
     "iopub.execute_input": "2025-07-30T20:16:51.341781Z",
     "iopub.status.busy": "2025-07-30T20:16:51.341276Z",
     "iopub.status.idle": "2025-07-30T20:16:51.350039Z",
     "shell.execute_reply": "2025-07-30T20:16:51.349067Z"
    },
    "papermill": {
     "duration": 0.038317,
     "end_time": "2025-07-30T20:16:51.351516",
     "exception": false,
     "start_time": "2025-07-30T20:16:51.313199",
     "status": "completed"
    },
    "tags": []
   },
   "outputs": [
    {
     "data": {
      "text/plain": [
       "accuracy                   0.217534\n",
       "balanced accuracy          0.533334\n",
       "f1                         0.239054\n",
       "precision                  0.136563\n",
       "false positive rate        0.891448\n",
       "false negative rate        0.041884\n",
       "selection rate             0.900000\n",
       "count                  89710.000000\n",
       "dtype: float64"
      ]
     },
     "execution_count": 74,
     "metadata": {},
     "output_type": "execute_result"
    }
   ],
   "source": [
    "metric_frame.overall"
   ]
  },
  {
   "cell_type": "markdown",
   "id": "e968fe9d",
   "metadata": {
    "papermill": {
     "duration": 0.028005,
     "end_time": "2025-07-30T20:16:51.407282",
     "exception": false,
     "start_time": "2025-07-30T20:16:51.379277",
     "status": "completed"
    },
    "tags": []
   },
   "source": [
    "By Group"
   ]
  },
  {
   "cell_type": "code",
   "execution_count": 75,
   "id": "ec325bce",
   "metadata": {
    "execution": {
     "iopub.execute_input": "2025-07-30T20:16:51.462498Z",
     "iopub.status.busy": "2025-07-30T20:16:51.461634Z",
     "iopub.status.idle": "2025-07-30T20:16:51.478714Z",
     "shell.execute_reply": "2025-07-30T20:16:51.477738Z"
    },
    "papermill": {
     "duration": 0.047361,
     "end_time": "2025-07-30T20:16:51.481235",
     "exception": false,
     "start_time": "2025-07-30T20:16:51.433874",
     "status": "completed"
    },
    "tags": []
   },
   "outputs": [
    {
     "data": {
      "text/html": [
       "<div>\n",
       "<style scoped>\n",
       "    .dataframe tbody tr th:only-of-type {\n",
       "        vertical-align: middle;\n",
       "    }\n",
       "\n",
       "    .dataframe tbody tr th {\n",
       "        vertical-align: top;\n",
       "    }\n",
       "\n",
       "    .dataframe thead th {\n",
       "        text-align: right;\n",
       "    }\n",
       "</style>\n",
       "<table border=\"1\" class=\"dataframe\">\n",
       "  <thead>\n",
       "    <tr style=\"text-align: right;\">\n",
       "      <th></th>\n",
       "      <th>accuracy</th>\n",
       "      <th>balanced accuracy</th>\n",
       "      <th>f1</th>\n",
       "      <th>precision</th>\n",
       "      <th>false positive rate</th>\n",
       "      <th>false negative rate</th>\n",
       "      <th>selection rate</th>\n",
       "      <th>count</th>\n",
       "    </tr>\n",
       "    <tr>\n",
       "      <th>majmin</th>\n",
       "      <th></th>\n",
       "      <th></th>\n",
       "      <th></th>\n",
       "      <th></th>\n",
       "      <th></th>\n",
       "      <th></th>\n",
       "      <th></th>\n",
       "      <th></th>\n",
       "    </tr>\n",
       "  </thead>\n",
       "  <tbody>\n",
       "    <tr>\n",
       "      <th>majority</th>\n",
       "      <td>0.239916</td>\n",
       "      <td>0.541364</td>\n",
       "      <td>0.248510</td>\n",
       "      <td>0.142928</td>\n",
       "      <td>0.868366</td>\n",
       "      <td>0.048906</td>\n",
       "      <td>0.879297</td>\n",
       "      <td>69170.0</td>\n",
       "    </tr>\n",
       "    <tr>\n",
       "      <th>minority</th>\n",
       "      <td>0.142162</td>\n",
       "      <td>0.508761</td>\n",
       "      <td>0.209369</td>\n",
       "      <td>0.117130</td>\n",
       "      <td>0.967698</td>\n",
       "      <td>0.014780</td>\n",
       "      <td>0.969718</td>\n",
       "      <td>20540.0</td>\n",
       "    </tr>\n",
       "  </tbody>\n",
       "</table>\n",
       "</div>"
      ],
      "text/plain": [
       "          accuracy  balanced accuracy        f1  precision  \\\n",
       "majmin                                                       \n",
       "majority  0.239916           0.541364  0.248510   0.142928   \n",
       "minority  0.142162           0.508761  0.209369   0.117130   \n",
       "\n",
       "          false positive rate  false negative rate  selection rate    count  \n",
       "majmin                                                                       \n",
       "majority             0.868366             0.048906        0.879297  69170.0  \n",
       "minority             0.967698             0.014780        0.969718  20540.0  "
      ]
     },
     "execution_count": 75,
     "metadata": {},
     "output_type": "execute_result"
    }
   ],
   "source": [
    "metric_frame.by_group"
   ]
  },
  {
   "cell_type": "code",
   "execution_count": 76,
   "id": "a9ddbe63",
   "metadata": {
    "execution": {
     "iopub.execute_input": "2025-07-30T20:16:51.537669Z",
     "iopub.status.busy": "2025-07-30T20:16:51.537232Z",
     "iopub.status.idle": "2025-07-30T20:16:54.291936Z",
     "shell.execute_reply": "2025-07-30T20:16:54.290957Z"
    },
    "papermill": {
     "duration": 2.784612,
     "end_time": "2025-07-30T20:16:54.293511",
     "exception": false,
     "start_time": "2025-07-30T20:16:51.508899",
     "status": "completed"
    },
    "tags": []
   },
   "outputs": [
    {
     "data": {
      "text/plain": [
       "array([[<Axes: title={'center': 'accuracy'}, xlabel='majmin'>,\n",
       "        <Axes: title={'center': 'balanced accuracy'}, xlabel='majmin'>,\n",
       "        <Axes: title={'center': 'f1'}, xlabel='majmin'>],\n",
       "       [<Axes: title={'center': 'precision'}, xlabel='majmin'>,\n",
       "        <Axes: title={'center': 'false positive rate'}, xlabel='majmin'>,\n",
       "        <Axes: title={'center': 'false negative rate'}, xlabel='majmin'>],\n",
       "       [<Axes: title={'center': 'selection rate'}, xlabel='majmin'>,\n",
       "        <Axes: title={'center': 'count'}, xlabel='majmin'>,\n",
       "        <Axes: xlabel='majmin'>]], dtype=object)"
      ]
     },
     "execution_count": 76,
     "metadata": {},
     "output_type": "execute_result"
    },
    {
     "data": {
      "image/png": "[encoded data removed]",
      "text/plain": [
       "<Figure size 1200x800 with 9 Axes>"
      ]
     },
     "metadata": {},
     "output_type": "display_data"
    }
   ],
   "source": [
    "# In a graphic\n",
    "metric_frame.by_group.plot.bar(\n",
    "    subplots=True,\n",
    "    layout=[3, 3],\n",
    "    legend=False,\n",
    "    figsize=[12, 8],\n",
    "    title=\"Show all metrics\",\n",
    ")"
   ]
  },
  {
   "cell_type": "markdown",
   "id": "f57a0bac",
   "metadata": {
    "papermill": {
     "duration": 0.018314,
     "end_time": "2025-07-30T20:16:54.336610",
     "exception": false,
     "start_time": "2025-07-30T20:16:54.318296",
     "status": "completed"
    },
    "tags": []
   },
   "source": [
    "# Final Output"
   ]
  },
  {
   "cell_type": "code",
   "execution_count": 77,
   "id": "96d280a3",
   "metadata": {
    "execution": {
     "iopub.execute_input": "2025-07-30T20:16:54.374038Z",
     "iopub.status.busy": "2025-07-30T20:16:54.373277Z",
     "iopub.status.idle": "2025-07-30T20:16:54.381454Z",
     "shell.execute_reply": "2025-07-30T20:16:54.380749Z"
    },
    "papermill": {
     "duration": 0.026225,
     "end_time": "2025-07-30T20:16:54.382781",
     "exception": false,
     "start_time": "2025-07-30T20:16:54.356556",
     "status": "completed"
    },
    "tags": []
   },
   "outputs": [
    {
     "data": {
      "text/plain": [
       "4"
      ]
     },
     "execution_count": 77,
     "metadata": {},
     "output_type": "execute_result"
    }
   ],
   "source": [
    "sub_universes = universe_analysis.generate_sub_universes()\n",
    "len(sub_universes)"
   ]
  },
  {
   "cell_type": "code",
   "execution_count": 78,
   "id": "92adf7ba",
   "metadata": {
    "execution": {
     "iopub.execute_input": "2025-07-30T20:16:54.437058Z",
     "iopub.status.busy": "2025-07-30T20:16:54.436591Z",
     "iopub.status.idle": "2025-07-30T20:16:54.444742Z",
     "shell.execute_reply": "2025-07-30T20:16:54.441940Z"
    },
    "papermill": {
     "duration": 0.040948,
     "end_time": "2025-07-30T20:16:54.446464",
     "exception": false,
     "start_time": "2025-07-30T20:16:54.405516",
     "status": "completed"
    },
    "tags": []
   },
   "outputs": [],
   "source": [
    "def filter_sub_universe_data(sub_universe, org_test):\n",
    "    # Keep all rows — no filtering\n",
    "    keep_rows_mask = np.ones(org_test.shape[0], dtype=bool)\n",
    "\n",
    "    print(f\"[INFO] Keeping all rows: {keep_rows_mask.sum()} rows retained.\")\n",
    "    return keep_rows_mask"
   ]
  },
  {
   "cell_type": "code",
   "execution_count": 79,
   "id": "4a759155",
   "metadata": {
    "execution": {
     "iopub.execute_input": "2025-07-30T20:16:54.514898Z",
     "iopub.status.busy": "2025-07-30T20:16:54.513856Z",
     "iopub.status.idle": "2025-07-30T20:17:04.808263Z",
     "shell.execute_reply": "2025-07-30T20:17:04.807467Z"
    },
    "papermill": {
     "duration": 10.330046,
     "end_time": "2025-07-30T20:17:04.809628",
     "exception": false,
     "start_time": "2025-07-30T20:16:54.479582",
     "status": "completed"
    },
    "tags": []
   },
   "outputs": [
    {
     "name": "stdout",
     "output_type": "stream",
     "text": [
      "Stopping execution_time clock.\n",
      "[INFO] Keeping all rows: 89710 rows retained.\n"
     ]
    },
    {
     "name": "stdout",
     "output_type": "stream",
     "text": [
      "[INFO] Keeping all rows: 89710 rows retained.\n"
     ]
    },
    {
     "name": "stdout",
     "output_type": "stream",
     "text": [
      "[INFO] Keeping all rows: 89710 rows retained.\n"
     ]
    },
    {
     "name": "stdout",
     "output_type": "stream",
     "text": [
      "[INFO] Keeping all rows: 89710 rows retained.\n"
     ]
    },
    {
     "data": {
      "text/html": [
       "<div>\n",
       "<style scoped>\n",
       "    .dataframe tbody tr th:only-of-type {\n",
       "        vertical-align: middle;\n",
       "    }\n",
       "\n",
       "    .dataframe tbody tr th {\n",
       "        vertical-align: top;\n",
       "    }\n",
       "\n",
       "    .dataframe thead th {\n",
       "        text-align: right;\n",
       "    }\n",
       "</style>\n",
       "<table border=\"1\" class=\"dataframe\">\n",
       "  <thead>\n",
       "    <tr style=\"text-align: right;\">\n",
       "      <th></th>\n",
       "      <th>run_no</th>\n",
       "      <th>universe_id</th>\n",
       "      <th>universe_settings</th>\n",
       "      <th>execution_time</th>\n",
       "      <th>test_size_n</th>\n",
       "      <th>test_size_frac</th>\n",
       "      <th>fair_main_equalized_odds_difference</th>\n",
       "      <th>fair_main_equalized_odds_ratio</th>\n",
       "      <th>fair_main_demographic_parity_difference</th>\n",
       "      <th>fair_main_demographic_parity_ratio</th>\n",
       "      <th>...</th>\n",
       "      <th>perf_grp_precision_0</th>\n",
       "      <th>perf_grp_precision_1</th>\n",
       "      <th>perf_grp_false positive rate_0</th>\n",
       "      <th>perf_grp_false positive rate_1</th>\n",
       "      <th>perf_grp_false negative rate_0</th>\n",
       "      <th>perf_grp_false negative rate_1</th>\n",
       "      <th>perf_grp_selection rate_0</th>\n",
       "      <th>perf_grp_selection rate_1</th>\n",
       "      <th>perf_grp_count_0</th>\n",
       "      <th>perf_grp_count_1</th>\n",
       "    </tr>\n",
       "  </thead>\n",
       "  <tbody>\n",
       "    <tr>\n",
       "      <th>0</th>\n",
       "      <td>14</td>\n",
       "      <td>148c87e04e6078e0a1ae23c736858883</td>\n",
       "      <td>{\"cutoff\": \"quantile_0.1\", \"eval_fairness_grou...</td>\n",
       "      <td>27.760472</td>\n",
       "      <td>89710</td>\n",
       "      <td>1.0</td>\n",
       "      <td>0.099332</td>\n",
       "      <td>0.897352</td>\n",
       "      <td>0.090420</td>\n",
       "      <td>0.906756</td>\n",
       "      <td>...</td>\n",
       "      <td>NaN</td>\n",
       "      <td>NaN</td>\n",
       "      <td>NaN</td>\n",
       "      <td>NaN</td>\n",
       "      <td>NaN</td>\n",
       "      <td>NaN</td>\n",
       "      <td>NaN</td>\n",
       "      <td>NaN</td>\n",
       "      <td>NaN</td>\n",
       "      <td>NaN</td>\n",
       "    </tr>\n",
       "    <tr>\n",
       "      <th>0</th>\n",
       "      <td>14</td>\n",
       "      <td>148c87e04e6078e0a1ae23c736858883</td>\n",
       "      <td>{\"cutoff\": \"quantile_0.1\", \"eval_fairness_grou...</td>\n",
       "      <td>27.760472</td>\n",
       "      <td>89710</td>\n",
       "      <td>1.0</td>\n",
       "      <td>0.099332</td>\n",
       "      <td>0.897352</td>\n",
       "      <td>0.090420</td>\n",
       "      <td>0.906756</td>\n",
       "      <td>...</td>\n",
       "      <td>0.117130</td>\n",
       "      <td>0.142928</td>\n",
       "      <td>0.967698</td>\n",
       "      <td>0.868366</td>\n",
       "      <td>0.014780</td>\n",
       "      <td>0.048906</td>\n",
       "      <td>0.969718</td>\n",
       "      <td>0.879297</td>\n",
       "      <td>20540.0</td>\n",
       "      <td>69170.0</td>\n",
       "    </tr>\n",
       "    <tr>\n",
       "      <th>0</th>\n",
       "      <td>14</td>\n",
       "      <td>148c87e04e6078e0a1ae23c736858883</td>\n",
       "      <td>{\"cutoff\": \"quantile_0.25\", \"eval_fairness_gro...</td>\n",
       "      <td>27.760472</td>\n",
       "      <td>89710</td>\n",
       "      <td>1.0</td>\n",
       "      <td>0.223383</td>\n",
       "      <td>0.752300</td>\n",
       "      <td>0.204968</td>\n",
       "      <td>0.774272</td>\n",
       "      <td>...</td>\n",
       "      <td>NaN</td>\n",
       "      <td>NaN</td>\n",
       "      <td>NaN</td>\n",
       "      <td>NaN</td>\n",
       "      <td>NaN</td>\n",
       "      <td>NaN</td>\n",
       "      <td>NaN</td>\n",
       "      <td>NaN</td>\n",
       "      <td>NaN</td>\n",
       "      <td>NaN</td>\n",
       "    </tr>\n",
       "    <tr>\n",
       "      <th>0</th>\n",
       "      <td>14</td>\n",
       "      <td>148c87e04e6078e0a1ae23c736858883</td>\n",
       "      <td>{\"cutoff\": \"quantile_0.25\", \"eval_fairness_gro...</td>\n",
       "      <td>27.760472</td>\n",
       "      <td>89710</td>\n",
       "      <td>1.0</td>\n",
       "      <td>0.223383</td>\n",
       "      <td>0.752300</td>\n",
       "      <td>0.204968</td>\n",
       "      <td>0.774272</td>\n",
       "      <td>...</td>\n",
       "      <td>0.121334</td>\n",
       "      <td>0.162530</td>\n",
       "      <td>0.901827</td>\n",
       "      <td>0.678444</td>\n",
       "      <td>0.044341</td>\n",
       "      <td>0.135230</td>\n",
       "      <td>0.908033</td>\n",
       "      <td>0.703065</td>\n",
       "      <td>20540.0</td>\n",
       "      <td>69170.0</td>\n",
       "    </tr>\n",
       "  </tbody>\n",
       "</table>\n",
       "<p>4 rows × 50 columns</p>\n",
       "</div>"
      ],
      "text/plain": [
       "  run_no                       universe_id  \\\n",
       "0     14  148c87e04e6078e0a1ae23c736858883   \n",
       "0     14  148c87e04e6078e0a1ae23c736858883   \n",
       "0     14  148c87e04e6078e0a1ae23c736858883   \n",
       "0     14  148c87e04e6078e0a1ae23c736858883   \n",
       "\n",
       "                                   universe_settings  execution_time  \\\n",
       "0  {\"cutoff\": \"quantile_0.1\", \"eval_fairness_grou...       27.760472   \n",
       "0  {\"cutoff\": \"quantile_0.1\", \"eval_fairness_grou...       27.760472   \n",
       "0  {\"cutoff\": \"quantile_0.25\", \"eval_fairness_gro...       27.760472   \n",
       "0  {\"cutoff\": \"quantile_0.25\", \"eval_fairness_gro...       27.760472   \n",
       "\n",
       "   test_size_n  test_size_frac  fair_main_equalized_odds_difference  \\\n",
       "0        89710             1.0                             0.099332   \n",
       "0        89710             1.0                             0.099332   \n",
       "0        89710             1.0                             0.223383   \n",
       "0        89710             1.0                             0.223383   \n",
       "\n",
       "   fair_main_equalized_odds_ratio  fair_main_demographic_parity_difference  \\\n",
       "0                        0.897352                                 0.090420   \n",
       "0                        0.897352                                 0.090420   \n",
       "0                        0.752300                                 0.204968   \n",
       "0                        0.752300                                 0.204968   \n",
       "\n",
       "   fair_main_demographic_parity_ratio  ...  perf_grp_precision_0  \\\n",
       "0                            0.906756  ...                   NaN   \n",
       "0                            0.906756  ...              0.117130   \n",
       "0                            0.774272  ...                   NaN   \n",
       "0                            0.774272  ...              0.121334   \n",
       "\n",
       "   perf_grp_precision_1  perf_grp_false positive rate_0  \\\n",
       "0                   NaN                             NaN   \n",
       "0              0.142928                        0.967698   \n",
       "0                   NaN                             NaN   \n",
       "0              0.162530                        0.901827   \n",
       "\n",
       "   perf_grp_false positive rate_1  perf_grp_false negative rate_0  \\\n",
       "0                             NaN                             NaN   \n",
       "0                        0.868366                        0.014780   \n",
       "0                             NaN                             NaN   \n",
       "0                        0.678444                        0.044341   \n",
       "\n",
       "   perf_grp_false negative rate_1  perf_grp_selection rate_0  \\\n",
       "0                             NaN                        NaN   \n",
       "0                        0.048906                   0.969718   \n",
       "0                             NaN                        NaN   \n",
       "0                        0.135230                   0.908033   \n",
       "\n",
       "   perf_grp_selection rate_1  perf_grp_count_0  perf_grp_count_1  \n",
       "0                        NaN               NaN               NaN  \n",
       "0                   0.879297           20540.0           69170.0  \n",
       "0                        NaN               NaN               NaN  \n",
       "0                   0.703065           20540.0           69170.0  \n",
       "\n",
       "[4 rows x 50 columns]"
      ]
     },
     "execution_count": 79,
     "metadata": {},
     "output_type": "execute_result"
    }
   ],
   "source": [
    "final_output = universe_analysis.generate_final_output(\n",
    "    y_pred_prob=probs_test,\n",
    "    y_test=y_true,\n",
    "    org_test=org_test,\n",
    "    filter_data=filter_sub_universe_data,\n",
    "    cp_metrics_df=cp_metrics_df,\n",
    "    save=True,\n",
    ")\n",
    "final_output"
   ]
  },
  {
   "cell_type": "code",
   "execution_count": null,
   "id": "721ff514-cb11-46f8-b6fc-50392f74b5cb",
   "metadata": {
    "papermill": {
     "duration": 0.015153,
     "end_time": "2025-07-30T20:17:04.843768",
     "exception": false,
     "start_time": "2025-07-30T20:17:04.828615",
     "status": "completed"
    },
    "tags": []
   },
   "outputs": [],
   "source": []
  }
 ],
 "metadata": {
  "celltoolbar": "Tags",
  "kernelspec": {
   "display_name": "Python (CMA Fairness)",
   "language": "python",
   "name": "cma_fair_env"
  },
  "language_info": {
   "codemirror_mode": {
    "name": "ipython",
    "version": 3
   },
   "file_extension": ".py",
   "mimetype": "text/x-python",
   "name": "python",
   "nbconvert_exporter": "python",
   "pygments_lexer": "ipython3",
   "version": "3.10.12"
  },
  "papermill": {
   "default_parameters": {},
   "duration": 42.305035,
   "end_time": "2025-07-30T20:17:05.576960",
   "environment_variables": {},
   "exception": null,
   "input_path": "universe_analysis.ipynb",
   "output_path": "output/runs/14/notebooks/m_14-148c87e04e6078e0a1ae23c736858883.ipynb",
   "parameters": {
    "output_dir": "output",
    "run_no": "14",
    "seed": "2023",
    "universe": "{\"cutoff\": [\"quantile_0.1\", \"quantile_0.25\"], \"eval_fairness_grouping\": [\"majority-minority\", \"nationality-all\"], \"exclude_features\": \"none\", \"exclude_subgroups\": \"drop-non-german\", \"model\": \"penalized_logreg\", \"scale\": \"do-not-scale\", \"training_size\": \"25k\", \"training_year\": \"2012_14\"}",
    "universe_id": "148c87e04e6078e0a1ae23c736858883"
   },
   "start_time": "2025-07-30T20:16:23.271925",
   "version": "2.6.0"
  }
 },
 "nbformat": 4,
 "nbformat_minor": 5
}