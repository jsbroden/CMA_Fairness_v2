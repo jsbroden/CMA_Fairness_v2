{
 "cells": [
  {
   "cell_type": "code",
   "execution_count": 1,
   "id": "f159f837-637b-42ba-96b5-ec9a68c44524",
   "metadata": {
    "execution": {
     "iopub.execute_input": "2025-07-30T21:50:51.089846Z",
     "iopub.status.busy": "2025-07-30T21:50:51.089365Z",
     "iopub.status.idle": "2025-07-30T21:50:51.103632Z",
     "shell.execute_reply": "2025-07-30T21:50:51.102667Z"
    },
    "papermill": {
     "duration": 0.037896,
     "end_time": "2025-07-30T21:50:51.105444",
     "exception": false,
     "start_time": "2025-07-30T21:50:51.067548",
     "status": "completed"
    },
    "tags": []
   },
   "outputs": [
    {
     "name": "stdout",
     "output_type": "stream",
     "text": [
      "/dss/dsshome1/0C/ra93lal2/cma/CMA_Fairness_v2\n"
     ]
    },
    {
     "name": "stderr",
     "output_type": "stream",
     "text": [
      "/dss/dsshome1/0C/ra93lal2/.local/share/virtualenvs/CMA_Fairness_v2-3j10GkSs/lib/python3.10/site-packages/IPython/core/magics/osm.py:393: UserWarning: This is now an optional IPython functionality, using bookmarks requires you to install the `pickleshare` library.\n",
      "  bkms = self.shell.db.get('bookmarks', {})\n",
      "/dss/dsshome1/0C/ra93lal2/.local/share/virtualenvs/CMA_Fairness_v2-3j10GkSs/lib/python3.10/site-packages/IPython/core/magics/osm.py:417: UserWarning: This is now an optional IPython functionality, setting dhist requires you to install the `pickleshare` library.\n",
      "  self.shell.db['dhist'] = compress_dhist(dhist)[-100:]\n"
     ]
    }
   ],
   "source": [
    "%cd ~/cma/CMA_Fairness_v2"
   ]
  },
  {
   "cell_type": "markdown",
   "id": "de2603b9",
   "metadata": {
    "papermill": {
     "duration": 0.020337,
     "end_time": "2025-07-30T21:50:51.146354",
     "exception": false,
     "start_time": "2025-07-30T21:50:51.126017",
     "status": "completed"
    },
    "tags": []
   },
   "source": [
    "The following cell holds the definition of our parameters, these values can be overriden by rendering the with e.g. the following command:\n",
    "\n",
    "papermill -p alpha 0.2 -p ratio 0.3 universe_analysis.ipynb output/test_run.ipynb"
   ]
  },
  {
   "cell_type": "code",
   "execution_count": 2,
   "id": "a80968a0-40bb-4fa9-85ef-2d5eefb01975",
   "metadata": {
    "execution": {
     "iopub.execute_input": "2025-07-30T21:50:51.187581Z",
     "iopub.status.busy": "2025-07-30T21:50:51.187096Z",
     "iopub.status.idle": "2025-07-30T21:50:51.192500Z",
     "shell.execute_reply": "2025-07-30T21:50:51.191656Z"
    },
    "papermill": {
     "duration": 0.028644,
     "end_time": "2025-07-30T21:50:51.194390",
     "exception": false,
     "start_time": "2025-07-30T21:50:51.165746",
     "status": "completed"
    },
    "tags": []
   },
   "outputs": [
    {
     "name": "stdout",
     "output_type": "stream",
     "text": [
      "Current working directory: /dss/dsshome1/0C/ra93lal2/cma/CMA_Fairness_v2\n"
     ]
    }
   ],
   "source": [
    "import os\n",
    "print(\"Current working directory:\", os.getcwd())"
   ]
  },
  {
   "cell_type": "code",
   "execution_count": 3,
   "id": "2dce4c03",
   "metadata": {
    "execution": {
     "iopub.execute_input": "2025-07-30T21:50:51.237300Z",
     "iopub.status.busy": "2025-07-30T21:50:51.236816Z",
     "iopub.status.idle": "2025-07-30T21:50:51.243081Z",
     "shell.execute_reply": "2025-07-30T21:50:51.242154Z"
    },
    "papermill": {
     "duration": 0.028708,
     "end_time": "2025-07-30T21:50:51.244867",
     "exception": false,
     "start_time": "2025-07-30T21:50:51.216159",
     "status": "completed"
    },
    "tags": [
     "parameters"
    ]
   },
   "outputs": [],
   "source": [
    "run_no = 0\n",
    "universe_id = \"test\"\n",
    "universe = {\n",
    "    \"training_size\": \"25k\", # \"25k\", \"5k\", \"1k\"\n",
    "    \"training_year\": \"2014\", # \"2014\", \"2012_14\", \"2010_14\"\n",
    "    \"scale\": \"scale\", # \"scale\", \"do-not-scale\",\n",
    "    #\"stratify_split\": \"target\", # \"none\", \"target\", \"protected-attribute\", \"both\",\n",
    "    \"model\": \"elasticnet\", # \"logreg\", \"penalized_logreg\", \"rf\", \"gbm\", \"elasticnet\"\n",
    "    \"cutoff\": [\"quantile_0.15\", \"quantile_0.30\"],\n",
    "    \"exclude_features\": \"age\", # \"none\", \"nationality\", \"sex\", \"nationality-sex\", \"age\"\n",
    "    \"exclude_subgroups\": \"keep-all\", # \"keep-all\", \"drop-non-german\"\n",
    "    \"eval_fairness_grouping\": [\"majority-minority\", \"nationality-all\"]\n",
    "}\n",
    "\n",
    "output_dir=\"./output\"\n",
    "seed=0"
   ]
  },
  {
   "cell_type": "code",
   "execution_count": 4,
   "id": "a5de460c",
   "metadata": {
    "execution": {
     "iopub.execute_input": "2025-07-30T21:50:51.288619Z",
     "iopub.status.busy": "2025-07-30T21:50:51.288151Z",
     "iopub.status.idle": "2025-07-30T21:50:51.293484Z",
     "shell.execute_reply": "2025-07-30T21:50:51.292581Z"
    },
    "papermill": {
     "duration": 0.029153,
     "end_time": "2025-07-30T21:50:51.295148",
     "exception": false,
     "start_time": "2025-07-30T21:50:51.265995",
     "status": "completed"
    },
    "tags": [
     "injected-parameters"
    ]
   },
   "outputs": [],
   "source": [
    "# Parameters\n",
    "universe_id = \"142c114c0d774f4fdd3990cf6598027c\"\n",
    "run_no = \"14\"\n",
    "universe = \"{\\\"cutoff\\\": [\\\"quantile_0.1\\\", \\\"quantile_0.25\\\"], \\\"eval_fairness_grouping\\\": [\\\"majority-minority\\\", \\\"nationality-all\\\"], \\\"exclude_features\\\": \\\"nationality\\\", \\\"exclude_subgroups\\\": \\\"keep-all\\\", \\\"model\\\": \\\"rf\\\", \\\"scale\\\": \\\"do-not-scale\\\", \\\"training_size\\\": \\\"1k\\\", \\\"training_year\\\": \\\"2010_14\\\"}\"\n",
    "output_dir = \"output\"\n",
    "seed = \"2023\"\n"
   ]
  },
  {
   "cell_type": "code",
   "execution_count": 5,
   "id": "1650acaf",
   "metadata": {
    "execution": {
     "iopub.execute_input": "2025-07-30T21:50:51.337595Z",
     "iopub.status.busy": "2025-07-30T21:50:51.337122Z",
     "iopub.status.idle": "2025-07-30T21:50:51.342561Z",
     "shell.execute_reply": "2025-07-30T21:50:51.341524Z"
    },
    "papermill": {
     "duration": 0.029387,
     "end_time": "2025-07-30T21:50:51.344427",
     "exception": false,
     "start_time": "2025-07-30T21:50:51.315040",
     "status": "completed"
    },
    "tags": []
   },
   "outputs": [],
   "source": [
    "import json\n",
    "# Parse universe into dict if it is passed as a string\n",
    "if isinstance(universe, str):\n",
    "    universe = json.loads(universe)"
   ]
  },
  {
   "cell_type": "code",
   "execution_count": 6,
   "id": "16620c48",
   "metadata": {
    "execution": {
     "iopub.execute_input": "2025-07-30T21:50:51.386824Z",
     "iopub.status.busy": "2025-07-30T21:50:51.386339Z",
     "iopub.status.idle": "2025-07-30T21:50:51.431233Z",
     "shell.execute_reply": "2025-07-30T21:50:51.430274Z"
    },
    "papermill": {
     "duration": 0.067083,
     "end_time": "2025-07-30T21:50:51.433016",
     "exception": false,
     "start_time": "2025-07-30T21:50:51.365933",
     "status": "completed"
    },
    "tags": []
   },
   "outputs": [],
   "source": [
    "# Auto-reload the custom package\n",
    "%load_ext autoreload\n",
    "%autoreload 1\n",
    "%aimport fairness_multiverse"
   ]
  },
  {
   "cell_type": "code",
   "execution_count": 7,
   "id": "01c5c9f3",
   "metadata": {
    "execution": {
     "iopub.execute_input": "2025-07-30T21:50:51.476914Z",
     "iopub.status.busy": "2025-07-30T21:50:51.476209Z",
     "iopub.status.idle": "2025-07-30T21:50:53.579165Z",
     "shell.execute_reply": "2025-07-30T21:50:53.578193Z"
    },
    "papermill": {
     "duration": 2.12686,
     "end_time": "2025-07-30T21:50:53.580756",
     "exception": false,
     "start_time": "2025-07-30T21:50:51.453896",
     "status": "completed"
    },
    "tags": []
   },
   "outputs": [],
   "source": [
    "from fairness_multiverse.universe import UniverseAnalysis\n",
    "\n",
    "universe_analysis = UniverseAnalysis(\n",
    "    run_no = run_no,\n",
    "    universe_id = universe_id,\n",
    "    universe = universe,\n",
    "    output_dir=output_dir,\n",
    ")"
   ]
  },
  {
   "cell_type": "code",
   "execution_count": 8,
   "id": "106241f5",
   "metadata": {
    "execution": {
     "iopub.execute_input": "2025-07-30T21:50:53.618790Z",
     "iopub.status.busy": "2025-07-30T21:50:53.617846Z",
     "iopub.status.idle": "2025-07-30T21:50:53.624535Z",
     "shell.execute_reply": "2025-07-30T21:50:53.623524Z"
    },
    "papermill": {
     "duration": 0.031261,
     "end_time": "2025-07-30T21:50:53.626762",
     "exception": false,
     "start_time": "2025-07-30T21:50:53.595501",
     "status": "completed"
    },
    "tags": []
   },
   "outputs": [
    {
     "name": "stdout",
     "output_type": "stream",
     "text": [
      "Using Seed: 2023\n"
     ]
    }
   ],
   "source": [
    "import numpy as np\n",
    "parsed_seed = int(seed)\n",
    "np.random.seed(parsed_seed)\n",
    "print(f\"Using Seed: {parsed_seed}\")"
   ]
  },
  {
   "cell_type": "markdown",
   "id": "e0ebdc57",
   "metadata": {
    "papermill": {
     "duration": 0.029684,
     "end_time": "2025-07-30T21:50:53.686746",
     "exception": false,
     "start_time": "2025-07-30T21:50:53.657062",
     "status": "completed"
    },
    "tags": []
   },
   "source": [
    "# Loading Data"
   ]
  },
  {
   "cell_type": "markdown",
   "id": "681925a3",
   "metadata": {
    "papermill": {
     "duration": 0.028914,
     "end_time": "2025-07-30T21:50:53.744449",
     "exception": false,
     "start_time": "2025-07-30T21:50:53.715535",
     "status": "completed"
    },
    "tags": []
   },
   "source": [
    "Load siab_train, siab_test, siab_calib and/or \n",
    "load siab_train_features, siab_train_labels"
   ]
  },
  {
   "cell_type": "code",
   "execution_count": 9,
   "id": "f0496b8a",
   "metadata": {
    "execution": {
     "iopub.execute_input": "2025-07-30T21:50:53.804027Z",
     "iopub.status.busy": "2025-07-30T21:50:53.803594Z",
     "iopub.status.idle": "2025-07-30T21:51:06.752140Z",
     "shell.execute_reply": "2025-07-30T21:51:06.750833Z"
    },
    "papermill": {
     "duration": 12.980246,
     "end_time": "2025-07-30T21:51:06.753806",
     "exception": false,
     "start_time": "2025-07-30T21:50:53.773560",
     "status": "completed"
    },
    "tags": []
   },
   "outputs": [
    {
     "name": "stdout",
     "output_type": "stream",
     "text": [
      "Loading SIAB data from cache: data/siab_cached.csv.gz\n"
     ]
    },
    {
     "name": "stdout",
     "output_type": "stream",
     "text": [
      "(643690, 164)\n"
     ]
    }
   ],
   "source": [
    "from pathlib import Path\n",
    "import pandas as pd\n",
    "\n",
    "# File paths\n",
    "raw_file = Path(\"data/raw/siab.csv\")\n",
    "cache_file = Path(\"data/siab_cached.csv.gz\")\n",
    "\n",
    "# Ensure cache directory exists\n",
    "cache_file.parent.mkdir(parents=True, exist_ok=True)\n",
    "\n",
    "# Load with simple caching\n",
    "if cache_file.exists():\n",
    "    print(f\"Loading SIAB data from cache: {cache_file}\")\n",
    "    siab = pd.read_csv(cache_file, compression='gzip')\n",
    "else:\n",
    "    print(f\"Cache not found. Reading raw SIAB data: {raw_file}\")\n",
    "    siab = pd.read_csv(raw_file)\n",
    "    siab.to_csv(cache_file, index=False, compression='gzip')\n",
    "    print(f\"Cached SIAB data to: {cache_file}\")\n",
    "\n",
    "# Now use `siab` DataFrame as needed\n",
    "print(siab.shape)"
   ]
  },
  {
   "cell_type": "code",
   "execution_count": 10,
   "id": "db0ca512-5f53-4dba-abdb-a2888bca41ba",
   "metadata": {
    "execution": {
     "iopub.execute_input": "2025-07-30T21:51:06.873533Z",
     "iopub.status.busy": "2025-07-30T21:51:06.873028Z",
     "iopub.status.idle": "2025-07-30T21:51:06.878701Z",
     "shell.execute_reply": "2025-07-30T21:51:06.877856Z"
    },
    "papermill": {
     "duration": 0.070271,
     "end_time": "2025-07-30T21:51:06.880744",
     "exception": false,
     "start_time": "2025-07-30T21:51:06.810473",
     "status": "completed"
    },
    "tags": []
   },
   "outputs": [],
   "source": [
    "#siab"
   ]
  },
  {
   "cell_type": "code",
   "execution_count": 11,
   "id": "a0edb063",
   "metadata": {
    "execution": {
     "iopub.execute_input": "2025-07-30T21:51:06.959143Z",
     "iopub.status.busy": "2025-07-30T21:51:06.958682Z",
     "iopub.status.idle": "2025-07-30T21:51:06.964421Z",
     "shell.execute_reply": "2025-07-30T21:51:06.962966Z"
    },
    "papermill": {
     "duration": 0.041359,
     "end_time": "2025-07-30T21:51:06.965980",
     "exception": false,
     "start_time": "2025-07-30T21:51:06.924621",
     "status": "completed"
    },
    "tags": []
   },
   "outputs": [],
   "source": [
    "#import pandas as pd\n",
    "#\n",
    "#X_train = pd.read_csv(\"./data/X_train.csv\")\n",
    "#y_train = pd.read_csv(\"./data/y_train.csv\")"
   ]
  },
  {
   "cell_type": "code",
   "execution_count": 12,
   "id": "63d08085",
   "metadata": {
    "execution": {
     "iopub.execute_input": "2025-07-30T21:51:07.082920Z",
     "iopub.status.busy": "2025-07-30T21:51:07.082507Z",
     "iopub.status.idle": "2025-07-30T21:51:07.088312Z",
     "shell.execute_reply": "2025-07-30T21:51:07.087226Z"
    },
    "papermill": {
     "duration": 0.074239,
     "end_time": "2025-07-30T21:51:07.090131",
     "exception": false,
     "start_time": "2025-07-30T21:51:07.015892",
     "status": "completed"
    },
    "tags": []
   },
   "outputs": [],
   "source": [
    "#X_test = pd.read_csv(\"./data/X_test.csv\")\n",
    "#y_true = pd.read_csv(\"./data/y_test.csv\")"
   ]
  },
  {
   "cell_type": "code",
   "execution_count": 13,
   "id": "98a8d0fa-1d3d-4ed8-bb2c-281470e24add",
   "metadata": {
    "execution": {
     "iopub.execute_input": "2025-07-30T21:51:07.156286Z",
     "iopub.status.busy": "2025-07-30T21:51:07.155579Z",
     "iopub.status.idle": "2025-07-30T21:51:07.163280Z",
     "shell.execute_reply": "2025-07-30T21:51:07.161648Z"
    },
    "papermill": {
     "duration": 0.059217,
     "end_time": "2025-07-30T21:51:07.167627",
     "exception": false,
     "start_time": "2025-07-30T21:51:07.108410",
     "status": "completed"
    },
    "tags": []
   },
   "outputs": [],
   "source": [
    "# Calibration data for conformal\n",
    "#X_calib = pd.read_csv(\"./data/X_calib.csv\")\n",
    "#y_calib = pd.read_csv(\"./data/y_calib.csv\")"
   ]
  },
  {
   "cell_type": "markdown",
   "id": "997051c5-15bd-4b69-9786-c3001a3ce484",
   "metadata": {
    "papermill": {
     "duration": 0.046449,
     "end_time": "2025-07-30T21:51:07.260447",
     "exception": false,
     "start_time": "2025-07-30T21:51:07.213998",
     "status": "completed"
    },
    "tags": []
   },
   "source": [
    "# Splitting Data and Setting Training Data Size"
   ]
  },
  {
   "cell_type": "code",
   "execution_count": 14,
   "id": "e993b61f-042d-41a6-8c81-f55681f86335",
   "metadata": {
    "execution": {
     "iopub.execute_input": "2025-07-30T21:51:07.329593Z",
     "iopub.status.busy": "2025-07-30T21:51:07.328979Z",
     "iopub.status.idle": "2025-07-30T21:51:07.345036Z",
     "shell.execute_reply": "2025-07-30T21:51:07.343866Z"
    },
    "papermill": {
     "duration": 0.049598,
     "end_time": "2025-07-30T21:51:07.347051",
     "exception": false,
     "start_time": "2025-07-30T21:51:07.297453",
     "status": "completed"
    },
    "tags": []
   },
   "outputs": [],
   "source": [
    "def sample_by_year_size(df,\n",
    "                        training_year: str,\n",
    "                        training_size: str,\n",
    "                        random_state: int = 42):\n",
    "    # --- parse training_year into a list of int years ---\n",
    "    if \"_\" in training_year:\n",
    "        start_str, end_str = training_year.split(\"_\", 1)\n",
    "        start = int(start_str)\n",
    "        end   = int(end_str) if len(end_str) == 4 else (int(end_str) + (start // 100)*100)\n",
    "        years = list(range(start, end + 1))\n",
    "    else:\n",
    "        years = [int(training_year)]\n",
    "\n",
    "    df = df[df[\"year\"].isin(years)].reset_index(drop=True)\n",
    "\n",
    "    # --- map training_size to total number of samples ---\n",
    "    total_map = {\"25k\": 25_000, \"5k\": 5_000, \"1k\": 1_000}\n",
    "    if training_size not in total_map:\n",
    "        return df  # e.g. \"all\"\n",
    "\n",
    "    total_samples = total_map[training_size]\n",
    "    n_years       = len(years)\n",
    "    base          = total_samples // n_years\n",
    "    remainder     = total_samples % n_years\n",
    "\n",
    "    # --- build a dict: year -> how many to sample ---\n",
    "    # give +1 to the first `remainder` years in ascending order\n",
    "    quotas = {\n",
    "        year: base + (1 if idx < remainder else 0)\n",
    "        for idx, year in enumerate(sorted(years))\n",
    "    }\n",
    "\n",
    "    # --- sample per‐year according to the quota dict ---\n",
    "    sampled = (\n",
    "        df\n",
    "        .groupby(\"year\", group_keys=False)\n",
    "        .apply(lambda grp: grp.sample(\n",
    "            n=min(len(grp), quotas[grp.name]),\n",
    "            random_state=random_state))\n",
    "        .reset_index(drop=True)\n",
    "    )\n",
    "\n",
    "    return sampled"
   ]
  },
  {
   "cell_type": "code",
   "execution_count": 15,
   "id": "c0ccd338-0e02-41f3-a09d-f56f9266e3fb",
   "metadata": {
    "execution": {
     "iopub.execute_input": "2025-07-30T21:51:07.409152Z",
     "iopub.status.busy": "2025-07-30T21:51:07.408362Z",
     "iopub.status.idle": "2025-07-30T21:51:07.414348Z",
     "shell.execute_reply": "2025-07-30T21:51:07.413144Z"
    },
    "papermill": {
     "duration": 0.038681,
     "end_time": "2025-07-30T21:51:07.416496",
     "exception": false,
     "start_time": "2025-07-30T21:51:07.377815",
     "status": "completed"
    },
    "tags": []
   },
   "outputs": [],
   "source": [
    "#universe[\"training_size\"]"
   ]
  },
  {
   "cell_type": "code",
   "execution_count": 16,
   "id": "ca707fd7-8047-4acd-bfa5-66248fbbf8e6",
   "metadata": {
    "execution": {
     "iopub.execute_input": "2025-07-30T21:51:07.479478Z",
     "iopub.status.busy": "2025-07-30T21:51:07.478704Z",
     "iopub.status.idle": "2025-07-30T21:51:07.485209Z",
     "shell.execute_reply": "2025-07-30T21:51:07.483973Z"
    },
    "papermill": {
     "duration": 0.040029,
     "end_time": "2025-07-30T21:51:07.487328",
     "exception": false,
     "start_time": "2025-07-30T21:51:07.447299",
     "status": "completed"
    },
    "tags": []
   },
   "outputs": [],
   "source": [
    "#universe[\"training_year\"]"
   ]
  },
  {
   "cell_type": "code",
   "execution_count": 17,
   "id": "aea9c6ef-6f46-42c8-85eb-5a62025c1508",
   "metadata": {
    "execution": {
     "iopub.execute_input": "2025-07-30T21:51:07.538569Z",
     "iopub.status.busy": "2025-07-30T21:51:07.537738Z",
     "iopub.status.idle": "2025-07-30T21:51:08.630264Z",
     "shell.execute_reply": "2025-07-30T21:51:08.629069Z"
    },
    "papermill": {
     "duration": 1.121104,
     "end_time": "2025-07-30T21:51:08.632475",
     "exception": false,
     "start_time": "2025-07-30T21:51:07.511371",
     "status": "completed"
    },
    "tags": []
   },
   "outputs": [],
   "source": [
    "siab_train = sample_by_year_size(siab,\n",
    "                               training_year=universe[\"training_year\"],\n",
    "                               training_size=universe[\"training_size\"])"
   ]
  },
  {
   "cell_type": "code",
   "execution_count": 18,
   "id": "8d3afb32-789d-442c-8d5d-9f5aa8dd2eed",
   "metadata": {
    "execution": {
     "iopub.execute_input": "2025-07-30T21:51:08.684441Z",
     "iopub.status.busy": "2025-07-30T21:51:08.683785Z",
     "iopub.status.idle": "2025-07-30T21:51:08.689654Z",
     "shell.execute_reply": "2025-07-30T21:51:08.688545Z"
    },
    "papermill": {
     "duration": 0.03348,
     "end_time": "2025-07-30T21:51:08.691446",
     "exception": false,
     "start_time": "2025-07-30T21:51:08.657966",
     "status": "completed"
    },
    "tags": []
   },
   "outputs": [],
   "source": [
    "#siab_train.shape"
   ]
  },
  {
   "cell_type": "code",
   "execution_count": 19,
   "id": "d582db68-1a4c-47fb-84fc-08518dc1975a",
   "metadata": {
    "execution": {
     "iopub.execute_input": "2025-07-30T21:51:08.743384Z",
     "iopub.status.busy": "2025-07-30T21:51:08.742730Z",
     "iopub.status.idle": "2025-07-30T21:51:08.749292Z",
     "shell.execute_reply": "2025-07-30T21:51:08.747831Z"
    },
    "papermill": {
     "duration": 0.034352,
     "end_time": "2025-07-30T21:51:08.751364",
     "exception": false,
     "start_time": "2025-07-30T21:51:08.717012",
     "status": "completed"
    },
    "tags": []
   },
   "outputs": [],
   "source": [
    "#display(siab_train.groupby(\"year\").size())"
   ]
  },
  {
   "cell_type": "code",
   "execution_count": 20,
   "id": "a561edb4-d032-42cb-8256-22eac1111c64",
   "metadata": {
    "execution": {
     "iopub.execute_input": "2025-07-30T21:51:08.803199Z",
     "iopub.status.busy": "2025-07-30T21:51:08.802608Z",
     "iopub.status.idle": "2025-07-30T21:51:09.103244Z",
     "shell.execute_reply": "2025-07-30T21:51:09.102099Z"
    },
    "papermill": {
     "duration": 0.328496,
     "end_time": "2025-07-30T21:51:09.105244",
     "exception": false,
     "start_time": "2025-07-30T21:51:08.776748",
     "status": "completed"
    },
    "tags": []
   },
   "outputs": [],
   "source": [
    "#siab_train = siab_s[siab_s.year < 2015]\n",
    "siab_calib = siab[siab.year == 2015]\n",
    "siab_test = siab[siab.year == 2016]"
   ]
  },
  {
   "cell_type": "code",
   "execution_count": 21,
   "id": "472de16f-c3db-4916-846b-1f0de9cf1746",
   "metadata": {
    "execution": {
     "iopub.execute_input": "2025-07-30T21:51:09.230288Z",
     "iopub.status.busy": "2025-07-30T21:51:09.229900Z",
     "iopub.status.idle": "2025-07-30T21:51:09.237227Z",
     "shell.execute_reply": "2025-07-30T21:51:09.236095Z"
    },
    "papermill": {
     "duration": 0.074667,
     "end_time": "2025-07-30T21:51:09.238869",
     "exception": false,
     "start_time": "2025-07-30T21:51:09.164202",
     "status": "completed"
    },
    "tags": []
   },
   "outputs": [],
   "source": [
    "X_train = siab_train.iloc[:,4:164]\n",
    "y_train = siab_train.iloc[:, [3]]"
   ]
  },
  {
   "cell_type": "code",
   "execution_count": 22,
   "id": "828c96af-f43a-4ed6-ba47-8ac73a47d56c",
   "metadata": {
    "execution": {
     "iopub.execute_input": "2025-07-30T21:51:09.314733Z",
     "iopub.status.busy": "2025-07-30T21:51:09.314256Z",
     "iopub.status.idle": "2025-07-30T21:51:09.379375Z",
     "shell.execute_reply": "2025-07-30T21:51:09.375307Z"
    },
    "papermill": {
     "duration": 0.108798,
     "end_time": "2025-07-30T21:51:09.381607",
     "exception": false,
     "start_time": "2025-07-30T21:51:09.272809",
     "status": "completed"
    },
    "tags": []
   },
   "outputs": [],
   "source": [
    "X_calib = siab_calib.iloc[:,4:164]\n",
    "y_calib = siab_calib.iloc[:, [3]]"
   ]
  },
  {
   "cell_type": "code",
   "execution_count": 23,
   "id": "c34be9c3-6bd6-476e-acd3-845840e303be",
   "metadata": {
    "execution": {
     "iopub.execute_input": "2025-07-30T21:51:09.434557Z",
     "iopub.status.busy": "2025-07-30T21:51:09.434100Z",
     "iopub.status.idle": "2025-07-30T21:51:09.492286Z",
     "shell.execute_reply": "2025-07-30T21:51:09.491292Z"
    },
    "papermill": {
     "duration": 0.087297,
     "end_time": "2025-07-30T21:51:09.493869",
     "exception": false,
     "start_time": "2025-07-30T21:51:09.406572",
     "status": "completed"
    },
    "tags": []
   },
   "outputs": [],
   "source": [
    "X_test = siab_test.iloc[:,4:164]\n",
    "y_true = siab_test.iloc[:, [3]]"
   ]
  },
  {
   "cell_type": "markdown",
   "id": "9901737e-04df-44f0-9100-f5ad144ed040",
   "metadata": {
    "papermill": {
     "duration": 0.019992,
     "end_time": "2025-07-30T21:51:09.534739",
     "exception": false,
     "start_time": "2025-07-30T21:51:09.514747",
     "status": "completed"
    },
    "tags": []
   },
   "source": [
    "# Splitting Data and Setting Training Data Size OLD VERSION"
   ]
  },
  {
   "cell_type": "code",
   "execution_count": 24,
   "id": "acbc8f7d-8fc8-4e86-8c59-5dcb0f58384b",
   "metadata": {
    "execution": {
     "iopub.execute_input": "2025-07-30T21:51:09.580945Z",
     "iopub.status.busy": "2025-07-30T21:51:09.580172Z",
     "iopub.status.idle": "2025-07-30T21:51:09.586667Z",
     "shell.execute_reply": "2025-07-30T21:51:09.585521Z"
    },
    "papermill": {
     "duration": 0.033242,
     "end_time": "2025-07-30T21:51:09.588543",
     "exception": false,
     "start_time": "2025-07-30T21:51:09.555301",
     "status": "completed"
    },
    "tags": []
   },
   "outputs": [],
   "source": [
    "#def sample_by_year(df, training_size, random_state=42):\n",
    "#    if training_size == \"2014\":\n",
    "#        return df[df[\"year\"] == 2014].reset_index(drop=True)\n",
    "#    \n",
    "#    size_map = {\n",
    "#        \"25k\": 5000,\n",
    "#        \"5k\": 1000,\n",
    "#        \"1k\": 200\n",
    "#    }\n",
    "#\n",
    "#    if training_size not in size_map:\n",
    "#        return df.reset_index(drop=True)  # use all data\n",
    "#\n",
    "#    n_per_year = size_map[training_size]\n",
    "#    grouped = df.groupby(\"year\")\n",
    "#    sampled = grouped.apply(lambda x: x.sample(n=min(n_per_year, len(x)), random_state=random_state))\n",
    "#    return sampled.reset_index(drop=True)"
   ]
  },
  {
   "cell_type": "code",
   "execution_count": 25,
   "id": "6d931f52-beaf-43ff-9e78-9d44a448d54e",
   "metadata": {
    "execution": {
     "iopub.execute_input": "2025-07-30T21:51:09.639839Z",
     "iopub.status.busy": "2025-07-30T21:51:09.639253Z",
     "iopub.status.idle": "2025-07-30T21:51:09.644356Z",
     "shell.execute_reply": "2025-07-30T21:51:09.643397Z"
    },
    "papermill": {
     "duration": 0.034888,
     "end_time": "2025-07-30T21:51:09.646534",
     "exception": false,
     "start_time": "2025-07-30T21:51:09.611646",
     "status": "completed"
    },
    "tags": []
   },
   "outputs": [],
   "source": [
    "#siab_s = sample_by_year(siab, universe[\"training_size\"])"
   ]
  },
  {
   "cell_type": "code",
   "execution_count": 26,
   "id": "5db0a40e-a4e2-4920-be85-b12ae061d70d",
   "metadata": {
    "execution": {
     "iopub.execute_input": "2025-07-30T21:51:09.695174Z",
     "iopub.status.busy": "2025-07-30T21:51:09.694220Z",
     "iopub.status.idle": "2025-07-30T21:51:09.699527Z",
     "shell.execute_reply": "2025-07-30T21:51:09.698718Z"
    },
    "papermill": {
     "duration": 0.033633,
     "end_time": "2025-07-30T21:51:09.704371",
     "exception": false,
     "start_time": "2025-07-30T21:51:09.670738",
     "status": "completed"
    },
    "tags": []
   },
   "outputs": [],
   "source": [
    "#display(siab_s.groupby(\"year\").size())"
   ]
  },
  {
   "cell_type": "code",
   "execution_count": 27,
   "id": "e6c733c5",
   "metadata": {
    "execution": {
     "iopub.execute_input": "2025-07-30T21:51:09.748142Z",
     "iopub.status.busy": "2025-07-30T21:51:09.747721Z",
     "iopub.status.idle": "2025-07-30T21:51:09.878658Z",
     "shell.execute_reply": "2025-07-30T21:51:09.877721Z"
    },
    "papermill": {
     "duration": 0.156028,
     "end_time": "2025-07-30T21:51:09.880427",
     "exception": false,
     "start_time": "2025-07-30T21:51:09.724399",
     "status": "completed"
    },
    "tags": []
   },
   "outputs": [],
   "source": [
    "# Auxiliary data needed downstream in the pipeline\n",
    "\n",
    "org_train = X_train.copy()\n",
    "org_test = X_test.copy()\n",
    "org_calib = X_calib.copy()"
   ]
  },
  {
   "cell_type": "code",
   "execution_count": 28,
   "id": "1466abac-c6da-4492-a62f-4240ae3783af",
   "metadata": {
    "execution": {
     "iopub.execute_input": "2025-07-30T21:51:09.981460Z",
     "iopub.status.busy": "2025-07-30T21:51:09.980951Z",
     "iopub.status.idle": "2025-07-30T21:51:09.987334Z",
     "shell.execute_reply": "2025-07-30T21:51:09.986369Z"
    },
    "papermill": {
     "duration": 0.076902,
     "end_time": "2025-07-30T21:51:09.989420",
     "exception": false,
     "start_time": "2025-07-30T21:51:09.912518",
     "status": "completed"
    },
    "tags": []
   },
   "outputs": [],
   "source": [
    "# put in other script?\n",
    "# Group sizes\n",
    "\n",
    "#def calculate_percentages(df, df_name):\n",
    "#    total_entries = len(df)\n",
    "#\n",
    "#    female_pct = (df['frau1'] == 1).mean() * 100\n",
    "#    non_german_pct = ((df['maxdeutsch1'] == 0) & (df['maxdeutsch.Missing.'] == 0)).mean() * 100\n",
    "#    non_german_male_pct = ((df['frau1'] == 0) & (df['maxdeutsch1'] == 0) & (df['maxdeutsch.Missing.'] == 0)).mean() * 100\n",
    "#    non_german_female_pct = ((df['frau1'] == 1) & (df['maxdeutsch1'] == 0) & (df['maxdeutsch.Missing.'] == 0)).mean() * 100\n",
    "#\n",
    "#    print(f\"--- {df_name} ---\")\n",
    "#    print(f\"Female: {female_pct:.2f}%\")\n",
    "#    print(f\"Non-German: {non_german_pct:.2f}%\")\n",
    "#    print(f\"Non-German Male: {non_german_male_pct:.2f}%\")\n",
    "#    print(f\"Non-German Female: {non_german_female_pct:.2f}%\\n\")\n",
    "#\n",
    "## Calculate for each DataFrame\n",
    "#calculate_percentages(siab_calib, \"siab_calib\")\n",
    "#calculate_percentages(siab_test, \"siab_test\")\n",
    "#calculate_percentages(siab_train, \"siab_train\")"
   ]
  },
  {
   "cell_type": "markdown",
   "id": "0a4a1b33",
   "metadata": {
    "papermill": {
     "duration": 0.020913,
     "end_time": "2025-07-30T21:51:10.031332",
     "exception": false,
     "start_time": "2025-07-30T21:51:10.010419",
     "status": "completed"
    },
    "tags": []
   },
   "source": [
    "# Preprocessing Data"
   ]
  },
  {
   "cell_type": "code",
   "execution_count": 29,
   "id": "ca879031",
   "metadata": {
    "execution": {
     "iopub.execute_input": "2025-07-30T21:51:10.092283Z",
     "iopub.status.busy": "2025-07-30T21:51:10.091854Z",
     "iopub.status.idle": "2025-07-30T21:51:10.098377Z",
     "shell.execute_reply": "2025-07-30T21:51:10.097356Z"
    },
    "papermill": {
     "duration": 0.049147,
     "end_time": "2025-07-30T21:51:10.101322",
     "exception": false,
     "start_time": "2025-07-30T21:51:10.052175",
     "status": "completed"
    },
    "tags": []
   },
   "outputs": [],
   "source": [
    "# EXCLUDE PROTECTED FEATURES\n",
    "# ----------------------\n",
    "# \"exclude_features\": \"none\", # \"nationality\", \"sex\", \"nationality-sex\"\n",
    "\n",
    "excluded_features = universe[\"exclude_features\"].split(\"-\") # split, e.g.: \"nationality-sex\" -> [\"nationality\", \"sex\"]\n",
    "excluded_features_dictionary = {\n",
    "    \"nationality\": [\"maxdeutsch1\", \"maxdeutsch.Missing.\"],\n",
    "    \"sex\": [\"frau1\"],\n",
    "    \"age\": [\"age\"],\n",
    "}\n"
   ]
  },
  {
   "cell_type": "code",
   "execution_count": 30,
   "id": "b745ac60",
   "metadata": {
    "execution": {
     "iopub.execute_input": "2025-07-30T21:51:10.144453Z",
     "iopub.status.busy": "2025-07-30T21:51:10.143998Z",
     "iopub.status.idle": "2025-07-30T21:51:10.149655Z",
     "shell.execute_reply": "2025-07-30T21:51:10.148804Z"
    },
    "papermill": {
     "duration": 0.029887,
     "end_time": "2025-07-30T21:51:10.152397",
     "exception": false,
     "start_time": "2025-07-30T21:51:10.122510",
     "status": "completed"
    },
    "tags": []
   },
   "outputs": [],
   "source": [
    "# Code nice names to column names\n",
    "\n",
    "excluded_features_columns = [\n",
    "    excluded_features_dictionary[f] for f in excluded_features if len(f) > 0 and f != \"none\"\n",
    "]"
   ]
  },
  {
   "cell_type": "code",
   "execution_count": 31,
   "id": "f84f73a2",
   "metadata": {
    "execution": {
     "iopub.execute_input": "2025-07-30T21:51:10.191956Z",
     "iopub.status.busy": "2025-07-30T21:51:10.191522Z",
     "iopub.status.idle": "2025-07-30T21:51:10.197992Z",
     "shell.execute_reply": "2025-07-30T21:51:10.196951Z"
    },
    "papermill": {
     "duration": 0.029735,
     "end_time": "2025-07-30T21:51:10.200816",
     "exception": false,
     "start_time": "2025-07-30T21:51:10.171081",
     "status": "completed"
    },
    "tags": []
   },
   "outputs": [],
   "source": [
    "from utils import flatten_once\n",
    "\n",
    "excluded_features_columns = flatten_once(excluded_features_columns)"
   ]
  },
  {
   "cell_type": "code",
   "execution_count": 32,
   "id": "884dea22",
   "metadata": {
    "execution": {
     "iopub.execute_input": "2025-07-30T21:51:10.235237Z",
     "iopub.status.busy": "2025-07-30T21:51:10.234737Z",
     "iopub.status.idle": "2025-07-30T21:51:10.242487Z",
     "shell.execute_reply": "2025-07-30T21:51:10.241698Z"
    },
    "papermill": {
     "duration": 0.025773,
     "end_time": "2025-07-30T21:51:10.243801",
     "exception": false,
     "start_time": "2025-07-30T21:51:10.218028",
     "status": "completed"
    },
    "tags": []
   },
   "outputs": [
    {
     "name": "stdout",
     "output_type": "stream",
     "text": [
      "Dropping features: ['maxdeutsch1', 'maxdeutsch.Missing.']\n"
     ]
    }
   ],
   "source": [
    "if len(excluded_features_columns) > 0:\n",
    "    print(f\"Dropping features: {excluded_features_columns}\")\n",
    "    X_train.drop(excluded_features_columns, axis=1, inplace=True)"
   ]
  },
  {
   "cell_type": "code",
   "execution_count": 33,
   "id": "95ab8b16",
   "metadata": {
    "execution": {
     "iopub.execute_input": "2025-07-30T21:51:10.271347Z",
     "iopub.status.busy": "2025-07-30T21:51:10.270640Z",
     "iopub.status.idle": "2025-07-30T21:51:10.325816Z",
     "shell.execute_reply": "2025-07-30T21:51:10.324674Z"
    },
    "papermill": {
     "duration": 0.070955,
     "end_time": "2025-07-30T21:51:10.328130",
     "exception": false,
     "start_time": "2025-07-30T21:51:10.257175",
     "status": "completed"
    },
    "tags": []
   },
   "outputs": [
    {
     "name": "stdout",
     "output_type": "stream",
     "text": [
      "Dropping features: ['maxdeutsch1', 'maxdeutsch.Missing.']\n"
     ]
    }
   ],
   "source": [
    "if len(excluded_features_columns) > 0:\n",
    "    print(f\"Dropping features: {excluded_features_columns}\")\n",
    "    X_test.drop(excluded_features_columns, axis=1, inplace=True)"
   ]
  },
  {
   "cell_type": "code",
   "execution_count": 34,
   "id": "1853aaf5-fb9f-46cb-a2b5-8ea4ae2237e4",
   "metadata": {
    "execution": {
     "iopub.execute_input": "2025-07-30T21:51:10.394720Z",
     "iopub.status.busy": "2025-07-30T21:51:10.394193Z",
     "iopub.status.idle": "2025-07-30T21:51:10.495450Z",
     "shell.execute_reply": "2025-07-30T21:51:10.494029Z"
    },
    "papermill": {
     "duration": 0.133609,
     "end_time": "2025-07-30T21:51:10.497897",
     "exception": false,
     "start_time": "2025-07-30T21:51:10.364288",
     "status": "completed"
    },
    "tags": []
   },
   "outputs": [
    {
     "name": "stdout",
     "output_type": "stream",
     "text": [
      "Dropping features: ['maxdeutsch1', 'maxdeutsch.Missing.']\n"
     ]
    }
   ],
   "source": [
    "if len(excluded_features_columns) > 0:\n",
    "    print(f\"Dropping features: {excluded_features_columns}\")\n",
    "    X_calib.drop(excluded_features_columns, axis=1, inplace=True)"
   ]
  },
  {
   "cell_type": "code",
   "execution_count": 35,
   "id": "6727d079-03e5-481e-9d38-292a90b7a0a8",
   "metadata": {
    "execution": {
     "iopub.execute_input": "2025-07-30T21:51:10.559825Z",
     "iopub.status.busy": "2025-07-30T21:51:10.559364Z",
     "iopub.status.idle": "2025-07-30T21:51:10.566760Z",
     "shell.execute_reply": "2025-07-30T21:51:10.565652Z"
    },
    "papermill": {
     "duration": 0.04286,
     "end_time": "2025-07-30T21:51:10.568754",
     "exception": false,
     "start_time": "2025-07-30T21:51:10.525894",
     "status": "completed"
    },
    "tags": []
   },
   "outputs": [],
   "source": [
    "# SPLIT & STRATIFY DATA\n",
    "# ----------------------"
   ]
  },
  {
   "cell_type": "code",
   "execution_count": 36,
   "id": "76c4dc6d",
   "metadata": {
    "execution": {
     "iopub.execute_input": "2025-07-30T21:51:10.632192Z",
     "iopub.status.busy": "2025-07-30T21:51:10.631087Z",
     "iopub.status.idle": "2025-07-30T21:51:10.637683Z",
     "shell.execute_reply": "2025-07-30T21:51:10.636506Z"
    },
    "papermill": {
     "duration": 0.041569,
     "end_time": "2025-07-30T21:51:10.650329",
     "exception": false,
     "start_time": "2025-07-30T21:51:10.608760",
     "status": "completed"
    },
    "tags": []
   },
   "outputs": [],
   "source": [
    "# EXCLUDE CERTAIN SUBGROUPS\n",
    "# ----------------------\n",
    "\n",
    "mode = universe.get(\"exclude_subgroups\", \"keep-all\") \n",
    "# Fetches the exclude_subgroups setting from the universe dict.\n",
    "# Defaults to \"keep-all\" if the key is missing."
   ]
  },
  {
   "cell_type": "code",
   "execution_count": 37,
   "id": "21994072",
   "metadata": {
    "execution": {
     "iopub.execute_input": "2025-07-30T21:51:10.727771Z",
     "iopub.status.busy": "2025-07-30T21:51:10.727319Z",
     "iopub.status.idle": "2025-07-30T21:51:10.735998Z",
     "shell.execute_reply": "2025-07-30T21:51:10.733469Z"
    },
    "papermill": {
     "duration": 0.051182,
     "end_time": "2025-07-30T21:51:10.737833",
     "exception": false,
     "start_time": "2025-07-30T21:51:10.686651",
     "status": "completed"
    },
    "tags": []
   },
   "outputs": [],
   "source": [
    "if mode == \"keep-all\":\n",
    "    keep_mask = pd.Series(True, index=org_train.index)\n",
    "\n",
    "# org_train contains the original feature columns from features_org (in Simson)\n",
    "# features_org contains unprocessed features, for me X_train at beginning ???\n",
    "# For keep-all, creates a boolean Series (keep_mask) of all True, so no rows are removed.\n",
    "\n",
    "elif mode == \"drop-non-german\":\n",
    "    keep_mask = org_train[\"maxdeutsch1\"] == 1 # ??? what about missing values?\n",
    "\n",
    "else:\n",
    "    raise ValueError(f\"Unsupported mode for exclude_subgroups: {mode}\")\n"
   ]
  },
  {
   "cell_type": "code",
   "execution_count": 38,
   "id": "71651440",
   "metadata": {
    "execution": {
     "iopub.execute_input": "2025-07-30T21:51:10.804167Z",
     "iopub.status.busy": "2025-07-30T21:51:10.803658Z",
     "iopub.status.idle": "2025-07-30T21:51:10.810645Z",
     "shell.execute_reply": "2025-07-30T21:51:10.809669Z"
    },
    "papermill": {
     "duration": 0.051885,
     "end_time": "2025-07-30T21:51:10.812520",
     "exception": false,
     "start_time": "2025-07-30T21:51:10.760635",
     "status": "completed"
    },
    "tags": []
   },
   "outputs": [],
   "source": [
    "n_drop = (~keep_mask).sum() # Calculates how many rows are set to be dropped\n",
    "if n_drop > 0:\n",
    "    pct = n_drop / len(keep_mask) * 100\n",
    "    print(f\"Dropping {n_drop} rows ({pct:.2f}%) where mode='{mode}'\")"
   ]
  },
  {
   "cell_type": "code",
   "execution_count": 39,
   "id": "5fb8eee5",
   "metadata": {
    "execution": {
     "iopub.execute_input": "2025-07-30T21:51:10.898757Z",
     "iopub.status.busy": "2025-07-30T21:51:10.898191Z",
     "iopub.status.idle": "2025-07-30T21:51:10.905303Z",
     "shell.execute_reply": "2025-07-30T21:51:10.904301Z"
    },
    "papermill": {
     "duration": 0.03873,
     "end_time": "2025-07-30T21:51:10.907365",
     "exception": false,
     "start_time": "2025-07-30T21:51:10.868635",
     "status": "completed"
    },
    "tags": []
   },
   "outputs": [],
   "source": [
    "X_train = X_train[keep_mask]"
   ]
  },
  {
   "cell_type": "code",
   "execution_count": 40,
   "id": "b202bb3a",
   "metadata": {
    "execution": {
     "iopub.execute_input": "2025-07-30T21:51:10.961338Z",
     "iopub.status.busy": "2025-07-30T21:51:10.960870Z",
     "iopub.status.idle": "2025-07-30T21:51:10.967434Z",
     "shell.execute_reply": "2025-07-30T21:51:10.966232Z"
    },
    "papermill": {
     "duration": 0.037549,
     "end_time": "2025-07-30T21:51:10.970785",
     "exception": false,
     "start_time": "2025-07-30T21:51:10.933236",
     "status": "completed"
    },
    "tags": []
   },
   "outputs": [],
   "source": [
    "y_train = y_train[keep_mask]"
   ]
  },
  {
   "cell_type": "markdown",
   "id": "493e2ac3",
   "metadata": {
    "papermill": {
     "duration": 0.026281,
     "end_time": "2025-07-30T21:51:11.023748",
     "exception": false,
     "start_time": "2025-07-30T21:51:10.997467",
     "status": "completed"
    },
    "tags": []
   },
   "source": [
    "# Model Training"
   ]
  },
  {
   "cell_type": "code",
   "execution_count": 41,
   "id": "679e1268",
   "metadata": {
    "execution": {
     "iopub.execute_input": "2025-07-30T21:51:11.070823Z",
     "iopub.status.busy": "2025-07-30T21:51:11.070314Z",
     "iopub.status.idle": "2025-07-30T21:51:11.181085Z",
     "shell.execute_reply": "2025-07-30T21:51:11.180099Z"
    },
    "papermill": {
     "duration": 0.133328,
     "end_time": "2025-07-30T21:51:11.182652",
     "exception": false,
     "start_time": "2025-07-30T21:51:11.049324",
     "status": "completed"
    },
    "tags": []
   },
   "outputs": [],
   "source": [
    "from sklearn.linear_model import LogisticRegression\n",
    "from sklearn.ensemble import GradientBoostingClassifier, RandomForestClassifier\n",
    "\n",
    "if (universe[\"model\"] == \"logreg\"):\n",
    "    model = LogisticRegression() #penalty=\"none\") #, solver=\"newton-cg\", max_iter=1) # include random_state=19 ?\n",
    "elif (universe[\"model\"] == \"penalized_logreg\"):\n",
    "    model = LogisticRegression(penalty=\"l2\", C=1.0) #, solver=\"newton-cg\", max_iter=1)\n",
    "elif (universe[\"model\"] == \"rf\"):\n",
    "    model = RandomForestClassifier(n_estimators=100, n_jobs=-1)\n",
    "elif (universe[\"model\"] == \"gbm\"):\n",
    "    model = GradientBoostingClassifier()\n",
    "elif (universe[\"model\"] == \"elasticnet\"):\n",
    "    model = LogisticRegression(penalty = 'elasticnet', solver = 'saga', l1_ratio = 0.5, max_iter=5000) # which solver to use?\n",
    "else:\n",
    "    raise \"Unsupported universe.model\""
   ]
  },
  {
   "cell_type": "code",
   "execution_count": 42,
   "id": "0cc8f744",
   "metadata": {
    "execution": {
     "iopub.execute_input": "2025-07-30T21:51:11.211296Z",
     "iopub.status.busy": "2025-07-30T21:51:11.210946Z",
     "iopub.status.idle": "2025-07-30T21:51:11.234215Z",
     "shell.execute_reply": "2025-07-30T21:51:11.233206Z"
    },
    "papermill": {
     "duration": 0.040302,
     "end_time": "2025-07-30T21:51:11.236188",
     "exception": false,
     "start_time": "2025-07-30T21:51:11.195886",
     "status": "completed"
    },
    "tags": []
   },
   "outputs": [],
   "source": [
    "import numpy as np\n",
    "from sklearn.pipeline import Pipeline\n",
    "from sklearn.preprocessing import StandardScaler\n",
    "\n",
    "model = Pipeline([\n",
    "    #(\"continuous_processor\", continuous_processor),\n",
    "    #(\"categorical_preprocessor\", categorical_preprocessor),\n",
    "    (\"scale\", StandardScaler() if universe[\"scale\"] == \"scale\" else None), \n",
    "    (\"model\", model),\n",
    "])"
   ]
  },
  {
   "cell_type": "code",
   "execution_count": 43,
   "id": "9442c04d",
   "metadata": {
    "execution": {
     "iopub.execute_input": "2025-07-30T21:51:11.301895Z",
     "iopub.status.busy": "2025-07-30T21:51:11.301012Z",
     "iopub.status.idle": "2025-07-30T21:51:11.853163Z",
     "shell.execute_reply": "2025-07-30T21:51:11.852113Z"
    },
    "papermill": {
     "duration": 0.591046,
     "end_time": "2025-07-30T21:51:11.858839",
     "exception": false,
     "start_time": "2025-07-30T21:51:11.267793",
     "status": "completed"
    },
    "tags": []
   },
   "outputs": [
    {
     "data": {
      "text/html": [
       "<style>#sk-container-id-1 {color: black;background-color: white;}#sk-container-id-1 pre{padding: 0;}#sk-container-id-1 div.sk-toggleable {background-color: white;}#sk-container-id-1 label.sk-toggleable__label {cursor: pointer;display: block;width: 100%;margin-bottom: 0;padding: 0.3em;box-sizing: border-box;text-align: center;}#sk-container-id-1 label.sk-toggleable__label-arrow:before {content: \"▸\";float: left;margin-right: 0.25em;color: #696969;}#sk-container-id-1 label.sk-toggleable__label-arrow:hover:before {color: black;}#sk-container-id-1 div.sk-estimator:hover label.sk-toggleable__label-arrow:before {color: black;}#sk-container-id-1 div.sk-toggleable__content {max-height: 0;max-width: 0;overflow: hidden;text-align: left;background-color: #f0f8ff;}#sk-container-id-1 div.sk-toggleable__content pre {margin: 0.2em;color: black;border-radius: 0.25em;background-color: #f0f8ff;}#sk-container-id-1 input.sk-toggleable__control:checked~div.sk-toggleable__content {max-height: 200px;max-width: 100%;overflow: auto;}#sk-container-id-1 input.sk-toggleable__control:checked~label.sk-toggleable__label-arrow:before {content: \"▾\";}#sk-container-id-1 div.sk-estimator input.sk-toggleable__control:checked~label.sk-toggleable__label {background-color: #d4ebff;}#sk-container-id-1 div.sk-label input.sk-toggleable__control:checked~label.sk-toggleable__label {background-color: #d4ebff;}#sk-container-id-1 input.sk-hidden--visually {border: 0;clip: rect(1px 1px 1px 1px);clip: rect(1px, 1px, 1px, 1px);height: 1px;margin: -1px;overflow: hidden;padding: 0;position: absolute;width: 1px;}#sk-container-id-1 div.sk-estimator {font-family: monospace;background-color: #f0f8ff;border: 1px dotted black;border-radius: 0.25em;box-sizing: border-box;margin-bottom: 0.5em;}#sk-container-id-1 div.sk-estimator:hover {background-color: #d4ebff;}#sk-container-id-1 div.sk-parallel-item::after {content: \"\";width: 100%;border-bottom: 1px solid gray;flex-grow: 1;}#sk-container-id-1 div.sk-label:hover label.sk-toggleable__label {background-color: #d4ebff;}#sk-container-id-1 div.sk-serial::before {content: \"\";position: absolute;border-left: 1px solid gray;box-sizing: border-box;top: 0;bottom: 0;left: 50%;z-index: 0;}#sk-container-id-1 div.sk-serial {display: flex;flex-direction: column;align-items: center;background-color: white;padding-right: 0.2em;padding-left: 0.2em;position: relative;}#sk-container-id-1 div.sk-item {position: relative;z-index: 1;}#sk-container-id-1 div.sk-parallel {display: flex;align-items: stretch;justify-content: center;background-color: white;position: relative;}#sk-container-id-1 div.sk-item::before, #sk-container-id-1 div.sk-parallel-item::before {content: \"\";position: absolute;border-left: 1px solid gray;box-sizing: border-box;top: 0;bottom: 0;left: 50%;z-index: -1;}#sk-container-id-1 div.sk-parallel-item {display: flex;flex-direction: column;z-index: 1;position: relative;background-color: white;}#sk-container-id-1 div.sk-parallel-item:first-child::after {align-self: flex-end;width: 50%;}#sk-container-id-1 div.sk-parallel-item:last-child::after {align-self: flex-start;width: 50%;}#sk-container-id-1 div.sk-parallel-item:only-child::after {width: 0;}#sk-container-id-1 div.sk-dashed-wrapped {border: 1px dashed gray;margin: 0 0.4em 0.5em 0.4em;box-sizing: border-box;padding-bottom: 0.4em;background-color: white;}#sk-container-id-1 div.sk-label label {font-family: monospace;font-weight: bold;display: inline-block;line-height: 1.2em;}#sk-container-id-1 div.sk-label-container {text-align: center;}#sk-container-id-1 div.sk-container {/* jupyter's `normalize.less` sets `[hidden] { display: none; }` but bootstrap.min.css set `[hidden] { display: none !important; }` so we also need the `!important` here to be able to override the default hidden behavior on the sphinx rendered scikit-learn.org. See: https://github.com/scikit-learn/scikit-learn/issues/21755 */display: inline-block !important;position: relative;}#sk-container-id-1 div.sk-text-repr-fallback {display: none;}</style><div id=\"sk-container-id-1\" class=\"sk-top-container\"><div class=\"sk-text-repr-fallback\"><pre>Pipeline(steps=[(&#x27;scale&#x27;, None), (&#x27;model&#x27;, RandomForestClassifier(n_jobs=-1))])</pre><b>In a Jupyter environment, please rerun this cell to show the HTML representation or trust the notebook. <br />On GitHub, the HTML representation is unable to render, please try loading this page with nbviewer.org.</b></div><div class=\"sk-container\" hidden><div class=\"sk-item sk-dashed-wrapped\"><div class=\"sk-label-container\"><div class=\"sk-label sk-toggleable\"><input class=\"sk-toggleable__control sk-hidden--visually\" id=\"sk-estimator-id-1\" type=\"checkbox\" ><label for=\"sk-estimator-id-1\" class=\"sk-toggleable__label sk-toggleable__label-arrow\">Pipeline</label><div class=\"sk-toggleable__content\"><pre>Pipeline(steps=[(&#x27;scale&#x27;, None), (&#x27;model&#x27;, RandomForestClassifier(n_jobs=-1))])</pre></div></div></div><div class=\"sk-serial\"><div class=\"sk-item\"><div class=\"sk-estimator sk-toggleable\"><input class=\"sk-toggleable__control sk-hidden--visually\" id=\"sk-estimator-id-2\" type=\"checkbox\" ><label for=\"sk-estimator-id-2\" class=\"sk-toggleable__label sk-toggleable__label-arrow\">None</label><div class=\"sk-toggleable__content\"><pre>None</pre></div></div></div><div class=\"sk-item\"><div class=\"sk-estimator sk-toggleable\"><input class=\"sk-toggleable__control sk-hidden--visually\" id=\"sk-estimator-id-3\" type=\"checkbox\" ><label for=\"sk-estimator-id-3\" class=\"sk-toggleable__label sk-toggleable__label-arrow\">RandomForestClassifier</label><div class=\"sk-toggleable__content\"><pre>RandomForestClassifier(n_jobs=-1)</pre></div></div></div></div></div></div></div>"
      ],
      "text/plain": [
       "Pipeline(steps=[('scale', None), ('model', RandomForestClassifier(n_jobs=-1))])"
      ]
     },
     "execution_count": 43,
     "metadata": {},
     "output_type": "execute_result"
    }
   ],
   "source": [
    "model.fit(X_train, y_train.values.ravel())"
   ]
  },
  {
   "cell_type": "code",
   "execution_count": 44,
   "id": "af59f8c0",
   "metadata": {
    "execution": {
     "iopub.execute_input": "2025-07-30T21:51:11.909786Z",
     "iopub.status.busy": "2025-07-30T21:51:11.908933Z",
     "iopub.status.idle": "2025-07-30T21:51:11.921309Z",
     "shell.execute_reply": "2025-07-30T21:51:11.920236Z"
    },
    "papermill": {
     "duration": 0.040828,
     "end_time": "2025-07-30T21:51:11.923629",
     "exception": false,
     "start_time": "2025-07-30T21:51:11.882801",
     "status": "completed"
    },
    "tags": []
   },
   "outputs": [],
   "source": [
    "from fairness_multiverse.universe import predict_w_threshold"
   ]
  },
  {
   "cell_type": "code",
   "execution_count": 45,
   "id": "a7cf2e16",
   "metadata": {
    "execution": {
     "iopub.execute_input": "2025-07-30T21:51:11.977576Z",
     "iopub.status.busy": "2025-07-30T21:51:11.975881Z",
     "iopub.status.idle": "2025-07-30T21:51:12.886843Z",
     "shell.execute_reply": "2025-07-30T21:51:12.885406Z"
    },
    "papermill": {
     "duration": 0.939907,
     "end_time": "2025-07-30T21:51:12.889241",
     "exception": false,
     "start_time": "2025-07-30T21:51:11.949334",
     "status": "completed"
    },
    "tags": []
   },
   "outputs": [
    {
     "data": {
      "text/plain": [
       "0.8621781295284806"
      ]
     },
     "execution_count": 45,
     "metadata": {},
     "output_type": "execute_result"
    }
   ],
   "source": [
    "probs_test = model.predict_proba(X_test)\n",
    "\n",
    "'''\n",
    "Below code returns a boolean array (or binary 0/1 array depending on how it’s used) where each element \n",
    "is True if the probability of class 1 is greater than or equal to the threshold, and False otherwise.\n",
    "'''\n",
    "y_pred_default = predict_w_threshold(probs_test, 0.5)\n",
    "\n",
    "from sklearn.metrics import accuracy_score\n",
    "\n",
    "# Naive prediction\n",
    "accuracy_score(y_true = y_true, y_pred = y_pred_default)"
   ]
  },
  {
   "cell_type": "code",
   "execution_count": 46,
   "id": "081964c3",
   "metadata": {
    "execution": {
     "iopub.execute_input": "2025-07-30T21:51:12.978215Z",
     "iopub.status.busy": "2025-07-30T21:51:12.977721Z",
     "iopub.status.idle": "2025-07-30T21:51:13.912869Z",
     "shell.execute_reply": "2025-07-30T21:51:13.912077Z"
    },
    "papermill": {
     "duration": 0.965767,
     "end_time": "2025-07-30T21:51:13.914317",
     "exception": false,
     "start_time": "2025-07-30T21:51:12.948550",
     "status": "completed"
    },
    "tags": []
   },
   "outputs": [
    {
     "data": {
      "text/plain": [
       "array([0, 0, 0, ..., 0, 0, 0])"
      ]
     },
     "execution_count": 46,
     "metadata": {},
     "output_type": "execute_result"
    }
   ],
   "source": [
    "model.predict(X_test)"
   ]
  },
  {
   "cell_type": "markdown",
   "id": "56c9705b",
   "metadata": {
    "papermill": {
     "duration": 0.026999,
     "end_time": "2025-07-30T21:51:13.958835",
     "exception": false,
     "start_time": "2025-07-30T21:51:13.931836",
     "status": "completed"
    },
    "tags": []
   },
   "source": [
    "# Conformal Prediction"
   ]
  },
  {
   "cell_type": "code",
   "execution_count": 47,
   "id": "160ec6ff",
   "metadata": {
    "execution": {
     "iopub.execute_input": "2025-07-30T21:51:14.014617Z",
     "iopub.status.busy": "2025-07-30T21:51:14.014064Z",
     "iopub.status.idle": "2025-07-30T21:51:14.021124Z",
     "shell.execute_reply": "2025-07-30T21:51:14.019893Z"
    },
    "papermill": {
     "duration": 0.037859,
     "end_time": "2025-07-30T21:51:14.023260",
     "exception": false,
     "start_time": "2025-07-30T21:51:13.985401",
     "status": "completed"
    },
    "tags": []
   },
   "outputs": [],
   "source": [
    "# Miscoverage level for conformal prediction (10% allowed error rate => 90% target coverage)\n",
    "alpha = 0.1"
   ]
  },
  {
   "cell_type": "code",
   "execution_count": 48,
   "id": "eadf4555-3dd3-440e-8e35-f82a4ad9f855",
   "metadata": {
    "execution": {
     "iopub.execute_input": "2025-07-30T21:51:14.075029Z",
     "iopub.status.busy": "2025-07-30T21:51:14.074647Z",
     "iopub.status.idle": "2025-07-30T21:51:15.002736Z",
     "shell.execute_reply": "2025-07-30T21:51:15.001967Z"
    },
    "papermill": {
     "duration": 0.954373,
     "end_time": "2025-07-30T21:51:15.004606",
     "exception": false,
     "start_time": "2025-07-30T21:51:14.050233",
     "status": "completed"
    },
    "tags": []
   },
   "outputs": [],
   "source": [
    "probs_calib = model.predict_proba(X_calib)"
   ]
  },
  {
   "cell_type": "code",
   "execution_count": 49,
   "id": "2ed93547-6d5d-4983-9b36-1ecb300da49a",
   "metadata": {
    "execution": {
     "iopub.execute_input": "2025-07-30T21:51:15.066687Z",
     "iopub.status.busy": "2025-07-30T21:51:15.066206Z",
     "iopub.status.idle": "2025-07-30T21:51:15.072684Z",
     "shell.execute_reply": "2025-07-30T21:51:15.071680Z"
    },
    "papermill": {
     "duration": 0.041524,
     "end_time": "2025-07-30T21:51:15.077178",
     "exception": false,
     "start_time": "2025-07-30T21:51:15.035654",
     "status": "completed"
    },
    "tags": []
   },
   "outputs": [],
   "source": [
    "y_calib = y_calib.values.ravel().astype(int)"
   ]
  },
  {
   "cell_type": "code",
   "execution_count": 50,
   "id": "65d1320d-f588-4b38-9072-62af1ae97f7d",
   "metadata": {
    "execution": {
     "iopub.execute_input": "2025-07-30T21:51:15.170950Z",
     "iopub.status.busy": "2025-07-30T21:51:15.170504Z",
     "iopub.status.idle": "2025-07-30T21:51:15.198165Z",
     "shell.execute_reply": "2025-07-30T21:51:15.179685Z"
    },
    "papermill": {
     "duration": 0.069951,
     "end_time": "2025-07-30T21:51:15.200597",
     "exception": false,
     "start_time": "2025-07-30T21:51:15.130646",
     "status": "completed"
    },
    "tags": []
   },
   "outputs": [],
   "source": [
    "from fairness_multiverse.conformal import compute_nc_scores\n",
    "\n",
    "# Compute nonconformity scores on calibration set (1 - probability of true class)\n",
    "nc_scores = compute_nc_scores(probs_calib, y_calib)"
   ]
  },
  {
   "cell_type": "code",
   "execution_count": 51,
   "id": "df3b8ca3-53b7-43d5-9667-7c85da7aeda2",
   "metadata": {
    "execution": {
     "iopub.execute_input": "2025-07-30T21:51:15.297637Z",
     "iopub.status.busy": "2025-07-30T21:51:15.296631Z",
     "iopub.status.idle": "2025-07-30T21:51:15.304715Z",
     "shell.execute_reply": "2025-07-30T21:51:15.303512Z"
    },
    "papermill": {
     "duration": 0.045129,
     "end_time": "2025-07-30T21:51:15.307158",
     "exception": false,
     "start_time": "2025-07-30T21:51:15.262029",
     "status": "completed"
    },
    "tags": []
   },
   "outputs": [],
   "source": [
    "from fairness_multiverse.conformal import find_threshold\n",
    "\n",
    "# Find conformal threshold q_hat for the given alpha (split conformal method)\n",
    "q_hat = find_threshold(nc_scores, alpha)"
   ]
  },
  {
   "cell_type": "code",
   "execution_count": 52,
   "id": "4d29e6c1-0ef6-4aa4-b8fe-4fe79b0d033a",
   "metadata": {
    "execution": {
     "iopub.execute_input": "2025-07-30T21:51:15.357031Z",
     "iopub.status.busy": "2025-07-30T21:51:15.356600Z",
     "iopub.status.idle": "2025-07-30T21:51:15.364682Z",
     "shell.execute_reply": "2025-07-30T21:51:15.363644Z"
    },
    "papermill": {
     "duration": 0.037819,
     "end_time": "2025-07-30T21:51:15.369541",
     "exception": false,
     "start_time": "2025-07-30T21:51:15.331722",
     "status": "completed"
    },
    "tags": []
   },
   "outputs": [
    {
     "data": {
      "text/plain": [
       "0.65"
      ]
     },
     "execution_count": 52,
     "metadata": {},
     "output_type": "execute_result"
    }
   ],
   "source": [
    "q_hat"
   ]
  },
  {
   "cell_type": "code",
   "execution_count": 53,
   "id": "92460794-cdac-4be2-ba28-f28c0515a6fb",
   "metadata": {
    "execution": {
     "iopub.execute_input": "2025-07-30T21:51:15.446791Z",
     "iopub.status.busy": "2025-07-30T21:51:15.446393Z",
     "iopub.status.idle": "2025-07-30T21:51:17.296121Z",
     "shell.execute_reply": "2025-07-30T21:51:17.281708Z"
    },
    "papermill": {
     "duration": 1.901164,
     "end_time": "2025-07-30T21:51:17.297950",
     "exception": false,
     "start_time": "2025-07-30T21:51:15.396786",
     "status": "completed"
    },
    "tags": []
   },
   "outputs": [],
   "source": [
    "from fairness_multiverse.conformal import predict_conformal_sets\n",
    "\n",
    "# Generate prediction sets for each test example\n",
    "pred_sets = predict_conformal_sets(model, X_test, q_hat)"
   ]
  },
  {
   "cell_type": "code",
   "execution_count": 54,
   "id": "d90c9a65-e6db-4f5d-80cd-e68fb7e46829",
   "metadata": {
    "execution": {
     "iopub.execute_input": "2025-07-30T21:51:17.373681Z",
     "iopub.status.busy": "2025-07-30T21:51:17.372510Z",
     "iopub.status.idle": "2025-07-30T21:51:17.378223Z",
     "shell.execute_reply": "2025-07-30T21:51:17.377360Z"
    },
    "papermill": {
     "duration": 0.032205,
     "end_time": "2025-07-30T21:51:17.380803",
     "exception": false,
     "start_time": "2025-07-30T21:51:17.348598",
     "status": "completed"
    },
    "tags": []
   },
   "outputs": [],
   "source": [
    "y_true = y_true.squeeze()"
   ]
  },
  {
   "cell_type": "code",
   "execution_count": 55,
   "id": "3a58a54a-1e68-46b9-927a-df01f18aebc8",
   "metadata": {
    "execution": {
     "iopub.execute_input": "2025-07-30T21:51:17.428654Z",
     "iopub.status.busy": "2025-07-30T21:51:17.428264Z",
     "iopub.status.idle": "2025-07-30T21:51:18.332457Z",
     "shell.execute_reply": "2025-07-30T21:51:18.331356Z"
    },
    "papermill": {
     "duration": 0.929733,
     "end_time": "2025-07-30T21:51:18.334576",
     "exception": false,
     "start_time": "2025-07-30T21:51:17.404843",
     "status": "completed"
    },
    "tags": []
   },
   "outputs": [],
   "source": [
    "from fairness_multiverse.conformal import evaluate_sets\n",
    "\n",
    "# Evaluate coverage and average set size on test data\n",
    "metrics = evaluate_sets(pred_sets, y_true)"
   ]
  },
  {
   "cell_type": "markdown",
   "id": "2b569c12-9aaa-4c88-98c9-bbcd0cf3ebb8",
   "metadata": {
    "papermill": {
     "duration": 0.022745,
     "end_time": "2025-07-30T21:51:18.381454",
     "exception": false,
     "start_time": "2025-07-30T21:51:18.358709",
     "status": "completed"
    },
    "tags": []
   },
   "source": [
    "# CP Metrics"
   ]
  },
  {
   "cell_type": "code",
   "execution_count": 56,
   "id": "5ce0a5cb-201f-45a0-ade5-94c7f0bd6095",
   "metadata": {
    "execution": {
     "iopub.execute_input": "2025-07-30T21:51:18.430459Z",
     "iopub.status.busy": "2025-07-30T21:51:18.430057Z",
     "iopub.status.idle": "2025-07-30T21:51:18.437106Z",
     "shell.execute_reply": "2025-07-30T21:51:18.436093Z"
    },
    "papermill": {
     "duration": 0.035568,
     "end_time": "2025-07-30T21:51:18.440915",
     "exception": false,
     "start_time": "2025-07-30T21:51:18.405347",
     "status": "completed"
    },
    "tags": []
   },
   "outputs": [
    {
     "data": {
      "text/plain": [
       "{'coverage': 0.9128302307435069, 'avg_size': 1.1492810166090737}"
      ]
     },
     "execution_count": 56,
     "metadata": {},
     "output_type": "execute_result"
    }
   ],
   "source": [
    "metrics"
   ]
  },
  {
   "cell_type": "code",
   "execution_count": 57,
   "id": "9b9a838d-31c9-430b-ae14-12baee460d17",
   "metadata": {
    "execution": {
     "iopub.execute_input": "2025-07-30T21:51:18.488960Z",
     "iopub.status.busy": "2025-07-30T21:51:18.488485Z",
     "iopub.status.idle": "2025-07-30T21:51:18.494854Z",
     "shell.execute_reply": "2025-07-30T21:51:18.494034Z"
    },
    "papermill": {
     "duration": 0.031677,
     "end_time": "2025-07-30T21:51:18.496367",
     "exception": false,
     "start_time": "2025-07-30T21:51:18.464690",
     "status": "completed"
    },
    "tags": []
   },
   "outputs": [],
   "source": [
    "example_universe = universe.copy()\n",
    "universe_training_year = example_universe.get(\"training_year\")\n",
    "universe_training_size = example_universe.get(\"training_size\")\n",
    "universe_scale = example_universe.get(\"scale\")\n",
    "universe_model = example_universe.get(\"model\")\n",
    "universe_exclude_features = example_universe.get(\"exclude_features\")\n",
    "universe_exclude_subgroups = example_universe.get(\"exclude_subgroups\")"
   ]
  },
  {
   "cell_type": "code",
   "execution_count": 58,
   "id": "f4b6a8ac-9dc0-4245-8a91-5b3b5999c4f9",
   "metadata": {
    "execution": {
     "iopub.execute_input": "2025-07-30T21:51:18.544374Z",
     "iopub.status.busy": "2025-07-30T21:51:18.543709Z",
     "iopub.status.idle": "2025-07-30T21:51:18.561147Z",
     "shell.execute_reply": "2025-07-30T21:51:18.560215Z"
    },
    "papermill": {
     "duration": 0.043328,
     "end_time": "2025-07-30T21:51:18.562662",
     "exception": false,
     "start_time": "2025-07-30T21:51:18.519334",
     "status": "completed"
    },
    "tags": []
   },
   "outputs": [],
   "source": [
    "cp_metrics_dict = {\n",
    "    \"universe_id\": [universe_id],\n",
    "    \"universe_training_year\": [universe_training_year],\n",
    "    \"universe_training_size\": [universe_training_size],\n",
    "    \"universe_scale\": [universe_scale],\n",
    "    \"universe_model\": [universe_model],\n",
    "    \"universe_exclude_features\": [universe_exclude_features],\n",
    "    \"universe_exclude_subgroups\": [universe_exclude_subgroups],\n",
    "    \"q_hat\": [q_hat],\n",
    "    \"coverage\": [metrics[\"coverage\"]],\n",
    "    \"avg_size\": [metrics[\"avg_size\"]],\n",
    "}"
   ]
  },
  {
   "cell_type": "code",
   "execution_count": 59,
   "id": "908acbb1-0371-4915-85ca-3fa520d2efe2",
   "metadata": {
    "execution": {
     "iopub.execute_input": "2025-07-30T21:51:18.610447Z",
     "iopub.status.busy": "2025-07-30T21:51:18.609785Z",
     "iopub.status.idle": "2025-07-30T21:51:18.617194Z",
     "shell.execute_reply": "2025-07-30T21:51:18.616124Z"
    },
    "papermill": {
     "duration": 0.03232,
     "end_time": "2025-07-30T21:51:18.618917",
     "exception": false,
     "start_time": "2025-07-30T21:51:18.586597",
     "status": "completed"
    },
    "tags": []
   },
   "outputs": [
    {
     "data": {
      "text/plain": [
       "{'universe_id': ['142c114c0d774f4fdd3990cf6598027c'],\n",
       " 'universe_training_year': ['2010_14'],\n",
       " 'universe_training_size': ['1k'],\n",
       " 'universe_scale': ['do-not-scale'],\n",
       " 'universe_model': ['rf'],\n",
       " 'universe_exclude_features': ['nationality'],\n",
       " 'universe_exclude_subgroups': ['keep-all'],\n",
       " 'q_hat': [0.65],\n",
       " 'coverage': [0.9128302307435069],\n",
       " 'avg_size': [1.1492810166090737]}"
      ]
     },
     "execution_count": 59,
     "metadata": {},
     "output_type": "execute_result"
    }
   ],
   "source": [
    "cp_metrics_dict"
   ]
  },
  {
   "cell_type": "code",
   "execution_count": 60,
   "id": "33007efc-14e9-4ec6-97ac-56a455c82265",
   "metadata": {
    "execution": {
     "iopub.execute_input": "2025-07-30T21:51:18.672298Z",
     "iopub.status.busy": "2025-07-30T21:51:18.671585Z",
     "iopub.status.idle": "2025-07-30T21:51:18.678427Z",
     "shell.execute_reply": "2025-07-30T21:51:18.677546Z"
    },
    "papermill": {
     "duration": 0.033303,
     "end_time": "2025-07-30T21:51:18.680316",
     "exception": false,
     "start_time": "2025-07-30T21:51:18.647013",
     "status": "completed"
    },
    "tags": []
   },
   "outputs": [],
   "source": [
    "cp_metrics_df = pd.DataFrame(cp_metrics_dict)"
   ]
  },
  {
   "cell_type": "code",
   "execution_count": 61,
   "id": "db12611b-57b2-4910-b9d0-355adfd6e7bf",
   "metadata": {
    "execution": {
     "iopub.execute_input": "2025-07-30T21:51:18.730806Z",
     "iopub.status.busy": "2025-07-30T21:51:18.729895Z",
     "iopub.status.idle": "2025-07-30T21:51:18.745160Z",
     "shell.execute_reply": "2025-07-30T21:51:18.744453Z"
    },
    "papermill": {
     "duration": 0.039441,
     "end_time": "2025-07-30T21:51:18.746428",
     "exception": false,
     "start_time": "2025-07-30T21:51:18.706987",
     "status": "completed"
    },
    "tags": []
   },
   "outputs": [
    {
     "data": {
      "text/html": [
       "<div>\n",
       "<style scoped>\n",
       "    .dataframe tbody tr th:only-of-type {\n",
       "        vertical-align: middle;\n",
       "    }\n",
       "\n",
       "    .dataframe tbody tr th {\n",
       "        vertical-align: top;\n",
       "    }\n",
       "\n",
       "    .dataframe thead th {\n",
       "        text-align: right;\n",
       "    }\n",
       "</style>\n",
       "<table border=\"1\" class=\"dataframe\">\n",
       "  <thead>\n",
       "    <tr style=\"text-align: right;\">\n",
       "      <th></th>\n",
       "      <th>universe_id</th>\n",
       "      <th>universe_training_year</th>\n",
       "      <th>universe_training_size</th>\n",
       "      <th>universe_scale</th>\n",
       "      <th>universe_model</th>\n",
       "      <th>universe_exclude_features</th>\n",
       "      <th>universe_exclude_subgroups</th>\n",
       "      <th>q_hat</th>\n",
       "      <th>coverage</th>\n",
       "      <th>avg_size</th>\n",
       "    </tr>\n",
       "  </thead>\n",
       "  <tbody>\n",
       "    <tr>\n",
       "      <th>0</th>\n",
       "      <td>142c114c0d774f4fdd3990cf6598027c</td>\n",
       "      <td>2010_14</td>\n",
       "      <td>1k</td>\n",
       "      <td>do-not-scale</td>\n",
       "      <td>rf</td>\n",
       "      <td>nationality</td>\n",
       "      <td>keep-all</td>\n",
       "      <td>0.65</td>\n",
       "      <td>0.91283</td>\n",
       "      <td>1.149281</td>\n",
       "    </tr>\n",
       "  </tbody>\n",
       "</table>\n",
       "</div>"
      ],
      "text/plain": [
       "                        universe_id universe_training_year  \\\n",
       "0  142c114c0d774f4fdd3990cf6598027c                2010_14   \n",
       "\n",
       "  universe_training_size universe_scale universe_model  \\\n",
       "0                     1k   do-not-scale             rf   \n",
       "\n",
       "  universe_exclude_features universe_exclude_subgroups  q_hat  coverage  \\\n",
       "0               nationality                   keep-all   0.65   0.91283   \n",
       "\n",
       "   avg_size  \n",
       "0  1.149281  "
      ]
     },
     "execution_count": 61,
     "metadata": {},
     "output_type": "execute_result"
    }
   ],
   "source": [
    "cp_metrics_df"
   ]
  },
  {
   "cell_type": "code",
   "execution_count": 62,
   "id": "b7fbde55-a0a1-47e4-9af6-fe4a17fa8c61",
   "metadata": {
    "execution": {
     "iopub.execute_input": "2025-07-30T21:51:18.777384Z",
     "iopub.status.busy": "2025-07-30T21:51:18.776832Z",
     "iopub.status.idle": "2025-07-30T21:51:18.781375Z",
     "shell.execute_reply": "2025-07-30T21:51:18.780687Z"
    },
    "papermill": {
     "duration": 0.02222,
     "end_time": "2025-07-30T21:51:18.782740",
     "exception": false,
     "start_time": "2025-07-30T21:51:18.760520",
     "status": "completed"
    },
    "tags": []
   },
   "outputs": [],
   "source": [
    "# Conditional Coverage & looking at subgroups"
   ]
  },
  {
   "cell_type": "code",
   "execution_count": 63,
   "id": "027ae886-68dd-4141-96c7-805a5450e1ef",
   "metadata": {
    "execution": {
     "iopub.execute_input": "2025-07-30T21:51:18.810887Z",
     "iopub.status.busy": "2025-07-30T21:51:18.810379Z",
     "iopub.status.idle": "2025-07-30T21:51:18.998830Z",
     "shell.execute_reply": "2025-07-30T21:51:18.998104Z"
    },
    "papermill": {
     "duration": 0.203792,
     "end_time": "2025-07-30T21:51:19.000222",
     "exception": false,
     "start_time": "2025-07-30T21:51:18.796430",
     "status": "completed"
    },
    "tags": []
   },
   "outputs": [],
   "source": [
    "from fairness_multiverse.conformal import build_cp_groups\n",
    "\n",
    "cp_groups_df = build_cp_groups(pred_sets, y_true, X_test.index, org_test)\n",
    "#needs universe_id and setting"
   ]
  },
  {
   "cell_type": "code",
   "execution_count": 64,
   "id": "01d5802c-663a-4d1f-9d69-e036faaffbf7",
   "metadata": {
    "execution": {
     "iopub.execute_input": "2025-07-30T21:51:19.032719Z",
     "iopub.status.busy": "2025-07-30T21:51:19.032459Z",
     "iopub.status.idle": "2025-07-30T21:51:19.036845Z",
     "shell.execute_reply": "2025-07-30T21:51:19.036036Z"
    },
    "papermill": {
     "duration": 0.023954,
     "end_time": "2025-07-30T21:51:19.037990",
     "exception": false,
     "start_time": "2025-07-30T21:51:19.014036",
     "status": "completed"
    },
    "tags": []
   },
   "outputs": [],
   "source": [
    "#delete\n",
    "#cp_groups_df"
   ]
  },
  {
   "cell_type": "code",
   "execution_count": 65,
   "id": "fa424af1-d1eb-443d-b717-2d279ada8408",
   "metadata": {
    "execution": {
     "iopub.execute_input": "2025-07-30T21:51:19.076243Z",
     "iopub.status.busy": "2025-07-30T21:51:19.075837Z",
     "iopub.status.idle": "2025-07-30T21:51:19.080712Z",
     "shell.execute_reply": "2025-07-30T21:51:19.079025Z"
    },
    "papermill": {
     "duration": 0.023526,
     "end_time": "2025-07-30T21:51:19.083758",
     "exception": false,
     "start_time": "2025-07-30T21:51:19.060232",
     "status": "completed"
    },
    "tags": []
   },
   "outputs": [],
   "source": [
    "#delete\n",
    "#percentage = (cp_groups_df['nongerman_female'] == 1).mean() * 100\n",
    "#print(percentage)\n"
   ]
  },
  {
   "cell_type": "code",
   "execution_count": 66,
   "id": "6cbdab96-b2b2-45af-ad54-d0516db2e28d",
   "metadata": {
    "execution": {
     "iopub.execute_input": "2025-07-30T21:51:19.139631Z",
     "iopub.status.busy": "2025-07-30T21:51:19.139166Z",
     "iopub.status.idle": "2025-07-30T21:51:20.691325Z",
     "shell.execute_reply": "2025-07-30T21:51:20.690407Z"
    },
    "papermill": {
     "duration": 1.583918,
     "end_time": "2025-07-30T21:51:20.693155",
     "exception": false,
     "start_time": "2025-07-30T21:51:19.109237",
     "status": "completed"
    },
    "tags": []
   },
   "outputs": [],
   "source": [
    "# Define covered = 1 if true_label is in the predicted set\n",
    "cp_groups_df['covered'] = cp_groups_df.apply(\n",
    "    lambda r: int(r['true_label'] in r['pred_set']),\n",
    "    axis=1\n",
    ")"
   ]
  },
  {
   "cell_type": "code",
   "execution_count": 67,
   "id": "338ff529-1a6b-4b87-a931-8e4788d52aad",
   "metadata": {
    "execution": {
     "iopub.execute_input": "2025-07-30T21:51:20.762632Z",
     "iopub.status.busy": "2025-07-30T21:51:20.761926Z",
     "iopub.status.idle": "2025-07-30T21:51:20.766970Z",
     "shell.execute_reply": "2025-07-30T21:51:20.766009Z"
    },
    "papermill": {
     "duration": 0.047938,
     "end_time": "2025-07-30T21:51:20.768732",
     "exception": false,
     "start_time": "2025-07-30T21:51:20.720794",
     "status": "completed"
    },
    "tags": []
   },
   "outputs": [],
   "source": [
    "#cp_groups_df"
   ]
  },
  {
   "cell_type": "code",
   "execution_count": 68,
   "id": "90032e27-66df-4540-9169-4e89cfbaa758",
   "metadata": {
    "execution": {
     "iopub.execute_input": "2025-07-30T21:51:20.827132Z",
     "iopub.status.busy": "2025-07-30T21:51:20.826225Z",
     "iopub.status.idle": "2025-07-30T21:51:20.837386Z",
     "shell.execute_reply": "2025-07-30T21:51:20.836493Z"
    },
    "papermill": {
     "duration": 0.04115,
     "end_time": "2025-07-30T21:51:20.838944",
     "exception": false,
     "start_time": "2025-07-30T21:51:20.797794",
     "status": "completed"
    },
    "tags": []
   },
   "outputs": [],
   "source": [
    "subgroups = ['frau1','nongerman','nongerman_male','nongerman_female']\n",
    "\n",
    "# Conditional coverage for subgroup==1\n",
    "cond_coverage = {\n",
    "    g: cp_groups_df.loc[cp_groups_df[g]==1, 'covered'].mean()\n",
    "    for g in subgroups\n",
    "}"
   ]
  },
  {
   "cell_type": "code",
   "execution_count": 69,
   "id": "1e348fb1-b9c3-45bc-ba23-f016827a7e0d",
   "metadata": {
    "execution": {
     "iopub.execute_input": "2025-07-30T21:51:20.888676Z",
     "iopub.status.busy": "2025-07-30T21:51:20.887973Z",
     "iopub.status.idle": "2025-07-30T21:51:20.894838Z",
     "shell.execute_reply": "2025-07-30T21:51:20.893865Z"
    },
    "papermill": {
     "duration": 0.033561,
     "end_time": "2025-07-30T21:51:20.896484",
     "exception": false,
     "start_time": "2025-07-30T21:51:20.862923",
     "status": "completed"
    },
    "tags": []
   },
   "outputs": [
    {
     "data": {
      "text/plain": [
       "{'frau1': 0.912036662622995,\n",
       " 'nongerman': 0.9062482456632797,\n",
       " 'nongerman_male': 0.9231739169593803,\n",
       " 'nongerman_female': 0.8782414307004471}"
      ]
     },
     "execution_count": 69,
     "metadata": {},
     "output_type": "execute_result"
    }
   ],
   "source": [
    "cond_coverage"
   ]
  },
  {
   "cell_type": "code",
   "execution_count": 70,
   "id": "f5093324-c3dd-4d63-bc4c-8d945e5c8bbb",
   "metadata": {
    "execution": {
     "iopub.execute_input": "2025-07-30T21:51:20.954803Z",
     "iopub.status.busy": "2025-07-30T21:51:20.954358Z",
     "iopub.status.idle": "2025-07-30T21:51:20.962205Z",
     "shell.execute_reply": "2025-07-30T21:51:20.961080Z"
    },
    "papermill": {
     "duration": 0.038716,
     "end_time": "2025-07-30T21:51:20.963850",
     "exception": false,
     "start_time": "2025-07-30T21:51:20.925134",
     "status": "completed"
    },
    "tags": []
   },
   "outputs": [],
   "source": [
    "for subgroup, cov in cond_coverage.items():\n",
    "    cp_metrics_df[f\"cov_{subgroup}\"] = cov"
   ]
  },
  {
   "cell_type": "code",
   "execution_count": 71,
   "id": "6e872e10-dbe5-49e8-b554-5030c98ff75d",
   "metadata": {
    "execution": {
     "iopub.execute_input": "2025-07-30T21:51:21.014182Z",
     "iopub.status.busy": "2025-07-30T21:51:21.013519Z",
     "iopub.status.idle": "2025-07-30T21:51:21.033046Z",
     "shell.execute_reply": "2025-07-30T21:51:21.031989Z"
    },
    "papermill": {
     "duration": 0.046152,
     "end_time": "2025-07-30T21:51:21.034855",
     "exception": false,
     "start_time": "2025-07-30T21:51:20.988703",
     "status": "completed"
    },
    "tags": []
   },
   "outputs": [
    {
     "data": {
      "text/html": [
       "<div>\n",
       "<style scoped>\n",
       "    .dataframe tbody tr th:only-of-type {\n",
       "        vertical-align: middle;\n",
       "    }\n",
       "\n",
       "    .dataframe tbody tr th {\n",
       "        vertical-align: top;\n",
       "    }\n",
       "\n",
       "    .dataframe thead th {\n",
       "        text-align: right;\n",
       "    }\n",
       "</style>\n",
       "<table border=\"1\" class=\"dataframe\">\n",
       "  <thead>\n",
       "    <tr style=\"text-align: right;\">\n",
       "      <th></th>\n",
       "      <th>universe_id</th>\n",
       "      <th>universe_training_year</th>\n",
       "      <th>universe_training_size</th>\n",
       "      <th>universe_scale</th>\n",
       "      <th>universe_model</th>\n",
       "      <th>universe_exclude_features</th>\n",
       "      <th>universe_exclude_subgroups</th>\n",
       "      <th>q_hat</th>\n",
       "      <th>coverage</th>\n",
       "      <th>avg_size</th>\n",
       "      <th>cov_frau1</th>\n",
       "      <th>cov_nongerman</th>\n",
       "      <th>cov_nongerman_male</th>\n",
       "      <th>cov_nongerman_female</th>\n",
       "    </tr>\n",
       "  </thead>\n",
       "  <tbody>\n",
       "    <tr>\n",
       "      <th>0</th>\n",
       "      <td>142c114c0d774f4fdd3990cf6598027c</td>\n",
       "      <td>2010_14</td>\n",
       "      <td>1k</td>\n",
       "      <td>do-not-scale</td>\n",
       "      <td>rf</td>\n",
       "      <td>nationality</td>\n",
       "      <td>keep-all</td>\n",
       "      <td>0.65</td>\n",
       "      <td>0.91283</td>\n",
       "      <td>1.149281</td>\n",
       "      <td>0.912037</td>\n",
       "      <td>0.906248</td>\n",
       "      <td>0.923174</td>\n",
       "      <td>0.878241</td>\n",
       "    </tr>\n",
       "  </tbody>\n",
       "</table>\n",
       "</div>"
      ],
      "text/plain": [
       "                        universe_id universe_training_year  \\\n",
       "0  142c114c0d774f4fdd3990cf6598027c                2010_14   \n",
       "\n",
       "  universe_training_size universe_scale universe_model  \\\n",
       "0                     1k   do-not-scale             rf   \n",
       "\n",
       "  universe_exclude_features universe_exclude_subgroups  q_hat  coverage  \\\n",
       "0               nationality                   keep-all   0.65   0.91283   \n",
       "\n",
       "   avg_size  cov_frau1  cov_nongerman  cov_nongerman_male  \\\n",
       "0  1.149281   0.912037       0.906248            0.923174   \n",
       "\n",
       "   cov_nongerman_female  \n",
       "0              0.878241  "
      ]
     },
     "execution_count": 71,
     "metadata": {},
     "output_type": "execute_result"
    }
   ],
   "source": [
    "cp_metrics_df"
   ]
  },
  {
   "cell_type": "markdown",
   "id": "33774451",
   "metadata": {
    "papermill": {
     "duration": 0.028748,
     "end_time": "2025-07-30T21:51:21.091836",
     "exception": false,
     "start_time": "2025-07-30T21:51:21.063088",
     "status": "completed"
    },
    "tags": []
   },
   "source": [
    "# (Fairness) Metrics"
   ]
  },
  {
   "cell_type": "code",
   "execution_count": 72,
   "id": "debc5d62",
   "metadata": {
    "execution": {
     "iopub.execute_input": "2025-07-30T21:51:21.159110Z",
     "iopub.status.busy": "2025-07-30T21:51:21.158229Z",
     "iopub.status.idle": "2025-07-30T21:51:21.180147Z",
     "shell.execute_reply": "2025-07-30T21:51:21.179147Z"
    },
    "papermill": {
     "duration": 0.055295,
     "end_time": "2025-07-30T21:51:21.181888",
     "exception": false,
     "start_time": "2025-07-30T21:51:21.126593",
     "status": "completed"
    },
    "tags": []
   },
   "outputs": [],
   "source": [
    "# do I need to include maxdeutsch1.missing?\n",
    "\n",
    "import numpy as np\n",
    "\n",
    "colname_to_bin = \"maxdeutsch1\"\n",
    "majority_value = org_train[colname_to_bin].mode()[0]\n",
    "\n",
    "org_test[\"majmin\"] = np.where(org_test[colname_to_bin] == majority_value, \"majority\", \"minority\")"
   ]
  },
  {
   "cell_type": "code",
   "execution_count": 73,
   "id": "06a50de5",
   "metadata": {
    "execution": {
     "iopub.execute_input": "2025-07-30T21:51:21.232473Z",
     "iopub.status.busy": "2025-07-30T21:51:21.231367Z",
     "iopub.status.idle": "2025-07-30T21:51:24.122418Z",
     "shell.execute_reply": "2025-07-30T21:51:24.121498Z"
    },
    "papermill": {
     "duration": 2.917931,
     "end_time": "2025-07-30T21:51:24.124378",
     "exception": false,
     "start_time": "2025-07-30T21:51:21.206447",
     "status": "completed"
    },
    "tags": []
   },
   "outputs": [],
   "source": [
    "example_universe = universe.copy()\n",
    "example_universe[\"cutoff\"] = example_universe[\"cutoff\"][0]\n",
    "example_universe[\"eval_fairness_grouping\"] = example_universe[\"eval_fairness_grouping\"][0]\n",
    "fairness_dict, metric_frame = universe_analysis.compute_metrics(\n",
    "    example_universe,\n",
    "    y_pred_prob=probs_test,\n",
    "    y_test=y_true,\n",
    "    org_test=org_test,\n",
    ")"
   ]
  },
  {
   "cell_type": "markdown",
   "id": "f95d4e02",
   "metadata": {
    "papermill": {
     "duration": 0.024269,
     "end_time": "2025-07-30T21:51:24.176831",
     "exception": false,
     "start_time": "2025-07-30T21:51:24.152562",
     "status": "completed"
    },
    "tags": []
   },
   "source": [
    "# Overall"
   ]
  },
  {
   "cell_type": "markdown",
   "id": "bdee4871",
   "metadata": {
    "papermill": {
     "duration": 0.025073,
     "end_time": "2025-07-30T21:51:24.225951",
     "exception": false,
     "start_time": "2025-07-30T21:51:24.200878",
     "status": "completed"
    },
    "tags": []
   },
   "source": [
    "Fairness\n",
    "Main fairness target: Equalized Odds. Seems to be a better fit than equal opportunity, since we're not only interested in Y = 1. Seems to be a better fit than demographic parity, since we also care about accuracy, not just equal distribution of preds.\n",
    "\n",
    "Pick column for computation of fairness metrics\n",
    "\n",
    "Performance\n",
    "Overall performance measures, most interesting in relation to the measures split by group below"
   ]
  },
  {
   "cell_type": "code",
   "execution_count": 74,
   "id": "c4e067c6",
   "metadata": {
    "execution": {
     "iopub.execute_input": "2025-07-30T21:51:24.279135Z",
     "iopub.status.busy": "2025-07-30T21:51:24.278678Z",
     "iopub.status.idle": "2025-07-30T21:51:24.286715Z",
     "shell.execute_reply": "2025-07-30T21:51:24.285846Z"
    },
    "papermill": {
     "duration": 0.03743,
     "end_time": "2025-07-30T21:51:24.288250",
     "exception": false,
     "start_time": "2025-07-30T21:51:24.250820",
     "status": "completed"
    },
    "tags": []
   },
   "outputs": [
    {
     "data": {
      "text/plain": [
       "accuracy                   0.209709\n",
       "balanced accuracy          0.534589\n",
       "f1                         0.239784\n",
       "precision                  0.136769\n",
       "false positive rate        0.902407\n",
       "false negative rate        0.028415\n",
       "selection rate             0.911281\n",
       "count                  89710.000000\n",
       "dtype: float64"
      ]
     },
     "execution_count": 74,
     "metadata": {},
     "output_type": "execute_result"
    }
   ],
   "source": [
    "metric_frame.overall"
   ]
  },
  {
   "cell_type": "markdown",
   "id": "e968fe9d",
   "metadata": {
    "papermill": {
     "duration": 0.025653,
     "end_time": "2025-07-30T21:51:24.339835",
     "exception": false,
     "start_time": "2025-07-30T21:51:24.314182",
     "status": "completed"
    },
    "tags": []
   },
   "source": [
    "By Group"
   ]
  },
  {
   "cell_type": "code",
   "execution_count": 75,
   "id": "ec325bce",
   "metadata": {
    "execution": {
     "iopub.execute_input": "2025-07-30T21:51:24.393760Z",
     "iopub.status.busy": "2025-07-30T21:51:24.393243Z",
     "iopub.status.idle": "2025-07-30T21:51:24.408779Z",
     "shell.execute_reply": "2025-07-30T21:51:24.407895Z"
    },
    "papermill": {
     "duration": 0.044312,
     "end_time": "2025-07-30T21:51:24.410692",
     "exception": false,
     "start_time": "2025-07-30T21:51:24.366380",
     "status": "completed"
    },
    "tags": []
   },
   "outputs": [
    {
     "data": {
      "text/html": [
       "<div>\n",
       "<style scoped>\n",
       "    .dataframe tbody tr th:only-of-type {\n",
       "        vertical-align: middle;\n",
       "    }\n",
       "\n",
       "    .dataframe tbody tr th {\n",
       "        vertical-align: top;\n",
       "    }\n",
       "\n",
       "    .dataframe thead th {\n",
       "        text-align: right;\n",
       "    }\n",
       "</style>\n",
       "<table border=\"1\" class=\"dataframe\">\n",
       "  <thead>\n",
       "    <tr style=\"text-align: right;\">\n",
       "      <th></th>\n",
       "      <th>accuracy</th>\n",
       "      <th>balanced accuracy</th>\n",
       "      <th>f1</th>\n",
       "      <th>precision</th>\n",
       "      <th>false positive rate</th>\n",
       "      <th>false negative rate</th>\n",
       "      <th>selection rate</th>\n",
       "      <th>count</th>\n",
       "    </tr>\n",
       "    <tr>\n",
       "      <th>majmin</th>\n",
       "      <th></th>\n",
       "      <th></th>\n",
       "      <th></th>\n",
       "      <th></th>\n",
       "      <th></th>\n",
       "      <th></th>\n",
       "      <th></th>\n",
       "      <th></th>\n",
       "    </tr>\n",
       "  </thead>\n",
       "  <tbody>\n",
       "    <tr>\n",
       "      <th>majority</th>\n",
       "      <td>0.199682</td>\n",
       "      <td>0.533581</td>\n",
       "      <td>0.245886</td>\n",
       "      <td>0.140428</td>\n",
       "      <td>0.920257</td>\n",
       "      <td>0.012582</td>\n",
       "      <td>0.929131</td>\n",
       "      <td>69170.0</td>\n",
       "    </tr>\n",
       "    <tr>\n",
       "      <th>minority</th>\n",
       "      <td>0.243476</td>\n",
       "      <td>0.533516</td>\n",
       "      <td>0.217218</td>\n",
       "      <td>0.123320</td>\n",
       "      <td>0.843440</td>\n",
       "      <td>0.089527</td>\n",
       "      <td>0.851168</td>\n",
       "      <td>20540.0</td>\n",
       "    </tr>\n",
       "  </tbody>\n",
       "</table>\n",
       "</div>"
      ],
      "text/plain": [
       "          accuracy  balanced accuracy        f1  precision  \\\n",
       "majmin                                                       \n",
       "majority  0.199682           0.533581  0.245886   0.140428   \n",
       "minority  0.243476           0.533516  0.217218   0.123320   \n",
       "\n",
       "          false positive rate  false negative rate  selection rate    count  \n",
       "majmin                                                                       \n",
       "majority             0.920257             0.012582        0.929131  69170.0  \n",
       "minority             0.843440             0.089527        0.851168  20540.0  "
      ]
     },
     "execution_count": 75,
     "metadata": {},
     "output_type": "execute_result"
    }
   ],
   "source": [
    "metric_frame.by_group"
   ]
  },
  {
   "cell_type": "code",
   "execution_count": 76,
   "id": "a9ddbe63",
   "metadata": {
    "execution": {
     "iopub.execute_input": "2025-07-30T21:51:24.462371Z",
     "iopub.status.busy": "2025-07-30T21:51:24.461746Z",
     "iopub.status.idle": "2025-07-30T21:51:26.885930Z",
     "shell.execute_reply": "2025-07-30T21:51:26.884940Z"
    },
    "papermill": {
     "duration": 2.451664,
     "end_time": "2025-07-30T21:51:26.887545",
     "exception": false,
     "start_time": "2025-07-30T21:51:24.435881",
     "status": "completed"
    },
    "tags": []
   },
   "outputs": [
    {
     "data": {
      "text/plain": [
       "array([[<Axes: title={'center': 'accuracy'}, xlabel='majmin'>,\n",
       "        <Axes: title={'center': 'balanced accuracy'}, xlabel='majmin'>,\n",
       "        <Axes: title={'center': 'f1'}, xlabel='majmin'>],\n",
       "       [<Axes: title={'center': 'precision'}, xlabel='majmin'>,\n",
       "        <Axes: title={'center': 'false positive rate'}, xlabel='majmin'>,\n",
       "        <Axes: title={'center': 'false negative rate'}, xlabel='majmin'>],\n",
       "       [<Axes: title={'center': 'selection rate'}, xlabel='majmin'>,\n",
       "        <Axes: title={'center': 'count'}, xlabel='majmin'>,\n",
       "        <Axes: xlabel='majmin'>]], dtype=object)"
      ]
     },
     "execution_count": 76,
     "metadata": {},
     "output_type": "execute_result"
    },
    {
     "data": {
      "image/png": "[encoded data removed]",
      "text/plain": [
       "<Figure size 1200x800 with 9 Axes>"
      ]
     },
     "metadata": {},
     "output_type": "display_data"
    }
   ],
   "source": [
    "# In a graphic\n",
    "metric_frame.by_group.plot.bar(\n",
    "    subplots=True,\n",
    "    layout=[3, 3],\n",
    "    legend=False,\n",
    "    figsize=[12, 8],\n",
    "    title=\"Show all metrics\",\n",
    ")"
   ]
  },
  {
   "cell_type": "markdown",
   "id": "f57a0bac",
   "metadata": {
    "papermill": {
     "duration": 0.026083,
     "end_time": "2025-07-30T21:51:26.941305",
     "exception": false,
     "start_time": "2025-07-30T21:51:26.915222",
     "status": "completed"
    },
    "tags": []
   },
   "source": [
    "# Final Output"
   ]
  },
  {
   "cell_type": "code",
   "execution_count": 77,
   "id": "96d280a3",
   "metadata": {
    "execution": {
     "iopub.execute_input": "2025-07-30T21:51:26.996543Z",
     "iopub.status.busy": "2025-07-30T21:51:26.995847Z",
     "iopub.status.idle": "2025-07-30T21:51:27.004498Z",
     "shell.execute_reply": "2025-07-30T21:51:27.003504Z"
    },
    "papermill": {
     "duration": 0.037659,
     "end_time": "2025-07-30T21:51:27.006068",
     "exception": false,
     "start_time": "2025-07-30T21:51:26.968409",
     "status": "completed"
    },
    "tags": []
   },
   "outputs": [
    {
     "data": {
      "text/plain": [
       "4"
      ]
     },
     "execution_count": 77,
     "metadata": {},
     "output_type": "execute_result"
    }
   ],
   "source": [
    "sub_universes = universe_analysis.generate_sub_universes()\n",
    "len(sub_universes)"
   ]
  },
  {
   "cell_type": "code",
   "execution_count": 78,
   "id": "92adf7ba",
   "metadata": {
    "execution": {
     "iopub.execute_input": "2025-07-30T21:51:27.063708Z",
     "iopub.status.busy": "2025-07-30T21:51:27.063189Z",
     "iopub.status.idle": "2025-07-30T21:51:27.069683Z",
     "shell.execute_reply": "2025-07-30T21:51:27.068676Z"
    },
    "papermill": {
     "duration": 0.037477,
     "end_time": "2025-07-30T21:51:27.071299",
     "exception": false,
     "start_time": "2025-07-30T21:51:27.033822",
     "status": "completed"
    },
    "tags": []
   },
   "outputs": [],
   "source": [
    "def filter_sub_universe_data(sub_universe, org_test):\n",
    "    # Keep all rows — no filtering\n",
    "    keep_rows_mask = np.ones(org_test.shape[0], dtype=bool)\n",
    "\n",
    "    print(f\"[INFO] Keeping all rows: {keep_rows_mask.sum()} rows retained.\")\n",
    "    return keep_rows_mask"
   ]
  },
  {
   "cell_type": "code",
   "execution_count": 79,
   "id": "4a759155",
   "metadata": {
    "execution": {
     "iopub.execute_input": "2025-07-30T21:51:27.128542Z",
     "iopub.status.busy": "2025-07-30T21:51:27.128021Z",
     "iopub.status.idle": "2025-07-30T21:51:34.646044Z",
     "shell.execute_reply": "2025-07-30T21:51:34.645214Z"
    },
    "papermill": {
     "duration": 7.547116,
     "end_time": "2025-07-30T21:51:34.647429",
     "exception": false,
     "start_time": "2025-07-30T21:51:27.100313",
     "status": "completed"
    },
    "tags": []
   },
   "outputs": [
    {
     "name": "stdout",
     "output_type": "stream",
     "text": [
      "Stopping execution_time clock.\n",
      "[INFO] Keeping all rows: 89710 rows retained.\n"
     ]
    },
    {
     "name": "stdout",
     "output_type": "stream",
     "text": [
      "[INFO] Keeping all rows: 89710 rows retained.\n"
     ]
    },
    {
     "name": "stdout",
     "output_type": "stream",
     "text": [
      "[INFO] Keeping all rows: 89710 rows retained.\n"
     ]
    },
    {
     "name": "stdout",
     "output_type": "stream",
     "text": [
      "[INFO] Keeping all rows: 89710 rows retained.\n"
     ]
    },
    {
     "data": {
      "text/html": [
       "<div>\n",
       "<style scoped>\n",
       "    .dataframe tbody tr th:only-of-type {\n",
       "        vertical-align: middle;\n",
       "    }\n",
       "\n",
       "    .dataframe tbody tr th {\n",
       "        vertical-align: top;\n",
       "    }\n",
       "\n",
       "    .dataframe thead th {\n",
       "        text-align: right;\n",
       "    }\n",
       "</style>\n",
       "<table border=\"1\" class=\"dataframe\">\n",
       "  <thead>\n",
       "    <tr style=\"text-align: right;\">\n",
       "      <th></th>\n",
       "      <th>run_no</th>\n",
       "      <th>universe_id</th>\n",
       "      <th>universe_settings</th>\n",
       "      <th>execution_time</th>\n",
       "      <th>test_size_n</th>\n",
       "      <th>test_size_frac</th>\n",
       "      <th>fair_main_equalized_odds_difference</th>\n",
       "      <th>fair_main_equalized_odds_ratio</th>\n",
       "      <th>fair_main_demographic_parity_difference</th>\n",
       "      <th>fair_main_demographic_parity_ratio</th>\n",
       "      <th>...</th>\n",
       "      <th>perf_grp_precision_0</th>\n",
       "      <th>perf_grp_precision_1</th>\n",
       "      <th>perf_grp_false positive rate_0</th>\n",
       "      <th>perf_grp_false positive rate_1</th>\n",
       "      <th>perf_grp_false negative rate_0</th>\n",
       "      <th>perf_grp_false negative rate_1</th>\n",
       "      <th>perf_grp_selection rate_0</th>\n",
       "      <th>perf_grp_selection rate_1</th>\n",
       "      <th>perf_grp_count_0</th>\n",
       "      <th>perf_grp_count_1</th>\n",
       "    </tr>\n",
       "  </thead>\n",
       "  <tbody>\n",
       "    <tr>\n",
       "      <th>0</th>\n",
       "      <td>14</td>\n",
       "      <td>142c114c0d774f4fdd3990cf6598027c</td>\n",
       "      <td>{\"cutoff\": \"quantile_0.1\", \"eval_fairness_grou...</td>\n",
       "      <td>33.60673</td>\n",
       "      <td>89710</td>\n",
       "      <td>1.0</td>\n",
       "      <td>0.076945</td>\n",
       "      <td>0.916528</td>\n",
       "      <td>0.077963</td>\n",
       "      <td>0.916091</td>\n",
       "      <td>...</td>\n",
       "      <td>NaN</td>\n",
       "      <td>NaN</td>\n",
       "      <td>NaN</td>\n",
       "      <td>NaN</td>\n",
       "      <td>NaN</td>\n",
       "      <td>NaN</td>\n",
       "      <td>NaN</td>\n",
       "      <td>NaN</td>\n",
       "      <td>NaN</td>\n",
       "      <td>NaN</td>\n",
       "    </tr>\n",
       "    <tr>\n",
       "      <th>0</th>\n",
       "      <td>14</td>\n",
       "      <td>142c114c0d774f4fdd3990cf6598027c</td>\n",
       "      <td>{\"cutoff\": \"quantile_0.1\", \"eval_fairness_grou...</td>\n",
       "      <td>33.60673</td>\n",
       "      <td>89710</td>\n",
       "      <td>1.0</td>\n",
       "      <td>0.076945</td>\n",
       "      <td>0.916528</td>\n",
       "      <td>0.077963</td>\n",
       "      <td>0.916091</td>\n",
       "      <td>...</td>\n",
       "      <td>0.123320</td>\n",
       "      <td>0.140428</td>\n",
       "      <td>0.843440</td>\n",
       "      <td>0.920257</td>\n",
       "      <td>0.089527</td>\n",
       "      <td>0.012582</td>\n",
       "      <td>0.851168</td>\n",
       "      <td>0.929131</td>\n",
       "      <td>20540.0</td>\n",
       "      <td>69170.0</td>\n",
       "    </tr>\n",
       "    <tr>\n",
       "      <th>0</th>\n",
       "      <td>14</td>\n",
       "      <td>142c114c0d774f4fdd3990cf6598027c</td>\n",
       "      <td>{\"cutoff\": \"quantile_0.25\", \"eval_fairness_gro...</td>\n",
       "      <td>33.60673</td>\n",
       "      <td>89710</td>\n",
       "      <td>1.0</td>\n",
       "      <td>0.157455</td>\n",
       "      <td>0.834790</td>\n",
       "      <td>0.110888</td>\n",
       "      <td>0.862167</td>\n",
       "      <td>...</td>\n",
       "      <td>NaN</td>\n",
       "      <td>NaN</td>\n",
       "      <td>NaN</td>\n",
       "      <td>NaN</td>\n",
       "      <td>NaN</td>\n",
       "      <td>NaN</td>\n",
       "      <td>NaN</td>\n",
       "      <td>NaN</td>\n",
       "      <td>NaN</td>\n",
       "      <td>NaN</td>\n",
       "    </tr>\n",
       "    <tr>\n",
       "      <th>0</th>\n",
       "      <td>14</td>\n",
       "      <td>142c114c0d774f4fdd3990cf6598027c</td>\n",
       "      <td>{\"cutoff\": \"quantile_0.25\", \"eval_fairness_gro...</td>\n",
       "      <td>33.60673</td>\n",
       "      <td>89710</td>\n",
       "      <td>1.0</td>\n",
       "      <td>0.157455</td>\n",
       "      <td>0.834790</td>\n",
       "      <td>0.110888</td>\n",
       "      <td>0.862167</td>\n",
       "      <td>...</td>\n",
       "      <td>0.132238</td>\n",
       "      <td>0.156538</td>\n",
       "      <td>0.680332</td>\n",
       "      <td>0.781892</td>\n",
       "      <td>0.204392</td>\n",
       "      <td>0.046937</td>\n",
       "      <td>0.693622</td>\n",
       "      <td>0.804511</td>\n",
       "      <td>20540.0</td>\n",
       "      <td>69170.0</td>\n",
       "    </tr>\n",
       "  </tbody>\n",
       "</table>\n",
       "<p>4 rows × 50 columns</p>\n",
       "</div>"
      ],
      "text/plain": [
       "  run_no                       universe_id  \\\n",
       "0     14  142c114c0d774f4fdd3990cf6598027c   \n",
       "0     14  142c114c0d774f4fdd3990cf6598027c   \n",
       "0     14  142c114c0d774f4fdd3990cf6598027c   \n",
       "0     14  142c114c0d774f4fdd3990cf6598027c   \n",
       "\n",
       "                                   universe_settings  execution_time  \\\n",
       "0  {\"cutoff\": \"quantile_0.1\", \"eval_fairness_grou...        33.60673   \n",
       "0  {\"cutoff\": \"quantile_0.1\", \"eval_fairness_grou...        33.60673   \n",
       "0  {\"cutoff\": \"quantile_0.25\", \"eval_fairness_gro...        33.60673   \n",
       "0  {\"cutoff\": \"quantile_0.25\", \"eval_fairness_gro...        33.60673   \n",
       "\n",
       "   test_size_n  test_size_frac  fair_main_equalized_odds_difference  \\\n",
       "0        89710             1.0                             0.076945   \n",
       "0        89710             1.0                             0.076945   \n",
       "0        89710             1.0                             0.157455   \n",
       "0        89710             1.0                             0.157455   \n",
       "\n",
       "   fair_main_equalized_odds_ratio  fair_main_demographic_parity_difference  \\\n",
       "0                        0.916528                                 0.077963   \n",
       "0                        0.916528                                 0.077963   \n",
       "0                        0.834790                                 0.110888   \n",
       "0                        0.834790                                 0.110888   \n",
       "\n",
       "   fair_main_demographic_parity_ratio  ...  perf_grp_precision_0  \\\n",
       "0                            0.916091  ...                   NaN   \n",
       "0                            0.916091  ...              0.123320   \n",
       "0                            0.862167  ...                   NaN   \n",
       "0                            0.862167  ...              0.132238   \n",
       "\n",
       "   perf_grp_precision_1  perf_grp_false positive rate_0  \\\n",
       "0                   NaN                             NaN   \n",
       "0              0.140428                        0.843440   \n",
       "0                   NaN                             NaN   \n",
       "0              0.156538                        0.680332   \n",
       "\n",
       "   perf_grp_false positive rate_1  perf_grp_false negative rate_0  \\\n",
       "0                             NaN                             NaN   \n",
       "0                        0.920257                        0.089527   \n",
       "0                             NaN                             NaN   \n",
       "0                        0.781892                        0.204392   \n",
       "\n",
       "   perf_grp_false negative rate_1  perf_grp_selection rate_0  \\\n",
       "0                             NaN                        NaN   \n",
       "0                        0.012582                   0.851168   \n",
       "0                             NaN                        NaN   \n",
       "0                        0.046937                   0.693622   \n",
       "\n",
       "   perf_grp_selection rate_1  perf_grp_count_0  perf_grp_count_1  \n",
       "0                        NaN               NaN               NaN  \n",
       "0                   0.929131           20540.0           69170.0  \n",
       "0                        NaN               NaN               NaN  \n",
       "0                   0.804511           20540.0           69170.0  \n",
       "\n",
       "[4 rows x 50 columns]"
      ]
     },
     "execution_count": 79,
     "metadata": {},
     "output_type": "execute_result"
    }
   ],
   "source": [
    "final_output = universe_analysis.generate_final_output(\n",
    "    y_pred_prob=probs_test,\n",
    "    y_test=y_true,\n",
    "    org_test=org_test,\n",
    "    filter_data=filter_sub_universe_data,\n",
    "    cp_metrics_df=cp_metrics_df,\n",
    "    save=True,\n",
    ")\n",
    "final_output"
   ]
  },
  {
   "cell_type": "code",
   "execution_count": null,
   "id": "721ff514-cb11-46f8-b6fc-50392f74b5cb",
   "metadata": {
    "papermill": {
     "duration": 0.01739,
     "end_time": "2025-07-30T21:51:34.685182",
     "exception": false,
     "start_time": "2025-07-30T21:51:34.667792",
     "status": "completed"
    },
    "tags": []
   },
   "outputs": [],
   "source": []
  }
 ],
 "metadata": {
  "celltoolbar": "Tags",
  "kernelspec": {
   "display_name": "Python (CMA Fairness)",
   "language": "python",
   "name": "cma_fair_env"
  },
  "language_info": {
   "codemirror_mode": {
    "name": "ipython",
    "version": 3
   },
   "file_extension": ".py",
   "mimetype": "text/x-python",
   "name": "python",
   "nbconvert_exporter": "python",
   "pygments_lexer": "ipython3",
   "version": "3.10.12"
  },
  "papermill": {
   "default_parameters": {},
   "duration": 45.720986,
   "end_time": "2025-07-30T21:51:35.622989",
   "environment_variables": {},
   "exception": null,
   "input_path": "universe_analysis.ipynb",
   "output_path": "output/runs/14/notebooks/m_14-142c114c0d774f4fdd3990cf6598027c.ipynb",
   "parameters": {
    "output_dir": "output",
    "run_no": "14",
    "seed": "2023",
    "universe": "{\"cutoff\": [\"quantile_0.1\", \"quantile_0.25\"], \"eval_fairness_grouping\": [\"majority-minority\", \"nationality-all\"], \"exclude_features\": \"nationality\", \"exclude_subgroups\": \"keep-all\", \"model\": \"rf\", \"scale\": \"do-not-scale\", \"training_size\": \"1k\", \"training_year\": \"2010_14\"}",
    "universe_id": "142c114c0d774f4fdd3990cf6598027c"
   },
   "start_time": "2025-07-30T21:50:49.902003",
   "version": "2.6.0"
  }
 },
 "nbformat": 4,
 "nbformat_minor": 5
}