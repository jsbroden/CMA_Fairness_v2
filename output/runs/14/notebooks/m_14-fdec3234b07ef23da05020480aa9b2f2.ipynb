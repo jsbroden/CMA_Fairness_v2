{
 "cells": [
  {
   "cell_type": "code",
   "execution_count": 1,
   "id": "f159f837-637b-42ba-96b5-ec9a68c44524",
   "metadata": {
    "execution": {
     "iopub.execute_input": "2025-07-30T20:59:39.690538Z",
     "iopub.status.busy": "2025-07-30T20:59:39.690042Z",
     "iopub.status.idle": "2025-07-30T20:59:39.705474Z",
     "shell.execute_reply": "2025-07-30T20:59:39.704220Z"
    },
    "papermill": {
     "duration": 0.051784,
     "end_time": "2025-07-30T20:59:39.707127",
     "exception": false,
     "start_time": "2025-07-30T20:59:39.655343",
     "status": "completed"
    },
    "tags": []
   },
   "outputs": [
    {
     "name": "stdout",
     "output_type": "stream",
     "text": [
      "/dss/dsshome1/0C/ra93lal2/cma/CMA_Fairness_v2\n"
     ]
    },
    {
     "name": "stderr",
     "output_type": "stream",
     "text": [
      "/dss/dsshome1/0C/ra93lal2/.local/share/virtualenvs/CMA_Fairness_v2-3j10GkSs/lib/python3.10/site-packages/IPython/core/magics/osm.py:393: UserWarning: This is now an optional IPython functionality, using bookmarks requires you to install the `pickleshare` library.\n",
      "  bkms = self.shell.db.get('bookmarks', {})\n",
      "/dss/dsshome1/0C/ra93lal2/.local/share/virtualenvs/CMA_Fairness_v2-3j10GkSs/lib/python3.10/site-packages/IPython/core/magics/osm.py:417: UserWarning: This is now an optional IPython functionality, setting dhist requires you to install the `pickleshare` library.\n",
      "  self.shell.db['dhist'] = compress_dhist(dhist)[-100:]\n"
     ]
    }
   ],
   "source": [
    "%cd ~/cma/CMA_Fairness_v2"
   ]
  },
  {
   "cell_type": "markdown",
   "id": "de2603b9",
   "metadata": {
    "papermill": {
     "duration": 0.036363,
     "end_time": "2025-07-30T20:59:39.782680",
     "exception": false,
     "start_time": "2025-07-30T20:59:39.746317",
     "status": "completed"
    },
    "tags": []
   },
   "source": [
    "The following cell holds the definition of our parameters, these values can be overriden by rendering the with e.g. the following command:\n",
    "\n",
    "papermill -p alpha 0.2 -p ratio 0.3 universe_analysis.ipynb output/test_run.ipynb"
   ]
  },
  {
   "cell_type": "code",
   "execution_count": 2,
   "id": "a80968a0-40bb-4fa9-85ef-2d5eefb01975",
   "metadata": {
    "execution": {
     "iopub.execute_input": "2025-07-30T20:59:39.833763Z",
     "iopub.status.busy": "2025-07-30T20:59:39.833270Z",
     "iopub.status.idle": "2025-07-30T20:59:39.838814Z",
     "shell.execute_reply": "2025-07-30T20:59:39.838013Z"
    },
    "papermill": {
     "duration": 0.082169,
     "end_time": "2025-07-30T20:59:39.881647",
     "exception": false,
     "start_time": "2025-07-30T20:59:39.799478",
     "status": "completed"
    },
    "tags": []
   },
   "outputs": [
    {
     "name": "stdout",
     "output_type": "stream",
     "text": [
      "Current working directory: /dss/dsshome1/0C/ra93lal2/cma/CMA_Fairness_v2\n"
     ]
    }
   ],
   "source": [
    "import os\n",
    "print(\"Current working directory:\", os.getcwd())"
   ]
  },
  {
   "cell_type": "code",
   "execution_count": 3,
   "id": "2dce4c03",
   "metadata": {
    "execution": {
     "iopub.execute_input": "2025-07-30T20:59:39.919451Z",
     "iopub.status.busy": "2025-07-30T20:59:39.919069Z",
     "iopub.status.idle": "2025-07-30T20:59:39.925105Z",
     "shell.execute_reply": "2025-07-30T20:59:39.924192Z"
    },
    "papermill": {
     "duration": 0.029181,
     "end_time": "2025-07-30T20:59:39.928456",
     "exception": false,
     "start_time": "2025-07-30T20:59:39.899275",
     "status": "completed"
    },
    "tags": [
     "parameters"
    ]
   },
   "outputs": [],
   "source": [
    "run_no = 0\n",
    "universe_id = \"test\"\n",
    "universe = {\n",
    "    \"training_size\": \"25k\", # \"25k\", \"5k\", \"1k\"\n",
    "    \"training_year\": \"2014\", # \"2014\", \"2012_14\", \"2010_14\"\n",
    "    \"scale\": \"scale\", # \"scale\", \"do-not-scale\",\n",
    "    #\"stratify_split\": \"target\", # \"none\", \"target\", \"protected-attribute\", \"both\",\n",
    "    \"model\": \"elasticnet\", # \"logreg\", \"penalized_logreg\", \"rf\", \"gbm\", \"elasticnet\"\n",
    "    \"cutoff\": [\"quantile_0.15\", \"quantile_0.30\"],\n",
    "    \"exclude_features\": \"age\", # \"none\", \"nationality\", \"sex\", \"nationality-sex\", \"age\"\n",
    "    \"exclude_subgroups\": \"keep-all\", # \"keep-all\", \"drop-non-german\"\n",
    "    \"eval_fairness_grouping\": [\"majority-minority\", \"nationality-all\"]\n",
    "}\n",
    "\n",
    "output_dir=\"./output\"\n",
    "seed=0"
   ]
  },
  {
   "cell_type": "code",
   "execution_count": 4,
   "id": "eb5079fa",
   "metadata": {
    "execution": {
     "iopub.execute_input": "2025-07-30T20:59:39.967313Z",
     "iopub.status.busy": "2025-07-30T20:59:39.966929Z",
     "iopub.status.idle": "2025-07-30T20:59:39.972516Z",
     "shell.execute_reply": "2025-07-30T20:59:39.971457Z"
    },
    "papermill": {
     "duration": 0.026685,
     "end_time": "2025-07-30T20:59:39.975382",
     "exception": false,
     "start_time": "2025-07-30T20:59:39.948697",
     "status": "completed"
    },
    "tags": [
     "injected-parameters"
    ]
   },
   "outputs": [],
   "source": [
    "# Parameters\n",
    "universe_id = \"fdec3234b07ef23da05020480aa9b2f2\"\n",
    "run_no = \"14\"\n",
    "universe = \"{\\\"cutoff\\\": [\\\"quantile_0.1\\\", \\\"quantile_0.25\\\"], \\\"eval_fairness_grouping\\\": [\\\"majority-minority\\\", \\\"nationality-all\\\"], \\\"exclude_features\\\": \\\"sex\\\", \\\"exclude_subgroups\\\": \\\"drop-non-german\\\", \\\"model\\\": \\\"rf\\\", \\\"scale\\\": \\\"scale\\\", \\\"training_size\\\": \\\"5k\\\", \\\"training_year\\\": \\\"2012_14\\\"}\"\n",
    "output_dir = \"output\"\n",
    "seed = \"2023\"\n"
   ]
  },
  {
   "cell_type": "code",
   "execution_count": 5,
   "id": "1650acaf",
   "metadata": {
    "execution": {
     "iopub.execute_input": "2025-07-30T20:59:40.084220Z",
     "iopub.status.busy": "2025-07-30T20:59:40.083811Z",
     "iopub.status.idle": "2025-07-30T20:59:40.089781Z",
     "shell.execute_reply": "2025-07-30T20:59:40.088949Z"
    },
    "papermill": {
     "duration": 0.067389,
     "end_time": "2025-07-30T20:59:40.091688",
     "exception": false,
     "start_time": "2025-07-30T20:59:40.024299",
     "status": "completed"
    },
    "tags": []
   },
   "outputs": [],
   "source": [
    "import json\n",
    "# Parse universe into dict if it is passed as a string\n",
    "if isinstance(universe, str):\n",
    "    universe = json.loads(universe)"
   ]
  },
  {
   "cell_type": "code",
   "execution_count": 6,
   "id": "16620c48",
   "metadata": {
    "execution": {
     "iopub.execute_input": "2025-07-30T20:59:40.172668Z",
     "iopub.status.busy": "2025-07-30T20:59:40.172143Z",
     "iopub.status.idle": "2025-07-30T20:59:40.217105Z",
     "shell.execute_reply": "2025-07-30T20:59:40.216094Z"
    },
    "papermill": {
     "duration": 0.086083,
     "end_time": "2025-07-30T20:59:40.218861",
     "exception": false,
     "start_time": "2025-07-30T20:59:40.132778",
     "status": "completed"
    },
    "tags": []
   },
   "outputs": [],
   "source": [
    "# Auto-reload the custom package\n",
    "%load_ext autoreload\n",
    "%autoreload 1\n",
    "%aimport fairness_multiverse"
   ]
  },
  {
   "cell_type": "code",
   "execution_count": 7,
   "id": "01c5c9f3",
   "metadata": {
    "execution": {
     "iopub.execute_input": "2025-07-30T20:59:40.264012Z",
     "iopub.status.busy": "2025-07-30T20:59:40.263549Z",
     "iopub.status.idle": "2025-07-30T20:59:43.173793Z",
     "shell.execute_reply": "2025-07-30T20:59:43.172704Z"
    },
    "papermill": {
     "duration": 2.940293,
     "end_time": "2025-07-30T20:59:43.180886",
     "exception": false,
     "start_time": "2025-07-30T20:59:40.240593",
     "status": "completed"
    },
    "tags": []
   },
   "outputs": [],
   "source": [
    "from fairness_multiverse.universe import UniverseAnalysis\n",
    "\n",
    "universe_analysis = UniverseAnalysis(\n",
    "    run_no = run_no,\n",
    "    universe_id = universe_id,\n",
    "    universe = universe,\n",
    "    output_dir=output_dir,\n",
    ")"
   ]
  },
  {
   "cell_type": "code",
   "execution_count": 8,
   "id": "106241f5",
   "metadata": {
    "execution": {
     "iopub.execute_input": "2025-07-30T20:59:43.280388Z",
     "iopub.status.busy": "2025-07-30T20:59:43.279972Z",
     "iopub.status.idle": "2025-07-30T20:59:43.286370Z",
     "shell.execute_reply": "2025-07-30T20:59:43.285205Z"
    },
    "papermill": {
     "duration": 0.037734,
     "end_time": "2025-07-30T20:59:43.290382",
     "exception": false,
     "start_time": "2025-07-30T20:59:43.252648",
     "status": "completed"
    },
    "tags": []
   },
   "outputs": [
    {
     "name": "stdout",
     "output_type": "stream",
     "text": [
      "Using Seed: 2023\n"
     ]
    }
   ],
   "source": [
    "import numpy as np\n",
    "parsed_seed = int(seed)\n",
    "np.random.seed(parsed_seed)\n",
    "print(f\"Using Seed: {parsed_seed}\")"
   ]
  },
  {
   "cell_type": "markdown",
   "id": "e0ebdc57",
   "metadata": {
    "papermill": {
     "duration": 0.046844,
     "end_time": "2025-07-30T20:59:43.377226",
     "exception": false,
     "start_time": "2025-07-30T20:59:43.330382",
     "status": "completed"
    },
    "tags": []
   },
   "source": [
    "# Loading Data"
   ]
  },
  {
   "cell_type": "markdown",
   "id": "681925a3",
   "metadata": {
    "papermill": {
     "duration": 0.025412,
     "end_time": "2025-07-30T20:59:43.446024",
     "exception": false,
     "start_time": "2025-07-30T20:59:43.420612",
     "status": "completed"
    },
    "tags": []
   },
   "source": [
    "Load siab_train, siab_test, siab_calib and/or \n",
    "load siab_train_features, siab_train_labels"
   ]
  },
  {
   "cell_type": "code",
   "execution_count": 9,
   "id": "f0496b8a",
   "metadata": {
    "execution": {
     "iopub.execute_input": "2025-07-30T20:59:43.574257Z",
     "iopub.status.busy": "2025-07-30T20:59:43.573865Z",
     "iopub.status.idle": "2025-07-30T20:59:57.091297Z",
     "shell.execute_reply": "2025-07-30T20:59:57.090202Z"
    },
    "papermill": {
     "duration": 13.5577,
     "end_time": "2025-07-30T20:59:57.092893",
     "exception": false,
     "start_time": "2025-07-30T20:59:43.535193",
     "status": "completed"
    },
    "tags": []
   },
   "outputs": [
    {
     "name": "stdout",
     "output_type": "stream",
     "text": [
      "Loading SIAB data from cache: data/siab_cached.csv.gz\n"
     ]
    },
    {
     "name": "stdout",
     "output_type": "stream",
     "text": [
      "(643690, 164)\n"
     ]
    }
   ],
   "source": [
    "from pathlib import Path\n",
    "import pandas as pd\n",
    "\n",
    "# File paths\n",
    "raw_file = Path(\"data/raw/siab.csv\")\n",
    "cache_file = Path(\"data/siab_cached.csv.gz\")\n",
    "\n",
    "# Ensure cache directory exists\n",
    "cache_file.parent.mkdir(parents=True, exist_ok=True)\n",
    "\n",
    "# Load with simple caching\n",
    "if cache_file.exists():\n",
    "    print(f\"Loading SIAB data from cache: {cache_file}\")\n",
    "    siab = pd.read_csv(cache_file, compression='gzip')\n",
    "else:\n",
    "    print(f\"Cache not found. Reading raw SIAB data: {raw_file}\")\n",
    "    siab = pd.read_csv(raw_file)\n",
    "    siab.to_csv(cache_file, index=False, compression='gzip')\n",
    "    print(f\"Cached SIAB data to: {cache_file}\")\n",
    "\n",
    "# Now use `siab` DataFrame as needed\n",
    "print(siab.shape)"
   ]
  },
  {
   "cell_type": "code",
   "execution_count": 10,
   "id": "db0ca512-5f53-4dba-abdb-a2888bca41ba",
   "metadata": {
    "execution": {
     "iopub.execute_input": "2025-07-30T20:59:57.136092Z",
     "iopub.status.busy": "2025-07-30T20:59:57.135539Z",
     "iopub.status.idle": "2025-07-30T20:59:57.141218Z",
     "shell.execute_reply": "2025-07-30T20:59:57.140294Z"
    },
    "papermill": {
     "duration": 0.027569,
     "end_time": "2025-07-30T20:59:57.142869",
     "exception": false,
     "start_time": "2025-07-30T20:59:57.115300",
     "status": "completed"
    },
    "tags": []
   },
   "outputs": [],
   "source": [
    "#siab"
   ]
  },
  {
   "cell_type": "code",
   "execution_count": 11,
   "id": "a0edb063",
   "metadata": {
    "execution": {
     "iopub.execute_input": "2025-07-30T20:59:57.183723Z",
     "iopub.status.busy": "2025-07-30T20:59:57.183039Z",
     "iopub.status.idle": "2025-07-30T20:59:57.188100Z",
     "shell.execute_reply": "2025-07-30T20:59:57.187046Z"
    },
    "papermill": {
     "duration": 0.027669,
     "end_time": "2025-07-30T20:59:57.189775",
     "exception": false,
     "start_time": "2025-07-30T20:59:57.162106",
     "status": "completed"
    },
    "tags": []
   },
   "outputs": [],
   "source": [
    "#import pandas as pd\n",
    "#\n",
    "#X_train = pd.read_csv(\"./data/X_train.csv\")\n",
    "#y_train = pd.read_csv(\"./data/y_train.csv\")"
   ]
  },
  {
   "cell_type": "code",
   "execution_count": 12,
   "id": "63d08085",
   "metadata": {
    "execution": {
     "iopub.execute_input": "2025-07-30T20:59:57.238967Z",
     "iopub.status.busy": "2025-07-30T20:59:57.238268Z",
     "iopub.status.idle": "2025-07-30T20:59:57.244288Z",
     "shell.execute_reply": "2025-07-30T20:59:57.242953Z"
    },
    "papermill": {
     "duration": 0.033443,
     "end_time": "2025-07-30T20:59:57.246464",
     "exception": false,
     "start_time": "2025-07-30T20:59:57.213021",
     "status": "completed"
    },
    "tags": []
   },
   "outputs": [],
   "source": [
    "#X_test = pd.read_csv(\"./data/X_test.csv\")\n",
    "#y_true = pd.read_csv(\"./data/y_test.csv\")"
   ]
  },
  {
   "cell_type": "code",
   "execution_count": 13,
   "id": "98a8d0fa-1d3d-4ed8-bb2c-281470e24add",
   "metadata": {
    "execution": {
     "iopub.execute_input": "2025-07-30T20:59:57.293402Z",
     "iopub.status.busy": "2025-07-30T20:59:57.292989Z",
     "iopub.status.idle": "2025-07-30T20:59:57.298282Z",
     "shell.execute_reply": "2025-07-30T20:59:57.297345Z"
    },
    "papermill": {
     "duration": 0.029126,
     "end_time": "2025-07-30T20:59:57.300133",
     "exception": false,
     "start_time": "2025-07-30T20:59:57.271007",
     "status": "completed"
    },
    "tags": []
   },
   "outputs": [],
   "source": [
    "# Calibration data for conformal\n",
    "#X_calib = pd.read_csv(\"./data/X_calib.csv\")\n",
    "#y_calib = pd.read_csv(\"./data/y_calib.csv\")"
   ]
  },
  {
   "cell_type": "markdown",
   "id": "997051c5-15bd-4b69-9786-c3001a3ce484",
   "metadata": {
    "papermill": {
     "duration": 0.019151,
     "end_time": "2025-07-30T20:59:57.339036",
     "exception": false,
     "start_time": "2025-07-30T20:59:57.319885",
     "status": "completed"
    },
    "tags": []
   },
   "source": [
    "# Splitting Data and Setting Training Data Size"
   ]
  },
  {
   "cell_type": "code",
   "execution_count": 14,
   "id": "e993b61f-042d-41a6-8c81-f55681f86335",
   "metadata": {
    "execution": {
     "iopub.execute_input": "2025-07-30T20:59:57.378964Z",
     "iopub.status.busy": "2025-07-30T20:59:57.378438Z",
     "iopub.status.idle": "2025-07-30T20:59:57.391795Z",
     "shell.execute_reply": "2025-07-30T20:59:57.390821Z"
    },
    "papermill": {
     "duration": 0.035446,
     "end_time": "2025-07-30T20:59:57.393531",
     "exception": false,
     "start_time": "2025-07-30T20:59:57.358085",
     "status": "completed"
    },
    "tags": []
   },
   "outputs": [],
   "source": [
    "def sample_by_year_size(df,\n",
    "                        training_year: str,\n",
    "                        training_size: str,\n",
    "                        random_state: int = 42):\n",
    "    # --- parse training_year into a list of int years ---\n",
    "    if \"_\" in training_year:\n",
    "        start_str, end_str = training_year.split(\"_\", 1)\n",
    "        start = int(start_str)\n",
    "        end   = int(end_str) if len(end_str) == 4 else (int(end_str) + (start // 100)*100)\n",
    "        years = list(range(start, end + 1))\n",
    "    else:\n",
    "        years = [int(training_year)]\n",
    "\n",
    "    df = df[df[\"year\"].isin(years)].reset_index(drop=True)\n",
    "\n",
    "    # --- map training_size to total number of samples ---\n",
    "    total_map = {\"25k\": 25_000, \"5k\": 5_000, \"1k\": 1_000}\n",
    "    if training_size not in total_map:\n",
    "        return df  # e.g. \"all\"\n",
    "\n",
    "    total_samples = total_map[training_size]\n",
    "    n_years       = len(years)\n",
    "    base          = total_samples // n_years\n",
    "    remainder     = total_samples % n_years\n",
    "\n",
    "    # --- build a dict: year -> how many to sample ---\n",
    "    # give +1 to the first `remainder` years in ascending order\n",
    "    quotas = {\n",
    "        year: base + (1 if idx < remainder else 0)\n",
    "        for idx, year in enumerate(sorted(years))\n",
    "    }\n",
    "\n",
    "    # --- sample per‐year according to the quota dict ---\n",
    "    sampled = (\n",
    "        df\n",
    "        .groupby(\"year\", group_keys=False)\n",
    "        .apply(lambda grp: grp.sample(\n",
    "            n=min(len(grp), quotas[grp.name]),\n",
    "            random_state=random_state))\n",
    "        .reset_index(drop=True)\n",
    "    )\n",
    "\n",
    "    return sampled"
   ]
  },
  {
   "cell_type": "code",
   "execution_count": 15,
   "id": "c0ccd338-0e02-41f3-a09d-f56f9266e3fb",
   "metadata": {
    "execution": {
     "iopub.execute_input": "2025-07-30T20:59:57.437430Z",
     "iopub.status.busy": "2025-07-30T20:59:57.436568Z",
     "iopub.status.idle": "2025-07-30T20:59:57.441869Z",
     "shell.execute_reply": "2025-07-30T20:59:57.440902Z"
    },
    "papermill": {
     "duration": 0.027844,
     "end_time": "2025-07-30T20:59:57.443576",
     "exception": false,
     "start_time": "2025-07-30T20:59:57.415732",
     "status": "completed"
    },
    "tags": []
   },
   "outputs": [],
   "source": [
    "#universe[\"training_size\"]"
   ]
  },
  {
   "cell_type": "code",
   "execution_count": 16,
   "id": "ca707fd7-8047-4acd-bfa5-66248fbbf8e6",
   "metadata": {
    "execution": {
     "iopub.execute_input": "2025-07-30T20:59:57.488919Z",
     "iopub.status.busy": "2025-07-30T20:59:57.488241Z",
     "iopub.status.idle": "2025-07-30T20:59:57.493672Z",
     "shell.execute_reply": "2025-07-30T20:59:57.492792Z"
    },
    "papermill": {
     "duration": 0.028739,
     "end_time": "2025-07-30T20:59:57.495172",
     "exception": false,
     "start_time": "2025-07-30T20:59:57.466433",
     "status": "completed"
    },
    "tags": []
   },
   "outputs": [],
   "source": [
    "#universe[\"training_year\"]"
   ]
  },
  {
   "cell_type": "code",
   "execution_count": 17,
   "id": "aea9c6ef-6f46-42c8-85eb-5a62025c1508",
   "metadata": {
    "execution": {
     "iopub.execute_input": "2025-07-30T20:59:57.549211Z",
     "iopub.status.busy": "2025-07-30T20:59:57.548241Z",
     "iopub.status.idle": "2025-07-30T20:59:58.176148Z",
     "shell.execute_reply": "2025-07-30T20:59:58.175092Z"
    },
    "papermill": {
     "duration": 0.659153,
     "end_time": "2025-07-30T20:59:58.178085",
     "exception": false,
     "start_time": "2025-07-30T20:59:57.518932",
     "status": "completed"
    },
    "tags": []
   },
   "outputs": [],
   "source": [
    "siab_train = sample_by_year_size(siab,\n",
    "                               training_year=universe[\"training_year\"],\n",
    "                               training_size=universe[\"training_size\"])"
   ]
  },
  {
   "cell_type": "code",
   "execution_count": 18,
   "id": "8d3afb32-789d-442c-8d5d-9f5aa8dd2eed",
   "metadata": {
    "execution": {
     "iopub.execute_input": "2025-07-30T20:59:58.226829Z",
     "iopub.status.busy": "2025-07-30T20:59:58.225956Z",
     "iopub.status.idle": "2025-07-30T20:59:58.231073Z",
     "shell.execute_reply": "2025-07-30T20:59:58.230151Z"
    },
    "papermill": {
     "duration": 0.029625,
     "end_time": "2025-07-30T20:59:58.232680",
     "exception": false,
     "start_time": "2025-07-30T20:59:58.203055",
     "status": "completed"
    },
    "tags": []
   },
   "outputs": [],
   "source": [
    "#siab_train.shape"
   ]
  },
  {
   "cell_type": "code",
   "execution_count": 19,
   "id": "d582db68-1a4c-47fb-84fc-08518dc1975a",
   "metadata": {
    "execution": {
     "iopub.execute_input": "2025-07-30T20:59:58.278901Z",
     "iopub.status.busy": "2025-07-30T20:59:58.278256Z",
     "iopub.status.idle": "2025-07-30T20:59:58.283713Z",
     "shell.execute_reply": "2025-07-30T20:59:58.282776Z"
    },
    "papermill": {
     "duration": 0.030871,
     "end_time": "2025-07-30T20:59:58.285399",
     "exception": false,
     "start_time": "2025-07-30T20:59:58.254528",
     "status": "completed"
    },
    "tags": []
   },
   "outputs": [],
   "source": [
    "#display(siab_train.groupby(\"year\").size())"
   ]
  },
  {
   "cell_type": "code",
   "execution_count": 20,
   "id": "a561edb4-d032-42cb-8256-22eac1111c64",
   "metadata": {
    "execution": {
     "iopub.execute_input": "2025-07-30T20:59:58.329283Z",
     "iopub.status.busy": "2025-07-30T20:59:58.328555Z",
     "iopub.status.idle": "2025-07-30T20:59:58.576624Z",
     "shell.execute_reply": "2025-07-30T20:59:58.575604Z"
    },
    "papermill": {
     "duration": 0.271084,
     "end_time": "2025-07-30T20:59:58.578647",
     "exception": false,
     "start_time": "2025-07-30T20:59:58.307563",
     "status": "completed"
    },
    "tags": []
   },
   "outputs": [],
   "source": [
    "#siab_train = siab_s[siab_s.year < 2015]\n",
    "siab_calib = siab[siab.year == 2015]\n",
    "siab_test = siab[siab.year == 2016]"
   ]
  },
  {
   "cell_type": "code",
   "execution_count": 21,
   "id": "472de16f-c3db-4916-846b-1f0de9cf1746",
   "metadata": {
    "execution": {
     "iopub.execute_input": "2025-07-30T20:59:58.622406Z",
     "iopub.status.busy": "2025-07-30T20:59:58.621733Z",
     "iopub.status.idle": "2025-07-30T20:59:58.629919Z",
     "shell.execute_reply": "2025-07-30T20:59:58.628962Z"
    },
    "papermill": {
     "duration": 0.031947,
     "end_time": "2025-07-30T20:59:58.631582",
     "exception": false,
     "start_time": "2025-07-30T20:59:58.599635",
     "status": "completed"
    },
    "tags": []
   },
   "outputs": [],
   "source": [
    "X_train = siab_train.iloc[:,4:164]\n",
    "y_train = siab_train.iloc[:, [3]]"
   ]
  },
  {
   "cell_type": "code",
   "execution_count": 22,
   "id": "828c96af-f43a-4ed6-ba47-8ac73a47d56c",
   "metadata": {
    "execution": {
     "iopub.execute_input": "2025-07-30T20:59:58.678159Z",
     "iopub.status.busy": "2025-07-30T20:59:58.677298Z",
     "iopub.status.idle": "2025-07-30T20:59:58.733156Z",
     "shell.execute_reply": "2025-07-30T20:59:58.731737Z"
    },
    "papermill": {
     "duration": 0.081164,
     "end_time": "2025-07-30T20:59:58.735666",
     "exception": false,
     "start_time": "2025-07-30T20:59:58.654502",
     "status": "completed"
    },
    "tags": []
   },
   "outputs": [],
   "source": [
    "X_calib = siab_calib.iloc[:,4:164]\n",
    "y_calib = siab_calib.iloc[:, [3]]"
   ]
  },
  {
   "cell_type": "code",
   "execution_count": 23,
   "id": "c34be9c3-6bd6-476e-acd3-845840e303be",
   "metadata": {
    "execution": {
     "iopub.execute_input": "2025-07-30T20:59:58.783428Z",
     "iopub.status.busy": "2025-07-30T20:59:58.782719Z",
     "iopub.status.idle": "2025-07-30T20:59:58.835309Z",
     "shell.execute_reply": "2025-07-30T20:59:58.834317Z"
    },
    "papermill": {
     "duration": 0.076244,
     "end_time": "2025-07-30T20:59:58.837026",
     "exception": false,
     "start_time": "2025-07-30T20:59:58.760782",
     "status": "completed"
    },
    "tags": []
   },
   "outputs": [],
   "source": [
    "X_test = siab_test.iloc[:,4:164]\n",
    "y_true = siab_test.iloc[:, [3]]"
   ]
  },
  {
   "cell_type": "markdown",
   "id": "9901737e-04df-44f0-9100-f5ad144ed040",
   "metadata": {
    "papermill": {
     "duration": 0.019461,
     "end_time": "2025-07-30T20:59:58.878378",
     "exception": false,
     "start_time": "2025-07-30T20:59:58.858917",
     "status": "completed"
    },
    "tags": []
   },
   "source": [
    "# Splitting Data and Setting Training Data Size OLD VERSION"
   ]
  },
  {
   "cell_type": "code",
   "execution_count": 24,
   "id": "acbc8f7d-8fc8-4e86-8c59-5dcb0f58384b",
   "metadata": {
    "execution": {
     "iopub.execute_input": "2025-07-30T20:59:58.919380Z",
     "iopub.status.busy": "2025-07-30T20:59:58.918623Z",
     "iopub.status.idle": "2025-07-30T20:59:58.924208Z",
     "shell.execute_reply": "2025-07-30T20:59:58.923321Z"
    },
    "papermill": {
     "duration": 0.027927,
     "end_time": "2025-07-30T20:59:58.925933",
     "exception": false,
     "start_time": "2025-07-30T20:59:58.898006",
     "status": "completed"
    },
    "tags": []
   },
   "outputs": [],
   "source": [
    "#def sample_by_year(df, training_size, random_state=42):\n",
    "#    if training_size == \"2014\":\n",
    "#        return df[df[\"year\"] == 2014].reset_index(drop=True)\n",
    "#    \n",
    "#    size_map = {\n",
    "#        \"25k\": 5000,\n",
    "#        \"5k\": 1000,\n",
    "#        \"1k\": 200\n",
    "#    }\n",
    "#\n",
    "#    if training_size not in size_map:\n",
    "#        return df.reset_index(drop=True)  # use all data\n",
    "#\n",
    "#    n_per_year = size_map[training_size]\n",
    "#    grouped = df.groupby(\"year\")\n",
    "#    sampled = grouped.apply(lambda x: x.sample(n=min(n_per_year, len(x)), random_state=random_state))\n",
    "#    return sampled.reset_index(drop=True)"
   ]
  },
  {
   "cell_type": "code",
   "execution_count": 25,
   "id": "6d931f52-beaf-43ff-9e78-9d44a448d54e",
   "metadata": {
    "execution": {
     "iopub.execute_input": "2025-07-30T20:59:58.969056Z",
     "iopub.status.busy": "2025-07-30T20:59:58.968127Z",
     "iopub.status.idle": "2025-07-30T20:59:58.973435Z",
     "shell.execute_reply": "2025-07-30T20:59:58.972585Z"
    },
    "papermill": {
     "duration": 0.028339,
     "end_time": "2025-07-30T20:59:58.975123",
     "exception": false,
     "start_time": "2025-07-30T20:59:58.946784",
     "status": "completed"
    },
    "tags": []
   },
   "outputs": [],
   "source": [
    "#siab_s = sample_by_year(siab, universe[\"training_size\"])"
   ]
  },
  {
   "cell_type": "code",
   "execution_count": 26,
   "id": "5db0a40e-a4e2-4920-be85-b12ae061d70d",
   "metadata": {
    "execution": {
     "iopub.execute_input": "2025-07-30T20:59:59.019079Z",
     "iopub.status.busy": "2025-07-30T20:59:59.018424Z",
     "iopub.status.idle": "2025-07-30T20:59:59.023378Z",
     "shell.execute_reply": "2025-07-30T20:59:59.022488Z"
    },
    "papermill": {
     "duration": 0.02925,
     "end_time": "2025-07-30T20:59:59.024821",
     "exception": false,
     "start_time": "2025-07-30T20:59:58.995571",
     "status": "completed"
    },
    "tags": []
   },
   "outputs": [],
   "source": [
    "#display(siab_s.groupby(\"year\").size())"
   ]
  },
  {
   "cell_type": "code",
   "execution_count": 27,
   "id": "e6c733c5",
   "metadata": {
    "execution": {
     "iopub.execute_input": "2025-07-30T20:59:59.068568Z",
     "iopub.status.busy": "2025-07-30T20:59:59.067746Z",
     "iopub.status.idle": "2025-07-30T20:59:59.192724Z",
     "shell.execute_reply": "2025-07-30T20:59:59.191674Z"
    },
    "papermill": {
     "duration": 0.148917,
     "end_time": "2025-07-30T20:59:59.194605",
     "exception": false,
     "start_time": "2025-07-30T20:59:59.045688",
     "status": "completed"
    },
    "tags": []
   },
   "outputs": [],
   "source": [
    "# Auxiliary data needed downstream in the pipeline\n",
    "\n",
    "org_train = X_train.copy()\n",
    "org_test = X_test.copy()\n",
    "org_calib = X_calib.copy()"
   ]
  },
  {
   "cell_type": "code",
   "execution_count": 28,
   "id": "1466abac-c6da-4492-a62f-4240ae3783af",
   "metadata": {
    "execution": {
     "iopub.execute_input": "2025-07-30T20:59:59.239558Z",
     "iopub.status.busy": "2025-07-30T20:59:59.238503Z",
     "iopub.status.idle": "2025-07-30T20:59:59.245331Z",
     "shell.execute_reply": "2025-07-30T20:59:59.244338Z"
    },
    "papermill": {
     "duration": 0.031294,
     "end_time": "2025-07-30T20:59:59.247131",
     "exception": false,
     "start_time": "2025-07-30T20:59:59.215837",
     "status": "completed"
    },
    "tags": []
   },
   "outputs": [],
   "source": [
    "# put in other script?\n",
    "# Group sizes\n",
    "\n",
    "#def calculate_percentages(df, df_name):\n",
    "#    total_entries = len(df)\n",
    "#\n",
    "#    female_pct = (df['frau1'] == 1).mean() * 100\n",
    "#    non_german_pct = ((df['maxdeutsch1'] == 0) & (df['maxdeutsch.Missing.'] == 0)).mean() * 100\n",
    "#    non_german_male_pct = ((df['frau1'] == 0) & (df['maxdeutsch1'] == 0) & (df['maxdeutsch.Missing.'] == 0)).mean() * 100\n",
    "#    non_german_female_pct = ((df['frau1'] == 1) & (df['maxdeutsch1'] == 0) & (df['maxdeutsch.Missing.'] == 0)).mean() * 100\n",
    "#\n",
    "#    print(f\"--- {df_name} ---\")\n",
    "#    print(f\"Female: {female_pct:.2f}%\")\n",
    "#    print(f\"Non-German: {non_german_pct:.2f}%\")\n",
    "#    print(f\"Non-German Male: {non_german_male_pct:.2f}%\")\n",
    "#    print(f\"Non-German Female: {non_german_female_pct:.2f}%\\n\")\n",
    "#\n",
    "## Calculate for each DataFrame\n",
    "#calculate_percentages(siab_calib, \"siab_calib\")\n",
    "#calculate_percentages(siab_test, \"siab_test\")\n",
    "#calculate_percentages(siab_train, \"siab_train\")"
   ]
  },
  {
   "cell_type": "markdown",
   "id": "0a4a1b33",
   "metadata": {
    "papermill": {
     "duration": 0.028217,
     "end_time": "2025-07-30T20:59:59.303683",
     "exception": false,
     "start_time": "2025-07-30T20:59:59.275466",
     "status": "completed"
    },
    "tags": []
   },
   "source": [
    "# Preprocessing Data"
   ]
  },
  {
   "cell_type": "code",
   "execution_count": 29,
   "id": "ca879031",
   "metadata": {
    "execution": {
     "iopub.execute_input": "2025-07-30T20:59:59.361292Z",
     "iopub.status.busy": "2025-07-30T20:59:59.360598Z",
     "iopub.status.idle": "2025-07-30T20:59:59.367516Z",
     "shell.execute_reply": "2025-07-30T20:59:59.366376Z"
    },
    "papermill": {
     "duration": 0.038034,
     "end_time": "2025-07-30T20:59:59.369400",
     "exception": false,
     "start_time": "2025-07-30T20:59:59.331366",
     "status": "completed"
    },
    "tags": []
   },
   "outputs": [],
   "source": [
    "# EXCLUDE PROTECTED FEATURES\n",
    "# ----------------------\n",
    "# \"exclude_features\": \"none\", # \"nationality\", \"sex\", \"nationality-sex\"\n",
    "\n",
    "excluded_features = universe[\"exclude_features\"].split(\"-\") # split, e.g.: \"nationality-sex\" -> [\"nationality\", \"sex\"]\n",
    "excluded_features_dictionary = {\n",
    "    \"nationality\": [\"maxdeutsch1\", \"maxdeutsch.Missing.\"],\n",
    "    \"sex\": [\"frau1\"],\n",
    "    \"age\": [\"age\"],\n",
    "}\n"
   ]
  },
  {
   "cell_type": "code",
   "execution_count": 30,
   "id": "b745ac60",
   "metadata": {
    "execution": {
     "iopub.execute_input": "2025-07-30T20:59:59.426663Z",
     "iopub.status.busy": "2025-07-30T20:59:59.425958Z",
     "iopub.status.idle": "2025-07-30T20:59:59.432210Z",
     "shell.execute_reply": "2025-07-30T20:59:59.431114Z"
    },
    "papermill": {
     "duration": 0.036751,
     "end_time": "2025-07-30T20:59:59.434035",
     "exception": false,
     "start_time": "2025-07-30T20:59:59.397284",
     "status": "completed"
    },
    "tags": []
   },
   "outputs": [],
   "source": [
    "# Code nice names to column names\n",
    "\n",
    "excluded_features_columns = [\n",
    "    excluded_features_dictionary[f] for f in excluded_features if len(f) > 0 and f != \"none\"\n",
    "]"
   ]
  },
  {
   "cell_type": "code",
   "execution_count": 31,
   "id": "f84f73a2",
   "metadata": {
    "execution": {
     "iopub.execute_input": "2025-07-30T20:59:59.491915Z",
     "iopub.status.busy": "2025-07-30T20:59:59.491537Z",
     "iopub.status.idle": "2025-07-30T20:59:59.498146Z",
     "shell.execute_reply": "2025-07-30T20:59:59.497145Z"
    },
    "papermill": {
     "duration": 0.03782,
     "end_time": "2025-07-30T20:59:59.499763",
     "exception": false,
     "start_time": "2025-07-30T20:59:59.461943",
     "status": "completed"
    },
    "tags": []
   },
   "outputs": [],
   "source": [
    "from utils import flatten_once\n",
    "\n",
    "excluded_features_columns = flatten_once(excluded_features_columns)"
   ]
  },
  {
   "cell_type": "code",
   "execution_count": 32,
   "id": "884dea22",
   "metadata": {
    "execution": {
     "iopub.execute_input": "2025-07-30T20:59:59.545199Z",
     "iopub.status.busy": "2025-07-30T20:59:59.544294Z",
     "iopub.status.idle": "2025-07-30T20:59:59.553761Z",
     "shell.execute_reply": "2025-07-30T20:59:59.552727Z"
    },
    "papermill": {
     "duration": 0.033739,
     "end_time": "2025-07-30T20:59:59.555751",
     "exception": false,
     "start_time": "2025-07-30T20:59:59.522012",
     "status": "completed"
    },
    "tags": []
   },
   "outputs": [
    {
     "name": "stdout",
     "output_type": "stream",
     "text": [
      "Dropping features: ['frau1']\n"
     ]
    }
   ],
   "source": [
    "if len(excluded_features_columns) > 0:\n",
    "    print(f\"Dropping features: {excluded_features_columns}\")\n",
    "    X_train.drop(excluded_features_columns, axis=1, inplace=True)"
   ]
  },
  {
   "cell_type": "code",
   "execution_count": 33,
   "id": "95ab8b16",
   "metadata": {
    "execution": {
     "iopub.execute_input": "2025-07-30T20:59:59.613523Z",
     "iopub.status.busy": "2025-07-30T20:59:59.613141Z",
     "iopub.status.idle": "2025-07-30T20:59:59.670236Z",
     "shell.execute_reply": "2025-07-30T20:59:59.669128Z"
    },
    "papermill": {
     "duration": 0.088237,
     "end_time": "2025-07-30T20:59:59.672003",
     "exception": false,
     "start_time": "2025-07-30T20:59:59.583766",
     "status": "completed"
    },
    "tags": []
   },
   "outputs": [
    {
     "name": "stdout",
     "output_type": "stream",
     "text": [
      "Dropping features: ['frau1']\n"
     ]
    }
   ],
   "source": [
    "if len(excluded_features_columns) > 0:\n",
    "    print(f\"Dropping features: {excluded_features_columns}\")\n",
    "    X_test.drop(excluded_features_columns, axis=1, inplace=True)"
   ]
  },
  {
   "cell_type": "code",
   "execution_count": 34,
   "id": "1853aaf5-fb9f-46cb-a2b5-8ea4ae2237e4",
   "metadata": {
    "execution": {
     "iopub.execute_input": "2025-07-30T20:59:59.724950Z",
     "iopub.status.busy": "2025-07-30T20:59:59.724113Z",
     "iopub.status.idle": "2025-07-30T20:59:59.778165Z",
     "shell.execute_reply": "2025-07-30T20:59:59.777014Z"
    },
    "papermill": {
     "duration": 0.086277,
     "end_time": "2025-07-30T20:59:59.780551",
     "exception": false,
     "start_time": "2025-07-30T20:59:59.694274",
     "status": "completed"
    },
    "tags": []
   },
   "outputs": [
    {
     "name": "stdout",
     "output_type": "stream",
     "text": [
      "Dropping features: ['frau1']\n"
     ]
    }
   ],
   "source": [
    "if len(excluded_features_columns) > 0:\n",
    "    print(f\"Dropping features: {excluded_features_columns}\")\n",
    "    X_calib.drop(excluded_features_columns, axis=1, inplace=True)"
   ]
  },
  {
   "cell_type": "code",
   "execution_count": 35,
   "id": "6727d079-03e5-481e-9d38-292a90b7a0a8",
   "metadata": {
    "execution": {
     "iopub.execute_input": "2025-07-30T20:59:59.854761Z",
     "iopub.status.busy": "2025-07-30T20:59:59.853999Z",
     "iopub.status.idle": "2025-07-30T20:59:59.860440Z",
     "shell.execute_reply": "2025-07-30T20:59:59.859148Z"
    },
    "papermill": {
     "duration": 0.045954,
     "end_time": "2025-07-30T20:59:59.862279",
     "exception": false,
     "start_time": "2025-07-30T20:59:59.816325",
     "status": "completed"
    },
    "tags": []
   },
   "outputs": [],
   "source": [
    "# SPLIT & STRATIFY DATA\n",
    "# ----------------------"
   ]
  },
  {
   "cell_type": "code",
   "execution_count": 36,
   "id": "76c4dc6d",
   "metadata": {
    "execution": {
     "iopub.execute_input": "2025-07-30T20:59:59.908321Z",
     "iopub.status.busy": "2025-07-30T20:59:59.907311Z",
     "iopub.status.idle": "2025-07-30T20:59:59.915055Z",
     "shell.execute_reply": "2025-07-30T20:59:59.913949Z"
    },
    "papermill": {
     "duration": 0.032647,
     "end_time": "2025-07-30T20:59:59.917155",
     "exception": false,
     "start_time": "2025-07-30T20:59:59.884508",
     "status": "completed"
    },
    "tags": []
   },
   "outputs": [],
   "source": [
    "# EXCLUDE CERTAIN SUBGROUPS\n",
    "# ----------------------\n",
    "\n",
    "mode = universe.get(\"exclude_subgroups\", \"keep-all\") \n",
    "# Fetches the exclude_subgroups setting from the universe dict.\n",
    "# Defaults to \"keep-all\" if the key is missing."
   ]
  },
  {
   "cell_type": "code",
   "execution_count": 37,
   "id": "21994072",
   "metadata": {
    "execution": {
     "iopub.execute_input": "2025-07-30T20:59:59.963428Z",
     "iopub.status.busy": "2025-07-30T20:59:59.962676Z",
     "iopub.status.idle": "2025-07-30T20:59:59.970992Z",
     "shell.execute_reply": "2025-07-30T20:59:59.970085Z"
    },
    "papermill": {
     "duration": 0.033325,
     "end_time": "2025-07-30T20:59:59.973138",
     "exception": false,
     "start_time": "2025-07-30T20:59:59.939813",
     "status": "completed"
    },
    "tags": []
   },
   "outputs": [],
   "source": [
    "if mode == \"keep-all\":\n",
    "    keep_mask = pd.Series(True, index=org_train.index)\n",
    "\n",
    "# org_train contains the original feature columns from features_org (in Simson)\n",
    "# features_org contains unprocessed features, for me X_train at beginning ???\n",
    "# For keep-all, creates a boolean Series (keep_mask) of all True, so no rows are removed.\n",
    "\n",
    "elif mode == \"drop-non-german\":\n",
    "    keep_mask = org_train[\"maxdeutsch1\"] == 1 # ??? what about missing values?\n",
    "\n",
    "else:\n",
    "    raise ValueError(f\"Unsupported mode for exclude_subgroups: {mode}\")\n"
   ]
  },
  {
   "cell_type": "code",
   "execution_count": 38,
   "id": "71651440",
   "metadata": {
    "execution": {
     "iopub.execute_input": "2025-07-30T21:00:00.019736Z",
     "iopub.status.busy": "2025-07-30T21:00:00.019035Z",
     "iopub.status.idle": "2025-07-30T21:00:00.028250Z",
     "shell.execute_reply": "2025-07-30T21:00:00.027142Z"
    },
    "papermill": {
     "duration": 0.033781,
     "end_time": "2025-07-30T21:00:00.029980",
     "exception": false,
     "start_time": "2025-07-30T20:59:59.996199",
     "status": "completed"
    },
    "tags": []
   },
   "outputs": [
    {
     "name": "stdout",
     "output_type": "stream",
     "text": [
      "Dropping 665 rows (13.30%) where mode='drop-non-german'\n"
     ]
    }
   ],
   "source": [
    "n_drop = (~keep_mask).sum() # Calculates how many rows are set to be dropped\n",
    "if n_drop > 0:\n",
    "    pct = n_drop / len(keep_mask) * 100\n",
    "    print(f\"Dropping {n_drop} rows ({pct:.2f}%) where mode='{mode}'\")"
   ]
  },
  {
   "cell_type": "code",
   "execution_count": 39,
   "id": "5fb8eee5",
   "metadata": {
    "execution": {
     "iopub.execute_input": "2025-07-30T21:00:00.077433Z",
     "iopub.status.busy": "2025-07-30T21:00:00.076960Z",
     "iopub.status.idle": "2025-07-30T21:00:00.084270Z",
     "shell.execute_reply": "2025-07-30T21:00:00.083374Z"
    },
    "papermill": {
     "duration": 0.033944,
     "end_time": "2025-07-30T21:00:00.085883",
     "exception": false,
     "start_time": "2025-07-30T21:00:00.051939",
     "status": "completed"
    },
    "tags": []
   },
   "outputs": [],
   "source": [
    "X_train = X_train[keep_mask]"
   ]
  },
  {
   "cell_type": "code",
   "execution_count": 40,
   "id": "b202bb3a",
   "metadata": {
    "execution": {
     "iopub.execute_input": "2025-07-30T21:00:00.133523Z",
     "iopub.status.busy": "2025-07-30T21:00:00.132694Z",
     "iopub.status.idle": "2025-07-30T21:00:00.138600Z",
     "shell.execute_reply": "2025-07-30T21:00:00.137648Z"
    },
    "papermill": {
     "duration": 0.032385,
     "end_time": "2025-07-30T21:00:00.140361",
     "exception": false,
     "start_time": "2025-07-30T21:00:00.107976",
     "status": "completed"
    },
    "tags": []
   },
   "outputs": [],
   "source": [
    "y_train = y_train[keep_mask]"
   ]
  },
  {
   "cell_type": "markdown",
   "id": "493e2ac3",
   "metadata": {
    "papermill": {
     "duration": 0.022033,
     "end_time": "2025-07-30T21:00:00.186471",
     "exception": false,
     "start_time": "2025-07-30T21:00:00.164438",
     "status": "completed"
    },
    "tags": []
   },
   "source": [
    "# Model Training"
   ]
  },
  {
   "cell_type": "code",
   "execution_count": 41,
   "id": "679e1268",
   "metadata": {
    "execution": {
     "iopub.execute_input": "2025-07-30T21:00:00.234202Z",
     "iopub.status.busy": "2025-07-30T21:00:00.233550Z",
     "iopub.status.idle": "2025-07-30T21:00:00.343135Z",
     "shell.execute_reply": "2025-07-30T21:00:00.342006Z"
    },
    "papermill": {
     "duration": 0.136151,
     "end_time": "2025-07-30T21:00:00.345166",
     "exception": false,
     "start_time": "2025-07-30T21:00:00.209015",
     "status": "completed"
    },
    "tags": []
   },
   "outputs": [],
   "source": [
    "from sklearn.linear_model import LogisticRegression\n",
    "from sklearn.ensemble import GradientBoostingClassifier, RandomForestClassifier\n",
    "\n",
    "if (universe[\"model\"] == \"logreg\"):\n",
    "    model = LogisticRegression() #penalty=\"none\") #, solver=\"newton-cg\", max_iter=1) # include random_state=19 ?\n",
    "elif (universe[\"model\"] == \"penalized_logreg\"):\n",
    "    model = LogisticRegression(penalty=\"l2\", C=1.0) #, solver=\"newton-cg\", max_iter=1)\n",
    "elif (universe[\"model\"] == \"rf\"):\n",
    "    model = RandomForestClassifier(n_estimators=100, n_jobs=-1)\n",
    "elif (universe[\"model\"] == \"gbm\"):\n",
    "    model = GradientBoostingClassifier()\n",
    "elif (universe[\"model\"] == \"elasticnet\"):\n",
    "    model = LogisticRegression(penalty = 'elasticnet', solver = 'saga', l1_ratio = 0.5, max_iter=5000) # which solver to use?\n",
    "else:\n",
    "    raise \"Unsupported universe.model\""
   ]
  },
  {
   "cell_type": "code",
   "execution_count": 42,
   "id": "0cc8f744",
   "metadata": {
    "execution": {
     "iopub.execute_input": "2025-07-30T21:00:00.411662Z",
     "iopub.status.busy": "2025-07-30T21:00:00.411096Z",
     "iopub.status.idle": "2025-07-30T21:00:00.418662Z",
     "shell.execute_reply": "2025-07-30T21:00:00.417674Z"
    },
    "papermill": {
     "duration": 0.037509,
     "end_time": "2025-07-30T21:00:00.422836",
     "exception": false,
     "start_time": "2025-07-30T21:00:00.385327",
     "status": "completed"
    },
    "tags": []
   },
   "outputs": [],
   "source": [
    "import numpy as np\n",
    "from sklearn.pipeline import Pipeline\n",
    "from sklearn.preprocessing import StandardScaler\n",
    "\n",
    "model = Pipeline([\n",
    "    #(\"continuous_processor\", continuous_processor),\n",
    "    #(\"categorical_preprocessor\", categorical_preprocessor),\n",
    "    (\"scale\", StandardScaler() if universe[\"scale\"] == \"scale\" else None), \n",
    "    (\"model\", model),\n",
    "])"
   ]
  },
  {
   "cell_type": "code",
   "execution_count": 43,
   "id": "9442c04d",
   "metadata": {
    "execution": {
     "iopub.execute_input": "2025-07-30T21:00:00.470934Z",
     "iopub.status.busy": "2025-07-30T21:00:00.469940Z",
     "iopub.status.idle": "2025-07-30T21:00:01.313732Z",
     "shell.execute_reply": "2025-07-30T21:00:01.313029Z"
    },
    "papermill": {
     "duration": 0.869687,
     "end_time": "2025-07-30T21:00:01.314973",
     "exception": false,
     "start_time": "2025-07-30T21:00:00.445286",
     "status": "completed"
    },
    "tags": []
   },
   "outputs": [
    {
     "data": {
      "text/html": [
       "<style>#sk-container-id-1 {color: black;background-color: white;}#sk-container-id-1 pre{padding: 0;}#sk-container-id-1 div.sk-toggleable {background-color: white;}#sk-container-id-1 label.sk-toggleable__label {cursor: pointer;display: block;width: 100%;margin-bottom: 0;padding: 0.3em;box-sizing: border-box;text-align: center;}#sk-container-id-1 label.sk-toggleable__label-arrow:before {content: \"▸\";float: left;margin-right: 0.25em;color: #696969;}#sk-container-id-1 label.sk-toggleable__label-arrow:hover:before {color: black;}#sk-container-id-1 div.sk-estimator:hover label.sk-toggleable__label-arrow:before {color: black;}#sk-container-id-1 div.sk-toggleable__content {max-height: 0;max-width: 0;overflow: hidden;text-align: left;background-color: #f0f8ff;}#sk-container-id-1 div.sk-toggleable__content pre {margin: 0.2em;color: black;border-radius: 0.25em;background-color: #f0f8ff;}#sk-container-id-1 input.sk-toggleable__control:checked~div.sk-toggleable__content {max-height: 200px;max-width: 100%;overflow: auto;}#sk-container-id-1 input.sk-toggleable__control:checked~label.sk-toggleable__label-arrow:before {content: \"▾\";}#sk-container-id-1 div.sk-estimator input.sk-toggleable__control:checked~label.sk-toggleable__label {background-color: #d4ebff;}#sk-container-id-1 div.sk-label input.sk-toggleable__control:checked~label.sk-toggleable__label {background-color: #d4ebff;}#sk-container-id-1 input.sk-hidden--visually {border: 0;clip: rect(1px 1px 1px 1px);clip: rect(1px, 1px, 1px, 1px);height: 1px;margin: -1px;overflow: hidden;padding: 0;position: absolute;width: 1px;}#sk-container-id-1 div.sk-estimator {font-family: monospace;background-color: #f0f8ff;border: 1px dotted black;border-radius: 0.25em;box-sizing: border-box;margin-bottom: 0.5em;}#sk-container-id-1 div.sk-estimator:hover {background-color: #d4ebff;}#sk-container-id-1 div.sk-parallel-item::after {content: \"\";width: 100%;border-bottom: 1px solid gray;flex-grow: 1;}#sk-container-id-1 div.sk-label:hover label.sk-toggleable__label {background-color: #d4ebff;}#sk-container-id-1 div.sk-serial::before {content: \"\";position: absolute;border-left: 1px solid gray;box-sizing: border-box;top: 0;bottom: 0;left: 50%;z-index: 0;}#sk-container-id-1 div.sk-serial {display: flex;flex-direction: column;align-items: center;background-color: white;padding-right: 0.2em;padding-left: 0.2em;position: relative;}#sk-container-id-1 div.sk-item {position: relative;z-index: 1;}#sk-container-id-1 div.sk-parallel {display: flex;align-items: stretch;justify-content: center;background-color: white;position: relative;}#sk-container-id-1 div.sk-item::before, #sk-container-id-1 div.sk-parallel-item::before {content: \"\";position: absolute;border-left: 1px solid gray;box-sizing: border-box;top: 0;bottom: 0;left: 50%;z-index: -1;}#sk-container-id-1 div.sk-parallel-item {display: flex;flex-direction: column;z-index: 1;position: relative;background-color: white;}#sk-container-id-1 div.sk-parallel-item:first-child::after {align-self: flex-end;width: 50%;}#sk-container-id-1 div.sk-parallel-item:last-child::after {align-self: flex-start;width: 50%;}#sk-container-id-1 div.sk-parallel-item:only-child::after {width: 0;}#sk-container-id-1 div.sk-dashed-wrapped {border: 1px dashed gray;margin: 0 0.4em 0.5em 0.4em;box-sizing: border-box;padding-bottom: 0.4em;background-color: white;}#sk-container-id-1 div.sk-label label {font-family: monospace;font-weight: bold;display: inline-block;line-height: 1.2em;}#sk-container-id-1 div.sk-label-container {text-align: center;}#sk-container-id-1 div.sk-container {/* jupyter's `normalize.less` sets `[hidden] { display: none; }` but bootstrap.min.css set `[hidden] { display: none !important; }` so we also need the `!important` here to be able to override the default hidden behavior on the sphinx rendered scikit-learn.org. See: https://github.com/scikit-learn/scikit-learn/issues/21755 */display: inline-block !important;position: relative;}#sk-container-id-1 div.sk-text-repr-fallback {display: none;}</style><div id=\"sk-container-id-1\" class=\"sk-top-container\"><div class=\"sk-text-repr-fallback\"><pre>Pipeline(steps=[(&#x27;scale&#x27;, StandardScaler()),\n",
       "                (&#x27;model&#x27;, RandomForestClassifier(n_jobs=-1))])</pre><b>In a Jupyter environment, please rerun this cell to show the HTML representation or trust the notebook. <br />On GitHub, the HTML representation is unable to render, please try loading this page with nbviewer.org.</b></div><div class=\"sk-container\" hidden><div class=\"sk-item sk-dashed-wrapped\"><div class=\"sk-label-container\"><div class=\"sk-label sk-toggleable\"><input class=\"sk-toggleable__control sk-hidden--visually\" id=\"sk-estimator-id-1\" type=\"checkbox\" ><label for=\"sk-estimator-id-1\" class=\"sk-toggleable__label sk-toggleable__label-arrow\">Pipeline</label><div class=\"sk-toggleable__content\"><pre>Pipeline(steps=[(&#x27;scale&#x27;, StandardScaler()),\n",
       "                (&#x27;model&#x27;, RandomForestClassifier(n_jobs=-1))])</pre></div></div></div><div class=\"sk-serial\"><div class=\"sk-item\"><div class=\"sk-estimator sk-toggleable\"><input class=\"sk-toggleable__control sk-hidden--visually\" id=\"sk-estimator-id-2\" type=\"checkbox\" ><label for=\"sk-estimator-id-2\" class=\"sk-toggleable__label sk-toggleable__label-arrow\">StandardScaler</label><div class=\"sk-toggleable__content\"><pre>StandardScaler()</pre></div></div></div><div class=\"sk-item\"><div class=\"sk-estimator sk-toggleable\"><input class=\"sk-toggleable__control sk-hidden--visually\" id=\"sk-estimator-id-3\" type=\"checkbox\" ><label for=\"sk-estimator-id-3\" class=\"sk-toggleable__label sk-toggleable__label-arrow\">RandomForestClassifier</label><div class=\"sk-toggleable__content\"><pre>RandomForestClassifier(n_jobs=-1)</pre></div></div></div></div></div></div></div>"
      ],
      "text/plain": [
       "Pipeline(steps=[('scale', StandardScaler()),\n",
       "                ('model', RandomForestClassifier(n_jobs=-1))])"
      ]
     },
     "execution_count": 43,
     "metadata": {},
     "output_type": "execute_result"
    }
   ],
   "source": [
    "model.fit(X_train, y_train.values.ravel())"
   ]
  },
  {
   "cell_type": "code",
   "execution_count": 44,
   "id": "af59f8c0",
   "metadata": {
    "execution": {
     "iopub.execute_input": "2025-07-30T21:00:01.342865Z",
     "iopub.status.busy": "2025-07-30T21:00:01.342123Z",
     "iopub.status.idle": "2025-07-30T21:00:01.347088Z",
     "shell.execute_reply": "2025-07-30T21:00:01.346387Z"
    },
    "papermill": {
     "duration": 0.02068,
     "end_time": "2025-07-30T21:00:01.348633",
     "exception": false,
     "start_time": "2025-07-30T21:00:01.327953",
     "status": "completed"
    },
    "tags": []
   },
   "outputs": [],
   "source": [
    "from fairness_multiverse.universe import predict_w_threshold"
   ]
  },
  {
   "cell_type": "code",
   "execution_count": 45,
   "id": "a7cf2e16",
   "metadata": {
    "execution": {
     "iopub.execute_input": "2025-07-30T21:00:01.377035Z",
     "iopub.status.busy": "2025-07-30T21:00:01.376534Z",
     "iopub.status.idle": "2025-07-30T21:00:02.462019Z",
     "shell.execute_reply": "2025-07-30T21:00:02.461270Z"
    },
    "papermill": {
     "duration": 1.10056,
     "end_time": "2025-07-30T21:00:02.463274",
     "exception": false,
     "start_time": "2025-07-30T21:00:01.362714",
     "status": "completed"
    },
    "tags": []
   },
   "outputs": [
    {
     "data": {
      "text/plain": [
       "0.865622561587337"
      ]
     },
     "execution_count": 45,
     "metadata": {},
     "output_type": "execute_result"
    }
   ],
   "source": [
    "probs_test = model.predict_proba(X_test)\n",
    "\n",
    "'''\n",
    "Below code returns a boolean array (or binary 0/1 array depending on how it’s used) where each element \n",
    "is True if the probability of class 1 is greater than or equal to the threshold, and False otherwise.\n",
    "'''\n",
    "y_pred_default = predict_w_threshold(probs_test, 0.5)\n",
    "\n",
    "from sklearn.metrics import accuracy_score\n",
    "\n",
    "# Naive prediction\n",
    "accuracy_score(y_true = y_true, y_pred = y_pred_default)"
   ]
  },
  {
   "cell_type": "code",
   "execution_count": 46,
   "id": "081964c3",
   "metadata": {
    "execution": {
     "iopub.execute_input": "2025-07-30T21:00:02.513365Z",
     "iopub.status.busy": "2025-07-30T21:00:02.512862Z",
     "iopub.status.idle": "2025-07-30T21:00:03.470308Z",
     "shell.execute_reply": "2025-07-30T21:00:03.469086Z"
    },
    "papermill": {
     "duration": 0.986687,
     "end_time": "2025-07-30T21:00:03.472322",
     "exception": false,
     "start_time": "2025-07-30T21:00:02.485635",
     "status": "completed"
    },
    "tags": []
   },
   "outputs": [
    {
     "data": {
      "text/plain": [
       "array([0, 0, 0, ..., 0, 0, 0])"
      ]
     },
     "execution_count": 46,
     "metadata": {},
     "output_type": "execute_result"
    }
   ],
   "source": [
    "model.predict(X_test)"
   ]
  },
  {
   "cell_type": "markdown",
   "id": "56c9705b",
   "metadata": {
    "papermill": {
     "duration": 0.016377,
     "end_time": "2025-07-30T21:00:03.515368",
     "exception": false,
     "start_time": "2025-07-30T21:00:03.498991",
     "status": "completed"
    },
    "tags": []
   },
   "source": [
    "# Conformal Prediction"
   ]
  },
  {
   "cell_type": "code",
   "execution_count": 47,
   "id": "160ec6ff",
   "metadata": {
    "execution": {
     "iopub.execute_input": "2025-07-30T21:00:03.574886Z",
     "iopub.status.busy": "2025-07-30T21:00:03.574396Z",
     "iopub.status.idle": "2025-07-30T21:00:03.579564Z",
     "shell.execute_reply": "2025-07-30T21:00:03.578745Z"
    },
    "papermill": {
     "duration": 0.029956,
     "end_time": "2025-07-30T21:00:03.581068",
     "exception": false,
     "start_time": "2025-07-30T21:00:03.551112",
     "status": "completed"
    },
    "tags": []
   },
   "outputs": [],
   "source": [
    "# Miscoverage level for conformal prediction (10% allowed error rate => 90% target coverage)\n",
    "alpha = 0.1"
   ]
  },
  {
   "cell_type": "code",
   "execution_count": 48,
   "id": "eadf4555-3dd3-440e-8e35-f82a4ad9f855",
   "metadata": {
    "execution": {
     "iopub.execute_input": "2025-07-30T21:00:03.636398Z",
     "iopub.status.busy": "2025-07-30T21:00:03.635828Z",
     "iopub.status.idle": "2025-07-30T21:00:04.608952Z",
     "shell.execute_reply": "2025-07-30T21:00:04.607793Z"
    },
    "papermill": {
     "duration": 1.018674,
     "end_time": "2025-07-30T21:00:04.621297",
     "exception": false,
     "start_time": "2025-07-30T21:00:03.602623",
     "status": "completed"
    },
    "tags": []
   },
   "outputs": [],
   "source": [
    "probs_calib = model.predict_proba(X_calib)"
   ]
  },
  {
   "cell_type": "code",
   "execution_count": 49,
   "id": "2ed93547-6d5d-4983-9b36-1ecb300da49a",
   "metadata": {
    "execution": {
     "iopub.execute_input": "2025-07-30T21:00:04.678581Z",
     "iopub.status.busy": "2025-07-30T21:00:04.678093Z",
     "iopub.status.idle": "2025-07-30T21:00:04.695527Z",
     "shell.execute_reply": "2025-07-30T21:00:04.694349Z"
    },
    "papermill": {
     "duration": 0.046908,
     "end_time": "2025-07-30T21:00:04.698331",
     "exception": false,
     "start_time": "2025-07-30T21:00:04.651423",
     "status": "completed"
    },
    "tags": []
   },
   "outputs": [],
   "source": [
    "y_calib = y_calib.values.ravel().astype(int)"
   ]
  },
  {
   "cell_type": "code",
   "execution_count": 50,
   "id": "65d1320d-f588-4b38-9072-62af1ae97f7d",
   "metadata": {
    "execution": {
     "iopub.execute_input": "2025-07-30T21:00:04.748553Z",
     "iopub.status.busy": "2025-07-30T21:00:04.747467Z",
     "iopub.status.idle": "2025-07-30T21:00:04.754941Z",
     "shell.execute_reply": "2025-07-30T21:00:04.753702Z"
    },
    "papermill": {
     "duration": 0.033986,
     "end_time": "2025-07-30T21:00:04.756668",
     "exception": false,
     "start_time": "2025-07-30T21:00:04.722682",
     "status": "completed"
    },
    "tags": []
   },
   "outputs": [],
   "source": [
    "from fairness_multiverse.conformal import compute_nc_scores\n",
    "\n",
    "# Compute nonconformity scores on calibration set (1 - probability of true class)\n",
    "nc_scores = compute_nc_scores(probs_calib, y_calib)"
   ]
  },
  {
   "cell_type": "code",
   "execution_count": 51,
   "id": "df3b8ca3-53b7-43d5-9667-7c85da7aeda2",
   "metadata": {
    "execution": {
     "iopub.execute_input": "2025-07-30T21:00:04.807622Z",
     "iopub.status.busy": "2025-07-30T21:00:04.807110Z",
     "iopub.status.idle": "2025-07-30T21:00:04.813161Z",
     "shell.execute_reply": "2025-07-30T21:00:04.812329Z"
    },
    "papermill": {
     "duration": 0.03394,
     "end_time": "2025-07-30T21:00:04.814861",
     "exception": false,
     "start_time": "2025-07-30T21:00:04.780921",
     "status": "completed"
    },
    "tags": []
   },
   "outputs": [],
   "source": [
    "from fairness_multiverse.conformal import find_threshold\n",
    "\n",
    "# Find conformal threshold q_hat for the given alpha (split conformal method)\n",
    "q_hat = find_threshold(nc_scores, alpha)"
   ]
  },
  {
   "cell_type": "code",
   "execution_count": 52,
   "id": "4d29e6c1-0ef6-4aa4-b8fe-4fe79b0d033a",
   "metadata": {
    "execution": {
     "iopub.execute_input": "2025-07-30T21:00:04.861033Z",
     "iopub.status.busy": "2025-07-30T21:00:04.860585Z",
     "iopub.status.idle": "2025-07-30T21:00:04.867475Z",
     "shell.execute_reply": "2025-07-30T21:00:04.866447Z"
    },
    "papermill": {
     "duration": 0.036994,
     "end_time": "2025-07-30T21:00:04.872423",
     "exception": false,
     "start_time": "2025-07-30T21:00:04.835429",
     "status": "completed"
    },
    "tags": []
   },
   "outputs": [
    {
     "data": {
      "text/plain": [
       "0.6699999999999999"
      ]
     },
     "execution_count": 52,
     "metadata": {},
     "output_type": "execute_result"
    }
   ],
   "source": [
    "q_hat"
   ]
  },
  {
   "cell_type": "code",
   "execution_count": 53,
   "id": "92460794-cdac-4be2-ba28-f28c0515a6fb",
   "metadata": {
    "execution": {
     "iopub.execute_input": "2025-07-30T21:00:04.919837Z",
     "iopub.status.busy": "2025-07-30T21:00:04.919358Z",
     "iopub.status.idle": "2025-07-30T21:00:06.640823Z",
     "shell.execute_reply": "2025-07-30T21:00:06.639638Z"
    },
    "papermill": {
     "duration": 1.747489,
     "end_time": "2025-07-30T21:00:06.642644",
     "exception": false,
     "start_time": "2025-07-30T21:00:04.895155",
     "status": "completed"
    },
    "tags": []
   },
   "outputs": [],
   "source": [
    "from fairness_multiverse.conformal import predict_conformal_sets\n",
    "\n",
    "# Generate prediction sets for each test example\n",
    "pred_sets = predict_conformal_sets(model, X_test, q_hat)"
   ]
  },
  {
   "cell_type": "code",
   "execution_count": 54,
   "id": "d90c9a65-e6db-4f5d-80cd-e68fb7e46829",
   "metadata": {
    "execution": {
     "iopub.execute_input": "2025-07-30T21:00:06.689933Z",
     "iopub.status.busy": "2025-07-30T21:00:06.689419Z",
     "iopub.status.idle": "2025-07-30T21:00:06.695237Z",
     "shell.execute_reply": "2025-07-30T21:00:06.694278Z"
    },
    "papermill": {
     "duration": 0.034314,
     "end_time": "2025-07-30T21:00:06.697158",
     "exception": false,
     "start_time": "2025-07-30T21:00:06.662844",
     "status": "completed"
    },
    "tags": []
   },
   "outputs": [],
   "source": [
    "y_true = y_true.squeeze()"
   ]
  },
  {
   "cell_type": "code",
   "execution_count": 55,
   "id": "3a58a54a-1e68-46b9-927a-df01f18aebc8",
   "metadata": {
    "execution": {
     "iopub.execute_input": "2025-07-30T21:00:06.745815Z",
     "iopub.status.busy": "2025-07-30T21:00:06.745227Z",
     "iopub.status.idle": "2025-07-30T21:00:07.746839Z",
     "shell.execute_reply": "2025-07-30T21:00:07.745843Z"
    },
    "papermill": {
     "duration": 1.024529,
     "end_time": "2025-07-30T21:00:07.748816",
     "exception": false,
     "start_time": "2025-07-30T21:00:06.724287",
     "status": "completed"
    },
    "tags": []
   },
   "outputs": [],
   "source": [
    "from fairness_multiverse.conformal import evaluate_sets\n",
    "\n",
    "# Evaluate coverage and average set size on test data\n",
    "metrics = evaluate_sets(pred_sets, y_true)"
   ]
  },
  {
   "cell_type": "markdown",
   "id": "2b569c12-9aaa-4c88-98c9-bbcd0cf3ebb8",
   "metadata": {
    "papermill": {
     "duration": 0.027986,
     "end_time": "2025-07-30T21:00:07.806146",
     "exception": false,
     "start_time": "2025-07-30T21:00:07.778160",
     "status": "completed"
    },
    "tags": []
   },
   "source": [
    "# CP Metrics"
   ]
  },
  {
   "cell_type": "code",
   "execution_count": 56,
   "id": "5ce0a5cb-201f-45a0-ade5-94c7f0bd6095",
   "metadata": {
    "execution": {
     "iopub.execute_input": "2025-07-30T21:00:07.859766Z",
     "iopub.status.busy": "2025-07-30T21:00:07.859257Z",
     "iopub.status.idle": "2025-07-30T21:00:07.867869Z",
     "shell.execute_reply": "2025-07-30T21:00:07.866412Z"
    },
    "papermill": {
     "duration": 0.039802,
     "end_time": "2025-07-30T21:00:07.871790",
     "exception": false,
     "start_time": "2025-07-30T21:00:07.831988",
     "status": "completed"
    },
    "tags": []
   },
   "outputs": [
    {
     "data": {
      "text/plain": [
       "{'coverage': 0.9125515550105897, 'avg_size': 1.1426039460483781}"
      ]
     },
     "execution_count": 56,
     "metadata": {},
     "output_type": "execute_result"
    }
   ],
   "source": [
    "metrics"
   ]
  },
  {
   "cell_type": "code",
   "execution_count": 57,
   "id": "9b9a838d-31c9-430b-ae14-12baee460d17",
   "metadata": {
    "execution": {
     "iopub.execute_input": "2025-07-30T21:00:07.959632Z",
     "iopub.status.busy": "2025-07-30T21:00:07.959097Z",
     "iopub.status.idle": "2025-07-30T21:00:07.967735Z",
     "shell.execute_reply": "2025-07-30T21:00:07.966404Z"
    },
    "papermill": {
     "duration": 0.047804,
     "end_time": "2025-07-30T21:00:07.970850",
     "exception": false,
     "start_time": "2025-07-30T21:00:07.923046",
     "status": "completed"
    },
    "tags": []
   },
   "outputs": [],
   "source": [
    "example_universe = universe.copy()\n",
    "universe_training_year = example_universe.get(\"training_year\")\n",
    "universe_training_size = example_universe.get(\"training_size\")\n",
    "universe_scale = example_universe.get(\"scale\")\n",
    "universe_model = example_universe.get(\"model\")\n",
    "universe_exclude_features = example_universe.get(\"exclude_features\")\n",
    "universe_exclude_subgroups = example_universe.get(\"exclude_subgroups\")"
   ]
  },
  {
   "cell_type": "code",
   "execution_count": 58,
   "id": "f4b6a8ac-9dc0-4245-8a91-5b3b5999c4f9",
   "metadata": {
    "execution": {
     "iopub.execute_input": "2025-07-30T21:00:08.049577Z",
     "iopub.status.busy": "2025-07-30T21:00:08.049148Z",
     "iopub.status.idle": "2025-07-30T21:00:08.056143Z",
     "shell.execute_reply": "2025-07-30T21:00:08.055078Z"
    },
    "papermill": {
     "duration": 0.041893,
     "end_time": "2025-07-30T21:00:08.057772",
     "exception": false,
     "start_time": "2025-07-30T21:00:08.015879",
     "status": "completed"
    },
    "tags": []
   },
   "outputs": [],
   "source": [
    "cp_metrics_dict = {\n",
    "    \"universe_id\": [universe_id],\n",
    "    \"universe_training_year\": [universe_training_year],\n",
    "    \"universe_training_size\": [universe_training_size],\n",
    "    \"universe_scale\": [universe_scale],\n",
    "    \"universe_model\": [universe_model],\n",
    "    \"universe_exclude_features\": [universe_exclude_features],\n",
    "    \"universe_exclude_subgroups\": [universe_exclude_subgroups],\n",
    "    \"q_hat\": [q_hat],\n",
    "    \"coverage\": [metrics[\"coverage\"]],\n",
    "    \"avg_size\": [metrics[\"avg_size\"]],\n",
    "}"
   ]
  },
  {
   "cell_type": "code",
   "execution_count": 59,
   "id": "908acbb1-0371-4915-85ca-3fa520d2efe2",
   "metadata": {
    "execution": {
     "iopub.execute_input": "2025-07-30T21:00:08.113558Z",
     "iopub.status.busy": "2025-07-30T21:00:08.113087Z",
     "iopub.status.idle": "2025-07-30T21:00:08.120858Z",
     "shell.execute_reply": "2025-07-30T21:00:08.119933Z"
    },
    "papermill": {
     "duration": 0.045616,
     "end_time": "2025-07-30T21:00:08.131292",
     "exception": false,
     "start_time": "2025-07-30T21:00:08.085676",
     "status": "completed"
    },
    "tags": []
   },
   "outputs": [
    {
     "data": {
      "text/plain": [
       "{'universe_id': ['fdec3234b07ef23da05020480aa9b2f2'],\n",
       " 'universe_training_year': ['2012_14'],\n",
       " 'universe_training_size': ['5k'],\n",
       " 'universe_scale': ['scale'],\n",
       " 'universe_model': ['rf'],\n",
       " 'universe_exclude_features': ['sex'],\n",
       " 'universe_exclude_subgroups': ['drop-non-german'],\n",
       " 'q_hat': [0.6699999999999999],\n",
       " 'coverage': [0.9125515550105897],\n",
       " 'avg_size': [1.1426039460483781]}"
      ]
     },
     "execution_count": 59,
     "metadata": {},
     "output_type": "execute_result"
    }
   ],
   "source": [
    "cp_metrics_dict"
   ]
  },
  {
   "cell_type": "code",
   "execution_count": 60,
   "id": "33007efc-14e9-4ec6-97ac-56a455c82265",
   "metadata": {
    "execution": {
     "iopub.execute_input": "2025-07-30T21:00:08.194995Z",
     "iopub.status.busy": "2025-07-30T21:00:08.194611Z",
     "iopub.status.idle": "2025-07-30T21:00:08.200842Z",
     "shell.execute_reply": "2025-07-30T21:00:08.199944Z"
    },
    "papermill": {
     "duration": 0.035199,
     "end_time": "2025-07-30T21:00:08.203218",
     "exception": false,
     "start_time": "2025-07-30T21:00:08.168019",
     "status": "completed"
    },
    "tags": []
   },
   "outputs": [],
   "source": [
    "cp_metrics_df = pd.DataFrame(cp_metrics_dict)"
   ]
  },
  {
   "cell_type": "code",
   "execution_count": 61,
   "id": "db12611b-57b2-4910-b9d0-355adfd6e7bf",
   "metadata": {
    "execution": {
     "iopub.execute_input": "2025-07-30T21:00:08.260612Z",
     "iopub.status.busy": "2025-07-30T21:00:08.260209Z",
     "iopub.status.idle": "2025-07-30T21:00:08.282479Z",
     "shell.execute_reply": "2025-07-30T21:00:08.280430Z"
    },
    "papermill": {
     "duration": 0.071716,
     "end_time": "2025-07-30T21:00:08.305264",
     "exception": false,
     "start_time": "2025-07-30T21:00:08.233548",
     "status": "completed"
    },
    "tags": []
   },
   "outputs": [
    {
     "data": {
      "text/html": [
       "<div>\n",
       "<style scoped>\n",
       "    .dataframe tbody tr th:only-of-type {\n",
       "        vertical-align: middle;\n",
       "    }\n",
       "\n",
       "    .dataframe tbody tr th {\n",
       "        vertical-align: top;\n",
       "    }\n",
       "\n",
       "    .dataframe thead th {\n",
       "        text-align: right;\n",
       "    }\n",
       "</style>\n",
       "<table border=\"1\" class=\"dataframe\">\n",
       "  <thead>\n",
       "    <tr style=\"text-align: right;\">\n",
       "      <th></th>\n",
       "      <th>universe_id</th>\n",
       "      <th>universe_training_year</th>\n",
       "      <th>universe_training_size</th>\n",
       "      <th>universe_scale</th>\n",
       "      <th>universe_model</th>\n",
       "      <th>universe_exclude_features</th>\n",
       "      <th>universe_exclude_subgroups</th>\n",
       "      <th>q_hat</th>\n",
       "      <th>coverage</th>\n",
       "      <th>avg_size</th>\n",
       "    </tr>\n",
       "  </thead>\n",
       "  <tbody>\n",
       "    <tr>\n",
       "      <th>0</th>\n",
       "      <td>fdec3234b07ef23da05020480aa9b2f2</td>\n",
       "      <td>2012_14</td>\n",
       "      <td>5k</td>\n",
       "      <td>scale</td>\n",
       "      <td>rf</td>\n",
       "      <td>sex</td>\n",
       "      <td>drop-non-german</td>\n",
       "      <td>0.67</td>\n",
       "      <td>0.912552</td>\n",
       "      <td>1.142604</td>\n",
       "    </tr>\n",
       "  </tbody>\n",
       "</table>\n",
       "</div>"
      ],
      "text/plain": [
       "                        universe_id universe_training_year  \\\n",
       "0  fdec3234b07ef23da05020480aa9b2f2                2012_14   \n",
       "\n",
       "  universe_training_size universe_scale universe_model  \\\n",
       "0                     5k          scale             rf   \n",
       "\n",
       "  universe_exclude_features universe_exclude_subgroups  q_hat  coverage  \\\n",
       "0                       sex            drop-non-german   0.67  0.912552   \n",
       "\n",
       "   avg_size  \n",
       "0  1.142604  "
      ]
     },
     "execution_count": 61,
     "metadata": {},
     "output_type": "execute_result"
    }
   ],
   "source": [
    "cp_metrics_df"
   ]
  },
  {
   "cell_type": "code",
   "execution_count": 62,
   "id": "b7fbde55-a0a1-47e4-9af6-fe4a17fa8c61",
   "metadata": {
    "execution": {
     "iopub.execute_input": "2025-07-30T21:00:08.430963Z",
     "iopub.status.busy": "2025-07-30T21:00:08.430559Z",
     "iopub.status.idle": "2025-07-30T21:00:08.437413Z",
     "shell.execute_reply": "2025-07-30T21:00:08.436450Z"
    },
    "papermill": {
     "duration": 0.067373,
     "end_time": "2025-07-30T21:00:08.439730",
     "exception": false,
     "start_time": "2025-07-30T21:00:08.372357",
     "status": "completed"
    },
    "tags": []
   },
   "outputs": [],
   "source": [
    "# Conditional Coverage & looking at subgroups"
   ]
  },
  {
   "cell_type": "code",
   "execution_count": 63,
   "id": "027ae886-68dd-4141-96c7-805a5450e1ef",
   "metadata": {
    "execution": {
     "iopub.execute_input": "2025-07-30T21:00:08.501430Z",
     "iopub.status.busy": "2025-07-30T21:00:08.501043Z",
     "iopub.status.idle": "2025-07-30T21:00:08.984148Z",
     "shell.execute_reply": "2025-07-30T21:00:08.971502Z"
    },
    "papermill": {
     "duration": 0.511627,
     "end_time": "2025-07-30T21:00:08.986239",
     "exception": false,
     "start_time": "2025-07-30T21:00:08.474612",
     "status": "completed"
    },
    "tags": []
   },
   "outputs": [],
   "source": [
    "from fairness_multiverse.conformal import build_cp_groups\n",
    "\n",
    "cp_groups_df = build_cp_groups(pred_sets, y_true, X_test.index, org_test)\n",
    "#needs universe_id and setting"
   ]
  },
  {
   "cell_type": "code",
   "execution_count": 64,
   "id": "01d5802c-663a-4d1f-9d69-e036faaffbf7",
   "metadata": {
    "execution": {
     "iopub.execute_input": "2025-07-30T21:00:09.070939Z",
     "iopub.status.busy": "2025-07-30T21:00:09.070513Z",
     "iopub.status.idle": "2025-07-30T21:00:09.076190Z",
     "shell.execute_reply": "2025-07-30T21:00:09.075070Z"
    },
    "papermill": {
     "duration": 0.040139,
     "end_time": "2025-07-30T21:00:09.078224",
     "exception": false,
     "start_time": "2025-07-30T21:00:09.038085",
     "status": "completed"
    },
    "tags": []
   },
   "outputs": [],
   "source": [
    "#delete\n",
    "#cp_groups_df"
   ]
  },
  {
   "cell_type": "code",
   "execution_count": 65,
   "id": "fa424af1-d1eb-443d-b717-2d279ada8408",
   "metadata": {
    "execution": {
     "iopub.execute_input": "2025-07-30T21:00:09.132491Z",
     "iopub.status.busy": "2025-07-30T21:00:09.132062Z",
     "iopub.status.idle": "2025-07-30T21:00:09.137471Z",
     "shell.execute_reply": "2025-07-30T21:00:09.136488Z"
    },
    "papermill": {
     "duration": 0.035539,
     "end_time": "2025-07-30T21:00:09.139347",
     "exception": false,
     "start_time": "2025-07-30T21:00:09.103808",
     "status": "completed"
    },
    "tags": []
   },
   "outputs": [],
   "source": [
    "#delete\n",
    "#percentage = (cp_groups_df['nongerman_female'] == 1).mean() * 100\n",
    "#print(percentage)\n"
   ]
  },
  {
   "cell_type": "code",
   "execution_count": 66,
   "id": "6cbdab96-b2b2-45af-ad54-d0516db2e28d",
   "metadata": {
    "execution": {
     "iopub.execute_input": "2025-07-30T21:00:09.194411Z",
     "iopub.status.busy": "2025-07-30T21:00:09.193922Z",
     "iopub.status.idle": "2025-07-30T21:00:11.240696Z",
     "shell.execute_reply": "2025-07-30T21:00:11.239509Z"
    },
    "papermill": {
     "duration": 2.07652,
     "end_time": "2025-07-30T21:00:11.243086",
     "exception": false,
     "start_time": "2025-07-30T21:00:09.166566",
     "status": "completed"
    },
    "tags": []
   },
   "outputs": [],
   "source": [
    "# Define covered = 1 if true_label is in the predicted set\n",
    "cp_groups_df['covered'] = cp_groups_df.apply(\n",
    "    lambda r: int(r['true_label'] in r['pred_set']),\n",
    "    axis=1\n",
    ")"
   ]
  },
  {
   "cell_type": "code",
   "execution_count": 67,
   "id": "338ff529-1a6b-4b87-a931-8e4788d52aad",
   "metadata": {
    "execution": {
     "iopub.execute_input": "2025-07-30T21:00:11.329736Z",
     "iopub.status.busy": "2025-07-30T21:00:11.329258Z",
     "iopub.status.idle": "2025-07-30T21:00:11.334735Z",
     "shell.execute_reply": "2025-07-30T21:00:11.333768Z"
    },
    "papermill": {
     "duration": 0.0352,
     "end_time": "2025-07-30T21:00:11.336502",
     "exception": false,
     "start_time": "2025-07-30T21:00:11.301302",
     "status": "completed"
    },
    "tags": []
   },
   "outputs": [],
   "source": [
    "#cp_groups_df"
   ]
  },
  {
   "cell_type": "code",
   "execution_count": 68,
   "id": "90032e27-66df-4540-9169-4e89cfbaa758",
   "metadata": {
    "execution": {
     "iopub.execute_input": "2025-07-30T21:00:11.398743Z",
     "iopub.status.busy": "2025-07-30T21:00:11.398051Z",
     "iopub.status.idle": "2025-07-30T21:00:11.408474Z",
     "shell.execute_reply": "2025-07-30T21:00:11.407468Z"
    },
    "papermill": {
     "duration": 0.040741,
     "end_time": "2025-07-30T21:00:11.410035",
     "exception": false,
     "start_time": "2025-07-30T21:00:11.369294",
     "status": "completed"
    },
    "tags": []
   },
   "outputs": [],
   "source": [
    "subgroups = ['frau1','nongerman','nongerman_male','nongerman_female']\n",
    "\n",
    "# Conditional coverage for subgroup==1\n",
    "cond_coverage = {\n",
    "    g: cp_groups_df.loc[cp_groups_df[g]==1, 'covered'].mean()\n",
    "    for g in subgroups\n",
    "}"
   ]
  },
  {
   "cell_type": "code",
   "execution_count": 69,
   "id": "1e348fb1-b9c3-45bc-ba23-f016827a7e0d",
   "metadata": {
    "execution": {
     "iopub.execute_input": "2025-07-30T21:00:11.465098Z",
     "iopub.status.busy": "2025-07-30T21:00:11.464275Z",
     "iopub.status.idle": "2025-07-30T21:00:11.472091Z",
     "shell.execute_reply": "2025-07-30T21:00:11.471127Z"
    },
    "papermill": {
     "duration": 0.037184,
     "end_time": "2025-07-30T21:00:11.473768",
     "exception": false,
     "start_time": "2025-07-30T21:00:11.436584",
     "status": "completed"
    },
    "tags": []
   },
   "outputs": [
    {
     "data": {
      "text/plain": [
       "{'frau1': 0.9078582019140046,\n",
       " 'nongerman': 0.906753494638747,\n",
       " 'nongerman_male': 0.9252454291632892,\n",
       " 'nongerman_female': 0.8761549925484352}"
      ]
     },
     "execution_count": 69,
     "metadata": {},
     "output_type": "execute_result"
    }
   ],
   "source": [
    "cond_coverage"
   ]
  },
  {
   "cell_type": "code",
   "execution_count": 70,
   "id": "f5093324-c3dd-4d63-bc4c-8d945e5c8bbb",
   "metadata": {
    "execution": {
     "iopub.execute_input": "2025-07-30T21:00:11.528388Z",
     "iopub.status.busy": "2025-07-30T21:00:11.527389Z",
     "iopub.status.idle": "2025-07-30T21:00:11.535298Z",
     "shell.execute_reply": "2025-07-30T21:00:11.534333Z"
    },
    "papermill": {
     "duration": 0.036966,
     "end_time": "2025-07-30T21:00:11.537033",
     "exception": false,
     "start_time": "2025-07-30T21:00:11.500067",
     "status": "completed"
    },
    "tags": []
   },
   "outputs": [],
   "source": [
    "for subgroup, cov in cond_coverage.items():\n",
    "    cp_metrics_df[f\"cov_{subgroup}\"] = cov"
   ]
  },
  {
   "cell_type": "code",
   "execution_count": 71,
   "id": "6e872e10-dbe5-49e8-b554-5030c98ff75d",
   "metadata": {
    "execution": {
     "iopub.execute_input": "2025-07-30T21:00:11.610502Z",
     "iopub.status.busy": "2025-07-30T21:00:11.609603Z",
     "iopub.status.idle": "2025-07-30T21:00:11.628572Z",
     "shell.execute_reply": "2025-07-30T21:00:11.627760Z"
    },
    "papermill": {
     "duration": 0.04946,
     "end_time": "2025-07-30T21:00:11.629667",
     "exception": false,
     "start_time": "2025-07-30T21:00:11.580207",
     "status": "completed"
    },
    "tags": []
   },
   "outputs": [
    {
     "data": {
      "text/html": [
       "<div>\n",
       "<style scoped>\n",
       "    .dataframe tbody tr th:only-of-type {\n",
       "        vertical-align: middle;\n",
       "    }\n",
       "\n",
       "    .dataframe tbody tr th {\n",
       "        vertical-align: top;\n",
       "    }\n",
       "\n",
       "    .dataframe thead th {\n",
       "        text-align: right;\n",
       "    }\n",
       "</style>\n",
       "<table border=\"1\" class=\"dataframe\">\n",
       "  <thead>\n",
       "    <tr style=\"text-align: right;\">\n",
       "      <th></th>\n",
       "      <th>universe_id</th>\n",
       "      <th>universe_training_year</th>\n",
       "      <th>universe_training_size</th>\n",
       "      <th>universe_scale</th>\n",
       "      <th>universe_model</th>\n",
       "      <th>universe_exclude_features</th>\n",
       "      <th>universe_exclude_subgroups</th>\n",
       "      <th>q_hat</th>\n",
       "      <th>coverage</th>\n",
       "      <th>avg_size</th>\n",
       "      <th>cov_frau1</th>\n",
       "      <th>cov_nongerman</th>\n",
       "      <th>cov_nongerman_male</th>\n",
       "      <th>cov_nongerman_female</th>\n",
       "    </tr>\n",
       "  </thead>\n",
       "  <tbody>\n",
       "    <tr>\n",
       "      <th>0</th>\n",
       "      <td>fdec3234b07ef23da05020480aa9b2f2</td>\n",
       "      <td>2012_14</td>\n",
       "      <td>5k</td>\n",
       "      <td>scale</td>\n",
       "      <td>rf</td>\n",
       "      <td>sex</td>\n",
       "      <td>drop-non-german</td>\n",
       "      <td>0.67</td>\n",
       "      <td>0.912552</td>\n",
       "      <td>1.142604</td>\n",
       "      <td>0.907858</td>\n",
       "      <td>0.906753</td>\n",
       "      <td>0.925245</td>\n",
       "      <td>0.876155</td>\n",
       "    </tr>\n",
       "  </tbody>\n",
       "</table>\n",
       "</div>"
      ],
      "text/plain": [
       "                        universe_id universe_training_year  \\\n",
       "0  fdec3234b07ef23da05020480aa9b2f2                2012_14   \n",
       "\n",
       "  universe_training_size universe_scale universe_model  \\\n",
       "0                     5k          scale             rf   \n",
       "\n",
       "  universe_exclude_features universe_exclude_subgroups  q_hat  coverage  \\\n",
       "0                       sex            drop-non-german   0.67  0.912552   \n",
       "\n",
       "   avg_size  cov_frau1  cov_nongerman  cov_nongerman_male  \\\n",
       "0  1.142604   0.907858       0.906753            0.925245   \n",
       "\n",
       "   cov_nongerman_female  \n",
       "0              0.876155  "
      ]
     },
     "execution_count": 71,
     "metadata": {},
     "output_type": "execute_result"
    }
   ],
   "source": [
    "cp_metrics_df"
   ]
  },
  {
   "cell_type": "markdown",
   "id": "33774451",
   "metadata": {
    "papermill": {
     "duration": 0.028776,
     "end_time": "2025-07-30T21:00:11.676488",
     "exception": false,
     "start_time": "2025-07-30T21:00:11.647712",
     "status": "completed"
    },
    "tags": []
   },
   "source": [
    "# (Fairness) Metrics"
   ]
  },
  {
   "cell_type": "code",
   "execution_count": 72,
   "id": "debc5d62",
   "metadata": {
    "execution": {
     "iopub.execute_input": "2025-07-30T21:00:11.718492Z",
     "iopub.status.busy": "2025-07-30T21:00:11.718053Z",
     "iopub.status.idle": "2025-07-30T21:00:11.737641Z",
     "shell.execute_reply": "2025-07-30T21:00:11.736583Z"
    },
    "papermill": {
     "duration": 0.039073,
     "end_time": "2025-07-30T21:00:11.739794",
     "exception": false,
     "start_time": "2025-07-30T21:00:11.700721",
     "status": "completed"
    },
    "tags": []
   },
   "outputs": [],
   "source": [
    "# do I need to include maxdeutsch1.missing?\n",
    "\n",
    "import numpy as np\n",
    "\n",
    "colname_to_bin = \"maxdeutsch1\"\n",
    "majority_value = org_train[colname_to_bin].mode()[0]\n",
    "\n",
    "org_test[\"majmin\"] = np.where(org_test[colname_to_bin] == majority_value, \"majority\", \"minority\")"
   ]
  },
  {
   "cell_type": "code",
   "execution_count": 73,
   "id": "06a50de5",
   "metadata": {
    "execution": {
     "iopub.execute_input": "2025-07-30T21:00:11.800199Z",
     "iopub.status.busy": "2025-07-30T21:00:11.799479Z",
     "iopub.status.idle": "2025-07-30T21:00:14.804934Z",
     "shell.execute_reply": "2025-07-30T21:00:14.803880Z"
    },
    "papermill": {
     "duration": 3.037466,
     "end_time": "2025-07-30T21:00:14.806570",
     "exception": false,
     "start_time": "2025-07-30T21:00:11.769104",
     "status": "completed"
    },
    "tags": []
   },
   "outputs": [],
   "source": [
    "example_universe = universe.copy()\n",
    "example_universe[\"cutoff\"] = example_universe[\"cutoff\"][0]\n",
    "example_universe[\"eval_fairness_grouping\"] = example_universe[\"eval_fairness_grouping\"][0]\n",
    "fairness_dict, metric_frame = universe_analysis.compute_metrics(\n",
    "    example_universe,\n",
    "    y_pred_prob=probs_test,\n",
    "    y_test=y_true,\n",
    "    org_test=org_test,\n",
    ")"
   ]
  },
  {
   "cell_type": "markdown",
   "id": "f95d4e02",
   "metadata": {
    "papermill": {
     "duration": 0.041478,
     "end_time": "2025-07-30T21:00:14.924784",
     "exception": false,
     "start_time": "2025-07-30T21:00:14.883306",
     "status": "completed"
    },
    "tags": []
   },
   "source": [
    "# Overall"
   ]
  },
  {
   "cell_type": "markdown",
   "id": "bdee4871",
   "metadata": {
    "papermill": {
     "duration": 0.0282,
     "end_time": "2025-07-30T21:00:14.979899",
     "exception": false,
     "start_time": "2025-07-30T21:00:14.951699",
     "status": "completed"
    },
    "tags": []
   },
   "source": [
    "Fairness\n",
    "Main fairness target: Equalized Odds. Seems to be a better fit than equal opportunity, since we're not only interested in Y = 1. Seems to be a better fit than demographic parity, since we also care about accuracy, not just equal distribution of preds.\n",
    "\n",
    "Pick column for computation of fairness metrics\n",
    "\n",
    "Performance\n",
    "Overall performance measures, most interesting in relation to the measures split by group below"
   ]
  },
  {
   "cell_type": "code",
   "execution_count": 74,
   "id": "c4e067c6",
   "metadata": {
    "execution": {
     "iopub.execute_input": "2025-07-30T21:00:15.038951Z",
     "iopub.status.busy": "2025-07-30T21:00:15.038590Z",
     "iopub.status.idle": "2025-07-30T21:00:15.051003Z",
     "shell.execute_reply": "2025-07-30T21:00:15.049969Z"
    },
    "papermill": {
     "duration": 0.044341,
     "end_time": "2025-07-30T21:00:15.053353",
     "exception": false,
     "start_time": "2025-07-30T21:00:15.009012",
     "status": "completed"
    },
    "tags": []
   },
   "outputs": [
    {
     "data": {
      "text/plain": [
       "accuracy                   0.204147\n",
       "balanced accuracy          0.536698\n",
       "f1                         0.240823\n",
       "precision                  0.137201\n",
       "false positive rate        0.910616\n",
       "false negative rate        0.015989\n",
       "selection rate             0.920031\n",
       "count                  89710.000000\n",
       "dtype: float64"
      ]
     },
     "execution_count": 74,
     "metadata": {},
     "output_type": "execute_result"
    }
   ],
   "source": [
    "metric_frame.overall"
   ]
  },
  {
   "cell_type": "markdown",
   "id": "e968fe9d",
   "metadata": {
    "papermill": {
     "duration": 0.029577,
     "end_time": "2025-07-30T21:00:15.110953",
     "exception": false,
     "start_time": "2025-07-30T21:00:15.081376",
     "status": "completed"
    },
    "tags": []
   },
   "source": [
    "By Group"
   ]
  },
  {
   "cell_type": "code",
   "execution_count": 75,
   "id": "ec325bce",
   "metadata": {
    "execution": {
     "iopub.execute_input": "2025-07-30T21:00:15.174468Z",
     "iopub.status.busy": "2025-07-30T21:00:15.173990Z",
     "iopub.status.idle": "2025-07-30T21:00:15.194417Z",
     "shell.execute_reply": "2025-07-30T21:00:15.193397Z"
    },
    "papermill": {
     "duration": 0.057443,
     "end_time": "2025-07-30T21:00:15.196310",
     "exception": false,
     "start_time": "2025-07-30T21:00:15.138867",
     "status": "completed"
    },
    "tags": []
   },
   "outputs": [
    {
     "data": {
      "text/html": [
       "<div>\n",
       "<style scoped>\n",
       "    .dataframe tbody tr th:only-of-type {\n",
       "        vertical-align: middle;\n",
       "    }\n",
       "\n",
       "    .dataframe tbody tr th {\n",
       "        vertical-align: top;\n",
       "    }\n",
       "\n",
       "    .dataframe thead th {\n",
       "        text-align: right;\n",
       "    }\n",
       "</style>\n",
       "<table border=\"1\" class=\"dataframe\">\n",
       "  <thead>\n",
       "    <tr style=\"text-align: right;\">\n",
       "      <th></th>\n",
       "      <th>accuracy</th>\n",
       "      <th>balanced accuracy</th>\n",
       "      <th>f1</th>\n",
       "      <th>precision</th>\n",
       "      <th>false positive rate</th>\n",
       "      <th>false negative rate</th>\n",
       "      <th>selection rate</th>\n",
       "      <th>count</th>\n",
       "    </tr>\n",
       "    <tr>\n",
       "      <th>majmin</th>\n",
       "      <th></th>\n",
       "      <th></th>\n",
       "      <th></th>\n",
       "      <th></th>\n",
       "      <th></th>\n",
       "      <th></th>\n",
       "      <th></th>\n",
       "      <th></th>\n",
       "    </tr>\n",
       "  </thead>\n",
       "  <tbody>\n",
       "    <tr>\n",
       "      <th>majority</th>\n",
       "      <td>0.206491</td>\n",
       "      <td>0.537411</td>\n",
       "      <td>0.247433</td>\n",
       "      <td>0.141442</td>\n",
       "      <td>0.912377</td>\n",
       "      <td>0.012801</td>\n",
       "      <td>0.922264</td>\n",
       "      <td>69170.0</td>\n",
       "    </tr>\n",
       "    <tr>\n",
       "      <th>minority</th>\n",
       "      <td>0.196251</td>\n",
       "      <td>0.533454</td>\n",
       "      <td>0.217991</td>\n",
       "      <td>0.122766</td>\n",
       "      <td>0.904799</td>\n",
       "      <td>0.028294</td>\n",
       "      <td>0.912512</td>\n",
       "      <td>20540.0</td>\n",
       "    </tr>\n",
       "  </tbody>\n",
       "</table>\n",
       "</div>"
      ],
      "text/plain": [
       "          accuracy  balanced accuracy        f1  precision  \\\n",
       "majmin                                                       \n",
       "majority  0.206491           0.537411  0.247433   0.141442   \n",
       "minority  0.196251           0.533454  0.217991   0.122766   \n",
       "\n",
       "          false positive rate  false negative rate  selection rate    count  \n",
       "majmin                                                                       \n",
       "majority             0.912377             0.012801        0.922264  69170.0  \n",
       "minority             0.904799             0.028294        0.912512  20540.0  "
      ]
     },
     "execution_count": 75,
     "metadata": {},
     "output_type": "execute_result"
    }
   ],
   "source": [
    "metric_frame.by_group"
   ]
  },
  {
   "cell_type": "code",
   "execution_count": 76,
   "id": "a9ddbe63",
   "metadata": {
    "execution": {
     "iopub.execute_input": "2025-07-30T21:00:15.255331Z",
     "iopub.status.busy": "2025-07-30T21:00:15.254828Z",
     "iopub.status.idle": "2025-07-30T21:00:17.917006Z",
     "shell.execute_reply": "2025-07-30T21:00:17.916273Z"
    },
    "papermill": {
     "duration": 2.695049,
     "end_time": "2025-07-30T21:00:17.918696",
     "exception": false,
     "start_time": "2025-07-30T21:00:15.223647",
     "status": "completed"
    },
    "tags": []
   },
   "outputs": [
    {
     "data": {
      "text/plain": [
       "array([[<Axes: title={'center': 'accuracy'}, xlabel='majmin'>,\n",
       "        <Axes: title={'center': 'balanced accuracy'}, xlabel='majmin'>,\n",
       "        <Axes: title={'center': 'f1'}, xlabel='majmin'>],\n",
       "       [<Axes: title={'center': 'precision'}, xlabel='majmin'>,\n",
       "        <Axes: title={'center': 'false positive rate'}, xlabel='majmin'>,\n",
       "        <Axes: title={'center': 'false negative rate'}, xlabel='majmin'>],\n",
       "       [<Axes: title={'center': 'selection rate'}, xlabel='majmin'>,\n",
       "        <Axes: title={'center': 'count'}, xlabel='majmin'>,\n",
       "        <Axes: xlabel='majmin'>]], dtype=object)"
      ]
     },
     "execution_count": 76,
     "metadata": {},
     "output_type": "execute_result"
    },
    {
     "data": {
      "image/png": "[encoded data removed]",
      "text/plain": [
       "<Figure size 1200x800 with 9 Axes>"
      ]
     },
     "metadata": {},
     "output_type": "display_data"
    }
   ],
   "source": [
    "# In a graphic\n",
    "metric_frame.by_group.plot.bar(\n",
    "    subplots=True,\n",
    "    layout=[3, 3],\n",
    "    legend=False,\n",
    "    figsize=[12, 8],\n",
    "    title=\"Show all metrics\",\n",
    ")"
   ]
  },
  {
   "cell_type": "markdown",
   "id": "f57a0bac",
   "metadata": {
    "papermill": {
     "duration": 0.031624,
     "end_time": "2025-07-30T21:00:17.989445",
     "exception": false,
     "start_time": "2025-07-30T21:00:17.957821",
     "status": "completed"
    },
    "tags": []
   },
   "source": [
    "# Final Output"
   ]
  },
  {
   "cell_type": "code",
   "execution_count": 77,
   "id": "96d280a3",
   "metadata": {
    "execution": {
     "iopub.execute_input": "2025-07-30T21:00:18.045902Z",
     "iopub.status.busy": "2025-07-30T21:00:18.045198Z",
     "iopub.status.idle": "2025-07-30T21:00:18.054324Z",
     "shell.execute_reply": "2025-07-30T21:00:18.053406Z"
    },
    "papermill": {
     "duration": 0.038921,
     "end_time": "2025-07-30T21:00:18.055932",
     "exception": false,
     "start_time": "2025-07-30T21:00:18.017011",
     "status": "completed"
    },
    "tags": []
   },
   "outputs": [
    {
     "data": {
      "text/plain": [
       "4"
      ]
     },
     "execution_count": 77,
     "metadata": {},
     "output_type": "execute_result"
    }
   ],
   "source": [
    "sub_universes = universe_analysis.generate_sub_universes()\n",
    "len(sub_universes)"
   ]
  },
  {
   "cell_type": "code",
   "execution_count": 78,
   "id": "92adf7ba",
   "metadata": {
    "execution": {
     "iopub.execute_input": "2025-07-30T21:00:18.114768Z",
     "iopub.status.busy": "2025-07-30T21:00:18.114096Z",
     "iopub.status.idle": "2025-07-30T21:00:18.120618Z",
     "shell.execute_reply": "2025-07-30T21:00:18.119426Z"
    },
    "papermill": {
     "duration": 0.037134,
     "end_time": "2025-07-30T21:00:18.122234",
     "exception": false,
     "start_time": "2025-07-30T21:00:18.085100",
     "status": "completed"
    },
    "tags": []
   },
   "outputs": [],
   "source": [
    "def filter_sub_universe_data(sub_universe, org_test):\n",
    "    # Keep all rows — no filtering\n",
    "    keep_rows_mask = np.ones(org_test.shape[0], dtype=bool)\n",
    "\n",
    "    print(f\"[INFO] Keeping all rows: {keep_rows_mask.sum()} rows retained.\")\n",
    "    return keep_rows_mask"
   ]
  },
  {
   "cell_type": "code",
   "execution_count": 79,
   "id": "4a759155",
   "metadata": {
    "execution": {
     "iopub.execute_input": "2025-07-30T21:00:18.179619Z",
     "iopub.status.busy": "2025-07-30T21:00:18.179220Z",
     "iopub.status.idle": "2025-07-30T21:00:28.579692Z",
     "shell.execute_reply": "2025-07-30T21:00:28.578553Z"
    },
    "papermill": {
     "duration": 10.431654,
     "end_time": "2025-07-30T21:00:28.581758",
     "exception": false,
     "start_time": "2025-07-30T21:00:18.150104",
     "status": "completed"
    },
    "tags": []
   },
   "outputs": [
    {
     "name": "stdout",
     "output_type": "stream",
     "text": [
      "Stopping execution_time clock.\n",
      "[INFO] Keeping all rows: 89710 rows retained.\n"
     ]
    },
    {
     "name": "stdout",
     "output_type": "stream",
     "text": [
      "[INFO] Keeping all rows: 89710 rows retained.\n"
     ]
    },
    {
     "name": "stdout",
     "output_type": "stream",
     "text": [
      "[INFO] Keeping all rows: 89710 rows retained.\n"
     ]
    },
    {
     "name": "stdout",
     "output_type": "stream",
     "text": [
      "[INFO] Keeping all rows: 89710 rows retained.\n"
     ]
    },
    {
     "data": {
      "text/html": [
       "<div>\n",
       "<style scoped>\n",
       "    .dataframe tbody tr th:only-of-type {\n",
       "        vertical-align: middle;\n",
       "    }\n",
       "\n",
       "    .dataframe tbody tr th {\n",
       "        vertical-align: top;\n",
       "    }\n",
       "\n",
       "    .dataframe thead th {\n",
       "        text-align: right;\n",
       "    }\n",
       "</style>\n",
       "<table border=\"1\" class=\"dataframe\">\n",
       "  <thead>\n",
       "    <tr style=\"text-align: right;\">\n",
       "      <th></th>\n",
       "      <th>run_no</th>\n",
       "      <th>universe_id</th>\n",
       "      <th>universe_settings</th>\n",
       "      <th>execution_time</th>\n",
       "      <th>test_size_n</th>\n",
       "      <th>test_size_frac</th>\n",
       "      <th>fair_main_equalized_odds_difference</th>\n",
       "      <th>fair_main_equalized_odds_ratio</th>\n",
       "      <th>fair_main_demographic_parity_difference</th>\n",
       "      <th>fair_main_demographic_parity_ratio</th>\n",
       "      <th>...</th>\n",
       "      <th>perf_grp_precision_0</th>\n",
       "      <th>perf_grp_precision_1</th>\n",
       "      <th>perf_grp_false positive rate_0</th>\n",
       "      <th>perf_grp_false positive rate_1</th>\n",
       "      <th>perf_grp_false negative rate_0</th>\n",
       "      <th>perf_grp_false negative rate_1</th>\n",
       "      <th>perf_grp_selection rate_0</th>\n",
       "      <th>perf_grp_selection rate_1</th>\n",
       "      <th>perf_grp_count_0</th>\n",
       "      <th>perf_grp_count_1</th>\n",
       "    </tr>\n",
       "  </thead>\n",
       "  <tbody>\n",
       "    <tr>\n",
       "      <th>0</th>\n",
       "      <td>14</td>\n",
       "      <td>fdec3234b07ef23da05020480aa9b2f2</td>\n",
       "      <td>{\"cutoff\": \"quantile_0.1\", \"eval_fairness_grou...</td>\n",
       "      <td>35.23101</td>\n",
       "      <td>89710</td>\n",
       "      <td>1.0</td>\n",
       "      <td>0.015493</td>\n",
       "      <td>0.984306</td>\n",
       "      <td>0.009752</td>\n",
       "      <td>0.989426</td>\n",
       "      <td>...</td>\n",
       "      <td>NaN</td>\n",
       "      <td>NaN</td>\n",
       "      <td>NaN</td>\n",
       "      <td>NaN</td>\n",
       "      <td>NaN</td>\n",
       "      <td>NaN</td>\n",
       "      <td>NaN</td>\n",
       "      <td>NaN</td>\n",
       "      <td>NaN</td>\n",
       "      <td>NaN</td>\n",
       "    </tr>\n",
       "    <tr>\n",
       "      <th>0</th>\n",
       "      <td>14</td>\n",
       "      <td>fdec3234b07ef23da05020480aa9b2f2</td>\n",
       "      <td>{\"cutoff\": \"quantile_0.1\", \"eval_fairness_grou...</td>\n",
       "      <td>35.23101</td>\n",
       "      <td>89710</td>\n",
       "      <td>1.0</td>\n",
       "      <td>0.015493</td>\n",
       "      <td>0.984306</td>\n",
       "      <td>0.009752</td>\n",
       "      <td>0.989426</td>\n",
       "      <td>...</td>\n",
       "      <td>0.122766</td>\n",
       "      <td>0.141442</td>\n",
       "      <td>0.904799</td>\n",
       "      <td>0.912377</td>\n",
       "      <td>0.028294</td>\n",
       "      <td>0.012801</td>\n",
       "      <td>0.912512</td>\n",
       "      <td>0.922264</td>\n",
       "      <td>20540.0</td>\n",
       "      <td>69170.0</td>\n",
       "    </tr>\n",
       "    <tr>\n",
       "      <th>0</th>\n",
       "      <td>14</td>\n",
       "      <td>fdec3234b07ef23da05020480aa9b2f2</td>\n",
       "      <td>{\"cutoff\": \"quantile_0.25\", \"eval_fairness_gro...</td>\n",
       "      <td>35.23101</td>\n",
       "      <td>89710</td>\n",
       "      <td>1.0</td>\n",
       "      <td>0.060944</td>\n",
       "      <td>0.935410</td>\n",
       "      <td>0.003984</td>\n",
       "      <td>0.994731</td>\n",
       "      <td>...</td>\n",
       "      <td>NaN</td>\n",
       "      <td>NaN</td>\n",
       "      <td>NaN</td>\n",
       "      <td>NaN</td>\n",
       "      <td>NaN</td>\n",
       "      <td>NaN</td>\n",
       "      <td>NaN</td>\n",
       "      <td>NaN</td>\n",
       "      <td>NaN</td>\n",
       "      <td>NaN</td>\n",
       "    </tr>\n",
       "    <tr>\n",
       "      <th>0</th>\n",
       "      <td>14</td>\n",
       "      <td>fdec3234b07ef23da05020480aa9b2f2</td>\n",
       "      <td>{\"cutoff\": \"quantile_0.25\", \"eval_fairness_gro...</td>\n",
       "      <td>35.23101</td>\n",
       "      <td>89710</td>\n",
       "      <td>1.0</td>\n",
       "      <td>0.060944</td>\n",
       "      <td>0.935410</td>\n",
       "      <td>0.003984</td>\n",
       "      <td>0.994731</td>\n",
       "      <td>...</td>\n",
       "      <td>0.135266</td>\n",
       "      <td>0.164870</td>\n",
       "      <td>0.735252</td>\n",
       "      <td>0.727703</td>\n",
       "      <td>0.117399</td>\n",
       "      <td>0.056455</td>\n",
       "      <td>0.752240</td>\n",
       "      <td>0.756224</td>\n",
       "      <td>20540.0</td>\n",
       "      <td>69170.0</td>\n",
       "    </tr>\n",
       "  </tbody>\n",
       "</table>\n",
       "<p>4 rows × 50 columns</p>\n",
       "</div>"
      ],
      "text/plain": [
       "  run_no                       universe_id  \\\n",
       "0     14  fdec3234b07ef23da05020480aa9b2f2   \n",
       "0     14  fdec3234b07ef23da05020480aa9b2f2   \n",
       "0     14  fdec3234b07ef23da05020480aa9b2f2   \n",
       "0     14  fdec3234b07ef23da05020480aa9b2f2   \n",
       "\n",
       "                                   universe_settings  execution_time  \\\n",
       "0  {\"cutoff\": \"quantile_0.1\", \"eval_fairness_grou...        35.23101   \n",
       "0  {\"cutoff\": \"quantile_0.1\", \"eval_fairness_grou...        35.23101   \n",
       "0  {\"cutoff\": \"quantile_0.25\", \"eval_fairness_gro...        35.23101   \n",
       "0  {\"cutoff\": \"quantile_0.25\", \"eval_fairness_gro...        35.23101   \n",
       "\n",
       "   test_size_n  test_size_frac  fair_main_equalized_odds_difference  \\\n",
       "0        89710             1.0                             0.015493   \n",
       "0        89710             1.0                             0.015493   \n",
       "0        89710             1.0                             0.060944   \n",
       "0        89710             1.0                             0.060944   \n",
       "\n",
       "   fair_main_equalized_odds_ratio  fair_main_demographic_parity_difference  \\\n",
       "0                        0.984306                                 0.009752   \n",
       "0                        0.984306                                 0.009752   \n",
       "0                        0.935410                                 0.003984   \n",
       "0                        0.935410                                 0.003984   \n",
       "\n",
       "   fair_main_demographic_parity_ratio  ...  perf_grp_precision_0  \\\n",
       "0                            0.989426  ...                   NaN   \n",
       "0                            0.989426  ...              0.122766   \n",
       "0                            0.994731  ...                   NaN   \n",
       "0                            0.994731  ...              0.135266   \n",
       "\n",
       "   perf_grp_precision_1  perf_grp_false positive rate_0  \\\n",
       "0                   NaN                             NaN   \n",
       "0              0.141442                        0.904799   \n",
       "0                   NaN                             NaN   \n",
       "0              0.164870                        0.735252   \n",
       "\n",
       "   perf_grp_false positive rate_1  perf_grp_false negative rate_0  \\\n",
       "0                             NaN                             NaN   \n",
       "0                        0.912377                        0.028294   \n",
       "0                             NaN                             NaN   \n",
       "0                        0.727703                        0.117399   \n",
       "\n",
       "   perf_grp_false negative rate_1  perf_grp_selection rate_0  \\\n",
       "0                             NaN                        NaN   \n",
       "0                        0.012801                   0.912512   \n",
       "0                             NaN                        NaN   \n",
       "0                        0.056455                   0.752240   \n",
       "\n",
       "   perf_grp_selection rate_1  perf_grp_count_0  perf_grp_count_1  \n",
       "0                        NaN               NaN               NaN  \n",
       "0                   0.922264           20540.0           69170.0  \n",
       "0                        NaN               NaN               NaN  \n",
       "0                   0.756224           20540.0           69170.0  \n",
       "\n",
       "[4 rows x 50 columns]"
      ]
     },
     "execution_count": 79,
     "metadata": {},
     "output_type": "execute_result"
    }
   ],
   "source": [
    "final_output = universe_analysis.generate_final_output(\n",
    "    y_pred_prob=probs_test,\n",
    "    y_test=y_true,\n",
    "    org_test=org_test,\n",
    "    filter_data=filter_sub_universe_data,\n",
    "    cp_metrics_df=cp_metrics_df,\n",
    "    save=True,\n",
    ")\n",
    "final_output"
   ]
  },
  {
   "cell_type": "code",
   "execution_count": null,
   "id": "721ff514-cb11-46f8-b6fc-50392f74b5cb",
   "metadata": {
    "papermill": {
     "duration": 0.038426,
     "end_time": "2025-07-30T21:00:28.660461",
     "exception": false,
     "start_time": "2025-07-30T21:00:28.622035",
     "status": "completed"
    },
    "tags": []
   },
   "outputs": [],
   "source": []
  }
 ],
 "metadata": {
  "celltoolbar": "Tags",
  "kernelspec": {
   "display_name": "Python (CMA Fairness)",
   "language": "python",
   "name": "cma_fair_env"
  },
  "language_info": {
   "codemirror_mode": {
    "name": "ipython",
    "version": 3
   },
   "file_extension": ".py",
   "mimetype": "text/x-python",
   "name": "python",
   "nbconvert_exporter": "python",
   "pygments_lexer": "ipython3",
   "version": "3.10.12"
  },
  "papermill": {
   "default_parameters": {},
   "duration": 51.366499,
   "end_time": "2025-07-30T21:00:29.721101",
   "environment_variables": {},
   "exception": null,
   "input_path": "universe_analysis.ipynb",
   "output_path": "output/runs/14/notebooks/m_14-fdec3234b07ef23da05020480aa9b2f2.ipynb",
   "parameters": {
    "output_dir": "output",
    "run_no": "14",
    "seed": "2023",
    "universe": "{\"cutoff\": [\"quantile_0.1\", \"quantile_0.25\"], \"eval_fairness_grouping\": [\"majority-minority\", \"nationality-all\"], \"exclude_features\": \"sex\", \"exclude_subgroups\": \"drop-non-german\", \"model\": \"rf\", \"scale\": \"scale\", \"training_size\": \"5k\", \"training_year\": \"2012_14\"}",
    "universe_id": "fdec3234b07ef23da05020480aa9b2f2"
   },
   "start_time": "2025-07-30T20:59:38.354602",
   "version": "2.6.0"
  }
 },
 "nbformat": 4,
 "nbformat_minor": 5
}