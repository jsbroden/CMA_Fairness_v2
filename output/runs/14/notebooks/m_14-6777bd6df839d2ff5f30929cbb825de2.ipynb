{
 "cells": [
  {
   "cell_type": "code",
   "execution_count": 1,
   "id": "f159f837-637b-42ba-96b5-ec9a68c44524",
   "metadata": {
    "execution": {
     "iopub.execute_input": "2025-07-30T20:32:45.545823Z",
     "iopub.status.busy": "2025-07-30T20:32:45.545141Z",
     "iopub.status.idle": "2025-07-30T20:32:45.558929Z",
     "shell.execute_reply": "2025-07-30T20:32:45.557840Z"
    },
    "papermill": {
     "duration": 0.035462,
     "end_time": "2025-07-30T20:32:45.560516",
     "exception": false,
     "start_time": "2025-07-30T20:32:45.525054",
     "status": "completed"
    },
    "tags": []
   },
   "outputs": [
    {
     "name": "stdout",
     "output_type": "stream",
     "text": [
      "/dss/dsshome1/0C/ra93lal2/cma/CMA_Fairness_v2\n"
     ]
    },
    {
     "name": "stderr",
     "output_type": "stream",
     "text": [
      "/dss/dsshome1/0C/ra93lal2/.local/share/virtualenvs/CMA_Fairness_v2-3j10GkSs/lib/python3.10/site-packages/IPython/core/magics/osm.py:393: UserWarning: This is now an optional IPython functionality, using bookmarks requires you to install the `pickleshare` library.\n",
      "  bkms = self.shell.db.get('bookmarks', {})\n",
      "/dss/dsshome1/0C/ra93lal2/.local/share/virtualenvs/CMA_Fairness_v2-3j10GkSs/lib/python3.10/site-packages/IPython/core/magics/osm.py:417: UserWarning: This is now an optional IPython functionality, setting dhist requires you to install the `pickleshare` library.\n",
      "  self.shell.db['dhist'] = compress_dhist(dhist)[-100:]\n"
     ]
    }
   ],
   "source": [
    "%cd ~/cma/CMA_Fairness_v2"
   ]
  },
  {
   "cell_type": "markdown",
   "id": "de2603b9",
   "metadata": {
    "papermill": {
     "duration": 0.01811,
     "end_time": "2025-07-30T20:32:45.597360",
     "exception": false,
     "start_time": "2025-07-30T20:32:45.579250",
     "status": "completed"
    },
    "tags": []
   },
   "source": [
    "The following cell holds the definition of our parameters, these values can be overriden by rendering the with e.g. the following command:\n",
    "\n",
    "papermill -p alpha 0.2 -p ratio 0.3 universe_analysis.ipynb output/test_run.ipynb"
   ]
  },
  {
   "cell_type": "code",
   "execution_count": 2,
   "id": "a80968a0-40bb-4fa9-85ef-2d5eefb01975",
   "metadata": {
    "execution": {
     "iopub.execute_input": "2025-07-30T20:32:45.635574Z",
     "iopub.status.busy": "2025-07-30T20:32:45.635022Z",
     "iopub.status.idle": "2025-07-30T20:32:45.641006Z",
     "shell.execute_reply": "2025-07-30T20:32:45.640016Z"
    },
    "papermill": {
     "duration": 0.026566,
     "end_time": "2025-07-30T20:32:45.642370",
     "exception": false,
     "start_time": "2025-07-30T20:32:45.615804",
     "status": "completed"
    },
    "tags": []
   },
   "outputs": [
    {
     "name": "stdout",
     "output_type": "stream",
     "text": [
      "Current working directory: /dss/dsshome1/0C/ra93lal2/cma/CMA_Fairness_v2\n"
     ]
    }
   ],
   "source": [
    "import os\n",
    "print(\"Current working directory:\", os.getcwd())"
   ]
  },
  {
   "cell_type": "code",
   "execution_count": 3,
   "id": "2dce4c03",
   "metadata": {
    "execution": {
     "iopub.execute_input": "2025-07-30T20:32:45.680878Z",
     "iopub.status.busy": "2025-07-30T20:32:45.680222Z",
     "iopub.status.idle": "2025-07-30T20:32:45.686581Z",
     "shell.execute_reply": "2025-07-30T20:32:45.685728Z"
    },
    "papermill": {
     "duration": 0.027138,
     "end_time": "2025-07-30T20:32:45.688060",
     "exception": false,
     "start_time": "2025-07-30T20:32:45.660922",
     "status": "completed"
    },
    "tags": [
     "parameters"
    ]
   },
   "outputs": [],
   "source": [
    "run_no = 0\n",
    "universe_id = \"test\"\n",
    "universe = {\n",
    "    \"training_size\": \"25k\", # \"25k\", \"5k\", \"1k\"\n",
    "    \"training_year\": \"2014\", # \"2014\", \"2012_14\", \"2010_14\"\n",
    "    \"scale\": \"scale\", # \"scale\", \"do-not-scale\",\n",
    "    #\"stratify_split\": \"target\", # \"none\", \"target\", \"protected-attribute\", \"both\",\n",
    "    \"model\": \"elasticnet\", # \"logreg\", \"penalized_logreg\", \"rf\", \"gbm\", \"elasticnet\"\n",
    "    \"cutoff\": [\"quantile_0.15\", \"quantile_0.30\"],\n",
    "    \"exclude_features\": \"age\", # \"none\", \"nationality\", \"sex\", \"nationality-sex\", \"age\"\n",
    "    \"exclude_subgroups\": \"keep-all\", # \"keep-all\", \"drop-non-german\"\n",
    "    \"eval_fairness_grouping\": [\"majority-minority\", \"nationality-all\"]\n",
    "}\n",
    "\n",
    "output_dir=\"./output\"\n",
    "seed=0"
   ]
  },
  {
   "cell_type": "code",
   "execution_count": 4,
   "id": "5caec3de",
   "metadata": {
    "execution": {
     "iopub.execute_input": "2025-07-30T20:32:45.727319Z",
     "iopub.status.busy": "2025-07-30T20:32:45.726692Z",
     "iopub.status.idle": "2025-07-30T20:32:45.731830Z",
     "shell.execute_reply": "2025-07-30T20:32:45.730836Z"
    },
    "papermill": {
     "duration": 0.026664,
     "end_time": "2025-07-30T20:32:45.733408",
     "exception": false,
     "start_time": "2025-07-30T20:32:45.706744",
     "status": "completed"
    },
    "tags": [
     "injected-parameters"
    ]
   },
   "outputs": [],
   "source": [
    "# Parameters\n",
    "universe_id = \"6777bd6df839d2ff5f30929cbb825de2\"\n",
    "run_no = \"14\"\n",
    "universe = \"{\\\"cutoff\\\": [\\\"quantile_0.1\\\", \\\"quantile_0.25\\\"], \\\"eval_fairness_grouping\\\": [\\\"majority-minority\\\", \\\"nationality-all\\\"], \\\"exclude_features\\\": \\\"nationality-sex\\\", \\\"exclude_subgroups\\\": \\\"drop-non-german\\\", \\\"model\\\": \\\"elasticnet\\\", \\\"scale\\\": \\\"scale\\\", \\\"training_size\\\": \\\"25k\\\", \\\"training_year\\\": \\\"2010_14\\\"}\"\n",
    "output_dir = \"output\"\n",
    "seed = \"2023\"\n"
   ]
  },
  {
   "cell_type": "code",
   "execution_count": 5,
   "id": "1650acaf",
   "metadata": {
    "execution": {
     "iopub.execute_input": "2025-07-30T20:32:45.772796Z",
     "iopub.status.busy": "2025-07-30T20:32:45.772362Z",
     "iopub.status.idle": "2025-07-30T20:32:45.777163Z",
     "shell.execute_reply": "2025-07-30T20:32:45.776272Z"
    },
    "papermill": {
     "duration": 0.034753,
     "end_time": "2025-07-30T20:32:45.786952",
     "exception": false,
     "start_time": "2025-07-30T20:32:45.752199",
     "status": "completed"
    },
    "tags": []
   },
   "outputs": [],
   "source": [
    "import json\n",
    "# Parse universe into dict if it is passed as a string\n",
    "if isinstance(universe, str):\n",
    "    universe = json.loads(universe)"
   ]
  },
  {
   "cell_type": "code",
   "execution_count": 6,
   "id": "16620c48",
   "metadata": {
    "execution": {
     "iopub.execute_input": "2025-07-30T20:32:45.826286Z",
     "iopub.status.busy": "2025-07-30T20:32:45.825809Z",
     "iopub.status.idle": "2025-07-30T20:32:45.867214Z",
     "shell.execute_reply": "2025-07-30T20:32:45.866357Z"
    },
    "papermill": {
     "duration": 0.062454,
     "end_time": "2025-07-30T20:32:45.868818",
     "exception": false,
     "start_time": "2025-07-30T20:32:45.806364",
     "status": "completed"
    },
    "tags": []
   },
   "outputs": [],
   "source": [
    "# Auto-reload the custom package\n",
    "%load_ext autoreload\n",
    "%autoreload 1\n",
    "%aimport fairness_multiverse"
   ]
  },
  {
   "cell_type": "code",
   "execution_count": 7,
   "id": "01c5c9f3",
   "metadata": {
    "execution": {
     "iopub.execute_input": "2025-07-30T20:32:45.910443Z",
     "iopub.status.busy": "2025-07-30T20:32:45.909813Z",
     "iopub.status.idle": "2025-07-30T20:32:47.780554Z",
     "shell.execute_reply": "2025-07-30T20:32:47.779419Z"
    },
    "papermill": {
     "duration": 1.89294,
     "end_time": "2025-07-30T20:32:47.782553",
     "exception": false,
     "start_time": "2025-07-30T20:32:45.889613",
     "status": "completed"
    },
    "tags": []
   },
   "outputs": [],
   "source": [
    "from fairness_multiverse.universe import UniverseAnalysis\n",
    "\n",
    "universe_analysis = UniverseAnalysis(\n",
    "    run_no = run_no,\n",
    "    universe_id = universe_id,\n",
    "    universe = universe,\n",
    "    output_dir=output_dir,\n",
    ")"
   ]
  },
  {
   "cell_type": "code",
   "execution_count": 8,
   "id": "106241f5",
   "metadata": {
    "execution": {
     "iopub.execute_input": "2025-07-30T20:32:47.821312Z",
     "iopub.status.busy": "2025-07-30T20:32:47.820839Z",
     "iopub.status.idle": "2025-07-30T20:32:47.826921Z",
     "shell.execute_reply": "2025-07-30T20:32:47.825927Z"
    },
    "papermill": {
     "duration": 0.026834,
     "end_time": "2025-07-30T20:32:47.828380",
     "exception": false,
     "start_time": "2025-07-30T20:32:47.801546",
     "status": "completed"
    },
    "tags": []
   },
   "outputs": [
    {
     "name": "stdout",
     "output_type": "stream",
     "text": [
      "Using Seed: 2023\n"
     ]
    }
   ],
   "source": [
    "import numpy as np\n",
    "parsed_seed = int(seed)\n",
    "np.random.seed(parsed_seed)\n",
    "print(f\"Using Seed: {parsed_seed}\")"
   ]
  },
  {
   "cell_type": "markdown",
   "id": "e0ebdc57",
   "metadata": {
    "papermill": {
     "duration": 0.019168,
     "end_time": "2025-07-30T20:32:47.866346",
     "exception": false,
     "start_time": "2025-07-30T20:32:47.847178",
     "status": "completed"
    },
    "tags": []
   },
   "source": [
    "# Loading Data"
   ]
  },
  {
   "cell_type": "markdown",
   "id": "681925a3",
   "metadata": {
    "papermill": {
     "duration": 0.01898,
     "end_time": "2025-07-30T20:32:47.904430",
     "exception": false,
     "start_time": "2025-07-30T20:32:47.885450",
     "status": "completed"
    },
    "tags": []
   },
   "source": [
    "Load siab_train, siab_test, siab_calib and/or \n",
    "load siab_train_features, siab_train_labels"
   ]
  },
  {
   "cell_type": "code",
   "execution_count": 9,
   "id": "f0496b8a",
   "metadata": {
    "execution": {
     "iopub.execute_input": "2025-07-30T20:32:47.942798Z",
     "iopub.status.busy": "2025-07-30T20:32:47.942260Z",
     "iopub.status.idle": "2025-07-30T20:32:58.554700Z",
     "shell.execute_reply": "2025-07-30T20:32:58.553562Z"
    },
    "papermill": {
     "duration": 10.633691,
     "end_time": "2025-07-30T20:32:58.556659",
     "exception": false,
     "start_time": "2025-07-30T20:32:47.922968",
     "status": "completed"
    },
    "tags": []
   },
   "outputs": [
    {
     "name": "stdout",
     "output_type": "stream",
     "text": [
      "Loading SIAB data from cache: data/siab_cached.csv.gz\n"
     ]
    },
    {
     "name": "stdout",
     "output_type": "stream",
     "text": [
      "(643690, 164)\n"
     ]
    }
   ],
   "source": [
    "from pathlib import Path\n",
    "import pandas as pd\n",
    "\n",
    "# File paths\n",
    "raw_file = Path(\"data/raw/siab.csv\")\n",
    "cache_file = Path(\"data/siab_cached.csv.gz\")\n",
    "\n",
    "# Ensure cache directory exists\n",
    "cache_file.parent.mkdir(parents=True, exist_ok=True)\n",
    "\n",
    "# Load with simple caching\n",
    "if cache_file.exists():\n",
    "    print(f\"Loading SIAB data from cache: {cache_file}\")\n",
    "    siab = pd.read_csv(cache_file, compression='gzip')\n",
    "else:\n",
    "    print(f\"Cache not found. Reading raw SIAB data: {raw_file}\")\n",
    "    siab = pd.read_csv(raw_file)\n",
    "    siab.to_csv(cache_file, index=False, compression='gzip')\n",
    "    print(f\"Cached SIAB data to: {cache_file}\")\n",
    "\n",
    "# Now use `siab` DataFrame as needed\n",
    "print(siab.shape)"
   ]
  },
  {
   "cell_type": "code",
   "execution_count": 10,
   "id": "db0ca512-5f53-4dba-abdb-a2888bca41ba",
   "metadata": {
    "execution": {
     "iopub.execute_input": "2025-07-30T20:32:58.603769Z",
     "iopub.status.busy": "2025-07-30T20:32:58.603062Z",
     "iopub.status.idle": "2025-07-30T20:32:58.608809Z",
     "shell.execute_reply": "2025-07-30T20:32:58.607883Z"
    },
    "papermill": {
     "duration": 0.030379,
     "end_time": "2025-07-30T20:32:58.610316",
     "exception": false,
     "start_time": "2025-07-30T20:32:58.579937",
     "status": "completed"
    },
    "tags": []
   },
   "outputs": [],
   "source": [
    "#siab"
   ]
  },
  {
   "cell_type": "code",
   "execution_count": 11,
   "id": "a0edb063",
   "metadata": {
    "execution": {
     "iopub.execute_input": "2025-07-30T20:32:58.654250Z",
     "iopub.status.busy": "2025-07-30T20:32:58.653596Z",
     "iopub.status.idle": "2025-07-30T20:32:58.658496Z",
     "shell.execute_reply": "2025-07-30T20:32:58.657636Z"
    },
    "papermill": {
     "duration": 0.029023,
     "end_time": "2025-07-30T20:32:58.660186",
     "exception": false,
     "start_time": "2025-07-30T20:32:58.631163",
     "status": "completed"
    },
    "tags": []
   },
   "outputs": [],
   "source": [
    "#import pandas as pd\n",
    "#\n",
    "#X_train = pd.read_csv(\"./data/X_train.csv\")\n",
    "#y_train = pd.read_csv(\"./data/y_train.csv\")"
   ]
  },
  {
   "cell_type": "code",
   "execution_count": 12,
   "id": "63d08085",
   "metadata": {
    "execution": {
     "iopub.execute_input": "2025-07-30T20:32:58.700870Z",
     "iopub.status.busy": "2025-07-30T20:32:58.700162Z",
     "iopub.status.idle": "2025-07-30T20:32:58.705373Z",
     "shell.execute_reply": "2025-07-30T20:32:58.704349Z"
    },
    "papermill": {
     "duration": 0.027274,
     "end_time": "2025-07-30T20:32:58.706904",
     "exception": false,
     "start_time": "2025-07-30T20:32:58.679630",
     "status": "completed"
    },
    "tags": []
   },
   "outputs": [],
   "source": [
    "#X_test = pd.read_csv(\"./data/X_test.csv\")\n",
    "#y_true = pd.read_csv(\"./data/y_test.csv\")"
   ]
  },
  {
   "cell_type": "code",
   "execution_count": 13,
   "id": "98a8d0fa-1d3d-4ed8-bb2c-281470e24add",
   "metadata": {
    "execution": {
     "iopub.execute_input": "2025-07-30T20:32:58.748306Z",
     "iopub.status.busy": "2025-07-30T20:32:58.746769Z",
     "iopub.status.idle": "2025-07-30T20:32:58.752712Z",
     "shell.execute_reply": "2025-07-30T20:32:58.751752Z"
    },
    "papermill": {
     "duration": 0.028086,
     "end_time": "2025-07-30T20:32:58.754323",
     "exception": false,
     "start_time": "2025-07-30T20:32:58.726237",
     "status": "completed"
    },
    "tags": []
   },
   "outputs": [],
   "source": [
    "# Calibration data for conformal\n",
    "#X_calib = pd.read_csv(\"./data/X_calib.csv\")\n",
    "#y_calib = pd.read_csv(\"./data/y_calib.csv\")"
   ]
  },
  {
   "cell_type": "markdown",
   "id": "997051c5-15bd-4b69-9786-c3001a3ce484",
   "metadata": {
    "papermill": {
     "duration": 0.019654,
     "end_time": "2025-07-30T20:32:58.794864",
     "exception": false,
     "start_time": "2025-07-30T20:32:58.775210",
     "status": "completed"
    },
    "tags": []
   },
   "source": [
    "# Splitting Data and Setting Training Data Size"
   ]
  },
  {
   "cell_type": "code",
   "execution_count": 14,
   "id": "e993b61f-042d-41a6-8c81-f55681f86335",
   "metadata": {
    "execution": {
     "iopub.execute_input": "2025-07-30T20:32:58.834159Z",
     "iopub.status.busy": "2025-07-30T20:32:58.833676Z",
     "iopub.status.idle": "2025-07-30T20:32:58.846765Z",
     "shell.execute_reply": "2025-07-30T20:32:58.845681Z"
    },
    "papermill": {
     "duration": 0.034658,
     "end_time": "2025-07-30T20:32:58.848269",
     "exception": false,
     "start_time": "2025-07-30T20:32:58.813611",
     "status": "completed"
    },
    "tags": []
   },
   "outputs": [],
   "source": [
    "def sample_by_year_size(df,\n",
    "                        training_year: str,\n",
    "                        training_size: str,\n",
    "                        random_state: int = 42):\n",
    "    # --- parse training_year into a list of int years ---\n",
    "    if \"_\" in training_year:\n",
    "        start_str, end_str = training_year.split(\"_\", 1)\n",
    "        start = int(start_str)\n",
    "        end   = int(end_str) if len(end_str) == 4 else (int(end_str) + (start // 100)*100)\n",
    "        years = list(range(start, end + 1))\n",
    "    else:\n",
    "        years = [int(training_year)]\n",
    "\n",
    "    df = df[df[\"year\"].isin(years)].reset_index(drop=True)\n",
    "\n",
    "    # --- map training_size to total number of samples ---\n",
    "    total_map = {\"25k\": 25_000, \"5k\": 5_000, \"1k\": 1_000}\n",
    "    if training_size not in total_map:\n",
    "        return df  # e.g. \"all\"\n",
    "\n",
    "    total_samples = total_map[training_size]\n",
    "    n_years       = len(years)\n",
    "    base          = total_samples // n_years\n",
    "    remainder     = total_samples % n_years\n",
    "\n",
    "    # --- build a dict: year -> how many to sample ---\n",
    "    # give +1 to the first `remainder` years in ascending order\n",
    "    quotas = {\n",
    "        year: base + (1 if idx < remainder else 0)\n",
    "        for idx, year in enumerate(sorted(years))\n",
    "    }\n",
    "\n",
    "    # --- sample per‐year according to the quota dict ---\n",
    "    sampled = (\n",
    "        df\n",
    "        .groupby(\"year\", group_keys=False)\n",
    "        .apply(lambda grp: grp.sample(\n",
    "            n=min(len(grp), quotas[grp.name]),\n",
    "            random_state=random_state))\n",
    "        .reset_index(drop=True)\n",
    "    )\n",
    "\n",
    "    return sampled"
   ]
  },
  {
   "cell_type": "code",
   "execution_count": 15,
   "id": "c0ccd338-0e02-41f3-a09d-f56f9266e3fb",
   "metadata": {
    "execution": {
     "iopub.execute_input": "2025-07-30T20:32:58.892810Z",
     "iopub.status.busy": "2025-07-30T20:32:58.891979Z",
     "iopub.status.idle": "2025-07-30T20:32:58.896627Z",
     "shell.execute_reply": "2025-07-30T20:32:58.895750Z"
    },
    "papermill": {
     "duration": 0.036981,
     "end_time": "2025-07-30T20:32:58.906749",
     "exception": false,
     "start_time": "2025-07-30T20:32:58.869768",
     "status": "completed"
    },
    "tags": []
   },
   "outputs": [],
   "source": [
    "#universe[\"training_size\"]"
   ]
  },
  {
   "cell_type": "code",
   "execution_count": 16,
   "id": "ca707fd7-8047-4acd-bfa5-66248fbbf8e6",
   "metadata": {
    "execution": {
     "iopub.execute_input": "2025-07-30T20:32:58.950727Z",
     "iopub.status.busy": "2025-07-30T20:32:58.950126Z",
     "iopub.status.idle": "2025-07-30T20:32:58.954796Z",
     "shell.execute_reply": "2025-07-30T20:32:58.953926Z"
    },
    "papermill": {
     "duration": 0.028823,
     "end_time": "2025-07-30T20:32:58.956455",
     "exception": false,
     "start_time": "2025-07-30T20:32:58.927632",
     "status": "completed"
    },
    "tags": []
   },
   "outputs": [],
   "source": [
    "#universe[\"training_year\"]"
   ]
  },
  {
   "cell_type": "code",
   "execution_count": 17,
   "id": "aea9c6ef-6f46-42c8-85eb-5a62025c1508",
   "metadata": {
    "execution": {
     "iopub.execute_input": "2025-07-30T20:32:58.998270Z",
     "iopub.status.busy": "2025-07-30T20:32:58.997656Z",
     "iopub.status.idle": "2025-07-30T20:33:00.093011Z",
     "shell.execute_reply": "2025-07-30T20:33:00.092263Z"
    },
    "papermill": {
     "duration": 1.117462,
     "end_time": "2025-07-30T20:33:00.094416",
     "exception": false,
     "start_time": "2025-07-30T20:32:58.976954",
     "status": "completed"
    },
    "tags": []
   },
   "outputs": [],
   "source": [
    "siab_train = sample_by_year_size(siab,\n",
    "                               training_year=universe[\"training_year\"],\n",
    "                               training_size=universe[\"training_size\"])"
   ]
  },
  {
   "cell_type": "code",
   "execution_count": 18,
   "id": "8d3afb32-789d-442c-8d5d-9f5aa8dd2eed",
   "metadata": {
    "execution": {
     "iopub.execute_input": "2025-07-30T20:33:00.125004Z",
     "iopub.status.busy": "2025-07-30T20:33:00.124655Z",
     "iopub.status.idle": "2025-07-30T20:33:00.128703Z",
     "shell.execute_reply": "2025-07-30T20:33:00.127863Z"
    },
    "papermill": {
     "duration": 0.021559,
     "end_time": "2025-07-30T20:33:00.129881",
     "exception": false,
     "start_time": "2025-07-30T20:33:00.108322",
     "status": "completed"
    },
    "tags": []
   },
   "outputs": [],
   "source": [
    "#siab_train.shape"
   ]
  },
  {
   "cell_type": "code",
   "execution_count": 19,
   "id": "d582db68-1a4c-47fb-84fc-08518dc1975a",
   "metadata": {
    "execution": {
     "iopub.execute_input": "2025-07-30T20:33:00.153684Z",
     "iopub.status.busy": "2025-07-30T20:33:00.153378Z",
     "iopub.status.idle": "2025-07-30T20:33:00.157276Z",
     "shell.execute_reply": "2025-07-30T20:33:00.156487Z"
    },
    "papermill": {
     "duration": 0.017322,
     "end_time": "2025-07-30T20:33:00.158632",
     "exception": false,
     "start_time": "2025-07-30T20:33:00.141310",
     "status": "completed"
    },
    "tags": []
   },
   "outputs": [],
   "source": [
    "#display(siab_train.groupby(\"year\").size())"
   ]
  },
  {
   "cell_type": "code",
   "execution_count": 20,
   "id": "a561edb4-d032-42cb-8256-22eac1111c64",
   "metadata": {
    "execution": {
     "iopub.execute_input": "2025-07-30T20:33:00.188486Z",
     "iopub.status.busy": "2025-07-30T20:33:00.187789Z",
     "iopub.status.idle": "2025-07-30T20:33:00.422213Z",
     "shell.execute_reply": "2025-07-30T20:33:00.421467Z"
    },
    "papermill": {
     "duration": 0.248379,
     "end_time": "2025-07-30T20:33:00.423629",
     "exception": false,
     "start_time": "2025-07-30T20:33:00.175250",
     "status": "completed"
    },
    "tags": []
   },
   "outputs": [],
   "source": [
    "#siab_train = siab_s[siab_s.year < 2015]\n",
    "siab_calib = siab[siab.year == 2015]\n",
    "siab_test = siab[siab.year == 2016]"
   ]
  },
  {
   "cell_type": "code",
   "execution_count": 21,
   "id": "472de16f-c3db-4916-846b-1f0de9cf1746",
   "metadata": {
    "execution": {
     "iopub.execute_input": "2025-07-30T20:33:00.446950Z",
     "iopub.status.busy": "2025-07-30T20:33:00.446436Z",
     "iopub.status.idle": "2025-07-30T20:33:00.459039Z",
     "shell.execute_reply": "2025-07-30T20:33:00.458199Z"
    },
    "papermill": {
     "duration": 0.025925,
     "end_time": "2025-07-30T20:33:00.461166",
     "exception": false,
     "start_time": "2025-07-30T20:33:00.435241",
     "status": "completed"
    },
    "tags": []
   },
   "outputs": [],
   "source": [
    "X_train = siab_train.iloc[:,4:164]\n",
    "y_train = siab_train.iloc[:, [3]]"
   ]
  },
  {
   "cell_type": "code",
   "execution_count": 22,
   "id": "828c96af-f43a-4ed6-ba47-8ac73a47d56c",
   "metadata": {
    "execution": {
     "iopub.execute_input": "2025-07-30T20:33:00.505401Z",
     "iopub.status.busy": "2025-07-30T20:33:00.504497Z",
     "iopub.status.idle": "2025-07-30T20:33:00.554012Z",
     "shell.execute_reply": "2025-07-30T20:33:00.552973Z"
    },
    "papermill": {
     "duration": 0.073025,
     "end_time": "2025-07-30T20:33:00.555890",
     "exception": false,
     "start_time": "2025-07-30T20:33:00.482865",
     "status": "completed"
    },
    "tags": []
   },
   "outputs": [],
   "source": [
    "X_calib = siab_calib.iloc[:,4:164]\n",
    "y_calib = siab_calib.iloc[:, [3]]"
   ]
  },
  {
   "cell_type": "code",
   "execution_count": 23,
   "id": "c34be9c3-6bd6-476e-acd3-845840e303be",
   "metadata": {
    "execution": {
     "iopub.execute_input": "2025-07-30T20:33:00.585128Z",
     "iopub.status.busy": "2025-07-30T20:33:00.584735Z",
     "iopub.status.idle": "2025-07-30T20:33:00.633095Z",
     "shell.execute_reply": "2025-07-30T20:33:00.632265Z"
    },
    "papermill": {
     "duration": 0.062912,
     "end_time": "2025-07-30T20:33:00.634429",
     "exception": false,
     "start_time": "2025-07-30T20:33:00.571517",
     "status": "completed"
    },
    "tags": []
   },
   "outputs": [],
   "source": [
    "X_test = siab_test.iloc[:,4:164]\n",
    "y_true = siab_test.iloc[:, [3]]"
   ]
  },
  {
   "cell_type": "markdown",
   "id": "9901737e-04df-44f0-9100-f5ad144ed040",
   "metadata": {
    "papermill": {
     "duration": 0.011151,
     "end_time": "2025-07-30T20:33:00.657736",
     "exception": false,
     "start_time": "2025-07-30T20:33:00.646585",
     "status": "completed"
    },
    "tags": []
   },
   "source": [
    "# Splitting Data and Setting Training Data Size OLD VERSION"
   ]
  },
  {
   "cell_type": "code",
   "execution_count": 24,
   "id": "acbc8f7d-8fc8-4e86-8c59-5dcb0f58384b",
   "metadata": {
    "execution": {
     "iopub.execute_input": "2025-07-30T20:33:00.680721Z",
     "iopub.status.busy": "2025-07-30T20:33:00.680176Z",
     "iopub.status.idle": "2025-07-30T20:33:00.685065Z",
     "shell.execute_reply": "2025-07-30T20:33:00.684336Z"
    },
    "papermill": {
     "duration": 0.017704,
     "end_time": "2025-07-30T20:33:00.686257",
     "exception": false,
     "start_time": "2025-07-30T20:33:00.668553",
     "status": "completed"
    },
    "tags": []
   },
   "outputs": [],
   "source": [
    "#def sample_by_year(df, training_size, random_state=42):\n",
    "#    if training_size == \"2014\":\n",
    "#        return df[df[\"year\"] == 2014].reset_index(drop=True)\n",
    "#    \n",
    "#    size_map = {\n",
    "#        \"25k\": 5000,\n",
    "#        \"5k\": 1000,\n",
    "#        \"1k\": 200\n",
    "#    }\n",
    "#\n",
    "#    if training_size not in size_map:\n",
    "#        return df.reset_index(drop=True)  # use all data\n",
    "#\n",
    "#    n_per_year = size_map[training_size]\n",
    "#    grouped = df.groupby(\"year\")\n",
    "#    sampled = grouped.apply(lambda x: x.sample(n=min(n_per_year, len(x)), random_state=random_state))\n",
    "#    return sampled.reset_index(drop=True)"
   ]
  },
  {
   "cell_type": "code",
   "execution_count": 25,
   "id": "6d931f52-beaf-43ff-9e78-9d44a448d54e",
   "metadata": {
    "execution": {
     "iopub.execute_input": "2025-07-30T20:33:00.709003Z",
     "iopub.status.busy": "2025-07-30T20:33:00.708381Z",
     "iopub.status.idle": "2025-07-30T20:33:00.712650Z",
     "shell.execute_reply": "2025-07-30T20:33:00.711855Z"
    },
    "papermill": {
     "duration": 0.016817,
     "end_time": "2025-07-30T20:33:00.713900",
     "exception": false,
     "start_time": "2025-07-30T20:33:00.697083",
     "status": "completed"
    },
    "tags": []
   },
   "outputs": [],
   "source": [
    "#siab_s = sample_by_year(siab, universe[\"training_size\"])"
   ]
  },
  {
   "cell_type": "code",
   "execution_count": 26,
   "id": "5db0a40e-a4e2-4920-be85-b12ae061d70d",
   "metadata": {
    "execution": {
     "iopub.execute_input": "2025-07-30T20:33:00.737087Z",
     "iopub.status.busy": "2025-07-30T20:33:00.736442Z",
     "iopub.status.idle": "2025-07-30T20:33:00.740777Z",
     "shell.execute_reply": "2025-07-30T20:33:00.740012Z"
    },
    "papermill": {
     "duration": 0.016996,
     "end_time": "2025-07-30T20:33:00.742012",
     "exception": false,
     "start_time": "2025-07-30T20:33:00.725016",
     "status": "completed"
    },
    "tags": []
   },
   "outputs": [],
   "source": [
    "#display(siab_s.groupby(\"year\").size())"
   ]
  },
  {
   "cell_type": "code",
   "execution_count": 27,
   "id": "e6c733c5",
   "metadata": {
    "execution": {
     "iopub.execute_input": "2025-07-30T20:33:00.764870Z",
     "iopub.status.busy": "2025-07-30T20:33:00.764360Z",
     "iopub.status.idle": "2025-07-30T20:33:00.854574Z",
     "shell.execute_reply": "2025-07-30T20:33:00.853830Z"
    },
    "papermill": {
     "duration": 0.103016,
     "end_time": "2025-07-30T20:33:00.856021",
     "exception": false,
     "start_time": "2025-07-30T20:33:00.753005",
     "status": "completed"
    },
    "tags": []
   },
   "outputs": [],
   "source": [
    "# Auxiliary data needed downstream in the pipeline\n",
    "\n",
    "org_train = X_train.copy()\n",
    "org_test = X_test.copy()\n",
    "org_calib = X_calib.copy()"
   ]
  },
  {
   "cell_type": "code",
   "execution_count": 28,
   "id": "1466abac-c6da-4492-a62f-4240ae3783af",
   "metadata": {
    "execution": {
     "iopub.execute_input": "2025-07-30T20:33:00.880119Z",
     "iopub.status.busy": "2025-07-30T20:33:00.879352Z",
     "iopub.status.idle": "2025-07-30T20:33:00.884070Z",
     "shell.execute_reply": "2025-07-30T20:33:00.883305Z"
    },
    "papermill": {
     "duration": 0.017617,
     "end_time": "2025-07-30T20:33:00.885300",
     "exception": false,
     "start_time": "2025-07-30T20:33:00.867683",
     "status": "completed"
    },
    "tags": []
   },
   "outputs": [],
   "source": [
    "# put in other script?\n",
    "# Group sizes\n",
    "\n",
    "#def calculate_percentages(df, df_name):\n",
    "#    total_entries = len(df)\n",
    "#\n",
    "#    female_pct = (df['frau1'] == 1).mean() * 100\n",
    "#    non_german_pct = ((df['maxdeutsch1'] == 0) & (df['maxdeutsch.Missing.'] == 0)).mean() * 100\n",
    "#    non_german_male_pct = ((df['frau1'] == 0) & (df['maxdeutsch1'] == 0) & (df['maxdeutsch.Missing.'] == 0)).mean() * 100\n",
    "#    non_german_female_pct = ((df['frau1'] == 1) & (df['maxdeutsch1'] == 0) & (df['maxdeutsch.Missing.'] == 0)).mean() * 100\n",
    "#\n",
    "#    print(f\"--- {df_name} ---\")\n",
    "#    print(f\"Female: {female_pct:.2f}%\")\n",
    "#    print(f\"Non-German: {non_german_pct:.2f}%\")\n",
    "#    print(f\"Non-German Male: {non_german_male_pct:.2f}%\")\n",
    "#    print(f\"Non-German Female: {non_german_female_pct:.2f}%\\n\")\n",
    "#\n",
    "## Calculate for each DataFrame\n",
    "#calculate_percentages(siab_calib, \"siab_calib\")\n",
    "#calculate_percentages(siab_test, \"siab_test\")\n",
    "#calculate_percentages(siab_train, \"siab_train\")"
   ]
  },
  {
   "cell_type": "markdown",
   "id": "0a4a1b33",
   "metadata": {
    "papermill": {
     "duration": 0.01071,
     "end_time": "2025-07-30T20:33:00.906990",
     "exception": false,
     "start_time": "2025-07-30T20:33:00.896280",
     "status": "completed"
    },
    "tags": []
   },
   "source": [
    "# Preprocessing Data"
   ]
  },
  {
   "cell_type": "code",
   "execution_count": 29,
   "id": "ca879031",
   "metadata": {
    "execution": {
     "iopub.execute_input": "2025-07-30T20:33:00.929867Z",
     "iopub.status.busy": "2025-07-30T20:33:00.929375Z",
     "iopub.status.idle": "2025-07-30T20:33:00.934388Z",
     "shell.execute_reply": "2025-07-30T20:33:00.933648Z"
    },
    "papermill": {
     "duration": 0.01805,
     "end_time": "2025-07-30T20:33:00.935662",
     "exception": false,
     "start_time": "2025-07-30T20:33:00.917612",
     "status": "completed"
    },
    "tags": []
   },
   "outputs": [],
   "source": [
    "# EXCLUDE PROTECTED FEATURES\n",
    "# ----------------------\n",
    "# \"exclude_features\": \"none\", # \"nationality\", \"sex\", \"nationality-sex\"\n",
    "\n",
    "excluded_features = universe[\"exclude_features\"].split(\"-\") # split, e.g.: \"nationality-sex\" -> [\"nationality\", \"sex\"]\n",
    "excluded_features_dictionary = {\n",
    "    \"nationality\": [\"maxdeutsch1\", \"maxdeutsch.Missing.\"],\n",
    "    \"sex\": [\"frau1\"],\n",
    "    \"age\": [\"age\"],\n",
    "}\n"
   ]
  },
  {
   "cell_type": "code",
   "execution_count": 30,
   "id": "b745ac60",
   "metadata": {
    "execution": {
     "iopub.execute_input": "2025-07-30T20:33:00.958958Z",
     "iopub.status.busy": "2025-07-30T20:33:00.958359Z",
     "iopub.status.idle": "2025-07-30T20:33:00.963085Z",
     "shell.execute_reply": "2025-07-30T20:33:00.962345Z"
    },
    "papermill": {
     "duration": 0.017515,
     "end_time": "2025-07-30T20:33:00.964430",
     "exception": false,
     "start_time": "2025-07-30T20:33:00.946915",
     "status": "completed"
    },
    "tags": []
   },
   "outputs": [],
   "source": [
    "# Code nice names to column names\n",
    "\n",
    "excluded_features_columns = [\n",
    "    excluded_features_dictionary[f] for f in excluded_features if len(f) > 0 and f != \"none\"\n",
    "]"
   ]
  },
  {
   "cell_type": "code",
   "execution_count": 31,
   "id": "f84f73a2",
   "metadata": {
    "execution": {
     "iopub.execute_input": "2025-07-30T20:33:00.987877Z",
     "iopub.status.busy": "2025-07-30T20:33:00.987379Z",
     "iopub.status.idle": "2025-07-30T20:33:00.992607Z",
     "shell.execute_reply": "2025-07-30T20:33:00.991848Z"
    },
    "papermill": {
     "duration": 0.018308,
     "end_time": "2025-07-30T20:33:00.993820",
     "exception": false,
     "start_time": "2025-07-30T20:33:00.975512",
     "status": "completed"
    },
    "tags": []
   },
   "outputs": [],
   "source": [
    "from utils import flatten_once\n",
    "\n",
    "excluded_features_columns = flatten_once(excluded_features_columns)"
   ]
  },
  {
   "cell_type": "code",
   "execution_count": 32,
   "id": "884dea22",
   "metadata": {
    "execution": {
     "iopub.execute_input": "2025-07-30T20:33:01.017576Z",
     "iopub.status.busy": "2025-07-30T20:33:01.017214Z",
     "iopub.status.idle": "2025-07-30T20:33:01.030412Z",
     "shell.execute_reply": "2025-07-30T20:33:01.029715Z"
    },
    "papermill": {
     "duration": 0.026129,
     "end_time": "2025-07-30T20:33:01.031718",
     "exception": false,
     "start_time": "2025-07-30T20:33:01.005589",
     "status": "completed"
    },
    "tags": []
   },
   "outputs": [
    {
     "name": "stdout",
     "output_type": "stream",
     "text": [
      "Dropping features: ['maxdeutsch1', 'maxdeutsch.Missing.', 'frau1']\n"
     ]
    }
   ],
   "source": [
    "if len(excluded_features_columns) > 0:\n",
    "    print(f\"Dropping features: {excluded_features_columns}\")\n",
    "    X_train.drop(excluded_features_columns, axis=1, inplace=True)"
   ]
  },
  {
   "cell_type": "code",
   "execution_count": 33,
   "id": "95ab8b16",
   "metadata": {
    "execution": {
     "iopub.execute_input": "2025-07-30T20:33:01.055994Z",
     "iopub.status.busy": "2025-07-30T20:33:01.055544Z",
     "iopub.status.idle": "2025-07-30T20:33:01.102902Z",
     "shell.execute_reply": "2025-07-30T20:33:01.101965Z"
    },
    "papermill": {
     "duration": 0.060813,
     "end_time": "2025-07-30T20:33:01.104388",
     "exception": false,
     "start_time": "2025-07-30T20:33:01.043575",
     "status": "completed"
    },
    "tags": []
   },
   "outputs": [
    {
     "name": "stdout",
     "output_type": "stream",
     "text": [
      "Dropping features: ['maxdeutsch1', 'maxdeutsch.Missing.', 'frau1']\n"
     ]
    }
   ],
   "source": [
    "if len(excluded_features_columns) > 0:\n",
    "    print(f\"Dropping features: {excluded_features_columns}\")\n",
    "    X_test.drop(excluded_features_columns, axis=1, inplace=True)"
   ]
  },
  {
   "cell_type": "code",
   "execution_count": 34,
   "id": "1853aaf5-fb9f-46cb-a2b5-8ea4ae2237e4",
   "metadata": {
    "execution": {
     "iopub.execute_input": "2025-07-30T20:33:01.128358Z",
     "iopub.status.busy": "2025-07-30T20:33:01.127904Z",
     "iopub.status.idle": "2025-07-30T20:33:01.173672Z",
     "shell.execute_reply": "2025-07-30T20:33:01.172859Z"
    },
    "papermill": {
     "duration": 0.058688,
     "end_time": "2025-07-30T20:33:01.174913",
     "exception": false,
     "start_time": "2025-07-30T20:33:01.116225",
     "status": "completed"
    },
    "tags": []
   },
   "outputs": [
    {
     "name": "stdout",
     "output_type": "stream",
     "text": [
      "Dropping features: ['maxdeutsch1', 'maxdeutsch.Missing.', 'frau1']\n"
     ]
    }
   ],
   "source": [
    "if len(excluded_features_columns) > 0:\n",
    "    print(f\"Dropping features: {excluded_features_columns}\")\n",
    "    X_calib.drop(excluded_features_columns, axis=1, inplace=True)"
   ]
  },
  {
   "cell_type": "code",
   "execution_count": 35,
   "id": "6727d079-03e5-481e-9d38-292a90b7a0a8",
   "metadata": {
    "execution": {
     "iopub.execute_input": "2025-07-30T20:33:01.199453Z",
     "iopub.status.busy": "2025-07-30T20:33:01.198998Z",
     "iopub.status.idle": "2025-07-30T20:33:01.203351Z",
     "shell.execute_reply": "2025-07-30T20:33:01.202660Z"
    },
    "papermill": {
     "duration": 0.017757,
     "end_time": "2025-07-30T20:33:01.204801",
     "exception": false,
     "start_time": "2025-07-30T20:33:01.187044",
     "status": "completed"
    },
    "tags": []
   },
   "outputs": [],
   "source": [
    "# SPLIT & STRATIFY DATA\n",
    "# ----------------------"
   ]
  },
  {
   "cell_type": "code",
   "execution_count": 36,
   "id": "76c4dc6d",
   "metadata": {
    "execution": {
     "iopub.execute_input": "2025-07-30T20:33:01.229048Z",
     "iopub.status.busy": "2025-07-30T20:33:01.228687Z",
     "iopub.status.idle": "2025-07-30T20:33:01.233119Z",
     "shell.execute_reply": "2025-07-30T20:33:01.232448Z"
    },
    "papermill": {
     "duration": 0.018075,
     "end_time": "2025-07-30T20:33:01.234503",
     "exception": false,
     "start_time": "2025-07-30T20:33:01.216428",
     "status": "completed"
    },
    "tags": []
   },
   "outputs": [],
   "source": [
    "# EXCLUDE CERTAIN SUBGROUPS\n",
    "# ----------------------\n",
    "\n",
    "mode = universe.get(\"exclude_subgroups\", \"keep-all\") \n",
    "# Fetches the exclude_subgroups setting from the universe dict.\n",
    "# Defaults to \"keep-all\" if the key is missing."
   ]
  },
  {
   "cell_type": "code",
   "execution_count": 37,
   "id": "21994072",
   "metadata": {
    "execution": {
     "iopub.execute_input": "2025-07-30T20:33:01.265190Z",
     "iopub.status.busy": "2025-07-30T20:33:01.264423Z",
     "iopub.status.idle": "2025-07-30T20:33:01.270491Z",
     "shell.execute_reply": "2025-07-30T20:33:01.269752Z"
    },
    "papermill": {
     "duration": 0.023865,
     "end_time": "2025-07-30T20:33:01.271808",
     "exception": false,
     "start_time": "2025-07-30T20:33:01.247943",
     "status": "completed"
    },
    "tags": []
   },
   "outputs": [],
   "source": [
    "if mode == \"keep-all\":\n",
    "    keep_mask = pd.Series(True, index=org_train.index)\n",
    "\n",
    "# org_train contains the original feature columns from features_org (in Simson)\n",
    "# features_org contains unprocessed features, for me X_train at beginning ???\n",
    "# For keep-all, creates a boolean Series (keep_mask) of all True, so no rows are removed.\n",
    "\n",
    "elif mode == \"drop-non-german\":\n",
    "    keep_mask = org_train[\"maxdeutsch1\"] == 1 # ??? what about missing values?\n",
    "\n",
    "else:\n",
    "    raise ValueError(f\"Unsupported mode for exclude_subgroups: {mode}\")\n"
   ]
  },
  {
   "cell_type": "code",
   "execution_count": 38,
   "id": "71651440",
   "metadata": {
    "execution": {
     "iopub.execute_input": "2025-07-30T20:33:01.297435Z",
     "iopub.status.busy": "2025-07-30T20:33:01.296998Z",
     "iopub.status.idle": "2025-07-30T20:33:01.303356Z",
     "shell.execute_reply": "2025-07-30T20:33:01.302666Z"
    },
    "papermill": {
     "duration": 0.02077,
     "end_time": "2025-07-30T20:33:01.304720",
     "exception": false,
     "start_time": "2025-07-30T20:33:01.283950",
     "status": "completed"
    },
    "tags": []
   },
   "outputs": [
    {
     "name": "stdout",
     "output_type": "stream",
     "text": [
      "Dropping 3312 rows (13.25%) where mode='drop-non-german'\n"
     ]
    }
   ],
   "source": [
    "n_drop = (~keep_mask).sum() # Calculates how many rows are set to be dropped\n",
    "if n_drop > 0:\n",
    "    pct = n_drop / len(keep_mask) * 100\n",
    "    print(f\"Dropping {n_drop} rows ({pct:.2f}%) where mode='{mode}'\")"
   ]
  },
  {
   "cell_type": "code",
   "execution_count": 39,
   "id": "5fb8eee5",
   "metadata": {
    "execution": {
     "iopub.execute_input": "2025-07-30T20:33:01.329653Z",
     "iopub.status.busy": "2025-07-30T20:33:01.329126Z",
     "iopub.status.idle": "2025-07-30T20:33:01.341964Z",
     "shell.execute_reply": "2025-07-30T20:33:01.341151Z"
    },
    "papermill": {
     "duration": 0.027017,
     "end_time": "2025-07-30T20:33:01.343463",
     "exception": false,
     "start_time": "2025-07-30T20:33:01.316446",
     "status": "completed"
    },
    "tags": []
   },
   "outputs": [],
   "source": [
    "X_train = X_train[keep_mask]"
   ]
  },
  {
   "cell_type": "code",
   "execution_count": 40,
   "id": "b202bb3a",
   "metadata": {
    "execution": {
     "iopub.execute_input": "2025-07-30T20:33:01.371037Z",
     "iopub.status.busy": "2025-07-30T20:33:01.370380Z",
     "iopub.status.idle": "2025-07-30T20:33:01.375877Z",
     "shell.execute_reply": "2025-07-30T20:33:01.375114Z"
    },
    "papermill": {
     "duration": 0.020607,
     "end_time": "2025-07-30T20:33:01.377283",
     "exception": false,
     "start_time": "2025-07-30T20:33:01.356676",
     "status": "completed"
    },
    "tags": []
   },
   "outputs": [],
   "source": [
    "y_train = y_train[keep_mask]"
   ]
  },
  {
   "cell_type": "markdown",
   "id": "493e2ac3",
   "metadata": {
    "papermill": {
     "duration": 0.013024,
     "end_time": "2025-07-30T20:33:01.403215",
     "exception": false,
     "start_time": "2025-07-30T20:33:01.390191",
     "status": "completed"
    },
    "tags": []
   },
   "source": [
    "# Model Training"
   ]
  },
  {
   "cell_type": "code",
   "execution_count": 41,
   "id": "679e1268",
   "metadata": {
    "execution": {
     "iopub.execute_input": "2025-07-30T20:33:01.428210Z",
     "iopub.status.busy": "2025-07-30T20:33:01.427680Z",
     "iopub.status.idle": "2025-07-30T20:33:01.505623Z",
     "shell.execute_reply": "2025-07-30T20:33:01.504824Z"
    },
    "papermill": {
     "duration": 0.091774,
     "end_time": "2025-07-30T20:33:01.506990",
     "exception": false,
     "start_time": "2025-07-30T20:33:01.415216",
     "status": "completed"
    },
    "tags": []
   },
   "outputs": [],
   "source": [
    "from sklearn.linear_model import LogisticRegression\n",
    "from sklearn.ensemble import GradientBoostingClassifier, RandomForestClassifier\n",
    "\n",
    "if (universe[\"model\"] == \"logreg\"):\n",
    "    model = LogisticRegression() #penalty=\"none\") #, solver=\"newton-cg\", max_iter=1) # include random_state=19 ?\n",
    "elif (universe[\"model\"] == \"penalized_logreg\"):\n",
    "    model = LogisticRegression(penalty=\"l2\", C=1.0) #, solver=\"newton-cg\", max_iter=1)\n",
    "elif (universe[\"model\"] == \"rf\"):\n",
    "    model = RandomForestClassifier(n_estimators=100, n_jobs=-1)\n",
    "elif (universe[\"model\"] == \"gbm\"):\n",
    "    model = GradientBoostingClassifier()\n",
    "elif (universe[\"model\"] == \"elasticnet\"):\n",
    "    model = LogisticRegression(penalty = 'elasticnet', solver = 'saga', l1_ratio = 0.5, max_iter=5000) # which solver to use?\n",
    "else:\n",
    "    raise \"Unsupported universe.model\""
   ]
  },
  {
   "cell_type": "code",
   "execution_count": 42,
   "id": "0cc8f744",
   "metadata": {
    "execution": {
     "iopub.execute_input": "2025-07-30T20:33:01.532331Z",
     "iopub.status.busy": "2025-07-30T20:33:01.531610Z",
     "iopub.status.idle": "2025-07-30T20:33:01.536950Z",
     "shell.execute_reply": "2025-07-30T20:33:01.536248Z"
    },
    "papermill": {
     "duration": 0.019106,
     "end_time": "2025-07-30T20:33:01.538197",
     "exception": false,
     "start_time": "2025-07-30T20:33:01.519091",
     "status": "completed"
    },
    "tags": []
   },
   "outputs": [],
   "source": [
    "import numpy as np\n",
    "from sklearn.pipeline import Pipeline\n",
    "from sklearn.preprocessing import StandardScaler\n",
    "\n",
    "model = Pipeline([\n",
    "    #(\"continuous_processor\", continuous_processor),\n",
    "    #(\"categorical_preprocessor\", categorical_preprocessor),\n",
    "    (\"scale\", StandardScaler() if universe[\"scale\"] == \"scale\" else None), \n",
    "    (\"model\", model),\n",
    "])"
   ]
  },
  {
   "cell_type": "code",
   "execution_count": 43,
   "id": "9442c04d",
   "metadata": {
    "execution": {
     "iopub.execute_input": "2025-07-30T20:33:01.562680Z",
     "iopub.status.busy": "2025-07-30T20:33:01.562077Z",
     "iopub.status.idle": "2025-07-30T20:33:15.021485Z",
     "shell.execute_reply": "2025-07-30T20:33:15.020326Z"
    },
    "papermill": {
     "duration": 13.473225,
     "end_time": "2025-07-30T20:33:15.023306",
     "exception": false,
     "start_time": "2025-07-30T20:33:01.550081",
     "status": "completed"
    },
    "tags": []
   },
   "outputs": [
    {
     "data": {
      "text/html": [
       "<style>#sk-container-id-1 {color: black;background-color: white;}#sk-container-id-1 pre{padding: 0;}#sk-container-id-1 div.sk-toggleable {background-color: white;}#sk-container-id-1 label.sk-toggleable__label {cursor: pointer;display: block;width: 100%;margin-bottom: 0;padding: 0.3em;box-sizing: border-box;text-align: center;}#sk-container-id-1 label.sk-toggleable__label-arrow:before {content: \"▸\";float: left;margin-right: 0.25em;color: #696969;}#sk-container-id-1 label.sk-toggleable__label-arrow:hover:before {color: black;}#sk-container-id-1 div.sk-estimator:hover label.sk-toggleable__label-arrow:before {color: black;}#sk-container-id-1 div.sk-toggleable__content {max-height: 0;max-width: 0;overflow: hidden;text-align: left;background-color: #f0f8ff;}#sk-container-id-1 div.sk-toggleable__content pre {margin: 0.2em;color: black;border-radius: 0.25em;background-color: #f0f8ff;}#sk-container-id-1 input.sk-toggleable__control:checked~div.sk-toggleable__content {max-height: 200px;max-width: 100%;overflow: auto;}#sk-container-id-1 input.sk-toggleable__control:checked~label.sk-toggleable__label-arrow:before {content: \"▾\";}#sk-container-id-1 div.sk-estimator input.sk-toggleable__control:checked~label.sk-toggleable__label {background-color: #d4ebff;}#sk-container-id-1 div.sk-label input.sk-toggleable__control:checked~label.sk-toggleable__label {background-color: #d4ebff;}#sk-container-id-1 input.sk-hidden--visually {border: 0;clip: rect(1px 1px 1px 1px);clip: rect(1px, 1px, 1px, 1px);height: 1px;margin: -1px;overflow: hidden;padding: 0;position: absolute;width: 1px;}#sk-container-id-1 div.sk-estimator {font-family: monospace;background-color: #f0f8ff;border: 1px dotted black;border-radius: 0.25em;box-sizing: border-box;margin-bottom: 0.5em;}#sk-container-id-1 div.sk-estimator:hover {background-color: #d4ebff;}#sk-container-id-1 div.sk-parallel-item::after {content: \"\";width: 100%;border-bottom: 1px solid gray;flex-grow: 1;}#sk-container-id-1 div.sk-label:hover label.sk-toggleable__label {background-color: #d4ebff;}#sk-container-id-1 div.sk-serial::before {content: \"\";position: absolute;border-left: 1px solid gray;box-sizing: border-box;top: 0;bottom: 0;left: 50%;z-index: 0;}#sk-container-id-1 div.sk-serial {display: flex;flex-direction: column;align-items: center;background-color: white;padding-right: 0.2em;padding-left: 0.2em;position: relative;}#sk-container-id-1 div.sk-item {position: relative;z-index: 1;}#sk-container-id-1 div.sk-parallel {display: flex;align-items: stretch;justify-content: center;background-color: white;position: relative;}#sk-container-id-1 div.sk-item::before, #sk-container-id-1 div.sk-parallel-item::before {content: \"\";position: absolute;border-left: 1px solid gray;box-sizing: border-box;top: 0;bottom: 0;left: 50%;z-index: -1;}#sk-container-id-1 div.sk-parallel-item {display: flex;flex-direction: column;z-index: 1;position: relative;background-color: white;}#sk-container-id-1 div.sk-parallel-item:first-child::after {align-self: flex-end;width: 50%;}#sk-container-id-1 div.sk-parallel-item:last-child::after {align-self: flex-start;width: 50%;}#sk-container-id-1 div.sk-parallel-item:only-child::after {width: 0;}#sk-container-id-1 div.sk-dashed-wrapped {border: 1px dashed gray;margin: 0 0.4em 0.5em 0.4em;box-sizing: border-box;padding-bottom: 0.4em;background-color: white;}#sk-container-id-1 div.sk-label label {font-family: monospace;font-weight: bold;display: inline-block;line-height: 1.2em;}#sk-container-id-1 div.sk-label-container {text-align: center;}#sk-container-id-1 div.sk-container {/* jupyter's `normalize.less` sets `[hidden] { display: none; }` but bootstrap.min.css set `[hidden] { display: none !important; }` so we also need the `!important` here to be able to override the default hidden behavior on the sphinx rendered scikit-learn.org. See: https://github.com/scikit-learn/scikit-learn/issues/21755 */display: inline-block !important;position: relative;}#sk-container-id-1 div.sk-text-repr-fallback {display: none;}</style><div id=\"sk-container-id-1\" class=\"sk-top-container\"><div class=\"sk-text-repr-fallback\"><pre>Pipeline(steps=[(&#x27;scale&#x27;, StandardScaler()),\n",
       "                (&#x27;model&#x27;,\n",
       "                 LogisticRegression(l1_ratio=0.5, max_iter=5000,\n",
       "                                    penalty=&#x27;elasticnet&#x27;, solver=&#x27;saga&#x27;))])</pre><b>In a Jupyter environment, please rerun this cell to show the HTML representation or trust the notebook. <br />On GitHub, the HTML representation is unable to render, please try loading this page with nbviewer.org.</b></div><div class=\"sk-container\" hidden><div class=\"sk-item sk-dashed-wrapped\"><div class=\"sk-label-container\"><div class=\"sk-label sk-toggleable\"><input class=\"sk-toggleable__control sk-hidden--visually\" id=\"sk-estimator-id-1\" type=\"checkbox\" ><label for=\"sk-estimator-id-1\" class=\"sk-toggleable__label sk-toggleable__label-arrow\">Pipeline</label><div class=\"sk-toggleable__content\"><pre>Pipeline(steps=[(&#x27;scale&#x27;, StandardScaler()),\n",
       "                (&#x27;model&#x27;,\n",
       "                 LogisticRegression(l1_ratio=0.5, max_iter=5000,\n",
       "                                    penalty=&#x27;elasticnet&#x27;, solver=&#x27;saga&#x27;))])</pre></div></div></div><div class=\"sk-serial\"><div class=\"sk-item\"><div class=\"sk-estimator sk-toggleable\"><input class=\"sk-toggleable__control sk-hidden--visually\" id=\"sk-estimator-id-2\" type=\"checkbox\" ><label for=\"sk-estimator-id-2\" class=\"sk-toggleable__label sk-toggleable__label-arrow\">StandardScaler</label><div class=\"sk-toggleable__content\"><pre>StandardScaler()</pre></div></div></div><div class=\"sk-item\"><div class=\"sk-estimator sk-toggleable\"><input class=\"sk-toggleable__control sk-hidden--visually\" id=\"sk-estimator-id-3\" type=\"checkbox\" ><label for=\"sk-estimator-id-3\" class=\"sk-toggleable__label sk-toggleable__label-arrow\">LogisticRegression</label><div class=\"sk-toggleable__content\"><pre>LogisticRegression(l1_ratio=0.5, max_iter=5000, penalty=&#x27;elasticnet&#x27;,\n",
       "                   solver=&#x27;saga&#x27;)</pre></div></div></div></div></div></div></div>"
      ],
      "text/plain": [
       "Pipeline(steps=[('scale', StandardScaler()),\n",
       "                ('model',\n",
       "                 LogisticRegression(l1_ratio=0.5, max_iter=5000,\n",
       "                                    penalty='elasticnet', solver='saga'))])"
      ]
     },
     "execution_count": 43,
     "metadata": {},
     "output_type": "execute_result"
    }
   ],
   "source": [
    "model.fit(X_train, y_train.values.ravel())"
   ]
  },
  {
   "cell_type": "code",
   "execution_count": 44,
   "id": "af59f8c0",
   "metadata": {
    "execution": {
     "iopub.execute_input": "2025-07-30T20:33:15.080485Z",
     "iopub.status.busy": "2025-07-30T20:33:15.079820Z",
     "iopub.status.idle": "2025-07-30T20:33:15.085623Z",
     "shell.execute_reply": "2025-07-30T20:33:15.084639Z"
    },
    "papermill": {
     "duration": 0.034908,
     "end_time": "2025-07-30T20:33:15.087339",
     "exception": false,
     "start_time": "2025-07-30T20:33:15.052431",
     "status": "completed"
    },
    "tags": []
   },
   "outputs": [],
   "source": [
    "from fairness_multiverse.universe import predict_w_threshold"
   ]
  },
  {
   "cell_type": "code",
   "execution_count": 45,
   "id": "a7cf2e16",
   "metadata": {
    "execution": {
     "iopub.execute_input": "2025-07-30T20:33:15.139993Z",
     "iopub.status.busy": "2025-07-30T20:33:15.138977Z",
     "iopub.status.idle": "2025-07-30T20:33:15.343295Z",
     "shell.execute_reply": "2025-07-30T20:33:15.342295Z"
    },
    "papermill": {
     "duration": 0.231278,
     "end_time": "2025-07-30T20:33:15.345257",
     "exception": false,
     "start_time": "2025-07-30T20:33:15.113979",
     "status": "completed"
    },
    "tags": []
   },
   "outputs": [
    {
     "data": {
      "text/plain": [
       "0.859814959313343"
      ]
     },
     "execution_count": 45,
     "metadata": {},
     "output_type": "execute_result"
    }
   ],
   "source": [
    "probs_test = model.predict_proba(X_test)\n",
    "\n",
    "'''\n",
    "Below code returns a boolean array (or binary 0/1 array depending on how it’s used) where each element \n",
    "is True if the probability of class 1 is greater than or equal to the threshold, and False otherwise.\n",
    "'''\n",
    "y_pred_default = predict_w_threshold(probs_test, 0.5)\n",
    "\n",
    "from sklearn.metrics import accuracy_score\n",
    "\n",
    "# Naive prediction\n",
    "accuracy_score(y_true = y_true, y_pred = y_pred_default)"
   ]
  },
  {
   "cell_type": "code",
   "execution_count": 46,
   "id": "081964c3",
   "metadata": {
    "execution": {
     "iopub.execute_input": "2025-07-30T20:33:15.400309Z",
     "iopub.status.busy": "2025-07-30T20:33:15.399286Z",
     "iopub.status.idle": "2025-07-30T20:33:15.586384Z",
     "shell.execute_reply": "2025-07-30T20:33:15.585330Z"
    },
    "papermill": {
     "duration": 0.216394,
     "end_time": "2025-07-30T20:33:15.588299",
     "exception": false,
     "start_time": "2025-07-30T20:33:15.371905",
     "status": "completed"
    },
    "tags": []
   },
   "outputs": [
    {
     "data": {
      "text/plain": [
       "array([0, 0, 0, ..., 0, 0, 0])"
      ]
     },
     "execution_count": 46,
     "metadata": {},
     "output_type": "execute_result"
    }
   ],
   "source": [
    "model.predict(X_test)"
   ]
  },
  {
   "cell_type": "markdown",
   "id": "56c9705b",
   "metadata": {
    "papermill": {
     "duration": 0.027296,
     "end_time": "2025-07-30T20:33:15.643486",
     "exception": false,
     "start_time": "2025-07-30T20:33:15.616190",
     "status": "completed"
    },
    "tags": []
   },
   "source": [
    "# Conformal Prediction"
   ]
  },
  {
   "cell_type": "code",
   "execution_count": 47,
   "id": "160ec6ff",
   "metadata": {
    "execution": {
     "iopub.execute_input": "2025-07-30T20:33:15.699639Z",
     "iopub.status.busy": "2025-07-30T20:33:15.699149Z",
     "iopub.status.idle": "2025-07-30T20:33:15.705047Z",
     "shell.execute_reply": "2025-07-30T20:33:15.703824Z"
    },
    "papermill": {
     "duration": 0.036134,
     "end_time": "2025-07-30T20:33:15.706870",
     "exception": false,
     "start_time": "2025-07-30T20:33:15.670736",
     "status": "completed"
    },
    "tags": []
   },
   "outputs": [],
   "source": [
    "# Miscoverage level for conformal prediction (10% allowed error rate => 90% target coverage)\n",
    "alpha = 0.1"
   ]
  },
  {
   "cell_type": "code",
   "execution_count": 48,
   "id": "eadf4555-3dd3-440e-8e35-f82a4ad9f855",
   "metadata": {
    "execution": {
     "iopub.execute_input": "2025-07-30T20:33:15.764529Z",
     "iopub.status.busy": "2025-07-30T20:33:15.763855Z",
     "iopub.status.idle": "2025-07-30T20:33:15.947887Z",
     "shell.execute_reply": "2025-07-30T20:33:15.946809Z"
    },
    "papermill": {
     "duration": 0.214813,
     "end_time": "2025-07-30T20:33:15.950036",
     "exception": false,
     "start_time": "2025-07-30T20:33:15.735223",
     "status": "completed"
    },
    "tags": []
   },
   "outputs": [],
   "source": [
    "probs_calib = model.predict_proba(X_calib)"
   ]
  },
  {
   "cell_type": "code",
   "execution_count": 49,
   "id": "2ed93547-6d5d-4983-9b36-1ecb300da49a",
   "metadata": {
    "execution": {
     "iopub.execute_input": "2025-07-30T20:33:16.006939Z",
     "iopub.status.busy": "2025-07-30T20:33:16.006080Z",
     "iopub.status.idle": "2025-07-30T20:33:16.012688Z",
     "shell.execute_reply": "2025-07-30T20:33:16.011696Z"
    },
    "papermill": {
     "duration": 0.037142,
     "end_time": "2025-07-30T20:33:16.014602",
     "exception": false,
     "start_time": "2025-07-30T20:33:15.977460",
     "status": "completed"
    },
    "tags": []
   },
   "outputs": [],
   "source": [
    "y_calib = y_calib.values.ravel().astype(int)"
   ]
  },
  {
   "cell_type": "code",
   "execution_count": 50,
   "id": "65d1320d-f588-4b38-9072-62af1ae97f7d",
   "metadata": {
    "execution": {
     "iopub.execute_input": "2025-07-30T20:33:16.067744Z",
     "iopub.status.busy": "2025-07-30T20:33:16.066963Z",
     "iopub.status.idle": "2025-07-30T20:33:16.074717Z",
     "shell.execute_reply": "2025-07-30T20:33:16.073745Z"
    },
    "papermill": {
     "duration": 0.035787,
     "end_time": "2025-07-30T20:33:16.076332",
     "exception": false,
     "start_time": "2025-07-30T20:33:16.040545",
     "status": "completed"
    },
    "tags": []
   },
   "outputs": [],
   "source": [
    "from fairness_multiverse.conformal import compute_nc_scores\n",
    "\n",
    "# Compute nonconformity scores on calibration set (1 - probability of true class)\n",
    "nc_scores = compute_nc_scores(probs_calib, y_calib)"
   ]
  },
  {
   "cell_type": "code",
   "execution_count": 51,
   "id": "df3b8ca3-53b7-43d5-9667-7c85da7aeda2",
   "metadata": {
    "execution": {
     "iopub.execute_input": "2025-07-30T20:33:16.127376Z",
     "iopub.status.busy": "2025-07-30T20:33:16.126926Z",
     "iopub.status.idle": "2025-07-30T20:33:16.132889Z",
     "shell.execute_reply": "2025-07-30T20:33:16.132059Z"
    },
    "papermill": {
     "duration": 0.032824,
     "end_time": "2025-07-30T20:33:16.134629",
     "exception": false,
     "start_time": "2025-07-30T20:33:16.101805",
     "status": "completed"
    },
    "tags": []
   },
   "outputs": [],
   "source": [
    "from fairness_multiverse.conformal import find_threshold\n",
    "\n",
    "# Find conformal threshold q_hat for the given alpha (split conformal method)\n",
    "q_hat = find_threshold(nc_scores, alpha)"
   ]
  },
  {
   "cell_type": "code",
   "execution_count": 52,
   "id": "4d29e6c1-0ef6-4aa4-b8fe-4fe79b0d033a",
   "metadata": {
    "execution": {
     "iopub.execute_input": "2025-07-30T20:33:16.188423Z",
     "iopub.status.busy": "2025-07-30T20:33:16.187765Z",
     "iopub.status.idle": "2025-07-30T20:33:16.194969Z",
     "shell.execute_reply": "2025-07-30T20:33:16.194041Z"
    },
    "papermill": {
     "duration": 0.035467,
     "end_time": "2025-07-30T20:33:16.196690",
     "exception": false,
     "start_time": "2025-07-30T20:33:16.161223",
     "status": "completed"
    },
    "tags": []
   },
   "outputs": [
    {
     "data": {
      "text/plain": [
       "0.6590919703445193"
      ]
     },
     "execution_count": 52,
     "metadata": {},
     "output_type": "execute_result"
    }
   ],
   "source": [
    "q_hat"
   ]
  },
  {
   "cell_type": "code",
   "execution_count": 53,
   "id": "92460794-cdac-4be2-ba28-f28c0515a6fb",
   "metadata": {
    "execution": {
     "iopub.execute_input": "2025-07-30T20:33:16.251214Z",
     "iopub.status.busy": "2025-07-30T20:33:16.250523Z",
     "iopub.status.idle": "2025-07-30T20:33:17.107690Z",
     "shell.execute_reply": "2025-07-30T20:33:17.106744Z"
    },
    "papermill": {
     "duration": 0.886464,
     "end_time": "2025-07-30T20:33:17.109569",
     "exception": false,
     "start_time": "2025-07-30T20:33:16.223105",
     "status": "completed"
    },
    "tags": []
   },
   "outputs": [],
   "source": [
    "from fairness_multiverse.conformal import predict_conformal_sets\n",
    "\n",
    "# Generate prediction sets for each test example\n",
    "pred_sets = predict_conformal_sets(model, X_test, q_hat)"
   ]
  },
  {
   "cell_type": "code",
   "execution_count": 54,
   "id": "d90c9a65-e6db-4f5d-80cd-e68fb7e46829",
   "metadata": {
    "execution": {
     "iopub.execute_input": "2025-07-30T20:33:17.163148Z",
     "iopub.status.busy": "2025-07-30T20:33:17.162484Z",
     "iopub.status.idle": "2025-07-30T20:33:17.168716Z",
     "shell.execute_reply": "2025-07-30T20:33:17.167535Z"
    },
    "papermill": {
     "duration": 0.034205,
     "end_time": "2025-07-30T20:33:17.171135",
     "exception": false,
     "start_time": "2025-07-30T20:33:17.136930",
     "status": "completed"
    },
    "tags": []
   },
   "outputs": [],
   "source": [
    "y_true = y_true.squeeze()"
   ]
  },
  {
   "cell_type": "code",
   "execution_count": 55,
   "id": "3a58a54a-1e68-46b9-927a-df01f18aebc8",
   "metadata": {
    "execution": {
     "iopub.execute_input": "2025-07-30T20:33:17.227945Z",
     "iopub.status.busy": "2025-07-30T20:33:17.227083Z",
     "iopub.status.idle": "2025-07-30T20:33:18.146044Z",
     "shell.execute_reply": "2025-07-30T20:33:18.145103Z"
    },
    "papermill": {
     "duration": 0.949411,
     "end_time": "2025-07-30T20:33:18.147913",
     "exception": false,
     "start_time": "2025-07-30T20:33:17.198502",
     "status": "completed"
    },
    "tags": []
   },
   "outputs": [],
   "source": [
    "from fairness_multiverse.conformal import evaluate_sets\n",
    "\n",
    "# Evaluate coverage and average set size on test data\n",
    "metrics = evaluate_sets(pred_sets, y_true)"
   ]
  },
  {
   "cell_type": "markdown",
   "id": "2b569c12-9aaa-4c88-98c9-bbcd0cf3ebb8",
   "metadata": {
    "papermill": {
     "duration": 0.022515,
     "end_time": "2025-07-30T20:33:18.193647",
     "exception": false,
     "start_time": "2025-07-30T20:33:18.171132",
     "status": "completed"
    },
    "tags": []
   },
   "source": [
    "# CP Metrics"
   ]
  },
  {
   "cell_type": "code",
   "execution_count": 56,
   "id": "5ce0a5cb-201f-45a0-ade5-94c7f0bd6095",
   "metadata": {
    "execution": {
     "iopub.execute_input": "2025-07-30T20:33:18.240600Z",
     "iopub.status.busy": "2025-07-30T20:33:18.239881Z",
     "iopub.status.idle": "2025-07-30T20:33:18.246985Z",
     "shell.execute_reply": "2025-07-30T20:33:18.246043Z"
    },
    "papermill": {
     "duration": 0.032433,
     "end_time": "2025-07-30T20:33:18.248611",
     "exception": false,
     "start_time": "2025-07-30T20:33:18.216178",
     "status": "completed"
    },
    "tags": []
   },
   "outputs": [
    {
     "data": {
      "text/plain": [
       "{'coverage': 0.909976591238435, 'avg_size': 1.124512317467395}"
      ]
     },
     "execution_count": 56,
     "metadata": {},
     "output_type": "execute_result"
    }
   ],
   "source": [
    "metrics"
   ]
  },
  {
   "cell_type": "code",
   "execution_count": 57,
   "id": "9b9a838d-31c9-430b-ae14-12baee460d17",
   "metadata": {
    "execution": {
     "iopub.execute_input": "2025-07-30T20:33:18.299941Z",
     "iopub.status.busy": "2025-07-30T20:33:18.299272Z",
     "iopub.status.idle": "2025-07-30T20:33:18.305512Z",
     "shell.execute_reply": "2025-07-30T20:33:18.304605Z"
    },
    "papermill": {
     "duration": 0.033611,
     "end_time": "2025-07-30T20:33:18.307108",
     "exception": false,
     "start_time": "2025-07-30T20:33:18.273497",
     "status": "completed"
    },
    "tags": []
   },
   "outputs": [],
   "source": [
    "example_universe = universe.copy()\n",
    "universe_training_year = example_universe.get(\"training_year\")\n",
    "universe_training_size = example_universe.get(\"training_size\")\n",
    "universe_scale = example_universe.get(\"scale\")\n",
    "universe_model = example_universe.get(\"model\")\n",
    "universe_exclude_features = example_universe.get(\"exclude_features\")\n",
    "universe_exclude_subgroups = example_universe.get(\"exclude_subgroups\")"
   ]
  },
  {
   "cell_type": "code",
   "execution_count": 58,
   "id": "f4b6a8ac-9dc0-4245-8a91-5b3b5999c4f9",
   "metadata": {
    "execution": {
     "iopub.execute_input": "2025-07-30T20:33:18.359017Z",
     "iopub.status.busy": "2025-07-30T20:33:18.358356Z",
     "iopub.status.idle": "2025-07-30T20:33:18.364959Z",
     "shell.execute_reply": "2025-07-30T20:33:18.363905Z"
    },
    "papermill": {
     "duration": 0.033449,
     "end_time": "2025-07-30T20:33:18.366561",
     "exception": false,
     "start_time": "2025-07-30T20:33:18.333112",
     "status": "completed"
    },
    "tags": []
   },
   "outputs": [],
   "source": [
    "cp_metrics_dict = {\n",
    "    \"universe_id\": [universe_id],\n",
    "    \"universe_training_year\": [universe_training_year],\n",
    "    \"universe_training_size\": [universe_training_size],\n",
    "    \"universe_scale\": [universe_scale],\n",
    "    \"universe_model\": [universe_model],\n",
    "    \"universe_exclude_features\": [universe_exclude_features],\n",
    "    \"universe_exclude_subgroups\": [universe_exclude_subgroups],\n",
    "    \"q_hat\": [q_hat],\n",
    "    \"coverage\": [metrics[\"coverage\"]],\n",
    "    \"avg_size\": [metrics[\"avg_size\"]],\n",
    "}"
   ]
  },
  {
   "cell_type": "code",
   "execution_count": 59,
   "id": "908acbb1-0371-4915-85ca-3fa520d2efe2",
   "metadata": {
    "execution": {
     "iopub.execute_input": "2025-07-30T20:33:18.418808Z",
     "iopub.status.busy": "2025-07-30T20:33:18.418141Z",
     "iopub.status.idle": "2025-07-30T20:33:18.425760Z",
     "shell.execute_reply": "2025-07-30T20:33:18.424813Z"
    },
    "papermill": {
     "duration": 0.03491,
     "end_time": "2025-07-30T20:33:18.427268",
     "exception": false,
     "start_time": "2025-07-30T20:33:18.392358",
     "status": "completed"
    },
    "tags": []
   },
   "outputs": [
    {
     "data": {
      "text/plain": [
       "{'universe_id': ['6777bd6df839d2ff5f30929cbb825de2'],\n",
       " 'universe_training_year': ['2010_14'],\n",
       " 'universe_training_size': ['25k'],\n",
       " 'universe_scale': ['scale'],\n",
       " 'universe_model': ['elasticnet'],\n",
       " 'universe_exclude_features': ['nationality-sex'],\n",
       " 'universe_exclude_subgroups': ['drop-non-german'],\n",
       " 'q_hat': [0.6590919703445193],\n",
       " 'coverage': [0.909976591238435],\n",
       " 'avg_size': [1.124512317467395]}"
      ]
     },
     "execution_count": 59,
     "metadata": {},
     "output_type": "execute_result"
    }
   ],
   "source": [
    "cp_metrics_dict"
   ]
  },
  {
   "cell_type": "code",
   "execution_count": 60,
   "id": "33007efc-14e9-4ec6-97ac-56a455c82265",
   "metadata": {
    "execution": {
     "iopub.execute_input": "2025-07-30T20:33:18.479731Z",
     "iopub.status.busy": "2025-07-30T20:33:18.479078Z",
     "iopub.status.idle": "2025-07-30T20:33:18.485200Z",
     "shell.execute_reply": "2025-07-30T20:33:18.484268Z"
    },
    "papermill": {
     "duration": 0.033785,
     "end_time": "2025-07-30T20:33:18.486761",
     "exception": false,
     "start_time": "2025-07-30T20:33:18.452976",
     "status": "completed"
    },
    "tags": []
   },
   "outputs": [],
   "source": [
    "cp_metrics_df = pd.DataFrame(cp_metrics_dict)"
   ]
  },
  {
   "cell_type": "code",
   "execution_count": 61,
   "id": "db12611b-57b2-4910-b9d0-355adfd6e7bf",
   "metadata": {
    "execution": {
     "iopub.execute_input": "2025-07-30T20:33:18.540236Z",
     "iopub.status.busy": "2025-07-30T20:33:18.539585Z",
     "iopub.status.idle": "2025-07-30T20:33:18.557264Z",
     "shell.execute_reply": "2025-07-30T20:33:18.556251Z"
    },
    "papermill": {
     "duration": 0.045941,
     "end_time": "2025-07-30T20:33:18.558770",
     "exception": false,
     "start_time": "2025-07-30T20:33:18.512829",
     "status": "completed"
    },
    "tags": []
   },
   "outputs": [
    {
     "data": {
      "text/html": [
       "<div>\n",
       "<style scoped>\n",
       "    .dataframe tbody tr th:only-of-type {\n",
       "        vertical-align: middle;\n",
       "    }\n",
       "\n",
       "    .dataframe tbody tr th {\n",
       "        vertical-align: top;\n",
       "    }\n",
       "\n",
       "    .dataframe thead th {\n",
       "        text-align: right;\n",
       "    }\n",
       "</style>\n",
       "<table border=\"1\" class=\"dataframe\">\n",
       "  <thead>\n",
       "    <tr style=\"text-align: right;\">\n",
       "      <th></th>\n",
       "      <th>universe_id</th>\n",
       "      <th>universe_training_year</th>\n",
       "      <th>universe_training_size</th>\n",
       "      <th>universe_scale</th>\n",
       "      <th>universe_model</th>\n",
       "      <th>universe_exclude_features</th>\n",
       "      <th>universe_exclude_subgroups</th>\n",
       "      <th>q_hat</th>\n",
       "      <th>coverage</th>\n",
       "      <th>avg_size</th>\n",
       "    </tr>\n",
       "  </thead>\n",
       "  <tbody>\n",
       "    <tr>\n",
       "      <th>0</th>\n",
       "      <td>6777bd6df839d2ff5f30929cbb825de2</td>\n",
       "      <td>2010_14</td>\n",
       "      <td>25k</td>\n",
       "      <td>scale</td>\n",
       "      <td>elasticnet</td>\n",
       "      <td>nationality-sex</td>\n",
       "      <td>drop-non-german</td>\n",
       "      <td>0.659092</td>\n",
       "      <td>0.909977</td>\n",
       "      <td>1.124512</td>\n",
       "    </tr>\n",
       "  </tbody>\n",
       "</table>\n",
       "</div>"
      ],
      "text/plain": [
       "                        universe_id universe_training_year  \\\n",
       "0  6777bd6df839d2ff5f30929cbb825de2                2010_14   \n",
       "\n",
       "  universe_training_size universe_scale universe_model  \\\n",
       "0                    25k          scale     elasticnet   \n",
       "\n",
       "  universe_exclude_features universe_exclude_subgroups     q_hat  coverage  \\\n",
       "0           nationality-sex            drop-non-german  0.659092  0.909977   \n",
       "\n",
       "   avg_size  \n",
       "0  1.124512  "
      ]
     },
     "execution_count": 61,
     "metadata": {},
     "output_type": "execute_result"
    }
   ],
   "source": [
    "cp_metrics_df"
   ]
  },
  {
   "cell_type": "code",
   "execution_count": 62,
   "id": "b7fbde55-a0a1-47e4-9af6-fe4a17fa8c61",
   "metadata": {
    "execution": {
     "iopub.execute_input": "2025-07-30T20:33:18.612748Z",
     "iopub.status.busy": "2025-07-30T20:33:18.612076Z",
     "iopub.status.idle": "2025-07-30T20:33:18.617139Z",
     "shell.execute_reply": "2025-07-30T20:33:18.616190Z"
    },
    "papermill": {
     "duration": 0.03333,
     "end_time": "2025-07-30T20:33:18.618784",
     "exception": false,
     "start_time": "2025-07-30T20:33:18.585454",
     "status": "completed"
    },
    "tags": []
   },
   "outputs": [],
   "source": [
    "# Conditional Coverage & looking at subgroups"
   ]
  },
  {
   "cell_type": "code",
   "execution_count": 63,
   "id": "027ae886-68dd-4141-96c7-805a5450e1ef",
   "metadata": {
    "execution": {
     "iopub.execute_input": "2025-07-30T20:33:18.673306Z",
     "iopub.status.busy": "2025-07-30T20:33:18.672624Z",
     "iopub.status.idle": "2025-07-30T20:33:18.932598Z",
     "shell.execute_reply": "2025-07-30T20:33:18.931543Z"
    },
    "papermill": {
     "duration": 0.288911,
     "end_time": "2025-07-30T20:33:18.934511",
     "exception": false,
     "start_time": "2025-07-30T20:33:18.645600",
     "status": "completed"
    },
    "tags": []
   },
   "outputs": [],
   "source": [
    "from fairness_multiverse.conformal import build_cp_groups\n",
    "\n",
    "cp_groups_df = build_cp_groups(pred_sets, y_true, X_test.index, org_test)\n",
    "#needs universe_id and setting"
   ]
  },
  {
   "cell_type": "code",
   "execution_count": 64,
   "id": "01d5802c-663a-4d1f-9d69-e036faaffbf7",
   "metadata": {
    "execution": {
     "iopub.execute_input": "2025-07-30T20:33:18.984838Z",
     "iopub.status.busy": "2025-07-30T20:33:18.983529Z",
     "iopub.status.idle": "2025-07-30T20:33:18.988668Z",
     "shell.execute_reply": "2025-07-30T20:33:18.987703Z"
    },
    "papermill": {
     "duration": 0.031825,
     "end_time": "2025-07-30T20:33:18.990303",
     "exception": false,
     "start_time": "2025-07-30T20:33:18.958478",
     "status": "completed"
    },
    "tags": []
   },
   "outputs": [],
   "source": [
    "#delete\n",
    "#cp_groups_df"
   ]
  },
  {
   "cell_type": "code",
   "execution_count": 65,
   "id": "fa424af1-d1eb-443d-b717-2d279ada8408",
   "metadata": {
    "execution": {
     "iopub.execute_input": "2025-07-30T20:33:19.040406Z",
     "iopub.status.busy": "2025-07-30T20:33:19.039729Z",
     "iopub.status.idle": "2025-07-30T20:33:19.044814Z",
     "shell.execute_reply": "2025-07-30T20:33:19.043795Z"
    },
    "papermill": {
     "duration": 0.031667,
     "end_time": "2025-07-30T20:33:19.046254",
     "exception": false,
     "start_time": "2025-07-30T20:33:19.014587",
     "status": "completed"
    },
    "tags": []
   },
   "outputs": [],
   "source": [
    "#delete\n",
    "#percentage = (cp_groups_df['nongerman_female'] == 1).mean() * 100\n",
    "#print(percentage)\n"
   ]
  },
  {
   "cell_type": "code",
   "execution_count": 66,
   "id": "6cbdab96-b2b2-45af-ad54-d0516db2e28d",
   "metadata": {
    "execution": {
     "iopub.execute_input": "2025-07-30T20:33:19.095698Z",
     "iopub.status.busy": "2025-07-30T20:33:19.094985Z",
     "iopub.status.idle": "2025-07-30T20:33:20.676498Z",
     "shell.execute_reply": "2025-07-30T20:33:20.675535Z"
    },
    "papermill": {
     "duration": 1.608239,
     "end_time": "2025-07-30T20:33:20.678238",
     "exception": false,
     "start_time": "2025-07-30T20:33:19.069999",
     "status": "completed"
    },
    "tags": []
   },
   "outputs": [],
   "source": [
    "# Define covered = 1 if true_label is in the predicted set\n",
    "cp_groups_df['covered'] = cp_groups_df.apply(\n",
    "    lambda r: int(r['true_label'] in r['pred_set']),\n",
    "    axis=1\n",
    ")"
   ]
  },
  {
   "cell_type": "code",
   "execution_count": 67,
   "id": "338ff529-1a6b-4b87-a931-8e4788d52aad",
   "metadata": {
    "execution": {
     "iopub.execute_input": "2025-07-30T20:33:20.730909Z",
     "iopub.status.busy": "2025-07-30T20:33:20.730437Z",
     "iopub.status.idle": "2025-07-30T20:33:20.735169Z",
     "shell.execute_reply": "2025-07-30T20:33:20.734340Z"
    },
    "papermill": {
     "duration": 0.03151,
     "end_time": "2025-07-30T20:33:20.736591",
     "exception": false,
     "start_time": "2025-07-30T20:33:20.705081",
     "status": "completed"
    },
    "tags": []
   },
   "outputs": [],
   "source": [
    "#cp_groups_df"
   ]
  },
  {
   "cell_type": "code",
   "execution_count": 68,
   "id": "90032e27-66df-4540-9169-4e89cfbaa758",
   "metadata": {
    "execution": {
     "iopub.execute_input": "2025-07-30T20:33:20.786151Z",
     "iopub.status.busy": "2025-07-30T20:33:20.785706Z",
     "iopub.status.idle": "2025-07-30T20:33:20.796803Z",
     "shell.execute_reply": "2025-07-30T20:33:20.795868Z"
    },
    "papermill": {
     "duration": 0.037132,
     "end_time": "2025-07-30T20:33:20.798423",
     "exception": false,
     "start_time": "2025-07-30T20:33:20.761291",
     "status": "completed"
    },
    "tags": []
   },
   "outputs": [],
   "source": [
    "subgroups = ['frau1','nongerman','nongerman_male','nongerman_female']\n",
    "\n",
    "# Conditional coverage for subgroup==1\n",
    "cond_coverage = {\n",
    "    g: cp_groups_df.loc[cp_groups_df[g]==1, 'covered'].mean()\n",
    "    for g in subgroups\n",
    "}"
   ]
  },
  {
   "cell_type": "code",
   "execution_count": 69,
   "id": "1e348fb1-b9c3-45bc-ba23-f016827a7e0d",
   "metadata": {
    "execution": {
     "iopub.execute_input": "2025-07-30T20:33:20.848678Z",
     "iopub.status.busy": "2025-07-30T20:33:20.848199Z",
     "iopub.status.idle": "2025-07-30T20:33:20.855638Z",
     "shell.execute_reply": "2025-07-30T20:33:20.854689Z"
    },
    "papermill": {
     "duration": 0.034466,
     "end_time": "2025-07-30T20:33:20.857343",
     "exception": false,
     "start_time": "2025-07-30T20:33:20.822877",
     "status": "completed"
    },
    "tags": []
   },
   "outputs": [
    {
     "data": {
      "text/plain": [
       "{'frau1': 0.9093408815204206,\n",
       " 'nongerman': 0.9100656823668107,\n",
       " 'nongerman_male': 0.9257858236512654,\n",
       " 'nongerman_female': 0.884053651266766}"
      ]
     },
     "execution_count": 69,
     "metadata": {},
     "output_type": "execute_result"
    }
   ],
   "source": [
    "cond_coverage"
   ]
  },
  {
   "cell_type": "code",
   "execution_count": 70,
   "id": "f5093324-c3dd-4d63-bc4c-8d945e5c8bbb",
   "metadata": {
    "execution": {
     "iopub.execute_input": "2025-07-30T20:33:20.906466Z",
     "iopub.status.busy": "2025-07-30T20:33:20.905834Z",
     "iopub.status.idle": "2025-07-30T20:33:20.913269Z",
     "shell.execute_reply": "2025-07-30T20:33:20.912350Z"
    },
    "papermill": {
     "duration": 0.033296,
     "end_time": "2025-07-30T20:33:20.914806",
     "exception": false,
     "start_time": "2025-07-30T20:33:20.881510",
     "status": "completed"
    },
    "tags": []
   },
   "outputs": [],
   "source": [
    "for subgroup, cov in cond_coverage.items():\n",
    "    cp_metrics_df[f\"cov_{subgroup}\"] = cov"
   ]
  },
  {
   "cell_type": "code",
   "execution_count": 71,
   "id": "6e872e10-dbe5-49e8-b554-5030c98ff75d",
   "metadata": {
    "execution": {
     "iopub.execute_input": "2025-07-30T20:33:20.964892Z",
     "iopub.status.busy": "2025-07-30T20:33:20.964332Z",
     "iopub.status.idle": "2025-07-30T20:33:20.995667Z",
     "shell.execute_reply": "2025-07-30T20:33:20.994722Z"
    },
    "papermill": {
     "duration": 0.057701,
     "end_time": "2025-07-30T20:33:20.997144",
     "exception": false,
     "start_time": "2025-07-30T20:33:20.939443",
     "status": "completed"
    },
    "tags": []
   },
   "outputs": [
    {
     "data": {
      "text/html": [
       "<div>\n",
       "<style scoped>\n",
       "    .dataframe tbody tr th:only-of-type {\n",
       "        vertical-align: middle;\n",
       "    }\n",
       "\n",
       "    .dataframe tbody tr th {\n",
       "        vertical-align: top;\n",
       "    }\n",
       "\n",
       "    .dataframe thead th {\n",
       "        text-align: right;\n",
       "    }\n",
       "</style>\n",
       "<table border=\"1\" class=\"dataframe\">\n",
       "  <thead>\n",
       "    <tr style=\"text-align: right;\">\n",
       "      <th></th>\n",
       "      <th>universe_id</th>\n",
       "      <th>universe_training_year</th>\n",
       "      <th>universe_training_size</th>\n",
       "      <th>universe_scale</th>\n",
       "      <th>universe_model</th>\n",
       "      <th>universe_exclude_features</th>\n",
       "      <th>universe_exclude_subgroups</th>\n",
       "      <th>q_hat</th>\n",
       "      <th>coverage</th>\n",
       "      <th>avg_size</th>\n",
       "      <th>cov_frau1</th>\n",
       "      <th>cov_nongerman</th>\n",
       "      <th>cov_nongerman_male</th>\n",
       "      <th>cov_nongerman_female</th>\n",
       "    </tr>\n",
       "  </thead>\n",
       "  <tbody>\n",
       "    <tr>\n",
       "      <th>0</th>\n",
       "      <td>6777bd6df839d2ff5f30929cbb825de2</td>\n",
       "      <td>2010_14</td>\n",
       "      <td>25k</td>\n",
       "      <td>scale</td>\n",
       "      <td>elasticnet</td>\n",
       "      <td>nationality-sex</td>\n",
       "      <td>drop-non-german</td>\n",
       "      <td>0.659092</td>\n",
       "      <td>0.909977</td>\n",
       "      <td>1.124512</td>\n",
       "      <td>0.909341</td>\n",
       "      <td>0.910066</td>\n",
       "      <td>0.925786</td>\n",
       "      <td>0.884054</td>\n",
       "    </tr>\n",
       "  </tbody>\n",
       "</table>\n",
       "</div>"
      ],
      "text/plain": [
       "                        universe_id universe_training_year  \\\n",
       "0  6777bd6df839d2ff5f30929cbb825de2                2010_14   \n",
       "\n",
       "  universe_training_size universe_scale universe_model  \\\n",
       "0                    25k          scale     elasticnet   \n",
       "\n",
       "  universe_exclude_features universe_exclude_subgroups     q_hat  coverage  \\\n",
       "0           nationality-sex            drop-non-german  0.659092  0.909977   \n",
       "\n",
       "   avg_size  cov_frau1  cov_nongerman  cov_nongerman_male  \\\n",
       "0  1.124512   0.909341       0.910066            0.925786   \n",
       "\n",
       "   cov_nongerman_female  \n",
       "0              0.884054  "
      ]
     },
     "execution_count": 71,
     "metadata": {},
     "output_type": "execute_result"
    }
   ],
   "source": [
    "cp_metrics_df"
   ]
  },
  {
   "cell_type": "markdown",
   "id": "33774451",
   "metadata": {
    "papermill": {
     "duration": 0.024254,
     "end_time": "2025-07-30T20:33:21.047824",
     "exception": false,
     "start_time": "2025-07-30T20:33:21.023570",
     "status": "completed"
    },
    "tags": []
   },
   "source": [
    "# (Fairness) Metrics"
   ]
  },
  {
   "cell_type": "code",
   "execution_count": 72,
   "id": "debc5d62",
   "metadata": {
    "execution": {
     "iopub.execute_input": "2025-07-30T20:33:21.102086Z",
     "iopub.status.busy": "2025-07-30T20:33:21.101604Z",
     "iopub.status.idle": "2025-07-30T20:33:21.122237Z",
     "shell.execute_reply": "2025-07-30T20:33:21.121369Z"
    },
    "papermill": {
     "duration": 0.049438,
     "end_time": "2025-07-30T20:33:21.124131",
     "exception": false,
     "start_time": "2025-07-30T20:33:21.074693",
     "status": "completed"
    },
    "tags": []
   },
   "outputs": [],
   "source": [
    "# do I need to include maxdeutsch1.missing?\n",
    "\n",
    "import numpy as np\n",
    "\n",
    "colname_to_bin = \"maxdeutsch1\"\n",
    "majority_value = org_train[colname_to_bin].mode()[0]\n",
    "\n",
    "org_test[\"majmin\"] = np.where(org_test[colname_to_bin] == majority_value, \"majority\", \"minority\")"
   ]
  },
  {
   "cell_type": "code",
   "execution_count": 73,
   "id": "06a50de5",
   "metadata": {
    "execution": {
     "iopub.execute_input": "2025-07-30T20:33:21.176999Z",
     "iopub.status.busy": "2025-07-30T20:33:21.176491Z",
     "iopub.status.idle": "2025-07-30T20:33:24.058258Z",
     "shell.execute_reply": "2025-07-30T20:33:24.057393Z"
    },
    "papermill": {
     "duration": 2.910475,
     "end_time": "2025-07-30T20:33:24.060010",
     "exception": false,
     "start_time": "2025-07-30T20:33:21.149535",
     "status": "completed"
    },
    "tags": []
   },
   "outputs": [],
   "source": [
    "example_universe = universe.copy()\n",
    "example_universe[\"cutoff\"] = example_universe[\"cutoff\"][0]\n",
    "example_universe[\"eval_fairness_grouping\"] = example_universe[\"eval_fairness_grouping\"][0]\n",
    "fairness_dict, metric_frame = universe_analysis.compute_metrics(\n",
    "    example_universe,\n",
    "    y_pred_prob=probs_test,\n",
    "    y_test=y_true,\n",
    "    org_test=org_test,\n",
    ")"
   ]
  },
  {
   "cell_type": "markdown",
   "id": "f95d4e02",
   "metadata": {
    "papermill": {
     "duration": 0.023947,
     "end_time": "2025-07-30T20:33:24.109648",
     "exception": false,
     "start_time": "2025-07-30T20:33:24.085701",
     "status": "completed"
    },
    "tags": []
   },
   "source": [
    "# Overall"
   ]
  },
  {
   "cell_type": "markdown",
   "id": "bdee4871",
   "metadata": {
    "papermill": {
     "duration": 0.024304,
     "end_time": "2025-07-30T20:33:24.157664",
     "exception": false,
     "start_time": "2025-07-30T20:33:24.133360",
     "status": "completed"
    },
    "tags": []
   },
   "source": [
    "Fairness\n",
    "Main fairness target: Equalized Odds. Seems to be a better fit than equal opportunity, since we're not only interested in Y = 1. Seems to be a better fit than demographic parity, since we also care about accuracy, not just equal distribution of preds.\n",
    "\n",
    "Pick column for computation of fairness metrics\n",
    "\n",
    "Performance\n",
    "Overall performance measures, most interesting in relation to the measures split by group below"
   ]
  },
  {
   "cell_type": "code",
   "execution_count": 74,
   "id": "c4e067c6",
   "metadata": {
    "execution": {
     "iopub.execute_input": "2025-07-30T20:33:24.209287Z",
     "iopub.status.busy": "2025-07-30T20:33:24.208646Z",
     "iopub.status.idle": "2025-07-30T20:33:24.216826Z",
     "shell.execute_reply": "2025-07-30T20:33:24.216004Z"
    },
    "papermill": {
     "duration": 0.035248,
     "end_time": "2025-07-30T20:33:24.218313",
     "exception": false,
     "start_time": "2025-07-30T20:33:24.183065",
     "status": "completed"
    },
    "tags": []
   },
   "outputs": [
    {
     "data": {
      "text/plain": [
       "accuracy                   0.225404\n",
       "balanced accuracy          0.550928\n",
       "f1                         0.246707\n",
       "precision                  0.140936\n",
       "false positive rate        0.886934\n",
       "false negative rate        0.011210\n",
       "selection rate             0.900000\n",
       "count                  89710.000000\n",
       "dtype: float64"
      ]
     },
     "execution_count": 74,
     "metadata": {},
     "output_type": "execute_result"
    }
   ],
   "source": [
    "metric_frame.overall"
   ]
  },
  {
   "cell_type": "markdown",
   "id": "e968fe9d",
   "metadata": {
    "papermill": {
     "duration": 0.024393,
     "end_time": "2025-07-30T20:33:24.267356",
     "exception": false,
     "start_time": "2025-07-30T20:33:24.242963",
     "status": "completed"
    },
    "tags": []
   },
   "source": [
    "By Group"
   ]
  },
  {
   "cell_type": "code",
   "execution_count": 75,
   "id": "ec325bce",
   "metadata": {
    "execution": {
     "iopub.execute_input": "2025-07-30T20:33:24.318073Z",
     "iopub.status.busy": "2025-07-30T20:33:24.317431Z",
     "iopub.status.idle": "2025-07-30T20:33:24.333088Z",
     "shell.execute_reply": "2025-07-30T20:33:24.332152Z"
    },
    "papermill": {
     "duration": 0.043287,
     "end_time": "2025-07-30T20:33:24.334672",
     "exception": false,
     "start_time": "2025-07-30T20:33:24.291385",
     "status": "completed"
    },
    "tags": []
   },
   "outputs": [
    {
     "data": {
      "text/html": [
       "<div>\n",
       "<style scoped>\n",
       "    .dataframe tbody tr th:only-of-type {\n",
       "        vertical-align: middle;\n",
       "    }\n",
       "\n",
       "    .dataframe tbody tr th {\n",
       "        vertical-align: top;\n",
       "    }\n",
       "\n",
       "    .dataframe thead th {\n",
       "        text-align: right;\n",
       "    }\n",
       "</style>\n",
       "<table border=\"1\" class=\"dataframe\">\n",
       "  <thead>\n",
       "    <tr style=\"text-align: right;\">\n",
       "      <th></th>\n",
       "      <th>accuracy</th>\n",
       "      <th>balanced accuracy</th>\n",
       "      <th>f1</th>\n",
       "      <th>precision</th>\n",
       "      <th>false positive rate</th>\n",
       "      <th>false negative rate</th>\n",
       "      <th>selection rate</th>\n",
       "      <th>count</th>\n",
       "    </tr>\n",
       "    <tr>\n",
       "      <th>majmin</th>\n",
       "      <th></th>\n",
       "      <th></th>\n",
       "      <th></th>\n",
       "      <th></th>\n",
       "      <th></th>\n",
       "      <th></th>\n",
       "      <th></th>\n",
       "      <th></th>\n",
       "    </tr>\n",
       "  </thead>\n",
       "  <tbody>\n",
       "    <tr>\n",
       "      <th>majority</th>\n",
       "      <td>0.245728</td>\n",
       "      <td>0.560434</td>\n",
       "      <td>0.257186</td>\n",
       "      <td>0.147830</td>\n",
       "      <td>0.867316</td>\n",
       "      <td>0.011816</td>\n",
       "      <td>0.883288</td>\n",
       "      <td>69170.0</td>\n",
       "    </tr>\n",
       "    <tr>\n",
       "      <th>minority</th>\n",
       "      <td>0.156962</td>\n",
       "      <td>0.519696</td>\n",
       "      <td>0.213267</td>\n",
       "      <td>0.119489</td>\n",
       "      <td>0.951739</td>\n",
       "      <td>0.008868</td>\n",
       "      <td>0.956280</td>\n",
       "      <td>20540.0</td>\n",
       "    </tr>\n",
       "  </tbody>\n",
       "</table>\n",
       "</div>"
      ],
      "text/plain": [
       "          accuracy  balanced accuracy        f1  precision  \\\n",
       "majmin                                                       \n",
       "majority  0.245728           0.560434  0.257186   0.147830   \n",
       "minority  0.156962           0.519696  0.213267   0.119489   \n",
       "\n",
       "          false positive rate  false negative rate  selection rate    count  \n",
       "majmin                                                                       \n",
       "majority             0.867316             0.011816        0.883288  69170.0  \n",
       "minority             0.951739             0.008868        0.956280  20540.0  "
      ]
     },
     "execution_count": 75,
     "metadata": {},
     "output_type": "execute_result"
    }
   ],
   "source": [
    "metric_frame.by_group"
   ]
  },
  {
   "cell_type": "code",
   "execution_count": 76,
   "id": "a9ddbe63",
   "metadata": {
    "execution": {
     "iopub.execute_input": "2025-07-30T20:33:24.386534Z",
     "iopub.status.busy": "2025-07-30T20:33:24.385899Z",
     "iopub.status.idle": "2025-07-30T20:33:26.617806Z",
     "shell.execute_reply": "2025-07-30T20:33:26.617112Z"
    },
    "papermill": {
     "duration": 2.259542,
     "end_time": "2025-07-30T20:33:26.619793",
     "exception": false,
     "start_time": "2025-07-30T20:33:24.360251",
     "status": "completed"
    },
    "tags": []
   },
   "outputs": [
    {
     "data": {
      "text/plain": [
       "array([[<Axes: title={'center': 'accuracy'}, xlabel='majmin'>,\n",
       "        <Axes: title={'center': 'balanced accuracy'}, xlabel='majmin'>,\n",
       "        <Axes: title={'center': 'f1'}, xlabel='majmin'>],\n",
       "       [<Axes: title={'center': 'precision'}, xlabel='majmin'>,\n",
       "        <Axes: title={'center': 'false positive rate'}, xlabel='majmin'>,\n",
       "        <Axes: title={'center': 'false negative rate'}, xlabel='majmin'>],\n",
       "       [<Axes: title={'center': 'selection rate'}, xlabel='majmin'>,\n",
       "        <Axes: title={'center': 'count'}, xlabel='majmin'>,\n",
       "        <Axes: xlabel='majmin'>]], dtype=object)"
      ]
     },
     "execution_count": 76,
     "metadata": {},
     "output_type": "execute_result"
    },
    {
     "data": {
      "image/png": "[encoded data removed]",
      "text/plain": [
       "<Figure size 1200x800 with 9 Axes>"
      ]
     },
     "metadata": {},
     "output_type": "display_data"
    }
   ],
   "source": [
    "# In a graphic\n",
    "metric_frame.by_group.plot.bar(\n",
    "    subplots=True,\n",
    "    layout=[3, 3],\n",
    "    legend=False,\n",
    "    figsize=[12, 8],\n",
    "    title=\"Show all metrics\",\n",
    ")"
   ]
  },
  {
   "cell_type": "markdown",
   "id": "f57a0bac",
   "metadata": {
    "papermill": {
     "duration": 0.014702,
     "end_time": "2025-07-30T20:33:26.670040",
     "exception": false,
     "start_time": "2025-07-30T20:33:26.655338",
     "status": "completed"
    },
    "tags": []
   },
   "source": [
    "# Final Output"
   ]
  },
  {
   "cell_type": "code",
   "execution_count": 77,
   "id": "96d280a3",
   "metadata": {
    "execution": {
     "iopub.execute_input": "2025-07-30T20:33:26.729446Z",
     "iopub.status.busy": "2025-07-30T20:33:26.727472Z",
     "iopub.status.idle": "2025-07-30T20:33:26.738063Z",
     "shell.execute_reply": "2025-07-30T20:33:26.736831Z"
    },
    "papermill": {
     "duration": 0.052756,
     "end_time": "2025-07-30T20:33:26.739933",
     "exception": false,
     "start_time": "2025-07-30T20:33:26.687177",
     "status": "completed"
    },
    "tags": []
   },
   "outputs": [
    {
     "data": {
      "text/plain": [
       "4"
      ]
     },
     "execution_count": 77,
     "metadata": {},
     "output_type": "execute_result"
    }
   ],
   "source": [
    "sub_universes = universe_analysis.generate_sub_universes()\n",
    "len(sub_universes)"
   ]
  },
  {
   "cell_type": "code",
   "execution_count": 78,
   "id": "92adf7ba",
   "metadata": {
    "execution": {
     "iopub.execute_input": "2025-07-30T20:33:26.823493Z",
     "iopub.status.busy": "2025-07-30T20:33:26.822372Z",
     "iopub.status.idle": "2025-07-30T20:33:26.830564Z",
     "shell.execute_reply": "2025-07-30T20:33:26.829142Z"
    },
    "papermill": {
     "duration": 0.053838,
     "end_time": "2025-07-30T20:33:26.832820",
     "exception": false,
     "start_time": "2025-07-30T20:33:26.778982",
     "status": "completed"
    },
    "tags": []
   },
   "outputs": [],
   "source": [
    "def filter_sub_universe_data(sub_universe, org_test):\n",
    "    # Keep all rows — no filtering\n",
    "    keep_rows_mask = np.ones(org_test.shape[0], dtype=bool)\n",
    "\n",
    "    print(f\"[INFO] Keeping all rows: {keep_rows_mask.sum()} rows retained.\")\n",
    "    return keep_rows_mask"
   ]
  },
  {
   "cell_type": "code",
   "execution_count": 79,
   "id": "4a759155",
   "metadata": {
    "execution": {
     "iopub.execute_input": "2025-07-30T20:33:26.905702Z",
     "iopub.status.busy": "2025-07-30T20:33:26.904973Z",
     "iopub.status.idle": "2025-07-30T20:33:36.785298Z",
     "shell.execute_reply": "2025-07-30T20:33:36.784495Z"
    },
    "papermill": {
     "duration": 9.913863,
     "end_time": "2025-07-30T20:33:36.786586",
     "exception": false,
     "start_time": "2025-07-30T20:33:26.872723",
     "status": "completed"
    },
    "tags": []
   },
   "outputs": [
    {
     "name": "stdout",
     "output_type": "stream",
     "text": [
      "Stopping execution_time clock.\n",
      "[INFO] Keeping all rows: 89710 rows retained.\n"
     ]
    },
    {
     "name": "stdout",
     "output_type": "stream",
     "text": [
      "[INFO] Keeping all rows: 89710 rows retained.\n"
     ]
    },
    {
     "name": "stdout",
     "output_type": "stream",
     "text": [
      "[INFO] Keeping all rows: 89710 rows retained.\n"
     ]
    },
    {
     "name": "stdout",
     "output_type": "stream",
     "text": [
      "[INFO] Keeping all rows: 89710 rows retained.\n"
     ]
    },
    {
     "data": {
      "text/html": [
       "<div>\n",
       "<style scoped>\n",
       "    .dataframe tbody tr th:only-of-type {\n",
       "        vertical-align: middle;\n",
       "    }\n",
       "\n",
       "    .dataframe tbody tr th {\n",
       "        vertical-align: top;\n",
       "    }\n",
       "\n",
       "    .dataframe thead th {\n",
       "        text-align: right;\n",
       "    }\n",
       "</style>\n",
       "<table border=\"1\" class=\"dataframe\">\n",
       "  <thead>\n",
       "    <tr style=\"text-align: right;\">\n",
       "      <th></th>\n",
       "      <th>run_no</th>\n",
       "      <th>universe_id</th>\n",
       "      <th>universe_settings</th>\n",
       "      <th>execution_time</th>\n",
       "      <th>test_size_n</th>\n",
       "      <th>test_size_frac</th>\n",
       "      <th>fair_main_equalized_odds_difference</th>\n",
       "      <th>fair_main_equalized_odds_ratio</th>\n",
       "      <th>fair_main_demographic_parity_difference</th>\n",
       "      <th>fair_main_demographic_parity_ratio</th>\n",
       "      <th>...</th>\n",
       "      <th>perf_grp_precision_0</th>\n",
       "      <th>perf_grp_precision_1</th>\n",
       "      <th>perf_grp_false positive rate_0</th>\n",
       "      <th>perf_grp_false positive rate_1</th>\n",
       "      <th>perf_grp_false negative rate_0</th>\n",
       "      <th>perf_grp_false negative rate_1</th>\n",
       "      <th>perf_grp_selection rate_0</th>\n",
       "      <th>perf_grp_selection rate_1</th>\n",
       "      <th>perf_grp_count_0</th>\n",
       "      <th>perf_grp_count_1</th>\n",
       "    </tr>\n",
       "  </thead>\n",
       "  <tbody>\n",
       "    <tr>\n",
       "      <th>0</th>\n",
       "      <td>14</td>\n",
       "      <td>6777bd6df839d2ff5f30929cbb825de2</td>\n",
       "      <td>{\"cutoff\": \"quantile_0.1\", \"eval_fairness_grou...</td>\n",
       "      <td>39.182353</td>\n",
       "      <td>89710</td>\n",
       "      <td>1.0</td>\n",
       "      <td>0.084423</td>\n",
       "      <td>0.911296</td>\n",
       "      <td>0.072993</td>\n",
       "      <td>0.923670</td>\n",
       "      <td>...</td>\n",
       "      <td>NaN</td>\n",
       "      <td>NaN</td>\n",
       "      <td>NaN</td>\n",
       "      <td>NaN</td>\n",
       "      <td>NaN</td>\n",
       "      <td>NaN</td>\n",
       "      <td>NaN</td>\n",
       "      <td>NaN</td>\n",
       "      <td>NaN</td>\n",
       "      <td>NaN</td>\n",
       "    </tr>\n",
       "    <tr>\n",
       "      <th>0</th>\n",
       "      <td>14</td>\n",
       "      <td>6777bd6df839d2ff5f30929cbb825de2</td>\n",
       "      <td>{\"cutoff\": \"quantile_0.1\", \"eval_fairness_grou...</td>\n",
       "      <td>39.182353</td>\n",
       "      <td>89710</td>\n",
       "      <td>1.0</td>\n",
       "      <td>0.084423</td>\n",
       "      <td>0.911296</td>\n",
       "      <td>0.072993</td>\n",
       "      <td>0.923670</td>\n",
       "      <td>...</td>\n",
       "      <td>0.119489</td>\n",
       "      <td>0.147830</td>\n",
       "      <td>0.951739</td>\n",
       "      <td>0.867316</td>\n",
       "      <td>0.008868</td>\n",
       "      <td>0.011816</td>\n",
       "      <td>0.95628</td>\n",
       "      <td>0.883288</td>\n",
       "      <td>20540.0</td>\n",
       "      <td>69170.0</td>\n",
       "    </tr>\n",
       "    <tr>\n",
       "      <th>0</th>\n",
       "      <td>14</td>\n",
       "      <td>6777bd6df839d2ff5f30929cbb825de2</td>\n",
       "      <td>{\"cutoff\": \"quantile_0.25\", \"eval_fairness_gro...</td>\n",
       "      <td>39.182353</td>\n",
       "      <td>89710</td>\n",
       "      <td>1.0</td>\n",
       "      <td>0.154073</td>\n",
       "      <td>0.816273</td>\n",
       "      <td>0.133049</td>\n",
       "      <td>0.843946</td>\n",
       "      <td>...</td>\n",
       "      <td>NaN</td>\n",
       "      <td>NaN</td>\n",
       "      <td>NaN</td>\n",
       "      <td>NaN</td>\n",
       "      <td>NaN</td>\n",
       "      <td>NaN</td>\n",
       "      <td>NaN</td>\n",
       "      <td>NaN</td>\n",
       "      <td>NaN</td>\n",
       "      <td>NaN</td>\n",
       "    </tr>\n",
       "    <tr>\n",
       "      <th>0</th>\n",
       "      <td>14</td>\n",
       "      <td>6777bd6df839d2ff5f30929cbb825de2</td>\n",
       "      <td>{\"cutoff\": \"quantile_0.25\", \"eval_fairness_gro...</td>\n",
       "      <td>39.182353</td>\n",
       "      <td>89710</td>\n",
       "      <td>1.0</td>\n",
       "      <td>0.154073</td>\n",
       "      <td>0.816273</td>\n",
       "      <td>0.133049</td>\n",
       "      <td>0.843946</td>\n",
       "      <td>...</td>\n",
       "      <td>0.129797</td>\n",
       "      <td>0.174362</td>\n",
       "      <td>0.838598</td>\n",
       "      <td>0.684524</td>\n",
       "      <td>0.040118</td>\n",
       "      <td>0.050547</td>\n",
       "      <td>0.85258</td>\n",
       "      <td>0.719532</td>\n",
       "      <td>20540.0</td>\n",
       "      <td>69170.0</td>\n",
       "    </tr>\n",
       "  </tbody>\n",
       "</table>\n",
       "<p>4 rows × 50 columns</p>\n",
       "</div>"
      ],
      "text/plain": [
       "  run_no                       universe_id  \\\n",
       "0     14  6777bd6df839d2ff5f30929cbb825de2   \n",
       "0     14  6777bd6df839d2ff5f30929cbb825de2   \n",
       "0     14  6777bd6df839d2ff5f30929cbb825de2   \n",
       "0     14  6777bd6df839d2ff5f30929cbb825de2   \n",
       "\n",
       "                                   universe_settings  execution_time  \\\n",
       "0  {\"cutoff\": \"quantile_0.1\", \"eval_fairness_grou...       39.182353   \n",
       "0  {\"cutoff\": \"quantile_0.1\", \"eval_fairness_grou...       39.182353   \n",
       "0  {\"cutoff\": \"quantile_0.25\", \"eval_fairness_gro...       39.182353   \n",
       "0  {\"cutoff\": \"quantile_0.25\", \"eval_fairness_gro...       39.182353   \n",
       "\n",
       "   test_size_n  test_size_frac  fair_main_equalized_odds_difference  \\\n",
       "0        89710             1.0                             0.084423   \n",
       "0        89710             1.0                             0.084423   \n",
       "0        89710             1.0                             0.154073   \n",
       "0        89710             1.0                             0.154073   \n",
       "\n",
       "   fair_main_equalized_odds_ratio  fair_main_demographic_parity_difference  \\\n",
       "0                        0.911296                                 0.072993   \n",
       "0                        0.911296                                 0.072993   \n",
       "0                        0.816273                                 0.133049   \n",
       "0                        0.816273                                 0.133049   \n",
       "\n",
       "   fair_main_demographic_parity_ratio  ...  perf_grp_precision_0  \\\n",
       "0                            0.923670  ...                   NaN   \n",
       "0                            0.923670  ...              0.119489   \n",
       "0                            0.843946  ...                   NaN   \n",
       "0                            0.843946  ...              0.129797   \n",
       "\n",
       "   perf_grp_precision_1  perf_grp_false positive rate_0  \\\n",
       "0                   NaN                             NaN   \n",
       "0              0.147830                        0.951739   \n",
       "0                   NaN                             NaN   \n",
       "0              0.174362                        0.838598   \n",
       "\n",
       "   perf_grp_false positive rate_1  perf_grp_false negative rate_0  \\\n",
       "0                             NaN                             NaN   \n",
       "0                        0.867316                        0.008868   \n",
       "0                             NaN                             NaN   \n",
       "0                        0.684524                        0.040118   \n",
       "\n",
       "   perf_grp_false negative rate_1  perf_grp_selection rate_0  \\\n",
       "0                             NaN                        NaN   \n",
       "0                        0.011816                    0.95628   \n",
       "0                             NaN                        NaN   \n",
       "0                        0.050547                    0.85258   \n",
       "\n",
       "   perf_grp_selection rate_1  perf_grp_count_0  perf_grp_count_1  \n",
       "0                        NaN               NaN               NaN  \n",
       "0                   0.883288           20540.0           69170.0  \n",
       "0                        NaN               NaN               NaN  \n",
       "0                   0.719532           20540.0           69170.0  \n",
       "\n",
       "[4 rows x 50 columns]"
      ]
     },
     "execution_count": 79,
     "metadata": {},
     "output_type": "execute_result"
    }
   ],
   "source": [
    "final_output = universe_analysis.generate_final_output(\n",
    "    y_pred_prob=probs_test,\n",
    "    y_test=y_true,\n",
    "    org_test=org_test,\n",
    "    filter_data=filter_sub_universe_data,\n",
    "    cp_metrics_df=cp_metrics_df,\n",
    "    save=True,\n",
    ")\n",
    "final_output"
   ]
  },
  {
   "cell_type": "code",
   "execution_count": null,
   "id": "721ff514-cb11-46f8-b6fc-50392f74b5cb",
   "metadata": {
    "papermill": {
     "duration": 0.036078,
     "end_time": "2025-07-30T20:33:36.840836",
     "exception": false,
     "start_time": "2025-07-30T20:33:36.804758",
     "status": "completed"
    },
    "tags": []
   },
   "outputs": [],
   "source": []
  }
 ],
 "metadata": {
  "celltoolbar": "Tags",
  "kernelspec": {
   "display_name": "Python (CMA Fairness)",
   "language": "python",
   "name": "cma_fair_env"
  },
  "language_info": {
   "codemirror_mode": {
    "name": "ipython",
    "version": 3
   },
   "file_extension": ".py",
   "mimetype": "text/x-python",
   "name": "python",
   "nbconvert_exporter": "python",
   "pygments_lexer": "ipython3",
   "version": "3.10.12"
  },
  "papermill": {
   "default_parameters": {},
   "duration": 53.152694,
   "end_time": "2025-07-30T20:33:37.601818",
   "environment_variables": {},
   "exception": null,
   "input_path": "universe_analysis.ipynb",
   "output_path": "output/runs/14/notebooks/m_14-6777bd6df839d2ff5f30929cbb825de2.ipynb",
   "parameters": {
    "output_dir": "output",
    "run_no": "14",
    "seed": "2023",
    "universe": "{\"cutoff\": [\"quantile_0.1\", \"quantile_0.25\"], \"eval_fairness_grouping\": [\"majority-minority\", \"nationality-all\"], \"exclude_features\": \"nationality-sex\", \"exclude_subgroups\": \"drop-non-german\", \"model\": \"elasticnet\", \"scale\": \"scale\", \"training_size\": \"25k\", \"training_year\": \"2010_14\"}",
    "universe_id": "6777bd6df839d2ff5f30929cbb825de2"
   },
   "start_time": "2025-07-30T20:32:44.449124",
   "version": "2.6.0"
  }
 },
 "nbformat": 4,
 "nbformat_minor": 5
}