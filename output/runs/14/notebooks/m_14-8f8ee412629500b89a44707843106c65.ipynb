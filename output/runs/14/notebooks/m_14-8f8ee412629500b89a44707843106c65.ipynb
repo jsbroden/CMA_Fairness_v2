{
 "cells": [
  {
   "cell_type": "code",
   "execution_count": 1,
   "id": "f159f837-637b-42ba-96b5-ec9a68c44524",
   "metadata": {
    "execution": {
     "iopub.execute_input": "2025-07-30T21:01:42.645646Z",
     "iopub.status.busy": "2025-07-30T21:01:42.645251Z",
     "iopub.status.idle": "2025-07-30T21:01:42.658621Z",
     "shell.execute_reply": "2025-07-30T21:01:42.657758Z"
    },
    "papermill": {
     "duration": 0.030168,
     "end_time": "2025-07-30T21:01:42.660412",
     "exception": false,
     "start_time": "2025-07-30T21:01:42.630244",
     "status": "completed"
    },
    "tags": []
   },
   "outputs": [
    {
     "name": "stdout",
     "output_type": "stream",
     "text": [
      "/dss/dsshome1/0C/ra93lal2/cma/CMA_Fairness_v2\n"
     ]
    },
    {
     "name": "stderr",
     "output_type": "stream",
     "text": [
      "/dss/dsshome1/0C/ra93lal2/.local/share/virtualenvs/CMA_Fairness_v2-3j10GkSs/lib/python3.10/site-packages/IPython/core/magics/osm.py:393: UserWarning: This is now an optional IPython functionality, using bookmarks requires you to install the `pickleshare` library.\n",
      "  bkms = self.shell.db.get('bookmarks', {})\n",
      "/dss/dsshome1/0C/ra93lal2/.local/share/virtualenvs/CMA_Fairness_v2-3j10GkSs/lib/python3.10/site-packages/IPython/core/magics/osm.py:417: UserWarning: This is now an optional IPython functionality, setting dhist requires you to install the `pickleshare` library.\n",
      "  self.shell.db['dhist'] = compress_dhist(dhist)[-100:]\n"
     ]
    }
   ],
   "source": [
    "%cd ~/cma/CMA_Fairness_v2"
   ]
  },
  {
   "cell_type": "markdown",
   "id": "de2603b9",
   "metadata": {
    "papermill": {
     "duration": 0.020482,
     "end_time": "2025-07-30T21:01:42.702419",
     "exception": false,
     "start_time": "2025-07-30T21:01:42.681937",
     "status": "completed"
    },
    "tags": []
   },
   "source": [
    "The following cell holds the definition of our parameters, these values can be overriden by rendering the with e.g. the following command:\n",
    "\n",
    "papermill -p alpha 0.2 -p ratio 0.3 universe_analysis.ipynb output/test_run.ipynb"
   ]
  },
  {
   "cell_type": "code",
   "execution_count": 2,
   "id": "a80968a0-40bb-4fa9-85ef-2d5eefb01975",
   "metadata": {
    "execution": {
     "iopub.execute_input": "2025-07-30T21:01:42.745161Z",
     "iopub.status.busy": "2025-07-30T21:01:42.744520Z",
     "iopub.status.idle": "2025-07-30T21:01:42.750022Z",
     "shell.execute_reply": "2025-07-30T21:01:42.749148Z"
    },
    "papermill": {
     "duration": 0.029084,
     "end_time": "2025-07-30T21:01:42.751767",
     "exception": false,
     "start_time": "2025-07-30T21:01:42.722683",
     "status": "completed"
    },
    "tags": []
   },
   "outputs": [
    {
     "name": "stdout",
     "output_type": "stream",
     "text": [
      "Current working directory: /dss/dsshome1/0C/ra93lal2/cma/CMA_Fairness_v2\n"
     ]
    }
   ],
   "source": [
    "import os\n",
    "print(\"Current working directory:\", os.getcwd())"
   ]
  },
  {
   "cell_type": "code",
   "execution_count": 3,
   "id": "2dce4c03",
   "metadata": {
    "execution": {
     "iopub.execute_input": "2025-07-30T21:01:42.796497Z",
     "iopub.status.busy": "2025-07-30T21:01:42.795817Z",
     "iopub.status.idle": "2025-07-30T21:01:42.801989Z",
     "shell.execute_reply": "2025-07-30T21:01:42.800993Z"
    },
    "papermill": {
     "duration": 0.029851,
     "end_time": "2025-07-30T21:01:42.803691",
     "exception": false,
     "start_time": "2025-07-30T21:01:42.773840",
     "status": "completed"
    },
    "tags": [
     "parameters"
    ]
   },
   "outputs": [],
   "source": [
    "run_no = 0\n",
    "universe_id = \"test\"\n",
    "universe = {\n",
    "    \"training_size\": \"25k\", # \"25k\", \"5k\", \"1k\"\n",
    "    \"training_year\": \"2014\", # \"2014\", \"2012_14\", \"2010_14\"\n",
    "    \"scale\": \"scale\", # \"scale\", \"do-not-scale\",\n",
    "    #\"stratify_split\": \"target\", # \"none\", \"target\", \"protected-attribute\", \"both\",\n",
    "    \"model\": \"elasticnet\", # \"logreg\", \"penalized_logreg\", \"rf\", \"gbm\", \"elasticnet\"\n",
    "    \"cutoff\": [\"quantile_0.15\", \"quantile_0.30\"],\n",
    "    \"exclude_features\": \"age\", # \"none\", \"nationality\", \"sex\", \"nationality-sex\", \"age\"\n",
    "    \"exclude_subgroups\": \"keep-all\", # \"keep-all\", \"drop-non-german\"\n",
    "    \"eval_fairness_grouping\": [\"majority-minority\", \"nationality-all\"]\n",
    "}\n",
    "\n",
    "output_dir=\"./output\"\n",
    "seed=0"
   ]
  },
  {
   "cell_type": "code",
   "execution_count": 4,
   "id": "5630f3f6",
   "metadata": {
    "execution": {
     "iopub.execute_input": "2025-07-30T21:01:42.848643Z",
     "iopub.status.busy": "2025-07-30T21:01:42.847998Z",
     "iopub.status.idle": "2025-07-30T21:01:42.853406Z",
     "shell.execute_reply": "2025-07-30T21:01:42.852507Z"
    },
    "papermill": {
     "duration": 0.029284,
     "end_time": "2025-07-30T21:01:42.855085",
     "exception": false,
     "start_time": "2025-07-30T21:01:42.825801",
     "status": "completed"
    },
    "tags": [
     "injected-parameters"
    ]
   },
   "outputs": [],
   "source": [
    "# Parameters\n",
    "universe_id = \"8f8ee412629500b89a44707843106c65\"\n",
    "run_no = \"14\"\n",
    "universe = \"{\\\"cutoff\\\": [\\\"quantile_0.1\\\", \\\"quantile_0.25\\\"], \\\"eval_fairness_grouping\\\": [\\\"majority-minority\\\", \\\"nationality-all\\\"], \\\"exclude_features\\\": \\\"nationality\\\", \\\"exclude_subgroups\\\": \\\"drop-non-german\\\", \\\"model\\\": \\\"elasticnet\\\", \\\"scale\\\": \\\"scale\\\", \\\"training_size\\\": \\\"5k\\\", \\\"training_year\\\": \\\"2012_14\\\"}\"\n",
    "output_dir = \"output\"\n",
    "seed = \"2023\"\n"
   ]
  },
  {
   "cell_type": "code",
   "execution_count": 5,
   "id": "1650acaf",
   "metadata": {
    "execution": {
     "iopub.execute_input": "2025-07-30T21:01:42.899632Z",
     "iopub.status.busy": "2025-07-30T21:01:42.898990Z",
     "iopub.status.idle": "2025-07-30T21:01:42.903929Z",
     "shell.execute_reply": "2025-07-30T21:01:42.902936Z"
    },
    "papermill": {
     "duration": 0.028595,
     "end_time": "2025-07-30T21:01:42.905584",
     "exception": false,
     "start_time": "2025-07-30T21:01:42.876989",
     "status": "completed"
    },
    "tags": []
   },
   "outputs": [],
   "source": [
    "import json\n",
    "# Parse universe into dict if it is passed as a string\n",
    "if isinstance(universe, str):\n",
    "    universe = json.loads(universe)"
   ]
  },
  {
   "cell_type": "code",
   "execution_count": 6,
   "id": "16620c48",
   "metadata": {
    "execution": {
     "iopub.execute_input": "2025-07-30T21:01:42.949895Z",
     "iopub.status.busy": "2025-07-30T21:01:42.949264Z",
     "iopub.status.idle": "2025-07-30T21:01:42.991922Z",
     "shell.execute_reply": "2025-07-30T21:01:42.991083Z"
    },
    "papermill": {
     "duration": 0.066599,
     "end_time": "2025-07-30T21:01:42.993684",
     "exception": false,
     "start_time": "2025-07-30T21:01:42.927085",
     "status": "completed"
    },
    "tags": []
   },
   "outputs": [],
   "source": [
    "# Auto-reload the custom package\n",
    "%load_ext autoreload\n",
    "%autoreload 1\n",
    "%aimport fairness_multiverse"
   ]
  },
  {
   "cell_type": "code",
   "execution_count": 7,
   "id": "01c5c9f3",
   "metadata": {
    "execution": {
     "iopub.execute_input": "2025-07-30T21:01:43.038857Z",
     "iopub.status.busy": "2025-07-30T21:01:43.038055Z",
     "iopub.status.idle": "2025-07-30T21:01:45.022949Z",
     "shell.execute_reply": "2025-07-30T21:01:45.021993Z"
    },
    "papermill": {
     "duration": 2.009527,
     "end_time": "2025-07-30T21:01:45.024810",
     "exception": false,
     "start_time": "2025-07-30T21:01:43.015283",
     "status": "completed"
    },
    "tags": []
   },
   "outputs": [],
   "source": [
    "from fairness_multiverse.universe import UniverseAnalysis\n",
    "\n",
    "universe_analysis = UniverseAnalysis(\n",
    "    run_no = run_no,\n",
    "    universe_id = universe_id,\n",
    "    universe = universe,\n",
    "    output_dir=output_dir,\n",
    ")"
   ]
  },
  {
   "cell_type": "code",
   "execution_count": 8,
   "id": "106241f5",
   "metadata": {
    "execution": {
     "iopub.execute_input": "2025-07-30T21:01:45.065554Z",
     "iopub.status.busy": "2025-07-30T21:01:45.065196Z",
     "iopub.status.idle": "2025-07-30T21:01:45.071499Z",
     "shell.execute_reply": "2025-07-30T21:01:45.070586Z"
    },
    "papermill": {
     "duration": 0.02709,
     "end_time": "2025-07-30T21:01:45.072940",
     "exception": false,
     "start_time": "2025-07-30T21:01:45.045850",
     "status": "completed"
    },
    "tags": []
   },
   "outputs": [
    {
     "name": "stdout",
     "output_type": "stream",
     "text": [
      "Using Seed: 2023\n"
     ]
    }
   ],
   "source": [
    "import numpy as np\n",
    "parsed_seed = int(seed)\n",
    "np.random.seed(parsed_seed)\n",
    "print(f\"Using Seed: {parsed_seed}\")"
   ]
  },
  {
   "cell_type": "markdown",
   "id": "e0ebdc57",
   "metadata": {
    "papermill": {
     "duration": 0.018412,
     "end_time": "2025-07-30T21:01:45.110662",
     "exception": false,
     "start_time": "2025-07-30T21:01:45.092250",
     "status": "completed"
    },
    "tags": []
   },
   "source": [
    "# Loading Data"
   ]
  },
  {
   "cell_type": "markdown",
   "id": "681925a3",
   "metadata": {
    "papermill": {
     "duration": 0.018027,
     "end_time": "2025-07-30T21:01:45.147350",
     "exception": false,
     "start_time": "2025-07-30T21:01:45.129323",
     "status": "completed"
    },
    "tags": []
   },
   "source": [
    "Load siab_train, siab_test, siab_calib and/or \n",
    "load siab_train_features, siab_train_labels"
   ]
  },
  {
   "cell_type": "code",
   "execution_count": 9,
   "id": "f0496b8a",
   "metadata": {
    "execution": {
     "iopub.execute_input": "2025-07-30T21:01:45.186634Z",
     "iopub.status.busy": "2025-07-30T21:01:45.185898Z",
     "iopub.status.idle": "2025-07-30T21:01:55.993113Z",
     "shell.execute_reply": "2025-07-30T21:01:55.991979Z"
    },
    "papermill": {
     "duration": 10.828739,
     "end_time": "2025-07-30T21:01:55.994817",
     "exception": false,
     "start_time": "2025-07-30T21:01:45.166078",
     "status": "completed"
    },
    "tags": []
   },
   "outputs": [
    {
     "name": "stdout",
     "output_type": "stream",
     "text": [
      "Loading SIAB data from cache: data/siab_cached.csv.gz\n"
     ]
    },
    {
     "name": "stdout",
     "output_type": "stream",
     "text": [
      "(643690, 164)\n"
     ]
    }
   ],
   "source": [
    "from pathlib import Path\n",
    "import pandas as pd\n",
    "\n",
    "# File paths\n",
    "raw_file = Path(\"data/raw/siab.csv\")\n",
    "cache_file = Path(\"data/siab_cached.csv.gz\")\n",
    "\n",
    "# Ensure cache directory exists\n",
    "cache_file.parent.mkdir(parents=True, exist_ok=True)\n",
    "\n",
    "# Load with simple caching\n",
    "if cache_file.exists():\n",
    "    print(f\"Loading SIAB data from cache: {cache_file}\")\n",
    "    siab = pd.read_csv(cache_file, compression='gzip')\n",
    "else:\n",
    "    print(f\"Cache not found. Reading raw SIAB data: {raw_file}\")\n",
    "    siab = pd.read_csv(raw_file)\n",
    "    siab.to_csv(cache_file, index=False, compression='gzip')\n",
    "    print(f\"Cached SIAB data to: {cache_file}\")\n",
    "\n",
    "# Now use `siab` DataFrame as needed\n",
    "print(siab.shape)"
   ]
  },
  {
   "cell_type": "code",
   "execution_count": 10,
   "id": "db0ca512-5f53-4dba-abdb-a2888bca41ba",
   "metadata": {
    "execution": {
     "iopub.execute_input": "2025-07-30T21:01:56.040683Z",
     "iopub.status.busy": "2025-07-30T21:01:56.039984Z",
     "iopub.status.idle": "2025-07-30T21:01:56.045576Z",
     "shell.execute_reply": "2025-07-30T21:01:56.044691Z"
    },
    "papermill": {
     "duration": 0.030102,
     "end_time": "2025-07-30T21:01:56.046938",
     "exception": false,
     "start_time": "2025-07-30T21:01:56.016836",
     "status": "completed"
    },
    "tags": []
   },
   "outputs": [],
   "source": [
    "#siab"
   ]
  },
  {
   "cell_type": "code",
   "execution_count": 11,
   "id": "a0edb063",
   "metadata": {
    "execution": {
     "iopub.execute_input": "2025-07-30T21:01:56.087599Z",
     "iopub.status.busy": "2025-07-30T21:01:56.086742Z",
     "iopub.status.idle": "2025-07-30T21:01:56.091601Z",
     "shell.execute_reply": "2025-07-30T21:01:56.090792Z"
    },
    "papermill": {
     "duration": 0.026189,
     "end_time": "2025-07-30T21:01:56.093402",
     "exception": false,
     "start_time": "2025-07-30T21:01:56.067213",
     "status": "completed"
    },
    "tags": []
   },
   "outputs": [],
   "source": [
    "#import pandas as pd\n",
    "#\n",
    "#X_train = pd.read_csv(\"./data/X_train.csv\")\n",
    "#y_train = pd.read_csv(\"./data/y_train.csv\")"
   ]
  },
  {
   "cell_type": "code",
   "execution_count": 12,
   "id": "63d08085",
   "metadata": {
    "execution": {
     "iopub.execute_input": "2025-07-30T21:01:56.134102Z",
     "iopub.status.busy": "2025-07-30T21:01:56.133494Z",
     "iopub.status.idle": "2025-07-30T21:01:56.137960Z",
     "shell.execute_reply": "2025-07-30T21:01:56.137119Z"
    },
    "papermill": {
     "duration": 0.025712,
     "end_time": "2025-07-30T21:01:56.139595",
     "exception": false,
     "start_time": "2025-07-30T21:01:56.113883",
     "status": "completed"
    },
    "tags": []
   },
   "outputs": [],
   "source": [
    "#X_test = pd.read_csv(\"./data/X_test.csv\")\n",
    "#y_true = pd.read_csv(\"./data/y_test.csv\")"
   ]
  },
  {
   "cell_type": "code",
   "execution_count": 13,
   "id": "98a8d0fa-1d3d-4ed8-bb2c-281470e24add",
   "metadata": {
    "execution": {
     "iopub.execute_input": "2025-07-30T21:01:56.180620Z",
     "iopub.status.busy": "2025-07-30T21:01:56.180194Z",
     "iopub.status.idle": "2025-07-30T21:01:56.184890Z",
     "shell.execute_reply": "2025-07-30T21:01:56.184059Z"
    },
    "papermill": {
     "duration": 0.025881,
     "end_time": "2025-07-30T21:01:56.186309",
     "exception": false,
     "start_time": "2025-07-30T21:01:56.160428",
     "status": "completed"
    },
    "tags": []
   },
   "outputs": [],
   "source": [
    "# Calibration data for conformal\n",
    "#X_calib = pd.read_csv(\"./data/X_calib.csv\")\n",
    "#y_calib = pd.read_csv(\"./data/y_calib.csv\")"
   ]
  },
  {
   "cell_type": "markdown",
   "id": "997051c5-15bd-4b69-9786-c3001a3ce484",
   "metadata": {
    "papermill": {
     "duration": 0.018917,
     "end_time": "2025-07-30T21:01:56.225150",
     "exception": false,
     "start_time": "2025-07-30T21:01:56.206233",
     "status": "completed"
    },
    "tags": []
   },
   "source": [
    "# Splitting Data and Setting Training Data Size"
   ]
  },
  {
   "cell_type": "code",
   "execution_count": 14,
   "id": "e993b61f-042d-41a6-8c81-f55681f86335",
   "metadata": {
    "execution": {
     "iopub.execute_input": "2025-07-30T21:01:56.265860Z",
     "iopub.status.busy": "2025-07-30T21:01:56.264949Z",
     "iopub.status.idle": "2025-07-30T21:01:56.278462Z",
     "shell.execute_reply": "2025-07-30T21:01:56.277634Z"
    },
    "papermill": {
     "duration": 0.035926,
     "end_time": "2025-07-30T21:01:56.279899",
     "exception": false,
     "start_time": "2025-07-30T21:01:56.243973",
     "status": "completed"
    },
    "tags": []
   },
   "outputs": [],
   "source": [
    "def sample_by_year_size(df,\n",
    "                        training_year: str,\n",
    "                        training_size: str,\n",
    "                        random_state: int = 42):\n",
    "    # --- parse training_year into a list of int years ---\n",
    "    if \"_\" in training_year:\n",
    "        start_str, end_str = training_year.split(\"_\", 1)\n",
    "        start = int(start_str)\n",
    "        end   = int(end_str) if len(end_str) == 4 else (int(end_str) + (start // 100)*100)\n",
    "        years = list(range(start, end + 1))\n",
    "    else:\n",
    "        years = [int(training_year)]\n",
    "\n",
    "    df = df[df[\"year\"].isin(years)].reset_index(drop=True)\n",
    "\n",
    "    # --- map training_size to total number of samples ---\n",
    "    total_map = {\"25k\": 25_000, \"5k\": 5_000, \"1k\": 1_000}\n",
    "    if training_size not in total_map:\n",
    "        return df  # e.g. \"all\"\n",
    "\n",
    "    total_samples = total_map[training_size]\n",
    "    n_years       = len(years)\n",
    "    base          = total_samples // n_years\n",
    "    remainder     = total_samples % n_years\n",
    "\n",
    "    # --- build a dict: year -> how many to sample ---\n",
    "    # give +1 to the first `remainder` years in ascending order\n",
    "    quotas = {\n",
    "        year: base + (1 if idx < remainder else 0)\n",
    "        for idx, year in enumerate(sorted(years))\n",
    "    }\n",
    "\n",
    "    # --- sample per‐year according to the quota dict ---\n",
    "    sampled = (\n",
    "        df\n",
    "        .groupby(\"year\", group_keys=False)\n",
    "        .apply(lambda grp: grp.sample(\n",
    "            n=min(len(grp), quotas[grp.name]),\n",
    "            random_state=random_state))\n",
    "        .reset_index(drop=True)\n",
    "    )\n",
    "\n",
    "    return sampled"
   ]
  },
  {
   "cell_type": "code",
   "execution_count": 15,
   "id": "c0ccd338-0e02-41f3-a09d-f56f9266e3fb",
   "metadata": {
    "execution": {
     "iopub.execute_input": "2025-07-30T21:01:56.321177Z",
     "iopub.status.busy": "2025-07-30T21:01:56.320543Z",
     "iopub.status.idle": "2025-07-30T21:01:56.325275Z",
     "shell.execute_reply": "2025-07-30T21:01:56.324436Z"
    },
    "papermill": {
     "duration": 0.027047,
     "end_time": "2025-07-30T21:01:56.326944",
     "exception": false,
     "start_time": "2025-07-30T21:01:56.299897",
     "status": "completed"
    },
    "tags": []
   },
   "outputs": [],
   "source": [
    "#universe[\"training_size\"]"
   ]
  },
  {
   "cell_type": "code",
   "execution_count": 16,
   "id": "ca707fd7-8047-4acd-bfa5-66248fbbf8e6",
   "metadata": {
    "execution": {
     "iopub.execute_input": "2025-07-30T21:01:56.367817Z",
     "iopub.status.busy": "2025-07-30T21:01:56.367438Z",
     "iopub.status.idle": "2025-07-30T21:01:56.372739Z",
     "shell.execute_reply": "2025-07-30T21:01:56.371746Z"
    },
    "papermill": {
     "duration": 0.027717,
     "end_time": "2025-07-30T21:01:56.374622",
     "exception": false,
     "start_time": "2025-07-30T21:01:56.346905",
     "status": "completed"
    },
    "tags": []
   },
   "outputs": [],
   "source": [
    "#universe[\"training_year\"]"
   ]
  },
  {
   "cell_type": "code",
   "execution_count": 17,
   "id": "aea9c6ef-6f46-42c8-85eb-5a62025c1508",
   "metadata": {
    "execution": {
     "iopub.execute_input": "2025-07-30T21:01:56.416708Z",
     "iopub.status.busy": "2025-07-30T21:01:56.416232Z",
     "iopub.status.idle": "2025-07-30T21:01:57.024272Z",
     "shell.execute_reply": "2025-07-30T21:01:57.023289Z"
    },
    "papermill": {
     "duration": 0.629847,
     "end_time": "2025-07-30T21:01:57.026174",
     "exception": false,
     "start_time": "2025-07-30T21:01:56.396327",
     "status": "completed"
    },
    "tags": []
   },
   "outputs": [],
   "source": [
    "siab_train = sample_by_year_size(siab,\n",
    "                               training_year=universe[\"training_year\"],\n",
    "                               training_size=universe[\"training_size\"])"
   ]
  },
  {
   "cell_type": "code",
   "execution_count": 18,
   "id": "8d3afb32-789d-442c-8d5d-9f5aa8dd2eed",
   "metadata": {
    "execution": {
     "iopub.execute_input": "2025-07-30T21:01:57.067328Z",
     "iopub.status.busy": "2025-07-30T21:01:57.066784Z",
     "iopub.status.idle": "2025-07-30T21:01:57.072010Z",
     "shell.execute_reply": "2025-07-30T21:01:57.071200Z"
    },
    "papermill": {
     "duration": 0.027229,
     "end_time": "2025-07-30T21:01:57.073707",
     "exception": false,
     "start_time": "2025-07-30T21:01:57.046478",
     "status": "completed"
    },
    "tags": []
   },
   "outputs": [],
   "source": [
    "#siab_train.shape"
   ]
  },
  {
   "cell_type": "code",
   "execution_count": 19,
   "id": "d582db68-1a4c-47fb-84fc-08518dc1975a",
   "metadata": {
    "execution": {
     "iopub.execute_input": "2025-07-30T21:01:57.121745Z",
     "iopub.status.busy": "2025-07-30T21:01:57.121267Z",
     "iopub.status.idle": "2025-07-30T21:01:57.125717Z",
     "shell.execute_reply": "2025-07-30T21:01:57.124922Z"
    },
    "papermill": {
     "duration": 0.027252,
     "end_time": "2025-07-30T21:01:57.127526",
     "exception": false,
     "start_time": "2025-07-30T21:01:57.100274",
     "status": "completed"
    },
    "tags": []
   },
   "outputs": [],
   "source": [
    "#display(siab_train.groupby(\"year\").size())"
   ]
  },
  {
   "cell_type": "code",
   "execution_count": 20,
   "id": "a561edb4-d032-42cb-8256-22eac1111c64",
   "metadata": {
    "execution": {
     "iopub.execute_input": "2025-07-30T21:01:57.170478Z",
     "iopub.status.busy": "2025-07-30T21:01:57.170105Z",
     "iopub.status.idle": "2025-07-30T21:01:57.402352Z",
     "shell.execute_reply": "2025-07-30T21:01:57.401422Z"
    },
    "papermill": {
     "duration": 0.254911,
     "end_time": "2025-07-30T21:01:57.403889",
     "exception": false,
     "start_time": "2025-07-30T21:01:57.148978",
     "status": "completed"
    },
    "tags": []
   },
   "outputs": [],
   "source": [
    "#siab_train = siab_s[siab_s.year < 2015]\n",
    "siab_calib = siab[siab.year == 2015]\n",
    "siab_test = siab[siab.year == 2016]"
   ]
  },
  {
   "cell_type": "code",
   "execution_count": 21,
   "id": "472de16f-c3db-4916-846b-1f0de9cf1746",
   "metadata": {
    "execution": {
     "iopub.execute_input": "2025-07-30T21:01:57.448978Z",
     "iopub.status.busy": "2025-07-30T21:01:57.448337Z",
     "iopub.status.idle": "2025-07-30T21:01:57.458382Z",
     "shell.execute_reply": "2025-07-30T21:01:57.457318Z"
    },
    "papermill": {
     "duration": 0.033844,
     "end_time": "2025-07-30T21:01:57.460001",
     "exception": false,
     "start_time": "2025-07-30T21:01:57.426157",
     "status": "completed"
    },
    "tags": []
   },
   "outputs": [],
   "source": [
    "X_train = siab_train.iloc[:,4:164]\n",
    "y_train = siab_train.iloc[:, [3]]"
   ]
  },
  {
   "cell_type": "code",
   "execution_count": 22,
   "id": "828c96af-f43a-4ed6-ba47-8ac73a47d56c",
   "metadata": {
    "execution": {
     "iopub.execute_input": "2025-07-30T21:01:57.507577Z",
     "iopub.status.busy": "2025-07-30T21:01:57.506366Z",
     "iopub.status.idle": "2025-07-30T21:01:57.565264Z",
     "shell.execute_reply": "2025-07-30T21:01:57.563855Z"
    },
    "papermill": {
     "duration": 0.092685,
     "end_time": "2025-07-30T21:01:57.566789",
     "exception": false,
     "start_time": "2025-07-30T21:01:57.474104",
     "status": "completed"
    },
    "tags": []
   },
   "outputs": [],
   "source": [
    "X_calib = siab_calib.iloc[:,4:164]\n",
    "y_calib = siab_calib.iloc[:, [3]]"
   ]
  },
  {
   "cell_type": "code",
   "execution_count": 23,
   "id": "c34be9c3-6bd6-476e-acd3-845840e303be",
   "metadata": {
    "execution": {
     "iopub.execute_input": "2025-07-30T21:01:57.593968Z",
     "iopub.status.busy": "2025-07-30T21:01:57.593325Z",
     "iopub.status.idle": "2025-07-30T21:01:57.644336Z",
     "shell.execute_reply": "2025-07-30T21:01:57.643552Z"
    },
    "papermill": {
     "duration": 0.065138,
     "end_time": "2025-07-30T21:01:57.646028",
     "exception": false,
     "start_time": "2025-07-30T21:01:57.580890",
     "status": "completed"
    },
    "tags": []
   },
   "outputs": [],
   "source": [
    "X_test = siab_test.iloc[:,4:164]\n",
    "y_true = siab_test.iloc[:, [3]]"
   ]
  },
  {
   "cell_type": "markdown",
   "id": "9901737e-04df-44f0-9100-f5ad144ed040",
   "metadata": {
    "papermill": {
     "duration": 0.010901,
     "end_time": "2025-07-30T21:01:57.669441",
     "exception": false,
     "start_time": "2025-07-30T21:01:57.658540",
     "status": "completed"
    },
    "tags": []
   },
   "source": [
    "# Splitting Data and Setting Training Data Size OLD VERSION"
   ]
  },
  {
   "cell_type": "code",
   "execution_count": 24,
   "id": "acbc8f7d-8fc8-4e86-8c59-5dcb0f58384b",
   "metadata": {
    "execution": {
     "iopub.execute_input": "2025-07-30T21:01:57.693668Z",
     "iopub.status.busy": "2025-07-30T21:01:57.693172Z",
     "iopub.status.idle": "2025-07-30T21:01:57.697880Z",
     "shell.execute_reply": "2025-07-30T21:01:57.697223Z"
    },
    "papermill": {
     "duration": 0.018377,
     "end_time": "2025-07-30T21:01:57.699244",
     "exception": false,
     "start_time": "2025-07-30T21:01:57.680867",
     "status": "completed"
    },
    "tags": []
   },
   "outputs": [],
   "source": [
    "#def sample_by_year(df, training_size, random_state=42):\n",
    "#    if training_size == \"2014\":\n",
    "#        return df[df[\"year\"] == 2014].reset_index(drop=True)\n",
    "#    \n",
    "#    size_map = {\n",
    "#        \"25k\": 5000,\n",
    "#        \"5k\": 1000,\n",
    "#        \"1k\": 200\n",
    "#    }\n",
    "#\n",
    "#    if training_size not in size_map:\n",
    "#        return df.reset_index(drop=True)  # use all data\n",
    "#\n",
    "#    n_per_year = size_map[training_size]\n",
    "#    grouped = df.groupby(\"year\")\n",
    "#    sampled = grouped.apply(lambda x: x.sample(n=min(n_per_year, len(x)), random_state=random_state))\n",
    "#    return sampled.reset_index(drop=True)"
   ]
  },
  {
   "cell_type": "code",
   "execution_count": 25,
   "id": "6d931f52-beaf-43ff-9e78-9d44a448d54e",
   "metadata": {
    "execution": {
     "iopub.execute_input": "2025-07-30T21:01:57.723903Z",
     "iopub.status.busy": "2025-07-30T21:01:57.723179Z",
     "iopub.status.idle": "2025-07-30T21:01:57.727606Z",
     "shell.execute_reply": "2025-07-30T21:01:57.726926Z"
    },
    "papermill": {
     "duration": 0.017869,
     "end_time": "2025-07-30T21:01:57.729044",
     "exception": false,
     "start_time": "2025-07-30T21:01:57.711175",
     "status": "completed"
    },
    "tags": []
   },
   "outputs": [],
   "source": [
    "#siab_s = sample_by_year(siab, universe[\"training_size\"])"
   ]
  },
  {
   "cell_type": "code",
   "execution_count": 26,
   "id": "5db0a40e-a4e2-4920-be85-b12ae061d70d",
   "metadata": {
    "execution": {
     "iopub.execute_input": "2025-07-30T21:01:57.753814Z",
     "iopub.status.busy": "2025-07-30T21:01:57.753280Z",
     "iopub.status.idle": "2025-07-30T21:01:57.757919Z",
     "shell.execute_reply": "2025-07-30T21:01:57.757223Z"
    },
    "papermill": {
     "duration": 0.017956,
     "end_time": "2025-07-30T21:01:57.759261",
     "exception": false,
     "start_time": "2025-07-30T21:01:57.741305",
     "status": "completed"
    },
    "tags": []
   },
   "outputs": [],
   "source": [
    "#display(siab_s.groupby(\"year\").size())"
   ]
  },
  {
   "cell_type": "code",
   "execution_count": 27,
   "id": "e6c733c5",
   "metadata": {
    "execution": {
     "iopub.execute_input": "2025-07-30T21:01:57.784317Z",
     "iopub.status.busy": "2025-07-30T21:01:57.783783Z",
     "iopub.status.idle": "2025-07-30T21:01:57.871001Z",
     "shell.execute_reply": "2025-07-30T21:01:57.870252Z"
    },
    "papermill": {
     "duration": 0.100816,
     "end_time": "2025-07-30T21:01:57.872460",
     "exception": false,
     "start_time": "2025-07-30T21:01:57.771644",
     "status": "completed"
    },
    "tags": []
   },
   "outputs": [],
   "source": [
    "# Auxiliary data needed downstream in the pipeline\n",
    "\n",
    "org_train = X_train.copy()\n",
    "org_test = X_test.copy()\n",
    "org_calib = X_calib.copy()"
   ]
  },
  {
   "cell_type": "code",
   "execution_count": 28,
   "id": "1466abac-c6da-4492-a62f-4240ae3783af",
   "metadata": {
    "execution": {
     "iopub.execute_input": "2025-07-30T21:01:57.897160Z",
     "iopub.status.busy": "2025-07-30T21:01:57.896677Z",
     "iopub.status.idle": "2025-07-30T21:01:57.901537Z",
     "shell.execute_reply": "2025-07-30T21:01:57.900865Z"
    },
    "papermill": {
     "duration": 0.018565,
     "end_time": "2025-07-30T21:01:57.902875",
     "exception": false,
     "start_time": "2025-07-30T21:01:57.884310",
     "status": "completed"
    },
    "tags": []
   },
   "outputs": [],
   "source": [
    "# put in other script?\n",
    "# Group sizes\n",
    "\n",
    "#def calculate_percentages(df, df_name):\n",
    "#    total_entries = len(df)\n",
    "#\n",
    "#    female_pct = (df['frau1'] == 1).mean() * 100\n",
    "#    non_german_pct = ((df['maxdeutsch1'] == 0) & (df['maxdeutsch.Missing.'] == 0)).mean() * 100\n",
    "#    non_german_male_pct = ((df['frau1'] == 0) & (df['maxdeutsch1'] == 0) & (df['maxdeutsch.Missing.'] == 0)).mean() * 100\n",
    "#    non_german_female_pct = ((df['frau1'] == 1) & (df['maxdeutsch1'] == 0) & (df['maxdeutsch.Missing.'] == 0)).mean() * 100\n",
    "#\n",
    "#    print(f\"--- {df_name} ---\")\n",
    "#    print(f\"Female: {female_pct:.2f}%\")\n",
    "#    print(f\"Non-German: {non_german_pct:.2f}%\")\n",
    "#    print(f\"Non-German Male: {non_german_male_pct:.2f}%\")\n",
    "#    print(f\"Non-German Female: {non_german_female_pct:.2f}%\\n\")\n",
    "#\n",
    "## Calculate for each DataFrame\n",
    "#calculate_percentages(siab_calib, \"siab_calib\")\n",
    "#calculate_percentages(siab_test, \"siab_test\")\n",
    "#calculate_percentages(siab_train, \"siab_train\")"
   ]
  },
  {
   "cell_type": "markdown",
   "id": "0a4a1b33",
   "metadata": {
    "papermill": {
     "duration": 0.011213,
     "end_time": "2025-07-30T21:01:57.926895",
     "exception": false,
     "start_time": "2025-07-30T21:01:57.915682",
     "status": "completed"
    },
    "tags": []
   },
   "source": [
    "# Preprocessing Data"
   ]
  },
  {
   "cell_type": "code",
   "execution_count": 29,
   "id": "ca879031",
   "metadata": {
    "execution": {
     "iopub.execute_input": "2025-07-30T21:01:57.952598Z",
     "iopub.status.busy": "2025-07-30T21:01:57.951638Z",
     "iopub.status.idle": "2025-07-30T21:01:57.956915Z",
     "shell.execute_reply": "2025-07-30T21:01:57.956122Z"
    },
    "papermill": {
     "duration": 0.019787,
     "end_time": "2025-07-30T21:01:57.958484",
     "exception": false,
     "start_time": "2025-07-30T21:01:57.938697",
     "status": "completed"
    },
    "tags": []
   },
   "outputs": [],
   "source": [
    "# EXCLUDE PROTECTED FEATURES\n",
    "# ----------------------\n",
    "# \"exclude_features\": \"none\", # \"nationality\", \"sex\", \"nationality-sex\"\n",
    "\n",
    "excluded_features = universe[\"exclude_features\"].split(\"-\") # split, e.g.: \"nationality-sex\" -> [\"nationality\", \"sex\"]\n",
    "excluded_features_dictionary = {\n",
    "    \"nationality\": [\"maxdeutsch1\", \"maxdeutsch.Missing.\"],\n",
    "    \"sex\": [\"frau1\"],\n",
    "    \"age\": [\"age\"],\n",
    "}\n"
   ]
  },
  {
   "cell_type": "code",
   "execution_count": 30,
   "id": "b745ac60",
   "metadata": {
    "execution": {
     "iopub.execute_input": "2025-07-30T21:01:57.984957Z",
     "iopub.status.busy": "2025-07-30T21:01:57.984245Z",
     "iopub.status.idle": "2025-07-30T21:01:57.989051Z",
     "shell.execute_reply": "2025-07-30T21:01:57.988341Z"
    },
    "papermill": {
     "duration": 0.019077,
     "end_time": "2025-07-30T21:01:57.990421",
     "exception": false,
     "start_time": "2025-07-30T21:01:57.971344",
     "status": "completed"
    },
    "tags": []
   },
   "outputs": [],
   "source": [
    "# Code nice names to column names\n",
    "\n",
    "excluded_features_columns = [\n",
    "    excluded_features_dictionary[f] for f in excluded_features if len(f) > 0 and f != \"none\"\n",
    "]"
   ]
  },
  {
   "cell_type": "code",
   "execution_count": 31,
   "id": "f84f73a2",
   "metadata": {
    "execution": {
     "iopub.execute_input": "2025-07-30T21:01:58.017164Z",
     "iopub.status.busy": "2025-07-30T21:01:58.016512Z",
     "iopub.status.idle": "2025-07-30T21:01:58.021797Z",
     "shell.execute_reply": "2025-07-30T21:01:58.021027Z"
    },
    "papermill": {
     "duration": 0.019102,
     "end_time": "2025-07-30T21:01:58.023145",
     "exception": false,
     "start_time": "2025-07-30T21:01:58.004043",
     "status": "completed"
    },
    "tags": []
   },
   "outputs": [],
   "source": [
    "from utils import flatten_once\n",
    "\n",
    "excluded_features_columns = flatten_once(excluded_features_columns)"
   ]
  },
  {
   "cell_type": "code",
   "execution_count": 32,
   "id": "884dea22",
   "metadata": {
    "execution": {
     "iopub.execute_input": "2025-07-30T21:01:58.047759Z",
     "iopub.status.busy": "2025-07-30T21:01:58.047240Z",
     "iopub.status.idle": "2025-07-30T21:01:58.056898Z",
     "shell.execute_reply": "2025-07-30T21:01:58.056167Z"
    },
    "papermill": {
     "duration": 0.022723,
     "end_time": "2025-07-30T21:01:58.058264",
     "exception": false,
     "start_time": "2025-07-30T21:01:58.035541",
     "status": "completed"
    },
    "tags": []
   },
   "outputs": [
    {
     "name": "stdout",
     "output_type": "stream",
     "text": [
      "Dropping features: ['maxdeutsch1', 'maxdeutsch.Missing.']\n"
     ]
    }
   ],
   "source": [
    "if len(excluded_features_columns) > 0:\n",
    "    print(f\"Dropping features: {excluded_features_columns}\")\n",
    "    X_train.drop(excluded_features_columns, axis=1, inplace=True)"
   ]
  },
  {
   "cell_type": "code",
   "execution_count": 33,
   "id": "95ab8b16",
   "metadata": {
    "execution": {
     "iopub.execute_input": "2025-07-30T21:01:58.083958Z",
     "iopub.status.busy": "2025-07-30T21:01:58.083245Z",
     "iopub.status.idle": "2025-07-30T21:01:58.136613Z",
     "shell.execute_reply": "2025-07-30T21:01:58.135581Z"
    },
    "papermill": {
     "duration": 0.067623,
     "end_time": "2025-07-30T21:01:58.138539",
     "exception": false,
     "start_time": "2025-07-30T21:01:58.070916",
     "status": "completed"
    },
    "tags": []
   },
   "outputs": [
    {
     "name": "stdout",
     "output_type": "stream",
     "text": [
      "Dropping features: ['maxdeutsch1', 'maxdeutsch.Missing.']\n"
     ]
    }
   ],
   "source": [
    "if len(excluded_features_columns) > 0:\n",
    "    print(f\"Dropping features: {excluded_features_columns}\")\n",
    "    X_test.drop(excluded_features_columns, axis=1, inplace=True)"
   ]
  },
  {
   "cell_type": "code",
   "execution_count": 34,
   "id": "1853aaf5-fb9f-46cb-a2b5-8ea4ae2237e4",
   "metadata": {
    "execution": {
     "iopub.execute_input": "2025-07-30T21:01:58.183140Z",
     "iopub.status.busy": "2025-07-30T21:01:58.182181Z",
     "iopub.status.idle": "2025-07-30T21:01:58.234892Z",
     "shell.execute_reply": "2025-07-30T21:01:58.233749Z"
    },
    "papermill": {
     "duration": 0.076194,
     "end_time": "2025-07-30T21:01:58.236820",
     "exception": false,
     "start_time": "2025-07-30T21:01:58.160626",
     "status": "completed"
    },
    "tags": []
   },
   "outputs": [
    {
     "name": "stdout",
     "output_type": "stream",
     "text": [
      "Dropping features: ['maxdeutsch1', 'maxdeutsch.Missing.']\n"
     ]
    }
   ],
   "source": [
    "if len(excluded_features_columns) > 0:\n",
    "    print(f\"Dropping features: {excluded_features_columns}\")\n",
    "    X_calib.drop(excluded_features_columns, axis=1, inplace=True)"
   ]
  },
  {
   "cell_type": "code",
   "execution_count": 35,
   "id": "6727d079-03e5-481e-9d38-292a90b7a0a8",
   "metadata": {
    "execution": {
     "iopub.execute_input": "2025-07-30T21:01:58.287588Z",
     "iopub.status.busy": "2025-07-30T21:01:58.286902Z",
     "iopub.status.idle": "2025-07-30T21:01:58.291854Z",
     "shell.execute_reply": "2025-07-30T21:01:58.290821Z"
    },
    "papermill": {
     "duration": 0.032106,
     "end_time": "2025-07-30T21:01:58.293565",
     "exception": false,
     "start_time": "2025-07-30T21:01:58.261459",
     "status": "completed"
    },
    "tags": []
   },
   "outputs": [],
   "source": [
    "# SPLIT & STRATIFY DATA\n",
    "# ----------------------"
   ]
  },
  {
   "cell_type": "code",
   "execution_count": 36,
   "id": "76c4dc6d",
   "metadata": {
    "execution": {
     "iopub.execute_input": "2025-07-30T21:01:58.345065Z",
     "iopub.status.busy": "2025-07-30T21:01:58.344426Z",
     "iopub.status.idle": "2025-07-30T21:01:58.350220Z",
     "shell.execute_reply": "2025-07-30T21:01:58.349232Z"
    },
    "papermill": {
     "duration": 0.032895,
     "end_time": "2025-07-30T21:01:58.351840",
     "exception": false,
     "start_time": "2025-07-30T21:01:58.318945",
     "status": "completed"
    },
    "tags": []
   },
   "outputs": [],
   "source": [
    "# EXCLUDE CERTAIN SUBGROUPS\n",
    "# ----------------------\n",
    "\n",
    "mode = universe.get(\"exclude_subgroups\", \"keep-all\") \n",
    "# Fetches the exclude_subgroups setting from the universe dict.\n",
    "# Defaults to \"keep-all\" if the key is missing."
   ]
  },
  {
   "cell_type": "code",
   "execution_count": 37,
   "id": "21994072",
   "metadata": {
    "execution": {
     "iopub.execute_input": "2025-07-30T21:01:58.403486Z",
     "iopub.status.busy": "2025-07-30T21:01:58.402855Z",
     "iopub.status.idle": "2025-07-30T21:01:58.409709Z",
     "shell.execute_reply": "2025-07-30T21:01:58.408813Z"
    },
    "papermill": {
     "duration": 0.034176,
     "end_time": "2025-07-30T21:01:58.411412",
     "exception": false,
     "start_time": "2025-07-30T21:01:58.377236",
     "status": "completed"
    },
    "tags": []
   },
   "outputs": [],
   "source": [
    "if mode == \"keep-all\":\n",
    "    keep_mask = pd.Series(True, index=org_train.index)\n",
    "\n",
    "# org_train contains the original feature columns from features_org (in Simson)\n",
    "# features_org contains unprocessed features, for me X_train at beginning ???\n",
    "# For keep-all, creates a boolean Series (keep_mask) of all True, so no rows are removed.\n",
    "\n",
    "elif mode == \"drop-non-german\":\n",
    "    keep_mask = org_train[\"maxdeutsch1\"] == 1 # ??? what about missing values?\n",
    "\n",
    "else:\n",
    "    raise ValueError(f\"Unsupported mode for exclude_subgroups: {mode}\")\n"
   ]
  },
  {
   "cell_type": "code",
   "execution_count": 38,
   "id": "71651440",
   "metadata": {
    "execution": {
     "iopub.execute_input": "2025-07-30T21:01:58.463239Z",
     "iopub.status.busy": "2025-07-30T21:01:58.462590Z",
     "iopub.status.idle": "2025-07-30T21:01:58.469569Z",
     "shell.execute_reply": "2025-07-30T21:01:58.468514Z"
    },
    "papermill": {
     "duration": 0.034319,
     "end_time": "2025-07-30T21:01:58.471310",
     "exception": false,
     "start_time": "2025-07-30T21:01:58.436991",
     "status": "completed"
    },
    "tags": []
   },
   "outputs": [
    {
     "name": "stdout",
     "output_type": "stream",
     "text": [
      "Dropping 665 rows (13.30%) where mode='drop-non-german'\n"
     ]
    }
   ],
   "source": [
    "n_drop = (~keep_mask).sum() # Calculates how many rows are set to be dropped\n",
    "if n_drop > 0:\n",
    "    pct = n_drop / len(keep_mask) * 100\n",
    "    print(f\"Dropping {n_drop} rows ({pct:.2f}%) where mode='{mode}'\")"
   ]
  },
  {
   "cell_type": "code",
   "execution_count": 39,
   "id": "5fb8eee5",
   "metadata": {
    "execution": {
     "iopub.execute_input": "2025-07-30T21:01:58.523759Z",
     "iopub.status.busy": "2025-07-30T21:01:58.523089Z",
     "iopub.status.idle": "2025-07-30T21:01:58.530904Z",
     "shell.execute_reply": "2025-07-30T21:01:58.529914Z"
    },
    "papermill": {
     "duration": 0.035065,
     "end_time": "2025-07-30T21:01:58.532657",
     "exception": false,
     "start_time": "2025-07-30T21:01:58.497592",
     "status": "completed"
    },
    "tags": []
   },
   "outputs": [],
   "source": [
    "X_train = X_train[keep_mask]"
   ]
  },
  {
   "cell_type": "code",
   "execution_count": 40,
   "id": "b202bb3a",
   "metadata": {
    "execution": {
     "iopub.execute_input": "2025-07-30T21:01:58.584153Z",
     "iopub.status.busy": "2025-07-30T21:01:58.583510Z",
     "iopub.status.idle": "2025-07-30T21:01:58.589711Z",
     "shell.execute_reply": "2025-07-30T21:01:58.588783Z"
    },
    "papermill": {
     "duration": 0.03275,
     "end_time": "2025-07-30T21:01:58.591517",
     "exception": false,
     "start_time": "2025-07-30T21:01:58.558767",
     "status": "completed"
    },
    "tags": []
   },
   "outputs": [],
   "source": [
    "y_train = y_train[keep_mask]"
   ]
  },
  {
   "cell_type": "markdown",
   "id": "493e2ac3",
   "metadata": {
    "papermill": {
     "duration": 0.025314,
     "end_time": "2025-07-30T21:01:58.643268",
     "exception": false,
     "start_time": "2025-07-30T21:01:58.617954",
     "status": "completed"
    },
    "tags": []
   },
   "source": [
    "# Model Training"
   ]
  },
  {
   "cell_type": "code",
   "execution_count": 41,
   "id": "679e1268",
   "metadata": {
    "execution": {
     "iopub.execute_input": "2025-07-30T21:01:58.695282Z",
     "iopub.status.busy": "2025-07-30T21:01:58.694631Z",
     "iopub.status.idle": "2025-07-30T21:01:58.795618Z",
     "shell.execute_reply": "2025-07-30T21:01:58.794602Z"
    },
    "papermill": {
     "duration": 0.129062,
     "end_time": "2025-07-30T21:01:58.797648",
     "exception": false,
     "start_time": "2025-07-30T21:01:58.668586",
     "status": "completed"
    },
    "tags": []
   },
   "outputs": [],
   "source": [
    "from sklearn.linear_model import LogisticRegression\n",
    "from sklearn.ensemble import GradientBoostingClassifier, RandomForestClassifier\n",
    "\n",
    "if (universe[\"model\"] == \"logreg\"):\n",
    "    model = LogisticRegression() #penalty=\"none\") #, solver=\"newton-cg\", max_iter=1) # include random_state=19 ?\n",
    "elif (universe[\"model\"] == \"penalized_logreg\"):\n",
    "    model = LogisticRegression(penalty=\"l2\", C=1.0) #, solver=\"newton-cg\", max_iter=1)\n",
    "elif (universe[\"model\"] == \"rf\"):\n",
    "    model = RandomForestClassifier(n_estimators=100, n_jobs=-1)\n",
    "elif (universe[\"model\"] == \"gbm\"):\n",
    "    model = GradientBoostingClassifier()\n",
    "elif (universe[\"model\"] == \"elasticnet\"):\n",
    "    model = LogisticRegression(penalty = 'elasticnet', solver = 'saga', l1_ratio = 0.5, max_iter=5000) # which solver to use?\n",
    "else:\n",
    "    raise \"Unsupported universe.model\""
   ]
  },
  {
   "cell_type": "code",
   "execution_count": 42,
   "id": "0cc8f744",
   "metadata": {
    "execution": {
     "iopub.execute_input": "2025-07-30T21:01:58.852235Z",
     "iopub.status.busy": "2025-07-30T21:01:58.851564Z",
     "iopub.status.idle": "2025-07-30T21:01:58.858213Z",
     "shell.execute_reply": "2025-07-30T21:01:58.857300Z"
    },
    "papermill": {
     "duration": 0.035533,
     "end_time": "2025-07-30T21:01:58.859882",
     "exception": false,
     "start_time": "2025-07-30T21:01:58.824349",
     "status": "completed"
    },
    "tags": []
   },
   "outputs": [],
   "source": [
    "import numpy as np\n",
    "from sklearn.pipeline import Pipeline\n",
    "from sklearn.preprocessing import StandardScaler\n",
    "\n",
    "model = Pipeline([\n",
    "    #(\"continuous_processor\", continuous_processor),\n",
    "    #(\"categorical_preprocessor\", categorical_preprocessor),\n",
    "    (\"scale\", StandardScaler() if universe[\"scale\"] == \"scale\" else None), \n",
    "    (\"model\", model),\n",
    "])"
   ]
  },
  {
   "cell_type": "code",
   "execution_count": 43,
   "id": "9442c04d",
   "metadata": {
    "execution": {
     "iopub.execute_input": "2025-07-30T21:01:58.913753Z",
     "iopub.status.busy": "2025-07-30T21:01:58.912824Z",
     "iopub.status.idle": "2025-07-30T21:02:07.533858Z",
     "shell.execute_reply": "2025-07-30T21:02:07.533166Z"
    },
    "papermill": {
     "duration": 8.649816,
     "end_time": "2025-07-30T21:02:07.535703",
     "exception": false,
     "start_time": "2025-07-30T21:01:58.885887",
     "status": "completed"
    },
    "tags": []
   },
   "outputs": [
    {
     "data": {
      "text/html": [
       "<style>#sk-container-id-1 {color: black;background-color: white;}#sk-container-id-1 pre{padding: 0;}#sk-container-id-1 div.sk-toggleable {background-color: white;}#sk-container-id-1 label.sk-toggleable__label {cursor: pointer;display: block;width: 100%;margin-bottom: 0;padding: 0.3em;box-sizing: border-box;text-align: center;}#sk-container-id-1 label.sk-toggleable__label-arrow:before {content: \"▸\";float: left;margin-right: 0.25em;color: #696969;}#sk-container-id-1 label.sk-toggleable__label-arrow:hover:before {color: black;}#sk-container-id-1 div.sk-estimator:hover label.sk-toggleable__label-arrow:before {color: black;}#sk-container-id-1 div.sk-toggleable__content {max-height: 0;max-width: 0;overflow: hidden;text-align: left;background-color: #f0f8ff;}#sk-container-id-1 div.sk-toggleable__content pre {margin: 0.2em;color: black;border-radius: 0.25em;background-color: #f0f8ff;}#sk-container-id-1 input.sk-toggleable__control:checked~div.sk-toggleable__content {max-height: 200px;max-width: 100%;overflow: auto;}#sk-container-id-1 input.sk-toggleable__control:checked~label.sk-toggleable__label-arrow:before {content: \"▾\";}#sk-container-id-1 div.sk-estimator input.sk-toggleable__control:checked~label.sk-toggleable__label {background-color: #d4ebff;}#sk-container-id-1 div.sk-label input.sk-toggleable__control:checked~label.sk-toggleable__label {background-color: #d4ebff;}#sk-container-id-1 input.sk-hidden--visually {border: 0;clip: rect(1px 1px 1px 1px);clip: rect(1px, 1px, 1px, 1px);height: 1px;margin: -1px;overflow: hidden;padding: 0;position: absolute;width: 1px;}#sk-container-id-1 div.sk-estimator {font-family: monospace;background-color: #f0f8ff;border: 1px dotted black;border-radius: 0.25em;box-sizing: border-box;margin-bottom: 0.5em;}#sk-container-id-1 div.sk-estimator:hover {background-color: #d4ebff;}#sk-container-id-1 div.sk-parallel-item::after {content: \"\";width: 100%;border-bottom: 1px solid gray;flex-grow: 1;}#sk-container-id-1 div.sk-label:hover label.sk-toggleable__label {background-color: #d4ebff;}#sk-container-id-1 div.sk-serial::before {content: \"\";position: absolute;border-left: 1px solid gray;box-sizing: border-box;top: 0;bottom: 0;left: 50%;z-index: 0;}#sk-container-id-1 div.sk-serial {display: flex;flex-direction: column;align-items: center;background-color: white;padding-right: 0.2em;padding-left: 0.2em;position: relative;}#sk-container-id-1 div.sk-item {position: relative;z-index: 1;}#sk-container-id-1 div.sk-parallel {display: flex;align-items: stretch;justify-content: center;background-color: white;position: relative;}#sk-container-id-1 div.sk-item::before, #sk-container-id-1 div.sk-parallel-item::before {content: \"\";position: absolute;border-left: 1px solid gray;box-sizing: border-box;top: 0;bottom: 0;left: 50%;z-index: -1;}#sk-container-id-1 div.sk-parallel-item {display: flex;flex-direction: column;z-index: 1;position: relative;background-color: white;}#sk-container-id-1 div.sk-parallel-item:first-child::after {align-self: flex-end;width: 50%;}#sk-container-id-1 div.sk-parallel-item:last-child::after {align-self: flex-start;width: 50%;}#sk-container-id-1 div.sk-parallel-item:only-child::after {width: 0;}#sk-container-id-1 div.sk-dashed-wrapped {border: 1px dashed gray;margin: 0 0.4em 0.5em 0.4em;box-sizing: border-box;padding-bottom: 0.4em;background-color: white;}#sk-container-id-1 div.sk-label label {font-family: monospace;font-weight: bold;display: inline-block;line-height: 1.2em;}#sk-container-id-1 div.sk-label-container {text-align: center;}#sk-container-id-1 div.sk-container {/* jupyter's `normalize.less` sets `[hidden] { display: none; }` but bootstrap.min.css set `[hidden] { display: none !important; }` so we also need the `!important` here to be able to override the default hidden behavior on the sphinx rendered scikit-learn.org. See: https://github.com/scikit-learn/scikit-learn/issues/21755 */display: inline-block !important;position: relative;}#sk-container-id-1 div.sk-text-repr-fallback {display: none;}</style><div id=\"sk-container-id-1\" class=\"sk-top-container\"><div class=\"sk-text-repr-fallback\"><pre>Pipeline(steps=[(&#x27;scale&#x27;, StandardScaler()),\n",
       "                (&#x27;model&#x27;,\n",
       "                 LogisticRegression(l1_ratio=0.5, max_iter=5000,\n",
       "                                    penalty=&#x27;elasticnet&#x27;, solver=&#x27;saga&#x27;))])</pre><b>In a Jupyter environment, please rerun this cell to show the HTML representation or trust the notebook. <br />On GitHub, the HTML representation is unable to render, please try loading this page with nbviewer.org.</b></div><div class=\"sk-container\" hidden><div class=\"sk-item sk-dashed-wrapped\"><div class=\"sk-label-container\"><div class=\"sk-label sk-toggleable\"><input class=\"sk-toggleable__control sk-hidden--visually\" id=\"sk-estimator-id-1\" type=\"checkbox\" ><label for=\"sk-estimator-id-1\" class=\"sk-toggleable__label sk-toggleable__label-arrow\">Pipeline</label><div class=\"sk-toggleable__content\"><pre>Pipeline(steps=[(&#x27;scale&#x27;, StandardScaler()),\n",
       "                (&#x27;model&#x27;,\n",
       "                 LogisticRegression(l1_ratio=0.5, max_iter=5000,\n",
       "                                    penalty=&#x27;elasticnet&#x27;, solver=&#x27;saga&#x27;))])</pre></div></div></div><div class=\"sk-serial\"><div class=\"sk-item\"><div class=\"sk-estimator sk-toggleable\"><input class=\"sk-toggleable__control sk-hidden--visually\" id=\"sk-estimator-id-2\" type=\"checkbox\" ><label for=\"sk-estimator-id-2\" class=\"sk-toggleable__label sk-toggleable__label-arrow\">StandardScaler</label><div class=\"sk-toggleable__content\"><pre>StandardScaler()</pre></div></div></div><div class=\"sk-item\"><div class=\"sk-estimator sk-toggleable\"><input class=\"sk-toggleable__control sk-hidden--visually\" id=\"sk-estimator-id-3\" type=\"checkbox\" ><label for=\"sk-estimator-id-3\" class=\"sk-toggleable__label sk-toggleable__label-arrow\">LogisticRegression</label><div class=\"sk-toggleable__content\"><pre>LogisticRegression(l1_ratio=0.5, max_iter=5000, penalty=&#x27;elasticnet&#x27;,\n",
       "                   solver=&#x27;saga&#x27;)</pre></div></div></div></div></div></div></div>"
      ],
      "text/plain": [
       "Pipeline(steps=[('scale', StandardScaler()),\n",
       "                ('model',\n",
       "                 LogisticRegression(l1_ratio=0.5, max_iter=5000,\n",
       "                                    penalty='elasticnet', solver='saga'))])"
      ]
     },
     "execution_count": 43,
     "metadata": {},
     "output_type": "execute_result"
    }
   ],
   "source": [
    "model.fit(X_train, y_train.values.ravel())"
   ]
  },
  {
   "cell_type": "code",
   "execution_count": 44,
   "id": "af59f8c0",
   "metadata": {
    "execution": {
     "iopub.execute_input": "2025-07-30T21:02:07.589599Z",
     "iopub.status.busy": "2025-07-30T21:02:07.589125Z",
     "iopub.status.idle": "2025-07-30T21:02:07.594793Z",
     "shell.execute_reply": "2025-07-30T21:02:07.593833Z"
    },
    "papermill": {
     "duration": 0.03274,
     "end_time": "2025-07-30T21:02:07.596393",
     "exception": false,
     "start_time": "2025-07-30T21:02:07.563653",
     "status": "completed"
    },
    "tags": []
   },
   "outputs": [],
   "source": [
    "from fairness_multiverse.universe import predict_w_threshold"
   ]
  },
  {
   "cell_type": "code",
   "execution_count": 45,
   "id": "a7cf2e16",
   "metadata": {
    "execution": {
     "iopub.execute_input": "2025-07-30T21:02:07.635832Z",
     "iopub.status.busy": "2025-07-30T21:02:07.635330Z",
     "iopub.status.idle": "2025-07-30T21:02:07.854611Z",
     "shell.execute_reply": "2025-07-30T21:02:07.853378Z"
    },
    "papermill": {
     "duration": 0.238175,
     "end_time": "2025-07-30T21:02:07.856878",
     "exception": false,
     "start_time": "2025-07-30T21:02:07.618703",
     "status": "completed"
    },
    "tags": []
   },
   "outputs": [
    {
     "data": {
      "text/plain": [
       "0.8577527588897559"
      ]
     },
     "execution_count": 45,
     "metadata": {},
     "output_type": "execute_result"
    }
   ],
   "source": [
    "probs_test = model.predict_proba(X_test)\n",
    "\n",
    "'''\n",
    "Below code returns a boolean array (or binary 0/1 array depending on how it’s used) where each element \n",
    "is True if the probability of class 1 is greater than or equal to the threshold, and False otherwise.\n",
    "'''\n",
    "y_pred_default = predict_w_threshold(probs_test, 0.5)\n",
    "\n",
    "from sklearn.metrics import accuracy_score\n",
    "\n",
    "# Naive prediction\n",
    "accuracy_score(y_true = y_true, y_pred = y_pred_default)"
   ]
  },
  {
   "cell_type": "code",
   "execution_count": 46,
   "id": "081964c3",
   "metadata": {
    "execution": {
     "iopub.execute_input": "2025-07-30T21:02:07.934517Z",
     "iopub.status.busy": "2025-07-30T21:02:07.934019Z",
     "iopub.status.idle": "2025-07-30T21:02:08.101779Z",
     "shell.execute_reply": "2025-07-30T21:02:08.101045Z"
    },
    "papermill": {
     "duration": 0.182673,
     "end_time": "2025-07-30T21:02:08.103326",
     "exception": false,
     "start_time": "2025-07-30T21:02:07.920653",
     "status": "completed"
    },
    "tags": []
   },
   "outputs": [
    {
     "data": {
      "text/plain": [
       "array([0, 0, 0, ..., 0, 0, 0])"
      ]
     },
     "execution_count": 46,
     "metadata": {},
     "output_type": "execute_result"
    }
   ],
   "source": [
    "model.predict(X_test)"
   ]
  },
  {
   "cell_type": "markdown",
   "id": "56c9705b",
   "metadata": {
    "papermill": {
     "duration": 0.012763,
     "end_time": "2025-07-30T21:02:08.129707",
     "exception": false,
     "start_time": "2025-07-30T21:02:08.116944",
     "status": "completed"
    },
    "tags": []
   },
   "source": [
    "# Conformal Prediction"
   ]
  },
  {
   "cell_type": "code",
   "execution_count": 47,
   "id": "160ec6ff",
   "metadata": {
    "execution": {
     "iopub.execute_input": "2025-07-30T21:02:08.156506Z",
     "iopub.status.busy": "2025-07-30T21:02:08.155978Z",
     "iopub.status.idle": "2025-07-30T21:02:08.161204Z",
     "shell.execute_reply": "2025-07-30T21:02:08.159948Z"
    },
    "papermill": {
     "duration": 0.020836,
     "end_time": "2025-07-30T21:02:08.163118",
     "exception": false,
     "start_time": "2025-07-30T21:02:08.142282",
     "status": "completed"
    },
    "tags": []
   },
   "outputs": [],
   "source": [
    "# Miscoverage level for conformal prediction (10% allowed error rate => 90% target coverage)\n",
    "alpha = 0.1"
   ]
  },
  {
   "cell_type": "code",
   "execution_count": 48,
   "id": "eadf4555-3dd3-440e-8e35-f82a4ad9f855",
   "metadata": {
    "execution": {
     "iopub.execute_input": "2025-07-30T21:02:08.204492Z",
     "iopub.status.busy": "2025-07-30T21:02:08.203705Z",
     "iopub.status.idle": "2025-07-30T21:02:08.376473Z",
     "shell.execute_reply": "2025-07-30T21:02:08.375423Z"
    },
    "papermill": {
     "duration": 0.19873,
     "end_time": "2025-07-30T21:02:08.378412",
     "exception": false,
     "start_time": "2025-07-30T21:02:08.179682",
     "status": "completed"
    },
    "tags": []
   },
   "outputs": [],
   "source": [
    "probs_calib = model.predict_proba(X_calib)"
   ]
  },
  {
   "cell_type": "code",
   "execution_count": 49,
   "id": "2ed93547-6d5d-4983-9b36-1ecb300da49a",
   "metadata": {
    "execution": {
     "iopub.execute_input": "2025-07-30T21:02:08.423686Z",
     "iopub.status.busy": "2025-07-30T21:02:08.423255Z",
     "iopub.status.idle": "2025-07-30T21:02:08.429676Z",
     "shell.execute_reply": "2025-07-30T21:02:08.428455Z"
    },
    "papermill": {
     "duration": 0.026697,
     "end_time": "2025-07-30T21:02:08.431800",
     "exception": false,
     "start_time": "2025-07-30T21:02:08.405103",
     "status": "completed"
    },
    "tags": []
   },
   "outputs": [],
   "source": [
    "y_calib = y_calib.values.ravel().astype(int)"
   ]
  },
  {
   "cell_type": "code",
   "execution_count": 50,
   "id": "65d1320d-f588-4b38-9072-62af1ae97f7d",
   "metadata": {
    "execution": {
     "iopub.execute_input": "2025-07-30T21:02:08.484209Z",
     "iopub.status.busy": "2025-07-30T21:02:08.483001Z",
     "iopub.status.idle": "2025-07-30T21:02:08.489703Z",
     "shell.execute_reply": "2025-07-30T21:02:08.488930Z"
    },
    "papermill": {
     "duration": 0.024321,
     "end_time": "2025-07-30T21:02:08.491113",
     "exception": false,
     "start_time": "2025-07-30T21:02:08.466792",
     "status": "completed"
    },
    "tags": []
   },
   "outputs": [],
   "source": [
    "from fairness_multiverse.conformal import compute_nc_scores\n",
    "\n",
    "# Compute nonconformity scores on calibration set (1 - probability of true class)\n",
    "nc_scores = compute_nc_scores(probs_calib, y_calib)"
   ]
  },
  {
   "cell_type": "code",
   "execution_count": 51,
   "id": "df3b8ca3-53b7-43d5-9667-7c85da7aeda2",
   "metadata": {
    "execution": {
     "iopub.execute_input": "2025-07-30T21:02:08.519255Z",
     "iopub.status.busy": "2025-07-30T21:02:08.518755Z",
     "iopub.status.idle": "2025-07-30T21:02:08.524798Z",
     "shell.execute_reply": "2025-07-30T21:02:08.524095Z"
    },
    "papermill": {
     "duration": 0.021373,
     "end_time": "2025-07-30T21:02:08.526378",
     "exception": false,
     "start_time": "2025-07-30T21:02:08.505005",
     "status": "completed"
    },
    "tags": []
   },
   "outputs": [],
   "source": [
    "from fairness_multiverse.conformal import find_threshold\n",
    "\n",
    "# Find conformal threshold q_hat for the given alpha (split conformal method)\n",
    "q_hat = find_threshold(nc_scores, alpha)"
   ]
  },
  {
   "cell_type": "code",
   "execution_count": 52,
   "id": "4d29e6c1-0ef6-4aa4-b8fe-4fe79b0d033a",
   "metadata": {
    "execution": {
     "iopub.execute_input": "2025-07-30T21:02:08.569605Z",
     "iopub.status.busy": "2025-07-30T21:02:08.569150Z",
     "iopub.status.idle": "2025-07-30T21:02:08.576613Z",
     "shell.execute_reply": "2025-07-30T21:02:08.575395Z"
    },
    "papermill": {
     "duration": 0.03515,
     "end_time": "2025-07-30T21:02:08.578371",
     "exception": false,
     "start_time": "2025-07-30T21:02:08.543221",
     "status": "completed"
    },
    "tags": []
   },
   "outputs": [
    {
     "data": {
      "text/plain": [
       "0.6926789032087068"
      ]
     },
     "execution_count": 52,
     "metadata": {},
     "output_type": "execute_result"
    }
   ],
   "source": [
    "q_hat"
   ]
  },
  {
   "cell_type": "code",
   "execution_count": 53,
   "id": "92460794-cdac-4be2-ba28-f28c0515a6fb",
   "metadata": {
    "execution": {
     "iopub.execute_input": "2025-07-30T21:02:08.618691Z",
     "iopub.status.busy": "2025-07-30T21:02:08.617975Z",
     "iopub.status.idle": "2025-07-30T21:02:09.540487Z",
     "shell.execute_reply": "2025-07-30T21:02:09.536558Z"
    },
    "papermill": {
     "duration": 0.939773,
     "end_time": "2025-07-30T21:02:09.542571",
     "exception": false,
     "start_time": "2025-07-30T21:02:08.602798",
     "status": "completed"
    },
    "tags": []
   },
   "outputs": [],
   "source": [
    "from fairness_multiverse.conformal import predict_conformal_sets\n",
    "\n",
    "# Generate prediction sets for each test example\n",
    "pred_sets = predict_conformal_sets(model, X_test, q_hat)"
   ]
  },
  {
   "cell_type": "code",
   "execution_count": 54,
   "id": "d90c9a65-e6db-4f5d-80cd-e68fb7e46829",
   "metadata": {
    "execution": {
     "iopub.execute_input": "2025-07-30T21:02:09.591081Z",
     "iopub.status.busy": "2025-07-30T21:02:09.590623Z",
     "iopub.status.idle": "2025-07-30T21:02:09.596066Z",
     "shell.execute_reply": "2025-07-30T21:02:09.595092Z"
    },
    "papermill": {
     "duration": 0.029164,
     "end_time": "2025-07-30T21:02:09.598336",
     "exception": false,
     "start_time": "2025-07-30T21:02:09.569172",
     "status": "completed"
    },
    "tags": []
   },
   "outputs": [],
   "source": [
    "y_true = y_true.squeeze()"
   ]
  },
  {
   "cell_type": "code",
   "execution_count": 55,
   "id": "3a58a54a-1e68-46b9-927a-df01f18aebc8",
   "metadata": {
    "execution": {
     "iopub.execute_input": "2025-07-30T21:02:09.652230Z",
     "iopub.status.busy": "2025-07-30T21:02:09.651671Z",
     "iopub.status.idle": "2025-07-30T21:02:10.414866Z",
     "shell.execute_reply": "2025-07-30T21:02:10.413914Z"
    },
    "papermill": {
     "duration": 0.789861,
     "end_time": "2025-07-30T21:02:10.416425",
     "exception": false,
     "start_time": "2025-07-30T21:02:09.626564",
     "status": "completed"
    },
    "tags": []
   },
   "outputs": [],
   "source": [
    "from fairness_multiverse.conformal import evaluate_sets\n",
    "\n",
    "# Evaluate coverage and average set size on test data\n",
    "metrics = evaluate_sets(pred_sets, y_true)"
   ]
  },
  {
   "cell_type": "markdown",
   "id": "2b569c12-9aaa-4c88-98c9-bbcd0cf3ebb8",
   "metadata": {
    "papermill": {
     "duration": 0.024678,
     "end_time": "2025-07-30T21:02:10.466671",
     "exception": false,
     "start_time": "2025-07-30T21:02:10.441993",
     "status": "completed"
    },
    "tags": []
   },
   "source": [
    "# CP Metrics"
   ]
  },
  {
   "cell_type": "code",
   "execution_count": 56,
   "id": "5ce0a5cb-201f-45a0-ade5-94c7f0bd6095",
   "metadata": {
    "execution": {
     "iopub.execute_input": "2025-07-30T21:02:10.518360Z",
     "iopub.status.busy": "2025-07-30T21:02:10.517919Z",
     "iopub.status.idle": "2025-07-30T21:02:10.525941Z",
     "shell.execute_reply": "2025-07-30T21:02:10.524940Z"
    },
    "papermill": {
     "duration": 0.03597,
     "end_time": "2025-07-30T21:02:10.527568",
     "exception": false,
     "start_time": "2025-07-30T21:02:10.491598",
     "status": "completed"
    },
    "tags": []
   },
   "outputs": [
    {
     "data": {
      "text/plain": [
       "{'coverage': 0.910756883290603, 'avg_size': 1.1357373759892988}"
      ]
     },
     "execution_count": 56,
     "metadata": {},
     "output_type": "execute_result"
    }
   ],
   "source": [
    "metrics"
   ]
  },
  {
   "cell_type": "code",
   "execution_count": 57,
   "id": "9b9a838d-31c9-430b-ae14-12baee460d17",
   "metadata": {
    "execution": {
     "iopub.execute_input": "2025-07-30T21:02:10.580850Z",
     "iopub.status.busy": "2025-07-30T21:02:10.580218Z",
     "iopub.status.idle": "2025-07-30T21:02:10.587552Z",
     "shell.execute_reply": "2025-07-30T21:02:10.586587Z"
    },
    "papermill": {
     "duration": 0.035615,
     "end_time": "2025-07-30T21:02:10.589258",
     "exception": false,
     "start_time": "2025-07-30T21:02:10.553643",
     "status": "completed"
    },
    "tags": []
   },
   "outputs": [],
   "source": [
    "example_universe = universe.copy()\n",
    "universe_training_year = example_universe.get(\"training_year\")\n",
    "universe_training_size = example_universe.get(\"training_size\")\n",
    "universe_scale = example_universe.get(\"scale\")\n",
    "universe_model = example_universe.get(\"model\")\n",
    "universe_exclude_features = example_universe.get(\"exclude_features\")\n",
    "universe_exclude_subgroups = example_universe.get(\"exclude_subgroups\")"
   ]
  },
  {
   "cell_type": "code",
   "execution_count": 58,
   "id": "f4b6a8ac-9dc0-4245-8a91-5b3b5999c4f9",
   "metadata": {
    "execution": {
     "iopub.execute_input": "2025-07-30T21:02:10.633460Z",
     "iopub.status.busy": "2025-07-30T21:02:10.633013Z",
     "iopub.status.idle": "2025-07-30T21:02:10.639506Z",
     "shell.execute_reply": "2025-07-30T21:02:10.638536Z"
    },
    "papermill": {
     "duration": 0.033566,
     "end_time": "2025-07-30T21:02:10.641251",
     "exception": false,
     "start_time": "2025-07-30T21:02:10.607685",
     "status": "completed"
    },
    "tags": []
   },
   "outputs": [],
   "source": [
    "cp_metrics_dict = {\n",
    "    \"universe_id\": [universe_id],\n",
    "    \"universe_training_year\": [universe_training_year],\n",
    "    \"universe_training_size\": [universe_training_size],\n",
    "    \"universe_scale\": [universe_scale],\n",
    "    \"universe_model\": [universe_model],\n",
    "    \"universe_exclude_features\": [universe_exclude_features],\n",
    "    \"universe_exclude_subgroups\": [universe_exclude_subgroups],\n",
    "    \"q_hat\": [q_hat],\n",
    "    \"coverage\": [metrics[\"coverage\"]],\n",
    "    \"avg_size\": [metrics[\"avg_size\"]],\n",
    "}"
   ]
  },
  {
   "cell_type": "code",
   "execution_count": 59,
   "id": "908acbb1-0371-4915-85ca-3fa520d2efe2",
   "metadata": {
    "execution": {
     "iopub.execute_input": "2025-07-30T21:02:10.689413Z",
     "iopub.status.busy": "2025-07-30T21:02:10.688746Z",
     "iopub.status.idle": "2025-07-30T21:02:10.695032Z",
     "shell.execute_reply": "2025-07-30T21:02:10.693957Z"
    },
    "papermill": {
     "duration": 0.031621,
     "end_time": "2025-07-30T21:02:10.696803",
     "exception": false,
     "start_time": "2025-07-30T21:02:10.665182",
     "status": "completed"
    },
    "tags": []
   },
   "outputs": [
    {
     "data": {
      "text/plain": [
       "{'universe_id': ['8f8ee412629500b89a44707843106c65'],\n",
       " 'universe_training_year': ['2012_14'],\n",
       " 'universe_training_size': ['5k'],\n",
       " 'universe_scale': ['scale'],\n",
       " 'universe_model': ['elasticnet'],\n",
       " 'universe_exclude_features': ['nationality'],\n",
       " 'universe_exclude_subgroups': ['drop-non-german'],\n",
       " 'q_hat': [0.6926789032087068],\n",
       " 'coverage': [0.910756883290603],\n",
       " 'avg_size': [1.1357373759892988]}"
      ]
     },
     "execution_count": 59,
     "metadata": {},
     "output_type": "execute_result"
    }
   ],
   "source": [
    "cp_metrics_dict"
   ]
  },
  {
   "cell_type": "code",
   "execution_count": 60,
   "id": "33007efc-14e9-4ec6-97ac-56a455c82265",
   "metadata": {
    "execution": {
     "iopub.execute_input": "2025-07-30T21:02:10.740288Z",
     "iopub.status.busy": "2025-07-30T21:02:10.739739Z",
     "iopub.status.idle": "2025-07-30T21:02:10.744475Z",
     "shell.execute_reply": "2025-07-30T21:02:10.743696Z"
    },
    "papermill": {
     "duration": 0.021692,
     "end_time": "2025-07-30T21:02:10.745854",
     "exception": false,
     "start_time": "2025-07-30T21:02:10.724162",
     "status": "completed"
    },
    "tags": []
   },
   "outputs": [],
   "source": [
    "cp_metrics_df = pd.DataFrame(cp_metrics_dict)"
   ]
  },
  {
   "cell_type": "code",
   "execution_count": 61,
   "id": "db12611b-57b2-4910-b9d0-355adfd6e7bf",
   "metadata": {
    "execution": {
     "iopub.execute_input": "2025-07-30T21:02:10.773774Z",
     "iopub.status.busy": "2025-07-30T21:02:10.773433Z",
     "iopub.status.idle": "2025-07-30T21:02:10.790276Z",
     "shell.execute_reply": "2025-07-30T21:02:10.789462Z"
    },
    "papermill": {
     "duration": 0.031361,
     "end_time": "2025-07-30T21:02:10.791486",
     "exception": false,
     "start_time": "2025-07-30T21:02:10.760125",
     "status": "completed"
    },
    "tags": []
   },
   "outputs": [
    {
     "data": {
      "text/html": [
       "<div>\n",
       "<style scoped>\n",
       "    .dataframe tbody tr th:only-of-type {\n",
       "        vertical-align: middle;\n",
       "    }\n",
       "\n",
       "    .dataframe tbody tr th {\n",
       "        vertical-align: top;\n",
       "    }\n",
       "\n",
       "    .dataframe thead th {\n",
       "        text-align: right;\n",
       "    }\n",
       "</style>\n",
       "<table border=\"1\" class=\"dataframe\">\n",
       "  <thead>\n",
       "    <tr style=\"text-align: right;\">\n",
       "      <th></th>\n",
       "      <th>universe_id</th>\n",
       "      <th>universe_training_year</th>\n",
       "      <th>universe_training_size</th>\n",
       "      <th>universe_scale</th>\n",
       "      <th>universe_model</th>\n",
       "      <th>universe_exclude_features</th>\n",
       "      <th>universe_exclude_subgroups</th>\n",
       "      <th>q_hat</th>\n",
       "      <th>coverage</th>\n",
       "      <th>avg_size</th>\n",
       "    </tr>\n",
       "  </thead>\n",
       "  <tbody>\n",
       "    <tr>\n",
       "      <th>0</th>\n",
       "      <td>8f8ee412629500b89a44707843106c65</td>\n",
       "      <td>2012_14</td>\n",
       "      <td>5k</td>\n",
       "      <td>scale</td>\n",
       "      <td>elasticnet</td>\n",
       "      <td>nationality</td>\n",
       "      <td>drop-non-german</td>\n",
       "      <td>0.692679</td>\n",
       "      <td>0.910757</td>\n",
       "      <td>1.135737</td>\n",
       "    </tr>\n",
       "  </tbody>\n",
       "</table>\n",
       "</div>"
      ],
      "text/plain": [
       "                        universe_id universe_training_year  \\\n",
       "0  8f8ee412629500b89a44707843106c65                2012_14   \n",
       "\n",
       "  universe_training_size universe_scale universe_model  \\\n",
       "0                     5k          scale     elasticnet   \n",
       "\n",
       "  universe_exclude_features universe_exclude_subgroups     q_hat  coverage  \\\n",
       "0               nationality            drop-non-german  0.692679  0.910757   \n",
       "\n",
       "   avg_size  \n",
       "0  1.135737  "
      ]
     },
     "execution_count": 61,
     "metadata": {},
     "output_type": "execute_result"
    }
   ],
   "source": [
    "cp_metrics_df"
   ]
  },
  {
   "cell_type": "code",
   "execution_count": 62,
   "id": "b7fbde55-a0a1-47e4-9af6-fe4a17fa8c61",
   "metadata": {
    "execution": {
     "iopub.execute_input": "2025-07-30T21:02:10.819024Z",
     "iopub.status.busy": "2025-07-30T21:02:10.818514Z",
     "iopub.status.idle": "2025-07-30T21:02:10.822454Z",
     "shell.execute_reply": "2025-07-30T21:02:10.821640Z"
    },
    "papermill": {
     "duration": 0.018757,
     "end_time": "2025-07-30T21:02:10.823703",
     "exception": false,
     "start_time": "2025-07-30T21:02:10.804946",
     "status": "completed"
    },
    "tags": []
   },
   "outputs": [],
   "source": [
    "# Conditional Coverage & looking at subgroups"
   ]
  },
  {
   "cell_type": "code",
   "execution_count": 63,
   "id": "027ae886-68dd-4141-96c7-805a5450e1ef",
   "metadata": {
    "execution": {
     "iopub.execute_input": "2025-07-30T21:02:10.851388Z",
     "iopub.status.busy": "2025-07-30T21:02:10.851045Z",
     "iopub.status.idle": "2025-07-30T21:02:11.101403Z",
     "shell.execute_reply": "2025-07-30T21:02:11.100516Z"
    },
    "papermill": {
     "duration": 0.265475,
     "end_time": "2025-07-30T21:02:11.103137",
     "exception": false,
     "start_time": "2025-07-30T21:02:10.837662",
     "status": "completed"
    },
    "tags": []
   },
   "outputs": [],
   "source": [
    "from fairness_multiverse.conformal import build_cp_groups\n",
    "\n",
    "cp_groups_df = build_cp_groups(pred_sets, y_true, X_test.index, org_test)\n",
    "#needs universe_id and setting"
   ]
  },
  {
   "cell_type": "code",
   "execution_count": 64,
   "id": "01d5802c-663a-4d1f-9d69-e036faaffbf7",
   "metadata": {
    "execution": {
     "iopub.execute_input": "2025-07-30T21:02:11.153478Z",
     "iopub.status.busy": "2025-07-30T21:02:11.152814Z",
     "iopub.status.idle": "2025-07-30T21:02:11.157407Z",
     "shell.execute_reply": "2025-07-30T21:02:11.156528Z"
    },
    "papermill": {
     "duration": 0.035062,
     "end_time": "2025-07-30T21:02:11.162884",
     "exception": false,
     "start_time": "2025-07-30T21:02:11.127822",
     "status": "completed"
    },
    "tags": []
   },
   "outputs": [],
   "source": [
    "#delete\n",
    "#cp_groups_df"
   ]
  },
  {
   "cell_type": "code",
   "execution_count": 65,
   "id": "fa424af1-d1eb-443d-b717-2d279ada8408",
   "metadata": {
    "execution": {
     "iopub.execute_input": "2025-07-30T21:02:11.213370Z",
     "iopub.status.busy": "2025-07-30T21:02:11.212544Z",
     "iopub.status.idle": "2025-07-30T21:02:11.217392Z",
     "shell.execute_reply": "2025-07-30T21:02:11.216445Z"
    },
    "papermill": {
     "duration": 0.031576,
     "end_time": "2025-07-30T21:02:11.218964",
     "exception": false,
     "start_time": "2025-07-30T21:02:11.187388",
     "status": "completed"
    },
    "tags": []
   },
   "outputs": [],
   "source": [
    "#delete\n",
    "#percentage = (cp_groups_df['nongerman_female'] == 1).mean() * 100\n",
    "#print(percentage)\n"
   ]
  },
  {
   "cell_type": "code",
   "execution_count": 66,
   "id": "6cbdab96-b2b2-45af-ad54-d0516db2e28d",
   "metadata": {
    "execution": {
     "iopub.execute_input": "2025-07-30T21:02:11.270185Z",
     "iopub.status.busy": "2025-07-30T21:02:11.269403Z",
     "iopub.status.idle": "2025-07-30T21:02:12.866139Z",
     "shell.execute_reply": "2025-07-30T21:02:12.865284Z"
    },
    "papermill": {
     "duration": 1.624641,
     "end_time": "2025-07-30T21:02:12.867892",
     "exception": false,
     "start_time": "2025-07-30T21:02:11.243251",
     "status": "completed"
    },
    "tags": []
   },
   "outputs": [],
   "source": [
    "# Define covered = 1 if true_label is in the predicted set\n",
    "cp_groups_df['covered'] = cp_groups_df.apply(\n",
    "    lambda r: int(r['true_label'] in r['pred_set']),\n",
    "    axis=1\n",
    ")"
   ]
  },
  {
   "cell_type": "code",
   "execution_count": 67,
   "id": "338ff529-1a6b-4b87-a931-8e4788d52aad",
   "metadata": {
    "execution": {
     "iopub.execute_input": "2025-07-30T21:02:12.920077Z",
     "iopub.status.busy": "2025-07-30T21:02:12.919434Z",
     "iopub.status.idle": "2025-07-30T21:02:12.924153Z",
     "shell.execute_reply": "2025-07-30T21:02:12.923260Z"
    },
    "papermill": {
     "duration": 0.031041,
     "end_time": "2025-07-30T21:02:12.925733",
     "exception": false,
     "start_time": "2025-07-30T21:02:12.894692",
     "status": "completed"
    },
    "tags": []
   },
   "outputs": [],
   "source": [
    "#cp_groups_df"
   ]
  },
  {
   "cell_type": "code",
   "execution_count": 68,
   "id": "90032e27-66df-4540-9169-4e89cfbaa758",
   "metadata": {
    "execution": {
     "iopub.execute_input": "2025-07-30T21:02:12.975522Z",
     "iopub.status.busy": "2025-07-30T21:02:12.974904Z",
     "iopub.status.idle": "2025-07-30T21:02:12.986309Z",
     "shell.execute_reply": "2025-07-30T21:02:12.985494Z"
    },
    "papermill": {
     "duration": 0.037595,
     "end_time": "2025-07-30T21:02:12.987841",
     "exception": false,
     "start_time": "2025-07-30T21:02:12.950246",
     "status": "completed"
    },
    "tags": []
   },
   "outputs": [],
   "source": [
    "subgroups = ['frau1','nongerman','nongerman_male','nongerman_female']\n",
    "\n",
    "# Conditional coverage for subgroup==1\n",
    "cond_coverage = {\n",
    "    g: cp_groups_df.loc[cp_groups_df[g]==1, 'covered'].mean()\n",
    "    for g in subgroups\n",
    "}"
   ]
  },
  {
   "cell_type": "code",
   "execution_count": 69,
   "id": "1e348fb1-b9c3-45bc-ba23-f016827a7e0d",
   "metadata": {
    "execution": {
     "iopub.execute_input": "2025-07-30T21:02:13.038098Z",
     "iopub.status.busy": "2025-07-30T21:02:13.037163Z",
     "iopub.status.idle": "2025-07-30T21:02:13.044133Z",
     "shell.execute_reply": "2025-07-30T21:02:13.043159Z"
    },
    "papermill": {
     "duration": 0.033426,
     "end_time": "2025-07-30T21:02:13.045780",
     "exception": false,
     "start_time": "2025-07-30T21:02:13.012354",
     "status": "completed"
    },
    "tags": []
   },
   "outputs": [
    {
     "data": {
      "text/plain": [
       "{'frau1': 0.9038684458821944,\n",
       " 'nongerman': 0.907539437489474,\n",
       " 'nongerman_male': 0.9268666126272179,\n",
       " 'nongerman_female': 0.875558867362146}"
      ]
     },
     "execution_count": 69,
     "metadata": {},
     "output_type": "execute_result"
    }
   ],
   "source": [
    "cond_coverage"
   ]
  },
  {
   "cell_type": "code",
   "execution_count": 70,
   "id": "f5093324-c3dd-4d63-bc4c-8d945e5c8bbb",
   "metadata": {
    "execution": {
     "iopub.execute_input": "2025-07-30T21:02:13.095647Z",
     "iopub.status.busy": "2025-07-30T21:02:13.094949Z",
     "iopub.status.idle": "2025-07-30T21:02:13.101957Z",
     "shell.execute_reply": "2025-07-30T21:02:13.100992Z"
    },
    "papermill": {
     "duration": 0.033348,
     "end_time": "2025-07-30T21:02:13.103551",
     "exception": false,
     "start_time": "2025-07-30T21:02:13.070203",
     "status": "completed"
    },
    "tags": []
   },
   "outputs": [],
   "source": [
    "for subgroup, cov in cond_coverage.items():\n",
    "    cp_metrics_df[f\"cov_{subgroup}\"] = cov"
   ]
  },
  {
   "cell_type": "code",
   "execution_count": 71,
   "id": "6e872e10-dbe5-49e8-b554-5030c98ff75d",
   "metadata": {
    "execution": {
     "iopub.execute_input": "2025-07-30T21:02:13.154357Z",
     "iopub.status.busy": "2025-07-30T21:02:13.153755Z",
     "iopub.status.idle": "2025-07-30T21:02:13.171712Z",
     "shell.execute_reply": "2025-07-30T21:02:13.170850Z"
    },
    "papermill": {
     "duration": 0.044352,
     "end_time": "2025-07-30T21:02:13.173411",
     "exception": false,
     "start_time": "2025-07-30T21:02:13.129059",
     "status": "completed"
    },
    "tags": []
   },
   "outputs": [
    {
     "data": {
      "text/html": [
       "<div>\n",
       "<style scoped>\n",
       "    .dataframe tbody tr th:only-of-type {\n",
       "        vertical-align: middle;\n",
       "    }\n",
       "\n",
       "    .dataframe tbody tr th {\n",
       "        vertical-align: top;\n",
       "    }\n",
       "\n",
       "    .dataframe thead th {\n",
       "        text-align: right;\n",
       "    }\n",
       "</style>\n",
       "<table border=\"1\" class=\"dataframe\">\n",
       "  <thead>\n",
       "    <tr style=\"text-align: right;\">\n",
       "      <th></th>\n",
       "      <th>universe_id</th>\n",
       "      <th>universe_training_year</th>\n",
       "      <th>universe_training_size</th>\n",
       "      <th>universe_scale</th>\n",
       "      <th>universe_model</th>\n",
       "      <th>universe_exclude_features</th>\n",
       "      <th>universe_exclude_subgroups</th>\n",
       "      <th>q_hat</th>\n",
       "      <th>coverage</th>\n",
       "      <th>avg_size</th>\n",
       "      <th>cov_frau1</th>\n",
       "      <th>cov_nongerman</th>\n",
       "      <th>cov_nongerman_male</th>\n",
       "      <th>cov_nongerman_female</th>\n",
       "    </tr>\n",
       "  </thead>\n",
       "  <tbody>\n",
       "    <tr>\n",
       "      <th>0</th>\n",
       "      <td>8f8ee412629500b89a44707843106c65</td>\n",
       "      <td>2012_14</td>\n",
       "      <td>5k</td>\n",
       "      <td>scale</td>\n",
       "      <td>elasticnet</td>\n",
       "      <td>nationality</td>\n",
       "      <td>drop-non-german</td>\n",
       "      <td>0.692679</td>\n",
       "      <td>0.910757</td>\n",
       "      <td>1.135737</td>\n",
       "      <td>0.903868</td>\n",
       "      <td>0.907539</td>\n",
       "      <td>0.926867</td>\n",
       "      <td>0.875559</td>\n",
       "    </tr>\n",
       "  </tbody>\n",
       "</table>\n",
       "</div>"
      ],
      "text/plain": [
       "                        universe_id universe_training_year  \\\n",
       "0  8f8ee412629500b89a44707843106c65                2012_14   \n",
       "\n",
       "  universe_training_size universe_scale universe_model  \\\n",
       "0                     5k          scale     elasticnet   \n",
       "\n",
       "  universe_exclude_features universe_exclude_subgroups     q_hat  coverage  \\\n",
       "0               nationality            drop-non-german  0.692679  0.910757   \n",
       "\n",
       "   avg_size  cov_frau1  cov_nongerman  cov_nongerman_male  \\\n",
       "0  1.135737   0.903868       0.907539            0.926867   \n",
       "\n",
       "   cov_nongerman_female  \n",
       "0              0.875559  "
      ]
     },
     "execution_count": 71,
     "metadata": {},
     "output_type": "execute_result"
    }
   ],
   "source": [
    "cp_metrics_df"
   ]
  },
  {
   "cell_type": "markdown",
   "id": "33774451",
   "metadata": {
    "papermill": {
     "duration": 0.024231,
     "end_time": "2025-07-30T21:02:13.222818",
     "exception": false,
     "start_time": "2025-07-30T21:02:13.198587",
     "status": "completed"
    },
    "tags": []
   },
   "source": [
    "# (Fairness) Metrics"
   ]
  },
  {
   "cell_type": "code",
   "execution_count": 72,
   "id": "debc5d62",
   "metadata": {
    "execution": {
     "iopub.execute_input": "2025-07-30T21:02:13.273192Z",
     "iopub.status.busy": "2025-07-30T21:02:13.272397Z",
     "iopub.status.idle": "2025-07-30T21:02:13.294057Z",
     "shell.execute_reply": "2025-07-30T21:02:13.293187Z"
    },
    "papermill": {
     "duration": 0.04804,
     "end_time": "2025-07-30T21:02:13.295565",
     "exception": false,
     "start_time": "2025-07-30T21:02:13.247525",
     "status": "completed"
    },
    "tags": []
   },
   "outputs": [],
   "source": [
    "# do I need to include maxdeutsch1.missing?\n",
    "\n",
    "import numpy as np\n",
    "\n",
    "colname_to_bin = \"maxdeutsch1\"\n",
    "majority_value = org_train[colname_to_bin].mode()[0]\n",
    "\n",
    "org_test[\"majmin\"] = np.where(org_test[colname_to_bin] == majority_value, \"majority\", \"minority\")"
   ]
  },
  {
   "cell_type": "code",
   "execution_count": 73,
   "id": "06a50de5",
   "metadata": {
    "execution": {
     "iopub.execute_input": "2025-07-30T21:02:13.347636Z",
     "iopub.status.busy": "2025-07-30T21:02:13.347033Z",
     "iopub.status.idle": "2025-07-30T21:02:16.252495Z",
     "shell.execute_reply": "2025-07-30T21:02:16.251555Z"
    },
    "papermill": {
     "duration": 2.933124,
     "end_time": "2025-07-30T21:02:16.254268",
     "exception": false,
     "start_time": "2025-07-30T21:02:13.321144",
     "status": "completed"
    },
    "tags": []
   },
   "outputs": [],
   "source": [
    "example_universe = universe.copy()\n",
    "example_universe[\"cutoff\"] = example_universe[\"cutoff\"][0]\n",
    "example_universe[\"eval_fairness_grouping\"] = example_universe[\"eval_fairness_grouping\"][0]\n",
    "fairness_dict, metric_frame = universe_analysis.compute_metrics(\n",
    "    example_universe,\n",
    "    y_pred_prob=probs_test,\n",
    "    y_test=y_true,\n",
    "    org_test=org_test,\n",
    ")"
   ]
  },
  {
   "cell_type": "markdown",
   "id": "f95d4e02",
   "metadata": {
    "papermill": {
     "duration": 0.026093,
     "end_time": "2025-07-30T21:02:16.308473",
     "exception": false,
     "start_time": "2025-07-30T21:02:16.282380",
     "status": "completed"
    },
    "tags": []
   },
   "source": [
    "# Overall"
   ]
  },
  {
   "cell_type": "markdown",
   "id": "bdee4871",
   "metadata": {
    "papermill": {
     "duration": 0.027392,
     "end_time": "2025-07-30T21:02:16.361582",
     "exception": false,
     "start_time": "2025-07-30T21:02:16.334190",
     "status": "completed"
    },
    "tags": []
   },
   "source": [
    "Fairness\n",
    "Main fairness target: Equalized Odds. Seems to be a better fit than equal opportunity, since we're not only interested in Y = 1. Seems to be a better fit than demographic parity, since we also care about accuracy, not just equal distribution of preds.\n",
    "\n",
    "Pick column for computation of fairness metrics\n",
    "\n",
    "Performance\n",
    "Overall performance measures, most interesting in relation to the measures split by group below"
   ]
  },
  {
   "cell_type": "code",
   "execution_count": 74,
   "id": "c4e067c6",
   "metadata": {
    "execution": {
     "iopub.execute_input": "2025-07-30T21:02:16.417143Z",
     "iopub.status.busy": "2025-07-30T21:02:16.416477Z",
     "iopub.status.idle": "2025-07-30T21:02:16.424942Z",
     "shell.execute_reply": "2025-07-30T21:02:16.423974Z"
    },
    "papermill": {
     "duration": 0.037961,
     "end_time": "2025-07-30T21:02:16.426623",
     "exception": false,
     "start_time": "2025-07-30T21:02:16.388662",
     "status": "completed"
    },
    "tags": []
   },
   "outputs": [
    {
     "data": {
      "text/plain": [
       "accuracy                   0.223821\n",
       "balanced accuracy          0.547390\n",
       "f1                         0.245168\n",
       "precision                  0.140056\n",
       "false positive rate        0.887842\n",
       "false negative rate        0.017379\n",
       "selection rate             0.900000\n",
       "count                  89710.000000\n",
       "dtype: float64"
      ]
     },
     "execution_count": 74,
     "metadata": {},
     "output_type": "execute_result"
    }
   ],
   "source": [
    "metric_frame.overall"
   ]
  },
  {
   "cell_type": "markdown",
   "id": "e968fe9d",
   "metadata": {
    "papermill": {
     "duration": 0.026435,
     "end_time": "2025-07-30T21:02:16.480202",
     "exception": false,
     "start_time": "2025-07-30T21:02:16.453767",
     "status": "completed"
    },
    "tags": []
   },
   "source": [
    "By Group"
   ]
  },
  {
   "cell_type": "code",
   "execution_count": 75,
   "id": "ec325bce",
   "metadata": {
    "execution": {
     "iopub.execute_input": "2025-07-30T21:02:16.534664Z",
     "iopub.status.busy": "2025-07-30T21:02:16.533983Z",
     "iopub.status.idle": "2025-07-30T21:02:16.549533Z",
     "shell.execute_reply": "2025-07-30T21:02:16.548433Z"
    },
    "papermill": {
     "duration": 0.04405,
     "end_time": "2025-07-30T21:02:16.551202",
     "exception": false,
     "start_time": "2025-07-30T21:02:16.507152",
     "status": "completed"
    },
    "tags": []
   },
   "outputs": [
    {
     "data": {
      "text/html": [
       "<div>\n",
       "<style scoped>\n",
       "    .dataframe tbody tr th:only-of-type {\n",
       "        vertical-align: middle;\n",
       "    }\n",
       "\n",
       "    .dataframe tbody tr th {\n",
       "        vertical-align: top;\n",
       "    }\n",
       "\n",
       "    .dataframe thead th {\n",
       "        text-align: right;\n",
       "    }\n",
       "</style>\n",
       "<table border=\"1\" class=\"dataframe\">\n",
       "  <thead>\n",
       "    <tr style=\"text-align: right;\">\n",
       "      <th></th>\n",
       "      <th>accuracy</th>\n",
       "      <th>balanced accuracy</th>\n",
       "      <th>f1</th>\n",
       "      <th>precision</th>\n",
       "      <th>false positive rate</th>\n",
       "      <th>false negative rate</th>\n",
       "      <th>selection rate</th>\n",
       "      <th>count</th>\n",
       "    </tr>\n",
       "    <tr>\n",
       "      <th>majmin</th>\n",
       "      <th></th>\n",
       "      <th></th>\n",
       "      <th></th>\n",
       "      <th></th>\n",
       "      <th></th>\n",
       "      <th></th>\n",
       "      <th></th>\n",
       "      <th></th>\n",
       "    </tr>\n",
       "  </thead>\n",
       "  <tbody>\n",
       "    <tr>\n",
       "      <th>majority</th>\n",
       "      <td>0.240972</td>\n",
       "      <td>0.555004</td>\n",
       "      <td>0.254762</td>\n",
       "      <td>0.146371</td>\n",
       "      <td>0.871831</td>\n",
       "      <td>0.018162</td>\n",
       "      <td>0.886367</td>\n",
       "      <td>69170.0</td>\n",
       "    </tr>\n",
       "    <tr>\n",
       "      <th>minority</th>\n",
       "      <td>0.166066</td>\n",
       "      <td>0.522454</td>\n",
       "      <td>0.214158</td>\n",
       "      <td>0.120130</td>\n",
       "      <td>0.940733</td>\n",
       "      <td>0.014358</td>\n",
       "      <td>0.945910</td>\n",
       "      <td>20540.0</td>\n",
       "    </tr>\n",
       "  </tbody>\n",
       "</table>\n",
       "</div>"
      ],
      "text/plain": [
       "          accuracy  balanced accuracy        f1  precision  \\\n",
       "majmin                                                       \n",
       "majority  0.240972           0.555004  0.254762   0.146371   \n",
       "minority  0.166066           0.522454  0.214158   0.120130   \n",
       "\n",
       "          false positive rate  false negative rate  selection rate    count  \n",
       "majmin                                                                       \n",
       "majority             0.871831             0.018162        0.886367  69170.0  \n",
       "minority             0.940733             0.014358        0.945910  20540.0  "
      ]
     },
     "execution_count": 75,
     "metadata": {},
     "output_type": "execute_result"
    }
   ],
   "source": [
    "metric_frame.by_group"
   ]
  },
  {
   "cell_type": "code",
   "execution_count": 76,
   "id": "a9ddbe63",
   "metadata": {
    "execution": {
     "iopub.execute_input": "2025-07-30T21:02:16.607892Z",
     "iopub.status.busy": "2025-07-30T21:02:16.606927Z",
     "iopub.status.idle": "2025-07-30T21:02:18.865531Z",
     "shell.execute_reply": "2025-07-30T21:02:18.864697Z"
    },
    "papermill": {
     "duration": 2.287669,
     "end_time": "2025-07-30T21:02:18.866976",
     "exception": false,
     "start_time": "2025-07-30T21:02:16.579307",
     "status": "completed"
    },
    "tags": []
   },
   "outputs": [
    {
     "data": {
      "text/plain": [
       "array([[<Axes: title={'center': 'accuracy'}, xlabel='majmin'>,\n",
       "        <Axes: title={'center': 'balanced accuracy'}, xlabel='majmin'>,\n",
       "        <Axes: title={'center': 'f1'}, xlabel='majmin'>],\n",
       "       [<Axes: title={'center': 'precision'}, xlabel='majmin'>,\n",
       "        <Axes: title={'center': 'false positive rate'}, xlabel='majmin'>,\n",
       "        <Axes: title={'center': 'false negative rate'}, xlabel='majmin'>],\n",
       "       [<Axes: title={'center': 'selection rate'}, xlabel='majmin'>,\n",
       "        <Axes: title={'center': 'count'}, xlabel='majmin'>,\n",
       "        <Axes: xlabel='majmin'>]], dtype=object)"
      ]
     },
     "execution_count": 76,
     "metadata": {},
     "output_type": "execute_result"
    },
    {
     "data": {
      "image/png": "[encoded data removed]",
      "text/plain": [
       "<Figure size 1200x800 with 9 Axes>"
      ]
     },
     "metadata": {},
     "output_type": "display_data"
    }
   ],
   "source": [
    "# In a graphic\n",
    "metric_frame.by_group.plot.bar(\n",
    "    subplots=True,\n",
    "    layout=[3, 3],\n",
    "    legend=False,\n",
    "    figsize=[12, 8],\n",
    "    title=\"Show all metrics\",\n",
    ")"
   ]
  },
  {
   "cell_type": "markdown",
   "id": "f57a0bac",
   "metadata": {
    "papermill": {
     "duration": 0.026303,
     "end_time": "2025-07-30T21:02:18.926599",
     "exception": false,
     "start_time": "2025-07-30T21:02:18.900296",
     "status": "completed"
    },
    "tags": []
   },
   "source": [
    "# Final Output"
   ]
  },
  {
   "cell_type": "code",
   "execution_count": 77,
   "id": "96d280a3",
   "metadata": {
    "execution": {
     "iopub.execute_input": "2025-07-30T21:02:18.983500Z",
     "iopub.status.busy": "2025-07-30T21:02:18.982835Z",
     "iopub.status.idle": "2025-07-30T21:02:18.990947Z",
     "shell.execute_reply": "2025-07-30T21:02:18.990120Z"
    },
    "papermill": {
     "duration": 0.039258,
     "end_time": "2025-07-30T21:02:18.992567",
     "exception": false,
     "start_time": "2025-07-30T21:02:18.953309",
     "status": "completed"
    },
    "tags": []
   },
   "outputs": [
    {
     "data": {
      "text/plain": [
       "4"
      ]
     },
     "execution_count": 77,
     "metadata": {},
     "output_type": "execute_result"
    }
   ],
   "source": [
    "sub_universes = universe_analysis.generate_sub_universes()\n",
    "len(sub_universes)"
   ]
  },
  {
   "cell_type": "code",
   "execution_count": 78,
   "id": "92adf7ba",
   "metadata": {
    "execution": {
     "iopub.execute_input": "2025-07-30T21:02:19.055059Z",
     "iopub.status.busy": "2025-07-30T21:02:19.054559Z",
     "iopub.status.idle": "2025-07-30T21:02:19.061123Z",
     "shell.execute_reply": "2025-07-30T21:02:19.060099Z"
    },
    "papermill": {
     "duration": 0.042897,
     "end_time": "2025-07-30T21:02:19.063028",
     "exception": false,
     "start_time": "2025-07-30T21:02:19.020131",
     "status": "completed"
    },
    "tags": []
   },
   "outputs": [],
   "source": [
    "def filter_sub_universe_data(sub_universe, org_test):\n",
    "    # Keep all rows — no filtering\n",
    "    keep_rows_mask = np.ones(org_test.shape[0], dtype=bool)\n",
    "\n",
    "    print(f\"[INFO] Keeping all rows: {keep_rows_mask.sum()} rows retained.\")\n",
    "    return keep_rows_mask"
   ]
  },
  {
   "cell_type": "code",
   "execution_count": 79,
   "id": "4a759155",
   "metadata": {
    "execution": {
     "iopub.execute_input": "2025-07-30T21:02:19.140139Z",
     "iopub.status.busy": "2025-07-30T21:02:19.139609Z",
     "iopub.status.idle": "2025-07-30T21:02:28.535615Z",
     "shell.execute_reply": "2025-07-30T21:02:28.534598Z"
    },
    "papermill": {
     "duration": 9.437374,
     "end_time": "2025-07-30T21:02:28.537201",
     "exception": false,
     "start_time": "2025-07-30T21:02:19.099827",
     "status": "completed"
    },
    "tags": []
   },
   "outputs": [
    {
     "name": "stdout",
     "output_type": "stream",
     "text": [
      "Stopping execution_time clock.\n",
      "[INFO] Keeping all rows: 89710 rows retained.\n"
     ]
    },
    {
     "name": "stdout",
     "output_type": "stream",
     "text": [
      "[INFO] Keeping all rows: 89710 rows retained.\n"
     ]
    },
    {
     "name": "stdout",
     "output_type": "stream",
     "text": [
      "[INFO] Keeping all rows: 89710 rows retained.\n"
     ]
    },
    {
     "name": "stdout",
     "output_type": "stream",
     "text": [
      "[INFO] Keeping all rows: 89710 rows retained.\n"
     ]
    },
    {
     "data": {
      "text/html": [
       "<div>\n",
       "<style scoped>\n",
       "    .dataframe tbody tr th:only-of-type {\n",
       "        vertical-align: middle;\n",
       "    }\n",
       "\n",
       "    .dataframe tbody tr th {\n",
       "        vertical-align: top;\n",
       "    }\n",
       "\n",
       "    .dataframe thead th {\n",
       "        text-align: right;\n",
       "    }\n",
       "</style>\n",
       "<table border=\"1\" class=\"dataframe\">\n",
       "  <thead>\n",
       "    <tr style=\"text-align: right;\">\n",
       "      <th></th>\n",
       "      <th>run_no</th>\n",
       "      <th>universe_id</th>\n",
       "      <th>universe_settings</th>\n",
       "      <th>execution_time</th>\n",
       "      <th>test_size_n</th>\n",
       "      <th>test_size_frac</th>\n",
       "      <th>fair_main_equalized_odds_difference</th>\n",
       "      <th>fair_main_equalized_odds_ratio</th>\n",
       "      <th>fair_main_demographic_parity_difference</th>\n",
       "      <th>fair_main_demographic_parity_ratio</th>\n",
       "      <th>...</th>\n",
       "      <th>perf_grp_precision_0</th>\n",
       "      <th>perf_grp_precision_1</th>\n",
       "      <th>perf_grp_false positive rate_0</th>\n",
       "      <th>perf_grp_false positive rate_1</th>\n",
       "      <th>perf_grp_false negative rate_0</th>\n",
       "      <th>perf_grp_false negative rate_1</th>\n",
       "      <th>perf_grp_selection rate_0</th>\n",
       "      <th>perf_grp_selection rate_1</th>\n",
       "      <th>perf_grp_count_0</th>\n",
       "      <th>perf_grp_count_1</th>\n",
       "    </tr>\n",
       "  </thead>\n",
       "  <tbody>\n",
       "    <tr>\n",
       "      <th>0</th>\n",
       "      <td>14</td>\n",
       "      <td>8f8ee412629500b89a44707843106c65</td>\n",
       "      <td>{\"cutoff\": \"quantile_0.1\", \"eval_fairness_grou...</td>\n",
       "      <td>34.174386</td>\n",
       "      <td>89710</td>\n",
       "      <td>1.0</td>\n",
       "      <td>0.068902</td>\n",
       "      <td>0.926757</td>\n",
       "      <td>0.059543</td>\n",
       "      <td>0.937052</td>\n",
       "      <td>...</td>\n",
       "      <td>NaN</td>\n",
       "      <td>NaN</td>\n",
       "      <td>NaN</td>\n",
       "      <td>NaN</td>\n",
       "      <td>NaN</td>\n",
       "      <td>NaN</td>\n",
       "      <td>NaN</td>\n",
       "      <td>NaN</td>\n",
       "      <td>NaN</td>\n",
       "      <td>NaN</td>\n",
       "    </tr>\n",
       "    <tr>\n",
       "      <th>0</th>\n",
       "      <td>14</td>\n",
       "      <td>8f8ee412629500b89a44707843106c65</td>\n",
       "      <td>{\"cutoff\": \"quantile_0.1\", \"eval_fairness_grou...</td>\n",
       "      <td>34.174386</td>\n",
       "      <td>89710</td>\n",
       "      <td>1.0</td>\n",
       "      <td>0.068902</td>\n",
       "      <td>0.926757</td>\n",
       "      <td>0.059543</td>\n",
       "      <td>0.937052</td>\n",
       "      <td>...</td>\n",
       "      <td>0.120130</td>\n",
       "      <td>0.146371</td>\n",
       "      <td>0.940733</td>\n",
       "      <td>0.871831</td>\n",
       "      <td>0.014358</td>\n",
       "      <td>0.018162</td>\n",
       "      <td>0.945910</td>\n",
       "      <td>0.886367</td>\n",
       "      <td>20540.0</td>\n",
       "      <td>69170.0</td>\n",
       "    </tr>\n",
       "    <tr>\n",
       "      <th>0</th>\n",
       "      <td>14</td>\n",
       "      <td>8f8ee412629500b89a44707843106c65</td>\n",
       "      <td>{\"cutoff\": \"quantile_0.25\", \"eval_fairness_gro...</td>\n",
       "      <td>34.174386</td>\n",
       "      <td>89710</td>\n",
       "      <td>1.0</td>\n",
       "      <td>0.132067</td>\n",
       "      <td>0.839705</td>\n",
       "      <td>0.113222</td>\n",
       "      <td>0.864776</td>\n",
       "      <td>...</td>\n",
       "      <td>NaN</td>\n",
       "      <td>NaN</td>\n",
       "      <td>NaN</td>\n",
       "      <td>NaN</td>\n",
       "      <td>NaN</td>\n",
       "      <td>NaN</td>\n",
       "      <td>NaN</td>\n",
       "      <td>NaN</td>\n",
       "      <td>NaN</td>\n",
       "      <td>NaN</td>\n",
       "    </tr>\n",
       "    <tr>\n",
       "      <th>0</th>\n",
       "      <td>14</td>\n",
       "      <td>8f8ee412629500b89a44707843106c65</td>\n",
       "      <td>{\"cutoff\": \"quantile_0.25\", \"eval_fairness_gro...</td>\n",
       "      <td>34.174386</td>\n",
       "      <td>89710</td>\n",
       "      <td>1.0</td>\n",
       "      <td>0.132067</td>\n",
       "      <td>0.839705</td>\n",
       "      <td>0.113222</td>\n",
       "      <td>0.864776</td>\n",
       "      <td>...</td>\n",
       "      <td>0.129434</td>\n",
       "      <td>0.170773</td>\n",
       "      <td>0.823905</td>\n",
       "      <td>0.691837</td>\n",
       "      <td>0.059966</td>\n",
       "      <td>0.064223</td>\n",
       "      <td>0.837293</td>\n",
       "      <td>0.724071</td>\n",
       "      <td>20540.0</td>\n",
       "      <td>69170.0</td>\n",
       "    </tr>\n",
       "  </tbody>\n",
       "</table>\n",
       "<p>4 rows × 50 columns</p>\n",
       "</div>"
      ],
      "text/plain": [
       "  run_no                       universe_id  \\\n",
       "0     14  8f8ee412629500b89a44707843106c65   \n",
       "0     14  8f8ee412629500b89a44707843106c65   \n",
       "0     14  8f8ee412629500b89a44707843106c65   \n",
       "0     14  8f8ee412629500b89a44707843106c65   \n",
       "\n",
       "                                   universe_settings  execution_time  \\\n",
       "0  {\"cutoff\": \"quantile_0.1\", \"eval_fairness_grou...       34.174386   \n",
       "0  {\"cutoff\": \"quantile_0.1\", \"eval_fairness_grou...       34.174386   \n",
       "0  {\"cutoff\": \"quantile_0.25\", \"eval_fairness_gro...       34.174386   \n",
       "0  {\"cutoff\": \"quantile_0.25\", \"eval_fairness_gro...       34.174386   \n",
       "\n",
       "   test_size_n  test_size_frac  fair_main_equalized_odds_difference  \\\n",
       "0        89710             1.0                             0.068902   \n",
       "0        89710             1.0                             0.068902   \n",
       "0        89710             1.0                             0.132067   \n",
       "0        89710             1.0                             0.132067   \n",
       "\n",
       "   fair_main_equalized_odds_ratio  fair_main_demographic_parity_difference  \\\n",
       "0                        0.926757                                 0.059543   \n",
       "0                        0.926757                                 0.059543   \n",
       "0                        0.839705                                 0.113222   \n",
       "0                        0.839705                                 0.113222   \n",
       "\n",
       "   fair_main_demographic_parity_ratio  ...  perf_grp_precision_0  \\\n",
       "0                            0.937052  ...                   NaN   \n",
       "0                            0.937052  ...              0.120130   \n",
       "0                            0.864776  ...                   NaN   \n",
       "0                            0.864776  ...              0.129434   \n",
       "\n",
       "   perf_grp_precision_1  perf_grp_false positive rate_0  \\\n",
       "0                   NaN                             NaN   \n",
       "0              0.146371                        0.940733   \n",
       "0                   NaN                             NaN   \n",
       "0              0.170773                        0.823905   \n",
       "\n",
       "   perf_grp_false positive rate_1  perf_grp_false negative rate_0  \\\n",
       "0                             NaN                             NaN   \n",
       "0                        0.871831                        0.014358   \n",
       "0                             NaN                             NaN   \n",
       "0                        0.691837                        0.059966   \n",
       "\n",
       "   perf_grp_false negative rate_1  perf_grp_selection rate_0  \\\n",
       "0                             NaN                        NaN   \n",
       "0                        0.018162                   0.945910   \n",
       "0                             NaN                        NaN   \n",
       "0                        0.064223                   0.837293   \n",
       "\n",
       "   perf_grp_selection rate_1  perf_grp_count_0  perf_grp_count_1  \n",
       "0                        NaN               NaN               NaN  \n",
       "0                   0.886367           20540.0           69170.0  \n",
       "0                        NaN               NaN               NaN  \n",
       "0                   0.724071           20540.0           69170.0  \n",
       "\n",
       "[4 rows x 50 columns]"
      ]
     },
     "execution_count": 79,
     "metadata": {},
     "output_type": "execute_result"
    }
   ],
   "source": [
    "final_output = universe_analysis.generate_final_output(\n",
    "    y_pred_prob=probs_test,\n",
    "    y_test=y_true,\n",
    "    org_test=org_test,\n",
    "    filter_data=filter_sub_universe_data,\n",
    "    cp_metrics_df=cp_metrics_df,\n",
    "    save=True,\n",
    ")\n",
    "final_output"
   ]
  },
  {
   "cell_type": "code",
   "execution_count": null,
   "id": "721ff514-cb11-46f8-b6fc-50392f74b5cb",
   "metadata": {
    "papermill": {
     "duration": 0.029032,
     "end_time": "2025-07-30T21:02:28.597932",
     "exception": false,
     "start_time": "2025-07-30T21:02:28.568900",
     "status": "completed"
    },
    "tags": []
   },
   "outputs": [],
   "source": []
  }
 ],
 "metadata": {
  "celltoolbar": "Tags",
  "kernelspec": {
   "display_name": "Python (CMA Fairness)",
   "language": "python",
   "name": "cma_fair_env"
  },
  "language_info": {
   "codemirror_mode": {
    "name": "ipython",
    "version": 3
   },
   "file_extension": ".py",
   "mimetype": "text/x-python",
   "name": "python",
   "nbconvert_exporter": "python",
   "pygments_lexer": "ipython3",
   "version": "3.10.12"
  },
  "papermill": {
   "default_parameters": {},
   "duration": 47.664782,
   "end_time": "2025-07-30T21:02:29.445982",
   "environment_variables": {},
   "exception": null,
   "input_path": "universe_analysis.ipynb",
   "output_path": "output/runs/14/notebooks/m_14-8f8ee412629500b89a44707843106c65.ipynb",
   "parameters": {
    "output_dir": "output",
    "run_no": "14",
    "seed": "2023",
    "universe": "{\"cutoff\": [\"quantile_0.1\", \"quantile_0.25\"], \"eval_fairness_grouping\": [\"majority-minority\", \"nationality-all\"], \"exclude_features\": \"nationality\", \"exclude_subgroups\": \"drop-non-german\", \"model\": \"elasticnet\", \"scale\": \"scale\", \"training_size\": \"5k\", \"training_year\": \"2012_14\"}",
    "universe_id": "8f8ee412629500b89a44707843106c65"
   },
   "start_time": "2025-07-30T21:01:41.781200",
   "version": "2.6.0"
  }
 },
 "nbformat": 4,
 "nbformat_minor": 5
}