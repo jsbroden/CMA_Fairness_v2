{
 "cells": [
  {
   "cell_type": "code",
   "execution_count": 1,
   "id": "f159f837-637b-42ba-96b5-ec9a68c44524",
   "metadata": {
    "execution": {
     "iopub.execute_input": "2025-07-30T21:38:35.602602Z",
     "iopub.status.busy": "2025-07-30T21:38:35.602210Z",
     "iopub.status.idle": "2025-07-30T21:38:35.615438Z",
     "shell.execute_reply": "2025-07-30T21:38:35.614522Z"
    },
    "papermill": {
     "duration": 0.037335,
     "end_time": "2025-07-30T21:38:35.617353",
     "exception": false,
     "start_time": "2025-07-30T21:38:35.580018",
     "status": "completed"
    },
    "tags": []
   },
   "outputs": [
    {
     "name": "stdout",
     "output_type": "stream",
     "text": [
      "/dss/dsshome1/0C/ra93lal2/cma/CMA_Fairness_v2\n"
     ]
    },
    {
     "name": "stderr",
     "output_type": "stream",
     "text": [
      "/dss/dsshome1/0C/ra93lal2/.local/share/virtualenvs/CMA_Fairness_v2-3j10GkSs/lib/python3.10/site-packages/IPython/core/magics/osm.py:393: UserWarning: This is now an optional IPython functionality, using bookmarks requires you to install the `pickleshare` library.\n",
      "  bkms = self.shell.db.get('bookmarks', {})\n",
      "/dss/dsshome1/0C/ra93lal2/.local/share/virtualenvs/CMA_Fairness_v2-3j10GkSs/lib/python3.10/site-packages/IPython/core/magics/osm.py:417: UserWarning: This is now an optional IPython functionality, setting dhist requires you to install the `pickleshare` library.\n",
      "  self.shell.db['dhist'] = compress_dhist(dhist)[-100:]\n"
     ]
    }
   ],
   "source": [
    "%cd ~/cma/CMA_Fairness_v2"
   ]
  },
  {
   "cell_type": "markdown",
   "id": "de2603b9",
   "metadata": {
    "papermill": {
     "duration": 0.019465,
     "end_time": "2025-07-30T21:38:35.657476",
     "exception": false,
     "start_time": "2025-07-30T21:38:35.638011",
     "status": "completed"
    },
    "tags": []
   },
   "source": [
    "The following cell holds the definition of our parameters, these values can be overriden by rendering the with e.g. the following command:\n",
    "\n",
    "papermill -p alpha 0.2 -p ratio 0.3 universe_analysis.ipynb output/test_run.ipynb"
   ]
  },
  {
   "cell_type": "code",
   "execution_count": 2,
   "id": "a80968a0-40bb-4fa9-85ef-2d5eefb01975",
   "metadata": {
    "execution": {
     "iopub.execute_input": "2025-07-30T21:38:35.682627Z",
     "iopub.status.busy": "2025-07-30T21:38:35.682230Z",
     "iopub.status.idle": "2025-07-30T21:38:35.686526Z",
     "shell.execute_reply": "2025-07-30T21:38:35.685770Z"
    },
    "papermill": {
     "duration": 0.016224,
     "end_time": "2025-07-30T21:38:35.687802",
     "exception": false,
     "start_time": "2025-07-30T21:38:35.671578",
     "status": "completed"
    },
    "tags": []
   },
   "outputs": [
    {
     "name": "stdout",
     "output_type": "stream",
     "text": [
      "Current working directory: /dss/dsshome1/0C/ra93lal2/cma/CMA_Fairness_v2\n"
     ]
    }
   ],
   "source": [
    "import os\n",
    "print(\"Current working directory:\", os.getcwd())"
   ]
  },
  {
   "cell_type": "code",
   "execution_count": 3,
   "id": "2dce4c03",
   "metadata": {
    "execution": {
     "iopub.execute_input": "2025-07-30T21:38:35.711521Z",
     "iopub.status.busy": "2025-07-30T21:38:35.710781Z",
     "iopub.status.idle": "2025-07-30T21:38:35.721532Z",
     "shell.execute_reply": "2025-07-30T21:38:35.720674Z"
    },
    "papermill": {
     "duration": 0.024727,
     "end_time": "2025-07-30T21:38:35.723078",
     "exception": false,
     "start_time": "2025-07-30T21:38:35.698351",
     "status": "completed"
    },
    "tags": [
     "parameters"
    ]
   },
   "outputs": [],
   "source": [
    "run_no = 0\n",
    "universe_id = \"test\"\n",
    "universe = {\n",
    "    \"training_size\": \"25k\", # \"25k\", \"5k\", \"1k\"\n",
    "    \"training_year\": \"2014\", # \"2014\", \"2012_14\", \"2010_14\"\n",
    "    \"scale\": \"scale\", # \"scale\", \"do-not-scale\",\n",
    "    #\"stratify_split\": \"target\", # \"none\", \"target\", \"protected-attribute\", \"both\",\n",
    "    \"model\": \"elasticnet\", # \"logreg\", \"penalized_logreg\", \"rf\", \"gbm\", \"elasticnet\"\n",
    "    \"cutoff\": [\"quantile_0.15\", \"quantile_0.30\"],\n",
    "    \"exclude_features\": \"age\", # \"none\", \"nationality\", \"sex\", \"nationality-sex\", \"age\"\n",
    "    \"exclude_subgroups\": \"keep-all\", # \"keep-all\", \"drop-non-german\"\n",
    "    \"eval_fairness_grouping\": [\"majority-minority\", \"nationality-all\"]\n",
    "}\n",
    "\n",
    "output_dir=\"./output\"\n",
    "seed=0"
   ]
  },
  {
   "cell_type": "code",
   "execution_count": 4,
   "id": "e31a68be",
   "metadata": {
    "execution": {
     "iopub.execute_input": "2025-07-30T21:38:35.764932Z",
     "iopub.status.busy": "2025-07-30T21:38:35.764499Z",
     "iopub.status.idle": "2025-07-30T21:38:35.770356Z",
     "shell.execute_reply": "2025-07-30T21:38:35.769255Z"
    },
    "papermill": {
     "duration": 0.029435,
     "end_time": "2025-07-30T21:38:35.772736",
     "exception": false,
     "start_time": "2025-07-30T21:38:35.743301",
     "status": "completed"
    },
    "tags": [
     "injected-parameters"
    ]
   },
   "outputs": [],
   "source": [
    "# Parameters\n",
    "universe_id = \"eaefd00078c6d72b355d0ad4f37ead38\"\n",
    "run_no = \"14\"\n",
    "universe = \"{\\\"cutoff\\\": [\\\"quantile_0.1\\\", \\\"quantile_0.25\\\"], \\\"eval_fairness_grouping\\\": [\\\"majority-minority\\\", \\\"nationality-all\\\"], \\\"exclude_features\\\": \\\"nationality-sex\\\", \\\"exclude_subgroups\\\": \\\"keep-all\\\", \\\"model\\\": \\\"logreg\\\", \\\"scale\\\": \\\"do-not-scale\\\", \\\"training_size\\\": \\\"1k\\\", \\\"training_year\\\": \\\"2012_14\\\"}\"\n",
    "output_dir = \"output\"\n",
    "seed = \"2023\"\n"
   ]
  },
  {
   "cell_type": "code",
   "execution_count": 5,
   "id": "1650acaf",
   "metadata": {
    "execution": {
     "iopub.execute_input": "2025-07-30T21:38:35.816064Z",
     "iopub.status.busy": "2025-07-30T21:38:35.815400Z",
     "iopub.status.idle": "2025-07-30T21:38:35.820828Z",
     "shell.execute_reply": "2025-07-30T21:38:35.819769Z"
    },
    "papermill": {
     "duration": 0.029065,
     "end_time": "2025-07-30T21:38:35.822551",
     "exception": false,
     "start_time": "2025-07-30T21:38:35.793486",
     "status": "completed"
    },
    "tags": []
   },
   "outputs": [],
   "source": [
    "import json\n",
    "# Parse universe into dict if it is passed as a string\n",
    "if isinstance(universe, str):\n",
    "    universe = json.loads(universe)"
   ]
  },
  {
   "cell_type": "code",
   "execution_count": 6,
   "id": "16620c48",
   "metadata": {
    "execution": {
     "iopub.execute_input": "2025-07-30T21:38:35.863380Z",
     "iopub.status.busy": "2025-07-30T21:38:35.862891Z",
     "iopub.status.idle": "2025-07-30T21:38:35.906739Z",
     "shell.execute_reply": "2025-07-30T21:38:35.905837Z"
    },
    "papermill": {
     "duration": 0.066743,
     "end_time": "2025-07-30T21:38:35.908541",
     "exception": false,
     "start_time": "2025-07-30T21:38:35.841798",
     "status": "completed"
    },
    "tags": []
   },
   "outputs": [],
   "source": [
    "# Auto-reload the custom package\n",
    "%load_ext autoreload\n",
    "%autoreload 1\n",
    "%aimport fairness_multiverse"
   ]
  },
  {
   "cell_type": "code",
   "execution_count": 7,
   "id": "01c5c9f3",
   "metadata": {
    "execution": {
     "iopub.execute_input": "2025-07-30T21:38:35.949154Z",
     "iopub.status.busy": "2025-07-30T21:38:35.948414Z",
     "iopub.status.idle": "2025-07-30T21:38:37.965115Z",
     "shell.execute_reply": "2025-07-30T21:38:37.964008Z"
    },
    "papermill": {
     "duration": 2.039549,
     "end_time": "2025-07-30T21:38:37.967367",
     "exception": false,
     "start_time": "2025-07-30T21:38:35.927818",
     "status": "completed"
    },
    "tags": []
   },
   "outputs": [],
   "source": [
    "from fairness_multiverse.universe import UniverseAnalysis\n",
    "\n",
    "universe_analysis = UniverseAnalysis(\n",
    "    run_no = run_no,\n",
    "    universe_id = universe_id,\n",
    "    universe = universe,\n",
    "    output_dir=output_dir,\n",
    ")"
   ]
  },
  {
   "cell_type": "code",
   "execution_count": 8,
   "id": "106241f5",
   "metadata": {
    "execution": {
     "iopub.execute_input": "2025-07-30T21:38:38.014704Z",
     "iopub.status.busy": "2025-07-30T21:38:38.013816Z",
     "iopub.status.idle": "2025-07-30T21:38:38.020358Z",
     "shell.execute_reply": "2025-07-30T21:38:38.019280Z"
    },
    "papermill": {
     "duration": 0.031669,
     "end_time": "2025-07-30T21:38:38.021916",
     "exception": false,
     "start_time": "2025-07-30T21:38:37.990247",
     "status": "completed"
    },
    "tags": []
   },
   "outputs": [
    {
     "name": "stdout",
     "output_type": "stream",
     "text": [
      "Using Seed: 2023\n"
     ]
    }
   ],
   "source": [
    "import numpy as np\n",
    "parsed_seed = int(seed)\n",
    "np.random.seed(parsed_seed)\n",
    "print(f\"Using Seed: {parsed_seed}\")"
   ]
  },
  {
   "cell_type": "markdown",
   "id": "e0ebdc57",
   "metadata": {
    "papermill": {
     "duration": 0.020854,
     "end_time": "2025-07-30T21:38:38.063892",
     "exception": false,
     "start_time": "2025-07-30T21:38:38.043038",
     "status": "completed"
    },
    "tags": []
   },
   "source": [
    "# Loading Data"
   ]
  },
  {
   "cell_type": "markdown",
   "id": "681925a3",
   "metadata": {
    "papermill": {
     "duration": 0.020218,
     "end_time": "2025-07-30T21:38:38.106721",
     "exception": false,
     "start_time": "2025-07-30T21:38:38.086503",
     "status": "completed"
    },
    "tags": []
   },
   "source": [
    "Load siab_train, siab_test, siab_calib and/or \n",
    "load siab_train_features, siab_train_labels"
   ]
  },
  {
   "cell_type": "code",
   "execution_count": 9,
   "id": "f0496b8a",
   "metadata": {
    "execution": {
     "iopub.execute_input": "2025-07-30T21:38:38.130888Z",
     "iopub.status.busy": "2025-07-30T21:38:38.130548Z",
     "iopub.status.idle": "2025-07-30T21:38:49.811038Z",
     "shell.execute_reply": "2025-07-30T21:38:49.810191Z"
    },
    "papermill": {
     "duration": 11.693114,
     "end_time": "2025-07-30T21:38:49.812449",
     "exception": false,
     "start_time": "2025-07-30T21:38:38.119335",
     "status": "completed"
    },
    "tags": []
   },
   "outputs": [
    {
     "name": "stdout",
     "output_type": "stream",
     "text": [
      "Loading SIAB data from cache: data/siab_cached.csv.gz\n"
     ]
    },
    {
     "name": "stdout",
     "output_type": "stream",
     "text": [
      "(643690, 164)\n"
     ]
    }
   ],
   "source": [
    "from pathlib import Path\n",
    "import pandas as pd\n",
    "\n",
    "# File paths\n",
    "raw_file = Path(\"data/raw/siab.csv\")\n",
    "cache_file = Path(\"data/siab_cached.csv.gz\")\n",
    "\n",
    "# Ensure cache directory exists\n",
    "cache_file.parent.mkdir(parents=True, exist_ok=True)\n",
    "\n",
    "# Load with simple caching\n",
    "if cache_file.exists():\n",
    "    print(f\"Loading SIAB data from cache: {cache_file}\")\n",
    "    siab = pd.read_csv(cache_file, compression='gzip')\n",
    "else:\n",
    "    print(f\"Cache not found. Reading raw SIAB data: {raw_file}\")\n",
    "    siab = pd.read_csv(raw_file)\n",
    "    siab.to_csv(cache_file, index=False, compression='gzip')\n",
    "    print(f\"Cached SIAB data to: {cache_file}\")\n",
    "\n",
    "# Now use `siab` DataFrame as needed\n",
    "print(siab.shape)"
   ]
  },
  {
   "cell_type": "code",
   "execution_count": 10,
   "id": "db0ca512-5f53-4dba-abdb-a2888bca41ba",
   "metadata": {
    "execution": {
     "iopub.execute_input": "2025-07-30T21:38:49.837679Z",
     "iopub.status.busy": "2025-07-30T21:38:49.836992Z",
     "iopub.status.idle": "2025-07-30T21:38:49.841595Z",
     "shell.execute_reply": "2025-07-30T21:38:49.840855Z"
    },
    "papermill": {
     "duration": 0.016886,
     "end_time": "2025-07-30T21:38:49.842706",
     "exception": false,
     "start_time": "2025-07-30T21:38:49.825820",
     "status": "completed"
    },
    "tags": []
   },
   "outputs": [],
   "source": [
    "#siab"
   ]
  },
  {
   "cell_type": "code",
   "execution_count": 11,
   "id": "a0edb063",
   "metadata": {
    "execution": {
     "iopub.execute_input": "2025-07-30T21:38:49.874898Z",
     "iopub.status.busy": "2025-07-30T21:38:49.874402Z",
     "iopub.status.idle": "2025-07-30T21:38:49.879389Z",
     "shell.execute_reply": "2025-07-30T21:38:49.878465Z"
    },
    "papermill": {
     "duration": 0.026529,
     "end_time": "2025-07-30T21:38:49.881106",
     "exception": false,
     "start_time": "2025-07-30T21:38:49.854577",
     "status": "completed"
    },
    "tags": []
   },
   "outputs": [],
   "source": [
    "#import pandas as pd\n",
    "#\n",
    "#X_train = pd.read_csv(\"./data/X_train.csv\")\n",
    "#y_train = pd.read_csv(\"./data/y_train.csv\")"
   ]
  },
  {
   "cell_type": "code",
   "execution_count": 12,
   "id": "63d08085",
   "metadata": {
    "execution": {
     "iopub.execute_input": "2025-07-30T21:38:49.924010Z",
     "iopub.status.busy": "2025-07-30T21:38:49.923567Z",
     "iopub.status.idle": "2025-07-30T21:38:49.928719Z",
     "shell.execute_reply": "2025-07-30T21:38:49.927898Z"
    },
    "papermill": {
     "duration": 0.027932,
     "end_time": "2025-07-30T21:38:49.929937",
     "exception": false,
     "start_time": "2025-07-30T21:38:49.902005",
     "status": "completed"
    },
    "tags": []
   },
   "outputs": [],
   "source": [
    "#X_test = pd.read_csv(\"./data/X_test.csv\")\n",
    "#y_true = pd.read_csv(\"./data/y_test.csv\")"
   ]
  },
  {
   "cell_type": "code",
   "execution_count": 13,
   "id": "98a8d0fa-1d3d-4ed8-bb2c-281470e24add",
   "metadata": {
    "execution": {
     "iopub.execute_input": "2025-07-30T21:38:49.953217Z",
     "iopub.status.busy": "2025-07-30T21:38:49.952548Z",
     "iopub.status.idle": "2025-07-30T21:38:49.956859Z",
     "shell.execute_reply": "2025-07-30T21:38:49.956109Z"
    },
    "papermill": {
     "duration": 0.017183,
     "end_time": "2025-07-30T21:38:49.958026",
     "exception": false,
     "start_time": "2025-07-30T21:38:49.940843",
     "status": "completed"
    },
    "tags": []
   },
   "outputs": [],
   "source": [
    "# Calibration data for conformal\n",
    "#X_calib = pd.read_csv(\"./data/X_calib.csv\")\n",
    "#y_calib = pd.read_csv(\"./data/y_calib.csv\")"
   ]
  },
  {
   "cell_type": "markdown",
   "id": "997051c5-15bd-4b69-9786-c3001a3ce484",
   "metadata": {
    "papermill": {
     "duration": 0.010803,
     "end_time": "2025-07-30T21:38:49.980809",
     "exception": false,
     "start_time": "2025-07-30T21:38:49.970006",
     "status": "completed"
    },
    "tags": []
   },
   "source": [
    "# Splitting Data and Setting Training Data Size"
   ]
  },
  {
   "cell_type": "code",
   "execution_count": 14,
   "id": "e993b61f-042d-41a6-8c81-f55681f86335",
   "metadata": {
    "execution": {
     "iopub.execute_input": "2025-07-30T21:38:50.003892Z",
     "iopub.status.busy": "2025-07-30T21:38:50.003611Z",
     "iopub.status.idle": "2025-07-30T21:38:50.013931Z",
     "shell.execute_reply": "2025-07-30T21:38:50.012875Z"
    },
    "papermill": {
     "duration": 0.023236,
     "end_time": "2025-07-30T21:38:50.015419",
     "exception": false,
     "start_time": "2025-07-30T21:38:49.992183",
     "status": "completed"
    },
    "tags": []
   },
   "outputs": [],
   "source": [
    "def sample_by_year_size(df,\n",
    "                        training_year: str,\n",
    "                        training_size: str,\n",
    "                        random_state: int = 42):\n",
    "    # --- parse training_year into a list of int years ---\n",
    "    if \"_\" in training_year:\n",
    "        start_str, end_str = training_year.split(\"_\", 1)\n",
    "        start = int(start_str)\n",
    "        end   = int(end_str) if len(end_str) == 4 else (int(end_str) + (start // 100)*100)\n",
    "        years = list(range(start, end + 1))\n",
    "    else:\n",
    "        years = [int(training_year)]\n",
    "\n",
    "    df = df[df[\"year\"].isin(years)].reset_index(drop=True)\n",
    "\n",
    "    # --- map training_size to total number of samples ---\n",
    "    total_map = {\"25k\": 25_000, \"5k\": 5_000, \"1k\": 1_000}\n",
    "    if training_size not in total_map:\n",
    "        return df  # e.g. \"all\"\n",
    "\n",
    "    total_samples = total_map[training_size]\n",
    "    n_years       = len(years)\n",
    "    base          = total_samples // n_years\n",
    "    remainder     = total_samples % n_years\n",
    "\n",
    "    # --- build a dict: year -> how many to sample ---\n",
    "    # give +1 to the first `remainder` years in ascending order\n",
    "    quotas = {\n",
    "        year: base + (1 if idx < remainder else 0)\n",
    "        for idx, year in enumerate(sorted(years))\n",
    "    }\n",
    "\n",
    "    # --- sample per‐year according to the quota dict ---\n",
    "    sampled = (\n",
    "        df\n",
    "        .groupby(\"year\", group_keys=False)\n",
    "        .apply(lambda grp: grp.sample(\n",
    "            n=min(len(grp), quotas[grp.name]),\n",
    "            random_state=random_state))\n",
    "        .reset_index(drop=True)\n",
    "    )\n",
    "\n",
    "    return sampled"
   ]
  },
  {
   "cell_type": "code",
   "execution_count": 15,
   "id": "c0ccd338-0e02-41f3-a09d-f56f9266e3fb",
   "metadata": {
    "execution": {
     "iopub.execute_input": "2025-07-30T21:38:50.040907Z",
     "iopub.status.busy": "2025-07-30T21:38:50.040545Z",
     "iopub.status.idle": "2025-07-30T21:38:50.044799Z",
     "shell.execute_reply": "2025-07-30T21:38:50.044096Z"
    },
    "papermill": {
     "duration": 0.017241,
     "end_time": "2025-07-30T21:38:50.046153",
     "exception": false,
     "start_time": "2025-07-30T21:38:50.028912",
     "status": "completed"
    },
    "tags": []
   },
   "outputs": [],
   "source": [
    "#universe[\"training_size\"]"
   ]
  },
  {
   "cell_type": "code",
   "execution_count": 16,
   "id": "ca707fd7-8047-4acd-bfa5-66248fbbf8e6",
   "metadata": {
    "execution": {
     "iopub.execute_input": "2025-07-30T21:38:50.069781Z",
     "iopub.status.busy": "2025-07-30T21:38:50.069407Z",
     "iopub.status.idle": "2025-07-30T21:38:50.073621Z",
     "shell.execute_reply": "2025-07-30T21:38:50.072728Z"
    },
    "papermill": {
     "duration": 0.017337,
     "end_time": "2025-07-30T21:38:50.074996",
     "exception": false,
     "start_time": "2025-07-30T21:38:50.057659",
     "status": "completed"
    },
    "tags": []
   },
   "outputs": [],
   "source": [
    "#universe[\"training_year\"]"
   ]
  },
  {
   "cell_type": "code",
   "execution_count": 17,
   "id": "aea9c6ef-6f46-42c8-85eb-5a62025c1508",
   "metadata": {
    "execution": {
     "iopub.execute_input": "2025-07-30T21:38:50.097393Z",
     "iopub.status.busy": "2025-07-30T21:38:50.097054Z",
     "iopub.status.idle": "2025-07-30T21:38:50.656188Z",
     "shell.execute_reply": "2025-07-30T21:38:50.655218Z"
    },
    "papermill": {
     "duration": 0.571875,
     "end_time": "2025-07-30T21:38:50.657826",
     "exception": false,
     "start_time": "2025-07-30T21:38:50.085951",
     "status": "completed"
    },
    "tags": []
   },
   "outputs": [],
   "source": [
    "siab_train = sample_by_year_size(siab,\n",
    "                               training_year=universe[\"training_year\"],\n",
    "                               training_size=universe[\"training_size\"])"
   ]
  },
  {
   "cell_type": "code",
   "execution_count": 18,
   "id": "8d3afb32-789d-442c-8d5d-9f5aa8dd2eed",
   "metadata": {
    "execution": {
     "iopub.execute_input": "2025-07-30T21:38:50.698873Z",
     "iopub.status.busy": "2025-07-30T21:38:50.698433Z",
     "iopub.status.idle": "2025-07-30T21:38:50.703335Z",
     "shell.execute_reply": "2025-07-30T21:38:50.702385Z"
    },
    "papermill": {
     "duration": 0.027821,
     "end_time": "2025-07-30T21:38:50.704890",
     "exception": false,
     "start_time": "2025-07-30T21:38:50.677069",
     "status": "completed"
    },
    "tags": []
   },
   "outputs": [],
   "source": [
    "#siab_train.shape"
   ]
  },
  {
   "cell_type": "code",
   "execution_count": 19,
   "id": "d582db68-1a4c-47fb-84fc-08518dc1975a",
   "metadata": {
    "execution": {
     "iopub.execute_input": "2025-07-30T21:38:50.753295Z",
     "iopub.status.busy": "2025-07-30T21:38:50.752803Z",
     "iopub.status.idle": "2025-07-30T21:38:50.757965Z",
     "shell.execute_reply": "2025-07-30T21:38:50.757011Z"
    },
    "papermill": {
     "duration": 0.029898,
     "end_time": "2025-07-30T21:38:50.759503",
     "exception": false,
     "start_time": "2025-07-30T21:38:50.729605",
     "status": "completed"
    },
    "tags": []
   },
   "outputs": [],
   "source": [
    "#display(siab_train.groupby(\"year\").size())"
   ]
  },
  {
   "cell_type": "code",
   "execution_count": 20,
   "id": "a561edb4-d032-42cb-8256-22eac1111c64",
   "metadata": {
    "execution": {
     "iopub.execute_input": "2025-07-30T21:38:50.801293Z",
     "iopub.status.busy": "2025-07-30T21:38:50.800448Z",
     "iopub.status.idle": "2025-07-30T21:38:51.019262Z",
     "shell.execute_reply": "2025-07-30T21:38:51.018297Z"
    },
    "papermill": {
     "duration": 0.241751,
     "end_time": "2025-07-30T21:38:51.021336",
     "exception": false,
     "start_time": "2025-07-30T21:38:50.779585",
     "status": "completed"
    },
    "tags": []
   },
   "outputs": [],
   "source": [
    "#siab_train = siab_s[siab_s.year < 2015]\n",
    "siab_calib = siab[siab.year == 2015]\n",
    "siab_test = siab[siab.year == 2016]"
   ]
  },
  {
   "cell_type": "code",
   "execution_count": 21,
   "id": "472de16f-c3db-4916-846b-1f0de9cf1746",
   "metadata": {
    "execution": {
     "iopub.execute_input": "2025-07-30T21:38:51.065302Z",
     "iopub.status.busy": "2025-07-30T21:38:51.064631Z",
     "iopub.status.idle": "2025-07-30T21:38:51.071499Z",
     "shell.execute_reply": "2025-07-30T21:38:51.070559Z"
    },
    "papermill": {
     "duration": 0.030557,
     "end_time": "2025-07-30T21:38:51.073085",
     "exception": false,
     "start_time": "2025-07-30T21:38:51.042528",
     "status": "completed"
    },
    "tags": []
   },
   "outputs": [],
   "source": [
    "X_train = siab_train.iloc[:,4:164]\n",
    "y_train = siab_train.iloc[:, [3]]"
   ]
  },
  {
   "cell_type": "code",
   "execution_count": 22,
   "id": "828c96af-f43a-4ed6-ba47-8ac73a47d56c",
   "metadata": {
    "execution": {
     "iopub.execute_input": "2025-07-30T21:38:51.114895Z",
     "iopub.status.busy": "2025-07-30T21:38:51.114218Z",
     "iopub.status.idle": "2025-07-30T21:38:51.167741Z",
     "shell.execute_reply": "2025-07-30T21:38:51.166663Z"
    },
    "papermill": {
     "duration": 0.076132,
     "end_time": "2025-07-30T21:38:51.169263",
     "exception": false,
     "start_time": "2025-07-30T21:38:51.093131",
     "status": "completed"
    },
    "tags": []
   },
   "outputs": [],
   "source": [
    "X_calib = siab_calib.iloc[:,4:164]\n",
    "y_calib = siab_calib.iloc[:, [3]]"
   ]
  },
  {
   "cell_type": "code",
   "execution_count": 23,
   "id": "c34be9c3-6bd6-476e-acd3-845840e303be",
   "metadata": {
    "execution": {
     "iopub.execute_input": "2025-07-30T21:38:51.193908Z",
     "iopub.status.busy": "2025-07-30T21:38:51.193399Z",
     "iopub.status.idle": "2025-07-30T21:38:51.270532Z",
     "shell.execute_reply": "2025-07-30T21:38:51.269640Z"
    },
    "papermill": {
     "duration": 0.090868,
     "end_time": "2025-07-30T21:38:51.272177",
     "exception": false,
     "start_time": "2025-07-30T21:38:51.181309",
     "status": "completed"
    },
    "tags": []
   },
   "outputs": [],
   "source": [
    "X_test = siab_test.iloc[:,4:164]\n",
    "y_true = siab_test.iloc[:, [3]]"
   ]
  },
  {
   "cell_type": "markdown",
   "id": "9901737e-04df-44f0-9100-f5ad144ed040",
   "metadata": {
    "papermill": {
     "duration": 0.02021,
     "end_time": "2025-07-30T21:38:51.312871",
     "exception": false,
     "start_time": "2025-07-30T21:38:51.292661",
     "status": "completed"
    },
    "tags": []
   },
   "source": [
    "# Splitting Data and Setting Training Data Size OLD VERSION"
   ]
  },
  {
   "cell_type": "code",
   "execution_count": 24,
   "id": "acbc8f7d-8fc8-4e86-8c59-5dcb0f58384b",
   "metadata": {
    "execution": {
     "iopub.execute_input": "2025-07-30T21:38:51.355251Z",
     "iopub.status.busy": "2025-07-30T21:38:51.354367Z",
     "iopub.status.idle": "2025-07-30T21:38:51.360056Z",
     "shell.execute_reply": "2025-07-30T21:38:51.359085Z"
    },
    "papermill": {
     "duration": 0.028896,
     "end_time": "2025-07-30T21:38:51.361922",
     "exception": false,
     "start_time": "2025-07-30T21:38:51.333026",
     "status": "completed"
    },
    "tags": []
   },
   "outputs": [],
   "source": [
    "#def sample_by_year(df, training_size, random_state=42):\n",
    "#    if training_size == \"2014\":\n",
    "#        return df[df[\"year\"] == 2014].reset_index(drop=True)\n",
    "#    \n",
    "#    size_map = {\n",
    "#        \"25k\": 5000,\n",
    "#        \"5k\": 1000,\n",
    "#        \"1k\": 200\n",
    "#    }\n",
    "#\n",
    "#    if training_size not in size_map:\n",
    "#        return df.reset_index(drop=True)  # use all data\n",
    "#\n",
    "#    n_per_year = size_map[training_size]\n",
    "#    grouped = df.groupby(\"year\")\n",
    "#    sampled = grouped.apply(lambda x: x.sample(n=min(n_per_year, len(x)), random_state=random_state))\n",
    "#    return sampled.reset_index(drop=True)"
   ]
  },
  {
   "cell_type": "code",
   "execution_count": 25,
   "id": "6d931f52-beaf-43ff-9e78-9d44a448d54e",
   "metadata": {
    "execution": {
     "iopub.execute_input": "2025-07-30T21:38:51.405265Z",
     "iopub.status.busy": "2025-07-30T21:38:51.404765Z",
     "iopub.status.idle": "2025-07-30T21:38:51.409906Z",
     "shell.execute_reply": "2025-07-30T21:38:51.408944Z"
    },
    "papermill": {
     "duration": 0.028224,
     "end_time": "2025-07-30T21:38:51.411655",
     "exception": false,
     "start_time": "2025-07-30T21:38:51.383431",
     "status": "completed"
    },
    "tags": []
   },
   "outputs": [],
   "source": [
    "#siab_s = sample_by_year(siab, universe[\"training_size\"])"
   ]
  },
  {
   "cell_type": "code",
   "execution_count": 26,
   "id": "5db0a40e-a4e2-4920-be85-b12ae061d70d",
   "metadata": {
    "execution": {
     "iopub.execute_input": "2025-07-30T21:38:51.457754Z",
     "iopub.status.busy": "2025-07-30T21:38:51.456858Z",
     "iopub.status.idle": "2025-07-30T21:38:51.462287Z",
     "shell.execute_reply": "2025-07-30T21:38:51.461464Z"
    },
    "papermill": {
     "duration": 0.029228,
     "end_time": "2025-07-30T21:38:51.463814",
     "exception": false,
     "start_time": "2025-07-30T21:38:51.434586",
     "status": "completed"
    },
    "tags": []
   },
   "outputs": [],
   "source": [
    "#display(siab_s.groupby(\"year\").size())"
   ]
  },
  {
   "cell_type": "code",
   "execution_count": 27,
   "id": "e6c733c5",
   "metadata": {
    "execution": {
     "iopub.execute_input": "2025-07-30T21:38:51.507404Z",
     "iopub.status.busy": "2025-07-30T21:38:51.506711Z",
     "iopub.status.idle": "2025-07-30T21:38:51.622918Z",
     "shell.execute_reply": "2025-07-30T21:38:51.621963Z"
    },
    "papermill": {
     "duration": 0.140416,
     "end_time": "2025-07-30T21:38:51.624912",
     "exception": false,
     "start_time": "2025-07-30T21:38:51.484496",
     "status": "completed"
    },
    "tags": []
   },
   "outputs": [],
   "source": [
    "# Auxiliary data needed downstream in the pipeline\n",
    "\n",
    "org_train = X_train.copy()\n",
    "org_test = X_test.copy()\n",
    "org_calib = X_calib.copy()"
   ]
  },
  {
   "cell_type": "code",
   "execution_count": 28,
   "id": "1466abac-c6da-4492-a62f-4240ae3783af",
   "metadata": {
    "execution": {
     "iopub.execute_input": "2025-07-30T21:38:51.669116Z",
     "iopub.status.busy": "2025-07-30T21:38:51.668191Z",
     "iopub.status.idle": "2025-07-30T21:38:51.674287Z",
     "shell.execute_reply": "2025-07-30T21:38:51.673434Z"
    },
    "papermill": {
     "duration": 0.029442,
     "end_time": "2025-07-30T21:38:51.675787",
     "exception": false,
     "start_time": "2025-07-30T21:38:51.646345",
     "status": "completed"
    },
    "tags": []
   },
   "outputs": [],
   "source": [
    "# put in other script?\n",
    "# Group sizes\n",
    "\n",
    "#def calculate_percentages(df, df_name):\n",
    "#    total_entries = len(df)\n",
    "#\n",
    "#    female_pct = (df['frau1'] == 1).mean() * 100\n",
    "#    non_german_pct = ((df['maxdeutsch1'] == 0) & (df['maxdeutsch.Missing.'] == 0)).mean() * 100\n",
    "#    non_german_male_pct = ((df['frau1'] == 0) & (df['maxdeutsch1'] == 0) & (df['maxdeutsch.Missing.'] == 0)).mean() * 100\n",
    "#    non_german_female_pct = ((df['frau1'] == 1) & (df['maxdeutsch1'] == 0) & (df['maxdeutsch.Missing.'] == 0)).mean() * 100\n",
    "#\n",
    "#    print(f\"--- {df_name} ---\")\n",
    "#    print(f\"Female: {female_pct:.2f}%\")\n",
    "#    print(f\"Non-German: {non_german_pct:.2f}%\")\n",
    "#    print(f\"Non-German Male: {non_german_male_pct:.2f}%\")\n",
    "#    print(f\"Non-German Female: {non_german_female_pct:.2f}%\\n\")\n",
    "#\n",
    "## Calculate for each DataFrame\n",
    "#calculate_percentages(siab_calib, \"siab_calib\")\n",
    "#calculate_percentages(siab_test, \"siab_test\")\n",
    "#calculate_percentages(siab_train, \"siab_train\")"
   ]
  },
  {
   "cell_type": "markdown",
   "id": "0a4a1b33",
   "metadata": {
    "papermill": {
     "duration": 0.022808,
     "end_time": "2025-07-30T21:38:51.720577",
     "exception": false,
     "start_time": "2025-07-30T21:38:51.697769",
     "status": "completed"
    },
    "tags": []
   },
   "source": [
    "# Preprocessing Data"
   ]
  },
  {
   "cell_type": "code",
   "execution_count": 29,
   "id": "ca879031",
   "metadata": {
    "execution": {
     "iopub.execute_input": "2025-07-30T21:38:51.767591Z",
     "iopub.status.busy": "2025-07-30T21:38:51.767112Z",
     "iopub.status.idle": "2025-07-30T21:38:51.773169Z",
     "shell.execute_reply": "2025-07-30T21:38:51.772231Z"
    },
    "papermill": {
     "duration": 0.031271,
     "end_time": "2025-07-30T21:38:51.774796",
     "exception": false,
     "start_time": "2025-07-30T21:38:51.743525",
     "status": "completed"
    },
    "tags": []
   },
   "outputs": [],
   "source": [
    "# EXCLUDE PROTECTED FEATURES\n",
    "# ----------------------\n",
    "# \"exclude_features\": \"none\", # \"nationality\", \"sex\", \"nationality-sex\"\n",
    "\n",
    "excluded_features = universe[\"exclude_features\"].split(\"-\") # split, e.g.: \"nationality-sex\" -> [\"nationality\", \"sex\"]\n",
    "excluded_features_dictionary = {\n",
    "    \"nationality\": [\"maxdeutsch1\", \"maxdeutsch.Missing.\"],\n",
    "    \"sex\": [\"frau1\"],\n",
    "    \"age\": [\"age\"],\n",
    "}\n"
   ]
  },
  {
   "cell_type": "code",
   "execution_count": 30,
   "id": "b745ac60",
   "metadata": {
    "execution": {
     "iopub.execute_input": "2025-07-30T21:38:51.820911Z",
     "iopub.status.busy": "2025-07-30T21:38:51.820205Z",
     "iopub.status.idle": "2025-07-30T21:38:51.826103Z",
     "shell.execute_reply": "2025-07-30T21:38:51.825236Z"
    },
    "papermill": {
     "duration": 0.030771,
     "end_time": "2025-07-30T21:38:51.827758",
     "exception": false,
     "start_time": "2025-07-30T21:38:51.796987",
     "status": "completed"
    },
    "tags": []
   },
   "outputs": [],
   "source": [
    "# Code nice names to column names\n",
    "\n",
    "excluded_features_columns = [\n",
    "    excluded_features_dictionary[f] for f in excluded_features if len(f) > 0 and f != \"none\"\n",
    "]"
   ]
  },
  {
   "cell_type": "code",
   "execution_count": 31,
   "id": "f84f73a2",
   "metadata": {
    "execution": {
     "iopub.execute_input": "2025-07-30T21:38:51.875100Z",
     "iopub.status.busy": "2025-07-30T21:38:51.874185Z",
     "iopub.status.idle": "2025-07-30T21:38:51.880661Z",
     "shell.execute_reply": "2025-07-30T21:38:51.879667Z"
    },
    "papermill": {
     "duration": 0.032031,
     "end_time": "2025-07-30T21:38:51.882291",
     "exception": false,
     "start_time": "2025-07-30T21:38:51.850260",
     "status": "completed"
    },
    "tags": []
   },
   "outputs": [],
   "source": [
    "from utils import flatten_once\n",
    "\n",
    "excluded_features_columns = flatten_once(excluded_features_columns)"
   ]
  },
  {
   "cell_type": "code",
   "execution_count": 32,
   "id": "884dea22",
   "metadata": {
    "execution": {
     "iopub.execute_input": "2025-07-30T21:38:51.930316Z",
     "iopub.status.busy": "2025-07-30T21:38:51.929957Z",
     "iopub.status.idle": "2025-07-30T21:38:51.936817Z",
     "shell.execute_reply": "2025-07-30T21:38:51.936132Z"
    },
    "papermill": {
     "duration": 0.032153,
     "end_time": "2025-07-30T21:38:51.938067",
     "exception": false,
     "start_time": "2025-07-30T21:38:51.905914",
     "status": "completed"
    },
    "tags": []
   },
   "outputs": [
    {
     "name": "stdout",
     "output_type": "stream",
     "text": [
      "Dropping features: ['maxdeutsch1', 'maxdeutsch.Missing.', 'frau1']\n"
     ]
    }
   ],
   "source": [
    "if len(excluded_features_columns) > 0:\n",
    "    print(f\"Dropping features: {excluded_features_columns}\")\n",
    "    X_train.drop(excluded_features_columns, axis=1, inplace=True)"
   ]
  },
  {
   "cell_type": "code",
   "execution_count": 33,
   "id": "95ab8b16",
   "metadata": {
    "execution": {
     "iopub.execute_input": "2025-07-30T21:38:51.962516Z",
     "iopub.status.busy": "2025-07-30T21:38:51.961861Z",
     "iopub.status.idle": "2025-07-30T21:38:52.020856Z",
     "shell.execute_reply": "2025-07-30T21:38:52.019896Z"
    },
    "papermill": {
     "duration": 0.072416,
     "end_time": "2025-07-30T21:38:52.022376",
     "exception": false,
     "start_time": "2025-07-30T21:38:51.949960",
     "status": "completed"
    },
    "tags": []
   },
   "outputs": [
    {
     "name": "stdout",
     "output_type": "stream",
     "text": [
      "Dropping features: ['maxdeutsch1', 'maxdeutsch.Missing.', 'frau1']\n"
     ]
    }
   ],
   "source": [
    "if len(excluded_features_columns) > 0:\n",
    "    print(f\"Dropping features: {excluded_features_columns}\")\n",
    "    X_test.drop(excluded_features_columns, axis=1, inplace=True)"
   ]
  },
  {
   "cell_type": "code",
   "execution_count": 34,
   "id": "1853aaf5-fb9f-46cb-a2b5-8ea4ae2237e4",
   "metadata": {
    "execution": {
     "iopub.execute_input": "2025-07-30T21:38:52.066633Z",
     "iopub.status.busy": "2025-07-30T21:38:52.066246Z",
     "iopub.status.idle": "2025-07-30T21:38:52.116125Z",
     "shell.execute_reply": "2025-07-30T21:38:52.115105Z"
    },
    "papermill": {
     "duration": 0.075587,
     "end_time": "2025-07-30T21:38:52.118247",
     "exception": false,
     "start_time": "2025-07-30T21:38:52.042660",
     "status": "completed"
    },
    "tags": []
   },
   "outputs": [
    {
     "name": "stdout",
     "output_type": "stream",
     "text": [
      "Dropping features: ['maxdeutsch1', 'maxdeutsch.Missing.', 'frau1']\n"
     ]
    }
   ],
   "source": [
    "if len(excluded_features_columns) > 0:\n",
    "    print(f\"Dropping features: {excluded_features_columns}\")\n",
    "    X_calib.drop(excluded_features_columns, axis=1, inplace=True)"
   ]
  },
  {
   "cell_type": "code",
   "execution_count": 35,
   "id": "6727d079-03e5-481e-9d38-292a90b7a0a8",
   "metadata": {
    "execution": {
     "iopub.execute_input": "2025-07-30T21:38:52.160648Z",
     "iopub.status.busy": "2025-07-30T21:38:52.159805Z",
     "iopub.status.idle": "2025-07-30T21:38:52.164690Z",
     "shell.execute_reply": "2025-07-30T21:38:52.163800Z"
    },
    "papermill": {
     "duration": 0.022619,
     "end_time": "2025-07-30T21:38:52.166240",
     "exception": false,
     "start_time": "2025-07-30T21:38:52.143621",
     "status": "completed"
    },
    "tags": []
   },
   "outputs": [],
   "source": [
    "# SPLIT & STRATIFY DATA\n",
    "# ----------------------"
   ]
  },
  {
   "cell_type": "code",
   "execution_count": 36,
   "id": "76c4dc6d",
   "metadata": {
    "execution": {
     "iopub.execute_input": "2025-07-30T21:38:52.212257Z",
     "iopub.status.busy": "2025-07-30T21:38:52.211750Z",
     "iopub.status.idle": "2025-07-30T21:38:52.217403Z",
     "shell.execute_reply": "2025-07-30T21:38:52.216357Z"
    },
    "papermill": {
     "duration": 0.031127,
     "end_time": "2025-07-30T21:38:52.218980",
     "exception": false,
     "start_time": "2025-07-30T21:38:52.187853",
     "status": "completed"
    },
    "tags": []
   },
   "outputs": [],
   "source": [
    "# EXCLUDE CERTAIN SUBGROUPS\n",
    "# ----------------------\n",
    "\n",
    "mode = universe.get(\"exclude_subgroups\", \"keep-all\") \n",
    "# Fetches the exclude_subgroups setting from the universe dict.\n",
    "# Defaults to \"keep-all\" if the key is missing."
   ]
  },
  {
   "cell_type": "code",
   "execution_count": 37,
   "id": "21994072",
   "metadata": {
    "execution": {
     "iopub.execute_input": "2025-07-30T21:38:52.265689Z",
     "iopub.status.busy": "2025-07-30T21:38:52.265292Z",
     "iopub.status.idle": "2025-07-30T21:38:52.271967Z",
     "shell.execute_reply": "2025-07-30T21:38:52.271033Z"
    },
    "papermill": {
     "duration": 0.032338,
     "end_time": "2025-07-30T21:38:52.273890",
     "exception": false,
     "start_time": "2025-07-30T21:38:52.241552",
     "status": "completed"
    },
    "tags": []
   },
   "outputs": [],
   "source": [
    "if mode == \"keep-all\":\n",
    "    keep_mask = pd.Series(True, index=org_train.index)\n",
    "\n",
    "# org_train contains the original feature columns from features_org (in Simson)\n",
    "# features_org contains unprocessed features, for me X_train at beginning ???\n",
    "# For keep-all, creates a boolean Series (keep_mask) of all True, so no rows are removed.\n",
    "\n",
    "elif mode == \"drop-non-german\":\n",
    "    keep_mask = org_train[\"maxdeutsch1\"] == 1 # ??? what about missing values?\n",
    "\n",
    "else:\n",
    "    raise ValueError(f\"Unsupported mode for exclude_subgroups: {mode}\")\n"
   ]
  },
  {
   "cell_type": "code",
   "execution_count": 38,
   "id": "71651440",
   "metadata": {
    "execution": {
     "iopub.execute_input": "2025-07-30T21:38:52.321824Z",
     "iopub.status.busy": "2025-07-30T21:38:52.321336Z",
     "iopub.status.idle": "2025-07-30T21:38:52.328170Z",
     "shell.execute_reply": "2025-07-30T21:38:52.327089Z"
    },
    "papermill": {
     "duration": 0.032929,
     "end_time": "2025-07-30T21:38:52.329873",
     "exception": false,
     "start_time": "2025-07-30T21:38:52.296944",
     "status": "completed"
    },
    "tags": []
   },
   "outputs": [],
   "source": [
    "n_drop = (~keep_mask).sum() # Calculates how many rows are set to be dropped\n",
    "if n_drop > 0:\n",
    "    pct = n_drop / len(keep_mask) * 100\n",
    "    print(f\"Dropping {n_drop} rows ({pct:.2f}%) where mode='{mode}'\")"
   ]
  },
  {
   "cell_type": "code",
   "execution_count": 39,
   "id": "5fb8eee5",
   "metadata": {
    "execution": {
     "iopub.execute_input": "2025-07-30T21:38:52.365156Z",
     "iopub.status.busy": "2025-07-30T21:38:52.364752Z",
     "iopub.status.idle": "2025-07-30T21:38:52.370901Z",
     "shell.execute_reply": "2025-07-30T21:38:52.370188Z"
    },
    "papermill": {
     "duration": 0.021212,
     "end_time": "2025-07-30T21:38:52.372267",
     "exception": false,
     "start_time": "2025-07-30T21:38:52.351055",
     "status": "completed"
    },
    "tags": []
   },
   "outputs": [],
   "source": [
    "X_train = X_train[keep_mask]"
   ]
  },
  {
   "cell_type": "code",
   "execution_count": 40,
   "id": "b202bb3a",
   "metadata": {
    "execution": {
     "iopub.execute_input": "2025-07-30T21:38:52.401806Z",
     "iopub.status.busy": "2025-07-30T21:38:52.401204Z",
     "iopub.status.idle": "2025-07-30T21:38:52.407804Z",
     "shell.execute_reply": "2025-07-30T21:38:52.406691Z"
    },
    "papermill": {
     "duration": 0.024644,
     "end_time": "2025-07-30T21:38:52.409831",
     "exception": false,
     "start_time": "2025-07-30T21:38:52.385187",
     "status": "completed"
    },
    "tags": []
   },
   "outputs": [],
   "source": [
    "y_train = y_train[keep_mask]"
   ]
  },
  {
   "cell_type": "markdown",
   "id": "493e2ac3",
   "metadata": {
    "papermill": {
     "duration": 0.024407,
     "end_time": "2025-07-30T21:38:52.459268",
     "exception": false,
     "start_time": "2025-07-30T21:38:52.434861",
     "status": "completed"
    },
    "tags": []
   },
   "source": [
    "# Model Training"
   ]
  },
  {
   "cell_type": "code",
   "execution_count": 41,
   "id": "679e1268",
   "metadata": {
    "execution": {
     "iopub.execute_input": "2025-07-30T21:38:52.511677Z",
     "iopub.status.busy": "2025-07-30T21:38:52.511186Z",
     "iopub.status.idle": "2025-07-30T21:38:52.621280Z",
     "shell.execute_reply": "2025-07-30T21:38:52.620262Z"
    },
    "papermill": {
     "duration": 0.137964,
     "end_time": "2025-07-30T21:38:52.622856",
     "exception": false,
     "start_time": "2025-07-30T21:38:52.484892",
     "status": "completed"
    },
    "tags": []
   },
   "outputs": [],
   "source": [
    "from sklearn.linear_model import LogisticRegression\n",
    "from sklearn.ensemble import GradientBoostingClassifier, RandomForestClassifier\n",
    "\n",
    "if (universe[\"model\"] == \"logreg\"):\n",
    "    model = LogisticRegression() #penalty=\"none\") #, solver=\"newton-cg\", max_iter=1) # include random_state=19 ?\n",
    "elif (universe[\"model\"] == \"penalized_logreg\"):\n",
    "    model = LogisticRegression(penalty=\"l2\", C=1.0) #, solver=\"newton-cg\", max_iter=1)\n",
    "elif (universe[\"model\"] == \"rf\"):\n",
    "    model = RandomForestClassifier(n_estimators=100, n_jobs=-1)\n",
    "elif (universe[\"model\"] == \"gbm\"):\n",
    "    model = GradientBoostingClassifier()\n",
    "elif (universe[\"model\"] == \"elasticnet\"):\n",
    "    model = LogisticRegression(penalty = 'elasticnet', solver = 'saga', l1_ratio = 0.5, max_iter=5000) # which solver to use?\n",
    "else:\n",
    "    raise \"Unsupported universe.model\""
   ]
  },
  {
   "cell_type": "code",
   "execution_count": 42,
   "id": "0cc8f744",
   "metadata": {
    "execution": {
     "iopub.execute_input": "2025-07-30T21:38:52.672259Z",
     "iopub.status.busy": "2025-07-30T21:38:52.671788Z",
     "iopub.status.idle": "2025-07-30T21:38:52.678939Z",
     "shell.execute_reply": "2025-07-30T21:38:52.677938Z"
    },
    "papermill": {
     "duration": 0.034724,
     "end_time": "2025-07-30T21:38:52.680784",
     "exception": false,
     "start_time": "2025-07-30T21:38:52.646060",
     "status": "completed"
    },
    "tags": []
   },
   "outputs": [],
   "source": [
    "import numpy as np\n",
    "from sklearn.pipeline import Pipeline\n",
    "from sklearn.preprocessing import StandardScaler\n",
    "\n",
    "model = Pipeline([\n",
    "    #(\"continuous_processor\", continuous_processor),\n",
    "    #(\"categorical_preprocessor\", categorical_preprocessor),\n",
    "    (\"scale\", StandardScaler() if universe[\"scale\"] == \"scale\" else None), \n",
    "    (\"model\", model),\n",
    "])"
   ]
  },
  {
   "cell_type": "code",
   "execution_count": 43,
   "id": "9442c04d",
   "metadata": {
    "execution": {
     "iopub.execute_input": "2025-07-30T21:38:52.732927Z",
     "iopub.status.busy": "2025-07-30T21:38:52.731852Z",
     "iopub.status.idle": "2025-07-30T21:38:52.808219Z",
     "shell.execute_reply": "2025-07-30T21:38:52.807109Z"
    },
    "papermill": {
     "duration": 0.105991,
     "end_time": "2025-07-30T21:38:52.810725",
     "exception": false,
     "start_time": "2025-07-30T21:38:52.704734",
     "status": "completed"
    },
    "tags": []
   },
   "outputs": [
    {
     "name": "stderr",
     "output_type": "stream",
     "text": [
      "/dss/dsshome1/0C/ra93lal2/.local/share/virtualenvs/CMA_Fairness_v2-3j10GkSs/lib/python3.10/site-packages/sklearn/linear_model/_logistic.py:444: ConvergenceWarning: lbfgs failed to converge (status=1):\n",
      "STOP: TOTAL NO. of ITERATIONS REACHED LIMIT.\n",
      "\n",
      "Increase the number of iterations (max_iter) or scale the data as shown in:\n",
      "    https://scikit-learn.org/stable/modules/preprocessing.html\n",
      "Please also refer to the documentation for alternative solver options:\n",
      "    https://scikit-learn.org/stable/modules/linear_model.html#logistic-regression\n",
      "  n_iter_i = _check_optimize_result(\n"
     ]
    },
    {
     "data": {
      "text/html": [
       "<style>#sk-container-id-1 {color: black;background-color: white;}#sk-container-id-1 pre{padding: 0;}#sk-container-id-1 div.sk-toggleable {background-color: white;}#sk-container-id-1 label.sk-toggleable__label {cursor: pointer;display: block;width: 100%;margin-bottom: 0;padding: 0.3em;box-sizing: border-box;text-align: center;}#sk-container-id-1 label.sk-toggleable__label-arrow:before {content: \"▸\";float: left;margin-right: 0.25em;color: #696969;}#sk-container-id-1 label.sk-toggleable__label-arrow:hover:before {color: black;}#sk-container-id-1 div.sk-estimator:hover label.sk-toggleable__label-arrow:before {color: black;}#sk-container-id-1 div.sk-toggleable__content {max-height: 0;max-width: 0;overflow: hidden;text-align: left;background-color: #f0f8ff;}#sk-container-id-1 div.sk-toggleable__content pre {margin: 0.2em;color: black;border-radius: 0.25em;background-color: #f0f8ff;}#sk-container-id-1 input.sk-toggleable__control:checked~div.sk-toggleable__content {max-height: 200px;max-width: 100%;overflow: auto;}#sk-container-id-1 input.sk-toggleable__control:checked~label.sk-toggleable__label-arrow:before {content: \"▾\";}#sk-container-id-1 div.sk-estimator input.sk-toggleable__control:checked~label.sk-toggleable__label {background-color: #d4ebff;}#sk-container-id-1 div.sk-label input.sk-toggleable__control:checked~label.sk-toggleable__label {background-color: #d4ebff;}#sk-container-id-1 input.sk-hidden--visually {border: 0;clip: rect(1px 1px 1px 1px);clip: rect(1px, 1px, 1px, 1px);height: 1px;margin: -1px;overflow: hidden;padding: 0;position: absolute;width: 1px;}#sk-container-id-1 div.sk-estimator {font-family: monospace;background-color: #f0f8ff;border: 1px dotted black;border-radius: 0.25em;box-sizing: border-box;margin-bottom: 0.5em;}#sk-container-id-1 div.sk-estimator:hover {background-color: #d4ebff;}#sk-container-id-1 div.sk-parallel-item::after {content: \"\";width: 100%;border-bottom: 1px solid gray;flex-grow: 1;}#sk-container-id-1 div.sk-label:hover label.sk-toggleable__label {background-color: #d4ebff;}#sk-container-id-1 div.sk-serial::before {content: \"\";position: absolute;border-left: 1px solid gray;box-sizing: border-box;top: 0;bottom: 0;left: 50%;z-index: 0;}#sk-container-id-1 div.sk-serial {display: flex;flex-direction: column;align-items: center;background-color: white;padding-right: 0.2em;padding-left: 0.2em;position: relative;}#sk-container-id-1 div.sk-item {position: relative;z-index: 1;}#sk-container-id-1 div.sk-parallel {display: flex;align-items: stretch;justify-content: center;background-color: white;position: relative;}#sk-container-id-1 div.sk-item::before, #sk-container-id-1 div.sk-parallel-item::before {content: \"\";position: absolute;border-left: 1px solid gray;box-sizing: border-box;top: 0;bottom: 0;left: 50%;z-index: -1;}#sk-container-id-1 div.sk-parallel-item {display: flex;flex-direction: column;z-index: 1;position: relative;background-color: white;}#sk-container-id-1 div.sk-parallel-item:first-child::after {align-self: flex-end;width: 50%;}#sk-container-id-1 div.sk-parallel-item:last-child::after {align-self: flex-start;width: 50%;}#sk-container-id-1 div.sk-parallel-item:only-child::after {width: 0;}#sk-container-id-1 div.sk-dashed-wrapped {border: 1px dashed gray;margin: 0 0.4em 0.5em 0.4em;box-sizing: border-box;padding-bottom: 0.4em;background-color: white;}#sk-container-id-1 div.sk-label label {font-family: monospace;font-weight: bold;display: inline-block;line-height: 1.2em;}#sk-container-id-1 div.sk-label-container {text-align: center;}#sk-container-id-1 div.sk-container {/* jupyter's `normalize.less` sets `[hidden] { display: none; }` but bootstrap.min.css set `[hidden] { display: none !important; }` so we also need the `!important` here to be able to override the default hidden behavior on the sphinx rendered scikit-learn.org. See: https://github.com/scikit-learn/scikit-learn/issues/21755 */display: inline-block !important;position: relative;}#sk-container-id-1 div.sk-text-repr-fallback {display: none;}</style><div id=\"sk-container-id-1\" class=\"sk-top-container\"><div class=\"sk-text-repr-fallback\"><pre>Pipeline(steps=[(&#x27;scale&#x27;, None), (&#x27;model&#x27;, LogisticRegression())])</pre><b>In a Jupyter environment, please rerun this cell to show the HTML representation or trust the notebook. <br />On GitHub, the HTML representation is unable to render, please try loading this page with nbviewer.org.</b></div><div class=\"sk-container\" hidden><div class=\"sk-item sk-dashed-wrapped\"><div class=\"sk-label-container\"><div class=\"sk-label sk-toggleable\"><input class=\"sk-toggleable__control sk-hidden--visually\" id=\"sk-estimator-id-1\" type=\"checkbox\" ><label for=\"sk-estimator-id-1\" class=\"sk-toggleable__label sk-toggleable__label-arrow\">Pipeline</label><div class=\"sk-toggleable__content\"><pre>Pipeline(steps=[(&#x27;scale&#x27;, None), (&#x27;model&#x27;, LogisticRegression())])</pre></div></div></div><div class=\"sk-serial\"><div class=\"sk-item\"><div class=\"sk-estimator sk-toggleable\"><input class=\"sk-toggleable__control sk-hidden--visually\" id=\"sk-estimator-id-2\" type=\"checkbox\" ><label for=\"sk-estimator-id-2\" class=\"sk-toggleable__label sk-toggleable__label-arrow\">None</label><div class=\"sk-toggleable__content\"><pre>None</pre></div></div></div><div class=\"sk-item\"><div class=\"sk-estimator sk-toggleable\"><input class=\"sk-toggleable__control sk-hidden--visually\" id=\"sk-estimator-id-3\" type=\"checkbox\" ><label for=\"sk-estimator-id-3\" class=\"sk-toggleable__label sk-toggleable__label-arrow\">LogisticRegression</label><div class=\"sk-toggleable__content\"><pre>LogisticRegression()</pre></div></div></div></div></div></div></div>"
      ],
      "text/plain": [
       "Pipeline(steps=[('scale', None), ('model', LogisticRegression())])"
      ]
     },
     "execution_count": 43,
     "metadata": {},
     "output_type": "execute_result"
    }
   ],
   "source": [
    "model.fit(X_train, y_train.values.ravel())"
   ]
  },
  {
   "cell_type": "code",
   "execution_count": 44,
   "id": "af59f8c0",
   "metadata": {
    "execution": {
     "iopub.execute_input": "2025-07-30T21:38:52.863972Z",
     "iopub.status.busy": "2025-07-30T21:38:52.863052Z",
     "iopub.status.idle": "2025-07-30T21:38:52.868760Z",
     "shell.execute_reply": "2025-07-30T21:38:52.867703Z"
    },
    "papermill": {
     "duration": 0.034694,
     "end_time": "2025-07-30T21:38:52.870502",
     "exception": false,
     "start_time": "2025-07-30T21:38:52.835808",
     "status": "completed"
    },
    "tags": []
   },
   "outputs": [],
   "source": [
    "from fairness_multiverse.universe import predict_w_threshold"
   ]
  },
  {
   "cell_type": "code",
   "execution_count": 45,
   "id": "a7cf2e16",
   "metadata": {
    "execution": {
     "iopub.execute_input": "2025-07-30T21:38:52.923885Z",
     "iopub.status.busy": "2025-07-30T21:38:52.923363Z",
     "iopub.status.idle": "2025-07-30T21:38:53.023473Z",
     "shell.execute_reply": "2025-07-30T21:38:53.022578Z"
    },
    "papermill": {
     "duration": 0.129753,
     "end_time": "2025-07-30T21:38:53.025140",
     "exception": false,
     "start_time": "2025-07-30T21:38:52.895387",
     "status": "completed"
    },
    "tags": []
   },
   "outputs": [
    {
     "data": {
      "text/plain": [
       "0.8631813621669825"
      ]
     },
     "execution_count": 45,
     "metadata": {},
     "output_type": "execute_result"
    }
   ],
   "source": [
    "probs_test = model.predict_proba(X_test)\n",
    "\n",
    "'''\n",
    "Below code returns a boolean array (or binary 0/1 array depending on how it’s used) where each element \n",
    "is True if the probability of class 1 is greater than or equal to the threshold, and False otherwise.\n",
    "'''\n",
    "y_pred_default = predict_w_threshold(probs_test, 0.5)\n",
    "\n",
    "from sklearn.metrics import accuracy_score\n",
    "\n",
    "# Naive prediction\n",
    "accuracy_score(y_true = y_true, y_pred = y_pred_default)"
   ]
  },
  {
   "cell_type": "code",
   "execution_count": 46,
   "id": "081964c3",
   "metadata": {
    "execution": {
     "iopub.execute_input": "2025-07-30T21:38:53.080102Z",
     "iopub.status.busy": "2025-07-30T21:38:53.079134Z",
     "iopub.status.idle": "2025-07-30T21:38:53.168775Z",
     "shell.execute_reply": "2025-07-30T21:38:53.167643Z"
    },
    "papermill": {
     "duration": 0.118993,
     "end_time": "2025-07-30T21:38:53.170484",
     "exception": false,
     "start_time": "2025-07-30T21:38:53.051491",
     "status": "completed"
    },
    "tags": []
   },
   "outputs": [
    {
     "data": {
      "text/plain": [
       "array([0, 0, 0, ..., 0, 0, 0])"
      ]
     },
     "execution_count": 46,
     "metadata": {},
     "output_type": "execute_result"
    }
   ],
   "source": [
    "model.predict(X_test)"
   ]
  },
  {
   "cell_type": "markdown",
   "id": "56c9705b",
   "metadata": {
    "papermill": {
     "duration": 0.026356,
     "end_time": "2025-07-30T21:38:53.223321",
     "exception": false,
     "start_time": "2025-07-30T21:38:53.196965",
     "status": "completed"
    },
    "tags": []
   },
   "source": [
    "# Conformal Prediction"
   ]
  },
  {
   "cell_type": "code",
   "execution_count": 47,
   "id": "160ec6ff",
   "metadata": {
    "execution": {
     "iopub.execute_input": "2025-07-30T21:38:53.277913Z",
     "iopub.status.busy": "2025-07-30T21:38:53.277317Z",
     "iopub.status.idle": "2025-07-30T21:38:53.282621Z",
     "shell.execute_reply": "2025-07-30T21:38:53.281638Z"
    },
    "papermill": {
     "duration": 0.034897,
     "end_time": "2025-07-30T21:38:53.284454",
     "exception": false,
     "start_time": "2025-07-30T21:38:53.249557",
     "status": "completed"
    },
    "tags": []
   },
   "outputs": [],
   "source": [
    "# Miscoverage level for conformal prediction (10% allowed error rate => 90% target coverage)\n",
    "alpha = 0.1"
   ]
  },
  {
   "cell_type": "code",
   "execution_count": 48,
   "id": "eadf4555-3dd3-440e-8e35-f82a4ad9f855",
   "metadata": {
    "execution": {
     "iopub.execute_input": "2025-07-30T21:38:53.338273Z",
     "iopub.status.busy": "2025-07-30T21:38:53.337784Z",
     "iopub.status.idle": "2025-07-30T21:38:53.422465Z",
     "shell.execute_reply": "2025-07-30T21:38:53.421468Z"
    },
    "papermill": {
     "duration": 0.112998,
     "end_time": "2025-07-30T21:38:53.424413",
     "exception": false,
     "start_time": "2025-07-30T21:38:53.311415",
     "status": "completed"
    },
    "tags": []
   },
   "outputs": [],
   "source": [
    "probs_calib = model.predict_proba(X_calib)"
   ]
  },
  {
   "cell_type": "code",
   "execution_count": 49,
   "id": "2ed93547-6d5d-4983-9b36-1ecb300da49a",
   "metadata": {
    "execution": {
     "iopub.execute_input": "2025-07-30T21:38:53.475511Z",
     "iopub.status.busy": "2025-07-30T21:38:53.475035Z",
     "iopub.status.idle": "2025-07-30T21:38:53.480915Z",
     "shell.execute_reply": "2025-07-30T21:38:53.480007Z"
    },
    "papermill": {
     "duration": 0.033659,
     "end_time": "2025-07-30T21:38:53.482182",
     "exception": false,
     "start_time": "2025-07-30T21:38:53.448523",
     "status": "completed"
    },
    "tags": []
   },
   "outputs": [],
   "source": [
    "y_calib = y_calib.values.ravel().astype(int)"
   ]
  },
  {
   "cell_type": "code",
   "execution_count": 50,
   "id": "65d1320d-f588-4b38-9072-62af1ae97f7d",
   "metadata": {
    "execution": {
     "iopub.execute_input": "2025-07-30T21:38:53.509253Z",
     "iopub.status.busy": "2025-07-30T21:38:53.508603Z",
     "iopub.status.idle": "2025-07-30T21:38:53.516955Z",
     "shell.execute_reply": "2025-07-30T21:38:53.515546Z"
    },
    "papermill": {
     "duration": 0.024203,
     "end_time": "2025-07-30T21:38:53.519254",
     "exception": false,
     "start_time": "2025-07-30T21:38:53.495051",
     "status": "completed"
    },
    "tags": []
   },
   "outputs": [],
   "source": [
    "from fairness_multiverse.conformal import compute_nc_scores\n",
    "\n",
    "# Compute nonconformity scores on calibration set (1 - probability of true class)\n",
    "nc_scores = compute_nc_scores(probs_calib, y_calib)"
   ]
  },
  {
   "cell_type": "code",
   "execution_count": 51,
   "id": "df3b8ca3-53b7-43d5-9667-7c85da7aeda2",
   "metadata": {
    "execution": {
     "iopub.execute_input": "2025-07-30T21:38:53.573665Z",
     "iopub.status.busy": "2025-07-30T21:38:53.573253Z",
     "iopub.status.idle": "2025-07-30T21:38:53.588016Z",
     "shell.execute_reply": "2025-07-30T21:38:53.587296Z"
    },
    "papermill": {
     "duration": 0.034284,
     "end_time": "2025-07-30T21:38:53.589442",
     "exception": false,
     "start_time": "2025-07-30T21:38:53.555158",
     "status": "completed"
    },
    "tags": []
   },
   "outputs": [],
   "source": [
    "from fairness_multiverse.conformal import find_threshold\n",
    "\n",
    "# Find conformal threshold q_hat for the given alpha (split conformal method)\n",
    "q_hat = find_threshold(nc_scores, alpha)"
   ]
  },
  {
   "cell_type": "code",
   "execution_count": 52,
   "id": "4d29e6c1-0ef6-4aa4-b8fe-4fe79b0d033a",
   "metadata": {
    "execution": {
     "iopub.execute_input": "2025-07-30T21:38:53.616653Z",
     "iopub.status.busy": "2025-07-30T21:38:53.616272Z",
     "iopub.status.idle": "2025-07-30T21:38:53.622920Z",
     "shell.execute_reply": "2025-07-30T21:38:53.621987Z"
    },
    "papermill": {
     "duration": 0.021987,
     "end_time": "2025-07-30T21:38:53.624343",
     "exception": false,
     "start_time": "2025-07-30T21:38:53.602356",
     "status": "completed"
    },
    "tags": []
   },
   "outputs": [
    {
     "data": {
      "text/plain": [
       "0.69567303497412"
      ]
     },
     "execution_count": 52,
     "metadata": {},
     "output_type": "execute_result"
    }
   ],
   "source": [
    "q_hat"
   ]
  },
  {
   "cell_type": "code",
   "execution_count": 53,
   "id": "92460794-cdac-4be2-ba28-f28c0515a6fb",
   "metadata": {
    "execution": {
     "iopub.execute_input": "2025-07-30T21:38:53.651775Z",
     "iopub.status.busy": "2025-07-30T21:38:53.651459Z",
     "iopub.status.idle": "2025-07-30T21:38:54.415886Z",
     "shell.execute_reply": "2025-07-30T21:38:54.414951Z"
    },
    "papermill": {
     "duration": 0.77926,
     "end_time": "2025-07-30T21:38:54.417453",
     "exception": false,
     "start_time": "2025-07-30T21:38:53.638193",
     "status": "completed"
    },
    "tags": []
   },
   "outputs": [],
   "source": [
    "from fairness_multiverse.conformal import predict_conformal_sets\n",
    "\n",
    "# Generate prediction sets for each test example\n",
    "pred_sets = predict_conformal_sets(model, X_test, q_hat)"
   ]
  },
  {
   "cell_type": "code",
   "execution_count": 54,
   "id": "d90c9a65-e6db-4f5d-80cd-e68fb7e46829",
   "metadata": {
    "execution": {
     "iopub.execute_input": "2025-07-30T21:38:54.472079Z",
     "iopub.status.busy": "2025-07-30T21:38:54.471587Z",
     "iopub.status.idle": "2025-07-30T21:38:54.477776Z",
     "shell.execute_reply": "2025-07-30T21:38:54.476801Z"
    },
    "papermill": {
     "duration": 0.038204,
     "end_time": "2025-07-30T21:38:54.479490",
     "exception": false,
     "start_time": "2025-07-30T21:38:54.441286",
     "status": "completed"
    },
    "tags": []
   },
   "outputs": [],
   "source": [
    "y_true = y_true.squeeze()"
   ]
  },
  {
   "cell_type": "code",
   "execution_count": 55,
   "id": "3a58a54a-1e68-46b9-927a-df01f18aebc8",
   "metadata": {
    "execution": {
     "iopub.execute_input": "2025-07-30T21:38:54.533191Z",
     "iopub.status.busy": "2025-07-30T21:38:54.532473Z",
     "iopub.status.idle": "2025-07-30T21:38:55.325173Z",
     "shell.execute_reply": "2025-07-30T21:38:55.324000Z"
    },
    "papermill": {
     "duration": 0.820996,
     "end_time": "2025-07-30T21:38:55.326962",
     "exception": false,
     "start_time": "2025-07-30T21:38:54.505966",
     "status": "completed"
    },
    "tags": []
   },
   "outputs": [],
   "source": [
    "from fairness_multiverse.conformal import evaluate_sets\n",
    "\n",
    "# Evaluate coverage and average set size on test data\n",
    "metrics = evaluate_sets(pred_sets, y_true)"
   ]
  },
  {
   "cell_type": "markdown",
   "id": "2b569c12-9aaa-4c88-98c9-bbcd0cf3ebb8",
   "metadata": {
    "papermill": {
     "duration": 0.026608,
     "end_time": "2025-07-30T21:38:55.381167",
     "exception": false,
     "start_time": "2025-07-30T21:38:55.354559",
     "status": "completed"
    },
    "tags": []
   },
   "source": [
    "# CP Metrics"
   ]
  },
  {
   "cell_type": "code",
   "execution_count": 56,
   "id": "5ce0a5cb-201f-45a0-ade5-94c7f0bd6095",
   "metadata": {
    "execution": {
     "iopub.execute_input": "2025-07-30T21:38:55.435892Z",
     "iopub.status.busy": "2025-07-30T21:38:55.435365Z",
     "iopub.status.idle": "2025-07-30T21:38:55.443281Z",
     "shell.execute_reply": "2025-07-30T21:38:55.442304Z"
    },
    "papermill": {
     "duration": 0.037774,
     "end_time": "2025-07-30T21:38:55.445045",
     "exception": false,
     "start_time": "2025-07-30T21:38:55.407271",
     "status": "completed"
    },
    "tags": []
   },
   "outputs": [
    {
     "data": {
      "text/plain": [
       "{'coverage': 0.9118604391929551, 'avg_size': 1.2056403968342437}"
      ]
     },
     "execution_count": 56,
     "metadata": {},
     "output_type": "execute_result"
    }
   ],
   "source": [
    "metrics"
   ]
  },
  {
   "cell_type": "code",
   "execution_count": 57,
   "id": "9b9a838d-31c9-430b-ae14-12baee460d17",
   "metadata": {
    "execution": {
     "iopub.execute_input": "2025-07-30T21:38:55.499747Z",
     "iopub.status.busy": "2025-07-30T21:38:55.499251Z",
     "iopub.status.idle": "2025-07-30T21:38:55.505909Z",
     "shell.execute_reply": "2025-07-30T21:38:55.505017Z"
    },
    "papermill": {
     "duration": 0.036354,
     "end_time": "2025-07-30T21:38:55.507623",
     "exception": false,
     "start_time": "2025-07-30T21:38:55.471269",
     "status": "completed"
    },
    "tags": []
   },
   "outputs": [],
   "source": [
    "example_universe = universe.copy()\n",
    "universe_training_year = example_universe.get(\"training_year\")\n",
    "universe_training_size = example_universe.get(\"training_size\")\n",
    "universe_scale = example_universe.get(\"scale\")\n",
    "universe_model = example_universe.get(\"model\")\n",
    "universe_exclude_features = example_universe.get(\"exclude_features\")\n",
    "universe_exclude_subgroups = example_universe.get(\"exclude_subgroups\")"
   ]
  },
  {
   "cell_type": "code",
   "execution_count": 58,
   "id": "f4b6a8ac-9dc0-4245-8a91-5b3b5999c4f9",
   "metadata": {
    "execution": {
     "iopub.execute_input": "2025-07-30T21:38:55.563851Z",
     "iopub.status.busy": "2025-07-30T21:38:55.562950Z",
     "iopub.status.idle": "2025-07-30T21:38:55.570265Z",
     "shell.execute_reply": "2025-07-30T21:38:55.569249Z"
    },
    "papermill": {
     "duration": 0.037076,
     "end_time": "2025-07-30T21:38:55.571912",
     "exception": false,
     "start_time": "2025-07-30T21:38:55.534836",
     "status": "completed"
    },
    "tags": []
   },
   "outputs": [],
   "source": [
    "cp_metrics_dict = {\n",
    "    \"universe_id\": [universe_id],\n",
    "    \"universe_training_year\": [universe_training_year],\n",
    "    \"universe_training_size\": [universe_training_size],\n",
    "    \"universe_scale\": [universe_scale],\n",
    "    \"universe_model\": [universe_model],\n",
    "    \"universe_exclude_features\": [universe_exclude_features],\n",
    "    \"universe_exclude_subgroups\": [universe_exclude_subgroups],\n",
    "    \"q_hat\": [q_hat],\n",
    "    \"coverage\": [metrics[\"coverage\"]],\n",
    "    \"avg_size\": [metrics[\"avg_size\"]],\n",
    "}"
   ]
  },
  {
   "cell_type": "code",
   "execution_count": 59,
   "id": "908acbb1-0371-4915-85ca-3fa520d2efe2",
   "metadata": {
    "execution": {
     "iopub.execute_input": "2025-07-30T21:38:55.628479Z",
     "iopub.status.busy": "2025-07-30T21:38:55.627780Z",
     "iopub.status.idle": "2025-07-30T21:38:55.636828Z",
     "shell.execute_reply": "2025-07-30T21:38:55.635817Z"
    },
    "papermill": {
     "duration": 0.039848,
     "end_time": "2025-07-30T21:38:55.638501",
     "exception": false,
     "start_time": "2025-07-30T21:38:55.598653",
     "status": "completed"
    },
    "tags": []
   },
   "outputs": [
    {
     "data": {
      "text/plain": [
       "{'universe_id': ['eaefd00078c6d72b355d0ad4f37ead38'],\n",
       " 'universe_training_year': ['2012_14'],\n",
       " 'universe_training_size': ['1k'],\n",
       " 'universe_scale': ['do-not-scale'],\n",
       " 'universe_model': ['logreg'],\n",
       " 'universe_exclude_features': ['nationality-sex'],\n",
       " 'universe_exclude_subgroups': ['keep-all'],\n",
       " 'q_hat': [0.69567303497412],\n",
       " 'coverage': [0.9118604391929551],\n",
       " 'avg_size': [1.2056403968342437]}"
      ]
     },
     "execution_count": 59,
     "metadata": {},
     "output_type": "execute_result"
    }
   ],
   "source": [
    "cp_metrics_dict"
   ]
  },
  {
   "cell_type": "code",
   "execution_count": 60,
   "id": "33007efc-14e9-4ec6-97ac-56a455c82265",
   "metadata": {
    "execution": {
     "iopub.execute_input": "2025-07-30T21:38:55.693002Z",
     "iopub.status.busy": "2025-07-30T21:38:55.692525Z",
     "iopub.status.idle": "2025-07-30T21:38:55.699668Z",
     "shell.execute_reply": "2025-07-30T21:38:55.698060Z"
    },
    "papermill": {
     "duration": 0.035622,
     "end_time": "2025-07-30T21:38:55.701338",
     "exception": false,
     "start_time": "2025-07-30T21:38:55.665716",
     "status": "completed"
    },
    "tags": []
   },
   "outputs": [],
   "source": [
    "cp_metrics_df = pd.DataFrame(cp_metrics_dict)"
   ]
  },
  {
   "cell_type": "code",
   "execution_count": 61,
   "id": "db12611b-57b2-4910-b9d0-355adfd6e7bf",
   "metadata": {
    "execution": {
     "iopub.execute_input": "2025-07-30T21:38:55.762023Z",
     "iopub.status.busy": "2025-07-30T21:38:55.761484Z",
     "iopub.status.idle": "2025-07-30T21:38:55.780188Z",
     "shell.execute_reply": "2025-07-30T21:38:55.779094Z"
    },
    "papermill": {
     "duration": 0.05159,
     "end_time": "2025-07-30T21:38:55.781782",
     "exception": false,
     "start_time": "2025-07-30T21:38:55.730192",
     "status": "completed"
    },
    "tags": []
   },
   "outputs": [
    {
     "data": {
      "text/html": [
       "<div>\n",
       "<style scoped>\n",
       "    .dataframe tbody tr th:only-of-type {\n",
       "        vertical-align: middle;\n",
       "    }\n",
       "\n",
       "    .dataframe tbody tr th {\n",
       "        vertical-align: top;\n",
       "    }\n",
       "\n",
       "    .dataframe thead th {\n",
       "        text-align: right;\n",
       "    }\n",
       "</style>\n",
       "<table border=\"1\" class=\"dataframe\">\n",
       "  <thead>\n",
       "    <tr style=\"text-align: right;\">\n",
       "      <th></th>\n",
       "      <th>universe_id</th>\n",
       "      <th>universe_training_year</th>\n",
       "      <th>universe_training_size</th>\n",
       "      <th>universe_scale</th>\n",
       "      <th>universe_model</th>\n",
       "      <th>universe_exclude_features</th>\n",
       "      <th>universe_exclude_subgroups</th>\n",
       "      <th>q_hat</th>\n",
       "      <th>coverage</th>\n",
       "      <th>avg_size</th>\n",
       "    </tr>\n",
       "  </thead>\n",
       "  <tbody>\n",
       "    <tr>\n",
       "      <th>0</th>\n",
       "      <td>eaefd00078c6d72b355d0ad4f37ead38</td>\n",
       "      <td>2012_14</td>\n",
       "      <td>1k</td>\n",
       "      <td>do-not-scale</td>\n",
       "      <td>logreg</td>\n",
       "      <td>nationality-sex</td>\n",
       "      <td>keep-all</td>\n",
       "      <td>0.695673</td>\n",
       "      <td>0.91186</td>\n",
       "      <td>1.20564</td>\n",
       "    </tr>\n",
       "  </tbody>\n",
       "</table>\n",
       "</div>"
      ],
      "text/plain": [
       "                        universe_id universe_training_year  \\\n",
       "0  eaefd00078c6d72b355d0ad4f37ead38                2012_14   \n",
       "\n",
       "  universe_training_size universe_scale universe_model  \\\n",
       "0                     1k   do-not-scale         logreg   \n",
       "\n",
       "  universe_exclude_features universe_exclude_subgroups     q_hat  coverage  \\\n",
       "0           nationality-sex                   keep-all  0.695673   0.91186   \n",
       "\n",
       "   avg_size  \n",
       "0   1.20564  "
      ]
     },
     "execution_count": 61,
     "metadata": {},
     "output_type": "execute_result"
    }
   ],
   "source": [
    "cp_metrics_df"
   ]
  },
  {
   "cell_type": "code",
   "execution_count": 62,
   "id": "b7fbde55-a0a1-47e4-9af6-fe4a17fa8c61",
   "metadata": {
    "execution": {
     "iopub.execute_input": "2025-07-30T21:38:55.837362Z",
     "iopub.status.busy": "2025-07-30T21:38:55.837008Z",
     "iopub.status.idle": "2025-07-30T21:38:55.841812Z",
     "shell.execute_reply": "2025-07-30T21:38:55.840782Z"
    },
    "papermill": {
     "duration": 0.034273,
     "end_time": "2025-07-30T21:38:55.843785",
     "exception": false,
     "start_time": "2025-07-30T21:38:55.809512",
     "status": "completed"
    },
    "tags": []
   },
   "outputs": [],
   "source": [
    "# Conditional Coverage & looking at subgroups"
   ]
  },
  {
   "cell_type": "code",
   "execution_count": 63,
   "id": "027ae886-68dd-4141-96c7-805a5450e1ef",
   "metadata": {
    "execution": {
     "iopub.execute_input": "2025-07-30T21:38:55.873386Z",
     "iopub.status.busy": "2025-07-30T21:38:55.873081Z",
     "iopub.status.idle": "2025-07-30T21:38:56.166035Z",
     "shell.execute_reply": "2025-07-30T21:38:56.165008Z"
    },
    "papermill": {
     "duration": 0.308688,
     "end_time": "2025-07-30T21:38:56.167660",
     "exception": false,
     "start_time": "2025-07-30T21:38:55.858972",
     "status": "completed"
    },
    "tags": []
   },
   "outputs": [],
   "source": [
    "from fairness_multiverse.conformal import build_cp_groups\n",
    "\n",
    "cp_groups_df = build_cp_groups(pred_sets, y_true, X_test.index, org_test)\n",
    "#needs universe_id and setting"
   ]
  },
  {
   "cell_type": "code",
   "execution_count": 64,
   "id": "01d5802c-663a-4d1f-9d69-e036faaffbf7",
   "metadata": {
    "execution": {
     "iopub.execute_input": "2025-07-30T21:38:56.229681Z",
     "iopub.status.busy": "2025-07-30T21:38:56.229200Z",
     "iopub.status.idle": "2025-07-30T21:38:56.234613Z",
     "shell.execute_reply": "2025-07-30T21:38:56.233560Z"
    },
    "papermill": {
     "duration": 0.038284,
     "end_time": "2025-07-30T21:38:56.236425",
     "exception": false,
     "start_time": "2025-07-30T21:38:56.198141",
     "status": "completed"
    },
    "tags": []
   },
   "outputs": [],
   "source": [
    "#delete\n",
    "#cp_groups_df"
   ]
  },
  {
   "cell_type": "code",
   "execution_count": 65,
   "id": "fa424af1-d1eb-443d-b717-2d279ada8408",
   "metadata": {
    "execution": {
     "iopub.execute_input": "2025-07-30T21:38:56.293174Z",
     "iopub.status.busy": "2025-07-30T21:38:56.292686Z",
     "iopub.status.idle": "2025-07-30T21:38:56.297925Z",
     "shell.execute_reply": "2025-07-30T21:38:56.296934Z"
    },
    "papermill": {
     "duration": 0.03508,
     "end_time": "2025-07-30T21:38:56.299736",
     "exception": false,
     "start_time": "2025-07-30T21:38:56.264656",
     "status": "completed"
    },
    "tags": []
   },
   "outputs": [],
   "source": [
    "#delete\n",
    "#percentage = (cp_groups_df['nongerman_female'] == 1).mean() * 100\n",
    "#print(percentage)\n"
   ]
  },
  {
   "cell_type": "code",
   "execution_count": 66,
   "id": "6cbdab96-b2b2-45af-ad54-d0516db2e28d",
   "metadata": {
    "execution": {
     "iopub.execute_input": "2025-07-30T21:38:56.362211Z",
     "iopub.status.busy": "2025-07-30T21:38:56.361648Z",
     "iopub.status.idle": "2025-07-30T21:38:58.013132Z",
     "shell.execute_reply": "2025-07-30T21:38:58.012353Z"
    },
    "papermill": {
     "duration": 1.683835,
     "end_time": "2025-07-30T21:38:58.014723",
     "exception": false,
     "start_time": "2025-07-30T21:38:56.330888",
     "status": "completed"
    },
    "tags": []
   },
   "outputs": [],
   "source": [
    "# Define covered = 1 if true_label is in the predicted set\n",
    "cp_groups_df['covered'] = cp_groups_df.apply(\n",
    "    lambda r: int(r['true_label'] in r['pred_set']),\n",
    "    axis=1\n",
    ")"
   ]
  },
  {
   "cell_type": "code",
   "execution_count": 67,
   "id": "338ff529-1a6b-4b87-a931-8e4788d52aad",
   "metadata": {
    "execution": {
     "iopub.execute_input": "2025-07-30T21:38:58.044487Z",
     "iopub.status.busy": "2025-07-30T21:38:58.043968Z",
     "iopub.status.idle": "2025-07-30T21:38:58.048950Z",
     "shell.execute_reply": "2025-07-30T21:38:58.047849Z"
    },
    "papermill": {
     "duration": 0.021585,
     "end_time": "2025-07-30T21:38:58.050899",
     "exception": false,
     "start_time": "2025-07-30T21:38:58.029314",
     "status": "completed"
    },
    "tags": []
   },
   "outputs": [],
   "source": [
    "#cp_groups_df"
   ]
  },
  {
   "cell_type": "code",
   "execution_count": 68,
   "id": "90032e27-66df-4540-9169-4e89cfbaa758",
   "metadata": {
    "execution": {
     "iopub.execute_input": "2025-07-30T21:38:58.108911Z",
     "iopub.status.busy": "2025-07-30T21:38:58.108386Z",
     "iopub.status.idle": "2025-07-30T21:38:58.120658Z",
     "shell.execute_reply": "2025-07-30T21:38:58.119713Z"
    },
    "papermill": {
     "duration": 0.043642,
     "end_time": "2025-07-30T21:38:58.122358",
     "exception": false,
     "start_time": "2025-07-30T21:38:58.078716",
     "status": "completed"
    },
    "tags": []
   },
   "outputs": [],
   "source": [
    "subgroups = ['frau1','nongerman','nongerman_male','nongerman_female']\n",
    "\n",
    "# Conditional coverage for subgroup==1\n",
    "cond_coverage = {\n",
    "    g: cp_groups_df.loc[cp_groups_df[g]==1, 'covered'].mean()\n",
    "    for g in subgroups\n",
    "}"
   ]
  },
  {
   "cell_type": "code",
   "execution_count": 69,
   "id": "1e348fb1-b9c3-45bc-ba23-f016827a7e0d",
   "metadata": {
    "execution": {
     "iopub.execute_input": "2025-07-30T21:38:58.179620Z",
     "iopub.status.busy": "2025-07-30T21:38:58.179106Z",
     "iopub.status.idle": "2025-07-30T21:38:58.187081Z",
     "shell.execute_reply": "2025-07-30T21:38:58.186071Z"
    },
    "papermill": {
     "duration": 0.039257,
     "end_time": "2025-07-30T21:38:58.188733",
     "exception": false,
     "start_time": "2025-07-30T21:38:58.149476",
     "status": "completed"
    },
    "tags": []
   },
   "outputs": [
    {
     "data": {
      "text/plain": [
       "{'frau1': 0.9090713034101631,\n",
       " 'nongerman': 0.9294896985347779,\n",
       " 'nongerman_male': 0.9432585787624966,\n",
       " 'nongerman_female': 0.9067064083457526}"
      ]
     },
     "execution_count": 69,
     "metadata": {},
     "output_type": "execute_result"
    }
   ],
   "source": [
    "cond_coverage"
   ]
  },
  {
   "cell_type": "code",
   "execution_count": 70,
   "id": "f5093324-c3dd-4d63-bc4c-8d945e5c8bbb",
   "metadata": {
    "execution": {
     "iopub.execute_input": "2025-07-30T21:38:58.246222Z",
     "iopub.status.busy": "2025-07-30T21:38:58.245312Z",
     "iopub.status.idle": "2025-07-30T21:38:58.252774Z",
     "shell.execute_reply": "2025-07-30T21:38:58.251797Z"
    },
    "papermill": {
     "duration": 0.03813,
     "end_time": "2025-07-30T21:38:58.254415",
     "exception": false,
     "start_time": "2025-07-30T21:38:58.216285",
     "status": "completed"
    },
    "tags": []
   },
   "outputs": [],
   "source": [
    "for subgroup, cov in cond_coverage.items():\n",
    "    cp_metrics_df[f\"cov_{subgroup}\"] = cov"
   ]
  },
  {
   "cell_type": "code",
   "execution_count": 71,
   "id": "6e872e10-dbe5-49e8-b554-5030c98ff75d",
   "metadata": {
    "execution": {
     "iopub.execute_input": "2025-07-30T21:38:58.308942Z",
     "iopub.status.busy": "2025-07-30T21:38:58.307994Z",
     "iopub.status.idle": "2025-07-30T21:38:58.329374Z",
     "shell.execute_reply": "2025-07-30T21:38:58.328205Z"
    },
    "papermill": {
     "duration": 0.050805,
     "end_time": "2025-07-30T21:38:58.331118",
     "exception": false,
     "start_time": "2025-07-30T21:38:58.280313",
     "status": "completed"
    },
    "tags": []
   },
   "outputs": [
    {
     "data": {
      "text/html": [
       "<div>\n",
       "<style scoped>\n",
       "    .dataframe tbody tr th:only-of-type {\n",
       "        vertical-align: middle;\n",
       "    }\n",
       "\n",
       "    .dataframe tbody tr th {\n",
       "        vertical-align: top;\n",
       "    }\n",
       "\n",
       "    .dataframe thead th {\n",
       "        text-align: right;\n",
       "    }\n",
       "</style>\n",
       "<table border=\"1\" class=\"dataframe\">\n",
       "  <thead>\n",
       "    <tr style=\"text-align: right;\">\n",
       "      <th></th>\n",
       "      <th>universe_id</th>\n",
       "      <th>universe_training_year</th>\n",
       "      <th>universe_training_size</th>\n",
       "      <th>universe_scale</th>\n",
       "      <th>universe_model</th>\n",
       "      <th>universe_exclude_features</th>\n",
       "      <th>universe_exclude_subgroups</th>\n",
       "      <th>q_hat</th>\n",
       "      <th>coverage</th>\n",
       "      <th>avg_size</th>\n",
       "      <th>cov_frau1</th>\n",
       "      <th>cov_nongerman</th>\n",
       "      <th>cov_nongerman_male</th>\n",
       "      <th>cov_nongerman_female</th>\n",
       "    </tr>\n",
       "  </thead>\n",
       "  <tbody>\n",
       "    <tr>\n",
       "      <th>0</th>\n",
       "      <td>eaefd00078c6d72b355d0ad4f37ead38</td>\n",
       "      <td>2012_14</td>\n",
       "      <td>1k</td>\n",
       "      <td>do-not-scale</td>\n",
       "      <td>logreg</td>\n",
       "      <td>nationality-sex</td>\n",
       "      <td>keep-all</td>\n",
       "      <td>0.695673</td>\n",
       "      <td>0.91186</td>\n",
       "      <td>1.20564</td>\n",
       "      <td>0.909071</td>\n",
       "      <td>0.92949</td>\n",
       "      <td>0.943259</td>\n",
       "      <td>0.906706</td>\n",
       "    </tr>\n",
       "  </tbody>\n",
       "</table>\n",
       "</div>"
      ],
      "text/plain": [
       "                        universe_id universe_training_year  \\\n",
       "0  eaefd00078c6d72b355d0ad4f37ead38                2012_14   \n",
       "\n",
       "  universe_training_size universe_scale universe_model  \\\n",
       "0                     1k   do-not-scale         logreg   \n",
       "\n",
       "  universe_exclude_features universe_exclude_subgroups     q_hat  coverage  \\\n",
       "0           nationality-sex                   keep-all  0.695673   0.91186   \n",
       "\n",
       "   avg_size  cov_frau1  cov_nongerman  cov_nongerman_male  \\\n",
       "0   1.20564   0.909071        0.92949            0.943259   \n",
       "\n",
       "   cov_nongerman_female  \n",
       "0              0.906706  "
      ]
     },
     "execution_count": 71,
     "metadata": {},
     "output_type": "execute_result"
    }
   ],
   "source": [
    "cp_metrics_df"
   ]
  },
  {
   "cell_type": "markdown",
   "id": "33774451",
   "metadata": {
    "papermill": {
     "duration": 0.027811,
     "end_time": "2025-07-30T21:38:58.386820",
     "exception": false,
     "start_time": "2025-07-30T21:38:58.359009",
     "status": "completed"
    },
    "tags": []
   },
   "source": [
    "# (Fairness) Metrics"
   ]
  },
  {
   "cell_type": "code",
   "execution_count": 72,
   "id": "debc5d62",
   "metadata": {
    "execution": {
     "iopub.execute_input": "2025-07-30T21:38:58.442764Z",
     "iopub.status.busy": "2025-07-30T21:38:58.441665Z",
     "iopub.status.idle": "2025-07-30T21:38:58.463750Z",
     "shell.execute_reply": "2025-07-30T21:38:58.462649Z"
    },
    "papermill": {
     "duration": 0.052438,
     "end_time": "2025-07-30T21:38:58.465644",
     "exception": false,
     "start_time": "2025-07-30T21:38:58.413206",
     "status": "completed"
    },
    "tags": []
   },
   "outputs": [],
   "source": [
    "# do I need to include maxdeutsch1.missing?\n",
    "\n",
    "import numpy as np\n",
    "\n",
    "colname_to_bin = \"maxdeutsch1\"\n",
    "majority_value = org_train[colname_to_bin].mode()[0]\n",
    "\n",
    "org_test[\"majmin\"] = np.where(org_test[colname_to_bin] == majority_value, \"majority\", \"minority\")"
   ]
  },
  {
   "cell_type": "code",
   "execution_count": 73,
   "id": "06a50de5",
   "metadata": {
    "execution": {
     "iopub.execute_input": "2025-07-30T21:38:58.522926Z",
     "iopub.status.busy": "2025-07-30T21:38:58.522415Z",
     "iopub.status.idle": "2025-07-30T21:39:01.217611Z",
     "shell.execute_reply": "2025-07-30T21:39:01.216870Z"
    },
    "papermill": {
     "duration": 2.726289,
     "end_time": "2025-07-30T21:39:01.219026",
     "exception": false,
     "start_time": "2025-07-30T21:38:58.492737",
     "status": "completed"
    },
    "tags": []
   },
   "outputs": [],
   "source": [
    "example_universe = universe.copy()\n",
    "example_universe[\"cutoff\"] = example_universe[\"cutoff\"][0]\n",
    "example_universe[\"eval_fairness_grouping\"] = example_universe[\"eval_fairness_grouping\"][0]\n",
    "fairness_dict, metric_frame = universe_analysis.compute_metrics(\n",
    "    example_universe,\n",
    "    y_pred_prob=probs_test,\n",
    "    y_test=y_true,\n",
    "    org_test=org_test,\n",
    ")"
   ]
  },
  {
   "cell_type": "markdown",
   "id": "f95d4e02",
   "metadata": {
    "papermill": {
     "duration": 0.014343,
     "end_time": "2025-07-30T21:39:01.250617",
     "exception": false,
     "start_time": "2025-07-30T21:39:01.236274",
     "status": "completed"
    },
    "tags": []
   },
   "source": [
    "# Overall"
   ]
  },
  {
   "cell_type": "markdown",
   "id": "bdee4871",
   "metadata": {
    "papermill": {
     "duration": 0.035986,
     "end_time": "2025-07-30T21:39:01.303977",
     "exception": false,
     "start_time": "2025-07-30T21:39:01.267991",
     "status": "completed"
    },
    "tags": []
   },
   "source": [
    "Fairness\n",
    "Main fairness target: Equalized Odds. Seems to be a better fit than equal opportunity, since we're not only interested in Y = 1. Seems to be a better fit than demographic parity, since we also care about accuracy, not just equal distribution of preds.\n",
    "\n",
    "Pick column for computation of fairness metrics\n",
    "\n",
    "Performance\n",
    "Overall performance measures, most interesting in relation to the measures split by group below"
   ]
  },
  {
   "cell_type": "code",
   "execution_count": 74,
   "id": "c4e067c6",
   "metadata": {
    "execution": {
     "iopub.execute_input": "2025-07-30T21:39:01.341462Z",
     "iopub.status.busy": "2025-07-30T21:39:01.341105Z",
     "iopub.status.idle": "2025-07-30T21:39:01.348503Z",
     "shell.execute_reply": "2025-07-30T21:39:01.347689Z"
    },
    "papermill": {
     "duration": 0.024879,
     "end_time": "2025-07-30T21:39:01.349872",
     "exception": false,
     "start_time": "2025-07-30T21:39:01.324993",
     "status": "completed"
    },
    "tags": []
   },
   "outputs": [
    {
     "data": {
      "text/plain": [
       "accuracy                   0.214993\n",
       "balanced accuracy          0.527652\n",
       "f1                         0.236582\n",
       "precision                  0.135152\n",
       "false positive rate        0.892906\n",
       "false negative rate        0.051790\n",
       "selection rate             0.900000\n",
       "count                  89710.000000\n",
       "dtype: float64"
      ]
     },
     "execution_count": 74,
     "metadata": {},
     "output_type": "execute_result"
    }
   ],
   "source": [
    "metric_frame.overall"
   ]
  },
  {
   "cell_type": "markdown",
   "id": "e968fe9d",
   "metadata": {
    "papermill": {
     "duration": 0.030597,
     "end_time": "2025-07-30T21:39:01.404462",
     "exception": false,
     "start_time": "2025-07-30T21:39:01.373865",
     "status": "completed"
    },
    "tags": []
   },
   "source": [
    "By Group"
   ]
  },
  {
   "cell_type": "code",
   "execution_count": 75,
   "id": "ec325bce",
   "metadata": {
    "execution": {
     "iopub.execute_input": "2025-07-30T21:39:01.462587Z",
     "iopub.status.busy": "2025-07-30T21:39:01.462054Z",
     "iopub.status.idle": "2025-07-30T21:39:01.479737Z",
     "shell.execute_reply": "2025-07-30T21:39:01.478799Z"
    },
    "papermill": {
     "duration": 0.046524,
     "end_time": "2025-07-30T21:39:01.481478",
     "exception": false,
     "start_time": "2025-07-30T21:39:01.434954",
     "status": "completed"
    },
    "tags": []
   },
   "outputs": [
    {
     "data": {
      "text/html": [
       "<div>\n",
       "<style scoped>\n",
       "    .dataframe tbody tr th:only-of-type {\n",
       "        vertical-align: middle;\n",
       "    }\n",
       "\n",
       "    .dataframe tbody tr th {\n",
       "        vertical-align: top;\n",
       "    }\n",
       "\n",
       "    .dataframe thead th {\n",
       "        text-align: right;\n",
       "    }\n",
       "</style>\n",
       "<table border=\"1\" class=\"dataframe\">\n",
       "  <thead>\n",
       "    <tr style=\"text-align: right;\">\n",
       "      <th></th>\n",
       "      <th>accuracy</th>\n",
       "      <th>balanced accuracy</th>\n",
       "      <th>f1</th>\n",
       "      <th>precision</th>\n",
       "      <th>false positive rate</th>\n",
       "      <th>false negative rate</th>\n",
       "      <th>selection rate</th>\n",
       "      <th>count</th>\n",
       "    </tr>\n",
       "    <tr>\n",
       "      <th>majmin</th>\n",
       "      <th></th>\n",
       "      <th></th>\n",
       "      <th></th>\n",
       "      <th></th>\n",
       "      <th></th>\n",
       "      <th></th>\n",
       "      <th></th>\n",
       "      <th></th>\n",
       "    </tr>\n",
       "  </thead>\n",
       "  <tbody>\n",
       "    <tr>\n",
       "      <th>majority</th>\n",
       "      <td>0.236172</td>\n",
       "      <td>0.533966</td>\n",
       "      <td>0.245164</td>\n",
       "      <td>0.140993</td>\n",
       "      <td>0.870798</td>\n",
       "      <td>0.061269</td>\n",
       "      <td>0.879774</td>\n",
       "      <td>69170.0</td>\n",
       "    </tr>\n",
       "    <tr>\n",
       "      <th>minority</th>\n",
       "      <td>0.143671</td>\n",
       "      <td>0.509430</td>\n",
       "      <td>0.209590</td>\n",
       "      <td>0.117274</td>\n",
       "      <td>0.965937</td>\n",
       "      <td>0.015203</td>\n",
       "      <td>0.968111</td>\n",
       "      <td>20540.0</td>\n",
       "    </tr>\n",
       "  </tbody>\n",
       "</table>\n",
       "</div>"
      ],
      "text/plain": [
       "          accuracy  balanced accuracy        f1  precision  \\\n",
       "majmin                                                       \n",
       "majority  0.236172           0.533966  0.245164   0.140993   \n",
       "minority  0.143671           0.509430  0.209590   0.117274   \n",
       "\n",
       "          false positive rate  false negative rate  selection rate    count  \n",
       "majmin                                                                       \n",
       "majority             0.870798             0.061269        0.879774  69170.0  \n",
       "minority             0.965937             0.015203        0.968111  20540.0  "
      ]
     },
     "execution_count": 75,
     "metadata": {},
     "output_type": "execute_result"
    }
   ],
   "source": [
    "metric_frame.by_group"
   ]
  },
  {
   "cell_type": "code",
   "execution_count": 76,
   "id": "a9ddbe63",
   "metadata": {
    "execution": {
     "iopub.execute_input": "2025-07-30T21:39:01.537436Z",
     "iopub.status.busy": "2025-07-30T21:39:01.537033Z",
     "iopub.status.idle": "2025-07-30T21:39:04.052215Z",
     "shell.execute_reply": "2025-07-30T21:39:04.051151Z"
    },
    "papermill": {
     "duration": 2.545395,
     "end_time": "2025-07-30T21:39:04.053601",
     "exception": false,
     "start_time": "2025-07-30T21:39:01.508206",
     "status": "completed"
    },
    "tags": []
   },
   "outputs": [
    {
     "data": {
      "text/plain": [
       "array([[<Axes: title={'center': 'accuracy'}, xlabel='majmin'>,\n",
       "        <Axes: title={'center': 'balanced accuracy'}, xlabel='majmin'>,\n",
       "        <Axes: title={'center': 'f1'}, xlabel='majmin'>],\n",
       "       [<Axes: title={'center': 'precision'}, xlabel='majmin'>,\n",
       "        <Axes: title={'center': 'false positive rate'}, xlabel='majmin'>,\n",
       "        <Axes: title={'center': 'false negative rate'}, xlabel='majmin'>],\n",
       "       [<Axes: title={'center': 'selection rate'}, xlabel='majmin'>,\n",
       "        <Axes: title={'center': 'count'}, xlabel='majmin'>,\n",
       "        <Axes: xlabel='majmin'>]], dtype=object)"
      ]
     },
     "execution_count": 76,
     "metadata": {},
     "output_type": "execute_result"
    },
    {
     "data": {
      "image/png": "[encoded data removed]",
      "text/plain": [
       "<Figure size 1200x800 with 9 Axes>"
      ]
     },
     "metadata": {},
     "output_type": "display_data"
    }
   ],
   "source": [
    "# In a graphic\n",
    "metric_frame.by_group.plot.bar(\n",
    "    subplots=True,\n",
    "    layout=[3, 3],\n",
    "    legend=False,\n",
    "    figsize=[12, 8],\n",
    "    title=\"Show all metrics\",\n",
    ")"
   ]
  },
  {
   "cell_type": "markdown",
   "id": "f57a0bac",
   "metadata": {
    "papermill": {
     "duration": 0.015032,
     "end_time": "2025-07-30T21:39:04.086411",
     "exception": false,
     "start_time": "2025-07-30T21:39:04.071379",
     "status": "completed"
    },
    "tags": []
   },
   "source": [
    "# Final Output"
   ]
  },
  {
   "cell_type": "code",
   "execution_count": 77,
   "id": "96d280a3",
   "metadata": {
    "execution": {
     "iopub.execute_input": "2025-07-30T21:39:04.121652Z",
     "iopub.status.busy": "2025-07-30T21:39:04.121198Z",
     "iopub.status.idle": "2025-07-30T21:39:04.127828Z",
     "shell.execute_reply": "2025-07-30T21:39:04.127071Z"
    },
    "papermill": {
     "duration": 0.024431,
     "end_time": "2025-07-30T21:39:04.129005",
     "exception": false,
     "start_time": "2025-07-30T21:39:04.104574",
     "status": "completed"
    },
    "tags": []
   },
   "outputs": [
    {
     "data": {
      "text/plain": [
       "4"
      ]
     },
     "execution_count": 77,
     "metadata": {},
     "output_type": "execute_result"
    }
   ],
   "source": [
    "sub_universes = universe_analysis.generate_sub_universes()\n",
    "len(sub_universes)"
   ]
  },
  {
   "cell_type": "code",
   "execution_count": 78,
   "id": "92adf7ba",
   "metadata": {
    "execution": {
     "iopub.execute_input": "2025-07-30T21:39:04.165826Z",
     "iopub.status.busy": "2025-07-30T21:39:04.165317Z",
     "iopub.status.idle": "2025-07-30T21:39:04.174086Z",
     "shell.execute_reply": "2025-07-30T21:39:04.173379Z"
    },
    "papermill": {
     "duration": 0.030939,
     "end_time": "2025-07-30T21:39:04.175497",
     "exception": false,
     "start_time": "2025-07-30T21:39:04.144558",
     "status": "completed"
    },
    "tags": []
   },
   "outputs": [],
   "source": [
    "def filter_sub_universe_data(sub_universe, org_test):\n",
    "    # Keep all rows — no filtering\n",
    "    keep_rows_mask = np.ones(org_test.shape[0], dtype=bool)\n",
    "\n",
    "    print(f\"[INFO] Keeping all rows: {keep_rows_mask.sum()} rows retained.\")\n",
    "    return keep_rows_mask"
   ]
  },
  {
   "cell_type": "code",
   "execution_count": 79,
   "id": "4a759155",
   "metadata": {
    "execution": {
     "iopub.execute_input": "2025-07-30T21:39:04.210998Z",
     "iopub.status.busy": "2025-07-30T21:39:04.210424Z",
     "iopub.status.idle": "2025-07-30T21:39:14.792360Z",
     "shell.execute_reply": "2025-07-30T21:39:14.791302Z"
    },
    "papermill": {
     "duration": 10.601717,
     "end_time": "2025-07-30T21:39:14.793899",
     "exception": false,
     "start_time": "2025-07-30T21:39:04.192182",
     "status": "completed"
    },
    "tags": []
   },
   "outputs": [
    {
     "name": "stdout",
     "output_type": "stream",
     "text": [
      "Stopping execution_time clock.\n",
      "[INFO] Keeping all rows: 89710 rows retained.\n"
     ]
    },
    {
     "name": "stdout",
     "output_type": "stream",
     "text": [
      "[INFO] Keeping all rows: 89710 rows retained.\n"
     ]
    },
    {
     "name": "stdout",
     "output_type": "stream",
     "text": [
      "[INFO] Keeping all rows: 89710 rows retained.\n"
     ]
    },
    {
     "name": "stdout",
     "output_type": "stream",
     "text": [
      "[INFO] Keeping all rows: 89710 rows retained.\n"
     ]
    },
    {
     "data": {
      "text/html": [
       "<div>\n",
       "<style scoped>\n",
       "    .dataframe tbody tr th:only-of-type {\n",
       "        vertical-align: middle;\n",
       "    }\n",
       "\n",
       "    .dataframe tbody tr th {\n",
       "        vertical-align: top;\n",
       "    }\n",
       "\n",
       "    .dataframe thead th {\n",
       "        text-align: right;\n",
       "    }\n",
       "</style>\n",
       "<table border=\"1\" class=\"dataframe\">\n",
       "  <thead>\n",
       "    <tr style=\"text-align: right;\">\n",
       "      <th></th>\n",
       "      <th>run_no</th>\n",
       "      <th>universe_id</th>\n",
       "      <th>universe_settings</th>\n",
       "      <th>execution_time</th>\n",
       "      <th>test_size_n</th>\n",
       "      <th>test_size_frac</th>\n",
       "      <th>fair_main_equalized_odds_difference</th>\n",
       "      <th>fair_main_equalized_odds_ratio</th>\n",
       "      <th>fair_main_demographic_parity_difference</th>\n",
       "      <th>fair_main_demographic_parity_ratio</th>\n",
       "      <th>...</th>\n",
       "      <th>perf_grp_precision_0</th>\n",
       "      <th>perf_grp_precision_1</th>\n",
       "      <th>perf_grp_false positive rate_0</th>\n",
       "      <th>perf_grp_false positive rate_1</th>\n",
       "      <th>perf_grp_false negative rate_0</th>\n",
       "      <th>perf_grp_false negative rate_1</th>\n",
       "      <th>perf_grp_selection rate_0</th>\n",
       "      <th>perf_grp_selection rate_1</th>\n",
       "      <th>perf_grp_count_0</th>\n",
       "      <th>perf_grp_count_1</th>\n",
       "    </tr>\n",
       "  </thead>\n",
       "  <tbody>\n",
       "    <tr>\n",
       "      <th>0</th>\n",
       "      <td>14</td>\n",
       "      <td>eaefd00078c6d72b355d0ad4f37ead38</td>\n",
       "      <td>{\"cutoff\": \"quantile_0.1\", \"eval_fairness_grou...</td>\n",
       "      <td>26.30534</td>\n",
       "      <td>89710</td>\n",
       "      <td>1.0</td>\n",
       "      <td>0.095139</td>\n",
       "      <td>0.901506</td>\n",
       "      <td>0.088337</td>\n",
       "      <td>0.908754</td>\n",
       "      <td>...</td>\n",
       "      <td>NaN</td>\n",
       "      <td>NaN</td>\n",
       "      <td>NaN</td>\n",
       "      <td>NaN</td>\n",
       "      <td>NaN</td>\n",
       "      <td>NaN</td>\n",
       "      <td>NaN</td>\n",
       "      <td>NaN</td>\n",
       "      <td>NaN</td>\n",
       "      <td>NaN</td>\n",
       "    </tr>\n",
       "    <tr>\n",
       "      <th>0</th>\n",
       "      <td>14</td>\n",
       "      <td>eaefd00078c6d72b355d0ad4f37ead38</td>\n",
       "      <td>{\"cutoff\": \"quantile_0.1\", \"eval_fairness_grou...</td>\n",
       "      <td>26.30534</td>\n",
       "      <td>89710</td>\n",
       "      <td>1.0</td>\n",
       "      <td>0.095139</td>\n",
       "      <td>0.901506</td>\n",
       "      <td>0.088337</td>\n",
       "      <td>0.908754</td>\n",
       "      <td>...</td>\n",
       "      <td>0.117274</td>\n",
       "      <td>0.140993</td>\n",
       "      <td>0.965937</td>\n",
       "      <td>0.870798</td>\n",
       "      <td>0.015203</td>\n",
       "      <td>0.061269</td>\n",
       "      <td>0.968111</td>\n",
       "      <td>0.879774</td>\n",
       "      <td>20540.0</td>\n",
       "      <td>69170.0</td>\n",
       "    </tr>\n",
       "    <tr>\n",
       "      <th>0</th>\n",
       "      <td>14</td>\n",
       "      <td>eaefd00078c6d72b355d0ad4f37ead38</td>\n",
       "      <td>{\"cutoff\": \"quantile_0.25\", \"eval_fairness_gro...</td>\n",
       "      <td>26.30534</td>\n",
       "      <td>89710</td>\n",
       "      <td>1.0</td>\n",
       "      <td>0.218129</td>\n",
       "      <td>0.757667</td>\n",
       "      <td>0.201811</td>\n",
       "      <td>0.777152</td>\n",
       "      <td>...</td>\n",
       "      <td>NaN</td>\n",
       "      <td>NaN</td>\n",
       "      <td>NaN</td>\n",
       "      <td>NaN</td>\n",
       "      <td>NaN</td>\n",
       "      <td>NaN</td>\n",
       "      <td>NaN</td>\n",
       "      <td>NaN</td>\n",
       "      <td>NaN</td>\n",
       "      <td>NaN</td>\n",
       "    </tr>\n",
       "    <tr>\n",
       "      <th>0</th>\n",
       "      <td>14</td>\n",
       "      <td>eaefd00078c6d72b355d0ad4f37ead38</td>\n",
       "      <td>{\"cutoff\": \"quantile_0.25\", \"eval_fairness_gro...</td>\n",
       "      <td>26.30534</td>\n",
       "      <td>89710</td>\n",
       "      <td>1.0</td>\n",
       "      <td>0.218129</td>\n",
       "      <td>0.757667</td>\n",
       "      <td>0.201811</td>\n",
       "      <td>0.777152</td>\n",
       "      <td>...</td>\n",
       "      <td>0.120639</td>\n",
       "      <td>0.159015</td>\n",
       "      <td>0.900121</td>\n",
       "      <td>0.681992</td>\n",
       "      <td>0.052365</td>\n",
       "      <td>0.153063</td>\n",
       "      <td>0.905599</td>\n",
       "      <td>0.703788</td>\n",
       "      <td>20540.0</td>\n",
       "      <td>69170.0</td>\n",
       "    </tr>\n",
       "  </tbody>\n",
       "</table>\n",
       "<p>4 rows × 50 columns</p>\n",
       "</div>"
      ],
      "text/plain": [
       "  run_no                       universe_id  \\\n",
       "0     14  eaefd00078c6d72b355d0ad4f37ead38   \n",
       "0     14  eaefd00078c6d72b355d0ad4f37ead38   \n",
       "0     14  eaefd00078c6d72b355d0ad4f37ead38   \n",
       "0     14  eaefd00078c6d72b355d0ad4f37ead38   \n",
       "\n",
       "                                   universe_settings  execution_time  \\\n",
       "0  {\"cutoff\": \"quantile_0.1\", \"eval_fairness_grou...        26.30534   \n",
       "0  {\"cutoff\": \"quantile_0.1\", \"eval_fairness_grou...        26.30534   \n",
       "0  {\"cutoff\": \"quantile_0.25\", \"eval_fairness_gro...        26.30534   \n",
       "0  {\"cutoff\": \"quantile_0.25\", \"eval_fairness_gro...        26.30534   \n",
       "\n",
       "   test_size_n  test_size_frac  fair_main_equalized_odds_difference  \\\n",
       "0        89710             1.0                             0.095139   \n",
       "0        89710             1.0                             0.095139   \n",
       "0        89710             1.0                             0.218129   \n",
       "0        89710             1.0                             0.218129   \n",
       "\n",
       "   fair_main_equalized_odds_ratio  fair_main_demographic_parity_difference  \\\n",
       "0                        0.901506                                 0.088337   \n",
       "0                        0.901506                                 0.088337   \n",
       "0                        0.757667                                 0.201811   \n",
       "0                        0.757667                                 0.201811   \n",
       "\n",
       "   fair_main_demographic_parity_ratio  ...  perf_grp_precision_0  \\\n",
       "0                            0.908754  ...                   NaN   \n",
       "0                            0.908754  ...              0.117274   \n",
       "0                            0.777152  ...                   NaN   \n",
       "0                            0.777152  ...              0.120639   \n",
       "\n",
       "   perf_grp_precision_1  perf_grp_false positive rate_0  \\\n",
       "0                   NaN                             NaN   \n",
       "0              0.140993                        0.965937   \n",
       "0                   NaN                             NaN   \n",
       "0              0.159015                        0.900121   \n",
       "\n",
       "   perf_grp_false positive rate_1  perf_grp_false negative rate_0  \\\n",
       "0                             NaN                             NaN   \n",
       "0                        0.870798                        0.015203   \n",
       "0                             NaN                             NaN   \n",
       "0                        0.681992                        0.052365   \n",
       "\n",
       "   perf_grp_false negative rate_1  perf_grp_selection rate_0  \\\n",
       "0                             NaN                        NaN   \n",
       "0                        0.061269                   0.968111   \n",
       "0                             NaN                        NaN   \n",
       "0                        0.153063                   0.905599   \n",
       "\n",
       "   perf_grp_selection rate_1  perf_grp_count_0  perf_grp_count_1  \n",
       "0                        NaN               NaN               NaN  \n",
       "0                   0.879774           20540.0           69170.0  \n",
       "0                        NaN               NaN               NaN  \n",
       "0                   0.703788           20540.0           69170.0  \n",
       "\n",
       "[4 rows x 50 columns]"
      ]
     },
     "execution_count": 79,
     "metadata": {},
     "output_type": "execute_result"
    }
   ],
   "source": [
    "final_output = universe_analysis.generate_final_output(\n",
    "    y_pred_prob=probs_test,\n",
    "    y_test=y_true,\n",
    "    org_test=org_test,\n",
    "    filter_data=filter_sub_universe_data,\n",
    "    cp_metrics_df=cp_metrics_df,\n",
    "    save=True,\n",
    ")\n",
    "final_output"
   ]
  },
  {
   "cell_type": "code",
   "execution_count": null,
   "id": "721ff514-cb11-46f8-b6fc-50392f74b5cb",
   "metadata": {
    "papermill": {
     "duration": 0.029477,
     "end_time": "2025-07-30T21:39:14.855788",
     "exception": false,
     "start_time": "2025-07-30T21:39:14.826311",
     "status": "completed"
    },
    "tags": []
   },
   "outputs": [],
   "source": []
  }
 ],
 "metadata": {
  "celltoolbar": "Tags",
  "kernelspec": {
   "display_name": "Python (CMA Fairness)",
   "language": "python",
   "name": "cma_fair_env"
  },
  "language_info": {
   "codemirror_mode": {
    "name": "ipython",
    "version": 3
   },
   "file_extension": ".py",
   "mimetype": "text/x-python",
   "name": "python",
   "nbconvert_exporter": "python",
   "pygments_lexer": "ipython3",
   "version": "3.10.12"
  },
  "papermill": {
   "default_parameters": {},
   "duration": 41.476108,
   "end_time": "2025-07-30T21:39:15.705711",
   "environment_variables": {},
   "exception": null,
   "input_path": "universe_analysis.ipynb",
   "output_path": "output/runs/14/notebooks/m_14-eaefd00078c6d72b355d0ad4f37ead38.ipynb",
   "parameters": {
    "output_dir": "output",
    "run_no": "14",
    "seed": "2023",
    "universe": "{\"cutoff\": [\"quantile_0.1\", \"quantile_0.25\"], \"eval_fairness_grouping\": [\"majority-minority\", \"nationality-all\"], \"exclude_features\": \"nationality-sex\", \"exclude_subgroups\": \"keep-all\", \"model\": \"logreg\", \"scale\": \"do-not-scale\", \"training_size\": \"1k\", \"training_year\": \"2012_14\"}",
    "universe_id": "eaefd00078c6d72b355d0ad4f37ead38"
   },
   "start_time": "2025-07-30T21:38:34.229603",
   "version": "2.6.0"
  }
 },
 "nbformat": 4,
 "nbformat_minor": 5
}