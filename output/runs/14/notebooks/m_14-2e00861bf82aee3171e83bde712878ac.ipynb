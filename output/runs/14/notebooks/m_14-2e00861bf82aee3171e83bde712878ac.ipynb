{
 "cells": [
  {
   "cell_type": "code",
   "execution_count": 1,
   "id": "f159f837-637b-42ba-96b5-ec9a68c44524",
   "metadata": {
    "execution": {
     "iopub.execute_input": "2025-07-30T21:44:48.210779Z",
     "iopub.status.busy": "2025-07-30T21:44:48.210331Z",
     "iopub.status.idle": "2025-07-30T21:44:48.223409Z",
     "shell.execute_reply": "2025-07-30T21:44:48.222506Z"
    },
    "papermill": {
     "duration": 0.035143,
     "end_time": "2025-07-30T21:44:48.225307",
     "exception": false,
     "start_time": "2025-07-30T21:44:48.190164",
     "status": "completed"
    },
    "tags": []
   },
   "outputs": [
    {
     "name": "stdout",
     "output_type": "stream",
     "text": [
      "/dss/dsshome1/0C/ra93lal2/cma/CMA_Fairness_v2\n"
     ]
    },
    {
     "name": "stderr",
     "output_type": "stream",
     "text": [
      "/dss/dsshome1/0C/ra93lal2/.local/share/virtualenvs/CMA_Fairness_v2-3j10GkSs/lib/python3.10/site-packages/IPython/core/magics/osm.py:393: UserWarning: This is now an optional IPython functionality, using bookmarks requires you to install the `pickleshare` library.\n",
      "  bkms = self.shell.db.get('bookmarks', {})\n",
      "/dss/dsshome1/0C/ra93lal2/.local/share/virtualenvs/CMA_Fairness_v2-3j10GkSs/lib/python3.10/site-packages/IPython/core/magics/osm.py:417: UserWarning: This is now an optional IPython functionality, setting dhist requires you to install the `pickleshare` library.\n",
      "  self.shell.db['dhist'] = compress_dhist(dhist)[-100:]\n"
     ]
    }
   ],
   "source": [
    "%cd ~/cma/CMA_Fairness_v2"
   ]
  },
  {
   "cell_type": "markdown",
   "id": "de2603b9",
   "metadata": {
    "papermill": {
     "duration": 0.018164,
     "end_time": "2025-07-30T21:44:48.262431",
     "exception": false,
     "start_time": "2025-07-30T21:44:48.244267",
     "status": "completed"
    },
    "tags": []
   },
   "source": [
    "The following cell holds the definition of our parameters, these values can be overriden by rendering the with e.g. the following command:\n",
    "\n",
    "papermill -p alpha 0.2 -p ratio 0.3 universe_analysis.ipynb output/test_run.ipynb"
   ]
  },
  {
   "cell_type": "code",
   "execution_count": 2,
   "id": "a80968a0-40bb-4fa9-85ef-2d5eefb01975",
   "metadata": {
    "execution": {
     "iopub.execute_input": "2025-07-30T21:44:48.304541Z",
     "iopub.status.busy": "2025-07-30T21:44:48.303782Z",
     "iopub.status.idle": "2025-07-30T21:44:48.309975Z",
     "shell.execute_reply": "2025-07-30T21:44:48.309103Z"
    },
    "papermill": {
     "duration": 0.027155,
     "end_time": "2025-07-30T21:44:48.311516",
     "exception": false,
     "start_time": "2025-07-30T21:44:48.284361",
     "status": "completed"
    },
    "tags": []
   },
   "outputs": [
    {
     "name": "stdout",
     "output_type": "stream",
     "text": [
      "Current working directory: /dss/dsshome1/0C/ra93lal2/cma/CMA_Fairness_v2\n"
     ]
    }
   ],
   "source": [
    "import os\n",
    "print(\"Current working directory:\", os.getcwd())"
   ]
  },
  {
   "cell_type": "code",
   "execution_count": 3,
   "id": "2dce4c03",
   "metadata": {
    "execution": {
     "iopub.execute_input": "2025-07-30T21:44:48.354493Z",
     "iopub.status.busy": "2025-07-30T21:44:48.353867Z",
     "iopub.status.idle": "2025-07-30T21:44:48.360692Z",
     "shell.execute_reply": "2025-07-30T21:44:48.359688Z"
    },
    "papermill": {
     "duration": 0.028553,
     "end_time": "2025-07-30T21:44:48.362187",
     "exception": false,
     "start_time": "2025-07-30T21:44:48.333634",
     "status": "completed"
    },
    "tags": [
     "parameters"
    ]
   },
   "outputs": [],
   "source": [
    "run_no = 0\n",
    "universe_id = \"test\"\n",
    "universe = {\n",
    "    \"training_size\": \"25k\", # \"25k\", \"5k\", \"1k\"\n",
    "    \"training_year\": \"2014\", # \"2014\", \"2012_14\", \"2010_14\"\n",
    "    \"scale\": \"scale\", # \"scale\", \"do-not-scale\",\n",
    "    #\"stratify_split\": \"target\", # \"none\", \"target\", \"protected-attribute\", \"both\",\n",
    "    \"model\": \"elasticnet\", # \"logreg\", \"penalized_logreg\", \"rf\", \"gbm\", \"elasticnet\"\n",
    "    \"cutoff\": [\"quantile_0.15\", \"quantile_0.30\"],\n",
    "    \"exclude_features\": \"age\", # \"none\", \"nationality\", \"sex\", \"nationality-sex\", \"age\"\n",
    "    \"exclude_subgroups\": \"keep-all\", # \"keep-all\", \"drop-non-german\"\n",
    "    \"eval_fairness_grouping\": [\"majority-minority\", \"nationality-all\"]\n",
    "}\n",
    "\n",
    "output_dir=\"./output\"\n",
    "seed=0"
   ]
  },
  {
   "cell_type": "code",
   "execution_count": 4,
   "id": "adb0f97d",
   "metadata": {
    "execution": {
     "iopub.execute_input": "2025-07-30T21:44:48.402111Z",
     "iopub.status.busy": "2025-07-30T21:44:48.401091Z",
     "iopub.status.idle": "2025-07-30T21:44:48.406632Z",
     "shell.execute_reply": "2025-07-30T21:44:48.405704Z"
    },
    "papermill": {
     "duration": 0.026502,
     "end_time": "2025-07-30T21:44:48.408167",
     "exception": false,
     "start_time": "2025-07-30T21:44:48.381665",
     "status": "completed"
    },
    "tags": [
     "injected-parameters"
    ]
   },
   "outputs": [],
   "source": [
    "# Parameters\n",
    "universe_id = \"2e00861bf82aee3171e83bde712878ac\"\n",
    "run_no = \"14\"\n",
    "universe = \"{\\\"cutoff\\\": [\\\"quantile_0.1\\\", \\\"quantile_0.25\\\"], \\\"eval_fairness_grouping\\\": [\\\"majority-minority\\\", \\\"nationality-all\\\"], \\\"exclude_features\\\": \\\"nationality\\\", \\\"exclude_subgroups\\\": \\\"keep-all\\\", \\\"model\\\": \\\"penalized_logreg\\\", \\\"scale\\\": \\\"scale\\\", \\\"training_size\\\": \\\"1k\\\", \\\"training_year\\\": \\\"2010_14\\\"}\"\n",
    "output_dir = \"output\"\n",
    "seed = \"2023\"\n"
   ]
  },
  {
   "cell_type": "code",
   "execution_count": 5,
   "id": "1650acaf",
   "metadata": {
    "execution": {
     "iopub.execute_input": "2025-07-30T21:44:48.447551Z",
     "iopub.status.busy": "2025-07-30T21:44:48.446766Z",
     "iopub.status.idle": "2025-07-30T21:44:48.452110Z",
     "shell.execute_reply": "2025-07-30T21:44:48.451147Z"
    },
    "papermill": {
     "duration": 0.026183,
     "end_time": "2025-07-30T21:44:48.453624",
     "exception": false,
     "start_time": "2025-07-30T21:44:48.427441",
     "status": "completed"
    },
    "tags": []
   },
   "outputs": [],
   "source": [
    "import json\n",
    "# Parse universe into dict if it is passed as a string\n",
    "if isinstance(universe, str):\n",
    "    universe = json.loads(universe)"
   ]
  },
  {
   "cell_type": "code",
   "execution_count": 6,
   "id": "16620c48",
   "metadata": {
    "execution": {
     "iopub.execute_input": "2025-07-30T21:44:48.492491Z",
     "iopub.status.busy": "2025-07-30T21:44:48.491707Z",
     "iopub.status.idle": "2025-07-30T21:44:48.534317Z",
     "shell.execute_reply": "2025-07-30T21:44:48.533429Z"
    },
    "papermill": {
     "duration": 0.06367,
     "end_time": "2025-07-30T21:44:48.536104",
     "exception": false,
     "start_time": "2025-07-30T21:44:48.472434",
     "status": "completed"
    },
    "tags": []
   },
   "outputs": [],
   "source": [
    "# Auto-reload the custom package\n",
    "%load_ext autoreload\n",
    "%autoreload 1\n",
    "%aimport fairness_multiverse"
   ]
  },
  {
   "cell_type": "code",
   "execution_count": 7,
   "id": "01c5c9f3",
   "metadata": {
    "execution": {
     "iopub.execute_input": "2025-07-30T21:44:48.577139Z",
     "iopub.status.busy": "2025-07-30T21:44:48.576619Z",
     "iopub.status.idle": "2025-07-30T21:44:50.453409Z",
     "shell.execute_reply": "2025-07-30T21:44:50.452609Z"
    },
    "papermill": {
     "duration": 1.898557,
     "end_time": "2025-07-30T21:44:50.454952",
     "exception": false,
     "start_time": "2025-07-30T21:44:48.556395",
     "status": "completed"
    },
    "tags": []
   },
   "outputs": [],
   "source": [
    "from fairness_multiverse.universe import UniverseAnalysis\n",
    "\n",
    "universe_analysis = UniverseAnalysis(\n",
    "    run_no = run_no,\n",
    "    universe_id = universe_id,\n",
    "    universe = universe,\n",
    "    output_dir=output_dir,\n",
    ")"
   ]
  },
  {
   "cell_type": "code",
   "execution_count": 8,
   "id": "106241f5",
   "metadata": {
    "execution": {
     "iopub.execute_input": "2025-07-30T21:44:50.489183Z",
     "iopub.status.busy": "2025-07-30T21:44:50.488595Z",
     "iopub.status.idle": "2025-07-30T21:44:50.496250Z",
     "shell.execute_reply": "2025-07-30T21:44:50.495142Z"
    },
    "papermill": {
     "duration": 0.031994,
     "end_time": "2025-07-30T21:44:50.498059",
     "exception": false,
     "start_time": "2025-07-30T21:44:50.466065",
     "status": "completed"
    },
    "tags": []
   },
   "outputs": [
    {
     "name": "stdout",
     "output_type": "stream",
     "text": [
      "Using Seed: 2023\n"
     ]
    }
   ],
   "source": [
    "import numpy as np\n",
    "parsed_seed = int(seed)\n",
    "np.random.seed(parsed_seed)\n",
    "print(f\"Using Seed: {parsed_seed}\")"
   ]
  },
  {
   "cell_type": "markdown",
   "id": "e0ebdc57",
   "metadata": {
    "papermill": {
     "duration": 0.010213,
     "end_time": "2025-07-30T21:44:50.523041",
     "exception": false,
     "start_time": "2025-07-30T21:44:50.512828",
     "status": "completed"
    },
    "tags": []
   },
   "source": [
    "# Loading Data"
   ]
  },
  {
   "cell_type": "markdown",
   "id": "681925a3",
   "metadata": {
    "papermill": {
     "duration": 0.010576,
     "end_time": "2025-07-30T21:44:50.544087",
     "exception": false,
     "start_time": "2025-07-30T21:44:50.533511",
     "status": "completed"
    },
    "tags": []
   },
   "source": [
    "Load siab_train, siab_test, siab_calib and/or \n",
    "load siab_train_features, siab_train_labels"
   ]
  },
  {
   "cell_type": "code",
   "execution_count": 9,
   "id": "f0496b8a",
   "metadata": {
    "execution": {
     "iopub.execute_input": "2025-07-30T21:44:50.566684Z",
     "iopub.status.busy": "2025-07-30T21:44:50.566345Z",
     "iopub.status.idle": "2025-07-30T21:45:02.602402Z",
     "shell.execute_reply": "2025-07-30T21:45:02.600540Z"
    },
    "papermill": {
     "duration": 12.049721,
     "end_time": "2025-07-30T21:45:02.604708",
     "exception": false,
     "start_time": "2025-07-30T21:44:50.554987",
     "status": "completed"
    },
    "tags": []
   },
   "outputs": [
    {
     "name": "stdout",
     "output_type": "stream",
     "text": [
      "Loading SIAB data from cache: data/siab_cached.csv.gz\n"
     ]
    },
    {
     "name": "stdout",
     "output_type": "stream",
     "text": [
      "(643690, 164)\n"
     ]
    }
   ],
   "source": [
    "from pathlib import Path\n",
    "import pandas as pd\n",
    "\n",
    "# File paths\n",
    "raw_file = Path(\"data/raw/siab.csv\")\n",
    "cache_file = Path(\"data/siab_cached.csv.gz\")\n",
    "\n",
    "# Ensure cache directory exists\n",
    "cache_file.parent.mkdir(parents=True, exist_ok=True)\n",
    "\n",
    "# Load with simple caching\n",
    "if cache_file.exists():\n",
    "    print(f\"Loading SIAB data from cache: {cache_file}\")\n",
    "    siab = pd.read_csv(cache_file, compression='gzip')\n",
    "else:\n",
    "    print(f\"Cache not found. Reading raw SIAB data: {raw_file}\")\n",
    "    siab = pd.read_csv(raw_file)\n",
    "    siab.to_csv(cache_file, index=False, compression='gzip')\n",
    "    print(f\"Cached SIAB data to: {cache_file}\")\n",
    "\n",
    "# Now use `siab` DataFrame as needed\n",
    "print(siab.shape)"
   ]
  },
  {
   "cell_type": "code",
   "execution_count": 10,
   "id": "db0ca512-5f53-4dba-abdb-a2888bca41ba",
   "metadata": {
    "execution": {
     "iopub.execute_input": "2025-07-30T21:45:02.660742Z",
     "iopub.status.busy": "2025-07-30T21:45:02.660201Z",
     "iopub.status.idle": "2025-07-30T21:45:02.666475Z",
     "shell.execute_reply": "2025-07-30T21:45:02.665460Z"
    },
    "papermill": {
     "duration": 0.031303,
     "end_time": "2025-07-30T21:45:02.668332",
     "exception": false,
     "start_time": "2025-07-30T21:45:02.637029",
     "status": "completed"
    },
    "tags": []
   },
   "outputs": [],
   "source": [
    "#siab"
   ]
  },
  {
   "cell_type": "code",
   "execution_count": 11,
   "id": "a0edb063",
   "metadata": {
    "execution": {
     "iopub.execute_input": "2025-07-30T21:45:02.712942Z",
     "iopub.status.busy": "2025-07-30T21:45:02.712431Z",
     "iopub.status.idle": "2025-07-30T21:45:02.718022Z",
     "shell.execute_reply": "2025-07-30T21:45:02.717001Z"
    },
    "papermill": {
     "duration": 0.029957,
     "end_time": "2025-07-30T21:45:02.719670",
     "exception": false,
     "start_time": "2025-07-30T21:45:02.689713",
     "status": "completed"
    },
    "tags": []
   },
   "outputs": [],
   "source": [
    "#import pandas as pd\n",
    "#\n",
    "#X_train = pd.read_csv(\"./data/X_train.csv\")\n",
    "#y_train = pd.read_csv(\"./data/y_train.csv\")"
   ]
  },
  {
   "cell_type": "code",
   "execution_count": 12,
   "id": "63d08085",
   "metadata": {
    "execution": {
     "iopub.execute_input": "2025-07-30T21:45:02.764216Z",
     "iopub.status.busy": "2025-07-30T21:45:02.763709Z",
     "iopub.status.idle": "2025-07-30T21:45:02.768932Z",
     "shell.execute_reply": "2025-07-30T21:45:02.768006Z"
    },
    "papermill": {
     "duration": 0.029183,
     "end_time": "2025-07-30T21:45:02.770702",
     "exception": false,
     "start_time": "2025-07-30T21:45:02.741519",
     "status": "completed"
    },
    "tags": []
   },
   "outputs": [],
   "source": [
    "#X_test = pd.read_csv(\"./data/X_test.csv\")\n",
    "#y_true = pd.read_csv(\"./data/y_test.csv\")"
   ]
  },
  {
   "cell_type": "code",
   "execution_count": 13,
   "id": "98a8d0fa-1d3d-4ed8-bb2c-281470e24add",
   "metadata": {
    "execution": {
     "iopub.execute_input": "2025-07-30T21:45:02.816631Z",
     "iopub.status.busy": "2025-07-30T21:45:02.815956Z",
     "iopub.status.idle": "2025-07-30T21:45:02.821141Z",
     "shell.execute_reply": "2025-07-30T21:45:02.820217Z"
    },
    "papermill": {
     "duration": 0.029588,
     "end_time": "2025-07-30T21:45:02.822917",
     "exception": false,
     "start_time": "2025-07-30T21:45:02.793329",
     "status": "completed"
    },
    "tags": []
   },
   "outputs": [],
   "source": [
    "# Calibration data for conformal\n",
    "#X_calib = pd.read_csv(\"./data/X_calib.csv\")\n",
    "#y_calib = pd.read_csv(\"./data/y_calib.csv\")"
   ]
  },
  {
   "cell_type": "markdown",
   "id": "997051c5-15bd-4b69-9786-c3001a3ce484",
   "metadata": {
    "papermill": {
     "duration": 0.021871,
     "end_time": "2025-07-30T21:45:02.867605",
     "exception": false,
     "start_time": "2025-07-30T21:45:02.845734",
     "status": "completed"
    },
    "tags": []
   },
   "source": [
    "# Splitting Data and Setting Training Data Size"
   ]
  },
  {
   "cell_type": "code",
   "execution_count": 14,
   "id": "e993b61f-042d-41a6-8c81-f55681f86335",
   "metadata": {
    "execution": {
     "iopub.execute_input": "2025-07-30T21:45:02.914680Z",
     "iopub.status.busy": "2025-07-30T21:45:02.914143Z",
     "iopub.status.idle": "2025-07-30T21:45:02.928428Z",
     "shell.execute_reply": "2025-07-30T21:45:02.927392Z"
    },
    "papermill": {
     "duration": 0.038877,
     "end_time": "2025-07-30T21:45:02.930073",
     "exception": false,
     "start_time": "2025-07-30T21:45:02.891196",
     "status": "completed"
    },
    "tags": []
   },
   "outputs": [],
   "source": [
    "def sample_by_year_size(df,\n",
    "                        training_year: str,\n",
    "                        training_size: str,\n",
    "                        random_state: int = 42):\n",
    "    # --- parse training_year into a list of int years ---\n",
    "    if \"_\" in training_year:\n",
    "        start_str, end_str = training_year.split(\"_\", 1)\n",
    "        start = int(start_str)\n",
    "        end   = int(end_str) if len(end_str) == 4 else (int(end_str) + (start // 100)*100)\n",
    "        years = list(range(start, end + 1))\n",
    "    else:\n",
    "        years = [int(training_year)]\n",
    "\n",
    "    df = df[df[\"year\"].isin(years)].reset_index(drop=True)\n",
    "\n",
    "    # --- map training_size to total number of samples ---\n",
    "    total_map = {\"25k\": 25_000, \"5k\": 5_000, \"1k\": 1_000}\n",
    "    if training_size not in total_map:\n",
    "        return df  # e.g. \"all\"\n",
    "\n",
    "    total_samples = total_map[training_size]\n",
    "    n_years       = len(years)\n",
    "    base          = total_samples // n_years\n",
    "    remainder     = total_samples % n_years\n",
    "\n",
    "    # --- build a dict: year -> how many to sample ---\n",
    "    # give +1 to the first `remainder` years in ascending order\n",
    "    quotas = {\n",
    "        year: base + (1 if idx < remainder else 0)\n",
    "        for idx, year in enumerate(sorted(years))\n",
    "    }\n",
    "\n",
    "    # --- sample per‐year according to the quota dict ---\n",
    "    sampled = (\n",
    "        df\n",
    "        .groupby(\"year\", group_keys=False)\n",
    "        .apply(lambda grp: grp.sample(\n",
    "            n=min(len(grp), quotas[grp.name]),\n",
    "            random_state=random_state))\n",
    "        .reset_index(drop=True)\n",
    "    )\n",
    "\n",
    "    return sampled"
   ]
  },
  {
   "cell_type": "code",
   "execution_count": 15,
   "id": "c0ccd338-0e02-41f3-a09d-f56f9266e3fb",
   "metadata": {
    "execution": {
     "iopub.execute_input": "2025-07-30T21:45:02.985745Z",
     "iopub.status.busy": "2025-07-30T21:45:02.984934Z",
     "iopub.status.idle": "2025-07-30T21:45:02.991057Z",
     "shell.execute_reply": "2025-07-30T21:45:02.989856Z"
    },
    "papermill": {
     "duration": 0.040828,
     "end_time": "2025-07-30T21:45:02.992939",
     "exception": false,
     "start_time": "2025-07-30T21:45:02.952111",
     "status": "completed"
    },
    "tags": []
   },
   "outputs": [],
   "source": [
    "#universe[\"training_size\"]"
   ]
  },
  {
   "cell_type": "code",
   "execution_count": 16,
   "id": "ca707fd7-8047-4acd-bfa5-66248fbbf8e6",
   "metadata": {
    "execution": {
     "iopub.execute_input": "2025-07-30T21:45:03.038814Z",
     "iopub.status.busy": "2025-07-30T21:45:03.037864Z",
     "iopub.status.idle": "2025-07-30T21:45:03.044073Z",
     "shell.execute_reply": "2025-07-30T21:45:03.042998Z"
    },
    "papermill": {
     "duration": 0.03123,
     "end_time": "2025-07-30T21:45:03.046192",
     "exception": false,
     "start_time": "2025-07-30T21:45:03.014962",
     "status": "completed"
    },
    "tags": []
   },
   "outputs": [],
   "source": [
    "#universe[\"training_year\"]"
   ]
  },
  {
   "cell_type": "code",
   "execution_count": 17,
   "id": "aea9c6ef-6f46-42c8-85eb-5a62025c1508",
   "metadata": {
    "execution": {
     "iopub.execute_input": "2025-07-30T21:45:03.105336Z",
     "iopub.status.busy": "2025-07-30T21:45:03.104638Z",
     "iopub.status.idle": "2025-07-30T21:45:04.550322Z",
     "shell.execute_reply": "2025-07-30T21:45:04.549293Z"
    },
    "papermill": {
     "duration": 1.477895,
     "end_time": "2025-07-30T21:45:04.552694",
     "exception": false,
     "start_time": "2025-07-30T21:45:03.074799",
     "status": "completed"
    },
    "tags": []
   },
   "outputs": [],
   "source": [
    "siab_train = sample_by_year_size(siab,\n",
    "                               training_year=universe[\"training_year\"],\n",
    "                               training_size=universe[\"training_size\"])"
   ]
  },
  {
   "cell_type": "code",
   "execution_count": 18,
   "id": "8d3afb32-789d-442c-8d5d-9f5aa8dd2eed",
   "metadata": {
    "execution": {
     "iopub.execute_input": "2025-07-30T21:45:04.589827Z",
     "iopub.status.busy": "2025-07-30T21:45:04.589471Z",
     "iopub.status.idle": "2025-07-30T21:45:04.594161Z",
     "shell.execute_reply": "2025-07-30T21:45:04.593259Z"
    },
    "papermill": {
     "duration": 0.020132,
     "end_time": "2025-07-30T21:45:04.596289",
     "exception": false,
     "start_time": "2025-07-30T21:45:04.576157",
     "status": "completed"
    },
    "tags": []
   },
   "outputs": [],
   "source": [
    "#siab_train.shape"
   ]
  },
  {
   "cell_type": "code",
   "execution_count": 19,
   "id": "d582db68-1a4c-47fb-84fc-08518dc1975a",
   "metadata": {
    "execution": {
     "iopub.execute_input": "2025-07-30T21:45:04.653464Z",
     "iopub.status.busy": "2025-07-30T21:45:04.652893Z",
     "iopub.status.idle": "2025-07-30T21:45:04.658196Z",
     "shell.execute_reply": "2025-07-30T21:45:04.657227Z"
    },
    "papermill": {
     "duration": 0.035777,
     "end_time": "2025-07-30T21:45:04.660168",
     "exception": false,
     "start_time": "2025-07-30T21:45:04.624391",
     "status": "completed"
    },
    "tags": []
   },
   "outputs": [],
   "source": [
    "#display(siab_train.groupby(\"year\").size())"
   ]
  },
  {
   "cell_type": "code",
   "execution_count": 20,
   "id": "a561edb4-d032-42cb-8256-22eac1111c64",
   "metadata": {
    "execution": {
     "iopub.execute_input": "2025-07-30T21:45:04.718490Z",
     "iopub.status.busy": "2025-07-30T21:45:04.718063Z",
     "iopub.status.idle": "2025-07-30T21:45:05.046309Z",
     "shell.execute_reply": "2025-07-30T21:45:05.045318Z"
    },
    "papermill": {
     "duration": 0.359068,
     "end_time": "2025-07-30T21:45:05.048477",
     "exception": false,
     "start_time": "2025-07-30T21:45:04.689409",
     "status": "completed"
    },
    "tags": []
   },
   "outputs": [],
   "source": [
    "#siab_train = siab_s[siab_s.year < 2015]\n",
    "siab_calib = siab[siab.year == 2015]\n",
    "siab_test = siab[siab.year == 2016]"
   ]
  },
  {
   "cell_type": "code",
   "execution_count": 21,
   "id": "472de16f-c3db-4916-846b-1f0de9cf1746",
   "metadata": {
    "execution": {
     "iopub.execute_input": "2025-07-30T21:45:05.096834Z",
     "iopub.status.busy": "2025-07-30T21:45:05.095863Z",
     "iopub.status.idle": "2025-07-30T21:45:05.103019Z",
     "shell.execute_reply": "2025-07-30T21:45:05.102051Z"
    },
    "papermill": {
     "duration": 0.032695,
     "end_time": "2025-07-30T21:45:05.104608",
     "exception": false,
     "start_time": "2025-07-30T21:45:05.071913",
     "status": "completed"
    },
    "tags": []
   },
   "outputs": [],
   "source": [
    "X_train = siab_train.iloc[:,4:164]\n",
    "y_train = siab_train.iloc[:, [3]]"
   ]
  },
  {
   "cell_type": "code",
   "execution_count": 22,
   "id": "828c96af-f43a-4ed6-ba47-8ac73a47d56c",
   "metadata": {
    "execution": {
     "iopub.execute_input": "2025-07-30T21:45:05.153251Z",
     "iopub.status.busy": "2025-07-30T21:45:05.152677Z",
     "iopub.status.idle": "2025-07-30T21:45:05.205470Z",
     "shell.execute_reply": "2025-07-30T21:45:05.204584Z"
    },
    "papermill": {
     "duration": 0.079441,
     "end_time": "2025-07-30T21:45:05.207096",
     "exception": false,
     "start_time": "2025-07-30T21:45:05.127655",
     "status": "completed"
    },
    "tags": []
   },
   "outputs": [],
   "source": [
    "X_calib = siab_calib.iloc[:,4:164]\n",
    "y_calib = siab_calib.iloc[:, [3]]"
   ]
  },
  {
   "cell_type": "code",
   "execution_count": 23,
   "id": "c34be9c3-6bd6-476e-acd3-845840e303be",
   "metadata": {
    "execution": {
     "iopub.execute_input": "2025-07-30T21:45:05.266539Z",
     "iopub.status.busy": "2025-07-30T21:45:05.266020Z",
     "iopub.status.idle": "2025-07-30T21:45:05.320525Z",
     "shell.execute_reply": "2025-07-30T21:45:05.319302Z"
    },
    "papermill": {
     "duration": 0.079562,
     "end_time": "2025-07-30T21:45:05.322099",
     "exception": false,
     "start_time": "2025-07-30T21:45:05.242537",
     "status": "completed"
    },
    "tags": []
   },
   "outputs": [],
   "source": [
    "X_test = siab_test.iloc[:,4:164]\n",
    "y_true = siab_test.iloc[:, [3]]"
   ]
  },
  {
   "cell_type": "markdown",
   "id": "9901737e-04df-44f0-9100-f5ad144ed040",
   "metadata": {
    "papermill": {
     "duration": 0.022902,
     "end_time": "2025-07-30T21:45:05.369311",
     "exception": false,
     "start_time": "2025-07-30T21:45:05.346409",
     "status": "completed"
    },
    "tags": []
   },
   "source": [
    "# Splitting Data and Setting Training Data Size OLD VERSION"
   ]
  },
  {
   "cell_type": "code",
   "execution_count": 24,
   "id": "acbc8f7d-8fc8-4e86-8c59-5dcb0f58384b",
   "metadata": {
    "execution": {
     "iopub.execute_input": "2025-07-30T21:45:05.416005Z",
     "iopub.status.busy": "2025-07-30T21:45:05.415486Z",
     "iopub.status.idle": "2025-07-30T21:45:05.422385Z",
     "shell.execute_reply": "2025-07-30T21:45:05.421136Z"
    },
    "papermill": {
     "duration": 0.033159,
     "end_time": "2025-07-30T21:45:05.424285",
     "exception": false,
     "start_time": "2025-07-30T21:45:05.391126",
     "status": "completed"
    },
    "tags": []
   },
   "outputs": [],
   "source": [
    "#def sample_by_year(df, training_size, random_state=42):\n",
    "#    if training_size == \"2014\":\n",
    "#        return df[df[\"year\"] == 2014].reset_index(drop=True)\n",
    "#    \n",
    "#    size_map = {\n",
    "#        \"25k\": 5000,\n",
    "#        \"5k\": 1000,\n",
    "#        \"1k\": 200\n",
    "#    }\n",
    "#\n",
    "#    if training_size not in size_map:\n",
    "#        return df.reset_index(drop=True)  # use all data\n",
    "#\n",
    "#    n_per_year = size_map[training_size]\n",
    "#    grouped = df.groupby(\"year\")\n",
    "#    sampled = grouped.apply(lambda x: x.sample(n=min(n_per_year, len(x)), random_state=random_state))\n",
    "#    return sampled.reset_index(drop=True)"
   ]
  },
  {
   "cell_type": "code",
   "execution_count": 25,
   "id": "6d931f52-beaf-43ff-9e78-9d44a448d54e",
   "metadata": {
    "execution": {
     "iopub.execute_input": "2025-07-30T21:45:05.470796Z",
     "iopub.status.busy": "2025-07-30T21:45:05.470212Z",
     "iopub.status.idle": "2025-07-30T21:45:05.475955Z",
     "shell.execute_reply": "2025-07-30T21:45:05.474875Z"
    },
    "papermill": {
     "duration": 0.031143,
     "end_time": "2025-07-30T21:45:05.477680",
     "exception": false,
     "start_time": "2025-07-30T21:45:05.446537",
     "status": "completed"
    },
    "tags": []
   },
   "outputs": [],
   "source": [
    "#siab_s = sample_by_year(siab, universe[\"training_size\"])"
   ]
  },
  {
   "cell_type": "code",
   "execution_count": 26,
   "id": "5db0a40e-a4e2-4920-be85-b12ae061d70d",
   "metadata": {
    "execution": {
     "iopub.execute_input": "2025-07-30T21:45:05.525329Z",
     "iopub.status.busy": "2025-07-30T21:45:05.524869Z",
     "iopub.status.idle": "2025-07-30T21:45:05.529172Z",
     "shell.execute_reply": "2025-07-30T21:45:05.528255Z"
    },
    "papermill": {
     "duration": 0.029629,
     "end_time": "2025-07-30T21:45:05.530552",
     "exception": false,
     "start_time": "2025-07-30T21:45:05.500923",
     "status": "completed"
    },
    "tags": []
   },
   "outputs": [],
   "source": [
    "#display(siab_s.groupby(\"year\").size())"
   ]
  },
  {
   "cell_type": "code",
   "execution_count": 27,
   "id": "e6c733c5",
   "metadata": {
    "execution": {
     "iopub.execute_input": "2025-07-30T21:45:05.555499Z",
     "iopub.status.busy": "2025-07-30T21:45:05.555161Z",
     "iopub.status.idle": "2025-07-30T21:45:05.644848Z",
     "shell.execute_reply": "2025-07-30T21:45:05.644120Z"
    },
    "papermill": {
     "duration": 0.103671,
     "end_time": "2025-07-30T21:45:05.646664",
     "exception": false,
     "start_time": "2025-07-30T21:45:05.542993",
     "status": "completed"
    },
    "tags": []
   },
   "outputs": [],
   "source": [
    "# Auxiliary data needed downstream in the pipeline\n",
    "\n",
    "org_train = X_train.copy()\n",
    "org_test = X_test.copy()\n",
    "org_calib = X_calib.copy()"
   ]
  },
  {
   "cell_type": "code",
   "execution_count": 28,
   "id": "1466abac-c6da-4492-a62f-4240ae3783af",
   "metadata": {
    "execution": {
     "iopub.execute_input": "2025-07-30T21:45:05.694569Z",
     "iopub.status.busy": "2025-07-30T21:45:05.693803Z",
     "iopub.status.idle": "2025-07-30T21:45:05.700791Z",
     "shell.execute_reply": "2025-07-30T21:45:05.699800Z"
    },
    "papermill": {
     "duration": 0.033634,
     "end_time": "2025-07-30T21:45:05.702511",
     "exception": false,
     "start_time": "2025-07-30T21:45:05.668877",
     "status": "completed"
    },
    "tags": []
   },
   "outputs": [],
   "source": [
    "# put in other script?\n",
    "# Group sizes\n",
    "\n",
    "#def calculate_percentages(df, df_name):\n",
    "#    total_entries = len(df)\n",
    "#\n",
    "#    female_pct = (df['frau1'] == 1).mean() * 100\n",
    "#    non_german_pct = ((df['maxdeutsch1'] == 0) & (df['maxdeutsch.Missing.'] == 0)).mean() * 100\n",
    "#    non_german_male_pct = ((df['frau1'] == 0) & (df['maxdeutsch1'] == 0) & (df['maxdeutsch.Missing.'] == 0)).mean() * 100\n",
    "#    non_german_female_pct = ((df['frau1'] == 1) & (df['maxdeutsch1'] == 0) & (df['maxdeutsch.Missing.'] == 0)).mean() * 100\n",
    "#\n",
    "#    print(f\"--- {df_name} ---\")\n",
    "#    print(f\"Female: {female_pct:.2f}%\")\n",
    "#    print(f\"Non-German: {non_german_pct:.2f}%\")\n",
    "#    print(f\"Non-German Male: {non_german_male_pct:.2f}%\")\n",
    "#    print(f\"Non-German Female: {non_german_female_pct:.2f}%\\n\")\n",
    "#\n",
    "## Calculate for each DataFrame\n",
    "#calculate_percentages(siab_calib, \"siab_calib\")\n",
    "#calculate_percentages(siab_test, \"siab_test\")\n",
    "#calculate_percentages(siab_train, \"siab_train\")"
   ]
  },
  {
   "cell_type": "markdown",
   "id": "0a4a1b33",
   "metadata": {
    "papermill": {
     "duration": 0.023334,
     "end_time": "2025-07-30T21:45:05.749388",
     "exception": false,
     "start_time": "2025-07-30T21:45:05.726054",
     "status": "completed"
    },
    "tags": []
   },
   "source": [
    "# Preprocessing Data"
   ]
  },
  {
   "cell_type": "code",
   "execution_count": 29,
   "id": "ca879031",
   "metadata": {
    "execution": {
     "iopub.execute_input": "2025-07-30T21:45:05.798762Z",
     "iopub.status.busy": "2025-07-30T21:45:05.797696Z",
     "iopub.status.idle": "2025-07-30T21:45:05.804931Z",
     "shell.execute_reply": "2025-07-30T21:45:05.803639Z"
    },
    "papermill": {
     "duration": 0.033972,
     "end_time": "2025-07-30T21:45:05.806972",
     "exception": false,
     "start_time": "2025-07-30T21:45:05.773000",
     "status": "completed"
    },
    "tags": []
   },
   "outputs": [],
   "source": [
    "# EXCLUDE PROTECTED FEATURES\n",
    "# ----------------------\n",
    "# \"exclude_features\": \"none\", # \"nationality\", \"sex\", \"nationality-sex\"\n",
    "\n",
    "excluded_features = universe[\"exclude_features\"].split(\"-\") # split, e.g.: \"nationality-sex\" -> [\"nationality\", \"sex\"]\n",
    "excluded_features_dictionary = {\n",
    "    \"nationality\": [\"maxdeutsch1\", \"maxdeutsch.Missing.\"],\n",
    "    \"sex\": [\"frau1\"],\n",
    "    \"age\": [\"age\"],\n",
    "}\n"
   ]
  },
  {
   "cell_type": "code",
   "execution_count": 30,
   "id": "b745ac60",
   "metadata": {
    "execution": {
     "iopub.execute_input": "2025-07-30T21:45:05.857009Z",
     "iopub.status.busy": "2025-07-30T21:45:05.855818Z",
     "iopub.status.idle": "2025-07-30T21:45:05.861818Z",
     "shell.execute_reply": "2025-07-30T21:45:05.860797Z"
    },
    "papermill": {
     "duration": 0.032749,
     "end_time": "2025-07-30T21:45:05.863372",
     "exception": false,
     "start_time": "2025-07-30T21:45:05.830623",
     "status": "completed"
    },
    "tags": []
   },
   "outputs": [],
   "source": [
    "# Code nice names to column names\n",
    "\n",
    "excluded_features_columns = [\n",
    "    excluded_features_dictionary[f] for f in excluded_features if len(f) > 0 and f != \"none\"\n",
    "]"
   ]
  },
  {
   "cell_type": "code",
   "execution_count": 31,
   "id": "f84f73a2",
   "metadata": {
    "execution": {
     "iopub.execute_input": "2025-07-30T21:45:05.911677Z",
     "iopub.status.busy": "2025-07-30T21:45:05.910846Z",
     "iopub.status.idle": "2025-07-30T21:45:05.917260Z",
     "shell.execute_reply": "2025-07-30T21:45:05.916308Z"
    },
    "papermill": {
     "duration": 0.032815,
     "end_time": "2025-07-30T21:45:05.918906",
     "exception": false,
     "start_time": "2025-07-30T21:45:05.886091",
     "status": "completed"
    },
    "tags": []
   },
   "outputs": [],
   "source": [
    "from utils import flatten_once\n",
    "\n",
    "excluded_features_columns = flatten_once(excluded_features_columns)"
   ]
  },
  {
   "cell_type": "code",
   "execution_count": 32,
   "id": "884dea22",
   "metadata": {
    "execution": {
     "iopub.execute_input": "2025-07-30T21:45:05.968476Z",
     "iopub.status.busy": "2025-07-30T21:45:05.967202Z",
     "iopub.status.idle": "2025-07-30T21:45:06.010850Z",
     "shell.execute_reply": "2025-07-30T21:45:06.009776Z"
    },
    "papermill": {
     "duration": 0.071548,
     "end_time": "2025-07-30T21:45:06.012911",
     "exception": false,
     "start_time": "2025-07-30T21:45:05.941363",
     "status": "completed"
    },
    "tags": []
   },
   "outputs": [
    {
     "name": "stdout",
     "output_type": "stream",
     "text": [
      "Dropping features: ['maxdeutsch1', 'maxdeutsch.Missing.']\n"
     ]
    }
   ],
   "source": [
    "if len(excluded_features_columns) > 0:\n",
    "    print(f\"Dropping features: {excluded_features_columns}\")\n",
    "    X_train.drop(excluded_features_columns, axis=1, inplace=True)"
   ]
  },
  {
   "cell_type": "code",
   "execution_count": 33,
   "id": "95ab8b16",
   "metadata": {
    "execution": {
     "iopub.execute_input": "2025-07-30T21:45:06.063526Z",
     "iopub.status.busy": "2025-07-30T21:45:06.062578Z",
     "iopub.status.idle": "2025-07-30T21:45:06.117154Z",
     "shell.execute_reply": "2025-07-30T21:45:06.116165Z"
    },
    "papermill": {
     "duration": 0.081277,
     "end_time": "2025-07-30T21:45:06.118950",
     "exception": false,
     "start_time": "2025-07-30T21:45:06.037673",
     "status": "completed"
    },
    "tags": []
   },
   "outputs": [
    {
     "name": "stdout",
     "output_type": "stream",
     "text": [
      "Dropping features: ['maxdeutsch1', 'maxdeutsch.Missing.']\n"
     ]
    }
   ],
   "source": [
    "if len(excluded_features_columns) > 0:\n",
    "    print(f\"Dropping features: {excluded_features_columns}\")\n",
    "    X_test.drop(excluded_features_columns, axis=1, inplace=True)"
   ]
  },
  {
   "cell_type": "code",
   "execution_count": 34,
   "id": "1853aaf5-fb9f-46cb-a2b5-8ea4ae2237e4",
   "metadata": {
    "execution": {
     "iopub.execute_input": "2025-07-30T21:45:06.165421Z",
     "iopub.status.busy": "2025-07-30T21:45:06.164921Z",
     "iopub.status.idle": "2025-07-30T21:45:06.220617Z",
     "shell.execute_reply": "2025-07-30T21:45:06.219502Z"
    },
    "papermill": {
     "duration": 0.080642,
     "end_time": "2025-07-30T21:45:06.222355",
     "exception": false,
     "start_time": "2025-07-30T21:45:06.141713",
     "status": "completed"
    },
    "tags": []
   },
   "outputs": [
    {
     "name": "stdout",
     "output_type": "stream",
     "text": [
      "Dropping features: ['maxdeutsch1', 'maxdeutsch.Missing.']\n"
     ]
    }
   ],
   "source": [
    "if len(excluded_features_columns) > 0:\n",
    "    print(f\"Dropping features: {excluded_features_columns}\")\n",
    "    X_calib.drop(excluded_features_columns, axis=1, inplace=True)"
   ]
  },
  {
   "cell_type": "code",
   "execution_count": 35,
   "id": "6727d079-03e5-481e-9d38-292a90b7a0a8",
   "metadata": {
    "execution": {
     "iopub.execute_input": "2025-07-30T21:45:06.274842Z",
     "iopub.status.busy": "2025-07-30T21:45:06.274330Z",
     "iopub.status.idle": "2025-07-30T21:45:06.279737Z",
     "shell.execute_reply": "2025-07-30T21:45:06.278805Z"
    },
    "papermill": {
     "duration": 0.035712,
     "end_time": "2025-07-30T21:45:06.281964",
     "exception": false,
     "start_time": "2025-07-30T21:45:06.246252",
     "status": "completed"
    },
    "tags": []
   },
   "outputs": [],
   "source": [
    "# SPLIT & STRATIFY DATA\n",
    "# ----------------------"
   ]
  },
  {
   "cell_type": "code",
   "execution_count": 36,
   "id": "76c4dc6d",
   "metadata": {
    "execution": {
     "iopub.execute_input": "2025-07-30T21:45:06.332975Z",
     "iopub.status.busy": "2025-07-30T21:45:06.332005Z",
     "iopub.status.idle": "2025-07-30T21:45:06.337806Z",
     "shell.execute_reply": "2025-07-30T21:45:06.336703Z"
    },
    "papermill": {
     "duration": 0.032428,
     "end_time": "2025-07-30T21:45:06.339644",
     "exception": false,
     "start_time": "2025-07-30T21:45:06.307216",
     "status": "completed"
    },
    "tags": []
   },
   "outputs": [],
   "source": [
    "# EXCLUDE CERTAIN SUBGROUPS\n",
    "# ----------------------\n",
    "\n",
    "mode = universe.get(\"exclude_subgroups\", \"keep-all\") \n",
    "# Fetches the exclude_subgroups setting from the universe dict.\n",
    "# Defaults to \"keep-all\" if the key is missing."
   ]
  },
  {
   "cell_type": "code",
   "execution_count": 37,
   "id": "21994072",
   "metadata": {
    "execution": {
     "iopub.execute_input": "2025-07-30T21:45:06.390513Z",
     "iopub.status.busy": "2025-07-30T21:45:06.389924Z",
     "iopub.status.idle": "2025-07-30T21:45:06.397060Z",
     "shell.execute_reply": "2025-07-30T21:45:06.395974Z"
    },
    "papermill": {
     "duration": 0.034556,
     "end_time": "2025-07-30T21:45:06.398580",
     "exception": false,
     "start_time": "2025-07-30T21:45:06.364024",
     "status": "completed"
    },
    "tags": []
   },
   "outputs": [],
   "source": [
    "if mode == \"keep-all\":\n",
    "    keep_mask = pd.Series(True, index=org_train.index)\n",
    "\n",
    "# org_train contains the original feature columns from features_org (in Simson)\n",
    "# features_org contains unprocessed features, for me X_train at beginning ???\n",
    "# For keep-all, creates a boolean Series (keep_mask) of all True, so no rows are removed.\n",
    "\n",
    "elif mode == \"drop-non-german\":\n",
    "    keep_mask = org_train[\"maxdeutsch1\"] == 1 # ??? what about missing values?\n",
    "\n",
    "else:\n",
    "    raise ValueError(f\"Unsupported mode for exclude_subgroups: {mode}\")\n"
   ]
  },
  {
   "cell_type": "code",
   "execution_count": 38,
   "id": "71651440",
   "metadata": {
    "execution": {
     "iopub.execute_input": "2025-07-30T21:45:06.448256Z",
     "iopub.status.busy": "2025-07-30T21:45:06.447731Z",
     "iopub.status.idle": "2025-07-30T21:45:06.455075Z",
     "shell.execute_reply": "2025-07-30T21:45:06.454000Z"
    },
    "papermill": {
     "duration": 0.034236,
     "end_time": "2025-07-30T21:45:06.456725",
     "exception": false,
     "start_time": "2025-07-30T21:45:06.422489",
     "status": "completed"
    },
    "tags": []
   },
   "outputs": [],
   "source": [
    "n_drop = (~keep_mask).sum() # Calculates how many rows are set to be dropped\n",
    "if n_drop > 0:\n",
    "    pct = n_drop / len(keep_mask) * 100\n",
    "    print(f\"Dropping {n_drop} rows ({pct:.2f}%) where mode='{mode}'\")"
   ]
  },
  {
   "cell_type": "code",
   "execution_count": 39,
   "id": "5fb8eee5",
   "metadata": {
    "execution": {
     "iopub.execute_input": "2025-07-30T21:45:06.506174Z",
     "iopub.status.busy": "2025-07-30T21:45:06.505672Z",
     "iopub.status.idle": "2025-07-30T21:45:06.512209Z",
     "shell.execute_reply": "2025-07-30T21:45:06.511153Z"
    },
    "papermill": {
     "duration": 0.033575,
     "end_time": "2025-07-30T21:45:06.514042",
     "exception": false,
     "start_time": "2025-07-30T21:45:06.480467",
     "status": "completed"
    },
    "tags": []
   },
   "outputs": [],
   "source": [
    "X_train = X_train[keep_mask]"
   ]
  },
  {
   "cell_type": "code",
   "execution_count": 40,
   "id": "b202bb3a",
   "metadata": {
    "execution": {
     "iopub.execute_input": "2025-07-30T21:45:06.564298Z",
     "iopub.status.busy": "2025-07-30T21:45:06.563527Z",
     "iopub.status.idle": "2025-07-30T21:45:06.569797Z",
     "shell.execute_reply": "2025-07-30T21:45:06.568865Z"
    },
    "papermill": {
     "duration": 0.033789,
     "end_time": "2025-07-30T21:45:06.571428",
     "exception": false,
     "start_time": "2025-07-30T21:45:06.537639",
     "status": "completed"
    },
    "tags": []
   },
   "outputs": [],
   "source": [
    "y_train = y_train[keep_mask]"
   ]
  },
  {
   "cell_type": "markdown",
   "id": "493e2ac3",
   "metadata": {
    "papermill": {
     "duration": 0.022974,
     "end_time": "2025-07-30T21:45:06.615760",
     "exception": false,
     "start_time": "2025-07-30T21:45:06.592786",
     "status": "completed"
    },
    "tags": []
   },
   "source": [
    "# Model Training"
   ]
  },
  {
   "cell_type": "code",
   "execution_count": 41,
   "id": "679e1268",
   "metadata": {
    "execution": {
     "iopub.execute_input": "2025-07-30T21:45:06.649375Z",
     "iopub.status.busy": "2025-07-30T21:45:06.648946Z",
     "iopub.status.idle": "2025-07-30T21:45:06.752765Z",
     "shell.execute_reply": "2025-07-30T21:45:06.751884Z"
    },
    "papermill": {
     "duration": 0.122866,
     "end_time": "2025-07-30T21:45:06.754204",
     "exception": false,
     "start_time": "2025-07-30T21:45:06.631338",
     "status": "completed"
    },
    "tags": []
   },
   "outputs": [],
   "source": [
    "from sklearn.linear_model import LogisticRegression\n",
    "from sklearn.ensemble import GradientBoostingClassifier, RandomForestClassifier\n",
    "\n",
    "if (universe[\"model\"] == \"logreg\"):\n",
    "    model = LogisticRegression() #penalty=\"none\") #, solver=\"newton-cg\", max_iter=1) # include random_state=19 ?\n",
    "elif (universe[\"model\"] == \"penalized_logreg\"):\n",
    "    model = LogisticRegression(penalty=\"l2\", C=1.0) #, solver=\"newton-cg\", max_iter=1)\n",
    "elif (universe[\"model\"] == \"rf\"):\n",
    "    model = RandomForestClassifier(n_estimators=100, n_jobs=-1)\n",
    "elif (universe[\"model\"] == \"gbm\"):\n",
    "    model = GradientBoostingClassifier()\n",
    "elif (universe[\"model\"] == \"elasticnet\"):\n",
    "    model = LogisticRegression(penalty = 'elasticnet', solver = 'saga', l1_ratio = 0.5, max_iter=5000) # which solver to use?\n",
    "else:\n",
    "    raise \"Unsupported universe.model\""
   ]
  },
  {
   "cell_type": "code",
   "execution_count": 42,
   "id": "0cc8f744",
   "metadata": {
    "execution": {
     "iopub.execute_input": "2025-07-30T21:45:06.787501Z",
     "iopub.status.busy": "2025-07-30T21:45:06.786701Z",
     "iopub.status.idle": "2025-07-30T21:45:06.793219Z",
     "shell.execute_reply": "2025-07-30T21:45:06.792198Z"
    },
    "papermill": {
     "duration": 0.027524,
     "end_time": "2025-07-30T21:45:06.794810",
     "exception": false,
     "start_time": "2025-07-30T21:45:06.767286",
     "status": "completed"
    },
    "tags": []
   },
   "outputs": [],
   "source": [
    "import numpy as np\n",
    "from sklearn.pipeline import Pipeline\n",
    "from sklearn.preprocessing import StandardScaler\n",
    "\n",
    "model = Pipeline([\n",
    "    #(\"continuous_processor\", continuous_processor),\n",
    "    #(\"categorical_preprocessor\", categorical_preprocessor),\n",
    "    (\"scale\", StandardScaler() if universe[\"scale\"] == \"scale\" else None), \n",
    "    (\"model\", model),\n",
    "])"
   ]
  },
  {
   "cell_type": "code",
   "execution_count": 43,
   "id": "9442c04d",
   "metadata": {
    "execution": {
     "iopub.execute_input": "2025-07-30T21:45:06.842062Z",
     "iopub.status.busy": "2025-07-30T21:45:06.841554Z",
     "iopub.status.idle": "2025-07-30T21:45:06.920114Z",
     "shell.execute_reply": "2025-07-30T21:45:06.913856Z"
    },
    "papermill": {
     "duration": 0.102551,
     "end_time": "2025-07-30T21:45:06.922192",
     "exception": false,
     "start_time": "2025-07-30T21:45:06.819641",
     "status": "completed"
    },
    "tags": []
   },
   "outputs": [
    {
     "name": "stderr",
     "output_type": "stream",
     "text": [
      "/dss/dsshome1/0C/ra93lal2/.local/share/virtualenvs/CMA_Fairness_v2-3j10GkSs/lib/python3.10/site-packages/sklearn/linear_model/_logistic.py:444: ConvergenceWarning: lbfgs failed to converge (status=1):\n",
      "STOP: TOTAL NO. of ITERATIONS REACHED LIMIT.\n",
      "\n",
      "Increase the number of iterations (max_iter) or scale the data as shown in:\n",
      "    https://scikit-learn.org/stable/modules/preprocessing.html\n",
      "Please also refer to the documentation for alternative solver options:\n",
      "    https://scikit-learn.org/stable/modules/linear_model.html#logistic-regression\n",
      "  n_iter_i = _check_optimize_result(\n"
     ]
    },
    {
     "data": {
      "text/html": [
       "<style>#sk-container-id-1 {color: black;background-color: white;}#sk-container-id-1 pre{padding: 0;}#sk-container-id-1 div.sk-toggleable {background-color: white;}#sk-container-id-1 label.sk-toggleable__label {cursor: pointer;display: block;width: 100%;margin-bottom: 0;padding: 0.3em;box-sizing: border-box;text-align: center;}#sk-container-id-1 label.sk-toggleable__label-arrow:before {content: \"▸\";float: left;margin-right: 0.25em;color: #696969;}#sk-container-id-1 label.sk-toggleable__label-arrow:hover:before {color: black;}#sk-container-id-1 div.sk-estimator:hover label.sk-toggleable__label-arrow:before {color: black;}#sk-container-id-1 div.sk-toggleable__content {max-height: 0;max-width: 0;overflow: hidden;text-align: left;background-color: #f0f8ff;}#sk-container-id-1 div.sk-toggleable__content pre {margin: 0.2em;color: black;border-radius: 0.25em;background-color: #f0f8ff;}#sk-container-id-1 input.sk-toggleable__control:checked~div.sk-toggleable__content {max-height: 200px;max-width: 100%;overflow: auto;}#sk-container-id-1 input.sk-toggleable__control:checked~label.sk-toggleable__label-arrow:before {content: \"▾\";}#sk-container-id-1 div.sk-estimator input.sk-toggleable__control:checked~label.sk-toggleable__label {background-color: #d4ebff;}#sk-container-id-1 div.sk-label input.sk-toggleable__control:checked~label.sk-toggleable__label {background-color: #d4ebff;}#sk-container-id-1 input.sk-hidden--visually {border: 0;clip: rect(1px 1px 1px 1px);clip: rect(1px, 1px, 1px, 1px);height: 1px;margin: -1px;overflow: hidden;padding: 0;position: absolute;width: 1px;}#sk-container-id-1 div.sk-estimator {font-family: monospace;background-color: #f0f8ff;border: 1px dotted black;border-radius: 0.25em;box-sizing: border-box;margin-bottom: 0.5em;}#sk-container-id-1 div.sk-estimator:hover {background-color: #d4ebff;}#sk-container-id-1 div.sk-parallel-item::after {content: \"\";width: 100%;border-bottom: 1px solid gray;flex-grow: 1;}#sk-container-id-1 div.sk-label:hover label.sk-toggleable__label {background-color: #d4ebff;}#sk-container-id-1 div.sk-serial::before {content: \"\";position: absolute;border-left: 1px solid gray;box-sizing: border-box;top: 0;bottom: 0;left: 50%;z-index: 0;}#sk-container-id-1 div.sk-serial {display: flex;flex-direction: column;align-items: center;background-color: white;padding-right: 0.2em;padding-left: 0.2em;position: relative;}#sk-container-id-1 div.sk-item {position: relative;z-index: 1;}#sk-container-id-1 div.sk-parallel {display: flex;align-items: stretch;justify-content: center;background-color: white;position: relative;}#sk-container-id-1 div.sk-item::before, #sk-container-id-1 div.sk-parallel-item::before {content: \"\";position: absolute;border-left: 1px solid gray;box-sizing: border-box;top: 0;bottom: 0;left: 50%;z-index: -1;}#sk-container-id-1 div.sk-parallel-item {display: flex;flex-direction: column;z-index: 1;position: relative;background-color: white;}#sk-container-id-1 div.sk-parallel-item:first-child::after {align-self: flex-end;width: 50%;}#sk-container-id-1 div.sk-parallel-item:last-child::after {align-self: flex-start;width: 50%;}#sk-container-id-1 div.sk-parallel-item:only-child::after {width: 0;}#sk-container-id-1 div.sk-dashed-wrapped {border: 1px dashed gray;margin: 0 0.4em 0.5em 0.4em;box-sizing: border-box;padding-bottom: 0.4em;background-color: white;}#sk-container-id-1 div.sk-label label {font-family: monospace;font-weight: bold;display: inline-block;line-height: 1.2em;}#sk-container-id-1 div.sk-label-container {text-align: center;}#sk-container-id-1 div.sk-container {/* jupyter's `normalize.less` sets `[hidden] { display: none; }` but bootstrap.min.css set `[hidden] { display: none !important; }` so we also need the `!important` here to be able to override the default hidden behavior on the sphinx rendered scikit-learn.org. See: https://github.com/scikit-learn/scikit-learn/issues/21755 */display: inline-block !important;position: relative;}#sk-container-id-1 div.sk-text-repr-fallback {display: none;}</style><div id=\"sk-container-id-1\" class=\"sk-top-container\"><div class=\"sk-text-repr-fallback\"><pre>Pipeline(steps=[(&#x27;scale&#x27;, StandardScaler()), (&#x27;model&#x27;, LogisticRegression())])</pre><b>In a Jupyter environment, please rerun this cell to show the HTML representation or trust the notebook. <br />On GitHub, the HTML representation is unable to render, please try loading this page with nbviewer.org.</b></div><div class=\"sk-container\" hidden><div class=\"sk-item sk-dashed-wrapped\"><div class=\"sk-label-container\"><div class=\"sk-label sk-toggleable\"><input class=\"sk-toggleable__control sk-hidden--visually\" id=\"sk-estimator-id-1\" type=\"checkbox\" ><label for=\"sk-estimator-id-1\" class=\"sk-toggleable__label sk-toggleable__label-arrow\">Pipeline</label><div class=\"sk-toggleable__content\"><pre>Pipeline(steps=[(&#x27;scale&#x27;, StandardScaler()), (&#x27;model&#x27;, LogisticRegression())])</pre></div></div></div><div class=\"sk-serial\"><div class=\"sk-item\"><div class=\"sk-estimator sk-toggleable\"><input class=\"sk-toggleable__control sk-hidden--visually\" id=\"sk-estimator-id-2\" type=\"checkbox\" ><label for=\"sk-estimator-id-2\" class=\"sk-toggleable__label sk-toggleable__label-arrow\">StandardScaler</label><div class=\"sk-toggleable__content\"><pre>StandardScaler()</pre></div></div></div><div class=\"sk-item\"><div class=\"sk-estimator sk-toggleable\"><input class=\"sk-toggleable__control sk-hidden--visually\" id=\"sk-estimator-id-3\" type=\"checkbox\" ><label for=\"sk-estimator-id-3\" class=\"sk-toggleable__label sk-toggleable__label-arrow\">LogisticRegression</label><div class=\"sk-toggleable__content\"><pre>LogisticRegression()</pre></div></div></div></div></div></div></div>"
      ],
      "text/plain": [
       "Pipeline(steps=[('scale', StandardScaler()), ('model', LogisticRegression())])"
      ]
     },
     "execution_count": 43,
     "metadata": {},
     "output_type": "execute_result"
    }
   ],
   "source": [
    "model.fit(X_train, y_train.values.ravel())"
   ]
  },
  {
   "cell_type": "code",
   "execution_count": 44,
   "id": "af59f8c0",
   "metadata": {
    "execution": {
     "iopub.execute_input": "2025-07-30T21:45:06.964341Z",
     "iopub.status.busy": "2025-07-30T21:45:06.963943Z",
     "iopub.status.idle": "2025-07-30T21:45:06.968907Z",
     "shell.execute_reply": "2025-07-30T21:45:06.968192Z"
    },
    "papermill": {
     "duration": 0.024499,
     "end_time": "2025-07-30T21:45:06.970318",
     "exception": false,
     "start_time": "2025-07-30T21:45:06.945819",
     "status": "completed"
    },
    "tags": []
   },
   "outputs": [],
   "source": [
    "from fairness_multiverse.universe import predict_w_threshold"
   ]
  },
  {
   "cell_type": "code",
   "execution_count": 45,
   "id": "a7cf2e16",
   "metadata": {
    "execution": {
     "iopub.execute_input": "2025-07-30T21:45:06.998947Z",
     "iopub.status.busy": "2025-07-30T21:45:06.998446Z",
     "iopub.status.idle": "2025-07-30T21:45:07.204083Z",
     "shell.execute_reply": "2025-07-30T21:45:07.203002Z"
    },
    "papermill": {
     "duration": 0.221752,
     "end_time": "2025-07-30T21:45:07.206557",
     "exception": false,
     "start_time": "2025-07-30T21:45:06.984805",
     "status": "completed"
    },
    "tags": []
   },
   "outputs": [
    {
     "data": {
      "text/plain": [
       "0.8182922751086835"
      ]
     },
     "execution_count": 45,
     "metadata": {},
     "output_type": "execute_result"
    }
   ],
   "source": [
    "probs_test = model.predict_proba(X_test)\n",
    "\n",
    "'''\n",
    "Below code returns a boolean array (or binary 0/1 array depending on how it’s used) where each element \n",
    "is True if the probability of class 1 is greater than or equal to the threshold, and False otherwise.\n",
    "'''\n",
    "y_pred_default = predict_w_threshold(probs_test, 0.5)\n",
    "\n",
    "from sklearn.metrics import accuracy_score\n",
    "\n",
    "# Naive prediction\n",
    "accuracy_score(y_true = y_true, y_pred = y_pred_default)"
   ]
  },
  {
   "cell_type": "code",
   "execution_count": 46,
   "id": "081964c3",
   "metadata": {
    "execution": {
     "iopub.execute_input": "2025-07-30T21:45:07.275366Z",
     "iopub.status.busy": "2025-07-30T21:45:07.274828Z",
     "iopub.status.idle": "2025-07-30T21:45:07.468270Z",
     "shell.execute_reply": "2025-07-30T21:45:07.467279Z"
    },
    "papermill": {
     "duration": 0.230056,
     "end_time": "2025-07-30T21:45:07.469584",
     "exception": false,
     "start_time": "2025-07-30T21:45:07.239528",
     "status": "completed"
    },
    "tags": []
   },
   "outputs": [
    {
     "data": {
      "text/plain": [
       "array([0, 0, 0, ..., 0, 0, 0])"
      ]
     },
     "execution_count": 46,
     "metadata": {},
     "output_type": "execute_result"
    }
   ],
   "source": [
    "model.predict(X_test)"
   ]
  },
  {
   "cell_type": "markdown",
   "id": "56c9705b",
   "metadata": {
    "papermill": {
     "duration": 0.012778,
     "end_time": "2025-07-30T21:45:07.498042",
     "exception": false,
     "start_time": "2025-07-30T21:45:07.485264",
     "status": "completed"
    },
    "tags": []
   },
   "source": [
    "# Conformal Prediction"
   ]
  },
  {
   "cell_type": "code",
   "execution_count": 47,
   "id": "160ec6ff",
   "metadata": {
    "execution": {
     "iopub.execute_input": "2025-07-30T21:45:07.537544Z",
     "iopub.status.busy": "2025-07-30T21:45:07.537102Z",
     "iopub.status.idle": "2025-07-30T21:45:07.543610Z",
     "shell.execute_reply": "2025-07-30T21:45:07.542296Z"
    },
    "papermill": {
     "duration": 0.035528,
     "end_time": "2025-07-30T21:45:07.546435",
     "exception": false,
     "start_time": "2025-07-30T21:45:07.510907",
     "status": "completed"
    },
    "tags": []
   },
   "outputs": [],
   "source": [
    "# Miscoverage level for conformal prediction (10% allowed error rate => 90% target coverage)\n",
    "alpha = 0.1"
   ]
  },
  {
   "cell_type": "code",
   "execution_count": 48,
   "id": "eadf4555-3dd3-440e-8e35-f82a4ad9f855",
   "metadata": {
    "execution": {
     "iopub.execute_input": "2025-07-30T21:45:07.617220Z",
     "iopub.status.busy": "2025-07-30T21:45:07.616457Z",
     "iopub.status.idle": "2025-07-30T21:45:07.827482Z",
     "shell.execute_reply": "2025-07-30T21:45:07.826626Z"
    },
    "papermill": {
     "duration": 0.24784,
     "end_time": "2025-07-30T21:45:07.829383",
     "exception": false,
     "start_time": "2025-07-30T21:45:07.581543",
     "status": "completed"
    },
    "tags": []
   },
   "outputs": [],
   "source": [
    "probs_calib = model.predict_proba(X_calib)"
   ]
  },
  {
   "cell_type": "code",
   "execution_count": 49,
   "id": "2ed93547-6d5d-4983-9b36-1ecb300da49a",
   "metadata": {
    "execution": {
     "iopub.execute_input": "2025-07-30T21:45:07.897566Z",
     "iopub.status.busy": "2025-07-30T21:45:07.897022Z",
     "iopub.status.idle": "2025-07-30T21:45:07.903044Z",
     "shell.execute_reply": "2025-07-30T21:45:07.902119Z"
    },
    "papermill": {
     "duration": 0.034488,
     "end_time": "2025-07-30T21:45:07.904860",
     "exception": false,
     "start_time": "2025-07-30T21:45:07.870372",
     "status": "completed"
    },
    "tags": []
   },
   "outputs": [],
   "source": [
    "y_calib = y_calib.values.ravel().astype(int)"
   ]
  },
  {
   "cell_type": "code",
   "execution_count": 50,
   "id": "65d1320d-f588-4b38-9072-62af1ae97f7d",
   "metadata": {
    "execution": {
     "iopub.execute_input": "2025-07-30T21:45:07.959492Z",
     "iopub.status.busy": "2025-07-30T21:45:07.959030Z",
     "iopub.status.idle": "2025-07-30T21:45:07.966183Z",
     "shell.execute_reply": "2025-07-30T21:45:07.965298Z"
    },
    "papermill": {
     "duration": 0.037262,
     "end_time": "2025-07-30T21:45:07.967769",
     "exception": false,
     "start_time": "2025-07-30T21:45:07.930507",
     "status": "completed"
    },
    "tags": []
   },
   "outputs": [],
   "source": [
    "from fairness_multiverse.conformal import compute_nc_scores\n",
    "\n",
    "# Compute nonconformity scores on calibration set (1 - probability of true class)\n",
    "nc_scores = compute_nc_scores(probs_calib, y_calib)"
   ]
  },
  {
   "cell_type": "code",
   "execution_count": 51,
   "id": "df3b8ca3-53b7-43d5-9667-7c85da7aeda2",
   "metadata": {
    "execution": {
     "iopub.execute_input": "2025-07-30T21:45:08.020983Z",
     "iopub.status.busy": "2025-07-30T21:45:08.020492Z",
     "iopub.status.idle": "2025-07-30T21:45:08.027643Z",
     "shell.execute_reply": "2025-07-30T21:45:08.026672Z"
    },
    "papermill": {
     "duration": 0.035555,
     "end_time": "2025-07-30T21:45:08.029473",
     "exception": false,
     "start_time": "2025-07-30T21:45:07.993918",
     "status": "completed"
    },
    "tags": []
   },
   "outputs": [],
   "source": [
    "from fairness_multiverse.conformal import find_threshold\n",
    "\n",
    "# Find conformal threshold q_hat for the given alpha (split conformal method)\n",
    "q_hat = find_threshold(nc_scores, alpha)"
   ]
  },
  {
   "cell_type": "code",
   "execution_count": 52,
   "id": "4d29e6c1-0ef6-4aa4-b8fe-4fe79b0d033a",
   "metadata": {
    "execution": {
     "iopub.execute_input": "2025-07-30T21:45:08.081504Z",
     "iopub.status.busy": "2025-07-30T21:45:08.081050Z",
     "iopub.status.idle": "2025-07-30T21:45:08.088232Z",
     "shell.execute_reply": "2025-07-30T21:45:08.087149Z"
    },
    "papermill": {
     "duration": 0.035304,
     "end_time": "2025-07-30T21:45:08.089841",
     "exception": false,
     "start_time": "2025-07-30T21:45:08.054537",
     "status": "completed"
    },
    "tags": []
   },
   "outputs": [
    {
     "data": {
      "text/plain": [
       "0.7710000686234922"
      ]
     },
     "execution_count": 52,
     "metadata": {},
     "output_type": "execute_result"
    }
   ],
   "source": [
    "q_hat"
   ]
  },
  {
   "cell_type": "code",
   "execution_count": 53,
   "id": "92460794-cdac-4be2-ba28-f28c0515a6fb",
   "metadata": {
    "execution": {
     "iopub.execute_input": "2025-07-30T21:45:08.141879Z",
     "iopub.status.busy": "2025-07-30T21:45:08.141214Z",
     "iopub.status.idle": "2025-07-30T21:45:09.071950Z",
     "shell.execute_reply": "2025-07-30T21:45:09.071214Z"
    },
    "papermill": {
     "duration": 0.958899,
     "end_time": "2025-07-30T21:45:09.073834",
     "exception": false,
     "start_time": "2025-07-30T21:45:08.114935",
     "status": "completed"
    },
    "tags": []
   },
   "outputs": [],
   "source": [
    "from fairness_multiverse.conformal import predict_conformal_sets\n",
    "\n",
    "# Generate prediction sets for each test example\n",
    "pred_sets = predict_conformal_sets(model, X_test, q_hat)"
   ]
  },
  {
   "cell_type": "code",
   "execution_count": 54,
   "id": "d90c9a65-e6db-4f5d-80cd-e68fb7e46829",
   "metadata": {
    "execution": {
     "iopub.execute_input": "2025-07-30T21:45:09.129243Z",
     "iopub.status.busy": "2025-07-30T21:45:09.128748Z",
     "iopub.status.idle": "2025-07-30T21:45:09.134199Z",
     "shell.execute_reply": "2025-07-30T21:45:09.133219Z"
    },
    "papermill": {
     "duration": 0.033933,
     "end_time": "2025-07-30T21:45:09.136117",
     "exception": false,
     "start_time": "2025-07-30T21:45:09.102184",
     "status": "completed"
    },
    "tags": []
   },
   "outputs": [],
   "source": [
    "y_true = y_true.squeeze()"
   ]
  },
  {
   "cell_type": "code",
   "execution_count": 55,
   "id": "3a58a54a-1e68-46b9-927a-df01f18aebc8",
   "metadata": {
    "execution": {
     "iopub.execute_input": "2025-07-30T21:45:09.189494Z",
     "iopub.status.busy": "2025-07-30T21:45:09.188890Z",
     "iopub.status.idle": "2025-07-30T21:45:09.927129Z",
     "shell.execute_reply": "2025-07-30T21:45:09.926338Z"
    },
    "papermill": {
     "duration": 0.767193,
     "end_time": "2025-07-30T21:45:09.929040",
     "exception": false,
     "start_time": "2025-07-30T21:45:09.161847",
     "status": "completed"
    },
    "tags": []
   },
   "outputs": [],
   "source": [
    "from fairness_multiverse.conformal import evaluate_sets\n",
    "\n",
    "# Evaluate coverage and average set size on test data\n",
    "metrics = evaluate_sets(pred_sets, y_true)"
   ]
  },
  {
   "cell_type": "markdown",
   "id": "2b569c12-9aaa-4c88-98c9-bbcd0cf3ebb8",
   "metadata": {
    "papermill": {
     "duration": 0.012577,
     "end_time": "2025-07-30T21:45:09.982323",
     "exception": false,
     "start_time": "2025-07-30T21:45:09.969746",
     "status": "completed"
    },
    "tags": []
   },
   "source": [
    "# CP Metrics"
   ]
  },
  {
   "cell_type": "code",
   "execution_count": 56,
   "id": "5ce0a5cb-201f-45a0-ade5-94c7f0bd6095",
   "metadata": {
    "execution": {
     "iopub.execute_input": "2025-07-30T21:45:10.008517Z",
     "iopub.status.busy": "2025-07-30T21:45:10.008003Z",
     "iopub.status.idle": "2025-07-30T21:45:10.014565Z",
     "shell.execute_reply": "2025-07-30T21:45:10.013794Z"
    },
    "papermill": {
     "duration": 0.021166,
     "end_time": "2025-07-30T21:45:10.015952",
     "exception": false,
     "start_time": "2025-07-30T21:45:09.994786",
     "status": "completed"
    },
    "tags": []
   },
   "outputs": [
    {
     "data": {
      "text/plain": [
       "{'coverage': 0.9060082488016944, 'avg_size': 1.2364173447776168}"
      ]
     },
     "execution_count": 56,
     "metadata": {},
     "output_type": "execute_result"
    }
   ],
   "source": [
    "metrics"
   ]
  },
  {
   "cell_type": "code",
   "execution_count": 57,
   "id": "9b9a838d-31c9-430b-ae14-12baee460d17",
   "metadata": {
    "execution": {
     "iopub.execute_input": "2025-07-30T21:45:10.044763Z",
     "iopub.status.busy": "2025-07-30T21:45:10.044238Z",
     "iopub.status.idle": "2025-07-30T21:45:10.049795Z",
     "shell.execute_reply": "2025-07-30T21:45:10.049144Z"
    },
    "papermill": {
     "duration": 0.020461,
     "end_time": "2025-07-30T21:45:10.051088",
     "exception": false,
     "start_time": "2025-07-30T21:45:10.030627",
     "status": "completed"
    },
    "tags": []
   },
   "outputs": [],
   "source": [
    "example_universe = universe.copy()\n",
    "universe_training_year = example_universe.get(\"training_year\")\n",
    "universe_training_size = example_universe.get(\"training_size\")\n",
    "universe_scale = example_universe.get(\"scale\")\n",
    "universe_model = example_universe.get(\"model\")\n",
    "universe_exclude_features = example_universe.get(\"exclude_features\")\n",
    "universe_exclude_subgroups = example_universe.get(\"exclude_subgroups\")"
   ]
  },
  {
   "cell_type": "code",
   "execution_count": 58,
   "id": "f4b6a8ac-9dc0-4245-8a91-5b3b5999c4f9",
   "metadata": {
    "execution": {
     "iopub.execute_input": "2025-07-30T21:45:10.080123Z",
     "iopub.status.busy": "2025-07-30T21:45:10.079355Z",
     "iopub.status.idle": "2025-07-30T21:45:10.084869Z",
     "shell.execute_reply": "2025-07-30T21:45:10.084166Z"
    },
    "papermill": {
     "duration": 0.02051,
     "end_time": "2025-07-30T21:45:10.086178",
     "exception": false,
     "start_time": "2025-07-30T21:45:10.065668",
     "status": "completed"
    },
    "tags": []
   },
   "outputs": [],
   "source": [
    "cp_metrics_dict = {\n",
    "    \"universe_id\": [universe_id],\n",
    "    \"universe_training_year\": [universe_training_year],\n",
    "    \"universe_training_size\": [universe_training_size],\n",
    "    \"universe_scale\": [universe_scale],\n",
    "    \"universe_model\": [universe_model],\n",
    "    \"universe_exclude_features\": [universe_exclude_features],\n",
    "    \"universe_exclude_subgroups\": [universe_exclude_subgroups],\n",
    "    \"q_hat\": [q_hat],\n",
    "    \"coverage\": [metrics[\"coverage\"]],\n",
    "    \"avg_size\": [metrics[\"avg_size\"]],\n",
    "}"
   ]
  },
  {
   "cell_type": "code",
   "execution_count": 59,
   "id": "908acbb1-0371-4915-85ca-3fa520d2efe2",
   "metadata": {
    "execution": {
     "iopub.execute_input": "2025-07-30T21:45:10.114650Z",
     "iopub.status.busy": "2025-07-30T21:45:10.113767Z",
     "iopub.status.idle": "2025-07-30T21:45:10.121707Z",
     "shell.execute_reply": "2025-07-30T21:45:10.120686Z"
    },
    "papermill": {
     "duration": 0.023243,
     "end_time": "2025-07-30T21:45:10.123374",
     "exception": false,
     "start_time": "2025-07-30T21:45:10.100131",
     "status": "completed"
    },
    "tags": []
   },
   "outputs": [
    {
     "data": {
      "text/plain": [
       "{'universe_id': ['2e00861bf82aee3171e83bde712878ac'],\n",
       " 'universe_training_year': ['2010_14'],\n",
       " 'universe_training_size': ['1k'],\n",
       " 'universe_scale': ['scale'],\n",
       " 'universe_model': ['penalized_logreg'],\n",
       " 'universe_exclude_features': ['nationality'],\n",
       " 'universe_exclude_subgroups': ['keep-all'],\n",
       " 'q_hat': [0.7710000686234922],\n",
       " 'coverage': [0.9060082488016944],\n",
       " 'avg_size': [1.2364173447776168]}"
      ]
     },
     "execution_count": 59,
     "metadata": {},
     "output_type": "execute_result"
    }
   ],
   "source": [
    "cp_metrics_dict"
   ]
  },
  {
   "cell_type": "code",
   "execution_count": 60,
   "id": "33007efc-14e9-4ec6-97ac-56a455c82265",
   "metadata": {
    "execution": {
     "iopub.execute_input": "2025-07-30T21:45:10.175929Z",
     "iopub.status.busy": "2025-07-30T21:45:10.175174Z",
     "iopub.status.idle": "2025-07-30T21:45:10.181920Z",
     "shell.execute_reply": "2025-07-30T21:45:10.181008Z"
    },
    "papermill": {
     "duration": 0.032666,
     "end_time": "2025-07-30T21:45:10.183630",
     "exception": false,
     "start_time": "2025-07-30T21:45:10.150964",
     "status": "completed"
    },
    "tags": []
   },
   "outputs": [],
   "source": [
    "cp_metrics_df = pd.DataFrame(cp_metrics_dict)"
   ]
  },
  {
   "cell_type": "code",
   "execution_count": 61,
   "id": "db12611b-57b2-4910-b9d0-355adfd6e7bf",
   "metadata": {
    "execution": {
     "iopub.execute_input": "2025-07-30T21:45:10.235932Z",
     "iopub.status.busy": "2025-07-30T21:45:10.235505Z",
     "iopub.status.idle": "2025-07-30T21:45:10.254800Z",
     "shell.execute_reply": "2025-07-30T21:45:10.253822Z"
    },
    "papermill": {
     "duration": 0.045554,
     "end_time": "2025-07-30T21:45:10.256649",
     "exception": false,
     "start_time": "2025-07-30T21:45:10.211095",
     "status": "completed"
    },
    "tags": []
   },
   "outputs": [
    {
     "data": {
      "text/html": [
       "<div>\n",
       "<style scoped>\n",
       "    .dataframe tbody tr th:only-of-type {\n",
       "        vertical-align: middle;\n",
       "    }\n",
       "\n",
       "    .dataframe tbody tr th {\n",
       "        vertical-align: top;\n",
       "    }\n",
       "\n",
       "    .dataframe thead th {\n",
       "        text-align: right;\n",
       "    }\n",
       "</style>\n",
       "<table border=\"1\" class=\"dataframe\">\n",
       "  <thead>\n",
       "    <tr style=\"text-align: right;\">\n",
       "      <th></th>\n",
       "      <th>universe_id</th>\n",
       "      <th>universe_training_year</th>\n",
       "      <th>universe_training_size</th>\n",
       "      <th>universe_scale</th>\n",
       "      <th>universe_model</th>\n",
       "      <th>universe_exclude_features</th>\n",
       "      <th>universe_exclude_subgroups</th>\n",
       "      <th>q_hat</th>\n",
       "      <th>coverage</th>\n",
       "      <th>avg_size</th>\n",
       "    </tr>\n",
       "  </thead>\n",
       "  <tbody>\n",
       "    <tr>\n",
       "      <th>0</th>\n",
       "      <td>2e00861bf82aee3171e83bde712878ac</td>\n",
       "      <td>2010_14</td>\n",
       "      <td>1k</td>\n",
       "      <td>scale</td>\n",
       "      <td>penalized_logreg</td>\n",
       "      <td>nationality</td>\n",
       "      <td>keep-all</td>\n",
       "      <td>0.771</td>\n",
       "      <td>0.906008</td>\n",
       "      <td>1.236417</td>\n",
       "    </tr>\n",
       "  </tbody>\n",
       "</table>\n",
       "</div>"
      ],
      "text/plain": [
       "                        universe_id universe_training_year  \\\n",
       "0  2e00861bf82aee3171e83bde712878ac                2010_14   \n",
       "\n",
       "  universe_training_size universe_scale    universe_model  \\\n",
       "0                     1k          scale  penalized_logreg   \n",
       "\n",
       "  universe_exclude_features universe_exclude_subgroups  q_hat  coverage  \\\n",
       "0               nationality                   keep-all  0.771  0.906008   \n",
       "\n",
       "   avg_size  \n",
       "0  1.236417  "
      ]
     },
     "execution_count": 61,
     "metadata": {},
     "output_type": "execute_result"
    }
   ],
   "source": [
    "cp_metrics_df"
   ]
  },
  {
   "cell_type": "code",
   "execution_count": 62,
   "id": "b7fbde55-a0a1-47e4-9af6-fe4a17fa8c61",
   "metadata": {
    "execution": {
     "iopub.execute_input": "2025-07-30T21:45:10.312424Z",
     "iopub.status.busy": "2025-07-30T21:45:10.311573Z",
     "iopub.status.idle": "2025-07-30T21:45:10.317311Z",
     "shell.execute_reply": "2025-07-30T21:45:10.316402Z"
    },
    "papermill": {
     "duration": 0.035359,
     "end_time": "2025-07-30T21:45:10.319037",
     "exception": false,
     "start_time": "2025-07-30T21:45:10.283678",
     "status": "completed"
    },
    "tags": []
   },
   "outputs": [],
   "source": [
    "# Conditional Coverage & looking at subgroups"
   ]
  },
  {
   "cell_type": "code",
   "execution_count": 63,
   "id": "027ae886-68dd-4141-96c7-805a5450e1ef",
   "metadata": {
    "execution": {
     "iopub.execute_input": "2025-07-30T21:45:10.374748Z",
     "iopub.status.busy": "2025-07-30T21:45:10.374234Z",
     "iopub.status.idle": "2025-07-30T21:45:10.662302Z",
     "shell.execute_reply": "2025-07-30T21:45:10.661273Z"
    },
    "papermill": {
     "duration": 0.317867,
     "end_time": "2025-07-30T21:45:10.664281",
     "exception": false,
     "start_time": "2025-07-30T21:45:10.346414",
     "status": "completed"
    },
    "tags": []
   },
   "outputs": [],
   "source": [
    "from fairness_multiverse.conformal import build_cp_groups\n",
    "\n",
    "cp_groups_df = build_cp_groups(pred_sets, y_true, X_test.index, org_test)\n",
    "#needs universe_id and setting"
   ]
  },
  {
   "cell_type": "code",
   "execution_count": 64,
   "id": "01d5802c-663a-4d1f-9d69-e036faaffbf7",
   "metadata": {
    "execution": {
     "iopub.execute_input": "2025-07-30T21:45:10.727768Z",
     "iopub.status.busy": "2025-07-30T21:45:10.727119Z",
     "iopub.status.idle": "2025-07-30T21:45:10.732740Z",
     "shell.execute_reply": "2025-07-30T21:45:10.731593Z"
    },
    "papermill": {
     "duration": 0.034305,
     "end_time": "2025-07-30T21:45:10.734554",
     "exception": false,
     "start_time": "2025-07-30T21:45:10.700249",
     "status": "completed"
    },
    "tags": []
   },
   "outputs": [],
   "source": [
    "#delete\n",
    "#cp_groups_df"
   ]
  },
  {
   "cell_type": "code",
   "execution_count": 65,
   "id": "fa424af1-d1eb-443d-b717-2d279ada8408",
   "metadata": {
    "execution": {
     "iopub.execute_input": "2025-07-30T21:45:10.790915Z",
     "iopub.status.busy": "2025-07-30T21:45:10.790458Z",
     "iopub.status.idle": "2025-07-30T21:45:10.795632Z",
     "shell.execute_reply": "2025-07-30T21:45:10.794708Z"
    },
    "papermill": {
     "duration": 0.034709,
     "end_time": "2025-07-30T21:45:10.797468",
     "exception": false,
     "start_time": "2025-07-30T21:45:10.762759",
     "status": "completed"
    },
    "tags": []
   },
   "outputs": [],
   "source": [
    "#delete\n",
    "#percentage = (cp_groups_df['nongerman_female'] == 1).mean() * 100\n",
    "#print(percentage)\n"
   ]
  },
  {
   "cell_type": "code",
   "execution_count": 66,
   "id": "6cbdab96-b2b2-45af-ad54-d0516db2e28d",
   "metadata": {
    "execution": {
     "iopub.execute_input": "2025-07-30T21:45:10.853105Z",
     "iopub.status.busy": "2025-07-30T21:45:10.852597Z",
     "iopub.status.idle": "2025-07-30T21:45:12.622584Z",
     "shell.execute_reply": "2025-07-30T21:45:12.621565Z"
    },
    "papermill": {
     "duration": 1.799211,
     "end_time": "2025-07-30T21:45:12.624791",
     "exception": false,
     "start_time": "2025-07-30T21:45:10.825580",
     "status": "completed"
    },
    "tags": []
   },
   "outputs": [],
   "source": [
    "# Define covered = 1 if true_label is in the predicted set\n",
    "cp_groups_df['covered'] = cp_groups_df.apply(\n",
    "    lambda r: int(r['true_label'] in r['pred_set']),\n",
    "    axis=1\n",
    ")"
   ]
  },
  {
   "cell_type": "code",
   "execution_count": 67,
   "id": "338ff529-1a6b-4b87-a931-8e4788d52aad",
   "metadata": {
    "execution": {
     "iopub.execute_input": "2025-07-30T21:45:12.690045Z",
     "iopub.status.busy": "2025-07-30T21:45:12.689317Z",
     "iopub.status.idle": "2025-07-30T21:45:12.694715Z",
     "shell.execute_reply": "2025-07-30T21:45:12.693755Z"
    },
    "papermill": {
     "duration": 0.038942,
     "end_time": "2025-07-30T21:45:12.696527",
     "exception": false,
     "start_time": "2025-07-30T21:45:12.657585",
     "status": "completed"
    },
    "tags": []
   },
   "outputs": [],
   "source": [
    "#cp_groups_df"
   ]
  },
  {
   "cell_type": "code",
   "execution_count": 68,
   "id": "90032e27-66df-4540-9169-4e89cfbaa758",
   "metadata": {
    "execution": {
     "iopub.execute_input": "2025-07-30T21:45:12.756792Z",
     "iopub.status.busy": "2025-07-30T21:45:12.755751Z",
     "iopub.status.idle": "2025-07-30T21:45:12.768387Z",
     "shell.execute_reply": "2025-07-30T21:45:12.767172Z"
    },
    "papermill": {
     "duration": 0.042943,
     "end_time": "2025-07-30T21:45:12.770146",
     "exception": false,
     "start_time": "2025-07-30T21:45:12.727203",
     "status": "completed"
    },
    "tags": []
   },
   "outputs": [],
   "source": [
    "subgroups = ['frau1','nongerman','nongerman_male','nongerman_female']\n",
    "\n",
    "# Conditional coverage for subgroup==1\n",
    "cond_coverage = {\n",
    "    g: cp_groups_df.loc[cp_groups_df[g]==1, 'covered'].mean()\n",
    "    for g in subgroups\n",
    "}"
   ]
  },
  {
   "cell_type": "code",
   "execution_count": 69,
   "id": "1e348fb1-b9c3-45bc-ba23-f016827a7e0d",
   "metadata": {
    "execution": {
     "iopub.execute_input": "2025-07-30T21:45:12.829548Z",
     "iopub.status.busy": "2025-07-30T21:45:12.828981Z",
     "iopub.status.idle": "2025-07-30T21:45:12.836491Z",
     "shell.execute_reply": "2025-07-30T21:45:12.835650Z"
    },
    "papermill": {
     "duration": 0.04235,
     "end_time": "2025-07-30T21:45:12.837965",
     "exception": false,
     "start_time": "2025-07-30T21:45:12.795615",
     "status": "completed"
    },
    "tags": []
   },
   "outputs": [
    {
     "data": {
      "text/plain": [
       "{'frau1': 0.9074268769375927,\n",
       " 'nongerman': 0.9144445068208612,\n",
       " 'nongerman_male': 0.9279474016031704,\n",
       " 'nongerman_female': 0.8921013412816692}"
      ]
     },
     "execution_count": 69,
     "metadata": {},
     "output_type": "execute_result"
    }
   ],
   "source": [
    "cond_coverage"
   ]
  },
  {
   "cell_type": "code",
   "execution_count": 70,
   "id": "f5093324-c3dd-4d63-bc4c-8d945e5c8bbb",
   "metadata": {
    "execution": {
     "iopub.execute_input": "2025-07-30T21:45:12.869179Z",
     "iopub.status.busy": "2025-07-30T21:45:12.868780Z",
     "iopub.status.idle": "2025-07-30T21:45:12.875047Z",
     "shell.execute_reply": "2025-07-30T21:45:12.874339Z"
    },
    "papermill": {
     "duration": 0.023304,
     "end_time": "2025-07-30T21:45:12.876281",
     "exception": false,
     "start_time": "2025-07-30T21:45:12.852977",
     "status": "completed"
    },
    "tags": []
   },
   "outputs": [],
   "source": [
    "for subgroup, cov in cond_coverage.items():\n",
    "    cp_metrics_df[f\"cov_{subgroup}\"] = cov"
   ]
  },
  {
   "cell_type": "code",
   "execution_count": 71,
   "id": "6e872e10-dbe5-49e8-b554-5030c98ff75d",
   "metadata": {
    "execution": {
     "iopub.execute_input": "2025-07-30T21:45:12.911739Z",
     "iopub.status.busy": "2025-07-30T21:45:12.911376Z",
     "iopub.status.idle": "2025-07-30T21:45:12.928410Z",
     "shell.execute_reply": "2025-07-30T21:45:12.927423Z"
    },
    "papermill": {
     "duration": 0.034432,
     "end_time": "2025-07-30T21:45:12.930313",
     "exception": false,
     "start_time": "2025-07-30T21:45:12.895881",
     "status": "completed"
    },
    "tags": []
   },
   "outputs": [
    {
     "data": {
      "text/html": [
       "<div>\n",
       "<style scoped>\n",
       "    .dataframe tbody tr th:only-of-type {\n",
       "        vertical-align: middle;\n",
       "    }\n",
       "\n",
       "    .dataframe tbody tr th {\n",
       "        vertical-align: top;\n",
       "    }\n",
       "\n",
       "    .dataframe thead th {\n",
       "        text-align: right;\n",
       "    }\n",
       "</style>\n",
       "<table border=\"1\" class=\"dataframe\">\n",
       "  <thead>\n",
       "    <tr style=\"text-align: right;\">\n",
       "      <th></th>\n",
       "      <th>universe_id</th>\n",
       "      <th>universe_training_year</th>\n",
       "      <th>universe_training_size</th>\n",
       "      <th>universe_scale</th>\n",
       "      <th>universe_model</th>\n",
       "      <th>universe_exclude_features</th>\n",
       "      <th>universe_exclude_subgroups</th>\n",
       "      <th>q_hat</th>\n",
       "      <th>coverage</th>\n",
       "      <th>avg_size</th>\n",
       "      <th>cov_frau1</th>\n",
       "      <th>cov_nongerman</th>\n",
       "      <th>cov_nongerman_male</th>\n",
       "      <th>cov_nongerman_female</th>\n",
       "    </tr>\n",
       "  </thead>\n",
       "  <tbody>\n",
       "    <tr>\n",
       "      <th>0</th>\n",
       "      <td>2e00861bf82aee3171e83bde712878ac</td>\n",
       "      <td>2010_14</td>\n",
       "      <td>1k</td>\n",
       "      <td>scale</td>\n",
       "      <td>penalized_logreg</td>\n",
       "      <td>nationality</td>\n",
       "      <td>keep-all</td>\n",
       "      <td>0.771</td>\n",
       "      <td>0.906008</td>\n",
       "      <td>1.236417</td>\n",
       "      <td>0.907427</td>\n",
       "      <td>0.914445</td>\n",
       "      <td>0.927947</td>\n",
       "      <td>0.892101</td>\n",
       "    </tr>\n",
       "  </tbody>\n",
       "</table>\n",
       "</div>"
      ],
      "text/plain": [
       "                        universe_id universe_training_year  \\\n",
       "0  2e00861bf82aee3171e83bde712878ac                2010_14   \n",
       "\n",
       "  universe_training_size universe_scale    universe_model  \\\n",
       "0                     1k          scale  penalized_logreg   \n",
       "\n",
       "  universe_exclude_features universe_exclude_subgroups  q_hat  coverage  \\\n",
       "0               nationality                   keep-all  0.771  0.906008   \n",
       "\n",
       "   avg_size  cov_frau1  cov_nongerman  cov_nongerman_male  \\\n",
       "0  1.236417   0.907427       0.914445            0.927947   \n",
       "\n",
       "   cov_nongerman_female  \n",
       "0              0.892101  "
      ]
     },
     "execution_count": 71,
     "metadata": {},
     "output_type": "execute_result"
    }
   ],
   "source": [
    "cp_metrics_df"
   ]
  },
  {
   "cell_type": "markdown",
   "id": "33774451",
   "metadata": {
    "papermill": {
     "duration": 0.025282,
     "end_time": "2025-07-30T21:45:12.981069",
     "exception": false,
     "start_time": "2025-07-30T21:45:12.955787",
     "status": "completed"
    },
    "tags": []
   },
   "source": [
    "# (Fairness) Metrics"
   ]
  },
  {
   "cell_type": "code",
   "execution_count": 72,
   "id": "debc5d62",
   "metadata": {
    "execution": {
     "iopub.execute_input": "2025-07-30T21:45:13.040655Z",
     "iopub.status.busy": "2025-07-30T21:45:13.040077Z",
     "iopub.status.idle": "2025-07-30T21:45:13.061438Z",
     "shell.execute_reply": "2025-07-30T21:45:13.060567Z"
    },
    "papermill": {
     "duration": 0.052615,
     "end_time": "2025-07-30T21:45:13.064626",
     "exception": false,
     "start_time": "2025-07-30T21:45:13.012011",
     "status": "completed"
    },
    "tags": []
   },
   "outputs": [],
   "source": [
    "# do I need to include maxdeutsch1.missing?\n",
    "\n",
    "import numpy as np\n",
    "\n",
    "colname_to_bin = \"maxdeutsch1\"\n",
    "majority_value = org_train[colname_to_bin].mode()[0]\n",
    "\n",
    "org_test[\"majmin\"] = np.where(org_test[colname_to_bin] == majority_value, \"majority\", \"minority\")"
   ]
  },
  {
   "cell_type": "code",
   "execution_count": 73,
   "id": "06a50de5",
   "metadata": {
    "execution": {
     "iopub.execute_input": "2025-07-30T21:45:13.123014Z",
     "iopub.status.busy": "2025-07-30T21:45:13.122271Z",
     "iopub.status.idle": "2025-07-30T21:45:15.271713Z",
     "shell.execute_reply": "2025-07-30T21:45:15.270793Z"
    },
    "papermill": {
     "duration": 2.180838,
     "end_time": "2025-07-30T21:45:15.273198",
     "exception": false,
     "start_time": "2025-07-30T21:45:13.092360",
     "status": "completed"
    },
    "tags": []
   },
   "outputs": [],
   "source": [
    "example_universe = universe.copy()\n",
    "example_universe[\"cutoff\"] = example_universe[\"cutoff\"][0]\n",
    "example_universe[\"eval_fairness_grouping\"] = example_universe[\"eval_fairness_grouping\"][0]\n",
    "fairness_dict, metric_frame = universe_analysis.compute_metrics(\n",
    "    example_universe,\n",
    "    y_pred_prob=probs_test,\n",
    "    y_test=y_true,\n",
    "    org_test=org_test,\n",
    ")"
   ]
  },
  {
   "cell_type": "markdown",
   "id": "f95d4e02",
   "metadata": {
    "papermill": {
     "duration": 0.02751,
     "end_time": "2025-07-30T21:45:15.330411",
     "exception": false,
     "start_time": "2025-07-30T21:45:15.302901",
     "status": "completed"
    },
    "tags": []
   },
   "source": [
    "# Overall"
   ]
  },
  {
   "cell_type": "markdown",
   "id": "bdee4871",
   "metadata": {
    "papermill": {
     "duration": 0.028663,
     "end_time": "2025-07-30T21:45:15.387998",
     "exception": false,
     "start_time": "2025-07-30T21:45:15.359335",
     "status": "completed"
    },
    "tags": []
   },
   "source": [
    "Fairness\n",
    "Main fairness target: Equalized Odds. Seems to be a better fit than equal opportunity, since we're not only interested in Y = 1. Seems to be a better fit than demographic parity, since we also care about accuracy, not just equal distribution of preds.\n",
    "\n",
    "Pick column for computation of fairness metrics\n",
    "\n",
    "Performance\n",
    "Overall performance measures, most interesting in relation to the measures split by group below"
   ]
  },
  {
   "cell_type": "code",
   "execution_count": 74,
   "id": "c4e067c6",
   "metadata": {
    "execution": {
     "iopub.execute_input": "2025-07-30T21:45:15.445245Z",
     "iopub.status.busy": "2025-07-30T21:45:15.444747Z",
     "iopub.status.idle": "2025-07-30T21:45:15.455712Z",
     "shell.execute_reply": "2025-07-30T21:45:15.454552Z"
    },
    "papermill": {
     "duration": 0.039362,
     "end_time": "2025-07-30T21:45:15.457548",
     "exception": false,
     "start_time": "2025-07-30T21:45:15.418186",
     "status": "completed"
    },
    "tags": []
   },
   "outputs": [
    {
     "data": {
      "text/plain": [
       "accuracy                   0.218248\n",
       "balanced accuracy          0.534929\n",
       "f1                         0.239748\n",
       "precision                  0.136960\n",
       "false positive rate        0.891039\n",
       "false negative rate        0.039103\n",
       "selection rate             0.900000\n",
       "count                  89710.000000\n",
       "dtype: float64"
      ]
     },
     "execution_count": 74,
     "metadata": {},
     "output_type": "execute_result"
    }
   ],
   "source": [
    "metric_frame.overall"
   ]
  },
  {
   "cell_type": "markdown",
   "id": "e968fe9d",
   "metadata": {
    "papermill": {
     "duration": 0.028512,
     "end_time": "2025-07-30T21:45:15.515020",
     "exception": false,
     "start_time": "2025-07-30T21:45:15.486508",
     "status": "completed"
    },
    "tags": []
   },
   "source": [
    "By Group"
   ]
  },
  {
   "cell_type": "code",
   "execution_count": 75,
   "id": "ec325bce",
   "metadata": {
    "execution": {
     "iopub.execute_input": "2025-07-30T21:45:15.573202Z",
     "iopub.status.busy": "2025-07-30T21:45:15.572695Z",
     "iopub.status.idle": "2025-07-30T21:45:15.590503Z",
     "shell.execute_reply": "2025-07-30T21:45:15.588956Z"
    },
    "papermill": {
     "duration": 0.049097,
     "end_time": "2025-07-30T21:45:15.592554",
     "exception": false,
     "start_time": "2025-07-30T21:45:15.543457",
     "status": "completed"
    },
    "tags": []
   },
   "outputs": [
    {
     "data": {
      "text/html": [
       "<div>\n",
       "<style scoped>\n",
       "    .dataframe tbody tr th:only-of-type {\n",
       "        vertical-align: middle;\n",
       "    }\n",
       "\n",
       "    .dataframe tbody tr th {\n",
       "        vertical-align: top;\n",
       "    }\n",
       "\n",
       "    .dataframe thead th {\n",
       "        text-align: right;\n",
       "    }\n",
       "</style>\n",
       "<table border=\"1\" class=\"dataframe\">\n",
       "  <thead>\n",
       "    <tr style=\"text-align: right;\">\n",
       "      <th></th>\n",
       "      <th>accuracy</th>\n",
       "      <th>balanced accuracy</th>\n",
       "      <th>f1</th>\n",
       "      <th>precision</th>\n",
       "      <th>false positive rate</th>\n",
       "      <th>false negative rate</th>\n",
       "      <th>selection rate</th>\n",
       "      <th>count</th>\n",
       "    </tr>\n",
       "    <tr>\n",
       "      <th>majmin</th>\n",
       "      <th></th>\n",
       "      <th></th>\n",
       "      <th></th>\n",
       "      <th></th>\n",
       "      <th></th>\n",
       "      <th></th>\n",
       "      <th></th>\n",
       "      <th></th>\n",
       "    </tr>\n",
       "  </thead>\n",
       "  <tbody>\n",
       "    <tr>\n",
       "      <th>majority</th>\n",
       "      <td>0.230649</td>\n",
       "      <td>0.538993</td>\n",
       "      <td>0.247618</td>\n",
       "      <td>0.142182</td>\n",
       "      <td>0.880110</td>\n",
       "      <td>0.041904</td>\n",
       "      <td>0.890415</td>\n",
       "      <td>69170.0</td>\n",
       "    </tr>\n",
       "    <tr>\n",
       "      <th>minority</th>\n",
       "      <td>0.176485</td>\n",
       "      <td>0.522283</td>\n",
       "      <td>0.213877</td>\n",
       "      <td>0.120163</td>\n",
       "      <td>0.927141</td>\n",
       "      <td>0.028294</td>\n",
       "      <td>0.932278</td>\n",
       "      <td>20540.0</td>\n",
       "    </tr>\n",
       "  </tbody>\n",
       "</table>\n",
       "</div>"
      ],
      "text/plain": [
       "          accuracy  balanced accuracy        f1  precision  \\\n",
       "majmin                                                       \n",
       "majority  0.230649           0.538993  0.247618   0.142182   \n",
       "minority  0.176485           0.522283  0.213877   0.120163   \n",
       "\n",
       "          false positive rate  false negative rate  selection rate    count  \n",
       "majmin                                                                       \n",
       "majority             0.880110             0.041904        0.890415  69170.0  \n",
       "minority             0.927141             0.028294        0.932278  20540.0  "
      ]
     },
     "execution_count": 75,
     "metadata": {},
     "output_type": "execute_result"
    }
   ],
   "source": [
    "metric_frame.by_group"
   ]
  },
  {
   "cell_type": "code",
   "execution_count": 76,
   "id": "a9ddbe63",
   "metadata": {
    "execution": {
     "iopub.execute_input": "2025-07-30T21:45:15.654660Z",
     "iopub.status.busy": "2025-07-30T21:45:15.654085Z",
     "iopub.status.idle": "2025-07-30T21:45:17.945381Z",
     "shell.execute_reply": "2025-07-30T21:45:17.944356Z"
    },
    "papermill": {
     "duration": 2.324401,
     "end_time": "2025-07-30T21:45:17.947082",
     "exception": false,
     "start_time": "2025-07-30T21:45:15.622681",
     "status": "completed"
    },
    "tags": []
   },
   "outputs": [
    {
     "data": {
      "text/plain": [
       "array([[<Axes: title={'center': 'accuracy'}, xlabel='majmin'>,\n",
       "        <Axes: title={'center': 'balanced accuracy'}, xlabel='majmin'>,\n",
       "        <Axes: title={'center': 'f1'}, xlabel='majmin'>],\n",
       "       [<Axes: title={'center': 'precision'}, xlabel='majmin'>,\n",
       "        <Axes: title={'center': 'false positive rate'}, xlabel='majmin'>,\n",
       "        <Axes: title={'center': 'false negative rate'}, xlabel='majmin'>],\n",
       "       [<Axes: title={'center': 'selection rate'}, xlabel='majmin'>,\n",
       "        <Axes: title={'center': 'count'}, xlabel='majmin'>,\n",
       "        <Axes: xlabel='majmin'>]], dtype=object)"
      ]
     },
     "execution_count": 76,
     "metadata": {},
     "output_type": "execute_result"
    },
    {
     "data": {
      "image/png": "[encoded data removed]",
      "text/plain": [
       "<Figure size 1200x800 with 9 Axes>"
      ]
     },
     "metadata": {},
     "output_type": "display_data"
    }
   ],
   "source": [
    "# In a graphic\n",
    "metric_frame.by_group.plot.bar(\n",
    "    subplots=True,\n",
    "    layout=[3, 3],\n",
    "    legend=False,\n",
    "    figsize=[12, 8],\n",
    "    title=\"Show all metrics\",\n",
    ")"
   ]
  },
  {
   "cell_type": "markdown",
   "id": "f57a0bac",
   "metadata": {
    "papermill": {
     "duration": 0.031882,
     "end_time": "2025-07-30T21:45:18.010312",
     "exception": false,
     "start_time": "2025-07-30T21:45:17.978430",
     "status": "completed"
    },
    "tags": []
   },
   "source": [
    "# Final Output"
   ]
  },
  {
   "cell_type": "code",
   "execution_count": 77,
   "id": "96d280a3",
   "metadata": {
    "execution": {
     "iopub.execute_input": "2025-07-30T21:45:18.078259Z",
     "iopub.status.busy": "2025-07-30T21:45:18.077604Z",
     "iopub.status.idle": "2025-07-30T21:45:18.086041Z",
     "shell.execute_reply": "2025-07-30T21:45:18.084929Z"
    },
    "papermill": {
     "duration": 0.042618,
     "end_time": "2025-07-30T21:45:18.087877",
     "exception": false,
     "start_time": "2025-07-30T21:45:18.045259",
     "status": "completed"
    },
    "tags": []
   },
   "outputs": [
    {
     "data": {
      "text/plain": [
       "4"
      ]
     },
     "execution_count": 77,
     "metadata": {},
     "output_type": "execute_result"
    }
   ],
   "source": [
    "sub_universes = universe_analysis.generate_sub_universes()\n",
    "len(sub_universes)"
   ]
  },
  {
   "cell_type": "code",
   "execution_count": 78,
   "id": "92adf7ba",
   "metadata": {
    "execution": {
     "iopub.execute_input": "2025-07-30T21:45:18.150047Z",
     "iopub.status.busy": "2025-07-30T21:45:18.149615Z",
     "iopub.status.idle": "2025-07-30T21:45:18.155457Z",
     "shell.execute_reply": "2025-07-30T21:45:18.154452Z"
    },
    "papermill": {
     "duration": 0.038236,
     "end_time": "2025-07-30T21:45:18.157125",
     "exception": false,
     "start_time": "2025-07-30T21:45:18.118889",
     "status": "completed"
    },
    "tags": []
   },
   "outputs": [],
   "source": [
    "def filter_sub_universe_data(sub_universe, org_test):\n",
    "    # Keep all rows — no filtering\n",
    "    keep_rows_mask = np.ones(org_test.shape[0], dtype=bool)\n",
    "\n",
    "    print(f\"[INFO] Keeping all rows: {keep_rows_mask.sum()} rows retained.\")\n",
    "    return keep_rows_mask"
   ]
  },
  {
   "cell_type": "code",
   "execution_count": 79,
   "id": "4a759155",
   "metadata": {
    "execution": {
     "iopub.execute_input": "2025-07-30T21:45:18.219007Z",
     "iopub.status.busy": "2025-07-30T21:45:18.218344Z",
     "iopub.status.idle": "2025-07-30T21:45:27.221245Z",
     "shell.execute_reply": "2025-07-30T21:45:27.220434Z"
    },
    "papermill": {
     "duration": 9.034512,
     "end_time": "2025-07-30T21:45:27.222596",
     "exception": false,
     "start_time": "2025-07-30T21:45:18.188084",
     "status": "completed"
    },
    "tags": []
   },
   "outputs": [
    {
     "name": "stdout",
     "output_type": "stream",
     "text": [
      "Stopping execution_time clock.\n",
      "[INFO] Keeping all rows: 89710 rows retained.\n"
     ]
    },
    {
     "name": "stdout",
     "output_type": "stream",
     "text": [
      "[INFO] Keeping all rows: 89710 rows retained.\n"
     ]
    },
    {
     "name": "stdout",
     "output_type": "stream",
     "text": [
      "[INFO] Keeping all rows: 89710 rows retained.\n"
     ]
    },
    {
     "name": "stdout",
     "output_type": "stream",
     "text": [
      "[INFO] Keeping all rows: 89710 rows retained.\n"
     ]
    },
    {
     "data": {
      "text/html": [
       "<div>\n",
       "<style scoped>\n",
       "    .dataframe tbody tr th:only-of-type {\n",
       "        vertical-align: middle;\n",
       "    }\n",
       "\n",
       "    .dataframe tbody tr th {\n",
       "        vertical-align: top;\n",
       "    }\n",
       "\n",
       "    .dataframe thead th {\n",
       "        text-align: right;\n",
       "    }\n",
       "</style>\n",
       "<table border=\"1\" class=\"dataframe\">\n",
       "  <thead>\n",
       "    <tr style=\"text-align: right;\">\n",
       "      <th></th>\n",
       "      <th>run_no</th>\n",
       "      <th>universe_id</th>\n",
       "      <th>universe_settings</th>\n",
       "      <th>execution_time</th>\n",
       "      <th>test_size_n</th>\n",
       "      <th>test_size_frac</th>\n",
       "      <th>fair_main_equalized_odds_difference</th>\n",
       "      <th>fair_main_equalized_odds_ratio</th>\n",
       "      <th>fair_main_demographic_parity_difference</th>\n",
       "      <th>fair_main_demographic_parity_ratio</th>\n",
       "      <th>...</th>\n",
       "      <th>perf_grp_precision_0</th>\n",
       "      <th>perf_grp_precision_1</th>\n",
       "      <th>perf_grp_false positive rate_0</th>\n",
       "      <th>perf_grp_false positive rate_1</th>\n",
       "      <th>perf_grp_false negative rate_0</th>\n",
       "      <th>perf_grp_false negative rate_1</th>\n",
       "      <th>perf_grp_selection rate_0</th>\n",
       "      <th>perf_grp_selection rate_1</th>\n",
       "      <th>perf_grp_count_0</th>\n",
       "      <th>perf_grp_count_1</th>\n",
       "    </tr>\n",
       "  </thead>\n",
       "  <tbody>\n",
       "    <tr>\n",
       "      <th>0</th>\n",
       "      <td>14</td>\n",
       "      <td>2e00861bf82aee3171e83bde712878ac</td>\n",
       "      <td>{\"cutoff\": \"quantile_0.1\", \"eval_fairness_grou...</td>\n",
       "      <td>27.803818</td>\n",
       "      <td>89710</td>\n",
       "      <td>1.0</td>\n",
       "      <td>0.047031</td>\n",
       "      <td>0.949273</td>\n",
       "      <td>0.041864</td>\n",
       "      <td>0.955095</td>\n",
       "      <td>...</td>\n",
       "      <td>NaN</td>\n",
       "      <td>NaN</td>\n",
       "      <td>NaN</td>\n",
       "      <td>NaN</td>\n",
       "      <td>NaN</td>\n",
       "      <td>NaN</td>\n",
       "      <td>NaN</td>\n",
       "      <td>NaN</td>\n",
       "      <td>NaN</td>\n",
       "      <td>NaN</td>\n",
       "    </tr>\n",
       "    <tr>\n",
       "      <th>0</th>\n",
       "      <td>14</td>\n",
       "      <td>2e00861bf82aee3171e83bde712878ac</td>\n",
       "      <td>{\"cutoff\": \"quantile_0.1\", \"eval_fairness_grou...</td>\n",
       "      <td>27.803818</td>\n",
       "      <td>89710</td>\n",
       "      <td>1.0</td>\n",
       "      <td>0.047031</td>\n",
       "      <td>0.949273</td>\n",
       "      <td>0.041864</td>\n",
       "      <td>0.955095</td>\n",
       "      <td>...</td>\n",
       "      <td>0.120163</td>\n",
       "      <td>0.142182</td>\n",
       "      <td>0.927141</td>\n",
       "      <td>0.88011</td>\n",
       "      <td>0.028294</td>\n",
       "      <td>0.041904</td>\n",
       "      <td>0.932278</td>\n",
       "      <td>0.890415</td>\n",
       "      <td>20540.0</td>\n",
       "      <td>69170.0</td>\n",
       "    </tr>\n",
       "    <tr>\n",
       "      <th>0</th>\n",
       "      <td>14</td>\n",
       "      <td>2e00861bf82aee3171e83bde712878ac</td>\n",
       "      <td>{\"cutoff\": \"quantile_0.25\", \"eval_fairness_gro...</td>\n",
       "      <td>27.803818</td>\n",
       "      <td>89710</td>\n",
       "      <td>1.0</td>\n",
       "      <td>0.101154</td>\n",
       "      <td>0.887730</td>\n",
       "      <td>0.052969</td>\n",
       "      <td>0.930497</td>\n",
       "      <td>...</td>\n",
       "      <td>NaN</td>\n",
       "      <td>NaN</td>\n",
       "      <td>NaN</td>\n",
       "      <td>NaN</td>\n",
       "      <td>NaN</td>\n",
       "      <td>NaN</td>\n",
       "      <td>NaN</td>\n",
       "      <td>NaN</td>\n",
       "      <td>NaN</td>\n",
       "      <td>NaN</td>\n",
       "    </tr>\n",
       "    <tr>\n",
       "      <th>0</th>\n",
       "      <td>14</td>\n",
       "      <td>2e00861bf82aee3171e83bde712878ac</td>\n",
       "      <td>{\"cutoff\": \"quantile_0.25\", \"eval_fairness_gro...</td>\n",
       "      <td>27.803818</td>\n",
       "      <td>89710</td>\n",
       "      <td>1.0</td>\n",
       "      <td>0.101154</td>\n",
       "      <td>0.887730</td>\n",
       "      <td>0.052969</td>\n",
       "      <td>0.930497</td>\n",
       "      <td>...</td>\n",
       "      <td>0.130029</td>\n",
       "      <td>0.156214</td>\n",
       "      <td>0.697337</td>\n",
       "      <td>0.74098</td>\n",
       "      <td>0.200169</td>\n",
       "      <td>0.099015</td>\n",
       "      <td>0.709153</td>\n",
       "      <td>0.762122</td>\n",
       "      <td>20540.0</td>\n",
       "      <td>69170.0</td>\n",
       "    </tr>\n",
       "  </tbody>\n",
       "</table>\n",
       "<p>4 rows × 50 columns</p>\n",
       "</div>"
      ],
      "text/plain": [
       "  run_no                       universe_id  \\\n",
       "0     14  2e00861bf82aee3171e83bde712878ac   \n",
       "0     14  2e00861bf82aee3171e83bde712878ac   \n",
       "0     14  2e00861bf82aee3171e83bde712878ac   \n",
       "0     14  2e00861bf82aee3171e83bde712878ac   \n",
       "\n",
       "                                   universe_settings  execution_time  \\\n",
       "0  {\"cutoff\": \"quantile_0.1\", \"eval_fairness_grou...       27.803818   \n",
       "0  {\"cutoff\": \"quantile_0.1\", \"eval_fairness_grou...       27.803818   \n",
       "0  {\"cutoff\": \"quantile_0.25\", \"eval_fairness_gro...       27.803818   \n",
       "0  {\"cutoff\": \"quantile_0.25\", \"eval_fairness_gro...       27.803818   \n",
       "\n",
       "   test_size_n  test_size_frac  fair_main_equalized_odds_difference  \\\n",
       "0        89710             1.0                             0.047031   \n",
       "0        89710             1.0                             0.047031   \n",
       "0        89710             1.0                             0.101154   \n",
       "0        89710             1.0                             0.101154   \n",
       "\n",
       "   fair_main_equalized_odds_ratio  fair_main_demographic_parity_difference  \\\n",
       "0                        0.949273                                 0.041864   \n",
       "0                        0.949273                                 0.041864   \n",
       "0                        0.887730                                 0.052969   \n",
       "0                        0.887730                                 0.052969   \n",
       "\n",
       "   fair_main_demographic_parity_ratio  ...  perf_grp_precision_0  \\\n",
       "0                            0.955095  ...                   NaN   \n",
       "0                            0.955095  ...              0.120163   \n",
       "0                            0.930497  ...                   NaN   \n",
       "0                            0.930497  ...              0.130029   \n",
       "\n",
       "   perf_grp_precision_1  perf_grp_false positive rate_0  \\\n",
       "0                   NaN                             NaN   \n",
       "0              0.142182                        0.927141   \n",
       "0                   NaN                             NaN   \n",
       "0              0.156214                        0.697337   \n",
       "\n",
       "   perf_grp_false positive rate_1  perf_grp_false negative rate_0  \\\n",
       "0                             NaN                             NaN   \n",
       "0                         0.88011                        0.028294   \n",
       "0                             NaN                             NaN   \n",
       "0                         0.74098                        0.200169   \n",
       "\n",
       "   perf_grp_false negative rate_1  perf_grp_selection rate_0  \\\n",
       "0                             NaN                        NaN   \n",
       "0                        0.041904                   0.932278   \n",
       "0                             NaN                        NaN   \n",
       "0                        0.099015                   0.709153   \n",
       "\n",
       "   perf_grp_selection rate_1  perf_grp_count_0  perf_grp_count_1  \n",
       "0                        NaN               NaN               NaN  \n",
       "0                   0.890415           20540.0           69170.0  \n",
       "0                        NaN               NaN               NaN  \n",
       "0                   0.762122           20540.0           69170.0  \n",
       "\n",
       "[4 rows x 50 columns]"
      ]
     },
     "execution_count": 79,
     "metadata": {},
     "output_type": "execute_result"
    }
   ],
   "source": [
    "final_output = universe_analysis.generate_final_output(\n",
    "    y_pred_prob=probs_test,\n",
    "    y_test=y_true,\n",
    "    org_test=org_test,\n",
    "    filter_data=filter_sub_universe_data,\n",
    "    cp_metrics_df=cp_metrics_df,\n",
    "    save=True,\n",
    ")\n",
    "final_output"
   ]
  },
  {
   "cell_type": "code",
   "execution_count": null,
   "id": "721ff514-cb11-46f8-b6fc-50392f74b5cb",
   "metadata": {
    "papermill": {
     "duration": 0.016259,
     "end_time": "2025-07-30T21:45:27.258070",
     "exception": false,
     "start_time": "2025-07-30T21:45:27.241811",
     "status": "completed"
    },
    "tags": []
   },
   "outputs": [],
   "source": []
  }
 ],
 "metadata": {
  "celltoolbar": "Tags",
  "kernelspec": {
   "display_name": "Python (CMA Fairness)",
   "language": "python",
   "name": "cma_fair_env"
  },
  "language_info": {
   "codemirror_mode": {
    "name": "ipython",
    "version": 3
   },
   "file_extension": ".py",
   "mimetype": "text/x-python",
   "name": "python",
   "nbconvert_exporter": "python",
   "pygments_lexer": "ipython3",
   "version": "3.10.12"
  },
  "papermill": {
   "default_parameters": {},
   "duration": 41.093771,
   "end_time": "2025-07-30T21:45:28.003717",
   "environment_variables": {},
   "exception": null,
   "input_path": "universe_analysis.ipynb",
   "output_path": "output/runs/14/notebooks/m_14-2e00861bf82aee3171e83bde712878ac.ipynb",
   "parameters": {
    "output_dir": "output",
    "run_no": "14",
    "seed": "2023",
    "universe": "{\"cutoff\": [\"quantile_0.1\", \"quantile_0.25\"], \"eval_fairness_grouping\": [\"majority-minority\", \"nationality-all\"], \"exclude_features\": \"nationality\", \"exclude_subgroups\": \"keep-all\", \"model\": \"penalized_logreg\", \"scale\": \"scale\", \"training_size\": \"1k\", \"training_year\": \"2010_14\"}",
    "universe_id": "2e00861bf82aee3171e83bde712878ac"
   },
   "start_time": "2025-07-30T21:44:46.909946",
   "version": "2.6.0"
  }
 },
 "nbformat": 4,
 "nbformat_minor": 5
}