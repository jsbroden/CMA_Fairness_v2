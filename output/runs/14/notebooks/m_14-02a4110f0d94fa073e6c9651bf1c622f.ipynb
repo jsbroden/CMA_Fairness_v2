{
 "cells": [
  {
   "cell_type": "code",
   "execution_count": 1,
   "id": "f159f837-637b-42ba-96b5-ec9a68c44524",
   "metadata": {
    "execution": {
     "iopub.execute_input": "2025-07-30T20:52:20.686280Z",
     "iopub.status.busy": "2025-07-30T20:52:20.685417Z",
     "iopub.status.idle": "2025-07-30T20:52:20.698378Z",
     "shell.execute_reply": "2025-07-30T20:52:20.697438Z"
    },
    "papermill": {
     "duration": 0.038619,
     "end_time": "2025-07-30T20:52:20.699996",
     "exception": false,
     "start_time": "2025-07-30T20:52:20.661377",
     "status": "completed"
    },
    "tags": []
   },
   "outputs": [
    {
     "name": "stdout",
     "output_type": "stream",
     "text": [
      "/dss/dsshome1/0C/ra93lal2/cma/CMA_Fairness_v2\n"
     ]
    },
    {
     "name": "stderr",
     "output_type": "stream",
     "text": [
      "/dss/dsshome1/0C/ra93lal2/.local/share/virtualenvs/CMA_Fairness_v2-3j10GkSs/lib/python3.10/site-packages/IPython/core/magics/osm.py:393: UserWarning: This is now an optional IPython functionality, using bookmarks requires you to install the `pickleshare` library.\n",
      "  bkms = self.shell.db.get('bookmarks', {})\n",
      "/dss/dsshome1/0C/ra93lal2/.local/share/virtualenvs/CMA_Fairness_v2-3j10GkSs/lib/python3.10/site-packages/IPython/core/magics/osm.py:417: UserWarning: This is now an optional IPython functionality, setting dhist requires you to install the `pickleshare` library.\n",
      "  self.shell.db['dhist'] = compress_dhist(dhist)[-100:]\n"
     ]
    }
   ],
   "source": [
    "%cd ~/cma/CMA_Fairness_v2"
   ]
  },
  {
   "cell_type": "markdown",
   "id": "de2603b9",
   "metadata": {
    "papermill": {
     "duration": 0.019047,
     "end_time": "2025-07-30T20:52:20.738062",
     "exception": false,
     "start_time": "2025-07-30T20:52:20.719015",
     "status": "completed"
    },
    "tags": []
   },
   "source": [
    "The following cell holds the definition of our parameters, these values can be overriden by rendering the with e.g. the following command:\n",
    "\n",
    "papermill -p alpha 0.2 -p ratio 0.3 universe_analysis.ipynb output/test_run.ipynb"
   ]
  },
  {
   "cell_type": "code",
   "execution_count": 2,
   "id": "a80968a0-40bb-4fa9-85ef-2d5eefb01975",
   "metadata": {
    "execution": {
     "iopub.execute_input": "2025-07-30T20:52:20.778313Z",
     "iopub.status.busy": "2025-07-30T20:52:20.777437Z",
     "iopub.status.idle": "2025-07-30T20:52:20.783331Z",
     "shell.execute_reply": "2025-07-30T20:52:20.782368Z"
    },
    "papermill": {
     "duration": 0.027727,
     "end_time": "2025-07-30T20:52:20.785102",
     "exception": false,
     "start_time": "2025-07-30T20:52:20.757375",
     "status": "completed"
    },
    "tags": []
   },
   "outputs": [
    {
     "name": "stdout",
     "output_type": "stream",
     "text": [
      "Current working directory: /dss/dsshome1/0C/ra93lal2/cma/CMA_Fairness_v2\n"
     ]
    }
   ],
   "source": [
    "import os\n",
    "print(\"Current working directory:\", os.getcwd())"
   ]
  },
  {
   "cell_type": "code",
   "execution_count": 3,
   "id": "2dce4c03",
   "metadata": {
    "execution": {
     "iopub.execute_input": "2025-07-30T20:52:20.827165Z",
     "iopub.status.busy": "2025-07-30T20:52:20.826255Z",
     "iopub.status.idle": "2025-07-30T20:52:20.833059Z",
     "shell.execute_reply": "2025-07-30T20:52:20.832198Z"
    },
    "papermill": {
     "duration": 0.028857,
     "end_time": "2025-07-30T20:52:20.834845",
     "exception": false,
     "start_time": "2025-07-30T20:52:20.805988",
     "status": "completed"
    },
    "tags": [
     "parameters"
    ]
   },
   "outputs": [],
   "source": [
    "run_no = 0\n",
    "universe_id = \"test\"\n",
    "universe = {\n",
    "    \"training_size\": \"25k\", # \"25k\", \"5k\", \"1k\"\n",
    "    \"training_year\": \"2014\", # \"2014\", \"2012_14\", \"2010_14\"\n",
    "    \"scale\": \"scale\", # \"scale\", \"do-not-scale\",\n",
    "    #\"stratify_split\": \"target\", # \"none\", \"target\", \"protected-attribute\", \"both\",\n",
    "    \"model\": \"elasticnet\", # \"logreg\", \"penalized_logreg\", \"rf\", \"gbm\", \"elasticnet\"\n",
    "    \"cutoff\": [\"quantile_0.15\", \"quantile_0.30\"],\n",
    "    \"exclude_features\": \"age\", # \"none\", \"nationality\", \"sex\", \"nationality-sex\", \"age\"\n",
    "    \"exclude_subgroups\": \"keep-all\", # \"keep-all\", \"drop-non-german\"\n",
    "    \"eval_fairness_grouping\": [\"majority-minority\", \"nationality-all\"]\n",
    "}\n",
    "\n",
    "output_dir=\"./output\"\n",
    "seed=0"
   ]
  },
  {
   "cell_type": "code",
   "execution_count": 4,
   "id": "f6d120e4",
   "metadata": {
    "execution": {
     "iopub.execute_input": "2025-07-30T20:52:20.879040Z",
     "iopub.status.busy": "2025-07-30T20:52:20.878352Z",
     "iopub.status.idle": "2025-07-30T20:52:20.884008Z",
     "shell.execute_reply": "2025-07-30T20:52:20.882944Z"
    },
    "papermill": {
     "duration": 0.029068,
     "end_time": "2025-07-30T20:52:20.885619",
     "exception": false,
     "start_time": "2025-07-30T20:52:20.856551",
     "status": "completed"
    },
    "tags": [
     "injected-parameters"
    ]
   },
   "outputs": [],
   "source": [
    "# Parameters\n",
    "universe_id = \"02a4110f0d94fa073e6c9651bf1c622f\"\n",
    "run_no = \"14\"\n",
    "universe = \"{\\\"cutoff\\\": [\\\"quantile_0.1\\\", \\\"quantile_0.25\\\"], \\\"eval_fairness_grouping\\\": [\\\"majority-minority\\\", \\\"nationality-all\\\"], \\\"exclude_features\\\": \\\"nationality\\\", \\\"exclude_subgroups\\\": \\\"drop-non-german\\\", \\\"model\\\": \\\"rf\\\", \\\"scale\\\": \\\"do-not-scale\\\", \\\"training_size\\\": \\\"5k\\\", \\\"training_year\\\": \\\"2014\\\"}\"\n",
    "output_dir = \"output\"\n",
    "seed = \"2023\"\n"
   ]
  },
  {
   "cell_type": "code",
   "execution_count": 5,
   "id": "1650acaf",
   "metadata": {
    "execution": {
     "iopub.execute_input": "2025-07-30T20:52:20.929552Z",
     "iopub.status.busy": "2025-07-30T20:52:20.928910Z",
     "iopub.status.idle": "2025-07-30T20:52:20.934060Z",
     "shell.execute_reply": "2025-07-30T20:52:20.933086Z"
    },
    "papermill": {
     "duration": 0.029025,
     "end_time": "2025-07-30T20:52:20.935720",
     "exception": false,
     "start_time": "2025-07-30T20:52:20.906695",
     "status": "completed"
    },
    "tags": []
   },
   "outputs": [],
   "source": [
    "import json\n",
    "# Parse universe into dict if it is passed as a string\n",
    "if isinstance(universe, str):\n",
    "    universe = json.loads(universe)"
   ]
  },
  {
   "cell_type": "code",
   "execution_count": 6,
   "id": "16620c48",
   "metadata": {
    "execution": {
     "iopub.execute_input": "2025-07-30T20:52:20.978673Z",
     "iopub.status.busy": "2025-07-30T20:52:20.977971Z",
     "iopub.status.idle": "2025-07-30T20:52:21.024089Z",
     "shell.execute_reply": "2025-07-30T20:52:21.023131Z"
    },
    "papermill": {
     "duration": 0.069208,
     "end_time": "2025-07-30T20:52:21.026085",
     "exception": false,
     "start_time": "2025-07-30T20:52:20.956877",
     "status": "completed"
    },
    "tags": []
   },
   "outputs": [],
   "source": [
    "# Auto-reload the custom package\n",
    "%load_ext autoreload\n",
    "%autoreload 1\n",
    "%aimport fairness_multiverse"
   ]
  },
  {
   "cell_type": "code",
   "execution_count": 7,
   "id": "01c5c9f3",
   "metadata": {
    "execution": {
     "iopub.execute_input": "2025-07-30T20:52:21.070472Z",
     "iopub.status.busy": "2025-07-30T20:52:21.069789Z",
     "iopub.status.idle": "2025-07-30T20:52:23.083115Z",
     "shell.execute_reply": "2025-07-30T20:52:23.082097Z"
    },
    "papermill": {
     "duration": 2.038295,
     "end_time": "2025-07-30T20:52:23.085229",
     "exception": false,
     "start_time": "2025-07-30T20:52:21.046934",
     "status": "completed"
    },
    "tags": []
   },
   "outputs": [],
   "source": [
    "from fairness_multiverse.universe import UniverseAnalysis\n",
    "\n",
    "universe_analysis = UniverseAnalysis(\n",
    "    run_no = run_no,\n",
    "    universe_id = universe_id,\n",
    "    universe = universe,\n",
    "    output_dir=output_dir,\n",
    ")"
   ]
  },
  {
   "cell_type": "code",
   "execution_count": 8,
   "id": "106241f5",
   "metadata": {
    "execution": {
     "iopub.execute_input": "2025-07-30T20:52:23.130541Z",
     "iopub.status.busy": "2025-07-30T20:52:23.129729Z",
     "iopub.status.idle": "2025-07-30T20:52:23.136707Z",
     "shell.execute_reply": "2025-07-30T20:52:23.135830Z"
    },
    "papermill": {
     "duration": 0.030203,
     "end_time": "2025-07-30T20:52:23.138420",
     "exception": false,
     "start_time": "2025-07-30T20:52:23.108217",
     "status": "completed"
    },
    "tags": []
   },
   "outputs": [
    {
     "name": "stdout",
     "output_type": "stream",
     "text": [
      "Using Seed: 2023\n"
     ]
    }
   ],
   "source": [
    "import numpy as np\n",
    "parsed_seed = int(seed)\n",
    "np.random.seed(parsed_seed)\n",
    "print(f\"Using Seed: {parsed_seed}\")"
   ]
  },
  {
   "cell_type": "markdown",
   "id": "e0ebdc57",
   "metadata": {
    "papermill": {
     "duration": 0.020121,
     "end_time": "2025-07-30T20:52:23.179498",
     "exception": false,
     "start_time": "2025-07-30T20:52:23.159377",
     "status": "completed"
    },
    "tags": []
   },
   "source": [
    "# Loading Data"
   ]
  },
  {
   "cell_type": "markdown",
   "id": "681925a3",
   "metadata": {
    "papermill": {
     "duration": 0.019376,
     "end_time": "2025-07-30T20:52:23.218998",
     "exception": false,
     "start_time": "2025-07-30T20:52:23.199622",
     "status": "completed"
    },
    "tags": []
   },
   "source": [
    "Load siab_train, siab_test, siab_calib and/or \n",
    "load siab_train_features, siab_train_labels"
   ]
  },
  {
   "cell_type": "code",
   "execution_count": 9,
   "id": "f0496b8a",
   "metadata": {
    "execution": {
     "iopub.execute_input": "2025-07-30T20:52:23.261738Z",
     "iopub.status.busy": "2025-07-30T20:52:23.260839Z",
     "iopub.status.idle": "2025-07-30T20:52:35.327059Z",
     "shell.execute_reply": "2025-07-30T20:52:35.324127Z"
    },
    "papermill": {
     "duration": 12.102414,
     "end_time": "2025-07-30T20:52:35.341849",
     "exception": false,
     "start_time": "2025-07-30T20:52:23.239435",
     "status": "completed"
    },
    "tags": []
   },
   "outputs": [
    {
     "name": "stdout",
     "output_type": "stream",
     "text": [
      "Loading SIAB data from cache: data/siab_cached.csv.gz\n"
     ]
    },
    {
     "name": "stdout",
     "output_type": "stream",
     "text": [
      "(643690, 164)\n"
     ]
    }
   ],
   "source": [
    "from pathlib import Path\n",
    "import pandas as pd\n",
    "\n",
    "# File paths\n",
    "raw_file = Path(\"data/raw/siab.csv\")\n",
    "cache_file = Path(\"data/siab_cached.csv.gz\")\n",
    "\n",
    "# Ensure cache directory exists\n",
    "cache_file.parent.mkdir(parents=True, exist_ok=True)\n",
    "\n",
    "# Load with simple caching\n",
    "if cache_file.exists():\n",
    "    print(f\"Loading SIAB data from cache: {cache_file}\")\n",
    "    siab = pd.read_csv(cache_file, compression='gzip')\n",
    "else:\n",
    "    print(f\"Cache not found. Reading raw SIAB data: {raw_file}\")\n",
    "    siab = pd.read_csv(raw_file)\n",
    "    siab.to_csv(cache_file, index=False, compression='gzip')\n",
    "    print(f\"Cached SIAB data to: {cache_file}\")\n",
    "\n",
    "# Now use `siab` DataFrame as needed\n",
    "print(siab.shape)"
   ]
  },
  {
   "cell_type": "code",
   "execution_count": 10,
   "id": "db0ca512-5f53-4dba-abdb-a2888bca41ba",
   "metadata": {
    "execution": {
     "iopub.execute_input": "2025-07-30T20:52:35.383145Z",
     "iopub.status.busy": "2025-07-30T20:52:35.382743Z",
     "iopub.status.idle": "2025-07-30T20:52:35.387925Z",
     "shell.execute_reply": "2025-07-30T20:52:35.386797Z"
    },
    "papermill": {
     "duration": 0.033911,
     "end_time": "2025-07-30T20:52:35.393593",
     "exception": false,
     "start_time": "2025-07-30T20:52:35.359682",
     "status": "completed"
    },
    "tags": []
   },
   "outputs": [],
   "source": [
    "#siab"
   ]
  },
  {
   "cell_type": "code",
   "execution_count": 11,
   "id": "a0edb063",
   "metadata": {
    "execution": {
     "iopub.execute_input": "2025-07-30T20:52:35.442323Z",
     "iopub.status.busy": "2025-07-30T20:52:35.441712Z",
     "iopub.status.idle": "2025-07-30T20:52:35.447278Z",
     "shell.execute_reply": "2025-07-30T20:52:35.446140Z"
    },
    "papermill": {
     "duration": 0.035772,
     "end_time": "2025-07-30T20:52:35.450285",
     "exception": false,
     "start_time": "2025-07-30T20:52:35.414513",
     "status": "completed"
    },
    "tags": []
   },
   "outputs": [],
   "source": [
    "#import pandas as pd\n",
    "#\n",
    "#X_train = pd.read_csv(\"./data/X_train.csv\")\n",
    "#y_train = pd.read_csv(\"./data/y_train.csv\")"
   ]
  },
  {
   "cell_type": "code",
   "execution_count": 12,
   "id": "63d08085",
   "metadata": {
    "execution": {
     "iopub.execute_input": "2025-07-30T20:52:35.501914Z",
     "iopub.status.busy": "2025-07-30T20:52:35.500848Z",
     "iopub.status.idle": "2025-07-30T20:52:35.507869Z",
     "shell.execute_reply": "2025-07-30T20:52:35.506786Z"
    },
    "papermill": {
     "duration": 0.033197,
     "end_time": "2025-07-30T20:52:35.511165",
     "exception": false,
     "start_time": "2025-07-30T20:52:35.477968",
     "status": "completed"
    },
    "tags": []
   },
   "outputs": [],
   "source": [
    "#X_test = pd.read_csv(\"./data/X_test.csv\")\n",
    "#y_true = pd.read_csv(\"./data/y_test.csv\")"
   ]
  },
  {
   "cell_type": "code",
   "execution_count": 13,
   "id": "98a8d0fa-1d3d-4ed8-bb2c-281470e24add",
   "metadata": {
    "execution": {
     "iopub.execute_input": "2025-07-30T20:52:35.553306Z",
     "iopub.status.busy": "2025-07-30T20:52:35.552874Z",
     "iopub.status.idle": "2025-07-30T20:52:35.558257Z",
     "shell.execute_reply": "2025-07-30T20:52:35.557191Z"
    },
    "papermill": {
     "duration": 0.028259,
     "end_time": "2025-07-30T20:52:35.560670",
     "exception": false,
     "start_time": "2025-07-30T20:52:35.532411",
     "status": "completed"
    },
    "tags": []
   },
   "outputs": [],
   "source": [
    "# Calibration data for conformal\n",
    "#X_calib = pd.read_csv(\"./data/X_calib.csv\")\n",
    "#y_calib = pd.read_csv(\"./data/y_calib.csv\")"
   ]
  },
  {
   "cell_type": "markdown",
   "id": "997051c5-15bd-4b69-9786-c3001a3ce484",
   "metadata": {
    "papermill": {
     "duration": 0.022165,
     "end_time": "2025-07-30T20:52:35.626068",
     "exception": false,
     "start_time": "2025-07-30T20:52:35.603903",
     "status": "completed"
    },
    "tags": []
   },
   "source": [
    "# Splitting Data and Setting Training Data Size"
   ]
  },
  {
   "cell_type": "code",
   "execution_count": 14,
   "id": "e993b61f-042d-41a6-8c81-f55681f86335",
   "metadata": {
    "execution": {
     "iopub.execute_input": "2025-07-30T20:52:35.669995Z",
     "iopub.status.busy": "2025-07-30T20:52:35.669616Z",
     "iopub.status.idle": "2025-07-30T20:52:35.682749Z",
     "shell.execute_reply": "2025-07-30T20:52:35.681650Z"
    },
    "papermill": {
     "duration": 0.038024,
     "end_time": "2025-07-30T20:52:35.685109",
     "exception": false,
     "start_time": "2025-07-30T20:52:35.647085",
     "status": "completed"
    },
    "tags": []
   },
   "outputs": [],
   "source": [
    "def sample_by_year_size(df,\n",
    "                        training_year: str,\n",
    "                        training_size: str,\n",
    "                        random_state: int = 42):\n",
    "    # --- parse training_year into a list of int years ---\n",
    "    if \"_\" in training_year:\n",
    "        start_str, end_str = training_year.split(\"_\", 1)\n",
    "        start = int(start_str)\n",
    "        end   = int(end_str) if len(end_str) == 4 else (int(end_str) + (start // 100)*100)\n",
    "        years = list(range(start, end + 1))\n",
    "    else:\n",
    "        years = [int(training_year)]\n",
    "\n",
    "    df = df[df[\"year\"].isin(years)].reset_index(drop=True)\n",
    "\n",
    "    # --- map training_size to total number of samples ---\n",
    "    total_map = {\"25k\": 25_000, \"5k\": 5_000, \"1k\": 1_000}\n",
    "    if training_size not in total_map:\n",
    "        return df  # e.g. \"all\"\n",
    "\n",
    "    total_samples = total_map[training_size]\n",
    "    n_years       = len(years)\n",
    "    base          = total_samples // n_years\n",
    "    remainder     = total_samples % n_years\n",
    "\n",
    "    # --- build a dict: year -> how many to sample ---\n",
    "    # give +1 to the first `remainder` years in ascending order\n",
    "    quotas = {\n",
    "        year: base + (1 if idx < remainder else 0)\n",
    "        for idx, year in enumerate(sorted(years))\n",
    "    }\n",
    "\n",
    "    # --- sample per‐year according to the quota dict ---\n",
    "    sampled = (\n",
    "        df\n",
    "        .groupby(\"year\", group_keys=False)\n",
    "        .apply(lambda grp: grp.sample(\n",
    "            n=min(len(grp), quotas[grp.name]),\n",
    "            random_state=random_state))\n",
    "        .reset_index(drop=True)\n",
    "    )\n",
    "\n",
    "    return sampled"
   ]
  },
  {
   "cell_type": "code",
   "execution_count": 15,
   "id": "c0ccd338-0e02-41f3-a09d-f56f9266e3fb",
   "metadata": {
    "execution": {
     "iopub.execute_input": "2025-07-30T20:52:35.727253Z",
     "iopub.status.busy": "2025-07-30T20:52:35.726838Z",
     "iopub.status.idle": "2025-07-30T20:52:35.732238Z",
     "shell.execute_reply": "2025-07-30T20:52:35.731148Z"
    },
    "papermill": {
     "duration": 0.027155,
     "end_time": "2025-07-30T20:52:35.734209",
     "exception": false,
     "start_time": "2025-07-30T20:52:35.707054",
     "status": "completed"
    },
    "tags": []
   },
   "outputs": [],
   "source": [
    "#universe[\"training_size\"]"
   ]
  },
  {
   "cell_type": "code",
   "execution_count": 16,
   "id": "ca707fd7-8047-4acd-bfa5-66248fbbf8e6",
   "metadata": {
    "execution": {
     "iopub.execute_input": "2025-07-30T20:52:35.776840Z",
     "iopub.status.busy": "2025-07-30T20:52:35.776471Z",
     "iopub.status.idle": "2025-07-30T20:52:35.780995Z",
     "shell.execute_reply": "2025-07-30T20:52:35.780111Z"
    },
    "papermill": {
     "duration": 0.0309,
     "end_time": "2025-07-30T20:52:35.784715",
     "exception": false,
     "start_time": "2025-07-30T20:52:35.753815",
     "status": "completed"
    },
    "tags": []
   },
   "outputs": [],
   "source": [
    "#universe[\"training_year\"]"
   ]
  },
  {
   "cell_type": "code",
   "execution_count": 17,
   "id": "aea9c6ef-6f46-42c8-85eb-5a62025c1508",
   "metadata": {
    "execution": {
     "iopub.execute_input": "2025-07-30T20:52:35.830521Z",
     "iopub.status.busy": "2025-07-30T20:52:35.830137Z",
     "iopub.status.idle": "2025-07-30T20:52:36.098889Z",
     "shell.execute_reply": "2025-07-30T20:52:36.097747Z"
    },
    "papermill": {
     "duration": 0.293992,
     "end_time": "2025-07-30T20:52:36.100975",
     "exception": false,
     "start_time": "2025-07-30T20:52:35.806983",
     "status": "completed"
    },
    "tags": []
   },
   "outputs": [],
   "source": [
    "siab_train = sample_by_year_size(siab,\n",
    "                               training_year=universe[\"training_year\"],\n",
    "                               training_size=universe[\"training_size\"])"
   ]
  },
  {
   "cell_type": "code",
   "execution_count": 18,
   "id": "8d3afb32-789d-442c-8d5d-9f5aa8dd2eed",
   "metadata": {
    "execution": {
     "iopub.execute_input": "2025-07-30T20:52:36.155401Z",
     "iopub.status.busy": "2025-07-30T20:52:36.154945Z",
     "iopub.status.idle": "2025-07-30T20:52:36.160347Z",
     "shell.execute_reply": "2025-07-30T20:52:36.159258Z"
    },
    "papermill": {
     "duration": 0.031648,
     "end_time": "2025-07-30T20:52:36.162096",
     "exception": false,
     "start_time": "2025-07-30T20:52:36.130448",
     "status": "completed"
    },
    "tags": []
   },
   "outputs": [],
   "source": [
    "#siab_train.shape"
   ]
  },
  {
   "cell_type": "code",
   "execution_count": 19,
   "id": "d582db68-1a4c-47fb-84fc-08518dc1975a",
   "metadata": {
    "execution": {
     "iopub.execute_input": "2025-07-30T20:52:36.201167Z",
     "iopub.status.busy": "2025-07-30T20:52:36.200897Z",
     "iopub.status.idle": "2025-07-30T20:52:36.205009Z",
     "shell.execute_reply": "2025-07-30T20:52:36.204127Z"
    },
    "papermill": {
     "duration": 0.029225,
     "end_time": "2025-07-30T20:52:36.206416",
     "exception": false,
     "start_time": "2025-07-30T20:52:36.177191",
     "status": "completed"
    },
    "tags": []
   },
   "outputs": [],
   "source": [
    "#display(siab_train.groupby(\"year\").size())"
   ]
  },
  {
   "cell_type": "code",
   "execution_count": 20,
   "id": "a561edb4-d032-42cb-8256-22eac1111c64",
   "metadata": {
    "execution": {
     "iopub.execute_input": "2025-07-30T20:52:36.249202Z",
     "iopub.status.busy": "2025-07-30T20:52:36.248518Z",
     "iopub.status.idle": "2025-07-30T20:52:36.512571Z",
     "shell.execute_reply": "2025-07-30T20:52:36.504153Z"
    },
    "papermill": {
     "duration": 0.287091,
     "end_time": "2025-07-30T20:52:36.514110",
     "exception": false,
     "start_time": "2025-07-30T20:52:36.227019",
     "status": "completed"
    },
    "tags": []
   },
   "outputs": [],
   "source": [
    "#siab_train = siab_s[siab_s.year < 2015]\n",
    "siab_calib = siab[siab.year == 2015]\n",
    "siab_test = siab[siab.year == 2016]"
   ]
  },
  {
   "cell_type": "code",
   "execution_count": 21,
   "id": "472de16f-c3db-4916-846b-1f0de9cf1746",
   "metadata": {
    "execution": {
     "iopub.execute_input": "2025-07-30T20:52:36.610081Z",
     "iopub.status.busy": "2025-07-30T20:52:36.609346Z",
     "iopub.status.idle": "2025-07-30T20:52:36.619259Z",
     "shell.execute_reply": "2025-07-30T20:52:36.618246Z"
    },
    "papermill": {
     "duration": 0.053895,
     "end_time": "2025-07-30T20:52:36.621358",
     "exception": false,
     "start_time": "2025-07-30T20:52:36.567463",
     "status": "completed"
    },
    "tags": []
   },
   "outputs": [],
   "source": [
    "X_train = siab_train.iloc[:,4:164]\n",
    "y_train = siab_train.iloc[:, [3]]"
   ]
  },
  {
   "cell_type": "code",
   "execution_count": 22,
   "id": "828c96af-f43a-4ed6-ba47-8ac73a47d56c",
   "metadata": {
    "execution": {
     "iopub.execute_input": "2025-07-30T20:52:36.689106Z",
     "iopub.status.busy": "2025-07-30T20:52:36.688621Z",
     "iopub.status.idle": "2025-07-30T20:52:36.785024Z",
     "shell.execute_reply": "2025-07-30T20:52:36.783802Z"
    },
    "papermill": {
     "duration": 0.132697,
     "end_time": "2025-07-30T20:52:36.787073",
     "exception": false,
     "start_time": "2025-07-30T20:52:36.654376",
     "status": "completed"
    },
    "tags": []
   },
   "outputs": [],
   "source": [
    "X_calib = siab_calib.iloc[:,4:164]\n",
    "y_calib = siab_calib.iloc[:, [3]]"
   ]
  },
  {
   "cell_type": "code",
   "execution_count": 23,
   "id": "c34be9c3-6bd6-476e-acd3-845840e303be",
   "metadata": {
    "execution": {
     "iopub.execute_input": "2025-07-30T20:52:36.832799Z",
     "iopub.status.busy": "2025-07-30T20:52:36.832358Z",
     "iopub.status.idle": "2025-07-30T20:52:36.887898Z",
     "shell.execute_reply": "2025-07-30T20:52:36.886899Z"
    },
    "papermill": {
     "duration": 0.079963,
     "end_time": "2025-07-30T20:52:36.889770",
     "exception": false,
     "start_time": "2025-07-30T20:52:36.809807",
     "status": "completed"
    },
    "tags": []
   },
   "outputs": [],
   "source": [
    "X_test = siab_test.iloc[:,4:164]\n",
    "y_true = siab_test.iloc[:, [3]]"
   ]
  },
  {
   "cell_type": "markdown",
   "id": "9901737e-04df-44f0-9100-f5ad144ed040",
   "metadata": {
    "papermill": {
     "duration": 0.021076,
     "end_time": "2025-07-30T20:52:36.938738",
     "exception": false,
     "start_time": "2025-07-30T20:52:36.917662",
     "status": "completed"
    },
    "tags": []
   },
   "source": [
    "# Splitting Data and Setting Training Data Size OLD VERSION"
   ]
  },
  {
   "cell_type": "code",
   "execution_count": 24,
   "id": "acbc8f7d-8fc8-4e86-8c59-5dcb0f58384b",
   "metadata": {
    "execution": {
     "iopub.execute_input": "2025-07-30T20:52:36.991218Z",
     "iopub.status.busy": "2025-07-30T20:52:36.990808Z",
     "iopub.status.idle": "2025-07-30T20:52:37.009191Z",
     "shell.execute_reply": "2025-07-30T20:52:37.008122Z"
    },
    "papermill": {
     "duration": 0.060876,
     "end_time": "2025-07-30T20:52:37.022950",
     "exception": false,
     "start_time": "2025-07-30T20:52:36.962074",
     "status": "completed"
    },
    "tags": []
   },
   "outputs": [],
   "source": [
    "#def sample_by_year(df, training_size, random_state=42):\n",
    "#    if training_size == \"2014\":\n",
    "#        return df[df[\"year\"] == 2014].reset_index(drop=True)\n",
    "#    \n",
    "#    size_map = {\n",
    "#        \"25k\": 5000,\n",
    "#        \"5k\": 1000,\n",
    "#        \"1k\": 200\n",
    "#    }\n",
    "#\n",
    "#    if training_size not in size_map:\n",
    "#        return df.reset_index(drop=True)  # use all data\n",
    "#\n",
    "#    n_per_year = size_map[training_size]\n",
    "#    grouped = df.groupby(\"year\")\n",
    "#    sampled = grouped.apply(lambda x: x.sample(n=min(n_per_year, len(x)), random_state=random_state))\n",
    "#    return sampled.reset_index(drop=True)"
   ]
  },
  {
   "cell_type": "code",
   "execution_count": 25,
   "id": "6d931f52-beaf-43ff-9e78-9d44a448d54e",
   "metadata": {
    "execution": {
     "iopub.execute_input": "2025-07-30T20:52:37.079943Z",
     "iopub.status.busy": "2025-07-30T20:52:37.078885Z",
     "iopub.status.idle": "2025-07-30T20:52:37.084718Z",
     "shell.execute_reply": "2025-07-30T20:52:37.083607Z"
    },
    "papermill": {
     "duration": 0.032432,
     "end_time": "2025-07-30T20:52:37.087232",
     "exception": false,
     "start_time": "2025-07-30T20:52:37.054800",
     "status": "completed"
    },
    "tags": []
   },
   "outputs": [],
   "source": [
    "#siab_s = sample_by_year(siab, universe[\"training_size\"])"
   ]
  },
  {
   "cell_type": "code",
   "execution_count": 26,
   "id": "5db0a40e-a4e2-4920-be85-b12ae061d70d",
   "metadata": {
    "execution": {
     "iopub.execute_input": "2025-07-30T20:52:37.134167Z",
     "iopub.status.busy": "2025-07-30T20:52:37.133756Z",
     "iopub.status.idle": "2025-07-30T20:52:37.139421Z",
     "shell.execute_reply": "2025-07-30T20:52:37.138428Z"
    },
    "papermill": {
     "duration": 0.035519,
     "end_time": "2025-07-30T20:52:37.141403",
     "exception": false,
     "start_time": "2025-07-30T20:52:37.105884",
     "status": "completed"
    },
    "tags": []
   },
   "outputs": [],
   "source": [
    "#display(siab_s.groupby(\"year\").size())"
   ]
  },
  {
   "cell_type": "code",
   "execution_count": 27,
   "id": "e6c733c5",
   "metadata": {
    "execution": {
     "iopub.execute_input": "2025-07-30T20:52:37.185537Z",
     "iopub.status.busy": "2025-07-30T20:52:37.185004Z",
     "iopub.status.idle": "2025-07-30T20:52:37.322429Z",
     "shell.execute_reply": "2025-07-30T20:52:37.321442Z"
    },
    "papermill": {
     "duration": 0.15917,
     "end_time": "2025-07-30T20:52:37.324323",
     "exception": false,
     "start_time": "2025-07-30T20:52:37.165153",
     "status": "completed"
    },
    "tags": []
   },
   "outputs": [],
   "source": [
    "# Auxiliary data needed downstream in the pipeline\n",
    "\n",
    "org_train = X_train.copy()\n",
    "org_test = X_test.copy()\n",
    "org_calib = X_calib.copy()"
   ]
  },
  {
   "cell_type": "code",
   "execution_count": 28,
   "id": "1466abac-c6da-4492-a62f-4240ae3783af",
   "metadata": {
    "execution": {
     "iopub.execute_input": "2025-07-30T20:52:37.425882Z",
     "iopub.status.busy": "2025-07-30T20:52:37.424929Z",
     "iopub.status.idle": "2025-07-30T20:52:37.431177Z",
     "shell.execute_reply": "2025-07-30T20:52:37.430304Z"
    },
    "papermill": {
     "duration": 0.060095,
     "end_time": "2025-07-30T20:52:37.433699",
     "exception": false,
     "start_time": "2025-07-30T20:52:37.373604",
     "status": "completed"
    },
    "tags": []
   },
   "outputs": [],
   "source": [
    "# put in other script?\n",
    "# Group sizes\n",
    "\n",
    "#def calculate_percentages(df, df_name):\n",
    "#    total_entries = len(df)\n",
    "#\n",
    "#    female_pct = (df['frau1'] == 1).mean() * 100\n",
    "#    non_german_pct = ((df['maxdeutsch1'] == 0) & (df['maxdeutsch.Missing.'] == 0)).mean() * 100\n",
    "#    non_german_male_pct = ((df['frau1'] == 0) & (df['maxdeutsch1'] == 0) & (df['maxdeutsch.Missing.'] == 0)).mean() * 100\n",
    "#    non_german_female_pct = ((df['frau1'] == 1) & (df['maxdeutsch1'] == 0) & (df['maxdeutsch.Missing.'] == 0)).mean() * 100\n",
    "#\n",
    "#    print(f\"--- {df_name} ---\")\n",
    "#    print(f\"Female: {female_pct:.2f}%\")\n",
    "#    print(f\"Non-German: {non_german_pct:.2f}%\")\n",
    "#    print(f\"Non-German Male: {non_german_male_pct:.2f}%\")\n",
    "#    print(f\"Non-German Female: {non_german_female_pct:.2f}%\\n\")\n",
    "#\n",
    "## Calculate for each DataFrame\n",
    "#calculate_percentages(siab_calib, \"siab_calib\")\n",
    "#calculate_percentages(siab_test, \"siab_test\")\n",
    "#calculate_percentages(siab_train, \"siab_train\")"
   ]
  },
  {
   "cell_type": "markdown",
   "id": "0a4a1b33",
   "metadata": {
    "papermill": {
     "duration": 0.021271,
     "end_time": "2025-07-30T20:52:37.475729",
     "exception": false,
     "start_time": "2025-07-30T20:52:37.454458",
     "status": "completed"
    },
    "tags": []
   },
   "source": [
    "# Preprocessing Data"
   ]
  },
  {
   "cell_type": "code",
   "execution_count": 29,
   "id": "ca879031",
   "metadata": {
    "execution": {
     "iopub.execute_input": "2025-07-30T20:52:37.552144Z",
     "iopub.status.busy": "2025-07-30T20:52:37.551718Z",
     "iopub.status.idle": "2025-07-30T20:52:37.558773Z",
     "shell.execute_reply": "2025-07-30T20:52:37.557880Z"
    },
    "papermill": {
     "duration": 0.064761,
     "end_time": "2025-07-30T20:52:37.562550",
     "exception": false,
     "start_time": "2025-07-30T20:52:37.497789",
     "status": "completed"
    },
    "tags": []
   },
   "outputs": [],
   "source": [
    "# EXCLUDE PROTECTED FEATURES\n",
    "# ----------------------\n",
    "# \"exclude_features\": \"none\", # \"nationality\", \"sex\", \"nationality-sex\"\n",
    "\n",
    "excluded_features = universe[\"exclude_features\"].split(\"-\") # split, e.g.: \"nationality-sex\" -> [\"nationality\", \"sex\"]\n",
    "excluded_features_dictionary = {\n",
    "    \"nationality\": [\"maxdeutsch1\", \"maxdeutsch.Missing.\"],\n",
    "    \"sex\": [\"frau1\"],\n",
    "    \"age\": [\"age\"],\n",
    "}\n"
   ]
  },
  {
   "cell_type": "code",
   "execution_count": 30,
   "id": "b745ac60",
   "metadata": {
    "execution": {
     "iopub.execute_input": "2025-07-30T20:52:37.625337Z",
     "iopub.status.busy": "2025-07-30T20:52:37.624952Z",
     "iopub.status.idle": "2025-07-30T20:52:37.632835Z",
     "shell.execute_reply": "2025-07-30T20:52:37.631816Z"
    },
    "papermill": {
     "duration": 0.050411,
     "end_time": "2025-07-30T20:52:37.635081",
     "exception": false,
     "start_time": "2025-07-30T20:52:37.584670",
     "status": "completed"
    },
    "tags": []
   },
   "outputs": [],
   "source": [
    "# Code nice names to column names\n",
    "\n",
    "excluded_features_columns = [\n",
    "    excluded_features_dictionary[f] for f in excluded_features if len(f) > 0 and f != \"none\"\n",
    "]"
   ]
  },
  {
   "cell_type": "code",
   "execution_count": 31,
   "id": "f84f73a2",
   "metadata": {
    "execution": {
     "iopub.execute_input": "2025-07-30T20:52:37.680965Z",
     "iopub.status.busy": "2025-07-30T20:52:37.680521Z",
     "iopub.status.idle": "2025-07-30T20:52:37.686923Z",
     "shell.execute_reply": "2025-07-30T20:52:37.685984Z"
    },
    "papermill": {
     "duration": 0.031503,
     "end_time": "2025-07-30T20:52:37.688873",
     "exception": false,
     "start_time": "2025-07-30T20:52:37.657370",
     "status": "completed"
    },
    "tags": []
   },
   "outputs": [],
   "source": [
    "from utils import flatten_once\n",
    "\n",
    "excluded_features_columns = flatten_once(excluded_features_columns)"
   ]
  },
  {
   "cell_type": "code",
   "execution_count": 32,
   "id": "884dea22",
   "metadata": {
    "execution": {
     "iopub.execute_input": "2025-07-30T20:52:37.733814Z",
     "iopub.status.busy": "2025-07-30T20:52:37.733420Z",
     "iopub.status.idle": "2025-07-30T20:52:37.743223Z",
     "shell.execute_reply": "2025-07-30T20:52:37.742207Z"
    },
    "papermill": {
     "duration": 0.03758,
     "end_time": "2025-07-30T20:52:37.747213",
     "exception": false,
     "start_time": "2025-07-30T20:52:37.709633",
     "status": "completed"
    },
    "tags": []
   },
   "outputs": [
    {
     "name": "stdout",
     "output_type": "stream",
     "text": [
      "Dropping features: ['maxdeutsch1', 'maxdeutsch.Missing.']\n"
     ]
    }
   ],
   "source": [
    "if len(excluded_features_columns) > 0:\n",
    "    print(f\"Dropping features: {excluded_features_columns}\")\n",
    "    X_train.drop(excluded_features_columns, axis=1, inplace=True)"
   ]
  },
  {
   "cell_type": "code",
   "execution_count": 33,
   "id": "95ab8b16",
   "metadata": {
    "execution": {
     "iopub.execute_input": "2025-07-30T20:52:37.804738Z",
     "iopub.status.busy": "2025-07-30T20:52:37.804247Z",
     "iopub.status.idle": "2025-07-30T20:52:37.927097Z",
     "shell.execute_reply": "2025-07-30T20:52:37.925906Z"
    },
    "papermill": {
     "duration": 0.15796,
     "end_time": "2025-07-30T20:52:37.929250",
     "exception": false,
     "start_time": "2025-07-30T20:52:37.771290",
     "status": "completed"
    },
    "tags": []
   },
   "outputs": [
    {
     "name": "stdout",
     "output_type": "stream",
     "text": [
      "Dropping features: ['maxdeutsch1', 'maxdeutsch.Missing.']\n"
     ]
    }
   ],
   "source": [
    "if len(excluded_features_columns) > 0:\n",
    "    print(f\"Dropping features: {excluded_features_columns}\")\n",
    "    X_test.drop(excluded_features_columns, axis=1, inplace=True)"
   ]
  },
  {
   "cell_type": "code",
   "execution_count": 34,
   "id": "1853aaf5-fb9f-46cb-a2b5-8ea4ae2237e4",
   "metadata": {
    "execution": {
     "iopub.execute_input": "2025-07-30T20:52:38.012215Z",
     "iopub.status.busy": "2025-07-30T20:52:38.011320Z",
     "iopub.status.idle": "2025-07-30T20:52:38.130336Z",
     "shell.execute_reply": "2025-07-30T20:52:38.129302Z"
    },
    "papermill": {
     "duration": 0.153494,
     "end_time": "2025-07-30T20:52:38.132500",
     "exception": false,
     "start_time": "2025-07-30T20:52:37.979006",
     "status": "completed"
    },
    "tags": []
   },
   "outputs": [
    {
     "name": "stdout",
     "output_type": "stream",
     "text": [
      "Dropping features: ['maxdeutsch1', 'maxdeutsch.Missing.']\n"
     ]
    }
   ],
   "source": [
    "if len(excluded_features_columns) > 0:\n",
    "    print(f\"Dropping features: {excluded_features_columns}\")\n",
    "    X_calib.drop(excluded_features_columns, axis=1, inplace=True)"
   ]
  },
  {
   "cell_type": "code",
   "execution_count": 35,
   "id": "6727d079-03e5-481e-9d38-292a90b7a0a8",
   "metadata": {
    "execution": {
     "iopub.execute_input": "2025-07-30T20:52:38.182261Z",
     "iopub.status.busy": "2025-07-30T20:52:38.181288Z",
     "iopub.status.idle": "2025-07-30T20:52:38.186997Z",
     "shell.execute_reply": "2025-07-30T20:52:38.186183Z"
    },
    "papermill": {
     "duration": 0.037525,
     "end_time": "2025-07-30T20:52:38.192461",
     "exception": false,
     "start_time": "2025-07-30T20:52:38.154936",
     "status": "completed"
    },
    "tags": []
   },
   "outputs": [],
   "source": [
    "# SPLIT & STRATIFY DATA\n",
    "# ----------------------"
   ]
  },
  {
   "cell_type": "code",
   "execution_count": 36,
   "id": "76c4dc6d",
   "metadata": {
    "execution": {
     "iopub.execute_input": "2025-07-30T20:52:38.254155Z",
     "iopub.status.busy": "2025-07-30T20:52:38.253767Z",
     "iopub.status.idle": "2025-07-30T20:52:38.259266Z",
     "shell.execute_reply": "2025-07-30T20:52:38.258350Z"
    },
    "papermill": {
     "duration": 0.05253,
     "end_time": "2025-07-30T20:52:38.269136",
     "exception": false,
     "start_time": "2025-07-30T20:52:38.216606",
     "status": "completed"
    },
    "tags": []
   },
   "outputs": [],
   "source": [
    "# EXCLUDE CERTAIN SUBGROUPS\n",
    "# ----------------------\n",
    "\n",
    "mode = universe.get(\"exclude_subgroups\", \"keep-all\") \n",
    "# Fetches the exclude_subgroups setting from the universe dict.\n",
    "# Defaults to \"keep-all\" if the key is missing."
   ]
  },
  {
   "cell_type": "code",
   "execution_count": 37,
   "id": "21994072",
   "metadata": {
    "execution": {
     "iopub.execute_input": "2025-07-30T20:52:38.332284Z",
     "iopub.status.busy": "2025-07-30T20:52:38.331878Z",
     "iopub.status.idle": "2025-07-30T20:52:38.339155Z",
     "shell.execute_reply": "2025-07-30T20:52:38.338222Z"
    },
    "papermill": {
     "duration": 0.032833,
     "end_time": "2025-07-30T20:52:38.340990",
     "exception": false,
     "start_time": "2025-07-30T20:52:38.308157",
     "status": "completed"
    },
    "tags": []
   },
   "outputs": [],
   "source": [
    "if mode == \"keep-all\":\n",
    "    keep_mask = pd.Series(True, index=org_train.index)\n",
    "\n",
    "# org_train contains the original feature columns from features_org (in Simson)\n",
    "# features_org contains unprocessed features, for me X_train at beginning ???\n",
    "# For keep-all, creates a boolean Series (keep_mask) of all True, so no rows are removed.\n",
    "\n",
    "elif mode == \"drop-non-german\":\n",
    "    keep_mask = org_train[\"maxdeutsch1\"] == 1 # ??? what about missing values?\n",
    "\n",
    "else:\n",
    "    raise ValueError(f\"Unsupported mode for exclude_subgroups: {mode}\")\n"
   ]
  },
  {
   "cell_type": "code",
   "execution_count": 38,
   "id": "71651440",
   "metadata": {
    "execution": {
     "iopub.execute_input": "2025-07-30T20:52:38.386192Z",
     "iopub.status.busy": "2025-07-30T20:52:38.385796Z",
     "iopub.status.idle": "2025-07-30T20:52:38.393309Z",
     "shell.execute_reply": "2025-07-30T20:52:38.392296Z"
    },
    "papermill": {
     "duration": 0.034223,
     "end_time": "2025-07-30T20:52:38.397339",
     "exception": false,
     "start_time": "2025-07-30T20:52:38.363116",
     "status": "completed"
    },
    "tags": []
   },
   "outputs": [
    {
     "name": "stdout",
     "output_type": "stream",
     "text": [
      "Dropping 741 rows (14.82%) where mode='drop-non-german'\n"
     ]
    }
   ],
   "source": [
    "n_drop = (~keep_mask).sum() # Calculates how many rows are set to be dropped\n",
    "if n_drop > 0:\n",
    "    pct = n_drop / len(keep_mask) * 100\n",
    "    print(f\"Dropping {n_drop} rows ({pct:.2f}%) where mode='{mode}'\")"
   ]
  },
  {
   "cell_type": "code",
   "execution_count": 39,
   "id": "5fb8eee5",
   "metadata": {
    "execution": {
     "iopub.execute_input": "2025-07-30T20:52:38.444493Z",
     "iopub.status.busy": "2025-07-30T20:52:38.444090Z",
     "iopub.status.idle": "2025-07-30T20:52:38.451917Z",
     "shell.execute_reply": "2025-07-30T20:52:38.450926Z"
    },
    "papermill": {
     "duration": 0.034282,
     "end_time": "2025-07-30T20:52:38.454675",
     "exception": false,
     "start_time": "2025-07-30T20:52:38.420393",
     "status": "completed"
    },
    "tags": []
   },
   "outputs": [],
   "source": [
    "X_train = X_train[keep_mask]"
   ]
  },
  {
   "cell_type": "code",
   "execution_count": 40,
   "id": "b202bb3a",
   "metadata": {
    "execution": {
     "iopub.execute_input": "2025-07-30T20:52:38.538834Z",
     "iopub.status.busy": "2025-07-30T20:52:38.538451Z",
     "iopub.status.idle": "2025-07-30T20:52:38.552694Z",
     "shell.execute_reply": "2025-07-30T20:52:38.551604Z"
    },
    "papermill": {
     "duration": 0.066259,
     "end_time": "2025-07-30T20:52:38.554369",
     "exception": false,
     "start_time": "2025-07-30T20:52:38.488110",
     "status": "completed"
    },
    "tags": []
   },
   "outputs": [],
   "source": [
    "y_train = y_train[keep_mask]"
   ]
  },
  {
   "cell_type": "markdown",
   "id": "493e2ac3",
   "metadata": {
    "papermill": {
     "duration": 0.059407,
     "end_time": "2025-07-30T20:52:38.664673",
     "exception": false,
     "start_time": "2025-07-30T20:52:38.605266",
     "status": "completed"
    },
    "tags": []
   },
   "source": [
    "# Model Training"
   ]
  },
  {
   "cell_type": "code",
   "execution_count": 41,
   "id": "679e1268",
   "metadata": {
    "execution": {
     "iopub.execute_input": "2025-07-30T20:52:38.712103Z",
     "iopub.status.busy": "2025-07-30T20:52:38.711564Z",
     "iopub.status.idle": "2025-07-30T20:52:38.989694Z",
     "shell.execute_reply": "2025-07-30T20:52:38.988731Z"
    },
    "papermill": {
     "duration": 0.304664,
     "end_time": "2025-07-30T20:52:38.992015",
     "exception": false,
     "start_time": "2025-07-30T20:52:38.687351",
     "status": "completed"
    },
    "tags": []
   },
   "outputs": [],
   "source": [
    "from sklearn.linear_model import LogisticRegression\n",
    "from sklearn.ensemble import GradientBoostingClassifier, RandomForestClassifier\n",
    "\n",
    "if (universe[\"model\"] == \"logreg\"):\n",
    "    model = LogisticRegression() #penalty=\"none\") #, solver=\"newton-cg\", max_iter=1) # include random_state=19 ?\n",
    "elif (universe[\"model\"] == \"penalized_logreg\"):\n",
    "    model = LogisticRegression(penalty=\"l2\", C=1.0) #, solver=\"newton-cg\", max_iter=1)\n",
    "elif (universe[\"model\"] == \"rf\"):\n",
    "    model = RandomForestClassifier(n_estimators=100, n_jobs=-1)\n",
    "elif (universe[\"model\"] == \"gbm\"):\n",
    "    model = GradientBoostingClassifier()\n",
    "elif (universe[\"model\"] == \"elasticnet\"):\n",
    "    model = LogisticRegression(penalty = 'elasticnet', solver = 'saga', l1_ratio = 0.5, max_iter=5000) # which solver to use?\n",
    "else:\n",
    "    raise \"Unsupported universe.model\""
   ]
  },
  {
   "cell_type": "code",
   "execution_count": 42,
   "id": "0cc8f744",
   "metadata": {
    "execution": {
     "iopub.execute_input": "2025-07-30T20:52:39.063334Z",
     "iopub.status.busy": "2025-07-30T20:52:39.062913Z",
     "iopub.status.idle": "2025-07-30T20:52:39.069566Z",
     "shell.execute_reply": "2025-07-30T20:52:39.068625Z"
    },
    "papermill": {
     "duration": 0.043571,
     "end_time": "2025-07-30T20:52:39.072663",
     "exception": false,
     "start_time": "2025-07-30T20:52:39.029092",
     "status": "completed"
    },
    "tags": []
   },
   "outputs": [],
   "source": [
    "import numpy as np\n",
    "from sklearn.pipeline import Pipeline\n",
    "from sklearn.preprocessing import StandardScaler\n",
    "\n",
    "model = Pipeline([\n",
    "    #(\"continuous_processor\", continuous_processor),\n",
    "    #(\"categorical_preprocessor\", categorical_preprocessor),\n",
    "    (\"scale\", StandardScaler() if universe[\"scale\"] == \"scale\" else None), \n",
    "    (\"model\", model),\n",
    "])"
   ]
  },
  {
   "cell_type": "code",
   "execution_count": 43,
   "id": "9442c04d",
   "metadata": {
    "execution": {
     "iopub.execute_input": "2025-07-30T20:52:39.138325Z",
     "iopub.status.busy": "2025-07-30T20:52:39.137930Z",
     "iopub.status.idle": "2025-07-30T20:52:40.479409Z",
     "shell.execute_reply": "2025-07-30T20:52:40.478402Z"
    },
    "papermill": {
     "duration": 1.369507,
     "end_time": "2025-07-30T20:52:40.481013",
     "exception": false,
     "start_time": "2025-07-30T20:52:39.111506",
     "status": "completed"
    },
    "tags": []
   },
   "outputs": [
    {
     "data": {
      "text/html": [
       "<style>#sk-container-id-1 {color: black;background-color: white;}#sk-container-id-1 pre{padding: 0;}#sk-container-id-1 div.sk-toggleable {background-color: white;}#sk-container-id-1 label.sk-toggleable__label {cursor: pointer;display: block;width: 100%;margin-bottom: 0;padding: 0.3em;box-sizing: border-box;text-align: center;}#sk-container-id-1 label.sk-toggleable__label-arrow:before {content: \"▸\";float: left;margin-right: 0.25em;color: #696969;}#sk-container-id-1 label.sk-toggleable__label-arrow:hover:before {color: black;}#sk-container-id-1 div.sk-estimator:hover label.sk-toggleable__label-arrow:before {color: black;}#sk-container-id-1 div.sk-toggleable__content {max-height: 0;max-width: 0;overflow: hidden;text-align: left;background-color: #f0f8ff;}#sk-container-id-1 div.sk-toggleable__content pre {margin: 0.2em;color: black;border-radius: 0.25em;background-color: #f0f8ff;}#sk-container-id-1 input.sk-toggleable__control:checked~div.sk-toggleable__content {max-height: 200px;max-width: 100%;overflow: auto;}#sk-container-id-1 input.sk-toggleable__control:checked~label.sk-toggleable__label-arrow:before {content: \"▾\";}#sk-container-id-1 div.sk-estimator input.sk-toggleable__control:checked~label.sk-toggleable__label {background-color: #d4ebff;}#sk-container-id-1 div.sk-label input.sk-toggleable__control:checked~label.sk-toggleable__label {background-color: #d4ebff;}#sk-container-id-1 input.sk-hidden--visually {border: 0;clip: rect(1px 1px 1px 1px);clip: rect(1px, 1px, 1px, 1px);height: 1px;margin: -1px;overflow: hidden;padding: 0;position: absolute;width: 1px;}#sk-container-id-1 div.sk-estimator {font-family: monospace;background-color: #f0f8ff;border: 1px dotted black;border-radius: 0.25em;box-sizing: border-box;margin-bottom: 0.5em;}#sk-container-id-1 div.sk-estimator:hover {background-color: #d4ebff;}#sk-container-id-1 div.sk-parallel-item::after {content: \"\";width: 100%;border-bottom: 1px solid gray;flex-grow: 1;}#sk-container-id-1 div.sk-label:hover label.sk-toggleable__label {background-color: #d4ebff;}#sk-container-id-1 div.sk-serial::before {content: \"\";position: absolute;border-left: 1px solid gray;box-sizing: border-box;top: 0;bottom: 0;left: 50%;z-index: 0;}#sk-container-id-1 div.sk-serial {display: flex;flex-direction: column;align-items: center;background-color: white;padding-right: 0.2em;padding-left: 0.2em;position: relative;}#sk-container-id-1 div.sk-item {position: relative;z-index: 1;}#sk-container-id-1 div.sk-parallel {display: flex;align-items: stretch;justify-content: center;background-color: white;position: relative;}#sk-container-id-1 div.sk-item::before, #sk-container-id-1 div.sk-parallel-item::before {content: \"\";position: absolute;border-left: 1px solid gray;box-sizing: border-box;top: 0;bottom: 0;left: 50%;z-index: -1;}#sk-container-id-1 div.sk-parallel-item {display: flex;flex-direction: column;z-index: 1;position: relative;background-color: white;}#sk-container-id-1 div.sk-parallel-item:first-child::after {align-self: flex-end;width: 50%;}#sk-container-id-1 div.sk-parallel-item:last-child::after {align-self: flex-start;width: 50%;}#sk-container-id-1 div.sk-parallel-item:only-child::after {width: 0;}#sk-container-id-1 div.sk-dashed-wrapped {border: 1px dashed gray;margin: 0 0.4em 0.5em 0.4em;box-sizing: border-box;padding-bottom: 0.4em;background-color: white;}#sk-container-id-1 div.sk-label label {font-family: monospace;font-weight: bold;display: inline-block;line-height: 1.2em;}#sk-container-id-1 div.sk-label-container {text-align: center;}#sk-container-id-1 div.sk-container {/* jupyter's `normalize.less` sets `[hidden] { display: none; }` but bootstrap.min.css set `[hidden] { display: none !important; }` so we also need the `!important` here to be able to override the default hidden behavior on the sphinx rendered scikit-learn.org. See: https://github.com/scikit-learn/scikit-learn/issues/21755 */display: inline-block !important;position: relative;}#sk-container-id-1 div.sk-text-repr-fallback {display: none;}</style><div id=\"sk-container-id-1\" class=\"sk-top-container\"><div class=\"sk-text-repr-fallback\"><pre>Pipeline(steps=[(&#x27;scale&#x27;, None), (&#x27;model&#x27;, RandomForestClassifier(n_jobs=-1))])</pre><b>In a Jupyter environment, please rerun this cell to show the HTML representation or trust the notebook. <br />On GitHub, the HTML representation is unable to render, please try loading this page with nbviewer.org.</b></div><div class=\"sk-container\" hidden><div class=\"sk-item sk-dashed-wrapped\"><div class=\"sk-label-container\"><div class=\"sk-label sk-toggleable\"><input class=\"sk-toggleable__control sk-hidden--visually\" id=\"sk-estimator-id-1\" type=\"checkbox\" ><label for=\"sk-estimator-id-1\" class=\"sk-toggleable__label sk-toggleable__label-arrow\">Pipeline</label><div class=\"sk-toggleable__content\"><pre>Pipeline(steps=[(&#x27;scale&#x27;, None), (&#x27;model&#x27;, RandomForestClassifier(n_jobs=-1))])</pre></div></div></div><div class=\"sk-serial\"><div class=\"sk-item\"><div class=\"sk-estimator sk-toggleable\"><input class=\"sk-toggleable__control sk-hidden--visually\" id=\"sk-estimator-id-2\" type=\"checkbox\" ><label for=\"sk-estimator-id-2\" class=\"sk-toggleable__label sk-toggleable__label-arrow\">None</label><div class=\"sk-toggleable__content\"><pre>None</pre></div></div></div><div class=\"sk-item\"><div class=\"sk-estimator sk-toggleable\"><input class=\"sk-toggleable__control sk-hidden--visually\" id=\"sk-estimator-id-3\" type=\"checkbox\" ><label for=\"sk-estimator-id-3\" class=\"sk-toggleable__label sk-toggleable__label-arrow\">RandomForestClassifier</label><div class=\"sk-toggleable__content\"><pre>RandomForestClassifier(n_jobs=-1)</pre></div></div></div></div></div></div></div>"
      ],
      "text/plain": [
       "Pipeline(steps=[('scale', None), ('model', RandomForestClassifier(n_jobs=-1))])"
      ]
     },
     "execution_count": 43,
     "metadata": {},
     "output_type": "execute_result"
    }
   ],
   "source": [
    "model.fit(X_train, y_train.values.ravel())"
   ]
  },
  {
   "cell_type": "code",
   "execution_count": 44,
   "id": "af59f8c0",
   "metadata": {
    "execution": {
     "iopub.execute_input": "2025-07-30T20:52:40.622401Z",
     "iopub.status.busy": "2025-07-30T20:52:40.622002Z",
     "iopub.status.idle": "2025-07-30T20:52:40.627754Z",
     "shell.execute_reply": "2025-07-30T20:52:40.626672Z"
    },
    "papermill": {
     "duration": 0.120032,
     "end_time": "2025-07-30T20:52:40.629523",
     "exception": false,
     "start_time": "2025-07-30T20:52:40.509491",
     "status": "completed"
    },
    "tags": []
   },
   "outputs": [],
   "source": [
    "from fairness_multiverse.universe import predict_w_threshold"
   ]
  },
  {
   "cell_type": "code",
   "execution_count": 45,
   "id": "a7cf2e16",
   "metadata": {
    "execution": {
     "iopub.execute_input": "2025-07-30T20:52:40.769622Z",
     "iopub.status.busy": "2025-07-30T20:52:40.768549Z",
     "iopub.status.idle": "2025-07-30T20:52:41.755860Z",
     "shell.execute_reply": "2025-07-30T20:52:41.754768Z"
    },
    "papermill": {
     "duration": 1.047352,
     "end_time": "2025-07-30T20:52:41.757919",
     "exception": false,
     "start_time": "2025-07-30T20:52:40.710567",
     "status": "completed"
    },
    "tags": []
   },
   "outputs": [
    {
     "data": {
      "text/plain": [
       "0.863415449782633"
      ]
     },
     "execution_count": 45,
     "metadata": {},
     "output_type": "execute_result"
    }
   ],
   "source": [
    "probs_test = model.predict_proba(X_test)\n",
    "\n",
    "'''\n",
    "Below code returns a boolean array (or binary 0/1 array depending on how it’s used) where each element \n",
    "is True if the probability of class 1 is greater than or equal to the threshold, and False otherwise.\n",
    "'''\n",
    "y_pred_default = predict_w_threshold(probs_test, 0.5)\n",
    "\n",
    "from sklearn.metrics import accuracy_score\n",
    "\n",
    "# Naive prediction\n",
    "accuracy_score(y_true = y_true, y_pred = y_pred_default)"
   ]
  },
  {
   "cell_type": "code",
   "execution_count": 46,
   "id": "081964c3",
   "metadata": {
    "execution": {
     "iopub.execute_input": "2025-07-30T20:52:41.826788Z",
     "iopub.status.busy": "2025-07-30T20:52:41.826387Z",
     "iopub.status.idle": "2025-07-30T20:52:43.025761Z",
     "shell.execute_reply": "2025-07-30T20:52:43.025025Z"
    },
    "papermill": {
     "duration": 1.244106,
     "end_time": "2025-07-30T20:52:43.027260",
     "exception": false,
     "start_time": "2025-07-30T20:52:41.783154",
     "status": "completed"
    },
    "tags": []
   },
   "outputs": [
    {
     "data": {
      "text/plain": [
       "array([0, 0, 0, ..., 0, 0, 0])"
      ]
     },
     "execution_count": 46,
     "metadata": {},
     "output_type": "execute_result"
    }
   ],
   "source": [
    "model.predict(X_test)"
   ]
  },
  {
   "cell_type": "markdown",
   "id": "56c9705b",
   "metadata": {
    "papermill": {
     "duration": 0.032516,
     "end_time": "2025-07-30T20:52:43.090214",
     "exception": false,
     "start_time": "2025-07-30T20:52:43.057698",
     "status": "completed"
    },
    "tags": []
   },
   "source": [
    "# Conformal Prediction"
   ]
  },
  {
   "cell_type": "code",
   "execution_count": 47,
   "id": "160ec6ff",
   "metadata": {
    "execution": {
     "iopub.execute_input": "2025-07-30T20:52:43.147502Z",
     "iopub.status.busy": "2025-07-30T20:52:43.147113Z",
     "iopub.status.idle": "2025-07-30T20:52:43.152473Z",
     "shell.execute_reply": "2025-07-30T20:52:43.151467Z"
    },
    "papermill": {
     "duration": 0.03476,
     "end_time": "2025-07-30T20:52:43.156312",
     "exception": false,
     "start_time": "2025-07-30T20:52:43.121552",
     "status": "completed"
    },
    "tags": []
   },
   "outputs": [],
   "source": [
    "# Miscoverage level for conformal prediction (10% allowed error rate => 90% target coverage)\n",
    "alpha = 0.1"
   ]
  },
  {
   "cell_type": "code",
   "execution_count": 48,
   "id": "eadf4555-3dd3-440e-8e35-f82a4ad9f855",
   "metadata": {
    "execution": {
     "iopub.execute_input": "2025-07-30T20:52:43.204056Z",
     "iopub.status.busy": "2025-07-30T20:52:43.203654Z",
     "iopub.status.idle": "2025-07-30T20:52:44.091278Z",
     "shell.execute_reply": "2025-07-30T20:52:44.090260Z"
    },
    "papermill": {
     "duration": 0.913849,
     "end_time": "2025-07-30T20:52:44.093312",
     "exception": false,
     "start_time": "2025-07-30T20:52:43.179463",
     "status": "completed"
    },
    "tags": []
   },
   "outputs": [],
   "source": [
    "probs_calib = model.predict_proba(X_calib)"
   ]
  },
  {
   "cell_type": "code",
   "execution_count": 49,
   "id": "2ed93547-6d5d-4983-9b36-1ecb300da49a",
   "metadata": {
    "execution": {
     "iopub.execute_input": "2025-07-30T20:52:44.148881Z",
     "iopub.status.busy": "2025-07-30T20:52:44.148365Z",
     "iopub.status.idle": "2025-07-30T20:52:44.154604Z",
     "shell.execute_reply": "2025-07-30T20:52:44.153496Z"
    },
    "papermill": {
     "duration": 0.03611,
     "end_time": "2025-07-30T20:52:44.156575",
     "exception": false,
     "start_time": "2025-07-30T20:52:44.120465",
     "status": "completed"
    },
    "tags": []
   },
   "outputs": [],
   "source": [
    "y_calib = y_calib.values.ravel().astype(int)"
   ]
  },
  {
   "cell_type": "code",
   "execution_count": 50,
   "id": "65d1320d-f588-4b38-9072-62af1ae97f7d",
   "metadata": {
    "execution": {
     "iopub.execute_input": "2025-07-30T20:52:44.199150Z",
     "iopub.status.busy": "2025-07-30T20:52:44.198790Z",
     "iopub.status.idle": "2025-07-30T20:52:44.205445Z",
     "shell.execute_reply": "2025-07-30T20:52:44.204566Z"
    },
    "papermill": {
     "duration": 0.025253,
     "end_time": "2025-07-30T20:52:44.207054",
     "exception": false,
     "start_time": "2025-07-30T20:52:44.181801",
     "status": "completed"
    },
    "tags": []
   },
   "outputs": [],
   "source": [
    "from fairness_multiverse.conformal import compute_nc_scores\n",
    "\n",
    "# Compute nonconformity scores on calibration set (1 - probability of true class)\n",
    "nc_scores = compute_nc_scores(probs_calib, y_calib)"
   ]
  },
  {
   "cell_type": "code",
   "execution_count": 51,
   "id": "df3b8ca3-53b7-43d5-9667-7c85da7aeda2",
   "metadata": {
    "execution": {
     "iopub.execute_input": "2025-07-30T20:52:44.261467Z",
     "iopub.status.busy": "2025-07-30T20:52:44.260946Z",
     "iopub.status.idle": "2025-07-30T20:52:44.272440Z",
     "shell.execute_reply": "2025-07-30T20:52:44.271713Z"
    },
    "papermill": {
     "duration": 0.040145,
     "end_time": "2025-07-30T20:52:44.273705",
     "exception": false,
     "start_time": "2025-07-30T20:52:44.233560",
     "status": "completed"
    },
    "tags": []
   },
   "outputs": [],
   "source": [
    "from fairness_multiverse.conformal import find_threshold\n",
    "\n",
    "# Find conformal threshold q_hat for the given alpha (split conformal method)\n",
    "q_hat = find_threshold(nc_scores, alpha)"
   ]
  },
  {
   "cell_type": "code",
   "execution_count": 52,
   "id": "4d29e6c1-0ef6-4aa4-b8fe-4fe79b0d033a",
   "metadata": {
    "execution": {
     "iopub.execute_input": "2025-07-30T20:52:44.337346Z",
     "iopub.status.busy": "2025-07-30T20:52:44.336801Z",
     "iopub.status.idle": "2025-07-30T20:52:44.344554Z",
     "shell.execute_reply": "2025-07-30T20:52:44.343496Z"
    },
    "papermill": {
     "duration": 0.04525,
     "end_time": "2025-07-30T20:52:44.346926",
     "exception": false,
     "start_time": "2025-07-30T20:52:44.301676",
     "status": "completed"
    },
    "tags": []
   },
   "outputs": [
    {
     "data": {
      "text/plain": [
       "0.6599999999999999"
      ]
     },
     "execution_count": 52,
     "metadata": {},
     "output_type": "execute_result"
    }
   ],
   "source": [
    "q_hat"
   ]
  },
  {
   "cell_type": "code",
   "execution_count": 53,
   "id": "92460794-cdac-4be2-ba28-f28c0515a6fb",
   "metadata": {
    "execution": {
     "iopub.execute_input": "2025-07-30T20:52:44.398099Z",
     "iopub.status.busy": "2025-07-30T20:52:44.397147Z",
     "iopub.status.idle": "2025-07-30T20:52:45.818533Z",
     "shell.execute_reply": "2025-07-30T20:52:45.817765Z"
    },
    "papermill": {
     "duration": 1.447274,
     "end_time": "2025-07-30T20:52:45.819954",
     "exception": false,
     "start_time": "2025-07-30T20:52:44.372680",
     "status": "completed"
    },
    "tags": []
   },
   "outputs": [],
   "source": [
    "from fairness_multiverse.conformal import predict_conformal_sets\n",
    "\n",
    "# Generate prediction sets for each test example\n",
    "pred_sets = predict_conformal_sets(model, X_test, q_hat)"
   ]
  },
  {
   "cell_type": "code",
   "execution_count": 54,
   "id": "d90c9a65-e6db-4f5d-80cd-e68fb7e46829",
   "metadata": {
    "execution": {
     "iopub.execute_input": "2025-07-30T20:52:45.846424Z",
     "iopub.status.busy": "2025-07-30T20:52:45.845808Z",
     "iopub.status.idle": "2025-07-30T20:52:45.850367Z",
     "shell.execute_reply": "2025-07-30T20:52:45.849596Z"
    },
    "papermill": {
     "duration": 0.018661,
     "end_time": "2025-07-30T20:52:45.851596",
     "exception": false,
     "start_time": "2025-07-30T20:52:45.832935",
     "status": "completed"
    },
    "tags": []
   },
   "outputs": [],
   "source": [
    "y_true = y_true.squeeze()"
   ]
  },
  {
   "cell_type": "code",
   "execution_count": 55,
   "id": "3a58a54a-1e68-46b9-927a-df01f18aebc8",
   "metadata": {
    "execution": {
     "iopub.execute_input": "2025-07-30T20:52:45.878605Z",
     "iopub.status.busy": "2025-07-30T20:52:45.877976Z",
     "iopub.status.idle": "2025-07-30T20:52:46.672104Z",
     "shell.execute_reply": "2025-07-30T20:52:46.671331Z"
    },
    "papermill": {
     "duration": 0.808626,
     "end_time": "2025-07-30T20:52:46.673675",
     "exception": false,
     "start_time": "2025-07-30T20:52:45.865049",
     "status": "completed"
    },
    "tags": []
   },
   "outputs": [],
   "source": [
    "from fairness_multiverse.conformal import evaluate_sets\n",
    "\n",
    "# Evaluate coverage and average set size on test data\n",
    "metrics = evaluate_sets(pred_sets, y_true)"
   ]
  },
  {
   "cell_type": "markdown",
   "id": "2b569c12-9aaa-4c88-98c9-bbcd0cf3ebb8",
   "metadata": {
    "papermill": {
     "duration": 0.013495,
     "end_time": "2025-07-30T20:52:46.702615",
     "exception": false,
     "start_time": "2025-07-30T20:52:46.689120",
     "status": "completed"
    },
    "tags": []
   },
   "source": [
    "# CP Metrics"
   ]
  },
  {
   "cell_type": "code",
   "execution_count": 56,
   "id": "5ce0a5cb-201f-45a0-ade5-94c7f0bd6095",
   "metadata": {
    "execution": {
     "iopub.execute_input": "2025-07-30T20:52:46.729116Z",
     "iopub.status.busy": "2025-07-30T20:52:46.728425Z",
     "iopub.status.idle": "2025-07-30T20:52:46.735575Z",
     "shell.execute_reply": "2025-07-30T20:52:46.733847Z"
    },
    "papermill": {
     "duration": 0.022733,
     "end_time": "2025-07-30T20:52:46.737878",
     "exception": false,
     "start_time": "2025-07-30T20:52:46.715145",
     "status": "completed"
    },
    "tags": []
   },
   "outputs": [
    {
     "data": {
      "text/plain": [
       "{'coverage': 0.9141678742615094, 'avg_size': 1.142893768810612}"
      ]
     },
     "execution_count": 56,
     "metadata": {},
     "output_type": "execute_result"
    }
   ],
   "source": [
    "metrics"
   ]
  },
  {
   "cell_type": "code",
   "execution_count": 57,
   "id": "9b9a838d-31c9-430b-ae14-12baee460d17",
   "metadata": {
    "execution": {
     "iopub.execute_input": "2025-07-30T20:52:46.775705Z",
     "iopub.status.busy": "2025-07-30T20:52:46.775049Z",
     "iopub.status.idle": "2025-07-30T20:52:46.780627Z",
     "shell.execute_reply": "2025-07-30T20:52:46.779868Z"
    },
    "papermill": {
     "duration": 0.02115,
     "end_time": "2025-07-30T20:52:46.781928",
     "exception": false,
     "start_time": "2025-07-30T20:52:46.760778",
     "status": "completed"
    },
    "tags": []
   },
   "outputs": [],
   "source": [
    "example_universe = universe.copy()\n",
    "universe_training_year = example_universe.get(\"training_year\")\n",
    "universe_training_size = example_universe.get(\"training_size\")\n",
    "universe_scale = example_universe.get(\"scale\")\n",
    "universe_model = example_universe.get(\"model\")\n",
    "universe_exclude_features = example_universe.get(\"exclude_features\")\n",
    "universe_exclude_subgroups = example_universe.get(\"exclude_subgroups\")"
   ]
  },
  {
   "cell_type": "code",
   "execution_count": 58,
   "id": "f4b6a8ac-9dc0-4245-8a91-5b3b5999c4f9",
   "metadata": {
    "execution": {
     "iopub.execute_input": "2025-07-30T20:52:46.811467Z",
     "iopub.status.busy": "2025-07-30T20:52:46.811095Z",
     "iopub.status.idle": "2025-07-30T20:52:46.817827Z",
     "shell.execute_reply": "2025-07-30T20:52:46.816807Z"
    },
    "papermill": {
     "duration": 0.02697,
     "end_time": "2025-07-30T20:52:46.822223",
     "exception": false,
     "start_time": "2025-07-30T20:52:46.795253",
     "status": "completed"
    },
    "tags": []
   },
   "outputs": [],
   "source": [
    "cp_metrics_dict = {\n",
    "    \"universe_id\": [universe_id],\n",
    "    \"universe_training_year\": [universe_training_year],\n",
    "    \"universe_training_size\": [universe_training_size],\n",
    "    \"universe_scale\": [universe_scale],\n",
    "    \"universe_model\": [universe_model],\n",
    "    \"universe_exclude_features\": [universe_exclude_features],\n",
    "    \"universe_exclude_subgroups\": [universe_exclude_subgroups],\n",
    "    \"q_hat\": [q_hat],\n",
    "    \"coverage\": [metrics[\"coverage\"]],\n",
    "    \"avg_size\": [metrics[\"avg_size\"]],\n",
    "}"
   ]
  },
  {
   "cell_type": "code",
   "execution_count": 59,
   "id": "908acbb1-0371-4915-85ca-3fa520d2efe2",
   "metadata": {
    "execution": {
     "iopub.execute_input": "2025-07-30T20:52:46.870485Z",
     "iopub.status.busy": "2025-07-30T20:52:46.869975Z",
     "iopub.status.idle": "2025-07-30T20:52:46.877587Z",
     "shell.execute_reply": "2025-07-30T20:52:46.876707Z"
    },
    "papermill": {
     "duration": 0.033321,
     "end_time": "2025-07-30T20:52:46.879333",
     "exception": false,
     "start_time": "2025-07-30T20:52:46.846012",
     "status": "completed"
    },
    "tags": []
   },
   "outputs": [
    {
     "data": {
      "text/plain": [
       "{'universe_id': ['02a4110f0d94fa073e6c9651bf1c622f'],\n",
       " 'universe_training_year': ['2014'],\n",
       " 'universe_training_size': ['5k'],\n",
       " 'universe_scale': ['do-not-scale'],\n",
       " 'universe_model': ['rf'],\n",
       " 'universe_exclude_features': ['nationality'],\n",
       " 'universe_exclude_subgroups': ['drop-non-german'],\n",
       " 'q_hat': [0.6599999999999999],\n",
       " 'coverage': [0.9141678742615094],\n",
       " 'avg_size': [1.142893768810612]}"
      ]
     },
     "execution_count": 59,
     "metadata": {},
     "output_type": "execute_result"
    }
   ],
   "source": [
    "cp_metrics_dict"
   ]
  },
  {
   "cell_type": "code",
   "execution_count": 60,
   "id": "33007efc-14e9-4ec6-97ac-56a455c82265",
   "metadata": {
    "execution": {
     "iopub.execute_input": "2025-07-30T20:52:46.928443Z",
     "iopub.status.busy": "2025-07-30T20:52:46.927727Z",
     "iopub.status.idle": "2025-07-30T20:52:46.933781Z",
     "shell.execute_reply": "2025-07-30T20:52:46.932909Z"
    },
    "papermill": {
     "duration": 0.031444,
     "end_time": "2025-07-30T20:52:46.935236",
     "exception": false,
     "start_time": "2025-07-30T20:52:46.903792",
     "status": "completed"
    },
    "tags": []
   },
   "outputs": [],
   "source": [
    "cp_metrics_df = pd.DataFrame(cp_metrics_dict)"
   ]
  },
  {
   "cell_type": "code",
   "execution_count": 61,
   "id": "db12611b-57b2-4910-b9d0-355adfd6e7bf",
   "metadata": {
    "execution": {
     "iopub.execute_input": "2025-07-30T20:52:46.984839Z",
     "iopub.status.busy": "2025-07-30T20:52:46.984075Z",
     "iopub.status.idle": "2025-07-30T20:52:47.001383Z",
     "shell.execute_reply": "2025-07-30T20:52:47.000509Z"
    },
    "papermill": {
     "duration": 0.044029,
     "end_time": "2025-07-30T20:52:47.003008",
     "exception": false,
     "start_time": "2025-07-30T20:52:46.958979",
     "status": "completed"
    },
    "tags": []
   },
   "outputs": [
    {
     "data": {
      "text/html": [
       "<div>\n",
       "<style scoped>\n",
       "    .dataframe tbody tr th:only-of-type {\n",
       "        vertical-align: middle;\n",
       "    }\n",
       "\n",
       "    .dataframe tbody tr th {\n",
       "        vertical-align: top;\n",
       "    }\n",
       "\n",
       "    .dataframe thead th {\n",
       "        text-align: right;\n",
       "    }\n",
       "</style>\n",
       "<table border=\"1\" class=\"dataframe\">\n",
       "  <thead>\n",
       "    <tr style=\"text-align: right;\">\n",
       "      <th></th>\n",
       "      <th>universe_id</th>\n",
       "      <th>universe_training_year</th>\n",
       "      <th>universe_training_size</th>\n",
       "      <th>universe_scale</th>\n",
       "      <th>universe_model</th>\n",
       "      <th>universe_exclude_features</th>\n",
       "      <th>universe_exclude_subgroups</th>\n",
       "      <th>q_hat</th>\n",
       "      <th>coverage</th>\n",
       "      <th>avg_size</th>\n",
       "    </tr>\n",
       "  </thead>\n",
       "  <tbody>\n",
       "    <tr>\n",
       "      <th>0</th>\n",
       "      <td>02a4110f0d94fa073e6c9651bf1c622f</td>\n",
       "      <td>2014</td>\n",
       "      <td>5k</td>\n",
       "      <td>do-not-scale</td>\n",
       "      <td>rf</td>\n",
       "      <td>nationality</td>\n",
       "      <td>drop-non-german</td>\n",
       "      <td>0.66</td>\n",
       "      <td>0.914168</td>\n",
       "      <td>1.142894</td>\n",
       "    </tr>\n",
       "  </tbody>\n",
       "</table>\n",
       "</div>"
      ],
      "text/plain": [
       "                        universe_id universe_training_year  \\\n",
       "0  02a4110f0d94fa073e6c9651bf1c622f                   2014   \n",
       "\n",
       "  universe_training_size universe_scale universe_model  \\\n",
       "0                     5k   do-not-scale             rf   \n",
       "\n",
       "  universe_exclude_features universe_exclude_subgroups  q_hat  coverage  \\\n",
       "0               nationality            drop-non-german   0.66  0.914168   \n",
       "\n",
       "   avg_size  \n",
       "0  1.142894  "
      ]
     },
     "execution_count": 61,
     "metadata": {},
     "output_type": "execute_result"
    }
   ],
   "source": [
    "cp_metrics_df"
   ]
  },
  {
   "cell_type": "code",
   "execution_count": 62,
   "id": "b7fbde55-a0a1-47e4-9af6-fe4a17fa8c61",
   "metadata": {
    "execution": {
     "iopub.execute_input": "2025-07-30T20:52:47.060020Z",
     "iopub.status.busy": "2025-07-30T20:52:47.059405Z",
     "iopub.status.idle": "2025-07-30T20:52:47.064638Z",
     "shell.execute_reply": "2025-07-30T20:52:47.063680Z"
    },
    "papermill": {
     "duration": 0.03519,
     "end_time": "2025-07-30T20:52:47.066213",
     "exception": false,
     "start_time": "2025-07-30T20:52:47.031023",
     "status": "completed"
    },
    "tags": []
   },
   "outputs": [],
   "source": [
    "# Conditional Coverage & looking at subgroups"
   ]
  },
  {
   "cell_type": "code",
   "execution_count": 63,
   "id": "027ae886-68dd-4141-96c7-805a5450e1ef",
   "metadata": {
    "execution": {
     "iopub.execute_input": "2025-07-30T20:52:47.125669Z",
     "iopub.status.busy": "2025-07-30T20:52:47.125003Z",
     "iopub.status.idle": "2025-07-30T20:52:47.378436Z",
     "shell.execute_reply": "2025-07-30T20:52:47.377463Z"
    },
    "papermill": {
     "duration": 0.285814,
     "end_time": "2025-07-30T20:52:47.380573",
     "exception": false,
     "start_time": "2025-07-30T20:52:47.094759",
     "status": "completed"
    },
    "tags": []
   },
   "outputs": [],
   "source": [
    "from fairness_multiverse.conformal import build_cp_groups\n",
    "\n",
    "cp_groups_df = build_cp_groups(pred_sets, y_true, X_test.index, org_test)\n",
    "#needs universe_id and setting"
   ]
  },
  {
   "cell_type": "code",
   "execution_count": 64,
   "id": "01d5802c-663a-4d1f-9d69-e036faaffbf7",
   "metadata": {
    "execution": {
     "iopub.execute_input": "2025-07-30T20:52:47.441645Z",
     "iopub.status.busy": "2025-07-30T20:52:47.440857Z",
     "iopub.status.idle": "2025-07-30T20:52:47.446897Z",
     "shell.execute_reply": "2025-07-30T20:52:47.445982Z"
    },
    "papermill": {
     "duration": 0.0395,
     "end_time": "2025-07-30T20:52:47.448758",
     "exception": false,
     "start_time": "2025-07-30T20:52:47.409258",
     "status": "completed"
    },
    "tags": []
   },
   "outputs": [],
   "source": [
    "#delete\n",
    "#cp_groups_df"
   ]
  },
  {
   "cell_type": "code",
   "execution_count": 65,
   "id": "fa424af1-d1eb-443d-b717-2d279ada8408",
   "metadata": {
    "execution": {
     "iopub.execute_input": "2025-07-30T20:52:47.507165Z",
     "iopub.status.busy": "2025-07-30T20:52:47.506303Z",
     "iopub.status.idle": "2025-07-30T20:52:47.511502Z",
     "shell.execute_reply": "2025-07-30T20:52:47.510562Z"
    },
    "papermill": {
     "duration": 0.035937,
     "end_time": "2025-07-30T20:52:47.513214",
     "exception": false,
     "start_time": "2025-07-30T20:52:47.477277",
     "status": "completed"
    },
    "tags": []
   },
   "outputs": [],
   "source": [
    "#delete\n",
    "#percentage = (cp_groups_df['nongerman_female'] == 1).mean() * 100\n",
    "#print(percentage)\n"
   ]
  },
  {
   "cell_type": "code",
   "execution_count": 66,
   "id": "6cbdab96-b2b2-45af-ad54-d0516db2e28d",
   "metadata": {
    "execution": {
     "iopub.execute_input": "2025-07-30T20:52:47.571281Z",
     "iopub.status.busy": "2025-07-30T20:52:47.570850Z",
     "iopub.status.idle": "2025-07-30T20:52:48.890390Z",
     "shell.execute_reply": "2025-07-30T20:52:48.889436Z"
    },
    "papermill": {
     "duration": 1.350956,
     "end_time": "2025-07-30T20:52:48.892282",
     "exception": false,
     "start_time": "2025-07-30T20:52:47.541326",
     "status": "completed"
    },
    "tags": []
   },
   "outputs": [],
   "source": [
    "# Define covered = 1 if true_label is in the predicted set\n",
    "cp_groups_df['covered'] = cp_groups_df.apply(\n",
    "    lambda r: int(r['true_label'] in r['pred_set']),\n",
    "    axis=1\n",
    ")"
   ]
  },
  {
   "cell_type": "code",
   "execution_count": 67,
   "id": "338ff529-1a6b-4b87-a931-8e4788d52aad",
   "metadata": {
    "execution": {
     "iopub.execute_input": "2025-07-30T20:52:48.946386Z",
     "iopub.status.busy": "2025-07-30T20:52:48.945742Z",
     "iopub.status.idle": "2025-07-30T20:52:48.950845Z",
     "shell.execute_reply": "2025-07-30T20:52:48.949922Z"
    },
    "papermill": {
     "duration": 0.033921,
     "end_time": "2025-07-30T20:52:48.952427",
     "exception": false,
     "start_time": "2025-07-30T20:52:48.918506",
     "status": "completed"
    },
    "tags": []
   },
   "outputs": [],
   "source": [
    "#cp_groups_df"
   ]
  },
  {
   "cell_type": "code",
   "execution_count": 68,
   "id": "90032e27-66df-4540-9169-4e89cfbaa758",
   "metadata": {
    "execution": {
     "iopub.execute_input": "2025-07-30T20:52:49.005795Z",
     "iopub.status.busy": "2025-07-30T20:52:49.005029Z",
     "iopub.status.idle": "2025-07-30T20:52:49.016494Z",
     "shell.execute_reply": "2025-07-30T20:52:49.015588Z"
    },
    "papermill": {
     "duration": 0.040403,
     "end_time": "2025-07-30T20:52:49.018131",
     "exception": false,
     "start_time": "2025-07-30T20:52:48.977728",
     "status": "completed"
    },
    "tags": []
   },
   "outputs": [],
   "source": [
    "subgroups = ['frau1','nongerman','nongerman_male','nongerman_female']\n",
    "\n",
    "# Conditional coverage for subgroup==1\n",
    "cond_coverage = {\n",
    "    g: cp_groups_df.loc[cp_groups_df[g]==1, 'covered'].mean()\n",
    "    for g in subgroups\n",
    "}"
   ]
  },
  {
   "cell_type": "code",
   "execution_count": 69,
   "id": "1e348fb1-b9c3-45bc-ba23-f016827a7e0d",
   "metadata": {
    "execution": {
     "iopub.execute_input": "2025-07-30T20:52:49.071934Z",
     "iopub.status.busy": "2025-07-30T20:52:49.070987Z",
     "iopub.status.idle": "2025-07-30T20:52:49.078538Z",
     "shell.execute_reply": "2025-07-30T20:52:49.077581Z"
    },
    "papermill": {
     "duration": 0.035954,
     "end_time": "2025-07-30T20:52:49.080055",
     "exception": false,
     "start_time": "2025-07-30T20:52:49.044101",
     "status": "completed"
    },
    "tags": []
   },
   "outputs": [
    {
     "data": {
      "text/plain": [
       "{'frau1': 0.9125219032214584,\n",
       " 'nongerman': 0.9110761803177455,\n",
       " 'nongerman_male': 0.9264162838872377,\n",
       " 'nongerman_female': 0.8856929955290611}"
      ]
     },
     "execution_count": 69,
     "metadata": {},
     "output_type": "execute_result"
    }
   ],
   "source": [
    "cond_coverage"
   ]
  },
  {
   "cell_type": "code",
   "execution_count": 70,
   "id": "f5093324-c3dd-4d63-bc4c-8d945e5c8bbb",
   "metadata": {
    "execution": {
     "iopub.execute_input": "2025-07-30T20:52:49.133983Z",
     "iopub.status.busy": "2025-07-30T20:52:49.133316Z",
     "iopub.status.idle": "2025-07-30T20:52:49.141308Z",
     "shell.execute_reply": "2025-07-30T20:52:49.140417Z"
    },
    "papermill": {
     "duration": 0.03678,
     "end_time": "2025-07-30T20:52:49.142877",
     "exception": false,
     "start_time": "2025-07-30T20:52:49.106097",
     "status": "completed"
    },
    "tags": []
   },
   "outputs": [],
   "source": [
    "for subgroup, cov in cond_coverage.items():\n",
    "    cp_metrics_df[f\"cov_{subgroup}\"] = cov"
   ]
  },
  {
   "cell_type": "code",
   "execution_count": 71,
   "id": "6e872e10-dbe5-49e8-b554-5030c98ff75d",
   "metadata": {
    "execution": {
     "iopub.execute_input": "2025-07-30T20:52:49.196984Z",
     "iopub.status.busy": "2025-07-30T20:52:49.196562Z",
     "iopub.status.idle": "2025-07-30T20:52:49.214825Z",
     "shell.execute_reply": "2025-07-30T20:52:49.213894Z"
    },
    "papermill": {
     "duration": 0.047755,
     "end_time": "2025-07-30T20:52:49.216434",
     "exception": false,
     "start_time": "2025-07-30T20:52:49.168679",
     "status": "completed"
    },
    "tags": []
   },
   "outputs": [
    {
     "data": {
      "text/html": [
       "<div>\n",
       "<style scoped>\n",
       "    .dataframe tbody tr th:only-of-type {\n",
       "        vertical-align: middle;\n",
       "    }\n",
       "\n",
       "    .dataframe tbody tr th {\n",
       "        vertical-align: top;\n",
       "    }\n",
       "\n",
       "    .dataframe thead th {\n",
       "        text-align: right;\n",
       "    }\n",
       "</style>\n",
       "<table border=\"1\" class=\"dataframe\">\n",
       "  <thead>\n",
       "    <tr style=\"text-align: right;\">\n",
       "      <th></th>\n",
       "      <th>universe_id</th>\n",
       "      <th>universe_training_year</th>\n",
       "      <th>universe_training_size</th>\n",
       "      <th>universe_scale</th>\n",
       "      <th>universe_model</th>\n",
       "      <th>universe_exclude_features</th>\n",
       "      <th>universe_exclude_subgroups</th>\n",
       "      <th>q_hat</th>\n",
       "      <th>coverage</th>\n",
       "      <th>avg_size</th>\n",
       "      <th>cov_frau1</th>\n",
       "      <th>cov_nongerman</th>\n",
       "      <th>cov_nongerman_male</th>\n",
       "      <th>cov_nongerman_female</th>\n",
       "    </tr>\n",
       "  </thead>\n",
       "  <tbody>\n",
       "    <tr>\n",
       "      <th>0</th>\n",
       "      <td>02a4110f0d94fa073e6c9651bf1c622f</td>\n",
       "      <td>2014</td>\n",
       "      <td>5k</td>\n",
       "      <td>do-not-scale</td>\n",
       "      <td>rf</td>\n",
       "      <td>nationality</td>\n",
       "      <td>drop-non-german</td>\n",
       "      <td>0.66</td>\n",
       "      <td>0.914168</td>\n",
       "      <td>1.142894</td>\n",
       "      <td>0.912522</td>\n",
       "      <td>0.911076</td>\n",
       "      <td>0.926416</td>\n",
       "      <td>0.885693</td>\n",
       "    </tr>\n",
       "  </tbody>\n",
       "</table>\n",
       "</div>"
      ],
      "text/plain": [
       "                        universe_id universe_training_year  \\\n",
       "0  02a4110f0d94fa073e6c9651bf1c622f                   2014   \n",
       "\n",
       "  universe_training_size universe_scale universe_model  \\\n",
       "0                     5k   do-not-scale             rf   \n",
       "\n",
       "  universe_exclude_features universe_exclude_subgroups  q_hat  coverage  \\\n",
       "0               nationality            drop-non-german   0.66  0.914168   \n",
       "\n",
       "   avg_size  cov_frau1  cov_nongerman  cov_nongerman_male  \\\n",
       "0  1.142894   0.912522       0.911076            0.926416   \n",
       "\n",
       "   cov_nongerman_female  \n",
       "0              0.885693  "
      ]
     },
     "execution_count": 71,
     "metadata": {},
     "output_type": "execute_result"
    }
   ],
   "source": [
    "cp_metrics_df"
   ]
  },
  {
   "cell_type": "markdown",
   "id": "33774451",
   "metadata": {
    "papermill": {
     "duration": 0.026646,
     "end_time": "2025-07-30T20:52:49.270089",
     "exception": false,
     "start_time": "2025-07-30T20:52:49.243443",
     "status": "completed"
    },
    "tags": []
   },
   "source": [
    "# (Fairness) Metrics"
   ]
  },
  {
   "cell_type": "code",
   "execution_count": 72,
   "id": "debc5d62",
   "metadata": {
    "execution": {
     "iopub.execute_input": "2025-07-30T20:52:49.324180Z",
     "iopub.status.busy": "2025-07-30T20:52:49.323489Z",
     "iopub.status.idle": "2025-07-30T20:52:49.344158Z",
     "shell.execute_reply": "2025-07-30T20:52:49.343102Z"
    },
    "papermill": {
     "duration": 0.050128,
     "end_time": "2025-07-30T20:52:49.345946",
     "exception": false,
     "start_time": "2025-07-30T20:52:49.295818",
     "status": "completed"
    },
    "tags": []
   },
   "outputs": [],
   "source": [
    "# do I need to include maxdeutsch1.missing?\n",
    "\n",
    "import numpy as np\n",
    "\n",
    "colname_to_bin = \"maxdeutsch1\"\n",
    "majority_value = org_train[colname_to_bin].mode()[0]\n",
    "\n",
    "org_test[\"majmin\"] = np.where(org_test[colname_to_bin] == majority_value, \"majority\", \"minority\")"
   ]
  },
  {
   "cell_type": "code",
   "execution_count": 73,
   "id": "06a50de5",
   "metadata": {
    "execution": {
     "iopub.execute_input": "2025-07-30T20:52:49.401658Z",
     "iopub.status.busy": "2025-07-30T20:52:49.401008Z",
     "iopub.status.idle": "2025-07-30T20:52:51.875325Z",
     "shell.execute_reply": "2025-07-30T20:52:51.874567Z"
    },
    "papermill": {
     "duration": 2.503866,
     "end_time": "2025-07-30T20:52:51.876874",
     "exception": false,
     "start_time": "2025-07-30T20:52:49.373008",
     "status": "completed"
    },
    "tags": []
   },
   "outputs": [],
   "source": [
    "example_universe = universe.copy()\n",
    "example_universe[\"cutoff\"] = example_universe[\"cutoff\"][0]\n",
    "example_universe[\"eval_fairness_grouping\"] = example_universe[\"eval_fairness_grouping\"][0]\n",
    "fairness_dict, metric_frame = universe_analysis.compute_metrics(\n",
    "    example_universe,\n",
    "    y_pred_prob=probs_test,\n",
    "    y_test=y_true,\n",
    "    org_test=org_test,\n",
    ")"
   ]
  },
  {
   "cell_type": "markdown",
   "id": "f95d4e02",
   "metadata": {
    "papermill": {
     "duration": 0.014139,
     "end_time": "2025-07-30T20:52:51.907865",
     "exception": false,
     "start_time": "2025-07-30T20:52:51.893726",
     "status": "completed"
    },
    "tags": []
   },
   "source": [
    "# Overall"
   ]
  },
  {
   "cell_type": "markdown",
   "id": "bdee4871",
   "metadata": {
    "papermill": {
     "duration": 0.01363,
     "end_time": "2025-07-30T20:52:51.934867",
     "exception": false,
     "start_time": "2025-07-30T20:52:51.921237",
     "status": "completed"
    },
    "tags": []
   },
   "source": [
    "Fairness\n",
    "Main fairness target: Equalized Odds. Seems to be a better fit than equal opportunity, since we're not only interested in Y = 1. Seems to be a better fit than demographic parity, since we also care about accuracy, not just equal distribution of preds.\n",
    "\n",
    "Pick column for computation of fairness metrics\n",
    "\n",
    "Performance\n",
    "Overall performance measures, most interesting in relation to the measures split by group below"
   ]
  },
  {
   "cell_type": "code",
   "execution_count": 74,
   "id": "c4e067c6",
   "metadata": {
    "execution": {
     "iopub.execute_input": "2025-07-30T20:52:51.963481Z",
     "iopub.status.busy": "2025-07-30T20:52:51.962985Z",
     "iopub.status.idle": "2025-07-30T20:52:51.970381Z",
     "shell.execute_reply": "2025-07-30T20:52:51.969636Z"
    },
    "papermill": {
     "duration": 0.023403,
     "end_time": "2025-07-30T20:52:51.971677",
     "exception": false,
     "start_time": "2025-07-30T20:52:51.948274",
     "status": "completed"
    },
    "tags": []
   },
   "outputs": [
    {
     "data": {
      "text/plain": [
       "accuracy                   0.193345\n",
       "balanced accuracy          0.531540\n",
       "f1                         0.238816\n",
       "precision                  0.135853\n",
       "false positive rate        0.923365\n",
       "false negative rate        0.013556\n",
       "selection rate             0.931457\n",
       "count                  89710.000000\n",
       "dtype: float64"
      ]
     },
     "execution_count": 74,
     "metadata": {},
     "output_type": "execute_result"
    }
   ],
   "source": [
    "metric_frame.overall"
   ]
  },
  {
   "cell_type": "markdown",
   "id": "e968fe9d",
   "metadata": {
    "papermill": {
     "duration": 0.013755,
     "end_time": "2025-07-30T20:52:52.000693",
     "exception": false,
     "start_time": "2025-07-30T20:52:51.986938",
     "status": "completed"
    },
    "tags": []
   },
   "source": [
    "By Group"
   ]
  },
  {
   "cell_type": "code",
   "execution_count": 75,
   "id": "ec325bce",
   "metadata": {
    "execution": {
     "iopub.execute_input": "2025-07-30T20:52:52.031194Z",
     "iopub.status.busy": "2025-07-30T20:52:52.030691Z",
     "iopub.status.idle": "2025-07-30T20:52:52.042915Z",
     "shell.execute_reply": "2025-07-30T20:52:52.042235Z"
    },
    "papermill": {
     "duration": 0.029251,
     "end_time": "2025-07-30T20:52:52.044250",
     "exception": false,
     "start_time": "2025-07-30T20:52:52.014999",
     "status": "completed"
    },
    "tags": []
   },
   "outputs": [
    {
     "data": {
      "text/html": [
       "<div>\n",
       "<style scoped>\n",
       "    .dataframe tbody tr th:only-of-type {\n",
       "        vertical-align: middle;\n",
       "    }\n",
       "\n",
       "    .dataframe tbody tr th {\n",
       "        vertical-align: top;\n",
       "    }\n",
       "\n",
       "    .dataframe thead th {\n",
       "        text-align: right;\n",
       "    }\n",
       "</style>\n",
       "<table border=\"1\" class=\"dataframe\">\n",
       "  <thead>\n",
       "    <tr style=\"text-align: right;\">\n",
       "      <th></th>\n",
       "      <th>accuracy</th>\n",
       "      <th>balanced accuracy</th>\n",
       "      <th>f1</th>\n",
       "      <th>precision</th>\n",
       "      <th>false positive rate</th>\n",
       "      <th>false negative rate</th>\n",
       "      <th>selection rate</th>\n",
       "      <th>count</th>\n",
       "    </tr>\n",
       "    <tr>\n",
       "      <th>majmin</th>\n",
       "      <th></th>\n",
       "      <th></th>\n",
       "      <th></th>\n",
       "      <th></th>\n",
       "      <th></th>\n",
       "      <th></th>\n",
       "      <th></th>\n",
       "      <th></th>\n",
       "    </tr>\n",
       "  </thead>\n",
       "  <tbody>\n",
       "    <tr>\n",
       "      <th>majority</th>\n",
       "      <td>0.199624</td>\n",
       "      <td>0.534289</td>\n",
       "      <td>0.246201</td>\n",
       "      <td>0.140598</td>\n",
       "      <td>0.920590</td>\n",
       "      <td>0.010832</td>\n",
       "      <td>0.929652</td>\n",
       "      <td>69170.0</td>\n",
       "    </tr>\n",
       "    <tr>\n",
       "      <th>minority</th>\n",
       "      <td>0.172201</td>\n",
       "      <td>0.521698</td>\n",
       "      <td>0.213734</td>\n",
       "      <td>0.120008</td>\n",
       "      <td>0.932534</td>\n",
       "      <td>0.024071</td>\n",
       "      <td>0.937537</td>\n",
       "      <td>20540.0</td>\n",
       "    </tr>\n",
       "  </tbody>\n",
       "</table>\n",
       "</div>"
      ],
      "text/plain": [
       "          accuracy  balanced accuracy        f1  precision  \\\n",
       "majmin                                                       \n",
       "majority  0.199624           0.534289  0.246201   0.140598   \n",
       "minority  0.172201           0.521698  0.213734   0.120008   \n",
       "\n",
       "          false positive rate  false negative rate  selection rate    count  \n",
       "majmin                                                                       \n",
       "majority             0.920590             0.010832        0.929652  69170.0  \n",
       "minority             0.932534             0.024071        0.937537  20540.0  "
      ]
     },
     "execution_count": 75,
     "metadata": {},
     "output_type": "execute_result"
    }
   ],
   "source": [
    "metric_frame.by_group"
   ]
  },
  {
   "cell_type": "code",
   "execution_count": 76,
   "id": "a9ddbe63",
   "metadata": {
    "execution": {
     "iopub.execute_input": "2025-07-30T20:52:52.074737Z",
     "iopub.status.busy": "2025-07-30T20:52:52.074223Z",
     "iopub.status.idle": "2025-07-30T20:52:53.801214Z",
     "shell.execute_reply": "2025-07-30T20:52:53.800477Z"
    },
    "papermill": {
     "duration": 1.743331,
     "end_time": "2025-07-30T20:52:53.802579",
     "exception": false,
     "start_time": "2025-07-30T20:52:52.059248",
     "status": "completed"
    },
    "tags": []
   },
   "outputs": [
    {
     "data": {
      "text/plain": [
       "array([[<Axes: title={'center': 'accuracy'}, xlabel='majmin'>,\n",
       "        <Axes: title={'center': 'balanced accuracy'}, xlabel='majmin'>,\n",
       "        <Axes: title={'center': 'f1'}, xlabel='majmin'>],\n",
       "       [<Axes: title={'center': 'precision'}, xlabel='majmin'>,\n",
       "        <Axes: title={'center': 'false positive rate'}, xlabel='majmin'>,\n",
       "        <Axes: title={'center': 'false negative rate'}, xlabel='majmin'>],\n",
       "       [<Axes: title={'center': 'selection rate'}, xlabel='majmin'>,\n",
       "        <Axes: title={'center': 'count'}, xlabel='majmin'>,\n",
       "        <Axes: xlabel='majmin'>]], dtype=object)"
      ]
     },
     "execution_count": 76,
     "metadata": {},
     "output_type": "execute_result"
    },
    {
     "data": {
      "image/png": "[encoded data removed]",
      "text/plain": [
       "<Figure size 1200x800 with 9 Axes>"
      ]
     },
     "metadata": {},
     "output_type": "display_data"
    }
   ],
   "source": [
    "# In a graphic\n",
    "metric_frame.by_group.plot.bar(\n",
    "    subplots=True,\n",
    "    layout=[3, 3],\n",
    "    legend=False,\n",
    "    figsize=[12, 8],\n",
    "    title=\"Show all metrics\",\n",
    ")"
   ]
  },
  {
   "cell_type": "markdown",
   "id": "f57a0bac",
   "metadata": {
    "papermill": {
     "duration": 0.029365,
     "end_time": "2025-07-30T20:52:53.858333",
     "exception": false,
     "start_time": "2025-07-30T20:52:53.828968",
     "status": "completed"
    },
    "tags": []
   },
   "source": [
    "# Final Output"
   ]
  },
  {
   "cell_type": "code",
   "execution_count": 77,
   "id": "96d280a3",
   "metadata": {
    "execution": {
     "iopub.execute_input": "2025-07-30T20:52:53.911638Z",
     "iopub.status.busy": "2025-07-30T20:52:53.911177Z",
     "iopub.status.idle": "2025-07-30T20:52:53.918488Z",
     "shell.execute_reply": "2025-07-30T20:52:53.917743Z"
    },
    "papermill": {
     "duration": 0.032573,
     "end_time": "2025-07-30T20:52:53.919828",
     "exception": false,
     "start_time": "2025-07-30T20:52:53.887255",
     "status": "completed"
    },
    "tags": []
   },
   "outputs": [
    {
     "data": {
      "text/plain": [
       "4"
      ]
     },
     "execution_count": 77,
     "metadata": {},
     "output_type": "execute_result"
    }
   ],
   "source": [
    "sub_universes = universe_analysis.generate_sub_universes()\n",
    "len(sub_universes)"
   ]
  },
  {
   "cell_type": "code",
   "execution_count": 78,
   "id": "92adf7ba",
   "metadata": {
    "execution": {
     "iopub.execute_input": "2025-07-30T20:52:53.955413Z",
     "iopub.status.busy": "2025-07-30T20:52:53.954877Z",
     "iopub.status.idle": "2025-07-30T20:52:54.074849Z",
     "shell.execute_reply": "2025-07-30T20:52:54.074018Z"
    },
    "papermill": {
     "duration": 0.137975,
     "end_time": "2025-07-30T20:52:54.076411",
     "exception": false,
     "start_time": "2025-07-30T20:52:53.938436",
     "status": "completed"
    },
    "tags": []
   },
   "outputs": [],
   "source": [
    "def filter_sub_universe_data(sub_universe, org_test):\n",
    "    # Keep all rows — no filtering\n",
    "    keep_rows_mask = np.ones(org_test.shape[0], dtype=bool)\n",
    "\n",
    "    print(f\"[INFO] Keeping all rows: {keep_rows_mask.sum()} rows retained.\")\n",
    "    return keep_rows_mask"
   ]
  },
  {
   "cell_type": "code",
   "execution_count": 79,
   "id": "4a759155",
   "metadata": {
    "execution": {
     "iopub.execute_input": "2025-07-30T20:52:54.111893Z",
     "iopub.status.busy": "2025-07-30T20:52:54.111539Z",
     "iopub.status.idle": "2025-07-30T20:53:04.480780Z",
     "shell.execute_reply": "2025-07-30T20:53:04.479894Z"
    },
    "papermill": {
     "duration": 10.387972,
     "end_time": "2025-07-30T20:53:04.482011",
     "exception": false,
     "start_time": "2025-07-30T20:52:54.094039",
     "status": "completed"
    },
    "tags": []
   },
   "outputs": [
    {
     "name": "stdout",
     "output_type": "stream",
     "text": [
      "Stopping execution_time clock.\n",
      "[INFO] Keeping all rows: 89710 rows retained.\n"
     ]
    },
    {
     "name": "stdout",
     "output_type": "stream",
     "text": [
      "[INFO] Keeping all rows: 89710 rows retained.\n"
     ]
    },
    {
     "name": "stdout",
     "output_type": "stream",
     "text": [
      "[INFO] Keeping all rows: 89710 rows retained.\n"
     ]
    },
    {
     "name": "stdout",
     "output_type": "stream",
     "text": [
      "[INFO] Keeping all rows: 89710 rows retained.\n"
     ]
    },
    {
     "data": {
      "text/html": [
       "<div>\n",
       "<style scoped>\n",
       "    .dataframe tbody tr th:only-of-type {\n",
       "        vertical-align: middle;\n",
       "    }\n",
       "\n",
       "    .dataframe tbody tr th {\n",
       "        vertical-align: top;\n",
       "    }\n",
       "\n",
       "    .dataframe thead th {\n",
       "        text-align: right;\n",
       "    }\n",
       "</style>\n",
       "<table border=\"1\" class=\"dataframe\">\n",
       "  <thead>\n",
       "    <tr style=\"text-align: right;\">\n",
       "      <th></th>\n",
       "      <th>run_no</th>\n",
       "      <th>universe_id</th>\n",
       "      <th>universe_settings</th>\n",
       "      <th>execution_time</th>\n",
       "      <th>test_size_n</th>\n",
       "      <th>test_size_frac</th>\n",
       "      <th>fair_main_equalized_odds_difference</th>\n",
       "      <th>fair_main_equalized_odds_ratio</th>\n",
       "      <th>fair_main_demographic_parity_difference</th>\n",
       "      <th>fair_main_demographic_parity_ratio</th>\n",
       "      <th>...</th>\n",
       "      <th>perf_grp_precision_0</th>\n",
       "      <th>perf_grp_precision_1</th>\n",
       "      <th>perf_grp_false positive rate_0</th>\n",
       "      <th>perf_grp_false positive rate_1</th>\n",
       "      <th>perf_grp_false negative rate_0</th>\n",
       "      <th>perf_grp_false negative rate_1</th>\n",
       "      <th>perf_grp_selection rate_0</th>\n",
       "      <th>perf_grp_selection rate_1</th>\n",
       "      <th>perf_grp_count_0</th>\n",
       "      <th>perf_grp_count_1</th>\n",
       "    </tr>\n",
       "  </thead>\n",
       "  <tbody>\n",
       "    <tr>\n",
       "      <th>0</th>\n",
       "      <td>14</td>\n",
       "      <td>02a4110f0d94fa073e6c9651bf1c622f</td>\n",
       "      <td>{\"cutoff\": \"quantile_0.1\", \"eval_fairness_grou...</td>\n",
       "      <td>31.08844</td>\n",
       "      <td>89710</td>\n",
       "      <td>1.0</td>\n",
       "      <td>0.013239</td>\n",
       "      <td>0.986616</td>\n",
       "      <td>0.007885</td>\n",
       "      <td>0.991590</td>\n",
       "      <td>...</td>\n",
       "      <td>NaN</td>\n",
       "      <td>NaN</td>\n",
       "      <td>NaN</td>\n",
       "      <td>NaN</td>\n",
       "      <td>NaN</td>\n",
       "      <td>NaN</td>\n",
       "      <td>NaN</td>\n",
       "      <td>NaN</td>\n",
       "      <td>NaN</td>\n",
       "      <td>NaN</td>\n",
       "    </tr>\n",
       "    <tr>\n",
       "      <th>0</th>\n",
       "      <td>14</td>\n",
       "      <td>02a4110f0d94fa073e6c9651bf1c622f</td>\n",
       "      <td>{\"cutoff\": \"quantile_0.1\", \"eval_fairness_grou...</td>\n",
       "      <td>31.08844</td>\n",
       "      <td>89710</td>\n",
       "      <td>1.0</td>\n",
       "      <td>0.013239</td>\n",
       "      <td>0.986616</td>\n",
       "      <td>0.007885</td>\n",
       "      <td>0.991590</td>\n",
       "      <td>...</td>\n",
       "      <td>0.120008</td>\n",
       "      <td>0.140598</td>\n",
       "      <td>0.932534</td>\n",
       "      <td>0.920590</td>\n",
       "      <td>0.024071</td>\n",
       "      <td>0.010832</td>\n",
       "      <td>0.937537</td>\n",
       "      <td>0.929652</td>\n",
       "      <td>20540.0</td>\n",
       "      <td>69170.0</td>\n",
       "    </tr>\n",
       "    <tr>\n",
       "      <th>0</th>\n",
       "      <td>14</td>\n",
       "      <td>02a4110f0d94fa073e6c9651bf1c622f</td>\n",
       "      <td>{\"cutoff\": \"quantile_0.25\", \"eval_fairness_gro...</td>\n",
       "      <td>31.08844</td>\n",
       "      <td>89710</td>\n",
       "      <td>1.0</td>\n",
       "      <td>0.030259</td>\n",
       "      <td>0.960212</td>\n",
       "      <td>0.019918</td>\n",
       "      <td>0.974407</td>\n",
       "      <td>...</td>\n",
       "      <td>NaN</td>\n",
       "      <td>NaN</td>\n",
       "      <td>NaN</td>\n",
       "      <td>NaN</td>\n",
       "      <td>NaN</td>\n",
       "      <td>NaN</td>\n",
       "      <td>NaN</td>\n",
       "      <td>NaN</td>\n",
       "      <td>NaN</td>\n",
       "      <td>NaN</td>\n",
       "    </tr>\n",
       "    <tr>\n",
       "      <th>0</th>\n",
       "      <td>14</td>\n",
       "      <td>02a4110f0d94fa073e6c9651bf1c622f</td>\n",
       "      <td>{\"cutoff\": \"quantile_0.25\", \"eval_fairness_gro...</td>\n",
       "      <td>31.08844</td>\n",
       "      <td>89710</td>\n",
       "      <td>1.0</td>\n",
       "      <td>0.030259</td>\n",
       "      <td>0.960212</td>\n",
       "      <td>0.019918</td>\n",
       "      <td>0.974407</td>\n",
       "      <td>...</td>\n",
       "      <td>0.135439</td>\n",
       "      <td>0.164261</td>\n",
       "      <td>0.760511</td>\n",
       "      <td>0.730252</td>\n",
       "      <td>0.085726</td>\n",
       "      <td>0.057330</td>\n",
       "      <td>0.778238</td>\n",
       "      <td>0.758320</td>\n",
       "      <td>20540.0</td>\n",
       "      <td>69170.0</td>\n",
       "    </tr>\n",
       "  </tbody>\n",
       "</table>\n",
       "<p>4 rows × 50 columns</p>\n",
       "</div>"
      ],
      "text/plain": [
       "  run_no                       universe_id  \\\n",
       "0     14  02a4110f0d94fa073e6c9651bf1c622f   \n",
       "0     14  02a4110f0d94fa073e6c9651bf1c622f   \n",
       "0     14  02a4110f0d94fa073e6c9651bf1c622f   \n",
       "0     14  02a4110f0d94fa073e6c9651bf1c622f   \n",
       "\n",
       "                                   universe_settings  execution_time  \\\n",
       "0  {\"cutoff\": \"quantile_0.1\", \"eval_fairness_grou...        31.08844   \n",
       "0  {\"cutoff\": \"quantile_0.1\", \"eval_fairness_grou...        31.08844   \n",
       "0  {\"cutoff\": \"quantile_0.25\", \"eval_fairness_gro...        31.08844   \n",
       "0  {\"cutoff\": \"quantile_0.25\", \"eval_fairness_gro...        31.08844   \n",
       "\n",
       "   test_size_n  test_size_frac  fair_main_equalized_odds_difference  \\\n",
       "0        89710             1.0                             0.013239   \n",
       "0        89710             1.0                             0.013239   \n",
       "0        89710             1.0                             0.030259   \n",
       "0        89710             1.0                             0.030259   \n",
       "\n",
       "   fair_main_equalized_odds_ratio  fair_main_demographic_parity_difference  \\\n",
       "0                        0.986616                                 0.007885   \n",
       "0                        0.986616                                 0.007885   \n",
       "0                        0.960212                                 0.019918   \n",
       "0                        0.960212                                 0.019918   \n",
       "\n",
       "   fair_main_demographic_parity_ratio  ...  perf_grp_precision_0  \\\n",
       "0                            0.991590  ...                   NaN   \n",
       "0                            0.991590  ...              0.120008   \n",
       "0                            0.974407  ...                   NaN   \n",
       "0                            0.974407  ...              0.135439   \n",
       "\n",
       "   perf_grp_precision_1  perf_grp_false positive rate_0  \\\n",
       "0                   NaN                             NaN   \n",
       "0              0.140598                        0.932534   \n",
       "0                   NaN                             NaN   \n",
       "0              0.164261                        0.760511   \n",
       "\n",
       "   perf_grp_false positive rate_1  perf_grp_false negative rate_0  \\\n",
       "0                             NaN                             NaN   \n",
       "0                        0.920590                        0.024071   \n",
       "0                             NaN                             NaN   \n",
       "0                        0.730252                        0.085726   \n",
       "\n",
       "   perf_grp_false negative rate_1  perf_grp_selection rate_0  \\\n",
       "0                             NaN                        NaN   \n",
       "0                        0.010832                   0.937537   \n",
       "0                             NaN                        NaN   \n",
       "0                        0.057330                   0.778238   \n",
       "\n",
       "   perf_grp_selection rate_1  perf_grp_count_0  perf_grp_count_1  \n",
       "0                        NaN               NaN               NaN  \n",
       "0                   0.929652           20540.0           69170.0  \n",
       "0                        NaN               NaN               NaN  \n",
       "0                   0.758320           20540.0           69170.0  \n",
       "\n",
       "[4 rows x 50 columns]"
      ]
     },
     "execution_count": 79,
     "metadata": {},
     "output_type": "execute_result"
    }
   ],
   "source": [
    "final_output = universe_analysis.generate_final_output(\n",
    "    y_pred_prob=probs_test,\n",
    "    y_test=y_true,\n",
    "    org_test=org_test,\n",
    "    filter_data=filter_sub_universe_data,\n",
    "    cp_metrics_df=cp_metrics_df,\n",
    "    save=True,\n",
    ")\n",
    "final_output"
   ]
  },
  {
   "cell_type": "code",
   "execution_count": null,
   "id": "721ff514-cb11-46f8-b6fc-50392f74b5cb",
   "metadata": {
    "papermill": {
     "duration": 0.015603,
     "end_time": "2025-07-30T20:53:04.516913",
     "exception": false,
     "start_time": "2025-07-30T20:53:04.501310",
     "status": "completed"
    },
    "tags": []
   },
   "outputs": [],
   "source": []
  }
 ],
 "metadata": {
  "celltoolbar": "Tags",
  "kernelspec": {
   "display_name": "Python (CMA Fairness)",
   "language": "python",
   "name": "cma_fair_env"
  },
  "language_info": {
   "codemirror_mode": {
    "name": "ipython",
    "version": 3
   },
   "file_extension": ".py",
   "mimetype": "text/x-python",
   "name": "python",
   "nbconvert_exporter": "python",
   "pygments_lexer": "ipython3",
   "version": "3.10.12"
  },
  "papermill": {
   "default_parameters": {},
   "duration": 45.780975,
   "end_time": "2025-07-30T20:53:05.250250",
   "environment_variables": {},
   "exception": null,
   "input_path": "universe_analysis.ipynb",
   "output_path": "output/runs/14/notebooks/m_14-02a4110f0d94fa073e6c9651bf1c622f.ipynb",
   "parameters": {
    "output_dir": "output",
    "run_no": "14",
    "seed": "2023",
    "universe": "{\"cutoff\": [\"quantile_0.1\", \"quantile_0.25\"], \"eval_fairness_grouping\": [\"majority-minority\", \"nationality-all\"], \"exclude_features\": \"nationality\", \"exclude_subgroups\": \"drop-non-german\", \"model\": \"rf\", \"scale\": \"do-not-scale\", \"training_size\": \"5k\", \"training_year\": \"2014\"}",
    "universe_id": "02a4110f0d94fa073e6c9651bf1c622f"
   },
   "start_time": "2025-07-30T20:52:19.469275",
   "version": "2.6.0"
  }
 },
 "nbformat": 4,
 "nbformat_minor": 5
}