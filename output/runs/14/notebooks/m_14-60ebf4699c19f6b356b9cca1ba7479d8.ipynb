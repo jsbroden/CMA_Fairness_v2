{
 "cells": [
  {
   "cell_type": "code",
   "execution_count": 1,
   "id": "f159f837-637b-42ba-96b5-ec9a68c44524",
   "metadata": {
    "execution": {
     "iopub.execute_input": "2025-07-30T20:02:25.726901Z",
     "iopub.status.busy": "2025-07-30T20:02:25.726266Z",
     "iopub.status.idle": "2025-07-30T20:02:25.739471Z",
     "shell.execute_reply": "2025-07-30T20:02:25.738430Z"
    },
    "papermill": {
     "duration": 0.03465,
     "end_time": "2025-07-30T20:02:25.741089",
     "exception": false,
     "start_time": "2025-07-30T20:02:25.706439",
     "status": "completed"
    },
    "tags": []
   },
   "outputs": [
    {
     "name": "stdout",
     "output_type": "stream",
     "text": [
      "/dss/dsshome1/0C/ra93lal2/cma/CMA_Fairness_v2\n"
     ]
    },
    {
     "name": "stderr",
     "output_type": "stream",
     "text": [
      "/dss/dsshome1/0C/ra93lal2/.local/share/virtualenvs/CMA_Fairness_v2-3j10GkSs/lib/python3.10/site-packages/IPython/core/magics/osm.py:393: UserWarning: This is now an optional IPython functionality, using bookmarks requires you to install the `pickleshare` library.\n",
      "  bkms = self.shell.db.get('bookmarks', {})\n",
      "/dss/dsshome1/0C/ra93lal2/.local/share/virtualenvs/CMA_Fairness_v2-3j10GkSs/lib/python3.10/site-packages/IPython/core/magics/osm.py:417: UserWarning: This is now an optional IPython functionality, setting dhist requires you to install the `pickleshare` library.\n",
      "  self.shell.db['dhist'] = compress_dhist(dhist)[-100:]\n"
     ]
    }
   ],
   "source": [
    "%cd ~/cma/CMA_Fairness_v2"
   ]
  },
  {
   "cell_type": "markdown",
   "id": "de2603b9",
   "metadata": {
    "papermill": {
     "duration": 0.017744,
     "end_time": "2025-07-30T20:02:25.777230",
     "exception": false,
     "start_time": "2025-07-30T20:02:25.759486",
     "status": "completed"
    },
    "tags": []
   },
   "source": [
    "The following cell holds the definition of our parameters, these values can be overriden by rendering the with e.g. the following command:\n",
    "\n",
    "papermill -p alpha 0.2 -p ratio 0.3 universe_analysis.ipynb output/test_run.ipynb"
   ]
  },
  {
   "cell_type": "code",
   "execution_count": 2,
   "id": "a80968a0-40bb-4fa9-85ef-2d5eefb01975",
   "metadata": {
    "execution": {
     "iopub.execute_input": "2025-07-30T20:02:25.815272Z",
     "iopub.status.busy": "2025-07-30T20:02:25.814638Z",
     "iopub.status.idle": "2025-07-30T20:02:25.820375Z",
     "shell.execute_reply": "2025-07-30T20:02:25.819499Z"
    },
    "papermill": {
     "duration": 0.026544,
     "end_time": "2025-07-30T20:02:25.821806",
     "exception": false,
     "start_time": "2025-07-30T20:02:25.795262",
     "status": "completed"
    },
    "tags": []
   },
   "outputs": [
    {
     "name": "stdout",
     "output_type": "stream",
     "text": [
      "Current working directory: /dss/dsshome1/0C/ra93lal2/cma/CMA_Fairness_v2\n"
     ]
    }
   ],
   "source": [
    "import os\n",
    "print(\"Current working directory:\", os.getcwd())"
   ]
  },
  {
   "cell_type": "code",
   "execution_count": 3,
   "id": "2dce4c03",
   "metadata": {
    "execution": {
     "iopub.execute_input": "2025-07-30T20:02:25.860614Z",
     "iopub.status.busy": "2025-07-30T20:02:25.860231Z",
     "iopub.status.idle": "2025-07-30T20:02:25.866143Z",
     "shell.execute_reply": "2025-07-30T20:02:25.865199Z"
    },
    "papermill": {
     "duration": 0.026906,
     "end_time": "2025-07-30T20:02:25.867647",
     "exception": false,
     "start_time": "2025-07-30T20:02:25.840741",
     "status": "completed"
    },
    "tags": [
     "parameters"
    ]
   },
   "outputs": [],
   "source": [
    "run_no = 0\n",
    "universe_id = \"test\"\n",
    "universe = {\n",
    "    \"training_size\": \"25k\", # \"25k\", \"5k\", \"1k\"\n",
    "    \"training_year\": \"2014\", # \"2014\", \"2012_14\", \"2010_14\"\n",
    "    \"scale\": \"scale\", # \"scale\", \"do-not-scale\",\n",
    "    #\"stratify_split\": \"target\", # \"none\", \"target\", \"protected-attribute\", \"both\",\n",
    "    \"model\": \"elasticnet\", # \"logreg\", \"penalized_logreg\", \"rf\", \"gbm\", \"elasticnet\"\n",
    "    \"cutoff\": [\"quantile_0.15\", \"quantile_0.30\"],\n",
    "    \"exclude_features\": \"age\", # \"none\", \"nationality\", \"sex\", \"nationality-sex\", \"age\"\n",
    "    \"exclude_subgroups\": \"keep-all\", # \"keep-all\", \"drop-non-german\"\n",
    "    \"eval_fairness_grouping\": [\"majority-minority\", \"nationality-all\"]\n",
    "}\n",
    "\n",
    "output_dir=\"./output\"\n",
    "seed=0"
   ]
  },
  {
   "cell_type": "code",
   "execution_count": 4,
   "id": "1b046f29",
   "metadata": {
    "execution": {
     "iopub.execute_input": "2025-07-30T20:02:25.908279Z",
     "iopub.status.busy": "2025-07-30T20:02:25.907344Z",
     "iopub.status.idle": "2025-07-30T20:02:25.912376Z",
     "shell.execute_reply": "2025-07-30T20:02:25.911552Z"
    },
    "papermill": {
     "duration": 0.026981,
     "end_time": "2025-07-30T20:02:25.913918",
     "exception": false,
     "start_time": "2025-07-30T20:02:25.886937",
     "status": "completed"
    },
    "tags": [
     "injected-parameters"
    ]
   },
   "outputs": [],
   "source": [
    "# Parameters\n",
    "universe_id = \"60ebf4699c19f6b356b9cca1ba7479d8\"\n",
    "run_no = \"14\"\n",
    "universe = \"{\\\"cutoff\\\": [\\\"quantile_0.1\\\", \\\"quantile_0.25\\\"], \\\"eval_fairness_grouping\\\": [\\\"majority-minority\\\", \\\"nationality-all\\\"], \\\"exclude_features\\\": \\\"nationality-sex\\\", \\\"exclude_subgroups\\\": \\\"keep-all\\\", \\\"model\\\": \\\"elasticnet\\\", \\\"scale\\\": \\\"do-not-scale\\\", \\\"training_size\\\": \\\"25k\\\", \\\"training_year\\\": \\\"2014\\\"}\"\n",
    "output_dir = \"output\"\n",
    "seed = \"2023\"\n"
   ]
  },
  {
   "cell_type": "code",
   "execution_count": 5,
   "id": "1650acaf",
   "metadata": {
    "execution": {
     "iopub.execute_input": "2025-07-30T20:02:25.953237Z",
     "iopub.status.busy": "2025-07-30T20:02:25.952892Z",
     "iopub.status.idle": "2025-07-30T20:02:25.957207Z",
     "shell.execute_reply": "2025-07-30T20:02:25.956365Z"
    },
    "papermill": {
     "duration": 0.026357,
     "end_time": "2025-07-30T20:02:25.958655",
     "exception": false,
     "start_time": "2025-07-30T20:02:25.932298",
     "status": "completed"
    },
    "tags": []
   },
   "outputs": [],
   "source": [
    "import json\n",
    "# Parse universe into dict if it is passed as a string\n",
    "if isinstance(universe, str):\n",
    "    universe = json.loads(universe)"
   ]
  },
  {
   "cell_type": "code",
   "execution_count": 6,
   "id": "16620c48",
   "metadata": {
    "execution": {
     "iopub.execute_input": "2025-07-30T20:02:25.997260Z",
     "iopub.status.busy": "2025-07-30T20:02:25.996325Z",
     "iopub.status.idle": "2025-07-30T20:02:26.039003Z",
     "shell.execute_reply": "2025-07-30T20:02:26.038017Z"
    },
    "papermill": {
     "duration": 0.063925,
     "end_time": "2025-07-30T20:02:26.040912",
     "exception": false,
     "start_time": "2025-07-30T20:02:25.976987",
     "status": "completed"
    },
    "tags": []
   },
   "outputs": [],
   "source": [
    "# Auto-reload the custom package\n",
    "%load_ext autoreload\n",
    "%autoreload 1\n",
    "%aimport fairness_multiverse"
   ]
  },
  {
   "cell_type": "code",
   "execution_count": 7,
   "id": "01c5c9f3",
   "metadata": {
    "execution": {
     "iopub.execute_input": "2025-07-30T20:02:26.082049Z",
     "iopub.status.busy": "2025-07-30T20:02:26.081416Z",
     "iopub.status.idle": "2025-07-30T20:02:27.998847Z",
     "shell.execute_reply": "2025-07-30T20:02:27.997940Z"
    },
    "papermill": {
     "duration": 1.939366,
     "end_time": "2025-07-30T20:02:28.000700",
     "exception": false,
     "start_time": "2025-07-30T20:02:26.061334",
     "status": "completed"
    },
    "tags": []
   },
   "outputs": [],
   "source": [
    "from fairness_multiverse.universe import UniverseAnalysis\n",
    "\n",
    "universe_analysis = UniverseAnalysis(\n",
    "    run_no = run_no,\n",
    "    universe_id = universe_id,\n",
    "    universe = universe,\n",
    "    output_dir=output_dir,\n",
    ")"
   ]
  },
  {
   "cell_type": "code",
   "execution_count": 8,
   "id": "106241f5",
   "metadata": {
    "execution": {
     "iopub.execute_input": "2025-07-30T20:02:28.039493Z",
     "iopub.status.busy": "2025-07-30T20:02:28.038847Z",
     "iopub.status.idle": "2025-07-30T20:02:28.045323Z",
     "shell.execute_reply": "2025-07-30T20:02:28.044501Z"
    },
    "papermill": {
     "duration": 0.027122,
     "end_time": "2025-07-30T20:02:28.046743",
     "exception": false,
     "start_time": "2025-07-30T20:02:28.019621",
     "status": "completed"
    },
    "tags": []
   },
   "outputs": [
    {
     "name": "stdout",
     "output_type": "stream",
     "text": [
      "Using Seed: 2023\n"
     ]
    }
   ],
   "source": [
    "import numpy as np\n",
    "parsed_seed = int(seed)\n",
    "np.random.seed(parsed_seed)\n",
    "print(f\"Using Seed: {parsed_seed}\")"
   ]
  },
  {
   "cell_type": "markdown",
   "id": "e0ebdc57",
   "metadata": {
    "papermill": {
     "duration": 0.018001,
     "end_time": "2025-07-30T20:02:28.083523",
     "exception": false,
     "start_time": "2025-07-30T20:02:28.065522",
     "status": "completed"
    },
    "tags": []
   },
   "source": [
    "# Loading Data"
   ]
  },
  {
   "cell_type": "markdown",
   "id": "681925a3",
   "metadata": {
    "papermill": {
     "duration": 0.018139,
     "end_time": "2025-07-30T20:02:28.119716",
     "exception": false,
     "start_time": "2025-07-30T20:02:28.101577",
     "status": "completed"
    },
    "tags": []
   },
   "source": [
    "Load siab_train, siab_test, siab_calib and/or \n",
    "load siab_train_features, siab_train_labels"
   ]
  },
  {
   "cell_type": "code",
   "execution_count": 9,
   "id": "f0496b8a",
   "metadata": {
    "execution": {
     "iopub.execute_input": "2025-07-30T20:02:28.157629Z",
     "iopub.status.busy": "2025-07-30T20:02:28.156994Z",
     "iopub.status.idle": "2025-07-30T20:02:39.932483Z",
     "shell.execute_reply": "2025-07-30T20:02:39.931366Z"
    },
    "papermill": {
     "duration": 11.796262,
     "end_time": "2025-07-30T20:02:39.934026",
     "exception": false,
     "start_time": "2025-07-30T20:02:28.137764",
     "status": "completed"
    },
    "tags": []
   },
   "outputs": [
    {
     "name": "stdout",
     "output_type": "stream",
     "text": [
      "Loading SIAB data from cache: data/siab_cached.csv.gz\n"
     ]
    },
    {
     "name": "stdout",
     "output_type": "stream",
     "text": [
      "(643690, 164)\n"
     ]
    }
   ],
   "source": [
    "from pathlib import Path\n",
    "import pandas as pd\n",
    "\n",
    "# File paths\n",
    "raw_file = Path(\"data/raw/siab.csv\")\n",
    "cache_file = Path(\"data/siab_cached.csv.gz\")\n",
    "\n",
    "# Ensure cache directory exists\n",
    "cache_file.parent.mkdir(parents=True, exist_ok=True)\n",
    "\n",
    "# Load with simple caching\n",
    "if cache_file.exists():\n",
    "    print(f\"Loading SIAB data from cache: {cache_file}\")\n",
    "    siab = pd.read_csv(cache_file, compression='gzip')\n",
    "else:\n",
    "    print(f\"Cache not found. Reading raw SIAB data: {raw_file}\")\n",
    "    siab = pd.read_csv(raw_file)\n",
    "    siab.to_csv(cache_file, index=False, compression='gzip')\n",
    "    print(f\"Cached SIAB data to: {cache_file}\")\n",
    "\n",
    "# Now use `siab` DataFrame as needed\n",
    "print(siab.shape)"
   ]
  },
  {
   "cell_type": "code",
   "execution_count": 10,
   "id": "db0ca512-5f53-4dba-abdb-a2888bca41ba",
   "metadata": {
    "execution": {
     "iopub.execute_input": "2025-07-30T20:02:39.975687Z",
     "iopub.status.busy": "2025-07-30T20:02:39.974972Z",
     "iopub.status.idle": "2025-07-30T20:02:39.980510Z",
     "shell.execute_reply": "2025-07-30T20:02:39.979601Z"
    },
    "papermill": {
     "duration": 0.026756,
     "end_time": "2025-07-30T20:02:39.981965",
     "exception": false,
     "start_time": "2025-07-30T20:02:39.955209",
     "status": "completed"
    },
    "tags": []
   },
   "outputs": [],
   "source": [
    "#siab"
   ]
  },
  {
   "cell_type": "code",
   "execution_count": 11,
   "id": "a0edb063",
   "metadata": {
    "execution": {
     "iopub.execute_input": "2025-07-30T20:02:40.020827Z",
     "iopub.status.busy": "2025-07-30T20:02:40.020210Z",
     "iopub.status.idle": "2025-07-30T20:02:40.025028Z",
     "shell.execute_reply": "2025-07-30T20:02:40.024132Z"
    },
    "papermill": {
     "duration": 0.02561,
     "end_time": "2025-07-30T20:02:40.026500",
     "exception": false,
     "start_time": "2025-07-30T20:02:40.000890",
     "status": "completed"
    },
    "tags": []
   },
   "outputs": [],
   "source": [
    "#import pandas as pd\n",
    "#\n",
    "#X_train = pd.read_csv(\"./data/X_train.csv\")\n",
    "#y_train = pd.read_csv(\"./data/y_train.csv\")"
   ]
  },
  {
   "cell_type": "code",
   "execution_count": 12,
   "id": "63d08085",
   "metadata": {
    "execution": {
     "iopub.execute_input": "2025-07-30T20:02:40.065345Z",
     "iopub.status.busy": "2025-07-30T20:02:40.064733Z",
     "iopub.status.idle": "2025-07-30T20:02:40.069452Z",
     "shell.execute_reply": "2025-07-30T20:02:40.068659Z"
    },
    "papermill": {
     "duration": 0.025469,
     "end_time": "2025-07-30T20:02:40.070868",
     "exception": false,
     "start_time": "2025-07-30T20:02:40.045399",
     "status": "completed"
    },
    "tags": []
   },
   "outputs": [],
   "source": [
    "#X_test = pd.read_csv(\"./data/X_test.csv\")\n",
    "#y_true = pd.read_csv(\"./data/y_test.csv\")"
   ]
  },
  {
   "cell_type": "code",
   "execution_count": 13,
   "id": "98a8d0fa-1d3d-4ed8-bb2c-281470e24add",
   "metadata": {
    "execution": {
     "iopub.execute_input": "2025-07-30T20:02:40.109939Z",
     "iopub.status.busy": "2025-07-30T20:02:40.109324Z",
     "iopub.status.idle": "2025-07-30T20:02:40.114271Z",
     "shell.execute_reply": "2025-07-30T20:02:40.113439Z"
    },
    "papermill": {
     "duration": 0.025771,
     "end_time": "2025-07-30T20:02:40.115723",
     "exception": false,
     "start_time": "2025-07-30T20:02:40.089952",
     "status": "completed"
    },
    "tags": []
   },
   "outputs": [],
   "source": [
    "# Calibration data for conformal\n",
    "#X_calib = pd.read_csv(\"./data/X_calib.csv\")\n",
    "#y_calib = pd.read_csv(\"./data/y_calib.csv\")"
   ]
  },
  {
   "cell_type": "markdown",
   "id": "997051c5-15bd-4b69-9786-c3001a3ce484",
   "metadata": {
    "papermill": {
     "duration": 0.018493,
     "end_time": "2025-07-30T20:02:40.153532",
     "exception": false,
     "start_time": "2025-07-30T20:02:40.135039",
     "status": "completed"
    },
    "tags": []
   },
   "source": [
    "# Splitting Data and Setting Training Data Size"
   ]
  },
  {
   "cell_type": "code",
   "execution_count": 14,
   "id": "e993b61f-042d-41a6-8c81-f55681f86335",
   "metadata": {
    "execution": {
     "iopub.execute_input": "2025-07-30T20:02:40.192469Z",
     "iopub.status.busy": "2025-07-30T20:02:40.191823Z",
     "iopub.status.idle": "2025-07-30T20:02:40.204464Z",
     "shell.execute_reply": "2025-07-30T20:02:40.203637Z"
    },
    "papermill": {
     "duration": 0.03392,
     "end_time": "2025-07-30T20:02:40.205902",
     "exception": false,
     "start_time": "2025-07-30T20:02:40.171982",
     "status": "completed"
    },
    "tags": []
   },
   "outputs": [],
   "source": [
    "def sample_by_year_size(df,\n",
    "                        training_year: str,\n",
    "                        training_size: str,\n",
    "                        random_state: int = 42):\n",
    "    # --- parse training_year into a list of int years ---\n",
    "    if \"_\" in training_year:\n",
    "        start_str, end_str = training_year.split(\"_\", 1)\n",
    "        start = int(start_str)\n",
    "        end   = int(end_str) if len(end_str) == 4 else (int(end_str) + (start // 100)*100)\n",
    "        years = list(range(start, end + 1))\n",
    "    else:\n",
    "        years = [int(training_year)]\n",
    "\n",
    "    df = df[df[\"year\"].isin(years)].reset_index(drop=True)\n",
    "\n",
    "    # --- map training_size to total number of samples ---\n",
    "    total_map = {\"25k\": 25_000, \"5k\": 5_000, \"1k\": 1_000}\n",
    "    if training_size not in total_map:\n",
    "        return df  # e.g. \"all\"\n",
    "\n",
    "    total_samples = total_map[training_size]\n",
    "    n_years       = len(years)\n",
    "    base          = total_samples // n_years\n",
    "    remainder     = total_samples % n_years\n",
    "\n",
    "    # --- build a dict: year -> how many to sample ---\n",
    "    # give +1 to the first `remainder` years in ascending order\n",
    "    quotas = {\n",
    "        year: base + (1 if idx < remainder else 0)\n",
    "        for idx, year in enumerate(sorted(years))\n",
    "    }\n",
    "\n",
    "    # --- sample per‐year according to the quota dict ---\n",
    "    sampled = (\n",
    "        df\n",
    "        .groupby(\"year\", group_keys=False)\n",
    "        .apply(lambda grp: grp.sample(\n",
    "            n=min(len(grp), quotas[grp.name]),\n",
    "            random_state=random_state))\n",
    "        .reset_index(drop=True)\n",
    "    )\n",
    "\n",
    "    return sampled"
   ]
  },
  {
   "cell_type": "code",
   "execution_count": 15,
   "id": "c0ccd338-0e02-41f3-a09d-f56f9266e3fb",
   "metadata": {
    "execution": {
     "iopub.execute_input": "2025-07-30T20:02:40.245733Z",
     "iopub.status.busy": "2025-07-30T20:02:40.245100Z",
     "iopub.status.idle": "2025-07-30T20:02:40.250017Z",
     "shell.execute_reply": "2025-07-30T20:02:40.249115Z"
    },
    "papermill": {
     "duration": 0.026109,
     "end_time": "2025-07-30T20:02:40.251475",
     "exception": false,
     "start_time": "2025-07-30T20:02:40.225366",
     "status": "completed"
    },
    "tags": []
   },
   "outputs": [],
   "source": [
    "#universe[\"training_size\"]"
   ]
  },
  {
   "cell_type": "code",
   "execution_count": 16,
   "id": "ca707fd7-8047-4acd-bfa5-66248fbbf8e6",
   "metadata": {
    "execution": {
     "iopub.execute_input": "2025-07-30T20:02:40.291002Z",
     "iopub.status.busy": "2025-07-30T20:02:40.290386Z",
     "iopub.status.idle": "2025-07-30T20:02:40.295096Z",
     "shell.execute_reply": "2025-07-30T20:02:40.294304Z"
    },
    "papermill": {
     "duration": 0.02585,
     "end_time": "2025-07-30T20:02:40.296493",
     "exception": false,
     "start_time": "2025-07-30T20:02:40.270643",
     "status": "completed"
    },
    "tags": []
   },
   "outputs": [],
   "source": [
    "#universe[\"training_year\"]"
   ]
  },
  {
   "cell_type": "code",
   "execution_count": 17,
   "id": "aea9c6ef-6f46-42c8-85eb-5a62025c1508",
   "metadata": {
    "execution": {
     "iopub.execute_input": "2025-07-30T20:02:40.336004Z",
     "iopub.status.busy": "2025-07-30T20:02:40.335382Z",
     "iopub.status.idle": "2025-07-30T20:02:40.597236Z",
     "shell.execute_reply": "2025-07-30T20:02:40.596370Z"
    },
    "papermill": {
     "duration": 0.283344,
     "end_time": "2025-07-30T20:02:40.599047",
     "exception": false,
     "start_time": "2025-07-30T20:02:40.315703",
     "status": "completed"
    },
    "tags": []
   },
   "outputs": [],
   "source": [
    "siab_train = sample_by_year_size(siab,\n",
    "                               training_year=universe[\"training_year\"],\n",
    "                               training_size=universe[\"training_size\"])"
   ]
  },
  {
   "cell_type": "code",
   "execution_count": 18,
   "id": "8d3afb32-789d-442c-8d5d-9f5aa8dd2eed",
   "metadata": {
    "execution": {
     "iopub.execute_input": "2025-07-30T20:02:40.639027Z",
     "iopub.status.busy": "2025-07-30T20:02:40.638398Z",
     "iopub.status.idle": "2025-07-30T20:02:40.643212Z",
     "shell.execute_reply": "2025-07-30T20:02:40.642420Z"
    },
    "papermill": {
     "duration": 0.026114,
     "end_time": "2025-07-30T20:02:40.644676",
     "exception": false,
     "start_time": "2025-07-30T20:02:40.618562",
     "status": "completed"
    },
    "tags": []
   },
   "outputs": [],
   "source": [
    "#siab_train.shape"
   ]
  },
  {
   "cell_type": "code",
   "execution_count": 19,
   "id": "d582db68-1a4c-47fb-84fc-08518dc1975a",
   "metadata": {
    "execution": {
     "iopub.execute_input": "2025-07-30T20:02:40.684902Z",
     "iopub.status.busy": "2025-07-30T20:02:40.684257Z",
     "iopub.status.idle": "2025-07-30T20:02:40.689218Z",
     "shell.execute_reply": "2025-07-30T20:02:40.688297Z"
    },
    "papermill": {
     "duration": 0.026273,
     "end_time": "2025-07-30T20:02:40.690683",
     "exception": false,
     "start_time": "2025-07-30T20:02:40.664410",
     "status": "completed"
    },
    "tags": []
   },
   "outputs": [],
   "source": [
    "#display(siab_train.groupby(\"year\").size())"
   ]
  },
  {
   "cell_type": "code",
   "execution_count": 20,
   "id": "a561edb4-d032-42cb-8256-22eac1111c64",
   "metadata": {
    "execution": {
     "iopub.execute_input": "2025-07-30T20:02:40.730410Z",
     "iopub.status.busy": "2025-07-30T20:02:40.729789Z",
     "iopub.status.idle": "2025-07-30T20:02:40.944874Z",
     "shell.execute_reply": "2025-07-30T20:02:40.943942Z"
    },
    "papermill": {
     "duration": 0.236662,
     "end_time": "2025-07-30T20:02:40.946679",
     "exception": false,
     "start_time": "2025-07-30T20:02:40.710017",
     "status": "completed"
    },
    "tags": []
   },
   "outputs": [],
   "source": [
    "#siab_train = siab_s[siab_s.year < 2015]\n",
    "siab_calib = siab[siab.year == 2015]\n",
    "siab_test = siab[siab.year == 2016]"
   ]
  },
  {
   "cell_type": "code",
   "execution_count": 21,
   "id": "472de16f-c3db-4916-846b-1f0de9cf1746",
   "metadata": {
    "execution": {
     "iopub.execute_input": "2025-07-30T20:02:40.986902Z",
     "iopub.status.busy": "2025-07-30T20:02:40.986263Z",
     "iopub.status.idle": "2025-07-30T20:02:41.000763Z",
     "shell.execute_reply": "2025-07-30T20:02:40.999806Z"
    },
    "papermill": {
     "duration": 0.035947,
     "end_time": "2025-07-30T20:02:41.002324",
     "exception": false,
     "start_time": "2025-07-30T20:02:40.966377",
     "status": "completed"
    },
    "tags": []
   },
   "outputs": [],
   "source": [
    "X_train = siab_train.iloc[:,4:164]\n",
    "y_train = siab_train.iloc[:, [3]]"
   ]
  },
  {
   "cell_type": "code",
   "execution_count": 22,
   "id": "828c96af-f43a-4ed6-ba47-8ac73a47d56c",
   "metadata": {
    "execution": {
     "iopub.execute_input": "2025-07-30T20:02:41.043331Z",
     "iopub.status.busy": "2025-07-30T20:02:41.042707Z",
     "iopub.status.idle": "2025-07-30T20:02:41.090871Z",
     "shell.execute_reply": "2025-07-30T20:02:41.089842Z"
    },
    "papermill": {
     "duration": 0.069983,
     "end_time": "2025-07-30T20:02:41.092530",
     "exception": false,
     "start_time": "2025-07-30T20:02:41.022547",
     "status": "completed"
    },
    "tags": []
   },
   "outputs": [],
   "source": [
    "X_calib = siab_calib.iloc[:,4:164]\n",
    "y_calib = siab_calib.iloc[:, [3]]"
   ]
  },
  {
   "cell_type": "code",
   "execution_count": 23,
   "id": "c34be9c3-6bd6-476e-acd3-845840e303be",
   "metadata": {
    "execution": {
     "iopub.execute_input": "2025-07-30T20:02:41.133560Z",
     "iopub.status.busy": "2025-07-30T20:02:41.132927Z",
     "iopub.status.idle": "2025-07-30T20:02:41.182240Z",
     "shell.execute_reply": "2025-07-30T20:02:41.181197Z"
    },
    "papermill": {
     "duration": 0.07097,
     "end_time": "2025-07-30T20:02:41.183812",
     "exception": false,
     "start_time": "2025-07-30T20:02:41.112842",
     "status": "completed"
    },
    "tags": []
   },
   "outputs": [],
   "source": [
    "X_test = siab_test.iloc[:,4:164]\n",
    "y_true = siab_test.iloc[:, [3]]"
   ]
  },
  {
   "cell_type": "markdown",
   "id": "9901737e-04df-44f0-9100-f5ad144ed040",
   "metadata": {
    "papermill": {
     "duration": 0.019073,
     "end_time": "2025-07-30T20:02:41.224471",
     "exception": false,
     "start_time": "2025-07-30T20:02:41.205398",
     "status": "completed"
    },
    "tags": []
   },
   "source": [
    "# Splitting Data and Setting Training Data Size OLD VERSION"
   ]
  },
  {
   "cell_type": "code",
   "execution_count": 24,
   "id": "acbc8f7d-8fc8-4e86-8c59-5dcb0f58384b",
   "metadata": {
    "execution": {
     "iopub.execute_input": "2025-07-30T20:02:41.264295Z",
     "iopub.status.busy": "2025-07-30T20:02:41.263652Z",
     "iopub.status.idle": "2025-07-30T20:02:41.269629Z",
     "shell.execute_reply": "2025-07-30T20:02:41.268825Z"
    },
    "papermill": {
     "duration": 0.027626,
     "end_time": "2025-07-30T20:02:41.271168",
     "exception": false,
     "start_time": "2025-07-30T20:02:41.243542",
     "status": "completed"
    },
    "tags": []
   },
   "outputs": [],
   "source": [
    "#def sample_by_year(df, training_size, random_state=42):\n",
    "#    if training_size == \"2014\":\n",
    "#        return df[df[\"year\"] == 2014].reset_index(drop=True)\n",
    "#    \n",
    "#    size_map = {\n",
    "#        \"25k\": 5000,\n",
    "#        \"5k\": 1000,\n",
    "#        \"1k\": 200\n",
    "#    }\n",
    "#\n",
    "#    if training_size not in size_map:\n",
    "#        return df.reset_index(drop=True)  # use all data\n",
    "#\n",
    "#    n_per_year = size_map[training_size]\n",
    "#    grouped = df.groupby(\"year\")\n",
    "#    sampled = grouped.apply(lambda x: x.sample(n=min(n_per_year, len(x)), random_state=random_state))\n",
    "#    return sampled.reset_index(drop=True)"
   ]
  },
  {
   "cell_type": "code",
   "execution_count": 25,
   "id": "6d931f52-beaf-43ff-9e78-9d44a448d54e",
   "metadata": {
    "execution": {
     "iopub.execute_input": "2025-07-30T20:02:41.311656Z",
     "iopub.status.busy": "2025-07-30T20:02:41.311033Z",
     "iopub.status.idle": "2025-07-30T20:02:41.315971Z",
     "shell.execute_reply": "2025-07-30T20:02:41.315082Z"
    },
    "papermill": {
     "duration": 0.026668,
     "end_time": "2025-07-30T20:02:41.317462",
     "exception": false,
     "start_time": "2025-07-30T20:02:41.290794",
     "status": "completed"
    },
    "tags": []
   },
   "outputs": [],
   "source": [
    "#siab_s = sample_by_year(siab, universe[\"training_size\"])"
   ]
  },
  {
   "cell_type": "code",
   "execution_count": 26,
   "id": "5db0a40e-a4e2-4920-be85-b12ae061d70d",
   "metadata": {
    "execution": {
     "iopub.execute_input": "2025-07-30T20:02:41.358200Z",
     "iopub.status.busy": "2025-07-30T20:02:41.357576Z",
     "iopub.status.idle": "2025-07-30T20:02:41.362495Z",
     "shell.execute_reply": "2025-07-30T20:02:41.361618Z"
    },
    "papermill": {
     "duration": 0.026881,
     "end_time": "2025-07-30T20:02:41.363973",
     "exception": false,
     "start_time": "2025-07-30T20:02:41.337092",
     "status": "completed"
    },
    "tags": []
   },
   "outputs": [],
   "source": [
    "#display(siab_s.groupby(\"year\").size())"
   ]
  },
  {
   "cell_type": "code",
   "execution_count": 27,
   "id": "e6c733c5",
   "metadata": {
    "execution": {
     "iopub.execute_input": "2025-07-30T20:02:41.405446Z",
     "iopub.status.busy": "2025-07-30T20:02:41.404828Z",
     "iopub.status.idle": "2025-07-30T20:02:41.499120Z",
     "shell.execute_reply": "2025-07-30T20:02:41.498247Z"
    },
    "papermill": {
     "duration": 0.116704,
     "end_time": "2025-07-30T20:02:41.500972",
     "exception": false,
     "start_time": "2025-07-30T20:02:41.384268",
     "status": "completed"
    },
    "tags": []
   },
   "outputs": [],
   "source": [
    "# Auxiliary data needed downstream in the pipeline\n",
    "\n",
    "org_train = X_train.copy()\n",
    "org_test = X_test.copy()\n",
    "org_calib = X_calib.copy()"
   ]
  },
  {
   "cell_type": "code",
   "execution_count": 28,
   "id": "1466abac-c6da-4492-a62f-4240ae3783af",
   "metadata": {
    "execution": {
     "iopub.execute_input": "2025-07-30T20:02:41.542595Z",
     "iopub.status.busy": "2025-07-30T20:02:41.541972Z",
     "iopub.status.idle": "2025-07-30T20:02:41.547821Z",
     "shell.execute_reply": "2025-07-30T20:02:41.546731Z"
    },
    "papermill": {
     "duration": 0.028081,
     "end_time": "2025-07-30T20:02:41.549447",
     "exception": false,
     "start_time": "2025-07-30T20:02:41.521366",
     "status": "completed"
    },
    "tags": []
   },
   "outputs": [],
   "source": [
    "# put in other script?\n",
    "# Group sizes\n",
    "\n",
    "#def calculate_percentages(df, df_name):\n",
    "#    total_entries = len(df)\n",
    "#\n",
    "#    female_pct = (df['frau1'] == 1).mean() * 100\n",
    "#    non_german_pct = ((df['maxdeutsch1'] == 0) & (df['maxdeutsch.Missing.'] == 0)).mean() * 100\n",
    "#    non_german_male_pct = ((df['frau1'] == 0) & (df['maxdeutsch1'] == 0) & (df['maxdeutsch.Missing.'] == 0)).mean() * 100\n",
    "#    non_german_female_pct = ((df['frau1'] == 1) & (df['maxdeutsch1'] == 0) & (df['maxdeutsch.Missing.'] == 0)).mean() * 100\n",
    "#\n",
    "#    print(f\"--- {df_name} ---\")\n",
    "#    print(f\"Female: {female_pct:.2f}%\")\n",
    "#    print(f\"Non-German: {non_german_pct:.2f}%\")\n",
    "#    print(f\"Non-German Male: {non_german_male_pct:.2f}%\")\n",
    "#    print(f\"Non-German Female: {non_german_female_pct:.2f}%\\n\")\n",
    "#\n",
    "## Calculate for each DataFrame\n",
    "#calculate_percentages(siab_calib, \"siab_calib\")\n",
    "#calculate_percentages(siab_test, \"siab_test\")\n",
    "#calculate_percentages(siab_train, \"siab_train\")"
   ]
  },
  {
   "cell_type": "markdown",
   "id": "0a4a1b33",
   "metadata": {
    "papermill": {
     "duration": 0.019369,
     "end_time": "2025-07-30T20:02:41.588863",
     "exception": false,
     "start_time": "2025-07-30T20:02:41.569494",
     "status": "completed"
    },
    "tags": []
   },
   "source": [
    "# Preprocessing Data"
   ]
  },
  {
   "cell_type": "code",
   "execution_count": 29,
   "id": "ca879031",
   "metadata": {
    "execution": {
     "iopub.execute_input": "2025-07-30T20:02:41.629387Z",
     "iopub.status.busy": "2025-07-30T20:02:41.628745Z",
     "iopub.status.idle": "2025-07-30T20:02:41.634627Z",
     "shell.execute_reply": "2025-07-30T20:02:41.633737Z"
    },
    "papermill": {
     "duration": 0.02787,
     "end_time": "2025-07-30T20:02:41.636183",
     "exception": false,
     "start_time": "2025-07-30T20:02:41.608313",
     "status": "completed"
    },
    "tags": []
   },
   "outputs": [],
   "source": [
    "# EXCLUDE PROTECTED FEATURES\n",
    "# ----------------------\n",
    "# \"exclude_features\": \"none\", # \"nationality\", \"sex\", \"nationality-sex\"\n",
    "\n",
    "excluded_features = universe[\"exclude_features\"].split(\"-\") # split, e.g.: \"nationality-sex\" -> [\"nationality\", \"sex\"]\n",
    "excluded_features_dictionary = {\n",
    "    \"nationality\": [\"maxdeutsch1\", \"maxdeutsch.Missing.\"],\n",
    "    \"sex\": [\"frau1\"],\n",
    "    \"age\": [\"age\"],\n",
    "}\n"
   ]
  },
  {
   "cell_type": "code",
   "execution_count": 30,
   "id": "b745ac60",
   "metadata": {
    "execution": {
     "iopub.execute_input": "2025-07-30T20:02:41.678338Z",
     "iopub.status.busy": "2025-07-30T20:02:41.677715Z",
     "iopub.status.idle": "2025-07-30T20:02:41.683512Z",
     "shell.execute_reply": "2025-07-30T20:02:41.682591Z"
    },
    "papermill": {
     "duration": 0.028018,
     "end_time": "2025-07-30T20:02:41.685070",
     "exception": false,
     "start_time": "2025-07-30T20:02:41.657052",
     "status": "completed"
    },
    "tags": []
   },
   "outputs": [],
   "source": [
    "# Code nice names to column names\n",
    "\n",
    "excluded_features_columns = [\n",
    "    excluded_features_dictionary[f] for f in excluded_features if len(f) > 0 and f != \"none\"\n",
    "]"
   ]
  },
  {
   "cell_type": "code",
   "execution_count": 31,
   "id": "f84f73a2",
   "metadata": {
    "execution": {
     "iopub.execute_input": "2025-07-30T20:02:41.726320Z",
     "iopub.status.busy": "2025-07-30T20:02:41.725699Z",
     "iopub.status.idle": "2025-07-30T20:02:41.731982Z",
     "shell.execute_reply": "2025-07-30T20:02:41.731180Z"
    },
    "papermill": {
     "duration": 0.028211,
     "end_time": "2025-07-30T20:02:41.733441",
     "exception": false,
     "start_time": "2025-07-30T20:02:41.705230",
     "status": "completed"
    },
    "tags": []
   },
   "outputs": [],
   "source": [
    "from utils import flatten_once\n",
    "\n",
    "excluded_features_columns = flatten_once(excluded_features_columns)"
   ]
  },
  {
   "cell_type": "code",
   "execution_count": 32,
   "id": "884dea22",
   "metadata": {
    "execution": {
     "iopub.execute_input": "2025-07-30T20:02:41.774909Z",
     "iopub.status.busy": "2025-07-30T20:02:41.774293Z",
     "iopub.status.idle": "2025-07-30T20:02:41.788910Z",
     "shell.execute_reply": "2025-07-30T20:02:41.787921Z"
    },
    "papermill": {
     "duration": 0.036468,
     "end_time": "2025-07-30T20:02:41.790322",
     "exception": false,
     "start_time": "2025-07-30T20:02:41.753854",
     "status": "completed"
    },
    "tags": []
   },
   "outputs": [
    {
     "name": "stdout",
     "output_type": "stream",
     "text": [
      "Dropping features: ['maxdeutsch1', 'maxdeutsch.Missing.', 'frau1']\n"
     ]
    }
   ],
   "source": [
    "if len(excluded_features_columns) > 0:\n",
    "    print(f\"Dropping features: {excluded_features_columns}\")\n",
    "    X_train.drop(excluded_features_columns, axis=1, inplace=True)"
   ]
  },
  {
   "cell_type": "code",
   "execution_count": 33,
   "id": "95ab8b16",
   "metadata": {
    "execution": {
     "iopub.execute_input": "2025-07-30T20:02:41.832603Z",
     "iopub.status.busy": "2025-07-30T20:02:41.831967Z",
     "iopub.status.idle": "2025-07-30T20:02:41.883604Z",
     "shell.execute_reply": "2025-07-30T20:02:41.882768Z"
    },
    "papermill": {
     "duration": 0.074355,
     "end_time": "2025-07-30T20:02:41.885542",
     "exception": false,
     "start_time": "2025-07-30T20:02:41.811187",
     "status": "completed"
    },
    "tags": []
   },
   "outputs": [
    {
     "name": "stdout",
     "output_type": "stream",
     "text": [
      "Dropping features: ['maxdeutsch1', 'maxdeutsch.Missing.', 'frau1']\n"
     ]
    }
   ],
   "source": [
    "if len(excluded_features_columns) > 0:\n",
    "    print(f\"Dropping features: {excluded_features_columns}\")\n",
    "    X_test.drop(excluded_features_columns, axis=1, inplace=True)"
   ]
  },
  {
   "cell_type": "code",
   "execution_count": 34,
   "id": "1853aaf5-fb9f-46cb-a2b5-8ea4ae2237e4",
   "metadata": {
    "execution": {
     "iopub.execute_input": "2025-07-30T20:02:41.927977Z",
     "iopub.status.busy": "2025-07-30T20:02:41.927348Z",
     "iopub.status.idle": "2025-07-30T20:02:41.977994Z",
     "shell.execute_reply": "2025-07-30T20:02:41.977188Z"
    },
    "papermill": {
     "duration": 0.073303,
     "end_time": "2025-07-30T20:02:41.979709",
     "exception": false,
     "start_time": "2025-07-30T20:02:41.906406",
     "status": "completed"
    },
    "tags": []
   },
   "outputs": [
    {
     "name": "stdout",
     "output_type": "stream",
     "text": [
      "Dropping features: ['maxdeutsch1', 'maxdeutsch.Missing.', 'frau1']\n"
     ]
    }
   ],
   "source": [
    "if len(excluded_features_columns) > 0:\n",
    "    print(f\"Dropping features: {excluded_features_columns}\")\n",
    "    X_calib.drop(excluded_features_columns, axis=1, inplace=True)"
   ]
  },
  {
   "cell_type": "code",
   "execution_count": 35,
   "id": "6727d079-03e5-481e-9d38-292a90b7a0a8",
   "metadata": {
    "execution": {
     "iopub.execute_input": "2025-07-30T20:02:42.022553Z",
     "iopub.status.busy": "2025-07-30T20:02:42.021920Z",
     "iopub.status.idle": "2025-07-30T20:02:42.026758Z",
     "shell.execute_reply": "2025-07-30T20:02:42.025860Z"
    },
    "papermill": {
     "duration": 0.027644,
     "end_time": "2025-07-30T20:02:42.028305",
     "exception": false,
     "start_time": "2025-07-30T20:02:42.000661",
     "status": "completed"
    },
    "tags": []
   },
   "outputs": [],
   "source": [
    "# SPLIT & STRATIFY DATA\n",
    "# ----------------------"
   ]
  },
  {
   "cell_type": "code",
   "execution_count": 36,
   "id": "76c4dc6d",
   "metadata": {
    "execution": {
     "iopub.execute_input": "2025-07-30T20:02:42.070925Z",
     "iopub.status.busy": "2025-07-30T20:02:42.070304Z",
     "iopub.status.idle": "2025-07-30T20:02:42.075502Z",
     "shell.execute_reply": "2025-07-30T20:02:42.074681Z"
    },
    "papermill": {
     "duration": 0.027882,
     "end_time": "2025-07-30T20:02:42.076984",
     "exception": false,
     "start_time": "2025-07-30T20:02:42.049102",
     "status": "completed"
    },
    "tags": []
   },
   "outputs": [],
   "source": [
    "# EXCLUDE CERTAIN SUBGROUPS\n",
    "# ----------------------\n",
    "\n",
    "mode = universe.get(\"exclude_subgroups\", \"keep-all\") \n",
    "# Fetches the exclude_subgroups setting from the universe dict.\n",
    "# Defaults to \"keep-all\" if the key is missing."
   ]
  },
  {
   "cell_type": "code",
   "execution_count": 37,
   "id": "21994072",
   "metadata": {
    "execution": {
     "iopub.execute_input": "2025-07-30T20:02:42.119409Z",
     "iopub.status.busy": "2025-07-30T20:02:42.118790Z",
     "iopub.status.idle": "2025-07-30T20:02:42.125630Z",
     "shell.execute_reply": "2025-07-30T20:02:42.124749Z"
    },
    "papermill": {
     "duration": 0.029592,
     "end_time": "2025-07-30T20:02:42.127152",
     "exception": false,
     "start_time": "2025-07-30T20:02:42.097560",
     "status": "completed"
    },
    "tags": []
   },
   "outputs": [],
   "source": [
    "if mode == \"keep-all\":\n",
    "    keep_mask = pd.Series(True, index=org_train.index)\n",
    "\n",
    "# org_train contains the original feature columns from features_org (in Simson)\n",
    "# features_org contains unprocessed features, for me X_train at beginning ???\n",
    "# For keep-all, creates a boolean Series (keep_mask) of all True, so no rows are removed.\n",
    "\n",
    "elif mode == \"drop-non-german\":\n",
    "    keep_mask = org_train[\"maxdeutsch1\"] == 1 # ??? what about missing values?\n",
    "\n",
    "else:\n",
    "    raise ValueError(f\"Unsupported mode for exclude_subgroups: {mode}\")\n"
   ]
  },
  {
   "cell_type": "code",
   "execution_count": 38,
   "id": "71651440",
   "metadata": {
    "execution": {
     "iopub.execute_input": "2025-07-30T20:02:42.169898Z",
     "iopub.status.busy": "2025-07-30T20:02:42.169278Z",
     "iopub.status.idle": "2025-07-30T20:02:42.175884Z",
     "shell.execute_reply": "2025-07-30T20:02:42.175061Z"
    },
    "papermill": {
     "duration": 0.029528,
     "end_time": "2025-07-30T20:02:42.177452",
     "exception": false,
     "start_time": "2025-07-30T20:02:42.147924",
     "status": "completed"
    },
    "tags": []
   },
   "outputs": [],
   "source": [
    "n_drop = (~keep_mask).sum() # Calculates how many rows are set to be dropped\n",
    "if n_drop > 0:\n",
    "    pct = n_drop / len(keep_mask) * 100\n",
    "    print(f\"Dropping {n_drop} rows ({pct:.2f}%) where mode='{mode}'\")"
   ]
  },
  {
   "cell_type": "code",
   "execution_count": 39,
   "id": "5fb8eee5",
   "metadata": {
    "execution": {
     "iopub.execute_input": "2025-07-30T20:02:42.220576Z",
     "iopub.status.busy": "2025-07-30T20:02:42.219945Z",
     "iopub.status.idle": "2025-07-30T20:02:42.234325Z",
     "shell.execute_reply": "2025-07-30T20:02:42.233454Z"
    },
    "papermill": {
     "duration": 0.037755,
     "end_time": "2025-07-30T20:02:42.236303",
     "exception": false,
     "start_time": "2025-07-30T20:02:42.198548",
     "status": "completed"
    },
    "tags": []
   },
   "outputs": [],
   "source": [
    "X_train = X_train[keep_mask]"
   ]
  },
  {
   "cell_type": "code",
   "execution_count": 40,
   "id": "b202bb3a",
   "metadata": {
    "execution": {
     "iopub.execute_input": "2025-07-30T20:02:42.280189Z",
     "iopub.status.busy": "2025-07-30T20:02:42.279546Z",
     "iopub.status.idle": "2025-07-30T20:02:42.285978Z",
     "shell.execute_reply": "2025-07-30T20:02:42.285188Z"
    },
    "papermill": {
     "duration": 0.029489,
     "end_time": "2025-07-30T20:02:42.287434",
     "exception": false,
     "start_time": "2025-07-30T20:02:42.257945",
     "status": "completed"
    },
    "tags": []
   },
   "outputs": [],
   "source": [
    "y_train = y_train[keep_mask]"
   ]
  },
  {
   "cell_type": "markdown",
   "id": "493e2ac3",
   "metadata": {
    "papermill": {
     "duration": 0.020165,
     "end_time": "2025-07-30T20:02:42.328776",
     "exception": false,
     "start_time": "2025-07-30T20:02:42.308611",
     "status": "completed"
    },
    "tags": []
   },
   "source": [
    "# Model Training"
   ]
  },
  {
   "cell_type": "code",
   "execution_count": 41,
   "id": "679e1268",
   "metadata": {
    "execution": {
     "iopub.execute_input": "2025-07-30T20:02:42.371240Z",
     "iopub.status.busy": "2025-07-30T20:02:42.370605Z",
     "iopub.status.idle": "2025-07-30T20:02:42.469624Z",
     "shell.execute_reply": "2025-07-30T20:02:42.468785Z"
    },
    "papermill": {
     "duration": 0.122427,
     "end_time": "2025-07-30T20:02:42.471375",
     "exception": false,
     "start_time": "2025-07-30T20:02:42.348948",
     "status": "completed"
    },
    "tags": []
   },
   "outputs": [],
   "source": [
    "from sklearn.linear_model import LogisticRegression\n",
    "from sklearn.ensemble import GradientBoostingClassifier, RandomForestClassifier\n",
    "\n",
    "if (universe[\"model\"] == \"logreg\"):\n",
    "    model = LogisticRegression() #penalty=\"none\") #, solver=\"newton-cg\", max_iter=1) # include random_state=19 ?\n",
    "elif (universe[\"model\"] == \"penalized_logreg\"):\n",
    "    model = LogisticRegression(penalty=\"l2\", C=1.0) #, solver=\"newton-cg\", max_iter=1)\n",
    "elif (universe[\"model\"] == \"rf\"):\n",
    "    model = RandomForestClassifier(n_estimators=100, n_jobs=-1)\n",
    "elif (universe[\"model\"] == \"gbm\"):\n",
    "    model = GradientBoostingClassifier()\n",
    "elif (universe[\"model\"] == \"elasticnet\"):\n",
    "    model = LogisticRegression(penalty = 'elasticnet', solver = 'saga', l1_ratio = 0.5, max_iter=5000) # which solver to use?\n",
    "else:\n",
    "    raise \"Unsupported universe.model\""
   ]
  },
  {
   "cell_type": "code",
   "execution_count": 42,
   "id": "0cc8f744",
   "metadata": {
    "execution": {
     "iopub.execute_input": "2025-07-30T20:02:42.514772Z",
     "iopub.status.busy": "2025-07-30T20:02:42.514138Z",
     "iopub.status.idle": "2025-07-30T20:02:42.520313Z",
     "shell.execute_reply": "2025-07-30T20:02:42.519349Z"
    },
    "papermill": {
     "duration": 0.029493,
     "end_time": "2025-07-30T20:02:42.521923",
     "exception": false,
     "start_time": "2025-07-30T20:02:42.492430",
     "status": "completed"
    },
    "tags": []
   },
   "outputs": [],
   "source": [
    "import numpy as np\n",
    "from sklearn.pipeline import Pipeline\n",
    "from sklearn.preprocessing import StandardScaler\n",
    "\n",
    "model = Pipeline([\n",
    "    #(\"continuous_processor\", continuous_processor),\n",
    "    #(\"categorical_preprocessor\", categorical_preprocessor),\n",
    "    (\"scale\", StandardScaler() if universe[\"scale\"] == \"scale\" else None), \n",
    "    (\"model\", model),\n",
    "])"
   ]
  },
  {
   "cell_type": "code",
   "execution_count": 43,
   "id": "9442c04d",
   "metadata": {
    "execution": {
     "iopub.execute_input": "2025-07-30T20:02:42.565444Z",
     "iopub.status.busy": "2025-07-30T20:02:42.564820Z",
     "iopub.status.idle": "2025-07-30T20:06:25.430038Z",
     "shell.execute_reply": "2025-07-30T20:06:25.428916Z"
    },
    "papermill": {
     "duration": 222.897332,
     "end_time": "2025-07-30T20:06:25.440423",
     "exception": false,
     "start_time": "2025-07-30T20:02:42.543091",
     "status": "completed"
    },
    "tags": []
   },
   "outputs": [
    {
     "data": {
      "text/html": [
       "<style>#sk-container-id-1 {color: black;background-color: white;}#sk-container-id-1 pre{padding: 0;}#sk-container-id-1 div.sk-toggleable {background-color: white;}#sk-container-id-1 label.sk-toggleable__label {cursor: pointer;display: block;width: 100%;margin-bottom: 0;padding: 0.3em;box-sizing: border-box;text-align: center;}#sk-container-id-1 label.sk-toggleable__label-arrow:before {content: \"▸\";float: left;margin-right: 0.25em;color: #696969;}#sk-container-id-1 label.sk-toggleable__label-arrow:hover:before {color: black;}#sk-container-id-1 div.sk-estimator:hover label.sk-toggleable__label-arrow:before {color: black;}#sk-container-id-1 div.sk-toggleable__content {max-height: 0;max-width: 0;overflow: hidden;text-align: left;background-color: #f0f8ff;}#sk-container-id-1 div.sk-toggleable__content pre {margin: 0.2em;color: black;border-radius: 0.25em;background-color: #f0f8ff;}#sk-container-id-1 input.sk-toggleable__control:checked~div.sk-toggleable__content {max-height: 200px;max-width: 100%;overflow: auto;}#sk-container-id-1 input.sk-toggleable__control:checked~label.sk-toggleable__label-arrow:before {content: \"▾\";}#sk-container-id-1 div.sk-estimator input.sk-toggleable__control:checked~label.sk-toggleable__label {background-color: #d4ebff;}#sk-container-id-1 div.sk-label input.sk-toggleable__control:checked~label.sk-toggleable__label {background-color: #d4ebff;}#sk-container-id-1 input.sk-hidden--visually {border: 0;clip: rect(1px 1px 1px 1px);clip: rect(1px, 1px, 1px, 1px);height: 1px;margin: -1px;overflow: hidden;padding: 0;position: absolute;width: 1px;}#sk-container-id-1 div.sk-estimator {font-family: monospace;background-color: #f0f8ff;border: 1px dotted black;border-radius: 0.25em;box-sizing: border-box;margin-bottom: 0.5em;}#sk-container-id-1 div.sk-estimator:hover {background-color: #d4ebff;}#sk-container-id-1 div.sk-parallel-item::after {content: \"\";width: 100%;border-bottom: 1px solid gray;flex-grow: 1;}#sk-container-id-1 div.sk-label:hover label.sk-toggleable__label {background-color: #d4ebff;}#sk-container-id-1 div.sk-serial::before {content: \"\";position: absolute;border-left: 1px solid gray;box-sizing: border-box;top: 0;bottom: 0;left: 50%;z-index: 0;}#sk-container-id-1 div.sk-serial {display: flex;flex-direction: column;align-items: center;background-color: white;padding-right: 0.2em;padding-left: 0.2em;position: relative;}#sk-container-id-1 div.sk-item {position: relative;z-index: 1;}#sk-container-id-1 div.sk-parallel {display: flex;align-items: stretch;justify-content: center;background-color: white;position: relative;}#sk-container-id-1 div.sk-item::before, #sk-container-id-1 div.sk-parallel-item::before {content: \"\";position: absolute;border-left: 1px solid gray;box-sizing: border-box;top: 0;bottom: 0;left: 50%;z-index: -1;}#sk-container-id-1 div.sk-parallel-item {display: flex;flex-direction: column;z-index: 1;position: relative;background-color: white;}#sk-container-id-1 div.sk-parallel-item:first-child::after {align-self: flex-end;width: 50%;}#sk-container-id-1 div.sk-parallel-item:last-child::after {align-self: flex-start;width: 50%;}#sk-container-id-1 div.sk-parallel-item:only-child::after {width: 0;}#sk-container-id-1 div.sk-dashed-wrapped {border: 1px dashed gray;margin: 0 0.4em 0.5em 0.4em;box-sizing: border-box;padding-bottom: 0.4em;background-color: white;}#sk-container-id-1 div.sk-label label {font-family: monospace;font-weight: bold;display: inline-block;line-height: 1.2em;}#sk-container-id-1 div.sk-label-container {text-align: center;}#sk-container-id-1 div.sk-container {/* jupyter's `normalize.less` sets `[hidden] { display: none; }` but bootstrap.min.css set `[hidden] { display: none !important; }` so we also need the `!important` here to be able to override the default hidden behavior on the sphinx rendered scikit-learn.org. See: https://github.com/scikit-learn/scikit-learn/issues/21755 */display: inline-block !important;position: relative;}#sk-container-id-1 div.sk-text-repr-fallback {display: none;}</style><div id=\"sk-container-id-1\" class=\"sk-top-container\"><div class=\"sk-text-repr-fallback\"><pre>Pipeline(steps=[(&#x27;scale&#x27;, None),\n",
       "                (&#x27;model&#x27;,\n",
       "                 LogisticRegression(l1_ratio=0.5, max_iter=5000,\n",
       "                                    penalty=&#x27;elasticnet&#x27;, solver=&#x27;saga&#x27;))])</pre><b>In a Jupyter environment, please rerun this cell to show the HTML representation or trust the notebook. <br />On GitHub, the HTML representation is unable to render, please try loading this page with nbviewer.org.</b></div><div class=\"sk-container\" hidden><div class=\"sk-item sk-dashed-wrapped\"><div class=\"sk-label-container\"><div class=\"sk-label sk-toggleable\"><input class=\"sk-toggleable__control sk-hidden--visually\" id=\"sk-estimator-id-1\" type=\"checkbox\" ><label for=\"sk-estimator-id-1\" class=\"sk-toggleable__label sk-toggleable__label-arrow\">Pipeline</label><div class=\"sk-toggleable__content\"><pre>Pipeline(steps=[(&#x27;scale&#x27;, None),\n",
       "                (&#x27;model&#x27;,\n",
       "                 LogisticRegression(l1_ratio=0.5, max_iter=5000,\n",
       "                                    penalty=&#x27;elasticnet&#x27;, solver=&#x27;saga&#x27;))])</pre></div></div></div><div class=\"sk-serial\"><div class=\"sk-item\"><div class=\"sk-estimator sk-toggleable\"><input class=\"sk-toggleable__control sk-hidden--visually\" id=\"sk-estimator-id-2\" type=\"checkbox\" ><label for=\"sk-estimator-id-2\" class=\"sk-toggleable__label sk-toggleable__label-arrow\">None</label><div class=\"sk-toggleable__content\"><pre>None</pre></div></div></div><div class=\"sk-item\"><div class=\"sk-estimator sk-toggleable\"><input class=\"sk-toggleable__control sk-hidden--visually\" id=\"sk-estimator-id-3\" type=\"checkbox\" ><label for=\"sk-estimator-id-3\" class=\"sk-toggleable__label sk-toggleable__label-arrow\">LogisticRegression</label><div class=\"sk-toggleable__content\"><pre>LogisticRegression(l1_ratio=0.5, max_iter=5000, penalty=&#x27;elasticnet&#x27;,\n",
       "                   solver=&#x27;saga&#x27;)</pre></div></div></div></div></div></div></div>"
      ],
      "text/plain": [
       "Pipeline(steps=[('scale', None),\n",
       "                ('model',\n",
       "                 LogisticRegression(l1_ratio=0.5, max_iter=5000,\n",
       "                                    penalty='elasticnet', solver='saga'))])"
      ]
     },
     "execution_count": 43,
     "metadata": {},
     "output_type": "execute_result"
    }
   ],
   "source": [
    "model.fit(X_train, y_train.values.ravel())"
   ]
  },
  {
   "cell_type": "code",
   "execution_count": 44,
   "id": "af59f8c0",
   "metadata": {
    "execution": {
     "iopub.execute_input": "2025-07-30T20:06:25.465200Z",
     "iopub.status.busy": "2025-07-30T20:06:25.464689Z",
     "iopub.status.idle": "2025-07-30T20:06:25.469586Z",
     "shell.execute_reply": "2025-07-30T20:06:25.468851Z"
    },
    "papermill": {
     "duration": 0.018976,
     "end_time": "2025-07-30T20:06:25.470860",
     "exception": false,
     "start_time": "2025-07-30T20:06:25.451884",
     "status": "completed"
    },
    "tags": []
   },
   "outputs": [],
   "source": [
    "from fairness_multiverse.universe import predict_w_threshold"
   ]
  },
  {
   "cell_type": "code",
   "execution_count": 45,
   "id": "a7cf2e16",
   "metadata": {
    "execution": {
     "iopub.execute_input": "2025-07-30T20:06:25.495708Z",
     "iopub.status.busy": "2025-07-30T20:06:25.495404Z",
     "iopub.status.idle": "2025-07-30T20:06:25.582836Z",
     "shell.execute_reply": "2025-07-30T20:06:25.581989Z"
    },
    "papermill": {
     "duration": 0.100871,
     "end_time": "2025-07-30T20:06:25.584137",
     "exception": false,
     "start_time": "2025-07-30T20:06:25.483266",
     "status": "completed"
    },
    "tags": []
   },
   "outputs": [
    {
     "data": {
      "text/plain": [
       "0.8625459814959313"
      ]
     },
     "execution_count": 45,
     "metadata": {},
     "output_type": "execute_result"
    }
   ],
   "source": [
    "probs_test = model.predict_proba(X_test)\n",
    "\n",
    "'''\n",
    "Below code returns a boolean array (or binary 0/1 array depending on how it’s used) where each element \n",
    "is True if the probability of class 1 is greater than or equal to the threshold, and False otherwise.\n",
    "'''\n",
    "y_pred_default = predict_w_threshold(probs_test, 0.5)\n",
    "\n",
    "from sklearn.metrics import accuracy_score\n",
    "\n",
    "# Naive prediction\n",
    "accuracy_score(y_true = y_true, y_pred = y_pred_default)"
   ]
  },
  {
   "cell_type": "code",
   "execution_count": 46,
   "id": "081964c3",
   "metadata": {
    "execution": {
     "iopub.execute_input": "2025-07-30T20:06:25.609420Z",
     "iopub.status.busy": "2025-07-30T20:06:25.608929Z",
     "iopub.status.idle": "2025-07-30T20:06:25.682340Z",
     "shell.execute_reply": "2025-07-30T20:06:25.681488Z"
    },
    "papermill": {
     "duration": 0.087212,
     "end_time": "2025-07-30T20:06:25.683651",
     "exception": false,
     "start_time": "2025-07-30T20:06:25.596439",
     "status": "completed"
    },
    "tags": []
   },
   "outputs": [
    {
     "data": {
      "text/plain": [
       "array([0, 0, 0, ..., 0, 0, 0])"
      ]
     },
     "execution_count": 46,
     "metadata": {},
     "output_type": "execute_result"
    }
   ],
   "source": [
    "model.predict(X_test)"
   ]
  },
  {
   "cell_type": "markdown",
   "id": "56c9705b",
   "metadata": {
    "papermill": {
     "duration": 0.011685,
     "end_time": "2025-07-30T20:06:25.707949",
     "exception": false,
     "start_time": "2025-07-30T20:06:25.696264",
     "status": "completed"
    },
    "tags": []
   },
   "source": [
    "# Conformal Prediction"
   ]
  },
  {
   "cell_type": "code",
   "execution_count": 47,
   "id": "160ec6ff",
   "metadata": {
    "execution": {
     "iopub.execute_input": "2025-07-30T20:06:25.732627Z",
     "iopub.status.busy": "2025-07-30T20:06:25.732132Z",
     "iopub.status.idle": "2025-07-30T20:06:25.736668Z",
     "shell.execute_reply": "2025-07-30T20:06:25.735965Z"
    },
    "papermill": {
     "duration": 0.018416,
     "end_time": "2025-07-30T20:06:25.738011",
     "exception": false,
     "start_time": "2025-07-30T20:06:25.719595",
     "status": "completed"
    },
    "tags": []
   },
   "outputs": [],
   "source": [
    "# Miscoverage level for conformal prediction (10% allowed error rate => 90% target coverage)\n",
    "alpha = 0.1"
   ]
  },
  {
   "cell_type": "code",
   "execution_count": 48,
   "id": "eadf4555-3dd3-440e-8e35-f82a4ad9f855",
   "metadata": {
    "execution": {
     "iopub.execute_input": "2025-07-30T20:06:25.764397Z",
     "iopub.status.busy": "2025-07-30T20:06:25.763756Z",
     "iopub.status.idle": "2025-07-30T20:06:25.838871Z",
     "shell.execute_reply": "2025-07-30T20:06:25.838123Z"
    },
    "papermill": {
     "duration": 0.089655,
     "end_time": "2025-07-30T20:06:25.840395",
     "exception": false,
     "start_time": "2025-07-30T20:06:25.750740",
     "status": "completed"
    },
    "tags": []
   },
   "outputs": [],
   "source": [
    "probs_calib = model.predict_proba(X_calib)"
   ]
  },
  {
   "cell_type": "code",
   "execution_count": 49,
   "id": "2ed93547-6d5d-4983-9b36-1ecb300da49a",
   "metadata": {
    "execution": {
     "iopub.execute_input": "2025-07-30T20:06:25.866403Z",
     "iopub.status.busy": "2025-07-30T20:06:25.866011Z",
     "iopub.status.idle": "2025-07-30T20:06:25.870656Z",
     "shell.execute_reply": "2025-07-30T20:06:25.869884Z"
    },
    "papermill": {
     "duration": 0.01878,
     "end_time": "2025-07-30T20:06:25.872024",
     "exception": false,
     "start_time": "2025-07-30T20:06:25.853244",
     "status": "completed"
    },
    "tags": []
   },
   "outputs": [],
   "source": [
    "y_calib = y_calib.values.ravel().astype(int)"
   ]
  },
  {
   "cell_type": "code",
   "execution_count": 50,
   "id": "65d1320d-f588-4b38-9072-62af1ae97f7d",
   "metadata": {
    "execution": {
     "iopub.execute_input": "2025-07-30T20:06:25.898510Z",
     "iopub.status.busy": "2025-07-30T20:06:25.898015Z",
     "iopub.status.idle": "2025-07-30T20:06:25.905106Z",
     "shell.execute_reply": "2025-07-30T20:06:25.904114Z"
    },
    "papermill": {
     "duration": 0.02161,
     "end_time": "2025-07-30T20:06:25.906524",
     "exception": false,
     "start_time": "2025-07-30T20:06:25.884914",
     "status": "completed"
    },
    "tags": []
   },
   "outputs": [],
   "source": [
    "from fairness_multiverse.conformal import compute_nc_scores\n",
    "\n",
    "# Compute nonconformity scores on calibration set (1 - probability of true class)\n",
    "nc_scores = compute_nc_scores(probs_calib, y_calib)"
   ]
  },
  {
   "cell_type": "code",
   "execution_count": 51,
   "id": "df3b8ca3-53b7-43d5-9667-7c85da7aeda2",
   "metadata": {
    "execution": {
     "iopub.execute_input": "2025-07-30T20:06:25.934625Z",
     "iopub.status.busy": "2025-07-30T20:06:25.933981Z",
     "iopub.status.idle": "2025-07-30T20:06:25.939541Z",
     "shell.execute_reply": "2025-07-30T20:06:25.938829Z"
    },
    "papermill": {
     "duration": 0.019489,
     "end_time": "2025-07-30T20:06:25.940817",
     "exception": false,
     "start_time": "2025-07-30T20:06:25.921328",
     "status": "completed"
    },
    "tags": []
   },
   "outputs": [],
   "source": [
    "from fairness_multiverse.conformal import find_threshold\n",
    "\n",
    "# Find conformal threshold q_hat for the given alpha (split conformal method)\n",
    "q_hat = find_threshold(nc_scores, alpha)"
   ]
  },
  {
   "cell_type": "code",
   "execution_count": 52,
   "id": "4d29e6c1-0ef6-4aa4-b8fe-4fe79b0d033a",
   "metadata": {
    "execution": {
     "iopub.execute_input": "2025-07-30T20:06:25.966864Z",
     "iopub.status.busy": "2025-07-30T20:06:25.966314Z",
     "iopub.status.idle": "2025-07-30T20:06:25.972586Z",
     "shell.execute_reply": "2025-07-30T20:06:25.971795Z"
    },
    "papermill": {
     "duration": 0.020178,
     "end_time": "2025-07-30T20:06:25.973779",
     "exception": false,
     "start_time": "2025-07-30T20:06:25.953601",
     "status": "completed"
    },
    "tags": []
   },
   "outputs": [
    {
     "data": {
      "text/plain": [
       "0.6895333078207089"
      ]
     },
     "execution_count": 52,
     "metadata": {},
     "output_type": "execute_result"
    }
   ],
   "source": [
    "q_hat"
   ]
  },
  {
   "cell_type": "code",
   "execution_count": 53,
   "id": "92460794-cdac-4be2-ba28-f28c0515a6fb",
   "metadata": {
    "execution": {
     "iopub.execute_input": "2025-07-30T20:06:25.999704Z",
     "iopub.status.busy": "2025-07-30T20:06:25.999036Z",
     "iopub.status.idle": "2025-07-30T20:06:26.469461Z",
     "shell.execute_reply": "2025-07-30T20:06:26.468713Z"
    },
    "papermill": {
     "duration": 0.484704,
     "end_time": "2025-07-30T20:06:26.471014",
     "exception": false,
     "start_time": "2025-07-30T20:06:25.986310",
     "status": "completed"
    },
    "tags": []
   },
   "outputs": [],
   "source": [
    "from fairness_multiverse.conformal import predict_conformal_sets\n",
    "\n",
    "# Generate prediction sets for each test example\n",
    "pred_sets = predict_conformal_sets(model, X_test, q_hat)"
   ]
  },
  {
   "cell_type": "code",
   "execution_count": 54,
   "id": "d90c9a65-e6db-4f5d-80cd-e68fb7e46829",
   "metadata": {
    "execution": {
     "iopub.execute_input": "2025-07-30T20:06:26.497035Z",
     "iopub.status.busy": "2025-07-30T20:06:26.496714Z",
     "iopub.status.idle": "2025-07-30T20:06:26.500981Z",
     "shell.execute_reply": "2025-07-30T20:06:26.500184Z"
    },
    "papermill": {
     "duration": 0.018274,
     "end_time": "2025-07-30T20:06:26.502138",
     "exception": false,
     "start_time": "2025-07-30T20:06:26.483864",
     "status": "completed"
    },
    "tags": []
   },
   "outputs": [],
   "source": [
    "y_true = y_true.squeeze()"
   ]
  },
  {
   "cell_type": "code",
   "execution_count": 55,
   "id": "3a58a54a-1e68-46b9-927a-df01f18aebc8",
   "metadata": {
    "execution": {
     "iopub.execute_input": "2025-07-30T20:06:26.533008Z",
     "iopub.status.busy": "2025-07-30T20:06:26.532319Z",
     "iopub.status.idle": "2025-07-30T20:06:27.036653Z",
     "shell.execute_reply": "2025-07-30T20:06:27.035916Z"
    },
    "papermill": {
     "duration": 0.521248,
     "end_time": "2025-07-30T20:06:27.038065",
     "exception": false,
     "start_time": "2025-07-30T20:06:26.516817",
     "status": "completed"
    },
    "tags": []
   },
   "outputs": [],
   "source": [
    "from fairness_multiverse.conformal import evaluate_sets\n",
    "\n",
    "# Evaluate coverage and average set size on test data\n",
    "metrics = evaluate_sets(pred_sets, y_true)"
   ]
  },
  {
   "cell_type": "markdown",
   "id": "2b569c12-9aaa-4c88-98c9-bbcd0cf3ebb8",
   "metadata": {
    "papermill": {
     "duration": 0.011984,
     "end_time": "2025-07-30T20:06:27.063079",
     "exception": false,
     "start_time": "2025-07-30T20:06:27.051095",
     "status": "completed"
    },
    "tags": []
   },
   "source": [
    "# CP Metrics"
   ]
  },
  {
   "cell_type": "code",
   "execution_count": 56,
   "id": "5ce0a5cb-201f-45a0-ade5-94c7f0bd6095",
   "metadata": {
    "execution": {
     "iopub.execute_input": "2025-07-30T20:06:27.088736Z",
     "iopub.status.busy": "2025-07-30T20:06:27.088233Z",
     "iopub.status.idle": "2025-07-30T20:06:27.094247Z",
     "shell.execute_reply": "2025-07-30T20:06:27.093584Z"
    },
    "papermill": {
     "duration": 0.020454,
     "end_time": "2025-07-30T20:06:27.095470",
     "exception": false,
     "start_time": "2025-07-30T20:06:27.075016",
     "status": "completed"
    },
    "tags": []
   },
   "outputs": [
    {
     "data": {
      "text/plain": [
       "{'coverage': 0.9115037342548211, 'avg_size': 1.135336082933898}"
      ]
     },
     "execution_count": 56,
     "metadata": {},
     "output_type": "execute_result"
    }
   ],
   "source": [
    "metrics"
   ]
  },
  {
   "cell_type": "code",
   "execution_count": 57,
   "id": "9b9a838d-31c9-430b-ae14-12baee460d17",
   "metadata": {
    "execution": {
     "iopub.execute_input": "2025-07-30T20:06:27.121722Z",
     "iopub.status.busy": "2025-07-30T20:06:27.121110Z",
     "iopub.status.idle": "2025-07-30T20:06:27.126345Z",
     "shell.execute_reply": "2025-07-30T20:06:27.125606Z"
    },
    "papermill": {
     "duration": 0.019421,
     "end_time": "2025-07-30T20:06:27.127674",
     "exception": false,
     "start_time": "2025-07-30T20:06:27.108253",
     "status": "completed"
    },
    "tags": []
   },
   "outputs": [],
   "source": [
    "example_universe = universe.copy()\n",
    "universe_training_year = example_universe.get(\"training_year\")\n",
    "universe_training_size = example_universe.get(\"training_size\")\n",
    "universe_scale = example_universe.get(\"scale\")\n",
    "universe_model = example_universe.get(\"model\")\n",
    "universe_exclude_features = example_universe.get(\"exclude_features\")\n",
    "universe_exclude_subgroups = example_universe.get(\"exclude_subgroups\")"
   ]
  },
  {
   "cell_type": "code",
   "execution_count": 58,
   "id": "f4b6a8ac-9dc0-4245-8a91-5b3b5999c4f9",
   "metadata": {
    "execution": {
     "iopub.execute_input": "2025-07-30T20:06:27.154138Z",
     "iopub.status.busy": "2025-07-30T20:06:27.153539Z",
     "iopub.status.idle": "2025-07-30T20:06:27.158725Z",
     "shell.execute_reply": "2025-07-30T20:06:27.157900Z"
    },
    "papermill": {
     "duration": 0.019258,
     "end_time": "2025-07-30T20:06:27.159937",
     "exception": false,
     "start_time": "2025-07-30T20:06:27.140679",
     "status": "completed"
    },
    "tags": []
   },
   "outputs": [],
   "source": [
    "cp_metrics_dict = {\n",
    "    \"universe_id\": [universe_id],\n",
    "    \"universe_training_year\": [universe_training_year],\n",
    "    \"universe_training_size\": [universe_training_size],\n",
    "    \"universe_scale\": [universe_scale],\n",
    "    \"universe_model\": [universe_model],\n",
    "    \"universe_exclude_features\": [universe_exclude_features],\n",
    "    \"universe_exclude_subgroups\": [universe_exclude_subgroups],\n",
    "    \"q_hat\": [q_hat],\n",
    "    \"coverage\": [metrics[\"coverage\"]],\n",
    "    \"avg_size\": [metrics[\"avg_size\"]],\n",
    "}"
   ]
  },
  {
   "cell_type": "code",
   "execution_count": 59,
   "id": "908acbb1-0371-4915-85ca-3fa520d2efe2",
   "metadata": {
    "execution": {
     "iopub.execute_input": "2025-07-30T20:06:27.186313Z",
     "iopub.status.busy": "2025-07-30T20:06:27.185685Z",
     "iopub.status.idle": "2025-07-30T20:06:27.191819Z",
     "shell.execute_reply": "2025-07-30T20:06:27.191127Z"
    },
    "papermill": {
     "duration": 0.020599,
     "end_time": "2025-07-30T20:06:27.193159",
     "exception": false,
     "start_time": "2025-07-30T20:06:27.172560",
     "status": "completed"
    },
    "tags": []
   },
   "outputs": [
    {
     "data": {
      "text/plain": [
       "{'universe_id': ['60ebf4699c19f6b356b9cca1ba7479d8'],\n",
       " 'universe_training_year': ['2014'],\n",
       " 'universe_training_size': ['25k'],\n",
       " 'universe_scale': ['do-not-scale'],\n",
       " 'universe_model': ['elasticnet'],\n",
       " 'universe_exclude_features': ['nationality-sex'],\n",
       " 'universe_exclude_subgroups': ['keep-all'],\n",
       " 'q_hat': [0.6895333078207089],\n",
       " 'coverage': [0.9115037342548211],\n",
       " 'avg_size': [1.135336082933898]}"
      ]
     },
     "execution_count": 59,
     "metadata": {},
     "output_type": "execute_result"
    }
   ],
   "source": [
    "cp_metrics_dict"
   ]
  },
  {
   "cell_type": "code",
   "execution_count": 60,
   "id": "33007efc-14e9-4ec6-97ac-56a455c82265",
   "metadata": {
    "execution": {
     "iopub.execute_input": "2025-07-30T20:06:27.219999Z",
     "iopub.status.busy": "2025-07-30T20:06:27.219372Z",
     "iopub.status.idle": "2025-07-30T20:06:27.224588Z",
     "shell.execute_reply": "2025-07-30T20:06:27.223825Z"
    },
    "papermill": {
     "duration": 0.019696,
     "end_time": "2025-07-30T20:06:27.225841",
     "exception": false,
     "start_time": "2025-07-30T20:06:27.206145",
     "status": "completed"
    },
    "tags": []
   },
   "outputs": [],
   "source": [
    "cp_metrics_df = pd.DataFrame(cp_metrics_dict)"
   ]
  },
  {
   "cell_type": "code",
   "execution_count": 61,
   "id": "db12611b-57b2-4910-b9d0-355adfd6e7bf",
   "metadata": {
    "execution": {
     "iopub.execute_input": "2025-07-30T20:06:27.253059Z",
     "iopub.status.busy": "2025-07-30T20:06:27.252431Z",
     "iopub.status.idle": "2025-07-30T20:06:27.266040Z",
     "shell.execute_reply": "2025-07-30T20:06:27.265384Z"
    },
    "papermill": {
     "duration": 0.028182,
     "end_time": "2025-07-30T20:06:27.267275",
     "exception": false,
     "start_time": "2025-07-30T20:06:27.239093",
     "status": "completed"
    },
    "tags": []
   },
   "outputs": [
    {
     "data": {
      "text/html": [
       "<div>\n",
       "<style scoped>\n",
       "    .dataframe tbody tr th:only-of-type {\n",
       "        vertical-align: middle;\n",
       "    }\n",
       "\n",
       "    .dataframe tbody tr th {\n",
       "        vertical-align: top;\n",
       "    }\n",
       "\n",
       "    .dataframe thead th {\n",
       "        text-align: right;\n",
       "    }\n",
       "</style>\n",
       "<table border=\"1\" class=\"dataframe\">\n",
       "  <thead>\n",
       "    <tr style=\"text-align: right;\">\n",
       "      <th></th>\n",
       "      <th>universe_id</th>\n",
       "      <th>universe_training_year</th>\n",
       "      <th>universe_training_size</th>\n",
       "      <th>universe_scale</th>\n",
       "      <th>universe_model</th>\n",
       "      <th>universe_exclude_features</th>\n",
       "      <th>universe_exclude_subgroups</th>\n",
       "      <th>q_hat</th>\n",
       "      <th>coverage</th>\n",
       "      <th>avg_size</th>\n",
       "    </tr>\n",
       "  </thead>\n",
       "  <tbody>\n",
       "    <tr>\n",
       "      <th>0</th>\n",
       "      <td>60ebf4699c19f6b356b9cca1ba7479d8</td>\n",
       "      <td>2014</td>\n",
       "      <td>25k</td>\n",
       "      <td>do-not-scale</td>\n",
       "      <td>elasticnet</td>\n",
       "      <td>nationality-sex</td>\n",
       "      <td>keep-all</td>\n",
       "      <td>0.689533</td>\n",
       "      <td>0.911504</td>\n",
       "      <td>1.135336</td>\n",
       "    </tr>\n",
       "  </tbody>\n",
       "</table>\n",
       "</div>"
      ],
      "text/plain": [
       "                        universe_id universe_training_year  \\\n",
       "0  60ebf4699c19f6b356b9cca1ba7479d8                   2014   \n",
       "\n",
       "  universe_training_size universe_scale universe_model  \\\n",
       "0                    25k   do-not-scale     elasticnet   \n",
       "\n",
       "  universe_exclude_features universe_exclude_subgroups     q_hat  coverage  \\\n",
       "0           nationality-sex                   keep-all  0.689533  0.911504   \n",
       "\n",
       "   avg_size  \n",
       "0  1.135336  "
      ]
     },
     "execution_count": 61,
     "metadata": {},
     "output_type": "execute_result"
    }
   ],
   "source": [
    "cp_metrics_df"
   ]
  },
  {
   "cell_type": "code",
   "execution_count": 62,
   "id": "b7fbde55-a0a1-47e4-9af6-fe4a17fa8c61",
   "metadata": {
    "execution": {
     "iopub.execute_input": "2025-07-30T20:06:27.294631Z",
     "iopub.status.busy": "2025-07-30T20:06:27.294111Z",
     "iopub.status.idle": "2025-07-30T20:06:27.298508Z",
     "shell.execute_reply": "2025-07-30T20:06:27.297771Z"
    },
    "papermill": {
     "duration": 0.019096,
     "end_time": "2025-07-30T20:06:27.299717",
     "exception": false,
     "start_time": "2025-07-30T20:06:27.280621",
     "status": "completed"
    },
    "tags": []
   },
   "outputs": [],
   "source": [
    "# Conditional Coverage & looking at subgroups"
   ]
  },
  {
   "cell_type": "code",
   "execution_count": 63,
   "id": "027ae886-68dd-4141-96c7-805a5450e1ef",
   "metadata": {
    "execution": {
     "iopub.execute_input": "2025-07-30T20:06:27.326962Z",
     "iopub.status.busy": "2025-07-30T20:06:27.326356Z",
     "iopub.status.idle": "2025-07-30T20:06:27.498596Z",
     "shell.execute_reply": "2025-07-30T20:06:27.497868Z"
    },
    "papermill": {
     "duration": 0.187069,
     "end_time": "2025-07-30T20:06:27.500021",
     "exception": false,
     "start_time": "2025-07-30T20:06:27.312952",
     "status": "completed"
    },
    "tags": []
   },
   "outputs": [],
   "source": [
    "from fairness_multiverse.conformal import build_cp_groups\n",
    "\n",
    "cp_groups_df = build_cp_groups(pred_sets, y_true, X_test.index, org_test)\n",
    "#needs universe_id and setting"
   ]
  },
  {
   "cell_type": "code",
   "execution_count": 64,
   "id": "01d5802c-663a-4d1f-9d69-e036faaffbf7",
   "metadata": {
    "execution": {
     "iopub.execute_input": "2025-07-30T20:06:27.527373Z",
     "iopub.status.busy": "2025-07-30T20:06:27.527044Z",
     "iopub.status.idle": "2025-07-30T20:06:27.530819Z",
     "shell.execute_reply": "2025-07-30T20:06:27.530035Z"
    },
    "papermill": {
     "duration": 0.018434,
     "end_time": "2025-07-30T20:06:27.532022",
     "exception": false,
     "start_time": "2025-07-30T20:06:27.513588",
     "status": "completed"
    },
    "tags": []
   },
   "outputs": [],
   "source": [
    "#delete\n",
    "#cp_groups_df"
   ]
  },
  {
   "cell_type": "code",
   "execution_count": 65,
   "id": "fa424af1-d1eb-443d-b717-2d279ada8408",
   "metadata": {
    "execution": {
     "iopub.execute_input": "2025-07-30T20:06:27.559813Z",
     "iopub.status.busy": "2025-07-30T20:06:27.559068Z",
     "iopub.status.idle": "2025-07-30T20:06:27.563367Z",
     "shell.execute_reply": "2025-07-30T20:06:27.562617Z"
    },
    "papermill": {
     "duration": 0.019044,
     "end_time": "2025-07-30T20:06:27.564752",
     "exception": false,
     "start_time": "2025-07-30T20:06:27.545708",
     "status": "completed"
    },
    "tags": []
   },
   "outputs": [],
   "source": [
    "#delete\n",
    "#percentage = (cp_groups_df['nongerman_female'] == 1).mean() * 100\n",
    "#print(percentage)\n"
   ]
  },
  {
   "cell_type": "code",
   "execution_count": 66,
   "id": "6cbdab96-b2b2-45af-ad54-d0516db2e28d",
   "metadata": {
    "execution": {
     "iopub.execute_input": "2025-07-30T20:06:27.592140Z",
     "iopub.status.busy": "2025-07-30T20:06:27.591497Z",
     "iopub.status.idle": "2025-07-30T20:06:28.467209Z",
     "shell.execute_reply": "2025-07-30T20:06:28.466471Z"
    },
    "papermill": {
     "duration": 0.89072,
     "end_time": "2025-07-30T20:06:28.468672",
     "exception": false,
     "start_time": "2025-07-30T20:06:27.577952",
     "status": "completed"
    },
    "tags": []
   },
   "outputs": [],
   "source": [
    "# Define covered = 1 if true_label is in the predicted set\n",
    "cp_groups_df['covered'] = cp_groups_df.apply(\n",
    "    lambda r: int(r['true_label'] in r['pred_set']),\n",
    "    axis=1\n",
    ")"
   ]
  },
  {
   "cell_type": "code",
   "execution_count": 67,
   "id": "338ff529-1a6b-4b87-a931-8e4788d52aad",
   "metadata": {
    "execution": {
     "iopub.execute_input": "2025-07-30T20:06:28.496268Z",
     "iopub.status.busy": "2025-07-30T20:06:28.495893Z",
     "iopub.status.idle": "2025-07-30T20:06:28.500078Z",
     "shell.execute_reply": "2025-07-30T20:06:28.499047Z"
    },
    "papermill": {
     "duration": 0.019043,
     "end_time": "2025-07-30T20:06:28.501366",
     "exception": false,
     "start_time": "2025-07-30T20:06:28.482323",
     "status": "completed"
    },
    "tags": []
   },
   "outputs": [],
   "source": [
    "#cp_groups_df"
   ]
  },
  {
   "cell_type": "code",
   "execution_count": 68,
   "id": "90032e27-66df-4540-9169-4e89cfbaa758",
   "metadata": {
    "execution": {
     "iopub.execute_input": "2025-07-30T20:06:28.529038Z",
     "iopub.status.busy": "2025-07-30T20:06:28.528409Z",
     "iopub.status.idle": "2025-07-30T20:06:28.537142Z",
     "shell.execute_reply": "2025-07-30T20:06:28.536466Z"
    },
    "papermill": {
     "duration": 0.023783,
     "end_time": "2025-07-30T20:06:28.538441",
     "exception": false,
     "start_time": "2025-07-30T20:06:28.514658",
     "status": "completed"
    },
    "tags": []
   },
   "outputs": [],
   "source": [
    "subgroups = ['frau1','nongerman','nongerman_male','nongerman_female']\n",
    "\n",
    "# Conditional coverage for subgroup==1\n",
    "cond_coverage = {\n",
    "    g: cp_groups_df.loc[cp_groups_df[g]==1, 'covered'].mean()\n",
    "    for g in subgroups\n",
    "}"
   ]
  },
  {
   "cell_type": "code",
   "execution_count": 69,
   "id": "1e348fb1-b9c3-45bc-ba23-f016827a7e0d",
   "metadata": {
    "execution": {
     "iopub.execute_input": "2025-07-30T20:06:28.566523Z",
     "iopub.status.busy": "2025-07-30T20:06:28.565781Z",
     "iopub.status.idle": "2025-07-30T20:06:28.571712Z",
     "shell.execute_reply": "2025-07-30T20:06:28.571047Z"
    },
    "papermill": {
     "duration": 0.020819,
     "end_time": "2025-07-30T20:06:28.573014",
     "exception": false,
     "start_time": "2025-07-30T20:06:28.552195",
     "status": "completed"
    },
    "tags": []
   },
   "outputs": [
    {
     "data": {
      "text/plain": [
       "{'frau1': 0.9103922361504246,\n",
       " 'nongerman': 0.9082692415651491,\n",
       " 'nongerman_male': 0.9236242456993605,\n",
       " 'nongerman_female': 0.8828614008941877}"
      ]
     },
     "execution_count": 69,
     "metadata": {},
     "output_type": "execute_result"
    }
   ],
   "source": [
    "cond_coverage"
   ]
  },
  {
   "cell_type": "code",
   "execution_count": 70,
   "id": "f5093324-c3dd-4d63-bc4c-8d945e5c8bbb",
   "metadata": {
    "execution": {
     "iopub.execute_input": "2025-07-30T20:06:28.600860Z",
     "iopub.status.busy": "2025-07-30T20:06:28.600414Z",
     "iopub.status.idle": "2025-07-30T20:06:28.606286Z",
     "shell.execute_reply": "2025-07-30T20:06:28.605614Z"
    },
    "papermill": {
     "duration": 0.020879,
     "end_time": "2025-07-30T20:06:28.607526",
     "exception": false,
     "start_time": "2025-07-30T20:06:28.586647",
     "status": "completed"
    },
    "tags": []
   },
   "outputs": [],
   "source": [
    "for subgroup, cov in cond_coverage.items():\n",
    "    cp_metrics_df[f\"cov_{subgroup}\"] = cov"
   ]
  },
  {
   "cell_type": "code",
   "execution_count": 71,
   "id": "6e872e10-dbe5-49e8-b554-5030c98ff75d",
   "metadata": {
    "execution": {
     "iopub.execute_input": "2025-07-30T20:06:28.635498Z",
     "iopub.status.busy": "2025-07-30T20:06:28.634860Z",
     "iopub.status.idle": "2025-07-30T20:06:28.649044Z",
     "shell.execute_reply": "2025-07-30T20:06:28.648325Z"
    },
    "papermill": {
     "duration": 0.02949,
     "end_time": "2025-07-30T20:06:28.650459",
     "exception": false,
     "start_time": "2025-07-30T20:06:28.620969",
     "status": "completed"
    },
    "tags": []
   },
   "outputs": [
    {
     "data": {
      "text/html": [
       "<div>\n",
       "<style scoped>\n",
       "    .dataframe tbody tr th:only-of-type {\n",
       "        vertical-align: middle;\n",
       "    }\n",
       "\n",
       "    .dataframe tbody tr th {\n",
       "        vertical-align: top;\n",
       "    }\n",
       "\n",
       "    .dataframe thead th {\n",
       "        text-align: right;\n",
       "    }\n",
       "</style>\n",
       "<table border=\"1\" class=\"dataframe\">\n",
       "  <thead>\n",
       "    <tr style=\"text-align: right;\">\n",
       "      <th></th>\n",
       "      <th>universe_id</th>\n",
       "      <th>universe_training_year</th>\n",
       "      <th>universe_training_size</th>\n",
       "      <th>universe_scale</th>\n",
       "      <th>universe_model</th>\n",
       "      <th>universe_exclude_features</th>\n",
       "      <th>universe_exclude_subgroups</th>\n",
       "      <th>q_hat</th>\n",
       "      <th>coverage</th>\n",
       "      <th>avg_size</th>\n",
       "      <th>cov_frau1</th>\n",
       "      <th>cov_nongerman</th>\n",
       "      <th>cov_nongerman_male</th>\n",
       "      <th>cov_nongerman_female</th>\n",
       "    </tr>\n",
       "  </thead>\n",
       "  <tbody>\n",
       "    <tr>\n",
       "      <th>0</th>\n",
       "      <td>60ebf4699c19f6b356b9cca1ba7479d8</td>\n",
       "      <td>2014</td>\n",
       "      <td>25k</td>\n",
       "      <td>do-not-scale</td>\n",
       "      <td>elasticnet</td>\n",
       "      <td>nationality-sex</td>\n",
       "      <td>keep-all</td>\n",
       "      <td>0.689533</td>\n",
       "      <td>0.911504</td>\n",
       "      <td>1.135336</td>\n",
       "      <td>0.910392</td>\n",
       "      <td>0.908269</td>\n",
       "      <td>0.923624</td>\n",
       "      <td>0.882861</td>\n",
       "    </tr>\n",
       "  </tbody>\n",
       "</table>\n",
       "</div>"
      ],
      "text/plain": [
       "                        universe_id universe_training_year  \\\n",
       "0  60ebf4699c19f6b356b9cca1ba7479d8                   2014   \n",
       "\n",
       "  universe_training_size universe_scale universe_model  \\\n",
       "0                    25k   do-not-scale     elasticnet   \n",
       "\n",
       "  universe_exclude_features universe_exclude_subgroups     q_hat  coverage  \\\n",
       "0           nationality-sex                   keep-all  0.689533  0.911504   \n",
       "\n",
       "   avg_size  cov_frau1  cov_nongerman  cov_nongerman_male  \\\n",
       "0  1.135336   0.910392       0.908269            0.923624   \n",
       "\n",
       "   cov_nongerman_female  \n",
       "0              0.882861  "
      ]
     },
     "execution_count": 71,
     "metadata": {},
     "output_type": "execute_result"
    }
   ],
   "source": [
    "cp_metrics_df"
   ]
  },
  {
   "cell_type": "markdown",
   "id": "33774451",
   "metadata": {
    "papermill": {
     "duration": 0.01286,
     "end_time": "2025-07-30T20:06:28.677045",
     "exception": false,
     "start_time": "2025-07-30T20:06:28.664185",
     "status": "completed"
    },
    "tags": []
   },
   "source": [
    "# (Fairness) Metrics"
   ]
  },
  {
   "cell_type": "code",
   "execution_count": 72,
   "id": "debc5d62",
   "metadata": {
    "execution": {
     "iopub.execute_input": "2025-07-30T20:06:28.704942Z",
     "iopub.status.busy": "2025-07-30T20:06:28.704455Z",
     "iopub.status.idle": "2025-07-30T20:06:28.718368Z",
     "shell.execute_reply": "2025-07-30T20:06:28.717698Z"
    },
    "papermill": {
     "duration": 0.029424,
     "end_time": "2025-07-30T20:06:28.719548",
     "exception": false,
     "start_time": "2025-07-30T20:06:28.690124",
     "status": "completed"
    },
    "tags": []
   },
   "outputs": [],
   "source": [
    "# do I need to include maxdeutsch1.missing?\n",
    "\n",
    "import numpy as np\n",
    "\n",
    "colname_to_bin = \"maxdeutsch1\"\n",
    "majority_value = org_train[colname_to_bin].mode()[0]\n",
    "\n",
    "org_test[\"majmin\"] = np.where(org_test[colname_to_bin] == majority_value, \"majority\", \"minority\")"
   ]
  },
  {
   "cell_type": "code",
   "execution_count": 73,
   "id": "06a50de5",
   "metadata": {
    "execution": {
     "iopub.execute_input": "2025-07-30T20:06:28.748216Z",
     "iopub.status.busy": "2025-07-30T20:06:28.747485Z",
     "iopub.status.idle": "2025-07-30T20:06:30.167340Z",
     "shell.execute_reply": "2025-07-30T20:06:30.166548Z"
    },
    "papermill": {
     "duration": 1.435519,
     "end_time": "2025-07-30T20:06:30.168905",
     "exception": false,
     "start_time": "2025-07-30T20:06:28.733386",
     "status": "completed"
    },
    "tags": []
   },
   "outputs": [],
   "source": [
    "example_universe = universe.copy()\n",
    "example_universe[\"cutoff\"] = example_universe[\"cutoff\"][0]\n",
    "example_universe[\"eval_fairness_grouping\"] = example_universe[\"eval_fairness_grouping\"][0]\n",
    "fairness_dict, metric_frame = universe_analysis.compute_metrics(\n",
    "    example_universe,\n",
    "    y_pred_prob=probs_test,\n",
    "    y_test=y_true,\n",
    "    org_test=org_test,\n",
    ")"
   ]
  },
  {
   "cell_type": "markdown",
   "id": "f95d4e02",
   "metadata": {
    "papermill": {
     "duration": 0.013141,
     "end_time": "2025-07-30T20:06:30.196118",
     "exception": false,
     "start_time": "2025-07-30T20:06:30.182977",
     "status": "completed"
    },
    "tags": []
   },
   "source": [
    "# Overall"
   ]
  },
  {
   "cell_type": "markdown",
   "id": "bdee4871",
   "metadata": {
    "papermill": {
     "duration": 0.013286,
     "end_time": "2025-07-30T20:06:30.222512",
     "exception": false,
     "start_time": "2025-07-30T20:06:30.209226",
     "status": "completed"
    },
    "tags": []
   },
   "source": [
    "Fairness\n",
    "Main fairness target: Equalized Odds. Seems to be a better fit than equal opportunity, since we're not only interested in Y = 1. Seems to be a better fit than demographic parity, since we also care about accuracy, not just equal distribution of preds.\n",
    "\n",
    "Pick column for computation of fairness metrics\n",
    "\n",
    "Performance\n",
    "Overall performance measures, most interesting in relation to the measures split by group below"
   ]
  },
  {
   "cell_type": "code",
   "execution_count": 74,
   "id": "c4e067c6",
   "metadata": {
    "execution": {
     "iopub.execute_input": "2025-07-30T20:06:30.250242Z",
     "iopub.status.busy": "2025-07-30T20:06:30.249740Z",
     "iopub.status.idle": "2025-07-30T20:06:30.257256Z",
     "shell.execute_reply": "2025-07-30T20:06:30.256539Z"
    },
    "papermill": {
     "duration": 0.022922,
     "end_time": "2025-07-30T20:06:30.258538",
     "exception": false,
     "start_time": "2025-07-30T20:06:30.235616",
     "status": "completed"
    },
    "tags": []
   },
   "outputs": [
    {
     "data": {
      "text/plain": [
       "accuracy                   0.221168\n",
       "balanced accuracy          0.541458\n",
       "f1                         0.242588\n",
       "precision                  0.138582\n",
       "false positive rate        0.889363\n",
       "false negative rate        0.027720\n",
       "selection rate             0.900000\n",
       "count                  89710.000000\n",
       "dtype: float64"
      ]
     },
     "execution_count": 74,
     "metadata": {},
     "output_type": "execute_result"
    }
   ],
   "source": [
    "metric_frame.overall"
   ]
  },
  {
   "cell_type": "markdown",
   "id": "e968fe9d",
   "metadata": {
    "papermill": {
     "duration": 0.013029,
     "end_time": "2025-07-30T20:06:30.285521",
     "exception": false,
     "start_time": "2025-07-30T20:06:30.272492",
     "status": "completed"
    },
    "tags": []
   },
   "source": [
    "By Group"
   ]
  },
  {
   "cell_type": "code",
   "execution_count": 75,
   "id": "ec325bce",
   "metadata": {
    "execution": {
     "iopub.execute_input": "2025-07-30T20:06:30.313408Z",
     "iopub.status.busy": "2025-07-30T20:06:30.312919Z",
     "iopub.status.idle": "2025-07-30T20:06:30.325434Z",
     "shell.execute_reply": "2025-07-30T20:06:30.324722Z"
    },
    "papermill": {
     "duration": 0.028155,
     "end_time": "2025-07-30T20:06:30.326809",
     "exception": false,
     "start_time": "2025-07-30T20:06:30.298654",
     "status": "completed"
    },
    "tags": []
   },
   "outputs": [
    {
     "data": {
      "text/html": [
       "<div>\n",
       "<style scoped>\n",
       "    .dataframe tbody tr th:only-of-type {\n",
       "        vertical-align: middle;\n",
       "    }\n",
       "\n",
       "    .dataframe tbody tr th {\n",
       "        vertical-align: top;\n",
       "    }\n",
       "\n",
       "    .dataframe thead th {\n",
       "        text-align: right;\n",
       "    }\n",
       "</style>\n",
       "<table border=\"1\" class=\"dataframe\">\n",
       "  <thead>\n",
       "    <tr style=\"text-align: right;\">\n",
       "      <th></th>\n",
       "      <th>accuracy</th>\n",
       "      <th>balanced accuracy</th>\n",
       "      <th>f1</th>\n",
       "      <th>precision</th>\n",
       "      <th>false positive rate</th>\n",
       "      <th>false negative rate</th>\n",
       "      <th>selection rate</th>\n",
       "      <th>count</th>\n",
       "    </tr>\n",
       "    <tr>\n",
       "      <th>majmin</th>\n",
       "      <th></th>\n",
       "      <th></th>\n",
       "      <th></th>\n",
       "      <th></th>\n",
       "      <th></th>\n",
       "      <th></th>\n",
       "      <th></th>\n",
       "      <th></th>\n",
       "    </tr>\n",
       "  </thead>\n",
       "  <tbody>\n",
       "    <tr>\n",
       "      <th>majority</th>\n",
       "      <td>0.243502</td>\n",
       "      <td>0.550850</td>\n",
       "      <td>0.252824</td>\n",
       "      <td>0.145386</td>\n",
       "      <td>0.86690</td>\n",
       "      <td>0.031400</td>\n",
       "      <td>0.880338</td>\n",
       "      <td>69170.0</td>\n",
       "    </tr>\n",
       "    <tr>\n",
       "      <th>minority</th>\n",
       "      <td>0.145959</td>\n",
       "      <td>0.511458</td>\n",
       "      <td>0.210318</td>\n",
       "      <td>0.117706</td>\n",
       "      <td>0.96357</td>\n",
       "      <td>0.013514</td>\n",
       "      <td>0.966212</td>\n",
       "      <td>20540.0</td>\n",
       "    </tr>\n",
       "  </tbody>\n",
       "</table>\n",
       "</div>"
      ],
      "text/plain": [
       "          accuracy  balanced accuracy        f1  precision  \\\n",
       "majmin                                                       \n",
       "majority  0.243502           0.550850  0.252824   0.145386   \n",
       "minority  0.145959           0.511458  0.210318   0.117706   \n",
       "\n",
       "          false positive rate  false negative rate  selection rate    count  \n",
       "majmin                                                                       \n",
       "majority              0.86690             0.031400        0.880338  69170.0  \n",
       "minority              0.96357             0.013514        0.966212  20540.0  "
      ]
     },
     "execution_count": 75,
     "metadata": {},
     "output_type": "execute_result"
    }
   ],
   "source": [
    "metric_frame.by_group"
   ]
  },
  {
   "cell_type": "code",
   "execution_count": 76,
   "id": "a9ddbe63",
   "metadata": {
    "execution": {
     "iopub.execute_input": "2025-07-30T20:06:30.355764Z",
     "iopub.status.busy": "2025-07-30T20:06:30.355302Z",
     "iopub.status.idle": "2025-07-30T20:06:32.408120Z",
     "shell.execute_reply": "2025-07-30T20:06:32.407274Z"
    },
    "papermill": {
     "duration": 2.068553,
     "end_time": "2025-07-30T20:06:32.409616",
     "exception": false,
     "start_time": "2025-07-30T20:06:30.341063",
     "status": "completed"
    },
    "tags": []
   },
   "outputs": [
    {
     "data": {
      "text/plain": [
       "array([[<Axes: title={'center': 'accuracy'}, xlabel='majmin'>,\n",
       "        <Axes: title={'center': 'balanced accuracy'}, xlabel='majmin'>,\n",
       "        <Axes: title={'center': 'f1'}, xlabel='majmin'>],\n",
       "       [<Axes: title={'center': 'precision'}, xlabel='majmin'>,\n",
       "        <Axes: title={'center': 'false positive rate'}, xlabel='majmin'>,\n",
       "        <Axes: title={'center': 'false negative rate'}, xlabel='majmin'>],\n",
       "       [<Axes: title={'center': 'selection rate'}, xlabel='majmin'>,\n",
       "        <Axes: title={'center': 'count'}, xlabel='majmin'>,\n",
       "        <Axes: xlabel='majmin'>]], dtype=object)"
      ]
     },
     "execution_count": 76,
     "metadata": {},
     "output_type": "execute_result"
    },
    {
     "data": {
      "image/png": "[encoded data removed]",
      "text/plain": [
       "<Figure size 1200x800 with 9 Axes>"
      ]
     },
     "metadata": {},
     "output_type": "display_data"
    }
   ],
   "source": [
    "# In a graphic\n",
    "metric_frame.by_group.plot.bar(\n",
    "    subplots=True,\n",
    "    layout=[3, 3],\n",
    "    legend=False,\n",
    "    figsize=[12, 8],\n",
    "    title=\"Show all metrics\",\n",
    ")"
   ]
  },
  {
   "cell_type": "markdown",
   "id": "f57a0bac",
   "metadata": {
    "papermill": {
     "duration": 0.026163,
     "end_time": "2025-07-30T20:06:32.464470",
     "exception": false,
     "start_time": "2025-07-30T20:06:32.438307",
     "status": "completed"
    },
    "tags": []
   },
   "source": [
    "# Final Output"
   ]
  },
  {
   "cell_type": "code",
   "execution_count": 77,
   "id": "96d280a3",
   "metadata": {
    "execution": {
     "iopub.execute_input": "2025-07-30T20:06:32.518103Z",
     "iopub.status.busy": "2025-07-30T20:06:32.517325Z",
     "iopub.status.idle": "2025-07-30T20:06:32.525113Z",
     "shell.execute_reply": "2025-07-30T20:06:32.524246Z"
    },
    "papermill": {
     "duration": 0.036388,
     "end_time": "2025-07-30T20:06:32.526571",
     "exception": false,
     "start_time": "2025-07-30T20:06:32.490183",
     "status": "completed"
    },
    "tags": []
   },
   "outputs": [
    {
     "data": {
      "text/plain": [
       "4"
      ]
     },
     "execution_count": 77,
     "metadata": {},
     "output_type": "execute_result"
    }
   ],
   "source": [
    "sub_universes = universe_analysis.generate_sub_universes()\n",
    "len(sub_universes)"
   ]
  },
  {
   "cell_type": "code",
   "execution_count": 78,
   "id": "92adf7ba",
   "metadata": {
    "execution": {
     "iopub.execute_input": "2025-07-30T20:06:32.580990Z",
     "iopub.status.busy": "2025-07-30T20:06:32.580355Z",
     "iopub.status.idle": "2025-07-30T20:06:32.586220Z",
     "shell.execute_reply": "2025-07-30T20:06:32.585404Z"
    },
    "papermill": {
     "duration": 0.034329,
     "end_time": "2025-07-30T20:06:32.587627",
     "exception": false,
     "start_time": "2025-07-30T20:06:32.553298",
     "status": "completed"
    },
    "tags": []
   },
   "outputs": [],
   "source": [
    "def filter_sub_universe_data(sub_universe, org_test):\n",
    "    # Keep all rows — no filtering\n",
    "    keep_rows_mask = np.ones(org_test.shape[0], dtype=bool)\n",
    "\n",
    "    print(f\"[INFO] Keeping all rows: {keep_rows_mask.sum()} rows retained.\")\n",
    "    return keep_rows_mask"
   ]
  },
  {
   "cell_type": "code",
   "execution_count": 79,
   "id": "4a759155",
   "metadata": {
    "execution": {
     "iopub.execute_input": "2025-07-30T20:06:32.642330Z",
     "iopub.status.busy": "2025-07-30T20:06:32.641692Z",
     "iopub.status.idle": "2025-07-30T20:06:43.684148Z",
     "shell.execute_reply": "2025-07-30T20:06:43.683315Z"
    },
    "papermill": {
     "duration": 11.071224,
     "end_time": "2025-07-30T20:06:43.685682",
     "exception": false,
     "start_time": "2025-07-30T20:06:32.614458",
     "status": "completed"
    },
    "tags": []
   },
   "outputs": [
    {
     "name": "stdout",
     "output_type": "stream",
     "text": [
      "Stopping execution_time clock.\n",
      "[INFO] Keeping all rows: 89710 rows retained.\n"
     ]
    },
    {
     "name": "stdout",
     "output_type": "stream",
     "text": [
      "[INFO] Keeping all rows: 89710 rows retained.\n"
     ]
    },
    {
     "name": "stdout",
     "output_type": "stream",
     "text": [
      "[INFO] Keeping all rows: 89710 rows retained.\n"
     ]
    },
    {
     "name": "stdout",
     "output_type": "stream",
     "text": [
      "[INFO] Keeping all rows: 89710 rows retained.\n"
     ]
    },
    {
     "data": {
      "text/html": [
       "<div>\n",
       "<style scoped>\n",
       "    .dataframe tbody tr th:only-of-type {\n",
       "        vertical-align: middle;\n",
       "    }\n",
       "\n",
       "    .dataframe tbody tr th {\n",
       "        vertical-align: top;\n",
       "    }\n",
       "\n",
       "    .dataframe thead th {\n",
       "        text-align: right;\n",
       "    }\n",
       "</style>\n",
       "<table border=\"1\" class=\"dataframe\">\n",
       "  <thead>\n",
       "    <tr style=\"text-align: right;\">\n",
       "      <th></th>\n",
       "      <th>run_no</th>\n",
       "      <th>universe_id</th>\n",
       "      <th>universe_settings</th>\n",
       "      <th>execution_time</th>\n",
       "      <th>test_size_n</th>\n",
       "      <th>test_size_frac</th>\n",
       "      <th>fair_main_equalized_odds_difference</th>\n",
       "      <th>fair_main_equalized_odds_ratio</th>\n",
       "      <th>fair_main_demographic_parity_difference</th>\n",
       "      <th>fair_main_demographic_parity_ratio</th>\n",
       "      <th>...</th>\n",
       "      <th>perf_grp_precision_0</th>\n",
       "      <th>perf_grp_precision_1</th>\n",
       "      <th>perf_grp_false positive rate_0</th>\n",
       "      <th>perf_grp_false positive rate_1</th>\n",
       "      <th>perf_grp_false negative rate_0</th>\n",
       "      <th>perf_grp_false negative rate_1</th>\n",
       "      <th>perf_grp_selection rate_0</th>\n",
       "      <th>perf_grp_selection rate_1</th>\n",
       "      <th>perf_grp_count_0</th>\n",
       "      <th>perf_grp_count_1</th>\n",
       "    </tr>\n",
       "  </thead>\n",
       "  <tbody>\n",
       "    <tr>\n",
       "      <th>0</th>\n",
       "      <td>14</td>\n",
       "      <td>60ebf4699c19f6b356b9cca1ba7479d8</td>\n",
       "      <td>{\"cutoff\": \"quantile_0.1\", \"eval_fairness_grou...</td>\n",
       "      <td>244.700093</td>\n",
       "      <td>89710</td>\n",
       "      <td>1.0</td>\n",
       "      <td>0.096670</td>\n",
       "      <td>0.899675</td>\n",
       "      <td>0.085874</td>\n",
       "      <td>0.911123</td>\n",
       "      <td>...</td>\n",
       "      <td>NaN</td>\n",
       "      <td>NaN</td>\n",
       "      <td>NaN</td>\n",
       "      <td>NaN</td>\n",
       "      <td>NaN</td>\n",
       "      <td>NaN</td>\n",
       "      <td>NaN</td>\n",
       "      <td>NaN</td>\n",
       "      <td>NaN</td>\n",
       "      <td>NaN</td>\n",
       "    </tr>\n",
       "    <tr>\n",
       "      <th>0</th>\n",
       "      <td>14</td>\n",
       "      <td>60ebf4699c19f6b356b9cca1ba7479d8</td>\n",
       "      <td>{\"cutoff\": \"quantile_0.1\", \"eval_fairness_grou...</td>\n",
       "      <td>244.700093</td>\n",
       "      <td>89710</td>\n",
       "      <td>1.0</td>\n",
       "      <td>0.096670</td>\n",
       "      <td>0.899675</td>\n",
       "      <td>0.085874</td>\n",
       "      <td>0.911123</td>\n",
       "      <td>...</td>\n",
       "      <td>0.117706</td>\n",
       "      <td>0.145386</td>\n",
       "      <td>0.963570</td>\n",
       "      <td>0.866900</td>\n",
       "      <td>0.013514</td>\n",
       "      <td>0.031400</td>\n",
       "      <td>0.966212</td>\n",
       "      <td>0.880338</td>\n",
       "      <td>20540.0</td>\n",
       "      <td>69170.0</td>\n",
       "    </tr>\n",
       "    <tr>\n",
       "      <th>0</th>\n",
       "      <td>14</td>\n",
       "      <td>60ebf4699c19f6b356b9cca1ba7479d8</td>\n",
       "      <td>{\"cutoff\": \"quantile_0.25\", \"eval_fairness_gro...</td>\n",
       "      <td>244.700093</td>\n",
       "      <td>89710</td>\n",
       "      <td>1.0</td>\n",
       "      <td>0.206771</td>\n",
       "      <td>0.766531</td>\n",
       "      <td>0.184447</td>\n",
       "      <td>0.793270</td>\n",
       "      <td>...</td>\n",
       "      <td>NaN</td>\n",
       "      <td>NaN</td>\n",
       "      <td>NaN</td>\n",
       "      <td>NaN</td>\n",
       "      <td>NaN</td>\n",
       "      <td>NaN</td>\n",
       "      <td>NaN</td>\n",
       "      <td>NaN</td>\n",
       "      <td>NaN</td>\n",
       "      <td>NaN</td>\n",
       "    </tr>\n",
       "    <tr>\n",
       "      <th>0</th>\n",
       "      <td>14</td>\n",
       "      <td>60ebf4699c19f6b356b9cca1ba7479d8</td>\n",
       "      <td>{\"cutoff\": \"quantile_0.25\", \"eval_fairness_gro...</td>\n",
       "      <td>244.700093</td>\n",
       "      <td>89710</td>\n",
       "      <td>1.0</td>\n",
       "      <td>0.206771</td>\n",
       "      <td>0.766531</td>\n",
       "      <td>0.184447</td>\n",
       "      <td>0.793270</td>\n",
       "      <td>...</td>\n",
       "      <td>0.121794</td>\n",
       "      <td>0.167559</td>\n",
       "      <td>0.885648</td>\n",
       "      <td>0.678877</td>\n",
       "      <td>0.057432</td>\n",
       "      <td>0.102516</td>\n",
       "      <td>0.892210</td>\n",
       "      <td>0.707763</td>\n",
       "      <td>20540.0</td>\n",
       "      <td>69170.0</td>\n",
       "    </tr>\n",
       "  </tbody>\n",
       "</table>\n",
       "<p>4 rows × 50 columns</p>\n",
       "</div>"
      ],
      "text/plain": [
       "  run_no                       universe_id  \\\n",
       "0     14  60ebf4699c19f6b356b9cca1ba7479d8   \n",
       "0     14  60ebf4699c19f6b356b9cca1ba7479d8   \n",
       "0     14  60ebf4699c19f6b356b9cca1ba7479d8   \n",
       "0     14  60ebf4699c19f6b356b9cca1ba7479d8   \n",
       "\n",
       "                                   universe_settings  execution_time  \\\n",
       "0  {\"cutoff\": \"quantile_0.1\", \"eval_fairness_grou...      244.700093   \n",
       "0  {\"cutoff\": \"quantile_0.1\", \"eval_fairness_grou...      244.700093   \n",
       "0  {\"cutoff\": \"quantile_0.25\", \"eval_fairness_gro...      244.700093   \n",
       "0  {\"cutoff\": \"quantile_0.25\", \"eval_fairness_gro...      244.700093   \n",
       "\n",
       "   test_size_n  test_size_frac  fair_main_equalized_odds_difference  \\\n",
       "0        89710             1.0                             0.096670   \n",
       "0        89710             1.0                             0.096670   \n",
       "0        89710             1.0                             0.206771   \n",
       "0        89710             1.0                             0.206771   \n",
       "\n",
       "   fair_main_equalized_odds_ratio  fair_main_demographic_parity_difference  \\\n",
       "0                        0.899675                                 0.085874   \n",
       "0                        0.899675                                 0.085874   \n",
       "0                        0.766531                                 0.184447   \n",
       "0                        0.766531                                 0.184447   \n",
       "\n",
       "   fair_main_demographic_parity_ratio  ...  perf_grp_precision_0  \\\n",
       "0                            0.911123  ...                   NaN   \n",
       "0                            0.911123  ...              0.117706   \n",
       "0                            0.793270  ...                   NaN   \n",
       "0                            0.793270  ...              0.121794   \n",
       "\n",
       "   perf_grp_precision_1  perf_grp_false positive rate_0  \\\n",
       "0                   NaN                             NaN   \n",
       "0              0.145386                        0.963570   \n",
       "0                   NaN                             NaN   \n",
       "0              0.167559                        0.885648   \n",
       "\n",
       "   perf_grp_false positive rate_1  perf_grp_false negative rate_0  \\\n",
       "0                             NaN                             NaN   \n",
       "0                        0.866900                        0.013514   \n",
       "0                             NaN                             NaN   \n",
       "0                        0.678877                        0.057432   \n",
       "\n",
       "   perf_grp_false negative rate_1  perf_grp_selection rate_0  \\\n",
       "0                             NaN                        NaN   \n",
       "0                        0.031400                   0.966212   \n",
       "0                             NaN                        NaN   \n",
       "0                        0.102516                   0.892210   \n",
       "\n",
       "   perf_grp_selection rate_1  perf_grp_count_0  perf_grp_count_1  \n",
       "0                        NaN               NaN               NaN  \n",
       "0                   0.880338           20540.0           69170.0  \n",
       "0                        NaN               NaN               NaN  \n",
       "0                   0.707763           20540.0           69170.0  \n",
       "\n",
       "[4 rows x 50 columns]"
      ]
     },
     "execution_count": 79,
     "metadata": {},
     "output_type": "execute_result"
    }
   ],
   "source": [
    "final_output = universe_analysis.generate_final_output(\n",
    "    y_pred_prob=probs_test,\n",
    "    y_test=y_true,\n",
    "    org_test=org_test,\n",
    "    filter_data=filter_sub_universe_data,\n",
    "    cp_metrics_df=cp_metrics_df,\n",
    "    save=True,\n",
    ")\n",
    "final_output"
   ]
  },
  {
   "cell_type": "code",
   "execution_count": null,
   "id": "721ff514-cb11-46f8-b6fc-50392f74b5cb",
   "metadata": {
    "papermill": {
     "duration": 0.026656,
     "end_time": "2025-07-30T20:06:43.742745",
     "exception": false,
     "start_time": "2025-07-30T20:06:43.716089",
     "status": "completed"
    },
    "tags": []
   },
   "outputs": [],
   "source": []
  }
 ],
 "metadata": {
  "celltoolbar": "Tags",
  "kernelspec": {
   "display_name": "Python (CMA Fairness)",
   "language": "python",
   "name": "cma_fair_env"
  },
  "language_info": {
   "codemirror_mode": {
    "name": "ipython",
    "version": 3
   },
   "file_extension": ".py",
   "mimetype": "text/x-python",
   "name": "python",
   "nbconvert_exporter": "python",
   "pygments_lexer": "ipython3",
   "version": "3.10.12"
  },
  "papermill": {
   "default_parameters": {},
   "duration": 259.878001,
   "end_time": "2025-07-30T20:06:44.488198",
   "environment_variables": {},
   "exception": null,
   "input_path": "universe_analysis.ipynb",
   "output_path": "output/runs/14/notebooks/m_14-60ebf4699c19f6b356b9cca1ba7479d8.ipynb",
   "parameters": {
    "output_dir": "output",
    "run_no": "14",
    "seed": "2023",
    "universe": "{\"cutoff\": [\"quantile_0.1\", \"quantile_0.25\"], \"eval_fairness_grouping\": [\"majority-minority\", \"nationality-all\"], \"exclude_features\": \"nationality-sex\", \"exclude_subgroups\": \"keep-all\", \"model\": \"elasticnet\", \"scale\": \"do-not-scale\", \"training_size\": \"25k\", \"training_year\": \"2014\"}",
    "universe_id": "60ebf4699c19f6b356b9cca1ba7479d8"
   },
   "start_time": "2025-07-30T20:02:24.610197",
   "version": "2.6.0"
  }
 },
 "nbformat": 4,
 "nbformat_minor": 5
}