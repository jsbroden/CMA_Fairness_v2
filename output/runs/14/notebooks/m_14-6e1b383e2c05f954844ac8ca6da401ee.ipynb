{
 "cells": [
  {
   "cell_type": "code",
   "execution_count": 1,
   "id": "f159f837-637b-42ba-96b5-ec9a68c44524",
   "metadata": {
    "execution": {
     "iopub.execute_input": "2025-07-30T21:23:47.050357Z",
     "iopub.status.busy": "2025-07-30T21:23:47.049834Z",
     "iopub.status.idle": "2025-07-30T21:23:47.063005Z",
     "shell.execute_reply": "2025-07-30T21:23:47.062111Z"
    },
    "papermill": {
     "duration": 0.036753,
     "end_time": "2025-07-30T21:23:47.064445",
     "exception": false,
     "start_time": "2025-07-30T21:23:47.027692",
     "status": "completed"
    },
    "tags": []
   },
   "outputs": [
    {
     "name": "stdout",
     "output_type": "stream",
     "text": [
      "/dss/dsshome1/0C/ra93lal2/cma/CMA_Fairness_v2\n"
     ]
    },
    {
     "name": "stderr",
     "output_type": "stream",
     "text": [
      "/dss/dsshome1/0C/ra93lal2/.local/share/virtualenvs/CMA_Fairness_v2-3j10GkSs/lib/python3.10/site-packages/IPython/core/magics/osm.py:393: UserWarning: This is now an optional IPython functionality, using bookmarks requires you to install the `pickleshare` library.\n",
      "  bkms = self.shell.db.get('bookmarks', {})\n",
      "/dss/dsshome1/0C/ra93lal2/.local/share/virtualenvs/CMA_Fairness_v2-3j10GkSs/lib/python3.10/site-packages/IPython/core/magics/osm.py:417: UserWarning: This is now an optional IPython functionality, setting dhist requires you to install the `pickleshare` library.\n",
      "  self.shell.db['dhist'] = compress_dhist(dhist)[-100:]\n"
     ]
    }
   ],
   "source": [
    "%cd ~/cma/CMA_Fairness_v2"
   ]
  },
  {
   "cell_type": "markdown",
   "id": "de2603b9",
   "metadata": {
    "papermill": {
     "duration": 0.012359,
     "end_time": "2025-07-30T21:23:47.088485",
     "exception": false,
     "start_time": "2025-07-30T21:23:47.076126",
     "status": "completed"
    },
    "tags": []
   },
   "source": [
    "The following cell holds the definition of our parameters, these values can be overriden by rendering the with e.g. the following command:\n",
    "\n",
    "papermill -p alpha 0.2 -p ratio 0.3 universe_analysis.ipynb output/test_run.ipynb"
   ]
  },
  {
   "cell_type": "code",
   "execution_count": 2,
   "id": "a80968a0-40bb-4fa9-85ef-2d5eefb01975",
   "metadata": {
    "execution": {
     "iopub.execute_input": "2025-07-30T21:23:47.110858Z",
     "iopub.status.busy": "2025-07-30T21:23:47.110513Z",
     "iopub.status.idle": "2025-07-30T21:23:47.115520Z",
     "shell.execute_reply": "2025-07-30T21:23:47.114599Z"
    },
    "papermill": {
     "duration": 0.017883,
     "end_time": "2025-07-30T21:23:47.116928",
     "exception": false,
     "start_time": "2025-07-30T21:23:47.099045",
     "status": "completed"
    },
    "tags": []
   },
   "outputs": [
    {
     "name": "stdout",
     "output_type": "stream",
     "text": [
      "Current working directory: /dss/dsshome1/0C/ra93lal2/cma/CMA_Fairness_v2\n"
     ]
    }
   ],
   "source": [
    "import os\n",
    "print(\"Current working directory:\", os.getcwd())"
   ]
  },
  {
   "cell_type": "code",
   "execution_count": 3,
   "id": "2dce4c03",
   "metadata": {
    "execution": {
     "iopub.execute_input": "2025-07-30T21:23:47.140979Z",
     "iopub.status.busy": "2025-07-30T21:23:47.140464Z",
     "iopub.status.idle": "2025-07-30T21:23:47.145587Z",
     "shell.execute_reply": "2025-07-30T21:23:47.144769Z"
    },
    "papermill": {
     "duration": 0.018443,
     "end_time": "2025-07-30T21:23:47.146992",
     "exception": false,
     "start_time": "2025-07-30T21:23:47.128549",
     "status": "completed"
    },
    "tags": [
     "parameters"
    ]
   },
   "outputs": [],
   "source": [
    "run_no = 0\n",
    "universe_id = \"test\"\n",
    "universe = {\n",
    "    \"training_size\": \"25k\", # \"25k\", \"5k\", \"1k\"\n",
    "    \"training_year\": \"2014\", # \"2014\", \"2012_14\", \"2010_14\"\n",
    "    \"scale\": \"scale\", # \"scale\", \"do-not-scale\",\n",
    "    #\"stratify_split\": \"target\", # \"none\", \"target\", \"protected-attribute\", \"both\",\n",
    "    \"model\": \"elasticnet\", # \"logreg\", \"penalized_logreg\", \"rf\", \"gbm\", \"elasticnet\"\n",
    "    \"cutoff\": [\"quantile_0.15\", \"quantile_0.30\"],\n",
    "    \"exclude_features\": \"age\", # \"none\", \"nationality\", \"sex\", \"nationality-sex\", \"age\"\n",
    "    \"exclude_subgroups\": \"keep-all\", # \"keep-all\", \"drop-non-german\"\n",
    "    \"eval_fairness_grouping\": [\"majority-minority\", \"nationality-all\"]\n",
    "}\n",
    "\n",
    "output_dir=\"./output\"\n",
    "seed=0"
   ]
  },
  {
   "cell_type": "code",
   "execution_count": 4,
   "id": "27c628ca",
   "metadata": {
    "execution": {
     "iopub.execute_input": "2025-07-30T21:23:47.171845Z",
     "iopub.status.busy": "2025-07-30T21:23:47.171098Z",
     "iopub.status.idle": "2025-07-30T21:23:47.176138Z",
     "shell.execute_reply": "2025-07-30T21:23:47.175354Z"
    },
    "papermill": {
     "duration": 0.018527,
     "end_time": "2025-07-30T21:23:47.177567",
     "exception": false,
     "start_time": "2025-07-30T21:23:47.159040",
     "status": "completed"
    },
    "tags": [
     "injected-parameters"
    ]
   },
   "outputs": [],
   "source": [
    "# Parameters\n",
    "universe_id = \"6e1b383e2c05f954844ac8ca6da401ee\"\n",
    "run_no = \"14\"\n",
    "universe = \"{\\\"cutoff\\\": [\\\"quantile_0.1\\\", \\\"quantile_0.25\\\"], \\\"eval_fairness_grouping\\\": [\\\"majority-minority\\\", \\\"nationality-all\\\"], \\\"exclude_features\\\": \\\"age\\\", \\\"exclude_subgroups\\\": \\\"keep-all\\\", \\\"model\\\": \\\"penalized_logreg\\\", \\\"scale\\\": \\\"scale\\\", \\\"training_size\\\": \\\"1k\\\", \\\"training_year\\\": \\\"2014\\\"}\"\n",
    "output_dir = \"output\"\n",
    "seed = \"2023\"\n"
   ]
  },
  {
   "cell_type": "code",
   "execution_count": 5,
   "id": "1650acaf",
   "metadata": {
    "execution": {
     "iopub.execute_input": "2025-07-30T21:23:47.202279Z",
     "iopub.status.busy": "2025-07-30T21:23:47.201852Z",
     "iopub.status.idle": "2025-07-30T21:23:47.207253Z",
     "shell.execute_reply": "2025-07-30T21:23:47.206446Z"
    },
    "papermill": {
     "duration": 0.019166,
     "end_time": "2025-07-30T21:23:47.209066",
     "exception": false,
     "start_time": "2025-07-30T21:23:47.189900",
     "status": "completed"
    },
    "tags": []
   },
   "outputs": [],
   "source": [
    "import json\n",
    "# Parse universe into dict if it is passed as a string\n",
    "if isinstance(universe, str):\n",
    "    universe = json.loads(universe)"
   ]
  },
  {
   "cell_type": "code",
   "execution_count": 6,
   "id": "16620c48",
   "metadata": {
    "execution": {
     "iopub.execute_input": "2025-07-30T21:23:47.255251Z",
     "iopub.status.busy": "2025-07-30T21:23:47.254702Z",
     "iopub.status.idle": "2025-07-30T21:23:47.310257Z",
     "shell.execute_reply": "2025-07-30T21:23:47.309161Z"
    },
    "papermill": {
     "duration": 0.079716,
     "end_time": "2025-07-30T21:23:47.312320",
     "exception": false,
     "start_time": "2025-07-30T21:23:47.232604",
     "status": "completed"
    },
    "tags": []
   },
   "outputs": [],
   "source": [
    "# Auto-reload the custom package\n",
    "%load_ext autoreload\n",
    "%autoreload 1\n",
    "%aimport fairness_multiverse"
   ]
  },
  {
   "cell_type": "code",
   "execution_count": 7,
   "id": "01c5c9f3",
   "metadata": {
    "execution": {
     "iopub.execute_input": "2025-07-30T21:23:47.357938Z",
     "iopub.status.busy": "2025-07-30T21:23:47.357300Z",
     "iopub.status.idle": "2025-07-30T21:23:49.275266Z",
     "shell.execute_reply": "2025-07-30T21:23:49.274437Z"
    },
    "papermill": {
     "duration": 1.943046,
     "end_time": "2025-07-30T21:23:49.277017",
     "exception": false,
     "start_time": "2025-07-30T21:23:47.333971",
     "status": "completed"
    },
    "tags": []
   },
   "outputs": [],
   "source": [
    "from fairness_multiverse.universe import UniverseAnalysis\n",
    "\n",
    "universe_analysis = UniverseAnalysis(\n",
    "    run_no = run_no,\n",
    "    universe_id = universe_id,\n",
    "    universe = universe,\n",
    "    output_dir=output_dir,\n",
    ")"
   ]
  },
  {
   "cell_type": "code",
   "execution_count": 8,
   "id": "106241f5",
   "metadata": {
    "execution": {
     "iopub.execute_input": "2025-07-30T21:23:49.301170Z",
     "iopub.status.busy": "2025-07-30T21:23:49.300797Z",
     "iopub.status.idle": "2025-07-30T21:23:49.306704Z",
     "shell.execute_reply": "2025-07-30T21:23:49.305585Z"
    },
    "papermill": {
     "duration": 0.020528,
     "end_time": "2025-07-30T21:23:49.308953",
     "exception": false,
     "start_time": "2025-07-30T21:23:49.288425",
     "status": "completed"
    },
    "tags": []
   },
   "outputs": [
    {
     "name": "stdout",
     "output_type": "stream",
     "text": [
      "Using Seed: 2023\n"
     ]
    }
   ],
   "source": [
    "import numpy as np\n",
    "parsed_seed = int(seed)\n",
    "np.random.seed(parsed_seed)\n",
    "print(f\"Using Seed: {parsed_seed}\")"
   ]
  },
  {
   "cell_type": "markdown",
   "id": "e0ebdc57",
   "metadata": {
    "papermill": {
     "duration": 0.02396,
     "end_time": "2025-07-30T21:23:49.359288",
     "exception": false,
     "start_time": "2025-07-30T21:23:49.335328",
     "status": "completed"
    },
    "tags": []
   },
   "source": [
    "# Loading Data"
   ]
  },
  {
   "cell_type": "markdown",
   "id": "681925a3",
   "metadata": {
    "papermill": {
     "duration": 0.023,
     "end_time": "2025-07-30T21:23:49.405716",
     "exception": false,
     "start_time": "2025-07-30T21:23:49.382716",
     "status": "completed"
    },
    "tags": []
   },
   "source": [
    "Load siab_train, siab_test, siab_calib and/or \n",
    "load siab_train_features, siab_train_labels"
   ]
  },
  {
   "cell_type": "code",
   "execution_count": 9,
   "id": "f0496b8a",
   "metadata": {
    "execution": {
     "iopub.execute_input": "2025-07-30T21:23:49.453432Z",
     "iopub.status.busy": "2025-07-30T21:23:49.452695Z",
     "iopub.status.idle": "2025-07-30T21:24:01.744918Z",
     "shell.execute_reply": "2025-07-30T21:24:01.743727Z"
    },
    "papermill": {
     "duration": 12.318103,
     "end_time": "2025-07-30T21:24:01.746410",
     "exception": false,
     "start_time": "2025-07-30T21:23:49.428307",
     "status": "completed"
    },
    "tags": []
   },
   "outputs": [
    {
     "name": "stdout",
     "output_type": "stream",
     "text": [
      "Loading SIAB data from cache: data/siab_cached.csv.gz\n"
     ]
    },
    {
     "name": "stdout",
     "output_type": "stream",
     "text": [
      "(643690, 164)\n"
     ]
    }
   ],
   "source": [
    "from pathlib import Path\n",
    "import pandas as pd\n",
    "\n",
    "# File paths\n",
    "raw_file = Path(\"data/raw/siab.csv\")\n",
    "cache_file = Path(\"data/siab_cached.csv.gz\")\n",
    "\n",
    "# Ensure cache directory exists\n",
    "cache_file.parent.mkdir(parents=True, exist_ok=True)\n",
    "\n",
    "# Load with simple caching\n",
    "if cache_file.exists():\n",
    "    print(f\"Loading SIAB data from cache: {cache_file}\")\n",
    "    siab = pd.read_csv(cache_file, compression='gzip')\n",
    "else:\n",
    "    print(f\"Cache not found. Reading raw SIAB data: {raw_file}\")\n",
    "    siab = pd.read_csv(raw_file)\n",
    "    siab.to_csv(cache_file, index=False, compression='gzip')\n",
    "    print(f\"Cached SIAB data to: {cache_file}\")\n",
    "\n",
    "# Now use `siab` DataFrame as needed\n",
    "print(siab.shape)"
   ]
  },
  {
   "cell_type": "code",
   "execution_count": 10,
   "id": "db0ca512-5f53-4dba-abdb-a2888bca41ba",
   "metadata": {
    "execution": {
     "iopub.execute_input": "2025-07-30T21:24:01.773123Z",
     "iopub.status.busy": "2025-07-30T21:24:01.772514Z",
     "iopub.status.idle": "2025-07-30T21:24:01.779463Z",
     "shell.execute_reply": "2025-07-30T21:24:01.778501Z"
    },
    "papermill": {
     "duration": 0.021148,
     "end_time": "2025-07-30T21:24:01.780835",
     "exception": false,
     "start_time": "2025-07-30T21:24:01.759687",
     "status": "completed"
    },
    "tags": []
   },
   "outputs": [],
   "source": [
    "#siab"
   ]
  },
  {
   "cell_type": "code",
   "execution_count": 11,
   "id": "a0edb063",
   "metadata": {
    "execution": {
     "iopub.execute_input": "2025-07-30T21:24:01.805004Z",
     "iopub.status.busy": "2025-07-30T21:24:01.804551Z",
     "iopub.status.idle": "2025-07-30T21:24:01.809747Z",
     "shell.execute_reply": "2025-07-30T21:24:01.808739Z"
    },
    "papermill": {
     "duration": 0.018173,
     "end_time": "2025-07-30T21:24:01.811093",
     "exception": false,
     "start_time": "2025-07-30T21:24:01.792920",
     "status": "completed"
    },
    "tags": []
   },
   "outputs": [],
   "source": [
    "#import pandas as pd\n",
    "#\n",
    "#X_train = pd.read_csv(\"./data/X_train.csv\")\n",
    "#y_train = pd.read_csv(\"./data/y_train.csv\")"
   ]
  },
  {
   "cell_type": "code",
   "execution_count": 12,
   "id": "63d08085",
   "metadata": {
    "execution": {
     "iopub.execute_input": "2025-07-30T21:24:01.853850Z",
     "iopub.status.busy": "2025-07-30T21:24:01.853223Z",
     "iopub.status.idle": "2025-07-30T21:24:01.858850Z",
     "shell.execute_reply": "2025-07-30T21:24:01.858016Z"
    },
    "papermill": {
     "duration": 0.036534,
     "end_time": "2025-07-30T21:24:01.860300",
     "exception": false,
     "start_time": "2025-07-30T21:24:01.823766",
     "status": "completed"
    },
    "tags": []
   },
   "outputs": [],
   "source": [
    "#X_test = pd.read_csv(\"./data/X_test.csv\")\n",
    "#y_true = pd.read_csv(\"./data/y_test.csv\")"
   ]
  },
  {
   "cell_type": "code",
   "execution_count": 13,
   "id": "98a8d0fa-1d3d-4ed8-bb2c-281470e24add",
   "metadata": {
    "execution": {
     "iopub.execute_input": "2025-07-30T21:24:01.887825Z",
     "iopub.status.busy": "2025-07-30T21:24:01.887396Z",
     "iopub.status.idle": "2025-07-30T21:24:01.892942Z",
     "shell.execute_reply": "2025-07-30T21:24:01.891720Z"
    },
    "papermill": {
     "duration": 0.021386,
     "end_time": "2025-07-30T21:24:01.894707",
     "exception": false,
     "start_time": "2025-07-30T21:24:01.873321",
     "status": "completed"
    },
    "tags": []
   },
   "outputs": [],
   "source": [
    "# Calibration data for conformal\n",
    "#X_calib = pd.read_csv(\"./data/X_calib.csv\")\n",
    "#y_calib = pd.read_csv(\"./data/y_calib.csv\")"
   ]
  },
  {
   "cell_type": "markdown",
   "id": "997051c5-15bd-4b69-9786-c3001a3ce484",
   "metadata": {
    "papermill": {
     "duration": 0.021044,
     "end_time": "2025-07-30T21:24:01.937059",
     "exception": false,
     "start_time": "2025-07-30T21:24:01.916015",
     "status": "completed"
    },
    "tags": []
   },
   "source": [
    "# Splitting Data and Setting Training Data Size"
   ]
  },
  {
   "cell_type": "code",
   "execution_count": 14,
   "id": "e993b61f-042d-41a6-8c81-f55681f86335",
   "metadata": {
    "execution": {
     "iopub.execute_input": "2025-07-30T21:24:01.990653Z",
     "iopub.status.busy": "2025-07-30T21:24:01.990192Z",
     "iopub.status.idle": "2025-07-30T21:24:02.004173Z",
     "shell.execute_reply": "2025-07-30T21:24:02.002999Z"
    },
    "papermill": {
     "duration": 0.049418,
     "end_time": "2025-07-30T21:24:02.006595",
     "exception": false,
     "start_time": "2025-07-30T21:24:01.957177",
     "status": "completed"
    },
    "tags": []
   },
   "outputs": [],
   "source": [
    "def sample_by_year_size(df,\n",
    "                        training_year: str,\n",
    "                        training_size: str,\n",
    "                        random_state: int = 42):\n",
    "    # --- parse training_year into a list of int years ---\n",
    "    if \"_\" in training_year:\n",
    "        start_str, end_str = training_year.split(\"_\", 1)\n",
    "        start = int(start_str)\n",
    "        end   = int(end_str) if len(end_str) == 4 else (int(end_str) + (start // 100)*100)\n",
    "        years = list(range(start, end + 1))\n",
    "    else:\n",
    "        years = [int(training_year)]\n",
    "\n",
    "    df = df[df[\"year\"].isin(years)].reset_index(drop=True)\n",
    "\n",
    "    # --- map training_size to total number of samples ---\n",
    "    total_map = {\"25k\": 25_000, \"5k\": 5_000, \"1k\": 1_000}\n",
    "    if training_size not in total_map:\n",
    "        return df  # e.g. \"all\"\n",
    "\n",
    "    total_samples = total_map[training_size]\n",
    "    n_years       = len(years)\n",
    "    base          = total_samples // n_years\n",
    "    remainder     = total_samples % n_years\n",
    "\n",
    "    # --- build a dict: year -> how many to sample ---\n",
    "    # give +1 to the first `remainder` years in ascending order\n",
    "    quotas = {\n",
    "        year: base + (1 if idx < remainder else 0)\n",
    "        for idx, year in enumerate(sorted(years))\n",
    "    }\n",
    "\n",
    "    # --- sample per‐year according to the quota dict ---\n",
    "    sampled = (\n",
    "        df\n",
    "        .groupby(\"year\", group_keys=False)\n",
    "        .apply(lambda grp: grp.sample(\n",
    "            n=min(len(grp), quotas[grp.name]),\n",
    "            random_state=random_state))\n",
    "        .reset_index(drop=True)\n",
    "    )\n",
    "\n",
    "    return sampled"
   ]
  },
  {
   "cell_type": "code",
   "execution_count": 15,
   "id": "c0ccd338-0e02-41f3-a09d-f56f9266e3fb",
   "metadata": {
    "execution": {
     "iopub.execute_input": "2025-07-30T21:24:02.054538Z",
     "iopub.status.busy": "2025-07-30T21:24:02.052238Z",
     "iopub.status.idle": "2025-07-30T21:24:02.059610Z",
     "shell.execute_reply": "2025-07-30T21:24:02.058718Z"
    },
    "papermill": {
     "duration": 0.035437,
     "end_time": "2025-07-30T21:24:02.065323",
     "exception": false,
     "start_time": "2025-07-30T21:24:02.029886",
     "status": "completed"
    },
    "tags": []
   },
   "outputs": [],
   "source": [
    "#universe[\"training_size\"]"
   ]
  },
  {
   "cell_type": "code",
   "execution_count": 16,
   "id": "ca707fd7-8047-4acd-bfa5-66248fbbf8e6",
   "metadata": {
    "execution": {
     "iopub.execute_input": "2025-07-30T21:24:02.113102Z",
     "iopub.status.busy": "2025-07-30T21:24:02.112759Z",
     "iopub.status.idle": "2025-07-30T21:24:02.117766Z",
     "shell.execute_reply": "2025-07-30T21:24:02.117010Z"
    },
    "papermill": {
     "duration": 0.02692,
     "end_time": "2025-07-30T21:24:02.118988",
     "exception": false,
     "start_time": "2025-07-30T21:24:02.092068",
     "status": "completed"
    },
    "tags": []
   },
   "outputs": [],
   "source": [
    "#universe[\"training_year\"]"
   ]
  },
  {
   "cell_type": "code",
   "execution_count": 17,
   "id": "aea9c6ef-6f46-42c8-85eb-5a62025c1508",
   "metadata": {
    "execution": {
     "iopub.execute_input": "2025-07-30T21:24:02.144885Z",
     "iopub.status.busy": "2025-07-30T21:24:02.144538Z",
     "iopub.status.idle": "2025-07-30T21:24:02.357703Z",
     "shell.execute_reply": "2025-07-30T21:24:02.356691Z"
    },
    "papermill": {
     "duration": 0.227283,
     "end_time": "2025-07-30T21:24:02.359254",
     "exception": false,
     "start_time": "2025-07-30T21:24:02.131971",
     "status": "completed"
    },
    "tags": []
   },
   "outputs": [],
   "source": [
    "siab_train = sample_by_year_size(siab,\n",
    "                               training_year=universe[\"training_year\"],\n",
    "                               training_size=universe[\"training_size\"])"
   ]
  },
  {
   "cell_type": "code",
   "execution_count": 18,
   "id": "8d3afb32-789d-442c-8d5d-9f5aa8dd2eed",
   "metadata": {
    "execution": {
     "iopub.execute_input": "2025-07-30T21:24:02.402818Z",
     "iopub.status.busy": "2025-07-30T21:24:02.402431Z",
     "iopub.status.idle": "2025-07-30T21:24:02.407724Z",
     "shell.execute_reply": "2025-07-30T21:24:02.406555Z"
    },
    "papermill": {
     "duration": 0.028952,
     "end_time": "2025-07-30T21:24:02.409772",
     "exception": false,
     "start_time": "2025-07-30T21:24:02.380820",
     "status": "completed"
    },
    "tags": []
   },
   "outputs": [],
   "source": [
    "#siab_train.shape"
   ]
  },
  {
   "cell_type": "code",
   "execution_count": 19,
   "id": "d582db68-1a4c-47fb-84fc-08518dc1975a",
   "metadata": {
    "execution": {
     "iopub.execute_input": "2025-07-30T21:24:02.458390Z",
     "iopub.status.busy": "2025-07-30T21:24:02.457902Z",
     "iopub.status.idle": "2025-07-30T21:24:02.463598Z",
     "shell.execute_reply": "2025-07-30T21:24:02.462543Z"
    },
    "papermill": {
     "duration": 0.031146,
     "end_time": "2025-07-30T21:24:02.465652",
     "exception": false,
     "start_time": "2025-07-30T21:24:02.434506",
     "status": "completed"
    },
    "tags": []
   },
   "outputs": [],
   "source": [
    "#display(siab_train.groupby(\"year\").size())"
   ]
  },
  {
   "cell_type": "code",
   "execution_count": 20,
   "id": "a561edb4-d032-42cb-8256-22eac1111c64",
   "metadata": {
    "execution": {
     "iopub.execute_input": "2025-07-30T21:24:02.517001Z",
     "iopub.status.busy": "2025-07-30T21:24:02.516200Z",
     "iopub.status.idle": "2025-07-30T21:24:02.840154Z",
     "shell.execute_reply": "2025-07-30T21:24:02.838923Z"
    },
    "papermill": {
     "duration": 0.351497,
     "end_time": "2025-07-30T21:24:02.841986",
     "exception": false,
     "start_time": "2025-07-30T21:24:02.490489",
     "status": "completed"
    },
    "tags": []
   },
   "outputs": [],
   "source": [
    "#siab_train = siab_s[siab_s.year < 2015]\n",
    "siab_calib = siab[siab.year == 2015]\n",
    "siab_test = siab[siab.year == 2016]"
   ]
  },
  {
   "cell_type": "code",
   "execution_count": 21,
   "id": "472de16f-c3db-4916-846b-1f0de9cf1746",
   "metadata": {
    "execution": {
     "iopub.execute_input": "2025-07-30T21:24:02.889593Z",
     "iopub.status.busy": "2025-07-30T21:24:02.889098Z",
     "iopub.status.idle": "2025-07-30T21:24:02.896516Z",
     "shell.execute_reply": "2025-07-30T21:24:02.895442Z"
    },
    "papermill": {
     "duration": 0.034445,
     "end_time": "2025-07-30T21:24:02.898930",
     "exception": false,
     "start_time": "2025-07-30T21:24:02.864485",
     "status": "completed"
    },
    "tags": []
   },
   "outputs": [],
   "source": [
    "X_train = siab_train.iloc[:,4:164]\n",
    "y_train = siab_train.iloc[:, [3]]"
   ]
  },
  {
   "cell_type": "code",
   "execution_count": 22,
   "id": "828c96af-f43a-4ed6-ba47-8ac73a47d56c",
   "metadata": {
    "execution": {
     "iopub.execute_input": "2025-07-30T21:24:02.943555Z",
     "iopub.status.busy": "2025-07-30T21:24:02.943133Z",
     "iopub.status.idle": "2025-07-30T21:24:03.027733Z",
     "shell.execute_reply": "2025-07-30T21:24:03.026640Z"
    },
    "papermill": {
     "duration": 0.102669,
     "end_time": "2025-07-30T21:24:03.029522",
     "exception": false,
     "start_time": "2025-07-30T21:24:02.926853",
     "status": "completed"
    },
    "tags": []
   },
   "outputs": [],
   "source": [
    "X_calib = siab_calib.iloc[:,4:164]\n",
    "y_calib = siab_calib.iloc[:, [3]]"
   ]
  },
  {
   "cell_type": "code",
   "execution_count": 23,
   "id": "c34be9c3-6bd6-476e-acd3-845840e303be",
   "metadata": {
    "execution": {
     "iopub.execute_input": "2025-07-30T21:24:03.079904Z",
     "iopub.status.busy": "2025-07-30T21:24:03.079254Z",
     "iopub.status.idle": "2025-07-30T21:24:03.138923Z",
     "shell.execute_reply": "2025-07-30T21:24:03.138051Z"
    },
    "papermill": {
     "duration": 0.08739,
     "end_time": "2025-07-30T21:24:03.140914",
     "exception": false,
     "start_time": "2025-07-30T21:24:03.053524",
     "status": "completed"
    },
    "tags": []
   },
   "outputs": [],
   "source": [
    "X_test = siab_test.iloc[:,4:164]\n",
    "y_true = siab_test.iloc[:, [3]]"
   ]
  },
  {
   "cell_type": "markdown",
   "id": "9901737e-04df-44f0-9100-f5ad144ed040",
   "metadata": {
    "papermill": {
     "duration": 0.024025,
     "end_time": "2025-07-30T21:24:03.190239",
     "exception": false,
     "start_time": "2025-07-30T21:24:03.166214",
     "status": "completed"
    },
    "tags": []
   },
   "source": [
    "# Splitting Data and Setting Training Data Size OLD VERSION"
   ]
  },
  {
   "cell_type": "code",
   "execution_count": 24,
   "id": "acbc8f7d-8fc8-4e86-8c59-5dcb0f58384b",
   "metadata": {
    "execution": {
     "iopub.execute_input": "2025-07-30T21:24:03.242267Z",
     "iopub.status.busy": "2025-07-30T21:24:03.241450Z",
     "iopub.status.idle": "2025-07-30T21:24:03.247781Z",
     "shell.execute_reply": "2025-07-30T21:24:03.246008Z"
    },
    "papermill": {
     "duration": 0.034166,
     "end_time": "2025-07-30T21:24:03.249443",
     "exception": false,
     "start_time": "2025-07-30T21:24:03.215277",
     "status": "completed"
    },
    "tags": []
   },
   "outputs": [],
   "source": [
    "#def sample_by_year(df, training_size, random_state=42):\n",
    "#    if training_size == \"2014\":\n",
    "#        return df[df[\"year\"] == 2014].reset_index(drop=True)\n",
    "#    \n",
    "#    size_map = {\n",
    "#        \"25k\": 5000,\n",
    "#        \"5k\": 1000,\n",
    "#        \"1k\": 200\n",
    "#    }\n",
    "#\n",
    "#    if training_size not in size_map:\n",
    "#        return df.reset_index(drop=True)  # use all data\n",
    "#\n",
    "#    n_per_year = size_map[training_size]\n",
    "#    grouped = df.groupby(\"year\")\n",
    "#    sampled = grouped.apply(lambda x: x.sample(n=min(n_per_year, len(x)), random_state=random_state))\n",
    "#    return sampled.reset_index(drop=True)"
   ]
  },
  {
   "cell_type": "code",
   "execution_count": 25,
   "id": "6d931f52-beaf-43ff-9e78-9d44a448d54e",
   "metadata": {
    "execution": {
     "iopub.execute_input": "2025-07-30T21:24:03.310901Z",
     "iopub.status.busy": "2025-07-30T21:24:03.310382Z",
     "iopub.status.idle": "2025-07-30T21:24:03.315916Z",
     "shell.execute_reply": "2025-07-30T21:24:03.314786Z"
    },
    "papermill": {
     "duration": 0.032489,
     "end_time": "2025-07-30T21:24:03.317960",
     "exception": false,
     "start_time": "2025-07-30T21:24:03.285471",
     "status": "completed"
    },
    "tags": []
   },
   "outputs": [],
   "source": [
    "#siab_s = sample_by_year(siab, universe[\"training_size\"])"
   ]
  },
  {
   "cell_type": "code",
   "execution_count": 26,
   "id": "5db0a40e-a4e2-4920-be85-b12ae061d70d",
   "metadata": {
    "execution": {
     "iopub.execute_input": "2025-07-30T21:24:03.349461Z",
     "iopub.status.busy": "2025-07-30T21:24:03.349075Z",
     "iopub.status.idle": "2025-07-30T21:24:03.354101Z",
     "shell.execute_reply": "2025-07-30T21:24:03.353175Z"
    },
    "papermill": {
     "duration": 0.021112,
     "end_time": "2025-07-30T21:24:03.355786",
     "exception": false,
     "start_time": "2025-07-30T21:24:03.334674",
     "status": "completed"
    },
    "tags": []
   },
   "outputs": [],
   "source": [
    "#display(siab_s.groupby(\"year\").size())"
   ]
  },
  {
   "cell_type": "code",
   "execution_count": 27,
   "id": "e6c733c5",
   "metadata": {
    "execution": {
     "iopub.execute_input": "2025-07-30T21:24:03.403669Z",
     "iopub.status.busy": "2025-07-30T21:24:03.403212Z",
     "iopub.status.idle": "2025-07-30T21:24:03.519998Z",
     "shell.execute_reply": "2025-07-30T21:24:03.518935Z"
    },
    "papermill": {
     "duration": 0.14233,
     "end_time": "2025-07-30T21:24:03.521819",
     "exception": false,
     "start_time": "2025-07-30T21:24:03.379489",
     "status": "completed"
    },
    "tags": []
   },
   "outputs": [],
   "source": [
    "# Auxiliary data needed downstream in the pipeline\n",
    "\n",
    "org_train = X_train.copy()\n",
    "org_test = X_test.copy()\n",
    "org_calib = X_calib.copy()"
   ]
  },
  {
   "cell_type": "code",
   "execution_count": 28,
   "id": "1466abac-c6da-4492-a62f-4240ae3783af",
   "metadata": {
    "execution": {
     "iopub.execute_input": "2025-07-30T21:24:03.547482Z",
     "iopub.status.busy": "2025-07-30T21:24:03.546966Z",
     "iopub.status.idle": "2025-07-30T21:24:03.552925Z",
     "shell.execute_reply": "2025-07-30T21:24:03.552096Z"
    },
    "papermill": {
     "duration": 0.020268,
     "end_time": "2025-07-30T21:24:03.553951",
     "exception": false,
     "start_time": "2025-07-30T21:24:03.533683",
     "status": "completed"
    },
    "tags": []
   },
   "outputs": [],
   "source": [
    "# put in other script?\n",
    "# Group sizes\n",
    "\n",
    "#def calculate_percentages(df, df_name):\n",
    "#    total_entries = len(df)\n",
    "#\n",
    "#    female_pct = (df['frau1'] == 1).mean() * 100\n",
    "#    non_german_pct = ((df['maxdeutsch1'] == 0) & (df['maxdeutsch.Missing.'] == 0)).mean() * 100\n",
    "#    non_german_male_pct = ((df['frau1'] == 0) & (df['maxdeutsch1'] == 0) & (df['maxdeutsch.Missing.'] == 0)).mean() * 100\n",
    "#    non_german_female_pct = ((df['frau1'] == 1) & (df['maxdeutsch1'] == 0) & (df['maxdeutsch.Missing.'] == 0)).mean() * 100\n",
    "#\n",
    "#    print(f\"--- {df_name} ---\")\n",
    "#    print(f\"Female: {female_pct:.2f}%\")\n",
    "#    print(f\"Non-German: {non_german_pct:.2f}%\")\n",
    "#    print(f\"Non-German Male: {non_german_male_pct:.2f}%\")\n",
    "#    print(f\"Non-German Female: {non_german_female_pct:.2f}%\\n\")\n",
    "#\n",
    "## Calculate for each DataFrame\n",
    "#calculate_percentages(siab_calib, \"siab_calib\")\n",
    "#calculate_percentages(siab_test, \"siab_test\")\n",
    "#calculate_percentages(siab_train, \"siab_train\")"
   ]
  },
  {
   "cell_type": "markdown",
   "id": "0a4a1b33",
   "metadata": {
    "papermill": {
     "duration": 0.011917,
     "end_time": "2025-07-30T21:24:03.578238",
     "exception": false,
     "start_time": "2025-07-30T21:24:03.566321",
     "status": "completed"
    },
    "tags": []
   },
   "source": [
    "# Preprocessing Data"
   ]
  },
  {
   "cell_type": "code",
   "execution_count": 29,
   "id": "ca879031",
   "metadata": {
    "execution": {
     "iopub.execute_input": "2025-07-30T21:24:03.627151Z",
     "iopub.status.busy": "2025-07-30T21:24:03.626637Z",
     "iopub.status.idle": "2025-07-30T21:24:03.644115Z",
     "shell.execute_reply": "2025-07-30T21:24:03.642999Z"
    },
    "papermill": {
     "duration": 0.045032,
     "end_time": "2025-07-30T21:24:03.645752",
     "exception": false,
     "start_time": "2025-07-30T21:24:03.600720",
     "status": "completed"
    },
    "tags": []
   },
   "outputs": [],
   "source": [
    "# EXCLUDE PROTECTED FEATURES\n",
    "# ----------------------\n",
    "# \"exclude_features\": \"none\", # \"nationality\", \"sex\", \"nationality-sex\"\n",
    "\n",
    "excluded_features = universe[\"exclude_features\"].split(\"-\") # split, e.g.: \"nationality-sex\" -> [\"nationality\", \"sex\"]\n",
    "excluded_features_dictionary = {\n",
    "    \"nationality\": [\"maxdeutsch1\", \"maxdeutsch.Missing.\"],\n",
    "    \"sex\": [\"frau1\"],\n",
    "    \"age\": [\"age\"],\n",
    "}\n"
   ]
  },
  {
   "cell_type": "code",
   "execution_count": 30,
   "id": "b745ac60",
   "metadata": {
    "execution": {
     "iopub.execute_input": "2025-07-30T21:24:03.693242Z",
     "iopub.status.busy": "2025-07-30T21:24:03.692756Z",
     "iopub.status.idle": "2025-07-30T21:24:03.697592Z",
     "shell.execute_reply": "2025-07-30T21:24:03.696936Z"
    },
    "papermill": {
     "duration": 0.030944,
     "end_time": "2025-07-30T21:24:03.698869",
     "exception": false,
     "start_time": "2025-07-30T21:24:03.667925",
     "status": "completed"
    },
    "tags": []
   },
   "outputs": [],
   "source": [
    "# Code nice names to column names\n",
    "\n",
    "excluded_features_columns = [\n",
    "    excluded_features_dictionary[f] for f in excluded_features if len(f) > 0 and f != \"none\"\n",
    "]"
   ]
  },
  {
   "cell_type": "code",
   "execution_count": 31,
   "id": "f84f73a2",
   "metadata": {
    "execution": {
     "iopub.execute_input": "2025-07-30T21:24:03.746034Z",
     "iopub.status.busy": "2025-07-30T21:24:03.745280Z",
     "iopub.status.idle": "2025-07-30T21:24:03.750921Z",
     "shell.execute_reply": "2025-07-30T21:24:03.750013Z"
    },
    "papermill": {
     "duration": 0.032578,
     "end_time": "2025-07-30T21:24:03.752270",
     "exception": false,
     "start_time": "2025-07-30T21:24:03.719692",
     "status": "completed"
    },
    "tags": []
   },
   "outputs": [],
   "source": [
    "from utils import flatten_once\n",
    "\n",
    "excluded_features_columns = flatten_once(excluded_features_columns)"
   ]
  },
  {
   "cell_type": "code",
   "execution_count": 32,
   "id": "884dea22",
   "metadata": {
    "execution": {
     "iopub.execute_input": "2025-07-30T21:24:03.816784Z",
     "iopub.status.busy": "2025-07-30T21:24:03.816145Z",
     "iopub.status.idle": "2025-07-30T21:24:03.844827Z",
     "shell.execute_reply": "2025-07-30T21:24:03.843585Z"
    },
    "papermill": {
     "duration": 0.064055,
     "end_time": "2025-07-30T21:24:03.846583",
     "exception": false,
     "start_time": "2025-07-30T21:24:03.782528",
     "status": "completed"
    },
    "tags": []
   },
   "outputs": [
    {
     "name": "stdout",
     "output_type": "stream",
     "text": [
      "Dropping features: ['age']\n"
     ]
    }
   ],
   "source": [
    "if len(excluded_features_columns) > 0:\n",
    "    print(f\"Dropping features: {excluded_features_columns}\")\n",
    "    X_train.drop(excluded_features_columns, axis=1, inplace=True)"
   ]
  },
  {
   "cell_type": "code",
   "execution_count": 33,
   "id": "95ab8b16",
   "metadata": {
    "execution": {
     "iopub.execute_input": "2025-07-30T21:24:03.902147Z",
     "iopub.status.busy": "2025-07-30T21:24:03.901221Z",
     "iopub.status.idle": "2025-07-30T21:24:03.963663Z",
     "shell.execute_reply": "2025-07-30T21:24:03.962870Z"
    },
    "papermill": {
     "duration": 0.090431,
     "end_time": "2025-07-30T21:24:03.965055",
     "exception": false,
     "start_time": "2025-07-30T21:24:03.874624",
     "status": "completed"
    },
    "tags": []
   },
   "outputs": [
    {
     "name": "stdout",
     "output_type": "stream",
     "text": [
      "Dropping features: ['age']\n"
     ]
    }
   ],
   "source": [
    "if len(excluded_features_columns) > 0:\n",
    "    print(f\"Dropping features: {excluded_features_columns}\")\n",
    "    X_test.drop(excluded_features_columns, axis=1, inplace=True)"
   ]
  },
  {
   "cell_type": "code",
   "execution_count": 34,
   "id": "1853aaf5-fb9f-46cb-a2b5-8ea4ae2237e4",
   "metadata": {
    "execution": {
     "iopub.execute_input": "2025-07-30T21:24:03.990491Z",
     "iopub.status.busy": "2025-07-30T21:24:03.990149Z",
     "iopub.status.idle": "2025-07-30T21:24:04.043309Z",
     "shell.execute_reply": "2025-07-30T21:24:04.042222Z"
    },
    "papermill": {
     "duration": 0.067044,
     "end_time": "2025-07-30T21:24:04.045002",
     "exception": false,
     "start_time": "2025-07-30T21:24:03.977958",
     "status": "completed"
    },
    "tags": []
   },
   "outputs": [
    {
     "name": "stdout",
     "output_type": "stream",
     "text": [
      "Dropping features: ['age']\n"
     ]
    }
   ],
   "source": [
    "if len(excluded_features_columns) > 0:\n",
    "    print(f\"Dropping features: {excluded_features_columns}\")\n",
    "    X_calib.drop(excluded_features_columns, axis=1, inplace=True)"
   ]
  },
  {
   "cell_type": "code",
   "execution_count": 35,
   "id": "6727d079-03e5-481e-9d38-292a90b7a0a8",
   "metadata": {
    "execution": {
     "iopub.execute_input": "2025-07-30T21:24:04.090332Z",
     "iopub.status.busy": "2025-07-30T21:24:04.089994Z",
     "iopub.status.idle": "2025-07-30T21:24:04.094089Z",
     "shell.execute_reply": "2025-07-30T21:24:04.093164Z"
    },
    "papermill": {
     "duration": 0.028085,
     "end_time": "2025-07-30T21:24:04.095579",
     "exception": false,
     "start_time": "2025-07-30T21:24:04.067494",
     "status": "completed"
    },
    "tags": []
   },
   "outputs": [],
   "source": [
    "# SPLIT & STRATIFY DATA\n",
    "# ----------------------"
   ]
  },
  {
   "cell_type": "code",
   "execution_count": 36,
   "id": "76c4dc6d",
   "metadata": {
    "execution": {
     "iopub.execute_input": "2025-07-30T21:24:04.143741Z",
     "iopub.status.busy": "2025-07-30T21:24:04.142867Z",
     "iopub.status.idle": "2025-07-30T21:24:04.149009Z",
     "shell.execute_reply": "2025-07-30T21:24:04.147958Z"
    },
    "papermill": {
     "duration": 0.031791,
     "end_time": "2025-07-30T21:24:04.150985",
     "exception": false,
     "start_time": "2025-07-30T21:24:04.119194",
     "status": "completed"
    },
    "tags": []
   },
   "outputs": [],
   "source": [
    "# EXCLUDE CERTAIN SUBGROUPS\n",
    "# ----------------------\n",
    "\n",
    "mode = universe.get(\"exclude_subgroups\", \"keep-all\") \n",
    "# Fetches the exclude_subgroups setting from the universe dict.\n",
    "# Defaults to \"keep-all\" if the key is missing."
   ]
  },
  {
   "cell_type": "code",
   "execution_count": 37,
   "id": "21994072",
   "metadata": {
    "execution": {
     "iopub.execute_input": "2025-07-30T21:24:04.202411Z",
     "iopub.status.busy": "2025-07-30T21:24:04.201411Z",
     "iopub.status.idle": "2025-07-30T21:24:04.210361Z",
     "shell.execute_reply": "2025-07-30T21:24:04.209149Z"
    },
    "papermill": {
     "duration": 0.035051,
     "end_time": "2025-07-30T21:24:04.211715",
     "exception": false,
     "start_time": "2025-07-30T21:24:04.176664",
     "status": "completed"
    },
    "tags": []
   },
   "outputs": [],
   "source": [
    "if mode == \"keep-all\":\n",
    "    keep_mask = pd.Series(True, index=org_train.index)\n",
    "\n",
    "# org_train contains the original feature columns from features_org (in Simson)\n",
    "# features_org contains unprocessed features, for me X_train at beginning ???\n",
    "# For keep-all, creates a boolean Series (keep_mask) of all True, so no rows are removed.\n",
    "\n",
    "elif mode == \"drop-non-german\":\n",
    "    keep_mask = org_train[\"maxdeutsch1\"] == 1 # ??? what about missing values?\n",
    "\n",
    "else:\n",
    "    raise ValueError(f\"Unsupported mode for exclude_subgroups: {mode}\")\n"
   ]
  },
  {
   "cell_type": "code",
   "execution_count": 38,
   "id": "71651440",
   "metadata": {
    "execution": {
     "iopub.execute_input": "2025-07-30T21:24:04.240189Z",
     "iopub.status.busy": "2025-07-30T21:24:04.239570Z",
     "iopub.status.idle": "2025-07-30T21:24:04.246059Z",
     "shell.execute_reply": "2025-07-30T21:24:04.245309Z"
    },
    "papermill": {
     "duration": 0.020509,
     "end_time": "2025-07-30T21:24:04.247310",
     "exception": false,
     "start_time": "2025-07-30T21:24:04.226801",
     "status": "completed"
    },
    "tags": []
   },
   "outputs": [],
   "source": [
    "n_drop = (~keep_mask).sum() # Calculates how many rows are set to be dropped\n",
    "if n_drop > 0:\n",
    "    pct = n_drop / len(keep_mask) * 100\n",
    "    print(f\"Dropping {n_drop} rows ({pct:.2f}%) where mode='{mode}'\")"
   ]
  },
  {
   "cell_type": "code",
   "execution_count": 39,
   "id": "5fb8eee5",
   "metadata": {
    "execution": {
     "iopub.execute_input": "2025-07-30T21:24:04.284675Z",
     "iopub.status.busy": "2025-07-30T21:24:04.283399Z",
     "iopub.status.idle": "2025-07-30T21:24:04.292150Z",
     "shell.execute_reply": "2025-07-30T21:24:04.291286Z"
    },
    "papermill": {
     "duration": 0.03097,
     "end_time": "2025-07-30T21:24:04.293744",
     "exception": false,
     "start_time": "2025-07-30T21:24:04.262774",
     "status": "completed"
    },
    "tags": []
   },
   "outputs": [],
   "source": [
    "X_train = X_train[keep_mask]"
   ]
  },
  {
   "cell_type": "code",
   "execution_count": 40,
   "id": "b202bb3a",
   "metadata": {
    "execution": {
     "iopub.execute_input": "2025-07-30T21:24:04.342467Z",
     "iopub.status.busy": "2025-07-30T21:24:04.339226Z",
     "iopub.status.idle": "2025-07-30T21:24:04.347191Z",
     "shell.execute_reply": "2025-07-30T21:24:04.346312Z"
    },
    "papermill": {
     "duration": 0.032764,
     "end_time": "2025-07-30T21:24:04.348770",
     "exception": false,
     "start_time": "2025-07-30T21:24:04.316006",
     "status": "completed"
    },
    "tags": []
   },
   "outputs": [],
   "source": [
    "y_train = y_train[keep_mask]"
   ]
  },
  {
   "cell_type": "markdown",
   "id": "493e2ac3",
   "metadata": {
    "papermill": {
     "duration": 0.023346,
     "end_time": "2025-07-30T21:24:04.395451",
     "exception": false,
     "start_time": "2025-07-30T21:24:04.372105",
     "status": "completed"
    },
    "tags": []
   },
   "source": [
    "# Model Training"
   ]
  },
  {
   "cell_type": "code",
   "execution_count": 41,
   "id": "679e1268",
   "metadata": {
    "execution": {
     "iopub.execute_input": "2025-07-30T21:24:04.441768Z",
     "iopub.status.busy": "2025-07-30T21:24:04.441284Z",
     "iopub.status.idle": "2025-07-30T21:24:04.566929Z",
     "shell.execute_reply": "2025-07-30T21:24:04.565952Z"
    },
    "papermill": {
     "duration": 0.15109,
     "end_time": "2025-07-30T21:24:04.568890",
     "exception": false,
     "start_time": "2025-07-30T21:24:04.417800",
     "status": "completed"
    },
    "tags": []
   },
   "outputs": [],
   "source": [
    "from sklearn.linear_model import LogisticRegression\n",
    "from sklearn.ensemble import GradientBoostingClassifier, RandomForestClassifier\n",
    "\n",
    "if (universe[\"model\"] == \"logreg\"):\n",
    "    model = LogisticRegression() #penalty=\"none\") #, solver=\"newton-cg\", max_iter=1) # include random_state=19 ?\n",
    "elif (universe[\"model\"] == \"penalized_logreg\"):\n",
    "    model = LogisticRegression(penalty=\"l2\", C=1.0) #, solver=\"newton-cg\", max_iter=1)\n",
    "elif (universe[\"model\"] == \"rf\"):\n",
    "    model = RandomForestClassifier(n_estimators=100, n_jobs=-1)\n",
    "elif (universe[\"model\"] == \"gbm\"):\n",
    "    model = GradientBoostingClassifier()\n",
    "elif (universe[\"model\"] == \"elasticnet\"):\n",
    "    model = LogisticRegression(penalty = 'elasticnet', solver = 'saga', l1_ratio = 0.5, max_iter=5000) # which solver to use?\n",
    "else:\n",
    "    raise \"Unsupported universe.model\""
   ]
  },
  {
   "cell_type": "code",
   "execution_count": 42,
   "id": "0cc8f744",
   "metadata": {
    "execution": {
     "iopub.execute_input": "2025-07-30T21:24:04.606358Z",
     "iopub.status.busy": "2025-07-30T21:24:04.605936Z",
     "iopub.status.idle": "2025-07-30T21:24:04.656739Z",
     "shell.execute_reply": "2025-07-30T21:24:04.655707Z"
    },
    "papermill": {
     "duration": 0.065621,
     "end_time": "2025-07-30T21:24:04.658518",
     "exception": false,
     "start_time": "2025-07-30T21:24:04.592897",
     "status": "completed"
    },
    "tags": []
   },
   "outputs": [],
   "source": [
    "import numpy as np\n",
    "from sklearn.pipeline import Pipeline\n",
    "from sklearn.preprocessing import StandardScaler\n",
    "\n",
    "model = Pipeline([\n",
    "    #(\"continuous_processor\", continuous_processor),\n",
    "    #(\"categorical_preprocessor\", categorical_preprocessor),\n",
    "    (\"scale\", StandardScaler() if universe[\"scale\"] == \"scale\" else None), \n",
    "    (\"model\", model),\n",
    "])"
   ]
  },
  {
   "cell_type": "code",
   "execution_count": 43,
   "id": "9442c04d",
   "metadata": {
    "execution": {
     "iopub.execute_input": "2025-07-30T21:24:04.716639Z",
     "iopub.status.busy": "2025-07-30T21:24:04.716128Z",
     "iopub.status.idle": "2025-07-30T21:24:04.797930Z",
     "shell.execute_reply": "2025-07-30T21:24:04.796982Z"
    },
    "papermill": {
     "duration": 0.109378,
     "end_time": "2025-07-30T21:24:04.799549",
     "exception": false,
     "start_time": "2025-07-30T21:24:04.690171",
     "status": "completed"
    },
    "tags": []
   },
   "outputs": [
    {
     "name": "stderr",
     "output_type": "stream",
     "text": [
      "/dss/dsshome1/0C/ra93lal2/.local/share/virtualenvs/CMA_Fairness_v2-3j10GkSs/lib/python3.10/site-packages/sklearn/linear_model/_logistic.py:444: ConvergenceWarning: lbfgs failed to converge (status=1):\n",
      "STOP: TOTAL NO. of ITERATIONS REACHED LIMIT.\n",
      "\n",
      "Increase the number of iterations (max_iter) or scale the data as shown in:\n",
      "    https://scikit-learn.org/stable/modules/preprocessing.html\n",
      "Please also refer to the documentation for alternative solver options:\n",
      "    https://scikit-learn.org/stable/modules/linear_model.html#logistic-regression\n",
      "  n_iter_i = _check_optimize_result(\n"
     ]
    },
    {
     "data": {
      "text/html": [
       "<style>#sk-container-id-1 {color: black;background-color: white;}#sk-container-id-1 pre{padding: 0;}#sk-container-id-1 div.sk-toggleable {background-color: white;}#sk-container-id-1 label.sk-toggleable__label {cursor: pointer;display: block;width: 100%;margin-bottom: 0;padding: 0.3em;box-sizing: border-box;text-align: center;}#sk-container-id-1 label.sk-toggleable__label-arrow:before {content: \"▸\";float: left;margin-right: 0.25em;color: #696969;}#sk-container-id-1 label.sk-toggleable__label-arrow:hover:before {color: black;}#sk-container-id-1 div.sk-estimator:hover label.sk-toggleable__label-arrow:before {color: black;}#sk-container-id-1 div.sk-toggleable__content {max-height: 0;max-width: 0;overflow: hidden;text-align: left;background-color: #f0f8ff;}#sk-container-id-1 div.sk-toggleable__content pre {margin: 0.2em;color: black;border-radius: 0.25em;background-color: #f0f8ff;}#sk-container-id-1 input.sk-toggleable__control:checked~div.sk-toggleable__content {max-height: 200px;max-width: 100%;overflow: auto;}#sk-container-id-1 input.sk-toggleable__control:checked~label.sk-toggleable__label-arrow:before {content: \"▾\";}#sk-container-id-1 div.sk-estimator input.sk-toggleable__control:checked~label.sk-toggleable__label {background-color: #d4ebff;}#sk-container-id-1 div.sk-label input.sk-toggleable__control:checked~label.sk-toggleable__label {background-color: #d4ebff;}#sk-container-id-1 input.sk-hidden--visually {border: 0;clip: rect(1px 1px 1px 1px);clip: rect(1px, 1px, 1px, 1px);height: 1px;margin: -1px;overflow: hidden;padding: 0;position: absolute;width: 1px;}#sk-container-id-1 div.sk-estimator {font-family: monospace;background-color: #f0f8ff;border: 1px dotted black;border-radius: 0.25em;box-sizing: border-box;margin-bottom: 0.5em;}#sk-container-id-1 div.sk-estimator:hover {background-color: #d4ebff;}#sk-container-id-1 div.sk-parallel-item::after {content: \"\";width: 100%;border-bottom: 1px solid gray;flex-grow: 1;}#sk-container-id-1 div.sk-label:hover label.sk-toggleable__label {background-color: #d4ebff;}#sk-container-id-1 div.sk-serial::before {content: \"\";position: absolute;border-left: 1px solid gray;box-sizing: border-box;top: 0;bottom: 0;left: 50%;z-index: 0;}#sk-container-id-1 div.sk-serial {display: flex;flex-direction: column;align-items: center;background-color: white;padding-right: 0.2em;padding-left: 0.2em;position: relative;}#sk-container-id-1 div.sk-item {position: relative;z-index: 1;}#sk-container-id-1 div.sk-parallel {display: flex;align-items: stretch;justify-content: center;background-color: white;position: relative;}#sk-container-id-1 div.sk-item::before, #sk-container-id-1 div.sk-parallel-item::before {content: \"\";position: absolute;border-left: 1px solid gray;box-sizing: border-box;top: 0;bottom: 0;left: 50%;z-index: -1;}#sk-container-id-1 div.sk-parallel-item {display: flex;flex-direction: column;z-index: 1;position: relative;background-color: white;}#sk-container-id-1 div.sk-parallel-item:first-child::after {align-self: flex-end;width: 50%;}#sk-container-id-1 div.sk-parallel-item:last-child::after {align-self: flex-start;width: 50%;}#sk-container-id-1 div.sk-parallel-item:only-child::after {width: 0;}#sk-container-id-1 div.sk-dashed-wrapped {border: 1px dashed gray;margin: 0 0.4em 0.5em 0.4em;box-sizing: border-box;padding-bottom: 0.4em;background-color: white;}#sk-container-id-1 div.sk-label label {font-family: monospace;font-weight: bold;display: inline-block;line-height: 1.2em;}#sk-container-id-1 div.sk-label-container {text-align: center;}#sk-container-id-1 div.sk-container {/* jupyter's `normalize.less` sets `[hidden] { display: none; }` but bootstrap.min.css set `[hidden] { display: none !important; }` so we also need the `!important` here to be able to override the default hidden behavior on the sphinx rendered scikit-learn.org. See: https://github.com/scikit-learn/scikit-learn/issues/21755 */display: inline-block !important;position: relative;}#sk-container-id-1 div.sk-text-repr-fallback {display: none;}</style><div id=\"sk-container-id-1\" class=\"sk-top-container\"><div class=\"sk-text-repr-fallback\"><pre>Pipeline(steps=[(&#x27;scale&#x27;, StandardScaler()), (&#x27;model&#x27;, LogisticRegression())])</pre><b>In a Jupyter environment, please rerun this cell to show the HTML representation or trust the notebook. <br />On GitHub, the HTML representation is unable to render, please try loading this page with nbviewer.org.</b></div><div class=\"sk-container\" hidden><div class=\"sk-item sk-dashed-wrapped\"><div class=\"sk-label-container\"><div class=\"sk-label sk-toggleable\"><input class=\"sk-toggleable__control sk-hidden--visually\" id=\"sk-estimator-id-1\" type=\"checkbox\" ><label for=\"sk-estimator-id-1\" class=\"sk-toggleable__label sk-toggleable__label-arrow\">Pipeline</label><div class=\"sk-toggleable__content\"><pre>Pipeline(steps=[(&#x27;scale&#x27;, StandardScaler()), (&#x27;model&#x27;, LogisticRegression())])</pre></div></div></div><div class=\"sk-serial\"><div class=\"sk-item\"><div class=\"sk-estimator sk-toggleable\"><input class=\"sk-toggleable__control sk-hidden--visually\" id=\"sk-estimator-id-2\" type=\"checkbox\" ><label for=\"sk-estimator-id-2\" class=\"sk-toggleable__label sk-toggleable__label-arrow\">StandardScaler</label><div class=\"sk-toggleable__content\"><pre>StandardScaler()</pre></div></div></div><div class=\"sk-item\"><div class=\"sk-estimator sk-toggleable\"><input class=\"sk-toggleable__control sk-hidden--visually\" id=\"sk-estimator-id-3\" type=\"checkbox\" ><label for=\"sk-estimator-id-3\" class=\"sk-toggleable__label sk-toggleable__label-arrow\">LogisticRegression</label><div class=\"sk-toggleable__content\"><pre>LogisticRegression()</pre></div></div></div></div></div></div></div>"
      ],
      "text/plain": [
       "Pipeline(steps=[('scale', StandardScaler()), ('model', LogisticRegression())])"
      ]
     },
     "execution_count": 43,
     "metadata": {},
     "output_type": "execute_result"
    }
   ],
   "source": [
    "model.fit(X_train, y_train.values.ravel())"
   ]
  },
  {
   "cell_type": "code",
   "execution_count": 44,
   "id": "af59f8c0",
   "metadata": {
    "execution": {
     "iopub.execute_input": "2025-07-30T21:24:04.851685Z",
     "iopub.status.busy": "2025-07-30T21:24:04.850886Z",
     "iopub.status.idle": "2025-07-30T21:24:04.856804Z",
     "shell.execute_reply": "2025-07-30T21:24:04.855705Z"
    },
    "papermill": {
     "duration": 0.032278,
     "end_time": "2025-07-30T21:24:04.858552",
     "exception": false,
     "start_time": "2025-07-30T21:24:04.826274",
     "status": "completed"
    },
    "tags": []
   },
   "outputs": [],
   "source": [
    "from fairness_multiverse.universe import predict_w_threshold"
   ]
  },
  {
   "cell_type": "code",
   "execution_count": 45,
   "id": "a7cf2e16",
   "metadata": {
    "execution": {
     "iopub.execute_input": "2025-07-30T21:24:04.911521Z",
     "iopub.status.busy": "2025-07-30T21:24:04.911030Z",
     "iopub.status.idle": "2025-07-30T21:24:05.136192Z",
     "shell.execute_reply": "2025-07-30T21:24:05.134955Z"
    },
    "papermill": {
     "duration": 0.253172,
     "end_time": "2025-07-30T21:24:05.137970",
     "exception": false,
     "start_time": "2025-07-30T21:24:04.884798",
     "status": "completed"
    },
    "tags": []
   },
   "outputs": [
    {
     "data": {
      "text/plain": [
       "0.8159736930108126"
      ]
     },
     "execution_count": 45,
     "metadata": {},
     "output_type": "execute_result"
    }
   ],
   "source": [
    "probs_test = model.predict_proba(X_test)\n",
    "\n",
    "'''\n",
    "Below code returns a boolean array (or binary 0/1 array depending on how it’s used) where each element \n",
    "is True if the probability of class 1 is greater than or equal to the threshold, and False otherwise.\n",
    "'''\n",
    "y_pred_default = predict_w_threshold(probs_test, 0.5)\n",
    "\n",
    "from sklearn.metrics import accuracy_score\n",
    "\n",
    "# Naive prediction\n",
    "accuracy_score(y_true = y_true, y_pred = y_pred_default)"
   ]
  },
  {
   "cell_type": "code",
   "execution_count": 46,
   "id": "081964c3",
   "metadata": {
    "execution": {
     "iopub.execute_input": "2025-07-30T21:24:05.168014Z",
     "iopub.status.busy": "2025-07-30T21:24:05.167412Z",
     "iopub.status.idle": "2025-07-30T21:24:05.404555Z",
     "shell.execute_reply": "2025-07-30T21:24:05.403437Z"
    },
    "papermill": {
     "duration": 0.253356,
     "end_time": "2025-07-30T21:24:05.406344",
     "exception": false,
     "start_time": "2025-07-30T21:24:05.152988",
     "status": "completed"
    },
    "tags": []
   },
   "outputs": [
    {
     "data": {
      "text/plain": [
       "array([0, 0, 0, ..., 0, 0, 0])"
      ]
     },
     "execution_count": 46,
     "metadata": {},
     "output_type": "execute_result"
    }
   ],
   "source": [
    "model.predict(X_test)"
   ]
  },
  {
   "cell_type": "markdown",
   "id": "56c9705b",
   "metadata": {
    "papermill": {
     "duration": 0.0256,
     "end_time": "2025-07-30T21:24:05.458301",
     "exception": false,
     "start_time": "2025-07-30T21:24:05.432701",
     "status": "completed"
    },
    "tags": []
   },
   "source": [
    "# Conformal Prediction"
   ]
  },
  {
   "cell_type": "code",
   "execution_count": 47,
   "id": "160ec6ff",
   "metadata": {
    "execution": {
     "iopub.execute_input": "2025-07-30T21:24:05.514321Z",
     "iopub.status.busy": "2025-07-30T21:24:05.513039Z",
     "iopub.status.idle": "2025-07-30T21:24:05.519373Z",
     "shell.execute_reply": "2025-07-30T21:24:05.518075Z"
    },
    "papermill": {
     "duration": 0.041141,
     "end_time": "2025-07-30T21:24:05.526200",
     "exception": false,
     "start_time": "2025-07-30T21:24:05.485059",
     "status": "completed"
    },
    "tags": []
   },
   "outputs": [],
   "source": [
    "# Miscoverage level for conformal prediction (10% allowed error rate => 90% target coverage)\n",
    "alpha = 0.1"
   ]
  },
  {
   "cell_type": "code",
   "execution_count": 48,
   "id": "eadf4555-3dd3-440e-8e35-f82a4ad9f855",
   "metadata": {
    "execution": {
     "iopub.execute_input": "2025-07-30T21:24:05.582025Z",
     "iopub.status.busy": "2025-07-30T21:24:05.581076Z",
     "iopub.status.idle": "2025-07-30T21:24:05.767801Z",
     "shell.execute_reply": "2025-07-30T21:24:05.766901Z"
    },
    "papermill": {
     "duration": 0.216092,
     "end_time": "2025-07-30T21:24:05.769647",
     "exception": false,
     "start_time": "2025-07-30T21:24:05.553555",
     "status": "completed"
    },
    "tags": []
   },
   "outputs": [],
   "source": [
    "probs_calib = model.predict_proba(X_calib)"
   ]
  },
  {
   "cell_type": "code",
   "execution_count": 49,
   "id": "2ed93547-6d5d-4983-9b36-1ecb300da49a",
   "metadata": {
    "execution": {
     "iopub.execute_input": "2025-07-30T21:24:05.819358Z",
     "iopub.status.busy": "2025-07-30T21:24:05.818860Z",
     "iopub.status.idle": "2025-07-30T21:24:05.826473Z",
     "shell.execute_reply": "2025-07-30T21:24:05.825252Z"
    },
    "papermill": {
     "duration": 0.039982,
     "end_time": "2025-07-30T21:24:05.834665",
     "exception": false,
     "start_time": "2025-07-30T21:24:05.794683",
     "status": "completed"
    },
    "tags": []
   },
   "outputs": [],
   "source": [
    "y_calib = y_calib.values.ravel().astype(int)"
   ]
  },
  {
   "cell_type": "code",
   "execution_count": 50,
   "id": "65d1320d-f588-4b38-9072-62af1ae97f7d",
   "metadata": {
    "execution": {
     "iopub.execute_input": "2025-07-30T21:24:05.901716Z",
     "iopub.status.busy": "2025-07-30T21:24:05.901080Z",
     "iopub.status.idle": "2025-07-30T21:24:05.909369Z",
     "shell.execute_reply": "2025-07-30T21:24:05.908144Z"
    },
    "papermill": {
     "duration": 0.039844,
     "end_time": "2025-07-30T21:24:05.911684",
     "exception": false,
     "start_time": "2025-07-30T21:24:05.871840",
     "status": "completed"
    },
    "tags": []
   },
   "outputs": [],
   "source": [
    "from fairness_multiverse.conformal import compute_nc_scores\n",
    "\n",
    "# Compute nonconformity scores on calibration set (1 - probability of true class)\n",
    "nc_scores = compute_nc_scores(probs_calib, y_calib)"
   ]
  },
  {
   "cell_type": "code",
   "execution_count": 51,
   "id": "df3b8ca3-53b7-43d5-9667-7c85da7aeda2",
   "metadata": {
    "execution": {
     "iopub.execute_input": "2025-07-30T21:24:05.980837Z",
     "iopub.status.busy": "2025-07-30T21:24:05.979749Z",
     "iopub.status.idle": "2025-07-30T21:24:05.988074Z",
     "shell.execute_reply": "2025-07-30T21:24:05.986846Z"
    },
    "papermill": {
     "duration": 0.04075,
     "end_time": "2025-07-30T21:24:05.990179",
     "exception": false,
     "start_time": "2025-07-30T21:24:05.949429",
     "status": "completed"
    },
    "tags": []
   },
   "outputs": [],
   "source": [
    "from fairness_multiverse.conformal import find_threshold\n",
    "\n",
    "# Find conformal threshold q_hat for the given alpha (split conformal method)\n",
    "q_hat = find_threshold(nc_scores, alpha)"
   ]
  },
  {
   "cell_type": "code",
   "execution_count": 52,
   "id": "4d29e6c1-0ef6-4aa4-b8fe-4fe79b0d033a",
   "metadata": {
    "execution": {
     "iopub.execute_input": "2025-07-30T21:24:06.047560Z",
     "iopub.status.busy": "2025-07-30T21:24:06.047034Z",
     "iopub.status.idle": "2025-07-30T21:24:06.054355Z",
     "shell.execute_reply": "2025-07-30T21:24:06.053415Z"
    },
    "papermill": {
     "duration": 0.038033,
     "end_time": "2025-07-30T21:24:06.056193",
     "exception": false,
     "start_time": "2025-07-30T21:24:06.018160",
     "status": "completed"
    },
    "tags": []
   },
   "outputs": [
    {
     "data": {
      "text/plain": [
       "0.8082353830586262"
      ]
     },
     "execution_count": 52,
     "metadata": {},
     "output_type": "execute_result"
    }
   ],
   "source": [
    "q_hat"
   ]
  },
  {
   "cell_type": "code",
   "execution_count": 53,
   "id": "92460794-cdac-4be2-ba28-f28c0515a6fb",
   "metadata": {
    "execution": {
     "iopub.execute_input": "2025-07-30T21:24:06.106520Z",
     "iopub.status.busy": "2025-07-30T21:24:06.105982Z",
     "iopub.status.idle": "2025-07-30T21:24:06.995448Z",
     "shell.execute_reply": "2025-07-30T21:24:06.994445Z"
    },
    "papermill": {
     "duration": 0.916856,
     "end_time": "2025-07-30T21:24:06.997415",
     "exception": false,
     "start_time": "2025-07-30T21:24:06.080559",
     "status": "completed"
    },
    "tags": []
   },
   "outputs": [],
   "source": [
    "from fairness_multiverse.conformal import predict_conformal_sets\n",
    "\n",
    "# Generate prediction sets for each test example\n",
    "pred_sets = predict_conformal_sets(model, X_test, q_hat)"
   ]
  },
  {
   "cell_type": "code",
   "execution_count": 54,
   "id": "d90c9a65-e6db-4f5d-80cd-e68fb7e46829",
   "metadata": {
    "execution": {
     "iopub.execute_input": "2025-07-30T21:24:07.050084Z",
     "iopub.status.busy": "2025-07-30T21:24:07.049386Z",
     "iopub.status.idle": "2025-07-30T21:24:07.055442Z",
     "shell.execute_reply": "2025-07-30T21:24:07.054383Z"
    },
    "papermill": {
     "duration": 0.034438,
     "end_time": "2025-07-30T21:24:07.057323",
     "exception": false,
     "start_time": "2025-07-30T21:24:07.022885",
     "status": "completed"
    },
    "tags": []
   },
   "outputs": [],
   "source": [
    "y_true = y_true.squeeze()"
   ]
  },
  {
   "cell_type": "code",
   "execution_count": 55,
   "id": "3a58a54a-1e68-46b9-927a-df01f18aebc8",
   "metadata": {
    "execution": {
     "iopub.execute_input": "2025-07-30T21:24:07.115306Z",
     "iopub.status.busy": "2025-07-30T21:24:07.114340Z",
     "iopub.status.idle": "2025-07-30T21:24:08.040649Z",
     "shell.execute_reply": "2025-07-30T21:24:08.039368Z"
    },
    "papermill": {
     "duration": 0.956205,
     "end_time": "2025-07-30T21:24:08.042568",
     "exception": false,
     "start_time": "2025-07-30T21:24:07.086363",
     "status": "completed"
    },
    "tags": []
   },
   "outputs": [],
   "source": [
    "from fairness_multiverse.conformal import evaluate_sets\n",
    "\n",
    "# Evaluate coverage and average set size on test data\n",
    "metrics = evaluate_sets(pred_sets, y_true)"
   ]
  },
  {
   "cell_type": "markdown",
   "id": "2b569c12-9aaa-4c88-98c9-bbcd0cf3ebb8",
   "metadata": {
    "papermill": {
     "duration": 0.022718,
     "end_time": "2025-07-30T21:24:08.089033",
     "exception": false,
     "start_time": "2025-07-30T21:24:08.066315",
     "status": "completed"
    },
    "tags": []
   },
   "source": [
    "# CP Metrics"
   ]
  },
  {
   "cell_type": "code",
   "execution_count": 56,
   "id": "5ce0a5cb-201f-45a0-ade5-94c7f0bd6095",
   "metadata": {
    "execution": {
     "iopub.execute_input": "2025-07-30T21:24:08.117084Z",
     "iopub.status.busy": "2025-07-30T21:24:08.116656Z",
     "iopub.status.idle": "2025-07-30T21:24:08.123254Z",
     "shell.execute_reply": "2025-07-30T21:24:08.122365Z"
    },
    "papermill": {
     "duration": 0.021513,
     "end_time": "2025-07-30T21:24:08.124644",
     "exception": false,
     "start_time": "2025-07-30T21:24:08.103131",
     "status": "completed"
    },
    "tags": []
   },
   "outputs": [
    {
     "data": {
      "text/plain": [
       "{'coverage': 0.9066213354141122, 'avg_size': 1.251053394270427}"
      ]
     },
     "execution_count": 56,
     "metadata": {},
     "output_type": "execute_result"
    }
   ],
   "source": [
    "metrics"
   ]
  },
  {
   "cell_type": "code",
   "execution_count": 57,
   "id": "9b9a838d-31c9-430b-ae14-12baee460d17",
   "metadata": {
    "execution": {
     "iopub.execute_input": "2025-07-30T21:24:08.157351Z",
     "iopub.status.busy": "2025-07-30T21:24:08.156602Z",
     "iopub.status.idle": "2025-07-30T21:24:08.161930Z",
     "shell.execute_reply": "2025-07-30T21:24:08.161197Z"
    },
    "papermill": {
     "duration": 0.025218,
     "end_time": "2025-07-30T21:24:08.163226",
     "exception": false,
     "start_time": "2025-07-30T21:24:08.138008",
     "status": "completed"
    },
    "tags": []
   },
   "outputs": [],
   "source": [
    "example_universe = universe.copy()\n",
    "universe_training_year = example_universe.get(\"training_year\")\n",
    "universe_training_size = example_universe.get(\"training_size\")\n",
    "universe_scale = example_universe.get(\"scale\")\n",
    "universe_model = example_universe.get(\"model\")\n",
    "universe_exclude_features = example_universe.get(\"exclude_features\")\n",
    "universe_exclude_subgroups = example_universe.get(\"exclude_subgroups\")"
   ]
  },
  {
   "cell_type": "code",
   "execution_count": 58,
   "id": "f4b6a8ac-9dc0-4245-8a91-5b3b5999c4f9",
   "metadata": {
    "execution": {
     "iopub.execute_input": "2025-07-30T21:24:08.191226Z",
     "iopub.status.busy": "2025-07-30T21:24:08.190592Z",
     "iopub.status.idle": "2025-07-30T21:24:08.195997Z",
     "shell.execute_reply": "2025-07-30T21:24:08.195240Z"
    },
    "papermill": {
     "duration": 0.020442,
     "end_time": "2025-07-30T21:24:08.197894",
     "exception": false,
     "start_time": "2025-07-30T21:24:08.177452",
     "status": "completed"
    },
    "tags": []
   },
   "outputs": [],
   "source": [
    "cp_metrics_dict = {\n",
    "    \"universe_id\": [universe_id],\n",
    "    \"universe_training_year\": [universe_training_year],\n",
    "    \"universe_training_size\": [universe_training_size],\n",
    "    \"universe_scale\": [universe_scale],\n",
    "    \"universe_model\": [universe_model],\n",
    "    \"universe_exclude_features\": [universe_exclude_features],\n",
    "    \"universe_exclude_subgroups\": [universe_exclude_subgroups],\n",
    "    \"q_hat\": [q_hat],\n",
    "    \"coverage\": [metrics[\"coverage\"]],\n",
    "    \"avg_size\": [metrics[\"avg_size\"]],\n",
    "}"
   ]
  },
  {
   "cell_type": "code",
   "execution_count": 59,
   "id": "908acbb1-0371-4915-85ca-3fa520d2efe2",
   "metadata": {
    "execution": {
     "iopub.execute_input": "2025-07-30T21:24:08.254052Z",
     "iopub.status.busy": "2025-07-30T21:24:08.253564Z",
     "iopub.status.idle": "2025-07-30T21:24:08.260964Z",
     "shell.execute_reply": "2025-07-30T21:24:08.260251Z"
    },
    "papermill": {
     "duration": 0.036226,
     "end_time": "2025-07-30T21:24:08.262202",
     "exception": false,
     "start_time": "2025-07-30T21:24:08.225976",
     "status": "completed"
    },
    "tags": []
   },
   "outputs": [
    {
     "data": {
      "text/plain": [
       "{'universe_id': ['6e1b383e2c05f954844ac8ca6da401ee'],\n",
       " 'universe_training_year': ['2014'],\n",
       " 'universe_training_size': ['1k'],\n",
       " 'universe_scale': ['scale'],\n",
       " 'universe_model': ['penalized_logreg'],\n",
       " 'universe_exclude_features': ['age'],\n",
       " 'universe_exclude_subgroups': ['keep-all'],\n",
       " 'q_hat': [0.8082353830586262],\n",
       " 'coverage': [0.9066213354141122],\n",
       " 'avg_size': [1.251053394270427]}"
      ]
     },
     "execution_count": 59,
     "metadata": {},
     "output_type": "execute_result"
    }
   ],
   "source": [
    "cp_metrics_dict"
   ]
  },
  {
   "cell_type": "code",
   "execution_count": 60,
   "id": "33007efc-14e9-4ec6-97ac-56a455c82265",
   "metadata": {
    "execution": {
     "iopub.execute_input": "2025-07-30T21:24:08.299766Z",
     "iopub.status.busy": "2025-07-30T21:24:08.298871Z",
     "iopub.status.idle": "2025-07-30T21:24:08.305114Z",
     "shell.execute_reply": "2025-07-30T21:24:08.304006Z"
    },
    "papermill": {
     "duration": 0.027311,
     "end_time": "2025-07-30T21:24:08.307521",
     "exception": false,
     "start_time": "2025-07-30T21:24:08.280210",
     "status": "completed"
    },
    "tags": []
   },
   "outputs": [],
   "source": [
    "cp_metrics_df = pd.DataFrame(cp_metrics_dict)"
   ]
  },
  {
   "cell_type": "code",
   "execution_count": 61,
   "id": "db12611b-57b2-4910-b9d0-355adfd6e7bf",
   "metadata": {
    "execution": {
     "iopub.execute_input": "2025-07-30T21:24:08.343134Z",
     "iopub.status.busy": "2025-07-30T21:24:08.342343Z",
     "iopub.status.idle": "2025-07-30T21:24:08.363297Z",
     "shell.execute_reply": "2025-07-30T21:24:08.362217Z"
    },
    "papermill": {
     "duration": 0.039357,
     "end_time": "2025-07-30T21:24:08.365137",
     "exception": false,
     "start_time": "2025-07-30T21:24:08.325780",
     "status": "completed"
    },
    "tags": []
   },
   "outputs": [
    {
     "data": {
      "text/html": [
       "<div>\n",
       "<style scoped>\n",
       "    .dataframe tbody tr th:only-of-type {\n",
       "        vertical-align: middle;\n",
       "    }\n",
       "\n",
       "    .dataframe tbody tr th {\n",
       "        vertical-align: top;\n",
       "    }\n",
       "\n",
       "    .dataframe thead th {\n",
       "        text-align: right;\n",
       "    }\n",
       "</style>\n",
       "<table border=\"1\" class=\"dataframe\">\n",
       "  <thead>\n",
       "    <tr style=\"text-align: right;\">\n",
       "      <th></th>\n",
       "      <th>universe_id</th>\n",
       "      <th>universe_training_year</th>\n",
       "      <th>universe_training_size</th>\n",
       "      <th>universe_scale</th>\n",
       "      <th>universe_model</th>\n",
       "      <th>universe_exclude_features</th>\n",
       "      <th>universe_exclude_subgroups</th>\n",
       "      <th>q_hat</th>\n",
       "      <th>coverage</th>\n",
       "      <th>avg_size</th>\n",
       "    </tr>\n",
       "  </thead>\n",
       "  <tbody>\n",
       "    <tr>\n",
       "      <th>0</th>\n",
       "      <td>6e1b383e2c05f954844ac8ca6da401ee</td>\n",
       "      <td>2014</td>\n",
       "      <td>1k</td>\n",
       "      <td>scale</td>\n",
       "      <td>penalized_logreg</td>\n",
       "      <td>age</td>\n",
       "      <td>keep-all</td>\n",
       "      <td>0.808235</td>\n",
       "      <td>0.906621</td>\n",
       "      <td>1.251053</td>\n",
       "    </tr>\n",
       "  </tbody>\n",
       "</table>\n",
       "</div>"
      ],
      "text/plain": [
       "                        universe_id universe_training_year  \\\n",
       "0  6e1b383e2c05f954844ac8ca6da401ee                   2014   \n",
       "\n",
       "  universe_training_size universe_scale    universe_model  \\\n",
       "0                     1k          scale  penalized_logreg   \n",
       "\n",
       "  universe_exclude_features universe_exclude_subgroups     q_hat  coverage  \\\n",
       "0                       age                   keep-all  0.808235  0.906621   \n",
       "\n",
       "   avg_size  \n",
       "0  1.251053  "
      ]
     },
     "execution_count": 61,
     "metadata": {},
     "output_type": "execute_result"
    }
   ],
   "source": [
    "cp_metrics_df"
   ]
  },
  {
   "cell_type": "code",
   "execution_count": 62,
   "id": "b7fbde55-a0a1-47e4-9af6-fe4a17fa8c61",
   "metadata": {
    "execution": {
     "iopub.execute_input": "2025-07-30T21:24:08.409780Z",
     "iopub.status.busy": "2025-07-30T21:24:08.408957Z",
     "iopub.status.idle": "2025-07-30T21:24:08.413678Z",
     "shell.execute_reply": "2025-07-30T21:24:08.412910Z"
    },
    "papermill": {
     "duration": 0.025561,
     "end_time": "2025-07-30T21:24:08.415052",
     "exception": false,
     "start_time": "2025-07-30T21:24:08.389491",
     "status": "completed"
    },
    "tags": []
   },
   "outputs": [],
   "source": [
    "# Conditional Coverage & looking at subgroups"
   ]
  },
  {
   "cell_type": "code",
   "execution_count": 63,
   "id": "027ae886-68dd-4141-96c7-805a5450e1ef",
   "metadata": {
    "execution": {
     "iopub.execute_input": "2025-07-30T21:24:08.450610Z",
     "iopub.status.busy": "2025-07-30T21:24:08.450203Z",
     "iopub.status.idle": "2025-07-30T21:24:08.691924Z",
     "shell.execute_reply": "2025-07-30T21:24:08.690899Z"
    },
    "papermill": {
     "duration": 0.275683,
     "end_time": "2025-07-30T21:24:08.705461",
     "exception": false,
     "start_time": "2025-07-30T21:24:08.429778",
     "status": "completed"
    },
    "tags": []
   },
   "outputs": [],
   "source": [
    "from fairness_multiverse.conformal import build_cp_groups\n",
    "\n",
    "cp_groups_df = build_cp_groups(pred_sets, y_true, X_test.index, org_test)\n",
    "#needs universe_id and setting"
   ]
  },
  {
   "cell_type": "code",
   "execution_count": 64,
   "id": "01d5802c-663a-4d1f-9d69-e036faaffbf7",
   "metadata": {
    "execution": {
     "iopub.execute_input": "2025-07-30T21:24:08.762793Z",
     "iopub.status.busy": "2025-07-30T21:24:08.762326Z",
     "iopub.status.idle": "2025-07-30T21:24:08.767099Z",
     "shell.execute_reply": "2025-07-30T21:24:08.766229Z"
    },
    "papermill": {
     "duration": 0.035361,
     "end_time": "2025-07-30T21:24:08.768655",
     "exception": false,
     "start_time": "2025-07-30T21:24:08.733294",
     "status": "completed"
    },
    "tags": []
   },
   "outputs": [],
   "source": [
    "#delete\n",
    "#cp_groups_df"
   ]
  },
  {
   "cell_type": "code",
   "execution_count": 65,
   "id": "fa424af1-d1eb-443d-b717-2d279ada8408",
   "metadata": {
    "execution": {
     "iopub.execute_input": "2025-07-30T21:24:08.825101Z",
     "iopub.status.busy": "2025-07-30T21:24:08.824330Z",
     "iopub.status.idle": "2025-07-30T21:24:08.830009Z",
     "shell.execute_reply": "2025-07-30T21:24:08.828849Z"
    },
    "papermill": {
     "duration": 0.036174,
     "end_time": "2025-07-30T21:24:08.831853",
     "exception": false,
     "start_time": "2025-07-30T21:24:08.795679",
     "status": "completed"
    },
    "tags": []
   },
   "outputs": [],
   "source": [
    "#delete\n",
    "#percentage = (cp_groups_df['nongerman_female'] == 1).mean() * 100\n",
    "#print(percentage)\n"
   ]
  },
  {
   "cell_type": "code",
   "execution_count": 66,
   "id": "6cbdab96-b2b2-45af-ad54-d0516db2e28d",
   "metadata": {
    "execution": {
     "iopub.execute_input": "2025-07-30T21:24:08.935481Z",
     "iopub.status.busy": "2025-07-30T21:24:08.935036Z",
     "iopub.status.idle": "2025-07-30T21:24:10.626576Z",
     "shell.execute_reply": "2025-07-30T21:24:10.625629Z"
    },
    "papermill": {
     "duration": 1.720665,
     "end_time": "2025-07-30T21:24:10.628476",
     "exception": false,
     "start_time": "2025-07-30T21:24:08.907811",
     "status": "completed"
    },
    "tags": []
   },
   "outputs": [],
   "source": [
    "# Define covered = 1 if true_label is in the predicted set\n",
    "cp_groups_df['covered'] = cp_groups_df.apply(\n",
    "    lambda r: int(r['true_label'] in r['pred_set']),\n",
    "    axis=1\n",
    ")"
   ]
  },
  {
   "cell_type": "code",
   "execution_count": 67,
   "id": "338ff529-1a6b-4b87-a931-8e4788d52aad",
   "metadata": {
    "execution": {
     "iopub.execute_input": "2025-07-30T21:24:10.679273Z",
     "iopub.status.busy": "2025-07-30T21:24:10.678419Z",
     "iopub.status.idle": "2025-07-30T21:24:10.683633Z",
     "shell.execute_reply": "2025-07-30T21:24:10.682622Z"
    },
    "papermill": {
     "duration": 0.031918,
     "end_time": "2025-07-30T21:24:10.685249",
     "exception": false,
     "start_time": "2025-07-30T21:24:10.653331",
     "status": "completed"
    },
    "tags": []
   },
   "outputs": [],
   "source": [
    "#cp_groups_df"
   ]
  },
  {
   "cell_type": "code",
   "execution_count": 68,
   "id": "90032e27-66df-4540-9169-4e89cfbaa758",
   "metadata": {
    "execution": {
     "iopub.execute_input": "2025-07-30T21:24:10.739438Z",
     "iopub.status.busy": "2025-07-30T21:24:10.738961Z",
     "iopub.status.idle": "2025-07-30T21:24:10.753103Z",
     "shell.execute_reply": "2025-07-30T21:24:10.752099Z"
    },
    "papermill": {
     "duration": 0.049514,
     "end_time": "2025-07-30T21:24:10.762069",
     "exception": false,
     "start_time": "2025-07-30T21:24:10.712555",
     "status": "completed"
    },
    "tags": []
   },
   "outputs": [],
   "source": [
    "subgroups = ['frau1','nongerman','nongerman_male','nongerman_female']\n",
    "\n",
    "# Conditional coverage for subgroup==1\n",
    "cond_coverage = {\n",
    "    g: cp_groups_df.loc[cp_groups_df[g]==1, 'covered'].mean()\n",
    "    for g in subgroups\n",
    "}"
   ]
  },
  {
   "cell_type": "code",
   "execution_count": 69,
   "id": "1e348fb1-b9c3-45bc-ba23-f016827a7e0d",
   "metadata": {
    "execution": {
     "iopub.execute_input": "2025-07-30T21:24:10.807327Z",
     "iopub.status.busy": "2025-07-30T21:24:10.806987Z",
     "iopub.status.idle": "2025-07-30T21:24:10.813524Z",
     "shell.execute_reply": "2025-07-30T21:24:10.812499Z"
    },
    "papermill": {
     "duration": 0.024172,
     "end_time": "2025-07-30T21:24:10.815182",
     "exception": false,
     "start_time": "2025-07-30T21:24:10.791010",
     "status": "completed"
    },
    "tags": []
   },
   "outputs": [
    {
     "data": {
      "text/plain": [
       "{'frau1': 0.9050545895673271,\n",
       " 'nongerman': 0.9119744007185763,\n",
       " 'nongerman_male': 0.9283076645951545,\n",
       " 'nongerman_female': 0.8849478390461997}"
      ]
     },
     "execution_count": 69,
     "metadata": {},
     "output_type": "execute_result"
    }
   ],
   "source": [
    "cond_coverage"
   ]
  },
  {
   "cell_type": "code",
   "execution_count": 70,
   "id": "f5093324-c3dd-4d63-bc4c-8d945e5c8bbb",
   "metadata": {
    "execution": {
     "iopub.execute_input": "2025-07-30T21:24:10.845446Z",
     "iopub.status.busy": "2025-07-30T21:24:10.845132Z",
     "iopub.status.idle": "2025-07-30T21:24:10.850801Z",
     "shell.execute_reply": "2025-07-30T21:24:10.849890Z"
    },
    "papermill": {
     "duration": 0.021713,
     "end_time": "2025-07-30T21:24:10.852756",
     "exception": false,
     "start_time": "2025-07-30T21:24:10.831043",
     "status": "completed"
    },
    "tags": []
   },
   "outputs": [],
   "source": [
    "for subgroup, cov in cond_coverage.items():\n",
    "    cp_metrics_df[f\"cov_{subgroup}\"] = cov"
   ]
  },
  {
   "cell_type": "code",
   "execution_count": 71,
   "id": "6e872e10-dbe5-49e8-b554-5030c98ff75d",
   "metadata": {
    "execution": {
     "iopub.execute_input": "2025-07-30T21:24:10.883947Z",
     "iopub.status.busy": "2025-07-30T21:24:10.883615Z",
     "iopub.status.idle": "2025-07-30T21:24:10.903486Z",
     "shell.execute_reply": "2025-07-30T21:24:10.902349Z"
    },
    "papermill": {
     "duration": 0.0359,
     "end_time": "2025-07-30T21:24:10.905336",
     "exception": false,
     "start_time": "2025-07-30T21:24:10.869436",
     "status": "completed"
    },
    "tags": []
   },
   "outputs": [
    {
     "data": {
      "text/html": [
       "<div>\n",
       "<style scoped>\n",
       "    .dataframe tbody tr th:only-of-type {\n",
       "        vertical-align: middle;\n",
       "    }\n",
       "\n",
       "    .dataframe tbody tr th {\n",
       "        vertical-align: top;\n",
       "    }\n",
       "\n",
       "    .dataframe thead th {\n",
       "        text-align: right;\n",
       "    }\n",
       "</style>\n",
       "<table border=\"1\" class=\"dataframe\">\n",
       "  <thead>\n",
       "    <tr style=\"text-align: right;\">\n",
       "      <th></th>\n",
       "      <th>universe_id</th>\n",
       "      <th>universe_training_year</th>\n",
       "      <th>universe_training_size</th>\n",
       "      <th>universe_scale</th>\n",
       "      <th>universe_model</th>\n",
       "      <th>universe_exclude_features</th>\n",
       "      <th>universe_exclude_subgroups</th>\n",
       "      <th>q_hat</th>\n",
       "      <th>coverage</th>\n",
       "      <th>avg_size</th>\n",
       "      <th>cov_frau1</th>\n",
       "      <th>cov_nongerman</th>\n",
       "      <th>cov_nongerman_male</th>\n",
       "      <th>cov_nongerman_female</th>\n",
       "    </tr>\n",
       "  </thead>\n",
       "  <tbody>\n",
       "    <tr>\n",
       "      <th>0</th>\n",
       "      <td>6e1b383e2c05f954844ac8ca6da401ee</td>\n",
       "      <td>2014</td>\n",
       "      <td>1k</td>\n",
       "      <td>scale</td>\n",
       "      <td>penalized_logreg</td>\n",
       "      <td>age</td>\n",
       "      <td>keep-all</td>\n",
       "      <td>0.808235</td>\n",
       "      <td>0.906621</td>\n",
       "      <td>1.251053</td>\n",
       "      <td>0.905055</td>\n",
       "      <td>0.911974</td>\n",
       "      <td>0.928308</td>\n",
       "      <td>0.884948</td>\n",
       "    </tr>\n",
       "  </tbody>\n",
       "</table>\n",
       "</div>"
      ],
      "text/plain": [
       "                        universe_id universe_training_year  \\\n",
       "0  6e1b383e2c05f954844ac8ca6da401ee                   2014   \n",
       "\n",
       "  universe_training_size universe_scale    universe_model  \\\n",
       "0                     1k          scale  penalized_logreg   \n",
       "\n",
       "  universe_exclude_features universe_exclude_subgroups     q_hat  coverage  \\\n",
       "0                       age                   keep-all  0.808235  0.906621   \n",
       "\n",
       "   avg_size  cov_frau1  cov_nongerman  cov_nongerman_male  \\\n",
       "0  1.251053   0.905055       0.911974            0.928308   \n",
       "\n",
       "   cov_nongerman_female  \n",
       "0              0.884948  "
      ]
     },
     "execution_count": 71,
     "metadata": {},
     "output_type": "execute_result"
    }
   ],
   "source": [
    "cp_metrics_df"
   ]
  },
  {
   "cell_type": "markdown",
   "id": "33774451",
   "metadata": {
    "papermill": {
     "duration": 0.026043,
     "end_time": "2025-07-30T21:24:10.961053",
     "exception": false,
     "start_time": "2025-07-30T21:24:10.935010",
     "status": "completed"
    },
    "tags": []
   },
   "source": [
    "# (Fairness) Metrics"
   ]
  },
  {
   "cell_type": "code",
   "execution_count": 72,
   "id": "debc5d62",
   "metadata": {
    "execution": {
     "iopub.execute_input": "2025-07-30T21:24:11.019486Z",
     "iopub.status.busy": "2025-07-30T21:24:11.019030Z",
     "iopub.status.idle": "2025-07-30T21:24:11.040606Z",
     "shell.execute_reply": "2025-07-30T21:24:11.038646Z"
    },
    "papermill": {
     "duration": 0.053006,
     "end_time": "2025-07-30T21:24:11.042094",
     "exception": false,
     "start_time": "2025-07-30T21:24:10.989088",
     "status": "completed"
    },
    "tags": []
   },
   "outputs": [],
   "source": [
    "# do I need to include maxdeutsch1.missing?\n",
    "\n",
    "import numpy as np\n",
    "\n",
    "colname_to_bin = \"maxdeutsch1\"\n",
    "majority_value = org_train[colname_to_bin].mode()[0]\n",
    "\n",
    "org_test[\"majmin\"] = np.where(org_test[colname_to_bin] == majority_value, \"majority\", \"minority\")"
   ]
  },
  {
   "cell_type": "code",
   "execution_count": 73,
   "id": "06a50de5",
   "metadata": {
    "execution": {
     "iopub.execute_input": "2025-07-30T21:24:11.090085Z",
     "iopub.status.busy": "2025-07-30T21:24:11.089697Z",
     "iopub.status.idle": "2025-07-30T21:24:13.883073Z",
     "shell.execute_reply": "2025-07-30T21:24:13.882113Z"
    },
    "papermill": {
     "duration": 2.820499,
     "end_time": "2025-07-30T21:24:13.884972",
     "exception": false,
     "start_time": "2025-07-30T21:24:11.064473",
     "status": "completed"
    },
    "tags": []
   },
   "outputs": [],
   "source": [
    "example_universe = universe.copy()\n",
    "example_universe[\"cutoff\"] = example_universe[\"cutoff\"][0]\n",
    "example_universe[\"eval_fairness_grouping\"] = example_universe[\"eval_fairness_grouping\"][0]\n",
    "fairness_dict, metric_frame = universe_analysis.compute_metrics(\n",
    "    example_universe,\n",
    "    y_pred_prob=probs_test,\n",
    "    y_test=y_true,\n",
    "    org_test=org_test,\n",
    ")"
   ]
  },
  {
   "cell_type": "markdown",
   "id": "f95d4e02",
   "metadata": {
    "papermill": {
     "duration": 0.026694,
     "end_time": "2025-07-30T21:24:13.938893",
     "exception": false,
     "start_time": "2025-07-30T21:24:13.912199",
     "status": "completed"
    },
    "tags": []
   },
   "source": [
    "# Overall"
   ]
  },
  {
   "cell_type": "markdown",
   "id": "bdee4871",
   "metadata": {
    "papermill": {
     "duration": 0.027641,
     "end_time": "2025-07-30T21:24:13.992793",
     "exception": false,
     "start_time": "2025-07-30T21:24:13.965152",
     "status": "completed"
    },
    "tags": []
   },
   "source": [
    "Fairness\n",
    "Main fairness target: Equalized Odds. Seems to be a better fit than equal opportunity, since we're not only interested in Y = 1. Seems to be a better fit than demographic parity, since we also care about accuracy, not just equal distribution of preds.\n",
    "\n",
    "Pick column for computation of fairness metrics\n",
    "\n",
    "Performance\n",
    "Overall performance measures, most interesting in relation to the measures split by group below"
   ]
  },
  {
   "cell_type": "code",
   "execution_count": 74,
   "id": "c4e067c6",
   "metadata": {
    "execution": {
     "iopub.execute_input": "2025-07-30T21:24:14.048564Z",
     "iopub.status.busy": "2025-07-30T21:24:14.047859Z",
     "iopub.status.idle": "2025-07-30T21:24:14.056813Z",
     "shell.execute_reply": "2025-07-30T21:24:14.055803Z"
    },
    "papermill": {
     "duration": 0.038454,
     "end_time": "2025-07-30T21:24:14.058420",
     "exception": false,
     "start_time": "2025-07-30T21:24:14.019966",
     "status": "completed"
    },
    "tags": []
   },
   "outputs": [
    {
     "data": {
      "text/plain": [
       "accuracy                   0.217289\n",
       "balanced accuracy          0.532786\n",
       "f1                         0.238815\n",
       "precision                  0.136427\n",
       "false positive rate        0.891588\n",
       "false negative rate        0.042840\n",
       "selection rate             0.900000\n",
       "count                  89710.000000\n",
       "dtype: float64"
      ]
     },
     "execution_count": 74,
     "metadata": {},
     "output_type": "execute_result"
    }
   ],
   "source": [
    "metric_frame.overall"
   ]
  },
  {
   "cell_type": "markdown",
   "id": "e968fe9d",
   "metadata": {
    "papermill": {
     "duration": 0.026343,
     "end_time": "2025-07-30T21:24:14.112938",
     "exception": false,
     "start_time": "2025-07-30T21:24:14.086595",
     "status": "completed"
    },
    "tags": []
   },
   "source": [
    "By Group"
   ]
  },
  {
   "cell_type": "code",
   "execution_count": 75,
   "id": "ec325bce",
   "metadata": {
    "execution": {
     "iopub.execute_input": "2025-07-30T21:24:14.168392Z",
     "iopub.status.busy": "2025-07-30T21:24:14.167516Z",
     "iopub.status.idle": "2025-07-30T21:24:14.184418Z",
     "shell.execute_reply": "2025-07-30T21:24:14.183388Z"
    },
    "papermill": {
     "duration": 0.046197,
     "end_time": "2025-07-30T21:24:14.186083",
     "exception": false,
     "start_time": "2025-07-30T21:24:14.139886",
     "status": "completed"
    },
    "tags": []
   },
   "outputs": [
    {
     "data": {
      "text/html": [
       "<div>\n",
       "<style scoped>\n",
       "    .dataframe tbody tr th:only-of-type {\n",
       "        vertical-align: middle;\n",
       "    }\n",
       "\n",
       "    .dataframe tbody tr th {\n",
       "        vertical-align: top;\n",
       "    }\n",
       "\n",
       "    .dataframe thead th {\n",
       "        text-align: right;\n",
       "    }\n",
       "</style>\n",
       "<table border=\"1\" class=\"dataframe\">\n",
       "  <thead>\n",
       "    <tr style=\"text-align: right;\">\n",
       "      <th></th>\n",
       "      <th>accuracy</th>\n",
       "      <th>balanced accuracy</th>\n",
       "      <th>f1</th>\n",
       "      <th>precision</th>\n",
       "      <th>false positive rate</th>\n",
       "      <th>false negative rate</th>\n",
       "      <th>selection rate</th>\n",
       "      <th>count</th>\n",
       "    </tr>\n",
       "    <tr>\n",
       "      <th>majmin</th>\n",
       "      <th></th>\n",
       "      <th></th>\n",
       "      <th></th>\n",
       "      <th></th>\n",
       "      <th></th>\n",
       "      <th></th>\n",
       "      <th></th>\n",
       "      <th></th>\n",
       "    </tr>\n",
       "  </thead>\n",
       "  <tbody>\n",
       "    <tr>\n",
       "      <th>majority</th>\n",
       "      <td>0.233165</td>\n",
       "      <td>0.538912</td>\n",
       "      <td>0.247524</td>\n",
       "      <td>0.14220</td>\n",
       "      <td>0.876662</td>\n",
       "      <td>0.045514</td>\n",
       "      <td>0.886945</td>\n",
       "      <td>69170.0</td>\n",
       "    </tr>\n",
       "    <tr>\n",
       "      <th>minority</th>\n",
       "      <td>0.163827</td>\n",
       "      <td>0.513293</td>\n",
       "      <td>0.210599</td>\n",
       "      <td>0.11816</td>\n",
       "      <td>0.940898</td>\n",
       "      <td>0.032517</td>\n",
       "      <td>0.943963</td>\n",
       "      <td>20540.0</td>\n",
       "    </tr>\n",
       "  </tbody>\n",
       "</table>\n",
       "</div>"
      ],
      "text/plain": [
       "          accuracy  balanced accuracy        f1  precision  \\\n",
       "majmin                                                       \n",
       "majority  0.233165           0.538912  0.247524    0.14220   \n",
       "minority  0.163827           0.513293  0.210599    0.11816   \n",
       "\n",
       "          false positive rate  false negative rate  selection rate    count  \n",
       "majmin                                                                       \n",
       "majority             0.876662             0.045514        0.886945  69170.0  \n",
       "minority             0.940898             0.032517        0.943963  20540.0  "
      ]
     },
     "execution_count": 75,
     "metadata": {},
     "output_type": "execute_result"
    }
   ],
   "source": [
    "metric_frame.by_group"
   ]
  },
  {
   "cell_type": "code",
   "execution_count": 76,
   "id": "a9ddbe63",
   "metadata": {
    "execution": {
     "iopub.execute_input": "2025-07-30T21:24:14.243513Z",
     "iopub.status.busy": "2025-07-30T21:24:14.242641Z",
     "iopub.status.idle": "2025-07-30T21:24:16.651064Z",
     "shell.execute_reply": "2025-07-30T21:24:16.650182Z"
    },
    "papermill": {
     "duration": 2.43809,
     "end_time": "2025-07-30T21:24:16.652693",
     "exception": false,
     "start_time": "2025-07-30T21:24:14.214603",
     "status": "completed"
    },
    "tags": []
   },
   "outputs": [
    {
     "data": {
      "text/plain": [
       "array([[<Axes: title={'center': 'accuracy'}, xlabel='majmin'>,\n",
       "        <Axes: title={'center': 'balanced accuracy'}, xlabel='majmin'>,\n",
       "        <Axes: title={'center': 'f1'}, xlabel='majmin'>],\n",
       "       [<Axes: title={'center': 'precision'}, xlabel='majmin'>,\n",
       "        <Axes: title={'center': 'false positive rate'}, xlabel='majmin'>,\n",
       "        <Axes: title={'center': 'false negative rate'}, xlabel='majmin'>],\n",
       "       [<Axes: title={'center': 'selection rate'}, xlabel='majmin'>,\n",
       "        <Axes: title={'center': 'count'}, xlabel='majmin'>,\n",
       "        <Axes: xlabel='majmin'>]], dtype=object)"
      ]
     },
     "execution_count": 76,
     "metadata": {},
     "output_type": "execute_result"
    },
    {
     "data": {
      "image/png": "[encoded data removed]",
      "text/plain": [
       "<Figure size 1200x800 with 9 Axes>"
      ]
     },
     "metadata": {},
     "output_type": "display_data"
    }
   ],
   "source": [
    "# In a graphic\n",
    "metric_frame.by_group.plot.bar(\n",
    "    subplots=True,\n",
    "    layout=[3, 3],\n",
    "    legend=False,\n",
    "    figsize=[12, 8],\n",
    "    title=\"Show all metrics\",\n",
    ")"
   ]
  },
  {
   "cell_type": "markdown",
   "id": "f57a0bac",
   "metadata": {
    "papermill": {
     "duration": 0.036371,
     "end_time": "2025-07-30T21:24:16.718920",
     "exception": false,
     "start_time": "2025-07-30T21:24:16.682549",
     "status": "completed"
    },
    "tags": []
   },
   "source": [
    "# Final Output"
   ]
  },
  {
   "cell_type": "code",
   "execution_count": 77,
   "id": "96d280a3",
   "metadata": {
    "execution": {
     "iopub.execute_input": "2025-07-30T21:24:16.797211Z",
     "iopub.status.busy": "2025-07-30T21:24:16.796515Z",
     "iopub.status.idle": "2025-07-30T21:24:16.805166Z",
     "shell.execute_reply": "2025-07-30T21:24:16.804210Z"
    },
    "papermill": {
     "duration": 0.05009,
     "end_time": "2025-07-30T21:24:16.807273",
     "exception": false,
     "start_time": "2025-07-30T21:24:16.757183",
     "status": "completed"
    },
    "tags": []
   },
   "outputs": [
    {
     "data": {
      "text/plain": [
       "4"
      ]
     },
     "execution_count": 77,
     "metadata": {},
     "output_type": "execute_result"
    }
   ],
   "source": [
    "sub_universes = universe_analysis.generate_sub_universes()\n",
    "len(sub_universes)"
   ]
  },
  {
   "cell_type": "code",
   "execution_count": 78,
   "id": "92adf7ba",
   "metadata": {
    "execution": {
     "iopub.execute_input": "2025-07-30T21:24:16.889254Z",
     "iopub.status.busy": "2025-07-30T21:24:16.888505Z",
     "iopub.status.idle": "2025-07-30T21:24:16.894944Z",
     "shell.execute_reply": "2025-07-30T21:24:16.894033Z"
    },
    "papermill": {
     "duration": 0.048989,
     "end_time": "2025-07-30T21:24:16.896726",
     "exception": false,
     "start_time": "2025-07-30T21:24:16.847737",
     "status": "completed"
    },
    "tags": []
   },
   "outputs": [],
   "source": [
    "def filter_sub_universe_data(sub_universe, org_test):\n",
    "    # Keep all rows — no filtering\n",
    "    keep_rows_mask = np.ones(org_test.shape[0], dtype=bool)\n",
    "\n",
    "    print(f\"[INFO] Keeping all rows: {keep_rows_mask.sum()} rows retained.\")\n",
    "    return keep_rows_mask"
   ]
  },
  {
   "cell_type": "code",
   "execution_count": 79,
   "id": "4a759155",
   "metadata": {
    "execution": {
     "iopub.execute_input": "2025-07-30T21:24:16.958173Z",
     "iopub.status.busy": "2025-07-30T21:24:16.957289Z",
     "iopub.status.idle": "2025-07-30T21:24:28.468368Z",
     "shell.execute_reply": "2025-07-30T21:24:28.467212Z"
    },
    "papermill": {
     "duration": 11.544215,
     "end_time": "2025-07-30T21:24:28.470332",
     "exception": false,
     "start_time": "2025-07-30T21:24:16.926117",
     "status": "completed"
    },
    "tags": []
   },
   "outputs": [
    {
     "name": "stdout",
     "output_type": "stream",
     "text": [
      "Stopping execution_time clock.\n",
      "[INFO] Keeping all rows: 89710 rows retained.\n"
     ]
    },
    {
     "name": "stdout",
     "output_type": "stream",
     "text": [
      "[INFO] Keeping all rows: 89710 rows retained.\n"
     ]
    },
    {
     "name": "stdout",
     "output_type": "stream",
     "text": [
      "[INFO] Keeping all rows: 89710 rows retained.\n"
     ]
    },
    {
     "name": "stdout",
     "output_type": "stream",
     "text": [
      "[INFO] Keeping all rows: 89710 rows retained.\n"
     ]
    },
    {
     "data": {
      "text/html": [
       "<div>\n",
       "<style scoped>\n",
       "    .dataframe tbody tr th:only-of-type {\n",
       "        vertical-align: middle;\n",
       "    }\n",
       "\n",
       "    .dataframe tbody tr th {\n",
       "        vertical-align: top;\n",
       "    }\n",
       "\n",
       "    .dataframe thead th {\n",
       "        text-align: right;\n",
       "    }\n",
       "</style>\n",
       "<table border=\"1\" class=\"dataframe\">\n",
       "  <thead>\n",
       "    <tr style=\"text-align: right;\">\n",
       "      <th></th>\n",
       "      <th>run_no</th>\n",
       "      <th>universe_id</th>\n",
       "      <th>universe_settings</th>\n",
       "      <th>execution_time</th>\n",
       "      <th>test_size_n</th>\n",
       "      <th>test_size_frac</th>\n",
       "      <th>fair_main_equalized_odds_difference</th>\n",
       "      <th>fair_main_equalized_odds_ratio</th>\n",
       "      <th>fair_main_demographic_parity_difference</th>\n",
       "      <th>fair_main_demographic_parity_ratio</th>\n",
       "      <th>...</th>\n",
       "      <th>perf_grp_precision_0</th>\n",
       "      <th>perf_grp_precision_1</th>\n",
       "      <th>perf_grp_false positive rate_0</th>\n",
       "      <th>perf_grp_false positive rate_1</th>\n",
       "      <th>perf_grp_false negative rate_0</th>\n",
       "      <th>perf_grp_false negative rate_1</th>\n",
       "      <th>perf_grp_selection rate_0</th>\n",
       "      <th>perf_grp_selection rate_1</th>\n",
       "      <th>perf_grp_count_0</th>\n",
       "      <th>perf_grp_count_1</th>\n",
       "    </tr>\n",
       "  </thead>\n",
       "  <tbody>\n",
       "    <tr>\n",
       "      <th>0</th>\n",
       "      <td>14</td>\n",
       "      <td>6e1b383e2c05f954844ac8ca6da401ee</td>\n",
       "      <td>{\"cutoff\": \"quantile_0.1\", \"eval_fairness_grou...</td>\n",
       "      <td>27.733497</td>\n",
       "      <td>89710</td>\n",
       "      <td>1.0</td>\n",
       "      <td>0.064236</td>\n",
       "      <td>0.931729</td>\n",
       "      <td>0.057018</td>\n",
       "      <td>0.939597</td>\n",
       "      <td>...</td>\n",
       "      <td>NaN</td>\n",
       "      <td>NaN</td>\n",
       "      <td>NaN</td>\n",
       "      <td>NaN</td>\n",
       "      <td>NaN</td>\n",
       "      <td>NaN</td>\n",
       "      <td>NaN</td>\n",
       "      <td>NaN</td>\n",
       "      <td>NaN</td>\n",
       "      <td>NaN</td>\n",
       "    </tr>\n",
       "    <tr>\n",
       "      <th>0</th>\n",
       "      <td>14</td>\n",
       "      <td>6e1b383e2c05f954844ac8ca6da401ee</td>\n",
       "      <td>{\"cutoff\": \"quantile_0.1\", \"eval_fairness_grou...</td>\n",
       "      <td>27.733497</td>\n",
       "      <td>89710</td>\n",
       "      <td>1.0</td>\n",
       "      <td>0.064236</td>\n",
       "      <td>0.931729</td>\n",
       "      <td>0.057018</td>\n",
       "      <td>0.939597</td>\n",
       "      <td>...</td>\n",
       "      <td>0.118160</td>\n",
       "      <td>0.142200</td>\n",
       "      <td>0.940898</td>\n",
       "      <td>0.876662</td>\n",
       "      <td>0.032517</td>\n",
       "      <td>0.045514</td>\n",
       "      <td>0.943963</td>\n",
       "      <td>0.886945</td>\n",
       "      <td>20540.0</td>\n",
       "      <td>69170.0</td>\n",
       "    </tr>\n",
       "    <tr>\n",
       "      <th>0</th>\n",
       "      <td>14</td>\n",
       "      <td>6e1b383e2c05f954844ac8ca6da401ee</td>\n",
       "      <td>{\"cutoff\": \"quantile_0.25\", \"eval_fairness_gro...</td>\n",
       "      <td>27.733497</td>\n",
       "      <td>89710</td>\n",
       "      <td>1.0</td>\n",
       "      <td>0.093027</td>\n",
       "      <td>0.884221</td>\n",
       "      <td>0.081209</td>\n",
       "      <td>0.900064</td>\n",
       "      <td>...</td>\n",
       "      <td>NaN</td>\n",
       "      <td>NaN</td>\n",
       "      <td>NaN</td>\n",
       "      <td>NaN</td>\n",
       "      <td>NaN</td>\n",
       "      <td>NaN</td>\n",
       "      <td>NaN</td>\n",
       "      <td>NaN</td>\n",
       "      <td>NaN</td>\n",
       "      <td>NaN</td>\n",
       "    </tr>\n",
       "    <tr>\n",
       "      <th>0</th>\n",
       "      <td>14</td>\n",
       "      <td>6e1b383e2c05f954844ac8ca6da401ee</td>\n",
       "      <td>{\"cutoff\": \"quantile_0.25\", \"eval_fairness_gro...</td>\n",
       "      <td>27.733497</td>\n",
       "      <td>89710</td>\n",
       "      <td>1.0</td>\n",
       "      <td>0.093027</td>\n",
       "      <td>0.884221</td>\n",
       "      <td>0.081209</td>\n",
       "      <td>0.900064</td>\n",
       "      <td>...</td>\n",
       "      <td>0.125217</td>\n",
       "      <td>0.156984</td>\n",
       "      <td>0.803489</td>\n",
       "      <td>0.710461</td>\n",
       "      <td>0.117399</td>\n",
       "      <td>0.131072</td>\n",
       "      <td>0.812610</td>\n",
       "      <td>0.731401</td>\n",
       "      <td>20540.0</td>\n",
       "      <td>69170.0</td>\n",
       "    </tr>\n",
       "  </tbody>\n",
       "</table>\n",
       "<p>4 rows × 50 columns</p>\n",
       "</div>"
      ],
      "text/plain": [
       "  run_no                       universe_id  \\\n",
       "0     14  6e1b383e2c05f954844ac8ca6da401ee   \n",
       "0     14  6e1b383e2c05f954844ac8ca6da401ee   \n",
       "0     14  6e1b383e2c05f954844ac8ca6da401ee   \n",
       "0     14  6e1b383e2c05f954844ac8ca6da401ee   \n",
       "\n",
       "                                   universe_settings  execution_time  \\\n",
       "0  {\"cutoff\": \"quantile_0.1\", \"eval_fairness_grou...       27.733497   \n",
       "0  {\"cutoff\": \"quantile_0.1\", \"eval_fairness_grou...       27.733497   \n",
       "0  {\"cutoff\": \"quantile_0.25\", \"eval_fairness_gro...       27.733497   \n",
       "0  {\"cutoff\": \"quantile_0.25\", \"eval_fairness_gro...       27.733497   \n",
       "\n",
       "   test_size_n  test_size_frac  fair_main_equalized_odds_difference  \\\n",
       "0        89710             1.0                             0.064236   \n",
       "0        89710             1.0                             0.064236   \n",
       "0        89710             1.0                             0.093027   \n",
       "0        89710             1.0                             0.093027   \n",
       "\n",
       "   fair_main_equalized_odds_ratio  fair_main_demographic_parity_difference  \\\n",
       "0                        0.931729                                 0.057018   \n",
       "0                        0.931729                                 0.057018   \n",
       "0                        0.884221                                 0.081209   \n",
       "0                        0.884221                                 0.081209   \n",
       "\n",
       "   fair_main_demographic_parity_ratio  ...  perf_grp_precision_0  \\\n",
       "0                            0.939597  ...                   NaN   \n",
       "0                            0.939597  ...              0.118160   \n",
       "0                            0.900064  ...                   NaN   \n",
       "0                            0.900064  ...              0.125217   \n",
       "\n",
       "   perf_grp_precision_1  perf_grp_false positive rate_0  \\\n",
       "0                   NaN                             NaN   \n",
       "0              0.142200                        0.940898   \n",
       "0                   NaN                             NaN   \n",
       "0              0.156984                        0.803489   \n",
       "\n",
       "   perf_grp_false positive rate_1  perf_grp_false negative rate_0  \\\n",
       "0                             NaN                             NaN   \n",
       "0                        0.876662                        0.032517   \n",
       "0                             NaN                             NaN   \n",
       "0                        0.710461                        0.117399   \n",
       "\n",
       "   perf_grp_false negative rate_1  perf_grp_selection rate_0  \\\n",
       "0                             NaN                        NaN   \n",
       "0                        0.045514                   0.943963   \n",
       "0                             NaN                        NaN   \n",
       "0                        0.131072                   0.812610   \n",
       "\n",
       "   perf_grp_selection rate_1  perf_grp_count_0  perf_grp_count_1  \n",
       "0                        NaN               NaN               NaN  \n",
       "0                   0.886945           20540.0           69170.0  \n",
       "0                        NaN               NaN               NaN  \n",
       "0                   0.731401           20540.0           69170.0  \n",
       "\n",
       "[4 rows x 50 columns]"
      ]
     },
     "execution_count": 79,
     "metadata": {},
     "output_type": "execute_result"
    }
   ],
   "source": [
    "final_output = universe_analysis.generate_final_output(\n",
    "    y_pred_prob=probs_test,\n",
    "    y_test=y_true,\n",
    "    org_test=org_test,\n",
    "    filter_data=filter_sub_universe_data,\n",
    "    cp_metrics_df=cp_metrics_df,\n",
    "    save=True,\n",
    ")\n",
    "final_output"
   ]
  },
  {
   "cell_type": "code",
   "execution_count": null,
   "id": "721ff514-cb11-46f8-b6fc-50392f74b5cb",
   "metadata": {
    "papermill": {
     "duration": 0.028498,
     "end_time": "2025-07-30T21:24:28.530935",
     "exception": false,
     "start_time": "2025-07-30T21:24:28.502437",
     "status": "completed"
    },
    "tags": []
   },
   "outputs": [],
   "source": []
  }
 ],
 "metadata": {
  "celltoolbar": "Tags",
  "kernelspec": {
   "display_name": "Python (CMA Fairness)",
   "language": "python",
   "name": "cma_fair_env"
  },
  "language_info": {
   "codemirror_mode": {
    "name": "ipython",
    "version": 3
   },
   "file_extension": ".py",
   "mimetype": "text/x-python",
   "name": "python",
   "nbconvert_exporter": "python",
   "pygments_lexer": "ipython3",
   "version": "3.10.12"
  },
  "papermill": {
   "default_parameters": {},
   "duration": 43.537764,
   "end_time": "2025-07-30T21:24:29.390971",
   "environment_variables": {},
   "exception": null,
   "input_path": "universe_analysis.ipynb",
   "output_path": "output/runs/14/notebooks/m_14-6e1b383e2c05f954844ac8ca6da401ee.ipynb",
   "parameters": {
    "output_dir": "output",
    "run_no": "14",
    "seed": "2023",
    "universe": "{\"cutoff\": [\"quantile_0.1\", \"quantile_0.25\"], \"eval_fairness_grouping\": [\"majority-minority\", \"nationality-all\"], \"exclude_features\": \"age\", \"exclude_subgroups\": \"keep-all\", \"model\": \"penalized_logreg\", \"scale\": \"scale\", \"training_size\": \"1k\", \"training_year\": \"2014\"}",
    "universe_id": "6e1b383e2c05f954844ac8ca6da401ee"
   },
   "start_time": "2025-07-30T21:23:45.853207",
   "version": "2.6.0"
  }
 },
 "nbformat": 4,
 "nbformat_minor": 5
}