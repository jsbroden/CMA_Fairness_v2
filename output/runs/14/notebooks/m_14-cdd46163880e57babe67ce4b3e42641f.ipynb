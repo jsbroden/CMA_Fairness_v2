{
 "cells": [
  {
   "cell_type": "code",
   "execution_count": 1,
   "id": "f159f837-637b-42ba-96b5-ec9a68c44524",
   "metadata": {
    "execution": {
     "iopub.execute_input": "2025-07-30T21:31:17.890038Z",
     "iopub.status.busy": "2025-07-30T21:31:17.889393Z",
     "iopub.status.idle": "2025-07-30T21:31:17.903327Z",
     "shell.execute_reply": "2025-07-30T21:31:17.902373Z"
    },
    "papermill": {
     "duration": 0.032127,
     "end_time": "2025-07-30T21:31:17.904988",
     "exception": false,
     "start_time": "2025-07-30T21:31:17.872861",
     "status": "completed"
    },
    "tags": []
   },
   "outputs": [
    {
     "name": "stdout",
     "output_type": "stream",
     "text": [
      "/dss/dsshome1/0C/ra93lal2/cma/CMA_Fairness_v2\n"
     ]
    },
    {
     "name": "stderr",
     "output_type": "stream",
     "text": [
      "/dss/dsshome1/0C/ra93lal2/.local/share/virtualenvs/CMA_Fairness_v2-3j10GkSs/lib/python3.10/site-packages/IPython/core/magics/osm.py:393: UserWarning: This is now an optional IPython functionality, using bookmarks requires you to install the `pickleshare` library.\n",
      "  bkms = self.shell.db.get('bookmarks', {})\n",
      "/dss/dsshome1/0C/ra93lal2/.local/share/virtualenvs/CMA_Fairness_v2-3j10GkSs/lib/python3.10/site-packages/IPython/core/magics/osm.py:417: UserWarning: This is now an optional IPython functionality, setting dhist requires you to install the `pickleshare` library.\n",
      "  self.shell.db['dhist'] = compress_dhist(dhist)[-100:]\n"
     ]
    }
   ],
   "source": [
    "%cd ~/cma/CMA_Fairness_v2"
   ]
  },
  {
   "cell_type": "markdown",
   "id": "de2603b9",
   "metadata": {
    "papermill": {
     "duration": 0.009249,
     "end_time": "2025-07-30T21:31:17.928598",
     "exception": false,
     "start_time": "2025-07-30T21:31:17.919349",
     "status": "completed"
    },
    "tags": []
   },
   "source": [
    "The following cell holds the definition of our parameters, these values can be overriden by rendering the with e.g. the following command:\n",
    "\n",
    "papermill -p alpha 0.2 -p ratio 0.3 universe_analysis.ipynb output/test_run.ipynb"
   ]
  },
  {
   "cell_type": "code",
   "execution_count": 2,
   "id": "a80968a0-40bb-4fa9-85ef-2d5eefb01975",
   "metadata": {
    "execution": {
     "iopub.execute_input": "2025-07-30T21:31:17.947629Z",
     "iopub.status.busy": "2025-07-30T21:31:17.947344Z",
     "iopub.status.idle": "2025-07-30T21:31:17.951527Z",
     "shell.execute_reply": "2025-07-30T21:31:17.950889Z"
    },
    "papermill": {
     "duration": 0.015076,
     "end_time": "2025-07-30T21:31:17.952633",
     "exception": false,
     "start_time": "2025-07-30T21:31:17.937557",
     "status": "completed"
    },
    "tags": []
   },
   "outputs": [
    {
     "name": "stdout",
     "output_type": "stream",
     "text": [
      "Current working directory: /dss/dsshome1/0C/ra93lal2/cma/CMA_Fairness_v2\n"
     ]
    }
   ],
   "source": [
    "import os\n",
    "print(\"Current working directory:\", os.getcwd())"
   ]
  },
  {
   "cell_type": "code",
   "execution_count": 3,
   "id": "2dce4c03",
   "metadata": {
    "execution": {
     "iopub.execute_input": "2025-07-30T21:31:17.977501Z",
     "iopub.status.busy": "2025-07-30T21:31:17.977137Z",
     "iopub.status.idle": "2025-07-30T21:31:17.981175Z",
     "shell.execute_reply": "2025-07-30T21:31:17.980555Z"
    },
    "papermill": {
     "duration": 0.020152,
     "end_time": "2025-07-30T21:31:17.982303",
     "exception": false,
     "start_time": "2025-07-30T21:31:17.962151",
     "status": "completed"
    },
    "tags": [
     "parameters"
    ]
   },
   "outputs": [],
   "source": [
    "run_no = 0\n",
    "universe_id = \"test\"\n",
    "universe = {\n",
    "    \"training_size\": \"25k\", # \"25k\", \"5k\", \"1k\"\n",
    "    \"training_year\": \"2014\", # \"2014\", \"2012_14\", \"2010_14\"\n",
    "    \"scale\": \"scale\", # \"scale\", \"do-not-scale\",\n",
    "    #\"stratify_split\": \"target\", # \"none\", \"target\", \"protected-attribute\", \"both\",\n",
    "    \"model\": \"elasticnet\", # \"logreg\", \"penalized_logreg\", \"rf\", \"gbm\", \"elasticnet\"\n",
    "    \"cutoff\": [\"quantile_0.15\", \"quantile_0.30\"],\n",
    "    \"exclude_features\": \"age\", # \"none\", \"nationality\", \"sex\", \"nationality-sex\", \"age\"\n",
    "    \"exclude_subgroups\": \"keep-all\", # \"keep-all\", \"drop-non-german\"\n",
    "    \"eval_fairness_grouping\": [\"majority-minority\", \"nationality-all\"]\n",
    "}\n",
    "\n",
    "output_dir=\"./output\"\n",
    "seed=0"
   ]
  },
  {
   "cell_type": "code",
   "execution_count": 4,
   "id": "dfafc562",
   "metadata": {
    "execution": {
     "iopub.execute_input": "2025-07-30T21:31:18.001962Z",
     "iopub.status.busy": "2025-07-30T21:31:18.001712Z",
     "iopub.status.idle": "2025-07-30T21:31:18.005331Z",
     "shell.execute_reply": "2025-07-30T21:31:18.004545Z"
    },
    "papermill": {
     "duration": 0.015186,
     "end_time": "2025-07-30T21:31:18.007143",
     "exception": false,
     "start_time": "2025-07-30T21:31:17.991957",
     "status": "completed"
    },
    "tags": [
     "injected-parameters"
    ]
   },
   "outputs": [],
   "source": [
    "# Parameters\n",
    "universe_id = \"cdd46163880e57babe67ce4b3e42641f\"\n",
    "run_no = \"14\"\n",
    "universe = \"{\\\"cutoff\\\": [\\\"quantile_0.1\\\", \\\"quantile_0.25\\\"], \\\"eval_fairness_grouping\\\": [\\\"majority-minority\\\", \\\"nationality-all\\\"], \\\"exclude_features\\\": \\\"nationality\\\", \\\"exclude_subgroups\\\": \\\"keep-all\\\", \\\"model\\\": \\\"elasticnet\\\", \\\"scale\\\": \\\"do-not-scale\\\", \\\"training_size\\\": \\\"1k\\\", \\\"training_year\\\": \\\"2014\\\"}\"\n",
    "output_dir = \"output\"\n",
    "seed = \"2023\"\n"
   ]
  },
  {
   "cell_type": "code",
   "execution_count": 5,
   "id": "1650acaf",
   "metadata": {
    "execution": {
     "iopub.execute_input": "2025-07-30T21:31:18.028195Z",
     "iopub.status.busy": "2025-07-30T21:31:18.027650Z",
     "iopub.status.idle": "2025-07-30T21:31:18.031695Z",
     "shell.execute_reply": "2025-07-30T21:31:18.030685Z"
    },
    "papermill": {
     "duration": 0.016216,
     "end_time": "2025-07-30T21:31:18.033485",
     "exception": false,
     "start_time": "2025-07-30T21:31:18.017269",
     "status": "completed"
    },
    "tags": []
   },
   "outputs": [],
   "source": [
    "import json\n",
    "# Parse universe into dict if it is passed as a string\n",
    "if isinstance(universe, str):\n",
    "    universe = json.loads(universe)"
   ]
  },
  {
   "cell_type": "code",
   "execution_count": 6,
   "id": "16620c48",
   "metadata": {
    "execution": {
     "iopub.execute_input": "2025-07-30T21:31:18.059044Z",
     "iopub.status.busy": "2025-07-30T21:31:18.058710Z",
     "iopub.status.idle": "2025-07-30T21:31:18.104461Z",
     "shell.execute_reply": "2025-07-30T21:31:18.103656Z"
    },
    "papermill": {
     "duration": 0.059126,
     "end_time": "2025-07-30T21:31:18.105609",
     "exception": false,
     "start_time": "2025-07-30T21:31:18.046483",
     "status": "completed"
    },
    "tags": []
   },
   "outputs": [],
   "source": [
    "# Auto-reload the custom package\n",
    "%load_ext autoreload\n",
    "%autoreload 1\n",
    "%aimport fairness_multiverse"
   ]
  },
  {
   "cell_type": "code",
   "execution_count": 7,
   "id": "01c5c9f3",
   "metadata": {
    "execution": {
     "iopub.execute_input": "2025-07-30T21:31:18.149630Z",
     "iopub.status.busy": "2025-07-30T21:31:18.148909Z",
     "iopub.status.idle": "2025-07-30T21:31:20.260993Z",
     "shell.execute_reply": "2025-07-30T21:31:20.259718Z"
    },
    "papermill": {
     "duration": 2.136225,
     "end_time": "2025-07-30T21:31:20.262488",
     "exception": false,
     "start_time": "2025-07-30T21:31:18.126263",
     "status": "completed"
    },
    "tags": []
   },
   "outputs": [],
   "source": [
    "from fairness_multiverse.universe import UniverseAnalysis\n",
    "\n",
    "universe_analysis = UniverseAnalysis(\n",
    "    run_no = run_no,\n",
    "    universe_id = universe_id,\n",
    "    universe = universe,\n",
    "    output_dir=output_dir,\n",
    ")"
   ]
  },
  {
   "cell_type": "code",
   "execution_count": 8,
   "id": "106241f5",
   "metadata": {
    "execution": {
     "iopub.execute_input": "2025-07-30T21:31:20.311156Z",
     "iopub.status.busy": "2025-07-30T21:31:20.310634Z",
     "iopub.status.idle": "2025-07-30T21:31:20.317973Z",
     "shell.execute_reply": "2025-07-30T21:31:20.316976Z"
    },
    "papermill": {
     "duration": 0.033137,
     "end_time": "2025-07-30T21:31:20.319571",
     "exception": false,
     "start_time": "2025-07-30T21:31:20.286434",
     "status": "completed"
    },
    "tags": []
   },
   "outputs": [
    {
     "name": "stdout",
     "output_type": "stream",
     "text": [
      "Using Seed: 2023\n"
     ]
    }
   ],
   "source": [
    "import numpy as np\n",
    "parsed_seed = int(seed)\n",
    "np.random.seed(parsed_seed)\n",
    "print(f\"Using Seed: {parsed_seed}\")"
   ]
  },
  {
   "cell_type": "markdown",
   "id": "e0ebdc57",
   "metadata": {
    "papermill": {
     "duration": 0.020896,
     "end_time": "2025-07-30T21:31:20.362087",
     "exception": false,
     "start_time": "2025-07-30T21:31:20.341191",
     "status": "completed"
    },
    "tags": []
   },
   "source": [
    "# Loading Data"
   ]
  },
  {
   "cell_type": "markdown",
   "id": "681925a3",
   "metadata": {
    "papermill": {
     "duration": 0.021177,
     "end_time": "2025-07-30T21:31:20.404170",
     "exception": false,
     "start_time": "2025-07-30T21:31:20.382993",
     "status": "completed"
    },
    "tags": []
   },
   "source": [
    "Load siab_train, siab_test, siab_calib and/or \n",
    "load siab_train_features, siab_train_labels"
   ]
  },
  {
   "cell_type": "code",
   "execution_count": 9,
   "id": "f0496b8a",
   "metadata": {
    "execution": {
     "iopub.execute_input": "2025-07-30T21:31:20.449855Z",
     "iopub.status.busy": "2025-07-30T21:31:20.449078Z",
     "iopub.status.idle": "2025-07-30T21:31:34.399251Z",
     "shell.execute_reply": "2025-07-30T21:31:34.398041Z"
    },
    "papermill": {
     "duration": 13.975963,
     "end_time": "2025-07-30T21:31:34.401197",
     "exception": false,
     "start_time": "2025-07-30T21:31:20.425234",
     "status": "completed"
    },
    "tags": []
   },
   "outputs": [
    {
     "name": "stdout",
     "output_type": "stream",
     "text": [
      "Loading SIAB data from cache: data/siab_cached.csv.gz\n"
     ]
    },
    {
     "name": "stdout",
     "output_type": "stream",
     "text": [
      "(643690, 164)\n"
     ]
    }
   ],
   "source": [
    "from pathlib import Path\n",
    "import pandas as pd\n",
    "\n",
    "# File paths\n",
    "raw_file = Path(\"data/raw/siab.csv\")\n",
    "cache_file = Path(\"data/siab_cached.csv.gz\")\n",
    "\n",
    "# Ensure cache directory exists\n",
    "cache_file.parent.mkdir(parents=True, exist_ok=True)\n",
    "\n",
    "# Load with simple caching\n",
    "if cache_file.exists():\n",
    "    print(f\"Loading SIAB data from cache: {cache_file}\")\n",
    "    siab = pd.read_csv(cache_file, compression='gzip')\n",
    "else:\n",
    "    print(f\"Cache not found. Reading raw SIAB data: {raw_file}\")\n",
    "    siab = pd.read_csv(raw_file)\n",
    "    siab.to_csv(cache_file, index=False, compression='gzip')\n",
    "    print(f\"Cached SIAB data to: {cache_file}\")\n",
    "\n",
    "# Now use `siab` DataFrame as needed\n",
    "print(siab.shape)"
   ]
  },
  {
   "cell_type": "code",
   "execution_count": 10,
   "id": "db0ca512-5f53-4dba-abdb-a2888bca41ba",
   "metadata": {
    "execution": {
     "iopub.execute_input": "2025-07-30T21:31:34.447171Z",
     "iopub.status.busy": "2025-07-30T21:31:34.446683Z",
     "iopub.status.idle": "2025-07-30T21:31:34.452506Z",
     "shell.execute_reply": "2025-07-30T21:31:34.451480Z"
    },
    "papermill": {
     "duration": 0.029487,
     "end_time": "2025-07-30T21:31:34.454506",
     "exception": false,
     "start_time": "2025-07-30T21:31:34.425019",
     "status": "completed"
    },
    "tags": []
   },
   "outputs": [],
   "source": [
    "#siab"
   ]
  },
  {
   "cell_type": "code",
   "execution_count": 11,
   "id": "a0edb063",
   "metadata": {
    "execution": {
     "iopub.execute_input": "2025-07-30T21:31:34.488956Z",
     "iopub.status.busy": "2025-07-30T21:31:34.488543Z",
     "iopub.status.idle": "2025-07-30T21:31:34.493360Z",
     "shell.execute_reply": "2025-07-30T21:31:34.492134Z"
    },
    "papermill": {
     "duration": 0.02654,
     "end_time": "2025-07-30T21:31:34.495721",
     "exception": false,
     "start_time": "2025-07-30T21:31:34.469181",
     "status": "completed"
    },
    "tags": []
   },
   "outputs": [],
   "source": [
    "#import pandas as pd\n",
    "#\n",
    "#X_train = pd.read_csv(\"./data/X_train.csv\")\n",
    "#y_train = pd.read_csv(\"./data/y_train.csv\")"
   ]
  },
  {
   "cell_type": "code",
   "execution_count": 12,
   "id": "63d08085",
   "metadata": {
    "execution": {
     "iopub.execute_input": "2025-07-30T21:31:34.534567Z",
     "iopub.status.busy": "2025-07-30T21:31:34.534203Z",
     "iopub.status.idle": "2025-07-30T21:31:34.538621Z",
     "shell.execute_reply": "2025-07-30T21:31:34.537917Z"
    },
    "papermill": {
     "duration": 0.022063,
     "end_time": "2025-07-30T21:31:34.539970",
     "exception": false,
     "start_time": "2025-07-30T21:31:34.517907",
     "status": "completed"
    },
    "tags": []
   },
   "outputs": [],
   "source": [
    "#X_test = pd.read_csv(\"./data/X_test.csv\")\n",
    "#y_true = pd.read_csv(\"./data/y_test.csv\")"
   ]
  },
  {
   "cell_type": "code",
   "execution_count": 13,
   "id": "98a8d0fa-1d3d-4ed8-bb2c-281470e24add",
   "metadata": {
    "execution": {
     "iopub.execute_input": "2025-07-30T21:31:34.577123Z",
     "iopub.status.busy": "2025-07-30T21:31:34.576834Z",
     "iopub.status.idle": "2025-07-30T21:31:35.183009Z",
     "shell.execute_reply": "2025-07-30T21:31:35.181755Z"
    },
    "papermill": {
     "duration": 0.630959,
     "end_time": "2025-07-30T21:31:35.185495",
     "exception": false,
     "start_time": "2025-07-30T21:31:34.554536",
     "status": "completed"
    },
    "tags": []
   },
   "outputs": [],
   "source": [
    "# Calibration data for conformal\n",
    "#X_calib = pd.read_csv(\"./data/X_calib.csv\")\n",
    "#y_calib = pd.read_csv(\"./data/y_calib.csv\")"
   ]
  },
  {
   "cell_type": "markdown",
   "id": "997051c5-15bd-4b69-9786-c3001a3ce484",
   "metadata": {
    "papermill": {
     "duration": 0.034615,
     "end_time": "2025-07-30T21:31:35.250185",
     "exception": false,
     "start_time": "2025-07-30T21:31:35.215570",
     "status": "completed"
    },
    "tags": []
   },
   "source": [
    "# Splitting Data and Setting Training Data Size"
   ]
  },
  {
   "cell_type": "code",
   "execution_count": 14,
   "id": "e993b61f-042d-41a6-8c81-f55681f86335",
   "metadata": {
    "execution": {
     "iopub.execute_input": "2025-07-30T21:31:35.306283Z",
     "iopub.status.busy": "2025-07-30T21:31:35.305929Z",
     "iopub.status.idle": "2025-07-30T21:31:35.319810Z",
     "shell.execute_reply": "2025-07-30T21:31:35.318792Z"
    },
    "papermill": {
     "duration": 0.043101,
     "end_time": "2025-07-30T21:31:35.321767",
     "exception": false,
     "start_time": "2025-07-30T21:31:35.278666",
     "status": "completed"
    },
    "tags": []
   },
   "outputs": [],
   "source": [
    "def sample_by_year_size(df,\n",
    "                        training_year: str,\n",
    "                        training_size: str,\n",
    "                        random_state: int = 42):\n",
    "    # --- parse training_year into a list of int years ---\n",
    "    if \"_\" in training_year:\n",
    "        start_str, end_str = training_year.split(\"_\", 1)\n",
    "        start = int(start_str)\n",
    "        end   = int(end_str) if len(end_str) == 4 else (int(end_str) + (start // 100)*100)\n",
    "        years = list(range(start, end + 1))\n",
    "    else:\n",
    "        years = [int(training_year)]\n",
    "\n",
    "    df = df[df[\"year\"].isin(years)].reset_index(drop=True)\n",
    "\n",
    "    # --- map training_size to total number of samples ---\n",
    "    total_map = {\"25k\": 25_000, \"5k\": 5_000, \"1k\": 1_000}\n",
    "    if training_size not in total_map:\n",
    "        return df  # e.g. \"all\"\n",
    "\n",
    "    total_samples = total_map[training_size]\n",
    "    n_years       = len(years)\n",
    "    base          = total_samples // n_years\n",
    "    remainder     = total_samples % n_years\n",
    "\n",
    "    # --- build a dict: year -> how many to sample ---\n",
    "    # give +1 to the first `remainder` years in ascending order\n",
    "    quotas = {\n",
    "        year: base + (1 if idx < remainder else 0)\n",
    "        for idx, year in enumerate(sorted(years))\n",
    "    }\n",
    "\n",
    "    # --- sample per‐year according to the quota dict ---\n",
    "    sampled = (\n",
    "        df\n",
    "        .groupby(\"year\", group_keys=False)\n",
    "        .apply(lambda grp: grp.sample(\n",
    "            n=min(len(grp), quotas[grp.name]),\n",
    "            random_state=random_state))\n",
    "        .reset_index(drop=True)\n",
    "    )\n",
    "\n",
    "    return sampled"
   ]
  },
  {
   "cell_type": "code",
   "execution_count": 15,
   "id": "c0ccd338-0e02-41f3-a09d-f56f9266e3fb",
   "metadata": {
    "execution": {
     "iopub.execute_input": "2025-07-30T21:31:35.370721Z",
     "iopub.status.busy": "2025-07-30T21:31:35.370227Z",
     "iopub.status.idle": "2025-07-30T21:31:35.376504Z",
     "shell.execute_reply": "2025-07-30T21:31:35.375151Z"
    },
    "papermill": {
     "duration": 0.042844,
     "end_time": "2025-07-30T21:31:35.387146",
     "exception": false,
     "start_time": "2025-07-30T21:31:35.344302",
     "status": "completed"
    },
    "tags": []
   },
   "outputs": [],
   "source": [
    "#universe[\"training_size\"]"
   ]
  },
  {
   "cell_type": "code",
   "execution_count": 16,
   "id": "ca707fd7-8047-4acd-bfa5-66248fbbf8e6",
   "metadata": {
    "execution": {
     "iopub.execute_input": "2025-07-30T21:31:35.435680Z",
     "iopub.status.busy": "2025-07-30T21:31:35.434965Z",
     "iopub.status.idle": "2025-07-30T21:31:35.439977Z",
     "shell.execute_reply": "2025-07-30T21:31:35.439067Z"
    },
    "papermill": {
     "duration": 0.036122,
     "end_time": "2025-07-30T21:31:35.446466",
     "exception": false,
     "start_time": "2025-07-30T21:31:35.410344",
     "status": "completed"
    },
    "tags": []
   },
   "outputs": [],
   "source": [
    "#universe[\"training_year\"]"
   ]
  },
  {
   "cell_type": "code",
   "execution_count": 17,
   "id": "aea9c6ef-6f46-42c8-85eb-5a62025c1508",
   "metadata": {
    "execution": {
     "iopub.execute_input": "2025-07-30T21:31:35.488697Z",
     "iopub.status.busy": "2025-07-30T21:31:35.488353Z",
     "iopub.status.idle": "2025-07-30T21:31:35.788814Z",
     "shell.execute_reply": "2025-07-30T21:31:35.787840Z"
    },
    "papermill": {
     "duration": 0.322212,
     "end_time": "2025-07-30T21:31:35.790448",
     "exception": false,
     "start_time": "2025-07-30T21:31:35.468236",
     "status": "completed"
    },
    "tags": []
   },
   "outputs": [],
   "source": [
    "siab_train = sample_by_year_size(siab,\n",
    "                               training_year=universe[\"training_year\"],\n",
    "                               training_size=universe[\"training_size\"])"
   ]
  },
  {
   "cell_type": "code",
   "execution_count": 18,
   "id": "8d3afb32-789d-442c-8d5d-9f5aa8dd2eed",
   "metadata": {
    "execution": {
     "iopub.execute_input": "2025-07-30T21:31:35.816429Z",
     "iopub.status.busy": "2025-07-30T21:31:35.816008Z",
     "iopub.status.idle": "2025-07-30T21:31:35.821129Z",
     "shell.execute_reply": "2025-07-30T21:31:35.819703Z"
    },
    "papermill": {
     "duration": 0.019837,
     "end_time": "2025-07-30T21:31:35.823461",
     "exception": false,
     "start_time": "2025-07-30T21:31:35.803624",
     "status": "completed"
    },
    "tags": []
   },
   "outputs": [],
   "source": [
    "#siab_train.shape"
   ]
  },
  {
   "cell_type": "code",
   "execution_count": 19,
   "id": "d582db68-1a4c-47fb-84fc-08518dc1975a",
   "metadata": {
    "execution": {
     "iopub.execute_input": "2025-07-30T21:31:35.877967Z",
     "iopub.status.busy": "2025-07-30T21:31:35.877544Z",
     "iopub.status.idle": "2025-07-30T21:31:35.881868Z",
     "shell.execute_reply": "2025-07-30T21:31:35.881073Z"
    },
    "papermill": {
     "duration": 0.028511,
     "end_time": "2025-07-30T21:31:35.883165",
     "exception": false,
     "start_time": "2025-07-30T21:31:35.854654",
     "status": "completed"
    },
    "tags": []
   },
   "outputs": [],
   "source": [
    "#display(siab_train.groupby(\"year\").size())"
   ]
  },
  {
   "cell_type": "code",
   "execution_count": 20,
   "id": "a561edb4-d032-42cb-8256-22eac1111c64",
   "metadata": {
    "execution": {
     "iopub.execute_input": "2025-07-30T21:31:35.914471Z",
     "iopub.status.busy": "2025-07-30T21:31:35.913905Z",
     "iopub.status.idle": "2025-07-30T21:31:36.198920Z",
     "shell.execute_reply": "2025-07-30T21:31:36.197921Z"
    },
    "papermill": {
     "duration": 0.303877,
     "end_time": "2025-07-30T21:31:36.200882",
     "exception": false,
     "start_time": "2025-07-30T21:31:35.897005",
     "status": "completed"
    },
    "tags": []
   },
   "outputs": [],
   "source": [
    "#siab_train = siab_s[siab_s.year < 2015]\n",
    "siab_calib = siab[siab.year == 2015]\n",
    "siab_test = siab[siab.year == 2016]"
   ]
  },
  {
   "cell_type": "code",
   "execution_count": 21,
   "id": "472de16f-c3db-4916-846b-1f0de9cf1746",
   "metadata": {
    "execution": {
     "iopub.execute_input": "2025-07-30T21:31:36.248965Z",
     "iopub.status.busy": "2025-07-30T21:31:36.248495Z",
     "iopub.status.idle": "2025-07-30T21:31:36.255632Z",
     "shell.execute_reply": "2025-07-30T21:31:36.254651Z"
    },
    "papermill": {
     "duration": 0.03533,
     "end_time": "2025-07-30T21:31:36.259609",
     "exception": false,
     "start_time": "2025-07-30T21:31:36.224279",
     "status": "completed"
    },
    "tags": []
   },
   "outputs": [],
   "source": [
    "X_train = siab_train.iloc[:,4:164]\n",
    "y_train = siab_train.iloc[:, [3]]"
   ]
  },
  {
   "cell_type": "code",
   "execution_count": 22,
   "id": "828c96af-f43a-4ed6-ba47-8ac73a47d56c",
   "metadata": {
    "execution": {
     "iopub.execute_input": "2025-07-30T21:31:36.286953Z",
     "iopub.status.busy": "2025-07-30T21:31:36.286584Z",
     "iopub.status.idle": "2025-07-30T21:31:36.346873Z",
     "shell.execute_reply": "2025-07-30T21:31:36.345867Z"
    },
    "papermill": {
     "duration": 0.074788,
     "end_time": "2025-07-30T21:31:36.348806",
     "exception": false,
     "start_time": "2025-07-30T21:31:36.274018",
     "status": "completed"
    },
    "tags": []
   },
   "outputs": [],
   "source": [
    "X_calib = siab_calib.iloc[:,4:164]\n",
    "y_calib = siab_calib.iloc[:, [3]]"
   ]
  },
  {
   "cell_type": "code",
   "execution_count": 23,
   "id": "c34be9c3-6bd6-476e-acd3-845840e303be",
   "metadata": {
    "execution": {
     "iopub.execute_input": "2025-07-30T21:31:36.382300Z",
     "iopub.status.busy": "2025-07-30T21:31:36.381977Z",
     "iopub.status.idle": "2025-07-30T21:31:36.482688Z",
     "shell.execute_reply": "2025-07-30T21:31:36.481708Z"
    },
    "papermill": {
     "duration": 0.115608,
     "end_time": "2025-07-30T21:31:36.484339",
     "exception": false,
     "start_time": "2025-07-30T21:31:36.368731",
     "status": "completed"
    },
    "tags": []
   },
   "outputs": [],
   "source": [
    "X_test = siab_test.iloc[:,4:164]\n",
    "y_true = siab_test.iloc[:, [3]]"
   ]
  },
  {
   "cell_type": "markdown",
   "id": "9901737e-04df-44f0-9100-f5ad144ed040",
   "metadata": {
    "papermill": {
     "duration": 0.01178,
     "end_time": "2025-07-30T21:31:36.507936",
     "exception": false,
     "start_time": "2025-07-30T21:31:36.496156",
     "status": "completed"
    },
    "tags": []
   },
   "source": [
    "# Splitting Data and Setting Training Data Size OLD VERSION"
   ]
  },
  {
   "cell_type": "code",
   "execution_count": 24,
   "id": "acbc8f7d-8fc8-4e86-8c59-5dcb0f58384b",
   "metadata": {
    "execution": {
     "iopub.execute_input": "2025-07-30T21:31:36.534569Z",
     "iopub.status.busy": "2025-07-30T21:31:36.534097Z",
     "iopub.status.idle": "2025-07-30T21:31:36.539206Z",
     "shell.execute_reply": "2025-07-30T21:31:36.538518Z"
    },
    "papermill": {
     "duration": 0.020592,
     "end_time": "2025-07-30T21:31:36.540885",
     "exception": false,
     "start_time": "2025-07-30T21:31:36.520293",
     "status": "completed"
    },
    "tags": []
   },
   "outputs": [],
   "source": [
    "#def sample_by_year(df, training_size, random_state=42):\n",
    "#    if training_size == \"2014\":\n",
    "#        return df[df[\"year\"] == 2014].reset_index(drop=True)\n",
    "#    \n",
    "#    size_map = {\n",
    "#        \"25k\": 5000,\n",
    "#        \"5k\": 1000,\n",
    "#        \"1k\": 200\n",
    "#    }\n",
    "#\n",
    "#    if training_size not in size_map:\n",
    "#        return df.reset_index(drop=True)  # use all data\n",
    "#\n",
    "#    n_per_year = size_map[training_size]\n",
    "#    grouped = df.groupby(\"year\")\n",
    "#    sampled = grouped.apply(lambda x: x.sample(n=min(n_per_year, len(x)), random_state=random_state))\n",
    "#    return sampled.reset_index(drop=True)"
   ]
  },
  {
   "cell_type": "code",
   "execution_count": 25,
   "id": "6d931f52-beaf-43ff-9e78-9d44a448d54e",
   "metadata": {
    "execution": {
     "iopub.execute_input": "2025-07-30T21:31:36.579369Z",
     "iopub.status.busy": "2025-07-30T21:31:36.578874Z",
     "iopub.status.idle": "2025-07-30T21:31:36.583761Z",
     "shell.execute_reply": "2025-07-30T21:31:36.582998Z"
    },
    "papermill": {
     "duration": 0.021861,
     "end_time": "2025-07-30T21:31:36.585310",
     "exception": false,
     "start_time": "2025-07-30T21:31:36.563449",
     "status": "completed"
    },
    "tags": []
   },
   "outputs": [],
   "source": [
    "#siab_s = sample_by_year(siab, universe[\"training_size\"])"
   ]
  },
  {
   "cell_type": "code",
   "execution_count": 26,
   "id": "5db0a40e-a4e2-4920-be85-b12ae061d70d",
   "metadata": {
    "execution": {
     "iopub.execute_input": "2025-07-30T21:31:36.620892Z",
     "iopub.status.busy": "2025-07-30T21:31:36.620468Z",
     "iopub.status.idle": "2025-07-30T21:31:36.625694Z",
     "shell.execute_reply": "2025-07-30T21:31:36.624791Z"
    },
    "papermill": {
     "duration": 0.019565,
     "end_time": "2025-07-30T21:31:36.627980",
     "exception": false,
     "start_time": "2025-07-30T21:31:36.608415",
     "status": "completed"
    },
    "tags": []
   },
   "outputs": [],
   "source": [
    "#display(siab_s.groupby(\"year\").size())"
   ]
  },
  {
   "cell_type": "code",
   "execution_count": 27,
   "id": "e6c733c5",
   "metadata": {
    "execution": {
     "iopub.execute_input": "2025-07-30T21:31:36.675909Z",
     "iopub.status.busy": "2025-07-30T21:31:36.675263Z",
     "iopub.status.idle": "2025-07-30T21:31:36.768445Z",
     "shell.execute_reply": "2025-07-30T21:31:36.767432Z"
    },
    "papermill": {
     "duration": 0.10946,
     "end_time": "2025-07-30T21:31:36.769816",
     "exception": false,
     "start_time": "2025-07-30T21:31:36.660356",
     "status": "completed"
    },
    "tags": []
   },
   "outputs": [],
   "source": [
    "# Auxiliary data needed downstream in the pipeline\n",
    "\n",
    "org_train = X_train.copy()\n",
    "org_test = X_test.copy()\n",
    "org_calib = X_calib.copy()"
   ]
  },
  {
   "cell_type": "code",
   "execution_count": 28,
   "id": "1466abac-c6da-4492-a62f-4240ae3783af",
   "metadata": {
    "execution": {
     "iopub.execute_input": "2025-07-30T21:31:36.815552Z",
     "iopub.status.busy": "2025-07-30T21:31:36.815162Z",
     "iopub.status.idle": "2025-07-30T21:31:36.819279Z",
     "shell.execute_reply": "2025-07-30T21:31:36.818646Z"
    },
    "papermill": {
     "duration": 0.029625,
     "end_time": "2025-07-30T21:31:36.820741",
     "exception": false,
     "start_time": "2025-07-30T21:31:36.791116",
     "status": "completed"
    },
    "tags": []
   },
   "outputs": [],
   "source": [
    "# put in other script?\n",
    "# Group sizes\n",
    "\n",
    "#def calculate_percentages(df, df_name):\n",
    "#    total_entries = len(df)\n",
    "#\n",
    "#    female_pct = (df['frau1'] == 1).mean() * 100\n",
    "#    non_german_pct = ((df['maxdeutsch1'] == 0) & (df['maxdeutsch.Missing.'] == 0)).mean() * 100\n",
    "#    non_german_male_pct = ((df['frau1'] == 0) & (df['maxdeutsch1'] == 0) & (df['maxdeutsch.Missing.'] == 0)).mean() * 100\n",
    "#    non_german_female_pct = ((df['frau1'] == 1) & (df['maxdeutsch1'] == 0) & (df['maxdeutsch.Missing.'] == 0)).mean() * 100\n",
    "#\n",
    "#    print(f\"--- {df_name} ---\")\n",
    "#    print(f\"Female: {female_pct:.2f}%\")\n",
    "#    print(f\"Non-German: {non_german_pct:.2f}%\")\n",
    "#    print(f\"Non-German Male: {non_german_male_pct:.2f}%\")\n",
    "#    print(f\"Non-German Female: {non_german_female_pct:.2f}%\\n\")\n",
    "#\n",
    "## Calculate for each DataFrame\n",
    "#calculate_percentages(siab_calib, \"siab_calib\")\n",
    "#calculate_percentages(siab_test, \"siab_test\")\n",
    "#calculate_percentages(siab_train, \"siab_train\")"
   ]
  },
  {
   "cell_type": "markdown",
   "id": "0a4a1b33",
   "metadata": {
    "papermill": {
     "duration": 0.011365,
     "end_time": "2025-07-30T21:31:36.847043",
     "exception": false,
     "start_time": "2025-07-30T21:31:36.835678",
     "status": "completed"
    },
    "tags": []
   },
   "source": [
    "# Preprocessing Data"
   ]
  },
  {
   "cell_type": "code",
   "execution_count": 29,
   "id": "ca879031",
   "metadata": {
    "execution": {
     "iopub.execute_input": "2025-07-30T21:31:36.886653Z",
     "iopub.status.busy": "2025-07-30T21:31:36.885904Z",
     "iopub.status.idle": "2025-07-30T21:31:37.661017Z",
     "shell.execute_reply": "2025-07-30T21:31:37.659833Z"
    },
    "papermill": {
     "duration": 0.801349,
     "end_time": "2025-07-30T21:31:37.663184",
     "exception": false,
     "start_time": "2025-07-30T21:31:36.861835",
     "status": "completed"
    },
    "tags": []
   },
   "outputs": [],
   "source": [
    "# EXCLUDE PROTECTED FEATURES\n",
    "# ----------------------\n",
    "# \"exclude_features\": \"none\", # \"nationality\", \"sex\", \"nationality-sex\"\n",
    "\n",
    "excluded_features = universe[\"exclude_features\"].split(\"-\") # split, e.g.: \"nationality-sex\" -> [\"nationality\", \"sex\"]\n",
    "excluded_features_dictionary = {\n",
    "    \"nationality\": [\"maxdeutsch1\", \"maxdeutsch.Missing.\"],\n",
    "    \"sex\": [\"frau1\"],\n",
    "    \"age\": [\"age\"],\n",
    "}\n"
   ]
  },
  {
   "cell_type": "code",
   "execution_count": 30,
   "id": "b745ac60",
   "metadata": {
    "execution": {
     "iopub.execute_input": "2025-07-30T21:31:37.712769Z",
     "iopub.status.busy": "2025-07-30T21:31:37.712363Z",
     "iopub.status.idle": "2025-07-30T21:31:37.717822Z",
     "shell.execute_reply": "2025-07-30T21:31:37.716918Z"
    },
    "papermill": {
     "duration": 0.019001,
     "end_time": "2025-07-30T21:31:37.719595",
     "exception": false,
     "start_time": "2025-07-30T21:31:37.700594",
     "status": "completed"
    },
    "tags": []
   },
   "outputs": [],
   "source": [
    "# Code nice names to column names\n",
    "\n",
    "excluded_features_columns = [\n",
    "    excluded_features_dictionary[f] for f in excluded_features if len(f) > 0 and f != \"none\"\n",
    "]"
   ]
  },
  {
   "cell_type": "code",
   "execution_count": 31,
   "id": "f84f73a2",
   "metadata": {
    "execution": {
     "iopub.execute_input": "2025-07-30T21:31:37.762876Z",
     "iopub.status.busy": "2025-07-30T21:31:37.762406Z",
     "iopub.status.idle": "2025-07-30T21:31:37.767842Z",
     "shell.execute_reply": "2025-07-30T21:31:37.767029Z"
    },
    "papermill": {
     "duration": 0.027557,
     "end_time": "2025-07-30T21:31:37.769720",
     "exception": false,
     "start_time": "2025-07-30T21:31:37.742163",
     "status": "completed"
    },
    "tags": []
   },
   "outputs": [],
   "source": [
    "from utils import flatten_once\n",
    "\n",
    "excluded_features_columns = flatten_once(excluded_features_columns)"
   ]
  },
  {
   "cell_type": "code",
   "execution_count": 32,
   "id": "884dea22",
   "metadata": {
    "execution": {
     "iopub.execute_input": "2025-07-30T21:31:37.811504Z",
     "iopub.status.busy": "2025-07-30T21:31:37.811017Z",
     "iopub.status.idle": "2025-07-30T21:31:37.818091Z",
     "shell.execute_reply": "2025-07-30T21:31:37.817282Z"
    },
    "papermill": {
     "duration": 0.030577,
     "end_time": "2025-07-30T21:31:37.822737",
     "exception": false,
     "start_time": "2025-07-30T21:31:37.792160",
     "status": "completed"
    },
    "tags": []
   },
   "outputs": [
    {
     "name": "stdout",
     "output_type": "stream",
     "text": [
      "Dropping features: ['maxdeutsch1', 'maxdeutsch.Missing.']\n"
     ]
    }
   ],
   "source": [
    "if len(excluded_features_columns) > 0:\n",
    "    print(f\"Dropping features: {excluded_features_columns}\")\n",
    "    X_train.drop(excluded_features_columns, axis=1, inplace=True)"
   ]
  },
  {
   "cell_type": "code",
   "execution_count": 33,
   "id": "95ab8b16",
   "metadata": {
    "execution": {
     "iopub.execute_input": "2025-07-30T21:31:37.865416Z",
     "iopub.status.busy": "2025-07-30T21:31:37.865053Z",
     "iopub.status.idle": "2025-07-30T21:31:37.915772Z",
     "shell.execute_reply": "2025-07-30T21:31:37.914704Z"
    },
    "papermill": {
     "duration": 0.074937,
     "end_time": "2025-07-30T21:31:37.918640",
     "exception": false,
     "start_time": "2025-07-30T21:31:37.843703",
     "status": "completed"
    },
    "tags": []
   },
   "outputs": [
    {
     "name": "stdout",
     "output_type": "stream",
     "text": [
      "Dropping features: ['maxdeutsch1', 'maxdeutsch.Missing.']\n"
     ]
    }
   ],
   "source": [
    "if len(excluded_features_columns) > 0:\n",
    "    print(f\"Dropping features: {excluded_features_columns}\")\n",
    "    X_test.drop(excluded_features_columns, axis=1, inplace=True)"
   ]
  },
  {
   "cell_type": "code",
   "execution_count": 34,
   "id": "1853aaf5-fb9f-46cb-a2b5-8ea4ae2237e4",
   "metadata": {
    "execution": {
     "iopub.execute_input": "2025-07-30T21:31:37.965307Z",
     "iopub.status.busy": "2025-07-30T21:31:37.964879Z",
     "iopub.status.idle": "2025-07-30T21:31:37.996391Z",
     "shell.execute_reply": "2025-07-30T21:31:37.995356Z"
    },
    "papermill": {
     "duration": 0.055526,
     "end_time": "2025-07-30T21:31:37.998487",
     "exception": false,
     "start_time": "2025-07-30T21:31:37.942961",
     "status": "completed"
    },
    "tags": []
   },
   "outputs": [
    {
     "name": "stdout",
     "output_type": "stream",
     "text": [
      "Dropping features: ['maxdeutsch1', 'maxdeutsch.Missing.']\n"
     ]
    }
   ],
   "source": [
    "if len(excluded_features_columns) > 0:\n",
    "    print(f\"Dropping features: {excluded_features_columns}\")\n",
    "    X_calib.drop(excluded_features_columns, axis=1, inplace=True)"
   ]
  },
  {
   "cell_type": "code",
   "execution_count": 35,
   "id": "6727d079-03e5-481e-9d38-292a90b7a0a8",
   "metadata": {
    "execution": {
     "iopub.execute_input": "2025-07-30T21:31:38.044183Z",
     "iopub.status.busy": "2025-07-30T21:31:38.043725Z",
     "iopub.status.idle": "2025-07-30T21:31:38.047944Z",
     "shell.execute_reply": "2025-07-30T21:31:38.047110Z"
    },
    "papermill": {
     "duration": 0.028423,
     "end_time": "2025-07-30T21:31:38.049695",
     "exception": false,
     "start_time": "2025-07-30T21:31:38.021272",
     "status": "completed"
    },
    "tags": []
   },
   "outputs": [],
   "source": [
    "# SPLIT & STRATIFY DATA\n",
    "# ----------------------"
   ]
  },
  {
   "cell_type": "code",
   "execution_count": 36,
   "id": "76c4dc6d",
   "metadata": {
    "execution": {
     "iopub.execute_input": "2025-07-30T21:31:38.094756Z",
     "iopub.status.busy": "2025-07-30T21:31:38.094067Z",
     "iopub.status.idle": "2025-07-30T21:31:38.098913Z",
     "shell.execute_reply": "2025-07-30T21:31:38.098109Z"
    },
    "papermill": {
     "duration": 0.028917,
     "end_time": "2025-07-30T21:31:38.100546",
     "exception": false,
     "start_time": "2025-07-30T21:31:38.071629",
     "status": "completed"
    },
    "tags": []
   },
   "outputs": [],
   "source": [
    "# EXCLUDE CERTAIN SUBGROUPS\n",
    "# ----------------------\n",
    "\n",
    "mode = universe.get(\"exclude_subgroups\", \"keep-all\") \n",
    "# Fetches the exclude_subgroups setting from the universe dict.\n",
    "# Defaults to \"keep-all\" if the key is missing."
   ]
  },
  {
   "cell_type": "code",
   "execution_count": 37,
   "id": "21994072",
   "metadata": {
    "execution": {
     "iopub.execute_input": "2025-07-30T21:31:38.145450Z",
     "iopub.status.busy": "2025-07-30T21:31:38.144953Z",
     "iopub.status.idle": "2025-07-30T21:31:38.150871Z",
     "shell.execute_reply": "2025-07-30T21:31:38.149920Z"
    },
    "papermill": {
     "duration": 0.030181,
     "end_time": "2025-07-30T21:31:38.152287",
     "exception": false,
     "start_time": "2025-07-30T21:31:38.122106",
     "status": "completed"
    },
    "tags": []
   },
   "outputs": [],
   "source": [
    "if mode == \"keep-all\":\n",
    "    keep_mask = pd.Series(True, index=org_train.index)\n",
    "\n",
    "# org_train contains the original feature columns from features_org (in Simson)\n",
    "# features_org contains unprocessed features, for me X_train at beginning ???\n",
    "# For keep-all, creates a boolean Series (keep_mask) of all True, so no rows are removed.\n",
    "\n",
    "elif mode == \"drop-non-german\":\n",
    "    keep_mask = org_train[\"maxdeutsch1\"] == 1 # ??? what about missing values?\n",
    "\n",
    "else:\n",
    "    raise ValueError(f\"Unsupported mode for exclude_subgroups: {mode}\")\n"
   ]
  },
  {
   "cell_type": "code",
   "execution_count": 38,
   "id": "71651440",
   "metadata": {
    "execution": {
     "iopub.execute_input": "2025-07-30T21:31:38.197132Z",
     "iopub.status.busy": "2025-07-30T21:31:38.196775Z",
     "iopub.status.idle": "2025-07-30T21:31:38.202740Z",
     "shell.execute_reply": "2025-07-30T21:31:38.201857Z"
    },
    "papermill": {
     "duration": 0.030985,
     "end_time": "2025-07-30T21:31:38.204544",
     "exception": false,
     "start_time": "2025-07-30T21:31:38.173559",
     "status": "completed"
    },
    "tags": []
   },
   "outputs": [],
   "source": [
    "n_drop = (~keep_mask).sum() # Calculates how many rows are set to be dropped\n",
    "if n_drop > 0:\n",
    "    pct = n_drop / len(keep_mask) * 100\n",
    "    print(f\"Dropping {n_drop} rows ({pct:.2f}%) where mode='{mode}'\")"
   ]
  },
  {
   "cell_type": "code",
   "execution_count": 39,
   "id": "5fb8eee5",
   "metadata": {
    "execution": {
     "iopub.execute_input": "2025-07-30T21:31:38.249819Z",
     "iopub.status.busy": "2025-07-30T21:31:38.249243Z",
     "iopub.status.idle": "2025-07-30T21:31:38.255752Z",
     "shell.execute_reply": "2025-07-30T21:31:38.254455Z"
    },
    "papermill": {
     "duration": 0.031259,
     "end_time": "2025-07-30T21:31:38.257312",
     "exception": false,
     "start_time": "2025-07-30T21:31:38.226053",
     "status": "completed"
    },
    "tags": []
   },
   "outputs": [],
   "source": [
    "X_train = X_train[keep_mask]"
   ]
  },
  {
   "cell_type": "code",
   "execution_count": 40,
   "id": "b202bb3a",
   "metadata": {
    "execution": {
     "iopub.execute_input": "2025-07-30T21:31:38.304372Z",
     "iopub.status.busy": "2025-07-30T21:31:38.303862Z",
     "iopub.status.idle": "2025-07-30T21:31:38.310221Z",
     "shell.execute_reply": "2025-07-30T21:31:38.309243Z"
    },
    "papermill": {
     "duration": 0.032014,
     "end_time": "2025-07-30T21:31:38.312110",
     "exception": false,
     "start_time": "2025-07-30T21:31:38.280096",
     "status": "completed"
    },
    "tags": []
   },
   "outputs": [],
   "source": [
    "y_train = y_train[keep_mask]"
   ]
  },
  {
   "cell_type": "markdown",
   "id": "493e2ac3",
   "metadata": {
    "papermill": {
     "duration": 0.023042,
     "end_time": "2025-07-30T21:31:38.358586",
     "exception": false,
     "start_time": "2025-07-30T21:31:38.335544",
     "status": "completed"
    },
    "tags": []
   },
   "source": [
    "# Model Training"
   ]
  },
  {
   "cell_type": "code",
   "execution_count": 41,
   "id": "679e1268",
   "metadata": {
    "execution": {
     "iopub.execute_input": "2025-07-30T21:31:38.407070Z",
     "iopub.status.busy": "2025-07-30T21:31:38.406337Z",
     "iopub.status.idle": "2025-07-30T21:31:38.528259Z",
     "shell.execute_reply": "2025-07-30T21:31:38.527264Z"
    },
    "papermill": {
     "duration": 0.149208,
     "end_time": "2025-07-30T21:31:38.530277",
     "exception": false,
     "start_time": "2025-07-30T21:31:38.381069",
     "status": "completed"
    },
    "tags": []
   },
   "outputs": [],
   "source": [
    "from sklearn.linear_model import LogisticRegression\n",
    "from sklearn.ensemble import GradientBoostingClassifier, RandomForestClassifier\n",
    "\n",
    "if (universe[\"model\"] == \"logreg\"):\n",
    "    model = LogisticRegression() #penalty=\"none\") #, solver=\"newton-cg\", max_iter=1) # include random_state=19 ?\n",
    "elif (universe[\"model\"] == \"penalized_logreg\"):\n",
    "    model = LogisticRegression(penalty=\"l2\", C=1.0) #, solver=\"newton-cg\", max_iter=1)\n",
    "elif (universe[\"model\"] == \"rf\"):\n",
    "    model = RandomForestClassifier(n_estimators=100, n_jobs=-1)\n",
    "elif (universe[\"model\"] == \"gbm\"):\n",
    "    model = GradientBoostingClassifier()\n",
    "elif (universe[\"model\"] == \"elasticnet\"):\n",
    "    model = LogisticRegression(penalty = 'elasticnet', solver = 'saga', l1_ratio = 0.5, max_iter=5000) # which solver to use?\n",
    "else:\n",
    "    raise \"Unsupported universe.model\""
   ]
  },
  {
   "cell_type": "code",
   "execution_count": 42,
   "id": "0cc8f744",
   "metadata": {
    "execution": {
     "iopub.execute_input": "2025-07-30T21:31:38.581111Z",
     "iopub.status.busy": "2025-07-30T21:31:38.580603Z",
     "iopub.status.idle": "2025-07-30T21:31:38.588384Z",
     "shell.execute_reply": "2025-07-30T21:31:38.587144Z"
    },
    "papermill": {
     "duration": 0.035227,
     "end_time": "2025-07-30T21:31:38.590119",
     "exception": false,
     "start_time": "2025-07-30T21:31:38.554892",
     "status": "completed"
    },
    "tags": []
   },
   "outputs": [],
   "source": [
    "import numpy as np\n",
    "from sklearn.pipeline import Pipeline\n",
    "from sklearn.preprocessing import StandardScaler\n",
    "\n",
    "model = Pipeline([\n",
    "    #(\"continuous_processor\", continuous_processor),\n",
    "    #(\"categorical_preprocessor\", categorical_preprocessor),\n",
    "    (\"scale\", StandardScaler() if universe[\"scale\"] == \"scale\" else None), \n",
    "    (\"model\", model),\n",
    "])"
   ]
  },
  {
   "cell_type": "code",
   "execution_count": 43,
   "id": "9442c04d",
   "metadata": {
    "execution": {
     "iopub.execute_input": "2025-07-30T21:31:38.639794Z",
     "iopub.status.busy": "2025-07-30T21:31:38.639273Z",
     "iopub.status.idle": "2025-07-30T21:31:56.556234Z",
     "shell.execute_reply": "2025-07-30T21:31:56.555264Z"
    },
    "papermill": {
     "duration": 17.942715,
     "end_time": "2025-07-30T21:31:56.557422",
     "exception": false,
     "start_time": "2025-07-30T21:31:38.614707",
     "status": "completed"
    },
    "tags": []
   },
   "outputs": [
    {
     "name": "stderr",
     "output_type": "stream",
     "text": [
      "/dss/dsshome1/0C/ra93lal2/.local/share/virtualenvs/CMA_Fairness_v2-3j10GkSs/lib/python3.10/site-packages/sklearn/linear_model/_sag.py:350: ConvergenceWarning: The max_iter was reached which means the coef_ did not converge\n",
      "  warnings.warn(\n"
     ]
    },
    {
     "data": {
      "text/html": [
       "<style>#sk-container-id-1 {color: black;background-color: white;}#sk-container-id-1 pre{padding: 0;}#sk-container-id-1 div.sk-toggleable {background-color: white;}#sk-container-id-1 label.sk-toggleable__label {cursor: pointer;display: block;width: 100%;margin-bottom: 0;padding: 0.3em;box-sizing: border-box;text-align: center;}#sk-container-id-1 label.sk-toggleable__label-arrow:before {content: \"▸\";float: left;margin-right: 0.25em;color: #696969;}#sk-container-id-1 label.sk-toggleable__label-arrow:hover:before {color: black;}#sk-container-id-1 div.sk-estimator:hover label.sk-toggleable__label-arrow:before {color: black;}#sk-container-id-1 div.sk-toggleable__content {max-height: 0;max-width: 0;overflow: hidden;text-align: left;background-color: #f0f8ff;}#sk-container-id-1 div.sk-toggleable__content pre {margin: 0.2em;color: black;border-radius: 0.25em;background-color: #f0f8ff;}#sk-container-id-1 input.sk-toggleable__control:checked~div.sk-toggleable__content {max-height: 200px;max-width: 100%;overflow: auto;}#sk-container-id-1 input.sk-toggleable__control:checked~label.sk-toggleable__label-arrow:before {content: \"▾\";}#sk-container-id-1 div.sk-estimator input.sk-toggleable__control:checked~label.sk-toggleable__label {background-color: #d4ebff;}#sk-container-id-1 div.sk-label input.sk-toggleable__control:checked~label.sk-toggleable__label {background-color: #d4ebff;}#sk-container-id-1 input.sk-hidden--visually {border: 0;clip: rect(1px 1px 1px 1px);clip: rect(1px, 1px, 1px, 1px);height: 1px;margin: -1px;overflow: hidden;padding: 0;position: absolute;width: 1px;}#sk-container-id-1 div.sk-estimator {font-family: monospace;background-color: #f0f8ff;border: 1px dotted black;border-radius: 0.25em;box-sizing: border-box;margin-bottom: 0.5em;}#sk-container-id-1 div.sk-estimator:hover {background-color: #d4ebff;}#sk-container-id-1 div.sk-parallel-item::after {content: \"\";width: 100%;border-bottom: 1px solid gray;flex-grow: 1;}#sk-container-id-1 div.sk-label:hover label.sk-toggleable__label {background-color: #d4ebff;}#sk-container-id-1 div.sk-serial::before {content: \"\";position: absolute;border-left: 1px solid gray;box-sizing: border-box;top: 0;bottom: 0;left: 50%;z-index: 0;}#sk-container-id-1 div.sk-serial {display: flex;flex-direction: column;align-items: center;background-color: white;padding-right: 0.2em;padding-left: 0.2em;position: relative;}#sk-container-id-1 div.sk-item {position: relative;z-index: 1;}#sk-container-id-1 div.sk-parallel {display: flex;align-items: stretch;justify-content: center;background-color: white;position: relative;}#sk-container-id-1 div.sk-item::before, #sk-container-id-1 div.sk-parallel-item::before {content: \"\";position: absolute;border-left: 1px solid gray;box-sizing: border-box;top: 0;bottom: 0;left: 50%;z-index: -1;}#sk-container-id-1 div.sk-parallel-item {display: flex;flex-direction: column;z-index: 1;position: relative;background-color: white;}#sk-container-id-1 div.sk-parallel-item:first-child::after {align-self: flex-end;width: 50%;}#sk-container-id-1 div.sk-parallel-item:last-child::after {align-self: flex-start;width: 50%;}#sk-container-id-1 div.sk-parallel-item:only-child::after {width: 0;}#sk-container-id-1 div.sk-dashed-wrapped {border: 1px dashed gray;margin: 0 0.4em 0.5em 0.4em;box-sizing: border-box;padding-bottom: 0.4em;background-color: white;}#sk-container-id-1 div.sk-label label {font-family: monospace;font-weight: bold;display: inline-block;line-height: 1.2em;}#sk-container-id-1 div.sk-label-container {text-align: center;}#sk-container-id-1 div.sk-container {/* jupyter's `normalize.less` sets `[hidden] { display: none; }` but bootstrap.min.css set `[hidden] { display: none !important; }` so we also need the `!important` here to be able to override the default hidden behavior on the sphinx rendered scikit-learn.org. See: https://github.com/scikit-learn/scikit-learn/issues/21755 */display: inline-block !important;position: relative;}#sk-container-id-1 div.sk-text-repr-fallback {display: none;}</style><div id=\"sk-container-id-1\" class=\"sk-top-container\"><div class=\"sk-text-repr-fallback\"><pre>Pipeline(steps=[(&#x27;scale&#x27;, None),\n",
       "                (&#x27;model&#x27;,\n",
       "                 LogisticRegression(l1_ratio=0.5, max_iter=5000,\n",
       "                                    penalty=&#x27;elasticnet&#x27;, solver=&#x27;saga&#x27;))])</pre><b>In a Jupyter environment, please rerun this cell to show the HTML representation or trust the notebook. <br />On GitHub, the HTML representation is unable to render, please try loading this page with nbviewer.org.</b></div><div class=\"sk-container\" hidden><div class=\"sk-item sk-dashed-wrapped\"><div class=\"sk-label-container\"><div class=\"sk-label sk-toggleable\"><input class=\"sk-toggleable__control sk-hidden--visually\" id=\"sk-estimator-id-1\" type=\"checkbox\" ><label for=\"sk-estimator-id-1\" class=\"sk-toggleable__label sk-toggleable__label-arrow\">Pipeline</label><div class=\"sk-toggleable__content\"><pre>Pipeline(steps=[(&#x27;scale&#x27;, None),\n",
       "                (&#x27;model&#x27;,\n",
       "                 LogisticRegression(l1_ratio=0.5, max_iter=5000,\n",
       "                                    penalty=&#x27;elasticnet&#x27;, solver=&#x27;saga&#x27;))])</pre></div></div></div><div class=\"sk-serial\"><div class=\"sk-item\"><div class=\"sk-estimator sk-toggleable\"><input class=\"sk-toggleable__control sk-hidden--visually\" id=\"sk-estimator-id-2\" type=\"checkbox\" ><label for=\"sk-estimator-id-2\" class=\"sk-toggleable__label sk-toggleable__label-arrow\">None</label><div class=\"sk-toggleable__content\"><pre>None</pre></div></div></div><div class=\"sk-item\"><div class=\"sk-estimator sk-toggleable\"><input class=\"sk-toggleable__control sk-hidden--visually\" id=\"sk-estimator-id-3\" type=\"checkbox\" ><label for=\"sk-estimator-id-3\" class=\"sk-toggleable__label sk-toggleable__label-arrow\">LogisticRegression</label><div class=\"sk-toggleable__content\"><pre>LogisticRegression(l1_ratio=0.5, max_iter=5000, penalty=&#x27;elasticnet&#x27;,\n",
       "                   solver=&#x27;saga&#x27;)</pre></div></div></div></div></div></div></div>"
      ],
      "text/plain": [
       "Pipeline(steps=[('scale', None),\n",
       "                ('model',\n",
       "                 LogisticRegression(l1_ratio=0.5, max_iter=5000,\n",
       "                                    penalty='elasticnet', solver='saga'))])"
      ]
     },
     "execution_count": 43,
     "metadata": {},
     "output_type": "execute_result"
    }
   ],
   "source": [
    "model.fit(X_train, y_train.values.ravel())"
   ]
  },
  {
   "cell_type": "code",
   "execution_count": 44,
   "id": "af59f8c0",
   "metadata": {
    "execution": {
     "iopub.execute_input": "2025-07-30T21:31:56.585070Z",
     "iopub.status.busy": "2025-07-30T21:31:56.584685Z",
     "iopub.status.idle": "2025-07-30T21:31:56.589859Z",
     "shell.execute_reply": "2025-07-30T21:31:56.589115Z"
    },
    "papermill": {
     "duration": 0.018797,
     "end_time": "2025-07-30T21:31:56.591017",
     "exception": false,
     "start_time": "2025-07-30T21:31:56.572220",
     "status": "completed"
    },
    "tags": []
   },
   "outputs": [],
   "source": [
    "from fairness_multiverse.universe import predict_w_threshold"
   ]
  },
  {
   "cell_type": "code",
   "execution_count": 45,
   "id": "a7cf2e16",
   "metadata": {
    "execution": {
     "iopub.execute_input": "2025-07-30T21:31:56.615139Z",
     "iopub.status.busy": "2025-07-30T21:31:56.614858Z",
     "iopub.status.idle": "2025-07-30T21:31:56.708561Z",
     "shell.execute_reply": "2025-07-30T21:31:56.707617Z"
    },
    "papermill": {
     "duration": 0.107633,
     "end_time": "2025-07-30T21:31:56.710157",
     "exception": false,
     "start_time": "2025-07-30T21:31:56.602524",
     "status": "completed"
    },
    "tags": []
   },
   "outputs": [
    {
     "data": {
      "text/plain": [
       "0.8550774718537509"
      ]
     },
     "execution_count": 45,
     "metadata": {},
     "output_type": "execute_result"
    }
   ],
   "source": [
    "probs_test = model.predict_proba(X_test)\n",
    "\n",
    "'''\n",
    "Below code returns a boolean array (or binary 0/1 array depending on how it’s used) where each element \n",
    "is True if the probability of class 1 is greater than or equal to the threshold, and False otherwise.\n",
    "'''\n",
    "y_pred_default = predict_w_threshold(probs_test, 0.5)\n",
    "\n",
    "from sklearn.metrics import accuracy_score\n",
    "\n",
    "# Naive prediction\n",
    "accuracy_score(y_true = y_true, y_pred = y_pred_default)"
   ]
  },
  {
   "cell_type": "code",
   "execution_count": 46,
   "id": "081964c3",
   "metadata": {
    "execution": {
     "iopub.execute_input": "2025-07-30T21:31:56.756767Z",
     "iopub.status.busy": "2025-07-30T21:31:56.756082Z",
     "iopub.status.idle": "2025-07-30T21:31:56.844025Z",
     "shell.execute_reply": "2025-07-30T21:31:56.843098Z"
    },
    "papermill": {
     "duration": 0.112054,
     "end_time": "2025-07-30T21:31:56.845676",
     "exception": false,
     "start_time": "2025-07-30T21:31:56.733622",
     "status": "completed"
    },
    "tags": []
   },
   "outputs": [
    {
     "data": {
      "text/plain": [
       "array([0, 0, 0, ..., 0, 0, 0])"
      ]
     },
     "execution_count": 46,
     "metadata": {},
     "output_type": "execute_result"
    }
   ],
   "source": [
    "model.predict(X_test)"
   ]
  },
  {
   "cell_type": "markdown",
   "id": "56c9705b",
   "metadata": {
    "papermill": {
     "duration": 0.021839,
     "end_time": "2025-07-30T21:31:56.893429",
     "exception": false,
     "start_time": "2025-07-30T21:31:56.871590",
     "status": "completed"
    },
    "tags": []
   },
   "source": [
    "# Conformal Prediction"
   ]
  },
  {
   "cell_type": "code",
   "execution_count": 47,
   "id": "160ec6ff",
   "metadata": {
    "execution": {
     "iopub.execute_input": "2025-07-30T21:31:56.938952Z",
     "iopub.status.busy": "2025-07-30T21:31:56.938077Z",
     "iopub.status.idle": "2025-07-30T21:31:56.943592Z",
     "shell.execute_reply": "2025-07-30T21:31:56.942628Z"
    },
    "papermill": {
     "duration": 0.029904,
     "end_time": "2025-07-30T21:31:56.945191",
     "exception": false,
     "start_time": "2025-07-30T21:31:56.915287",
     "status": "completed"
    },
    "tags": []
   },
   "outputs": [],
   "source": [
    "# Miscoverage level for conformal prediction (10% allowed error rate => 90% target coverage)\n",
    "alpha = 0.1"
   ]
  },
  {
   "cell_type": "code",
   "execution_count": 48,
   "id": "eadf4555-3dd3-440e-8e35-f82a4ad9f855",
   "metadata": {
    "execution": {
     "iopub.execute_input": "2025-07-30T21:31:56.994135Z",
     "iopub.status.busy": "2025-07-30T21:31:56.993741Z",
     "iopub.status.idle": "2025-07-30T21:31:57.102512Z",
     "shell.execute_reply": "2025-07-30T21:31:57.101649Z"
    },
    "papermill": {
     "duration": 0.137095,
     "end_time": "2025-07-30T21:31:57.104433",
     "exception": false,
     "start_time": "2025-07-30T21:31:56.967338",
     "status": "completed"
    },
    "tags": []
   },
   "outputs": [],
   "source": [
    "probs_calib = model.predict_proba(X_calib)"
   ]
  },
  {
   "cell_type": "code",
   "execution_count": 49,
   "id": "2ed93547-6d5d-4983-9b36-1ecb300da49a",
   "metadata": {
    "execution": {
     "iopub.execute_input": "2025-07-30T21:31:57.150788Z",
     "iopub.status.busy": "2025-07-30T21:31:57.150235Z",
     "iopub.status.idle": "2025-07-30T21:31:57.156334Z",
     "shell.execute_reply": "2025-07-30T21:31:57.155202Z"
    },
    "papermill": {
     "duration": 0.030302,
     "end_time": "2025-07-30T21:31:57.157812",
     "exception": false,
     "start_time": "2025-07-30T21:31:57.127510",
     "status": "completed"
    },
    "tags": []
   },
   "outputs": [],
   "source": [
    "y_calib = y_calib.values.ravel().astype(int)"
   ]
  },
  {
   "cell_type": "code",
   "execution_count": 50,
   "id": "65d1320d-f588-4b38-9072-62af1ae97f7d",
   "metadata": {
    "execution": {
     "iopub.execute_input": "2025-07-30T21:31:57.204629Z",
     "iopub.status.busy": "2025-07-30T21:31:57.203887Z",
     "iopub.status.idle": "2025-07-30T21:31:57.210860Z",
     "shell.execute_reply": "2025-07-30T21:31:57.210024Z"
    },
    "papermill": {
     "duration": 0.032109,
     "end_time": "2025-07-30T21:31:57.212352",
     "exception": false,
     "start_time": "2025-07-30T21:31:57.180243",
     "status": "completed"
    },
    "tags": []
   },
   "outputs": [],
   "source": [
    "from fairness_multiverse.conformal import compute_nc_scores\n",
    "\n",
    "# Compute nonconformity scores on calibration set (1 - probability of true class)\n",
    "nc_scores = compute_nc_scores(probs_calib, y_calib)"
   ]
  },
  {
   "cell_type": "code",
   "execution_count": 51,
   "id": "df3b8ca3-53b7-43d5-9667-7c85da7aeda2",
   "metadata": {
    "execution": {
     "iopub.execute_input": "2025-07-30T21:31:57.259418Z",
     "iopub.status.busy": "2025-07-30T21:31:57.258708Z",
     "iopub.status.idle": "2025-07-30T21:31:57.266142Z",
     "shell.execute_reply": "2025-07-30T21:31:57.264906Z"
    },
    "papermill": {
     "duration": 0.033453,
     "end_time": "2025-07-30T21:31:57.268083",
     "exception": false,
     "start_time": "2025-07-30T21:31:57.234630",
     "status": "completed"
    },
    "tags": []
   },
   "outputs": [],
   "source": [
    "from fairness_multiverse.conformal import find_threshold\n",
    "\n",
    "# Find conformal threshold q_hat for the given alpha (split conformal method)\n",
    "q_hat = find_threshold(nc_scores, alpha)"
   ]
  },
  {
   "cell_type": "code",
   "execution_count": 52,
   "id": "4d29e6c1-0ef6-4aa4-b8fe-4fe79b0d033a",
   "metadata": {
    "execution": {
     "iopub.execute_input": "2025-07-30T21:31:57.322784Z",
     "iopub.status.busy": "2025-07-30T21:31:57.322133Z",
     "iopub.status.idle": "2025-07-30T21:31:57.329106Z",
     "shell.execute_reply": "2025-07-30T21:31:57.328194Z"
    },
    "papermill": {
     "duration": 0.035743,
     "end_time": "2025-07-30T21:31:57.330781",
     "exception": false,
     "start_time": "2025-07-30T21:31:57.295038",
     "status": "completed"
    },
    "tags": []
   },
   "outputs": [
    {
     "data": {
      "text/plain": [
       "0.6847440236338314"
      ]
     },
     "execution_count": 52,
     "metadata": {},
     "output_type": "execute_result"
    }
   ],
   "source": [
    "q_hat"
   ]
  },
  {
   "cell_type": "code",
   "execution_count": 53,
   "id": "92460794-cdac-4be2-ba28-f28c0515a6fb",
   "metadata": {
    "execution": {
     "iopub.execute_input": "2025-07-30T21:31:57.385026Z",
     "iopub.status.busy": "2025-07-30T21:31:57.384417Z",
     "iopub.status.idle": "2025-07-30T21:31:58.059473Z",
     "shell.execute_reply": "2025-07-30T21:31:58.058741Z"
    },
    "papermill": {
     "duration": 0.703699,
     "end_time": "2025-07-30T21:31:58.060955",
     "exception": false,
     "start_time": "2025-07-30T21:31:57.357256",
     "status": "completed"
    },
    "tags": []
   },
   "outputs": [],
   "source": [
    "from fairness_multiverse.conformal import predict_conformal_sets\n",
    "\n",
    "# Generate prediction sets for each test example\n",
    "pred_sets = predict_conformal_sets(model, X_test, q_hat)"
   ]
  },
  {
   "cell_type": "code",
   "execution_count": 54,
   "id": "d90c9a65-e6db-4f5d-80cd-e68fb7e46829",
   "metadata": {
    "execution": {
     "iopub.execute_input": "2025-07-30T21:31:58.090950Z",
     "iopub.status.busy": "2025-07-30T21:31:58.090186Z",
     "iopub.status.idle": "2025-07-30T21:31:58.094861Z",
     "shell.execute_reply": "2025-07-30T21:31:58.094216Z"
    },
    "papermill": {
     "duration": 0.019118,
     "end_time": "2025-07-30T21:31:58.096011",
     "exception": false,
     "start_time": "2025-07-30T21:31:58.076893",
     "status": "completed"
    },
    "tags": []
   },
   "outputs": [],
   "source": [
    "y_true = y_true.squeeze()"
   ]
  },
  {
   "cell_type": "code",
   "execution_count": 55,
   "id": "3a58a54a-1e68-46b9-927a-df01f18aebc8",
   "metadata": {
    "execution": {
     "iopub.execute_input": "2025-07-30T21:31:58.136548Z",
     "iopub.status.busy": "2025-07-30T21:31:58.136127Z",
     "iopub.status.idle": "2025-07-30T21:31:59.024736Z",
     "shell.execute_reply": "2025-07-30T21:31:59.023631Z"
    },
    "papermill": {
     "duration": 0.916523,
     "end_time": "2025-07-30T21:31:59.026236",
     "exception": false,
     "start_time": "2025-07-30T21:31:58.109713",
     "status": "completed"
    },
    "tags": []
   },
   "outputs": [],
   "source": [
    "from fairness_multiverse.conformal import evaluate_sets\n",
    "\n",
    "# Evaluate coverage and average set size on test data\n",
    "metrics = evaluate_sets(pred_sets, y_true)"
   ]
  },
  {
   "cell_type": "markdown",
   "id": "2b569c12-9aaa-4c88-98c9-bbcd0cf3ebb8",
   "metadata": {
    "papermill": {
     "duration": 0.024442,
     "end_time": "2025-07-30T21:31:59.075132",
     "exception": false,
     "start_time": "2025-07-30T21:31:59.050690",
     "status": "completed"
    },
    "tags": []
   },
   "source": [
    "# CP Metrics"
   ]
  },
  {
   "cell_type": "code",
   "execution_count": 56,
   "id": "5ce0a5cb-201f-45a0-ade5-94c7f0bd6095",
   "metadata": {
    "execution": {
     "iopub.execute_input": "2025-07-30T21:31:59.132326Z",
     "iopub.status.busy": "2025-07-30T21:31:59.131847Z",
     "iopub.status.idle": "2025-07-30T21:31:59.138861Z",
     "shell.execute_reply": "2025-07-30T21:31:59.137772Z"
    },
    "papermill": {
     "duration": 0.034312,
     "end_time": "2025-07-30T21:31:59.140543",
     "exception": false,
     "start_time": "2025-07-30T21:31:59.106231",
     "status": "completed"
    },
    "tags": []
   },
   "outputs": [
    {
     "data": {
      "text/plain": [
       "{'coverage': 0.9102775610299855, 'avg_size': 1.2271876045033998}"
      ]
     },
     "execution_count": 56,
     "metadata": {},
     "output_type": "execute_result"
    }
   ],
   "source": [
    "metrics"
   ]
  },
  {
   "cell_type": "code",
   "execution_count": 57,
   "id": "9b9a838d-31c9-430b-ae14-12baee460d17",
   "metadata": {
    "execution": {
     "iopub.execute_input": "2025-07-30T21:31:59.191878Z",
     "iopub.status.busy": "2025-07-30T21:31:59.190960Z",
     "iopub.status.idle": "2025-07-30T21:31:59.197778Z",
     "shell.execute_reply": "2025-07-30T21:31:59.196788Z"
    },
    "papermill": {
     "duration": 0.034542,
     "end_time": "2025-07-30T21:31:59.199507",
     "exception": false,
     "start_time": "2025-07-30T21:31:59.164965",
     "status": "completed"
    },
    "tags": []
   },
   "outputs": [],
   "source": [
    "example_universe = universe.copy()\n",
    "universe_training_year = example_universe.get(\"training_year\")\n",
    "universe_training_size = example_universe.get(\"training_size\")\n",
    "universe_scale = example_universe.get(\"scale\")\n",
    "universe_model = example_universe.get(\"model\")\n",
    "universe_exclude_features = example_universe.get(\"exclude_features\")\n",
    "universe_exclude_subgroups = example_universe.get(\"exclude_subgroups\")"
   ]
  },
  {
   "cell_type": "code",
   "execution_count": 58,
   "id": "f4b6a8ac-9dc0-4245-8a91-5b3b5999c4f9",
   "metadata": {
    "execution": {
     "iopub.execute_input": "2025-07-30T21:31:59.247572Z",
     "iopub.status.busy": "2025-07-30T21:31:59.246852Z",
     "iopub.status.idle": "2025-07-30T21:31:59.253368Z",
     "shell.execute_reply": "2025-07-30T21:31:59.252564Z"
    },
    "papermill": {
     "duration": 0.031614,
     "end_time": "2025-07-30T21:31:59.254590",
     "exception": false,
     "start_time": "2025-07-30T21:31:59.222976",
     "status": "completed"
    },
    "tags": []
   },
   "outputs": [],
   "source": [
    "cp_metrics_dict = {\n",
    "    \"universe_id\": [universe_id],\n",
    "    \"universe_training_year\": [universe_training_year],\n",
    "    \"universe_training_size\": [universe_training_size],\n",
    "    \"universe_scale\": [universe_scale],\n",
    "    \"universe_model\": [universe_model],\n",
    "    \"universe_exclude_features\": [universe_exclude_features],\n",
    "    \"universe_exclude_subgroups\": [universe_exclude_subgroups],\n",
    "    \"q_hat\": [q_hat],\n",
    "    \"coverage\": [metrics[\"coverage\"]],\n",
    "    \"avg_size\": [metrics[\"avg_size\"]],\n",
    "}"
   ]
  },
  {
   "cell_type": "code",
   "execution_count": 59,
   "id": "908acbb1-0371-4915-85ca-3fa520d2efe2",
   "metadata": {
    "execution": {
     "iopub.execute_input": "2025-07-30T21:31:59.281493Z",
     "iopub.status.busy": "2025-07-30T21:31:59.281209Z",
     "iopub.status.idle": "2025-07-30T21:31:59.287028Z",
     "shell.execute_reply": "2025-07-30T21:31:59.286304Z"
    },
    "papermill": {
     "duration": 0.020724,
     "end_time": "2025-07-30T21:31:59.288667",
     "exception": false,
     "start_time": "2025-07-30T21:31:59.267943",
     "status": "completed"
    },
    "tags": []
   },
   "outputs": [
    {
     "data": {
      "text/plain": [
       "{'universe_id': ['cdd46163880e57babe67ce4b3e42641f'],\n",
       " 'universe_training_year': ['2014'],\n",
       " 'universe_training_size': ['1k'],\n",
       " 'universe_scale': ['do-not-scale'],\n",
       " 'universe_model': ['elasticnet'],\n",
       " 'universe_exclude_features': ['nationality'],\n",
       " 'universe_exclude_subgroups': ['keep-all'],\n",
       " 'q_hat': [0.6847440236338314],\n",
       " 'coverage': [0.9102775610299855],\n",
       " 'avg_size': [1.2271876045033998]}"
      ]
     },
     "execution_count": 59,
     "metadata": {},
     "output_type": "execute_result"
    }
   ],
   "source": [
    "cp_metrics_dict"
   ]
  },
  {
   "cell_type": "code",
   "execution_count": 60,
   "id": "33007efc-14e9-4ec6-97ac-56a455c82265",
   "metadata": {
    "execution": {
     "iopub.execute_input": "2025-07-30T21:31:59.341230Z",
     "iopub.status.busy": "2025-07-30T21:31:59.340616Z",
     "iopub.status.idle": "2025-07-30T21:31:59.347369Z",
     "shell.execute_reply": "2025-07-30T21:31:59.346524Z"
    },
    "papermill": {
     "duration": 0.034089,
     "end_time": "2025-07-30T21:31:59.348868",
     "exception": false,
     "start_time": "2025-07-30T21:31:59.314779",
     "status": "completed"
    },
    "tags": []
   },
   "outputs": [],
   "source": [
    "cp_metrics_df = pd.DataFrame(cp_metrics_dict)"
   ]
  },
  {
   "cell_type": "code",
   "execution_count": 61,
   "id": "db12611b-57b2-4910-b9d0-355adfd6e7bf",
   "metadata": {
    "execution": {
     "iopub.execute_input": "2025-07-30T21:31:59.409371Z",
     "iopub.status.busy": "2025-07-30T21:31:59.408961Z",
     "iopub.status.idle": "2025-07-30T21:31:59.423053Z",
     "shell.execute_reply": "2025-07-30T21:31:59.422281Z"
    },
    "papermill": {
     "duration": 0.048667,
     "end_time": "2025-07-30T21:31:59.424318",
     "exception": false,
     "start_time": "2025-07-30T21:31:59.375651",
     "status": "completed"
    },
    "tags": []
   },
   "outputs": [
    {
     "data": {
      "text/html": [
       "<div>\n",
       "<style scoped>\n",
       "    .dataframe tbody tr th:only-of-type {\n",
       "        vertical-align: middle;\n",
       "    }\n",
       "\n",
       "    .dataframe tbody tr th {\n",
       "        vertical-align: top;\n",
       "    }\n",
       "\n",
       "    .dataframe thead th {\n",
       "        text-align: right;\n",
       "    }\n",
       "</style>\n",
       "<table border=\"1\" class=\"dataframe\">\n",
       "  <thead>\n",
       "    <tr style=\"text-align: right;\">\n",
       "      <th></th>\n",
       "      <th>universe_id</th>\n",
       "      <th>universe_training_year</th>\n",
       "      <th>universe_training_size</th>\n",
       "      <th>universe_scale</th>\n",
       "      <th>universe_model</th>\n",
       "      <th>universe_exclude_features</th>\n",
       "      <th>universe_exclude_subgroups</th>\n",
       "      <th>q_hat</th>\n",
       "      <th>coverage</th>\n",
       "      <th>avg_size</th>\n",
       "    </tr>\n",
       "  </thead>\n",
       "  <tbody>\n",
       "    <tr>\n",
       "      <th>0</th>\n",
       "      <td>cdd46163880e57babe67ce4b3e42641f</td>\n",
       "      <td>2014</td>\n",
       "      <td>1k</td>\n",
       "      <td>do-not-scale</td>\n",
       "      <td>elasticnet</td>\n",
       "      <td>nationality</td>\n",
       "      <td>keep-all</td>\n",
       "      <td>0.684744</td>\n",
       "      <td>0.910278</td>\n",
       "      <td>1.227188</td>\n",
       "    </tr>\n",
       "  </tbody>\n",
       "</table>\n",
       "</div>"
      ],
      "text/plain": [
       "                        universe_id universe_training_year  \\\n",
       "0  cdd46163880e57babe67ce4b3e42641f                   2014   \n",
       "\n",
       "  universe_training_size universe_scale universe_model  \\\n",
       "0                     1k   do-not-scale     elasticnet   \n",
       "\n",
       "  universe_exclude_features universe_exclude_subgroups     q_hat  coverage  \\\n",
       "0               nationality                   keep-all  0.684744  0.910278   \n",
       "\n",
       "   avg_size  \n",
       "0  1.227188  "
      ]
     },
     "execution_count": 61,
     "metadata": {},
     "output_type": "execute_result"
    }
   ],
   "source": [
    "cp_metrics_df"
   ]
  },
  {
   "cell_type": "code",
   "execution_count": 62,
   "id": "b7fbde55-a0a1-47e4-9af6-fe4a17fa8c61",
   "metadata": {
    "execution": {
     "iopub.execute_input": "2025-07-30T21:31:59.451454Z",
     "iopub.status.busy": "2025-07-30T21:31:59.450978Z",
     "iopub.status.idle": "2025-07-30T21:31:59.455542Z",
     "shell.execute_reply": "2025-07-30T21:31:59.454593Z"
    },
    "papermill": {
     "duration": 0.019573,
     "end_time": "2025-07-30T21:31:59.457165",
     "exception": false,
     "start_time": "2025-07-30T21:31:59.437592",
     "status": "completed"
    },
    "tags": []
   },
   "outputs": [],
   "source": [
    "# Conditional Coverage & looking at subgroups"
   ]
  },
  {
   "cell_type": "code",
   "execution_count": 63,
   "id": "027ae886-68dd-4141-96c7-805a5450e1ef",
   "metadata": {
    "execution": {
     "iopub.execute_input": "2025-07-30T21:31:59.511916Z",
     "iopub.status.busy": "2025-07-30T21:31:59.511092Z",
     "iopub.status.idle": "2025-07-30T21:31:59.794442Z",
     "shell.execute_reply": "2025-07-30T21:31:59.793652Z"
    },
    "papermill": {
     "duration": 0.313475,
     "end_time": "2025-07-30T21:31:59.796368",
     "exception": false,
     "start_time": "2025-07-30T21:31:59.482893",
     "status": "completed"
    },
    "tags": []
   },
   "outputs": [],
   "source": [
    "from fairness_multiverse.conformal import build_cp_groups\n",
    "\n",
    "cp_groups_df = build_cp_groups(pred_sets, y_true, X_test.index, org_test)\n",
    "#needs universe_id and setting"
   ]
  },
  {
   "cell_type": "code",
   "execution_count": 64,
   "id": "01d5802c-663a-4d1f-9d69-e036faaffbf7",
   "metadata": {
    "execution": {
     "iopub.execute_input": "2025-07-30T21:31:59.859584Z",
     "iopub.status.busy": "2025-07-30T21:31:59.858708Z",
     "iopub.status.idle": "2025-07-30T21:31:59.864269Z",
     "shell.execute_reply": "2025-07-30T21:31:59.863203Z"
    },
    "papermill": {
     "duration": 0.036022,
     "end_time": "2025-07-30T21:31:59.865902",
     "exception": false,
     "start_time": "2025-07-30T21:31:59.829880",
     "status": "completed"
    },
    "tags": []
   },
   "outputs": [],
   "source": [
    "#delete\n",
    "#cp_groups_df"
   ]
  },
  {
   "cell_type": "code",
   "execution_count": 65,
   "id": "fa424af1-d1eb-443d-b717-2d279ada8408",
   "metadata": {
    "execution": {
     "iopub.execute_input": "2025-07-30T21:31:59.920063Z",
     "iopub.status.busy": "2025-07-30T21:31:59.919105Z",
     "iopub.status.idle": "2025-07-30T21:31:59.924434Z",
     "shell.execute_reply": "2025-07-30T21:31:59.923480Z"
    },
    "papermill": {
     "duration": 0.033603,
     "end_time": "2025-07-30T21:31:59.926204",
     "exception": false,
     "start_time": "2025-07-30T21:31:59.892601",
     "status": "completed"
    },
    "tags": []
   },
   "outputs": [],
   "source": [
    "#delete\n",
    "#percentage = (cp_groups_df['nongerman_female'] == 1).mean() * 100\n",
    "#print(percentage)\n"
   ]
  },
  {
   "cell_type": "code",
   "execution_count": 66,
   "id": "6cbdab96-b2b2-45af-ad54-d0516db2e28d",
   "metadata": {
    "execution": {
     "iopub.execute_input": "2025-07-30T21:31:59.980200Z",
     "iopub.status.busy": "2025-07-30T21:31:59.979535Z",
     "iopub.status.idle": "2025-07-30T21:32:01.833322Z",
     "shell.execute_reply": "2025-07-30T21:32:01.832314Z"
    },
    "papermill": {
     "duration": 1.882484,
     "end_time": "2025-07-30T21:32:01.835194",
     "exception": false,
     "start_time": "2025-07-30T21:31:59.952710",
     "status": "completed"
    },
    "tags": []
   },
   "outputs": [],
   "source": [
    "# Define covered = 1 if true_label is in the predicted set\n",
    "cp_groups_df['covered'] = cp_groups_df.apply(\n",
    "    lambda r: int(r['true_label'] in r['pred_set']),\n",
    "    axis=1\n",
    ")"
   ]
  },
  {
   "cell_type": "code",
   "execution_count": 67,
   "id": "338ff529-1a6b-4b87-a931-8e4788d52aad",
   "metadata": {
    "execution": {
     "iopub.execute_input": "2025-07-30T21:32:01.891237Z",
     "iopub.status.busy": "2025-07-30T21:32:01.890383Z",
     "iopub.status.idle": "2025-07-30T21:32:01.896089Z",
     "shell.execute_reply": "2025-07-30T21:32:01.895098Z"
    },
    "papermill": {
     "duration": 0.035096,
     "end_time": "2025-07-30T21:32:01.897872",
     "exception": false,
     "start_time": "2025-07-30T21:32:01.862776",
     "status": "completed"
    },
    "tags": []
   },
   "outputs": [],
   "source": [
    "#cp_groups_df"
   ]
  },
  {
   "cell_type": "code",
   "execution_count": 68,
   "id": "90032e27-66df-4540-9169-4e89cfbaa758",
   "metadata": {
    "execution": {
     "iopub.execute_input": "2025-07-30T21:32:01.952769Z",
     "iopub.status.busy": "2025-07-30T21:32:01.952235Z",
     "iopub.status.idle": "2025-07-30T21:32:01.964067Z",
     "shell.execute_reply": "2025-07-30T21:32:01.963078Z"
    },
    "papermill": {
     "duration": 0.041105,
     "end_time": "2025-07-30T21:32:01.965725",
     "exception": false,
     "start_time": "2025-07-30T21:32:01.924620",
     "status": "completed"
    },
    "tags": []
   },
   "outputs": [],
   "source": [
    "subgroups = ['frau1','nongerman','nongerman_male','nongerman_female']\n",
    "\n",
    "# Conditional coverage for subgroup==1\n",
    "cond_coverage = {\n",
    "    g: cp_groups_df.loc[cp_groups_df[g]==1, 'covered'].mean()\n",
    "    for g in subgroups\n",
    "}"
   ]
  },
  {
   "cell_type": "code",
   "execution_count": 69,
   "id": "1e348fb1-b9c3-45bc-ba23-f016827a7e0d",
   "metadata": {
    "execution": {
     "iopub.execute_input": "2025-07-30T21:32:02.019227Z",
     "iopub.status.busy": "2025-07-30T21:32:02.018432Z",
     "iopub.status.idle": "2025-07-30T21:32:02.025804Z",
     "shell.execute_reply": "2025-07-30T21:32:02.024818Z"
    },
    "papermill": {
     "duration": 0.035904,
     "end_time": "2025-07-30T21:32:02.027423",
     "exception": false,
     "start_time": "2025-07-30T21:32:01.991519",
     "status": "completed"
    },
    "tags": []
   },
   "outputs": [
    {
     "data": {
      "text/plain": [
       "{'frau1': 0.9076425394257986,\n",
       " 'nongerman': 0.9359456576657498,\n",
       " 'nongerman_male': 0.9477618661622985,\n",
       " 'nongerman_female': 0.9163934426229509}"
      ]
     },
     "execution_count": 69,
     "metadata": {},
     "output_type": "execute_result"
    }
   ],
   "source": [
    "cond_coverage"
   ]
  },
  {
   "cell_type": "code",
   "execution_count": 70,
   "id": "f5093324-c3dd-4d63-bc4c-8d945e5c8bbb",
   "metadata": {
    "execution": {
     "iopub.execute_input": "2025-07-30T21:32:02.086157Z",
     "iopub.status.busy": "2025-07-30T21:32:02.085501Z",
     "iopub.status.idle": "2025-07-30T21:32:02.093215Z",
     "shell.execute_reply": "2025-07-30T21:32:02.092268Z"
    },
    "papermill": {
     "duration": 0.038853,
     "end_time": "2025-07-30T21:32:02.094921",
     "exception": false,
     "start_time": "2025-07-30T21:32:02.056068",
     "status": "completed"
    },
    "tags": []
   },
   "outputs": [],
   "source": [
    "for subgroup, cov in cond_coverage.items():\n",
    "    cp_metrics_df[f\"cov_{subgroup}\"] = cov"
   ]
  },
  {
   "cell_type": "code",
   "execution_count": 71,
   "id": "6e872e10-dbe5-49e8-b554-5030c98ff75d",
   "metadata": {
    "execution": {
     "iopub.execute_input": "2025-07-30T21:32:02.148784Z",
     "iopub.status.busy": "2025-07-30T21:32:02.148278Z",
     "iopub.status.idle": "2025-07-30T21:32:02.168934Z",
     "shell.execute_reply": "2025-07-30T21:32:02.167993Z"
    },
    "papermill": {
     "duration": 0.048897,
     "end_time": "2025-07-30T21:32:02.170470",
     "exception": false,
     "start_time": "2025-07-30T21:32:02.121573",
     "status": "completed"
    },
    "tags": []
   },
   "outputs": [
    {
     "data": {
      "text/html": [
       "<div>\n",
       "<style scoped>\n",
       "    .dataframe tbody tr th:only-of-type {\n",
       "        vertical-align: middle;\n",
       "    }\n",
       "\n",
       "    .dataframe tbody tr th {\n",
       "        vertical-align: top;\n",
       "    }\n",
       "\n",
       "    .dataframe thead th {\n",
       "        text-align: right;\n",
       "    }\n",
       "</style>\n",
       "<table border=\"1\" class=\"dataframe\">\n",
       "  <thead>\n",
       "    <tr style=\"text-align: right;\">\n",
       "      <th></th>\n",
       "      <th>universe_id</th>\n",
       "      <th>universe_training_year</th>\n",
       "      <th>universe_training_size</th>\n",
       "      <th>universe_scale</th>\n",
       "      <th>universe_model</th>\n",
       "      <th>universe_exclude_features</th>\n",
       "      <th>universe_exclude_subgroups</th>\n",
       "      <th>q_hat</th>\n",
       "      <th>coverage</th>\n",
       "      <th>avg_size</th>\n",
       "      <th>cov_frau1</th>\n",
       "      <th>cov_nongerman</th>\n",
       "      <th>cov_nongerman_male</th>\n",
       "      <th>cov_nongerman_female</th>\n",
       "    </tr>\n",
       "  </thead>\n",
       "  <tbody>\n",
       "    <tr>\n",
       "      <th>0</th>\n",
       "      <td>cdd46163880e57babe67ce4b3e42641f</td>\n",
       "      <td>2014</td>\n",
       "      <td>1k</td>\n",
       "      <td>do-not-scale</td>\n",
       "      <td>elasticnet</td>\n",
       "      <td>nationality</td>\n",
       "      <td>keep-all</td>\n",
       "      <td>0.684744</td>\n",
       "      <td>0.910278</td>\n",
       "      <td>1.227188</td>\n",
       "      <td>0.907643</td>\n",
       "      <td>0.935946</td>\n",
       "      <td>0.947762</td>\n",
       "      <td>0.916393</td>\n",
       "    </tr>\n",
       "  </tbody>\n",
       "</table>\n",
       "</div>"
      ],
      "text/plain": [
       "                        universe_id universe_training_year  \\\n",
       "0  cdd46163880e57babe67ce4b3e42641f                   2014   \n",
       "\n",
       "  universe_training_size universe_scale universe_model  \\\n",
       "0                     1k   do-not-scale     elasticnet   \n",
       "\n",
       "  universe_exclude_features universe_exclude_subgroups     q_hat  coverage  \\\n",
       "0               nationality                   keep-all  0.684744  0.910278   \n",
       "\n",
       "   avg_size  cov_frau1  cov_nongerman  cov_nongerman_male  \\\n",
       "0  1.227188   0.907643       0.935946            0.947762   \n",
       "\n",
       "   cov_nongerman_female  \n",
       "0              0.916393  "
      ]
     },
     "execution_count": 71,
     "metadata": {},
     "output_type": "execute_result"
    }
   ],
   "source": [
    "cp_metrics_df"
   ]
  },
  {
   "cell_type": "markdown",
   "id": "33774451",
   "metadata": {
    "papermill": {
     "duration": 0.022864,
     "end_time": "2025-07-30T21:32:02.217791",
     "exception": false,
     "start_time": "2025-07-30T21:32:02.194927",
     "status": "completed"
    },
    "tags": []
   },
   "source": [
    "# (Fairness) Metrics"
   ]
  },
  {
   "cell_type": "code",
   "execution_count": 72,
   "id": "debc5d62",
   "metadata": {
    "execution": {
     "iopub.execute_input": "2025-07-30T21:32:02.274411Z",
     "iopub.status.busy": "2025-07-30T21:32:02.273897Z",
     "iopub.status.idle": "2025-07-30T21:32:02.294945Z",
     "shell.execute_reply": "2025-07-30T21:32:02.294009Z"
    },
    "papermill": {
     "duration": 0.051489,
     "end_time": "2025-07-30T21:32:02.296606",
     "exception": false,
     "start_time": "2025-07-30T21:32:02.245117",
     "status": "completed"
    },
    "tags": []
   },
   "outputs": [],
   "source": [
    "# do I need to include maxdeutsch1.missing?\n",
    "\n",
    "import numpy as np\n",
    "\n",
    "colname_to_bin = \"maxdeutsch1\"\n",
    "majority_value = org_train[colname_to_bin].mode()[0]\n",
    "\n",
    "org_test[\"majmin\"] = np.where(org_test[colname_to_bin] == majority_value, \"majority\", \"minority\")"
   ]
  },
  {
   "cell_type": "code",
   "execution_count": 73,
   "id": "06a50de5",
   "metadata": {
    "execution": {
     "iopub.execute_input": "2025-07-30T21:32:02.352857Z",
     "iopub.status.busy": "2025-07-30T21:32:02.352432Z",
     "iopub.status.idle": "2025-07-30T21:32:04.499933Z",
     "shell.execute_reply": "2025-07-30T21:32:04.499035Z"
    },
    "papermill": {
     "duration": 2.177326,
     "end_time": "2025-07-30T21:32:04.501766",
     "exception": false,
     "start_time": "2025-07-30T21:32:02.324440",
     "status": "completed"
    },
    "tags": []
   },
   "outputs": [],
   "source": [
    "example_universe = universe.copy()\n",
    "example_universe[\"cutoff\"] = example_universe[\"cutoff\"][0]\n",
    "example_universe[\"eval_fairness_grouping\"] = example_universe[\"eval_fairness_grouping\"][0]\n",
    "fairness_dict, metric_frame = universe_analysis.compute_metrics(\n",
    "    example_universe,\n",
    "    y_pred_prob=probs_test,\n",
    "    y_test=y_true,\n",
    "    org_test=org_test,\n",
    ")"
   ]
  },
  {
   "cell_type": "markdown",
   "id": "f95d4e02",
   "metadata": {
    "papermill": {
     "duration": 0.024872,
     "end_time": "2025-07-30T21:32:04.552614",
     "exception": false,
     "start_time": "2025-07-30T21:32:04.527742",
     "status": "completed"
    },
    "tags": []
   },
   "source": [
    "# Overall"
   ]
  },
  {
   "cell_type": "markdown",
   "id": "bdee4871",
   "metadata": {
    "papermill": {
     "duration": 0.024991,
     "end_time": "2025-07-30T21:32:04.602107",
     "exception": false,
     "start_time": "2025-07-30T21:32:04.577116",
     "status": "completed"
    },
    "tags": []
   },
   "source": [
    "Fairness\n",
    "Main fairness target: Equalized Odds. Seems to be a better fit than equal opportunity, since we're not only interested in Y = 1. Seems to be a better fit than demographic parity, since we also care about accuracy, not just equal distribution of preds.\n",
    "\n",
    "Pick column for computation of fairness metrics\n",
    "\n",
    "Performance\n",
    "Overall performance measures, most interesting in relation to the measures split by group below"
   ]
  },
  {
   "cell_type": "code",
   "execution_count": 74,
   "id": "c4e067c6",
   "metadata": {
    "execution": {
     "iopub.execute_input": "2025-07-30T21:32:04.652646Z",
     "iopub.status.busy": "2025-07-30T21:32:04.652132Z",
     "iopub.status.idle": "2025-07-30T21:32:04.660704Z",
     "shell.execute_reply": "2025-07-30T21:32:04.659742Z"
    },
    "papermill": {
     "duration": 0.03601,
     "end_time": "2025-07-30T21:32:04.662304",
     "exception": false,
     "start_time": "2025-07-30T21:32:04.626294",
     "status": "completed"
    },
    "tags": []
   },
   "outputs": [
    {
     "data": {
      "text/plain": [
       "accuracy                   0.216353\n",
       "balanced accuracy          0.530693\n",
       "f1                         0.237905\n",
       "precision                  0.135907\n",
       "false positive rate        0.892126\n",
       "false negative rate        0.046489\n",
       "selection rate             0.900000\n",
       "count                  89710.000000\n",
       "dtype: float64"
      ]
     },
     "execution_count": 74,
     "metadata": {},
     "output_type": "execute_result"
    }
   ],
   "source": [
    "metric_frame.overall"
   ]
  },
  {
   "cell_type": "markdown",
   "id": "e968fe9d",
   "metadata": {
    "papermill": {
     "duration": 0.025494,
     "end_time": "2025-07-30T21:32:04.714196",
     "exception": false,
     "start_time": "2025-07-30T21:32:04.688702",
     "status": "completed"
    },
    "tags": []
   },
   "source": [
    "By Group"
   ]
  },
  {
   "cell_type": "code",
   "execution_count": 75,
   "id": "ec325bce",
   "metadata": {
    "execution": {
     "iopub.execute_input": "2025-07-30T21:32:04.765405Z",
     "iopub.status.busy": "2025-07-30T21:32:04.764580Z",
     "iopub.status.idle": "2025-07-30T21:32:04.780095Z",
     "shell.execute_reply": "2025-07-30T21:32:04.779174Z"
    },
    "papermill": {
     "duration": 0.042919,
     "end_time": "2025-07-30T21:32:04.781652",
     "exception": false,
     "start_time": "2025-07-30T21:32:04.738733",
     "status": "completed"
    },
    "tags": []
   },
   "outputs": [
    {
     "data": {
      "text/html": [
       "<div>\n",
       "<style scoped>\n",
       "    .dataframe tbody tr th:only-of-type {\n",
       "        vertical-align: middle;\n",
       "    }\n",
       "\n",
       "    .dataframe tbody tr th {\n",
       "        vertical-align: top;\n",
       "    }\n",
       "\n",
       "    .dataframe thead th {\n",
       "        text-align: right;\n",
       "    }\n",
       "</style>\n",
       "<table border=\"1\" class=\"dataframe\">\n",
       "  <thead>\n",
       "    <tr style=\"text-align: right;\">\n",
       "      <th></th>\n",
       "      <th>accuracy</th>\n",
       "      <th>balanced accuracy</th>\n",
       "      <th>f1</th>\n",
       "      <th>precision</th>\n",
       "      <th>false positive rate</th>\n",
       "      <th>false negative rate</th>\n",
       "      <th>selection rate</th>\n",
       "      <th>count</th>\n",
       "    </tr>\n",
       "    <tr>\n",
       "      <th>majmin</th>\n",
       "      <th></th>\n",
       "      <th></th>\n",
       "      <th></th>\n",
       "      <th></th>\n",
       "      <th></th>\n",
       "      <th></th>\n",
       "      <th></th>\n",
       "      <th></th>\n",
       "    </tr>\n",
       "  </thead>\n",
       "  <tbody>\n",
       "    <tr>\n",
       "      <th>majority</th>\n",
       "      <td>0.237444</td>\n",
       "      <td>0.538131</td>\n",
       "      <td>0.247067</td>\n",
       "      <td>0.142069</td>\n",
       "      <td>0.870565</td>\n",
       "      <td>0.053173</td>\n",
       "      <td>0.880642</td>\n",
       "      <td>69170.0</td>\n",
       "    </tr>\n",
       "    <tr>\n",
       "      <th>minority</th>\n",
       "      <td>0.145326</td>\n",
       "      <td>0.507979</td>\n",
       "      <td>0.208985</td>\n",
       "      <td>0.116974</td>\n",
       "      <td>0.963350</td>\n",
       "      <td>0.020693</td>\n",
       "      <td>0.965190</td>\n",
       "      <td>20540.0</td>\n",
       "    </tr>\n",
       "  </tbody>\n",
       "</table>\n",
       "</div>"
      ],
      "text/plain": [
       "          accuracy  balanced accuracy        f1  precision  \\\n",
       "majmin                                                       \n",
       "majority  0.237444           0.538131  0.247067   0.142069   \n",
       "minority  0.145326           0.507979  0.208985   0.116974   \n",
       "\n",
       "          false positive rate  false negative rate  selection rate    count  \n",
       "majmin                                                                       \n",
       "majority             0.870565             0.053173        0.880642  69170.0  \n",
       "minority             0.963350             0.020693        0.965190  20540.0  "
      ]
     },
     "execution_count": 75,
     "metadata": {},
     "output_type": "execute_result"
    }
   ],
   "source": [
    "metric_frame.by_group"
   ]
  },
  {
   "cell_type": "code",
   "execution_count": 76,
   "id": "a9ddbe63",
   "metadata": {
    "execution": {
     "iopub.execute_input": "2025-07-30T21:32:04.836023Z",
     "iopub.status.busy": "2025-07-30T21:32:04.835672Z",
     "iopub.status.idle": "2025-07-30T21:32:07.156098Z",
     "shell.execute_reply": "2025-07-30T21:32:07.155108Z"
    },
    "papermill": {
     "duration": 2.348815,
     "end_time": "2025-07-30T21:32:07.157649",
     "exception": false,
     "start_time": "2025-07-30T21:32:04.808834",
     "status": "completed"
    },
    "tags": []
   },
   "outputs": [
    {
     "data": {
      "text/plain": [
       "array([[<Axes: title={'center': 'accuracy'}, xlabel='majmin'>,\n",
       "        <Axes: title={'center': 'balanced accuracy'}, xlabel='majmin'>,\n",
       "        <Axes: title={'center': 'f1'}, xlabel='majmin'>],\n",
       "       [<Axes: title={'center': 'precision'}, xlabel='majmin'>,\n",
       "        <Axes: title={'center': 'false positive rate'}, xlabel='majmin'>,\n",
       "        <Axes: title={'center': 'false negative rate'}, xlabel='majmin'>],\n",
       "       [<Axes: title={'center': 'selection rate'}, xlabel='majmin'>,\n",
       "        <Axes: title={'center': 'count'}, xlabel='majmin'>,\n",
       "        <Axes: xlabel='majmin'>]], dtype=object)"
      ]
     },
     "execution_count": 76,
     "metadata": {},
     "output_type": "execute_result"
    },
    {
     "data": {
      "image/png": "[encoded data removed]",
      "text/plain": [
       "<Figure size 1200x800 with 9 Axes>"
      ]
     },
     "metadata": {},
     "output_type": "display_data"
    }
   ],
   "source": [
    "# In a graphic\n",
    "metric_frame.by_group.plot.bar(\n",
    "    subplots=True,\n",
    "    layout=[3, 3],\n",
    "    legend=False,\n",
    "    figsize=[12, 8],\n",
    "    title=\"Show all metrics\",\n",
    ")"
   ]
  },
  {
   "cell_type": "markdown",
   "id": "f57a0bac",
   "metadata": {
    "papermill": {
     "duration": 0.028594,
     "end_time": "2025-07-30T21:32:07.218333",
     "exception": false,
     "start_time": "2025-07-30T21:32:07.189739",
     "status": "completed"
    },
    "tags": []
   },
   "source": [
    "# Final Output"
   ]
  },
  {
   "cell_type": "code",
   "execution_count": 77,
   "id": "96d280a3",
   "metadata": {
    "execution": {
     "iopub.execute_input": "2025-07-30T21:32:07.276812Z",
     "iopub.status.busy": "2025-07-30T21:32:07.276179Z",
     "iopub.status.idle": "2025-07-30T21:32:07.284448Z",
     "shell.execute_reply": "2025-07-30T21:32:07.283473Z"
    },
    "papermill": {
     "duration": 0.039796,
     "end_time": "2025-07-30T21:32:07.286028",
     "exception": false,
     "start_time": "2025-07-30T21:32:07.246232",
     "status": "completed"
    },
    "tags": []
   },
   "outputs": [
    {
     "data": {
      "text/plain": [
       "4"
      ]
     },
     "execution_count": 77,
     "metadata": {},
     "output_type": "execute_result"
    }
   ],
   "source": [
    "sub_universes = universe_analysis.generate_sub_universes()\n",
    "len(sub_universes)"
   ]
  },
  {
   "cell_type": "code",
   "execution_count": 78,
   "id": "92adf7ba",
   "metadata": {
    "execution": {
     "iopub.execute_input": "2025-07-30T21:32:07.346316Z",
     "iopub.status.busy": "2025-07-30T21:32:07.345804Z",
     "iopub.status.idle": "2025-07-30T21:32:07.352196Z",
     "shell.execute_reply": "2025-07-30T21:32:07.351277Z"
    },
    "papermill": {
     "duration": 0.038987,
     "end_time": "2025-07-30T21:32:07.353661",
     "exception": false,
     "start_time": "2025-07-30T21:32:07.314674",
     "status": "completed"
    },
    "tags": []
   },
   "outputs": [],
   "source": [
    "def filter_sub_universe_data(sub_universe, org_test):\n",
    "    # Keep all rows — no filtering\n",
    "    keep_rows_mask = np.ones(org_test.shape[0], dtype=bool)\n",
    "\n",
    "    print(f\"[INFO] Keeping all rows: {keep_rows_mask.sum()} rows retained.\")\n",
    "    return keep_rows_mask"
   ]
  },
  {
   "cell_type": "code",
   "execution_count": 79,
   "id": "4a759155",
   "metadata": {
    "execution": {
     "iopub.execute_input": "2025-07-30T21:32:07.414368Z",
     "iopub.status.busy": "2025-07-30T21:32:07.413477Z",
     "iopub.status.idle": "2025-07-30T21:32:16.960641Z",
     "shell.execute_reply": "2025-07-30T21:32:16.959621Z"
    },
    "papermill": {
     "duration": 9.579455,
     "end_time": "2025-07-30T21:32:16.962294",
     "exception": false,
     "start_time": "2025-07-30T21:32:07.382839",
     "status": "completed"
    },
    "tags": []
   },
   "outputs": [
    {
     "name": "stdout",
     "output_type": "stream",
     "text": [
      "Stopping execution_time clock.\n",
      "[INFO] Keeping all rows: 89710 rows retained.\n"
     ]
    },
    {
     "name": "stdout",
     "output_type": "stream",
     "text": [
      "[INFO] Keeping all rows: 89710 rows retained.\n"
     ]
    },
    {
     "name": "stdout",
     "output_type": "stream",
     "text": [
      "[INFO] Keeping all rows: 89710 rows retained.\n"
     ]
    },
    {
     "name": "stdout",
     "output_type": "stream",
     "text": [
      "[INFO] Keeping all rows: 89710 rows retained.\n"
     ]
    },
    {
     "data": {
      "text/html": [
       "<div>\n",
       "<style scoped>\n",
       "    .dataframe tbody tr th:only-of-type {\n",
       "        vertical-align: middle;\n",
       "    }\n",
       "\n",
       "    .dataframe tbody tr th {\n",
       "        vertical-align: top;\n",
       "    }\n",
       "\n",
       "    .dataframe thead th {\n",
       "        text-align: right;\n",
       "    }\n",
       "</style>\n",
       "<table border=\"1\" class=\"dataframe\">\n",
       "  <thead>\n",
       "    <tr style=\"text-align: right;\">\n",
       "      <th></th>\n",
       "      <th>run_no</th>\n",
       "      <th>universe_id</th>\n",
       "      <th>universe_settings</th>\n",
       "      <th>execution_time</th>\n",
       "      <th>test_size_n</th>\n",
       "      <th>test_size_frac</th>\n",
       "      <th>fair_main_equalized_odds_difference</th>\n",
       "      <th>fair_main_equalized_odds_ratio</th>\n",
       "      <th>fair_main_demographic_parity_difference</th>\n",
       "      <th>fair_main_demographic_parity_ratio</th>\n",
       "      <th>...</th>\n",
       "      <th>perf_grp_precision_0</th>\n",
       "      <th>perf_grp_precision_1</th>\n",
       "      <th>perf_grp_false positive rate_0</th>\n",
       "      <th>perf_grp_false positive rate_1</th>\n",
       "      <th>perf_grp_false negative rate_0</th>\n",
       "      <th>perf_grp_false negative rate_1</th>\n",
       "      <th>perf_grp_selection rate_0</th>\n",
       "      <th>perf_grp_selection rate_1</th>\n",
       "      <th>perf_grp_count_0</th>\n",
       "      <th>perf_grp_count_1</th>\n",
       "    </tr>\n",
       "  </thead>\n",
       "  <tbody>\n",
       "    <tr>\n",
       "      <th>0</th>\n",
       "      <td>14</td>\n",
       "      <td>cdd46163880e57babe67ce4b3e42641f</td>\n",
       "      <td>{\"cutoff\": \"quantile_0.1\", \"eval_fairness_grou...</td>\n",
       "      <td>47.232878</td>\n",
       "      <td>89710</td>\n",
       "      <td>1.0</td>\n",
       "      <td>0.092785</td>\n",
       "      <td>0.903685</td>\n",
       "      <td>0.084548</td>\n",
       "      <td>0.912403</td>\n",
       "      <td>...</td>\n",
       "      <td>NaN</td>\n",
       "      <td>NaN</td>\n",
       "      <td>NaN</td>\n",
       "      <td>NaN</td>\n",
       "      <td>NaN</td>\n",
       "      <td>NaN</td>\n",
       "      <td>NaN</td>\n",
       "      <td>NaN</td>\n",
       "      <td>NaN</td>\n",
       "      <td>NaN</td>\n",
       "    </tr>\n",
       "    <tr>\n",
       "      <th>0</th>\n",
       "      <td>14</td>\n",
       "      <td>cdd46163880e57babe67ce4b3e42641f</td>\n",
       "      <td>{\"cutoff\": \"quantile_0.1\", \"eval_fairness_grou...</td>\n",
       "      <td>47.232878</td>\n",
       "      <td>89710</td>\n",
       "      <td>1.0</td>\n",
       "      <td>0.092785</td>\n",
       "      <td>0.903685</td>\n",
       "      <td>0.084548</td>\n",
       "      <td>0.912403</td>\n",
       "      <td>...</td>\n",
       "      <td>0.116974</td>\n",
       "      <td>0.142069</td>\n",
       "      <td>0.96335</td>\n",
       "      <td>0.870565</td>\n",
       "      <td>0.020693</td>\n",
       "      <td>0.053173</td>\n",
       "      <td>0.965190</td>\n",
       "      <td>0.880642</td>\n",
       "      <td>20540.0</td>\n",
       "      <td>69170.0</td>\n",
       "    </tr>\n",
       "    <tr>\n",
       "      <th>0</th>\n",
       "      <td>14</td>\n",
       "      <td>cdd46163880e57babe67ce4b3e42641f</td>\n",
       "      <td>{\"cutoff\": \"quantile_0.25\", \"eval_fairness_gro...</td>\n",
       "      <td>47.232878</td>\n",
       "      <td>89710</td>\n",
       "      <td>1.0</td>\n",
       "      <td>0.215046</td>\n",
       "      <td>0.760800</td>\n",
       "      <td>0.198023</td>\n",
       "      <td>0.780628</td>\n",
       "      <td>...</td>\n",
       "      <td>NaN</td>\n",
       "      <td>NaN</td>\n",
       "      <td>NaN</td>\n",
       "      <td>NaN</td>\n",
       "      <td>NaN</td>\n",
       "      <td>NaN</td>\n",
       "      <td>NaN</td>\n",
       "      <td>NaN</td>\n",
       "      <td>NaN</td>\n",
       "      <td>NaN</td>\n",
       "    </tr>\n",
       "    <tr>\n",
       "      <th>0</th>\n",
       "      <td>14</td>\n",
       "      <td>cdd46163880e57babe67ce4b3e42641f</td>\n",
       "      <td>{\"cutoff\": \"quantile_0.25\", \"eval_fairness_gro...</td>\n",
       "      <td>47.232878</td>\n",
       "      <td>89710</td>\n",
       "      <td>1.0</td>\n",
       "      <td>0.215046</td>\n",
       "      <td>0.760800</td>\n",
       "      <td>0.198023</td>\n",
       "      <td>0.780628</td>\n",
       "      <td>...</td>\n",
       "      <td>0.118872</td>\n",
       "      <td>0.157609</td>\n",
       "      <td>0.89902</td>\n",
       "      <td>0.683975</td>\n",
       "      <td>0.069257</td>\n",
       "      <td>0.159519</td>\n",
       "      <td>0.902678</td>\n",
       "      <td>0.704655</td>\n",
       "      <td>20540.0</td>\n",
       "      <td>69170.0</td>\n",
       "    </tr>\n",
       "  </tbody>\n",
       "</table>\n",
       "<p>4 rows × 50 columns</p>\n",
       "</div>"
      ],
      "text/plain": [
       "  run_no                       universe_id  \\\n",
       "0     14  cdd46163880e57babe67ce4b3e42641f   \n",
       "0     14  cdd46163880e57babe67ce4b3e42641f   \n",
       "0     14  cdd46163880e57babe67ce4b3e42641f   \n",
       "0     14  cdd46163880e57babe67ce4b3e42641f   \n",
       "\n",
       "                                   universe_settings  execution_time  \\\n",
       "0  {\"cutoff\": \"quantile_0.1\", \"eval_fairness_grou...       47.232878   \n",
       "0  {\"cutoff\": \"quantile_0.1\", \"eval_fairness_grou...       47.232878   \n",
       "0  {\"cutoff\": \"quantile_0.25\", \"eval_fairness_gro...       47.232878   \n",
       "0  {\"cutoff\": \"quantile_0.25\", \"eval_fairness_gro...       47.232878   \n",
       "\n",
       "   test_size_n  test_size_frac  fair_main_equalized_odds_difference  \\\n",
       "0        89710             1.0                             0.092785   \n",
       "0        89710             1.0                             0.092785   \n",
       "0        89710             1.0                             0.215046   \n",
       "0        89710             1.0                             0.215046   \n",
       "\n",
       "   fair_main_equalized_odds_ratio  fair_main_demographic_parity_difference  \\\n",
       "0                        0.903685                                 0.084548   \n",
       "0                        0.903685                                 0.084548   \n",
       "0                        0.760800                                 0.198023   \n",
       "0                        0.760800                                 0.198023   \n",
       "\n",
       "   fair_main_demographic_parity_ratio  ...  perf_grp_precision_0  \\\n",
       "0                            0.912403  ...                   NaN   \n",
       "0                            0.912403  ...              0.116974   \n",
       "0                            0.780628  ...                   NaN   \n",
       "0                            0.780628  ...              0.118872   \n",
       "\n",
       "   perf_grp_precision_1  perf_grp_false positive rate_0  \\\n",
       "0                   NaN                             NaN   \n",
       "0              0.142069                         0.96335   \n",
       "0                   NaN                             NaN   \n",
       "0              0.157609                         0.89902   \n",
       "\n",
       "   perf_grp_false positive rate_1  perf_grp_false negative rate_0  \\\n",
       "0                             NaN                             NaN   \n",
       "0                        0.870565                        0.020693   \n",
       "0                             NaN                             NaN   \n",
       "0                        0.683975                        0.069257   \n",
       "\n",
       "   perf_grp_false negative rate_1  perf_grp_selection rate_0  \\\n",
       "0                             NaN                        NaN   \n",
       "0                        0.053173                   0.965190   \n",
       "0                             NaN                        NaN   \n",
       "0                        0.159519                   0.902678   \n",
       "\n",
       "   perf_grp_selection rate_1  perf_grp_count_0  perf_grp_count_1  \n",
       "0                        NaN               NaN               NaN  \n",
       "0                   0.880642           20540.0           69170.0  \n",
       "0                        NaN               NaN               NaN  \n",
       "0                   0.704655           20540.0           69170.0  \n",
       "\n",
       "[4 rows x 50 columns]"
      ]
     },
     "execution_count": 79,
     "metadata": {},
     "output_type": "execute_result"
    }
   ],
   "source": [
    "final_output = universe_analysis.generate_final_output(\n",
    "    y_pred_prob=probs_test,\n",
    "    y_test=y_true,\n",
    "    org_test=org_test,\n",
    "    filter_data=filter_sub_universe_data,\n",
    "    cp_metrics_df=cp_metrics_df,\n",
    "    save=True,\n",
    ")\n",
    "final_output"
   ]
  },
  {
   "cell_type": "code",
   "execution_count": null,
   "id": "721ff514-cb11-46f8-b6fc-50392f74b5cb",
   "metadata": {
    "papermill": {
     "duration": 0.030938,
     "end_time": "2025-07-30T21:32:17.027706",
     "exception": false,
     "start_time": "2025-07-30T21:32:16.996768",
     "status": "completed"
    },
    "tags": []
   },
   "outputs": [],
   "source": []
  }
 ],
 "metadata": {
  "celltoolbar": "Tags",
  "kernelspec": {
   "display_name": "Python (CMA Fairness)",
   "language": "python",
   "name": "cma_fair_env"
  },
  "language_info": {
   "codemirror_mode": {
    "name": "ipython",
    "version": 3
   },
   "file_extension": ".py",
   "mimetype": "text/x-python",
   "name": "python",
   "nbconvert_exporter": "python",
   "pygments_lexer": "ipython3",
   "version": "3.10.12"
  },
  "papermill": {
   "default_parameters": {},
   "duration": 61.067821,
   "end_time": "2025-07-30T21:32:17.979393",
   "environment_variables": {},
   "exception": null,
   "input_path": "universe_analysis.ipynb",
   "output_path": "output/runs/14/notebooks/m_14-cdd46163880e57babe67ce4b3e42641f.ipynb",
   "parameters": {
    "output_dir": "output",
    "run_no": "14",
    "seed": "2023",
    "universe": "{\"cutoff\": [\"quantile_0.1\", \"quantile_0.25\"], \"eval_fairness_grouping\": [\"majority-minority\", \"nationality-all\"], \"exclude_features\": \"nationality\", \"exclude_subgroups\": \"keep-all\", \"model\": \"elasticnet\", \"scale\": \"do-not-scale\", \"training_size\": \"1k\", \"training_year\": \"2014\"}",
    "universe_id": "cdd46163880e57babe67ce4b3e42641f"
   },
   "start_time": "2025-07-30T21:31:16.911572",
   "version": "2.6.0"
  }
 },
 "nbformat": 4,
 "nbformat_minor": 5
}