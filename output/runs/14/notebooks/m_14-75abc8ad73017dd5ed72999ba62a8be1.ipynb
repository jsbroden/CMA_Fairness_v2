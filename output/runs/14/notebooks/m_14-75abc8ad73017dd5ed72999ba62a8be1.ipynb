{
 "cells": [
  {
   "cell_type": "code",
   "execution_count": 1,
   "id": "f159f837-637b-42ba-96b5-ec9a68c44524",
   "metadata": {
    "execution": {
     "iopub.execute_input": "2025-07-30T21:53:02.351262Z",
     "iopub.status.busy": "2025-07-30T21:53:02.350600Z",
     "iopub.status.idle": "2025-07-30T21:53:02.364234Z",
     "shell.execute_reply": "2025-07-30T21:53:02.363229Z"
    },
    "papermill": {
     "duration": 0.035329,
     "end_time": "2025-07-30T21:53:02.365983",
     "exception": false,
     "start_time": "2025-07-30T21:53:02.330654",
     "status": "completed"
    },
    "tags": []
   },
   "outputs": [
    {
     "name": "stdout",
     "output_type": "stream",
     "text": [
      "/dss/dsshome1/0C/ra93lal2/cma/CMA_Fairness_v2\n"
     ]
    },
    {
     "name": "stderr",
     "output_type": "stream",
     "text": [
      "/dss/dsshome1/0C/ra93lal2/.local/share/virtualenvs/CMA_Fairness_v2-3j10GkSs/lib/python3.10/site-packages/IPython/core/magics/osm.py:393: UserWarning: This is now an optional IPython functionality, using bookmarks requires you to install the `pickleshare` library.\n",
      "  bkms = self.shell.db.get('bookmarks', {})\n",
      "/dss/dsshome1/0C/ra93lal2/.local/share/virtualenvs/CMA_Fairness_v2-3j10GkSs/lib/python3.10/site-packages/IPython/core/magics/osm.py:417: UserWarning: This is now an optional IPython functionality, setting dhist requires you to install the `pickleshare` library.\n",
      "  self.shell.db['dhist'] = compress_dhist(dhist)[-100:]\n"
     ]
    }
   ],
   "source": [
    "%cd ~/cma/CMA_Fairness_v2"
   ]
  },
  {
   "cell_type": "markdown",
   "id": "de2603b9",
   "metadata": {
    "papermill": {
     "duration": 0.019401,
     "end_time": "2025-07-30T21:53:02.404466",
     "exception": false,
     "start_time": "2025-07-30T21:53:02.385065",
     "status": "completed"
    },
    "tags": []
   },
   "source": [
    "The following cell holds the definition of our parameters, these values can be overriden by rendering the with e.g. the following command:\n",
    "\n",
    "papermill -p alpha 0.2 -p ratio 0.3 universe_analysis.ipynb output/test_run.ipynb"
   ]
  },
  {
   "cell_type": "code",
   "execution_count": 2,
   "id": "a80968a0-40bb-4fa9-85ef-2d5eefb01975",
   "metadata": {
    "execution": {
     "iopub.execute_input": "2025-07-30T21:53:02.444938Z",
     "iopub.status.busy": "2025-07-30T21:53:02.444142Z",
     "iopub.status.idle": "2025-07-30T21:53:02.449415Z",
     "shell.execute_reply": "2025-07-30T21:53:02.448480Z"
    },
    "papermill": {
     "duration": 0.026335,
     "end_time": "2025-07-30T21:53:02.450941",
     "exception": false,
     "start_time": "2025-07-30T21:53:02.424606",
     "status": "completed"
    },
    "tags": []
   },
   "outputs": [
    {
     "name": "stdout",
     "output_type": "stream",
     "text": [
      "Current working directory: /dss/dsshome1/0C/ra93lal2/cma/CMA_Fairness_v2\n"
     ]
    }
   ],
   "source": [
    "import os\n",
    "print(\"Current working directory:\", os.getcwd())"
   ]
  },
  {
   "cell_type": "code",
   "execution_count": 3,
   "id": "2dce4c03",
   "metadata": {
    "execution": {
     "iopub.execute_input": "2025-07-30T21:53:02.490485Z",
     "iopub.status.busy": "2025-07-30T21:53:02.489889Z",
     "iopub.status.idle": "2025-07-30T21:53:02.495899Z",
     "shell.execute_reply": "2025-07-30T21:53:02.494925Z"
    },
    "papermill": {
     "duration": 0.027793,
     "end_time": "2025-07-30T21:53:02.497659",
     "exception": false,
     "start_time": "2025-07-30T21:53:02.469866",
     "status": "completed"
    },
    "tags": [
     "parameters"
    ]
   },
   "outputs": [],
   "source": [
    "run_no = 0\n",
    "universe_id = \"test\"\n",
    "universe = {\n",
    "    \"training_size\": \"25k\", # \"25k\", \"5k\", \"1k\"\n",
    "    \"training_year\": \"2014\", # \"2014\", \"2012_14\", \"2010_14\"\n",
    "    \"scale\": \"scale\", # \"scale\", \"do-not-scale\",\n",
    "    #\"stratify_split\": \"target\", # \"none\", \"target\", \"protected-attribute\", \"both\",\n",
    "    \"model\": \"elasticnet\", # \"logreg\", \"penalized_logreg\", \"rf\", \"gbm\", \"elasticnet\"\n",
    "    \"cutoff\": [\"quantile_0.15\", \"quantile_0.30\"],\n",
    "    \"exclude_features\": \"age\", # \"none\", \"nationality\", \"sex\", \"nationality-sex\", \"age\"\n",
    "    \"exclude_subgroups\": \"keep-all\", # \"keep-all\", \"drop-non-german\"\n",
    "    \"eval_fairness_grouping\": [\"majority-minority\", \"nationality-all\"]\n",
    "}\n",
    "\n",
    "output_dir=\"./output\"\n",
    "seed=0"
   ]
  },
  {
   "cell_type": "code",
   "execution_count": 4,
   "id": "be1cdce4",
   "metadata": {
    "execution": {
     "iopub.execute_input": "2025-07-30T21:53:02.537858Z",
     "iopub.status.busy": "2025-07-30T21:53:02.537407Z",
     "iopub.status.idle": "2025-07-30T21:53:02.542490Z",
     "shell.execute_reply": "2025-07-30T21:53:02.541598Z"
    },
    "papermill": {
     "duration": 0.026905,
     "end_time": "2025-07-30T21:53:02.544085",
     "exception": false,
     "start_time": "2025-07-30T21:53:02.517180",
     "status": "completed"
    },
    "tags": [
     "injected-parameters"
    ]
   },
   "outputs": [],
   "source": [
    "# Parameters\n",
    "universe_id = \"75abc8ad73017dd5ed72999ba62a8be1\"\n",
    "run_no = \"14\"\n",
    "universe = \"{\\\"cutoff\\\": [\\\"quantile_0.1\\\", \\\"quantile_0.25\\\"], \\\"eval_fairness_grouping\\\": [\\\"majority-minority\\\", \\\"nationality-all\\\"], \\\"exclude_features\\\": \\\"none\\\", \\\"exclude_subgroups\\\": \\\"keep-all\\\", \\\"model\\\": \\\"elasticnet\\\", \\\"scale\\\": \\\"do-not-scale\\\", \\\"training_size\\\": \\\"1k\\\", \\\"training_year\\\": \\\"2010_14\\\"}\"\n",
    "output_dir = \"output\"\n",
    "seed = \"2023\"\n"
   ]
  },
  {
   "cell_type": "code",
   "execution_count": 5,
   "id": "1650acaf",
   "metadata": {
    "execution": {
     "iopub.execute_input": "2025-07-30T21:53:02.583665Z",
     "iopub.status.busy": "2025-07-30T21:53:02.583229Z",
     "iopub.status.idle": "2025-07-30T21:53:02.588318Z",
     "shell.execute_reply": "2025-07-30T21:53:02.587324Z"
    },
    "papermill": {
     "duration": 0.02564,
     "end_time": "2025-07-30T21:53:02.589813",
     "exception": false,
     "start_time": "2025-07-30T21:53:02.564173",
     "status": "completed"
    },
    "tags": []
   },
   "outputs": [],
   "source": [
    "import json\n",
    "# Parse universe into dict if it is passed as a string\n",
    "if isinstance(universe, str):\n",
    "    universe = json.loads(universe)"
   ]
  },
  {
   "cell_type": "code",
   "execution_count": 6,
   "id": "16620c48",
   "metadata": {
    "execution": {
     "iopub.execute_input": "2025-07-30T21:53:02.629346Z",
     "iopub.status.busy": "2025-07-30T21:53:02.628719Z",
     "iopub.status.idle": "2025-07-30T21:53:02.672367Z",
     "shell.execute_reply": "2025-07-30T21:53:02.671546Z"
    },
    "papermill": {
     "duration": 0.064968,
     "end_time": "2025-07-30T21:53:02.673997",
     "exception": false,
     "start_time": "2025-07-30T21:53:02.609029",
     "status": "completed"
    },
    "tags": []
   },
   "outputs": [],
   "source": [
    "# Auto-reload the custom package\n",
    "%load_ext autoreload\n",
    "%autoreload 1\n",
    "%aimport fairness_multiverse"
   ]
  },
  {
   "cell_type": "code",
   "execution_count": 7,
   "id": "01c5c9f3",
   "metadata": {
    "execution": {
     "iopub.execute_input": "2025-07-30T21:53:02.712091Z",
     "iopub.status.busy": "2025-07-30T21:53:02.711500Z",
     "iopub.status.idle": "2025-07-30T21:53:04.626273Z",
     "shell.execute_reply": "2025-07-30T21:53:04.625367Z"
    },
    "papermill": {
     "duration": 1.935464,
     "end_time": "2025-07-30T21:53:04.628130",
     "exception": false,
     "start_time": "2025-07-30T21:53:02.692666",
     "status": "completed"
    },
    "tags": []
   },
   "outputs": [],
   "source": [
    "from fairness_multiverse.universe import UniverseAnalysis\n",
    "\n",
    "universe_analysis = UniverseAnalysis(\n",
    "    run_no = run_no,\n",
    "    universe_id = universe_id,\n",
    "    universe = universe,\n",
    "    output_dir=output_dir,\n",
    ")"
   ]
  },
  {
   "cell_type": "code",
   "execution_count": 8,
   "id": "106241f5",
   "metadata": {
    "execution": {
     "iopub.execute_input": "2025-07-30T21:53:04.667439Z",
     "iopub.status.busy": "2025-07-30T21:53:04.666816Z",
     "iopub.status.idle": "2025-07-30T21:53:04.673273Z",
     "shell.execute_reply": "2025-07-30T21:53:04.672304Z"
    },
    "papermill": {
     "duration": 0.027321,
     "end_time": "2025-07-30T21:53:04.674817",
     "exception": false,
     "start_time": "2025-07-30T21:53:04.647496",
     "status": "completed"
    },
    "tags": []
   },
   "outputs": [
    {
     "name": "stdout",
     "output_type": "stream",
     "text": [
      "Using Seed: 2023\n"
     ]
    }
   ],
   "source": [
    "import numpy as np\n",
    "parsed_seed = int(seed)\n",
    "np.random.seed(parsed_seed)\n",
    "print(f\"Using Seed: {parsed_seed}\")"
   ]
  },
  {
   "cell_type": "markdown",
   "id": "e0ebdc57",
   "metadata": {
    "papermill": {
     "duration": 0.018861,
     "end_time": "2025-07-30T21:53:04.714072",
     "exception": false,
     "start_time": "2025-07-30T21:53:04.695211",
     "status": "completed"
    },
    "tags": []
   },
   "source": [
    "# Loading Data"
   ]
  },
  {
   "cell_type": "markdown",
   "id": "681925a3",
   "metadata": {
    "papermill": {
     "duration": 0.018953,
     "end_time": "2025-07-30T21:53:04.751936",
     "exception": false,
     "start_time": "2025-07-30T21:53:04.732983",
     "status": "completed"
    },
    "tags": []
   },
   "source": [
    "Load siab_train, siab_test, siab_calib and/or \n",
    "load siab_train_features, siab_train_labels"
   ]
  },
  {
   "cell_type": "code",
   "execution_count": 9,
   "id": "f0496b8a",
   "metadata": {
    "execution": {
     "iopub.execute_input": "2025-07-30T21:53:04.790022Z",
     "iopub.status.busy": "2025-07-30T21:53:04.789358Z",
     "iopub.status.idle": "2025-07-30T21:53:16.507868Z",
     "shell.execute_reply": "2025-07-30T21:53:16.506738Z"
    },
    "papermill": {
     "duration": 11.739387,
     "end_time": "2025-07-30T21:53:16.509510",
     "exception": false,
     "start_time": "2025-07-30T21:53:04.770123",
     "status": "completed"
    },
    "tags": []
   },
   "outputs": [
    {
     "name": "stdout",
     "output_type": "stream",
     "text": [
      "Loading SIAB data from cache: data/siab_cached.csv.gz\n"
     ]
    },
    {
     "name": "stdout",
     "output_type": "stream",
     "text": [
      "(643690, 164)\n"
     ]
    }
   ],
   "source": [
    "from pathlib import Path\n",
    "import pandas as pd\n",
    "\n",
    "# File paths\n",
    "raw_file = Path(\"data/raw/siab.csv\")\n",
    "cache_file = Path(\"data/siab_cached.csv.gz\")\n",
    "\n",
    "# Ensure cache directory exists\n",
    "cache_file.parent.mkdir(parents=True, exist_ok=True)\n",
    "\n",
    "# Load with simple caching\n",
    "if cache_file.exists():\n",
    "    print(f\"Loading SIAB data from cache: {cache_file}\")\n",
    "    siab = pd.read_csv(cache_file, compression='gzip')\n",
    "else:\n",
    "    print(f\"Cache not found. Reading raw SIAB data: {raw_file}\")\n",
    "    siab = pd.read_csv(raw_file)\n",
    "    siab.to_csv(cache_file, index=False, compression='gzip')\n",
    "    print(f\"Cached SIAB data to: {cache_file}\")\n",
    "\n",
    "# Now use `siab` DataFrame as needed\n",
    "print(siab.shape)"
   ]
  },
  {
   "cell_type": "code",
   "execution_count": 10,
   "id": "db0ca512-5f53-4dba-abdb-a2888bca41ba",
   "metadata": {
    "execution": {
     "iopub.execute_input": "2025-07-30T21:53:16.559313Z",
     "iopub.status.busy": "2025-07-30T21:53:16.558435Z",
     "iopub.status.idle": "2025-07-30T21:53:16.564618Z",
     "shell.execute_reply": "2025-07-30T21:53:16.563650Z"
    },
    "papermill": {
     "duration": 0.034207,
     "end_time": "2025-07-30T21:53:16.566223",
     "exception": false,
     "start_time": "2025-07-30T21:53:16.532016",
     "status": "completed"
    },
    "tags": []
   },
   "outputs": [],
   "source": [
    "#siab"
   ]
  },
  {
   "cell_type": "code",
   "execution_count": 11,
   "id": "a0edb063",
   "metadata": {
    "execution": {
     "iopub.execute_input": "2025-07-30T21:53:16.610286Z",
     "iopub.status.busy": "2025-07-30T21:53:16.609615Z",
     "iopub.status.idle": "2025-07-30T21:53:16.614713Z",
     "shell.execute_reply": "2025-07-30T21:53:16.613713Z"
    },
    "papermill": {
     "duration": 0.028957,
     "end_time": "2025-07-30T21:53:16.616362",
     "exception": false,
     "start_time": "2025-07-30T21:53:16.587405",
     "status": "completed"
    },
    "tags": []
   },
   "outputs": [],
   "source": [
    "#import pandas as pd\n",
    "#\n",
    "#X_train = pd.read_csv(\"./data/X_train.csv\")\n",
    "#y_train = pd.read_csv(\"./data/y_train.csv\")"
   ]
  },
  {
   "cell_type": "code",
   "execution_count": 12,
   "id": "63d08085",
   "metadata": {
    "execution": {
     "iopub.execute_input": "2025-07-30T21:53:16.662450Z",
     "iopub.status.busy": "2025-07-30T21:53:16.661756Z",
     "iopub.status.idle": "2025-07-30T21:53:16.666693Z",
     "shell.execute_reply": "2025-07-30T21:53:16.665778Z"
    },
    "papermill": {
     "duration": 0.030003,
     "end_time": "2025-07-30T21:53:16.668385",
     "exception": false,
     "start_time": "2025-07-30T21:53:16.638382",
     "status": "completed"
    },
    "tags": []
   },
   "outputs": [],
   "source": [
    "#X_test = pd.read_csv(\"./data/X_test.csv\")\n",
    "#y_true = pd.read_csv(\"./data/y_test.csv\")"
   ]
  },
  {
   "cell_type": "code",
   "execution_count": 13,
   "id": "98a8d0fa-1d3d-4ed8-bb2c-281470e24add",
   "metadata": {
    "execution": {
     "iopub.execute_input": "2025-07-30T21:53:16.713980Z",
     "iopub.status.busy": "2025-07-30T21:53:16.713308Z",
     "iopub.status.idle": "2025-07-30T21:53:16.718448Z",
     "shell.execute_reply": "2025-07-30T21:53:16.717519Z"
    },
    "papermill": {
     "duration": 0.030013,
     "end_time": "2025-07-30T21:53:16.720360",
     "exception": false,
     "start_time": "2025-07-30T21:53:16.690347",
     "status": "completed"
    },
    "tags": []
   },
   "outputs": [],
   "source": [
    "# Calibration data for conformal\n",
    "#X_calib = pd.read_csv(\"./data/X_calib.csv\")\n",
    "#y_calib = pd.read_csv(\"./data/y_calib.csv\")"
   ]
  },
  {
   "cell_type": "markdown",
   "id": "997051c5-15bd-4b69-9786-c3001a3ce484",
   "metadata": {
    "papermill": {
     "duration": 0.021447,
     "end_time": "2025-07-30T21:53:16.764897",
     "exception": false,
     "start_time": "2025-07-30T21:53:16.743450",
     "status": "completed"
    },
    "tags": []
   },
   "source": [
    "# Splitting Data and Setting Training Data Size"
   ]
  },
  {
   "cell_type": "code",
   "execution_count": 14,
   "id": "e993b61f-042d-41a6-8c81-f55681f86335",
   "metadata": {
    "execution": {
     "iopub.execute_input": "2025-07-30T21:53:16.810754Z",
     "iopub.status.busy": "2025-07-30T21:53:16.810032Z",
     "iopub.status.idle": "2025-07-30T21:53:16.823246Z",
     "shell.execute_reply": "2025-07-30T21:53:16.822075Z"
    },
    "papermill": {
     "duration": 0.038326,
     "end_time": "2025-07-30T21:53:16.824865",
     "exception": false,
     "start_time": "2025-07-30T21:53:16.786539",
     "status": "completed"
    },
    "tags": []
   },
   "outputs": [],
   "source": [
    "def sample_by_year_size(df,\n",
    "                        training_year: str,\n",
    "                        training_size: str,\n",
    "                        random_state: int = 42):\n",
    "    # --- parse training_year into a list of int years ---\n",
    "    if \"_\" in training_year:\n",
    "        start_str, end_str = training_year.split(\"_\", 1)\n",
    "        start = int(start_str)\n",
    "        end   = int(end_str) if len(end_str) == 4 else (int(end_str) + (start // 100)*100)\n",
    "        years = list(range(start, end + 1))\n",
    "    else:\n",
    "        years = [int(training_year)]\n",
    "\n",
    "    df = df[df[\"year\"].isin(years)].reset_index(drop=True)\n",
    "\n",
    "    # --- map training_size to total number of samples ---\n",
    "    total_map = {\"25k\": 25_000, \"5k\": 5_000, \"1k\": 1_000}\n",
    "    if training_size not in total_map:\n",
    "        return df  # e.g. \"all\"\n",
    "\n",
    "    total_samples = total_map[training_size]\n",
    "    n_years       = len(years)\n",
    "    base          = total_samples // n_years\n",
    "    remainder     = total_samples % n_years\n",
    "\n",
    "    # --- build a dict: year -> how many to sample ---\n",
    "    # give +1 to the first `remainder` years in ascending order\n",
    "    quotas = {\n",
    "        year: base + (1 if idx < remainder else 0)\n",
    "        for idx, year in enumerate(sorted(years))\n",
    "    }\n",
    "\n",
    "    # --- sample per‐year according to the quota dict ---\n",
    "    sampled = (\n",
    "        df\n",
    "        .groupby(\"year\", group_keys=False)\n",
    "        .apply(lambda grp: grp.sample(\n",
    "            n=min(len(grp), quotas[grp.name]),\n",
    "            random_state=random_state))\n",
    "        .reset_index(drop=True)\n",
    "    )\n",
    "\n",
    "    return sampled"
   ]
  },
  {
   "cell_type": "code",
   "execution_count": 15,
   "id": "c0ccd338-0e02-41f3-a09d-f56f9266e3fb",
   "metadata": {
    "execution": {
     "iopub.execute_input": "2025-07-30T21:53:16.871413Z",
     "iopub.status.busy": "2025-07-30T21:53:16.870685Z",
     "iopub.status.idle": "2025-07-30T21:53:16.876210Z",
     "shell.execute_reply": "2025-07-30T21:53:16.875094Z"
    },
    "papermill": {
     "duration": 0.030658,
     "end_time": "2025-07-30T21:53:16.878077",
     "exception": false,
     "start_time": "2025-07-30T21:53:16.847419",
     "status": "completed"
    },
    "tags": []
   },
   "outputs": [],
   "source": [
    "#universe[\"training_size\"]"
   ]
  },
  {
   "cell_type": "code",
   "execution_count": 16,
   "id": "ca707fd7-8047-4acd-bfa5-66248fbbf8e6",
   "metadata": {
    "execution": {
     "iopub.execute_input": "2025-07-30T21:53:16.922287Z",
     "iopub.status.busy": "2025-07-30T21:53:16.921572Z",
     "iopub.status.idle": "2025-07-30T21:53:16.926953Z",
     "shell.execute_reply": "2025-07-30T21:53:16.925916Z"
    },
    "papermill": {
     "duration": 0.028907,
     "end_time": "2025-07-30T21:53:16.928603",
     "exception": false,
     "start_time": "2025-07-30T21:53:16.899696",
     "status": "completed"
    },
    "tags": []
   },
   "outputs": [],
   "source": [
    "#universe[\"training_year\"]"
   ]
  },
  {
   "cell_type": "code",
   "execution_count": 17,
   "id": "aea9c6ef-6f46-42c8-85eb-5a62025c1508",
   "metadata": {
    "execution": {
     "iopub.execute_input": "2025-07-30T21:53:16.976304Z",
     "iopub.status.busy": "2025-07-30T21:53:16.975562Z",
     "iopub.status.idle": "2025-07-30T21:53:17.950778Z",
     "shell.execute_reply": "2025-07-30T21:53:17.950010Z"
    },
    "papermill": {
     "duration": 0.9989,
     "end_time": "2025-07-30T21:53:17.952609",
     "exception": false,
     "start_time": "2025-07-30T21:53:16.953709",
     "status": "completed"
    },
    "tags": []
   },
   "outputs": [],
   "source": [
    "siab_train = sample_by_year_size(siab,\n",
    "                               training_year=universe[\"training_year\"],\n",
    "                               training_size=universe[\"training_size\"])"
   ]
  },
  {
   "cell_type": "code",
   "execution_count": 18,
   "id": "8d3afb32-789d-442c-8d5d-9f5aa8dd2eed",
   "metadata": {
    "execution": {
     "iopub.execute_input": "2025-07-30T21:53:17.996423Z",
     "iopub.status.busy": "2025-07-30T21:53:17.995833Z",
     "iopub.status.idle": "2025-07-30T21:53:18.001584Z",
     "shell.execute_reply": "2025-07-30T21:53:18.000583Z"
    },
    "papermill": {
     "duration": 0.02887,
     "end_time": "2025-07-30T21:53:18.003170",
     "exception": false,
     "start_time": "2025-07-30T21:53:17.974300",
     "status": "completed"
    },
    "tags": []
   },
   "outputs": [],
   "source": [
    "#siab_train.shape"
   ]
  },
  {
   "cell_type": "code",
   "execution_count": 19,
   "id": "d582db68-1a4c-47fb-84fc-08518dc1975a",
   "metadata": {
    "execution": {
     "iopub.execute_input": "2025-07-30T21:53:18.048186Z",
     "iopub.status.busy": "2025-07-30T21:53:18.047467Z",
     "iopub.status.idle": "2025-07-30T21:53:18.052751Z",
     "shell.execute_reply": "2025-07-30T21:53:18.051686Z"
    },
    "papermill": {
     "duration": 0.028973,
     "end_time": "2025-07-30T21:53:18.054261",
     "exception": false,
     "start_time": "2025-07-30T21:53:18.025288",
     "status": "completed"
    },
    "tags": []
   },
   "outputs": [],
   "source": [
    "#display(siab_train.groupby(\"year\").size())"
   ]
  },
  {
   "cell_type": "code",
   "execution_count": 20,
   "id": "a561edb4-d032-42cb-8256-22eac1111c64",
   "metadata": {
    "execution": {
     "iopub.execute_input": "2025-07-30T21:53:18.098777Z",
     "iopub.status.busy": "2025-07-30T21:53:18.098077Z",
     "iopub.status.idle": "2025-07-30T21:53:18.373434Z",
     "shell.execute_reply": "2025-07-30T21:53:18.372446Z"
    },
    "papermill": {
     "duration": 0.299424,
     "end_time": "2025-07-30T21:53:18.375396",
     "exception": false,
     "start_time": "2025-07-30T21:53:18.075972",
     "status": "completed"
    },
    "tags": []
   },
   "outputs": [],
   "source": [
    "#siab_train = siab_s[siab_s.year < 2015]\n",
    "siab_calib = siab[siab.year == 2015]\n",
    "siab_test = siab[siab.year == 2016]"
   ]
  },
  {
   "cell_type": "code",
   "execution_count": 21,
   "id": "472de16f-c3db-4916-846b-1f0de9cf1746",
   "metadata": {
    "execution": {
     "iopub.execute_input": "2025-07-30T21:53:18.419398Z",
     "iopub.status.busy": "2025-07-30T21:53:18.418693Z",
     "iopub.status.idle": "2025-07-30T21:53:18.426238Z",
     "shell.execute_reply": "2025-07-30T21:53:18.425279Z"
    },
    "papermill": {
     "duration": 0.03144,
     "end_time": "2025-07-30T21:53:18.428149",
     "exception": false,
     "start_time": "2025-07-30T21:53:18.396709",
     "status": "completed"
    },
    "tags": []
   },
   "outputs": [],
   "source": [
    "X_train = siab_train.iloc[:,4:164]\n",
    "y_train = siab_train.iloc[:, [3]]"
   ]
  },
  {
   "cell_type": "code",
   "execution_count": 22,
   "id": "828c96af-f43a-4ed6-ba47-8ac73a47d56c",
   "metadata": {
    "execution": {
     "iopub.execute_input": "2025-07-30T21:53:18.476779Z",
     "iopub.status.busy": "2025-07-30T21:53:18.475836Z",
     "iopub.status.idle": "2025-07-30T21:53:18.528827Z",
     "shell.execute_reply": "2025-07-30T21:53:18.527756Z"
    },
    "papermill": {
     "duration": 0.078815,
     "end_time": "2025-07-30T21:53:18.531077",
     "exception": false,
     "start_time": "2025-07-30T21:53:18.452262",
     "status": "completed"
    },
    "tags": []
   },
   "outputs": [],
   "source": [
    "X_calib = siab_calib.iloc[:,4:164]\n",
    "y_calib = siab_calib.iloc[:, [3]]"
   ]
  },
  {
   "cell_type": "code",
   "execution_count": 23,
   "id": "c34be9c3-6bd6-476e-acd3-845840e303be",
   "metadata": {
    "execution": {
     "iopub.execute_input": "2025-07-30T21:53:18.579898Z",
     "iopub.status.busy": "2025-07-30T21:53:18.578978Z",
     "iopub.status.idle": "2025-07-30T21:53:18.631493Z",
     "shell.execute_reply": "2025-07-30T21:53:18.630393Z"
    },
    "papermill": {
     "duration": 0.078301,
     "end_time": "2025-07-30T21:53:18.633453",
     "exception": false,
     "start_time": "2025-07-30T21:53:18.555152",
     "status": "completed"
    },
    "tags": []
   },
   "outputs": [],
   "source": [
    "X_test = siab_test.iloc[:,4:164]\n",
    "y_true = siab_test.iloc[:, [3]]"
   ]
  },
  {
   "cell_type": "markdown",
   "id": "9901737e-04df-44f0-9100-f5ad144ed040",
   "metadata": {
    "papermill": {
     "duration": 0.021548,
     "end_time": "2025-07-30T21:53:18.678198",
     "exception": false,
     "start_time": "2025-07-30T21:53:18.656650",
     "status": "completed"
    },
    "tags": []
   },
   "source": [
    "# Splitting Data and Setting Training Data Size OLD VERSION"
   ]
  },
  {
   "cell_type": "code",
   "execution_count": 24,
   "id": "acbc8f7d-8fc8-4e86-8c59-5dcb0f58384b",
   "metadata": {
    "execution": {
     "iopub.execute_input": "2025-07-30T21:53:18.723377Z",
     "iopub.status.busy": "2025-07-30T21:53:18.722576Z",
     "iopub.status.idle": "2025-07-30T21:53:18.728424Z",
     "shell.execute_reply": "2025-07-30T21:53:18.727456Z"
    },
    "papermill": {
     "duration": 0.029765,
     "end_time": "2025-07-30T21:53:18.730363",
     "exception": false,
     "start_time": "2025-07-30T21:53:18.700598",
     "status": "completed"
    },
    "tags": []
   },
   "outputs": [],
   "source": [
    "#def sample_by_year(df, training_size, random_state=42):\n",
    "#    if training_size == \"2014\":\n",
    "#        return df[df[\"year\"] == 2014].reset_index(drop=True)\n",
    "#    \n",
    "#    size_map = {\n",
    "#        \"25k\": 5000,\n",
    "#        \"5k\": 1000,\n",
    "#        \"1k\": 200\n",
    "#    }\n",
    "#\n",
    "#    if training_size not in size_map:\n",
    "#        return df.reset_index(drop=True)  # use all data\n",
    "#\n",
    "#    n_per_year = size_map[training_size]\n",
    "#    grouped = df.groupby(\"year\")\n",
    "#    sampled = grouped.apply(lambda x: x.sample(n=min(n_per_year, len(x)), random_state=random_state))\n",
    "#    return sampled.reset_index(drop=True)"
   ]
  },
  {
   "cell_type": "code",
   "execution_count": 25,
   "id": "6d931f52-beaf-43ff-9e78-9d44a448d54e",
   "metadata": {
    "execution": {
     "iopub.execute_input": "2025-07-30T21:53:18.772760Z",
     "iopub.status.busy": "2025-07-30T21:53:18.772025Z",
     "iopub.status.idle": "2025-07-30T21:53:18.777864Z",
     "shell.execute_reply": "2025-07-30T21:53:18.776807Z"
    },
    "papermill": {
     "duration": 0.025958,
     "end_time": "2025-07-30T21:53:18.779802",
     "exception": false,
     "start_time": "2025-07-30T21:53:18.753844",
     "status": "completed"
    },
    "tags": []
   },
   "outputs": [],
   "source": [
    "#siab_s = sample_by_year(siab, universe[\"training_size\"])"
   ]
  },
  {
   "cell_type": "code",
   "execution_count": 26,
   "id": "5db0a40e-a4e2-4920-be85-b12ae061d70d",
   "metadata": {
    "execution": {
     "iopub.execute_input": "2025-07-30T21:53:18.826788Z",
     "iopub.status.busy": "2025-07-30T21:53:18.826245Z",
     "iopub.status.idle": "2025-07-30T21:53:18.831575Z",
     "shell.execute_reply": "2025-07-30T21:53:18.830564Z"
    },
    "papermill": {
     "duration": 0.029914,
     "end_time": "2025-07-30T21:53:18.833360",
     "exception": false,
     "start_time": "2025-07-30T21:53:18.803446",
     "status": "completed"
    },
    "tags": []
   },
   "outputs": [],
   "source": [
    "#display(siab_s.groupby(\"year\").size())"
   ]
  },
  {
   "cell_type": "code",
   "execution_count": 27,
   "id": "e6c733c5",
   "metadata": {
    "execution": {
     "iopub.execute_input": "2025-07-30T21:53:18.880075Z",
     "iopub.status.busy": "2025-07-30T21:53:18.879121Z",
     "iopub.status.idle": "2025-07-30T21:53:18.977194Z",
     "shell.execute_reply": "2025-07-30T21:53:18.976338Z"
    },
    "papermill": {
     "duration": 0.122394,
     "end_time": "2025-07-30T21:53:18.979094",
     "exception": false,
     "start_time": "2025-07-30T21:53:18.856700",
     "status": "completed"
    },
    "tags": []
   },
   "outputs": [],
   "source": [
    "# Auxiliary data needed downstream in the pipeline\n",
    "\n",
    "org_train = X_train.copy()\n",
    "org_test = X_test.copy()\n",
    "org_calib = X_calib.copy()"
   ]
  },
  {
   "cell_type": "code",
   "execution_count": 28,
   "id": "1466abac-c6da-4492-a62f-4240ae3783af",
   "metadata": {
    "execution": {
     "iopub.execute_input": "2025-07-30T21:53:19.027597Z",
     "iopub.status.busy": "2025-07-30T21:53:19.026657Z",
     "iopub.status.idle": "2025-07-30T21:53:19.032306Z",
     "shell.execute_reply": "2025-07-30T21:53:19.031303Z"
    },
    "papermill": {
     "duration": 0.029982,
     "end_time": "2025-07-30T21:53:19.033883",
     "exception": false,
     "start_time": "2025-07-30T21:53:19.003901",
     "status": "completed"
    },
    "tags": []
   },
   "outputs": [],
   "source": [
    "# put in other script?\n",
    "# Group sizes\n",
    "\n",
    "#def calculate_percentages(df, df_name):\n",
    "#    total_entries = len(df)\n",
    "#\n",
    "#    female_pct = (df['frau1'] == 1).mean() * 100\n",
    "#    non_german_pct = ((df['maxdeutsch1'] == 0) & (df['maxdeutsch.Missing.'] == 0)).mean() * 100\n",
    "#    non_german_male_pct = ((df['frau1'] == 0) & (df['maxdeutsch1'] == 0) & (df['maxdeutsch.Missing.'] == 0)).mean() * 100\n",
    "#    non_german_female_pct = ((df['frau1'] == 1) & (df['maxdeutsch1'] == 0) & (df['maxdeutsch.Missing.'] == 0)).mean() * 100\n",
    "#\n",
    "#    print(f\"--- {df_name} ---\")\n",
    "#    print(f\"Female: {female_pct:.2f}%\")\n",
    "#    print(f\"Non-German: {non_german_pct:.2f}%\")\n",
    "#    print(f\"Non-German Male: {non_german_male_pct:.2f}%\")\n",
    "#    print(f\"Non-German Female: {non_german_female_pct:.2f}%\\n\")\n",
    "#\n",
    "## Calculate for each DataFrame\n",
    "#calculate_percentages(siab_calib, \"siab_calib\")\n",
    "#calculate_percentages(siab_test, \"siab_test\")\n",
    "#calculate_percentages(siab_train, \"siab_train\")"
   ]
  },
  {
   "cell_type": "markdown",
   "id": "0a4a1b33",
   "metadata": {
    "papermill": {
     "duration": 0.02199,
     "end_time": "2025-07-30T21:53:19.078834",
     "exception": false,
     "start_time": "2025-07-30T21:53:19.056844",
     "status": "completed"
    },
    "tags": []
   },
   "source": [
    "# Preprocessing Data"
   ]
  },
  {
   "cell_type": "code",
   "execution_count": 29,
   "id": "ca879031",
   "metadata": {
    "execution": {
     "iopub.execute_input": "2025-07-30T21:53:19.125550Z",
     "iopub.status.busy": "2025-07-30T21:53:19.124882Z",
     "iopub.status.idle": "2025-07-30T21:53:19.130904Z",
     "shell.execute_reply": "2025-07-30T21:53:19.129984Z"
    },
    "papermill": {
     "duration": 0.030864,
     "end_time": "2025-07-30T21:53:19.132589",
     "exception": false,
     "start_time": "2025-07-30T21:53:19.101725",
     "status": "completed"
    },
    "tags": []
   },
   "outputs": [],
   "source": [
    "# EXCLUDE PROTECTED FEATURES\n",
    "# ----------------------\n",
    "# \"exclude_features\": \"none\", # \"nationality\", \"sex\", \"nationality-sex\"\n",
    "\n",
    "excluded_features = universe[\"exclude_features\"].split(\"-\") # split, e.g.: \"nationality-sex\" -> [\"nationality\", \"sex\"]\n",
    "excluded_features_dictionary = {\n",
    "    \"nationality\": [\"maxdeutsch1\", \"maxdeutsch.Missing.\"],\n",
    "    \"sex\": [\"frau1\"],\n",
    "    \"age\": [\"age\"],\n",
    "}\n"
   ]
  },
  {
   "cell_type": "code",
   "execution_count": 30,
   "id": "b745ac60",
   "metadata": {
    "execution": {
     "iopub.execute_input": "2025-07-30T21:53:19.180557Z",
     "iopub.status.busy": "2025-07-30T21:53:19.179648Z",
     "iopub.status.idle": "2025-07-30T21:53:19.185941Z",
     "shell.execute_reply": "2025-07-30T21:53:19.184991Z"
    },
    "papermill": {
     "duration": 0.033218,
     "end_time": "2025-07-30T21:53:19.187582",
     "exception": false,
     "start_time": "2025-07-30T21:53:19.154364",
     "status": "completed"
    },
    "tags": []
   },
   "outputs": [],
   "source": [
    "# Code nice names to column names\n",
    "\n",
    "excluded_features_columns = [\n",
    "    excluded_features_dictionary[f] for f in excluded_features if len(f) > 0 and f != \"none\"\n",
    "]"
   ]
  },
  {
   "cell_type": "code",
   "execution_count": 31,
   "id": "f84f73a2",
   "metadata": {
    "execution": {
     "iopub.execute_input": "2025-07-30T21:53:19.235001Z",
     "iopub.status.busy": "2025-07-30T21:53:19.234305Z",
     "iopub.status.idle": "2025-07-30T21:53:19.242167Z",
     "shell.execute_reply": "2025-07-30T21:53:19.240996Z"
    },
    "papermill": {
     "duration": 0.032797,
     "end_time": "2025-07-30T21:53:19.244088",
     "exception": false,
     "start_time": "2025-07-30T21:53:19.211291",
     "status": "completed"
    },
    "tags": []
   },
   "outputs": [],
   "source": [
    "from utils import flatten_once\n",
    "\n",
    "excluded_features_columns = flatten_once(excluded_features_columns)"
   ]
  },
  {
   "cell_type": "code",
   "execution_count": 32,
   "id": "884dea22",
   "metadata": {
    "execution": {
     "iopub.execute_input": "2025-07-30T21:53:19.290577Z",
     "iopub.status.busy": "2025-07-30T21:53:19.290058Z",
     "iopub.status.idle": "2025-07-30T21:53:19.296065Z",
     "shell.execute_reply": "2025-07-30T21:53:19.295018Z"
    },
    "papermill": {
     "duration": 0.029868,
     "end_time": "2025-07-30T21:53:19.297646",
     "exception": false,
     "start_time": "2025-07-30T21:53:19.267778",
     "status": "completed"
    },
    "tags": []
   },
   "outputs": [],
   "source": [
    "if len(excluded_features_columns) > 0:\n",
    "    print(f\"Dropping features: {excluded_features_columns}\")\n",
    "    X_train.drop(excluded_features_columns, axis=1, inplace=True)"
   ]
  },
  {
   "cell_type": "code",
   "execution_count": 33,
   "id": "95ab8b16",
   "metadata": {
    "execution": {
     "iopub.execute_input": "2025-07-30T21:53:19.345668Z",
     "iopub.status.busy": "2025-07-30T21:53:19.345247Z",
     "iopub.status.idle": "2025-07-30T21:53:19.351402Z",
     "shell.execute_reply": "2025-07-30T21:53:19.350388Z"
    },
    "papermill": {
     "duration": 0.031869,
     "end_time": "2025-07-30T21:53:19.353218",
     "exception": false,
     "start_time": "2025-07-30T21:53:19.321349",
     "status": "completed"
    },
    "tags": []
   },
   "outputs": [],
   "source": [
    "if len(excluded_features_columns) > 0:\n",
    "    print(f\"Dropping features: {excluded_features_columns}\")\n",
    "    X_test.drop(excluded_features_columns, axis=1, inplace=True)"
   ]
  },
  {
   "cell_type": "code",
   "execution_count": 34,
   "id": "1853aaf5-fb9f-46cb-a2b5-8ea4ae2237e4",
   "metadata": {
    "execution": {
     "iopub.execute_input": "2025-07-30T21:53:19.401080Z",
     "iopub.status.busy": "2025-07-30T21:53:19.400346Z",
     "iopub.status.idle": "2025-07-30T21:53:19.406573Z",
     "shell.execute_reply": "2025-07-30T21:53:19.405480Z"
    },
    "papermill": {
     "duration": 0.032011,
     "end_time": "2025-07-30T21:53:19.408294",
     "exception": false,
     "start_time": "2025-07-30T21:53:19.376283",
     "status": "completed"
    },
    "tags": []
   },
   "outputs": [],
   "source": [
    "if len(excluded_features_columns) > 0:\n",
    "    print(f\"Dropping features: {excluded_features_columns}\")\n",
    "    X_calib.drop(excluded_features_columns, axis=1, inplace=True)"
   ]
  },
  {
   "cell_type": "code",
   "execution_count": 35,
   "id": "6727d079-03e5-481e-9d38-292a90b7a0a8",
   "metadata": {
    "execution": {
     "iopub.execute_input": "2025-07-30T21:53:19.454939Z",
     "iopub.status.busy": "2025-07-30T21:53:19.454225Z",
     "iopub.status.idle": "2025-07-30T21:53:19.459480Z",
     "shell.execute_reply": "2025-07-30T21:53:19.458449Z"
    },
    "papermill": {
     "duration": 0.02963,
     "end_time": "2025-07-30T21:53:19.461241",
     "exception": false,
     "start_time": "2025-07-30T21:53:19.431611",
     "status": "completed"
    },
    "tags": []
   },
   "outputs": [],
   "source": [
    "# SPLIT & STRATIFY DATA\n",
    "# ----------------------"
   ]
  },
  {
   "cell_type": "code",
   "execution_count": 36,
   "id": "76c4dc6d",
   "metadata": {
    "execution": {
     "iopub.execute_input": "2025-07-30T21:53:19.507920Z",
     "iopub.status.busy": "2025-07-30T21:53:19.507419Z",
     "iopub.status.idle": "2025-07-30T21:53:19.513206Z",
     "shell.execute_reply": "2025-07-30T21:53:19.512326Z"
    },
    "papermill": {
     "duration": 0.030224,
     "end_time": "2025-07-30T21:53:19.514882",
     "exception": false,
     "start_time": "2025-07-30T21:53:19.484658",
     "status": "completed"
    },
    "tags": []
   },
   "outputs": [],
   "source": [
    "# EXCLUDE CERTAIN SUBGROUPS\n",
    "# ----------------------\n",
    "\n",
    "mode = universe.get(\"exclude_subgroups\", \"keep-all\") \n",
    "# Fetches the exclude_subgroups setting from the universe dict.\n",
    "# Defaults to \"keep-all\" if the key is missing."
   ]
  },
  {
   "cell_type": "code",
   "execution_count": 37,
   "id": "21994072",
   "metadata": {
    "execution": {
     "iopub.execute_input": "2025-07-30T21:53:19.562104Z",
     "iopub.status.busy": "2025-07-30T21:53:19.561600Z",
     "iopub.status.idle": "2025-07-30T21:53:19.568812Z",
     "shell.execute_reply": "2025-07-30T21:53:19.567747Z"
    },
    "papermill": {
     "duration": 0.032358,
     "end_time": "2025-07-30T21:53:19.570382",
     "exception": false,
     "start_time": "2025-07-30T21:53:19.538024",
     "status": "completed"
    },
    "tags": []
   },
   "outputs": [],
   "source": [
    "if mode == \"keep-all\":\n",
    "    keep_mask = pd.Series(True, index=org_train.index)\n",
    "\n",
    "# org_train contains the original feature columns from features_org (in Simson)\n",
    "# features_org contains unprocessed features, for me X_train at beginning ???\n",
    "# For keep-all, creates a boolean Series (keep_mask) of all True, so no rows are removed.\n",
    "\n",
    "elif mode == \"drop-non-german\":\n",
    "    keep_mask = org_train[\"maxdeutsch1\"] == 1 # ??? what about missing values?\n",
    "\n",
    "else:\n",
    "    raise ValueError(f\"Unsupported mode for exclude_subgroups: {mode}\")\n"
   ]
  },
  {
   "cell_type": "code",
   "execution_count": 38,
   "id": "71651440",
   "metadata": {
    "execution": {
     "iopub.execute_input": "2025-07-30T21:53:19.617172Z",
     "iopub.status.busy": "2025-07-30T21:53:19.616461Z",
     "iopub.status.idle": "2025-07-30T21:53:19.624318Z",
     "shell.execute_reply": "2025-07-30T21:53:19.623236Z"
    },
    "papermill": {
     "duration": 0.033417,
     "end_time": "2025-07-30T21:53:19.626271",
     "exception": false,
     "start_time": "2025-07-30T21:53:19.592854",
     "status": "completed"
    },
    "tags": []
   },
   "outputs": [],
   "source": [
    "n_drop = (~keep_mask).sum() # Calculates how many rows are set to be dropped\n",
    "if n_drop > 0:\n",
    "    pct = n_drop / len(keep_mask) * 100\n",
    "    print(f\"Dropping {n_drop} rows ({pct:.2f}%) where mode='{mode}'\")"
   ]
  },
  {
   "cell_type": "code",
   "execution_count": 39,
   "id": "5fb8eee5",
   "metadata": {
    "execution": {
     "iopub.execute_input": "2025-07-30T21:53:19.672564Z",
     "iopub.status.busy": "2025-07-30T21:53:19.672056Z",
     "iopub.status.idle": "2025-07-30T21:53:19.678571Z",
     "shell.execute_reply": "2025-07-30T21:53:19.677614Z"
    },
    "papermill": {
     "duration": 0.031061,
     "end_time": "2025-07-30T21:53:19.680139",
     "exception": false,
     "start_time": "2025-07-30T21:53:19.649078",
     "status": "completed"
    },
    "tags": []
   },
   "outputs": [],
   "source": [
    "X_train = X_train[keep_mask]"
   ]
  },
  {
   "cell_type": "code",
   "execution_count": 40,
   "id": "b202bb3a",
   "metadata": {
    "execution": {
     "iopub.execute_input": "2025-07-30T21:53:19.726998Z",
     "iopub.status.busy": "2025-07-30T21:53:19.726492Z",
     "iopub.status.idle": "2025-07-30T21:53:19.733102Z",
     "shell.execute_reply": "2025-07-30T21:53:19.732022Z"
    },
    "papermill": {
     "duration": 0.031366,
     "end_time": "2025-07-30T21:53:19.735019",
     "exception": false,
     "start_time": "2025-07-30T21:53:19.703653",
     "status": "completed"
    },
    "tags": []
   },
   "outputs": [],
   "source": [
    "y_train = y_train[keep_mask]"
   ]
  },
  {
   "cell_type": "markdown",
   "id": "493e2ac3",
   "metadata": {
    "papermill": {
     "duration": 0.021411,
     "end_time": "2025-07-30T21:53:19.780349",
     "exception": false,
     "start_time": "2025-07-30T21:53:19.758938",
     "status": "completed"
    },
    "tags": []
   },
   "source": [
    "# Model Training"
   ]
  },
  {
   "cell_type": "code",
   "execution_count": 41,
   "id": "679e1268",
   "metadata": {
    "execution": {
     "iopub.execute_input": "2025-07-30T21:53:19.826774Z",
     "iopub.status.busy": "2025-07-30T21:53:19.826063Z",
     "iopub.status.idle": "2025-07-30T21:53:19.932856Z",
     "shell.execute_reply": "2025-07-30T21:53:19.931823Z"
    },
    "papermill": {
     "duration": 0.132528,
     "end_time": "2025-07-30T21:53:19.934759",
     "exception": false,
     "start_time": "2025-07-30T21:53:19.802231",
     "status": "completed"
    },
    "tags": []
   },
   "outputs": [],
   "source": [
    "from sklearn.linear_model import LogisticRegression\n",
    "from sklearn.ensemble import GradientBoostingClassifier, RandomForestClassifier\n",
    "\n",
    "if (universe[\"model\"] == \"logreg\"):\n",
    "    model = LogisticRegression() #penalty=\"none\") #, solver=\"newton-cg\", max_iter=1) # include random_state=19 ?\n",
    "elif (universe[\"model\"] == \"penalized_logreg\"):\n",
    "    model = LogisticRegression(penalty=\"l2\", C=1.0) #, solver=\"newton-cg\", max_iter=1)\n",
    "elif (universe[\"model\"] == \"rf\"):\n",
    "    model = RandomForestClassifier(n_estimators=100, n_jobs=-1)\n",
    "elif (universe[\"model\"] == \"gbm\"):\n",
    "    model = GradientBoostingClassifier()\n",
    "elif (universe[\"model\"] == \"elasticnet\"):\n",
    "    model = LogisticRegression(penalty = 'elasticnet', solver = 'saga', l1_ratio = 0.5, max_iter=5000) # which solver to use?\n",
    "else:\n",
    "    raise \"Unsupported universe.model\""
   ]
  },
  {
   "cell_type": "code",
   "execution_count": 42,
   "id": "0cc8f744",
   "metadata": {
    "execution": {
     "iopub.execute_input": "2025-07-30T21:53:19.982936Z",
     "iopub.status.busy": "2025-07-30T21:53:19.982228Z",
     "iopub.status.idle": "2025-07-30T21:53:19.988928Z",
     "shell.execute_reply": "2025-07-30T21:53:19.987900Z"
    },
    "papermill": {
     "duration": 0.032085,
     "end_time": "2025-07-30T21:53:19.990694",
     "exception": false,
     "start_time": "2025-07-30T21:53:19.958609",
     "status": "completed"
    },
    "tags": []
   },
   "outputs": [],
   "source": [
    "import numpy as np\n",
    "from sklearn.pipeline import Pipeline\n",
    "from sklearn.preprocessing import StandardScaler\n",
    "\n",
    "model = Pipeline([\n",
    "    #(\"continuous_processor\", continuous_processor),\n",
    "    #(\"categorical_preprocessor\", categorical_preprocessor),\n",
    "    (\"scale\", StandardScaler() if universe[\"scale\"] == \"scale\" else None), \n",
    "    (\"model\", model),\n",
    "])"
   ]
  },
  {
   "cell_type": "code",
   "execution_count": 43,
   "id": "9442c04d",
   "metadata": {
    "execution": {
     "iopub.execute_input": "2025-07-30T21:53:20.038207Z",
     "iopub.status.busy": "2025-07-30T21:53:20.037503Z",
     "iopub.status.idle": "2025-07-30T21:53:40.135929Z",
     "shell.execute_reply": "2025-07-30T21:53:40.134970Z"
    },
    "papermill": {
     "duration": 20.123777,
     "end_time": "2025-07-30T21:53:40.137521",
     "exception": false,
     "start_time": "2025-07-30T21:53:20.013744",
     "status": "completed"
    },
    "tags": []
   },
   "outputs": [
    {
     "name": "stderr",
     "output_type": "stream",
     "text": [
      "/dss/dsshome1/0C/ra93lal2/.local/share/virtualenvs/CMA_Fairness_v2-3j10GkSs/lib/python3.10/site-packages/sklearn/linear_model/_sag.py:350: ConvergenceWarning: The max_iter was reached which means the coef_ did not converge\n",
      "  warnings.warn(\n"
     ]
    },
    {
     "data": {
      "text/html": [
       "<style>#sk-container-id-1 {color: black;background-color: white;}#sk-container-id-1 pre{padding: 0;}#sk-container-id-1 div.sk-toggleable {background-color: white;}#sk-container-id-1 label.sk-toggleable__label {cursor: pointer;display: block;width: 100%;margin-bottom: 0;padding: 0.3em;box-sizing: border-box;text-align: center;}#sk-container-id-1 label.sk-toggleable__label-arrow:before {content: \"▸\";float: left;margin-right: 0.25em;color: #696969;}#sk-container-id-1 label.sk-toggleable__label-arrow:hover:before {color: black;}#sk-container-id-1 div.sk-estimator:hover label.sk-toggleable__label-arrow:before {color: black;}#sk-container-id-1 div.sk-toggleable__content {max-height: 0;max-width: 0;overflow: hidden;text-align: left;background-color: #f0f8ff;}#sk-container-id-1 div.sk-toggleable__content pre {margin: 0.2em;color: black;border-radius: 0.25em;background-color: #f0f8ff;}#sk-container-id-1 input.sk-toggleable__control:checked~div.sk-toggleable__content {max-height: 200px;max-width: 100%;overflow: auto;}#sk-container-id-1 input.sk-toggleable__control:checked~label.sk-toggleable__label-arrow:before {content: \"▾\";}#sk-container-id-1 div.sk-estimator input.sk-toggleable__control:checked~label.sk-toggleable__label {background-color: #d4ebff;}#sk-container-id-1 div.sk-label input.sk-toggleable__control:checked~label.sk-toggleable__label {background-color: #d4ebff;}#sk-container-id-1 input.sk-hidden--visually {border: 0;clip: rect(1px 1px 1px 1px);clip: rect(1px, 1px, 1px, 1px);height: 1px;margin: -1px;overflow: hidden;padding: 0;position: absolute;width: 1px;}#sk-container-id-1 div.sk-estimator {font-family: monospace;background-color: #f0f8ff;border: 1px dotted black;border-radius: 0.25em;box-sizing: border-box;margin-bottom: 0.5em;}#sk-container-id-1 div.sk-estimator:hover {background-color: #d4ebff;}#sk-container-id-1 div.sk-parallel-item::after {content: \"\";width: 100%;border-bottom: 1px solid gray;flex-grow: 1;}#sk-container-id-1 div.sk-label:hover label.sk-toggleable__label {background-color: #d4ebff;}#sk-container-id-1 div.sk-serial::before {content: \"\";position: absolute;border-left: 1px solid gray;box-sizing: border-box;top: 0;bottom: 0;left: 50%;z-index: 0;}#sk-container-id-1 div.sk-serial {display: flex;flex-direction: column;align-items: center;background-color: white;padding-right: 0.2em;padding-left: 0.2em;position: relative;}#sk-container-id-1 div.sk-item {position: relative;z-index: 1;}#sk-container-id-1 div.sk-parallel {display: flex;align-items: stretch;justify-content: center;background-color: white;position: relative;}#sk-container-id-1 div.sk-item::before, #sk-container-id-1 div.sk-parallel-item::before {content: \"\";position: absolute;border-left: 1px solid gray;box-sizing: border-box;top: 0;bottom: 0;left: 50%;z-index: -1;}#sk-container-id-1 div.sk-parallel-item {display: flex;flex-direction: column;z-index: 1;position: relative;background-color: white;}#sk-container-id-1 div.sk-parallel-item:first-child::after {align-self: flex-end;width: 50%;}#sk-container-id-1 div.sk-parallel-item:last-child::after {align-self: flex-start;width: 50%;}#sk-container-id-1 div.sk-parallel-item:only-child::after {width: 0;}#sk-container-id-1 div.sk-dashed-wrapped {border: 1px dashed gray;margin: 0 0.4em 0.5em 0.4em;box-sizing: border-box;padding-bottom: 0.4em;background-color: white;}#sk-container-id-1 div.sk-label label {font-family: monospace;font-weight: bold;display: inline-block;line-height: 1.2em;}#sk-container-id-1 div.sk-label-container {text-align: center;}#sk-container-id-1 div.sk-container {/* jupyter's `normalize.less` sets `[hidden] { display: none; }` but bootstrap.min.css set `[hidden] { display: none !important; }` so we also need the `!important` here to be able to override the default hidden behavior on the sphinx rendered scikit-learn.org. See: https://github.com/scikit-learn/scikit-learn/issues/21755 */display: inline-block !important;position: relative;}#sk-container-id-1 div.sk-text-repr-fallback {display: none;}</style><div id=\"sk-container-id-1\" class=\"sk-top-container\"><div class=\"sk-text-repr-fallback\"><pre>Pipeline(steps=[(&#x27;scale&#x27;, None),\n",
       "                (&#x27;model&#x27;,\n",
       "                 LogisticRegression(l1_ratio=0.5, max_iter=5000,\n",
       "                                    penalty=&#x27;elasticnet&#x27;, solver=&#x27;saga&#x27;))])</pre><b>In a Jupyter environment, please rerun this cell to show the HTML representation or trust the notebook. <br />On GitHub, the HTML representation is unable to render, please try loading this page with nbviewer.org.</b></div><div class=\"sk-container\" hidden><div class=\"sk-item sk-dashed-wrapped\"><div class=\"sk-label-container\"><div class=\"sk-label sk-toggleable\"><input class=\"sk-toggleable__control sk-hidden--visually\" id=\"sk-estimator-id-1\" type=\"checkbox\" ><label for=\"sk-estimator-id-1\" class=\"sk-toggleable__label sk-toggleable__label-arrow\">Pipeline</label><div class=\"sk-toggleable__content\"><pre>Pipeline(steps=[(&#x27;scale&#x27;, None),\n",
       "                (&#x27;model&#x27;,\n",
       "                 LogisticRegression(l1_ratio=0.5, max_iter=5000,\n",
       "                                    penalty=&#x27;elasticnet&#x27;, solver=&#x27;saga&#x27;))])</pre></div></div></div><div class=\"sk-serial\"><div class=\"sk-item\"><div class=\"sk-estimator sk-toggleable\"><input class=\"sk-toggleable__control sk-hidden--visually\" id=\"sk-estimator-id-2\" type=\"checkbox\" ><label for=\"sk-estimator-id-2\" class=\"sk-toggleable__label sk-toggleable__label-arrow\">None</label><div class=\"sk-toggleable__content\"><pre>None</pre></div></div></div><div class=\"sk-item\"><div class=\"sk-estimator sk-toggleable\"><input class=\"sk-toggleable__control sk-hidden--visually\" id=\"sk-estimator-id-3\" type=\"checkbox\" ><label for=\"sk-estimator-id-3\" class=\"sk-toggleable__label sk-toggleable__label-arrow\">LogisticRegression</label><div class=\"sk-toggleable__content\"><pre>LogisticRegression(l1_ratio=0.5, max_iter=5000, penalty=&#x27;elasticnet&#x27;,\n",
       "                   solver=&#x27;saga&#x27;)</pre></div></div></div></div></div></div></div>"
      ],
      "text/plain": [
       "Pipeline(steps=[('scale', None),\n",
       "                ('model',\n",
       "                 LogisticRegression(l1_ratio=0.5, max_iter=5000,\n",
       "                                    penalty='elasticnet', solver='saga'))])"
      ]
     },
     "execution_count": 43,
     "metadata": {},
     "output_type": "execute_result"
    }
   ],
   "source": [
    "model.fit(X_train, y_train.values.ravel())"
   ]
  },
  {
   "cell_type": "code",
   "execution_count": 44,
   "id": "af59f8c0",
   "metadata": {
    "execution": {
     "iopub.execute_input": "2025-07-30T21:53:40.184648Z",
     "iopub.status.busy": "2025-07-30T21:53:40.183799Z",
     "iopub.status.idle": "2025-07-30T21:53:40.189184Z",
     "shell.execute_reply": "2025-07-30T21:53:40.188243Z"
    },
    "papermill": {
     "duration": 0.02914,
     "end_time": "2025-07-30T21:53:40.190944",
     "exception": false,
     "start_time": "2025-07-30T21:53:40.161804",
     "status": "completed"
    },
    "tags": []
   },
   "outputs": [],
   "source": [
    "from fairness_multiverse.universe import predict_w_threshold"
   ]
  },
  {
   "cell_type": "code",
   "execution_count": 45,
   "id": "a7cf2e16",
   "metadata": {
    "execution": {
     "iopub.execute_input": "2025-07-30T21:53:40.234559Z",
     "iopub.status.busy": "2025-07-30T21:53:40.234195Z",
     "iopub.status.idle": "2025-07-30T21:53:40.333381Z",
     "shell.execute_reply": "2025-07-30T21:53:40.332519Z"
    },
    "papermill": {
     "duration": 0.122387,
     "end_time": "2025-07-30T21:53:40.335074",
     "exception": false,
     "start_time": "2025-07-30T21:53:40.212687",
     "status": "completed"
    },
    "tags": []
   },
   "outputs": [
    {
     "data": {
      "text/plain": [
       "0.8623899230854977"
      ]
     },
     "execution_count": 45,
     "metadata": {},
     "output_type": "execute_result"
    }
   ],
   "source": [
    "probs_test = model.predict_proba(X_test)\n",
    "\n",
    "'''\n",
    "Below code returns a boolean array (or binary 0/1 array depending on how it’s used) where each element \n",
    "is True if the probability of class 1 is greater than or equal to the threshold, and False otherwise.\n",
    "'''\n",
    "y_pred_default = predict_w_threshold(probs_test, 0.5)\n",
    "\n",
    "from sklearn.metrics import accuracy_score\n",
    "\n",
    "# Naive prediction\n",
    "accuracy_score(y_true = y_true, y_pred = y_pred_default)"
   ]
  },
  {
   "cell_type": "code",
   "execution_count": 46,
   "id": "081964c3",
   "metadata": {
    "execution": {
     "iopub.execute_input": "2025-07-30T21:53:40.379859Z",
     "iopub.status.busy": "2025-07-30T21:53:40.379146Z",
     "iopub.status.idle": "2025-07-30T21:53:40.460053Z",
     "shell.execute_reply": "2025-07-30T21:53:40.459155Z"
    },
    "papermill": {
     "duration": 0.10435,
     "end_time": "2025-07-30T21:53:40.461573",
     "exception": false,
     "start_time": "2025-07-30T21:53:40.357223",
     "status": "completed"
    },
    "tags": []
   },
   "outputs": [
    {
     "data": {
      "text/plain": [
       "array([0, 0, 0, ..., 0, 0, 0])"
      ]
     },
     "execution_count": 46,
     "metadata": {},
     "output_type": "execute_result"
    }
   ],
   "source": [
    "model.predict(X_test)"
   ]
  },
  {
   "cell_type": "markdown",
   "id": "56c9705b",
   "metadata": {
    "papermill": {
     "duration": 0.021226,
     "end_time": "2025-07-30T21:53:40.504950",
     "exception": false,
     "start_time": "2025-07-30T21:53:40.483724",
     "status": "completed"
    },
    "tags": []
   },
   "source": [
    "# Conformal Prediction"
   ]
  },
  {
   "cell_type": "code",
   "execution_count": 47,
   "id": "160ec6ff",
   "metadata": {
    "execution": {
     "iopub.execute_input": "2025-07-30T21:53:40.549154Z",
     "iopub.status.busy": "2025-07-30T21:53:40.548432Z",
     "iopub.status.idle": "2025-07-30T21:53:40.553454Z",
     "shell.execute_reply": "2025-07-30T21:53:40.552526Z"
    },
    "papermill": {
     "duration": 0.02891,
     "end_time": "2025-07-30T21:53:40.555133",
     "exception": false,
     "start_time": "2025-07-30T21:53:40.526223",
     "status": "completed"
    },
    "tags": []
   },
   "outputs": [],
   "source": [
    "# Miscoverage level for conformal prediction (10% allowed error rate => 90% target coverage)\n",
    "alpha = 0.1"
   ]
  },
  {
   "cell_type": "code",
   "execution_count": 48,
   "id": "eadf4555-3dd3-440e-8e35-f82a4ad9f855",
   "metadata": {
    "execution": {
     "iopub.execute_input": "2025-07-30T21:53:40.599622Z",
     "iopub.status.busy": "2025-07-30T21:53:40.599257Z",
     "iopub.status.idle": "2025-07-30T21:53:40.681525Z",
     "shell.execute_reply": "2025-07-30T21:53:40.680599Z"
    },
    "papermill": {
     "duration": 0.106212,
     "end_time": "2025-07-30T21:53:40.683295",
     "exception": false,
     "start_time": "2025-07-30T21:53:40.577083",
     "status": "completed"
    },
    "tags": []
   },
   "outputs": [],
   "source": [
    "probs_calib = model.predict_proba(X_calib)"
   ]
  },
  {
   "cell_type": "code",
   "execution_count": 49,
   "id": "2ed93547-6d5d-4983-9b36-1ecb300da49a",
   "metadata": {
    "execution": {
     "iopub.execute_input": "2025-07-30T21:53:40.728617Z",
     "iopub.status.busy": "2025-07-30T21:53:40.727934Z",
     "iopub.status.idle": "2025-07-30T21:53:40.732948Z",
     "shell.execute_reply": "2025-07-30T21:53:40.732064Z"
    },
    "papermill": {
     "duration": 0.028587,
     "end_time": "2025-07-30T21:53:40.734428",
     "exception": false,
     "start_time": "2025-07-30T21:53:40.705841",
     "status": "completed"
    },
    "tags": []
   },
   "outputs": [],
   "source": [
    "y_calib = y_calib.values.ravel().astype(int)"
   ]
  },
  {
   "cell_type": "code",
   "execution_count": 50,
   "id": "65d1320d-f588-4b38-9072-62af1ae97f7d",
   "metadata": {
    "execution": {
     "iopub.execute_input": "2025-07-30T21:53:40.779872Z",
     "iopub.status.busy": "2025-07-30T21:53:40.779179Z",
     "iopub.status.idle": "2025-07-30T21:53:40.785879Z",
     "shell.execute_reply": "2025-07-30T21:53:40.785037Z"
    },
    "papermill": {
     "duration": 0.030417,
     "end_time": "2025-07-30T21:53:40.787377",
     "exception": false,
     "start_time": "2025-07-30T21:53:40.756960",
     "status": "completed"
    },
    "tags": []
   },
   "outputs": [],
   "source": [
    "from fairness_multiverse.conformal import compute_nc_scores\n",
    "\n",
    "# Compute nonconformity scores on calibration set (1 - probability of true class)\n",
    "nc_scores = compute_nc_scores(probs_calib, y_calib)"
   ]
  },
  {
   "cell_type": "code",
   "execution_count": 51,
   "id": "df3b8ca3-53b7-43d5-9667-7c85da7aeda2",
   "metadata": {
    "execution": {
     "iopub.execute_input": "2025-07-30T21:53:40.832348Z",
     "iopub.status.busy": "2025-07-30T21:53:40.831754Z",
     "iopub.status.idle": "2025-07-30T21:53:40.837707Z",
     "shell.execute_reply": "2025-07-30T21:53:40.836857Z"
    },
    "papermill": {
     "duration": 0.029457,
     "end_time": "2025-07-30T21:53:40.839131",
     "exception": false,
     "start_time": "2025-07-30T21:53:40.809674",
     "status": "completed"
    },
    "tags": []
   },
   "outputs": [],
   "source": [
    "from fairness_multiverse.conformal import find_threshold\n",
    "\n",
    "# Find conformal threshold q_hat for the given alpha (split conformal method)\n",
    "q_hat = find_threshold(nc_scores, alpha)"
   ]
  },
  {
   "cell_type": "code",
   "execution_count": 52,
   "id": "4d29e6c1-0ef6-4aa4-b8fe-4fe79b0d033a",
   "metadata": {
    "execution": {
     "iopub.execute_input": "2025-07-30T21:53:40.884186Z",
     "iopub.status.busy": "2025-07-30T21:53:40.883461Z",
     "iopub.status.idle": "2025-07-30T21:53:40.890040Z",
     "shell.execute_reply": "2025-07-30T21:53:40.889176Z"
    },
    "papermill": {
     "duration": 0.030209,
     "end_time": "2025-07-30T21:53:40.891577",
     "exception": false,
     "start_time": "2025-07-30T21:53:40.861368",
     "status": "completed"
    },
    "tags": []
   },
   "outputs": [
    {
     "data": {
      "text/plain": [
       "0.6915569082063335"
      ]
     },
     "execution_count": 52,
     "metadata": {},
     "output_type": "execute_result"
    }
   ],
   "source": [
    "q_hat"
   ]
  },
  {
   "cell_type": "code",
   "execution_count": 53,
   "id": "92460794-cdac-4be2-ba28-f28c0515a6fb",
   "metadata": {
    "execution": {
     "iopub.execute_input": "2025-07-30T21:53:40.937035Z",
     "iopub.status.busy": "2025-07-30T21:53:40.936318Z",
     "iopub.status.idle": "2025-07-30T21:53:41.673167Z",
     "shell.execute_reply": "2025-07-30T21:53:41.672285Z"
    },
    "papermill": {
     "duration": 0.760879,
     "end_time": "2025-07-30T21:53:41.674874",
     "exception": false,
     "start_time": "2025-07-30T21:53:40.913995",
     "status": "completed"
    },
    "tags": []
   },
   "outputs": [],
   "source": [
    "from fairness_multiverse.conformal import predict_conformal_sets\n",
    "\n",
    "# Generate prediction sets for each test example\n",
    "pred_sets = predict_conformal_sets(model, X_test, q_hat)"
   ]
  },
  {
   "cell_type": "code",
   "execution_count": 54,
   "id": "d90c9a65-e6db-4f5d-80cd-e68fb7e46829",
   "metadata": {
    "execution": {
     "iopub.execute_input": "2025-07-30T21:53:41.723684Z",
     "iopub.status.busy": "2025-07-30T21:53:41.722970Z",
     "iopub.status.idle": "2025-07-30T21:53:41.728086Z",
     "shell.execute_reply": "2025-07-30T21:53:41.727108Z"
    },
    "papermill": {
     "duration": 0.029402,
     "end_time": "2025-07-30T21:53:41.729674",
     "exception": false,
     "start_time": "2025-07-30T21:53:41.700272",
     "status": "completed"
    },
    "tags": []
   },
   "outputs": [],
   "source": [
    "y_true = y_true.squeeze()"
   ]
  },
  {
   "cell_type": "code",
   "execution_count": 55,
   "id": "3a58a54a-1e68-46b9-927a-df01f18aebc8",
   "metadata": {
    "execution": {
     "iopub.execute_input": "2025-07-30T21:53:41.784933Z",
     "iopub.status.busy": "2025-07-30T21:53:41.784596Z",
     "iopub.status.idle": "2025-07-30T21:53:42.455234Z",
     "shell.execute_reply": "2025-07-30T21:53:42.454408Z"
    },
    "papermill": {
     "duration": 0.704522,
     "end_time": "2025-07-30T21:53:42.456694",
     "exception": false,
     "start_time": "2025-07-30T21:53:41.752172",
     "status": "completed"
    },
    "tags": []
   },
   "outputs": [],
   "source": [
    "from fairness_multiverse.conformal import evaluate_sets\n",
    "\n",
    "# Evaluate coverage and average set size on test data\n",
    "metrics = evaluate_sets(pred_sets, y_true)"
   ]
  },
  {
   "cell_type": "markdown",
   "id": "2b569c12-9aaa-4c88-98c9-bbcd0cf3ebb8",
   "metadata": {
    "papermill": {
     "duration": 0.012082,
     "end_time": "2025-07-30T21:53:42.483831",
     "exception": false,
     "start_time": "2025-07-30T21:53:42.471749",
     "status": "completed"
    },
    "tags": []
   },
   "source": [
    "# CP Metrics"
   ]
  },
  {
   "cell_type": "code",
   "execution_count": 56,
   "id": "5ce0a5cb-201f-45a0-ade5-94c7f0bd6095",
   "metadata": {
    "execution": {
     "iopub.execute_input": "2025-07-30T21:53:42.533737Z",
     "iopub.status.busy": "2025-07-30T21:53:42.532944Z",
     "iopub.status.idle": "2025-07-30T21:53:42.539628Z",
     "shell.execute_reply": "2025-07-30T21:53:42.538711Z"
    },
    "papermill": {
     "duration": 0.03411,
     "end_time": "2025-07-30T21:53:42.541219",
     "exception": false,
     "start_time": "2025-07-30T21:53:42.507109",
     "status": "completed"
    },
    "tags": []
   },
   "outputs": [
    {
     "data": {
      "text/plain": [
       "{'coverage': 0.9118715862222717, 'avg_size': 1.2339984394158956}"
      ]
     },
     "execution_count": 56,
     "metadata": {},
     "output_type": "execute_result"
    }
   ],
   "source": [
    "metrics"
   ]
  },
  {
   "cell_type": "code",
   "execution_count": 57,
   "id": "9b9a838d-31c9-430b-ae14-12baee460d17",
   "metadata": {
    "execution": {
     "iopub.execute_input": "2025-07-30T21:53:42.592188Z",
     "iopub.status.busy": "2025-07-30T21:53:42.591500Z",
     "iopub.status.idle": "2025-07-30T21:53:42.597729Z",
     "shell.execute_reply": "2025-07-30T21:53:42.596817Z"
    },
    "papermill": {
     "duration": 0.03391,
     "end_time": "2025-07-30T21:53:42.599267",
     "exception": false,
     "start_time": "2025-07-30T21:53:42.565357",
     "status": "completed"
    },
    "tags": []
   },
   "outputs": [],
   "source": [
    "example_universe = universe.copy()\n",
    "universe_training_year = example_universe.get(\"training_year\")\n",
    "universe_training_size = example_universe.get(\"training_size\")\n",
    "universe_scale = example_universe.get(\"scale\")\n",
    "universe_model = example_universe.get(\"model\")\n",
    "universe_exclude_features = example_universe.get(\"exclude_features\")\n",
    "universe_exclude_subgroups = example_universe.get(\"exclude_subgroups\")"
   ]
  },
  {
   "cell_type": "code",
   "execution_count": 58,
   "id": "f4b6a8ac-9dc0-4245-8a91-5b3b5999c4f9",
   "metadata": {
    "execution": {
     "iopub.execute_input": "2025-07-30T21:53:42.649145Z",
     "iopub.status.busy": "2025-07-30T21:53:42.648479Z",
     "iopub.status.idle": "2025-07-30T21:53:42.657251Z",
     "shell.execute_reply": "2025-07-30T21:53:42.655990Z"
    },
    "papermill": {
     "duration": 0.035658,
     "end_time": "2025-07-30T21:53:42.659100",
     "exception": false,
     "start_time": "2025-07-30T21:53:42.623442",
     "status": "completed"
    },
    "tags": []
   },
   "outputs": [],
   "source": [
    "cp_metrics_dict = {\n",
    "    \"universe_id\": [universe_id],\n",
    "    \"universe_training_year\": [universe_training_year],\n",
    "    \"universe_training_size\": [universe_training_size],\n",
    "    \"universe_scale\": [universe_scale],\n",
    "    \"universe_model\": [universe_model],\n",
    "    \"universe_exclude_features\": [universe_exclude_features],\n",
    "    \"universe_exclude_subgroups\": [universe_exclude_subgroups],\n",
    "    \"q_hat\": [q_hat],\n",
    "    \"coverage\": [metrics[\"coverage\"]],\n",
    "    \"avg_size\": [metrics[\"avg_size\"]],\n",
    "}"
   ]
  },
  {
   "cell_type": "code",
   "execution_count": 59,
   "id": "908acbb1-0371-4915-85ca-3fa520d2efe2",
   "metadata": {
    "execution": {
     "iopub.execute_input": "2025-07-30T21:53:42.707900Z",
     "iopub.status.busy": "2025-07-30T21:53:42.707082Z",
     "iopub.status.idle": "2025-07-30T21:53:42.714523Z",
     "shell.execute_reply": "2025-07-30T21:53:42.713565Z"
    },
    "papermill": {
     "duration": 0.032459,
     "end_time": "2025-07-30T21:53:42.716211",
     "exception": false,
     "start_time": "2025-07-30T21:53:42.683752",
     "status": "completed"
    },
    "tags": []
   },
   "outputs": [
    {
     "data": {
      "text/plain": [
       "{'universe_id': ['75abc8ad73017dd5ed72999ba62a8be1'],\n",
       " 'universe_training_year': ['2010_14'],\n",
       " 'universe_training_size': ['1k'],\n",
       " 'universe_scale': ['do-not-scale'],\n",
       " 'universe_model': ['elasticnet'],\n",
       " 'universe_exclude_features': ['none'],\n",
       " 'universe_exclude_subgroups': ['keep-all'],\n",
       " 'q_hat': [0.6915569082063335],\n",
       " 'coverage': [0.9118715862222717],\n",
       " 'avg_size': [1.2339984394158956]}"
      ]
     },
     "execution_count": 59,
     "metadata": {},
     "output_type": "execute_result"
    }
   ],
   "source": [
    "cp_metrics_dict"
   ]
  },
  {
   "cell_type": "code",
   "execution_count": 60,
   "id": "33007efc-14e9-4ec6-97ac-56a455c82265",
   "metadata": {
    "execution": {
     "iopub.execute_input": "2025-07-30T21:53:42.770664Z",
     "iopub.status.busy": "2025-07-30T21:53:42.770338Z",
     "iopub.status.idle": "2025-07-30T21:53:42.776447Z",
     "shell.execute_reply": "2025-07-30T21:53:42.775430Z"
    },
    "papermill": {
     "duration": 0.035026,
     "end_time": "2025-07-30T21:53:42.778215",
     "exception": false,
     "start_time": "2025-07-30T21:53:42.743189",
     "status": "completed"
    },
    "tags": []
   },
   "outputs": [],
   "source": [
    "cp_metrics_df = pd.DataFrame(cp_metrics_dict)"
   ]
  },
  {
   "cell_type": "code",
   "execution_count": 61,
   "id": "db12611b-57b2-4910-b9d0-355adfd6e7bf",
   "metadata": {
    "execution": {
     "iopub.execute_input": "2025-07-30T21:53:42.827614Z",
     "iopub.status.busy": "2025-07-30T21:53:42.826874Z",
     "iopub.status.idle": "2025-07-30T21:53:42.848605Z",
     "shell.execute_reply": "2025-07-30T21:53:42.847580Z"
    },
    "papermill": {
     "duration": 0.048665,
     "end_time": "2025-07-30T21:53:42.850244",
     "exception": false,
     "start_time": "2025-07-30T21:53:42.801579",
     "status": "completed"
    },
    "tags": []
   },
   "outputs": [
    {
     "data": {
      "text/html": [
       "<div>\n",
       "<style scoped>\n",
       "    .dataframe tbody tr th:only-of-type {\n",
       "        vertical-align: middle;\n",
       "    }\n",
       "\n",
       "    .dataframe tbody tr th {\n",
       "        vertical-align: top;\n",
       "    }\n",
       "\n",
       "    .dataframe thead th {\n",
       "        text-align: right;\n",
       "    }\n",
       "</style>\n",
       "<table border=\"1\" class=\"dataframe\">\n",
       "  <thead>\n",
       "    <tr style=\"text-align: right;\">\n",
       "      <th></th>\n",
       "      <th>universe_id</th>\n",
       "      <th>universe_training_year</th>\n",
       "      <th>universe_training_size</th>\n",
       "      <th>universe_scale</th>\n",
       "      <th>universe_model</th>\n",
       "      <th>universe_exclude_features</th>\n",
       "      <th>universe_exclude_subgroups</th>\n",
       "      <th>q_hat</th>\n",
       "      <th>coverage</th>\n",
       "      <th>avg_size</th>\n",
       "    </tr>\n",
       "  </thead>\n",
       "  <tbody>\n",
       "    <tr>\n",
       "      <th>0</th>\n",
       "      <td>75abc8ad73017dd5ed72999ba62a8be1</td>\n",
       "      <td>2010_14</td>\n",
       "      <td>1k</td>\n",
       "      <td>do-not-scale</td>\n",
       "      <td>elasticnet</td>\n",
       "      <td>none</td>\n",
       "      <td>keep-all</td>\n",
       "      <td>0.691557</td>\n",
       "      <td>0.911872</td>\n",
       "      <td>1.233998</td>\n",
       "    </tr>\n",
       "  </tbody>\n",
       "</table>\n",
       "</div>"
      ],
      "text/plain": [
       "                        universe_id universe_training_year  \\\n",
       "0  75abc8ad73017dd5ed72999ba62a8be1                2010_14   \n",
       "\n",
       "  universe_training_size universe_scale universe_model  \\\n",
       "0                     1k   do-not-scale     elasticnet   \n",
       "\n",
       "  universe_exclude_features universe_exclude_subgroups     q_hat  coverage  \\\n",
       "0                      none                   keep-all  0.691557  0.911872   \n",
       "\n",
       "   avg_size  \n",
       "0  1.233998  "
      ]
     },
     "execution_count": 61,
     "metadata": {},
     "output_type": "execute_result"
    }
   ],
   "source": [
    "cp_metrics_df"
   ]
  },
  {
   "cell_type": "code",
   "execution_count": 62,
   "id": "b7fbde55-a0a1-47e4-9af6-fe4a17fa8c61",
   "metadata": {
    "execution": {
     "iopub.execute_input": "2025-07-30T21:53:42.908541Z",
     "iopub.status.busy": "2025-07-30T21:53:42.907475Z",
     "iopub.status.idle": "2025-07-30T21:53:42.912931Z",
     "shell.execute_reply": "2025-07-30T21:53:42.911817Z"
    },
    "papermill": {
     "duration": 0.034935,
     "end_time": "2025-07-30T21:53:42.914743",
     "exception": false,
     "start_time": "2025-07-30T21:53:42.879808",
     "status": "completed"
    },
    "tags": []
   },
   "outputs": [],
   "source": [
    "# Conditional Coverage & looking at subgroups"
   ]
  },
  {
   "cell_type": "code",
   "execution_count": 63,
   "id": "027ae886-68dd-4141-96c7-805a5450e1ef",
   "metadata": {
    "execution": {
     "iopub.execute_input": "2025-07-30T21:53:42.973826Z",
     "iopub.status.busy": "2025-07-30T21:53:42.973005Z",
     "iopub.status.idle": "2025-07-30T21:53:43.227913Z",
     "shell.execute_reply": "2025-07-30T21:53:43.226979Z"
    },
    "papermill": {
     "duration": 0.28592,
     "end_time": "2025-07-30T21:53:43.229431",
     "exception": false,
     "start_time": "2025-07-30T21:53:42.943511",
     "status": "completed"
    },
    "tags": []
   },
   "outputs": [],
   "source": [
    "from fairness_multiverse.conformal import build_cp_groups\n",
    "\n",
    "cp_groups_df = build_cp_groups(pred_sets, y_true, X_test.index, org_test)\n",
    "#needs universe_id and setting"
   ]
  },
  {
   "cell_type": "code",
   "execution_count": 64,
   "id": "01d5802c-663a-4d1f-9d69-e036faaffbf7",
   "metadata": {
    "execution": {
     "iopub.execute_input": "2025-07-30T21:53:43.281819Z",
     "iopub.status.busy": "2025-07-30T21:53:43.281120Z",
     "iopub.status.idle": "2025-07-30T21:53:43.285740Z",
     "shell.execute_reply": "2025-07-30T21:53:43.284798Z"
    },
    "papermill": {
     "duration": 0.033179,
     "end_time": "2025-07-30T21:53:43.287320",
     "exception": false,
     "start_time": "2025-07-30T21:53:43.254141",
     "status": "completed"
    },
    "tags": []
   },
   "outputs": [],
   "source": [
    "#delete\n",
    "#cp_groups_df"
   ]
  },
  {
   "cell_type": "code",
   "execution_count": 65,
   "id": "fa424af1-d1eb-443d-b717-2d279ada8408",
   "metadata": {
    "execution": {
     "iopub.execute_input": "2025-07-30T21:53:43.341229Z",
     "iopub.status.busy": "2025-07-30T21:53:43.340930Z",
     "iopub.status.idle": "2025-07-30T21:53:43.344904Z",
     "shell.execute_reply": "2025-07-30T21:53:43.344013Z"
    },
    "papermill": {
     "duration": 0.032472,
     "end_time": "2025-07-30T21:53:43.346498",
     "exception": false,
     "start_time": "2025-07-30T21:53:43.314026",
     "status": "completed"
    },
    "tags": []
   },
   "outputs": [],
   "source": [
    "#delete\n",
    "#percentage = (cp_groups_df['nongerman_female'] == 1).mean() * 100\n",
    "#print(percentage)\n"
   ]
  },
  {
   "cell_type": "code",
   "execution_count": 66,
   "id": "6cbdab96-b2b2-45af-ad54-d0516db2e28d",
   "metadata": {
    "execution": {
     "iopub.execute_input": "2025-07-30T21:53:43.400454Z",
     "iopub.status.busy": "2025-07-30T21:53:43.400135Z",
     "iopub.status.idle": "2025-07-30T21:53:44.928976Z",
     "shell.execute_reply": "2025-07-30T21:53:44.927891Z"
    },
    "papermill": {
     "duration": 1.557699,
     "end_time": "2025-07-30T21:53:44.930802",
     "exception": false,
     "start_time": "2025-07-30T21:53:43.373103",
     "status": "completed"
    },
    "tags": []
   },
   "outputs": [],
   "source": [
    "# Define covered = 1 if true_label is in the predicted set\n",
    "cp_groups_df['covered'] = cp_groups_df.apply(\n",
    "    lambda r: int(r['true_label'] in r['pred_set']),\n",
    "    axis=1\n",
    ")"
   ]
  },
  {
   "cell_type": "code",
   "execution_count": 67,
   "id": "338ff529-1a6b-4b87-a931-8e4788d52aad",
   "metadata": {
    "execution": {
     "iopub.execute_input": "2025-07-30T21:53:44.985079Z",
     "iopub.status.busy": "2025-07-30T21:53:44.984213Z",
     "iopub.status.idle": "2025-07-30T21:53:44.989489Z",
     "shell.execute_reply": "2025-07-30T21:53:44.988483Z"
    },
    "papermill": {
     "duration": 0.039342,
     "end_time": "2025-07-30T21:53:44.997309",
     "exception": false,
     "start_time": "2025-07-30T21:53:44.957967",
     "status": "completed"
    },
    "tags": []
   },
   "outputs": [],
   "source": [
    "#cp_groups_df"
   ]
  },
  {
   "cell_type": "code",
   "execution_count": 68,
   "id": "90032e27-66df-4540-9169-4e89cfbaa758",
   "metadata": {
    "execution": {
     "iopub.execute_input": "2025-07-30T21:53:45.057302Z",
     "iopub.status.busy": "2025-07-30T21:53:45.056809Z",
     "iopub.status.idle": "2025-07-30T21:53:45.068907Z",
     "shell.execute_reply": "2025-07-30T21:53:45.067752Z"
    },
    "papermill": {
     "duration": 0.043773,
     "end_time": "2025-07-30T21:53:45.070627",
     "exception": false,
     "start_time": "2025-07-30T21:53:45.026854",
     "status": "completed"
    },
    "tags": []
   },
   "outputs": [],
   "source": [
    "subgroups = ['frau1','nongerman','nongerman_male','nongerman_female']\n",
    "\n",
    "# Conditional coverage for subgroup==1\n",
    "cond_coverage = {\n",
    "    g: cp_groups_df.loc[cp_groups_df[g]==1, 'covered'].mean()\n",
    "    for g in subgroups\n",
    "}"
   ]
  },
  {
   "cell_type": "code",
   "execution_count": 69,
   "id": "1e348fb1-b9c3-45bc-ba23-f016827a7e0d",
   "metadata": {
    "execution": {
     "iopub.execute_input": "2025-07-30T21:53:45.128766Z",
     "iopub.status.busy": "2025-07-30T21:53:45.127848Z",
     "iopub.status.idle": "2025-07-30T21:53:45.135340Z",
     "shell.execute_reply": "2025-07-30T21:53:45.134192Z"
    },
    "papermill": {
     "duration": 0.038513,
     "end_time": "2025-07-30T21:53:45.137156",
     "exception": false,
     "start_time": "2025-07-30T21:53:45.098643",
     "status": "completed"
    },
    "tags": []
   },
   "outputs": [
    {
     "data": {
      "text/plain": [
       "{'frau1': 0.9096643752527295,\n",
       " 'nongerman': 0.9389210127435019,\n",
       " 'nongerman_male': 0.9509141673421597,\n",
       " 'nongerman_female': 0.9190760059612518}"
      ]
     },
     "execution_count": 69,
     "metadata": {},
     "output_type": "execute_result"
    }
   ],
   "source": [
    "cond_coverage"
   ]
  },
  {
   "cell_type": "code",
   "execution_count": 70,
   "id": "f5093324-c3dd-4d63-bc4c-8d945e5c8bbb",
   "metadata": {
    "execution": {
     "iopub.execute_input": "2025-07-30T21:53:45.195237Z",
     "iopub.status.busy": "2025-07-30T21:53:45.194463Z",
     "iopub.status.idle": "2025-07-30T21:53:45.201872Z",
     "shell.execute_reply": "2025-07-30T21:53:45.200886Z"
    },
    "papermill": {
     "duration": 0.037865,
     "end_time": "2025-07-30T21:53:45.203564",
     "exception": false,
     "start_time": "2025-07-30T21:53:45.165699",
     "status": "completed"
    },
    "tags": []
   },
   "outputs": [],
   "source": [
    "for subgroup, cov in cond_coverage.items():\n",
    "    cp_metrics_df[f\"cov_{subgroup}\"] = cov"
   ]
  },
  {
   "cell_type": "code",
   "execution_count": 71,
   "id": "6e872e10-dbe5-49e8-b554-5030c98ff75d",
   "metadata": {
    "execution": {
     "iopub.execute_input": "2025-07-30T21:53:45.263780Z",
     "iopub.status.busy": "2025-07-30T21:53:45.263237Z",
     "iopub.status.idle": "2025-07-30T21:53:45.284251Z",
     "shell.execute_reply": "2025-07-30T21:53:45.283177Z"
    },
    "papermill": {
     "duration": 0.05405,
     "end_time": "2025-07-30T21:53:45.286121",
     "exception": false,
     "start_time": "2025-07-30T21:53:45.232071",
     "status": "completed"
    },
    "tags": []
   },
   "outputs": [
    {
     "data": {
      "text/html": [
       "<div>\n",
       "<style scoped>\n",
       "    .dataframe tbody tr th:only-of-type {\n",
       "        vertical-align: middle;\n",
       "    }\n",
       "\n",
       "    .dataframe tbody tr th {\n",
       "        vertical-align: top;\n",
       "    }\n",
       "\n",
       "    .dataframe thead th {\n",
       "        text-align: right;\n",
       "    }\n",
       "</style>\n",
       "<table border=\"1\" class=\"dataframe\">\n",
       "  <thead>\n",
       "    <tr style=\"text-align: right;\">\n",
       "      <th></th>\n",
       "      <th>universe_id</th>\n",
       "      <th>universe_training_year</th>\n",
       "      <th>universe_training_size</th>\n",
       "      <th>universe_scale</th>\n",
       "      <th>universe_model</th>\n",
       "      <th>universe_exclude_features</th>\n",
       "      <th>universe_exclude_subgroups</th>\n",
       "      <th>q_hat</th>\n",
       "      <th>coverage</th>\n",
       "      <th>avg_size</th>\n",
       "      <th>cov_frau1</th>\n",
       "      <th>cov_nongerman</th>\n",
       "      <th>cov_nongerman_male</th>\n",
       "      <th>cov_nongerman_female</th>\n",
       "    </tr>\n",
       "  </thead>\n",
       "  <tbody>\n",
       "    <tr>\n",
       "      <th>0</th>\n",
       "      <td>75abc8ad73017dd5ed72999ba62a8be1</td>\n",
       "      <td>2010_14</td>\n",
       "      <td>1k</td>\n",
       "      <td>do-not-scale</td>\n",
       "      <td>elasticnet</td>\n",
       "      <td>none</td>\n",
       "      <td>keep-all</td>\n",
       "      <td>0.691557</td>\n",
       "      <td>0.911872</td>\n",
       "      <td>1.233998</td>\n",
       "      <td>0.909664</td>\n",
       "      <td>0.938921</td>\n",
       "      <td>0.950914</td>\n",
       "      <td>0.919076</td>\n",
       "    </tr>\n",
       "  </tbody>\n",
       "</table>\n",
       "</div>"
      ],
      "text/plain": [
       "                        universe_id universe_training_year  \\\n",
       "0  75abc8ad73017dd5ed72999ba62a8be1                2010_14   \n",
       "\n",
       "  universe_training_size universe_scale universe_model  \\\n",
       "0                     1k   do-not-scale     elasticnet   \n",
       "\n",
       "  universe_exclude_features universe_exclude_subgroups     q_hat  coverage  \\\n",
       "0                      none                   keep-all  0.691557  0.911872   \n",
       "\n",
       "   avg_size  cov_frau1  cov_nongerman  cov_nongerman_male  \\\n",
       "0  1.233998   0.909664       0.938921            0.950914   \n",
       "\n",
       "   cov_nongerman_female  \n",
       "0              0.919076  "
      ]
     },
     "execution_count": 71,
     "metadata": {},
     "output_type": "execute_result"
    }
   ],
   "source": [
    "cp_metrics_df"
   ]
  },
  {
   "cell_type": "markdown",
   "id": "33774451",
   "metadata": {
    "papermill": {
     "duration": 0.028388,
     "end_time": "2025-07-30T21:53:45.345180",
     "exception": false,
     "start_time": "2025-07-30T21:53:45.316792",
     "status": "completed"
    },
    "tags": []
   },
   "source": [
    "# (Fairness) Metrics"
   ]
  },
  {
   "cell_type": "code",
   "execution_count": 72,
   "id": "debc5d62",
   "metadata": {
    "execution": {
     "iopub.execute_input": "2025-07-30T21:53:45.403078Z",
     "iopub.status.busy": "2025-07-30T21:53:45.402598Z",
     "iopub.status.idle": "2025-07-30T21:53:45.423330Z",
     "shell.execute_reply": "2025-07-30T21:53:45.422412Z"
    },
    "papermill": {
     "duration": 0.05142,
     "end_time": "2025-07-30T21:53:45.424771",
     "exception": false,
     "start_time": "2025-07-30T21:53:45.373351",
     "status": "completed"
    },
    "tags": []
   },
   "outputs": [],
   "source": [
    "# do I need to include maxdeutsch1.missing?\n",
    "\n",
    "import numpy as np\n",
    "\n",
    "colname_to_bin = \"maxdeutsch1\"\n",
    "majority_value = org_train[colname_to_bin].mode()[0]\n",
    "\n",
    "org_test[\"majmin\"] = np.where(org_test[colname_to_bin] == majority_value, \"majority\", \"minority\")"
   ]
  },
  {
   "cell_type": "code",
   "execution_count": 73,
   "id": "06a50de5",
   "metadata": {
    "execution": {
     "iopub.execute_input": "2025-07-30T21:53:45.475036Z",
     "iopub.status.busy": "2025-07-30T21:53:45.474629Z",
     "iopub.status.idle": "2025-07-30T21:53:47.509497Z",
     "shell.execute_reply": "2025-07-30T21:53:47.508550Z"
    },
    "papermill": {
     "duration": 2.06131,
     "end_time": "2025-07-30T21:53:47.511337",
     "exception": false,
     "start_time": "2025-07-30T21:53:45.450027",
     "status": "completed"
    },
    "tags": []
   },
   "outputs": [],
   "source": [
    "example_universe = universe.copy()\n",
    "example_universe[\"cutoff\"] = example_universe[\"cutoff\"][0]\n",
    "example_universe[\"eval_fairness_grouping\"] = example_universe[\"eval_fairness_grouping\"][0]\n",
    "fairness_dict, metric_frame = universe_analysis.compute_metrics(\n",
    "    example_universe,\n",
    "    y_pred_prob=probs_test,\n",
    "    y_test=y_true,\n",
    "    org_test=org_test,\n",
    ")"
   ]
  },
  {
   "cell_type": "markdown",
   "id": "f95d4e02",
   "metadata": {
    "papermill": {
     "duration": 0.024299,
     "end_time": "2025-07-30T21:53:47.563405",
     "exception": false,
     "start_time": "2025-07-30T21:53:47.539106",
     "status": "completed"
    },
    "tags": []
   },
   "source": [
    "# Overall"
   ]
  },
  {
   "cell_type": "markdown",
   "id": "bdee4871",
   "metadata": {
    "papermill": {
     "duration": 0.023461,
     "end_time": "2025-07-30T21:53:47.610863",
     "exception": false,
     "start_time": "2025-07-30T21:53:47.587402",
     "status": "completed"
    },
    "tags": []
   },
   "source": [
    "Fairness\n",
    "Main fairness target: Equalized Odds. Seems to be a better fit than equal opportunity, since we're not only interested in Y = 1. Seems to be a better fit than demographic parity, since we also care about accuracy, not just equal distribution of preds.\n",
    "\n",
    "Pick column for computation of fairness metrics\n",
    "\n",
    "Performance\n",
    "Overall performance measures, most interesting in relation to the measures split by group below"
   ]
  },
  {
   "cell_type": "code",
   "execution_count": 74,
   "id": "c4e067c6",
   "metadata": {
    "execution": {
     "iopub.execute_input": "2025-07-30T21:53:47.660779Z",
     "iopub.status.busy": "2025-07-30T21:53:47.660305Z",
     "iopub.status.idle": "2025-07-30T21:53:47.668541Z",
     "shell.execute_reply": "2025-07-30T21:53:47.667623Z"
    },
    "papermill": {
     "duration": 0.035009,
     "end_time": "2025-07-30T21:53:47.670157",
     "exception": false,
     "start_time": "2025-07-30T21:53:47.635148",
     "status": "completed"
    },
    "tags": []
   },
   "outputs": [
    {
     "data": {
      "text/plain": [
       "accuracy                   0.214792\n",
       "balanced accuracy          0.527204\n",
       "f1                         0.236387\n",
       "precision                  0.135040\n",
       "false positive rate        0.893021\n",
       "false negative rate        0.052572\n",
       "selection rate             0.900000\n",
       "count                  89710.000000\n",
       "dtype: float64"
      ]
     },
     "execution_count": 74,
     "metadata": {},
     "output_type": "execute_result"
    }
   ],
   "source": [
    "metric_frame.overall"
   ]
  },
  {
   "cell_type": "markdown",
   "id": "e968fe9d",
   "metadata": {
    "papermill": {
     "duration": 0.024463,
     "end_time": "2025-07-30T21:53:47.721209",
     "exception": false,
     "start_time": "2025-07-30T21:53:47.696746",
     "status": "completed"
    },
    "tags": []
   },
   "source": [
    "By Group"
   ]
  },
  {
   "cell_type": "code",
   "execution_count": 75,
   "id": "ec325bce",
   "metadata": {
    "execution": {
     "iopub.execute_input": "2025-07-30T21:53:47.773227Z",
     "iopub.status.busy": "2025-07-30T21:53:47.772786Z",
     "iopub.status.idle": "2025-07-30T21:53:47.789372Z",
     "shell.execute_reply": "2025-07-30T21:53:47.788399Z"
    },
    "papermill": {
     "duration": 0.044049,
     "end_time": "2025-07-30T21:53:47.790829",
     "exception": false,
     "start_time": "2025-07-30T21:53:47.746780",
     "status": "completed"
    },
    "tags": []
   },
   "outputs": [
    {
     "data": {
      "text/html": [
       "<div>\n",
       "<style scoped>\n",
       "    .dataframe tbody tr th:only-of-type {\n",
       "        vertical-align: middle;\n",
       "    }\n",
       "\n",
       "    .dataframe tbody tr th {\n",
       "        vertical-align: top;\n",
       "    }\n",
       "\n",
       "    .dataframe thead th {\n",
       "        text-align: right;\n",
       "    }\n",
       "</style>\n",
       "<table border=\"1\" class=\"dataframe\">\n",
       "  <thead>\n",
       "    <tr style=\"text-align: right;\">\n",
       "      <th></th>\n",
       "      <th>accuracy</th>\n",
       "      <th>balanced accuracy</th>\n",
       "      <th>f1</th>\n",
       "      <th>precision</th>\n",
       "      <th>false positive rate</th>\n",
       "      <th>false negative rate</th>\n",
       "      <th>selection rate</th>\n",
       "      <th>count</th>\n",
       "    </tr>\n",
       "    <tr>\n",
       "      <th>majmin</th>\n",
       "      <th></th>\n",
       "      <th></th>\n",
       "      <th></th>\n",
       "      <th></th>\n",
       "      <th></th>\n",
       "      <th></th>\n",
       "      <th></th>\n",
       "      <th></th>\n",
       "    </tr>\n",
       "  </thead>\n",
       "  <tbody>\n",
       "    <tr>\n",
       "      <th>majority</th>\n",
       "      <td>0.236345</td>\n",
       "      <td>0.533974</td>\n",
       "      <td>0.245163</td>\n",
       "      <td>0.140997</td>\n",
       "      <td>0.870565</td>\n",
       "      <td>0.061488</td>\n",
       "      <td>0.879543</td>\n",
       "      <td>69170.0</td>\n",
       "    </tr>\n",
       "    <tr>\n",
       "      <th>minority</th>\n",
       "      <td>0.142210</td>\n",
       "      <td>0.507319</td>\n",
       "      <td>0.208810</td>\n",
       "      <td>0.116828</td>\n",
       "      <td>0.967202</td>\n",
       "      <td>0.018159</td>\n",
       "      <td>0.968890</td>\n",
       "      <td>20540.0</td>\n",
       "    </tr>\n",
       "  </tbody>\n",
       "</table>\n",
       "</div>"
      ],
      "text/plain": [
       "          accuracy  balanced accuracy        f1  precision  \\\n",
       "majmin                                                       \n",
       "majority  0.236345           0.533974  0.245163   0.140997   \n",
       "minority  0.142210           0.507319  0.208810   0.116828   \n",
       "\n",
       "          false positive rate  false negative rate  selection rate    count  \n",
       "majmin                                                                       \n",
       "majority             0.870565             0.061488        0.879543  69170.0  \n",
       "minority             0.967202             0.018159        0.968890  20540.0  "
      ]
     },
     "execution_count": 75,
     "metadata": {},
     "output_type": "execute_result"
    }
   ],
   "source": [
    "metric_frame.by_group"
   ]
  },
  {
   "cell_type": "code",
   "execution_count": 76,
   "id": "a9ddbe63",
   "metadata": {
    "execution": {
     "iopub.execute_input": "2025-07-30T21:53:47.833573Z",
     "iopub.status.busy": "2025-07-30T21:53:47.833193Z",
     "iopub.status.idle": "2025-07-30T21:53:50.183949Z",
     "shell.execute_reply": "2025-07-30T21:53:50.182913Z"
    },
    "papermill": {
     "duration": 2.38091,
     "end_time": "2025-07-30T21:53:50.197149",
     "exception": false,
     "start_time": "2025-07-30T21:53:47.816239",
     "status": "completed"
    },
    "tags": []
   },
   "outputs": [
    {
     "data": {
      "text/plain": [
       "array([[<Axes: title={'center': 'accuracy'}, xlabel='majmin'>,\n",
       "        <Axes: title={'center': 'balanced accuracy'}, xlabel='majmin'>,\n",
       "        <Axes: title={'center': 'f1'}, xlabel='majmin'>],\n",
       "       [<Axes: title={'center': 'precision'}, xlabel='majmin'>,\n",
       "        <Axes: title={'center': 'false positive rate'}, xlabel='majmin'>,\n",
       "        <Axes: title={'center': 'false negative rate'}, xlabel='majmin'>],\n",
       "       [<Axes: title={'center': 'selection rate'}, xlabel='majmin'>,\n",
       "        <Axes: title={'center': 'count'}, xlabel='majmin'>,\n",
       "        <Axes: xlabel='majmin'>]], dtype=object)"
      ]
     },
     "execution_count": 76,
     "metadata": {},
     "output_type": "execute_result"
    },
    {
     "data": {
      "image/png": "[encoded data removed]",
      "text/plain": [
       "<Figure size 1200x800 with 9 Axes>"
      ]
     },
     "metadata": {},
     "output_type": "display_data"
    }
   ],
   "source": [
    "# In a graphic\n",
    "metric_frame.by_group.plot.bar(\n",
    "    subplots=True,\n",
    "    layout=[3, 3],\n",
    "    legend=False,\n",
    "    figsize=[12, 8],\n",
    "    title=\"Show all metrics\",\n",
    ")"
   ]
  },
  {
   "cell_type": "markdown",
   "id": "f57a0bac",
   "metadata": {
    "papermill": {
     "duration": 0.031102,
     "end_time": "2025-07-30T21:53:50.255640",
     "exception": false,
     "start_time": "2025-07-30T21:53:50.224538",
     "status": "completed"
    },
    "tags": []
   },
   "source": [
    "# Final Output"
   ]
  },
  {
   "cell_type": "code",
   "execution_count": 77,
   "id": "96d280a3",
   "metadata": {
    "execution": {
     "iopub.execute_input": "2025-07-30T21:53:50.294370Z",
     "iopub.status.busy": "2025-07-30T21:53:50.293687Z",
     "iopub.status.idle": "2025-07-30T21:53:50.301157Z",
     "shell.execute_reply": "2025-07-30T21:53:50.300488Z"
    },
    "papermill": {
     "duration": 0.03081,
     "end_time": "2025-07-30T21:53:50.302406",
     "exception": false,
     "start_time": "2025-07-30T21:53:50.271596",
     "status": "completed"
    },
    "tags": []
   },
   "outputs": [
    {
     "data": {
      "text/plain": [
       "4"
      ]
     },
     "execution_count": 77,
     "metadata": {},
     "output_type": "execute_result"
    }
   ],
   "source": [
    "sub_universes = universe_analysis.generate_sub_universes()\n",
    "len(sub_universes)"
   ]
  },
  {
   "cell_type": "code",
   "execution_count": 78,
   "id": "92adf7ba",
   "metadata": {
    "execution": {
     "iopub.execute_input": "2025-07-30T21:53:50.360427Z",
     "iopub.status.busy": "2025-07-30T21:53:50.359745Z",
     "iopub.status.idle": "2025-07-30T21:53:50.365093Z",
     "shell.execute_reply": "2025-07-30T21:53:50.364373Z"
    },
    "papermill": {
     "duration": 0.041004,
     "end_time": "2025-07-30T21:53:50.366738",
     "exception": false,
     "start_time": "2025-07-30T21:53:50.325734",
     "status": "completed"
    },
    "tags": []
   },
   "outputs": [],
   "source": [
    "def filter_sub_universe_data(sub_universe, org_test):\n",
    "    # Keep all rows — no filtering\n",
    "    keep_rows_mask = np.ones(org_test.shape[0], dtype=bool)\n",
    "\n",
    "    print(f\"[INFO] Keeping all rows: {keep_rows_mask.sum()} rows retained.\")\n",
    "    return keep_rows_mask"
   ]
  },
  {
   "cell_type": "code",
   "execution_count": 79,
   "id": "4a759155",
   "metadata": {
    "execution": {
     "iopub.execute_input": "2025-07-30T21:53:50.431074Z",
     "iopub.status.busy": "2025-07-30T21:53:50.430556Z",
     "iopub.status.idle": "2025-07-30T21:54:00.348484Z",
     "shell.execute_reply": "2025-07-30T21:54:00.347419Z"
    },
    "papermill": {
     "duration": 9.951954,
     "end_time": "2025-07-30T21:54:00.350171",
     "exception": false,
     "start_time": "2025-07-30T21:53:50.398217",
     "status": "completed"
    },
    "tags": []
   },
   "outputs": [
    {
     "name": "stdout",
     "output_type": "stream",
     "text": [
      "Stopping execution_time clock.\n",
      "[INFO] Keeping all rows: 89710 rows retained.\n"
     ]
    },
    {
     "name": "stdout",
     "output_type": "stream",
     "text": [
      "[INFO] Keeping all rows: 89710 rows retained.\n"
     ]
    },
    {
     "name": "stdout",
     "output_type": "stream",
     "text": [
      "[INFO] Keeping all rows: 89710 rows retained.\n"
     ]
    },
    {
     "name": "stdout",
     "output_type": "stream",
     "text": [
      "[INFO] Keeping all rows: 89710 rows retained.\n"
     ]
    },
    {
     "data": {
      "text/html": [
       "<div>\n",
       "<style scoped>\n",
       "    .dataframe tbody tr th:only-of-type {\n",
       "        vertical-align: middle;\n",
       "    }\n",
       "\n",
       "    .dataframe tbody tr th {\n",
       "        vertical-align: top;\n",
       "    }\n",
       "\n",
       "    .dataframe thead th {\n",
       "        text-align: right;\n",
       "    }\n",
       "</style>\n",
       "<table border=\"1\" class=\"dataframe\">\n",
       "  <thead>\n",
       "    <tr style=\"text-align: right;\">\n",
       "      <th></th>\n",
       "      <th>run_no</th>\n",
       "      <th>universe_id</th>\n",
       "      <th>universe_settings</th>\n",
       "      <th>execution_time</th>\n",
       "      <th>test_size_n</th>\n",
       "      <th>test_size_frac</th>\n",
       "      <th>fair_main_equalized_odds_difference</th>\n",
       "      <th>fair_main_equalized_odds_ratio</th>\n",
       "      <th>fair_main_demographic_parity_difference</th>\n",
       "      <th>fair_main_demographic_parity_ratio</th>\n",
       "      <th>...</th>\n",
       "      <th>perf_grp_precision_0</th>\n",
       "      <th>perf_grp_precision_1</th>\n",
       "      <th>perf_grp_false positive rate_0</th>\n",
       "      <th>perf_grp_false positive rate_1</th>\n",
       "      <th>perf_grp_false negative rate_0</th>\n",
       "      <th>perf_grp_false negative rate_1</th>\n",
       "      <th>perf_grp_selection rate_0</th>\n",
       "      <th>perf_grp_selection rate_1</th>\n",
       "      <th>perf_grp_count_0</th>\n",
       "      <th>perf_grp_count_1</th>\n",
       "    </tr>\n",
       "  </thead>\n",
       "  <tbody>\n",
       "    <tr>\n",
       "      <th>0</th>\n",
       "      <td>14</td>\n",
       "      <td>75abc8ad73017dd5ed72999ba62a8be1</td>\n",
       "      <td>{\"cutoff\": \"quantile_0.1\", \"eval_fairness_grou...</td>\n",
       "      <td>45.86381</td>\n",
       "      <td>89710</td>\n",
       "      <td>1.0</td>\n",
       "      <td>0.096638</td>\n",
       "      <td>0.900085</td>\n",
       "      <td>0.089347</td>\n",
       "      <td>0.907784</td>\n",
       "      <td>...</td>\n",
       "      <td>NaN</td>\n",
       "      <td>NaN</td>\n",
       "      <td>NaN</td>\n",
       "      <td>NaN</td>\n",
       "      <td>NaN</td>\n",
       "      <td>NaN</td>\n",
       "      <td>NaN</td>\n",
       "      <td>NaN</td>\n",
       "      <td>NaN</td>\n",
       "      <td>NaN</td>\n",
       "    </tr>\n",
       "    <tr>\n",
       "      <th>0</th>\n",
       "      <td>14</td>\n",
       "      <td>75abc8ad73017dd5ed72999ba62a8be1</td>\n",
       "      <td>{\"cutoff\": \"quantile_0.1\", \"eval_fairness_grou...</td>\n",
       "      <td>45.86381</td>\n",
       "      <td>89710</td>\n",
       "      <td>1.0</td>\n",
       "      <td>0.096638</td>\n",
       "      <td>0.900085</td>\n",
       "      <td>0.089347</td>\n",
       "      <td>0.907784</td>\n",
       "      <td>...</td>\n",
       "      <td>0.116828</td>\n",
       "      <td>0.140997</td>\n",
       "      <td>0.967202</td>\n",
       "      <td>0.870565</td>\n",
       "      <td>0.018159</td>\n",
       "      <td>0.061488</td>\n",
       "      <td>0.968890</td>\n",
       "      <td>0.879543</td>\n",
       "      <td>20540.0</td>\n",
       "      <td>69170.0</td>\n",
       "    </tr>\n",
       "    <tr>\n",
       "      <th>0</th>\n",
       "      <td>14</td>\n",
       "      <td>75abc8ad73017dd5ed72999ba62a8be1</td>\n",
       "      <td>{\"cutoff\": \"quantile_0.25\", \"eval_fairness_gro...</td>\n",
       "      <td>45.86381</td>\n",
       "      <td>89710</td>\n",
       "      <td>1.0</td>\n",
       "      <td>0.224523</td>\n",
       "      <td>0.752004</td>\n",
       "      <td>0.207557</td>\n",
       "      <td>0.771923</td>\n",
       "      <td>...</td>\n",
       "      <td>NaN</td>\n",
       "      <td>NaN</td>\n",
       "      <td>NaN</td>\n",
       "      <td>NaN</td>\n",
       "      <td>NaN</td>\n",
       "      <td>NaN</td>\n",
       "      <td>NaN</td>\n",
       "      <td>NaN</td>\n",
       "      <td>NaN</td>\n",
       "      <td>NaN</td>\n",
       "    </tr>\n",
       "    <tr>\n",
       "      <th>0</th>\n",
       "      <td>14</td>\n",
       "      <td>75abc8ad73017dd5ed72999ba62a8be1</td>\n",
       "      <td>{\"cutoff\": \"quantile_0.25\", \"eval_fairness_gro...</td>\n",
       "      <td>45.86381</td>\n",
       "      <td>89710</td>\n",
       "      <td>1.0</td>\n",
       "      <td>0.224523</td>\n",
       "      <td>0.752004</td>\n",
       "      <td>0.207557</td>\n",
       "      <td>0.771923</td>\n",
       "      <td>...</td>\n",
       "      <td>0.119837</td>\n",
       "      <td>0.158880</td>\n",
       "      <td>0.905349</td>\n",
       "      <td>0.680826</td>\n",
       "      <td>0.054054</td>\n",
       "      <td>0.155361</td>\n",
       "      <td>0.910029</td>\n",
       "      <td>0.702472</td>\n",
       "      <td>20540.0</td>\n",
       "      <td>69170.0</td>\n",
       "    </tr>\n",
       "  </tbody>\n",
       "</table>\n",
       "<p>4 rows × 50 columns</p>\n",
       "</div>"
      ],
      "text/plain": [
       "  run_no                       universe_id  \\\n",
       "0     14  75abc8ad73017dd5ed72999ba62a8be1   \n",
       "0     14  75abc8ad73017dd5ed72999ba62a8be1   \n",
       "0     14  75abc8ad73017dd5ed72999ba62a8be1   \n",
       "0     14  75abc8ad73017dd5ed72999ba62a8be1   \n",
       "\n",
       "                                   universe_settings  execution_time  \\\n",
       "0  {\"cutoff\": \"quantile_0.1\", \"eval_fairness_grou...        45.86381   \n",
       "0  {\"cutoff\": \"quantile_0.1\", \"eval_fairness_grou...        45.86381   \n",
       "0  {\"cutoff\": \"quantile_0.25\", \"eval_fairness_gro...        45.86381   \n",
       "0  {\"cutoff\": \"quantile_0.25\", \"eval_fairness_gro...        45.86381   \n",
       "\n",
       "   test_size_n  test_size_frac  fair_main_equalized_odds_difference  \\\n",
       "0        89710             1.0                             0.096638   \n",
       "0        89710             1.0                             0.096638   \n",
       "0        89710             1.0                             0.224523   \n",
       "0        89710             1.0                             0.224523   \n",
       "\n",
       "   fair_main_equalized_odds_ratio  fair_main_demographic_parity_difference  \\\n",
       "0                        0.900085                                 0.089347   \n",
       "0                        0.900085                                 0.089347   \n",
       "0                        0.752004                                 0.207557   \n",
       "0                        0.752004                                 0.207557   \n",
       "\n",
       "   fair_main_demographic_parity_ratio  ...  perf_grp_precision_0  \\\n",
       "0                            0.907784  ...                   NaN   \n",
       "0                            0.907784  ...              0.116828   \n",
       "0                            0.771923  ...                   NaN   \n",
       "0                            0.771923  ...              0.119837   \n",
       "\n",
       "   perf_grp_precision_1  perf_grp_false positive rate_0  \\\n",
       "0                   NaN                             NaN   \n",
       "0              0.140997                        0.967202   \n",
       "0                   NaN                             NaN   \n",
       "0              0.158880                        0.905349   \n",
       "\n",
       "   perf_grp_false positive rate_1  perf_grp_false negative rate_0  \\\n",
       "0                             NaN                             NaN   \n",
       "0                        0.870565                        0.018159   \n",
       "0                             NaN                             NaN   \n",
       "0                        0.680826                        0.054054   \n",
       "\n",
       "   perf_grp_false negative rate_1  perf_grp_selection rate_0  \\\n",
       "0                             NaN                        NaN   \n",
       "0                        0.061488                   0.968890   \n",
       "0                             NaN                        NaN   \n",
       "0                        0.155361                   0.910029   \n",
       "\n",
       "   perf_grp_selection rate_1  perf_grp_count_0  perf_grp_count_1  \n",
       "0                        NaN               NaN               NaN  \n",
       "0                   0.879543           20540.0           69170.0  \n",
       "0                        NaN               NaN               NaN  \n",
       "0                   0.702472           20540.0           69170.0  \n",
       "\n",
       "[4 rows x 50 columns]"
      ]
     },
     "execution_count": 79,
     "metadata": {},
     "output_type": "execute_result"
    }
   ],
   "source": [
    "final_output = universe_analysis.generate_final_output(\n",
    "    y_pred_prob=probs_test,\n",
    "    y_test=y_true,\n",
    "    org_test=org_test,\n",
    "    filter_data=filter_sub_universe_data,\n",
    "    cp_metrics_df=cp_metrics_df,\n",
    "    save=True,\n",
    ")\n",
    "final_output"
   ]
  },
  {
   "cell_type": "code",
   "execution_count": null,
   "id": "721ff514-cb11-46f8-b6fc-50392f74b5cb",
   "metadata": {
    "papermill": {
     "duration": 0.030215,
     "end_time": "2025-07-30T21:54:00.412987",
     "exception": false,
     "start_time": "2025-07-30T21:54:00.382772",
     "status": "completed"
    },
    "tags": []
   },
   "outputs": [],
   "source": []
  }
 ],
 "metadata": {
  "celltoolbar": "Tags",
  "kernelspec": {
   "display_name": "Python (CMA Fairness)",
   "language": "python",
   "name": "cma_fair_env"
  },
  "language_info": {
   "codemirror_mode": {
    "name": "ipython",
    "version": 3
   },
   "file_extension": ".py",
   "mimetype": "text/x-python",
   "name": "python",
   "nbconvert_exporter": "python",
   "pygments_lexer": "ipython3",
   "version": "3.10.12"
  },
  "papermill": {
   "default_parameters": {},
   "duration": 59.953001,
   "end_time": "2025-07-30T21:54:01.163002",
   "environment_variables": {},
   "exception": null,
   "input_path": "universe_analysis.ipynb",
   "output_path": "output/runs/14/notebooks/m_14-75abc8ad73017dd5ed72999ba62a8be1.ipynb",
   "parameters": {
    "output_dir": "output",
    "run_no": "14",
    "seed": "2023",
    "universe": "{\"cutoff\": [\"quantile_0.1\", \"quantile_0.25\"], \"eval_fairness_grouping\": [\"majority-minority\", \"nationality-all\"], \"exclude_features\": \"none\", \"exclude_subgroups\": \"keep-all\", \"model\": \"elasticnet\", \"scale\": \"do-not-scale\", \"training_size\": \"1k\", \"training_year\": \"2010_14\"}",
    "universe_id": "75abc8ad73017dd5ed72999ba62a8be1"
   },
   "start_time": "2025-07-30T21:53:01.210001",
   "version": "2.6.0"
  }
 },
 "nbformat": 4,
 "nbformat_minor": 5
}