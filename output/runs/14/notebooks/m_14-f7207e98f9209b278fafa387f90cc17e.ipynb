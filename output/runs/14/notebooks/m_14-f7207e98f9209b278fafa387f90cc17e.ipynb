{
 "cells": [
  {
   "cell_type": "code",
   "execution_count": 1,
   "id": "f159f837-637b-42ba-96b5-ec9a68c44524",
   "metadata": {
    "execution": {
     "iopub.execute_input": "2025-07-30T20:28:37.056523Z",
     "iopub.status.busy": "2025-07-30T20:28:37.055720Z",
     "iopub.status.idle": "2025-07-30T20:28:37.069104Z",
     "shell.execute_reply": "2025-07-30T20:28:37.068147Z"
    },
    "papermill": {
     "duration": 0.035766,
     "end_time": "2025-07-30T20:28:37.070610",
     "exception": false,
     "start_time": "2025-07-30T20:28:37.034844",
     "status": "completed"
    },
    "tags": []
   },
   "outputs": [
    {
     "name": "stdout",
     "output_type": "stream",
     "text": [
      "/dss/dsshome1/0C/ra93lal2/cma/CMA_Fairness_v2\n"
     ]
    },
    {
     "name": "stderr",
     "output_type": "stream",
     "text": [
      "/dss/dsshome1/0C/ra93lal2/.local/share/virtualenvs/CMA_Fairness_v2-3j10GkSs/lib/python3.10/site-packages/IPython/core/magics/osm.py:393: UserWarning: This is now an optional IPython functionality, using bookmarks requires you to install the `pickleshare` library.\n",
      "  bkms = self.shell.db.get('bookmarks', {})\n",
      "/dss/dsshome1/0C/ra93lal2/.local/share/virtualenvs/CMA_Fairness_v2-3j10GkSs/lib/python3.10/site-packages/IPython/core/magics/osm.py:417: UserWarning: This is now an optional IPython functionality, setting dhist requires you to install the `pickleshare` library.\n",
      "  self.shell.db['dhist'] = compress_dhist(dhist)[-100:]\n"
     ]
    }
   ],
   "source": [
    "%cd ~/cma/CMA_Fairness_v2"
   ]
  },
  {
   "cell_type": "markdown",
   "id": "de2603b9",
   "metadata": {
    "papermill": {
     "duration": 0.017743,
     "end_time": "2025-07-30T20:28:37.106534",
     "exception": false,
     "start_time": "2025-07-30T20:28:37.088791",
     "status": "completed"
    },
    "tags": []
   },
   "source": [
    "The following cell holds the definition of our parameters, these values can be overriden by rendering the with e.g. the following command:\n",
    "\n",
    "papermill -p alpha 0.2 -p ratio 0.3 universe_analysis.ipynb output/test_run.ipynb"
   ]
  },
  {
   "cell_type": "code",
   "execution_count": 2,
   "id": "a80968a0-40bb-4fa9-85ef-2d5eefb01975",
   "metadata": {
    "execution": {
     "iopub.execute_input": "2025-07-30T20:28:37.144127Z",
     "iopub.status.busy": "2025-07-30T20:28:37.143457Z",
     "iopub.status.idle": "2025-07-30T20:28:37.149139Z",
     "shell.execute_reply": "2025-07-30T20:28:37.148267Z"
    },
    "papermill": {
     "duration": 0.026447,
     "end_time": "2025-07-30T20:28:37.150784",
     "exception": false,
     "start_time": "2025-07-30T20:28:37.124337",
     "status": "completed"
    },
    "tags": []
   },
   "outputs": [
    {
     "name": "stdout",
     "output_type": "stream",
     "text": [
      "Current working directory: /dss/dsshome1/0C/ra93lal2/cma/CMA_Fairness_v2\n"
     ]
    }
   ],
   "source": [
    "import os\n",
    "print(\"Current working directory:\", os.getcwd())"
   ]
  },
  {
   "cell_type": "code",
   "execution_count": 3,
   "id": "2dce4c03",
   "metadata": {
    "execution": {
     "iopub.execute_input": "2025-07-30T20:28:37.189944Z",
     "iopub.status.busy": "2025-07-30T20:28:37.189119Z",
     "iopub.status.idle": "2025-07-30T20:28:37.195601Z",
     "shell.execute_reply": "2025-07-30T20:28:37.194760Z"
    },
    "papermill": {
     "duration": 0.027731,
     "end_time": "2025-07-30T20:28:37.197257",
     "exception": false,
     "start_time": "2025-07-30T20:28:37.169526",
     "status": "completed"
    },
    "tags": [
     "parameters"
    ]
   },
   "outputs": [],
   "source": [
    "run_no = 0\n",
    "universe_id = \"test\"\n",
    "universe = {\n",
    "    \"training_size\": \"25k\", # \"25k\", \"5k\", \"1k\"\n",
    "    \"training_year\": \"2014\", # \"2014\", \"2012_14\", \"2010_14\"\n",
    "    \"scale\": \"scale\", # \"scale\", \"do-not-scale\",\n",
    "    #\"stratify_split\": \"target\", # \"none\", \"target\", \"protected-attribute\", \"both\",\n",
    "    \"model\": \"elasticnet\", # \"logreg\", \"penalized_logreg\", \"rf\", \"gbm\", \"elasticnet\"\n",
    "    \"cutoff\": [\"quantile_0.15\", \"quantile_0.30\"],\n",
    "    \"exclude_features\": \"age\", # \"none\", \"nationality\", \"sex\", \"nationality-sex\", \"age\"\n",
    "    \"exclude_subgroups\": \"keep-all\", # \"keep-all\", \"drop-non-german\"\n",
    "    \"eval_fairness_grouping\": [\"majority-minority\", \"nationality-all\"]\n",
    "}\n",
    "\n",
    "output_dir=\"./output\"\n",
    "seed=0"
   ]
  },
  {
   "cell_type": "code",
   "execution_count": 4,
   "id": "16ab3c01",
   "metadata": {
    "execution": {
     "iopub.execute_input": "2025-07-30T20:28:37.238886Z",
     "iopub.status.busy": "2025-07-30T20:28:37.238424Z",
     "iopub.status.idle": "2025-07-30T20:28:37.243958Z",
     "shell.execute_reply": "2025-07-30T20:28:37.243113Z"
    },
    "papermill": {
     "duration": 0.027862,
     "end_time": "2025-07-30T20:28:37.245256",
     "exception": false,
     "start_time": "2025-07-30T20:28:37.217394",
     "status": "completed"
    },
    "tags": [
     "injected-parameters"
    ]
   },
   "outputs": [],
   "source": [
    "# Parameters\n",
    "universe_id = \"f7207e98f9209b278fafa387f90cc17e\"\n",
    "run_no = \"14\"\n",
    "universe = \"{\\\"cutoff\\\": [\\\"quantile_0.1\\\", \\\"quantile_0.25\\\"], \\\"eval_fairness_grouping\\\": [\\\"majority-minority\\\", \\\"nationality-all\\\"], \\\"exclude_features\\\": \\\"nationality-sex\\\", \\\"exclude_subgroups\\\": \\\"drop-non-german\\\", \\\"model\\\": \\\"rf\\\", \\\"scale\\\": \\\"scale\\\", \\\"training_size\\\": \\\"25k\\\", \\\"training_year\\\": \\\"2010_14\\\"}\"\n",
    "output_dir = \"output\"\n",
    "seed = \"2023\"\n"
   ]
  },
  {
   "cell_type": "code",
   "execution_count": 5,
   "id": "1650acaf",
   "metadata": {
    "execution": {
     "iopub.execute_input": "2025-07-30T20:28:37.268387Z",
     "iopub.status.busy": "2025-07-30T20:28:37.267839Z",
     "iopub.status.idle": "2025-07-30T20:28:37.272801Z",
     "shell.execute_reply": "2025-07-30T20:28:37.271769Z"
    },
    "papermill": {
     "duration": 0.017724,
     "end_time": "2025-07-30T20:28:37.274366",
     "exception": false,
     "start_time": "2025-07-30T20:28:37.256642",
     "status": "completed"
    },
    "tags": []
   },
   "outputs": [],
   "source": [
    "import json\n",
    "# Parse universe into dict if it is passed as a string\n",
    "if isinstance(universe, str):\n",
    "    universe = json.loads(universe)"
   ]
  },
  {
   "cell_type": "code",
   "execution_count": 6,
   "id": "16620c48",
   "metadata": {
    "execution": {
     "iopub.execute_input": "2025-07-30T20:28:37.319311Z",
     "iopub.status.busy": "2025-07-30T20:28:37.318842Z",
     "iopub.status.idle": "2025-07-30T20:28:37.353621Z",
     "shell.execute_reply": "2025-07-30T20:28:37.352783Z"
    },
    "papermill": {
     "duration": 0.058704,
     "end_time": "2025-07-30T20:28:37.355465",
     "exception": false,
     "start_time": "2025-07-30T20:28:37.296761",
     "status": "completed"
    },
    "tags": []
   },
   "outputs": [],
   "source": [
    "# Auto-reload the custom package\n",
    "%load_ext autoreload\n",
    "%autoreload 1\n",
    "%aimport fairness_multiverse"
   ]
  },
  {
   "cell_type": "code",
   "execution_count": 7,
   "id": "01c5c9f3",
   "metadata": {
    "execution": {
     "iopub.execute_input": "2025-07-30T20:28:37.398527Z",
     "iopub.status.busy": "2025-07-30T20:28:37.398083Z",
     "iopub.status.idle": "2025-07-30T20:28:39.413250Z",
     "shell.execute_reply": "2025-07-30T20:28:39.412017Z"
    },
    "papermill": {
     "duration": 2.038891,
     "end_time": "2025-07-30T20:28:39.415923",
     "exception": false,
     "start_time": "2025-07-30T20:28:37.377032",
     "status": "completed"
    },
    "tags": []
   },
   "outputs": [],
   "source": [
    "from fairness_multiverse.universe import UniverseAnalysis\n",
    "\n",
    "universe_analysis = UniverseAnalysis(\n",
    "    run_no = run_no,\n",
    "    universe_id = universe_id,\n",
    "    universe = universe,\n",
    "    output_dir=output_dir,\n",
    ")"
   ]
  },
  {
   "cell_type": "code",
   "execution_count": 8,
   "id": "106241f5",
   "metadata": {
    "execution": {
     "iopub.execute_input": "2025-07-30T20:28:39.466713Z",
     "iopub.status.busy": "2025-07-30T20:28:39.465679Z",
     "iopub.status.idle": "2025-07-30T20:28:39.472925Z",
     "shell.execute_reply": "2025-07-30T20:28:39.471848Z"
    },
    "papermill": {
     "duration": 0.032434,
     "end_time": "2025-07-30T20:28:39.474552",
     "exception": false,
     "start_time": "2025-07-30T20:28:39.442118",
     "status": "completed"
    },
    "tags": []
   },
   "outputs": [
    {
     "name": "stdout",
     "output_type": "stream",
     "text": [
      "Using Seed: 2023\n"
     ]
    }
   ],
   "source": [
    "import numpy as np\n",
    "parsed_seed = int(seed)\n",
    "np.random.seed(parsed_seed)\n",
    "print(f\"Using Seed: {parsed_seed}\")"
   ]
  },
  {
   "cell_type": "markdown",
   "id": "e0ebdc57",
   "metadata": {
    "papermill": {
     "duration": 0.018447,
     "end_time": "2025-07-30T20:28:39.512337",
     "exception": false,
     "start_time": "2025-07-30T20:28:39.493890",
     "status": "completed"
    },
    "tags": []
   },
   "source": [
    "# Loading Data"
   ]
  },
  {
   "cell_type": "markdown",
   "id": "681925a3",
   "metadata": {
    "papermill": {
     "duration": 0.018425,
     "end_time": "2025-07-30T20:28:39.549343",
     "exception": false,
     "start_time": "2025-07-30T20:28:39.530918",
     "status": "completed"
    },
    "tags": []
   },
   "source": [
    "Load siab_train, siab_test, siab_calib and/or \n",
    "load siab_train_features, siab_train_labels"
   ]
  },
  {
   "cell_type": "code",
   "execution_count": 9,
   "id": "f0496b8a",
   "metadata": {
    "execution": {
     "iopub.execute_input": "2025-07-30T20:28:39.591889Z",
     "iopub.status.busy": "2025-07-30T20:28:39.591114Z",
     "iopub.status.idle": "2025-07-30T20:28:53.458288Z",
     "shell.execute_reply": "2025-07-30T20:28:53.457102Z"
    },
    "papermill": {
     "duration": 13.892501,
     "end_time": "2025-07-30T20:28:53.460211",
     "exception": false,
     "start_time": "2025-07-30T20:28:39.567710",
     "status": "completed"
    },
    "tags": []
   },
   "outputs": [
    {
     "name": "stdout",
     "output_type": "stream",
     "text": [
      "Loading SIAB data from cache: data/siab_cached.csv.gz\n"
     ]
    },
    {
     "name": "stdout",
     "output_type": "stream",
     "text": [
      "(643690, 164)\n"
     ]
    }
   ],
   "source": [
    "from pathlib import Path\n",
    "import pandas as pd\n",
    "\n",
    "# File paths\n",
    "raw_file = Path(\"data/raw/siab.csv\")\n",
    "cache_file = Path(\"data/siab_cached.csv.gz\")\n",
    "\n",
    "# Ensure cache directory exists\n",
    "cache_file.parent.mkdir(parents=True, exist_ok=True)\n",
    "\n",
    "# Load with simple caching\n",
    "if cache_file.exists():\n",
    "    print(f\"Loading SIAB data from cache: {cache_file}\")\n",
    "    siab = pd.read_csv(cache_file, compression='gzip')\n",
    "else:\n",
    "    print(f\"Cache not found. Reading raw SIAB data: {raw_file}\")\n",
    "    siab = pd.read_csv(raw_file)\n",
    "    siab.to_csv(cache_file, index=False, compression='gzip')\n",
    "    print(f\"Cached SIAB data to: {cache_file}\")\n",
    "\n",
    "# Now use `siab` DataFrame as needed\n",
    "print(siab.shape)"
   ]
  },
  {
   "cell_type": "code",
   "execution_count": 10,
   "id": "db0ca512-5f53-4dba-abdb-a2888bca41ba",
   "metadata": {
    "execution": {
     "iopub.execute_input": "2025-07-30T20:28:53.538692Z",
     "iopub.status.busy": "2025-07-30T20:28:53.537389Z",
     "iopub.status.idle": "2025-07-30T20:28:53.543985Z",
     "shell.execute_reply": "2025-07-30T20:28:53.542966Z"
    },
    "papermill": {
     "duration": 0.049195,
     "end_time": "2025-07-30T20:28:53.548037",
     "exception": false,
     "start_time": "2025-07-30T20:28:53.498842",
     "status": "completed"
    },
    "tags": []
   },
   "outputs": [],
   "source": [
    "#siab"
   ]
  },
  {
   "cell_type": "code",
   "execution_count": 11,
   "id": "a0edb063",
   "metadata": {
    "execution": {
     "iopub.execute_input": "2025-07-30T20:28:53.617123Z",
     "iopub.status.busy": "2025-07-30T20:28:53.616586Z",
     "iopub.status.idle": "2025-07-30T20:28:53.623094Z",
     "shell.execute_reply": "2025-07-30T20:28:53.621864Z"
    },
    "papermill": {
     "duration": 0.039602,
     "end_time": "2025-07-30T20:28:53.627267",
     "exception": false,
     "start_time": "2025-07-30T20:28:53.587665",
     "status": "completed"
    },
    "tags": []
   },
   "outputs": [],
   "source": [
    "#import pandas as pd\n",
    "#\n",
    "#X_train = pd.read_csv(\"./data/X_train.csv\")\n",
    "#y_train = pd.read_csv(\"./data/y_train.csv\")"
   ]
  },
  {
   "cell_type": "code",
   "execution_count": 12,
   "id": "63d08085",
   "metadata": {
    "execution": {
     "iopub.execute_input": "2025-07-30T20:28:53.684249Z",
     "iopub.status.busy": "2025-07-30T20:28:53.683721Z",
     "iopub.status.idle": "2025-07-30T20:28:53.690251Z",
     "shell.execute_reply": "2025-07-30T20:28:53.688996Z"
    },
    "papermill": {
     "duration": 0.038916,
     "end_time": "2025-07-30T20:28:53.694444",
     "exception": false,
     "start_time": "2025-07-30T20:28:53.655528",
     "status": "completed"
    },
    "tags": []
   },
   "outputs": [],
   "source": [
    "#X_test = pd.read_csv(\"./data/X_test.csv\")\n",
    "#y_true = pd.read_csv(\"./data/y_test.csv\")"
   ]
  },
  {
   "cell_type": "code",
   "execution_count": 13,
   "id": "98a8d0fa-1d3d-4ed8-bb2c-281470e24add",
   "metadata": {
    "execution": {
     "iopub.execute_input": "2025-07-30T20:28:53.753558Z",
     "iopub.status.busy": "2025-07-30T20:28:53.753062Z",
     "iopub.status.idle": "2025-07-30T20:28:53.759974Z",
     "shell.execute_reply": "2025-07-30T20:28:53.758570Z"
    },
    "papermill": {
     "duration": 0.041283,
     "end_time": "2025-07-30T20:28:53.763854",
     "exception": false,
     "start_time": "2025-07-30T20:28:53.722571",
     "status": "completed"
    },
    "tags": []
   },
   "outputs": [],
   "source": [
    "# Calibration data for conformal\n",
    "#X_calib = pd.read_csv(\"./data/X_calib.csv\")\n",
    "#y_calib = pd.read_csv(\"./data/y_calib.csv\")"
   ]
  },
  {
   "cell_type": "markdown",
   "id": "997051c5-15bd-4b69-9786-c3001a3ce484",
   "metadata": {
    "papermill": {
     "duration": 0.028192,
     "end_time": "2025-07-30T20:28:53.819545",
     "exception": false,
     "start_time": "2025-07-30T20:28:53.791353",
     "status": "completed"
    },
    "tags": []
   },
   "source": [
    "# Splitting Data and Setting Training Data Size"
   ]
  },
  {
   "cell_type": "code",
   "execution_count": 14,
   "id": "e993b61f-042d-41a6-8c81-f55681f86335",
   "metadata": {
    "execution": {
     "iopub.execute_input": "2025-07-30T20:28:53.913822Z",
     "iopub.status.busy": "2025-07-30T20:28:53.913408Z",
     "iopub.status.idle": "2025-07-30T20:28:53.927832Z",
     "shell.execute_reply": "2025-07-30T20:28:53.926801Z"
    },
    "papermill": {
     "duration": 0.065392,
     "end_time": "2025-07-30T20:28:53.929560",
     "exception": false,
     "start_time": "2025-07-30T20:28:53.864168",
     "status": "completed"
    },
    "tags": []
   },
   "outputs": [],
   "source": [
    "def sample_by_year_size(df,\n",
    "                        training_year: str,\n",
    "                        training_size: str,\n",
    "                        random_state: int = 42):\n",
    "    # --- parse training_year into a list of int years ---\n",
    "    if \"_\" in training_year:\n",
    "        start_str, end_str = training_year.split(\"_\", 1)\n",
    "        start = int(start_str)\n",
    "        end   = int(end_str) if len(end_str) == 4 else (int(end_str) + (start // 100)*100)\n",
    "        years = list(range(start, end + 1))\n",
    "    else:\n",
    "        years = [int(training_year)]\n",
    "\n",
    "    df = df[df[\"year\"].isin(years)].reset_index(drop=True)\n",
    "\n",
    "    # --- map training_size to total number of samples ---\n",
    "    total_map = {\"25k\": 25_000, \"5k\": 5_000, \"1k\": 1_000}\n",
    "    if training_size not in total_map:\n",
    "        return df  # e.g. \"all\"\n",
    "\n",
    "    total_samples = total_map[training_size]\n",
    "    n_years       = len(years)\n",
    "    base          = total_samples // n_years\n",
    "    remainder     = total_samples % n_years\n",
    "\n",
    "    # --- build a dict: year -> how many to sample ---\n",
    "    # give +1 to the first `remainder` years in ascending order\n",
    "    quotas = {\n",
    "        year: base + (1 if idx < remainder else 0)\n",
    "        for idx, year in enumerate(sorted(years))\n",
    "    }\n",
    "\n",
    "    # --- sample per‐year according to the quota dict ---\n",
    "    sampled = (\n",
    "        df\n",
    "        .groupby(\"year\", group_keys=False)\n",
    "        .apply(lambda grp: grp.sample(\n",
    "            n=min(len(grp), quotas[grp.name]),\n",
    "            random_state=random_state))\n",
    "        .reset_index(drop=True)\n",
    "    )\n",
    "\n",
    "    return sampled"
   ]
  },
  {
   "cell_type": "code",
   "execution_count": 15,
   "id": "c0ccd338-0e02-41f3-a09d-f56f9266e3fb",
   "metadata": {
    "execution": {
     "iopub.execute_input": "2025-07-30T20:28:53.972581Z",
     "iopub.status.busy": "2025-07-30T20:28:53.971599Z",
     "iopub.status.idle": "2025-07-30T20:28:53.978136Z",
     "shell.execute_reply": "2025-07-30T20:28:53.976983Z"
    },
    "papermill": {
     "duration": 0.029931,
     "end_time": "2025-07-30T20:28:53.980111",
     "exception": false,
     "start_time": "2025-07-30T20:28:53.950180",
     "status": "completed"
    },
    "tags": []
   },
   "outputs": [],
   "source": [
    "#universe[\"training_size\"]"
   ]
  },
  {
   "cell_type": "code",
   "execution_count": 16,
   "id": "ca707fd7-8047-4acd-bfa5-66248fbbf8e6",
   "metadata": {
    "execution": {
     "iopub.execute_input": "2025-07-30T20:28:54.023389Z",
     "iopub.status.busy": "2025-07-30T20:28:54.022258Z",
     "iopub.status.idle": "2025-07-30T20:28:54.029166Z",
     "shell.execute_reply": "2025-07-30T20:28:54.027607Z"
    },
    "papermill": {
     "duration": 0.030221,
     "end_time": "2025-07-30T20:28:54.031020",
     "exception": false,
     "start_time": "2025-07-30T20:28:54.000799",
     "status": "completed"
    },
    "tags": []
   },
   "outputs": [],
   "source": [
    "#universe[\"training_year\"]"
   ]
  },
  {
   "cell_type": "code",
   "execution_count": 17,
   "id": "aea9c6ef-6f46-42c8-85eb-5a62025c1508",
   "metadata": {
    "execution": {
     "iopub.execute_input": "2025-07-30T20:28:54.074400Z",
     "iopub.status.busy": "2025-07-30T20:28:54.073631Z",
     "iopub.status.idle": "2025-07-30T20:28:55.407121Z",
     "shell.execute_reply": "2025-07-30T20:28:55.406165Z"
    },
    "papermill": {
     "duration": 1.357146,
     "end_time": "2025-07-30T20:28:55.409155",
     "exception": false,
     "start_time": "2025-07-30T20:28:54.052009",
     "status": "completed"
    },
    "tags": []
   },
   "outputs": [],
   "source": [
    "siab_train = sample_by_year_size(siab,\n",
    "                               training_year=universe[\"training_year\"],\n",
    "                               training_size=universe[\"training_size\"])"
   ]
  },
  {
   "cell_type": "code",
   "execution_count": 18,
   "id": "8d3afb32-789d-442c-8d5d-9f5aa8dd2eed",
   "metadata": {
    "execution": {
     "iopub.execute_input": "2025-07-30T20:28:55.454471Z",
     "iopub.status.busy": "2025-07-30T20:28:55.453503Z",
     "iopub.status.idle": "2025-07-30T20:28:55.458788Z",
     "shell.execute_reply": "2025-07-30T20:28:55.458019Z"
    },
    "papermill": {
     "duration": 0.029828,
     "end_time": "2025-07-30T20:28:55.460024",
     "exception": false,
     "start_time": "2025-07-30T20:28:55.430196",
     "status": "completed"
    },
    "tags": []
   },
   "outputs": [],
   "source": [
    "#siab_train.shape"
   ]
  },
  {
   "cell_type": "code",
   "execution_count": 19,
   "id": "d582db68-1a4c-47fb-84fc-08518dc1975a",
   "metadata": {
    "execution": {
     "iopub.execute_input": "2025-07-30T20:28:55.502473Z",
     "iopub.status.busy": "2025-07-30T20:28:55.501700Z",
     "iopub.status.idle": "2025-07-30T20:28:55.508575Z",
     "shell.execute_reply": "2025-07-30T20:28:55.507091Z"
    },
    "papermill": {
     "duration": 0.040113,
     "end_time": "2025-07-30T20:28:55.511355",
     "exception": false,
     "start_time": "2025-07-30T20:28:55.471242",
     "status": "completed"
    },
    "tags": []
   },
   "outputs": [],
   "source": [
    "#display(siab_train.groupby(\"year\").size())"
   ]
  },
  {
   "cell_type": "code",
   "execution_count": 20,
   "id": "a561edb4-d032-42cb-8256-22eac1111c64",
   "metadata": {
    "execution": {
     "iopub.execute_input": "2025-07-30T20:28:55.558350Z",
     "iopub.status.busy": "2025-07-30T20:28:55.557568Z",
     "iopub.status.idle": "2025-07-30T20:28:55.779288Z",
     "shell.execute_reply": "2025-07-30T20:28:55.778163Z"
    },
    "papermill": {
     "duration": 0.248429,
     "end_time": "2025-07-30T20:28:55.781872",
     "exception": false,
     "start_time": "2025-07-30T20:28:55.533443",
     "status": "completed"
    },
    "tags": []
   },
   "outputs": [],
   "source": [
    "#siab_train = siab_s[siab_s.year < 2015]\n",
    "siab_calib = siab[siab.year == 2015]\n",
    "siab_test = siab[siab.year == 2016]"
   ]
  },
  {
   "cell_type": "code",
   "execution_count": 21,
   "id": "472de16f-c3db-4916-846b-1f0de9cf1746",
   "metadata": {
    "execution": {
     "iopub.execute_input": "2025-07-30T20:28:55.815886Z",
     "iopub.status.busy": "2025-07-30T20:28:55.815368Z",
     "iopub.status.idle": "2025-07-30T20:28:55.829243Z",
     "shell.execute_reply": "2025-07-30T20:28:55.828223Z"
    },
    "papermill": {
     "duration": 0.029451,
     "end_time": "2025-07-30T20:28:55.831234",
     "exception": false,
     "start_time": "2025-07-30T20:28:55.801783",
     "status": "completed"
    },
    "tags": []
   },
   "outputs": [],
   "source": [
    "X_train = siab_train.iloc[:,4:164]\n",
    "y_train = siab_train.iloc[:, [3]]"
   ]
  },
  {
   "cell_type": "code",
   "execution_count": 22,
   "id": "828c96af-f43a-4ed6-ba47-8ac73a47d56c",
   "metadata": {
    "execution": {
     "iopub.execute_input": "2025-07-30T20:28:55.875669Z",
     "iopub.status.busy": "2025-07-30T20:28:55.875088Z",
     "iopub.status.idle": "2025-07-30T20:28:55.955451Z",
     "shell.execute_reply": "2025-07-30T20:28:55.953871Z"
    },
    "papermill": {
     "duration": 0.105342,
     "end_time": "2025-07-30T20:28:55.958396",
     "exception": false,
     "start_time": "2025-07-30T20:28:55.853054",
     "status": "completed"
    },
    "tags": []
   },
   "outputs": [],
   "source": [
    "X_calib = siab_calib.iloc[:,4:164]\n",
    "y_calib = siab_calib.iloc[:, [3]]"
   ]
  },
  {
   "cell_type": "code",
   "execution_count": 23,
   "id": "c34be9c3-6bd6-476e-acd3-845840e303be",
   "metadata": {
    "execution": {
     "iopub.execute_input": "2025-07-30T20:28:56.016738Z",
     "iopub.status.busy": "2025-07-30T20:28:56.016319Z",
     "iopub.status.idle": "2025-07-30T20:28:56.137817Z",
     "shell.execute_reply": "2025-07-30T20:28:56.136702Z"
    },
    "papermill": {
     "duration": 0.149533,
     "end_time": "2025-07-30T20:28:56.139788",
     "exception": false,
     "start_time": "2025-07-30T20:28:55.990255",
     "status": "completed"
    },
    "tags": []
   },
   "outputs": [],
   "source": [
    "X_test = siab_test.iloc[:,4:164]\n",
    "y_true = siab_test.iloc[:, [3]]"
   ]
  },
  {
   "cell_type": "markdown",
   "id": "9901737e-04df-44f0-9100-f5ad144ed040",
   "metadata": {
    "papermill": {
     "duration": 0.046128,
     "end_time": "2025-07-30T20:28:56.232273",
     "exception": false,
     "start_time": "2025-07-30T20:28:56.186145",
     "status": "completed"
    },
    "tags": []
   },
   "source": [
    "# Splitting Data and Setting Training Data Size OLD VERSION"
   ]
  },
  {
   "cell_type": "code",
   "execution_count": 24,
   "id": "acbc8f7d-8fc8-4e86-8c59-5dcb0f58384b",
   "metadata": {
    "execution": {
     "iopub.execute_input": "2025-07-30T20:28:56.329260Z",
     "iopub.status.busy": "2025-07-30T20:28:56.328763Z",
     "iopub.status.idle": "2025-07-30T20:28:56.334770Z",
     "shell.execute_reply": "2025-07-30T20:28:56.333799Z"
    },
    "papermill": {
     "duration": 0.052964,
     "end_time": "2025-07-30T20:28:56.337664",
     "exception": false,
     "start_time": "2025-07-30T20:28:56.284700",
     "status": "completed"
    },
    "tags": []
   },
   "outputs": [],
   "source": [
    "#def sample_by_year(df, training_size, random_state=42):\n",
    "#    if training_size == \"2014\":\n",
    "#        return df[df[\"year\"] == 2014].reset_index(drop=True)\n",
    "#    \n",
    "#    size_map = {\n",
    "#        \"25k\": 5000,\n",
    "#        \"5k\": 1000,\n",
    "#        \"1k\": 200\n",
    "#    }\n",
    "#\n",
    "#    if training_size not in size_map:\n",
    "#        return df.reset_index(drop=True)  # use all data\n",
    "#\n",
    "#    n_per_year = size_map[training_size]\n",
    "#    grouped = df.groupby(\"year\")\n",
    "#    sampled = grouped.apply(lambda x: x.sample(n=min(n_per_year, len(x)), random_state=random_state))\n",
    "#    return sampled.reset_index(drop=True)"
   ]
  },
  {
   "cell_type": "code",
   "execution_count": 25,
   "id": "6d931f52-beaf-43ff-9e78-9d44a448d54e",
   "metadata": {
    "execution": {
     "iopub.execute_input": "2025-07-30T20:28:56.420489Z",
     "iopub.status.busy": "2025-07-30T20:28:56.420024Z",
     "iopub.status.idle": "2025-07-30T20:28:56.424900Z",
     "shell.execute_reply": "2025-07-30T20:28:56.423894Z"
    },
    "papermill": {
     "duration": 0.032604,
     "end_time": "2025-07-30T20:28:56.428118",
     "exception": false,
     "start_time": "2025-07-30T20:28:56.395514",
     "status": "completed"
    },
    "tags": []
   },
   "outputs": [],
   "source": [
    "#siab_s = sample_by_year(siab, universe[\"training_size\"])"
   ]
  },
  {
   "cell_type": "code",
   "execution_count": 26,
   "id": "5db0a40e-a4e2-4920-be85-b12ae061d70d",
   "metadata": {
    "execution": {
     "iopub.execute_input": "2025-07-30T20:28:56.533969Z",
     "iopub.status.busy": "2025-07-30T20:28:56.533586Z",
     "iopub.status.idle": "2025-07-30T20:28:56.538737Z",
     "shell.execute_reply": "2025-07-30T20:28:56.537838Z"
    },
    "papermill": {
     "duration": 0.075586,
     "end_time": "2025-07-30T20:28:56.540221",
     "exception": false,
     "start_time": "2025-07-30T20:28:56.464635",
     "status": "completed"
    },
    "tags": []
   },
   "outputs": [],
   "source": [
    "#display(siab_s.groupby(\"year\").size())"
   ]
  },
  {
   "cell_type": "code",
   "execution_count": 27,
   "id": "e6c733c5",
   "metadata": {
    "execution": {
     "iopub.execute_input": "2025-07-30T20:28:56.645451Z",
     "iopub.status.busy": "2025-07-30T20:28:56.645067Z",
     "iopub.status.idle": "2025-07-30T20:28:56.817367Z",
     "shell.execute_reply": "2025-07-30T20:28:56.816131Z"
    },
    "papermill": {
     "duration": 0.245755,
     "end_time": "2025-07-30T20:28:56.819193",
     "exception": false,
     "start_time": "2025-07-30T20:28:56.573438",
     "status": "completed"
    },
    "tags": []
   },
   "outputs": [],
   "source": [
    "# Auxiliary data needed downstream in the pipeline\n",
    "\n",
    "org_train = X_train.copy()\n",
    "org_test = X_test.copy()\n",
    "org_calib = X_calib.copy()"
   ]
  },
  {
   "cell_type": "code",
   "execution_count": 28,
   "id": "1466abac-c6da-4492-a62f-4240ae3783af",
   "metadata": {
    "execution": {
     "iopub.execute_input": "2025-07-30T20:28:56.919370Z",
     "iopub.status.busy": "2025-07-30T20:28:56.918386Z",
     "iopub.status.idle": "2025-07-30T20:28:56.924696Z",
     "shell.execute_reply": "2025-07-30T20:28:56.923643Z"
    },
    "papermill": {
     "duration": 0.033791,
     "end_time": "2025-07-30T20:28:56.926241",
     "exception": false,
     "start_time": "2025-07-30T20:28:56.892450",
     "status": "completed"
    },
    "tags": []
   },
   "outputs": [],
   "source": [
    "# put in other script?\n",
    "# Group sizes\n",
    "\n",
    "#def calculate_percentages(df, df_name):\n",
    "#    total_entries = len(df)\n",
    "#\n",
    "#    female_pct = (df['frau1'] == 1).mean() * 100\n",
    "#    non_german_pct = ((df['maxdeutsch1'] == 0) & (df['maxdeutsch.Missing.'] == 0)).mean() * 100\n",
    "#    non_german_male_pct = ((df['frau1'] == 0) & (df['maxdeutsch1'] == 0) & (df['maxdeutsch.Missing.'] == 0)).mean() * 100\n",
    "#    non_german_female_pct = ((df['frau1'] == 1) & (df['maxdeutsch1'] == 0) & (df['maxdeutsch.Missing.'] == 0)).mean() * 100\n",
    "#\n",
    "#    print(f\"--- {df_name} ---\")\n",
    "#    print(f\"Female: {female_pct:.2f}%\")\n",
    "#    print(f\"Non-German: {non_german_pct:.2f}%\")\n",
    "#    print(f\"Non-German Male: {non_german_male_pct:.2f}%\")\n",
    "#    print(f\"Non-German Female: {non_german_female_pct:.2f}%\\n\")\n",
    "#\n",
    "## Calculate for each DataFrame\n",
    "#calculate_percentages(siab_calib, \"siab_calib\")\n",
    "#calculate_percentages(siab_test, \"siab_test\")\n",
    "#calculate_percentages(siab_train, \"siab_train\")"
   ]
  },
  {
   "cell_type": "markdown",
   "id": "0a4a1b33",
   "metadata": {
    "papermill": {
     "duration": 0.022271,
     "end_time": "2025-07-30T20:28:56.983702",
     "exception": false,
     "start_time": "2025-07-30T20:28:56.961431",
     "status": "completed"
    },
    "tags": []
   },
   "source": [
    "# Preprocessing Data"
   ]
  },
  {
   "cell_type": "code",
   "execution_count": 29,
   "id": "ca879031",
   "metadata": {
    "execution": {
     "iopub.execute_input": "2025-07-30T20:28:57.029706Z",
     "iopub.status.busy": "2025-07-30T20:28:57.029295Z",
     "iopub.status.idle": "2025-07-30T20:28:57.035803Z",
     "shell.execute_reply": "2025-07-30T20:28:57.034682Z"
    },
    "papermill": {
     "duration": 0.033142,
     "end_time": "2025-07-30T20:28:57.038798",
     "exception": false,
     "start_time": "2025-07-30T20:28:57.005656",
     "status": "completed"
    },
    "tags": []
   },
   "outputs": [],
   "source": [
    "# EXCLUDE PROTECTED FEATURES\n",
    "# ----------------------\n",
    "# \"exclude_features\": \"none\", # \"nationality\", \"sex\", \"nationality-sex\"\n",
    "\n",
    "excluded_features = universe[\"exclude_features\"].split(\"-\") # split, e.g.: \"nationality-sex\" -> [\"nationality\", \"sex\"]\n",
    "excluded_features_dictionary = {\n",
    "    \"nationality\": [\"maxdeutsch1\", \"maxdeutsch.Missing.\"],\n",
    "    \"sex\": [\"frau1\"],\n",
    "    \"age\": [\"age\"],\n",
    "}\n"
   ]
  },
  {
   "cell_type": "code",
   "execution_count": 30,
   "id": "b745ac60",
   "metadata": {
    "execution": {
     "iopub.execute_input": "2025-07-30T20:28:57.142949Z",
     "iopub.status.busy": "2025-07-30T20:28:57.142509Z",
     "iopub.status.idle": "2025-07-30T20:28:57.150182Z",
     "shell.execute_reply": "2025-07-30T20:28:57.149169Z"
    },
    "papermill": {
     "duration": 0.063421,
     "end_time": "2025-07-30T20:28:57.151938",
     "exception": false,
     "start_time": "2025-07-30T20:28:57.088517",
     "status": "completed"
    },
    "tags": []
   },
   "outputs": [],
   "source": [
    "# Code nice names to column names\n",
    "\n",
    "excluded_features_columns = [\n",
    "    excluded_features_dictionary[f] for f in excluded_features if len(f) > 0 and f != \"none\"\n",
    "]"
   ]
  },
  {
   "cell_type": "code",
   "execution_count": 31,
   "id": "f84f73a2",
   "metadata": {
    "execution": {
     "iopub.execute_input": "2025-07-30T20:28:57.248006Z",
     "iopub.status.busy": "2025-07-30T20:28:57.247649Z",
     "iopub.status.idle": "2025-07-30T20:28:57.253001Z",
     "shell.execute_reply": "2025-07-30T20:28:57.252003Z"
    },
    "papermill": {
     "duration": 0.046459,
     "end_time": "2025-07-30T20:28:57.254690",
     "exception": false,
     "start_time": "2025-07-30T20:28:57.208231",
     "status": "completed"
    },
    "tags": []
   },
   "outputs": [],
   "source": [
    "from utils import flatten_once\n",
    "\n",
    "excluded_features_columns = flatten_once(excluded_features_columns)"
   ]
  },
  {
   "cell_type": "code",
   "execution_count": 32,
   "id": "884dea22",
   "metadata": {
    "execution": {
     "iopub.execute_input": "2025-07-30T20:28:57.325166Z",
     "iopub.status.busy": "2025-07-30T20:28:57.324751Z",
     "iopub.status.idle": "2025-07-30T20:28:57.385127Z",
     "shell.execute_reply": "2025-07-30T20:28:57.381438Z"
    },
    "papermill": {
     "duration": 0.107835,
     "end_time": "2025-07-30T20:28:57.387982",
     "exception": false,
     "start_time": "2025-07-30T20:28:57.280147",
     "status": "completed"
    },
    "tags": []
   },
   "outputs": [
    {
     "name": "stdout",
     "output_type": "stream",
     "text": [
      "Dropping features: ['maxdeutsch1', 'maxdeutsch.Missing.', 'frau1']\n"
     ]
    }
   ],
   "source": [
    "if len(excluded_features_columns) > 0:\n",
    "    print(f\"Dropping features: {excluded_features_columns}\")\n",
    "    X_train.drop(excluded_features_columns, axis=1, inplace=True)"
   ]
  },
  {
   "cell_type": "code",
   "execution_count": 33,
   "id": "95ab8b16",
   "metadata": {
    "execution": {
     "iopub.execute_input": "2025-07-30T20:28:57.491500Z",
     "iopub.status.busy": "2025-07-30T20:28:57.491077Z",
     "iopub.status.idle": "2025-07-30T20:28:57.611854Z",
     "shell.execute_reply": "2025-07-30T20:28:57.610878Z"
    },
    "papermill": {
     "duration": 0.197284,
     "end_time": "2025-07-30T20:28:57.613891",
     "exception": false,
     "start_time": "2025-07-30T20:28:57.416607",
     "status": "completed"
    },
    "tags": []
   },
   "outputs": [
    {
     "name": "stdout",
     "output_type": "stream",
     "text": [
      "Dropping features: ['maxdeutsch1', 'maxdeutsch.Missing.', 'frau1']\n"
     ]
    }
   ],
   "source": [
    "if len(excluded_features_columns) > 0:\n",
    "    print(f\"Dropping features: {excluded_features_columns}\")\n",
    "    X_test.drop(excluded_features_columns, axis=1, inplace=True)"
   ]
  },
  {
   "cell_type": "code",
   "execution_count": 34,
   "id": "1853aaf5-fb9f-46cb-a2b5-8ea4ae2237e4",
   "metadata": {
    "execution": {
     "iopub.execute_input": "2025-07-30T20:28:57.693766Z",
     "iopub.status.busy": "2025-07-30T20:28:57.693287Z",
     "iopub.status.idle": "2025-07-30T20:28:57.804429Z",
     "shell.execute_reply": "2025-07-30T20:28:57.803189Z"
    },
    "papermill": {
     "duration": 0.150502,
     "end_time": "2025-07-30T20:28:57.806624",
     "exception": false,
     "start_time": "2025-07-30T20:28:57.656122",
     "status": "completed"
    },
    "tags": []
   },
   "outputs": [
    {
     "name": "stdout",
     "output_type": "stream",
     "text": [
      "Dropping features: ['maxdeutsch1', 'maxdeutsch.Missing.', 'frau1']\n"
     ]
    }
   ],
   "source": [
    "if len(excluded_features_columns) > 0:\n",
    "    print(f\"Dropping features: {excluded_features_columns}\")\n",
    "    X_calib.drop(excluded_features_columns, axis=1, inplace=True)"
   ]
  },
  {
   "cell_type": "code",
   "execution_count": 35,
   "id": "6727d079-03e5-481e-9d38-292a90b7a0a8",
   "metadata": {
    "execution": {
     "iopub.execute_input": "2025-07-30T20:28:57.899123Z",
     "iopub.status.busy": "2025-07-30T20:28:57.898680Z",
     "iopub.status.idle": "2025-07-30T20:28:57.903559Z",
     "shell.execute_reply": "2025-07-30T20:28:57.902592Z"
    },
    "papermill": {
     "duration": 0.04304,
     "end_time": "2025-07-30T20:28:57.905361",
     "exception": false,
     "start_time": "2025-07-30T20:28:57.862321",
     "status": "completed"
    },
    "tags": []
   },
   "outputs": [],
   "source": [
    "# SPLIT & STRATIFY DATA\n",
    "# ----------------------"
   ]
  },
  {
   "cell_type": "code",
   "execution_count": 36,
   "id": "76c4dc6d",
   "metadata": {
    "execution": {
     "iopub.execute_input": "2025-07-30T20:28:57.957851Z",
     "iopub.status.busy": "2025-07-30T20:28:57.957353Z",
     "iopub.status.idle": "2025-07-30T20:28:57.962671Z",
     "shell.execute_reply": "2025-07-30T20:28:57.961944Z"
    },
    "papermill": {
     "duration": 0.031068,
     "end_time": "2025-07-30T20:28:57.963946",
     "exception": false,
     "start_time": "2025-07-30T20:28:57.932878",
     "status": "completed"
    },
    "tags": []
   },
   "outputs": [],
   "source": [
    "# EXCLUDE CERTAIN SUBGROUPS\n",
    "# ----------------------\n",
    "\n",
    "mode = universe.get(\"exclude_subgroups\", \"keep-all\") \n",
    "# Fetches the exclude_subgroups setting from the universe dict.\n",
    "# Defaults to \"keep-all\" if the key is missing."
   ]
  },
  {
   "cell_type": "code",
   "execution_count": 37,
   "id": "21994072",
   "metadata": {
    "execution": {
     "iopub.execute_input": "2025-07-30T20:28:58.054192Z",
     "iopub.status.busy": "2025-07-30T20:28:58.053840Z",
     "iopub.status.idle": "2025-07-30T20:28:58.059886Z",
     "shell.execute_reply": "2025-07-30T20:28:58.058997Z"
    },
    "papermill": {
     "duration": 0.05106,
     "end_time": "2025-07-30T20:28:58.062524",
     "exception": false,
     "start_time": "2025-07-30T20:28:58.011464",
     "status": "completed"
    },
    "tags": []
   },
   "outputs": [],
   "source": [
    "if mode == \"keep-all\":\n",
    "    keep_mask = pd.Series(True, index=org_train.index)\n",
    "\n",
    "# org_train contains the original feature columns from features_org (in Simson)\n",
    "# features_org contains unprocessed features, for me X_train at beginning ???\n",
    "# For keep-all, creates a boolean Series (keep_mask) of all True, so no rows are removed.\n",
    "\n",
    "elif mode == \"drop-non-german\":\n",
    "    keep_mask = org_train[\"maxdeutsch1\"] == 1 # ??? what about missing values?\n",
    "\n",
    "else:\n",
    "    raise ValueError(f\"Unsupported mode for exclude_subgroups: {mode}\")\n"
   ]
  },
  {
   "cell_type": "code",
   "execution_count": 38,
   "id": "71651440",
   "metadata": {
    "execution": {
     "iopub.execute_input": "2025-07-30T20:28:58.104658Z",
     "iopub.status.busy": "2025-07-30T20:28:58.104278Z",
     "iopub.status.idle": "2025-07-30T20:28:58.112093Z",
     "shell.execute_reply": "2025-07-30T20:28:58.111212Z"
    },
    "papermill": {
     "duration": 0.032568,
     "end_time": "2025-07-30T20:28:58.115523",
     "exception": false,
     "start_time": "2025-07-30T20:28:58.082955",
     "status": "completed"
    },
    "tags": []
   },
   "outputs": [
    {
     "name": "stdout",
     "output_type": "stream",
     "text": [
      "Dropping 3312 rows (13.25%) where mode='drop-non-german'\n"
     ]
    }
   ],
   "source": [
    "n_drop = (~keep_mask).sum() # Calculates how many rows are set to be dropped\n",
    "if n_drop > 0:\n",
    "    pct = n_drop / len(keep_mask) * 100\n",
    "    print(f\"Dropping {n_drop} rows ({pct:.2f}%) where mode='{mode}'\")"
   ]
  },
  {
   "cell_type": "code",
   "execution_count": 39,
   "id": "5fb8eee5",
   "metadata": {
    "execution": {
     "iopub.execute_input": "2025-07-30T20:28:58.160071Z",
     "iopub.status.busy": "2025-07-30T20:28:58.159662Z",
     "iopub.status.idle": "2025-07-30T20:28:58.175640Z",
     "shell.execute_reply": "2025-07-30T20:28:58.174676Z"
    },
    "papermill": {
     "duration": 0.040537,
     "end_time": "2025-07-30T20:28:58.178129",
     "exception": false,
     "start_time": "2025-07-30T20:28:58.137592",
     "status": "completed"
    },
    "tags": []
   },
   "outputs": [],
   "source": [
    "X_train = X_train[keep_mask]"
   ]
  },
  {
   "cell_type": "code",
   "execution_count": 40,
   "id": "b202bb3a",
   "metadata": {
    "execution": {
     "iopub.execute_input": "2025-07-30T20:28:58.262351Z",
     "iopub.status.busy": "2025-07-30T20:28:58.261969Z",
     "iopub.status.idle": "2025-07-30T20:28:58.269837Z",
     "shell.execute_reply": "2025-07-30T20:28:58.268851Z"
    },
    "papermill": {
     "duration": 0.070075,
     "end_time": "2025-07-30T20:28:58.271666",
     "exception": false,
     "start_time": "2025-07-30T20:28:58.201591",
     "status": "completed"
    },
    "tags": []
   },
   "outputs": [],
   "source": [
    "y_train = y_train[keep_mask]"
   ]
  },
  {
   "cell_type": "markdown",
   "id": "493e2ac3",
   "metadata": {
    "papermill": {
     "duration": 0.021987,
     "end_time": "2025-07-30T20:28:58.343257",
     "exception": false,
     "start_time": "2025-07-30T20:28:58.321270",
     "status": "completed"
    },
    "tags": []
   },
   "source": [
    "# Model Training"
   ]
  },
  {
   "cell_type": "code",
   "execution_count": 41,
   "id": "679e1268",
   "metadata": {
    "execution": {
     "iopub.execute_input": "2025-07-30T20:28:58.443119Z",
     "iopub.status.busy": "2025-07-30T20:28:58.442723Z",
     "iopub.status.idle": "2025-07-30T20:28:58.757590Z",
     "shell.execute_reply": "2025-07-30T20:28:58.756568Z"
    },
    "papermill": {
     "duration": 0.363294,
     "end_time": "2025-07-30T20:28:58.759459",
     "exception": false,
     "start_time": "2025-07-30T20:28:58.396165",
     "status": "completed"
    },
    "tags": []
   },
   "outputs": [],
   "source": [
    "from sklearn.linear_model import LogisticRegression\n",
    "from sklearn.ensemble import GradientBoostingClassifier, RandomForestClassifier\n",
    "\n",
    "if (universe[\"model\"] == \"logreg\"):\n",
    "    model = LogisticRegression() #penalty=\"none\") #, solver=\"newton-cg\", max_iter=1) # include random_state=19 ?\n",
    "elif (universe[\"model\"] == \"penalized_logreg\"):\n",
    "    model = LogisticRegression(penalty=\"l2\", C=1.0) #, solver=\"newton-cg\", max_iter=1)\n",
    "elif (universe[\"model\"] == \"rf\"):\n",
    "    model = RandomForestClassifier(n_estimators=100, n_jobs=-1)\n",
    "elif (universe[\"model\"] == \"gbm\"):\n",
    "    model = GradientBoostingClassifier()\n",
    "elif (universe[\"model\"] == \"elasticnet\"):\n",
    "    model = LogisticRegression(penalty = 'elasticnet', solver = 'saga', l1_ratio = 0.5, max_iter=5000) # which solver to use?\n",
    "else:\n",
    "    raise \"Unsupported universe.model\""
   ]
  },
  {
   "cell_type": "code",
   "execution_count": 42,
   "id": "0cc8f744",
   "metadata": {
    "execution": {
     "iopub.execute_input": "2025-07-30T20:28:58.871311Z",
     "iopub.status.busy": "2025-07-30T20:28:58.870864Z",
     "iopub.status.idle": "2025-07-30T20:28:58.878717Z",
     "shell.execute_reply": "2025-07-30T20:28:58.877651Z"
    },
    "papermill": {
     "duration": 0.047564,
     "end_time": "2025-07-30T20:28:58.880356",
     "exception": false,
     "start_time": "2025-07-30T20:28:58.832792",
     "status": "completed"
    },
    "tags": []
   },
   "outputs": [],
   "source": [
    "import numpy as np\n",
    "from sklearn.pipeline import Pipeline\n",
    "from sklearn.preprocessing import StandardScaler\n",
    "\n",
    "model = Pipeline([\n",
    "    #(\"continuous_processor\", continuous_processor),\n",
    "    #(\"categorical_preprocessor\", categorical_preprocessor),\n",
    "    (\"scale\", StandardScaler() if universe[\"scale\"] == \"scale\" else None), \n",
    "    (\"model\", model),\n",
    "])"
   ]
  },
  {
   "cell_type": "code",
   "execution_count": 43,
   "id": "9442c04d",
   "metadata": {
    "execution": {
     "iopub.execute_input": "2025-07-30T20:28:58.957327Z",
     "iopub.status.busy": "2025-07-30T20:28:58.956880Z",
     "iopub.status.idle": "2025-07-30T20:29:02.777289Z",
     "shell.execute_reply": "2025-07-30T20:29:02.776104Z"
    },
    "papermill": {
     "duration": 3.85298,
     "end_time": "2025-07-30T20:29:02.779572",
     "exception": false,
     "start_time": "2025-07-30T20:28:58.926592",
     "status": "completed"
    },
    "tags": []
   },
   "outputs": [
    {
     "data": {
      "text/html": [
       "<style>#sk-container-id-1 {color: black;background-color: white;}#sk-container-id-1 pre{padding: 0;}#sk-container-id-1 div.sk-toggleable {background-color: white;}#sk-container-id-1 label.sk-toggleable__label {cursor: pointer;display: block;width: 100%;margin-bottom: 0;padding: 0.3em;box-sizing: border-box;text-align: center;}#sk-container-id-1 label.sk-toggleable__label-arrow:before {content: \"▸\";float: left;margin-right: 0.25em;color: #696969;}#sk-container-id-1 label.sk-toggleable__label-arrow:hover:before {color: black;}#sk-container-id-1 div.sk-estimator:hover label.sk-toggleable__label-arrow:before {color: black;}#sk-container-id-1 div.sk-toggleable__content {max-height: 0;max-width: 0;overflow: hidden;text-align: left;background-color: #f0f8ff;}#sk-container-id-1 div.sk-toggleable__content pre {margin: 0.2em;color: black;border-radius: 0.25em;background-color: #f0f8ff;}#sk-container-id-1 input.sk-toggleable__control:checked~div.sk-toggleable__content {max-height: 200px;max-width: 100%;overflow: auto;}#sk-container-id-1 input.sk-toggleable__control:checked~label.sk-toggleable__label-arrow:before {content: \"▾\";}#sk-container-id-1 div.sk-estimator input.sk-toggleable__control:checked~label.sk-toggleable__label {background-color: #d4ebff;}#sk-container-id-1 div.sk-label input.sk-toggleable__control:checked~label.sk-toggleable__label {background-color: #d4ebff;}#sk-container-id-1 input.sk-hidden--visually {border: 0;clip: rect(1px 1px 1px 1px);clip: rect(1px, 1px, 1px, 1px);height: 1px;margin: -1px;overflow: hidden;padding: 0;position: absolute;width: 1px;}#sk-container-id-1 div.sk-estimator {font-family: monospace;background-color: #f0f8ff;border: 1px dotted black;border-radius: 0.25em;box-sizing: border-box;margin-bottom: 0.5em;}#sk-container-id-1 div.sk-estimator:hover {background-color: #d4ebff;}#sk-container-id-1 div.sk-parallel-item::after {content: \"\";width: 100%;border-bottom: 1px solid gray;flex-grow: 1;}#sk-container-id-1 div.sk-label:hover label.sk-toggleable__label {background-color: #d4ebff;}#sk-container-id-1 div.sk-serial::before {content: \"\";position: absolute;border-left: 1px solid gray;box-sizing: border-box;top: 0;bottom: 0;left: 50%;z-index: 0;}#sk-container-id-1 div.sk-serial {display: flex;flex-direction: column;align-items: center;background-color: white;padding-right: 0.2em;padding-left: 0.2em;position: relative;}#sk-container-id-1 div.sk-item {position: relative;z-index: 1;}#sk-container-id-1 div.sk-parallel {display: flex;align-items: stretch;justify-content: center;background-color: white;position: relative;}#sk-container-id-1 div.sk-item::before, #sk-container-id-1 div.sk-parallel-item::before {content: \"\";position: absolute;border-left: 1px solid gray;box-sizing: border-box;top: 0;bottom: 0;left: 50%;z-index: -1;}#sk-container-id-1 div.sk-parallel-item {display: flex;flex-direction: column;z-index: 1;position: relative;background-color: white;}#sk-container-id-1 div.sk-parallel-item:first-child::after {align-self: flex-end;width: 50%;}#sk-container-id-1 div.sk-parallel-item:last-child::after {align-self: flex-start;width: 50%;}#sk-container-id-1 div.sk-parallel-item:only-child::after {width: 0;}#sk-container-id-1 div.sk-dashed-wrapped {border: 1px dashed gray;margin: 0 0.4em 0.5em 0.4em;box-sizing: border-box;padding-bottom: 0.4em;background-color: white;}#sk-container-id-1 div.sk-label label {font-family: monospace;font-weight: bold;display: inline-block;line-height: 1.2em;}#sk-container-id-1 div.sk-label-container {text-align: center;}#sk-container-id-1 div.sk-container {/* jupyter's `normalize.less` sets `[hidden] { display: none; }` but bootstrap.min.css set `[hidden] { display: none !important; }` so we also need the `!important` here to be able to override the default hidden behavior on the sphinx rendered scikit-learn.org. See: https://github.com/scikit-learn/scikit-learn/issues/21755 */display: inline-block !important;position: relative;}#sk-container-id-1 div.sk-text-repr-fallback {display: none;}</style><div id=\"sk-container-id-1\" class=\"sk-top-container\"><div class=\"sk-text-repr-fallback\"><pre>Pipeline(steps=[(&#x27;scale&#x27;, StandardScaler()),\n",
       "                (&#x27;model&#x27;, RandomForestClassifier(n_jobs=-1))])</pre><b>In a Jupyter environment, please rerun this cell to show the HTML representation or trust the notebook. <br />On GitHub, the HTML representation is unable to render, please try loading this page with nbviewer.org.</b></div><div class=\"sk-container\" hidden><div class=\"sk-item sk-dashed-wrapped\"><div class=\"sk-label-container\"><div class=\"sk-label sk-toggleable\"><input class=\"sk-toggleable__control sk-hidden--visually\" id=\"sk-estimator-id-1\" type=\"checkbox\" ><label for=\"sk-estimator-id-1\" class=\"sk-toggleable__label sk-toggleable__label-arrow\">Pipeline</label><div class=\"sk-toggleable__content\"><pre>Pipeline(steps=[(&#x27;scale&#x27;, StandardScaler()),\n",
       "                (&#x27;model&#x27;, RandomForestClassifier(n_jobs=-1))])</pre></div></div></div><div class=\"sk-serial\"><div class=\"sk-item\"><div class=\"sk-estimator sk-toggleable\"><input class=\"sk-toggleable__control sk-hidden--visually\" id=\"sk-estimator-id-2\" type=\"checkbox\" ><label for=\"sk-estimator-id-2\" class=\"sk-toggleable__label sk-toggleable__label-arrow\">StandardScaler</label><div class=\"sk-toggleable__content\"><pre>StandardScaler()</pre></div></div></div><div class=\"sk-item\"><div class=\"sk-estimator sk-toggleable\"><input class=\"sk-toggleable__control sk-hidden--visually\" id=\"sk-estimator-id-3\" type=\"checkbox\" ><label for=\"sk-estimator-id-3\" class=\"sk-toggleable__label sk-toggleable__label-arrow\">RandomForestClassifier</label><div class=\"sk-toggleable__content\"><pre>RandomForestClassifier(n_jobs=-1)</pre></div></div></div></div></div></div></div>"
      ],
      "text/plain": [
       "Pipeline(steps=[('scale', StandardScaler()),\n",
       "                ('model', RandomForestClassifier(n_jobs=-1))])"
      ]
     },
     "execution_count": 43,
     "metadata": {},
     "output_type": "execute_result"
    }
   ],
   "source": [
    "model.fit(X_train, y_train.values.ravel())"
   ]
  },
  {
   "cell_type": "code",
   "execution_count": 44,
   "id": "af59f8c0",
   "metadata": {
    "execution": {
     "iopub.execute_input": "2025-07-30T20:29:02.859903Z",
     "iopub.status.busy": "2025-07-30T20:29:02.859496Z",
     "iopub.status.idle": "2025-07-30T20:29:02.865419Z",
     "shell.execute_reply": "2025-07-30T20:29:02.864255Z"
    },
    "papermill": {
     "duration": 0.037876,
     "end_time": "2025-07-30T20:29:02.868805",
     "exception": false,
     "start_time": "2025-07-30T20:29:02.830929",
     "status": "completed"
    },
    "tags": []
   },
   "outputs": [],
   "source": [
    "from fairness_multiverse.universe import predict_w_threshold"
   ]
  },
  {
   "cell_type": "code",
   "execution_count": 45,
   "id": "a7cf2e16",
   "metadata": {
    "execution": {
     "iopub.execute_input": "2025-07-30T20:29:03.026399Z",
     "iopub.status.busy": "2025-07-30T20:29:03.025994Z",
     "iopub.status.idle": "2025-07-30T20:29:04.305025Z",
     "shell.execute_reply": "2025-07-30T20:29:04.304097Z"
    },
    "papermill": {
     "duration": 1.3426,
     "end_time": "2025-07-30T20:29:04.306722",
     "exception": false,
     "start_time": "2025-07-30T20:29:02.964122",
     "status": "completed"
    },
    "tags": []
   },
   "outputs": [
    {
     "data": {
      "text/plain": [
       "0.8665031769033552"
      ]
     },
     "execution_count": 45,
     "metadata": {},
     "output_type": "execute_result"
    }
   ],
   "source": [
    "probs_test = model.predict_proba(X_test)\n",
    "\n",
    "'''\n",
    "Below code returns a boolean array (or binary 0/1 array depending on how it’s used) where each element \n",
    "is True if the probability of class 1 is greater than or equal to the threshold, and False otherwise.\n",
    "'''\n",
    "y_pred_default = predict_w_threshold(probs_test, 0.5)\n",
    "\n",
    "from sklearn.metrics import accuracy_score\n",
    "\n",
    "# Naive prediction\n",
    "accuracy_score(y_true = y_true, y_pred = y_pred_default)"
   ]
  },
  {
   "cell_type": "code",
   "execution_count": 46,
   "id": "081964c3",
   "metadata": {
    "execution": {
     "iopub.execute_input": "2025-07-30T20:29:04.365139Z",
     "iopub.status.busy": "2025-07-30T20:29:04.364715Z",
     "iopub.status.idle": "2025-07-30T20:29:05.815278Z",
     "shell.execute_reply": "2025-07-30T20:29:05.814336Z"
    },
    "papermill": {
     "duration": 1.476677,
     "end_time": "2025-07-30T20:29:05.817156",
     "exception": false,
     "start_time": "2025-07-30T20:29:04.340479",
     "status": "completed"
    },
    "tags": []
   },
   "outputs": [
    {
     "data": {
      "text/plain": [
       "array([0, 0, 0, ..., 0, 0, 0])"
      ]
     },
     "execution_count": 46,
     "metadata": {},
     "output_type": "execute_result"
    }
   ],
   "source": [
    "model.predict(X_test)"
   ]
  },
  {
   "cell_type": "markdown",
   "id": "56c9705b",
   "metadata": {
    "papermill": {
     "duration": 0.032903,
     "end_time": "2025-07-30T20:29:05.885513",
     "exception": false,
     "start_time": "2025-07-30T20:29:05.852610",
     "status": "completed"
    },
    "tags": []
   },
   "source": [
    "# Conformal Prediction"
   ]
  },
  {
   "cell_type": "code",
   "execution_count": 47,
   "id": "160ec6ff",
   "metadata": {
    "execution": {
     "iopub.execute_input": "2025-07-30T20:29:05.958892Z",
     "iopub.status.busy": "2025-07-30T20:29:05.958408Z",
     "iopub.status.idle": "2025-07-30T20:29:05.963750Z",
     "shell.execute_reply": "2025-07-30T20:29:05.962656Z"
    },
    "papermill": {
     "duration": 0.055465,
     "end_time": "2025-07-30T20:29:05.965549",
     "exception": false,
     "start_time": "2025-07-30T20:29:05.910084",
     "status": "completed"
    },
    "tags": []
   },
   "outputs": [],
   "source": [
    "# Miscoverage level for conformal prediction (10% allowed error rate => 90% target coverage)\n",
    "alpha = 0.1"
   ]
  },
  {
   "cell_type": "code",
   "execution_count": 48,
   "id": "eadf4555-3dd3-440e-8e35-f82a4ad9f855",
   "metadata": {
    "execution": {
     "iopub.execute_input": "2025-07-30T20:29:06.027108Z",
     "iopub.status.busy": "2025-07-30T20:29:06.026664Z",
     "iopub.status.idle": "2025-07-30T20:29:07.374321Z",
     "shell.execute_reply": "2025-07-30T20:29:07.373412Z"
    },
    "papermill": {
     "duration": 1.371265,
     "end_time": "2025-07-30T20:29:07.376171",
     "exception": false,
     "start_time": "2025-07-30T20:29:06.004906",
     "status": "completed"
    },
    "tags": []
   },
   "outputs": [],
   "source": [
    "probs_calib = model.predict_proba(X_calib)"
   ]
  },
  {
   "cell_type": "code",
   "execution_count": 49,
   "id": "2ed93547-6d5d-4983-9b36-1ecb300da49a",
   "metadata": {
    "execution": {
     "iopub.execute_input": "2025-07-30T20:29:07.423661Z",
     "iopub.status.busy": "2025-07-30T20:29:07.423192Z",
     "iopub.status.idle": "2025-07-30T20:29:07.428872Z",
     "shell.execute_reply": "2025-07-30T20:29:07.427940Z"
    },
    "papermill": {
     "duration": 0.031166,
     "end_time": "2025-07-30T20:29:07.430543",
     "exception": false,
     "start_time": "2025-07-30T20:29:07.399377",
     "status": "completed"
    },
    "tags": []
   },
   "outputs": [],
   "source": [
    "y_calib = y_calib.values.ravel().astype(int)"
   ]
  },
  {
   "cell_type": "code",
   "execution_count": 50,
   "id": "65d1320d-f588-4b38-9072-62af1ae97f7d",
   "metadata": {
    "execution": {
     "iopub.execute_input": "2025-07-30T20:29:07.478917Z",
     "iopub.status.busy": "2025-07-30T20:29:07.478453Z",
     "iopub.status.idle": "2025-07-30T20:29:07.484996Z",
     "shell.execute_reply": "2025-07-30T20:29:07.484150Z"
    },
    "papermill": {
     "duration": 0.032319,
     "end_time": "2025-07-30T20:29:07.486427",
     "exception": false,
     "start_time": "2025-07-30T20:29:07.454108",
     "status": "completed"
    },
    "tags": []
   },
   "outputs": [],
   "source": [
    "from fairness_multiverse.conformal import compute_nc_scores\n",
    "\n",
    "# Compute nonconformity scores on calibration set (1 - probability of true class)\n",
    "nc_scores = compute_nc_scores(probs_calib, y_calib)"
   ]
  },
  {
   "cell_type": "code",
   "execution_count": 51,
   "id": "df3b8ca3-53b7-43d5-9667-7c85da7aeda2",
   "metadata": {
    "execution": {
     "iopub.execute_input": "2025-07-30T20:29:07.582241Z",
     "iopub.status.busy": "2025-07-30T20:29:07.581856Z",
     "iopub.status.idle": "2025-07-30T20:29:07.588683Z",
     "shell.execute_reply": "2025-07-30T20:29:07.587744Z"
    },
    "papermill": {
     "duration": 0.033956,
     "end_time": "2025-07-30T20:29:07.591695",
     "exception": false,
     "start_time": "2025-07-30T20:29:07.557739",
     "status": "completed"
    },
    "tags": []
   },
   "outputs": [],
   "source": [
    "from fairness_multiverse.conformal import find_threshold\n",
    "\n",
    "# Find conformal threshold q_hat for the given alpha (split conformal method)\n",
    "q_hat = find_threshold(nc_scores, alpha)"
   ]
  },
  {
   "cell_type": "code",
   "execution_count": 52,
   "id": "4d29e6c1-0ef6-4aa4-b8fe-4fe79b0d033a",
   "metadata": {
    "execution": {
     "iopub.execute_input": "2025-07-30T20:29:07.639545Z",
     "iopub.status.busy": "2025-07-30T20:29:07.639169Z",
     "iopub.status.idle": "2025-07-30T20:29:07.646687Z",
     "shell.execute_reply": "2025-07-30T20:29:07.645660Z"
    },
    "papermill": {
     "duration": 0.034094,
     "end_time": "2025-07-30T20:29:07.649573",
     "exception": false,
     "start_time": "2025-07-30T20:29:07.615479",
     "status": "completed"
    },
    "tags": []
   },
   "outputs": [
    {
     "data": {
      "text/plain": [
       "0.65"
      ]
     },
     "execution_count": 52,
     "metadata": {},
     "output_type": "execute_result"
    }
   ],
   "source": [
    "q_hat"
   ]
  },
  {
   "cell_type": "code",
   "execution_count": 53,
   "id": "92460794-cdac-4be2-ba28-f28c0515a6fb",
   "metadata": {
    "execution": {
     "iopub.execute_input": "2025-07-30T20:29:07.698176Z",
     "iopub.status.busy": "2025-07-30T20:29:07.697782Z",
     "iopub.status.idle": "2025-07-30T20:29:09.342110Z",
     "shell.execute_reply": "2025-07-30T20:29:09.341170Z"
    },
    "papermill": {
     "duration": 1.670173,
     "end_time": "2025-07-30T20:29:09.343695",
     "exception": false,
     "start_time": "2025-07-30T20:29:07.673522",
     "status": "completed"
    },
    "tags": []
   },
   "outputs": [],
   "source": [
    "from fairness_multiverse.conformal import predict_conformal_sets\n",
    "\n",
    "# Generate prediction sets for each test example\n",
    "pred_sets = predict_conformal_sets(model, X_test, q_hat)"
   ]
  },
  {
   "cell_type": "code",
   "execution_count": 54,
   "id": "d90c9a65-e6db-4f5d-80cd-e68fb7e46829",
   "metadata": {
    "execution": {
     "iopub.execute_input": "2025-07-30T20:29:09.371147Z",
     "iopub.status.busy": "2025-07-30T20:29:09.370800Z",
     "iopub.status.idle": "2025-07-30T20:29:09.375584Z",
     "shell.execute_reply": "2025-07-30T20:29:09.374558Z"
    },
    "papermill": {
     "duration": 0.020344,
     "end_time": "2025-07-30T20:29:09.377255",
     "exception": false,
     "start_time": "2025-07-30T20:29:09.356911",
     "status": "completed"
    },
    "tags": []
   },
   "outputs": [],
   "source": [
    "y_true = y_true.squeeze()"
   ]
  },
  {
   "cell_type": "code",
   "execution_count": 55,
   "id": "3a58a54a-1e68-46b9-927a-df01f18aebc8",
   "metadata": {
    "execution": {
     "iopub.execute_input": "2025-07-30T20:29:09.407315Z",
     "iopub.status.busy": "2025-07-30T20:29:09.406876Z",
     "iopub.status.idle": "2025-07-30T20:29:10.133677Z",
     "shell.execute_reply": "2025-07-30T20:29:10.132885Z"
    },
    "papermill": {
     "duration": 0.742188,
     "end_time": "2025-07-30T20:29:10.135123",
     "exception": false,
     "start_time": "2025-07-30T20:29:09.392935",
     "status": "completed"
    },
    "tags": []
   },
   "outputs": [],
   "source": [
    "from fairness_multiverse.conformal import evaluate_sets\n",
    "\n",
    "# Evaluate coverage and average set size on test data\n",
    "metrics = evaluate_sets(pred_sets, y_true)"
   ]
  },
  {
   "cell_type": "markdown",
   "id": "2b569c12-9aaa-4c88-98c9-bbcd0cf3ebb8",
   "metadata": {
    "papermill": {
     "duration": 0.013221,
     "end_time": "2025-07-30T20:29:10.161355",
     "exception": false,
     "start_time": "2025-07-30T20:29:10.148134",
     "status": "completed"
    },
    "tags": []
   },
   "source": [
    "# CP Metrics"
   ]
  },
  {
   "cell_type": "code",
   "execution_count": 56,
   "id": "5ce0a5cb-201f-45a0-ade5-94c7f0bd6095",
   "metadata": {
    "execution": {
     "iopub.execute_input": "2025-07-30T20:29:10.189201Z",
     "iopub.status.busy": "2025-07-30T20:29:10.188862Z",
     "iopub.status.idle": "2025-07-30T20:29:10.194923Z",
     "shell.execute_reply": "2025-07-30T20:29:10.194146Z"
    },
    "papermill": {
     "duration": 0.020835,
     "end_time": "2025-07-30T20:29:10.196499",
     "exception": false,
     "start_time": "2025-07-30T20:29:10.175664",
     "status": "completed"
    },
    "tags": []
   },
   "outputs": [
    {
     "data": {
      "text/plain": [
       "{'coverage': 0.9143350797012596, 'avg_size': 1.140998773826775}"
      ]
     },
     "execution_count": 56,
     "metadata": {},
     "output_type": "execute_result"
    }
   ],
   "source": [
    "metrics"
   ]
  },
  {
   "cell_type": "code",
   "execution_count": 57,
   "id": "9b9a838d-31c9-430b-ae14-12baee460d17",
   "metadata": {
    "execution": {
     "iopub.execute_input": "2025-07-30T20:29:10.249960Z",
     "iopub.status.busy": "2025-07-30T20:29:10.249402Z",
     "iopub.status.idle": "2025-07-30T20:29:10.254300Z",
     "shell.execute_reply": "2025-07-30T20:29:10.253555Z"
    },
    "papermill": {
     "duration": 0.032443,
     "end_time": "2025-07-30T20:29:10.255585",
     "exception": false,
     "start_time": "2025-07-30T20:29:10.223142",
     "status": "completed"
    },
    "tags": []
   },
   "outputs": [],
   "source": [
    "example_universe = universe.copy()\n",
    "universe_training_year = example_universe.get(\"training_year\")\n",
    "universe_training_size = example_universe.get(\"training_size\")\n",
    "universe_scale = example_universe.get(\"scale\")\n",
    "universe_model = example_universe.get(\"model\")\n",
    "universe_exclude_features = example_universe.get(\"exclude_features\")\n",
    "universe_exclude_subgroups = example_universe.get(\"exclude_subgroups\")"
   ]
  },
  {
   "cell_type": "code",
   "execution_count": 58,
   "id": "f4b6a8ac-9dc0-4245-8a91-5b3b5999c4f9",
   "metadata": {
    "execution": {
     "iopub.execute_input": "2025-07-30T20:29:10.284697Z",
     "iopub.status.busy": "2025-07-30T20:29:10.283962Z",
     "iopub.status.idle": "2025-07-30T20:29:10.290888Z",
     "shell.execute_reply": "2025-07-30T20:29:10.289983Z"
    },
    "papermill": {
     "duration": 0.0224,
     "end_time": "2025-07-30T20:29:10.292141",
     "exception": false,
     "start_time": "2025-07-30T20:29:10.269741",
     "status": "completed"
    },
    "tags": []
   },
   "outputs": [],
   "source": [
    "cp_metrics_dict = {\n",
    "    \"universe_id\": [universe_id],\n",
    "    \"universe_training_year\": [universe_training_year],\n",
    "    \"universe_training_size\": [universe_training_size],\n",
    "    \"universe_scale\": [universe_scale],\n",
    "    \"universe_model\": [universe_model],\n",
    "    \"universe_exclude_features\": [universe_exclude_features],\n",
    "    \"universe_exclude_subgroups\": [universe_exclude_subgroups],\n",
    "    \"q_hat\": [q_hat],\n",
    "    \"coverage\": [metrics[\"coverage\"]],\n",
    "    \"avg_size\": [metrics[\"avg_size\"]],\n",
    "}"
   ]
  },
  {
   "cell_type": "code",
   "execution_count": 59,
   "id": "908acbb1-0371-4915-85ca-3fa520d2efe2",
   "metadata": {
    "execution": {
     "iopub.execute_input": "2025-07-30T20:29:10.320698Z",
     "iopub.status.busy": "2025-07-30T20:29:10.320142Z",
     "iopub.status.idle": "2025-07-30T20:29:10.326125Z",
     "shell.execute_reply": "2025-07-30T20:29:10.325317Z"
    },
    "papermill": {
     "duration": 0.021361,
     "end_time": "2025-07-30T20:29:10.327262",
     "exception": false,
     "start_time": "2025-07-30T20:29:10.305901",
     "status": "completed"
    },
    "tags": []
   },
   "outputs": [
    {
     "data": {
      "text/plain": [
       "{'universe_id': ['f7207e98f9209b278fafa387f90cc17e'],\n",
       " 'universe_training_year': ['2010_14'],\n",
       " 'universe_training_size': ['25k'],\n",
       " 'universe_scale': ['scale'],\n",
       " 'universe_model': ['rf'],\n",
       " 'universe_exclude_features': ['nationality-sex'],\n",
       " 'universe_exclude_subgroups': ['drop-non-german'],\n",
       " 'q_hat': [0.65],\n",
       " 'coverage': [0.9143350797012596],\n",
       " 'avg_size': [1.140998773826775]}"
      ]
     },
     "execution_count": 59,
     "metadata": {},
     "output_type": "execute_result"
    }
   ],
   "source": [
    "cp_metrics_dict"
   ]
  },
  {
   "cell_type": "code",
   "execution_count": 60,
   "id": "33007efc-14e9-4ec6-97ac-56a455c82265",
   "metadata": {
    "execution": {
     "iopub.execute_input": "2025-07-30T20:29:10.355423Z",
     "iopub.status.busy": "2025-07-30T20:29:10.355084Z",
     "iopub.status.idle": "2025-07-30T20:29:10.359852Z",
     "shell.execute_reply": "2025-07-30T20:29:10.359089Z"
    },
    "papermill": {
     "duration": 0.020263,
     "end_time": "2025-07-30T20:29:10.361301",
     "exception": false,
     "start_time": "2025-07-30T20:29:10.341038",
     "status": "completed"
    },
    "tags": []
   },
   "outputs": [],
   "source": [
    "cp_metrics_df = pd.DataFrame(cp_metrics_dict)"
   ]
  },
  {
   "cell_type": "code",
   "execution_count": 61,
   "id": "db12611b-57b2-4910-b9d0-355adfd6e7bf",
   "metadata": {
    "execution": {
     "iopub.execute_input": "2025-07-30T20:29:10.388818Z",
     "iopub.status.busy": "2025-07-30T20:29:10.388424Z",
     "iopub.status.idle": "2025-07-30T20:29:10.405927Z",
     "shell.execute_reply": "2025-07-30T20:29:10.404948Z"
    },
    "papermill": {
     "duration": 0.032531,
     "end_time": "2025-07-30T20:29:10.407374",
     "exception": false,
     "start_time": "2025-07-30T20:29:10.374843",
     "status": "completed"
    },
    "tags": []
   },
   "outputs": [
    {
     "data": {
      "text/html": [
       "<div>\n",
       "<style scoped>\n",
       "    .dataframe tbody tr th:only-of-type {\n",
       "        vertical-align: middle;\n",
       "    }\n",
       "\n",
       "    .dataframe tbody tr th {\n",
       "        vertical-align: top;\n",
       "    }\n",
       "\n",
       "    .dataframe thead th {\n",
       "        text-align: right;\n",
       "    }\n",
       "</style>\n",
       "<table border=\"1\" class=\"dataframe\">\n",
       "  <thead>\n",
       "    <tr style=\"text-align: right;\">\n",
       "      <th></th>\n",
       "      <th>universe_id</th>\n",
       "      <th>universe_training_year</th>\n",
       "      <th>universe_training_size</th>\n",
       "      <th>universe_scale</th>\n",
       "      <th>universe_model</th>\n",
       "      <th>universe_exclude_features</th>\n",
       "      <th>universe_exclude_subgroups</th>\n",
       "      <th>q_hat</th>\n",
       "      <th>coverage</th>\n",
       "      <th>avg_size</th>\n",
       "    </tr>\n",
       "  </thead>\n",
       "  <tbody>\n",
       "    <tr>\n",
       "      <th>0</th>\n",
       "      <td>f7207e98f9209b278fafa387f90cc17e</td>\n",
       "      <td>2010_14</td>\n",
       "      <td>25k</td>\n",
       "      <td>scale</td>\n",
       "      <td>rf</td>\n",
       "      <td>nationality-sex</td>\n",
       "      <td>drop-non-german</td>\n",
       "      <td>0.65</td>\n",
       "      <td>0.914335</td>\n",
       "      <td>1.140999</td>\n",
       "    </tr>\n",
       "  </tbody>\n",
       "</table>\n",
       "</div>"
      ],
      "text/plain": [
       "                        universe_id universe_training_year  \\\n",
       "0  f7207e98f9209b278fafa387f90cc17e                2010_14   \n",
       "\n",
       "  universe_training_size universe_scale universe_model  \\\n",
       "0                    25k          scale             rf   \n",
       "\n",
       "  universe_exclude_features universe_exclude_subgroups  q_hat  coverage  \\\n",
       "0           nationality-sex            drop-non-german   0.65  0.914335   \n",
       "\n",
       "   avg_size  \n",
       "0  1.140999  "
      ]
     },
     "execution_count": 61,
     "metadata": {},
     "output_type": "execute_result"
    }
   ],
   "source": [
    "cp_metrics_df"
   ]
  },
  {
   "cell_type": "code",
   "execution_count": 62,
   "id": "b7fbde55-a0a1-47e4-9af6-fe4a17fa8c61",
   "metadata": {
    "execution": {
     "iopub.execute_input": "2025-07-30T20:29:10.454651Z",
     "iopub.status.busy": "2025-07-30T20:29:10.454194Z",
     "iopub.status.idle": "2025-07-30T20:29:10.458538Z",
     "shell.execute_reply": "2025-07-30T20:29:10.457705Z"
    },
    "papermill": {
     "duration": 0.024618,
     "end_time": "2025-07-30T20:29:10.459742",
     "exception": false,
     "start_time": "2025-07-30T20:29:10.435124",
     "status": "completed"
    },
    "tags": []
   },
   "outputs": [],
   "source": [
    "# Conditional Coverage & looking at subgroups"
   ]
  },
  {
   "cell_type": "code",
   "execution_count": 63,
   "id": "027ae886-68dd-4141-96c7-805a5450e1ef",
   "metadata": {
    "execution": {
     "iopub.execute_input": "2025-07-30T20:29:10.489272Z",
     "iopub.status.busy": "2025-07-30T20:29:10.488888Z",
     "iopub.status.idle": "2025-07-30T20:29:10.672762Z",
     "shell.execute_reply": "2025-07-30T20:29:10.671883Z"
    },
    "papermill": {
     "duration": 0.201693,
     "end_time": "2025-07-30T20:29:10.674625",
     "exception": false,
     "start_time": "2025-07-30T20:29:10.472932",
     "status": "completed"
    },
    "tags": []
   },
   "outputs": [],
   "source": [
    "from fairness_multiverse.conformal import build_cp_groups\n",
    "\n",
    "cp_groups_df = build_cp_groups(pred_sets, y_true, X_test.index, org_test)\n",
    "#needs universe_id and setting"
   ]
  },
  {
   "cell_type": "code",
   "execution_count": 64,
   "id": "01d5802c-663a-4d1f-9d69-e036faaffbf7",
   "metadata": {
    "execution": {
     "iopub.execute_input": "2025-07-30T20:29:10.730359Z",
     "iopub.status.busy": "2025-07-30T20:29:10.729805Z",
     "iopub.status.idle": "2025-07-30T20:29:10.733913Z",
     "shell.execute_reply": "2025-07-30T20:29:10.733140Z"
    },
    "papermill": {
     "duration": 0.032717,
     "end_time": "2025-07-30T20:29:10.735236",
     "exception": false,
     "start_time": "2025-07-30T20:29:10.702519",
     "status": "completed"
    },
    "tags": []
   },
   "outputs": [],
   "source": [
    "#delete\n",
    "#cp_groups_df"
   ]
  },
  {
   "cell_type": "code",
   "execution_count": 65,
   "id": "fa424af1-d1eb-443d-b717-2d279ada8408",
   "metadata": {
    "execution": {
     "iopub.execute_input": "2025-07-30T20:29:10.762294Z",
     "iopub.status.busy": "2025-07-30T20:29:10.761917Z",
     "iopub.status.idle": "2025-07-30T20:29:10.766649Z",
     "shell.execute_reply": "2025-07-30T20:29:10.765771Z"
    },
    "papermill": {
     "duration": 0.019548,
     "end_time": "2025-07-30T20:29:10.767863",
     "exception": false,
     "start_time": "2025-07-30T20:29:10.748315",
     "status": "completed"
    },
    "tags": []
   },
   "outputs": [],
   "source": [
    "#delete\n",
    "#percentage = (cp_groups_df['nongerman_female'] == 1).mean() * 100\n",
    "#print(percentage)\n"
   ]
  },
  {
   "cell_type": "code",
   "execution_count": 66,
   "id": "6cbdab96-b2b2-45af-ad54-d0516db2e28d",
   "metadata": {
    "execution": {
     "iopub.execute_input": "2025-07-30T20:29:10.795117Z",
     "iopub.status.busy": "2025-07-30T20:29:10.794731Z",
     "iopub.status.idle": "2025-07-30T20:29:11.911102Z",
     "shell.execute_reply": "2025-07-30T20:29:11.910197Z"
    },
    "papermill": {
     "duration": 1.131758,
     "end_time": "2025-07-30T20:29:11.912917",
     "exception": false,
     "start_time": "2025-07-30T20:29:10.781159",
     "status": "completed"
    },
    "tags": []
   },
   "outputs": [],
   "source": [
    "# Define covered = 1 if true_label is in the predicted set\n",
    "cp_groups_df['covered'] = cp_groups_df.apply(\n",
    "    lambda r: int(r['true_label'] in r['pred_set']),\n",
    "    axis=1\n",
    ")"
   ]
  },
  {
   "cell_type": "code",
   "execution_count": 67,
   "id": "338ff529-1a6b-4b87-a931-8e4788d52aad",
   "metadata": {
    "execution": {
     "iopub.execute_input": "2025-07-30T20:29:11.962176Z",
     "iopub.status.busy": "2025-07-30T20:29:11.961842Z",
     "iopub.status.idle": "2025-07-30T20:29:11.965738Z",
     "shell.execute_reply": "2025-07-30T20:29:11.965039Z"
    },
    "papermill": {
     "duration": 0.029454,
     "end_time": "2025-07-30T20:29:11.967181",
     "exception": false,
     "start_time": "2025-07-30T20:29:11.937727",
     "status": "completed"
    },
    "tags": []
   },
   "outputs": [],
   "source": [
    "#cp_groups_df"
   ]
  },
  {
   "cell_type": "code",
   "execution_count": 68,
   "id": "90032e27-66df-4540-9169-4e89cfbaa758",
   "metadata": {
    "execution": {
     "iopub.execute_input": "2025-07-30T20:29:12.017088Z",
     "iopub.status.busy": "2025-07-30T20:29:12.016468Z",
     "iopub.status.idle": "2025-07-30T20:29:12.027336Z",
     "shell.execute_reply": "2025-07-30T20:29:12.026516Z"
    },
    "papermill": {
     "duration": 0.03777,
     "end_time": "2025-07-30T20:29:12.028864",
     "exception": false,
     "start_time": "2025-07-30T20:29:11.991094",
     "status": "completed"
    },
    "tags": []
   },
   "outputs": [],
   "source": [
    "subgroups = ['frau1','nongerman','nongerman_male','nongerman_female']\n",
    "\n",
    "# Conditional coverage for subgroup==1\n",
    "cond_coverage = {\n",
    "    g: cp_groups_df.loc[cp_groups_df[g]==1, 'covered'].mean()\n",
    "    for g in subgroups\n",
    "}"
   ]
  },
  {
   "cell_type": "code",
   "execution_count": 69,
   "id": "1e348fb1-b9c3-45bc-ba23-f016827a7e0d",
   "metadata": {
    "execution": {
     "iopub.execute_input": "2025-07-30T20:29:12.079737Z",
     "iopub.status.busy": "2025-07-30T20:29:12.079295Z",
     "iopub.status.idle": "2025-07-30T20:29:12.085802Z",
     "shell.execute_reply": "2025-07-30T20:29:12.084977Z"
    },
    "papermill": {
     "duration": 0.033083,
     "end_time": "2025-07-30T20:29:12.087356",
     "exception": false,
     "start_time": "2025-07-30T20:29:12.054273",
     "status": "completed"
    },
    "tags": []
   },
   "outputs": [
    {
     "data": {
      "text/plain": [
       "{'frau1': 0.9126836500876129,\n",
       " 'nongerman': 0.9087744905406164,\n",
       " 'nongerman_male': 0.9234441142033685,\n",
       " 'nongerman_female': 0.8845007451564829}"
      ]
     },
     "execution_count": 69,
     "metadata": {},
     "output_type": "execute_result"
    }
   ],
   "source": [
    "cond_coverage"
   ]
  },
  {
   "cell_type": "code",
   "execution_count": 70,
   "id": "f5093324-c3dd-4d63-bc4c-8d945e5c8bbb",
   "metadata": {
    "execution": {
     "iopub.execute_input": "2025-07-30T20:29:12.138221Z",
     "iopub.status.busy": "2025-07-30T20:29:12.137428Z",
     "iopub.status.idle": "2025-07-30T20:29:12.144639Z",
     "shell.execute_reply": "2025-07-30T20:29:12.143697Z"
    },
    "papermill": {
     "duration": 0.03394,
     "end_time": "2025-07-30T20:29:12.146022",
     "exception": false,
     "start_time": "2025-07-30T20:29:12.112082",
     "status": "completed"
    },
    "tags": []
   },
   "outputs": [],
   "source": [
    "for subgroup, cov in cond_coverage.items():\n",
    "    cp_metrics_df[f\"cov_{subgroup}\"] = cov"
   ]
  },
  {
   "cell_type": "code",
   "execution_count": 71,
   "id": "6e872e10-dbe5-49e8-b554-5030c98ff75d",
   "metadata": {
    "execution": {
     "iopub.execute_input": "2025-07-30T20:29:12.196356Z",
     "iopub.status.busy": "2025-07-30T20:29:12.195887Z",
     "iopub.status.idle": "2025-07-30T20:29:12.214097Z",
     "shell.execute_reply": "2025-07-30T20:29:12.213319Z"
    },
    "papermill": {
     "duration": 0.045068,
     "end_time": "2025-07-30T20:29:12.215578",
     "exception": false,
     "start_time": "2025-07-30T20:29:12.170510",
     "status": "completed"
    },
    "tags": []
   },
   "outputs": [
    {
     "data": {
      "text/html": [
       "<div>\n",
       "<style scoped>\n",
       "    .dataframe tbody tr th:only-of-type {\n",
       "        vertical-align: middle;\n",
       "    }\n",
       "\n",
       "    .dataframe tbody tr th {\n",
       "        vertical-align: top;\n",
       "    }\n",
       "\n",
       "    .dataframe thead th {\n",
       "        text-align: right;\n",
       "    }\n",
       "</style>\n",
       "<table border=\"1\" class=\"dataframe\">\n",
       "  <thead>\n",
       "    <tr style=\"text-align: right;\">\n",
       "      <th></th>\n",
       "      <th>universe_id</th>\n",
       "      <th>universe_training_year</th>\n",
       "      <th>universe_training_size</th>\n",
       "      <th>universe_scale</th>\n",
       "      <th>universe_model</th>\n",
       "      <th>universe_exclude_features</th>\n",
       "      <th>universe_exclude_subgroups</th>\n",
       "      <th>q_hat</th>\n",
       "      <th>coverage</th>\n",
       "      <th>avg_size</th>\n",
       "      <th>cov_frau1</th>\n",
       "      <th>cov_nongerman</th>\n",
       "      <th>cov_nongerman_male</th>\n",
       "      <th>cov_nongerman_female</th>\n",
       "    </tr>\n",
       "  </thead>\n",
       "  <tbody>\n",
       "    <tr>\n",
       "      <th>0</th>\n",
       "      <td>f7207e98f9209b278fafa387f90cc17e</td>\n",
       "      <td>2010_14</td>\n",
       "      <td>25k</td>\n",
       "      <td>scale</td>\n",
       "      <td>rf</td>\n",
       "      <td>nationality-sex</td>\n",
       "      <td>drop-non-german</td>\n",
       "      <td>0.65</td>\n",
       "      <td>0.914335</td>\n",
       "      <td>1.140999</td>\n",
       "      <td>0.912684</td>\n",
       "      <td>0.908774</td>\n",
       "      <td>0.923444</td>\n",
       "      <td>0.884501</td>\n",
       "    </tr>\n",
       "  </tbody>\n",
       "</table>\n",
       "</div>"
      ],
      "text/plain": [
       "                        universe_id universe_training_year  \\\n",
       "0  f7207e98f9209b278fafa387f90cc17e                2010_14   \n",
       "\n",
       "  universe_training_size universe_scale universe_model  \\\n",
       "0                    25k          scale             rf   \n",
       "\n",
       "  universe_exclude_features universe_exclude_subgroups  q_hat  coverage  \\\n",
       "0           nationality-sex            drop-non-german   0.65  0.914335   \n",
       "\n",
       "   avg_size  cov_frau1  cov_nongerman  cov_nongerman_male  \\\n",
       "0  1.140999   0.912684       0.908774            0.923444   \n",
       "\n",
       "   cov_nongerman_female  \n",
       "0              0.884501  "
      ]
     },
     "execution_count": 71,
     "metadata": {},
     "output_type": "execute_result"
    }
   ],
   "source": [
    "cp_metrics_df"
   ]
  },
  {
   "cell_type": "markdown",
   "id": "33774451",
   "metadata": {
    "papermill": {
     "duration": 0.024252,
     "end_time": "2025-07-30T20:29:12.267273",
     "exception": false,
     "start_time": "2025-07-30T20:29:12.243021",
     "status": "completed"
    },
    "tags": []
   },
   "source": [
    "# (Fairness) Metrics"
   ]
  },
  {
   "cell_type": "code",
   "execution_count": 72,
   "id": "debc5d62",
   "metadata": {
    "execution": {
     "iopub.execute_input": "2025-07-30T20:29:12.318368Z",
     "iopub.status.busy": "2025-07-30T20:29:12.317904Z",
     "iopub.status.idle": "2025-07-30T20:29:12.338098Z",
     "shell.execute_reply": "2025-07-30T20:29:12.337279Z"
    },
    "papermill": {
     "duration": 0.047527,
     "end_time": "2025-07-30T20:29:12.340009",
     "exception": false,
     "start_time": "2025-07-30T20:29:12.292482",
     "status": "completed"
    },
    "tags": []
   },
   "outputs": [],
   "source": [
    "# do I need to include maxdeutsch1.missing?\n",
    "\n",
    "import numpy as np\n",
    "\n",
    "colname_to_bin = \"maxdeutsch1\"\n",
    "majority_value = org_train[colname_to_bin].mode()[0]\n",
    "\n",
    "org_test[\"majmin\"] = np.where(org_test[colname_to_bin] == majority_value, \"majority\", \"minority\")"
   ]
  },
  {
   "cell_type": "code",
   "execution_count": 73,
   "id": "06a50de5",
   "metadata": {
    "execution": {
     "iopub.execute_input": "2025-07-30T20:29:12.395826Z",
     "iopub.status.busy": "2025-07-30T20:29:12.395371Z",
     "iopub.status.idle": "2025-07-30T20:29:15.178814Z",
     "shell.execute_reply": "2025-07-30T20:29:15.177442Z"
    },
    "papermill": {
     "duration": 2.811329,
     "end_time": "2025-07-30T20:29:15.180808",
     "exception": false,
     "start_time": "2025-07-30T20:29:12.369479",
     "status": "completed"
    },
    "tags": []
   },
   "outputs": [],
   "source": [
    "example_universe = universe.copy()\n",
    "example_universe[\"cutoff\"] = example_universe[\"cutoff\"][0]\n",
    "example_universe[\"eval_fairness_grouping\"] = example_universe[\"eval_fairness_grouping\"][0]\n",
    "fairness_dict, metric_frame = universe_analysis.compute_metrics(\n",
    "    example_universe,\n",
    "    y_pred_prob=probs_test,\n",
    "    y_test=y_true,\n",
    "    org_test=org_test,\n",
    ")"
   ]
  },
  {
   "cell_type": "markdown",
   "id": "f95d4e02",
   "metadata": {
    "papermill": {
     "duration": 0.021222,
     "end_time": "2025-07-30T20:29:15.234100",
     "exception": false,
     "start_time": "2025-07-30T20:29:15.212878",
     "status": "completed"
    },
    "tags": []
   },
   "source": [
    "# Overall"
   ]
  },
  {
   "cell_type": "markdown",
   "id": "bdee4871",
   "metadata": {
    "papermill": {
     "duration": 0.013065,
     "end_time": "2025-07-30T20:29:15.260770",
     "exception": false,
     "start_time": "2025-07-30T20:29:15.247705",
     "status": "completed"
    },
    "tags": []
   },
   "source": [
    "Fairness\n",
    "Main fairness target: Equalized Odds. Seems to be a better fit than equal opportunity, since we're not only interested in Y = 1. Seems to be a better fit than demographic parity, since we also care about accuracy, not just equal distribution of preds.\n",
    "\n",
    "Pick column for computation of fairness metrics\n",
    "\n",
    "Performance\n",
    "Overall performance measures, most interesting in relation to the measures split by group below"
   ]
  },
  {
   "cell_type": "code",
   "execution_count": 74,
   "id": "c4e067c6",
   "metadata": {
    "execution": {
     "iopub.execute_input": "2025-07-30T20:29:15.289108Z",
     "iopub.status.busy": "2025-07-30T20:29:15.288654Z",
     "iopub.status.idle": "2025-07-30T20:29:15.296376Z",
     "shell.execute_reply": "2025-07-30T20:29:15.295566Z"
    },
    "papermill": {
     "duration": 0.023396,
     "end_time": "2025-07-30T20:29:15.297623",
     "exception": false,
     "start_time": "2025-07-30T20:29:15.274227",
     "status": "completed"
    },
    "tags": []
   },
   "outputs": [
    {
     "data": {
      "text/plain": [
       "accuracy                   0.196645\n",
       "balanced accuracy          0.530171\n",
       "f1                         0.238147\n",
       "precision                  0.135565\n",
       "false positive rate        0.918455\n",
       "false negative rate        0.021203\n",
       "selection rate             0.926196\n",
       "count                  89710.000000\n",
       "dtype: float64"
      ]
     },
     "execution_count": 74,
     "metadata": {},
     "output_type": "execute_result"
    }
   ],
   "source": [
    "metric_frame.overall"
   ]
  },
  {
   "cell_type": "markdown",
   "id": "e968fe9d",
   "metadata": {
    "papermill": {
     "duration": 0.014196,
     "end_time": "2025-07-30T20:29:15.325925",
     "exception": false,
     "start_time": "2025-07-30T20:29:15.311729",
     "status": "completed"
    },
    "tags": []
   },
   "source": [
    "By Group"
   ]
  },
  {
   "cell_type": "code",
   "execution_count": 75,
   "id": "ec325bce",
   "metadata": {
    "execution": {
     "iopub.execute_input": "2025-07-30T20:29:15.364729Z",
     "iopub.status.busy": "2025-07-30T20:29:15.364290Z",
     "iopub.status.idle": "2025-07-30T20:29:15.379868Z",
     "shell.execute_reply": "2025-07-30T20:29:15.378875Z"
    },
    "papermill": {
     "duration": 0.042282,
     "end_time": "2025-07-30T20:29:15.381522",
     "exception": false,
     "start_time": "2025-07-30T20:29:15.339240",
     "status": "completed"
    },
    "tags": []
   },
   "outputs": [
    {
     "data": {
      "text/html": [
       "<div>\n",
       "<style scoped>\n",
       "    .dataframe tbody tr th:only-of-type {\n",
       "        vertical-align: middle;\n",
       "    }\n",
       "\n",
       "    .dataframe tbody tr th {\n",
       "        vertical-align: top;\n",
       "    }\n",
       "\n",
       "    .dataframe thead th {\n",
       "        text-align: right;\n",
       "    }\n",
       "</style>\n",
       "<table border=\"1\" class=\"dataframe\">\n",
       "  <thead>\n",
       "    <tr style=\"text-align: right;\">\n",
       "      <th></th>\n",
       "      <th>accuracy</th>\n",
       "      <th>balanced accuracy</th>\n",
       "      <th>f1</th>\n",
       "      <th>precision</th>\n",
       "      <th>false positive rate</th>\n",
       "      <th>false negative rate</th>\n",
       "      <th>selection rate</th>\n",
       "      <th>count</th>\n",
       "    </tr>\n",
       "    <tr>\n",
       "      <th>majmin</th>\n",
       "      <th></th>\n",
       "      <th></th>\n",
       "      <th></th>\n",
       "      <th></th>\n",
       "      <th></th>\n",
       "      <th></th>\n",
       "      <th></th>\n",
       "      <th></th>\n",
       "    </tr>\n",
       "  </thead>\n",
       "  <tbody>\n",
       "    <tr>\n",
       "      <th>majority</th>\n",
       "      <td>0.189461</td>\n",
       "      <td>0.528341</td>\n",
       "      <td>0.243826</td>\n",
       "      <td>0.139055</td>\n",
       "      <td>0.932267</td>\n",
       "      <td>0.011050</td>\n",
       "      <td>0.939757</td>\n",
       "      <td>69170.0</td>\n",
       "    </tr>\n",
       "    <tr>\n",
       "      <th>minority</th>\n",
       "      <td>0.220837</td>\n",
       "      <td>0.533393</td>\n",
       "      <td>0.217561</td>\n",
       "      <td>0.123023</td>\n",
       "      <td>0.872826</td>\n",
       "      <td>0.060389</td>\n",
       "      <td>0.880526</td>\n",
       "      <td>20540.0</td>\n",
       "    </tr>\n",
       "  </tbody>\n",
       "</table>\n",
       "</div>"
      ],
      "text/plain": [
       "          accuracy  balanced accuracy        f1  precision  \\\n",
       "majmin                                                       \n",
       "majority  0.189461           0.528341  0.243826   0.139055   \n",
       "minority  0.220837           0.533393  0.217561   0.123023   \n",
       "\n",
       "          false positive rate  false negative rate  selection rate    count  \n",
       "majmin                                                                       \n",
       "majority             0.932267             0.011050        0.939757  69170.0  \n",
       "minority             0.872826             0.060389        0.880526  20540.0  "
      ]
     },
     "execution_count": 75,
     "metadata": {},
     "output_type": "execute_result"
    }
   ],
   "source": [
    "metric_frame.by_group"
   ]
  },
  {
   "cell_type": "code",
   "execution_count": 76,
   "id": "a9ddbe63",
   "metadata": {
    "execution": {
     "iopub.execute_input": "2025-07-30T20:29:15.439554Z",
     "iopub.status.busy": "2025-07-30T20:29:15.438722Z",
     "iopub.status.idle": "2025-07-30T20:29:17.758010Z",
     "shell.execute_reply": "2025-07-30T20:29:17.757135Z"
    },
    "papermill": {
     "duration": 2.349446,
     "end_time": "2025-07-30T20:29:17.759505",
     "exception": false,
     "start_time": "2025-07-30T20:29:15.410059",
     "status": "completed"
    },
    "tags": []
   },
   "outputs": [
    {
     "data": {
      "text/plain": [
       "array([[<Axes: title={'center': 'accuracy'}, xlabel='majmin'>,\n",
       "        <Axes: title={'center': 'balanced accuracy'}, xlabel='majmin'>,\n",
       "        <Axes: title={'center': 'f1'}, xlabel='majmin'>],\n",
       "       [<Axes: title={'center': 'precision'}, xlabel='majmin'>,\n",
       "        <Axes: title={'center': 'false positive rate'}, xlabel='majmin'>,\n",
       "        <Axes: title={'center': 'false negative rate'}, xlabel='majmin'>],\n",
       "       [<Axes: title={'center': 'selection rate'}, xlabel='majmin'>,\n",
       "        <Axes: title={'center': 'count'}, xlabel='majmin'>,\n",
       "        <Axes: xlabel='majmin'>]], dtype=object)"
      ]
     },
     "execution_count": 76,
     "metadata": {},
     "output_type": "execute_result"
    },
    {
     "data": {
      "image/png": "[encoded data removed]",
      "text/plain": [
       "<Figure size 1200x800 with 9 Axes>"
      ]
     },
     "metadata": {},
     "output_type": "display_data"
    }
   ],
   "source": [
    "# In a graphic\n",
    "metric_frame.by_group.plot.bar(\n",
    "    subplots=True,\n",
    "    layout=[3, 3],\n",
    "    legend=False,\n",
    "    figsize=[12, 8],\n",
    "    title=\"Show all metrics\",\n",
    ")"
   ]
  },
  {
   "cell_type": "markdown",
   "id": "f57a0bac",
   "metadata": {
    "papermill": {
     "duration": 0.02686,
     "end_time": "2025-07-30T20:29:17.814445",
     "exception": false,
     "start_time": "2025-07-30T20:29:17.787585",
     "status": "completed"
    },
    "tags": []
   },
   "source": [
    "# Final Output"
   ]
  },
  {
   "cell_type": "code",
   "execution_count": 77,
   "id": "96d280a3",
   "metadata": {
    "execution": {
     "iopub.execute_input": "2025-07-30T20:29:17.870212Z",
     "iopub.status.busy": "2025-07-30T20:29:17.869533Z",
     "iopub.status.idle": "2025-07-30T20:29:17.878109Z",
     "shell.execute_reply": "2025-07-30T20:29:17.877145Z"
    },
    "papermill": {
     "duration": 0.037962,
     "end_time": "2025-07-30T20:29:17.879611",
     "exception": false,
     "start_time": "2025-07-30T20:29:17.841649",
     "status": "completed"
    },
    "tags": []
   },
   "outputs": [
    {
     "data": {
      "text/plain": [
       "4"
      ]
     },
     "execution_count": 77,
     "metadata": {},
     "output_type": "execute_result"
    }
   ],
   "source": [
    "sub_universes = universe_analysis.generate_sub_universes()\n",
    "len(sub_universes)"
   ]
  },
  {
   "cell_type": "code",
   "execution_count": 78,
   "id": "92adf7ba",
   "metadata": {
    "execution": {
     "iopub.execute_input": "2025-07-30T20:29:17.935377Z",
     "iopub.status.busy": "2025-07-30T20:29:17.934731Z",
     "iopub.status.idle": "2025-07-30T20:29:17.940592Z",
     "shell.execute_reply": "2025-07-30T20:29:17.939710Z"
    },
    "papermill": {
     "duration": 0.035742,
     "end_time": "2025-07-30T20:29:17.942004",
     "exception": false,
     "start_time": "2025-07-30T20:29:17.906262",
     "status": "completed"
    },
    "tags": []
   },
   "outputs": [],
   "source": [
    "def filter_sub_universe_data(sub_universe, org_test):\n",
    "    # Keep all rows — no filtering\n",
    "    keep_rows_mask = np.ones(org_test.shape[0], dtype=bool)\n",
    "\n",
    "    print(f\"[INFO] Keeping all rows: {keep_rows_mask.sum()} rows retained.\")\n",
    "    return keep_rows_mask"
   ]
  },
  {
   "cell_type": "code",
   "execution_count": 79,
   "id": "4a759155",
   "metadata": {
    "execution": {
     "iopub.execute_input": "2025-07-30T20:29:17.999947Z",
     "iopub.status.busy": "2025-07-30T20:29:17.999294Z",
     "iopub.status.idle": "2025-07-30T20:29:28.636673Z",
     "shell.execute_reply": "2025-07-30T20:29:28.635680Z"
    },
    "papermill": {
     "duration": 10.668944,
     "end_time": "2025-07-30T20:29:28.637964",
     "exception": false,
     "start_time": "2025-07-30T20:29:17.969020",
     "status": "completed"
    },
    "tags": []
   },
   "outputs": [
    {
     "name": "stdout",
     "output_type": "stream",
     "text": [
      "Stopping execution_time clock.\n",
      "[INFO] Keeping all rows: 89710 rows retained.\n"
     ]
    },
    {
     "name": "stdout",
     "output_type": "stream",
     "text": [
      "[INFO] Keeping all rows: 89710 rows retained.\n"
     ]
    },
    {
     "name": "stdout",
     "output_type": "stream",
     "text": [
      "[INFO] Keeping all rows: 89710 rows retained.\n"
     ]
    },
    {
     "name": "stdout",
     "output_type": "stream",
     "text": [
      "[INFO] Keeping all rows: 89710 rows retained.\n"
     ]
    },
    {
     "data": {
      "text/html": [
       "<div>\n",
       "<style scoped>\n",
       "    .dataframe tbody tr th:only-of-type {\n",
       "        vertical-align: middle;\n",
       "    }\n",
       "\n",
       "    .dataframe tbody tr th {\n",
       "        vertical-align: top;\n",
       "    }\n",
       "\n",
       "    .dataframe thead th {\n",
       "        text-align: right;\n",
       "    }\n",
       "</style>\n",
       "<table border=\"1\" class=\"dataframe\">\n",
       "  <thead>\n",
       "    <tr style=\"text-align: right;\">\n",
       "      <th></th>\n",
       "      <th>run_no</th>\n",
       "      <th>universe_id</th>\n",
       "      <th>universe_settings</th>\n",
       "      <th>execution_time</th>\n",
       "      <th>test_size_n</th>\n",
       "      <th>test_size_frac</th>\n",
       "      <th>fair_main_equalized_odds_difference</th>\n",
       "      <th>fair_main_equalized_odds_ratio</th>\n",
       "      <th>fair_main_demographic_parity_difference</th>\n",
       "      <th>fair_main_demographic_parity_ratio</th>\n",
       "      <th>...</th>\n",
       "      <th>perf_grp_precision_0</th>\n",
       "      <th>perf_grp_precision_1</th>\n",
       "      <th>perf_grp_false positive rate_0</th>\n",
       "      <th>perf_grp_false positive rate_1</th>\n",
       "      <th>perf_grp_false negative rate_0</th>\n",
       "      <th>perf_grp_false negative rate_1</th>\n",
       "      <th>perf_grp_selection rate_0</th>\n",
       "      <th>perf_grp_selection rate_1</th>\n",
       "      <th>perf_grp_count_0</th>\n",
       "      <th>perf_grp_count_1</th>\n",
       "    </tr>\n",
       "  </thead>\n",
       "  <tbody>\n",
       "    <tr>\n",
       "      <th>0</th>\n",
       "      <td>14</td>\n",
       "      <td>f7207e98f9209b278fafa387f90cc17e</td>\n",
       "      <td>{\"cutoff\": \"quantile_0.1\", \"eval_fairness_grou...</td>\n",
       "      <td>38.648457</td>\n",
       "      <td>89710</td>\n",
       "      <td>1.0</td>\n",
       "      <td>0.059441</td>\n",
       "      <td>0.936241</td>\n",
       "      <td>0.059231</td>\n",
       "      <td>0.936972</td>\n",
       "      <td>...</td>\n",
       "      <td>NaN</td>\n",
       "      <td>NaN</td>\n",
       "      <td>NaN</td>\n",
       "      <td>NaN</td>\n",
       "      <td>NaN</td>\n",
       "      <td>NaN</td>\n",
       "      <td>NaN</td>\n",
       "      <td>NaN</td>\n",
       "      <td>NaN</td>\n",
       "      <td>NaN</td>\n",
       "    </tr>\n",
       "    <tr>\n",
       "      <th>0</th>\n",
       "      <td>14</td>\n",
       "      <td>f7207e98f9209b278fafa387f90cc17e</td>\n",
       "      <td>{\"cutoff\": \"quantile_0.1\", \"eval_fairness_grou...</td>\n",
       "      <td>38.648457</td>\n",
       "      <td>89710</td>\n",
       "      <td>1.0</td>\n",
       "      <td>0.059441</td>\n",
       "      <td>0.936241</td>\n",
       "      <td>0.059231</td>\n",
       "      <td>0.936972</td>\n",
       "      <td>...</td>\n",
       "      <td>0.123023</td>\n",
       "      <td>0.139055</td>\n",
       "      <td>0.872826</td>\n",
       "      <td>0.932267</td>\n",
       "      <td>0.060389</td>\n",
       "      <td>0.011050</td>\n",
       "      <td>0.880526</td>\n",
       "      <td>0.939757</td>\n",
       "      <td>20540.0</td>\n",
       "      <td>69170.0</td>\n",
       "    </tr>\n",
       "    <tr>\n",
       "      <th>0</th>\n",
       "      <td>14</td>\n",
       "      <td>f7207e98f9209b278fafa387f90cc17e</td>\n",
       "      <td>{\"cutoff\": \"quantile_0.25\", \"eval_fairness_gro...</td>\n",
       "      <td>38.648457</td>\n",
       "      <td>89710</td>\n",
       "      <td>1.0</td>\n",
       "      <td>0.099518</td>\n",
       "      <td>0.896307</td>\n",
       "      <td>0.068326</td>\n",
       "      <td>0.913818</td>\n",
       "      <td>...</td>\n",
       "      <td>NaN</td>\n",
       "      <td>NaN</td>\n",
       "      <td>NaN</td>\n",
       "      <td>NaN</td>\n",
       "      <td>NaN</td>\n",
       "      <td>NaN</td>\n",
       "      <td>NaN</td>\n",
       "      <td>NaN</td>\n",
       "      <td>NaN</td>\n",
       "      <td>NaN</td>\n",
       "    </tr>\n",
       "    <tr>\n",
       "      <th>0</th>\n",
       "      <td>14</td>\n",
       "      <td>f7207e98f9209b278fafa387f90cc17e</td>\n",
       "      <td>{\"cutoff\": \"quantile_0.25\", \"eval_fairness_gro...</td>\n",
       "      <td>38.648457</td>\n",
       "      <td>89710</td>\n",
       "      <td>1.0</td>\n",
       "      <td>0.099518</td>\n",
       "      <td>0.896307</td>\n",
       "      <td>0.068326</td>\n",
       "      <td>0.913818</td>\n",
       "      <td>...</td>\n",
       "      <td>0.136886</td>\n",
       "      <td>0.159959</td>\n",
       "      <td>0.706802</td>\n",
       "      <td>0.767400</td>\n",
       "      <td>0.139780</td>\n",
       "      <td>0.040263</td>\n",
       "      <td>0.724489</td>\n",
       "      <td>0.792815</td>\n",
       "      <td>20540.0</td>\n",
       "      <td>69170.0</td>\n",
       "    </tr>\n",
       "  </tbody>\n",
       "</table>\n",
       "<p>4 rows × 50 columns</p>\n",
       "</div>"
      ],
      "text/plain": [
       "  run_no                       universe_id  \\\n",
       "0     14  f7207e98f9209b278fafa387f90cc17e   \n",
       "0     14  f7207e98f9209b278fafa387f90cc17e   \n",
       "0     14  f7207e98f9209b278fafa387f90cc17e   \n",
       "0     14  f7207e98f9209b278fafa387f90cc17e   \n",
       "\n",
       "                                   universe_settings  execution_time  \\\n",
       "0  {\"cutoff\": \"quantile_0.1\", \"eval_fairness_grou...       38.648457   \n",
       "0  {\"cutoff\": \"quantile_0.1\", \"eval_fairness_grou...       38.648457   \n",
       "0  {\"cutoff\": \"quantile_0.25\", \"eval_fairness_gro...       38.648457   \n",
       "0  {\"cutoff\": \"quantile_0.25\", \"eval_fairness_gro...       38.648457   \n",
       "\n",
       "   test_size_n  test_size_frac  fair_main_equalized_odds_difference  \\\n",
       "0        89710             1.0                             0.059441   \n",
       "0        89710             1.0                             0.059441   \n",
       "0        89710             1.0                             0.099518   \n",
       "0        89710             1.0                             0.099518   \n",
       "\n",
       "   fair_main_equalized_odds_ratio  fair_main_demographic_parity_difference  \\\n",
       "0                        0.936241                                 0.059231   \n",
       "0                        0.936241                                 0.059231   \n",
       "0                        0.896307                                 0.068326   \n",
       "0                        0.896307                                 0.068326   \n",
       "\n",
       "   fair_main_demographic_parity_ratio  ...  perf_grp_precision_0  \\\n",
       "0                            0.936972  ...                   NaN   \n",
       "0                            0.936972  ...              0.123023   \n",
       "0                            0.913818  ...                   NaN   \n",
       "0                            0.913818  ...              0.136886   \n",
       "\n",
       "   perf_grp_precision_1  perf_grp_false positive rate_0  \\\n",
       "0                   NaN                             NaN   \n",
       "0              0.139055                        0.872826   \n",
       "0                   NaN                             NaN   \n",
       "0              0.159959                        0.706802   \n",
       "\n",
       "   perf_grp_false positive rate_1  perf_grp_false negative rate_0  \\\n",
       "0                             NaN                             NaN   \n",
       "0                        0.932267                        0.060389   \n",
       "0                             NaN                             NaN   \n",
       "0                        0.767400                        0.139780   \n",
       "\n",
       "   perf_grp_false negative rate_1  perf_grp_selection rate_0  \\\n",
       "0                             NaN                        NaN   \n",
       "0                        0.011050                   0.880526   \n",
       "0                             NaN                        NaN   \n",
       "0                        0.040263                   0.724489   \n",
       "\n",
       "   perf_grp_selection rate_1  perf_grp_count_0  perf_grp_count_1  \n",
       "0                        NaN               NaN               NaN  \n",
       "0                   0.939757           20540.0           69170.0  \n",
       "0                        NaN               NaN               NaN  \n",
       "0                   0.792815           20540.0           69170.0  \n",
       "\n",
       "[4 rows x 50 columns]"
      ]
     },
     "execution_count": 79,
     "metadata": {},
     "output_type": "execute_result"
    }
   ],
   "source": [
    "final_output = universe_analysis.generate_final_output(\n",
    "    y_pred_prob=probs_test,\n",
    "    y_test=y_true,\n",
    "    org_test=org_test,\n",
    "    filter_data=filter_sub_universe_data,\n",
    "    cp_metrics_df=cp_metrics_df,\n",
    "    save=True,\n",
    ")\n",
    "final_output"
   ]
  },
  {
   "cell_type": "code",
   "execution_count": null,
   "id": "721ff514-cb11-46f8-b6fc-50392f74b5cb",
   "metadata": {
    "papermill": {
     "duration": 0.030977,
     "end_time": "2025-07-30T20:29:28.688460",
     "exception": false,
     "start_time": "2025-07-30T20:29:28.657483",
     "status": "completed"
    },
    "tags": []
   },
   "outputs": [],
   "source": []
  }
 ],
 "metadata": {
  "celltoolbar": "Tags",
  "kernelspec": {
   "display_name": "Python (CMA Fairness)",
   "language": "python",
   "name": "cma_fair_env"
  },
  "language_info": {
   "codemirror_mode": {
    "name": "ipython",
    "version": 3
   },
   "file_extension": ".py",
   "mimetype": "text/x-python",
   "name": "python",
   "nbconvert_exporter": "python",
   "pygments_lexer": "ipython3",
   "version": "3.10.12"
  },
  "papermill": {
   "default_parameters": {},
   "duration": 53.581884,
   "end_time": "2025-07-30T20:29:29.541160",
   "environment_variables": {},
   "exception": null,
   "input_path": "universe_analysis.ipynb",
   "output_path": "output/runs/14/notebooks/m_14-f7207e98f9209b278fafa387f90cc17e.ipynb",
   "parameters": {
    "output_dir": "output",
    "run_no": "14",
    "seed": "2023",
    "universe": "{\"cutoff\": [\"quantile_0.1\", \"quantile_0.25\"], \"eval_fairness_grouping\": [\"majority-minority\", \"nationality-all\"], \"exclude_features\": \"nationality-sex\", \"exclude_subgroups\": \"drop-non-german\", \"model\": \"rf\", \"scale\": \"scale\", \"training_size\": \"25k\", \"training_year\": \"2010_14\"}",
    "universe_id": "f7207e98f9209b278fafa387f90cc17e"
   },
   "start_time": "2025-07-30T20:28:35.959276",
   "version": "2.6.0"
  }
 },
 "nbformat": 4,
 "nbformat_minor": 5
}