{
 "cells": [
  {
   "cell_type": "code",
   "execution_count": 1,
   "id": "f159f837-637b-42ba-96b5-ec9a68c44524",
   "metadata": {
    "execution": {
     "iopub.execute_input": "2025-07-30T21:03:45.928102Z",
     "iopub.status.busy": "2025-07-30T21:03:45.927612Z",
     "iopub.status.idle": "2025-07-30T21:03:45.941481Z",
     "shell.execute_reply": "2025-07-30T21:03:45.940453Z"
    },
    "papermill": {
     "duration": 0.035696,
     "end_time": "2025-07-30T21:03:45.943072",
     "exception": false,
     "start_time": "2025-07-30T21:03:45.907376",
     "status": "completed"
    },
    "tags": []
   },
   "outputs": [
    {
     "name": "stdout",
     "output_type": "stream",
     "text": [
      "/dss/dsshome1/0C/ra93lal2/cma/CMA_Fairness_v2\n"
     ]
    },
    {
     "name": "stderr",
     "output_type": "stream",
     "text": [
      "/dss/dsshome1/0C/ra93lal2/.local/share/virtualenvs/CMA_Fairness_v2-3j10GkSs/lib/python3.10/site-packages/IPython/core/magics/osm.py:393: UserWarning: This is now an optional IPython functionality, using bookmarks requires you to install the `pickleshare` library.\n",
      "  bkms = self.shell.db.get('bookmarks', {})\n",
      "/dss/dsshome1/0C/ra93lal2/.local/share/virtualenvs/CMA_Fairness_v2-3j10GkSs/lib/python3.10/site-packages/IPython/core/magics/osm.py:417: UserWarning: This is now an optional IPython functionality, setting dhist requires you to install the `pickleshare` library.\n",
      "  self.shell.db['dhist'] = compress_dhist(dhist)[-100:]\n"
     ]
    }
   ],
   "source": [
    "%cd ~/cma/CMA_Fairness_v2"
   ]
  },
  {
   "cell_type": "markdown",
   "id": "de2603b9",
   "metadata": {
    "papermill": {
     "duration": 0.018799,
     "end_time": "2025-07-30T21:03:45.982117",
     "exception": false,
     "start_time": "2025-07-30T21:03:45.963318",
     "status": "completed"
    },
    "tags": []
   },
   "source": [
    "The following cell holds the definition of our parameters, these values can be overriden by rendering the with e.g. the following command:\n",
    "\n",
    "papermill -p alpha 0.2 -p ratio 0.3 universe_analysis.ipynb output/test_run.ipynb"
   ]
  },
  {
   "cell_type": "code",
   "execution_count": 2,
   "id": "a80968a0-40bb-4fa9-85ef-2d5eefb01975",
   "metadata": {
    "execution": {
     "iopub.execute_input": "2025-07-30T21:03:46.022608Z",
     "iopub.status.busy": "2025-07-30T21:03:46.022241Z",
     "iopub.status.idle": "2025-07-30T21:03:46.027746Z",
     "shell.execute_reply": "2025-07-30T21:03:46.026697Z"
    },
    "papermill": {
     "duration": 0.028254,
     "end_time": "2025-07-30T21:03:46.029457",
     "exception": false,
     "start_time": "2025-07-30T21:03:46.001203",
     "status": "completed"
    },
    "tags": []
   },
   "outputs": [
    {
     "name": "stdout",
     "output_type": "stream",
     "text": [
      "Current working directory: /dss/dsshome1/0C/ra93lal2/cma/CMA_Fairness_v2\n"
     ]
    }
   ],
   "source": [
    "import os\n",
    "print(\"Current working directory:\", os.getcwd())"
   ]
  },
  {
   "cell_type": "code",
   "execution_count": 3,
   "id": "2dce4c03",
   "metadata": {
    "execution": {
     "iopub.execute_input": "2025-07-30T21:03:46.069100Z",
     "iopub.status.busy": "2025-07-30T21:03:46.068408Z",
     "iopub.status.idle": "2025-07-30T21:03:46.074489Z",
     "shell.execute_reply": "2025-07-30T21:03:46.073549Z"
    },
    "papermill": {
     "duration": 0.028343,
     "end_time": "2025-07-30T21:03:46.077180",
     "exception": false,
     "start_time": "2025-07-30T21:03:46.048837",
     "status": "completed"
    },
    "tags": [
     "parameters"
    ]
   },
   "outputs": [],
   "source": [
    "run_no = 0\n",
    "universe_id = \"test\"\n",
    "universe = {\n",
    "    \"training_size\": \"25k\", # \"25k\", \"5k\", \"1k\"\n",
    "    \"training_year\": \"2014\", # \"2014\", \"2012_14\", \"2010_14\"\n",
    "    \"scale\": \"scale\", # \"scale\", \"do-not-scale\",\n",
    "    #\"stratify_split\": \"target\", # \"none\", \"target\", \"protected-attribute\", \"both\",\n",
    "    \"model\": \"elasticnet\", # \"logreg\", \"penalized_logreg\", \"rf\", \"gbm\", \"elasticnet\"\n",
    "    \"cutoff\": [\"quantile_0.15\", \"quantile_0.30\"],\n",
    "    \"exclude_features\": \"age\", # \"none\", \"nationality\", \"sex\", \"nationality-sex\", \"age\"\n",
    "    \"exclude_subgroups\": \"keep-all\", # \"keep-all\", \"drop-non-german\"\n",
    "    \"eval_fairness_grouping\": [\"majority-minority\", \"nationality-all\"]\n",
    "}\n",
    "\n",
    "output_dir=\"./output\"\n",
    "seed=0"
   ]
  },
  {
   "cell_type": "code",
   "execution_count": 4,
   "id": "c07f0af6",
   "metadata": {
    "execution": {
     "iopub.execute_input": "2025-07-30T21:03:46.121394Z",
     "iopub.status.busy": "2025-07-30T21:03:46.120948Z",
     "iopub.status.idle": "2025-07-30T21:03:46.126243Z",
     "shell.execute_reply": "2025-07-30T21:03:46.125263Z"
    },
    "papermill": {
     "duration": 0.02906,
     "end_time": "2025-07-30T21:03:46.127917",
     "exception": false,
     "start_time": "2025-07-30T21:03:46.098857",
     "status": "completed"
    },
    "tags": [
     "injected-parameters"
    ]
   },
   "outputs": [],
   "source": [
    "# Parameters\n",
    "universe_id = \"c8b38b0cdac3d22fd86e3bd4a13432b8\"\n",
    "run_no = \"14\"\n",
    "universe = \"{\\\"cutoff\\\": [\\\"quantile_0.1\\\", \\\"quantile_0.25\\\"], \\\"eval_fairness_grouping\\\": [\\\"majority-minority\\\", \\\"nationality-all\\\"], \\\"exclude_features\\\": \\\"nationality\\\", \\\"exclude_subgroups\\\": \\\"keep-all\\\", \\\"model\\\": \\\"penalized_logreg\\\", \\\"scale\\\": \\\"do-not-scale\\\", \\\"training_size\\\": \\\"5k\\\", \\\"training_year\\\": \\\"2012_14\\\"}\"\n",
    "output_dir = \"output\"\n",
    "seed = \"2023\"\n"
   ]
  },
  {
   "cell_type": "code",
   "execution_count": 5,
   "id": "1650acaf",
   "metadata": {
    "execution": {
     "iopub.execute_input": "2025-07-30T21:03:46.172360Z",
     "iopub.status.busy": "2025-07-30T21:03:46.171896Z",
     "iopub.status.idle": "2025-07-30T21:03:46.177068Z",
     "shell.execute_reply": "2025-07-30T21:03:46.176144Z"
    },
    "papermill": {
     "duration": 0.028752,
     "end_time": "2025-07-30T21:03:46.178683",
     "exception": false,
     "start_time": "2025-07-30T21:03:46.149931",
     "status": "completed"
    },
    "tags": []
   },
   "outputs": [],
   "source": [
    "import json\n",
    "# Parse universe into dict if it is passed as a string\n",
    "if isinstance(universe, str):\n",
    "    universe = json.loads(universe)"
   ]
  },
  {
   "cell_type": "code",
   "execution_count": 6,
   "id": "16620c48",
   "metadata": {
    "execution": {
     "iopub.execute_input": "2025-07-30T21:03:46.223231Z",
     "iopub.status.busy": "2025-07-30T21:03:46.222604Z",
     "iopub.status.idle": "2025-07-30T21:03:46.265925Z",
     "shell.execute_reply": "2025-07-30T21:03:46.264903Z"
    },
    "papermill": {
     "duration": 0.069206,
     "end_time": "2025-07-30T21:03:46.269544",
     "exception": false,
     "start_time": "2025-07-30T21:03:46.200338",
     "status": "completed"
    },
    "tags": []
   },
   "outputs": [],
   "source": [
    "# Auto-reload the custom package\n",
    "%load_ext autoreload\n",
    "%autoreload 1\n",
    "%aimport fairness_multiverse"
   ]
  },
  {
   "cell_type": "code",
   "execution_count": 7,
   "id": "01c5c9f3",
   "metadata": {
    "execution": {
     "iopub.execute_input": "2025-07-30T21:03:46.315718Z",
     "iopub.status.busy": "2025-07-30T21:03:46.314804Z",
     "iopub.status.idle": "2025-07-30T21:03:48.106527Z",
     "shell.execute_reply": "2025-07-30T21:03:48.105482Z"
    },
    "papermill": {
     "duration": 1.81636,
     "end_time": "2025-07-30T21:03:48.108432",
     "exception": false,
     "start_time": "2025-07-30T21:03:46.292072",
     "status": "completed"
    },
    "tags": []
   },
   "outputs": [],
   "source": [
    "from fairness_multiverse.universe import UniverseAnalysis\n",
    "\n",
    "universe_analysis = UniverseAnalysis(\n",
    "    run_no = run_no,\n",
    "    universe_id = universe_id,\n",
    "    universe = universe,\n",
    "    output_dir=output_dir,\n",
    ")"
   ]
  },
  {
   "cell_type": "code",
   "execution_count": 8,
   "id": "106241f5",
   "metadata": {
    "execution": {
     "iopub.execute_input": "2025-07-30T21:03:48.151081Z",
     "iopub.status.busy": "2025-07-30T21:03:48.150110Z",
     "iopub.status.idle": "2025-07-30T21:03:48.157435Z",
     "shell.execute_reply": "2025-07-30T21:03:48.156245Z"
    },
    "papermill": {
     "duration": 0.029567,
     "end_time": "2025-07-30T21:03:48.159117",
     "exception": false,
     "start_time": "2025-07-30T21:03:48.129550",
     "status": "completed"
    },
    "tags": []
   },
   "outputs": [
    {
     "name": "stdout",
     "output_type": "stream",
     "text": [
      "Using Seed: 2023\n"
     ]
    }
   ],
   "source": [
    "import numpy as np\n",
    "parsed_seed = int(seed)\n",
    "np.random.seed(parsed_seed)\n",
    "print(f\"Using Seed: {parsed_seed}\")"
   ]
  },
  {
   "cell_type": "markdown",
   "id": "e0ebdc57",
   "metadata": {
    "papermill": {
     "duration": 0.019656,
     "end_time": "2025-07-30T21:03:48.199481",
     "exception": false,
     "start_time": "2025-07-30T21:03:48.179825",
     "status": "completed"
    },
    "tags": []
   },
   "source": [
    "# Loading Data"
   ]
  },
  {
   "cell_type": "markdown",
   "id": "681925a3",
   "metadata": {
    "papermill": {
     "duration": 0.01974,
     "end_time": "2025-07-30T21:03:48.238948",
     "exception": false,
     "start_time": "2025-07-30T21:03:48.219208",
     "status": "completed"
    },
    "tags": []
   },
   "source": [
    "Load siab_train, siab_test, siab_calib and/or \n",
    "load siab_train_features, siab_train_labels"
   ]
  },
  {
   "cell_type": "code",
   "execution_count": 9,
   "id": "f0496b8a",
   "metadata": {
    "execution": {
     "iopub.execute_input": "2025-07-30T21:03:48.282759Z",
     "iopub.status.busy": "2025-07-30T21:03:48.282081Z",
     "iopub.status.idle": "2025-07-30T21:04:01.084399Z",
     "shell.execute_reply": "2025-07-30T21:04:01.083214Z"
    },
    "papermill": {
     "duration": 12.826614,
     "end_time": "2025-07-30T21:04:01.086135",
     "exception": false,
     "start_time": "2025-07-30T21:03:48.259521",
     "status": "completed"
    },
    "tags": []
   },
   "outputs": [
    {
     "name": "stdout",
     "output_type": "stream",
     "text": [
      "Loading SIAB data from cache: data/siab_cached.csv.gz\n"
     ]
    },
    {
     "name": "stdout",
     "output_type": "stream",
     "text": [
      "(643690, 164)\n"
     ]
    }
   ],
   "source": [
    "from pathlib import Path\n",
    "import pandas as pd\n",
    "\n",
    "# File paths\n",
    "raw_file = Path(\"data/raw/siab.csv\")\n",
    "cache_file = Path(\"data/siab_cached.csv.gz\")\n",
    "\n",
    "# Ensure cache directory exists\n",
    "cache_file.parent.mkdir(parents=True, exist_ok=True)\n",
    "\n",
    "# Load with simple caching\n",
    "if cache_file.exists():\n",
    "    print(f\"Loading SIAB data from cache: {cache_file}\")\n",
    "    siab = pd.read_csv(cache_file, compression='gzip')\n",
    "else:\n",
    "    print(f\"Cache not found. Reading raw SIAB data: {raw_file}\")\n",
    "    siab = pd.read_csv(raw_file)\n",
    "    siab.to_csv(cache_file, index=False, compression='gzip')\n",
    "    print(f\"Cached SIAB data to: {cache_file}\")\n",
    "\n",
    "# Now use `siab` DataFrame as needed\n",
    "print(siab.shape)"
   ]
  },
  {
   "cell_type": "code",
   "execution_count": 10,
   "id": "db0ca512-5f53-4dba-abdb-a2888bca41ba",
   "metadata": {
    "execution": {
     "iopub.execute_input": "2025-07-30T21:04:01.136335Z",
     "iopub.status.busy": "2025-07-30T21:04:01.135459Z",
     "iopub.status.idle": "2025-07-30T21:04:01.141945Z",
     "shell.execute_reply": "2025-07-30T21:04:01.140948Z"
    },
    "papermill": {
     "duration": 0.031359,
     "end_time": "2025-07-30T21:04:01.143617",
     "exception": false,
     "start_time": "2025-07-30T21:04:01.112258",
     "status": "completed"
    },
    "tags": []
   },
   "outputs": [],
   "source": [
    "#siab"
   ]
  },
  {
   "cell_type": "code",
   "execution_count": 11,
   "id": "a0edb063",
   "metadata": {
    "execution": {
     "iopub.execute_input": "2025-07-30T21:04:01.185645Z",
     "iopub.status.busy": "2025-07-30T21:04:01.184805Z",
     "iopub.status.idle": "2025-07-30T21:04:01.190971Z",
     "shell.execute_reply": "2025-07-30T21:04:01.189977Z"
    },
    "papermill": {
     "duration": 0.028475,
     "end_time": "2025-07-30T21:04:01.192656",
     "exception": false,
     "start_time": "2025-07-30T21:04:01.164181",
     "status": "completed"
    },
    "tags": []
   },
   "outputs": [],
   "source": [
    "#import pandas as pd\n",
    "#\n",
    "#X_train = pd.read_csv(\"./data/X_train.csv\")\n",
    "#y_train = pd.read_csv(\"./data/y_train.csv\")"
   ]
  },
  {
   "cell_type": "code",
   "execution_count": 12,
   "id": "63d08085",
   "metadata": {
    "execution": {
     "iopub.execute_input": "2025-07-30T21:04:01.234806Z",
     "iopub.status.busy": "2025-07-30T21:04:01.233951Z",
     "iopub.status.idle": "2025-07-30T21:04:01.238946Z",
     "shell.execute_reply": "2025-07-30T21:04:01.237946Z"
    },
    "papermill": {
     "duration": 0.027323,
     "end_time": "2025-07-30T21:04:01.240616",
     "exception": false,
     "start_time": "2025-07-30T21:04:01.213293",
     "status": "completed"
    },
    "tags": []
   },
   "outputs": [],
   "source": [
    "#X_test = pd.read_csv(\"./data/X_test.csv\")\n",
    "#y_true = pd.read_csv(\"./data/y_test.csv\")"
   ]
  },
  {
   "cell_type": "code",
   "execution_count": 13,
   "id": "98a8d0fa-1d3d-4ed8-bb2c-281470e24add",
   "metadata": {
    "execution": {
     "iopub.execute_input": "2025-07-30T21:04:01.284680Z",
     "iopub.status.busy": "2025-07-30T21:04:01.283954Z",
     "iopub.status.idle": "2025-07-30T21:04:01.288831Z",
     "shell.execute_reply": "2025-07-30T21:04:01.287968Z"
    },
    "papermill": {
     "duration": 0.028327,
     "end_time": "2025-07-30T21:04:01.290527",
     "exception": false,
     "start_time": "2025-07-30T21:04:01.262200",
     "status": "completed"
    },
    "tags": []
   },
   "outputs": [],
   "source": [
    "# Calibration data for conformal\n",
    "#X_calib = pd.read_csv(\"./data/X_calib.csv\")\n",
    "#y_calib = pd.read_csv(\"./data/y_calib.csv\")"
   ]
  },
  {
   "cell_type": "markdown",
   "id": "997051c5-15bd-4b69-9786-c3001a3ce484",
   "metadata": {
    "papermill": {
     "duration": 0.021535,
     "end_time": "2025-07-30T21:04:01.332847",
     "exception": false,
     "start_time": "2025-07-30T21:04:01.311312",
     "status": "completed"
    },
    "tags": []
   },
   "source": [
    "# Splitting Data and Setting Training Data Size"
   ]
  },
  {
   "cell_type": "code",
   "execution_count": 14,
   "id": "e993b61f-042d-41a6-8c81-f55681f86335",
   "metadata": {
    "execution": {
     "iopub.execute_input": "2025-07-30T21:04:01.375422Z",
     "iopub.status.busy": "2025-07-30T21:04:01.374965Z",
     "iopub.status.idle": "2025-07-30T21:04:01.388079Z",
     "shell.execute_reply": "2025-07-30T21:04:01.387096Z"
    },
    "papermill": {
     "duration": 0.036286,
     "end_time": "2025-07-30T21:04:01.389908",
     "exception": false,
     "start_time": "2025-07-30T21:04:01.353622",
     "status": "completed"
    },
    "tags": []
   },
   "outputs": [],
   "source": [
    "def sample_by_year_size(df,\n",
    "                        training_year: str,\n",
    "                        training_size: str,\n",
    "                        random_state: int = 42):\n",
    "    # --- parse training_year into a list of int years ---\n",
    "    if \"_\" in training_year:\n",
    "        start_str, end_str = training_year.split(\"_\", 1)\n",
    "        start = int(start_str)\n",
    "        end   = int(end_str) if len(end_str) == 4 else (int(end_str) + (start // 100)*100)\n",
    "        years = list(range(start, end + 1))\n",
    "    else:\n",
    "        years = [int(training_year)]\n",
    "\n",
    "    df = df[df[\"year\"].isin(years)].reset_index(drop=True)\n",
    "\n",
    "    # --- map training_size to total number of samples ---\n",
    "    total_map = {\"25k\": 25_000, \"5k\": 5_000, \"1k\": 1_000}\n",
    "    if training_size not in total_map:\n",
    "        return df  # e.g. \"all\"\n",
    "\n",
    "    total_samples = total_map[training_size]\n",
    "    n_years       = len(years)\n",
    "    base          = total_samples // n_years\n",
    "    remainder     = total_samples % n_years\n",
    "\n",
    "    # --- build a dict: year -> how many to sample ---\n",
    "    # give +1 to the first `remainder` years in ascending order\n",
    "    quotas = {\n",
    "        year: base + (1 if idx < remainder else 0)\n",
    "        for idx, year in enumerate(sorted(years))\n",
    "    }\n",
    "\n",
    "    # --- sample per‐year according to the quota dict ---\n",
    "    sampled = (\n",
    "        df\n",
    "        .groupby(\"year\", group_keys=False)\n",
    "        .apply(lambda grp: grp.sample(\n",
    "            n=min(len(grp), quotas[grp.name]),\n",
    "            random_state=random_state))\n",
    "        .reset_index(drop=True)\n",
    "    )\n",
    "\n",
    "    return sampled"
   ]
  },
  {
   "cell_type": "code",
   "execution_count": 15,
   "id": "c0ccd338-0e02-41f3-a09d-f56f9266e3fb",
   "metadata": {
    "execution": {
     "iopub.execute_input": "2025-07-30T21:04:01.434752Z",
     "iopub.status.busy": "2025-07-30T21:04:01.433917Z",
     "iopub.status.idle": "2025-07-30T21:04:01.439088Z",
     "shell.execute_reply": "2025-07-30T21:04:01.438203Z"
    },
    "papermill": {
     "duration": 0.028339,
     "end_time": "2025-07-30T21:04:01.440972",
     "exception": false,
     "start_time": "2025-07-30T21:04:01.412633",
     "status": "completed"
    },
    "tags": []
   },
   "outputs": [],
   "source": [
    "#universe[\"training_size\"]"
   ]
  },
  {
   "cell_type": "code",
   "execution_count": 16,
   "id": "ca707fd7-8047-4acd-bfa5-66248fbbf8e6",
   "metadata": {
    "execution": {
     "iopub.execute_input": "2025-07-30T21:04:01.485319Z",
     "iopub.status.busy": "2025-07-30T21:04:01.484536Z",
     "iopub.status.idle": "2025-07-30T21:04:01.490041Z",
     "shell.execute_reply": "2025-07-30T21:04:01.489120Z"
    },
    "papermill": {
     "duration": 0.029558,
     "end_time": "2025-07-30T21:04:01.491936",
     "exception": false,
     "start_time": "2025-07-30T21:04:01.462378",
     "status": "completed"
    },
    "tags": []
   },
   "outputs": [],
   "source": [
    "#universe[\"training_year\"]"
   ]
  },
  {
   "cell_type": "code",
   "execution_count": 17,
   "id": "aea9c6ef-6f46-42c8-85eb-5a62025c1508",
   "metadata": {
    "execution": {
     "iopub.execute_input": "2025-07-30T21:04:01.525043Z",
     "iopub.status.busy": "2025-07-30T21:04:01.524602Z",
     "iopub.status.idle": "2025-07-30T21:04:02.136599Z",
     "shell.execute_reply": "2025-07-30T21:04:02.135621Z"
    },
    "papermill": {
     "duration": 0.625856,
     "end_time": "2025-07-30T21:04:02.138118",
     "exception": false,
     "start_time": "2025-07-30T21:04:01.512262",
     "status": "completed"
    },
    "tags": []
   },
   "outputs": [],
   "source": [
    "siab_train = sample_by_year_size(siab,\n",
    "                               training_year=universe[\"training_year\"],\n",
    "                               training_size=universe[\"training_size\"])"
   ]
  },
  {
   "cell_type": "code",
   "execution_count": 18,
   "id": "8d3afb32-789d-442c-8d5d-9f5aa8dd2eed",
   "metadata": {
    "execution": {
     "iopub.execute_input": "2025-07-30T21:04:02.169528Z",
     "iopub.status.busy": "2025-07-30T21:04:02.169154Z",
     "iopub.status.idle": "2025-07-30T21:04:02.173370Z",
     "shell.execute_reply": "2025-07-30T21:04:02.172409Z"
    },
    "papermill": {
     "duration": 0.018638,
     "end_time": "2025-07-30T21:04:02.174826",
     "exception": false,
     "start_time": "2025-07-30T21:04:02.156188",
     "status": "completed"
    },
    "tags": []
   },
   "outputs": [],
   "source": [
    "#siab_train.shape"
   ]
  },
  {
   "cell_type": "code",
   "execution_count": 19,
   "id": "d582db68-1a4c-47fb-84fc-08518dc1975a",
   "metadata": {
    "execution": {
     "iopub.execute_input": "2025-07-30T21:04:02.197780Z",
     "iopub.status.busy": "2025-07-30T21:04:02.197467Z",
     "iopub.status.idle": "2025-07-30T21:04:02.201322Z",
     "shell.execute_reply": "2025-07-30T21:04:02.200590Z"
    },
    "papermill": {
     "duration": 0.016524,
     "end_time": "2025-07-30T21:04:02.202510",
     "exception": false,
     "start_time": "2025-07-30T21:04:02.185986",
     "status": "completed"
    },
    "tags": []
   },
   "outputs": [],
   "source": [
    "#display(siab_train.groupby(\"year\").size())"
   ]
  },
  {
   "cell_type": "code",
   "execution_count": 20,
   "id": "a561edb4-d032-42cb-8256-22eac1111c64",
   "metadata": {
    "execution": {
     "iopub.execute_input": "2025-07-30T21:04:02.225475Z",
     "iopub.status.busy": "2025-07-30T21:04:02.224926Z",
     "iopub.status.idle": "2025-07-30T21:04:02.445528Z",
     "shell.execute_reply": "2025-07-30T21:04:02.444780Z"
    },
    "papermill": {
     "duration": 0.233282,
     "end_time": "2025-07-30T21:04:02.446996",
     "exception": false,
     "start_time": "2025-07-30T21:04:02.213714",
     "status": "completed"
    },
    "tags": []
   },
   "outputs": [],
   "source": [
    "#siab_train = siab_s[siab_s.year < 2015]\n",
    "siab_calib = siab[siab.year == 2015]\n",
    "siab_test = siab[siab.year == 2016]"
   ]
  },
  {
   "cell_type": "code",
   "execution_count": 21,
   "id": "472de16f-c3db-4916-846b-1f0de9cf1746",
   "metadata": {
    "execution": {
     "iopub.execute_input": "2025-07-30T21:04:02.470307Z",
     "iopub.status.busy": "2025-07-30T21:04:02.469785Z",
     "iopub.status.idle": "2025-07-30T21:04:02.476347Z",
     "shell.execute_reply": "2025-07-30T21:04:02.475537Z"
    },
    "papermill": {
     "duration": 0.019165,
     "end_time": "2025-07-30T21:04:02.477618",
     "exception": false,
     "start_time": "2025-07-30T21:04:02.458453",
     "status": "completed"
    },
    "tags": []
   },
   "outputs": [],
   "source": [
    "X_train = siab_train.iloc[:,4:164]\n",
    "y_train = siab_train.iloc[:, [3]]"
   ]
  },
  {
   "cell_type": "code",
   "execution_count": 22,
   "id": "828c96af-f43a-4ed6-ba47-8ac73a47d56c",
   "metadata": {
    "execution": {
     "iopub.execute_input": "2025-07-30T21:04:02.501001Z",
     "iopub.status.busy": "2025-07-30T21:04:02.500305Z",
     "iopub.status.idle": "2025-07-30T21:04:02.547456Z",
     "shell.execute_reply": "2025-07-30T21:04:02.546726Z"
    },
    "papermill": {
     "duration": 0.060039,
     "end_time": "2025-07-30T21:04:02.549101",
     "exception": false,
     "start_time": "2025-07-30T21:04:02.489062",
     "status": "completed"
    },
    "tags": []
   },
   "outputs": [],
   "source": [
    "X_calib = siab_calib.iloc[:,4:164]\n",
    "y_calib = siab_calib.iloc[:, [3]]"
   ]
  },
  {
   "cell_type": "code",
   "execution_count": 23,
   "id": "c34be9c3-6bd6-476e-acd3-845840e303be",
   "metadata": {
    "execution": {
     "iopub.execute_input": "2025-07-30T21:04:02.573074Z",
     "iopub.status.busy": "2025-07-30T21:04:02.572617Z",
     "iopub.status.idle": "2025-07-30T21:04:02.619526Z",
     "shell.execute_reply": "2025-07-30T21:04:02.618471Z"
    },
    "papermill": {
     "duration": 0.059538,
     "end_time": "2025-07-30T21:04:02.620786",
     "exception": false,
     "start_time": "2025-07-30T21:04:02.561248",
     "status": "completed"
    },
    "tags": []
   },
   "outputs": [],
   "source": [
    "X_test = siab_test.iloc[:,4:164]\n",
    "y_true = siab_test.iloc[:, [3]]"
   ]
  },
  {
   "cell_type": "markdown",
   "id": "9901737e-04df-44f0-9100-f5ad144ed040",
   "metadata": {
    "papermill": {
     "duration": 0.010604,
     "end_time": "2025-07-30T21:04:02.643453",
     "exception": false,
     "start_time": "2025-07-30T21:04:02.632849",
     "status": "completed"
    },
    "tags": []
   },
   "source": [
    "# Splitting Data and Setting Training Data Size OLD VERSION"
   ]
  },
  {
   "cell_type": "code",
   "execution_count": 24,
   "id": "acbc8f7d-8fc8-4e86-8c59-5dcb0f58384b",
   "metadata": {
    "execution": {
     "iopub.execute_input": "2025-07-30T21:04:02.666548Z",
     "iopub.status.busy": "2025-07-30T21:04:02.666058Z",
     "iopub.status.idle": "2025-07-30T21:04:02.670912Z",
     "shell.execute_reply": "2025-07-30T21:04:02.670218Z"
    },
    "papermill": {
     "duration": 0.018174,
     "end_time": "2025-07-30T21:04:02.672339",
     "exception": false,
     "start_time": "2025-07-30T21:04:02.654165",
     "status": "completed"
    },
    "tags": []
   },
   "outputs": [],
   "source": [
    "#def sample_by_year(df, training_size, random_state=42):\n",
    "#    if training_size == \"2014\":\n",
    "#        return df[df[\"year\"] == 2014].reset_index(drop=True)\n",
    "#    \n",
    "#    size_map = {\n",
    "#        \"25k\": 5000,\n",
    "#        \"5k\": 1000,\n",
    "#        \"1k\": 200\n",
    "#    }\n",
    "#\n",
    "#    if training_size not in size_map:\n",
    "#        return df.reset_index(drop=True)  # use all data\n",
    "#\n",
    "#    n_per_year = size_map[training_size]\n",
    "#    grouped = df.groupby(\"year\")\n",
    "#    sampled = grouped.apply(lambda x: x.sample(n=min(n_per_year, len(x)), random_state=random_state))\n",
    "#    return sampled.reset_index(drop=True)"
   ]
  },
  {
   "cell_type": "code",
   "execution_count": 25,
   "id": "6d931f52-beaf-43ff-9e78-9d44a448d54e",
   "metadata": {
    "execution": {
     "iopub.execute_input": "2025-07-30T21:04:02.695525Z",
     "iopub.status.busy": "2025-07-30T21:04:02.695184Z",
     "iopub.status.idle": "2025-07-30T21:04:02.699842Z",
     "shell.execute_reply": "2025-07-30T21:04:02.699048Z"
    },
    "papermill": {
     "duration": 0.017339,
     "end_time": "2025-07-30T21:04:02.701240",
     "exception": false,
     "start_time": "2025-07-30T21:04:02.683901",
     "status": "completed"
    },
    "tags": []
   },
   "outputs": [],
   "source": [
    "#siab_s = sample_by_year(siab, universe[\"training_size\"])"
   ]
  },
  {
   "cell_type": "code",
   "execution_count": 26,
   "id": "5db0a40e-a4e2-4920-be85-b12ae061d70d",
   "metadata": {
    "execution": {
     "iopub.execute_input": "2025-07-30T21:04:02.724059Z",
     "iopub.status.busy": "2025-07-30T21:04:02.723615Z",
     "iopub.status.idle": "2025-07-30T21:04:02.727758Z",
     "shell.execute_reply": "2025-07-30T21:04:02.726988Z"
    },
    "papermill": {
     "duration": 0.01677,
     "end_time": "2025-07-30T21:04:02.729079",
     "exception": false,
     "start_time": "2025-07-30T21:04:02.712309",
     "status": "completed"
    },
    "tags": []
   },
   "outputs": [],
   "source": [
    "#display(siab_s.groupby(\"year\").size())"
   ]
  },
  {
   "cell_type": "code",
   "execution_count": 27,
   "id": "e6c733c5",
   "metadata": {
    "execution": {
     "iopub.execute_input": "2025-07-30T21:04:02.752278Z",
     "iopub.status.busy": "2025-07-30T21:04:02.751909Z",
     "iopub.status.idle": "2025-07-30T21:04:02.838690Z",
     "shell.execute_reply": "2025-07-30T21:04:02.837894Z"
    },
    "papermill": {
     "duration": 0.099821,
     "end_time": "2025-07-30T21:04:02.840152",
     "exception": false,
     "start_time": "2025-07-30T21:04:02.740331",
     "status": "completed"
    },
    "tags": []
   },
   "outputs": [],
   "source": [
    "# Auxiliary data needed downstream in the pipeline\n",
    "\n",
    "org_train = X_train.copy()\n",
    "org_test = X_test.copy()\n",
    "org_calib = X_calib.copy()"
   ]
  },
  {
   "cell_type": "code",
   "execution_count": 28,
   "id": "1466abac-c6da-4492-a62f-4240ae3783af",
   "metadata": {
    "execution": {
     "iopub.execute_input": "2025-07-30T21:04:02.863895Z",
     "iopub.status.busy": "2025-07-30T21:04:02.863404Z",
     "iopub.status.idle": "2025-07-30T21:04:02.868110Z",
     "shell.execute_reply": "2025-07-30T21:04:02.867397Z"
    },
    "papermill": {
     "duration": 0.017806,
     "end_time": "2025-07-30T21:04:02.869466",
     "exception": false,
     "start_time": "2025-07-30T21:04:02.851660",
     "status": "completed"
    },
    "tags": []
   },
   "outputs": [],
   "source": [
    "# put in other script?\n",
    "# Group sizes\n",
    "\n",
    "#def calculate_percentages(df, df_name):\n",
    "#    total_entries = len(df)\n",
    "#\n",
    "#    female_pct = (df['frau1'] == 1).mean() * 100\n",
    "#    non_german_pct = ((df['maxdeutsch1'] == 0) & (df['maxdeutsch.Missing.'] == 0)).mean() * 100\n",
    "#    non_german_male_pct = ((df['frau1'] == 0) & (df['maxdeutsch1'] == 0) & (df['maxdeutsch.Missing.'] == 0)).mean() * 100\n",
    "#    non_german_female_pct = ((df['frau1'] == 1) & (df['maxdeutsch1'] == 0) & (df['maxdeutsch.Missing.'] == 0)).mean() * 100\n",
    "#\n",
    "#    print(f\"--- {df_name} ---\")\n",
    "#    print(f\"Female: {female_pct:.2f}%\")\n",
    "#    print(f\"Non-German: {non_german_pct:.2f}%\")\n",
    "#    print(f\"Non-German Male: {non_german_male_pct:.2f}%\")\n",
    "#    print(f\"Non-German Female: {non_german_female_pct:.2f}%\\n\")\n",
    "#\n",
    "## Calculate for each DataFrame\n",
    "#calculate_percentages(siab_calib, \"siab_calib\")\n",
    "#calculate_percentages(siab_test, \"siab_test\")\n",
    "#calculate_percentages(siab_train, \"siab_train\")"
   ]
  },
  {
   "cell_type": "markdown",
   "id": "0a4a1b33",
   "metadata": {
    "papermill": {
     "duration": 0.01056,
     "end_time": "2025-07-30T21:04:02.891471",
     "exception": false,
     "start_time": "2025-07-30T21:04:02.880911",
     "status": "completed"
    },
    "tags": []
   },
   "source": [
    "# Preprocessing Data"
   ]
  },
  {
   "cell_type": "code",
   "execution_count": 29,
   "id": "ca879031",
   "metadata": {
    "execution": {
     "iopub.execute_input": "2025-07-30T21:04:02.914550Z",
     "iopub.status.busy": "2025-07-30T21:04:02.914065Z",
     "iopub.status.idle": "2025-07-30T21:04:02.919127Z",
     "shell.execute_reply": "2025-07-30T21:04:02.918460Z"
    },
    "papermill": {
     "duration": 0.018363,
     "end_time": "2025-07-30T21:04:02.920530",
     "exception": false,
     "start_time": "2025-07-30T21:04:02.902167",
     "status": "completed"
    },
    "tags": []
   },
   "outputs": [],
   "source": [
    "# EXCLUDE PROTECTED FEATURES\n",
    "# ----------------------\n",
    "# \"exclude_features\": \"none\", # \"nationality\", \"sex\", \"nationality-sex\"\n",
    "\n",
    "excluded_features = universe[\"exclude_features\"].split(\"-\") # split, e.g.: \"nationality-sex\" -> [\"nationality\", \"sex\"]\n",
    "excluded_features_dictionary = {\n",
    "    \"nationality\": [\"maxdeutsch1\", \"maxdeutsch.Missing.\"],\n",
    "    \"sex\": [\"frau1\"],\n",
    "    \"age\": [\"age\"],\n",
    "}\n"
   ]
  },
  {
   "cell_type": "code",
   "execution_count": 30,
   "id": "b745ac60",
   "metadata": {
    "execution": {
     "iopub.execute_input": "2025-07-30T21:04:02.943514Z",
     "iopub.status.busy": "2025-07-30T21:04:02.943180Z",
     "iopub.status.idle": "2025-07-30T21:04:02.947457Z",
     "shell.execute_reply": "2025-07-30T21:04:02.946753Z"
    },
    "papermill": {
     "duration": 0.017031,
     "end_time": "2025-07-30T21:04:02.948871",
     "exception": false,
     "start_time": "2025-07-30T21:04:02.931840",
     "status": "completed"
    },
    "tags": []
   },
   "outputs": [],
   "source": [
    "# Code nice names to column names\n",
    "\n",
    "excluded_features_columns = [\n",
    "    excluded_features_dictionary[f] for f in excluded_features if len(f) > 0 and f != \"none\"\n",
    "]"
   ]
  },
  {
   "cell_type": "code",
   "execution_count": 31,
   "id": "f84f73a2",
   "metadata": {
    "execution": {
     "iopub.execute_input": "2025-07-30T21:04:02.972281Z",
     "iopub.status.busy": "2025-07-30T21:04:02.971702Z",
     "iopub.status.idle": "2025-07-30T21:04:02.976776Z",
     "shell.execute_reply": "2025-07-30T21:04:02.976041Z"
    },
    "papermill": {
     "duration": 0.017975,
     "end_time": "2025-07-30T21:04:02.978030",
     "exception": false,
     "start_time": "2025-07-30T21:04:02.960055",
     "status": "completed"
    },
    "tags": []
   },
   "outputs": [],
   "source": [
    "from utils import flatten_once\n",
    "\n",
    "excluded_features_columns = flatten_once(excluded_features_columns)"
   ]
  },
  {
   "cell_type": "code",
   "execution_count": 32,
   "id": "884dea22",
   "metadata": {
    "execution": {
     "iopub.execute_input": "2025-07-30T21:04:03.001901Z",
     "iopub.status.busy": "2025-07-30T21:04:03.001449Z",
     "iopub.status.idle": "2025-07-30T21:04:03.010771Z",
     "shell.execute_reply": "2025-07-30T21:04:03.010024Z"
    },
    "papermill": {
     "duration": 0.022867,
     "end_time": "2025-07-30T21:04:03.012258",
     "exception": false,
     "start_time": "2025-07-30T21:04:02.989391",
     "status": "completed"
    },
    "tags": []
   },
   "outputs": [
    {
     "name": "stdout",
     "output_type": "stream",
     "text": [
      "Dropping features: ['maxdeutsch1', 'maxdeutsch.Missing.']\n"
     ]
    }
   ],
   "source": [
    "if len(excluded_features_columns) > 0:\n",
    "    print(f\"Dropping features: {excluded_features_columns}\")\n",
    "    X_train.drop(excluded_features_columns, axis=1, inplace=True)"
   ]
  },
  {
   "cell_type": "code",
   "execution_count": 33,
   "id": "95ab8b16",
   "metadata": {
    "execution": {
     "iopub.execute_input": "2025-07-30T21:04:03.037242Z",
     "iopub.status.busy": "2025-07-30T21:04:03.036900Z",
     "iopub.status.idle": "2025-07-30T21:04:03.085645Z",
     "shell.execute_reply": "2025-07-30T21:04:03.084914Z"
    },
    "papermill": {
     "duration": 0.061932,
     "end_time": "2025-07-30T21:04:03.086953",
     "exception": false,
     "start_time": "2025-07-30T21:04:03.025021",
     "status": "completed"
    },
    "tags": []
   },
   "outputs": [
    {
     "name": "stdout",
     "output_type": "stream",
     "text": [
      "Dropping features: ['maxdeutsch1', 'maxdeutsch.Missing.']\n"
     ]
    }
   ],
   "source": [
    "if len(excluded_features_columns) > 0:\n",
    "    print(f\"Dropping features: {excluded_features_columns}\")\n",
    "    X_test.drop(excluded_features_columns, axis=1, inplace=True)"
   ]
  },
  {
   "cell_type": "code",
   "execution_count": 34,
   "id": "1853aaf5-fb9f-46cb-a2b5-8ea4ae2237e4",
   "metadata": {
    "execution": {
     "iopub.execute_input": "2025-07-30T21:04:03.112114Z",
     "iopub.status.busy": "2025-07-30T21:04:03.110553Z",
     "iopub.status.idle": "2025-07-30T21:04:03.166047Z",
     "shell.execute_reply": "2025-07-30T21:04:03.165001Z"
    },
    "papermill": {
     "duration": 0.068974,
     "end_time": "2025-07-30T21:04:03.167803",
     "exception": false,
     "start_time": "2025-07-30T21:04:03.098829",
     "status": "completed"
    },
    "tags": []
   },
   "outputs": [
    {
     "name": "stdout",
     "output_type": "stream",
     "text": [
      "Dropping features: ['maxdeutsch1', 'maxdeutsch.Missing.']\n"
     ]
    }
   ],
   "source": [
    "if len(excluded_features_columns) > 0:\n",
    "    print(f\"Dropping features: {excluded_features_columns}\")\n",
    "    X_calib.drop(excluded_features_columns, axis=1, inplace=True)"
   ]
  },
  {
   "cell_type": "code",
   "execution_count": 35,
   "id": "6727d079-03e5-481e-9d38-292a90b7a0a8",
   "metadata": {
    "execution": {
     "iopub.execute_input": "2025-07-30T21:04:03.217417Z",
     "iopub.status.busy": "2025-07-30T21:04:03.216715Z",
     "iopub.status.idle": "2025-07-30T21:04:03.221822Z",
     "shell.execute_reply": "2025-07-30T21:04:03.220818Z"
    },
    "papermill": {
     "duration": 0.030582,
     "end_time": "2025-07-30T21:04:03.223410",
     "exception": false,
     "start_time": "2025-07-30T21:04:03.192828",
     "status": "completed"
    },
    "tags": []
   },
   "outputs": [],
   "source": [
    "# SPLIT & STRATIFY DATA\n",
    "# ----------------------"
   ]
  },
  {
   "cell_type": "code",
   "execution_count": 36,
   "id": "76c4dc6d",
   "metadata": {
    "execution": {
     "iopub.execute_input": "2025-07-30T21:04:03.270440Z",
     "iopub.status.busy": "2025-07-30T21:04:03.269788Z",
     "iopub.status.idle": "2025-07-30T21:04:03.275459Z",
     "shell.execute_reply": "2025-07-30T21:04:03.274619Z"
    },
    "papermill": {
     "duration": 0.029428,
     "end_time": "2025-07-30T21:04:03.277030",
     "exception": false,
     "start_time": "2025-07-30T21:04:03.247602",
     "status": "completed"
    },
    "tags": []
   },
   "outputs": [],
   "source": [
    "# EXCLUDE CERTAIN SUBGROUPS\n",
    "# ----------------------\n",
    "\n",
    "mode = universe.get(\"exclude_subgroups\", \"keep-all\") \n",
    "# Fetches the exclude_subgroups setting from the universe dict.\n",
    "# Defaults to \"keep-all\" if the key is missing."
   ]
  },
  {
   "cell_type": "code",
   "execution_count": 37,
   "id": "21994072",
   "metadata": {
    "execution": {
     "iopub.execute_input": "2025-07-30T21:04:03.330626Z",
     "iopub.status.busy": "2025-07-30T21:04:03.329949Z",
     "iopub.status.idle": "2025-07-30T21:04:03.336665Z",
     "shell.execute_reply": "2025-07-30T21:04:03.335683Z"
    },
    "papermill": {
     "duration": 0.036235,
     "end_time": "2025-07-30T21:04:03.338282",
     "exception": false,
     "start_time": "2025-07-30T21:04:03.302047",
     "status": "completed"
    },
    "tags": []
   },
   "outputs": [],
   "source": [
    "if mode == \"keep-all\":\n",
    "    keep_mask = pd.Series(True, index=org_train.index)\n",
    "\n",
    "# org_train contains the original feature columns from features_org (in Simson)\n",
    "# features_org contains unprocessed features, for me X_train at beginning ???\n",
    "# For keep-all, creates a boolean Series (keep_mask) of all True, so no rows are removed.\n",
    "\n",
    "elif mode == \"drop-non-german\":\n",
    "    keep_mask = org_train[\"maxdeutsch1\"] == 1 # ??? what about missing values?\n",
    "\n",
    "else:\n",
    "    raise ValueError(f\"Unsupported mode for exclude_subgroups: {mode}\")\n"
   ]
  },
  {
   "cell_type": "code",
   "execution_count": 38,
   "id": "71651440",
   "metadata": {
    "execution": {
     "iopub.execute_input": "2025-07-30T21:04:03.377851Z",
     "iopub.status.busy": "2025-07-30T21:04:03.377197Z",
     "iopub.status.idle": "2025-07-30T21:04:03.383869Z",
     "shell.execute_reply": "2025-07-30T21:04:03.382908Z"
    },
    "papermill": {
     "duration": 0.023793,
     "end_time": "2025-07-30T21:04:03.385475",
     "exception": false,
     "start_time": "2025-07-30T21:04:03.361682",
     "status": "completed"
    },
    "tags": []
   },
   "outputs": [],
   "source": [
    "n_drop = (~keep_mask).sum() # Calculates how many rows are set to be dropped\n",
    "if n_drop > 0:\n",
    "    pct = n_drop / len(keep_mask) * 100\n",
    "    print(f\"Dropping {n_drop} rows ({pct:.2f}%) where mode='{mode}'\")"
   ]
  },
  {
   "cell_type": "code",
   "execution_count": 39,
   "id": "5fb8eee5",
   "metadata": {
    "execution": {
     "iopub.execute_input": "2025-07-30T21:04:03.430960Z",
     "iopub.status.busy": "2025-07-30T21:04:03.430310Z",
     "iopub.status.idle": "2025-07-30T21:04:03.437952Z",
     "shell.execute_reply": "2025-07-30T21:04:03.437046Z"
    },
    "papermill": {
     "duration": 0.031777,
     "end_time": "2025-07-30T21:04:03.439701",
     "exception": false,
     "start_time": "2025-07-30T21:04:03.407924",
     "status": "completed"
    },
    "tags": []
   },
   "outputs": [],
   "source": [
    "X_train = X_train[keep_mask]"
   ]
  },
  {
   "cell_type": "code",
   "execution_count": 40,
   "id": "b202bb3a",
   "metadata": {
    "execution": {
     "iopub.execute_input": "2025-07-30T21:04:03.490705Z",
     "iopub.status.busy": "2025-07-30T21:04:03.490050Z",
     "iopub.status.idle": "2025-07-30T21:04:03.496617Z",
     "shell.execute_reply": "2025-07-30T21:04:03.495645Z"
    },
    "papermill": {
     "duration": 0.033551,
     "end_time": "2025-07-30T21:04:03.498213",
     "exception": false,
     "start_time": "2025-07-30T21:04:03.464662",
     "status": "completed"
    },
    "tags": []
   },
   "outputs": [],
   "source": [
    "y_train = y_train[keep_mask]"
   ]
  },
  {
   "cell_type": "markdown",
   "id": "493e2ac3",
   "metadata": {
    "papermill": {
     "duration": 0.021322,
     "end_time": "2025-07-30T21:04:03.541847",
     "exception": false,
     "start_time": "2025-07-30T21:04:03.520525",
     "status": "completed"
    },
    "tags": []
   },
   "source": [
    "# Model Training"
   ]
  },
  {
   "cell_type": "code",
   "execution_count": 41,
   "id": "679e1268",
   "metadata": {
    "execution": {
     "iopub.execute_input": "2025-07-30T21:04:03.590463Z",
     "iopub.status.busy": "2025-07-30T21:04:03.589817Z",
     "iopub.status.idle": "2025-07-30T21:04:03.692565Z",
     "shell.execute_reply": "2025-07-30T21:04:03.691582Z"
    },
    "papermill": {
     "duration": 0.128154,
     "end_time": "2025-07-30T21:04:03.694470",
     "exception": false,
     "start_time": "2025-07-30T21:04:03.566316",
     "status": "completed"
    },
    "tags": []
   },
   "outputs": [],
   "source": [
    "from sklearn.linear_model import LogisticRegression\n",
    "from sklearn.ensemble import GradientBoostingClassifier, RandomForestClassifier\n",
    "\n",
    "if (universe[\"model\"] == \"logreg\"):\n",
    "    model = LogisticRegression() #penalty=\"none\") #, solver=\"newton-cg\", max_iter=1) # include random_state=19 ?\n",
    "elif (universe[\"model\"] == \"penalized_logreg\"):\n",
    "    model = LogisticRegression(penalty=\"l2\", C=1.0) #, solver=\"newton-cg\", max_iter=1)\n",
    "elif (universe[\"model\"] == \"rf\"):\n",
    "    model = RandomForestClassifier(n_estimators=100, n_jobs=-1)\n",
    "elif (universe[\"model\"] == \"gbm\"):\n",
    "    model = GradientBoostingClassifier()\n",
    "elif (universe[\"model\"] == \"elasticnet\"):\n",
    "    model = LogisticRegression(penalty = 'elasticnet', solver = 'saga', l1_ratio = 0.5, max_iter=5000) # which solver to use?\n",
    "else:\n",
    "    raise \"Unsupported universe.model\""
   ]
  },
  {
   "cell_type": "code",
   "execution_count": 42,
   "id": "0cc8f744",
   "metadata": {
    "execution": {
     "iopub.execute_input": "2025-07-30T21:04:03.743286Z",
     "iopub.status.busy": "2025-07-30T21:04:03.742634Z",
     "iopub.status.idle": "2025-07-30T21:04:03.749474Z",
     "shell.execute_reply": "2025-07-30T21:04:03.748669Z"
    },
    "papermill": {
     "duration": 0.033928,
     "end_time": "2025-07-30T21:04:03.750914",
     "exception": false,
     "start_time": "2025-07-30T21:04:03.716986",
     "status": "completed"
    },
    "tags": []
   },
   "outputs": [],
   "source": [
    "import numpy as np\n",
    "from sklearn.pipeline import Pipeline\n",
    "from sklearn.preprocessing import StandardScaler\n",
    "\n",
    "model = Pipeline([\n",
    "    #(\"continuous_processor\", continuous_processor),\n",
    "    #(\"categorical_preprocessor\", categorical_preprocessor),\n",
    "    (\"scale\", StandardScaler() if universe[\"scale\"] == \"scale\" else None), \n",
    "    (\"model\", model),\n",
    "])"
   ]
  },
  {
   "cell_type": "code",
   "execution_count": 43,
   "id": "9442c04d",
   "metadata": {
    "execution": {
     "iopub.execute_input": "2025-07-30T21:04:03.795255Z",
     "iopub.status.busy": "2025-07-30T21:04:03.794578Z",
     "iopub.status.idle": "2025-07-30T21:04:03.903739Z",
     "shell.execute_reply": "2025-07-30T21:04:03.902815Z"
    },
    "papermill": {
     "duration": 0.132697,
     "end_time": "2025-07-30T21:04:03.904977",
     "exception": false,
     "start_time": "2025-07-30T21:04:03.772280",
     "status": "completed"
    },
    "tags": []
   },
   "outputs": [
    {
     "name": "stderr",
     "output_type": "stream",
     "text": [
      "/dss/dsshome1/0C/ra93lal2/.local/share/virtualenvs/CMA_Fairness_v2-3j10GkSs/lib/python3.10/site-packages/sklearn/linear_model/_logistic.py:444: ConvergenceWarning: lbfgs failed to converge (status=1):\n",
      "STOP: TOTAL NO. of ITERATIONS REACHED LIMIT.\n",
      "\n",
      "Increase the number of iterations (max_iter) or scale the data as shown in:\n",
      "    https://scikit-learn.org/stable/modules/preprocessing.html\n",
      "Please also refer to the documentation for alternative solver options:\n",
      "    https://scikit-learn.org/stable/modules/linear_model.html#logistic-regression\n",
      "  n_iter_i = _check_optimize_result(\n"
     ]
    },
    {
     "data": {
      "text/html": [
       "<style>#sk-container-id-1 {color: black;background-color: white;}#sk-container-id-1 pre{padding: 0;}#sk-container-id-1 div.sk-toggleable {background-color: white;}#sk-container-id-1 label.sk-toggleable__label {cursor: pointer;display: block;width: 100%;margin-bottom: 0;padding: 0.3em;box-sizing: border-box;text-align: center;}#sk-container-id-1 label.sk-toggleable__label-arrow:before {content: \"▸\";float: left;margin-right: 0.25em;color: #696969;}#sk-container-id-1 label.sk-toggleable__label-arrow:hover:before {color: black;}#sk-container-id-1 div.sk-estimator:hover label.sk-toggleable__label-arrow:before {color: black;}#sk-container-id-1 div.sk-toggleable__content {max-height: 0;max-width: 0;overflow: hidden;text-align: left;background-color: #f0f8ff;}#sk-container-id-1 div.sk-toggleable__content pre {margin: 0.2em;color: black;border-radius: 0.25em;background-color: #f0f8ff;}#sk-container-id-1 input.sk-toggleable__control:checked~div.sk-toggleable__content {max-height: 200px;max-width: 100%;overflow: auto;}#sk-container-id-1 input.sk-toggleable__control:checked~label.sk-toggleable__label-arrow:before {content: \"▾\";}#sk-container-id-1 div.sk-estimator input.sk-toggleable__control:checked~label.sk-toggleable__label {background-color: #d4ebff;}#sk-container-id-1 div.sk-label input.sk-toggleable__control:checked~label.sk-toggleable__label {background-color: #d4ebff;}#sk-container-id-1 input.sk-hidden--visually {border: 0;clip: rect(1px 1px 1px 1px);clip: rect(1px, 1px, 1px, 1px);height: 1px;margin: -1px;overflow: hidden;padding: 0;position: absolute;width: 1px;}#sk-container-id-1 div.sk-estimator {font-family: monospace;background-color: #f0f8ff;border: 1px dotted black;border-radius: 0.25em;box-sizing: border-box;margin-bottom: 0.5em;}#sk-container-id-1 div.sk-estimator:hover {background-color: #d4ebff;}#sk-container-id-1 div.sk-parallel-item::after {content: \"\";width: 100%;border-bottom: 1px solid gray;flex-grow: 1;}#sk-container-id-1 div.sk-label:hover label.sk-toggleable__label {background-color: #d4ebff;}#sk-container-id-1 div.sk-serial::before {content: \"\";position: absolute;border-left: 1px solid gray;box-sizing: border-box;top: 0;bottom: 0;left: 50%;z-index: 0;}#sk-container-id-1 div.sk-serial {display: flex;flex-direction: column;align-items: center;background-color: white;padding-right: 0.2em;padding-left: 0.2em;position: relative;}#sk-container-id-1 div.sk-item {position: relative;z-index: 1;}#sk-container-id-1 div.sk-parallel {display: flex;align-items: stretch;justify-content: center;background-color: white;position: relative;}#sk-container-id-1 div.sk-item::before, #sk-container-id-1 div.sk-parallel-item::before {content: \"\";position: absolute;border-left: 1px solid gray;box-sizing: border-box;top: 0;bottom: 0;left: 50%;z-index: -1;}#sk-container-id-1 div.sk-parallel-item {display: flex;flex-direction: column;z-index: 1;position: relative;background-color: white;}#sk-container-id-1 div.sk-parallel-item:first-child::after {align-self: flex-end;width: 50%;}#sk-container-id-1 div.sk-parallel-item:last-child::after {align-self: flex-start;width: 50%;}#sk-container-id-1 div.sk-parallel-item:only-child::after {width: 0;}#sk-container-id-1 div.sk-dashed-wrapped {border: 1px dashed gray;margin: 0 0.4em 0.5em 0.4em;box-sizing: border-box;padding-bottom: 0.4em;background-color: white;}#sk-container-id-1 div.sk-label label {font-family: monospace;font-weight: bold;display: inline-block;line-height: 1.2em;}#sk-container-id-1 div.sk-label-container {text-align: center;}#sk-container-id-1 div.sk-container {/* jupyter's `normalize.less` sets `[hidden] { display: none; }` but bootstrap.min.css set `[hidden] { display: none !important; }` so we also need the `!important` here to be able to override the default hidden behavior on the sphinx rendered scikit-learn.org. See: https://github.com/scikit-learn/scikit-learn/issues/21755 */display: inline-block !important;position: relative;}#sk-container-id-1 div.sk-text-repr-fallback {display: none;}</style><div id=\"sk-container-id-1\" class=\"sk-top-container\"><div class=\"sk-text-repr-fallback\"><pre>Pipeline(steps=[(&#x27;scale&#x27;, None), (&#x27;model&#x27;, LogisticRegression())])</pre><b>In a Jupyter environment, please rerun this cell to show the HTML representation or trust the notebook. <br />On GitHub, the HTML representation is unable to render, please try loading this page with nbviewer.org.</b></div><div class=\"sk-container\" hidden><div class=\"sk-item sk-dashed-wrapped\"><div class=\"sk-label-container\"><div class=\"sk-label sk-toggleable\"><input class=\"sk-toggleable__control sk-hidden--visually\" id=\"sk-estimator-id-1\" type=\"checkbox\" ><label for=\"sk-estimator-id-1\" class=\"sk-toggleable__label sk-toggleable__label-arrow\">Pipeline</label><div class=\"sk-toggleable__content\"><pre>Pipeline(steps=[(&#x27;scale&#x27;, None), (&#x27;model&#x27;, LogisticRegression())])</pre></div></div></div><div class=\"sk-serial\"><div class=\"sk-item\"><div class=\"sk-estimator sk-toggleable\"><input class=\"sk-toggleable__control sk-hidden--visually\" id=\"sk-estimator-id-2\" type=\"checkbox\" ><label for=\"sk-estimator-id-2\" class=\"sk-toggleable__label sk-toggleable__label-arrow\">None</label><div class=\"sk-toggleable__content\"><pre>None</pre></div></div></div><div class=\"sk-item\"><div class=\"sk-estimator sk-toggleable\"><input class=\"sk-toggleable__control sk-hidden--visually\" id=\"sk-estimator-id-3\" type=\"checkbox\" ><label for=\"sk-estimator-id-3\" class=\"sk-toggleable__label sk-toggleable__label-arrow\">LogisticRegression</label><div class=\"sk-toggleable__content\"><pre>LogisticRegression()</pre></div></div></div></div></div></div></div>"
      ],
      "text/plain": [
       "Pipeline(steps=[('scale', None), ('model', LogisticRegression())])"
      ]
     },
     "execution_count": 43,
     "metadata": {},
     "output_type": "execute_result"
    }
   ],
   "source": [
    "model.fit(X_train, y_train.values.ravel())"
   ]
  },
  {
   "cell_type": "code",
   "execution_count": 44,
   "id": "af59f8c0",
   "metadata": {
    "execution": {
     "iopub.execute_input": "2025-07-30T21:04:03.930484Z",
     "iopub.status.busy": "2025-07-30T21:04:03.930069Z",
     "iopub.status.idle": "2025-07-30T21:04:03.935487Z",
     "shell.execute_reply": "2025-07-30T21:04:03.934703Z"
    },
    "papermill": {
     "duration": 0.019329,
     "end_time": "2025-07-30T21:04:03.936710",
     "exception": false,
     "start_time": "2025-07-30T21:04:03.917381",
     "status": "completed"
    },
    "tags": []
   },
   "outputs": [],
   "source": [
    "from fairness_multiverse.universe import predict_w_threshold"
   ]
  },
  {
   "cell_type": "code",
   "execution_count": 45,
   "id": "a7cf2e16",
   "metadata": {
    "execution": {
     "iopub.execute_input": "2025-07-30T21:04:03.961773Z",
     "iopub.status.busy": "2025-07-30T21:04:03.961426Z",
     "iopub.status.idle": "2025-07-30T21:04:04.075395Z",
     "shell.execute_reply": "2025-07-30T21:04:04.074224Z"
    },
    "papermill": {
     "duration": 0.1282,
     "end_time": "2025-07-30T21:04:04.077378",
     "exception": false,
     "start_time": "2025-07-30T21:04:03.949178",
     "status": "completed"
    },
    "tags": []
   },
   "outputs": [
    {
     "data": {
      "text/plain": [
       "0.8625013933786646"
      ]
     },
     "execution_count": 45,
     "metadata": {},
     "output_type": "execute_result"
    }
   ],
   "source": [
    "probs_test = model.predict_proba(X_test)\n",
    "\n",
    "'''\n",
    "Below code returns a boolean array (or binary 0/1 array depending on how it’s used) where each element \n",
    "is True if the probability of class 1 is greater than or equal to the threshold, and False otherwise.\n",
    "'''\n",
    "y_pred_default = predict_w_threshold(probs_test, 0.5)\n",
    "\n",
    "from sklearn.metrics import accuracy_score\n",
    "\n",
    "# Naive prediction\n",
    "accuracy_score(y_true = y_true, y_pred = y_pred_default)"
   ]
  },
  {
   "cell_type": "code",
   "execution_count": 46,
   "id": "081964c3",
   "metadata": {
    "execution": {
     "iopub.execute_input": "2025-07-30T21:04:04.131931Z",
     "iopub.status.busy": "2025-07-30T21:04:04.131464Z",
     "iopub.status.idle": "2025-07-30T21:04:04.216862Z",
     "shell.execute_reply": "2025-07-30T21:04:04.215980Z"
    },
    "papermill": {
     "duration": 0.112584,
     "end_time": "2025-07-30T21:04:04.218172",
     "exception": false,
     "start_time": "2025-07-30T21:04:04.105588",
     "status": "completed"
    },
    "tags": []
   },
   "outputs": [
    {
     "data": {
      "text/plain": [
       "array([0, 0, 0, ..., 0, 0, 0])"
      ]
     },
     "execution_count": 46,
     "metadata": {},
     "output_type": "execute_result"
    }
   ],
   "source": [
    "model.predict(X_test)"
   ]
  },
  {
   "cell_type": "markdown",
   "id": "56c9705b",
   "metadata": {
    "papermill": {
     "duration": 0.01398,
     "end_time": "2025-07-30T21:04:04.252372",
     "exception": false,
     "start_time": "2025-07-30T21:04:04.238392",
     "status": "completed"
    },
    "tags": []
   },
   "source": [
    "# Conformal Prediction"
   ]
  },
  {
   "cell_type": "code",
   "execution_count": 47,
   "id": "160ec6ff",
   "metadata": {
    "execution": {
     "iopub.execute_input": "2025-07-30T21:04:04.277228Z",
     "iopub.status.busy": "2025-07-30T21:04:04.276885Z",
     "iopub.status.idle": "2025-07-30T21:04:04.281486Z",
     "shell.execute_reply": "2025-07-30T21:04:04.280786Z"
    },
    "papermill": {
     "duration": 0.018648,
     "end_time": "2025-07-30T21:04:04.282804",
     "exception": false,
     "start_time": "2025-07-30T21:04:04.264156",
     "status": "completed"
    },
    "tags": []
   },
   "outputs": [],
   "source": [
    "# Miscoverage level for conformal prediction (10% allowed error rate => 90% target coverage)\n",
    "alpha = 0.1"
   ]
  },
  {
   "cell_type": "code",
   "execution_count": 48,
   "id": "eadf4555-3dd3-440e-8e35-f82a4ad9f855",
   "metadata": {
    "execution": {
     "iopub.execute_input": "2025-07-30T21:04:04.317668Z",
     "iopub.status.busy": "2025-07-30T21:04:04.317161Z",
     "iopub.status.idle": "2025-07-30T21:04:04.394984Z",
     "shell.execute_reply": "2025-07-30T21:04:04.393965Z"
    },
    "papermill": {
     "duration": 0.101469,
     "end_time": "2025-07-30T21:04:04.396802",
     "exception": false,
     "start_time": "2025-07-30T21:04:04.295333",
     "status": "completed"
    },
    "tags": []
   },
   "outputs": [],
   "source": [
    "probs_calib = model.predict_proba(X_calib)"
   ]
  },
  {
   "cell_type": "code",
   "execution_count": 49,
   "id": "2ed93547-6d5d-4983-9b36-1ecb300da49a",
   "metadata": {
    "execution": {
     "iopub.execute_input": "2025-07-30T21:04:04.449172Z",
     "iopub.status.busy": "2025-07-30T21:04:04.448324Z",
     "iopub.status.idle": "2025-07-30T21:04:04.454168Z",
     "shell.execute_reply": "2025-07-30T21:04:04.453228Z"
    },
    "papermill": {
     "duration": 0.033989,
     "end_time": "2025-07-30T21:04:04.455926",
     "exception": false,
     "start_time": "2025-07-30T21:04:04.421937",
     "status": "completed"
    },
    "tags": []
   },
   "outputs": [],
   "source": [
    "y_calib = y_calib.values.ravel().astype(int)"
   ]
  },
  {
   "cell_type": "code",
   "execution_count": 50,
   "id": "65d1320d-f588-4b38-9072-62af1ae97f7d",
   "metadata": {
    "execution": {
     "iopub.execute_input": "2025-07-30T21:04:04.508337Z",
     "iopub.status.busy": "2025-07-30T21:04:04.507821Z",
     "iopub.status.idle": "2025-07-30T21:04:04.515166Z",
     "shell.execute_reply": "2025-07-30T21:04:04.514217Z"
    },
    "papermill": {
     "duration": 0.034221,
     "end_time": "2025-07-30T21:04:04.516847",
     "exception": false,
     "start_time": "2025-07-30T21:04:04.482626",
     "status": "completed"
    },
    "tags": []
   },
   "outputs": [],
   "source": [
    "from fairness_multiverse.conformal import compute_nc_scores\n",
    "\n",
    "# Compute nonconformity scores on calibration set (1 - probability of true class)\n",
    "nc_scores = compute_nc_scores(probs_calib, y_calib)"
   ]
  },
  {
   "cell_type": "code",
   "execution_count": 51,
   "id": "df3b8ca3-53b7-43d5-9667-7c85da7aeda2",
   "metadata": {
    "execution": {
     "iopub.execute_input": "2025-07-30T21:04:04.568597Z",
     "iopub.status.busy": "2025-07-30T21:04:04.567636Z",
     "iopub.status.idle": "2025-07-30T21:04:04.574959Z",
     "shell.execute_reply": "2025-07-30T21:04:04.573961Z"
    },
    "papermill": {
     "duration": 0.036583,
     "end_time": "2025-07-30T21:04:04.576845",
     "exception": false,
     "start_time": "2025-07-30T21:04:04.540262",
     "status": "completed"
    },
    "tags": []
   },
   "outputs": [],
   "source": [
    "from fairness_multiverse.conformal import find_threshold\n",
    "\n",
    "# Find conformal threshold q_hat for the given alpha (split conformal method)\n",
    "q_hat = find_threshold(nc_scores, alpha)"
   ]
  },
  {
   "cell_type": "code",
   "execution_count": 52,
   "id": "4d29e6c1-0ef6-4aa4-b8fe-4fe79b0d033a",
   "metadata": {
    "execution": {
     "iopub.execute_input": "2025-07-30T21:04:04.631886Z",
     "iopub.status.busy": "2025-07-30T21:04:04.630971Z",
     "iopub.status.idle": "2025-07-30T21:04:04.638792Z",
     "shell.execute_reply": "2025-07-30T21:04:04.637740Z"
    },
    "papermill": {
     "duration": 0.035307,
     "end_time": "2025-07-30T21:04:04.640454",
     "exception": false,
     "start_time": "2025-07-30T21:04:04.605147",
     "status": "completed"
    },
    "tags": []
   },
   "outputs": [
    {
     "data": {
      "text/plain": [
       "0.6825429794000628"
      ]
     },
     "execution_count": 52,
     "metadata": {},
     "output_type": "execute_result"
    }
   ],
   "source": [
    "q_hat"
   ]
  },
  {
   "cell_type": "code",
   "execution_count": 53,
   "id": "92460794-cdac-4be2-ba28-f28c0515a6fb",
   "metadata": {
    "execution": {
     "iopub.execute_input": "2025-07-30T21:04:04.693816Z",
     "iopub.status.busy": "2025-07-30T21:04:04.693334Z",
     "iopub.status.idle": "2025-07-30T21:04:05.237547Z",
     "shell.execute_reply": "2025-07-30T21:04:05.236814Z"
    },
    "papermill": {
     "duration": 0.572905,
     "end_time": "2025-07-30T21:04:05.239020",
     "exception": false,
     "start_time": "2025-07-30T21:04:04.666115",
     "status": "completed"
    },
    "tags": []
   },
   "outputs": [],
   "source": [
    "from fairness_multiverse.conformal import predict_conformal_sets\n",
    "\n",
    "# Generate prediction sets for each test example\n",
    "pred_sets = predict_conformal_sets(model, X_test, q_hat)"
   ]
  },
  {
   "cell_type": "code",
   "execution_count": 54,
   "id": "d90c9a65-e6db-4f5d-80cd-e68fb7e46829",
   "metadata": {
    "execution": {
     "iopub.execute_input": "2025-07-30T21:04:05.265854Z",
     "iopub.status.busy": "2025-07-30T21:04:05.265485Z",
     "iopub.status.idle": "2025-07-30T21:04:05.270970Z",
     "shell.execute_reply": "2025-07-30T21:04:05.270070Z"
    },
    "papermill": {
     "duration": 0.021447,
     "end_time": "2025-07-30T21:04:05.274044",
     "exception": false,
     "start_time": "2025-07-30T21:04:05.252597",
     "status": "completed"
    },
    "tags": []
   },
   "outputs": [],
   "source": [
    "y_true = y_true.squeeze()"
   ]
  },
  {
   "cell_type": "code",
   "execution_count": 55,
   "id": "3a58a54a-1e68-46b9-927a-df01f18aebc8",
   "metadata": {
    "execution": {
     "iopub.execute_input": "2025-07-30T21:04:05.327280Z",
     "iopub.status.busy": "2025-07-30T21:04:05.326782Z",
     "iopub.status.idle": "2025-07-30T21:04:06.308511Z",
     "shell.execute_reply": "2025-07-30T21:04:06.307370Z"
    },
    "papermill": {
     "duration": 1.009696,
     "end_time": "2025-07-30T21:04:06.310506",
     "exception": false,
     "start_time": "2025-07-30T21:04:05.300810",
     "status": "completed"
    },
    "tags": []
   },
   "outputs": [],
   "source": [
    "from fairness_multiverse.conformal import evaluate_sets\n",
    "\n",
    "# Evaluate coverage and average set size on test data\n",
    "metrics = evaluate_sets(pred_sets, y_true)"
   ]
  },
  {
   "cell_type": "markdown",
   "id": "2b569c12-9aaa-4c88-98c9-bbcd0cf3ebb8",
   "metadata": {
    "papermill": {
     "duration": 0.02886,
     "end_time": "2025-07-30T21:04:06.421690",
     "exception": false,
     "start_time": "2025-07-30T21:04:06.392830",
     "status": "completed"
    },
    "tags": []
   },
   "source": [
    "# CP Metrics"
   ]
  },
  {
   "cell_type": "code",
   "execution_count": 56,
   "id": "5ce0a5cb-201f-45a0-ade5-94c7f0bd6095",
   "metadata": {
    "execution": {
     "iopub.execute_input": "2025-07-30T21:04:06.480275Z",
     "iopub.status.busy": "2025-07-30T21:04:06.479244Z",
     "iopub.status.idle": "2025-07-30T21:04:06.488554Z",
     "shell.execute_reply": "2025-07-30T21:04:06.485833Z"
    },
    "papermill": {
     "duration": 0.040583,
     "end_time": "2025-07-30T21:04:06.490487",
     "exception": false,
     "start_time": "2025-07-30T21:04:06.449904",
     "status": "completed"
    },
    "tags": []
   },
   "outputs": [
    {
     "data": {
      "text/plain": [
       "{'coverage': 0.9115594694014045, 'avg_size': 1.204168988964441}"
      ]
     },
     "execution_count": 56,
     "metadata": {},
     "output_type": "execute_result"
    }
   ],
   "source": [
    "metrics"
   ]
  },
  {
   "cell_type": "code",
   "execution_count": 57,
   "id": "9b9a838d-31c9-430b-ae14-12baee460d17",
   "metadata": {
    "execution": {
     "iopub.execute_input": "2025-07-30T21:04:06.550010Z",
     "iopub.status.busy": "2025-07-30T21:04:06.549445Z",
     "iopub.status.idle": "2025-07-30T21:04:06.557129Z",
     "shell.execute_reply": "2025-07-30T21:04:06.555999Z"
    },
    "papermill": {
     "duration": 0.040113,
     "end_time": "2025-07-30T21:04:06.559142",
     "exception": false,
     "start_time": "2025-07-30T21:04:06.519029",
     "status": "completed"
    },
    "tags": []
   },
   "outputs": [],
   "source": [
    "example_universe = universe.copy()\n",
    "universe_training_year = example_universe.get(\"training_year\")\n",
    "universe_training_size = example_universe.get(\"training_size\")\n",
    "universe_scale = example_universe.get(\"scale\")\n",
    "universe_model = example_universe.get(\"model\")\n",
    "universe_exclude_features = example_universe.get(\"exclude_features\")\n",
    "universe_exclude_subgroups = example_universe.get(\"exclude_subgroups\")"
   ]
  },
  {
   "cell_type": "code",
   "execution_count": 58,
   "id": "f4b6a8ac-9dc0-4245-8a91-5b3b5999c4f9",
   "metadata": {
    "execution": {
     "iopub.execute_input": "2025-07-30T21:04:06.614523Z",
     "iopub.status.busy": "2025-07-30T21:04:06.613662Z",
     "iopub.status.idle": "2025-07-30T21:04:06.621085Z",
     "shell.execute_reply": "2025-07-30T21:04:06.619983Z"
    },
    "papermill": {
     "duration": 0.037066,
     "end_time": "2025-07-30T21:04:06.622901",
     "exception": false,
     "start_time": "2025-07-30T21:04:06.585835",
     "status": "completed"
    },
    "tags": []
   },
   "outputs": [],
   "source": [
    "cp_metrics_dict = {\n",
    "    \"universe_id\": [universe_id],\n",
    "    \"universe_training_year\": [universe_training_year],\n",
    "    \"universe_training_size\": [universe_training_size],\n",
    "    \"universe_scale\": [universe_scale],\n",
    "    \"universe_model\": [universe_model],\n",
    "    \"universe_exclude_features\": [universe_exclude_features],\n",
    "    \"universe_exclude_subgroups\": [universe_exclude_subgroups],\n",
    "    \"q_hat\": [q_hat],\n",
    "    \"coverage\": [metrics[\"coverage\"]],\n",
    "    \"avg_size\": [metrics[\"avg_size\"]],\n",
    "}"
   ]
  },
  {
   "cell_type": "code",
   "execution_count": 59,
   "id": "908acbb1-0371-4915-85ca-3fa520d2efe2",
   "metadata": {
    "execution": {
     "iopub.execute_input": "2025-07-30T21:04:06.654508Z",
     "iopub.status.busy": "2025-07-30T21:04:06.654154Z",
     "iopub.status.idle": "2025-07-30T21:04:06.660221Z",
     "shell.execute_reply": "2025-07-30T21:04:06.659328Z"
    },
    "papermill": {
     "duration": 0.022006,
     "end_time": "2025-07-30T21:04:06.662141",
     "exception": false,
     "start_time": "2025-07-30T21:04:06.640135",
     "status": "completed"
    },
    "tags": []
   },
   "outputs": [
    {
     "data": {
      "text/plain": [
       "{'universe_id': ['c8b38b0cdac3d22fd86e3bd4a13432b8'],\n",
       " 'universe_training_year': ['2012_14'],\n",
       " 'universe_training_size': ['5k'],\n",
       " 'universe_scale': ['do-not-scale'],\n",
       " 'universe_model': ['penalized_logreg'],\n",
       " 'universe_exclude_features': ['nationality'],\n",
       " 'universe_exclude_subgroups': ['keep-all'],\n",
       " 'q_hat': [0.6825429794000628],\n",
       " 'coverage': [0.9115594694014045],\n",
       " 'avg_size': [1.204168988964441]}"
      ]
     },
     "execution_count": 59,
     "metadata": {},
     "output_type": "execute_result"
    }
   ],
   "source": [
    "cp_metrics_dict"
   ]
  },
  {
   "cell_type": "code",
   "execution_count": 60,
   "id": "33007efc-14e9-4ec6-97ac-56a455c82265",
   "metadata": {
    "execution": {
     "iopub.execute_input": "2025-07-30T21:04:06.712626Z",
     "iopub.status.busy": "2025-07-30T21:04:06.712111Z",
     "iopub.status.idle": "2025-07-30T21:04:06.717471Z",
     "shell.execute_reply": "2025-07-30T21:04:06.716684Z"
    },
    "papermill": {
     "duration": 0.02976,
     "end_time": "2025-07-30T21:04:06.718779",
     "exception": false,
     "start_time": "2025-07-30T21:04:06.689019",
     "status": "completed"
    },
    "tags": []
   },
   "outputs": [],
   "source": [
    "cp_metrics_df = pd.DataFrame(cp_metrics_dict)"
   ]
  },
  {
   "cell_type": "code",
   "execution_count": 61,
   "id": "db12611b-57b2-4910-b9d0-355adfd6e7bf",
   "metadata": {
    "execution": {
     "iopub.execute_input": "2025-07-30T21:04:06.748084Z",
     "iopub.status.busy": "2025-07-30T21:04:06.747501Z",
     "iopub.status.idle": "2025-07-30T21:04:06.762520Z",
     "shell.execute_reply": "2025-07-30T21:04:06.761729Z"
    },
    "papermill": {
     "duration": 0.030863,
     "end_time": "2025-07-30T21:04:06.763809",
     "exception": false,
     "start_time": "2025-07-30T21:04:06.732946",
     "status": "completed"
    },
    "tags": []
   },
   "outputs": [
    {
     "data": {
      "text/html": [
       "<div>\n",
       "<style scoped>\n",
       "    .dataframe tbody tr th:only-of-type {\n",
       "        vertical-align: middle;\n",
       "    }\n",
       "\n",
       "    .dataframe tbody tr th {\n",
       "        vertical-align: top;\n",
       "    }\n",
       "\n",
       "    .dataframe thead th {\n",
       "        text-align: right;\n",
       "    }\n",
       "</style>\n",
       "<table border=\"1\" class=\"dataframe\">\n",
       "  <thead>\n",
       "    <tr style=\"text-align: right;\">\n",
       "      <th></th>\n",
       "      <th>universe_id</th>\n",
       "      <th>universe_training_year</th>\n",
       "      <th>universe_training_size</th>\n",
       "      <th>universe_scale</th>\n",
       "      <th>universe_model</th>\n",
       "      <th>universe_exclude_features</th>\n",
       "      <th>universe_exclude_subgroups</th>\n",
       "      <th>q_hat</th>\n",
       "      <th>coverage</th>\n",
       "      <th>avg_size</th>\n",
       "    </tr>\n",
       "  </thead>\n",
       "  <tbody>\n",
       "    <tr>\n",
       "      <th>0</th>\n",
       "      <td>c8b38b0cdac3d22fd86e3bd4a13432b8</td>\n",
       "      <td>2012_14</td>\n",
       "      <td>5k</td>\n",
       "      <td>do-not-scale</td>\n",
       "      <td>penalized_logreg</td>\n",
       "      <td>nationality</td>\n",
       "      <td>keep-all</td>\n",
       "      <td>0.682543</td>\n",
       "      <td>0.911559</td>\n",
       "      <td>1.204169</td>\n",
       "    </tr>\n",
       "  </tbody>\n",
       "</table>\n",
       "</div>"
      ],
      "text/plain": [
       "                        universe_id universe_training_year  \\\n",
       "0  c8b38b0cdac3d22fd86e3bd4a13432b8                2012_14   \n",
       "\n",
       "  universe_training_size universe_scale    universe_model  \\\n",
       "0                     5k   do-not-scale  penalized_logreg   \n",
       "\n",
       "  universe_exclude_features universe_exclude_subgroups     q_hat  coverage  \\\n",
       "0               nationality                   keep-all  0.682543  0.911559   \n",
       "\n",
       "   avg_size  \n",
       "0  1.204169  "
      ]
     },
     "execution_count": 61,
     "metadata": {},
     "output_type": "execute_result"
    }
   ],
   "source": [
    "cp_metrics_df"
   ]
  },
  {
   "cell_type": "code",
   "execution_count": 62,
   "id": "b7fbde55-a0a1-47e4-9af6-fe4a17fa8c61",
   "metadata": {
    "execution": {
     "iopub.execute_input": "2025-07-30T21:04:06.816573Z",
     "iopub.status.busy": "2025-07-30T21:04:06.815525Z",
     "iopub.status.idle": "2025-07-30T21:04:06.821591Z",
     "shell.execute_reply": "2025-07-30T21:04:06.820433Z"
    },
    "papermill": {
     "duration": 0.043557,
     "end_time": "2025-07-30T21:04:06.823935",
     "exception": false,
     "start_time": "2025-07-30T21:04:06.780378",
     "status": "completed"
    },
    "tags": []
   },
   "outputs": [],
   "source": [
    "# Conditional Coverage & looking at subgroups"
   ]
  },
  {
   "cell_type": "code",
   "execution_count": 63,
   "id": "027ae886-68dd-4141-96c7-805a5450e1ef",
   "metadata": {
    "execution": {
     "iopub.execute_input": "2025-07-30T21:04:06.884154Z",
     "iopub.status.busy": "2025-07-30T21:04:06.883188Z",
     "iopub.status.idle": "2025-07-30T21:04:07.181309Z",
     "shell.execute_reply": "2025-07-30T21:04:07.180013Z"
    },
    "papermill": {
     "duration": 0.326972,
     "end_time": "2025-07-30T21:04:07.183742",
     "exception": false,
     "start_time": "2025-07-30T21:04:06.856770",
     "status": "completed"
    },
    "tags": []
   },
   "outputs": [],
   "source": [
    "from fairness_multiverse.conformal import build_cp_groups\n",
    "\n",
    "cp_groups_df = build_cp_groups(pred_sets, y_true, X_test.index, org_test)\n",
    "#needs universe_id and setting"
   ]
  },
  {
   "cell_type": "code",
   "execution_count": 64,
   "id": "01d5802c-663a-4d1f-9d69-e036faaffbf7",
   "metadata": {
    "execution": {
     "iopub.execute_input": "2025-07-30T21:04:07.262867Z",
     "iopub.status.busy": "2025-07-30T21:04:07.261793Z",
     "iopub.status.idle": "2025-07-30T21:04:07.267804Z",
     "shell.execute_reply": "2025-07-30T21:04:07.266556Z"
    },
    "papermill": {
     "duration": 0.047501,
     "end_time": "2025-07-30T21:04:07.270273",
     "exception": false,
     "start_time": "2025-07-30T21:04:07.222772",
     "status": "completed"
    },
    "tags": []
   },
   "outputs": [],
   "source": [
    "#delete\n",
    "#cp_groups_df"
   ]
  },
  {
   "cell_type": "code",
   "execution_count": 65,
   "id": "fa424af1-d1eb-443d-b717-2d279ada8408",
   "metadata": {
    "execution": {
     "iopub.execute_input": "2025-07-30T21:04:07.346582Z",
     "iopub.status.busy": "2025-07-30T21:04:07.346088Z",
     "iopub.status.idle": "2025-07-30T21:04:07.350918Z",
     "shell.execute_reply": "2025-07-30T21:04:07.350106Z"
    },
    "papermill": {
     "duration": 0.043918,
     "end_time": "2025-07-30T21:04:07.352920",
     "exception": false,
     "start_time": "2025-07-30T21:04:07.309002",
     "status": "completed"
    },
    "tags": []
   },
   "outputs": [],
   "source": [
    "#delete\n",
    "#percentage = (cp_groups_df['nongerman_female'] == 1).mean() * 100\n",
    "#print(percentage)\n"
   ]
  },
  {
   "cell_type": "code",
   "execution_count": 66,
   "id": "6cbdab96-b2b2-45af-ad54-d0516db2e28d",
   "metadata": {
    "execution": {
     "iopub.execute_input": "2025-07-30T21:04:07.416044Z",
     "iopub.status.busy": "2025-07-30T21:04:07.415494Z",
     "iopub.status.idle": "2025-07-30T21:04:09.007085Z",
     "shell.execute_reply": "2025-07-30T21:04:09.006219Z"
    },
    "papermill": {
     "duration": 1.625333,
     "end_time": "2025-07-30T21:04:09.008889",
     "exception": false,
     "start_time": "2025-07-30T21:04:07.383556",
     "status": "completed"
    },
    "tags": []
   },
   "outputs": [],
   "source": [
    "# Define covered = 1 if true_label is in the predicted set\n",
    "cp_groups_df['covered'] = cp_groups_df.apply(\n",
    "    lambda r: int(r['true_label'] in r['pred_set']),\n",
    "    axis=1\n",
    ")"
   ]
  },
  {
   "cell_type": "code",
   "execution_count": 67,
   "id": "338ff529-1a6b-4b87-a931-8e4788d52aad",
   "metadata": {
    "execution": {
     "iopub.execute_input": "2025-07-30T21:04:09.062365Z",
     "iopub.status.busy": "2025-07-30T21:04:09.061734Z",
     "iopub.status.idle": "2025-07-30T21:04:09.068481Z",
     "shell.execute_reply": "2025-07-30T21:04:09.067370Z"
    },
    "papermill": {
     "duration": 0.035315,
     "end_time": "2025-07-30T21:04:09.070159",
     "exception": false,
     "start_time": "2025-07-30T21:04:09.034844",
     "status": "completed"
    },
    "tags": []
   },
   "outputs": [],
   "source": [
    "#cp_groups_df"
   ]
  },
  {
   "cell_type": "code",
   "execution_count": 68,
   "id": "90032e27-66df-4540-9169-4e89cfbaa758",
   "metadata": {
    "execution": {
     "iopub.execute_input": "2025-07-30T21:04:09.124431Z",
     "iopub.status.busy": "2025-07-30T21:04:09.123473Z",
     "iopub.status.idle": "2025-07-30T21:04:09.135027Z",
     "shell.execute_reply": "2025-07-30T21:04:09.133969Z"
    },
    "papermill": {
     "duration": 0.041032,
     "end_time": "2025-07-30T21:04:09.137364",
     "exception": false,
     "start_time": "2025-07-30T21:04:09.096332",
     "status": "completed"
    },
    "tags": []
   },
   "outputs": [],
   "source": [
    "subgroups = ['frau1','nongerman','nongerman_male','nongerman_female']\n",
    "\n",
    "# Conditional coverage for subgroup==1\n",
    "cond_coverage = {\n",
    "    g: cp_groups_df.loc[cp_groups_df[g]==1, 'covered'].mean()\n",
    "    for g in subgroups\n",
    "}"
   ]
  },
  {
   "cell_type": "code",
   "execution_count": 69,
   "id": "1e348fb1-b9c3-45bc-ba23-f016827a7e0d",
   "metadata": {
    "execution": {
     "iopub.execute_input": "2025-07-30T21:04:09.211354Z",
     "iopub.status.busy": "2025-07-30T21:04:09.210685Z",
     "iopub.status.idle": "2025-07-30T21:04:09.218159Z",
     "shell.execute_reply": "2025-07-30T21:04:09.217137Z"
    },
    "papermill": {
     "duration": 0.046817,
     "end_time": "2025-07-30T21:04:09.220415",
     "exception": false,
     "start_time": "2025-07-30T21:04:09.173598",
     "status": "completed"
    },
    "tags": []
   },
   "outputs": [
    {
     "data": {
      "text/plain": [
       "{'frau1': 0.9081547378352878,\n",
       " 'nongerman': 0.9314545556615955,\n",
       " 'nongerman_male': 0.9443393677384491,\n",
       " 'nongerman_female': 0.9101341281669151}"
      ]
     },
     "execution_count": 69,
     "metadata": {},
     "output_type": "execute_result"
    }
   ],
   "source": [
    "cond_coverage"
   ]
  },
  {
   "cell_type": "code",
   "execution_count": 70,
   "id": "f5093324-c3dd-4d63-bc4c-8d945e5c8bbb",
   "metadata": {
    "execution": {
     "iopub.execute_input": "2025-07-30T21:04:09.290555Z",
     "iopub.status.busy": "2025-07-30T21:04:09.289668Z",
     "iopub.status.idle": "2025-07-30T21:04:09.296981Z",
     "shell.execute_reply": "2025-07-30T21:04:09.295991Z"
    },
    "papermill": {
     "duration": 0.041053,
     "end_time": "2025-07-30T21:04:09.298588",
     "exception": false,
     "start_time": "2025-07-30T21:04:09.257535",
     "status": "completed"
    },
    "tags": []
   },
   "outputs": [],
   "source": [
    "for subgroup, cov in cond_coverage.items():\n",
    "    cp_metrics_df[f\"cov_{subgroup}\"] = cov"
   ]
  },
  {
   "cell_type": "code",
   "execution_count": 71,
   "id": "6e872e10-dbe5-49e8-b554-5030c98ff75d",
   "metadata": {
    "execution": {
     "iopub.execute_input": "2025-07-30T21:04:09.353721Z",
     "iopub.status.busy": "2025-07-30T21:04:09.353231Z",
     "iopub.status.idle": "2025-07-30T21:04:09.372837Z",
     "shell.execute_reply": "2025-07-30T21:04:09.371953Z"
    },
    "papermill": {
     "duration": 0.058418,
     "end_time": "2025-07-30T21:04:09.382597",
     "exception": false,
     "start_time": "2025-07-30T21:04:09.324179",
     "status": "completed"
    },
    "tags": []
   },
   "outputs": [
    {
     "data": {
      "text/html": [
       "<div>\n",
       "<style scoped>\n",
       "    .dataframe tbody tr th:only-of-type {\n",
       "        vertical-align: middle;\n",
       "    }\n",
       "\n",
       "    .dataframe tbody tr th {\n",
       "        vertical-align: top;\n",
       "    }\n",
       "\n",
       "    .dataframe thead th {\n",
       "        text-align: right;\n",
       "    }\n",
       "</style>\n",
       "<table border=\"1\" class=\"dataframe\">\n",
       "  <thead>\n",
       "    <tr style=\"text-align: right;\">\n",
       "      <th></th>\n",
       "      <th>universe_id</th>\n",
       "      <th>universe_training_year</th>\n",
       "      <th>universe_training_size</th>\n",
       "      <th>universe_scale</th>\n",
       "      <th>universe_model</th>\n",
       "      <th>universe_exclude_features</th>\n",
       "      <th>universe_exclude_subgroups</th>\n",
       "      <th>q_hat</th>\n",
       "      <th>coverage</th>\n",
       "      <th>avg_size</th>\n",
       "      <th>cov_frau1</th>\n",
       "      <th>cov_nongerman</th>\n",
       "      <th>cov_nongerman_male</th>\n",
       "      <th>cov_nongerman_female</th>\n",
       "    </tr>\n",
       "  </thead>\n",
       "  <tbody>\n",
       "    <tr>\n",
       "      <th>0</th>\n",
       "      <td>c8b38b0cdac3d22fd86e3bd4a13432b8</td>\n",
       "      <td>2012_14</td>\n",
       "      <td>5k</td>\n",
       "      <td>do-not-scale</td>\n",
       "      <td>penalized_logreg</td>\n",
       "      <td>nationality</td>\n",
       "      <td>keep-all</td>\n",
       "      <td>0.682543</td>\n",
       "      <td>0.911559</td>\n",
       "      <td>1.204169</td>\n",
       "      <td>0.908155</td>\n",
       "      <td>0.931455</td>\n",
       "      <td>0.944339</td>\n",
       "      <td>0.910134</td>\n",
       "    </tr>\n",
       "  </tbody>\n",
       "</table>\n",
       "</div>"
      ],
      "text/plain": [
       "                        universe_id universe_training_year  \\\n",
       "0  c8b38b0cdac3d22fd86e3bd4a13432b8                2012_14   \n",
       "\n",
       "  universe_training_size universe_scale    universe_model  \\\n",
       "0                     5k   do-not-scale  penalized_logreg   \n",
       "\n",
       "  universe_exclude_features universe_exclude_subgroups     q_hat  coverage  \\\n",
       "0               nationality                   keep-all  0.682543  0.911559   \n",
       "\n",
       "   avg_size  cov_frau1  cov_nongerman  cov_nongerman_male  \\\n",
       "0  1.204169   0.908155       0.931455            0.944339   \n",
       "\n",
       "   cov_nongerman_female  \n",
       "0              0.910134  "
      ]
     },
     "execution_count": 71,
     "metadata": {},
     "output_type": "execute_result"
    }
   ],
   "source": [
    "cp_metrics_df"
   ]
  },
  {
   "cell_type": "markdown",
   "id": "33774451",
   "metadata": {
    "papermill": {
     "duration": 0.018551,
     "end_time": "2025-07-30T21:04:09.435939",
     "exception": false,
     "start_time": "2025-07-30T21:04:09.417388",
     "status": "completed"
    },
    "tags": []
   },
   "source": [
    "# (Fairness) Metrics"
   ]
  },
  {
   "cell_type": "code",
   "execution_count": 72,
   "id": "debc5d62",
   "metadata": {
    "execution": {
     "iopub.execute_input": "2025-07-30T21:04:09.466503Z",
     "iopub.status.busy": "2025-07-30T21:04:09.466155Z",
     "iopub.status.idle": "2025-07-30T21:04:09.486601Z",
     "shell.execute_reply": "2025-07-30T21:04:09.485515Z"
    },
    "papermill": {
     "duration": 0.039313,
     "end_time": "2025-07-30T21:04:09.489871",
     "exception": false,
     "start_time": "2025-07-30T21:04:09.450558",
     "status": "completed"
    },
    "tags": []
   },
   "outputs": [],
   "source": [
    "# do I need to include maxdeutsch1.missing?\n",
    "\n",
    "import numpy as np\n",
    "\n",
    "colname_to_bin = \"maxdeutsch1\"\n",
    "majority_value = org_train[colname_to_bin].mode()[0]\n",
    "\n",
    "org_test[\"majmin\"] = np.where(org_test[colname_to_bin] == majority_value, \"majority\", \"minority\")"
   ]
  },
  {
   "cell_type": "code",
   "execution_count": 73,
   "id": "06a50de5",
   "metadata": {
    "execution": {
     "iopub.execute_input": "2025-07-30T21:04:09.558109Z",
     "iopub.status.busy": "2025-07-30T21:04:09.557636Z",
     "iopub.status.idle": "2025-07-30T21:04:11.829172Z",
     "shell.execute_reply": "2025-07-30T21:04:11.828436Z"
    },
    "papermill": {
     "duration": 2.303777,
     "end_time": "2025-07-30T21:04:11.830833",
     "exception": false,
     "start_time": "2025-07-30T21:04:09.527056",
     "status": "completed"
    },
    "tags": []
   },
   "outputs": [],
   "source": [
    "example_universe = universe.copy()\n",
    "example_universe[\"cutoff\"] = example_universe[\"cutoff\"][0]\n",
    "example_universe[\"eval_fairness_grouping\"] = example_universe[\"eval_fairness_grouping\"][0]\n",
    "fairness_dict, metric_frame = universe_analysis.compute_metrics(\n",
    "    example_universe,\n",
    "    y_pred_prob=probs_test,\n",
    "    y_test=y_true,\n",
    "    org_test=org_test,\n",
    ")"
   ]
  },
  {
   "cell_type": "markdown",
   "id": "f95d4e02",
   "metadata": {
    "papermill": {
     "duration": 0.013104,
     "end_time": "2025-07-30T21:04:11.880838",
     "exception": false,
     "start_time": "2025-07-30T21:04:11.867734",
     "status": "completed"
    },
    "tags": []
   },
   "source": [
    "# Overall"
   ]
  },
  {
   "cell_type": "markdown",
   "id": "bdee4871",
   "metadata": {
    "papermill": {
     "duration": 0.013347,
     "end_time": "2025-07-30T21:04:11.911425",
     "exception": false,
     "start_time": "2025-07-30T21:04:11.898078",
     "status": "completed"
    },
    "tags": []
   },
   "source": [
    "Fairness\n",
    "Main fairness target: Equalized Odds. Seems to be a better fit than equal opportunity, since we're not only interested in Y = 1. Seems to be a better fit than demographic parity, since we also care about accuracy, not just equal distribution of preds.\n",
    "\n",
    "Pick column for computation of fairness metrics\n",
    "\n",
    "Performance\n",
    "Overall performance measures, most interesting in relation to the measures split by group below"
   ]
  },
  {
   "cell_type": "code",
   "execution_count": 74,
   "id": "c4e067c6",
   "metadata": {
    "execution": {
     "iopub.execute_input": "2025-07-30T21:04:11.955628Z",
     "iopub.status.busy": "2025-07-30T21:04:11.955170Z",
     "iopub.status.idle": "2025-07-30T21:04:11.963878Z",
     "shell.execute_reply": "2025-07-30T21:04:11.962878Z"
    },
    "papermill": {
     "duration": 0.039889,
     "end_time": "2025-07-30T21:04:11.965550",
     "exception": false,
     "start_time": "2025-07-30T21:04:11.925661",
     "status": "completed"
    },
    "tags": []
   },
   "outputs": [
    {
     "data": {
      "text/plain": [
       "accuracy                   0.218649\n",
       "balanced accuracy          0.535826\n",
       "f1                         0.240138\n",
       "precision                  0.137183\n",
       "false positive rate        0.890808\n",
       "false negative rate        0.037539\n",
       "selection rate             0.900000\n",
       "count                  89710.000000\n",
       "dtype: float64"
      ]
     },
     "execution_count": 74,
     "metadata": {},
     "output_type": "execute_result"
    }
   ],
   "source": [
    "metric_frame.overall"
   ]
  },
  {
   "cell_type": "markdown",
   "id": "e968fe9d",
   "metadata": {
    "papermill": {
     "duration": 0.016636,
     "end_time": "2025-07-30T21:04:12.005170",
     "exception": false,
     "start_time": "2025-07-30T21:04:11.988534",
     "status": "completed"
    },
    "tags": []
   },
   "source": [
    "By Group"
   ]
  },
  {
   "cell_type": "code",
   "execution_count": 75,
   "id": "ec325bce",
   "metadata": {
    "execution": {
     "iopub.execute_input": "2025-07-30T21:04:12.036660Z",
     "iopub.status.busy": "2025-07-30T21:04:12.036270Z",
     "iopub.status.idle": "2025-07-30T21:04:12.049173Z",
     "shell.execute_reply": "2025-07-30T21:04:12.048167Z"
    },
    "papermill": {
     "duration": 0.029285,
     "end_time": "2025-07-30T21:04:12.050508",
     "exception": false,
     "start_time": "2025-07-30T21:04:12.021223",
     "status": "completed"
    },
    "tags": []
   },
   "outputs": [
    {
     "data": {
      "text/html": [
       "<div>\n",
       "<style scoped>\n",
       "    .dataframe tbody tr th:only-of-type {\n",
       "        vertical-align: middle;\n",
       "    }\n",
       "\n",
       "    .dataframe tbody tr th {\n",
       "        vertical-align: top;\n",
       "    }\n",
       "\n",
       "    .dataframe thead th {\n",
       "        text-align: right;\n",
       "    }\n",
       "</style>\n",
       "<table border=\"1\" class=\"dataframe\">\n",
       "  <thead>\n",
       "    <tr style=\"text-align: right;\">\n",
       "      <th></th>\n",
       "      <th>accuracy</th>\n",
       "      <th>balanced accuracy</th>\n",
       "      <th>f1</th>\n",
       "      <th>precision</th>\n",
       "      <th>false positive rate</th>\n",
       "      <th>false negative rate</th>\n",
       "      <th>selection rate</th>\n",
       "      <th>count</th>\n",
       "    </tr>\n",
       "    <tr>\n",
       "      <th>majmin</th>\n",
       "      <th></th>\n",
       "      <th></th>\n",
       "      <th></th>\n",
       "      <th></th>\n",
       "      <th></th>\n",
       "      <th></th>\n",
       "      <th></th>\n",
       "      <th></th>\n",
       "    </tr>\n",
       "  </thead>\n",
       "  <tbody>\n",
       "    <tr>\n",
       "      <th>majority</th>\n",
       "      <td>0.24035</td>\n",
       "      <td>0.544072</td>\n",
       "      <td>0.249754</td>\n",
       "      <td>0.143620</td>\n",
       "      <td>0.868749</td>\n",
       "      <td>0.043107</td>\n",
       "      <td>0.880396</td>\n",
       "      <td>69170.0</td>\n",
       "    </tr>\n",
       "    <tr>\n",
       "      <th>minority</th>\n",
       "      <td>0.14557</td>\n",
       "      <td>0.510136</td>\n",
       "      <td>0.209815</td>\n",
       "      <td>0.117428</td>\n",
       "      <td>0.963680</td>\n",
       "      <td>0.016047</td>\n",
       "      <td>0.966018</td>\n",
       "      <td>20540.0</td>\n",
       "    </tr>\n",
       "  </tbody>\n",
       "</table>\n",
       "</div>"
      ],
      "text/plain": [
       "          accuracy  balanced accuracy        f1  precision  \\\n",
       "majmin                                                       \n",
       "majority   0.24035           0.544072  0.249754   0.143620   \n",
       "minority   0.14557           0.510136  0.209815   0.117428   \n",
       "\n",
       "          false positive rate  false negative rate  selection rate    count  \n",
       "majmin                                                                       \n",
       "majority             0.868749             0.043107        0.880396  69170.0  \n",
       "minority             0.963680             0.016047        0.966018  20540.0  "
      ]
     },
     "execution_count": 75,
     "metadata": {},
     "output_type": "execute_result"
    }
   ],
   "source": [
    "metric_frame.by_group"
   ]
  },
  {
   "cell_type": "code",
   "execution_count": 76,
   "id": "a9ddbe63",
   "metadata": {
    "execution": {
     "iopub.execute_input": "2025-07-30T21:04:12.103130Z",
     "iopub.status.busy": "2025-07-30T21:04:12.102697Z",
     "iopub.status.idle": "2025-07-30T21:04:14.472434Z",
     "shell.execute_reply": "2025-07-30T21:04:14.471417Z"
    },
    "papermill": {
     "duration": 2.401769,
     "end_time": "2025-07-30T21:04:14.474118",
     "exception": false,
     "start_time": "2025-07-30T21:04:12.072349",
     "status": "completed"
    },
    "tags": []
   },
   "outputs": [
    {
     "data": {
      "text/plain": [
       "array([[<Axes: title={'center': 'accuracy'}, xlabel='majmin'>,\n",
       "        <Axes: title={'center': 'balanced accuracy'}, xlabel='majmin'>,\n",
       "        <Axes: title={'center': 'f1'}, xlabel='majmin'>],\n",
       "       [<Axes: title={'center': 'precision'}, xlabel='majmin'>,\n",
       "        <Axes: title={'center': 'false positive rate'}, xlabel='majmin'>,\n",
       "        <Axes: title={'center': 'false negative rate'}, xlabel='majmin'>],\n",
       "       [<Axes: title={'center': 'selection rate'}, xlabel='majmin'>,\n",
       "        <Axes: title={'center': 'count'}, xlabel='majmin'>,\n",
       "        <Axes: xlabel='majmin'>]], dtype=object)"
      ]
     },
     "execution_count": 76,
     "metadata": {},
     "output_type": "execute_result"
    },
    {
     "data": {
      "image/png": "[encoded data removed]",
      "text/plain": [
       "<Figure size 1200x800 with 9 Axes>"
      ]
     },
     "metadata": {},
     "output_type": "display_data"
    }
   ],
   "source": [
    "# In a graphic\n",
    "metric_frame.by_group.plot.bar(\n",
    "    subplots=True,\n",
    "    layout=[3, 3],\n",
    "    legend=False,\n",
    "    figsize=[12, 8],\n",
    "    title=\"Show all metrics\",\n",
    ")"
   ]
  },
  {
   "cell_type": "markdown",
   "id": "f57a0bac",
   "metadata": {
    "papermill": {
     "duration": 0.031179,
     "end_time": "2025-07-30T21:04:14.533420",
     "exception": false,
     "start_time": "2025-07-30T21:04:14.502241",
     "status": "completed"
    },
    "tags": []
   },
   "source": [
    "# Final Output"
   ]
  },
  {
   "cell_type": "code",
   "execution_count": 77,
   "id": "96d280a3",
   "metadata": {
    "execution": {
     "iopub.execute_input": "2025-07-30T21:04:14.593582Z",
     "iopub.status.busy": "2025-07-30T21:04:14.592871Z",
     "iopub.status.idle": "2025-07-30T21:04:14.601265Z",
     "shell.execute_reply": "2025-07-30T21:04:14.600348Z"
    },
    "papermill": {
     "duration": 0.042389,
     "end_time": "2025-07-30T21:04:14.602893",
     "exception": false,
     "start_time": "2025-07-30T21:04:14.560504",
     "status": "completed"
    },
    "tags": []
   },
   "outputs": [
    {
     "data": {
      "text/plain": [
       "4"
      ]
     },
     "execution_count": 77,
     "metadata": {},
     "output_type": "execute_result"
    }
   ],
   "source": [
    "sub_universes = universe_analysis.generate_sub_universes()\n",
    "len(sub_universes)"
   ]
  },
  {
   "cell_type": "code",
   "execution_count": 78,
   "id": "92adf7ba",
   "metadata": {
    "execution": {
     "iopub.execute_input": "2025-07-30T21:04:14.662766Z",
     "iopub.status.busy": "2025-07-30T21:04:14.662300Z",
     "iopub.status.idle": "2025-07-30T21:04:14.668853Z",
     "shell.execute_reply": "2025-07-30T21:04:14.667880Z"
    },
    "papermill": {
     "duration": 0.041325,
     "end_time": "2025-07-30T21:04:14.670973",
     "exception": false,
     "start_time": "2025-07-30T21:04:14.629648",
     "status": "completed"
    },
    "tags": []
   },
   "outputs": [],
   "source": [
    "def filter_sub_universe_data(sub_universe, org_test):\n",
    "    # Keep all rows — no filtering\n",
    "    keep_rows_mask = np.ones(org_test.shape[0], dtype=bool)\n",
    "\n",
    "    print(f\"[INFO] Keeping all rows: {keep_rows_mask.sum()} rows retained.\")\n",
    "    return keep_rows_mask"
   ]
  },
  {
   "cell_type": "code",
   "execution_count": 79,
   "id": "4a759155",
   "metadata": {
    "execution": {
     "iopub.execute_input": "2025-07-30T21:04:14.725480Z",
     "iopub.status.busy": "2025-07-30T21:04:14.725024Z",
     "iopub.status.idle": "2025-07-30T21:04:23.943646Z",
     "shell.execute_reply": "2025-07-30T21:04:23.942738Z"
    },
    "papermill": {
     "duration": 9.252571,
     "end_time": "2025-07-30T21:04:23.945341",
     "exception": false,
     "start_time": "2025-07-30T21:04:14.692770",
     "status": "completed"
    },
    "tags": []
   },
   "outputs": [
    {
     "name": "stdout",
     "output_type": "stream",
     "text": [
      "Stopping execution_time clock.\n",
      "[INFO] Keeping all rows: 89710 rows retained.\n"
     ]
    },
    {
     "name": "stdout",
     "output_type": "stream",
     "text": [
      "[INFO] Keeping all rows: 89710 rows retained.\n"
     ]
    },
    {
     "name": "stdout",
     "output_type": "stream",
     "text": [
      "[INFO] Keeping all rows: 89710 rows retained.\n"
     ]
    },
    {
     "name": "stdout",
     "output_type": "stream",
     "text": [
      "[INFO] Keeping all rows: 89710 rows retained.\n"
     ]
    },
    {
     "data": {
      "text/html": [
       "<div>\n",
       "<style scoped>\n",
       "    .dataframe tbody tr th:only-of-type {\n",
       "        vertical-align: middle;\n",
       "    }\n",
       "\n",
       "    .dataframe tbody tr th {\n",
       "        vertical-align: top;\n",
       "    }\n",
       "\n",
       "    .dataframe thead th {\n",
       "        text-align: right;\n",
       "    }\n",
       "</style>\n",
       "<table border=\"1\" class=\"dataframe\">\n",
       "  <thead>\n",
       "    <tr style=\"text-align: right;\">\n",
       "      <th></th>\n",
       "      <th>run_no</th>\n",
       "      <th>universe_id</th>\n",
       "      <th>universe_settings</th>\n",
       "      <th>execution_time</th>\n",
       "      <th>test_size_n</th>\n",
       "      <th>test_size_frac</th>\n",
       "      <th>fair_main_equalized_odds_difference</th>\n",
       "      <th>fair_main_equalized_odds_ratio</th>\n",
       "      <th>fair_main_demographic_parity_difference</th>\n",
       "      <th>fair_main_demographic_parity_ratio</th>\n",
       "      <th>...</th>\n",
       "      <th>perf_grp_precision_0</th>\n",
       "      <th>perf_grp_precision_1</th>\n",
       "      <th>perf_grp_false positive rate_0</th>\n",
       "      <th>perf_grp_false positive rate_1</th>\n",
       "      <th>perf_grp_false negative rate_0</th>\n",
       "      <th>perf_grp_false negative rate_1</th>\n",
       "      <th>perf_grp_selection rate_0</th>\n",
       "      <th>perf_grp_selection rate_1</th>\n",
       "      <th>perf_grp_count_0</th>\n",
       "      <th>perf_grp_count_1</th>\n",
       "    </tr>\n",
       "  </thead>\n",
       "  <tbody>\n",
       "    <tr>\n",
       "      <th>0</th>\n",
       "      <td>14</td>\n",
       "      <td>c8b38b0cdac3d22fd86e3bd4a13432b8</td>\n",
       "      <td>{\"cutoff\": \"quantile_0.1\", \"eval_fairness_grou...</td>\n",
       "      <td>26.679241</td>\n",
       "      <td>89710</td>\n",
       "      <td>1.0</td>\n",
       "      <td>0.094931</td>\n",
       "      <td>0.901491</td>\n",
       "      <td>0.085621</td>\n",
       "      <td>0.911367</td>\n",
       "      <td>...</td>\n",
       "      <td>NaN</td>\n",
       "      <td>NaN</td>\n",
       "      <td>NaN</td>\n",
       "      <td>NaN</td>\n",
       "      <td>NaN</td>\n",
       "      <td>NaN</td>\n",
       "      <td>NaN</td>\n",
       "      <td>NaN</td>\n",
       "      <td>NaN</td>\n",
       "      <td>NaN</td>\n",
       "    </tr>\n",
       "    <tr>\n",
       "      <th>0</th>\n",
       "      <td>14</td>\n",
       "      <td>c8b38b0cdac3d22fd86e3bd4a13432b8</td>\n",
       "      <td>{\"cutoff\": \"quantile_0.1\", \"eval_fairness_grou...</td>\n",
       "      <td>26.679241</td>\n",
       "      <td>89710</td>\n",
       "      <td>1.0</td>\n",
       "      <td>0.094931</td>\n",
       "      <td>0.901491</td>\n",
       "      <td>0.085621</td>\n",
       "      <td>0.911367</td>\n",
       "      <td>...</td>\n",
       "      <td>0.117428</td>\n",
       "      <td>0.143620</td>\n",
       "      <td>0.963680</td>\n",
       "      <td>0.868749</td>\n",
       "      <td>0.016047</td>\n",
       "      <td>0.043107</td>\n",
       "      <td>0.966018</td>\n",
       "      <td>0.880396</td>\n",
       "      <td>20540.0</td>\n",
       "      <td>69170.0</td>\n",
       "    </tr>\n",
       "    <tr>\n",
       "      <th>0</th>\n",
       "      <td>14</td>\n",
       "      <td>c8b38b0cdac3d22fd86e3bd4a13432b8</td>\n",
       "      <td>{\"cutoff\": \"quantile_0.25\", \"eval_fairness_gro...</td>\n",
       "      <td>26.679241</td>\n",
       "      <td>89710</td>\n",
       "      <td>1.0</td>\n",
       "      <td>0.214955</td>\n",
       "      <td>0.760153</td>\n",
       "      <td>0.196886</td>\n",
       "      <td>0.781675</td>\n",
       "      <td>...</td>\n",
       "      <td>NaN</td>\n",
       "      <td>NaN</td>\n",
       "      <td>NaN</td>\n",
       "      <td>NaN</td>\n",
       "      <td>NaN</td>\n",
       "      <td>NaN</td>\n",
       "      <td>NaN</td>\n",
       "      <td>NaN</td>\n",
       "      <td>NaN</td>\n",
       "      <td>NaN</td>\n",
       "    </tr>\n",
       "    <tr>\n",
       "      <th>0</th>\n",
       "      <td>14</td>\n",
       "      <td>c8b38b0cdac3d22fd86e3bd4a13432b8</td>\n",
       "      <td>{\"cutoff\": \"quantile_0.25\", \"eval_fairness_gro...</td>\n",
       "      <td>26.679241</td>\n",
       "      <td>89710</td>\n",
       "      <td>1.0</td>\n",
       "      <td>0.214955</td>\n",
       "      <td>0.760153</td>\n",
       "      <td>0.196886</td>\n",
       "      <td>0.781675</td>\n",
       "      <td>...</td>\n",
       "      <td>0.120769</td>\n",
       "      <td>0.161263</td>\n",
       "      <td>0.896214</td>\n",
       "      <td>0.681259</td>\n",
       "      <td>0.055321</td>\n",
       "      <td>0.139716</td>\n",
       "      <td>0.901801</td>\n",
       "      <td>0.704915</td>\n",
       "      <td>20540.0</td>\n",
       "      <td>69170.0</td>\n",
       "    </tr>\n",
       "  </tbody>\n",
       "</table>\n",
       "<p>4 rows × 50 columns</p>\n",
       "</div>"
      ],
      "text/plain": [
       "  run_no                       universe_id  \\\n",
       "0     14  c8b38b0cdac3d22fd86e3bd4a13432b8   \n",
       "0     14  c8b38b0cdac3d22fd86e3bd4a13432b8   \n",
       "0     14  c8b38b0cdac3d22fd86e3bd4a13432b8   \n",
       "0     14  c8b38b0cdac3d22fd86e3bd4a13432b8   \n",
       "\n",
       "                                   universe_settings  execution_time  \\\n",
       "0  {\"cutoff\": \"quantile_0.1\", \"eval_fairness_grou...       26.679241   \n",
       "0  {\"cutoff\": \"quantile_0.1\", \"eval_fairness_grou...       26.679241   \n",
       "0  {\"cutoff\": \"quantile_0.25\", \"eval_fairness_gro...       26.679241   \n",
       "0  {\"cutoff\": \"quantile_0.25\", \"eval_fairness_gro...       26.679241   \n",
       "\n",
       "   test_size_n  test_size_frac  fair_main_equalized_odds_difference  \\\n",
       "0        89710             1.0                             0.094931   \n",
       "0        89710             1.0                             0.094931   \n",
       "0        89710             1.0                             0.214955   \n",
       "0        89710             1.0                             0.214955   \n",
       "\n",
       "   fair_main_equalized_odds_ratio  fair_main_demographic_parity_difference  \\\n",
       "0                        0.901491                                 0.085621   \n",
       "0                        0.901491                                 0.085621   \n",
       "0                        0.760153                                 0.196886   \n",
       "0                        0.760153                                 0.196886   \n",
       "\n",
       "   fair_main_demographic_parity_ratio  ...  perf_grp_precision_0  \\\n",
       "0                            0.911367  ...                   NaN   \n",
       "0                            0.911367  ...              0.117428   \n",
       "0                            0.781675  ...                   NaN   \n",
       "0                            0.781675  ...              0.120769   \n",
       "\n",
       "   perf_grp_precision_1  perf_grp_false positive rate_0  \\\n",
       "0                   NaN                             NaN   \n",
       "0              0.143620                        0.963680   \n",
       "0                   NaN                             NaN   \n",
       "0              0.161263                        0.896214   \n",
       "\n",
       "   perf_grp_false positive rate_1  perf_grp_false negative rate_0  \\\n",
       "0                             NaN                             NaN   \n",
       "0                        0.868749                        0.016047   \n",
       "0                             NaN                             NaN   \n",
       "0                        0.681259                        0.055321   \n",
       "\n",
       "   perf_grp_false negative rate_1  perf_grp_selection rate_0  \\\n",
       "0                             NaN                        NaN   \n",
       "0                        0.043107                   0.966018   \n",
       "0                             NaN                        NaN   \n",
       "0                        0.139716                   0.901801   \n",
       "\n",
       "   perf_grp_selection rate_1  perf_grp_count_0  perf_grp_count_1  \n",
       "0                        NaN               NaN               NaN  \n",
       "0                   0.880396           20540.0           69170.0  \n",
       "0                        NaN               NaN               NaN  \n",
       "0                   0.704915           20540.0           69170.0  \n",
       "\n",
       "[4 rows x 50 columns]"
      ]
     },
     "execution_count": 79,
     "metadata": {},
     "output_type": "execute_result"
    }
   ],
   "source": [
    "final_output = universe_analysis.generate_final_output(\n",
    "    y_pred_prob=probs_test,\n",
    "    y_test=y_true,\n",
    "    org_test=org_test,\n",
    "    filter_data=filter_sub_universe_data,\n",
    "    cp_metrics_df=cp_metrics_df,\n",
    "    save=True,\n",
    ")\n",
    "final_output"
   ]
  },
  {
   "cell_type": "code",
   "execution_count": null,
   "id": "721ff514-cb11-46f8-b6fc-50392f74b5cb",
   "metadata": {
    "papermill": {
     "duration": 0.029678,
     "end_time": "2025-07-30T21:04:24.006413",
     "exception": false,
     "start_time": "2025-07-30T21:04:23.976735",
     "status": "completed"
    },
    "tags": []
   },
   "outputs": [],
   "source": []
  }
 ],
 "metadata": {
  "celltoolbar": "Tags",
  "kernelspec": {
   "display_name": "Python (CMA Fairness)",
   "language": "python",
   "name": "cma_fair_env"
  },
  "language_info": {
   "codemirror_mode": {
    "name": "ipython",
    "version": 3
   },
   "file_extension": ".py",
   "mimetype": "text/x-python",
   "name": "python",
   "nbconvert_exporter": "python",
   "pygments_lexer": "ipython3",
   "version": "3.10.12"
  },
  "papermill": {
   "default_parameters": {},
   "duration": 39.968704,
   "end_time": "2025-07-30T21:04:24.755131",
   "environment_variables": {},
   "exception": null,
   "input_path": "universe_analysis.ipynb",
   "output_path": "output/runs/14/notebooks/m_14-c8b38b0cdac3d22fd86e3bd4a13432b8.ipynb",
   "parameters": {
    "output_dir": "output",
    "run_no": "14",
    "seed": "2023",
    "universe": "{\"cutoff\": [\"quantile_0.1\", \"quantile_0.25\"], \"eval_fairness_grouping\": [\"majority-minority\", \"nationality-all\"], \"exclude_features\": \"nationality\", \"exclude_subgroups\": \"keep-all\", \"model\": \"penalized_logreg\", \"scale\": \"do-not-scale\", \"training_size\": \"5k\", \"training_year\": \"2012_14\"}",
    "universe_id": "c8b38b0cdac3d22fd86e3bd4a13432b8"
   },
   "start_time": "2025-07-30T21:03:44.786427",
   "version": "2.6.0"
  }
 },
 "nbformat": 4,
 "nbformat_minor": 5
}