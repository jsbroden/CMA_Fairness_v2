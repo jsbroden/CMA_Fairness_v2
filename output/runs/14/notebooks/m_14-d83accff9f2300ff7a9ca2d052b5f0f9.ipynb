{
 "cells": [
  {
   "cell_type": "code",
   "execution_count": 1,
   "id": "f159f837-637b-42ba-96b5-ec9a68c44524",
   "metadata": {
    "execution": {
     "iopub.execute_input": "2025-07-30T20:57:38.635324Z",
     "iopub.status.busy": "2025-07-30T20:57:38.634456Z",
     "iopub.status.idle": "2025-07-30T20:57:38.647620Z",
     "shell.execute_reply": "2025-07-30T20:57:38.646662Z"
    },
    "papermill": {
     "duration": 0.029713,
     "end_time": "2025-07-30T20:57:38.649267",
     "exception": false,
     "start_time": "2025-07-30T20:57:38.619554",
     "status": "completed"
    },
    "tags": []
   },
   "outputs": [
    {
     "name": "stdout",
     "output_type": "stream",
     "text": [
      "/dss/dsshome1/0C/ra93lal2/cma/CMA_Fairness_v2\n"
     ]
    },
    {
     "name": "stderr",
     "output_type": "stream",
     "text": [
      "/dss/dsshome1/0C/ra93lal2/.local/share/virtualenvs/CMA_Fairness_v2-3j10GkSs/lib/python3.10/site-packages/IPython/core/magics/osm.py:393: UserWarning: This is now an optional IPython functionality, using bookmarks requires you to install the `pickleshare` library.\n",
      "  bkms = self.shell.db.get('bookmarks', {})\n",
      "/dss/dsshome1/0C/ra93lal2/.local/share/virtualenvs/CMA_Fairness_v2-3j10GkSs/lib/python3.10/site-packages/IPython/core/magics/osm.py:417: UserWarning: This is now an optional IPython functionality, setting dhist requires you to install the `pickleshare` library.\n",
      "  self.shell.db['dhist'] = compress_dhist(dhist)[-100:]\n"
     ]
    }
   ],
   "source": [
    "%cd ~/cma/CMA_Fairness_v2"
   ]
  },
  {
   "cell_type": "markdown",
   "id": "de2603b9",
   "metadata": {
    "papermill": {
     "duration": 0.018983,
     "end_time": "2025-07-30T20:57:38.688728",
     "exception": false,
     "start_time": "2025-07-30T20:57:38.669745",
     "status": "completed"
    },
    "tags": []
   },
   "source": [
    "The following cell holds the definition of our parameters, these values can be overriden by rendering the with e.g. the following command:\n",
    "\n",
    "papermill -p alpha 0.2 -p ratio 0.3 universe_analysis.ipynb output/test_run.ipynb"
   ]
  },
  {
   "cell_type": "code",
   "execution_count": 2,
   "id": "a80968a0-40bb-4fa9-85ef-2d5eefb01975",
   "metadata": {
    "execution": {
     "iopub.execute_input": "2025-07-30T20:57:38.710802Z",
     "iopub.status.busy": "2025-07-30T20:57:38.710409Z",
     "iopub.status.idle": "2025-07-30T20:57:38.715514Z",
     "shell.execute_reply": "2025-07-30T20:57:38.714772Z"
    },
    "papermill": {
     "duration": 0.017348,
     "end_time": "2025-07-30T20:57:38.716794",
     "exception": false,
     "start_time": "2025-07-30T20:57:38.699446",
     "status": "completed"
    },
    "tags": []
   },
   "outputs": [
    {
     "name": "stdout",
     "output_type": "stream",
     "text": [
      "Current working directory: /dss/dsshome1/0C/ra93lal2/cma/CMA_Fairness_v2\n"
     ]
    }
   ],
   "source": [
    "import os\n",
    "print(\"Current working directory:\", os.getcwd())"
   ]
  },
  {
   "cell_type": "code",
   "execution_count": 3,
   "id": "2dce4c03",
   "metadata": {
    "execution": {
     "iopub.execute_input": "2025-07-30T20:57:38.741661Z",
     "iopub.status.busy": "2025-07-30T20:57:38.741383Z",
     "iopub.status.idle": "2025-07-30T20:57:38.761337Z",
     "shell.execute_reply": "2025-07-30T20:57:38.760275Z"
    },
    "papermill": {
     "duration": 0.034735,
     "end_time": "2025-07-30T20:57:38.763734",
     "exception": false,
     "start_time": "2025-07-30T20:57:38.728999",
     "status": "completed"
    },
    "tags": [
     "parameters"
    ]
   },
   "outputs": [],
   "source": [
    "run_no = 0\n",
    "universe_id = \"test\"\n",
    "universe = {\n",
    "    \"training_size\": \"25k\", # \"25k\", \"5k\", \"1k\"\n",
    "    \"training_year\": \"2014\", # \"2014\", \"2012_14\", \"2010_14\"\n",
    "    \"scale\": \"scale\", # \"scale\", \"do-not-scale\",\n",
    "    #\"stratify_split\": \"target\", # \"none\", \"target\", \"protected-attribute\", \"both\",\n",
    "    \"model\": \"elasticnet\", # \"logreg\", \"penalized_logreg\", \"rf\", \"gbm\", \"elasticnet\"\n",
    "    \"cutoff\": [\"quantile_0.15\", \"quantile_0.30\"],\n",
    "    \"exclude_features\": \"age\", # \"none\", \"nationality\", \"sex\", \"nationality-sex\", \"age\"\n",
    "    \"exclude_subgroups\": \"keep-all\", # \"keep-all\", \"drop-non-german\"\n",
    "    \"eval_fairness_grouping\": [\"majority-minority\", \"nationality-all\"]\n",
    "}\n",
    "\n",
    "output_dir=\"./output\"\n",
    "seed=0"
   ]
  },
  {
   "cell_type": "code",
   "execution_count": 4,
   "id": "bdda68d4",
   "metadata": {
    "execution": {
     "iopub.execute_input": "2025-07-30T20:57:38.790084Z",
     "iopub.status.busy": "2025-07-30T20:57:38.789740Z",
     "iopub.status.idle": "2025-07-30T20:57:38.794125Z",
     "shell.execute_reply": "2025-07-30T20:57:38.793325Z"
    },
    "papermill": {
     "duration": 0.01814,
     "end_time": "2025-07-30T20:57:38.795570",
     "exception": false,
     "start_time": "2025-07-30T20:57:38.777430",
     "status": "completed"
    },
    "tags": [
     "injected-parameters"
    ]
   },
   "outputs": [],
   "source": [
    "# Parameters\n",
    "universe_id = \"d83accff9f2300ff7a9ca2d052b5f0f9\"\n",
    "run_no = \"14\"\n",
    "universe = \"{\\\"cutoff\\\": [\\\"quantile_0.1\\\", \\\"quantile_0.25\\\"], \\\"eval_fairness_grouping\\\": [\\\"majority-minority\\\", \\\"nationality-all\\\"], \\\"exclude_features\\\": \\\"nationality-sex\\\", \\\"exclude_subgroups\\\": \\\"drop-non-german\\\", \\\"model\\\": \\\"logreg\\\", \\\"scale\\\": \\\"scale\\\", \\\"training_size\\\": \\\"5k\\\", \\\"training_year\\\": \\\"2012_14\\\"}\"\n",
    "output_dir = \"output\"\n",
    "seed = \"2023\"\n"
   ]
  },
  {
   "cell_type": "code",
   "execution_count": 5,
   "id": "1650acaf",
   "metadata": {
    "execution": {
     "iopub.execute_input": "2025-07-30T20:57:38.819410Z",
     "iopub.status.busy": "2025-07-30T20:57:38.819035Z",
     "iopub.status.idle": "2025-07-30T20:57:38.823951Z",
     "shell.execute_reply": "2025-07-30T20:57:38.823137Z"
    },
    "papermill": {
     "duration": 0.018261,
     "end_time": "2025-07-30T20:57:38.825188",
     "exception": false,
     "start_time": "2025-07-30T20:57:38.806927",
     "status": "completed"
    },
    "tags": []
   },
   "outputs": [],
   "source": [
    "import json\n",
    "# Parse universe into dict if it is passed as a string\n",
    "if isinstance(universe, str):\n",
    "    universe = json.loads(universe)"
   ]
  },
  {
   "cell_type": "code",
   "execution_count": 6,
   "id": "16620c48",
   "metadata": {
    "execution": {
     "iopub.execute_input": "2025-07-30T20:57:38.849181Z",
     "iopub.status.busy": "2025-07-30T20:57:38.848646Z",
     "iopub.status.idle": "2025-07-30T20:57:38.880762Z",
     "shell.execute_reply": "2025-07-30T20:57:38.880003Z"
    },
    "papermill": {
     "duration": 0.045709,
     "end_time": "2025-07-30T20:57:38.882155",
     "exception": false,
     "start_time": "2025-07-30T20:57:38.836446",
     "status": "completed"
    },
    "tags": []
   },
   "outputs": [],
   "source": [
    "# Auto-reload the custom package\n",
    "%load_ext autoreload\n",
    "%autoreload 1\n",
    "%aimport fairness_multiverse"
   ]
  },
  {
   "cell_type": "code",
   "execution_count": 7,
   "id": "01c5c9f3",
   "metadata": {
    "execution": {
     "iopub.execute_input": "2025-07-30T20:57:38.905258Z",
     "iopub.status.busy": "2025-07-30T20:57:38.904771Z",
     "iopub.status.idle": "2025-07-30T20:57:40.881344Z",
     "shell.execute_reply": "2025-07-30T20:57:40.880450Z"
    },
    "papermill": {
     "duration": 1.989837,
     "end_time": "2025-07-30T20:57:40.883125",
     "exception": false,
     "start_time": "2025-07-30T20:57:38.893288",
     "status": "completed"
    },
    "tags": []
   },
   "outputs": [],
   "source": [
    "from fairness_multiverse.universe import UniverseAnalysis\n",
    "\n",
    "universe_analysis = UniverseAnalysis(\n",
    "    run_no = run_no,\n",
    "    universe_id = universe_id,\n",
    "    universe = universe,\n",
    "    output_dir=output_dir,\n",
    ")"
   ]
  },
  {
   "cell_type": "code",
   "execution_count": 8,
   "id": "106241f5",
   "metadata": {
    "execution": {
     "iopub.execute_input": "2025-07-30T20:57:40.925179Z",
     "iopub.status.busy": "2025-07-30T20:57:40.924580Z",
     "iopub.status.idle": "2025-07-30T20:57:40.930847Z",
     "shell.execute_reply": "2025-07-30T20:57:40.929830Z"
    },
    "papermill": {
     "duration": 0.02706,
     "end_time": "2025-07-30T20:57:40.932503",
     "exception": false,
     "start_time": "2025-07-30T20:57:40.905443",
     "status": "completed"
    },
    "tags": []
   },
   "outputs": [
    {
     "name": "stdout",
     "output_type": "stream",
     "text": [
      "Using Seed: 2023\n"
     ]
    }
   ],
   "source": [
    "import numpy as np\n",
    "parsed_seed = int(seed)\n",
    "np.random.seed(parsed_seed)\n",
    "print(f\"Using Seed: {parsed_seed}\")"
   ]
  },
  {
   "cell_type": "markdown",
   "id": "e0ebdc57",
   "metadata": {
    "papermill": {
     "duration": 0.01826,
     "end_time": "2025-07-30T20:57:40.970450",
     "exception": false,
     "start_time": "2025-07-30T20:57:40.952190",
     "status": "completed"
    },
    "tags": []
   },
   "source": [
    "# Loading Data"
   ]
  },
  {
   "cell_type": "markdown",
   "id": "681925a3",
   "metadata": {
    "papermill": {
     "duration": 0.018851,
     "end_time": "2025-07-30T20:57:41.007683",
     "exception": false,
     "start_time": "2025-07-30T20:57:40.988832",
     "status": "completed"
    },
    "tags": []
   },
   "source": [
    "Load siab_train, siab_test, siab_calib and/or \n",
    "load siab_train_features, siab_train_labels"
   ]
  },
  {
   "cell_type": "code",
   "execution_count": 9,
   "id": "f0496b8a",
   "metadata": {
    "execution": {
     "iopub.execute_input": "2025-07-30T20:57:41.049529Z",
     "iopub.status.busy": "2025-07-30T20:57:41.048716Z",
     "iopub.status.idle": "2025-07-30T20:57:52.735885Z",
     "shell.execute_reply": "2025-07-30T20:57:52.734855Z"
    },
    "papermill": {
     "duration": 11.710921,
     "end_time": "2025-07-30T20:57:52.737454",
     "exception": false,
     "start_time": "2025-07-30T20:57:41.026533",
     "status": "completed"
    },
    "tags": []
   },
   "outputs": [
    {
     "name": "stdout",
     "output_type": "stream",
     "text": [
      "Loading SIAB data from cache: data/siab_cached.csv.gz\n"
     ]
    },
    {
     "name": "stdout",
     "output_type": "stream",
     "text": [
      "(643690, 164)\n"
     ]
    }
   ],
   "source": [
    "from pathlib import Path\n",
    "import pandas as pd\n",
    "\n",
    "# File paths\n",
    "raw_file = Path(\"data/raw/siab.csv\")\n",
    "cache_file = Path(\"data/siab_cached.csv.gz\")\n",
    "\n",
    "# Ensure cache directory exists\n",
    "cache_file.parent.mkdir(parents=True, exist_ok=True)\n",
    "\n",
    "# Load with simple caching\n",
    "if cache_file.exists():\n",
    "    print(f\"Loading SIAB data from cache: {cache_file}\")\n",
    "    siab = pd.read_csv(cache_file, compression='gzip')\n",
    "else:\n",
    "    print(f\"Cache not found. Reading raw SIAB data: {raw_file}\")\n",
    "    siab = pd.read_csv(raw_file)\n",
    "    siab.to_csv(cache_file, index=False, compression='gzip')\n",
    "    print(f\"Cached SIAB data to: {cache_file}\")\n",
    "\n",
    "# Now use `siab` DataFrame as needed\n",
    "print(siab.shape)"
   ]
  },
  {
   "cell_type": "code",
   "execution_count": 10,
   "id": "db0ca512-5f53-4dba-abdb-a2888bca41ba",
   "metadata": {
    "execution": {
     "iopub.execute_input": "2025-07-30T20:57:52.781828Z",
     "iopub.status.busy": "2025-07-30T20:57:52.781330Z",
     "iopub.status.idle": "2025-07-30T20:57:52.787174Z",
     "shell.execute_reply": "2025-07-30T20:57:52.786294Z"
    },
    "papermill": {
     "duration": 0.029285,
     "end_time": "2025-07-30T20:57:52.788859",
     "exception": false,
     "start_time": "2025-07-30T20:57:52.759574",
     "status": "completed"
    },
    "tags": []
   },
   "outputs": [],
   "source": [
    "#siab"
   ]
  },
  {
   "cell_type": "code",
   "execution_count": 11,
   "id": "a0edb063",
   "metadata": {
    "execution": {
     "iopub.execute_input": "2025-07-30T20:57:52.830188Z",
     "iopub.status.busy": "2025-07-30T20:57:52.829536Z",
     "iopub.status.idle": "2025-07-30T20:57:52.834578Z",
     "shell.execute_reply": "2025-07-30T20:57:52.833743Z"
    },
    "papermill": {
     "duration": 0.027232,
     "end_time": "2025-07-30T20:57:52.836165",
     "exception": false,
     "start_time": "2025-07-30T20:57:52.808933",
     "status": "completed"
    },
    "tags": []
   },
   "outputs": [],
   "source": [
    "#import pandas as pd\n",
    "#\n",
    "#X_train = pd.read_csv(\"./data/X_train.csv\")\n",
    "#y_train = pd.read_csv(\"./data/y_train.csv\")"
   ]
  },
  {
   "cell_type": "code",
   "execution_count": 12,
   "id": "63d08085",
   "metadata": {
    "execution": {
     "iopub.execute_input": "2025-07-30T20:57:52.877484Z",
     "iopub.status.busy": "2025-07-30T20:57:52.876937Z",
     "iopub.status.idle": "2025-07-30T20:57:52.881944Z",
     "shell.execute_reply": "2025-07-30T20:57:52.880719Z"
    },
    "papermill": {
     "duration": 0.028743,
     "end_time": "2025-07-30T20:57:52.884991",
     "exception": false,
     "start_time": "2025-07-30T20:57:52.856248",
     "status": "completed"
    },
    "tags": []
   },
   "outputs": [],
   "source": [
    "#X_test = pd.read_csv(\"./data/X_test.csv\")\n",
    "#y_true = pd.read_csv(\"./data/y_test.csv\")"
   ]
  },
  {
   "cell_type": "code",
   "execution_count": 13,
   "id": "98a8d0fa-1d3d-4ed8-bb2c-281470e24add",
   "metadata": {
    "execution": {
     "iopub.execute_input": "2025-07-30T20:57:52.924397Z",
     "iopub.status.busy": "2025-07-30T20:57:52.923964Z",
     "iopub.status.idle": "2025-07-30T20:57:52.928470Z",
     "shell.execute_reply": "2025-07-30T20:57:52.927572Z"
    },
    "papermill": {
     "duration": 0.025446,
     "end_time": "2025-07-30T20:57:52.929953",
     "exception": false,
     "start_time": "2025-07-30T20:57:52.904507",
     "status": "completed"
    },
    "tags": []
   },
   "outputs": [],
   "source": [
    "# Calibration data for conformal\n",
    "#X_calib = pd.read_csv(\"./data/X_calib.csv\")\n",
    "#y_calib = pd.read_csv(\"./data/y_calib.csv\")"
   ]
  },
  {
   "cell_type": "markdown",
   "id": "997051c5-15bd-4b69-9786-c3001a3ce484",
   "metadata": {
    "papermill": {
     "duration": 0.018588,
     "end_time": "2025-07-30T20:57:52.969238",
     "exception": false,
     "start_time": "2025-07-30T20:57:52.950650",
     "status": "completed"
    },
    "tags": []
   },
   "source": [
    "# Splitting Data and Setting Training Data Size"
   ]
  },
  {
   "cell_type": "code",
   "execution_count": 14,
   "id": "e993b61f-042d-41a6-8c81-f55681f86335",
   "metadata": {
    "execution": {
     "iopub.execute_input": "2025-07-30T20:57:53.010474Z",
     "iopub.status.busy": "2025-07-30T20:57:53.010011Z",
     "iopub.status.idle": "2025-07-30T20:57:53.025196Z",
     "shell.execute_reply": "2025-07-30T20:57:53.023791Z"
    },
    "papermill": {
     "duration": 0.037907,
     "end_time": "2025-07-30T20:57:53.026862",
     "exception": false,
     "start_time": "2025-07-30T20:57:52.988955",
     "status": "completed"
    },
    "tags": []
   },
   "outputs": [],
   "source": [
    "def sample_by_year_size(df,\n",
    "                        training_year: str,\n",
    "                        training_size: str,\n",
    "                        random_state: int = 42):\n",
    "    # --- parse training_year into a list of int years ---\n",
    "    if \"_\" in training_year:\n",
    "        start_str, end_str = training_year.split(\"_\", 1)\n",
    "        start = int(start_str)\n",
    "        end   = int(end_str) if len(end_str) == 4 else (int(end_str) + (start // 100)*100)\n",
    "        years = list(range(start, end + 1))\n",
    "    else:\n",
    "        years = [int(training_year)]\n",
    "\n",
    "    df = df[df[\"year\"].isin(years)].reset_index(drop=True)\n",
    "\n",
    "    # --- map training_size to total number of samples ---\n",
    "    total_map = {\"25k\": 25_000, \"5k\": 5_000, \"1k\": 1_000}\n",
    "    if training_size not in total_map:\n",
    "        return df  # e.g. \"all\"\n",
    "\n",
    "    total_samples = total_map[training_size]\n",
    "    n_years       = len(years)\n",
    "    base          = total_samples // n_years\n",
    "    remainder     = total_samples % n_years\n",
    "\n",
    "    # --- build a dict: year -> how many to sample ---\n",
    "    # give +1 to the first `remainder` years in ascending order\n",
    "    quotas = {\n",
    "        year: base + (1 if idx < remainder else 0)\n",
    "        for idx, year in enumerate(sorted(years))\n",
    "    }\n",
    "\n",
    "    # --- sample per‐year according to the quota dict ---\n",
    "    sampled = (\n",
    "        df\n",
    "        .groupby(\"year\", group_keys=False)\n",
    "        .apply(lambda grp: grp.sample(\n",
    "            n=min(len(grp), quotas[grp.name]),\n",
    "            random_state=random_state))\n",
    "        .reset_index(drop=True)\n",
    "    )\n",
    "\n",
    "    return sampled"
   ]
  },
  {
   "cell_type": "code",
   "execution_count": 15,
   "id": "c0ccd338-0e02-41f3-a09d-f56f9266e3fb",
   "metadata": {
    "execution": {
     "iopub.execute_input": "2025-07-30T20:57:53.068066Z",
     "iopub.status.busy": "2025-07-30T20:57:53.067581Z",
     "iopub.status.idle": "2025-07-30T20:57:53.072330Z",
     "shell.execute_reply": "2025-07-30T20:57:53.071379Z"
    },
    "papermill": {
     "duration": 0.026962,
     "end_time": "2025-07-30T20:57:53.073827",
     "exception": false,
     "start_time": "2025-07-30T20:57:53.046865",
     "status": "completed"
    },
    "tags": []
   },
   "outputs": [],
   "source": [
    "#universe[\"training_size\"]"
   ]
  },
  {
   "cell_type": "code",
   "execution_count": 16,
   "id": "ca707fd7-8047-4acd-bfa5-66248fbbf8e6",
   "metadata": {
    "execution": {
     "iopub.execute_input": "2025-07-30T20:57:53.114979Z",
     "iopub.status.busy": "2025-07-30T20:57:53.114511Z",
     "iopub.status.idle": "2025-07-30T20:57:53.119215Z",
     "shell.execute_reply": "2025-07-30T20:57:53.118354Z"
    },
    "papermill": {
     "duration": 0.027071,
     "end_time": "2025-07-30T20:57:53.120690",
     "exception": false,
     "start_time": "2025-07-30T20:57:53.093619",
     "status": "completed"
    },
    "tags": []
   },
   "outputs": [],
   "source": [
    "#universe[\"training_year\"]"
   ]
  },
  {
   "cell_type": "code",
   "execution_count": 17,
   "id": "aea9c6ef-6f46-42c8-85eb-5a62025c1508",
   "metadata": {
    "execution": {
     "iopub.execute_input": "2025-07-30T20:57:53.161446Z",
     "iopub.status.busy": "2025-07-30T20:57:53.160879Z",
     "iopub.status.idle": "2025-07-30T20:57:53.752887Z",
     "shell.execute_reply": "2025-07-30T20:57:53.751911Z"
    },
    "papermill": {
     "duration": 0.614086,
     "end_time": "2025-07-30T20:57:53.754585",
     "exception": false,
     "start_time": "2025-07-30T20:57:53.140499",
     "status": "completed"
    },
    "tags": []
   },
   "outputs": [],
   "source": [
    "siab_train = sample_by_year_size(siab,\n",
    "                               training_year=universe[\"training_year\"],\n",
    "                               training_size=universe[\"training_size\"])"
   ]
  },
  {
   "cell_type": "code",
   "execution_count": 18,
   "id": "8d3afb32-789d-442c-8d5d-9f5aa8dd2eed",
   "metadata": {
    "execution": {
     "iopub.execute_input": "2025-07-30T20:57:53.795015Z",
     "iopub.status.busy": "2025-07-30T20:57:53.794582Z",
     "iopub.status.idle": "2025-07-30T20:57:53.799109Z",
     "shell.execute_reply": "2025-07-30T20:57:53.798108Z"
    },
    "papermill": {
     "duration": 0.025879,
     "end_time": "2025-07-30T20:57:53.800780",
     "exception": false,
     "start_time": "2025-07-30T20:57:53.774901",
     "status": "completed"
    },
    "tags": []
   },
   "outputs": [],
   "source": [
    "#siab_train.shape"
   ]
  },
  {
   "cell_type": "code",
   "execution_count": 19,
   "id": "d582db68-1a4c-47fb-84fc-08518dc1975a",
   "metadata": {
    "execution": {
     "iopub.execute_input": "2025-07-30T20:57:53.842163Z",
     "iopub.status.busy": "2025-07-30T20:57:53.841709Z",
     "iopub.status.idle": "2025-07-30T20:57:53.846775Z",
     "shell.execute_reply": "2025-07-30T20:57:53.845933Z"
    },
    "papermill": {
     "duration": 0.027576,
     "end_time": "2025-07-30T20:57:53.848333",
     "exception": false,
     "start_time": "2025-07-30T20:57:53.820757",
     "status": "completed"
    },
    "tags": []
   },
   "outputs": [],
   "source": [
    "#display(siab_train.groupby(\"year\").size())"
   ]
  },
  {
   "cell_type": "code",
   "execution_count": 20,
   "id": "a561edb4-d032-42cb-8256-22eac1111c64",
   "metadata": {
    "execution": {
     "iopub.execute_input": "2025-07-30T20:57:53.890768Z",
     "iopub.status.busy": "2025-07-30T20:57:53.890347Z",
     "iopub.status.idle": "2025-07-30T20:57:54.114665Z",
     "shell.execute_reply": "2025-07-30T20:57:54.113720Z"
    },
    "papermill": {
     "duration": 0.247167,
     "end_time": "2025-07-30T20:57:54.116468",
     "exception": false,
     "start_time": "2025-07-30T20:57:53.869301",
     "status": "completed"
    },
    "tags": []
   },
   "outputs": [],
   "source": [
    "#siab_train = siab_s[siab_s.year < 2015]\n",
    "siab_calib = siab[siab.year == 2015]\n",
    "siab_test = siab[siab.year == 2016]"
   ]
  },
  {
   "cell_type": "code",
   "execution_count": 21,
   "id": "472de16f-c3db-4916-846b-1f0de9cf1746",
   "metadata": {
    "execution": {
     "iopub.execute_input": "2025-07-30T20:57:54.159972Z",
     "iopub.status.busy": "2025-07-30T20:57:54.159290Z",
     "iopub.status.idle": "2025-07-30T20:57:54.167916Z",
     "shell.execute_reply": "2025-07-30T20:57:54.167082Z"
    },
    "papermill": {
     "duration": 0.032551,
     "end_time": "2025-07-30T20:57:54.169587",
     "exception": false,
     "start_time": "2025-07-30T20:57:54.137036",
     "status": "completed"
    },
    "tags": []
   },
   "outputs": [],
   "source": [
    "X_train = siab_train.iloc[:,4:164]\n",
    "y_train = siab_train.iloc[:, [3]]"
   ]
  },
  {
   "cell_type": "code",
   "execution_count": 22,
   "id": "828c96af-f43a-4ed6-ba47-8ac73a47d56c",
   "metadata": {
    "execution": {
     "iopub.execute_input": "2025-07-30T20:57:54.214518Z",
     "iopub.status.busy": "2025-07-30T20:57:54.214141Z",
     "iopub.status.idle": "2025-07-30T20:57:54.265244Z",
     "shell.execute_reply": "2025-07-30T20:57:54.264139Z"
    },
    "papermill": {
     "duration": 0.077044,
     "end_time": "2025-07-30T20:57:54.267124",
     "exception": false,
     "start_time": "2025-07-30T20:57:54.190080",
     "status": "completed"
    },
    "tags": []
   },
   "outputs": [],
   "source": [
    "X_calib = siab_calib.iloc[:,4:164]\n",
    "y_calib = siab_calib.iloc[:, [3]]"
   ]
  },
  {
   "cell_type": "code",
   "execution_count": 23,
   "id": "c34be9c3-6bd6-476e-acd3-845840e303be",
   "metadata": {
    "execution": {
     "iopub.execute_input": "2025-07-30T20:57:54.310430Z",
     "iopub.status.busy": "2025-07-30T20:57:54.309679Z",
     "iopub.status.idle": "2025-07-30T20:57:54.360168Z",
     "shell.execute_reply": "2025-07-30T20:57:54.359163Z"
    },
    "papermill": {
     "duration": 0.072262,
     "end_time": "2025-07-30T20:57:54.361891",
     "exception": false,
     "start_time": "2025-07-30T20:57:54.289629",
     "status": "completed"
    },
    "tags": []
   },
   "outputs": [],
   "source": [
    "X_test = siab_test.iloc[:,4:164]\n",
    "y_true = siab_test.iloc[:, [3]]"
   ]
  },
  {
   "cell_type": "markdown",
   "id": "9901737e-04df-44f0-9100-f5ad144ed040",
   "metadata": {
    "papermill": {
     "duration": 0.020388,
     "end_time": "2025-07-30T20:57:54.404312",
     "exception": false,
     "start_time": "2025-07-30T20:57:54.383924",
     "status": "completed"
    },
    "tags": []
   },
   "source": [
    "# Splitting Data and Setting Training Data Size OLD VERSION"
   ]
  },
  {
   "cell_type": "code",
   "execution_count": 24,
   "id": "acbc8f7d-8fc8-4e86-8c59-5dcb0f58384b",
   "metadata": {
    "execution": {
     "iopub.execute_input": "2025-07-30T20:57:54.447581Z",
     "iopub.status.busy": "2025-07-30T20:57:54.446928Z",
     "iopub.status.idle": "2025-07-30T20:57:54.452617Z",
     "shell.execute_reply": "2025-07-30T20:57:54.451712Z"
    },
    "papermill": {
     "duration": 0.028971,
     "end_time": "2025-07-30T20:57:54.454098",
     "exception": false,
     "start_time": "2025-07-30T20:57:54.425127",
     "status": "completed"
    },
    "tags": []
   },
   "outputs": [],
   "source": [
    "#def sample_by_year(df, training_size, random_state=42):\n",
    "#    if training_size == \"2014\":\n",
    "#        return df[df[\"year\"] == 2014].reset_index(drop=True)\n",
    "#    \n",
    "#    size_map = {\n",
    "#        \"25k\": 5000,\n",
    "#        \"5k\": 1000,\n",
    "#        \"1k\": 200\n",
    "#    }\n",
    "#\n",
    "#    if training_size not in size_map:\n",
    "#        return df.reset_index(drop=True)  # use all data\n",
    "#\n",
    "#    n_per_year = size_map[training_size]\n",
    "#    grouped = df.groupby(\"year\")\n",
    "#    sampled = grouped.apply(lambda x: x.sample(n=min(n_per_year, len(x)), random_state=random_state))\n",
    "#    return sampled.reset_index(drop=True)"
   ]
  },
  {
   "cell_type": "code",
   "execution_count": 25,
   "id": "6d931f52-beaf-43ff-9e78-9d44a448d54e",
   "metadata": {
    "execution": {
     "iopub.execute_input": "2025-07-30T20:57:54.508995Z",
     "iopub.status.busy": "2025-07-30T20:57:54.508294Z",
     "iopub.status.idle": "2025-07-30T20:57:54.512742Z",
     "shell.execute_reply": "2025-07-30T20:57:54.511944Z"
    },
    "papermill": {
     "duration": 0.026281,
     "end_time": "2025-07-30T20:57:54.514162",
     "exception": false,
     "start_time": "2025-07-30T20:57:54.487881",
     "status": "completed"
    },
    "tags": []
   },
   "outputs": [],
   "source": [
    "#siab_s = sample_by_year(siab, universe[\"training_size\"])"
   ]
  },
  {
   "cell_type": "code",
   "execution_count": 26,
   "id": "5db0a40e-a4e2-4920-be85-b12ae061d70d",
   "metadata": {
    "execution": {
     "iopub.execute_input": "2025-07-30T20:57:54.555939Z",
     "iopub.status.busy": "2025-07-30T20:57:54.555316Z",
     "iopub.status.idle": "2025-07-30T20:57:54.559792Z",
     "shell.execute_reply": "2025-07-30T20:57:54.558953Z"
    },
    "papermill": {
     "duration": 0.026716,
     "end_time": "2025-07-30T20:57:54.561202",
     "exception": false,
     "start_time": "2025-07-30T20:57:54.534486",
     "status": "completed"
    },
    "tags": []
   },
   "outputs": [],
   "source": [
    "#display(siab_s.groupby(\"year\").size())"
   ]
  },
  {
   "cell_type": "code",
   "execution_count": 27,
   "id": "e6c733c5",
   "metadata": {
    "execution": {
     "iopub.execute_input": "2025-07-30T20:57:54.603984Z",
     "iopub.status.busy": "2025-07-30T20:57:54.603547Z",
     "iopub.status.idle": "2025-07-30T20:57:54.694550Z",
     "shell.execute_reply": "2025-07-30T20:57:54.693675Z"
    },
    "papermill": {
     "duration": 0.114697,
     "end_time": "2025-07-30T20:57:54.696312",
     "exception": false,
     "start_time": "2025-07-30T20:57:54.581615",
     "status": "completed"
    },
    "tags": []
   },
   "outputs": [],
   "source": [
    "# Auxiliary data needed downstream in the pipeline\n",
    "\n",
    "org_train = X_train.copy()\n",
    "org_test = X_test.copy()\n",
    "org_calib = X_calib.copy()"
   ]
  },
  {
   "cell_type": "code",
   "execution_count": 28,
   "id": "1466abac-c6da-4492-a62f-4240ae3783af",
   "metadata": {
    "execution": {
     "iopub.execute_input": "2025-07-30T20:57:54.737856Z",
     "iopub.status.busy": "2025-07-30T20:57:54.737433Z",
     "iopub.status.idle": "2025-07-30T20:57:54.743185Z",
     "shell.execute_reply": "2025-07-30T20:57:54.742157Z"
    },
    "papermill": {
     "duration": 0.027798,
     "end_time": "2025-07-30T20:57:54.744606",
     "exception": false,
     "start_time": "2025-07-30T20:57:54.716808",
     "status": "completed"
    },
    "tags": []
   },
   "outputs": [],
   "source": [
    "# put in other script?\n",
    "# Group sizes\n",
    "\n",
    "#def calculate_percentages(df, df_name):\n",
    "#    total_entries = len(df)\n",
    "#\n",
    "#    female_pct = (df['frau1'] == 1).mean() * 100\n",
    "#    non_german_pct = ((df['maxdeutsch1'] == 0) & (df['maxdeutsch.Missing.'] == 0)).mean() * 100\n",
    "#    non_german_male_pct = ((df['frau1'] == 0) & (df['maxdeutsch1'] == 0) & (df['maxdeutsch.Missing.'] == 0)).mean() * 100\n",
    "#    non_german_female_pct = ((df['frau1'] == 1) & (df['maxdeutsch1'] == 0) & (df['maxdeutsch.Missing.'] == 0)).mean() * 100\n",
    "#\n",
    "#    print(f\"--- {df_name} ---\")\n",
    "#    print(f\"Female: {female_pct:.2f}%\")\n",
    "#    print(f\"Non-German: {non_german_pct:.2f}%\")\n",
    "#    print(f\"Non-German Male: {non_german_male_pct:.2f}%\")\n",
    "#    print(f\"Non-German Female: {non_german_female_pct:.2f}%\\n\")\n",
    "#\n",
    "## Calculate for each DataFrame\n",
    "#calculate_percentages(siab_calib, \"siab_calib\")\n",
    "#calculate_percentages(siab_test, \"siab_test\")\n",
    "#calculate_percentages(siab_train, \"siab_train\")"
   ]
  },
  {
   "cell_type": "markdown",
   "id": "0a4a1b33",
   "metadata": {
    "papermill": {
     "duration": 0.020623,
     "end_time": "2025-07-30T20:57:54.785471",
     "exception": false,
     "start_time": "2025-07-30T20:57:54.764848",
     "status": "completed"
    },
    "tags": []
   },
   "source": [
    "# Preprocessing Data"
   ]
  },
  {
   "cell_type": "code",
   "execution_count": 29,
   "id": "ca879031",
   "metadata": {
    "execution": {
     "iopub.execute_input": "2025-07-30T20:57:54.826430Z",
     "iopub.status.busy": "2025-07-30T20:57:54.825976Z",
     "iopub.status.idle": "2025-07-30T20:57:54.831817Z",
     "shell.execute_reply": "2025-07-30T20:57:54.830885Z"
    },
    "papermill": {
     "duration": 0.028272,
     "end_time": "2025-07-30T20:57:54.833375",
     "exception": false,
     "start_time": "2025-07-30T20:57:54.805103",
     "status": "completed"
    },
    "tags": []
   },
   "outputs": [],
   "source": [
    "# EXCLUDE PROTECTED FEATURES\n",
    "# ----------------------\n",
    "# \"exclude_features\": \"none\", # \"nationality\", \"sex\", \"nationality-sex\"\n",
    "\n",
    "excluded_features = universe[\"exclude_features\"].split(\"-\") # split, e.g.: \"nationality-sex\" -> [\"nationality\", \"sex\"]\n",
    "excluded_features_dictionary = {\n",
    "    \"nationality\": [\"maxdeutsch1\", \"maxdeutsch.Missing.\"],\n",
    "    \"sex\": [\"frau1\"],\n",
    "    \"age\": [\"age\"],\n",
    "}\n"
   ]
  },
  {
   "cell_type": "code",
   "execution_count": 30,
   "id": "b745ac60",
   "metadata": {
    "execution": {
     "iopub.execute_input": "2025-07-30T20:57:54.877683Z",
     "iopub.status.busy": "2025-07-30T20:57:54.877032Z",
     "iopub.status.idle": "2025-07-30T20:57:54.882856Z",
     "shell.execute_reply": "2025-07-30T20:57:54.881840Z"
    },
    "papermill": {
     "duration": 0.029678,
     "end_time": "2025-07-30T20:57:54.884487",
     "exception": false,
     "start_time": "2025-07-30T20:57:54.854809",
     "status": "completed"
    },
    "tags": []
   },
   "outputs": [],
   "source": [
    "# Code nice names to column names\n",
    "\n",
    "excluded_features_columns = [\n",
    "    excluded_features_dictionary[f] for f in excluded_features if len(f) > 0 and f != \"none\"\n",
    "]"
   ]
  },
  {
   "cell_type": "code",
   "execution_count": 31,
   "id": "f84f73a2",
   "metadata": {
    "execution": {
     "iopub.execute_input": "2025-07-30T20:57:54.927936Z",
     "iopub.status.busy": "2025-07-30T20:57:54.927299Z",
     "iopub.status.idle": "2025-07-30T20:57:54.933687Z",
     "shell.execute_reply": "2025-07-30T20:57:54.932789Z"
    },
    "papermill": {
     "duration": 0.029738,
     "end_time": "2025-07-30T20:57:54.935193",
     "exception": false,
     "start_time": "2025-07-30T20:57:54.905455",
     "status": "completed"
    },
    "tags": []
   },
   "outputs": [],
   "source": [
    "from utils import flatten_once\n",
    "\n",
    "excluded_features_columns = flatten_once(excluded_features_columns)"
   ]
  },
  {
   "cell_type": "code",
   "execution_count": 32,
   "id": "884dea22",
   "metadata": {
    "execution": {
     "iopub.execute_input": "2025-07-30T20:57:54.978925Z",
     "iopub.status.busy": "2025-07-30T20:57:54.978271Z",
     "iopub.status.idle": "2025-07-30T20:57:54.988530Z",
     "shell.execute_reply": "2025-07-30T20:57:54.987594Z"
    },
    "papermill": {
     "duration": 0.033842,
     "end_time": "2025-07-30T20:57:54.990087",
     "exception": false,
     "start_time": "2025-07-30T20:57:54.956245",
     "status": "completed"
    },
    "tags": []
   },
   "outputs": [
    {
     "name": "stdout",
     "output_type": "stream",
     "text": [
      "Dropping features: ['maxdeutsch1', 'maxdeutsch.Missing.', 'frau1']\n"
     ]
    }
   ],
   "source": [
    "if len(excluded_features_columns) > 0:\n",
    "    print(f\"Dropping features: {excluded_features_columns}\")\n",
    "    X_train.drop(excluded_features_columns, axis=1, inplace=True)"
   ]
  },
  {
   "cell_type": "code",
   "execution_count": 33,
   "id": "95ab8b16",
   "metadata": {
    "execution": {
     "iopub.execute_input": "2025-07-30T20:57:55.033885Z",
     "iopub.status.busy": "2025-07-30T20:57:55.033162Z",
     "iopub.status.idle": "2025-07-30T20:57:55.091158Z",
     "shell.execute_reply": "2025-07-30T20:57:55.090313Z"
    },
    "papermill": {
     "duration": 0.081031,
     "end_time": "2025-07-30T20:57:55.093249",
     "exception": false,
     "start_time": "2025-07-30T20:57:55.012218",
     "status": "completed"
    },
    "tags": []
   },
   "outputs": [
    {
     "name": "stdout",
     "output_type": "stream",
     "text": [
      "Dropping features: ['maxdeutsch1', 'maxdeutsch.Missing.', 'frau1']\n"
     ]
    }
   ],
   "source": [
    "if len(excluded_features_columns) > 0:\n",
    "    print(f\"Dropping features: {excluded_features_columns}\")\n",
    "    X_test.drop(excluded_features_columns, axis=1, inplace=True)"
   ]
  },
  {
   "cell_type": "code",
   "execution_count": 34,
   "id": "1853aaf5-fb9f-46cb-a2b5-8ea4ae2237e4",
   "metadata": {
    "execution": {
     "iopub.execute_input": "2025-07-30T20:57:55.149545Z",
     "iopub.status.busy": "2025-07-30T20:57:55.148894Z",
     "iopub.status.idle": "2025-07-30T20:57:55.198191Z",
     "shell.execute_reply": "2025-07-30T20:57:55.197199Z"
    },
    "papermill": {
     "duration": 0.075791,
     "end_time": "2025-07-30T20:57:55.200055",
     "exception": false,
     "start_time": "2025-07-30T20:57:55.124264",
     "status": "completed"
    },
    "tags": []
   },
   "outputs": [
    {
     "name": "stdout",
     "output_type": "stream",
     "text": [
      "Dropping features: ['maxdeutsch1', 'maxdeutsch.Missing.', 'frau1']\n"
     ]
    }
   ],
   "source": [
    "if len(excluded_features_columns) > 0:\n",
    "    print(f\"Dropping features: {excluded_features_columns}\")\n",
    "    X_calib.drop(excluded_features_columns, axis=1, inplace=True)"
   ]
  },
  {
   "cell_type": "code",
   "execution_count": 35,
   "id": "6727d079-03e5-481e-9d38-292a90b7a0a8",
   "metadata": {
    "execution": {
     "iopub.execute_input": "2025-07-30T20:57:55.244450Z",
     "iopub.status.busy": "2025-07-30T20:57:55.243953Z",
     "iopub.status.idle": "2025-07-30T20:57:55.249619Z",
     "shell.execute_reply": "2025-07-30T20:57:55.248771Z"
    },
    "papermill": {
     "duration": 0.029662,
     "end_time": "2025-07-30T20:57:55.251232",
     "exception": false,
     "start_time": "2025-07-30T20:57:55.221570",
     "status": "completed"
    },
    "tags": []
   },
   "outputs": [],
   "source": [
    "# SPLIT & STRATIFY DATA\n",
    "# ----------------------"
   ]
  },
  {
   "cell_type": "code",
   "execution_count": 36,
   "id": "76c4dc6d",
   "metadata": {
    "execution": {
     "iopub.execute_input": "2025-07-30T20:57:55.293967Z",
     "iopub.status.busy": "2025-07-30T20:57:55.293207Z",
     "iopub.status.idle": "2025-07-30T20:57:55.298107Z",
     "shell.execute_reply": "2025-07-30T20:57:55.297338Z"
    },
    "papermill": {
     "duration": 0.027614,
     "end_time": "2025-07-30T20:57:55.299517",
     "exception": false,
     "start_time": "2025-07-30T20:57:55.271903",
     "status": "completed"
    },
    "tags": []
   },
   "outputs": [],
   "source": [
    "# EXCLUDE CERTAIN SUBGROUPS\n",
    "# ----------------------\n",
    "\n",
    "mode = universe.get(\"exclude_subgroups\", \"keep-all\") \n",
    "# Fetches the exclude_subgroups setting from the universe dict.\n",
    "# Defaults to \"keep-all\" if the key is missing."
   ]
  },
  {
   "cell_type": "code",
   "execution_count": 37,
   "id": "21994072",
   "metadata": {
    "execution": {
     "iopub.execute_input": "2025-07-30T20:57:55.343505Z",
     "iopub.status.busy": "2025-07-30T20:57:55.342586Z",
     "iopub.status.idle": "2025-07-30T20:57:55.349336Z",
     "shell.execute_reply": "2025-07-30T20:57:55.348554Z"
    },
    "papermill": {
     "duration": 0.030254,
     "end_time": "2025-07-30T20:57:55.350746",
     "exception": false,
     "start_time": "2025-07-30T20:57:55.320492",
     "status": "completed"
    },
    "tags": []
   },
   "outputs": [],
   "source": [
    "if mode == \"keep-all\":\n",
    "    keep_mask = pd.Series(True, index=org_train.index)\n",
    "\n",
    "# org_train contains the original feature columns from features_org (in Simson)\n",
    "# features_org contains unprocessed features, for me X_train at beginning ???\n",
    "# For keep-all, creates a boolean Series (keep_mask) of all True, so no rows are removed.\n",
    "\n",
    "elif mode == \"drop-non-german\":\n",
    "    keep_mask = org_train[\"maxdeutsch1\"] == 1 # ??? what about missing values?\n",
    "\n",
    "else:\n",
    "    raise ValueError(f\"Unsupported mode for exclude_subgroups: {mode}\")\n"
   ]
  },
  {
   "cell_type": "code",
   "execution_count": 38,
   "id": "71651440",
   "metadata": {
    "execution": {
     "iopub.execute_input": "2025-07-30T20:57:55.394582Z",
     "iopub.status.busy": "2025-07-30T20:57:55.394051Z",
     "iopub.status.idle": "2025-07-30T20:57:55.400958Z",
     "shell.execute_reply": "2025-07-30T20:57:55.400104Z"
    },
    "papermill": {
     "duration": 0.030784,
     "end_time": "2025-07-30T20:57:55.402600",
     "exception": false,
     "start_time": "2025-07-30T20:57:55.371816",
     "status": "completed"
    },
    "tags": []
   },
   "outputs": [
    {
     "name": "stdout",
     "output_type": "stream",
     "text": [
      "Dropping 665 rows (13.30%) where mode='drop-non-german'\n"
     ]
    }
   ],
   "source": [
    "n_drop = (~keep_mask).sum() # Calculates how many rows are set to be dropped\n",
    "if n_drop > 0:\n",
    "    pct = n_drop / len(keep_mask) * 100\n",
    "    print(f\"Dropping {n_drop} rows ({pct:.2f}%) where mode='{mode}'\")"
   ]
  },
  {
   "cell_type": "code",
   "execution_count": 39,
   "id": "5fb8eee5",
   "metadata": {
    "execution": {
     "iopub.execute_input": "2025-07-30T20:57:55.447552Z",
     "iopub.status.busy": "2025-07-30T20:57:55.446907Z",
     "iopub.status.idle": "2025-07-30T20:57:55.454744Z",
     "shell.execute_reply": "2025-07-30T20:57:55.453951Z"
    },
    "papermill": {
     "duration": 0.03212,
     "end_time": "2025-07-30T20:57:55.456421",
     "exception": false,
     "start_time": "2025-07-30T20:57:55.424301",
     "status": "completed"
    },
    "tags": []
   },
   "outputs": [],
   "source": [
    "X_train = X_train[keep_mask]"
   ]
  },
  {
   "cell_type": "code",
   "execution_count": 40,
   "id": "b202bb3a",
   "metadata": {
    "execution": {
     "iopub.execute_input": "2025-07-30T20:57:55.501217Z",
     "iopub.status.busy": "2025-07-30T20:57:55.500563Z",
     "iopub.status.idle": "2025-07-30T20:57:55.506678Z",
     "shell.execute_reply": "2025-07-30T20:57:55.505878Z"
    },
    "papermill": {
     "duration": 0.030231,
     "end_time": "2025-07-30T20:57:55.508259",
     "exception": false,
     "start_time": "2025-07-30T20:57:55.478028",
     "status": "completed"
    },
    "tags": []
   },
   "outputs": [],
   "source": [
    "y_train = y_train[keep_mask]"
   ]
  },
  {
   "cell_type": "markdown",
   "id": "493e2ac3",
   "metadata": {
    "papermill": {
     "duration": 0.022533,
     "end_time": "2025-07-30T20:57:55.554415",
     "exception": false,
     "start_time": "2025-07-30T20:57:55.531882",
     "status": "completed"
    },
    "tags": []
   },
   "source": [
    "# Model Training"
   ]
  },
  {
   "cell_type": "code",
   "execution_count": 41,
   "id": "679e1268",
   "metadata": {
    "execution": {
     "iopub.execute_input": "2025-07-30T20:57:55.602185Z",
     "iopub.status.busy": "2025-07-30T20:57:55.601145Z",
     "iopub.status.idle": "2025-07-30T20:57:55.705284Z",
     "shell.execute_reply": "2025-07-30T20:57:55.704439Z"
    },
    "papermill": {
     "duration": 0.128798,
     "end_time": "2025-07-30T20:57:55.707279",
     "exception": false,
     "start_time": "2025-07-30T20:57:55.578481",
     "status": "completed"
    },
    "tags": []
   },
   "outputs": [],
   "source": [
    "from sklearn.linear_model import LogisticRegression\n",
    "from sklearn.ensemble import GradientBoostingClassifier, RandomForestClassifier\n",
    "\n",
    "if (universe[\"model\"] == \"logreg\"):\n",
    "    model = LogisticRegression() #penalty=\"none\") #, solver=\"newton-cg\", max_iter=1) # include random_state=19 ?\n",
    "elif (universe[\"model\"] == \"penalized_logreg\"):\n",
    "    model = LogisticRegression(penalty=\"l2\", C=1.0) #, solver=\"newton-cg\", max_iter=1)\n",
    "elif (universe[\"model\"] == \"rf\"):\n",
    "    model = RandomForestClassifier(n_estimators=100, n_jobs=-1)\n",
    "elif (universe[\"model\"] == \"gbm\"):\n",
    "    model = GradientBoostingClassifier()\n",
    "elif (universe[\"model\"] == \"elasticnet\"):\n",
    "    model = LogisticRegression(penalty = 'elasticnet', solver = 'saga', l1_ratio = 0.5, max_iter=5000) # which solver to use?\n",
    "else:\n",
    "    raise \"Unsupported universe.model\""
   ]
  },
  {
   "cell_type": "code",
   "execution_count": 42,
   "id": "0cc8f744",
   "metadata": {
    "execution": {
     "iopub.execute_input": "2025-07-30T20:57:55.752491Z",
     "iopub.status.busy": "2025-07-30T20:57:55.752126Z",
     "iopub.status.idle": "2025-07-30T20:57:55.757843Z",
     "shell.execute_reply": "2025-07-30T20:57:55.757013Z"
    },
    "papermill": {
     "duration": 0.03035,
     "end_time": "2025-07-30T20:57:55.759310",
     "exception": false,
     "start_time": "2025-07-30T20:57:55.728960",
     "status": "completed"
    },
    "tags": []
   },
   "outputs": [],
   "source": [
    "import numpy as np\n",
    "from sklearn.pipeline import Pipeline\n",
    "from sklearn.preprocessing import StandardScaler\n",
    "\n",
    "model = Pipeline([\n",
    "    #(\"continuous_processor\", continuous_processor),\n",
    "    #(\"categorical_preprocessor\", categorical_preprocessor),\n",
    "    (\"scale\", StandardScaler() if universe[\"scale\"] == \"scale\" else None), \n",
    "    (\"model\", model),\n",
    "])"
   ]
  },
  {
   "cell_type": "code",
   "execution_count": 43,
   "id": "9442c04d",
   "metadata": {
    "execution": {
     "iopub.execute_input": "2025-07-30T20:57:55.805574Z",
     "iopub.status.busy": "2025-07-30T20:57:55.805104Z",
     "iopub.status.idle": "2025-07-30T20:57:55.932943Z",
     "shell.execute_reply": "2025-07-30T20:57:55.931981Z"
    },
    "papermill": {
     "duration": 0.153991,
     "end_time": "2025-07-30T20:57:55.934562",
     "exception": false,
     "start_time": "2025-07-30T20:57:55.780571",
     "status": "completed"
    },
    "tags": []
   },
   "outputs": [
    {
     "name": "stderr",
     "output_type": "stream",
     "text": [
      "/dss/dsshome1/0C/ra93lal2/.local/share/virtualenvs/CMA_Fairness_v2-3j10GkSs/lib/python3.10/site-packages/sklearn/linear_model/_logistic.py:444: ConvergenceWarning: lbfgs failed to converge (status=1):\n",
      "STOP: TOTAL NO. of ITERATIONS REACHED LIMIT.\n",
      "\n",
      "Increase the number of iterations (max_iter) or scale the data as shown in:\n",
      "    https://scikit-learn.org/stable/modules/preprocessing.html\n",
      "Please also refer to the documentation for alternative solver options:\n",
      "    https://scikit-learn.org/stable/modules/linear_model.html#logistic-regression\n",
      "  n_iter_i = _check_optimize_result(\n"
     ]
    },
    {
     "data": {
      "text/html": [
       "<style>#sk-container-id-1 {color: black;background-color: white;}#sk-container-id-1 pre{padding: 0;}#sk-container-id-1 div.sk-toggleable {background-color: white;}#sk-container-id-1 label.sk-toggleable__label {cursor: pointer;display: block;width: 100%;margin-bottom: 0;padding: 0.3em;box-sizing: border-box;text-align: center;}#sk-container-id-1 label.sk-toggleable__label-arrow:before {content: \"▸\";float: left;margin-right: 0.25em;color: #696969;}#sk-container-id-1 label.sk-toggleable__label-arrow:hover:before {color: black;}#sk-container-id-1 div.sk-estimator:hover label.sk-toggleable__label-arrow:before {color: black;}#sk-container-id-1 div.sk-toggleable__content {max-height: 0;max-width: 0;overflow: hidden;text-align: left;background-color: #f0f8ff;}#sk-container-id-1 div.sk-toggleable__content pre {margin: 0.2em;color: black;border-radius: 0.25em;background-color: #f0f8ff;}#sk-container-id-1 input.sk-toggleable__control:checked~div.sk-toggleable__content {max-height: 200px;max-width: 100%;overflow: auto;}#sk-container-id-1 input.sk-toggleable__control:checked~label.sk-toggleable__label-arrow:before {content: \"▾\";}#sk-container-id-1 div.sk-estimator input.sk-toggleable__control:checked~label.sk-toggleable__label {background-color: #d4ebff;}#sk-container-id-1 div.sk-label input.sk-toggleable__control:checked~label.sk-toggleable__label {background-color: #d4ebff;}#sk-container-id-1 input.sk-hidden--visually {border: 0;clip: rect(1px 1px 1px 1px);clip: rect(1px, 1px, 1px, 1px);height: 1px;margin: -1px;overflow: hidden;padding: 0;position: absolute;width: 1px;}#sk-container-id-1 div.sk-estimator {font-family: monospace;background-color: #f0f8ff;border: 1px dotted black;border-radius: 0.25em;box-sizing: border-box;margin-bottom: 0.5em;}#sk-container-id-1 div.sk-estimator:hover {background-color: #d4ebff;}#sk-container-id-1 div.sk-parallel-item::after {content: \"\";width: 100%;border-bottom: 1px solid gray;flex-grow: 1;}#sk-container-id-1 div.sk-label:hover label.sk-toggleable__label {background-color: #d4ebff;}#sk-container-id-1 div.sk-serial::before {content: \"\";position: absolute;border-left: 1px solid gray;box-sizing: border-box;top: 0;bottom: 0;left: 50%;z-index: 0;}#sk-container-id-1 div.sk-serial {display: flex;flex-direction: column;align-items: center;background-color: white;padding-right: 0.2em;padding-left: 0.2em;position: relative;}#sk-container-id-1 div.sk-item {position: relative;z-index: 1;}#sk-container-id-1 div.sk-parallel {display: flex;align-items: stretch;justify-content: center;background-color: white;position: relative;}#sk-container-id-1 div.sk-item::before, #sk-container-id-1 div.sk-parallel-item::before {content: \"\";position: absolute;border-left: 1px solid gray;box-sizing: border-box;top: 0;bottom: 0;left: 50%;z-index: -1;}#sk-container-id-1 div.sk-parallel-item {display: flex;flex-direction: column;z-index: 1;position: relative;background-color: white;}#sk-container-id-1 div.sk-parallel-item:first-child::after {align-self: flex-end;width: 50%;}#sk-container-id-1 div.sk-parallel-item:last-child::after {align-self: flex-start;width: 50%;}#sk-container-id-1 div.sk-parallel-item:only-child::after {width: 0;}#sk-container-id-1 div.sk-dashed-wrapped {border: 1px dashed gray;margin: 0 0.4em 0.5em 0.4em;box-sizing: border-box;padding-bottom: 0.4em;background-color: white;}#sk-container-id-1 div.sk-label label {font-family: monospace;font-weight: bold;display: inline-block;line-height: 1.2em;}#sk-container-id-1 div.sk-label-container {text-align: center;}#sk-container-id-1 div.sk-container {/* jupyter's `normalize.less` sets `[hidden] { display: none; }` but bootstrap.min.css set `[hidden] { display: none !important; }` so we also need the `!important` here to be able to override the default hidden behavior on the sphinx rendered scikit-learn.org. See: https://github.com/scikit-learn/scikit-learn/issues/21755 */display: inline-block !important;position: relative;}#sk-container-id-1 div.sk-text-repr-fallback {display: none;}</style><div id=\"sk-container-id-1\" class=\"sk-top-container\"><div class=\"sk-text-repr-fallback\"><pre>Pipeline(steps=[(&#x27;scale&#x27;, StandardScaler()), (&#x27;model&#x27;, LogisticRegression())])</pre><b>In a Jupyter environment, please rerun this cell to show the HTML representation or trust the notebook. <br />On GitHub, the HTML representation is unable to render, please try loading this page with nbviewer.org.</b></div><div class=\"sk-container\" hidden><div class=\"sk-item sk-dashed-wrapped\"><div class=\"sk-label-container\"><div class=\"sk-label sk-toggleable\"><input class=\"sk-toggleable__control sk-hidden--visually\" id=\"sk-estimator-id-1\" type=\"checkbox\" ><label for=\"sk-estimator-id-1\" class=\"sk-toggleable__label sk-toggleable__label-arrow\">Pipeline</label><div class=\"sk-toggleable__content\"><pre>Pipeline(steps=[(&#x27;scale&#x27;, StandardScaler()), (&#x27;model&#x27;, LogisticRegression())])</pre></div></div></div><div class=\"sk-serial\"><div class=\"sk-item\"><div class=\"sk-estimator sk-toggleable\"><input class=\"sk-toggleable__control sk-hidden--visually\" id=\"sk-estimator-id-2\" type=\"checkbox\" ><label for=\"sk-estimator-id-2\" class=\"sk-toggleable__label sk-toggleable__label-arrow\">StandardScaler</label><div class=\"sk-toggleable__content\"><pre>StandardScaler()</pre></div></div></div><div class=\"sk-item\"><div class=\"sk-estimator sk-toggleable\"><input class=\"sk-toggleable__control sk-hidden--visually\" id=\"sk-estimator-id-3\" type=\"checkbox\" ><label for=\"sk-estimator-id-3\" class=\"sk-toggleable__label sk-toggleable__label-arrow\">LogisticRegression</label><div class=\"sk-toggleable__content\"><pre>LogisticRegression()</pre></div></div></div></div></div></div></div>"
      ],
      "text/plain": [
       "Pipeline(steps=[('scale', StandardScaler()), ('model', LogisticRegression())])"
      ]
     },
     "execution_count": 43,
     "metadata": {},
     "output_type": "execute_result"
    }
   ],
   "source": [
    "model.fit(X_train, y_train.values.ravel())"
   ]
  },
  {
   "cell_type": "code",
   "execution_count": 44,
   "id": "af59f8c0",
   "metadata": {
    "execution": {
     "iopub.execute_input": "2025-07-30T20:57:55.981219Z",
     "iopub.status.busy": "2025-07-30T20:57:55.980525Z",
     "iopub.status.idle": "2025-07-30T20:57:55.985864Z",
     "shell.execute_reply": "2025-07-30T20:57:55.984852Z"
    },
    "papermill": {
     "duration": 0.030582,
     "end_time": "2025-07-30T20:57:55.987590",
     "exception": false,
     "start_time": "2025-07-30T20:57:55.957008",
     "status": "completed"
    },
    "tags": []
   },
   "outputs": [],
   "source": [
    "from fairness_multiverse.universe import predict_w_threshold"
   ]
  },
  {
   "cell_type": "code",
   "execution_count": 45,
   "id": "a7cf2e16",
   "metadata": {
    "execution": {
     "iopub.execute_input": "2025-07-30T20:57:56.034266Z",
     "iopub.status.busy": "2025-07-30T20:57:56.033612Z",
     "iopub.status.idle": "2025-07-30T20:57:56.216019Z",
     "shell.execute_reply": "2025-07-30T20:57:56.215043Z"
    },
    "papermill": {
     "duration": 0.207307,
     "end_time": "2025-07-30T20:57:56.217731",
     "exception": false,
     "start_time": "2025-07-30T20:57:56.010424",
     "status": "completed"
    },
    "tags": []
   },
   "outputs": [
    {
     "data": {
      "text/plain": [
       "0.8575632593913722"
      ]
     },
     "execution_count": 45,
     "metadata": {},
     "output_type": "execute_result"
    }
   ],
   "source": [
    "probs_test = model.predict_proba(X_test)\n",
    "\n",
    "'''\n",
    "Below code returns a boolean array (or binary 0/1 array depending on how it’s used) where each element \n",
    "is True if the probability of class 1 is greater than or equal to the threshold, and False otherwise.\n",
    "'''\n",
    "y_pred_default = predict_w_threshold(probs_test, 0.5)\n",
    "\n",
    "from sklearn.metrics import accuracy_score\n",
    "\n",
    "# Naive prediction\n",
    "accuracy_score(y_true = y_true, y_pred = y_pred_default)"
   ]
  },
  {
   "cell_type": "code",
   "execution_count": 46,
   "id": "081964c3",
   "metadata": {
    "execution": {
     "iopub.execute_input": "2025-07-30T20:57:56.264384Z",
     "iopub.status.busy": "2025-07-30T20:57:56.263697Z",
     "iopub.status.idle": "2025-07-30T20:57:56.434713Z",
     "shell.execute_reply": "2025-07-30T20:57:56.433827Z"
    },
    "papermill": {
     "duration": 0.195902,
     "end_time": "2025-07-30T20:57:56.436327",
     "exception": false,
     "start_time": "2025-07-30T20:57:56.240425",
     "status": "completed"
    },
    "tags": []
   },
   "outputs": [
    {
     "data": {
      "text/plain": [
       "array([0, 0, 0, ..., 0, 0, 0])"
      ]
     },
     "execution_count": 46,
     "metadata": {},
     "output_type": "execute_result"
    }
   ],
   "source": [
    "model.predict(X_test)"
   ]
  },
  {
   "cell_type": "markdown",
   "id": "56c9705b",
   "metadata": {
    "papermill": {
     "duration": 0.022384,
     "end_time": "2025-07-30T20:57:56.481335",
     "exception": false,
     "start_time": "2025-07-30T20:57:56.458951",
     "status": "completed"
    },
    "tags": []
   },
   "source": [
    "# Conformal Prediction"
   ]
  },
  {
   "cell_type": "code",
   "execution_count": 47,
   "id": "160ec6ff",
   "metadata": {
    "execution": {
     "iopub.execute_input": "2025-07-30T20:57:56.527790Z",
     "iopub.status.busy": "2025-07-30T20:57:56.527138Z",
     "iopub.status.idle": "2025-07-30T20:57:56.532188Z",
     "shell.execute_reply": "2025-07-30T20:57:56.531371Z"
    },
    "papermill": {
     "duration": 0.029952,
     "end_time": "2025-07-30T20:57:56.533646",
     "exception": false,
     "start_time": "2025-07-30T20:57:56.503694",
     "status": "completed"
    },
    "tags": []
   },
   "outputs": [],
   "source": [
    "# Miscoverage level for conformal prediction (10% allowed error rate => 90% target coverage)\n",
    "alpha = 0.1"
   ]
  },
  {
   "cell_type": "code",
   "execution_count": 48,
   "id": "eadf4555-3dd3-440e-8e35-f82a4ad9f855",
   "metadata": {
    "execution": {
     "iopub.execute_input": "2025-07-30T20:57:56.578996Z",
     "iopub.status.busy": "2025-07-30T20:57:56.578384Z",
     "iopub.status.idle": "2025-07-30T20:57:56.746437Z",
     "shell.execute_reply": "2025-07-30T20:57:56.745436Z"
    },
    "papermill": {
     "duration": 0.192768,
     "end_time": "2025-07-30T20:57:56.748474",
     "exception": false,
     "start_time": "2025-07-30T20:57:56.555706",
     "status": "completed"
    },
    "tags": []
   },
   "outputs": [],
   "source": [
    "probs_calib = model.predict_proba(X_calib)"
   ]
  },
  {
   "cell_type": "code",
   "execution_count": 49,
   "id": "2ed93547-6d5d-4983-9b36-1ecb300da49a",
   "metadata": {
    "execution": {
     "iopub.execute_input": "2025-07-30T20:57:56.802928Z",
     "iopub.status.busy": "2025-07-30T20:57:56.802569Z",
     "iopub.status.idle": "2025-07-30T20:57:56.808500Z",
     "shell.execute_reply": "2025-07-30T20:57:56.807566Z"
    },
    "papermill": {
     "duration": 0.036539,
     "end_time": "2025-07-30T20:57:56.810035",
     "exception": false,
     "start_time": "2025-07-30T20:57:56.773496",
     "status": "completed"
    },
    "tags": []
   },
   "outputs": [],
   "source": [
    "y_calib = y_calib.values.ravel().astype(int)"
   ]
  },
  {
   "cell_type": "code",
   "execution_count": 50,
   "id": "65d1320d-f588-4b38-9072-62af1ae97f7d",
   "metadata": {
    "execution": {
     "iopub.execute_input": "2025-07-30T20:57:56.856973Z",
     "iopub.status.busy": "2025-07-30T20:57:56.856361Z",
     "iopub.status.idle": "2025-07-30T20:57:56.863095Z",
     "shell.execute_reply": "2025-07-30T20:57:56.862242Z"
    },
    "papermill": {
     "duration": 0.03113,
     "end_time": "2025-07-30T20:57:56.864631",
     "exception": false,
     "start_time": "2025-07-30T20:57:56.833501",
     "status": "completed"
    },
    "tags": []
   },
   "outputs": [],
   "source": [
    "from fairness_multiverse.conformal import compute_nc_scores\n",
    "\n",
    "# Compute nonconformity scores on calibration set (1 - probability of true class)\n",
    "nc_scores = compute_nc_scores(probs_calib, y_calib)"
   ]
  },
  {
   "cell_type": "code",
   "execution_count": 51,
   "id": "df3b8ca3-53b7-43d5-9667-7c85da7aeda2",
   "metadata": {
    "execution": {
     "iopub.execute_input": "2025-07-30T20:57:56.910370Z",
     "iopub.status.busy": "2025-07-30T20:57:56.910016Z",
     "iopub.status.idle": "2025-07-30T20:57:56.916483Z",
     "shell.execute_reply": "2025-07-30T20:57:56.915553Z"
    },
    "papermill": {
     "duration": 0.031107,
     "end_time": "2025-07-30T20:57:56.917980",
     "exception": false,
     "start_time": "2025-07-30T20:57:56.886873",
     "status": "completed"
    },
    "tags": []
   },
   "outputs": [],
   "source": [
    "from fairness_multiverse.conformal import find_threshold\n",
    "\n",
    "# Find conformal threshold q_hat for the given alpha (split conformal method)\n",
    "q_hat = find_threshold(nc_scores, alpha)"
   ]
  },
  {
   "cell_type": "code",
   "execution_count": 52,
   "id": "4d29e6c1-0ef6-4aa4-b8fe-4fe79b0d033a",
   "metadata": {
    "execution": {
     "iopub.execute_input": "2025-07-30T20:57:56.963734Z",
     "iopub.status.busy": "2025-07-30T20:57:56.963207Z",
     "iopub.status.idle": "2025-07-30T20:57:56.970411Z",
     "shell.execute_reply": "2025-07-30T20:57:56.969493Z"
    },
    "papermill": {
     "duration": 0.031648,
     "end_time": "2025-07-30T20:57:56.972093",
     "exception": false,
     "start_time": "2025-07-30T20:57:56.940445",
     "status": "completed"
    },
    "tags": []
   },
   "outputs": [
    {
     "data": {
      "text/plain": [
       "0.6925440308075176"
      ]
     },
     "execution_count": 52,
     "metadata": {},
     "output_type": "execute_result"
    }
   ],
   "source": [
    "q_hat"
   ]
  },
  {
   "cell_type": "code",
   "execution_count": 53,
   "id": "92460794-cdac-4be2-ba28-f28c0515a6fb",
   "metadata": {
    "execution": {
     "iopub.execute_input": "2025-07-30T20:57:57.018501Z",
     "iopub.status.busy": "2025-07-30T20:57:57.017883Z",
     "iopub.status.idle": "2025-07-30T20:57:57.881698Z",
     "shell.execute_reply": "2025-07-30T20:57:57.880780Z"
    },
    "papermill": {
     "duration": 0.888939,
     "end_time": "2025-07-30T20:57:57.883555",
     "exception": false,
     "start_time": "2025-07-30T20:57:56.994616",
     "status": "completed"
    },
    "tags": []
   },
   "outputs": [],
   "source": [
    "from fairness_multiverse.conformal import predict_conformal_sets\n",
    "\n",
    "# Generate prediction sets for each test example\n",
    "pred_sets = predict_conformal_sets(model, X_test, q_hat)"
   ]
  },
  {
   "cell_type": "code",
   "execution_count": 54,
   "id": "d90c9a65-e6db-4f5d-80cd-e68fb7e46829",
   "metadata": {
    "execution": {
     "iopub.execute_input": "2025-07-30T20:57:57.947816Z",
     "iopub.status.busy": "2025-07-30T20:57:57.947072Z",
     "iopub.status.idle": "2025-07-30T20:57:57.952728Z",
     "shell.execute_reply": "2025-07-30T20:57:57.951689Z"
    },
    "papermill": {
     "duration": 0.03109,
     "end_time": "2025-07-30T20:57:57.954213",
     "exception": false,
     "start_time": "2025-07-30T20:57:57.923123",
     "status": "completed"
    },
    "tags": []
   },
   "outputs": [],
   "source": [
    "y_true = y_true.squeeze()"
   ]
  },
  {
   "cell_type": "code",
   "execution_count": 55,
   "id": "3a58a54a-1e68-46b9-927a-df01f18aebc8",
   "metadata": {
    "execution": {
     "iopub.execute_input": "2025-07-30T20:57:58.003549Z",
     "iopub.status.busy": "2025-07-30T20:57:58.003111Z",
     "iopub.status.idle": "2025-07-30T20:57:58.893079Z",
     "shell.execute_reply": "2025-07-30T20:57:58.892124Z"
    },
    "papermill": {
     "duration": 0.915616,
     "end_time": "2025-07-30T20:57:58.894615",
     "exception": false,
     "start_time": "2025-07-30T20:57:57.978999",
     "status": "completed"
    },
    "tags": []
   },
   "outputs": [],
   "source": [
    "from fairness_multiverse.conformal import evaluate_sets\n",
    "\n",
    "# Evaluate coverage and average set size on test data\n",
    "metrics = evaluate_sets(pred_sets, y_true)"
   ]
  },
  {
   "cell_type": "markdown",
   "id": "2b569c12-9aaa-4c88-98c9-bbcd0cf3ebb8",
   "metadata": {
    "papermill": {
     "duration": 0.022986,
     "end_time": "2025-07-30T20:57:58.940896",
     "exception": false,
     "start_time": "2025-07-30T20:57:58.917910",
     "status": "completed"
    },
    "tags": []
   },
   "source": [
    "# CP Metrics"
   ]
  },
  {
   "cell_type": "code",
   "execution_count": 56,
   "id": "5ce0a5cb-201f-45a0-ade5-94c7f0bd6095",
   "metadata": {
    "execution": {
     "iopub.execute_input": "2025-07-30T20:57:58.993180Z",
     "iopub.status.busy": "2025-07-30T20:57:58.992693Z",
     "iopub.status.idle": "2025-07-30T20:57:58.999766Z",
     "shell.execute_reply": "2025-07-30T20:57:58.998864Z"
    },
    "papermill": {
     "duration": 0.036706,
     "end_time": "2025-07-30T20:57:59.001364",
     "exception": false,
     "start_time": "2025-07-30T20:57:58.964658",
     "status": "completed"
    },
    "tags": []
   },
   "outputs": [
    {
     "data": {
      "text/plain": [
       "{'coverage': 0.9103890313231524, 'avg_size': 1.1355701705495485}"
      ]
     },
     "execution_count": 56,
     "metadata": {},
     "output_type": "execute_result"
    }
   ],
   "source": [
    "metrics"
   ]
  },
  {
   "cell_type": "code",
   "execution_count": 57,
   "id": "9b9a838d-31c9-430b-ae14-12baee460d17",
   "metadata": {
    "execution": {
     "iopub.execute_input": "2025-07-30T20:57:59.055468Z",
     "iopub.status.busy": "2025-07-30T20:57:59.054874Z",
     "iopub.status.idle": "2025-07-30T20:57:59.062839Z",
     "shell.execute_reply": "2025-07-30T20:57:59.061792Z"
    },
    "papermill": {
     "duration": 0.036412,
     "end_time": "2025-07-30T20:57:59.064702",
     "exception": false,
     "start_time": "2025-07-30T20:57:59.028290",
     "status": "completed"
    },
    "tags": []
   },
   "outputs": [],
   "source": [
    "example_universe = universe.copy()\n",
    "universe_training_year = example_universe.get(\"training_year\")\n",
    "universe_training_size = example_universe.get(\"training_size\")\n",
    "universe_scale = example_universe.get(\"scale\")\n",
    "universe_model = example_universe.get(\"model\")\n",
    "universe_exclude_features = example_universe.get(\"exclude_features\")\n",
    "universe_exclude_subgroups = example_universe.get(\"exclude_subgroups\")"
   ]
  },
  {
   "cell_type": "code",
   "execution_count": 58,
   "id": "f4b6a8ac-9dc0-4245-8a91-5b3b5999c4f9",
   "metadata": {
    "execution": {
     "iopub.execute_input": "2025-07-30T20:57:59.118902Z",
     "iopub.status.busy": "2025-07-30T20:57:59.118419Z",
     "iopub.status.idle": "2025-07-30T20:57:59.125323Z",
     "shell.execute_reply": "2025-07-30T20:57:59.124380Z"
    },
    "papermill": {
     "duration": 0.034992,
     "end_time": "2025-07-30T20:57:59.126959",
     "exception": false,
     "start_time": "2025-07-30T20:57:59.091967",
     "status": "completed"
    },
    "tags": []
   },
   "outputs": [],
   "source": [
    "cp_metrics_dict = {\n",
    "    \"universe_id\": [universe_id],\n",
    "    \"universe_training_year\": [universe_training_year],\n",
    "    \"universe_training_size\": [universe_training_size],\n",
    "    \"universe_scale\": [universe_scale],\n",
    "    \"universe_model\": [universe_model],\n",
    "    \"universe_exclude_features\": [universe_exclude_features],\n",
    "    \"universe_exclude_subgroups\": [universe_exclude_subgroups],\n",
    "    \"q_hat\": [q_hat],\n",
    "    \"coverage\": [metrics[\"coverage\"]],\n",
    "    \"avg_size\": [metrics[\"avg_size\"]],\n",
    "}"
   ]
  },
  {
   "cell_type": "code",
   "execution_count": 59,
   "id": "908acbb1-0371-4915-85ca-3fa520d2efe2",
   "metadata": {
    "execution": {
     "iopub.execute_input": "2025-07-30T20:57:59.180751Z",
     "iopub.status.busy": "2025-07-30T20:57:59.180406Z",
     "iopub.status.idle": "2025-07-30T20:57:59.186779Z",
     "shell.execute_reply": "2025-07-30T20:57:59.186017Z"
    },
    "papermill": {
     "duration": 0.03477,
     "end_time": "2025-07-30T20:57:59.188200",
     "exception": false,
     "start_time": "2025-07-30T20:57:59.153430",
     "status": "completed"
    },
    "tags": []
   },
   "outputs": [
    {
     "data": {
      "text/plain": [
       "{'universe_id': ['d83accff9f2300ff7a9ca2d052b5f0f9'],\n",
       " 'universe_training_year': ['2012_14'],\n",
       " 'universe_training_size': ['5k'],\n",
       " 'universe_scale': ['scale'],\n",
       " 'universe_model': ['logreg'],\n",
       " 'universe_exclude_features': ['nationality-sex'],\n",
       " 'universe_exclude_subgroups': ['drop-non-german'],\n",
       " 'q_hat': [0.6925440308075176],\n",
       " 'coverage': [0.9103890313231524],\n",
       " 'avg_size': [1.1355701705495485]}"
      ]
     },
     "execution_count": 59,
     "metadata": {},
     "output_type": "execute_result"
    }
   ],
   "source": [
    "cp_metrics_dict"
   ]
  },
  {
   "cell_type": "code",
   "execution_count": 60,
   "id": "33007efc-14e9-4ec6-97ac-56a455c82265",
   "metadata": {
    "execution": {
     "iopub.execute_input": "2025-07-30T20:57:59.218265Z",
     "iopub.status.busy": "2025-07-30T20:57:59.217835Z",
     "iopub.status.idle": "2025-07-30T20:57:59.239550Z",
     "shell.execute_reply": "2025-07-30T20:57:59.238752Z"
    },
    "papermill": {
     "duration": 0.038255,
     "end_time": "2025-07-30T20:57:59.240956",
     "exception": false,
     "start_time": "2025-07-30T20:57:59.202701",
     "status": "completed"
    },
    "tags": []
   },
   "outputs": [],
   "source": [
    "cp_metrics_df = pd.DataFrame(cp_metrics_dict)"
   ]
  },
  {
   "cell_type": "code",
   "execution_count": 61,
   "id": "db12611b-57b2-4910-b9d0-355adfd6e7bf",
   "metadata": {
    "execution": {
     "iopub.execute_input": "2025-07-30T20:57:59.268715Z",
     "iopub.status.busy": "2025-07-30T20:57:59.268149Z",
     "iopub.status.idle": "2025-07-30T20:57:59.286420Z",
     "shell.execute_reply": "2025-07-30T20:57:59.285535Z"
    },
    "papermill": {
     "duration": 0.032924,
     "end_time": "2025-07-30T20:57:59.287535",
     "exception": false,
     "start_time": "2025-07-30T20:57:59.254611",
     "status": "completed"
    },
    "tags": []
   },
   "outputs": [
    {
     "data": {
      "text/html": [
       "<div>\n",
       "<style scoped>\n",
       "    .dataframe tbody tr th:only-of-type {\n",
       "        vertical-align: middle;\n",
       "    }\n",
       "\n",
       "    .dataframe tbody tr th {\n",
       "        vertical-align: top;\n",
       "    }\n",
       "\n",
       "    .dataframe thead th {\n",
       "        text-align: right;\n",
       "    }\n",
       "</style>\n",
       "<table border=\"1\" class=\"dataframe\">\n",
       "  <thead>\n",
       "    <tr style=\"text-align: right;\">\n",
       "      <th></th>\n",
       "      <th>universe_id</th>\n",
       "      <th>universe_training_year</th>\n",
       "      <th>universe_training_size</th>\n",
       "      <th>universe_scale</th>\n",
       "      <th>universe_model</th>\n",
       "      <th>universe_exclude_features</th>\n",
       "      <th>universe_exclude_subgroups</th>\n",
       "      <th>q_hat</th>\n",
       "      <th>coverage</th>\n",
       "      <th>avg_size</th>\n",
       "    </tr>\n",
       "  </thead>\n",
       "  <tbody>\n",
       "    <tr>\n",
       "      <th>0</th>\n",
       "      <td>d83accff9f2300ff7a9ca2d052b5f0f9</td>\n",
       "      <td>2012_14</td>\n",
       "      <td>5k</td>\n",
       "      <td>scale</td>\n",
       "      <td>logreg</td>\n",
       "      <td>nationality-sex</td>\n",
       "      <td>drop-non-german</td>\n",
       "      <td>0.692544</td>\n",
       "      <td>0.910389</td>\n",
       "      <td>1.13557</td>\n",
       "    </tr>\n",
       "  </tbody>\n",
       "</table>\n",
       "</div>"
      ],
      "text/plain": [
       "                        universe_id universe_training_year  \\\n",
       "0  d83accff9f2300ff7a9ca2d052b5f0f9                2012_14   \n",
       "\n",
       "  universe_training_size universe_scale universe_model  \\\n",
       "0                     5k          scale         logreg   \n",
       "\n",
       "  universe_exclude_features universe_exclude_subgroups     q_hat  coverage  \\\n",
       "0           nationality-sex            drop-non-german  0.692544  0.910389   \n",
       "\n",
       "   avg_size  \n",
       "0   1.13557  "
      ]
     },
     "execution_count": 61,
     "metadata": {},
     "output_type": "execute_result"
    }
   ],
   "source": [
    "cp_metrics_df"
   ]
  },
  {
   "cell_type": "code",
   "execution_count": 62,
   "id": "b7fbde55-a0a1-47e4-9af6-fe4a17fa8c61",
   "metadata": {
    "execution": {
     "iopub.execute_input": "2025-07-30T20:57:59.318369Z",
     "iopub.status.busy": "2025-07-30T20:57:59.318019Z",
     "iopub.status.idle": "2025-07-30T20:57:59.322466Z",
     "shell.execute_reply": "2025-07-30T20:57:59.321622Z"
    },
    "papermill": {
     "duration": 0.022162,
     "end_time": "2025-07-30T20:57:59.323643",
     "exception": false,
     "start_time": "2025-07-30T20:57:59.301481",
     "status": "completed"
    },
    "tags": []
   },
   "outputs": [],
   "source": [
    "# Conditional Coverage & looking at subgroups"
   ]
  },
  {
   "cell_type": "code",
   "execution_count": 63,
   "id": "027ae886-68dd-4141-96c7-805a5450e1ef",
   "metadata": {
    "execution": {
     "iopub.execute_input": "2025-07-30T20:57:59.362910Z",
     "iopub.status.busy": "2025-07-30T20:57:59.362047Z",
     "iopub.status.idle": "2025-07-30T20:57:59.641480Z",
     "shell.execute_reply": "2025-07-30T20:57:59.640703Z"
    },
    "papermill": {
     "duration": 0.305681,
     "end_time": "2025-07-30T20:57:59.643627",
     "exception": false,
     "start_time": "2025-07-30T20:57:59.337946",
     "status": "completed"
    },
    "tags": []
   },
   "outputs": [],
   "source": [
    "from fairness_multiverse.conformal import build_cp_groups\n",
    "\n",
    "cp_groups_df = build_cp_groups(pred_sets, y_true, X_test.index, org_test)\n",
    "#needs universe_id and setting"
   ]
  },
  {
   "cell_type": "code",
   "execution_count": 64,
   "id": "01d5802c-663a-4d1f-9d69-e036faaffbf7",
   "metadata": {
    "execution": {
     "iopub.execute_input": "2025-07-30T20:57:59.698026Z",
     "iopub.status.busy": "2025-07-30T20:57:59.697508Z",
     "iopub.status.idle": "2025-07-30T20:57:59.703288Z",
     "shell.execute_reply": "2025-07-30T20:57:59.702206Z"
    },
    "papermill": {
     "duration": 0.032745,
     "end_time": "2025-07-30T20:57:59.705110",
     "exception": false,
     "start_time": "2025-07-30T20:57:59.672365",
     "status": "completed"
    },
    "tags": []
   },
   "outputs": [],
   "source": [
    "#delete\n",
    "#cp_groups_df"
   ]
  },
  {
   "cell_type": "code",
   "execution_count": 65,
   "id": "fa424af1-d1eb-443d-b717-2d279ada8408",
   "metadata": {
    "execution": {
     "iopub.execute_input": "2025-07-30T20:57:59.762957Z",
     "iopub.status.busy": "2025-07-30T20:57:59.762058Z",
     "iopub.status.idle": "2025-07-30T20:57:59.767726Z",
     "shell.execute_reply": "2025-07-30T20:57:59.766644Z"
    },
    "papermill": {
     "duration": 0.036084,
     "end_time": "2025-07-30T20:57:59.769591",
     "exception": false,
     "start_time": "2025-07-30T20:57:59.733507",
     "status": "completed"
    },
    "tags": []
   },
   "outputs": [],
   "source": [
    "#delete\n",
    "#percentage = (cp_groups_df['nongerman_female'] == 1).mean() * 100\n",
    "#print(percentage)\n"
   ]
  },
  {
   "cell_type": "code",
   "execution_count": 66,
   "id": "6cbdab96-b2b2-45af-ad54-d0516db2e28d",
   "metadata": {
    "execution": {
     "iopub.execute_input": "2025-07-30T20:57:59.829453Z",
     "iopub.status.busy": "2025-07-30T20:57:59.828976Z",
     "iopub.status.idle": "2025-07-30T20:58:01.514856Z",
     "shell.execute_reply": "2025-07-30T20:58:01.514119Z"
    },
    "papermill": {
     "duration": 1.717966,
     "end_time": "2025-07-30T20:58:01.516353",
     "exception": false,
     "start_time": "2025-07-30T20:57:59.798387",
     "status": "completed"
    },
    "tags": []
   },
   "outputs": [],
   "source": [
    "# Define covered = 1 if true_label is in the predicted set\n",
    "cp_groups_df['covered'] = cp_groups_df.apply(\n",
    "    lambda r: int(r['true_label'] in r['pred_set']),\n",
    "    axis=1\n",
    ")"
   ]
  },
  {
   "cell_type": "code",
   "execution_count": 67,
   "id": "338ff529-1a6b-4b87-a931-8e4788d52aad",
   "metadata": {
    "execution": {
     "iopub.execute_input": "2025-07-30T20:58:01.546258Z",
     "iopub.status.busy": "2025-07-30T20:58:01.545564Z",
     "iopub.status.idle": "2025-07-30T20:58:01.551904Z",
     "shell.execute_reply": "2025-07-30T20:58:01.550816Z"
    },
    "papermill": {
     "duration": 0.026888,
     "end_time": "2025-07-30T20:58:01.557854",
     "exception": false,
     "start_time": "2025-07-30T20:58:01.530966",
     "status": "completed"
    },
    "tags": []
   },
   "outputs": [],
   "source": [
    "#cp_groups_df"
   ]
  },
  {
   "cell_type": "code",
   "execution_count": 68,
   "id": "90032e27-66df-4540-9169-4e89cfbaa758",
   "metadata": {
    "execution": {
     "iopub.execute_input": "2025-07-30T20:58:01.614977Z",
     "iopub.status.busy": "2025-07-30T20:58:01.614338Z",
     "iopub.status.idle": "2025-07-30T20:58:01.626621Z",
     "shell.execute_reply": "2025-07-30T20:58:01.623248Z"
    },
    "papermill": {
     "duration": 0.042864,
     "end_time": "2025-07-30T20:58:01.628209",
     "exception": false,
     "start_time": "2025-07-30T20:58:01.585345",
     "status": "completed"
    },
    "tags": []
   },
   "outputs": [],
   "source": [
    "subgroups = ['frau1','nongerman','nongerman_male','nongerman_female']\n",
    "\n",
    "# Conditional coverage for subgroup==1\n",
    "cond_coverage = {\n",
    "    g: cp_groups_df.loc[cp_groups_df[g]==1, 'covered'].mean()\n",
    "    for g in subgroups\n",
    "}"
   ]
  },
  {
   "cell_type": "code",
   "execution_count": 69,
   "id": "1e348fb1-b9c3-45bc-ba23-f016827a7e0d",
   "metadata": {
    "execution": {
     "iopub.execute_input": "2025-07-30T20:58:01.687839Z",
     "iopub.status.busy": "2025-07-30T20:58:01.687329Z",
     "iopub.status.idle": "2025-07-30T20:58:01.694993Z",
     "shell.execute_reply": "2025-07-30T20:58:01.693888Z"
    },
    "papermill": {
     "duration": 0.040103,
     "end_time": "2025-07-30T20:58:01.696794",
     "exception": false,
     "start_time": "2025-07-30T20:58:01.656691",
     "status": "completed"
    },
    "tags": []
   },
   "outputs": [
    {
     "data": {
      "text/plain": [
       "{'frau1': 0.9064563957406658,\n",
       " 'nongerman': 0.9069780497389547,\n",
       " 'nongerman_male': 0.924885166171305,\n",
       " 'nongerman_female': 0.8773472429210134}"
      ]
     },
     "execution_count": 69,
     "metadata": {},
     "output_type": "execute_result"
    }
   ],
   "source": [
    "cond_coverage"
   ]
  },
  {
   "cell_type": "code",
   "execution_count": 70,
   "id": "f5093324-c3dd-4d63-bc4c-8d945e5c8bbb",
   "metadata": {
    "execution": {
     "iopub.execute_input": "2025-07-30T20:58:01.754523Z",
     "iopub.status.busy": "2025-07-30T20:58:01.754050Z",
     "iopub.status.idle": "2025-07-30T20:58:01.761530Z",
     "shell.execute_reply": "2025-07-30T20:58:01.760530Z"
    },
    "papermill": {
     "duration": 0.03606,
     "end_time": "2025-07-30T20:58:01.763436",
     "exception": false,
     "start_time": "2025-07-30T20:58:01.727376",
     "status": "completed"
    },
    "tags": []
   },
   "outputs": [],
   "source": [
    "for subgroup, cov in cond_coverage.items():\n",
    "    cp_metrics_df[f\"cov_{subgroup}\"] = cov"
   ]
  },
  {
   "cell_type": "code",
   "execution_count": 71,
   "id": "6e872e10-dbe5-49e8-b554-5030c98ff75d",
   "metadata": {
    "execution": {
     "iopub.execute_input": "2025-07-30T20:58:01.811219Z",
     "iopub.status.busy": "2025-07-30T20:58:01.810753Z",
     "iopub.status.idle": "2025-07-30T20:58:01.832074Z",
     "shell.execute_reply": "2025-07-30T20:58:01.831028Z"
    },
    "papermill": {
     "duration": 0.040435,
     "end_time": "2025-07-30T20:58:01.834084",
     "exception": false,
     "start_time": "2025-07-30T20:58:01.793649",
     "status": "completed"
    },
    "tags": []
   },
   "outputs": [
    {
     "data": {
      "text/html": [
       "<div>\n",
       "<style scoped>\n",
       "    .dataframe tbody tr th:only-of-type {\n",
       "        vertical-align: middle;\n",
       "    }\n",
       "\n",
       "    .dataframe tbody tr th {\n",
       "        vertical-align: top;\n",
       "    }\n",
       "\n",
       "    .dataframe thead th {\n",
       "        text-align: right;\n",
       "    }\n",
       "</style>\n",
       "<table border=\"1\" class=\"dataframe\">\n",
       "  <thead>\n",
       "    <tr style=\"text-align: right;\">\n",
       "      <th></th>\n",
       "      <th>universe_id</th>\n",
       "      <th>universe_training_year</th>\n",
       "      <th>universe_training_size</th>\n",
       "      <th>universe_scale</th>\n",
       "      <th>universe_model</th>\n",
       "      <th>universe_exclude_features</th>\n",
       "      <th>universe_exclude_subgroups</th>\n",
       "      <th>q_hat</th>\n",
       "      <th>coverage</th>\n",
       "      <th>avg_size</th>\n",
       "      <th>cov_frau1</th>\n",
       "      <th>cov_nongerman</th>\n",
       "      <th>cov_nongerman_male</th>\n",
       "      <th>cov_nongerman_female</th>\n",
       "    </tr>\n",
       "  </thead>\n",
       "  <tbody>\n",
       "    <tr>\n",
       "      <th>0</th>\n",
       "      <td>d83accff9f2300ff7a9ca2d052b5f0f9</td>\n",
       "      <td>2012_14</td>\n",
       "      <td>5k</td>\n",
       "      <td>scale</td>\n",
       "      <td>logreg</td>\n",
       "      <td>nationality-sex</td>\n",
       "      <td>drop-non-german</td>\n",
       "      <td>0.692544</td>\n",
       "      <td>0.910389</td>\n",
       "      <td>1.13557</td>\n",
       "      <td>0.906456</td>\n",
       "      <td>0.906978</td>\n",
       "      <td>0.924885</td>\n",
       "      <td>0.877347</td>\n",
       "    </tr>\n",
       "  </tbody>\n",
       "</table>\n",
       "</div>"
      ],
      "text/plain": [
       "                        universe_id universe_training_year  \\\n",
       "0  d83accff9f2300ff7a9ca2d052b5f0f9                2012_14   \n",
       "\n",
       "  universe_training_size universe_scale universe_model  \\\n",
       "0                     5k          scale         logreg   \n",
       "\n",
       "  universe_exclude_features universe_exclude_subgroups     q_hat  coverage  \\\n",
       "0           nationality-sex            drop-non-german  0.692544  0.910389   \n",
       "\n",
       "   avg_size  cov_frau1  cov_nongerman  cov_nongerman_male  \\\n",
       "0   1.13557   0.906456       0.906978            0.924885   \n",
       "\n",
       "   cov_nongerman_female  \n",
       "0              0.877347  "
      ]
     },
     "execution_count": 71,
     "metadata": {},
     "output_type": "execute_result"
    }
   ],
   "source": [
    "cp_metrics_df"
   ]
  },
  {
   "cell_type": "markdown",
   "id": "33774451",
   "metadata": {
    "papermill": {
     "duration": 0.022187,
     "end_time": "2025-07-30T20:58:01.873537",
     "exception": false,
     "start_time": "2025-07-30T20:58:01.851350",
     "status": "completed"
    },
    "tags": []
   },
   "source": [
    "# (Fairness) Metrics"
   ]
  },
  {
   "cell_type": "code",
   "execution_count": 72,
   "id": "debc5d62",
   "metadata": {
    "execution": {
     "iopub.execute_input": "2025-07-30T20:58:01.902860Z",
     "iopub.status.busy": "2025-07-30T20:58:01.902488Z",
     "iopub.status.idle": "2025-07-30T20:58:01.922715Z",
     "shell.execute_reply": "2025-07-30T20:58:01.921284Z"
    },
    "papermill": {
     "duration": 0.037506,
     "end_time": "2025-07-30T20:58:01.925040",
     "exception": false,
     "start_time": "2025-07-30T20:58:01.887534",
     "status": "completed"
    },
    "tags": []
   },
   "outputs": [],
   "source": [
    "# do I need to include maxdeutsch1.missing?\n",
    "\n",
    "import numpy as np\n",
    "\n",
    "colname_to_bin = \"maxdeutsch1\"\n",
    "majority_value = org_train[colname_to_bin].mode()[0]\n",
    "\n",
    "org_test[\"majmin\"] = np.where(org_test[colname_to_bin] == majority_value, \"majority\", \"minority\")"
   ]
  },
  {
   "cell_type": "code",
   "execution_count": 73,
   "id": "06a50de5",
   "metadata": {
    "execution": {
     "iopub.execute_input": "2025-07-30T20:58:01.972433Z",
     "iopub.status.busy": "2025-07-30T20:58:01.971853Z",
     "iopub.status.idle": "2025-07-30T20:58:04.359447Z",
     "shell.execute_reply": "2025-07-30T20:58:04.358449Z"
    },
    "papermill": {
     "duration": 2.418741,
     "end_time": "2025-07-30T20:58:04.361510",
     "exception": false,
     "start_time": "2025-07-30T20:58:01.942769",
     "status": "completed"
    },
    "tags": []
   },
   "outputs": [],
   "source": [
    "example_universe = universe.copy()\n",
    "example_universe[\"cutoff\"] = example_universe[\"cutoff\"][0]\n",
    "example_universe[\"eval_fairness_grouping\"] = example_universe[\"eval_fairness_grouping\"][0]\n",
    "fairness_dict, metric_frame = universe_analysis.compute_metrics(\n",
    "    example_universe,\n",
    "    y_pred_prob=probs_test,\n",
    "    y_test=y_true,\n",
    "    org_test=org_test,\n",
    ")"
   ]
  },
  {
   "cell_type": "markdown",
   "id": "f95d4e02",
   "metadata": {
    "papermill": {
     "duration": 0.029382,
     "end_time": "2025-07-30T20:58:04.420585",
     "exception": false,
     "start_time": "2025-07-30T20:58:04.391203",
     "status": "completed"
    },
    "tags": []
   },
   "source": [
    "# Overall"
   ]
  },
  {
   "cell_type": "markdown",
   "id": "bdee4871",
   "metadata": {
    "papermill": {
     "duration": 0.025957,
     "end_time": "2025-07-30T20:58:04.472517",
     "exception": false,
     "start_time": "2025-07-30T20:58:04.446560",
     "status": "completed"
    },
    "tags": []
   },
   "source": [
    "Fairness\n",
    "Main fairness target: Equalized Odds. Seems to be a better fit than equal opportunity, since we're not only interested in Y = 1. Seems to be a better fit than demographic parity, since we also care about accuracy, not just equal distribution of preds.\n",
    "\n",
    "Pick column for computation of fairness metrics\n",
    "\n",
    "Performance\n",
    "Overall performance measures, most interesting in relation to the measures split by group below"
   ]
  },
  {
   "cell_type": "code",
   "execution_count": 74,
   "id": "c4e067c6",
   "metadata": {
    "execution": {
     "iopub.execute_input": "2025-07-30T20:58:04.527491Z",
     "iopub.status.busy": "2025-07-30T20:58:04.526983Z",
     "iopub.status.idle": "2025-07-30T20:58:04.535650Z",
     "shell.execute_reply": "2025-07-30T20:58:04.534654Z"
    },
    "papermill": {
     "duration": 0.037379,
     "end_time": "2025-07-30T20:58:04.537216",
     "exception": false,
     "start_time": "2025-07-30T20:58:04.499837",
     "status": "completed"
    },
    "tags": []
   },
   "outputs": [
    {
     "data": {
      "text/plain": [
       "accuracy                   0.223732\n",
       "balanced accuracy          0.547190\n",
       "f1                         0.245081\n",
       "precision                  0.140007\n",
       "false positive rate        0.887893\n",
       "false negative rate        0.017727\n",
       "selection rate             0.900000\n",
       "count                  89710.000000\n",
       "dtype: float64"
      ]
     },
     "execution_count": 74,
     "metadata": {},
     "output_type": "execute_result"
    }
   ],
   "source": [
    "metric_frame.overall"
   ]
  },
  {
   "cell_type": "markdown",
   "id": "e968fe9d",
   "metadata": {
    "papermill": {
     "duration": 0.026843,
     "end_time": "2025-07-30T20:58:04.591032",
     "exception": false,
     "start_time": "2025-07-30T20:58:04.564189",
     "status": "completed"
    },
    "tags": []
   },
   "source": [
    "By Group"
   ]
  },
  {
   "cell_type": "code",
   "execution_count": 75,
   "id": "ec325bce",
   "metadata": {
    "execution": {
     "iopub.execute_input": "2025-07-30T20:58:04.646763Z",
     "iopub.status.busy": "2025-07-30T20:58:04.646246Z",
     "iopub.status.idle": "2025-07-30T20:58:04.663476Z",
     "shell.execute_reply": "2025-07-30T20:58:04.662621Z"
    },
    "papermill": {
     "duration": 0.046996,
     "end_time": "2025-07-30T20:58:04.665349",
     "exception": false,
     "start_time": "2025-07-30T20:58:04.618353",
     "status": "completed"
    },
    "tags": []
   },
   "outputs": [
    {
     "data": {
      "text/html": [
       "<div>\n",
       "<style scoped>\n",
       "    .dataframe tbody tr th:only-of-type {\n",
       "        vertical-align: middle;\n",
       "    }\n",
       "\n",
       "    .dataframe tbody tr th {\n",
       "        vertical-align: top;\n",
       "    }\n",
       "\n",
       "    .dataframe thead th {\n",
       "        text-align: right;\n",
       "    }\n",
       "</style>\n",
       "<table border=\"1\" class=\"dataframe\">\n",
       "  <thead>\n",
       "    <tr style=\"text-align: right;\">\n",
       "      <th></th>\n",
       "      <th>accuracy</th>\n",
       "      <th>balanced accuracy</th>\n",
       "      <th>f1</th>\n",
       "      <th>precision</th>\n",
       "      <th>false positive rate</th>\n",
       "      <th>false negative rate</th>\n",
       "      <th>selection rate</th>\n",
       "      <th>count</th>\n",
       "    </tr>\n",
       "    <tr>\n",
       "      <th>majmin</th>\n",
       "      <th></th>\n",
       "      <th></th>\n",
       "      <th></th>\n",
       "      <th></th>\n",
       "      <th></th>\n",
       "      <th></th>\n",
       "      <th></th>\n",
       "      <th></th>\n",
       "    </tr>\n",
       "  </thead>\n",
       "  <tbody>\n",
       "    <tr>\n",
       "      <th>majority</th>\n",
       "      <td>0.238962</td>\n",
       "      <td>0.553985</td>\n",
       "      <td>0.254324</td>\n",
       "      <td>0.146074</td>\n",
       "      <td>0.874196</td>\n",
       "      <td>0.017834</td>\n",
       "      <td>0.888463</td>\n",
       "      <td>69170.0</td>\n",
       "    </tr>\n",
       "    <tr>\n",
       "      <th>minority</th>\n",
       "      <td>0.172444</td>\n",
       "      <td>0.524773</td>\n",
       "      <td>0.214946</td>\n",
       "      <td>0.120670</td>\n",
       "      <td>0.933139</td>\n",
       "      <td>0.017314</td>\n",
       "      <td>0.938851</td>\n",
       "      <td>20540.0</td>\n",
       "    </tr>\n",
       "  </tbody>\n",
       "</table>\n",
       "</div>"
      ],
      "text/plain": [
       "          accuracy  balanced accuracy        f1  precision  \\\n",
       "majmin                                                       \n",
       "majority  0.238962           0.553985  0.254324   0.146074   \n",
       "minority  0.172444           0.524773  0.214946   0.120670   \n",
       "\n",
       "          false positive rate  false negative rate  selection rate    count  \n",
       "majmin                                                                       \n",
       "majority             0.874196             0.017834        0.888463  69170.0  \n",
       "minority             0.933139             0.017314        0.938851  20540.0  "
      ]
     },
     "execution_count": 75,
     "metadata": {},
     "output_type": "execute_result"
    }
   ],
   "source": [
    "metric_frame.by_group"
   ]
  },
  {
   "cell_type": "code",
   "execution_count": 76,
   "id": "a9ddbe63",
   "metadata": {
    "execution": {
     "iopub.execute_input": "2025-07-30T20:58:04.721437Z",
     "iopub.status.busy": "2025-07-30T20:58:04.720733Z",
     "iopub.status.idle": "2025-07-30T20:58:06.925201Z",
     "shell.execute_reply": "2025-07-30T20:58:06.924245Z"
    },
    "papermill": {
     "duration": 2.234258,
     "end_time": "2025-07-30T20:58:06.926753",
     "exception": false,
     "start_time": "2025-07-30T20:58:04.692495",
     "status": "completed"
    },
    "tags": []
   },
   "outputs": [
    {
     "data": {
      "text/plain": [
       "array([[<Axes: title={'center': 'accuracy'}, xlabel='majmin'>,\n",
       "        <Axes: title={'center': 'balanced accuracy'}, xlabel='majmin'>,\n",
       "        <Axes: title={'center': 'f1'}, xlabel='majmin'>],\n",
       "       [<Axes: title={'center': 'precision'}, xlabel='majmin'>,\n",
       "        <Axes: title={'center': 'false positive rate'}, xlabel='majmin'>,\n",
       "        <Axes: title={'center': 'false negative rate'}, xlabel='majmin'>],\n",
       "       [<Axes: title={'center': 'selection rate'}, xlabel='majmin'>,\n",
       "        <Axes: title={'center': 'count'}, xlabel='majmin'>,\n",
       "        <Axes: xlabel='majmin'>]], dtype=object)"
      ]
     },
     "execution_count": 76,
     "metadata": {},
     "output_type": "execute_result"
    },
    {
     "data": {
      "image/png": "[encoded data removed]",
      "text/plain": [
       "<Figure size 1200x800 with 9 Axes>"
      ]
     },
     "metadata": {},
     "output_type": "display_data"
    }
   ],
   "source": [
    "# In a graphic\n",
    "metric_frame.by_group.plot.bar(\n",
    "    subplots=True,\n",
    "    layout=[3, 3],\n",
    "    legend=False,\n",
    "    figsize=[12, 8],\n",
    "    title=\"Show all metrics\",\n",
    ")"
   ]
  },
  {
   "cell_type": "markdown",
   "id": "f57a0bac",
   "metadata": {
    "papermill": {
     "duration": 0.029398,
     "end_time": "2025-07-30T20:58:06.989638",
     "exception": false,
     "start_time": "2025-07-30T20:58:06.960240",
     "status": "completed"
    },
    "tags": []
   },
   "source": [
    "# Final Output"
   ]
  },
  {
   "cell_type": "code",
   "execution_count": 77,
   "id": "96d280a3",
   "metadata": {
    "execution": {
     "iopub.execute_input": "2025-07-30T20:58:07.050144Z",
     "iopub.status.busy": "2025-07-30T20:58:07.049534Z",
     "iopub.status.idle": "2025-07-30T20:58:07.057736Z",
     "shell.execute_reply": "2025-07-30T20:58:07.056879Z"
    },
    "papermill": {
     "duration": 0.040619,
     "end_time": "2025-07-30T20:58:07.059151",
     "exception": false,
     "start_time": "2025-07-30T20:58:07.018532",
     "status": "completed"
    },
    "tags": []
   },
   "outputs": [
    {
     "data": {
      "text/plain": [
       "4"
      ]
     },
     "execution_count": 77,
     "metadata": {},
     "output_type": "execute_result"
    }
   ],
   "source": [
    "sub_universes = universe_analysis.generate_sub_universes()\n",
    "len(sub_universes)"
   ]
  },
  {
   "cell_type": "code",
   "execution_count": 78,
   "id": "92adf7ba",
   "metadata": {
    "execution": {
     "iopub.execute_input": "2025-07-30T20:58:07.119982Z",
     "iopub.status.busy": "2025-07-30T20:58:07.119266Z",
     "iopub.status.idle": "2025-07-30T20:58:07.125569Z",
     "shell.execute_reply": "2025-07-30T20:58:07.124625Z"
    },
    "papermill": {
     "duration": 0.039205,
     "end_time": "2025-07-30T20:58:07.127064",
     "exception": false,
     "start_time": "2025-07-30T20:58:07.087859",
     "status": "completed"
    },
    "tags": []
   },
   "outputs": [],
   "source": [
    "def filter_sub_universe_data(sub_universe, org_test):\n",
    "    # Keep all rows — no filtering\n",
    "    keep_rows_mask = np.ones(org_test.shape[0], dtype=bool)\n",
    "\n",
    "    print(f\"[INFO] Keeping all rows: {keep_rows_mask.sum()} rows retained.\")\n",
    "    return keep_rows_mask"
   ]
  },
  {
   "cell_type": "code",
   "execution_count": 79,
   "id": "4a759155",
   "metadata": {
    "execution": {
     "iopub.execute_input": "2025-07-30T20:58:07.187886Z",
     "iopub.status.busy": "2025-07-30T20:58:07.187057Z",
     "iopub.status.idle": "2025-07-30T20:58:17.244869Z",
     "shell.execute_reply": "2025-07-30T20:58:17.243693Z"
    },
    "papermill": {
     "duration": 10.090681,
     "end_time": "2025-07-30T20:58:17.246988",
     "exception": false,
     "start_time": "2025-07-30T20:58:07.156307",
     "status": "completed"
    },
    "tags": []
   },
   "outputs": [
    {
     "name": "stdout",
     "output_type": "stream",
     "text": [
      "Stopping execution_time clock.\n",
      "[INFO] Keeping all rows: 89710 rows retained.\n"
     ]
    },
    {
     "name": "stdout",
     "output_type": "stream",
     "text": [
      "[INFO] Keeping all rows: 89710 rows retained.\n"
     ]
    },
    {
     "name": "stdout",
     "output_type": "stream",
     "text": [
      "[INFO] Keeping all rows: 89710 rows retained.\n"
     ]
    },
    {
     "name": "stdout",
     "output_type": "stream",
     "text": [
      "[INFO] Keeping all rows: 89710 rows retained.\n"
     ]
    },
    {
     "data": {
      "text/html": [
       "<div>\n",
       "<style scoped>\n",
       "    .dataframe tbody tr th:only-of-type {\n",
       "        vertical-align: middle;\n",
       "    }\n",
       "\n",
       "    .dataframe tbody tr th {\n",
       "        vertical-align: top;\n",
       "    }\n",
       "\n",
       "    .dataframe thead th {\n",
       "        text-align: right;\n",
       "    }\n",
       "</style>\n",
       "<table border=\"1\" class=\"dataframe\">\n",
       "  <thead>\n",
       "    <tr style=\"text-align: right;\">\n",
       "      <th></th>\n",
       "      <th>run_no</th>\n",
       "      <th>universe_id</th>\n",
       "      <th>universe_settings</th>\n",
       "      <th>execution_time</th>\n",
       "      <th>test_size_n</th>\n",
       "      <th>test_size_frac</th>\n",
       "      <th>fair_main_equalized_odds_difference</th>\n",
       "      <th>fair_main_equalized_odds_ratio</th>\n",
       "      <th>fair_main_demographic_parity_difference</th>\n",
       "      <th>fair_main_demographic_parity_ratio</th>\n",
       "      <th>...</th>\n",
       "      <th>perf_grp_precision_0</th>\n",
       "      <th>perf_grp_precision_1</th>\n",
       "      <th>perf_grp_false positive rate_0</th>\n",
       "      <th>perf_grp_false positive rate_1</th>\n",
       "      <th>perf_grp_false negative rate_0</th>\n",
       "      <th>perf_grp_false negative rate_1</th>\n",
       "      <th>perf_grp_selection rate_0</th>\n",
       "      <th>perf_grp_selection rate_1</th>\n",
       "      <th>perf_grp_count_0</th>\n",
       "      <th>perf_grp_count_1</th>\n",
       "    </tr>\n",
       "  </thead>\n",
       "  <tbody>\n",
       "    <tr>\n",
       "      <th>0</th>\n",
       "      <td>14</td>\n",
       "      <td>d83accff9f2300ff7a9ca2d052b5f0f9</td>\n",
       "      <td>{\"cutoff\": \"quantile_0.1\", \"eval_fairness_grou...</td>\n",
       "      <td>26.36504</td>\n",
       "      <td>89710</td>\n",
       "      <td>1.0</td>\n",
       "      <td>0.058943</td>\n",
       "      <td>0.936834</td>\n",
       "      <td>0.050388</td>\n",
       "      <td>0.946330</td>\n",
       "      <td>...</td>\n",
       "      <td>NaN</td>\n",
       "      <td>NaN</td>\n",
       "      <td>NaN</td>\n",
       "      <td>NaN</td>\n",
       "      <td>NaN</td>\n",
       "      <td>NaN</td>\n",
       "      <td>NaN</td>\n",
       "      <td>NaN</td>\n",
       "      <td>NaN</td>\n",
       "      <td>NaN</td>\n",
       "    </tr>\n",
       "    <tr>\n",
       "      <th>0</th>\n",
       "      <td>14</td>\n",
       "      <td>d83accff9f2300ff7a9ca2d052b5f0f9</td>\n",
       "      <td>{\"cutoff\": \"quantile_0.1\", \"eval_fairness_grou...</td>\n",
       "      <td>26.36504</td>\n",
       "      <td>89710</td>\n",
       "      <td>1.0</td>\n",
       "      <td>0.058943</td>\n",
       "      <td>0.936834</td>\n",
       "      <td>0.050388</td>\n",
       "      <td>0.946330</td>\n",
       "      <td>...</td>\n",
       "      <td>0.120670</td>\n",
       "      <td>0.146074</td>\n",
       "      <td>0.933139</td>\n",
       "      <td>0.874196</td>\n",
       "      <td>0.017314</td>\n",
       "      <td>0.017834</td>\n",
       "      <td>0.938851</td>\n",
       "      <td>0.888463</td>\n",
       "      <td>20540.0</td>\n",
       "      <td>69170.0</td>\n",
       "    </tr>\n",
       "    <tr>\n",
       "      <th>0</th>\n",
       "      <td>14</td>\n",
       "      <td>d83accff9f2300ff7a9ca2d052b5f0f9</td>\n",
       "      <td>{\"cutoff\": \"quantile_0.25\", \"eval_fairness_gro...</td>\n",
       "      <td>26.36504</td>\n",
       "      <td>89710</td>\n",
       "      <td>1.0</td>\n",
       "      <td>0.112210</td>\n",
       "      <td>0.861240</td>\n",
       "      <td>0.095100</td>\n",
       "      <td>0.884492</td>\n",
       "      <td>...</td>\n",
       "      <td>NaN</td>\n",
       "      <td>NaN</td>\n",
       "      <td>NaN</td>\n",
       "      <td>NaN</td>\n",
       "      <td>NaN</td>\n",
       "      <td>NaN</td>\n",
       "      <td>NaN</td>\n",
       "      <td>NaN</td>\n",
       "      <td>NaN</td>\n",
       "      <td>NaN</td>\n",
       "    </tr>\n",
       "    <tr>\n",
       "      <th>0</th>\n",
       "      <td>14</td>\n",
       "      <td>d83accff9f2300ff7a9ca2d052b5f0f9</td>\n",
       "      <td>{\"cutoff\": \"quantile_0.25\", \"eval_fairness_gro...</td>\n",
       "      <td>26.36504</td>\n",
       "      <td>89710</td>\n",
       "      <td>1.0</td>\n",
       "      <td>0.112210</td>\n",
       "      <td>0.861240</td>\n",
       "      <td>0.095100</td>\n",
       "      <td>0.884492</td>\n",
       "      <td>...</td>\n",
       "      <td>0.131039</td>\n",
       "      <td>0.169999</td>\n",
       "      <td>0.808662</td>\n",
       "      <td>0.696452</td>\n",
       "      <td>0.064189</td>\n",
       "      <td>0.063129</td>\n",
       "      <td>0.823320</td>\n",
       "      <td>0.728220</td>\n",
       "      <td>20540.0</td>\n",
       "      <td>69170.0</td>\n",
       "    </tr>\n",
       "  </tbody>\n",
       "</table>\n",
       "<p>4 rows × 50 columns</p>\n",
       "</div>"
      ],
      "text/plain": [
       "  run_no                       universe_id  \\\n",
       "0     14  d83accff9f2300ff7a9ca2d052b5f0f9   \n",
       "0     14  d83accff9f2300ff7a9ca2d052b5f0f9   \n",
       "0     14  d83accff9f2300ff7a9ca2d052b5f0f9   \n",
       "0     14  d83accff9f2300ff7a9ca2d052b5f0f9   \n",
       "\n",
       "                                   universe_settings  execution_time  \\\n",
       "0  {\"cutoff\": \"quantile_0.1\", \"eval_fairness_grou...        26.36504   \n",
       "0  {\"cutoff\": \"quantile_0.1\", \"eval_fairness_grou...        26.36504   \n",
       "0  {\"cutoff\": \"quantile_0.25\", \"eval_fairness_gro...        26.36504   \n",
       "0  {\"cutoff\": \"quantile_0.25\", \"eval_fairness_gro...        26.36504   \n",
       "\n",
       "   test_size_n  test_size_frac  fair_main_equalized_odds_difference  \\\n",
       "0        89710             1.0                             0.058943   \n",
       "0        89710             1.0                             0.058943   \n",
       "0        89710             1.0                             0.112210   \n",
       "0        89710             1.0                             0.112210   \n",
       "\n",
       "   fair_main_equalized_odds_ratio  fair_main_demographic_parity_difference  \\\n",
       "0                        0.936834                                 0.050388   \n",
       "0                        0.936834                                 0.050388   \n",
       "0                        0.861240                                 0.095100   \n",
       "0                        0.861240                                 0.095100   \n",
       "\n",
       "   fair_main_demographic_parity_ratio  ...  perf_grp_precision_0  \\\n",
       "0                            0.946330  ...                   NaN   \n",
       "0                            0.946330  ...              0.120670   \n",
       "0                            0.884492  ...                   NaN   \n",
       "0                            0.884492  ...              0.131039   \n",
       "\n",
       "   perf_grp_precision_1  perf_grp_false positive rate_0  \\\n",
       "0                   NaN                             NaN   \n",
       "0              0.146074                        0.933139   \n",
       "0                   NaN                             NaN   \n",
       "0              0.169999                        0.808662   \n",
       "\n",
       "   perf_grp_false positive rate_1  perf_grp_false negative rate_0  \\\n",
       "0                             NaN                             NaN   \n",
       "0                        0.874196                        0.017314   \n",
       "0                             NaN                             NaN   \n",
       "0                        0.696452                        0.064189   \n",
       "\n",
       "   perf_grp_false negative rate_1  perf_grp_selection rate_0  \\\n",
       "0                             NaN                        NaN   \n",
       "0                        0.017834                   0.938851   \n",
       "0                             NaN                        NaN   \n",
       "0                        0.063129                   0.823320   \n",
       "\n",
       "   perf_grp_selection rate_1  perf_grp_count_0  perf_grp_count_1  \n",
       "0                        NaN               NaN               NaN  \n",
       "0                   0.888463           20540.0           69170.0  \n",
       "0                        NaN               NaN               NaN  \n",
       "0                   0.728220           20540.0           69170.0  \n",
       "\n",
       "[4 rows x 50 columns]"
      ]
     },
     "execution_count": 79,
     "metadata": {},
     "output_type": "execute_result"
    }
   ],
   "source": [
    "final_output = universe_analysis.generate_final_output(\n",
    "    y_pred_prob=probs_test,\n",
    "    y_test=y_true,\n",
    "    org_test=org_test,\n",
    "    filter_data=filter_sub_universe_data,\n",
    "    cp_metrics_df=cp_metrics_df,\n",
    "    save=True,\n",
    ")\n",
    "final_output"
   ]
  },
  {
   "cell_type": "code",
   "execution_count": null,
   "id": "721ff514-cb11-46f8-b6fc-50392f74b5cb",
   "metadata": {
    "papermill": {
     "duration": 0.040854,
     "end_time": "2025-07-30T20:58:17.331836",
     "exception": false,
     "start_time": "2025-07-30T20:58:17.290982",
     "status": "completed"
    },
    "tags": []
   },
   "outputs": [],
   "source": []
  }
 ],
 "metadata": {
  "celltoolbar": "Tags",
  "kernelspec": {
   "display_name": "Python (CMA Fairness)",
   "language": "python",
   "name": "cma_fair_env"
  },
  "language_info": {
   "codemirror_mode": {
    "name": "ipython",
    "version": 3
   },
   "file_extension": ".py",
   "mimetype": "text/x-python",
   "name": "python",
   "nbconvert_exporter": "python",
   "pygments_lexer": "ipython3",
   "version": "3.10.12"
  },
  "papermill": {
   "default_parameters": {},
   "duration": 40.61898,
   "end_time": "2025-07-30T20:58:18.187085",
   "environment_variables": {},
   "exception": null,
   "input_path": "universe_analysis.ipynb",
   "output_path": "output/runs/14/notebooks/m_14-d83accff9f2300ff7a9ca2d052b5f0f9.ipynb",
   "parameters": {
    "output_dir": "output",
    "run_no": "14",
    "seed": "2023",
    "universe": "{\"cutoff\": [\"quantile_0.1\", \"quantile_0.25\"], \"eval_fairness_grouping\": [\"majority-minority\", \"nationality-all\"], \"exclude_features\": \"nationality-sex\", \"exclude_subgroups\": \"drop-non-german\", \"model\": \"logreg\", \"scale\": \"scale\", \"training_size\": \"5k\", \"training_year\": \"2012_14\"}",
    "universe_id": "d83accff9f2300ff7a9ca2d052b5f0f9"
   },
   "start_time": "2025-07-30T20:57:37.568105",
   "version": "2.6.0"
  }
 },
 "nbformat": 4,
 "nbformat_minor": 5
}