{
 "cells": [
  {
   "cell_type": "code",
   "execution_count": 1,
   "id": "f159f837-637b-42ba-96b5-ec9a68c44524",
   "metadata": {
    "execution": {
     "iopub.execute_input": "2025-07-30T21:17:22.593323Z",
     "iopub.status.busy": "2025-07-30T21:17:22.592952Z",
     "iopub.status.idle": "2025-07-30T21:17:22.617818Z",
     "shell.execute_reply": "2025-07-30T21:17:22.616998Z"
    },
    "papermill": {
     "duration": 0.054744,
     "end_time": "2025-07-30T21:17:22.619678",
     "exception": false,
     "start_time": "2025-07-30T21:17:22.564934",
     "status": "completed"
    },
    "tags": []
   },
   "outputs": [
    {
     "name": "stdout",
     "output_type": "stream",
     "text": [
      "/dss/dsshome1/0C/ra93lal2/cma/CMA_Fairness_v2\n"
     ]
    },
    {
     "name": "stderr",
     "output_type": "stream",
     "text": [
      "/dss/dsshome1/0C/ra93lal2/.local/share/virtualenvs/CMA_Fairness_v2-3j10GkSs/lib/python3.10/site-packages/IPython/core/magics/osm.py:393: UserWarning: This is now an optional IPython functionality, using bookmarks requires you to install the `pickleshare` library.\n",
      "  bkms = self.shell.db.get('bookmarks', {})\n",
      "/dss/dsshome1/0C/ra93lal2/.local/share/virtualenvs/CMA_Fairness_v2-3j10GkSs/lib/python3.10/site-packages/IPython/core/magics/osm.py:417: UserWarning: This is now an optional IPython functionality, setting dhist requires you to install the `pickleshare` library.\n",
      "  self.shell.db['dhist'] = compress_dhist(dhist)[-100:]\n"
     ]
    }
   ],
   "source": [
    "%cd ~/cma/CMA_Fairness_v2"
   ]
  },
  {
   "cell_type": "markdown",
   "id": "de2603b9",
   "metadata": {
    "papermill": {
     "duration": 0.040075,
     "end_time": "2025-07-30T21:17:22.696764",
     "exception": false,
     "start_time": "2025-07-30T21:17:22.656689",
     "status": "completed"
    },
    "tags": []
   },
   "source": [
    "The following cell holds the definition of our parameters, these values can be overriden by rendering the with e.g. the following command:\n",
    "\n",
    "papermill -p alpha 0.2 -p ratio 0.3 universe_analysis.ipynb output/test_run.ipynb"
   ]
  },
  {
   "cell_type": "code",
   "execution_count": 2,
   "id": "a80968a0-40bb-4fa9-85ef-2d5eefb01975",
   "metadata": {
    "execution": {
     "iopub.execute_input": "2025-07-30T21:17:22.740756Z",
     "iopub.status.busy": "2025-07-30T21:17:22.740332Z",
     "iopub.status.idle": "2025-07-30T21:17:22.746377Z",
     "shell.execute_reply": "2025-07-30T21:17:22.745309Z"
    },
    "papermill": {
     "duration": 0.032893,
     "end_time": "2025-07-30T21:17:22.751142",
     "exception": false,
     "start_time": "2025-07-30T21:17:22.718249",
     "status": "completed"
    },
    "tags": []
   },
   "outputs": [
    {
     "name": "stdout",
     "output_type": "stream",
     "text": [
      "Current working directory: /dss/dsshome1/0C/ra93lal2/cma/CMA_Fairness_v2\n"
     ]
    }
   ],
   "source": [
    "import os\n",
    "print(\"Current working directory:\", os.getcwd())"
   ]
  },
  {
   "cell_type": "code",
   "execution_count": 3,
   "id": "2dce4c03",
   "metadata": {
    "execution": {
     "iopub.execute_input": "2025-07-30T21:17:22.821782Z",
     "iopub.status.busy": "2025-07-30T21:17:22.821349Z",
     "iopub.status.idle": "2025-07-30T21:17:22.828246Z",
     "shell.execute_reply": "2025-07-30T21:17:22.827237Z"
    },
    "papermill": {
     "duration": 0.038036,
     "end_time": "2025-07-30T21:17:22.831600",
     "exception": false,
     "start_time": "2025-07-30T21:17:22.793564",
     "status": "completed"
    },
    "tags": [
     "parameters"
    ]
   },
   "outputs": [],
   "source": [
    "run_no = 0\n",
    "universe_id = \"test\"\n",
    "universe = {\n",
    "    \"training_size\": \"25k\", # \"25k\", \"5k\", \"1k\"\n",
    "    \"training_year\": \"2014\", # \"2014\", \"2012_14\", \"2010_14\"\n",
    "    \"scale\": \"scale\", # \"scale\", \"do-not-scale\",\n",
    "    #\"stratify_split\": \"target\", # \"none\", \"target\", \"protected-attribute\", \"both\",\n",
    "    \"model\": \"elasticnet\", # \"logreg\", \"penalized_logreg\", \"rf\", \"gbm\", \"elasticnet\"\n",
    "    \"cutoff\": [\"quantile_0.15\", \"quantile_0.30\"],\n",
    "    \"exclude_features\": \"age\", # \"none\", \"nationality\", \"sex\", \"nationality-sex\", \"age\"\n",
    "    \"exclude_subgroups\": \"keep-all\", # \"keep-all\", \"drop-non-german\"\n",
    "    \"eval_fairness_grouping\": [\"majority-minority\", \"nationality-all\"]\n",
    "}\n",
    "\n",
    "output_dir=\"./output\"\n",
    "seed=0"
   ]
  },
  {
   "cell_type": "code",
   "execution_count": 4,
   "id": "3b955733",
   "metadata": {
    "execution": {
     "iopub.execute_input": "2025-07-30T21:17:22.877943Z",
     "iopub.status.busy": "2025-07-30T21:17:22.877526Z",
     "iopub.status.idle": "2025-07-30T21:17:22.883627Z",
     "shell.execute_reply": "2025-07-30T21:17:22.882459Z"
    },
    "papermill": {
     "duration": 0.032911,
     "end_time": "2025-07-30T21:17:22.887191",
     "exception": false,
     "start_time": "2025-07-30T21:17:22.854280",
     "status": "completed"
    },
    "tags": [
     "injected-parameters"
    ]
   },
   "outputs": [],
   "source": [
    "# Parameters\n",
    "universe_id = \"8f646fc2b55270ab316871edb77cb8ff\"\n",
    "run_no = \"14\"\n",
    "universe = \"{\\\"cutoff\\\": [\\\"quantile_0.1\\\", \\\"quantile_0.25\\\"], \\\"eval_fairness_grouping\\\": [\\\"majority-minority\\\", \\\"nationality-all\\\"], \\\"exclude_features\\\": \\\"nationality\\\", \\\"exclude_subgroups\\\": \\\"keep-all\\\", \\\"model\\\": \\\"rf\\\", \\\"scale\\\": \\\"do-not-scale\\\", \\\"training_size\\\": \\\"5k\\\", \\\"training_year\\\": \\\"2010_14\\\"}\"\n",
    "output_dir = \"output\"\n",
    "seed = \"2023\"\n"
   ]
  },
  {
   "cell_type": "code",
   "execution_count": 5,
   "id": "1650acaf",
   "metadata": {
    "execution": {
     "iopub.execute_input": "2025-07-30T21:17:22.933745Z",
     "iopub.status.busy": "2025-07-30T21:17:22.933327Z",
     "iopub.status.idle": "2025-07-30T21:17:22.938608Z",
     "shell.execute_reply": "2025-07-30T21:17:22.937601Z"
    },
    "papermill": {
     "duration": 0.031137,
     "end_time": "2025-07-30T21:17:22.940679",
     "exception": false,
     "start_time": "2025-07-30T21:17:22.909542",
     "status": "completed"
    },
    "tags": []
   },
   "outputs": [],
   "source": [
    "import json\n",
    "# Parse universe into dict if it is passed as a string\n",
    "if isinstance(universe, str):\n",
    "    universe = json.loads(universe)"
   ]
  },
  {
   "cell_type": "code",
   "execution_count": 6,
   "id": "16620c48",
   "metadata": {
    "execution": {
     "iopub.execute_input": "2025-07-30T21:17:22.987631Z",
     "iopub.status.busy": "2025-07-30T21:17:22.987208Z",
     "iopub.status.idle": "2025-07-30T21:17:23.036379Z",
     "shell.execute_reply": "2025-07-30T21:17:23.035379Z"
    },
    "papermill": {
     "duration": 0.074007,
     "end_time": "2025-07-30T21:17:23.038173",
     "exception": false,
     "start_time": "2025-07-30T21:17:22.964166",
     "status": "completed"
    },
    "tags": []
   },
   "outputs": [],
   "source": [
    "# Auto-reload the custom package\n",
    "%load_ext autoreload\n",
    "%autoreload 1\n",
    "%aimport fairness_multiverse"
   ]
  },
  {
   "cell_type": "code",
   "execution_count": 7,
   "id": "01c5c9f3",
   "metadata": {
    "execution": {
     "iopub.execute_input": "2025-07-30T21:17:23.085297Z",
     "iopub.status.busy": "2025-07-30T21:17:23.083681Z",
     "iopub.status.idle": "2025-07-30T21:17:25.392475Z",
     "shell.execute_reply": "2025-07-30T21:17:25.391377Z"
    },
    "papermill": {
     "duration": 2.334128,
     "end_time": "2025-07-30T21:17:25.394602",
     "exception": false,
     "start_time": "2025-07-30T21:17:23.060474",
     "status": "completed"
    },
    "tags": []
   },
   "outputs": [],
   "source": [
    "from fairness_multiverse.universe import UniverseAnalysis\n",
    "\n",
    "universe_analysis = UniverseAnalysis(\n",
    "    run_no = run_no,\n",
    "    universe_id = universe_id,\n",
    "    universe = universe,\n",
    "    output_dir=output_dir,\n",
    ")"
   ]
  },
  {
   "cell_type": "code",
   "execution_count": 8,
   "id": "106241f5",
   "metadata": {
    "execution": {
     "iopub.execute_input": "2025-07-30T21:17:25.437516Z",
     "iopub.status.busy": "2025-07-30T21:17:25.436885Z",
     "iopub.status.idle": "2025-07-30T21:17:25.443403Z",
     "shell.execute_reply": "2025-07-30T21:17:25.442552Z"
    },
    "papermill": {
     "duration": 0.027689,
     "end_time": "2025-07-30T21:17:25.445058",
     "exception": false,
     "start_time": "2025-07-30T21:17:25.417369",
     "status": "completed"
    },
    "tags": []
   },
   "outputs": [
    {
     "name": "stdout",
     "output_type": "stream",
     "text": [
      "Using Seed: 2023\n"
     ]
    }
   ],
   "source": [
    "import numpy as np\n",
    "parsed_seed = int(seed)\n",
    "np.random.seed(parsed_seed)\n",
    "print(f\"Using Seed: {parsed_seed}\")"
   ]
  },
  {
   "cell_type": "markdown",
   "id": "e0ebdc57",
   "metadata": {
    "papermill": {
     "duration": 0.018236,
     "end_time": "2025-07-30T21:17:25.482092",
     "exception": false,
     "start_time": "2025-07-30T21:17:25.463856",
     "status": "completed"
    },
    "tags": []
   },
   "source": [
    "# Loading Data"
   ]
  },
  {
   "cell_type": "markdown",
   "id": "681925a3",
   "metadata": {
    "papermill": {
     "duration": 0.018542,
     "end_time": "2025-07-30T21:17:25.519023",
     "exception": false,
     "start_time": "2025-07-30T21:17:25.500481",
     "status": "completed"
    },
    "tags": []
   },
   "source": [
    "Load siab_train, siab_test, siab_calib and/or \n",
    "load siab_train_features, siab_train_labels"
   ]
  },
  {
   "cell_type": "code",
   "execution_count": 9,
   "id": "f0496b8a",
   "metadata": {
    "execution": {
     "iopub.execute_input": "2025-07-30T21:17:25.557603Z",
     "iopub.status.busy": "2025-07-30T21:17:25.556965Z",
     "iopub.status.idle": "2025-07-30T21:17:37.716179Z",
     "shell.execute_reply": "2025-07-30T21:17:37.714948Z"
    },
    "papermill": {
     "duration": 12.180423,
     "end_time": "2025-07-30T21:17:37.717718",
     "exception": false,
     "start_time": "2025-07-30T21:17:25.537295",
     "status": "completed"
    },
    "tags": []
   },
   "outputs": [
    {
     "name": "stdout",
     "output_type": "stream",
     "text": [
      "Loading SIAB data from cache: data/siab_cached.csv.gz\n"
     ]
    },
    {
     "name": "stdout",
     "output_type": "stream",
     "text": [
      "(643690, 164)\n"
     ]
    }
   ],
   "source": [
    "from pathlib import Path\n",
    "import pandas as pd\n",
    "\n",
    "# File paths\n",
    "raw_file = Path(\"data/raw/siab.csv\")\n",
    "cache_file = Path(\"data/siab_cached.csv.gz\")\n",
    "\n",
    "# Ensure cache directory exists\n",
    "cache_file.parent.mkdir(parents=True, exist_ok=True)\n",
    "\n",
    "# Load with simple caching\n",
    "if cache_file.exists():\n",
    "    print(f\"Loading SIAB data from cache: {cache_file}\")\n",
    "    siab = pd.read_csv(cache_file, compression='gzip')\n",
    "else:\n",
    "    print(f\"Cache not found. Reading raw SIAB data: {raw_file}\")\n",
    "    siab = pd.read_csv(raw_file)\n",
    "    siab.to_csv(cache_file, index=False, compression='gzip')\n",
    "    print(f\"Cached SIAB data to: {cache_file}\")\n",
    "\n",
    "# Now use `siab` DataFrame as needed\n",
    "print(siab.shape)"
   ]
  },
  {
   "cell_type": "code",
   "execution_count": 10,
   "id": "db0ca512-5f53-4dba-abdb-a2888bca41ba",
   "metadata": {
    "execution": {
     "iopub.execute_input": "2025-07-30T21:17:37.765568Z",
     "iopub.status.busy": "2025-07-30T21:17:37.765027Z",
     "iopub.status.idle": "2025-07-30T21:17:37.771313Z",
     "shell.execute_reply": "2025-07-30T21:17:37.770286Z"
    },
    "papermill": {
     "duration": 0.03126,
     "end_time": "2025-07-30T21:17:37.773006",
     "exception": false,
     "start_time": "2025-07-30T21:17:37.741746",
     "status": "completed"
    },
    "tags": []
   },
   "outputs": [],
   "source": [
    "#siab"
   ]
  },
  {
   "cell_type": "code",
   "execution_count": 11,
   "id": "a0edb063",
   "metadata": {
    "execution": {
     "iopub.execute_input": "2025-07-30T21:17:37.819608Z",
     "iopub.status.busy": "2025-07-30T21:17:37.818620Z",
     "iopub.status.idle": "2025-07-30T21:17:37.824004Z",
     "shell.execute_reply": "2025-07-30T21:17:37.822940Z"
    },
    "papermill": {
     "duration": 0.031257,
     "end_time": "2025-07-30T21:17:37.825848",
     "exception": false,
     "start_time": "2025-07-30T21:17:37.794591",
     "status": "completed"
    },
    "tags": []
   },
   "outputs": [],
   "source": [
    "#import pandas as pd\n",
    "#\n",
    "#X_train = pd.read_csv(\"./data/X_train.csv\")\n",
    "#y_train = pd.read_csv(\"./data/y_train.csv\")"
   ]
  },
  {
   "cell_type": "code",
   "execution_count": 12,
   "id": "63d08085",
   "metadata": {
    "execution": {
     "iopub.execute_input": "2025-07-30T21:17:37.870305Z",
     "iopub.status.busy": "2025-07-30T21:17:37.869551Z",
     "iopub.status.idle": "2025-07-30T21:17:37.875474Z",
     "shell.execute_reply": "2025-07-30T21:17:37.874508Z"
    },
    "papermill": {
     "duration": 0.029482,
     "end_time": "2025-07-30T21:17:37.877238",
     "exception": false,
     "start_time": "2025-07-30T21:17:37.847756",
     "status": "completed"
    },
    "tags": []
   },
   "outputs": [],
   "source": [
    "#X_test = pd.read_csv(\"./data/X_test.csv\")\n",
    "#y_true = pd.read_csv(\"./data/y_test.csv\")"
   ]
  },
  {
   "cell_type": "code",
   "execution_count": 13,
   "id": "98a8d0fa-1d3d-4ed8-bb2c-281470e24add",
   "metadata": {
    "execution": {
     "iopub.execute_input": "2025-07-30T21:17:37.920576Z",
     "iopub.status.busy": "2025-07-30T21:17:37.919823Z",
     "iopub.status.idle": "2025-07-30T21:17:37.925716Z",
     "shell.execute_reply": "2025-07-30T21:17:37.924745Z"
    },
    "papermill": {
     "duration": 0.029415,
     "end_time": "2025-07-30T21:17:37.927648",
     "exception": false,
     "start_time": "2025-07-30T21:17:37.898233",
     "status": "completed"
    },
    "tags": []
   },
   "outputs": [],
   "source": [
    "# Calibration data for conformal\n",
    "#X_calib = pd.read_csv(\"./data/X_calib.csv\")\n",
    "#y_calib = pd.read_csv(\"./data/y_calib.csv\")"
   ]
  },
  {
   "cell_type": "markdown",
   "id": "997051c5-15bd-4b69-9786-c3001a3ce484",
   "metadata": {
    "papermill": {
     "duration": 0.021303,
     "end_time": "2025-07-30T21:17:37.970475",
     "exception": false,
     "start_time": "2025-07-30T21:17:37.949172",
     "status": "completed"
    },
    "tags": []
   },
   "source": [
    "# Splitting Data and Setting Training Data Size"
   ]
  },
  {
   "cell_type": "code",
   "execution_count": 14,
   "id": "e993b61f-042d-41a6-8c81-f55681f86335",
   "metadata": {
    "execution": {
     "iopub.execute_input": "2025-07-30T21:17:38.014882Z",
     "iopub.status.busy": "2025-07-30T21:17:38.014359Z",
     "iopub.status.idle": "2025-07-30T21:17:38.028570Z",
     "shell.execute_reply": "2025-07-30T21:17:38.027486Z"
    },
    "papermill": {
     "duration": 0.038833,
     "end_time": "2025-07-30T21:17:38.030725",
     "exception": false,
     "start_time": "2025-07-30T21:17:37.991892",
     "status": "completed"
    },
    "tags": []
   },
   "outputs": [],
   "source": [
    "def sample_by_year_size(df,\n",
    "                        training_year: str,\n",
    "                        training_size: str,\n",
    "                        random_state: int = 42):\n",
    "    # --- parse training_year into a list of int years ---\n",
    "    if \"_\" in training_year:\n",
    "        start_str, end_str = training_year.split(\"_\", 1)\n",
    "        start = int(start_str)\n",
    "        end   = int(end_str) if len(end_str) == 4 else (int(end_str) + (start // 100)*100)\n",
    "        years = list(range(start, end + 1))\n",
    "    else:\n",
    "        years = [int(training_year)]\n",
    "\n",
    "    df = df[df[\"year\"].isin(years)].reset_index(drop=True)\n",
    "\n",
    "    # --- map training_size to total number of samples ---\n",
    "    total_map = {\"25k\": 25_000, \"5k\": 5_000, \"1k\": 1_000}\n",
    "    if training_size not in total_map:\n",
    "        return df  # e.g. \"all\"\n",
    "\n",
    "    total_samples = total_map[training_size]\n",
    "    n_years       = len(years)\n",
    "    base          = total_samples // n_years\n",
    "    remainder     = total_samples % n_years\n",
    "\n",
    "    # --- build a dict: year -> how many to sample ---\n",
    "    # give +1 to the first `remainder` years in ascending order\n",
    "    quotas = {\n",
    "        year: base + (1 if idx < remainder else 0)\n",
    "        for idx, year in enumerate(sorted(years))\n",
    "    }\n",
    "\n",
    "    # --- sample per‐year according to the quota dict ---\n",
    "    sampled = (\n",
    "        df\n",
    "        .groupby(\"year\", group_keys=False)\n",
    "        .apply(lambda grp: grp.sample(\n",
    "            n=min(len(grp), quotas[grp.name]),\n",
    "            random_state=random_state))\n",
    "        .reset_index(drop=True)\n",
    "    )\n",
    "\n",
    "    return sampled"
   ]
  },
  {
   "cell_type": "code",
   "execution_count": 15,
   "id": "c0ccd338-0e02-41f3-a09d-f56f9266e3fb",
   "metadata": {
    "execution": {
     "iopub.execute_input": "2025-07-30T21:17:38.077919Z",
     "iopub.status.busy": "2025-07-30T21:17:38.077100Z",
     "iopub.status.idle": "2025-07-30T21:17:38.082666Z",
     "shell.execute_reply": "2025-07-30T21:17:38.081727Z"
    },
    "papermill": {
     "duration": 0.030475,
     "end_time": "2025-07-30T21:17:38.084442",
     "exception": false,
     "start_time": "2025-07-30T21:17:38.053967",
     "status": "completed"
    },
    "tags": []
   },
   "outputs": [],
   "source": [
    "#universe[\"training_size\"]"
   ]
  },
  {
   "cell_type": "code",
   "execution_count": 16,
   "id": "ca707fd7-8047-4acd-bfa5-66248fbbf8e6",
   "metadata": {
    "execution": {
     "iopub.execute_input": "2025-07-30T21:17:38.129458Z",
     "iopub.status.busy": "2025-07-30T21:17:38.128847Z",
     "iopub.status.idle": "2025-07-30T21:17:38.134512Z",
     "shell.execute_reply": "2025-07-30T21:17:38.133547Z"
    },
    "papermill": {
     "duration": 0.030082,
     "end_time": "2025-07-30T21:17:38.136289",
     "exception": false,
     "start_time": "2025-07-30T21:17:38.106207",
     "status": "completed"
    },
    "tags": []
   },
   "outputs": [],
   "source": [
    "#universe[\"training_year\"]"
   ]
  },
  {
   "cell_type": "code",
   "execution_count": 17,
   "id": "aea9c6ef-6f46-42c8-85eb-5a62025c1508",
   "metadata": {
    "execution": {
     "iopub.execute_input": "2025-07-30T21:17:38.177729Z",
     "iopub.status.busy": "2025-07-30T21:17:38.177224Z",
     "iopub.status.idle": "2025-07-30T21:17:39.232420Z",
     "shell.execute_reply": "2025-07-30T21:17:39.231509Z"
    },
    "papermill": {
     "duration": 1.07751,
     "end_time": "2025-07-30T21:17:39.234280",
     "exception": false,
     "start_time": "2025-07-30T21:17:38.156770",
     "status": "completed"
    },
    "tags": []
   },
   "outputs": [],
   "source": [
    "siab_train = sample_by_year_size(siab,\n",
    "                               training_year=universe[\"training_year\"],\n",
    "                               training_size=universe[\"training_size\"])"
   ]
  },
  {
   "cell_type": "code",
   "execution_count": 18,
   "id": "8d3afb32-789d-442c-8d5d-9f5aa8dd2eed",
   "metadata": {
    "execution": {
     "iopub.execute_input": "2025-07-30T21:17:39.278063Z",
     "iopub.status.busy": "2025-07-30T21:17:39.277432Z",
     "iopub.status.idle": "2025-07-30T21:17:39.282449Z",
     "shell.execute_reply": "2025-07-30T21:17:39.281539Z"
    },
    "papermill": {
     "duration": 0.027477,
     "end_time": "2025-07-30T21:17:39.284514",
     "exception": false,
     "start_time": "2025-07-30T21:17:39.257037",
     "status": "completed"
    },
    "tags": []
   },
   "outputs": [],
   "source": [
    "#siab_train.shape"
   ]
  },
  {
   "cell_type": "code",
   "execution_count": 19,
   "id": "d582db68-1a4c-47fb-84fc-08518dc1975a",
   "metadata": {
    "execution": {
     "iopub.execute_input": "2025-07-30T21:17:39.327622Z",
     "iopub.status.busy": "2025-07-30T21:17:39.327195Z",
     "iopub.status.idle": "2025-07-30T21:17:39.332155Z",
     "shell.execute_reply": "2025-07-30T21:17:39.331217Z"
    },
    "papermill": {
     "duration": 0.028968,
     "end_time": "2025-07-30T21:17:39.333780",
     "exception": false,
     "start_time": "2025-07-30T21:17:39.304812",
     "status": "completed"
    },
    "tags": []
   },
   "outputs": [],
   "source": [
    "#display(siab_train.groupby(\"year\").size())"
   ]
  },
  {
   "cell_type": "code",
   "execution_count": 20,
   "id": "a561edb4-d032-42cb-8256-22eac1111c64",
   "metadata": {
    "execution": {
     "iopub.execute_input": "2025-07-30T21:17:39.378342Z",
     "iopub.status.busy": "2025-07-30T21:17:39.377706Z",
     "iopub.status.idle": "2025-07-30T21:17:39.644195Z",
     "shell.execute_reply": "2025-07-30T21:17:39.643184Z"
    },
    "papermill": {
     "duration": 0.290863,
     "end_time": "2025-07-30T21:17:39.646199",
     "exception": false,
     "start_time": "2025-07-30T21:17:39.355336",
     "status": "completed"
    },
    "tags": []
   },
   "outputs": [],
   "source": [
    "#siab_train = siab_s[siab_s.year < 2015]\n",
    "siab_calib = siab[siab.year == 2015]\n",
    "siab_test = siab[siab.year == 2016]"
   ]
  },
  {
   "cell_type": "code",
   "execution_count": 21,
   "id": "472de16f-c3db-4916-846b-1f0de9cf1746",
   "metadata": {
    "execution": {
     "iopub.execute_input": "2025-07-30T21:17:39.691163Z",
     "iopub.status.busy": "2025-07-30T21:17:39.690274Z",
     "iopub.status.idle": "2025-07-30T21:17:39.698656Z",
     "shell.execute_reply": "2025-07-30T21:17:39.697712Z"
    },
    "papermill": {
     "duration": 0.032276,
     "end_time": "2025-07-30T21:17:39.700352",
     "exception": false,
     "start_time": "2025-07-30T21:17:39.668076",
     "status": "completed"
    },
    "tags": []
   },
   "outputs": [],
   "source": [
    "X_train = siab_train.iloc[:,4:164]\n",
    "y_train = siab_train.iloc[:, [3]]"
   ]
  },
  {
   "cell_type": "code",
   "execution_count": 22,
   "id": "828c96af-f43a-4ed6-ba47-8ac73a47d56c",
   "metadata": {
    "execution": {
     "iopub.execute_input": "2025-07-30T21:17:39.744883Z",
     "iopub.status.busy": "2025-07-30T21:17:39.743914Z",
     "iopub.status.idle": "2025-07-30T21:17:39.794287Z",
     "shell.execute_reply": "2025-07-30T21:17:39.793186Z"
    },
    "papermill": {
     "duration": 0.075009,
     "end_time": "2025-07-30T21:17:39.796355",
     "exception": false,
     "start_time": "2025-07-30T21:17:39.721346",
     "status": "completed"
    },
    "tags": []
   },
   "outputs": [],
   "source": [
    "X_calib = siab_calib.iloc[:,4:164]\n",
    "y_calib = siab_calib.iloc[:, [3]]"
   ]
  },
  {
   "cell_type": "code",
   "execution_count": 23,
   "id": "c34be9c3-6bd6-476e-acd3-845840e303be",
   "metadata": {
    "execution": {
     "iopub.execute_input": "2025-07-30T21:17:39.840211Z",
     "iopub.status.busy": "2025-07-30T21:17:39.839237Z",
     "iopub.status.idle": "2025-07-30T21:17:39.891256Z",
     "shell.execute_reply": "2025-07-30T21:17:39.890242Z"
    },
    "papermill": {
     "duration": 0.075512,
     "end_time": "2025-07-30T21:17:39.893345",
     "exception": false,
     "start_time": "2025-07-30T21:17:39.817833",
     "status": "completed"
    },
    "tags": []
   },
   "outputs": [],
   "source": [
    "X_test = siab_test.iloc[:,4:164]\n",
    "y_true = siab_test.iloc[:, [3]]"
   ]
  },
  {
   "cell_type": "markdown",
   "id": "9901737e-04df-44f0-9100-f5ad144ed040",
   "metadata": {
    "papermill": {
     "duration": 0.021675,
     "end_time": "2025-07-30T21:17:39.936631",
     "exception": false,
     "start_time": "2025-07-30T21:17:39.914956",
     "status": "completed"
    },
    "tags": []
   },
   "source": [
    "# Splitting Data and Setting Training Data Size OLD VERSION"
   ]
  },
  {
   "cell_type": "code",
   "execution_count": 24,
   "id": "acbc8f7d-8fc8-4e86-8c59-5dcb0f58384b",
   "metadata": {
    "execution": {
     "iopub.execute_input": "2025-07-30T21:17:39.980736Z",
     "iopub.status.busy": "2025-07-30T21:17:39.980023Z",
     "iopub.status.idle": "2025-07-30T21:17:39.986038Z",
     "shell.execute_reply": "2025-07-30T21:17:39.985062Z"
    },
    "papermill": {
     "duration": 0.029663,
     "end_time": "2025-07-30T21:17:39.987690",
     "exception": false,
     "start_time": "2025-07-30T21:17:39.958027",
     "status": "completed"
    },
    "tags": []
   },
   "outputs": [],
   "source": [
    "#def sample_by_year(df, training_size, random_state=42):\n",
    "#    if training_size == \"2014\":\n",
    "#        return df[df[\"year\"] == 2014].reset_index(drop=True)\n",
    "#    \n",
    "#    size_map = {\n",
    "#        \"25k\": 5000,\n",
    "#        \"5k\": 1000,\n",
    "#        \"1k\": 200\n",
    "#    }\n",
    "#\n",
    "#    if training_size not in size_map:\n",
    "#        return df.reset_index(drop=True)  # use all data\n",
    "#\n",
    "#    n_per_year = size_map[training_size]\n",
    "#    grouped = df.groupby(\"year\")\n",
    "#    sampled = grouped.apply(lambda x: x.sample(n=min(n_per_year, len(x)), random_state=random_state))\n",
    "#    return sampled.reset_index(drop=True)"
   ]
  },
  {
   "cell_type": "code",
   "execution_count": 25,
   "id": "6d931f52-beaf-43ff-9e78-9d44a448d54e",
   "metadata": {
    "execution": {
     "iopub.execute_input": "2025-07-30T21:17:40.033118Z",
     "iopub.status.busy": "2025-07-30T21:17:40.032184Z",
     "iopub.status.idle": "2025-07-30T21:17:40.037491Z",
     "shell.execute_reply": "2025-07-30T21:17:40.036470Z"
    },
    "papermill": {
     "duration": 0.029536,
     "end_time": "2025-07-30T21:17:40.039098",
     "exception": false,
     "start_time": "2025-07-30T21:17:40.009562",
     "status": "completed"
    },
    "tags": []
   },
   "outputs": [],
   "source": [
    "#siab_s = sample_by_year(siab, universe[\"training_size\"])"
   ]
  },
  {
   "cell_type": "code",
   "execution_count": 26,
   "id": "5db0a40e-a4e2-4920-be85-b12ae061d70d",
   "metadata": {
    "execution": {
     "iopub.execute_input": "2025-07-30T21:17:40.083835Z",
     "iopub.status.busy": "2025-07-30T21:17:40.082891Z",
     "iopub.status.idle": "2025-07-30T21:17:40.088427Z",
     "shell.execute_reply": "2025-07-30T21:17:40.087363Z"
    },
    "papermill": {
     "duration": 0.029141,
     "end_time": "2025-07-30T21:17:40.090150",
     "exception": false,
     "start_time": "2025-07-30T21:17:40.061009",
     "status": "completed"
    },
    "tags": []
   },
   "outputs": [],
   "source": [
    "#display(siab_s.groupby(\"year\").size())"
   ]
  },
  {
   "cell_type": "code",
   "execution_count": 27,
   "id": "e6c733c5",
   "metadata": {
    "execution": {
     "iopub.execute_input": "2025-07-30T21:17:40.135836Z",
     "iopub.status.busy": "2025-07-30T21:17:40.135139Z",
     "iopub.status.idle": "2025-07-30T21:17:40.233283Z",
     "shell.execute_reply": "2025-07-30T21:17:40.232333Z"
    },
    "papermill": {
     "duration": 0.122665,
     "end_time": "2025-07-30T21:17:40.235332",
     "exception": false,
     "start_time": "2025-07-30T21:17:40.112667",
     "status": "completed"
    },
    "tags": []
   },
   "outputs": [],
   "source": [
    "# Auxiliary data needed downstream in the pipeline\n",
    "\n",
    "org_train = X_train.copy()\n",
    "org_test = X_test.copy()\n",
    "org_calib = X_calib.copy()"
   ]
  },
  {
   "cell_type": "code",
   "execution_count": 28,
   "id": "1466abac-c6da-4492-a62f-4240ae3783af",
   "metadata": {
    "execution": {
     "iopub.execute_input": "2025-07-30T21:17:40.281474Z",
     "iopub.status.busy": "2025-07-30T21:17:40.280784Z",
     "iopub.status.idle": "2025-07-30T21:17:40.286504Z",
     "shell.execute_reply": "2025-07-30T21:17:40.285656Z"
    },
    "papermill": {
     "duration": 0.029949,
     "end_time": "2025-07-30T21:17:40.288059",
     "exception": false,
     "start_time": "2025-07-30T21:17:40.258110",
     "status": "completed"
    },
    "tags": []
   },
   "outputs": [],
   "source": [
    "# put in other script?\n",
    "# Group sizes\n",
    "\n",
    "#def calculate_percentages(df, df_name):\n",
    "#    total_entries = len(df)\n",
    "#\n",
    "#    female_pct = (df['frau1'] == 1).mean() * 100\n",
    "#    non_german_pct = ((df['maxdeutsch1'] == 0) & (df['maxdeutsch.Missing.'] == 0)).mean() * 100\n",
    "#    non_german_male_pct = ((df['frau1'] == 0) & (df['maxdeutsch1'] == 0) & (df['maxdeutsch.Missing.'] == 0)).mean() * 100\n",
    "#    non_german_female_pct = ((df['frau1'] == 1) & (df['maxdeutsch1'] == 0) & (df['maxdeutsch.Missing.'] == 0)).mean() * 100\n",
    "#\n",
    "#    print(f\"--- {df_name} ---\")\n",
    "#    print(f\"Female: {female_pct:.2f}%\")\n",
    "#    print(f\"Non-German: {non_german_pct:.2f}%\")\n",
    "#    print(f\"Non-German Male: {non_german_male_pct:.2f}%\")\n",
    "#    print(f\"Non-German Female: {non_german_female_pct:.2f}%\\n\")\n",
    "#\n",
    "## Calculate for each DataFrame\n",
    "#calculate_percentages(siab_calib, \"siab_calib\")\n",
    "#calculate_percentages(siab_test, \"siab_test\")\n",
    "#calculate_percentages(siab_train, \"siab_train\")"
   ]
  },
  {
   "cell_type": "markdown",
   "id": "0a4a1b33",
   "metadata": {
    "papermill": {
     "duration": 0.021523,
     "end_time": "2025-07-30T21:17:40.331272",
     "exception": false,
     "start_time": "2025-07-30T21:17:40.309749",
     "status": "completed"
    },
    "tags": []
   },
   "source": [
    "# Preprocessing Data"
   ]
  },
  {
   "cell_type": "code",
   "execution_count": 29,
   "id": "ca879031",
   "metadata": {
    "execution": {
     "iopub.execute_input": "2025-07-30T21:17:40.375613Z",
     "iopub.status.busy": "2025-07-30T21:17:40.374948Z",
     "iopub.status.idle": "2025-07-30T21:17:40.381029Z",
     "shell.execute_reply": "2025-07-30T21:17:40.380070Z"
    },
    "papermill": {
     "duration": 0.029831,
     "end_time": "2025-07-30T21:17:40.382773",
     "exception": false,
     "start_time": "2025-07-30T21:17:40.352942",
     "status": "completed"
    },
    "tags": []
   },
   "outputs": [],
   "source": [
    "# EXCLUDE PROTECTED FEATURES\n",
    "# ----------------------\n",
    "# \"exclude_features\": \"none\", # \"nationality\", \"sex\", \"nationality-sex\"\n",
    "\n",
    "excluded_features = universe[\"exclude_features\"].split(\"-\") # split, e.g.: \"nationality-sex\" -> [\"nationality\", \"sex\"]\n",
    "excluded_features_dictionary = {\n",
    "    \"nationality\": [\"maxdeutsch1\", \"maxdeutsch.Missing.\"],\n",
    "    \"sex\": [\"frau1\"],\n",
    "    \"age\": [\"age\"],\n",
    "}\n"
   ]
  },
  {
   "cell_type": "code",
   "execution_count": 30,
   "id": "b745ac60",
   "metadata": {
    "execution": {
     "iopub.execute_input": "2025-07-30T21:17:40.428446Z",
     "iopub.status.busy": "2025-07-30T21:17:40.427846Z",
     "iopub.status.idle": "2025-07-30T21:17:40.433616Z",
     "shell.execute_reply": "2025-07-30T21:17:40.432677Z"
    },
    "papermill": {
     "duration": 0.029837,
     "end_time": "2025-07-30T21:17:40.435336",
     "exception": false,
     "start_time": "2025-07-30T21:17:40.405499",
     "status": "completed"
    },
    "tags": []
   },
   "outputs": [],
   "source": [
    "# Code nice names to column names\n",
    "\n",
    "excluded_features_columns = [\n",
    "    excluded_features_dictionary[f] for f in excluded_features if len(f) > 0 and f != \"none\"\n",
    "]"
   ]
  },
  {
   "cell_type": "code",
   "execution_count": 31,
   "id": "f84f73a2",
   "metadata": {
    "execution": {
     "iopub.execute_input": "2025-07-30T21:17:40.481564Z",
     "iopub.status.busy": "2025-07-30T21:17:40.480664Z",
     "iopub.status.idle": "2025-07-30T21:17:40.487094Z",
     "shell.execute_reply": "2025-07-30T21:17:40.486217Z"
    },
    "papermill": {
     "duration": 0.031157,
     "end_time": "2025-07-30T21:17:40.488689",
     "exception": false,
     "start_time": "2025-07-30T21:17:40.457532",
     "status": "completed"
    },
    "tags": []
   },
   "outputs": [],
   "source": [
    "from utils import flatten_once\n",
    "\n",
    "excluded_features_columns = flatten_once(excluded_features_columns)"
   ]
  },
  {
   "cell_type": "code",
   "execution_count": 32,
   "id": "884dea22",
   "metadata": {
    "execution": {
     "iopub.execute_input": "2025-07-30T21:17:40.534112Z",
     "iopub.status.busy": "2025-07-30T21:17:40.533387Z",
     "iopub.status.idle": "2025-07-30T21:17:40.543177Z",
     "shell.execute_reply": "2025-07-30T21:17:40.542096Z"
    },
    "papermill": {
     "duration": 0.034417,
     "end_time": "2025-07-30T21:17:40.544851",
     "exception": false,
     "start_time": "2025-07-30T21:17:40.510434",
     "status": "completed"
    },
    "tags": []
   },
   "outputs": [
    {
     "name": "stdout",
     "output_type": "stream",
     "text": [
      "Dropping features: ['maxdeutsch1', 'maxdeutsch.Missing.']\n"
     ]
    }
   ],
   "source": [
    "if len(excluded_features_columns) > 0:\n",
    "    print(f\"Dropping features: {excluded_features_columns}\")\n",
    "    X_train.drop(excluded_features_columns, axis=1, inplace=True)"
   ]
  },
  {
   "cell_type": "code",
   "execution_count": 33,
   "id": "95ab8b16",
   "metadata": {
    "execution": {
     "iopub.execute_input": "2025-07-30T21:17:40.590558Z",
     "iopub.status.busy": "2025-07-30T21:17:40.589857Z",
     "iopub.status.idle": "2025-07-30T21:17:40.644925Z",
     "shell.execute_reply": "2025-07-30T21:17:40.643866Z"
    },
    "papermill": {
     "duration": 0.08032,
     "end_time": "2025-07-30T21:17:40.647532",
     "exception": false,
     "start_time": "2025-07-30T21:17:40.567212",
     "status": "completed"
    },
    "tags": []
   },
   "outputs": [
    {
     "name": "stdout",
     "output_type": "stream",
     "text": [
      "Dropping features: ['maxdeutsch1', 'maxdeutsch.Missing.']\n"
     ]
    }
   ],
   "source": [
    "if len(excluded_features_columns) > 0:\n",
    "    print(f\"Dropping features: {excluded_features_columns}\")\n",
    "    X_test.drop(excluded_features_columns, axis=1, inplace=True)"
   ]
  },
  {
   "cell_type": "code",
   "execution_count": 34,
   "id": "1853aaf5-fb9f-46cb-a2b5-8ea4ae2237e4",
   "metadata": {
    "execution": {
     "iopub.execute_input": "2025-07-30T21:17:40.693877Z",
     "iopub.status.busy": "2025-07-30T21:17:40.693160Z",
     "iopub.status.idle": "2025-07-30T21:17:40.736734Z",
     "shell.execute_reply": "2025-07-30T21:17:40.735886Z"
    },
    "papermill": {
     "duration": 0.067957,
     "end_time": "2025-07-30T21:17:40.738446",
     "exception": false,
     "start_time": "2025-07-30T21:17:40.670489",
     "status": "completed"
    },
    "tags": []
   },
   "outputs": [
    {
     "name": "stdout",
     "output_type": "stream",
     "text": [
      "Dropping features: ['maxdeutsch1', 'maxdeutsch.Missing.']\n"
     ]
    }
   ],
   "source": [
    "if len(excluded_features_columns) > 0:\n",
    "    print(f\"Dropping features: {excluded_features_columns}\")\n",
    "    X_calib.drop(excluded_features_columns, axis=1, inplace=True)"
   ]
  },
  {
   "cell_type": "code",
   "execution_count": 35,
   "id": "6727d079-03e5-481e-9d38-292a90b7a0a8",
   "metadata": {
    "execution": {
     "iopub.execute_input": "2025-07-30T21:17:40.786518Z",
     "iopub.status.busy": "2025-07-30T21:17:40.786001Z",
     "iopub.status.idle": "2025-07-30T21:17:40.791159Z",
     "shell.execute_reply": "2025-07-30T21:17:40.790245Z"
    },
    "papermill": {
     "duration": 0.030907,
     "end_time": "2025-07-30T21:17:40.792888",
     "exception": false,
     "start_time": "2025-07-30T21:17:40.761981",
     "status": "completed"
    },
    "tags": []
   },
   "outputs": [],
   "source": [
    "# SPLIT & STRATIFY DATA\n",
    "# ----------------------"
   ]
  },
  {
   "cell_type": "code",
   "execution_count": 36,
   "id": "76c4dc6d",
   "metadata": {
    "execution": {
     "iopub.execute_input": "2025-07-30T21:17:40.840670Z",
     "iopub.status.busy": "2025-07-30T21:17:40.840203Z",
     "iopub.status.idle": "2025-07-30T21:17:40.845505Z",
     "shell.execute_reply": "2025-07-30T21:17:40.844595Z"
    },
    "papermill": {
     "duration": 0.031178,
     "end_time": "2025-07-30T21:17:40.847057",
     "exception": false,
     "start_time": "2025-07-30T21:17:40.815879",
     "status": "completed"
    },
    "tags": []
   },
   "outputs": [],
   "source": [
    "# EXCLUDE CERTAIN SUBGROUPS\n",
    "# ----------------------\n",
    "\n",
    "mode = universe.get(\"exclude_subgroups\", \"keep-all\") \n",
    "# Fetches the exclude_subgroups setting from the universe dict.\n",
    "# Defaults to \"keep-all\" if the key is missing."
   ]
  },
  {
   "cell_type": "code",
   "execution_count": 37,
   "id": "21994072",
   "metadata": {
    "execution": {
     "iopub.execute_input": "2025-07-30T21:17:40.894567Z",
     "iopub.status.busy": "2025-07-30T21:17:40.893767Z",
     "iopub.status.idle": "2025-07-30T21:17:40.900899Z",
     "shell.execute_reply": "2025-07-30T21:17:40.899827Z"
    },
    "papermill": {
     "duration": 0.03307,
     "end_time": "2025-07-30T21:17:40.902904",
     "exception": false,
     "start_time": "2025-07-30T21:17:40.869834",
     "status": "completed"
    },
    "tags": []
   },
   "outputs": [],
   "source": [
    "if mode == \"keep-all\":\n",
    "    keep_mask = pd.Series(True, index=org_train.index)\n",
    "\n",
    "# org_train contains the original feature columns from features_org (in Simson)\n",
    "# features_org contains unprocessed features, for me X_train at beginning ???\n",
    "# For keep-all, creates a boolean Series (keep_mask) of all True, so no rows are removed.\n",
    "\n",
    "elif mode == \"drop-non-german\":\n",
    "    keep_mask = org_train[\"maxdeutsch1\"] == 1 # ??? what about missing values?\n",
    "\n",
    "else:\n",
    "    raise ValueError(f\"Unsupported mode for exclude_subgroups: {mode}\")\n"
   ]
  },
  {
   "cell_type": "code",
   "execution_count": 38,
   "id": "71651440",
   "metadata": {
    "execution": {
     "iopub.execute_input": "2025-07-30T21:17:40.950972Z",
     "iopub.status.busy": "2025-07-30T21:17:40.950515Z",
     "iopub.status.idle": "2025-07-30T21:17:40.957140Z",
     "shell.execute_reply": "2025-07-30T21:17:40.956224Z"
    },
    "papermill": {
     "duration": 0.031929,
     "end_time": "2025-07-30T21:17:40.958790",
     "exception": false,
     "start_time": "2025-07-30T21:17:40.926861",
     "status": "completed"
    },
    "tags": []
   },
   "outputs": [],
   "source": [
    "n_drop = (~keep_mask).sum() # Calculates how many rows are set to be dropped\n",
    "if n_drop > 0:\n",
    "    pct = n_drop / len(keep_mask) * 100\n",
    "    print(f\"Dropping {n_drop} rows ({pct:.2f}%) where mode='{mode}'\")"
   ]
  },
  {
   "cell_type": "code",
   "execution_count": 39,
   "id": "5fb8eee5",
   "metadata": {
    "execution": {
     "iopub.execute_input": "2025-07-30T21:17:41.007317Z",
     "iopub.status.busy": "2025-07-30T21:17:41.006667Z",
     "iopub.status.idle": "2025-07-30T21:17:41.015379Z",
     "shell.execute_reply": "2025-07-30T21:17:41.014337Z"
    },
    "papermill": {
     "duration": 0.034619,
     "end_time": "2025-07-30T21:17:41.017390",
     "exception": false,
     "start_time": "2025-07-30T21:17:40.982771",
     "status": "completed"
    },
    "tags": []
   },
   "outputs": [],
   "source": [
    "X_train = X_train[keep_mask]"
   ]
  },
  {
   "cell_type": "code",
   "execution_count": 40,
   "id": "b202bb3a",
   "metadata": {
    "execution": {
     "iopub.execute_input": "2025-07-30T21:17:41.066972Z",
     "iopub.status.busy": "2025-07-30T21:17:41.066048Z",
     "iopub.status.idle": "2025-07-30T21:17:41.072531Z",
     "shell.execute_reply": "2025-07-30T21:17:41.071588Z"
    },
    "papermill": {
     "duration": 0.032871,
     "end_time": "2025-07-30T21:17:41.074030",
     "exception": false,
     "start_time": "2025-07-30T21:17:41.041159",
     "status": "completed"
    },
    "tags": []
   },
   "outputs": [],
   "source": [
    "y_train = y_train[keep_mask]"
   ]
  },
  {
   "cell_type": "markdown",
   "id": "493e2ac3",
   "metadata": {
    "papermill": {
     "duration": 0.023633,
     "end_time": "2025-07-30T21:17:41.121205",
     "exception": false,
     "start_time": "2025-07-30T21:17:41.097572",
     "status": "completed"
    },
    "tags": []
   },
   "source": [
    "# Model Training"
   ]
  },
  {
   "cell_type": "code",
   "execution_count": 41,
   "id": "679e1268",
   "metadata": {
    "execution": {
     "iopub.execute_input": "2025-07-30T21:17:41.169132Z",
     "iopub.status.busy": "2025-07-30T21:17:41.168615Z",
     "iopub.status.idle": "2025-07-30T21:17:41.273466Z",
     "shell.execute_reply": "2025-07-30T21:17:41.272523Z"
    },
    "papermill": {
     "duration": 0.131487,
     "end_time": "2025-07-30T21:17:41.275432",
     "exception": false,
     "start_time": "2025-07-30T21:17:41.143945",
     "status": "completed"
    },
    "tags": []
   },
   "outputs": [],
   "source": [
    "from sklearn.linear_model import LogisticRegression\n",
    "from sklearn.ensemble import GradientBoostingClassifier, RandomForestClassifier\n",
    "\n",
    "if (universe[\"model\"] == \"logreg\"):\n",
    "    model = LogisticRegression() #penalty=\"none\") #, solver=\"newton-cg\", max_iter=1) # include random_state=19 ?\n",
    "elif (universe[\"model\"] == \"penalized_logreg\"):\n",
    "    model = LogisticRegression(penalty=\"l2\", C=1.0) #, solver=\"newton-cg\", max_iter=1)\n",
    "elif (universe[\"model\"] == \"rf\"):\n",
    "    model = RandomForestClassifier(n_estimators=100, n_jobs=-1)\n",
    "elif (universe[\"model\"] == \"gbm\"):\n",
    "    model = GradientBoostingClassifier()\n",
    "elif (universe[\"model\"] == \"elasticnet\"):\n",
    "    model = LogisticRegression(penalty = 'elasticnet', solver = 'saga', l1_ratio = 0.5, max_iter=5000) # which solver to use?\n",
    "else:\n",
    "    raise \"Unsupported universe.model\""
   ]
  },
  {
   "cell_type": "code",
   "execution_count": 42,
   "id": "0cc8f744",
   "metadata": {
    "execution": {
     "iopub.execute_input": "2025-07-30T21:17:41.323852Z",
     "iopub.status.busy": "2025-07-30T21:17:41.323482Z",
     "iopub.status.idle": "2025-07-30T21:17:41.329722Z",
     "shell.execute_reply": "2025-07-30T21:17:41.328800Z"
    },
    "papermill": {
     "duration": 0.032367,
     "end_time": "2025-07-30T21:17:41.331328",
     "exception": false,
     "start_time": "2025-07-30T21:17:41.298961",
     "status": "completed"
    },
    "tags": []
   },
   "outputs": [],
   "source": [
    "import numpy as np\n",
    "from sklearn.pipeline import Pipeline\n",
    "from sklearn.preprocessing import StandardScaler\n",
    "\n",
    "model = Pipeline([\n",
    "    #(\"continuous_processor\", continuous_processor),\n",
    "    #(\"categorical_preprocessor\", categorical_preprocessor),\n",
    "    (\"scale\", StandardScaler() if universe[\"scale\"] == \"scale\" else None), \n",
    "    (\"model\", model),\n",
    "])"
   ]
  },
  {
   "cell_type": "code",
   "execution_count": 43,
   "id": "9442c04d",
   "metadata": {
    "execution": {
     "iopub.execute_input": "2025-07-30T21:17:41.381289Z",
     "iopub.status.busy": "2025-07-30T21:17:41.380779Z",
     "iopub.status.idle": "2025-07-30T21:17:42.269444Z",
     "shell.execute_reply": "2025-07-30T21:17:42.268699Z"
    },
    "papermill": {
     "duration": 0.914875,
     "end_time": "2025-07-30T21:17:42.270550",
     "exception": false,
     "start_time": "2025-07-30T21:17:41.355675",
     "status": "completed"
    },
    "tags": []
   },
   "outputs": [
    {
     "data": {
      "text/html": [
       "<style>#sk-container-id-1 {color: black;background-color: white;}#sk-container-id-1 pre{padding: 0;}#sk-container-id-1 div.sk-toggleable {background-color: white;}#sk-container-id-1 label.sk-toggleable__label {cursor: pointer;display: block;width: 100%;margin-bottom: 0;padding: 0.3em;box-sizing: border-box;text-align: center;}#sk-container-id-1 label.sk-toggleable__label-arrow:before {content: \"▸\";float: left;margin-right: 0.25em;color: #696969;}#sk-container-id-1 label.sk-toggleable__label-arrow:hover:before {color: black;}#sk-container-id-1 div.sk-estimator:hover label.sk-toggleable__label-arrow:before {color: black;}#sk-container-id-1 div.sk-toggleable__content {max-height: 0;max-width: 0;overflow: hidden;text-align: left;background-color: #f0f8ff;}#sk-container-id-1 div.sk-toggleable__content pre {margin: 0.2em;color: black;border-radius: 0.25em;background-color: #f0f8ff;}#sk-container-id-1 input.sk-toggleable__control:checked~div.sk-toggleable__content {max-height: 200px;max-width: 100%;overflow: auto;}#sk-container-id-1 input.sk-toggleable__control:checked~label.sk-toggleable__label-arrow:before {content: \"▾\";}#sk-container-id-1 div.sk-estimator input.sk-toggleable__control:checked~label.sk-toggleable__label {background-color: #d4ebff;}#sk-container-id-1 div.sk-label input.sk-toggleable__control:checked~label.sk-toggleable__label {background-color: #d4ebff;}#sk-container-id-1 input.sk-hidden--visually {border: 0;clip: rect(1px 1px 1px 1px);clip: rect(1px, 1px, 1px, 1px);height: 1px;margin: -1px;overflow: hidden;padding: 0;position: absolute;width: 1px;}#sk-container-id-1 div.sk-estimator {font-family: monospace;background-color: #f0f8ff;border: 1px dotted black;border-radius: 0.25em;box-sizing: border-box;margin-bottom: 0.5em;}#sk-container-id-1 div.sk-estimator:hover {background-color: #d4ebff;}#sk-container-id-1 div.sk-parallel-item::after {content: \"\";width: 100%;border-bottom: 1px solid gray;flex-grow: 1;}#sk-container-id-1 div.sk-label:hover label.sk-toggleable__label {background-color: #d4ebff;}#sk-container-id-1 div.sk-serial::before {content: \"\";position: absolute;border-left: 1px solid gray;box-sizing: border-box;top: 0;bottom: 0;left: 50%;z-index: 0;}#sk-container-id-1 div.sk-serial {display: flex;flex-direction: column;align-items: center;background-color: white;padding-right: 0.2em;padding-left: 0.2em;position: relative;}#sk-container-id-1 div.sk-item {position: relative;z-index: 1;}#sk-container-id-1 div.sk-parallel {display: flex;align-items: stretch;justify-content: center;background-color: white;position: relative;}#sk-container-id-1 div.sk-item::before, #sk-container-id-1 div.sk-parallel-item::before {content: \"\";position: absolute;border-left: 1px solid gray;box-sizing: border-box;top: 0;bottom: 0;left: 50%;z-index: -1;}#sk-container-id-1 div.sk-parallel-item {display: flex;flex-direction: column;z-index: 1;position: relative;background-color: white;}#sk-container-id-1 div.sk-parallel-item:first-child::after {align-self: flex-end;width: 50%;}#sk-container-id-1 div.sk-parallel-item:last-child::after {align-self: flex-start;width: 50%;}#sk-container-id-1 div.sk-parallel-item:only-child::after {width: 0;}#sk-container-id-1 div.sk-dashed-wrapped {border: 1px dashed gray;margin: 0 0.4em 0.5em 0.4em;box-sizing: border-box;padding-bottom: 0.4em;background-color: white;}#sk-container-id-1 div.sk-label label {font-family: monospace;font-weight: bold;display: inline-block;line-height: 1.2em;}#sk-container-id-1 div.sk-label-container {text-align: center;}#sk-container-id-1 div.sk-container {/* jupyter's `normalize.less` sets `[hidden] { display: none; }` but bootstrap.min.css set `[hidden] { display: none !important; }` so we also need the `!important` here to be able to override the default hidden behavior on the sphinx rendered scikit-learn.org. See: https://github.com/scikit-learn/scikit-learn/issues/21755 */display: inline-block !important;position: relative;}#sk-container-id-1 div.sk-text-repr-fallback {display: none;}</style><div id=\"sk-container-id-1\" class=\"sk-top-container\"><div class=\"sk-text-repr-fallback\"><pre>Pipeline(steps=[(&#x27;scale&#x27;, None), (&#x27;model&#x27;, RandomForestClassifier(n_jobs=-1))])</pre><b>In a Jupyter environment, please rerun this cell to show the HTML representation or trust the notebook. <br />On GitHub, the HTML representation is unable to render, please try loading this page with nbviewer.org.</b></div><div class=\"sk-container\" hidden><div class=\"sk-item sk-dashed-wrapped\"><div class=\"sk-label-container\"><div class=\"sk-label sk-toggleable\"><input class=\"sk-toggleable__control sk-hidden--visually\" id=\"sk-estimator-id-1\" type=\"checkbox\" ><label for=\"sk-estimator-id-1\" class=\"sk-toggleable__label sk-toggleable__label-arrow\">Pipeline</label><div class=\"sk-toggleable__content\"><pre>Pipeline(steps=[(&#x27;scale&#x27;, None), (&#x27;model&#x27;, RandomForestClassifier(n_jobs=-1))])</pre></div></div></div><div class=\"sk-serial\"><div class=\"sk-item\"><div class=\"sk-estimator sk-toggleable\"><input class=\"sk-toggleable__control sk-hidden--visually\" id=\"sk-estimator-id-2\" type=\"checkbox\" ><label for=\"sk-estimator-id-2\" class=\"sk-toggleable__label sk-toggleable__label-arrow\">None</label><div class=\"sk-toggleable__content\"><pre>None</pre></div></div></div><div class=\"sk-item\"><div class=\"sk-estimator sk-toggleable\"><input class=\"sk-toggleable__control sk-hidden--visually\" id=\"sk-estimator-id-3\" type=\"checkbox\" ><label for=\"sk-estimator-id-3\" class=\"sk-toggleable__label sk-toggleable__label-arrow\">RandomForestClassifier</label><div class=\"sk-toggleable__content\"><pre>RandomForestClassifier(n_jobs=-1)</pre></div></div></div></div></div></div></div>"
      ],
      "text/plain": [
       "Pipeline(steps=[('scale', None), ('model', RandomForestClassifier(n_jobs=-1))])"
      ]
     },
     "execution_count": 43,
     "metadata": {},
     "output_type": "execute_result"
    }
   ],
   "source": [
    "model.fit(X_train, y_train.values.ravel())"
   ]
  },
  {
   "cell_type": "code",
   "execution_count": 44,
   "id": "af59f8c0",
   "metadata": {
    "execution": {
     "iopub.execute_input": "2025-07-30T21:17:42.296648Z",
     "iopub.status.busy": "2025-07-30T21:17:42.296065Z",
     "iopub.status.idle": "2025-07-30T21:17:42.300648Z",
     "shell.execute_reply": "2025-07-30T21:17:42.299949Z"
    },
    "papermill": {
     "duration": 0.018466,
     "end_time": "2025-07-30T21:17:42.301856",
     "exception": false,
     "start_time": "2025-07-30T21:17:42.283390",
     "status": "completed"
    },
    "tags": []
   },
   "outputs": [],
   "source": [
    "from fairness_multiverse.universe import predict_w_threshold"
   ]
  },
  {
   "cell_type": "code",
   "execution_count": 45,
   "id": "a7cf2e16",
   "metadata": {
    "execution": {
     "iopub.execute_input": "2025-07-30T21:17:42.328647Z",
     "iopub.status.busy": "2025-07-30T21:17:42.328123Z",
     "iopub.status.idle": "2025-07-30T21:17:43.218645Z",
     "shell.execute_reply": "2025-07-30T21:17:43.217693Z"
    },
    "papermill": {
     "duration": 0.905358,
     "end_time": "2025-07-30T21:17:43.220272",
     "exception": false,
     "start_time": "2025-07-30T21:17:42.314914",
     "status": "completed"
    },
    "tags": []
   },
   "outputs": [
    {
     "data": {
      "text/plain": [
       "0.8663136774049716"
      ]
     },
     "execution_count": 45,
     "metadata": {},
     "output_type": "execute_result"
    }
   ],
   "source": [
    "probs_test = model.predict_proba(X_test)\n",
    "\n",
    "'''\n",
    "Below code returns a boolean array (or binary 0/1 array depending on how it’s used) where each element \n",
    "is True if the probability of class 1 is greater than or equal to the threshold, and False otherwise.\n",
    "'''\n",
    "y_pred_default = predict_w_threshold(probs_test, 0.5)\n",
    "\n",
    "from sklearn.metrics import accuracy_score\n",
    "\n",
    "# Naive prediction\n",
    "accuracy_score(y_true = y_true, y_pred = y_pred_default)"
   ]
  },
  {
   "cell_type": "code",
   "execution_count": 46,
   "id": "081964c3",
   "metadata": {
    "execution": {
     "iopub.execute_input": "2025-07-30T21:17:43.269226Z",
     "iopub.status.busy": "2025-07-30T21:17:43.268580Z",
     "iopub.status.idle": "2025-07-30T21:17:44.244177Z",
     "shell.execute_reply": "2025-07-30T21:17:44.243041Z"
    },
    "papermill": {
     "duration": 1.003435,
     "end_time": "2025-07-30T21:17:44.245997",
     "exception": false,
     "start_time": "2025-07-30T21:17:43.242562",
     "status": "completed"
    },
    "tags": []
   },
   "outputs": [
    {
     "data": {
      "text/plain": [
       "array([0, 0, 0, ..., 0, 0, 0])"
      ]
     },
     "execution_count": 46,
     "metadata": {},
     "output_type": "execute_result"
    }
   ],
   "source": [
    "model.predict(X_test)"
   ]
  },
  {
   "cell_type": "markdown",
   "id": "56c9705b",
   "metadata": {
    "papermill": {
     "duration": 0.025806,
     "end_time": "2025-07-30T21:17:44.297897",
     "exception": false,
     "start_time": "2025-07-30T21:17:44.272091",
     "status": "completed"
    },
    "tags": []
   },
   "source": [
    "# Conformal Prediction"
   ]
  },
  {
   "cell_type": "code",
   "execution_count": 47,
   "id": "160ec6ff",
   "metadata": {
    "execution": {
     "iopub.execute_input": "2025-07-30T21:17:44.349932Z",
     "iopub.status.busy": "2025-07-30T21:17:44.349447Z",
     "iopub.status.idle": "2025-07-30T21:17:44.355050Z",
     "shell.execute_reply": "2025-07-30T21:17:44.353979Z"
    },
    "papermill": {
     "duration": 0.033201,
     "end_time": "2025-07-30T21:17:44.356866",
     "exception": false,
     "start_time": "2025-07-30T21:17:44.323665",
     "status": "completed"
    },
    "tags": []
   },
   "outputs": [],
   "source": [
    "# Miscoverage level for conformal prediction (10% allowed error rate => 90% target coverage)\n",
    "alpha = 0.1"
   ]
  },
  {
   "cell_type": "code",
   "execution_count": 48,
   "id": "eadf4555-3dd3-440e-8e35-f82a4ad9f855",
   "metadata": {
    "execution": {
     "iopub.execute_input": "2025-07-30T21:17:44.399079Z",
     "iopub.status.busy": "2025-07-30T21:17:44.398628Z",
     "iopub.status.idle": "2025-07-30T21:17:45.236862Z",
     "shell.execute_reply": "2025-07-30T21:17:45.235795Z"
    },
    "papermill": {
     "duration": 0.856611,
     "end_time": "2025-07-30T21:17:45.238981",
     "exception": false,
     "start_time": "2025-07-30T21:17:44.382370",
     "status": "completed"
    },
    "tags": []
   },
   "outputs": [],
   "source": [
    "probs_calib = model.predict_proba(X_calib)"
   ]
  },
  {
   "cell_type": "code",
   "execution_count": 49,
   "id": "2ed93547-6d5d-4983-9b36-1ecb300da49a",
   "metadata": {
    "execution": {
     "iopub.execute_input": "2025-07-30T21:17:45.289829Z",
     "iopub.status.busy": "2025-07-30T21:17:45.289328Z",
     "iopub.status.idle": "2025-07-30T21:17:45.295451Z",
     "shell.execute_reply": "2025-07-30T21:17:45.294459Z"
    },
    "papermill": {
     "duration": 0.03424,
     "end_time": "2025-07-30T21:17:45.297104",
     "exception": false,
     "start_time": "2025-07-30T21:17:45.262864",
     "status": "completed"
    },
    "tags": []
   },
   "outputs": [],
   "source": [
    "y_calib = y_calib.values.ravel().astype(int)"
   ]
  },
  {
   "cell_type": "code",
   "execution_count": 50,
   "id": "65d1320d-f588-4b38-9072-62af1ae97f7d",
   "metadata": {
    "execution": {
     "iopub.execute_input": "2025-07-30T21:17:45.345903Z",
     "iopub.status.busy": "2025-07-30T21:17:45.344977Z",
     "iopub.status.idle": "2025-07-30T21:17:45.352789Z",
     "shell.execute_reply": "2025-07-30T21:17:45.351730Z"
    },
    "papermill": {
     "duration": 0.033042,
     "end_time": "2025-07-30T21:17:45.354529",
     "exception": false,
     "start_time": "2025-07-30T21:17:45.321487",
     "status": "completed"
    },
    "tags": []
   },
   "outputs": [],
   "source": [
    "from fairness_multiverse.conformal import compute_nc_scores\n",
    "\n",
    "# Compute nonconformity scores on calibration set (1 - probability of true class)\n",
    "nc_scores = compute_nc_scores(probs_calib, y_calib)"
   ]
  },
  {
   "cell_type": "code",
   "execution_count": 51,
   "id": "df3b8ca3-53b7-43d5-9667-7c85da7aeda2",
   "metadata": {
    "execution": {
     "iopub.execute_input": "2025-07-30T21:17:45.410755Z",
     "iopub.status.busy": "2025-07-30T21:17:45.410298Z",
     "iopub.status.idle": "2025-07-30T21:17:45.417203Z",
     "shell.execute_reply": "2025-07-30T21:17:45.416299Z"
    },
    "papermill": {
     "duration": 0.03614,
     "end_time": "2025-07-30T21:17:45.418938",
     "exception": false,
     "start_time": "2025-07-30T21:17:45.382798",
     "status": "completed"
    },
    "tags": []
   },
   "outputs": [],
   "source": [
    "from fairness_multiverse.conformal import find_threshold\n",
    "\n",
    "# Find conformal threshold q_hat for the given alpha (split conformal method)\n",
    "q_hat = find_threshold(nc_scores, alpha)"
   ]
  },
  {
   "cell_type": "code",
   "execution_count": 52,
   "id": "4d29e6c1-0ef6-4aa4-b8fe-4fe79b0d033a",
   "metadata": {
    "execution": {
     "iopub.execute_input": "2025-07-30T21:17:45.467857Z",
     "iopub.status.busy": "2025-07-30T21:17:45.467336Z",
     "iopub.status.idle": "2025-07-30T21:17:45.475532Z",
     "shell.execute_reply": "2025-07-30T21:17:45.474459Z"
    },
    "papermill": {
     "duration": 0.034078,
     "end_time": "2025-07-30T21:17:45.477320",
     "exception": false,
     "start_time": "2025-07-30T21:17:45.443242",
     "status": "completed"
    },
    "tags": []
   },
   "outputs": [
    {
     "data": {
      "text/plain": [
       "0.6599999999999999"
      ]
     },
     "execution_count": 52,
     "metadata": {},
     "output_type": "execute_result"
    }
   ],
   "source": [
    "q_hat"
   ]
  },
  {
   "cell_type": "code",
   "execution_count": 53,
   "id": "92460794-cdac-4be2-ba28-f28c0515a6fb",
   "metadata": {
    "execution": {
     "iopub.execute_input": "2025-07-30T21:17:45.532863Z",
     "iopub.status.busy": "2025-07-30T21:17:45.532150Z",
     "iopub.status.idle": "2025-07-30T21:17:47.093839Z",
     "shell.execute_reply": "2025-07-30T21:17:47.092755Z"
    },
    "papermill": {
     "duration": 1.591501,
     "end_time": "2025-07-30T21:17:47.096014",
     "exception": false,
     "start_time": "2025-07-30T21:17:45.504513",
     "status": "completed"
    },
    "tags": []
   },
   "outputs": [],
   "source": [
    "from fairness_multiverse.conformal import predict_conformal_sets\n",
    "\n",
    "# Generate prediction sets for each test example\n",
    "pred_sets = predict_conformal_sets(model, X_test, q_hat)"
   ]
  },
  {
   "cell_type": "code",
   "execution_count": 54,
   "id": "d90c9a65-e6db-4f5d-80cd-e68fb7e46829",
   "metadata": {
    "execution": {
     "iopub.execute_input": "2025-07-30T21:17:47.146287Z",
     "iopub.status.busy": "2025-07-30T21:17:47.145764Z",
     "iopub.status.idle": "2025-07-30T21:17:47.152370Z",
     "shell.execute_reply": "2025-07-30T21:17:47.151329Z"
    },
    "papermill": {
     "duration": 0.038213,
     "end_time": "2025-07-30T21:17:47.157303",
     "exception": false,
     "start_time": "2025-07-30T21:17:47.119090",
     "status": "completed"
    },
    "tags": []
   },
   "outputs": [],
   "source": [
    "y_true = y_true.squeeze()"
   ]
  },
  {
   "cell_type": "code",
   "execution_count": 55,
   "id": "3a58a54a-1e68-46b9-927a-df01f18aebc8",
   "metadata": {
    "execution": {
     "iopub.execute_input": "2025-07-30T21:17:47.208638Z",
     "iopub.status.busy": "2025-07-30T21:17:47.208147Z",
     "iopub.status.idle": "2025-07-30T21:17:48.112620Z",
     "shell.execute_reply": "2025-07-30T21:17:48.097194Z"
    },
    "papermill": {
     "duration": 0.933367,
     "end_time": "2025-07-30T21:17:48.114993",
     "exception": false,
     "start_time": "2025-07-30T21:17:47.181626",
     "status": "completed"
    },
    "tags": []
   },
   "outputs": [],
   "source": [
    "from fairness_multiverse.conformal import evaluate_sets\n",
    "\n",
    "# Evaluate coverage and average set size on test data\n",
    "metrics = evaluate_sets(pred_sets, y_true)"
   ]
  },
  {
   "cell_type": "markdown",
   "id": "2b569c12-9aaa-4c88-98c9-bbcd0cf3ebb8",
   "metadata": {
    "papermill": {
     "duration": 0.026129,
     "end_time": "2025-07-30T21:17:48.202873",
     "exception": false,
     "start_time": "2025-07-30T21:17:48.176744",
     "status": "completed"
    },
    "tags": []
   },
   "source": [
    "# CP Metrics"
   ]
  },
  {
   "cell_type": "code",
   "execution_count": 56,
   "id": "5ce0a5cb-201f-45a0-ade5-94c7f0bd6095",
   "metadata": {
    "execution": {
     "iopub.execute_input": "2025-07-30T21:17:48.260214Z",
     "iopub.status.busy": "2025-07-30T21:17:48.259093Z",
     "iopub.status.idle": "2025-07-30T21:17:48.267170Z",
     "shell.execute_reply": "2025-07-30T21:17:48.266205Z"
    },
    "papermill": {
     "duration": 0.039165,
     "end_time": "2025-07-30T21:17:48.270682",
     "exception": false,
     "start_time": "2025-07-30T21:17:48.231517",
     "status": "completed"
    },
    "tags": []
   },
   "outputs": [
    {
     "data": {
      "text/plain": [
       "{'coverage': 0.9135993757663583, 'avg_size': 1.140396834243674}"
      ]
     },
     "execution_count": 56,
     "metadata": {},
     "output_type": "execute_result"
    }
   ],
   "source": [
    "metrics"
   ]
  },
  {
   "cell_type": "code",
   "execution_count": 57,
   "id": "9b9a838d-31c9-430b-ae14-12baee460d17",
   "metadata": {
    "execution": {
     "iopub.execute_input": "2025-07-30T21:17:48.330907Z",
     "iopub.status.busy": "2025-07-30T21:17:48.330529Z",
     "iopub.status.idle": "2025-07-30T21:17:48.335731Z",
     "shell.execute_reply": "2025-07-30T21:17:48.334638Z"
    },
    "papermill": {
     "duration": 0.039886,
     "end_time": "2025-07-30T21:17:48.337831",
     "exception": false,
     "start_time": "2025-07-30T21:17:48.297945",
     "status": "completed"
    },
    "tags": []
   },
   "outputs": [],
   "source": [
    "example_universe = universe.copy()\n",
    "universe_training_year = example_universe.get(\"training_year\")\n",
    "universe_training_size = example_universe.get(\"training_size\")\n",
    "universe_scale = example_universe.get(\"scale\")\n",
    "universe_model = example_universe.get(\"model\")\n",
    "universe_exclude_features = example_universe.get(\"exclude_features\")\n",
    "universe_exclude_subgroups = example_universe.get(\"exclude_subgroups\")"
   ]
  },
  {
   "cell_type": "code",
   "execution_count": 58,
   "id": "f4b6a8ac-9dc0-4245-8a91-5b3b5999c4f9",
   "metadata": {
    "execution": {
     "iopub.execute_input": "2025-07-30T21:17:48.384172Z",
     "iopub.status.busy": "2025-07-30T21:17:48.383711Z",
     "iopub.status.idle": "2025-07-30T21:17:48.390727Z",
     "shell.execute_reply": "2025-07-30T21:17:48.389623Z"
    },
    "papermill": {
     "duration": 0.036103,
     "end_time": "2025-07-30T21:17:48.393787",
     "exception": false,
     "start_time": "2025-07-30T21:17:48.357684",
     "status": "completed"
    },
    "tags": []
   },
   "outputs": [],
   "source": [
    "cp_metrics_dict = {\n",
    "    \"universe_id\": [universe_id],\n",
    "    \"universe_training_year\": [universe_training_year],\n",
    "    \"universe_training_size\": [universe_training_size],\n",
    "    \"universe_scale\": [universe_scale],\n",
    "    \"universe_model\": [universe_model],\n",
    "    \"universe_exclude_features\": [universe_exclude_features],\n",
    "    \"universe_exclude_subgroups\": [universe_exclude_subgroups],\n",
    "    \"q_hat\": [q_hat],\n",
    "    \"coverage\": [metrics[\"coverage\"]],\n",
    "    \"avg_size\": [metrics[\"avg_size\"]],\n",
    "}"
   ]
  },
  {
   "cell_type": "code",
   "execution_count": 59,
   "id": "908acbb1-0371-4915-85ca-3fa520d2efe2",
   "metadata": {
    "execution": {
     "iopub.execute_input": "2025-07-30T21:17:48.460350Z",
     "iopub.status.busy": "2025-07-30T21:17:48.459889Z",
     "iopub.status.idle": "2025-07-30T21:17:48.467486Z",
     "shell.execute_reply": "2025-07-30T21:17:48.466586Z"
    },
    "papermill": {
     "duration": 0.038511,
     "end_time": "2025-07-30T21:17:48.471707",
     "exception": false,
     "start_time": "2025-07-30T21:17:48.433196",
     "status": "completed"
    },
    "tags": []
   },
   "outputs": [
    {
     "data": {
      "text/plain": [
       "{'universe_id': ['8f646fc2b55270ab316871edb77cb8ff'],\n",
       " 'universe_training_year': ['2010_14'],\n",
       " 'universe_training_size': ['5k'],\n",
       " 'universe_scale': ['do-not-scale'],\n",
       " 'universe_model': ['rf'],\n",
       " 'universe_exclude_features': ['nationality'],\n",
       " 'universe_exclude_subgroups': ['keep-all'],\n",
       " 'q_hat': [0.6599999999999999],\n",
       " 'coverage': [0.9135993757663583],\n",
       " 'avg_size': [1.140396834243674]}"
      ]
     },
     "execution_count": 59,
     "metadata": {},
     "output_type": "execute_result"
    }
   ],
   "source": [
    "cp_metrics_dict"
   ]
  },
  {
   "cell_type": "code",
   "execution_count": 60,
   "id": "33007efc-14e9-4ec6-97ac-56a455c82265",
   "metadata": {
    "execution": {
     "iopub.execute_input": "2025-07-30T21:17:48.518214Z",
     "iopub.status.busy": "2025-07-30T21:17:48.517696Z",
     "iopub.status.idle": "2025-07-30T21:17:48.524894Z",
     "shell.execute_reply": "2025-07-30T21:17:48.523822Z"
    },
    "papermill": {
     "duration": 0.031578,
     "end_time": "2025-07-30T21:17:48.526596",
     "exception": false,
     "start_time": "2025-07-30T21:17:48.495018",
     "status": "completed"
    },
    "tags": []
   },
   "outputs": [],
   "source": [
    "cp_metrics_df = pd.DataFrame(cp_metrics_dict)"
   ]
  },
  {
   "cell_type": "code",
   "execution_count": 61,
   "id": "db12611b-57b2-4910-b9d0-355adfd6e7bf",
   "metadata": {
    "execution": {
     "iopub.execute_input": "2025-07-30T21:17:48.582122Z",
     "iopub.status.busy": "2025-07-30T21:17:48.581196Z",
     "iopub.status.idle": "2025-07-30T21:17:48.613159Z",
     "shell.execute_reply": "2025-07-30T21:17:48.611761Z"
    },
    "papermill": {
     "duration": 0.060483,
     "end_time": "2025-07-30T21:17:48.614660",
     "exception": false,
     "start_time": "2025-07-30T21:17:48.554177",
     "status": "completed"
    },
    "tags": []
   },
   "outputs": [
    {
     "data": {
      "text/html": [
       "<div>\n",
       "<style scoped>\n",
       "    .dataframe tbody tr th:only-of-type {\n",
       "        vertical-align: middle;\n",
       "    }\n",
       "\n",
       "    .dataframe tbody tr th {\n",
       "        vertical-align: top;\n",
       "    }\n",
       "\n",
       "    .dataframe thead th {\n",
       "        text-align: right;\n",
       "    }\n",
       "</style>\n",
       "<table border=\"1\" class=\"dataframe\">\n",
       "  <thead>\n",
       "    <tr style=\"text-align: right;\">\n",
       "      <th></th>\n",
       "      <th>universe_id</th>\n",
       "      <th>universe_training_year</th>\n",
       "      <th>universe_training_size</th>\n",
       "      <th>universe_scale</th>\n",
       "      <th>universe_model</th>\n",
       "      <th>universe_exclude_features</th>\n",
       "      <th>universe_exclude_subgroups</th>\n",
       "      <th>q_hat</th>\n",
       "      <th>coverage</th>\n",
       "      <th>avg_size</th>\n",
       "    </tr>\n",
       "  </thead>\n",
       "  <tbody>\n",
       "    <tr>\n",
       "      <th>0</th>\n",
       "      <td>8f646fc2b55270ab316871edb77cb8ff</td>\n",
       "      <td>2010_14</td>\n",
       "      <td>5k</td>\n",
       "      <td>do-not-scale</td>\n",
       "      <td>rf</td>\n",
       "      <td>nationality</td>\n",
       "      <td>keep-all</td>\n",
       "      <td>0.66</td>\n",
       "      <td>0.913599</td>\n",
       "      <td>1.140397</td>\n",
       "    </tr>\n",
       "  </tbody>\n",
       "</table>\n",
       "</div>"
      ],
      "text/plain": [
       "                        universe_id universe_training_year  \\\n",
       "0  8f646fc2b55270ab316871edb77cb8ff                2010_14   \n",
       "\n",
       "  universe_training_size universe_scale universe_model  \\\n",
       "0                     5k   do-not-scale             rf   \n",
       "\n",
       "  universe_exclude_features universe_exclude_subgroups  q_hat  coverage  \\\n",
       "0               nationality                   keep-all   0.66  0.913599   \n",
       "\n",
       "   avg_size  \n",
       "0  1.140397  "
      ]
     },
     "execution_count": 61,
     "metadata": {},
     "output_type": "execute_result"
    }
   ],
   "source": [
    "cp_metrics_df"
   ]
  },
  {
   "cell_type": "code",
   "execution_count": 62,
   "id": "b7fbde55-a0a1-47e4-9af6-fe4a17fa8c61",
   "metadata": {
    "execution": {
     "iopub.execute_input": "2025-07-30T21:17:48.674924Z",
     "iopub.status.busy": "2025-07-30T21:17:48.674151Z",
     "iopub.status.idle": "2025-07-30T21:17:48.679436Z",
     "shell.execute_reply": "2025-07-30T21:17:48.678652Z"
    },
    "papermill": {
     "duration": 0.037651,
     "end_time": "2025-07-30T21:17:48.681280",
     "exception": false,
     "start_time": "2025-07-30T21:17:48.643629",
     "status": "completed"
    },
    "tags": []
   },
   "outputs": [],
   "source": [
    "# Conditional Coverage & looking at subgroups"
   ]
  },
  {
   "cell_type": "code",
   "execution_count": 63,
   "id": "027ae886-68dd-4141-96c7-805a5450e1ef",
   "metadata": {
    "execution": {
     "iopub.execute_input": "2025-07-30T21:17:48.790174Z",
     "iopub.status.busy": "2025-07-30T21:17:48.789748Z",
     "iopub.status.idle": "2025-07-30T21:17:49.182173Z",
     "shell.execute_reply": "2025-07-30T21:17:49.180908Z"
    },
    "papermill": {
     "duration": 0.473402,
     "end_time": "2025-07-30T21:17:49.184717",
     "exception": false,
     "start_time": "2025-07-30T21:17:48.711315",
     "status": "completed"
    },
    "tags": []
   },
   "outputs": [],
   "source": [
    "from fairness_multiverse.conformal import build_cp_groups\n",
    "\n",
    "cp_groups_df = build_cp_groups(pred_sets, y_true, X_test.index, org_test)\n",
    "#needs universe_id and setting"
   ]
  },
  {
   "cell_type": "code",
   "execution_count": 64,
   "id": "01d5802c-663a-4d1f-9d69-e036faaffbf7",
   "metadata": {
    "execution": {
     "iopub.execute_input": "2025-07-30T21:17:49.259815Z",
     "iopub.status.busy": "2025-07-30T21:17:49.259308Z",
     "iopub.status.idle": "2025-07-30T21:17:49.266480Z",
     "shell.execute_reply": "2025-07-30T21:17:49.264958Z"
    },
    "papermill": {
     "duration": 0.050125,
     "end_time": "2025-07-30T21:17:49.271204",
     "exception": false,
     "start_time": "2025-07-30T21:17:49.221079",
     "status": "completed"
    },
    "tags": []
   },
   "outputs": [],
   "source": [
    "#delete\n",
    "#cp_groups_df"
   ]
  },
  {
   "cell_type": "code",
   "execution_count": 65,
   "id": "fa424af1-d1eb-443d-b717-2d279ada8408",
   "metadata": {
    "execution": {
     "iopub.execute_input": "2025-07-30T21:17:49.350203Z",
     "iopub.status.busy": "2025-07-30T21:17:49.349649Z",
     "iopub.status.idle": "2025-07-30T21:17:49.357002Z",
     "shell.execute_reply": "2025-07-30T21:17:49.355583Z"
    },
    "papermill": {
     "duration": 0.052723,
     "end_time": "2025-07-30T21:17:49.362257",
     "exception": false,
     "start_time": "2025-07-30T21:17:49.309534",
     "status": "completed"
    },
    "tags": []
   },
   "outputs": [],
   "source": [
    "#delete\n",
    "#percentage = (cp_groups_df['nongerman_female'] == 1).mean() * 100\n",
    "#print(percentage)\n"
   ]
  },
  {
   "cell_type": "code",
   "execution_count": 66,
   "id": "6cbdab96-b2b2-45af-ad54-d0516db2e28d",
   "metadata": {
    "execution": {
     "iopub.execute_input": "2025-07-30T21:17:49.451861Z",
     "iopub.status.busy": "2025-07-30T21:17:49.451465Z",
     "iopub.status.idle": "2025-07-30T21:17:51.208793Z",
     "shell.execute_reply": "2025-07-30T21:17:51.194533Z"
    },
    "papermill": {
     "duration": 1.803576,
     "end_time": "2025-07-30T21:17:51.211140",
     "exception": false,
     "start_time": "2025-07-30T21:17:49.407564",
     "status": "completed"
    },
    "tags": []
   },
   "outputs": [],
   "source": [
    "# Define covered = 1 if true_label is in the predicted set\n",
    "cp_groups_df['covered'] = cp_groups_df.apply(\n",
    "    lambda r: int(r['true_label'] in r['pred_set']),\n",
    "    axis=1\n",
    ")"
   ]
  },
  {
   "cell_type": "code",
   "execution_count": 67,
   "id": "338ff529-1a6b-4b87-a931-8e4788d52aad",
   "metadata": {
    "execution": {
     "iopub.execute_input": "2025-07-30T21:17:51.309574Z",
     "iopub.status.busy": "2025-07-30T21:17:51.309199Z",
     "iopub.status.idle": "2025-07-30T21:17:51.314097Z",
     "shell.execute_reply": "2025-07-30T21:17:51.313192Z"
    },
    "papermill": {
     "duration": 0.062352,
     "end_time": "2025-07-30T21:17:51.316288",
     "exception": false,
     "start_time": "2025-07-30T21:17:51.253936",
     "status": "completed"
    },
    "tags": []
   },
   "outputs": [],
   "source": [
    "#cp_groups_df"
   ]
  },
  {
   "cell_type": "code",
   "execution_count": 68,
   "id": "90032e27-66df-4540-9169-4e89cfbaa758",
   "metadata": {
    "execution": {
     "iopub.execute_input": "2025-07-30T21:17:51.405788Z",
     "iopub.status.busy": "2025-07-30T21:17:51.405381Z",
     "iopub.status.idle": "2025-07-30T21:17:51.430199Z",
     "shell.execute_reply": "2025-07-30T21:17:51.429143Z"
    },
    "papermill": {
     "duration": 0.071448,
     "end_time": "2025-07-30T21:17:51.432227",
     "exception": false,
     "start_time": "2025-07-30T21:17:51.360779",
     "status": "completed"
    },
    "tags": []
   },
   "outputs": [],
   "source": [
    "subgroups = ['frau1','nongerman','nongerman_male','nongerman_female']\n",
    "\n",
    "# Conditional coverage for subgroup==1\n",
    "cond_coverage = {\n",
    "    g: cp_groups_df.loc[cp_groups_df[g]==1, 'covered'].mean()\n",
    "    for g in subgroups\n",
    "}"
   ]
  },
  {
   "cell_type": "code",
   "execution_count": 69,
   "id": "1e348fb1-b9c3-45bc-ba23-f016827a7e0d",
   "metadata": {
    "execution": {
     "iopub.execute_input": "2025-07-30T21:17:51.529649Z",
     "iopub.status.busy": "2025-07-30T21:17:51.529281Z",
     "iopub.status.idle": "2025-07-30T21:17:51.535746Z",
     "shell.execute_reply": "2025-07-30T21:17:51.534800Z"
    },
    "papermill": {
     "duration": 0.040525,
     "end_time": "2025-07-30T21:17:51.539151",
     "exception": false,
     "start_time": "2025-07-30T21:17:51.498626",
     "status": "completed"
    },
    "tags": []
   },
   "outputs": [
    {
     "data": {
      "text/plain": [
       "{'frau1': 0.9112548861032485,\n",
       " 'nongerman': 0.9102340986919666,\n",
       " 'nongerman_male': 0.9253354949112852,\n",
       " 'nongerman_female': 0.8852459016393442}"
      ]
     },
     "execution_count": 69,
     "metadata": {},
     "output_type": "execute_result"
    }
   ],
   "source": [
    "cond_coverage"
   ]
  },
  {
   "cell_type": "code",
   "execution_count": 70,
   "id": "f5093324-c3dd-4d63-bc4c-8d945e5c8bbb",
   "metadata": {
    "execution": {
     "iopub.execute_input": "2025-07-30T21:17:51.597719Z",
     "iopub.status.busy": "2025-07-30T21:17:51.597340Z",
     "iopub.status.idle": "2025-07-30T21:17:51.611962Z",
     "shell.execute_reply": "2025-07-30T21:17:51.611020Z"
    },
    "papermill": {
     "duration": 0.068476,
     "end_time": "2025-07-30T21:17:51.635579",
     "exception": false,
     "start_time": "2025-07-30T21:17:51.567103",
     "status": "completed"
    },
    "tags": []
   },
   "outputs": [],
   "source": [
    "for subgroup, cov in cond_coverage.items():\n",
    "    cp_metrics_df[f\"cov_{subgroup}\"] = cov"
   ]
  },
  {
   "cell_type": "code",
   "execution_count": 71,
   "id": "6e872e10-dbe5-49e8-b554-5030c98ff75d",
   "metadata": {
    "execution": {
     "iopub.execute_input": "2025-07-30T21:17:51.724019Z",
     "iopub.status.busy": "2025-07-30T21:17:51.723498Z",
     "iopub.status.idle": "2025-07-30T21:17:51.743663Z",
     "shell.execute_reply": "2025-07-30T21:17:51.742698Z"
    },
    "papermill": {
     "duration": 0.062505,
     "end_time": "2025-07-30T21:17:51.745281",
     "exception": false,
     "start_time": "2025-07-30T21:17:51.682776",
     "status": "completed"
    },
    "tags": []
   },
   "outputs": [
    {
     "data": {
      "text/html": [
       "<div>\n",
       "<style scoped>\n",
       "    .dataframe tbody tr th:only-of-type {\n",
       "        vertical-align: middle;\n",
       "    }\n",
       "\n",
       "    .dataframe tbody tr th {\n",
       "        vertical-align: top;\n",
       "    }\n",
       "\n",
       "    .dataframe thead th {\n",
       "        text-align: right;\n",
       "    }\n",
       "</style>\n",
       "<table border=\"1\" class=\"dataframe\">\n",
       "  <thead>\n",
       "    <tr style=\"text-align: right;\">\n",
       "      <th></th>\n",
       "      <th>universe_id</th>\n",
       "      <th>universe_training_year</th>\n",
       "      <th>universe_training_size</th>\n",
       "      <th>universe_scale</th>\n",
       "      <th>universe_model</th>\n",
       "      <th>universe_exclude_features</th>\n",
       "      <th>universe_exclude_subgroups</th>\n",
       "      <th>q_hat</th>\n",
       "      <th>coverage</th>\n",
       "      <th>avg_size</th>\n",
       "      <th>cov_frau1</th>\n",
       "      <th>cov_nongerman</th>\n",
       "      <th>cov_nongerman_male</th>\n",
       "      <th>cov_nongerman_female</th>\n",
       "    </tr>\n",
       "  </thead>\n",
       "  <tbody>\n",
       "    <tr>\n",
       "      <th>0</th>\n",
       "      <td>8f646fc2b55270ab316871edb77cb8ff</td>\n",
       "      <td>2010_14</td>\n",
       "      <td>5k</td>\n",
       "      <td>do-not-scale</td>\n",
       "      <td>rf</td>\n",
       "      <td>nationality</td>\n",
       "      <td>keep-all</td>\n",
       "      <td>0.66</td>\n",
       "      <td>0.913599</td>\n",
       "      <td>1.140397</td>\n",
       "      <td>0.911255</td>\n",
       "      <td>0.910234</td>\n",
       "      <td>0.925335</td>\n",
       "      <td>0.885246</td>\n",
       "    </tr>\n",
       "  </tbody>\n",
       "</table>\n",
       "</div>"
      ],
      "text/plain": [
       "                        universe_id universe_training_year  \\\n",
       "0  8f646fc2b55270ab316871edb77cb8ff                2010_14   \n",
       "\n",
       "  universe_training_size universe_scale universe_model  \\\n",
       "0                     5k   do-not-scale             rf   \n",
       "\n",
       "  universe_exclude_features universe_exclude_subgroups  q_hat  coverage  \\\n",
       "0               nationality                   keep-all   0.66  0.913599   \n",
       "\n",
       "   avg_size  cov_frau1  cov_nongerman  cov_nongerman_male  \\\n",
       "0  1.140397   0.911255       0.910234            0.925335   \n",
       "\n",
       "   cov_nongerman_female  \n",
       "0              0.885246  "
      ]
     },
     "execution_count": 71,
     "metadata": {},
     "output_type": "execute_result"
    }
   ],
   "source": [
    "cp_metrics_df"
   ]
  },
  {
   "cell_type": "markdown",
   "id": "33774451",
   "metadata": {
    "papermill": {
     "duration": 0.026828,
     "end_time": "2025-07-30T21:17:51.801829",
     "exception": false,
     "start_time": "2025-07-30T21:17:51.775001",
     "status": "completed"
    },
    "tags": []
   },
   "source": [
    "# (Fairness) Metrics"
   ]
  },
  {
   "cell_type": "code",
   "execution_count": 72,
   "id": "debc5d62",
   "metadata": {
    "execution": {
     "iopub.execute_input": "2025-07-30T21:17:51.859333Z",
     "iopub.status.busy": "2025-07-30T21:17:51.858631Z",
     "iopub.status.idle": "2025-07-30T21:17:51.883249Z",
     "shell.execute_reply": "2025-07-30T21:17:51.882167Z"
    },
    "papermill": {
     "duration": 0.054893,
     "end_time": "2025-07-30T21:17:51.885320",
     "exception": false,
     "start_time": "2025-07-30T21:17:51.830427",
     "status": "completed"
    },
    "tags": []
   },
   "outputs": [],
   "source": [
    "# do I need to include maxdeutsch1.missing?\n",
    "\n",
    "import numpy as np\n",
    "\n",
    "colname_to_bin = \"maxdeutsch1\"\n",
    "majority_value = org_train[colname_to_bin].mode()[0]\n",
    "\n",
    "org_test[\"majmin\"] = np.where(org_test[colname_to_bin] == majority_value, \"majority\", \"minority\")"
   ]
  },
  {
   "cell_type": "code",
   "execution_count": 73,
   "id": "06a50de5",
   "metadata": {
    "execution": {
     "iopub.execute_input": "2025-07-30T21:17:51.943209Z",
     "iopub.status.busy": "2025-07-30T21:17:51.942671Z",
     "iopub.status.idle": "2025-07-30T21:17:54.946071Z",
     "shell.execute_reply": "2025-07-30T21:17:54.945049Z"
    },
    "papermill": {
     "duration": 3.03382,
     "end_time": "2025-07-30T21:17:54.947777",
     "exception": false,
     "start_time": "2025-07-30T21:17:51.913957",
     "status": "completed"
    },
    "tags": []
   },
   "outputs": [],
   "source": [
    "example_universe = universe.copy()\n",
    "example_universe[\"cutoff\"] = example_universe[\"cutoff\"][0]\n",
    "example_universe[\"eval_fairness_grouping\"] = example_universe[\"eval_fairness_grouping\"][0]\n",
    "fairness_dict, metric_frame = universe_analysis.compute_metrics(\n",
    "    example_universe,\n",
    "    y_pred_prob=probs_test,\n",
    "    y_test=y_true,\n",
    "    org_test=org_test,\n",
    ")"
   ]
  },
  {
   "cell_type": "markdown",
   "id": "f95d4e02",
   "metadata": {
    "papermill": {
     "duration": 0.041348,
     "end_time": "2025-07-30T21:17:55.032537",
     "exception": false,
     "start_time": "2025-07-30T21:17:54.991189",
     "status": "completed"
    },
    "tags": []
   },
   "source": [
    "# Overall"
   ]
  },
  {
   "cell_type": "markdown",
   "id": "bdee4871",
   "metadata": {
    "papermill": {
     "duration": 0.03169,
     "end_time": "2025-07-30T21:17:55.093958",
     "exception": false,
     "start_time": "2025-07-30T21:17:55.062268",
     "status": "completed"
    },
    "tags": []
   },
   "source": [
    "Fairness\n",
    "Main fairness target: Equalized Odds. Seems to be a better fit than equal opportunity, since we're not only interested in Y = 1. Seems to be a better fit than demographic parity, since we also care about accuracy, not just equal distribution of preds.\n",
    "\n",
    "Pick column for computation of fairness metrics\n",
    "\n",
    "Performance\n",
    "Overall performance measures, most interesting in relation to the measures split by group below"
   ]
  },
  {
   "cell_type": "code",
   "execution_count": 74,
   "id": "c4e067c6",
   "metadata": {
    "execution": {
     "iopub.execute_input": "2025-07-30T21:17:55.155291Z",
     "iopub.status.busy": "2025-07-30T21:17:55.154554Z",
     "iopub.status.idle": "2025-07-30T21:17:55.166185Z",
     "shell.execute_reply": "2025-07-30T21:17:55.163685Z"
    },
    "papermill": {
     "duration": 0.047714,
     "end_time": "2025-07-30T21:17:55.169584",
     "exception": false,
     "start_time": "2025-07-30T21:17:55.121870",
     "status": "completed"
    },
    "tags": []
   },
   "outputs": [
    {
     "data": {
      "text/plain": [
       "accuracy                   0.200791\n",
       "balanced accuracy          0.531364\n",
       "f1                         0.238570\n",
       "precision                  0.135893\n",
       "false positive rate        0.913289\n",
       "false negative rate        0.023983\n",
       "selection rate             0.921335\n",
       "count                  89710.000000\n",
       "dtype: float64"
      ]
     },
     "execution_count": 74,
     "metadata": {},
     "output_type": "execute_result"
    }
   ],
   "source": [
    "metric_frame.overall"
   ]
  },
  {
   "cell_type": "markdown",
   "id": "e968fe9d",
   "metadata": {
    "papermill": {
     "duration": 0.026796,
     "end_time": "2025-07-30T21:17:55.226131",
     "exception": false,
     "start_time": "2025-07-30T21:17:55.199335",
     "status": "completed"
    },
    "tags": []
   },
   "source": [
    "By Group"
   ]
  },
  {
   "cell_type": "code",
   "execution_count": 75,
   "id": "ec325bce",
   "metadata": {
    "execution": {
     "iopub.execute_input": "2025-07-30T21:17:55.394482Z",
     "iopub.status.busy": "2025-07-30T21:17:55.394087Z",
     "iopub.status.idle": "2025-07-30T21:17:55.422292Z",
     "shell.execute_reply": "2025-07-30T21:17:55.421304Z"
    },
    "papermill": {
     "duration": 0.155055,
     "end_time": "2025-07-30T21:17:55.424419",
     "exception": false,
     "start_time": "2025-07-30T21:17:55.269364",
     "status": "completed"
    },
    "tags": []
   },
   "outputs": [
    {
     "data": {
      "text/html": [
       "<div>\n",
       "<style scoped>\n",
       "    .dataframe tbody tr th:only-of-type {\n",
       "        vertical-align: middle;\n",
       "    }\n",
       "\n",
       "    .dataframe tbody tr th {\n",
       "        vertical-align: top;\n",
       "    }\n",
       "\n",
       "    .dataframe thead th {\n",
       "        text-align: right;\n",
       "    }\n",
       "</style>\n",
       "<table border=\"1\" class=\"dataframe\">\n",
       "  <thead>\n",
       "    <tr style=\"text-align: right;\">\n",
       "      <th></th>\n",
       "      <th>accuracy</th>\n",
       "      <th>balanced accuracy</th>\n",
       "      <th>f1</th>\n",
       "      <th>precision</th>\n",
       "      <th>false positive rate</th>\n",
       "      <th>false negative rate</th>\n",
       "      <th>selection rate</th>\n",
       "      <th>count</th>\n",
       "    </tr>\n",
       "    <tr>\n",
       "      <th>majmin</th>\n",
       "      <th></th>\n",
       "      <th></th>\n",
       "      <th></th>\n",
       "      <th></th>\n",
       "      <th></th>\n",
       "      <th></th>\n",
       "      <th></th>\n",
       "      <th></th>\n",
       "    </tr>\n",
       "  </thead>\n",
       "  <tbody>\n",
       "    <tr>\n",
       "      <th>majority</th>\n",
       "      <td>0.193595</td>\n",
       "      <td>0.531234</td>\n",
       "      <td>0.244995</td>\n",
       "      <td>0.139792</td>\n",
       "      <td>0.927686</td>\n",
       "      <td>0.009847</td>\n",
       "      <td>0.935940</td>\n",
       "      <td>69170.0</td>\n",
       "    </tr>\n",
       "    <tr>\n",
       "      <th>minority</th>\n",
       "      <td>0.225024</td>\n",
       "      <td>0.527863</td>\n",
       "      <td>0.215166</td>\n",
       "      <td>0.121804</td>\n",
       "      <td>0.865727</td>\n",
       "      <td>0.078547</td>\n",
       "      <td>0.872152</td>\n",
       "      <td>20540.0</td>\n",
       "    </tr>\n",
       "  </tbody>\n",
       "</table>\n",
       "</div>"
      ],
      "text/plain": [
       "          accuracy  balanced accuracy        f1  precision  \\\n",
       "majmin                                                       \n",
       "majority  0.193595           0.531234  0.244995   0.139792   \n",
       "minority  0.225024           0.527863  0.215166   0.121804   \n",
       "\n",
       "          false positive rate  false negative rate  selection rate    count  \n",
       "majmin                                                                       \n",
       "majority             0.927686             0.009847        0.935940  69170.0  \n",
       "minority             0.865727             0.078547        0.872152  20540.0  "
      ]
     },
     "execution_count": 75,
     "metadata": {},
     "output_type": "execute_result"
    }
   ],
   "source": [
    "metric_frame.by_group"
   ]
  },
  {
   "cell_type": "code",
   "execution_count": 76,
   "id": "a9ddbe63",
   "metadata": {
    "execution": {
     "iopub.execute_input": "2025-07-30T21:17:55.537218Z",
     "iopub.status.busy": "2025-07-30T21:17:55.536822Z",
     "iopub.status.idle": "2025-07-30T21:17:58.756866Z",
     "shell.execute_reply": "2025-07-30T21:17:58.755591Z"
    },
    "papermill": {
     "duration": 3.305583,
     "end_time": "2025-07-30T21:17:58.758283",
     "exception": false,
     "start_time": "2025-07-30T21:17:55.452700",
     "status": "completed"
    },
    "tags": []
   },
   "outputs": [
    {
     "data": {
      "text/plain": [
       "array([[<Axes: title={'center': 'accuracy'}, xlabel='majmin'>,\n",
       "        <Axes: title={'center': 'balanced accuracy'}, xlabel='majmin'>,\n",
       "        <Axes: title={'center': 'f1'}, xlabel='majmin'>],\n",
       "       [<Axes: title={'center': 'precision'}, xlabel='majmin'>,\n",
       "        <Axes: title={'center': 'false positive rate'}, xlabel='majmin'>,\n",
       "        <Axes: title={'center': 'false negative rate'}, xlabel='majmin'>],\n",
       "       [<Axes: title={'center': 'selection rate'}, xlabel='majmin'>,\n",
       "        <Axes: title={'center': 'count'}, xlabel='majmin'>,\n",
       "        <Axes: xlabel='majmin'>]], dtype=object)"
      ]
     },
     "execution_count": 76,
     "metadata": {},
     "output_type": "execute_result"
    },
    {
     "data": {
      "image/png": "[encoded data removed]",
      "text/plain": [
       "<Figure size 1200x800 with 9 Axes>"
      ]
     },
     "metadata": {},
     "output_type": "display_data"
    }
   ],
   "source": [
    "# In a graphic\n",
    "metric_frame.by_group.plot.bar(\n",
    "    subplots=True,\n",
    "    layout=[3, 3],\n",
    "    legend=False,\n",
    "    figsize=[12, 8],\n",
    "    title=\"Show all metrics\",\n",
    ")"
   ]
  },
  {
   "cell_type": "markdown",
   "id": "f57a0bac",
   "metadata": {
    "papermill": {
     "duration": 0.055149,
     "end_time": "2025-07-30T21:17:58.868107",
     "exception": false,
     "start_time": "2025-07-30T21:17:58.812958",
     "status": "completed"
    },
    "tags": []
   },
   "source": [
    "# Final Output"
   ]
  },
  {
   "cell_type": "code",
   "execution_count": 77,
   "id": "96d280a3",
   "metadata": {
    "execution": {
     "iopub.execute_input": "2025-07-30T21:17:58.924443Z",
     "iopub.status.busy": "2025-07-30T21:17:58.923831Z",
     "iopub.status.idle": "2025-07-30T21:17:58.932060Z",
     "shell.execute_reply": "2025-07-30T21:17:58.930938Z"
    },
    "papermill": {
     "duration": 0.043616,
     "end_time": "2025-07-30T21:17:58.935413",
     "exception": false,
     "start_time": "2025-07-30T21:17:58.891797",
     "status": "completed"
    },
    "tags": []
   },
   "outputs": [
    {
     "data": {
      "text/plain": [
       "4"
      ]
     },
     "execution_count": 77,
     "metadata": {},
     "output_type": "execute_result"
    }
   ],
   "source": [
    "sub_universes = universe_analysis.generate_sub_universes()\n",
    "len(sub_universes)"
   ]
  },
  {
   "cell_type": "code",
   "execution_count": 78,
   "id": "92adf7ba",
   "metadata": {
    "execution": {
     "iopub.execute_input": "2025-07-30T21:17:58.991952Z",
     "iopub.status.busy": "2025-07-30T21:17:58.991537Z",
     "iopub.status.idle": "2025-07-30T21:17:58.997804Z",
     "shell.execute_reply": "2025-07-30T21:17:58.996915Z"
    },
    "papermill": {
     "duration": 0.036649,
     "end_time": "2025-07-30T21:17:59.000974",
     "exception": false,
     "start_time": "2025-07-30T21:17:58.964325",
     "status": "completed"
    },
    "tags": []
   },
   "outputs": [],
   "source": [
    "def filter_sub_universe_data(sub_universe, org_test):\n",
    "    # Keep all rows — no filtering\n",
    "    keep_rows_mask = np.ones(org_test.shape[0], dtype=bool)\n",
    "\n",
    "    print(f\"[INFO] Keeping all rows: {keep_rows_mask.sum()} rows retained.\")\n",
    "    return keep_rows_mask"
   ]
  },
  {
   "cell_type": "code",
   "execution_count": 79,
   "id": "4a759155",
   "metadata": {
    "execution": {
     "iopub.execute_input": "2025-07-30T21:17:59.058300Z",
     "iopub.status.busy": "2025-07-30T21:17:59.057555Z",
     "iopub.status.idle": "2025-07-30T21:18:10.297104Z",
     "shell.execute_reply": "2025-07-30T21:18:10.295868Z"
    },
    "papermill": {
     "duration": 11.27314,
     "end_time": "2025-07-30T21:18:10.298862",
     "exception": false,
     "start_time": "2025-07-30T21:17:59.025722",
     "status": "completed"
    },
    "tags": []
   },
   "outputs": [
    {
     "name": "stdout",
     "output_type": "stream",
     "text": [
      "Stopping execution_time clock.\n",
      "[INFO] Keeping all rows: 89710 rows retained.\n"
     ]
    },
    {
     "name": "stdout",
     "output_type": "stream",
     "text": [
      "[INFO] Keeping all rows: 89710 rows retained.\n"
     ]
    },
    {
     "name": "stdout",
     "output_type": "stream",
     "text": [
      "[INFO] Keeping all rows: 89710 rows retained.\n"
     ]
    },
    {
     "name": "stdout",
     "output_type": "stream",
     "text": [
      "[INFO] Keeping all rows: 89710 rows retained.\n"
     ]
    },
    {
     "data": {
      "text/html": [
       "<div>\n",
       "<style scoped>\n",
       "    .dataframe tbody tr th:only-of-type {\n",
       "        vertical-align: middle;\n",
       "    }\n",
       "\n",
       "    .dataframe tbody tr th {\n",
       "        vertical-align: top;\n",
       "    }\n",
       "\n",
       "    .dataframe thead th {\n",
       "        text-align: right;\n",
       "    }\n",
       "</style>\n",
       "<table border=\"1\" class=\"dataframe\">\n",
       "  <thead>\n",
       "    <tr style=\"text-align: right;\">\n",
       "      <th></th>\n",
       "      <th>run_no</th>\n",
       "      <th>universe_id</th>\n",
       "      <th>universe_settings</th>\n",
       "      <th>execution_time</th>\n",
       "      <th>test_size_n</th>\n",
       "      <th>test_size_frac</th>\n",
       "      <th>fair_main_equalized_odds_difference</th>\n",
       "      <th>fair_main_equalized_odds_ratio</th>\n",
       "      <th>fair_main_demographic_parity_difference</th>\n",
       "      <th>fair_main_demographic_parity_ratio</th>\n",
       "      <th>...</th>\n",
       "      <th>perf_grp_precision_0</th>\n",
       "      <th>perf_grp_precision_1</th>\n",
       "      <th>perf_grp_false positive rate_0</th>\n",
       "      <th>perf_grp_false positive rate_1</th>\n",
       "      <th>perf_grp_false negative rate_0</th>\n",
       "      <th>perf_grp_false negative rate_1</th>\n",
       "      <th>perf_grp_selection rate_0</th>\n",
       "      <th>perf_grp_selection rate_1</th>\n",
       "      <th>perf_grp_count_0</th>\n",
       "      <th>perf_grp_count_1</th>\n",
       "    </tr>\n",
       "  </thead>\n",
       "  <tbody>\n",
       "    <tr>\n",
       "      <th>0</th>\n",
       "      <td>14</td>\n",
       "      <td>8f646fc2b55270ab316871edb77cb8ff</td>\n",
       "      <td>{\"cutoff\": \"quantile_0.1\", \"eval_fairness_grou...</td>\n",
       "      <td>33.725192</td>\n",
       "      <td>89710</td>\n",
       "      <td>1.0</td>\n",
       "      <td>0.068700</td>\n",
       "      <td>0.930616</td>\n",
       "      <td>0.063789</td>\n",
       "      <td>0.931846</td>\n",
       "      <td>...</td>\n",
       "      <td>NaN</td>\n",
       "      <td>NaN</td>\n",
       "      <td>NaN</td>\n",
       "      <td>NaN</td>\n",
       "      <td>NaN</td>\n",
       "      <td>NaN</td>\n",
       "      <td>NaN</td>\n",
       "      <td>NaN</td>\n",
       "      <td>NaN</td>\n",
       "      <td>NaN</td>\n",
       "    </tr>\n",
       "    <tr>\n",
       "      <th>0</th>\n",
       "      <td>14</td>\n",
       "      <td>8f646fc2b55270ab316871edb77cb8ff</td>\n",
       "      <td>{\"cutoff\": \"quantile_0.1\", \"eval_fairness_grou...</td>\n",
       "      <td>33.725192</td>\n",
       "      <td>89710</td>\n",
       "      <td>1.0</td>\n",
       "      <td>0.068700</td>\n",
       "      <td>0.930616</td>\n",
       "      <td>0.063789</td>\n",
       "      <td>0.931846</td>\n",
       "      <td>...</td>\n",
       "      <td>0.121804</td>\n",
       "      <td>0.139792</td>\n",
       "      <td>0.865727</td>\n",
       "      <td>0.927686</td>\n",
       "      <td>0.078547</td>\n",
       "      <td>0.009847</td>\n",
       "      <td>0.872152</td>\n",
       "      <td>0.935940</td>\n",
       "      <td>20540.0</td>\n",
       "      <td>69170.0</td>\n",
       "    </tr>\n",
       "    <tr>\n",
       "      <th>0</th>\n",
       "      <td>14</td>\n",
       "      <td>8f646fc2b55270ab316871edb77cb8ff</td>\n",
       "      <td>{\"cutoff\": \"quantile_0.25\", \"eval_fairness_gro...</td>\n",
       "      <td>33.725192</td>\n",
       "      <td>89710</td>\n",
       "      <td>1.0</td>\n",
       "      <td>0.118256</td>\n",
       "      <td>0.876586</td>\n",
       "      <td>0.068684</td>\n",
       "      <td>0.913396</td>\n",
       "      <td>...</td>\n",
       "      <td>NaN</td>\n",
       "      <td>NaN</td>\n",
       "      <td>NaN</td>\n",
       "      <td>NaN</td>\n",
       "      <td>NaN</td>\n",
       "      <td>NaN</td>\n",
       "      <td>NaN</td>\n",
       "      <td>NaN</td>\n",
       "      <td>NaN</td>\n",
       "      <td>NaN</td>\n",
       "    </tr>\n",
       "    <tr>\n",
       "      <th>0</th>\n",
       "      <td>14</td>\n",
       "      <td>8f646fc2b55270ab316871edb77cb8ff</td>\n",
       "      <td>{\"cutoff\": \"quantile_0.25\", \"eval_fairness_gro...</td>\n",
       "      <td>33.725192</td>\n",
       "      <td>89710</td>\n",
       "      <td>1.0</td>\n",
       "      <td>0.118256</td>\n",
       "      <td>0.876586</td>\n",
       "      <td>0.068684</td>\n",
       "      <td>0.913396</td>\n",
       "      <td>...</td>\n",
       "      <td>0.133678</td>\n",
       "      <td>0.159651</td>\n",
       "      <td>0.709333</td>\n",
       "      <td>0.767933</td>\n",
       "      <td>0.160051</td>\n",
       "      <td>0.041794</td>\n",
       "      <td>0.724391</td>\n",
       "      <td>0.793075</td>\n",
       "      <td>20540.0</td>\n",
       "      <td>69170.0</td>\n",
       "    </tr>\n",
       "  </tbody>\n",
       "</table>\n",
       "<p>4 rows × 50 columns</p>\n",
       "</div>"
      ],
      "text/plain": [
       "  run_no                       universe_id  \\\n",
       "0     14  8f646fc2b55270ab316871edb77cb8ff   \n",
       "0     14  8f646fc2b55270ab316871edb77cb8ff   \n",
       "0     14  8f646fc2b55270ab316871edb77cb8ff   \n",
       "0     14  8f646fc2b55270ab316871edb77cb8ff   \n",
       "\n",
       "                                   universe_settings  execution_time  \\\n",
       "0  {\"cutoff\": \"quantile_0.1\", \"eval_fairness_grou...       33.725192   \n",
       "0  {\"cutoff\": \"quantile_0.1\", \"eval_fairness_grou...       33.725192   \n",
       "0  {\"cutoff\": \"quantile_0.25\", \"eval_fairness_gro...       33.725192   \n",
       "0  {\"cutoff\": \"quantile_0.25\", \"eval_fairness_gro...       33.725192   \n",
       "\n",
       "   test_size_n  test_size_frac  fair_main_equalized_odds_difference  \\\n",
       "0        89710             1.0                             0.068700   \n",
       "0        89710             1.0                             0.068700   \n",
       "0        89710             1.0                             0.118256   \n",
       "0        89710             1.0                             0.118256   \n",
       "\n",
       "   fair_main_equalized_odds_ratio  fair_main_demographic_parity_difference  \\\n",
       "0                        0.930616                                 0.063789   \n",
       "0                        0.930616                                 0.063789   \n",
       "0                        0.876586                                 0.068684   \n",
       "0                        0.876586                                 0.068684   \n",
       "\n",
       "   fair_main_demographic_parity_ratio  ...  perf_grp_precision_0  \\\n",
       "0                            0.931846  ...                   NaN   \n",
       "0                            0.931846  ...              0.121804   \n",
       "0                            0.913396  ...                   NaN   \n",
       "0                            0.913396  ...              0.133678   \n",
       "\n",
       "   perf_grp_precision_1  perf_grp_false positive rate_0  \\\n",
       "0                   NaN                             NaN   \n",
       "0              0.139792                        0.865727   \n",
       "0                   NaN                             NaN   \n",
       "0              0.159651                        0.709333   \n",
       "\n",
       "   perf_grp_false positive rate_1  perf_grp_false negative rate_0  \\\n",
       "0                             NaN                             NaN   \n",
       "0                        0.927686                        0.078547   \n",
       "0                             NaN                             NaN   \n",
       "0                        0.767933                        0.160051   \n",
       "\n",
       "   perf_grp_false negative rate_1  perf_grp_selection rate_0  \\\n",
       "0                             NaN                        NaN   \n",
       "0                        0.009847                   0.872152   \n",
       "0                             NaN                        NaN   \n",
       "0                        0.041794                   0.724391   \n",
       "\n",
       "   perf_grp_selection rate_1  perf_grp_count_0  perf_grp_count_1  \n",
       "0                        NaN               NaN               NaN  \n",
       "0                   0.935940           20540.0           69170.0  \n",
       "0                        NaN               NaN               NaN  \n",
       "0                   0.793075           20540.0           69170.0  \n",
       "\n",
       "[4 rows x 50 columns]"
      ]
     },
     "execution_count": 79,
     "metadata": {},
     "output_type": "execute_result"
    }
   ],
   "source": [
    "final_output = universe_analysis.generate_final_output(\n",
    "    y_pred_prob=probs_test,\n",
    "    y_test=y_true,\n",
    "    org_test=org_test,\n",
    "    filter_data=filter_sub_universe_data,\n",
    "    cp_metrics_df=cp_metrics_df,\n",
    "    save=True,\n",
    ")\n",
    "final_output"
   ]
  },
  {
   "cell_type": "code",
   "execution_count": null,
   "id": "721ff514-cb11-46f8-b6fc-50392f74b5cb",
   "metadata": {
    "papermill": {
     "duration": 0.035259,
     "end_time": "2025-07-30T21:18:10.411613",
     "exception": false,
     "start_time": "2025-07-30T21:18:10.376354",
     "status": "completed"
    },
    "tags": []
   },
   "outputs": [],
   "source": []
  }
 ],
 "metadata": {
  "celltoolbar": "Tags",
  "kernelspec": {
   "display_name": "Python (CMA Fairness)",
   "language": "python",
   "name": "cma_fair_env"
  },
  "language_info": {
   "codemirror_mode": {
    "name": "ipython",
    "version": 3
   },
   "file_extension": ".py",
   "mimetype": "text/x-python",
   "name": "python",
   "nbconvert_exporter": "python",
   "pygments_lexer": "ipython3",
   "version": "3.10.12"
  },
  "papermill": {
   "default_parameters": {},
   "duration": 50.593344,
   "end_time": "2025-07-30T21:18:11.384173",
   "environment_variables": {},
   "exception": null,
   "input_path": "universe_analysis.ipynb",
   "output_path": "output/runs/14/notebooks/m_14-8f646fc2b55270ab316871edb77cb8ff.ipynb",
   "parameters": {
    "output_dir": "output",
    "run_no": "14",
    "seed": "2023",
    "universe": "{\"cutoff\": [\"quantile_0.1\", \"quantile_0.25\"], \"eval_fairness_grouping\": [\"majority-minority\", \"nationality-all\"], \"exclude_features\": \"nationality\", \"exclude_subgroups\": \"keep-all\", \"model\": \"rf\", \"scale\": \"do-not-scale\", \"training_size\": \"5k\", \"training_year\": \"2010_14\"}",
    "universe_id": "8f646fc2b55270ab316871edb77cb8ff"
   },
   "start_time": "2025-07-30T21:17:20.790829",
   "version": "2.6.0"
  }
 },
 "nbformat": 4,
 "nbformat_minor": 5
}