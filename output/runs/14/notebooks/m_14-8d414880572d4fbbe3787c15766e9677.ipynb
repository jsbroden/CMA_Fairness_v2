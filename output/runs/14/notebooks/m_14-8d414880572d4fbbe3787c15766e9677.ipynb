{
 "cells": [
  {
   "cell_type": "code",
   "execution_count": 1,
   "id": "f159f837-637b-42ba-96b5-ec9a68c44524",
   "metadata": {
    "execution": {
     "iopub.execute_input": "2025-07-30T21:38:54.218626Z",
     "iopub.status.busy": "2025-07-30T21:38:54.218089Z",
     "iopub.status.idle": "2025-07-30T21:38:54.232939Z",
     "shell.execute_reply": "2025-07-30T21:38:54.231816Z"
    },
    "papermill": {
     "duration": 0.036943,
     "end_time": "2025-07-30T21:38:54.234677",
     "exception": false,
     "start_time": "2025-07-30T21:38:54.197734",
     "status": "completed"
    },
    "tags": []
   },
   "outputs": [
    {
     "name": "stdout",
     "output_type": "stream",
     "text": [
      "/dss/dsshome1/0C/ra93lal2/cma/CMA_Fairness_v2\n"
     ]
    },
    {
     "name": "stderr",
     "output_type": "stream",
     "text": [
      "/dss/dsshome1/0C/ra93lal2/.local/share/virtualenvs/CMA_Fairness_v2-3j10GkSs/lib/python3.10/site-packages/IPython/core/magics/osm.py:393: UserWarning: This is now an optional IPython functionality, using bookmarks requires you to install the `pickleshare` library.\n",
      "  bkms = self.shell.db.get('bookmarks', {})\n",
      "/dss/dsshome1/0C/ra93lal2/.local/share/virtualenvs/CMA_Fairness_v2-3j10GkSs/lib/python3.10/site-packages/IPython/core/magics/osm.py:417: UserWarning: This is now an optional IPython functionality, setting dhist requires you to install the `pickleshare` library.\n",
      "  self.shell.db['dhist'] = compress_dhist(dhist)[-100:]\n"
     ]
    }
   ],
   "source": [
    "%cd ~/cma/CMA_Fairness_v2"
   ]
  },
  {
   "cell_type": "markdown",
   "id": "de2603b9",
   "metadata": {
    "papermill": {
     "duration": 0.021694,
     "end_time": "2025-07-30T21:38:54.278819",
     "exception": false,
     "start_time": "2025-07-30T21:38:54.257125",
     "status": "completed"
    },
    "tags": []
   },
   "source": [
    "The following cell holds the definition of our parameters, these values can be overriden by rendering the with e.g. the following command:\n",
    "\n",
    "papermill -p alpha 0.2 -p ratio 0.3 universe_analysis.ipynb output/test_run.ipynb"
   ]
  },
  {
   "cell_type": "code",
   "execution_count": 2,
   "id": "a80968a0-40bb-4fa9-85ef-2d5eefb01975",
   "metadata": {
    "execution": {
     "iopub.execute_input": "2025-07-30T21:38:54.323273Z",
     "iopub.status.busy": "2025-07-30T21:38:54.322880Z",
     "iopub.status.idle": "2025-07-30T21:38:54.328085Z",
     "shell.execute_reply": "2025-07-30T21:38:54.327138Z"
    },
    "papermill": {
     "duration": 0.039237,
     "end_time": "2025-07-30T21:38:54.339563",
     "exception": false,
     "start_time": "2025-07-30T21:38:54.300326",
     "status": "completed"
    },
    "tags": []
   },
   "outputs": [
    {
     "name": "stdout",
     "output_type": "stream",
     "text": [
      "Current working directory: /dss/dsshome1/0C/ra93lal2/cma/CMA_Fairness_v2\n"
     ]
    }
   ],
   "source": [
    "import os\n",
    "print(\"Current working directory:\", os.getcwd())"
   ]
  },
  {
   "cell_type": "code",
   "execution_count": 3,
   "id": "2dce4c03",
   "metadata": {
    "execution": {
     "iopub.execute_input": "2025-07-30T21:38:54.386759Z",
     "iopub.status.busy": "2025-07-30T21:38:54.385767Z",
     "iopub.status.idle": "2025-07-30T21:38:54.392978Z",
     "shell.execute_reply": "2025-07-30T21:38:54.391904Z"
    },
    "papermill": {
     "duration": 0.033491,
     "end_time": "2025-07-30T21:38:54.395308",
     "exception": false,
     "start_time": "2025-07-30T21:38:54.361817",
     "status": "completed"
    },
    "tags": [
     "parameters"
    ]
   },
   "outputs": [],
   "source": [
    "run_no = 0\n",
    "universe_id = \"test\"\n",
    "universe = {\n",
    "    \"training_size\": \"25k\", # \"25k\", \"5k\", \"1k\"\n",
    "    \"training_year\": \"2014\", # \"2014\", \"2012_14\", \"2010_14\"\n",
    "    \"scale\": \"scale\", # \"scale\", \"do-not-scale\",\n",
    "    #\"stratify_split\": \"target\", # \"none\", \"target\", \"protected-attribute\", \"both\",\n",
    "    \"model\": \"elasticnet\", # \"logreg\", \"penalized_logreg\", \"rf\", \"gbm\", \"elasticnet\"\n",
    "    \"cutoff\": [\"quantile_0.15\", \"quantile_0.30\"],\n",
    "    \"exclude_features\": \"age\", # \"none\", \"nationality\", \"sex\", \"nationality-sex\", \"age\"\n",
    "    \"exclude_subgroups\": \"keep-all\", # \"keep-all\", \"drop-non-german\"\n",
    "    \"eval_fairness_grouping\": [\"majority-minority\", \"nationality-all\"]\n",
    "}\n",
    "\n",
    "output_dir=\"./output\"\n",
    "seed=0"
   ]
  },
  {
   "cell_type": "code",
   "execution_count": 4,
   "id": "2812dc98",
   "metadata": {
    "execution": {
     "iopub.execute_input": "2025-07-30T21:38:54.442517Z",
     "iopub.status.busy": "2025-07-30T21:38:54.442088Z",
     "iopub.status.idle": "2025-07-30T21:38:54.447614Z",
     "shell.execute_reply": "2025-07-30T21:38:54.446558Z"
    },
    "papermill": {
     "duration": 0.033194,
     "end_time": "2025-07-30T21:38:54.449529",
     "exception": false,
     "start_time": "2025-07-30T21:38:54.416335",
     "status": "completed"
    },
    "tags": [
     "injected-parameters"
    ]
   },
   "outputs": [],
   "source": [
    "# Parameters\n",
    "universe_id = \"8d414880572d4fbbe3787c15766e9677\"\n",
    "run_no = \"14\"\n",
    "universe = \"{\\\"cutoff\\\": [\\\"quantile_0.1\\\", \\\"quantile_0.25\\\"], \\\"eval_fairness_grouping\\\": [\\\"majority-minority\\\", \\\"nationality-all\\\"], \\\"exclude_features\\\": \\\"none\\\", \\\"exclude_subgroups\\\": \\\"keep-all\\\", \\\"model\\\": \\\"penalized_logreg\\\", \\\"scale\\\": \\\"do-not-scale\\\", \\\"training_size\\\": \\\"1k\\\", \\\"training_year\\\": \\\"2012_14\\\"}\"\n",
    "output_dir = \"output\"\n",
    "seed = \"2023\"\n"
   ]
  },
  {
   "cell_type": "code",
   "execution_count": 5,
   "id": "1650acaf",
   "metadata": {
    "execution": {
     "iopub.execute_input": "2025-07-30T21:38:54.493541Z",
     "iopub.status.busy": "2025-07-30T21:38:54.492815Z",
     "iopub.status.idle": "2025-07-30T21:38:54.497784Z",
     "shell.execute_reply": "2025-07-30T21:38:54.496855Z"
    },
    "papermill": {
     "duration": 0.026743,
     "end_time": "2025-07-30T21:38:54.499306",
     "exception": false,
     "start_time": "2025-07-30T21:38:54.472563",
     "status": "completed"
    },
    "tags": []
   },
   "outputs": [],
   "source": [
    "import json\n",
    "# Parse universe into dict if it is passed as a string\n",
    "if isinstance(universe, str):\n",
    "    universe = json.loads(universe)"
   ]
  },
  {
   "cell_type": "code",
   "execution_count": 6,
   "id": "16620c48",
   "metadata": {
    "execution": {
     "iopub.execute_input": "2025-07-30T21:38:54.539661Z",
     "iopub.status.busy": "2025-07-30T21:38:54.539331Z",
     "iopub.status.idle": "2025-07-30T21:38:54.586305Z",
     "shell.execute_reply": "2025-07-30T21:38:54.585181Z"
    },
    "papermill": {
     "duration": 0.066943,
     "end_time": "2025-07-30T21:38:54.588201",
     "exception": false,
     "start_time": "2025-07-30T21:38:54.521258",
     "status": "completed"
    },
    "tags": []
   },
   "outputs": [],
   "source": [
    "# Auto-reload the custom package\n",
    "%load_ext autoreload\n",
    "%autoreload 1\n",
    "%aimport fairness_multiverse"
   ]
  },
  {
   "cell_type": "code",
   "execution_count": 7,
   "id": "01c5c9f3",
   "metadata": {
    "execution": {
     "iopub.execute_input": "2025-07-30T21:38:54.631967Z",
     "iopub.status.busy": "2025-07-30T21:38:54.631067Z",
     "iopub.status.idle": "2025-07-30T21:38:56.571407Z",
     "shell.execute_reply": "2025-07-30T21:38:56.570606Z"
    },
    "papermill": {
     "duration": 1.963968,
     "end_time": "2025-07-30T21:38:56.573331",
     "exception": false,
     "start_time": "2025-07-30T21:38:54.609363",
     "status": "completed"
    },
    "tags": []
   },
   "outputs": [],
   "source": [
    "from fairness_multiverse.universe import UniverseAnalysis\n",
    "\n",
    "universe_analysis = UniverseAnalysis(\n",
    "    run_no = run_no,\n",
    "    universe_id = universe_id,\n",
    "    universe = universe,\n",
    "    output_dir=output_dir,\n",
    ")"
   ]
  },
  {
   "cell_type": "code",
   "execution_count": 8,
   "id": "106241f5",
   "metadata": {
    "execution": {
     "iopub.execute_input": "2025-07-30T21:38:56.597401Z",
     "iopub.status.busy": "2025-07-30T21:38:56.596528Z",
     "iopub.status.idle": "2025-07-30T21:38:56.602318Z",
     "shell.execute_reply": "2025-07-30T21:38:56.601549Z"
    },
    "papermill": {
     "duration": 0.01831,
     "end_time": "2025-07-30T21:38:56.603527",
     "exception": false,
     "start_time": "2025-07-30T21:38:56.585217",
     "status": "completed"
    },
    "tags": []
   },
   "outputs": [
    {
     "name": "stdout",
     "output_type": "stream",
     "text": [
      "Using Seed: 2023\n"
     ]
    }
   ],
   "source": [
    "import numpy as np\n",
    "parsed_seed = int(seed)\n",
    "np.random.seed(parsed_seed)\n",
    "print(f\"Using Seed: {parsed_seed}\")"
   ]
  },
  {
   "cell_type": "markdown",
   "id": "e0ebdc57",
   "metadata": {
    "papermill": {
     "duration": 0.010275,
     "end_time": "2025-07-30T21:38:56.625283",
     "exception": false,
     "start_time": "2025-07-30T21:38:56.615008",
     "status": "completed"
    },
    "tags": []
   },
   "source": [
    "# Loading Data"
   ]
  },
  {
   "cell_type": "markdown",
   "id": "681925a3",
   "metadata": {
    "papermill": {
     "duration": 0.010431,
     "end_time": "2025-07-30T21:38:56.645939",
     "exception": false,
     "start_time": "2025-07-30T21:38:56.635508",
     "status": "completed"
    },
    "tags": []
   },
   "source": [
    "Load siab_train, siab_test, siab_calib and/or \n",
    "load siab_train_features, siab_train_labels"
   ]
  },
  {
   "cell_type": "code",
   "execution_count": 9,
   "id": "f0496b8a",
   "metadata": {
    "execution": {
     "iopub.execute_input": "2025-07-30T21:38:56.670217Z",
     "iopub.status.busy": "2025-07-30T21:38:56.669855Z",
     "iopub.status.idle": "2025-07-30T21:39:08.123418Z",
     "shell.execute_reply": "2025-07-30T21:39:08.122510Z"
    },
    "papermill": {
     "duration": 11.467312,
     "end_time": "2025-07-30T21:39:08.124808",
     "exception": false,
     "start_time": "2025-07-30T21:38:56.657496",
     "status": "completed"
    },
    "tags": []
   },
   "outputs": [
    {
     "name": "stdout",
     "output_type": "stream",
     "text": [
      "Loading SIAB data from cache: data/siab_cached.csv.gz\n"
     ]
    },
    {
     "name": "stdout",
     "output_type": "stream",
     "text": [
      "(643690, 164)\n"
     ]
    }
   ],
   "source": [
    "from pathlib import Path\n",
    "import pandas as pd\n",
    "\n",
    "# File paths\n",
    "raw_file = Path(\"data/raw/siab.csv\")\n",
    "cache_file = Path(\"data/siab_cached.csv.gz\")\n",
    "\n",
    "# Ensure cache directory exists\n",
    "cache_file.parent.mkdir(parents=True, exist_ok=True)\n",
    "\n",
    "# Load with simple caching\n",
    "if cache_file.exists():\n",
    "    print(f\"Loading SIAB data from cache: {cache_file}\")\n",
    "    siab = pd.read_csv(cache_file, compression='gzip')\n",
    "else:\n",
    "    print(f\"Cache not found. Reading raw SIAB data: {raw_file}\")\n",
    "    siab = pd.read_csv(raw_file)\n",
    "    siab.to_csv(cache_file, index=False, compression='gzip')\n",
    "    print(f\"Cached SIAB data to: {cache_file}\")\n",
    "\n",
    "# Now use `siab` DataFrame as needed\n",
    "print(siab.shape)"
   ]
  },
  {
   "cell_type": "code",
   "execution_count": 10,
   "id": "db0ca512-5f53-4dba-abdb-a2888bca41ba",
   "metadata": {
    "execution": {
     "iopub.execute_input": "2025-07-30T21:39:08.152977Z",
     "iopub.status.busy": "2025-07-30T21:39:08.152660Z",
     "iopub.status.idle": "2025-07-30T21:39:08.157362Z",
     "shell.execute_reply": "2025-07-30T21:39:08.156606Z"
    },
    "papermill": {
     "duration": 0.021158,
     "end_time": "2025-07-30T21:39:08.158659",
     "exception": false,
     "start_time": "2025-07-30T21:39:08.137501",
     "status": "completed"
    },
    "tags": []
   },
   "outputs": [],
   "source": [
    "#siab"
   ]
  },
  {
   "cell_type": "code",
   "execution_count": 11,
   "id": "a0edb063",
   "metadata": {
    "execution": {
     "iopub.execute_input": "2025-07-30T21:39:08.185848Z",
     "iopub.status.busy": "2025-07-30T21:39:08.185340Z",
     "iopub.status.idle": "2025-07-30T21:39:08.189503Z",
     "shell.execute_reply": "2025-07-30T21:39:08.188771Z"
    },
    "papermill": {
     "duration": 0.017134,
     "end_time": "2025-07-30T21:39:08.190740",
     "exception": false,
     "start_time": "2025-07-30T21:39:08.173606",
     "status": "completed"
    },
    "tags": []
   },
   "outputs": [],
   "source": [
    "#import pandas as pd\n",
    "#\n",
    "#X_train = pd.read_csv(\"./data/X_train.csv\")\n",
    "#y_train = pd.read_csv(\"./data/y_train.csv\")"
   ]
  },
  {
   "cell_type": "code",
   "execution_count": 12,
   "id": "63d08085",
   "metadata": {
    "execution": {
     "iopub.execute_input": "2025-07-30T21:39:08.227683Z",
     "iopub.status.busy": "2025-07-30T21:39:08.227320Z",
     "iopub.status.idle": "2025-07-30T21:39:08.232925Z",
     "shell.execute_reply": "2025-07-30T21:39:08.231903Z"
    },
    "papermill": {
     "duration": 0.030892,
     "end_time": "2025-07-30T21:39:08.234892",
     "exception": false,
     "start_time": "2025-07-30T21:39:08.204000",
     "status": "completed"
    },
    "tags": []
   },
   "outputs": [],
   "source": [
    "#X_test = pd.read_csv(\"./data/X_test.csv\")\n",
    "#y_true = pd.read_csv(\"./data/y_test.csv\")"
   ]
  },
  {
   "cell_type": "code",
   "execution_count": 13,
   "id": "98a8d0fa-1d3d-4ed8-bb2c-281470e24add",
   "metadata": {
    "execution": {
     "iopub.execute_input": "2025-07-30T21:39:08.259893Z",
     "iopub.status.busy": "2025-07-30T21:39:08.259601Z",
     "iopub.status.idle": "2025-07-30T21:39:08.264210Z",
     "shell.execute_reply": "2025-07-30T21:39:08.263375Z"
    },
    "papermill": {
     "duration": 0.01795,
     "end_time": "2025-07-30T21:39:08.265677",
     "exception": false,
     "start_time": "2025-07-30T21:39:08.247727",
     "status": "completed"
    },
    "tags": []
   },
   "outputs": [],
   "source": [
    "# Calibration data for conformal\n",
    "#X_calib = pd.read_csv(\"./data/X_calib.csv\")\n",
    "#y_calib = pd.read_csv(\"./data/y_calib.csv\")"
   ]
  },
  {
   "cell_type": "markdown",
   "id": "997051c5-15bd-4b69-9786-c3001a3ce484",
   "metadata": {
    "papermill": {
     "duration": 0.011487,
     "end_time": "2025-07-30T21:39:08.289087",
     "exception": false,
     "start_time": "2025-07-30T21:39:08.277600",
     "status": "completed"
    },
    "tags": []
   },
   "source": [
    "# Splitting Data and Setting Training Data Size"
   ]
  },
  {
   "cell_type": "code",
   "execution_count": 14,
   "id": "e993b61f-042d-41a6-8c81-f55681f86335",
   "metadata": {
    "execution": {
     "iopub.execute_input": "2025-07-30T21:39:08.320047Z",
     "iopub.status.busy": "2025-07-30T21:39:08.319684Z",
     "iopub.status.idle": "2025-07-30T21:39:08.329061Z",
     "shell.execute_reply": "2025-07-30T21:39:08.328260Z"
    },
    "papermill": {
     "duration": 0.026197,
     "end_time": "2025-07-30T21:39:08.330354",
     "exception": false,
     "start_time": "2025-07-30T21:39:08.304157",
     "status": "completed"
    },
    "tags": []
   },
   "outputs": [],
   "source": [
    "def sample_by_year_size(df,\n",
    "                        training_year: str,\n",
    "                        training_size: str,\n",
    "                        random_state: int = 42):\n",
    "    # --- parse training_year into a list of int years ---\n",
    "    if \"_\" in training_year:\n",
    "        start_str, end_str = training_year.split(\"_\", 1)\n",
    "        start = int(start_str)\n",
    "        end   = int(end_str) if len(end_str) == 4 else (int(end_str) + (start // 100)*100)\n",
    "        years = list(range(start, end + 1))\n",
    "    else:\n",
    "        years = [int(training_year)]\n",
    "\n",
    "    df = df[df[\"year\"].isin(years)].reset_index(drop=True)\n",
    "\n",
    "    # --- map training_size to total number of samples ---\n",
    "    total_map = {\"25k\": 25_000, \"5k\": 5_000, \"1k\": 1_000}\n",
    "    if training_size not in total_map:\n",
    "        return df  # e.g. \"all\"\n",
    "\n",
    "    total_samples = total_map[training_size]\n",
    "    n_years       = len(years)\n",
    "    base          = total_samples // n_years\n",
    "    remainder     = total_samples % n_years\n",
    "\n",
    "    # --- build a dict: year -> how many to sample ---\n",
    "    # give +1 to the first `remainder` years in ascending order\n",
    "    quotas = {\n",
    "        year: base + (1 if idx < remainder else 0)\n",
    "        for idx, year in enumerate(sorted(years))\n",
    "    }\n",
    "\n",
    "    # --- sample per‐year according to the quota dict ---\n",
    "    sampled = (\n",
    "        df\n",
    "        .groupby(\"year\", group_keys=False)\n",
    "        .apply(lambda grp: grp.sample(\n",
    "            n=min(len(grp), quotas[grp.name]),\n",
    "            random_state=random_state))\n",
    "        .reset_index(drop=True)\n",
    "    )\n",
    "\n",
    "    return sampled"
   ]
  },
  {
   "cell_type": "code",
   "execution_count": 15,
   "id": "c0ccd338-0e02-41f3-a09d-f56f9266e3fb",
   "metadata": {
    "execution": {
     "iopub.execute_input": "2025-07-30T21:39:08.356450Z",
     "iopub.status.busy": "2025-07-30T21:39:08.355796Z",
     "iopub.status.idle": "2025-07-30T21:39:08.360112Z",
     "shell.execute_reply": "2025-07-30T21:39:08.359361Z"
    },
    "papermill": {
     "duration": 0.017632,
     "end_time": "2025-07-30T21:39:08.361341",
     "exception": false,
     "start_time": "2025-07-30T21:39:08.343709",
     "status": "completed"
    },
    "tags": []
   },
   "outputs": [],
   "source": [
    "#universe[\"training_size\"]"
   ]
  },
  {
   "cell_type": "code",
   "execution_count": 16,
   "id": "ca707fd7-8047-4acd-bfa5-66248fbbf8e6",
   "metadata": {
    "execution": {
     "iopub.execute_input": "2025-07-30T21:39:08.387316Z",
     "iopub.status.busy": "2025-07-30T21:39:08.386874Z",
     "iopub.status.idle": "2025-07-30T21:39:08.390779Z",
     "shell.execute_reply": "2025-07-30T21:39:08.390078Z"
    },
    "papermill": {
     "duration": 0.016683,
     "end_time": "2025-07-30T21:39:08.392113",
     "exception": false,
     "start_time": "2025-07-30T21:39:08.375430",
     "status": "completed"
    },
    "tags": []
   },
   "outputs": [],
   "source": [
    "#universe[\"training_year\"]"
   ]
  },
  {
   "cell_type": "code",
   "execution_count": 17,
   "id": "aea9c6ef-6f46-42c8-85eb-5a62025c1508",
   "metadata": {
    "execution": {
     "iopub.execute_input": "2025-07-30T21:39:08.419864Z",
     "iopub.status.busy": "2025-07-30T21:39:08.419547Z",
     "iopub.status.idle": "2025-07-30T21:39:08.971422Z",
     "shell.execute_reply": "2025-07-30T21:39:08.970678Z"
    },
    "papermill": {
     "duration": 0.565097,
     "end_time": "2025-07-30T21:39:08.972878",
     "exception": false,
     "start_time": "2025-07-30T21:39:08.407781",
     "status": "completed"
    },
    "tags": []
   },
   "outputs": [],
   "source": [
    "siab_train = sample_by_year_size(siab,\n",
    "                               training_year=universe[\"training_year\"],\n",
    "                               training_size=universe[\"training_size\"])"
   ]
  },
  {
   "cell_type": "code",
   "execution_count": 18,
   "id": "8d3afb32-789d-442c-8d5d-9f5aa8dd2eed",
   "metadata": {
    "execution": {
     "iopub.execute_input": "2025-07-30T21:39:08.996066Z",
     "iopub.status.busy": "2025-07-30T21:39:08.995555Z",
     "iopub.status.idle": "2025-07-30T21:39:08.999764Z",
     "shell.execute_reply": "2025-07-30T21:39:08.999056Z"
    },
    "papermill": {
     "duration": 0.017089,
     "end_time": "2025-07-30T21:39:09.001091",
     "exception": false,
     "start_time": "2025-07-30T21:39:08.984002",
     "status": "completed"
    },
    "tags": []
   },
   "outputs": [],
   "source": [
    "#siab_train.shape"
   ]
  },
  {
   "cell_type": "code",
   "execution_count": 19,
   "id": "d582db68-1a4c-47fb-84fc-08518dc1975a",
   "metadata": {
    "execution": {
     "iopub.execute_input": "2025-07-30T21:39:09.023921Z",
     "iopub.status.busy": "2025-07-30T21:39:09.023577Z",
     "iopub.status.idle": "2025-07-30T21:39:09.027764Z",
     "shell.execute_reply": "2025-07-30T21:39:09.027089Z"
    },
    "papermill": {
     "duration": 0.01649,
     "end_time": "2025-07-30T21:39:09.029030",
     "exception": false,
     "start_time": "2025-07-30T21:39:09.012540",
     "status": "completed"
    },
    "tags": []
   },
   "outputs": [],
   "source": [
    "#display(siab_train.groupby(\"year\").size())"
   ]
  },
  {
   "cell_type": "code",
   "execution_count": 20,
   "id": "a561edb4-d032-42cb-8256-22eac1111c64",
   "metadata": {
    "execution": {
     "iopub.execute_input": "2025-07-30T21:39:09.051892Z",
     "iopub.status.busy": "2025-07-30T21:39:09.051345Z",
     "iopub.status.idle": "2025-07-30T21:39:09.230631Z",
     "shell.execute_reply": "2025-07-30T21:39:09.229883Z"
    },
    "papermill": {
     "duration": 0.191838,
     "end_time": "2025-07-30T21:39:09.232167",
     "exception": false,
     "start_time": "2025-07-30T21:39:09.040329",
     "status": "completed"
    },
    "tags": []
   },
   "outputs": [],
   "source": [
    "#siab_train = siab_s[siab_s.year < 2015]\n",
    "siab_calib = siab[siab.year == 2015]\n",
    "siab_test = siab[siab.year == 2016]"
   ]
  },
  {
   "cell_type": "code",
   "execution_count": 21,
   "id": "472de16f-c3db-4916-846b-1f0de9cf1746",
   "metadata": {
    "execution": {
     "iopub.execute_input": "2025-07-30T21:39:09.256113Z",
     "iopub.status.busy": "2025-07-30T21:39:09.255754Z",
     "iopub.status.idle": "2025-07-30T21:39:09.261200Z",
     "shell.execute_reply": "2025-07-30T21:39:09.260314Z"
    },
    "papermill": {
     "duration": 0.018692,
     "end_time": "2025-07-30T21:39:09.262431",
     "exception": false,
     "start_time": "2025-07-30T21:39:09.243739",
     "status": "completed"
    },
    "tags": []
   },
   "outputs": [],
   "source": [
    "X_train = siab_train.iloc[:,4:164]\n",
    "y_train = siab_train.iloc[:, [3]]"
   ]
  },
  {
   "cell_type": "code",
   "execution_count": 22,
   "id": "828c96af-f43a-4ed6-ba47-8ac73a47d56c",
   "metadata": {
    "execution": {
     "iopub.execute_input": "2025-07-30T21:39:09.285580Z",
     "iopub.status.busy": "2025-07-30T21:39:09.285068Z",
     "iopub.status.idle": "2025-07-30T21:39:09.330926Z",
     "shell.execute_reply": "2025-07-30T21:39:09.329989Z"
    },
    "papermill": {
     "duration": 0.058445,
     "end_time": "2025-07-30T21:39:09.332406",
     "exception": false,
     "start_time": "2025-07-30T21:39:09.273961",
     "status": "completed"
    },
    "tags": []
   },
   "outputs": [],
   "source": [
    "X_calib = siab_calib.iloc[:,4:164]\n",
    "y_calib = siab_calib.iloc[:, [3]]"
   ]
  },
  {
   "cell_type": "code",
   "execution_count": 23,
   "id": "c34be9c3-6bd6-476e-acd3-845840e303be",
   "metadata": {
    "execution": {
     "iopub.execute_input": "2025-07-30T21:39:09.356482Z",
     "iopub.status.busy": "2025-07-30T21:39:09.355999Z",
     "iopub.status.idle": "2025-07-30T21:39:09.404896Z",
     "shell.execute_reply": "2025-07-30T21:39:09.404044Z"
    },
    "papermill": {
     "duration": 0.061492,
     "end_time": "2025-07-30T21:39:09.406288",
     "exception": false,
     "start_time": "2025-07-30T21:39:09.344796",
     "status": "completed"
    },
    "tags": []
   },
   "outputs": [],
   "source": [
    "X_test = siab_test.iloc[:,4:164]\n",
    "y_true = siab_test.iloc[:, [3]]"
   ]
  },
  {
   "cell_type": "markdown",
   "id": "9901737e-04df-44f0-9100-f5ad144ed040",
   "metadata": {
    "papermill": {
     "duration": 0.010897,
     "end_time": "2025-07-30T21:39:09.429362",
     "exception": false,
     "start_time": "2025-07-30T21:39:09.418465",
     "status": "completed"
    },
    "tags": []
   },
   "source": [
    "# Splitting Data and Setting Training Data Size OLD VERSION"
   ]
  },
  {
   "cell_type": "code",
   "execution_count": 24,
   "id": "acbc8f7d-8fc8-4e86-8c59-5dcb0f58384b",
   "metadata": {
    "execution": {
     "iopub.execute_input": "2025-07-30T21:39:09.459164Z",
     "iopub.status.busy": "2025-07-30T21:39:09.458726Z",
     "iopub.status.idle": "2025-07-30T21:39:09.464535Z",
     "shell.execute_reply": "2025-07-30T21:39:09.463533Z"
    },
    "papermill": {
     "duration": 0.026461,
     "end_time": "2025-07-30T21:39:09.466424",
     "exception": false,
     "start_time": "2025-07-30T21:39:09.439963",
     "status": "completed"
    },
    "tags": []
   },
   "outputs": [],
   "source": [
    "#def sample_by_year(df, training_size, random_state=42):\n",
    "#    if training_size == \"2014\":\n",
    "#        return df[df[\"year\"] == 2014].reset_index(drop=True)\n",
    "#    \n",
    "#    size_map = {\n",
    "#        \"25k\": 5000,\n",
    "#        \"5k\": 1000,\n",
    "#        \"1k\": 200\n",
    "#    }\n",
    "#\n",
    "#    if training_size not in size_map:\n",
    "#        return df.reset_index(drop=True)  # use all data\n",
    "#\n",
    "#    n_per_year = size_map[training_size]\n",
    "#    grouped = df.groupby(\"year\")\n",
    "#    sampled = grouped.apply(lambda x: x.sample(n=min(n_per_year, len(x)), random_state=random_state))\n",
    "#    return sampled.reset_index(drop=True)"
   ]
  },
  {
   "cell_type": "code",
   "execution_count": 25,
   "id": "6d931f52-beaf-43ff-9e78-9d44a448d54e",
   "metadata": {
    "execution": {
     "iopub.execute_input": "2025-07-30T21:39:09.501957Z",
     "iopub.status.busy": "2025-07-30T21:39:09.501627Z",
     "iopub.status.idle": "2025-07-30T21:39:09.505764Z",
     "shell.execute_reply": "2025-07-30T21:39:09.505086Z"
    },
    "papermill": {
     "duration": 0.018615,
     "end_time": "2025-07-30T21:39:09.507108",
     "exception": false,
     "start_time": "2025-07-30T21:39:09.488493",
     "status": "completed"
    },
    "tags": []
   },
   "outputs": [],
   "source": [
    "#siab_s = sample_by_year(siab, universe[\"training_size\"])"
   ]
  },
  {
   "cell_type": "code",
   "execution_count": 26,
   "id": "5db0a40e-a4e2-4920-be85-b12ae061d70d",
   "metadata": {
    "execution": {
     "iopub.execute_input": "2025-07-30T21:39:09.530327Z",
     "iopub.status.busy": "2025-07-30T21:39:09.529930Z",
     "iopub.status.idle": "2025-07-30T21:39:09.533945Z",
     "shell.execute_reply": "2025-07-30T21:39:09.533159Z"
    },
    "papermill": {
     "duration": 0.016687,
     "end_time": "2025-07-30T21:39:09.535266",
     "exception": false,
     "start_time": "2025-07-30T21:39:09.518579",
     "status": "completed"
    },
    "tags": []
   },
   "outputs": [],
   "source": [
    "#display(siab_s.groupby(\"year\").size())"
   ]
  },
  {
   "cell_type": "code",
   "execution_count": 27,
   "id": "e6c733c5",
   "metadata": {
    "execution": {
     "iopub.execute_input": "2025-07-30T21:39:09.575854Z",
     "iopub.status.busy": "2025-07-30T21:39:09.575403Z",
     "iopub.status.idle": "2025-07-30T21:39:09.671756Z",
     "shell.execute_reply": "2025-07-30T21:39:09.670854Z"
    },
    "papermill": {
     "duration": 0.121826,
     "end_time": "2025-07-30T21:39:09.673331",
     "exception": false,
     "start_time": "2025-07-30T21:39:09.551505",
     "status": "completed"
    },
    "tags": []
   },
   "outputs": [],
   "source": [
    "# Auxiliary data needed downstream in the pipeline\n",
    "\n",
    "org_train = X_train.copy()\n",
    "org_test = X_test.copy()\n",
    "org_calib = X_calib.copy()"
   ]
  },
  {
   "cell_type": "code",
   "execution_count": 28,
   "id": "1466abac-c6da-4492-a62f-4240ae3783af",
   "metadata": {
    "execution": {
     "iopub.execute_input": "2025-07-30T21:39:09.718576Z",
     "iopub.status.busy": "2025-07-30T21:39:09.717677Z",
     "iopub.status.idle": "2025-07-30T21:39:09.723757Z",
     "shell.execute_reply": "2025-07-30T21:39:09.722764Z"
    },
    "papermill": {
     "duration": 0.031628,
     "end_time": "2025-07-30T21:39:09.725558",
     "exception": false,
     "start_time": "2025-07-30T21:39:09.693930",
     "status": "completed"
    },
    "tags": []
   },
   "outputs": [],
   "source": [
    "# put in other script?\n",
    "# Group sizes\n",
    "\n",
    "#def calculate_percentages(df, df_name):\n",
    "#    total_entries = len(df)\n",
    "#\n",
    "#    female_pct = (df['frau1'] == 1).mean() * 100\n",
    "#    non_german_pct = ((df['maxdeutsch1'] == 0) & (df['maxdeutsch.Missing.'] == 0)).mean() * 100\n",
    "#    non_german_male_pct = ((df['frau1'] == 0) & (df['maxdeutsch1'] == 0) & (df['maxdeutsch.Missing.'] == 0)).mean() * 100\n",
    "#    non_german_female_pct = ((df['frau1'] == 1) & (df['maxdeutsch1'] == 0) & (df['maxdeutsch.Missing.'] == 0)).mean() * 100\n",
    "#\n",
    "#    print(f\"--- {df_name} ---\")\n",
    "#    print(f\"Female: {female_pct:.2f}%\")\n",
    "#    print(f\"Non-German: {non_german_pct:.2f}%\")\n",
    "#    print(f\"Non-German Male: {non_german_male_pct:.2f}%\")\n",
    "#    print(f\"Non-German Female: {non_german_female_pct:.2f}%\\n\")\n",
    "#\n",
    "## Calculate for each DataFrame\n",
    "#calculate_percentages(siab_calib, \"siab_calib\")\n",
    "#calculate_percentages(siab_test, \"siab_test\")\n",
    "#calculate_percentages(siab_train, \"siab_train\")"
   ]
  },
  {
   "cell_type": "markdown",
   "id": "0a4a1b33",
   "metadata": {
    "papermill": {
     "duration": 0.022272,
     "end_time": "2025-07-30T21:39:09.771543",
     "exception": false,
     "start_time": "2025-07-30T21:39:09.749271",
     "status": "completed"
    },
    "tags": []
   },
   "source": [
    "# Preprocessing Data"
   ]
  },
  {
   "cell_type": "code",
   "execution_count": 29,
   "id": "ca879031",
   "metadata": {
    "execution": {
     "iopub.execute_input": "2025-07-30T21:39:09.819814Z",
     "iopub.status.busy": "2025-07-30T21:39:09.819011Z",
     "iopub.status.idle": "2025-07-30T21:39:09.825524Z",
     "shell.execute_reply": "2025-07-30T21:39:09.824526Z"
    },
    "papermill": {
     "duration": 0.03221,
     "end_time": "2025-07-30T21:39:09.827179",
     "exception": false,
     "start_time": "2025-07-30T21:39:09.794969",
     "status": "completed"
    },
    "tags": []
   },
   "outputs": [],
   "source": [
    "# EXCLUDE PROTECTED FEATURES\n",
    "# ----------------------\n",
    "# \"exclude_features\": \"none\", # \"nationality\", \"sex\", \"nationality-sex\"\n",
    "\n",
    "excluded_features = universe[\"exclude_features\"].split(\"-\") # split, e.g.: \"nationality-sex\" -> [\"nationality\", \"sex\"]\n",
    "excluded_features_dictionary = {\n",
    "    \"nationality\": [\"maxdeutsch1\", \"maxdeutsch.Missing.\"],\n",
    "    \"sex\": [\"frau1\"],\n",
    "    \"age\": [\"age\"],\n",
    "}\n"
   ]
  },
  {
   "cell_type": "code",
   "execution_count": 30,
   "id": "b745ac60",
   "metadata": {
    "execution": {
     "iopub.execute_input": "2025-07-30T21:39:09.875951Z",
     "iopub.status.busy": "2025-07-30T21:39:09.875013Z",
     "iopub.status.idle": "2025-07-30T21:39:09.881113Z",
     "shell.execute_reply": "2025-07-30T21:39:09.880080Z"
    },
    "papermill": {
     "duration": 0.031843,
     "end_time": "2025-07-30T21:39:09.883052",
     "exception": false,
     "start_time": "2025-07-30T21:39:09.851209",
     "status": "completed"
    },
    "tags": []
   },
   "outputs": [],
   "source": [
    "# Code nice names to column names\n",
    "\n",
    "excluded_features_columns = [\n",
    "    excluded_features_dictionary[f] for f in excluded_features if len(f) > 0 and f != \"none\"\n",
    "]"
   ]
  },
  {
   "cell_type": "code",
   "execution_count": 31,
   "id": "f84f73a2",
   "metadata": {
    "execution": {
     "iopub.execute_input": "2025-07-30T21:39:09.931226Z",
     "iopub.status.busy": "2025-07-30T21:39:09.930507Z",
     "iopub.status.idle": "2025-07-30T21:39:09.937671Z",
     "shell.execute_reply": "2025-07-30T21:39:09.936784Z"
    },
    "papermill": {
     "duration": 0.032669,
     "end_time": "2025-07-30T21:39:09.939538",
     "exception": false,
     "start_time": "2025-07-30T21:39:09.906869",
     "status": "completed"
    },
    "tags": []
   },
   "outputs": [],
   "source": [
    "from utils import flatten_once\n",
    "\n",
    "excluded_features_columns = flatten_once(excluded_features_columns)"
   ]
  },
  {
   "cell_type": "code",
   "execution_count": 32,
   "id": "884dea22",
   "metadata": {
    "execution": {
     "iopub.execute_input": "2025-07-30T21:39:09.987292Z",
     "iopub.status.busy": "2025-07-30T21:39:09.986594Z",
     "iopub.status.idle": "2025-07-30T21:39:09.992625Z",
     "shell.execute_reply": "2025-07-30T21:39:09.991519Z"
    },
    "papermill": {
     "duration": 0.031332,
     "end_time": "2025-07-30T21:39:09.994421",
     "exception": false,
     "start_time": "2025-07-30T21:39:09.963089",
     "status": "completed"
    },
    "tags": []
   },
   "outputs": [],
   "source": [
    "if len(excluded_features_columns) > 0:\n",
    "    print(f\"Dropping features: {excluded_features_columns}\")\n",
    "    X_train.drop(excluded_features_columns, axis=1, inplace=True)"
   ]
  },
  {
   "cell_type": "code",
   "execution_count": 33,
   "id": "95ab8b16",
   "metadata": {
    "execution": {
     "iopub.execute_input": "2025-07-30T21:39:10.042768Z",
     "iopub.status.busy": "2025-07-30T21:39:10.041880Z",
     "iopub.status.idle": "2025-07-30T21:39:10.047772Z",
     "shell.execute_reply": "2025-07-30T21:39:10.046782Z"
    },
    "papermill": {
     "duration": 0.031538,
     "end_time": "2025-07-30T21:39:10.049583",
     "exception": false,
     "start_time": "2025-07-30T21:39:10.018045",
     "status": "completed"
    },
    "tags": []
   },
   "outputs": [],
   "source": [
    "if len(excluded_features_columns) > 0:\n",
    "    print(f\"Dropping features: {excluded_features_columns}\")\n",
    "    X_test.drop(excluded_features_columns, axis=1, inplace=True)"
   ]
  },
  {
   "cell_type": "code",
   "execution_count": 34,
   "id": "1853aaf5-fb9f-46cb-a2b5-8ea4ae2237e4",
   "metadata": {
    "execution": {
     "iopub.execute_input": "2025-07-30T21:39:10.097469Z",
     "iopub.status.busy": "2025-07-30T21:39:10.096842Z",
     "iopub.status.idle": "2025-07-30T21:39:10.103325Z",
     "shell.execute_reply": "2025-07-30T21:39:10.102405Z"
    },
    "papermill": {
     "duration": 0.03227,
     "end_time": "2025-07-30T21:39:10.105356",
     "exception": false,
     "start_time": "2025-07-30T21:39:10.073086",
     "status": "completed"
    },
    "tags": []
   },
   "outputs": [],
   "source": [
    "if len(excluded_features_columns) > 0:\n",
    "    print(f\"Dropping features: {excluded_features_columns}\")\n",
    "    X_calib.drop(excluded_features_columns, axis=1, inplace=True)"
   ]
  },
  {
   "cell_type": "code",
   "execution_count": 35,
   "id": "6727d079-03e5-481e-9d38-292a90b7a0a8",
   "metadata": {
    "execution": {
     "iopub.execute_input": "2025-07-30T21:39:10.153363Z",
     "iopub.status.busy": "2025-07-30T21:39:10.152868Z",
     "iopub.status.idle": "2025-07-30T21:39:10.157618Z",
     "shell.execute_reply": "2025-07-30T21:39:10.156716Z"
    },
    "papermill": {
     "duration": 0.029549,
     "end_time": "2025-07-30T21:39:10.159166",
     "exception": false,
     "start_time": "2025-07-30T21:39:10.129617",
     "status": "completed"
    },
    "tags": []
   },
   "outputs": [],
   "source": [
    "# SPLIT & STRATIFY DATA\n",
    "# ----------------------"
   ]
  },
  {
   "cell_type": "code",
   "execution_count": 36,
   "id": "76c4dc6d",
   "metadata": {
    "execution": {
     "iopub.execute_input": "2025-07-30T21:39:10.208592Z",
     "iopub.status.busy": "2025-07-30T21:39:10.207896Z",
     "iopub.status.idle": "2025-07-30T21:39:10.213850Z",
     "shell.execute_reply": "2025-07-30T21:39:10.212878Z"
    },
    "papermill": {
     "duration": 0.032624,
     "end_time": "2025-07-30T21:39:10.215714",
     "exception": false,
     "start_time": "2025-07-30T21:39:10.183090",
     "status": "completed"
    },
    "tags": []
   },
   "outputs": [],
   "source": [
    "# EXCLUDE CERTAIN SUBGROUPS\n",
    "# ----------------------\n",
    "\n",
    "mode = universe.get(\"exclude_subgroups\", \"keep-all\") \n",
    "# Fetches the exclude_subgroups setting from the universe dict.\n",
    "# Defaults to \"keep-all\" if the key is missing."
   ]
  },
  {
   "cell_type": "code",
   "execution_count": 37,
   "id": "21994072",
   "metadata": {
    "execution": {
     "iopub.execute_input": "2025-07-30T21:39:10.266675Z",
     "iopub.status.busy": "2025-07-30T21:39:10.265963Z",
     "iopub.status.idle": "2025-07-30T21:39:10.273308Z",
     "shell.execute_reply": "2025-07-30T21:39:10.272312Z"
    },
    "papermill": {
     "duration": 0.034308,
     "end_time": "2025-07-30T21:39:10.275029",
     "exception": false,
     "start_time": "2025-07-30T21:39:10.240721",
     "status": "completed"
    },
    "tags": []
   },
   "outputs": [],
   "source": [
    "if mode == \"keep-all\":\n",
    "    keep_mask = pd.Series(True, index=org_train.index)\n",
    "\n",
    "# org_train contains the original feature columns from features_org (in Simson)\n",
    "# features_org contains unprocessed features, for me X_train at beginning ???\n",
    "# For keep-all, creates a boolean Series (keep_mask) of all True, so no rows are removed.\n",
    "\n",
    "elif mode == \"drop-non-german\":\n",
    "    keep_mask = org_train[\"maxdeutsch1\"] == 1 # ??? what about missing values?\n",
    "\n",
    "else:\n",
    "    raise ValueError(f\"Unsupported mode for exclude_subgroups: {mode}\")\n"
   ]
  },
  {
   "cell_type": "code",
   "execution_count": 38,
   "id": "71651440",
   "metadata": {
    "execution": {
     "iopub.execute_input": "2025-07-30T21:39:10.325138Z",
     "iopub.status.busy": "2025-07-30T21:39:10.324412Z",
     "iopub.status.idle": "2025-07-30T21:39:10.331513Z",
     "shell.execute_reply": "2025-07-30T21:39:10.330512Z"
    },
    "papermill": {
     "duration": 0.033865,
     "end_time": "2025-07-30T21:39:10.333360",
     "exception": false,
     "start_time": "2025-07-30T21:39:10.299495",
     "status": "completed"
    },
    "tags": []
   },
   "outputs": [],
   "source": [
    "n_drop = (~keep_mask).sum() # Calculates how many rows are set to be dropped\n",
    "if n_drop > 0:\n",
    "    pct = n_drop / len(keep_mask) * 100\n",
    "    print(f\"Dropping {n_drop} rows ({pct:.2f}%) where mode='{mode}'\")"
   ]
  },
  {
   "cell_type": "code",
   "execution_count": 39,
   "id": "5fb8eee5",
   "metadata": {
    "execution": {
     "iopub.execute_input": "2025-07-30T21:39:10.380566Z",
     "iopub.status.busy": "2025-07-30T21:39:10.379963Z",
     "iopub.status.idle": "2025-07-30T21:39:10.386187Z",
     "shell.execute_reply": "2025-07-30T21:39:10.385337Z"
    },
    "papermill": {
     "duration": 0.029538,
     "end_time": "2025-07-30T21:39:10.387802",
     "exception": false,
     "start_time": "2025-07-30T21:39:10.358264",
     "status": "completed"
    },
    "tags": []
   },
   "outputs": [],
   "source": [
    "X_train = X_train[keep_mask]"
   ]
  },
  {
   "cell_type": "code",
   "execution_count": 40,
   "id": "b202bb3a",
   "metadata": {
    "execution": {
     "iopub.execute_input": "2025-07-30T21:39:10.422497Z",
     "iopub.status.busy": "2025-07-30T21:39:10.421998Z",
     "iopub.status.idle": "2025-07-30T21:39:10.427188Z",
     "shell.execute_reply": "2025-07-30T21:39:10.426517Z"
    },
    "papermill": {
     "duration": 0.018539,
     "end_time": "2025-07-30T21:39:10.428503",
     "exception": false,
     "start_time": "2025-07-30T21:39:10.409964",
     "status": "completed"
    },
    "tags": []
   },
   "outputs": [],
   "source": [
    "y_train = y_train[keep_mask]"
   ]
  },
  {
   "cell_type": "markdown",
   "id": "493e2ac3",
   "metadata": {
    "papermill": {
     "duration": 0.011322,
     "end_time": "2025-07-30T21:39:10.452144",
     "exception": false,
     "start_time": "2025-07-30T21:39:10.440822",
     "status": "completed"
    },
    "tags": []
   },
   "source": [
    "# Model Training"
   ]
  },
  {
   "cell_type": "code",
   "execution_count": 41,
   "id": "679e1268",
   "metadata": {
    "execution": {
     "iopub.execute_input": "2025-07-30T21:39:10.476506Z",
     "iopub.status.busy": "2025-07-30T21:39:10.475868Z",
     "iopub.status.idle": "2025-07-30T21:39:10.553587Z",
     "shell.execute_reply": "2025-07-30T21:39:10.552864Z"
    },
    "papermill": {
     "duration": 0.091402,
     "end_time": "2025-07-30T21:39:10.555080",
     "exception": false,
     "start_time": "2025-07-30T21:39:10.463678",
     "status": "completed"
    },
    "tags": []
   },
   "outputs": [],
   "source": [
    "from sklearn.linear_model import LogisticRegression\n",
    "from sklearn.ensemble import GradientBoostingClassifier, RandomForestClassifier\n",
    "\n",
    "if (universe[\"model\"] == \"logreg\"):\n",
    "    model = LogisticRegression() #penalty=\"none\") #, solver=\"newton-cg\", max_iter=1) # include random_state=19 ?\n",
    "elif (universe[\"model\"] == \"penalized_logreg\"):\n",
    "    model = LogisticRegression(penalty=\"l2\", C=1.0) #, solver=\"newton-cg\", max_iter=1)\n",
    "elif (universe[\"model\"] == \"rf\"):\n",
    "    model = RandomForestClassifier(n_estimators=100, n_jobs=-1)\n",
    "elif (universe[\"model\"] == \"gbm\"):\n",
    "    model = GradientBoostingClassifier()\n",
    "elif (universe[\"model\"] == \"elasticnet\"):\n",
    "    model = LogisticRegression(penalty = 'elasticnet', solver = 'saga', l1_ratio = 0.5, max_iter=5000) # which solver to use?\n",
    "else:\n",
    "    raise \"Unsupported universe.model\""
   ]
  },
  {
   "cell_type": "code",
   "execution_count": 42,
   "id": "0cc8f744",
   "metadata": {
    "execution": {
     "iopub.execute_input": "2025-07-30T21:39:10.584885Z",
     "iopub.status.busy": "2025-07-30T21:39:10.584386Z",
     "iopub.status.idle": "2025-07-30T21:39:10.589244Z",
     "shell.execute_reply": "2025-07-30T21:39:10.588516Z"
    },
    "papermill": {
     "duration": 0.019187,
     "end_time": "2025-07-30T21:39:10.590569",
     "exception": false,
     "start_time": "2025-07-30T21:39:10.571382",
     "status": "completed"
    },
    "tags": []
   },
   "outputs": [],
   "source": [
    "import numpy as np\n",
    "from sklearn.pipeline import Pipeline\n",
    "from sklearn.preprocessing import StandardScaler\n",
    "\n",
    "model = Pipeline([\n",
    "    #(\"continuous_processor\", continuous_processor),\n",
    "    #(\"categorical_preprocessor\", categorical_preprocessor),\n",
    "    (\"scale\", StandardScaler() if universe[\"scale\"] == \"scale\" else None), \n",
    "    (\"model\", model),\n",
    "])"
   ]
  },
  {
   "cell_type": "code",
   "execution_count": 43,
   "id": "9442c04d",
   "metadata": {
    "execution": {
     "iopub.execute_input": "2025-07-30T21:39:10.616309Z",
     "iopub.status.busy": "2025-07-30T21:39:10.615790Z",
     "iopub.status.idle": "2025-07-30T21:39:10.689529Z",
     "shell.execute_reply": "2025-07-30T21:39:10.688573Z"
    },
    "papermill": {
     "duration": 0.088845,
     "end_time": "2025-07-30T21:39:10.692253",
     "exception": false,
     "start_time": "2025-07-30T21:39:10.603408",
     "status": "completed"
    },
    "tags": []
   },
   "outputs": [
    {
     "name": "stderr",
     "output_type": "stream",
     "text": [
      "/dss/dsshome1/0C/ra93lal2/.local/share/virtualenvs/CMA_Fairness_v2-3j10GkSs/lib/python3.10/site-packages/sklearn/linear_model/_logistic.py:444: ConvergenceWarning: lbfgs failed to converge (status=1):\n",
      "STOP: TOTAL NO. of ITERATIONS REACHED LIMIT.\n",
      "\n",
      "Increase the number of iterations (max_iter) or scale the data as shown in:\n",
      "    https://scikit-learn.org/stable/modules/preprocessing.html\n",
      "Please also refer to the documentation for alternative solver options:\n",
      "    https://scikit-learn.org/stable/modules/linear_model.html#logistic-regression\n",
      "  n_iter_i = _check_optimize_result(\n"
     ]
    },
    {
     "data": {
      "text/html": [
       "<style>#sk-container-id-1 {color: black;background-color: white;}#sk-container-id-1 pre{padding: 0;}#sk-container-id-1 div.sk-toggleable {background-color: white;}#sk-container-id-1 label.sk-toggleable__label {cursor: pointer;display: block;width: 100%;margin-bottom: 0;padding: 0.3em;box-sizing: border-box;text-align: center;}#sk-container-id-1 label.sk-toggleable__label-arrow:before {content: \"▸\";float: left;margin-right: 0.25em;color: #696969;}#sk-container-id-1 label.sk-toggleable__label-arrow:hover:before {color: black;}#sk-container-id-1 div.sk-estimator:hover label.sk-toggleable__label-arrow:before {color: black;}#sk-container-id-1 div.sk-toggleable__content {max-height: 0;max-width: 0;overflow: hidden;text-align: left;background-color: #f0f8ff;}#sk-container-id-1 div.sk-toggleable__content pre {margin: 0.2em;color: black;border-radius: 0.25em;background-color: #f0f8ff;}#sk-container-id-1 input.sk-toggleable__control:checked~div.sk-toggleable__content {max-height: 200px;max-width: 100%;overflow: auto;}#sk-container-id-1 input.sk-toggleable__control:checked~label.sk-toggleable__label-arrow:before {content: \"▾\";}#sk-container-id-1 div.sk-estimator input.sk-toggleable__control:checked~label.sk-toggleable__label {background-color: #d4ebff;}#sk-container-id-1 div.sk-label input.sk-toggleable__control:checked~label.sk-toggleable__label {background-color: #d4ebff;}#sk-container-id-1 input.sk-hidden--visually {border: 0;clip: rect(1px 1px 1px 1px);clip: rect(1px, 1px, 1px, 1px);height: 1px;margin: -1px;overflow: hidden;padding: 0;position: absolute;width: 1px;}#sk-container-id-1 div.sk-estimator {font-family: monospace;background-color: #f0f8ff;border: 1px dotted black;border-radius: 0.25em;box-sizing: border-box;margin-bottom: 0.5em;}#sk-container-id-1 div.sk-estimator:hover {background-color: #d4ebff;}#sk-container-id-1 div.sk-parallel-item::after {content: \"\";width: 100%;border-bottom: 1px solid gray;flex-grow: 1;}#sk-container-id-1 div.sk-label:hover label.sk-toggleable__label {background-color: #d4ebff;}#sk-container-id-1 div.sk-serial::before {content: \"\";position: absolute;border-left: 1px solid gray;box-sizing: border-box;top: 0;bottom: 0;left: 50%;z-index: 0;}#sk-container-id-1 div.sk-serial {display: flex;flex-direction: column;align-items: center;background-color: white;padding-right: 0.2em;padding-left: 0.2em;position: relative;}#sk-container-id-1 div.sk-item {position: relative;z-index: 1;}#sk-container-id-1 div.sk-parallel {display: flex;align-items: stretch;justify-content: center;background-color: white;position: relative;}#sk-container-id-1 div.sk-item::before, #sk-container-id-1 div.sk-parallel-item::before {content: \"\";position: absolute;border-left: 1px solid gray;box-sizing: border-box;top: 0;bottom: 0;left: 50%;z-index: -1;}#sk-container-id-1 div.sk-parallel-item {display: flex;flex-direction: column;z-index: 1;position: relative;background-color: white;}#sk-container-id-1 div.sk-parallel-item:first-child::after {align-self: flex-end;width: 50%;}#sk-container-id-1 div.sk-parallel-item:last-child::after {align-self: flex-start;width: 50%;}#sk-container-id-1 div.sk-parallel-item:only-child::after {width: 0;}#sk-container-id-1 div.sk-dashed-wrapped {border: 1px dashed gray;margin: 0 0.4em 0.5em 0.4em;box-sizing: border-box;padding-bottom: 0.4em;background-color: white;}#sk-container-id-1 div.sk-label label {font-family: monospace;font-weight: bold;display: inline-block;line-height: 1.2em;}#sk-container-id-1 div.sk-label-container {text-align: center;}#sk-container-id-1 div.sk-container {/* jupyter's `normalize.less` sets `[hidden] { display: none; }` but bootstrap.min.css set `[hidden] { display: none !important; }` so we also need the `!important` here to be able to override the default hidden behavior on the sphinx rendered scikit-learn.org. See: https://github.com/scikit-learn/scikit-learn/issues/21755 */display: inline-block !important;position: relative;}#sk-container-id-1 div.sk-text-repr-fallback {display: none;}</style><div id=\"sk-container-id-1\" class=\"sk-top-container\"><div class=\"sk-text-repr-fallback\"><pre>Pipeline(steps=[(&#x27;scale&#x27;, None), (&#x27;model&#x27;, LogisticRegression())])</pre><b>In a Jupyter environment, please rerun this cell to show the HTML representation or trust the notebook. <br />On GitHub, the HTML representation is unable to render, please try loading this page with nbviewer.org.</b></div><div class=\"sk-container\" hidden><div class=\"sk-item sk-dashed-wrapped\"><div class=\"sk-label-container\"><div class=\"sk-label sk-toggleable\"><input class=\"sk-toggleable__control sk-hidden--visually\" id=\"sk-estimator-id-1\" type=\"checkbox\" ><label for=\"sk-estimator-id-1\" class=\"sk-toggleable__label sk-toggleable__label-arrow\">Pipeline</label><div class=\"sk-toggleable__content\"><pre>Pipeline(steps=[(&#x27;scale&#x27;, None), (&#x27;model&#x27;, LogisticRegression())])</pre></div></div></div><div class=\"sk-serial\"><div class=\"sk-item\"><div class=\"sk-estimator sk-toggleable\"><input class=\"sk-toggleable__control sk-hidden--visually\" id=\"sk-estimator-id-2\" type=\"checkbox\" ><label for=\"sk-estimator-id-2\" class=\"sk-toggleable__label sk-toggleable__label-arrow\">None</label><div class=\"sk-toggleable__content\"><pre>None</pre></div></div></div><div class=\"sk-item\"><div class=\"sk-estimator sk-toggleable\"><input class=\"sk-toggleable__control sk-hidden--visually\" id=\"sk-estimator-id-3\" type=\"checkbox\" ><label for=\"sk-estimator-id-3\" class=\"sk-toggleable__label sk-toggleable__label-arrow\">LogisticRegression</label><div class=\"sk-toggleable__content\"><pre>LogisticRegression()</pre></div></div></div></div></div></div></div>"
      ],
      "text/plain": [
       "Pipeline(steps=[('scale', None), ('model', LogisticRegression())])"
      ]
     },
     "execution_count": 43,
     "metadata": {},
     "output_type": "execute_result"
    }
   ],
   "source": [
    "model.fit(X_train, y_train.values.ravel())"
   ]
  },
  {
   "cell_type": "code",
   "execution_count": 44,
   "id": "af59f8c0",
   "metadata": {
    "execution": {
     "iopub.execute_input": "2025-07-30T21:39:10.745608Z",
     "iopub.status.busy": "2025-07-30T21:39:10.744888Z",
     "iopub.status.idle": "2025-07-30T21:39:10.753063Z",
     "shell.execute_reply": "2025-07-30T21:39:10.751498Z"
    },
    "papermill": {
     "duration": 0.036183,
     "end_time": "2025-07-30T21:39:10.755741",
     "exception": false,
     "start_time": "2025-07-30T21:39:10.719558",
     "status": "completed"
    },
    "tags": []
   },
   "outputs": [],
   "source": [
    "from fairness_multiverse.universe import predict_w_threshold"
   ]
  },
  {
   "cell_type": "code",
   "execution_count": 45,
   "id": "a7cf2e16",
   "metadata": {
    "execution": {
     "iopub.execute_input": "2025-07-30T21:39:10.802170Z",
     "iopub.status.busy": "2025-07-30T21:39:10.801354Z",
     "iopub.status.idle": "2025-07-30T21:39:10.896748Z",
     "shell.execute_reply": "2025-07-30T21:39:10.895721Z"
    },
    "papermill": {
     "duration": 0.123053,
     "end_time": "2025-07-30T21:39:10.898487",
     "exception": false,
     "start_time": "2025-07-30T21:39:10.775434",
     "status": "completed"
    },
    "tags": []
   },
   "outputs": [
    {
     "data": {
      "text/plain": [
       "0.8631813621669825"
      ]
     },
     "execution_count": 45,
     "metadata": {},
     "output_type": "execute_result"
    }
   ],
   "source": [
    "probs_test = model.predict_proba(X_test)\n",
    "\n",
    "'''\n",
    "Below code returns a boolean array (or binary 0/1 array depending on how it’s used) where each element \n",
    "is True if the probability of class 1 is greater than or equal to the threshold, and False otherwise.\n",
    "'''\n",
    "y_pred_default = predict_w_threshold(probs_test, 0.5)\n",
    "\n",
    "from sklearn.metrics import accuracy_score\n",
    "\n",
    "# Naive prediction\n",
    "accuracy_score(y_true = y_true, y_pred = y_pred_default)"
   ]
  },
  {
   "cell_type": "code",
   "execution_count": 46,
   "id": "081964c3",
   "metadata": {
    "execution": {
     "iopub.execute_input": "2025-07-30T21:39:10.932734Z",
     "iopub.status.busy": "2025-07-30T21:39:10.932242Z",
     "iopub.status.idle": "2025-07-30T21:39:11.025866Z",
     "shell.execute_reply": "2025-07-30T21:39:11.024935Z"
    },
    "papermill": {
     "duration": 0.115024,
     "end_time": "2025-07-30T21:39:11.027544",
     "exception": false,
     "start_time": "2025-07-30T21:39:10.912520",
     "status": "completed"
    },
    "tags": []
   },
   "outputs": [
    {
     "data": {
      "text/plain": [
       "array([0, 0, 0, ..., 0, 0, 0])"
      ]
     },
     "execution_count": 46,
     "metadata": {},
     "output_type": "execute_result"
    }
   ],
   "source": [
    "model.predict(X_test)"
   ]
  },
  {
   "cell_type": "markdown",
   "id": "56c9705b",
   "metadata": {
    "papermill": {
     "duration": 0.024563,
     "end_time": "2025-07-30T21:39:11.075617",
     "exception": false,
     "start_time": "2025-07-30T21:39:11.051054",
     "status": "completed"
    },
    "tags": []
   },
   "source": [
    "# Conformal Prediction"
   ]
  },
  {
   "cell_type": "code",
   "execution_count": 47,
   "id": "160ec6ff",
   "metadata": {
    "execution": {
     "iopub.execute_input": "2025-07-30T21:39:11.124704Z",
     "iopub.status.busy": "2025-07-30T21:39:11.123985Z",
     "iopub.status.idle": "2025-07-30T21:39:11.129423Z",
     "shell.execute_reply": "2025-07-30T21:39:11.128442Z"
    },
    "papermill": {
     "duration": 0.031583,
     "end_time": "2025-07-30T21:39:11.131270",
     "exception": false,
     "start_time": "2025-07-30T21:39:11.099687",
     "status": "completed"
    },
    "tags": []
   },
   "outputs": [],
   "source": [
    "# Miscoverage level for conformal prediction (10% allowed error rate => 90% target coverage)\n",
    "alpha = 0.1"
   ]
  },
  {
   "cell_type": "code",
   "execution_count": 48,
   "id": "eadf4555-3dd3-440e-8e35-f82a4ad9f855",
   "metadata": {
    "execution": {
     "iopub.execute_input": "2025-07-30T21:39:11.192709Z",
     "iopub.status.busy": "2025-07-30T21:39:11.192169Z",
     "iopub.status.idle": "2025-07-30T21:39:11.279055Z",
     "shell.execute_reply": "2025-07-30T21:39:11.278082Z"
    },
    "papermill": {
     "duration": 0.124622,
     "end_time": "2025-07-30T21:39:11.280928",
     "exception": false,
     "start_time": "2025-07-30T21:39:11.156306",
     "status": "completed"
    },
    "tags": []
   },
   "outputs": [],
   "source": [
    "probs_calib = model.predict_proba(X_calib)"
   ]
  },
  {
   "cell_type": "code",
   "execution_count": 49,
   "id": "2ed93547-6d5d-4983-9b36-1ecb300da49a",
   "metadata": {
    "execution": {
     "iopub.execute_input": "2025-07-30T21:39:11.313108Z",
     "iopub.status.busy": "2025-07-30T21:39:11.312711Z",
     "iopub.status.idle": "2025-07-30T21:39:11.317919Z",
     "shell.execute_reply": "2025-07-30T21:39:11.316986Z"
    },
    "papermill": {
     "duration": 0.020742,
     "end_time": "2025-07-30T21:39:11.319294",
     "exception": false,
     "start_time": "2025-07-30T21:39:11.298552",
     "status": "completed"
    },
    "tags": []
   },
   "outputs": [],
   "source": [
    "y_calib = y_calib.values.ravel().astype(int)"
   ]
  },
  {
   "cell_type": "code",
   "execution_count": 50,
   "id": "65d1320d-f588-4b38-9072-62af1ae97f7d",
   "metadata": {
    "execution": {
     "iopub.execute_input": "2025-07-30T21:39:11.346443Z",
     "iopub.status.busy": "2025-07-30T21:39:11.345947Z",
     "iopub.status.idle": "2025-07-30T21:39:11.353193Z",
     "shell.execute_reply": "2025-07-30T21:39:11.351340Z"
    },
    "papermill": {
     "duration": 0.022299,
     "end_time": "2025-07-30T21:39:11.355215",
     "exception": false,
     "start_time": "2025-07-30T21:39:11.332916",
     "status": "completed"
    },
    "tags": []
   },
   "outputs": [],
   "source": [
    "from fairness_multiverse.conformal import compute_nc_scores\n",
    "\n",
    "# Compute nonconformity scores on calibration set (1 - probability of true class)\n",
    "nc_scores = compute_nc_scores(probs_calib, y_calib)"
   ]
  },
  {
   "cell_type": "code",
   "execution_count": 51,
   "id": "df3b8ca3-53b7-43d5-9667-7c85da7aeda2",
   "metadata": {
    "execution": {
     "iopub.execute_input": "2025-07-30T21:39:11.390797Z",
     "iopub.status.busy": "2025-07-30T21:39:11.390448Z",
     "iopub.status.idle": "2025-07-30T21:39:11.396305Z",
     "shell.execute_reply": "2025-07-30T21:39:11.395443Z"
    },
    "papermill": {
     "duration": 0.020492,
     "end_time": "2025-07-30T21:39:11.397711",
     "exception": false,
     "start_time": "2025-07-30T21:39:11.377219",
     "status": "completed"
    },
    "tags": []
   },
   "outputs": [],
   "source": [
    "from fairness_multiverse.conformal import find_threshold\n",
    "\n",
    "# Find conformal threshold q_hat for the given alpha (split conformal method)\n",
    "q_hat = find_threshold(nc_scores, alpha)"
   ]
  },
  {
   "cell_type": "code",
   "execution_count": 52,
   "id": "4d29e6c1-0ef6-4aa4-b8fe-4fe79b0d033a",
   "metadata": {
    "execution": {
     "iopub.execute_input": "2025-07-30T21:39:11.424012Z",
     "iopub.status.busy": "2025-07-30T21:39:11.423519Z",
     "iopub.status.idle": "2025-07-30T21:39:11.429718Z",
     "shell.execute_reply": "2025-07-30T21:39:11.428967Z"
    },
    "papermill": {
     "duration": 0.020409,
     "end_time": "2025-07-30T21:39:11.431099",
     "exception": false,
     "start_time": "2025-07-30T21:39:11.410690",
     "status": "completed"
    },
    "tags": []
   },
   "outputs": [
    {
     "data": {
      "text/plain": [
       "0.6977059943794344"
      ]
     },
     "execution_count": 52,
     "metadata": {},
     "output_type": "execute_result"
    }
   ],
   "source": [
    "q_hat"
   ]
  },
  {
   "cell_type": "code",
   "execution_count": 53,
   "id": "92460794-cdac-4be2-ba28-f28c0515a6fb",
   "metadata": {
    "execution": {
     "iopub.execute_input": "2025-07-30T21:39:11.460097Z",
     "iopub.status.busy": "2025-07-30T21:39:11.458980Z",
     "iopub.status.idle": "2025-07-30T21:39:12.018722Z",
     "shell.execute_reply": "2025-07-30T21:39:12.017802Z"
    },
    "papermill": {
     "duration": 0.576025,
     "end_time": "2025-07-30T21:39:12.020570",
     "exception": false,
     "start_time": "2025-07-30T21:39:11.444545",
     "status": "completed"
    },
    "tags": []
   },
   "outputs": [],
   "source": [
    "from fairness_multiverse.conformal import predict_conformal_sets\n",
    "\n",
    "# Generate prediction sets for each test example\n",
    "pred_sets = predict_conformal_sets(model, X_test, q_hat)"
   ]
  },
  {
   "cell_type": "code",
   "execution_count": 54,
   "id": "d90c9a65-e6db-4f5d-80cd-e68fb7e46829",
   "metadata": {
    "execution": {
     "iopub.execute_input": "2025-07-30T21:39:12.068964Z",
     "iopub.status.busy": "2025-07-30T21:39:12.068511Z",
     "iopub.status.idle": "2025-07-30T21:39:12.074079Z",
     "shell.execute_reply": "2025-07-30T21:39:12.073123Z"
    },
    "papermill": {
     "duration": 0.031352,
     "end_time": "2025-07-30T21:39:12.075612",
     "exception": false,
     "start_time": "2025-07-30T21:39:12.044260",
     "status": "completed"
    },
    "tags": []
   },
   "outputs": [],
   "source": [
    "y_true = y_true.squeeze()"
   ]
  },
  {
   "cell_type": "code",
   "execution_count": 55,
   "id": "3a58a54a-1e68-46b9-927a-df01f18aebc8",
   "metadata": {
    "execution": {
     "iopub.execute_input": "2025-07-30T21:39:12.124597Z",
     "iopub.status.busy": "2025-07-30T21:39:12.124224Z",
     "iopub.status.idle": "2025-07-30T21:39:12.599073Z",
     "shell.execute_reply": "2025-07-30T21:39:12.598329Z"
    },
    "papermill": {
     "duration": 0.502002,
     "end_time": "2025-07-30T21:39:12.600563",
     "exception": false,
     "start_time": "2025-07-30T21:39:12.098561",
     "status": "completed"
    },
    "tags": []
   },
   "outputs": [],
   "source": [
    "from fairness_multiverse.conformal import evaluate_sets\n",
    "\n",
    "# Evaluate coverage and average set size on test data\n",
    "metrics = evaluate_sets(pred_sets, y_true)"
   ]
  },
  {
   "cell_type": "markdown",
   "id": "2b569c12-9aaa-4c88-98c9-bbcd0cf3ebb8",
   "metadata": {
    "papermill": {
     "duration": 0.012613,
     "end_time": "2025-07-30T21:39:12.626252",
     "exception": false,
     "start_time": "2025-07-30T21:39:12.613639",
     "status": "completed"
    },
    "tags": []
   },
   "source": [
    "# CP Metrics"
   ]
  },
  {
   "cell_type": "code",
   "execution_count": 56,
   "id": "5ce0a5cb-201f-45a0-ade5-94c7f0bd6095",
   "metadata": {
    "execution": {
     "iopub.execute_input": "2025-07-30T21:39:12.653217Z",
     "iopub.status.busy": "2025-07-30T21:39:12.652717Z",
     "iopub.status.idle": "2025-07-30T21:39:12.659173Z",
     "shell.execute_reply": "2025-07-30T21:39:12.658431Z"
    },
    "papermill": {
     "duration": 0.021577,
     "end_time": "2025-07-30T21:39:12.660582",
     "exception": false,
     "start_time": "2025-07-30T21:39:12.639005",
     "status": "completed"
    },
    "tags": []
   },
   "outputs": [
    {
     "data": {
      "text/plain": [
       "{'coverage': 0.9118158510756883, 'avg_size': 1.206164307212128}"
      ]
     },
     "execution_count": 56,
     "metadata": {},
     "output_type": "execute_result"
    }
   ],
   "source": [
    "metrics"
   ]
  },
  {
   "cell_type": "code",
   "execution_count": 57,
   "id": "9b9a838d-31c9-430b-ae14-12baee460d17",
   "metadata": {
    "execution": {
     "iopub.execute_input": "2025-07-30T21:39:12.688596Z",
     "iopub.status.busy": "2025-07-30T21:39:12.688247Z",
     "iopub.status.idle": "2025-07-30T21:39:12.693347Z",
     "shell.execute_reply": "2025-07-30T21:39:12.692683Z"
    },
    "papermill": {
     "duration": 0.02032,
     "end_time": "2025-07-30T21:39:12.694592",
     "exception": false,
     "start_time": "2025-07-30T21:39:12.674272",
     "status": "completed"
    },
    "tags": []
   },
   "outputs": [],
   "source": [
    "example_universe = universe.copy()\n",
    "universe_training_year = example_universe.get(\"training_year\")\n",
    "universe_training_size = example_universe.get(\"training_size\")\n",
    "universe_scale = example_universe.get(\"scale\")\n",
    "universe_model = example_universe.get(\"model\")\n",
    "universe_exclude_features = example_universe.get(\"exclude_features\")\n",
    "universe_exclude_subgroups = example_universe.get(\"exclude_subgroups\")"
   ]
  },
  {
   "cell_type": "code",
   "execution_count": 58,
   "id": "f4b6a8ac-9dc0-4245-8a91-5b3b5999c4f9",
   "metadata": {
    "execution": {
     "iopub.execute_input": "2025-07-30T21:39:12.723352Z",
     "iopub.status.busy": "2025-07-30T21:39:12.722846Z",
     "iopub.status.idle": "2025-07-30T21:39:12.728520Z",
     "shell.execute_reply": "2025-07-30T21:39:12.727733Z"
    },
    "papermill": {
     "duration": 0.021017,
     "end_time": "2025-07-30T21:39:12.729912",
     "exception": false,
     "start_time": "2025-07-30T21:39:12.708895",
     "status": "completed"
    },
    "tags": []
   },
   "outputs": [],
   "source": [
    "cp_metrics_dict = {\n",
    "    \"universe_id\": [universe_id],\n",
    "    \"universe_training_year\": [universe_training_year],\n",
    "    \"universe_training_size\": [universe_training_size],\n",
    "    \"universe_scale\": [universe_scale],\n",
    "    \"universe_model\": [universe_model],\n",
    "    \"universe_exclude_features\": [universe_exclude_features],\n",
    "    \"universe_exclude_subgroups\": [universe_exclude_subgroups],\n",
    "    \"q_hat\": [q_hat],\n",
    "    \"coverage\": [metrics[\"coverage\"]],\n",
    "    \"avg_size\": [metrics[\"avg_size\"]],\n",
    "}"
   ]
  },
  {
   "cell_type": "code",
   "execution_count": 59,
   "id": "908acbb1-0371-4915-85ca-3fa520d2efe2",
   "metadata": {
    "execution": {
     "iopub.execute_input": "2025-07-30T21:39:12.758979Z",
     "iopub.status.busy": "2025-07-30T21:39:12.758471Z",
     "iopub.status.idle": "2025-07-30T21:39:12.764906Z",
     "shell.execute_reply": "2025-07-30T21:39:12.764204Z"
    },
    "papermill": {
     "duration": 0.0218,
     "end_time": "2025-07-30T21:39:12.766266",
     "exception": false,
     "start_time": "2025-07-30T21:39:12.744466",
     "status": "completed"
    },
    "tags": []
   },
   "outputs": [
    {
     "data": {
      "text/plain": [
       "{'universe_id': ['8d414880572d4fbbe3787c15766e9677'],\n",
       " 'universe_training_year': ['2012_14'],\n",
       " 'universe_training_size': ['1k'],\n",
       " 'universe_scale': ['do-not-scale'],\n",
       " 'universe_model': ['penalized_logreg'],\n",
       " 'universe_exclude_features': ['none'],\n",
       " 'universe_exclude_subgroups': ['keep-all'],\n",
       " 'q_hat': [0.6977059943794344],\n",
       " 'coverage': [0.9118158510756883],\n",
       " 'avg_size': [1.206164307212128]}"
      ]
     },
     "execution_count": 59,
     "metadata": {},
     "output_type": "execute_result"
    }
   ],
   "source": [
    "cp_metrics_dict"
   ]
  },
  {
   "cell_type": "code",
   "execution_count": 60,
   "id": "33007efc-14e9-4ec6-97ac-56a455c82265",
   "metadata": {
    "execution": {
     "iopub.execute_input": "2025-07-30T21:39:12.808795Z",
     "iopub.status.busy": "2025-07-30T21:39:12.808006Z",
     "iopub.status.idle": "2025-07-30T21:39:12.814422Z",
     "shell.execute_reply": "2025-07-30T21:39:12.813519Z"
    },
    "papermill": {
     "duration": 0.036188,
     "end_time": "2025-07-30T21:39:12.818191",
     "exception": false,
     "start_time": "2025-07-30T21:39:12.782003",
     "status": "completed"
    },
    "tags": []
   },
   "outputs": [],
   "source": [
    "cp_metrics_df = pd.DataFrame(cp_metrics_dict)"
   ]
  },
  {
   "cell_type": "code",
   "execution_count": 61,
   "id": "db12611b-57b2-4910-b9d0-355adfd6e7bf",
   "metadata": {
    "execution": {
     "iopub.execute_input": "2025-07-30T21:39:12.870310Z",
     "iopub.status.busy": "2025-07-30T21:39:12.869828Z",
     "iopub.status.idle": "2025-07-30T21:39:12.884955Z",
     "shell.execute_reply": "2025-07-30T21:39:12.884297Z"
    },
    "papermill": {
     "duration": 0.043201,
     "end_time": "2025-07-30T21:39:12.886250",
     "exception": false,
     "start_time": "2025-07-30T21:39:12.843049",
     "status": "completed"
    },
    "tags": []
   },
   "outputs": [
    {
     "data": {
      "text/html": [
       "<div>\n",
       "<style scoped>\n",
       "    .dataframe tbody tr th:only-of-type {\n",
       "        vertical-align: middle;\n",
       "    }\n",
       "\n",
       "    .dataframe tbody tr th {\n",
       "        vertical-align: top;\n",
       "    }\n",
       "\n",
       "    .dataframe thead th {\n",
       "        text-align: right;\n",
       "    }\n",
       "</style>\n",
       "<table border=\"1\" class=\"dataframe\">\n",
       "  <thead>\n",
       "    <tr style=\"text-align: right;\">\n",
       "      <th></th>\n",
       "      <th>universe_id</th>\n",
       "      <th>universe_training_year</th>\n",
       "      <th>universe_training_size</th>\n",
       "      <th>universe_scale</th>\n",
       "      <th>universe_model</th>\n",
       "      <th>universe_exclude_features</th>\n",
       "      <th>universe_exclude_subgroups</th>\n",
       "      <th>q_hat</th>\n",
       "      <th>coverage</th>\n",
       "      <th>avg_size</th>\n",
       "    </tr>\n",
       "  </thead>\n",
       "  <tbody>\n",
       "    <tr>\n",
       "      <th>0</th>\n",
       "      <td>8d414880572d4fbbe3787c15766e9677</td>\n",
       "      <td>2012_14</td>\n",
       "      <td>1k</td>\n",
       "      <td>do-not-scale</td>\n",
       "      <td>penalized_logreg</td>\n",
       "      <td>none</td>\n",
       "      <td>keep-all</td>\n",
       "      <td>0.697706</td>\n",
       "      <td>0.911816</td>\n",
       "      <td>1.206164</td>\n",
       "    </tr>\n",
       "  </tbody>\n",
       "</table>\n",
       "</div>"
      ],
      "text/plain": [
       "                        universe_id universe_training_year  \\\n",
       "0  8d414880572d4fbbe3787c15766e9677                2012_14   \n",
       "\n",
       "  universe_training_size universe_scale    universe_model  \\\n",
       "0                     1k   do-not-scale  penalized_logreg   \n",
       "\n",
       "  universe_exclude_features universe_exclude_subgroups     q_hat  coverage  \\\n",
       "0                      none                   keep-all  0.697706  0.911816   \n",
       "\n",
       "   avg_size  \n",
       "0  1.206164  "
      ]
     },
     "execution_count": 61,
     "metadata": {},
     "output_type": "execute_result"
    }
   ],
   "source": [
    "cp_metrics_df"
   ]
  },
  {
   "cell_type": "code",
   "execution_count": 62,
   "id": "b7fbde55-a0a1-47e4-9af6-fe4a17fa8c61",
   "metadata": {
    "execution": {
     "iopub.execute_input": "2025-07-30T21:39:12.915330Z",
     "iopub.status.busy": "2025-07-30T21:39:12.914626Z",
     "iopub.status.idle": "2025-07-30T21:39:12.918950Z",
     "shell.execute_reply": "2025-07-30T21:39:12.918216Z"
    },
    "papermill": {
     "duration": 0.019441,
     "end_time": "2025-07-30T21:39:12.920153",
     "exception": false,
     "start_time": "2025-07-30T21:39:12.900712",
     "status": "completed"
    },
    "tags": []
   },
   "outputs": [],
   "source": [
    "# Conditional Coverage & looking at subgroups"
   ]
  },
  {
   "cell_type": "code",
   "execution_count": 63,
   "id": "027ae886-68dd-4141-96c7-805a5450e1ef",
   "metadata": {
    "execution": {
     "iopub.execute_input": "2025-07-30T21:39:12.984492Z",
     "iopub.status.busy": "2025-07-30T21:39:12.983943Z",
     "iopub.status.idle": "2025-07-30T21:39:13.265074Z",
     "shell.execute_reply": "2025-07-30T21:39:13.263926Z"
    },
    "papermill": {
     "duration": 0.317464,
     "end_time": "2025-07-30T21:39:13.266622",
     "exception": false,
     "start_time": "2025-07-30T21:39:12.949158",
     "status": "completed"
    },
    "tags": []
   },
   "outputs": [],
   "source": [
    "from fairness_multiverse.conformal import build_cp_groups\n",
    "\n",
    "cp_groups_df = build_cp_groups(pred_sets, y_true, X_test.index, org_test)\n",
    "#needs universe_id and setting"
   ]
  },
  {
   "cell_type": "code",
   "execution_count": 64,
   "id": "01d5802c-663a-4d1f-9d69-e036faaffbf7",
   "metadata": {
    "execution": {
     "iopub.execute_input": "2025-07-30T21:39:13.314283Z",
     "iopub.status.busy": "2025-07-30T21:39:13.313898Z",
     "iopub.status.idle": "2025-07-30T21:39:13.318146Z",
     "shell.execute_reply": "2025-07-30T21:39:13.317304Z"
    },
    "papermill": {
     "duration": 0.026916,
     "end_time": "2025-07-30T21:39:13.319633",
     "exception": false,
     "start_time": "2025-07-30T21:39:13.292717",
     "status": "completed"
    },
    "tags": []
   },
   "outputs": [],
   "source": [
    "#delete\n",
    "#cp_groups_df"
   ]
  },
  {
   "cell_type": "code",
   "execution_count": 65,
   "id": "fa424af1-d1eb-443d-b717-2d279ada8408",
   "metadata": {
    "execution": {
     "iopub.execute_input": "2025-07-30T21:39:13.349447Z",
     "iopub.status.busy": "2025-07-30T21:39:13.349097Z",
     "iopub.status.idle": "2025-07-30T21:39:13.353624Z",
     "shell.execute_reply": "2025-07-30T21:39:13.352927Z"
    },
    "papermill": {
     "duration": 0.020814,
     "end_time": "2025-07-30T21:39:13.355026",
     "exception": false,
     "start_time": "2025-07-30T21:39:13.334212",
     "status": "completed"
    },
    "tags": []
   },
   "outputs": [],
   "source": [
    "#delete\n",
    "#percentage = (cp_groups_df['nongerman_female'] == 1).mean() * 100\n",
    "#print(percentage)\n"
   ]
  },
  {
   "cell_type": "code",
   "execution_count": 66,
   "id": "6cbdab96-b2b2-45af-ad54-d0516db2e28d",
   "metadata": {
    "execution": {
     "iopub.execute_input": "2025-07-30T21:39:13.414038Z",
     "iopub.status.busy": "2025-07-30T21:39:13.413129Z",
     "iopub.status.idle": "2025-07-30T21:39:15.487589Z",
     "shell.execute_reply": "2025-07-30T21:39:15.486810Z"
    },
    "papermill": {
     "duration": 2.106004,
     "end_time": "2025-07-30T21:39:15.489519",
     "exception": false,
     "start_time": "2025-07-30T21:39:13.383515",
     "status": "completed"
    },
    "tags": []
   },
   "outputs": [],
   "source": [
    "# Define covered = 1 if true_label is in the predicted set\n",
    "cp_groups_df['covered'] = cp_groups_df.apply(\n",
    "    lambda r: int(r['true_label'] in r['pred_set']),\n",
    "    axis=1\n",
    ")"
   ]
  },
  {
   "cell_type": "code",
   "execution_count": 67,
   "id": "338ff529-1a6b-4b87-a931-8e4788d52aad",
   "metadata": {
    "execution": {
     "iopub.execute_input": "2025-07-30T21:39:15.545787Z",
     "iopub.status.busy": "2025-07-30T21:39:15.544818Z",
     "iopub.status.idle": "2025-07-30T21:39:15.550336Z",
     "shell.execute_reply": "2025-07-30T21:39:15.549417Z"
    },
    "papermill": {
     "duration": 0.034865,
     "end_time": "2025-07-30T21:39:15.551939",
     "exception": false,
     "start_time": "2025-07-30T21:39:15.517074",
     "status": "completed"
    },
    "tags": []
   },
   "outputs": [],
   "source": [
    "#cp_groups_df"
   ]
  },
  {
   "cell_type": "code",
   "execution_count": 68,
   "id": "90032e27-66df-4540-9169-4e89cfbaa758",
   "metadata": {
    "execution": {
     "iopub.execute_input": "2025-07-30T21:39:15.608385Z",
     "iopub.status.busy": "2025-07-30T21:39:15.607265Z",
     "iopub.status.idle": "2025-07-30T21:39:15.622778Z",
     "shell.execute_reply": "2025-07-30T21:39:15.621455Z"
    },
    "papermill": {
     "duration": 0.046722,
     "end_time": "2025-07-30T21:39:15.625420",
     "exception": false,
     "start_time": "2025-07-30T21:39:15.578698",
     "status": "completed"
    },
    "tags": []
   },
   "outputs": [],
   "source": [
    "subgroups = ['frau1','nongerman','nongerman_male','nongerman_female']\n",
    "\n",
    "# Conditional coverage for subgroup==1\n",
    "cond_coverage = {\n",
    "    g: cp_groups_df.loc[cp_groups_df[g]==1, 'covered'].mean()\n",
    "    for g in subgroups\n",
    "}"
   ]
  },
  {
   "cell_type": "code",
   "execution_count": 69,
   "id": "1e348fb1-b9c3-45bc-ba23-f016827a7e0d",
   "metadata": {
    "execution": {
     "iopub.execute_input": "2025-07-30T21:39:15.678681Z",
     "iopub.status.busy": "2025-07-30T21:39:15.678170Z",
     "iopub.status.idle": "2025-07-30T21:39:15.685661Z",
     "shell.execute_reply": "2025-07-30T21:39:15.684554Z"
    },
    "papermill": {
     "duration": 0.03495,
     "end_time": "2025-07-30T21:39:15.687179",
     "exception": false,
     "start_time": "2025-07-30T21:39:15.652229",
     "status": "completed"
    },
    "tags": []
   },
   "outputs": [
    {
     "data": {
      "text/plain": [
       "{'frau1': 0.9087478096778542,\n",
       " 'nongerman': 0.9293212822096222,\n",
       " 'nongerman_male': 0.9432585787624966,\n",
       " 'nongerman_female': 0.9062593144560358}"
      ]
     },
     "execution_count": 69,
     "metadata": {},
     "output_type": "execute_result"
    }
   ],
   "source": [
    "cond_coverage"
   ]
  },
  {
   "cell_type": "code",
   "execution_count": 70,
   "id": "f5093324-c3dd-4d63-bc4c-8d945e5c8bbb",
   "metadata": {
    "execution": {
     "iopub.execute_input": "2025-07-30T21:39:15.739012Z",
     "iopub.status.busy": "2025-07-30T21:39:15.738444Z",
     "iopub.status.idle": "2025-07-30T21:39:15.746319Z",
     "shell.execute_reply": "2025-07-30T21:39:15.745371Z"
    },
    "papermill": {
     "duration": 0.035706,
     "end_time": "2025-07-30T21:39:15.748082",
     "exception": false,
     "start_time": "2025-07-30T21:39:15.712376",
     "status": "completed"
    },
    "tags": []
   },
   "outputs": [],
   "source": [
    "for subgroup, cov in cond_coverage.items():\n",
    "    cp_metrics_df[f\"cov_{subgroup}\"] = cov"
   ]
  },
  {
   "cell_type": "code",
   "execution_count": 71,
   "id": "6e872e10-dbe5-49e8-b554-5030c98ff75d",
   "metadata": {
    "execution": {
     "iopub.execute_input": "2025-07-30T21:39:15.803262Z",
     "iopub.status.busy": "2025-07-30T21:39:15.802536Z",
     "iopub.status.idle": "2025-07-30T21:39:15.822728Z",
     "shell.execute_reply": "2025-07-30T21:39:15.821935Z"
    },
    "papermill": {
     "duration": 0.047953,
     "end_time": "2025-07-30T21:39:15.824358",
     "exception": false,
     "start_time": "2025-07-30T21:39:15.776405",
     "status": "completed"
    },
    "tags": []
   },
   "outputs": [
    {
     "data": {
      "text/html": [
       "<div>\n",
       "<style scoped>\n",
       "    .dataframe tbody tr th:only-of-type {\n",
       "        vertical-align: middle;\n",
       "    }\n",
       "\n",
       "    .dataframe tbody tr th {\n",
       "        vertical-align: top;\n",
       "    }\n",
       "\n",
       "    .dataframe thead th {\n",
       "        text-align: right;\n",
       "    }\n",
       "</style>\n",
       "<table border=\"1\" class=\"dataframe\">\n",
       "  <thead>\n",
       "    <tr style=\"text-align: right;\">\n",
       "      <th></th>\n",
       "      <th>universe_id</th>\n",
       "      <th>universe_training_year</th>\n",
       "      <th>universe_training_size</th>\n",
       "      <th>universe_scale</th>\n",
       "      <th>universe_model</th>\n",
       "      <th>universe_exclude_features</th>\n",
       "      <th>universe_exclude_subgroups</th>\n",
       "      <th>q_hat</th>\n",
       "      <th>coverage</th>\n",
       "      <th>avg_size</th>\n",
       "      <th>cov_frau1</th>\n",
       "      <th>cov_nongerman</th>\n",
       "      <th>cov_nongerman_male</th>\n",
       "      <th>cov_nongerman_female</th>\n",
       "    </tr>\n",
       "  </thead>\n",
       "  <tbody>\n",
       "    <tr>\n",
       "      <th>0</th>\n",
       "      <td>8d414880572d4fbbe3787c15766e9677</td>\n",
       "      <td>2012_14</td>\n",
       "      <td>1k</td>\n",
       "      <td>do-not-scale</td>\n",
       "      <td>penalized_logreg</td>\n",
       "      <td>none</td>\n",
       "      <td>keep-all</td>\n",
       "      <td>0.697706</td>\n",
       "      <td>0.911816</td>\n",
       "      <td>1.206164</td>\n",
       "      <td>0.908748</td>\n",
       "      <td>0.929321</td>\n",
       "      <td>0.943259</td>\n",
       "      <td>0.906259</td>\n",
       "    </tr>\n",
       "  </tbody>\n",
       "</table>\n",
       "</div>"
      ],
      "text/plain": [
       "                        universe_id universe_training_year  \\\n",
       "0  8d414880572d4fbbe3787c15766e9677                2012_14   \n",
       "\n",
       "  universe_training_size universe_scale    universe_model  \\\n",
       "0                     1k   do-not-scale  penalized_logreg   \n",
       "\n",
       "  universe_exclude_features universe_exclude_subgroups     q_hat  coverage  \\\n",
       "0                      none                   keep-all  0.697706  0.911816   \n",
       "\n",
       "   avg_size  cov_frau1  cov_nongerman  cov_nongerman_male  \\\n",
       "0  1.206164   0.908748       0.929321            0.943259   \n",
       "\n",
       "   cov_nongerman_female  \n",
       "0              0.906259  "
      ]
     },
     "execution_count": 71,
     "metadata": {},
     "output_type": "execute_result"
    }
   ],
   "source": [
    "cp_metrics_df"
   ]
  },
  {
   "cell_type": "markdown",
   "id": "33774451",
   "metadata": {
    "papermill": {
     "duration": 0.029627,
     "end_time": "2025-07-30T21:39:15.886204",
     "exception": false,
     "start_time": "2025-07-30T21:39:15.856577",
     "status": "completed"
    },
    "tags": []
   },
   "source": [
    "# (Fairness) Metrics"
   ]
  },
  {
   "cell_type": "code",
   "execution_count": 72,
   "id": "debc5d62",
   "metadata": {
    "execution": {
     "iopub.execute_input": "2025-07-30T21:39:15.944477Z",
     "iopub.status.busy": "2025-07-30T21:39:15.943980Z",
     "iopub.status.idle": "2025-07-30T21:39:15.965750Z",
     "shell.execute_reply": "2025-07-30T21:39:15.964565Z"
    },
    "papermill": {
     "duration": 0.053572,
     "end_time": "2025-07-30T21:39:15.967936",
     "exception": false,
     "start_time": "2025-07-30T21:39:15.914364",
     "status": "completed"
    },
    "tags": []
   },
   "outputs": [],
   "source": [
    "# do I need to include maxdeutsch1.missing?\n",
    "\n",
    "import numpy as np\n",
    "\n",
    "colname_to_bin = \"maxdeutsch1\"\n",
    "majority_value = org_train[colname_to_bin].mode()[0]\n",
    "\n",
    "org_test[\"majmin\"] = np.where(org_test[colname_to_bin] == majority_value, \"majority\", \"minority\")"
   ]
  },
  {
   "cell_type": "code",
   "execution_count": 73,
   "id": "06a50de5",
   "metadata": {
    "execution": {
     "iopub.execute_input": "2025-07-30T21:39:16.028475Z",
     "iopub.status.busy": "2025-07-30T21:39:16.027980Z",
     "iopub.status.idle": "2025-07-30T21:39:18.897171Z",
     "shell.execute_reply": "2025-07-30T21:39:18.896154Z"
    },
    "papermill": {
     "duration": 2.900978,
     "end_time": "2025-07-30T21:39:18.898596",
     "exception": false,
     "start_time": "2025-07-30T21:39:15.997618",
     "status": "completed"
    },
    "tags": []
   },
   "outputs": [],
   "source": [
    "example_universe = universe.copy()\n",
    "example_universe[\"cutoff\"] = example_universe[\"cutoff\"][0]\n",
    "example_universe[\"eval_fairness_grouping\"] = example_universe[\"eval_fairness_grouping\"][0]\n",
    "fairness_dict, metric_frame = universe_analysis.compute_metrics(\n",
    "    example_universe,\n",
    "    y_pred_prob=probs_test,\n",
    "    y_test=y_true,\n",
    "    org_test=org_test,\n",
    ")"
   ]
  },
  {
   "cell_type": "markdown",
   "id": "f95d4e02",
   "metadata": {
    "papermill": {
     "duration": 0.025117,
     "end_time": "2025-07-30T21:39:18.952176",
     "exception": false,
     "start_time": "2025-07-30T21:39:18.927059",
     "status": "completed"
    },
    "tags": []
   },
   "source": [
    "# Overall"
   ]
  },
  {
   "cell_type": "markdown",
   "id": "bdee4871",
   "metadata": {
    "papermill": {
     "duration": 0.01429,
     "end_time": "2025-07-30T21:39:18.983172",
     "exception": false,
     "start_time": "2025-07-30T21:39:18.968882",
     "status": "completed"
    },
    "tags": []
   },
   "source": [
    "Fairness\n",
    "Main fairness target: Equalized Odds. Seems to be a better fit than equal opportunity, since we're not only interested in Y = 1. Seems to be a better fit than demographic parity, since we also care about accuracy, not just equal distribution of preds.\n",
    "\n",
    "Pick column for computation of fairness metrics\n",
    "\n",
    "Performance\n",
    "Overall performance measures, most interesting in relation to the measures split by group below"
   ]
  },
  {
   "cell_type": "code",
   "execution_count": 74,
   "id": "c4e067c6",
   "metadata": {
    "execution": {
     "iopub.execute_input": "2025-07-30T21:39:19.043381Z",
     "iopub.status.busy": "2025-07-30T21:39:19.042764Z",
     "iopub.status.idle": "2025-07-30T21:39:19.054310Z",
     "shell.execute_reply": "2025-07-30T21:39:19.052861Z"
    },
    "papermill": {
     "duration": 0.052911,
     "end_time": "2025-07-30T21:39:19.056676",
     "exception": false,
     "start_time": "2025-07-30T21:39:19.003765",
     "status": "completed"
    },
    "tags": []
   },
   "outputs": [
    {
     "data": {
      "text/plain": [
       "accuracy                   0.215082\n",
       "balanced accuracy          0.527852\n",
       "f1                         0.236669\n",
       "precision                  0.135201\n",
       "false positive rate        0.892854\n",
       "false negative rate        0.051442\n",
       "selection rate             0.900000\n",
       "count                  89710.000000\n",
       "dtype: float64"
      ]
     },
     "execution_count": 74,
     "metadata": {},
     "output_type": "execute_result"
    }
   ],
   "source": [
    "metric_frame.overall"
   ]
  },
  {
   "cell_type": "markdown",
   "id": "e968fe9d",
   "metadata": {
    "papermill": {
     "duration": 0.029194,
     "end_time": "2025-07-30T21:39:19.121716",
     "exception": false,
     "start_time": "2025-07-30T21:39:19.092522",
     "status": "completed"
    },
    "tags": []
   },
   "source": [
    "By Group"
   ]
  },
  {
   "cell_type": "code",
   "execution_count": 75,
   "id": "ec325bce",
   "metadata": {
    "execution": {
     "iopub.execute_input": "2025-07-30T21:39:19.182463Z",
     "iopub.status.busy": "2025-07-30T21:39:19.181956Z",
     "iopub.status.idle": "2025-07-30T21:39:19.198933Z",
     "shell.execute_reply": "2025-07-30T21:39:19.197886Z"
    },
    "papermill": {
     "duration": 0.049558,
     "end_time": "2025-07-30T21:39:19.200776",
     "exception": false,
     "start_time": "2025-07-30T21:39:19.151218",
     "status": "completed"
    },
    "tags": []
   },
   "outputs": [
    {
     "data": {
      "text/html": [
       "<div>\n",
       "<style scoped>\n",
       "    .dataframe tbody tr th:only-of-type {\n",
       "        vertical-align: middle;\n",
       "    }\n",
       "\n",
       "    .dataframe tbody tr th {\n",
       "        vertical-align: top;\n",
       "    }\n",
       "\n",
       "    .dataframe thead th {\n",
       "        text-align: right;\n",
       "    }\n",
       "</style>\n",
       "<table border=\"1\" class=\"dataframe\">\n",
       "  <thead>\n",
       "    <tr style=\"text-align: right;\">\n",
       "      <th></th>\n",
       "      <th>accuracy</th>\n",
       "      <th>balanced accuracy</th>\n",
       "      <th>f1</th>\n",
       "      <th>precision</th>\n",
       "      <th>false positive rate</th>\n",
       "      <th>false negative rate</th>\n",
       "      <th>selection rate</th>\n",
       "      <th>count</th>\n",
       "    </tr>\n",
       "    <tr>\n",
       "      <th>majmin</th>\n",
       "      <th></th>\n",
       "      <th></th>\n",
       "      <th></th>\n",
       "      <th></th>\n",
       "      <th></th>\n",
       "      <th></th>\n",
       "      <th></th>\n",
       "      <th></th>\n",
       "    </tr>\n",
       "  </thead>\n",
       "  <tbody>\n",
       "    <tr>\n",
       "      <th>majority</th>\n",
       "      <td>0.236258</td>\n",
       "      <td>0.534202</td>\n",
       "      <td>0.245271</td>\n",
       "      <td>0.141054</td>\n",
       "      <td>0.870765</td>\n",
       "      <td>0.060832</td>\n",
       "      <td>0.879803</td>\n",
       "      <td>69170.0</td>\n",
       "    </tr>\n",
       "    <tr>\n",
       "      <th>minority</th>\n",
       "      <td>0.143768</td>\n",
       "      <td>0.509485</td>\n",
       "      <td>0.209609</td>\n",
       "      <td>0.117286</td>\n",
       "      <td>0.965827</td>\n",
       "      <td>0.015203</td>\n",
       "      <td>0.968014</td>\n",
       "      <td>20540.0</td>\n",
       "    </tr>\n",
       "  </tbody>\n",
       "</table>\n",
       "</div>"
      ],
      "text/plain": [
       "          accuracy  balanced accuracy        f1  precision  \\\n",
       "majmin                                                       \n",
       "majority  0.236258           0.534202  0.245271   0.141054   \n",
       "minority  0.143768           0.509485  0.209609   0.117286   \n",
       "\n",
       "          false positive rate  false negative rate  selection rate    count  \n",
       "majmin                                                                       \n",
       "majority             0.870765             0.060832        0.879803  69170.0  \n",
       "minority             0.965827             0.015203        0.968014  20540.0  "
      ]
     },
     "execution_count": 75,
     "metadata": {},
     "output_type": "execute_result"
    }
   ],
   "source": [
    "metric_frame.by_group"
   ]
  },
  {
   "cell_type": "code",
   "execution_count": 76,
   "id": "a9ddbe63",
   "metadata": {
    "execution": {
     "iopub.execute_input": "2025-07-30T21:39:19.263808Z",
     "iopub.status.busy": "2025-07-30T21:39:19.262881Z",
     "iopub.status.idle": "2025-07-30T21:39:21.594819Z",
     "shell.execute_reply": "2025-07-30T21:39:21.593921Z"
    },
    "papermill": {
     "duration": 2.36519,
     "end_time": "2025-07-30T21:39:21.596748",
     "exception": false,
     "start_time": "2025-07-30T21:39:19.231558",
     "status": "completed"
    },
    "tags": []
   },
   "outputs": [
    {
     "data": {
      "text/plain": [
       "array([[<Axes: title={'center': 'accuracy'}, xlabel='majmin'>,\n",
       "        <Axes: title={'center': 'balanced accuracy'}, xlabel='majmin'>,\n",
       "        <Axes: title={'center': 'f1'}, xlabel='majmin'>],\n",
       "       [<Axes: title={'center': 'precision'}, xlabel='majmin'>,\n",
       "        <Axes: title={'center': 'false positive rate'}, xlabel='majmin'>,\n",
       "        <Axes: title={'center': 'false negative rate'}, xlabel='majmin'>],\n",
       "       [<Axes: title={'center': 'selection rate'}, xlabel='majmin'>,\n",
       "        <Axes: title={'center': 'count'}, xlabel='majmin'>,\n",
       "        <Axes: xlabel='majmin'>]], dtype=object)"
      ]
     },
     "execution_count": 76,
     "metadata": {},
     "output_type": "execute_result"
    },
    {
     "data": {
      "image/png": "[encoded data removed]",
      "text/plain": [
       "<Figure size 1200x800 with 9 Axes>"
      ]
     },
     "metadata": {},
     "output_type": "display_data"
    }
   ],
   "source": [
    "# In a graphic\n",
    "metric_frame.by_group.plot.bar(\n",
    "    subplots=True,\n",
    "    layout=[3, 3],\n",
    "    legend=False,\n",
    "    figsize=[12, 8],\n",
    "    title=\"Show all metrics\",\n",
    ")"
   ]
  },
  {
   "cell_type": "markdown",
   "id": "f57a0bac",
   "metadata": {
    "papermill": {
     "duration": 0.027689,
     "end_time": "2025-07-30T21:39:21.654149",
     "exception": false,
     "start_time": "2025-07-30T21:39:21.626460",
     "status": "completed"
    },
    "tags": []
   },
   "source": [
    "# Final Output"
   ]
  },
  {
   "cell_type": "code",
   "execution_count": 77,
   "id": "96d280a3",
   "metadata": {
    "execution": {
     "iopub.execute_input": "2025-07-30T21:39:21.712006Z",
     "iopub.status.busy": "2025-07-30T21:39:21.711052Z",
     "iopub.status.idle": "2025-07-30T21:39:21.719221Z",
     "shell.execute_reply": "2025-07-30T21:39:21.718321Z"
    },
    "papermill": {
     "duration": 0.038282,
     "end_time": "2025-07-30T21:39:21.720859",
     "exception": false,
     "start_time": "2025-07-30T21:39:21.682577",
     "status": "completed"
    },
    "tags": []
   },
   "outputs": [
    {
     "data": {
      "text/plain": [
       "4"
      ]
     },
     "execution_count": 77,
     "metadata": {},
     "output_type": "execute_result"
    }
   ],
   "source": [
    "sub_universes = universe_analysis.generate_sub_universes()\n",
    "len(sub_universes)"
   ]
  },
  {
   "cell_type": "code",
   "execution_count": 78,
   "id": "92adf7ba",
   "metadata": {
    "execution": {
     "iopub.execute_input": "2025-07-30T21:39:21.780222Z",
     "iopub.status.busy": "2025-07-30T21:39:21.779546Z",
     "iopub.status.idle": "2025-07-30T21:39:21.785735Z",
     "shell.execute_reply": "2025-07-30T21:39:21.784777Z"
    },
    "papermill": {
     "duration": 0.037548,
     "end_time": "2025-07-30T21:39:21.787657",
     "exception": false,
     "start_time": "2025-07-30T21:39:21.750109",
     "status": "completed"
    },
    "tags": []
   },
   "outputs": [],
   "source": [
    "def filter_sub_universe_data(sub_universe, org_test):\n",
    "    # Keep all rows — no filtering\n",
    "    keep_rows_mask = np.ones(org_test.shape[0], dtype=bool)\n",
    "\n",
    "    print(f\"[INFO] Keeping all rows: {keep_rows_mask.sum()} rows retained.\")\n",
    "    return keep_rows_mask"
   ]
  },
  {
   "cell_type": "code",
   "execution_count": 79,
   "id": "4a759155",
   "metadata": {
    "execution": {
     "iopub.execute_input": "2025-07-30T21:39:21.846481Z",
     "iopub.status.busy": "2025-07-30T21:39:21.845973Z",
     "iopub.status.idle": "2025-07-30T21:39:32.687136Z",
     "shell.execute_reply": "2025-07-30T21:39:32.686378Z"
    },
    "papermill": {
     "duration": 10.871673,
     "end_time": "2025-07-30T21:39:32.688844",
     "exception": false,
     "start_time": "2025-07-30T21:39:21.817171",
     "status": "completed"
    },
    "tags": []
   },
   "outputs": [
    {
     "name": "stdout",
     "output_type": "stream",
     "text": [
      "Stopping execution_time clock.\n",
      "[INFO] Keeping all rows: 89710 rows retained.\n"
     ]
    },
    {
     "name": "stdout",
     "output_type": "stream",
     "text": [
      "[INFO] Keeping all rows: 89710 rows retained.\n"
     ]
    },
    {
     "name": "stdout",
     "output_type": "stream",
     "text": [
      "[INFO] Keeping all rows: 89710 rows retained.\n"
     ]
    },
    {
     "name": "stdout",
     "output_type": "stream",
     "text": [
      "[INFO] Keeping all rows: 89710 rows retained.\n"
     ]
    },
    {
     "data": {
      "text/html": [
       "<div>\n",
       "<style scoped>\n",
       "    .dataframe tbody tr th:only-of-type {\n",
       "        vertical-align: middle;\n",
       "    }\n",
       "\n",
       "    .dataframe tbody tr th {\n",
       "        vertical-align: top;\n",
       "    }\n",
       "\n",
       "    .dataframe thead th {\n",
       "        text-align: right;\n",
       "    }\n",
       "</style>\n",
       "<table border=\"1\" class=\"dataframe\">\n",
       "  <thead>\n",
       "    <tr style=\"text-align: right;\">\n",
       "      <th></th>\n",
       "      <th>run_no</th>\n",
       "      <th>universe_id</th>\n",
       "      <th>universe_settings</th>\n",
       "      <th>execution_time</th>\n",
       "      <th>test_size_n</th>\n",
       "      <th>test_size_frac</th>\n",
       "      <th>fair_main_equalized_odds_difference</th>\n",
       "      <th>fair_main_equalized_odds_ratio</th>\n",
       "      <th>fair_main_demographic_parity_difference</th>\n",
       "      <th>fair_main_demographic_parity_ratio</th>\n",
       "      <th>...</th>\n",
       "      <th>perf_grp_precision_0</th>\n",
       "      <th>perf_grp_precision_1</th>\n",
       "      <th>perf_grp_false positive rate_0</th>\n",
       "      <th>perf_grp_false positive rate_1</th>\n",
       "      <th>perf_grp_false negative rate_0</th>\n",
       "      <th>perf_grp_false negative rate_1</th>\n",
       "      <th>perf_grp_selection rate_0</th>\n",
       "      <th>perf_grp_selection rate_1</th>\n",
       "      <th>perf_grp_count_0</th>\n",
       "      <th>perf_grp_count_1</th>\n",
       "    </tr>\n",
       "  </thead>\n",
       "  <tbody>\n",
       "    <tr>\n",
       "      <th>0</th>\n",
       "      <td>14</td>\n",
       "      <td>8d414880572d4fbbe3787c15766e9677</td>\n",
       "      <td>{\"cutoff\": \"quantile_0.1\", \"eval_fairness_grou...</td>\n",
       "      <td>25.317955</td>\n",
       "      <td>89710</td>\n",
       "      <td>1.0</td>\n",
       "      <td>0.095062</td>\n",
       "      <td>0.901575</td>\n",
       "      <td>0.088210</td>\n",
       "      <td>0.908875</td>\n",
       "      <td>...</td>\n",
       "      <td>NaN</td>\n",
       "      <td>NaN</td>\n",
       "      <td>NaN</td>\n",
       "      <td>NaN</td>\n",
       "      <td>NaN</td>\n",
       "      <td>NaN</td>\n",
       "      <td>NaN</td>\n",
       "      <td>NaN</td>\n",
       "      <td>NaN</td>\n",
       "      <td>NaN</td>\n",
       "    </tr>\n",
       "    <tr>\n",
       "      <th>0</th>\n",
       "      <td>14</td>\n",
       "      <td>8d414880572d4fbbe3787c15766e9677</td>\n",
       "      <td>{\"cutoff\": \"quantile_0.1\", \"eval_fairness_grou...</td>\n",
       "      <td>25.317955</td>\n",
       "      <td>89710</td>\n",
       "      <td>1.0</td>\n",
       "      <td>0.095062</td>\n",
       "      <td>0.901575</td>\n",
       "      <td>0.088210</td>\n",
       "      <td>0.908875</td>\n",
       "      <td>...</td>\n",
       "      <td>0.117286</td>\n",
       "      <td>0.141054</td>\n",
       "      <td>0.965827</td>\n",
       "      <td>0.870765</td>\n",
       "      <td>0.015203</td>\n",
       "      <td>0.060832</td>\n",
       "      <td>0.968014</td>\n",
       "      <td>0.879803</td>\n",
       "      <td>20540.0</td>\n",
       "      <td>69170.0</td>\n",
       "    </tr>\n",
       "    <tr>\n",
       "      <th>0</th>\n",
       "      <td>14</td>\n",
       "      <td>8d414880572d4fbbe3787c15766e9677</td>\n",
       "      <td>{\"cutoff\": \"quantile_0.25\", \"eval_fairness_gro...</td>\n",
       "      <td>25.317955</td>\n",
       "      <td>89710</td>\n",
       "      <td>1.0</td>\n",
       "      <td>0.215928</td>\n",
       "      <td>0.759671</td>\n",
       "      <td>0.199854</td>\n",
       "      <td>0.778945</td>\n",
       "      <td>...</td>\n",
       "      <td>NaN</td>\n",
       "      <td>NaN</td>\n",
       "      <td>NaN</td>\n",
       "      <td>NaN</td>\n",
       "      <td>NaN</td>\n",
       "      <td>NaN</td>\n",
       "      <td>NaN</td>\n",
       "      <td>NaN</td>\n",
       "      <td>NaN</td>\n",
       "      <td>NaN</td>\n",
       "    </tr>\n",
       "    <tr>\n",
       "      <th>0</th>\n",
       "      <td>14</td>\n",
       "      <td>8d414880572d4fbbe3787c15766e9677</td>\n",
       "      <td>{\"cutoff\": \"quantile_0.25\", \"eval_fairness_gro...</td>\n",
       "      <td>25.317955</td>\n",
       "      <td>89710</td>\n",
       "      <td>1.0</td>\n",
       "      <td>0.215928</td>\n",
       "      <td>0.759671</td>\n",
       "      <td>0.199854</td>\n",
       "      <td>0.778945</td>\n",
       "      <td>...</td>\n",
       "      <td>0.120786</td>\n",
       "      <td>0.158873</td>\n",
       "      <td>0.898470</td>\n",
       "      <td>0.682542</td>\n",
       "      <td>0.052787</td>\n",
       "      <td>0.153282</td>\n",
       "      <td>0.904090</td>\n",
       "      <td>0.704236</td>\n",
       "      <td>20540.0</td>\n",
       "      <td>69170.0</td>\n",
       "    </tr>\n",
       "  </tbody>\n",
       "</table>\n",
       "<p>4 rows × 50 columns</p>\n",
       "</div>"
      ],
      "text/plain": [
       "  run_no                       universe_id  \\\n",
       "0     14  8d414880572d4fbbe3787c15766e9677   \n",
       "0     14  8d414880572d4fbbe3787c15766e9677   \n",
       "0     14  8d414880572d4fbbe3787c15766e9677   \n",
       "0     14  8d414880572d4fbbe3787c15766e9677   \n",
       "\n",
       "                                   universe_settings  execution_time  \\\n",
       "0  {\"cutoff\": \"quantile_0.1\", \"eval_fairness_grou...       25.317955   \n",
       "0  {\"cutoff\": \"quantile_0.1\", \"eval_fairness_grou...       25.317955   \n",
       "0  {\"cutoff\": \"quantile_0.25\", \"eval_fairness_gro...       25.317955   \n",
       "0  {\"cutoff\": \"quantile_0.25\", \"eval_fairness_gro...       25.317955   \n",
       "\n",
       "   test_size_n  test_size_frac  fair_main_equalized_odds_difference  \\\n",
       "0        89710             1.0                             0.095062   \n",
       "0        89710             1.0                             0.095062   \n",
       "0        89710             1.0                             0.215928   \n",
       "0        89710             1.0                             0.215928   \n",
       "\n",
       "   fair_main_equalized_odds_ratio  fair_main_demographic_parity_difference  \\\n",
       "0                        0.901575                                 0.088210   \n",
       "0                        0.901575                                 0.088210   \n",
       "0                        0.759671                                 0.199854   \n",
       "0                        0.759671                                 0.199854   \n",
       "\n",
       "   fair_main_demographic_parity_ratio  ...  perf_grp_precision_0  \\\n",
       "0                            0.908875  ...                   NaN   \n",
       "0                            0.908875  ...              0.117286   \n",
       "0                            0.778945  ...                   NaN   \n",
       "0                            0.778945  ...              0.120786   \n",
       "\n",
       "   perf_grp_precision_1  perf_grp_false positive rate_0  \\\n",
       "0                   NaN                             NaN   \n",
       "0              0.141054                        0.965827   \n",
       "0                   NaN                             NaN   \n",
       "0              0.158873                        0.898470   \n",
       "\n",
       "   perf_grp_false positive rate_1  perf_grp_false negative rate_0  \\\n",
       "0                             NaN                             NaN   \n",
       "0                        0.870765                        0.015203   \n",
       "0                             NaN                             NaN   \n",
       "0                        0.682542                        0.052787   \n",
       "\n",
       "   perf_grp_false negative rate_1  perf_grp_selection rate_0  \\\n",
       "0                             NaN                        NaN   \n",
       "0                        0.060832                   0.968014   \n",
       "0                             NaN                        NaN   \n",
       "0                        0.153282                   0.904090   \n",
       "\n",
       "   perf_grp_selection rate_1  perf_grp_count_0  perf_grp_count_1  \n",
       "0                        NaN               NaN               NaN  \n",
       "0                   0.879803           20540.0           69170.0  \n",
       "0                        NaN               NaN               NaN  \n",
       "0                   0.704236           20540.0           69170.0  \n",
       "\n",
       "[4 rows x 50 columns]"
      ]
     },
     "execution_count": 79,
     "metadata": {},
     "output_type": "execute_result"
    }
   ],
   "source": [
    "final_output = universe_analysis.generate_final_output(\n",
    "    y_pred_prob=probs_test,\n",
    "    y_test=y_true,\n",
    "    org_test=org_test,\n",
    "    filter_data=filter_sub_universe_data,\n",
    "    cp_metrics_df=cp_metrics_df,\n",
    "    save=True,\n",
    ")\n",
    "final_output"
   ]
  },
  {
   "cell_type": "code",
   "execution_count": null,
   "id": "721ff514-cb11-46f8-b6fc-50392f74b5cb",
   "metadata": {
    "papermill": {
     "duration": 0.035029,
     "end_time": "2025-07-30T21:39:32.754071",
     "exception": false,
     "start_time": "2025-07-30T21:39:32.719042",
     "status": "completed"
    },
    "tags": []
   },
   "outputs": [],
   "source": []
  }
 ],
 "metadata": {
  "celltoolbar": "Tags",
  "kernelspec": {
   "display_name": "Python (CMA Fairness)",
   "language": "python",
   "name": "cma_fair_env"
  },
  "language_info": {
   "codemirror_mode": {
    "name": "ipython",
    "version": 3
   },
   "file_extension": ".py",
   "mimetype": "text/x-python",
   "name": "python",
   "nbconvert_exporter": "python",
   "pygments_lexer": "ipython3",
   "version": "3.10.12"
  },
  "papermill": {
   "default_parameters": {},
   "duration": 40.65183,
   "end_time": "2025-07-30T21:39:33.705463",
   "environment_variables": {},
   "exception": null,
   "input_path": "universe_analysis.ipynb",
   "output_path": "output/runs/14/notebooks/m_14-8d414880572d4fbbe3787c15766e9677.ipynb",
   "parameters": {
    "output_dir": "output",
    "run_no": "14",
    "seed": "2023",
    "universe": "{\"cutoff\": [\"quantile_0.1\", \"quantile_0.25\"], \"eval_fairness_grouping\": [\"majority-minority\", \"nationality-all\"], \"exclude_features\": \"none\", \"exclude_subgroups\": \"keep-all\", \"model\": \"penalized_logreg\", \"scale\": \"do-not-scale\", \"training_size\": \"1k\", \"training_year\": \"2012_14\"}",
    "universe_id": "8d414880572d4fbbe3787c15766e9677"
   },
   "start_time": "2025-07-30T21:38:53.053633",
   "version": "2.6.0"
  }
 },
 "nbformat": 4,
 "nbformat_minor": 5
}