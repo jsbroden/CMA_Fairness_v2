{
 "cells": [
  {
   "cell_type": "code",
   "execution_count": 1,
   "id": "f159f837-637b-42ba-96b5-ec9a68c44524",
   "metadata": {
    "execution": {
     "iopub.execute_input": "2025-07-30T20:49:30.238586Z",
     "iopub.status.busy": "2025-07-30T20:49:30.238139Z",
     "iopub.status.idle": "2025-07-30T20:49:30.251162Z",
     "shell.execute_reply": "2025-07-30T20:49:30.250264Z"
    },
    "papermill": {
     "duration": 0.034338,
     "end_time": "2025-07-30T20:49:30.252802",
     "exception": false,
     "start_time": "2025-07-30T20:49:30.218464",
     "status": "completed"
    },
    "tags": []
   },
   "outputs": [
    {
     "name": "stdout",
     "output_type": "stream",
     "text": [
      "/dss/dsshome1/0C/ra93lal2/cma/CMA_Fairness_v2\n"
     ]
    },
    {
     "name": "stderr",
     "output_type": "stream",
     "text": [
      "/dss/dsshome1/0C/ra93lal2/.local/share/virtualenvs/CMA_Fairness_v2-3j10GkSs/lib/python3.10/site-packages/IPython/core/magics/osm.py:393: UserWarning: This is now an optional IPython functionality, using bookmarks requires you to install the `pickleshare` library.\n",
      "  bkms = self.shell.db.get('bookmarks', {})\n",
      "/dss/dsshome1/0C/ra93lal2/.local/share/virtualenvs/CMA_Fairness_v2-3j10GkSs/lib/python3.10/site-packages/IPython/core/magics/osm.py:417: UserWarning: This is now an optional IPython functionality, setting dhist requires you to install the `pickleshare` library.\n",
      "  self.shell.db['dhist'] = compress_dhist(dhist)[-100:]\n"
     ]
    }
   ],
   "source": [
    "%cd ~/cma/CMA_Fairness_v2"
   ]
  },
  {
   "cell_type": "markdown",
   "id": "de2603b9",
   "metadata": {
    "papermill": {
     "duration": 0.018539,
     "end_time": "2025-07-30T20:49:30.290443",
     "exception": false,
     "start_time": "2025-07-30T20:49:30.271904",
     "status": "completed"
    },
    "tags": []
   },
   "source": [
    "The following cell holds the definition of our parameters, these values can be overriden by rendering the with e.g. the following command:\n",
    "\n",
    "papermill -p alpha 0.2 -p ratio 0.3 universe_analysis.ipynb output/test_run.ipynb"
   ]
  },
  {
   "cell_type": "code",
   "execution_count": 2,
   "id": "a80968a0-40bb-4fa9-85ef-2d5eefb01975",
   "metadata": {
    "execution": {
     "iopub.execute_input": "2025-07-30T20:49:30.328450Z",
     "iopub.status.busy": "2025-07-30T20:49:30.327903Z",
     "iopub.status.idle": "2025-07-30T20:49:30.333451Z",
     "shell.execute_reply": "2025-07-30T20:49:30.332484Z"
    },
    "papermill": {
     "duration": 0.026286,
     "end_time": "2025-07-30T20:49:30.334897",
     "exception": false,
     "start_time": "2025-07-30T20:49:30.308611",
     "status": "completed"
    },
    "tags": []
   },
   "outputs": [
    {
     "name": "stdout",
     "output_type": "stream",
     "text": [
      "Current working directory: /dss/dsshome1/0C/ra93lal2/cma/CMA_Fairness_v2\n"
     ]
    }
   ],
   "source": [
    "import os\n",
    "print(\"Current working directory:\", os.getcwd())"
   ]
  },
  {
   "cell_type": "code",
   "execution_count": 3,
   "id": "2dce4c03",
   "metadata": {
    "execution": {
     "iopub.execute_input": "2025-07-30T20:49:30.374359Z",
     "iopub.status.busy": "2025-07-30T20:49:30.373870Z",
     "iopub.status.idle": "2025-07-30T20:49:30.381119Z",
     "shell.execute_reply": "2025-07-30T20:49:30.380210Z"
    },
    "papermill": {
     "duration": 0.028501,
     "end_time": "2025-07-30T20:49:30.382596",
     "exception": false,
     "start_time": "2025-07-30T20:49:30.354095",
     "status": "completed"
    },
    "tags": [
     "parameters"
    ]
   },
   "outputs": [],
   "source": [
    "run_no = 0\n",
    "universe_id = \"test\"\n",
    "universe = {\n",
    "    \"training_size\": \"25k\", # \"25k\", \"5k\", \"1k\"\n",
    "    \"training_year\": \"2014\", # \"2014\", \"2012_14\", \"2010_14\"\n",
    "    \"scale\": \"scale\", # \"scale\", \"do-not-scale\",\n",
    "    #\"stratify_split\": \"target\", # \"none\", \"target\", \"protected-attribute\", \"both\",\n",
    "    \"model\": \"elasticnet\", # \"logreg\", \"penalized_logreg\", \"rf\", \"gbm\", \"elasticnet\"\n",
    "    \"cutoff\": [\"quantile_0.15\", \"quantile_0.30\"],\n",
    "    \"exclude_features\": \"age\", # \"none\", \"nationality\", \"sex\", \"nationality-sex\", \"age\"\n",
    "    \"exclude_subgroups\": \"keep-all\", # \"keep-all\", \"drop-non-german\"\n",
    "    \"eval_fairness_grouping\": [\"majority-minority\", \"nationality-all\"]\n",
    "}\n",
    "\n",
    "output_dir=\"./output\"\n",
    "seed=0"
   ]
  },
  {
   "cell_type": "code",
   "execution_count": 4,
   "id": "ed6b44d9",
   "metadata": {
    "execution": {
     "iopub.execute_input": "2025-07-30T20:49:30.426096Z",
     "iopub.status.busy": "2025-07-30T20:49:30.425656Z",
     "iopub.status.idle": "2025-07-30T20:49:30.430762Z",
     "shell.execute_reply": "2025-07-30T20:49:30.429908Z"
    },
    "papermill": {
     "duration": 0.03031,
     "end_time": "2025-07-30T20:49:30.432366",
     "exception": false,
     "start_time": "2025-07-30T20:49:30.402056",
     "status": "completed"
    },
    "tags": [
     "injected-parameters"
    ]
   },
   "outputs": [],
   "source": [
    "# Parameters\n",
    "universe_id = \"7af29769abafce631663ff39caf9f962\"\n",
    "run_no = \"14\"\n",
    "universe = \"{\\\"cutoff\\\": [\\\"quantile_0.1\\\", \\\"quantile_0.25\\\"], \\\"eval_fairness_grouping\\\": [\\\"majority-minority\\\", \\\"nationality-all\\\"], \\\"exclude_features\\\": \\\"nationality-sex\\\", \\\"exclude_subgroups\\\": \\\"keep-all\\\", \\\"model\\\": \\\"elasticnet\\\", \\\"scale\\\": \\\"scale\\\", \\\"training_size\\\": \\\"5k\\\", \\\"training_year\\\": \\\"2014\\\"}\"\n",
    "output_dir = \"output\"\n",
    "seed = \"2023\"\n"
   ]
  },
  {
   "cell_type": "code",
   "execution_count": 5,
   "id": "1650acaf",
   "metadata": {
    "execution": {
     "iopub.execute_input": "2025-07-30T20:49:30.479843Z",
     "iopub.status.busy": "2025-07-30T20:49:30.479209Z",
     "iopub.status.idle": "2025-07-30T20:49:30.484363Z",
     "shell.execute_reply": "2025-07-30T20:49:30.483293Z"
    },
    "papermill": {
     "duration": 0.030537,
     "end_time": "2025-07-30T20:49:30.485976",
     "exception": false,
     "start_time": "2025-07-30T20:49:30.455439",
     "status": "completed"
    },
    "tags": []
   },
   "outputs": [],
   "source": [
    "import json\n",
    "# Parse universe into dict if it is passed as a string\n",
    "if isinstance(universe, str):\n",
    "    universe = json.loads(universe)"
   ]
  },
  {
   "cell_type": "code",
   "execution_count": 6,
   "id": "16620c48",
   "metadata": {
    "execution": {
     "iopub.execute_input": "2025-07-30T20:49:30.533003Z",
     "iopub.status.busy": "2025-07-30T20:49:30.532598Z",
     "iopub.status.idle": "2025-07-30T20:49:30.581576Z",
     "shell.execute_reply": "2025-07-30T20:49:30.580567Z"
    },
    "papermill": {
     "duration": 0.074636,
     "end_time": "2025-07-30T20:49:30.583484",
     "exception": false,
     "start_time": "2025-07-30T20:49:30.508848",
     "status": "completed"
    },
    "tags": []
   },
   "outputs": [],
   "source": [
    "# Auto-reload the custom package\n",
    "%load_ext autoreload\n",
    "%autoreload 1\n",
    "%aimport fairness_multiverse"
   ]
  },
  {
   "cell_type": "code",
   "execution_count": 7,
   "id": "01c5c9f3",
   "metadata": {
    "execution": {
     "iopub.execute_input": "2025-07-30T20:49:30.623386Z",
     "iopub.status.busy": "2025-07-30T20:49:30.622699Z",
     "iopub.status.idle": "2025-07-30T20:49:32.544847Z",
     "shell.execute_reply": "2025-07-30T20:49:32.543827Z"
    },
    "papermill": {
     "duration": 1.943785,
     "end_time": "2025-07-30T20:49:32.546731",
     "exception": false,
     "start_time": "2025-07-30T20:49:30.602946",
     "status": "completed"
    },
    "tags": []
   },
   "outputs": [],
   "source": [
    "from fairness_multiverse.universe import UniverseAnalysis\n",
    "\n",
    "universe_analysis = UniverseAnalysis(\n",
    "    run_no = run_no,\n",
    "    universe_id = universe_id,\n",
    "    universe = universe,\n",
    "    output_dir=output_dir,\n",
    ")"
   ]
  },
  {
   "cell_type": "code",
   "execution_count": 8,
   "id": "106241f5",
   "metadata": {
    "execution": {
     "iopub.execute_input": "2025-07-30T20:49:32.589470Z",
     "iopub.status.busy": "2025-07-30T20:49:32.588956Z",
     "iopub.status.idle": "2025-07-30T20:49:32.595751Z",
     "shell.execute_reply": "2025-07-30T20:49:32.594723Z"
    },
    "papermill": {
     "duration": 0.03016,
     "end_time": "2025-07-30T20:49:32.597395",
     "exception": false,
     "start_time": "2025-07-30T20:49:32.567235",
     "status": "completed"
    },
    "tags": []
   },
   "outputs": [
    {
     "name": "stdout",
     "output_type": "stream",
     "text": [
      "Using Seed: 2023\n"
     ]
    }
   ],
   "source": [
    "import numpy as np\n",
    "parsed_seed = int(seed)\n",
    "np.random.seed(parsed_seed)\n",
    "print(f\"Using Seed: {parsed_seed}\")"
   ]
  },
  {
   "cell_type": "markdown",
   "id": "e0ebdc57",
   "metadata": {
    "papermill": {
     "duration": 0.018836,
     "end_time": "2025-07-30T20:49:32.635474",
     "exception": false,
     "start_time": "2025-07-30T20:49:32.616638",
     "status": "completed"
    },
    "tags": []
   },
   "source": [
    "# Loading Data"
   ]
  },
  {
   "cell_type": "markdown",
   "id": "681925a3",
   "metadata": {
    "papermill": {
     "duration": 0.02012,
     "end_time": "2025-07-30T20:49:32.674565",
     "exception": false,
     "start_time": "2025-07-30T20:49:32.654445",
     "status": "completed"
    },
    "tags": []
   },
   "source": [
    "Load siab_train, siab_test, siab_calib and/or \n",
    "load siab_train_features, siab_train_labels"
   ]
  },
  {
   "cell_type": "code",
   "execution_count": 9,
   "id": "f0496b8a",
   "metadata": {
    "execution": {
     "iopub.execute_input": "2025-07-30T20:49:32.713926Z",
     "iopub.status.busy": "2025-07-30T20:49:32.713454Z",
     "iopub.status.idle": "2025-07-30T20:49:42.290483Z",
     "shell.execute_reply": "2025-07-30T20:49:42.289632Z"
    },
    "papermill": {
     "duration": 9.598891,
     "end_time": "2025-07-30T20:49:42.291801",
     "exception": false,
     "start_time": "2025-07-30T20:49:32.692910",
     "status": "completed"
    },
    "tags": []
   },
   "outputs": [
    {
     "name": "stdout",
     "output_type": "stream",
     "text": [
      "Loading SIAB data from cache: data/siab_cached.csv.gz\n"
     ]
    },
    {
     "name": "stdout",
     "output_type": "stream",
     "text": [
      "(643690, 164)\n"
     ]
    }
   ],
   "source": [
    "from pathlib import Path\n",
    "import pandas as pd\n",
    "\n",
    "# File paths\n",
    "raw_file = Path(\"data/raw/siab.csv\")\n",
    "cache_file = Path(\"data/siab_cached.csv.gz\")\n",
    "\n",
    "# Ensure cache directory exists\n",
    "cache_file.parent.mkdir(parents=True, exist_ok=True)\n",
    "\n",
    "# Load with simple caching\n",
    "if cache_file.exists():\n",
    "    print(f\"Loading SIAB data from cache: {cache_file}\")\n",
    "    siab = pd.read_csv(cache_file, compression='gzip')\n",
    "else:\n",
    "    print(f\"Cache not found. Reading raw SIAB data: {raw_file}\")\n",
    "    siab = pd.read_csv(raw_file)\n",
    "    siab.to_csv(cache_file, index=False, compression='gzip')\n",
    "    print(f\"Cached SIAB data to: {cache_file}\")\n",
    "\n",
    "# Now use `siab` DataFrame as needed\n",
    "print(siab.shape)"
   ]
  },
  {
   "cell_type": "code",
   "execution_count": 10,
   "id": "db0ca512-5f53-4dba-abdb-a2888bca41ba",
   "metadata": {
    "execution": {
     "iopub.execute_input": "2025-07-30T20:49:42.319710Z",
     "iopub.status.busy": "2025-07-30T20:49:42.319114Z",
     "iopub.status.idle": "2025-07-30T20:49:42.323543Z",
     "shell.execute_reply": "2025-07-30T20:49:42.322729Z"
    },
    "papermill": {
     "duration": 0.019066,
     "end_time": "2025-07-30T20:49:42.325082",
     "exception": false,
     "start_time": "2025-07-30T20:49:42.306016",
     "status": "completed"
    },
    "tags": []
   },
   "outputs": [],
   "source": [
    "#siab"
   ]
  },
  {
   "cell_type": "code",
   "execution_count": 11,
   "id": "a0edb063",
   "metadata": {
    "execution": {
     "iopub.execute_input": "2025-07-30T20:49:42.347289Z",
     "iopub.status.busy": "2025-07-30T20:49:42.346980Z",
     "iopub.status.idle": "2025-07-30T20:49:42.350719Z",
     "shell.execute_reply": "2025-07-30T20:49:42.349983Z"
    },
    "papermill": {
     "duration": 0.01615,
     "end_time": "2025-07-30T20:49:42.352173",
     "exception": false,
     "start_time": "2025-07-30T20:49:42.336023",
     "status": "completed"
    },
    "tags": []
   },
   "outputs": [],
   "source": [
    "#import pandas as pd\n",
    "#\n",
    "#X_train = pd.read_csv(\"./data/X_train.csv\")\n",
    "#y_train = pd.read_csv(\"./data/y_train.csv\")"
   ]
  },
  {
   "cell_type": "code",
   "execution_count": 12,
   "id": "63d08085",
   "metadata": {
    "execution": {
     "iopub.execute_input": "2025-07-30T20:49:42.377955Z",
     "iopub.status.busy": "2025-07-30T20:49:42.377284Z",
     "iopub.status.idle": "2025-07-30T20:49:42.381459Z",
     "shell.execute_reply": "2025-07-30T20:49:42.380792Z"
    },
    "papermill": {
     "duration": 0.017245,
     "end_time": "2025-07-30T20:49:42.382766",
     "exception": false,
     "start_time": "2025-07-30T20:49:42.365521",
     "status": "completed"
    },
    "tags": []
   },
   "outputs": [],
   "source": [
    "#X_test = pd.read_csv(\"./data/X_test.csv\")\n",
    "#y_true = pd.read_csv(\"./data/y_test.csv\")"
   ]
  },
  {
   "cell_type": "code",
   "execution_count": 13,
   "id": "98a8d0fa-1d3d-4ed8-bb2c-281470e24add",
   "metadata": {
    "execution": {
     "iopub.execute_input": "2025-07-30T20:49:42.405726Z",
     "iopub.status.busy": "2025-07-30T20:49:42.405215Z",
     "iopub.status.idle": "2025-07-30T20:49:42.409423Z",
     "shell.execute_reply": "2025-07-30T20:49:42.408721Z"
    },
    "papermill": {
     "duration": 0.016793,
     "end_time": "2025-07-30T20:49:42.410801",
     "exception": false,
     "start_time": "2025-07-30T20:49:42.394008",
     "status": "completed"
    },
    "tags": []
   },
   "outputs": [],
   "source": [
    "# Calibration data for conformal\n",
    "#X_calib = pd.read_csv(\"./data/X_calib.csv\")\n",
    "#y_calib = pd.read_csv(\"./data/y_calib.csv\")"
   ]
  },
  {
   "cell_type": "markdown",
   "id": "997051c5-15bd-4b69-9786-c3001a3ce484",
   "metadata": {
    "papermill": {
     "duration": 0.010269,
     "end_time": "2025-07-30T20:49:42.432139",
     "exception": false,
     "start_time": "2025-07-30T20:49:42.421870",
     "status": "completed"
    },
    "tags": []
   },
   "source": [
    "# Splitting Data and Setting Training Data Size"
   ]
  },
  {
   "cell_type": "code",
   "execution_count": 14,
   "id": "e993b61f-042d-41a6-8c81-f55681f86335",
   "metadata": {
    "execution": {
     "iopub.execute_input": "2025-07-30T20:49:42.454729Z",
     "iopub.status.busy": "2025-07-30T20:49:42.453999Z",
     "iopub.status.idle": "2025-07-30T20:49:42.463293Z",
     "shell.execute_reply": "2025-07-30T20:49:42.462657Z"
    },
    "papermill": {
     "duration": 0.022127,
     "end_time": "2025-07-30T20:49:42.464554",
     "exception": false,
     "start_time": "2025-07-30T20:49:42.442427",
     "status": "completed"
    },
    "tags": []
   },
   "outputs": [],
   "source": [
    "def sample_by_year_size(df,\n",
    "                        training_year: str,\n",
    "                        training_size: str,\n",
    "                        random_state: int = 42):\n",
    "    # --- parse training_year into a list of int years ---\n",
    "    if \"_\" in training_year:\n",
    "        start_str, end_str = training_year.split(\"_\", 1)\n",
    "        start = int(start_str)\n",
    "        end   = int(end_str) if len(end_str) == 4 else (int(end_str) + (start // 100)*100)\n",
    "        years = list(range(start, end + 1))\n",
    "    else:\n",
    "        years = [int(training_year)]\n",
    "\n",
    "    df = df[df[\"year\"].isin(years)].reset_index(drop=True)\n",
    "\n",
    "    # --- map training_size to total number of samples ---\n",
    "    total_map = {\"25k\": 25_000, \"5k\": 5_000, \"1k\": 1_000}\n",
    "    if training_size not in total_map:\n",
    "        return df  # e.g. \"all\"\n",
    "\n",
    "    total_samples = total_map[training_size]\n",
    "    n_years       = len(years)\n",
    "    base          = total_samples // n_years\n",
    "    remainder     = total_samples % n_years\n",
    "\n",
    "    # --- build a dict: year -> how many to sample ---\n",
    "    # give +1 to the first `remainder` years in ascending order\n",
    "    quotas = {\n",
    "        year: base + (1 if idx < remainder else 0)\n",
    "        for idx, year in enumerate(sorted(years))\n",
    "    }\n",
    "\n",
    "    # --- sample per‐year according to the quota dict ---\n",
    "    sampled = (\n",
    "        df\n",
    "        .groupby(\"year\", group_keys=False)\n",
    "        .apply(lambda grp: grp.sample(\n",
    "            n=min(len(grp), quotas[grp.name]),\n",
    "            random_state=random_state))\n",
    "        .reset_index(drop=True)\n",
    "    )\n",
    "\n",
    "    return sampled"
   ]
  },
  {
   "cell_type": "code",
   "execution_count": 15,
   "id": "c0ccd338-0e02-41f3-a09d-f56f9266e3fb",
   "metadata": {
    "execution": {
     "iopub.execute_input": "2025-07-30T20:49:42.488166Z",
     "iopub.status.busy": "2025-07-30T20:49:42.487478Z",
     "iopub.status.idle": "2025-07-30T20:49:42.491640Z",
     "shell.execute_reply": "2025-07-30T20:49:42.490975Z"
    },
    "papermill": {
     "duration": 0.016858,
     "end_time": "2025-07-30T20:49:42.493052",
     "exception": false,
     "start_time": "2025-07-30T20:49:42.476194",
     "status": "completed"
    },
    "tags": []
   },
   "outputs": [],
   "source": [
    "#universe[\"training_size\"]"
   ]
  },
  {
   "cell_type": "code",
   "execution_count": 16,
   "id": "ca707fd7-8047-4acd-bfa5-66248fbbf8e6",
   "metadata": {
    "execution": {
     "iopub.execute_input": "2025-07-30T20:49:42.515952Z",
     "iopub.status.busy": "2025-07-30T20:49:42.515413Z",
     "iopub.status.idle": "2025-07-30T20:49:42.519582Z",
     "shell.execute_reply": "2025-07-30T20:49:42.518911Z"
    },
    "papermill": {
     "duration": 0.016602,
     "end_time": "2025-07-30T20:49:42.520894",
     "exception": false,
     "start_time": "2025-07-30T20:49:42.504292",
     "status": "completed"
    },
    "tags": []
   },
   "outputs": [],
   "source": [
    "#universe[\"training_year\"]"
   ]
  },
  {
   "cell_type": "code",
   "execution_count": 17,
   "id": "aea9c6ef-6f46-42c8-85eb-5a62025c1508",
   "metadata": {
    "execution": {
     "iopub.execute_input": "2025-07-30T20:49:42.543946Z",
     "iopub.status.busy": "2025-07-30T20:49:42.543448Z",
     "iopub.status.idle": "2025-07-30T20:49:42.769569Z",
     "shell.execute_reply": "2025-07-30T20:49:42.768819Z"
    },
    "papermill": {
     "duration": 0.239027,
     "end_time": "2025-07-30T20:49:42.771046",
     "exception": false,
     "start_time": "2025-07-30T20:49:42.532019",
     "status": "completed"
    },
    "tags": []
   },
   "outputs": [],
   "source": [
    "siab_train = sample_by_year_size(siab,\n",
    "                               training_year=universe[\"training_year\"],\n",
    "                               training_size=universe[\"training_size\"])"
   ]
  },
  {
   "cell_type": "code",
   "execution_count": 18,
   "id": "8d3afb32-789d-442c-8d5d-9f5aa8dd2eed",
   "metadata": {
    "execution": {
     "iopub.execute_input": "2025-07-30T20:49:42.794350Z",
     "iopub.status.busy": "2025-07-30T20:49:42.793891Z",
     "iopub.status.idle": "2025-07-30T20:49:42.797855Z",
     "shell.execute_reply": "2025-07-30T20:49:42.797193Z"
    },
    "papermill": {
     "duration": 0.016388,
     "end_time": "2025-07-30T20:49:42.799007",
     "exception": false,
     "start_time": "2025-07-30T20:49:42.782619",
     "status": "completed"
    },
    "tags": []
   },
   "outputs": [],
   "source": [
    "#siab_train.shape"
   ]
  },
  {
   "cell_type": "code",
   "execution_count": 19,
   "id": "d582db68-1a4c-47fb-84fc-08518dc1975a",
   "metadata": {
    "execution": {
     "iopub.execute_input": "2025-07-30T20:49:42.825736Z",
     "iopub.status.busy": "2025-07-30T20:49:42.825204Z",
     "iopub.status.idle": "2025-07-30T20:49:42.829614Z",
     "shell.execute_reply": "2025-07-30T20:49:42.828969Z"
    },
    "papermill": {
     "duration": 0.020472,
     "end_time": "2025-07-30T20:49:42.830978",
     "exception": false,
     "start_time": "2025-07-30T20:49:42.810506",
     "status": "completed"
    },
    "tags": []
   },
   "outputs": [],
   "source": [
    "#display(siab_train.groupby(\"year\").size())"
   ]
  },
  {
   "cell_type": "code",
   "execution_count": 20,
   "id": "a561edb4-d032-42cb-8256-22eac1111c64",
   "metadata": {
    "execution": {
     "iopub.execute_input": "2025-07-30T20:49:42.854019Z",
     "iopub.status.busy": "2025-07-30T20:49:42.853573Z",
     "iopub.status.idle": "2025-07-30T20:49:43.072750Z",
     "shell.execute_reply": "2025-07-30T20:49:43.072003Z"
    },
    "papermill": {
     "duration": 0.231766,
     "end_time": "2025-07-30T20:49:43.074167",
     "exception": false,
     "start_time": "2025-07-30T20:49:42.842401",
     "status": "completed"
    },
    "tags": []
   },
   "outputs": [],
   "source": [
    "#siab_train = siab_s[siab_s.year < 2015]\n",
    "siab_calib = siab[siab.year == 2015]\n",
    "siab_test = siab[siab.year == 2016]"
   ]
  },
  {
   "cell_type": "code",
   "execution_count": 21,
   "id": "472de16f-c3db-4916-846b-1f0de9cf1746",
   "metadata": {
    "execution": {
     "iopub.execute_input": "2025-07-30T20:49:43.097996Z",
     "iopub.status.busy": "2025-07-30T20:49:43.097292Z",
     "iopub.status.idle": "2025-07-30T20:49:43.103933Z",
     "shell.execute_reply": "2025-07-30T20:49:43.103164Z"
    },
    "papermill": {
     "duration": 0.019559,
     "end_time": "2025-07-30T20:49:43.105257",
     "exception": false,
     "start_time": "2025-07-30T20:49:43.085698",
     "status": "completed"
    },
    "tags": []
   },
   "outputs": [],
   "source": [
    "X_train = siab_train.iloc[:,4:164]\n",
    "y_train = siab_train.iloc[:, [3]]"
   ]
  },
  {
   "cell_type": "code",
   "execution_count": 22,
   "id": "828c96af-f43a-4ed6-ba47-8ac73a47d56c",
   "metadata": {
    "execution": {
     "iopub.execute_input": "2025-07-30T20:49:43.130021Z",
     "iopub.status.busy": "2025-07-30T20:49:43.129520Z",
     "iopub.status.idle": "2025-07-30T20:49:43.174973Z",
     "shell.execute_reply": "2025-07-30T20:49:43.174168Z"
    },
    "papermill": {
     "duration": 0.05899,
     "end_time": "2025-07-30T20:49:43.176484",
     "exception": false,
     "start_time": "2025-07-30T20:49:43.117494",
     "status": "completed"
    },
    "tags": []
   },
   "outputs": [],
   "source": [
    "X_calib = siab_calib.iloc[:,4:164]\n",
    "y_calib = siab_calib.iloc[:, [3]]"
   ]
  },
  {
   "cell_type": "code",
   "execution_count": 23,
   "id": "c34be9c3-6bd6-476e-acd3-845840e303be",
   "metadata": {
    "execution": {
     "iopub.execute_input": "2025-07-30T20:49:43.200146Z",
     "iopub.status.busy": "2025-07-30T20:49:43.199692Z",
     "iopub.status.idle": "2025-07-30T20:49:43.246201Z",
     "shell.execute_reply": "2025-07-30T20:49:43.245365Z"
    },
    "papermill": {
     "duration": 0.059077,
     "end_time": "2025-07-30T20:49:43.247504",
     "exception": false,
     "start_time": "2025-07-30T20:49:43.188427",
     "status": "completed"
    },
    "tags": []
   },
   "outputs": [],
   "source": [
    "X_test = siab_test.iloc[:,4:164]\n",
    "y_true = siab_test.iloc[:, [3]]"
   ]
  },
  {
   "cell_type": "markdown",
   "id": "9901737e-04df-44f0-9100-f5ad144ed040",
   "metadata": {
    "papermill": {
     "duration": 0.010958,
     "end_time": "2025-07-30T20:49:43.270736",
     "exception": false,
     "start_time": "2025-07-30T20:49:43.259778",
     "status": "completed"
    },
    "tags": []
   },
   "source": [
    "# Splitting Data and Setting Training Data Size OLD VERSION"
   ]
  },
  {
   "cell_type": "code",
   "execution_count": 24,
   "id": "acbc8f7d-8fc8-4e86-8c59-5dcb0f58384b",
   "metadata": {
    "execution": {
     "iopub.execute_input": "2025-07-30T20:49:43.293681Z",
     "iopub.status.busy": "2025-07-30T20:49:43.293344Z",
     "iopub.status.idle": "2025-07-30T20:49:43.297563Z",
     "shell.execute_reply": "2025-07-30T20:49:43.296902Z"
    },
    "papermill": {
     "duration": 0.016902,
     "end_time": "2025-07-30T20:49:43.298729",
     "exception": false,
     "start_time": "2025-07-30T20:49:43.281827",
     "status": "completed"
    },
    "tags": []
   },
   "outputs": [],
   "source": [
    "#def sample_by_year(df, training_size, random_state=42):\n",
    "#    if training_size == \"2014\":\n",
    "#        return df[df[\"year\"] == 2014].reset_index(drop=True)\n",
    "#    \n",
    "#    size_map = {\n",
    "#        \"25k\": 5000,\n",
    "#        \"5k\": 1000,\n",
    "#        \"1k\": 200\n",
    "#    }\n",
    "#\n",
    "#    if training_size not in size_map:\n",
    "#        return df.reset_index(drop=True)  # use all data\n",
    "#\n",
    "#    n_per_year = size_map[training_size]\n",
    "#    grouped = df.groupby(\"year\")\n",
    "#    sampled = grouped.apply(lambda x: x.sample(n=min(n_per_year, len(x)), random_state=random_state))\n",
    "#    return sampled.reset_index(drop=True)"
   ]
  },
  {
   "cell_type": "code",
   "execution_count": 25,
   "id": "6d931f52-beaf-43ff-9e78-9d44a448d54e",
   "metadata": {
    "execution": {
     "iopub.execute_input": "2025-07-30T20:49:43.321886Z",
     "iopub.status.busy": "2025-07-30T20:49:43.321534Z",
     "iopub.status.idle": "2025-07-30T20:49:43.325613Z",
     "shell.execute_reply": "2025-07-30T20:49:43.324942Z"
    },
    "papermill": {
     "duration": 0.016864,
     "end_time": "2025-07-30T20:49:43.326896",
     "exception": false,
     "start_time": "2025-07-30T20:49:43.310032",
     "status": "completed"
    },
    "tags": []
   },
   "outputs": [],
   "source": [
    "#siab_s = sample_by_year(siab, universe[\"training_size\"])"
   ]
  },
  {
   "cell_type": "code",
   "execution_count": 26,
   "id": "5db0a40e-a4e2-4920-be85-b12ae061d70d",
   "metadata": {
    "execution": {
     "iopub.execute_input": "2025-07-30T20:49:43.350303Z",
     "iopub.status.busy": "2025-07-30T20:49:43.349684Z",
     "iopub.status.idle": "2025-07-30T20:49:43.353859Z",
     "shell.execute_reply": "2025-07-30T20:49:43.353215Z"
    },
    "papermill": {
     "duration": 0.016717,
     "end_time": "2025-07-30T20:49:43.355054",
     "exception": false,
     "start_time": "2025-07-30T20:49:43.338337",
     "status": "completed"
    },
    "tags": []
   },
   "outputs": [],
   "source": [
    "#display(siab_s.groupby(\"year\").size())"
   ]
  },
  {
   "cell_type": "code",
   "execution_count": 27,
   "id": "e6c733c5",
   "metadata": {
    "execution": {
     "iopub.execute_input": "2025-07-30T20:49:43.378885Z",
     "iopub.status.busy": "2025-07-30T20:49:43.378266Z",
     "iopub.status.idle": "2025-07-30T20:49:43.464170Z",
     "shell.execute_reply": "2025-07-30T20:49:43.463404Z"
    },
    "papermill": {
     "duration": 0.098908,
     "end_time": "2025-07-30T20:49:43.465656",
     "exception": false,
     "start_time": "2025-07-30T20:49:43.366748",
     "status": "completed"
    },
    "tags": []
   },
   "outputs": [],
   "source": [
    "# Auxiliary data needed downstream in the pipeline\n",
    "\n",
    "org_train = X_train.copy()\n",
    "org_test = X_test.copy()\n",
    "org_calib = X_calib.copy()"
   ]
  },
  {
   "cell_type": "code",
   "execution_count": 28,
   "id": "1466abac-c6da-4492-a62f-4240ae3783af",
   "metadata": {
    "execution": {
     "iopub.execute_input": "2025-07-30T20:49:43.490009Z",
     "iopub.status.busy": "2025-07-30T20:49:43.489364Z",
     "iopub.status.idle": "2025-07-30T20:49:43.494236Z",
     "shell.execute_reply": "2025-07-30T20:49:43.493494Z"
    },
    "papermill": {
     "duration": 0.017659,
     "end_time": "2025-07-30T20:49:43.495448",
     "exception": false,
     "start_time": "2025-07-30T20:49:43.477789",
     "status": "completed"
    },
    "tags": []
   },
   "outputs": [],
   "source": [
    "# put in other script?\n",
    "# Group sizes\n",
    "\n",
    "#def calculate_percentages(df, df_name):\n",
    "#    total_entries = len(df)\n",
    "#\n",
    "#    female_pct = (df['frau1'] == 1).mean() * 100\n",
    "#    non_german_pct = ((df['maxdeutsch1'] == 0) & (df['maxdeutsch.Missing.'] == 0)).mean() * 100\n",
    "#    non_german_male_pct = ((df['frau1'] == 0) & (df['maxdeutsch1'] == 0) & (df['maxdeutsch.Missing.'] == 0)).mean() * 100\n",
    "#    non_german_female_pct = ((df['frau1'] == 1) & (df['maxdeutsch1'] == 0) & (df['maxdeutsch.Missing.'] == 0)).mean() * 100\n",
    "#\n",
    "#    print(f\"--- {df_name} ---\")\n",
    "#    print(f\"Female: {female_pct:.2f}%\")\n",
    "#    print(f\"Non-German: {non_german_pct:.2f}%\")\n",
    "#    print(f\"Non-German Male: {non_german_male_pct:.2f}%\")\n",
    "#    print(f\"Non-German Female: {non_german_female_pct:.2f}%\\n\")\n",
    "#\n",
    "## Calculate for each DataFrame\n",
    "#calculate_percentages(siab_calib, \"siab_calib\")\n",
    "#calculate_percentages(siab_test, \"siab_test\")\n",
    "#calculate_percentages(siab_train, \"siab_train\")"
   ]
  },
  {
   "cell_type": "markdown",
   "id": "0a4a1b33",
   "metadata": {
    "papermill": {
     "duration": 0.01097,
     "end_time": "2025-07-30T20:49:43.517902",
     "exception": false,
     "start_time": "2025-07-30T20:49:43.506932",
     "status": "completed"
    },
    "tags": []
   },
   "source": [
    "# Preprocessing Data"
   ]
  },
  {
   "cell_type": "code",
   "execution_count": 29,
   "id": "ca879031",
   "metadata": {
    "execution": {
     "iopub.execute_input": "2025-07-30T20:49:43.541321Z",
     "iopub.status.busy": "2025-07-30T20:49:43.540986Z",
     "iopub.status.idle": "2025-07-30T20:49:43.545611Z",
     "shell.execute_reply": "2025-07-30T20:49:43.544881Z"
    },
    "papermill": {
     "duration": 0.017806,
     "end_time": "2025-07-30T20:49:43.546806",
     "exception": false,
     "start_time": "2025-07-30T20:49:43.529000",
     "status": "completed"
    },
    "tags": []
   },
   "outputs": [],
   "source": [
    "# EXCLUDE PROTECTED FEATURES\n",
    "# ----------------------\n",
    "# \"exclude_features\": \"none\", # \"nationality\", \"sex\", \"nationality-sex\"\n",
    "\n",
    "excluded_features = universe[\"exclude_features\"].split(\"-\") # split, e.g.: \"nationality-sex\" -> [\"nationality\", \"sex\"]\n",
    "excluded_features_dictionary = {\n",
    "    \"nationality\": [\"maxdeutsch1\", \"maxdeutsch.Missing.\"],\n",
    "    \"sex\": [\"frau1\"],\n",
    "    \"age\": [\"age\"],\n",
    "}\n"
   ]
  },
  {
   "cell_type": "code",
   "execution_count": 30,
   "id": "b745ac60",
   "metadata": {
    "execution": {
     "iopub.execute_input": "2025-07-30T20:49:43.570654Z",
     "iopub.status.busy": "2025-07-30T20:49:43.570257Z",
     "iopub.status.idle": "2025-07-30T20:49:43.574589Z",
     "shell.execute_reply": "2025-07-30T20:49:43.573869Z"
    },
    "papermill": {
     "duration": 0.01736,
     "end_time": "2025-07-30T20:49:43.575774",
     "exception": false,
     "start_time": "2025-07-30T20:49:43.558414",
     "status": "completed"
    },
    "tags": []
   },
   "outputs": [],
   "source": [
    "# Code nice names to column names\n",
    "\n",
    "excluded_features_columns = [\n",
    "    excluded_features_dictionary[f] for f in excluded_features if len(f) > 0 and f != \"none\"\n",
    "]"
   ]
  },
  {
   "cell_type": "code",
   "execution_count": 31,
   "id": "f84f73a2",
   "metadata": {
    "execution": {
     "iopub.execute_input": "2025-07-30T20:49:43.599302Z",
     "iopub.status.busy": "2025-07-30T20:49:43.599005Z",
     "iopub.status.idle": "2025-07-30T20:49:43.603897Z",
     "shell.execute_reply": "2025-07-30T20:49:43.603212Z"
    },
    "papermill": {
     "duration": 0.017737,
     "end_time": "2025-07-30T20:49:43.605156",
     "exception": false,
     "start_time": "2025-07-30T20:49:43.587419",
     "status": "completed"
    },
    "tags": []
   },
   "outputs": [],
   "source": [
    "from utils import flatten_once\n",
    "\n",
    "excluded_features_columns = flatten_once(excluded_features_columns)"
   ]
  },
  {
   "cell_type": "code",
   "execution_count": 32,
   "id": "884dea22",
   "metadata": {
    "execution": {
     "iopub.execute_input": "2025-07-30T20:49:43.629607Z",
     "iopub.status.busy": "2025-07-30T20:49:43.628974Z",
     "iopub.status.idle": "2025-07-30T20:49:43.636672Z",
     "shell.execute_reply": "2025-07-30T20:49:43.635980Z"
    },
    "papermill": {
     "duration": 0.020778,
     "end_time": "2025-07-30T20:49:43.638040",
     "exception": false,
     "start_time": "2025-07-30T20:49:43.617262",
     "status": "completed"
    },
    "tags": []
   },
   "outputs": [
    {
     "name": "stdout",
     "output_type": "stream",
     "text": [
      "Dropping features: ['maxdeutsch1', 'maxdeutsch.Missing.', 'frau1']\n"
     ]
    }
   ],
   "source": [
    "if len(excluded_features_columns) > 0:\n",
    "    print(f\"Dropping features: {excluded_features_columns}\")\n",
    "    X_train.drop(excluded_features_columns, axis=1, inplace=True)"
   ]
  },
  {
   "cell_type": "code",
   "execution_count": 33,
   "id": "95ab8b16",
   "metadata": {
    "execution": {
     "iopub.execute_input": "2025-07-30T20:49:43.663438Z",
     "iopub.status.busy": "2025-07-30T20:49:43.662651Z",
     "iopub.status.idle": "2025-07-30T20:49:43.717071Z",
     "shell.execute_reply": "2025-07-30T20:49:43.716117Z"
    },
    "papermill": {
     "duration": 0.06832,
     "end_time": "2025-07-30T20:49:43.718940",
     "exception": false,
     "start_time": "2025-07-30T20:49:43.650620",
     "status": "completed"
    },
    "tags": []
   },
   "outputs": [
    {
     "name": "stdout",
     "output_type": "stream",
     "text": [
      "Dropping features: ['maxdeutsch1', 'maxdeutsch.Missing.', 'frau1']\n"
     ]
    }
   ],
   "source": [
    "if len(excluded_features_columns) > 0:\n",
    "    print(f\"Dropping features: {excluded_features_columns}\")\n",
    "    X_test.drop(excluded_features_columns, axis=1, inplace=True)"
   ]
  },
  {
   "cell_type": "code",
   "execution_count": 34,
   "id": "1853aaf5-fb9f-46cb-a2b5-8ea4ae2237e4",
   "metadata": {
    "execution": {
     "iopub.execute_input": "2025-07-30T20:49:43.767054Z",
     "iopub.status.busy": "2025-07-30T20:49:43.766226Z",
     "iopub.status.idle": "2025-07-30T20:49:43.800084Z",
     "shell.execute_reply": "2025-07-30T20:49:43.799095Z"
    },
    "papermill": {
     "duration": 0.060933,
     "end_time": "2025-07-30T20:49:43.801754",
     "exception": false,
     "start_time": "2025-07-30T20:49:43.740821",
     "status": "completed"
    },
    "tags": []
   },
   "outputs": [
    {
     "name": "stdout",
     "output_type": "stream",
     "text": [
      "Dropping features: ['maxdeutsch1', 'maxdeutsch.Missing.', 'frau1']\n"
     ]
    }
   ],
   "source": [
    "if len(excluded_features_columns) > 0:\n",
    "    print(f\"Dropping features: {excluded_features_columns}\")\n",
    "    X_calib.drop(excluded_features_columns, axis=1, inplace=True)"
   ]
  },
  {
   "cell_type": "code",
   "execution_count": 35,
   "id": "6727d079-03e5-481e-9d38-292a90b7a0a8",
   "metadata": {
    "execution": {
     "iopub.execute_input": "2025-07-30T20:49:43.853106Z",
     "iopub.status.busy": "2025-07-30T20:49:43.852278Z",
     "iopub.status.idle": "2025-07-30T20:49:43.857944Z",
     "shell.execute_reply": "2025-07-30T20:49:43.856973Z"
    },
    "papermill": {
     "duration": 0.030597,
     "end_time": "2025-07-30T20:49:43.859893",
     "exception": false,
     "start_time": "2025-07-30T20:49:43.829296",
     "status": "completed"
    },
    "tags": []
   },
   "outputs": [],
   "source": [
    "# SPLIT & STRATIFY DATA\n",
    "# ----------------------"
   ]
  },
  {
   "cell_type": "code",
   "execution_count": 36,
   "id": "76c4dc6d",
   "metadata": {
    "execution": {
     "iopub.execute_input": "2025-07-30T20:49:43.923850Z",
     "iopub.status.busy": "2025-07-30T20:49:43.923183Z",
     "iopub.status.idle": "2025-07-30T20:49:43.929089Z",
     "shell.execute_reply": "2025-07-30T20:49:43.927887Z"
    },
    "papermill": {
     "duration": 0.040353,
     "end_time": "2025-07-30T20:49:43.931225",
     "exception": false,
     "start_time": "2025-07-30T20:49:43.890872",
     "status": "completed"
    },
    "tags": []
   },
   "outputs": [],
   "source": [
    "# EXCLUDE CERTAIN SUBGROUPS\n",
    "# ----------------------\n",
    "\n",
    "mode = universe.get(\"exclude_subgroups\", \"keep-all\") \n",
    "# Fetches the exclude_subgroups setting from the universe dict.\n",
    "# Defaults to \"keep-all\" if the key is missing."
   ]
  },
  {
   "cell_type": "code",
   "execution_count": 37,
   "id": "21994072",
   "metadata": {
    "execution": {
     "iopub.execute_input": "2025-07-30T20:49:43.993223Z",
     "iopub.status.busy": "2025-07-30T20:49:43.992554Z",
     "iopub.status.idle": "2025-07-30T20:49:43.999385Z",
     "shell.execute_reply": "2025-07-30T20:49:43.998370Z"
    },
    "papermill": {
     "duration": 0.043905,
     "end_time": "2025-07-30T20:49:44.005095",
     "exception": false,
     "start_time": "2025-07-30T20:49:43.961190",
     "status": "completed"
    },
    "tags": []
   },
   "outputs": [],
   "source": [
    "if mode == \"keep-all\":\n",
    "    keep_mask = pd.Series(True, index=org_train.index)\n",
    "\n",
    "# org_train contains the original feature columns from features_org (in Simson)\n",
    "# features_org contains unprocessed features, for me X_train at beginning ???\n",
    "# For keep-all, creates a boolean Series (keep_mask) of all True, so no rows are removed.\n",
    "\n",
    "elif mode == \"drop-non-german\":\n",
    "    keep_mask = org_train[\"maxdeutsch1\"] == 1 # ??? what about missing values?\n",
    "\n",
    "else:\n",
    "    raise ValueError(f\"Unsupported mode for exclude_subgroups: {mode}\")\n"
   ]
  },
  {
   "cell_type": "code",
   "execution_count": 38,
   "id": "71651440",
   "metadata": {
    "execution": {
     "iopub.execute_input": "2025-07-30T20:49:44.053569Z",
     "iopub.status.busy": "2025-07-30T20:49:44.053212Z",
     "iopub.status.idle": "2025-07-30T20:49:44.058164Z",
     "shell.execute_reply": "2025-07-30T20:49:44.057410Z"
    },
    "papermill": {
     "duration": 0.029092,
     "end_time": "2025-07-30T20:49:44.059520",
     "exception": false,
     "start_time": "2025-07-30T20:49:44.030428",
     "status": "completed"
    },
    "tags": []
   },
   "outputs": [],
   "source": [
    "n_drop = (~keep_mask).sum() # Calculates how many rows are set to be dropped\n",
    "if n_drop > 0:\n",
    "    pct = n_drop / len(keep_mask) * 100\n",
    "    print(f\"Dropping {n_drop} rows ({pct:.2f}%) where mode='{mode}'\")"
   ]
  },
  {
   "cell_type": "code",
   "execution_count": 39,
   "id": "5fb8eee5",
   "metadata": {
    "execution": {
     "iopub.execute_input": "2025-07-30T20:49:44.087680Z",
     "iopub.status.busy": "2025-07-30T20:49:44.087180Z",
     "iopub.status.idle": "2025-07-30T20:49:44.094104Z",
     "shell.execute_reply": "2025-07-30T20:49:44.093346Z"
    },
    "papermill": {
     "duration": 0.022549,
     "end_time": "2025-07-30T20:49:44.095555",
     "exception": false,
     "start_time": "2025-07-30T20:49:44.073006",
     "status": "completed"
    },
    "tags": []
   },
   "outputs": [],
   "source": [
    "X_train = X_train[keep_mask]"
   ]
  },
  {
   "cell_type": "code",
   "execution_count": 40,
   "id": "b202bb3a",
   "metadata": {
    "execution": {
     "iopub.execute_input": "2025-07-30T20:49:44.122638Z",
     "iopub.status.busy": "2025-07-30T20:49:44.122146Z",
     "iopub.status.idle": "2025-07-30T20:49:44.127308Z",
     "shell.execute_reply": "2025-07-30T20:49:44.126562Z"
    },
    "papermill": {
     "duration": 0.020083,
     "end_time": "2025-07-30T20:49:44.128860",
     "exception": false,
     "start_time": "2025-07-30T20:49:44.108777",
     "status": "completed"
    },
    "tags": []
   },
   "outputs": [],
   "source": [
    "y_train = y_train[keep_mask]"
   ]
  },
  {
   "cell_type": "markdown",
   "id": "493e2ac3",
   "metadata": {
    "papermill": {
     "duration": 0.012028,
     "end_time": "2025-07-30T20:49:44.154172",
     "exception": false,
     "start_time": "2025-07-30T20:49:44.142144",
     "status": "completed"
    },
    "tags": []
   },
   "source": [
    "# Model Training"
   ]
  },
  {
   "cell_type": "code",
   "execution_count": 41,
   "id": "679e1268",
   "metadata": {
    "execution": {
     "iopub.execute_input": "2025-07-30T20:49:44.180142Z",
     "iopub.status.busy": "2025-07-30T20:49:44.179628Z",
     "iopub.status.idle": "2025-07-30T20:49:44.261936Z",
     "shell.execute_reply": "2025-07-30T20:49:44.260950Z"
    },
    "papermill": {
     "duration": 0.097637,
     "end_time": "2025-07-30T20:49:44.263804",
     "exception": false,
     "start_time": "2025-07-30T20:49:44.166167",
     "status": "completed"
    },
    "tags": []
   },
   "outputs": [],
   "source": [
    "from sklearn.linear_model import LogisticRegression\n",
    "from sklearn.ensemble import GradientBoostingClassifier, RandomForestClassifier\n",
    "\n",
    "if (universe[\"model\"] == \"logreg\"):\n",
    "    model = LogisticRegression() #penalty=\"none\") #, solver=\"newton-cg\", max_iter=1) # include random_state=19 ?\n",
    "elif (universe[\"model\"] == \"penalized_logreg\"):\n",
    "    model = LogisticRegression(penalty=\"l2\", C=1.0) #, solver=\"newton-cg\", max_iter=1)\n",
    "elif (universe[\"model\"] == \"rf\"):\n",
    "    model = RandomForestClassifier(n_estimators=100, n_jobs=-1)\n",
    "elif (universe[\"model\"] == \"gbm\"):\n",
    "    model = GradientBoostingClassifier()\n",
    "elif (universe[\"model\"] == \"elasticnet\"):\n",
    "    model = LogisticRegression(penalty = 'elasticnet', solver = 'saga', l1_ratio = 0.5, max_iter=5000) # which solver to use?\n",
    "else:\n",
    "    raise \"Unsupported universe.model\""
   ]
  },
  {
   "cell_type": "code",
   "execution_count": 42,
   "id": "0cc8f744",
   "metadata": {
    "execution": {
     "iopub.execute_input": "2025-07-30T20:49:44.311883Z",
     "iopub.status.busy": "2025-07-30T20:49:44.311398Z",
     "iopub.status.idle": "2025-07-30T20:49:44.317887Z",
     "shell.execute_reply": "2025-07-30T20:49:44.316976Z"
    },
    "papermill": {
     "duration": 0.03103,
     "end_time": "2025-07-30T20:49:44.319704",
     "exception": false,
     "start_time": "2025-07-30T20:49:44.288674",
     "status": "completed"
    },
    "tags": []
   },
   "outputs": [],
   "source": [
    "import numpy as np\n",
    "from sklearn.pipeline import Pipeline\n",
    "from sklearn.preprocessing import StandardScaler\n",
    "\n",
    "model = Pipeline([\n",
    "    #(\"continuous_processor\", continuous_processor),\n",
    "    #(\"categorical_preprocessor\", categorical_preprocessor),\n",
    "    (\"scale\", StandardScaler() if universe[\"scale\"] == \"scale\" else None), \n",
    "    (\"model\", model),\n",
    "])"
   ]
  },
  {
   "cell_type": "code",
   "execution_count": 43,
   "id": "9442c04d",
   "metadata": {
    "execution": {
     "iopub.execute_input": "2025-07-30T20:49:44.385613Z",
     "iopub.status.busy": "2025-07-30T20:49:44.385159Z",
     "iopub.status.idle": "2025-07-30T20:49:53.550979Z",
     "shell.execute_reply": "2025-07-30T20:49:53.550111Z"
    },
    "papermill": {
     "duration": 9.207514,
     "end_time": "2025-07-30T20:49:53.552525",
     "exception": false,
     "start_time": "2025-07-30T20:49:44.345011",
     "status": "completed"
    },
    "tags": []
   },
   "outputs": [
    {
     "data": {
      "text/html": [
       "<style>#sk-container-id-1 {color: black;background-color: white;}#sk-container-id-1 pre{padding: 0;}#sk-container-id-1 div.sk-toggleable {background-color: white;}#sk-container-id-1 label.sk-toggleable__label {cursor: pointer;display: block;width: 100%;margin-bottom: 0;padding: 0.3em;box-sizing: border-box;text-align: center;}#sk-container-id-1 label.sk-toggleable__label-arrow:before {content: \"▸\";float: left;margin-right: 0.25em;color: #696969;}#sk-container-id-1 label.sk-toggleable__label-arrow:hover:before {color: black;}#sk-container-id-1 div.sk-estimator:hover label.sk-toggleable__label-arrow:before {color: black;}#sk-container-id-1 div.sk-toggleable__content {max-height: 0;max-width: 0;overflow: hidden;text-align: left;background-color: #f0f8ff;}#sk-container-id-1 div.sk-toggleable__content pre {margin: 0.2em;color: black;border-radius: 0.25em;background-color: #f0f8ff;}#sk-container-id-1 input.sk-toggleable__control:checked~div.sk-toggleable__content {max-height: 200px;max-width: 100%;overflow: auto;}#sk-container-id-1 input.sk-toggleable__control:checked~label.sk-toggleable__label-arrow:before {content: \"▾\";}#sk-container-id-1 div.sk-estimator input.sk-toggleable__control:checked~label.sk-toggleable__label {background-color: #d4ebff;}#sk-container-id-1 div.sk-label input.sk-toggleable__control:checked~label.sk-toggleable__label {background-color: #d4ebff;}#sk-container-id-1 input.sk-hidden--visually {border: 0;clip: rect(1px 1px 1px 1px);clip: rect(1px, 1px, 1px, 1px);height: 1px;margin: -1px;overflow: hidden;padding: 0;position: absolute;width: 1px;}#sk-container-id-1 div.sk-estimator {font-family: monospace;background-color: #f0f8ff;border: 1px dotted black;border-radius: 0.25em;box-sizing: border-box;margin-bottom: 0.5em;}#sk-container-id-1 div.sk-estimator:hover {background-color: #d4ebff;}#sk-container-id-1 div.sk-parallel-item::after {content: \"\";width: 100%;border-bottom: 1px solid gray;flex-grow: 1;}#sk-container-id-1 div.sk-label:hover label.sk-toggleable__label {background-color: #d4ebff;}#sk-container-id-1 div.sk-serial::before {content: \"\";position: absolute;border-left: 1px solid gray;box-sizing: border-box;top: 0;bottom: 0;left: 50%;z-index: 0;}#sk-container-id-1 div.sk-serial {display: flex;flex-direction: column;align-items: center;background-color: white;padding-right: 0.2em;padding-left: 0.2em;position: relative;}#sk-container-id-1 div.sk-item {position: relative;z-index: 1;}#sk-container-id-1 div.sk-parallel {display: flex;align-items: stretch;justify-content: center;background-color: white;position: relative;}#sk-container-id-1 div.sk-item::before, #sk-container-id-1 div.sk-parallel-item::before {content: \"\";position: absolute;border-left: 1px solid gray;box-sizing: border-box;top: 0;bottom: 0;left: 50%;z-index: -1;}#sk-container-id-1 div.sk-parallel-item {display: flex;flex-direction: column;z-index: 1;position: relative;background-color: white;}#sk-container-id-1 div.sk-parallel-item:first-child::after {align-self: flex-end;width: 50%;}#sk-container-id-1 div.sk-parallel-item:last-child::after {align-self: flex-start;width: 50%;}#sk-container-id-1 div.sk-parallel-item:only-child::after {width: 0;}#sk-container-id-1 div.sk-dashed-wrapped {border: 1px dashed gray;margin: 0 0.4em 0.5em 0.4em;box-sizing: border-box;padding-bottom: 0.4em;background-color: white;}#sk-container-id-1 div.sk-label label {font-family: monospace;font-weight: bold;display: inline-block;line-height: 1.2em;}#sk-container-id-1 div.sk-label-container {text-align: center;}#sk-container-id-1 div.sk-container {/* jupyter's `normalize.less` sets `[hidden] { display: none; }` but bootstrap.min.css set `[hidden] { display: none !important; }` so we also need the `!important` here to be able to override the default hidden behavior on the sphinx rendered scikit-learn.org. See: https://github.com/scikit-learn/scikit-learn/issues/21755 */display: inline-block !important;position: relative;}#sk-container-id-1 div.sk-text-repr-fallback {display: none;}</style><div id=\"sk-container-id-1\" class=\"sk-top-container\"><div class=\"sk-text-repr-fallback\"><pre>Pipeline(steps=[(&#x27;scale&#x27;, StandardScaler()),\n",
       "                (&#x27;model&#x27;,\n",
       "                 LogisticRegression(l1_ratio=0.5, max_iter=5000,\n",
       "                                    penalty=&#x27;elasticnet&#x27;, solver=&#x27;saga&#x27;))])</pre><b>In a Jupyter environment, please rerun this cell to show the HTML representation or trust the notebook. <br />On GitHub, the HTML representation is unable to render, please try loading this page with nbviewer.org.</b></div><div class=\"sk-container\" hidden><div class=\"sk-item sk-dashed-wrapped\"><div class=\"sk-label-container\"><div class=\"sk-label sk-toggleable\"><input class=\"sk-toggleable__control sk-hidden--visually\" id=\"sk-estimator-id-1\" type=\"checkbox\" ><label for=\"sk-estimator-id-1\" class=\"sk-toggleable__label sk-toggleable__label-arrow\">Pipeline</label><div class=\"sk-toggleable__content\"><pre>Pipeline(steps=[(&#x27;scale&#x27;, StandardScaler()),\n",
       "                (&#x27;model&#x27;,\n",
       "                 LogisticRegression(l1_ratio=0.5, max_iter=5000,\n",
       "                                    penalty=&#x27;elasticnet&#x27;, solver=&#x27;saga&#x27;))])</pre></div></div></div><div class=\"sk-serial\"><div class=\"sk-item\"><div class=\"sk-estimator sk-toggleable\"><input class=\"sk-toggleable__control sk-hidden--visually\" id=\"sk-estimator-id-2\" type=\"checkbox\" ><label for=\"sk-estimator-id-2\" class=\"sk-toggleable__label sk-toggleable__label-arrow\">StandardScaler</label><div class=\"sk-toggleable__content\"><pre>StandardScaler()</pre></div></div></div><div class=\"sk-item\"><div class=\"sk-estimator sk-toggleable\"><input class=\"sk-toggleable__control sk-hidden--visually\" id=\"sk-estimator-id-3\" type=\"checkbox\" ><label for=\"sk-estimator-id-3\" class=\"sk-toggleable__label sk-toggleable__label-arrow\">LogisticRegression</label><div class=\"sk-toggleable__content\"><pre>LogisticRegression(l1_ratio=0.5, max_iter=5000, penalty=&#x27;elasticnet&#x27;,\n",
       "                   solver=&#x27;saga&#x27;)</pre></div></div></div></div></div></div></div>"
      ],
      "text/plain": [
       "Pipeline(steps=[('scale', StandardScaler()),\n",
       "                ('model',\n",
       "                 LogisticRegression(l1_ratio=0.5, max_iter=5000,\n",
       "                                    penalty='elasticnet', solver='saga'))])"
      ]
     },
     "execution_count": 43,
     "metadata": {},
     "output_type": "execute_result"
    }
   ],
   "source": [
    "model.fit(X_train, y_train.values.ravel())"
   ]
  },
  {
   "cell_type": "code",
   "execution_count": 44,
   "id": "af59f8c0",
   "metadata": {
    "execution": {
     "iopub.execute_input": "2025-07-30T20:49:53.602261Z",
     "iopub.status.busy": "2025-07-30T20:49:53.601740Z",
     "iopub.status.idle": "2025-07-30T20:49:53.607302Z",
     "shell.execute_reply": "2025-07-30T20:49:53.606229Z"
    },
    "papermill": {
     "duration": 0.030773,
     "end_time": "2025-07-30T20:49:53.608863",
     "exception": false,
     "start_time": "2025-07-30T20:49:53.578090",
     "status": "completed"
    },
    "tags": []
   },
   "outputs": [],
   "source": [
    "from fairness_multiverse.universe import predict_w_threshold"
   ]
  },
  {
   "cell_type": "code",
   "execution_count": 45,
   "id": "a7cf2e16",
   "metadata": {
    "execution": {
     "iopub.execute_input": "2025-07-30T20:49:53.656326Z",
     "iopub.status.busy": "2025-07-30T20:49:53.655780Z",
     "iopub.status.idle": "2025-07-30T20:49:53.838588Z",
     "shell.execute_reply": "2025-07-30T20:49:53.837817Z"
    },
    "papermill": {
     "duration": 0.208107,
     "end_time": "2025-07-30T20:49:53.839962",
     "exception": false,
     "start_time": "2025-07-30T20:49:53.631855",
     "status": "completed"
    },
    "tags": []
   },
   "outputs": [
    {
     "data": {
      "text/plain": [
       "0.8580202875933564"
      ]
     },
     "execution_count": 45,
     "metadata": {},
     "output_type": "execute_result"
    }
   ],
   "source": [
    "probs_test = model.predict_proba(X_test)\n",
    "\n",
    "'''\n",
    "Below code returns a boolean array (or binary 0/1 array depending on how it’s used) where each element \n",
    "is True if the probability of class 1 is greater than or equal to the threshold, and False otherwise.\n",
    "'''\n",
    "y_pred_default = predict_w_threshold(probs_test, 0.5)\n",
    "\n",
    "from sklearn.metrics import accuracy_score\n",
    "\n",
    "# Naive prediction\n",
    "accuracy_score(y_true = y_true, y_pred = y_pred_default)"
   ]
  },
  {
   "cell_type": "code",
   "execution_count": 46,
   "id": "081964c3",
   "metadata": {
    "execution": {
     "iopub.execute_input": "2025-07-30T20:49:53.882623Z",
     "iopub.status.busy": "2025-07-30T20:49:53.881803Z",
     "iopub.status.idle": "2025-07-30T20:49:54.069226Z",
     "shell.execute_reply": "2025-07-30T20:49:54.068139Z"
    },
    "papermill": {
     "duration": 0.217596,
     "end_time": "2025-07-30T20:49:54.070543",
     "exception": false,
     "start_time": "2025-07-30T20:49:53.852947",
     "status": "completed"
    },
    "tags": []
   },
   "outputs": [
    {
     "data": {
      "text/plain": [
       "array([0, 0, 0, ..., 0, 0, 0])"
      ]
     },
     "execution_count": 46,
     "metadata": {},
     "output_type": "execute_result"
    }
   ],
   "source": [
    "model.predict(X_test)"
   ]
  },
  {
   "cell_type": "markdown",
   "id": "56c9705b",
   "metadata": {
    "papermill": {
     "duration": 0.031229,
     "end_time": "2025-07-30T20:49:54.131380",
     "exception": false,
     "start_time": "2025-07-30T20:49:54.100151",
     "status": "completed"
    },
    "tags": []
   },
   "source": [
    "# Conformal Prediction"
   ]
  },
  {
   "cell_type": "code",
   "execution_count": 47,
   "id": "160ec6ff",
   "metadata": {
    "execution": {
     "iopub.execute_input": "2025-07-30T20:49:54.160882Z",
     "iopub.status.busy": "2025-07-30T20:49:54.160452Z",
     "iopub.status.idle": "2025-07-30T20:49:54.165873Z",
     "shell.execute_reply": "2025-07-30T20:49:54.164959Z"
    },
    "papermill": {
     "duration": 0.020195,
     "end_time": "2025-07-30T20:49:54.167530",
     "exception": false,
     "start_time": "2025-07-30T20:49:54.147335",
     "status": "completed"
    },
    "tags": []
   },
   "outputs": [],
   "source": [
    "# Miscoverage level for conformal prediction (10% allowed error rate => 90% target coverage)\n",
    "alpha = 0.1"
   ]
  },
  {
   "cell_type": "code",
   "execution_count": 48,
   "id": "eadf4555-3dd3-440e-8e35-f82a4ad9f855",
   "metadata": {
    "execution": {
     "iopub.execute_input": "2025-07-30T20:49:54.209760Z",
     "iopub.status.busy": "2025-07-30T20:49:54.209330Z",
     "iopub.status.idle": "2025-07-30T20:49:54.392642Z",
     "shell.execute_reply": "2025-07-30T20:49:54.391845Z"
    },
    "papermill": {
     "duration": 0.20106,
     "end_time": "2025-07-30T20:49:54.394218",
     "exception": false,
     "start_time": "2025-07-30T20:49:54.193158",
     "status": "completed"
    },
    "tags": []
   },
   "outputs": [],
   "source": [
    "probs_calib = model.predict_proba(X_calib)"
   ]
  },
  {
   "cell_type": "code",
   "execution_count": 49,
   "id": "2ed93547-6d5d-4983-9b36-1ecb300da49a",
   "metadata": {
    "execution": {
     "iopub.execute_input": "2025-07-30T20:49:54.420966Z",
     "iopub.status.busy": "2025-07-30T20:49:54.420167Z",
     "iopub.status.idle": "2025-07-30T20:49:54.424956Z",
     "shell.execute_reply": "2025-07-30T20:49:54.424203Z"
    },
    "papermill": {
     "duration": 0.019029,
     "end_time": "2025-07-30T20:49:54.426352",
     "exception": false,
     "start_time": "2025-07-30T20:49:54.407323",
     "status": "completed"
    },
    "tags": []
   },
   "outputs": [],
   "source": [
    "y_calib = y_calib.values.ravel().astype(int)"
   ]
  },
  {
   "cell_type": "code",
   "execution_count": 50,
   "id": "65d1320d-f588-4b38-9072-62af1ae97f7d",
   "metadata": {
    "execution": {
     "iopub.execute_input": "2025-07-30T20:49:54.452994Z",
     "iopub.status.busy": "2025-07-30T20:49:54.452379Z",
     "iopub.status.idle": "2025-07-30T20:49:54.458271Z",
     "shell.execute_reply": "2025-07-30T20:49:54.457449Z"
    },
    "papermill": {
     "duration": 0.020013,
     "end_time": "2025-07-30T20:49:54.459665",
     "exception": false,
     "start_time": "2025-07-30T20:49:54.439652",
     "status": "completed"
    },
    "tags": []
   },
   "outputs": [],
   "source": [
    "from fairness_multiverse.conformal import compute_nc_scores\n",
    "\n",
    "# Compute nonconformity scores on calibration set (1 - probability of true class)\n",
    "nc_scores = compute_nc_scores(probs_calib, y_calib)"
   ]
  },
  {
   "cell_type": "code",
   "execution_count": 51,
   "id": "df3b8ca3-53b7-43d5-9667-7c85da7aeda2",
   "metadata": {
    "execution": {
     "iopub.execute_input": "2025-07-30T20:49:54.485895Z",
     "iopub.status.busy": "2025-07-30T20:49:54.485673Z",
     "iopub.status.idle": "2025-07-30T20:49:54.491729Z",
     "shell.execute_reply": "2025-07-30T20:49:54.490019Z"
    },
    "papermill": {
     "duration": 0.020973,
     "end_time": "2025-07-30T20:49:54.493934",
     "exception": false,
     "start_time": "2025-07-30T20:49:54.472961",
     "status": "completed"
    },
    "tags": []
   },
   "outputs": [],
   "source": [
    "from fairness_multiverse.conformal import find_threshold\n",
    "\n",
    "# Find conformal threshold q_hat for the given alpha (split conformal method)\n",
    "q_hat = find_threshold(nc_scores, alpha)"
   ]
  },
  {
   "cell_type": "code",
   "execution_count": 52,
   "id": "4d29e6c1-0ef6-4aa4-b8fe-4fe79b0d033a",
   "metadata": {
    "execution": {
     "iopub.execute_input": "2025-07-30T20:49:54.523219Z",
     "iopub.status.busy": "2025-07-30T20:49:54.522814Z",
     "iopub.status.idle": "2025-07-30T20:49:54.528738Z",
     "shell.execute_reply": "2025-07-30T20:49:54.527976Z"
    },
    "papermill": {
     "duration": 0.020974,
     "end_time": "2025-07-30T20:49:54.530139",
     "exception": false,
     "start_time": "2025-07-30T20:49:54.509165",
     "status": "completed"
    },
    "tags": []
   },
   "outputs": [
    {
     "data": {
      "text/plain": [
       "0.6838918157299203"
      ]
     },
     "execution_count": 52,
     "metadata": {},
     "output_type": "execute_result"
    }
   ],
   "source": [
    "q_hat"
   ]
  },
  {
   "cell_type": "code",
   "execution_count": 53,
   "id": "92460794-cdac-4be2-ba28-f28c0515a6fb",
   "metadata": {
    "execution": {
     "iopub.execute_input": "2025-07-30T20:49:54.559047Z",
     "iopub.status.busy": "2025-07-30T20:49:54.558633Z",
     "iopub.status.idle": "2025-07-30T20:49:55.651318Z",
     "shell.execute_reply": "2025-07-30T20:49:55.650352Z"
    },
    "papermill": {
     "duration": 1.109782,
     "end_time": "2025-07-30T20:49:55.653263",
     "exception": false,
     "start_time": "2025-07-30T20:49:54.543481",
     "status": "completed"
    },
    "tags": []
   },
   "outputs": [],
   "source": [
    "from fairness_multiverse.conformal import predict_conformal_sets\n",
    "\n",
    "# Generate prediction sets for each test example\n",
    "pred_sets = predict_conformal_sets(model, X_test, q_hat)"
   ]
  },
  {
   "cell_type": "code",
   "execution_count": 54,
   "id": "d90c9a65-e6db-4f5d-80cd-e68fb7e46829",
   "metadata": {
    "execution": {
     "iopub.execute_input": "2025-07-30T20:49:55.731208Z",
     "iopub.status.busy": "2025-07-30T20:49:55.730469Z",
     "iopub.status.idle": "2025-07-30T20:49:55.735809Z",
     "shell.execute_reply": "2025-07-30T20:49:55.734762Z"
    },
    "papermill": {
     "duration": 0.058148,
     "end_time": "2025-07-30T20:49:55.737742",
     "exception": false,
     "start_time": "2025-07-30T20:49:55.679594",
     "status": "completed"
    },
    "tags": []
   },
   "outputs": [],
   "source": [
    "y_true = y_true.squeeze()"
   ]
  },
  {
   "cell_type": "code",
   "execution_count": 55,
   "id": "3a58a54a-1e68-46b9-927a-df01f18aebc8",
   "metadata": {
    "execution": {
     "iopub.execute_input": "2025-07-30T20:49:55.789962Z",
     "iopub.status.busy": "2025-07-30T20:49:55.789443Z",
     "iopub.status.idle": "2025-07-30T20:49:56.451660Z",
     "shell.execute_reply": "2025-07-30T20:49:56.450926Z"
    },
    "papermill": {
     "duration": 0.689983,
     "end_time": "2025-07-30T20:49:56.453500",
     "exception": false,
     "start_time": "2025-07-30T20:49:55.763517",
     "status": "completed"
    },
    "tags": []
   },
   "outputs": [],
   "source": [
    "from fairness_multiverse.conformal import evaluate_sets\n",
    "\n",
    "# Evaluate coverage and average set size on test data\n",
    "metrics = evaluate_sets(pred_sets, y_true)"
   ]
  },
  {
   "cell_type": "markdown",
   "id": "2b569c12-9aaa-4c88-98c9-bbcd0cf3ebb8",
   "metadata": {
    "papermill": {
     "duration": 0.024101,
     "end_time": "2025-07-30T20:49:56.497877",
     "exception": false,
     "start_time": "2025-07-30T20:49:56.473776",
     "status": "completed"
    },
    "tags": []
   },
   "source": [
    "# CP Metrics"
   ]
  },
  {
   "cell_type": "code",
   "execution_count": 56,
   "id": "5ce0a5cb-201f-45a0-ade5-94c7f0bd6095",
   "metadata": {
    "execution": {
     "iopub.execute_input": "2025-07-30T20:49:56.546496Z",
     "iopub.status.busy": "2025-07-30T20:49:56.546010Z",
     "iopub.status.idle": "2025-07-30T20:49:56.553630Z",
     "shell.execute_reply": "2025-07-30T20:49:56.552676Z"
    },
    "papermill": {
     "duration": 0.034286,
     "end_time": "2025-07-30T20:49:56.555255",
     "exception": false,
     "start_time": "2025-07-30T20:49:56.520969",
     "status": "completed"
    },
    "tags": []
   },
   "outputs": [
    {
     "data": {
      "text/plain": [
       "{'coverage': 0.9103778842938357, 'avg_size': 1.1335859993311783}"
      ]
     },
     "execution_count": 56,
     "metadata": {},
     "output_type": "execute_result"
    }
   ],
   "source": [
    "metrics"
   ]
  },
  {
   "cell_type": "code",
   "execution_count": 57,
   "id": "9b9a838d-31c9-430b-ae14-12baee460d17",
   "metadata": {
    "execution": {
     "iopub.execute_input": "2025-07-30T20:49:56.605093Z",
     "iopub.status.busy": "2025-07-30T20:49:56.604463Z",
     "iopub.status.idle": "2025-07-30T20:49:56.612019Z",
     "shell.execute_reply": "2025-07-30T20:49:56.610878Z"
    },
    "papermill": {
     "duration": 0.033739,
     "end_time": "2025-07-30T20:49:56.613904",
     "exception": false,
     "start_time": "2025-07-30T20:49:56.580165",
     "status": "completed"
    },
    "tags": []
   },
   "outputs": [],
   "source": [
    "example_universe = universe.copy()\n",
    "universe_training_year = example_universe.get(\"training_year\")\n",
    "universe_training_size = example_universe.get(\"training_size\")\n",
    "universe_scale = example_universe.get(\"scale\")\n",
    "universe_model = example_universe.get(\"model\")\n",
    "universe_exclude_features = example_universe.get(\"exclude_features\")\n",
    "universe_exclude_subgroups = example_universe.get(\"exclude_subgroups\")"
   ]
  },
  {
   "cell_type": "code",
   "execution_count": 58,
   "id": "f4b6a8ac-9dc0-4245-8a91-5b3b5999c4f9",
   "metadata": {
    "execution": {
     "iopub.execute_input": "2025-07-30T20:49:56.665851Z",
     "iopub.status.busy": "2025-07-30T20:49:56.665209Z",
     "iopub.status.idle": "2025-07-30T20:49:56.671858Z",
     "shell.execute_reply": "2025-07-30T20:49:56.671000Z"
    },
    "papermill": {
     "duration": 0.03355,
     "end_time": "2025-07-30T20:49:56.673513",
     "exception": false,
     "start_time": "2025-07-30T20:49:56.639963",
     "status": "completed"
    },
    "tags": []
   },
   "outputs": [],
   "source": [
    "cp_metrics_dict = {\n",
    "    \"universe_id\": [universe_id],\n",
    "    \"universe_training_year\": [universe_training_year],\n",
    "    \"universe_training_size\": [universe_training_size],\n",
    "    \"universe_scale\": [universe_scale],\n",
    "    \"universe_model\": [universe_model],\n",
    "    \"universe_exclude_features\": [universe_exclude_features],\n",
    "    \"universe_exclude_subgroups\": [universe_exclude_subgroups],\n",
    "    \"q_hat\": [q_hat],\n",
    "    \"coverage\": [metrics[\"coverage\"]],\n",
    "    \"avg_size\": [metrics[\"avg_size\"]],\n",
    "}"
   ]
  },
  {
   "cell_type": "code",
   "execution_count": 59,
   "id": "908acbb1-0371-4915-85ca-3fa520d2efe2",
   "metadata": {
    "execution": {
     "iopub.execute_input": "2025-07-30T20:49:56.724730Z",
     "iopub.status.busy": "2025-07-30T20:49:56.724262Z",
     "iopub.status.idle": "2025-07-30T20:49:56.731860Z",
     "shell.execute_reply": "2025-07-30T20:49:56.730401Z"
    },
    "papermill": {
     "duration": 0.035008,
     "end_time": "2025-07-30T20:49:56.733727",
     "exception": false,
     "start_time": "2025-07-30T20:49:56.698719",
     "status": "completed"
    },
    "tags": []
   },
   "outputs": [
    {
     "data": {
      "text/plain": [
       "{'universe_id': ['7af29769abafce631663ff39caf9f962'],\n",
       " 'universe_training_year': ['2014'],\n",
       " 'universe_training_size': ['5k'],\n",
       " 'universe_scale': ['scale'],\n",
       " 'universe_model': ['elasticnet'],\n",
       " 'universe_exclude_features': ['nationality-sex'],\n",
       " 'universe_exclude_subgroups': ['keep-all'],\n",
       " 'q_hat': [0.6838918157299203],\n",
       " 'coverage': [0.9103778842938357],\n",
       " 'avg_size': [1.1335859993311783]}"
      ]
     },
     "execution_count": 59,
     "metadata": {},
     "output_type": "execute_result"
    }
   ],
   "source": [
    "cp_metrics_dict"
   ]
  },
  {
   "cell_type": "code",
   "execution_count": 60,
   "id": "33007efc-14e9-4ec6-97ac-56a455c82265",
   "metadata": {
    "execution": {
     "iopub.execute_input": "2025-07-30T20:49:56.790367Z",
     "iopub.status.busy": "2025-07-30T20:49:56.789646Z",
     "iopub.status.idle": "2025-07-30T20:49:56.796553Z",
     "shell.execute_reply": "2025-07-30T20:49:56.795541Z"
    },
    "papermill": {
     "duration": 0.036345,
     "end_time": "2025-07-30T20:49:56.798271",
     "exception": false,
     "start_time": "2025-07-30T20:49:56.761926",
     "status": "completed"
    },
    "tags": []
   },
   "outputs": [],
   "source": [
    "cp_metrics_df = pd.DataFrame(cp_metrics_dict)"
   ]
  },
  {
   "cell_type": "code",
   "execution_count": 61,
   "id": "db12611b-57b2-4910-b9d0-355adfd6e7bf",
   "metadata": {
    "execution": {
     "iopub.execute_input": "2025-07-30T20:49:56.853438Z",
     "iopub.status.busy": "2025-07-30T20:49:56.852768Z",
     "iopub.status.idle": "2025-07-30T20:49:56.871726Z",
     "shell.execute_reply": "2025-07-30T20:49:56.870533Z"
    },
    "papermill": {
     "duration": 0.049042,
     "end_time": "2025-07-30T20:49:56.873605",
     "exception": false,
     "start_time": "2025-07-30T20:49:56.824563",
     "status": "completed"
    },
    "tags": []
   },
   "outputs": [
    {
     "data": {
      "text/html": [
       "<div>\n",
       "<style scoped>\n",
       "    .dataframe tbody tr th:only-of-type {\n",
       "        vertical-align: middle;\n",
       "    }\n",
       "\n",
       "    .dataframe tbody tr th {\n",
       "        vertical-align: top;\n",
       "    }\n",
       "\n",
       "    .dataframe thead th {\n",
       "        text-align: right;\n",
       "    }\n",
       "</style>\n",
       "<table border=\"1\" class=\"dataframe\">\n",
       "  <thead>\n",
       "    <tr style=\"text-align: right;\">\n",
       "      <th></th>\n",
       "      <th>universe_id</th>\n",
       "      <th>universe_training_year</th>\n",
       "      <th>universe_training_size</th>\n",
       "      <th>universe_scale</th>\n",
       "      <th>universe_model</th>\n",
       "      <th>universe_exclude_features</th>\n",
       "      <th>universe_exclude_subgroups</th>\n",
       "      <th>q_hat</th>\n",
       "      <th>coverage</th>\n",
       "      <th>avg_size</th>\n",
       "    </tr>\n",
       "  </thead>\n",
       "  <tbody>\n",
       "    <tr>\n",
       "      <th>0</th>\n",
       "      <td>7af29769abafce631663ff39caf9f962</td>\n",
       "      <td>2014</td>\n",
       "      <td>5k</td>\n",
       "      <td>scale</td>\n",
       "      <td>elasticnet</td>\n",
       "      <td>nationality-sex</td>\n",
       "      <td>keep-all</td>\n",
       "      <td>0.683892</td>\n",
       "      <td>0.910378</td>\n",
       "      <td>1.133586</td>\n",
       "    </tr>\n",
       "  </tbody>\n",
       "</table>\n",
       "</div>"
      ],
      "text/plain": [
       "                        universe_id universe_training_year  \\\n",
       "0  7af29769abafce631663ff39caf9f962                   2014   \n",
       "\n",
       "  universe_training_size universe_scale universe_model  \\\n",
       "0                     5k          scale     elasticnet   \n",
       "\n",
       "  universe_exclude_features universe_exclude_subgroups     q_hat  coverage  \\\n",
       "0           nationality-sex                   keep-all  0.683892  0.910378   \n",
       "\n",
       "   avg_size  \n",
       "0  1.133586  "
      ]
     },
     "execution_count": 61,
     "metadata": {},
     "output_type": "execute_result"
    }
   ],
   "source": [
    "cp_metrics_df"
   ]
  },
  {
   "cell_type": "code",
   "execution_count": 62,
   "id": "b7fbde55-a0a1-47e4-9af6-fe4a17fa8c61",
   "metadata": {
    "execution": {
     "iopub.execute_input": "2025-07-30T20:49:56.927074Z",
     "iopub.status.busy": "2025-07-30T20:49:56.926383Z",
     "iopub.status.idle": "2025-07-30T20:49:56.931753Z",
     "shell.execute_reply": "2025-07-30T20:49:56.930672Z"
    },
    "papermill": {
     "duration": 0.033502,
     "end_time": "2025-07-30T20:49:56.933491",
     "exception": false,
     "start_time": "2025-07-30T20:49:56.899989",
     "status": "completed"
    },
    "tags": []
   },
   "outputs": [],
   "source": [
    "# Conditional Coverage & looking at subgroups"
   ]
  },
  {
   "cell_type": "code",
   "execution_count": 63,
   "id": "027ae886-68dd-4141-96c7-805a5450e1ef",
   "metadata": {
    "execution": {
     "iopub.execute_input": "2025-07-30T20:49:56.991689Z",
     "iopub.status.busy": "2025-07-30T20:49:56.990824Z",
     "iopub.status.idle": "2025-07-30T20:49:57.268878Z",
     "shell.execute_reply": "2025-07-30T20:49:57.267883Z"
    },
    "papermill": {
     "duration": 0.307229,
     "end_time": "2025-07-30T20:49:57.270708",
     "exception": false,
     "start_time": "2025-07-30T20:49:56.963479",
     "status": "completed"
    },
    "tags": []
   },
   "outputs": [],
   "source": [
    "from fairness_multiverse.conformal import build_cp_groups\n",
    "\n",
    "cp_groups_df = build_cp_groups(pred_sets, y_true, X_test.index, org_test)\n",
    "#needs universe_id and setting"
   ]
  },
  {
   "cell_type": "code",
   "execution_count": 64,
   "id": "01d5802c-663a-4d1f-9d69-e036faaffbf7",
   "metadata": {
    "execution": {
     "iopub.execute_input": "2025-07-30T20:49:57.326790Z",
     "iopub.status.busy": "2025-07-30T20:49:57.326331Z",
     "iopub.status.idle": "2025-07-30T20:49:57.331112Z",
     "shell.execute_reply": "2025-07-30T20:49:57.330182Z"
    },
    "papermill": {
     "duration": 0.033686,
     "end_time": "2025-07-30T20:49:57.332960",
     "exception": false,
     "start_time": "2025-07-30T20:49:57.299274",
     "status": "completed"
    },
    "tags": []
   },
   "outputs": [],
   "source": [
    "#delete\n",
    "#cp_groups_df"
   ]
  },
  {
   "cell_type": "code",
   "execution_count": 65,
   "id": "fa424af1-d1eb-443d-b717-2d279ada8408",
   "metadata": {
    "execution": {
     "iopub.execute_input": "2025-07-30T20:49:57.385510Z",
     "iopub.status.busy": "2025-07-30T20:49:57.383773Z",
     "iopub.status.idle": "2025-07-30T20:49:57.389843Z",
     "shell.execute_reply": "2025-07-30T20:49:57.388853Z"
    },
    "papermill": {
     "duration": 0.0331,
     "end_time": "2025-07-30T20:49:57.391588",
     "exception": false,
     "start_time": "2025-07-30T20:49:57.358488",
     "status": "completed"
    },
    "tags": []
   },
   "outputs": [],
   "source": [
    "#delete\n",
    "#percentage = (cp_groups_df['nongerman_female'] == 1).mean() * 100\n",
    "#print(percentage)\n"
   ]
  },
  {
   "cell_type": "code",
   "execution_count": 66,
   "id": "6cbdab96-b2b2-45af-ad54-d0516db2e28d",
   "metadata": {
    "execution": {
     "iopub.execute_input": "2025-07-30T20:49:57.443136Z",
     "iopub.status.busy": "2025-07-30T20:49:57.442697Z",
     "iopub.status.idle": "2025-07-30T20:49:59.114786Z",
     "shell.execute_reply": "2025-07-30T20:49:59.113877Z"
    },
    "papermill": {
     "duration": 1.69867,
     "end_time": "2025-07-30T20:49:59.116706",
     "exception": false,
     "start_time": "2025-07-30T20:49:57.418036",
     "status": "completed"
    },
    "tags": []
   },
   "outputs": [],
   "source": [
    "# Define covered = 1 if true_label is in the predicted set\n",
    "cp_groups_df['covered'] = cp_groups_df.apply(\n",
    "    lambda r: int(r['true_label'] in r['pred_set']),\n",
    "    axis=1\n",
    ")"
   ]
  },
  {
   "cell_type": "code",
   "execution_count": 67,
   "id": "338ff529-1a6b-4b87-a931-8e4788d52aad",
   "metadata": {
    "execution": {
     "iopub.execute_input": "2025-07-30T20:49:59.169164Z",
     "iopub.status.busy": "2025-07-30T20:49:59.168491Z",
     "iopub.status.idle": "2025-07-30T20:49:59.174222Z",
     "shell.execute_reply": "2025-07-30T20:49:59.173228Z"
    },
    "papermill": {
     "duration": 0.033479,
     "end_time": "2025-07-30T20:49:59.175772",
     "exception": false,
     "start_time": "2025-07-30T20:49:59.142293",
     "status": "completed"
    },
    "tags": []
   },
   "outputs": [],
   "source": [
    "#cp_groups_df"
   ]
  },
  {
   "cell_type": "code",
   "execution_count": 68,
   "id": "90032e27-66df-4540-9169-4e89cfbaa758",
   "metadata": {
    "execution": {
     "iopub.execute_input": "2025-07-30T20:49:59.229727Z",
     "iopub.status.busy": "2025-07-30T20:49:59.229266Z",
     "iopub.status.idle": "2025-07-30T20:49:59.241046Z",
     "shell.execute_reply": "2025-07-30T20:49:59.240091Z"
    },
    "papermill": {
     "duration": 0.040977,
     "end_time": "2025-07-30T20:49:59.242794",
     "exception": false,
     "start_time": "2025-07-30T20:49:59.201817",
     "status": "completed"
    },
    "tags": []
   },
   "outputs": [],
   "source": [
    "subgroups = ['frau1','nongerman','nongerman_male','nongerman_female']\n",
    "\n",
    "# Conditional coverage for subgroup==1\n",
    "cond_coverage = {\n",
    "    g: cp_groups_df.loc[cp_groups_df[g]==1, 'covered'].mean()\n",
    "    for g in subgroups\n",
    "}"
   ]
  },
  {
   "cell_type": "code",
   "execution_count": 69,
   "id": "1e348fb1-b9c3-45bc-ba23-f016827a7e0d",
   "metadata": {
    "execution": {
     "iopub.execute_input": "2025-07-30T20:49:59.295929Z",
     "iopub.status.busy": "2025-07-30T20:49:59.295284Z",
     "iopub.status.idle": "2025-07-30T20:49:59.302641Z",
     "shell.execute_reply": "2025-07-30T20:49:59.301763Z"
    },
    "papermill": {
     "duration": 0.035746,
     "end_time": "2025-07-30T20:49:59.304484",
     "exception": false,
     "start_time": "2025-07-30T20:49:59.268738",
     "status": "completed"
    },
    "tags": []
   },
   "outputs": [
    {
     "data": {
      "text/plain": [
       "{'frau1': 0.9094217549534978,\n",
       " 'nongerman': 0.909953404816707,\n",
       " 'nongerman_male': 0.92704674412321,\n",
       " 'nongerman_female': 0.8816691505216095}"
      ]
     },
     "execution_count": 69,
     "metadata": {},
     "output_type": "execute_result"
    }
   ],
   "source": [
    "cond_coverage"
   ]
  },
  {
   "cell_type": "code",
   "execution_count": 70,
   "id": "f5093324-c3dd-4d63-bc4c-8d945e5c8bbb",
   "metadata": {
    "execution": {
     "iopub.execute_input": "2025-07-30T20:49:59.359248Z",
     "iopub.status.busy": "2025-07-30T20:49:59.358587Z",
     "iopub.status.idle": "2025-07-30T20:49:59.366157Z",
     "shell.execute_reply": "2025-07-30T20:49:59.365233Z"
    },
    "papermill": {
     "duration": 0.035902,
     "end_time": "2025-07-30T20:49:59.367817",
     "exception": false,
     "start_time": "2025-07-30T20:49:59.331915",
     "status": "completed"
    },
    "tags": []
   },
   "outputs": [],
   "source": [
    "for subgroup, cov in cond_coverage.items():\n",
    "    cp_metrics_df[f\"cov_{subgroup}\"] = cov"
   ]
  },
  {
   "cell_type": "code",
   "execution_count": 71,
   "id": "6e872e10-dbe5-49e8-b554-5030c98ff75d",
   "metadata": {
    "execution": {
     "iopub.execute_input": "2025-07-30T20:49:59.422979Z",
     "iopub.status.busy": "2025-07-30T20:49:59.422088Z",
     "iopub.status.idle": "2025-07-30T20:49:59.441988Z",
     "shell.execute_reply": "2025-07-30T20:49:59.441026Z"
    },
    "papermill": {
     "duration": 0.048016,
     "end_time": "2025-07-30T20:49:59.443740",
     "exception": false,
     "start_time": "2025-07-30T20:49:59.395724",
     "status": "completed"
    },
    "tags": []
   },
   "outputs": [
    {
     "data": {
      "text/html": [
       "<div>\n",
       "<style scoped>\n",
       "    .dataframe tbody tr th:only-of-type {\n",
       "        vertical-align: middle;\n",
       "    }\n",
       "\n",
       "    .dataframe tbody tr th {\n",
       "        vertical-align: top;\n",
       "    }\n",
       "\n",
       "    .dataframe thead th {\n",
       "        text-align: right;\n",
       "    }\n",
       "</style>\n",
       "<table border=\"1\" class=\"dataframe\">\n",
       "  <thead>\n",
       "    <tr style=\"text-align: right;\">\n",
       "      <th></th>\n",
       "      <th>universe_id</th>\n",
       "      <th>universe_training_year</th>\n",
       "      <th>universe_training_size</th>\n",
       "      <th>universe_scale</th>\n",
       "      <th>universe_model</th>\n",
       "      <th>universe_exclude_features</th>\n",
       "      <th>universe_exclude_subgroups</th>\n",
       "      <th>q_hat</th>\n",
       "      <th>coverage</th>\n",
       "      <th>avg_size</th>\n",
       "      <th>cov_frau1</th>\n",
       "      <th>cov_nongerman</th>\n",
       "      <th>cov_nongerman_male</th>\n",
       "      <th>cov_nongerman_female</th>\n",
       "    </tr>\n",
       "  </thead>\n",
       "  <tbody>\n",
       "    <tr>\n",
       "      <th>0</th>\n",
       "      <td>7af29769abafce631663ff39caf9f962</td>\n",
       "      <td>2014</td>\n",
       "      <td>5k</td>\n",
       "      <td>scale</td>\n",
       "      <td>elasticnet</td>\n",
       "      <td>nationality-sex</td>\n",
       "      <td>keep-all</td>\n",
       "      <td>0.683892</td>\n",
       "      <td>0.910378</td>\n",
       "      <td>1.133586</td>\n",
       "      <td>0.909422</td>\n",
       "      <td>0.909953</td>\n",
       "      <td>0.927047</td>\n",
       "      <td>0.881669</td>\n",
       "    </tr>\n",
       "  </tbody>\n",
       "</table>\n",
       "</div>"
      ],
      "text/plain": [
       "                        universe_id universe_training_year  \\\n",
       "0  7af29769abafce631663ff39caf9f962                   2014   \n",
       "\n",
       "  universe_training_size universe_scale universe_model  \\\n",
       "0                     5k          scale     elasticnet   \n",
       "\n",
       "  universe_exclude_features universe_exclude_subgroups     q_hat  coverage  \\\n",
       "0           nationality-sex                   keep-all  0.683892  0.910378   \n",
       "\n",
       "   avg_size  cov_frau1  cov_nongerman  cov_nongerman_male  \\\n",
       "0  1.133586   0.909422       0.909953            0.927047   \n",
       "\n",
       "   cov_nongerman_female  \n",
       "0              0.881669  "
      ]
     },
     "execution_count": 71,
     "metadata": {},
     "output_type": "execute_result"
    }
   ],
   "source": [
    "cp_metrics_df"
   ]
  },
  {
   "cell_type": "markdown",
   "id": "33774451",
   "metadata": {
    "papermill": {
     "duration": 0.02482,
     "end_time": "2025-07-30T20:49:59.495904",
     "exception": false,
     "start_time": "2025-07-30T20:49:59.471084",
     "status": "completed"
    },
    "tags": []
   },
   "source": [
    "# (Fairness) Metrics"
   ]
  },
  {
   "cell_type": "code",
   "execution_count": 72,
   "id": "debc5d62",
   "metadata": {
    "execution": {
     "iopub.execute_input": "2025-07-30T20:49:59.549639Z",
     "iopub.status.busy": "2025-07-30T20:49:59.549003Z",
     "iopub.status.idle": "2025-07-30T20:49:59.571190Z",
     "shell.execute_reply": "2025-07-30T20:49:59.570359Z"
    },
    "papermill": {
     "duration": 0.050066,
     "end_time": "2025-07-30T20:49:59.573065",
     "exception": false,
     "start_time": "2025-07-30T20:49:59.522999",
     "status": "completed"
    },
    "tags": []
   },
   "outputs": [],
   "source": [
    "# do I need to include maxdeutsch1.missing?\n",
    "\n",
    "import numpy as np\n",
    "\n",
    "colname_to_bin = \"maxdeutsch1\"\n",
    "majority_value = org_train[colname_to_bin].mode()[0]\n",
    "\n",
    "org_test[\"majmin\"] = np.where(org_test[colname_to_bin] == majority_value, \"majority\", \"minority\")"
   ]
  },
  {
   "cell_type": "code",
   "execution_count": 73,
   "id": "06a50de5",
   "metadata": {
    "execution": {
     "iopub.execute_input": "2025-07-30T20:49:59.626624Z",
     "iopub.status.busy": "2025-07-30T20:49:59.625992Z",
     "iopub.status.idle": "2025-07-30T20:50:01.925679Z",
     "shell.execute_reply": "2025-07-30T20:50:01.924657Z"
    },
    "papermill": {
     "duration": 2.328202,
     "end_time": "2025-07-30T20:50:01.927792",
     "exception": false,
     "start_time": "2025-07-30T20:49:59.599590",
     "status": "completed"
    },
    "tags": []
   },
   "outputs": [],
   "source": [
    "example_universe = universe.copy()\n",
    "example_universe[\"cutoff\"] = example_universe[\"cutoff\"][0]\n",
    "example_universe[\"eval_fairness_grouping\"] = example_universe[\"eval_fairness_grouping\"][0]\n",
    "fairness_dict, metric_frame = universe_analysis.compute_metrics(\n",
    "    example_universe,\n",
    "    y_pred_prob=probs_test,\n",
    "    y_test=y_true,\n",
    "    org_test=org_test,\n",
    ")"
   ]
  },
  {
   "cell_type": "markdown",
   "id": "f95d4e02",
   "metadata": {
    "papermill": {
     "duration": 0.03019,
     "end_time": "2025-07-30T20:50:01.993452",
     "exception": false,
     "start_time": "2025-07-30T20:50:01.963262",
     "status": "completed"
    },
    "tags": []
   },
   "source": [
    "# Overall"
   ]
  },
  {
   "cell_type": "markdown",
   "id": "bdee4871",
   "metadata": {
    "papermill": {
     "duration": 0.030163,
     "end_time": "2025-07-30T20:50:02.055963",
     "exception": false,
     "start_time": "2025-07-30T20:50:02.025800",
     "status": "completed"
    },
    "tags": []
   },
   "source": [
    "Fairness\n",
    "Main fairness target: Equalized Odds. Seems to be a better fit than equal opportunity, since we're not only interested in Y = 1. Seems to be a better fit than demographic parity, since we also care about accuracy, not just equal distribution of preds.\n",
    "\n",
    "Pick column for computation of fairness metrics\n",
    "\n",
    "Performance\n",
    "Overall performance measures, most interesting in relation to the measures split by group below"
   ]
  },
  {
   "cell_type": "code",
   "execution_count": 74,
   "id": "c4e067c6",
   "metadata": {
    "execution": {
     "iopub.execute_input": "2025-07-30T20:50:02.117935Z",
     "iopub.status.busy": "2025-07-30T20:50:02.117263Z",
     "iopub.status.idle": "2025-07-30T20:50:02.127456Z",
     "shell.execute_reply": "2025-07-30T20:50:02.126472Z"
    },
    "papermill": {
     "duration": 0.044263,
     "end_time": "2025-07-30T20:50:02.129194",
     "exception": false,
     "start_time": "2025-07-30T20:50:02.084931",
     "status": "completed"
    },
    "tags": []
   },
   "outputs": [
    {
     "data": {
      "text/plain": [
       "accuracy                   0.224312\n",
       "balanced accuracy          0.548486\n",
       "f1                         0.245645\n",
       "precision                  0.140329\n",
       "false positive rate        0.887560\n",
       "false negative rate        0.015468\n",
       "selection rate             0.900000\n",
       "count                  89710.000000\n",
       "dtype: float64"
      ]
     },
     "execution_count": 74,
     "metadata": {},
     "output_type": "execute_result"
    }
   ],
   "source": [
    "metric_frame.overall"
   ]
  },
  {
   "cell_type": "markdown",
   "id": "e968fe9d",
   "metadata": {
    "papermill": {
     "duration": 0.031107,
     "end_time": "2025-07-30T20:50:02.191534",
     "exception": false,
     "start_time": "2025-07-30T20:50:02.160427",
     "status": "completed"
    },
    "tags": []
   },
   "source": [
    "By Group"
   ]
  },
  {
   "cell_type": "code",
   "execution_count": 75,
   "id": "ec325bce",
   "metadata": {
    "execution": {
     "iopub.execute_input": "2025-07-30T20:50:02.254499Z",
     "iopub.status.busy": "2025-07-30T20:50:02.253837Z",
     "iopub.status.idle": "2025-07-30T20:50:02.270132Z",
     "shell.execute_reply": "2025-07-30T20:50:02.269013Z"
    },
    "papermill": {
     "duration": 0.050137,
     "end_time": "2025-07-30T20:50:02.271872",
     "exception": false,
     "start_time": "2025-07-30T20:50:02.221735",
     "status": "completed"
    },
    "tags": []
   },
   "outputs": [
    {
     "data": {
      "text/html": [
       "<div>\n",
       "<style scoped>\n",
       "    .dataframe tbody tr th:only-of-type {\n",
       "        vertical-align: middle;\n",
       "    }\n",
       "\n",
       "    .dataframe tbody tr th {\n",
       "        vertical-align: top;\n",
       "    }\n",
       "\n",
       "    .dataframe thead th {\n",
       "        text-align: right;\n",
       "    }\n",
       "</style>\n",
       "<table border=\"1\" class=\"dataframe\">\n",
       "  <thead>\n",
       "    <tr style=\"text-align: right;\">\n",
       "      <th></th>\n",
       "      <th>accuracy</th>\n",
       "      <th>balanced accuracy</th>\n",
       "      <th>f1</th>\n",
       "      <th>precision</th>\n",
       "      <th>false positive rate</th>\n",
       "      <th>false negative rate</th>\n",
       "      <th>selection rate</th>\n",
       "      <th>count</th>\n",
       "    </tr>\n",
       "    <tr>\n",
       "      <th>majmin</th>\n",
       "      <th></th>\n",
       "      <th></th>\n",
       "      <th></th>\n",
       "      <th></th>\n",
       "      <th></th>\n",
       "      <th></th>\n",
       "      <th></th>\n",
       "      <th></th>\n",
       "    </tr>\n",
       "  </thead>\n",
       "  <tbody>\n",
       "    <tr>\n",
       "      <th>majority</th>\n",
       "      <td>0.241796</td>\n",
       "      <td>0.556545</td>\n",
       "      <td>0.255455</td>\n",
       "      <td>0.146772</td>\n",
       "      <td>0.871264</td>\n",
       "      <td>0.015646</td>\n",
       "      <td>0.886208</td>\n",
       "      <td>69170.0</td>\n",
       "    </tr>\n",
       "    <tr>\n",
       "      <th>minority</th>\n",
       "      <td>0.165433</td>\n",
       "      <td>0.521913</td>\n",
       "      <td>0.213958</td>\n",
       "      <td>0.120010</td>\n",
       "      <td>0.941393</td>\n",
       "      <td>0.014780</td>\n",
       "      <td>0.946446</td>\n",
       "      <td>20540.0</td>\n",
       "    </tr>\n",
       "  </tbody>\n",
       "</table>\n",
       "</div>"
      ],
      "text/plain": [
       "          accuracy  balanced accuracy        f1  precision  \\\n",
       "majmin                                                       \n",
       "majority  0.241796           0.556545  0.255455   0.146772   \n",
       "minority  0.165433           0.521913  0.213958   0.120010   \n",
       "\n",
       "          false positive rate  false negative rate  selection rate    count  \n",
       "majmin                                                                       \n",
       "majority             0.871264             0.015646        0.886208  69170.0  \n",
       "minority             0.941393             0.014780        0.946446  20540.0  "
      ]
     },
     "execution_count": 75,
     "metadata": {},
     "output_type": "execute_result"
    }
   ],
   "source": [
    "metric_frame.by_group"
   ]
  },
  {
   "cell_type": "code",
   "execution_count": 76,
   "id": "a9ddbe63",
   "metadata": {
    "execution": {
     "iopub.execute_input": "2025-07-30T20:50:02.333355Z",
     "iopub.status.busy": "2025-07-30T20:50:02.332775Z",
     "iopub.status.idle": "2025-07-30T20:50:04.615967Z",
     "shell.execute_reply": "2025-07-30T20:50:04.614997Z"
    },
    "papermill": {
     "duration": 2.313781,
     "end_time": "2025-07-30T20:50:04.617860",
     "exception": false,
     "start_time": "2025-07-30T20:50:02.304079",
     "status": "completed"
    },
    "tags": []
   },
   "outputs": [
    {
     "data": {
      "text/plain": [
       "array([[<Axes: title={'center': 'accuracy'}, xlabel='majmin'>,\n",
       "        <Axes: title={'center': 'balanced accuracy'}, xlabel='majmin'>,\n",
       "        <Axes: title={'center': 'f1'}, xlabel='majmin'>],\n",
       "       [<Axes: title={'center': 'precision'}, xlabel='majmin'>,\n",
       "        <Axes: title={'center': 'false positive rate'}, xlabel='majmin'>,\n",
       "        <Axes: title={'center': 'false negative rate'}, xlabel='majmin'>],\n",
       "       [<Axes: title={'center': 'selection rate'}, xlabel='majmin'>,\n",
       "        <Axes: title={'center': 'count'}, xlabel='majmin'>,\n",
       "        <Axes: xlabel='majmin'>]], dtype=object)"
      ]
     },
     "execution_count": 76,
     "metadata": {},
     "output_type": "execute_result"
    },
    {
     "data": {
      "image/png": "[encoded data removed]",
      "text/plain": [
       "<Figure size 1200x800 with 9 Axes>"
      ]
     },
     "metadata": {},
     "output_type": "display_data"
    }
   ],
   "source": [
    "# In a graphic\n",
    "metric_frame.by_group.plot.bar(\n",
    "    subplots=True,\n",
    "    layout=[3, 3],\n",
    "    legend=False,\n",
    "    figsize=[12, 8],\n",
    "    title=\"Show all metrics\",\n",
    ")"
   ]
  },
  {
   "cell_type": "markdown",
   "id": "f57a0bac",
   "metadata": {
    "papermill": {
     "duration": 0.034236,
     "end_time": "2025-07-30T20:50:04.686090",
     "exception": false,
     "start_time": "2025-07-30T20:50:04.651854",
     "status": "completed"
    },
    "tags": []
   },
   "source": [
    "# Final Output"
   ]
  },
  {
   "cell_type": "code",
   "execution_count": 77,
   "id": "96d280a3",
   "metadata": {
    "execution": {
     "iopub.execute_input": "2025-07-30T20:50:04.754411Z",
     "iopub.status.busy": "2025-07-30T20:50:04.753797Z",
     "iopub.status.idle": "2025-07-30T20:50:04.761596Z",
     "shell.execute_reply": "2025-07-30T20:50:04.760592Z"
    },
    "papermill": {
     "duration": 0.038886,
     "end_time": "2025-07-30T20:50:04.763075",
     "exception": false,
     "start_time": "2025-07-30T20:50:04.724189",
     "status": "completed"
    },
    "tags": []
   },
   "outputs": [
    {
     "data": {
      "text/plain": [
       "4"
      ]
     },
     "execution_count": 77,
     "metadata": {},
     "output_type": "execute_result"
    }
   ],
   "source": [
    "sub_universes = universe_analysis.generate_sub_universes()\n",
    "len(sub_universes)"
   ]
  },
  {
   "cell_type": "code",
   "execution_count": 78,
   "id": "92adf7ba",
   "metadata": {
    "execution": {
     "iopub.execute_input": "2025-07-30T20:50:04.819675Z",
     "iopub.status.busy": "2025-07-30T20:50:04.819229Z",
     "iopub.status.idle": "2025-07-30T20:50:04.825028Z",
     "shell.execute_reply": "2025-07-30T20:50:04.824124Z"
    },
    "papermill": {
     "duration": 0.036502,
     "end_time": "2025-07-30T20:50:04.826515",
     "exception": false,
     "start_time": "2025-07-30T20:50:04.790013",
     "status": "completed"
    },
    "tags": []
   },
   "outputs": [],
   "source": [
    "def filter_sub_universe_data(sub_universe, org_test):\n",
    "    # Keep all rows — no filtering\n",
    "    keep_rows_mask = np.ones(org_test.shape[0], dtype=bool)\n",
    "\n",
    "    print(f\"[INFO] Keeping all rows: {keep_rows_mask.sum()} rows retained.\")\n",
    "    return keep_rows_mask"
   ]
  },
  {
   "cell_type": "code",
   "execution_count": 79,
   "id": "4a759155",
   "metadata": {
    "execution": {
     "iopub.execute_input": "2025-07-30T20:50:04.886004Z",
     "iopub.status.busy": "2025-07-30T20:50:04.885622Z",
     "iopub.status.idle": "2025-07-30T20:50:14.276246Z",
     "shell.execute_reply": "2025-07-30T20:50:14.275136Z"
    },
    "papermill": {
     "duration": 9.422087,
     "end_time": "2025-07-30T20:50:14.277475",
     "exception": false,
     "start_time": "2025-07-30T20:50:04.855388",
     "status": "completed"
    },
    "tags": []
   },
   "outputs": [
    {
     "name": "stdout",
     "output_type": "stream",
     "text": [
      "Stopping execution_time clock.\n",
      "[INFO] Keeping all rows: 89710 rows retained.\n"
     ]
    },
    {
     "name": "stdout",
     "output_type": "stream",
     "text": [
      "[INFO] Keeping all rows: 89710 rows retained.\n"
     ]
    },
    {
     "name": "stdout",
     "output_type": "stream",
     "text": [
      "[INFO] Keeping all rows: 89710 rows retained.\n"
     ]
    },
    {
     "name": "stdout",
     "output_type": "stream",
     "text": [
      "[INFO] Keeping all rows: 89710 rows retained.\n"
     ]
    },
    {
     "data": {
      "text/html": [
       "<div>\n",
       "<style scoped>\n",
       "    .dataframe tbody tr th:only-of-type {\n",
       "        vertical-align: middle;\n",
       "    }\n",
       "\n",
       "    .dataframe tbody tr th {\n",
       "        vertical-align: top;\n",
       "    }\n",
       "\n",
       "    .dataframe thead th {\n",
       "        text-align: right;\n",
       "    }\n",
       "</style>\n",
       "<table border=\"1\" class=\"dataframe\">\n",
       "  <thead>\n",
       "    <tr style=\"text-align: right;\">\n",
       "      <th></th>\n",
       "      <th>run_no</th>\n",
       "      <th>universe_id</th>\n",
       "      <th>universe_settings</th>\n",
       "      <th>execution_time</th>\n",
       "      <th>test_size_n</th>\n",
       "      <th>test_size_frac</th>\n",
       "      <th>fair_main_equalized_odds_difference</th>\n",
       "      <th>fair_main_equalized_odds_ratio</th>\n",
       "      <th>fair_main_demographic_parity_difference</th>\n",
       "      <th>fair_main_demographic_parity_ratio</th>\n",
       "      <th>...</th>\n",
       "      <th>perf_grp_precision_0</th>\n",
       "      <th>perf_grp_precision_1</th>\n",
       "      <th>perf_grp_false positive rate_0</th>\n",
       "      <th>perf_grp_false positive rate_1</th>\n",
       "      <th>perf_grp_false negative rate_0</th>\n",
       "      <th>perf_grp_false negative rate_1</th>\n",
       "      <th>perf_grp_selection rate_0</th>\n",
       "      <th>perf_grp_selection rate_1</th>\n",
       "      <th>perf_grp_count_0</th>\n",
       "      <th>perf_grp_count_1</th>\n",
       "    </tr>\n",
       "  </thead>\n",
       "  <tbody>\n",
       "    <tr>\n",
       "      <th>0</th>\n",
       "      <td>14</td>\n",
       "      <td>7af29769abafce631663ff39caf9f962</td>\n",
       "      <td>{\"cutoff\": \"quantile_0.1\", \"eval_fairness_grou...</td>\n",
       "      <td>32.401997</td>\n",
       "      <td>89710</td>\n",
       "      <td>1.0</td>\n",
       "      <td>0.070129</td>\n",
       "      <td>0.925505</td>\n",
       "      <td>0.060238</td>\n",
       "      <td>0.936353</td>\n",
       "      <td>...</td>\n",
       "      <td>NaN</td>\n",
       "      <td>NaN</td>\n",
       "      <td>NaN</td>\n",
       "      <td>NaN</td>\n",
       "      <td>NaN</td>\n",
       "      <td>NaN</td>\n",
       "      <td>NaN</td>\n",
       "      <td>NaN</td>\n",
       "      <td>NaN</td>\n",
       "      <td>NaN</td>\n",
       "    </tr>\n",
       "    <tr>\n",
       "      <th>0</th>\n",
       "      <td>14</td>\n",
       "      <td>7af29769abafce631663ff39caf9f962</td>\n",
       "      <td>{\"cutoff\": \"quantile_0.1\", \"eval_fairness_grou...</td>\n",
       "      <td>32.401997</td>\n",
       "      <td>89710</td>\n",
       "      <td>1.0</td>\n",
       "      <td>0.070129</td>\n",
       "      <td>0.925505</td>\n",
       "      <td>0.060238</td>\n",
       "      <td>0.936353</td>\n",
       "      <td>...</td>\n",
       "      <td>0.120010</td>\n",
       "      <td>0.146772</td>\n",
       "      <td>0.941393</td>\n",
       "      <td>0.871264</td>\n",
       "      <td>0.014780</td>\n",
       "      <td>0.015646</td>\n",
       "      <td>0.946446</td>\n",
       "      <td>0.886208</td>\n",
       "      <td>20540.0</td>\n",
       "      <td>69170.0</td>\n",
       "    </tr>\n",
       "    <tr>\n",
       "      <th>0</th>\n",
       "      <td>14</td>\n",
       "      <td>7af29769abafce631663ff39caf9f962</td>\n",
       "      <td>{\"cutoff\": \"quantile_0.25\", \"eval_fairness_gro...</td>\n",
       "      <td>32.401997</td>\n",
       "      <td>89710</td>\n",
       "      <td>1.0</td>\n",
       "      <td>0.143991</td>\n",
       "      <td>0.827127</td>\n",
       "      <td>0.124272</td>\n",
       "      <td>0.853074</td>\n",
       "      <td>...</td>\n",
       "      <td>NaN</td>\n",
       "      <td>NaN</td>\n",
       "      <td>NaN</td>\n",
       "      <td>NaN</td>\n",
       "      <td>NaN</td>\n",
       "      <td>NaN</td>\n",
       "      <td>NaN</td>\n",
       "      <td>NaN</td>\n",
       "      <td>NaN</td>\n",
       "      <td>NaN</td>\n",
       "    </tr>\n",
       "    <tr>\n",
       "      <th>0</th>\n",
       "      <td>14</td>\n",
       "      <td>7af29769abafce631663ff39caf9f962</td>\n",
       "      <td>{\"cutoff\": \"quantile_0.25\", \"eval_fairness_gro...</td>\n",
       "      <td>32.401997</td>\n",
       "      <td>89710</td>\n",
       "      <td>1.0</td>\n",
       "      <td>0.143991</td>\n",
       "      <td>0.827127</td>\n",
       "      <td>0.124272</td>\n",
       "      <td>0.853074</td>\n",
       "      <td>...</td>\n",
       "      <td>0.128763</td>\n",
       "      <td>0.171352</td>\n",
       "      <td>0.832930</td>\n",
       "      <td>0.688939</td>\n",
       "      <td>0.055321</td>\n",
       "      <td>0.064333</td>\n",
       "      <td>0.845813</td>\n",
       "      <td>0.721541</td>\n",
       "      <td>20540.0</td>\n",
       "      <td>69170.0</td>\n",
       "    </tr>\n",
       "  </tbody>\n",
       "</table>\n",
       "<p>4 rows × 50 columns</p>\n",
       "</div>"
      ],
      "text/plain": [
       "  run_no                       universe_id  \\\n",
       "0     14  7af29769abafce631663ff39caf9f962   \n",
       "0     14  7af29769abafce631663ff39caf9f962   \n",
       "0     14  7af29769abafce631663ff39caf9f962   \n",
       "0     14  7af29769abafce631663ff39caf9f962   \n",
       "\n",
       "                                   universe_settings  execution_time  \\\n",
       "0  {\"cutoff\": \"quantile_0.1\", \"eval_fairness_grou...       32.401997   \n",
       "0  {\"cutoff\": \"quantile_0.1\", \"eval_fairness_grou...       32.401997   \n",
       "0  {\"cutoff\": \"quantile_0.25\", \"eval_fairness_gro...       32.401997   \n",
       "0  {\"cutoff\": \"quantile_0.25\", \"eval_fairness_gro...       32.401997   \n",
       "\n",
       "   test_size_n  test_size_frac  fair_main_equalized_odds_difference  \\\n",
       "0        89710             1.0                             0.070129   \n",
       "0        89710             1.0                             0.070129   \n",
       "0        89710             1.0                             0.143991   \n",
       "0        89710             1.0                             0.143991   \n",
       "\n",
       "   fair_main_equalized_odds_ratio  fair_main_demographic_parity_difference  \\\n",
       "0                        0.925505                                 0.060238   \n",
       "0                        0.925505                                 0.060238   \n",
       "0                        0.827127                                 0.124272   \n",
       "0                        0.827127                                 0.124272   \n",
       "\n",
       "   fair_main_demographic_parity_ratio  ...  perf_grp_precision_0  \\\n",
       "0                            0.936353  ...                   NaN   \n",
       "0                            0.936353  ...              0.120010   \n",
       "0                            0.853074  ...                   NaN   \n",
       "0                            0.853074  ...              0.128763   \n",
       "\n",
       "   perf_grp_precision_1  perf_grp_false positive rate_0  \\\n",
       "0                   NaN                             NaN   \n",
       "0              0.146772                        0.941393   \n",
       "0                   NaN                             NaN   \n",
       "0              0.171352                        0.832930   \n",
       "\n",
       "   perf_grp_false positive rate_1  perf_grp_false negative rate_0  \\\n",
       "0                             NaN                             NaN   \n",
       "0                        0.871264                        0.014780   \n",
       "0                             NaN                             NaN   \n",
       "0                        0.688939                        0.055321   \n",
       "\n",
       "   perf_grp_false negative rate_1  perf_grp_selection rate_0  \\\n",
       "0                             NaN                        NaN   \n",
       "0                        0.015646                   0.946446   \n",
       "0                             NaN                        NaN   \n",
       "0                        0.064333                   0.845813   \n",
       "\n",
       "   perf_grp_selection rate_1  perf_grp_count_0  perf_grp_count_1  \n",
       "0                        NaN               NaN               NaN  \n",
       "0                   0.886208           20540.0           69170.0  \n",
       "0                        NaN               NaN               NaN  \n",
       "0                   0.721541           20540.0           69170.0  \n",
       "\n",
       "[4 rows x 50 columns]"
      ]
     },
     "execution_count": 79,
     "metadata": {},
     "output_type": "execute_result"
    }
   ],
   "source": [
    "final_output = universe_analysis.generate_final_output(\n",
    "    y_pred_prob=probs_test,\n",
    "    y_test=y_true,\n",
    "    org_test=org_test,\n",
    "    filter_data=filter_sub_universe_data,\n",
    "    cp_metrics_df=cp_metrics_df,\n",
    "    save=True,\n",
    ")\n",
    "final_output"
   ]
  },
  {
   "cell_type": "code",
   "execution_count": null,
   "id": "721ff514-cb11-46f8-b6fc-50392f74b5cb",
   "metadata": {
    "papermill": {
     "duration": 0.019506,
     "end_time": "2025-07-30T20:50:14.317669",
     "exception": false,
     "start_time": "2025-07-30T20:50:14.298163",
     "status": "completed"
    },
    "tags": []
   },
   "outputs": [],
   "source": []
  }
 ],
 "metadata": {
  "celltoolbar": "Tags",
  "kernelspec": {
   "display_name": "Python (CMA Fairness)",
   "language": "python",
   "name": "cma_fair_env"
  },
  "language_info": {
   "codemirror_mode": {
    "name": "ipython",
    "version": 3
   },
   "file_extension": ".py",
   "mimetype": "text/x-python",
   "name": "python",
   "nbconvert_exporter": "python",
   "pygments_lexer": "ipython3",
   "version": "3.10.12"
  },
  "papermill": {
   "default_parameters": {},
   "duration": 45.977537,
   "end_time": "2025-07-30T20:50:15.170663",
   "environment_variables": {},
   "exception": null,
   "input_path": "universe_analysis.ipynb",
   "output_path": "output/runs/14/notebooks/m_14-7af29769abafce631663ff39caf9f962.ipynb",
   "parameters": {
    "output_dir": "output",
    "run_no": "14",
    "seed": "2023",
    "universe": "{\"cutoff\": [\"quantile_0.1\", \"quantile_0.25\"], \"eval_fairness_grouping\": [\"majority-minority\", \"nationality-all\"], \"exclude_features\": \"nationality-sex\", \"exclude_subgroups\": \"keep-all\", \"model\": \"elasticnet\", \"scale\": \"scale\", \"training_size\": \"5k\", \"training_year\": \"2014\"}",
    "universe_id": "7af29769abafce631663ff39caf9f962"
   },
   "start_time": "2025-07-30T20:49:29.193126",
   "version": "2.6.0"
  }
 },
 "nbformat": 4,
 "nbformat_minor": 5
}