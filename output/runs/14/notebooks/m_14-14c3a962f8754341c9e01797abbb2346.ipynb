{
 "cells": [
  {
   "cell_type": "code",
   "execution_count": 1,
   "id": "f159f837-637b-42ba-96b5-ec9a68c44524",
   "metadata": {
    "execution": {
     "iopub.execute_input": "2025-07-30T21:28:48.969363Z",
     "iopub.status.busy": "2025-07-30T21:28:48.968794Z",
     "iopub.status.idle": "2025-07-30T21:28:48.978841Z",
     "shell.execute_reply": "2025-07-30T21:28:48.977863Z"
    },
    "papermill": {
     "duration": 0.022668,
     "end_time": "2025-07-30T21:28:48.980013",
     "exception": false,
     "start_time": "2025-07-30T21:28:48.957345",
     "status": "completed"
    },
    "tags": []
   },
   "outputs": [
    {
     "name": "stdout",
     "output_type": "stream",
     "text": [
      "/dss/dsshome1/0C/ra93lal2/cma/CMA_Fairness_v2\n"
     ]
    },
    {
     "name": "stderr",
     "output_type": "stream",
     "text": [
      "/dss/dsshome1/0C/ra93lal2/.local/share/virtualenvs/CMA_Fairness_v2-3j10GkSs/lib/python3.10/site-packages/IPython/core/magics/osm.py:393: UserWarning: This is now an optional IPython functionality, using bookmarks requires you to install the `pickleshare` library.\n",
      "  bkms = self.shell.db.get('bookmarks', {})\n",
      "/dss/dsshome1/0C/ra93lal2/.local/share/virtualenvs/CMA_Fairness_v2-3j10GkSs/lib/python3.10/site-packages/IPython/core/magics/osm.py:417: UserWarning: This is now an optional IPython functionality, setting dhist requires you to install the `pickleshare` library.\n",
      "  self.shell.db['dhist'] = compress_dhist(dhist)[-100:]\n"
     ]
    }
   ],
   "source": [
    "%cd ~/cma/CMA_Fairness_v2"
   ]
  },
  {
   "cell_type": "markdown",
   "id": "de2603b9",
   "metadata": {
    "papermill": {
     "duration": 0.010066,
     "end_time": "2025-07-30T21:28:49.000593",
     "exception": false,
     "start_time": "2025-07-30T21:28:48.990527",
     "status": "completed"
    },
    "tags": []
   },
   "source": [
    "The following cell holds the definition of our parameters, these values can be overriden by rendering the with e.g. the following command:\n",
    "\n",
    "papermill -p alpha 0.2 -p ratio 0.3 universe_analysis.ipynb output/test_run.ipynb"
   ]
  },
  {
   "cell_type": "code",
   "execution_count": 2,
   "id": "a80968a0-40bb-4fa9-85ef-2d5eefb01975",
   "metadata": {
    "execution": {
     "iopub.execute_input": "2025-07-30T21:28:49.021760Z",
     "iopub.status.busy": "2025-07-30T21:28:49.021289Z",
     "iopub.status.idle": "2025-07-30T21:28:49.026746Z",
     "shell.execute_reply": "2025-07-30T21:28:49.025801Z"
    },
    "papermill": {
     "duration": 0.017974,
     "end_time": "2025-07-30T21:28:49.028458",
     "exception": false,
     "start_time": "2025-07-30T21:28:49.010484",
     "status": "completed"
    },
    "tags": []
   },
   "outputs": [
    {
     "name": "stdout",
     "output_type": "stream",
     "text": [
      "Current working directory: /dss/dsshome1/0C/ra93lal2/cma/CMA_Fairness_v2\n"
     ]
    }
   ],
   "source": [
    "import os\n",
    "print(\"Current working directory:\", os.getcwd())"
   ]
  },
  {
   "cell_type": "code",
   "execution_count": 3,
   "id": "2dce4c03",
   "metadata": {
    "execution": {
     "iopub.execute_input": "2025-07-30T21:28:49.070438Z",
     "iopub.status.busy": "2025-07-30T21:28:49.069692Z",
     "iopub.status.idle": "2025-07-30T21:28:49.076727Z",
     "shell.execute_reply": "2025-07-30T21:28:49.075807Z"
    },
    "papermill": {
     "duration": 0.029015,
     "end_time": "2025-07-30T21:28:49.078342",
     "exception": false,
     "start_time": "2025-07-30T21:28:49.049327",
     "status": "completed"
    },
    "tags": [
     "parameters"
    ]
   },
   "outputs": [],
   "source": [
    "run_no = 0\n",
    "universe_id = \"test\"\n",
    "universe = {\n",
    "    \"training_size\": \"25k\", # \"25k\", \"5k\", \"1k\"\n",
    "    \"training_year\": \"2014\", # \"2014\", \"2012_14\", \"2010_14\"\n",
    "    \"scale\": \"scale\", # \"scale\", \"do-not-scale\",\n",
    "    #\"stratify_split\": \"target\", # \"none\", \"target\", \"protected-attribute\", \"both\",\n",
    "    \"model\": \"elasticnet\", # \"logreg\", \"penalized_logreg\", \"rf\", \"gbm\", \"elasticnet\"\n",
    "    \"cutoff\": [\"quantile_0.15\", \"quantile_0.30\"],\n",
    "    \"exclude_features\": \"age\", # \"none\", \"nationality\", \"sex\", \"nationality-sex\", \"age\"\n",
    "    \"exclude_subgroups\": \"keep-all\", # \"keep-all\", \"drop-non-german\"\n",
    "    \"eval_fairness_grouping\": [\"majority-minority\", \"nationality-all\"]\n",
    "}\n",
    "\n",
    "output_dir=\"./output\"\n",
    "seed=0"
   ]
  },
  {
   "cell_type": "code",
   "execution_count": 4,
   "id": "8e772a24",
   "metadata": {
    "execution": {
     "iopub.execute_input": "2025-07-30T21:28:49.121031Z",
     "iopub.status.busy": "2025-07-30T21:28:49.120538Z",
     "iopub.status.idle": "2025-07-30T21:28:49.125886Z",
     "shell.execute_reply": "2025-07-30T21:28:49.125042Z"
    },
    "papermill": {
     "duration": 0.028671,
     "end_time": "2025-07-30T21:28:49.127341",
     "exception": false,
     "start_time": "2025-07-30T21:28:49.098670",
     "status": "completed"
    },
    "tags": [
     "injected-parameters"
    ]
   },
   "outputs": [],
   "source": [
    "# Parameters\n",
    "universe_id = \"14c3a962f8754341c9e01797abbb2346\"\n",
    "run_no = \"14\"\n",
    "universe = \"{\\\"cutoff\\\": [\\\"quantile_0.1\\\", \\\"quantile_0.25\\\"], \\\"eval_fairness_grouping\\\": [\\\"majority-minority\\\", \\\"nationality-all\\\"], \\\"exclude_features\\\": \\\"sex\\\", \\\"exclude_subgroups\\\": \\\"drop-non-german\\\", \\\"model\\\": \\\"penalized_logreg\\\", \\\"scale\\\": \\\"do-not-scale\\\", \\\"training_size\\\": \\\"1k\\\", \\\"training_year\\\": \\\"2014\\\"}\"\n",
    "output_dir = \"output\"\n",
    "seed = \"2023\"\n"
   ]
  },
  {
   "cell_type": "code",
   "execution_count": 5,
   "id": "1650acaf",
   "metadata": {
    "execution": {
     "iopub.execute_input": "2025-07-30T21:28:49.165909Z",
     "iopub.status.busy": "2025-07-30T21:28:49.165229Z",
     "iopub.status.idle": "2025-07-30T21:28:49.170203Z",
     "shell.execute_reply": "2025-07-30T21:28:49.169305Z"
    },
    "papermill": {
     "duration": 0.025745,
     "end_time": "2025-07-30T21:28:49.171672",
     "exception": false,
     "start_time": "2025-07-30T21:28:49.145927",
     "status": "completed"
    },
    "tags": []
   },
   "outputs": [],
   "source": [
    "import json\n",
    "# Parse universe into dict if it is passed as a string\n",
    "if isinstance(universe, str):\n",
    "    universe = json.loads(universe)"
   ]
  },
  {
   "cell_type": "code",
   "execution_count": 6,
   "id": "16620c48",
   "metadata": {
    "execution": {
     "iopub.execute_input": "2025-07-30T21:28:49.209699Z",
     "iopub.status.busy": "2025-07-30T21:28:49.209261Z",
     "iopub.status.idle": "2025-07-30T21:28:49.254217Z",
     "shell.execute_reply": "2025-07-30T21:28:49.253413Z"
    },
    "papermill": {
     "duration": 0.065624,
     "end_time": "2025-07-30T21:28:49.255834",
     "exception": false,
     "start_time": "2025-07-30T21:28:49.190210",
     "status": "completed"
    },
    "tags": []
   },
   "outputs": [],
   "source": [
    "# Auto-reload the custom package\n",
    "%load_ext autoreload\n",
    "%autoreload 1\n",
    "%aimport fairness_multiverse"
   ]
  },
  {
   "cell_type": "code",
   "execution_count": 7,
   "id": "01c5c9f3",
   "metadata": {
    "execution": {
     "iopub.execute_input": "2025-07-30T21:28:49.295938Z",
     "iopub.status.busy": "2025-07-30T21:28:49.295610Z",
     "iopub.status.idle": "2025-07-30T21:28:50.914302Z",
     "shell.execute_reply": "2025-07-30T21:28:50.913536Z"
    },
    "papermill": {
     "duration": 1.640571,
     "end_time": "2025-07-30T21:28:50.915972",
     "exception": false,
     "start_time": "2025-07-30T21:28:49.275401",
     "status": "completed"
    },
    "tags": []
   },
   "outputs": [],
   "source": [
    "from fairness_multiverse.universe import UniverseAnalysis\n",
    "\n",
    "universe_analysis = UniverseAnalysis(\n",
    "    run_no = run_no,\n",
    "    universe_id = universe_id,\n",
    "    universe = universe,\n",
    "    output_dir=output_dir,\n",
    ")"
   ]
  },
  {
   "cell_type": "code",
   "execution_count": 8,
   "id": "106241f5",
   "metadata": {
    "execution": {
     "iopub.execute_input": "2025-07-30T21:28:50.957308Z",
     "iopub.status.busy": "2025-07-30T21:28:50.956433Z",
     "iopub.status.idle": "2025-07-30T21:28:50.963391Z",
     "shell.execute_reply": "2025-07-30T21:28:50.962426Z"
    },
    "papermill": {
     "duration": 0.028748,
     "end_time": "2025-07-30T21:28:50.965023",
     "exception": false,
     "start_time": "2025-07-30T21:28:50.936275",
     "status": "completed"
    },
    "tags": []
   },
   "outputs": [
    {
     "name": "stdout",
     "output_type": "stream",
     "text": [
      "Using Seed: 2023\n"
     ]
    }
   ],
   "source": [
    "import numpy as np\n",
    "parsed_seed = int(seed)\n",
    "np.random.seed(parsed_seed)\n",
    "print(f\"Using Seed: {parsed_seed}\")"
   ]
  },
  {
   "cell_type": "markdown",
   "id": "e0ebdc57",
   "metadata": {
    "papermill": {
     "duration": 0.019725,
     "end_time": "2025-07-30T21:28:51.004110",
     "exception": false,
     "start_time": "2025-07-30T21:28:50.984385",
     "status": "completed"
    },
    "tags": []
   },
   "source": [
    "# Loading Data"
   ]
  },
  {
   "cell_type": "markdown",
   "id": "681925a3",
   "metadata": {
    "papermill": {
     "duration": 0.019047,
     "end_time": "2025-07-30T21:28:51.041685",
     "exception": false,
     "start_time": "2025-07-30T21:28:51.022638",
     "status": "completed"
    },
    "tags": []
   },
   "source": [
    "Load siab_train, siab_test, siab_calib and/or \n",
    "load siab_train_features, siab_train_labels"
   ]
  },
  {
   "cell_type": "code",
   "execution_count": 9,
   "id": "f0496b8a",
   "metadata": {
    "execution": {
     "iopub.execute_input": "2025-07-30T21:28:51.080220Z",
     "iopub.status.busy": "2025-07-30T21:28:51.079722Z",
     "iopub.status.idle": "2025-07-30T21:29:02.832647Z",
     "shell.execute_reply": "2025-07-30T21:29:02.831284Z"
    },
    "papermill": {
     "duration": 11.774641,
     "end_time": "2025-07-30T21:29:02.834865",
     "exception": false,
     "start_time": "2025-07-30T21:28:51.060224",
     "status": "completed"
    },
    "tags": []
   },
   "outputs": [
    {
     "name": "stdout",
     "output_type": "stream",
     "text": [
      "Loading SIAB data from cache: data/siab_cached.csv.gz\n"
     ]
    },
    {
     "name": "stdout",
     "output_type": "stream",
     "text": [
      "(643690, 164)\n"
     ]
    }
   ],
   "source": [
    "from pathlib import Path\n",
    "import pandas as pd\n",
    "\n",
    "# File paths\n",
    "raw_file = Path(\"data/raw/siab.csv\")\n",
    "cache_file = Path(\"data/siab_cached.csv.gz\")\n",
    "\n",
    "# Ensure cache directory exists\n",
    "cache_file.parent.mkdir(parents=True, exist_ok=True)\n",
    "\n",
    "# Load with simple caching\n",
    "if cache_file.exists():\n",
    "    print(f\"Loading SIAB data from cache: {cache_file}\")\n",
    "    siab = pd.read_csv(cache_file, compression='gzip')\n",
    "else:\n",
    "    print(f\"Cache not found. Reading raw SIAB data: {raw_file}\")\n",
    "    siab = pd.read_csv(raw_file)\n",
    "    siab.to_csv(cache_file, index=False, compression='gzip')\n",
    "    print(f\"Cached SIAB data to: {cache_file}\")\n",
    "\n",
    "# Now use `siab` DataFrame as needed\n",
    "print(siab.shape)"
   ]
  },
  {
   "cell_type": "code",
   "execution_count": 10,
   "id": "db0ca512-5f53-4dba-abdb-a2888bca41ba",
   "metadata": {
    "execution": {
     "iopub.execute_input": "2025-07-30T21:29:02.902422Z",
     "iopub.status.busy": "2025-07-30T21:29:02.901826Z",
     "iopub.status.idle": "2025-07-30T21:29:02.908576Z",
     "shell.execute_reply": "2025-07-30T21:29:02.907373Z"
    },
    "papermill": {
     "duration": 0.041146,
     "end_time": "2025-07-30T21:29:02.910513",
     "exception": false,
     "start_time": "2025-07-30T21:29:02.869367",
     "status": "completed"
    },
    "tags": []
   },
   "outputs": [],
   "source": [
    "#siab"
   ]
  },
  {
   "cell_type": "code",
   "execution_count": 11,
   "id": "a0edb063",
   "metadata": {
    "execution": {
     "iopub.execute_input": "2025-07-30T21:29:02.957953Z",
     "iopub.status.busy": "2025-07-30T21:29:02.956402Z",
     "iopub.status.idle": "2025-07-30T21:29:02.963509Z",
     "shell.execute_reply": "2025-07-30T21:29:02.962487Z"
    },
    "papermill": {
     "duration": 0.032736,
     "end_time": "2025-07-30T21:29:02.965337",
     "exception": false,
     "start_time": "2025-07-30T21:29:02.932601",
     "status": "completed"
    },
    "tags": []
   },
   "outputs": [],
   "source": [
    "#import pandas as pd\n",
    "#\n",
    "#X_train = pd.read_csv(\"./data/X_train.csv\")\n",
    "#y_train = pd.read_csv(\"./data/y_train.csv\")"
   ]
  },
  {
   "cell_type": "code",
   "execution_count": 12,
   "id": "63d08085",
   "metadata": {
    "execution": {
     "iopub.execute_input": "2025-07-30T21:29:02.996496Z",
     "iopub.status.busy": "2025-07-30T21:29:02.995359Z",
     "iopub.status.idle": "2025-07-30T21:29:03.000522Z",
     "shell.execute_reply": "2025-07-30T21:29:02.999748Z"
    },
    "papermill": {
     "duration": 0.018956,
     "end_time": "2025-07-30T21:29:03.001699",
     "exception": false,
     "start_time": "2025-07-30T21:29:02.982743",
     "status": "completed"
    },
    "tags": []
   },
   "outputs": [],
   "source": [
    "#X_test = pd.read_csv(\"./data/X_test.csv\")\n",
    "#y_true = pd.read_csv(\"./data/y_test.csv\")"
   ]
  },
  {
   "cell_type": "code",
   "execution_count": 13,
   "id": "98a8d0fa-1d3d-4ed8-bb2c-281470e24add",
   "metadata": {
    "execution": {
     "iopub.execute_input": "2025-07-30T21:29:03.025266Z",
     "iopub.status.busy": "2025-07-30T21:29:03.024922Z",
     "iopub.status.idle": "2025-07-30T21:29:03.029238Z",
     "shell.execute_reply": "2025-07-30T21:29:03.028582Z"
    },
    "papermill": {
     "duration": 0.01749,
     "end_time": "2025-07-30T21:29:03.030521",
     "exception": false,
     "start_time": "2025-07-30T21:29:03.013031",
     "status": "completed"
    },
    "tags": []
   },
   "outputs": [],
   "source": [
    "# Calibration data for conformal\n",
    "#X_calib = pd.read_csv(\"./data/X_calib.csv\")\n",
    "#y_calib = pd.read_csv(\"./data/y_calib.csv\")"
   ]
  },
  {
   "cell_type": "markdown",
   "id": "997051c5-15bd-4b69-9786-c3001a3ce484",
   "metadata": {
    "papermill": {
     "duration": 0.014165,
     "end_time": "2025-07-30T21:29:03.055991",
     "exception": false,
     "start_time": "2025-07-30T21:29:03.041826",
     "status": "completed"
    },
    "tags": []
   },
   "source": [
    "# Splitting Data and Setting Training Data Size"
   ]
  },
  {
   "cell_type": "code",
   "execution_count": 14,
   "id": "e993b61f-042d-41a6-8c81-f55681f86335",
   "metadata": {
    "execution": {
     "iopub.execute_input": "2025-07-30T21:29:03.079894Z",
     "iopub.status.busy": "2025-07-30T21:29:03.079550Z",
     "iopub.status.idle": "2025-07-30T21:29:03.088808Z",
     "shell.execute_reply": "2025-07-30T21:29:03.088138Z"
    },
    "papermill": {
     "duration": 0.02329,
     "end_time": "2025-07-30T21:29:03.090129",
     "exception": false,
     "start_time": "2025-07-30T21:29:03.066839",
     "status": "completed"
    },
    "tags": []
   },
   "outputs": [],
   "source": [
    "def sample_by_year_size(df,\n",
    "                        training_year: str,\n",
    "                        training_size: str,\n",
    "                        random_state: int = 42):\n",
    "    # --- parse training_year into a list of int years ---\n",
    "    if \"_\" in training_year:\n",
    "        start_str, end_str = training_year.split(\"_\", 1)\n",
    "        start = int(start_str)\n",
    "        end   = int(end_str) if len(end_str) == 4 else (int(end_str) + (start // 100)*100)\n",
    "        years = list(range(start, end + 1))\n",
    "    else:\n",
    "        years = [int(training_year)]\n",
    "\n",
    "    df = df[df[\"year\"].isin(years)].reset_index(drop=True)\n",
    "\n",
    "    # --- map training_size to total number of samples ---\n",
    "    total_map = {\"25k\": 25_000, \"5k\": 5_000, \"1k\": 1_000}\n",
    "    if training_size not in total_map:\n",
    "        return df  # e.g. \"all\"\n",
    "\n",
    "    total_samples = total_map[training_size]\n",
    "    n_years       = len(years)\n",
    "    base          = total_samples // n_years\n",
    "    remainder     = total_samples % n_years\n",
    "\n",
    "    # --- build a dict: year -> how many to sample ---\n",
    "    # give +1 to the first `remainder` years in ascending order\n",
    "    quotas = {\n",
    "        year: base + (1 if idx < remainder else 0)\n",
    "        for idx, year in enumerate(sorted(years))\n",
    "    }\n",
    "\n",
    "    # --- sample per‐year according to the quota dict ---\n",
    "    sampled = (\n",
    "        df\n",
    "        .groupby(\"year\", group_keys=False)\n",
    "        .apply(lambda grp: grp.sample(\n",
    "            n=min(len(grp), quotas[grp.name]),\n",
    "            random_state=random_state))\n",
    "        .reset_index(drop=True)\n",
    "    )\n",
    "\n",
    "    return sampled"
   ]
  },
  {
   "cell_type": "code",
   "execution_count": 15,
   "id": "c0ccd338-0e02-41f3-a09d-f56f9266e3fb",
   "metadata": {
    "execution": {
     "iopub.execute_input": "2025-07-30T21:29:03.118371Z",
     "iopub.status.busy": "2025-07-30T21:29:03.117687Z",
     "iopub.status.idle": "2025-07-30T21:29:03.122071Z",
     "shell.execute_reply": "2025-07-30T21:29:03.121409Z"
    },
    "papermill": {
     "duration": 0.017908,
     "end_time": "2025-07-30T21:29:03.123395",
     "exception": false,
     "start_time": "2025-07-30T21:29:03.105487",
     "status": "completed"
    },
    "tags": []
   },
   "outputs": [],
   "source": [
    "#universe[\"training_size\"]"
   ]
  },
  {
   "cell_type": "code",
   "execution_count": 16,
   "id": "ca707fd7-8047-4acd-bfa5-66248fbbf8e6",
   "metadata": {
    "execution": {
     "iopub.execute_input": "2025-07-30T21:29:03.147779Z",
     "iopub.status.busy": "2025-07-30T21:29:03.147357Z",
     "iopub.status.idle": "2025-07-30T21:29:03.151973Z",
     "shell.execute_reply": "2025-07-30T21:29:03.151165Z"
    },
    "papermill": {
     "duration": 0.018682,
     "end_time": "2025-07-30T21:29:03.153558",
     "exception": false,
     "start_time": "2025-07-30T21:29:03.134876",
     "status": "completed"
    },
    "tags": []
   },
   "outputs": [],
   "source": [
    "#universe[\"training_year\"]"
   ]
  },
  {
   "cell_type": "code",
   "execution_count": 17,
   "id": "aea9c6ef-6f46-42c8-85eb-5a62025c1508",
   "metadata": {
    "execution": {
     "iopub.execute_input": "2025-07-30T21:29:03.177893Z",
     "iopub.status.busy": "2025-07-30T21:29:03.177443Z",
     "iopub.status.idle": "2025-07-30T21:29:03.363179Z",
     "shell.execute_reply": "2025-07-30T21:29:03.362254Z"
    },
    "papermill": {
     "duration": 0.200094,
     "end_time": "2025-07-30T21:29:03.365131",
     "exception": false,
     "start_time": "2025-07-30T21:29:03.165037",
     "status": "completed"
    },
    "tags": []
   },
   "outputs": [],
   "source": [
    "siab_train = sample_by_year_size(siab,\n",
    "                               training_year=universe[\"training_year\"],\n",
    "                               training_size=universe[\"training_size\"])"
   ]
  },
  {
   "cell_type": "code",
   "execution_count": 18,
   "id": "8d3afb32-789d-442c-8d5d-9f5aa8dd2eed",
   "metadata": {
    "execution": {
     "iopub.execute_input": "2025-07-30T21:29:03.411140Z",
     "iopub.status.busy": "2025-07-30T21:29:03.410699Z",
     "iopub.status.idle": "2025-07-30T21:29:03.415317Z",
     "shell.execute_reply": "2025-07-30T21:29:03.414382Z"
    },
    "papermill": {
     "duration": 0.029784,
     "end_time": "2025-07-30T21:29:03.417372",
     "exception": false,
     "start_time": "2025-07-30T21:29:03.387588",
     "status": "completed"
    },
    "tags": []
   },
   "outputs": [],
   "source": [
    "#siab_train.shape"
   ]
  },
  {
   "cell_type": "code",
   "execution_count": 19,
   "id": "d582db68-1a4c-47fb-84fc-08518dc1975a",
   "metadata": {
    "execution": {
     "iopub.execute_input": "2025-07-30T21:29:03.462554Z",
     "iopub.status.busy": "2025-07-30T21:29:03.461968Z",
     "iopub.status.idle": "2025-07-30T21:29:03.468699Z",
     "shell.execute_reply": "2025-07-30T21:29:03.467416Z"
    },
    "papermill": {
     "duration": 0.031681,
     "end_time": "2025-07-30T21:29:03.470663",
     "exception": false,
     "start_time": "2025-07-30T21:29:03.438982",
     "status": "completed"
    },
    "tags": []
   },
   "outputs": [],
   "source": [
    "#display(siab_train.groupby(\"year\").size())"
   ]
  },
  {
   "cell_type": "code",
   "execution_count": 20,
   "id": "a561edb4-d032-42cb-8256-22eac1111c64",
   "metadata": {
    "execution": {
     "iopub.execute_input": "2025-07-30T21:29:03.517537Z",
     "iopub.status.busy": "2025-07-30T21:29:03.516669Z",
     "iopub.status.idle": "2025-07-30T21:29:03.800453Z",
     "shell.execute_reply": "2025-07-30T21:29:03.799412Z"
    },
    "papermill": {
     "duration": 0.309184,
     "end_time": "2025-07-30T21:29:03.802451",
     "exception": false,
     "start_time": "2025-07-30T21:29:03.493267",
     "status": "completed"
    },
    "tags": []
   },
   "outputs": [],
   "source": [
    "#siab_train = siab_s[siab_s.year < 2015]\n",
    "siab_calib = siab[siab.year == 2015]\n",
    "siab_test = siab[siab.year == 2016]"
   ]
  },
  {
   "cell_type": "code",
   "execution_count": 21,
   "id": "472de16f-c3db-4916-846b-1f0de9cf1746",
   "metadata": {
    "execution": {
     "iopub.execute_input": "2025-07-30T21:29:03.853034Z",
     "iopub.status.busy": "2025-07-30T21:29:03.851955Z",
     "iopub.status.idle": "2025-07-30T21:29:03.860462Z",
     "shell.execute_reply": "2025-07-30T21:29:03.859241Z"
    },
    "papermill": {
     "duration": 0.034283,
     "end_time": "2025-07-30T21:29:03.862284",
     "exception": false,
     "start_time": "2025-07-30T21:29:03.828001",
     "status": "completed"
    },
    "tags": []
   },
   "outputs": [],
   "source": [
    "X_train = siab_train.iloc[:,4:164]\n",
    "y_train = siab_train.iloc[:, [3]]"
   ]
  },
  {
   "cell_type": "code",
   "execution_count": 22,
   "id": "828c96af-f43a-4ed6-ba47-8ac73a47d56c",
   "metadata": {
    "execution": {
     "iopub.execute_input": "2025-07-30T21:29:03.909208Z",
     "iopub.status.busy": "2025-07-30T21:29:03.908574Z",
     "iopub.status.idle": "2025-07-30T21:29:03.961606Z",
     "shell.execute_reply": "2025-07-30T21:29:03.960458Z"
    },
    "papermill": {
     "duration": 0.078912,
     "end_time": "2025-07-30T21:29:03.963739",
     "exception": false,
     "start_time": "2025-07-30T21:29:03.884827",
     "status": "completed"
    },
    "tags": []
   },
   "outputs": [],
   "source": [
    "X_calib = siab_calib.iloc[:,4:164]\n",
    "y_calib = siab_calib.iloc[:, [3]]"
   ]
  },
  {
   "cell_type": "code",
   "execution_count": 23,
   "id": "c34be9c3-6bd6-476e-acd3-845840e303be",
   "metadata": {
    "execution": {
     "iopub.execute_input": "2025-07-30T21:29:04.022368Z",
     "iopub.status.busy": "2025-07-30T21:29:04.021929Z",
     "iopub.status.idle": "2025-07-30T21:29:04.076627Z",
     "shell.execute_reply": "2025-07-30T21:29:04.075500Z"
    },
    "papermill": {
     "duration": 0.086218,
     "end_time": "2025-07-30T21:29:04.078376",
     "exception": false,
     "start_time": "2025-07-30T21:29:03.992158",
     "status": "completed"
    },
    "tags": []
   },
   "outputs": [],
   "source": [
    "X_test = siab_test.iloc[:,4:164]\n",
    "y_true = siab_test.iloc[:, [3]]"
   ]
  },
  {
   "cell_type": "markdown",
   "id": "9901737e-04df-44f0-9100-f5ad144ed040",
   "metadata": {
    "papermill": {
     "duration": 0.022466,
     "end_time": "2025-07-30T21:29:04.123429",
     "exception": false,
     "start_time": "2025-07-30T21:29:04.100963",
     "status": "completed"
    },
    "tags": []
   },
   "source": [
    "# Splitting Data and Setting Training Data Size OLD VERSION"
   ]
  },
  {
   "cell_type": "code",
   "execution_count": 24,
   "id": "acbc8f7d-8fc8-4e86-8c59-5dcb0f58384b",
   "metadata": {
    "execution": {
     "iopub.execute_input": "2025-07-30T21:29:04.170166Z",
     "iopub.status.busy": "2025-07-30T21:29:04.169332Z",
     "iopub.status.idle": "2025-07-30T21:29:04.175346Z",
     "shell.execute_reply": "2025-07-30T21:29:04.174342Z"
    },
    "papermill": {
     "duration": 0.032156,
     "end_time": "2025-07-30T21:29:04.177271",
     "exception": false,
     "start_time": "2025-07-30T21:29:04.145115",
     "status": "completed"
    },
    "tags": []
   },
   "outputs": [],
   "source": [
    "#def sample_by_year(df, training_size, random_state=42):\n",
    "#    if training_size == \"2014\":\n",
    "#        return df[df[\"year\"] == 2014].reset_index(drop=True)\n",
    "#    \n",
    "#    size_map = {\n",
    "#        \"25k\": 5000,\n",
    "#        \"5k\": 1000,\n",
    "#        \"1k\": 200\n",
    "#    }\n",
    "#\n",
    "#    if training_size not in size_map:\n",
    "#        return df.reset_index(drop=True)  # use all data\n",
    "#\n",
    "#    n_per_year = size_map[training_size]\n",
    "#    grouped = df.groupby(\"year\")\n",
    "#    sampled = grouped.apply(lambda x: x.sample(n=min(n_per_year, len(x)), random_state=random_state))\n",
    "#    return sampled.reset_index(drop=True)"
   ]
  },
  {
   "cell_type": "code",
   "execution_count": 25,
   "id": "6d931f52-beaf-43ff-9e78-9d44a448d54e",
   "metadata": {
    "execution": {
     "iopub.execute_input": "2025-07-30T21:29:04.222671Z",
     "iopub.status.busy": "2025-07-30T21:29:04.222082Z",
     "iopub.status.idle": "2025-07-30T21:29:04.227127Z",
     "shell.execute_reply": "2025-07-30T21:29:04.226204Z"
    },
    "papermill": {
     "duration": 0.029439,
     "end_time": "2025-07-30T21:29:04.228809",
     "exception": false,
     "start_time": "2025-07-30T21:29:04.199370",
     "status": "completed"
    },
    "tags": []
   },
   "outputs": [],
   "source": [
    "#siab_s = sample_by_year(siab, universe[\"training_size\"])"
   ]
  },
  {
   "cell_type": "code",
   "execution_count": 26,
   "id": "5db0a40e-a4e2-4920-be85-b12ae061d70d",
   "metadata": {
    "execution": {
     "iopub.execute_input": "2025-07-30T21:29:04.274851Z",
     "iopub.status.busy": "2025-07-30T21:29:04.274366Z",
     "iopub.status.idle": "2025-07-30T21:29:04.279273Z",
     "shell.execute_reply": "2025-07-30T21:29:04.278372Z"
    },
    "papermill": {
     "duration": 0.029875,
     "end_time": "2025-07-30T21:29:04.280760",
     "exception": false,
     "start_time": "2025-07-30T21:29:04.250885",
     "status": "completed"
    },
    "tags": []
   },
   "outputs": [],
   "source": [
    "#display(siab_s.groupby(\"year\").size())"
   ]
  },
  {
   "cell_type": "code",
   "execution_count": 27,
   "id": "e6c733c5",
   "metadata": {
    "execution": {
     "iopub.execute_input": "2025-07-30T21:29:04.327495Z",
     "iopub.status.busy": "2025-07-30T21:29:04.327005Z",
     "iopub.status.idle": "2025-07-30T21:29:04.426152Z",
     "shell.execute_reply": "2025-07-30T21:29:04.425173Z"
    },
    "papermill": {
     "duration": 0.125486,
     "end_time": "2025-07-30T21:29:04.428085",
     "exception": false,
     "start_time": "2025-07-30T21:29:04.302599",
     "status": "completed"
    },
    "tags": []
   },
   "outputs": [],
   "source": [
    "# Auxiliary data needed downstream in the pipeline\n",
    "\n",
    "org_train = X_train.copy()\n",
    "org_test = X_test.copy()\n",
    "org_calib = X_calib.copy()"
   ]
  },
  {
   "cell_type": "code",
   "execution_count": 28,
   "id": "1466abac-c6da-4492-a62f-4240ae3783af",
   "metadata": {
    "execution": {
     "iopub.execute_input": "2025-07-30T21:29:04.478314Z",
     "iopub.status.busy": "2025-07-30T21:29:04.477208Z",
     "iopub.status.idle": "2025-07-30T21:29:04.484442Z",
     "shell.execute_reply": "2025-07-30T21:29:04.483203Z"
    },
    "papermill": {
     "duration": 0.032962,
     "end_time": "2025-07-30T21:29:04.486281",
     "exception": false,
     "start_time": "2025-07-30T21:29:04.453319",
     "status": "completed"
    },
    "tags": []
   },
   "outputs": [],
   "source": [
    "# put in other script?\n",
    "# Group sizes\n",
    "\n",
    "#def calculate_percentages(df, df_name):\n",
    "#    total_entries = len(df)\n",
    "#\n",
    "#    female_pct = (df['frau1'] == 1).mean() * 100\n",
    "#    non_german_pct = ((df['maxdeutsch1'] == 0) & (df['maxdeutsch.Missing.'] == 0)).mean() * 100\n",
    "#    non_german_male_pct = ((df['frau1'] == 0) & (df['maxdeutsch1'] == 0) & (df['maxdeutsch.Missing.'] == 0)).mean() * 100\n",
    "#    non_german_female_pct = ((df['frau1'] == 1) & (df['maxdeutsch1'] == 0) & (df['maxdeutsch.Missing.'] == 0)).mean() * 100\n",
    "#\n",
    "#    print(f\"--- {df_name} ---\")\n",
    "#    print(f\"Female: {female_pct:.2f}%\")\n",
    "#    print(f\"Non-German: {non_german_pct:.2f}%\")\n",
    "#    print(f\"Non-German Male: {non_german_male_pct:.2f}%\")\n",
    "#    print(f\"Non-German Female: {non_german_female_pct:.2f}%\\n\")\n",
    "#\n",
    "## Calculate for each DataFrame\n",
    "#calculate_percentages(siab_calib, \"siab_calib\")\n",
    "#calculate_percentages(siab_test, \"siab_test\")\n",
    "#calculate_percentages(siab_train, \"siab_train\")"
   ]
  },
  {
   "cell_type": "markdown",
   "id": "0a4a1b33",
   "metadata": {
    "papermill": {
     "duration": 0.022009,
     "end_time": "2025-07-30T21:29:04.531571",
     "exception": false,
     "start_time": "2025-07-30T21:29:04.509562",
     "status": "completed"
    },
    "tags": []
   },
   "source": [
    "# Preprocessing Data"
   ]
  },
  {
   "cell_type": "code",
   "execution_count": 29,
   "id": "ca879031",
   "metadata": {
    "execution": {
     "iopub.execute_input": "2025-07-30T21:29:04.577711Z",
     "iopub.status.busy": "2025-07-30T21:29:04.576831Z",
     "iopub.status.idle": "2025-07-30T21:29:04.583029Z",
     "shell.execute_reply": "2025-07-30T21:29:04.582205Z"
    },
    "papermill": {
     "duration": 0.030896,
     "end_time": "2025-07-30T21:29:04.584683",
     "exception": false,
     "start_time": "2025-07-30T21:29:04.553787",
     "status": "completed"
    },
    "tags": []
   },
   "outputs": [],
   "source": [
    "# EXCLUDE PROTECTED FEATURES\n",
    "# ----------------------\n",
    "# \"exclude_features\": \"none\", # \"nationality\", \"sex\", \"nationality-sex\"\n",
    "\n",
    "excluded_features = universe[\"exclude_features\"].split(\"-\") # split, e.g.: \"nationality-sex\" -> [\"nationality\", \"sex\"]\n",
    "excluded_features_dictionary = {\n",
    "    \"nationality\": [\"maxdeutsch1\", \"maxdeutsch.Missing.\"],\n",
    "    \"sex\": [\"frau1\"],\n",
    "    \"age\": [\"age\"],\n",
    "}\n"
   ]
  },
  {
   "cell_type": "code",
   "execution_count": 30,
   "id": "b745ac60",
   "metadata": {
    "execution": {
     "iopub.execute_input": "2025-07-30T21:29:04.631536Z",
     "iopub.status.busy": "2025-07-30T21:29:04.630701Z",
     "iopub.status.idle": "2025-07-30T21:29:04.636818Z",
     "shell.execute_reply": "2025-07-30T21:29:04.635831Z"
    },
    "papermill": {
     "duration": 0.031722,
     "end_time": "2025-07-30T21:29:04.638761",
     "exception": false,
     "start_time": "2025-07-30T21:29:04.607039",
     "status": "completed"
    },
    "tags": []
   },
   "outputs": [],
   "source": [
    "# Code nice names to column names\n",
    "\n",
    "excluded_features_columns = [\n",
    "    excluded_features_dictionary[f] for f in excluded_features if len(f) > 0 and f != \"none\"\n",
    "]"
   ]
  },
  {
   "cell_type": "code",
   "execution_count": 31,
   "id": "f84f73a2",
   "metadata": {
    "execution": {
     "iopub.execute_input": "2025-07-30T21:29:04.685604Z",
     "iopub.status.busy": "2025-07-30T21:29:04.685168Z",
     "iopub.status.idle": "2025-07-30T21:29:04.691734Z",
     "shell.execute_reply": "2025-07-30T21:29:04.690787Z"
    },
    "papermill": {
     "duration": 0.03189,
     "end_time": "2025-07-30T21:29:04.693484",
     "exception": false,
     "start_time": "2025-07-30T21:29:04.661594",
     "status": "completed"
    },
    "tags": []
   },
   "outputs": [],
   "source": [
    "from utils import flatten_once\n",
    "\n",
    "excluded_features_columns = flatten_once(excluded_features_columns)"
   ]
  },
  {
   "cell_type": "code",
   "execution_count": 32,
   "id": "884dea22",
   "metadata": {
    "execution": {
     "iopub.execute_input": "2025-07-30T21:29:04.741423Z",
     "iopub.status.busy": "2025-07-30T21:29:04.740476Z",
     "iopub.status.idle": "2025-07-30T21:29:04.748518Z",
     "shell.execute_reply": "2025-07-30T21:29:04.747628Z"
    },
    "papermill": {
     "duration": 0.033616,
     "end_time": "2025-07-30T21:29:04.750261",
     "exception": false,
     "start_time": "2025-07-30T21:29:04.716645",
     "status": "completed"
    },
    "tags": []
   },
   "outputs": [
    {
     "name": "stdout",
     "output_type": "stream",
     "text": [
      "Dropping features: ['frau1']\n"
     ]
    }
   ],
   "source": [
    "if len(excluded_features_columns) > 0:\n",
    "    print(f\"Dropping features: {excluded_features_columns}\")\n",
    "    X_train.drop(excluded_features_columns, axis=1, inplace=True)"
   ]
  },
  {
   "cell_type": "code",
   "execution_count": 33,
   "id": "95ab8b16",
   "metadata": {
    "execution": {
     "iopub.execute_input": "2025-07-30T21:29:04.799189Z",
     "iopub.status.busy": "2025-07-30T21:29:04.798681Z",
     "iopub.status.idle": "2025-07-30T21:29:04.855552Z",
     "shell.execute_reply": "2025-07-30T21:29:04.854556Z"
    },
    "papermill": {
     "duration": 0.083848,
     "end_time": "2025-07-30T21:29:04.857328",
     "exception": false,
     "start_time": "2025-07-30T21:29:04.773480",
     "status": "completed"
    },
    "tags": []
   },
   "outputs": [
    {
     "name": "stdout",
     "output_type": "stream",
     "text": [
      "Dropping features: ['frau1']\n"
     ]
    }
   ],
   "source": [
    "if len(excluded_features_columns) > 0:\n",
    "    print(f\"Dropping features: {excluded_features_columns}\")\n",
    "    X_test.drop(excluded_features_columns, axis=1, inplace=True)"
   ]
  },
  {
   "cell_type": "code",
   "execution_count": 34,
   "id": "1853aaf5-fb9f-46cb-a2b5-8ea4ae2237e4",
   "metadata": {
    "execution": {
     "iopub.execute_input": "2025-07-30T21:29:04.909016Z",
     "iopub.status.busy": "2025-07-30T21:29:04.908184Z",
     "iopub.status.idle": "2025-07-30T21:29:04.965866Z",
     "shell.execute_reply": "2025-07-30T21:29:04.964687Z"
    },
    "papermill": {
     "duration": 0.084835,
     "end_time": "2025-07-30T21:29:04.967816",
     "exception": false,
     "start_time": "2025-07-30T21:29:04.882981",
     "status": "completed"
    },
    "tags": []
   },
   "outputs": [
    {
     "name": "stdout",
     "output_type": "stream",
     "text": [
      "Dropping features: ['frau1']\n"
     ]
    }
   ],
   "source": [
    "if len(excluded_features_columns) > 0:\n",
    "    print(f\"Dropping features: {excluded_features_columns}\")\n",
    "    X_calib.drop(excluded_features_columns, axis=1, inplace=True)"
   ]
  },
  {
   "cell_type": "code",
   "execution_count": 35,
   "id": "6727d079-03e5-481e-9d38-292a90b7a0a8",
   "metadata": {
    "execution": {
     "iopub.execute_input": "2025-07-30T21:29:05.016726Z",
     "iopub.status.busy": "2025-07-30T21:29:05.015764Z",
     "iopub.status.idle": "2025-07-30T21:29:05.026466Z",
     "shell.execute_reply": "2025-07-30T21:29:05.025374Z"
    },
    "papermill": {
     "duration": 0.037296,
     "end_time": "2025-07-30T21:29:05.028457",
     "exception": false,
     "start_time": "2025-07-30T21:29:04.991161",
     "status": "completed"
    },
    "tags": []
   },
   "outputs": [],
   "source": [
    "# SPLIT & STRATIFY DATA\n",
    "# ----------------------"
   ]
  },
  {
   "cell_type": "code",
   "execution_count": 36,
   "id": "76c4dc6d",
   "metadata": {
    "execution": {
     "iopub.execute_input": "2025-07-30T21:29:05.076261Z",
     "iopub.status.busy": "2025-07-30T21:29:05.075697Z",
     "iopub.status.idle": "2025-07-30T21:29:05.081264Z",
     "shell.execute_reply": "2025-07-30T21:29:05.080294Z"
    },
    "papermill": {
     "duration": 0.030619,
     "end_time": "2025-07-30T21:29:05.082881",
     "exception": false,
     "start_time": "2025-07-30T21:29:05.052262",
     "status": "completed"
    },
    "tags": []
   },
   "outputs": [],
   "source": [
    "# EXCLUDE CERTAIN SUBGROUPS\n",
    "# ----------------------\n",
    "\n",
    "mode = universe.get(\"exclude_subgroups\", \"keep-all\") \n",
    "# Fetches the exclude_subgroups setting from the universe dict.\n",
    "# Defaults to \"keep-all\" if the key is missing."
   ]
  },
  {
   "cell_type": "code",
   "execution_count": 37,
   "id": "21994072",
   "metadata": {
    "execution": {
     "iopub.execute_input": "2025-07-30T21:29:05.131682Z",
     "iopub.status.busy": "2025-07-30T21:29:05.131142Z",
     "iopub.status.idle": "2025-07-30T21:29:05.138733Z",
     "shell.execute_reply": "2025-07-30T21:29:05.137630Z"
    },
    "papermill": {
     "duration": 0.034376,
     "end_time": "2025-07-30T21:29:05.140575",
     "exception": false,
     "start_time": "2025-07-30T21:29:05.106199",
     "status": "completed"
    },
    "tags": []
   },
   "outputs": [],
   "source": [
    "if mode == \"keep-all\":\n",
    "    keep_mask = pd.Series(True, index=org_train.index)\n",
    "\n",
    "# org_train contains the original feature columns from features_org (in Simson)\n",
    "# features_org contains unprocessed features, for me X_train at beginning ???\n",
    "# For keep-all, creates a boolean Series (keep_mask) of all True, so no rows are removed.\n",
    "\n",
    "elif mode == \"drop-non-german\":\n",
    "    keep_mask = org_train[\"maxdeutsch1\"] == 1 # ??? what about missing values?\n",
    "\n",
    "else:\n",
    "    raise ValueError(f\"Unsupported mode for exclude_subgroups: {mode}\")\n"
   ]
  },
  {
   "cell_type": "code",
   "execution_count": 38,
   "id": "71651440",
   "metadata": {
    "execution": {
     "iopub.execute_input": "2025-07-30T21:29:05.190714Z",
     "iopub.status.busy": "2025-07-30T21:29:05.189724Z",
     "iopub.status.idle": "2025-07-30T21:29:05.197545Z",
     "shell.execute_reply": "2025-07-30T21:29:05.196148Z"
    },
    "papermill": {
     "duration": 0.034063,
     "end_time": "2025-07-30T21:29:05.199311",
     "exception": false,
     "start_time": "2025-07-30T21:29:05.165248",
     "status": "completed"
    },
    "tags": []
   },
   "outputs": [
    {
     "name": "stdout",
     "output_type": "stream",
     "text": [
      "Dropping 147 rows (14.70%) where mode='drop-non-german'\n"
     ]
    }
   ],
   "source": [
    "n_drop = (~keep_mask).sum() # Calculates how many rows are set to be dropped\n",
    "if n_drop > 0:\n",
    "    pct = n_drop / len(keep_mask) * 100\n",
    "    print(f\"Dropping {n_drop} rows ({pct:.2f}%) where mode='{mode}'\")"
   ]
  },
  {
   "cell_type": "code",
   "execution_count": 39,
   "id": "5fb8eee5",
   "metadata": {
    "execution": {
     "iopub.execute_input": "2025-07-30T21:29:05.250731Z",
     "iopub.status.busy": "2025-07-30T21:29:05.249960Z",
     "iopub.status.idle": "2025-07-30T21:29:05.256890Z",
     "shell.execute_reply": "2025-07-30T21:29:05.255829Z"
    },
    "papermill": {
     "duration": 0.0346,
     "end_time": "2025-07-30T21:29:05.258574",
     "exception": false,
     "start_time": "2025-07-30T21:29:05.223974",
     "status": "completed"
    },
    "tags": []
   },
   "outputs": [],
   "source": [
    "X_train = X_train[keep_mask]"
   ]
  },
  {
   "cell_type": "code",
   "execution_count": 40,
   "id": "b202bb3a",
   "metadata": {
    "execution": {
     "iopub.execute_input": "2025-07-30T21:29:05.300545Z",
     "iopub.status.busy": "2025-07-30T21:29:05.298834Z",
     "iopub.status.idle": "2025-07-30T21:29:05.305730Z",
     "shell.execute_reply": "2025-07-30T21:29:05.304740Z"
    },
    "papermill": {
     "duration": 0.024484,
     "end_time": "2025-07-30T21:29:05.307288",
     "exception": false,
     "start_time": "2025-07-30T21:29:05.282804",
     "status": "completed"
    },
    "tags": []
   },
   "outputs": [],
   "source": [
    "y_train = y_train[keep_mask]"
   ]
  },
  {
   "cell_type": "markdown",
   "id": "493e2ac3",
   "metadata": {
    "papermill": {
     "duration": 0.022452,
     "end_time": "2025-07-30T21:29:05.354074",
     "exception": false,
     "start_time": "2025-07-30T21:29:05.331622",
     "status": "completed"
    },
    "tags": []
   },
   "source": [
    "# Model Training"
   ]
  },
  {
   "cell_type": "code",
   "execution_count": 41,
   "id": "679e1268",
   "metadata": {
    "execution": {
     "iopub.execute_input": "2025-07-30T21:29:05.401424Z",
     "iopub.status.busy": "2025-07-30T21:29:05.400690Z",
     "iopub.status.idle": "2025-07-30T21:29:05.503123Z",
     "shell.execute_reply": "2025-07-30T21:29:05.502068Z"
    },
    "papermill": {
     "duration": 0.128253,
     "end_time": "2025-07-30T21:29:05.505030",
     "exception": false,
     "start_time": "2025-07-30T21:29:05.376777",
     "status": "completed"
    },
    "tags": []
   },
   "outputs": [],
   "source": [
    "from sklearn.linear_model import LogisticRegression\n",
    "from sklearn.ensemble import GradientBoostingClassifier, RandomForestClassifier\n",
    "\n",
    "if (universe[\"model\"] == \"logreg\"):\n",
    "    model = LogisticRegression() #penalty=\"none\") #, solver=\"newton-cg\", max_iter=1) # include random_state=19 ?\n",
    "elif (universe[\"model\"] == \"penalized_logreg\"):\n",
    "    model = LogisticRegression(penalty=\"l2\", C=1.0) #, solver=\"newton-cg\", max_iter=1)\n",
    "elif (universe[\"model\"] == \"rf\"):\n",
    "    model = RandomForestClassifier(n_estimators=100, n_jobs=-1)\n",
    "elif (universe[\"model\"] == \"gbm\"):\n",
    "    model = GradientBoostingClassifier()\n",
    "elif (universe[\"model\"] == \"elasticnet\"):\n",
    "    model = LogisticRegression(penalty = 'elasticnet', solver = 'saga', l1_ratio = 0.5, max_iter=5000) # which solver to use?\n",
    "else:\n",
    "    raise \"Unsupported universe.model\""
   ]
  },
  {
   "cell_type": "code",
   "execution_count": 42,
   "id": "0cc8f744",
   "metadata": {
    "execution": {
     "iopub.execute_input": "2025-07-30T21:29:05.556190Z",
     "iopub.status.busy": "2025-07-30T21:29:05.555720Z",
     "iopub.status.idle": "2025-07-30T21:29:05.562639Z",
     "shell.execute_reply": "2025-07-30T21:29:05.561502Z"
    },
    "papermill": {
     "duration": 0.037861,
     "end_time": "2025-07-30T21:29:05.566359",
     "exception": false,
     "start_time": "2025-07-30T21:29:05.528498",
     "status": "completed"
    },
    "tags": []
   },
   "outputs": [],
   "source": [
    "import numpy as np\n",
    "from sklearn.pipeline import Pipeline\n",
    "from sklearn.preprocessing import StandardScaler\n",
    "\n",
    "model = Pipeline([\n",
    "    #(\"continuous_processor\", continuous_processor),\n",
    "    #(\"categorical_preprocessor\", categorical_preprocessor),\n",
    "    (\"scale\", StandardScaler() if universe[\"scale\"] == \"scale\" else None), \n",
    "    (\"model\", model),\n",
    "])"
   ]
  },
  {
   "cell_type": "code",
   "execution_count": 43,
   "id": "9442c04d",
   "metadata": {
    "execution": {
     "iopub.execute_input": "2025-07-30T21:29:05.617112Z",
     "iopub.status.busy": "2025-07-30T21:29:05.616169Z",
     "iopub.status.idle": "2025-07-30T21:29:05.692110Z",
     "shell.execute_reply": "2025-07-30T21:29:05.690983Z"
    },
    "papermill": {
     "duration": 0.103857,
     "end_time": "2025-07-30T21:29:05.694228",
     "exception": false,
     "start_time": "2025-07-30T21:29:05.590371",
     "status": "completed"
    },
    "tags": []
   },
   "outputs": [
    {
     "name": "stderr",
     "output_type": "stream",
     "text": [
      "/dss/dsshome1/0C/ra93lal2/.local/share/virtualenvs/CMA_Fairness_v2-3j10GkSs/lib/python3.10/site-packages/sklearn/linear_model/_logistic.py:444: ConvergenceWarning: lbfgs failed to converge (status=1):\n",
      "STOP: TOTAL NO. of ITERATIONS REACHED LIMIT.\n",
      "\n",
      "Increase the number of iterations (max_iter) or scale the data as shown in:\n",
      "    https://scikit-learn.org/stable/modules/preprocessing.html\n",
      "Please also refer to the documentation for alternative solver options:\n",
      "    https://scikit-learn.org/stable/modules/linear_model.html#logistic-regression\n",
      "  n_iter_i = _check_optimize_result(\n"
     ]
    },
    {
     "data": {
      "text/html": [
       "<style>#sk-container-id-1 {color: black;background-color: white;}#sk-container-id-1 pre{padding: 0;}#sk-container-id-1 div.sk-toggleable {background-color: white;}#sk-container-id-1 label.sk-toggleable__label {cursor: pointer;display: block;width: 100%;margin-bottom: 0;padding: 0.3em;box-sizing: border-box;text-align: center;}#sk-container-id-1 label.sk-toggleable__label-arrow:before {content: \"▸\";float: left;margin-right: 0.25em;color: #696969;}#sk-container-id-1 label.sk-toggleable__label-arrow:hover:before {color: black;}#sk-container-id-1 div.sk-estimator:hover label.sk-toggleable__label-arrow:before {color: black;}#sk-container-id-1 div.sk-toggleable__content {max-height: 0;max-width: 0;overflow: hidden;text-align: left;background-color: #f0f8ff;}#sk-container-id-1 div.sk-toggleable__content pre {margin: 0.2em;color: black;border-radius: 0.25em;background-color: #f0f8ff;}#sk-container-id-1 input.sk-toggleable__control:checked~div.sk-toggleable__content {max-height: 200px;max-width: 100%;overflow: auto;}#sk-container-id-1 input.sk-toggleable__control:checked~label.sk-toggleable__label-arrow:before {content: \"▾\";}#sk-container-id-1 div.sk-estimator input.sk-toggleable__control:checked~label.sk-toggleable__label {background-color: #d4ebff;}#sk-container-id-1 div.sk-label input.sk-toggleable__control:checked~label.sk-toggleable__label {background-color: #d4ebff;}#sk-container-id-1 input.sk-hidden--visually {border: 0;clip: rect(1px 1px 1px 1px);clip: rect(1px, 1px, 1px, 1px);height: 1px;margin: -1px;overflow: hidden;padding: 0;position: absolute;width: 1px;}#sk-container-id-1 div.sk-estimator {font-family: monospace;background-color: #f0f8ff;border: 1px dotted black;border-radius: 0.25em;box-sizing: border-box;margin-bottom: 0.5em;}#sk-container-id-1 div.sk-estimator:hover {background-color: #d4ebff;}#sk-container-id-1 div.sk-parallel-item::after {content: \"\";width: 100%;border-bottom: 1px solid gray;flex-grow: 1;}#sk-container-id-1 div.sk-label:hover label.sk-toggleable__label {background-color: #d4ebff;}#sk-container-id-1 div.sk-serial::before {content: \"\";position: absolute;border-left: 1px solid gray;box-sizing: border-box;top: 0;bottom: 0;left: 50%;z-index: 0;}#sk-container-id-1 div.sk-serial {display: flex;flex-direction: column;align-items: center;background-color: white;padding-right: 0.2em;padding-left: 0.2em;position: relative;}#sk-container-id-1 div.sk-item {position: relative;z-index: 1;}#sk-container-id-1 div.sk-parallel {display: flex;align-items: stretch;justify-content: center;background-color: white;position: relative;}#sk-container-id-1 div.sk-item::before, #sk-container-id-1 div.sk-parallel-item::before {content: \"\";position: absolute;border-left: 1px solid gray;box-sizing: border-box;top: 0;bottom: 0;left: 50%;z-index: -1;}#sk-container-id-1 div.sk-parallel-item {display: flex;flex-direction: column;z-index: 1;position: relative;background-color: white;}#sk-container-id-1 div.sk-parallel-item:first-child::after {align-self: flex-end;width: 50%;}#sk-container-id-1 div.sk-parallel-item:last-child::after {align-self: flex-start;width: 50%;}#sk-container-id-1 div.sk-parallel-item:only-child::after {width: 0;}#sk-container-id-1 div.sk-dashed-wrapped {border: 1px dashed gray;margin: 0 0.4em 0.5em 0.4em;box-sizing: border-box;padding-bottom: 0.4em;background-color: white;}#sk-container-id-1 div.sk-label label {font-family: monospace;font-weight: bold;display: inline-block;line-height: 1.2em;}#sk-container-id-1 div.sk-label-container {text-align: center;}#sk-container-id-1 div.sk-container {/* jupyter's `normalize.less` sets `[hidden] { display: none; }` but bootstrap.min.css set `[hidden] { display: none !important; }` so we also need the `!important` here to be able to override the default hidden behavior on the sphinx rendered scikit-learn.org. See: https://github.com/scikit-learn/scikit-learn/issues/21755 */display: inline-block !important;position: relative;}#sk-container-id-1 div.sk-text-repr-fallback {display: none;}</style><div id=\"sk-container-id-1\" class=\"sk-top-container\"><div class=\"sk-text-repr-fallback\"><pre>Pipeline(steps=[(&#x27;scale&#x27;, None), (&#x27;model&#x27;, LogisticRegression())])</pre><b>In a Jupyter environment, please rerun this cell to show the HTML representation or trust the notebook. <br />On GitHub, the HTML representation is unable to render, please try loading this page with nbviewer.org.</b></div><div class=\"sk-container\" hidden><div class=\"sk-item sk-dashed-wrapped\"><div class=\"sk-label-container\"><div class=\"sk-label sk-toggleable\"><input class=\"sk-toggleable__control sk-hidden--visually\" id=\"sk-estimator-id-1\" type=\"checkbox\" ><label for=\"sk-estimator-id-1\" class=\"sk-toggleable__label sk-toggleable__label-arrow\">Pipeline</label><div class=\"sk-toggleable__content\"><pre>Pipeline(steps=[(&#x27;scale&#x27;, None), (&#x27;model&#x27;, LogisticRegression())])</pre></div></div></div><div class=\"sk-serial\"><div class=\"sk-item\"><div class=\"sk-estimator sk-toggleable\"><input class=\"sk-toggleable__control sk-hidden--visually\" id=\"sk-estimator-id-2\" type=\"checkbox\" ><label for=\"sk-estimator-id-2\" class=\"sk-toggleable__label sk-toggleable__label-arrow\">None</label><div class=\"sk-toggleable__content\"><pre>None</pre></div></div></div><div class=\"sk-item\"><div class=\"sk-estimator sk-toggleable\"><input class=\"sk-toggleable__control sk-hidden--visually\" id=\"sk-estimator-id-3\" type=\"checkbox\" ><label for=\"sk-estimator-id-3\" class=\"sk-toggleable__label sk-toggleable__label-arrow\">LogisticRegression</label><div class=\"sk-toggleable__content\"><pre>LogisticRegression()</pre></div></div></div></div></div></div></div>"
      ],
      "text/plain": [
       "Pipeline(steps=[('scale', None), ('model', LogisticRegression())])"
      ]
     },
     "execution_count": 43,
     "metadata": {},
     "output_type": "execute_result"
    }
   ],
   "source": [
    "model.fit(X_train, y_train.values.ravel())"
   ]
  },
  {
   "cell_type": "code",
   "execution_count": 44,
   "id": "af59f8c0",
   "metadata": {
    "execution": {
     "iopub.execute_input": "2025-07-30T21:29:05.762249Z",
     "iopub.status.busy": "2025-07-30T21:29:05.761545Z",
     "iopub.status.idle": "2025-07-30T21:29:05.767140Z",
     "shell.execute_reply": "2025-07-30T21:29:05.766223Z"
    },
    "papermill": {
     "duration": 0.03394,
     "end_time": "2025-07-30T21:29:05.768695",
     "exception": false,
     "start_time": "2025-07-30T21:29:05.734755",
     "status": "completed"
    },
    "tags": []
   },
   "outputs": [],
   "source": [
    "from fairness_multiverse.universe import predict_w_threshold"
   ]
  },
  {
   "cell_type": "code",
   "execution_count": 45,
   "id": "a7cf2e16",
   "metadata": {
    "execution": {
     "iopub.execute_input": "2025-07-30T21:29:05.838785Z",
     "iopub.status.busy": "2025-07-30T21:29:05.838305Z",
     "iopub.status.idle": "2025-07-30T21:29:05.955993Z",
     "shell.execute_reply": "2025-07-30T21:29:05.954821Z"
    },
    "papermill": {
     "duration": 0.146794,
     "end_time": "2025-07-30T21:29:05.958514",
     "exception": false,
     "start_time": "2025-07-30T21:29:05.811720",
     "status": "completed"
    },
    "tags": []
   },
   "outputs": [
    {
     "data": {
      "text/plain": [
       "0.8412328614424256"
      ]
     },
     "execution_count": 45,
     "metadata": {},
     "output_type": "execute_result"
    }
   ],
   "source": [
    "probs_test = model.predict_proba(X_test)\n",
    "\n",
    "'''\n",
    "Below code returns a boolean array (or binary 0/1 array depending on how it’s used) where each element \n",
    "is True if the probability of class 1 is greater than or equal to the threshold, and False otherwise.\n",
    "'''\n",
    "y_pred_default = predict_w_threshold(probs_test, 0.5)\n",
    "\n",
    "from sklearn.metrics import accuracy_score\n",
    "\n",
    "# Naive prediction\n",
    "accuracy_score(y_true = y_true, y_pred = y_pred_default)"
   ]
  },
  {
   "cell_type": "code",
   "execution_count": 46,
   "id": "081964c3",
   "metadata": {
    "execution": {
     "iopub.execute_input": "2025-07-30T21:29:06.020899Z",
     "iopub.status.busy": "2025-07-30T21:29:06.020384Z",
     "iopub.status.idle": "2025-07-30T21:29:06.108245Z",
     "shell.execute_reply": "2025-07-30T21:29:06.107213Z"
    },
    "papermill": {
     "duration": 0.121371,
     "end_time": "2025-07-30T21:29:06.110123",
     "exception": false,
     "start_time": "2025-07-30T21:29:05.988752",
     "status": "completed"
    },
    "tags": []
   },
   "outputs": [
    {
     "data": {
      "text/plain": [
       "array([0, 0, 0, ..., 0, 0, 0])"
      ]
     },
     "execution_count": 46,
     "metadata": {},
     "output_type": "execute_result"
    }
   ],
   "source": [
    "model.predict(X_test)"
   ]
  },
  {
   "cell_type": "markdown",
   "id": "56c9705b",
   "metadata": {
    "papermill": {
     "duration": 0.026152,
     "end_time": "2025-07-30T21:29:06.162041",
     "exception": false,
     "start_time": "2025-07-30T21:29:06.135889",
     "status": "completed"
    },
    "tags": []
   },
   "source": [
    "# Conformal Prediction"
   ]
  },
  {
   "cell_type": "code",
   "execution_count": 47,
   "id": "160ec6ff",
   "metadata": {
    "execution": {
     "iopub.execute_input": "2025-07-30T21:29:06.216985Z",
     "iopub.status.busy": "2025-07-30T21:29:06.216531Z",
     "iopub.status.idle": "2025-07-30T21:29:06.221478Z",
     "shell.execute_reply": "2025-07-30T21:29:06.220353Z"
    },
    "papermill": {
     "duration": 0.034155,
     "end_time": "2025-07-30T21:29:06.223311",
     "exception": false,
     "start_time": "2025-07-30T21:29:06.189156",
     "status": "completed"
    },
    "tags": []
   },
   "outputs": [],
   "source": [
    "# Miscoverage level for conformal prediction (10% allowed error rate => 90% target coverage)\n",
    "alpha = 0.1"
   ]
  },
  {
   "cell_type": "code",
   "execution_count": 48,
   "id": "eadf4555-3dd3-440e-8e35-f82a4ad9f855",
   "metadata": {
    "execution": {
     "iopub.execute_input": "2025-07-30T21:29:06.277162Z",
     "iopub.status.busy": "2025-07-30T21:29:06.276632Z",
     "iopub.status.idle": "2025-07-30T21:29:06.354920Z",
     "shell.execute_reply": "2025-07-30T21:29:06.354186Z"
    },
    "papermill": {
     "duration": 0.106485,
     "end_time": "2025-07-30T21:29:06.356760",
     "exception": false,
     "start_time": "2025-07-30T21:29:06.250275",
     "status": "completed"
    },
    "tags": []
   },
   "outputs": [],
   "source": [
    "probs_calib = model.predict_proba(X_calib)"
   ]
  },
  {
   "cell_type": "code",
   "execution_count": 49,
   "id": "2ed93547-6d5d-4983-9b36-1ecb300da49a",
   "metadata": {
    "execution": {
     "iopub.execute_input": "2025-07-30T21:29:06.402000Z",
     "iopub.status.busy": "2025-07-30T21:29:06.401660Z",
     "iopub.status.idle": "2025-07-30T21:29:06.406939Z",
     "shell.execute_reply": "2025-07-30T21:29:06.406036Z"
    },
    "papermill": {
     "duration": 0.020897,
     "end_time": "2025-07-30T21:29:06.408760",
     "exception": false,
     "start_time": "2025-07-30T21:29:06.387863",
     "status": "completed"
    },
    "tags": []
   },
   "outputs": [],
   "source": [
    "y_calib = y_calib.values.ravel().astype(int)"
   ]
  },
  {
   "cell_type": "code",
   "execution_count": 50,
   "id": "65d1320d-f588-4b38-9072-62af1ae97f7d",
   "metadata": {
    "execution": {
     "iopub.execute_input": "2025-07-30T21:29:06.460082Z",
     "iopub.status.busy": "2025-07-30T21:29:06.459584Z",
     "iopub.status.idle": "2025-07-30T21:29:06.467447Z",
     "shell.execute_reply": "2025-07-30T21:29:06.466458Z"
    },
    "papermill": {
     "duration": 0.03498,
     "end_time": "2025-07-30T21:29:06.469094",
     "exception": false,
     "start_time": "2025-07-30T21:29:06.434114",
     "status": "completed"
    },
    "tags": []
   },
   "outputs": [],
   "source": [
    "from fairness_multiverse.conformal import compute_nc_scores\n",
    "\n",
    "# Compute nonconformity scores on calibration set (1 - probability of true class)\n",
    "nc_scores = compute_nc_scores(probs_calib, y_calib)"
   ]
  },
  {
   "cell_type": "code",
   "execution_count": 51,
   "id": "df3b8ca3-53b7-43d5-9667-7c85da7aeda2",
   "metadata": {
    "execution": {
     "iopub.execute_input": "2025-07-30T21:29:06.521064Z",
     "iopub.status.busy": "2025-07-30T21:29:06.520521Z",
     "iopub.status.idle": "2025-07-30T21:29:06.527899Z",
     "shell.execute_reply": "2025-07-30T21:29:06.526777Z"
    },
    "papermill": {
     "duration": 0.035377,
     "end_time": "2025-07-30T21:29:06.529642",
     "exception": false,
     "start_time": "2025-07-30T21:29:06.494265",
     "status": "completed"
    },
    "tags": []
   },
   "outputs": [],
   "source": [
    "from fairness_multiverse.conformal import find_threshold\n",
    "\n",
    "# Find conformal threshold q_hat for the given alpha (split conformal method)\n",
    "q_hat = find_threshold(nc_scores, alpha)"
   ]
  },
  {
   "cell_type": "code",
   "execution_count": 52,
   "id": "4d29e6c1-0ef6-4aa4-b8fe-4fe79b0d033a",
   "metadata": {
    "execution": {
     "iopub.execute_input": "2025-07-30T21:29:06.582196Z",
     "iopub.status.busy": "2025-07-30T21:29:06.581469Z",
     "iopub.status.idle": "2025-07-30T21:29:06.589369Z",
     "shell.execute_reply": "2025-07-30T21:29:06.588476Z"
    },
    "papermill": {
     "duration": 0.035671,
     "end_time": "2025-07-30T21:29:06.590999",
     "exception": false,
     "start_time": "2025-07-30T21:29:06.555328",
     "status": "completed"
    },
    "tags": []
   },
   "outputs": [
    {
     "data": {
      "text/plain": [
       "0.700484748663131"
      ]
     },
     "execution_count": 52,
     "metadata": {},
     "output_type": "execute_result"
    }
   ],
   "source": [
    "q_hat"
   ]
  },
  {
   "cell_type": "code",
   "execution_count": 53,
   "id": "92460794-cdac-4be2-ba28-f28c0515a6fb",
   "metadata": {
    "execution": {
     "iopub.execute_input": "2025-07-30T21:29:06.645525Z",
     "iopub.status.busy": "2025-07-30T21:29:06.644442Z",
     "iopub.status.idle": "2025-07-30T21:29:07.770773Z",
     "shell.execute_reply": "2025-07-30T21:29:07.769805Z"
    },
    "papermill": {
     "duration": 1.155997,
     "end_time": "2025-07-30T21:29:07.772775",
     "exception": false,
     "start_time": "2025-07-30T21:29:06.616778",
     "status": "completed"
    },
    "tags": []
   },
   "outputs": [],
   "source": [
    "from fairness_multiverse.conformal import predict_conformal_sets\n",
    "\n",
    "# Generate prediction sets for each test example\n",
    "pred_sets = predict_conformal_sets(model, X_test, q_hat)"
   ]
  },
  {
   "cell_type": "code",
   "execution_count": 54,
   "id": "d90c9a65-e6db-4f5d-80cd-e68fb7e46829",
   "metadata": {
    "execution": {
     "iopub.execute_input": "2025-07-30T21:29:07.829080Z",
     "iopub.status.busy": "2025-07-30T21:29:07.828492Z",
     "iopub.status.idle": "2025-07-30T21:29:07.834623Z",
     "shell.execute_reply": "2025-07-30T21:29:07.833671Z"
    },
    "papermill": {
     "duration": 0.035779,
     "end_time": "2025-07-30T21:29:07.836406",
     "exception": false,
     "start_time": "2025-07-30T21:29:07.800627",
     "status": "completed"
    },
    "tags": []
   },
   "outputs": [],
   "source": [
    "y_true = y_true.squeeze()"
   ]
  },
  {
   "cell_type": "code",
   "execution_count": 55,
   "id": "3a58a54a-1e68-46b9-927a-df01f18aebc8",
   "metadata": {
    "execution": {
     "iopub.execute_input": "2025-07-30T21:29:07.892187Z",
     "iopub.status.busy": "2025-07-30T21:29:07.891655Z",
     "iopub.status.idle": "2025-07-30T21:29:08.857364Z",
     "shell.execute_reply": "2025-07-30T21:29:08.856352Z"
    },
    "papermill": {
     "duration": 0.995044,
     "end_time": "2025-07-30T21:29:08.859186",
     "exception": false,
     "start_time": "2025-07-30T21:29:07.864142",
     "status": "completed"
    },
    "tags": []
   },
   "outputs": [],
   "source": [
    "from fairness_multiverse.conformal import evaluate_sets\n",
    "\n",
    "# Evaluate coverage and average set size on test data\n",
    "metrics = evaluate_sets(pred_sets, y_true)"
   ]
  },
  {
   "cell_type": "markdown",
   "id": "2b569c12-9aaa-4c88-98c9-bbcd0cf3ebb8",
   "metadata": {
    "papermill": {
     "duration": 0.026807,
     "end_time": "2025-07-30T21:29:08.912524",
     "exception": false,
     "start_time": "2025-07-30T21:29:08.885717",
     "status": "completed"
    },
    "tags": []
   },
   "source": [
    "# CP Metrics"
   ]
  },
  {
   "cell_type": "code",
   "execution_count": 56,
   "id": "5ce0a5cb-201f-45a0-ade5-94c7f0bd6095",
   "metadata": {
    "execution": {
     "iopub.execute_input": "2025-07-30T21:29:08.945047Z",
     "iopub.status.busy": "2025-07-30T21:29:08.944664Z",
     "iopub.status.idle": "2025-07-30T21:29:08.953065Z",
     "shell.execute_reply": "2025-07-30T21:29:08.952102Z"
    },
    "papermill": {
     "duration": 0.025143,
     "end_time": "2025-07-30T21:29:08.955168",
     "exception": false,
     "start_time": "2025-07-30T21:29:08.930025",
     "status": "completed"
    },
    "tags": []
   },
   "outputs": [
    {
     "data": {
      "text/plain": [
       "{'coverage': 0.90911826998105, 'avg_size': 1.2579645524467729}"
      ]
     },
     "execution_count": 56,
     "metadata": {},
     "output_type": "execute_result"
    }
   ],
   "source": [
    "metrics"
   ]
  },
  {
   "cell_type": "code",
   "execution_count": 57,
   "id": "9b9a838d-31c9-430b-ae14-12baee460d17",
   "metadata": {
    "execution": {
     "iopub.execute_input": "2025-07-30T21:29:09.021383Z",
     "iopub.status.busy": "2025-07-30T21:29:09.020876Z",
     "iopub.status.idle": "2025-07-30T21:29:09.027765Z",
     "shell.execute_reply": "2025-07-30T21:29:09.026739Z"
    },
    "papermill": {
     "duration": 0.047294,
     "end_time": "2025-07-30T21:29:09.029699",
     "exception": false,
     "start_time": "2025-07-30T21:29:08.982405",
     "status": "completed"
    },
    "tags": []
   },
   "outputs": [],
   "source": [
    "example_universe = universe.copy()\n",
    "universe_training_year = example_universe.get(\"training_year\")\n",
    "universe_training_size = example_universe.get(\"training_size\")\n",
    "universe_scale = example_universe.get(\"scale\")\n",
    "universe_model = example_universe.get(\"model\")\n",
    "universe_exclude_features = example_universe.get(\"exclude_features\")\n",
    "universe_exclude_subgroups = example_universe.get(\"exclude_subgroups\")"
   ]
  },
  {
   "cell_type": "code",
   "execution_count": 58,
   "id": "f4b6a8ac-9dc0-4245-8a91-5b3b5999c4f9",
   "metadata": {
    "execution": {
     "iopub.execute_input": "2025-07-30T21:29:09.087159Z",
     "iopub.status.busy": "2025-07-30T21:29:09.086250Z",
     "iopub.status.idle": "2025-07-30T21:29:09.093668Z",
     "shell.execute_reply": "2025-07-30T21:29:09.092493Z"
    },
    "papermill": {
     "duration": 0.037796,
     "end_time": "2025-07-30T21:29:09.095349",
     "exception": false,
     "start_time": "2025-07-30T21:29:09.057553",
     "status": "completed"
    },
    "tags": []
   },
   "outputs": [],
   "source": [
    "cp_metrics_dict = {\n",
    "    \"universe_id\": [universe_id],\n",
    "    \"universe_training_year\": [universe_training_year],\n",
    "    \"universe_training_size\": [universe_training_size],\n",
    "    \"universe_scale\": [universe_scale],\n",
    "    \"universe_model\": [universe_model],\n",
    "    \"universe_exclude_features\": [universe_exclude_features],\n",
    "    \"universe_exclude_subgroups\": [universe_exclude_subgroups],\n",
    "    \"q_hat\": [q_hat],\n",
    "    \"coverage\": [metrics[\"coverage\"]],\n",
    "    \"avg_size\": [metrics[\"avg_size\"]],\n",
    "}"
   ]
  },
  {
   "cell_type": "code",
   "execution_count": 59,
   "id": "908acbb1-0371-4915-85ca-3fa520d2efe2",
   "metadata": {
    "execution": {
     "iopub.execute_input": "2025-07-30T21:29:09.144397Z",
     "iopub.status.busy": "2025-07-30T21:29:09.143369Z",
     "iopub.status.idle": "2025-07-30T21:29:09.152491Z",
     "shell.execute_reply": "2025-07-30T21:29:09.151448Z"
    },
    "papermill": {
     "duration": 0.031157,
     "end_time": "2025-07-30T21:29:09.154796",
     "exception": false,
     "start_time": "2025-07-30T21:29:09.123639",
     "status": "completed"
    },
    "tags": []
   },
   "outputs": [
    {
     "data": {
      "text/plain": [
       "{'universe_id': ['14c3a962f8754341c9e01797abbb2346'],\n",
       " 'universe_training_year': ['2014'],\n",
       " 'universe_training_size': ['1k'],\n",
       " 'universe_scale': ['do-not-scale'],\n",
       " 'universe_model': ['penalized_logreg'],\n",
       " 'universe_exclude_features': ['sex'],\n",
       " 'universe_exclude_subgroups': ['drop-non-german'],\n",
       " 'q_hat': [0.700484748663131],\n",
       " 'coverage': [0.90911826998105],\n",
       " 'avg_size': [1.2579645524467729]}"
      ]
     },
     "execution_count": 59,
     "metadata": {},
     "output_type": "execute_result"
    }
   ],
   "source": [
    "cp_metrics_dict"
   ]
  },
  {
   "cell_type": "code",
   "execution_count": 60,
   "id": "33007efc-14e9-4ec6-97ac-56a455c82265",
   "metadata": {
    "execution": {
     "iopub.execute_input": "2025-07-30T21:29:09.209766Z",
     "iopub.status.busy": "2025-07-30T21:29:09.207700Z",
     "iopub.status.idle": "2025-07-30T21:29:09.220481Z",
     "shell.execute_reply": "2025-07-30T21:29:09.214987Z"
    },
    "papermill": {
     "duration": 0.039874,
     "end_time": "2025-07-30T21:29:09.222209",
     "exception": false,
     "start_time": "2025-07-30T21:29:09.182335",
     "status": "completed"
    },
    "tags": []
   },
   "outputs": [],
   "source": [
    "cp_metrics_df = pd.DataFrame(cp_metrics_dict)"
   ]
  },
  {
   "cell_type": "code",
   "execution_count": 61,
   "id": "db12611b-57b2-4910-b9d0-355adfd6e7bf",
   "metadata": {
    "execution": {
     "iopub.execute_input": "2025-07-30T21:29:09.285679Z",
     "iopub.status.busy": "2025-07-30T21:29:09.285143Z",
     "iopub.status.idle": "2025-07-30T21:29:09.305041Z",
     "shell.execute_reply": "2025-07-30T21:29:09.303803Z"
    },
    "papermill": {
     "duration": 0.057252,
     "end_time": "2025-07-30T21:29:09.307762",
     "exception": false,
     "start_time": "2025-07-30T21:29:09.250510",
     "status": "completed"
    },
    "tags": []
   },
   "outputs": [
    {
     "data": {
      "text/html": [
       "<div>\n",
       "<style scoped>\n",
       "    .dataframe tbody tr th:only-of-type {\n",
       "        vertical-align: middle;\n",
       "    }\n",
       "\n",
       "    .dataframe tbody tr th {\n",
       "        vertical-align: top;\n",
       "    }\n",
       "\n",
       "    .dataframe thead th {\n",
       "        text-align: right;\n",
       "    }\n",
       "</style>\n",
       "<table border=\"1\" class=\"dataframe\">\n",
       "  <thead>\n",
       "    <tr style=\"text-align: right;\">\n",
       "      <th></th>\n",
       "      <th>universe_id</th>\n",
       "      <th>universe_training_year</th>\n",
       "      <th>universe_training_size</th>\n",
       "      <th>universe_scale</th>\n",
       "      <th>universe_model</th>\n",
       "      <th>universe_exclude_features</th>\n",
       "      <th>universe_exclude_subgroups</th>\n",
       "      <th>q_hat</th>\n",
       "      <th>coverage</th>\n",
       "      <th>avg_size</th>\n",
       "    </tr>\n",
       "  </thead>\n",
       "  <tbody>\n",
       "    <tr>\n",
       "      <th>0</th>\n",
       "      <td>14c3a962f8754341c9e01797abbb2346</td>\n",
       "      <td>2014</td>\n",
       "      <td>1k</td>\n",
       "      <td>do-not-scale</td>\n",
       "      <td>penalized_logreg</td>\n",
       "      <td>sex</td>\n",
       "      <td>drop-non-german</td>\n",
       "      <td>0.700485</td>\n",
       "      <td>0.909118</td>\n",
       "      <td>1.257965</td>\n",
       "    </tr>\n",
       "  </tbody>\n",
       "</table>\n",
       "</div>"
      ],
      "text/plain": [
       "                        universe_id universe_training_year  \\\n",
       "0  14c3a962f8754341c9e01797abbb2346                   2014   \n",
       "\n",
       "  universe_training_size universe_scale    universe_model  \\\n",
       "0                     1k   do-not-scale  penalized_logreg   \n",
       "\n",
       "  universe_exclude_features universe_exclude_subgroups     q_hat  coverage  \\\n",
       "0                       sex            drop-non-german  0.700485  0.909118   \n",
       "\n",
       "   avg_size  \n",
       "0  1.257965  "
      ]
     },
     "execution_count": 61,
     "metadata": {},
     "output_type": "execute_result"
    }
   ],
   "source": [
    "cp_metrics_df"
   ]
  },
  {
   "cell_type": "code",
   "execution_count": 62,
   "id": "b7fbde55-a0a1-47e4-9af6-fe4a17fa8c61",
   "metadata": {
    "execution": {
     "iopub.execute_input": "2025-07-30T21:29:09.369697Z",
     "iopub.status.busy": "2025-07-30T21:29:09.369185Z",
     "iopub.status.idle": "2025-07-30T21:29:09.374506Z",
     "shell.execute_reply": "2025-07-30T21:29:09.373603Z"
    },
    "papermill": {
     "duration": 0.029614,
     "end_time": "2025-07-30T21:29:09.376178",
     "exception": false,
     "start_time": "2025-07-30T21:29:09.346564",
     "status": "completed"
    },
    "tags": []
   },
   "outputs": [],
   "source": [
    "# Conditional Coverage & looking at subgroups"
   ]
  },
  {
   "cell_type": "code",
   "execution_count": 63,
   "id": "027ae886-68dd-4141-96c7-805a5450e1ef",
   "metadata": {
    "execution": {
     "iopub.execute_input": "2025-07-30T21:29:09.431007Z",
     "iopub.status.busy": "2025-07-30T21:29:09.430314Z",
     "iopub.status.idle": "2025-07-30T21:29:09.695124Z",
     "shell.execute_reply": "2025-07-30T21:29:09.694386Z"
    },
    "papermill": {
     "duration": 0.292856,
     "end_time": "2025-07-30T21:29:09.696652",
     "exception": false,
     "start_time": "2025-07-30T21:29:09.403796",
     "status": "completed"
    },
    "tags": []
   },
   "outputs": [],
   "source": [
    "from fairness_multiverse.conformal import build_cp_groups\n",
    "\n",
    "cp_groups_df = build_cp_groups(pred_sets, y_true, X_test.index, org_test)\n",
    "#needs universe_id and setting"
   ]
  },
  {
   "cell_type": "code",
   "execution_count": 64,
   "id": "01d5802c-663a-4d1f-9d69-e036faaffbf7",
   "metadata": {
    "execution": {
     "iopub.execute_input": "2025-07-30T21:29:09.739566Z",
     "iopub.status.busy": "2025-07-30T21:29:09.739136Z",
     "iopub.status.idle": "2025-07-30T21:29:09.744127Z",
     "shell.execute_reply": "2025-07-30T21:29:09.743268Z"
    },
    "papermill": {
     "duration": 0.034272,
     "end_time": "2025-07-30T21:29:09.746221",
     "exception": false,
     "start_time": "2025-07-30T21:29:09.711949",
     "status": "completed"
    },
    "tags": []
   },
   "outputs": [],
   "source": [
    "#delete\n",
    "#cp_groups_df"
   ]
  },
  {
   "cell_type": "code",
   "execution_count": 65,
   "id": "fa424af1-d1eb-443d-b717-2d279ada8408",
   "metadata": {
    "execution": {
     "iopub.execute_input": "2025-07-30T21:29:09.805338Z",
     "iopub.status.busy": "2025-07-30T21:29:09.804398Z",
     "iopub.status.idle": "2025-07-30T21:29:09.809628Z",
     "shell.execute_reply": "2025-07-30T21:29:09.808555Z"
    },
    "papermill": {
     "duration": 0.036363,
     "end_time": "2025-07-30T21:29:09.811302",
     "exception": false,
     "start_time": "2025-07-30T21:29:09.774939",
     "status": "completed"
    },
    "tags": []
   },
   "outputs": [],
   "source": [
    "#delete\n",
    "#percentage = (cp_groups_df['nongerman_female'] == 1).mean() * 100\n",
    "#print(percentage)\n"
   ]
  },
  {
   "cell_type": "code",
   "execution_count": 66,
   "id": "6cbdab96-b2b2-45af-ad54-d0516db2e28d",
   "metadata": {
    "execution": {
     "iopub.execute_input": "2025-07-30T21:29:09.872866Z",
     "iopub.status.busy": "2025-07-30T21:29:09.872301Z",
     "iopub.status.idle": "2025-07-30T21:29:11.666146Z",
     "shell.execute_reply": "2025-07-30T21:29:11.665398Z"
    },
    "papermill": {
     "duration": 1.830007,
     "end_time": "2025-07-30T21:29:11.667682",
     "exception": false,
     "start_time": "2025-07-30T21:29:09.837675",
     "status": "completed"
    },
    "tags": []
   },
   "outputs": [],
   "source": [
    "# Define covered = 1 if true_label is in the predicted set\n",
    "cp_groups_df['covered'] = cp_groups_df.apply(\n",
    "    lambda r: int(r['true_label'] in r['pred_set']),\n",
    "    axis=1\n",
    ")"
   ]
  },
  {
   "cell_type": "code",
   "execution_count": 67,
   "id": "338ff529-1a6b-4b87-a931-8e4788d52aad",
   "metadata": {
    "execution": {
     "iopub.execute_input": "2025-07-30T21:29:11.702289Z",
     "iopub.status.busy": "2025-07-30T21:29:11.700996Z",
     "iopub.status.idle": "2025-07-30T21:29:11.707028Z",
     "shell.execute_reply": "2025-07-30T21:29:11.706243Z"
    },
    "papermill": {
     "duration": 0.026698,
     "end_time": "2025-07-30T21:29:11.708317",
     "exception": false,
     "start_time": "2025-07-30T21:29:11.681619",
     "status": "completed"
    },
    "tags": []
   },
   "outputs": [],
   "source": [
    "#cp_groups_df"
   ]
  },
  {
   "cell_type": "code",
   "execution_count": 68,
   "id": "90032e27-66df-4540-9169-4e89cfbaa758",
   "metadata": {
    "execution": {
     "iopub.execute_input": "2025-07-30T21:29:11.738316Z",
     "iopub.status.busy": "2025-07-30T21:29:11.737781Z",
     "iopub.status.idle": "2025-07-30T21:29:11.746908Z",
     "shell.execute_reply": "2025-07-30T21:29:11.746217Z"
    },
    "papermill": {
     "duration": 0.024777,
     "end_time": "2025-07-30T21:29:11.748286",
     "exception": false,
     "start_time": "2025-07-30T21:29:11.723509",
     "status": "completed"
    },
    "tags": []
   },
   "outputs": [],
   "source": [
    "subgroups = ['frau1','nongerman','nongerman_male','nongerman_female']\n",
    "\n",
    "# Conditional coverage for subgroup==1\n",
    "cond_coverage = {\n",
    "    g: cp_groups_df.loc[cp_groups_df[g]==1, 'covered'].mean()\n",
    "    for g in subgroups\n",
    "}"
   ]
  },
  {
   "cell_type": "code",
   "execution_count": 69,
   "id": "1e348fb1-b9c3-45bc-ba23-f016827a7e0d",
   "metadata": {
    "execution": {
     "iopub.execute_input": "2025-07-30T21:29:11.777582Z",
     "iopub.status.busy": "2025-07-30T21:29:11.777088Z",
     "iopub.status.idle": "2025-07-30T21:29:11.783601Z",
     "shell.execute_reply": "2025-07-30T21:29:11.782894Z"
    },
    "papermill": {
     "duration": 0.022425,
     "end_time": "2025-07-30T21:29:11.784917",
     "exception": false,
     "start_time": "2025-07-30T21:29:11.762492",
     "status": "completed"
    },
    "tags": []
   },
   "outputs": [
    {
     "data": {
      "text/plain": [
       "{'frau1': 0.9098261221188839,\n",
       " 'nongerman': 0.9452085555493179,\n",
       " 'nongerman_male': 0.9552373232459695,\n",
       " 'nongerman_female': 0.9286140089418778}"
      ]
     },
     "execution_count": 69,
     "metadata": {},
     "output_type": "execute_result"
    }
   ],
   "source": [
    "cond_coverage"
   ]
  },
  {
   "cell_type": "code",
   "execution_count": 70,
   "id": "f5093324-c3dd-4d63-bc4c-8d945e5c8bbb",
   "metadata": {
    "execution": {
     "iopub.execute_input": "2025-07-30T21:29:11.819994Z",
     "iopub.status.busy": "2025-07-30T21:29:11.819486Z",
     "iopub.status.idle": "2025-07-30T21:29:11.825849Z",
     "shell.execute_reply": "2025-07-30T21:29:11.825186Z"
    },
    "papermill": {
     "duration": 0.022391,
     "end_time": "2025-07-30T21:29:11.827205",
     "exception": false,
     "start_time": "2025-07-30T21:29:11.804814",
     "status": "completed"
    },
    "tags": []
   },
   "outputs": [],
   "source": [
    "for subgroup, cov in cond_coverage.items():\n",
    "    cp_metrics_df[f\"cov_{subgroup}\"] = cov"
   ]
  },
  {
   "cell_type": "code",
   "execution_count": 71,
   "id": "6e872e10-dbe5-49e8-b554-5030c98ff75d",
   "metadata": {
    "execution": {
     "iopub.execute_input": "2025-07-30T21:29:11.857018Z",
     "iopub.status.busy": "2025-07-30T21:29:11.856446Z",
     "iopub.status.idle": "2025-07-30T21:29:11.871387Z",
     "shell.execute_reply": "2025-07-30T21:29:11.870634Z"
    },
    "papermill": {
     "duration": 0.030839,
     "end_time": "2025-07-30T21:29:11.872736",
     "exception": false,
     "start_time": "2025-07-30T21:29:11.841897",
     "status": "completed"
    },
    "tags": []
   },
   "outputs": [
    {
     "data": {
      "text/html": [
       "<div>\n",
       "<style scoped>\n",
       "    .dataframe tbody tr th:only-of-type {\n",
       "        vertical-align: middle;\n",
       "    }\n",
       "\n",
       "    .dataframe tbody tr th {\n",
       "        vertical-align: top;\n",
       "    }\n",
       "\n",
       "    .dataframe thead th {\n",
       "        text-align: right;\n",
       "    }\n",
       "</style>\n",
       "<table border=\"1\" class=\"dataframe\">\n",
       "  <thead>\n",
       "    <tr style=\"text-align: right;\">\n",
       "      <th></th>\n",
       "      <th>universe_id</th>\n",
       "      <th>universe_training_year</th>\n",
       "      <th>universe_training_size</th>\n",
       "      <th>universe_scale</th>\n",
       "      <th>universe_model</th>\n",
       "      <th>universe_exclude_features</th>\n",
       "      <th>universe_exclude_subgroups</th>\n",
       "      <th>q_hat</th>\n",
       "      <th>coverage</th>\n",
       "      <th>avg_size</th>\n",
       "      <th>cov_frau1</th>\n",
       "      <th>cov_nongerman</th>\n",
       "      <th>cov_nongerman_male</th>\n",
       "      <th>cov_nongerman_female</th>\n",
       "    </tr>\n",
       "  </thead>\n",
       "  <tbody>\n",
       "    <tr>\n",
       "      <th>0</th>\n",
       "      <td>14c3a962f8754341c9e01797abbb2346</td>\n",
       "      <td>2014</td>\n",
       "      <td>1k</td>\n",
       "      <td>do-not-scale</td>\n",
       "      <td>penalized_logreg</td>\n",
       "      <td>sex</td>\n",
       "      <td>drop-non-german</td>\n",
       "      <td>0.700485</td>\n",
       "      <td>0.909118</td>\n",
       "      <td>1.257965</td>\n",
       "      <td>0.909826</td>\n",
       "      <td>0.945209</td>\n",
       "      <td>0.955237</td>\n",
       "      <td>0.928614</td>\n",
       "    </tr>\n",
       "  </tbody>\n",
       "</table>\n",
       "</div>"
      ],
      "text/plain": [
       "                        universe_id universe_training_year  \\\n",
       "0  14c3a962f8754341c9e01797abbb2346                   2014   \n",
       "\n",
       "  universe_training_size universe_scale    universe_model  \\\n",
       "0                     1k   do-not-scale  penalized_logreg   \n",
       "\n",
       "  universe_exclude_features universe_exclude_subgroups     q_hat  coverage  \\\n",
       "0                       sex            drop-non-german  0.700485  0.909118   \n",
       "\n",
       "   avg_size  cov_frau1  cov_nongerman  cov_nongerman_male  \\\n",
       "0  1.257965   0.909826       0.945209            0.955237   \n",
       "\n",
       "   cov_nongerman_female  \n",
       "0              0.928614  "
      ]
     },
     "execution_count": 71,
     "metadata": {},
     "output_type": "execute_result"
    }
   ],
   "source": [
    "cp_metrics_df"
   ]
  },
  {
   "cell_type": "markdown",
   "id": "33774451",
   "metadata": {
    "papermill": {
     "duration": 0.014463,
     "end_time": "2025-07-30T21:29:11.905310",
     "exception": false,
     "start_time": "2025-07-30T21:29:11.890847",
     "status": "completed"
    },
    "tags": []
   },
   "source": [
    "# (Fairness) Metrics"
   ]
  },
  {
   "cell_type": "code",
   "execution_count": 72,
   "id": "debc5d62",
   "metadata": {
    "execution": {
     "iopub.execute_input": "2025-07-30T21:29:11.934748Z",
     "iopub.status.busy": "2025-07-30T21:29:11.934246Z",
     "iopub.status.idle": "2025-07-30T21:29:11.948139Z",
     "shell.execute_reply": "2025-07-30T21:29:11.947360Z"
    },
    "papermill": {
     "duration": 0.030291,
     "end_time": "2025-07-30T21:29:11.949588",
     "exception": false,
     "start_time": "2025-07-30T21:29:11.919297",
     "status": "completed"
    },
    "tags": []
   },
   "outputs": [],
   "source": [
    "# do I need to include maxdeutsch1.missing?\n",
    "\n",
    "import numpy as np\n",
    "\n",
    "colname_to_bin = \"maxdeutsch1\"\n",
    "majority_value = org_train[colname_to_bin].mode()[0]\n",
    "\n",
    "org_test[\"majmin\"] = np.where(org_test[colname_to_bin] == majority_value, \"majority\", \"minority\")"
   ]
  },
  {
   "cell_type": "code",
   "execution_count": 73,
   "id": "06a50de5",
   "metadata": {
    "execution": {
     "iopub.execute_input": "2025-07-30T21:29:11.983800Z",
     "iopub.status.busy": "2025-07-30T21:29:11.983305Z",
     "iopub.status.idle": "2025-07-30T21:29:14.737057Z",
     "shell.execute_reply": "2025-07-30T21:29:14.735978Z"
    },
    "papermill": {
     "duration": 2.775513,
     "end_time": "2025-07-30T21:29:14.739472",
     "exception": false,
     "start_time": "2025-07-30T21:29:11.963959",
     "status": "completed"
    },
    "tags": []
   },
   "outputs": [],
   "source": [
    "example_universe = universe.copy()\n",
    "example_universe[\"cutoff\"] = example_universe[\"cutoff\"][0]\n",
    "example_universe[\"eval_fairness_grouping\"] = example_universe[\"eval_fairness_grouping\"][0]\n",
    "fairness_dict, metric_frame = universe_analysis.compute_metrics(\n",
    "    example_universe,\n",
    "    y_pred_prob=probs_test,\n",
    "    y_test=y_true,\n",
    "    org_test=org_test,\n",
    ")"
   ]
  },
  {
   "cell_type": "markdown",
   "id": "f95d4e02",
   "metadata": {
    "papermill": {
     "duration": 0.040177,
     "end_time": "2025-07-30T21:29:14.819919",
     "exception": false,
     "start_time": "2025-07-30T21:29:14.779742",
     "status": "completed"
    },
    "tags": []
   },
   "source": [
    "# Overall"
   ]
  },
  {
   "cell_type": "markdown",
   "id": "bdee4871",
   "metadata": {
    "papermill": {
     "duration": 0.042385,
     "end_time": "2025-07-30T21:29:14.900244",
     "exception": false,
     "start_time": "2025-07-30T21:29:14.857859",
     "status": "completed"
    },
    "tags": []
   },
   "source": [
    "Fairness\n",
    "Main fairness target: Equalized Odds. Seems to be a better fit than equal opportunity, since we're not only interested in Y = 1. Seems to be a better fit than demographic parity, since we also care about accuracy, not just equal distribution of preds.\n",
    "\n",
    "Pick column for computation of fairness metrics\n",
    "\n",
    "Performance\n",
    "Overall performance measures, most interesting in relation to the measures split by group below"
   ]
  },
  {
   "cell_type": "code",
   "execution_count": 74,
   "id": "c4e067c6",
   "metadata": {
    "execution": {
     "iopub.execute_input": "2025-07-30T21:29:14.980367Z",
     "iopub.status.busy": "2025-07-30T21:29:14.979889Z",
     "iopub.status.idle": "2025-07-30T21:29:14.988697Z",
     "shell.execute_reply": "2025-07-30T21:29:14.987700Z"
    },
    "papermill": {
     "duration": 0.051427,
     "end_time": "2025-07-30T21:29:14.990389",
     "exception": false,
     "start_time": "2025-07-30T21:29:14.938962",
     "status": "completed"
    },
    "tags": []
   },
   "outputs": [
    {
     "data": {
      "text/plain": [
       "accuracy                   0.216018\n",
       "balanced accuracy          0.529945\n",
       "f1                         0.237580\n",
       "precision                  0.135721\n",
       "false positive rate        0.892317\n",
       "false negative rate        0.047793\n",
       "selection rate             0.900000\n",
       "count                  89710.000000\n",
       "dtype: float64"
      ]
     },
     "execution_count": 74,
     "metadata": {},
     "output_type": "execute_result"
    }
   ],
   "source": [
    "metric_frame.overall"
   ]
  },
  {
   "cell_type": "markdown",
   "id": "e968fe9d",
   "metadata": {
    "papermill": {
     "duration": 0.031323,
     "end_time": "2025-07-30T21:29:15.053626",
     "exception": false,
     "start_time": "2025-07-30T21:29:15.022303",
     "status": "completed"
    },
    "tags": []
   },
   "source": [
    "By Group"
   ]
  },
  {
   "cell_type": "code",
   "execution_count": 75,
   "id": "ec325bce",
   "metadata": {
    "execution": {
     "iopub.execute_input": "2025-07-30T21:29:15.117521Z",
     "iopub.status.busy": "2025-07-30T21:29:15.116825Z",
     "iopub.status.idle": "2025-07-30T21:29:15.132890Z",
     "shell.execute_reply": "2025-07-30T21:29:15.131425Z"
    },
    "papermill": {
     "duration": 0.050169,
     "end_time": "2025-07-30T21:29:15.134637",
     "exception": false,
     "start_time": "2025-07-30T21:29:15.084468",
     "status": "completed"
    },
    "tags": []
   },
   "outputs": [
    {
     "data": {
      "text/html": [
       "<div>\n",
       "<style scoped>\n",
       "    .dataframe tbody tr th:only-of-type {\n",
       "        vertical-align: middle;\n",
       "    }\n",
       "\n",
       "    .dataframe tbody tr th {\n",
       "        vertical-align: top;\n",
       "    }\n",
       "\n",
       "    .dataframe thead th {\n",
       "        text-align: right;\n",
       "    }\n",
       "</style>\n",
       "<table border=\"1\" class=\"dataframe\">\n",
       "  <thead>\n",
       "    <tr style=\"text-align: right;\">\n",
       "      <th></th>\n",
       "      <th>accuracy</th>\n",
       "      <th>balanced accuracy</th>\n",
       "      <th>f1</th>\n",
       "      <th>precision</th>\n",
       "      <th>false positive rate</th>\n",
       "      <th>false negative rate</th>\n",
       "      <th>selection rate</th>\n",
       "      <th>count</th>\n",
       "    </tr>\n",
       "    <tr>\n",
       "      <th>majmin</th>\n",
       "      <th></th>\n",
       "      <th></th>\n",
       "      <th></th>\n",
       "      <th></th>\n",
       "      <th></th>\n",
       "      <th></th>\n",
       "      <th></th>\n",
       "      <th></th>\n",
       "    </tr>\n",
       "  </thead>\n",
       "  <tbody>\n",
       "    <tr>\n",
       "      <th>majority</th>\n",
       "      <td>0.236577</td>\n",
       "      <td>0.537168</td>\n",
       "      <td>0.246640</td>\n",
       "      <td>0.141812</td>\n",
       "      <td>0.871398</td>\n",
       "      <td>0.054267</td>\n",
       "      <td>0.881220</td>\n",
       "      <td>69170.0</td>\n",
       "    </tr>\n",
       "    <tr>\n",
       "      <th>minority</th>\n",
       "      <td>0.146787</td>\n",
       "      <td>0.507886</td>\n",
       "      <td>0.208911</td>\n",
       "      <td>0.116957</td>\n",
       "      <td>0.961424</td>\n",
       "      <td>0.022804</td>\n",
       "      <td>0.963242</td>\n",
       "      <td>20540.0</td>\n",
       "    </tr>\n",
       "  </tbody>\n",
       "</table>\n",
       "</div>"
      ],
      "text/plain": [
       "          accuracy  balanced accuracy        f1  precision  \\\n",
       "majmin                                                       \n",
       "majority  0.236577           0.537168  0.246640   0.141812   \n",
       "minority  0.146787           0.507886  0.208911   0.116957   \n",
       "\n",
       "          false positive rate  false negative rate  selection rate    count  \n",
       "majmin                                                                       \n",
       "majority             0.871398             0.054267        0.881220  69170.0  \n",
       "minority             0.961424             0.022804        0.963242  20540.0  "
      ]
     },
     "execution_count": 75,
     "metadata": {},
     "output_type": "execute_result"
    }
   ],
   "source": [
    "metric_frame.by_group"
   ]
  },
  {
   "cell_type": "code",
   "execution_count": 76,
   "id": "a9ddbe63",
   "metadata": {
    "execution": {
     "iopub.execute_input": "2025-07-30T21:29:15.200140Z",
     "iopub.status.busy": "2025-07-30T21:29:15.199534Z",
     "iopub.status.idle": "2025-07-30T21:29:17.758631Z",
     "shell.execute_reply": "2025-07-30T21:29:17.755869Z"
    },
    "papermill": {
     "duration": 2.594342,
     "end_time": "2025-07-30T21:29:17.760373",
     "exception": false,
     "start_time": "2025-07-30T21:29:15.166031",
     "status": "completed"
    },
    "tags": []
   },
   "outputs": [
    {
     "data": {
      "text/plain": [
       "array([[<Axes: title={'center': 'accuracy'}, xlabel='majmin'>,\n",
       "        <Axes: title={'center': 'balanced accuracy'}, xlabel='majmin'>,\n",
       "        <Axes: title={'center': 'f1'}, xlabel='majmin'>],\n",
       "       [<Axes: title={'center': 'precision'}, xlabel='majmin'>,\n",
       "        <Axes: title={'center': 'false positive rate'}, xlabel='majmin'>,\n",
       "        <Axes: title={'center': 'false negative rate'}, xlabel='majmin'>],\n",
       "       [<Axes: title={'center': 'selection rate'}, xlabel='majmin'>,\n",
       "        <Axes: title={'center': 'count'}, xlabel='majmin'>,\n",
       "        <Axes: xlabel='majmin'>]], dtype=object)"
      ]
     },
     "execution_count": 76,
     "metadata": {},
     "output_type": "execute_result"
    },
    {
     "data": {
      "image/png": "[encoded data removed]",
      "text/plain": [
       "<Figure size 1200x800 with 9 Axes>"
      ]
     },
     "metadata": {},
     "output_type": "display_data"
    }
   ],
   "source": [
    "# In a graphic\n",
    "metric_frame.by_group.plot.bar(\n",
    "    subplots=True,\n",
    "    layout=[3, 3],\n",
    "    legend=False,\n",
    "    figsize=[12, 8],\n",
    "    title=\"Show all metrics\",\n",
    ")"
   ]
  },
  {
   "cell_type": "markdown",
   "id": "f57a0bac",
   "metadata": {
    "papermill": {
     "duration": 0.01466,
     "end_time": "2025-07-30T21:29:17.792452",
     "exception": false,
     "start_time": "2025-07-30T21:29:17.777792",
     "status": "completed"
    },
    "tags": []
   },
   "source": [
    "# Final Output"
   ]
  },
  {
   "cell_type": "code",
   "execution_count": 77,
   "id": "96d280a3",
   "metadata": {
    "execution": {
     "iopub.execute_input": "2025-07-30T21:29:17.831318Z",
     "iopub.status.busy": "2025-07-30T21:29:17.830608Z",
     "iopub.status.idle": "2025-07-30T21:29:17.837488Z",
     "shell.execute_reply": "2025-07-30T21:29:17.836539Z"
    },
    "papermill": {
     "duration": 0.024623,
     "end_time": "2025-07-30T21:29:17.839059",
     "exception": false,
     "start_time": "2025-07-30T21:29:17.814436",
     "status": "completed"
    },
    "tags": []
   },
   "outputs": [
    {
     "data": {
      "text/plain": [
       "4"
      ]
     },
     "execution_count": 77,
     "metadata": {},
     "output_type": "execute_result"
    }
   ],
   "source": [
    "sub_universes = universe_analysis.generate_sub_universes()\n",
    "len(sub_universes)"
   ]
  },
  {
   "cell_type": "code",
   "execution_count": 78,
   "id": "92adf7ba",
   "metadata": {
    "execution": {
     "iopub.execute_input": "2025-07-30T21:29:17.900361Z",
     "iopub.status.busy": "2025-07-30T21:29:17.899446Z",
     "iopub.status.idle": "2025-07-30T21:29:17.908013Z",
     "shell.execute_reply": "2025-07-30T21:29:17.907243Z"
    },
    "papermill": {
     "duration": 0.041745,
     "end_time": "2025-07-30T21:29:17.909393",
     "exception": false,
     "start_time": "2025-07-30T21:29:17.867648",
     "status": "completed"
    },
    "tags": []
   },
   "outputs": [],
   "source": [
    "def filter_sub_universe_data(sub_universe, org_test):\n",
    "    # Keep all rows — no filtering\n",
    "    keep_rows_mask = np.ones(org_test.shape[0], dtype=bool)\n",
    "\n",
    "    print(f\"[INFO] Keeping all rows: {keep_rows_mask.sum()} rows retained.\")\n",
    "    return keep_rows_mask"
   ]
  },
  {
   "cell_type": "code",
   "execution_count": 79,
   "id": "4a759155",
   "metadata": {
    "execution": {
     "iopub.execute_input": "2025-07-30T21:29:17.958849Z",
     "iopub.status.busy": "2025-07-30T21:29:17.958158Z",
     "iopub.status.idle": "2025-07-30T21:29:28.330015Z",
     "shell.execute_reply": "2025-07-30T21:29:28.329069Z"
    },
    "papermill": {
     "duration": 10.401387,
     "end_time": "2025-07-30T21:29:28.331462",
     "exception": false,
     "start_time": "2025-07-30T21:29:17.930075",
     "status": "completed"
    },
    "tags": []
   },
   "outputs": [
    {
     "name": "stdout",
     "output_type": "stream",
     "text": [
      "Stopping execution_time clock.\n",
      "[INFO] Keeping all rows: 89710 rows retained.\n"
     ]
    },
    {
     "name": "stdout",
     "output_type": "stream",
     "text": [
      "[INFO] Keeping all rows: 89710 rows retained.\n"
     ]
    },
    {
     "name": "stdout",
     "output_type": "stream",
     "text": [
      "[INFO] Keeping all rows: 89710 rows retained.\n"
     ]
    },
    {
     "name": "stdout",
     "output_type": "stream",
     "text": [
      "[INFO] Keeping all rows: 89710 rows retained.\n"
     ]
    },
    {
     "data": {
      "text/html": [
       "<div>\n",
       "<style scoped>\n",
       "    .dataframe tbody tr th:only-of-type {\n",
       "        vertical-align: middle;\n",
       "    }\n",
       "\n",
       "    .dataframe tbody tr th {\n",
       "        vertical-align: top;\n",
       "    }\n",
       "\n",
       "    .dataframe thead th {\n",
       "        text-align: right;\n",
       "    }\n",
       "</style>\n",
       "<table border=\"1\" class=\"dataframe\">\n",
       "  <thead>\n",
       "    <tr style=\"text-align: right;\">\n",
       "      <th></th>\n",
       "      <th>run_no</th>\n",
       "      <th>universe_id</th>\n",
       "      <th>universe_settings</th>\n",
       "      <th>execution_time</th>\n",
       "      <th>test_size_n</th>\n",
       "      <th>test_size_frac</th>\n",
       "      <th>fair_main_equalized_odds_difference</th>\n",
       "      <th>fair_main_equalized_odds_ratio</th>\n",
       "      <th>fair_main_demographic_parity_difference</th>\n",
       "      <th>fair_main_demographic_parity_ratio</th>\n",
       "      <th>...</th>\n",
       "      <th>perf_grp_precision_0</th>\n",
       "      <th>perf_grp_precision_1</th>\n",
       "      <th>perf_grp_false positive rate_0</th>\n",
       "      <th>perf_grp_false positive rate_1</th>\n",
       "      <th>perf_grp_false negative rate_0</th>\n",
       "      <th>perf_grp_false negative rate_1</th>\n",
       "      <th>perf_grp_selection rate_0</th>\n",
       "      <th>perf_grp_selection rate_1</th>\n",
       "      <th>perf_grp_count_0</th>\n",
       "      <th>perf_grp_count_1</th>\n",
       "    </tr>\n",
       "  </thead>\n",
       "  <tbody>\n",
       "    <tr>\n",
       "      <th>0</th>\n",
       "      <td>14</td>\n",
       "      <td>14c3a962f8754341c9e01797abbb2346</td>\n",
       "      <td>{\"cutoff\": \"quantile_0.1\", \"eval_fairness_grou...</td>\n",
       "      <td>27.569383</td>\n",
       "      <td>89710</td>\n",
       "      <td>1.0</td>\n",
       "      <td>0.090027</td>\n",
       "      <td>0.906361</td>\n",
       "      <td>0.082022</td>\n",
       "      <td>0.914848</td>\n",
       "      <td>...</td>\n",
       "      <td>NaN</td>\n",
       "      <td>NaN</td>\n",
       "      <td>NaN</td>\n",
       "      <td>NaN</td>\n",
       "      <td>NaN</td>\n",
       "      <td>NaN</td>\n",
       "      <td>NaN</td>\n",
       "      <td>NaN</td>\n",
       "      <td>NaN</td>\n",
       "      <td>NaN</td>\n",
       "    </tr>\n",
       "    <tr>\n",
       "      <th>0</th>\n",
       "      <td>14</td>\n",
       "      <td>14c3a962f8754341c9e01797abbb2346</td>\n",
       "      <td>{\"cutoff\": \"quantile_0.1\", \"eval_fairness_grou...</td>\n",
       "      <td>27.569383</td>\n",
       "      <td>89710</td>\n",
       "      <td>1.0</td>\n",
       "      <td>0.090027</td>\n",
       "      <td>0.906361</td>\n",
       "      <td>0.082022</td>\n",
       "      <td>0.914848</td>\n",
       "      <td>...</td>\n",
       "      <td>0.116957</td>\n",
       "      <td>0.141812</td>\n",
       "      <td>0.961424</td>\n",
       "      <td>0.871398</td>\n",
       "      <td>0.022804</td>\n",
       "      <td>0.054267</td>\n",
       "      <td>0.963242</td>\n",
       "      <td>0.881220</td>\n",
       "      <td>20540.0</td>\n",
       "      <td>69170.0</td>\n",
       "    </tr>\n",
       "    <tr>\n",
       "      <th>0</th>\n",
       "      <td>14</td>\n",
       "      <td>14c3a962f8754341c9e01797abbb2346</td>\n",
       "      <td>{\"cutoff\": \"quantile_0.25\", \"eval_fairness_gro...</td>\n",
       "      <td>27.569383</td>\n",
       "      <td>89710</td>\n",
       "      <td>1.0</td>\n",
       "      <td>0.214655</td>\n",
       "      <td>0.760971</td>\n",
       "      <td>0.196949</td>\n",
       "      <td>0.781617</td>\n",
       "      <td>...</td>\n",
       "      <td>NaN</td>\n",
       "      <td>NaN</td>\n",
       "      <td>NaN</td>\n",
       "      <td>NaN</td>\n",
       "      <td>NaN</td>\n",
       "      <td>NaN</td>\n",
       "      <td>NaN</td>\n",
       "      <td>NaN</td>\n",
       "      <td>NaN</td>\n",
       "      <td>NaN</td>\n",
       "    </tr>\n",
       "    <tr>\n",
       "      <th>0</th>\n",
       "      <td>14</td>\n",
       "      <td>14c3a962f8754341c9e01797abbb2346</td>\n",
       "      <td>{\"cutoff\": \"quantile_0.25\", \"eval_fairness_gro...</td>\n",
       "      <td>27.569383</td>\n",
       "      <td>89710</td>\n",
       "      <td>1.0</td>\n",
       "      <td>0.214655</td>\n",
       "      <td>0.760971</td>\n",
       "      <td>0.196949</td>\n",
       "      <td>0.781617</td>\n",
       "      <td>...</td>\n",
       "      <td>0.119035</td>\n",
       "      <td>0.158641</td>\n",
       "      <td>0.898030</td>\n",
       "      <td>0.683375</td>\n",
       "      <td>0.068834</td>\n",
       "      <td>0.153720</td>\n",
       "      <td>0.901850</td>\n",
       "      <td>0.704901</td>\n",
       "      <td>20540.0</td>\n",
       "      <td>69170.0</td>\n",
       "    </tr>\n",
       "  </tbody>\n",
       "</table>\n",
       "<p>4 rows × 50 columns</p>\n",
       "</div>"
      ],
      "text/plain": [
       "  run_no                       universe_id  \\\n",
       "0     14  14c3a962f8754341c9e01797abbb2346   \n",
       "0     14  14c3a962f8754341c9e01797abbb2346   \n",
       "0     14  14c3a962f8754341c9e01797abbb2346   \n",
       "0     14  14c3a962f8754341c9e01797abbb2346   \n",
       "\n",
       "                                   universe_settings  execution_time  \\\n",
       "0  {\"cutoff\": \"quantile_0.1\", \"eval_fairness_grou...       27.569383   \n",
       "0  {\"cutoff\": \"quantile_0.1\", \"eval_fairness_grou...       27.569383   \n",
       "0  {\"cutoff\": \"quantile_0.25\", \"eval_fairness_gro...       27.569383   \n",
       "0  {\"cutoff\": \"quantile_0.25\", \"eval_fairness_gro...       27.569383   \n",
       "\n",
       "   test_size_n  test_size_frac  fair_main_equalized_odds_difference  \\\n",
       "0        89710             1.0                             0.090027   \n",
       "0        89710             1.0                             0.090027   \n",
       "0        89710             1.0                             0.214655   \n",
       "0        89710             1.0                             0.214655   \n",
       "\n",
       "   fair_main_equalized_odds_ratio  fair_main_demographic_parity_difference  \\\n",
       "0                        0.906361                                 0.082022   \n",
       "0                        0.906361                                 0.082022   \n",
       "0                        0.760971                                 0.196949   \n",
       "0                        0.760971                                 0.196949   \n",
       "\n",
       "   fair_main_demographic_parity_ratio  ...  perf_grp_precision_0  \\\n",
       "0                            0.914848  ...                   NaN   \n",
       "0                            0.914848  ...              0.116957   \n",
       "0                            0.781617  ...                   NaN   \n",
       "0                            0.781617  ...              0.119035   \n",
       "\n",
       "   perf_grp_precision_1  perf_grp_false positive rate_0  \\\n",
       "0                   NaN                             NaN   \n",
       "0              0.141812                        0.961424   \n",
       "0                   NaN                             NaN   \n",
       "0              0.158641                        0.898030   \n",
       "\n",
       "   perf_grp_false positive rate_1  perf_grp_false negative rate_0  \\\n",
       "0                             NaN                             NaN   \n",
       "0                        0.871398                        0.022804   \n",
       "0                             NaN                             NaN   \n",
       "0                        0.683375                        0.068834   \n",
       "\n",
       "   perf_grp_false negative rate_1  perf_grp_selection rate_0  \\\n",
       "0                             NaN                        NaN   \n",
       "0                        0.054267                   0.963242   \n",
       "0                             NaN                        NaN   \n",
       "0                        0.153720                   0.901850   \n",
       "\n",
       "   perf_grp_selection rate_1  perf_grp_count_0  perf_grp_count_1  \n",
       "0                        NaN               NaN               NaN  \n",
       "0                   0.881220           20540.0           69170.0  \n",
       "0                        NaN               NaN               NaN  \n",
       "0                   0.704901           20540.0           69170.0  \n",
       "\n",
       "[4 rows x 50 columns]"
      ]
     },
     "execution_count": 79,
     "metadata": {},
     "output_type": "execute_result"
    }
   ],
   "source": [
    "final_output = universe_analysis.generate_final_output(\n",
    "    y_pred_prob=probs_test,\n",
    "    y_test=y_true,\n",
    "    org_test=org_test,\n",
    "    filter_data=filter_sub_universe_data,\n",
    "    cp_metrics_df=cp_metrics_df,\n",
    "    save=True,\n",
    ")\n",
    "final_output"
   ]
  },
  {
   "cell_type": "code",
   "execution_count": null,
   "id": "721ff514-cb11-46f8-b6fc-50392f74b5cb",
   "metadata": {
    "papermill": {
     "duration": 0.028221,
     "end_time": "2025-07-30T21:29:28.393177",
     "exception": false,
     "start_time": "2025-07-30T21:29:28.364956",
     "status": "completed"
    },
    "tags": []
   },
   "outputs": [],
   "source": []
  }
 ],
 "metadata": {
  "celltoolbar": "Tags",
  "kernelspec": {
   "display_name": "Python (CMA Fairness)",
   "language": "python",
   "name": "cma_fair_env"
  },
  "language_info": {
   "codemirror_mode": {
    "name": "ipython",
    "version": 3
   },
   "file_extension": ".py",
   "mimetype": "text/x-python",
   "name": "python",
   "nbconvert_exporter": "python",
   "pygments_lexer": "ipython3",
   "version": "3.10.12"
  },
  "papermill": {
   "default_parameters": {},
   "duration": 41.527307,
   "end_time": "2025-07-30T21:29:29.245165",
   "environment_variables": {},
   "exception": null,
   "input_path": "universe_analysis.ipynb",
   "output_path": "output/runs/14/notebooks/m_14-14c3a962f8754341c9e01797abbb2346.ipynb",
   "parameters": {
    "output_dir": "output",
    "run_no": "14",
    "seed": "2023",
    "universe": "{\"cutoff\": [\"quantile_0.1\", \"quantile_0.25\"], \"eval_fairness_grouping\": [\"majority-minority\", \"nationality-all\"], \"exclude_features\": \"sex\", \"exclude_subgroups\": \"drop-non-german\", \"model\": \"penalized_logreg\", \"scale\": \"do-not-scale\", \"training_size\": \"1k\", \"training_year\": \"2014\"}",
    "universe_id": "14c3a962f8754341c9e01797abbb2346"
   },
   "start_time": "2025-07-30T21:28:47.717858",
   "version": "2.6.0"
  }
 },
 "nbformat": 4,
 "nbformat_minor": 5
}