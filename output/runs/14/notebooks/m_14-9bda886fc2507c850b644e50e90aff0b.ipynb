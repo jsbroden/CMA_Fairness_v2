{
 "cells": [
  {
   "cell_type": "code",
   "execution_count": 1,
   "id": "f159f837-637b-42ba-96b5-ec9a68c44524",
   "metadata": {
    "execution": {
     "iopub.execute_input": "2025-07-30T21:02:44.324166Z",
     "iopub.status.busy": "2025-07-30T21:02:44.323670Z",
     "iopub.status.idle": "2025-07-30T21:02:44.337186Z",
     "shell.execute_reply": "2025-07-30T21:02:44.336129Z"
    },
    "papermill": {
     "duration": 0.038355,
     "end_time": "2025-07-30T21:02:44.338791",
     "exception": false,
     "start_time": "2025-07-30T21:02:44.300436",
     "status": "completed"
    },
    "tags": []
   },
   "outputs": [
    {
     "name": "stdout",
     "output_type": "stream",
     "text": [
      "/dss/dsshome1/0C/ra93lal2/cma/CMA_Fairness_v2\n"
     ]
    },
    {
     "name": "stderr",
     "output_type": "stream",
     "text": [
      "/dss/dsshome1/0C/ra93lal2/.local/share/virtualenvs/CMA_Fairness_v2-3j10GkSs/lib/python3.10/site-packages/IPython/core/magics/osm.py:393: UserWarning: This is now an optional IPython functionality, using bookmarks requires you to install the `pickleshare` library.\n",
      "  bkms = self.shell.db.get('bookmarks', {})\n",
      "/dss/dsshome1/0C/ra93lal2/.local/share/virtualenvs/CMA_Fairness_v2-3j10GkSs/lib/python3.10/site-packages/IPython/core/magics/osm.py:417: UserWarning: This is now an optional IPython functionality, setting dhist requires you to install the `pickleshare` library.\n",
      "  self.shell.db['dhist'] = compress_dhist(dhist)[-100:]\n"
     ]
    }
   ],
   "source": [
    "%cd ~/cma/CMA_Fairness_v2"
   ]
  },
  {
   "cell_type": "markdown",
   "id": "de2603b9",
   "metadata": {
    "papermill": {
     "duration": 0.0207,
     "end_time": "2025-07-30T21:02:44.381226",
     "exception": false,
     "start_time": "2025-07-30T21:02:44.360526",
     "status": "completed"
    },
    "tags": []
   },
   "source": [
    "The following cell holds the definition of our parameters, these values can be overriden by rendering the with e.g. the following command:\n",
    "\n",
    "papermill -p alpha 0.2 -p ratio 0.3 universe_analysis.ipynb output/test_run.ipynb"
   ]
  },
  {
   "cell_type": "code",
   "execution_count": 2,
   "id": "a80968a0-40bb-4fa9-85ef-2d5eefb01975",
   "metadata": {
    "execution": {
     "iopub.execute_input": "2025-07-30T21:02:44.445161Z",
     "iopub.status.busy": "2025-07-30T21:02:44.444821Z",
     "iopub.status.idle": "2025-07-30T21:02:44.449470Z",
     "shell.execute_reply": "2025-07-30T21:02:44.448710Z"
    },
    "papermill": {
     "duration": 0.048271,
     "end_time": "2025-07-30T21:02:44.450762",
     "exception": false,
     "start_time": "2025-07-30T21:02:44.402491",
     "status": "completed"
    },
    "tags": []
   },
   "outputs": [
    {
     "name": "stdout",
     "output_type": "stream",
     "text": [
      "Current working directory: /dss/dsshome1/0C/ra93lal2/cma/CMA_Fairness_v2\n"
     ]
    }
   ],
   "source": [
    "import os\n",
    "print(\"Current working directory:\", os.getcwd())"
   ]
  },
  {
   "cell_type": "code",
   "execution_count": 3,
   "id": "2dce4c03",
   "metadata": {
    "execution": {
     "iopub.execute_input": "2025-07-30T21:02:44.473210Z",
     "iopub.status.busy": "2025-07-30T21:02:44.472882Z",
     "iopub.status.idle": "2025-07-30T21:02:44.477503Z",
     "shell.execute_reply": "2025-07-30T21:02:44.476753Z"
    },
    "papermill": {
     "duration": 0.016589,
     "end_time": "2025-07-30T21:02:44.478818",
     "exception": false,
     "start_time": "2025-07-30T21:02:44.462229",
     "status": "completed"
    },
    "tags": [
     "parameters"
    ]
   },
   "outputs": [],
   "source": [
    "run_no = 0\n",
    "universe_id = \"test\"\n",
    "universe = {\n",
    "    \"training_size\": \"25k\", # \"25k\", \"5k\", \"1k\"\n",
    "    \"training_year\": \"2014\", # \"2014\", \"2012_14\", \"2010_14\"\n",
    "    \"scale\": \"scale\", # \"scale\", \"do-not-scale\",\n",
    "    #\"stratify_split\": \"target\", # \"none\", \"target\", \"protected-attribute\", \"both\",\n",
    "    \"model\": \"elasticnet\", # \"logreg\", \"penalized_logreg\", \"rf\", \"gbm\", \"elasticnet\"\n",
    "    \"cutoff\": [\"quantile_0.15\", \"quantile_0.30\"],\n",
    "    \"exclude_features\": \"age\", # \"none\", \"nationality\", \"sex\", \"nationality-sex\", \"age\"\n",
    "    \"exclude_subgroups\": \"keep-all\", # \"keep-all\", \"drop-non-german\"\n",
    "    \"eval_fairness_grouping\": [\"majority-minority\", \"nationality-all\"]\n",
    "}\n",
    "\n",
    "output_dir=\"./output\"\n",
    "seed=0"
   ]
  },
  {
   "cell_type": "code",
   "execution_count": 4,
   "id": "edbcfc2e",
   "metadata": {
    "execution": {
     "iopub.execute_input": "2025-07-30T21:02:44.504159Z",
     "iopub.status.busy": "2025-07-30T21:02:44.503439Z",
     "iopub.status.idle": "2025-07-30T21:02:44.508120Z",
     "shell.execute_reply": "2025-07-30T21:02:44.507426Z"
    },
    "papermill": {
     "duration": 0.017698,
     "end_time": "2025-07-30T21:02:44.509406",
     "exception": false,
     "start_time": "2025-07-30T21:02:44.491708",
     "status": "completed"
    },
    "tags": [
     "injected-parameters"
    ]
   },
   "outputs": [],
   "source": [
    "# Parameters\n",
    "universe_id = \"9bda886fc2507c850b644e50e90aff0b\"\n",
    "run_no = \"14\"\n",
    "universe = \"{\\\"cutoff\\\": [\\\"quantile_0.1\\\", \\\"quantile_0.25\\\"], \\\"eval_fairness_grouping\\\": [\\\"majority-minority\\\", \\\"nationality-all\\\"], \\\"exclude_features\\\": \\\"none\\\", \\\"exclude_subgroups\\\": \\\"drop-non-german\\\", \\\"model\\\": \\\"logreg\\\", \\\"scale\\\": \\\"do-not-scale\\\", \\\"training_size\\\": \\\"5k\\\", \\\"training_year\\\": \\\"2012_14\\\"}\"\n",
    "output_dir = \"output\"\n",
    "seed = \"2023\"\n"
   ]
  },
  {
   "cell_type": "code",
   "execution_count": 5,
   "id": "1650acaf",
   "metadata": {
    "execution": {
     "iopub.execute_input": "2025-07-30T21:02:44.531450Z",
     "iopub.status.busy": "2025-07-30T21:02:44.530541Z",
     "iopub.status.idle": "2025-07-30T21:02:44.536408Z",
     "shell.execute_reply": "2025-07-30T21:02:44.534681Z"
    },
    "papermill": {
     "duration": 0.017905,
     "end_time": "2025-07-30T21:02:44.537640",
     "exception": false,
     "start_time": "2025-07-30T21:02:44.519735",
     "status": "completed"
    },
    "tags": []
   },
   "outputs": [],
   "source": [
    "import json\n",
    "# Parse universe into dict if it is passed as a string\n",
    "if isinstance(universe, str):\n",
    "    universe = json.loads(universe)"
   ]
  },
  {
   "cell_type": "code",
   "execution_count": 6,
   "id": "16620c48",
   "metadata": {
    "execution": {
     "iopub.execute_input": "2025-07-30T21:02:44.560072Z",
     "iopub.status.busy": "2025-07-30T21:02:44.559376Z",
     "iopub.status.idle": "2025-07-30T21:02:44.593326Z",
     "shell.execute_reply": "2025-07-30T21:02:44.592268Z"
    },
    "papermill": {
     "duration": 0.048879,
     "end_time": "2025-07-30T21:02:44.597413",
     "exception": false,
     "start_time": "2025-07-30T21:02:44.548534",
     "status": "completed"
    },
    "tags": []
   },
   "outputs": [],
   "source": [
    "# Auto-reload the custom package\n",
    "%load_ext autoreload\n",
    "%autoreload 1\n",
    "%aimport fairness_multiverse"
   ]
  },
  {
   "cell_type": "code",
   "execution_count": 7,
   "id": "01c5c9f3",
   "metadata": {
    "execution": {
     "iopub.execute_input": "2025-07-30T21:02:44.639464Z",
     "iopub.status.busy": "2025-07-30T21:02:44.638729Z",
     "iopub.status.idle": "2025-07-30T21:02:46.611925Z",
     "shell.execute_reply": "2025-07-30T21:02:46.611110Z"
    },
    "papermill": {
     "duration": 1.996194,
     "end_time": "2025-07-30T21:02:46.613333",
     "exception": false,
     "start_time": "2025-07-30T21:02:44.617139",
     "status": "completed"
    },
    "tags": []
   },
   "outputs": [],
   "source": [
    "from fairness_multiverse.universe import UniverseAnalysis\n",
    "\n",
    "universe_analysis = UniverseAnalysis(\n",
    "    run_no = run_no,\n",
    "    universe_id = universe_id,\n",
    "    universe = universe,\n",
    "    output_dir=output_dir,\n",
    ")"
   ]
  },
  {
   "cell_type": "code",
   "execution_count": 8,
   "id": "106241f5",
   "metadata": {
    "execution": {
     "iopub.execute_input": "2025-07-30T21:02:46.636310Z",
     "iopub.status.busy": "2025-07-30T21:02:46.635764Z",
     "iopub.status.idle": "2025-07-30T21:02:46.643184Z",
     "shell.execute_reply": "2025-07-30T21:02:46.641983Z"
    },
    "papermill": {
     "duration": 0.020749,
     "end_time": "2025-07-30T21:02:46.644970",
     "exception": false,
     "start_time": "2025-07-30T21:02:46.624221",
     "status": "completed"
    },
    "tags": []
   },
   "outputs": [
    {
     "name": "stdout",
     "output_type": "stream",
     "text": [
      "Using Seed: 2023\n"
     ]
    }
   ],
   "source": [
    "import numpy as np\n",
    "parsed_seed = int(seed)\n",
    "np.random.seed(parsed_seed)\n",
    "print(f\"Using Seed: {parsed_seed}\")"
   ]
  },
  {
   "cell_type": "markdown",
   "id": "e0ebdc57",
   "metadata": {
    "papermill": {
     "duration": 0.011576,
     "end_time": "2025-07-30T21:02:46.676923",
     "exception": false,
     "start_time": "2025-07-30T21:02:46.665347",
     "status": "completed"
    },
    "tags": []
   },
   "source": [
    "# Loading Data"
   ]
  },
  {
   "cell_type": "markdown",
   "id": "681925a3",
   "metadata": {
    "papermill": {
     "duration": 0.023478,
     "end_time": "2025-07-30T21:02:46.724084",
     "exception": false,
     "start_time": "2025-07-30T21:02:46.700606",
     "status": "completed"
    },
    "tags": []
   },
   "source": [
    "Load siab_train, siab_test, siab_calib and/or \n",
    "load siab_train_features, siab_train_labels"
   ]
  },
  {
   "cell_type": "code",
   "execution_count": 9,
   "id": "f0496b8a",
   "metadata": {
    "execution": {
     "iopub.execute_input": "2025-07-30T21:02:46.761402Z",
     "iopub.status.busy": "2025-07-30T21:02:46.760942Z",
     "iopub.status.idle": "2025-07-30T21:02:59.092833Z",
     "shell.execute_reply": "2025-07-30T21:02:59.091701Z"
    },
    "papermill": {
     "duration": 12.345206,
     "end_time": "2025-07-30T21:02:59.094359",
     "exception": false,
     "start_time": "2025-07-30T21:02:46.749153",
     "status": "completed"
    },
    "tags": []
   },
   "outputs": [
    {
     "name": "stdout",
     "output_type": "stream",
     "text": [
      "Loading SIAB data from cache: data/siab_cached.csv.gz\n"
     ]
    },
    {
     "name": "stdout",
     "output_type": "stream",
     "text": [
      "(643690, 164)\n"
     ]
    }
   ],
   "source": [
    "from pathlib import Path\n",
    "import pandas as pd\n",
    "\n",
    "# File paths\n",
    "raw_file = Path(\"data/raw/siab.csv\")\n",
    "cache_file = Path(\"data/siab_cached.csv.gz\")\n",
    "\n",
    "# Ensure cache directory exists\n",
    "cache_file.parent.mkdir(parents=True, exist_ok=True)\n",
    "\n",
    "# Load with simple caching\n",
    "if cache_file.exists():\n",
    "    print(f\"Loading SIAB data from cache: {cache_file}\")\n",
    "    siab = pd.read_csv(cache_file, compression='gzip')\n",
    "else:\n",
    "    print(f\"Cache not found. Reading raw SIAB data: {raw_file}\")\n",
    "    siab = pd.read_csv(raw_file)\n",
    "    siab.to_csv(cache_file, index=False, compression='gzip')\n",
    "    print(f\"Cached SIAB data to: {cache_file}\")\n",
    "\n",
    "# Now use `siab` DataFrame as needed\n",
    "print(siab.shape)"
   ]
  },
  {
   "cell_type": "code",
   "execution_count": 10,
   "id": "db0ca512-5f53-4dba-abdb-a2888bca41ba",
   "metadata": {
    "execution": {
     "iopub.execute_input": "2025-07-30T21:02:59.143797Z",
     "iopub.status.busy": "2025-07-30T21:02:59.143216Z",
     "iopub.status.idle": "2025-07-30T21:02:59.150387Z",
     "shell.execute_reply": "2025-07-30T21:02:59.149377Z"
    },
    "papermill": {
     "duration": 0.032241,
     "end_time": "2025-07-30T21:02:59.152448",
     "exception": false,
     "start_time": "2025-07-30T21:02:59.120207",
     "status": "completed"
    },
    "tags": []
   },
   "outputs": [],
   "source": [
    "#siab"
   ]
  },
  {
   "cell_type": "code",
   "execution_count": 11,
   "id": "a0edb063",
   "metadata": {
    "execution": {
     "iopub.execute_input": "2025-07-30T21:02:59.195481Z",
     "iopub.status.busy": "2025-07-30T21:02:59.194828Z",
     "iopub.status.idle": "2025-07-30T21:02:59.200303Z",
     "shell.execute_reply": "2025-07-30T21:02:59.199000Z"
    },
    "papermill": {
     "duration": 0.029278,
     "end_time": "2025-07-30T21:02:59.203549",
     "exception": false,
     "start_time": "2025-07-30T21:02:59.174271",
     "status": "completed"
    },
    "tags": []
   },
   "outputs": [],
   "source": [
    "#import pandas as pd\n",
    "#\n",
    "#X_train = pd.read_csv(\"./data/X_train.csv\")\n",
    "#y_train = pd.read_csv(\"./data/y_train.csv\")"
   ]
  },
  {
   "cell_type": "code",
   "execution_count": 12,
   "id": "63d08085",
   "metadata": {
    "execution": {
     "iopub.execute_input": "2025-07-30T21:02:59.250758Z",
     "iopub.status.busy": "2025-07-30T21:02:59.249556Z",
     "iopub.status.idle": "2025-07-30T21:02:59.256255Z",
     "shell.execute_reply": "2025-07-30T21:02:59.255319Z"
    },
    "papermill": {
     "duration": 0.030747,
     "end_time": "2025-07-30T21:02:59.257996",
     "exception": false,
     "start_time": "2025-07-30T21:02:59.227249",
     "status": "completed"
    },
    "tags": []
   },
   "outputs": [],
   "source": [
    "#X_test = pd.read_csv(\"./data/X_test.csv\")\n",
    "#y_true = pd.read_csv(\"./data/y_test.csv\")"
   ]
  },
  {
   "cell_type": "code",
   "execution_count": 13,
   "id": "98a8d0fa-1d3d-4ed8-bb2c-281470e24add",
   "metadata": {
    "execution": {
     "iopub.execute_input": "2025-07-30T21:02:59.301976Z",
     "iopub.status.busy": "2025-07-30T21:02:59.301450Z",
     "iopub.status.idle": "2025-07-30T21:02:59.306978Z",
     "shell.execute_reply": "2025-07-30T21:02:59.306212Z"
    },
    "papermill": {
     "duration": 0.029283,
     "end_time": "2025-07-30T21:02:59.308651",
     "exception": false,
     "start_time": "2025-07-30T21:02:59.279368",
     "status": "completed"
    },
    "tags": []
   },
   "outputs": [],
   "source": [
    "# Calibration data for conformal\n",
    "#X_calib = pd.read_csv(\"./data/X_calib.csv\")\n",
    "#y_calib = pd.read_csv(\"./data/y_calib.csv\")"
   ]
  },
  {
   "cell_type": "markdown",
   "id": "997051c5-15bd-4b69-9786-c3001a3ce484",
   "metadata": {
    "papermill": {
     "duration": 0.022379,
     "end_time": "2025-07-30T21:02:59.352414",
     "exception": false,
     "start_time": "2025-07-30T21:02:59.330035",
     "status": "completed"
    },
    "tags": []
   },
   "source": [
    "# Splitting Data and Setting Training Data Size"
   ]
  },
  {
   "cell_type": "code",
   "execution_count": 14,
   "id": "e993b61f-042d-41a6-8c81-f55681f86335",
   "metadata": {
    "execution": {
     "iopub.execute_input": "2025-07-30T21:02:59.397163Z",
     "iopub.status.busy": "2025-07-30T21:02:59.396661Z",
     "iopub.status.idle": "2025-07-30T21:02:59.412576Z",
     "shell.execute_reply": "2025-07-30T21:02:59.411486Z"
    },
    "papermill": {
     "duration": 0.038274,
     "end_time": "2025-07-30T21:02:59.413927",
     "exception": false,
     "start_time": "2025-07-30T21:02:59.375653",
     "status": "completed"
    },
    "tags": []
   },
   "outputs": [],
   "source": [
    "def sample_by_year_size(df,\n",
    "                        training_year: str,\n",
    "                        training_size: str,\n",
    "                        random_state: int = 42):\n",
    "    # --- parse training_year into a list of int years ---\n",
    "    if \"_\" in training_year:\n",
    "        start_str, end_str = training_year.split(\"_\", 1)\n",
    "        start = int(start_str)\n",
    "        end   = int(end_str) if len(end_str) == 4 else (int(end_str) + (start // 100)*100)\n",
    "        years = list(range(start, end + 1))\n",
    "    else:\n",
    "        years = [int(training_year)]\n",
    "\n",
    "    df = df[df[\"year\"].isin(years)].reset_index(drop=True)\n",
    "\n",
    "    # --- map training_size to total number of samples ---\n",
    "    total_map = {\"25k\": 25_000, \"5k\": 5_000, \"1k\": 1_000}\n",
    "    if training_size not in total_map:\n",
    "        return df  # e.g. \"all\"\n",
    "\n",
    "    total_samples = total_map[training_size]\n",
    "    n_years       = len(years)\n",
    "    base          = total_samples // n_years\n",
    "    remainder     = total_samples % n_years\n",
    "\n",
    "    # --- build a dict: year -> how many to sample ---\n",
    "    # give +1 to the first `remainder` years in ascending order\n",
    "    quotas = {\n",
    "        year: base + (1 if idx < remainder else 0)\n",
    "        for idx, year in enumerate(sorted(years))\n",
    "    }\n",
    "\n",
    "    # --- sample per‐year according to the quota dict ---\n",
    "    sampled = (\n",
    "        df\n",
    "        .groupby(\"year\", group_keys=False)\n",
    "        .apply(lambda grp: grp.sample(\n",
    "            n=min(len(grp), quotas[grp.name]),\n",
    "            random_state=random_state))\n",
    "        .reset_index(drop=True)\n",
    "    )\n",
    "\n",
    "    return sampled"
   ]
  },
  {
   "cell_type": "code",
   "execution_count": 15,
   "id": "c0ccd338-0e02-41f3-a09d-f56f9266e3fb",
   "metadata": {
    "execution": {
     "iopub.execute_input": "2025-07-30T21:02:59.439685Z",
     "iopub.status.busy": "2025-07-30T21:02:59.439022Z",
     "iopub.status.idle": "2025-07-30T21:02:59.444299Z",
     "shell.execute_reply": "2025-07-30T21:02:59.443248Z"
    },
    "papermill": {
     "duration": 0.019862,
     "end_time": "2025-07-30T21:02:59.445981",
     "exception": false,
     "start_time": "2025-07-30T21:02:59.426119",
     "status": "completed"
    },
    "tags": []
   },
   "outputs": [],
   "source": [
    "#universe[\"training_size\"]"
   ]
  },
  {
   "cell_type": "code",
   "execution_count": 16,
   "id": "ca707fd7-8047-4acd-bfa5-66248fbbf8e6",
   "metadata": {
    "execution": {
     "iopub.execute_input": "2025-07-30T21:02:59.491543Z",
     "iopub.status.busy": "2025-07-30T21:02:59.491012Z",
     "iopub.status.idle": "2025-07-30T21:02:59.496276Z",
     "shell.execute_reply": "2025-07-30T21:02:59.495326Z"
    },
    "papermill": {
     "duration": 0.03103,
     "end_time": "2025-07-30T21:02:59.497973",
     "exception": false,
     "start_time": "2025-07-30T21:02:59.466943",
     "status": "completed"
    },
    "tags": []
   },
   "outputs": [],
   "source": [
    "#universe[\"training_year\"]"
   ]
  },
  {
   "cell_type": "code",
   "execution_count": 17,
   "id": "aea9c6ef-6f46-42c8-85eb-5a62025c1508",
   "metadata": {
    "execution": {
     "iopub.execute_input": "2025-07-30T21:02:59.529495Z",
     "iopub.status.busy": "2025-07-30T21:02:59.528830Z",
     "iopub.status.idle": "2025-07-30T21:03:00.157326Z",
     "shell.execute_reply": "2025-07-30T21:03:00.156215Z"
    },
    "papermill": {
     "duration": 0.643279,
     "end_time": "2025-07-30T21:03:00.159948",
     "exception": false,
     "start_time": "2025-07-30T21:02:59.516669",
     "status": "completed"
    },
    "tags": []
   },
   "outputs": [],
   "source": [
    "siab_train = sample_by_year_size(siab,\n",
    "                               training_year=universe[\"training_year\"],\n",
    "                               training_size=universe[\"training_size\"])"
   ]
  },
  {
   "cell_type": "code",
   "execution_count": 18,
   "id": "8d3afb32-789d-442c-8d5d-9f5aa8dd2eed",
   "metadata": {
    "execution": {
     "iopub.execute_input": "2025-07-30T21:03:00.227558Z",
     "iopub.status.busy": "2025-07-30T21:03:00.226760Z",
     "iopub.status.idle": "2025-07-30T21:03:00.232920Z",
     "shell.execute_reply": "2025-07-30T21:03:00.231906Z"
    },
    "papermill": {
     "duration": 0.04244,
     "end_time": "2025-07-30T21:03:00.234841",
     "exception": false,
     "start_time": "2025-07-30T21:03:00.192401",
     "status": "completed"
    },
    "tags": []
   },
   "outputs": [],
   "source": [
    "#siab_train.shape"
   ]
  },
  {
   "cell_type": "code",
   "execution_count": 19,
   "id": "d582db68-1a4c-47fb-84fc-08518dc1975a",
   "metadata": {
    "execution": {
     "iopub.execute_input": "2025-07-30T21:03:00.296910Z",
     "iopub.status.busy": "2025-07-30T21:03:00.296398Z",
     "iopub.status.idle": "2025-07-30T21:03:00.302108Z",
     "shell.execute_reply": "2025-07-30T21:03:00.300994Z"
    },
    "papermill": {
     "duration": 0.038357,
     "end_time": "2025-07-30T21:03:00.304227",
     "exception": false,
     "start_time": "2025-07-30T21:03:00.265870",
     "status": "completed"
    },
    "tags": []
   },
   "outputs": [],
   "source": [
    "#display(siab_train.groupby(\"year\").size())"
   ]
  },
  {
   "cell_type": "code",
   "execution_count": 20,
   "id": "a561edb4-d032-42cb-8256-22eac1111c64",
   "metadata": {
    "execution": {
     "iopub.execute_input": "2025-07-30T21:03:00.366171Z",
     "iopub.status.busy": "2025-07-30T21:03:00.365653Z",
     "iopub.status.idle": "2025-07-30T21:03:00.626056Z",
     "shell.execute_reply": "2025-07-30T21:03:00.625064Z"
    },
    "papermill": {
     "duration": 0.293436,
     "end_time": "2025-07-30T21:03:00.628067",
     "exception": false,
     "start_time": "2025-07-30T21:03:00.334631",
     "status": "completed"
    },
    "tags": []
   },
   "outputs": [],
   "source": [
    "#siab_train = siab_s[siab_s.year < 2015]\n",
    "siab_calib = siab[siab.year == 2015]\n",
    "siab_test = siab[siab.year == 2016]"
   ]
  },
  {
   "cell_type": "code",
   "execution_count": 21,
   "id": "472de16f-c3db-4916-846b-1f0de9cf1746",
   "metadata": {
    "execution": {
     "iopub.execute_input": "2025-07-30T21:03:00.682564Z",
     "iopub.status.busy": "2025-07-30T21:03:00.681647Z",
     "iopub.status.idle": "2025-07-30T21:03:00.692511Z",
     "shell.execute_reply": "2025-07-30T21:03:00.691255Z"
    },
    "papermill": {
     "duration": 0.036012,
     "end_time": "2025-07-30T21:03:00.694095",
     "exception": false,
     "start_time": "2025-07-30T21:03:00.658083",
     "status": "completed"
    },
    "tags": []
   },
   "outputs": [],
   "source": [
    "X_train = siab_train.iloc[:,4:164]\n",
    "y_train = siab_train.iloc[:, [3]]"
   ]
  },
  {
   "cell_type": "code",
   "execution_count": 22,
   "id": "828c96af-f43a-4ed6-ba47-8ac73a47d56c",
   "metadata": {
    "execution": {
     "iopub.execute_input": "2025-07-30T21:03:00.738042Z",
     "iopub.status.busy": "2025-07-30T21:03:00.737568Z",
     "iopub.status.idle": "2025-07-30T21:03:00.788384Z",
     "shell.execute_reply": "2025-07-30T21:03:00.787227Z"
    },
    "papermill": {
     "duration": 0.074878,
     "end_time": "2025-07-30T21:03:00.790377",
     "exception": false,
     "start_time": "2025-07-30T21:03:00.715499",
     "status": "completed"
    },
    "tags": []
   },
   "outputs": [],
   "source": [
    "X_calib = siab_calib.iloc[:,4:164]\n",
    "y_calib = siab_calib.iloc[:, [3]]"
   ]
  },
  {
   "cell_type": "code",
   "execution_count": 23,
   "id": "c34be9c3-6bd6-476e-acd3-845840e303be",
   "metadata": {
    "execution": {
     "iopub.execute_input": "2025-07-30T21:03:00.838071Z",
     "iopub.status.busy": "2025-07-30T21:03:00.837039Z",
     "iopub.status.idle": "2025-07-30T21:03:00.895602Z",
     "shell.execute_reply": "2025-07-30T21:03:00.894562Z"
    },
    "papermill": {
     "duration": 0.085575,
     "end_time": "2025-07-30T21:03:00.897839",
     "exception": false,
     "start_time": "2025-07-30T21:03:00.812264",
     "status": "completed"
    },
    "tags": []
   },
   "outputs": [],
   "source": [
    "X_test = siab_test.iloc[:,4:164]\n",
    "y_true = siab_test.iloc[:, [3]]"
   ]
  },
  {
   "cell_type": "markdown",
   "id": "9901737e-04df-44f0-9100-f5ad144ed040",
   "metadata": {
    "papermill": {
     "duration": 0.020465,
     "end_time": "2025-07-30T21:03:00.940484",
     "exception": false,
     "start_time": "2025-07-30T21:03:00.920019",
     "status": "completed"
    },
    "tags": []
   },
   "source": [
    "# Splitting Data and Setting Training Data Size OLD VERSION"
   ]
  },
  {
   "cell_type": "code",
   "execution_count": 24,
   "id": "acbc8f7d-8fc8-4e86-8c59-5dcb0f58384b",
   "metadata": {
    "execution": {
     "iopub.execute_input": "2025-07-30T21:03:00.983073Z",
     "iopub.status.busy": "2025-07-30T21:03:00.982435Z",
     "iopub.status.idle": "2025-07-30T21:03:00.988004Z",
     "shell.execute_reply": "2025-07-30T21:03:00.987081Z"
    },
    "papermill": {
     "duration": 0.028842,
     "end_time": "2025-07-30T21:03:00.989623",
     "exception": false,
     "start_time": "2025-07-30T21:03:00.960781",
     "status": "completed"
    },
    "tags": []
   },
   "outputs": [],
   "source": [
    "#def sample_by_year(df, training_size, random_state=42):\n",
    "#    if training_size == \"2014\":\n",
    "#        return df[df[\"year\"] == 2014].reset_index(drop=True)\n",
    "#    \n",
    "#    size_map = {\n",
    "#        \"25k\": 5000,\n",
    "#        \"5k\": 1000,\n",
    "#        \"1k\": 200\n",
    "#    }\n",
    "#\n",
    "#    if training_size not in size_map:\n",
    "#        return df.reset_index(drop=True)  # use all data\n",
    "#\n",
    "#    n_per_year = size_map[training_size]\n",
    "#    grouped = df.groupby(\"year\")\n",
    "#    sampled = grouped.apply(lambda x: x.sample(n=min(n_per_year, len(x)), random_state=random_state))\n",
    "#    return sampled.reset_index(drop=True)"
   ]
  },
  {
   "cell_type": "code",
   "execution_count": 25,
   "id": "6d931f52-beaf-43ff-9e78-9d44a448d54e",
   "metadata": {
    "execution": {
     "iopub.execute_input": "2025-07-30T21:03:01.035218Z",
     "iopub.status.busy": "2025-07-30T21:03:01.034735Z",
     "iopub.status.idle": "2025-07-30T21:03:01.039758Z",
     "shell.execute_reply": "2025-07-30T21:03:01.038909Z"
    },
    "papermill": {
     "duration": 0.030864,
     "end_time": "2025-07-30T21:03:01.041620",
     "exception": false,
     "start_time": "2025-07-30T21:03:01.010756",
     "status": "completed"
    },
    "tags": []
   },
   "outputs": [],
   "source": [
    "#siab_s = sample_by_year(siab, universe[\"training_size\"])"
   ]
  },
  {
   "cell_type": "code",
   "execution_count": 26,
   "id": "5db0a40e-a4e2-4920-be85-b12ae061d70d",
   "metadata": {
    "execution": {
     "iopub.execute_input": "2025-07-30T21:03:01.085460Z",
     "iopub.status.busy": "2025-07-30T21:03:01.084706Z",
     "iopub.status.idle": "2025-07-30T21:03:01.090390Z",
     "shell.execute_reply": "2025-07-30T21:03:01.089367Z"
    },
    "papermill": {
     "duration": 0.028962,
     "end_time": "2025-07-30T21:03:01.092104",
     "exception": false,
     "start_time": "2025-07-30T21:03:01.063142",
     "status": "completed"
    },
    "tags": []
   },
   "outputs": [],
   "source": [
    "#display(siab_s.groupby(\"year\").size())"
   ]
  },
  {
   "cell_type": "code",
   "execution_count": 27,
   "id": "e6c733c5",
   "metadata": {
    "execution": {
     "iopub.execute_input": "2025-07-30T21:03:01.136156Z",
     "iopub.status.busy": "2025-07-30T21:03:01.135605Z",
     "iopub.status.idle": "2025-07-30T21:03:01.248457Z",
     "shell.execute_reply": "2025-07-30T21:03:01.247435Z"
    },
    "papermill": {
     "duration": 0.137233,
     "end_time": "2025-07-30T21:03:01.250707",
     "exception": false,
     "start_time": "2025-07-30T21:03:01.113474",
     "status": "completed"
    },
    "tags": []
   },
   "outputs": [],
   "source": [
    "# Auxiliary data needed downstream in the pipeline\n",
    "\n",
    "org_train = X_train.copy()\n",
    "org_test = X_test.copy()\n",
    "org_calib = X_calib.copy()"
   ]
  },
  {
   "cell_type": "code",
   "execution_count": 28,
   "id": "1466abac-c6da-4492-a62f-4240ae3783af",
   "metadata": {
    "execution": {
     "iopub.execute_input": "2025-07-30T21:03:01.295656Z",
     "iopub.status.busy": "2025-07-30T21:03:01.295248Z",
     "iopub.status.idle": "2025-07-30T21:03:01.300831Z",
     "shell.execute_reply": "2025-07-30T21:03:01.299908Z"
    },
    "papermill": {
     "duration": 0.029984,
     "end_time": "2025-07-30T21:03:01.302489",
     "exception": false,
     "start_time": "2025-07-30T21:03:01.272505",
     "status": "completed"
    },
    "tags": []
   },
   "outputs": [],
   "source": [
    "# put in other script?\n",
    "# Group sizes\n",
    "\n",
    "#def calculate_percentages(df, df_name):\n",
    "#    total_entries = len(df)\n",
    "#\n",
    "#    female_pct = (df['frau1'] == 1).mean() * 100\n",
    "#    non_german_pct = ((df['maxdeutsch1'] == 0) & (df['maxdeutsch.Missing.'] == 0)).mean() * 100\n",
    "#    non_german_male_pct = ((df['frau1'] == 0) & (df['maxdeutsch1'] == 0) & (df['maxdeutsch.Missing.'] == 0)).mean() * 100\n",
    "#    non_german_female_pct = ((df['frau1'] == 1) & (df['maxdeutsch1'] == 0) & (df['maxdeutsch.Missing.'] == 0)).mean() * 100\n",
    "#\n",
    "#    print(f\"--- {df_name} ---\")\n",
    "#    print(f\"Female: {female_pct:.2f}%\")\n",
    "#    print(f\"Non-German: {non_german_pct:.2f}%\")\n",
    "#    print(f\"Non-German Male: {non_german_male_pct:.2f}%\")\n",
    "#    print(f\"Non-German Female: {non_german_female_pct:.2f}%\\n\")\n",
    "#\n",
    "## Calculate for each DataFrame\n",
    "#calculate_percentages(siab_calib, \"siab_calib\")\n",
    "#calculate_percentages(siab_test, \"siab_test\")\n",
    "#calculate_percentages(siab_train, \"siab_train\")"
   ]
  },
  {
   "cell_type": "markdown",
   "id": "0a4a1b33",
   "metadata": {
    "papermill": {
     "duration": 0.023166,
     "end_time": "2025-07-30T21:03:01.347514",
     "exception": false,
     "start_time": "2025-07-30T21:03:01.324348",
     "status": "completed"
    },
    "tags": []
   },
   "source": [
    "# Preprocessing Data"
   ]
  },
  {
   "cell_type": "code",
   "execution_count": 29,
   "id": "ca879031",
   "metadata": {
    "execution": {
     "iopub.execute_input": "2025-07-30T21:03:01.390531Z",
     "iopub.status.busy": "2025-07-30T21:03:01.389875Z",
     "iopub.status.idle": "2025-07-30T21:03:01.398226Z",
     "shell.execute_reply": "2025-07-30T21:03:01.397191Z"
    },
    "papermill": {
     "duration": 0.032143,
     "end_time": "2025-07-30T21:03:01.400094",
     "exception": false,
     "start_time": "2025-07-30T21:03:01.367951",
     "status": "completed"
    },
    "tags": []
   },
   "outputs": [],
   "source": [
    "# EXCLUDE PROTECTED FEATURES\n",
    "# ----------------------\n",
    "# \"exclude_features\": \"none\", # \"nationality\", \"sex\", \"nationality-sex\"\n",
    "\n",
    "excluded_features = universe[\"exclude_features\"].split(\"-\") # split, e.g.: \"nationality-sex\" -> [\"nationality\", \"sex\"]\n",
    "excluded_features_dictionary = {\n",
    "    \"nationality\": [\"maxdeutsch1\", \"maxdeutsch.Missing.\"],\n",
    "    \"sex\": [\"frau1\"],\n",
    "    \"age\": [\"age\"],\n",
    "}\n"
   ]
  },
  {
   "cell_type": "code",
   "execution_count": 30,
   "id": "b745ac60",
   "metadata": {
    "execution": {
     "iopub.execute_input": "2025-07-30T21:03:01.444869Z",
     "iopub.status.busy": "2025-07-30T21:03:01.444265Z",
     "iopub.status.idle": "2025-07-30T21:03:01.450884Z",
     "shell.execute_reply": "2025-07-30T21:03:01.449817Z"
    },
    "papermill": {
     "duration": 0.031495,
     "end_time": "2025-07-30T21:03:01.452615",
     "exception": false,
     "start_time": "2025-07-30T21:03:01.421120",
     "status": "completed"
    },
    "tags": []
   },
   "outputs": [],
   "source": [
    "# Code nice names to column names\n",
    "\n",
    "excluded_features_columns = [\n",
    "    excluded_features_dictionary[f] for f in excluded_features if len(f) > 0 and f != \"none\"\n",
    "]"
   ]
  },
  {
   "cell_type": "code",
   "execution_count": 31,
   "id": "f84f73a2",
   "metadata": {
    "execution": {
     "iopub.execute_input": "2025-07-30T21:03:01.495346Z",
     "iopub.status.busy": "2025-07-30T21:03:01.494514Z",
     "iopub.status.idle": "2025-07-30T21:03:01.500327Z",
     "shell.execute_reply": "2025-07-30T21:03:01.499530Z"
    },
    "papermill": {
     "duration": 0.039557,
     "end_time": "2025-07-30T21:03:01.513109",
     "exception": false,
     "start_time": "2025-07-30T21:03:01.473552",
     "status": "completed"
    },
    "tags": []
   },
   "outputs": [],
   "source": [
    "from utils import flatten_once\n",
    "\n",
    "excluded_features_columns = flatten_once(excluded_features_columns)"
   ]
  },
  {
   "cell_type": "code",
   "execution_count": 32,
   "id": "884dea22",
   "metadata": {
    "execution": {
     "iopub.execute_input": "2025-07-30T21:03:01.556861Z",
     "iopub.status.busy": "2025-07-30T21:03:01.556093Z",
     "iopub.status.idle": "2025-07-30T21:03:01.562457Z",
     "shell.execute_reply": "2025-07-30T21:03:01.561379Z"
    },
    "papermill": {
     "duration": 0.03049,
     "end_time": "2025-07-30T21:03:01.564117",
     "exception": false,
     "start_time": "2025-07-30T21:03:01.533627",
     "status": "completed"
    },
    "tags": []
   },
   "outputs": [],
   "source": [
    "if len(excluded_features_columns) > 0:\n",
    "    print(f\"Dropping features: {excluded_features_columns}\")\n",
    "    X_train.drop(excluded_features_columns, axis=1, inplace=True)"
   ]
  },
  {
   "cell_type": "code",
   "execution_count": 33,
   "id": "95ab8b16",
   "metadata": {
    "execution": {
     "iopub.execute_input": "2025-07-30T21:03:01.608570Z",
     "iopub.status.busy": "2025-07-30T21:03:01.608027Z",
     "iopub.status.idle": "2025-07-30T21:03:01.614039Z",
     "shell.execute_reply": "2025-07-30T21:03:01.613132Z"
    },
    "papermill": {
     "duration": 0.028685,
     "end_time": "2025-07-30T21:03:01.615761",
     "exception": false,
     "start_time": "2025-07-30T21:03:01.587076",
     "status": "completed"
    },
    "tags": []
   },
   "outputs": [],
   "source": [
    "if len(excluded_features_columns) > 0:\n",
    "    print(f\"Dropping features: {excluded_features_columns}\")\n",
    "    X_test.drop(excluded_features_columns, axis=1, inplace=True)"
   ]
  },
  {
   "cell_type": "code",
   "execution_count": 34,
   "id": "1853aaf5-fb9f-46cb-a2b5-8ea4ae2237e4",
   "metadata": {
    "execution": {
     "iopub.execute_input": "2025-07-30T21:03:01.660296Z",
     "iopub.status.busy": "2025-07-30T21:03:01.659838Z",
     "iopub.status.idle": "2025-07-30T21:03:01.665342Z",
     "shell.execute_reply": "2025-07-30T21:03:01.664394Z"
    },
    "papermill": {
     "duration": 0.028332,
     "end_time": "2025-07-30T21:03:01.666786",
     "exception": false,
     "start_time": "2025-07-30T21:03:01.638454",
     "status": "completed"
    },
    "tags": []
   },
   "outputs": [],
   "source": [
    "if len(excluded_features_columns) > 0:\n",
    "    print(f\"Dropping features: {excluded_features_columns}\")\n",
    "    X_calib.drop(excluded_features_columns, axis=1, inplace=True)"
   ]
  },
  {
   "cell_type": "code",
   "execution_count": 35,
   "id": "6727d079-03e5-481e-9d38-292a90b7a0a8",
   "metadata": {
    "execution": {
     "iopub.execute_input": "2025-07-30T21:03:01.712183Z",
     "iopub.status.busy": "2025-07-30T21:03:01.711711Z",
     "iopub.status.idle": "2025-07-30T21:03:01.716591Z",
     "shell.execute_reply": "2025-07-30T21:03:01.715640Z"
    },
    "papermill": {
     "duration": 0.02845,
     "end_time": "2025-07-30T21:03:01.718031",
     "exception": false,
     "start_time": "2025-07-30T21:03:01.689581",
     "status": "completed"
    },
    "tags": []
   },
   "outputs": [],
   "source": [
    "# SPLIT & STRATIFY DATA\n",
    "# ----------------------"
   ]
  },
  {
   "cell_type": "code",
   "execution_count": 36,
   "id": "76c4dc6d",
   "metadata": {
    "execution": {
     "iopub.execute_input": "2025-07-30T21:03:01.760618Z",
     "iopub.status.busy": "2025-07-30T21:03:01.760087Z",
     "iopub.status.idle": "2025-07-30T21:03:01.765703Z",
     "shell.execute_reply": "2025-07-30T21:03:01.764834Z"
    },
    "papermill": {
     "duration": 0.028842,
     "end_time": "2025-07-30T21:03:01.767381",
     "exception": false,
     "start_time": "2025-07-30T21:03:01.738539",
     "status": "completed"
    },
    "tags": []
   },
   "outputs": [],
   "source": [
    "# EXCLUDE CERTAIN SUBGROUPS\n",
    "# ----------------------\n",
    "\n",
    "mode = universe.get(\"exclude_subgroups\", \"keep-all\") \n",
    "# Fetches the exclude_subgroups setting from the universe dict.\n",
    "# Defaults to \"keep-all\" if the key is missing."
   ]
  },
  {
   "cell_type": "code",
   "execution_count": 37,
   "id": "21994072",
   "metadata": {
    "execution": {
     "iopub.execute_input": "2025-07-30T21:03:01.812932Z",
     "iopub.status.busy": "2025-07-30T21:03:01.812277Z",
     "iopub.status.idle": "2025-07-30T21:03:01.819059Z",
     "shell.execute_reply": "2025-07-30T21:03:01.818180Z"
    },
    "papermill": {
     "duration": 0.031701,
     "end_time": "2025-07-30T21:03:01.820563",
     "exception": false,
     "start_time": "2025-07-30T21:03:01.788862",
     "status": "completed"
    },
    "tags": []
   },
   "outputs": [],
   "source": [
    "if mode == \"keep-all\":\n",
    "    keep_mask = pd.Series(True, index=org_train.index)\n",
    "\n",
    "# org_train contains the original feature columns from features_org (in Simson)\n",
    "# features_org contains unprocessed features, for me X_train at beginning ???\n",
    "# For keep-all, creates a boolean Series (keep_mask) of all True, so no rows are removed.\n",
    "\n",
    "elif mode == \"drop-non-german\":\n",
    "    keep_mask = org_train[\"maxdeutsch1\"] == 1 # ??? what about missing values?\n",
    "\n",
    "else:\n",
    "    raise ValueError(f\"Unsupported mode for exclude_subgroups: {mode}\")\n"
   ]
  },
  {
   "cell_type": "code",
   "execution_count": 38,
   "id": "71651440",
   "metadata": {
    "execution": {
     "iopub.execute_input": "2025-07-30T21:03:01.866603Z",
     "iopub.status.busy": "2025-07-30T21:03:01.866134Z",
     "iopub.status.idle": "2025-07-30T21:03:01.873673Z",
     "shell.execute_reply": "2025-07-30T21:03:01.872541Z"
    },
    "papermill": {
     "duration": 0.032558,
     "end_time": "2025-07-30T21:03:01.875361",
     "exception": false,
     "start_time": "2025-07-30T21:03:01.842803",
     "status": "completed"
    },
    "tags": []
   },
   "outputs": [
    {
     "name": "stdout",
     "output_type": "stream",
     "text": [
      "Dropping 665 rows (13.30%) where mode='drop-non-german'\n"
     ]
    }
   ],
   "source": [
    "n_drop = (~keep_mask).sum() # Calculates how many rows are set to be dropped\n",
    "if n_drop > 0:\n",
    "    pct = n_drop / len(keep_mask) * 100\n",
    "    print(f\"Dropping {n_drop} rows ({pct:.2f}%) where mode='{mode}'\")"
   ]
  },
  {
   "cell_type": "code",
   "execution_count": 39,
   "id": "5fb8eee5",
   "metadata": {
    "execution": {
     "iopub.execute_input": "2025-07-30T21:03:01.920099Z",
     "iopub.status.busy": "2025-07-30T21:03:01.919278Z",
     "iopub.status.idle": "2025-07-30T21:03:01.926873Z",
     "shell.execute_reply": "2025-07-30T21:03:01.925997Z"
    },
    "papermill": {
     "duration": 0.031643,
     "end_time": "2025-07-30T21:03:01.928499",
     "exception": false,
     "start_time": "2025-07-30T21:03:01.896856",
     "status": "completed"
    },
    "tags": []
   },
   "outputs": [],
   "source": [
    "X_train = X_train[keep_mask]"
   ]
  },
  {
   "cell_type": "code",
   "execution_count": 40,
   "id": "b202bb3a",
   "metadata": {
    "execution": {
     "iopub.execute_input": "2025-07-30T21:03:01.973195Z",
     "iopub.status.busy": "2025-07-30T21:03:01.972750Z",
     "iopub.status.idle": "2025-07-30T21:03:01.978822Z",
     "shell.execute_reply": "2025-07-30T21:03:01.977946Z"
    },
    "papermill": {
     "duration": 0.031146,
     "end_time": "2025-07-30T21:03:01.980465",
     "exception": false,
     "start_time": "2025-07-30T21:03:01.949319",
     "status": "completed"
    },
    "tags": []
   },
   "outputs": [],
   "source": [
    "y_train = y_train[keep_mask]"
   ]
  },
  {
   "cell_type": "markdown",
   "id": "493e2ac3",
   "metadata": {
    "papermill": {
     "duration": 0.020892,
     "end_time": "2025-07-30T21:03:02.022598",
     "exception": false,
     "start_time": "2025-07-30T21:03:02.001706",
     "status": "completed"
    },
    "tags": []
   },
   "source": [
    "# Model Training"
   ]
  },
  {
   "cell_type": "code",
   "execution_count": 41,
   "id": "679e1268",
   "metadata": {
    "execution": {
     "iopub.execute_input": "2025-07-30T21:03:02.066398Z",
     "iopub.status.busy": "2025-07-30T21:03:02.065464Z",
     "iopub.status.idle": "2025-07-30T21:03:02.167451Z",
     "shell.execute_reply": "2025-07-30T21:03:02.166548Z"
    },
    "papermill": {
     "duration": 0.126085,
     "end_time": "2025-07-30T21:03:02.169340",
     "exception": false,
     "start_time": "2025-07-30T21:03:02.043255",
     "status": "completed"
    },
    "tags": []
   },
   "outputs": [],
   "source": [
    "from sklearn.linear_model import LogisticRegression\n",
    "from sklearn.ensemble import GradientBoostingClassifier, RandomForestClassifier\n",
    "\n",
    "if (universe[\"model\"] == \"logreg\"):\n",
    "    model = LogisticRegression() #penalty=\"none\") #, solver=\"newton-cg\", max_iter=1) # include random_state=19 ?\n",
    "elif (universe[\"model\"] == \"penalized_logreg\"):\n",
    "    model = LogisticRegression(penalty=\"l2\", C=1.0) #, solver=\"newton-cg\", max_iter=1)\n",
    "elif (universe[\"model\"] == \"rf\"):\n",
    "    model = RandomForestClassifier(n_estimators=100, n_jobs=-1)\n",
    "elif (universe[\"model\"] == \"gbm\"):\n",
    "    model = GradientBoostingClassifier()\n",
    "elif (universe[\"model\"] == \"elasticnet\"):\n",
    "    model = LogisticRegression(penalty = 'elasticnet', solver = 'saga', l1_ratio = 0.5, max_iter=5000) # which solver to use?\n",
    "else:\n",
    "    raise \"Unsupported universe.model\""
   ]
  },
  {
   "cell_type": "code",
   "execution_count": 42,
   "id": "0cc8f744",
   "metadata": {
    "execution": {
     "iopub.execute_input": "2025-07-30T21:03:02.217559Z",
     "iopub.status.busy": "2025-07-30T21:03:02.217066Z",
     "iopub.status.idle": "2025-07-30T21:03:02.223506Z",
     "shell.execute_reply": "2025-07-30T21:03:02.222470Z"
    },
    "papermill": {
     "duration": 0.034094,
     "end_time": "2025-07-30T21:03:02.225015",
     "exception": false,
     "start_time": "2025-07-30T21:03:02.190921",
     "status": "completed"
    },
    "tags": []
   },
   "outputs": [],
   "source": [
    "import numpy as np\n",
    "from sklearn.pipeline import Pipeline\n",
    "from sklearn.preprocessing import StandardScaler\n",
    "\n",
    "model = Pipeline([\n",
    "    #(\"continuous_processor\", continuous_processor),\n",
    "    #(\"categorical_preprocessor\", categorical_preprocessor),\n",
    "    (\"scale\", StandardScaler() if universe[\"scale\"] == \"scale\" else None), \n",
    "    (\"model\", model),\n",
    "])"
   ]
  },
  {
   "cell_type": "code",
   "execution_count": 43,
   "id": "9442c04d",
   "metadata": {
    "execution": {
     "iopub.execute_input": "2025-07-30T21:03:02.268231Z",
     "iopub.status.busy": "2025-07-30T21:03:02.267788Z",
     "iopub.status.idle": "2025-07-30T21:03:02.385431Z",
     "shell.execute_reply": "2025-07-30T21:03:02.384453Z"
    },
    "papermill": {
     "duration": 0.14125,
     "end_time": "2025-07-30T21:03:02.387578",
     "exception": false,
     "start_time": "2025-07-30T21:03:02.246328",
     "status": "completed"
    },
    "tags": []
   },
   "outputs": [
    {
     "name": "stderr",
     "output_type": "stream",
     "text": [
      "/dss/dsshome1/0C/ra93lal2/.local/share/virtualenvs/CMA_Fairness_v2-3j10GkSs/lib/python3.10/site-packages/sklearn/linear_model/_logistic.py:444: ConvergenceWarning: lbfgs failed to converge (status=1):\n",
      "STOP: TOTAL NO. of ITERATIONS REACHED LIMIT.\n",
      "\n",
      "Increase the number of iterations (max_iter) or scale the data as shown in:\n",
      "    https://scikit-learn.org/stable/modules/preprocessing.html\n",
      "Please also refer to the documentation for alternative solver options:\n",
      "    https://scikit-learn.org/stable/modules/linear_model.html#logistic-regression\n",
      "  n_iter_i = _check_optimize_result(\n"
     ]
    },
    {
     "data": {
      "text/html": [
       "<style>#sk-container-id-1 {color: black;background-color: white;}#sk-container-id-1 pre{padding: 0;}#sk-container-id-1 div.sk-toggleable {background-color: white;}#sk-container-id-1 label.sk-toggleable__label {cursor: pointer;display: block;width: 100%;margin-bottom: 0;padding: 0.3em;box-sizing: border-box;text-align: center;}#sk-container-id-1 label.sk-toggleable__label-arrow:before {content: \"▸\";float: left;margin-right: 0.25em;color: #696969;}#sk-container-id-1 label.sk-toggleable__label-arrow:hover:before {color: black;}#sk-container-id-1 div.sk-estimator:hover label.sk-toggleable__label-arrow:before {color: black;}#sk-container-id-1 div.sk-toggleable__content {max-height: 0;max-width: 0;overflow: hidden;text-align: left;background-color: #f0f8ff;}#sk-container-id-1 div.sk-toggleable__content pre {margin: 0.2em;color: black;border-radius: 0.25em;background-color: #f0f8ff;}#sk-container-id-1 input.sk-toggleable__control:checked~div.sk-toggleable__content {max-height: 200px;max-width: 100%;overflow: auto;}#sk-container-id-1 input.sk-toggleable__control:checked~label.sk-toggleable__label-arrow:before {content: \"▾\";}#sk-container-id-1 div.sk-estimator input.sk-toggleable__control:checked~label.sk-toggleable__label {background-color: #d4ebff;}#sk-container-id-1 div.sk-label input.sk-toggleable__control:checked~label.sk-toggleable__label {background-color: #d4ebff;}#sk-container-id-1 input.sk-hidden--visually {border: 0;clip: rect(1px 1px 1px 1px);clip: rect(1px, 1px, 1px, 1px);height: 1px;margin: -1px;overflow: hidden;padding: 0;position: absolute;width: 1px;}#sk-container-id-1 div.sk-estimator {font-family: monospace;background-color: #f0f8ff;border: 1px dotted black;border-radius: 0.25em;box-sizing: border-box;margin-bottom: 0.5em;}#sk-container-id-1 div.sk-estimator:hover {background-color: #d4ebff;}#sk-container-id-1 div.sk-parallel-item::after {content: \"\";width: 100%;border-bottom: 1px solid gray;flex-grow: 1;}#sk-container-id-1 div.sk-label:hover label.sk-toggleable__label {background-color: #d4ebff;}#sk-container-id-1 div.sk-serial::before {content: \"\";position: absolute;border-left: 1px solid gray;box-sizing: border-box;top: 0;bottom: 0;left: 50%;z-index: 0;}#sk-container-id-1 div.sk-serial {display: flex;flex-direction: column;align-items: center;background-color: white;padding-right: 0.2em;padding-left: 0.2em;position: relative;}#sk-container-id-1 div.sk-item {position: relative;z-index: 1;}#sk-container-id-1 div.sk-parallel {display: flex;align-items: stretch;justify-content: center;background-color: white;position: relative;}#sk-container-id-1 div.sk-item::before, #sk-container-id-1 div.sk-parallel-item::before {content: \"\";position: absolute;border-left: 1px solid gray;box-sizing: border-box;top: 0;bottom: 0;left: 50%;z-index: -1;}#sk-container-id-1 div.sk-parallel-item {display: flex;flex-direction: column;z-index: 1;position: relative;background-color: white;}#sk-container-id-1 div.sk-parallel-item:first-child::after {align-self: flex-end;width: 50%;}#sk-container-id-1 div.sk-parallel-item:last-child::after {align-self: flex-start;width: 50%;}#sk-container-id-1 div.sk-parallel-item:only-child::after {width: 0;}#sk-container-id-1 div.sk-dashed-wrapped {border: 1px dashed gray;margin: 0 0.4em 0.5em 0.4em;box-sizing: border-box;padding-bottom: 0.4em;background-color: white;}#sk-container-id-1 div.sk-label label {font-family: monospace;font-weight: bold;display: inline-block;line-height: 1.2em;}#sk-container-id-1 div.sk-label-container {text-align: center;}#sk-container-id-1 div.sk-container {/* jupyter's `normalize.less` sets `[hidden] { display: none; }` but bootstrap.min.css set `[hidden] { display: none !important; }` so we also need the `!important` here to be able to override the default hidden behavior on the sphinx rendered scikit-learn.org. See: https://github.com/scikit-learn/scikit-learn/issues/21755 */display: inline-block !important;position: relative;}#sk-container-id-1 div.sk-text-repr-fallback {display: none;}</style><div id=\"sk-container-id-1\" class=\"sk-top-container\"><div class=\"sk-text-repr-fallback\"><pre>Pipeline(steps=[(&#x27;scale&#x27;, None), (&#x27;model&#x27;, LogisticRegression())])</pre><b>In a Jupyter environment, please rerun this cell to show the HTML representation or trust the notebook. <br />On GitHub, the HTML representation is unable to render, please try loading this page with nbviewer.org.</b></div><div class=\"sk-container\" hidden><div class=\"sk-item sk-dashed-wrapped\"><div class=\"sk-label-container\"><div class=\"sk-label sk-toggleable\"><input class=\"sk-toggleable__control sk-hidden--visually\" id=\"sk-estimator-id-1\" type=\"checkbox\" ><label for=\"sk-estimator-id-1\" class=\"sk-toggleable__label sk-toggleable__label-arrow\">Pipeline</label><div class=\"sk-toggleable__content\"><pre>Pipeline(steps=[(&#x27;scale&#x27;, None), (&#x27;model&#x27;, LogisticRegression())])</pre></div></div></div><div class=\"sk-serial\"><div class=\"sk-item\"><div class=\"sk-estimator sk-toggleable\"><input class=\"sk-toggleable__control sk-hidden--visually\" id=\"sk-estimator-id-2\" type=\"checkbox\" ><label for=\"sk-estimator-id-2\" class=\"sk-toggleable__label sk-toggleable__label-arrow\">None</label><div class=\"sk-toggleable__content\"><pre>None</pre></div></div></div><div class=\"sk-item\"><div class=\"sk-estimator sk-toggleable\"><input class=\"sk-toggleable__control sk-hidden--visually\" id=\"sk-estimator-id-3\" type=\"checkbox\" ><label for=\"sk-estimator-id-3\" class=\"sk-toggleable__label sk-toggleable__label-arrow\">LogisticRegression</label><div class=\"sk-toggleable__content\"><pre>LogisticRegression()</pre></div></div></div></div></div></div></div>"
      ],
      "text/plain": [
       "Pipeline(steps=[('scale', None), ('model', LogisticRegression())])"
      ]
     },
     "execution_count": 43,
     "metadata": {},
     "output_type": "execute_result"
    }
   ],
   "source": [
    "model.fit(X_train, y_train.values.ravel())"
   ]
  },
  {
   "cell_type": "code",
   "execution_count": 44,
   "id": "af59f8c0",
   "metadata": {
    "execution": {
     "iopub.execute_input": "2025-07-30T21:03:02.443579Z",
     "iopub.status.busy": "2025-07-30T21:03:02.443203Z",
     "iopub.status.idle": "2025-07-30T21:03:02.448239Z",
     "shell.execute_reply": "2025-07-30T21:03:02.447330Z"
    },
    "papermill": {
     "duration": 0.031515,
     "end_time": "2025-07-30T21:03:02.449935",
     "exception": false,
     "start_time": "2025-07-30T21:03:02.418420",
     "status": "completed"
    },
    "tags": []
   },
   "outputs": [],
   "source": [
    "from fairness_multiverse.universe import predict_w_threshold"
   ]
  },
  {
   "cell_type": "code",
   "execution_count": 45,
   "id": "a7cf2e16",
   "metadata": {
    "execution": {
     "iopub.execute_input": "2025-07-30T21:03:02.496883Z",
     "iopub.status.busy": "2025-07-30T21:03:02.495943Z",
     "iopub.status.idle": "2025-07-30T21:03:02.591056Z",
     "shell.execute_reply": "2025-07-30T21:03:02.590178Z"
    },
    "papermill": {
     "duration": 0.121183,
     "end_time": "2025-07-30T21:03:02.592724",
     "exception": false,
     "start_time": "2025-07-30T21:03:02.471541",
     "status": "completed"
    },
    "tags": []
   },
   "outputs": [
    {
     "data": {
      "text/plain": [
       "0.862345334968231"
      ]
     },
     "execution_count": 45,
     "metadata": {},
     "output_type": "execute_result"
    }
   ],
   "source": [
    "probs_test = model.predict_proba(X_test)\n",
    "\n",
    "'''\n",
    "Below code returns a boolean array (or binary 0/1 array depending on how it’s used) where each element \n",
    "is True if the probability of class 1 is greater than or equal to the threshold, and False otherwise.\n",
    "'''\n",
    "y_pred_default = predict_w_threshold(probs_test, 0.5)\n",
    "\n",
    "from sklearn.metrics import accuracy_score\n",
    "\n",
    "# Naive prediction\n",
    "accuracy_score(y_true = y_true, y_pred = y_pred_default)"
   ]
  },
  {
   "cell_type": "code",
   "execution_count": 46,
   "id": "081964c3",
   "metadata": {
    "execution": {
     "iopub.execute_input": "2025-07-30T21:03:02.641773Z",
     "iopub.status.busy": "2025-07-30T21:03:02.641118Z",
     "iopub.status.idle": "2025-07-30T21:03:02.730367Z",
     "shell.execute_reply": "2025-07-30T21:03:02.729450Z"
    },
    "papermill": {
     "duration": 0.114746,
     "end_time": "2025-07-30T21:03:02.731921",
     "exception": false,
     "start_time": "2025-07-30T21:03:02.617175",
     "status": "completed"
    },
    "tags": []
   },
   "outputs": [
    {
     "data": {
      "text/plain": [
       "array([0, 0, 0, ..., 0, 0, 0])"
      ]
     },
     "execution_count": 46,
     "metadata": {},
     "output_type": "execute_result"
    }
   ],
   "source": [
    "model.predict(X_test)"
   ]
  },
  {
   "cell_type": "markdown",
   "id": "56c9705b",
   "metadata": {
    "papermill": {
     "duration": 0.023182,
     "end_time": "2025-07-30T21:03:02.777584",
     "exception": false,
     "start_time": "2025-07-30T21:03:02.754402",
     "status": "completed"
    },
    "tags": []
   },
   "source": [
    "# Conformal Prediction"
   ]
  },
  {
   "cell_type": "code",
   "execution_count": 47,
   "id": "160ec6ff",
   "metadata": {
    "execution": {
     "iopub.execute_input": "2025-07-30T21:03:02.822573Z",
     "iopub.status.busy": "2025-07-30T21:03:02.821967Z",
     "iopub.status.idle": "2025-07-30T21:03:02.828439Z",
     "shell.execute_reply": "2025-07-30T21:03:02.826364Z"
    },
    "papermill": {
     "duration": 0.030648,
     "end_time": "2025-07-30T21:03:02.830147",
     "exception": false,
     "start_time": "2025-07-30T21:03:02.799499",
     "status": "completed"
    },
    "tags": []
   },
   "outputs": [],
   "source": [
    "# Miscoverage level for conformal prediction (10% allowed error rate => 90% target coverage)\n",
    "alpha = 0.1"
   ]
  },
  {
   "cell_type": "code",
   "execution_count": 48,
   "id": "eadf4555-3dd3-440e-8e35-f82a4ad9f855",
   "metadata": {
    "execution": {
     "iopub.execute_input": "2025-07-30T21:03:02.880827Z",
     "iopub.status.busy": "2025-07-30T21:03:02.880161Z",
     "iopub.status.idle": "2025-07-30T21:03:02.961448Z",
     "shell.execute_reply": "2025-07-30T21:03:02.960478Z"
    },
    "papermill": {
     "duration": 0.108093,
     "end_time": "2025-07-30T21:03:02.963393",
     "exception": false,
     "start_time": "2025-07-30T21:03:02.855300",
     "status": "completed"
    },
    "tags": []
   },
   "outputs": [],
   "source": [
    "probs_calib = model.predict_proba(X_calib)"
   ]
  },
  {
   "cell_type": "code",
   "execution_count": 49,
   "id": "2ed93547-6d5d-4983-9b36-1ecb300da49a",
   "metadata": {
    "execution": {
     "iopub.execute_input": "2025-07-30T21:03:03.013461Z",
     "iopub.status.busy": "2025-07-30T21:03:03.012940Z",
     "iopub.status.idle": "2025-07-30T21:03:03.018687Z",
     "shell.execute_reply": "2025-07-30T21:03:03.017750Z"
    },
    "papermill": {
     "duration": 0.03385,
     "end_time": "2025-07-30T21:03:03.020845",
     "exception": false,
     "start_time": "2025-07-30T21:03:02.986995",
     "status": "completed"
    },
    "tags": []
   },
   "outputs": [],
   "source": [
    "y_calib = y_calib.values.ravel().astype(int)"
   ]
  },
  {
   "cell_type": "code",
   "execution_count": 50,
   "id": "65d1320d-f588-4b38-9072-62af1ae97f7d",
   "metadata": {
    "execution": {
     "iopub.execute_input": "2025-07-30T21:03:03.071623Z",
     "iopub.status.busy": "2025-07-30T21:03:03.070963Z",
     "iopub.status.idle": "2025-07-30T21:03:03.078764Z",
     "shell.execute_reply": "2025-07-30T21:03:03.077745Z"
    },
    "papermill": {
     "duration": 0.034653,
     "end_time": "2025-07-30T21:03:03.080533",
     "exception": false,
     "start_time": "2025-07-30T21:03:03.045880",
     "status": "completed"
    },
    "tags": []
   },
   "outputs": [],
   "source": [
    "from fairness_multiverse.conformal import compute_nc_scores\n",
    "\n",
    "# Compute nonconformity scores on calibration set (1 - probability of true class)\n",
    "nc_scores = compute_nc_scores(probs_calib, y_calib)"
   ]
  },
  {
   "cell_type": "code",
   "execution_count": 51,
   "id": "df3b8ca3-53b7-43d5-9667-7c85da7aeda2",
   "metadata": {
    "execution": {
     "iopub.execute_input": "2025-07-30T21:03:03.130520Z",
     "iopub.status.busy": "2025-07-30T21:03:03.129868Z",
     "iopub.status.idle": "2025-07-30T21:03:03.137239Z",
     "shell.execute_reply": "2025-07-30T21:03:03.136246Z"
    },
    "papermill": {
     "duration": 0.033392,
     "end_time": "2025-07-30T21:03:03.138984",
     "exception": false,
     "start_time": "2025-07-30T21:03:03.105592",
     "status": "completed"
    },
    "tags": []
   },
   "outputs": [],
   "source": [
    "from fairness_multiverse.conformal import find_threshold\n",
    "\n",
    "# Find conformal threshold q_hat for the given alpha (split conformal method)\n",
    "q_hat = find_threshold(nc_scores, alpha)"
   ]
  },
  {
   "cell_type": "code",
   "execution_count": 52,
   "id": "4d29e6c1-0ef6-4aa4-b8fe-4fe79b0d033a",
   "metadata": {
    "execution": {
     "iopub.execute_input": "2025-07-30T21:03:03.188263Z",
     "iopub.status.busy": "2025-07-30T21:03:03.187769Z",
     "iopub.status.idle": "2025-07-30T21:03:03.194519Z",
     "shell.execute_reply": "2025-07-30T21:03:03.193486Z"
    },
    "papermill": {
     "duration": 0.032355,
     "end_time": "2025-07-30T21:03:03.195915",
     "exception": false,
     "start_time": "2025-07-30T21:03:03.163560",
     "status": "completed"
    },
    "tags": []
   },
   "outputs": [
    {
     "data": {
      "text/plain": [
       "0.6782065653452044"
      ]
     },
     "execution_count": 52,
     "metadata": {},
     "output_type": "execute_result"
    }
   ],
   "source": [
    "q_hat"
   ]
  },
  {
   "cell_type": "code",
   "execution_count": 53,
   "id": "92460794-cdac-4be2-ba28-f28c0515a6fb",
   "metadata": {
    "execution": {
     "iopub.execute_input": "2025-07-30T21:03:03.245580Z",
     "iopub.status.busy": "2025-07-30T21:03:03.245186Z",
     "iopub.status.idle": "2025-07-30T21:03:04.038533Z",
     "shell.execute_reply": "2025-07-30T21:03:04.037625Z"
    },
    "papermill": {
     "duration": 0.821494,
     "end_time": "2025-07-30T21:03:04.040479",
     "exception": false,
     "start_time": "2025-07-30T21:03:03.218985",
     "status": "completed"
    },
    "tags": []
   },
   "outputs": [],
   "source": [
    "from fairness_multiverse.conformal import predict_conformal_sets\n",
    "\n",
    "# Generate prediction sets for each test example\n",
    "pred_sets = predict_conformal_sets(model, X_test, q_hat)"
   ]
  },
  {
   "cell_type": "code",
   "execution_count": 54,
   "id": "d90c9a65-e6db-4f5d-80cd-e68fb7e46829",
   "metadata": {
    "execution": {
     "iopub.execute_input": "2025-07-30T21:03:04.091475Z",
     "iopub.status.busy": "2025-07-30T21:03:04.090745Z",
     "iopub.status.idle": "2025-07-30T21:03:04.098002Z",
     "shell.execute_reply": "2025-07-30T21:03:04.096897Z"
    },
    "papermill": {
     "duration": 0.034976,
     "end_time": "2025-07-30T21:03:04.099579",
     "exception": false,
     "start_time": "2025-07-30T21:03:04.064603",
     "status": "completed"
    },
    "tags": []
   },
   "outputs": [],
   "source": [
    "y_true = y_true.squeeze()"
   ]
  },
  {
   "cell_type": "code",
   "execution_count": 55,
   "id": "3a58a54a-1e68-46b9-927a-df01f18aebc8",
   "metadata": {
    "execution": {
     "iopub.execute_input": "2025-07-30T21:03:04.149190Z",
     "iopub.status.busy": "2025-07-30T21:03:04.148532Z",
     "iopub.status.idle": "2025-07-30T21:03:05.104344Z",
     "shell.execute_reply": "2025-07-30T21:03:05.103388Z"
    },
    "papermill": {
     "duration": 0.982008,
     "end_time": "2025-07-30T21:03:05.106084",
     "exception": false,
     "start_time": "2025-07-30T21:03:04.124076",
     "status": "completed"
    },
    "tags": []
   },
   "outputs": [],
   "source": [
    "from fairness_multiverse.conformal import evaluate_sets\n",
    "\n",
    "# Evaluate coverage and average set size on test data\n",
    "metrics = evaluate_sets(pred_sets, y_true)"
   ]
  },
  {
   "cell_type": "markdown",
   "id": "2b569c12-9aaa-4c88-98c9-bbcd0cf3ebb8",
   "metadata": {
    "papermill": {
     "duration": 0.027343,
     "end_time": "2025-07-30T21:03:05.157525",
     "exception": false,
     "start_time": "2025-07-30T21:03:05.130182",
     "status": "completed"
    },
    "tags": []
   },
   "source": [
    "# CP Metrics"
   ]
  },
  {
   "cell_type": "code",
   "execution_count": 56,
   "id": "5ce0a5cb-201f-45a0-ade5-94c7f0bd6095",
   "metadata": {
    "execution": {
     "iopub.execute_input": "2025-07-30T21:03:05.206286Z",
     "iopub.status.busy": "2025-07-30T21:03:05.205767Z",
     "iopub.status.idle": "2025-07-30T21:03:05.213477Z",
     "shell.execute_reply": "2025-07-30T21:03:05.212405Z"
    },
    "papermill": {
     "duration": 0.033931,
     "end_time": "2025-07-30T21:03:05.214955",
     "exception": false,
     "start_time": "2025-07-30T21:03:05.181024",
     "status": "completed"
    },
    "tags": []
   },
   "outputs": [
    {
     "data": {
      "text/plain": [
       "{'coverage': 0.9116486456359381, 'avg_size': 1.2107680303199198}"
      ]
     },
     "execution_count": 56,
     "metadata": {},
     "output_type": "execute_result"
    }
   ],
   "source": [
    "metrics"
   ]
  },
  {
   "cell_type": "code",
   "execution_count": 57,
   "id": "9b9a838d-31c9-430b-ae14-12baee460d17",
   "metadata": {
    "execution": {
     "iopub.execute_input": "2025-07-30T21:03:05.265385Z",
     "iopub.status.busy": "2025-07-30T21:03:05.264947Z",
     "iopub.status.idle": "2025-07-30T21:03:05.271868Z",
     "shell.execute_reply": "2025-07-30T21:03:05.270944Z"
    },
    "papermill": {
     "duration": 0.034109,
     "end_time": "2025-07-30T21:03:05.273386",
     "exception": false,
     "start_time": "2025-07-30T21:03:05.239277",
     "status": "completed"
    },
    "tags": []
   },
   "outputs": [],
   "source": [
    "example_universe = universe.copy()\n",
    "universe_training_year = example_universe.get(\"training_year\")\n",
    "universe_training_size = example_universe.get(\"training_size\")\n",
    "universe_scale = example_universe.get(\"scale\")\n",
    "universe_model = example_universe.get(\"model\")\n",
    "universe_exclude_features = example_universe.get(\"exclude_features\")\n",
    "universe_exclude_subgroups = example_universe.get(\"exclude_subgroups\")"
   ]
  },
  {
   "cell_type": "code",
   "execution_count": 58,
   "id": "f4b6a8ac-9dc0-4245-8a91-5b3b5999c4f9",
   "metadata": {
    "execution": {
     "iopub.execute_input": "2025-07-30T21:03:05.397336Z",
     "iopub.status.busy": "2025-07-30T21:03:05.396834Z",
     "iopub.status.idle": "2025-07-30T21:03:05.404058Z",
     "shell.execute_reply": "2025-07-30T21:03:05.402942Z"
    },
    "papermill": {
     "duration": 0.106031,
     "end_time": "2025-07-30T21:03:05.406033",
     "exception": false,
     "start_time": "2025-07-30T21:03:05.300002",
     "status": "completed"
    },
    "tags": []
   },
   "outputs": [],
   "source": [
    "cp_metrics_dict = {\n",
    "    \"universe_id\": [universe_id],\n",
    "    \"universe_training_year\": [universe_training_year],\n",
    "    \"universe_training_size\": [universe_training_size],\n",
    "    \"universe_scale\": [universe_scale],\n",
    "    \"universe_model\": [universe_model],\n",
    "    \"universe_exclude_features\": [universe_exclude_features],\n",
    "    \"universe_exclude_subgroups\": [universe_exclude_subgroups],\n",
    "    \"q_hat\": [q_hat],\n",
    "    \"coverage\": [metrics[\"coverage\"]],\n",
    "    \"avg_size\": [metrics[\"avg_size\"]],\n",
    "}"
   ]
  },
  {
   "cell_type": "code",
   "execution_count": 59,
   "id": "908acbb1-0371-4915-85ca-3fa520d2efe2",
   "metadata": {
    "execution": {
     "iopub.execute_input": "2025-07-30T21:03:05.457344Z",
     "iopub.status.busy": "2025-07-30T21:03:05.456203Z",
     "iopub.status.idle": "2025-07-30T21:03:05.464439Z",
     "shell.execute_reply": "2025-07-30T21:03:05.463354Z"
    },
    "papermill": {
     "duration": 0.036062,
     "end_time": "2025-07-30T21:03:05.465935",
     "exception": false,
     "start_time": "2025-07-30T21:03:05.429873",
     "status": "completed"
    },
    "tags": []
   },
   "outputs": [
    {
     "data": {
      "text/plain": [
       "{'universe_id': ['9bda886fc2507c850b644e50e90aff0b'],\n",
       " 'universe_training_year': ['2012_14'],\n",
       " 'universe_training_size': ['5k'],\n",
       " 'universe_scale': ['do-not-scale'],\n",
       " 'universe_model': ['logreg'],\n",
       " 'universe_exclude_features': ['none'],\n",
       " 'universe_exclude_subgroups': ['drop-non-german'],\n",
       " 'q_hat': [0.6782065653452044],\n",
       " 'coverage': [0.9116486456359381],\n",
       " 'avg_size': [1.2107680303199198]}"
      ]
     },
     "execution_count": 59,
     "metadata": {},
     "output_type": "execute_result"
    }
   ],
   "source": [
    "cp_metrics_dict"
   ]
  },
  {
   "cell_type": "code",
   "execution_count": 60,
   "id": "33007efc-14e9-4ec6-97ac-56a455c82265",
   "metadata": {
    "execution": {
     "iopub.execute_input": "2025-07-30T21:03:05.516168Z",
     "iopub.status.busy": "2025-07-30T21:03:05.515352Z",
     "iopub.status.idle": "2025-07-30T21:03:05.521576Z",
     "shell.execute_reply": "2025-07-30T21:03:05.520686Z"
    },
    "papermill": {
     "duration": 0.032979,
     "end_time": "2025-07-30T21:03:05.523066",
     "exception": false,
     "start_time": "2025-07-30T21:03:05.490087",
     "status": "completed"
    },
    "tags": []
   },
   "outputs": [],
   "source": [
    "cp_metrics_df = pd.DataFrame(cp_metrics_dict)"
   ]
  },
  {
   "cell_type": "code",
   "execution_count": 61,
   "id": "db12611b-57b2-4910-b9d0-355adfd6e7bf",
   "metadata": {
    "execution": {
     "iopub.execute_input": "2025-07-30T21:03:05.572844Z",
     "iopub.status.busy": "2025-07-30T21:03:05.572086Z",
     "iopub.status.idle": "2025-07-30T21:03:05.590248Z",
     "shell.execute_reply": "2025-07-30T21:03:05.589187Z"
    },
    "papermill": {
     "duration": 0.045168,
     "end_time": "2025-07-30T21:03:05.591945",
     "exception": false,
     "start_time": "2025-07-30T21:03:05.546777",
     "status": "completed"
    },
    "tags": []
   },
   "outputs": [
    {
     "data": {
      "text/html": [
       "<div>\n",
       "<style scoped>\n",
       "    .dataframe tbody tr th:only-of-type {\n",
       "        vertical-align: middle;\n",
       "    }\n",
       "\n",
       "    .dataframe tbody tr th {\n",
       "        vertical-align: top;\n",
       "    }\n",
       "\n",
       "    .dataframe thead th {\n",
       "        text-align: right;\n",
       "    }\n",
       "</style>\n",
       "<table border=\"1\" class=\"dataframe\">\n",
       "  <thead>\n",
       "    <tr style=\"text-align: right;\">\n",
       "      <th></th>\n",
       "      <th>universe_id</th>\n",
       "      <th>universe_training_year</th>\n",
       "      <th>universe_training_size</th>\n",
       "      <th>universe_scale</th>\n",
       "      <th>universe_model</th>\n",
       "      <th>universe_exclude_features</th>\n",
       "      <th>universe_exclude_subgroups</th>\n",
       "      <th>q_hat</th>\n",
       "      <th>coverage</th>\n",
       "      <th>avg_size</th>\n",
       "    </tr>\n",
       "  </thead>\n",
       "  <tbody>\n",
       "    <tr>\n",
       "      <th>0</th>\n",
       "      <td>9bda886fc2507c850b644e50e90aff0b</td>\n",
       "      <td>2012_14</td>\n",
       "      <td>5k</td>\n",
       "      <td>do-not-scale</td>\n",
       "      <td>logreg</td>\n",
       "      <td>none</td>\n",
       "      <td>drop-non-german</td>\n",
       "      <td>0.678207</td>\n",
       "      <td>0.911649</td>\n",
       "      <td>1.210768</td>\n",
       "    </tr>\n",
       "  </tbody>\n",
       "</table>\n",
       "</div>"
      ],
      "text/plain": [
       "                        universe_id universe_training_year  \\\n",
       "0  9bda886fc2507c850b644e50e90aff0b                2012_14   \n",
       "\n",
       "  universe_training_size universe_scale universe_model  \\\n",
       "0                     5k   do-not-scale         logreg   \n",
       "\n",
       "  universe_exclude_features universe_exclude_subgroups     q_hat  coverage  \\\n",
       "0                      none            drop-non-german  0.678207  0.911649   \n",
       "\n",
       "   avg_size  \n",
       "0  1.210768  "
      ]
     },
     "execution_count": 61,
     "metadata": {},
     "output_type": "execute_result"
    }
   ],
   "source": [
    "cp_metrics_df"
   ]
  },
  {
   "cell_type": "code",
   "execution_count": 62,
   "id": "b7fbde55-a0a1-47e4-9af6-fe4a17fa8c61",
   "metadata": {
    "execution": {
     "iopub.execute_input": "2025-07-30T21:03:05.646263Z",
     "iopub.status.busy": "2025-07-30T21:03:05.645549Z",
     "iopub.status.idle": "2025-07-30T21:03:05.650955Z",
     "shell.execute_reply": "2025-07-30T21:03:05.649976Z"
    },
    "papermill": {
     "duration": 0.03362,
     "end_time": "2025-07-30T21:03:05.652600",
     "exception": false,
     "start_time": "2025-07-30T21:03:05.618980",
     "status": "completed"
    },
    "tags": []
   },
   "outputs": [],
   "source": [
    "# Conditional Coverage & looking at subgroups"
   ]
  },
  {
   "cell_type": "code",
   "execution_count": 63,
   "id": "027ae886-68dd-4141-96c7-805a5450e1ef",
   "metadata": {
    "execution": {
     "iopub.execute_input": "2025-07-30T21:03:05.706791Z",
     "iopub.status.busy": "2025-07-30T21:03:05.706344Z",
     "iopub.status.idle": "2025-07-30T21:03:05.976155Z",
     "shell.execute_reply": "2025-07-30T21:03:05.975154Z"
    },
    "papermill": {
     "duration": 0.299908,
     "end_time": "2025-07-30T21:03:05.978129",
     "exception": false,
     "start_time": "2025-07-30T21:03:05.678221",
     "status": "completed"
    },
    "tags": []
   },
   "outputs": [],
   "source": [
    "from fairness_multiverse.conformal import build_cp_groups\n",
    "\n",
    "cp_groups_df = build_cp_groups(pred_sets, y_true, X_test.index, org_test)\n",
    "#needs universe_id and setting"
   ]
  },
  {
   "cell_type": "code",
   "execution_count": 64,
   "id": "01d5802c-663a-4d1f-9d69-e036faaffbf7",
   "metadata": {
    "execution": {
     "iopub.execute_input": "2025-07-30T21:03:06.033156Z",
     "iopub.status.busy": "2025-07-30T21:03:06.032449Z",
     "iopub.status.idle": "2025-07-30T21:03:06.037368Z",
     "shell.execute_reply": "2025-07-30T21:03:06.036432Z"
    },
    "papermill": {
     "duration": 0.035111,
     "end_time": "2025-07-30T21:03:06.039154",
     "exception": false,
     "start_time": "2025-07-30T21:03:06.004043",
     "status": "completed"
    },
    "tags": []
   },
   "outputs": [],
   "source": [
    "#delete\n",
    "#cp_groups_df"
   ]
  },
  {
   "cell_type": "code",
   "execution_count": 65,
   "id": "fa424af1-d1eb-443d-b717-2d279ada8408",
   "metadata": {
    "execution": {
     "iopub.execute_input": "2025-07-30T21:03:06.094525Z",
     "iopub.status.busy": "2025-07-30T21:03:06.094043Z",
     "iopub.status.idle": "2025-07-30T21:03:06.099443Z",
     "shell.execute_reply": "2025-07-30T21:03:06.098563Z"
    },
    "papermill": {
     "duration": 0.033838,
     "end_time": "2025-07-30T21:03:06.101136",
     "exception": false,
     "start_time": "2025-07-30T21:03:06.067298",
     "status": "completed"
    },
    "tags": []
   },
   "outputs": [],
   "source": [
    "#delete\n",
    "#percentage = (cp_groups_df['nongerman_female'] == 1).mean() * 100\n",
    "#print(percentage)\n"
   ]
  },
  {
   "cell_type": "code",
   "execution_count": 66,
   "id": "6cbdab96-b2b2-45af-ad54-d0516db2e28d",
   "metadata": {
    "execution": {
     "iopub.execute_input": "2025-07-30T21:03:06.157026Z",
     "iopub.status.busy": "2025-07-30T21:03:06.156117Z",
     "iopub.status.idle": "2025-07-30T21:03:07.782367Z",
     "shell.execute_reply": "2025-07-30T21:03:07.781476Z"
    },
    "papermill": {
     "duration": 1.655515,
     "end_time": "2025-07-30T21:03:07.784197",
     "exception": false,
     "start_time": "2025-07-30T21:03:06.128682",
     "status": "completed"
    },
    "tags": []
   },
   "outputs": [],
   "source": [
    "# Define covered = 1 if true_label is in the predicted set\n",
    "cp_groups_df['covered'] = cp_groups_df.apply(\n",
    "    lambda r: int(r['true_label'] in r['pred_set']),\n",
    "    axis=1\n",
    ")"
   ]
  },
  {
   "cell_type": "code",
   "execution_count": 67,
   "id": "338ff529-1a6b-4b87-a931-8e4788d52aad",
   "metadata": {
    "execution": {
     "iopub.execute_input": "2025-07-30T21:03:07.840983Z",
     "iopub.status.busy": "2025-07-30T21:03:07.839971Z",
     "iopub.status.idle": "2025-07-30T21:03:07.845297Z",
     "shell.execute_reply": "2025-07-30T21:03:07.844262Z"
    },
    "papermill": {
     "duration": 0.03493,
     "end_time": "2025-07-30T21:03:07.846842",
     "exception": false,
     "start_time": "2025-07-30T21:03:07.811912",
     "status": "completed"
    },
    "tags": []
   },
   "outputs": [],
   "source": [
    "#cp_groups_df"
   ]
  },
  {
   "cell_type": "code",
   "execution_count": 68,
   "id": "90032e27-66df-4540-9169-4e89cfbaa758",
   "metadata": {
    "execution": {
     "iopub.execute_input": "2025-07-30T21:03:07.898501Z",
     "iopub.status.busy": "2025-07-30T21:03:07.897610Z",
     "iopub.status.idle": "2025-07-30T21:03:07.908923Z",
     "shell.execute_reply": "2025-07-30T21:03:07.908066Z"
    },
    "papermill": {
     "duration": 0.03871,
     "end_time": "2025-07-30T21:03:07.910531",
     "exception": false,
     "start_time": "2025-07-30T21:03:07.871821",
     "status": "completed"
    },
    "tags": []
   },
   "outputs": [],
   "source": [
    "subgroups = ['frau1','nongerman','nongerman_male','nongerman_female']\n",
    "\n",
    "# Conditional coverage for subgroup==1\n",
    "cond_coverage = {\n",
    "    g: cp_groups_df.loc[cp_groups_df[g]==1, 'covered'].mean()\n",
    "    for g in subgroups\n",
    "}"
   ]
  },
  {
   "cell_type": "code",
   "execution_count": 69,
   "id": "1e348fb1-b9c3-45bc-ba23-f016827a7e0d",
   "metadata": {
    "execution": {
     "iopub.execute_input": "2025-07-30T21:03:07.961683Z",
     "iopub.status.busy": "2025-07-30T21:03:07.960649Z",
     "iopub.status.idle": "2025-07-30T21:03:07.967935Z",
     "shell.execute_reply": "2025-07-30T21:03:07.966957Z"
    },
    "papermill": {
     "duration": 0.034535,
     "end_time": "2025-07-30T21:03:07.969625",
     "exception": false,
     "start_time": "2025-07-30T21:03:07.935090",
     "status": "completed"
    },
    "tags": []
   },
   "outputs": [
    {
     "data": {
      "text/plain": [
       "{'frau1': 0.909179134654266,\n",
       " 'nongerman': 0.9365631841913209,\n",
       " 'nongerman_male': 0.9479419976582906,\n",
       " 'nongerman_female': 0.9177347242921013}"
      ]
     },
     "execution_count": 69,
     "metadata": {},
     "output_type": "execute_result"
    }
   ],
   "source": [
    "cond_coverage"
   ]
  },
  {
   "cell_type": "code",
   "execution_count": 70,
   "id": "f5093324-c3dd-4d63-bc4c-8d945e5c8bbb",
   "metadata": {
    "execution": {
     "iopub.execute_input": "2025-07-30T21:03:08.019171Z",
     "iopub.status.busy": "2025-07-30T21:03:08.018504Z",
     "iopub.status.idle": "2025-07-30T21:03:08.025665Z",
     "shell.execute_reply": "2025-07-30T21:03:08.024825Z"
    },
    "papermill": {
     "duration": 0.033504,
     "end_time": "2025-07-30T21:03:08.027147",
     "exception": false,
     "start_time": "2025-07-30T21:03:07.993643",
     "status": "completed"
    },
    "tags": []
   },
   "outputs": [],
   "source": [
    "for subgroup, cov in cond_coverage.items():\n",
    "    cp_metrics_df[f\"cov_{subgroup}\"] = cov"
   ]
  },
  {
   "cell_type": "code",
   "execution_count": 71,
   "id": "6e872e10-dbe5-49e8-b554-5030c98ff75d",
   "metadata": {
    "execution": {
     "iopub.execute_input": "2025-07-30T21:03:08.078977Z",
     "iopub.status.busy": "2025-07-30T21:03:08.078072Z",
     "iopub.status.idle": "2025-07-30T21:03:08.097579Z",
     "shell.execute_reply": "2025-07-30T21:03:08.096483Z"
    },
    "papermill": {
     "duration": 0.046298,
     "end_time": "2025-07-30T21:03:08.099202",
     "exception": false,
     "start_time": "2025-07-30T21:03:08.052904",
     "status": "completed"
    },
    "tags": []
   },
   "outputs": [
    {
     "data": {
      "text/html": [
       "<div>\n",
       "<style scoped>\n",
       "    .dataframe tbody tr th:only-of-type {\n",
       "        vertical-align: middle;\n",
       "    }\n",
       "\n",
       "    .dataframe tbody tr th {\n",
       "        vertical-align: top;\n",
       "    }\n",
       "\n",
       "    .dataframe thead th {\n",
       "        text-align: right;\n",
       "    }\n",
       "</style>\n",
       "<table border=\"1\" class=\"dataframe\">\n",
       "  <thead>\n",
       "    <tr style=\"text-align: right;\">\n",
       "      <th></th>\n",
       "      <th>universe_id</th>\n",
       "      <th>universe_training_year</th>\n",
       "      <th>universe_training_size</th>\n",
       "      <th>universe_scale</th>\n",
       "      <th>universe_model</th>\n",
       "      <th>universe_exclude_features</th>\n",
       "      <th>universe_exclude_subgroups</th>\n",
       "      <th>q_hat</th>\n",
       "      <th>coverage</th>\n",
       "      <th>avg_size</th>\n",
       "      <th>cov_frau1</th>\n",
       "      <th>cov_nongerman</th>\n",
       "      <th>cov_nongerman_male</th>\n",
       "      <th>cov_nongerman_female</th>\n",
       "    </tr>\n",
       "  </thead>\n",
       "  <tbody>\n",
       "    <tr>\n",
       "      <th>0</th>\n",
       "      <td>9bda886fc2507c850b644e50e90aff0b</td>\n",
       "      <td>2012_14</td>\n",
       "      <td>5k</td>\n",
       "      <td>do-not-scale</td>\n",
       "      <td>logreg</td>\n",
       "      <td>none</td>\n",
       "      <td>drop-non-german</td>\n",
       "      <td>0.678207</td>\n",
       "      <td>0.911649</td>\n",
       "      <td>1.210768</td>\n",
       "      <td>0.909179</td>\n",
       "      <td>0.936563</td>\n",
       "      <td>0.947942</td>\n",
       "      <td>0.917735</td>\n",
       "    </tr>\n",
       "  </tbody>\n",
       "</table>\n",
       "</div>"
      ],
      "text/plain": [
       "                        universe_id universe_training_year  \\\n",
       "0  9bda886fc2507c850b644e50e90aff0b                2012_14   \n",
       "\n",
       "  universe_training_size universe_scale universe_model  \\\n",
       "0                     5k   do-not-scale         logreg   \n",
       "\n",
       "  universe_exclude_features universe_exclude_subgroups     q_hat  coverage  \\\n",
       "0                      none            drop-non-german  0.678207  0.911649   \n",
       "\n",
       "   avg_size  cov_frau1  cov_nongerman  cov_nongerman_male  \\\n",
       "0  1.210768   0.909179       0.936563            0.947942   \n",
       "\n",
       "   cov_nongerman_female  \n",
       "0              0.917735  "
      ]
     },
     "execution_count": 71,
     "metadata": {},
     "output_type": "execute_result"
    }
   ],
   "source": [
    "cp_metrics_df"
   ]
  },
  {
   "cell_type": "markdown",
   "id": "33774451",
   "metadata": {
    "papermill": {
     "duration": 0.024136,
     "end_time": "2025-07-30T21:03:08.148629",
     "exception": false,
     "start_time": "2025-07-30T21:03:08.124493",
     "status": "completed"
    },
    "tags": []
   },
   "source": [
    "# (Fairness) Metrics"
   ]
  },
  {
   "cell_type": "code",
   "execution_count": 72,
   "id": "debc5d62",
   "metadata": {
    "execution": {
     "iopub.execute_input": "2025-07-30T21:03:08.199919Z",
     "iopub.status.busy": "2025-07-30T21:03:08.199420Z",
     "iopub.status.idle": "2025-07-30T21:03:08.220916Z",
     "shell.execute_reply": "2025-07-30T21:03:08.218764Z"
    },
    "papermill": {
     "duration": 0.050564,
     "end_time": "2025-07-30T21:03:08.223848",
     "exception": false,
     "start_time": "2025-07-30T21:03:08.173284",
     "status": "completed"
    },
    "tags": []
   },
   "outputs": [],
   "source": [
    "# do I need to include maxdeutsch1.missing?\n",
    "\n",
    "import numpy as np\n",
    "\n",
    "colname_to_bin = \"maxdeutsch1\"\n",
    "majority_value = org_train[colname_to_bin].mode()[0]\n",
    "\n",
    "org_test[\"majmin\"] = np.where(org_test[colname_to_bin] == majority_value, \"majority\", \"minority\")"
   ]
  },
  {
   "cell_type": "code",
   "execution_count": 73,
   "id": "06a50de5",
   "metadata": {
    "execution": {
     "iopub.execute_input": "2025-07-30T21:03:08.275582Z",
     "iopub.status.busy": "2025-07-30T21:03:08.274984Z",
     "iopub.status.idle": "2025-07-30T21:03:11.150177Z",
     "shell.execute_reply": "2025-07-30T21:03:11.149054Z"
    },
    "papermill": {
     "duration": 2.902583,
     "end_time": "2025-07-30T21:03:11.152127",
     "exception": false,
     "start_time": "2025-07-30T21:03:08.249544",
     "status": "completed"
    },
    "tags": []
   },
   "outputs": [],
   "source": [
    "example_universe = universe.copy()\n",
    "example_universe[\"cutoff\"] = example_universe[\"cutoff\"][0]\n",
    "example_universe[\"eval_fairness_grouping\"] = example_universe[\"eval_fairness_grouping\"][0]\n",
    "fairness_dict, metric_frame = universe_analysis.compute_metrics(\n",
    "    example_universe,\n",
    "    y_pred_prob=probs_test,\n",
    "    y_test=y_true,\n",
    "    org_test=org_test,\n",
    ")"
   ]
  },
  {
   "cell_type": "markdown",
   "id": "f95d4e02",
   "metadata": {
    "papermill": {
     "duration": 0.028008,
     "end_time": "2025-07-30T21:03:11.208595",
     "exception": false,
     "start_time": "2025-07-30T21:03:11.180587",
     "status": "completed"
    },
    "tags": []
   },
   "source": [
    "# Overall"
   ]
  },
  {
   "cell_type": "markdown",
   "id": "bdee4871",
   "metadata": {
    "papermill": {
     "duration": 0.027658,
     "end_time": "2025-07-30T21:03:11.265304",
     "exception": false,
     "start_time": "2025-07-30T21:03:11.237646",
     "status": "completed"
    },
    "tags": []
   },
   "source": [
    "Fairness\n",
    "Main fairness target: Equalized Odds. Seems to be a better fit than equal opportunity, since we're not only interested in Y = 1. Seems to be a better fit than demographic parity, since we also care about accuracy, not just equal distribution of preds.\n",
    "\n",
    "Pick column for computation of fairness metrics\n",
    "\n",
    "Performance\n",
    "Overall performance measures, most interesting in relation to the measures split by group below"
   ]
  },
  {
   "cell_type": "code",
   "execution_count": 74,
   "id": "c4e067c6",
   "metadata": {
    "execution": {
     "iopub.execute_input": "2025-07-30T21:03:11.322718Z",
     "iopub.status.busy": "2025-07-30T21:03:11.322134Z",
     "iopub.status.idle": "2025-07-30T21:03:11.331835Z",
     "shell.execute_reply": "2025-07-30T21:03:11.330711Z"
    },
    "papermill": {
     "duration": 0.040221,
     "end_time": "2025-07-30T21:03:11.333682",
     "exception": false,
     "start_time": "2025-07-30T21:03:11.293461",
     "status": "completed"
    },
    "tags": []
   },
   "outputs": [
    {
     "data": {
      "text/plain": [
       "accuracy                   0.218448\n",
       "balanced accuracy          0.535378\n",
       "f1                         0.239943\n",
       "precision                  0.137071\n",
       "false positive rate        0.890924\n",
       "false negative rate        0.038321\n",
       "selection rate             0.900000\n",
       "count                  89710.000000\n",
       "dtype: float64"
      ]
     },
     "execution_count": 74,
     "metadata": {},
     "output_type": "execute_result"
    }
   ],
   "source": [
    "metric_frame.overall"
   ]
  },
  {
   "cell_type": "markdown",
   "id": "e968fe9d",
   "metadata": {
    "papermill": {
     "duration": 0.027893,
     "end_time": "2025-07-30T21:03:11.392909",
     "exception": false,
     "start_time": "2025-07-30T21:03:11.365016",
     "status": "completed"
    },
    "tags": []
   },
   "source": [
    "By Group"
   ]
  },
  {
   "cell_type": "code",
   "execution_count": 75,
   "id": "ec325bce",
   "metadata": {
    "execution": {
     "iopub.execute_input": "2025-07-30T21:03:11.451148Z",
     "iopub.status.busy": "2025-07-30T21:03:11.450503Z",
     "iopub.status.idle": "2025-07-30T21:03:11.474218Z",
     "shell.execute_reply": "2025-07-30T21:03:11.472915Z"
    },
    "papermill": {
     "duration": 0.05573,
     "end_time": "2025-07-30T21:03:11.476329",
     "exception": false,
     "start_time": "2025-07-30T21:03:11.420599",
     "status": "completed"
    },
    "tags": []
   },
   "outputs": [
    {
     "data": {
      "text/html": [
       "<div>\n",
       "<style scoped>\n",
       "    .dataframe tbody tr th:only-of-type {\n",
       "        vertical-align: middle;\n",
       "    }\n",
       "\n",
       "    .dataframe tbody tr th {\n",
       "        vertical-align: top;\n",
       "    }\n",
       "\n",
       "    .dataframe thead th {\n",
       "        text-align: right;\n",
       "    }\n",
       "</style>\n",
       "<table border=\"1\" class=\"dataframe\">\n",
       "  <thead>\n",
       "    <tr style=\"text-align: right;\">\n",
       "      <th></th>\n",
       "      <th>accuracy</th>\n",
       "      <th>balanced accuracy</th>\n",
       "      <th>f1</th>\n",
       "      <th>precision</th>\n",
       "      <th>false positive rate</th>\n",
       "      <th>false negative rate</th>\n",
       "      <th>selection rate</th>\n",
       "      <th>count</th>\n",
       "    </tr>\n",
       "    <tr>\n",
       "      <th>majmin</th>\n",
       "      <th></th>\n",
       "      <th></th>\n",
       "      <th></th>\n",
       "      <th></th>\n",
       "      <th></th>\n",
       "      <th></th>\n",
       "      <th></th>\n",
       "      <th></th>\n",
       "    </tr>\n",
       "  </thead>\n",
       "  <tbody>\n",
       "    <tr>\n",
       "      <th>majority</th>\n",
       "      <td>0.240509</td>\n",
       "      <td>0.543746</td>\n",
       "      <td>0.249600</td>\n",
       "      <td>0.143540</td>\n",
       "      <td>0.868416</td>\n",
       "      <td>0.044092</td>\n",
       "      <td>0.879977</td>\n",
       "      <td>69170.0</td>\n",
       "    </tr>\n",
       "    <tr>\n",
       "      <th>minority</th>\n",
       "      <td>0.144158</td>\n",
       "      <td>0.509338</td>\n",
       "      <td>0.209542</td>\n",
       "      <td>0.117256</td>\n",
       "      <td>0.965276</td>\n",
       "      <td>0.016047</td>\n",
       "      <td>0.967429</td>\n",
       "      <td>20540.0</td>\n",
       "    </tr>\n",
       "  </tbody>\n",
       "</table>\n",
       "</div>"
      ],
      "text/plain": [
       "          accuracy  balanced accuracy        f1  precision  \\\n",
       "majmin                                                       \n",
       "majority  0.240509           0.543746  0.249600   0.143540   \n",
       "minority  0.144158           0.509338  0.209542   0.117256   \n",
       "\n",
       "          false positive rate  false negative rate  selection rate    count  \n",
       "majmin                                                                       \n",
       "majority             0.868416             0.044092        0.879977  69170.0  \n",
       "minority             0.965276             0.016047        0.967429  20540.0  "
      ]
     },
     "execution_count": 75,
     "metadata": {},
     "output_type": "execute_result"
    }
   ],
   "source": [
    "metric_frame.by_group"
   ]
  },
  {
   "cell_type": "code",
   "execution_count": 76,
   "id": "a9ddbe63",
   "metadata": {
    "execution": {
     "iopub.execute_input": "2025-07-30T21:03:11.538136Z",
     "iopub.status.busy": "2025-07-30T21:03:11.537582Z",
     "iopub.status.idle": "2025-07-30T21:03:14.178089Z",
     "shell.execute_reply": "2025-07-30T21:03:14.176737Z"
    },
    "papermill": {
     "duration": 2.67409,
     "end_time": "2025-07-30T21:03:14.180438",
     "exception": false,
     "start_time": "2025-07-30T21:03:11.506348",
     "status": "completed"
    },
    "tags": []
   },
   "outputs": [
    {
     "data": {
      "text/plain": [
       "array([[<Axes: title={'center': 'accuracy'}, xlabel='majmin'>,\n",
       "        <Axes: title={'center': 'balanced accuracy'}, xlabel='majmin'>,\n",
       "        <Axes: title={'center': 'f1'}, xlabel='majmin'>],\n",
       "       [<Axes: title={'center': 'precision'}, xlabel='majmin'>,\n",
       "        <Axes: title={'center': 'false positive rate'}, xlabel='majmin'>,\n",
       "        <Axes: title={'center': 'false negative rate'}, xlabel='majmin'>],\n",
       "       [<Axes: title={'center': 'selection rate'}, xlabel='majmin'>,\n",
       "        <Axes: title={'center': 'count'}, xlabel='majmin'>,\n",
       "        <Axes: xlabel='majmin'>]], dtype=object)"
      ]
     },
     "execution_count": 76,
     "metadata": {},
     "output_type": "execute_result"
    },
    {
     "data": {
      "image/png": "[encoded data removed]",
      "text/plain": [
       "<Figure size 1200x800 with 9 Axes>"
      ]
     },
     "metadata": {},
     "output_type": "display_data"
    }
   ],
   "source": [
    "# In a graphic\n",
    "metric_frame.by_group.plot.bar(\n",
    "    subplots=True,\n",
    "    layout=[3, 3],\n",
    "    legend=False,\n",
    "    figsize=[12, 8],\n",
    "    title=\"Show all metrics\",\n",
    ")"
   ]
  },
  {
   "cell_type": "markdown",
   "id": "f57a0bac",
   "metadata": {
    "papermill": {
     "duration": 0.041984,
     "end_time": "2025-07-30T21:03:14.265123",
     "exception": false,
     "start_time": "2025-07-30T21:03:14.223139",
     "status": "completed"
    },
    "tags": []
   },
   "source": [
    "# Final Output"
   ]
  },
  {
   "cell_type": "code",
   "execution_count": 77,
   "id": "96d280a3",
   "metadata": {
    "execution": {
     "iopub.execute_input": "2025-07-30T21:03:14.343075Z",
     "iopub.status.busy": "2025-07-30T21:03:14.341752Z",
     "iopub.status.idle": "2025-07-30T21:03:14.351921Z",
     "shell.execute_reply": "2025-07-30T21:03:14.350820Z"
    },
    "papermill": {
     "duration": 0.052166,
     "end_time": "2025-07-30T21:03:14.353947",
     "exception": false,
     "start_time": "2025-07-30T21:03:14.301781",
     "status": "completed"
    },
    "tags": []
   },
   "outputs": [
    {
     "data": {
      "text/plain": [
       "4"
      ]
     },
     "execution_count": 77,
     "metadata": {},
     "output_type": "execute_result"
    }
   ],
   "source": [
    "sub_universes = universe_analysis.generate_sub_universes()\n",
    "len(sub_universes)"
   ]
  },
  {
   "cell_type": "code",
   "execution_count": 78,
   "id": "92adf7ba",
   "metadata": {
    "execution": {
     "iopub.execute_input": "2025-07-30T21:03:14.432916Z",
     "iopub.status.busy": "2025-07-30T21:03:14.432379Z",
     "iopub.status.idle": "2025-07-30T21:03:14.439855Z",
     "shell.execute_reply": "2025-07-30T21:03:14.438696Z"
    },
    "papermill": {
     "duration": 0.049416,
     "end_time": "2025-07-30T21:03:14.441989",
     "exception": false,
     "start_time": "2025-07-30T21:03:14.392573",
     "status": "completed"
    },
    "tags": []
   },
   "outputs": [],
   "source": [
    "def filter_sub_universe_data(sub_universe, org_test):\n",
    "    # Keep all rows — no filtering\n",
    "    keep_rows_mask = np.ones(org_test.shape[0], dtype=bool)\n",
    "\n",
    "    print(f\"[INFO] Keeping all rows: {keep_rows_mask.sum()} rows retained.\")\n",
    "    return keep_rows_mask"
   ]
  },
  {
   "cell_type": "code",
   "execution_count": 79,
   "id": "4a759155",
   "metadata": {
    "execution": {
     "iopub.execute_input": "2025-07-30T21:03:14.515324Z",
     "iopub.status.busy": "2025-07-30T21:03:14.514602Z",
     "iopub.status.idle": "2025-07-30T21:03:23.702750Z",
     "shell.execute_reply": "2025-07-30T21:03:23.701766Z"
    },
    "papermill": {
     "duration": 9.223782,
     "end_time": "2025-07-30T21:03:23.704605",
     "exception": false,
     "start_time": "2025-07-30T21:03:14.480823",
     "status": "completed"
    },
    "tags": []
   },
   "outputs": [
    {
     "name": "stdout",
     "output_type": "stream",
     "text": [
      "Stopping execution_time clock.\n",
      "[INFO] Keeping all rows: 89710 rows retained.\n"
     ]
    },
    {
     "name": "stdout",
     "output_type": "stream",
     "text": [
      "[INFO] Keeping all rows: 89710 rows retained.\n"
     ]
    },
    {
     "name": "stdout",
     "output_type": "stream",
     "text": [
      "[INFO] Keeping all rows: 89710 rows retained.\n"
     ]
    },
    {
     "name": "stdout",
     "output_type": "stream",
     "text": [
      "[INFO] Keeping all rows: 89710 rows retained.\n"
     ]
    },
    {
     "data": {
      "text/html": [
       "<div>\n",
       "<style scoped>\n",
       "    .dataframe tbody tr th:only-of-type {\n",
       "        vertical-align: middle;\n",
       "    }\n",
       "\n",
       "    .dataframe tbody tr th {\n",
       "        vertical-align: top;\n",
       "    }\n",
       "\n",
       "    .dataframe thead th {\n",
       "        text-align: right;\n",
       "    }\n",
       "</style>\n",
       "<table border=\"1\" class=\"dataframe\">\n",
       "  <thead>\n",
       "    <tr style=\"text-align: right;\">\n",
       "      <th></th>\n",
       "      <th>run_no</th>\n",
       "      <th>universe_id</th>\n",
       "      <th>universe_settings</th>\n",
       "      <th>execution_time</th>\n",
       "      <th>test_size_n</th>\n",
       "      <th>test_size_frac</th>\n",
       "      <th>fair_main_equalized_odds_difference</th>\n",
       "      <th>fair_main_equalized_odds_ratio</th>\n",
       "      <th>fair_main_demographic_parity_difference</th>\n",
       "      <th>fair_main_demographic_parity_ratio</th>\n",
       "      <th>...</th>\n",
       "      <th>perf_grp_precision_0</th>\n",
       "      <th>perf_grp_precision_1</th>\n",
       "      <th>perf_grp_false positive rate_0</th>\n",
       "      <th>perf_grp_false positive rate_1</th>\n",
       "      <th>perf_grp_false negative rate_0</th>\n",
       "      <th>perf_grp_false negative rate_1</th>\n",
       "      <th>perf_grp_selection rate_0</th>\n",
       "      <th>perf_grp_selection rate_1</th>\n",
       "      <th>perf_grp_count_0</th>\n",
       "      <th>perf_grp_count_1</th>\n",
       "    </tr>\n",
       "  </thead>\n",
       "  <tbody>\n",
       "    <tr>\n",
       "      <th>0</th>\n",
       "      <td>14</td>\n",
       "      <td>9bda886fc2507c850b644e50e90aff0b</td>\n",
       "      <td>{\"cutoff\": \"quantile_0.1\", \"eval_fairness_grou...</td>\n",
       "      <td>27.952583</td>\n",
       "      <td>89710</td>\n",
       "      <td>1.0</td>\n",
       "      <td>0.096860</td>\n",
       "      <td>0.899655</td>\n",
       "      <td>0.087453</td>\n",
       "      <td>0.909603</td>\n",
       "      <td>...</td>\n",
       "      <td>NaN</td>\n",
       "      <td>NaN</td>\n",
       "      <td>NaN</td>\n",
       "      <td>NaN</td>\n",
       "      <td>NaN</td>\n",
       "      <td>NaN</td>\n",
       "      <td>NaN</td>\n",
       "      <td>NaN</td>\n",
       "      <td>NaN</td>\n",
       "      <td>NaN</td>\n",
       "    </tr>\n",
       "    <tr>\n",
       "      <th>0</th>\n",
       "      <td>14</td>\n",
       "      <td>9bda886fc2507c850b644e50e90aff0b</td>\n",
       "      <td>{\"cutoff\": \"quantile_0.1\", \"eval_fairness_grou...</td>\n",
       "      <td>27.952583</td>\n",
       "      <td>89710</td>\n",
       "      <td>1.0</td>\n",
       "      <td>0.096860</td>\n",
       "      <td>0.899655</td>\n",
       "      <td>0.087453</td>\n",
       "      <td>0.909603</td>\n",
       "      <td>...</td>\n",
       "      <td>0.117256</td>\n",
       "      <td>0.14354</td>\n",
       "      <td>0.965276</td>\n",
       "      <td>0.868416</td>\n",
       "      <td>0.016047</td>\n",
       "      <td>0.044092</td>\n",
       "      <td>0.967429</td>\n",
       "      <td>0.879977</td>\n",
       "      <td>20540.0</td>\n",
       "      <td>69170.0</td>\n",
       "    </tr>\n",
       "    <tr>\n",
       "      <th>0</th>\n",
       "      <td>14</td>\n",
       "      <td>9bda886fc2507c850b644e50e90aff0b</td>\n",
       "      <td>{\"cutoff\": \"quantile_0.25\", \"eval_fairness_gro...</td>\n",
       "      <td>27.952583</td>\n",
       "      <td>89710</td>\n",
       "      <td>1.0</td>\n",
       "      <td>0.219904</td>\n",
       "      <td>0.755575</td>\n",
       "      <td>0.201432</td>\n",
       "      <td>0.777498</td>\n",
       "      <td>...</td>\n",
       "      <td>NaN</td>\n",
       "      <td>NaN</td>\n",
       "      <td>NaN</td>\n",
       "      <td>NaN</td>\n",
       "      <td>NaN</td>\n",
       "      <td>NaN</td>\n",
       "      <td>NaN</td>\n",
       "      <td>NaN</td>\n",
       "      <td>NaN</td>\n",
       "      <td>NaN</td>\n",
       "    </tr>\n",
       "    <tr>\n",
       "      <th>0</th>\n",
       "      <td>14</td>\n",
       "      <td>9bda886fc2507c850b644e50e90aff0b</td>\n",
       "      <td>{\"cutoff\": \"quantile_0.25\", \"eval_fairness_gro...</td>\n",
       "      <td>27.952583</td>\n",
       "      <td>89710</td>\n",
       "      <td>1.0</td>\n",
       "      <td>0.219904</td>\n",
       "      <td>0.755575</td>\n",
       "      <td>0.201432</td>\n",
       "      <td>0.777498</td>\n",
       "      <td>...</td>\n",
       "      <td>0.120785</td>\n",
       "      <td>0.16185</td>\n",
       "      <td>0.899681</td>\n",
       "      <td>0.679777</td>\n",
       "      <td>0.051520</td>\n",
       "      <td>0.137856</td>\n",
       "      <td>0.905307</td>\n",
       "      <td>0.703875</td>\n",
       "      <td>20540.0</td>\n",
       "      <td>69170.0</td>\n",
       "    </tr>\n",
       "  </tbody>\n",
       "</table>\n",
       "<p>4 rows × 50 columns</p>\n",
       "</div>"
      ],
      "text/plain": [
       "  run_no                       universe_id  \\\n",
       "0     14  9bda886fc2507c850b644e50e90aff0b   \n",
       "0     14  9bda886fc2507c850b644e50e90aff0b   \n",
       "0     14  9bda886fc2507c850b644e50e90aff0b   \n",
       "0     14  9bda886fc2507c850b644e50e90aff0b   \n",
       "\n",
       "                                   universe_settings  execution_time  \\\n",
       "0  {\"cutoff\": \"quantile_0.1\", \"eval_fairness_grou...       27.952583   \n",
       "0  {\"cutoff\": \"quantile_0.1\", \"eval_fairness_grou...       27.952583   \n",
       "0  {\"cutoff\": \"quantile_0.25\", \"eval_fairness_gro...       27.952583   \n",
       "0  {\"cutoff\": \"quantile_0.25\", \"eval_fairness_gro...       27.952583   \n",
       "\n",
       "   test_size_n  test_size_frac  fair_main_equalized_odds_difference  \\\n",
       "0        89710             1.0                             0.096860   \n",
       "0        89710             1.0                             0.096860   \n",
       "0        89710             1.0                             0.219904   \n",
       "0        89710             1.0                             0.219904   \n",
       "\n",
       "   fair_main_equalized_odds_ratio  fair_main_demographic_parity_difference  \\\n",
       "0                        0.899655                                 0.087453   \n",
       "0                        0.899655                                 0.087453   \n",
       "0                        0.755575                                 0.201432   \n",
       "0                        0.755575                                 0.201432   \n",
       "\n",
       "   fair_main_demographic_parity_ratio  ...  perf_grp_precision_0  \\\n",
       "0                            0.909603  ...                   NaN   \n",
       "0                            0.909603  ...              0.117256   \n",
       "0                            0.777498  ...                   NaN   \n",
       "0                            0.777498  ...              0.120785   \n",
       "\n",
       "   perf_grp_precision_1  perf_grp_false positive rate_0  \\\n",
       "0                   NaN                             NaN   \n",
       "0               0.14354                        0.965276   \n",
       "0                   NaN                             NaN   \n",
       "0               0.16185                        0.899681   \n",
       "\n",
       "   perf_grp_false positive rate_1  perf_grp_false negative rate_0  \\\n",
       "0                             NaN                             NaN   \n",
       "0                        0.868416                        0.016047   \n",
       "0                             NaN                             NaN   \n",
       "0                        0.679777                        0.051520   \n",
       "\n",
       "   perf_grp_false negative rate_1  perf_grp_selection rate_0  \\\n",
       "0                             NaN                        NaN   \n",
       "0                        0.044092                   0.967429   \n",
       "0                             NaN                        NaN   \n",
       "0                        0.137856                   0.905307   \n",
       "\n",
       "   perf_grp_selection rate_1  perf_grp_count_0  perf_grp_count_1  \n",
       "0                        NaN               NaN               NaN  \n",
       "0                   0.879977           20540.0           69170.0  \n",
       "0                        NaN               NaN               NaN  \n",
       "0                   0.703875           20540.0           69170.0  \n",
       "\n",
       "[4 rows x 50 columns]"
      ]
     },
     "execution_count": 79,
     "metadata": {},
     "output_type": "execute_result"
    }
   ],
   "source": [
    "final_output = universe_analysis.generate_final_output(\n",
    "    y_pred_prob=probs_test,\n",
    "    y_test=y_true,\n",
    "    org_test=org_test,\n",
    "    filter_data=filter_sub_universe_data,\n",
    "    cp_metrics_df=cp_metrics_df,\n",
    "    save=True,\n",
    ")\n",
    "final_output"
   ]
  },
  {
   "cell_type": "code",
   "execution_count": null,
   "id": "721ff514-cb11-46f8-b6fc-50392f74b5cb",
   "metadata": {
    "papermill": {
     "duration": 0.028948,
     "end_time": "2025-07-30T21:03:23.765202",
     "exception": false,
     "start_time": "2025-07-30T21:03:23.736254",
     "status": "completed"
    },
    "tags": []
   },
   "outputs": [],
   "source": []
  }
 ],
 "metadata": {
  "celltoolbar": "Tags",
  "kernelspec": {
   "display_name": "Python (CMA Fairness)",
   "language": "python",
   "name": "cma_fair_env"
  },
  "language_info": {
   "codemirror_mode": {
    "name": "ipython",
    "version": 3
   },
   "file_extension": ".py",
   "mimetype": "text/x-python",
   "name": "python",
   "nbconvert_exporter": "python",
   "pygments_lexer": "ipython3",
   "version": "3.10.12"
  },
  "papermill": {
   "default_parameters": {},
   "duration": 41.236498,
   "end_time": "2025-07-30T21:03:24.612977",
   "environment_variables": {},
   "exception": null,
   "input_path": "universe_analysis.ipynb",
   "output_path": "output/runs/14/notebooks/m_14-9bda886fc2507c850b644e50e90aff0b.ipynb",
   "parameters": {
    "output_dir": "output",
    "run_no": "14",
    "seed": "2023",
    "universe": "{\"cutoff\": [\"quantile_0.1\", \"quantile_0.25\"], \"eval_fairness_grouping\": [\"majority-minority\", \"nationality-all\"], \"exclude_features\": \"none\", \"exclude_subgroups\": \"drop-non-german\", \"model\": \"logreg\", \"scale\": \"do-not-scale\", \"training_size\": \"5k\", \"training_year\": \"2012_14\"}",
    "universe_id": "9bda886fc2507c850b644e50e90aff0b"
   },
   "start_time": "2025-07-30T21:02:43.376479",
   "version": "2.6.0"
  }
 },
 "nbformat": 4,
 "nbformat_minor": 5
}