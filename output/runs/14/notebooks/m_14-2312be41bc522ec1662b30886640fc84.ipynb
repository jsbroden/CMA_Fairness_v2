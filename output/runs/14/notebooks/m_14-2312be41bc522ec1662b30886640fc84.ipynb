{
 "cells": [
  {
   "cell_type": "code",
   "execution_count": 1,
   "id": "f159f837-637b-42ba-96b5-ec9a68c44524",
   "metadata": {
    "execution": {
     "iopub.execute_input": "2025-07-30T21:24:49.578193Z",
     "iopub.status.busy": "2025-07-30T21:24:49.577770Z",
     "iopub.status.idle": "2025-07-30T21:24:49.592712Z",
     "shell.execute_reply": "2025-07-30T21:24:49.591780Z"
    },
    "papermill": {
     "duration": 0.053341,
     "end_time": "2025-07-30T21:24:49.600320",
     "exception": false,
     "start_time": "2025-07-30T21:24:49.546979",
     "status": "completed"
    },
    "tags": []
   },
   "outputs": [
    {
     "name": "stdout",
     "output_type": "stream",
     "text": [
      "/dss/dsshome1/0C/ra93lal2/cma/CMA_Fairness_v2\n"
     ]
    },
    {
     "name": "stderr",
     "output_type": "stream",
     "text": [
      "/dss/dsshome1/0C/ra93lal2/.local/share/virtualenvs/CMA_Fairness_v2-3j10GkSs/lib/python3.10/site-packages/IPython/core/magics/osm.py:393: UserWarning: This is now an optional IPython functionality, using bookmarks requires you to install the `pickleshare` library.\n",
      "  bkms = self.shell.db.get('bookmarks', {})\n",
      "/dss/dsshome1/0C/ra93lal2/.local/share/virtualenvs/CMA_Fairness_v2-3j10GkSs/lib/python3.10/site-packages/IPython/core/magics/osm.py:417: UserWarning: This is now an optional IPython functionality, setting dhist requires you to install the `pickleshare` library.\n",
      "  self.shell.db['dhist'] = compress_dhist(dhist)[-100:]\n"
     ]
    }
   ],
   "source": [
    "%cd ~/cma/CMA_Fairness_v2"
   ]
  },
  {
   "cell_type": "markdown",
   "id": "de2603b9",
   "metadata": {
    "papermill": {
     "duration": 0.03363,
     "end_time": "2025-07-30T21:24:49.649768",
     "exception": false,
     "start_time": "2025-07-30T21:24:49.616138",
     "status": "completed"
    },
    "tags": []
   },
   "source": [
    "The following cell holds the definition of our parameters, these values can be overriden by rendering the with e.g. the following command:\n",
    "\n",
    "papermill -p alpha 0.2 -p ratio 0.3 universe_analysis.ipynb output/test_run.ipynb"
   ]
  },
  {
   "cell_type": "code",
   "execution_count": 2,
   "id": "a80968a0-40bb-4fa9-85ef-2d5eefb01975",
   "metadata": {
    "execution": {
     "iopub.execute_input": "2025-07-30T21:24:49.684704Z",
     "iopub.status.busy": "2025-07-30T21:24:49.684228Z",
     "iopub.status.idle": "2025-07-30T21:24:49.690852Z",
     "shell.execute_reply": "2025-07-30T21:24:49.689480Z"
    },
    "papermill": {
     "duration": 0.028402,
     "end_time": "2025-07-30T21:24:49.693451",
     "exception": false,
     "start_time": "2025-07-30T21:24:49.665049",
     "status": "completed"
    },
    "tags": []
   },
   "outputs": [
    {
     "name": "stdout",
     "output_type": "stream",
     "text": [
      "Current working directory: /dss/dsshome1/0C/ra93lal2/cma/CMA_Fairness_v2\n"
     ]
    }
   ],
   "source": [
    "import os\n",
    "print(\"Current working directory:\", os.getcwd())"
   ]
  },
  {
   "cell_type": "code",
   "execution_count": 3,
   "id": "2dce4c03",
   "metadata": {
    "execution": {
     "iopub.execute_input": "2025-07-30T21:24:49.743315Z",
     "iopub.status.busy": "2025-07-30T21:24:49.743015Z",
     "iopub.status.idle": "2025-07-30T21:24:49.749149Z",
     "shell.execute_reply": "2025-07-30T21:24:49.748095Z"
    },
    "papermill": {
     "duration": 0.037375,
     "end_time": "2025-07-30T21:24:49.750718",
     "exception": false,
     "start_time": "2025-07-30T21:24:49.713343",
     "status": "completed"
    },
    "tags": [
     "parameters"
    ]
   },
   "outputs": [],
   "source": [
    "run_no = 0\n",
    "universe_id = \"test\"\n",
    "universe = {\n",
    "    \"training_size\": \"25k\", # \"25k\", \"5k\", \"1k\"\n",
    "    \"training_year\": \"2014\", # \"2014\", \"2012_14\", \"2010_14\"\n",
    "    \"scale\": \"scale\", # \"scale\", \"do-not-scale\",\n",
    "    #\"stratify_split\": \"target\", # \"none\", \"target\", \"protected-attribute\", \"both\",\n",
    "    \"model\": \"elasticnet\", # \"logreg\", \"penalized_logreg\", \"rf\", \"gbm\", \"elasticnet\"\n",
    "    \"cutoff\": [\"quantile_0.15\", \"quantile_0.30\"],\n",
    "    \"exclude_features\": \"age\", # \"none\", \"nationality\", \"sex\", \"nationality-sex\", \"age\"\n",
    "    \"exclude_subgroups\": \"keep-all\", # \"keep-all\", \"drop-non-german\"\n",
    "    \"eval_fairness_grouping\": [\"majority-minority\", \"nationality-all\"]\n",
    "}\n",
    "\n",
    "output_dir=\"./output\"\n",
    "seed=0"
   ]
  },
  {
   "cell_type": "code",
   "execution_count": 4,
   "id": "ebcef636",
   "metadata": {
    "execution": {
     "iopub.execute_input": "2025-07-30T21:24:49.788985Z",
     "iopub.status.busy": "2025-07-30T21:24:49.788470Z",
     "iopub.status.idle": "2025-07-30T21:24:49.794484Z",
     "shell.execute_reply": "2025-07-30T21:24:49.793609Z"
    },
    "papermill": {
     "duration": 0.036772,
     "end_time": "2025-07-30T21:24:49.806291",
     "exception": false,
     "start_time": "2025-07-30T21:24:49.769519",
     "status": "completed"
    },
    "tags": [
     "injected-parameters"
    ]
   },
   "outputs": [],
   "source": [
    "# Parameters\n",
    "universe_id = \"2312be41bc522ec1662b30886640fc84\"\n",
    "run_no = \"14\"\n",
    "universe = \"{\\\"cutoff\\\": [\\\"quantile_0.1\\\", \\\"quantile_0.25\\\"], \\\"eval_fairness_grouping\\\": [\\\"majority-minority\\\", \\\"nationality-all\\\"], \\\"exclude_features\\\": \\\"age\\\", \\\"exclude_subgroups\\\": \\\"drop-non-german\\\", \\\"model\\\": \\\"rf\\\", \\\"scale\\\": \\\"scale\\\", \\\"training_size\\\": \\\"1k\\\", \\\"training_year\\\": \\\"2014\\\"}\"\n",
    "output_dir = \"output\"\n",
    "seed = \"2023\"\n"
   ]
  },
  {
   "cell_type": "code",
   "execution_count": 5,
   "id": "1650acaf",
   "metadata": {
    "execution": {
     "iopub.execute_input": "2025-07-30T21:24:49.857386Z",
     "iopub.status.busy": "2025-07-30T21:24:49.856651Z",
     "iopub.status.idle": "2025-07-30T21:24:49.862276Z",
     "shell.execute_reply": "2025-07-30T21:24:49.861226Z"
    },
    "papermill": {
     "duration": 0.032081,
     "end_time": "2025-07-30T21:24:49.864483",
     "exception": false,
     "start_time": "2025-07-30T21:24:49.832402",
     "status": "completed"
    },
    "tags": []
   },
   "outputs": [],
   "source": [
    "import json\n",
    "# Parse universe into dict if it is passed as a string\n",
    "if isinstance(universe, str):\n",
    "    universe = json.loads(universe)"
   ]
  },
  {
   "cell_type": "code",
   "execution_count": 6,
   "id": "16620c48",
   "metadata": {
    "execution": {
     "iopub.execute_input": "2025-07-30T21:24:49.912738Z",
     "iopub.status.busy": "2025-07-30T21:24:49.912327Z",
     "iopub.status.idle": "2025-07-30T21:24:49.975238Z",
     "shell.execute_reply": "2025-07-30T21:24:49.970072Z"
    },
    "papermill": {
     "duration": 0.090118,
     "end_time": "2025-07-30T21:24:49.978800",
     "exception": false,
     "start_time": "2025-07-30T21:24:49.888682",
     "status": "completed"
    },
    "tags": []
   },
   "outputs": [],
   "source": [
    "# Auto-reload the custom package\n",
    "%load_ext autoreload\n",
    "%autoreload 1\n",
    "%aimport fairness_multiverse"
   ]
  },
  {
   "cell_type": "code",
   "execution_count": 7,
   "id": "01c5c9f3",
   "metadata": {
    "execution": {
     "iopub.execute_input": "2025-07-30T21:24:50.076168Z",
     "iopub.status.busy": "2025-07-30T21:24:50.075278Z",
     "iopub.status.idle": "2025-07-30T21:24:52.767444Z",
     "shell.execute_reply": "2025-07-30T21:24:52.766439Z"
    },
    "papermill": {
     "duration": 2.744104,
     "end_time": "2025-07-30T21:24:52.769252",
     "exception": false,
     "start_time": "2025-07-30T21:24:50.025148",
     "status": "completed"
    },
    "tags": []
   },
   "outputs": [],
   "source": [
    "from fairness_multiverse.universe import UniverseAnalysis\n",
    "\n",
    "universe_analysis = UniverseAnalysis(\n",
    "    run_no = run_no,\n",
    "    universe_id = universe_id,\n",
    "    universe = universe,\n",
    "    output_dir=output_dir,\n",
    ")"
   ]
  },
  {
   "cell_type": "code",
   "execution_count": 8,
   "id": "106241f5",
   "metadata": {
    "execution": {
     "iopub.execute_input": "2025-07-30T21:24:52.828605Z",
     "iopub.status.busy": "2025-07-30T21:24:52.827545Z",
     "iopub.status.idle": "2025-07-30T21:24:52.835000Z",
     "shell.execute_reply": "2025-07-30T21:24:52.833853Z"
    },
    "papermill": {
     "duration": 0.034317,
     "end_time": "2025-07-30T21:24:52.839297",
     "exception": false,
     "start_time": "2025-07-30T21:24:52.804980",
     "status": "completed"
    },
    "tags": []
   },
   "outputs": [
    {
     "name": "stdout",
     "output_type": "stream",
     "text": [
      "Using Seed: 2023\n"
     ]
    }
   ],
   "source": [
    "import numpy as np\n",
    "parsed_seed = int(seed)\n",
    "np.random.seed(parsed_seed)\n",
    "print(f\"Using Seed: {parsed_seed}\")"
   ]
  },
  {
   "cell_type": "markdown",
   "id": "e0ebdc57",
   "metadata": {
    "papermill": {
     "duration": 0.022977,
     "end_time": "2025-07-30T21:24:52.885851",
     "exception": false,
     "start_time": "2025-07-30T21:24:52.862874",
     "status": "completed"
    },
    "tags": []
   },
   "source": [
    "# Loading Data"
   ]
  },
  {
   "cell_type": "markdown",
   "id": "681925a3",
   "metadata": {
    "papermill": {
     "duration": 0.022427,
     "end_time": "2025-07-30T21:24:52.930924",
     "exception": false,
     "start_time": "2025-07-30T21:24:52.908497",
     "status": "completed"
    },
    "tags": []
   },
   "source": [
    "Load siab_train, siab_test, siab_calib and/or \n",
    "load siab_train_features, siab_train_labels"
   ]
  },
  {
   "cell_type": "code",
   "execution_count": 9,
   "id": "f0496b8a",
   "metadata": {
    "execution": {
     "iopub.execute_input": "2025-07-30T21:24:52.977864Z",
     "iopub.status.busy": "2025-07-30T21:24:52.977434Z",
     "iopub.status.idle": "2025-07-30T21:25:04.579686Z",
     "shell.execute_reply": "2025-07-30T21:25:04.578485Z"
    },
    "papermill": {
     "duration": 11.628021,
     "end_time": "2025-07-30T21:25:04.581560",
     "exception": false,
     "start_time": "2025-07-30T21:24:52.953539",
     "status": "completed"
    },
    "tags": []
   },
   "outputs": [
    {
     "name": "stdout",
     "output_type": "stream",
     "text": [
      "Loading SIAB data from cache: data/siab_cached.csv.gz\n"
     ]
    },
    {
     "name": "stdout",
     "output_type": "stream",
     "text": [
      "(643690, 164)\n"
     ]
    }
   ],
   "source": [
    "from pathlib import Path\n",
    "import pandas as pd\n",
    "\n",
    "# File paths\n",
    "raw_file = Path(\"data/raw/siab.csv\")\n",
    "cache_file = Path(\"data/siab_cached.csv.gz\")\n",
    "\n",
    "# Ensure cache directory exists\n",
    "cache_file.parent.mkdir(parents=True, exist_ok=True)\n",
    "\n",
    "# Load with simple caching\n",
    "if cache_file.exists():\n",
    "    print(f\"Loading SIAB data from cache: {cache_file}\")\n",
    "    siab = pd.read_csv(cache_file, compression='gzip')\n",
    "else:\n",
    "    print(f\"Cache not found. Reading raw SIAB data: {raw_file}\")\n",
    "    siab = pd.read_csv(raw_file)\n",
    "    siab.to_csv(cache_file, index=False, compression='gzip')\n",
    "    print(f\"Cached SIAB data to: {cache_file}\")\n",
    "\n",
    "# Now use `siab` DataFrame as needed\n",
    "print(siab.shape)"
   ]
  },
  {
   "cell_type": "code",
   "execution_count": 10,
   "id": "db0ca512-5f53-4dba-abdb-a2888bca41ba",
   "metadata": {
    "execution": {
     "iopub.execute_input": "2025-07-30T21:25:04.657629Z",
     "iopub.status.busy": "2025-07-30T21:25:04.656978Z",
     "iopub.status.idle": "2025-07-30T21:25:04.666158Z",
     "shell.execute_reply": "2025-07-30T21:25:04.664818Z"
    },
    "papermill": {
     "duration": 0.041867,
     "end_time": "2025-07-30T21:25:04.668771",
     "exception": false,
     "start_time": "2025-07-30T21:25:04.626904",
     "status": "completed"
    },
    "tags": []
   },
   "outputs": [],
   "source": [
    "#siab"
   ]
  },
  {
   "cell_type": "code",
   "execution_count": 11,
   "id": "a0edb063",
   "metadata": {
    "execution": {
     "iopub.execute_input": "2025-07-30T21:25:04.726772Z",
     "iopub.status.busy": "2025-07-30T21:25:04.726077Z",
     "iopub.status.idle": "2025-07-30T21:25:04.731905Z",
     "shell.execute_reply": "2025-07-30T21:25:04.730789Z"
    },
    "papermill": {
     "duration": 0.036809,
     "end_time": "2025-07-30T21:25:04.734147",
     "exception": false,
     "start_time": "2025-07-30T21:25:04.697338",
     "status": "completed"
    },
    "tags": []
   },
   "outputs": [],
   "source": [
    "#import pandas as pd\n",
    "#\n",
    "#X_train = pd.read_csv(\"./data/X_train.csv\")\n",
    "#y_train = pd.read_csv(\"./data/y_train.csv\")"
   ]
  },
  {
   "cell_type": "code",
   "execution_count": 12,
   "id": "63d08085",
   "metadata": {
    "execution": {
     "iopub.execute_input": "2025-07-30T21:25:04.783929Z",
     "iopub.status.busy": "2025-07-30T21:25:04.783084Z",
     "iopub.status.idle": "2025-07-30T21:25:04.787935Z",
     "shell.execute_reply": "2025-07-30T21:25:04.787044Z"
    },
    "papermill": {
     "duration": 0.029769,
     "end_time": "2025-07-30T21:25:04.789571",
     "exception": false,
     "start_time": "2025-07-30T21:25:04.759802",
     "status": "completed"
    },
    "tags": []
   },
   "outputs": [],
   "source": [
    "#X_test = pd.read_csv(\"./data/X_test.csv\")\n",
    "#y_true = pd.read_csv(\"./data/y_test.csv\")"
   ]
  },
  {
   "cell_type": "code",
   "execution_count": 13,
   "id": "98a8d0fa-1d3d-4ed8-bb2c-281470e24add",
   "metadata": {
    "execution": {
     "iopub.execute_input": "2025-07-30T21:25:04.835686Z",
     "iopub.status.busy": "2025-07-30T21:25:04.834776Z",
     "iopub.status.idle": "2025-07-30T21:25:04.839794Z",
     "shell.execute_reply": "2025-07-30T21:25:04.838845Z"
    },
    "papermill": {
     "duration": 0.031865,
     "end_time": "2025-07-30T21:25:04.841784",
     "exception": false,
     "start_time": "2025-07-30T21:25:04.809919",
     "status": "completed"
    },
    "tags": []
   },
   "outputs": [],
   "source": [
    "# Calibration data for conformal\n",
    "#X_calib = pd.read_csv(\"./data/X_calib.csv\")\n",
    "#y_calib = pd.read_csv(\"./data/y_calib.csv\")"
   ]
  },
  {
   "cell_type": "markdown",
   "id": "997051c5-15bd-4b69-9786-c3001a3ce484",
   "metadata": {
    "papermill": {
     "duration": 0.022448,
     "end_time": "2025-07-30T21:25:04.902389",
     "exception": false,
     "start_time": "2025-07-30T21:25:04.879941",
     "status": "completed"
    },
    "tags": []
   },
   "source": [
    "# Splitting Data and Setting Training Data Size"
   ]
  },
  {
   "cell_type": "code",
   "execution_count": 14,
   "id": "e993b61f-042d-41a6-8c81-f55681f86335",
   "metadata": {
    "execution": {
     "iopub.execute_input": "2025-07-30T21:25:04.949518Z",
     "iopub.status.busy": "2025-07-30T21:25:04.948862Z",
     "iopub.status.idle": "2025-07-30T21:25:04.962779Z",
     "shell.execute_reply": "2025-07-30T21:25:04.961799Z"
    },
    "papermill": {
     "duration": 0.039649,
     "end_time": "2025-07-30T21:25:04.964487",
     "exception": false,
     "start_time": "2025-07-30T21:25:04.924838",
     "status": "completed"
    },
    "tags": []
   },
   "outputs": [],
   "source": [
    "def sample_by_year_size(df,\n",
    "                        training_year: str,\n",
    "                        training_size: str,\n",
    "                        random_state: int = 42):\n",
    "    # --- parse training_year into a list of int years ---\n",
    "    if \"_\" in training_year:\n",
    "        start_str, end_str = training_year.split(\"_\", 1)\n",
    "        start = int(start_str)\n",
    "        end   = int(end_str) if len(end_str) == 4 else (int(end_str) + (start // 100)*100)\n",
    "        years = list(range(start, end + 1))\n",
    "    else:\n",
    "        years = [int(training_year)]\n",
    "\n",
    "    df = df[df[\"year\"].isin(years)].reset_index(drop=True)\n",
    "\n",
    "    # --- map training_size to total number of samples ---\n",
    "    total_map = {\"25k\": 25_000, \"5k\": 5_000, \"1k\": 1_000}\n",
    "    if training_size not in total_map:\n",
    "        return df  # e.g. \"all\"\n",
    "\n",
    "    total_samples = total_map[training_size]\n",
    "    n_years       = len(years)\n",
    "    base          = total_samples // n_years\n",
    "    remainder     = total_samples % n_years\n",
    "\n",
    "    # --- build a dict: year -> how many to sample ---\n",
    "    # give +1 to the first `remainder` years in ascending order\n",
    "    quotas = {\n",
    "        year: base + (1 if idx < remainder else 0)\n",
    "        for idx, year in enumerate(sorted(years))\n",
    "    }\n",
    "\n",
    "    # --- sample per‐year according to the quota dict ---\n",
    "    sampled = (\n",
    "        df\n",
    "        .groupby(\"year\", group_keys=False)\n",
    "        .apply(lambda grp: grp.sample(\n",
    "            n=min(len(grp), quotas[grp.name]),\n",
    "            random_state=random_state))\n",
    "        .reset_index(drop=True)\n",
    "    )\n",
    "\n",
    "    return sampled"
   ]
  },
  {
   "cell_type": "code",
   "execution_count": 15,
   "id": "c0ccd338-0e02-41f3-a09d-f56f9266e3fb",
   "metadata": {
    "execution": {
     "iopub.execute_input": "2025-07-30T21:25:05.008013Z",
     "iopub.status.busy": "2025-07-30T21:25:05.007579Z",
     "iopub.status.idle": "2025-07-30T21:25:05.012576Z",
     "shell.execute_reply": "2025-07-30T21:25:05.011785Z"
    },
    "papermill": {
     "duration": 0.030186,
     "end_time": "2025-07-30T21:25:05.013939",
     "exception": false,
     "start_time": "2025-07-30T21:25:04.983753",
     "status": "completed"
    },
    "tags": []
   },
   "outputs": [],
   "source": [
    "#universe[\"training_size\"]"
   ]
  },
  {
   "cell_type": "code",
   "execution_count": 16,
   "id": "ca707fd7-8047-4acd-bfa5-66248fbbf8e6",
   "metadata": {
    "execution": {
     "iopub.execute_input": "2025-07-30T21:25:05.054251Z",
     "iopub.status.busy": "2025-07-30T21:25:05.053778Z",
     "iopub.status.idle": "2025-07-30T21:25:05.079885Z",
     "shell.execute_reply": "2025-07-30T21:25:05.078928Z"
    },
    "papermill": {
     "duration": 0.053534,
     "end_time": "2025-07-30T21:25:05.082730",
     "exception": false,
     "start_time": "2025-07-30T21:25:05.029196",
     "status": "completed"
    },
    "tags": []
   },
   "outputs": [],
   "source": [
    "#universe[\"training_year\"]"
   ]
  },
  {
   "cell_type": "code",
   "execution_count": 17,
   "id": "aea9c6ef-6f46-42c8-85eb-5a62025c1508",
   "metadata": {
    "execution": {
     "iopub.execute_input": "2025-07-30T21:25:05.134298Z",
     "iopub.status.busy": "2025-07-30T21:25:05.133942Z",
     "iopub.status.idle": "2025-07-30T21:25:05.377473Z",
     "shell.execute_reply": "2025-07-30T21:25:05.376448Z"
    },
    "papermill": {
     "duration": 0.262312,
     "end_time": "2025-07-30T21:25:05.379103",
     "exception": false,
     "start_time": "2025-07-30T21:25:05.116791",
     "status": "completed"
    },
    "tags": []
   },
   "outputs": [],
   "source": [
    "siab_train = sample_by_year_size(siab,\n",
    "                               training_year=universe[\"training_year\"],\n",
    "                               training_size=universe[\"training_size\"])"
   ]
  },
  {
   "cell_type": "code",
   "execution_count": 18,
   "id": "8d3afb32-789d-442c-8d5d-9f5aa8dd2eed",
   "metadata": {
    "execution": {
     "iopub.execute_input": "2025-07-30T21:25:05.422313Z",
     "iopub.status.busy": "2025-07-30T21:25:05.421631Z",
     "iopub.status.idle": "2025-07-30T21:25:05.428219Z",
     "shell.execute_reply": "2025-07-30T21:25:05.427249Z"
    },
    "papermill": {
     "duration": 0.030855,
     "end_time": "2025-07-30T21:25:05.430262",
     "exception": false,
     "start_time": "2025-07-30T21:25:05.399407",
     "status": "completed"
    },
    "tags": []
   },
   "outputs": [],
   "source": [
    "#siab_train.shape"
   ]
  },
  {
   "cell_type": "code",
   "execution_count": 19,
   "id": "d582db68-1a4c-47fb-84fc-08518dc1975a",
   "metadata": {
    "execution": {
     "iopub.execute_input": "2025-07-30T21:25:05.473142Z",
     "iopub.status.busy": "2025-07-30T21:25:05.472247Z",
     "iopub.status.idle": "2025-07-30T21:25:05.477241Z",
     "shell.execute_reply": "2025-07-30T21:25:05.476249Z"
    },
    "papermill": {
     "duration": 0.027512,
     "end_time": "2025-07-30T21:25:05.478889",
     "exception": false,
     "start_time": "2025-07-30T21:25:05.451377",
     "status": "completed"
    },
    "tags": []
   },
   "outputs": [],
   "source": [
    "#display(siab_train.groupby(\"year\").size())"
   ]
  },
  {
   "cell_type": "code",
   "execution_count": 20,
   "id": "a561edb4-d032-42cb-8256-22eac1111c64",
   "metadata": {
    "execution": {
     "iopub.execute_input": "2025-07-30T21:25:05.525209Z",
     "iopub.status.busy": "2025-07-30T21:25:05.524745Z",
     "iopub.status.idle": "2025-07-30T21:25:05.761305Z",
     "shell.execute_reply": "2025-07-30T21:25:05.760560Z"
    },
    "papermill": {
     "duration": 0.262908,
     "end_time": "2025-07-30T21:25:05.762756",
     "exception": false,
     "start_time": "2025-07-30T21:25:05.499848",
     "status": "completed"
    },
    "tags": []
   },
   "outputs": [],
   "source": [
    "#siab_train = siab_s[siab_s.year < 2015]\n",
    "siab_calib = siab[siab.year == 2015]\n",
    "siab_test = siab[siab.year == 2016]"
   ]
  },
  {
   "cell_type": "code",
   "execution_count": 21,
   "id": "472de16f-c3db-4916-846b-1f0de9cf1746",
   "metadata": {
    "execution": {
     "iopub.execute_input": "2025-07-30T21:25:05.786363Z",
     "iopub.status.busy": "2025-07-30T21:25:05.785863Z",
     "iopub.status.idle": "2025-07-30T21:25:05.792571Z",
     "shell.execute_reply": "2025-07-30T21:25:05.791298Z"
    },
    "papermill": {
     "duration": 0.028636,
     "end_time": "2025-07-30T21:25:05.802744",
     "exception": false,
     "start_time": "2025-07-30T21:25:05.774108",
     "status": "completed"
    },
    "tags": []
   },
   "outputs": [],
   "source": [
    "X_train = siab_train.iloc[:,4:164]\n",
    "y_train = siab_train.iloc[:, [3]]"
   ]
  },
  {
   "cell_type": "code",
   "execution_count": 22,
   "id": "828c96af-f43a-4ed6-ba47-8ac73a47d56c",
   "metadata": {
    "execution": {
     "iopub.execute_input": "2025-07-30T21:25:05.862084Z",
     "iopub.status.busy": "2025-07-30T21:25:05.861629Z",
     "iopub.status.idle": "2025-07-30T21:25:05.913042Z",
     "shell.execute_reply": "2025-07-30T21:25:05.911875Z"
    },
    "papermill": {
     "duration": 0.080332,
     "end_time": "2025-07-30T21:25:05.914871",
     "exception": false,
     "start_time": "2025-07-30T21:25:05.834539",
     "status": "completed"
    },
    "tags": []
   },
   "outputs": [],
   "source": [
    "X_calib = siab_calib.iloc[:,4:164]\n",
    "y_calib = siab_calib.iloc[:, [3]]"
   ]
  },
  {
   "cell_type": "code",
   "execution_count": 23,
   "id": "c34be9c3-6bd6-476e-acd3-845840e303be",
   "metadata": {
    "execution": {
     "iopub.execute_input": "2025-07-30T21:25:05.959913Z",
     "iopub.status.busy": "2025-07-30T21:25:05.959470Z",
     "iopub.status.idle": "2025-07-30T21:25:06.013847Z",
     "shell.execute_reply": "2025-07-30T21:25:06.012827Z"
    },
    "papermill": {
     "duration": 0.077546,
     "end_time": "2025-07-30T21:25:06.015411",
     "exception": false,
     "start_time": "2025-07-30T21:25:05.937865",
     "status": "completed"
    },
    "tags": []
   },
   "outputs": [],
   "source": [
    "X_test = siab_test.iloc[:,4:164]\n",
    "y_true = siab_test.iloc[:, [3]]"
   ]
  },
  {
   "cell_type": "markdown",
   "id": "9901737e-04df-44f0-9100-f5ad144ed040",
   "metadata": {
    "papermill": {
     "duration": 0.021035,
     "end_time": "2025-07-30T21:25:06.057864",
     "exception": false,
     "start_time": "2025-07-30T21:25:06.036829",
     "status": "completed"
    },
    "tags": []
   },
   "source": [
    "# Splitting Data and Setting Training Data Size OLD VERSION"
   ]
  },
  {
   "cell_type": "code",
   "execution_count": 24,
   "id": "acbc8f7d-8fc8-4e86-8c59-5dcb0f58384b",
   "metadata": {
    "execution": {
     "iopub.execute_input": "2025-07-30T21:25:06.102774Z",
     "iopub.status.busy": "2025-07-30T21:25:06.101857Z",
     "iopub.status.idle": "2025-07-30T21:25:06.107154Z",
     "shell.execute_reply": "2025-07-30T21:25:06.106254Z"
    },
    "papermill": {
     "duration": 0.029707,
     "end_time": "2025-07-30T21:25:06.108577",
     "exception": false,
     "start_time": "2025-07-30T21:25:06.078870",
     "status": "completed"
    },
    "tags": []
   },
   "outputs": [],
   "source": [
    "#def sample_by_year(df, training_size, random_state=42):\n",
    "#    if training_size == \"2014\":\n",
    "#        return df[df[\"year\"] == 2014].reset_index(drop=True)\n",
    "#    \n",
    "#    size_map = {\n",
    "#        \"25k\": 5000,\n",
    "#        \"5k\": 1000,\n",
    "#        \"1k\": 200\n",
    "#    }\n",
    "#\n",
    "#    if training_size not in size_map:\n",
    "#        return df.reset_index(drop=True)  # use all data\n",
    "#\n",
    "#    n_per_year = size_map[training_size]\n",
    "#    grouped = df.groupby(\"year\")\n",
    "#    sampled = grouped.apply(lambda x: x.sample(n=min(n_per_year, len(x)), random_state=random_state))\n",
    "#    return sampled.reset_index(drop=True)"
   ]
  },
  {
   "cell_type": "code",
   "execution_count": 25,
   "id": "6d931f52-beaf-43ff-9e78-9d44a448d54e",
   "metadata": {
    "execution": {
     "iopub.execute_input": "2025-07-30T21:25:06.133109Z",
     "iopub.status.busy": "2025-07-30T21:25:06.132724Z",
     "iopub.status.idle": "2025-07-30T21:25:06.140398Z",
     "shell.execute_reply": "2025-07-30T21:25:06.139563Z"
    },
    "papermill": {
     "duration": 0.021087,
     "end_time": "2025-07-30T21:25:06.141826",
     "exception": false,
     "start_time": "2025-07-30T21:25:06.120739",
     "status": "completed"
    },
    "tags": []
   },
   "outputs": [],
   "source": [
    "#siab_s = sample_by_year(siab, universe[\"training_size\"])"
   ]
  },
  {
   "cell_type": "code",
   "execution_count": 26,
   "id": "5db0a40e-a4e2-4920-be85-b12ae061d70d",
   "metadata": {
    "execution": {
     "iopub.execute_input": "2025-07-30T21:25:06.172082Z",
     "iopub.status.busy": "2025-07-30T21:25:06.171233Z",
     "iopub.status.idle": "2025-07-30T21:25:06.175754Z",
     "shell.execute_reply": "2025-07-30T21:25:06.175069Z"
    },
    "papermill": {
     "duration": 0.023264,
     "end_time": "2025-07-30T21:25:06.177120",
     "exception": false,
     "start_time": "2025-07-30T21:25:06.153856",
     "status": "completed"
    },
    "tags": []
   },
   "outputs": [],
   "source": [
    "#display(siab_s.groupby(\"year\").size())"
   ]
  },
  {
   "cell_type": "code",
   "execution_count": 27,
   "id": "e6c733c5",
   "metadata": {
    "execution": {
     "iopub.execute_input": "2025-07-30T21:25:06.216815Z",
     "iopub.status.busy": "2025-07-30T21:25:06.216249Z",
     "iopub.status.idle": "2025-07-30T21:25:06.313017Z",
     "shell.execute_reply": "2025-07-30T21:25:06.312143Z"
    },
    "papermill": {
     "duration": 0.123747,
     "end_time": "2025-07-30T21:25:06.315774",
     "exception": false,
     "start_time": "2025-07-30T21:25:06.192027",
     "status": "completed"
    },
    "tags": []
   },
   "outputs": [],
   "source": [
    "# Auxiliary data needed downstream in the pipeline\n",
    "\n",
    "org_train = X_train.copy()\n",
    "org_test = X_test.copy()\n",
    "org_calib = X_calib.copy()"
   ]
  },
  {
   "cell_type": "code",
   "execution_count": 28,
   "id": "1466abac-c6da-4492-a62f-4240ae3783af",
   "metadata": {
    "execution": {
     "iopub.execute_input": "2025-07-30T21:25:06.363188Z",
     "iopub.status.busy": "2025-07-30T21:25:06.362715Z",
     "iopub.status.idle": "2025-07-30T21:25:06.368827Z",
     "shell.execute_reply": "2025-07-30T21:25:06.367752Z"
    },
    "papermill": {
     "duration": 0.031716,
     "end_time": "2025-07-30T21:25:06.370627",
     "exception": false,
     "start_time": "2025-07-30T21:25:06.338911",
     "status": "completed"
    },
    "tags": []
   },
   "outputs": [],
   "source": [
    "# put in other script?\n",
    "# Group sizes\n",
    "\n",
    "#def calculate_percentages(df, df_name):\n",
    "#    total_entries = len(df)\n",
    "#\n",
    "#    female_pct = (df['frau1'] == 1).mean() * 100\n",
    "#    non_german_pct = ((df['maxdeutsch1'] == 0) & (df['maxdeutsch.Missing.'] == 0)).mean() * 100\n",
    "#    non_german_male_pct = ((df['frau1'] == 0) & (df['maxdeutsch1'] == 0) & (df['maxdeutsch.Missing.'] == 0)).mean() * 100\n",
    "#    non_german_female_pct = ((df['frau1'] == 1) & (df['maxdeutsch1'] == 0) & (df['maxdeutsch.Missing.'] == 0)).mean() * 100\n",
    "#\n",
    "#    print(f\"--- {df_name} ---\")\n",
    "#    print(f\"Female: {female_pct:.2f}%\")\n",
    "#    print(f\"Non-German: {non_german_pct:.2f}%\")\n",
    "#    print(f\"Non-German Male: {non_german_male_pct:.2f}%\")\n",
    "#    print(f\"Non-German Female: {non_german_female_pct:.2f}%\\n\")\n",
    "#\n",
    "## Calculate for each DataFrame\n",
    "#calculate_percentages(siab_calib, \"siab_calib\")\n",
    "#calculate_percentages(siab_test, \"siab_test\")\n",
    "#calculate_percentages(siab_train, \"siab_train\")"
   ]
  },
  {
   "cell_type": "markdown",
   "id": "0a4a1b33",
   "metadata": {
    "papermill": {
     "duration": 0.020033,
     "end_time": "2025-07-30T21:25:06.415208",
     "exception": false,
     "start_time": "2025-07-30T21:25:06.395175",
     "status": "completed"
    },
    "tags": []
   },
   "source": [
    "# Preprocessing Data"
   ]
  },
  {
   "cell_type": "code",
   "execution_count": 29,
   "id": "ca879031",
   "metadata": {
    "execution": {
     "iopub.execute_input": "2025-07-30T21:25:06.461711Z",
     "iopub.status.busy": "2025-07-30T21:25:06.461205Z",
     "iopub.status.idle": "2025-07-30T21:25:06.467114Z",
     "shell.execute_reply": "2025-07-30T21:25:06.465988Z"
    },
    "papermill": {
     "duration": 0.031229,
     "end_time": "2025-07-30T21:25:06.468863",
     "exception": false,
     "start_time": "2025-07-30T21:25:06.437634",
     "status": "completed"
    },
    "tags": []
   },
   "outputs": [],
   "source": [
    "# EXCLUDE PROTECTED FEATURES\n",
    "# ----------------------\n",
    "# \"exclude_features\": \"none\", # \"nationality\", \"sex\", \"nationality-sex\"\n",
    "\n",
    "excluded_features = universe[\"exclude_features\"].split(\"-\") # split, e.g.: \"nationality-sex\" -> [\"nationality\", \"sex\"]\n",
    "excluded_features_dictionary = {\n",
    "    \"nationality\": [\"maxdeutsch1\", \"maxdeutsch.Missing.\"],\n",
    "    \"sex\": [\"frau1\"],\n",
    "    \"age\": [\"age\"],\n",
    "}\n"
   ]
  },
  {
   "cell_type": "code",
   "execution_count": 30,
   "id": "b745ac60",
   "metadata": {
    "execution": {
     "iopub.execute_input": "2025-07-30T21:25:06.516936Z",
     "iopub.status.busy": "2025-07-30T21:25:06.516469Z",
     "iopub.status.idle": "2025-07-30T21:25:06.522343Z",
     "shell.execute_reply": "2025-07-30T21:25:06.521296Z"
    },
    "papermill": {
     "duration": 0.03251,
     "end_time": "2025-07-30T21:25:06.525103",
     "exception": false,
     "start_time": "2025-07-30T21:25:06.492593",
     "status": "completed"
    },
    "tags": []
   },
   "outputs": [],
   "source": [
    "# Code nice names to column names\n",
    "\n",
    "excluded_features_columns = [\n",
    "    excluded_features_dictionary[f] for f in excluded_features if len(f) > 0 and f != \"none\"\n",
    "]"
   ]
  },
  {
   "cell_type": "code",
   "execution_count": 31,
   "id": "f84f73a2",
   "metadata": {
    "execution": {
     "iopub.execute_input": "2025-07-30T21:25:06.569382Z",
     "iopub.status.busy": "2025-07-30T21:25:06.568906Z",
     "iopub.status.idle": "2025-07-30T21:25:06.575434Z",
     "shell.execute_reply": "2025-07-30T21:25:06.574438Z"
    },
    "papermill": {
     "duration": 0.030495,
     "end_time": "2025-07-30T21:25:06.577170",
     "exception": false,
     "start_time": "2025-07-30T21:25:06.546675",
     "status": "completed"
    },
    "tags": []
   },
   "outputs": [],
   "source": [
    "from utils import flatten_once\n",
    "\n",
    "excluded_features_columns = flatten_once(excluded_features_columns)"
   ]
  },
  {
   "cell_type": "code",
   "execution_count": 32,
   "id": "884dea22",
   "metadata": {
    "execution": {
     "iopub.execute_input": "2025-07-30T21:25:06.621072Z",
     "iopub.status.busy": "2025-07-30T21:25:06.620758Z",
     "iopub.status.idle": "2025-07-30T21:25:06.627886Z",
     "shell.execute_reply": "2025-07-30T21:25:06.626917Z"
    },
    "papermill": {
     "duration": 0.030588,
     "end_time": "2025-07-30T21:25:06.629803",
     "exception": false,
     "start_time": "2025-07-30T21:25:06.599215",
     "status": "completed"
    },
    "tags": []
   },
   "outputs": [
    {
     "name": "stdout",
     "output_type": "stream",
     "text": [
      "Dropping features: ['age']\n"
     ]
    }
   ],
   "source": [
    "if len(excluded_features_columns) > 0:\n",
    "    print(f\"Dropping features: {excluded_features_columns}\")\n",
    "    X_train.drop(excluded_features_columns, axis=1, inplace=True)"
   ]
  },
  {
   "cell_type": "code",
   "execution_count": 33,
   "id": "95ab8b16",
   "metadata": {
    "execution": {
     "iopub.execute_input": "2025-07-30T21:25:06.673607Z",
     "iopub.status.busy": "2025-07-30T21:25:06.673264Z",
     "iopub.status.idle": "2025-07-30T21:25:06.733758Z",
     "shell.execute_reply": "2025-07-30T21:25:06.732576Z"
    },
    "papermill": {
     "duration": 0.083718,
     "end_time": "2025-07-30T21:25:06.735540",
     "exception": false,
     "start_time": "2025-07-30T21:25:06.651822",
     "status": "completed"
    },
    "tags": []
   },
   "outputs": [
    {
     "name": "stdout",
     "output_type": "stream",
     "text": [
      "Dropping features: ['age']\n"
     ]
    }
   ],
   "source": [
    "if len(excluded_features_columns) > 0:\n",
    "    print(f\"Dropping features: {excluded_features_columns}\")\n",
    "    X_test.drop(excluded_features_columns, axis=1, inplace=True)"
   ]
  },
  {
   "cell_type": "code",
   "execution_count": 34,
   "id": "1853aaf5-fb9f-46cb-a2b5-8ea4ae2237e4",
   "metadata": {
    "execution": {
     "iopub.execute_input": "2025-07-30T21:25:06.781721Z",
     "iopub.status.busy": "2025-07-30T21:25:06.781278Z",
     "iopub.status.idle": "2025-07-30T21:25:06.835294Z",
     "shell.execute_reply": "2025-07-30T21:25:06.833854Z"
    },
    "papermill": {
     "duration": 0.078383,
     "end_time": "2025-07-30T21:25:06.837039",
     "exception": false,
     "start_time": "2025-07-30T21:25:06.758656",
     "status": "completed"
    },
    "tags": []
   },
   "outputs": [
    {
     "name": "stdout",
     "output_type": "stream",
     "text": [
      "Dropping features: ['age']\n"
     ]
    }
   ],
   "source": [
    "if len(excluded_features_columns) > 0:\n",
    "    print(f\"Dropping features: {excluded_features_columns}\")\n",
    "    X_calib.drop(excluded_features_columns, axis=1, inplace=True)"
   ]
  },
  {
   "cell_type": "code",
   "execution_count": 35,
   "id": "6727d079-03e5-481e-9d38-292a90b7a0a8",
   "metadata": {
    "execution": {
     "iopub.execute_input": "2025-07-30T21:25:06.873084Z",
     "iopub.status.busy": "2025-07-30T21:25:06.872693Z",
     "iopub.status.idle": "2025-07-30T21:25:06.877252Z",
     "shell.execute_reply": "2025-07-30T21:25:06.876328Z"
    },
    "papermill": {
     "duration": 0.024769,
     "end_time": "2025-07-30T21:25:06.878774",
     "exception": false,
     "start_time": "2025-07-30T21:25:06.854005",
     "status": "completed"
    },
    "tags": []
   },
   "outputs": [],
   "source": [
    "# SPLIT & STRATIFY DATA\n",
    "# ----------------------"
   ]
  },
  {
   "cell_type": "code",
   "execution_count": 36,
   "id": "76c4dc6d",
   "metadata": {
    "execution": {
     "iopub.execute_input": "2025-07-30T21:25:06.926237Z",
     "iopub.status.busy": "2025-07-30T21:25:06.925369Z",
     "iopub.status.idle": "2025-07-30T21:25:06.930505Z",
     "shell.execute_reply": "2025-07-30T21:25:06.929546Z"
    },
    "papermill": {
     "duration": 0.030771,
     "end_time": "2025-07-30T21:25:06.932221",
     "exception": false,
     "start_time": "2025-07-30T21:25:06.901450",
     "status": "completed"
    },
    "tags": []
   },
   "outputs": [],
   "source": [
    "# EXCLUDE CERTAIN SUBGROUPS\n",
    "# ----------------------\n",
    "\n",
    "mode = universe.get(\"exclude_subgroups\", \"keep-all\") \n",
    "# Fetches the exclude_subgroups setting from the universe dict.\n",
    "# Defaults to \"keep-all\" if the key is missing."
   ]
  },
  {
   "cell_type": "code",
   "execution_count": 37,
   "id": "21994072",
   "metadata": {
    "execution": {
     "iopub.execute_input": "2025-07-30T21:25:06.978640Z",
     "iopub.status.busy": "2025-07-30T21:25:06.978143Z",
     "iopub.status.idle": "2025-07-30T21:25:06.984502Z",
     "shell.execute_reply": "2025-07-30T21:25:06.983312Z"
    },
    "papermill": {
     "duration": 0.029857,
     "end_time": "2025-07-30T21:25:06.986132",
     "exception": false,
     "start_time": "2025-07-30T21:25:06.956275",
     "status": "completed"
    },
    "tags": []
   },
   "outputs": [],
   "source": [
    "if mode == \"keep-all\":\n",
    "    keep_mask = pd.Series(True, index=org_train.index)\n",
    "\n",
    "# org_train contains the original feature columns from features_org (in Simson)\n",
    "# features_org contains unprocessed features, for me X_train at beginning ???\n",
    "# For keep-all, creates a boolean Series (keep_mask) of all True, so no rows are removed.\n",
    "\n",
    "elif mode == \"drop-non-german\":\n",
    "    keep_mask = org_train[\"maxdeutsch1\"] == 1 # ??? what about missing values?\n",
    "\n",
    "else:\n",
    "    raise ValueError(f\"Unsupported mode for exclude_subgroups: {mode}\")\n"
   ]
  },
  {
   "cell_type": "code",
   "execution_count": 38,
   "id": "71651440",
   "metadata": {
    "execution": {
     "iopub.execute_input": "2025-07-30T21:25:07.028684Z",
     "iopub.status.busy": "2025-07-30T21:25:07.027906Z",
     "iopub.status.idle": "2025-07-30T21:25:07.034491Z",
     "shell.execute_reply": "2025-07-30T21:25:07.033474Z"
    },
    "papermill": {
     "duration": 0.031027,
     "end_time": "2025-07-30T21:25:07.037805",
     "exception": false,
     "start_time": "2025-07-30T21:25:07.006778",
     "status": "completed"
    },
    "tags": []
   },
   "outputs": [
    {
     "name": "stdout",
     "output_type": "stream",
     "text": [
      "Dropping 147 rows (14.70%) where mode='drop-non-german'\n"
     ]
    }
   ],
   "source": [
    "n_drop = (~keep_mask).sum() # Calculates how many rows are set to be dropped\n",
    "if n_drop > 0:\n",
    "    pct = n_drop / len(keep_mask) * 100\n",
    "    print(f\"Dropping {n_drop} rows ({pct:.2f}%) where mode='{mode}'\")"
   ]
  },
  {
   "cell_type": "code",
   "execution_count": 39,
   "id": "5fb8eee5",
   "metadata": {
    "execution": {
     "iopub.execute_input": "2025-07-30T21:25:07.093574Z",
     "iopub.status.busy": "2025-07-30T21:25:07.093042Z",
     "iopub.status.idle": "2025-07-30T21:25:07.100775Z",
     "shell.execute_reply": "2025-07-30T21:25:07.099503Z"
    },
    "papermill": {
     "duration": 0.042776,
     "end_time": "2025-07-30T21:25:07.102464",
     "exception": false,
     "start_time": "2025-07-30T21:25:07.059688",
     "status": "completed"
    },
    "tags": []
   },
   "outputs": [],
   "source": [
    "X_train = X_train[keep_mask]"
   ]
  },
  {
   "cell_type": "code",
   "execution_count": 40,
   "id": "b202bb3a",
   "metadata": {
    "execution": {
     "iopub.execute_input": "2025-07-30T21:25:07.150337Z",
     "iopub.status.busy": "2025-07-30T21:25:07.149854Z",
     "iopub.status.idle": "2025-07-30T21:25:07.157067Z",
     "shell.execute_reply": "2025-07-30T21:25:07.155706Z"
    },
    "papermill": {
     "duration": 0.033007,
     "end_time": "2025-07-30T21:25:07.158881",
     "exception": false,
     "start_time": "2025-07-30T21:25:07.125874",
     "status": "completed"
    },
    "tags": []
   },
   "outputs": [],
   "source": [
    "y_train = y_train[keep_mask]"
   ]
  },
  {
   "cell_type": "markdown",
   "id": "493e2ac3",
   "metadata": {
    "papermill": {
     "duration": 0.022727,
     "end_time": "2025-07-30T21:25:07.205233",
     "exception": false,
     "start_time": "2025-07-30T21:25:07.182506",
     "status": "completed"
    },
    "tags": []
   },
   "source": [
    "# Model Training"
   ]
  },
  {
   "cell_type": "code",
   "execution_count": 41,
   "id": "679e1268",
   "metadata": {
    "execution": {
     "iopub.execute_input": "2025-07-30T21:25:07.258928Z",
     "iopub.status.busy": "2025-07-30T21:25:07.258454Z",
     "iopub.status.idle": "2025-07-30T21:25:07.418658Z",
     "shell.execute_reply": "2025-07-30T21:25:07.417729Z"
    },
    "papermill": {
     "duration": 0.189911,
     "end_time": "2025-07-30T21:25:07.420719",
     "exception": false,
     "start_time": "2025-07-30T21:25:07.230808",
     "status": "completed"
    },
    "tags": []
   },
   "outputs": [],
   "source": [
    "from sklearn.linear_model import LogisticRegression\n",
    "from sklearn.ensemble import GradientBoostingClassifier, RandomForestClassifier\n",
    "\n",
    "if (universe[\"model\"] == \"logreg\"):\n",
    "    model = LogisticRegression() #penalty=\"none\") #, solver=\"newton-cg\", max_iter=1) # include random_state=19 ?\n",
    "elif (universe[\"model\"] == \"penalized_logreg\"):\n",
    "    model = LogisticRegression(penalty=\"l2\", C=1.0) #, solver=\"newton-cg\", max_iter=1)\n",
    "elif (universe[\"model\"] == \"rf\"):\n",
    "    model = RandomForestClassifier(n_estimators=100, n_jobs=-1)\n",
    "elif (universe[\"model\"] == \"gbm\"):\n",
    "    model = GradientBoostingClassifier()\n",
    "elif (universe[\"model\"] == \"elasticnet\"):\n",
    "    model = LogisticRegression(penalty = 'elasticnet', solver = 'saga', l1_ratio = 0.5, max_iter=5000) # which solver to use?\n",
    "else:\n",
    "    raise \"Unsupported universe.model\""
   ]
  },
  {
   "cell_type": "code",
   "execution_count": 42,
   "id": "0cc8f744",
   "metadata": {
    "execution": {
     "iopub.execute_input": "2025-07-30T21:25:07.474401Z",
     "iopub.status.busy": "2025-07-30T21:25:07.473531Z",
     "iopub.status.idle": "2025-07-30T21:25:07.480560Z",
     "shell.execute_reply": "2025-07-30T21:25:07.479464Z"
    },
    "papermill": {
     "duration": 0.035685,
     "end_time": "2025-07-30T21:25:07.483545",
     "exception": false,
     "start_time": "2025-07-30T21:25:07.447860",
     "status": "completed"
    },
    "tags": []
   },
   "outputs": [],
   "source": [
    "import numpy as np\n",
    "from sklearn.pipeline import Pipeline\n",
    "from sklearn.preprocessing import StandardScaler\n",
    "\n",
    "model = Pipeline([\n",
    "    #(\"continuous_processor\", continuous_processor),\n",
    "    #(\"categorical_preprocessor\", categorical_preprocessor),\n",
    "    (\"scale\", StandardScaler() if universe[\"scale\"] == \"scale\" else None), \n",
    "    (\"model\", model),\n",
    "])"
   ]
  },
  {
   "cell_type": "code",
   "execution_count": 43,
   "id": "9442c04d",
   "metadata": {
    "execution": {
     "iopub.execute_input": "2025-07-30T21:25:07.539855Z",
     "iopub.status.busy": "2025-07-30T21:25:07.539308Z",
     "iopub.status.idle": "2025-07-30T21:25:08.095142Z",
     "shell.execute_reply": "2025-07-30T21:25:08.094062Z"
    },
    "papermill": {
     "duration": 0.588334,
     "end_time": "2025-07-30T21:25:08.097171",
     "exception": false,
     "start_time": "2025-07-30T21:25:07.508837",
     "status": "completed"
    },
    "tags": []
   },
   "outputs": [
    {
     "data": {
      "text/html": [
       "<style>#sk-container-id-1 {color: black;background-color: white;}#sk-container-id-1 pre{padding: 0;}#sk-container-id-1 div.sk-toggleable {background-color: white;}#sk-container-id-1 label.sk-toggleable__label {cursor: pointer;display: block;width: 100%;margin-bottom: 0;padding: 0.3em;box-sizing: border-box;text-align: center;}#sk-container-id-1 label.sk-toggleable__label-arrow:before {content: \"▸\";float: left;margin-right: 0.25em;color: #696969;}#sk-container-id-1 label.sk-toggleable__label-arrow:hover:before {color: black;}#sk-container-id-1 div.sk-estimator:hover label.sk-toggleable__label-arrow:before {color: black;}#sk-container-id-1 div.sk-toggleable__content {max-height: 0;max-width: 0;overflow: hidden;text-align: left;background-color: #f0f8ff;}#sk-container-id-1 div.sk-toggleable__content pre {margin: 0.2em;color: black;border-radius: 0.25em;background-color: #f0f8ff;}#sk-container-id-1 input.sk-toggleable__control:checked~div.sk-toggleable__content {max-height: 200px;max-width: 100%;overflow: auto;}#sk-container-id-1 input.sk-toggleable__control:checked~label.sk-toggleable__label-arrow:before {content: \"▾\";}#sk-container-id-1 div.sk-estimator input.sk-toggleable__control:checked~label.sk-toggleable__label {background-color: #d4ebff;}#sk-container-id-1 div.sk-label input.sk-toggleable__control:checked~label.sk-toggleable__label {background-color: #d4ebff;}#sk-container-id-1 input.sk-hidden--visually {border: 0;clip: rect(1px 1px 1px 1px);clip: rect(1px, 1px, 1px, 1px);height: 1px;margin: -1px;overflow: hidden;padding: 0;position: absolute;width: 1px;}#sk-container-id-1 div.sk-estimator {font-family: monospace;background-color: #f0f8ff;border: 1px dotted black;border-radius: 0.25em;box-sizing: border-box;margin-bottom: 0.5em;}#sk-container-id-1 div.sk-estimator:hover {background-color: #d4ebff;}#sk-container-id-1 div.sk-parallel-item::after {content: \"\";width: 100%;border-bottom: 1px solid gray;flex-grow: 1;}#sk-container-id-1 div.sk-label:hover label.sk-toggleable__label {background-color: #d4ebff;}#sk-container-id-1 div.sk-serial::before {content: \"\";position: absolute;border-left: 1px solid gray;box-sizing: border-box;top: 0;bottom: 0;left: 50%;z-index: 0;}#sk-container-id-1 div.sk-serial {display: flex;flex-direction: column;align-items: center;background-color: white;padding-right: 0.2em;padding-left: 0.2em;position: relative;}#sk-container-id-1 div.sk-item {position: relative;z-index: 1;}#sk-container-id-1 div.sk-parallel {display: flex;align-items: stretch;justify-content: center;background-color: white;position: relative;}#sk-container-id-1 div.sk-item::before, #sk-container-id-1 div.sk-parallel-item::before {content: \"\";position: absolute;border-left: 1px solid gray;box-sizing: border-box;top: 0;bottom: 0;left: 50%;z-index: -1;}#sk-container-id-1 div.sk-parallel-item {display: flex;flex-direction: column;z-index: 1;position: relative;background-color: white;}#sk-container-id-1 div.sk-parallel-item:first-child::after {align-self: flex-end;width: 50%;}#sk-container-id-1 div.sk-parallel-item:last-child::after {align-self: flex-start;width: 50%;}#sk-container-id-1 div.sk-parallel-item:only-child::after {width: 0;}#sk-container-id-1 div.sk-dashed-wrapped {border: 1px dashed gray;margin: 0 0.4em 0.5em 0.4em;box-sizing: border-box;padding-bottom: 0.4em;background-color: white;}#sk-container-id-1 div.sk-label label {font-family: monospace;font-weight: bold;display: inline-block;line-height: 1.2em;}#sk-container-id-1 div.sk-label-container {text-align: center;}#sk-container-id-1 div.sk-container {/* jupyter's `normalize.less` sets `[hidden] { display: none; }` but bootstrap.min.css set `[hidden] { display: none !important; }` so we also need the `!important` here to be able to override the default hidden behavior on the sphinx rendered scikit-learn.org. See: https://github.com/scikit-learn/scikit-learn/issues/21755 */display: inline-block !important;position: relative;}#sk-container-id-1 div.sk-text-repr-fallback {display: none;}</style><div id=\"sk-container-id-1\" class=\"sk-top-container\"><div class=\"sk-text-repr-fallback\"><pre>Pipeline(steps=[(&#x27;scale&#x27;, StandardScaler()),\n",
       "                (&#x27;model&#x27;, RandomForestClassifier(n_jobs=-1))])</pre><b>In a Jupyter environment, please rerun this cell to show the HTML representation or trust the notebook. <br />On GitHub, the HTML representation is unable to render, please try loading this page with nbviewer.org.</b></div><div class=\"sk-container\" hidden><div class=\"sk-item sk-dashed-wrapped\"><div class=\"sk-label-container\"><div class=\"sk-label sk-toggleable\"><input class=\"sk-toggleable__control sk-hidden--visually\" id=\"sk-estimator-id-1\" type=\"checkbox\" ><label for=\"sk-estimator-id-1\" class=\"sk-toggleable__label sk-toggleable__label-arrow\">Pipeline</label><div class=\"sk-toggleable__content\"><pre>Pipeline(steps=[(&#x27;scale&#x27;, StandardScaler()),\n",
       "                (&#x27;model&#x27;, RandomForestClassifier(n_jobs=-1))])</pre></div></div></div><div class=\"sk-serial\"><div class=\"sk-item\"><div class=\"sk-estimator sk-toggleable\"><input class=\"sk-toggleable__control sk-hidden--visually\" id=\"sk-estimator-id-2\" type=\"checkbox\" ><label for=\"sk-estimator-id-2\" class=\"sk-toggleable__label sk-toggleable__label-arrow\">StandardScaler</label><div class=\"sk-toggleable__content\"><pre>StandardScaler()</pre></div></div></div><div class=\"sk-item\"><div class=\"sk-estimator sk-toggleable\"><input class=\"sk-toggleable__control sk-hidden--visually\" id=\"sk-estimator-id-3\" type=\"checkbox\" ><label for=\"sk-estimator-id-3\" class=\"sk-toggleable__label sk-toggleable__label-arrow\">RandomForestClassifier</label><div class=\"sk-toggleable__content\"><pre>RandomForestClassifier(n_jobs=-1)</pre></div></div></div></div></div></div></div>"
      ],
      "text/plain": [
       "Pipeline(steps=[('scale', StandardScaler()),\n",
       "                ('model', RandomForestClassifier(n_jobs=-1))])"
      ]
     },
     "execution_count": 43,
     "metadata": {},
     "output_type": "execute_result"
    }
   ],
   "source": [
    "model.fit(X_train, y_train.values.ravel())"
   ]
  },
  {
   "cell_type": "code",
   "execution_count": 44,
   "id": "af59f8c0",
   "metadata": {
    "execution": {
     "iopub.execute_input": "2025-07-30T21:25:08.186460Z",
     "iopub.status.busy": "2025-07-30T21:25:08.186074Z",
     "iopub.status.idle": "2025-07-30T21:25:08.197417Z",
     "shell.execute_reply": "2025-07-30T21:25:08.196122Z"
    },
    "papermill": {
     "duration": 0.067178,
     "end_time": "2025-07-30T21:25:08.199174",
     "exception": false,
     "start_time": "2025-07-30T21:25:08.131996",
     "status": "completed"
    },
    "tags": []
   },
   "outputs": [],
   "source": [
    "from fairness_multiverse.universe import predict_w_threshold"
   ]
  },
  {
   "cell_type": "code",
   "execution_count": 45,
   "id": "a7cf2e16",
   "metadata": {
    "execution": {
     "iopub.execute_input": "2025-07-30T21:25:08.274017Z",
     "iopub.status.busy": "2025-07-30T21:25:08.273628Z",
     "iopub.status.idle": "2025-07-30T21:25:09.355323Z",
     "shell.execute_reply": "2025-07-30T21:25:09.346278Z"
    },
    "papermill": {
     "duration": 1.129307,
     "end_time": "2025-07-30T21:25:09.357585",
     "exception": false,
     "start_time": "2025-07-30T21:25:08.228278",
     "status": "completed"
    },
    "tags": []
   },
   "outputs": [
    {
     "data": {
      "text/plain": [
       "0.8599152825771932"
      ]
     },
     "execution_count": 45,
     "metadata": {},
     "output_type": "execute_result"
    }
   ],
   "source": [
    "probs_test = model.predict_proba(X_test)\n",
    "\n",
    "'''\n",
    "Below code returns a boolean array (or binary 0/1 array depending on how it’s used) where each element \n",
    "is True if the probability of class 1 is greater than or equal to the threshold, and False otherwise.\n",
    "'''\n",
    "y_pred_default = predict_w_threshold(probs_test, 0.5)\n",
    "\n",
    "from sklearn.metrics import accuracy_score\n",
    "\n",
    "# Naive prediction\n",
    "accuracy_score(y_true = y_true, y_pred = y_pred_default)"
   ]
  },
  {
   "cell_type": "code",
   "execution_count": 46,
   "id": "081964c3",
   "metadata": {
    "execution": {
     "iopub.execute_input": "2025-07-30T21:25:09.450500Z",
     "iopub.status.busy": "2025-07-30T21:25:09.449401Z",
     "iopub.status.idle": "2025-07-30T21:25:10.310445Z",
     "shell.execute_reply": "2025-07-30T21:25:10.309527Z"
    },
    "papermill": {
     "duration": 0.902269,
     "end_time": "2025-07-30T21:25:10.312214",
     "exception": false,
     "start_time": "2025-07-30T21:25:09.409945",
     "status": "completed"
    },
    "tags": []
   },
   "outputs": [
    {
     "data": {
      "text/plain": [
       "array([0, 0, 0, ..., 0, 0, 0])"
      ]
     },
     "execution_count": 46,
     "metadata": {},
     "output_type": "execute_result"
    }
   ],
   "source": [
    "model.predict(X_test)"
   ]
  },
  {
   "cell_type": "markdown",
   "id": "56c9705b",
   "metadata": {
    "papermill": {
     "duration": 0.022805,
     "end_time": "2025-07-30T21:25:10.361168",
     "exception": false,
     "start_time": "2025-07-30T21:25:10.338363",
     "status": "completed"
    },
    "tags": []
   },
   "source": [
    "# Conformal Prediction"
   ]
  },
  {
   "cell_type": "code",
   "execution_count": 47,
   "id": "160ec6ff",
   "metadata": {
    "execution": {
     "iopub.execute_input": "2025-07-30T21:25:10.427670Z",
     "iopub.status.busy": "2025-07-30T21:25:10.427286Z",
     "iopub.status.idle": "2025-07-30T21:25:10.432949Z",
     "shell.execute_reply": "2025-07-30T21:25:10.431820Z"
    },
    "papermill": {
     "duration": 0.032782,
     "end_time": "2025-07-30T21:25:10.436413",
     "exception": false,
     "start_time": "2025-07-30T21:25:10.403631",
     "status": "completed"
    },
    "tags": []
   },
   "outputs": [],
   "source": [
    "# Miscoverage level for conformal prediction (10% allowed error rate => 90% target coverage)\n",
    "alpha = 0.1"
   ]
  },
  {
   "cell_type": "code",
   "execution_count": 48,
   "id": "eadf4555-3dd3-440e-8e35-f82a4ad9f855",
   "metadata": {
    "execution": {
     "iopub.execute_input": "2025-07-30T21:25:10.487380Z",
     "iopub.status.busy": "2025-07-30T21:25:10.486996Z",
     "iopub.status.idle": "2025-07-30T21:25:11.333809Z",
     "shell.execute_reply": "2025-07-30T21:25:11.332865Z"
    },
    "papermill": {
     "duration": 0.872902,
     "end_time": "2025-07-30T21:25:11.335932",
     "exception": false,
     "start_time": "2025-07-30T21:25:10.463030",
     "status": "completed"
    },
    "tags": []
   },
   "outputs": [],
   "source": [
    "probs_calib = model.predict_proba(X_calib)"
   ]
  },
  {
   "cell_type": "code",
   "execution_count": 49,
   "id": "2ed93547-6d5d-4983-9b36-1ecb300da49a",
   "metadata": {
    "execution": {
     "iopub.execute_input": "2025-07-30T21:25:11.388718Z",
     "iopub.status.busy": "2025-07-30T21:25:11.387990Z",
     "iopub.status.idle": "2025-07-30T21:25:11.394210Z",
     "shell.execute_reply": "2025-07-30T21:25:11.393196Z"
    },
    "papermill": {
     "duration": 0.032132,
     "end_time": "2025-07-30T21:25:11.395694",
     "exception": false,
     "start_time": "2025-07-30T21:25:11.363562",
     "status": "completed"
    },
    "tags": []
   },
   "outputs": [],
   "source": [
    "y_calib = y_calib.values.ravel().astype(int)"
   ]
  },
  {
   "cell_type": "code",
   "execution_count": 50,
   "id": "65d1320d-f588-4b38-9072-62af1ae97f7d",
   "metadata": {
    "execution": {
     "iopub.execute_input": "2025-07-30T21:25:11.441109Z",
     "iopub.status.busy": "2025-07-30T21:25:11.440618Z",
     "iopub.status.idle": "2025-07-30T21:25:11.448537Z",
     "shell.execute_reply": "2025-07-30T21:25:11.447604Z"
    },
    "papermill": {
     "duration": 0.034227,
     "end_time": "2025-07-30T21:25:11.451193",
     "exception": false,
     "start_time": "2025-07-30T21:25:11.416966",
     "status": "completed"
    },
    "tags": []
   },
   "outputs": [],
   "source": [
    "from fairness_multiverse.conformal import compute_nc_scores\n",
    "\n",
    "# Compute nonconformity scores on calibration set (1 - probability of true class)\n",
    "nc_scores = compute_nc_scores(probs_calib, y_calib)"
   ]
  },
  {
   "cell_type": "code",
   "execution_count": 51,
   "id": "df3b8ca3-53b7-43d5-9667-7c85da7aeda2",
   "metadata": {
    "execution": {
     "iopub.execute_input": "2025-07-30T21:25:11.500633Z",
     "iopub.status.busy": "2025-07-30T21:25:11.500209Z",
     "iopub.status.idle": "2025-07-30T21:25:11.507257Z",
     "shell.execute_reply": "2025-07-30T21:25:11.506250Z"
    },
    "papermill": {
     "duration": 0.033846,
     "end_time": "2025-07-30T21:25:11.509156",
     "exception": false,
     "start_time": "2025-07-30T21:25:11.475310",
     "status": "completed"
    },
    "tags": []
   },
   "outputs": [],
   "source": [
    "from fairness_multiverse.conformal import find_threshold\n",
    "\n",
    "# Find conformal threshold q_hat for the given alpha (split conformal method)\n",
    "q_hat = find_threshold(nc_scores, alpha)"
   ]
  },
  {
   "cell_type": "code",
   "execution_count": 52,
   "id": "4d29e6c1-0ef6-4aa4-b8fe-4fe79b0d033a",
   "metadata": {
    "execution": {
     "iopub.execute_input": "2025-07-30T21:25:11.560785Z",
     "iopub.status.busy": "2025-07-30T21:25:11.559969Z",
     "iopub.status.idle": "2025-07-30T21:25:11.568089Z",
     "shell.execute_reply": "2025-07-30T21:25:11.566900Z"
    },
    "papermill": {
     "duration": 0.03463,
     "end_time": "2025-07-30T21:25:11.569742",
     "exception": false,
     "start_time": "2025-07-30T21:25:11.535112",
     "status": "completed"
    },
    "tags": []
   },
   "outputs": [
    {
     "data": {
      "text/plain": [
       "0.6699999999999999"
      ]
     },
     "execution_count": 52,
     "metadata": {},
     "output_type": "execute_result"
    }
   ],
   "source": [
    "q_hat"
   ]
  },
  {
   "cell_type": "code",
   "execution_count": 53,
   "id": "92460794-cdac-4be2-ba28-f28c0515a6fb",
   "metadata": {
    "execution": {
     "iopub.execute_input": "2025-07-30T21:25:11.619534Z",
     "iopub.status.busy": "2025-07-30T21:25:11.619138Z",
     "iopub.status.idle": "2025-07-30T21:25:13.171569Z",
     "shell.execute_reply": "2025-07-30T21:25:13.170631Z"
    },
    "papermill": {
     "duration": 1.578107,
     "end_time": "2025-07-30T21:25:13.173502",
     "exception": false,
     "start_time": "2025-07-30T21:25:11.595395",
     "status": "completed"
    },
    "tags": []
   },
   "outputs": [],
   "source": [
    "from fairness_multiverse.conformal import predict_conformal_sets\n",
    "\n",
    "# Generate prediction sets for each test example\n",
    "pred_sets = predict_conformal_sets(model, X_test, q_hat)"
   ]
  },
  {
   "cell_type": "code",
   "execution_count": 54,
   "id": "d90c9a65-e6db-4f5d-80cd-e68fb7e46829",
   "metadata": {
    "execution": {
     "iopub.execute_input": "2025-07-30T21:25:13.223033Z",
     "iopub.status.busy": "2025-07-30T21:25:13.222613Z",
     "iopub.status.idle": "2025-07-30T21:25:13.227572Z",
     "shell.execute_reply": "2025-07-30T21:25:13.226650Z"
    },
    "papermill": {
     "duration": 0.029668,
     "end_time": "2025-07-30T21:25:13.229257",
     "exception": false,
     "start_time": "2025-07-30T21:25:13.199589",
     "status": "completed"
    },
    "tags": []
   },
   "outputs": [],
   "source": [
    "y_true = y_true.squeeze()"
   ]
  },
  {
   "cell_type": "code",
   "execution_count": 55,
   "id": "3a58a54a-1e68-46b9-927a-df01f18aebc8",
   "metadata": {
    "execution": {
     "iopub.execute_input": "2025-07-30T21:25:13.277448Z",
     "iopub.status.busy": "2025-07-30T21:25:13.276704Z",
     "iopub.status.idle": "2025-07-30T21:25:14.156743Z",
     "shell.execute_reply": "2025-07-30T21:25:14.155716Z"
    },
    "papermill": {
     "duration": 0.905514,
     "end_time": "2025-07-30T21:25:14.158556",
     "exception": false,
     "start_time": "2025-07-30T21:25:13.253042",
     "status": "completed"
    },
    "tags": []
   },
   "outputs": [],
   "source": [
    "from fairness_multiverse.conformal import evaluate_sets\n",
    "\n",
    "# Evaluate coverage and average set size on test data\n",
    "metrics = evaluate_sets(pred_sets, y_true)"
   ]
  },
  {
   "cell_type": "markdown",
   "id": "2b569c12-9aaa-4c88-98c9-bbcd0cf3ebb8",
   "metadata": {
    "papermill": {
     "duration": 0.022808,
     "end_time": "2025-07-30T21:25:14.205230",
     "exception": false,
     "start_time": "2025-07-30T21:25:14.182422",
     "status": "completed"
    },
    "tags": []
   },
   "source": [
    "# CP Metrics"
   ]
  },
  {
   "cell_type": "code",
   "execution_count": 56,
   "id": "5ce0a5cb-201f-45a0-ade5-94c7f0bd6095",
   "metadata": {
    "execution": {
     "iopub.execute_input": "2025-07-30T21:25:14.253302Z",
     "iopub.status.busy": "2025-07-30T21:25:14.252778Z",
     "iopub.status.idle": "2025-07-30T21:25:14.260668Z",
     "shell.execute_reply": "2025-07-30T21:25:14.259382Z"
    },
    "papermill": {
     "duration": 0.033455,
     "end_time": "2025-07-30T21:25:14.262243",
     "exception": false,
     "start_time": "2025-07-30T21:25:14.228788",
     "status": "completed"
    },
    "tags": []
   },
   "outputs": [
    {
     "data": {
      "text/plain": [
       "{'coverage': 0.9118047040463716, 'avg_size': 1.1414892431167094}"
      ]
     },
     "execution_count": 56,
     "metadata": {},
     "output_type": "execute_result"
    }
   ],
   "source": [
    "metrics"
   ]
  },
  {
   "cell_type": "code",
   "execution_count": 57,
   "id": "9b9a838d-31c9-430b-ae14-12baee460d17",
   "metadata": {
    "execution": {
     "iopub.execute_input": "2025-07-30T21:25:14.307076Z",
     "iopub.status.busy": "2025-07-30T21:25:14.306696Z",
     "iopub.status.idle": "2025-07-30T21:25:14.313257Z",
     "shell.execute_reply": "2025-07-30T21:25:14.312238Z"
    },
    "papermill": {
     "duration": 0.02573,
     "end_time": "2025-07-30T21:25:14.315036",
     "exception": false,
     "start_time": "2025-07-30T21:25:14.289306",
     "status": "completed"
    },
    "tags": []
   },
   "outputs": [],
   "source": [
    "example_universe = universe.copy()\n",
    "universe_training_year = example_universe.get(\"training_year\")\n",
    "universe_training_size = example_universe.get(\"training_size\")\n",
    "universe_scale = example_universe.get(\"scale\")\n",
    "universe_model = example_universe.get(\"model\")\n",
    "universe_exclude_features = example_universe.get(\"exclude_features\")\n",
    "universe_exclude_subgroups = example_universe.get(\"exclude_subgroups\")"
   ]
  },
  {
   "cell_type": "code",
   "execution_count": 58,
   "id": "f4b6a8ac-9dc0-4245-8a91-5b3b5999c4f9",
   "metadata": {
    "execution": {
     "iopub.execute_input": "2025-07-30T21:25:14.371862Z",
     "iopub.status.busy": "2025-07-30T21:25:14.370982Z",
     "iopub.status.idle": "2025-07-30T21:25:14.377426Z",
     "shell.execute_reply": "2025-07-30T21:25:14.376474Z"
    },
    "papermill": {
     "duration": 0.036711,
     "end_time": "2025-07-30T21:25:14.379392",
     "exception": false,
     "start_time": "2025-07-30T21:25:14.342681",
     "status": "completed"
    },
    "tags": []
   },
   "outputs": [],
   "source": [
    "cp_metrics_dict = {\n",
    "    \"universe_id\": [universe_id],\n",
    "    \"universe_training_year\": [universe_training_year],\n",
    "    \"universe_training_size\": [universe_training_size],\n",
    "    \"universe_scale\": [universe_scale],\n",
    "    \"universe_model\": [universe_model],\n",
    "    \"universe_exclude_features\": [universe_exclude_features],\n",
    "    \"universe_exclude_subgroups\": [universe_exclude_subgroups],\n",
    "    \"q_hat\": [q_hat],\n",
    "    \"coverage\": [metrics[\"coverage\"]],\n",
    "    \"avg_size\": [metrics[\"avg_size\"]],\n",
    "}"
   ]
  },
  {
   "cell_type": "code",
   "execution_count": 59,
   "id": "908acbb1-0371-4915-85ca-3fa520d2efe2",
   "metadata": {
    "execution": {
     "iopub.execute_input": "2025-07-30T21:25:14.436321Z",
     "iopub.status.busy": "2025-07-30T21:25:14.435492Z",
     "iopub.status.idle": "2025-07-30T21:25:14.443212Z",
     "shell.execute_reply": "2025-07-30T21:25:14.442195Z"
    },
    "papermill": {
     "duration": 0.037925,
     "end_time": "2025-07-30T21:25:14.445322",
     "exception": false,
     "start_time": "2025-07-30T21:25:14.407397",
     "status": "completed"
    },
    "tags": []
   },
   "outputs": [
    {
     "data": {
      "text/plain": [
       "{'universe_id': ['2312be41bc522ec1662b30886640fc84'],\n",
       " 'universe_training_year': ['2014'],\n",
       " 'universe_training_size': ['1k'],\n",
       " 'universe_scale': ['scale'],\n",
       " 'universe_model': ['rf'],\n",
       " 'universe_exclude_features': ['age'],\n",
       " 'universe_exclude_subgroups': ['drop-non-german'],\n",
       " 'q_hat': [0.6699999999999999],\n",
       " 'coverage': [0.9118047040463716],\n",
       " 'avg_size': [1.1414892431167094]}"
      ]
     },
     "execution_count": 59,
     "metadata": {},
     "output_type": "execute_result"
    }
   ],
   "source": [
    "cp_metrics_dict"
   ]
  },
  {
   "cell_type": "code",
   "execution_count": 60,
   "id": "33007efc-14e9-4ec6-97ac-56a455c82265",
   "metadata": {
    "execution": {
     "iopub.execute_input": "2025-07-30T21:25:14.506467Z",
     "iopub.status.busy": "2025-07-30T21:25:14.505990Z",
     "iopub.status.idle": "2025-07-30T21:25:14.512482Z",
     "shell.execute_reply": "2025-07-30T21:25:14.511338Z"
    },
    "papermill": {
     "duration": 0.037552,
     "end_time": "2025-07-30T21:25:14.514316",
     "exception": false,
     "start_time": "2025-07-30T21:25:14.476764",
     "status": "completed"
    },
    "tags": []
   },
   "outputs": [],
   "source": [
    "cp_metrics_df = pd.DataFrame(cp_metrics_dict)"
   ]
  },
  {
   "cell_type": "code",
   "execution_count": 61,
   "id": "db12611b-57b2-4910-b9d0-355adfd6e7bf",
   "metadata": {
    "execution": {
     "iopub.execute_input": "2025-07-30T21:25:14.572685Z",
     "iopub.status.busy": "2025-07-30T21:25:14.571834Z",
     "iopub.status.idle": "2025-07-30T21:25:14.591976Z",
     "shell.execute_reply": "2025-07-30T21:25:14.591046Z"
    },
    "papermill": {
     "duration": 0.050429,
     "end_time": "2025-07-30T21:25:14.593670",
     "exception": false,
     "start_time": "2025-07-30T21:25:14.543241",
     "status": "completed"
    },
    "tags": []
   },
   "outputs": [
    {
     "data": {
      "text/html": [
       "<div>\n",
       "<style scoped>\n",
       "    .dataframe tbody tr th:only-of-type {\n",
       "        vertical-align: middle;\n",
       "    }\n",
       "\n",
       "    .dataframe tbody tr th {\n",
       "        vertical-align: top;\n",
       "    }\n",
       "\n",
       "    .dataframe thead th {\n",
       "        text-align: right;\n",
       "    }\n",
       "</style>\n",
       "<table border=\"1\" class=\"dataframe\">\n",
       "  <thead>\n",
       "    <tr style=\"text-align: right;\">\n",
       "      <th></th>\n",
       "      <th>universe_id</th>\n",
       "      <th>universe_training_year</th>\n",
       "      <th>universe_training_size</th>\n",
       "      <th>universe_scale</th>\n",
       "      <th>universe_model</th>\n",
       "      <th>universe_exclude_features</th>\n",
       "      <th>universe_exclude_subgroups</th>\n",
       "      <th>q_hat</th>\n",
       "      <th>coverage</th>\n",
       "      <th>avg_size</th>\n",
       "    </tr>\n",
       "  </thead>\n",
       "  <tbody>\n",
       "    <tr>\n",
       "      <th>0</th>\n",
       "      <td>2312be41bc522ec1662b30886640fc84</td>\n",
       "      <td>2014</td>\n",
       "      <td>1k</td>\n",
       "      <td>scale</td>\n",
       "      <td>rf</td>\n",
       "      <td>age</td>\n",
       "      <td>drop-non-german</td>\n",
       "      <td>0.67</td>\n",
       "      <td>0.911805</td>\n",
       "      <td>1.141489</td>\n",
       "    </tr>\n",
       "  </tbody>\n",
       "</table>\n",
       "</div>"
      ],
      "text/plain": [
       "                        universe_id universe_training_year  \\\n",
       "0  2312be41bc522ec1662b30886640fc84                   2014   \n",
       "\n",
       "  universe_training_size universe_scale universe_model  \\\n",
       "0                     1k          scale             rf   \n",
       "\n",
       "  universe_exclude_features universe_exclude_subgroups  q_hat  coverage  \\\n",
       "0                       age            drop-non-german   0.67  0.911805   \n",
       "\n",
       "   avg_size  \n",
       "0  1.141489  "
      ]
     },
     "execution_count": 61,
     "metadata": {},
     "output_type": "execute_result"
    }
   ],
   "source": [
    "cp_metrics_df"
   ]
  },
  {
   "cell_type": "code",
   "execution_count": 62,
   "id": "b7fbde55-a0a1-47e4-9af6-fe4a17fa8c61",
   "metadata": {
    "execution": {
     "iopub.execute_input": "2025-07-30T21:25:14.649709Z",
     "iopub.status.busy": "2025-07-30T21:25:14.649192Z",
     "iopub.status.idle": "2025-07-30T21:25:14.654601Z",
     "shell.execute_reply": "2025-07-30T21:25:14.653729Z"
    },
    "papermill": {
     "duration": 0.035821,
     "end_time": "2025-07-30T21:25:14.656604",
     "exception": false,
     "start_time": "2025-07-30T21:25:14.620783",
     "status": "completed"
    },
    "tags": []
   },
   "outputs": [],
   "source": [
    "# Conditional Coverage & looking at subgroups"
   ]
  },
  {
   "cell_type": "code",
   "execution_count": 63,
   "id": "027ae886-68dd-4141-96c7-805a5450e1ef",
   "metadata": {
    "execution": {
     "iopub.execute_input": "2025-07-30T21:25:14.713072Z",
     "iopub.status.busy": "2025-07-30T21:25:14.712569Z",
     "iopub.status.idle": "2025-07-30T21:25:14.983080Z",
     "shell.execute_reply": "2025-07-30T21:25:14.982039Z"
    },
    "papermill": {
     "duration": 0.30083,
     "end_time": "2025-07-30T21:25:14.985053",
     "exception": false,
     "start_time": "2025-07-30T21:25:14.684223",
     "status": "completed"
    },
    "tags": []
   },
   "outputs": [],
   "source": [
    "from fairness_multiverse.conformal import build_cp_groups\n",
    "\n",
    "cp_groups_df = build_cp_groups(pred_sets, y_true, X_test.index, org_test)\n",
    "#needs universe_id and setting"
   ]
  },
  {
   "cell_type": "code",
   "execution_count": 64,
   "id": "01d5802c-663a-4d1f-9d69-e036faaffbf7",
   "metadata": {
    "execution": {
     "iopub.execute_input": "2025-07-30T21:25:15.043283Z",
     "iopub.status.busy": "2025-07-30T21:25:15.042740Z",
     "iopub.status.idle": "2025-07-30T21:25:15.048293Z",
     "shell.execute_reply": "2025-07-30T21:25:15.047179Z"
    },
    "papermill": {
     "duration": 0.037108,
     "end_time": "2025-07-30T21:25:15.050236",
     "exception": false,
     "start_time": "2025-07-30T21:25:15.013128",
     "status": "completed"
    },
    "tags": []
   },
   "outputs": [],
   "source": [
    "#delete\n",
    "#cp_groups_df"
   ]
  },
  {
   "cell_type": "code",
   "execution_count": 65,
   "id": "fa424af1-d1eb-443d-b717-2d279ada8408",
   "metadata": {
    "execution": {
     "iopub.execute_input": "2025-07-30T21:25:15.101829Z",
     "iopub.status.busy": "2025-07-30T21:25:15.101384Z",
     "iopub.status.idle": "2025-07-30T21:25:15.106211Z",
     "shell.execute_reply": "2025-07-30T21:25:15.105187Z"
    },
    "papermill": {
     "duration": 0.031585,
     "end_time": "2025-07-30T21:25:15.107910",
     "exception": false,
     "start_time": "2025-07-30T21:25:15.076325",
     "status": "completed"
    },
    "tags": []
   },
   "outputs": [],
   "source": [
    "#delete\n",
    "#percentage = (cp_groups_df['nongerman_female'] == 1).mean() * 100\n",
    "#print(percentage)\n"
   ]
  },
  {
   "cell_type": "code",
   "execution_count": 66,
   "id": "6cbdab96-b2b2-45af-ad54-d0516db2e28d",
   "metadata": {
    "execution": {
     "iopub.execute_input": "2025-07-30T21:25:15.158735Z",
     "iopub.status.busy": "2025-07-30T21:25:15.158250Z",
     "iopub.status.idle": "2025-07-30T21:25:16.716141Z",
     "shell.execute_reply": "2025-07-30T21:25:16.715095Z"
    },
    "papermill": {
     "duration": 1.584994,
     "end_time": "2025-07-30T21:25:16.718234",
     "exception": false,
     "start_time": "2025-07-30T21:25:15.133240",
     "status": "completed"
    },
    "tags": []
   },
   "outputs": [],
   "source": [
    "# Define covered = 1 if true_label is in the predicted set\n",
    "cp_groups_df['covered'] = cp_groups_df.apply(\n",
    "    lambda r: int(r['true_label'] in r['pred_set']),\n",
    "    axis=1\n",
    ")"
   ]
  },
  {
   "cell_type": "code",
   "execution_count": 67,
   "id": "338ff529-1a6b-4b87-a931-8e4788d52aad",
   "metadata": {
    "execution": {
     "iopub.execute_input": "2025-07-30T21:25:16.774193Z",
     "iopub.status.busy": "2025-07-30T21:25:16.773309Z",
     "iopub.status.idle": "2025-07-30T21:25:16.778597Z",
     "shell.execute_reply": "2025-07-30T21:25:16.777517Z"
    },
    "papermill": {
     "duration": 0.034317,
     "end_time": "2025-07-30T21:25:16.780807",
     "exception": false,
     "start_time": "2025-07-30T21:25:16.746490",
     "status": "completed"
    },
    "tags": []
   },
   "outputs": [],
   "source": [
    "#cp_groups_df"
   ]
  },
  {
   "cell_type": "code",
   "execution_count": 68,
   "id": "90032e27-66df-4540-9169-4e89cfbaa758",
   "metadata": {
    "execution": {
     "iopub.execute_input": "2025-07-30T21:25:16.829622Z",
     "iopub.status.busy": "2025-07-30T21:25:16.829143Z",
     "iopub.status.idle": "2025-07-30T21:25:16.839531Z",
     "shell.execute_reply": "2025-07-30T21:25:16.838691Z"
    },
    "papermill": {
     "duration": 0.030678,
     "end_time": "2025-07-30T21:25:16.841092",
     "exception": false,
     "start_time": "2025-07-30T21:25:16.810414",
     "status": "completed"
    },
    "tags": []
   },
   "outputs": [],
   "source": [
    "subgroups = ['frau1','nongerman','nongerman_male','nongerman_female']\n",
    "\n",
    "# Conditional coverage for subgroup==1\n",
    "cond_coverage = {\n",
    "    g: cp_groups_df.loc[cp_groups_df[g]==1, 'covered'].mean()\n",
    "    for g in subgroups\n",
    "}"
   ]
  },
  {
   "cell_type": "code",
   "execution_count": 69,
   "id": "1e348fb1-b9c3-45bc-ba23-f016827a7e0d",
   "metadata": {
    "execution": {
     "iopub.execute_input": "2025-07-30T21:25:16.871480Z",
     "iopub.status.busy": "2025-07-30T21:25:16.870771Z",
     "iopub.status.idle": "2025-07-30T21:25:16.877759Z",
     "shell.execute_reply": "2025-07-30T21:25:16.876570Z"
    },
    "papermill": {
     "duration": 0.023206,
     "end_time": "2025-07-30T21:25:16.879534",
     "exception": false,
     "start_time": "2025-07-30T21:25:16.856328",
     "status": "completed"
    },
    "tags": []
   },
   "outputs": [
    {
     "data": {
      "text/plain": [
       "{'frau1': 0.9070225097722064,\n",
       " 'nongerman': 0.9061921068882277,\n",
       " 'nongerman_male': 0.9255156264072774,\n",
       " 'nongerman_female': 0.8742175856929956}"
      ]
     },
     "execution_count": 69,
     "metadata": {},
     "output_type": "execute_result"
    }
   ],
   "source": [
    "cond_coverage"
   ]
  },
  {
   "cell_type": "code",
   "execution_count": 70,
   "id": "f5093324-c3dd-4d63-bc4c-8d945e5c8bbb",
   "metadata": {
    "execution": {
     "iopub.execute_input": "2025-07-30T21:25:16.938264Z",
     "iopub.status.busy": "2025-07-30T21:25:16.937433Z",
     "iopub.status.idle": "2025-07-30T21:25:16.945730Z",
     "shell.execute_reply": "2025-07-30T21:25:16.944707Z"
    },
    "papermill": {
     "duration": 0.039021,
     "end_time": "2025-07-30T21:25:16.947738",
     "exception": false,
     "start_time": "2025-07-30T21:25:16.908717",
     "status": "completed"
    },
    "tags": []
   },
   "outputs": [],
   "source": [
    "for subgroup, cov in cond_coverage.items():\n",
    "    cp_metrics_df[f\"cov_{subgroup}\"] = cov"
   ]
  },
  {
   "cell_type": "code",
   "execution_count": 71,
   "id": "6e872e10-dbe5-49e8-b554-5030c98ff75d",
   "metadata": {
    "execution": {
     "iopub.execute_input": "2025-07-30T21:25:17.006374Z",
     "iopub.status.busy": "2025-07-30T21:25:17.005915Z",
     "iopub.status.idle": "2025-07-30T21:25:17.027796Z",
     "shell.execute_reply": "2025-07-30T21:25:17.025946Z"
    },
    "papermill": {
     "duration": 0.052819,
     "end_time": "2025-07-30T21:25:17.030033",
     "exception": false,
     "start_time": "2025-07-30T21:25:16.977214",
     "status": "completed"
    },
    "tags": []
   },
   "outputs": [
    {
     "data": {
      "text/html": [
       "<div>\n",
       "<style scoped>\n",
       "    .dataframe tbody tr th:only-of-type {\n",
       "        vertical-align: middle;\n",
       "    }\n",
       "\n",
       "    .dataframe tbody tr th {\n",
       "        vertical-align: top;\n",
       "    }\n",
       "\n",
       "    .dataframe thead th {\n",
       "        text-align: right;\n",
       "    }\n",
       "</style>\n",
       "<table border=\"1\" class=\"dataframe\">\n",
       "  <thead>\n",
       "    <tr style=\"text-align: right;\">\n",
       "      <th></th>\n",
       "      <th>universe_id</th>\n",
       "      <th>universe_training_year</th>\n",
       "      <th>universe_training_size</th>\n",
       "      <th>universe_scale</th>\n",
       "      <th>universe_model</th>\n",
       "      <th>universe_exclude_features</th>\n",
       "      <th>universe_exclude_subgroups</th>\n",
       "      <th>q_hat</th>\n",
       "      <th>coverage</th>\n",
       "      <th>avg_size</th>\n",
       "      <th>cov_frau1</th>\n",
       "      <th>cov_nongerman</th>\n",
       "      <th>cov_nongerman_male</th>\n",
       "      <th>cov_nongerman_female</th>\n",
       "    </tr>\n",
       "  </thead>\n",
       "  <tbody>\n",
       "    <tr>\n",
       "      <th>0</th>\n",
       "      <td>2312be41bc522ec1662b30886640fc84</td>\n",
       "      <td>2014</td>\n",
       "      <td>1k</td>\n",
       "      <td>scale</td>\n",
       "      <td>rf</td>\n",
       "      <td>age</td>\n",
       "      <td>drop-non-german</td>\n",
       "      <td>0.67</td>\n",
       "      <td>0.911805</td>\n",
       "      <td>1.141489</td>\n",
       "      <td>0.907023</td>\n",
       "      <td>0.906192</td>\n",
       "      <td>0.925516</td>\n",
       "      <td>0.874218</td>\n",
       "    </tr>\n",
       "  </tbody>\n",
       "</table>\n",
       "</div>"
      ],
      "text/plain": [
       "                        universe_id universe_training_year  \\\n",
       "0  2312be41bc522ec1662b30886640fc84                   2014   \n",
       "\n",
       "  universe_training_size universe_scale universe_model  \\\n",
       "0                     1k          scale             rf   \n",
       "\n",
       "  universe_exclude_features universe_exclude_subgroups  q_hat  coverage  \\\n",
       "0                       age            drop-non-german   0.67  0.911805   \n",
       "\n",
       "   avg_size  cov_frau1  cov_nongerman  cov_nongerman_male  \\\n",
       "0  1.141489   0.907023       0.906192            0.925516   \n",
       "\n",
       "   cov_nongerman_female  \n",
       "0              0.874218  "
      ]
     },
     "execution_count": 71,
     "metadata": {},
     "output_type": "execute_result"
    }
   ],
   "source": [
    "cp_metrics_df"
   ]
  },
  {
   "cell_type": "markdown",
   "id": "33774451",
   "metadata": {
    "papermill": {
     "duration": 0.025319,
     "end_time": "2025-07-30T21:25:17.082556",
     "exception": false,
     "start_time": "2025-07-30T21:25:17.057237",
     "status": "completed"
    },
    "tags": []
   },
   "source": [
    "# (Fairness) Metrics"
   ]
  },
  {
   "cell_type": "code",
   "execution_count": 72,
   "id": "debc5d62",
   "metadata": {
    "execution": {
     "iopub.execute_input": "2025-07-30T21:25:17.134737Z",
     "iopub.status.busy": "2025-07-30T21:25:17.134048Z",
     "iopub.status.idle": "2025-07-30T21:25:17.156024Z",
     "shell.execute_reply": "2025-07-30T21:25:17.155112Z"
    },
    "papermill": {
     "duration": 0.050565,
     "end_time": "2025-07-30T21:25:17.157736",
     "exception": false,
     "start_time": "2025-07-30T21:25:17.107171",
     "status": "completed"
    },
    "tags": []
   },
   "outputs": [],
   "source": [
    "# do I need to include maxdeutsch1.missing?\n",
    "\n",
    "import numpy as np\n",
    "\n",
    "colname_to_bin = \"maxdeutsch1\"\n",
    "majority_value = org_train[colname_to_bin].mode()[0]\n",
    "\n",
    "org_test[\"majmin\"] = np.where(org_test[colname_to_bin] == majority_value, \"majority\", \"minority\")"
   ]
  },
  {
   "cell_type": "code",
   "execution_count": 73,
   "id": "06a50de5",
   "metadata": {
    "execution": {
     "iopub.execute_input": "2025-07-30T21:25:17.210512Z",
     "iopub.status.busy": "2025-07-30T21:25:17.209815Z",
     "iopub.status.idle": "2025-07-30T21:25:20.039171Z",
     "shell.execute_reply": "2025-07-30T21:25:20.038450Z"
    },
    "papermill": {
     "duration": 2.857223,
     "end_time": "2025-07-30T21:25:20.040680",
     "exception": false,
     "start_time": "2025-07-30T21:25:17.183457",
     "status": "completed"
    },
    "tags": []
   },
   "outputs": [],
   "source": [
    "example_universe = universe.copy()\n",
    "example_universe[\"cutoff\"] = example_universe[\"cutoff\"][0]\n",
    "example_universe[\"eval_fairness_grouping\"] = example_universe[\"eval_fairness_grouping\"][0]\n",
    "fairness_dict, metric_frame = universe_analysis.compute_metrics(\n",
    "    example_universe,\n",
    "    y_pred_prob=probs_test,\n",
    "    y_test=y_true,\n",
    "    org_test=org_test,\n",
    ")"
   ]
  },
  {
   "cell_type": "markdown",
   "id": "f95d4e02",
   "metadata": {
    "papermill": {
     "duration": 0.027084,
     "end_time": "2025-07-30T21:25:20.093272",
     "exception": false,
     "start_time": "2025-07-30T21:25:20.066188",
     "status": "completed"
    },
    "tags": []
   },
   "source": [
    "# Overall"
   ]
  },
  {
   "cell_type": "markdown",
   "id": "bdee4871",
   "metadata": {
    "papermill": {
     "duration": 0.027287,
     "end_time": "2025-07-30T21:25:20.148811",
     "exception": false,
     "start_time": "2025-07-30T21:25:20.121524",
     "status": "completed"
    },
    "tags": []
   },
   "source": [
    "Fairness\n",
    "Main fairness target: Equalized Odds. Seems to be a better fit than equal opportunity, since we're not only interested in Y = 1. Seems to be a better fit than demographic parity, since we also care about accuracy, not just equal distribution of preds.\n",
    "\n",
    "Pick column for computation of fairness metrics\n",
    "\n",
    "Performance\n",
    "Overall performance measures, most interesting in relation to the measures split by group below"
   ]
  },
  {
   "cell_type": "code",
   "execution_count": 74,
   "id": "c4e067c6",
   "metadata": {
    "execution": {
     "iopub.execute_input": "2025-07-30T21:25:20.204392Z",
     "iopub.status.busy": "2025-07-30T21:25:20.203868Z",
     "iopub.status.idle": "2025-07-30T21:25:20.225286Z",
     "shell.execute_reply": "2025-07-30T21:25:20.224104Z"
    },
    "papermill": {
     "duration": 0.051378,
     "end_time": "2025-07-30T21:25:20.227152",
     "exception": false,
     "start_time": "2025-07-30T21:25:20.175774",
     "status": "completed"
    },
    "tags": []
   },
   "outputs": [
    {
     "data": {
      "text/plain": [
       "accuracy                   0.206287\n",
       "balanced accuracy          0.533256\n",
       "f1                         0.239274\n",
       "precision                  0.136408\n",
       "false positive rate        0.906550\n",
       "false negative rate        0.026938\n",
       "selection rate             0.915082\n",
       "count                  89710.000000\n",
       "dtype: float64"
      ]
     },
     "execution_count": 74,
     "metadata": {},
     "output_type": "execute_result"
    }
   ],
   "source": [
    "metric_frame.overall"
   ]
  },
  {
   "cell_type": "markdown",
   "id": "e968fe9d",
   "metadata": {
    "papermill": {
     "duration": 0.028387,
     "end_time": "2025-07-30T21:25:20.285390",
     "exception": false,
     "start_time": "2025-07-30T21:25:20.257003",
     "status": "completed"
    },
    "tags": []
   },
   "source": [
    "By Group"
   ]
  },
  {
   "cell_type": "code",
   "execution_count": 75,
   "id": "ec325bce",
   "metadata": {
    "execution": {
     "iopub.execute_input": "2025-07-30T21:25:20.317632Z",
     "iopub.status.busy": "2025-07-30T21:25:20.317181Z",
     "iopub.status.idle": "2025-07-30T21:25:20.329857Z",
     "shell.execute_reply": "2025-07-30T21:25:20.329074Z"
    },
    "papermill": {
     "duration": 0.028932,
     "end_time": "2025-07-30T21:25:20.331277",
     "exception": false,
     "start_time": "2025-07-30T21:25:20.302345",
     "status": "completed"
    },
    "tags": []
   },
   "outputs": [
    {
     "data": {
      "text/html": [
       "<div>\n",
       "<style scoped>\n",
       "    .dataframe tbody tr th:only-of-type {\n",
       "        vertical-align: middle;\n",
       "    }\n",
       "\n",
       "    .dataframe tbody tr th {\n",
       "        vertical-align: top;\n",
       "    }\n",
       "\n",
       "    .dataframe thead th {\n",
       "        text-align: right;\n",
       "    }\n",
       "</style>\n",
       "<table border=\"1\" class=\"dataframe\">\n",
       "  <thead>\n",
       "    <tr style=\"text-align: right;\">\n",
       "      <th></th>\n",
       "      <th>accuracy</th>\n",
       "      <th>balanced accuracy</th>\n",
       "      <th>f1</th>\n",
       "      <th>precision</th>\n",
       "      <th>false positive rate</th>\n",
       "      <th>false negative rate</th>\n",
       "      <th>selection rate</th>\n",
       "      <th>count</th>\n",
       "    </tr>\n",
       "    <tr>\n",
       "      <th>majmin</th>\n",
       "      <th></th>\n",
       "      <th></th>\n",
       "      <th></th>\n",
       "      <th></th>\n",
       "      <th></th>\n",
       "      <th></th>\n",
       "      <th></th>\n",
       "      <th></th>\n",
       "    </tr>\n",
       "  </thead>\n",
       "  <tbody>\n",
       "    <tr>\n",
       "      <th>majority</th>\n",
       "      <td>0.203658</td>\n",
       "      <td>0.534944</td>\n",
       "      <td>0.246398</td>\n",
       "      <td>0.140807</td>\n",
       "      <td>0.915342</td>\n",
       "      <td>0.014770</td>\n",
       "      <td>0.924577</td>\n",
       "      <td>69170.0</td>\n",
       "    </tr>\n",
       "    <tr>\n",
       "      <th>minority</th>\n",
       "      <td>0.215141</td>\n",
       "      <td>0.524297</td>\n",
       "      <td>0.213878</td>\n",
       "      <td>0.120900</td>\n",
       "      <td>0.877504</td>\n",
       "      <td>0.073902</td>\n",
       "      <td>0.883106</td>\n",
       "      <td>20540.0</td>\n",
       "    </tr>\n",
       "  </tbody>\n",
       "</table>\n",
       "</div>"
      ],
      "text/plain": [
       "          accuracy  balanced accuracy        f1  precision  \\\n",
       "majmin                                                       \n",
       "majority  0.203658           0.534944  0.246398   0.140807   \n",
       "minority  0.215141           0.524297  0.213878   0.120900   \n",
       "\n",
       "          false positive rate  false negative rate  selection rate    count  \n",
       "majmin                                                                       \n",
       "majority             0.915342             0.014770        0.924577  69170.0  \n",
       "minority             0.877504             0.073902        0.883106  20540.0  "
      ]
     },
     "execution_count": 75,
     "metadata": {},
     "output_type": "execute_result"
    }
   ],
   "source": [
    "metric_frame.by_group"
   ]
  },
  {
   "cell_type": "code",
   "execution_count": 76,
   "id": "a9ddbe63",
   "metadata": {
    "execution": {
     "iopub.execute_input": "2025-07-30T21:25:20.362115Z",
     "iopub.status.busy": "2025-07-30T21:25:20.361316Z",
     "iopub.status.idle": "2025-07-30T21:25:22.233335Z",
     "shell.execute_reply": "2025-07-30T21:25:22.232627Z"
    },
    "papermill": {
     "duration": 1.888064,
     "end_time": "2025-07-30T21:25:22.234624",
     "exception": false,
     "start_time": "2025-07-30T21:25:20.346560",
     "status": "completed"
    },
    "tags": []
   },
   "outputs": [
    {
     "data": {
      "text/plain": [
       "array([[<Axes: title={'center': 'accuracy'}, xlabel='majmin'>,\n",
       "        <Axes: title={'center': 'balanced accuracy'}, xlabel='majmin'>,\n",
       "        <Axes: title={'center': 'f1'}, xlabel='majmin'>],\n",
       "       [<Axes: title={'center': 'precision'}, xlabel='majmin'>,\n",
       "        <Axes: title={'center': 'false positive rate'}, xlabel='majmin'>,\n",
       "        <Axes: title={'center': 'false negative rate'}, xlabel='majmin'>],\n",
       "       [<Axes: title={'center': 'selection rate'}, xlabel='majmin'>,\n",
       "        <Axes: title={'center': 'count'}, xlabel='majmin'>,\n",
       "        <Axes: xlabel='majmin'>]], dtype=object)"
      ]
     },
     "execution_count": 76,
     "metadata": {},
     "output_type": "execute_result"
    },
    {
     "data": {
      "image/png": "[encoded data removed]",
      "text/plain": [
       "<Figure size 1200x800 with 9 Axes>"
      ]
     },
     "metadata": {},
     "output_type": "display_data"
    }
   ],
   "source": [
    "# In a graphic\n",
    "metric_frame.by_group.plot.bar(\n",
    "    subplots=True,\n",
    "    layout=[3, 3],\n",
    "    legend=False,\n",
    "    figsize=[12, 8],\n",
    "    title=\"Show all metrics\",\n",
    ")"
   ]
  },
  {
   "cell_type": "markdown",
   "id": "f57a0bac",
   "metadata": {
    "papermill": {
     "duration": 0.014715,
     "end_time": "2025-07-30T21:25:22.265132",
     "exception": false,
     "start_time": "2025-07-30T21:25:22.250417",
     "status": "completed"
    },
    "tags": []
   },
   "source": [
    "# Final Output"
   ]
  },
  {
   "cell_type": "code",
   "execution_count": 77,
   "id": "96d280a3",
   "metadata": {
    "execution": {
     "iopub.execute_input": "2025-07-30T21:25:22.296843Z",
     "iopub.status.busy": "2025-07-30T21:25:22.296378Z",
     "iopub.status.idle": "2025-07-30T21:25:22.303158Z",
     "shell.execute_reply": "2025-07-30T21:25:22.302374Z"
    },
    "papermill": {
     "duration": 0.024016,
     "end_time": "2025-07-30T21:25:22.304467",
     "exception": false,
     "start_time": "2025-07-30T21:25:22.280451",
     "status": "completed"
    },
    "tags": []
   },
   "outputs": [
    {
     "data": {
      "text/plain": [
       "4"
      ]
     },
     "execution_count": 77,
     "metadata": {},
     "output_type": "execute_result"
    }
   ],
   "source": [
    "sub_universes = universe_analysis.generate_sub_universes()\n",
    "len(sub_universes)"
   ]
  },
  {
   "cell_type": "code",
   "execution_count": 78,
   "id": "92adf7ba",
   "metadata": {
    "execution": {
     "iopub.execute_input": "2025-07-30T21:25:22.336663Z",
     "iopub.status.busy": "2025-07-30T21:25:22.335791Z",
     "iopub.status.idle": "2025-07-30T21:25:22.349978Z",
     "shell.execute_reply": "2025-07-30T21:25:22.349265Z"
    },
    "papermill": {
     "duration": 0.031496,
     "end_time": "2025-07-30T21:25:22.351409",
     "exception": false,
     "start_time": "2025-07-30T21:25:22.319913",
     "status": "completed"
    },
    "tags": []
   },
   "outputs": [],
   "source": [
    "def filter_sub_universe_data(sub_universe, org_test):\n",
    "    # Keep all rows — no filtering\n",
    "    keep_rows_mask = np.ones(org_test.shape[0], dtype=bool)\n",
    "\n",
    "    print(f\"[INFO] Keeping all rows: {keep_rows_mask.sum()} rows retained.\")\n",
    "    return keep_rows_mask"
   ]
  },
  {
   "cell_type": "code",
   "execution_count": 79,
   "id": "4a759155",
   "metadata": {
    "execution": {
     "iopub.execute_input": "2025-07-30T21:25:22.385284Z",
     "iopub.status.busy": "2025-07-30T21:25:22.384777Z",
     "iopub.status.idle": "2025-07-30T21:25:28.140312Z",
     "shell.execute_reply": "2025-07-30T21:25:28.139561Z"
    },
    "papermill": {
     "duration": 5.772864,
     "end_time": "2025-07-30T21:25:28.141590",
     "exception": false,
     "start_time": "2025-07-30T21:25:22.368726",
     "status": "completed"
    },
    "tags": []
   },
   "outputs": [
    {
     "name": "stdout",
     "output_type": "stream",
     "text": [
      "Stopping execution_time clock.\n",
      "[INFO] Keeping all rows: 89710 rows retained.\n"
     ]
    },
    {
     "name": "stdout",
     "output_type": "stream",
     "text": [
      "[INFO] Keeping all rows: 89710 rows retained.\n"
     ]
    },
    {
     "name": "stdout",
     "output_type": "stream",
     "text": [
      "[INFO] Keeping all rows: 89710 rows retained.\n"
     ]
    },
    {
     "name": "stdout",
     "output_type": "stream",
     "text": [
      "[INFO] Keeping all rows: 89710 rows retained.\n"
     ]
    },
    {
     "data": {
      "text/html": [
       "<div>\n",
       "<style scoped>\n",
       "    .dataframe tbody tr th:only-of-type {\n",
       "        vertical-align: middle;\n",
       "    }\n",
       "\n",
       "    .dataframe tbody tr th {\n",
       "        vertical-align: top;\n",
       "    }\n",
       "\n",
       "    .dataframe thead th {\n",
       "        text-align: right;\n",
       "    }\n",
       "</style>\n",
       "<table border=\"1\" class=\"dataframe\">\n",
       "  <thead>\n",
       "    <tr style=\"text-align: right;\">\n",
       "      <th></th>\n",
       "      <th>run_no</th>\n",
       "      <th>universe_id</th>\n",
       "      <th>universe_settings</th>\n",
       "      <th>execution_time</th>\n",
       "      <th>test_size_n</th>\n",
       "      <th>test_size_frac</th>\n",
       "      <th>fair_main_equalized_odds_difference</th>\n",
       "      <th>fair_main_equalized_odds_ratio</th>\n",
       "      <th>fair_main_demographic_parity_difference</th>\n",
       "      <th>fair_main_demographic_parity_ratio</th>\n",
       "      <th>...</th>\n",
       "      <th>perf_grp_precision_0</th>\n",
       "      <th>perf_grp_precision_1</th>\n",
       "      <th>perf_grp_false positive rate_0</th>\n",
       "      <th>perf_grp_false positive rate_1</th>\n",
       "      <th>perf_grp_false negative rate_0</th>\n",
       "      <th>perf_grp_false negative rate_1</th>\n",
       "      <th>perf_grp_selection rate_0</th>\n",
       "      <th>perf_grp_selection rate_1</th>\n",
       "      <th>perf_grp_count_0</th>\n",
       "      <th>perf_grp_count_1</th>\n",
       "    </tr>\n",
       "  </thead>\n",
       "  <tbody>\n",
       "    <tr>\n",
       "      <th>0</th>\n",
       "      <td>14</td>\n",
       "      <td>2312be41bc522ec1662b30886640fc84</td>\n",
       "      <td>{\"cutoff\": \"quantile_0.1\", \"eval_fairness_grou...</td>\n",
       "      <td>29.694304</td>\n",
       "      <td>89710</td>\n",
       "      <td>1.0</td>\n",
       "      <td>0.059132</td>\n",
       "      <td>0.939982</td>\n",
       "      <td>0.041471</td>\n",
       "      <td>0.955146</td>\n",
       "      <td>...</td>\n",
       "      <td>NaN</td>\n",
       "      <td>NaN</td>\n",
       "      <td>NaN</td>\n",
       "      <td>NaN</td>\n",
       "      <td>NaN</td>\n",
       "      <td>NaN</td>\n",
       "      <td>NaN</td>\n",
       "      <td>NaN</td>\n",
       "      <td>NaN</td>\n",
       "      <td>NaN</td>\n",
       "    </tr>\n",
       "    <tr>\n",
       "      <th>0</th>\n",
       "      <td>14</td>\n",
       "      <td>2312be41bc522ec1662b30886640fc84</td>\n",
       "      <td>{\"cutoff\": \"quantile_0.1\", \"eval_fairness_grou...</td>\n",
       "      <td>29.694304</td>\n",
       "      <td>89710</td>\n",
       "      <td>1.0</td>\n",
       "      <td>0.059132</td>\n",
       "      <td>0.939982</td>\n",
       "      <td>0.041471</td>\n",
       "      <td>0.955146</td>\n",
       "      <td>...</td>\n",
       "      <td>0.120900</td>\n",
       "      <td>0.140807</td>\n",
       "      <td>0.877504</td>\n",
       "      <td>0.915342</td>\n",
       "      <td>0.073902</td>\n",
       "      <td>0.014770</td>\n",
       "      <td>0.883106</td>\n",
       "      <td>0.924577</td>\n",
       "      <td>20540.0</td>\n",
       "      <td>69170.0</td>\n",
       "    </tr>\n",
       "    <tr>\n",
       "      <th>0</th>\n",
       "      <td>14</td>\n",
       "      <td>2312be41bc522ec1662b30886640fc84</td>\n",
       "      <td>{\"cutoff\": \"quantile_0.25\", \"eval_fairness_gro...</td>\n",
       "      <td>29.694304</td>\n",
       "      <td>89710</td>\n",
       "      <td>1.0</td>\n",
       "      <td>0.120833</td>\n",
       "      <td>0.871639</td>\n",
       "      <td>0.076550</td>\n",
       "      <td>0.901608</td>\n",
       "      <td>...</td>\n",
       "      <td>NaN</td>\n",
       "      <td>NaN</td>\n",
       "      <td>NaN</td>\n",
       "      <td>NaN</td>\n",
       "      <td>NaN</td>\n",
       "      <td>NaN</td>\n",
       "      <td>NaN</td>\n",
       "      <td>NaN</td>\n",
       "      <td>NaN</td>\n",
       "      <td>NaN</td>\n",
       "    </tr>\n",
       "    <tr>\n",
       "      <th>0</th>\n",
       "      <td>14</td>\n",
       "      <td>2312be41bc522ec1662b30886640fc84</td>\n",
       "      <td>{\"cutoff\": \"quantile_0.25\", \"eval_fairness_gro...</td>\n",
       "      <td>29.694304</td>\n",
       "      <td>89710</td>\n",
       "      <td>1.0</td>\n",
       "      <td>0.120833</td>\n",
       "      <td>0.871639</td>\n",
       "      <td>0.076550</td>\n",
       "      <td>0.901608</td>\n",
       "      <td>...</td>\n",
       "      <td>0.134856</td>\n",
       "      <td>0.159881</td>\n",
       "      <td>0.685945</td>\n",
       "      <td>0.753140</td>\n",
       "      <td>0.179476</td>\n",
       "      <td>0.058643</td>\n",
       "      <td>0.701461</td>\n",
       "      <td>0.778011</td>\n",
       "      <td>20540.0</td>\n",
       "      <td>69170.0</td>\n",
       "    </tr>\n",
       "  </tbody>\n",
       "</table>\n",
       "<p>4 rows × 50 columns</p>\n",
       "</div>"
      ],
      "text/plain": [
       "  run_no                       universe_id  \\\n",
       "0     14  2312be41bc522ec1662b30886640fc84   \n",
       "0     14  2312be41bc522ec1662b30886640fc84   \n",
       "0     14  2312be41bc522ec1662b30886640fc84   \n",
       "0     14  2312be41bc522ec1662b30886640fc84   \n",
       "\n",
       "                                   universe_settings  execution_time  \\\n",
       "0  {\"cutoff\": \"quantile_0.1\", \"eval_fairness_grou...       29.694304   \n",
       "0  {\"cutoff\": \"quantile_0.1\", \"eval_fairness_grou...       29.694304   \n",
       "0  {\"cutoff\": \"quantile_0.25\", \"eval_fairness_gro...       29.694304   \n",
       "0  {\"cutoff\": \"quantile_0.25\", \"eval_fairness_gro...       29.694304   \n",
       "\n",
       "   test_size_n  test_size_frac  fair_main_equalized_odds_difference  \\\n",
       "0        89710             1.0                             0.059132   \n",
       "0        89710             1.0                             0.059132   \n",
       "0        89710             1.0                             0.120833   \n",
       "0        89710             1.0                             0.120833   \n",
       "\n",
       "   fair_main_equalized_odds_ratio  fair_main_demographic_parity_difference  \\\n",
       "0                        0.939982                                 0.041471   \n",
       "0                        0.939982                                 0.041471   \n",
       "0                        0.871639                                 0.076550   \n",
       "0                        0.871639                                 0.076550   \n",
       "\n",
       "   fair_main_demographic_parity_ratio  ...  perf_grp_precision_0  \\\n",
       "0                            0.955146  ...                   NaN   \n",
       "0                            0.955146  ...              0.120900   \n",
       "0                            0.901608  ...                   NaN   \n",
       "0                            0.901608  ...              0.134856   \n",
       "\n",
       "   perf_grp_precision_1  perf_grp_false positive rate_0  \\\n",
       "0                   NaN                             NaN   \n",
       "0              0.140807                        0.877504   \n",
       "0                   NaN                             NaN   \n",
       "0              0.159881                        0.685945   \n",
       "\n",
       "   perf_grp_false positive rate_1  perf_grp_false negative rate_0  \\\n",
       "0                             NaN                             NaN   \n",
       "0                        0.915342                        0.073902   \n",
       "0                             NaN                             NaN   \n",
       "0                        0.753140                        0.179476   \n",
       "\n",
       "   perf_grp_false negative rate_1  perf_grp_selection rate_0  \\\n",
       "0                             NaN                        NaN   \n",
       "0                        0.014770                   0.883106   \n",
       "0                             NaN                        NaN   \n",
       "0                        0.058643                   0.701461   \n",
       "\n",
       "   perf_grp_selection rate_1  perf_grp_count_0  perf_grp_count_1  \n",
       "0                        NaN               NaN               NaN  \n",
       "0                   0.924577           20540.0           69170.0  \n",
       "0                        NaN               NaN               NaN  \n",
       "0                   0.778011           20540.0           69170.0  \n",
       "\n",
       "[4 rows x 50 columns]"
      ]
     },
     "execution_count": 79,
     "metadata": {},
     "output_type": "execute_result"
    }
   ],
   "source": [
    "final_output = universe_analysis.generate_final_output(\n",
    "    y_pred_prob=probs_test,\n",
    "    y_test=y_true,\n",
    "    org_test=org_test,\n",
    "    filter_data=filter_sub_universe_data,\n",
    "    cp_metrics_df=cp_metrics_df,\n",
    "    save=True,\n",
    ")\n",
    "final_output"
   ]
  },
  {
   "cell_type": "code",
   "execution_count": null,
   "id": "721ff514-cb11-46f8-b6fc-50392f74b5cb",
   "metadata": {
    "papermill": {
     "duration": 0.016176,
     "end_time": "2025-07-30T21:25:28.176574",
     "exception": false,
     "start_time": "2025-07-30T21:25:28.160398",
     "status": "completed"
    },
    "tags": []
   },
   "outputs": [],
   "source": []
  }
 ],
 "metadata": {
  "celltoolbar": "Tags",
  "kernelspec": {
   "display_name": "Python (CMA Fairness)",
   "language": "python",
   "name": "cma_fair_env"
  },
  "language_info": {
   "codemirror_mode": {
    "name": "ipython",
    "version": 3
   },
   "file_extension": ".py",
   "mimetype": "text/x-python",
   "name": "python",
   "nbconvert_exporter": "python",
   "pygments_lexer": "ipython3",
   "version": "3.10.12"
  },
  "papermill": {
   "default_parameters": {},
   "duration": 41.030539,
   "end_time": "2025-07-30T21:25:28.810823",
   "environment_variables": {},
   "exception": null,
   "input_path": "universe_analysis.ipynb",
   "output_path": "output/runs/14/notebooks/m_14-2312be41bc522ec1662b30886640fc84.ipynb",
   "parameters": {
    "output_dir": "output",
    "run_no": "14",
    "seed": "2023",
    "universe": "{\"cutoff\": [\"quantile_0.1\", \"quantile_0.25\"], \"eval_fairness_grouping\": [\"majority-minority\", \"nationality-all\"], \"exclude_features\": \"age\", \"exclude_subgroups\": \"drop-non-german\", \"model\": \"rf\", \"scale\": \"scale\", \"training_size\": \"1k\", \"training_year\": \"2014\"}",
    "universe_id": "2312be41bc522ec1662b30886640fc84"
   },
   "start_time": "2025-07-30T21:24:47.780284",
   "version": "2.6.0"
  }
 },
 "nbformat": 4,
 "nbformat_minor": 5
}