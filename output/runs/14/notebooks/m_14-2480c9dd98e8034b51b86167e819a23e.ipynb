{
 "cells": [
  {
   "cell_type": "code",
   "execution_count": 1,
   "id": "f159f837-637b-42ba-96b5-ec9a68c44524",
   "metadata": {
    "execution": {
     "iopub.execute_input": "2025-07-30T21:40:14.111594Z",
     "iopub.status.busy": "2025-07-30T21:40:14.110741Z",
     "iopub.status.idle": "2025-07-30T21:40:14.127195Z",
     "shell.execute_reply": "2025-07-30T21:40:14.126185Z"
    },
    "papermill": {
     "duration": 0.048347,
     "end_time": "2025-07-30T21:40:14.128861",
     "exception": false,
     "start_time": "2025-07-30T21:40:14.080514",
     "status": "completed"
    },
    "tags": []
   },
   "outputs": [
    {
     "name": "stdout",
     "output_type": "stream",
     "text": [
      "/dss/dsshome1/0C/ra93lal2/cma/CMA_Fairness_v2\n"
     ]
    },
    {
     "name": "stderr",
     "output_type": "stream",
     "text": [
      "/dss/dsshome1/0C/ra93lal2/.local/share/virtualenvs/CMA_Fairness_v2-3j10GkSs/lib/python3.10/site-packages/IPython/core/magics/osm.py:393: UserWarning: This is now an optional IPython functionality, using bookmarks requires you to install the `pickleshare` library.\n",
      "  bkms = self.shell.db.get('bookmarks', {})\n",
      "/dss/dsshome1/0C/ra93lal2/.local/share/virtualenvs/CMA_Fairness_v2-3j10GkSs/lib/python3.10/site-packages/IPython/core/magics/osm.py:417: UserWarning: This is now an optional IPython functionality, setting dhist requires you to install the `pickleshare` library.\n",
      "  self.shell.db['dhist'] = compress_dhist(dhist)[-100:]\n"
     ]
    }
   ],
   "source": [
    "%cd ~/cma/CMA_Fairness_v2"
   ]
  },
  {
   "cell_type": "markdown",
   "id": "de2603b9",
   "metadata": {
    "papermill": {
     "duration": 0.01943,
     "end_time": "2025-07-30T21:40:14.167374",
     "exception": false,
     "start_time": "2025-07-30T21:40:14.147944",
     "status": "completed"
    },
    "tags": []
   },
   "source": [
    "The following cell holds the definition of our parameters, these values can be overriden by rendering the with e.g. the following command:\n",
    "\n",
    "papermill -p alpha 0.2 -p ratio 0.3 universe_analysis.ipynb output/test_run.ipynb"
   ]
  },
  {
   "cell_type": "code",
   "execution_count": 2,
   "id": "a80968a0-40bb-4fa9-85ef-2d5eefb01975",
   "metadata": {
    "execution": {
     "iopub.execute_input": "2025-07-30T21:40:14.208523Z",
     "iopub.status.busy": "2025-07-30T21:40:14.207988Z",
     "iopub.status.idle": "2025-07-30T21:40:14.213455Z",
     "shell.execute_reply": "2025-07-30T21:40:14.212555Z"
    },
    "papermill": {
     "duration": 0.028503,
     "end_time": "2025-07-30T21:40:14.215270",
     "exception": false,
     "start_time": "2025-07-30T21:40:14.186767",
     "status": "completed"
    },
    "tags": []
   },
   "outputs": [
    {
     "name": "stdout",
     "output_type": "stream",
     "text": [
      "Current working directory: /dss/dsshome1/0C/ra93lal2/cma/CMA_Fairness_v2\n"
     ]
    }
   ],
   "source": [
    "import os\n",
    "print(\"Current working directory:\", os.getcwd())"
   ]
  },
  {
   "cell_type": "code",
   "execution_count": 3,
   "id": "2dce4c03",
   "metadata": {
    "execution": {
     "iopub.execute_input": "2025-07-30T21:40:14.258842Z",
     "iopub.status.busy": "2025-07-30T21:40:14.258340Z",
     "iopub.status.idle": "2025-07-30T21:40:14.264793Z",
     "shell.execute_reply": "2025-07-30T21:40:14.263881Z"
    },
    "papermill": {
     "duration": 0.030182,
     "end_time": "2025-07-30T21:40:14.266481",
     "exception": false,
     "start_time": "2025-07-30T21:40:14.236299",
     "status": "completed"
    },
    "tags": [
     "parameters"
    ]
   },
   "outputs": [],
   "source": [
    "run_no = 0\n",
    "universe_id = \"test\"\n",
    "universe = {\n",
    "    \"training_size\": \"25k\", # \"25k\", \"5k\", \"1k\"\n",
    "    \"training_year\": \"2014\", # \"2014\", \"2012_14\", \"2010_14\"\n",
    "    \"scale\": \"scale\", # \"scale\", \"do-not-scale\",\n",
    "    #\"stratify_split\": \"target\", # \"none\", \"target\", \"protected-attribute\", \"both\",\n",
    "    \"model\": \"elasticnet\", # \"logreg\", \"penalized_logreg\", \"rf\", \"gbm\", \"elasticnet\"\n",
    "    \"cutoff\": [\"quantile_0.15\", \"quantile_0.30\"],\n",
    "    \"exclude_features\": \"age\", # \"none\", \"nationality\", \"sex\", \"nationality-sex\", \"age\"\n",
    "    \"exclude_subgroups\": \"keep-all\", # \"keep-all\", \"drop-non-german\"\n",
    "    \"eval_fairness_grouping\": [\"majority-minority\", \"nationality-all\"]\n",
    "}\n",
    "\n",
    "output_dir=\"./output\"\n",
    "seed=0"
   ]
  },
  {
   "cell_type": "code",
   "execution_count": 4,
   "id": "bdbc7a10",
   "metadata": {
    "execution": {
     "iopub.execute_input": "2025-07-30T21:40:14.312531Z",
     "iopub.status.busy": "2025-07-30T21:40:14.311694Z",
     "iopub.status.idle": "2025-07-30T21:40:14.319394Z",
     "shell.execute_reply": "2025-07-30T21:40:14.318282Z"
    },
    "papermill": {
     "duration": 0.031765,
     "end_time": "2025-07-30T21:40:14.321296",
     "exception": false,
     "start_time": "2025-07-30T21:40:14.289531",
     "status": "completed"
    },
    "tags": [
     "injected-parameters"
    ]
   },
   "outputs": [],
   "source": [
    "# Parameters\n",
    "universe_id = \"2480c9dd98e8034b51b86167e819a23e\"\n",
    "run_no = \"14\"\n",
    "universe = \"{\\\"cutoff\\\": [\\\"quantile_0.1\\\", \\\"quantile_0.25\\\"], \\\"eval_fairness_grouping\\\": [\\\"majority-minority\\\", \\\"nationality-all\\\"], \\\"exclude_features\\\": \\\"sex\\\", \\\"exclude_subgroups\\\": \\\"keep-all\\\", \\\"model\\\": \\\"rf\\\", \\\"scale\\\": \\\"do-not-scale\\\", \\\"training_size\\\": \\\"1k\\\", \\\"training_year\\\": \\\"2012_14\\\"}\"\n",
    "output_dir = \"output\"\n",
    "seed = \"2023\"\n"
   ]
  },
  {
   "cell_type": "code",
   "execution_count": 5,
   "id": "1650acaf",
   "metadata": {
    "execution": {
     "iopub.execute_input": "2025-07-30T21:40:14.368002Z",
     "iopub.status.busy": "2025-07-30T21:40:14.367269Z",
     "iopub.status.idle": "2025-07-30T21:40:14.372107Z",
     "shell.execute_reply": "2025-07-30T21:40:14.371433Z"
    },
    "papermill": {
     "duration": 0.029808,
     "end_time": "2025-07-30T21:40:14.373524",
     "exception": false,
     "start_time": "2025-07-30T21:40:14.343716",
     "status": "completed"
    },
    "tags": []
   },
   "outputs": [],
   "source": [
    "import json\n",
    "# Parse universe into dict if it is passed as a string\n",
    "if isinstance(universe, str):\n",
    "    universe = json.loads(universe)"
   ]
  },
  {
   "cell_type": "code",
   "execution_count": 6,
   "id": "16620c48",
   "metadata": {
    "execution": {
     "iopub.execute_input": "2025-07-30T21:40:14.408362Z",
     "iopub.status.busy": "2025-07-30T21:40:14.398185Z",
     "iopub.status.idle": "2025-07-30T21:40:14.453617Z",
     "shell.execute_reply": "2025-07-30T21:40:14.452711Z"
    },
    "papermill": {
     "duration": 0.070727,
     "end_time": "2025-07-30T21:40:14.455641",
     "exception": false,
     "start_time": "2025-07-30T21:40:14.384914",
     "status": "completed"
    },
    "tags": []
   },
   "outputs": [],
   "source": [
    "# Auto-reload the custom package\n",
    "%load_ext autoreload\n",
    "%autoreload 1\n",
    "%aimport fairness_multiverse"
   ]
  },
  {
   "cell_type": "code",
   "execution_count": 7,
   "id": "01c5c9f3",
   "metadata": {
    "execution": {
     "iopub.execute_input": "2025-07-30T21:40:14.502305Z",
     "iopub.status.busy": "2025-07-30T21:40:14.501336Z",
     "iopub.status.idle": "2025-07-30T21:40:16.365033Z",
     "shell.execute_reply": "2025-07-30T21:40:16.364060Z"
    },
    "papermill": {
     "duration": 1.888558,
     "end_time": "2025-07-30T21:40:16.366859",
     "exception": false,
     "start_time": "2025-07-30T21:40:14.478301",
     "status": "completed"
    },
    "tags": []
   },
   "outputs": [],
   "source": [
    "from fairness_multiverse.universe import UniverseAnalysis\n",
    "\n",
    "universe_analysis = UniverseAnalysis(\n",
    "    run_no = run_no,\n",
    "    universe_id = universe_id,\n",
    "    universe = universe,\n",
    "    output_dir=output_dir,\n",
    ")"
   ]
  },
  {
   "cell_type": "code",
   "execution_count": 8,
   "id": "106241f5",
   "metadata": {
    "execution": {
     "iopub.execute_input": "2025-07-30T21:40:16.437124Z",
     "iopub.status.busy": "2025-07-30T21:40:16.435925Z",
     "iopub.status.idle": "2025-07-30T21:40:16.443017Z",
     "shell.execute_reply": "2025-07-30T21:40:16.442006Z"
    },
    "papermill": {
     "duration": 0.030441,
     "end_time": "2025-07-30T21:40:16.444650",
     "exception": false,
     "start_time": "2025-07-30T21:40:16.414209",
     "status": "completed"
    },
    "tags": []
   },
   "outputs": [
    {
     "name": "stdout",
     "output_type": "stream",
     "text": [
      "Using Seed: 2023\n"
     ]
    }
   ],
   "source": [
    "import numpy as np\n",
    "parsed_seed = int(seed)\n",
    "np.random.seed(parsed_seed)\n",
    "print(f\"Using Seed: {parsed_seed}\")"
   ]
  },
  {
   "cell_type": "markdown",
   "id": "e0ebdc57",
   "metadata": {
    "papermill": {
     "duration": 0.02003,
     "end_time": "2025-07-30T21:40:16.519640",
     "exception": false,
     "start_time": "2025-07-30T21:40:16.499610",
     "status": "completed"
    },
    "tags": []
   },
   "source": [
    "# Loading Data"
   ]
  },
  {
   "cell_type": "markdown",
   "id": "681925a3",
   "metadata": {
    "papermill": {
     "duration": 0.020536,
     "end_time": "2025-07-30T21:40:16.560287",
     "exception": false,
     "start_time": "2025-07-30T21:40:16.539751",
     "status": "completed"
    },
    "tags": []
   },
   "source": [
    "Load siab_train, siab_test, siab_calib and/or \n",
    "load siab_train_features, siab_train_labels"
   ]
  },
  {
   "cell_type": "code",
   "execution_count": 9,
   "id": "f0496b8a",
   "metadata": {
    "execution": {
     "iopub.execute_input": "2025-07-30T21:40:16.619767Z",
     "iopub.status.busy": "2025-07-30T21:40:16.619382Z",
     "iopub.status.idle": "2025-07-30T21:40:30.392364Z",
     "shell.execute_reply": "2025-07-30T21:40:30.390971Z"
    },
    "papermill": {
     "duration": 13.81505,
     "end_time": "2025-07-30T21:40:30.394488",
     "exception": false,
     "start_time": "2025-07-30T21:40:16.579438",
     "status": "completed"
    },
    "tags": []
   },
   "outputs": [
    {
     "name": "stdout",
     "output_type": "stream",
     "text": [
      "Loading SIAB data from cache: data/siab_cached.csv.gz\n"
     ]
    },
    {
     "name": "stdout",
     "output_type": "stream",
     "text": [
      "(643690, 164)\n"
     ]
    }
   ],
   "source": [
    "from pathlib import Path\n",
    "import pandas as pd\n",
    "\n",
    "# File paths\n",
    "raw_file = Path(\"data/raw/siab.csv\")\n",
    "cache_file = Path(\"data/siab_cached.csv.gz\")\n",
    "\n",
    "# Ensure cache directory exists\n",
    "cache_file.parent.mkdir(parents=True, exist_ok=True)\n",
    "\n",
    "# Load with simple caching\n",
    "if cache_file.exists():\n",
    "    print(f\"Loading SIAB data from cache: {cache_file}\")\n",
    "    siab = pd.read_csv(cache_file, compression='gzip')\n",
    "else:\n",
    "    print(f\"Cache not found. Reading raw SIAB data: {raw_file}\")\n",
    "    siab = pd.read_csv(raw_file)\n",
    "    siab.to_csv(cache_file, index=False, compression='gzip')\n",
    "    print(f\"Cached SIAB data to: {cache_file}\")\n",
    "\n",
    "# Now use `siab` DataFrame as needed\n",
    "print(siab.shape)"
   ]
  },
  {
   "cell_type": "code",
   "execution_count": 10,
   "id": "db0ca512-5f53-4dba-abdb-a2888bca41ba",
   "metadata": {
    "execution": {
     "iopub.execute_input": "2025-07-30T21:40:30.442289Z",
     "iopub.status.busy": "2025-07-30T21:40:30.441610Z",
     "iopub.status.idle": "2025-07-30T21:40:30.448478Z",
     "shell.execute_reply": "2025-07-30T21:40:30.447311Z"
    },
    "papermill": {
     "duration": 0.031217,
     "end_time": "2025-07-30T21:40:30.450219",
     "exception": false,
     "start_time": "2025-07-30T21:40:30.419002",
     "status": "completed"
    },
    "tags": []
   },
   "outputs": [],
   "source": [
    "#siab"
   ]
  },
  {
   "cell_type": "code",
   "execution_count": 11,
   "id": "a0edb063",
   "metadata": {
    "execution": {
     "iopub.execute_input": "2025-07-30T21:40:30.499326Z",
     "iopub.status.busy": "2025-07-30T21:40:30.498291Z",
     "iopub.status.idle": "2025-07-30T21:40:30.513254Z",
     "shell.execute_reply": "2025-07-30T21:40:30.512073Z"
    },
    "papermill": {
     "duration": 0.043006,
     "end_time": "2025-07-30T21:40:30.515992",
     "exception": false,
     "start_time": "2025-07-30T21:40:30.472986",
     "status": "completed"
    },
    "tags": []
   },
   "outputs": [],
   "source": [
    "#import pandas as pd\n",
    "#\n",
    "#X_train = pd.read_csv(\"./data/X_train.csv\")\n",
    "#y_train = pd.read_csv(\"./data/y_train.csv\")"
   ]
  },
  {
   "cell_type": "code",
   "execution_count": 12,
   "id": "63d08085",
   "metadata": {
    "execution": {
     "iopub.execute_input": "2025-07-30T21:40:30.553191Z",
     "iopub.status.busy": "2025-07-30T21:40:30.552714Z",
     "iopub.status.idle": "2025-07-30T21:40:30.557656Z",
     "shell.execute_reply": "2025-07-30T21:40:30.556985Z"
    },
    "papermill": {
     "duration": 0.019726,
     "end_time": "2025-07-30T21:40:30.559054",
     "exception": false,
     "start_time": "2025-07-30T21:40:30.539328",
     "status": "completed"
    },
    "tags": []
   },
   "outputs": [],
   "source": [
    "#X_test = pd.read_csv(\"./data/X_test.csv\")\n",
    "#y_true = pd.read_csv(\"./data/y_test.csv\")"
   ]
  },
  {
   "cell_type": "code",
   "execution_count": 13,
   "id": "98a8d0fa-1d3d-4ed8-bb2c-281470e24add",
   "metadata": {
    "execution": {
     "iopub.execute_input": "2025-07-30T21:40:30.583703Z",
     "iopub.status.busy": "2025-07-30T21:40:30.583283Z",
     "iopub.status.idle": "2025-07-30T21:40:30.591096Z",
     "shell.execute_reply": "2025-07-30T21:40:30.589996Z"
    },
    "papermill": {
     "duration": 0.022124,
     "end_time": "2025-07-30T21:40:30.592880",
     "exception": false,
     "start_time": "2025-07-30T21:40:30.570756",
     "status": "completed"
    },
    "tags": []
   },
   "outputs": [],
   "source": [
    "# Calibration data for conformal\n",
    "#X_calib = pd.read_csv(\"./data/X_calib.csv\")\n",
    "#y_calib = pd.read_csv(\"./data/y_calib.csv\")"
   ]
  },
  {
   "cell_type": "markdown",
   "id": "997051c5-15bd-4b69-9786-c3001a3ce484",
   "metadata": {
    "papermill": {
     "duration": 0.011452,
     "end_time": "2025-07-30T21:40:30.617224",
     "exception": false,
     "start_time": "2025-07-30T21:40:30.605772",
     "status": "completed"
    },
    "tags": []
   },
   "source": [
    "# Splitting Data and Setting Training Data Size"
   ]
  },
  {
   "cell_type": "code",
   "execution_count": 14,
   "id": "e993b61f-042d-41a6-8c81-f55681f86335",
   "metadata": {
    "execution": {
     "iopub.execute_input": "2025-07-30T21:40:30.642729Z",
     "iopub.status.busy": "2025-07-30T21:40:30.641827Z",
     "iopub.status.idle": "2025-07-30T21:40:30.652542Z",
     "shell.execute_reply": "2025-07-30T21:40:30.651224Z"
    },
    "papermill": {
     "duration": 0.026367,
     "end_time": "2025-07-30T21:40:30.655073",
     "exception": false,
     "start_time": "2025-07-30T21:40:30.628706",
     "status": "completed"
    },
    "tags": []
   },
   "outputs": [],
   "source": [
    "def sample_by_year_size(df,\n",
    "                        training_year: str,\n",
    "                        training_size: str,\n",
    "                        random_state: int = 42):\n",
    "    # --- parse training_year into a list of int years ---\n",
    "    if \"_\" in training_year:\n",
    "        start_str, end_str = training_year.split(\"_\", 1)\n",
    "        start = int(start_str)\n",
    "        end   = int(end_str) if len(end_str) == 4 else (int(end_str) + (start // 100)*100)\n",
    "        years = list(range(start, end + 1))\n",
    "    else:\n",
    "        years = [int(training_year)]\n",
    "\n",
    "    df = df[df[\"year\"].isin(years)].reset_index(drop=True)\n",
    "\n",
    "    # --- map training_size to total number of samples ---\n",
    "    total_map = {\"25k\": 25_000, \"5k\": 5_000, \"1k\": 1_000}\n",
    "    if training_size not in total_map:\n",
    "        return df  # e.g. \"all\"\n",
    "\n",
    "    total_samples = total_map[training_size]\n",
    "    n_years       = len(years)\n",
    "    base          = total_samples // n_years\n",
    "    remainder     = total_samples % n_years\n",
    "\n",
    "    # --- build a dict: year -> how many to sample ---\n",
    "    # give +1 to the first `remainder` years in ascending order\n",
    "    quotas = {\n",
    "        year: base + (1 if idx < remainder else 0)\n",
    "        for idx, year in enumerate(sorted(years))\n",
    "    }\n",
    "\n",
    "    # --- sample per‐year according to the quota dict ---\n",
    "    sampled = (\n",
    "        df\n",
    "        .groupby(\"year\", group_keys=False)\n",
    "        .apply(lambda grp: grp.sample(\n",
    "            n=min(len(grp), quotas[grp.name]),\n",
    "            random_state=random_state))\n",
    "        .reset_index(drop=True)\n",
    "    )\n",
    "\n",
    "    return sampled"
   ]
  },
  {
   "cell_type": "code",
   "execution_count": 15,
   "id": "c0ccd338-0e02-41f3-a09d-f56f9266e3fb",
   "metadata": {
    "execution": {
     "iopub.execute_input": "2025-07-30T21:40:30.704916Z",
     "iopub.status.busy": "2025-07-30T21:40:30.703986Z",
     "iopub.status.idle": "2025-07-30T21:40:30.712880Z",
     "shell.execute_reply": "2025-07-30T21:40:30.711771Z"
    },
    "papermill": {
     "duration": 0.035536,
     "end_time": "2025-07-30T21:40:30.714310",
     "exception": false,
     "start_time": "2025-07-30T21:40:30.678774",
     "status": "completed"
    },
    "tags": []
   },
   "outputs": [],
   "source": [
    "#universe[\"training_size\"]"
   ]
  },
  {
   "cell_type": "code",
   "execution_count": 16,
   "id": "ca707fd7-8047-4acd-bfa5-66248fbbf8e6",
   "metadata": {
    "execution": {
     "iopub.execute_input": "2025-07-30T21:40:30.763691Z",
     "iopub.status.busy": "2025-07-30T21:40:30.763126Z",
     "iopub.status.idle": "2025-07-30T21:40:30.769807Z",
     "shell.execute_reply": "2025-07-30T21:40:30.768362Z"
    },
    "papermill": {
     "duration": 0.034049,
     "end_time": "2025-07-30T21:40:30.771666",
     "exception": false,
     "start_time": "2025-07-30T21:40:30.737617",
     "status": "completed"
    },
    "tags": []
   },
   "outputs": [],
   "source": [
    "#universe[\"training_year\"]"
   ]
  },
  {
   "cell_type": "code",
   "execution_count": 17,
   "id": "aea9c6ef-6f46-42c8-85eb-5a62025c1508",
   "metadata": {
    "execution": {
     "iopub.execute_input": "2025-07-30T21:40:30.820940Z",
     "iopub.status.busy": "2025-07-30T21:40:30.819847Z",
     "iopub.status.idle": "2025-07-30T21:40:31.439275Z",
     "shell.execute_reply": "2025-07-30T21:40:31.437980Z"
    },
    "papermill": {
     "duration": 0.646248,
     "end_time": "2025-07-30T21:40:31.441086",
     "exception": false,
     "start_time": "2025-07-30T21:40:30.794838",
     "status": "completed"
    },
    "tags": []
   },
   "outputs": [],
   "source": [
    "siab_train = sample_by_year_size(siab,\n",
    "                               training_year=universe[\"training_year\"],\n",
    "                               training_size=universe[\"training_size\"])"
   ]
  },
  {
   "cell_type": "code",
   "execution_count": 18,
   "id": "8d3afb32-789d-442c-8d5d-9f5aa8dd2eed",
   "metadata": {
    "execution": {
     "iopub.execute_input": "2025-07-30T21:40:31.469567Z",
     "iopub.status.busy": "2025-07-30T21:40:31.469206Z",
     "iopub.status.idle": "2025-07-30T21:40:31.473379Z",
     "shell.execute_reply": "2025-07-30T21:40:31.472611Z"
    },
    "papermill": {
     "duration": 0.020686,
     "end_time": "2025-07-30T21:40:31.474672",
     "exception": false,
     "start_time": "2025-07-30T21:40:31.453986",
     "status": "completed"
    },
    "tags": []
   },
   "outputs": [],
   "source": [
    "#siab_train.shape"
   ]
  },
  {
   "cell_type": "code",
   "execution_count": 19,
   "id": "d582db68-1a4c-47fb-84fc-08518dc1975a",
   "metadata": {
    "execution": {
     "iopub.execute_input": "2025-07-30T21:40:31.498353Z",
     "iopub.status.busy": "2025-07-30T21:40:31.497820Z",
     "iopub.status.idle": "2025-07-30T21:40:31.502212Z",
     "shell.execute_reply": "2025-07-30T21:40:31.501496Z"
    },
    "papermill": {
     "duration": 0.017319,
     "end_time": "2025-07-30T21:40:31.503513",
     "exception": false,
     "start_time": "2025-07-30T21:40:31.486194",
     "status": "completed"
    },
    "tags": []
   },
   "outputs": [],
   "source": [
    "#display(siab_train.groupby(\"year\").size())"
   ]
  },
  {
   "cell_type": "code",
   "execution_count": 20,
   "id": "a561edb4-d032-42cb-8256-22eac1111c64",
   "metadata": {
    "execution": {
     "iopub.execute_input": "2025-07-30T21:40:31.527409Z",
     "iopub.status.busy": "2025-07-30T21:40:31.526669Z",
     "iopub.status.idle": "2025-07-30T21:40:31.771458Z",
     "shell.execute_reply": "2025-07-30T21:40:31.770715Z"
    },
    "papermill": {
     "duration": 0.258081,
     "end_time": "2025-07-30T21:40:31.772903",
     "exception": false,
     "start_time": "2025-07-30T21:40:31.514822",
     "status": "completed"
    },
    "tags": []
   },
   "outputs": [],
   "source": [
    "#siab_train = siab_s[siab_s.year < 2015]\n",
    "siab_calib = siab[siab.year == 2015]\n",
    "siab_test = siab[siab.year == 2016]"
   ]
  },
  {
   "cell_type": "code",
   "execution_count": 21,
   "id": "472de16f-c3db-4916-846b-1f0de9cf1746",
   "metadata": {
    "execution": {
     "iopub.execute_input": "2025-07-30T21:40:31.825903Z",
     "iopub.status.busy": "2025-07-30T21:40:31.825113Z",
     "iopub.status.idle": "2025-07-30T21:40:31.833518Z",
     "shell.execute_reply": "2025-07-30T21:40:31.832756Z"
    },
    "papermill": {
     "duration": 0.043764,
     "end_time": "2025-07-30T21:40:31.835480",
     "exception": false,
     "start_time": "2025-07-30T21:40:31.791716",
     "status": "completed"
    },
    "tags": []
   },
   "outputs": [],
   "source": [
    "X_train = siab_train.iloc[:,4:164]\n",
    "y_train = siab_train.iloc[:, [3]]"
   ]
  },
  {
   "cell_type": "code",
   "execution_count": 22,
   "id": "828c96af-f43a-4ed6-ba47-8ac73a47d56c",
   "metadata": {
    "execution": {
     "iopub.execute_input": "2025-07-30T21:40:31.860898Z",
     "iopub.status.busy": "2025-07-30T21:40:31.860392Z",
     "iopub.status.idle": "2025-07-30T21:40:31.929955Z",
     "shell.execute_reply": "2025-07-30T21:40:31.928581Z"
    },
    "papermill": {
     "duration": 0.084303,
     "end_time": "2025-07-30T21:40:31.931882",
     "exception": false,
     "start_time": "2025-07-30T21:40:31.847579",
     "status": "completed"
    },
    "tags": []
   },
   "outputs": [],
   "source": [
    "X_calib = siab_calib.iloc[:,4:164]\n",
    "y_calib = siab_calib.iloc[:, [3]]"
   ]
  },
  {
   "cell_type": "code",
   "execution_count": 23,
   "id": "c34be9c3-6bd6-476e-acd3-845840e303be",
   "metadata": {
    "execution": {
     "iopub.execute_input": "2025-07-30T21:40:31.978138Z",
     "iopub.status.busy": "2025-07-30T21:40:31.977437Z",
     "iopub.status.idle": "2025-07-30T21:40:32.031421Z",
     "shell.execute_reply": "2025-07-30T21:40:32.030096Z"
    },
    "papermill": {
     "duration": 0.079172,
     "end_time": "2025-07-30T21:40:32.033202",
     "exception": false,
     "start_time": "2025-07-30T21:40:31.954030",
     "status": "completed"
    },
    "tags": []
   },
   "outputs": [],
   "source": [
    "X_test = siab_test.iloc[:,4:164]\n",
    "y_true = siab_test.iloc[:, [3]]"
   ]
  },
  {
   "cell_type": "markdown",
   "id": "9901737e-04df-44f0-9100-f5ad144ed040",
   "metadata": {
    "papermill": {
     "duration": 0.020829,
     "end_time": "2025-07-30T21:40:32.080421",
     "exception": false,
     "start_time": "2025-07-30T21:40:32.059592",
     "status": "completed"
    },
    "tags": []
   },
   "source": [
    "# Splitting Data and Setting Training Data Size OLD VERSION"
   ]
  },
  {
   "cell_type": "code",
   "execution_count": 24,
   "id": "acbc8f7d-8fc8-4e86-8c59-5dcb0f58384b",
   "metadata": {
    "execution": {
     "iopub.execute_input": "2025-07-30T21:40:32.135416Z",
     "iopub.status.busy": "2025-07-30T21:40:32.134942Z",
     "iopub.status.idle": "2025-07-30T21:40:32.141010Z",
     "shell.execute_reply": "2025-07-30T21:40:32.139811Z"
    },
    "papermill": {
     "duration": 0.036804,
     "end_time": "2025-07-30T21:40:32.143387",
     "exception": false,
     "start_time": "2025-07-30T21:40:32.106583",
     "status": "completed"
    },
    "tags": []
   },
   "outputs": [],
   "source": [
    "#def sample_by_year(df, training_size, random_state=42):\n",
    "#    if training_size == \"2014\":\n",
    "#        return df[df[\"year\"] == 2014].reset_index(drop=True)\n",
    "#    \n",
    "#    size_map = {\n",
    "#        \"25k\": 5000,\n",
    "#        \"5k\": 1000,\n",
    "#        \"1k\": 200\n",
    "#    }\n",
    "#\n",
    "#    if training_size not in size_map:\n",
    "#        return df.reset_index(drop=True)  # use all data\n",
    "#\n",
    "#    n_per_year = size_map[training_size]\n",
    "#    grouped = df.groupby(\"year\")\n",
    "#    sampled = grouped.apply(lambda x: x.sample(n=min(n_per_year, len(x)), random_state=random_state))\n",
    "#    return sampled.reset_index(drop=True)"
   ]
  },
  {
   "cell_type": "code",
   "execution_count": 25,
   "id": "6d931f52-beaf-43ff-9e78-9d44a448d54e",
   "metadata": {
    "execution": {
     "iopub.execute_input": "2025-07-30T21:40:32.189177Z",
     "iopub.status.busy": "2025-07-30T21:40:32.188696Z",
     "iopub.status.idle": "2025-07-30T21:40:32.195868Z",
     "shell.execute_reply": "2025-07-30T21:40:32.194801Z"
    },
    "papermill": {
     "duration": 0.032375,
     "end_time": "2025-07-30T21:40:32.197833",
     "exception": false,
     "start_time": "2025-07-30T21:40:32.165458",
     "status": "completed"
    },
    "tags": []
   },
   "outputs": [],
   "source": [
    "#siab_s = sample_by_year(siab, universe[\"training_size\"])"
   ]
  },
  {
   "cell_type": "code",
   "execution_count": 26,
   "id": "5db0a40e-a4e2-4920-be85-b12ae061d70d",
   "metadata": {
    "execution": {
     "iopub.execute_input": "2025-07-30T21:40:32.248832Z",
     "iopub.status.busy": "2025-07-30T21:40:32.247867Z",
     "iopub.status.idle": "2025-07-30T21:40:32.253841Z",
     "shell.execute_reply": "2025-07-30T21:40:32.252828Z"
    },
    "papermill": {
     "duration": 0.030469,
     "end_time": "2025-07-30T21:40:32.255406",
     "exception": false,
     "start_time": "2025-07-30T21:40:32.224937",
     "status": "completed"
    },
    "tags": []
   },
   "outputs": [],
   "source": [
    "#display(siab_s.groupby(\"year\").size())"
   ]
  },
  {
   "cell_type": "code",
   "execution_count": 27,
   "id": "e6c733c5",
   "metadata": {
    "execution": {
     "iopub.execute_input": "2025-07-30T21:40:32.300772Z",
     "iopub.status.busy": "2025-07-30T21:40:32.300294Z",
     "iopub.status.idle": "2025-07-30T21:40:32.394610Z",
     "shell.execute_reply": "2025-07-30T21:40:32.393639Z"
    },
    "papermill": {
     "duration": 0.120459,
     "end_time": "2025-07-30T21:40:32.396734",
     "exception": false,
     "start_time": "2025-07-30T21:40:32.276275",
     "status": "completed"
    },
    "tags": []
   },
   "outputs": [],
   "source": [
    "# Auxiliary data needed downstream in the pipeline\n",
    "\n",
    "org_train = X_train.copy()\n",
    "org_test = X_test.copy()\n",
    "org_calib = X_calib.copy()"
   ]
  },
  {
   "cell_type": "code",
   "execution_count": 28,
   "id": "1466abac-c6da-4492-a62f-4240ae3783af",
   "metadata": {
    "execution": {
     "iopub.execute_input": "2025-07-30T21:40:32.435638Z",
     "iopub.status.busy": "2025-07-30T21:40:32.435176Z",
     "iopub.status.idle": "2025-07-30T21:40:32.441320Z",
     "shell.execute_reply": "2025-07-30T21:40:32.440317Z"
    },
    "papermill": {
     "duration": 0.023215,
     "end_time": "2025-07-30T21:40:32.443069",
     "exception": false,
     "start_time": "2025-07-30T21:40:32.419854",
     "status": "completed"
    },
    "tags": []
   },
   "outputs": [],
   "source": [
    "# put in other script?\n",
    "# Group sizes\n",
    "\n",
    "#def calculate_percentages(df, df_name):\n",
    "#    total_entries = len(df)\n",
    "#\n",
    "#    female_pct = (df['frau1'] == 1).mean() * 100\n",
    "#    non_german_pct = ((df['maxdeutsch1'] == 0) & (df['maxdeutsch.Missing.'] == 0)).mean() * 100\n",
    "#    non_german_male_pct = ((df['frau1'] == 0) & (df['maxdeutsch1'] == 0) & (df['maxdeutsch.Missing.'] == 0)).mean() * 100\n",
    "#    non_german_female_pct = ((df['frau1'] == 1) & (df['maxdeutsch1'] == 0) & (df['maxdeutsch.Missing.'] == 0)).mean() * 100\n",
    "#\n",
    "#    print(f\"--- {df_name} ---\")\n",
    "#    print(f\"Female: {female_pct:.2f}%\")\n",
    "#    print(f\"Non-German: {non_german_pct:.2f}%\")\n",
    "#    print(f\"Non-German Male: {non_german_male_pct:.2f}%\")\n",
    "#    print(f\"Non-German Female: {non_german_female_pct:.2f}%\\n\")\n",
    "#\n",
    "## Calculate for each DataFrame\n",
    "#calculate_percentages(siab_calib, \"siab_calib\")\n",
    "#calculate_percentages(siab_test, \"siab_test\")\n",
    "#calculate_percentages(siab_train, \"siab_train\")"
   ]
  },
  {
   "cell_type": "markdown",
   "id": "0a4a1b33",
   "metadata": {
    "papermill": {
     "duration": 0.023312,
     "end_time": "2025-07-30T21:40:32.492042",
     "exception": false,
     "start_time": "2025-07-30T21:40:32.468730",
     "status": "completed"
    },
    "tags": []
   },
   "source": [
    "# Preprocessing Data"
   ]
  },
  {
   "cell_type": "code",
   "execution_count": 29,
   "id": "ca879031",
   "metadata": {
    "execution": {
     "iopub.execute_input": "2025-07-30T21:40:32.548214Z",
     "iopub.status.busy": "2025-07-30T21:40:32.547750Z",
     "iopub.status.idle": "2025-07-30T21:40:32.554307Z",
     "shell.execute_reply": "2025-07-30T21:40:32.553207Z"
    },
    "papermill": {
     "duration": 0.03483,
     "end_time": "2025-07-30T21:40:32.557308",
     "exception": false,
     "start_time": "2025-07-30T21:40:32.522478",
     "status": "completed"
    },
    "tags": []
   },
   "outputs": [],
   "source": [
    "# EXCLUDE PROTECTED FEATURES\n",
    "# ----------------------\n",
    "# \"exclude_features\": \"none\", # \"nationality\", \"sex\", \"nationality-sex\"\n",
    "\n",
    "excluded_features = universe[\"exclude_features\"].split(\"-\") # split, e.g.: \"nationality-sex\" -> [\"nationality\", \"sex\"]\n",
    "excluded_features_dictionary = {\n",
    "    \"nationality\": [\"maxdeutsch1\", \"maxdeutsch.Missing.\"],\n",
    "    \"sex\": [\"frau1\"],\n",
    "    \"age\": [\"age\"],\n",
    "}\n"
   ]
  },
  {
   "cell_type": "code",
   "execution_count": 30,
   "id": "b745ac60",
   "metadata": {
    "execution": {
     "iopub.execute_input": "2025-07-30T21:40:32.608274Z",
     "iopub.status.busy": "2025-07-30T21:40:32.607833Z",
     "iopub.status.idle": "2025-07-30T21:40:32.614182Z",
     "shell.execute_reply": "2025-07-30T21:40:32.613210Z"
    },
    "papermill": {
     "duration": 0.034827,
     "end_time": "2025-07-30T21:40:32.617308",
     "exception": false,
     "start_time": "2025-07-30T21:40:32.582481",
     "status": "completed"
    },
    "tags": []
   },
   "outputs": [],
   "source": [
    "# Code nice names to column names\n",
    "\n",
    "excluded_features_columns = [\n",
    "    excluded_features_dictionary[f] for f in excluded_features if len(f) > 0 and f != \"none\"\n",
    "]"
   ]
  },
  {
   "cell_type": "code",
   "execution_count": 31,
   "id": "f84f73a2",
   "metadata": {
    "execution": {
     "iopub.execute_input": "2025-07-30T21:40:32.660329Z",
     "iopub.status.busy": "2025-07-30T21:40:32.659777Z",
     "iopub.status.idle": "2025-07-30T21:40:32.666231Z",
     "shell.execute_reply": "2025-07-30T21:40:32.665286Z"
    },
    "papermill": {
     "duration": 0.030474,
     "end_time": "2025-07-30T21:40:32.669814",
     "exception": false,
     "start_time": "2025-07-30T21:40:32.639340",
     "status": "completed"
    },
    "tags": []
   },
   "outputs": [],
   "source": [
    "from utils import flatten_once\n",
    "\n",
    "excluded_features_columns = flatten_once(excluded_features_columns)"
   ]
  },
  {
   "cell_type": "code",
   "execution_count": 32,
   "id": "884dea22",
   "metadata": {
    "execution": {
     "iopub.execute_input": "2025-07-30T21:40:32.711242Z",
     "iopub.status.busy": "2025-07-30T21:40:32.710783Z",
     "iopub.status.idle": "2025-07-30T21:40:32.721700Z",
     "shell.execute_reply": "2025-07-30T21:40:32.720830Z"
    },
    "papermill": {
     "duration": 0.034913,
     "end_time": "2025-07-30T21:40:32.724988",
     "exception": false,
     "start_time": "2025-07-30T21:40:32.690075",
     "status": "completed"
    },
    "tags": []
   },
   "outputs": [
    {
     "name": "stdout",
     "output_type": "stream",
     "text": [
      "Dropping features: ['frau1']\n"
     ]
    }
   ],
   "source": [
    "if len(excluded_features_columns) > 0:\n",
    "    print(f\"Dropping features: {excluded_features_columns}\")\n",
    "    X_train.drop(excluded_features_columns, axis=1, inplace=True)"
   ]
  },
  {
   "cell_type": "code",
   "execution_count": 33,
   "id": "95ab8b16",
   "metadata": {
    "execution": {
     "iopub.execute_input": "2025-07-30T21:40:32.807867Z",
     "iopub.status.busy": "2025-07-30T21:40:32.807369Z",
     "iopub.status.idle": "2025-07-30T21:40:32.868227Z",
     "shell.execute_reply": "2025-07-30T21:40:32.866318Z"
    },
    "papermill": {
     "duration": 0.107975,
     "end_time": "2025-07-30T21:40:32.870444",
     "exception": false,
     "start_time": "2025-07-30T21:40:32.762469",
     "status": "completed"
    },
    "tags": []
   },
   "outputs": [
    {
     "name": "stdout",
     "output_type": "stream",
     "text": [
      "Dropping features: ['frau1']\n"
     ]
    }
   ],
   "source": [
    "if len(excluded_features_columns) > 0:\n",
    "    print(f\"Dropping features: {excluded_features_columns}\")\n",
    "    X_test.drop(excluded_features_columns, axis=1, inplace=True)"
   ]
  },
  {
   "cell_type": "code",
   "execution_count": 34,
   "id": "1853aaf5-fb9f-46cb-a2b5-8ea4ae2237e4",
   "metadata": {
    "execution": {
     "iopub.execute_input": "2025-07-30T21:40:32.927011Z",
     "iopub.status.busy": "2025-07-30T21:40:32.926576Z",
     "iopub.status.idle": "2025-07-30T21:40:32.993358Z",
     "shell.execute_reply": "2025-07-30T21:40:32.992337Z"
    },
    "papermill": {
     "duration": 0.098613,
     "end_time": "2025-07-30T21:40:33.001503",
     "exception": false,
     "start_time": "2025-07-30T21:40:32.902890",
     "status": "completed"
    },
    "tags": []
   },
   "outputs": [
    {
     "name": "stdout",
     "output_type": "stream",
     "text": [
      "Dropping features: ['frau1']\n"
     ]
    }
   ],
   "source": [
    "if len(excluded_features_columns) > 0:\n",
    "    print(f\"Dropping features: {excluded_features_columns}\")\n",
    "    X_calib.drop(excluded_features_columns, axis=1, inplace=True)"
   ]
  },
  {
   "cell_type": "code",
   "execution_count": 35,
   "id": "6727d079-03e5-481e-9d38-292a90b7a0a8",
   "metadata": {
    "execution": {
     "iopub.execute_input": "2025-07-30T21:40:33.073770Z",
     "iopub.status.busy": "2025-07-30T21:40:33.073299Z",
     "iopub.status.idle": "2025-07-30T21:40:33.078300Z",
     "shell.execute_reply": "2025-07-30T21:40:33.077169Z"
    },
    "papermill": {
     "duration": 0.048578,
     "end_time": "2025-07-30T21:40:33.079985",
     "exception": false,
     "start_time": "2025-07-30T21:40:33.031407",
     "status": "completed"
    },
    "tags": []
   },
   "outputs": [],
   "source": [
    "# SPLIT & STRATIFY DATA\n",
    "# ----------------------"
   ]
  },
  {
   "cell_type": "code",
   "execution_count": 36,
   "id": "76c4dc6d",
   "metadata": {
    "execution": {
     "iopub.execute_input": "2025-07-30T21:40:33.239408Z",
     "iopub.status.busy": "2025-07-30T21:40:33.239000Z",
     "iopub.status.idle": "2025-07-30T21:40:33.245390Z",
     "shell.execute_reply": "2025-07-30T21:40:33.244207Z"
    },
    "papermill": {
     "duration": 0.137354,
     "end_time": "2025-07-30T21:40:33.247669",
     "exception": false,
     "start_time": "2025-07-30T21:40:33.110315",
     "status": "completed"
    },
    "tags": []
   },
   "outputs": [],
   "source": [
    "# EXCLUDE CERTAIN SUBGROUPS\n",
    "# ----------------------\n",
    "\n",
    "mode = universe.get(\"exclude_subgroups\", \"keep-all\") \n",
    "# Fetches the exclude_subgroups setting from the universe dict.\n",
    "# Defaults to \"keep-all\" if the key is missing."
   ]
  },
  {
   "cell_type": "code",
   "execution_count": 37,
   "id": "21994072",
   "metadata": {
    "execution": {
     "iopub.execute_input": "2025-07-30T21:40:33.316964Z",
     "iopub.status.busy": "2025-07-30T21:40:33.315713Z",
     "iopub.status.idle": "2025-07-30T21:40:33.325591Z",
     "shell.execute_reply": "2025-07-30T21:40:33.324285Z"
    },
    "papermill": {
     "duration": 0.047488,
     "end_time": "2025-07-30T21:40:33.328647",
     "exception": false,
     "start_time": "2025-07-30T21:40:33.281159",
     "status": "completed"
    },
    "tags": []
   },
   "outputs": [],
   "source": [
    "if mode == \"keep-all\":\n",
    "    keep_mask = pd.Series(True, index=org_train.index)\n",
    "\n",
    "# org_train contains the original feature columns from features_org (in Simson)\n",
    "# features_org contains unprocessed features, for me X_train at beginning ???\n",
    "# For keep-all, creates a boolean Series (keep_mask) of all True, so no rows are removed.\n",
    "\n",
    "elif mode == \"drop-non-german\":\n",
    "    keep_mask = org_train[\"maxdeutsch1\"] == 1 # ??? what about missing values?\n",
    "\n",
    "else:\n",
    "    raise ValueError(f\"Unsupported mode for exclude_subgroups: {mode}\")\n"
   ]
  },
  {
   "cell_type": "code",
   "execution_count": 38,
   "id": "71651440",
   "metadata": {
    "execution": {
     "iopub.execute_input": "2025-07-30T21:40:33.391952Z",
     "iopub.status.busy": "2025-07-30T21:40:33.391464Z",
     "iopub.status.idle": "2025-07-30T21:40:33.399997Z",
     "shell.execute_reply": "2025-07-30T21:40:33.398520Z"
    },
    "papermill": {
     "duration": 0.044177,
     "end_time": "2025-07-30T21:40:33.404233",
     "exception": false,
     "start_time": "2025-07-30T21:40:33.360056",
     "status": "completed"
    },
    "tags": []
   },
   "outputs": [],
   "source": [
    "n_drop = (~keep_mask).sum() # Calculates how many rows are set to be dropped\n",
    "if n_drop > 0:\n",
    "    pct = n_drop / len(keep_mask) * 100\n",
    "    print(f\"Dropping {n_drop} rows ({pct:.2f}%) where mode='{mode}'\")"
   ]
  },
  {
   "cell_type": "code",
   "execution_count": 39,
   "id": "5fb8eee5",
   "metadata": {
    "execution": {
     "iopub.execute_input": "2025-07-30T21:40:33.455852Z",
     "iopub.status.busy": "2025-07-30T21:40:33.455353Z",
     "iopub.status.idle": "2025-07-30T21:40:33.462951Z",
     "shell.execute_reply": "2025-07-30T21:40:33.461741Z"
    },
    "papermill": {
     "duration": 0.033471,
     "end_time": "2025-07-30T21:40:33.465356",
     "exception": false,
     "start_time": "2025-07-30T21:40:33.431885",
     "status": "completed"
    },
    "tags": []
   },
   "outputs": [],
   "source": [
    "X_train = X_train[keep_mask]"
   ]
  },
  {
   "cell_type": "code",
   "execution_count": 40,
   "id": "b202bb3a",
   "metadata": {
    "execution": {
     "iopub.execute_input": "2025-07-30T21:40:33.513154Z",
     "iopub.status.busy": "2025-07-30T21:40:33.512774Z",
     "iopub.status.idle": "2025-07-30T21:40:33.518921Z",
     "shell.execute_reply": "2025-07-30T21:40:33.517853Z"
    },
    "papermill": {
     "duration": 0.031507,
     "end_time": "2025-07-30T21:40:33.522716",
     "exception": false,
     "start_time": "2025-07-30T21:40:33.491209",
     "status": "completed"
    },
    "tags": []
   },
   "outputs": [],
   "source": [
    "y_train = y_train[keep_mask]"
   ]
  },
  {
   "cell_type": "markdown",
   "id": "493e2ac3",
   "metadata": {
    "papermill": {
     "duration": 0.042276,
     "end_time": "2025-07-30T21:40:33.605729",
     "exception": false,
     "start_time": "2025-07-30T21:40:33.563453",
     "status": "completed"
    },
    "tags": []
   },
   "source": [
    "# Model Training"
   ]
  },
  {
   "cell_type": "code",
   "execution_count": 41,
   "id": "679e1268",
   "metadata": {
    "execution": {
     "iopub.execute_input": "2025-07-30T21:40:33.661137Z",
     "iopub.status.busy": "2025-07-30T21:40:33.660761Z",
     "iopub.status.idle": "2025-07-30T21:40:33.969630Z",
     "shell.execute_reply": "2025-07-30T21:40:33.968634Z"
    },
    "papermill": {
     "duration": 0.342142,
     "end_time": "2025-07-30T21:40:33.971720",
     "exception": false,
     "start_time": "2025-07-30T21:40:33.629578",
     "status": "completed"
    },
    "tags": []
   },
   "outputs": [],
   "source": [
    "from sklearn.linear_model import LogisticRegression\n",
    "from sklearn.ensemble import GradientBoostingClassifier, RandomForestClassifier\n",
    "\n",
    "if (universe[\"model\"] == \"logreg\"):\n",
    "    model = LogisticRegression() #penalty=\"none\") #, solver=\"newton-cg\", max_iter=1) # include random_state=19 ?\n",
    "elif (universe[\"model\"] == \"penalized_logreg\"):\n",
    "    model = LogisticRegression(penalty=\"l2\", C=1.0) #, solver=\"newton-cg\", max_iter=1)\n",
    "elif (universe[\"model\"] == \"rf\"):\n",
    "    model = RandomForestClassifier(n_estimators=100, n_jobs=-1)\n",
    "elif (universe[\"model\"] == \"gbm\"):\n",
    "    model = GradientBoostingClassifier()\n",
    "elif (universe[\"model\"] == \"elasticnet\"):\n",
    "    model = LogisticRegression(penalty = 'elasticnet', solver = 'saga', l1_ratio = 0.5, max_iter=5000) # which solver to use?\n",
    "else:\n",
    "    raise \"Unsupported universe.model\""
   ]
  },
  {
   "cell_type": "code",
   "execution_count": 42,
   "id": "0cc8f744",
   "metadata": {
    "execution": {
     "iopub.execute_input": "2025-07-30T21:40:34.067772Z",
     "iopub.status.busy": "2025-07-30T21:40:34.067098Z",
     "iopub.status.idle": "2025-07-30T21:40:34.077656Z",
     "shell.execute_reply": "2025-07-30T21:40:34.076422Z"
    },
    "papermill": {
     "duration": 0.044339,
     "end_time": "2025-07-30T21:40:34.080055",
     "exception": false,
     "start_time": "2025-07-30T21:40:34.035716",
     "status": "completed"
    },
    "tags": []
   },
   "outputs": [],
   "source": [
    "import numpy as np\n",
    "from sklearn.pipeline import Pipeline\n",
    "from sklearn.preprocessing import StandardScaler\n",
    "\n",
    "model = Pipeline([\n",
    "    #(\"continuous_processor\", continuous_processor),\n",
    "    #(\"categorical_preprocessor\", categorical_preprocessor),\n",
    "    (\"scale\", StandardScaler() if universe[\"scale\"] == \"scale\" else None), \n",
    "    (\"model\", model),\n",
    "])"
   ]
  },
  {
   "cell_type": "code",
   "execution_count": 43,
   "id": "9442c04d",
   "metadata": {
    "execution": {
     "iopub.execute_input": "2025-07-30T21:40:34.150283Z",
     "iopub.status.busy": "2025-07-30T21:40:34.149782Z",
     "iopub.status.idle": "2025-07-30T21:40:34.655046Z",
     "shell.execute_reply": "2025-07-30T21:40:34.654173Z"
    },
    "papermill": {
     "duration": 0.542515,
     "end_time": "2025-07-30T21:40:34.656560",
     "exception": false,
     "start_time": "2025-07-30T21:40:34.114045",
     "status": "completed"
    },
    "tags": []
   },
   "outputs": [
    {
     "data": {
      "text/html": [
       "<style>#sk-container-id-1 {color: black;background-color: white;}#sk-container-id-1 pre{padding: 0;}#sk-container-id-1 div.sk-toggleable {background-color: white;}#sk-container-id-1 label.sk-toggleable__label {cursor: pointer;display: block;width: 100%;margin-bottom: 0;padding: 0.3em;box-sizing: border-box;text-align: center;}#sk-container-id-1 label.sk-toggleable__label-arrow:before {content: \"▸\";float: left;margin-right: 0.25em;color: #696969;}#sk-container-id-1 label.sk-toggleable__label-arrow:hover:before {color: black;}#sk-container-id-1 div.sk-estimator:hover label.sk-toggleable__label-arrow:before {color: black;}#sk-container-id-1 div.sk-toggleable__content {max-height: 0;max-width: 0;overflow: hidden;text-align: left;background-color: #f0f8ff;}#sk-container-id-1 div.sk-toggleable__content pre {margin: 0.2em;color: black;border-radius: 0.25em;background-color: #f0f8ff;}#sk-container-id-1 input.sk-toggleable__control:checked~div.sk-toggleable__content {max-height: 200px;max-width: 100%;overflow: auto;}#sk-container-id-1 input.sk-toggleable__control:checked~label.sk-toggleable__label-arrow:before {content: \"▾\";}#sk-container-id-1 div.sk-estimator input.sk-toggleable__control:checked~label.sk-toggleable__label {background-color: #d4ebff;}#sk-container-id-1 div.sk-label input.sk-toggleable__control:checked~label.sk-toggleable__label {background-color: #d4ebff;}#sk-container-id-1 input.sk-hidden--visually {border: 0;clip: rect(1px 1px 1px 1px);clip: rect(1px, 1px, 1px, 1px);height: 1px;margin: -1px;overflow: hidden;padding: 0;position: absolute;width: 1px;}#sk-container-id-1 div.sk-estimator {font-family: monospace;background-color: #f0f8ff;border: 1px dotted black;border-radius: 0.25em;box-sizing: border-box;margin-bottom: 0.5em;}#sk-container-id-1 div.sk-estimator:hover {background-color: #d4ebff;}#sk-container-id-1 div.sk-parallel-item::after {content: \"\";width: 100%;border-bottom: 1px solid gray;flex-grow: 1;}#sk-container-id-1 div.sk-label:hover label.sk-toggleable__label {background-color: #d4ebff;}#sk-container-id-1 div.sk-serial::before {content: \"\";position: absolute;border-left: 1px solid gray;box-sizing: border-box;top: 0;bottom: 0;left: 50%;z-index: 0;}#sk-container-id-1 div.sk-serial {display: flex;flex-direction: column;align-items: center;background-color: white;padding-right: 0.2em;padding-left: 0.2em;position: relative;}#sk-container-id-1 div.sk-item {position: relative;z-index: 1;}#sk-container-id-1 div.sk-parallel {display: flex;align-items: stretch;justify-content: center;background-color: white;position: relative;}#sk-container-id-1 div.sk-item::before, #sk-container-id-1 div.sk-parallel-item::before {content: \"\";position: absolute;border-left: 1px solid gray;box-sizing: border-box;top: 0;bottom: 0;left: 50%;z-index: -1;}#sk-container-id-1 div.sk-parallel-item {display: flex;flex-direction: column;z-index: 1;position: relative;background-color: white;}#sk-container-id-1 div.sk-parallel-item:first-child::after {align-self: flex-end;width: 50%;}#sk-container-id-1 div.sk-parallel-item:last-child::after {align-self: flex-start;width: 50%;}#sk-container-id-1 div.sk-parallel-item:only-child::after {width: 0;}#sk-container-id-1 div.sk-dashed-wrapped {border: 1px dashed gray;margin: 0 0.4em 0.5em 0.4em;box-sizing: border-box;padding-bottom: 0.4em;background-color: white;}#sk-container-id-1 div.sk-label label {font-family: monospace;font-weight: bold;display: inline-block;line-height: 1.2em;}#sk-container-id-1 div.sk-label-container {text-align: center;}#sk-container-id-1 div.sk-container {/* jupyter's `normalize.less` sets `[hidden] { display: none; }` but bootstrap.min.css set `[hidden] { display: none !important; }` so we also need the `!important` here to be able to override the default hidden behavior on the sphinx rendered scikit-learn.org. See: https://github.com/scikit-learn/scikit-learn/issues/21755 */display: inline-block !important;position: relative;}#sk-container-id-1 div.sk-text-repr-fallback {display: none;}</style><div id=\"sk-container-id-1\" class=\"sk-top-container\"><div class=\"sk-text-repr-fallback\"><pre>Pipeline(steps=[(&#x27;scale&#x27;, None), (&#x27;model&#x27;, RandomForestClassifier(n_jobs=-1))])</pre><b>In a Jupyter environment, please rerun this cell to show the HTML representation or trust the notebook. <br />On GitHub, the HTML representation is unable to render, please try loading this page with nbviewer.org.</b></div><div class=\"sk-container\" hidden><div class=\"sk-item sk-dashed-wrapped\"><div class=\"sk-label-container\"><div class=\"sk-label sk-toggleable\"><input class=\"sk-toggleable__control sk-hidden--visually\" id=\"sk-estimator-id-1\" type=\"checkbox\" ><label for=\"sk-estimator-id-1\" class=\"sk-toggleable__label sk-toggleable__label-arrow\">Pipeline</label><div class=\"sk-toggleable__content\"><pre>Pipeline(steps=[(&#x27;scale&#x27;, None), (&#x27;model&#x27;, RandomForestClassifier(n_jobs=-1))])</pre></div></div></div><div class=\"sk-serial\"><div class=\"sk-item\"><div class=\"sk-estimator sk-toggleable\"><input class=\"sk-toggleable__control sk-hidden--visually\" id=\"sk-estimator-id-2\" type=\"checkbox\" ><label for=\"sk-estimator-id-2\" class=\"sk-toggleable__label sk-toggleable__label-arrow\">None</label><div class=\"sk-toggleable__content\"><pre>None</pre></div></div></div><div class=\"sk-item\"><div class=\"sk-estimator sk-toggleable\"><input class=\"sk-toggleable__control sk-hidden--visually\" id=\"sk-estimator-id-3\" type=\"checkbox\" ><label for=\"sk-estimator-id-3\" class=\"sk-toggleable__label sk-toggleable__label-arrow\">RandomForestClassifier</label><div class=\"sk-toggleable__content\"><pre>RandomForestClassifier(n_jobs=-1)</pre></div></div></div></div></div></div></div>"
      ],
      "text/plain": [
       "Pipeline(steps=[('scale', None), ('model', RandomForestClassifier(n_jobs=-1))])"
      ]
     },
     "execution_count": 43,
     "metadata": {},
     "output_type": "execute_result"
    }
   ],
   "source": [
    "model.fit(X_train, y_train.values.ravel())"
   ]
  },
  {
   "cell_type": "code",
   "execution_count": 44,
   "id": "af59f8c0",
   "metadata": {
    "execution": {
     "iopub.execute_input": "2025-07-30T21:40:34.818732Z",
     "iopub.status.busy": "2025-07-30T21:40:34.818284Z",
     "iopub.status.idle": "2025-07-30T21:40:34.824295Z",
     "shell.execute_reply": "2025-07-30T21:40:34.823222Z"
    },
    "papermill": {
     "duration": 0.095663,
     "end_time": "2025-07-30T21:40:34.826890",
     "exception": false,
     "start_time": "2025-07-30T21:40:34.731227",
     "status": "completed"
    },
    "tags": []
   },
   "outputs": [],
   "source": [
    "from fairness_multiverse.universe import predict_w_threshold"
   ]
  },
  {
   "cell_type": "code",
   "execution_count": 45,
   "id": "a7cf2e16",
   "metadata": {
    "execution": {
     "iopub.execute_input": "2025-07-30T21:40:34.954374Z",
     "iopub.status.busy": "2025-07-30T21:40:34.953981Z",
     "iopub.status.idle": "2025-07-30T21:40:35.838834Z",
     "shell.execute_reply": "2025-07-30T21:40:35.837806Z"
    },
    "papermill": {
     "duration": 0.933263,
     "end_time": "2025-07-30T21:40:35.841050",
     "exception": false,
     "start_time": "2025-07-30T21:40:34.907787",
     "status": "completed"
    },
    "tags": []
   },
   "outputs": [
    {
     "data": {
      "text/plain": [
       "0.8626574517890983"
      ]
     },
     "execution_count": 45,
     "metadata": {},
     "output_type": "execute_result"
    }
   ],
   "source": [
    "probs_test = model.predict_proba(X_test)\n",
    "\n",
    "'''\n",
    "Below code returns a boolean array (or binary 0/1 array depending on how it’s used) where each element \n",
    "is True if the probability of class 1 is greater than or equal to the threshold, and False otherwise.\n",
    "'''\n",
    "y_pred_default = predict_w_threshold(probs_test, 0.5)\n",
    "\n",
    "from sklearn.metrics import accuracy_score\n",
    "\n",
    "# Naive prediction\n",
    "accuracy_score(y_true = y_true, y_pred = y_pred_default)"
   ]
  },
  {
   "cell_type": "code",
   "execution_count": 46,
   "id": "081964c3",
   "metadata": {
    "execution": {
     "iopub.execute_input": "2025-07-30T21:40:35.903986Z",
     "iopub.status.busy": "2025-07-30T21:40:35.903605Z",
     "iopub.status.idle": "2025-07-30T21:40:36.842590Z",
     "shell.execute_reply": "2025-07-30T21:40:36.841577Z"
    },
    "papermill": {
     "duration": 0.976922,
     "end_time": "2025-07-30T21:40:36.844530",
     "exception": false,
     "start_time": "2025-07-30T21:40:35.867608",
     "status": "completed"
    },
    "tags": []
   },
   "outputs": [
    {
     "data": {
      "text/plain": [
       "array([0, 0, 0, ..., 0, 0, 0])"
      ]
     },
     "execution_count": 46,
     "metadata": {},
     "output_type": "execute_result"
    }
   ],
   "source": [
    "model.predict(X_test)"
   ]
  },
  {
   "cell_type": "markdown",
   "id": "56c9705b",
   "metadata": {
    "papermill": {
     "duration": 0.037635,
     "end_time": "2025-07-30T21:40:36.918998",
     "exception": false,
     "start_time": "2025-07-30T21:40:36.881363",
     "status": "completed"
    },
    "tags": []
   },
   "source": [
    "# Conformal Prediction"
   ]
  },
  {
   "cell_type": "code",
   "execution_count": 47,
   "id": "160ec6ff",
   "metadata": {
    "execution": {
     "iopub.execute_input": "2025-07-30T21:40:36.970145Z",
     "iopub.status.busy": "2025-07-30T21:40:36.969635Z",
     "iopub.status.idle": "2025-07-30T21:40:36.976492Z",
     "shell.execute_reply": "2025-07-30T21:40:36.975312Z"
    },
    "papermill": {
     "duration": 0.033359,
     "end_time": "2025-07-30T21:40:36.978260",
     "exception": false,
     "start_time": "2025-07-30T21:40:36.944901",
     "status": "completed"
    },
    "tags": []
   },
   "outputs": [],
   "source": [
    "# Miscoverage level for conformal prediction (10% allowed error rate => 90% target coverage)\n",
    "alpha = 0.1"
   ]
  },
  {
   "cell_type": "code",
   "execution_count": 48,
   "id": "eadf4555-3dd3-440e-8e35-f82a4ad9f855",
   "metadata": {
    "execution": {
     "iopub.execute_input": "2025-07-30T21:40:37.060184Z",
     "iopub.status.busy": "2025-07-30T21:40:37.059773Z",
     "iopub.status.idle": "2025-07-30T21:40:37.905274Z",
     "shell.execute_reply": "2025-07-30T21:40:37.902642Z"
    },
    "papermill": {
     "duration": 0.892527,
     "end_time": "2025-07-30T21:40:37.907638",
     "exception": false,
     "start_time": "2025-07-30T21:40:37.015111",
     "status": "completed"
    },
    "tags": []
   },
   "outputs": [],
   "source": [
    "probs_calib = model.predict_proba(X_calib)"
   ]
  },
  {
   "cell_type": "code",
   "execution_count": 49,
   "id": "2ed93547-6d5d-4983-9b36-1ecb300da49a",
   "metadata": {
    "execution": {
     "iopub.execute_input": "2025-07-30T21:40:37.954928Z",
     "iopub.status.busy": "2025-07-30T21:40:37.954542Z",
     "iopub.status.idle": "2025-07-30T21:40:37.960478Z",
     "shell.execute_reply": "2025-07-30T21:40:37.959324Z"
    },
    "papermill": {
     "duration": 0.031964,
     "end_time": "2025-07-30T21:40:37.963343",
     "exception": false,
     "start_time": "2025-07-30T21:40:37.931379",
     "status": "completed"
    },
    "tags": []
   },
   "outputs": [],
   "source": [
    "y_calib = y_calib.values.ravel().astype(int)"
   ]
  },
  {
   "cell_type": "code",
   "execution_count": 50,
   "id": "65d1320d-f588-4b38-9072-62af1ae97f7d",
   "metadata": {
    "execution": {
     "iopub.execute_input": "2025-07-30T21:40:38.013009Z",
     "iopub.status.busy": "2025-07-30T21:40:38.012490Z",
     "iopub.status.idle": "2025-07-30T21:40:38.019996Z",
     "shell.execute_reply": "2025-07-30T21:40:38.019177Z"
    },
    "papermill": {
     "duration": 0.03527,
     "end_time": "2025-07-30T21:40:38.022778",
     "exception": false,
     "start_time": "2025-07-30T21:40:37.987508",
     "status": "completed"
    },
    "tags": []
   },
   "outputs": [],
   "source": [
    "from fairness_multiverse.conformal import compute_nc_scores\n",
    "\n",
    "# Compute nonconformity scores on calibration set (1 - probability of true class)\n",
    "nc_scores = compute_nc_scores(probs_calib, y_calib)"
   ]
  },
  {
   "cell_type": "code",
   "execution_count": 51,
   "id": "df3b8ca3-53b7-43d5-9667-7c85da7aeda2",
   "metadata": {
    "execution": {
     "iopub.execute_input": "2025-07-30T21:40:38.072123Z",
     "iopub.status.busy": "2025-07-30T21:40:38.071603Z",
     "iopub.status.idle": "2025-07-30T21:40:38.078605Z",
     "shell.execute_reply": "2025-07-30T21:40:38.077672Z"
    },
    "papermill": {
     "duration": 0.034915,
     "end_time": "2025-07-30T21:40:38.082106",
     "exception": false,
     "start_time": "2025-07-30T21:40:38.047191",
     "status": "completed"
    },
    "tags": []
   },
   "outputs": [],
   "source": [
    "from fairness_multiverse.conformal import find_threshold\n",
    "\n",
    "# Find conformal threshold q_hat for the given alpha (split conformal method)\n",
    "q_hat = find_threshold(nc_scores, alpha)"
   ]
  },
  {
   "cell_type": "code",
   "execution_count": 52,
   "id": "4d29e6c1-0ef6-4aa4-b8fe-4fe79b0d033a",
   "metadata": {
    "execution": {
     "iopub.execute_input": "2025-07-30T21:40:38.130136Z",
     "iopub.status.busy": "2025-07-30T21:40:38.129748Z",
     "iopub.status.idle": "2025-07-30T21:40:38.136606Z",
     "shell.execute_reply": "2025-07-30T21:40:38.135689Z"
    },
    "papermill": {
     "duration": 0.035063,
     "end_time": "2025-07-30T21:40:38.141166",
     "exception": false,
     "start_time": "2025-07-30T21:40:38.106103",
     "status": "completed"
    },
    "tags": []
   },
   "outputs": [
    {
     "data": {
      "text/plain": [
       "0.6699999999999999"
      ]
     },
     "execution_count": 52,
     "metadata": {},
     "output_type": "execute_result"
    }
   ],
   "source": [
    "q_hat"
   ]
  },
  {
   "cell_type": "code",
   "execution_count": 53,
   "id": "92460794-cdac-4be2-ba28-f28c0515a6fb",
   "metadata": {
    "execution": {
     "iopub.execute_input": "2025-07-30T21:40:38.191295Z",
     "iopub.status.busy": "2025-07-30T21:40:38.190831Z",
     "iopub.status.idle": "2025-07-30T21:40:39.730895Z",
     "shell.execute_reply": "2025-07-30T21:40:39.729922Z"
    },
    "papermill": {
     "duration": 1.566249,
     "end_time": "2025-07-30T21:40:39.733083",
     "exception": false,
     "start_time": "2025-07-30T21:40:38.166834",
     "status": "completed"
    },
    "tags": []
   },
   "outputs": [],
   "source": [
    "from fairness_multiverse.conformal import predict_conformal_sets\n",
    "\n",
    "# Generate prediction sets for each test example\n",
    "pred_sets = predict_conformal_sets(model, X_test, q_hat)"
   ]
  },
  {
   "cell_type": "code",
   "execution_count": 54,
   "id": "d90c9a65-e6db-4f5d-80cd-e68fb7e46829",
   "metadata": {
    "execution": {
     "iopub.execute_input": "2025-07-30T21:40:39.786536Z",
     "iopub.status.busy": "2025-07-30T21:40:39.785691Z",
     "iopub.status.idle": "2025-07-30T21:40:39.792472Z",
     "shell.execute_reply": "2025-07-30T21:40:39.791440Z"
    },
    "papermill": {
     "duration": 0.031445,
     "end_time": "2025-07-30T21:40:39.793803",
     "exception": false,
     "start_time": "2025-07-30T21:40:39.762358",
     "status": "completed"
    },
    "tags": []
   },
   "outputs": [],
   "source": [
    "y_true = y_true.squeeze()"
   ]
  },
  {
   "cell_type": "code",
   "execution_count": 55,
   "id": "3a58a54a-1e68-46b9-927a-df01f18aebc8",
   "metadata": {
    "execution": {
     "iopub.execute_input": "2025-07-30T21:40:39.857216Z",
     "iopub.status.busy": "2025-07-30T21:40:39.856823Z",
     "iopub.status.idle": "2025-07-30T21:40:41.013055Z",
     "shell.execute_reply": "2025-07-30T21:40:41.011976Z"
    },
    "papermill": {
     "duration": 1.197665,
     "end_time": "2025-07-30T21:40:41.014940",
     "exception": false,
     "start_time": "2025-07-30T21:40:39.817275",
     "status": "completed"
    },
    "tags": []
   },
   "outputs": [],
   "source": [
    "from fairness_multiverse.conformal import evaluate_sets\n",
    "\n",
    "# Evaluate coverage and average set size on test data\n",
    "metrics = evaluate_sets(pred_sets, y_true)"
   ]
  },
  {
   "cell_type": "markdown",
   "id": "2b569c12-9aaa-4c88-98c9-bbcd0cf3ebb8",
   "metadata": {
    "papermill": {
     "duration": 0.028489,
     "end_time": "2025-07-30T21:40:41.116841",
     "exception": false,
     "start_time": "2025-07-30T21:40:41.088352",
     "status": "completed"
    },
    "tags": []
   },
   "source": [
    "# CP Metrics"
   ]
  },
  {
   "cell_type": "code",
   "execution_count": 56,
   "id": "5ce0a5cb-201f-45a0-ade5-94c7f0bd6095",
   "metadata": {
    "execution": {
     "iopub.execute_input": "2025-07-30T21:40:41.168662Z",
     "iopub.status.busy": "2025-07-30T21:40:41.168212Z",
     "iopub.status.idle": "2025-07-30T21:40:41.175991Z",
     "shell.execute_reply": "2025-07-30T21:40:41.175001Z"
    },
    "papermill": {
     "duration": 0.037435,
     "end_time": "2025-07-30T21:40:41.181207",
     "exception": false,
     "start_time": "2025-07-30T21:40:41.143772",
     "status": "completed"
    },
    "tags": []
   },
   "outputs": [
    {
     "data": {
      "text/plain": [
       "{'coverage': 0.9160517222160294, 'avg_size': 1.1548545312674172}"
      ]
     },
     "execution_count": 56,
     "metadata": {},
     "output_type": "execute_result"
    }
   ],
   "source": [
    "metrics"
   ]
  },
  {
   "cell_type": "code",
   "execution_count": 57,
   "id": "9b9a838d-31c9-430b-ae14-12baee460d17",
   "metadata": {
    "execution": {
     "iopub.execute_input": "2025-07-30T21:40:41.229566Z",
     "iopub.status.busy": "2025-07-30T21:40:41.229023Z",
     "iopub.status.idle": "2025-07-30T21:40:41.235609Z",
     "shell.execute_reply": "2025-07-30T21:40:41.234614Z"
    },
    "papermill": {
     "duration": 0.032211,
     "end_time": "2025-07-30T21:40:41.237457",
     "exception": false,
     "start_time": "2025-07-30T21:40:41.205246",
     "status": "completed"
    },
    "tags": []
   },
   "outputs": [],
   "source": [
    "example_universe = universe.copy()\n",
    "universe_training_year = example_universe.get(\"training_year\")\n",
    "universe_training_size = example_universe.get(\"training_size\")\n",
    "universe_scale = example_universe.get(\"scale\")\n",
    "universe_model = example_universe.get(\"model\")\n",
    "universe_exclude_features = example_universe.get(\"exclude_features\")\n",
    "universe_exclude_subgroups = example_universe.get(\"exclude_subgroups\")"
   ]
  },
  {
   "cell_type": "code",
   "execution_count": 58,
   "id": "f4b6a8ac-9dc0-4245-8a91-5b3b5999c4f9",
   "metadata": {
    "execution": {
     "iopub.execute_input": "2025-07-30T21:40:41.284345Z",
     "iopub.status.busy": "2025-07-30T21:40:41.283618Z",
     "iopub.status.idle": "2025-07-30T21:40:41.289864Z",
     "shell.execute_reply": "2025-07-30T21:40:41.289042Z"
    },
    "papermill": {
     "duration": 0.030617,
     "end_time": "2025-07-30T21:40:41.291277",
     "exception": false,
     "start_time": "2025-07-30T21:40:41.260660",
     "status": "completed"
    },
    "tags": []
   },
   "outputs": [],
   "source": [
    "cp_metrics_dict = {\n",
    "    \"universe_id\": [universe_id],\n",
    "    \"universe_training_year\": [universe_training_year],\n",
    "    \"universe_training_size\": [universe_training_size],\n",
    "    \"universe_scale\": [universe_scale],\n",
    "    \"universe_model\": [universe_model],\n",
    "    \"universe_exclude_features\": [universe_exclude_features],\n",
    "    \"universe_exclude_subgroups\": [universe_exclude_subgroups],\n",
    "    \"q_hat\": [q_hat],\n",
    "    \"coverage\": [metrics[\"coverage\"]],\n",
    "    \"avg_size\": [metrics[\"avg_size\"]],\n",
    "}"
   ]
  },
  {
   "cell_type": "code",
   "execution_count": 59,
   "id": "908acbb1-0371-4915-85ca-3fa520d2efe2",
   "metadata": {
    "execution": {
     "iopub.execute_input": "2025-07-30T21:40:41.340980Z",
     "iopub.status.busy": "2025-07-30T21:40:41.340497Z",
     "iopub.status.idle": "2025-07-30T21:40:41.347412Z",
     "shell.execute_reply": "2025-07-30T21:40:41.346592Z"
    },
    "papermill": {
     "duration": 0.034028,
     "end_time": "2025-07-30T21:40:41.348894",
     "exception": false,
     "start_time": "2025-07-30T21:40:41.314866",
     "status": "completed"
    },
    "tags": []
   },
   "outputs": [
    {
     "data": {
      "text/plain": [
       "{'universe_id': ['2480c9dd98e8034b51b86167e819a23e'],\n",
       " 'universe_training_year': ['2012_14'],\n",
       " 'universe_training_size': ['1k'],\n",
       " 'universe_scale': ['do-not-scale'],\n",
       " 'universe_model': ['rf'],\n",
       " 'universe_exclude_features': ['sex'],\n",
       " 'universe_exclude_subgroups': ['keep-all'],\n",
       " 'q_hat': [0.6699999999999999],\n",
       " 'coverage': [0.9160517222160294],\n",
       " 'avg_size': [1.1548545312674172]}"
      ]
     },
     "execution_count": 59,
     "metadata": {},
     "output_type": "execute_result"
    }
   ],
   "source": [
    "cp_metrics_dict"
   ]
  },
  {
   "cell_type": "code",
   "execution_count": 60,
   "id": "33007efc-14e9-4ec6-97ac-56a455c82265",
   "metadata": {
    "execution": {
     "iopub.execute_input": "2025-07-30T21:40:41.401467Z",
     "iopub.status.busy": "2025-07-30T21:40:41.400933Z",
     "iopub.status.idle": "2025-07-30T21:40:41.407763Z",
     "shell.execute_reply": "2025-07-30T21:40:41.406868Z"
    },
    "papermill": {
     "duration": 0.035937,
     "end_time": "2025-07-30T21:40:41.409476",
     "exception": false,
     "start_time": "2025-07-30T21:40:41.373539",
     "status": "completed"
    },
    "tags": []
   },
   "outputs": [],
   "source": [
    "cp_metrics_df = pd.DataFrame(cp_metrics_dict)"
   ]
  },
  {
   "cell_type": "code",
   "execution_count": 61,
   "id": "db12611b-57b2-4910-b9d0-355adfd6e7bf",
   "metadata": {
    "execution": {
     "iopub.execute_input": "2025-07-30T21:40:41.462657Z",
     "iopub.status.busy": "2025-07-30T21:40:41.461814Z",
     "iopub.status.idle": "2025-07-30T21:40:41.481447Z",
     "shell.execute_reply": "2025-07-30T21:40:41.480249Z"
    },
    "papermill": {
     "duration": 0.049009,
     "end_time": "2025-07-30T21:40:41.483330",
     "exception": false,
     "start_time": "2025-07-30T21:40:41.434321",
     "status": "completed"
    },
    "tags": []
   },
   "outputs": [
    {
     "data": {
      "text/html": [
       "<div>\n",
       "<style scoped>\n",
       "    .dataframe tbody tr th:only-of-type {\n",
       "        vertical-align: middle;\n",
       "    }\n",
       "\n",
       "    .dataframe tbody tr th {\n",
       "        vertical-align: top;\n",
       "    }\n",
       "\n",
       "    .dataframe thead th {\n",
       "        text-align: right;\n",
       "    }\n",
       "</style>\n",
       "<table border=\"1\" class=\"dataframe\">\n",
       "  <thead>\n",
       "    <tr style=\"text-align: right;\">\n",
       "      <th></th>\n",
       "      <th>universe_id</th>\n",
       "      <th>universe_training_year</th>\n",
       "      <th>universe_training_size</th>\n",
       "      <th>universe_scale</th>\n",
       "      <th>universe_model</th>\n",
       "      <th>universe_exclude_features</th>\n",
       "      <th>universe_exclude_subgroups</th>\n",
       "      <th>q_hat</th>\n",
       "      <th>coverage</th>\n",
       "      <th>avg_size</th>\n",
       "    </tr>\n",
       "  </thead>\n",
       "  <tbody>\n",
       "    <tr>\n",
       "      <th>0</th>\n",
       "      <td>2480c9dd98e8034b51b86167e819a23e</td>\n",
       "      <td>2012_14</td>\n",
       "      <td>1k</td>\n",
       "      <td>do-not-scale</td>\n",
       "      <td>rf</td>\n",
       "      <td>sex</td>\n",
       "      <td>keep-all</td>\n",
       "      <td>0.67</td>\n",
       "      <td>0.916052</td>\n",
       "      <td>1.154855</td>\n",
       "    </tr>\n",
       "  </tbody>\n",
       "</table>\n",
       "</div>"
      ],
      "text/plain": [
       "                        universe_id universe_training_year  \\\n",
       "0  2480c9dd98e8034b51b86167e819a23e                2012_14   \n",
       "\n",
       "  universe_training_size universe_scale universe_model  \\\n",
       "0                     1k   do-not-scale             rf   \n",
       "\n",
       "  universe_exclude_features universe_exclude_subgroups  q_hat  coverage  \\\n",
       "0                       sex                   keep-all   0.67  0.916052   \n",
       "\n",
       "   avg_size  \n",
       "0  1.154855  "
      ]
     },
     "execution_count": 61,
     "metadata": {},
     "output_type": "execute_result"
    }
   ],
   "source": [
    "cp_metrics_df"
   ]
  },
  {
   "cell_type": "code",
   "execution_count": 62,
   "id": "b7fbde55-a0a1-47e4-9af6-fe4a17fa8c61",
   "metadata": {
    "execution": {
     "iopub.execute_input": "2025-07-30T21:40:41.537119Z",
     "iopub.status.busy": "2025-07-30T21:40:41.536665Z",
     "iopub.status.idle": "2025-07-30T21:40:41.542353Z",
     "shell.execute_reply": "2025-07-30T21:40:41.541279Z"
    },
    "papermill": {
     "duration": 0.037736,
     "end_time": "2025-07-30T21:40:41.545294",
     "exception": false,
     "start_time": "2025-07-30T21:40:41.507558",
     "status": "completed"
    },
    "tags": []
   },
   "outputs": [],
   "source": [
    "# Conditional Coverage & looking at subgroups"
   ]
  },
  {
   "cell_type": "code",
   "execution_count": 63,
   "id": "027ae886-68dd-4141-96c7-805a5450e1ef",
   "metadata": {
    "execution": {
     "iopub.execute_input": "2025-07-30T21:40:41.602831Z",
     "iopub.status.busy": "2025-07-30T21:40:41.602408Z",
     "iopub.status.idle": "2025-07-30T21:40:41.896693Z",
     "shell.execute_reply": "2025-07-30T21:40:41.895747Z"
    },
    "papermill": {
     "duration": 0.325507,
     "end_time": "2025-07-30T21:40:41.898509",
     "exception": false,
     "start_time": "2025-07-30T21:40:41.573002",
     "status": "completed"
    },
    "tags": []
   },
   "outputs": [],
   "source": [
    "from fairness_multiverse.conformal import build_cp_groups\n",
    "\n",
    "cp_groups_df = build_cp_groups(pred_sets, y_true, X_test.index, org_test)\n",
    "#needs universe_id and setting"
   ]
  },
  {
   "cell_type": "code",
   "execution_count": 64,
   "id": "01d5802c-663a-4d1f-9d69-e036faaffbf7",
   "metadata": {
    "execution": {
     "iopub.execute_input": "2025-07-30T21:40:41.948659Z",
     "iopub.status.busy": "2025-07-30T21:40:41.948210Z",
     "iopub.status.idle": "2025-07-30T21:40:41.953082Z",
     "shell.execute_reply": "2025-07-30T21:40:41.952090Z"
    },
    "papermill": {
     "duration": 0.032617,
     "end_time": "2025-07-30T21:40:41.955442",
     "exception": false,
     "start_time": "2025-07-30T21:40:41.922825",
     "status": "completed"
    },
    "tags": []
   },
   "outputs": [],
   "source": [
    "#delete\n",
    "#cp_groups_df"
   ]
  },
  {
   "cell_type": "code",
   "execution_count": 65,
   "id": "fa424af1-d1eb-443d-b717-2d279ada8408",
   "metadata": {
    "execution": {
     "iopub.execute_input": "2025-07-30T21:40:42.013348Z",
     "iopub.status.busy": "2025-07-30T21:40:42.012257Z",
     "iopub.status.idle": "2025-07-30T21:40:42.017618Z",
     "shell.execute_reply": "2025-07-30T21:40:42.016715Z"
    },
    "papermill": {
     "duration": 0.038586,
     "end_time": "2025-07-30T21:40:42.019685",
     "exception": false,
     "start_time": "2025-07-30T21:40:41.981099",
     "status": "completed"
    },
    "tags": []
   },
   "outputs": [],
   "source": [
    "#delete\n",
    "#percentage = (cp_groups_df['nongerman_female'] == 1).mean() * 100\n",
    "#print(percentage)\n"
   ]
  },
  {
   "cell_type": "code",
   "execution_count": 66,
   "id": "6cbdab96-b2b2-45af-ad54-d0516db2e28d",
   "metadata": {
    "execution": {
     "iopub.execute_input": "2025-07-30T21:40:42.072356Z",
     "iopub.status.busy": "2025-07-30T21:40:42.071877Z",
     "iopub.status.idle": "2025-07-30T21:40:43.719163Z",
     "shell.execute_reply": "2025-07-30T21:40:43.718124Z"
    },
    "papermill": {
     "duration": 1.675442,
     "end_time": "2025-07-30T21:40:43.721068",
     "exception": false,
     "start_time": "2025-07-30T21:40:42.045626",
     "status": "completed"
    },
    "tags": []
   },
   "outputs": [],
   "source": [
    "# Define covered = 1 if true_label is in the predicted set\n",
    "cp_groups_df['covered'] = cp_groups_df.apply(\n",
    "    lambda r: int(r['true_label'] in r['pred_set']),\n",
    "    axis=1\n",
    ")"
   ]
  },
  {
   "cell_type": "code",
   "execution_count": 67,
   "id": "338ff529-1a6b-4b87-a931-8e4788d52aad",
   "metadata": {
    "execution": {
     "iopub.execute_input": "2025-07-30T21:40:43.779612Z",
     "iopub.status.busy": "2025-07-30T21:40:43.779209Z",
     "iopub.status.idle": "2025-07-30T21:40:43.784848Z",
     "shell.execute_reply": "2025-07-30T21:40:43.784014Z"
    },
    "papermill": {
     "duration": 0.03347,
     "end_time": "2025-07-30T21:40:43.786382",
     "exception": false,
     "start_time": "2025-07-30T21:40:43.752912",
     "status": "completed"
    },
    "tags": []
   },
   "outputs": [],
   "source": [
    "#cp_groups_df"
   ]
  },
  {
   "cell_type": "code",
   "execution_count": 68,
   "id": "90032e27-66df-4540-9169-4e89cfbaa758",
   "metadata": {
    "execution": {
     "iopub.execute_input": "2025-07-30T21:40:43.843319Z",
     "iopub.status.busy": "2025-07-30T21:40:43.842932Z",
     "iopub.status.idle": "2025-07-30T21:40:43.854291Z",
     "shell.execute_reply": "2025-07-30T21:40:43.853341Z"
    },
    "papermill": {
     "duration": 0.040615,
     "end_time": "2025-07-30T21:40:43.856270",
     "exception": false,
     "start_time": "2025-07-30T21:40:43.815655",
     "status": "completed"
    },
    "tags": []
   },
   "outputs": [],
   "source": [
    "subgroups = ['frau1','nongerman','nongerman_male','nongerman_female']\n",
    "\n",
    "# Conditional coverage for subgroup==1\n",
    "cond_coverage = {\n",
    "    g: cp_groups_df.loc[cp_groups_df[g]==1, 'covered'].mean()\n",
    "    for g in subgroups\n",
    "}"
   ]
  },
  {
   "cell_type": "code",
   "execution_count": 69,
   "id": "1e348fb1-b9c3-45bc-ba23-f016827a7e0d",
   "metadata": {
    "execution": {
     "iopub.execute_input": "2025-07-30T21:40:43.892483Z",
     "iopub.status.busy": "2025-07-30T21:40:43.891831Z",
     "iopub.status.idle": "2025-07-30T21:40:43.898998Z",
     "shell.execute_reply": "2025-07-30T21:40:43.897976Z"
    },
    "papermill": {
     "duration": 0.023184,
     "end_time": "2025-07-30T21:40:43.900770",
     "exception": false,
     "start_time": "2025-07-30T21:40:43.877586",
     "status": "completed"
    },
    "tags": []
   },
   "outputs": [
    {
     "data": {
      "text/plain": [
       "{'frau1': 0.9147054859145437,\n",
       " 'nongerman': 0.9092236007410318,\n",
       " 'nongerman_male': 0.9249752319193011,\n",
       " 'nongerman_female': 0.8831594634873323}"
      ]
     },
     "execution_count": 69,
     "metadata": {},
     "output_type": "execute_result"
    }
   ],
   "source": [
    "cond_coverage"
   ]
  },
  {
   "cell_type": "code",
   "execution_count": 70,
   "id": "f5093324-c3dd-4d63-bc4c-8d945e5c8bbb",
   "metadata": {
    "execution": {
     "iopub.execute_input": "2025-07-30T21:40:43.957808Z",
     "iopub.status.busy": "2025-07-30T21:40:43.957413Z",
     "iopub.status.idle": "2025-07-30T21:40:43.964256Z",
     "shell.execute_reply": "2025-07-30T21:40:43.963369Z"
    },
    "papermill": {
     "duration": 0.037118,
     "end_time": "2025-07-30T21:40:43.966036",
     "exception": false,
     "start_time": "2025-07-30T21:40:43.928918",
     "status": "completed"
    },
    "tags": []
   },
   "outputs": [],
   "source": [
    "for subgroup, cov in cond_coverage.items():\n",
    "    cp_metrics_df[f\"cov_{subgroup}\"] = cov"
   ]
  },
  {
   "cell_type": "code",
   "execution_count": 71,
   "id": "6e872e10-dbe5-49e8-b554-5030c98ff75d",
   "metadata": {
    "execution": {
     "iopub.execute_input": "2025-07-30T21:40:44.027142Z",
     "iopub.status.busy": "2025-07-30T21:40:44.026432Z",
     "iopub.status.idle": "2025-07-30T21:40:44.045710Z",
     "shell.execute_reply": "2025-07-30T21:40:44.044752Z"
    },
    "papermill": {
     "duration": 0.052249,
     "end_time": "2025-07-30T21:40:44.047191",
     "exception": false,
     "start_time": "2025-07-30T21:40:43.994942",
     "status": "completed"
    },
    "tags": []
   },
   "outputs": [
    {
     "data": {
      "text/html": [
       "<div>\n",
       "<style scoped>\n",
       "    .dataframe tbody tr th:only-of-type {\n",
       "        vertical-align: middle;\n",
       "    }\n",
       "\n",
       "    .dataframe tbody tr th {\n",
       "        vertical-align: top;\n",
       "    }\n",
       "\n",
       "    .dataframe thead th {\n",
       "        text-align: right;\n",
       "    }\n",
       "</style>\n",
       "<table border=\"1\" class=\"dataframe\">\n",
       "  <thead>\n",
       "    <tr style=\"text-align: right;\">\n",
       "      <th></th>\n",
       "      <th>universe_id</th>\n",
       "      <th>universe_training_year</th>\n",
       "      <th>universe_training_size</th>\n",
       "      <th>universe_scale</th>\n",
       "      <th>universe_model</th>\n",
       "      <th>universe_exclude_features</th>\n",
       "      <th>universe_exclude_subgroups</th>\n",
       "      <th>q_hat</th>\n",
       "      <th>coverage</th>\n",
       "      <th>avg_size</th>\n",
       "      <th>cov_frau1</th>\n",
       "      <th>cov_nongerman</th>\n",
       "      <th>cov_nongerman_male</th>\n",
       "      <th>cov_nongerman_female</th>\n",
       "    </tr>\n",
       "  </thead>\n",
       "  <tbody>\n",
       "    <tr>\n",
       "      <th>0</th>\n",
       "      <td>2480c9dd98e8034b51b86167e819a23e</td>\n",
       "      <td>2012_14</td>\n",
       "      <td>1k</td>\n",
       "      <td>do-not-scale</td>\n",
       "      <td>rf</td>\n",
       "      <td>sex</td>\n",
       "      <td>keep-all</td>\n",
       "      <td>0.67</td>\n",
       "      <td>0.916052</td>\n",
       "      <td>1.154855</td>\n",
       "      <td>0.914705</td>\n",
       "      <td>0.909224</td>\n",
       "      <td>0.924975</td>\n",
       "      <td>0.883159</td>\n",
       "    </tr>\n",
       "  </tbody>\n",
       "</table>\n",
       "</div>"
      ],
      "text/plain": [
       "                        universe_id universe_training_year  \\\n",
       "0  2480c9dd98e8034b51b86167e819a23e                2012_14   \n",
       "\n",
       "  universe_training_size universe_scale universe_model  \\\n",
       "0                     1k   do-not-scale             rf   \n",
       "\n",
       "  universe_exclude_features universe_exclude_subgroups  q_hat  coverage  \\\n",
       "0                       sex                   keep-all   0.67  0.916052   \n",
       "\n",
       "   avg_size  cov_frau1  cov_nongerman  cov_nongerman_male  \\\n",
       "0  1.154855   0.914705       0.909224            0.924975   \n",
       "\n",
       "   cov_nongerman_female  \n",
       "0              0.883159  "
      ]
     },
     "execution_count": 71,
     "metadata": {},
     "output_type": "execute_result"
    }
   ],
   "source": [
    "cp_metrics_df"
   ]
  },
  {
   "cell_type": "markdown",
   "id": "33774451",
   "metadata": {
    "papermill": {
     "duration": 0.025818,
     "end_time": "2025-07-30T21:40:44.099276",
     "exception": false,
     "start_time": "2025-07-30T21:40:44.073458",
     "status": "completed"
    },
    "tags": []
   },
   "source": [
    "# (Fairness) Metrics"
   ]
  },
  {
   "cell_type": "code",
   "execution_count": 72,
   "id": "debc5d62",
   "metadata": {
    "execution": {
     "iopub.execute_input": "2025-07-30T21:40:44.153722Z",
     "iopub.status.busy": "2025-07-30T21:40:44.153250Z",
     "iopub.status.idle": "2025-07-30T21:40:44.176909Z",
     "shell.execute_reply": "2025-07-30T21:40:44.175647Z"
    },
    "papermill": {
     "duration": 0.05215,
     "end_time": "2025-07-30T21:40:44.178889",
     "exception": false,
     "start_time": "2025-07-30T21:40:44.126739",
     "status": "completed"
    },
    "tags": []
   },
   "outputs": [],
   "source": [
    "# do I need to include maxdeutsch1.missing?\n",
    "\n",
    "import numpy as np\n",
    "\n",
    "colname_to_bin = \"maxdeutsch1\"\n",
    "majority_value = org_train[colname_to_bin].mode()[0]\n",
    "\n",
    "org_test[\"majmin\"] = np.where(org_test[colname_to_bin] == majority_value, \"majority\", \"minority\")"
   ]
  },
  {
   "cell_type": "code",
   "execution_count": 73,
   "id": "06a50de5",
   "metadata": {
    "execution": {
     "iopub.execute_input": "2025-07-30T21:40:44.244551Z",
     "iopub.status.busy": "2025-07-30T21:40:44.243785Z",
     "iopub.status.idle": "2025-07-30T21:40:46.672837Z",
     "shell.execute_reply": "2025-07-30T21:40:46.671829Z"
    },
    "papermill": {
     "duration": 2.462406,
     "end_time": "2025-07-30T21:40:46.674806",
     "exception": false,
     "start_time": "2025-07-30T21:40:44.212400",
     "status": "completed"
    },
    "tags": []
   },
   "outputs": [],
   "source": [
    "example_universe = universe.copy()\n",
    "example_universe[\"cutoff\"] = example_universe[\"cutoff\"][0]\n",
    "example_universe[\"eval_fairness_grouping\"] = example_universe[\"eval_fairness_grouping\"][0]\n",
    "fairness_dict, metric_frame = universe_analysis.compute_metrics(\n",
    "    example_universe,\n",
    "    y_pred_prob=probs_test,\n",
    "    y_test=y_true,\n",
    "    org_test=org_test,\n",
    ")"
   ]
  },
  {
   "cell_type": "markdown",
   "id": "f95d4e02",
   "metadata": {
    "papermill": {
     "duration": 0.032886,
     "end_time": "2025-07-30T21:40:46.742228",
     "exception": false,
     "start_time": "2025-07-30T21:40:46.709342",
     "status": "completed"
    },
    "tags": []
   },
   "source": [
    "# Overall"
   ]
  },
  {
   "cell_type": "markdown",
   "id": "bdee4871",
   "metadata": {
    "papermill": {
     "duration": 0.029518,
     "end_time": "2025-07-30T21:40:46.802905",
     "exception": false,
     "start_time": "2025-07-30T21:40:46.773387",
     "status": "completed"
    },
    "tags": []
   },
   "source": [
    "Fairness\n",
    "Main fairness target: Equalized Odds. Seems to be a better fit than equal opportunity, since we're not only interested in Y = 1. Seems to be a better fit than demographic parity, since we also care about accuracy, not just equal distribution of preds.\n",
    "\n",
    "Pick column for computation of fairness metrics\n",
    "\n",
    "Performance\n",
    "Overall performance measures, most interesting in relation to the measures split by group below"
   ]
  },
  {
   "cell_type": "code",
   "execution_count": 74,
   "id": "c4e067c6",
   "metadata": {
    "execution": {
     "iopub.execute_input": "2025-07-30T21:40:46.863606Z",
     "iopub.status.busy": "2025-07-30T21:40:46.862525Z",
     "iopub.status.idle": "2025-07-30T21:40:46.871877Z",
     "shell.execute_reply": "2025-07-30T21:40:46.870821Z"
    },
    "papermill": {
     "duration": 0.041733,
     "end_time": "2025-07-30T21:40:46.873628",
     "exception": false,
     "start_time": "2025-07-30T21:40:46.831895",
     "status": "completed"
    },
    "tags": []
   },
   "outputs": [
    {
     "data": {
      "text/plain": [
       "accuracy                   0.204771\n",
       "balanced accuracy          0.533424\n",
       "f1                         0.239381\n",
       "precision                  0.136430\n",
       "false positive rate        0.908647\n",
       "false negative rate        0.024505\n",
       "selection rate             0.917222\n",
       "count                  89710.000000\n",
       "dtype: float64"
      ]
     },
     "execution_count": 74,
     "metadata": {},
     "output_type": "execute_result"
    }
   ],
   "source": [
    "metric_frame.overall"
   ]
  },
  {
   "cell_type": "markdown",
   "id": "e968fe9d",
   "metadata": {
    "papermill": {
     "duration": 0.030187,
     "end_time": "2025-07-30T21:40:46.940367",
     "exception": false,
     "start_time": "2025-07-30T21:40:46.910180",
     "status": "completed"
    },
    "tags": []
   },
   "source": [
    "By Group"
   ]
  },
  {
   "cell_type": "code",
   "execution_count": 75,
   "id": "ec325bce",
   "metadata": {
    "execution": {
     "iopub.execute_input": "2025-07-30T21:40:46.998879Z",
     "iopub.status.busy": "2025-07-30T21:40:46.998057Z",
     "iopub.status.idle": "2025-07-30T21:40:47.030173Z",
     "shell.execute_reply": "2025-07-30T21:40:47.029495Z"
    },
    "papermill": {
     "duration": 0.061588,
     "end_time": "2025-07-30T21:40:47.031493",
     "exception": false,
     "start_time": "2025-07-30T21:40:46.969905",
     "status": "completed"
    },
    "tags": []
   },
   "outputs": [
    {
     "data": {
      "text/html": [
       "<div>\n",
       "<style scoped>\n",
       "    .dataframe tbody tr th:only-of-type {\n",
       "        vertical-align: middle;\n",
       "    }\n",
       "\n",
       "    .dataframe tbody tr th {\n",
       "        vertical-align: top;\n",
       "    }\n",
       "\n",
       "    .dataframe thead th {\n",
       "        text-align: right;\n",
       "    }\n",
       "</style>\n",
       "<table border=\"1\" class=\"dataframe\">\n",
       "  <thead>\n",
       "    <tr style=\"text-align: right;\">\n",
       "      <th></th>\n",
       "      <th>accuracy</th>\n",
       "      <th>balanced accuracy</th>\n",
       "      <th>f1</th>\n",
       "      <th>precision</th>\n",
       "      <th>false positive rate</th>\n",
       "      <th>false negative rate</th>\n",
       "      <th>selection rate</th>\n",
       "      <th>count</th>\n",
       "    </tr>\n",
       "    <tr>\n",
       "      <th>majmin</th>\n",
       "      <th></th>\n",
       "      <th></th>\n",
       "      <th></th>\n",
       "      <th></th>\n",
       "      <th></th>\n",
       "      <th></th>\n",
       "      <th></th>\n",
       "      <th></th>\n",
       "    </tr>\n",
       "  </thead>\n",
       "  <tbody>\n",
       "    <tr>\n",
       "      <th>majority</th>\n",
       "      <td>0.210279</td>\n",
       "      <td>0.538944</td>\n",
       "      <td>0.248035</td>\n",
       "      <td>0.141867</td>\n",
       "      <td>0.907779</td>\n",
       "      <td>0.014333</td>\n",
       "      <td>0.918071</td>\n",
       "      <td>69170.0</td>\n",
       "    </tr>\n",
       "    <tr>\n",
       "      <th>minority</th>\n",
       "      <td>0.186222</td>\n",
       "      <td>0.512360</td>\n",
       "      <td>0.209655</td>\n",
       "      <td>0.118045</td>\n",
       "      <td>0.911512</td>\n",
       "      <td>0.063767</td>\n",
       "      <td>0.914362</td>\n",
       "      <td>20540.0</td>\n",
       "    </tr>\n",
       "  </tbody>\n",
       "</table>\n",
       "</div>"
      ],
      "text/plain": [
       "          accuracy  balanced accuracy        f1  precision  \\\n",
       "majmin                                                       \n",
       "majority  0.210279           0.538944  0.248035   0.141867   \n",
       "minority  0.186222           0.512360  0.209655   0.118045   \n",
       "\n",
       "          false positive rate  false negative rate  selection rate    count  \n",
       "majmin                                                                       \n",
       "majority             0.907779             0.014333        0.918071  69170.0  \n",
       "minority             0.911512             0.063767        0.914362  20540.0  "
      ]
     },
     "execution_count": 75,
     "metadata": {},
     "output_type": "execute_result"
    }
   ],
   "source": [
    "metric_frame.by_group"
   ]
  },
  {
   "cell_type": "code",
   "execution_count": 76,
   "id": "a9ddbe63",
   "metadata": {
    "execution": {
     "iopub.execute_input": "2025-07-30T21:40:47.060929Z",
     "iopub.status.busy": "2025-07-30T21:40:47.060631Z",
     "iopub.status.idle": "2025-07-30T21:40:49.357396Z",
     "shell.execute_reply": "2025-07-30T21:40:49.356447Z"
    },
    "papermill": {
     "duration": 2.312896,
     "end_time": "2025-07-30T21:40:49.359102",
     "exception": false,
     "start_time": "2025-07-30T21:40:47.046206",
     "status": "completed"
    },
    "tags": []
   },
   "outputs": [
    {
     "data": {
      "text/plain": [
       "array([[<Axes: title={'center': 'accuracy'}, xlabel='majmin'>,\n",
       "        <Axes: title={'center': 'balanced accuracy'}, xlabel='majmin'>,\n",
       "        <Axes: title={'center': 'f1'}, xlabel='majmin'>],\n",
       "       [<Axes: title={'center': 'precision'}, xlabel='majmin'>,\n",
       "        <Axes: title={'center': 'false positive rate'}, xlabel='majmin'>,\n",
       "        <Axes: title={'center': 'false negative rate'}, xlabel='majmin'>],\n",
       "       [<Axes: title={'center': 'selection rate'}, xlabel='majmin'>,\n",
       "        <Axes: title={'center': 'count'}, xlabel='majmin'>,\n",
       "        <Axes: xlabel='majmin'>]], dtype=object)"
      ]
     },
     "execution_count": 76,
     "metadata": {},
     "output_type": "execute_result"
    },
    {
     "data": {
      "image/png": "[encoded data removed]",
      "text/plain": [
       "<Figure size 1200x800 with 9 Axes>"
      ]
     },
     "metadata": {},
     "output_type": "display_data"
    }
   ],
   "source": [
    "# In a graphic\n",
    "metric_frame.by_group.plot.bar(\n",
    "    subplots=True,\n",
    "    layout=[3, 3],\n",
    "    legend=False,\n",
    "    figsize=[12, 8],\n",
    "    title=\"Show all metrics\",\n",
    ")"
   ]
  },
  {
   "cell_type": "markdown",
   "id": "f57a0bac",
   "metadata": {
    "papermill": {
     "duration": 0.026396,
     "end_time": "2025-07-30T21:40:49.416061",
     "exception": false,
     "start_time": "2025-07-30T21:40:49.389665",
     "status": "completed"
    },
    "tags": []
   },
   "source": [
    "# Final Output"
   ]
  },
  {
   "cell_type": "code",
   "execution_count": 77,
   "id": "96d280a3",
   "metadata": {
    "execution": {
     "iopub.execute_input": "2025-07-30T21:40:49.471277Z",
     "iopub.status.busy": "2025-07-30T21:40:49.470656Z",
     "iopub.status.idle": "2025-07-30T21:40:49.478496Z",
     "shell.execute_reply": "2025-07-30T21:40:49.477615Z"
    },
    "papermill": {
     "duration": 0.036967,
     "end_time": "2025-07-30T21:40:49.479966",
     "exception": false,
     "start_time": "2025-07-30T21:40:49.442999",
     "status": "completed"
    },
    "tags": []
   },
   "outputs": [
    {
     "data": {
      "text/plain": [
       "4"
      ]
     },
     "execution_count": 77,
     "metadata": {},
     "output_type": "execute_result"
    }
   ],
   "source": [
    "sub_universes = universe_analysis.generate_sub_universes()\n",
    "len(sub_universes)"
   ]
  },
  {
   "cell_type": "code",
   "execution_count": 78,
   "id": "92adf7ba",
   "metadata": {
    "execution": {
     "iopub.execute_input": "2025-07-30T21:40:49.537217Z",
     "iopub.status.busy": "2025-07-30T21:40:49.536343Z",
     "iopub.status.idle": "2025-07-30T21:40:49.542471Z",
     "shell.execute_reply": "2025-07-30T21:40:49.541551Z"
    },
    "papermill": {
     "duration": 0.036133,
     "end_time": "2025-07-30T21:40:49.543999",
     "exception": false,
     "start_time": "2025-07-30T21:40:49.507866",
     "status": "completed"
    },
    "tags": []
   },
   "outputs": [],
   "source": [
    "def filter_sub_universe_data(sub_universe, org_test):\n",
    "    # Keep all rows — no filtering\n",
    "    keep_rows_mask = np.ones(org_test.shape[0], dtype=bool)\n",
    "\n",
    "    print(f\"[INFO] Keeping all rows: {keep_rows_mask.sum()} rows retained.\")\n",
    "    return keep_rows_mask"
   ]
  },
  {
   "cell_type": "code",
   "execution_count": 79,
   "id": "4a759155",
   "metadata": {
    "execution": {
     "iopub.execute_input": "2025-07-30T21:40:49.601922Z",
     "iopub.status.busy": "2025-07-30T21:40:49.601285Z",
     "iopub.status.idle": "2025-07-30T21:40:58.171371Z",
     "shell.execute_reply": "2025-07-30T21:40:58.170418Z"
    },
    "papermill": {
     "duration": 8.601224,
     "end_time": "2025-07-30T21:40:58.173063",
     "exception": false,
     "start_time": "2025-07-30T21:40:49.571839",
     "status": "completed"
    },
    "tags": []
   },
   "outputs": [
    {
     "name": "stdout",
     "output_type": "stream",
     "text": [
      "Stopping execution_time clock.\n",
      "[INFO] Keeping all rows: 89710 rows retained.\n"
     ]
    },
    {
     "name": "stdout",
     "output_type": "stream",
     "text": [
      "[INFO] Keeping all rows: 89710 rows retained.\n"
     ]
    },
    {
     "name": "stdout",
     "output_type": "stream",
     "text": [
      "[INFO] Keeping all rows: 89710 rows retained.\n"
     ]
    },
    {
     "name": "stdout",
     "output_type": "stream",
     "text": [
      "[INFO] Keeping all rows: 89710 rows retained.\n"
     ]
    },
    {
     "data": {
      "text/html": [
       "<div>\n",
       "<style scoped>\n",
       "    .dataframe tbody tr th:only-of-type {\n",
       "        vertical-align: middle;\n",
       "    }\n",
       "\n",
       "    .dataframe tbody tr th {\n",
       "        vertical-align: top;\n",
       "    }\n",
       "\n",
       "    .dataframe thead th {\n",
       "        text-align: right;\n",
       "    }\n",
       "</style>\n",
       "<table border=\"1\" class=\"dataframe\">\n",
       "  <thead>\n",
       "    <tr style=\"text-align: right;\">\n",
       "      <th></th>\n",
       "      <th>run_no</th>\n",
       "      <th>universe_id</th>\n",
       "      <th>universe_settings</th>\n",
       "      <th>execution_time</th>\n",
       "      <th>test_size_n</th>\n",
       "      <th>test_size_frac</th>\n",
       "      <th>fair_main_equalized_odds_difference</th>\n",
       "      <th>fair_main_equalized_odds_ratio</th>\n",
       "      <th>fair_main_demographic_parity_difference</th>\n",
       "      <th>fair_main_demographic_parity_ratio</th>\n",
       "      <th>...</th>\n",
       "      <th>perf_grp_precision_0</th>\n",
       "      <th>perf_grp_precision_1</th>\n",
       "      <th>perf_grp_false positive rate_0</th>\n",
       "      <th>perf_grp_false positive rate_1</th>\n",
       "      <th>perf_grp_false negative rate_0</th>\n",
       "      <th>perf_grp_false negative rate_1</th>\n",
       "      <th>perf_grp_selection rate_0</th>\n",
       "      <th>perf_grp_selection rate_1</th>\n",
       "      <th>perf_grp_count_0</th>\n",
       "      <th>perf_grp_count_1</th>\n",
       "    </tr>\n",
       "  </thead>\n",
       "  <tbody>\n",
       "    <tr>\n",
       "      <th>0</th>\n",
       "      <td>14</td>\n",
       "      <td>2480c9dd98e8034b51b86167e819a23e</td>\n",
       "      <td>{\"cutoff\": \"quantile_0.1\", \"eval_fairness_grou...</td>\n",
       "      <td>33.283723</td>\n",
       "      <td>89710</td>\n",
       "      <td>1.0</td>\n",
       "      <td>0.049434</td>\n",
       "      <td>0.949847</td>\n",
       "      <td>0.003709</td>\n",
       "      <td>0.995960</td>\n",
       "      <td>...</td>\n",
       "      <td>NaN</td>\n",
       "      <td>NaN</td>\n",
       "      <td>NaN</td>\n",
       "      <td>NaN</td>\n",
       "      <td>NaN</td>\n",
       "      <td>NaN</td>\n",
       "      <td>NaN</td>\n",
       "      <td>NaN</td>\n",
       "      <td>NaN</td>\n",
       "      <td>NaN</td>\n",
       "    </tr>\n",
       "    <tr>\n",
       "      <th>0</th>\n",
       "      <td>14</td>\n",
       "      <td>2480c9dd98e8034b51b86167e819a23e</td>\n",
       "      <td>{\"cutoff\": \"quantile_0.1\", \"eval_fairness_grou...</td>\n",
       "      <td>33.283723</td>\n",
       "      <td>89710</td>\n",
       "      <td>1.0</td>\n",
       "      <td>0.049434</td>\n",
       "      <td>0.949847</td>\n",
       "      <td>0.003709</td>\n",
       "      <td>0.995960</td>\n",
       "      <td>...</td>\n",
       "      <td>0.118045</td>\n",
       "      <td>0.141867</td>\n",
       "      <td>0.911512</td>\n",
       "      <td>0.907779</td>\n",
       "      <td>0.063767</td>\n",
       "      <td>0.014333</td>\n",
       "      <td>0.914362</td>\n",
       "      <td>0.918071</td>\n",
       "      <td>20540.0</td>\n",
       "      <td>69170.0</td>\n",
       "    </tr>\n",
       "    <tr>\n",
       "      <th>0</th>\n",
       "      <td>14</td>\n",
       "      <td>2480c9dd98e8034b51b86167e819a23e</td>\n",
       "      <td>{\"cutoff\": \"quantile_0.25\", \"eval_fairness_gro...</td>\n",
       "      <td>33.283723</td>\n",
       "      <td>89710</td>\n",
       "      <td>1.0</td>\n",
       "      <td>0.120883</td>\n",
       "      <td>0.870956</td>\n",
       "      <td>0.032066</td>\n",
       "      <td>0.957859</td>\n",
       "      <td>...</td>\n",
       "      <td>NaN</td>\n",
       "      <td>NaN</td>\n",
       "      <td>NaN</td>\n",
       "      <td>NaN</td>\n",
       "      <td>NaN</td>\n",
       "      <td>NaN</td>\n",
       "      <td>NaN</td>\n",
       "      <td>NaN</td>\n",
       "      <td>NaN</td>\n",
       "      <td>NaN</td>\n",
       "    </tr>\n",
       "    <tr>\n",
       "      <th>0</th>\n",
       "      <td>14</td>\n",
       "      <td>2480c9dd98e8034b51b86167e819a23e</td>\n",
       "      <td>{\"cutoff\": \"quantile_0.25\", \"eval_fairness_gro...</td>\n",
       "      <td>33.283723</td>\n",
       "      <td>89710</td>\n",
       "      <td>1.0</td>\n",
       "      <td>0.120883</td>\n",
       "      <td>0.870956</td>\n",
       "      <td>0.032066</td>\n",
       "      <td>0.957859</td>\n",
       "      <td>...</td>\n",
       "      <td>0.129049</td>\n",
       "      <td>0.162671</td>\n",
       "      <td>0.717532</td>\n",
       "      <td>0.734166</td>\n",
       "      <td>0.184122</td>\n",
       "      <td>0.063239</td>\n",
       "      <td>0.728870</td>\n",
       "      <td>0.760937</td>\n",
       "      <td>20540.0</td>\n",
       "      <td>69170.0</td>\n",
       "    </tr>\n",
       "  </tbody>\n",
       "</table>\n",
       "<p>4 rows × 50 columns</p>\n",
       "</div>"
      ],
      "text/plain": [
       "  run_no                       universe_id  \\\n",
       "0     14  2480c9dd98e8034b51b86167e819a23e   \n",
       "0     14  2480c9dd98e8034b51b86167e819a23e   \n",
       "0     14  2480c9dd98e8034b51b86167e819a23e   \n",
       "0     14  2480c9dd98e8034b51b86167e819a23e   \n",
       "\n",
       "                                   universe_settings  execution_time  \\\n",
       "0  {\"cutoff\": \"quantile_0.1\", \"eval_fairness_grou...       33.283723   \n",
       "0  {\"cutoff\": \"quantile_0.1\", \"eval_fairness_grou...       33.283723   \n",
       "0  {\"cutoff\": \"quantile_0.25\", \"eval_fairness_gro...       33.283723   \n",
       "0  {\"cutoff\": \"quantile_0.25\", \"eval_fairness_gro...       33.283723   \n",
       "\n",
       "   test_size_n  test_size_frac  fair_main_equalized_odds_difference  \\\n",
       "0        89710             1.0                             0.049434   \n",
       "0        89710             1.0                             0.049434   \n",
       "0        89710             1.0                             0.120883   \n",
       "0        89710             1.0                             0.120883   \n",
       "\n",
       "   fair_main_equalized_odds_ratio  fair_main_demographic_parity_difference  \\\n",
       "0                        0.949847                                 0.003709   \n",
       "0                        0.949847                                 0.003709   \n",
       "0                        0.870956                                 0.032066   \n",
       "0                        0.870956                                 0.032066   \n",
       "\n",
       "   fair_main_demographic_parity_ratio  ...  perf_grp_precision_0  \\\n",
       "0                            0.995960  ...                   NaN   \n",
       "0                            0.995960  ...              0.118045   \n",
       "0                            0.957859  ...                   NaN   \n",
       "0                            0.957859  ...              0.129049   \n",
       "\n",
       "   perf_grp_precision_1  perf_grp_false positive rate_0  \\\n",
       "0                   NaN                             NaN   \n",
       "0              0.141867                        0.911512   \n",
       "0                   NaN                             NaN   \n",
       "0              0.162671                        0.717532   \n",
       "\n",
       "   perf_grp_false positive rate_1  perf_grp_false negative rate_0  \\\n",
       "0                             NaN                             NaN   \n",
       "0                        0.907779                        0.063767   \n",
       "0                             NaN                             NaN   \n",
       "0                        0.734166                        0.184122   \n",
       "\n",
       "   perf_grp_false negative rate_1  perf_grp_selection rate_0  \\\n",
       "0                             NaN                        NaN   \n",
       "0                        0.014333                   0.914362   \n",
       "0                             NaN                        NaN   \n",
       "0                        0.063239                   0.728870   \n",
       "\n",
       "   perf_grp_selection rate_1  perf_grp_count_0  perf_grp_count_1  \n",
       "0                        NaN               NaN               NaN  \n",
       "0                   0.918071           20540.0           69170.0  \n",
       "0                        NaN               NaN               NaN  \n",
       "0                   0.760937           20540.0           69170.0  \n",
       "\n",
       "[4 rows x 50 columns]"
      ]
     },
     "execution_count": 79,
     "metadata": {},
     "output_type": "execute_result"
    }
   ],
   "source": [
    "final_output = universe_analysis.generate_final_output(\n",
    "    y_pred_prob=probs_test,\n",
    "    y_test=y_true,\n",
    "    org_test=org_test,\n",
    "    filter_data=filter_sub_universe_data,\n",
    "    cp_metrics_df=cp_metrics_df,\n",
    "    save=True,\n",
    ")\n",
    "final_output"
   ]
  },
  {
   "cell_type": "code",
   "execution_count": null,
   "id": "721ff514-cb11-46f8-b6fc-50392f74b5cb",
   "metadata": {
    "papermill": {
     "duration": 0.033298,
     "end_time": "2025-07-30T21:40:58.243794",
     "exception": false,
     "start_time": "2025-07-30T21:40:58.210496",
     "status": "completed"
    },
    "tags": []
   },
   "outputs": [],
   "source": []
  }
 ],
 "metadata": {
  "celltoolbar": "Tags",
  "kernelspec": {
   "display_name": "Python (CMA Fairness)",
   "language": "python",
   "name": "cma_fair_env"
  },
  "language_info": {
   "codemirror_mode": {
    "name": "ipython",
    "version": 3
   },
   "file_extension": ".py",
   "mimetype": "text/x-python",
   "name": "python",
   "nbconvert_exporter": "python",
   "pygments_lexer": "ipython3",
   "version": "3.10.12"
  },
  "papermill": {
   "default_parameters": {},
   "duration": 46.194724,
   "end_time": "2025-07-30T21:40:59.195107",
   "environment_variables": {},
   "exception": null,
   "input_path": "universe_analysis.ipynb",
   "output_path": "output/runs/14/notebooks/m_14-2480c9dd98e8034b51b86167e819a23e.ipynb",
   "parameters": {
    "output_dir": "output",
    "run_no": "14",
    "seed": "2023",
    "universe": "{\"cutoff\": [\"quantile_0.1\", \"quantile_0.25\"], \"eval_fairness_grouping\": [\"majority-minority\", \"nationality-all\"], \"exclude_features\": \"sex\", \"exclude_subgroups\": \"keep-all\", \"model\": \"rf\", \"scale\": \"do-not-scale\", \"training_size\": \"1k\", \"training_year\": \"2012_14\"}",
    "universe_id": "2480c9dd98e8034b51b86167e819a23e"
   },
   "start_time": "2025-07-30T21:40:13.000383",
   "version": "2.6.0"
  }
 },
 "nbformat": 4,
 "nbformat_minor": 5
}