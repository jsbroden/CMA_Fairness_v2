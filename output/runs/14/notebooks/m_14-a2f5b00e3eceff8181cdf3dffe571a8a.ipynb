{
 "cells": [
  {
   "cell_type": "code",
   "execution_count": 1,
   "id": "f159f837-637b-42ba-96b5-ec9a68c44524",
   "metadata": {
    "execution": {
     "iopub.execute_input": "2025-07-30T19:54:50.659729Z",
     "iopub.status.busy": "2025-07-30T19:54:50.658782Z",
     "iopub.status.idle": "2025-07-30T19:54:50.672603Z",
     "shell.execute_reply": "2025-07-30T19:54:50.671564Z"
    },
    "papermill": {
     "duration": 0.036802,
     "end_time": "2025-07-30T19:54:50.674279",
     "exception": false,
     "start_time": "2025-07-30T19:54:50.637477",
     "status": "completed"
    },
    "tags": []
   },
   "outputs": [
    {
     "name": "stdout",
     "output_type": "stream",
     "text": [
      "/dss/dsshome1/0C/ra93lal2/cma/CMA_Fairness_v2\n"
     ]
    },
    {
     "name": "stderr",
     "output_type": "stream",
     "text": [
      "/dss/dsshome1/0C/ra93lal2/.local/share/virtualenvs/CMA_Fairness_v2-3j10GkSs/lib/python3.10/site-packages/IPython/core/magics/osm.py:393: UserWarning: This is now an optional IPython functionality, using bookmarks requires you to install the `pickleshare` library.\n",
      "  bkms = self.shell.db.get('bookmarks', {})\n",
      "/dss/dsshome1/0C/ra93lal2/.local/share/virtualenvs/CMA_Fairness_v2-3j10GkSs/lib/python3.10/site-packages/IPython/core/magics/osm.py:417: UserWarning: This is now an optional IPython functionality, setting dhist requires you to install the `pickleshare` library.\n",
      "  self.shell.db['dhist'] = compress_dhist(dhist)[-100:]\n"
     ]
    }
   ],
   "source": [
    "%cd ~/cma/CMA_Fairness_v2"
   ]
  },
  {
   "cell_type": "markdown",
   "id": "de2603b9",
   "metadata": {
    "papermill": {
     "duration": 0.01955,
     "end_time": "2025-07-30T19:54:50.714364",
     "exception": false,
     "start_time": "2025-07-30T19:54:50.694814",
     "status": "completed"
    },
    "tags": []
   },
   "source": [
    "The following cell holds the definition of our parameters, these values can be overriden by rendering the with e.g. the following command:\n",
    "\n",
    "papermill -p alpha 0.2 -p ratio 0.3 universe_analysis.ipynb output/test_run.ipynb"
   ]
  },
  {
   "cell_type": "code",
   "execution_count": 2,
   "id": "a80968a0-40bb-4fa9-85ef-2d5eefb01975",
   "metadata": {
    "execution": {
     "iopub.execute_input": "2025-07-30T19:54:50.755981Z",
     "iopub.status.busy": "2025-07-30T19:54:50.755071Z",
     "iopub.status.idle": "2025-07-30T19:54:50.760571Z",
     "shell.execute_reply": "2025-07-30T19:54:50.759703Z"
    },
    "papermill": {
     "duration": 0.028061,
     "end_time": "2025-07-30T19:54:50.762240",
     "exception": false,
     "start_time": "2025-07-30T19:54:50.734179",
     "status": "completed"
    },
    "tags": []
   },
   "outputs": [
    {
     "name": "stdout",
     "output_type": "stream",
     "text": [
      "Current working directory: /dss/dsshome1/0C/ra93lal2/cma/CMA_Fairness_v2\n"
     ]
    }
   ],
   "source": [
    "import os\n",
    "print(\"Current working directory:\", os.getcwd())"
   ]
  },
  {
   "cell_type": "code",
   "execution_count": 3,
   "id": "2dce4c03",
   "metadata": {
    "execution": {
     "iopub.execute_input": "2025-07-30T19:54:50.802938Z",
     "iopub.status.busy": "2025-07-30T19:54:50.802267Z",
     "iopub.status.idle": "2025-07-30T19:54:50.809143Z",
     "shell.execute_reply": "2025-07-30T19:54:50.808057Z"
    },
    "papermill": {
     "duration": 0.028739,
     "end_time": "2025-07-30T19:54:50.810771",
     "exception": false,
     "start_time": "2025-07-30T19:54:50.782032",
     "status": "completed"
    },
    "tags": [
     "parameters"
    ]
   },
   "outputs": [],
   "source": [
    "run_no = 0\n",
    "universe_id = \"test\"\n",
    "universe = {\n",
    "    \"training_size\": \"25k\", # \"25k\", \"5k\", \"1k\"\n",
    "    \"training_year\": \"2014\", # \"2014\", \"2012_14\", \"2010_14\"\n",
    "    \"scale\": \"scale\", # \"scale\", \"do-not-scale\",\n",
    "    #\"stratify_split\": \"target\", # \"none\", \"target\", \"protected-attribute\", \"both\",\n",
    "    \"model\": \"elasticnet\", # \"logreg\", \"penalized_logreg\", \"rf\", \"gbm\", \"elasticnet\"\n",
    "    \"cutoff\": [\"quantile_0.15\", \"quantile_0.30\"],\n",
    "    \"exclude_features\": \"age\", # \"none\", \"nationality\", \"sex\", \"nationality-sex\", \"age\"\n",
    "    \"exclude_subgroups\": \"keep-all\", # \"keep-all\", \"drop-non-german\"\n",
    "    \"eval_fairness_grouping\": [\"majority-minority\", \"nationality-all\"]\n",
    "}\n",
    "\n",
    "output_dir=\"./output\"\n",
    "seed=0"
   ]
  },
  {
   "cell_type": "code",
   "execution_count": 4,
   "id": "3c93ed9d",
   "metadata": {
    "execution": {
     "iopub.execute_input": "2025-07-30T19:54:50.852471Z",
     "iopub.status.busy": "2025-07-30T19:54:50.851563Z",
     "iopub.status.idle": "2025-07-30T19:54:50.856883Z",
     "shell.execute_reply": "2025-07-30T19:54:50.855864Z"
    },
    "papermill": {
     "duration": 0.027276,
     "end_time": "2025-07-30T19:54:50.858345",
     "exception": false,
     "start_time": "2025-07-30T19:54:50.831069",
     "status": "completed"
    },
    "tags": [
     "injected-parameters"
    ]
   },
   "outputs": [],
   "source": [
    "# Parameters\n",
    "universe_id = \"a2f5b00e3eceff8181cdf3dffe571a8a\"\n",
    "run_no = \"14\"\n",
    "universe = \"{\\\"cutoff\\\": [\\\"quantile_0.1\\\", \\\"quantile_0.25\\\"], \\\"eval_fairness_grouping\\\": [\\\"majority-minority\\\", \\\"nationality-all\\\"], \\\"exclude_features\\\": \\\"none\\\", \\\"exclude_subgroups\\\": \\\"drop-non-german\\\", \\\"model\\\": \\\"elasticnet\\\", \\\"scale\\\": \\\"scale\\\", \\\"training_size\\\": \\\"25k\\\", \\\"training_year\\\": \\\"2014\\\"}\"\n",
    "output_dir = \"output\"\n",
    "seed = \"2023\"\n"
   ]
  },
  {
   "cell_type": "code",
   "execution_count": 5,
   "id": "1650acaf",
   "metadata": {
    "execution": {
     "iopub.execute_input": "2025-07-30T19:54:50.899400Z",
     "iopub.status.busy": "2025-07-30T19:54:50.898735Z",
     "iopub.status.idle": "2025-07-30T19:54:50.904091Z",
     "shell.execute_reply": "2025-07-30T19:54:50.903029Z"
    },
    "papermill": {
     "duration": 0.027924,
     "end_time": "2025-07-30T19:54:50.905835",
     "exception": false,
     "start_time": "2025-07-30T19:54:50.877911",
     "status": "completed"
    },
    "tags": []
   },
   "outputs": [],
   "source": [
    "import json\n",
    "# Parse universe into dict if it is passed as a string\n",
    "if isinstance(universe, str):\n",
    "    universe = json.loads(universe)"
   ]
  },
  {
   "cell_type": "code",
   "execution_count": 6,
   "id": "16620c48",
   "metadata": {
    "execution": {
     "iopub.execute_input": "2025-07-30T19:54:50.946416Z",
     "iopub.status.busy": "2025-07-30T19:54:50.945774Z",
     "iopub.status.idle": "2025-07-30T19:54:50.990646Z",
     "shell.execute_reply": "2025-07-30T19:54:50.989675Z"
    },
    "papermill": {
     "duration": 0.067432,
     "end_time": "2025-07-30T19:54:50.992661",
     "exception": false,
     "start_time": "2025-07-30T19:54:50.925229",
     "status": "completed"
    },
    "tags": []
   },
   "outputs": [],
   "source": [
    "# Auto-reload the custom package\n",
    "%load_ext autoreload\n",
    "%autoreload 1\n",
    "%aimport fairness_multiverse"
   ]
  },
  {
   "cell_type": "code",
   "execution_count": 7,
   "id": "01c5c9f3",
   "metadata": {
    "execution": {
     "iopub.execute_input": "2025-07-30T19:54:51.033895Z",
     "iopub.status.busy": "2025-07-30T19:54:51.033222Z",
     "iopub.status.idle": "2025-07-30T19:54:52.949732Z",
     "shell.execute_reply": "2025-07-30T19:54:52.948705Z"
    },
    "papermill": {
     "duration": 1.938664,
     "end_time": "2025-07-30T19:54:52.951596",
     "exception": false,
     "start_time": "2025-07-30T19:54:51.012932",
     "status": "completed"
    },
    "tags": []
   },
   "outputs": [],
   "source": [
    "from fairness_multiverse.universe import UniverseAnalysis\n",
    "\n",
    "universe_analysis = UniverseAnalysis(\n",
    "    run_no = run_no,\n",
    "    universe_id = universe_id,\n",
    "    universe = universe,\n",
    "    output_dir=output_dir,\n",
    ")"
   ]
  },
  {
   "cell_type": "code",
   "execution_count": 8,
   "id": "106241f5",
   "metadata": {
    "execution": {
     "iopub.execute_input": "2025-07-30T19:54:52.993597Z",
     "iopub.status.busy": "2025-07-30T19:54:52.993074Z",
     "iopub.status.idle": "2025-07-30T19:54:52.999934Z",
     "shell.execute_reply": "2025-07-30T19:54:52.998846Z"
    },
    "papermill": {
     "duration": 0.029557,
     "end_time": "2025-07-30T19:54:53.001704",
     "exception": false,
     "start_time": "2025-07-30T19:54:52.972147",
     "status": "completed"
    },
    "tags": []
   },
   "outputs": [
    {
     "name": "stdout",
     "output_type": "stream",
     "text": [
      "Using Seed: 2023\n"
     ]
    }
   ],
   "source": [
    "import numpy as np\n",
    "parsed_seed = int(seed)\n",
    "np.random.seed(parsed_seed)\n",
    "print(f\"Using Seed: {parsed_seed}\")"
   ]
  },
  {
   "cell_type": "markdown",
   "id": "e0ebdc57",
   "metadata": {
    "papermill": {
     "duration": 0.019386,
     "end_time": "2025-07-30T19:54:53.041184",
     "exception": false,
     "start_time": "2025-07-30T19:54:53.021798",
     "status": "completed"
    },
    "tags": []
   },
   "source": [
    "# Loading Data"
   ]
  },
  {
   "cell_type": "markdown",
   "id": "681925a3",
   "metadata": {
    "papermill": {
     "duration": 0.020705,
     "end_time": "2025-07-30T19:54:53.082226",
     "exception": false,
     "start_time": "2025-07-30T19:54:53.061521",
     "status": "completed"
    },
    "tags": []
   },
   "source": [
    "Load siab_train, siab_test, siab_calib and/or \n",
    "load siab_train_features, siab_train_labels"
   ]
  },
  {
   "cell_type": "code",
   "execution_count": 9,
   "id": "f0496b8a",
   "metadata": {
    "execution": {
     "iopub.execute_input": "2025-07-30T19:54:53.125249Z",
     "iopub.status.busy": "2025-07-30T19:54:53.124145Z",
     "iopub.status.idle": "2025-07-30T19:55:06.311871Z",
     "shell.execute_reply": "2025-07-30T19:55:06.310759Z"
    },
    "papermill": {
     "duration": 13.211302,
     "end_time": "2025-07-30T19:55:06.313451",
     "exception": false,
     "start_time": "2025-07-30T19:54:53.102149",
     "status": "completed"
    },
    "tags": []
   },
   "outputs": [
    {
     "name": "stdout",
     "output_type": "stream",
     "text": [
      "Loading SIAB data from cache: data/siab_cached.csv.gz\n"
     ]
    },
    {
     "name": "stdout",
     "output_type": "stream",
     "text": [
      "(643690, 164)\n"
     ]
    }
   ],
   "source": [
    "from pathlib import Path\n",
    "import pandas as pd\n",
    "\n",
    "# File paths\n",
    "raw_file = Path(\"data/raw/siab.csv\")\n",
    "cache_file = Path(\"data/siab_cached.csv.gz\")\n",
    "\n",
    "# Ensure cache directory exists\n",
    "cache_file.parent.mkdir(parents=True, exist_ok=True)\n",
    "\n",
    "# Load with simple caching\n",
    "if cache_file.exists():\n",
    "    print(f\"Loading SIAB data from cache: {cache_file}\")\n",
    "    siab = pd.read_csv(cache_file, compression='gzip')\n",
    "else:\n",
    "    print(f\"Cache not found. Reading raw SIAB data: {raw_file}\")\n",
    "    siab = pd.read_csv(raw_file)\n",
    "    siab.to_csv(cache_file, index=False, compression='gzip')\n",
    "    print(f\"Cached SIAB data to: {cache_file}\")\n",
    "\n",
    "# Now use `siab` DataFrame as needed\n",
    "print(siab.shape)"
   ]
  },
  {
   "cell_type": "code",
   "execution_count": 10,
   "id": "db0ca512-5f53-4dba-abdb-a2888bca41ba",
   "metadata": {
    "execution": {
     "iopub.execute_input": "2025-07-30T19:55:06.359041Z",
     "iopub.status.busy": "2025-07-30T19:55:06.358302Z",
     "iopub.status.idle": "2025-07-30T19:55:06.364225Z",
     "shell.execute_reply": "2025-07-30T19:55:06.363409Z"
    },
    "papermill": {
     "duration": 0.029016,
     "end_time": "2025-07-30T19:55:06.365847",
     "exception": false,
     "start_time": "2025-07-30T19:55:06.336831",
     "status": "completed"
    },
    "tags": []
   },
   "outputs": [],
   "source": [
    "#siab"
   ]
  },
  {
   "cell_type": "code",
   "execution_count": 11,
   "id": "a0edb063",
   "metadata": {
    "execution": {
     "iopub.execute_input": "2025-07-30T19:55:06.404824Z",
     "iopub.status.busy": "2025-07-30T19:55:06.404312Z",
     "iopub.status.idle": "2025-07-30T19:55:06.409052Z",
     "shell.execute_reply": "2025-07-30T19:55:06.408145Z"
    },
    "papermill": {
     "duration": 0.025903,
     "end_time": "2025-07-30T19:55:06.410586",
     "exception": false,
     "start_time": "2025-07-30T19:55:06.384683",
     "status": "completed"
    },
    "tags": []
   },
   "outputs": [],
   "source": [
    "#import pandas as pd\n",
    "#\n",
    "#X_train = pd.read_csv(\"./data/X_train.csv\")\n",
    "#y_train = pd.read_csv(\"./data/y_train.csv\")"
   ]
  },
  {
   "cell_type": "code",
   "execution_count": 12,
   "id": "63d08085",
   "metadata": {
    "execution": {
     "iopub.execute_input": "2025-07-30T19:55:06.450504Z",
     "iopub.status.busy": "2025-07-30T19:55:06.449843Z",
     "iopub.status.idle": "2025-07-30T19:55:06.455130Z",
     "shell.execute_reply": "2025-07-30T19:55:06.454155Z"
    },
    "papermill": {
     "duration": 0.026815,
     "end_time": "2025-07-30T19:55:06.456710",
     "exception": false,
     "start_time": "2025-07-30T19:55:06.429895",
     "status": "completed"
    },
    "tags": []
   },
   "outputs": [],
   "source": [
    "#X_test = pd.read_csv(\"./data/X_test.csv\")\n",
    "#y_true = pd.read_csv(\"./data/y_test.csv\")"
   ]
  },
  {
   "cell_type": "code",
   "execution_count": 13,
   "id": "98a8d0fa-1d3d-4ed8-bb2c-281470e24add",
   "metadata": {
    "execution": {
     "iopub.execute_input": "2025-07-30T19:55:06.496791Z",
     "iopub.status.busy": "2025-07-30T19:55:06.496150Z",
     "iopub.status.idle": "2025-07-30T19:55:06.501196Z",
     "shell.execute_reply": "2025-07-30T19:55:06.500196Z"
    },
    "papermill": {
     "duration": 0.026493,
     "end_time": "2025-07-30T19:55:06.502582",
     "exception": false,
     "start_time": "2025-07-30T19:55:06.476089",
     "status": "completed"
    },
    "tags": []
   },
   "outputs": [],
   "source": [
    "# Calibration data for conformal\n",
    "#X_calib = pd.read_csv(\"./data/X_calib.csv\")\n",
    "#y_calib = pd.read_csv(\"./data/y_calib.csv\")"
   ]
  },
  {
   "cell_type": "markdown",
   "id": "997051c5-15bd-4b69-9786-c3001a3ce484",
   "metadata": {
    "papermill": {
     "duration": 0.018796,
     "end_time": "2025-07-30T19:55:06.540635",
     "exception": false,
     "start_time": "2025-07-30T19:55:06.521839",
     "status": "completed"
    },
    "tags": []
   },
   "source": [
    "# Splitting Data and Setting Training Data Size"
   ]
  },
  {
   "cell_type": "code",
   "execution_count": 14,
   "id": "e993b61f-042d-41a6-8c81-f55681f86335",
   "metadata": {
    "execution": {
     "iopub.execute_input": "2025-07-30T19:55:06.582399Z",
     "iopub.status.busy": "2025-07-30T19:55:06.581828Z",
     "iopub.status.idle": "2025-07-30T19:55:06.594833Z",
     "shell.execute_reply": "2025-07-30T19:55:06.593959Z"
    },
    "papermill": {
     "duration": 0.036,
     "end_time": "2025-07-30T19:55:06.596307",
     "exception": false,
     "start_time": "2025-07-30T19:55:06.560307",
     "status": "completed"
    },
    "tags": []
   },
   "outputs": [],
   "source": [
    "def sample_by_year_size(df,\n",
    "                        training_year: str,\n",
    "                        training_size: str,\n",
    "                        random_state: int = 42):\n",
    "    # --- parse training_year into a list of int years ---\n",
    "    if \"_\" in training_year:\n",
    "        start_str, end_str = training_year.split(\"_\", 1)\n",
    "        start = int(start_str)\n",
    "        end   = int(end_str) if len(end_str) == 4 else (int(end_str) + (start // 100)*100)\n",
    "        years = list(range(start, end + 1))\n",
    "    else:\n",
    "        years = [int(training_year)]\n",
    "\n",
    "    df = df[df[\"year\"].isin(years)].reset_index(drop=True)\n",
    "\n",
    "    # --- map training_size to total number of samples ---\n",
    "    total_map = {\"25k\": 25_000, \"5k\": 5_000, \"1k\": 1_000}\n",
    "    if training_size not in total_map:\n",
    "        return df  # e.g. \"all\"\n",
    "\n",
    "    total_samples = total_map[training_size]\n",
    "    n_years       = len(years)\n",
    "    base          = total_samples // n_years\n",
    "    remainder     = total_samples % n_years\n",
    "\n",
    "    # --- build a dict: year -> how many to sample ---\n",
    "    # give +1 to the first `remainder` years in ascending order\n",
    "    quotas = {\n",
    "        year: base + (1 if idx < remainder else 0)\n",
    "        for idx, year in enumerate(sorted(years))\n",
    "    }\n",
    "\n",
    "    # --- sample per‐year according to the quota dict ---\n",
    "    sampled = (\n",
    "        df\n",
    "        .groupby(\"year\", group_keys=False)\n",
    "        .apply(lambda grp: grp.sample(\n",
    "            n=min(len(grp), quotas[grp.name]),\n",
    "            random_state=random_state))\n",
    "        .reset_index(drop=True)\n",
    "    )\n",
    "\n",
    "    return sampled"
   ]
  },
  {
   "cell_type": "code",
   "execution_count": 15,
   "id": "c0ccd338-0e02-41f3-a09d-f56f9266e3fb",
   "metadata": {
    "execution": {
     "iopub.execute_input": "2025-07-30T19:55:06.637516Z",
     "iopub.status.busy": "2025-07-30T19:55:06.636771Z",
     "iopub.status.idle": "2025-07-30T19:55:06.641962Z",
     "shell.execute_reply": "2025-07-30T19:55:06.641054Z"
    },
    "papermill": {
     "duration": 0.026684,
     "end_time": "2025-07-30T19:55:06.643513",
     "exception": false,
     "start_time": "2025-07-30T19:55:06.616829",
     "status": "completed"
    },
    "tags": []
   },
   "outputs": [],
   "source": [
    "#universe[\"training_size\"]"
   ]
  },
  {
   "cell_type": "code",
   "execution_count": 16,
   "id": "ca707fd7-8047-4acd-bfa5-66248fbbf8e6",
   "metadata": {
    "execution": {
     "iopub.execute_input": "2025-07-30T19:55:06.686802Z",
     "iopub.status.busy": "2025-07-30T19:55:06.686136Z",
     "iopub.status.idle": "2025-07-30T19:55:06.692583Z",
     "shell.execute_reply": "2025-07-30T19:55:06.691625Z"
    },
    "papermill": {
     "duration": 0.029862,
     "end_time": "2025-07-30T19:55:06.694115",
     "exception": false,
     "start_time": "2025-07-30T19:55:06.664253",
     "status": "completed"
    },
    "tags": []
   },
   "outputs": [],
   "source": [
    "#universe[\"training_year\"]"
   ]
  },
  {
   "cell_type": "code",
   "execution_count": 17,
   "id": "aea9c6ef-6f46-42c8-85eb-5a62025c1508",
   "metadata": {
    "execution": {
     "iopub.execute_input": "2025-07-30T19:55:06.736445Z",
     "iopub.status.busy": "2025-07-30T19:55:06.735848Z",
     "iopub.status.idle": "2025-07-30T19:55:06.982577Z",
     "shell.execute_reply": "2025-07-30T19:55:06.981638Z"
    },
    "papermill": {
     "duration": 0.270172,
     "end_time": "2025-07-30T19:55:06.984556",
     "exception": false,
     "start_time": "2025-07-30T19:55:06.714384",
     "status": "completed"
    },
    "tags": []
   },
   "outputs": [],
   "source": [
    "siab_train = sample_by_year_size(siab,\n",
    "                               training_year=universe[\"training_year\"],\n",
    "                               training_size=universe[\"training_size\"])"
   ]
  },
  {
   "cell_type": "code",
   "execution_count": 18,
   "id": "8d3afb32-789d-442c-8d5d-9f5aa8dd2eed",
   "metadata": {
    "execution": {
     "iopub.execute_input": "2025-07-30T19:55:07.028710Z",
     "iopub.status.busy": "2025-07-30T19:55:07.027987Z",
     "iopub.status.idle": "2025-07-30T19:55:07.033088Z",
     "shell.execute_reply": "2025-07-30T19:55:07.032162Z"
    },
    "papermill": {
     "duration": 0.028486,
     "end_time": "2025-07-30T19:55:07.034557",
     "exception": false,
     "start_time": "2025-07-30T19:55:07.006071",
     "status": "completed"
    },
    "tags": []
   },
   "outputs": [],
   "source": [
    "#siab_train.shape"
   ]
  },
  {
   "cell_type": "code",
   "execution_count": 19,
   "id": "d582db68-1a4c-47fb-84fc-08518dc1975a",
   "metadata": {
    "execution": {
     "iopub.execute_input": "2025-07-30T19:55:07.077658Z",
     "iopub.status.busy": "2025-07-30T19:55:07.076995Z",
     "iopub.status.idle": "2025-07-30T19:55:07.082567Z",
     "shell.execute_reply": "2025-07-30T19:55:07.081583Z"
    },
    "papermill": {
     "duration": 0.028859,
     "end_time": "2025-07-30T19:55:07.084087",
     "exception": false,
     "start_time": "2025-07-30T19:55:07.055228",
     "status": "completed"
    },
    "tags": []
   },
   "outputs": [],
   "source": [
    "#display(siab_train.groupby(\"year\").size())"
   ]
  },
  {
   "cell_type": "code",
   "execution_count": 20,
   "id": "a561edb4-d032-42cb-8256-22eac1111c64",
   "metadata": {
    "execution": {
     "iopub.execute_input": "2025-07-30T19:55:07.127060Z",
     "iopub.status.busy": "2025-07-30T19:55:07.126416Z",
     "iopub.status.idle": "2025-07-30T19:55:07.329276Z",
     "shell.execute_reply": "2025-07-30T19:55:07.328354Z"
    },
    "papermill": {
     "duration": 0.226079,
     "end_time": "2025-07-30T19:55:07.331183",
     "exception": false,
     "start_time": "2025-07-30T19:55:07.105104",
     "status": "completed"
    },
    "tags": []
   },
   "outputs": [],
   "source": [
    "#siab_train = siab_s[siab_s.year < 2015]\n",
    "siab_calib = siab[siab.year == 2015]\n",
    "siab_test = siab[siab.year == 2016]"
   ]
  },
  {
   "cell_type": "code",
   "execution_count": 21,
   "id": "472de16f-c3db-4916-846b-1f0de9cf1746",
   "metadata": {
    "execution": {
     "iopub.execute_input": "2025-07-30T19:55:07.375433Z",
     "iopub.status.busy": "2025-07-30T19:55:07.374945Z",
     "iopub.status.idle": "2025-07-30T19:55:07.389581Z",
     "shell.execute_reply": "2025-07-30T19:55:07.388503Z"
    },
    "papermill": {
     "duration": 0.03853,
     "end_time": "2025-07-30T19:55:07.391338",
     "exception": false,
     "start_time": "2025-07-30T19:55:07.352808",
     "status": "completed"
    },
    "tags": []
   },
   "outputs": [],
   "source": [
    "X_train = siab_train.iloc[:,4:164]\n",
    "y_train = siab_train.iloc[:, [3]]"
   ]
  },
  {
   "cell_type": "code",
   "execution_count": 22,
   "id": "828c96af-f43a-4ed6-ba47-8ac73a47d56c",
   "metadata": {
    "execution": {
     "iopub.execute_input": "2025-07-30T19:55:07.435974Z",
     "iopub.status.busy": "2025-07-30T19:55:07.435297Z",
     "iopub.status.idle": "2025-07-30T19:55:07.483753Z",
     "shell.execute_reply": "2025-07-30T19:55:07.482584Z"
    },
    "papermill": {
     "duration": 0.072559,
     "end_time": "2025-07-30T19:55:07.485355",
     "exception": false,
     "start_time": "2025-07-30T19:55:07.412796",
     "status": "completed"
    },
    "tags": []
   },
   "outputs": [],
   "source": [
    "X_calib = siab_calib.iloc[:,4:164]\n",
    "y_calib = siab_calib.iloc[:, [3]]"
   ]
  },
  {
   "cell_type": "code",
   "execution_count": 23,
   "id": "c34be9c3-6bd6-476e-acd3-845840e303be",
   "metadata": {
    "execution": {
     "iopub.execute_input": "2025-07-30T19:55:07.527810Z",
     "iopub.status.busy": "2025-07-30T19:55:07.527391Z",
     "iopub.status.idle": "2025-07-30T19:55:07.582077Z",
     "shell.execute_reply": "2025-07-30T19:55:07.581170Z"
    },
    "papermill": {
     "duration": 0.078311,
     "end_time": "2025-07-30T19:55:07.583856",
     "exception": false,
     "start_time": "2025-07-30T19:55:07.505545",
     "status": "completed"
    },
    "tags": []
   },
   "outputs": [],
   "source": [
    "X_test = siab_test.iloc[:,4:164]\n",
    "y_true = siab_test.iloc[:, [3]]"
   ]
  },
  {
   "cell_type": "markdown",
   "id": "9901737e-04df-44f0-9100-f5ad144ed040",
   "metadata": {
    "papermill": {
     "duration": 0.020556,
     "end_time": "2025-07-30T19:55:07.626011",
     "exception": false,
     "start_time": "2025-07-30T19:55:07.605455",
     "status": "completed"
    },
    "tags": []
   },
   "source": [
    "# Splitting Data and Setting Training Data Size OLD VERSION"
   ]
  },
  {
   "cell_type": "code",
   "execution_count": 24,
   "id": "acbc8f7d-8fc8-4e86-8c59-5dcb0f58384b",
   "metadata": {
    "execution": {
     "iopub.execute_input": "2025-07-30T19:55:07.669660Z",
     "iopub.status.busy": "2025-07-30T19:55:07.668977Z",
     "iopub.status.idle": "2025-07-30T19:55:07.674572Z",
     "shell.execute_reply": "2025-07-30T19:55:07.673712Z"
    },
    "papermill": {
     "duration": 0.029037,
     "end_time": "2025-07-30T19:55:07.676101",
     "exception": false,
     "start_time": "2025-07-30T19:55:07.647064",
     "status": "completed"
    },
    "tags": []
   },
   "outputs": [],
   "source": [
    "#def sample_by_year(df, training_size, random_state=42):\n",
    "#    if training_size == \"2014\":\n",
    "#        return df[df[\"year\"] == 2014].reset_index(drop=True)\n",
    "#    \n",
    "#    size_map = {\n",
    "#        \"25k\": 5000,\n",
    "#        \"5k\": 1000,\n",
    "#        \"1k\": 200\n",
    "#    }\n",
    "#\n",
    "#    if training_size not in size_map:\n",
    "#        return df.reset_index(drop=True)  # use all data\n",
    "#\n",
    "#    n_per_year = size_map[training_size]\n",
    "#    grouped = df.groupby(\"year\")\n",
    "#    sampled = grouped.apply(lambda x: x.sample(n=min(n_per_year, len(x)), random_state=random_state))\n",
    "#    return sampled.reset_index(drop=True)"
   ]
  },
  {
   "cell_type": "code",
   "execution_count": 25,
   "id": "6d931f52-beaf-43ff-9e78-9d44a448d54e",
   "metadata": {
    "execution": {
     "iopub.execute_input": "2025-07-30T19:55:07.719558Z",
     "iopub.status.busy": "2025-07-30T19:55:07.718907Z",
     "iopub.status.idle": "2025-07-30T19:55:07.724023Z",
     "shell.execute_reply": "2025-07-30T19:55:07.723080Z"
    },
    "papermill": {
     "duration": 0.028747,
     "end_time": "2025-07-30T19:55:07.725772",
     "exception": false,
     "start_time": "2025-07-30T19:55:07.697025",
     "status": "completed"
    },
    "tags": []
   },
   "outputs": [],
   "source": [
    "#siab_s = sample_by_year(siab, universe[\"training_size\"])"
   ]
  },
  {
   "cell_type": "code",
   "execution_count": 26,
   "id": "5db0a40e-a4e2-4920-be85-b12ae061d70d",
   "metadata": {
    "execution": {
     "iopub.execute_input": "2025-07-30T19:55:07.769485Z",
     "iopub.status.busy": "2025-07-30T19:55:07.768862Z",
     "iopub.status.idle": "2025-07-30T19:55:07.774164Z",
     "shell.execute_reply": "2025-07-30T19:55:07.773182Z"
    },
    "papermill": {
     "duration": 0.028552,
     "end_time": "2025-07-30T19:55:07.775656",
     "exception": false,
     "start_time": "2025-07-30T19:55:07.747104",
     "status": "completed"
    },
    "tags": []
   },
   "outputs": [],
   "source": [
    "#display(siab_s.groupby(\"year\").size())"
   ]
  },
  {
   "cell_type": "code",
   "execution_count": 27,
   "id": "e6c733c5",
   "metadata": {
    "execution": {
     "iopub.execute_input": "2025-07-30T19:55:07.819258Z",
     "iopub.status.busy": "2025-07-30T19:55:07.818683Z",
     "iopub.status.idle": "2025-07-30T19:55:07.913000Z",
     "shell.execute_reply": "2025-07-30T19:55:07.912090Z"
    },
    "papermill": {
     "duration": 0.118222,
     "end_time": "2025-07-30T19:55:07.915010",
     "exception": false,
     "start_time": "2025-07-30T19:55:07.796788",
     "status": "completed"
    },
    "tags": []
   },
   "outputs": [],
   "source": [
    "# Auxiliary data needed downstream in the pipeline\n",
    "\n",
    "org_train = X_train.copy()\n",
    "org_test = X_test.copy()\n",
    "org_calib = X_calib.copy()"
   ]
  },
  {
   "cell_type": "code",
   "execution_count": 28,
   "id": "1466abac-c6da-4492-a62f-4240ae3783af",
   "metadata": {
    "execution": {
     "iopub.execute_input": "2025-07-30T19:55:07.959545Z",
     "iopub.status.busy": "2025-07-30T19:55:07.958908Z",
     "iopub.status.idle": "2025-07-30T19:55:07.964645Z",
     "shell.execute_reply": "2025-07-30T19:55:07.963677Z"
    },
    "papermill": {
     "duration": 0.029183,
     "end_time": "2025-07-30T19:55:07.966307",
     "exception": false,
     "start_time": "2025-07-30T19:55:07.937124",
     "status": "completed"
    },
    "tags": []
   },
   "outputs": [],
   "source": [
    "# put in other script?\n",
    "# Group sizes\n",
    "\n",
    "#def calculate_percentages(df, df_name):\n",
    "#    total_entries = len(df)\n",
    "#\n",
    "#    female_pct = (df['frau1'] == 1).mean() * 100\n",
    "#    non_german_pct = ((df['maxdeutsch1'] == 0) & (df['maxdeutsch.Missing.'] == 0)).mean() * 100\n",
    "#    non_german_male_pct = ((df['frau1'] == 0) & (df['maxdeutsch1'] == 0) & (df['maxdeutsch.Missing.'] == 0)).mean() * 100\n",
    "#    non_german_female_pct = ((df['frau1'] == 1) & (df['maxdeutsch1'] == 0) & (df['maxdeutsch.Missing.'] == 0)).mean() * 100\n",
    "#\n",
    "#    print(f\"--- {df_name} ---\")\n",
    "#    print(f\"Female: {female_pct:.2f}%\")\n",
    "#    print(f\"Non-German: {non_german_pct:.2f}%\")\n",
    "#    print(f\"Non-German Male: {non_german_male_pct:.2f}%\")\n",
    "#    print(f\"Non-German Female: {non_german_female_pct:.2f}%\\n\")\n",
    "#\n",
    "## Calculate for each DataFrame\n",
    "#calculate_percentages(siab_calib, \"siab_calib\")\n",
    "#calculate_percentages(siab_test, \"siab_test\")\n",
    "#calculate_percentages(siab_train, \"siab_train\")"
   ]
  },
  {
   "cell_type": "markdown",
   "id": "0a4a1b33",
   "metadata": {
    "papermill": {
     "duration": 0.020999,
     "end_time": "2025-07-30T19:55:08.008984",
     "exception": false,
     "start_time": "2025-07-30T19:55:07.987985",
     "status": "completed"
    },
    "tags": []
   },
   "source": [
    "# Preprocessing Data"
   ]
  },
  {
   "cell_type": "code",
   "execution_count": 29,
   "id": "ca879031",
   "metadata": {
    "execution": {
     "iopub.execute_input": "2025-07-30T19:55:08.054206Z",
     "iopub.status.busy": "2025-07-30T19:55:08.053395Z",
     "iopub.status.idle": "2025-07-30T19:55:08.060853Z",
     "shell.execute_reply": "2025-07-30T19:55:08.059713Z"
    },
    "papermill": {
     "duration": 0.03239,
     "end_time": "2025-07-30T19:55:08.062575",
     "exception": false,
     "start_time": "2025-07-30T19:55:08.030185",
     "status": "completed"
    },
    "tags": []
   },
   "outputs": [],
   "source": [
    "# EXCLUDE PROTECTED FEATURES\n",
    "# ----------------------\n",
    "# \"exclude_features\": \"none\", # \"nationality\", \"sex\", \"nationality-sex\"\n",
    "\n",
    "excluded_features = universe[\"exclude_features\"].split(\"-\") # split, e.g.: \"nationality-sex\" -> [\"nationality\", \"sex\"]\n",
    "excluded_features_dictionary = {\n",
    "    \"nationality\": [\"maxdeutsch1\", \"maxdeutsch.Missing.\"],\n",
    "    \"sex\": [\"frau1\"],\n",
    "    \"age\": [\"age\"],\n",
    "}\n"
   ]
  },
  {
   "cell_type": "code",
   "execution_count": 30,
   "id": "b745ac60",
   "metadata": {
    "execution": {
     "iopub.execute_input": "2025-07-30T19:55:08.108196Z",
     "iopub.status.busy": "2025-07-30T19:55:08.107524Z",
     "iopub.status.idle": "2025-07-30T19:55:08.113146Z",
     "shell.execute_reply": "2025-07-30T19:55:08.112222Z"
    },
    "papermill": {
     "duration": 0.029342,
     "end_time": "2025-07-30T19:55:08.114640",
     "exception": false,
     "start_time": "2025-07-30T19:55:08.085298",
     "status": "completed"
    },
    "tags": []
   },
   "outputs": [],
   "source": [
    "# Code nice names to column names\n",
    "\n",
    "excluded_features_columns = [\n",
    "    excluded_features_dictionary[f] for f in excluded_features if len(f) > 0 and f != \"none\"\n",
    "]"
   ]
  },
  {
   "cell_type": "code",
   "execution_count": 31,
   "id": "f84f73a2",
   "metadata": {
    "execution": {
     "iopub.execute_input": "2025-07-30T19:55:08.158966Z",
     "iopub.status.busy": "2025-07-30T19:55:08.158357Z",
     "iopub.status.idle": "2025-07-30T19:55:08.164476Z",
     "shell.execute_reply": "2025-07-30T19:55:08.163491Z"
    },
    "papermill": {
     "duration": 0.02996,
     "end_time": "2025-07-30T19:55:08.166039",
     "exception": false,
     "start_time": "2025-07-30T19:55:08.136079",
     "status": "completed"
    },
    "tags": []
   },
   "outputs": [],
   "source": [
    "from utils import flatten_once\n",
    "\n",
    "excluded_features_columns = flatten_once(excluded_features_columns)"
   ]
  },
  {
   "cell_type": "code",
   "execution_count": 32,
   "id": "884dea22",
   "metadata": {
    "execution": {
     "iopub.execute_input": "2025-07-30T19:55:08.210548Z",
     "iopub.status.busy": "2025-07-30T19:55:08.209906Z",
     "iopub.status.idle": "2025-07-30T19:55:08.215734Z",
     "shell.execute_reply": "2025-07-30T19:55:08.214753Z"
    },
    "papermill": {
     "duration": 0.029866,
     "end_time": "2025-07-30T19:55:08.217261",
     "exception": false,
     "start_time": "2025-07-30T19:55:08.187395",
     "status": "completed"
    },
    "tags": []
   },
   "outputs": [],
   "source": [
    "if len(excluded_features_columns) > 0:\n",
    "    print(f\"Dropping features: {excluded_features_columns}\")\n",
    "    X_train.drop(excluded_features_columns, axis=1, inplace=True)"
   ]
  },
  {
   "cell_type": "code",
   "execution_count": 33,
   "id": "95ab8b16",
   "metadata": {
    "execution": {
     "iopub.execute_input": "2025-07-30T19:55:08.269395Z",
     "iopub.status.busy": "2025-07-30T19:55:08.268867Z",
     "iopub.status.idle": "2025-07-30T19:55:08.274684Z",
     "shell.execute_reply": "2025-07-30T19:55:08.273647Z"
    },
    "papermill": {
     "duration": 0.037037,
     "end_time": "2025-07-30T19:55:08.276291",
     "exception": false,
     "start_time": "2025-07-30T19:55:08.239254",
     "status": "completed"
    },
    "tags": []
   },
   "outputs": [],
   "source": [
    "if len(excluded_features_columns) > 0:\n",
    "    print(f\"Dropping features: {excluded_features_columns}\")\n",
    "    X_test.drop(excluded_features_columns, axis=1, inplace=True)"
   ]
  },
  {
   "cell_type": "code",
   "execution_count": 34,
   "id": "1853aaf5-fb9f-46cb-a2b5-8ea4ae2237e4",
   "metadata": {
    "execution": {
     "iopub.execute_input": "2025-07-30T19:55:08.321725Z",
     "iopub.status.busy": "2025-07-30T19:55:08.320757Z",
     "iopub.status.idle": "2025-07-30T19:55:08.326561Z",
     "shell.execute_reply": "2025-07-30T19:55:08.325551Z"
    },
    "papermill": {
     "duration": 0.029992,
     "end_time": "2025-07-30T19:55:08.328289",
     "exception": false,
     "start_time": "2025-07-30T19:55:08.298297",
     "status": "completed"
    },
    "tags": []
   },
   "outputs": [],
   "source": [
    "if len(excluded_features_columns) > 0:\n",
    "    print(f\"Dropping features: {excluded_features_columns}\")\n",
    "    X_calib.drop(excluded_features_columns, axis=1, inplace=True)"
   ]
  },
  {
   "cell_type": "code",
   "execution_count": 35,
   "id": "6727d079-03e5-481e-9d38-292a90b7a0a8",
   "metadata": {
    "execution": {
     "iopub.execute_input": "2025-07-30T19:55:08.374016Z",
     "iopub.status.busy": "2025-07-30T19:55:08.373525Z",
     "iopub.status.idle": "2025-07-30T19:55:08.378296Z",
     "shell.execute_reply": "2025-07-30T19:55:08.377297Z"
    },
    "papermill": {
     "duration": 0.029618,
     "end_time": "2025-07-30T19:55:08.380132",
     "exception": false,
     "start_time": "2025-07-30T19:55:08.350514",
     "status": "completed"
    },
    "tags": []
   },
   "outputs": [],
   "source": [
    "# SPLIT & STRATIFY DATA\n",
    "# ----------------------"
   ]
  },
  {
   "cell_type": "code",
   "execution_count": 36,
   "id": "76c4dc6d",
   "metadata": {
    "execution": {
     "iopub.execute_input": "2025-07-30T19:55:08.427411Z",
     "iopub.status.busy": "2025-07-30T19:55:08.426734Z",
     "iopub.status.idle": "2025-07-30T19:55:08.432502Z",
     "shell.execute_reply": "2025-07-30T19:55:08.431506Z"
    },
    "papermill": {
     "duration": 0.03107,
     "end_time": "2025-07-30T19:55:08.434185",
     "exception": false,
     "start_time": "2025-07-30T19:55:08.403115",
     "status": "completed"
    },
    "tags": []
   },
   "outputs": [],
   "source": [
    "# EXCLUDE CERTAIN SUBGROUPS\n",
    "# ----------------------\n",
    "\n",
    "mode = universe.get(\"exclude_subgroups\", \"keep-all\") \n",
    "# Fetches the exclude_subgroups setting from the universe dict.\n",
    "# Defaults to \"keep-all\" if the key is missing."
   ]
  },
  {
   "cell_type": "code",
   "execution_count": 37,
   "id": "21994072",
   "metadata": {
    "execution": {
     "iopub.execute_input": "2025-07-30T19:55:08.481782Z",
     "iopub.status.busy": "2025-07-30T19:55:08.481097Z",
     "iopub.status.idle": "2025-07-30T19:55:08.488501Z",
     "shell.execute_reply": "2025-07-30T19:55:08.487407Z"
    },
    "papermill": {
     "duration": 0.033646,
     "end_time": "2025-07-30T19:55:08.490266",
     "exception": false,
     "start_time": "2025-07-30T19:55:08.456620",
     "status": "completed"
    },
    "tags": []
   },
   "outputs": [],
   "source": [
    "if mode == \"keep-all\":\n",
    "    keep_mask = pd.Series(True, index=org_train.index)\n",
    "\n",
    "# org_train contains the original feature columns from features_org (in Simson)\n",
    "# features_org contains unprocessed features, for me X_train at beginning ???\n",
    "# For keep-all, creates a boolean Series (keep_mask) of all True, so no rows are removed.\n",
    "\n",
    "elif mode == \"drop-non-german\":\n",
    "    keep_mask = org_train[\"maxdeutsch1\"] == 1 # ??? what about missing values?\n",
    "\n",
    "else:\n",
    "    raise ValueError(f\"Unsupported mode for exclude_subgroups: {mode}\")\n"
   ]
  },
  {
   "cell_type": "code",
   "execution_count": 38,
   "id": "71651440",
   "metadata": {
    "execution": {
     "iopub.execute_input": "2025-07-30T19:55:08.536668Z",
     "iopub.status.busy": "2025-07-30T19:55:08.535979Z",
     "iopub.status.idle": "2025-07-30T19:55:08.543376Z",
     "shell.execute_reply": "2025-07-30T19:55:08.542438Z"
    },
    "papermill": {
     "duration": 0.031436,
     "end_time": "2025-07-30T19:55:08.544890",
     "exception": false,
     "start_time": "2025-07-30T19:55:08.513454",
     "status": "completed"
    },
    "tags": []
   },
   "outputs": [
    {
     "name": "stdout",
     "output_type": "stream",
     "text": [
      "Dropping 3688 rows (14.75%) where mode='drop-non-german'\n"
     ]
    }
   ],
   "source": [
    "n_drop = (~keep_mask).sum() # Calculates how many rows are set to be dropped\n",
    "if n_drop > 0:\n",
    "    pct = n_drop / len(keep_mask) * 100\n",
    "    print(f\"Dropping {n_drop} rows ({pct:.2f}%) where mode='{mode}'\")"
   ]
  },
  {
   "cell_type": "code",
   "execution_count": 39,
   "id": "5fb8eee5",
   "metadata": {
    "execution": {
     "iopub.execute_input": "2025-07-30T19:55:08.588672Z",
     "iopub.status.busy": "2025-07-30T19:55:08.587984Z",
     "iopub.status.idle": "2025-07-30T19:55:08.602361Z",
     "shell.execute_reply": "2025-07-30T19:55:08.601187Z"
    },
    "papermill": {
     "duration": 0.038131,
     "end_time": "2025-07-30T19:55:08.604370",
     "exception": false,
     "start_time": "2025-07-30T19:55:08.566239",
     "status": "completed"
    },
    "tags": []
   },
   "outputs": [],
   "source": [
    "X_train = X_train[keep_mask]"
   ]
  },
  {
   "cell_type": "code",
   "execution_count": 40,
   "id": "b202bb3a",
   "metadata": {
    "execution": {
     "iopub.execute_input": "2025-07-30T19:55:08.652072Z",
     "iopub.status.busy": "2025-07-30T19:55:08.651401Z",
     "iopub.status.idle": "2025-07-30T19:55:08.657595Z",
     "shell.execute_reply": "2025-07-30T19:55:08.656735Z"
    },
    "papermill": {
     "duration": 0.030495,
     "end_time": "2025-07-30T19:55:08.659172",
     "exception": false,
     "start_time": "2025-07-30T19:55:08.628677",
     "status": "completed"
    },
    "tags": []
   },
   "outputs": [],
   "source": [
    "y_train = y_train[keep_mask]"
   ]
  },
  {
   "cell_type": "markdown",
   "id": "493e2ac3",
   "metadata": {
    "papermill": {
     "duration": 0.021512,
     "end_time": "2025-07-30T19:55:08.702183",
     "exception": false,
     "start_time": "2025-07-30T19:55:08.680671",
     "status": "completed"
    },
    "tags": []
   },
   "source": [
    "# Model Training"
   ]
  },
  {
   "cell_type": "code",
   "execution_count": 41,
   "id": "679e1268",
   "metadata": {
    "execution": {
     "iopub.execute_input": "2025-07-30T19:55:08.747407Z",
     "iopub.status.busy": "2025-07-30T19:55:08.746710Z",
     "iopub.status.idle": "2025-07-30T19:55:08.851959Z",
     "shell.execute_reply": "2025-07-30T19:55:08.851029Z"
    },
    "papermill": {
     "duration": 0.13042,
     "end_time": "2025-07-30T19:55:08.853881",
     "exception": false,
     "start_time": "2025-07-30T19:55:08.723461",
     "status": "completed"
    },
    "tags": []
   },
   "outputs": [],
   "source": [
    "from sklearn.linear_model import LogisticRegression\n",
    "from sklearn.ensemble import GradientBoostingClassifier, RandomForestClassifier\n",
    "\n",
    "if (universe[\"model\"] == \"logreg\"):\n",
    "    model = LogisticRegression() #penalty=\"none\") #, solver=\"newton-cg\", max_iter=1) # include random_state=19 ?\n",
    "elif (universe[\"model\"] == \"penalized_logreg\"):\n",
    "    model = LogisticRegression(penalty=\"l2\", C=1.0) #, solver=\"newton-cg\", max_iter=1)\n",
    "elif (universe[\"model\"] == \"rf\"):\n",
    "    model = RandomForestClassifier(n_estimators=100, n_jobs=-1)\n",
    "elif (universe[\"model\"] == \"gbm\"):\n",
    "    model = GradientBoostingClassifier()\n",
    "elif (universe[\"model\"] == \"elasticnet\"):\n",
    "    model = LogisticRegression(penalty = 'elasticnet', solver = 'saga', l1_ratio = 0.5, max_iter=5000) # which solver to use?\n",
    "else:\n",
    "    raise \"Unsupported universe.model\""
   ]
  },
  {
   "cell_type": "code",
   "execution_count": 42,
   "id": "0cc8f744",
   "metadata": {
    "execution": {
     "iopub.execute_input": "2025-07-30T19:55:08.899499Z",
     "iopub.status.busy": "2025-07-30T19:55:08.898829Z",
     "iopub.status.idle": "2025-07-30T19:55:08.905498Z",
     "shell.execute_reply": "2025-07-30T19:55:08.904480Z"
    },
    "papermill": {
     "duration": 0.035253,
     "end_time": "2025-07-30T19:55:08.910742",
     "exception": false,
     "start_time": "2025-07-30T19:55:08.875489",
     "status": "completed"
    },
    "tags": []
   },
   "outputs": [],
   "source": [
    "import numpy as np\n",
    "from sklearn.pipeline import Pipeline\n",
    "from sklearn.preprocessing import StandardScaler\n",
    "\n",
    "model = Pipeline([\n",
    "    #(\"continuous_processor\", continuous_processor),\n",
    "    #(\"categorical_preprocessor\", categorical_preprocessor),\n",
    "    (\"scale\", StandardScaler() if universe[\"scale\"] == \"scale\" else None), \n",
    "    (\"model\", model),\n",
    "])"
   ]
  },
  {
   "cell_type": "code",
   "execution_count": 43,
   "id": "9442c04d",
   "metadata": {
    "execution": {
     "iopub.execute_input": "2025-07-30T19:55:08.955179Z",
     "iopub.status.busy": "2025-07-30T19:55:08.954509Z",
     "iopub.status.idle": "2025-07-30T19:55:35.244108Z",
     "shell.execute_reply": "2025-07-30T19:55:35.243252Z"
    },
    "papermill": {
     "duration": 26.313662,
     "end_time": "2025-07-30T19:55:35.245446",
     "exception": false,
     "start_time": "2025-07-30T19:55:08.931784",
     "status": "completed"
    },
    "tags": []
   },
   "outputs": [
    {
     "data": {
      "text/html": [
       "<style>#sk-container-id-1 {color: black;background-color: white;}#sk-container-id-1 pre{padding: 0;}#sk-container-id-1 div.sk-toggleable {background-color: white;}#sk-container-id-1 label.sk-toggleable__label {cursor: pointer;display: block;width: 100%;margin-bottom: 0;padding: 0.3em;box-sizing: border-box;text-align: center;}#sk-container-id-1 label.sk-toggleable__label-arrow:before {content: \"▸\";float: left;margin-right: 0.25em;color: #696969;}#sk-container-id-1 label.sk-toggleable__label-arrow:hover:before {color: black;}#sk-container-id-1 div.sk-estimator:hover label.sk-toggleable__label-arrow:before {color: black;}#sk-container-id-1 div.sk-toggleable__content {max-height: 0;max-width: 0;overflow: hidden;text-align: left;background-color: #f0f8ff;}#sk-container-id-1 div.sk-toggleable__content pre {margin: 0.2em;color: black;border-radius: 0.25em;background-color: #f0f8ff;}#sk-container-id-1 input.sk-toggleable__control:checked~div.sk-toggleable__content {max-height: 200px;max-width: 100%;overflow: auto;}#sk-container-id-1 input.sk-toggleable__control:checked~label.sk-toggleable__label-arrow:before {content: \"▾\";}#sk-container-id-1 div.sk-estimator input.sk-toggleable__control:checked~label.sk-toggleable__label {background-color: #d4ebff;}#sk-container-id-1 div.sk-label input.sk-toggleable__control:checked~label.sk-toggleable__label {background-color: #d4ebff;}#sk-container-id-1 input.sk-hidden--visually {border: 0;clip: rect(1px 1px 1px 1px);clip: rect(1px, 1px, 1px, 1px);height: 1px;margin: -1px;overflow: hidden;padding: 0;position: absolute;width: 1px;}#sk-container-id-1 div.sk-estimator {font-family: monospace;background-color: #f0f8ff;border: 1px dotted black;border-radius: 0.25em;box-sizing: border-box;margin-bottom: 0.5em;}#sk-container-id-1 div.sk-estimator:hover {background-color: #d4ebff;}#sk-container-id-1 div.sk-parallel-item::after {content: \"\";width: 100%;border-bottom: 1px solid gray;flex-grow: 1;}#sk-container-id-1 div.sk-label:hover label.sk-toggleable__label {background-color: #d4ebff;}#sk-container-id-1 div.sk-serial::before {content: \"\";position: absolute;border-left: 1px solid gray;box-sizing: border-box;top: 0;bottom: 0;left: 50%;z-index: 0;}#sk-container-id-1 div.sk-serial {display: flex;flex-direction: column;align-items: center;background-color: white;padding-right: 0.2em;padding-left: 0.2em;position: relative;}#sk-container-id-1 div.sk-item {position: relative;z-index: 1;}#sk-container-id-1 div.sk-parallel {display: flex;align-items: stretch;justify-content: center;background-color: white;position: relative;}#sk-container-id-1 div.sk-item::before, #sk-container-id-1 div.sk-parallel-item::before {content: \"\";position: absolute;border-left: 1px solid gray;box-sizing: border-box;top: 0;bottom: 0;left: 50%;z-index: -1;}#sk-container-id-1 div.sk-parallel-item {display: flex;flex-direction: column;z-index: 1;position: relative;background-color: white;}#sk-container-id-1 div.sk-parallel-item:first-child::after {align-self: flex-end;width: 50%;}#sk-container-id-1 div.sk-parallel-item:last-child::after {align-self: flex-start;width: 50%;}#sk-container-id-1 div.sk-parallel-item:only-child::after {width: 0;}#sk-container-id-1 div.sk-dashed-wrapped {border: 1px dashed gray;margin: 0 0.4em 0.5em 0.4em;box-sizing: border-box;padding-bottom: 0.4em;background-color: white;}#sk-container-id-1 div.sk-label label {font-family: monospace;font-weight: bold;display: inline-block;line-height: 1.2em;}#sk-container-id-1 div.sk-label-container {text-align: center;}#sk-container-id-1 div.sk-container {/* jupyter's `normalize.less` sets `[hidden] { display: none; }` but bootstrap.min.css set `[hidden] { display: none !important; }` so we also need the `!important` here to be able to override the default hidden behavior on the sphinx rendered scikit-learn.org. See: https://github.com/scikit-learn/scikit-learn/issues/21755 */display: inline-block !important;position: relative;}#sk-container-id-1 div.sk-text-repr-fallback {display: none;}</style><div id=\"sk-container-id-1\" class=\"sk-top-container\"><div class=\"sk-text-repr-fallback\"><pre>Pipeline(steps=[(&#x27;scale&#x27;, StandardScaler()),\n",
       "                (&#x27;model&#x27;,\n",
       "                 LogisticRegression(l1_ratio=0.5, max_iter=5000,\n",
       "                                    penalty=&#x27;elasticnet&#x27;, solver=&#x27;saga&#x27;))])</pre><b>In a Jupyter environment, please rerun this cell to show the HTML representation or trust the notebook. <br />On GitHub, the HTML representation is unable to render, please try loading this page with nbviewer.org.</b></div><div class=\"sk-container\" hidden><div class=\"sk-item sk-dashed-wrapped\"><div class=\"sk-label-container\"><div class=\"sk-label sk-toggleable\"><input class=\"sk-toggleable__control sk-hidden--visually\" id=\"sk-estimator-id-1\" type=\"checkbox\" ><label for=\"sk-estimator-id-1\" class=\"sk-toggleable__label sk-toggleable__label-arrow\">Pipeline</label><div class=\"sk-toggleable__content\"><pre>Pipeline(steps=[(&#x27;scale&#x27;, StandardScaler()),\n",
       "                (&#x27;model&#x27;,\n",
       "                 LogisticRegression(l1_ratio=0.5, max_iter=5000,\n",
       "                                    penalty=&#x27;elasticnet&#x27;, solver=&#x27;saga&#x27;))])</pre></div></div></div><div class=\"sk-serial\"><div class=\"sk-item\"><div class=\"sk-estimator sk-toggleable\"><input class=\"sk-toggleable__control sk-hidden--visually\" id=\"sk-estimator-id-2\" type=\"checkbox\" ><label for=\"sk-estimator-id-2\" class=\"sk-toggleable__label sk-toggleable__label-arrow\">StandardScaler</label><div class=\"sk-toggleable__content\"><pre>StandardScaler()</pre></div></div></div><div class=\"sk-item\"><div class=\"sk-estimator sk-toggleable\"><input class=\"sk-toggleable__control sk-hidden--visually\" id=\"sk-estimator-id-3\" type=\"checkbox\" ><label for=\"sk-estimator-id-3\" class=\"sk-toggleable__label sk-toggleable__label-arrow\">LogisticRegression</label><div class=\"sk-toggleable__content\"><pre>LogisticRegression(l1_ratio=0.5, max_iter=5000, penalty=&#x27;elasticnet&#x27;,\n",
       "                   solver=&#x27;saga&#x27;)</pre></div></div></div></div></div></div></div>"
      ],
      "text/plain": [
       "Pipeline(steps=[('scale', StandardScaler()),\n",
       "                ('model',\n",
       "                 LogisticRegression(l1_ratio=0.5, max_iter=5000,\n",
       "                                    penalty='elasticnet', solver='saga'))])"
      ]
     },
     "execution_count": 43,
     "metadata": {},
     "output_type": "execute_result"
    }
   ],
   "source": [
    "model.fit(X_train, y_train.values.ravel())"
   ]
  },
  {
   "cell_type": "code",
   "execution_count": 44,
   "id": "af59f8c0",
   "metadata": {
    "execution": {
     "iopub.execute_input": "2025-07-30T19:55:35.271831Z",
     "iopub.status.busy": "2025-07-30T19:55:35.271500Z",
     "iopub.status.idle": "2025-07-30T19:55:35.275919Z",
     "shell.execute_reply": "2025-07-30T19:55:35.275236Z"
    },
    "papermill": {
     "duration": 0.018119,
     "end_time": "2025-07-30T19:55:35.277383",
     "exception": false,
     "start_time": "2025-07-30T19:55:35.259264",
     "status": "completed"
    },
    "tags": []
   },
   "outputs": [],
   "source": [
    "from fairness_multiverse.universe import predict_w_threshold"
   ]
  },
  {
   "cell_type": "code",
   "execution_count": 45,
   "id": "a7cf2e16",
   "metadata": {
    "execution": {
     "iopub.execute_input": "2025-07-30T19:55:35.306081Z",
     "iopub.status.busy": "2025-07-30T19:55:35.305554Z",
     "iopub.status.idle": "2025-07-30T19:55:35.577862Z",
     "shell.execute_reply": "2025-07-30T19:55:35.576966Z"
    },
    "papermill": {
     "duration": 0.286236,
     "end_time": "2025-07-30T19:55:35.579536",
     "exception": false,
     "start_time": "2025-07-30T19:55:35.293300",
     "status": "completed"
    },
    "tags": []
   },
   "outputs": [
    {
     "data": {
      "text/plain": [
       "0.8655445323821201"
      ]
     },
     "execution_count": 45,
     "metadata": {},
     "output_type": "execute_result"
    }
   ],
   "source": [
    "probs_test = model.predict_proba(X_test)\n",
    "\n",
    "'''\n",
    "Below code returns a boolean array (or binary 0/1 array depending on how it’s used) where each element \n",
    "is True if the probability of class 1 is greater than or equal to the threshold, and False otherwise.\n",
    "'''\n",
    "y_pred_default = predict_w_threshold(probs_test, 0.5)\n",
    "\n",
    "from sklearn.metrics import accuracy_score\n",
    "\n",
    "# Naive prediction\n",
    "accuracy_score(y_true = y_true, y_pred = y_pred_default)"
   ]
  },
  {
   "cell_type": "code",
   "execution_count": 46,
   "id": "081964c3",
   "metadata": {
    "execution": {
     "iopub.execute_input": "2025-07-30T19:55:35.623255Z",
     "iopub.status.busy": "2025-07-30T19:55:35.622573Z",
     "iopub.status.idle": "2025-07-30T19:55:35.810379Z",
     "shell.execute_reply": "2025-07-30T19:55:35.809434Z"
    },
    "papermill": {
     "duration": 0.210787,
     "end_time": "2025-07-30T19:55:35.811946",
     "exception": false,
     "start_time": "2025-07-30T19:55:35.601159",
     "status": "completed"
    },
    "tags": []
   },
   "outputs": [
    {
     "data": {
      "text/plain": [
       "array([0, 0, 0, ..., 0, 0, 0])"
      ]
     },
     "execution_count": 46,
     "metadata": {},
     "output_type": "execute_result"
    }
   ],
   "source": [
    "model.predict(X_test)"
   ]
  },
  {
   "cell_type": "markdown",
   "id": "56c9705b",
   "metadata": {
    "papermill": {
     "duration": 0.021263,
     "end_time": "2025-07-30T19:55:35.854832",
     "exception": false,
     "start_time": "2025-07-30T19:55:35.833569",
     "status": "completed"
    },
    "tags": []
   },
   "source": [
    "# Conformal Prediction"
   ]
  },
  {
   "cell_type": "code",
   "execution_count": 47,
   "id": "160ec6ff",
   "metadata": {
    "execution": {
     "iopub.execute_input": "2025-07-30T19:55:35.898989Z",
     "iopub.status.busy": "2025-07-30T19:55:35.898166Z",
     "iopub.status.idle": "2025-07-30T19:55:35.903323Z",
     "shell.execute_reply": "2025-07-30T19:55:35.902406Z"
    },
    "papermill": {
     "duration": 0.028937,
     "end_time": "2025-07-30T19:55:35.905006",
     "exception": false,
     "start_time": "2025-07-30T19:55:35.876069",
     "status": "completed"
    },
    "tags": []
   },
   "outputs": [],
   "source": [
    "# Miscoverage level for conformal prediction (10% allowed error rate => 90% target coverage)\n",
    "alpha = 0.1"
   ]
  },
  {
   "cell_type": "code",
   "execution_count": 48,
   "id": "eadf4555-3dd3-440e-8e35-f82a4ad9f855",
   "metadata": {
    "execution": {
     "iopub.execute_input": "2025-07-30T19:55:35.956594Z",
     "iopub.status.busy": "2025-07-30T19:55:35.955922Z",
     "iopub.status.idle": "2025-07-30T19:55:36.130055Z",
     "shell.execute_reply": "2025-07-30T19:55:36.129142Z"
    },
    "papermill": {
     "duration": 0.202018,
     "end_time": "2025-07-30T19:55:36.132175",
     "exception": false,
     "start_time": "2025-07-30T19:55:35.930157",
     "status": "completed"
    },
    "tags": []
   },
   "outputs": [],
   "source": [
    "probs_calib = model.predict_proba(X_calib)"
   ]
  },
  {
   "cell_type": "code",
   "execution_count": 49,
   "id": "2ed93547-6d5d-4983-9b36-1ecb300da49a",
   "metadata": {
    "execution": {
     "iopub.execute_input": "2025-07-30T19:55:36.185456Z",
     "iopub.status.busy": "2025-07-30T19:55:36.184807Z",
     "iopub.status.idle": "2025-07-30T19:55:36.190190Z",
     "shell.execute_reply": "2025-07-30T19:55:36.189184Z"
    },
    "papermill": {
     "duration": 0.032485,
     "end_time": "2025-07-30T19:55:36.191860",
     "exception": false,
     "start_time": "2025-07-30T19:55:36.159375",
     "status": "completed"
    },
    "tags": []
   },
   "outputs": [],
   "source": [
    "y_calib = y_calib.values.ravel().astype(int)"
   ]
  },
  {
   "cell_type": "code",
   "execution_count": 50,
   "id": "65d1320d-f588-4b38-9072-62af1ae97f7d",
   "metadata": {
    "execution": {
     "iopub.execute_input": "2025-07-30T19:55:36.244547Z",
     "iopub.status.busy": "2025-07-30T19:55:36.243575Z",
     "iopub.status.idle": "2025-07-30T19:55:36.250893Z",
     "shell.execute_reply": "2025-07-30T19:55:36.249930Z"
    },
    "papermill": {
     "duration": 0.035454,
     "end_time": "2025-07-30T19:55:36.252721",
     "exception": false,
     "start_time": "2025-07-30T19:55:36.217267",
     "status": "completed"
    },
    "tags": []
   },
   "outputs": [],
   "source": [
    "from fairness_multiverse.conformal import compute_nc_scores\n",
    "\n",
    "# Compute nonconformity scores on calibration set (1 - probability of true class)\n",
    "nc_scores = compute_nc_scores(probs_calib, y_calib)"
   ]
  },
  {
   "cell_type": "code",
   "execution_count": 51,
   "id": "df3b8ca3-53b7-43d5-9667-7c85da7aeda2",
   "metadata": {
    "execution": {
     "iopub.execute_input": "2025-07-30T19:55:36.305513Z",
     "iopub.status.busy": "2025-07-30T19:55:36.304884Z",
     "iopub.status.idle": "2025-07-30T19:55:36.311915Z",
     "shell.execute_reply": "2025-07-30T19:55:36.311054Z"
    },
    "papermill": {
     "duration": 0.039586,
     "end_time": "2025-07-30T19:55:36.313475",
     "exception": false,
     "start_time": "2025-07-30T19:55:36.273889",
     "status": "completed"
    },
    "tags": []
   },
   "outputs": [],
   "source": [
    "from fairness_multiverse.conformal import find_threshold\n",
    "\n",
    "# Find conformal threshold q_hat for the given alpha (split conformal method)\n",
    "q_hat = find_threshold(nc_scores, alpha)"
   ]
  },
  {
   "cell_type": "code",
   "execution_count": 52,
   "id": "4d29e6c1-0ef6-4aa4-b8fe-4fe79b0d033a",
   "metadata": {
    "execution": {
     "iopub.execute_input": "2025-07-30T19:55:36.359223Z",
     "iopub.status.busy": "2025-07-30T19:55:36.358782Z",
     "iopub.status.idle": "2025-07-30T19:55:36.365613Z",
     "shell.execute_reply": "2025-07-30T19:55:36.364763Z"
    },
    "papermill": {
     "duration": 0.030876,
     "end_time": "2025-07-30T19:55:36.367109",
     "exception": false,
     "start_time": "2025-07-30T19:55:36.336233",
     "status": "completed"
    },
    "tags": []
   },
   "outputs": [
    {
     "data": {
      "text/plain": [
       "0.6755063117621318"
      ]
     },
     "execution_count": 52,
     "metadata": {},
     "output_type": "execute_result"
    }
   ],
   "source": [
    "q_hat"
   ]
  },
  {
   "cell_type": "code",
   "execution_count": 53,
   "id": "92460794-cdac-4be2-ba28-f28c0515a6fb",
   "metadata": {
    "execution": {
     "iopub.execute_input": "2025-07-30T19:55:36.411854Z",
     "iopub.status.busy": "2025-07-30T19:55:36.411242Z",
     "iopub.status.idle": "2025-07-30T19:55:37.064740Z",
     "shell.execute_reply": "2025-07-30T19:55:37.063939Z"
    },
    "papermill": {
     "duration": 0.677987,
     "end_time": "2025-07-30T19:55:37.066501",
     "exception": false,
     "start_time": "2025-07-30T19:55:36.388514",
     "status": "completed"
    },
    "tags": []
   },
   "outputs": [],
   "source": [
    "from fairness_multiverse.conformal import predict_conformal_sets\n",
    "\n",
    "# Generate prediction sets for each test example\n",
    "pred_sets = predict_conformal_sets(model, X_test, q_hat)"
   ]
  },
  {
   "cell_type": "code",
   "execution_count": 54,
   "id": "d90c9a65-e6db-4f5d-80cd-e68fb7e46829",
   "metadata": {
    "execution": {
     "iopub.execute_input": "2025-07-30T19:55:37.112798Z",
     "iopub.status.busy": "2025-07-30T19:55:37.111958Z",
     "iopub.status.idle": "2025-07-30T19:55:37.117497Z",
     "shell.execute_reply": "2025-07-30T19:55:37.116539Z"
    },
    "papermill": {
     "duration": 0.030739,
     "end_time": "2025-07-30T19:55:37.119159",
     "exception": false,
     "start_time": "2025-07-30T19:55:37.088420",
     "status": "completed"
    },
    "tags": []
   },
   "outputs": [],
   "source": [
    "y_true = y_true.squeeze()"
   ]
  },
  {
   "cell_type": "code",
   "execution_count": 55,
   "id": "3a58a54a-1e68-46b9-927a-df01f18aebc8",
   "metadata": {
    "execution": {
     "iopub.execute_input": "2025-07-30T19:55:37.163968Z",
     "iopub.status.busy": "2025-07-30T19:55:37.163300Z",
     "iopub.status.idle": "2025-07-30T19:55:38.020110Z",
     "shell.execute_reply": "2025-07-30T19:55:38.019250Z"
    },
    "papermill": {
     "duration": 0.880605,
     "end_time": "2025-07-30T19:55:38.021565",
     "exception": false,
     "start_time": "2025-07-30T19:55:37.140960",
     "status": "completed"
    },
    "tags": []
   },
   "outputs": [],
   "source": [
    "from fairness_multiverse.conformal import evaluate_sets\n",
    "\n",
    "# Evaluate coverage and average set size on test data\n",
    "metrics = evaluate_sets(pred_sets, y_true)"
   ]
  },
  {
   "cell_type": "markdown",
   "id": "2b569c12-9aaa-4c88-98c9-bbcd0cf3ebb8",
   "metadata": {
    "papermill": {
     "duration": 0.022721,
     "end_time": "2025-07-30T19:55:38.065549",
     "exception": false,
     "start_time": "2025-07-30T19:55:38.042828",
     "status": "completed"
    },
    "tags": []
   },
   "source": [
    "# CP Metrics"
   ]
  },
  {
   "cell_type": "code",
   "execution_count": 56,
   "id": "5ce0a5cb-201f-45a0-ade5-94c7f0bd6095",
   "metadata": {
    "execution": {
     "iopub.execute_input": "2025-07-30T19:55:38.112596Z",
     "iopub.status.busy": "2025-07-30T19:55:38.112224Z",
     "iopub.status.idle": "2025-07-30T19:55:38.119321Z",
     "shell.execute_reply": "2025-07-30T19:55:38.118412Z"
    },
    "papermill": {
     "duration": 0.032598,
     "end_time": "2025-07-30T19:55:38.120810",
     "exception": false,
     "start_time": "2025-07-30T19:55:38.088212",
     "status": "completed"
    },
    "tags": []
   },
   "outputs": [
    {
     "data": {
      "text/plain": [
       "{'coverage': 0.912540407981273, 'avg_size': 1.1252814624902463}"
      ]
     },
     "execution_count": 56,
     "metadata": {},
     "output_type": "execute_result"
    }
   ],
   "source": [
    "metrics"
   ]
  },
  {
   "cell_type": "code",
   "execution_count": 57,
   "id": "9b9a838d-31c9-430b-ae14-12baee460d17",
   "metadata": {
    "execution": {
     "iopub.execute_input": "2025-07-30T19:55:38.169459Z",
     "iopub.status.busy": "2025-07-30T19:55:38.167578Z",
     "iopub.status.idle": "2025-07-30T19:55:38.175058Z",
     "shell.execute_reply": "2025-07-30T19:55:38.174193Z"
    },
    "papermill": {
     "duration": 0.03344,
     "end_time": "2025-07-30T19:55:38.176622",
     "exception": false,
     "start_time": "2025-07-30T19:55:38.143182",
     "status": "completed"
    },
    "tags": []
   },
   "outputs": [],
   "source": [
    "example_universe = universe.copy()\n",
    "universe_training_year = example_universe.get(\"training_year\")\n",
    "universe_training_size = example_universe.get(\"training_size\")\n",
    "universe_scale = example_universe.get(\"scale\")\n",
    "universe_model = example_universe.get(\"model\")\n",
    "universe_exclude_features = example_universe.get(\"exclude_features\")\n",
    "universe_exclude_subgroups = example_universe.get(\"exclude_subgroups\")"
   ]
  },
  {
   "cell_type": "code",
   "execution_count": 58,
   "id": "f4b6a8ac-9dc0-4245-8a91-5b3b5999c4f9",
   "metadata": {
    "execution": {
     "iopub.execute_input": "2025-07-30T19:55:38.227450Z",
     "iopub.status.busy": "2025-07-30T19:55:38.226769Z",
     "iopub.status.idle": "2025-07-30T19:55:38.233397Z",
     "shell.execute_reply": "2025-07-30T19:55:38.232511Z"
    },
    "papermill": {
     "duration": 0.034681,
     "end_time": "2025-07-30T19:55:38.234888",
     "exception": false,
     "start_time": "2025-07-30T19:55:38.200207",
     "status": "completed"
    },
    "tags": []
   },
   "outputs": [],
   "source": [
    "cp_metrics_dict = {\n",
    "    \"universe_id\": [universe_id],\n",
    "    \"universe_training_year\": [universe_training_year],\n",
    "    \"universe_training_size\": [universe_training_size],\n",
    "    \"universe_scale\": [universe_scale],\n",
    "    \"universe_model\": [universe_model],\n",
    "    \"universe_exclude_features\": [universe_exclude_features],\n",
    "    \"universe_exclude_subgroups\": [universe_exclude_subgroups],\n",
    "    \"q_hat\": [q_hat],\n",
    "    \"coverage\": [metrics[\"coverage\"]],\n",
    "    \"avg_size\": [metrics[\"avg_size\"]],\n",
    "}"
   ]
  },
  {
   "cell_type": "code",
   "execution_count": 59,
   "id": "908acbb1-0371-4915-85ca-3fa520d2efe2",
   "metadata": {
    "execution": {
     "iopub.execute_input": "2025-07-30T19:55:38.281914Z",
     "iopub.status.busy": "2025-07-30T19:55:38.281259Z",
     "iopub.status.idle": "2025-07-30T19:55:38.288761Z",
     "shell.execute_reply": "2025-07-30T19:55:38.287881Z"
    },
    "papermill": {
     "duration": 0.032597,
     "end_time": "2025-07-30T19:55:38.290281",
     "exception": false,
     "start_time": "2025-07-30T19:55:38.257684",
     "status": "completed"
    },
    "tags": []
   },
   "outputs": [
    {
     "data": {
      "text/plain": [
       "{'universe_id': ['a2f5b00e3eceff8181cdf3dffe571a8a'],\n",
       " 'universe_training_year': ['2014'],\n",
       " 'universe_training_size': ['25k'],\n",
       " 'universe_scale': ['scale'],\n",
       " 'universe_model': ['elasticnet'],\n",
       " 'universe_exclude_features': ['none'],\n",
       " 'universe_exclude_subgroups': ['drop-non-german'],\n",
       " 'q_hat': [0.6755063117621318],\n",
       " 'coverage': [0.912540407981273],\n",
       " 'avg_size': [1.1252814624902463]}"
      ]
     },
     "execution_count": 59,
     "metadata": {},
     "output_type": "execute_result"
    }
   ],
   "source": [
    "cp_metrics_dict"
   ]
  },
  {
   "cell_type": "code",
   "execution_count": 60,
   "id": "33007efc-14e9-4ec6-97ac-56a455c82265",
   "metadata": {
    "execution": {
     "iopub.execute_input": "2025-07-30T19:55:38.337915Z",
     "iopub.status.busy": "2025-07-30T19:55:38.337299Z",
     "iopub.status.idle": "2025-07-30T19:55:38.344268Z",
     "shell.execute_reply": "2025-07-30T19:55:38.343256Z"
    },
    "papermill": {
     "duration": 0.03268,
     "end_time": "2025-07-30T19:55:38.345842",
     "exception": false,
     "start_time": "2025-07-30T19:55:38.313162",
     "status": "completed"
    },
    "tags": []
   },
   "outputs": [],
   "source": [
    "cp_metrics_df = pd.DataFrame(cp_metrics_dict)"
   ]
  },
  {
   "cell_type": "code",
   "execution_count": 61,
   "id": "db12611b-57b2-4910-b9d0-355adfd6e7bf",
   "metadata": {
    "execution": {
     "iopub.execute_input": "2025-07-30T19:55:38.392561Z",
     "iopub.status.busy": "2025-07-30T19:55:38.391914Z",
     "iopub.status.idle": "2025-07-30T19:55:38.410122Z",
     "shell.execute_reply": "2025-07-30T19:55:38.409257Z"
    },
    "papermill": {
     "duration": 0.04319,
     "end_time": "2025-07-30T19:55:38.411566",
     "exception": false,
     "start_time": "2025-07-30T19:55:38.368376",
     "status": "completed"
    },
    "tags": []
   },
   "outputs": [
    {
     "data": {
      "text/html": [
       "<div>\n",
       "<style scoped>\n",
       "    .dataframe tbody tr th:only-of-type {\n",
       "        vertical-align: middle;\n",
       "    }\n",
       "\n",
       "    .dataframe tbody tr th {\n",
       "        vertical-align: top;\n",
       "    }\n",
       "\n",
       "    .dataframe thead th {\n",
       "        text-align: right;\n",
       "    }\n",
       "</style>\n",
       "<table border=\"1\" class=\"dataframe\">\n",
       "  <thead>\n",
       "    <tr style=\"text-align: right;\">\n",
       "      <th></th>\n",
       "      <th>universe_id</th>\n",
       "      <th>universe_training_year</th>\n",
       "      <th>universe_training_size</th>\n",
       "      <th>universe_scale</th>\n",
       "      <th>universe_model</th>\n",
       "      <th>universe_exclude_features</th>\n",
       "      <th>universe_exclude_subgroups</th>\n",
       "      <th>q_hat</th>\n",
       "      <th>coverage</th>\n",
       "      <th>avg_size</th>\n",
       "    </tr>\n",
       "  </thead>\n",
       "  <tbody>\n",
       "    <tr>\n",
       "      <th>0</th>\n",
       "      <td>a2f5b00e3eceff8181cdf3dffe571a8a</td>\n",
       "      <td>2014</td>\n",
       "      <td>25k</td>\n",
       "      <td>scale</td>\n",
       "      <td>elasticnet</td>\n",
       "      <td>none</td>\n",
       "      <td>drop-non-german</td>\n",
       "      <td>0.675506</td>\n",
       "      <td>0.91254</td>\n",
       "      <td>1.125281</td>\n",
       "    </tr>\n",
       "  </tbody>\n",
       "</table>\n",
       "</div>"
      ],
      "text/plain": [
       "                        universe_id universe_training_year  \\\n",
       "0  a2f5b00e3eceff8181cdf3dffe571a8a                   2014   \n",
       "\n",
       "  universe_training_size universe_scale universe_model  \\\n",
       "0                    25k          scale     elasticnet   \n",
       "\n",
       "  universe_exclude_features universe_exclude_subgroups     q_hat  coverage  \\\n",
       "0                      none            drop-non-german  0.675506   0.91254   \n",
       "\n",
       "   avg_size  \n",
       "0  1.125281  "
      ]
     },
     "execution_count": 61,
     "metadata": {},
     "output_type": "execute_result"
    }
   ],
   "source": [
    "cp_metrics_df"
   ]
  },
  {
   "cell_type": "code",
   "execution_count": 62,
   "id": "b7fbde55-a0a1-47e4-9af6-fe4a17fa8c61",
   "metadata": {
    "execution": {
     "iopub.execute_input": "2025-07-30T19:55:38.459479Z",
     "iopub.status.busy": "2025-07-30T19:55:38.458738Z",
     "iopub.status.idle": "2025-07-30T19:55:38.464389Z",
     "shell.execute_reply": "2025-07-30T19:55:38.463375Z"
    },
    "papermill": {
     "duration": 0.031086,
     "end_time": "2025-07-30T19:55:38.465982",
     "exception": false,
     "start_time": "2025-07-30T19:55:38.434896",
     "status": "completed"
    },
    "tags": []
   },
   "outputs": [],
   "source": [
    "# Conditional Coverage & looking at subgroups"
   ]
  },
  {
   "cell_type": "code",
   "execution_count": 63,
   "id": "027ae886-68dd-4141-96c7-805a5450e1ef",
   "metadata": {
    "execution": {
     "iopub.execute_input": "2025-07-30T19:55:38.514526Z",
     "iopub.status.busy": "2025-07-30T19:55:38.514006Z",
     "iopub.status.idle": "2025-07-30T19:55:38.765028Z",
     "shell.execute_reply": "2025-07-30T19:55:38.764133Z"
    },
    "papermill": {
     "duration": 0.27712,
     "end_time": "2025-07-30T19:55:38.766893",
     "exception": false,
     "start_time": "2025-07-30T19:55:38.489773",
     "status": "completed"
    },
    "tags": []
   },
   "outputs": [],
   "source": [
    "from fairness_multiverse.conformal import build_cp_groups\n",
    "\n",
    "cp_groups_df = build_cp_groups(pred_sets, y_true, X_test.index, org_test)\n",
    "#needs universe_id and setting"
   ]
  },
  {
   "cell_type": "code",
   "execution_count": 64,
   "id": "01d5802c-663a-4d1f-9d69-e036faaffbf7",
   "metadata": {
    "execution": {
     "iopub.execute_input": "2025-07-30T19:55:38.816821Z",
     "iopub.status.busy": "2025-07-30T19:55:38.816173Z",
     "iopub.status.idle": "2025-07-30T19:55:38.821345Z",
     "shell.execute_reply": "2025-07-30T19:55:38.820468Z"
    },
    "papermill": {
     "duration": 0.031285,
     "end_time": "2025-07-30T19:55:38.822846",
     "exception": false,
     "start_time": "2025-07-30T19:55:38.791561",
     "status": "completed"
    },
    "tags": []
   },
   "outputs": [],
   "source": [
    "#delete\n",
    "#cp_groups_df"
   ]
  },
  {
   "cell_type": "code",
   "execution_count": 65,
   "id": "fa424af1-d1eb-443d-b717-2d279ada8408",
   "metadata": {
    "execution": {
     "iopub.execute_input": "2025-07-30T19:55:38.876183Z",
     "iopub.status.busy": "2025-07-30T19:55:38.875498Z",
     "iopub.status.idle": "2025-07-30T19:55:38.880713Z",
     "shell.execute_reply": "2025-07-30T19:55:38.879504Z"
    },
    "papermill": {
     "duration": 0.035098,
     "end_time": "2025-07-30T19:55:38.882649",
     "exception": false,
     "start_time": "2025-07-30T19:55:38.847551",
     "status": "completed"
    },
    "tags": []
   },
   "outputs": [],
   "source": [
    "#delete\n",
    "#percentage = (cp_groups_df['nongerman_female'] == 1).mean() * 100\n",
    "#print(percentage)\n"
   ]
  },
  {
   "cell_type": "code",
   "execution_count": 66,
   "id": "6cbdab96-b2b2-45af-ad54-d0516db2e28d",
   "metadata": {
    "execution": {
     "iopub.execute_input": "2025-07-30T19:55:38.930878Z",
     "iopub.status.busy": "2025-07-30T19:55:38.930345Z",
     "iopub.status.idle": "2025-07-30T19:55:40.492213Z",
     "shell.execute_reply": "2025-07-30T19:55:40.491216Z"
    },
    "papermill": {
     "duration": 1.587805,
     "end_time": "2025-07-30T19:55:40.494078",
     "exception": false,
     "start_time": "2025-07-30T19:55:38.906273",
     "status": "completed"
    },
    "tags": []
   },
   "outputs": [],
   "source": [
    "# Define covered = 1 if true_label is in the predicted set\n",
    "cp_groups_df['covered'] = cp_groups_df.apply(\n",
    "    lambda r: int(r['true_label'] in r['pred_set']),\n",
    "    axis=1\n",
    ")"
   ]
  },
  {
   "cell_type": "code",
   "execution_count": 67,
   "id": "338ff529-1a6b-4b87-a931-8e4788d52aad",
   "metadata": {
    "execution": {
     "iopub.execute_input": "2025-07-30T19:55:40.542787Z",
     "iopub.status.busy": "2025-07-30T19:55:40.542107Z",
     "iopub.status.idle": "2025-07-30T19:55:40.547727Z",
     "shell.execute_reply": "2025-07-30T19:55:40.546795Z"
    },
    "papermill": {
     "duration": 0.031353,
     "end_time": "2025-07-30T19:55:40.549264",
     "exception": false,
     "start_time": "2025-07-30T19:55:40.517911",
     "status": "completed"
    },
    "tags": []
   },
   "outputs": [],
   "source": [
    "#cp_groups_df"
   ]
  },
  {
   "cell_type": "code",
   "execution_count": 68,
   "id": "90032e27-66df-4540-9169-4e89cfbaa758",
   "metadata": {
    "execution": {
     "iopub.execute_input": "2025-07-30T19:55:40.597138Z",
     "iopub.status.busy": "2025-07-30T19:55:40.596201Z",
     "iopub.status.idle": "2025-07-30T19:55:40.607787Z",
     "shell.execute_reply": "2025-07-30T19:55:40.606953Z"
    },
    "papermill": {
     "duration": 0.036826,
     "end_time": "2025-07-30T19:55:40.609447",
     "exception": false,
     "start_time": "2025-07-30T19:55:40.572621",
     "status": "completed"
    },
    "tags": []
   },
   "outputs": [],
   "source": [
    "subgroups = ['frau1','nongerman','nongerman_male','nongerman_female']\n",
    "\n",
    "# Conditional coverage for subgroup==1\n",
    "cond_coverage = {\n",
    "    g: cp_groups_df.loc[cp_groups_df[g]==1, 'covered'].mean()\n",
    "    for g in subgroups\n",
    "}"
   ]
  },
  {
   "cell_type": "code",
   "execution_count": 69,
   "id": "1e348fb1-b9c3-45bc-ba23-f016827a7e0d",
   "metadata": {
    "execution": {
     "iopub.execute_input": "2025-07-30T19:55:40.657179Z",
     "iopub.status.busy": "2025-07-30T19:55:40.656387Z",
     "iopub.status.idle": "2025-07-30T19:55:40.663393Z",
     "shell.execute_reply": "2025-07-30T19:55:40.662601Z"
    },
    "papermill": {
     "duration": 0.032384,
     "end_time": "2025-07-30T19:55:40.665033",
     "exception": false,
     "start_time": "2025-07-30T19:55:40.632649",
     "status": "completed"
    },
    "tags": []
   },
   "outputs": [
    {
     "data": {
      "text/plain": [
       "{'frau1': 0.9114705485914544,\n",
       " 'nongerman': 0.9120866782686802,\n",
       " 'nongerman_male': 0.9277672701071782,\n",
       " 'nongerman_female': 0.886140089418778}"
      ]
     },
     "execution_count": 69,
     "metadata": {},
     "output_type": "execute_result"
    }
   ],
   "source": [
    "cond_coverage"
   ]
  },
  {
   "cell_type": "code",
   "execution_count": 70,
   "id": "f5093324-c3dd-4d63-bc4c-8d945e5c8bbb",
   "metadata": {
    "execution": {
     "iopub.execute_input": "2025-07-30T19:55:40.695080Z",
     "iopub.status.busy": "2025-07-30T19:55:40.694687Z",
     "iopub.status.idle": "2025-07-30T19:55:40.701637Z",
     "shell.execute_reply": "2025-07-30T19:55:40.700851Z"
    },
    "papermill": {
     "duration": 0.02183,
     "end_time": "2025-07-30T19:55:40.702980",
     "exception": false,
     "start_time": "2025-07-30T19:55:40.681150",
     "status": "completed"
    },
    "tags": []
   },
   "outputs": [],
   "source": [
    "for subgroup, cov in cond_coverage.items():\n",
    "    cp_metrics_df[f\"cov_{subgroup}\"] = cov"
   ]
  },
  {
   "cell_type": "code",
   "execution_count": 71,
   "id": "6e872e10-dbe5-49e8-b554-5030c98ff75d",
   "metadata": {
    "execution": {
     "iopub.execute_input": "2025-07-30T19:55:40.730733Z",
     "iopub.status.busy": "2025-07-30T19:55:40.730480Z",
     "iopub.status.idle": "2025-07-30T19:55:40.743830Z",
     "shell.execute_reply": "2025-07-30T19:55:40.743172Z"
    },
    "papermill": {
     "duration": 0.028788,
     "end_time": "2025-07-30T19:55:40.745191",
     "exception": false,
     "start_time": "2025-07-30T19:55:40.716403",
     "status": "completed"
    },
    "tags": []
   },
   "outputs": [
    {
     "data": {
      "text/html": [
       "<div>\n",
       "<style scoped>\n",
       "    .dataframe tbody tr th:only-of-type {\n",
       "        vertical-align: middle;\n",
       "    }\n",
       "\n",
       "    .dataframe tbody tr th {\n",
       "        vertical-align: top;\n",
       "    }\n",
       "\n",
       "    .dataframe thead th {\n",
       "        text-align: right;\n",
       "    }\n",
       "</style>\n",
       "<table border=\"1\" class=\"dataframe\">\n",
       "  <thead>\n",
       "    <tr style=\"text-align: right;\">\n",
       "      <th></th>\n",
       "      <th>universe_id</th>\n",
       "      <th>universe_training_year</th>\n",
       "      <th>universe_training_size</th>\n",
       "      <th>universe_scale</th>\n",
       "      <th>universe_model</th>\n",
       "      <th>universe_exclude_features</th>\n",
       "      <th>universe_exclude_subgroups</th>\n",
       "      <th>q_hat</th>\n",
       "      <th>coverage</th>\n",
       "      <th>avg_size</th>\n",
       "      <th>cov_frau1</th>\n",
       "      <th>cov_nongerman</th>\n",
       "      <th>cov_nongerman_male</th>\n",
       "      <th>cov_nongerman_female</th>\n",
       "    </tr>\n",
       "  </thead>\n",
       "  <tbody>\n",
       "    <tr>\n",
       "      <th>0</th>\n",
       "      <td>a2f5b00e3eceff8181cdf3dffe571a8a</td>\n",
       "      <td>2014</td>\n",
       "      <td>25k</td>\n",
       "      <td>scale</td>\n",
       "      <td>elasticnet</td>\n",
       "      <td>none</td>\n",
       "      <td>drop-non-german</td>\n",
       "      <td>0.675506</td>\n",
       "      <td>0.91254</td>\n",
       "      <td>1.125281</td>\n",
       "      <td>0.911471</td>\n",
       "      <td>0.912087</td>\n",
       "      <td>0.927767</td>\n",
       "      <td>0.88614</td>\n",
       "    </tr>\n",
       "  </tbody>\n",
       "</table>\n",
       "</div>"
      ],
      "text/plain": [
       "                        universe_id universe_training_year  \\\n",
       "0  a2f5b00e3eceff8181cdf3dffe571a8a                   2014   \n",
       "\n",
       "  universe_training_size universe_scale universe_model  \\\n",
       "0                    25k          scale     elasticnet   \n",
       "\n",
       "  universe_exclude_features universe_exclude_subgroups     q_hat  coverage  \\\n",
       "0                      none            drop-non-german  0.675506   0.91254   \n",
       "\n",
       "   avg_size  cov_frau1  cov_nongerman  cov_nongerman_male  \\\n",
       "0  1.125281   0.911471       0.912087            0.927767   \n",
       "\n",
       "   cov_nongerman_female  \n",
       "0               0.88614  "
      ]
     },
     "execution_count": 71,
     "metadata": {},
     "output_type": "execute_result"
    }
   ],
   "source": [
    "cp_metrics_df"
   ]
  },
  {
   "cell_type": "markdown",
   "id": "33774451",
   "metadata": {
    "papermill": {
     "duration": 0.012948,
     "end_time": "2025-07-30T19:55:40.771242",
     "exception": false,
     "start_time": "2025-07-30T19:55:40.758294",
     "status": "completed"
    },
    "tags": []
   },
   "source": [
    "# (Fairness) Metrics"
   ]
  },
  {
   "cell_type": "code",
   "execution_count": 72,
   "id": "debc5d62",
   "metadata": {
    "execution": {
     "iopub.execute_input": "2025-07-30T19:55:40.799739Z",
     "iopub.status.busy": "2025-07-30T19:55:40.799249Z",
     "iopub.status.idle": "2025-07-30T19:55:40.814761Z",
     "shell.execute_reply": "2025-07-30T19:55:40.814085Z"
    },
    "papermill": {
     "duration": 0.031997,
     "end_time": "2025-07-30T19:55:40.816017",
     "exception": false,
     "start_time": "2025-07-30T19:55:40.784020",
     "status": "completed"
    },
    "tags": []
   },
   "outputs": [],
   "source": [
    "# do I need to include maxdeutsch1.missing?\n",
    "\n",
    "import numpy as np\n",
    "\n",
    "colname_to_bin = \"maxdeutsch1\"\n",
    "majority_value = org_train[colname_to_bin].mode()[0]\n",
    "\n",
    "org_test[\"majmin\"] = np.where(org_test[colname_to_bin] == majority_value, \"majority\", \"minority\")"
   ]
  },
  {
   "cell_type": "code",
   "execution_count": 73,
   "id": "06a50de5",
   "metadata": {
    "execution": {
     "iopub.execute_input": "2025-07-30T19:55:40.856945Z",
     "iopub.status.busy": "2025-07-30T19:55:40.856228Z",
     "iopub.status.idle": "2025-07-30T19:55:42.877826Z",
     "shell.execute_reply": "2025-07-30T19:55:42.876832Z"
    },
    "papermill": {
     "duration": 2.050428,
     "end_time": "2025-07-30T19:55:42.880027",
     "exception": false,
     "start_time": "2025-07-30T19:55:40.829599",
     "status": "completed"
    },
    "tags": []
   },
   "outputs": [],
   "source": [
    "example_universe = universe.copy()\n",
    "example_universe[\"cutoff\"] = example_universe[\"cutoff\"][0]\n",
    "example_universe[\"eval_fairness_grouping\"] = example_universe[\"eval_fairness_grouping\"][0]\n",
    "fairness_dict, metric_frame = universe_analysis.compute_metrics(\n",
    "    example_universe,\n",
    "    y_pred_prob=probs_test,\n",
    "    y_test=y_true,\n",
    "    org_test=org_test,\n",
    ")"
   ]
  },
  {
   "cell_type": "markdown",
   "id": "f95d4e02",
   "metadata": {
    "papermill": {
     "duration": 0.028876,
     "end_time": "2025-07-30T19:55:42.939439",
     "exception": false,
     "start_time": "2025-07-30T19:55:42.910563",
     "status": "completed"
    },
    "tags": []
   },
   "source": [
    "# Overall"
   ]
  },
  {
   "cell_type": "markdown",
   "id": "bdee4871",
   "metadata": {
    "papermill": {
     "duration": 0.028988,
     "end_time": "2025-07-30T19:55:42.998148",
     "exception": false,
     "start_time": "2025-07-30T19:55:42.969160",
     "status": "completed"
    },
    "tags": []
   },
   "source": [
    "Fairness\n",
    "Main fairness target: Equalized Odds. Seems to be a better fit than equal opportunity, since we're not only interested in Y = 1. Seems to be a better fit than demographic parity, since we also care about accuracy, not just equal distribution of preds.\n",
    "\n",
    "Pick column for computation of fairness metrics\n",
    "\n",
    "Performance\n",
    "Overall performance measures, most interesting in relation to the measures split by group below"
   ]
  },
  {
   "cell_type": "code",
   "execution_count": 74,
   "id": "c4e067c6",
   "metadata": {
    "execution": {
     "iopub.execute_input": "2025-07-30T19:55:43.059937Z",
     "iopub.status.busy": "2025-07-30T19:55:43.059342Z",
     "iopub.status.idle": "2025-07-30T19:55:43.069043Z",
     "shell.execute_reply": "2025-07-30T19:55:43.067980Z"
    },
    "papermill": {
     "duration": 0.041383,
     "end_time": "2025-07-30T19:55:43.070736",
     "exception": false,
     "start_time": "2025-07-30T19:55:43.029353",
     "status": "completed"
    },
    "tags": []
   },
   "outputs": [
    {
     "data": {
      "text/plain": [
       "accuracy                   0.225426\n",
       "balanced accuracy          0.550978\n",
       "f1                         0.246729\n",
       "precision                  0.140948\n",
       "false positive rate        0.886921\n",
       "false negative rate        0.011123\n",
       "selection rate             0.900000\n",
       "count                  89710.000000\n",
       "dtype: float64"
      ]
     },
     "execution_count": 74,
     "metadata": {},
     "output_type": "execute_result"
    }
   ],
   "source": [
    "metric_frame.overall"
   ]
  },
  {
   "cell_type": "markdown",
   "id": "e968fe9d",
   "metadata": {
    "papermill": {
     "duration": 0.028272,
     "end_time": "2025-07-30T19:55:43.128516",
     "exception": false,
     "start_time": "2025-07-30T19:55:43.100244",
     "status": "completed"
    },
    "tags": []
   },
   "source": [
    "By Group"
   ]
  },
  {
   "cell_type": "code",
   "execution_count": 75,
   "id": "ec325bce",
   "metadata": {
    "execution": {
     "iopub.execute_input": "2025-07-30T19:55:43.186292Z",
     "iopub.status.busy": "2025-07-30T19:55:43.185358Z",
     "iopub.status.idle": "2025-07-30T19:55:43.202710Z",
     "shell.execute_reply": "2025-07-30T19:55:43.201567Z"
    },
    "papermill": {
     "duration": 0.048005,
     "end_time": "2025-07-30T19:55:43.204532",
     "exception": false,
     "start_time": "2025-07-30T19:55:43.156527",
     "status": "completed"
    },
    "tags": []
   },
   "outputs": [
    {
     "data": {
      "text/html": [
       "<div>\n",
       "<style scoped>\n",
       "    .dataframe tbody tr th:only-of-type {\n",
       "        vertical-align: middle;\n",
       "    }\n",
       "\n",
       "    .dataframe tbody tr th {\n",
       "        vertical-align: top;\n",
       "    }\n",
       "\n",
       "    .dataframe thead th {\n",
       "        text-align: right;\n",
       "    }\n",
       "</style>\n",
       "<table border=\"1\" class=\"dataframe\">\n",
       "  <thead>\n",
       "    <tr style=\"text-align: right;\">\n",
       "      <th></th>\n",
       "      <th>accuracy</th>\n",
       "      <th>balanced accuracy</th>\n",
       "      <th>f1</th>\n",
       "      <th>precision</th>\n",
       "      <th>false positive rate</th>\n",
       "      <th>false negative rate</th>\n",
       "      <th>selection rate</th>\n",
       "      <th>count</th>\n",
       "    </tr>\n",
       "    <tr>\n",
       "      <th>majmin</th>\n",
       "      <th></th>\n",
       "      <th></th>\n",
       "      <th></th>\n",
       "      <th></th>\n",
       "      <th></th>\n",
       "      <th></th>\n",
       "      <th></th>\n",
       "      <th></th>\n",
       "    </tr>\n",
       "  </thead>\n",
       "  <tbody>\n",
       "    <tr>\n",
       "      <th>majority</th>\n",
       "      <td>0.246393</td>\n",
       "      <td>0.560631</td>\n",
       "      <td>0.257270</td>\n",
       "      <td>0.147896</td>\n",
       "      <td>0.866483</td>\n",
       "      <td>0.012254</td>\n",
       "      <td>0.882507</td>\n",
       "      <td>69170.0</td>\n",
       "    </tr>\n",
       "    <tr>\n",
       "      <th>minority</th>\n",
       "      <td>0.154820</td>\n",
       "      <td>0.519404</td>\n",
       "      <td>0.213198</td>\n",
       "      <td>0.119415</td>\n",
       "      <td>0.954435</td>\n",
       "      <td>0.006757</td>\n",
       "      <td>0.958909</td>\n",
       "      <td>20540.0</td>\n",
       "    </tr>\n",
       "  </tbody>\n",
       "</table>\n",
       "</div>"
      ],
      "text/plain": [
       "          accuracy  balanced accuracy        f1  precision  \\\n",
       "majmin                                                       \n",
       "majority  0.246393           0.560631  0.257270   0.147896   \n",
       "minority  0.154820           0.519404  0.213198   0.119415   \n",
       "\n",
       "          false positive rate  false negative rate  selection rate    count  \n",
       "majmin                                                                       \n",
       "majority             0.866483             0.012254        0.882507  69170.0  \n",
       "minority             0.954435             0.006757        0.958909  20540.0  "
      ]
     },
     "execution_count": 75,
     "metadata": {},
     "output_type": "execute_result"
    }
   ],
   "source": [
    "metric_frame.by_group"
   ]
  },
  {
   "cell_type": "code",
   "execution_count": 76,
   "id": "a9ddbe63",
   "metadata": {
    "execution": {
     "iopub.execute_input": "2025-07-30T19:55:43.265350Z",
     "iopub.status.busy": "2025-07-30T19:55:43.264617Z",
     "iopub.status.idle": "2025-07-30T19:55:45.769258Z",
     "shell.execute_reply": "2025-07-30T19:55:45.768449Z"
    },
    "papermill": {
     "duration": 2.536575,
     "end_time": "2025-07-30T19:55:45.770553",
     "exception": false,
     "start_time": "2025-07-30T19:55:43.233978",
     "status": "completed"
    },
    "tags": []
   },
   "outputs": [
    {
     "data": {
      "text/plain": [
       "array([[<Axes: title={'center': 'accuracy'}, xlabel='majmin'>,\n",
       "        <Axes: title={'center': 'balanced accuracy'}, xlabel='majmin'>,\n",
       "        <Axes: title={'center': 'f1'}, xlabel='majmin'>],\n",
       "       [<Axes: title={'center': 'precision'}, xlabel='majmin'>,\n",
       "        <Axes: title={'center': 'false positive rate'}, xlabel='majmin'>,\n",
       "        <Axes: title={'center': 'false negative rate'}, xlabel='majmin'>],\n",
       "       [<Axes: title={'center': 'selection rate'}, xlabel='majmin'>,\n",
       "        <Axes: title={'center': 'count'}, xlabel='majmin'>,\n",
       "        <Axes: xlabel='majmin'>]], dtype=object)"
      ]
     },
     "execution_count": 76,
     "metadata": {},
     "output_type": "execute_result"
    },
    {
     "data": {
      "image/png": "[encoded data removed]",
      "text/plain": [
       "<Figure size 1200x800 with 9 Axes>"
      ]
     },
     "metadata": {},
     "output_type": "display_data"
    }
   ],
   "source": [
    "# In a graphic\n",
    "metric_frame.by_group.plot.bar(\n",
    "    subplots=True,\n",
    "    layout=[3, 3],\n",
    "    legend=False,\n",
    "    figsize=[12, 8],\n",
    "    title=\"Show all metrics\",\n",
    ")"
   ]
  },
  {
   "cell_type": "markdown",
   "id": "f57a0bac",
   "metadata": {
    "papermill": {
     "duration": 0.014588,
     "end_time": "2025-07-30T19:55:45.800697",
     "exception": false,
     "start_time": "2025-07-30T19:55:45.786109",
     "status": "completed"
    },
    "tags": []
   },
   "source": [
    "# Final Output"
   ]
  },
  {
   "cell_type": "code",
   "execution_count": 77,
   "id": "96d280a3",
   "metadata": {
    "execution": {
     "iopub.execute_input": "2025-07-30T19:55:45.831592Z",
     "iopub.status.busy": "2025-07-30T19:55:45.831006Z",
     "iopub.status.idle": "2025-07-30T19:55:45.839528Z",
     "shell.execute_reply": "2025-07-30T19:55:45.838840Z"
    },
    "papermill": {
     "duration": 0.025621,
     "end_time": "2025-07-30T19:55:45.840819",
     "exception": false,
     "start_time": "2025-07-30T19:55:45.815198",
     "status": "completed"
    },
    "tags": []
   },
   "outputs": [
    {
     "data": {
      "text/plain": [
       "4"
      ]
     },
     "execution_count": 77,
     "metadata": {},
     "output_type": "execute_result"
    }
   ],
   "source": [
    "sub_universes = universe_analysis.generate_sub_universes()\n",
    "len(sub_universes)"
   ]
  },
  {
   "cell_type": "code",
   "execution_count": 78,
   "id": "92adf7ba",
   "metadata": {
    "execution": {
     "iopub.execute_input": "2025-07-30T19:55:45.874058Z",
     "iopub.status.busy": "2025-07-30T19:55:45.873683Z",
     "iopub.status.idle": "2025-07-30T19:55:45.897894Z",
     "shell.execute_reply": "2025-07-30T19:55:45.897062Z"
    },
    "papermill": {
     "duration": 0.04225,
     "end_time": "2025-07-30T19:55:45.899341",
     "exception": false,
     "start_time": "2025-07-30T19:55:45.857091",
     "status": "completed"
    },
    "tags": []
   },
   "outputs": [],
   "source": [
    "def filter_sub_universe_data(sub_universe, org_test):\n",
    "    # Keep all rows — no filtering\n",
    "    keep_rows_mask = np.ones(org_test.shape[0], dtype=bool)\n",
    "\n",
    "    print(f\"[INFO] Keeping all rows: {keep_rows_mask.sum()} rows retained.\")\n",
    "    return keep_rows_mask"
   ]
  },
  {
   "cell_type": "code",
   "execution_count": 79,
   "id": "4a759155",
   "metadata": {
    "execution": {
     "iopub.execute_input": "2025-07-30T19:55:45.931150Z",
     "iopub.status.busy": "2025-07-30T19:55:45.930649Z",
     "iopub.status.idle": "2025-07-30T19:55:53.047013Z",
     "shell.execute_reply": "2025-07-30T19:55:53.046095Z"
    },
    "papermill": {
     "duration": 7.133633,
     "end_time": "2025-07-30T19:55:53.048547",
     "exception": false,
     "start_time": "2025-07-30T19:55:45.914914",
     "status": "completed"
    },
    "tags": []
   },
   "outputs": [
    {
     "name": "stdout",
     "output_type": "stream",
     "text": [
      "Stopping execution_time clock.\n",
      "[INFO] Keeping all rows: 89710 rows retained.\n"
     ]
    },
    {
     "name": "stdout",
     "output_type": "stream",
     "text": [
      "[INFO] Keeping all rows: 89710 rows retained.\n"
     ]
    },
    {
     "name": "stdout",
     "output_type": "stream",
     "text": [
      "[INFO] Keeping all rows: 89710 rows retained.\n"
     ]
    },
    {
     "name": "stdout",
     "output_type": "stream",
     "text": [
      "[INFO] Keeping all rows: 89710 rows retained.\n"
     ]
    },
    {
     "data": {
      "text/html": [
       "<div>\n",
       "<style scoped>\n",
       "    .dataframe tbody tr th:only-of-type {\n",
       "        vertical-align: middle;\n",
       "    }\n",
       "\n",
       "    .dataframe tbody tr th {\n",
       "        vertical-align: top;\n",
       "    }\n",
       "\n",
       "    .dataframe thead th {\n",
       "        text-align: right;\n",
       "    }\n",
       "</style>\n",
       "<table border=\"1\" class=\"dataframe\">\n",
       "  <thead>\n",
       "    <tr style=\"text-align: right;\">\n",
       "      <th></th>\n",
       "      <th>run_no</th>\n",
       "      <th>universe_id</th>\n",
       "      <th>universe_settings</th>\n",
       "      <th>execution_time</th>\n",
       "      <th>test_size_n</th>\n",
       "      <th>test_size_frac</th>\n",
       "      <th>fair_main_equalized_odds_difference</th>\n",
       "      <th>fair_main_equalized_odds_ratio</th>\n",
       "      <th>fair_main_demographic_parity_difference</th>\n",
       "      <th>fair_main_demographic_parity_ratio</th>\n",
       "      <th>...</th>\n",
       "      <th>perf_grp_precision_0</th>\n",
       "      <th>perf_grp_precision_1</th>\n",
       "      <th>perf_grp_false positive rate_0</th>\n",
       "      <th>perf_grp_false positive rate_1</th>\n",
       "      <th>perf_grp_false negative rate_0</th>\n",
       "      <th>perf_grp_false negative rate_1</th>\n",
       "      <th>perf_grp_selection rate_0</th>\n",
       "      <th>perf_grp_selection rate_1</th>\n",
       "      <th>perf_grp_count_0</th>\n",
       "      <th>perf_grp_count_1</th>\n",
       "    </tr>\n",
       "  </thead>\n",
       "  <tbody>\n",
       "    <tr>\n",
       "      <th>0</th>\n",
       "      <td>14</td>\n",
       "      <td>a2f5b00e3eceff8181cdf3dffe571a8a</td>\n",
       "      <td>{\"cutoff\": \"quantile_0.1\", \"eval_fairness_grou...</td>\n",
       "      <td>53.040025</td>\n",
       "      <td>89710</td>\n",
       "      <td>1.0</td>\n",
       "      <td>0.087952</td>\n",
       "      <td>0.907849</td>\n",
       "      <td>0.076403</td>\n",
       "      <td>0.920323</td>\n",
       "      <td>...</td>\n",
       "      <td>NaN</td>\n",
       "      <td>NaN</td>\n",
       "      <td>NaN</td>\n",
       "      <td>NaN</td>\n",
       "      <td>NaN</td>\n",
       "      <td>NaN</td>\n",
       "      <td>NaN</td>\n",
       "      <td>NaN</td>\n",
       "      <td>NaN</td>\n",
       "      <td>NaN</td>\n",
       "    </tr>\n",
       "    <tr>\n",
       "      <th>0</th>\n",
       "      <td>14</td>\n",
       "      <td>a2f5b00e3eceff8181cdf3dffe571a8a</td>\n",
       "      <td>{\"cutoff\": \"quantile_0.1\", \"eval_fairness_grou...</td>\n",
       "      <td>53.040025</td>\n",
       "      <td>89710</td>\n",
       "      <td>1.0</td>\n",
       "      <td>0.087952</td>\n",
       "      <td>0.907849</td>\n",
       "      <td>0.076403</td>\n",
       "      <td>0.920323</td>\n",
       "      <td>...</td>\n",
       "      <td>0.119415</td>\n",
       "      <td>0.147896</td>\n",
       "      <td>0.954435</td>\n",
       "      <td>0.866483</td>\n",
       "      <td>0.006757</td>\n",
       "      <td>0.012254</td>\n",
       "      <td>0.958909</td>\n",
       "      <td>0.882507</td>\n",
       "      <td>20540.0</td>\n",
       "      <td>69170.0</td>\n",
       "    </tr>\n",
       "    <tr>\n",
       "      <th>0</th>\n",
       "      <td>14</td>\n",
       "      <td>a2f5b00e3eceff8181cdf3dffe571a8a</td>\n",
       "      <td>{\"cutoff\": \"quantile_0.25\", \"eval_fairness_gro...</td>\n",
       "      <td>53.040025</td>\n",
       "      <td>89710</td>\n",
       "      <td>1.0</td>\n",
       "      <td>0.161577</td>\n",
       "      <td>0.808668</td>\n",
       "      <td>0.139616</td>\n",
       "      <td>0.837210</td>\n",
       "      <td>...</td>\n",
       "      <td>NaN</td>\n",
       "      <td>NaN</td>\n",
       "      <td>NaN</td>\n",
       "      <td>NaN</td>\n",
       "      <td>NaN</td>\n",
       "      <td>NaN</td>\n",
       "      <td>NaN</td>\n",
       "      <td>NaN</td>\n",
       "      <td>NaN</td>\n",
       "      <td>NaN</td>\n",
       "    </tr>\n",
       "    <tr>\n",
       "      <th>0</th>\n",
       "      <td>14</td>\n",
       "      <td>a2f5b00e3eceff8181cdf3dffe571a8a</td>\n",
       "      <td>{\"cutoff\": \"quantile_0.25\", \"eval_fairness_gro...</td>\n",
       "      <td>53.040025</td>\n",
       "      <td>89710</td>\n",
       "      <td>1.0</td>\n",
       "      <td>0.161577</td>\n",
       "      <td>0.808668</td>\n",
       "      <td>0.139616</td>\n",
       "      <td>0.837210</td>\n",
       "      <td>...</td>\n",
       "      <td>0.128860</td>\n",
       "      <td>0.174586</td>\n",
       "      <td>0.844486</td>\n",
       "      <td>0.682909</td>\n",
       "      <td>0.041385</td>\n",
       "      <td>0.051313</td>\n",
       "      <td>0.857644</td>\n",
       "      <td>0.718028</td>\n",
       "      <td>20540.0</td>\n",
       "      <td>69170.0</td>\n",
       "    </tr>\n",
       "  </tbody>\n",
       "</table>\n",
       "<p>4 rows × 50 columns</p>\n",
       "</div>"
      ],
      "text/plain": [
       "  run_no                       universe_id  \\\n",
       "0     14  a2f5b00e3eceff8181cdf3dffe571a8a   \n",
       "0     14  a2f5b00e3eceff8181cdf3dffe571a8a   \n",
       "0     14  a2f5b00e3eceff8181cdf3dffe571a8a   \n",
       "0     14  a2f5b00e3eceff8181cdf3dffe571a8a   \n",
       "\n",
       "                                   universe_settings  execution_time  \\\n",
       "0  {\"cutoff\": \"quantile_0.1\", \"eval_fairness_grou...       53.040025   \n",
       "0  {\"cutoff\": \"quantile_0.1\", \"eval_fairness_grou...       53.040025   \n",
       "0  {\"cutoff\": \"quantile_0.25\", \"eval_fairness_gro...       53.040025   \n",
       "0  {\"cutoff\": \"quantile_0.25\", \"eval_fairness_gro...       53.040025   \n",
       "\n",
       "   test_size_n  test_size_frac  fair_main_equalized_odds_difference  \\\n",
       "0        89710             1.0                             0.087952   \n",
       "0        89710             1.0                             0.087952   \n",
       "0        89710             1.0                             0.161577   \n",
       "0        89710             1.0                             0.161577   \n",
       "\n",
       "   fair_main_equalized_odds_ratio  fair_main_demographic_parity_difference  \\\n",
       "0                        0.907849                                 0.076403   \n",
       "0                        0.907849                                 0.076403   \n",
       "0                        0.808668                                 0.139616   \n",
       "0                        0.808668                                 0.139616   \n",
       "\n",
       "   fair_main_demographic_parity_ratio  ...  perf_grp_precision_0  \\\n",
       "0                            0.920323  ...                   NaN   \n",
       "0                            0.920323  ...              0.119415   \n",
       "0                            0.837210  ...                   NaN   \n",
       "0                            0.837210  ...              0.128860   \n",
       "\n",
       "   perf_grp_precision_1  perf_grp_false positive rate_0  \\\n",
       "0                   NaN                             NaN   \n",
       "0              0.147896                        0.954435   \n",
       "0                   NaN                             NaN   \n",
       "0              0.174586                        0.844486   \n",
       "\n",
       "   perf_grp_false positive rate_1  perf_grp_false negative rate_0  \\\n",
       "0                             NaN                             NaN   \n",
       "0                        0.866483                        0.006757   \n",
       "0                             NaN                             NaN   \n",
       "0                        0.682909                        0.041385   \n",
       "\n",
       "   perf_grp_false negative rate_1  perf_grp_selection rate_0  \\\n",
       "0                             NaN                        NaN   \n",
       "0                        0.012254                   0.958909   \n",
       "0                             NaN                        NaN   \n",
       "0                        0.051313                   0.857644   \n",
       "\n",
       "   perf_grp_selection rate_1  perf_grp_count_0  perf_grp_count_1  \n",
       "0                        NaN               NaN               NaN  \n",
       "0                   0.882507           20540.0           69170.0  \n",
       "0                        NaN               NaN               NaN  \n",
       "0                   0.718028           20540.0           69170.0  \n",
       "\n",
       "[4 rows x 50 columns]"
      ]
     },
     "execution_count": 79,
     "metadata": {},
     "output_type": "execute_result"
    }
   ],
   "source": [
    "final_output = universe_analysis.generate_final_output(\n",
    "    y_pred_prob=probs_test,\n",
    "    y_test=y_true,\n",
    "    org_test=org_test,\n",
    "    filter_data=filter_sub_universe_data,\n",
    "    cp_metrics_df=cp_metrics_df,\n",
    "    save=True,\n",
    ")\n",
    "final_output"
   ]
  },
  {
   "cell_type": "code",
   "execution_count": null,
   "id": "721ff514-cb11-46f8-b6fc-50392f74b5cb",
   "metadata": {
    "papermill": {
     "duration": 0.015389,
     "end_time": "2025-07-30T19:55:53.097032",
     "exception": false,
     "start_time": "2025-07-30T19:55:53.081643",
     "status": "completed"
    },
    "tags": []
   },
   "outputs": [],
   "source": []
  }
 ],
 "metadata": {
  "celltoolbar": "Tags",
  "kernelspec": {
   "display_name": "Python (CMA Fairness)",
   "language": "python",
   "name": "cma_fair_env"
  },
  "language_info": {
   "codemirror_mode": {
    "name": "ipython",
    "version": 3
   },
   "file_extension": ".py",
   "mimetype": "text/x-python",
   "name": "python",
   "nbconvert_exporter": "python",
   "pygments_lexer": "ipython3",
   "version": "3.10.12"
  },
  "papermill": {
   "default_parameters": {},
   "duration": 64.310631,
   "end_time": "2025-07-30T19:55:53.830258",
   "environment_variables": {},
   "exception": null,
   "input_path": "universe_analysis.ipynb",
   "output_path": "output/runs/14/notebooks/m_14-a2f5b00e3eceff8181cdf3dffe571a8a.ipynb",
   "parameters": {
    "output_dir": "output",
    "run_no": "14",
    "seed": "2023",
    "universe": "{\"cutoff\": [\"quantile_0.1\", \"quantile_0.25\"], \"eval_fairness_grouping\": [\"majority-minority\", \"nationality-all\"], \"exclude_features\": \"none\", \"exclude_subgroups\": \"drop-non-german\", \"model\": \"elasticnet\", \"scale\": \"scale\", \"training_size\": \"25k\", \"training_year\": \"2014\"}",
    "universe_id": "a2f5b00e3eceff8181cdf3dffe571a8a"
   },
   "start_time": "2025-07-30T19:54:49.519627",
   "version": "2.6.0"
  }
 },
 "nbformat": 4,
 "nbformat_minor": 5
}