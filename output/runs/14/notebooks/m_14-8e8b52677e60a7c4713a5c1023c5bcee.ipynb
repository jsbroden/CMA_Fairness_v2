{
 "cells": [
  {
   "cell_type": "code",
   "execution_count": 1,
   "id": "f159f837-637b-42ba-96b5-ec9a68c44524",
   "metadata": {
    "execution": {
     "iopub.execute_input": "2025-07-30T20:48:33.362259Z",
     "iopub.status.busy": "2025-07-30T20:48:33.361355Z",
     "iopub.status.idle": "2025-07-30T20:48:33.374976Z",
     "shell.execute_reply": "2025-07-30T20:48:33.374109Z"
    },
    "papermill": {
     "duration": 0.038304,
     "end_time": "2025-07-30T20:48:33.376798",
     "exception": false,
     "start_time": "2025-07-30T20:48:33.338494",
     "status": "completed"
    },
    "tags": []
   },
   "outputs": [
    {
     "name": "stdout",
     "output_type": "stream",
     "text": [
      "/dss/dsshome1/0C/ra93lal2/cma/CMA_Fairness_v2\n"
     ]
    },
    {
     "name": "stderr",
     "output_type": "stream",
     "text": [
      "/dss/dsshome1/0C/ra93lal2/.local/share/virtualenvs/CMA_Fairness_v2-3j10GkSs/lib/python3.10/site-packages/IPython/core/magics/osm.py:393: UserWarning: This is now an optional IPython functionality, using bookmarks requires you to install the `pickleshare` library.\n",
      "  bkms = self.shell.db.get('bookmarks', {})\n",
      "/dss/dsshome1/0C/ra93lal2/.local/share/virtualenvs/CMA_Fairness_v2-3j10GkSs/lib/python3.10/site-packages/IPython/core/magics/osm.py:417: UserWarning: This is now an optional IPython functionality, setting dhist requires you to install the `pickleshare` library.\n",
      "  self.shell.db['dhist'] = compress_dhist(dhist)[-100:]\n"
     ]
    }
   ],
   "source": [
    "%cd ~/cma/CMA_Fairness_v2"
   ]
  },
  {
   "cell_type": "markdown",
   "id": "de2603b9",
   "metadata": {
    "papermill": {
     "duration": 0.020808,
     "end_time": "2025-07-30T20:48:33.419401",
     "exception": false,
     "start_time": "2025-07-30T20:48:33.398593",
     "status": "completed"
    },
    "tags": []
   },
   "source": [
    "The following cell holds the definition of our parameters, these values can be overriden by rendering the with e.g. the following command:\n",
    "\n",
    "papermill -p alpha 0.2 -p ratio 0.3 universe_analysis.ipynb output/test_run.ipynb"
   ]
  },
  {
   "cell_type": "code",
   "execution_count": 2,
   "id": "a80968a0-40bb-4fa9-85ef-2d5eefb01975",
   "metadata": {
    "execution": {
     "iopub.execute_input": "2025-07-30T20:48:33.462432Z",
     "iopub.status.busy": "2025-07-30T20:48:33.461556Z",
     "iopub.status.idle": "2025-07-30T20:48:33.467699Z",
     "shell.execute_reply": "2025-07-30T20:48:33.466693Z"
    },
    "papermill": {
     "duration": 0.029372,
     "end_time": "2025-07-30T20:48:33.469333",
     "exception": false,
     "start_time": "2025-07-30T20:48:33.439961",
     "status": "completed"
    },
    "tags": []
   },
   "outputs": [
    {
     "name": "stdout",
     "output_type": "stream",
     "text": [
      "Current working directory: /dss/dsshome1/0C/ra93lal2/cma/CMA_Fairness_v2\n"
     ]
    }
   ],
   "source": [
    "import os\n",
    "print(\"Current working directory:\", os.getcwd())"
   ]
  },
  {
   "cell_type": "code",
   "execution_count": 3,
   "id": "2dce4c03",
   "metadata": {
    "execution": {
     "iopub.execute_input": "2025-07-30T20:48:33.513924Z",
     "iopub.status.busy": "2025-07-30T20:48:33.513304Z",
     "iopub.status.idle": "2025-07-30T20:48:33.519435Z",
     "shell.execute_reply": "2025-07-30T20:48:33.518383Z"
    },
    "papermill": {
     "duration": 0.029612,
     "end_time": "2025-07-30T20:48:33.521090",
     "exception": false,
     "start_time": "2025-07-30T20:48:33.491478",
     "status": "completed"
    },
    "tags": [
     "parameters"
    ]
   },
   "outputs": [],
   "source": [
    "run_no = 0\n",
    "universe_id = \"test\"\n",
    "universe = {\n",
    "    \"training_size\": \"25k\", # \"25k\", \"5k\", \"1k\"\n",
    "    \"training_year\": \"2014\", # \"2014\", \"2012_14\", \"2010_14\"\n",
    "    \"scale\": \"scale\", # \"scale\", \"do-not-scale\",\n",
    "    #\"stratify_split\": \"target\", # \"none\", \"target\", \"protected-attribute\", \"both\",\n",
    "    \"model\": \"elasticnet\", # \"logreg\", \"penalized_logreg\", \"rf\", \"gbm\", \"elasticnet\"\n",
    "    \"cutoff\": [\"quantile_0.15\", \"quantile_0.30\"],\n",
    "    \"exclude_features\": \"age\", # \"none\", \"nationality\", \"sex\", \"nationality-sex\", \"age\"\n",
    "    \"exclude_subgroups\": \"keep-all\", # \"keep-all\", \"drop-non-german\"\n",
    "    \"eval_fairness_grouping\": [\"majority-minority\", \"nationality-all\"]\n",
    "}\n",
    "\n",
    "output_dir=\"./output\"\n",
    "seed=0"
   ]
  },
  {
   "cell_type": "code",
   "execution_count": 4,
   "id": "d6790d89",
   "metadata": {
    "execution": {
     "iopub.execute_input": "2025-07-30T20:48:33.564655Z",
     "iopub.status.busy": "2025-07-30T20:48:33.564308Z",
     "iopub.status.idle": "2025-07-30T20:48:33.569082Z",
     "shell.execute_reply": "2025-07-30T20:48:33.568123Z"
    },
    "papermill": {
     "duration": 0.028605,
     "end_time": "2025-07-30T20:48:33.570977",
     "exception": false,
     "start_time": "2025-07-30T20:48:33.542372",
     "status": "completed"
    },
    "tags": [
     "injected-parameters"
    ]
   },
   "outputs": [],
   "source": [
    "# Parameters\n",
    "universe_id = \"8e8b52677e60a7c4713a5c1023c5bcee\"\n",
    "run_no = \"14\"\n",
    "universe = \"{\\\"cutoff\\\": [\\\"quantile_0.1\\\", \\\"quantile_0.25\\\"], \\\"eval_fairness_grouping\\\": [\\\"majority-minority\\\", \\\"nationality-all\\\"], \\\"exclude_features\\\": \\\"age\\\", \\\"exclude_subgroups\\\": \\\"drop-non-german\\\", \\\"model\\\": \\\"gbm\\\", \\\"scale\\\": \\\"scale\\\", \\\"training_size\\\": \\\"5k\\\", \\\"training_year\\\": \\\"2014\\\"}\"\n",
    "output_dir = \"output\"\n",
    "seed = \"2023\"\n"
   ]
  },
  {
   "cell_type": "code",
   "execution_count": 5,
   "id": "1650acaf",
   "metadata": {
    "execution": {
     "iopub.execute_input": "2025-07-30T20:48:33.613513Z",
     "iopub.status.busy": "2025-07-30T20:48:33.613067Z",
     "iopub.status.idle": "2025-07-30T20:48:33.618066Z",
     "shell.execute_reply": "2025-07-30T20:48:33.617167Z"
    },
    "papermill": {
     "duration": 0.027155,
     "end_time": "2025-07-30T20:48:33.619636",
     "exception": false,
     "start_time": "2025-07-30T20:48:33.592481",
     "status": "completed"
    },
    "tags": []
   },
   "outputs": [],
   "source": [
    "import json\n",
    "# Parse universe into dict if it is passed as a string\n",
    "if isinstance(universe, str):\n",
    "    universe = json.loads(universe)"
   ]
  },
  {
   "cell_type": "code",
   "execution_count": 6,
   "id": "16620c48",
   "metadata": {
    "execution": {
     "iopub.execute_input": "2025-07-30T20:48:33.660516Z",
     "iopub.status.busy": "2025-07-30T20:48:33.659730Z",
     "iopub.status.idle": "2025-07-30T20:48:33.707380Z",
     "shell.execute_reply": "2025-07-30T20:48:33.706479Z"
    },
    "papermill": {
     "duration": 0.069539,
     "end_time": "2025-07-30T20:48:33.709146",
     "exception": false,
     "start_time": "2025-07-30T20:48:33.639607",
     "status": "completed"
    },
    "tags": []
   },
   "outputs": [],
   "source": [
    "# Auto-reload the custom package\n",
    "%load_ext autoreload\n",
    "%autoreload 1\n",
    "%aimport fairness_multiverse"
   ]
  },
  {
   "cell_type": "code",
   "execution_count": 7,
   "id": "01c5c9f3",
   "metadata": {
    "execution": {
     "iopub.execute_input": "2025-07-30T20:48:33.749637Z",
     "iopub.status.busy": "2025-07-30T20:48:33.748848Z",
     "iopub.status.idle": "2025-07-30T20:48:35.356977Z",
     "shell.execute_reply": "2025-07-30T20:48:35.356149Z"
    },
    "papermill": {
     "duration": 1.629632,
     "end_time": "2025-07-30T20:48:35.358495",
     "exception": false,
     "start_time": "2025-07-30T20:48:33.728863",
     "status": "completed"
    },
    "tags": []
   },
   "outputs": [],
   "source": [
    "from fairness_multiverse.universe import UniverseAnalysis\n",
    "\n",
    "universe_analysis = UniverseAnalysis(\n",
    "    run_no = run_no,\n",
    "    universe_id = universe_id,\n",
    "    universe = universe,\n",
    "    output_dir=output_dir,\n",
    ")"
   ]
  },
  {
   "cell_type": "code",
   "execution_count": 8,
   "id": "106241f5",
   "metadata": {
    "execution": {
     "iopub.execute_input": "2025-07-30T20:48:35.380912Z",
     "iopub.status.busy": "2025-07-30T20:48:35.380353Z",
     "iopub.status.idle": "2025-07-30T20:48:35.385766Z",
     "shell.execute_reply": "2025-07-30T20:48:35.384708Z"
    },
    "papermill": {
     "duration": 0.017692,
     "end_time": "2025-07-30T20:48:35.386981",
     "exception": false,
     "start_time": "2025-07-30T20:48:35.369289",
     "status": "completed"
    },
    "tags": []
   },
   "outputs": [
    {
     "name": "stdout",
     "output_type": "stream",
     "text": [
      "Using Seed: 2023\n"
     ]
    }
   ],
   "source": [
    "import numpy as np\n",
    "parsed_seed = int(seed)\n",
    "np.random.seed(parsed_seed)\n",
    "print(f\"Using Seed: {parsed_seed}\")"
   ]
  },
  {
   "cell_type": "markdown",
   "id": "e0ebdc57",
   "metadata": {
    "papermill": {
     "duration": 0.010084,
     "end_time": "2025-07-30T20:48:35.408006",
     "exception": false,
     "start_time": "2025-07-30T20:48:35.397922",
     "status": "completed"
    },
    "tags": []
   },
   "source": [
    "# Loading Data"
   ]
  },
  {
   "cell_type": "markdown",
   "id": "681925a3",
   "metadata": {
    "papermill": {
     "duration": 0.010553,
     "end_time": "2025-07-30T20:48:35.428615",
     "exception": false,
     "start_time": "2025-07-30T20:48:35.418062",
     "status": "completed"
    },
    "tags": []
   },
   "source": [
    "Load siab_train, siab_test, siab_calib and/or \n",
    "load siab_train_features, siab_train_labels"
   ]
  },
  {
   "cell_type": "code",
   "execution_count": 9,
   "id": "f0496b8a",
   "metadata": {
    "execution": {
     "iopub.execute_input": "2025-07-30T20:48:35.450195Z",
     "iopub.status.busy": "2025-07-30T20:48:35.449803Z",
     "iopub.status.idle": "2025-07-30T20:48:45.046290Z",
     "shell.execute_reply": "2025-07-30T20:48:45.045079Z"
    },
    "papermill": {
     "duration": 9.608939,
     "end_time": "2025-07-30T20:48:45.047966",
     "exception": false,
     "start_time": "2025-07-30T20:48:35.439027",
     "status": "completed"
    },
    "tags": []
   },
   "outputs": [
    {
     "name": "stdout",
     "output_type": "stream",
     "text": [
      "Loading SIAB data from cache: data/siab_cached.csv.gz\n"
     ]
    },
    {
     "name": "stdout",
     "output_type": "stream",
     "text": [
      "(643690, 164)\n"
     ]
    }
   ],
   "source": [
    "from pathlib import Path\n",
    "import pandas as pd\n",
    "\n",
    "# File paths\n",
    "raw_file = Path(\"data/raw/siab.csv\")\n",
    "cache_file = Path(\"data/siab_cached.csv.gz\")\n",
    "\n",
    "# Ensure cache directory exists\n",
    "cache_file.parent.mkdir(parents=True, exist_ok=True)\n",
    "\n",
    "# Load with simple caching\n",
    "if cache_file.exists():\n",
    "    print(f\"Loading SIAB data from cache: {cache_file}\")\n",
    "    siab = pd.read_csv(cache_file, compression='gzip')\n",
    "else:\n",
    "    print(f\"Cache not found. Reading raw SIAB data: {raw_file}\")\n",
    "    siab = pd.read_csv(raw_file)\n",
    "    siab.to_csv(cache_file, index=False, compression='gzip')\n",
    "    print(f\"Cached SIAB data to: {cache_file}\")\n",
    "\n",
    "# Now use `siab` DataFrame as needed\n",
    "print(siab.shape)"
   ]
  },
  {
   "cell_type": "code",
   "execution_count": 10,
   "id": "db0ca512-5f53-4dba-abdb-a2888bca41ba",
   "metadata": {
    "execution": {
     "iopub.execute_input": "2025-07-30T20:48:45.093755Z",
     "iopub.status.busy": "2025-07-30T20:48:45.093250Z",
     "iopub.status.idle": "2025-07-30T20:48:45.099009Z",
     "shell.execute_reply": "2025-07-30T20:48:45.097965Z"
    },
    "papermill": {
     "duration": 0.029408,
     "end_time": "2025-07-30T20:48:45.100879",
     "exception": false,
     "start_time": "2025-07-30T20:48:45.071471",
     "status": "completed"
    },
    "tags": []
   },
   "outputs": [],
   "source": [
    "#siab"
   ]
  },
  {
   "cell_type": "code",
   "execution_count": 11,
   "id": "a0edb063",
   "metadata": {
    "execution": {
     "iopub.execute_input": "2025-07-30T20:48:45.144102Z",
     "iopub.status.busy": "2025-07-30T20:48:45.143613Z",
     "iopub.status.idle": "2025-07-30T20:48:45.148911Z",
     "shell.execute_reply": "2025-07-30T20:48:45.147926Z"
    },
    "papermill": {
     "duration": 0.028511,
     "end_time": "2025-07-30T20:48:45.150764",
     "exception": false,
     "start_time": "2025-07-30T20:48:45.122253",
     "status": "completed"
    },
    "tags": []
   },
   "outputs": [],
   "source": [
    "#import pandas as pd\n",
    "#\n",
    "#X_train = pd.read_csv(\"./data/X_train.csv\")\n",
    "#y_train = pd.read_csv(\"./data/y_train.csv\")"
   ]
  },
  {
   "cell_type": "code",
   "execution_count": 12,
   "id": "63d08085",
   "metadata": {
    "execution": {
     "iopub.execute_input": "2025-07-30T20:48:45.195060Z",
     "iopub.status.busy": "2025-07-30T20:48:45.194734Z",
     "iopub.status.idle": "2025-07-30T20:48:45.198501Z",
     "shell.execute_reply": "2025-07-30T20:48:45.197861Z"
    },
    "papermill": {
     "duration": 0.027172,
     "end_time": "2025-07-30T20:48:45.200012",
     "exception": false,
     "start_time": "2025-07-30T20:48:45.172840",
     "status": "completed"
    },
    "tags": []
   },
   "outputs": [],
   "source": [
    "#X_test = pd.read_csv(\"./data/X_test.csv\")\n",
    "#y_true = pd.read_csv(\"./data/y_test.csv\")"
   ]
  },
  {
   "cell_type": "code",
   "execution_count": 13,
   "id": "98a8d0fa-1d3d-4ed8-bb2c-281470e24add",
   "metadata": {
    "execution": {
     "iopub.execute_input": "2025-07-30T20:48:45.228227Z",
     "iopub.status.busy": "2025-07-30T20:48:45.227831Z",
     "iopub.status.idle": "2025-07-30T20:48:45.232439Z",
     "shell.execute_reply": "2025-07-30T20:48:45.231592Z"
    },
    "papermill": {
     "duration": 0.019252,
     "end_time": "2025-07-30T20:48:45.233574",
     "exception": false,
     "start_time": "2025-07-30T20:48:45.214322",
     "status": "completed"
    },
    "tags": []
   },
   "outputs": [],
   "source": [
    "# Calibration data for conformal\n",
    "#X_calib = pd.read_csv(\"./data/X_calib.csv\")\n",
    "#y_calib = pd.read_csv(\"./data/y_calib.csv\")"
   ]
  },
  {
   "cell_type": "markdown",
   "id": "997051c5-15bd-4b69-9786-c3001a3ce484",
   "metadata": {
    "papermill": {
     "duration": 0.010683,
     "end_time": "2025-07-30T20:48:45.255946",
     "exception": false,
     "start_time": "2025-07-30T20:48:45.245263",
     "status": "completed"
    },
    "tags": []
   },
   "source": [
    "# Splitting Data and Setting Training Data Size"
   ]
  },
  {
   "cell_type": "code",
   "execution_count": 14,
   "id": "e993b61f-042d-41a6-8c81-f55681f86335",
   "metadata": {
    "execution": {
     "iopub.execute_input": "2025-07-30T20:48:45.277772Z",
     "iopub.status.busy": "2025-07-30T20:48:45.277322Z",
     "iopub.status.idle": "2025-07-30T20:48:45.285615Z",
     "shell.execute_reply": "2025-07-30T20:48:45.284847Z"
    },
    "papermill": {
     "duration": 0.020841,
     "end_time": "2025-07-30T20:48:45.286958",
     "exception": false,
     "start_time": "2025-07-30T20:48:45.266117",
     "status": "completed"
    },
    "tags": []
   },
   "outputs": [],
   "source": [
    "def sample_by_year_size(df,\n",
    "                        training_year: str,\n",
    "                        training_size: str,\n",
    "                        random_state: int = 42):\n",
    "    # --- parse training_year into a list of int years ---\n",
    "    if \"_\" in training_year:\n",
    "        start_str, end_str = training_year.split(\"_\", 1)\n",
    "        start = int(start_str)\n",
    "        end   = int(end_str) if len(end_str) == 4 else (int(end_str) + (start // 100)*100)\n",
    "        years = list(range(start, end + 1))\n",
    "    else:\n",
    "        years = [int(training_year)]\n",
    "\n",
    "    df = df[df[\"year\"].isin(years)].reset_index(drop=True)\n",
    "\n",
    "    # --- map training_size to total number of samples ---\n",
    "    total_map = {\"25k\": 25_000, \"5k\": 5_000, \"1k\": 1_000}\n",
    "    if training_size not in total_map:\n",
    "        return df  # e.g. \"all\"\n",
    "\n",
    "    total_samples = total_map[training_size]\n",
    "    n_years       = len(years)\n",
    "    base          = total_samples // n_years\n",
    "    remainder     = total_samples % n_years\n",
    "\n",
    "    # --- build a dict: year -> how many to sample ---\n",
    "    # give +1 to the first `remainder` years in ascending order\n",
    "    quotas = {\n",
    "        year: base + (1 if idx < remainder else 0)\n",
    "        for idx, year in enumerate(sorted(years))\n",
    "    }\n",
    "\n",
    "    # --- sample per‐year according to the quota dict ---\n",
    "    sampled = (\n",
    "        df\n",
    "        .groupby(\"year\", group_keys=False)\n",
    "        .apply(lambda grp: grp.sample(\n",
    "            n=min(len(grp), quotas[grp.name]),\n",
    "            random_state=random_state))\n",
    "        .reset_index(drop=True)\n",
    "    )\n",
    "\n",
    "    return sampled"
   ]
  },
  {
   "cell_type": "code",
   "execution_count": 15,
   "id": "c0ccd338-0e02-41f3-a09d-f56f9266e3fb",
   "metadata": {
    "execution": {
     "iopub.execute_input": "2025-07-30T20:48:45.309501Z",
     "iopub.status.busy": "2025-07-30T20:48:45.308981Z",
     "iopub.status.idle": "2025-07-30T20:48:45.312694Z",
     "shell.execute_reply": "2025-07-30T20:48:45.311982Z"
    },
    "papermill": {
     "duration": 0.015736,
     "end_time": "2025-07-30T20:48:45.313781",
     "exception": false,
     "start_time": "2025-07-30T20:48:45.298045",
     "status": "completed"
    },
    "tags": []
   },
   "outputs": [],
   "source": [
    "#universe[\"training_size\"]"
   ]
  },
  {
   "cell_type": "code",
   "execution_count": 16,
   "id": "ca707fd7-8047-4acd-bfa5-66248fbbf8e6",
   "metadata": {
    "execution": {
     "iopub.execute_input": "2025-07-30T20:48:45.337572Z",
     "iopub.status.busy": "2025-07-30T20:48:45.337112Z",
     "iopub.status.idle": "2025-07-30T20:48:45.341189Z",
     "shell.execute_reply": "2025-07-30T20:48:45.340504Z"
    },
    "papermill": {
     "duration": 0.017788,
     "end_time": "2025-07-30T20:48:45.342356",
     "exception": false,
     "start_time": "2025-07-30T20:48:45.324568",
     "status": "completed"
    },
    "tags": []
   },
   "outputs": [],
   "source": [
    "#universe[\"training_year\"]"
   ]
  },
  {
   "cell_type": "code",
   "execution_count": 17,
   "id": "aea9c6ef-6f46-42c8-85eb-5a62025c1508",
   "metadata": {
    "execution": {
     "iopub.execute_input": "2025-07-30T20:48:45.363963Z",
     "iopub.status.busy": "2025-07-30T20:48:45.363713Z",
     "iopub.status.idle": "2025-07-30T20:48:45.568162Z",
     "shell.execute_reply": "2025-07-30T20:48:45.567431Z"
    },
    "papermill": {
     "duration": 0.216492,
     "end_time": "2025-07-30T20:48:45.569537",
     "exception": false,
     "start_time": "2025-07-30T20:48:45.353045",
     "status": "completed"
    },
    "tags": []
   },
   "outputs": [],
   "source": [
    "siab_train = sample_by_year_size(siab,\n",
    "                               training_year=universe[\"training_year\"],\n",
    "                               training_size=universe[\"training_size\"])"
   ]
  },
  {
   "cell_type": "code",
   "execution_count": 18,
   "id": "8d3afb32-789d-442c-8d5d-9f5aa8dd2eed",
   "metadata": {
    "execution": {
     "iopub.execute_input": "2025-07-30T20:48:45.605332Z",
     "iopub.status.busy": "2025-07-30T20:48:45.604993Z",
     "iopub.status.idle": "2025-07-30T20:48:45.609377Z",
     "shell.execute_reply": "2025-07-30T20:48:45.608651Z"
    },
    "papermill": {
     "duration": 0.023162,
     "end_time": "2025-07-30T20:48:45.610567",
     "exception": false,
     "start_time": "2025-07-30T20:48:45.587405",
     "status": "completed"
    },
    "tags": []
   },
   "outputs": [],
   "source": [
    "#siab_train.shape"
   ]
  },
  {
   "cell_type": "code",
   "execution_count": 19,
   "id": "d582db68-1a4c-47fb-84fc-08518dc1975a",
   "metadata": {
    "execution": {
     "iopub.execute_input": "2025-07-30T20:48:45.634763Z",
     "iopub.status.busy": "2025-07-30T20:48:45.634228Z",
     "iopub.status.idle": "2025-07-30T20:48:45.638988Z",
     "shell.execute_reply": "2025-07-30T20:48:45.638187Z"
    },
    "papermill": {
     "duration": 0.018997,
     "end_time": "2025-07-30T20:48:45.640646",
     "exception": false,
     "start_time": "2025-07-30T20:48:45.621649",
     "status": "completed"
    },
    "tags": []
   },
   "outputs": [],
   "source": [
    "#display(siab_train.groupby(\"year\").size())"
   ]
  },
  {
   "cell_type": "code",
   "execution_count": 20,
   "id": "a561edb4-d032-42cb-8256-22eac1111c64",
   "metadata": {
    "execution": {
     "iopub.execute_input": "2025-07-30T20:48:45.668836Z",
     "iopub.status.busy": "2025-07-30T20:48:45.668421Z",
     "iopub.status.idle": "2025-07-30T20:48:45.900451Z",
     "shell.execute_reply": "2025-07-30T20:48:45.899304Z"
    },
    "papermill": {
     "duration": 0.250217,
     "end_time": "2025-07-30T20:48:45.902487",
     "exception": false,
     "start_time": "2025-07-30T20:48:45.652270",
     "status": "completed"
    },
    "tags": []
   },
   "outputs": [],
   "source": [
    "#siab_train = siab_s[siab_s.year < 2015]\n",
    "siab_calib = siab[siab.year == 2015]\n",
    "siab_test = siab[siab.year == 2016]"
   ]
  },
  {
   "cell_type": "code",
   "execution_count": 21,
   "id": "472de16f-c3db-4916-846b-1f0de9cf1746",
   "metadata": {
    "execution": {
     "iopub.execute_input": "2025-07-30T20:48:45.948301Z",
     "iopub.status.busy": "2025-07-30T20:48:45.947382Z",
     "iopub.status.idle": "2025-07-30T20:48:45.955839Z",
     "shell.execute_reply": "2025-07-30T20:48:45.955053Z"
    },
    "papermill": {
     "duration": 0.032376,
     "end_time": "2025-07-30T20:48:45.957321",
     "exception": false,
     "start_time": "2025-07-30T20:48:45.924945",
     "status": "completed"
    },
    "tags": []
   },
   "outputs": [],
   "source": [
    "X_train = siab_train.iloc[:,4:164]\n",
    "y_train = siab_train.iloc[:, [3]]"
   ]
  },
  {
   "cell_type": "code",
   "execution_count": 22,
   "id": "828c96af-f43a-4ed6-ba47-8ac73a47d56c",
   "metadata": {
    "execution": {
     "iopub.execute_input": "2025-07-30T20:48:45.982736Z",
     "iopub.status.busy": "2025-07-30T20:48:45.982338Z",
     "iopub.status.idle": "2025-07-30T20:48:46.033247Z",
     "shell.execute_reply": "2025-07-30T20:48:46.032144Z"
    },
    "papermill": {
     "duration": 0.064197,
     "end_time": "2025-07-30T20:48:46.034637",
     "exception": false,
     "start_time": "2025-07-30T20:48:45.970440",
     "status": "completed"
    },
    "tags": []
   },
   "outputs": [],
   "source": [
    "X_calib = siab_calib.iloc[:,4:164]\n",
    "y_calib = siab_calib.iloc[:, [3]]"
   ]
  },
  {
   "cell_type": "code",
   "execution_count": 23,
   "id": "c34be9c3-6bd6-476e-acd3-845840e303be",
   "metadata": {
    "execution": {
     "iopub.execute_input": "2025-07-30T20:48:46.059818Z",
     "iopub.status.busy": "2025-07-30T20:48:46.059242Z",
     "iopub.status.idle": "2025-07-30T20:48:46.112116Z",
     "shell.execute_reply": "2025-07-30T20:48:46.111072Z"
    },
    "papermill": {
     "duration": 0.066434,
     "end_time": "2025-07-30T20:48:46.113866",
     "exception": false,
     "start_time": "2025-07-30T20:48:46.047432",
     "status": "completed"
    },
    "tags": []
   },
   "outputs": [],
   "source": [
    "X_test = siab_test.iloc[:,4:164]\n",
    "y_true = siab_test.iloc[:, [3]]"
   ]
  },
  {
   "cell_type": "markdown",
   "id": "9901737e-04df-44f0-9100-f5ad144ed040",
   "metadata": {
    "papermill": {
     "duration": 0.022141,
     "end_time": "2025-07-30T20:48:46.160335",
     "exception": false,
     "start_time": "2025-07-30T20:48:46.138194",
     "status": "completed"
    },
    "tags": []
   },
   "source": [
    "# Splitting Data and Setting Training Data Size OLD VERSION"
   ]
  },
  {
   "cell_type": "code",
   "execution_count": 24,
   "id": "acbc8f7d-8fc8-4e86-8c59-5dcb0f58384b",
   "metadata": {
    "execution": {
     "iopub.execute_input": "2025-07-30T20:48:46.206647Z",
     "iopub.status.busy": "2025-07-30T20:48:46.205949Z",
     "iopub.status.idle": "2025-07-30T20:48:46.211358Z",
     "shell.execute_reply": "2025-07-30T20:48:46.210603Z"
    },
    "papermill": {
     "duration": 0.030412,
     "end_time": "2025-07-30T20:48:46.212617",
     "exception": false,
     "start_time": "2025-07-30T20:48:46.182205",
     "status": "completed"
    },
    "tags": []
   },
   "outputs": [],
   "source": [
    "#def sample_by_year(df, training_size, random_state=42):\n",
    "#    if training_size == \"2014\":\n",
    "#        return df[df[\"year\"] == 2014].reset_index(drop=True)\n",
    "#    \n",
    "#    size_map = {\n",
    "#        \"25k\": 5000,\n",
    "#        \"5k\": 1000,\n",
    "#        \"1k\": 200\n",
    "#    }\n",
    "#\n",
    "#    if training_size not in size_map:\n",
    "#        return df.reset_index(drop=True)  # use all data\n",
    "#\n",
    "#    n_per_year = size_map[training_size]\n",
    "#    grouped = df.groupby(\"year\")\n",
    "#    sampled = grouped.apply(lambda x: x.sample(n=min(n_per_year, len(x)), random_state=random_state))\n",
    "#    return sampled.reset_index(drop=True)"
   ]
  },
  {
   "cell_type": "code",
   "execution_count": 25,
   "id": "6d931f52-beaf-43ff-9e78-9d44a448d54e",
   "metadata": {
    "execution": {
     "iopub.execute_input": "2025-07-30T20:48:46.236527Z",
     "iopub.status.busy": "2025-07-30T20:48:46.235899Z",
     "iopub.status.idle": "2025-07-30T20:48:46.240163Z",
     "shell.execute_reply": "2025-07-30T20:48:46.239444Z"
    },
    "papermill": {
     "duration": 0.017045,
     "end_time": "2025-07-30T20:48:46.241639",
     "exception": false,
     "start_time": "2025-07-30T20:48:46.224594",
     "status": "completed"
    },
    "tags": []
   },
   "outputs": [],
   "source": [
    "#siab_s = sample_by_year(siab, universe[\"training_size\"])"
   ]
  },
  {
   "cell_type": "code",
   "execution_count": 26,
   "id": "5db0a40e-a4e2-4920-be85-b12ae061d70d",
   "metadata": {
    "execution": {
     "iopub.execute_input": "2025-07-30T20:48:46.265098Z",
     "iopub.status.busy": "2025-07-30T20:48:46.264727Z",
     "iopub.status.idle": "2025-07-30T20:48:46.269275Z",
     "shell.execute_reply": "2025-07-30T20:48:46.268544Z"
    },
    "papermill": {
     "duration": 0.017229,
     "end_time": "2025-07-30T20:48:46.270475",
     "exception": false,
     "start_time": "2025-07-30T20:48:46.253246",
     "status": "completed"
    },
    "tags": []
   },
   "outputs": [],
   "source": [
    "#display(siab_s.groupby(\"year\").size())"
   ]
  },
  {
   "cell_type": "code",
   "execution_count": 27,
   "id": "e6c733c5",
   "metadata": {
    "execution": {
     "iopub.execute_input": "2025-07-30T20:48:46.293816Z",
     "iopub.status.busy": "2025-07-30T20:48:46.293402Z",
     "iopub.status.idle": "2025-07-30T20:48:46.391973Z",
     "shell.execute_reply": "2025-07-30T20:48:46.390963Z"
    },
    "papermill": {
     "duration": 0.111825,
     "end_time": "2025-07-30T20:48:46.393593",
     "exception": false,
     "start_time": "2025-07-30T20:48:46.281768",
     "status": "completed"
    },
    "tags": []
   },
   "outputs": [],
   "source": [
    "# Auxiliary data needed downstream in the pipeline\n",
    "\n",
    "org_train = X_train.copy()\n",
    "org_test = X_test.copy()\n",
    "org_calib = X_calib.copy()"
   ]
  },
  {
   "cell_type": "code",
   "execution_count": 28,
   "id": "1466abac-c6da-4492-a62f-4240ae3783af",
   "metadata": {
    "execution": {
     "iopub.execute_input": "2025-07-30T20:48:46.436538Z",
     "iopub.status.busy": "2025-07-30T20:48:46.435679Z",
     "iopub.status.idle": "2025-07-30T20:48:46.441769Z",
     "shell.execute_reply": "2025-07-30T20:48:46.440782Z"
    },
    "papermill": {
     "duration": 0.030002,
     "end_time": "2025-07-30T20:48:46.443549",
     "exception": false,
     "start_time": "2025-07-30T20:48:46.413547",
     "status": "completed"
    },
    "tags": []
   },
   "outputs": [],
   "source": [
    "# put in other script?\n",
    "# Group sizes\n",
    "\n",
    "#def calculate_percentages(df, df_name):\n",
    "#    total_entries = len(df)\n",
    "#\n",
    "#    female_pct = (df['frau1'] == 1).mean() * 100\n",
    "#    non_german_pct = ((df['maxdeutsch1'] == 0) & (df['maxdeutsch.Missing.'] == 0)).mean() * 100\n",
    "#    non_german_male_pct = ((df['frau1'] == 0) & (df['maxdeutsch1'] == 0) & (df['maxdeutsch.Missing.'] == 0)).mean() * 100\n",
    "#    non_german_female_pct = ((df['frau1'] == 1) & (df['maxdeutsch1'] == 0) & (df['maxdeutsch.Missing.'] == 0)).mean() * 100\n",
    "#\n",
    "#    print(f\"--- {df_name} ---\")\n",
    "#    print(f\"Female: {female_pct:.2f}%\")\n",
    "#    print(f\"Non-German: {non_german_pct:.2f}%\")\n",
    "#    print(f\"Non-German Male: {non_german_male_pct:.2f}%\")\n",
    "#    print(f\"Non-German Female: {non_german_female_pct:.2f}%\\n\")\n",
    "#\n",
    "## Calculate for each DataFrame\n",
    "#calculate_percentages(siab_calib, \"siab_calib\")\n",
    "#calculate_percentages(siab_test, \"siab_test\")\n",
    "#calculate_percentages(siab_train, \"siab_train\")"
   ]
  },
  {
   "cell_type": "markdown",
   "id": "0a4a1b33",
   "metadata": {
    "papermill": {
     "duration": 0.021298,
     "end_time": "2025-07-30T20:48:46.488299",
     "exception": false,
     "start_time": "2025-07-30T20:48:46.467001",
     "status": "completed"
    },
    "tags": []
   },
   "source": [
    "# Preprocessing Data"
   ]
  },
  {
   "cell_type": "code",
   "execution_count": 29,
   "id": "ca879031",
   "metadata": {
    "execution": {
     "iopub.execute_input": "2025-07-30T20:48:46.532717Z",
     "iopub.status.busy": "2025-07-30T20:48:46.531852Z",
     "iopub.status.idle": "2025-07-30T20:48:46.538338Z",
     "shell.execute_reply": "2025-07-30T20:48:46.537405Z"
    },
    "papermill": {
     "duration": 0.030117,
     "end_time": "2025-07-30T20:48:46.539789",
     "exception": false,
     "start_time": "2025-07-30T20:48:46.509672",
     "status": "completed"
    },
    "tags": []
   },
   "outputs": [],
   "source": [
    "# EXCLUDE PROTECTED FEATURES\n",
    "# ----------------------\n",
    "# \"exclude_features\": \"none\", # \"nationality\", \"sex\", \"nationality-sex\"\n",
    "\n",
    "excluded_features = universe[\"exclude_features\"].split(\"-\") # split, e.g.: \"nationality-sex\" -> [\"nationality\", \"sex\"]\n",
    "excluded_features_dictionary = {\n",
    "    \"nationality\": [\"maxdeutsch1\", \"maxdeutsch.Missing.\"],\n",
    "    \"sex\": [\"frau1\"],\n",
    "    \"age\": [\"age\"],\n",
    "}\n"
   ]
  },
  {
   "cell_type": "code",
   "execution_count": 30,
   "id": "b745ac60",
   "metadata": {
    "execution": {
     "iopub.execute_input": "2025-07-30T20:48:46.564210Z",
     "iopub.status.busy": "2025-07-30T20:48:46.563566Z",
     "iopub.status.idle": "2025-07-30T20:48:46.568672Z",
     "shell.execute_reply": "2025-07-30T20:48:46.567674Z"
    },
    "papermill": {
     "duration": 0.018804,
     "end_time": "2025-07-30T20:48:46.570380",
     "exception": false,
     "start_time": "2025-07-30T20:48:46.551576",
     "status": "completed"
    },
    "tags": []
   },
   "outputs": [],
   "source": [
    "# Code nice names to column names\n",
    "\n",
    "excluded_features_columns = [\n",
    "    excluded_features_dictionary[f] for f in excluded_features if len(f) > 0 and f != \"none\"\n",
    "]"
   ]
  },
  {
   "cell_type": "code",
   "execution_count": 31,
   "id": "f84f73a2",
   "metadata": {
    "execution": {
     "iopub.execute_input": "2025-07-30T20:48:46.594363Z",
     "iopub.status.busy": "2025-07-30T20:48:46.594047Z",
     "iopub.status.idle": "2025-07-30T20:48:46.599153Z",
     "shell.execute_reply": "2025-07-30T20:48:46.598428Z"
    },
    "papermill": {
     "duration": 0.017988,
     "end_time": "2025-07-30T20:48:46.600411",
     "exception": false,
     "start_time": "2025-07-30T20:48:46.582423",
     "status": "completed"
    },
    "tags": []
   },
   "outputs": [],
   "source": [
    "from utils import flatten_once\n",
    "\n",
    "excluded_features_columns = flatten_once(excluded_features_columns)"
   ]
  },
  {
   "cell_type": "code",
   "execution_count": 32,
   "id": "884dea22",
   "metadata": {
    "execution": {
     "iopub.execute_input": "2025-07-30T20:48:46.624406Z",
     "iopub.status.busy": "2025-07-30T20:48:46.624070Z",
     "iopub.status.idle": "2025-07-30T20:48:46.631633Z",
     "shell.execute_reply": "2025-07-30T20:48:46.630788Z"
    },
    "papermill": {
     "duration": 0.020569,
     "end_time": "2025-07-30T20:48:46.632983",
     "exception": false,
     "start_time": "2025-07-30T20:48:46.612414",
     "status": "completed"
    },
    "tags": []
   },
   "outputs": [
    {
     "name": "stdout",
     "output_type": "stream",
     "text": [
      "Dropping features: ['age']\n"
     ]
    }
   ],
   "source": [
    "if len(excluded_features_columns) > 0:\n",
    "    print(f\"Dropping features: {excluded_features_columns}\")\n",
    "    X_train.drop(excluded_features_columns, axis=1, inplace=True)"
   ]
  },
  {
   "cell_type": "code",
   "execution_count": 33,
   "id": "95ab8b16",
   "metadata": {
    "execution": {
     "iopub.execute_input": "2025-07-30T20:48:46.657224Z",
     "iopub.status.busy": "2025-07-30T20:48:46.656924Z",
     "iopub.status.idle": "2025-07-30T20:48:46.705642Z",
     "shell.execute_reply": "2025-07-30T20:48:46.704699Z"
    },
    "papermill": {
     "duration": 0.062351,
     "end_time": "2025-07-30T20:48:46.707517",
     "exception": false,
     "start_time": "2025-07-30T20:48:46.645166",
     "status": "completed"
    },
    "tags": []
   },
   "outputs": [
    {
     "name": "stdout",
     "output_type": "stream",
     "text": [
      "Dropping features: ['age']\n"
     ]
    }
   ],
   "source": [
    "if len(excluded_features_columns) > 0:\n",
    "    print(f\"Dropping features: {excluded_features_columns}\")\n",
    "    X_test.drop(excluded_features_columns, axis=1, inplace=True)"
   ]
  },
  {
   "cell_type": "code",
   "execution_count": 34,
   "id": "1853aaf5-fb9f-46cb-a2b5-8ea4ae2237e4",
   "metadata": {
    "execution": {
     "iopub.execute_input": "2025-07-30T20:48:46.756556Z",
     "iopub.status.busy": "2025-07-30T20:48:46.755573Z",
     "iopub.status.idle": "2025-07-30T20:48:46.809023Z",
     "shell.execute_reply": "2025-07-30T20:48:46.807883Z"
    },
    "papermill": {
     "duration": 0.079291,
     "end_time": "2025-07-30T20:48:46.810961",
     "exception": false,
     "start_time": "2025-07-30T20:48:46.731670",
     "status": "completed"
    },
    "tags": []
   },
   "outputs": [
    {
     "name": "stdout",
     "output_type": "stream",
     "text": [
      "Dropping features: ['age']\n"
     ]
    }
   ],
   "source": [
    "if len(excluded_features_columns) > 0:\n",
    "    print(f\"Dropping features: {excluded_features_columns}\")\n",
    "    X_calib.drop(excluded_features_columns, axis=1, inplace=True)"
   ]
  },
  {
   "cell_type": "code",
   "execution_count": 35,
   "id": "6727d079-03e5-481e-9d38-292a90b7a0a8",
   "metadata": {
    "execution": {
     "iopub.execute_input": "2025-07-30T20:48:46.858405Z",
     "iopub.status.busy": "2025-07-30T20:48:46.857538Z",
     "iopub.status.idle": "2025-07-30T20:48:46.862679Z",
     "shell.execute_reply": "2025-07-30T20:48:46.861933Z"
    },
    "papermill": {
     "duration": 0.029902,
     "end_time": "2025-07-30T20:48:46.864447",
     "exception": false,
     "start_time": "2025-07-30T20:48:46.834545",
     "status": "completed"
    },
    "tags": []
   },
   "outputs": [],
   "source": [
    "# SPLIT & STRATIFY DATA\n",
    "# ----------------------"
   ]
  },
  {
   "cell_type": "code",
   "execution_count": 36,
   "id": "76c4dc6d",
   "metadata": {
    "execution": {
     "iopub.execute_input": "2025-07-30T20:48:46.913475Z",
     "iopub.status.busy": "2025-07-30T20:48:46.912531Z",
     "iopub.status.idle": "2025-07-30T20:48:46.918300Z",
     "shell.execute_reply": "2025-07-30T20:48:46.917347Z"
    },
    "papermill": {
     "duration": 0.032195,
     "end_time": "2025-07-30T20:48:46.920138",
     "exception": false,
     "start_time": "2025-07-30T20:48:46.887943",
     "status": "completed"
    },
    "tags": []
   },
   "outputs": [],
   "source": [
    "# EXCLUDE CERTAIN SUBGROUPS\n",
    "# ----------------------\n",
    "\n",
    "mode = universe.get(\"exclude_subgroups\", \"keep-all\") \n",
    "# Fetches the exclude_subgroups setting from the universe dict.\n",
    "# Defaults to \"keep-all\" if the key is missing."
   ]
  },
  {
   "cell_type": "code",
   "execution_count": 37,
   "id": "21994072",
   "metadata": {
    "execution": {
     "iopub.execute_input": "2025-07-30T20:48:46.969288Z",
     "iopub.status.busy": "2025-07-30T20:48:46.968499Z",
     "iopub.status.idle": "2025-07-30T20:48:46.974344Z",
     "shell.execute_reply": "2025-07-30T20:48:46.973649Z"
    },
    "papermill": {
     "duration": 0.031574,
     "end_time": "2025-07-30T20:48:46.975568",
     "exception": false,
     "start_time": "2025-07-30T20:48:46.943994",
     "status": "completed"
    },
    "tags": []
   },
   "outputs": [],
   "source": [
    "if mode == \"keep-all\":\n",
    "    keep_mask = pd.Series(True, index=org_train.index)\n",
    "\n",
    "# org_train contains the original feature columns from features_org (in Simson)\n",
    "# features_org contains unprocessed features, for me X_train at beginning ???\n",
    "# For keep-all, creates a boolean Series (keep_mask) of all True, so no rows are removed.\n",
    "\n",
    "elif mode == \"drop-non-german\":\n",
    "    keep_mask = org_train[\"maxdeutsch1\"] == 1 # ??? what about missing values?\n",
    "\n",
    "else:\n",
    "    raise ValueError(f\"Unsupported mode for exclude_subgroups: {mode}\")\n"
   ]
  },
  {
   "cell_type": "code",
   "execution_count": 38,
   "id": "71651440",
   "metadata": {
    "execution": {
     "iopub.execute_input": "2025-07-30T20:48:47.000308Z",
     "iopub.status.busy": "2025-07-30T20:48:46.999617Z",
     "iopub.status.idle": "2025-07-30T20:48:47.006390Z",
     "shell.execute_reply": "2025-07-30T20:48:47.005428Z"
    },
    "papermill": {
     "duration": 0.020508,
     "end_time": "2025-07-30T20:48:47.008130",
     "exception": false,
     "start_time": "2025-07-30T20:48:46.987622",
     "status": "completed"
    },
    "tags": []
   },
   "outputs": [
    {
     "name": "stdout",
     "output_type": "stream",
     "text": [
      "Dropping 741 rows (14.82%) where mode='drop-non-german'\n"
     ]
    }
   ],
   "source": [
    "n_drop = (~keep_mask).sum() # Calculates how many rows are set to be dropped\n",
    "if n_drop > 0:\n",
    "    pct = n_drop / len(keep_mask) * 100\n",
    "    print(f\"Dropping {n_drop} rows ({pct:.2f}%) where mode='{mode}'\")"
   ]
  },
  {
   "cell_type": "code",
   "execution_count": 39,
   "id": "5fb8eee5",
   "metadata": {
    "execution": {
     "iopub.execute_input": "2025-07-30T20:48:47.040811Z",
     "iopub.status.busy": "2025-07-30T20:48:47.040461Z",
     "iopub.status.idle": "2025-07-30T20:48:47.047305Z",
     "shell.execute_reply": "2025-07-30T20:48:47.046375Z"
    },
    "papermill": {
     "duration": 0.020678,
     "end_time": "2025-07-30T20:48:47.048981",
     "exception": false,
     "start_time": "2025-07-30T20:48:47.028303",
     "status": "completed"
    },
    "tags": []
   },
   "outputs": [],
   "source": [
    "X_train = X_train[keep_mask]"
   ]
  },
  {
   "cell_type": "code",
   "execution_count": 40,
   "id": "b202bb3a",
   "metadata": {
    "execution": {
     "iopub.execute_input": "2025-07-30T20:48:47.095962Z",
     "iopub.status.busy": "2025-07-30T20:48:47.095025Z",
     "iopub.status.idle": "2025-07-30T20:48:47.101611Z",
     "shell.execute_reply": "2025-07-30T20:48:47.100616Z"
    },
    "papermill": {
     "duration": 0.031084,
     "end_time": "2025-07-30T20:48:47.103276",
     "exception": false,
     "start_time": "2025-07-30T20:48:47.072192",
     "status": "completed"
    },
    "tags": []
   },
   "outputs": [],
   "source": [
    "y_train = y_train[keep_mask]"
   ]
  },
  {
   "cell_type": "markdown",
   "id": "493e2ac3",
   "metadata": {
    "papermill": {
     "duration": 0.01517,
     "end_time": "2025-07-30T20:48:47.142252",
     "exception": false,
     "start_time": "2025-07-30T20:48:47.127082",
     "status": "completed"
    },
    "tags": []
   },
   "source": [
    "# Model Training"
   ]
  },
  {
   "cell_type": "code",
   "execution_count": 41,
   "id": "679e1268",
   "metadata": {
    "execution": {
     "iopub.execute_input": "2025-07-30T20:48:47.167308Z",
     "iopub.status.busy": "2025-07-30T20:48:47.166804Z",
     "iopub.status.idle": "2025-07-30T20:48:47.271442Z",
     "shell.execute_reply": "2025-07-30T20:48:47.270434Z"
    },
    "papermill": {
     "duration": 0.119108,
     "end_time": "2025-07-30T20:48:47.272964",
     "exception": false,
     "start_time": "2025-07-30T20:48:47.153856",
     "status": "completed"
    },
    "tags": []
   },
   "outputs": [],
   "source": [
    "from sklearn.linear_model import LogisticRegression\n",
    "from sklearn.ensemble import GradientBoostingClassifier, RandomForestClassifier\n",
    "\n",
    "if (universe[\"model\"] == \"logreg\"):\n",
    "    model = LogisticRegression() #penalty=\"none\") #, solver=\"newton-cg\", max_iter=1) # include random_state=19 ?\n",
    "elif (universe[\"model\"] == \"penalized_logreg\"):\n",
    "    model = LogisticRegression(penalty=\"l2\", C=1.0) #, solver=\"newton-cg\", max_iter=1)\n",
    "elif (universe[\"model\"] == \"rf\"):\n",
    "    model = RandomForestClassifier(n_estimators=100, n_jobs=-1)\n",
    "elif (universe[\"model\"] == \"gbm\"):\n",
    "    model = GradientBoostingClassifier()\n",
    "elif (universe[\"model\"] == \"elasticnet\"):\n",
    "    model = LogisticRegression(penalty = 'elasticnet', solver = 'saga', l1_ratio = 0.5, max_iter=5000) # which solver to use?\n",
    "else:\n",
    "    raise \"Unsupported universe.model\""
   ]
  },
  {
   "cell_type": "code",
   "execution_count": 42,
   "id": "0cc8f744",
   "metadata": {
    "execution": {
     "iopub.execute_input": "2025-07-30T20:48:47.316807Z",
     "iopub.status.busy": "2025-07-30T20:48:47.315994Z",
     "iopub.status.idle": "2025-07-30T20:48:47.322767Z",
     "shell.execute_reply": "2025-07-30T20:48:47.321783Z"
    },
    "papermill": {
     "duration": 0.03154,
     "end_time": "2025-07-30T20:48:47.324450",
     "exception": false,
     "start_time": "2025-07-30T20:48:47.292910",
     "status": "completed"
    },
    "tags": []
   },
   "outputs": [],
   "source": [
    "import numpy as np\n",
    "from sklearn.pipeline import Pipeline\n",
    "from sklearn.preprocessing import StandardScaler\n",
    "\n",
    "model = Pipeline([\n",
    "    #(\"continuous_processor\", continuous_processor),\n",
    "    #(\"categorical_preprocessor\", categorical_preprocessor),\n",
    "    (\"scale\", StandardScaler() if universe[\"scale\"] == \"scale\" else None), \n",
    "    (\"model\", model),\n",
    "])"
   ]
  },
  {
   "cell_type": "code",
   "execution_count": 43,
   "id": "9442c04d",
   "metadata": {
    "execution": {
     "iopub.execute_input": "2025-07-30T20:48:47.370976Z",
     "iopub.status.busy": "2025-07-30T20:48:47.370220Z",
     "iopub.status.idle": "2025-07-30T20:48:51.887169Z",
     "shell.execute_reply": "2025-07-30T20:48:51.886246Z"
    },
    "papermill": {
     "duration": 4.541655,
     "end_time": "2025-07-30T20:48:51.888816",
     "exception": false,
     "start_time": "2025-07-30T20:48:47.347161",
     "status": "completed"
    },
    "tags": []
   },
   "outputs": [
    {
     "data": {
      "text/html": [
       "<style>#sk-container-id-1 {color: black;background-color: white;}#sk-container-id-1 pre{padding: 0;}#sk-container-id-1 div.sk-toggleable {background-color: white;}#sk-container-id-1 label.sk-toggleable__label {cursor: pointer;display: block;width: 100%;margin-bottom: 0;padding: 0.3em;box-sizing: border-box;text-align: center;}#sk-container-id-1 label.sk-toggleable__label-arrow:before {content: \"▸\";float: left;margin-right: 0.25em;color: #696969;}#sk-container-id-1 label.sk-toggleable__label-arrow:hover:before {color: black;}#sk-container-id-1 div.sk-estimator:hover label.sk-toggleable__label-arrow:before {color: black;}#sk-container-id-1 div.sk-toggleable__content {max-height: 0;max-width: 0;overflow: hidden;text-align: left;background-color: #f0f8ff;}#sk-container-id-1 div.sk-toggleable__content pre {margin: 0.2em;color: black;border-radius: 0.25em;background-color: #f0f8ff;}#sk-container-id-1 input.sk-toggleable__control:checked~div.sk-toggleable__content {max-height: 200px;max-width: 100%;overflow: auto;}#sk-container-id-1 input.sk-toggleable__control:checked~label.sk-toggleable__label-arrow:before {content: \"▾\";}#sk-container-id-1 div.sk-estimator input.sk-toggleable__control:checked~label.sk-toggleable__label {background-color: #d4ebff;}#sk-container-id-1 div.sk-label input.sk-toggleable__control:checked~label.sk-toggleable__label {background-color: #d4ebff;}#sk-container-id-1 input.sk-hidden--visually {border: 0;clip: rect(1px 1px 1px 1px);clip: rect(1px, 1px, 1px, 1px);height: 1px;margin: -1px;overflow: hidden;padding: 0;position: absolute;width: 1px;}#sk-container-id-1 div.sk-estimator {font-family: monospace;background-color: #f0f8ff;border: 1px dotted black;border-radius: 0.25em;box-sizing: border-box;margin-bottom: 0.5em;}#sk-container-id-1 div.sk-estimator:hover {background-color: #d4ebff;}#sk-container-id-1 div.sk-parallel-item::after {content: \"\";width: 100%;border-bottom: 1px solid gray;flex-grow: 1;}#sk-container-id-1 div.sk-label:hover label.sk-toggleable__label {background-color: #d4ebff;}#sk-container-id-1 div.sk-serial::before {content: \"\";position: absolute;border-left: 1px solid gray;box-sizing: border-box;top: 0;bottom: 0;left: 50%;z-index: 0;}#sk-container-id-1 div.sk-serial {display: flex;flex-direction: column;align-items: center;background-color: white;padding-right: 0.2em;padding-left: 0.2em;position: relative;}#sk-container-id-1 div.sk-item {position: relative;z-index: 1;}#sk-container-id-1 div.sk-parallel {display: flex;align-items: stretch;justify-content: center;background-color: white;position: relative;}#sk-container-id-1 div.sk-item::before, #sk-container-id-1 div.sk-parallel-item::before {content: \"\";position: absolute;border-left: 1px solid gray;box-sizing: border-box;top: 0;bottom: 0;left: 50%;z-index: -1;}#sk-container-id-1 div.sk-parallel-item {display: flex;flex-direction: column;z-index: 1;position: relative;background-color: white;}#sk-container-id-1 div.sk-parallel-item:first-child::after {align-self: flex-end;width: 50%;}#sk-container-id-1 div.sk-parallel-item:last-child::after {align-self: flex-start;width: 50%;}#sk-container-id-1 div.sk-parallel-item:only-child::after {width: 0;}#sk-container-id-1 div.sk-dashed-wrapped {border: 1px dashed gray;margin: 0 0.4em 0.5em 0.4em;box-sizing: border-box;padding-bottom: 0.4em;background-color: white;}#sk-container-id-1 div.sk-label label {font-family: monospace;font-weight: bold;display: inline-block;line-height: 1.2em;}#sk-container-id-1 div.sk-label-container {text-align: center;}#sk-container-id-1 div.sk-container {/* jupyter's `normalize.less` sets `[hidden] { display: none; }` but bootstrap.min.css set `[hidden] { display: none !important; }` so we also need the `!important` here to be able to override the default hidden behavior on the sphinx rendered scikit-learn.org. See: https://github.com/scikit-learn/scikit-learn/issues/21755 */display: inline-block !important;position: relative;}#sk-container-id-1 div.sk-text-repr-fallback {display: none;}</style><div id=\"sk-container-id-1\" class=\"sk-top-container\"><div class=\"sk-text-repr-fallback\"><pre>Pipeline(steps=[(&#x27;scale&#x27;, StandardScaler()),\n",
       "                (&#x27;model&#x27;, GradientBoostingClassifier())])</pre><b>In a Jupyter environment, please rerun this cell to show the HTML representation or trust the notebook. <br />On GitHub, the HTML representation is unable to render, please try loading this page with nbviewer.org.</b></div><div class=\"sk-container\" hidden><div class=\"sk-item sk-dashed-wrapped\"><div class=\"sk-label-container\"><div class=\"sk-label sk-toggleable\"><input class=\"sk-toggleable__control sk-hidden--visually\" id=\"sk-estimator-id-1\" type=\"checkbox\" ><label for=\"sk-estimator-id-1\" class=\"sk-toggleable__label sk-toggleable__label-arrow\">Pipeline</label><div class=\"sk-toggleable__content\"><pre>Pipeline(steps=[(&#x27;scale&#x27;, StandardScaler()),\n",
       "                (&#x27;model&#x27;, GradientBoostingClassifier())])</pre></div></div></div><div class=\"sk-serial\"><div class=\"sk-item\"><div class=\"sk-estimator sk-toggleable\"><input class=\"sk-toggleable__control sk-hidden--visually\" id=\"sk-estimator-id-2\" type=\"checkbox\" ><label for=\"sk-estimator-id-2\" class=\"sk-toggleable__label sk-toggleable__label-arrow\">StandardScaler</label><div class=\"sk-toggleable__content\"><pre>StandardScaler()</pre></div></div></div><div class=\"sk-item\"><div class=\"sk-estimator sk-toggleable\"><input class=\"sk-toggleable__control sk-hidden--visually\" id=\"sk-estimator-id-3\" type=\"checkbox\" ><label for=\"sk-estimator-id-3\" class=\"sk-toggleable__label sk-toggleable__label-arrow\">GradientBoostingClassifier</label><div class=\"sk-toggleable__content\"><pre>GradientBoostingClassifier()</pre></div></div></div></div></div></div></div>"
      ],
      "text/plain": [
       "Pipeline(steps=[('scale', StandardScaler()),\n",
       "                ('model', GradientBoostingClassifier())])"
      ]
     },
     "execution_count": 43,
     "metadata": {},
     "output_type": "execute_result"
    }
   ],
   "source": [
    "model.fit(X_train, y_train.values.ravel())"
   ]
  },
  {
   "cell_type": "code",
   "execution_count": 44,
   "id": "af59f8c0",
   "metadata": {
    "execution": {
     "iopub.execute_input": "2025-07-30T20:48:51.940364Z",
     "iopub.status.busy": "2025-07-30T20:48:51.939612Z",
     "iopub.status.idle": "2025-07-30T20:48:51.945263Z",
     "shell.execute_reply": "2025-07-30T20:48:51.944285Z"
    },
    "papermill": {
     "duration": 0.031839,
     "end_time": "2025-07-30T20:48:51.946828",
     "exception": false,
     "start_time": "2025-07-30T20:48:51.914989",
     "status": "completed"
    },
    "tags": []
   },
   "outputs": [],
   "source": [
    "from fairness_multiverse.universe import predict_w_threshold"
   ]
  },
  {
   "cell_type": "code",
   "execution_count": 45,
   "id": "a7cf2e16",
   "metadata": {
    "execution": {
     "iopub.execute_input": "2025-07-30T20:48:51.995650Z",
     "iopub.status.busy": "2025-07-30T20:48:51.994718Z",
     "iopub.status.idle": "2025-07-30T20:48:52.721932Z",
     "shell.execute_reply": "2025-07-30T20:48:52.721016Z"
    },
    "papermill": {
     "duration": 0.75296,
     "end_time": "2025-07-30T20:48:52.723792",
     "exception": false,
     "start_time": "2025-07-30T20:48:51.970832",
     "status": "completed"
    },
    "tags": []
   },
   "outputs": [
    {
     "data": {
      "text/plain": [
       "0.8653550328837365"
      ]
     },
     "execution_count": 45,
     "metadata": {},
     "output_type": "execute_result"
    }
   ],
   "source": [
    "probs_test = model.predict_proba(X_test)\n",
    "\n",
    "'''\n",
    "Below code returns a boolean array (or binary 0/1 array depending on how it’s used) where each element \n",
    "is True if the probability of class 1 is greater than or equal to the threshold, and False otherwise.\n",
    "'''\n",
    "y_pred_default = predict_w_threshold(probs_test, 0.5)\n",
    "\n",
    "from sklearn.metrics import accuracy_score\n",
    "\n",
    "# Naive prediction\n",
    "accuracy_score(y_true = y_true, y_pred = y_pred_default)"
   ]
  },
  {
   "cell_type": "code",
   "execution_count": 46,
   "id": "081964c3",
   "metadata": {
    "execution": {
     "iopub.execute_input": "2025-07-30T20:48:52.772469Z",
     "iopub.status.busy": "2025-07-30T20:48:52.771551Z",
     "iopub.status.idle": "2025-07-30T20:48:53.555415Z",
     "shell.execute_reply": "2025-07-30T20:48:53.554469Z"
    },
    "papermill": {
     "duration": 0.809901,
     "end_time": "2025-07-30T20:48:53.557171",
     "exception": false,
     "start_time": "2025-07-30T20:48:52.747270",
     "status": "completed"
    },
    "tags": []
   },
   "outputs": [
    {
     "data": {
      "text/plain": [
       "array([0, 0, 0, ..., 0, 0, 0])"
      ]
     },
     "execution_count": 46,
     "metadata": {},
     "output_type": "execute_result"
    }
   ],
   "source": [
    "model.predict(X_test)"
   ]
  },
  {
   "cell_type": "markdown",
   "id": "56c9705b",
   "metadata": {
    "papermill": {
     "duration": 0.024467,
     "end_time": "2025-07-30T20:48:53.605491",
     "exception": false,
     "start_time": "2025-07-30T20:48:53.581024",
     "status": "completed"
    },
    "tags": []
   },
   "source": [
    "# Conformal Prediction"
   ]
  },
  {
   "cell_type": "code",
   "execution_count": 47,
   "id": "160ec6ff",
   "metadata": {
    "execution": {
     "iopub.execute_input": "2025-07-30T20:48:53.654888Z",
     "iopub.status.busy": "2025-07-30T20:48:53.654209Z",
     "iopub.status.idle": "2025-07-30T20:48:53.659524Z",
     "shell.execute_reply": "2025-07-30T20:48:53.658586Z"
    },
    "papermill": {
     "duration": 0.031866,
     "end_time": "2025-07-30T20:48:53.661097",
     "exception": false,
     "start_time": "2025-07-30T20:48:53.629231",
     "status": "completed"
    },
    "tags": []
   },
   "outputs": [],
   "source": [
    "# Miscoverage level for conformal prediction (10% allowed error rate => 90% target coverage)\n",
    "alpha = 0.1"
   ]
  },
  {
   "cell_type": "code",
   "execution_count": 48,
   "id": "eadf4555-3dd3-440e-8e35-f82a4ad9f855",
   "metadata": {
    "execution": {
     "iopub.execute_input": "2025-07-30T20:48:53.711252Z",
     "iopub.status.busy": "2025-07-30T20:48:53.710592Z",
     "iopub.status.idle": "2025-07-30T20:48:54.426467Z",
     "shell.execute_reply": "2025-07-30T20:48:54.425467Z"
    },
    "papermill": {
     "duration": 0.742732,
     "end_time": "2025-07-30T20:48:54.428437",
     "exception": false,
     "start_time": "2025-07-30T20:48:53.685705",
     "status": "completed"
    },
    "tags": []
   },
   "outputs": [],
   "source": [
    "probs_calib = model.predict_proba(X_calib)"
   ]
  },
  {
   "cell_type": "code",
   "execution_count": 49,
   "id": "2ed93547-6d5d-4983-9b36-1ecb300da49a",
   "metadata": {
    "execution": {
     "iopub.execute_input": "2025-07-30T20:48:54.481565Z",
     "iopub.status.busy": "2025-07-30T20:48:54.480822Z",
     "iopub.status.idle": "2025-07-30T20:48:54.486640Z",
     "shell.execute_reply": "2025-07-30T20:48:54.485821Z"
    },
    "papermill": {
     "duration": 0.035219,
     "end_time": "2025-07-30T20:48:54.488357",
     "exception": false,
     "start_time": "2025-07-30T20:48:54.453138",
     "status": "completed"
    },
    "tags": []
   },
   "outputs": [],
   "source": [
    "y_calib = y_calib.values.ravel().astype(int)"
   ]
  },
  {
   "cell_type": "code",
   "execution_count": 50,
   "id": "65d1320d-f588-4b38-9072-62af1ae97f7d",
   "metadata": {
    "execution": {
     "iopub.execute_input": "2025-07-30T20:48:54.538282Z",
     "iopub.status.busy": "2025-07-30T20:48:54.537454Z",
     "iopub.status.idle": "2025-07-30T20:48:54.544308Z",
     "shell.execute_reply": "2025-07-30T20:48:54.543445Z"
    },
    "papermill": {
     "duration": 0.033026,
     "end_time": "2025-07-30T20:48:54.545793",
     "exception": false,
     "start_time": "2025-07-30T20:48:54.512767",
     "status": "completed"
    },
    "tags": []
   },
   "outputs": [],
   "source": [
    "from fairness_multiverse.conformal import compute_nc_scores\n",
    "\n",
    "# Compute nonconformity scores on calibration set (1 - probability of true class)\n",
    "nc_scores = compute_nc_scores(probs_calib, y_calib)"
   ]
  },
  {
   "cell_type": "code",
   "execution_count": 51,
   "id": "df3b8ca3-53b7-43d5-9667-7c85da7aeda2",
   "metadata": {
    "execution": {
     "iopub.execute_input": "2025-07-30T20:48:54.596147Z",
     "iopub.status.busy": "2025-07-30T20:48:54.595655Z",
     "iopub.status.idle": "2025-07-30T20:48:54.602232Z",
     "shell.execute_reply": "2025-07-30T20:48:54.601316Z"
    },
    "papermill": {
     "duration": 0.033725,
     "end_time": "2025-07-30T20:48:54.603903",
     "exception": false,
     "start_time": "2025-07-30T20:48:54.570178",
     "status": "completed"
    },
    "tags": []
   },
   "outputs": [],
   "source": [
    "from fairness_multiverse.conformal import find_threshold\n",
    "\n",
    "# Find conformal threshold q_hat for the given alpha (split conformal method)\n",
    "q_hat = find_threshold(nc_scores, alpha)"
   ]
  },
  {
   "cell_type": "code",
   "execution_count": 52,
   "id": "4d29e6c1-0ef6-4aa4-b8fe-4fe79b0d033a",
   "metadata": {
    "execution": {
     "iopub.execute_input": "2025-07-30T20:48:54.654715Z",
     "iopub.status.busy": "2025-07-30T20:48:54.654076Z",
     "iopub.status.idle": "2025-07-30T20:48:54.661580Z",
     "shell.execute_reply": "2025-07-30T20:48:54.660571Z"
    },
    "papermill": {
     "duration": 0.03454,
     "end_time": "2025-07-30T20:48:54.663075",
     "exception": false,
     "start_time": "2025-07-30T20:48:54.628535",
     "status": "completed"
    },
    "tags": []
   },
   "outputs": [
    {
     "data": {
      "text/plain": [
       "0.7066667994012014"
      ]
     },
     "execution_count": 52,
     "metadata": {},
     "output_type": "execute_result"
    }
   ],
   "source": [
    "q_hat"
   ]
  },
  {
   "cell_type": "code",
   "execution_count": 53,
   "id": "92460794-cdac-4be2-ba28-f28c0515a6fb",
   "metadata": {
    "execution": {
     "iopub.execute_input": "2025-07-30T20:48:54.715020Z",
     "iopub.status.busy": "2025-07-30T20:48:54.714077Z",
     "iopub.status.idle": "2025-07-30T20:48:56.544555Z",
     "shell.execute_reply": "2025-07-30T20:48:56.543334Z"
    },
    "papermill": {
     "duration": 1.858537,
     "end_time": "2025-07-30T20:48:56.546520",
     "exception": false,
     "start_time": "2025-07-30T20:48:54.687983",
     "status": "completed"
    },
    "tags": []
   },
   "outputs": [],
   "source": [
    "from fairness_multiverse.conformal import predict_conformal_sets\n",
    "\n",
    "# Generate prediction sets for each test example\n",
    "pred_sets = predict_conformal_sets(model, X_test, q_hat)"
   ]
  },
  {
   "cell_type": "code",
   "execution_count": 54,
   "id": "d90c9a65-e6db-4f5d-80cd-e68fb7e46829",
   "metadata": {
    "execution": {
     "iopub.execute_input": "2025-07-30T20:48:56.595804Z",
     "iopub.status.busy": "2025-07-30T20:48:56.594813Z",
     "iopub.status.idle": "2025-07-30T20:48:56.601427Z",
     "shell.execute_reply": "2025-07-30T20:48:56.600259Z"
    },
    "papermill": {
     "duration": 0.035752,
     "end_time": "2025-07-30T20:48:56.603503",
     "exception": false,
     "start_time": "2025-07-30T20:48:56.567751",
     "status": "completed"
    },
    "tags": []
   },
   "outputs": [],
   "source": [
    "y_true = y_true.squeeze()"
   ]
  },
  {
   "cell_type": "code",
   "execution_count": 55,
   "id": "3a58a54a-1e68-46b9-927a-df01f18aebc8",
   "metadata": {
    "execution": {
     "iopub.execute_input": "2025-07-30T20:48:56.675508Z",
     "iopub.status.busy": "2025-07-30T20:48:56.675092Z",
     "iopub.status.idle": "2025-07-30T20:48:57.564421Z",
     "shell.execute_reply": "2025-07-30T20:48:57.563603Z"
    },
    "papermill": {
     "duration": 0.928023,
     "end_time": "2025-07-30T20:48:57.566450",
     "exception": false,
     "start_time": "2025-07-30T20:48:56.638427",
     "status": "completed"
    },
    "tags": []
   },
   "outputs": [],
   "source": [
    "from fairness_multiverse.conformal import evaluate_sets\n",
    "\n",
    "# Evaluate coverage and average set size on test data\n",
    "metrics = evaluate_sets(pred_sets, y_true)"
   ]
  },
  {
   "cell_type": "markdown",
   "id": "2b569c12-9aaa-4c88-98c9-bbcd0cf3ebb8",
   "metadata": {
    "papermill": {
     "duration": 0.013468,
     "end_time": "2025-07-30T20:48:57.643741",
     "exception": false,
     "start_time": "2025-07-30T20:48:57.630273",
     "status": "completed"
    },
    "tags": []
   },
   "source": [
    "# CP Metrics"
   ]
  },
  {
   "cell_type": "code",
   "execution_count": 56,
   "id": "5ce0a5cb-201f-45a0-ade5-94c7f0bd6095",
   "metadata": {
    "execution": {
     "iopub.execute_input": "2025-07-30T20:48:57.671447Z",
     "iopub.status.busy": "2025-07-30T20:48:57.670917Z",
     "iopub.status.idle": "2025-07-30T20:48:57.677468Z",
     "shell.execute_reply": "2025-07-30T20:48:57.676743Z"
    },
    "papermill": {
     "duration": 0.021939,
     "end_time": "2025-07-30T20:48:57.678805",
     "exception": false,
     "start_time": "2025-07-30T20:48:57.656866",
     "status": "completed"
    },
    "tags": []
   },
   "outputs": [
    {
     "data": {
      "text/plain": [
       "{'coverage': 0.909831679857318, 'avg_size': 1.1259279901906143}"
      ]
     },
     "execution_count": 56,
     "metadata": {},
     "output_type": "execute_result"
    }
   ],
   "source": [
    "metrics"
   ]
  },
  {
   "cell_type": "code",
   "execution_count": 57,
   "id": "9b9a838d-31c9-430b-ae14-12baee460d17",
   "metadata": {
    "execution": {
     "iopub.execute_input": "2025-07-30T20:48:57.707710Z",
     "iopub.status.busy": "2025-07-30T20:48:57.707069Z",
     "iopub.status.idle": "2025-07-30T20:48:57.713390Z",
     "shell.execute_reply": "2025-07-30T20:48:57.712506Z"
    },
    "papermill": {
     "duration": 0.02216,
     "end_time": "2025-07-30T20:48:57.714902",
     "exception": false,
     "start_time": "2025-07-30T20:48:57.692742",
     "status": "completed"
    },
    "tags": []
   },
   "outputs": [],
   "source": [
    "example_universe = universe.copy()\n",
    "universe_training_year = example_universe.get(\"training_year\")\n",
    "universe_training_size = example_universe.get(\"training_size\")\n",
    "universe_scale = example_universe.get(\"scale\")\n",
    "universe_model = example_universe.get(\"model\")\n",
    "universe_exclude_features = example_universe.get(\"exclude_features\")\n",
    "universe_exclude_subgroups = example_universe.get(\"exclude_subgroups\")"
   ]
  },
  {
   "cell_type": "code",
   "execution_count": 58,
   "id": "f4b6a8ac-9dc0-4245-8a91-5b3b5999c4f9",
   "metadata": {
    "execution": {
     "iopub.execute_input": "2025-07-30T20:48:57.768418Z",
     "iopub.status.busy": "2025-07-30T20:48:57.767391Z",
     "iopub.status.idle": "2025-07-30T20:48:57.774495Z",
     "shell.execute_reply": "2025-07-30T20:48:57.773662Z"
    },
    "papermill": {
     "duration": 0.033693,
     "end_time": "2025-07-30T20:48:57.776185",
     "exception": false,
     "start_time": "2025-07-30T20:48:57.742492",
     "status": "completed"
    },
    "tags": []
   },
   "outputs": [],
   "source": [
    "cp_metrics_dict = {\n",
    "    \"universe_id\": [universe_id],\n",
    "    \"universe_training_year\": [universe_training_year],\n",
    "    \"universe_training_size\": [universe_training_size],\n",
    "    \"universe_scale\": [universe_scale],\n",
    "    \"universe_model\": [universe_model],\n",
    "    \"universe_exclude_features\": [universe_exclude_features],\n",
    "    \"universe_exclude_subgroups\": [universe_exclude_subgroups],\n",
    "    \"q_hat\": [q_hat],\n",
    "    \"coverage\": [metrics[\"coverage\"]],\n",
    "    \"avg_size\": [metrics[\"avg_size\"]],\n",
    "}"
   ]
  },
  {
   "cell_type": "code",
   "execution_count": 59,
   "id": "908acbb1-0371-4915-85ca-3fa520d2efe2",
   "metadata": {
    "execution": {
     "iopub.execute_input": "2025-07-30T20:48:57.830747Z",
     "iopub.status.busy": "2025-07-30T20:48:57.830047Z",
     "iopub.status.idle": "2025-07-30T20:48:57.837471Z",
     "shell.execute_reply": "2025-07-30T20:48:57.836444Z"
    },
    "papermill": {
     "duration": 0.035681,
     "end_time": "2025-07-30T20:48:57.838916",
     "exception": false,
     "start_time": "2025-07-30T20:48:57.803235",
     "status": "completed"
    },
    "tags": []
   },
   "outputs": [
    {
     "data": {
      "text/plain": [
       "{'universe_id': ['8e8b52677e60a7c4713a5c1023c5bcee'],\n",
       " 'universe_training_year': ['2014'],\n",
       " 'universe_training_size': ['5k'],\n",
       " 'universe_scale': ['scale'],\n",
       " 'universe_model': ['gbm'],\n",
       " 'universe_exclude_features': ['age'],\n",
       " 'universe_exclude_subgroups': ['drop-non-german'],\n",
       " 'q_hat': [0.7066667994012014],\n",
       " 'coverage': [0.909831679857318],\n",
       " 'avg_size': [1.1259279901906143]}"
      ]
     },
     "execution_count": 59,
     "metadata": {},
     "output_type": "execute_result"
    }
   ],
   "source": [
    "cp_metrics_dict"
   ]
  },
  {
   "cell_type": "code",
   "execution_count": 60,
   "id": "33007efc-14e9-4ec6-97ac-56a455c82265",
   "metadata": {
    "execution": {
     "iopub.execute_input": "2025-07-30T20:48:57.891557Z",
     "iopub.status.busy": "2025-07-30T20:48:57.890996Z",
     "iopub.status.idle": "2025-07-30T20:48:57.898922Z",
     "shell.execute_reply": "2025-07-30T20:48:57.897913Z"
    },
    "papermill": {
     "duration": 0.035815,
     "end_time": "2025-07-30T20:48:57.900663",
     "exception": false,
     "start_time": "2025-07-30T20:48:57.864848",
     "status": "completed"
    },
    "tags": []
   },
   "outputs": [],
   "source": [
    "cp_metrics_df = pd.DataFrame(cp_metrics_dict)"
   ]
  },
  {
   "cell_type": "code",
   "execution_count": 61,
   "id": "db12611b-57b2-4910-b9d0-355adfd6e7bf",
   "metadata": {
    "execution": {
     "iopub.execute_input": "2025-07-30T20:48:57.951994Z",
     "iopub.status.busy": "2025-07-30T20:48:57.951198Z",
     "iopub.status.idle": "2025-07-30T20:48:57.974928Z",
     "shell.execute_reply": "2025-07-30T20:48:57.973880Z"
    },
    "papermill": {
     "duration": 0.050985,
     "end_time": "2025-07-30T20:48:57.976441",
     "exception": false,
     "start_time": "2025-07-30T20:48:57.925456",
     "status": "completed"
    },
    "tags": []
   },
   "outputs": [
    {
     "data": {
      "text/html": [
       "<div>\n",
       "<style scoped>\n",
       "    .dataframe tbody tr th:only-of-type {\n",
       "        vertical-align: middle;\n",
       "    }\n",
       "\n",
       "    .dataframe tbody tr th {\n",
       "        vertical-align: top;\n",
       "    }\n",
       "\n",
       "    .dataframe thead th {\n",
       "        text-align: right;\n",
       "    }\n",
       "</style>\n",
       "<table border=\"1\" class=\"dataframe\">\n",
       "  <thead>\n",
       "    <tr style=\"text-align: right;\">\n",
       "      <th></th>\n",
       "      <th>universe_id</th>\n",
       "      <th>universe_training_year</th>\n",
       "      <th>universe_training_size</th>\n",
       "      <th>universe_scale</th>\n",
       "      <th>universe_model</th>\n",
       "      <th>universe_exclude_features</th>\n",
       "      <th>universe_exclude_subgroups</th>\n",
       "      <th>q_hat</th>\n",
       "      <th>coverage</th>\n",
       "      <th>avg_size</th>\n",
       "    </tr>\n",
       "  </thead>\n",
       "  <tbody>\n",
       "    <tr>\n",
       "      <th>0</th>\n",
       "      <td>8e8b52677e60a7c4713a5c1023c5bcee</td>\n",
       "      <td>2014</td>\n",
       "      <td>5k</td>\n",
       "      <td>scale</td>\n",
       "      <td>gbm</td>\n",
       "      <td>age</td>\n",
       "      <td>drop-non-german</td>\n",
       "      <td>0.706667</td>\n",
       "      <td>0.909832</td>\n",
       "      <td>1.125928</td>\n",
       "    </tr>\n",
       "  </tbody>\n",
       "</table>\n",
       "</div>"
      ],
      "text/plain": [
       "                        universe_id universe_training_year  \\\n",
       "0  8e8b52677e60a7c4713a5c1023c5bcee                   2014   \n",
       "\n",
       "  universe_training_size universe_scale universe_model  \\\n",
       "0                     5k          scale            gbm   \n",
       "\n",
       "  universe_exclude_features universe_exclude_subgroups     q_hat  coverage  \\\n",
       "0                       age            drop-non-german  0.706667  0.909832   \n",
       "\n",
       "   avg_size  \n",
       "0  1.125928  "
      ]
     },
     "execution_count": 61,
     "metadata": {},
     "output_type": "execute_result"
    }
   ],
   "source": [
    "cp_metrics_df"
   ]
  },
  {
   "cell_type": "code",
   "execution_count": 62,
   "id": "b7fbde55-a0a1-47e4-9af6-fe4a17fa8c61",
   "metadata": {
    "execution": {
     "iopub.execute_input": "2025-07-30T20:48:58.027886Z",
     "iopub.status.busy": "2025-07-30T20:48:58.027099Z",
     "iopub.status.idle": "2025-07-30T20:48:58.032909Z",
     "shell.execute_reply": "2025-07-30T20:48:58.031792Z"
    },
    "papermill": {
     "duration": 0.033653,
     "end_time": "2025-07-30T20:48:58.034634",
     "exception": false,
     "start_time": "2025-07-30T20:48:58.000981",
     "status": "completed"
    },
    "tags": []
   },
   "outputs": [],
   "source": [
    "# Conditional Coverage & looking at subgroups"
   ]
  },
  {
   "cell_type": "code",
   "execution_count": 63,
   "id": "027ae886-68dd-4141-96c7-805a5450e1ef",
   "metadata": {
    "execution": {
     "iopub.execute_input": "2025-07-30T20:48:58.085403Z",
     "iopub.status.busy": "2025-07-30T20:48:58.084898Z",
     "iopub.status.idle": "2025-07-30T20:48:58.349374Z",
     "shell.execute_reply": "2025-07-30T20:48:58.348520Z"
    },
    "papermill": {
     "duration": 0.292215,
     "end_time": "2025-07-30T20:48:58.351145",
     "exception": false,
     "start_time": "2025-07-30T20:48:58.058930",
     "status": "completed"
    },
    "tags": []
   },
   "outputs": [],
   "source": [
    "from fairness_multiverse.conformal import build_cp_groups\n",
    "\n",
    "cp_groups_df = build_cp_groups(pred_sets, y_true, X_test.index, org_test)\n",
    "#needs universe_id and setting"
   ]
  },
  {
   "cell_type": "code",
   "execution_count": 64,
   "id": "01d5802c-663a-4d1f-9d69-e036faaffbf7",
   "metadata": {
    "execution": {
     "iopub.execute_input": "2025-07-30T20:48:58.406567Z",
     "iopub.status.busy": "2025-07-30T20:48:58.406127Z",
     "iopub.status.idle": "2025-07-30T20:48:58.411401Z",
     "shell.execute_reply": "2025-07-30T20:48:58.410360Z"
    },
    "papermill": {
     "duration": 0.035405,
     "end_time": "2025-07-30T20:48:58.412925",
     "exception": false,
     "start_time": "2025-07-30T20:48:58.377520",
     "status": "completed"
    },
    "tags": []
   },
   "outputs": [],
   "source": [
    "#delete\n",
    "#cp_groups_df"
   ]
  },
  {
   "cell_type": "code",
   "execution_count": 65,
   "id": "fa424af1-d1eb-443d-b717-2d279ada8408",
   "metadata": {
    "execution": {
     "iopub.execute_input": "2025-07-30T20:48:58.467034Z",
     "iopub.status.busy": "2025-07-30T20:48:58.466679Z",
     "iopub.status.idle": "2025-07-30T20:48:58.471406Z",
     "shell.execute_reply": "2025-07-30T20:48:58.470518Z"
    },
    "papermill": {
     "duration": 0.034419,
     "end_time": "2025-07-30T20:48:58.473294",
     "exception": false,
     "start_time": "2025-07-30T20:48:58.438875",
     "status": "completed"
    },
    "tags": []
   },
   "outputs": [],
   "source": [
    "#delete\n",
    "#percentage = (cp_groups_df['nongerman_female'] == 1).mean() * 100\n",
    "#print(percentage)\n"
   ]
  },
  {
   "cell_type": "code",
   "execution_count": 66,
   "id": "6cbdab96-b2b2-45af-ad54-d0516db2e28d",
   "metadata": {
    "execution": {
     "iopub.execute_input": "2025-07-30T20:48:58.515684Z",
     "iopub.status.busy": "2025-07-30T20:48:58.515305Z",
     "iopub.status.idle": "2025-07-30T20:48:59.677054Z",
     "shell.execute_reply": "2025-07-30T20:48:59.676069Z"
    },
    "papermill": {
     "duration": 1.180634,
     "end_time": "2025-07-30T20:48:59.678896",
     "exception": false,
     "start_time": "2025-07-30T20:48:58.498262",
     "status": "completed"
    },
    "tags": []
   },
   "outputs": [],
   "source": [
    "# Define covered = 1 if true_label is in the predicted set\n",
    "cp_groups_df['covered'] = cp_groups_df.apply(\n",
    "    lambda r: int(r['true_label'] in r['pred_set']),\n",
    "    axis=1\n",
    ")"
   ]
  },
  {
   "cell_type": "code",
   "execution_count": 67,
   "id": "338ff529-1a6b-4b87-a931-8e4788d52aad",
   "metadata": {
    "execution": {
     "iopub.execute_input": "2025-07-30T20:48:59.733556Z",
     "iopub.status.busy": "2025-07-30T20:48:59.732802Z",
     "iopub.status.idle": "2025-07-30T20:48:59.738579Z",
     "shell.execute_reply": "2025-07-30T20:48:59.737546Z"
    },
    "papermill": {
     "duration": 0.03281,
     "end_time": "2025-07-30T20:48:59.740209",
     "exception": false,
     "start_time": "2025-07-30T20:48:59.707399",
     "status": "completed"
    },
    "tags": []
   },
   "outputs": [],
   "source": [
    "#cp_groups_df"
   ]
  },
  {
   "cell_type": "code",
   "execution_count": 68,
   "id": "90032e27-66df-4540-9169-4e89cfbaa758",
   "metadata": {
    "execution": {
     "iopub.execute_input": "2025-07-30T20:48:59.791886Z",
     "iopub.status.busy": "2025-07-30T20:48:59.791083Z",
     "iopub.status.idle": "2025-07-30T20:48:59.802373Z",
     "shell.execute_reply": "2025-07-30T20:48:59.801369Z"
    },
    "papermill": {
     "duration": 0.038187,
     "end_time": "2025-07-30T20:48:59.803888",
     "exception": false,
     "start_time": "2025-07-30T20:48:59.765701",
     "status": "completed"
    },
    "tags": []
   },
   "outputs": [],
   "source": [
    "subgroups = ['frau1','nongerman','nongerman_male','nongerman_female']\n",
    "\n",
    "# Conditional coverage for subgroup==1\n",
    "cond_coverage = {\n",
    "    g: cp_groups_df.loc[cp_groups_df[g]==1, 'covered'].mean()\n",
    "    for g in subgroups\n",
    "}"
   ]
  },
  {
   "cell_type": "code",
   "execution_count": 69,
   "id": "1e348fb1-b9c3-45bc-ba23-f016827a7e0d",
   "metadata": {
    "execution": {
     "iopub.execute_input": "2025-07-30T20:48:59.854968Z",
     "iopub.status.busy": "2025-07-30T20:48:59.854279Z",
     "iopub.status.idle": "2025-07-30T20:48:59.861305Z",
     "shell.execute_reply": "2025-07-30T20:48:59.860366Z"
    },
    "papermill": {
     "duration": 0.033503,
     "end_time": "2025-07-30T20:48:59.863023",
     "exception": false,
     "start_time": "2025-07-30T20:48:59.829520",
     "status": "completed"
    },
    "tags": []
   },
   "outputs": [
    {
     "data": {
      "text/plain": [
       "{'frau1': 0.9061598598193826,\n",
       " 'nongerman': 0.9051816089372929,\n",
       " 'nongerman_male': 0.9235341799513644,\n",
       " 'nongerman_female': 0.8748137108792846}"
      ]
     },
     "execution_count": 69,
     "metadata": {},
     "output_type": "execute_result"
    }
   ],
   "source": [
    "cond_coverage"
   ]
  },
  {
   "cell_type": "code",
   "execution_count": 70,
   "id": "f5093324-c3dd-4d63-bc4c-8d945e5c8bbb",
   "metadata": {
    "execution": {
     "iopub.execute_input": "2025-07-30T20:48:59.916355Z",
     "iopub.status.busy": "2025-07-30T20:48:59.915777Z",
     "iopub.status.idle": "2025-07-30T20:48:59.923326Z",
     "shell.execute_reply": "2025-07-30T20:48:59.922354Z"
    },
    "papermill": {
     "duration": 0.035671,
     "end_time": "2025-07-30T20:48:59.925111",
     "exception": false,
     "start_time": "2025-07-30T20:48:59.889440",
     "status": "completed"
    },
    "tags": []
   },
   "outputs": [],
   "source": [
    "for subgroup, cov in cond_coverage.items():\n",
    "    cp_metrics_df[f\"cov_{subgroup}\"] = cov"
   ]
  },
  {
   "cell_type": "code",
   "execution_count": 71,
   "id": "6e872e10-dbe5-49e8-b554-5030c98ff75d",
   "metadata": {
    "execution": {
     "iopub.execute_input": "2025-07-30T20:48:59.981989Z",
     "iopub.status.busy": "2025-07-30T20:48:59.981526Z",
     "iopub.status.idle": "2025-07-30T20:49:00.000559Z",
     "shell.execute_reply": "2025-07-30T20:48:59.999619Z"
    },
    "papermill": {
     "duration": 0.050978,
     "end_time": "2025-07-30T20:49:00.002271",
     "exception": false,
     "start_time": "2025-07-30T20:48:59.951293",
     "status": "completed"
    },
    "tags": []
   },
   "outputs": [
    {
     "data": {
      "text/html": [
       "<div>\n",
       "<style scoped>\n",
       "    .dataframe tbody tr th:only-of-type {\n",
       "        vertical-align: middle;\n",
       "    }\n",
       "\n",
       "    .dataframe tbody tr th {\n",
       "        vertical-align: top;\n",
       "    }\n",
       "\n",
       "    .dataframe thead th {\n",
       "        text-align: right;\n",
       "    }\n",
       "</style>\n",
       "<table border=\"1\" class=\"dataframe\">\n",
       "  <thead>\n",
       "    <tr style=\"text-align: right;\">\n",
       "      <th></th>\n",
       "      <th>universe_id</th>\n",
       "      <th>universe_training_year</th>\n",
       "      <th>universe_training_size</th>\n",
       "      <th>universe_scale</th>\n",
       "      <th>universe_model</th>\n",
       "      <th>universe_exclude_features</th>\n",
       "      <th>universe_exclude_subgroups</th>\n",
       "      <th>q_hat</th>\n",
       "      <th>coverage</th>\n",
       "      <th>avg_size</th>\n",
       "      <th>cov_frau1</th>\n",
       "      <th>cov_nongerman</th>\n",
       "      <th>cov_nongerman_male</th>\n",
       "      <th>cov_nongerman_female</th>\n",
       "    </tr>\n",
       "  </thead>\n",
       "  <tbody>\n",
       "    <tr>\n",
       "      <th>0</th>\n",
       "      <td>8e8b52677e60a7c4713a5c1023c5bcee</td>\n",
       "      <td>2014</td>\n",
       "      <td>5k</td>\n",
       "      <td>scale</td>\n",
       "      <td>gbm</td>\n",
       "      <td>age</td>\n",
       "      <td>drop-non-german</td>\n",
       "      <td>0.706667</td>\n",
       "      <td>0.909832</td>\n",
       "      <td>1.125928</td>\n",
       "      <td>0.90616</td>\n",
       "      <td>0.905182</td>\n",
       "      <td>0.923534</td>\n",
       "      <td>0.874814</td>\n",
       "    </tr>\n",
       "  </tbody>\n",
       "</table>\n",
       "</div>"
      ],
      "text/plain": [
       "                        universe_id universe_training_year  \\\n",
       "0  8e8b52677e60a7c4713a5c1023c5bcee                   2014   \n",
       "\n",
       "  universe_training_size universe_scale universe_model  \\\n",
       "0                     5k          scale            gbm   \n",
       "\n",
       "  universe_exclude_features universe_exclude_subgroups     q_hat  coverage  \\\n",
       "0                       age            drop-non-german  0.706667  0.909832   \n",
       "\n",
       "   avg_size  cov_frau1  cov_nongerman  cov_nongerman_male  \\\n",
       "0  1.125928    0.90616       0.905182            0.923534   \n",
       "\n",
       "   cov_nongerman_female  \n",
       "0              0.874814  "
      ]
     },
     "execution_count": 71,
     "metadata": {},
     "output_type": "execute_result"
    }
   ],
   "source": [
    "cp_metrics_df"
   ]
  },
  {
   "cell_type": "markdown",
   "id": "33774451",
   "metadata": {
    "papermill": {
     "duration": 0.026111,
     "end_time": "2025-07-30T20:49:00.053855",
     "exception": false,
     "start_time": "2025-07-30T20:49:00.027744",
     "status": "completed"
    },
    "tags": []
   },
   "source": [
    "# (Fairness) Metrics"
   ]
  },
  {
   "cell_type": "code",
   "execution_count": 72,
   "id": "debc5d62",
   "metadata": {
    "execution": {
     "iopub.execute_input": "2025-07-30T20:49:00.105136Z",
     "iopub.status.busy": "2025-07-30T20:49:00.104663Z",
     "iopub.status.idle": "2025-07-30T20:49:00.124944Z",
     "shell.execute_reply": "2025-07-30T20:49:00.123799Z"
    },
    "papermill": {
     "duration": 0.047202,
     "end_time": "2025-07-30T20:49:00.126502",
     "exception": false,
     "start_time": "2025-07-30T20:49:00.079300",
     "status": "completed"
    },
    "tags": []
   },
   "outputs": [],
   "source": [
    "# do I need to include maxdeutsch1.missing?\n",
    "\n",
    "import numpy as np\n",
    "\n",
    "colname_to_bin = \"maxdeutsch1\"\n",
    "majority_value = org_train[colname_to_bin].mode()[0]\n",
    "\n",
    "org_test[\"majmin\"] = np.where(org_test[colname_to_bin] == majority_value, \"majority\", \"minority\")"
   ]
  },
  {
   "cell_type": "code",
   "execution_count": 73,
   "id": "06a50de5",
   "metadata": {
    "execution": {
     "iopub.execute_input": "2025-07-30T20:49:00.178097Z",
     "iopub.status.busy": "2025-07-30T20:49:00.177568Z",
     "iopub.status.idle": "2025-07-30T20:49:02.534225Z",
     "shell.execute_reply": "2025-07-30T20:49:02.533189Z"
    },
    "papermill": {
     "duration": 2.383831,
     "end_time": "2025-07-30T20:49:02.535897",
     "exception": false,
     "start_time": "2025-07-30T20:49:00.152066",
     "status": "completed"
    },
    "tags": []
   },
   "outputs": [],
   "source": [
    "example_universe = universe.copy()\n",
    "example_universe[\"cutoff\"] = example_universe[\"cutoff\"][0]\n",
    "example_universe[\"eval_fairness_grouping\"] = example_universe[\"eval_fairness_grouping\"][0]\n",
    "fairness_dict, metric_frame = universe_analysis.compute_metrics(\n",
    "    example_universe,\n",
    "    y_pred_prob=probs_test,\n",
    "    y_test=y_true,\n",
    "    org_test=org_test,\n",
    ")"
   ]
  },
  {
   "cell_type": "markdown",
   "id": "f95d4e02",
   "metadata": {
    "papermill": {
     "duration": 0.013274,
     "end_time": "2025-07-30T20:49:02.563465",
     "exception": false,
     "start_time": "2025-07-30T20:49:02.550191",
     "status": "completed"
    },
    "tags": []
   },
   "source": [
    "# Overall"
   ]
  },
  {
   "cell_type": "markdown",
   "id": "bdee4871",
   "metadata": {
    "papermill": {
     "duration": 0.027887,
     "end_time": "2025-07-30T20:49:02.610902",
     "exception": false,
     "start_time": "2025-07-30T20:49:02.583015",
     "status": "completed"
    },
    "tags": []
   },
   "source": [
    "Fairness\n",
    "Main fairness target: Equalized Odds. Seems to be a better fit than equal opportunity, since we're not only interested in Y = 1. Seems to be a better fit than demographic parity, since we also care about accuracy, not just equal distribution of preds.\n",
    "\n",
    "Pick column for computation of fairness metrics\n",
    "\n",
    "Performance\n",
    "Overall performance measures, most interesting in relation to the measures split by group below"
   ]
  },
  {
   "cell_type": "code",
   "execution_count": 74,
   "id": "c4e067c6",
   "metadata": {
    "execution": {
     "iopub.execute_input": "2025-07-30T20:49:02.668132Z",
     "iopub.status.busy": "2025-07-30T20:49:02.667169Z",
     "iopub.status.idle": "2025-07-30T20:49:02.676300Z",
     "shell.execute_reply": "2025-07-30T20:49:02.675319Z"
    },
    "papermill": {
     "duration": 0.039246,
     "end_time": "2025-07-30T20:49:02.677896",
     "exception": false,
     "start_time": "2025-07-30T20:49:02.638650",
     "status": "completed"
    },
    "tags": []
   },
   "outputs": [
    {
     "data": {
      "text/plain": [
       "accuracy                   0.224022\n",
       "balanced accuracy          0.547838\n",
       "f1                         0.245363\n",
       "precision                  0.140168\n",
       "false positive rate        0.887727\n",
       "false negative rate        0.016597\n",
       "selection rate             0.900000\n",
       "count                  89710.000000\n",
       "dtype: float64"
      ]
     },
     "execution_count": 74,
     "metadata": {},
     "output_type": "execute_result"
    }
   ],
   "source": [
    "metric_frame.overall"
   ]
  },
  {
   "cell_type": "markdown",
   "id": "e968fe9d",
   "metadata": {
    "papermill": {
     "duration": 0.02748,
     "end_time": "2025-07-30T20:49:02.734311",
     "exception": false,
     "start_time": "2025-07-30T20:49:02.706831",
     "status": "completed"
    },
    "tags": []
   },
   "source": [
    "By Group"
   ]
  },
  {
   "cell_type": "code",
   "execution_count": 75,
   "id": "ec325bce",
   "metadata": {
    "execution": {
     "iopub.execute_input": "2025-07-30T20:49:02.791645Z",
     "iopub.status.busy": "2025-07-30T20:49:02.790985Z",
     "iopub.status.idle": "2025-07-30T20:49:02.806306Z",
     "shell.execute_reply": "2025-07-30T20:49:02.805304Z"
    },
    "papermill": {
     "duration": 0.045931,
     "end_time": "2025-07-30T20:49:02.807898",
     "exception": false,
     "start_time": "2025-07-30T20:49:02.761967",
     "status": "completed"
    },
    "tags": []
   },
   "outputs": [
    {
     "data": {
      "text/html": [
       "<div>\n",
       "<style scoped>\n",
       "    .dataframe tbody tr th:only-of-type {\n",
       "        vertical-align: middle;\n",
       "    }\n",
       "\n",
       "    .dataframe tbody tr th {\n",
       "        vertical-align: top;\n",
       "    }\n",
       "\n",
       "    .dataframe thead th {\n",
       "        text-align: right;\n",
       "    }\n",
       "</style>\n",
       "<table border=\"1\" class=\"dataframe\">\n",
       "  <thead>\n",
       "    <tr style=\"text-align: right;\">\n",
       "      <th></th>\n",
       "      <th>accuracy</th>\n",
       "      <th>balanced accuracy</th>\n",
       "      <th>f1</th>\n",
       "      <th>precision</th>\n",
       "      <th>false positive rate</th>\n",
       "      <th>false negative rate</th>\n",
       "      <th>selection rate</th>\n",
       "      <th>count</th>\n",
       "    </tr>\n",
       "    <tr>\n",
       "      <th>majmin</th>\n",
       "      <th></th>\n",
       "      <th></th>\n",
       "      <th></th>\n",
       "      <th></th>\n",
       "      <th></th>\n",
       "      <th></th>\n",
       "      <th></th>\n",
       "      <th></th>\n",
       "    </tr>\n",
       "  </thead>\n",
       "  <tbody>\n",
       "    <tr>\n",
       "      <th>majority</th>\n",
       "      <td>0.237270</td>\n",
       "      <td>0.553335</td>\n",
       "      <td>0.254051</td>\n",
       "      <td>0.145877</td>\n",
       "      <td>0.876262</td>\n",
       "      <td>0.017068</td>\n",
       "      <td>0.890357</td>\n",
       "      <td>69170.0</td>\n",
       "    </tr>\n",
       "    <tr>\n",
       "      <th>minority</th>\n",
       "      <td>0.179406</td>\n",
       "      <td>0.529810</td>\n",
       "      <td>0.216811</td>\n",
       "      <td>0.121809</td>\n",
       "      <td>0.925600</td>\n",
       "      <td>0.014780</td>\n",
       "      <td>0.932473</td>\n",
       "      <td>20540.0</td>\n",
       "    </tr>\n",
       "  </tbody>\n",
       "</table>\n",
       "</div>"
      ],
      "text/plain": [
       "          accuracy  balanced accuracy        f1  precision  \\\n",
       "majmin                                                       \n",
       "majority  0.237270           0.553335  0.254051   0.145877   \n",
       "minority  0.179406           0.529810  0.216811   0.121809   \n",
       "\n",
       "          false positive rate  false negative rate  selection rate    count  \n",
       "majmin                                                                       \n",
       "majority             0.876262             0.017068        0.890357  69170.0  \n",
       "minority             0.925600             0.014780        0.932473  20540.0  "
      ]
     },
     "execution_count": 75,
     "metadata": {},
     "output_type": "execute_result"
    }
   ],
   "source": [
    "metric_frame.by_group"
   ]
  },
  {
   "cell_type": "code",
   "execution_count": 76,
   "id": "a9ddbe63",
   "metadata": {
    "execution": {
     "iopub.execute_input": "2025-07-30T20:49:02.865142Z",
     "iopub.status.busy": "2025-07-30T20:49:02.864502Z",
     "iopub.status.idle": "2025-07-30T20:49:05.028093Z",
     "shell.execute_reply": "2025-07-30T20:49:05.023444Z"
    },
    "papermill": {
     "duration": 2.19339,
     "end_time": "2025-07-30T20:49:05.029819",
     "exception": false,
     "start_time": "2025-07-30T20:49:02.836429",
     "status": "completed"
    },
    "tags": []
   },
   "outputs": [
    {
     "data": {
      "text/plain": [
       "array([[<Axes: title={'center': 'accuracy'}, xlabel='majmin'>,\n",
       "        <Axes: title={'center': 'balanced accuracy'}, xlabel='majmin'>,\n",
       "        <Axes: title={'center': 'f1'}, xlabel='majmin'>],\n",
       "       [<Axes: title={'center': 'precision'}, xlabel='majmin'>,\n",
       "        <Axes: title={'center': 'false positive rate'}, xlabel='majmin'>,\n",
       "        <Axes: title={'center': 'false negative rate'}, xlabel='majmin'>],\n",
       "       [<Axes: title={'center': 'selection rate'}, xlabel='majmin'>,\n",
       "        <Axes: title={'center': 'count'}, xlabel='majmin'>,\n",
       "        <Axes: xlabel='majmin'>]], dtype=object)"
      ]
     },
     "execution_count": 76,
     "metadata": {},
     "output_type": "execute_result"
    },
    {
     "data": {
      "image/png": "[encoded data removed]",
      "text/plain": [
       "<Figure size 1200x800 with 9 Axes>"
      ]
     },
     "metadata": {},
     "output_type": "display_data"
    }
   ],
   "source": [
    "# In a graphic\n",
    "metric_frame.by_group.plot.bar(\n",
    "    subplots=True,\n",
    "    layout=[3, 3],\n",
    "    legend=False,\n",
    "    figsize=[12, 8],\n",
    "    title=\"Show all metrics\",\n",
    ")"
   ]
  },
  {
   "cell_type": "markdown",
   "id": "f57a0bac",
   "metadata": {
    "papermill": {
     "duration": 0.029544,
     "end_time": "2025-07-30T20:49:05.090215",
     "exception": false,
     "start_time": "2025-07-30T20:49:05.060671",
     "status": "completed"
    },
    "tags": []
   },
   "source": [
    "# Final Output"
   ]
  },
  {
   "cell_type": "code",
   "execution_count": 77,
   "id": "96d280a3",
   "metadata": {
    "execution": {
     "iopub.execute_input": "2025-07-30T20:49:05.150951Z",
     "iopub.status.busy": "2025-07-30T20:49:05.150277Z",
     "iopub.status.idle": "2025-07-30T20:49:05.158806Z",
     "shell.execute_reply": "2025-07-30T20:49:05.157910Z"
    },
    "papermill": {
     "duration": 0.040186,
     "end_time": "2025-07-30T20:49:05.160461",
     "exception": false,
     "start_time": "2025-07-30T20:49:05.120275",
     "status": "completed"
    },
    "tags": []
   },
   "outputs": [
    {
     "data": {
      "text/plain": [
       "4"
      ]
     },
     "execution_count": 77,
     "metadata": {},
     "output_type": "execute_result"
    }
   ],
   "source": [
    "sub_universes = universe_analysis.generate_sub_universes()\n",
    "len(sub_universes)"
   ]
  },
  {
   "cell_type": "code",
   "execution_count": 78,
   "id": "92adf7ba",
   "metadata": {
    "execution": {
     "iopub.execute_input": "2025-07-30T20:49:05.223492Z",
     "iopub.status.busy": "2025-07-30T20:49:05.222807Z",
     "iopub.status.idle": "2025-07-30T20:49:05.230204Z",
     "shell.execute_reply": "2025-07-30T20:49:05.229149Z"
    },
    "papermill": {
     "duration": 0.040747,
     "end_time": "2025-07-30T20:49:05.231959",
     "exception": false,
     "start_time": "2025-07-30T20:49:05.191212",
     "status": "completed"
    },
    "tags": []
   },
   "outputs": [],
   "source": [
    "def filter_sub_universe_data(sub_universe, org_test):\n",
    "    # Keep all rows — no filtering\n",
    "    keep_rows_mask = np.ones(org_test.shape[0], dtype=bool)\n",
    "\n",
    "    print(f\"[INFO] Keeping all rows: {keep_rows_mask.sum()} rows retained.\")\n",
    "    return keep_rows_mask"
   ]
  },
  {
   "cell_type": "code",
   "execution_count": 79,
   "id": "4a759155",
   "metadata": {
    "execution": {
     "iopub.execute_input": "2025-07-30T20:49:05.298017Z",
     "iopub.status.busy": "2025-07-30T20:49:05.297247Z",
     "iopub.status.idle": "2025-07-30T20:49:14.705403Z",
     "shell.execute_reply": "2025-07-30T20:49:14.704434Z"
    },
    "papermill": {
     "duration": 9.443588,
     "end_time": "2025-07-30T20:49:14.707277",
     "exception": false,
     "start_time": "2025-07-30T20:49:05.263689",
     "status": "completed"
    },
    "tags": []
   },
   "outputs": [
    {
     "name": "stdout",
     "output_type": "stream",
     "text": [
      "Stopping execution_time clock.\n",
      "[INFO] Keeping all rows: 89710 rows retained.\n"
     ]
    },
    {
     "name": "stdout",
     "output_type": "stream",
     "text": [
      "[INFO] Keeping all rows: 89710 rows retained.\n"
     ]
    },
    {
     "name": "stdout",
     "output_type": "stream",
     "text": [
      "[INFO] Keeping all rows: 89710 rows retained.\n"
     ]
    },
    {
     "name": "stdout",
     "output_type": "stream",
     "text": [
      "[INFO] Keeping all rows: 89710 rows retained.\n"
     ]
    },
    {
     "data": {
      "text/html": [
       "<div>\n",
       "<style scoped>\n",
       "    .dataframe tbody tr th:only-of-type {\n",
       "        vertical-align: middle;\n",
       "    }\n",
       "\n",
       "    .dataframe tbody tr th {\n",
       "        vertical-align: top;\n",
       "    }\n",
       "\n",
       "    .dataframe thead th {\n",
       "        text-align: right;\n",
       "    }\n",
       "</style>\n",
       "<table border=\"1\" class=\"dataframe\">\n",
       "  <thead>\n",
       "    <tr style=\"text-align: right;\">\n",
       "      <th></th>\n",
       "      <th>run_no</th>\n",
       "      <th>universe_id</th>\n",
       "      <th>universe_settings</th>\n",
       "      <th>execution_time</th>\n",
       "      <th>test_size_n</th>\n",
       "      <th>test_size_frac</th>\n",
       "      <th>fair_main_equalized_odds_difference</th>\n",
       "      <th>fair_main_equalized_odds_ratio</th>\n",
       "      <th>fair_main_demographic_parity_difference</th>\n",
       "      <th>fair_main_demographic_parity_ratio</th>\n",
       "      <th>...</th>\n",
       "      <th>perf_grp_precision_0</th>\n",
       "      <th>perf_grp_precision_1</th>\n",
       "      <th>perf_grp_false positive rate_0</th>\n",
       "      <th>perf_grp_false positive rate_1</th>\n",
       "      <th>perf_grp_false negative rate_0</th>\n",
       "      <th>perf_grp_false negative rate_1</th>\n",
       "      <th>perf_grp_selection rate_0</th>\n",
       "      <th>perf_grp_selection rate_1</th>\n",
       "      <th>perf_grp_count_0</th>\n",
       "      <th>perf_grp_count_1</th>\n",
       "    </tr>\n",
       "  </thead>\n",
       "  <tbody>\n",
       "    <tr>\n",
       "      <th>0</th>\n",
       "      <td>14</td>\n",
       "      <td>8e8b52677e60a7c4713a5c1023c5bcee</td>\n",
       "      <td>{\"cutoff\": \"quantile_0.1\", \"eval_fairness_grou...</td>\n",
       "      <td>29.978726</td>\n",
       "      <td>89710</td>\n",
       "      <td>1.0</td>\n",
       "      <td>0.049338</td>\n",
       "      <td>0.946696</td>\n",
       "      <td>0.042116</td>\n",
       "      <td>0.954834</td>\n",
       "      <td>...</td>\n",
       "      <td>NaN</td>\n",
       "      <td>NaN</td>\n",
       "      <td>NaN</td>\n",
       "      <td>NaN</td>\n",
       "      <td>NaN</td>\n",
       "      <td>NaN</td>\n",
       "      <td>NaN</td>\n",
       "      <td>NaN</td>\n",
       "      <td>NaN</td>\n",
       "      <td>NaN</td>\n",
       "    </tr>\n",
       "    <tr>\n",
       "      <th>0</th>\n",
       "      <td>14</td>\n",
       "      <td>8e8b52677e60a7c4713a5c1023c5bcee</td>\n",
       "      <td>{\"cutoff\": \"quantile_0.1\", \"eval_fairness_grou...</td>\n",
       "      <td>29.978726</td>\n",
       "      <td>89710</td>\n",
       "      <td>1.0</td>\n",
       "      <td>0.049338</td>\n",
       "      <td>0.946696</td>\n",
       "      <td>0.042116</td>\n",
       "      <td>0.954834</td>\n",
       "      <td>...</td>\n",
       "      <td>0.121809</td>\n",
       "      <td>0.145877</td>\n",
       "      <td>0.925600</td>\n",
       "      <td>0.876262</td>\n",
       "      <td>0.014780</td>\n",
       "      <td>0.017068</td>\n",
       "      <td>0.932473</td>\n",
       "      <td>0.890357</td>\n",
       "      <td>20540.0</td>\n",
       "      <td>69170.0</td>\n",
       "    </tr>\n",
       "    <tr>\n",
       "      <th>0</th>\n",
       "      <td>14</td>\n",
       "      <td>8e8b52677e60a7c4713a5c1023c5bcee</td>\n",
       "      <td>{\"cutoff\": \"quantile_0.25\", \"eval_fairness_gro...</td>\n",
       "      <td>29.978726</td>\n",
       "      <td>89710</td>\n",
       "      <td>1.0</td>\n",
       "      <td>0.105748</td>\n",
       "      <td>0.868496</td>\n",
       "      <td>0.088849</td>\n",
       "      <td>0.891449</td>\n",
       "      <td>...</td>\n",
       "      <td>NaN</td>\n",
       "      <td>NaN</td>\n",
       "      <td>NaN</td>\n",
       "      <td>NaN</td>\n",
       "      <td>NaN</td>\n",
       "      <td>NaN</td>\n",
       "      <td>NaN</td>\n",
       "      <td>NaN</td>\n",
       "      <td>NaN</td>\n",
       "      <td>NaN</td>\n",
       "    </tr>\n",
       "    <tr>\n",
       "      <th>0</th>\n",
       "      <td>14</td>\n",
       "      <td>8e8b52677e60a7c4713a5c1023c5bcee</td>\n",
       "      <td>{\"cutoff\": \"quantile_0.25\", \"eval_fairness_gro...</td>\n",
       "      <td>29.978726</td>\n",
       "      <td>89710</td>\n",
       "      <td>1.0</td>\n",
       "      <td>0.105748</td>\n",
       "      <td>0.868496</td>\n",
       "      <td>0.088849</td>\n",
       "      <td>0.891449</td>\n",
       "      <td>...</td>\n",
       "      <td>0.130799</td>\n",
       "      <td>0.169309</td>\n",
       "      <td>0.804149</td>\n",
       "      <td>0.698401</td>\n",
       "      <td>0.071368</td>\n",
       "      <td>0.065098</td>\n",
       "      <td>0.818500</td>\n",
       "      <td>0.729652</td>\n",
       "      <td>20540.0</td>\n",
       "      <td>69170.0</td>\n",
       "    </tr>\n",
       "  </tbody>\n",
       "</table>\n",
       "<p>4 rows × 50 columns</p>\n",
       "</div>"
      ],
      "text/plain": [
       "  run_no                       universe_id  \\\n",
       "0     14  8e8b52677e60a7c4713a5c1023c5bcee   \n",
       "0     14  8e8b52677e60a7c4713a5c1023c5bcee   \n",
       "0     14  8e8b52677e60a7c4713a5c1023c5bcee   \n",
       "0     14  8e8b52677e60a7c4713a5c1023c5bcee   \n",
       "\n",
       "                                   universe_settings  execution_time  \\\n",
       "0  {\"cutoff\": \"quantile_0.1\", \"eval_fairness_grou...       29.978726   \n",
       "0  {\"cutoff\": \"quantile_0.1\", \"eval_fairness_grou...       29.978726   \n",
       "0  {\"cutoff\": \"quantile_0.25\", \"eval_fairness_gro...       29.978726   \n",
       "0  {\"cutoff\": \"quantile_0.25\", \"eval_fairness_gro...       29.978726   \n",
       "\n",
       "   test_size_n  test_size_frac  fair_main_equalized_odds_difference  \\\n",
       "0        89710             1.0                             0.049338   \n",
       "0        89710             1.0                             0.049338   \n",
       "0        89710             1.0                             0.105748   \n",
       "0        89710             1.0                             0.105748   \n",
       "\n",
       "   fair_main_equalized_odds_ratio  fair_main_demographic_parity_difference  \\\n",
       "0                        0.946696                                 0.042116   \n",
       "0                        0.946696                                 0.042116   \n",
       "0                        0.868496                                 0.088849   \n",
       "0                        0.868496                                 0.088849   \n",
       "\n",
       "   fair_main_demographic_parity_ratio  ...  perf_grp_precision_0  \\\n",
       "0                            0.954834  ...                   NaN   \n",
       "0                            0.954834  ...              0.121809   \n",
       "0                            0.891449  ...                   NaN   \n",
       "0                            0.891449  ...              0.130799   \n",
       "\n",
       "   perf_grp_precision_1  perf_grp_false positive rate_0  \\\n",
       "0                   NaN                             NaN   \n",
       "0              0.145877                        0.925600   \n",
       "0                   NaN                             NaN   \n",
       "0              0.169309                        0.804149   \n",
       "\n",
       "   perf_grp_false positive rate_1  perf_grp_false negative rate_0  \\\n",
       "0                             NaN                             NaN   \n",
       "0                        0.876262                        0.014780   \n",
       "0                             NaN                             NaN   \n",
       "0                        0.698401                        0.071368   \n",
       "\n",
       "   perf_grp_false negative rate_1  perf_grp_selection rate_0  \\\n",
       "0                             NaN                        NaN   \n",
       "0                        0.017068                   0.932473   \n",
       "0                             NaN                        NaN   \n",
       "0                        0.065098                   0.818500   \n",
       "\n",
       "   perf_grp_selection rate_1  perf_grp_count_0  perf_grp_count_1  \n",
       "0                        NaN               NaN               NaN  \n",
       "0                   0.890357           20540.0           69170.0  \n",
       "0                        NaN               NaN               NaN  \n",
       "0                   0.729652           20540.0           69170.0  \n",
       "\n",
       "[4 rows x 50 columns]"
      ]
     },
     "execution_count": 79,
     "metadata": {},
     "output_type": "execute_result"
    }
   ],
   "source": [
    "final_output = universe_analysis.generate_final_output(\n",
    "    y_pred_prob=probs_test,\n",
    "    y_test=y_true,\n",
    "    org_test=org_test,\n",
    "    filter_data=filter_sub_universe_data,\n",
    "    cp_metrics_df=cp_metrics_df,\n",
    "    save=True,\n",
    ")\n",
    "final_output"
   ]
  },
  {
   "cell_type": "code",
   "execution_count": null,
   "id": "721ff514-cb11-46f8-b6fc-50392f74b5cb",
   "metadata": {
    "papermill": {
     "duration": 0.016468,
     "end_time": "2025-07-30T20:49:14.776314",
     "exception": false,
     "start_time": "2025-07-30T20:49:14.759846",
     "status": "completed"
    },
    "tags": []
   },
   "outputs": [],
   "source": []
  }
 ],
 "metadata": {
  "celltoolbar": "Tags",
  "kernelspec": {
   "display_name": "Python (CMA Fairness)",
   "language": "python",
   "name": "cma_fair_env"
  },
  "language_info": {
   "codemirror_mode": {
    "name": "ipython",
    "version": 3
   },
   "file_extension": ".py",
   "mimetype": "text/x-python",
   "name": "python",
   "nbconvert_exporter": "python",
   "pygments_lexer": "ipython3",
   "version": "3.10.12"
  },
  "papermill": {
   "default_parameters": {},
   "duration": 43.245434,
   "end_time": "2025-07-30T20:49:15.509884",
   "environment_variables": {},
   "exception": null,
   "input_path": "universe_analysis.ipynb",
   "output_path": "output/runs/14/notebooks/m_14-8e8b52677e60a7c4713a5c1023c5bcee.ipynb",
   "parameters": {
    "output_dir": "output",
    "run_no": "14",
    "seed": "2023",
    "universe": "{\"cutoff\": [\"quantile_0.1\", \"quantile_0.25\"], \"eval_fairness_grouping\": [\"majority-minority\", \"nationality-all\"], \"exclude_features\": \"age\", \"exclude_subgroups\": \"drop-non-german\", \"model\": \"gbm\", \"scale\": \"scale\", \"training_size\": \"5k\", \"training_year\": \"2014\"}",
    "universe_id": "8e8b52677e60a7c4713a5c1023c5bcee"
   },
   "start_time": "2025-07-30T20:48:32.264450",
   "version": "2.6.0"
  }
 },
 "nbformat": 4,
 "nbformat_minor": 5
}