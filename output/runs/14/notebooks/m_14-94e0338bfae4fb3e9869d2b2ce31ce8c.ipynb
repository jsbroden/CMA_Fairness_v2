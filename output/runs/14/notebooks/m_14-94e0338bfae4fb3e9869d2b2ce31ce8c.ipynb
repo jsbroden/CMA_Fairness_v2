{
 "cells": [
  {
   "cell_type": "code",
   "execution_count": 1,
   "id": "f159f837-637b-42ba-96b5-ec9a68c44524",
   "metadata": {
    "execution": {
     "iopub.execute_input": "2025-07-30T21:30:23.801513Z",
     "iopub.status.busy": "2025-07-30T21:30:23.801068Z",
     "iopub.status.idle": "2025-07-30T21:30:23.814630Z",
     "shell.execute_reply": "2025-07-30T21:30:23.813774Z"
    },
    "papermill": {
     "duration": 0.040736,
     "end_time": "2025-07-30T21:30:23.816322",
     "exception": false,
     "start_time": "2025-07-30T21:30:23.775586",
     "status": "completed"
    },
    "tags": []
   },
   "outputs": [
    {
     "name": "stdout",
     "output_type": "stream",
     "text": [
      "/dss/dsshome1/0C/ra93lal2/cma/CMA_Fairness_v2\n"
     ]
    },
    {
     "name": "stderr",
     "output_type": "stream",
     "text": [
      "/dss/dsshome1/0C/ra93lal2/.local/share/virtualenvs/CMA_Fairness_v2-3j10GkSs/lib/python3.10/site-packages/IPython/core/magics/osm.py:393: UserWarning: This is now an optional IPython functionality, using bookmarks requires you to install the `pickleshare` library.\n",
      "  bkms = self.shell.db.get('bookmarks', {})\n",
      "/dss/dsshome1/0C/ra93lal2/.local/share/virtualenvs/CMA_Fairness_v2-3j10GkSs/lib/python3.10/site-packages/IPython/core/magics/osm.py:417: UserWarning: This is now an optional IPython functionality, setting dhist requires you to install the `pickleshare` library.\n",
      "  self.shell.db['dhist'] = compress_dhist(dhist)[-100:]\n"
     ]
    }
   ],
   "source": [
    "%cd ~/cma/CMA_Fairness_v2"
   ]
  },
  {
   "cell_type": "markdown",
   "id": "de2603b9",
   "metadata": {
    "papermill": {
     "duration": 0.01521,
     "end_time": "2025-07-30T21:30:23.853805",
     "exception": false,
     "start_time": "2025-07-30T21:30:23.838595",
     "status": "completed"
    },
    "tags": []
   },
   "source": [
    "The following cell holds the definition of our parameters, these values can be overriden by rendering the with e.g. the following command:\n",
    "\n",
    "papermill -p alpha 0.2 -p ratio 0.3 universe_analysis.ipynb output/test_run.ipynb"
   ]
  },
  {
   "cell_type": "code",
   "execution_count": 2,
   "id": "a80968a0-40bb-4fa9-85ef-2d5eefb01975",
   "metadata": {
    "execution": {
     "iopub.execute_input": "2025-07-30T21:30:23.897575Z",
     "iopub.status.busy": "2025-07-30T21:30:23.897111Z",
     "iopub.status.idle": "2025-07-30T21:30:23.902516Z",
     "shell.execute_reply": "2025-07-30T21:30:23.901546Z"
    },
    "papermill": {
     "duration": 0.030067,
     "end_time": "2025-07-30T21:30:23.904254",
     "exception": false,
     "start_time": "2025-07-30T21:30:23.874187",
     "status": "completed"
    },
    "tags": []
   },
   "outputs": [
    {
     "name": "stdout",
     "output_type": "stream",
     "text": [
      "Current working directory: /dss/dsshome1/0C/ra93lal2/cma/CMA_Fairness_v2\n"
     ]
    }
   ],
   "source": [
    "import os\n",
    "print(\"Current working directory:\", os.getcwd())"
   ]
  },
  {
   "cell_type": "code",
   "execution_count": 3,
   "id": "2dce4c03",
   "metadata": {
    "execution": {
     "iopub.execute_input": "2025-07-30T21:30:23.943050Z",
     "iopub.status.busy": "2025-07-30T21:30:23.942493Z",
     "iopub.status.idle": "2025-07-30T21:30:23.948622Z",
     "shell.execute_reply": "2025-07-30T21:30:23.947669Z"
    },
    "papermill": {
     "duration": 0.026046,
     "end_time": "2025-07-30T21:30:23.950122",
     "exception": false,
     "start_time": "2025-07-30T21:30:23.924076",
     "status": "completed"
    },
    "tags": [
     "parameters"
    ]
   },
   "outputs": [],
   "source": [
    "run_no = 0\n",
    "universe_id = \"test\"\n",
    "universe = {\n",
    "    \"training_size\": \"25k\", # \"25k\", \"5k\", \"1k\"\n",
    "    \"training_year\": \"2014\", # \"2014\", \"2012_14\", \"2010_14\"\n",
    "    \"scale\": \"scale\", # \"scale\", \"do-not-scale\",\n",
    "    #\"stratify_split\": \"target\", # \"none\", \"target\", \"protected-attribute\", \"both\",\n",
    "    \"model\": \"elasticnet\", # \"logreg\", \"penalized_logreg\", \"rf\", \"gbm\", \"elasticnet\"\n",
    "    \"cutoff\": [\"quantile_0.15\", \"quantile_0.30\"],\n",
    "    \"exclude_features\": \"age\", # \"none\", \"nationality\", \"sex\", \"nationality-sex\", \"age\"\n",
    "    \"exclude_subgroups\": \"keep-all\", # \"keep-all\", \"drop-non-german\"\n",
    "    \"eval_fairness_grouping\": [\"majority-minority\", \"nationality-all\"]\n",
    "}\n",
    "\n",
    "output_dir=\"./output\"\n",
    "seed=0"
   ]
  },
  {
   "cell_type": "code",
   "execution_count": 4,
   "id": "995162c4",
   "metadata": {
    "execution": {
     "iopub.execute_input": "2025-07-30T21:30:23.981141Z",
     "iopub.status.busy": "2025-07-30T21:30:23.980847Z",
     "iopub.status.idle": "2025-07-30T21:30:23.985228Z",
     "shell.execute_reply": "2025-07-30T21:30:23.984460Z"
    },
    "papermill": {
     "duration": 0.01699,
     "end_time": "2025-07-30T21:30:23.986480",
     "exception": false,
     "start_time": "2025-07-30T21:30:23.969490",
     "status": "completed"
    },
    "tags": [
     "injected-parameters"
    ]
   },
   "outputs": [],
   "source": [
    "# Parameters\n",
    "universe_id = \"94e0338bfae4fb3e9869d2b2ce31ce8c\"\n",
    "run_no = \"14\"\n",
    "universe = \"{\\\"cutoff\\\": [\\\"quantile_0.1\\\", \\\"quantile_0.25\\\"], \\\"eval_fairness_grouping\\\": [\\\"majority-minority\\\", \\\"nationality-all\\\"], \\\"exclude_features\\\": \\\"none\\\", \\\"exclude_subgroups\\\": \\\"keep-all\\\", \\\"model\\\": \\\"gbm\\\", \\\"scale\\\": \\\"do-not-scale\\\", \\\"training_size\\\": \\\"1k\\\", \\\"training_year\\\": \\\"2014\\\"}\"\n",
    "output_dir = \"output\"\n",
    "seed = \"2023\"\n"
   ]
  },
  {
   "cell_type": "code",
   "execution_count": 5,
   "id": "1650acaf",
   "metadata": {
    "execution": {
     "iopub.execute_input": "2025-07-30T21:30:24.024185Z",
     "iopub.status.busy": "2025-07-30T21:30:24.023596Z",
     "iopub.status.idle": "2025-07-30T21:30:24.028195Z",
     "shell.execute_reply": "2025-07-30T21:30:24.027216Z"
    },
    "papermill": {
     "duration": 0.026864,
     "end_time": "2025-07-30T21:30:24.029738",
     "exception": false,
     "start_time": "2025-07-30T21:30:24.002874",
     "status": "completed"
    },
    "tags": []
   },
   "outputs": [],
   "source": [
    "import json\n",
    "# Parse universe into dict if it is passed as a string\n",
    "if isinstance(universe, str):\n",
    "    universe = json.loads(universe)"
   ]
  },
  {
   "cell_type": "code",
   "execution_count": 6,
   "id": "16620c48",
   "metadata": {
    "execution": {
     "iopub.execute_input": "2025-07-30T21:30:24.064696Z",
     "iopub.status.busy": "2025-07-30T21:30:24.064459Z",
     "iopub.status.idle": "2025-07-30T21:30:24.116945Z",
     "shell.execute_reply": "2025-07-30T21:30:24.115933Z"
    },
    "papermill": {
     "duration": 0.068345,
     "end_time": "2025-07-30T21:30:24.118619",
     "exception": false,
     "start_time": "2025-07-30T21:30:24.050274",
     "status": "completed"
    },
    "tags": []
   },
   "outputs": [],
   "source": [
    "# Auto-reload the custom package\n",
    "%load_ext autoreload\n",
    "%autoreload 1\n",
    "%aimport fairness_multiverse"
   ]
  },
  {
   "cell_type": "code",
   "execution_count": 7,
   "id": "01c5c9f3",
   "metadata": {
    "execution": {
     "iopub.execute_input": "2025-07-30T21:30:24.146589Z",
     "iopub.status.busy": "2025-07-30T21:30:24.145787Z",
     "iopub.status.idle": "2025-07-30T21:30:29.721785Z",
     "shell.execute_reply": "2025-07-30T21:30:29.721067Z"
    },
    "papermill": {
     "duration": 5.589196,
     "end_time": "2025-07-30T21:30:29.723149",
     "exception": false,
     "start_time": "2025-07-30T21:30:24.133953",
     "status": "completed"
    },
    "tags": []
   },
   "outputs": [],
   "source": [
    "from fairness_multiverse.universe import UniverseAnalysis\n",
    "\n",
    "universe_analysis = UniverseAnalysis(\n",
    "    run_no = run_no,\n",
    "    universe_id = universe_id,\n",
    "    universe = universe,\n",
    "    output_dir=output_dir,\n",
    ")"
   ]
  },
  {
   "cell_type": "code",
   "execution_count": 8,
   "id": "106241f5",
   "metadata": {
    "execution": {
     "iopub.execute_input": "2025-07-30T21:30:29.748351Z",
     "iopub.status.busy": "2025-07-30T21:30:29.747973Z",
     "iopub.status.idle": "2025-07-30T21:30:29.753453Z",
     "shell.execute_reply": "2025-07-30T21:30:29.752544Z"
    },
    "papermill": {
     "duration": 0.017758,
     "end_time": "2025-07-30T21:30:29.754698",
     "exception": false,
     "start_time": "2025-07-30T21:30:29.736940",
     "status": "completed"
    },
    "tags": []
   },
   "outputs": [
    {
     "name": "stdout",
     "output_type": "stream",
     "text": [
      "Using Seed: 2023\n"
     ]
    }
   ],
   "source": [
    "import numpy as np\n",
    "parsed_seed = int(seed)\n",
    "np.random.seed(parsed_seed)\n",
    "print(f\"Using Seed: {parsed_seed}\")"
   ]
  },
  {
   "cell_type": "markdown",
   "id": "e0ebdc57",
   "metadata": {
    "papermill": {
     "duration": 0.019167,
     "end_time": "2025-07-30T21:30:29.795995",
     "exception": false,
     "start_time": "2025-07-30T21:30:29.776828",
     "status": "completed"
    },
    "tags": []
   },
   "source": [
    "# Loading Data"
   ]
  },
  {
   "cell_type": "markdown",
   "id": "681925a3",
   "metadata": {
    "papermill": {
     "duration": 0.011472,
     "end_time": "2025-07-30T21:30:29.826120",
     "exception": false,
     "start_time": "2025-07-30T21:30:29.814648",
     "status": "completed"
    },
    "tags": []
   },
   "source": [
    "Load siab_train, siab_test, siab_calib and/or \n",
    "load siab_train_features, siab_train_labels"
   ]
  },
  {
   "cell_type": "code",
   "execution_count": 9,
   "id": "f0496b8a",
   "metadata": {
    "execution": {
     "iopub.execute_input": "2025-07-30T21:30:29.851138Z",
     "iopub.status.busy": "2025-07-30T21:30:29.850862Z",
     "iopub.status.idle": "2025-07-30T21:30:44.654531Z",
     "shell.execute_reply": "2025-07-30T21:30:44.653352Z"
    },
    "papermill": {
     "duration": 14.817544,
     "end_time": "2025-07-30T21:30:44.656130",
     "exception": false,
     "start_time": "2025-07-30T21:30:29.838586",
     "status": "completed"
    },
    "tags": []
   },
   "outputs": [
    {
     "name": "stdout",
     "output_type": "stream",
     "text": [
      "Loading SIAB data from cache: data/siab_cached.csv.gz\n"
     ]
    },
    {
     "name": "stdout",
     "output_type": "stream",
     "text": [
      "(643690, 164)\n"
     ]
    }
   ],
   "source": [
    "from pathlib import Path\n",
    "import pandas as pd\n",
    "\n",
    "# File paths\n",
    "raw_file = Path(\"data/raw/siab.csv\")\n",
    "cache_file = Path(\"data/siab_cached.csv.gz\")\n",
    "\n",
    "# Ensure cache directory exists\n",
    "cache_file.parent.mkdir(parents=True, exist_ok=True)\n",
    "\n",
    "# Load with simple caching\n",
    "if cache_file.exists():\n",
    "    print(f\"Loading SIAB data from cache: {cache_file}\")\n",
    "    siab = pd.read_csv(cache_file, compression='gzip')\n",
    "else:\n",
    "    print(f\"Cache not found. Reading raw SIAB data: {raw_file}\")\n",
    "    siab = pd.read_csv(raw_file)\n",
    "    siab.to_csv(cache_file, index=False, compression='gzip')\n",
    "    print(f\"Cached SIAB data to: {cache_file}\")\n",
    "\n",
    "# Now use `siab` DataFrame as needed\n",
    "print(siab.shape)"
   ]
  },
  {
   "cell_type": "code",
   "execution_count": 10,
   "id": "db0ca512-5f53-4dba-abdb-a2888bca41ba",
   "metadata": {
    "execution": {
     "iopub.execute_input": "2025-07-30T21:30:44.733684Z",
     "iopub.status.busy": "2025-07-30T21:30:44.733244Z",
     "iopub.status.idle": "2025-07-30T21:30:44.739784Z",
     "shell.execute_reply": "2025-07-30T21:30:44.738793Z"
    },
    "papermill": {
     "duration": 0.063162,
     "end_time": "2025-07-30T21:30:44.759075",
     "exception": false,
     "start_time": "2025-07-30T21:30:44.695913",
     "status": "completed"
    },
    "tags": []
   },
   "outputs": [],
   "source": [
    "#siab"
   ]
  },
  {
   "cell_type": "code",
   "execution_count": 11,
   "id": "a0edb063",
   "metadata": {
    "execution": {
     "iopub.execute_input": "2025-07-30T21:30:44.843306Z",
     "iopub.status.busy": "2025-07-30T21:30:44.842587Z",
     "iopub.status.idle": "2025-07-30T21:30:44.847720Z",
     "shell.execute_reply": "2025-07-30T21:30:44.846756Z"
    },
    "papermill": {
     "duration": 0.057473,
     "end_time": "2025-07-30T21:30:44.849688",
     "exception": false,
     "start_time": "2025-07-30T21:30:44.792215",
     "status": "completed"
    },
    "tags": []
   },
   "outputs": [],
   "source": [
    "#import pandas as pd\n",
    "#\n",
    "#X_train = pd.read_csv(\"./data/X_train.csv\")\n",
    "#y_train = pd.read_csv(\"./data/y_train.csv\")"
   ]
  },
  {
   "cell_type": "code",
   "execution_count": 12,
   "id": "63d08085",
   "metadata": {
    "execution": {
     "iopub.execute_input": "2025-07-30T21:30:44.898792Z",
     "iopub.status.busy": "2025-07-30T21:30:44.897898Z",
     "iopub.status.idle": "2025-07-30T21:30:44.903078Z",
     "shell.execute_reply": "2025-07-30T21:30:44.902096Z"
    },
    "papermill": {
     "duration": 0.030625,
     "end_time": "2025-07-30T21:30:44.904874",
     "exception": false,
     "start_time": "2025-07-30T21:30:44.874249",
     "status": "completed"
    },
    "tags": []
   },
   "outputs": [],
   "source": [
    "#X_test = pd.read_csv(\"./data/X_test.csv\")\n",
    "#y_true = pd.read_csv(\"./data/y_test.csv\")"
   ]
  },
  {
   "cell_type": "code",
   "execution_count": 13,
   "id": "98a8d0fa-1d3d-4ed8-bb2c-281470e24add",
   "metadata": {
    "execution": {
     "iopub.execute_input": "2025-07-30T21:30:44.952311Z",
     "iopub.status.busy": "2025-07-30T21:30:44.951576Z",
     "iopub.status.idle": "2025-07-30T21:30:44.956591Z",
     "shell.execute_reply": "2025-07-30T21:30:44.955692Z"
    },
    "papermill": {
     "duration": 0.03062,
     "end_time": "2025-07-30T21:30:44.958085",
     "exception": false,
     "start_time": "2025-07-30T21:30:44.927465",
     "status": "completed"
    },
    "tags": []
   },
   "outputs": [],
   "source": [
    "# Calibration data for conformal\n",
    "#X_calib = pd.read_csv(\"./data/X_calib.csv\")\n",
    "#y_calib = pd.read_csv(\"./data/y_calib.csv\")"
   ]
  },
  {
   "cell_type": "markdown",
   "id": "997051c5-15bd-4b69-9786-c3001a3ce484",
   "metadata": {
    "papermill": {
     "duration": 0.022604,
     "end_time": "2025-07-30T21:30:45.002530",
     "exception": false,
     "start_time": "2025-07-30T21:30:44.979926",
     "status": "completed"
    },
    "tags": []
   },
   "source": [
    "# Splitting Data and Setting Training Data Size"
   ]
  },
  {
   "cell_type": "code",
   "execution_count": 14,
   "id": "e993b61f-042d-41a6-8c81-f55681f86335",
   "metadata": {
    "execution": {
     "iopub.execute_input": "2025-07-30T21:30:45.054883Z",
     "iopub.status.busy": "2025-07-30T21:30:45.054014Z",
     "iopub.status.idle": "2025-07-30T21:30:45.069127Z",
     "shell.execute_reply": "2025-07-30T21:30:45.067921Z"
    },
    "papermill": {
     "duration": 0.041793,
     "end_time": "2025-07-30T21:30:45.070787",
     "exception": false,
     "start_time": "2025-07-30T21:30:45.028994",
     "status": "completed"
    },
    "tags": []
   },
   "outputs": [],
   "source": [
    "def sample_by_year_size(df,\n",
    "                        training_year: str,\n",
    "                        training_size: str,\n",
    "                        random_state: int = 42):\n",
    "    # --- parse training_year into a list of int years ---\n",
    "    if \"_\" in training_year:\n",
    "        start_str, end_str = training_year.split(\"_\", 1)\n",
    "        start = int(start_str)\n",
    "        end   = int(end_str) if len(end_str) == 4 else (int(end_str) + (start // 100)*100)\n",
    "        years = list(range(start, end + 1))\n",
    "    else:\n",
    "        years = [int(training_year)]\n",
    "\n",
    "    df = df[df[\"year\"].isin(years)].reset_index(drop=True)\n",
    "\n",
    "    # --- map training_size to total number of samples ---\n",
    "    total_map = {\"25k\": 25_000, \"5k\": 5_000, \"1k\": 1_000}\n",
    "    if training_size not in total_map:\n",
    "        return df  # e.g. \"all\"\n",
    "\n",
    "    total_samples = total_map[training_size]\n",
    "    n_years       = len(years)\n",
    "    base          = total_samples // n_years\n",
    "    remainder     = total_samples % n_years\n",
    "\n",
    "    # --- build a dict: year -> how many to sample ---\n",
    "    # give +1 to the first `remainder` years in ascending order\n",
    "    quotas = {\n",
    "        year: base + (1 if idx < remainder else 0)\n",
    "        for idx, year in enumerate(sorted(years))\n",
    "    }\n",
    "\n",
    "    # --- sample per‐year according to the quota dict ---\n",
    "    sampled = (\n",
    "        df\n",
    "        .groupby(\"year\", group_keys=False)\n",
    "        .apply(lambda grp: grp.sample(\n",
    "            n=min(len(grp), quotas[grp.name]),\n",
    "            random_state=random_state))\n",
    "        .reset_index(drop=True)\n",
    "    )\n",
    "\n",
    "    return sampled"
   ]
  },
  {
   "cell_type": "code",
   "execution_count": 15,
   "id": "c0ccd338-0e02-41f3-a09d-f56f9266e3fb",
   "metadata": {
    "execution": {
     "iopub.execute_input": "2025-07-30T21:30:45.119641Z",
     "iopub.status.busy": "2025-07-30T21:30:45.119089Z",
     "iopub.status.idle": "2025-07-30T21:30:45.124629Z",
     "shell.execute_reply": "2025-07-30T21:30:45.123504Z"
    },
    "papermill": {
     "duration": 0.031406,
     "end_time": "2025-07-30T21:30:45.126598",
     "exception": false,
     "start_time": "2025-07-30T21:30:45.095192",
     "status": "completed"
    },
    "tags": []
   },
   "outputs": [],
   "source": [
    "#universe[\"training_size\"]"
   ]
  },
  {
   "cell_type": "code",
   "execution_count": 16,
   "id": "ca707fd7-8047-4acd-bfa5-66248fbbf8e6",
   "metadata": {
    "execution": {
     "iopub.execute_input": "2025-07-30T21:30:45.178231Z",
     "iopub.status.busy": "2025-07-30T21:30:45.177731Z",
     "iopub.status.idle": "2025-07-30T21:30:45.183612Z",
     "shell.execute_reply": "2025-07-30T21:30:45.182600Z"
    },
    "papermill": {
     "duration": 0.035265,
     "end_time": "2025-07-30T21:30:45.186999",
     "exception": false,
     "start_time": "2025-07-30T21:30:45.151734",
     "status": "completed"
    },
    "tags": []
   },
   "outputs": [],
   "source": [
    "#universe[\"training_year\"]"
   ]
  },
  {
   "cell_type": "code",
   "execution_count": 17,
   "id": "aea9c6ef-6f46-42c8-85eb-5a62025c1508",
   "metadata": {
    "execution": {
     "iopub.execute_input": "2025-07-30T21:30:45.239211Z",
     "iopub.status.busy": "2025-07-30T21:30:45.238739Z",
     "iopub.status.idle": "2025-07-30T21:30:45.530502Z",
     "shell.execute_reply": "2025-07-30T21:30:45.529496Z"
    },
    "papermill": {
     "duration": 0.322435,
     "end_time": "2025-07-30T21:30:45.532325",
     "exception": false,
     "start_time": "2025-07-30T21:30:45.209890",
     "status": "completed"
    },
    "tags": []
   },
   "outputs": [],
   "source": [
    "siab_train = sample_by_year_size(siab,\n",
    "                               training_year=universe[\"training_year\"],\n",
    "                               training_size=universe[\"training_size\"])"
   ]
  },
  {
   "cell_type": "code",
   "execution_count": 18,
   "id": "8d3afb32-789d-442c-8d5d-9f5aa8dd2eed",
   "metadata": {
    "execution": {
     "iopub.execute_input": "2025-07-30T21:30:45.623703Z",
     "iopub.status.busy": "2025-07-30T21:30:45.622572Z",
     "iopub.status.idle": "2025-07-30T21:30:45.629063Z",
     "shell.execute_reply": "2025-07-30T21:30:45.627955Z"
    },
    "papermill": {
     "duration": 0.073575,
     "end_time": "2025-07-30T21:30:45.632387",
     "exception": false,
     "start_time": "2025-07-30T21:30:45.558812",
     "status": "completed"
    },
    "tags": []
   },
   "outputs": [],
   "source": [
    "#siab_train.shape"
   ]
  },
  {
   "cell_type": "code",
   "execution_count": 19,
   "id": "d582db68-1a4c-47fb-84fc-08518dc1975a",
   "metadata": {
    "execution": {
     "iopub.execute_input": "2025-07-30T21:30:45.694785Z",
     "iopub.status.busy": "2025-07-30T21:30:45.694287Z",
     "iopub.status.idle": "2025-07-30T21:30:45.702333Z",
     "shell.execute_reply": "2025-07-30T21:30:45.701276Z"
    },
    "papermill": {
     "duration": 0.048761,
     "end_time": "2025-07-30T21:30:45.704567",
     "exception": false,
     "start_time": "2025-07-30T21:30:45.655806",
     "status": "completed"
    },
    "tags": []
   },
   "outputs": [],
   "source": [
    "#display(siab_train.groupby(\"year\").size())"
   ]
  },
  {
   "cell_type": "code",
   "execution_count": 20,
   "id": "a561edb4-d032-42cb-8256-22eac1111c64",
   "metadata": {
    "execution": {
     "iopub.execute_input": "2025-07-30T21:30:45.797656Z",
     "iopub.status.busy": "2025-07-30T21:30:45.797104Z",
     "iopub.status.idle": "2025-07-30T21:30:46.145505Z",
     "shell.execute_reply": "2025-07-30T21:30:46.144771Z"
    },
    "papermill": {
     "duration": 0.381131,
     "end_time": "2025-07-30T21:30:46.147104",
     "exception": false,
     "start_time": "2025-07-30T21:30:45.765973",
     "status": "completed"
    },
    "tags": []
   },
   "outputs": [],
   "source": [
    "#siab_train = siab_s[siab_s.year < 2015]\n",
    "siab_calib = siab[siab.year == 2015]\n",
    "siab_test = siab[siab.year == 2016]"
   ]
  },
  {
   "cell_type": "code",
   "execution_count": 21,
   "id": "472de16f-c3db-4916-846b-1f0de9cf1746",
   "metadata": {
    "execution": {
     "iopub.execute_input": "2025-07-30T21:30:46.196666Z",
     "iopub.status.busy": "2025-07-30T21:30:46.195710Z",
     "iopub.status.idle": "2025-07-30T21:30:46.203306Z",
     "shell.execute_reply": "2025-07-30T21:30:46.202255Z"
    },
    "papermill": {
     "duration": 0.04072,
     "end_time": "2025-07-30T21:30:46.211726",
     "exception": false,
     "start_time": "2025-07-30T21:30:46.171006",
     "status": "completed"
    },
    "tags": []
   },
   "outputs": [],
   "source": [
    "X_train = siab_train.iloc[:,4:164]\n",
    "y_train = siab_train.iloc[:, [3]]"
   ]
  },
  {
   "cell_type": "code",
   "execution_count": 22,
   "id": "828c96af-f43a-4ed6-ba47-8ac73a47d56c",
   "metadata": {
    "execution": {
     "iopub.execute_input": "2025-07-30T21:30:46.277060Z",
     "iopub.status.busy": "2025-07-30T21:30:46.276518Z",
     "iopub.status.idle": "2025-07-30T21:30:46.334259Z",
     "shell.execute_reply": "2025-07-30T21:30:46.333270Z"
    },
    "papermill": {
     "duration": 0.092768,
     "end_time": "2025-07-30T21:30:46.336764",
     "exception": false,
     "start_time": "2025-07-30T21:30:46.243996",
     "status": "completed"
    },
    "tags": []
   },
   "outputs": [],
   "source": [
    "X_calib = siab_calib.iloc[:,4:164]\n",
    "y_calib = siab_calib.iloc[:, [3]]"
   ]
  },
  {
   "cell_type": "code",
   "execution_count": 23,
   "id": "c34be9c3-6bd6-476e-acd3-845840e303be",
   "metadata": {
    "execution": {
     "iopub.execute_input": "2025-07-30T21:30:46.390420Z",
     "iopub.status.busy": "2025-07-30T21:30:46.389993Z",
     "iopub.status.idle": "2025-07-30T21:30:46.451857Z",
     "shell.execute_reply": "2025-07-30T21:30:46.450697Z"
    },
    "papermill": {
     "duration": 0.093417,
     "end_time": "2025-07-30T21:30:46.454300",
     "exception": false,
     "start_time": "2025-07-30T21:30:46.360883",
     "status": "completed"
    },
    "tags": []
   },
   "outputs": [],
   "source": [
    "X_test = siab_test.iloc[:,4:164]\n",
    "y_true = siab_test.iloc[:, [3]]"
   ]
  },
  {
   "cell_type": "markdown",
   "id": "9901737e-04df-44f0-9100-f5ad144ed040",
   "metadata": {
    "papermill": {
     "duration": 0.046242,
     "end_time": "2025-07-30T21:30:46.526762",
     "exception": false,
     "start_time": "2025-07-30T21:30:46.480520",
     "status": "completed"
    },
    "tags": []
   },
   "source": [
    "# Splitting Data and Setting Training Data Size OLD VERSION"
   ]
  },
  {
   "cell_type": "code",
   "execution_count": 24,
   "id": "acbc8f7d-8fc8-4e86-8c59-5dcb0f58384b",
   "metadata": {
    "execution": {
     "iopub.execute_input": "2025-07-30T21:30:46.624831Z",
     "iopub.status.busy": "2025-07-30T21:30:46.623418Z",
     "iopub.status.idle": "2025-07-30T21:30:46.632110Z",
     "shell.execute_reply": "2025-07-30T21:30:46.630635Z"
    },
    "papermill": {
     "duration": 0.049968,
     "end_time": "2025-07-30T21:30:46.642437",
     "exception": false,
     "start_time": "2025-07-30T21:30:46.592469",
     "status": "completed"
    },
    "tags": []
   },
   "outputs": [],
   "source": [
    "#def sample_by_year(df, training_size, random_state=42):\n",
    "#    if training_size == \"2014\":\n",
    "#        return df[df[\"year\"] == 2014].reset_index(drop=True)\n",
    "#    \n",
    "#    size_map = {\n",
    "#        \"25k\": 5000,\n",
    "#        \"5k\": 1000,\n",
    "#        \"1k\": 200\n",
    "#    }\n",
    "#\n",
    "#    if training_size not in size_map:\n",
    "#        return df.reset_index(drop=True)  # use all data\n",
    "#\n",
    "#    n_per_year = size_map[training_size]\n",
    "#    grouped = df.groupby(\"year\")\n",
    "#    sampled = grouped.apply(lambda x: x.sample(n=min(n_per_year, len(x)), random_state=random_state))\n",
    "#    return sampled.reset_index(drop=True)"
   ]
  },
  {
   "cell_type": "code",
   "execution_count": 25,
   "id": "6d931f52-beaf-43ff-9e78-9d44a448d54e",
   "metadata": {
    "execution": {
     "iopub.execute_input": "2025-07-30T21:30:46.729807Z",
     "iopub.status.busy": "2025-07-30T21:30:46.729397Z",
     "iopub.status.idle": "2025-07-30T21:30:46.735518Z",
     "shell.execute_reply": "2025-07-30T21:30:46.734515Z"
    },
    "papermill": {
     "duration": 0.054516,
     "end_time": "2025-07-30T21:30:46.750450",
     "exception": false,
     "start_time": "2025-07-30T21:30:46.695934",
     "status": "completed"
    },
    "tags": []
   },
   "outputs": [],
   "source": [
    "#siab_s = sample_by_year(siab, universe[\"training_size\"])"
   ]
  },
  {
   "cell_type": "code",
   "execution_count": 26,
   "id": "5db0a40e-a4e2-4920-be85-b12ae061d70d",
   "metadata": {
    "execution": {
     "iopub.execute_input": "2025-07-30T21:30:46.829476Z",
     "iopub.status.busy": "2025-07-30T21:30:46.829078Z",
     "iopub.status.idle": "2025-07-30T21:30:46.836102Z",
     "shell.execute_reply": "2025-07-30T21:30:46.834920Z"
    },
    "papermill": {
     "duration": 0.055554,
     "end_time": "2025-07-30T21:30:46.838388",
     "exception": false,
     "start_time": "2025-07-30T21:30:46.782834",
     "status": "completed"
    },
    "tags": []
   },
   "outputs": [],
   "source": [
    "#display(siab_s.groupby(\"year\").size())"
   ]
  },
  {
   "cell_type": "code",
   "execution_count": 27,
   "id": "e6c733c5",
   "metadata": {
    "execution": {
     "iopub.execute_input": "2025-07-30T21:30:46.923002Z",
     "iopub.status.busy": "2025-07-30T21:30:46.922476Z",
     "iopub.status.idle": "2025-07-30T21:30:47.030565Z",
     "shell.execute_reply": "2025-07-30T21:30:47.029593Z"
    },
    "papermill": {
     "duration": 0.132662,
     "end_time": "2025-07-30T21:30:47.032857",
     "exception": false,
     "start_time": "2025-07-30T21:30:46.900195",
     "status": "completed"
    },
    "tags": []
   },
   "outputs": [],
   "source": [
    "# Auxiliary data needed downstream in the pipeline\n",
    "\n",
    "org_train = X_train.copy()\n",
    "org_test = X_test.copy()\n",
    "org_calib = X_calib.copy()"
   ]
  },
  {
   "cell_type": "code",
   "execution_count": 28,
   "id": "1466abac-c6da-4492-a62f-4240ae3783af",
   "metadata": {
    "execution": {
     "iopub.execute_input": "2025-07-30T21:30:47.084009Z",
     "iopub.status.busy": "2025-07-30T21:30:47.083125Z",
     "iopub.status.idle": "2025-07-30T21:30:47.089153Z",
     "shell.execute_reply": "2025-07-30T21:30:47.088202Z"
    },
    "papermill": {
     "duration": 0.033496,
     "end_time": "2025-07-30T21:30:47.091056",
     "exception": false,
     "start_time": "2025-07-30T21:30:47.057560",
     "status": "completed"
    },
    "tags": []
   },
   "outputs": [],
   "source": [
    "# put in other script?\n",
    "# Group sizes\n",
    "\n",
    "#def calculate_percentages(df, df_name):\n",
    "#    total_entries = len(df)\n",
    "#\n",
    "#    female_pct = (df['frau1'] == 1).mean() * 100\n",
    "#    non_german_pct = ((df['maxdeutsch1'] == 0) & (df['maxdeutsch.Missing.'] == 0)).mean() * 100\n",
    "#    non_german_male_pct = ((df['frau1'] == 0) & (df['maxdeutsch1'] == 0) & (df['maxdeutsch.Missing.'] == 0)).mean() * 100\n",
    "#    non_german_female_pct = ((df['frau1'] == 1) & (df['maxdeutsch1'] == 0) & (df['maxdeutsch.Missing.'] == 0)).mean() * 100\n",
    "#\n",
    "#    print(f\"--- {df_name} ---\")\n",
    "#    print(f\"Female: {female_pct:.2f}%\")\n",
    "#    print(f\"Non-German: {non_german_pct:.2f}%\")\n",
    "#    print(f\"Non-German Male: {non_german_male_pct:.2f}%\")\n",
    "#    print(f\"Non-German Female: {non_german_female_pct:.2f}%\\n\")\n",
    "#\n",
    "## Calculate for each DataFrame\n",
    "#calculate_percentages(siab_calib, \"siab_calib\")\n",
    "#calculate_percentages(siab_test, \"siab_test\")\n",
    "#calculate_percentages(siab_train, \"siab_train\")"
   ]
  },
  {
   "cell_type": "markdown",
   "id": "0a4a1b33",
   "metadata": {
    "papermill": {
     "duration": 0.024537,
     "end_time": "2025-07-30T21:30:47.141481",
     "exception": false,
     "start_time": "2025-07-30T21:30:47.116944",
     "status": "completed"
    },
    "tags": []
   },
   "source": [
    "# Preprocessing Data"
   ]
  },
  {
   "cell_type": "code",
   "execution_count": 29,
   "id": "ca879031",
   "metadata": {
    "execution": {
     "iopub.execute_input": "2025-07-30T21:30:47.192215Z",
     "iopub.status.busy": "2025-07-30T21:30:47.191679Z",
     "iopub.status.idle": "2025-07-30T21:30:47.198169Z",
     "shell.execute_reply": "2025-07-30T21:30:47.197127Z"
    },
    "papermill": {
     "duration": 0.033311,
     "end_time": "2025-07-30T21:30:47.199948",
     "exception": false,
     "start_time": "2025-07-30T21:30:47.166637",
     "status": "completed"
    },
    "tags": []
   },
   "outputs": [],
   "source": [
    "# EXCLUDE PROTECTED FEATURES\n",
    "# ----------------------\n",
    "# \"exclude_features\": \"none\", # \"nationality\", \"sex\", \"nationality-sex\"\n",
    "\n",
    "excluded_features = universe[\"exclude_features\"].split(\"-\") # split, e.g.: \"nationality-sex\" -> [\"nationality\", \"sex\"]\n",
    "excluded_features_dictionary = {\n",
    "    \"nationality\": [\"maxdeutsch1\", \"maxdeutsch.Missing.\"],\n",
    "    \"sex\": [\"frau1\"],\n",
    "    \"age\": [\"age\"],\n",
    "}\n"
   ]
  },
  {
   "cell_type": "code",
   "execution_count": 30,
   "id": "b745ac60",
   "metadata": {
    "execution": {
     "iopub.execute_input": "2025-07-30T21:30:47.247681Z",
     "iopub.status.busy": "2025-07-30T21:30:47.246977Z",
     "iopub.status.idle": "2025-07-30T21:30:47.252846Z",
     "shell.execute_reply": "2025-07-30T21:30:47.251833Z"
    },
    "papermill": {
     "duration": 0.031996,
     "end_time": "2025-07-30T21:30:47.254847",
     "exception": false,
     "start_time": "2025-07-30T21:30:47.222851",
     "status": "completed"
    },
    "tags": []
   },
   "outputs": [],
   "source": [
    "# Code nice names to column names\n",
    "\n",
    "excluded_features_columns = [\n",
    "    excluded_features_dictionary[f] for f in excluded_features if len(f) > 0 and f != \"none\"\n",
    "]"
   ]
  },
  {
   "cell_type": "code",
   "execution_count": 31,
   "id": "f84f73a2",
   "metadata": {
    "execution": {
     "iopub.execute_input": "2025-07-30T21:30:47.306280Z",
     "iopub.status.busy": "2025-07-30T21:30:47.305748Z",
     "iopub.status.idle": "2025-07-30T21:30:47.312378Z",
     "shell.execute_reply": "2025-07-30T21:30:47.311284Z"
    },
    "papermill": {
     "duration": 0.034247,
     "end_time": "2025-07-30T21:30:47.313901",
     "exception": false,
     "start_time": "2025-07-30T21:30:47.279654",
     "status": "completed"
    },
    "tags": []
   },
   "outputs": [],
   "source": [
    "from utils import flatten_once\n",
    "\n",
    "excluded_features_columns = flatten_once(excluded_features_columns)"
   ]
  },
  {
   "cell_type": "code",
   "execution_count": 32,
   "id": "884dea22",
   "metadata": {
    "execution": {
     "iopub.execute_input": "2025-07-30T21:30:47.362479Z",
     "iopub.status.busy": "2025-07-30T21:30:47.361768Z",
     "iopub.status.idle": "2025-07-30T21:30:47.368282Z",
     "shell.execute_reply": "2025-07-30T21:30:47.367221Z"
    },
    "papermill": {
     "duration": 0.032788,
     "end_time": "2025-07-30T21:30:47.370056",
     "exception": false,
     "start_time": "2025-07-30T21:30:47.337268",
     "status": "completed"
    },
    "tags": []
   },
   "outputs": [],
   "source": [
    "if len(excluded_features_columns) > 0:\n",
    "    print(f\"Dropping features: {excluded_features_columns}\")\n",
    "    X_train.drop(excluded_features_columns, axis=1, inplace=True)"
   ]
  },
  {
   "cell_type": "code",
   "execution_count": 33,
   "id": "95ab8b16",
   "metadata": {
    "execution": {
     "iopub.execute_input": "2025-07-30T21:30:47.419976Z",
     "iopub.status.busy": "2025-07-30T21:30:47.419318Z",
     "iopub.status.idle": "2025-07-30T21:30:47.427098Z",
     "shell.execute_reply": "2025-07-30T21:30:47.425897Z"
    },
    "papermill": {
     "duration": 0.036198,
     "end_time": "2025-07-30T21:30:47.429289",
     "exception": false,
     "start_time": "2025-07-30T21:30:47.393091",
     "status": "completed"
    },
    "tags": []
   },
   "outputs": [],
   "source": [
    "if len(excluded_features_columns) > 0:\n",
    "    print(f\"Dropping features: {excluded_features_columns}\")\n",
    "    X_test.drop(excluded_features_columns, axis=1, inplace=True)"
   ]
  },
  {
   "cell_type": "code",
   "execution_count": 34,
   "id": "1853aaf5-fb9f-46cb-a2b5-8ea4ae2237e4",
   "metadata": {
    "execution": {
     "iopub.execute_input": "2025-07-30T21:30:47.481621Z",
     "iopub.status.busy": "2025-07-30T21:30:47.480960Z",
     "iopub.status.idle": "2025-07-30T21:30:47.486642Z",
     "shell.execute_reply": "2025-07-30T21:30:47.485815Z"
    },
    "papermill": {
     "duration": 0.034302,
     "end_time": "2025-07-30T21:30:47.488363",
     "exception": false,
     "start_time": "2025-07-30T21:30:47.454061",
     "status": "completed"
    },
    "tags": []
   },
   "outputs": [],
   "source": [
    "if len(excluded_features_columns) > 0:\n",
    "    print(f\"Dropping features: {excluded_features_columns}\")\n",
    "    X_calib.drop(excluded_features_columns, axis=1, inplace=True)"
   ]
  },
  {
   "cell_type": "code",
   "execution_count": 35,
   "id": "6727d079-03e5-481e-9d38-292a90b7a0a8",
   "metadata": {
    "execution": {
     "iopub.execute_input": "2025-07-30T21:30:47.537286Z",
     "iopub.status.busy": "2025-07-30T21:30:47.536827Z",
     "iopub.status.idle": "2025-07-30T21:30:47.542046Z",
     "shell.execute_reply": "2025-07-30T21:30:47.541185Z"
    },
    "papermill": {
     "duration": 0.031684,
     "end_time": "2025-07-30T21:30:47.543816",
     "exception": false,
     "start_time": "2025-07-30T21:30:47.512132",
     "status": "completed"
    },
    "tags": []
   },
   "outputs": [],
   "source": [
    "# SPLIT & STRATIFY DATA\n",
    "# ----------------------"
   ]
  },
  {
   "cell_type": "code",
   "execution_count": 36,
   "id": "76c4dc6d",
   "metadata": {
    "execution": {
     "iopub.execute_input": "2025-07-30T21:30:47.597260Z",
     "iopub.status.busy": "2025-07-30T21:30:47.596803Z",
     "iopub.status.idle": "2025-07-30T21:30:47.602449Z",
     "shell.execute_reply": "2025-07-30T21:30:47.601574Z"
    },
    "papermill": {
     "duration": 0.032981,
     "end_time": "2025-07-30T21:30:47.604063",
     "exception": false,
     "start_time": "2025-07-30T21:30:47.571082",
     "status": "completed"
    },
    "tags": []
   },
   "outputs": [],
   "source": [
    "# EXCLUDE CERTAIN SUBGROUPS\n",
    "# ----------------------\n",
    "\n",
    "mode = universe.get(\"exclude_subgroups\", \"keep-all\") \n",
    "# Fetches the exclude_subgroups setting from the universe dict.\n",
    "# Defaults to \"keep-all\" if the key is missing."
   ]
  },
  {
   "cell_type": "code",
   "execution_count": 37,
   "id": "21994072",
   "metadata": {
    "execution": {
     "iopub.execute_input": "2025-07-30T21:30:47.653051Z",
     "iopub.status.busy": "2025-07-30T21:30:47.652600Z",
     "iopub.status.idle": "2025-07-30T21:30:47.659917Z",
     "shell.execute_reply": "2025-07-30T21:30:47.658994Z"
    },
    "papermill": {
     "duration": 0.033807,
     "end_time": "2025-07-30T21:30:47.661504",
     "exception": false,
     "start_time": "2025-07-30T21:30:47.627697",
     "status": "completed"
    },
    "tags": []
   },
   "outputs": [],
   "source": [
    "if mode == \"keep-all\":\n",
    "    keep_mask = pd.Series(True, index=org_train.index)\n",
    "\n",
    "# org_train contains the original feature columns from features_org (in Simson)\n",
    "# features_org contains unprocessed features, for me X_train at beginning ???\n",
    "# For keep-all, creates a boolean Series (keep_mask) of all True, so no rows are removed.\n",
    "\n",
    "elif mode == \"drop-non-german\":\n",
    "    keep_mask = org_train[\"maxdeutsch1\"] == 1 # ??? what about missing values?\n",
    "\n",
    "else:\n",
    "    raise ValueError(f\"Unsupported mode for exclude_subgroups: {mode}\")\n"
   ]
  },
  {
   "cell_type": "code",
   "execution_count": 38,
   "id": "71651440",
   "metadata": {
    "execution": {
     "iopub.execute_input": "2025-07-30T21:30:47.709337Z",
     "iopub.status.busy": "2025-07-30T21:30:47.708850Z",
     "iopub.status.idle": "2025-07-30T21:30:47.718767Z",
     "shell.execute_reply": "2025-07-30T21:30:47.717768Z"
    },
    "papermill": {
     "duration": 0.036699,
     "end_time": "2025-07-30T21:30:47.720628",
     "exception": false,
     "start_time": "2025-07-30T21:30:47.683929",
     "status": "completed"
    },
    "tags": []
   },
   "outputs": [],
   "source": [
    "n_drop = (~keep_mask).sum() # Calculates how many rows are set to be dropped\n",
    "if n_drop > 0:\n",
    "    pct = n_drop / len(keep_mask) * 100\n",
    "    print(f\"Dropping {n_drop} rows ({pct:.2f}%) where mode='{mode}'\")"
   ]
  },
  {
   "cell_type": "code",
   "execution_count": 39,
   "id": "5fb8eee5",
   "metadata": {
    "execution": {
     "iopub.execute_input": "2025-07-30T21:30:47.770373Z",
     "iopub.status.busy": "2025-07-30T21:30:47.769404Z",
     "iopub.status.idle": "2025-07-30T21:30:47.775899Z",
     "shell.execute_reply": "2025-07-30T21:30:47.774898Z"
    },
    "papermill": {
     "duration": 0.034293,
     "end_time": "2025-07-30T21:30:47.777719",
     "exception": false,
     "start_time": "2025-07-30T21:30:47.743426",
     "status": "completed"
    },
    "tags": []
   },
   "outputs": [],
   "source": [
    "X_train = X_train[keep_mask]"
   ]
  },
  {
   "cell_type": "code",
   "execution_count": 40,
   "id": "b202bb3a",
   "metadata": {
    "execution": {
     "iopub.execute_input": "2025-07-30T21:30:47.827313Z",
     "iopub.status.busy": "2025-07-30T21:30:47.826800Z",
     "iopub.status.idle": "2025-07-30T21:30:47.833425Z",
     "shell.execute_reply": "2025-07-30T21:30:47.832441Z"
    },
    "papermill": {
     "duration": 0.033464,
     "end_time": "2025-07-30T21:30:47.835338",
     "exception": false,
     "start_time": "2025-07-30T21:30:47.801874",
     "status": "completed"
    },
    "tags": []
   },
   "outputs": [],
   "source": [
    "y_train = y_train[keep_mask]"
   ]
  },
  {
   "cell_type": "markdown",
   "id": "493e2ac3",
   "metadata": {
    "papermill": {
     "duration": 0.023306,
     "end_time": "2025-07-30T21:30:47.883306",
     "exception": false,
     "start_time": "2025-07-30T21:30:47.860000",
     "status": "completed"
    },
    "tags": []
   },
   "source": [
    "# Model Training"
   ]
  },
  {
   "cell_type": "code",
   "execution_count": 41,
   "id": "679e1268",
   "metadata": {
    "execution": {
     "iopub.execute_input": "2025-07-30T21:30:47.932291Z",
     "iopub.status.busy": "2025-07-30T21:30:47.931785Z",
     "iopub.status.idle": "2025-07-30T21:30:48.042287Z",
     "shell.execute_reply": "2025-07-30T21:30:48.041100Z"
    },
    "papermill": {
     "duration": 0.137393,
     "end_time": "2025-07-30T21:30:48.043978",
     "exception": false,
     "start_time": "2025-07-30T21:30:47.906585",
     "status": "completed"
    },
    "tags": []
   },
   "outputs": [],
   "source": [
    "from sklearn.linear_model import LogisticRegression\n",
    "from sklearn.ensemble import GradientBoostingClassifier, RandomForestClassifier\n",
    "\n",
    "if (universe[\"model\"] == \"logreg\"):\n",
    "    model = LogisticRegression() #penalty=\"none\") #, solver=\"newton-cg\", max_iter=1) # include random_state=19 ?\n",
    "elif (universe[\"model\"] == \"penalized_logreg\"):\n",
    "    model = LogisticRegression(penalty=\"l2\", C=1.0) #, solver=\"newton-cg\", max_iter=1)\n",
    "elif (universe[\"model\"] == \"rf\"):\n",
    "    model = RandomForestClassifier(n_estimators=100, n_jobs=-1)\n",
    "elif (universe[\"model\"] == \"gbm\"):\n",
    "    model = GradientBoostingClassifier()\n",
    "elif (universe[\"model\"] == \"elasticnet\"):\n",
    "    model = LogisticRegression(penalty = 'elasticnet', solver = 'saga', l1_ratio = 0.5, max_iter=5000) # which solver to use?\n",
    "else:\n",
    "    raise \"Unsupported universe.model\""
   ]
  },
  {
   "cell_type": "code",
   "execution_count": 42,
   "id": "0cc8f744",
   "metadata": {
    "execution": {
     "iopub.execute_input": "2025-07-30T21:30:48.090829Z",
     "iopub.status.busy": "2025-07-30T21:30:48.090020Z",
     "iopub.status.idle": "2025-07-30T21:30:48.096963Z",
     "shell.execute_reply": "2025-07-30T21:30:48.095557Z"
    },
    "papermill": {
     "duration": 0.034676,
     "end_time": "2025-07-30T21:30:48.100901",
     "exception": false,
     "start_time": "2025-07-30T21:30:48.066225",
     "status": "completed"
    },
    "tags": []
   },
   "outputs": [],
   "source": [
    "import numpy as np\n",
    "from sklearn.pipeline import Pipeline\n",
    "from sklearn.preprocessing import StandardScaler\n",
    "\n",
    "model = Pipeline([\n",
    "    #(\"continuous_processor\", continuous_processor),\n",
    "    #(\"categorical_preprocessor\", categorical_preprocessor),\n",
    "    (\"scale\", StandardScaler() if universe[\"scale\"] == \"scale\" else None), \n",
    "    (\"model\", model),\n",
    "])"
   ]
  },
  {
   "cell_type": "code",
   "execution_count": 43,
   "id": "9442c04d",
   "metadata": {
    "execution": {
     "iopub.execute_input": "2025-07-30T21:30:48.147082Z",
     "iopub.status.busy": "2025-07-30T21:30:48.146608Z",
     "iopub.status.idle": "2025-07-30T21:30:49.184484Z",
     "shell.execute_reply": "2025-07-30T21:30:49.183692Z"
    },
    "papermill": {
     "duration": 1.062097,
     "end_time": "2025-07-30T21:30:49.185703",
     "exception": false,
     "start_time": "2025-07-30T21:30:48.123606",
     "status": "completed"
    },
    "tags": []
   },
   "outputs": [
    {
     "data": {
      "text/html": [
       "<style>#sk-container-id-1 {color: black;background-color: white;}#sk-container-id-1 pre{padding: 0;}#sk-container-id-1 div.sk-toggleable {background-color: white;}#sk-container-id-1 label.sk-toggleable__label {cursor: pointer;display: block;width: 100%;margin-bottom: 0;padding: 0.3em;box-sizing: border-box;text-align: center;}#sk-container-id-1 label.sk-toggleable__label-arrow:before {content: \"▸\";float: left;margin-right: 0.25em;color: #696969;}#sk-container-id-1 label.sk-toggleable__label-arrow:hover:before {color: black;}#sk-container-id-1 div.sk-estimator:hover label.sk-toggleable__label-arrow:before {color: black;}#sk-container-id-1 div.sk-toggleable__content {max-height: 0;max-width: 0;overflow: hidden;text-align: left;background-color: #f0f8ff;}#sk-container-id-1 div.sk-toggleable__content pre {margin: 0.2em;color: black;border-radius: 0.25em;background-color: #f0f8ff;}#sk-container-id-1 input.sk-toggleable__control:checked~div.sk-toggleable__content {max-height: 200px;max-width: 100%;overflow: auto;}#sk-container-id-1 input.sk-toggleable__control:checked~label.sk-toggleable__label-arrow:before {content: \"▾\";}#sk-container-id-1 div.sk-estimator input.sk-toggleable__control:checked~label.sk-toggleable__label {background-color: #d4ebff;}#sk-container-id-1 div.sk-label input.sk-toggleable__control:checked~label.sk-toggleable__label {background-color: #d4ebff;}#sk-container-id-1 input.sk-hidden--visually {border: 0;clip: rect(1px 1px 1px 1px);clip: rect(1px, 1px, 1px, 1px);height: 1px;margin: -1px;overflow: hidden;padding: 0;position: absolute;width: 1px;}#sk-container-id-1 div.sk-estimator {font-family: monospace;background-color: #f0f8ff;border: 1px dotted black;border-radius: 0.25em;box-sizing: border-box;margin-bottom: 0.5em;}#sk-container-id-1 div.sk-estimator:hover {background-color: #d4ebff;}#sk-container-id-1 div.sk-parallel-item::after {content: \"\";width: 100%;border-bottom: 1px solid gray;flex-grow: 1;}#sk-container-id-1 div.sk-label:hover label.sk-toggleable__label {background-color: #d4ebff;}#sk-container-id-1 div.sk-serial::before {content: \"\";position: absolute;border-left: 1px solid gray;box-sizing: border-box;top: 0;bottom: 0;left: 50%;z-index: 0;}#sk-container-id-1 div.sk-serial {display: flex;flex-direction: column;align-items: center;background-color: white;padding-right: 0.2em;padding-left: 0.2em;position: relative;}#sk-container-id-1 div.sk-item {position: relative;z-index: 1;}#sk-container-id-1 div.sk-parallel {display: flex;align-items: stretch;justify-content: center;background-color: white;position: relative;}#sk-container-id-1 div.sk-item::before, #sk-container-id-1 div.sk-parallel-item::before {content: \"\";position: absolute;border-left: 1px solid gray;box-sizing: border-box;top: 0;bottom: 0;left: 50%;z-index: -1;}#sk-container-id-1 div.sk-parallel-item {display: flex;flex-direction: column;z-index: 1;position: relative;background-color: white;}#sk-container-id-1 div.sk-parallel-item:first-child::after {align-self: flex-end;width: 50%;}#sk-container-id-1 div.sk-parallel-item:last-child::after {align-self: flex-start;width: 50%;}#sk-container-id-1 div.sk-parallel-item:only-child::after {width: 0;}#sk-container-id-1 div.sk-dashed-wrapped {border: 1px dashed gray;margin: 0 0.4em 0.5em 0.4em;box-sizing: border-box;padding-bottom: 0.4em;background-color: white;}#sk-container-id-1 div.sk-label label {font-family: monospace;font-weight: bold;display: inline-block;line-height: 1.2em;}#sk-container-id-1 div.sk-label-container {text-align: center;}#sk-container-id-1 div.sk-container {/* jupyter's `normalize.less` sets `[hidden] { display: none; }` but bootstrap.min.css set `[hidden] { display: none !important; }` so we also need the `!important` here to be able to override the default hidden behavior on the sphinx rendered scikit-learn.org. See: https://github.com/scikit-learn/scikit-learn/issues/21755 */display: inline-block !important;position: relative;}#sk-container-id-1 div.sk-text-repr-fallback {display: none;}</style><div id=\"sk-container-id-1\" class=\"sk-top-container\"><div class=\"sk-text-repr-fallback\"><pre>Pipeline(steps=[(&#x27;scale&#x27;, None), (&#x27;model&#x27;, GradientBoostingClassifier())])</pre><b>In a Jupyter environment, please rerun this cell to show the HTML representation or trust the notebook. <br />On GitHub, the HTML representation is unable to render, please try loading this page with nbviewer.org.</b></div><div class=\"sk-container\" hidden><div class=\"sk-item sk-dashed-wrapped\"><div class=\"sk-label-container\"><div class=\"sk-label sk-toggleable\"><input class=\"sk-toggleable__control sk-hidden--visually\" id=\"sk-estimator-id-1\" type=\"checkbox\" ><label for=\"sk-estimator-id-1\" class=\"sk-toggleable__label sk-toggleable__label-arrow\">Pipeline</label><div class=\"sk-toggleable__content\"><pre>Pipeline(steps=[(&#x27;scale&#x27;, None), (&#x27;model&#x27;, GradientBoostingClassifier())])</pre></div></div></div><div class=\"sk-serial\"><div class=\"sk-item\"><div class=\"sk-estimator sk-toggleable\"><input class=\"sk-toggleable__control sk-hidden--visually\" id=\"sk-estimator-id-2\" type=\"checkbox\" ><label for=\"sk-estimator-id-2\" class=\"sk-toggleable__label sk-toggleable__label-arrow\">None</label><div class=\"sk-toggleable__content\"><pre>None</pre></div></div></div><div class=\"sk-item\"><div class=\"sk-estimator sk-toggleable\"><input class=\"sk-toggleable__control sk-hidden--visually\" id=\"sk-estimator-id-3\" type=\"checkbox\" ><label for=\"sk-estimator-id-3\" class=\"sk-toggleable__label sk-toggleable__label-arrow\">GradientBoostingClassifier</label><div class=\"sk-toggleable__content\"><pre>GradientBoostingClassifier()</pre></div></div></div></div></div></div></div>"
      ],
      "text/plain": [
       "Pipeline(steps=[('scale', None), ('model', GradientBoostingClassifier())])"
      ]
     },
     "execution_count": 43,
     "metadata": {},
     "output_type": "execute_result"
    }
   ],
   "source": [
    "model.fit(X_train, y_train.values.ravel())"
   ]
  },
  {
   "cell_type": "code",
   "execution_count": 44,
   "id": "af59f8c0",
   "metadata": {
    "execution": {
     "iopub.execute_input": "2025-07-30T21:30:49.216862Z",
     "iopub.status.busy": "2025-07-30T21:30:49.216505Z",
     "iopub.status.idle": "2025-07-30T21:30:49.220995Z",
     "shell.execute_reply": "2025-07-30T21:30:49.220076Z"
    },
    "papermill": {
     "duration": 0.020941,
     "end_time": "2025-07-30T21:30:49.222251",
     "exception": false,
     "start_time": "2025-07-30T21:30:49.201310",
     "status": "completed"
    },
    "tags": []
   },
   "outputs": [],
   "source": [
    "from fairness_multiverse.universe import predict_w_threshold"
   ]
  },
  {
   "cell_type": "code",
   "execution_count": 45,
   "id": "a7cf2e16",
   "metadata": {
    "execution": {
     "iopub.execute_input": "2025-07-30T21:30:49.250031Z",
     "iopub.status.busy": "2025-07-30T21:30:49.249491Z",
     "iopub.status.idle": "2025-07-30T21:30:49.809655Z",
     "shell.execute_reply": "2025-07-30T21:30:49.808969Z"
    },
    "papermill": {
     "duration": 0.575018,
     "end_time": "2025-07-30T21:30:49.810877",
     "exception": false,
     "start_time": "2025-07-30T21:30:49.235859",
     "status": "completed"
    },
    "tags": []
   },
   "outputs": [
    {
     "data": {
      "text/plain": [
       "0.8503622784527923"
      ]
     },
     "execution_count": 45,
     "metadata": {},
     "output_type": "execute_result"
    }
   ],
   "source": [
    "probs_test = model.predict_proba(X_test)\n",
    "\n",
    "'''\n",
    "Below code returns a boolean array (or binary 0/1 array depending on how it’s used) where each element \n",
    "is True if the probability of class 1 is greater than or equal to the threshold, and False otherwise.\n",
    "'''\n",
    "y_pred_default = predict_w_threshold(probs_test, 0.5)\n",
    "\n",
    "from sklearn.metrics import accuracy_score\n",
    "\n",
    "# Naive prediction\n",
    "accuracy_score(y_true = y_true, y_pred = y_pred_default)"
   ]
  },
  {
   "cell_type": "code",
   "execution_count": 46,
   "id": "081964c3",
   "metadata": {
    "execution": {
     "iopub.execute_input": "2025-07-30T21:30:49.839903Z",
     "iopub.status.busy": "2025-07-30T21:30:49.839181Z",
     "iopub.status.idle": "2025-07-30T21:30:50.594105Z",
     "shell.execute_reply": "2025-07-30T21:30:50.592909Z"
    },
    "papermill": {
     "duration": 0.772566,
     "end_time": "2025-07-30T21:30:50.596267",
     "exception": false,
     "start_time": "2025-07-30T21:30:49.823701",
     "status": "completed"
    },
    "tags": []
   },
   "outputs": [
    {
     "data": {
      "text/plain": [
       "array([0, 0, 0, ..., 0, 0, 0])"
      ]
     },
     "execution_count": 46,
     "metadata": {},
     "output_type": "execute_result"
    }
   ],
   "source": [
    "model.predict(X_test)"
   ]
  },
  {
   "cell_type": "markdown",
   "id": "56c9705b",
   "metadata": {
    "papermill": {
     "duration": 0.03093,
     "end_time": "2025-07-30T21:30:50.659837",
     "exception": false,
     "start_time": "2025-07-30T21:30:50.628907",
     "status": "completed"
    },
    "tags": []
   },
   "source": [
    "# Conformal Prediction"
   ]
  },
  {
   "cell_type": "code",
   "execution_count": 47,
   "id": "160ec6ff",
   "metadata": {
    "execution": {
     "iopub.execute_input": "2025-07-30T21:30:50.723812Z",
     "iopub.status.busy": "2025-07-30T21:30:50.723169Z",
     "iopub.status.idle": "2025-07-30T21:30:50.729861Z",
     "shell.execute_reply": "2025-07-30T21:30:50.728736Z"
    },
    "papermill": {
     "duration": 0.041531,
     "end_time": "2025-07-30T21:30:50.731645",
     "exception": false,
     "start_time": "2025-07-30T21:30:50.690114",
     "status": "completed"
    },
    "tags": []
   },
   "outputs": [],
   "source": [
    "# Miscoverage level for conformal prediction (10% allowed error rate => 90% target coverage)\n",
    "alpha = 0.1"
   ]
  },
  {
   "cell_type": "code",
   "execution_count": 48,
   "id": "eadf4555-3dd3-440e-8e35-f82a4ad9f855",
   "metadata": {
    "execution": {
     "iopub.execute_input": "2025-07-30T21:30:50.792687Z",
     "iopub.status.busy": "2025-07-30T21:30:50.791879Z",
     "iopub.status.idle": "2025-07-30T21:30:51.489724Z",
     "shell.execute_reply": "2025-07-30T21:30:51.488704Z"
    },
    "papermill": {
     "duration": 0.73059,
     "end_time": "2025-07-30T21:30:51.491721",
     "exception": false,
     "start_time": "2025-07-30T21:30:50.761131",
     "status": "completed"
    },
    "tags": []
   },
   "outputs": [],
   "source": [
    "probs_calib = model.predict_proba(X_calib)"
   ]
  },
  {
   "cell_type": "code",
   "execution_count": 49,
   "id": "2ed93547-6d5d-4983-9b36-1ecb300da49a",
   "metadata": {
    "execution": {
     "iopub.execute_input": "2025-07-30T21:30:51.545029Z",
     "iopub.status.busy": "2025-07-30T21:30:51.544415Z",
     "iopub.status.idle": "2025-07-30T21:30:51.550865Z",
     "shell.execute_reply": "2025-07-30T21:30:51.549970Z"
    },
    "papermill": {
     "duration": 0.032671,
     "end_time": "2025-07-30T21:30:51.552822",
     "exception": false,
     "start_time": "2025-07-30T21:30:51.520151",
     "status": "completed"
    },
    "tags": []
   },
   "outputs": [],
   "source": [
    "y_calib = y_calib.values.ravel().astype(int)"
   ]
  },
  {
   "cell_type": "code",
   "execution_count": 50,
   "id": "65d1320d-f588-4b38-9072-62af1ae97f7d",
   "metadata": {
    "execution": {
     "iopub.execute_input": "2025-07-30T21:30:51.615285Z",
     "iopub.status.busy": "2025-07-30T21:30:51.614716Z",
     "iopub.status.idle": "2025-07-30T21:30:51.622400Z",
     "shell.execute_reply": "2025-07-30T21:30:51.621317Z"
    },
    "papermill": {
     "duration": 0.041973,
     "end_time": "2025-07-30T21:30:51.624131",
     "exception": false,
     "start_time": "2025-07-30T21:30:51.582158",
     "status": "completed"
    },
    "tags": []
   },
   "outputs": [],
   "source": [
    "from fairness_multiverse.conformal import compute_nc_scores\n",
    "\n",
    "# Compute nonconformity scores on calibration set (1 - probability of true class)\n",
    "nc_scores = compute_nc_scores(probs_calib, y_calib)"
   ]
  },
  {
   "cell_type": "code",
   "execution_count": 51,
   "id": "df3b8ca3-53b7-43d5-9667-7c85da7aeda2",
   "metadata": {
    "execution": {
     "iopub.execute_input": "2025-07-30T21:30:51.684354Z",
     "iopub.status.busy": "2025-07-30T21:30:51.683306Z",
     "iopub.status.idle": "2025-07-30T21:30:51.690743Z",
     "shell.execute_reply": "2025-07-30T21:30:51.689703Z"
    },
    "papermill": {
     "duration": 0.039713,
     "end_time": "2025-07-30T21:30:51.692726",
     "exception": false,
     "start_time": "2025-07-30T21:30:51.653013",
     "status": "completed"
    },
    "tags": []
   },
   "outputs": [],
   "source": [
    "from fairness_multiverse.conformal import find_threshold\n",
    "\n",
    "# Find conformal threshold q_hat for the given alpha (split conformal method)\n",
    "q_hat = find_threshold(nc_scores, alpha)"
   ]
  },
  {
   "cell_type": "code",
   "execution_count": 52,
   "id": "4d29e6c1-0ef6-4aa4-b8fe-4fe79b0d033a",
   "metadata": {
    "execution": {
     "iopub.execute_input": "2025-07-30T21:30:51.755927Z",
     "iopub.status.busy": "2025-07-30T21:30:51.755076Z",
     "iopub.status.idle": "2025-07-30T21:30:51.763211Z",
     "shell.execute_reply": "2025-07-30T21:30:51.761969Z"
    },
    "papermill": {
     "duration": 0.045087,
     "end_time": "2025-07-30T21:30:51.765061",
     "exception": false,
     "start_time": "2025-07-30T21:30:51.719974",
     "status": "completed"
    },
    "tags": []
   },
   "outputs": [
    {
     "data": {
      "text/plain": [
       "0.7418920731414473"
      ]
     },
     "execution_count": 52,
     "metadata": {},
     "output_type": "execute_result"
    }
   ],
   "source": [
    "q_hat"
   ]
  },
  {
   "cell_type": "code",
   "execution_count": 53,
   "id": "92460794-cdac-4be2-ba28-f28c0515a6fb",
   "metadata": {
    "execution": {
     "iopub.execute_input": "2025-07-30T21:30:51.826591Z",
     "iopub.status.busy": "2025-07-30T21:30:51.825663Z",
     "iopub.status.idle": "2025-07-30T21:30:53.115845Z",
     "shell.execute_reply": "2025-07-30T21:30:53.115135Z"
    },
    "papermill": {
     "duration": 1.3233,
     "end_time": "2025-07-30T21:30:53.117267",
     "exception": false,
     "start_time": "2025-07-30T21:30:51.793967",
     "status": "completed"
    },
    "tags": []
   },
   "outputs": [],
   "source": [
    "from fairness_multiverse.conformal import predict_conformal_sets\n",
    "\n",
    "# Generate prediction sets for each test example\n",
    "pred_sets = predict_conformal_sets(model, X_test, q_hat)"
   ]
  },
  {
   "cell_type": "code",
   "execution_count": 54,
   "id": "d90c9a65-e6db-4f5d-80cd-e68fb7e46829",
   "metadata": {
    "execution": {
     "iopub.execute_input": "2025-07-30T21:30:53.158463Z",
     "iopub.status.busy": "2025-07-30T21:30:53.157727Z",
     "iopub.status.idle": "2025-07-30T21:30:53.163375Z",
     "shell.execute_reply": "2025-07-30T21:30:53.162475Z"
    },
    "papermill": {
     "duration": 0.03164,
     "end_time": "2025-07-30T21:30:53.165015",
     "exception": false,
     "start_time": "2025-07-30T21:30:53.133375",
     "status": "completed"
    },
    "tags": []
   },
   "outputs": [],
   "source": [
    "y_true = y_true.squeeze()"
   ]
  },
  {
   "cell_type": "code",
   "execution_count": 55,
   "id": "3a58a54a-1e68-46b9-927a-df01f18aebc8",
   "metadata": {
    "execution": {
     "iopub.execute_input": "2025-07-30T21:30:53.244464Z",
     "iopub.status.busy": "2025-07-30T21:30:53.244018Z",
     "iopub.status.idle": "2025-07-30T21:30:54.146678Z",
     "shell.execute_reply": "2025-07-30T21:30:54.145793Z"
    },
    "papermill": {
     "duration": 0.957581,
     "end_time": "2025-07-30T21:30:54.148443",
     "exception": false,
     "start_time": "2025-07-30T21:30:53.190862",
     "status": "completed"
    },
    "tags": []
   },
   "outputs": [],
   "source": [
    "from fairness_multiverse.conformal import evaluate_sets\n",
    "\n",
    "# Evaluate coverage and average set size on test data\n",
    "metrics = evaluate_sets(pred_sets, y_true)"
   ]
  },
  {
   "cell_type": "markdown",
   "id": "2b569c12-9aaa-4c88-98c9-bbcd0cf3ebb8",
   "metadata": {
    "papermill": {
     "duration": 0.027106,
     "end_time": "2025-07-30T21:30:54.200768",
     "exception": false,
     "start_time": "2025-07-30T21:30:54.173662",
     "status": "completed"
    },
    "tags": []
   },
   "source": [
    "# CP Metrics"
   ]
  },
  {
   "cell_type": "code",
   "execution_count": 56,
   "id": "5ce0a5cb-201f-45a0-ade5-94c7f0bd6095",
   "metadata": {
    "execution": {
     "iopub.execute_input": "2025-07-30T21:30:54.257503Z",
     "iopub.status.busy": "2025-07-30T21:30:54.257030Z",
     "iopub.status.idle": "2025-07-30T21:30:54.265413Z",
     "shell.execute_reply": "2025-07-30T21:30:54.264277Z"
    },
    "papermill": {
     "duration": 0.039885,
     "end_time": "2025-07-30T21:30:54.266921",
     "exception": false,
     "start_time": "2025-07-30T21:30:54.227036",
     "status": "completed"
    },
    "tags": []
   },
   "outputs": [
    {
     "data": {
      "text/plain": [
       "{'coverage': 0.9102218258834021, 'avg_size': 1.1565154386356036}"
      ]
     },
     "execution_count": 56,
     "metadata": {},
     "output_type": "execute_result"
    }
   ],
   "source": [
    "metrics"
   ]
  },
  {
   "cell_type": "code",
   "execution_count": 57,
   "id": "9b9a838d-31c9-430b-ae14-12baee460d17",
   "metadata": {
    "execution": {
     "iopub.execute_input": "2025-07-30T21:30:54.320307Z",
     "iopub.status.busy": "2025-07-30T21:30:54.319746Z",
     "iopub.status.idle": "2025-07-30T21:30:54.327052Z",
     "shell.execute_reply": "2025-07-30T21:30:54.325993Z"
    },
    "papermill": {
     "duration": 0.03724,
     "end_time": "2025-07-30T21:30:54.328981",
     "exception": false,
     "start_time": "2025-07-30T21:30:54.291741",
     "status": "completed"
    },
    "tags": []
   },
   "outputs": [],
   "source": [
    "example_universe = universe.copy()\n",
    "universe_training_year = example_universe.get(\"training_year\")\n",
    "universe_training_size = example_universe.get(\"training_size\")\n",
    "universe_scale = example_universe.get(\"scale\")\n",
    "universe_model = example_universe.get(\"model\")\n",
    "universe_exclude_features = example_universe.get(\"exclude_features\")\n",
    "universe_exclude_subgroups = example_universe.get(\"exclude_subgroups\")"
   ]
  },
  {
   "cell_type": "code",
   "execution_count": 58,
   "id": "f4b6a8ac-9dc0-4245-8a91-5b3b5999c4f9",
   "metadata": {
    "execution": {
     "iopub.execute_input": "2025-07-30T21:30:54.380055Z",
     "iopub.status.busy": "2025-07-30T21:30:54.379509Z",
     "iopub.status.idle": "2025-07-30T21:30:54.387264Z",
     "shell.execute_reply": "2025-07-30T21:30:54.386293Z"
    },
    "papermill": {
     "duration": 0.035089,
     "end_time": "2025-07-30T21:30:54.389315",
     "exception": false,
     "start_time": "2025-07-30T21:30:54.354226",
     "status": "completed"
    },
    "tags": []
   },
   "outputs": [],
   "source": [
    "cp_metrics_dict = {\n",
    "    \"universe_id\": [universe_id],\n",
    "    \"universe_training_year\": [universe_training_year],\n",
    "    \"universe_training_size\": [universe_training_size],\n",
    "    \"universe_scale\": [universe_scale],\n",
    "    \"universe_model\": [universe_model],\n",
    "    \"universe_exclude_features\": [universe_exclude_features],\n",
    "    \"universe_exclude_subgroups\": [universe_exclude_subgroups],\n",
    "    \"q_hat\": [q_hat],\n",
    "    \"coverage\": [metrics[\"coverage\"]],\n",
    "    \"avg_size\": [metrics[\"avg_size\"]],\n",
    "}"
   ]
  },
  {
   "cell_type": "code",
   "execution_count": 59,
   "id": "908acbb1-0371-4915-85ca-3fa520d2efe2",
   "metadata": {
    "execution": {
     "iopub.execute_input": "2025-07-30T21:30:54.445326Z",
     "iopub.status.busy": "2025-07-30T21:30:54.444823Z",
     "iopub.status.idle": "2025-07-30T21:30:54.453920Z",
     "shell.execute_reply": "2025-07-30T21:30:54.452711Z"
    },
    "papermill": {
     "duration": 0.041218,
     "end_time": "2025-07-30T21:30:54.455789",
     "exception": false,
     "start_time": "2025-07-30T21:30:54.414571",
     "status": "completed"
    },
    "tags": []
   },
   "outputs": [
    {
     "data": {
      "text/plain": [
       "{'universe_id': ['94e0338bfae4fb3e9869d2b2ce31ce8c'],\n",
       " 'universe_training_year': ['2014'],\n",
       " 'universe_training_size': ['1k'],\n",
       " 'universe_scale': ['do-not-scale'],\n",
       " 'universe_model': ['gbm'],\n",
       " 'universe_exclude_features': ['none'],\n",
       " 'universe_exclude_subgroups': ['keep-all'],\n",
       " 'q_hat': [0.7418920731414473],\n",
       " 'coverage': [0.9102218258834021],\n",
       " 'avg_size': [1.1565154386356036]}"
      ]
     },
     "execution_count": 59,
     "metadata": {},
     "output_type": "execute_result"
    }
   ],
   "source": [
    "cp_metrics_dict"
   ]
  },
  {
   "cell_type": "code",
   "execution_count": 60,
   "id": "33007efc-14e9-4ec6-97ac-56a455c82265",
   "metadata": {
    "execution": {
     "iopub.execute_input": "2025-07-30T21:30:54.498307Z",
     "iopub.status.busy": "2025-07-30T21:30:54.497956Z",
     "iopub.status.idle": "2025-07-30T21:30:54.503741Z",
     "shell.execute_reply": "2025-07-30T21:30:54.502672Z"
    },
    "papermill": {
     "duration": 0.023593,
     "end_time": "2025-07-30T21:30:54.506036",
     "exception": false,
     "start_time": "2025-07-30T21:30:54.482443",
     "status": "completed"
    },
    "tags": []
   },
   "outputs": [],
   "source": [
    "cp_metrics_df = pd.DataFrame(cp_metrics_dict)"
   ]
  },
  {
   "cell_type": "code",
   "execution_count": 61,
   "id": "db12611b-57b2-4910-b9d0-355adfd6e7bf",
   "metadata": {
    "execution": {
     "iopub.execute_input": "2025-07-30T21:30:54.539141Z",
     "iopub.status.busy": "2025-07-30T21:30:54.538740Z",
     "iopub.status.idle": "2025-07-30T21:30:54.556732Z",
     "shell.execute_reply": "2025-07-30T21:30:54.555883Z"
    },
    "papermill": {
     "duration": 0.035899,
     "end_time": "2025-07-30T21:30:54.558228",
     "exception": false,
     "start_time": "2025-07-30T21:30:54.522329",
     "status": "completed"
    },
    "tags": []
   },
   "outputs": [
    {
     "data": {
      "text/html": [
       "<div>\n",
       "<style scoped>\n",
       "    .dataframe tbody tr th:only-of-type {\n",
       "        vertical-align: middle;\n",
       "    }\n",
       "\n",
       "    .dataframe tbody tr th {\n",
       "        vertical-align: top;\n",
       "    }\n",
       "\n",
       "    .dataframe thead th {\n",
       "        text-align: right;\n",
       "    }\n",
       "</style>\n",
       "<table border=\"1\" class=\"dataframe\">\n",
       "  <thead>\n",
       "    <tr style=\"text-align: right;\">\n",
       "      <th></th>\n",
       "      <th>universe_id</th>\n",
       "      <th>universe_training_year</th>\n",
       "      <th>universe_training_size</th>\n",
       "      <th>universe_scale</th>\n",
       "      <th>universe_model</th>\n",
       "      <th>universe_exclude_features</th>\n",
       "      <th>universe_exclude_subgroups</th>\n",
       "      <th>q_hat</th>\n",
       "      <th>coverage</th>\n",
       "      <th>avg_size</th>\n",
       "    </tr>\n",
       "  </thead>\n",
       "  <tbody>\n",
       "    <tr>\n",
       "      <th>0</th>\n",
       "      <td>94e0338bfae4fb3e9869d2b2ce31ce8c</td>\n",
       "      <td>2014</td>\n",
       "      <td>1k</td>\n",
       "      <td>do-not-scale</td>\n",
       "      <td>gbm</td>\n",
       "      <td>none</td>\n",
       "      <td>keep-all</td>\n",
       "      <td>0.741892</td>\n",
       "      <td>0.910222</td>\n",
       "      <td>1.156515</td>\n",
       "    </tr>\n",
       "  </tbody>\n",
       "</table>\n",
       "</div>"
      ],
      "text/plain": [
       "                        universe_id universe_training_year  \\\n",
       "0  94e0338bfae4fb3e9869d2b2ce31ce8c                   2014   \n",
       "\n",
       "  universe_training_size universe_scale universe_model  \\\n",
       "0                     1k   do-not-scale            gbm   \n",
       "\n",
       "  universe_exclude_features universe_exclude_subgroups     q_hat  coverage  \\\n",
       "0                      none                   keep-all  0.741892  0.910222   \n",
       "\n",
       "   avg_size  \n",
       "0  1.156515  "
      ]
     },
     "execution_count": 61,
     "metadata": {},
     "output_type": "execute_result"
    }
   ],
   "source": [
    "cp_metrics_df"
   ]
  },
  {
   "cell_type": "code",
   "execution_count": 62,
   "id": "b7fbde55-a0a1-47e4-9af6-fe4a17fa8c61",
   "metadata": {
    "execution": {
     "iopub.execute_input": "2025-07-30T21:30:54.593517Z",
     "iopub.status.busy": "2025-07-30T21:30:54.593003Z",
     "iopub.status.idle": "2025-07-30T21:30:54.597901Z",
     "shell.execute_reply": "2025-07-30T21:30:54.597081Z"
    },
    "papermill": {
     "duration": 0.022295,
     "end_time": "2025-07-30T21:30:54.599246",
     "exception": false,
     "start_time": "2025-07-30T21:30:54.576951",
     "status": "completed"
    },
    "tags": []
   },
   "outputs": [],
   "source": [
    "# Conditional Coverage & looking at subgroups"
   ]
  },
  {
   "cell_type": "code",
   "execution_count": 63,
   "id": "027ae886-68dd-4141-96c7-805a5450e1ef",
   "metadata": {
    "execution": {
     "iopub.execute_input": "2025-07-30T21:30:54.638376Z",
     "iopub.status.busy": "2025-07-30T21:30:54.638003Z",
     "iopub.status.idle": "2025-07-30T21:30:54.906845Z",
     "shell.execute_reply": "2025-07-30T21:30:54.905930Z"
    },
    "papermill": {
     "duration": 0.290236,
     "end_time": "2025-07-30T21:30:54.908672",
     "exception": false,
     "start_time": "2025-07-30T21:30:54.618436",
     "status": "completed"
    },
    "tags": []
   },
   "outputs": [],
   "source": [
    "from fairness_multiverse.conformal import build_cp_groups\n",
    "\n",
    "cp_groups_df = build_cp_groups(pred_sets, y_true, X_test.index, org_test)\n",
    "#needs universe_id and setting"
   ]
  },
  {
   "cell_type": "code",
   "execution_count": 64,
   "id": "01d5802c-663a-4d1f-9d69-e036faaffbf7",
   "metadata": {
    "execution": {
     "iopub.execute_input": "2025-07-30T21:30:54.960697Z",
     "iopub.status.busy": "2025-07-30T21:30:54.960218Z",
     "iopub.status.idle": "2025-07-30T21:30:54.965646Z",
     "shell.execute_reply": "2025-07-30T21:30:54.964658Z"
    },
    "papermill": {
     "duration": 0.033445,
     "end_time": "2025-07-30T21:30:54.967559",
     "exception": false,
     "start_time": "2025-07-30T21:30:54.934114",
     "status": "completed"
    },
    "tags": []
   },
   "outputs": [],
   "source": [
    "#delete\n",
    "#cp_groups_df"
   ]
  },
  {
   "cell_type": "code",
   "execution_count": 65,
   "id": "fa424af1-d1eb-443d-b717-2d279ada8408",
   "metadata": {
    "execution": {
     "iopub.execute_input": "2025-07-30T21:30:55.020764Z",
     "iopub.status.busy": "2025-07-30T21:30:55.020089Z",
     "iopub.status.idle": "2025-07-30T21:30:55.024905Z",
     "shell.execute_reply": "2025-07-30T21:30:55.023987Z"
    },
    "papermill": {
     "duration": 0.033052,
     "end_time": "2025-07-30T21:30:55.026601",
     "exception": false,
     "start_time": "2025-07-30T21:30:54.993549",
     "status": "completed"
    },
    "tags": []
   },
   "outputs": [],
   "source": [
    "#delete\n",
    "#percentage = (cp_groups_df['nongerman_female'] == 1).mean() * 100\n",
    "#print(percentage)\n"
   ]
  },
  {
   "cell_type": "code",
   "execution_count": 66,
   "id": "6cbdab96-b2b2-45af-ad54-d0516db2e28d",
   "metadata": {
    "execution": {
     "iopub.execute_input": "2025-07-30T21:30:55.083014Z",
     "iopub.status.busy": "2025-07-30T21:30:55.082586Z",
     "iopub.status.idle": "2025-07-30T21:30:56.251617Z",
     "shell.execute_reply": "2025-07-30T21:30:56.250760Z"
    },
    "papermill": {
     "duration": 1.197452,
     "end_time": "2025-07-30T21:30:56.253638",
     "exception": false,
     "start_time": "2025-07-30T21:30:55.056186",
     "status": "completed"
    },
    "tags": []
   },
   "outputs": [],
   "source": [
    "# Define covered = 1 if true_label is in the predicted set\n",
    "cp_groups_df['covered'] = cp_groups_df.apply(\n",
    "    lambda r: int(r['true_label'] in r['pred_set']),\n",
    "    axis=1\n",
    ")"
   ]
  },
  {
   "cell_type": "code",
   "execution_count": 67,
   "id": "338ff529-1a6b-4b87-a931-8e4788d52aad",
   "metadata": {
    "execution": {
     "iopub.execute_input": "2025-07-30T21:30:56.307197Z",
     "iopub.status.busy": "2025-07-30T21:30:56.306840Z",
     "iopub.status.idle": "2025-07-30T21:30:56.310844Z",
     "shell.execute_reply": "2025-07-30T21:30:56.309973Z"
    },
    "papermill": {
     "duration": 0.031645,
     "end_time": "2025-07-30T21:30:56.312198",
     "exception": false,
     "start_time": "2025-07-30T21:30:56.280553",
     "status": "completed"
    },
    "tags": []
   },
   "outputs": [],
   "source": [
    "#cp_groups_df"
   ]
  },
  {
   "cell_type": "code",
   "execution_count": 68,
   "id": "90032e27-66df-4540-9169-4e89cfbaa758",
   "metadata": {
    "execution": {
     "iopub.execute_input": "2025-07-30T21:30:56.355503Z",
     "iopub.status.busy": "2025-07-30T21:30:56.355036Z",
     "iopub.status.idle": "2025-07-30T21:30:56.367277Z",
     "shell.execute_reply": "2025-07-30T21:30:56.366210Z"
    },
    "papermill": {
     "duration": 0.03663,
     "end_time": "2025-07-30T21:30:56.369179",
     "exception": false,
     "start_time": "2025-07-30T21:30:56.332549",
     "status": "completed"
    },
    "tags": []
   },
   "outputs": [],
   "source": [
    "subgroups = ['frau1','nongerman','nongerman_male','nongerman_female']\n",
    "\n",
    "# Conditional coverage for subgroup==1\n",
    "cond_coverage = {\n",
    "    g: cp_groups_df.loc[cp_groups_df[g]==1, 'covered'].mean()\n",
    "    for g in subgroups\n",
    "}"
   ]
  },
  {
   "cell_type": "code",
   "execution_count": 69,
   "id": "1e348fb1-b9c3-45bc-ba23-f016827a7e0d",
   "metadata": {
    "execution": {
     "iopub.execute_input": "2025-07-30T21:30:56.426852Z",
     "iopub.status.busy": "2025-07-30T21:30:56.426484Z",
     "iopub.status.idle": "2025-07-30T21:30:56.435007Z",
     "shell.execute_reply": "2025-07-30T21:30:56.433977Z"
    },
    "papermill": {
     "duration": 0.038452,
     "end_time": "2025-07-30T21:30:56.436809",
     "exception": false,
     "start_time": "2025-07-30T21:30:56.398357",
     "status": "completed"
    },
    "tags": []
   },
   "outputs": [
    {
     "data": {
      "text/plain": [
       "{'frau1': 0.9071303410163095,\n",
       " 'nongerman': 0.9072026048391624,\n",
       " 'nongerman_male': 0.9251553634152931,\n",
       " 'nongerman_female': 0.8774962742175857}"
      ]
     },
     "execution_count": 69,
     "metadata": {},
     "output_type": "execute_result"
    }
   ],
   "source": [
    "cond_coverage"
   ]
  },
  {
   "cell_type": "code",
   "execution_count": 70,
   "id": "f5093324-c3dd-4d63-bc4c-8d945e5c8bbb",
   "metadata": {
    "execution": {
     "iopub.execute_input": "2025-07-30T21:30:56.494655Z",
     "iopub.status.busy": "2025-07-30T21:30:56.494173Z",
     "iopub.status.idle": "2025-07-30T21:30:56.504462Z",
     "shell.execute_reply": "2025-07-30T21:30:56.500510Z"
    },
    "papermill": {
     "duration": 0.040756,
     "end_time": "2025-07-30T21:30:56.506224",
     "exception": false,
     "start_time": "2025-07-30T21:30:56.465468",
     "status": "completed"
    },
    "tags": []
   },
   "outputs": [],
   "source": [
    "for subgroup, cov in cond_coverage.items():\n",
    "    cp_metrics_df[f\"cov_{subgroup}\"] = cov"
   ]
  },
  {
   "cell_type": "code",
   "execution_count": 71,
   "id": "6e872e10-dbe5-49e8-b554-5030c98ff75d",
   "metadata": {
    "execution": {
     "iopub.execute_input": "2025-07-30T21:30:56.569781Z",
     "iopub.status.busy": "2025-07-30T21:30:56.569400Z",
     "iopub.status.idle": "2025-07-30T21:30:56.583453Z",
     "shell.execute_reply": "2025-07-30T21:30:56.582691Z"
    },
    "papermill": {
     "duration": 0.047884,
     "end_time": "2025-07-30T21:30:56.584721",
     "exception": false,
     "start_time": "2025-07-30T21:30:56.536837",
     "status": "completed"
    },
    "tags": []
   },
   "outputs": [
    {
     "data": {
      "text/html": [
       "<div>\n",
       "<style scoped>\n",
       "    .dataframe tbody tr th:only-of-type {\n",
       "        vertical-align: middle;\n",
       "    }\n",
       "\n",
       "    .dataframe tbody tr th {\n",
       "        vertical-align: top;\n",
       "    }\n",
       "\n",
       "    .dataframe thead th {\n",
       "        text-align: right;\n",
       "    }\n",
       "</style>\n",
       "<table border=\"1\" class=\"dataframe\">\n",
       "  <thead>\n",
       "    <tr style=\"text-align: right;\">\n",
       "      <th></th>\n",
       "      <th>universe_id</th>\n",
       "      <th>universe_training_year</th>\n",
       "      <th>universe_training_size</th>\n",
       "      <th>universe_scale</th>\n",
       "      <th>universe_model</th>\n",
       "      <th>universe_exclude_features</th>\n",
       "      <th>universe_exclude_subgroups</th>\n",
       "      <th>q_hat</th>\n",
       "      <th>coverage</th>\n",
       "      <th>avg_size</th>\n",
       "      <th>cov_frau1</th>\n",
       "      <th>cov_nongerman</th>\n",
       "      <th>cov_nongerman_male</th>\n",
       "      <th>cov_nongerman_female</th>\n",
       "    </tr>\n",
       "  </thead>\n",
       "  <tbody>\n",
       "    <tr>\n",
       "      <th>0</th>\n",
       "      <td>94e0338bfae4fb3e9869d2b2ce31ce8c</td>\n",
       "      <td>2014</td>\n",
       "      <td>1k</td>\n",
       "      <td>do-not-scale</td>\n",
       "      <td>gbm</td>\n",
       "      <td>none</td>\n",
       "      <td>keep-all</td>\n",
       "      <td>0.741892</td>\n",
       "      <td>0.910222</td>\n",
       "      <td>1.156515</td>\n",
       "      <td>0.90713</td>\n",
       "      <td>0.907203</td>\n",
       "      <td>0.925155</td>\n",
       "      <td>0.877496</td>\n",
       "    </tr>\n",
       "  </tbody>\n",
       "</table>\n",
       "</div>"
      ],
      "text/plain": [
       "                        universe_id universe_training_year  \\\n",
       "0  94e0338bfae4fb3e9869d2b2ce31ce8c                   2014   \n",
       "\n",
       "  universe_training_size universe_scale universe_model  \\\n",
       "0                     1k   do-not-scale            gbm   \n",
       "\n",
       "  universe_exclude_features universe_exclude_subgroups     q_hat  coverage  \\\n",
       "0                      none                   keep-all  0.741892  0.910222   \n",
       "\n",
       "   avg_size  cov_frau1  cov_nongerman  cov_nongerman_male  \\\n",
       "0  1.156515    0.90713       0.907203            0.925155   \n",
       "\n",
       "   cov_nongerman_female  \n",
       "0              0.877496  "
      ]
     },
     "execution_count": 71,
     "metadata": {},
     "output_type": "execute_result"
    }
   ],
   "source": [
    "cp_metrics_df"
   ]
  },
  {
   "cell_type": "markdown",
   "id": "33774451",
   "metadata": {
    "papermill": {
     "duration": 0.016283,
     "end_time": "2025-07-30T21:30:56.617093",
     "exception": false,
     "start_time": "2025-07-30T21:30:56.600810",
     "status": "completed"
    },
    "tags": []
   },
   "source": [
    "# (Fairness) Metrics"
   ]
  },
  {
   "cell_type": "code",
   "execution_count": 72,
   "id": "debc5d62",
   "metadata": {
    "execution": {
     "iopub.execute_input": "2025-07-30T21:30:56.649327Z",
     "iopub.status.busy": "2025-07-30T21:30:56.648816Z",
     "iopub.status.idle": "2025-07-30T21:30:56.671664Z",
     "shell.execute_reply": "2025-07-30T21:30:56.670778Z"
    },
    "papermill": {
     "duration": 0.041563,
     "end_time": "2025-07-30T21:30:56.673743",
     "exception": false,
     "start_time": "2025-07-30T21:30:56.632180",
     "status": "completed"
    },
    "tags": []
   },
   "outputs": [],
   "source": [
    "# do I need to include maxdeutsch1.missing?\n",
    "\n",
    "import numpy as np\n",
    "\n",
    "colname_to_bin = \"maxdeutsch1\"\n",
    "majority_value = org_train[colname_to_bin].mode()[0]\n",
    "\n",
    "org_test[\"majmin\"] = np.where(org_test[colname_to_bin] == majority_value, \"majority\", \"minority\")"
   ]
  },
  {
   "cell_type": "code",
   "execution_count": 73,
   "id": "06a50de5",
   "metadata": {
    "execution": {
     "iopub.execute_input": "2025-07-30T21:30:56.728526Z",
     "iopub.status.busy": "2025-07-30T21:30:56.727721Z",
     "iopub.status.idle": "2025-07-30T21:30:59.905545Z",
     "shell.execute_reply": "2025-07-30T21:30:59.904428Z"
    },
    "papermill": {
     "duration": 3.205958,
     "end_time": "2025-07-30T21:30:59.907661",
     "exception": false,
     "start_time": "2025-07-30T21:30:56.701703",
     "status": "completed"
    },
    "tags": []
   },
   "outputs": [],
   "source": [
    "example_universe = universe.copy()\n",
    "example_universe[\"cutoff\"] = example_universe[\"cutoff\"][0]\n",
    "example_universe[\"eval_fairness_grouping\"] = example_universe[\"eval_fairness_grouping\"][0]\n",
    "fairness_dict, metric_frame = universe_analysis.compute_metrics(\n",
    "    example_universe,\n",
    "    y_pred_prob=probs_test,\n",
    "    y_test=y_true,\n",
    "    org_test=org_test,\n",
    ")"
   ]
  },
  {
   "cell_type": "markdown",
   "id": "f95d4e02",
   "metadata": {
    "papermill": {
     "duration": 0.015396,
     "end_time": "2025-07-30T21:30:59.943729",
     "exception": false,
     "start_time": "2025-07-30T21:30:59.928333",
     "status": "completed"
    },
    "tags": []
   },
   "source": [
    "# Overall"
   ]
  },
  {
   "cell_type": "markdown",
   "id": "bdee4871",
   "metadata": {
    "papermill": {
     "duration": 0.015338,
     "end_time": "2025-07-30T21:30:59.974145",
     "exception": false,
     "start_time": "2025-07-30T21:30:59.958807",
     "status": "completed"
    },
    "tags": []
   },
   "source": [
    "Fairness\n",
    "Main fairness target: Equalized Odds. Seems to be a better fit than equal opportunity, since we're not only interested in Y = 1. Seems to be a better fit than demographic parity, since we also care about accuracy, not just equal distribution of preds.\n",
    "\n",
    "Pick column for computation of fairness metrics\n",
    "\n",
    "Performance\n",
    "Overall performance measures, most interesting in relation to the measures split by group below"
   ]
  },
  {
   "cell_type": "code",
   "execution_count": 74,
   "id": "c4e067c6",
   "metadata": {
    "execution": {
     "iopub.execute_input": "2025-07-30T21:31:00.009230Z",
     "iopub.status.busy": "2025-07-30T21:31:00.008810Z",
     "iopub.status.idle": "2025-07-30T21:31:00.017899Z",
     "shell.execute_reply": "2025-07-30T21:31:00.016929Z"
    },
    "papermill": {
     "duration": 0.027549,
     "end_time": "2025-07-30T21:31:00.019742",
     "exception": false,
     "start_time": "2025-07-30T21:30:59.992193",
     "status": "completed"
    },
    "tags": []
   },
   "outputs": [
    {
     "data": {
      "text/plain": [
       "accuracy                   0.221792\n",
       "balanced accuracy          0.542854\n",
       "f1                         0.243195\n",
       "precision                  0.138929\n",
       "false positive rate        0.889005\n",
       "false negative rate        0.025287\n",
       "selection rate             0.900000\n",
       "count                  89710.000000\n",
       "dtype: float64"
      ]
     },
     "execution_count": 74,
     "metadata": {},
     "output_type": "execute_result"
    }
   ],
   "source": [
    "metric_frame.overall"
   ]
  },
  {
   "cell_type": "markdown",
   "id": "e968fe9d",
   "metadata": {
    "papermill": {
     "duration": 0.021174,
     "end_time": "2025-07-30T21:31:00.068740",
     "exception": false,
     "start_time": "2025-07-30T21:31:00.047566",
     "status": "completed"
    },
    "tags": []
   },
   "source": [
    "By Group"
   ]
  },
  {
   "cell_type": "code",
   "execution_count": 75,
   "id": "ec325bce",
   "metadata": {
    "execution": {
     "iopub.execute_input": "2025-07-30T21:31:00.101191Z",
     "iopub.status.busy": "2025-07-30T21:31:00.100657Z",
     "iopub.status.idle": "2025-07-30T21:31:00.114186Z",
     "shell.execute_reply": "2025-07-30T21:31:00.113399Z"
    },
    "papermill": {
     "duration": 0.03148,
     "end_time": "2025-07-30T21:31:00.115539",
     "exception": false,
     "start_time": "2025-07-30T21:31:00.084059",
     "status": "completed"
    },
    "tags": []
   },
   "outputs": [
    {
     "data": {
      "text/html": [
       "<div>\n",
       "<style scoped>\n",
       "    .dataframe tbody tr th:only-of-type {\n",
       "        vertical-align: middle;\n",
       "    }\n",
       "\n",
       "    .dataframe tbody tr th {\n",
       "        vertical-align: top;\n",
       "    }\n",
       "\n",
       "    .dataframe thead th {\n",
       "        text-align: right;\n",
       "    }\n",
       "</style>\n",
       "<table border=\"1\" class=\"dataframe\">\n",
       "  <thead>\n",
       "    <tr style=\"text-align: right;\">\n",
       "      <th></th>\n",
       "      <th>accuracy</th>\n",
       "      <th>balanced accuracy</th>\n",
       "      <th>f1</th>\n",
       "      <th>precision</th>\n",
       "      <th>false positive rate</th>\n",
       "      <th>false negative rate</th>\n",
       "      <th>selection rate</th>\n",
       "      <th>count</th>\n",
       "    </tr>\n",
       "    <tr>\n",
       "      <th>majmin</th>\n",
       "      <th></th>\n",
       "      <th></th>\n",
       "      <th></th>\n",
       "      <th></th>\n",
       "      <th></th>\n",
       "      <th></th>\n",
       "      <th></th>\n",
       "      <th></th>\n",
       "    </tr>\n",
       "  </thead>\n",
       "  <tbody>\n",
       "    <tr>\n",
       "      <th>majority</th>\n",
       "      <td>0.243400</td>\n",
       "      <td>0.551487</td>\n",
       "      <td>0.253118</td>\n",
       "      <td>0.145544</td>\n",
       "      <td>0.867266</td>\n",
       "      <td>0.029759</td>\n",
       "      <td>0.880873</td>\n",
       "      <td>69170.0</td>\n",
       "    </tr>\n",
       "    <tr>\n",
       "      <th>minority</th>\n",
       "      <td>0.149026</td>\n",
       "      <td>0.515579</td>\n",
       "      <td>0.211841</td>\n",
       "      <td>0.118582</td>\n",
       "      <td>0.960819</td>\n",
       "      <td>0.008024</td>\n",
       "      <td>0.964411</td>\n",
       "      <td>20540.0</td>\n",
       "    </tr>\n",
       "  </tbody>\n",
       "</table>\n",
       "</div>"
      ],
      "text/plain": [
       "          accuracy  balanced accuracy        f1  precision  \\\n",
       "majmin                                                       \n",
       "majority  0.243400           0.551487  0.253118   0.145544   \n",
       "minority  0.149026           0.515579  0.211841   0.118582   \n",
       "\n",
       "          false positive rate  false negative rate  selection rate    count  \n",
       "majmin                                                                       \n",
       "majority             0.867266             0.029759        0.880873  69170.0  \n",
       "minority             0.960819             0.008024        0.964411  20540.0  "
      ]
     },
     "execution_count": 75,
     "metadata": {},
     "output_type": "execute_result"
    }
   ],
   "source": [
    "metric_frame.by_group"
   ]
  },
  {
   "cell_type": "code",
   "execution_count": 76,
   "id": "a9ddbe63",
   "metadata": {
    "execution": {
     "iopub.execute_input": "2025-07-30T21:31:00.183196Z",
     "iopub.status.busy": "2025-07-30T21:31:00.182671Z",
     "iopub.status.idle": "2025-07-30T21:31:02.640664Z",
     "shell.execute_reply": "2025-07-30T21:31:02.639624Z"
    },
    "papermill": {
     "duration": 2.494603,
     "end_time": "2025-07-30T21:31:02.642450",
     "exception": false,
     "start_time": "2025-07-30T21:31:00.147847",
     "status": "completed"
    },
    "tags": []
   },
   "outputs": [
    {
     "data": {
      "text/plain": [
       "array([[<Axes: title={'center': 'accuracy'}, xlabel='majmin'>,\n",
       "        <Axes: title={'center': 'balanced accuracy'}, xlabel='majmin'>,\n",
       "        <Axes: title={'center': 'f1'}, xlabel='majmin'>],\n",
       "       [<Axes: title={'center': 'precision'}, xlabel='majmin'>,\n",
       "        <Axes: title={'center': 'false positive rate'}, xlabel='majmin'>,\n",
       "        <Axes: title={'center': 'false negative rate'}, xlabel='majmin'>],\n",
       "       [<Axes: title={'center': 'selection rate'}, xlabel='majmin'>,\n",
       "        <Axes: title={'center': 'count'}, xlabel='majmin'>,\n",
       "        <Axes: xlabel='majmin'>]], dtype=object)"
      ]
     },
     "execution_count": 76,
     "metadata": {},
     "output_type": "execute_result"
    },
    {
     "data": {
      "image/png": "[encoded data removed]",
      "text/plain": [
       "<Figure size 1200x800 with 9 Axes>"
      ]
     },
     "metadata": {},
     "output_type": "display_data"
    }
   ],
   "source": [
    "# In a graphic\n",
    "metric_frame.by_group.plot.bar(\n",
    "    subplots=True,\n",
    "    layout=[3, 3],\n",
    "    legend=False,\n",
    "    figsize=[12, 8],\n",
    "    title=\"Show all metrics\",\n",
    ")"
   ]
  },
  {
   "cell_type": "markdown",
   "id": "f57a0bac",
   "metadata": {
    "papermill": {
     "duration": 0.029206,
     "end_time": "2025-07-30T21:31:02.700686",
     "exception": false,
     "start_time": "2025-07-30T21:31:02.671480",
     "status": "completed"
    },
    "tags": []
   },
   "source": [
    "# Final Output"
   ]
  },
  {
   "cell_type": "code",
   "execution_count": 77,
   "id": "96d280a3",
   "metadata": {
    "execution": {
     "iopub.execute_input": "2025-07-30T21:31:02.761642Z",
     "iopub.status.busy": "2025-07-30T21:31:02.760763Z",
     "iopub.status.idle": "2025-07-30T21:31:02.769887Z",
     "shell.execute_reply": "2025-07-30T21:31:02.769039Z"
    },
    "papermill": {
     "duration": 0.041948,
     "end_time": "2025-07-30T21:31:02.771511",
     "exception": false,
     "start_time": "2025-07-30T21:31:02.729563",
     "status": "completed"
    },
    "tags": []
   },
   "outputs": [
    {
     "data": {
      "text/plain": [
       "4"
      ]
     },
     "execution_count": 77,
     "metadata": {},
     "output_type": "execute_result"
    }
   ],
   "source": [
    "sub_universes = universe_analysis.generate_sub_universes()\n",
    "len(sub_universes)"
   ]
  },
  {
   "cell_type": "code",
   "execution_count": 78,
   "id": "92adf7ba",
   "metadata": {
    "execution": {
     "iopub.execute_input": "2025-07-30T21:31:02.832940Z",
     "iopub.status.busy": "2025-07-30T21:31:02.832243Z",
     "iopub.status.idle": "2025-07-30T21:31:02.838965Z",
     "shell.execute_reply": "2025-07-30T21:31:02.837869Z"
    },
    "papermill": {
     "duration": 0.040246,
     "end_time": "2025-07-30T21:31:02.840738",
     "exception": false,
     "start_time": "2025-07-30T21:31:02.800492",
     "status": "completed"
    },
    "tags": []
   },
   "outputs": [],
   "source": [
    "def filter_sub_universe_data(sub_universe, org_test):\n",
    "    # Keep all rows — no filtering\n",
    "    keep_rows_mask = np.ones(org_test.shape[0], dtype=bool)\n",
    "\n",
    "    print(f\"[INFO] Keeping all rows: {keep_rows_mask.sum()} rows retained.\")\n",
    "    return keep_rows_mask"
   ]
  },
  {
   "cell_type": "code",
   "execution_count": 79,
   "id": "4a759155",
   "metadata": {
    "execution": {
     "iopub.execute_input": "2025-07-30T21:31:02.900105Z",
     "iopub.status.busy": "2025-07-30T21:31:02.899619Z",
     "iopub.status.idle": "2025-07-30T21:31:12.306094Z",
     "shell.execute_reply": "2025-07-30T21:31:12.305057Z"
    },
    "papermill": {
     "duration": 9.437921,
     "end_time": "2025-07-30T21:31:12.308095",
     "exception": false,
     "start_time": "2025-07-30T21:31:02.870174",
     "status": "completed"
    },
    "tags": []
   },
   "outputs": [
    {
     "name": "stdout",
     "output_type": "stream",
     "text": [
      "Stopping execution_time clock.\n",
      "[INFO] Keeping all rows: 89710 rows retained.\n"
     ]
    },
    {
     "name": "stdout",
     "output_type": "stream",
     "text": [
      "[INFO] Keeping all rows: 89710 rows retained.\n"
     ]
    },
    {
     "name": "stdout",
     "output_type": "stream",
     "text": [
      "[INFO] Keeping all rows: 89710 rows retained.\n"
     ]
    },
    {
     "name": "stdout",
     "output_type": "stream",
     "text": [
      "[INFO] Keeping all rows: 89710 rows retained.\n"
     ]
    },
    {
     "data": {
      "text/html": [
       "<div>\n",
       "<style scoped>\n",
       "    .dataframe tbody tr th:only-of-type {\n",
       "        vertical-align: middle;\n",
       "    }\n",
       "\n",
       "    .dataframe tbody tr th {\n",
       "        vertical-align: top;\n",
       "    }\n",
       "\n",
       "    .dataframe thead th {\n",
       "        text-align: right;\n",
       "    }\n",
       "</style>\n",
       "<table border=\"1\" class=\"dataframe\">\n",
       "  <thead>\n",
       "    <tr style=\"text-align: right;\">\n",
       "      <th></th>\n",
       "      <th>run_no</th>\n",
       "      <th>universe_id</th>\n",
       "      <th>universe_settings</th>\n",
       "      <th>execution_time</th>\n",
       "      <th>test_size_n</th>\n",
       "      <th>test_size_frac</th>\n",
       "      <th>fair_main_equalized_odds_difference</th>\n",
       "      <th>fair_main_equalized_odds_ratio</th>\n",
       "      <th>fair_main_demographic_parity_difference</th>\n",
       "      <th>fair_main_demographic_parity_ratio</th>\n",
       "      <th>...</th>\n",
       "      <th>perf_grp_precision_0</th>\n",
       "      <th>perf_grp_precision_1</th>\n",
       "      <th>perf_grp_false positive rate_0</th>\n",
       "      <th>perf_grp_false positive rate_1</th>\n",
       "      <th>perf_grp_false negative rate_0</th>\n",
       "      <th>perf_grp_false negative rate_1</th>\n",
       "      <th>perf_grp_selection rate_0</th>\n",
       "      <th>perf_grp_selection rate_1</th>\n",
       "      <th>perf_grp_count_0</th>\n",
       "      <th>perf_grp_count_1</th>\n",
       "    </tr>\n",
       "  </thead>\n",
       "  <tbody>\n",
       "    <tr>\n",
       "      <th>0</th>\n",
       "      <td>14</td>\n",
       "      <td>94e0338bfae4fb3e9869d2b2ce31ce8c</td>\n",
       "      <td>{\"cutoff\": \"quantile_0.1\", \"eval_fairness_grou...</td>\n",
       "      <td>33.230225</td>\n",
       "      <td>89710</td>\n",
       "      <td>1.0</td>\n",
       "      <td>0.093552</td>\n",
       "      <td>0.902633</td>\n",
       "      <td>0.083538</td>\n",
       "      <td>0.913380</td>\n",
       "      <td>...</td>\n",
       "      <td>NaN</td>\n",
       "      <td>NaN</td>\n",
       "      <td>NaN</td>\n",
       "      <td>NaN</td>\n",
       "      <td>NaN</td>\n",
       "      <td>NaN</td>\n",
       "      <td>NaN</td>\n",
       "      <td>NaN</td>\n",
       "      <td>NaN</td>\n",
       "      <td>NaN</td>\n",
       "    </tr>\n",
       "    <tr>\n",
       "      <th>0</th>\n",
       "      <td>14</td>\n",
       "      <td>94e0338bfae4fb3e9869d2b2ce31ce8c</td>\n",
       "      <td>{\"cutoff\": \"quantile_0.1\", \"eval_fairness_grou...</td>\n",
       "      <td>33.230225</td>\n",
       "      <td>89710</td>\n",
       "      <td>1.0</td>\n",
       "      <td>0.093552</td>\n",
       "      <td>0.902633</td>\n",
       "      <td>0.083538</td>\n",
       "      <td>0.913380</td>\n",
       "      <td>...</td>\n",
       "      <td>0.118582</td>\n",
       "      <td>0.145544</td>\n",
       "      <td>0.960819</td>\n",
       "      <td>0.867266</td>\n",
       "      <td>0.008024</td>\n",
       "      <td>0.029759</td>\n",
       "      <td>0.964411</td>\n",
       "      <td>0.880873</td>\n",
       "      <td>20540.0</td>\n",
       "      <td>69170.0</td>\n",
       "    </tr>\n",
       "    <tr>\n",
       "      <th>0</th>\n",
       "      <td>14</td>\n",
       "      <td>94e0338bfae4fb3e9869d2b2ce31ce8c</td>\n",
       "      <td>{\"cutoff\": \"quantile_0.25\", \"eval_fairness_gro...</td>\n",
       "      <td>33.230225</td>\n",
       "      <td>89710</td>\n",
       "      <td>1.0</td>\n",
       "      <td>0.114479</td>\n",
       "      <td>0.859230</td>\n",
       "      <td>0.099141</td>\n",
       "      <td>0.880038</td>\n",
       "      <td>...</td>\n",
       "      <td>NaN</td>\n",
       "      <td>NaN</td>\n",
       "      <td>NaN</td>\n",
       "      <td>NaN</td>\n",
       "      <td>NaN</td>\n",
       "      <td>NaN</td>\n",
       "      <td>NaN</td>\n",
       "      <td>NaN</td>\n",
       "      <td>NaN</td>\n",
       "      <td>NaN</td>\n",
       "    </tr>\n",
       "    <tr>\n",
       "      <th>0</th>\n",
       "      <td>14</td>\n",
       "      <td>94e0338bfae4fb3e9869d2b2ce31ce8c</td>\n",
       "      <td>{\"cutoff\": \"quantile_0.25\", \"eval_fairness_gro...</td>\n",
       "      <td>33.230225</td>\n",
       "      <td>89710</td>\n",
       "      <td>1.0</td>\n",
       "      <td>0.114479</td>\n",
       "      <td>0.859230</td>\n",
       "      <td>0.099141</td>\n",
       "      <td>0.880038</td>\n",
       "      <td>...</td>\n",
       "      <td>0.129426</td>\n",
       "      <td>0.166200</td>\n",
       "      <td>0.813229</td>\n",
       "      <td>0.698751</td>\n",
       "      <td>0.072213</td>\n",
       "      <td>0.085230</td>\n",
       "      <td>0.826436</td>\n",
       "      <td>0.727295</td>\n",
       "      <td>20540.0</td>\n",
       "      <td>69170.0</td>\n",
       "    </tr>\n",
       "  </tbody>\n",
       "</table>\n",
       "<p>4 rows × 50 columns</p>\n",
       "</div>"
      ],
      "text/plain": [
       "  run_no                       universe_id  \\\n",
       "0     14  94e0338bfae4fb3e9869d2b2ce31ce8c   \n",
       "0     14  94e0338bfae4fb3e9869d2b2ce31ce8c   \n",
       "0     14  94e0338bfae4fb3e9869d2b2ce31ce8c   \n",
       "0     14  94e0338bfae4fb3e9869d2b2ce31ce8c   \n",
       "\n",
       "                                   universe_settings  execution_time  \\\n",
       "0  {\"cutoff\": \"quantile_0.1\", \"eval_fairness_grou...       33.230225   \n",
       "0  {\"cutoff\": \"quantile_0.1\", \"eval_fairness_grou...       33.230225   \n",
       "0  {\"cutoff\": \"quantile_0.25\", \"eval_fairness_gro...       33.230225   \n",
       "0  {\"cutoff\": \"quantile_0.25\", \"eval_fairness_gro...       33.230225   \n",
       "\n",
       "   test_size_n  test_size_frac  fair_main_equalized_odds_difference  \\\n",
       "0        89710             1.0                             0.093552   \n",
       "0        89710             1.0                             0.093552   \n",
       "0        89710             1.0                             0.114479   \n",
       "0        89710             1.0                             0.114479   \n",
       "\n",
       "   fair_main_equalized_odds_ratio  fair_main_demographic_parity_difference  \\\n",
       "0                        0.902633                                 0.083538   \n",
       "0                        0.902633                                 0.083538   \n",
       "0                        0.859230                                 0.099141   \n",
       "0                        0.859230                                 0.099141   \n",
       "\n",
       "   fair_main_demographic_parity_ratio  ...  perf_grp_precision_0  \\\n",
       "0                            0.913380  ...                   NaN   \n",
       "0                            0.913380  ...              0.118582   \n",
       "0                            0.880038  ...                   NaN   \n",
       "0                            0.880038  ...              0.129426   \n",
       "\n",
       "   perf_grp_precision_1  perf_grp_false positive rate_0  \\\n",
       "0                   NaN                             NaN   \n",
       "0              0.145544                        0.960819   \n",
       "0                   NaN                             NaN   \n",
       "0              0.166200                        0.813229   \n",
       "\n",
       "   perf_grp_false positive rate_1  perf_grp_false negative rate_0  \\\n",
       "0                             NaN                             NaN   \n",
       "0                        0.867266                        0.008024   \n",
       "0                             NaN                             NaN   \n",
       "0                        0.698751                        0.072213   \n",
       "\n",
       "   perf_grp_false negative rate_1  perf_grp_selection rate_0  \\\n",
       "0                             NaN                        NaN   \n",
       "0                        0.029759                   0.964411   \n",
       "0                             NaN                        NaN   \n",
       "0                        0.085230                   0.826436   \n",
       "\n",
       "   perf_grp_selection rate_1  perf_grp_count_0  perf_grp_count_1  \n",
       "0                        NaN               NaN               NaN  \n",
       "0                   0.880873           20540.0           69170.0  \n",
       "0                        NaN               NaN               NaN  \n",
       "0                   0.727295           20540.0           69170.0  \n",
       "\n",
       "[4 rows x 50 columns]"
      ]
     },
     "execution_count": 79,
     "metadata": {},
     "output_type": "execute_result"
    }
   ],
   "source": [
    "final_output = universe_analysis.generate_final_output(\n",
    "    y_pred_prob=probs_test,\n",
    "    y_test=y_true,\n",
    "    org_test=org_test,\n",
    "    filter_data=filter_sub_universe_data,\n",
    "    cp_metrics_df=cp_metrics_df,\n",
    "    save=True,\n",
    ")\n",
    "final_output"
   ]
  },
  {
   "cell_type": "code",
   "execution_count": null,
   "id": "721ff514-cb11-46f8-b6fc-50392f74b5cb",
   "metadata": {
    "papermill": {
     "duration": 0.02757,
     "end_time": "2025-07-30T21:31:12.366746",
     "exception": false,
     "start_time": "2025-07-30T21:31:12.339176",
     "status": "completed"
    },
    "tags": []
   },
   "outputs": [],
   "source": []
  }
 ],
 "metadata": {
  "celltoolbar": "Tags",
  "kernelspec": {
   "display_name": "Python (CMA Fairness)",
   "language": "python",
   "name": "cma_fair_env"
  },
  "language_info": {
   "codemirror_mode": {
    "name": "ipython",
    "version": 3
   },
   "file_extension": ".py",
   "mimetype": "text/x-python",
   "name": "python",
   "nbconvert_exporter": "python",
   "pygments_lexer": "ipython3",
   "version": "3.10.12"
  },
  "papermill": {
   "default_parameters": {},
   "duration": 58.360867,
   "end_time": "2025-07-30T21:31:13.111571",
   "environment_variables": {},
   "exception": null,
   "input_path": "universe_analysis.ipynb",
   "output_path": "output/runs/14/notebooks/m_14-94e0338bfae4fb3e9869d2b2ce31ce8c.ipynb",
   "parameters": {
    "output_dir": "output",
    "run_no": "14",
    "seed": "2023",
    "universe": "{\"cutoff\": [\"quantile_0.1\", \"quantile_0.25\"], \"eval_fairness_grouping\": [\"majority-minority\", \"nationality-all\"], \"exclude_features\": \"none\", \"exclude_subgroups\": \"keep-all\", \"model\": \"gbm\", \"scale\": \"do-not-scale\", \"training_size\": \"1k\", \"training_year\": \"2014\"}",
    "universe_id": "94e0338bfae4fb3e9869d2b2ce31ce8c"
   },
   "start_time": "2025-07-30T21:30:14.750704",
   "version": "2.6.0"
  }
 },
 "nbformat": 4,
 "nbformat_minor": 5
}