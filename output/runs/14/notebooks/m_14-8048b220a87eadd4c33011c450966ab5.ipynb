{
 "cells": [
  {
   "cell_type": "code",
   "execution_count": 1,
   "id": "f159f837-637b-42ba-96b5-ec9a68c44524",
   "metadata": {
    "execution": {
     "iopub.execute_input": "2025-07-30T20:10:37.282452Z",
     "iopub.status.busy": "2025-07-30T20:10:37.281794Z",
     "iopub.status.idle": "2025-07-30T20:10:37.296536Z",
     "shell.execute_reply": "2025-07-30T20:10:37.295408Z"
    },
    "papermill": {
     "duration": 0.036223,
     "end_time": "2025-07-30T20:10:37.298126",
     "exception": false,
     "start_time": "2025-07-30T20:10:37.261903",
     "status": "completed"
    },
    "tags": []
   },
   "outputs": [
    {
     "name": "stdout",
     "output_type": "stream",
     "text": [
      "/dss/dsshome1/0C/ra93lal2/cma/CMA_Fairness_v2\n"
     ]
    },
    {
     "name": "stderr",
     "output_type": "stream",
     "text": [
      "/dss/dsshome1/0C/ra93lal2/.local/share/virtualenvs/CMA_Fairness_v2-3j10GkSs/lib/python3.10/site-packages/IPython/core/magics/osm.py:393: UserWarning: This is now an optional IPython functionality, using bookmarks requires you to install the `pickleshare` library.\n",
      "  bkms = self.shell.db.get('bookmarks', {})\n",
      "/dss/dsshome1/0C/ra93lal2/.local/share/virtualenvs/CMA_Fairness_v2-3j10GkSs/lib/python3.10/site-packages/IPython/core/magics/osm.py:417: UserWarning: This is now an optional IPython functionality, setting dhist requires you to install the `pickleshare` library.\n",
      "  self.shell.db['dhist'] = compress_dhist(dhist)[-100:]\n"
     ]
    }
   ],
   "source": [
    "%cd ~/cma/CMA_Fairness_v2"
   ]
  },
  {
   "cell_type": "markdown",
   "id": "de2603b9",
   "metadata": {
    "papermill": {
     "duration": 0.017787,
     "end_time": "2025-07-30T20:10:37.334749",
     "exception": false,
     "start_time": "2025-07-30T20:10:37.316962",
     "status": "completed"
    },
    "tags": []
   },
   "source": [
    "The following cell holds the definition of our parameters, these values can be overriden by rendering the with e.g. the following command:\n",
    "\n",
    "papermill -p alpha 0.2 -p ratio 0.3 universe_analysis.ipynb output/test_run.ipynb"
   ]
  },
  {
   "cell_type": "code",
   "execution_count": 2,
   "id": "a80968a0-40bb-4fa9-85ef-2d5eefb01975",
   "metadata": {
    "execution": {
     "iopub.execute_input": "2025-07-30T20:10:37.372584Z",
     "iopub.status.busy": "2025-07-30T20:10:37.371645Z",
     "iopub.status.idle": "2025-07-30T20:10:37.377764Z",
     "shell.execute_reply": "2025-07-30T20:10:37.376637Z"
    },
    "papermill": {
     "duration": 0.027274,
     "end_time": "2025-07-30T20:10:37.379662",
     "exception": false,
     "start_time": "2025-07-30T20:10:37.352388",
     "status": "completed"
    },
    "tags": []
   },
   "outputs": [
    {
     "name": "stdout",
     "output_type": "stream",
     "text": [
      "Current working directory: /dss/dsshome1/0C/ra93lal2/cma/CMA_Fairness_v2\n"
     ]
    }
   ],
   "source": [
    "import os\n",
    "print(\"Current working directory:\", os.getcwd())"
   ]
  },
  {
   "cell_type": "code",
   "execution_count": 3,
   "id": "2dce4c03",
   "metadata": {
    "execution": {
     "iopub.execute_input": "2025-07-30T20:10:37.426681Z",
     "iopub.status.busy": "2025-07-30T20:10:37.425965Z",
     "iopub.status.idle": "2025-07-30T20:10:37.432988Z",
     "shell.execute_reply": "2025-07-30T20:10:37.431738Z"
    },
    "papermill": {
     "duration": 0.032089,
     "end_time": "2025-07-30T20:10:37.434825",
     "exception": false,
     "start_time": "2025-07-30T20:10:37.402736",
     "status": "completed"
    },
    "tags": [
     "parameters"
    ]
   },
   "outputs": [],
   "source": [
    "run_no = 0\n",
    "universe_id = \"test\"\n",
    "universe = {\n",
    "    \"training_size\": \"25k\", # \"25k\", \"5k\", \"1k\"\n",
    "    \"training_year\": \"2014\", # \"2014\", \"2012_14\", \"2010_14\"\n",
    "    \"scale\": \"scale\", # \"scale\", \"do-not-scale\",\n",
    "    #\"stratify_split\": \"target\", # \"none\", \"target\", \"protected-attribute\", \"both\",\n",
    "    \"model\": \"elasticnet\", # \"logreg\", \"penalized_logreg\", \"rf\", \"gbm\", \"elasticnet\"\n",
    "    \"cutoff\": [\"quantile_0.15\", \"quantile_0.30\"],\n",
    "    \"exclude_features\": \"age\", # \"none\", \"nationality\", \"sex\", \"nationality-sex\", \"age\"\n",
    "    \"exclude_subgroups\": \"keep-all\", # \"keep-all\", \"drop-non-german\"\n",
    "    \"eval_fairness_grouping\": [\"majority-minority\", \"nationality-all\"]\n",
    "}\n",
    "\n",
    "output_dir=\"./output\"\n",
    "seed=0"
   ]
  },
  {
   "cell_type": "code",
   "execution_count": 4,
   "id": "96a696a2",
   "metadata": {
    "execution": {
     "iopub.execute_input": "2025-07-30T20:10:37.481191Z",
     "iopub.status.busy": "2025-07-30T20:10:37.480537Z",
     "iopub.status.idle": "2025-07-30T20:10:37.486105Z",
     "shell.execute_reply": "2025-07-30T20:10:37.484926Z"
    },
    "papermill": {
     "duration": 0.030315,
     "end_time": "2025-07-30T20:10:37.487965",
     "exception": false,
     "start_time": "2025-07-30T20:10:37.457650",
     "status": "completed"
    },
    "tags": [
     "injected-parameters"
    ]
   },
   "outputs": [],
   "source": [
    "# Parameters\n",
    "universe_id = \"8048b220a87eadd4c33011c450966ab5\"\n",
    "run_no = \"14\"\n",
    "universe = \"{\\\"cutoff\\\": [\\\"quantile_0.1\\\", \\\"quantile_0.25\\\"], \\\"eval_fairness_grouping\\\": [\\\"majority-minority\\\", \\\"nationality-all\\\"], \\\"exclude_features\\\": \\\"none\\\", \\\"exclude_subgroups\\\": \\\"drop-non-german\\\", \\\"model\\\": \\\"rf\\\", \\\"scale\\\": \\\"scale\\\", \\\"training_size\\\": \\\"25k\\\", \\\"training_year\\\": \\\"2012_14\\\"}\"\n",
    "output_dir = \"output\"\n",
    "seed = \"2023\"\n"
   ]
  },
  {
   "cell_type": "code",
   "execution_count": 5,
   "id": "1650acaf",
   "metadata": {
    "execution": {
     "iopub.execute_input": "2025-07-30T20:10:37.534557Z",
     "iopub.status.busy": "2025-07-30T20:10:37.533904Z",
     "iopub.status.idle": "2025-07-30T20:10:37.538940Z",
     "shell.execute_reply": "2025-07-30T20:10:37.537895Z"
    },
    "papermill": {
     "duration": 0.029916,
     "end_time": "2025-07-30T20:10:37.540471",
     "exception": false,
     "start_time": "2025-07-30T20:10:37.510555",
     "status": "completed"
    },
    "tags": []
   },
   "outputs": [],
   "source": [
    "import json\n",
    "# Parse universe into dict if it is passed as a string\n",
    "if isinstance(universe, str):\n",
    "    universe = json.loads(universe)"
   ]
  },
  {
   "cell_type": "code",
   "execution_count": 6,
   "id": "16620c48",
   "metadata": {
    "execution": {
     "iopub.execute_input": "2025-07-30T20:10:37.579605Z",
     "iopub.status.busy": "2025-07-30T20:10:37.578887Z",
     "iopub.status.idle": "2025-07-30T20:10:37.618929Z",
     "shell.execute_reply": "2025-07-30T20:10:37.618243Z"
    },
    "papermill": {
     "duration": 0.061102,
     "end_time": "2025-07-30T20:10:37.620661",
     "exception": false,
     "start_time": "2025-07-30T20:10:37.559559",
     "status": "completed"
    },
    "tags": []
   },
   "outputs": [],
   "source": [
    "# Auto-reload the custom package\n",
    "%load_ext autoreload\n",
    "%autoreload 1\n",
    "%aimport fairness_multiverse"
   ]
  },
  {
   "cell_type": "code",
   "execution_count": 7,
   "id": "01c5c9f3",
   "metadata": {
    "execution": {
     "iopub.execute_input": "2025-07-30T20:10:37.661978Z",
     "iopub.status.busy": "2025-07-30T20:10:37.661494Z",
     "iopub.status.idle": "2025-07-30T20:10:39.685522Z",
     "shell.execute_reply": "2025-07-30T20:10:39.684505Z"
    },
    "papermill": {
     "duration": 2.044946,
     "end_time": "2025-07-30T20:10:39.687248",
     "exception": false,
     "start_time": "2025-07-30T20:10:37.642302",
     "status": "completed"
    },
    "tags": []
   },
   "outputs": [],
   "source": [
    "from fairness_multiverse.universe import UniverseAnalysis\n",
    "\n",
    "universe_analysis = UniverseAnalysis(\n",
    "    run_no = run_no,\n",
    "    universe_id = universe_id,\n",
    "    universe = universe,\n",
    "    output_dir=output_dir,\n",
    ")"
   ]
  },
  {
   "cell_type": "code",
   "execution_count": 8,
   "id": "106241f5",
   "metadata": {
    "execution": {
     "iopub.execute_input": "2025-07-30T20:10:39.726129Z",
     "iopub.status.busy": "2025-07-30T20:10:39.725650Z",
     "iopub.status.idle": "2025-07-30T20:10:39.731708Z",
     "shell.execute_reply": "2025-07-30T20:10:39.730883Z"
    },
    "papermill": {
     "duration": 0.027156,
     "end_time": "2025-07-30T20:10:39.733548",
     "exception": false,
     "start_time": "2025-07-30T20:10:39.706392",
     "status": "completed"
    },
    "tags": []
   },
   "outputs": [
    {
     "name": "stdout",
     "output_type": "stream",
     "text": [
      "Using Seed: 2023\n"
     ]
    }
   ],
   "source": [
    "import numpy as np\n",
    "parsed_seed = int(seed)\n",
    "np.random.seed(parsed_seed)\n",
    "print(f\"Using Seed: {parsed_seed}\")"
   ]
  },
  {
   "cell_type": "markdown",
   "id": "e0ebdc57",
   "metadata": {
    "papermill": {
     "duration": 0.019937,
     "end_time": "2025-07-30T20:10:39.775826",
     "exception": false,
     "start_time": "2025-07-30T20:10:39.755889",
     "status": "completed"
    },
    "tags": []
   },
   "source": [
    "# Loading Data"
   ]
  },
  {
   "cell_type": "markdown",
   "id": "681925a3",
   "metadata": {
    "papermill": {
     "duration": 0.020219,
     "end_time": "2025-07-30T20:10:39.816592",
     "exception": false,
     "start_time": "2025-07-30T20:10:39.796373",
     "status": "completed"
    },
    "tags": []
   },
   "source": [
    "Load siab_train, siab_test, siab_calib and/or \n",
    "load siab_train_features, siab_train_labels"
   ]
  },
  {
   "cell_type": "code",
   "execution_count": 9,
   "id": "f0496b8a",
   "metadata": {
    "execution": {
     "iopub.execute_input": "2025-07-30T20:10:39.856890Z",
     "iopub.status.busy": "2025-07-30T20:10:39.856505Z",
     "iopub.status.idle": "2025-07-30T20:10:53.067561Z",
     "shell.execute_reply": "2025-07-30T20:10:53.066496Z"
    },
    "papermill": {
     "duration": 13.233254,
     "end_time": "2025-07-30T20:10:53.069106",
     "exception": false,
     "start_time": "2025-07-30T20:10:39.835852",
     "status": "completed"
    },
    "tags": []
   },
   "outputs": [
    {
     "name": "stdout",
     "output_type": "stream",
     "text": [
      "Loading SIAB data from cache: data/siab_cached.csv.gz\n"
     ]
    },
    {
     "name": "stdout",
     "output_type": "stream",
     "text": [
      "(643690, 164)\n"
     ]
    }
   ],
   "source": [
    "from pathlib import Path\n",
    "import pandas as pd\n",
    "\n",
    "# File paths\n",
    "raw_file = Path(\"data/raw/siab.csv\")\n",
    "cache_file = Path(\"data/siab_cached.csv.gz\")\n",
    "\n",
    "# Ensure cache directory exists\n",
    "cache_file.parent.mkdir(parents=True, exist_ok=True)\n",
    "\n",
    "# Load with simple caching\n",
    "if cache_file.exists():\n",
    "    print(f\"Loading SIAB data from cache: {cache_file}\")\n",
    "    siab = pd.read_csv(cache_file, compression='gzip')\n",
    "else:\n",
    "    print(f\"Cache not found. Reading raw SIAB data: {raw_file}\")\n",
    "    siab = pd.read_csv(raw_file)\n",
    "    siab.to_csv(cache_file, index=False, compression='gzip')\n",
    "    print(f\"Cached SIAB data to: {cache_file}\")\n",
    "\n",
    "# Now use `siab` DataFrame as needed\n",
    "print(siab.shape)"
   ]
  },
  {
   "cell_type": "code",
   "execution_count": 10,
   "id": "db0ca512-5f53-4dba-abdb-a2888bca41ba",
   "metadata": {
    "execution": {
     "iopub.execute_input": "2025-07-30T20:10:53.114021Z",
     "iopub.status.busy": "2025-07-30T20:10:53.113566Z",
     "iopub.status.idle": "2025-07-30T20:10:53.119346Z",
     "shell.execute_reply": "2025-07-30T20:10:53.118398Z"
    },
    "papermill": {
     "duration": 0.029589,
     "end_time": "2025-07-30T20:10:53.121021",
     "exception": false,
     "start_time": "2025-07-30T20:10:53.091432",
     "status": "completed"
    },
    "tags": []
   },
   "outputs": [],
   "source": [
    "#siab"
   ]
  },
  {
   "cell_type": "code",
   "execution_count": 11,
   "id": "a0edb063",
   "metadata": {
    "execution": {
     "iopub.execute_input": "2025-07-30T20:10:53.146808Z",
     "iopub.status.busy": "2025-07-30T20:10:53.146480Z",
     "iopub.status.idle": "2025-07-30T20:10:53.150522Z",
     "shell.execute_reply": "2025-07-30T20:10:53.149803Z"
    },
    "papermill": {
     "duration": 0.017424,
     "end_time": "2025-07-30T20:10:53.151893",
     "exception": false,
     "start_time": "2025-07-30T20:10:53.134469",
     "status": "completed"
    },
    "tags": []
   },
   "outputs": [],
   "source": [
    "#import pandas as pd\n",
    "#\n",
    "#X_train = pd.read_csv(\"./data/X_train.csv\")\n",
    "#y_train = pd.read_csv(\"./data/y_train.csv\")"
   ]
  },
  {
   "cell_type": "code",
   "execution_count": 12,
   "id": "63d08085",
   "metadata": {
    "execution": {
     "iopub.execute_input": "2025-07-30T20:10:53.181875Z",
     "iopub.status.busy": "2025-07-30T20:10:53.180556Z",
     "iopub.status.idle": "2025-07-30T20:10:53.186739Z",
     "shell.execute_reply": "2025-07-30T20:10:53.185633Z"
    },
    "papermill": {
     "duration": 0.02769,
     "end_time": "2025-07-30T20:10:53.190969",
     "exception": false,
     "start_time": "2025-07-30T20:10:53.163279",
     "status": "completed"
    },
    "tags": []
   },
   "outputs": [],
   "source": [
    "#X_test = pd.read_csv(\"./data/X_test.csv\")\n",
    "#y_true = pd.read_csv(\"./data/y_test.csv\")"
   ]
  },
  {
   "cell_type": "code",
   "execution_count": 13,
   "id": "98a8d0fa-1d3d-4ed8-bb2c-281470e24add",
   "metadata": {
    "execution": {
     "iopub.execute_input": "2025-07-30T20:10:53.250014Z",
     "iopub.status.busy": "2025-07-30T20:10:53.249538Z",
     "iopub.status.idle": "2025-07-30T20:10:53.255456Z",
     "shell.execute_reply": "2025-07-30T20:10:53.254285Z"
    },
    "papermill": {
     "duration": 0.036323,
     "end_time": "2025-07-30T20:10:53.257255",
     "exception": false,
     "start_time": "2025-07-30T20:10:53.220932",
     "status": "completed"
    },
    "tags": []
   },
   "outputs": [],
   "source": [
    "# Calibration data for conformal\n",
    "#X_calib = pd.read_csv(\"./data/X_calib.csv\")\n",
    "#y_calib = pd.read_csv(\"./data/y_calib.csv\")"
   ]
  },
  {
   "cell_type": "markdown",
   "id": "997051c5-15bd-4b69-9786-c3001a3ce484",
   "metadata": {
    "papermill": {
     "duration": 0.019517,
     "end_time": "2025-07-30T20:10:53.296966",
     "exception": false,
     "start_time": "2025-07-30T20:10:53.277449",
     "status": "completed"
    },
    "tags": []
   },
   "source": [
    "# Splitting Data and Setting Training Data Size"
   ]
  },
  {
   "cell_type": "code",
   "execution_count": 14,
   "id": "e993b61f-042d-41a6-8c81-f55681f86335",
   "metadata": {
    "execution": {
     "iopub.execute_input": "2025-07-30T20:10:53.337902Z",
     "iopub.status.busy": "2025-07-30T20:10:53.337382Z",
     "iopub.status.idle": "2025-07-30T20:10:53.352579Z",
     "shell.execute_reply": "2025-07-30T20:10:53.351459Z"
    },
    "papermill": {
     "duration": 0.038011,
     "end_time": "2025-07-30T20:10:53.354348",
     "exception": false,
     "start_time": "2025-07-30T20:10:53.316337",
     "status": "completed"
    },
    "tags": []
   },
   "outputs": [],
   "source": [
    "def sample_by_year_size(df,\n",
    "                        training_year: str,\n",
    "                        training_size: str,\n",
    "                        random_state: int = 42):\n",
    "    # --- parse training_year into a list of int years ---\n",
    "    if \"_\" in training_year:\n",
    "        start_str, end_str = training_year.split(\"_\", 1)\n",
    "        start = int(start_str)\n",
    "        end   = int(end_str) if len(end_str) == 4 else (int(end_str) + (start // 100)*100)\n",
    "        years = list(range(start, end + 1))\n",
    "    else:\n",
    "        years = [int(training_year)]\n",
    "\n",
    "    df = df[df[\"year\"].isin(years)].reset_index(drop=True)\n",
    "\n",
    "    # --- map training_size to total number of samples ---\n",
    "    total_map = {\"25k\": 25_000, \"5k\": 5_000, \"1k\": 1_000}\n",
    "    if training_size not in total_map:\n",
    "        return df  # e.g. \"all\"\n",
    "\n",
    "    total_samples = total_map[training_size]\n",
    "    n_years       = len(years)\n",
    "    base          = total_samples // n_years\n",
    "    remainder     = total_samples % n_years\n",
    "\n",
    "    # --- build a dict: year -> how many to sample ---\n",
    "    # give +1 to the first `remainder` years in ascending order\n",
    "    quotas = {\n",
    "        year: base + (1 if idx < remainder else 0)\n",
    "        for idx, year in enumerate(sorted(years))\n",
    "    }\n",
    "\n",
    "    # --- sample per‐year according to the quota dict ---\n",
    "    sampled = (\n",
    "        df\n",
    "        .groupby(\"year\", group_keys=False)\n",
    "        .apply(lambda grp: grp.sample(\n",
    "            n=min(len(grp), quotas[grp.name]),\n",
    "            random_state=random_state))\n",
    "        .reset_index(drop=True)\n",
    "    )\n",
    "\n",
    "    return sampled"
   ]
  },
  {
   "cell_type": "code",
   "execution_count": 15,
   "id": "c0ccd338-0e02-41f3-a09d-f56f9266e3fb",
   "metadata": {
    "execution": {
     "iopub.execute_input": "2025-07-30T20:10:53.411757Z",
     "iopub.status.busy": "2025-07-30T20:10:53.410746Z",
     "iopub.status.idle": "2025-07-30T20:10:53.416871Z",
     "shell.execute_reply": "2025-07-30T20:10:53.415674Z"
    },
    "papermill": {
     "duration": 0.044578,
     "end_time": "2025-07-30T20:10:53.418514",
     "exception": false,
     "start_time": "2025-07-30T20:10:53.373936",
     "status": "completed"
    },
    "tags": []
   },
   "outputs": [],
   "source": [
    "#universe[\"training_size\"]"
   ]
  },
  {
   "cell_type": "code",
   "execution_count": 16,
   "id": "ca707fd7-8047-4acd-bfa5-66248fbbf8e6",
   "metadata": {
    "execution": {
     "iopub.execute_input": "2025-07-30T20:10:53.466524Z",
     "iopub.status.busy": "2025-07-30T20:10:53.465689Z",
     "iopub.status.idle": "2025-07-30T20:10:53.471125Z",
     "shell.execute_reply": "2025-07-30T20:10:53.470167Z"
    },
    "papermill": {
     "duration": 0.031243,
     "end_time": "2025-07-30T20:10:53.472987",
     "exception": false,
     "start_time": "2025-07-30T20:10:53.441744",
     "status": "completed"
    },
    "tags": []
   },
   "outputs": [],
   "source": [
    "#universe[\"training_year\"]"
   ]
  },
  {
   "cell_type": "code",
   "execution_count": 17,
   "id": "aea9c6ef-6f46-42c8-85eb-5a62025c1508",
   "metadata": {
    "execution": {
     "iopub.execute_input": "2025-07-30T20:10:53.500618Z",
     "iopub.status.busy": "2025-07-30T20:10:53.500260Z",
     "iopub.status.idle": "2025-07-30T20:10:54.133871Z",
     "shell.execute_reply": "2025-07-30T20:10:54.133112Z"
    },
    "papermill": {
     "duration": 0.647409,
     "end_time": "2025-07-30T20:10:54.135303",
     "exception": false,
     "start_time": "2025-07-30T20:10:53.487894",
     "status": "completed"
    },
    "tags": []
   },
   "outputs": [],
   "source": [
    "siab_train = sample_by_year_size(siab,\n",
    "                               training_year=universe[\"training_year\"],\n",
    "                               training_size=universe[\"training_size\"])"
   ]
  },
  {
   "cell_type": "code",
   "execution_count": 18,
   "id": "8d3afb32-789d-442c-8d5d-9f5aa8dd2eed",
   "metadata": {
    "execution": {
     "iopub.execute_input": "2025-07-30T20:10:54.162854Z",
     "iopub.status.busy": "2025-07-30T20:10:54.162293Z",
     "iopub.status.idle": "2025-07-30T20:10:54.166430Z",
     "shell.execute_reply": "2025-07-30T20:10:54.165534Z"
    },
    "papermill": {
     "duration": 0.017527,
     "end_time": "2025-07-30T20:10:54.167805",
     "exception": false,
     "start_time": "2025-07-30T20:10:54.150278",
     "status": "completed"
    },
    "tags": []
   },
   "outputs": [],
   "source": [
    "#siab_train.shape"
   ]
  },
  {
   "cell_type": "code",
   "execution_count": 19,
   "id": "d582db68-1a4c-47fb-84fc-08518dc1975a",
   "metadata": {
    "execution": {
     "iopub.execute_input": "2025-07-30T20:10:54.191471Z",
     "iopub.status.busy": "2025-07-30T20:10:54.191121Z",
     "iopub.status.idle": "2025-07-30T20:10:54.196487Z",
     "shell.execute_reply": "2025-07-30T20:10:54.195411Z"
    },
    "papermill": {
     "duration": 0.018868,
     "end_time": "2025-07-30T20:10:54.198274",
     "exception": false,
     "start_time": "2025-07-30T20:10:54.179406",
     "status": "completed"
    },
    "tags": []
   },
   "outputs": [],
   "source": [
    "#display(siab_train.groupby(\"year\").size())"
   ]
  },
  {
   "cell_type": "code",
   "execution_count": 20,
   "id": "a561edb4-d032-42cb-8256-22eac1111c64",
   "metadata": {
    "execution": {
     "iopub.execute_input": "2025-07-30T20:10:54.244671Z",
     "iopub.status.busy": "2025-07-30T20:10:54.243965Z",
     "iopub.status.idle": "2025-07-30T20:10:54.496268Z",
     "shell.execute_reply": "2025-07-30T20:10:54.495303Z"
    },
    "papermill": {
     "duration": 0.276531,
     "end_time": "2025-07-30T20:10:54.498236",
     "exception": false,
     "start_time": "2025-07-30T20:10:54.221705",
     "status": "completed"
    },
    "tags": []
   },
   "outputs": [],
   "source": [
    "#siab_train = siab_s[siab_s.year < 2015]\n",
    "siab_calib = siab[siab.year == 2015]\n",
    "siab_test = siab[siab.year == 2016]"
   ]
  },
  {
   "cell_type": "code",
   "execution_count": 21,
   "id": "472de16f-c3db-4916-846b-1f0de9cf1746",
   "metadata": {
    "execution": {
     "iopub.execute_input": "2025-07-30T20:10:54.545010Z",
     "iopub.status.busy": "2025-07-30T20:10:54.544555Z",
     "iopub.status.idle": "2025-07-30T20:10:54.558938Z",
     "shell.execute_reply": "2025-07-30T20:10:54.557736Z"
    },
    "papermill": {
     "duration": 0.04082,
     "end_time": "2025-07-30T20:10:54.560781",
     "exception": false,
     "start_time": "2025-07-30T20:10:54.519961",
     "status": "completed"
    },
    "tags": []
   },
   "outputs": [],
   "source": [
    "X_train = siab_train.iloc[:,4:164]\n",
    "y_train = siab_train.iloc[:, [3]]"
   ]
  },
  {
   "cell_type": "code",
   "execution_count": 22,
   "id": "828c96af-f43a-4ed6-ba47-8ac73a47d56c",
   "metadata": {
    "execution": {
     "iopub.execute_input": "2025-07-30T20:10:54.592665Z",
     "iopub.status.busy": "2025-07-30T20:10:54.592285Z",
     "iopub.status.idle": "2025-07-30T20:10:54.642480Z",
     "shell.execute_reply": "2025-07-30T20:10:54.641475Z"
    },
    "papermill": {
     "duration": 0.064278,
     "end_time": "2025-07-30T20:10:54.644225",
     "exception": false,
     "start_time": "2025-07-30T20:10:54.579947",
     "status": "completed"
    },
    "tags": []
   },
   "outputs": [],
   "source": [
    "X_calib = siab_calib.iloc[:,4:164]\n",
    "y_calib = siab_calib.iloc[:, [3]]"
   ]
  },
  {
   "cell_type": "code",
   "execution_count": 23,
   "id": "c34be9c3-6bd6-476e-acd3-845840e303be",
   "metadata": {
    "execution": {
     "iopub.execute_input": "2025-07-30T20:10:54.687687Z",
     "iopub.status.busy": "2025-07-30T20:10:54.687244Z",
     "iopub.status.idle": "2025-07-30T20:10:54.740488Z",
     "shell.execute_reply": "2025-07-30T20:10:54.739210Z"
    },
    "papermill": {
     "duration": 0.074652,
     "end_time": "2025-07-30T20:10:54.742224",
     "exception": false,
     "start_time": "2025-07-30T20:10:54.667572",
     "status": "completed"
    },
    "tags": []
   },
   "outputs": [],
   "source": [
    "X_test = siab_test.iloc[:,4:164]\n",
    "y_true = siab_test.iloc[:, [3]]"
   ]
  },
  {
   "cell_type": "markdown",
   "id": "9901737e-04df-44f0-9100-f5ad144ed040",
   "metadata": {
    "papermill": {
     "duration": 0.018975,
     "end_time": "2025-07-30T20:10:54.782803",
     "exception": false,
     "start_time": "2025-07-30T20:10:54.763828",
     "status": "completed"
    },
    "tags": []
   },
   "source": [
    "# Splitting Data and Setting Training Data Size OLD VERSION"
   ]
  },
  {
   "cell_type": "code",
   "execution_count": 24,
   "id": "acbc8f7d-8fc8-4e86-8c59-5dcb0f58384b",
   "metadata": {
    "execution": {
     "iopub.execute_input": "2025-07-30T20:10:54.825036Z",
     "iopub.status.busy": "2025-07-30T20:10:54.823997Z",
     "iopub.status.idle": "2025-07-30T20:10:54.831448Z",
     "shell.execute_reply": "2025-07-30T20:10:54.830242Z"
    },
    "papermill": {
     "duration": 0.03028,
     "end_time": "2025-07-30T20:10:54.833292",
     "exception": false,
     "start_time": "2025-07-30T20:10:54.803012",
     "status": "completed"
    },
    "tags": []
   },
   "outputs": [],
   "source": [
    "#def sample_by_year(df, training_size, random_state=42):\n",
    "#    if training_size == \"2014\":\n",
    "#        return df[df[\"year\"] == 2014].reset_index(drop=True)\n",
    "#    \n",
    "#    size_map = {\n",
    "#        \"25k\": 5000,\n",
    "#        \"5k\": 1000,\n",
    "#        \"1k\": 200\n",
    "#    }\n",
    "#\n",
    "#    if training_size not in size_map:\n",
    "#        return df.reset_index(drop=True)  # use all data\n",
    "#\n",
    "#    n_per_year = size_map[training_size]\n",
    "#    grouped = df.groupby(\"year\")\n",
    "#    sampled = grouped.apply(lambda x: x.sample(n=min(n_per_year, len(x)), random_state=random_state))\n",
    "#    return sampled.reset_index(drop=True)"
   ]
  },
  {
   "cell_type": "code",
   "execution_count": 25,
   "id": "6d931f52-beaf-43ff-9e78-9d44a448d54e",
   "metadata": {
    "execution": {
     "iopub.execute_input": "2025-07-30T20:10:54.877362Z",
     "iopub.status.busy": "2025-07-30T20:10:54.876479Z",
     "iopub.status.idle": "2025-07-30T20:10:54.881733Z",
     "shell.execute_reply": "2025-07-30T20:10:54.880755Z"
    },
    "papermill": {
     "duration": 0.028992,
     "end_time": "2025-07-30T20:10:54.883870",
     "exception": false,
     "start_time": "2025-07-30T20:10:54.854878",
     "status": "completed"
    },
    "tags": []
   },
   "outputs": [],
   "source": [
    "#siab_s = sample_by_year(siab, universe[\"training_size\"])"
   ]
  },
  {
   "cell_type": "code",
   "execution_count": 26,
   "id": "5db0a40e-a4e2-4920-be85-b12ae061d70d",
   "metadata": {
    "execution": {
     "iopub.execute_input": "2025-07-30T20:10:54.933545Z",
     "iopub.status.busy": "2025-07-30T20:10:54.932890Z",
     "iopub.status.idle": "2025-07-30T20:10:54.938124Z",
     "shell.execute_reply": "2025-07-30T20:10:54.937216Z"
    },
    "papermill": {
     "duration": 0.030298,
     "end_time": "2025-07-30T20:10:54.939866",
     "exception": false,
     "start_time": "2025-07-30T20:10:54.909568",
     "status": "completed"
    },
    "tags": []
   },
   "outputs": [],
   "source": [
    "#display(siab_s.groupby(\"year\").size())"
   ]
  },
  {
   "cell_type": "code",
   "execution_count": 27,
   "id": "e6c733c5",
   "metadata": {
    "execution": {
     "iopub.execute_input": "2025-07-30T20:10:55.014351Z",
     "iopub.status.busy": "2025-07-30T20:10:55.013972Z",
     "iopub.status.idle": "2025-07-30T20:10:55.109278Z",
     "shell.execute_reply": "2025-07-30T20:10:55.108157Z"
    },
    "papermill": {
     "duration": 0.148132,
     "end_time": "2025-07-30T20:10:55.111492",
     "exception": false,
     "start_time": "2025-07-30T20:10:54.963360",
     "status": "completed"
    },
    "tags": []
   },
   "outputs": [],
   "source": [
    "# Auxiliary data needed downstream in the pipeline\n",
    "\n",
    "org_train = X_train.copy()\n",
    "org_test = X_test.copy()\n",
    "org_calib = X_calib.copy()"
   ]
  },
  {
   "cell_type": "code",
   "execution_count": 28,
   "id": "1466abac-c6da-4492-a62f-4240ae3783af",
   "metadata": {
    "execution": {
     "iopub.execute_input": "2025-07-30T20:10:55.155692Z",
     "iopub.status.busy": "2025-07-30T20:10:55.155287Z",
     "iopub.status.idle": "2025-07-30T20:10:55.161668Z",
     "shell.execute_reply": "2025-07-30T20:10:55.160681Z"
    },
    "papermill": {
     "duration": 0.033175,
     "end_time": "2025-07-30T20:10:55.165364",
     "exception": false,
     "start_time": "2025-07-30T20:10:55.132189",
     "status": "completed"
    },
    "tags": []
   },
   "outputs": [],
   "source": [
    "# put in other script?\n",
    "# Group sizes\n",
    "\n",
    "#def calculate_percentages(df, df_name):\n",
    "#    total_entries = len(df)\n",
    "#\n",
    "#    female_pct = (df['frau1'] == 1).mean() * 100\n",
    "#    non_german_pct = ((df['maxdeutsch1'] == 0) & (df['maxdeutsch.Missing.'] == 0)).mean() * 100\n",
    "#    non_german_male_pct = ((df['frau1'] == 0) & (df['maxdeutsch1'] == 0) & (df['maxdeutsch.Missing.'] == 0)).mean() * 100\n",
    "#    non_german_female_pct = ((df['frau1'] == 1) & (df['maxdeutsch1'] == 0) & (df['maxdeutsch.Missing.'] == 0)).mean() * 100\n",
    "#\n",
    "#    print(f\"--- {df_name} ---\")\n",
    "#    print(f\"Female: {female_pct:.2f}%\")\n",
    "#    print(f\"Non-German: {non_german_pct:.2f}%\")\n",
    "#    print(f\"Non-German Male: {non_german_male_pct:.2f}%\")\n",
    "#    print(f\"Non-German Female: {non_german_female_pct:.2f}%\\n\")\n",
    "#\n",
    "## Calculate for each DataFrame\n",
    "#calculate_percentages(siab_calib, \"siab_calib\")\n",
    "#calculate_percentages(siab_test, \"siab_test\")\n",
    "#calculate_percentages(siab_train, \"siab_train\")"
   ]
  },
  {
   "cell_type": "markdown",
   "id": "0a4a1b33",
   "metadata": {
    "papermill": {
     "duration": 0.020752,
     "end_time": "2025-07-30T20:10:55.209158",
     "exception": false,
     "start_time": "2025-07-30T20:10:55.188406",
     "status": "completed"
    },
    "tags": []
   },
   "source": [
    "# Preprocessing Data"
   ]
  },
  {
   "cell_type": "code",
   "execution_count": 29,
   "id": "ca879031",
   "metadata": {
    "execution": {
     "iopub.execute_input": "2025-07-30T20:10:55.262130Z",
     "iopub.status.busy": "2025-07-30T20:10:55.261725Z",
     "iopub.status.idle": "2025-07-30T20:10:55.268371Z",
     "shell.execute_reply": "2025-07-30T20:10:55.267307Z"
    },
    "papermill": {
     "duration": 0.039732,
     "end_time": "2025-07-30T20:10:55.270157",
     "exception": false,
     "start_time": "2025-07-30T20:10:55.230425",
     "status": "completed"
    },
    "tags": []
   },
   "outputs": [],
   "source": [
    "# EXCLUDE PROTECTED FEATURES\n",
    "# ----------------------\n",
    "# \"exclude_features\": \"none\", # \"nationality\", \"sex\", \"nationality-sex\"\n",
    "\n",
    "excluded_features = universe[\"exclude_features\"].split(\"-\") # split, e.g.: \"nationality-sex\" -> [\"nationality\", \"sex\"]\n",
    "excluded_features_dictionary = {\n",
    "    \"nationality\": [\"maxdeutsch1\", \"maxdeutsch.Missing.\"],\n",
    "    \"sex\": [\"frau1\"],\n",
    "    \"age\": [\"age\"],\n",
    "}\n"
   ]
  },
  {
   "cell_type": "code",
   "execution_count": 30,
   "id": "b745ac60",
   "metadata": {
    "execution": {
     "iopub.execute_input": "2025-07-30T20:10:55.350215Z",
     "iopub.status.busy": "2025-07-30T20:10:55.349825Z",
     "iopub.status.idle": "2025-07-30T20:10:55.356264Z",
     "shell.execute_reply": "2025-07-30T20:10:55.355174Z"
    },
    "papermill": {
     "duration": 0.044227,
     "end_time": "2025-07-30T20:10:55.360498",
     "exception": false,
     "start_time": "2025-07-30T20:10:55.316271",
     "status": "completed"
    },
    "tags": []
   },
   "outputs": [],
   "source": [
    "# Code nice names to column names\n",
    "\n",
    "excluded_features_columns = [\n",
    "    excluded_features_dictionary[f] for f in excluded_features if len(f) > 0 and f != \"none\"\n",
    "]"
   ]
  },
  {
   "cell_type": "code",
   "execution_count": 31,
   "id": "f84f73a2",
   "metadata": {
    "execution": {
     "iopub.execute_input": "2025-07-30T20:10:55.411576Z",
     "iopub.status.busy": "2025-07-30T20:10:55.411198Z",
     "iopub.status.idle": "2025-07-30T20:10:55.417269Z",
     "shell.execute_reply": "2025-07-30T20:10:55.416426Z"
    },
    "papermill": {
     "duration": 0.030719,
     "end_time": "2025-07-30T20:10:55.420414",
     "exception": false,
     "start_time": "2025-07-30T20:10:55.389695",
     "status": "completed"
    },
    "tags": []
   },
   "outputs": [],
   "source": [
    "from utils import flatten_once\n",
    "\n",
    "excluded_features_columns = flatten_once(excluded_features_columns)"
   ]
  },
  {
   "cell_type": "code",
   "execution_count": 32,
   "id": "884dea22",
   "metadata": {
    "execution": {
     "iopub.execute_input": "2025-07-30T20:10:55.465347Z",
     "iopub.status.busy": "2025-07-30T20:10:55.464930Z",
     "iopub.status.idle": "2025-07-30T20:10:55.470801Z",
     "shell.execute_reply": "2025-07-30T20:10:55.469970Z"
    },
    "papermill": {
     "duration": 0.031181,
     "end_time": "2025-07-30T20:10:55.474015",
     "exception": false,
     "start_time": "2025-07-30T20:10:55.442834",
     "status": "completed"
    },
    "tags": []
   },
   "outputs": [],
   "source": [
    "if len(excluded_features_columns) > 0:\n",
    "    print(f\"Dropping features: {excluded_features_columns}\")\n",
    "    X_train.drop(excluded_features_columns, axis=1, inplace=True)"
   ]
  },
  {
   "cell_type": "code",
   "execution_count": 33,
   "id": "95ab8b16",
   "metadata": {
    "execution": {
     "iopub.execute_input": "2025-07-30T20:10:55.518894Z",
     "iopub.status.busy": "2025-07-30T20:10:55.518491Z",
     "iopub.status.idle": "2025-07-30T20:10:55.524154Z",
     "shell.execute_reply": "2025-07-30T20:10:55.523294Z"
    },
    "papermill": {
     "duration": 0.030683,
     "end_time": "2025-07-30T20:10:55.527177",
     "exception": false,
     "start_time": "2025-07-30T20:10:55.496494",
     "status": "completed"
    },
    "tags": []
   },
   "outputs": [],
   "source": [
    "if len(excluded_features_columns) > 0:\n",
    "    print(f\"Dropping features: {excluded_features_columns}\")\n",
    "    X_test.drop(excluded_features_columns, axis=1, inplace=True)"
   ]
  },
  {
   "cell_type": "code",
   "execution_count": 34,
   "id": "1853aaf5-fb9f-46cb-a2b5-8ea4ae2237e4",
   "metadata": {
    "execution": {
     "iopub.execute_input": "2025-07-30T20:10:55.572106Z",
     "iopub.status.busy": "2025-07-30T20:10:55.571683Z",
     "iopub.status.idle": "2025-07-30T20:10:55.577778Z",
     "shell.execute_reply": "2025-07-30T20:10:55.576772Z"
    },
    "papermill": {
     "duration": 0.031648,
     "end_time": "2025-07-30T20:10:55.581229",
     "exception": false,
     "start_time": "2025-07-30T20:10:55.549581",
     "status": "completed"
    },
    "tags": []
   },
   "outputs": [],
   "source": [
    "if len(excluded_features_columns) > 0:\n",
    "    print(f\"Dropping features: {excluded_features_columns}\")\n",
    "    X_calib.drop(excluded_features_columns, axis=1, inplace=True)"
   ]
  },
  {
   "cell_type": "code",
   "execution_count": 35,
   "id": "6727d079-03e5-481e-9d38-292a90b7a0a8",
   "metadata": {
    "execution": {
     "iopub.execute_input": "2025-07-30T20:10:55.693047Z",
     "iopub.status.busy": "2025-07-30T20:10:55.692662Z",
     "iopub.status.idle": "2025-07-30T20:10:55.698615Z",
     "shell.execute_reply": "2025-07-30T20:10:55.697628Z"
    },
    "papermill": {
     "duration": 0.052056,
     "end_time": "2025-07-30T20:10:55.700608",
     "exception": false,
     "start_time": "2025-07-30T20:10:55.648552",
     "status": "completed"
    },
    "tags": []
   },
   "outputs": [],
   "source": [
    "# SPLIT & STRATIFY DATA\n",
    "# ----------------------"
   ]
  },
  {
   "cell_type": "code",
   "execution_count": 36,
   "id": "76c4dc6d",
   "metadata": {
    "execution": {
     "iopub.execute_input": "2025-07-30T20:10:55.787431Z",
     "iopub.status.busy": "2025-07-30T20:10:55.787054Z",
     "iopub.status.idle": "2025-07-30T20:10:55.792397Z",
     "shell.execute_reply": "2025-07-30T20:10:55.791376Z"
    },
    "papermill": {
     "duration": 0.041919,
     "end_time": "2025-07-30T20:10:55.794482",
     "exception": false,
     "start_time": "2025-07-30T20:10:55.752563",
     "status": "completed"
    },
    "tags": []
   },
   "outputs": [],
   "source": [
    "# EXCLUDE CERTAIN SUBGROUPS\n",
    "# ----------------------\n",
    "\n",
    "mode = universe.get(\"exclude_subgroups\", \"keep-all\") \n",
    "# Fetches the exclude_subgroups setting from the universe dict.\n",
    "# Defaults to \"keep-all\" if the key is missing."
   ]
  },
  {
   "cell_type": "code",
   "execution_count": 37,
   "id": "21994072",
   "metadata": {
    "execution": {
     "iopub.execute_input": "2025-07-30T20:10:55.847314Z",
     "iopub.status.busy": "2025-07-30T20:10:55.846939Z",
     "iopub.status.idle": "2025-07-30T20:10:55.854049Z",
     "shell.execute_reply": "2025-07-30T20:10:55.853000Z"
    },
    "papermill": {
     "duration": 0.034978,
     "end_time": "2025-07-30T20:10:55.856880",
     "exception": false,
     "start_time": "2025-07-30T20:10:55.821902",
     "status": "completed"
    },
    "tags": []
   },
   "outputs": [],
   "source": [
    "if mode == \"keep-all\":\n",
    "    keep_mask = pd.Series(True, index=org_train.index)\n",
    "\n",
    "# org_train contains the original feature columns from features_org (in Simson)\n",
    "# features_org contains unprocessed features, for me X_train at beginning ???\n",
    "# For keep-all, creates a boolean Series (keep_mask) of all True, so no rows are removed.\n",
    "\n",
    "elif mode == \"drop-non-german\":\n",
    "    keep_mask = org_train[\"maxdeutsch1\"] == 1 # ??? what about missing values?\n",
    "\n",
    "else:\n",
    "    raise ValueError(f\"Unsupported mode for exclude_subgroups: {mode}\")\n"
   ]
  },
  {
   "cell_type": "code",
   "execution_count": 38,
   "id": "71651440",
   "metadata": {
    "execution": {
     "iopub.execute_input": "2025-07-30T20:10:55.899473Z",
     "iopub.status.busy": "2025-07-30T20:10:55.899094Z",
     "iopub.status.idle": "2025-07-30T20:10:55.905834Z",
     "shell.execute_reply": "2025-07-30T20:10:55.905006Z"
    },
    "papermill": {
     "duration": 0.031761,
     "end_time": "2025-07-30T20:10:55.909971",
     "exception": false,
     "start_time": "2025-07-30T20:10:55.878210",
     "status": "completed"
    },
    "tags": []
   },
   "outputs": [
    {
     "name": "stdout",
     "output_type": "stream",
     "text": [
      "Dropping 3481 rows (13.92%) where mode='drop-non-german'\n"
     ]
    }
   ],
   "source": [
    "n_drop = (~keep_mask).sum() # Calculates how many rows are set to be dropped\n",
    "if n_drop > 0:\n",
    "    pct = n_drop / len(keep_mask) * 100\n",
    "    print(f\"Dropping {n_drop} rows ({pct:.2f}%) where mode='{mode}'\")"
   ]
  },
  {
   "cell_type": "code",
   "execution_count": 39,
   "id": "5fb8eee5",
   "metadata": {
    "execution": {
     "iopub.execute_input": "2025-07-30T20:10:55.953247Z",
     "iopub.status.busy": "2025-07-30T20:10:55.952870Z",
     "iopub.status.idle": "2025-07-30T20:10:55.967897Z",
     "shell.execute_reply": "2025-07-30T20:10:55.966812Z"
    },
    "papermill": {
     "duration": 0.038303,
     "end_time": "2025-07-30T20:10:55.969990",
     "exception": false,
     "start_time": "2025-07-30T20:10:55.931687",
     "status": "completed"
    },
    "tags": []
   },
   "outputs": [],
   "source": [
    "X_train = X_train[keep_mask]"
   ]
  },
  {
   "cell_type": "code",
   "execution_count": 40,
   "id": "b202bb3a",
   "metadata": {
    "execution": {
     "iopub.execute_input": "2025-07-30T20:10:56.013561Z",
     "iopub.status.busy": "2025-07-30T20:10:56.013178Z",
     "iopub.status.idle": "2025-07-30T20:10:56.019179Z",
     "shell.execute_reply": "2025-07-30T20:10:56.018298Z"
    },
    "papermill": {
     "duration": 0.030964,
     "end_time": "2025-07-30T20:10:56.022469",
     "exception": false,
     "start_time": "2025-07-30T20:10:55.991505",
     "status": "completed"
    },
    "tags": []
   },
   "outputs": [],
   "source": [
    "y_train = y_train[keep_mask]"
   ]
  },
  {
   "cell_type": "markdown",
   "id": "493e2ac3",
   "metadata": {
    "papermill": {
     "duration": 0.031916,
     "end_time": "2025-07-30T20:10:56.076277",
     "exception": false,
     "start_time": "2025-07-30T20:10:56.044361",
     "status": "completed"
    },
    "tags": []
   },
   "source": [
    "# Model Training"
   ]
  },
  {
   "cell_type": "code",
   "execution_count": 41,
   "id": "679e1268",
   "metadata": {
    "execution": {
     "iopub.execute_input": "2025-07-30T20:10:56.163959Z",
     "iopub.status.busy": "2025-07-30T20:10:56.163573Z",
     "iopub.status.idle": "2025-07-30T20:10:56.359932Z",
     "shell.execute_reply": "2025-07-30T20:10:56.359007Z"
    },
    "papermill": {
     "duration": 0.221294,
     "end_time": "2025-07-30T20:10:56.361930",
     "exception": false,
     "start_time": "2025-07-30T20:10:56.140636",
     "status": "completed"
    },
    "tags": []
   },
   "outputs": [],
   "source": [
    "from sklearn.linear_model import LogisticRegression\n",
    "from sklearn.ensemble import GradientBoostingClassifier, RandomForestClassifier\n",
    "\n",
    "if (universe[\"model\"] == \"logreg\"):\n",
    "    model = LogisticRegression() #penalty=\"none\") #, solver=\"newton-cg\", max_iter=1) # include random_state=19 ?\n",
    "elif (universe[\"model\"] == \"penalized_logreg\"):\n",
    "    model = LogisticRegression(penalty=\"l2\", C=1.0) #, solver=\"newton-cg\", max_iter=1)\n",
    "elif (universe[\"model\"] == \"rf\"):\n",
    "    model = RandomForestClassifier(n_estimators=100, n_jobs=-1)\n",
    "elif (universe[\"model\"] == \"gbm\"):\n",
    "    model = GradientBoostingClassifier()\n",
    "elif (universe[\"model\"] == \"elasticnet\"):\n",
    "    model = LogisticRegression(penalty = 'elasticnet', solver = 'saga', l1_ratio = 0.5, max_iter=5000) # which solver to use?\n",
    "else:\n",
    "    raise \"Unsupported universe.model\""
   ]
  },
  {
   "cell_type": "code",
   "execution_count": 42,
   "id": "0cc8f744",
   "metadata": {
    "execution": {
     "iopub.execute_input": "2025-07-30T20:10:56.429086Z",
     "iopub.status.busy": "2025-07-30T20:10:56.428724Z",
     "iopub.status.idle": "2025-07-30T20:10:56.438511Z",
     "shell.execute_reply": "2025-07-30T20:10:56.437564Z"
    },
    "papermill": {
     "duration": 0.052666,
     "end_time": "2025-07-30T20:10:56.442892",
     "exception": false,
     "start_time": "2025-07-30T20:10:56.390226",
     "status": "completed"
    },
    "tags": []
   },
   "outputs": [],
   "source": [
    "import numpy as np\n",
    "from sklearn.pipeline import Pipeline\n",
    "from sklearn.preprocessing import StandardScaler\n",
    "\n",
    "model = Pipeline([\n",
    "    #(\"continuous_processor\", continuous_processor),\n",
    "    #(\"categorical_preprocessor\", categorical_preprocessor),\n",
    "    (\"scale\", StandardScaler() if universe[\"scale\"] == \"scale\" else None), \n",
    "    (\"model\", model),\n",
    "])"
   ]
  },
  {
   "cell_type": "code",
   "execution_count": 43,
   "id": "9442c04d",
   "metadata": {
    "execution": {
     "iopub.execute_input": "2025-07-30T20:10:56.614153Z",
     "iopub.status.busy": "2025-07-30T20:10:56.613772Z",
     "iopub.status.idle": "2025-07-30T20:11:00.223863Z",
     "shell.execute_reply": "2025-07-30T20:11:00.222929Z"
    },
    "papermill": {
     "duration": 3.709304,
     "end_time": "2025-07-30T20:11:00.225743",
     "exception": false,
     "start_time": "2025-07-30T20:10:56.516439",
     "status": "completed"
    },
    "tags": []
   },
   "outputs": [
    {
     "data": {
      "text/html": [
       "<style>#sk-container-id-1 {color: black;background-color: white;}#sk-container-id-1 pre{padding: 0;}#sk-container-id-1 div.sk-toggleable {background-color: white;}#sk-container-id-1 label.sk-toggleable__label {cursor: pointer;display: block;width: 100%;margin-bottom: 0;padding: 0.3em;box-sizing: border-box;text-align: center;}#sk-container-id-1 label.sk-toggleable__label-arrow:before {content: \"▸\";float: left;margin-right: 0.25em;color: #696969;}#sk-container-id-1 label.sk-toggleable__label-arrow:hover:before {color: black;}#sk-container-id-1 div.sk-estimator:hover label.sk-toggleable__label-arrow:before {color: black;}#sk-container-id-1 div.sk-toggleable__content {max-height: 0;max-width: 0;overflow: hidden;text-align: left;background-color: #f0f8ff;}#sk-container-id-1 div.sk-toggleable__content pre {margin: 0.2em;color: black;border-radius: 0.25em;background-color: #f0f8ff;}#sk-container-id-1 input.sk-toggleable__control:checked~div.sk-toggleable__content {max-height: 200px;max-width: 100%;overflow: auto;}#sk-container-id-1 input.sk-toggleable__control:checked~label.sk-toggleable__label-arrow:before {content: \"▾\";}#sk-container-id-1 div.sk-estimator input.sk-toggleable__control:checked~label.sk-toggleable__label {background-color: #d4ebff;}#sk-container-id-1 div.sk-label input.sk-toggleable__control:checked~label.sk-toggleable__label {background-color: #d4ebff;}#sk-container-id-1 input.sk-hidden--visually {border: 0;clip: rect(1px 1px 1px 1px);clip: rect(1px, 1px, 1px, 1px);height: 1px;margin: -1px;overflow: hidden;padding: 0;position: absolute;width: 1px;}#sk-container-id-1 div.sk-estimator {font-family: monospace;background-color: #f0f8ff;border: 1px dotted black;border-radius: 0.25em;box-sizing: border-box;margin-bottom: 0.5em;}#sk-container-id-1 div.sk-estimator:hover {background-color: #d4ebff;}#sk-container-id-1 div.sk-parallel-item::after {content: \"\";width: 100%;border-bottom: 1px solid gray;flex-grow: 1;}#sk-container-id-1 div.sk-label:hover label.sk-toggleable__label {background-color: #d4ebff;}#sk-container-id-1 div.sk-serial::before {content: \"\";position: absolute;border-left: 1px solid gray;box-sizing: border-box;top: 0;bottom: 0;left: 50%;z-index: 0;}#sk-container-id-1 div.sk-serial {display: flex;flex-direction: column;align-items: center;background-color: white;padding-right: 0.2em;padding-left: 0.2em;position: relative;}#sk-container-id-1 div.sk-item {position: relative;z-index: 1;}#sk-container-id-1 div.sk-parallel {display: flex;align-items: stretch;justify-content: center;background-color: white;position: relative;}#sk-container-id-1 div.sk-item::before, #sk-container-id-1 div.sk-parallel-item::before {content: \"\";position: absolute;border-left: 1px solid gray;box-sizing: border-box;top: 0;bottom: 0;left: 50%;z-index: -1;}#sk-container-id-1 div.sk-parallel-item {display: flex;flex-direction: column;z-index: 1;position: relative;background-color: white;}#sk-container-id-1 div.sk-parallel-item:first-child::after {align-self: flex-end;width: 50%;}#sk-container-id-1 div.sk-parallel-item:last-child::after {align-self: flex-start;width: 50%;}#sk-container-id-1 div.sk-parallel-item:only-child::after {width: 0;}#sk-container-id-1 div.sk-dashed-wrapped {border: 1px dashed gray;margin: 0 0.4em 0.5em 0.4em;box-sizing: border-box;padding-bottom: 0.4em;background-color: white;}#sk-container-id-1 div.sk-label label {font-family: monospace;font-weight: bold;display: inline-block;line-height: 1.2em;}#sk-container-id-1 div.sk-label-container {text-align: center;}#sk-container-id-1 div.sk-container {/* jupyter's `normalize.less` sets `[hidden] { display: none; }` but bootstrap.min.css set `[hidden] { display: none !important; }` so we also need the `!important` here to be able to override the default hidden behavior on the sphinx rendered scikit-learn.org. See: https://github.com/scikit-learn/scikit-learn/issues/21755 */display: inline-block !important;position: relative;}#sk-container-id-1 div.sk-text-repr-fallback {display: none;}</style><div id=\"sk-container-id-1\" class=\"sk-top-container\"><div class=\"sk-text-repr-fallback\"><pre>Pipeline(steps=[(&#x27;scale&#x27;, StandardScaler()),\n",
       "                (&#x27;model&#x27;, RandomForestClassifier(n_jobs=-1))])</pre><b>In a Jupyter environment, please rerun this cell to show the HTML representation or trust the notebook. <br />On GitHub, the HTML representation is unable to render, please try loading this page with nbviewer.org.</b></div><div class=\"sk-container\" hidden><div class=\"sk-item sk-dashed-wrapped\"><div class=\"sk-label-container\"><div class=\"sk-label sk-toggleable\"><input class=\"sk-toggleable__control sk-hidden--visually\" id=\"sk-estimator-id-1\" type=\"checkbox\" ><label for=\"sk-estimator-id-1\" class=\"sk-toggleable__label sk-toggleable__label-arrow\">Pipeline</label><div class=\"sk-toggleable__content\"><pre>Pipeline(steps=[(&#x27;scale&#x27;, StandardScaler()),\n",
       "                (&#x27;model&#x27;, RandomForestClassifier(n_jobs=-1))])</pre></div></div></div><div class=\"sk-serial\"><div class=\"sk-item\"><div class=\"sk-estimator sk-toggleable\"><input class=\"sk-toggleable__control sk-hidden--visually\" id=\"sk-estimator-id-2\" type=\"checkbox\" ><label for=\"sk-estimator-id-2\" class=\"sk-toggleable__label sk-toggleable__label-arrow\">StandardScaler</label><div class=\"sk-toggleable__content\"><pre>StandardScaler()</pre></div></div></div><div class=\"sk-item\"><div class=\"sk-estimator sk-toggleable\"><input class=\"sk-toggleable__control sk-hidden--visually\" id=\"sk-estimator-id-3\" type=\"checkbox\" ><label for=\"sk-estimator-id-3\" class=\"sk-toggleable__label sk-toggleable__label-arrow\">RandomForestClassifier</label><div class=\"sk-toggleable__content\"><pre>RandomForestClassifier(n_jobs=-1)</pre></div></div></div></div></div></div></div>"
      ],
      "text/plain": [
       "Pipeline(steps=[('scale', StandardScaler()),\n",
       "                ('model', RandomForestClassifier(n_jobs=-1))])"
      ]
     },
     "execution_count": 43,
     "metadata": {},
     "output_type": "execute_result"
    }
   ],
   "source": [
    "model.fit(X_train, y_train.values.ravel())"
   ]
  },
  {
   "cell_type": "code",
   "execution_count": 44,
   "id": "af59f8c0",
   "metadata": {
    "execution": {
     "iopub.execute_input": "2025-07-30T20:11:00.313994Z",
     "iopub.status.busy": "2025-07-30T20:11:00.313538Z",
     "iopub.status.idle": "2025-07-30T20:11:00.319493Z",
     "shell.execute_reply": "2025-07-30T20:11:00.318421Z"
    },
    "papermill": {
     "duration": 0.0374,
     "end_time": "2025-07-30T20:11:00.321704",
     "exception": false,
     "start_time": "2025-07-30T20:11:00.284304",
     "status": "completed"
    },
    "tags": []
   },
   "outputs": [],
   "source": [
    "from fairness_multiverse.universe import predict_w_threshold"
   ]
  },
  {
   "cell_type": "code",
   "execution_count": 45,
   "id": "a7cf2e16",
   "metadata": {
    "execution": {
     "iopub.execute_input": "2025-07-30T20:11:00.366401Z",
     "iopub.status.busy": "2025-07-30T20:11:00.366022Z",
     "iopub.status.idle": "2025-07-30T20:11:01.759839Z",
     "shell.execute_reply": "2025-07-30T20:11:01.758800Z"
    },
    "papermill": {
     "duration": 1.418335,
     "end_time": "2025-07-30T20:11:01.761384",
     "exception": false,
     "start_time": "2025-07-30T20:11:00.343049",
     "status": "completed"
    },
    "tags": []
   },
   "outputs": [
    {
     "data": {
      "text/plain": [
       "0.8655556794114369"
      ]
     },
     "execution_count": 45,
     "metadata": {},
     "output_type": "execute_result"
    }
   ],
   "source": [
    "probs_test = model.predict_proba(X_test)\n",
    "\n",
    "'''\n",
    "Below code returns a boolean array (or binary 0/1 array depending on how it’s used) where each element \n",
    "is True if the probability of class 1 is greater than or equal to the threshold, and False otherwise.\n",
    "'''\n",
    "y_pred_default = predict_w_threshold(probs_test, 0.5)\n",
    "\n",
    "from sklearn.metrics import accuracy_score\n",
    "\n",
    "# Naive prediction\n",
    "accuracy_score(y_true = y_true, y_pred = y_pred_default)"
   ]
  },
  {
   "cell_type": "code",
   "execution_count": 46,
   "id": "081964c3",
   "metadata": {
    "execution": {
     "iopub.execute_input": "2025-07-30T20:11:01.841925Z",
     "iopub.status.busy": "2025-07-30T20:11:01.841567Z",
     "iopub.status.idle": "2025-07-30T20:11:03.043972Z",
     "shell.execute_reply": "2025-07-30T20:11:03.043009Z"
    },
    "papermill": {
     "duration": 1.233095,
     "end_time": "2025-07-30T20:11:03.045740",
     "exception": false,
     "start_time": "2025-07-30T20:11:01.812645",
     "status": "completed"
    },
    "tags": []
   },
   "outputs": [
    {
     "data": {
      "text/plain": [
       "array([0, 0, 0, ..., 0, 0, 0])"
      ]
     },
     "execution_count": 46,
     "metadata": {},
     "output_type": "execute_result"
    }
   ],
   "source": [
    "model.predict(X_test)"
   ]
  },
  {
   "cell_type": "markdown",
   "id": "56c9705b",
   "metadata": {
    "papermill": {
     "duration": 0.052306,
     "end_time": "2025-07-30T20:11:03.124027",
     "exception": false,
     "start_time": "2025-07-30T20:11:03.071721",
     "status": "completed"
    },
    "tags": []
   },
   "source": [
    "# Conformal Prediction"
   ]
  },
  {
   "cell_type": "code",
   "execution_count": 47,
   "id": "160ec6ff",
   "metadata": {
    "execution": {
     "iopub.execute_input": "2025-07-30T20:11:03.173648Z",
     "iopub.status.busy": "2025-07-30T20:11:03.173262Z",
     "iopub.status.idle": "2025-07-30T20:11:03.178786Z",
     "shell.execute_reply": "2025-07-30T20:11:03.177628Z"
    },
    "papermill": {
     "duration": 0.030872,
     "end_time": "2025-07-30T20:11:03.180957",
     "exception": false,
     "start_time": "2025-07-30T20:11:03.150085",
     "status": "completed"
    },
    "tags": []
   },
   "outputs": [],
   "source": [
    "# Miscoverage level for conformal prediction (10% allowed error rate => 90% target coverage)\n",
    "alpha = 0.1"
   ]
  },
  {
   "cell_type": "code",
   "execution_count": 48,
   "id": "eadf4555-3dd3-440e-8e35-f82a4ad9f855",
   "metadata": {
    "execution": {
     "iopub.execute_input": "2025-07-30T20:11:03.226344Z",
     "iopub.status.busy": "2025-07-30T20:11:03.225927Z",
     "iopub.status.idle": "2025-07-30T20:11:04.542553Z",
     "shell.execute_reply": "2025-07-30T20:11:04.541613Z"
    },
    "papermill": {
     "duration": 1.341048,
     "end_time": "2025-07-30T20:11:04.544529",
     "exception": false,
     "start_time": "2025-07-30T20:11:03.203481",
     "status": "completed"
    },
    "tags": []
   },
   "outputs": [],
   "source": [
    "probs_calib = model.predict_proba(X_calib)"
   ]
  },
  {
   "cell_type": "code",
   "execution_count": 49,
   "id": "2ed93547-6d5d-4983-9b36-1ecb300da49a",
   "metadata": {
    "execution": {
     "iopub.execute_input": "2025-07-30T20:11:04.601510Z",
     "iopub.status.busy": "2025-07-30T20:11:04.601080Z",
     "iopub.status.idle": "2025-07-30T20:11:04.617959Z",
     "shell.execute_reply": "2025-07-30T20:11:04.616854Z"
    },
    "papermill": {
     "duration": 0.047561,
     "end_time": "2025-07-30T20:11:04.623314",
     "exception": false,
     "start_time": "2025-07-30T20:11:04.575753",
     "status": "completed"
    },
    "tags": []
   },
   "outputs": [],
   "source": [
    "y_calib = y_calib.values.ravel().astype(int)"
   ]
  },
  {
   "cell_type": "code",
   "execution_count": 50,
   "id": "65d1320d-f588-4b38-9072-62af1ae97f7d",
   "metadata": {
    "execution": {
     "iopub.execute_input": "2025-07-30T20:11:04.721461Z",
     "iopub.status.busy": "2025-07-30T20:11:04.721062Z",
     "iopub.status.idle": "2025-07-30T20:11:04.728711Z",
     "shell.execute_reply": "2025-07-30T20:11:04.727416Z"
    },
    "papermill": {
     "duration": 0.065875,
     "end_time": "2025-07-30T20:11:04.732155",
     "exception": false,
     "start_time": "2025-07-30T20:11:04.666280",
     "status": "completed"
    },
    "tags": []
   },
   "outputs": [],
   "source": [
    "from fairness_multiverse.conformal import compute_nc_scores\n",
    "\n",
    "# Compute nonconformity scores on calibration set (1 - probability of true class)\n",
    "nc_scores = compute_nc_scores(probs_calib, y_calib)"
   ]
  },
  {
   "cell_type": "code",
   "execution_count": 51,
   "id": "df3b8ca3-53b7-43d5-9667-7c85da7aeda2",
   "metadata": {
    "execution": {
     "iopub.execute_input": "2025-07-30T20:11:04.802580Z",
     "iopub.status.busy": "2025-07-30T20:11:04.802149Z",
     "iopub.status.idle": "2025-07-30T20:11:04.811081Z",
     "shell.execute_reply": "2025-07-30T20:11:04.809894Z"
    },
    "papermill": {
     "duration": 0.055273,
     "end_time": "2025-07-30T20:11:04.813222",
     "exception": false,
     "start_time": "2025-07-30T20:11:04.757949",
     "status": "completed"
    },
    "tags": []
   },
   "outputs": [],
   "source": [
    "from fairness_multiverse.conformal import find_threshold\n",
    "\n",
    "# Find conformal threshold q_hat for the given alpha (split conformal method)\n",
    "q_hat = find_threshold(nc_scores, alpha)"
   ]
  },
  {
   "cell_type": "code",
   "execution_count": 52,
   "id": "4d29e6c1-0ef6-4aa4-b8fe-4fe79b0d033a",
   "metadata": {
    "execution": {
     "iopub.execute_input": "2025-07-30T20:11:04.867559Z",
     "iopub.status.busy": "2025-07-30T20:11:04.867048Z",
     "iopub.status.idle": "2025-07-30T20:11:04.874725Z",
     "shell.execute_reply": "2025-07-30T20:11:04.873630Z"
    },
    "papermill": {
     "duration": 0.035702,
     "end_time": "2025-07-30T20:11:04.876591",
     "exception": false,
     "start_time": "2025-07-30T20:11:04.840889",
     "status": "completed"
    },
    "tags": []
   },
   "outputs": [
    {
     "data": {
      "text/plain": [
       "0.6599999999999999"
      ]
     },
     "execution_count": 52,
     "metadata": {},
     "output_type": "execute_result"
    }
   ],
   "source": [
    "q_hat"
   ]
  },
  {
   "cell_type": "code",
   "execution_count": 53,
   "id": "92460794-cdac-4be2-ba28-f28c0515a6fb",
   "metadata": {
    "execution": {
     "iopub.execute_input": "2025-07-30T20:11:04.930641Z",
     "iopub.status.busy": "2025-07-30T20:11:04.929637Z",
     "iopub.status.idle": "2025-07-30T20:11:06.815065Z",
     "shell.execute_reply": "2025-07-30T20:11:06.813954Z"
    },
    "papermill": {
     "duration": 1.913901,
     "end_time": "2025-07-30T20:11:06.817129",
     "exception": false,
     "start_time": "2025-07-30T20:11:04.903228",
     "status": "completed"
    },
    "tags": []
   },
   "outputs": [],
   "source": [
    "from fairness_multiverse.conformal import predict_conformal_sets\n",
    "\n",
    "# Generate prediction sets for each test example\n",
    "pred_sets = predict_conformal_sets(model, X_test, q_hat)"
   ]
  },
  {
   "cell_type": "code",
   "execution_count": 54,
   "id": "d90c9a65-e6db-4f5d-80cd-e68fb7e46829",
   "metadata": {
    "execution": {
     "iopub.execute_input": "2025-07-30T20:11:06.871551Z",
     "iopub.status.busy": "2025-07-30T20:11:06.870987Z",
     "iopub.status.idle": "2025-07-30T20:11:06.876842Z",
     "shell.execute_reply": "2025-07-30T20:11:06.875794Z"
    },
    "papermill": {
     "duration": 0.034869,
     "end_time": "2025-07-30T20:11:06.878611",
     "exception": false,
     "start_time": "2025-07-30T20:11:06.843742",
     "status": "completed"
    },
    "tags": []
   },
   "outputs": [],
   "source": [
    "y_true = y_true.squeeze()"
   ]
  },
  {
   "cell_type": "code",
   "execution_count": 55,
   "id": "3a58a54a-1e68-46b9-927a-df01f18aebc8",
   "metadata": {
    "execution": {
     "iopub.execute_input": "2025-07-30T20:11:06.930204Z",
     "iopub.status.busy": "2025-07-30T20:11:06.929710Z",
     "iopub.status.idle": "2025-07-30T20:11:07.656176Z",
     "shell.execute_reply": "2025-07-30T20:11:07.655353Z"
    },
    "papermill": {
     "duration": 0.754616,
     "end_time": "2025-07-30T20:11:07.658493",
     "exception": false,
     "start_time": "2025-07-30T20:11:06.903877",
     "status": "completed"
    },
    "tags": []
   },
   "outputs": [],
   "source": [
    "from fairness_multiverse.conformal import evaluate_sets\n",
    "\n",
    "# Evaluate coverage and average set size on test data\n",
    "metrics = evaluate_sets(pred_sets, y_true)"
   ]
  },
  {
   "cell_type": "markdown",
   "id": "2b569c12-9aaa-4c88-98c9-bbcd0cf3ebb8",
   "metadata": {
    "papermill": {
     "duration": 0.034769,
     "end_time": "2025-07-30T20:11:07.730939",
     "exception": false,
     "start_time": "2025-07-30T20:11:07.696170",
     "status": "completed"
    },
    "tags": []
   },
   "source": [
    "# CP Metrics"
   ]
  },
  {
   "cell_type": "code",
   "execution_count": 56,
   "id": "5ce0a5cb-201f-45a0-ade5-94c7f0bd6095",
   "metadata": {
    "execution": {
     "iopub.execute_input": "2025-07-30T20:11:07.802733Z",
     "iopub.status.busy": "2025-07-30T20:11:07.802124Z",
     "iopub.status.idle": "2025-07-30T20:11:07.810354Z",
     "shell.execute_reply": "2025-07-30T20:11:07.809314Z"
    },
    "papermill": {
     "duration": 0.04674,
     "end_time": "2025-07-30T20:11:07.812728",
     "exception": false,
     "start_time": "2025-07-30T20:11:07.765988",
     "status": "completed"
    },
    "tags": []
   },
   "outputs": [
    {
     "data": {
      "text/plain": [
       "{'coverage': 0.9155835469847285, 'avg_size': 1.1480771374428715}"
      ]
     },
     "execution_count": 56,
     "metadata": {},
     "output_type": "execute_result"
    }
   ],
   "source": [
    "metrics"
   ]
  },
  {
   "cell_type": "code",
   "execution_count": 57,
   "id": "9b9a838d-31c9-430b-ae14-12baee460d17",
   "metadata": {
    "execution": {
     "iopub.execute_input": "2025-07-30T20:11:07.884728Z",
     "iopub.status.busy": "2025-07-30T20:11:07.884134Z",
     "iopub.status.idle": "2025-07-30T20:11:07.891811Z",
     "shell.execute_reply": "2025-07-30T20:11:07.890499Z"
    },
    "papermill": {
     "duration": 0.046474,
     "end_time": "2025-07-30T20:11:07.894892",
     "exception": false,
     "start_time": "2025-07-30T20:11:07.848418",
     "status": "completed"
    },
    "tags": []
   },
   "outputs": [],
   "source": [
    "example_universe = universe.copy()\n",
    "universe_training_year = example_universe.get(\"training_year\")\n",
    "universe_training_size = example_universe.get(\"training_size\")\n",
    "universe_scale = example_universe.get(\"scale\")\n",
    "universe_model = example_universe.get(\"model\")\n",
    "universe_exclude_features = example_universe.get(\"exclude_features\")\n",
    "universe_exclude_subgroups = example_universe.get(\"exclude_subgroups\")"
   ]
  },
  {
   "cell_type": "code",
   "execution_count": 58,
   "id": "f4b6a8ac-9dc0-4245-8a91-5b3b5999c4f9",
   "metadata": {
    "execution": {
     "iopub.execute_input": "2025-07-30T20:11:07.966311Z",
     "iopub.status.busy": "2025-07-30T20:11:07.965881Z",
     "iopub.status.idle": "2025-07-30T20:11:07.974429Z",
     "shell.execute_reply": "2025-07-30T20:11:07.973051Z"
    },
    "papermill": {
     "duration": 0.047283,
     "end_time": "2025-07-30T20:11:07.976571",
     "exception": false,
     "start_time": "2025-07-30T20:11:07.929288",
     "status": "completed"
    },
    "tags": []
   },
   "outputs": [],
   "source": [
    "cp_metrics_dict = {\n",
    "    \"universe_id\": [universe_id],\n",
    "    \"universe_training_year\": [universe_training_year],\n",
    "    \"universe_training_size\": [universe_training_size],\n",
    "    \"universe_scale\": [universe_scale],\n",
    "    \"universe_model\": [universe_model],\n",
    "    \"universe_exclude_features\": [universe_exclude_features],\n",
    "    \"universe_exclude_subgroups\": [universe_exclude_subgroups],\n",
    "    \"q_hat\": [q_hat],\n",
    "    \"coverage\": [metrics[\"coverage\"]],\n",
    "    \"avg_size\": [metrics[\"avg_size\"]],\n",
    "}"
   ]
  },
  {
   "cell_type": "code",
   "execution_count": 59,
   "id": "908acbb1-0371-4915-85ca-3fa520d2efe2",
   "metadata": {
    "execution": {
     "iopub.execute_input": "2025-07-30T20:11:08.035434Z",
     "iopub.status.busy": "2025-07-30T20:11:08.034629Z",
     "iopub.status.idle": "2025-07-30T20:11:08.043836Z",
     "shell.execute_reply": "2025-07-30T20:11:08.042650Z"
    },
    "papermill": {
     "duration": 0.039938,
     "end_time": "2025-07-30T20:11:08.045747",
     "exception": false,
     "start_time": "2025-07-30T20:11:08.005809",
     "status": "completed"
    },
    "tags": []
   },
   "outputs": [
    {
     "data": {
      "text/plain": [
       "{'universe_id': ['8048b220a87eadd4c33011c450966ab5'],\n",
       " 'universe_training_year': ['2012_14'],\n",
       " 'universe_training_size': ['25k'],\n",
       " 'universe_scale': ['scale'],\n",
       " 'universe_model': ['rf'],\n",
       " 'universe_exclude_features': ['none'],\n",
       " 'universe_exclude_subgroups': ['drop-non-german'],\n",
       " 'q_hat': [0.6599999999999999],\n",
       " 'coverage': [0.9155835469847285],\n",
       " 'avg_size': [1.1480771374428715]}"
      ]
     },
     "execution_count": 59,
     "metadata": {},
     "output_type": "execute_result"
    }
   ],
   "source": [
    "cp_metrics_dict"
   ]
  },
  {
   "cell_type": "code",
   "execution_count": 60,
   "id": "33007efc-14e9-4ec6-97ac-56a455c82265",
   "metadata": {
    "execution": {
     "iopub.execute_input": "2025-07-30T20:11:08.098402Z",
     "iopub.status.busy": "2025-07-30T20:11:08.097789Z",
     "iopub.status.idle": "2025-07-30T20:11:08.105944Z",
     "shell.execute_reply": "2025-07-30T20:11:08.104769Z"
    },
    "papermill": {
     "duration": 0.036853,
     "end_time": "2025-07-30T20:11:08.107639",
     "exception": false,
     "start_time": "2025-07-30T20:11:08.070786",
     "status": "completed"
    },
    "tags": []
   },
   "outputs": [],
   "source": [
    "cp_metrics_df = pd.DataFrame(cp_metrics_dict)"
   ]
  },
  {
   "cell_type": "code",
   "execution_count": 61,
   "id": "db12611b-57b2-4910-b9d0-355adfd6e7bf",
   "metadata": {
    "execution": {
     "iopub.execute_input": "2025-07-30T20:11:08.161267Z",
     "iopub.status.busy": "2025-07-30T20:11:08.160508Z",
     "iopub.status.idle": "2025-07-30T20:11:08.185634Z",
     "shell.execute_reply": "2025-07-30T20:11:08.184567Z"
    },
    "papermill": {
     "duration": 0.054025,
     "end_time": "2025-07-30T20:11:08.187405",
     "exception": false,
     "start_time": "2025-07-30T20:11:08.133380",
     "status": "completed"
    },
    "tags": []
   },
   "outputs": [
    {
     "data": {
      "text/html": [
       "<div>\n",
       "<style scoped>\n",
       "    .dataframe tbody tr th:only-of-type {\n",
       "        vertical-align: middle;\n",
       "    }\n",
       "\n",
       "    .dataframe tbody tr th {\n",
       "        vertical-align: top;\n",
       "    }\n",
       "\n",
       "    .dataframe thead th {\n",
       "        text-align: right;\n",
       "    }\n",
       "</style>\n",
       "<table border=\"1\" class=\"dataframe\">\n",
       "  <thead>\n",
       "    <tr style=\"text-align: right;\">\n",
       "      <th></th>\n",
       "      <th>universe_id</th>\n",
       "      <th>universe_training_year</th>\n",
       "      <th>universe_training_size</th>\n",
       "      <th>universe_scale</th>\n",
       "      <th>universe_model</th>\n",
       "      <th>universe_exclude_features</th>\n",
       "      <th>universe_exclude_subgroups</th>\n",
       "      <th>q_hat</th>\n",
       "      <th>coverage</th>\n",
       "      <th>avg_size</th>\n",
       "    </tr>\n",
       "  </thead>\n",
       "  <tbody>\n",
       "    <tr>\n",
       "      <th>0</th>\n",
       "      <td>8048b220a87eadd4c33011c450966ab5</td>\n",
       "      <td>2012_14</td>\n",
       "      <td>25k</td>\n",
       "      <td>scale</td>\n",
       "      <td>rf</td>\n",
       "      <td>none</td>\n",
       "      <td>drop-non-german</td>\n",
       "      <td>0.66</td>\n",
       "      <td>0.915584</td>\n",
       "      <td>1.148077</td>\n",
       "    </tr>\n",
       "  </tbody>\n",
       "</table>\n",
       "</div>"
      ],
      "text/plain": [
       "                        universe_id universe_training_year  \\\n",
       "0  8048b220a87eadd4c33011c450966ab5                2012_14   \n",
       "\n",
       "  universe_training_size universe_scale universe_model  \\\n",
       "0                    25k          scale             rf   \n",
       "\n",
       "  universe_exclude_features universe_exclude_subgroups  q_hat  coverage  \\\n",
       "0                      none            drop-non-german   0.66  0.915584   \n",
       "\n",
       "   avg_size  \n",
       "0  1.148077  "
      ]
     },
     "execution_count": 61,
     "metadata": {},
     "output_type": "execute_result"
    }
   ],
   "source": [
    "cp_metrics_df"
   ]
  },
  {
   "cell_type": "code",
   "execution_count": 62,
   "id": "b7fbde55-a0a1-47e4-9af6-fe4a17fa8c61",
   "metadata": {
    "execution": {
     "iopub.execute_input": "2025-07-30T20:11:08.246932Z",
     "iopub.status.busy": "2025-07-30T20:11:08.246116Z",
     "iopub.status.idle": "2025-07-30T20:11:08.251516Z",
     "shell.execute_reply": "2025-07-30T20:11:08.250485Z"
    },
    "papermill": {
     "duration": 0.037714,
     "end_time": "2025-07-30T20:11:08.253868",
     "exception": false,
     "start_time": "2025-07-30T20:11:08.216154",
     "status": "completed"
    },
    "tags": []
   },
   "outputs": [],
   "source": [
    "# Conditional Coverage & looking at subgroups"
   ]
  },
  {
   "cell_type": "code",
   "execution_count": 63,
   "id": "027ae886-68dd-4141-96c7-805a5450e1ef",
   "metadata": {
    "execution": {
     "iopub.execute_input": "2025-07-30T20:11:08.328569Z",
     "iopub.status.busy": "2025-07-30T20:11:08.327676Z",
     "iopub.status.idle": "2025-07-30T20:11:08.650571Z",
     "shell.execute_reply": "2025-07-30T20:11:08.649562Z"
    },
    "papermill": {
     "duration": 0.361651,
     "end_time": "2025-07-30T20:11:08.652578",
     "exception": false,
     "start_time": "2025-07-30T20:11:08.290927",
     "status": "completed"
    },
    "tags": []
   },
   "outputs": [],
   "source": [
    "from fairness_multiverse.conformal import build_cp_groups\n",
    "\n",
    "cp_groups_df = build_cp_groups(pred_sets, y_true, X_test.index, org_test)\n",
    "#needs universe_id and setting"
   ]
  },
  {
   "cell_type": "code",
   "execution_count": 64,
   "id": "01d5802c-663a-4d1f-9d69-e036faaffbf7",
   "metadata": {
    "execution": {
     "iopub.execute_input": "2025-07-30T20:11:08.686257Z",
     "iopub.status.busy": "2025-07-30T20:11:08.685844Z",
     "iopub.status.idle": "2025-07-30T20:11:08.691286Z",
     "shell.execute_reply": "2025-07-30T20:11:08.690161Z"
    },
    "papermill": {
     "duration": 0.022159,
     "end_time": "2025-07-30T20:11:08.693374",
     "exception": false,
     "start_time": "2025-07-30T20:11:08.671215",
     "status": "completed"
    },
    "tags": []
   },
   "outputs": [],
   "source": [
    "#delete\n",
    "#cp_groups_df"
   ]
  },
  {
   "cell_type": "code",
   "execution_count": 65,
   "id": "fa424af1-d1eb-443d-b717-2d279ada8408",
   "metadata": {
    "execution": {
     "iopub.execute_input": "2025-07-30T20:11:08.751798Z",
     "iopub.status.busy": "2025-07-30T20:11:08.751313Z",
     "iopub.status.idle": "2025-07-30T20:11:08.756692Z",
     "shell.execute_reply": "2025-07-30T20:11:08.755660Z"
    },
    "papermill": {
     "duration": 0.036254,
     "end_time": "2025-07-30T20:11:08.758299",
     "exception": false,
     "start_time": "2025-07-30T20:11:08.722045",
     "status": "completed"
    },
    "tags": []
   },
   "outputs": [],
   "source": [
    "#delete\n",
    "#percentage = (cp_groups_df['nongerman_female'] == 1).mean() * 100\n",
    "#print(percentage)\n"
   ]
  },
  {
   "cell_type": "code",
   "execution_count": 66,
   "id": "6cbdab96-b2b2-45af-ad54-d0516db2e28d",
   "metadata": {
    "execution": {
     "iopub.execute_input": "2025-07-30T20:11:08.816491Z",
     "iopub.status.busy": "2025-07-30T20:11:08.815966Z",
     "iopub.status.idle": "2025-07-30T20:11:10.498040Z",
     "shell.execute_reply": "2025-07-30T20:11:10.496817Z"
    },
    "papermill": {
     "duration": 1.712908,
     "end_time": "2025-07-30T20:11:10.499957",
     "exception": false,
     "start_time": "2025-07-30T20:11:08.787049",
     "status": "completed"
    },
    "tags": []
   },
   "outputs": [],
   "source": [
    "# Define covered = 1 if true_label is in the predicted set\n",
    "cp_groups_df['covered'] = cp_groups_df.apply(\n",
    "    lambda r: int(r['true_label'] in r['pred_set']),\n",
    "    axis=1\n",
    ")"
   ]
  },
  {
   "cell_type": "code",
   "execution_count": 67,
   "id": "338ff529-1a6b-4b87-a931-8e4788d52aad",
   "metadata": {
    "execution": {
     "iopub.execute_input": "2025-07-30T20:11:10.555258Z",
     "iopub.status.busy": "2025-07-30T20:11:10.554669Z",
     "iopub.status.idle": "2025-07-30T20:11:10.559972Z",
     "shell.execute_reply": "2025-07-30T20:11:10.558994Z"
    },
    "papermill": {
     "duration": 0.03441,
     "end_time": "2025-07-30T20:11:10.561883",
     "exception": false,
     "start_time": "2025-07-30T20:11:10.527473",
     "status": "completed"
    },
    "tags": []
   },
   "outputs": [],
   "source": [
    "#cp_groups_df"
   ]
  },
  {
   "cell_type": "code",
   "execution_count": 68,
   "id": "90032e27-66df-4540-9169-4e89cfbaa758",
   "metadata": {
    "execution": {
     "iopub.execute_input": "2025-07-30T20:11:10.616549Z",
     "iopub.status.busy": "2025-07-30T20:11:10.615815Z",
     "iopub.status.idle": "2025-07-30T20:11:10.631976Z",
     "shell.execute_reply": "2025-07-30T20:11:10.630990Z"
    },
    "papermill": {
     "duration": 0.045918,
     "end_time": "2025-07-30T20:11:10.634017",
     "exception": false,
     "start_time": "2025-07-30T20:11:10.588099",
     "status": "completed"
    },
    "tags": []
   },
   "outputs": [],
   "source": [
    "subgroups = ['frau1','nongerman','nongerman_male','nongerman_female']\n",
    "\n",
    "# Conditional coverage for subgroup==1\n",
    "cond_coverage = {\n",
    "    g: cp_groups_df.loc[cp_groups_df[g]==1, 'covered'].mean()\n",
    "    for g in subgroups\n",
    "}"
   ]
  },
  {
   "cell_type": "code",
   "execution_count": 69,
   "id": "1e348fb1-b9c3-45bc-ba23-f016827a7e0d",
   "metadata": {
    "execution": {
     "iopub.execute_input": "2025-07-30T20:11:10.689436Z",
     "iopub.status.busy": "2025-07-30T20:11:10.688836Z",
     "iopub.status.idle": "2025-07-30T20:11:10.698427Z",
     "shell.execute_reply": "2025-07-30T20:11:10.697324Z"
    },
    "papermill": {
     "duration": 0.039421,
     "end_time": "2025-07-30T20:11:10.700117",
     "exception": false,
     "start_time": "2025-07-30T20:11:10.660696",
     "status": "completed"
    },
    "tags": []
   },
   "outputs": [
    {
     "data": {
      "text/plain": [
       "{'frau1': 0.9155681358673675,\n",
       " 'nongerman': 0.9087183517655645,\n",
       " 'nongerman_male': 0.9238944429433487,\n",
       " 'nongerman_female': 0.8836065573770492}"
      ]
     },
     "execution_count": 69,
     "metadata": {},
     "output_type": "execute_result"
    }
   ],
   "source": [
    "cond_coverage"
   ]
  },
  {
   "cell_type": "code",
   "execution_count": 70,
   "id": "f5093324-c3dd-4d63-bc4c-8d945e5c8bbb",
   "metadata": {
    "execution": {
     "iopub.execute_input": "2025-07-30T20:11:10.737341Z",
     "iopub.status.busy": "2025-07-30T20:11:10.736962Z",
     "iopub.status.idle": "2025-07-30T20:11:10.743342Z",
     "shell.execute_reply": "2025-07-30T20:11:10.742569Z"
    },
    "papermill": {
     "duration": 0.023315,
     "end_time": "2025-07-30T20:11:10.744723",
     "exception": false,
     "start_time": "2025-07-30T20:11:10.721408",
     "status": "completed"
    },
    "tags": []
   },
   "outputs": [],
   "source": [
    "for subgroup, cov in cond_coverage.items():\n",
    "    cp_metrics_df[f\"cov_{subgroup}\"] = cov"
   ]
  },
  {
   "cell_type": "code",
   "execution_count": 71,
   "id": "6e872e10-dbe5-49e8-b554-5030c98ff75d",
   "metadata": {
    "execution": {
     "iopub.execute_input": "2025-07-30T20:11:10.777489Z",
     "iopub.status.busy": "2025-07-30T20:11:10.776813Z",
     "iopub.status.idle": "2025-07-30T20:11:10.790633Z",
     "shell.execute_reply": "2025-07-30T20:11:10.789877Z"
    },
    "papermill": {
     "duration": 0.029315,
     "end_time": "2025-07-30T20:11:10.791972",
     "exception": false,
     "start_time": "2025-07-30T20:11:10.762657",
     "status": "completed"
    },
    "tags": []
   },
   "outputs": [
    {
     "data": {
      "text/html": [
       "<div>\n",
       "<style scoped>\n",
       "    .dataframe tbody tr th:only-of-type {\n",
       "        vertical-align: middle;\n",
       "    }\n",
       "\n",
       "    .dataframe tbody tr th {\n",
       "        vertical-align: top;\n",
       "    }\n",
       "\n",
       "    .dataframe thead th {\n",
       "        text-align: right;\n",
       "    }\n",
       "</style>\n",
       "<table border=\"1\" class=\"dataframe\">\n",
       "  <thead>\n",
       "    <tr style=\"text-align: right;\">\n",
       "      <th></th>\n",
       "      <th>universe_id</th>\n",
       "      <th>universe_training_year</th>\n",
       "      <th>universe_training_size</th>\n",
       "      <th>universe_scale</th>\n",
       "      <th>universe_model</th>\n",
       "      <th>universe_exclude_features</th>\n",
       "      <th>universe_exclude_subgroups</th>\n",
       "      <th>q_hat</th>\n",
       "      <th>coverage</th>\n",
       "      <th>avg_size</th>\n",
       "      <th>cov_frau1</th>\n",
       "      <th>cov_nongerman</th>\n",
       "      <th>cov_nongerman_male</th>\n",
       "      <th>cov_nongerman_female</th>\n",
       "    </tr>\n",
       "  </thead>\n",
       "  <tbody>\n",
       "    <tr>\n",
       "      <th>0</th>\n",
       "      <td>8048b220a87eadd4c33011c450966ab5</td>\n",
       "      <td>2012_14</td>\n",
       "      <td>25k</td>\n",
       "      <td>scale</td>\n",
       "      <td>rf</td>\n",
       "      <td>none</td>\n",
       "      <td>drop-non-german</td>\n",
       "      <td>0.66</td>\n",
       "      <td>0.915584</td>\n",
       "      <td>1.148077</td>\n",
       "      <td>0.915568</td>\n",
       "      <td>0.908718</td>\n",
       "      <td>0.923894</td>\n",
       "      <td>0.883607</td>\n",
       "    </tr>\n",
       "  </tbody>\n",
       "</table>\n",
       "</div>"
      ],
      "text/plain": [
       "                        universe_id universe_training_year  \\\n",
       "0  8048b220a87eadd4c33011c450966ab5                2012_14   \n",
       "\n",
       "  universe_training_size universe_scale universe_model  \\\n",
       "0                    25k          scale             rf   \n",
       "\n",
       "  universe_exclude_features universe_exclude_subgroups  q_hat  coverage  \\\n",
       "0                      none            drop-non-german   0.66  0.915584   \n",
       "\n",
       "   avg_size  cov_frau1  cov_nongerman  cov_nongerman_male  \\\n",
       "0  1.148077   0.915568       0.908718            0.923894   \n",
       "\n",
       "   cov_nongerman_female  \n",
       "0              0.883607  "
      ]
     },
     "execution_count": 71,
     "metadata": {},
     "output_type": "execute_result"
    }
   ],
   "source": [
    "cp_metrics_df"
   ]
  },
  {
   "cell_type": "markdown",
   "id": "33774451",
   "metadata": {
    "papermill": {
     "duration": 0.026481,
     "end_time": "2025-07-30T20:11:10.835886",
     "exception": false,
     "start_time": "2025-07-30T20:11:10.809405",
     "status": "completed"
    },
    "tags": []
   },
   "source": [
    "# (Fairness) Metrics"
   ]
  },
  {
   "cell_type": "code",
   "execution_count": 72,
   "id": "debc5d62",
   "metadata": {
    "execution": {
     "iopub.execute_input": "2025-07-30T20:11:10.891234Z",
     "iopub.status.busy": "2025-07-30T20:11:10.890799Z",
     "iopub.status.idle": "2025-07-30T20:11:10.913705Z",
     "shell.execute_reply": "2025-07-30T20:11:10.912754Z"
    },
    "papermill": {
     "duration": 0.051813,
     "end_time": "2025-07-30T20:11:10.915459",
     "exception": false,
     "start_time": "2025-07-30T20:11:10.863646",
     "status": "completed"
    },
    "tags": []
   },
   "outputs": [],
   "source": [
    "# do I need to include maxdeutsch1.missing?\n",
    "\n",
    "import numpy as np\n",
    "\n",
    "colname_to_bin = \"maxdeutsch1\"\n",
    "majority_value = org_train[colname_to_bin].mode()[0]\n",
    "\n",
    "org_test[\"majmin\"] = np.where(org_test[colname_to_bin] == majority_value, \"majority\", \"minority\")"
   ]
  },
  {
   "cell_type": "code",
   "execution_count": 73,
   "id": "06a50de5",
   "metadata": {
    "execution": {
     "iopub.execute_input": "2025-07-30T20:11:10.973663Z",
     "iopub.status.busy": "2025-07-30T20:11:10.973174Z",
     "iopub.status.idle": "2025-07-30T20:11:13.967282Z",
     "shell.execute_reply": "2025-07-30T20:11:13.966150Z"
    },
    "papermill": {
     "duration": 3.025288,
     "end_time": "2025-07-30T20:11:13.969287",
     "exception": false,
     "start_time": "2025-07-30T20:11:10.943999",
     "status": "completed"
    },
    "tags": []
   },
   "outputs": [],
   "source": [
    "example_universe = universe.copy()\n",
    "example_universe[\"cutoff\"] = example_universe[\"cutoff\"][0]\n",
    "example_universe[\"eval_fairness_grouping\"] = example_universe[\"eval_fairness_grouping\"][0]\n",
    "fairness_dict, metric_frame = universe_analysis.compute_metrics(\n",
    "    example_universe,\n",
    "    y_pred_prob=probs_test,\n",
    "    y_test=y_true,\n",
    "    org_test=org_test,\n",
    ")"
   ]
  },
  {
   "cell_type": "markdown",
   "id": "f95d4e02",
   "metadata": {
    "papermill": {
     "duration": 0.031669,
     "end_time": "2025-07-30T20:11:14.038340",
     "exception": false,
     "start_time": "2025-07-30T20:11:14.006671",
     "status": "completed"
    },
    "tags": []
   },
   "source": [
    "# Overall"
   ]
  },
  {
   "cell_type": "markdown",
   "id": "bdee4871",
   "metadata": {
    "papermill": {
     "duration": 0.02712,
     "end_time": "2025-07-30T20:11:14.091086",
     "exception": false,
     "start_time": "2025-07-30T20:11:14.063966",
     "status": "completed"
    },
    "tags": []
   },
   "source": [
    "Fairness\n",
    "Main fairness target: Equalized Odds. Seems to be a better fit than equal opportunity, since we're not only interested in Y = 1. Seems to be a better fit than demographic parity, since we also care about accuracy, not just equal distribution of preds.\n",
    "\n",
    "Pick column for computation of fairness metrics\n",
    "\n",
    "Performance\n",
    "Overall performance measures, most interesting in relation to the measures split by group below"
   ]
  },
  {
   "cell_type": "code",
   "execution_count": 74,
   "id": "c4e067c6",
   "metadata": {
    "execution": {
     "iopub.execute_input": "2025-07-30T20:11:14.145635Z",
     "iopub.status.busy": "2025-07-30T20:11:14.144713Z",
     "iopub.status.idle": "2025-07-30T20:11:14.154320Z",
     "shell.execute_reply": "2025-07-30T20:11:14.153202Z"
    },
    "papermill": {
     "duration": 0.04116,
     "end_time": "2025-07-30T20:11:14.158408",
     "exception": false,
     "start_time": "2025-07-30T20:11:14.117248",
     "status": "completed"
    },
    "tags": []
   },
   "outputs": [
    {
     "data": {
      "text/plain": [
       "accuracy                   0.192052\n",
       "balanced accuracy          0.529056\n",
       "f1                         0.237772\n",
       "precision                  0.135255\n",
       "false positive rate        0.924247\n",
       "false negative rate        0.017640\n",
       "selection rate             0.931702\n",
       "count                  89710.000000\n",
       "dtype: float64"
      ]
     },
     "execution_count": 74,
     "metadata": {},
     "output_type": "execute_result"
    }
   ],
   "source": [
    "metric_frame.overall"
   ]
  },
  {
   "cell_type": "markdown",
   "id": "e968fe9d",
   "metadata": {
    "papermill": {
     "duration": 0.026104,
     "end_time": "2025-07-30T20:11:14.212537",
     "exception": false,
     "start_time": "2025-07-30T20:11:14.186433",
     "status": "completed"
    },
    "tags": []
   },
   "source": [
    "By Group"
   ]
  },
  {
   "cell_type": "code",
   "execution_count": 75,
   "id": "ec325bce",
   "metadata": {
    "execution": {
     "iopub.execute_input": "2025-07-30T20:11:14.267460Z",
     "iopub.status.busy": "2025-07-30T20:11:14.267053Z",
     "iopub.status.idle": "2025-07-30T20:11:14.288971Z",
     "shell.execute_reply": "2025-07-30T20:11:14.287921Z"
    },
    "papermill": {
     "duration": 0.051311,
     "end_time": "2025-07-30T20:11:14.291002",
     "exception": false,
     "start_time": "2025-07-30T20:11:14.239691",
     "status": "completed"
    },
    "tags": []
   },
   "outputs": [
    {
     "data": {
      "text/html": [
       "<div>\n",
       "<style scoped>\n",
       "    .dataframe tbody tr th:only-of-type {\n",
       "        vertical-align: middle;\n",
       "    }\n",
       "\n",
       "    .dataframe tbody tr th {\n",
       "        vertical-align: top;\n",
       "    }\n",
       "\n",
       "    .dataframe thead th {\n",
       "        text-align: right;\n",
       "    }\n",
       "</style>\n",
       "<table border=\"1\" class=\"dataframe\">\n",
       "  <thead>\n",
       "    <tr style=\"text-align: right;\">\n",
       "      <th></th>\n",
       "      <th>accuracy</th>\n",
       "      <th>balanced accuracy</th>\n",
       "      <th>f1</th>\n",
       "      <th>precision</th>\n",
       "      <th>false positive rate</th>\n",
       "      <th>false negative rate</th>\n",
       "      <th>selection rate</th>\n",
       "      <th>count</th>\n",
       "    </tr>\n",
       "    <tr>\n",
       "      <th>majmin</th>\n",
       "      <th></th>\n",
       "      <th></th>\n",
       "      <th></th>\n",
       "      <th></th>\n",
       "      <th></th>\n",
       "      <th></th>\n",
       "      <th></th>\n",
       "      <th></th>\n",
       "    </tr>\n",
       "  </thead>\n",
       "  <tbody>\n",
       "    <tr>\n",
       "      <th>majority</th>\n",
       "      <td>0.190458</td>\n",
       "      <td>0.529797</td>\n",
       "      <td>0.244441</td>\n",
       "      <td>0.139414</td>\n",
       "      <td>0.931434</td>\n",
       "      <td>0.008972</td>\n",
       "      <td>0.939309</td>\n",
       "      <td>69170.0</td>\n",
       "    </tr>\n",
       "    <tr>\n",
       "      <th>minority</th>\n",
       "      <td>0.197420</td>\n",
       "      <td>0.524198</td>\n",
       "      <td>0.214214</td>\n",
       "      <td>0.120735</td>\n",
       "      <td>0.900506</td>\n",
       "      <td>0.051098</td>\n",
       "      <td>0.906086</td>\n",
       "      <td>20540.0</td>\n",
       "    </tr>\n",
       "  </tbody>\n",
       "</table>\n",
       "</div>"
      ],
      "text/plain": [
       "          accuracy  balanced accuracy        f1  precision  \\\n",
       "majmin                                                       \n",
       "majority  0.190458           0.529797  0.244441   0.139414   \n",
       "minority  0.197420           0.524198  0.214214   0.120735   \n",
       "\n",
       "          false positive rate  false negative rate  selection rate    count  \n",
       "majmin                                                                       \n",
       "majority             0.931434             0.008972        0.939309  69170.0  \n",
       "minority             0.900506             0.051098        0.906086  20540.0  "
      ]
     },
     "execution_count": 75,
     "metadata": {},
     "output_type": "execute_result"
    }
   ],
   "source": [
    "metric_frame.by_group"
   ]
  },
  {
   "cell_type": "code",
   "execution_count": 76,
   "id": "a9ddbe63",
   "metadata": {
    "execution": {
     "iopub.execute_input": "2025-07-30T20:11:14.346568Z",
     "iopub.status.busy": "2025-07-30T20:11:14.346152Z",
     "iopub.status.idle": "2025-07-30T20:11:17.247436Z",
     "shell.execute_reply": "2025-07-30T20:11:17.246405Z"
    },
    "papermill": {
     "duration": 2.930677,
     "end_time": "2025-07-30T20:11:17.249271",
     "exception": false,
     "start_time": "2025-07-30T20:11:14.318594",
     "status": "completed"
    },
    "tags": []
   },
   "outputs": [
    {
     "data": {
      "text/plain": [
       "array([[<Axes: title={'center': 'accuracy'}, xlabel='majmin'>,\n",
       "        <Axes: title={'center': 'balanced accuracy'}, xlabel='majmin'>,\n",
       "        <Axes: title={'center': 'f1'}, xlabel='majmin'>],\n",
       "       [<Axes: title={'center': 'precision'}, xlabel='majmin'>,\n",
       "        <Axes: title={'center': 'false positive rate'}, xlabel='majmin'>,\n",
       "        <Axes: title={'center': 'false negative rate'}, xlabel='majmin'>],\n",
       "       [<Axes: title={'center': 'selection rate'}, xlabel='majmin'>,\n",
       "        <Axes: title={'center': 'count'}, xlabel='majmin'>,\n",
       "        <Axes: xlabel='majmin'>]], dtype=object)"
      ]
     },
     "execution_count": 76,
     "metadata": {},
     "output_type": "execute_result"
    },
    {
     "data": {
      "image/png": "[encoded data removed]",
      "text/plain": [
       "<Figure size 1200x800 with 9 Axes>"
      ]
     },
     "metadata": {},
     "output_type": "display_data"
    }
   ],
   "source": [
    "# In a graphic\n",
    "metric_frame.by_group.plot.bar(\n",
    "    subplots=True,\n",
    "    layout=[3, 3],\n",
    "    legend=False,\n",
    "    figsize=[12, 8],\n",
    "    title=\"Show all metrics\",\n",
    ")"
   ]
  },
  {
   "cell_type": "markdown",
   "id": "f57a0bac",
   "metadata": {
    "papermill": {
     "duration": 0.04714,
     "end_time": "2025-07-30T20:11:17.355004",
     "exception": false,
     "start_time": "2025-07-30T20:11:17.307864",
     "status": "completed"
    },
    "tags": []
   },
   "source": [
    "# Final Output"
   ]
  },
  {
   "cell_type": "code",
   "execution_count": 77,
   "id": "96d280a3",
   "metadata": {
    "execution": {
     "iopub.execute_input": "2025-07-30T20:11:17.474161Z",
     "iopub.status.busy": "2025-07-30T20:11:17.473576Z",
     "iopub.status.idle": "2025-07-30T20:11:17.482190Z",
     "shell.execute_reply": "2025-07-30T20:11:17.481298Z"
    },
    "papermill": {
     "duration": 0.070459,
     "end_time": "2025-07-30T20:11:17.483671",
     "exception": false,
     "start_time": "2025-07-30T20:11:17.413212",
     "status": "completed"
    },
    "tags": []
   },
   "outputs": [
    {
     "data": {
      "text/plain": [
       "4"
      ]
     },
     "execution_count": 77,
     "metadata": {},
     "output_type": "execute_result"
    }
   ],
   "source": [
    "sub_universes = universe_analysis.generate_sub_universes()\n",
    "len(sub_universes)"
   ]
  },
  {
   "cell_type": "code",
   "execution_count": 78,
   "id": "92adf7ba",
   "metadata": {
    "execution": {
     "iopub.execute_input": "2025-07-30T20:11:17.667849Z",
     "iopub.status.busy": "2025-07-30T20:11:17.667428Z",
     "iopub.status.idle": "2025-07-30T20:11:17.674333Z",
     "shell.execute_reply": "2025-07-30T20:11:17.673239Z"
    },
    "papermill": {
     "duration": 0.10742,
     "end_time": "2025-07-30T20:11:17.675819",
     "exception": false,
     "start_time": "2025-07-30T20:11:17.568399",
     "status": "completed"
    },
    "tags": []
   },
   "outputs": [],
   "source": [
    "def filter_sub_universe_data(sub_universe, org_test):\n",
    "    # Keep all rows — no filtering\n",
    "    keep_rows_mask = np.ones(org_test.shape[0], dtype=bool)\n",
    "\n",
    "    print(f\"[INFO] Keeping all rows: {keep_rows_mask.sum()} rows retained.\")\n",
    "    return keep_rows_mask"
   ]
  },
  {
   "cell_type": "code",
   "execution_count": 79,
   "id": "4a759155",
   "metadata": {
    "execution": {
     "iopub.execute_input": "2025-07-30T20:11:17.728390Z",
     "iopub.status.busy": "2025-07-30T20:11:17.727718Z",
     "iopub.status.idle": "2025-07-30T20:11:30.208496Z",
     "shell.execute_reply": "2025-07-30T20:11:30.207137Z"
    },
    "papermill": {
     "duration": 12.507233,
     "end_time": "2025-07-30T20:11:30.210670",
     "exception": false,
     "start_time": "2025-07-30T20:11:17.703437",
     "status": "completed"
    },
    "tags": []
   },
   "outputs": [
    {
     "name": "stdout",
     "output_type": "stream",
     "text": [
      "Stopping execution_time clock.\n",
      "[INFO] Keeping all rows: 89710 rows retained.\n"
     ]
    },
    {
     "name": "stdout",
     "output_type": "stream",
     "text": [
      "[INFO] Keeping all rows: 89710 rows retained.\n"
     ]
    },
    {
     "name": "stdout",
     "output_type": "stream",
     "text": [
      "[INFO] Keeping all rows: 89710 rows retained.\n"
     ]
    },
    {
     "name": "stdout",
     "output_type": "stream",
     "text": [
      "[INFO] Keeping all rows: 89710 rows retained.\n"
     ]
    },
    {
     "data": {
      "text/html": [
       "<div>\n",
       "<style scoped>\n",
       "    .dataframe tbody tr th:only-of-type {\n",
       "        vertical-align: middle;\n",
       "    }\n",
       "\n",
       "    .dataframe tbody tr th {\n",
       "        vertical-align: top;\n",
       "    }\n",
       "\n",
       "    .dataframe thead th {\n",
       "        text-align: right;\n",
       "    }\n",
       "</style>\n",
       "<table border=\"1\" class=\"dataframe\">\n",
       "  <thead>\n",
       "    <tr style=\"text-align: right;\">\n",
       "      <th></th>\n",
       "      <th>run_no</th>\n",
       "      <th>universe_id</th>\n",
       "      <th>universe_settings</th>\n",
       "      <th>execution_time</th>\n",
       "      <th>test_size_n</th>\n",
       "      <th>test_size_frac</th>\n",
       "      <th>fair_main_equalized_odds_difference</th>\n",
       "      <th>fair_main_equalized_odds_ratio</th>\n",
       "      <th>fair_main_demographic_parity_difference</th>\n",
       "      <th>fair_main_demographic_parity_ratio</th>\n",
       "      <th>...</th>\n",
       "      <th>perf_grp_precision_0</th>\n",
       "      <th>perf_grp_precision_1</th>\n",
       "      <th>perf_grp_false positive rate_0</th>\n",
       "      <th>perf_grp_false positive rate_1</th>\n",
       "      <th>perf_grp_false negative rate_0</th>\n",
       "      <th>perf_grp_false negative rate_1</th>\n",
       "      <th>perf_grp_selection rate_0</th>\n",
       "      <th>perf_grp_selection rate_1</th>\n",
       "      <th>perf_grp_count_0</th>\n",
       "      <th>perf_grp_count_1</th>\n",
       "    </tr>\n",
       "  </thead>\n",
       "  <tbody>\n",
       "    <tr>\n",
       "      <th>0</th>\n",
       "      <td>14</td>\n",
       "      <td>8048b220a87eadd4c33011c450966ab5</td>\n",
       "      <td>{\"cutoff\": \"quantile_0.1\", \"eval_fairness_grou...</td>\n",
       "      <td>38.106465</td>\n",
       "      <td>89710</td>\n",
       "      <td>1.0</td>\n",
       "      <td>0.042126</td>\n",
       "      <td>0.957492</td>\n",
       "      <td>0.033223</td>\n",
       "      <td>0.964630</td>\n",
       "      <td>...</td>\n",
       "      <td>NaN</td>\n",
       "      <td>NaN</td>\n",
       "      <td>NaN</td>\n",
       "      <td>NaN</td>\n",
       "      <td>NaN</td>\n",
       "      <td>NaN</td>\n",
       "      <td>NaN</td>\n",
       "      <td>NaN</td>\n",
       "      <td>NaN</td>\n",
       "      <td>NaN</td>\n",
       "    </tr>\n",
       "    <tr>\n",
       "      <th>0</th>\n",
       "      <td>14</td>\n",
       "      <td>8048b220a87eadd4c33011c450966ab5</td>\n",
       "      <td>{\"cutoff\": \"quantile_0.1\", \"eval_fairness_grou...</td>\n",
       "      <td>38.106465</td>\n",
       "      <td>89710</td>\n",
       "      <td>1.0</td>\n",
       "      <td>0.042126</td>\n",
       "      <td>0.957492</td>\n",
       "      <td>0.033223</td>\n",
       "      <td>0.964630</td>\n",
       "      <td>...</td>\n",
       "      <td>0.120735</td>\n",
       "      <td>0.139414</td>\n",
       "      <td>0.900506</td>\n",
       "      <td>0.931434</td>\n",
       "      <td>0.051098</td>\n",
       "      <td>0.008972</td>\n",
       "      <td>0.906086</td>\n",
       "      <td>0.939309</td>\n",
       "      <td>20540.0</td>\n",
       "      <td>69170.0</td>\n",
       "    </tr>\n",
       "    <tr>\n",
       "      <th>0</th>\n",
       "      <td>14</td>\n",
       "      <td>8048b220a87eadd4c33011c450966ab5</td>\n",
       "      <td>{\"cutoff\": \"quantile_0.25\", \"eval_fairness_gro...</td>\n",
       "      <td>38.106465</td>\n",
       "      <td>89710</td>\n",
       "      <td>1.0</td>\n",
       "      <td>0.086411</td>\n",
       "      <td>0.909923</td>\n",
       "      <td>0.043585</td>\n",
       "      <td>0.945021</td>\n",
       "      <td>...</td>\n",
       "      <td>NaN</td>\n",
       "      <td>NaN</td>\n",
       "      <td>NaN</td>\n",
       "      <td>NaN</td>\n",
       "      <td>NaN</td>\n",
       "      <td>NaN</td>\n",
       "      <td>NaN</td>\n",
       "      <td>NaN</td>\n",
       "      <td>NaN</td>\n",
       "      <td>NaN</td>\n",
       "    </tr>\n",
       "    <tr>\n",
       "      <th>0</th>\n",
       "      <td>14</td>\n",
       "      <td>8048b220a87eadd4c33011c450966ab5</td>\n",
       "      <td>{\"cutoff\": \"quantile_0.25\", \"eval_fairness_gro...</td>\n",
       "      <td>38.106465</td>\n",
       "      <td>89710</td>\n",
       "      <td>1.0</td>\n",
       "      <td>0.086411</td>\n",
       "      <td>0.909923</td>\n",
       "      <td>0.043585</td>\n",
       "      <td>0.945021</td>\n",
       "      <td>...</td>\n",
       "      <td>0.134325</td>\n",
       "      <td>0.159898</td>\n",
       "      <td>0.733051</td>\n",
       "      <td>0.767400</td>\n",
       "      <td>0.127111</td>\n",
       "      <td>0.040700</td>\n",
       "      <td>0.749172</td>\n",
       "      <td>0.792757</td>\n",
       "      <td>20540.0</td>\n",
       "      <td>69170.0</td>\n",
       "    </tr>\n",
       "  </tbody>\n",
       "</table>\n",
       "<p>4 rows × 50 columns</p>\n",
       "</div>"
      ],
      "text/plain": [
       "  run_no                       universe_id  \\\n",
       "0     14  8048b220a87eadd4c33011c450966ab5   \n",
       "0     14  8048b220a87eadd4c33011c450966ab5   \n",
       "0     14  8048b220a87eadd4c33011c450966ab5   \n",
       "0     14  8048b220a87eadd4c33011c450966ab5   \n",
       "\n",
       "                                   universe_settings  execution_time  \\\n",
       "0  {\"cutoff\": \"quantile_0.1\", \"eval_fairness_grou...       38.106465   \n",
       "0  {\"cutoff\": \"quantile_0.1\", \"eval_fairness_grou...       38.106465   \n",
       "0  {\"cutoff\": \"quantile_0.25\", \"eval_fairness_gro...       38.106465   \n",
       "0  {\"cutoff\": \"quantile_0.25\", \"eval_fairness_gro...       38.106465   \n",
       "\n",
       "   test_size_n  test_size_frac  fair_main_equalized_odds_difference  \\\n",
       "0        89710             1.0                             0.042126   \n",
       "0        89710             1.0                             0.042126   \n",
       "0        89710             1.0                             0.086411   \n",
       "0        89710             1.0                             0.086411   \n",
       "\n",
       "   fair_main_equalized_odds_ratio  fair_main_demographic_parity_difference  \\\n",
       "0                        0.957492                                 0.033223   \n",
       "0                        0.957492                                 0.033223   \n",
       "0                        0.909923                                 0.043585   \n",
       "0                        0.909923                                 0.043585   \n",
       "\n",
       "   fair_main_demographic_parity_ratio  ...  perf_grp_precision_0  \\\n",
       "0                            0.964630  ...                   NaN   \n",
       "0                            0.964630  ...              0.120735   \n",
       "0                            0.945021  ...                   NaN   \n",
       "0                            0.945021  ...              0.134325   \n",
       "\n",
       "   perf_grp_precision_1  perf_grp_false positive rate_0  \\\n",
       "0                   NaN                             NaN   \n",
       "0              0.139414                        0.900506   \n",
       "0                   NaN                             NaN   \n",
       "0              0.159898                        0.733051   \n",
       "\n",
       "   perf_grp_false positive rate_1  perf_grp_false negative rate_0  \\\n",
       "0                             NaN                             NaN   \n",
       "0                        0.931434                        0.051098   \n",
       "0                             NaN                             NaN   \n",
       "0                        0.767400                        0.127111   \n",
       "\n",
       "   perf_grp_false negative rate_1  perf_grp_selection rate_0  \\\n",
       "0                             NaN                        NaN   \n",
       "0                        0.008972                   0.906086   \n",
       "0                             NaN                        NaN   \n",
       "0                        0.040700                   0.749172   \n",
       "\n",
       "   perf_grp_selection rate_1  perf_grp_count_0  perf_grp_count_1  \n",
       "0                        NaN               NaN               NaN  \n",
       "0                   0.939309           20540.0           69170.0  \n",
       "0                        NaN               NaN               NaN  \n",
       "0                   0.792757           20540.0           69170.0  \n",
       "\n",
       "[4 rows x 50 columns]"
      ]
     },
     "execution_count": 79,
     "metadata": {},
     "output_type": "execute_result"
    }
   ],
   "source": [
    "final_output = universe_analysis.generate_final_output(\n",
    "    y_pred_prob=probs_test,\n",
    "    y_test=y_true,\n",
    "    org_test=org_test,\n",
    "    filter_data=filter_sub_universe_data,\n",
    "    cp_metrics_df=cp_metrics_df,\n",
    "    save=True,\n",
    ")\n",
    "final_output"
   ]
  },
  {
   "cell_type": "code",
   "execution_count": null,
   "id": "721ff514-cb11-46f8-b6fc-50392f74b5cb",
   "metadata": {
    "papermill": {
     "duration": 0.06171,
     "end_time": "2025-07-30T20:11:30.320966",
     "exception": false,
     "start_time": "2025-07-30T20:11:30.259256",
     "status": "completed"
    },
    "tags": []
   },
   "outputs": [],
   "source": []
  }
 ],
 "metadata": {
  "celltoolbar": "Tags",
  "kernelspec": {
   "display_name": "Python (CMA Fairness)",
   "language": "python",
   "name": "cma_fair_env"
  },
  "language_info": {
   "codemirror_mode": {
    "name": "ipython",
    "version": 3
   },
   "file_extension": ".py",
   "mimetype": "text/x-python",
   "name": "python",
   "nbconvert_exporter": "python",
   "pygments_lexer": "ipython3",
   "version": "3.10.12"
  },
  "papermill": {
   "default_parameters": {},
   "duration": 55.277254,
   "end_time": "2025-07-30T20:11:31.482866",
   "environment_variables": {},
   "exception": null,
   "input_path": "universe_analysis.ipynb",
   "output_path": "output/runs/14/notebooks/m_14-8048b220a87eadd4c33011c450966ab5.ipynb",
   "parameters": {
    "output_dir": "output",
    "run_no": "14",
    "seed": "2023",
    "universe": "{\"cutoff\": [\"quantile_0.1\", \"quantile_0.25\"], \"eval_fairness_grouping\": [\"majority-minority\", \"nationality-all\"], \"exclude_features\": \"none\", \"exclude_subgroups\": \"drop-non-german\", \"model\": \"rf\", \"scale\": \"scale\", \"training_size\": \"25k\", \"training_year\": \"2012_14\"}",
    "universe_id": "8048b220a87eadd4c33011c450966ab5"
   },
   "start_time": "2025-07-30T20:10:36.205612",
   "version": "2.6.0"
  }
 },
 "nbformat": 4,
 "nbformat_minor": 5
}