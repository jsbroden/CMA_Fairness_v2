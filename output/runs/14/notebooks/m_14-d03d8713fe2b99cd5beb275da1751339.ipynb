{
 "cells": [
  {
   "cell_type": "code",
   "execution_count": 1,
   "id": "f159f837-637b-42ba-96b5-ec9a68c44524",
   "metadata": {
    "execution": {
     "iopub.execute_input": "2025-07-30T19:50:20.855554Z",
     "iopub.status.busy": "2025-07-30T19:50:20.855083Z",
     "iopub.status.idle": "2025-07-30T19:50:20.865953Z",
     "shell.execute_reply": "2025-07-30T19:50:20.865032Z"
    },
    "papermill": {
     "duration": 0.031531,
     "end_time": "2025-07-30T19:50:20.867690",
     "exception": false,
     "start_time": "2025-07-30T19:50:20.836159",
     "status": "completed"
    },
    "tags": []
   },
   "outputs": [
    {
     "name": "stdout",
     "output_type": "stream",
     "text": [
      "/dss/dsshome1/0C/ra93lal2/cma/CMA_Fairness_v2\n"
     ]
    },
    {
     "name": "stderr",
     "output_type": "stream",
     "text": [
      "/dss/dsshome1/0C/ra93lal2/.local/share/virtualenvs/CMA_Fairness_v2-3j10GkSs/lib/python3.10/site-packages/IPython/core/magics/osm.py:393: UserWarning: This is now an optional IPython functionality, using bookmarks requires you to install the `pickleshare` library.\n",
      "  bkms = self.shell.db.get('bookmarks', {})\n",
      "/dss/dsshome1/0C/ra93lal2/.local/share/virtualenvs/CMA_Fairness_v2-3j10GkSs/lib/python3.10/site-packages/IPython/core/magics/osm.py:417: UserWarning: This is now an optional IPython functionality, setting dhist requires you to install the `pickleshare` library.\n",
      "  self.shell.db['dhist'] = compress_dhist(dhist)[-100:]\n"
     ]
    }
   ],
   "source": [
    "%cd ~/cma/CMA_Fairness_v2"
   ]
  },
  {
   "cell_type": "markdown",
   "id": "de2603b9",
   "metadata": {
    "papermill": {
     "duration": 0.02239,
     "end_time": "2025-07-30T19:50:20.913438",
     "exception": false,
     "start_time": "2025-07-30T19:50:20.891048",
     "status": "completed"
    },
    "tags": []
   },
   "source": [
    "The following cell holds the definition of our parameters, these values can be overriden by rendering the with e.g. the following command:\n",
    "\n",
    "papermill -p alpha 0.2 -p ratio 0.3 universe_analysis.ipynb output/test_run.ipynb"
   ]
  },
  {
   "cell_type": "code",
   "execution_count": 2,
   "id": "a80968a0-40bb-4fa9-85ef-2d5eefb01975",
   "metadata": {
    "execution": {
     "iopub.execute_input": "2025-07-30T19:50:20.959053Z",
     "iopub.status.busy": "2025-07-30T19:50:20.958262Z",
     "iopub.status.idle": "2025-07-30T19:50:20.963912Z",
     "shell.execute_reply": "2025-07-30T19:50:20.962839Z"
    },
    "papermill": {
     "duration": 0.030315,
     "end_time": "2025-07-30T19:50:20.965962",
     "exception": false,
     "start_time": "2025-07-30T19:50:20.935647",
     "status": "completed"
    },
    "tags": []
   },
   "outputs": [
    {
     "name": "stdout",
     "output_type": "stream",
     "text": [
      "Current working directory: /dss/dsshome1/0C/ra93lal2/cma/CMA_Fairness_v2\n"
     ]
    }
   ],
   "source": [
    "import os\n",
    "print(\"Current working directory:\", os.getcwd())"
   ]
  },
  {
   "cell_type": "code",
   "execution_count": 3,
   "id": "2dce4c03",
   "metadata": {
    "execution": {
     "iopub.execute_input": "2025-07-30T19:50:21.003553Z",
     "iopub.status.busy": "2025-07-30T19:50:21.002824Z",
     "iopub.status.idle": "2025-07-30T19:50:21.009399Z",
     "shell.execute_reply": "2025-07-30T19:50:21.008353Z"
    },
    "papermill": {
     "duration": 0.024816,
     "end_time": "2025-07-30T19:50:21.011331",
     "exception": false,
     "start_time": "2025-07-30T19:50:20.986515",
     "status": "completed"
    },
    "tags": [
     "parameters"
    ]
   },
   "outputs": [],
   "source": [
    "run_no = 0\n",
    "universe_id = \"test\"\n",
    "universe = {\n",
    "    \"training_size\": \"25k\", # \"25k\", \"5k\", \"1k\"\n",
    "    \"training_year\": \"2014\", # \"2014\", \"2012_14\", \"2010_14\"\n",
    "    \"scale\": \"scale\", # \"scale\", \"do-not-scale\",\n",
    "    #\"stratify_split\": \"target\", # \"none\", \"target\", \"protected-attribute\", \"both\",\n",
    "    \"model\": \"elasticnet\", # \"logreg\", \"penalized_logreg\", \"rf\", \"gbm\", \"elasticnet\"\n",
    "    \"cutoff\": [\"quantile_0.15\", \"quantile_0.30\"],\n",
    "    \"exclude_features\": \"age\", # \"none\", \"nationality\", \"sex\", \"nationality-sex\", \"age\"\n",
    "    \"exclude_subgroups\": \"keep-all\", # \"keep-all\", \"drop-non-german\"\n",
    "    \"eval_fairness_grouping\": [\"majority-minority\", \"nationality-all\"]\n",
    "}\n",
    "\n",
    "output_dir=\"./output\"\n",
    "seed=0"
   ]
  },
  {
   "cell_type": "code",
   "execution_count": 4,
   "id": "e467926e",
   "metadata": {
    "execution": {
     "iopub.execute_input": "2025-07-30T19:50:21.055800Z",
     "iopub.status.busy": "2025-07-30T19:50:21.055257Z",
     "iopub.status.idle": "2025-07-30T19:50:21.060854Z",
     "shell.execute_reply": "2025-07-30T19:50:21.059359Z"
    },
    "papermill": {
     "duration": 0.029892,
     "end_time": "2025-07-30T19:50:21.062480",
     "exception": false,
     "start_time": "2025-07-30T19:50:21.032588",
     "status": "completed"
    },
    "tags": [
     "injected-parameters"
    ]
   },
   "outputs": [],
   "source": [
    "# Parameters\n",
    "universe_id = \"d03d8713fe2b99cd5beb275da1751339\"\n",
    "run_no = \"14\"\n",
    "universe = \"{\\\"cutoff\\\": [\\\"quantile_0.1\\\", \\\"quantile_0.25\\\"], \\\"eval_fairness_grouping\\\": [\\\"majority-minority\\\", \\\"nationality-all\\\"], \\\"exclude_features\\\": \\\"sex\\\", \\\"exclude_subgroups\\\": \\\"drop-non-german\\\", \\\"model\\\": \\\"logreg\\\", \\\"scale\\\": \\\"scale\\\", \\\"training_size\\\": \\\"25k\\\", \\\"training_year\\\": \\\"2014\\\"}\"\n",
    "output_dir = \"output\"\n",
    "seed = \"2023\"\n"
   ]
  },
  {
   "cell_type": "code",
   "execution_count": 5,
   "id": "1650acaf",
   "metadata": {
    "execution": {
     "iopub.execute_input": "2025-07-30T19:50:21.104856Z",
     "iopub.status.busy": "2025-07-30T19:50:21.104136Z",
     "iopub.status.idle": "2025-07-30T19:50:21.109384Z",
     "shell.execute_reply": "2025-07-30T19:50:21.108305Z"
    },
    "papermill": {
     "duration": 0.028861,
     "end_time": "2025-07-30T19:50:21.111348",
     "exception": false,
     "start_time": "2025-07-30T19:50:21.082487",
     "status": "completed"
    },
    "tags": []
   },
   "outputs": [],
   "source": [
    "import json\n",
    "# Parse universe into dict if it is passed as a string\n",
    "if isinstance(universe, str):\n",
    "    universe = json.loads(universe)"
   ]
  },
  {
   "cell_type": "code",
   "execution_count": 6,
   "id": "16620c48",
   "metadata": {
    "execution": {
     "iopub.execute_input": "2025-07-30T19:50:21.156592Z",
     "iopub.status.busy": "2025-07-30T19:50:21.156078Z",
     "iopub.status.idle": "2025-07-30T19:50:21.209371Z",
     "shell.execute_reply": "2025-07-30T19:50:21.208249Z"
    },
    "papermill": {
     "duration": 0.077673,
     "end_time": "2025-07-30T19:50:21.211499",
     "exception": false,
     "start_time": "2025-07-30T19:50:21.133826",
     "status": "completed"
    },
    "tags": []
   },
   "outputs": [],
   "source": [
    "# Auto-reload the custom package\n",
    "%load_ext autoreload\n",
    "%autoreload 1\n",
    "%aimport fairness_multiverse"
   ]
  },
  {
   "cell_type": "code",
   "execution_count": 7,
   "id": "01c5c9f3",
   "metadata": {
    "execution": {
     "iopub.execute_input": "2025-07-30T19:50:21.258348Z",
     "iopub.status.busy": "2025-07-30T19:50:21.257354Z",
     "iopub.status.idle": "2025-07-30T19:50:23.366465Z",
     "shell.execute_reply": "2025-07-30T19:50:23.365448Z"
    },
    "papermill": {
     "duration": 2.134828,
     "end_time": "2025-07-30T19:50:23.368549",
     "exception": false,
     "start_time": "2025-07-30T19:50:21.233721",
     "status": "completed"
    },
    "tags": []
   },
   "outputs": [],
   "source": [
    "from fairness_multiverse.universe import UniverseAnalysis\n",
    "\n",
    "universe_analysis = UniverseAnalysis(\n",
    "    run_no = run_no,\n",
    "    universe_id = universe_id,\n",
    "    universe = universe,\n",
    "    output_dir=output_dir,\n",
    ")"
   ]
  },
  {
   "cell_type": "code",
   "execution_count": 8,
   "id": "106241f5",
   "metadata": {
    "execution": {
     "iopub.execute_input": "2025-07-30T19:50:23.409911Z",
     "iopub.status.busy": "2025-07-30T19:50:23.409225Z",
     "iopub.status.idle": "2025-07-30T19:50:23.416096Z",
     "shell.execute_reply": "2025-07-30T19:50:23.414979Z"
    },
    "papermill": {
     "duration": 0.029057,
     "end_time": "2025-07-30T19:50:23.417822",
     "exception": false,
     "start_time": "2025-07-30T19:50:23.388765",
     "status": "completed"
    },
    "tags": []
   },
   "outputs": [
    {
     "name": "stdout",
     "output_type": "stream",
     "text": [
      "Using Seed: 2023\n"
     ]
    }
   ],
   "source": [
    "import numpy as np\n",
    "parsed_seed = int(seed)\n",
    "np.random.seed(parsed_seed)\n",
    "print(f\"Using Seed: {parsed_seed}\")"
   ]
  },
  {
   "cell_type": "markdown",
   "id": "e0ebdc57",
   "metadata": {
    "papermill": {
     "duration": 0.025678,
     "end_time": "2025-07-30T19:50:23.465209",
     "exception": false,
     "start_time": "2025-07-30T19:50:23.439531",
     "status": "completed"
    },
    "tags": []
   },
   "source": [
    "# Loading Data"
   ]
  },
  {
   "cell_type": "markdown",
   "id": "681925a3",
   "metadata": {
    "papermill": {
     "duration": 0.022449,
     "end_time": "2025-07-30T19:50:23.507633",
     "exception": false,
     "start_time": "2025-07-30T19:50:23.485184",
     "status": "completed"
    },
    "tags": []
   },
   "source": [
    "Load siab_train, siab_test, siab_calib and/or \n",
    "load siab_train_features, siab_train_labels"
   ]
  },
  {
   "cell_type": "code",
   "execution_count": 9,
   "id": "f0496b8a",
   "metadata": {
    "execution": {
     "iopub.execute_input": "2025-07-30T19:50:23.534193Z",
     "iopub.status.busy": "2025-07-30T19:50:23.533495Z",
     "iopub.status.idle": "2025-07-30T19:50:31.914495Z",
     "shell.execute_reply": "2025-07-30T19:50:31.913632Z"
    },
    "papermill": {
     "duration": 8.393468,
     "end_time": "2025-07-30T19:50:31.915758",
     "exception": false,
     "start_time": "2025-07-30T19:50:23.522290",
     "status": "completed"
    },
    "tags": []
   },
   "outputs": [
    {
     "name": "stdout",
     "output_type": "stream",
     "text": [
      "Loading SIAB data from cache: data/siab_cached.csv.gz\n"
     ]
    },
    {
     "name": "stdout",
     "output_type": "stream",
     "text": [
      "(643690, 164)\n"
     ]
    }
   ],
   "source": [
    "from pathlib import Path\n",
    "import pandas as pd\n",
    "\n",
    "# File paths\n",
    "raw_file = Path(\"data/raw/siab.csv\")\n",
    "cache_file = Path(\"data/siab_cached.csv.gz\")\n",
    "\n",
    "# Ensure cache directory exists\n",
    "cache_file.parent.mkdir(parents=True, exist_ok=True)\n",
    "\n",
    "# Load with simple caching\n",
    "if cache_file.exists():\n",
    "    print(f\"Loading SIAB data from cache: {cache_file}\")\n",
    "    siab = pd.read_csv(cache_file, compression='gzip')\n",
    "else:\n",
    "    print(f\"Cache not found. Reading raw SIAB data: {raw_file}\")\n",
    "    siab = pd.read_csv(raw_file)\n",
    "    siab.to_csv(cache_file, index=False, compression='gzip')\n",
    "    print(f\"Cached SIAB data to: {cache_file}\")\n",
    "\n",
    "# Now use `siab` DataFrame as needed\n",
    "print(siab.shape)"
   ]
  },
  {
   "cell_type": "code",
   "execution_count": 10,
   "id": "db0ca512-5f53-4dba-abdb-a2888bca41ba",
   "metadata": {
    "execution": {
     "iopub.execute_input": "2025-07-30T19:50:31.940515Z",
     "iopub.status.busy": "2025-07-30T19:50:31.940164Z",
     "iopub.status.idle": "2025-07-30T19:50:31.944617Z",
     "shell.execute_reply": "2025-07-30T19:50:31.943811Z"
    },
    "papermill": {
     "duration": 0.017283,
     "end_time": "2025-07-30T19:50:31.946072",
     "exception": false,
     "start_time": "2025-07-30T19:50:31.928789",
     "status": "completed"
    },
    "tags": []
   },
   "outputs": [],
   "source": [
    "#siab"
   ]
  },
  {
   "cell_type": "code",
   "execution_count": 11,
   "id": "a0edb063",
   "metadata": {
    "execution": {
     "iopub.execute_input": "2025-07-30T19:50:31.969070Z",
     "iopub.status.busy": "2025-07-30T19:50:31.968389Z",
     "iopub.status.idle": "2025-07-30T19:50:31.972702Z",
     "shell.execute_reply": "2025-07-30T19:50:31.972060Z"
    },
    "papermill": {
     "duration": 0.016798,
     "end_time": "2025-07-30T19:50:31.974063",
     "exception": false,
     "start_time": "2025-07-30T19:50:31.957265",
     "status": "completed"
    },
    "tags": []
   },
   "outputs": [],
   "source": [
    "#import pandas as pd\n",
    "#\n",
    "#X_train = pd.read_csv(\"./data/X_train.csv\")\n",
    "#y_train = pd.read_csv(\"./data/y_train.csv\")"
   ]
  },
  {
   "cell_type": "code",
   "execution_count": 12,
   "id": "63d08085",
   "metadata": {
    "execution": {
     "iopub.execute_input": "2025-07-30T19:50:31.997187Z",
     "iopub.status.busy": "2025-07-30T19:50:31.996855Z",
     "iopub.status.idle": "2025-07-30T19:50:32.001361Z",
     "shell.execute_reply": "2025-07-30T19:50:32.000546Z"
    },
    "papermill": {
     "duration": 0.017217,
     "end_time": "2025-07-30T19:50:32.002761",
     "exception": false,
     "start_time": "2025-07-30T19:50:31.985544",
     "status": "completed"
    },
    "tags": []
   },
   "outputs": [],
   "source": [
    "#X_test = pd.read_csv(\"./data/X_test.csv\")\n",
    "#y_true = pd.read_csv(\"./data/y_test.csv\")"
   ]
  },
  {
   "cell_type": "code",
   "execution_count": 13,
   "id": "98a8d0fa-1d3d-4ed8-bb2c-281470e24add",
   "metadata": {
    "execution": {
     "iopub.execute_input": "2025-07-30T19:50:32.025506Z",
     "iopub.status.busy": "2025-07-30T19:50:32.025174Z",
     "iopub.status.idle": "2025-07-30T19:50:32.029239Z",
     "shell.execute_reply": "2025-07-30T19:50:32.028533Z"
    },
    "papermill": {
     "duration": 0.016785,
     "end_time": "2025-07-30T19:50:32.030604",
     "exception": false,
     "start_time": "2025-07-30T19:50:32.013819",
     "status": "completed"
    },
    "tags": []
   },
   "outputs": [],
   "source": [
    "# Calibration data for conformal\n",
    "#X_calib = pd.read_csv(\"./data/X_calib.csv\")\n",
    "#y_calib = pd.read_csv(\"./data/y_calib.csv\")"
   ]
  },
  {
   "cell_type": "markdown",
   "id": "997051c5-15bd-4b69-9786-c3001a3ce484",
   "metadata": {
    "papermill": {
     "duration": 0.010218,
     "end_time": "2025-07-30T19:50:32.052157",
     "exception": false,
     "start_time": "2025-07-30T19:50:32.041939",
     "status": "completed"
    },
    "tags": []
   },
   "source": [
    "# Splitting Data and Setting Training Data Size"
   ]
  },
  {
   "cell_type": "code",
   "execution_count": 14,
   "id": "e993b61f-042d-41a6-8c81-f55681f86335",
   "metadata": {
    "execution": {
     "iopub.execute_input": "2025-07-30T19:50:32.074086Z",
     "iopub.status.busy": "2025-07-30T19:50:32.073591Z",
     "iopub.status.idle": "2025-07-30T19:50:32.082774Z",
     "shell.execute_reply": "2025-07-30T19:50:32.081981Z"
    },
    "papermill": {
     "duration": 0.022033,
     "end_time": "2025-07-30T19:50:32.084296",
     "exception": false,
     "start_time": "2025-07-30T19:50:32.062263",
     "status": "completed"
    },
    "tags": []
   },
   "outputs": [],
   "source": [
    "def sample_by_year_size(df,\n",
    "                        training_year: str,\n",
    "                        training_size: str,\n",
    "                        random_state: int = 42):\n",
    "    # --- parse training_year into a list of int years ---\n",
    "    if \"_\" in training_year:\n",
    "        start_str, end_str = training_year.split(\"_\", 1)\n",
    "        start = int(start_str)\n",
    "        end   = int(end_str) if len(end_str) == 4 else (int(end_str) + (start // 100)*100)\n",
    "        years = list(range(start, end + 1))\n",
    "    else:\n",
    "        years = [int(training_year)]\n",
    "\n",
    "    df = df[df[\"year\"].isin(years)].reset_index(drop=True)\n",
    "\n",
    "    # --- map training_size to total number of samples ---\n",
    "    total_map = {\"25k\": 25_000, \"5k\": 5_000, \"1k\": 1_000}\n",
    "    if training_size not in total_map:\n",
    "        return df  # e.g. \"all\"\n",
    "\n",
    "    total_samples = total_map[training_size]\n",
    "    n_years       = len(years)\n",
    "    base          = total_samples // n_years\n",
    "    remainder     = total_samples % n_years\n",
    "\n",
    "    # --- build a dict: year -> how many to sample ---\n",
    "    # give +1 to the first `remainder` years in ascending order\n",
    "    quotas = {\n",
    "        year: base + (1 if idx < remainder else 0)\n",
    "        for idx, year in enumerate(sorted(years))\n",
    "    }\n",
    "\n",
    "    # --- sample per‐year according to the quota dict ---\n",
    "    sampled = (\n",
    "        df\n",
    "        .groupby(\"year\", group_keys=False)\n",
    "        .apply(lambda grp: grp.sample(\n",
    "            n=min(len(grp), quotas[grp.name]),\n",
    "            random_state=random_state))\n",
    "        .reset_index(drop=True)\n",
    "    )\n",
    "\n",
    "    return sampled"
   ]
  },
  {
   "cell_type": "code",
   "execution_count": 15,
   "id": "c0ccd338-0e02-41f3-a09d-f56f9266e3fb",
   "metadata": {
    "execution": {
     "iopub.execute_input": "2025-07-30T19:50:32.107554Z",
     "iopub.status.busy": "2025-07-30T19:50:32.107070Z",
     "iopub.status.idle": "2025-07-30T19:50:32.111457Z",
     "shell.execute_reply": "2025-07-30T19:50:32.110798Z"
    },
    "papermill": {
     "duration": 0.017052,
     "end_time": "2025-07-30T19:50:32.112821",
     "exception": false,
     "start_time": "2025-07-30T19:50:32.095769",
     "status": "completed"
    },
    "tags": []
   },
   "outputs": [],
   "source": [
    "#universe[\"training_size\"]"
   ]
  },
  {
   "cell_type": "code",
   "execution_count": 16,
   "id": "ca707fd7-8047-4acd-bfa5-66248fbbf8e6",
   "metadata": {
    "execution": {
     "iopub.execute_input": "2025-07-30T19:50:32.135761Z",
     "iopub.status.busy": "2025-07-30T19:50:32.135056Z",
     "iopub.status.idle": "2025-07-30T19:50:32.139680Z",
     "shell.execute_reply": "2025-07-30T19:50:32.138779Z"
    },
    "papermill": {
     "duration": 0.017415,
     "end_time": "2025-07-30T19:50:32.141216",
     "exception": false,
     "start_time": "2025-07-30T19:50:32.123801",
     "status": "completed"
    },
    "tags": []
   },
   "outputs": [],
   "source": [
    "#universe[\"training_year\"]"
   ]
  },
  {
   "cell_type": "code",
   "execution_count": 17,
   "id": "aea9c6ef-6f46-42c8-85eb-5a62025c1508",
   "metadata": {
    "execution": {
     "iopub.execute_input": "2025-07-30T19:50:32.164158Z",
     "iopub.status.busy": "2025-07-30T19:50:32.163656Z",
     "iopub.status.idle": "2025-07-30T19:50:32.449352Z",
     "shell.execute_reply": "2025-07-30T19:50:32.448315Z"
    },
    "papermill": {
     "duration": 0.299123,
     "end_time": "2025-07-30T19:50:32.451549",
     "exception": false,
     "start_time": "2025-07-30T19:50:32.152426",
     "status": "completed"
    },
    "tags": []
   },
   "outputs": [],
   "source": [
    "siab_train = sample_by_year_size(siab,\n",
    "                               training_year=universe[\"training_year\"],\n",
    "                               training_size=universe[\"training_size\"])"
   ]
  },
  {
   "cell_type": "code",
   "execution_count": 18,
   "id": "8d3afb32-789d-442c-8d5d-9f5aa8dd2eed",
   "metadata": {
    "execution": {
     "iopub.execute_input": "2025-07-30T19:50:32.517351Z",
     "iopub.status.busy": "2025-07-30T19:50:32.517002Z",
     "iopub.status.idle": "2025-07-30T19:50:32.521312Z",
     "shell.execute_reply": "2025-07-30T19:50:32.520446Z"
    },
    "papermill": {
     "duration": 0.05196,
     "end_time": "2025-07-30T19:50:32.522680",
     "exception": false,
     "start_time": "2025-07-30T19:50:32.470720",
     "status": "completed"
    },
    "tags": []
   },
   "outputs": [],
   "source": [
    "#siab_train.shape"
   ]
  },
  {
   "cell_type": "code",
   "execution_count": 19,
   "id": "d582db68-1a4c-47fb-84fc-08518dc1975a",
   "metadata": {
    "execution": {
     "iopub.execute_input": "2025-07-30T19:50:32.548113Z",
     "iopub.status.busy": "2025-07-30T19:50:32.547403Z",
     "iopub.status.idle": "2025-07-30T19:50:32.552253Z",
     "shell.execute_reply": "2025-07-30T19:50:32.551463Z"
    },
    "papermill": {
     "duration": 0.019709,
     "end_time": "2025-07-30T19:50:32.553639",
     "exception": false,
     "start_time": "2025-07-30T19:50:32.533930",
     "status": "completed"
    },
    "tags": []
   },
   "outputs": [],
   "source": [
    "#display(siab_train.groupby(\"year\").size())"
   ]
  },
  {
   "cell_type": "code",
   "execution_count": 20,
   "id": "a561edb4-d032-42cb-8256-22eac1111c64",
   "metadata": {
    "execution": {
     "iopub.execute_input": "2025-07-30T19:50:32.577363Z",
     "iopub.status.busy": "2025-07-30T19:50:32.576708Z",
     "iopub.status.idle": "2025-07-30T19:50:32.800850Z",
     "shell.execute_reply": "2025-07-30T19:50:32.800109Z"
    },
    "papermill": {
     "duration": 0.237103,
     "end_time": "2025-07-30T19:50:32.802333",
     "exception": false,
     "start_time": "2025-07-30T19:50:32.565230",
     "status": "completed"
    },
    "tags": []
   },
   "outputs": [],
   "source": [
    "#siab_train = siab_s[siab_s.year < 2015]\n",
    "siab_calib = siab[siab.year == 2015]\n",
    "siab_test = siab[siab.year == 2016]"
   ]
  },
  {
   "cell_type": "code",
   "execution_count": 21,
   "id": "472de16f-c3db-4916-846b-1f0de9cf1746",
   "metadata": {
    "execution": {
     "iopub.execute_input": "2025-07-30T19:50:32.825482Z",
     "iopub.status.busy": "2025-07-30T19:50:32.825143Z",
     "iopub.status.idle": "2025-07-30T19:50:32.837749Z",
     "shell.execute_reply": "2025-07-30T19:50:32.836656Z"
    },
    "papermill": {
     "duration": 0.02567,
     "end_time": "2025-07-30T19:50:32.839240",
     "exception": false,
     "start_time": "2025-07-30T19:50:32.813570",
     "status": "completed"
    },
    "tags": []
   },
   "outputs": [],
   "source": [
    "X_train = siab_train.iloc[:,4:164]\n",
    "y_train = siab_train.iloc[:, [3]]"
   ]
  },
  {
   "cell_type": "code",
   "execution_count": 22,
   "id": "828c96af-f43a-4ed6-ba47-8ac73a47d56c",
   "metadata": {
    "execution": {
     "iopub.execute_input": "2025-07-30T19:50:32.863368Z",
     "iopub.status.busy": "2025-07-30T19:50:32.862882Z",
     "iopub.status.idle": "2025-07-30T19:50:32.908312Z",
     "shell.execute_reply": "2025-07-30T19:50:32.907384Z"
    },
    "papermill": {
     "duration": 0.05852,
     "end_time": "2025-07-30T19:50:32.909708",
     "exception": false,
     "start_time": "2025-07-30T19:50:32.851188",
     "status": "completed"
    },
    "tags": []
   },
   "outputs": [],
   "source": [
    "X_calib = siab_calib.iloc[:,4:164]\n",
    "y_calib = siab_calib.iloc[:, [3]]"
   ]
  },
  {
   "cell_type": "code",
   "execution_count": 23,
   "id": "c34be9c3-6bd6-476e-acd3-845840e303be",
   "metadata": {
    "execution": {
     "iopub.execute_input": "2025-07-30T19:50:32.933654Z",
     "iopub.status.busy": "2025-07-30T19:50:32.932861Z",
     "iopub.status.idle": "2025-07-30T19:50:32.980579Z",
     "shell.execute_reply": "2025-07-30T19:50:32.979626Z"
    },
    "papermill": {
     "duration": 0.060819,
     "end_time": "2025-07-30T19:50:32.982136",
     "exception": false,
     "start_time": "2025-07-30T19:50:32.921317",
     "status": "completed"
    },
    "tags": []
   },
   "outputs": [],
   "source": [
    "X_test = siab_test.iloc[:,4:164]\n",
    "y_true = siab_test.iloc[:, [3]]"
   ]
  },
  {
   "cell_type": "markdown",
   "id": "9901737e-04df-44f0-9100-f5ad144ed040",
   "metadata": {
    "papermill": {
     "duration": 0.010684,
     "end_time": "2025-07-30T19:50:33.004608",
     "exception": false,
     "start_time": "2025-07-30T19:50:32.993924",
     "status": "completed"
    },
    "tags": []
   },
   "source": [
    "# Splitting Data and Setting Training Data Size OLD VERSION"
   ]
  },
  {
   "cell_type": "code",
   "execution_count": 24,
   "id": "acbc8f7d-8fc8-4e86-8c59-5dcb0f58384b",
   "metadata": {
    "execution": {
     "iopub.execute_input": "2025-07-30T19:50:33.027409Z",
     "iopub.status.busy": "2025-07-30T19:50:33.026914Z",
     "iopub.status.idle": "2025-07-30T19:50:33.031531Z",
     "shell.execute_reply": "2025-07-30T19:50:33.030836Z"
    },
    "papermill": {
     "duration": 0.017777,
     "end_time": "2025-07-30T19:50:33.032964",
     "exception": false,
     "start_time": "2025-07-30T19:50:33.015187",
     "status": "completed"
    },
    "tags": []
   },
   "outputs": [],
   "source": [
    "#def sample_by_year(df, training_size, random_state=42):\n",
    "#    if training_size == \"2014\":\n",
    "#        return df[df[\"year\"] == 2014].reset_index(drop=True)\n",
    "#    \n",
    "#    size_map = {\n",
    "#        \"25k\": 5000,\n",
    "#        \"5k\": 1000,\n",
    "#        \"1k\": 200\n",
    "#    }\n",
    "#\n",
    "#    if training_size not in size_map:\n",
    "#        return df.reset_index(drop=True)  # use all data\n",
    "#\n",
    "#    n_per_year = size_map[training_size]\n",
    "#    grouped = df.groupby(\"year\")\n",
    "#    sampled = grouped.apply(lambda x: x.sample(n=min(n_per_year, len(x)), random_state=random_state))\n",
    "#    return sampled.reset_index(drop=True)"
   ]
  },
  {
   "cell_type": "code",
   "execution_count": 25,
   "id": "6d931f52-beaf-43ff-9e78-9d44a448d54e",
   "metadata": {
    "execution": {
     "iopub.execute_input": "2025-07-30T19:50:33.057363Z",
     "iopub.status.busy": "2025-07-30T19:50:33.056881Z",
     "iopub.status.idle": "2025-07-30T19:50:33.061353Z",
     "shell.execute_reply": "2025-07-30T19:50:33.060610Z"
    },
    "papermill": {
     "duration": 0.017726,
     "end_time": "2025-07-30T19:50:33.062829",
     "exception": false,
     "start_time": "2025-07-30T19:50:33.045103",
     "status": "completed"
    },
    "tags": []
   },
   "outputs": [],
   "source": [
    "#siab_s = sample_by_year(siab, universe[\"training_size\"])"
   ]
  },
  {
   "cell_type": "code",
   "execution_count": 26,
   "id": "5db0a40e-a4e2-4920-be85-b12ae061d70d",
   "metadata": {
    "execution": {
     "iopub.execute_input": "2025-07-30T19:50:33.089997Z",
     "iopub.status.busy": "2025-07-30T19:50:33.089720Z",
     "iopub.status.idle": "2025-07-30T19:50:33.093744Z",
     "shell.execute_reply": "2025-07-30T19:50:33.092903Z"
    },
    "papermill": {
     "duration": 0.018274,
     "end_time": "2025-07-30T19:50:33.095197",
     "exception": false,
     "start_time": "2025-07-30T19:50:33.076923",
     "status": "completed"
    },
    "tags": []
   },
   "outputs": [],
   "source": [
    "#display(siab_s.groupby(\"year\").size())"
   ]
  },
  {
   "cell_type": "code",
   "execution_count": 27,
   "id": "e6c733c5",
   "metadata": {
    "execution": {
     "iopub.execute_input": "2025-07-30T19:50:33.125478Z",
     "iopub.status.busy": "2025-07-30T19:50:33.125047Z",
     "iopub.status.idle": "2025-07-30T19:50:33.225309Z",
     "shell.execute_reply": "2025-07-30T19:50:33.224209Z"
    },
    "papermill": {
     "duration": 0.119981,
     "end_time": "2025-07-30T19:50:33.227173",
     "exception": false,
     "start_time": "2025-07-30T19:50:33.107192",
     "status": "completed"
    },
    "tags": []
   },
   "outputs": [],
   "source": [
    "# Auxiliary data needed downstream in the pipeline\n",
    "\n",
    "org_train = X_train.copy()\n",
    "org_test = X_test.copy()\n",
    "org_calib = X_calib.copy()"
   ]
  },
  {
   "cell_type": "code",
   "execution_count": 28,
   "id": "1466abac-c6da-4492-a62f-4240ae3783af",
   "metadata": {
    "execution": {
     "iopub.execute_input": "2025-07-30T19:50:33.274716Z",
     "iopub.status.busy": "2025-07-30T19:50:33.274057Z",
     "iopub.status.idle": "2025-07-30T19:50:33.280341Z",
     "shell.execute_reply": "2025-07-30T19:50:33.279288Z"
    },
    "papermill": {
     "duration": 0.031781,
     "end_time": "2025-07-30T19:50:33.282354",
     "exception": false,
     "start_time": "2025-07-30T19:50:33.250573",
     "status": "completed"
    },
    "tags": []
   },
   "outputs": [],
   "source": [
    "# put in other script?\n",
    "# Group sizes\n",
    "\n",
    "#def calculate_percentages(df, df_name):\n",
    "#    total_entries = len(df)\n",
    "#\n",
    "#    female_pct = (df['frau1'] == 1).mean() * 100\n",
    "#    non_german_pct = ((df['maxdeutsch1'] == 0) & (df['maxdeutsch.Missing.'] == 0)).mean() * 100\n",
    "#    non_german_male_pct = ((df['frau1'] == 0) & (df['maxdeutsch1'] == 0) & (df['maxdeutsch.Missing.'] == 0)).mean() * 100\n",
    "#    non_german_female_pct = ((df['frau1'] == 1) & (df['maxdeutsch1'] == 0) & (df['maxdeutsch.Missing.'] == 0)).mean() * 100\n",
    "#\n",
    "#    print(f\"--- {df_name} ---\")\n",
    "#    print(f\"Female: {female_pct:.2f}%\")\n",
    "#    print(f\"Non-German: {non_german_pct:.2f}%\")\n",
    "#    print(f\"Non-German Male: {non_german_male_pct:.2f}%\")\n",
    "#    print(f\"Non-German Female: {non_german_female_pct:.2f}%\\n\")\n",
    "#\n",
    "## Calculate for each DataFrame\n",
    "#calculate_percentages(siab_calib, \"siab_calib\")\n",
    "#calculate_percentages(siab_test, \"siab_test\")\n",
    "#calculate_percentages(siab_train, \"siab_train\")"
   ]
  },
  {
   "cell_type": "markdown",
   "id": "0a4a1b33",
   "metadata": {
    "papermill": {
     "duration": 0.021772,
     "end_time": "2025-07-30T19:50:33.326427",
     "exception": false,
     "start_time": "2025-07-30T19:50:33.304655",
     "status": "completed"
    },
    "tags": []
   },
   "source": [
    "# Preprocessing Data"
   ]
  },
  {
   "cell_type": "code",
   "execution_count": 29,
   "id": "ca879031",
   "metadata": {
    "execution": {
     "iopub.execute_input": "2025-07-30T19:50:33.372090Z",
     "iopub.status.busy": "2025-07-30T19:50:33.371589Z",
     "iopub.status.idle": "2025-07-30T19:50:33.378058Z",
     "shell.execute_reply": "2025-07-30T19:50:33.376937Z"
    },
    "papermill": {
     "duration": 0.031277,
     "end_time": "2025-07-30T19:50:33.379724",
     "exception": false,
     "start_time": "2025-07-30T19:50:33.348447",
     "status": "completed"
    },
    "tags": []
   },
   "outputs": [],
   "source": [
    "# EXCLUDE PROTECTED FEATURES\n",
    "# ----------------------\n",
    "# \"exclude_features\": \"none\", # \"nationality\", \"sex\", \"nationality-sex\"\n",
    "\n",
    "excluded_features = universe[\"exclude_features\"].split(\"-\") # split, e.g.: \"nationality-sex\" -> [\"nationality\", \"sex\"]\n",
    "excluded_features_dictionary = {\n",
    "    \"nationality\": [\"maxdeutsch1\", \"maxdeutsch.Missing.\"],\n",
    "    \"sex\": [\"frau1\"],\n",
    "    \"age\": [\"age\"],\n",
    "}\n"
   ]
  },
  {
   "cell_type": "code",
   "execution_count": 30,
   "id": "b745ac60",
   "metadata": {
    "execution": {
     "iopub.execute_input": "2025-07-30T19:50:33.425856Z",
     "iopub.status.busy": "2025-07-30T19:50:33.424902Z",
     "iopub.status.idle": "2025-07-30T19:50:33.430833Z",
     "shell.execute_reply": "2025-07-30T19:50:33.429878Z"
    },
    "papermill": {
     "duration": 0.03056,
     "end_time": "2025-07-30T19:50:33.432526",
     "exception": false,
     "start_time": "2025-07-30T19:50:33.401966",
     "status": "completed"
    },
    "tags": []
   },
   "outputs": [],
   "source": [
    "# Code nice names to column names\n",
    "\n",
    "excluded_features_columns = [\n",
    "    excluded_features_dictionary[f] for f in excluded_features if len(f) > 0 and f != \"none\"\n",
    "]"
   ]
  },
  {
   "cell_type": "code",
   "execution_count": 31,
   "id": "f84f73a2",
   "metadata": {
    "execution": {
     "iopub.execute_input": "2025-07-30T19:50:33.479247Z",
     "iopub.status.busy": "2025-07-30T19:50:33.478296Z",
     "iopub.status.idle": "2025-07-30T19:50:33.485170Z",
     "shell.execute_reply": "2025-07-30T19:50:33.484092Z"
    },
    "papermill": {
     "duration": 0.031845,
     "end_time": "2025-07-30T19:50:33.486839",
     "exception": false,
     "start_time": "2025-07-30T19:50:33.454994",
     "status": "completed"
    },
    "tags": []
   },
   "outputs": [],
   "source": [
    "from utils import flatten_once\n",
    "\n",
    "excluded_features_columns = flatten_once(excluded_features_columns)"
   ]
  },
  {
   "cell_type": "code",
   "execution_count": 32,
   "id": "884dea22",
   "metadata": {
    "execution": {
     "iopub.execute_input": "2025-07-30T19:50:33.537231Z",
     "iopub.status.busy": "2025-07-30T19:50:33.536585Z",
     "iopub.status.idle": "2025-07-30T19:50:33.552196Z",
     "shell.execute_reply": "2025-07-30T19:50:33.551323Z"
    },
    "papermill": {
     "duration": 0.044463,
     "end_time": "2025-07-30T19:50:33.553936",
     "exception": false,
     "start_time": "2025-07-30T19:50:33.509473",
     "status": "completed"
    },
    "tags": []
   },
   "outputs": [
    {
     "name": "stdout",
     "output_type": "stream",
     "text": [
      "Dropping features: ['frau1']\n"
     ]
    }
   ],
   "source": [
    "if len(excluded_features_columns) > 0:\n",
    "    print(f\"Dropping features: {excluded_features_columns}\")\n",
    "    X_train.drop(excluded_features_columns, axis=1, inplace=True)"
   ]
  },
  {
   "cell_type": "code",
   "execution_count": 33,
   "id": "95ab8b16",
   "metadata": {
    "execution": {
     "iopub.execute_input": "2025-07-30T19:50:33.600947Z",
     "iopub.status.busy": "2025-07-30T19:50:33.600267Z",
     "iopub.status.idle": "2025-07-30T19:50:33.654430Z",
     "shell.execute_reply": "2025-07-30T19:50:33.653137Z"
    },
    "papermill": {
     "duration": 0.079937,
     "end_time": "2025-07-30T19:50:33.656527",
     "exception": false,
     "start_time": "2025-07-30T19:50:33.576590",
     "status": "completed"
    },
    "tags": []
   },
   "outputs": [
    {
     "name": "stdout",
     "output_type": "stream",
     "text": [
      "Dropping features: ['frau1']\n"
     ]
    }
   ],
   "source": [
    "if len(excluded_features_columns) > 0:\n",
    "    print(f\"Dropping features: {excluded_features_columns}\")\n",
    "    X_test.drop(excluded_features_columns, axis=1, inplace=True)"
   ]
  },
  {
   "cell_type": "code",
   "execution_count": 34,
   "id": "1853aaf5-fb9f-46cb-a2b5-8ea4ae2237e4",
   "metadata": {
    "execution": {
     "iopub.execute_input": "2025-07-30T19:50:33.704262Z",
     "iopub.status.busy": "2025-07-30T19:50:33.703588Z",
     "iopub.status.idle": "2025-07-30T19:50:33.755678Z",
     "shell.execute_reply": "2025-07-30T19:50:33.754525Z"
    },
    "papermill": {
     "duration": 0.078664,
     "end_time": "2025-07-30T19:50:33.758557",
     "exception": false,
     "start_time": "2025-07-30T19:50:33.679893",
     "status": "completed"
    },
    "tags": []
   },
   "outputs": [
    {
     "name": "stdout",
     "output_type": "stream",
     "text": [
      "Dropping features: ['frau1']\n"
     ]
    }
   ],
   "source": [
    "if len(excluded_features_columns) > 0:\n",
    "    print(f\"Dropping features: {excluded_features_columns}\")\n",
    "    X_calib.drop(excluded_features_columns, axis=1, inplace=True)"
   ]
  },
  {
   "cell_type": "code",
   "execution_count": 35,
   "id": "6727d079-03e5-481e-9d38-292a90b7a0a8",
   "metadata": {
    "execution": {
     "iopub.execute_input": "2025-07-30T19:50:33.808514Z",
     "iopub.status.busy": "2025-07-30T19:50:33.807533Z",
     "iopub.status.idle": "2025-07-30T19:50:33.812760Z",
     "shell.execute_reply": "2025-07-30T19:50:33.811760Z"
    },
    "papermill": {
     "duration": 0.031562,
     "end_time": "2025-07-30T19:50:33.814576",
     "exception": false,
     "start_time": "2025-07-30T19:50:33.783014",
     "status": "completed"
    },
    "tags": []
   },
   "outputs": [],
   "source": [
    "# SPLIT & STRATIFY DATA\n",
    "# ----------------------"
   ]
  },
  {
   "cell_type": "code",
   "execution_count": 36,
   "id": "76c4dc6d",
   "metadata": {
    "execution": {
     "iopub.execute_input": "2025-07-30T19:50:33.863071Z",
     "iopub.status.busy": "2025-07-30T19:50:33.862354Z",
     "iopub.status.idle": "2025-07-30T19:50:33.868249Z",
     "shell.execute_reply": "2025-07-30T19:50:33.867158Z"
    },
    "papermill": {
     "duration": 0.031857,
     "end_time": "2025-07-30T19:50:33.870129",
     "exception": false,
     "start_time": "2025-07-30T19:50:33.838272",
     "status": "completed"
    },
    "tags": []
   },
   "outputs": [],
   "source": [
    "# EXCLUDE CERTAIN SUBGROUPS\n",
    "# ----------------------\n",
    "\n",
    "mode = universe.get(\"exclude_subgroups\", \"keep-all\") \n",
    "# Fetches the exclude_subgroups setting from the universe dict.\n",
    "# Defaults to \"keep-all\" if the key is missing."
   ]
  },
  {
   "cell_type": "code",
   "execution_count": 37,
   "id": "21994072",
   "metadata": {
    "execution": {
     "iopub.execute_input": "2025-07-30T19:50:33.918158Z",
     "iopub.status.busy": "2025-07-30T19:50:33.917490Z",
     "iopub.status.idle": "2025-07-30T19:50:33.924881Z",
     "shell.execute_reply": "2025-07-30T19:50:33.923957Z"
    },
    "papermill": {
     "duration": 0.033631,
     "end_time": "2025-07-30T19:50:33.927002",
     "exception": false,
     "start_time": "2025-07-30T19:50:33.893371",
     "status": "completed"
    },
    "tags": []
   },
   "outputs": [],
   "source": [
    "if mode == \"keep-all\":\n",
    "    keep_mask = pd.Series(True, index=org_train.index)\n",
    "\n",
    "# org_train contains the original feature columns from features_org (in Simson)\n",
    "# features_org contains unprocessed features, for me X_train at beginning ???\n",
    "# For keep-all, creates a boolean Series (keep_mask) of all True, so no rows are removed.\n",
    "\n",
    "elif mode == \"drop-non-german\":\n",
    "    keep_mask = org_train[\"maxdeutsch1\"] == 1 # ??? what about missing values?\n",
    "\n",
    "else:\n",
    "    raise ValueError(f\"Unsupported mode for exclude_subgroups: {mode}\")\n"
   ]
  },
  {
   "cell_type": "code",
   "execution_count": 38,
   "id": "71651440",
   "metadata": {
    "execution": {
     "iopub.execute_input": "2025-07-30T19:50:33.974895Z",
     "iopub.status.busy": "2025-07-30T19:50:33.974402Z",
     "iopub.status.idle": "2025-07-30T19:50:33.981880Z",
     "shell.execute_reply": "2025-07-30T19:50:33.980924Z"
    },
    "papermill": {
     "duration": 0.033321,
     "end_time": "2025-07-30T19:50:33.983874",
     "exception": false,
     "start_time": "2025-07-30T19:50:33.950553",
     "status": "completed"
    },
    "tags": []
   },
   "outputs": [
    {
     "name": "stdout",
     "output_type": "stream",
     "text": [
      "Dropping 3688 rows (14.75%) where mode='drop-non-german'\n"
     ]
    }
   ],
   "source": [
    "n_drop = (~keep_mask).sum() # Calculates how many rows are set to be dropped\n",
    "if n_drop > 0:\n",
    "    pct = n_drop / len(keep_mask) * 100\n",
    "    print(f\"Dropping {n_drop} rows ({pct:.2f}%) where mode='{mode}'\")"
   ]
  },
  {
   "cell_type": "code",
   "execution_count": 39,
   "id": "5fb8eee5",
   "metadata": {
    "execution": {
     "iopub.execute_input": "2025-07-30T19:50:34.033164Z",
     "iopub.status.busy": "2025-07-30T19:50:34.032460Z",
     "iopub.status.idle": "2025-07-30T19:50:34.047616Z",
     "shell.execute_reply": "2025-07-30T19:50:34.046416Z"
    },
    "papermill": {
     "duration": 0.041535,
     "end_time": "2025-07-30T19:50:34.049769",
     "exception": false,
     "start_time": "2025-07-30T19:50:34.008234",
     "status": "completed"
    },
    "tags": []
   },
   "outputs": [],
   "source": [
    "X_train = X_train[keep_mask]"
   ]
  },
  {
   "cell_type": "code",
   "execution_count": 40,
   "id": "b202bb3a",
   "metadata": {
    "execution": {
     "iopub.execute_input": "2025-07-30T19:50:34.099153Z",
     "iopub.status.busy": "2025-07-30T19:50:34.098451Z",
     "iopub.status.idle": "2025-07-30T19:50:34.105520Z",
     "shell.execute_reply": "2025-07-30T19:50:34.104546Z"
    },
    "papermill": {
     "duration": 0.032949,
     "end_time": "2025-07-30T19:50:34.107211",
     "exception": false,
     "start_time": "2025-07-30T19:50:34.074262",
     "status": "completed"
    },
    "tags": []
   },
   "outputs": [],
   "source": [
    "y_train = y_train[keep_mask]"
   ]
  },
  {
   "cell_type": "markdown",
   "id": "493e2ac3",
   "metadata": {
    "papermill": {
     "duration": 0.023608,
     "end_time": "2025-07-30T19:50:34.155078",
     "exception": false,
     "start_time": "2025-07-30T19:50:34.131470",
     "status": "completed"
    },
    "tags": []
   },
   "source": [
    "# Model Training"
   ]
  },
  {
   "cell_type": "code",
   "execution_count": 41,
   "id": "679e1268",
   "metadata": {
    "execution": {
     "iopub.execute_input": "2025-07-30T19:50:34.214854Z",
     "iopub.status.busy": "2025-07-30T19:50:34.214122Z",
     "iopub.status.idle": "2025-07-30T19:50:34.338942Z",
     "shell.execute_reply": "2025-07-30T19:50:34.337683Z"
    },
    "papermill": {
     "duration": 0.157226,
     "end_time": "2025-07-30T19:50:34.341280",
     "exception": false,
     "start_time": "2025-07-30T19:50:34.184054",
     "status": "completed"
    },
    "tags": []
   },
   "outputs": [],
   "source": [
    "from sklearn.linear_model import LogisticRegression\n",
    "from sklearn.ensemble import GradientBoostingClassifier, RandomForestClassifier\n",
    "\n",
    "if (universe[\"model\"] == \"logreg\"):\n",
    "    model = LogisticRegression() #penalty=\"none\") #, solver=\"newton-cg\", max_iter=1) # include random_state=19 ?\n",
    "elif (universe[\"model\"] == \"penalized_logreg\"):\n",
    "    model = LogisticRegression(penalty=\"l2\", C=1.0) #, solver=\"newton-cg\", max_iter=1)\n",
    "elif (universe[\"model\"] == \"rf\"):\n",
    "    model = RandomForestClassifier(n_estimators=100, n_jobs=-1)\n",
    "elif (universe[\"model\"] == \"gbm\"):\n",
    "    model = GradientBoostingClassifier()\n",
    "elif (universe[\"model\"] == \"elasticnet\"):\n",
    "    model = LogisticRegression(penalty = 'elasticnet', solver = 'saga', l1_ratio = 0.5, max_iter=5000) # which solver to use?\n",
    "else:\n",
    "    raise \"Unsupported universe.model\""
   ]
  },
  {
   "cell_type": "code",
   "execution_count": 42,
   "id": "0cc8f744",
   "metadata": {
    "execution": {
     "iopub.execute_input": "2025-07-30T19:50:34.408949Z",
     "iopub.status.busy": "2025-07-30T19:50:34.407949Z",
     "iopub.status.idle": "2025-07-30T19:50:34.416736Z",
     "shell.execute_reply": "2025-07-30T19:50:34.415398Z"
    },
    "papermill": {
     "duration": 0.046887,
     "end_time": "2025-07-30T19:50:34.419068",
     "exception": false,
     "start_time": "2025-07-30T19:50:34.372181",
     "status": "completed"
    },
    "tags": []
   },
   "outputs": [],
   "source": [
    "import numpy as np\n",
    "from sklearn.pipeline import Pipeline\n",
    "from sklearn.preprocessing import StandardScaler\n",
    "\n",
    "model = Pipeline([\n",
    "    #(\"continuous_processor\", continuous_processor),\n",
    "    #(\"categorical_preprocessor\", categorical_preprocessor),\n",
    "    (\"scale\", StandardScaler() if universe[\"scale\"] == \"scale\" else None), \n",
    "    (\"model\", model),\n",
    "])"
   ]
  },
  {
   "cell_type": "code",
   "execution_count": 43,
   "id": "9442c04d",
   "metadata": {
    "execution": {
     "iopub.execute_input": "2025-07-30T19:50:34.481472Z",
     "iopub.status.busy": "2025-07-30T19:50:34.480615Z",
     "iopub.status.idle": "2025-07-30T19:50:36.280289Z",
     "shell.execute_reply": "2025-07-30T19:50:36.278861Z"
    },
    "papermill": {
     "duration": 1.833798,
     "end_time": "2025-07-30T19:50:36.283144",
     "exception": false,
     "start_time": "2025-07-30T19:50:34.449346",
     "status": "completed"
    },
    "tags": []
   },
   "outputs": [
    {
     "name": "stderr",
     "output_type": "stream",
     "text": [
      "/dss/dsshome1/0C/ra93lal2/.local/share/virtualenvs/CMA_Fairness_v2-3j10GkSs/lib/python3.10/site-packages/sklearn/linear_model/_logistic.py:444: ConvergenceWarning: lbfgs failed to converge (status=1):\n",
      "STOP: TOTAL NO. of ITERATIONS REACHED LIMIT.\n",
      "\n",
      "Increase the number of iterations (max_iter) or scale the data as shown in:\n",
      "    https://scikit-learn.org/stable/modules/preprocessing.html\n",
      "Please also refer to the documentation for alternative solver options:\n",
      "    https://scikit-learn.org/stable/modules/linear_model.html#logistic-regression\n",
      "  n_iter_i = _check_optimize_result(\n"
     ]
    },
    {
     "data": {
      "text/html": [
       "<style>#sk-container-id-1 {color: black;background-color: white;}#sk-container-id-1 pre{padding: 0;}#sk-container-id-1 div.sk-toggleable {background-color: white;}#sk-container-id-1 label.sk-toggleable__label {cursor: pointer;display: block;width: 100%;margin-bottom: 0;padding: 0.3em;box-sizing: border-box;text-align: center;}#sk-container-id-1 label.sk-toggleable__label-arrow:before {content: \"▸\";float: left;margin-right: 0.25em;color: #696969;}#sk-container-id-1 label.sk-toggleable__label-arrow:hover:before {color: black;}#sk-container-id-1 div.sk-estimator:hover label.sk-toggleable__label-arrow:before {color: black;}#sk-container-id-1 div.sk-toggleable__content {max-height: 0;max-width: 0;overflow: hidden;text-align: left;background-color: #f0f8ff;}#sk-container-id-1 div.sk-toggleable__content pre {margin: 0.2em;color: black;border-radius: 0.25em;background-color: #f0f8ff;}#sk-container-id-1 input.sk-toggleable__control:checked~div.sk-toggleable__content {max-height: 200px;max-width: 100%;overflow: auto;}#sk-container-id-1 input.sk-toggleable__control:checked~label.sk-toggleable__label-arrow:before {content: \"▾\";}#sk-container-id-1 div.sk-estimator input.sk-toggleable__control:checked~label.sk-toggleable__label {background-color: #d4ebff;}#sk-container-id-1 div.sk-label input.sk-toggleable__control:checked~label.sk-toggleable__label {background-color: #d4ebff;}#sk-container-id-1 input.sk-hidden--visually {border: 0;clip: rect(1px 1px 1px 1px);clip: rect(1px, 1px, 1px, 1px);height: 1px;margin: -1px;overflow: hidden;padding: 0;position: absolute;width: 1px;}#sk-container-id-1 div.sk-estimator {font-family: monospace;background-color: #f0f8ff;border: 1px dotted black;border-radius: 0.25em;box-sizing: border-box;margin-bottom: 0.5em;}#sk-container-id-1 div.sk-estimator:hover {background-color: #d4ebff;}#sk-container-id-1 div.sk-parallel-item::after {content: \"\";width: 100%;border-bottom: 1px solid gray;flex-grow: 1;}#sk-container-id-1 div.sk-label:hover label.sk-toggleable__label {background-color: #d4ebff;}#sk-container-id-1 div.sk-serial::before {content: \"\";position: absolute;border-left: 1px solid gray;box-sizing: border-box;top: 0;bottom: 0;left: 50%;z-index: 0;}#sk-container-id-1 div.sk-serial {display: flex;flex-direction: column;align-items: center;background-color: white;padding-right: 0.2em;padding-left: 0.2em;position: relative;}#sk-container-id-1 div.sk-item {position: relative;z-index: 1;}#sk-container-id-1 div.sk-parallel {display: flex;align-items: stretch;justify-content: center;background-color: white;position: relative;}#sk-container-id-1 div.sk-item::before, #sk-container-id-1 div.sk-parallel-item::before {content: \"\";position: absolute;border-left: 1px solid gray;box-sizing: border-box;top: 0;bottom: 0;left: 50%;z-index: -1;}#sk-container-id-1 div.sk-parallel-item {display: flex;flex-direction: column;z-index: 1;position: relative;background-color: white;}#sk-container-id-1 div.sk-parallel-item:first-child::after {align-self: flex-end;width: 50%;}#sk-container-id-1 div.sk-parallel-item:last-child::after {align-self: flex-start;width: 50%;}#sk-container-id-1 div.sk-parallel-item:only-child::after {width: 0;}#sk-container-id-1 div.sk-dashed-wrapped {border: 1px dashed gray;margin: 0 0.4em 0.5em 0.4em;box-sizing: border-box;padding-bottom: 0.4em;background-color: white;}#sk-container-id-1 div.sk-label label {font-family: monospace;font-weight: bold;display: inline-block;line-height: 1.2em;}#sk-container-id-1 div.sk-label-container {text-align: center;}#sk-container-id-1 div.sk-container {/* jupyter's `normalize.less` sets `[hidden] { display: none; }` but bootstrap.min.css set `[hidden] { display: none !important; }` so we also need the `!important` here to be able to override the default hidden behavior on the sphinx rendered scikit-learn.org. See: https://github.com/scikit-learn/scikit-learn/issues/21755 */display: inline-block !important;position: relative;}#sk-container-id-1 div.sk-text-repr-fallback {display: none;}</style><div id=\"sk-container-id-1\" class=\"sk-top-container\"><div class=\"sk-text-repr-fallback\"><pre>Pipeline(steps=[(&#x27;scale&#x27;, StandardScaler()), (&#x27;model&#x27;, LogisticRegression())])</pre><b>In a Jupyter environment, please rerun this cell to show the HTML representation or trust the notebook. <br />On GitHub, the HTML representation is unable to render, please try loading this page with nbviewer.org.</b></div><div class=\"sk-container\" hidden><div class=\"sk-item sk-dashed-wrapped\"><div class=\"sk-label-container\"><div class=\"sk-label sk-toggleable\"><input class=\"sk-toggleable__control sk-hidden--visually\" id=\"sk-estimator-id-1\" type=\"checkbox\" ><label for=\"sk-estimator-id-1\" class=\"sk-toggleable__label sk-toggleable__label-arrow\">Pipeline</label><div class=\"sk-toggleable__content\"><pre>Pipeline(steps=[(&#x27;scale&#x27;, StandardScaler()), (&#x27;model&#x27;, LogisticRegression())])</pre></div></div></div><div class=\"sk-serial\"><div class=\"sk-item\"><div class=\"sk-estimator sk-toggleable\"><input class=\"sk-toggleable__control sk-hidden--visually\" id=\"sk-estimator-id-2\" type=\"checkbox\" ><label for=\"sk-estimator-id-2\" class=\"sk-toggleable__label sk-toggleable__label-arrow\">StandardScaler</label><div class=\"sk-toggleable__content\"><pre>StandardScaler()</pre></div></div></div><div class=\"sk-item\"><div class=\"sk-estimator sk-toggleable\"><input class=\"sk-toggleable__control sk-hidden--visually\" id=\"sk-estimator-id-3\" type=\"checkbox\" ><label for=\"sk-estimator-id-3\" class=\"sk-toggleable__label sk-toggleable__label-arrow\">LogisticRegression</label><div class=\"sk-toggleable__content\"><pre>LogisticRegression()</pre></div></div></div></div></div></div></div>"
      ],
      "text/plain": [
       "Pipeline(steps=[('scale', StandardScaler()), ('model', LogisticRegression())])"
      ]
     },
     "execution_count": 43,
     "metadata": {},
     "output_type": "execute_result"
    }
   ],
   "source": [
    "model.fit(X_train, y_train.values.ravel())"
   ]
  },
  {
   "cell_type": "code",
   "execution_count": 44,
   "id": "af59f8c0",
   "metadata": {
    "execution": {
     "iopub.execute_input": "2025-07-30T19:50:36.358772Z",
     "iopub.status.busy": "2025-07-30T19:50:36.357471Z",
     "iopub.status.idle": "2025-07-30T19:50:36.365434Z",
     "shell.execute_reply": "2025-07-30T19:50:36.364076Z"
    },
    "papermill": {
     "duration": 0.04661,
     "end_time": "2025-07-30T19:50:36.367436",
     "exception": false,
     "start_time": "2025-07-30T19:50:36.320826",
     "status": "completed"
    },
    "tags": []
   },
   "outputs": [],
   "source": [
    "from fairness_multiverse.universe import predict_w_threshold"
   ]
  },
  {
   "cell_type": "code",
   "execution_count": 45,
   "id": "a7cf2e16",
   "metadata": {
    "execution": {
     "iopub.execute_input": "2025-07-30T19:50:36.443799Z",
     "iopub.status.busy": "2025-07-30T19:50:36.443011Z",
     "iopub.status.idle": "2025-07-30T19:50:36.677209Z",
     "shell.execute_reply": "2025-07-30T19:50:36.676502Z"
    },
    "papermill": {
     "duration": 0.271925,
     "end_time": "2025-07-30T19:50:36.678463",
     "exception": false,
     "start_time": "2025-07-30T19:50:36.406538",
     "status": "completed"
    },
    "tags": []
   },
   "outputs": [
    {
     "data": {
      "text/plain": [
       "0.8653550328837365"
      ]
     },
     "execution_count": 45,
     "metadata": {},
     "output_type": "execute_result"
    }
   ],
   "source": [
    "probs_test = model.predict_proba(X_test)\n",
    "\n",
    "'''\n",
    "Below code returns a boolean array (or binary 0/1 array depending on how it’s used) where each element \n",
    "is True if the probability of class 1 is greater than or equal to the threshold, and False otherwise.\n",
    "'''\n",
    "y_pred_default = predict_w_threshold(probs_test, 0.5)\n",
    "\n",
    "from sklearn.metrics import accuracy_score\n",
    "\n",
    "# Naive prediction\n",
    "accuracy_score(y_true = y_true, y_pred = y_pred_default)"
   ]
  },
  {
   "cell_type": "code",
   "execution_count": 46,
   "id": "081964c3",
   "metadata": {
    "execution": {
     "iopub.execute_input": "2025-07-30T19:50:36.735121Z",
     "iopub.status.busy": "2025-07-30T19:50:36.734475Z",
     "iopub.status.idle": "2025-07-30T19:50:36.935618Z",
     "shell.execute_reply": "2025-07-30T19:50:36.934240Z"
    },
    "papermill": {
     "duration": 0.242874,
     "end_time": "2025-07-30T19:50:36.938028",
     "exception": false,
     "start_time": "2025-07-30T19:50:36.695154",
     "status": "completed"
    },
    "tags": []
   },
   "outputs": [
    {
     "data": {
      "text/plain": [
       "array([0, 0, 0, ..., 0, 0, 0])"
      ]
     },
     "execution_count": 46,
     "metadata": {},
     "output_type": "execute_result"
    }
   ],
   "source": [
    "model.predict(X_test)"
   ]
  },
  {
   "cell_type": "markdown",
   "id": "56c9705b",
   "metadata": {
    "papermill": {
     "duration": 0.035999,
     "end_time": "2025-07-30T19:50:37.012302",
     "exception": false,
     "start_time": "2025-07-30T19:50:36.976303",
     "status": "completed"
    },
    "tags": []
   },
   "source": [
    "# Conformal Prediction"
   ]
  },
  {
   "cell_type": "code",
   "execution_count": 47,
   "id": "160ec6ff",
   "metadata": {
    "execution": {
     "iopub.execute_input": "2025-07-30T19:50:37.087441Z",
     "iopub.status.busy": "2025-07-30T19:50:37.086580Z",
     "iopub.status.idle": "2025-07-30T19:50:37.093958Z",
     "shell.execute_reply": "2025-07-30T19:50:37.092522Z"
    },
    "papermill": {
     "duration": 0.047553,
     "end_time": "2025-07-30T19:50:37.095930",
     "exception": false,
     "start_time": "2025-07-30T19:50:37.048377",
     "status": "completed"
    },
    "tags": []
   },
   "outputs": [],
   "source": [
    "# Miscoverage level for conformal prediction (10% allowed error rate => 90% target coverage)\n",
    "alpha = 0.1"
   ]
  },
  {
   "cell_type": "code",
   "execution_count": 48,
   "id": "eadf4555-3dd3-440e-8e35-f82a4ad9f855",
   "metadata": {
    "execution": {
     "iopub.execute_input": "2025-07-30T19:50:37.163817Z",
     "iopub.status.busy": "2025-07-30T19:50:37.163306Z",
     "iopub.status.idle": "2025-07-30T19:50:37.348200Z",
     "shell.execute_reply": "2025-07-30T19:50:37.347124Z"
    },
    "papermill": {
     "duration": 0.220642,
     "end_time": "2025-07-30T19:50:37.349698",
     "exception": false,
     "start_time": "2025-07-30T19:50:37.129056",
     "status": "completed"
    },
    "tags": []
   },
   "outputs": [],
   "source": [
    "probs_calib = model.predict_proba(X_calib)"
   ]
  },
  {
   "cell_type": "code",
   "execution_count": 49,
   "id": "2ed93547-6d5d-4983-9b36-1ecb300da49a",
   "metadata": {
    "execution": {
     "iopub.execute_input": "2025-07-30T19:50:37.388965Z",
     "iopub.status.busy": "2025-07-30T19:50:37.388529Z",
     "iopub.status.idle": "2025-07-30T19:50:37.394101Z",
     "shell.execute_reply": "2025-07-30T19:50:37.393377Z"
    },
    "papermill": {
     "duration": 0.032028,
     "end_time": "2025-07-30T19:50:37.395620",
     "exception": false,
     "start_time": "2025-07-30T19:50:37.363592",
     "status": "completed"
    },
    "tags": []
   },
   "outputs": [],
   "source": [
    "y_calib = y_calib.values.ravel().astype(int)"
   ]
  },
  {
   "cell_type": "code",
   "execution_count": 50,
   "id": "65d1320d-f588-4b38-9072-62af1ae97f7d",
   "metadata": {
    "execution": {
     "iopub.execute_input": "2025-07-30T19:50:37.448086Z",
     "iopub.status.busy": "2025-07-30T19:50:37.447428Z",
     "iopub.status.idle": "2025-07-30T19:50:37.455958Z",
     "shell.execute_reply": "2025-07-30T19:50:37.455062Z"
    },
    "papermill": {
     "duration": 0.035443,
     "end_time": "2025-07-30T19:50:37.457392",
     "exception": false,
     "start_time": "2025-07-30T19:50:37.421949",
     "status": "completed"
    },
    "tags": []
   },
   "outputs": [],
   "source": [
    "from fairness_multiverse.conformal import compute_nc_scores\n",
    "\n",
    "# Compute nonconformity scores on calibration set (1 - probability of true class)\n",
    "nc_scores = compute_nc_scores(probs_calib, y_calib)"
   ]
  },
  {
   "cell_type": "code",
   "execution_count": 51,
   "id": "df3b8ca3-53b7-43d5-9667-7c85da7aeda2",
   "metadata": {
    "execution": {
     "iopub.execute_input": "2025-07-30T19:50:37.488518Z",
     "iopub.status.busy": "2025-07-30T19:50:37.487901Z",
     "iopub.status.idle": "2025-07-30T19:50:37.644131Z",
     "shell.execute_reply": "2025-07-30T19:50:37.643126Z"
    },
    "papermill": {
     "duration": 0.173928,
     "end_time": "2025-07-30T19:50:37.645899",
     "exception": false,
     "start_time": "2025-07-30T19:50:37.471971",
     "status": "completed"
    },
    "tags": []
   },
   "outputs": [],
   "source": [
    "from fairness_multiverse.conformal import find_threshold\n",
    "\n",
    "# Find conformal threshold q_hat for the given alpha (split conformal method)\n",
    "q_hat = find_threshold(nc_scores, alpha)"
   ]
  },
  {
   "cell_type": "code",
   "execution_count": 52,
   "id": "4d29e6c1-0ef6-4aa4-b8fe-4fe79b0d033a",
   "metadata": {
    "execution": {
     "iopub.execute_input": "2025-07-30T19:50:37.698538Z",
     "iopub.status.busy": "2025-07-30T19:50:37.698079Z",
     "iopub.status.idle": "2025-07-30T19:50:37.706189Z",
     "shell.execute_reply": "2025-07-30T19:50:37.705356Z"
    },
    "papermill": {
     "duration": 0.033699,
     "end_time": "2025-07-30T19:50:37.707396",
     "exception": false,
     "start_time": "2025-07-30T19:50:37.673697",
     "status": "completed"
    },
    "tags": []
   },
   "outputs": [
    {
     "data": {
      "text/plain": [
       "0.6756897616568349"
      ]
     },
     "execution_count": 52,
     "metadata": {},
     "output_type": "execute_result"
    }
   ],
   "source": [
    "q_hat"
   ]
  },
  {
   "cell_type": "code",
   "execution_count": 53,
   "id": "92460794-cdac-4be2-ba28-f28c0515a6fb",
   "metadata": {
    "execution": {
     "iopub.execute_input": "2025-07-30T19:50:37.738254Z",
     "iopub.status.busy": "2025-07-30T19:50:37.737848Z",
     "iopub.status.idle": "2025-07-30T19:50:38.698663Z",
     "shell.execute_reply": "2025-07-30T19:50:38.697499Z"
    },
    "papermill": {
     "duration": 0.980263,
     "end_time": "2025-07-30T19:50:38.702250",
     "exception": false,
     "start_time": "2025-07-30T19:50:37.721987",
     "status": "completed"
    },
    "tags": []
   },
   "outputs": [],
   "source": [
    "from fairness_multiverse.conformal import predict_conformal_sets\n",
    "\n",
    "# Generate prediction sets for each test example\n",
    "pred_sets = predict_conformal_sets(model, X_test, q_hat)"
   ]
  },
  {
   "cell_type": "code",
   "execution_count": 54,
   "id": "d90c9a65-e6db-4f5d-80cd-e68fb7e46829",
   "metadata": {
    "execution": {
     "iopub.execute_input": "2025-07-30T19:50:38.770741Z",
     "iopub.status.busy": "2025-07-30T19:50:38.770261Z",
     "iopub.status.idle": "2025-07-30T19:50:38.776020Z",
     "shell.execute_reply": "2025-07-30T19:50:38.775160Z"
    },
    "papermill": {
     "duration": 0.033795,
     "end_time": "2025-07-30T19:50:38.777565",
     "exception": false,
     "start_time": "2025-07-30T19:50:38.743770",
     "status": "completed"
    },
    "tags": []
   },
   "outputs": [],
   "source": [
    "y_true = y_true.squeeze()"
   ]
  },
  {
   "cell_type": "code",
   "execution_count": 55,
   "id": "3a58a54a-1e68-46b9-927a-df01f18aebc8",
   "metadata": {
    "execution": {
     "iopub.execute_input": "2025-07-30T19:50:38.820236Z",
     "iopub.status.busy": "2025-07-30T19:50:38.819839Z",
     "iopub.status.idle": "2025-07-30T19:50:39.766708Z",
     "shell.execute_reply": "2025-07-30T19:50:39.765569Z"
    },
    "papermill": {
     "duration": 0.978255,
     "end_time": "2025-07-30T19:50:39.769308",
     "exception": false,
     "start_time": "2025-07-30T19:50:38.791053",
     "status": "completed"
    },
    "tags": []
   },
   "outputs": [],
   "source": [
    "from fairness_multiverse.conformal import evaluate_sets\n",
    "\n",
    "# Evaluate coverage and average set size on test data\n",
    "metrics = evaluate_sets(pred_sets, y_true)"
   ]
  },
  {
   "cell_type": "markdown",
   "id": "2b569c12-9aaa-4c88-98c9-bbcd0cf3ebb8",
   "metadata": {
    "papermill": {
     "duration": 0.027673,
     "end_time": "2025-07-30T19:50:39.831250",
     "exception": false,
     "start_time": "2025-07-30T19:50:39.803577",
     "status": "completed"
    },
    "tags": []
   },
   "source": [
    "# CP Metrics"
   ]
  },
  {
   "cell_type": "code",
   "execution_count": 56,
   "id": "5ce0a5cb-201f-45a0-ade5-94c7f0bd6095",
   "metadata": {
    "execution": {
     "iopub.execute_input": "2025-07-30T19:50:39.873744Z",
     "iopub.status.busy": "2025-07-30T19:50:39.873070Z",
     "iopub.status.idle": "2025-07-30T19:50:39.882479Z",
     "shell.execute_reply": "2025-07-30T19:50:39.881319Z"
    },
    "papermill": {
     "duration": 0.029581,
     "end_time": "2025-07-30T19:50:39.884599",
     "exception": false,
     "start_time": "2025-07-30T19:50:39.855018",
     "status": "completed"
    },
    "tags": []
   },
   "outputs": [
    {
     "data": {
      "text/plain": [
       "{'coverage': 0.9126072901571731, 'avg_size': 1.1255266971352134}"
      ]
     },
     "execution_count": 56,
     "metadata": {},
     "output_type": "execute_result"
    }
   ],
   "source": [
    "metrics"
   ]
  },
  {
   "cell_type": "code",
   "execution_count": 57,
   "id": "9b9a838d-31c9-430b-ae14-12baee460d17",
   "metadata": {
    "execution": {
     "iopub.execute_input": "2025-07-30T19:50:39.936285Z",
     "iopub.status.busy": "2025-07-30T19:50:39.935762Z",
     "iopub.status.idle": "2025-07-30T19:50:39.941291Z",
     "shell.execute_reply": "2025-07-30T19:50:39.940497Z"
    },
    "papermill": {
     "duration": 0.03032,
     "end_time": "2025-07-30T19:50:39.943164",
     "exception": false,
     "start_time": "2025-07-30T19:50:39.912844",
     "status": "completed"
    },
    "tags": []
   },
   "outputs": [],
   "source": [
    "example_universe = universe.copy()\n",
    "universe_training_year = example_universe.get(\"training_year\")\n",
    "universe_training_size = example_universe.get(\"training_size\")\n",
    "universe_scale = example_universe.get(\"scale\")\n",
    "universe_model = example_universe.get(\"model\")\n",
    "universe_exclude_features = example_universe.get(\"exclude_features\")\n",
    "universe_exclude_subgroups = example_universe.get(\"exclude_subgroups\")"
   ]
  },
  {
   "cell_type": "code",
   "execution_count": 58,
   "id": "f4b6a8ac-9dc0-4245-8a91-5b3b5999c4f9",
   "metadata": {
    "execution": {
     "iopub.execute_input": "2025-07-30T19:50:39.974492Z",
     "iopub.status.busy": "2025-07-30T19:50:39.973967Z",
     "iopub.status.idle": "2025-07-30T19:50:39.980626Z",
     "shell.execute_reply": "2025-07-30T19:50:39.979489Z"
    },
    "papermill": {
     "duration": 0.024254,
     "end_time": "2025-07-30T19:50:39.982609",
     "exception": false,
     "start_time": "2025-07-30T19:50:39.958355",
     "status": "completed"
    },
    "tags": []
   },
   "outputs": [],
   "source": [
    "cp_metrics_dict = {\n",
    "    \"universe_id\": [universe_id],\n",
    "    \"universe_training_year\": [universe_training_year],\n",
    "    \"universe_training_size\": [universe_training_size],\n",
    "    \"universe_scale\": [universe_scale],\n",
    "    \"universe_model\": [universe_model],\n",
    "    \"universe_exclude_features\": [universe_exclude_features],\n",
    "    \"universe_exclude_subgroups\": [universe_exclude_subgroups],\n",
    "    \"q_hat\": [q_hat],\n",
    "    \"coverage\": [metrics[\"coverage\"]],\n",
    "    \"avg_size\": [metrics[\"avg_size\"]],\n",
    "}"
   ]
  },
  {
   "cell_type": "code",
   "execution_count": 59,
   "id": "908acbb1-0371-4915-85ca-3fa520d2efe2",
   "metadata": {
    "execution": {
     "iopub.execute_input": "2025-07-30T19:50:40.048251Z",
     "iopub.status.busy": "2025-07-30T19:50:40.047039Z",
     "iopub.status.idle": "2025-07-30T19:50:40.056191Z",
     "shell.execute_reply": "2025-07-30T19:50:40.054879Z"
    },
    "papermill": {
     "duration": 0.043903,
     "end_time": "2025-07-30T19:50:40.058489",
     "exception": false,
     "start_time": "2025-07-30T19:50:40.014586",
     "status": "completed"
    },
    "tags": []
   },
   "outputs": [
    {
     "data": {
      "text/plain": [
       "{'universe_id': ['d03d8713fe2b99cd5beb275da1751339'],\n",
       " 'universe_training_year': ['2014'],\n",
       " 'universe_training_size': ['25k'],\n",
       " 'universe_scale': ['scale'],\n",
       " 'universe_model': ['logreg'],\n",
       " 'universe_exclude_features': ['sex'],\n",
       " 'universe_exclude_subgroups': ['drop-non-german'],\n",
       " 'q_hat': [0.6756897616568349],\n",
       " 'coverage': [0.9126072901571731],\n",
       " 'avg_size': [1.1255266971352134]}"
      ]
     },
     "execution_count": 59,
     "metadata": {},
     "output_type": "execute_result"
    }
   ],
   "source": [
    "cp_metrics_dict"
   ]
  },
  {
   "cell_type": "code",
   "execution_count": 60,
   "id": "33007efc-14e9-4ec6-97ac-56a455c82265",
   "metadata": {
    "execution": {
     "iopub.execute_input": "2025-07-30T19:50:40.129045Z",
     "iopub.status.busy": "2025-07-30T19:50:40.128604Z",
     "iopub.status.idle": "2025-07-30T19:50:40.136912Z",
     "shell.execute_reply": "2025-07-30T19:50:40.135627Z"
    },
    "papermill": {
     "duration": 0.048018,
     "end_time": "2025-07-30T19:50:40.139091",
     "exception": false,
     "start_time": "2025-07-30T19:50:40.091073",
     "status": "completed"
    },
    "tags": []
   },
   "outputs": [],
   "source": [
    "cp_metrics_df = pd.DataFrame(cp_metrics_dict)"
   ]
  },
  {
   "cell_type": "code",
   "execution_count": 61,
   "id": "db12611b-57b2-4910-b9d0-355adfd6e7bf",
   "metadata": {
    "execution": {
     "iopub.execute_input": "2025-07-30T19:50:40.205856Z",
     "iopub.status.busy": "2025-07-30T19:50:40.205133Z",
     "iopub.status.idle": "2025-07-30T19:50:40.229070Z",
     "shell.execute_reply": "2025-07-30T19:50:40.227788Z"
    },
    "papermill": {
     "duration": 0.059462,
     "end_time": "2025-07-30T19:50:40.231312",
     "exception": false,
     "start_time": "2025-07-30T19:50:40.171850",
     "status": "completed"
    },
    "tags": []
   },
   "outputs": [
    {
     "data": {
      "text/html": [
       "<div>\n",
       "<style scoped>\n",
       "    .dataframe tbody tr th:only-of-type {\n",
       "        vertical-align: middle;\n",
       "    }\n",
       "\n",
       "    .dataframe tbody tr th {\n",
       "        vertical-align: top;\n",
       "    }\n",
       "\n",
       "    .dataframe thead th {\n",
       "        text-align: right;\n",
       "    }\n",
       "</style>\n",
       "<table border=\"1\" class=\"dataframe\">\n",
       "  <thead>\n",
       "    <tr style=\"text-align: right;\">\n",
       "      <th></th>\n",
       "      <th>universe_id</th>\n",
       "      <th>universe_training_year</th>\n",
       "      <th>universe_training_size</th>\n",
       "      <th>universe_scale</th>\n",
       "      <th>universe_model</th>\n",
       "      <th>universe_exclude_features</th>\n",
       "      <th>universe_exclude_subgroups</th>\n",
       "      <th>q_hat</th>\n",
       "      <th>coverage</th>\n",
       "      <th>avg_size</th>\n",
       "    </tr>\n",
       "  </thead>\n",
       "  <tbody>\n",
       "    <tr>\n",
       "      <th>0</th>\n",
       "      <td>d03d8713fe2b99cd5beb275da1751339</td>\n",
       "      <td>2014</td>\n",
       "      <td>25k</td>\n",
       "      <td>scale</td>\n",
       "      <td>logreg</td>\n",
       "      <td>sex</td>\n",
       "      <td>drop-non-german</td>\n",
       "      <td>0.67569</td>\n",
       "      <td>0.912607</td>\n",
       "      <td>1.125527</td>\n",
       "    </tr>\n",
       "  </tbody>\n",
       "</table>\n",
       "</div>"
      ],
      "text/plain": [
       "                        universe_id universe_training_year  \\\n",
       "0  d03d8713fe2b99cd5beb275da1751339                   2014   \n",
       "\n",
       "  universe_training_size universe_scale universe_model  \\\n",
       "0                    25k          scale         logreg   \n",
       "\n",
       "  universe_exclude_features universe_exclude_subgroups    q_hat  coverage  \\\n",
       "0                       sex            drop-non-german  0.67569  0.912607   \n",
       "\n",
       "   avg_size  \n",
       "0  1.125527  "
      ]
     },
     "execution_count": 61,
     "metadata": {},
     "output_type": "execute_result"
    }
   ],
   "source": [
    "cp_metrics_df"
   ]
  },
  {
   "cell_type": "code",
   "execution_count": 62,
   "id": "b7fbde55-a0a1-47e4-9af6-fe4a17fa8c61",
   "metadata": {
    "execution": {
     "iopub.execute_input": "2025-07-30T19:50:40.300268Z",
     "iopub.status.busy": "2025-07-30T19:50:40.298912Z",
     "iopub.status.idle": "2025-07-30T19:50:40.305583Z",
     "shell.execute_reply": "2025-07-30T19:50:40.304303Z"
    },
    "papermill": {
     "duration": 0.041966,
     "end_time": "2025-07-30T19:50:40.307291",
     "exception": false,
     "start_time": "2025-07-30T19:50:40.265325",
     "status": "completed"
    },
    "tags": []
   },
   "outputs": [],
   "source": [
    "# Conditional Coverage & looking at subgroups"
   ]
  },
  {
   "cell_type": "code",
   "execution_count": 63,
   "id": "027ae886-68dd-4141-96c7-805a5450e1ef",
   "metadata": {
    "execution": {
     "iopub.execute_input": "2025-07-30T19:50:40.375687Z",
     "iopub.status.busy": "2025-07-30T19:50:40.374175Z",
     "iopub.status.idle": "2025-07-30T19:50:40.711669Z",
     "shell.execute_reply": "2025-07-30T19:50:40.710477Z"
    },
    "papermill": {
     "duration": 0.372925,
     "end_time": "2025-07-30T19:50:40.713442",
     "exception": false,
     "start_time": "2025-07-30T19:50:40.340517",
     "status": "completed"
    },
    "tags": []
   },
   "outputs": [],
   "source": [
    "from fairness_multiverse.conformal import build_cp_groups\n",
    "\n",
    "cp_groups_df = build_cp_groups(pred_sets, y_true, X_test.index, org_test)\n",
    "#needs universe_id and setting"
   ]
  },
  {
   "cell_type": "code",
   "execution_count": 64,
   "id": "01d5802c-663a-4d1f-9d69-e036faaffbf7",
   "metadata": {
    "execution": {
     "iopub.execute_input": "2025-07-30T19:50:40.785788Z",
     "iopub.status.busy": "2025-07-30T19:50:40.784732Z",
     "iopub.status.idle": "2025-07-30T19:50:40.789633Z",
     "shell.execute_reply": "2025-07-30T19:50:40.788752Z"
    },
    "papermill": {
     "duration": 0.043831,
     "end_time": "2025-07-30T19:50:40.793606",
     "exception": false,
     "start_time": "2025-07-30T19:50:40.749775",
     "status": "completed"
    },
    "tags": []
   },
   "outputs": [],
   "source": [
    "#delete\n",
    "#cp_groups_df"
   ]
  },
  {
   "cell_type": "code",
   "execution_count": 65,
   "id": "fa424af1-d1eb-443d-b717-2d279ada8408",
   "metadata": {
    "execution": {
     "iopub.execute_input": "2025-07-30T19:50:40.845405Z",
     "iopub.status.busy": "2025-07-30T19:50:40.844330Z",
     "iopub.status.idle": "2025-07-30T19:50:40.850781Z",
     "shell.execute_reply": "2025-07-30T19:50:40.849590Z"
    },
    "papermill": {
     "duration": 0.04041,
     "end_time": "2025-07-30T19:50:40.852945",
     "exception": false,
     "start_time": "2025-07-30T19:50:40.812535",
     "status": "completed"
    },
    "tags": []
   },
   "outputs": [],
   "source": [
    "#delete\n",
    "#percentage = (cp_groups_df['nongerman_female'] == 1).mean() * 100\n",
    "#print(percentage)\n"
   ]
  },
  {
   "cell_type": "code",
   "execution_count": 66,
   "id": "6cbdab96-b2b2-45af-ad54-d0516db2e28d",
   "metadata": {
    "execution": {
     "iopub.execute_input": "2025-07-30T19:50:40.913089Z",
     "iopub.status.busy": "2025-07-30T19:50:40.912516Z",
     "iopub.status.idle": "2025-07-30T19:50:42.701358Z",
     "shell.execute_reply": "2025-07-30T19:50:42.700371Z"
    },
    "papermill": {
     "duration": 1.824904,
     "end_time": "2025-07-30T19:50:42.703303",
     "exception": false,
     "start_time": "2025-07-30T19:50:40.878399",
     "status": "completed"
    },
    "tags": []
   },
   "outputs": [],
   "source": [
    "# Define covered = 1 if true_label is in the predicted set\n",
    "cp_groups_df['covered'] = cp_groups_df.apply(\n",
    "    lambda r: int(r['true_label'] in r['pred_set']),\n",
    "    axis=1\n",
    ")"
   ]
  },
  {
   "cell_type": "code",
   "execution_count": 67,
   "id": "338ff529-1a6b-4b87-a931-8e4788d52aad",
   "metadata": {
    "execution": {
     "iopub.execute_input": "2025-07-30T19:50:42.762592Z",
     "iopub.status.busy": "2025-07-30T19:50:42.761840Z",
     "iopub.status.idle": "2025-07-30T19:50:42.767937Z",
     "shell.execute_reply": "2025-07-30T19:50:42.766852Z"
    },
    "papermill": {
     "duration": 0.037741,
     "end_time": "2025-07-30T19:50:42.769814",
     "exception": false,
     "start_time": "2025-07-30T19:50:42.732073",
     "status": "completed"
    },
    "tags": []
   },
   "outputs": [],
   "source": [
    "#cp_groups_df"
   ]
  },
  {
   "cell_type": "code",
   "execution_count": 68,
   "id": "90032e27-66df-4540-9169-4e89cfbaa758",
   "metadata": {
    "execution": {
     "iopub.execute_input": "2025-07-30T19:50:42.841491Z",
     "iopub.status.busy": "2025-07-30T19:50:42.840937Z",
     "iopub.status.idle": "2025-07-30T19:50:42.853782Z",
     "shell.execute_reply": "2025-07-30T19:50:42.852839Z"
    },
    "papermill": {
     "duration": 0.056238,
     "end_time": "2025-07-30T19:50:42.855560",
     "exception": false,
     "start_time": "2025-07-30T19:50:42.799322",
     "status": "completed"
    },
    "tags": []
   },
   "outputs": [],
   "source": [
    "subgroups = ['frau1','nongerman','nongerman_male','nongerman_female']\n",
    "\n",
    "# Conditional coverage for subgroup==1\n",
    "cond_coverage = {\n",
    "    g: cp_groups_df.loc[cp_groups_df[g]==1, 'covered'].mean()\n",
    "    for g in subgroups\n",
    "}"
   ]
  },
  {
   "cell_type": "code",
   "execution_count": 69,
   "id": "1e348fb1-b9c3-45bc-ba23-f016827a7e0d",
   "metadata": {
    "execution": {
     "iopub.execute_input": "2025-07-30T19:50:42.911935Z",
     "iopub.status.busy": "2025-07-30T19:50:42.911393Z",
     "iopub.status.idle": "2025-07-30T19:50:42.918294Z",
     "shell.execute_reply": "2025-07-30T19:50:42.917275Z"
    },
    "papermill": {
     "duration": 0.036602,
     "end_time": "2025-07-30T19:50:42.920160",
     "exception": false,
     "start_time": "2025-07-30T19:50:42.883558",
     "status": "completed"
    },
    "tags": []
   },
   "outputs": [
    {
     "data": {
      "text/plain": [
       "{'frau1': 0.9126566922765872,\n",
       " 'nongerman': 0.9121989558187841,\n",
       " 'nongerman_male': 0.9269566783752139,\n",
       " 'nongerman_female': 0.887779433681073}"
      ]
     },
     "execution_count": 69,
     "metadata": {},
     "output_type": "execute_result"
    }
   ],
   "source": [
    "cond_coverage"
   ]
  },
  {
   "cell_type": "code",
   "execution_count": 70,
   "id": "f5093324-c3dd-4d63-bc4c-8d945e5c8bbb",
   "metadata": {
    "execution": {
     "iopub.execute_input": "2025-07-30T19:50:42.978464Z",
     "iopub.status.busy": "2025-07-30T19:50:42.977969Z",
     "iopub.status.idle": "2025-07-30T19:50:42.985712Z",
     "shell.execute_reply": "2025-07-30T19:50:42.984671Z"
    },
    "papermill": {
     "duration": 0.039017,
     "end_time": "2025-07-30T19:50:42.987260",
     "exception": false,
     "start_time": "2025-07-30T19:50:42.948243",
     "status": "completed"
    },
    "tags": []
   },
   "outputs": [],
   "source": [
    "for subgroup, cov in cond_coverage.items():\n",
    "    cp_metrics_df[f\"cov_{subgroup}\"] = cov"
   ]
  },
  {
   "cell_type": "code",
   "execution_count": 71,
   "id": "6e872e10-dbe5-49e8-b554-5030c98ff75d",
   "metadata": {
    "execution": {
     "iopub.execute_input": "2025-07-30T19:50:43.048159Z",
     "iopub.status.busy": "2025-07-30T19:50:43.047385Z",
     "iopub.status.idle": "2025-07-30T19:50:43.067129Z",
     "shell.execute_reply": "2025-07-30T19:50:43.066119Z"
    },
    "papermill": {
     "duration": 0.051938,
     "end_time": "2025-07-30T19:50:43.068800",
     "exception": false,
     "start_time": "2025-07-30T19:50:43.016862",
     "status": "completed"
    },
    "tags": []
   },
   "outputs": [
    {
     "data": {
      "text/html": [
       "<div>\n",
       "<style scoped>\n",
       "    .dataframe tbody tr th:only-of-type {\n",
       "        vertical-align: middle;\n",
       "    }\n",
       "\n",
       "    .dataframe tbody tr th {\n",
       "        vertical-align: top;\n",
       "    }\n",
       "\n",
       "    .dataframe thead th {\n",
       "        text-align: right;\n",
       "    }\n",
       "</style>\n",
       "<table border=\"1\" class=\"dataframe\">\n",
       "  <thead>\n",
       "    <tr style=\"text-align: right;\">\n",
       "      <th></th>\n",
       "      <th>universe_id</th>\n",
       "      <th>universe_training_year</th>\n",
       "      <th>universe_training_size</th>\n",
       "      <th>universe_scale</th>\n",
       "      <th>universe_model</th>\n",
       "      <th>universe_exclude_features</th>\n",
       "      <th>universe_exclude_subgroups</th>\n",
       "      <th>q_hat</th>\n",
       "      <th>coverage</th>\n",
       "      <th>avg_size</th>\n",
       "      <th>cov_frau1</th>\n",
       "      <th>cov_nongerman</th>\n",
       "      <th>cov_nongerman_male</th>\n",
       "      <th>cov_nongerman_female</th>\n",
       "    </tr>\n",
       "  </thead>\n",
       "  <tbody>\n",
       "    <tr>\n",
       "      <th>0</th>\n",
       "      <td>d03d8713fe2b99cd5beb275da1751339</td>\n",
       "      <td>2014</td>\n",
       "      <td>25k</td>\n",
       "      <td>scale</td>\n",
       "      <td>logreg</td>\n",
       "      <td>sex</td>\n",
       "      <td>drop-non-german</td>\n",
       "      <td>0.67569</td>\n",
       "      <td>0.912607</td>\n",
       "      <td>1.125527</td>\n",
       "      <td>0.912657</td>\n",
       "      <td>0.912199</td>\n",
       "      <td>0.926957</td>\n",
       "      <td>0.887779</td>\n",
       "    </tr>\n",
       "  </tbody>\n",
       "</table>\n",
       "</div>"
      ],
      "text/plain": [
       "                        universe_id universe_training_year  \\\n",
       "0  d03d8713fe2b99cd5beb275da1751339                   2014   \n",
       "\n",
       "  universe_training_size universe_scale universe_model  \\\n",
       "0                    25k          scale         logreg   \n",
       "\n",
       "  universe_exclude_features universe_exclude_subgroups    q_hat  coverage  \\\n",
       "0                       sex            drop-non-german  0.67569  0.912607   \n",
       "\n",
       "   avg_size  cov_frau1  cov_nongerman  cov_nongerman_male  \\\n",
       "0  1.125527   0.912657       0.912199            0.926957   \n",
       "\n",
       "   cov_nongerman_female  \n",
       "0              0.887779  "
      ]
     },
     "execution_count": 71,
     "metadata": {},
     "output_type": "execute_result"
    }
   ],
   "source": [
    "cp_metrics_df"
   ]
  },
  {
   "cell_type": "markdown",
   "id": "33774451",
   "metadata": {
    "papermill": {
     "duration": 0.023931,
     "end_time": "2025-07-30T19:50:43.122302",
     "exception": false,
     "start_time": "2025-07-30T19:50:43.098371",
     "status": "completed"
    },
    "tags": []
   },
   "source": [
    "# (Fairness) Metrics"
   ]
  },
  {
   "cell_type": "code",
   "execution_count": 72,
   "id": "debc5d62",
   "metadata": {
    "execution": {
     "iopub.execute_input": "2025-07-30T19:50:43.159462Z",
     "iopub.status.busy": "2025-07-30T19:50:43.158953Z",
     "iopub.status.idle": "2025-07-30T19:50:43.173676Z",
     "shell.execute_reply": "2025-07-30T19:50:43.172833Z"
    },
    "papermill": {
     "duration": 0.031755,
     "end_time": "2025-07-30T19:50:43.174926",
     "exception": false,
     "start_time": "2025-07-30T19:50:43.143171",
     "status": "completed"
    },
    "tags": []
   },
   "outputs": [],
   "source": [
    "# do I need to include maxdeutsch1.missing?\n",
    "\n",
    "import numpy as np\n",
    "\n",
    "colname_to_bin = \"maxdeutsch1\"\n",
    "majority_value = org_train[colname_to_bin].mode()[0]\n",
    "\n",
    "org_test[\"majmin\"] = np.where(org_test[colname_to_bin] == majority_value, \"majority\", \"minority\")"
   ]
  },
  {
   "cell_type": "code",
   "execution_count": 73,
   "id": "06a50de5",
   "metadata": {
    "execution": {
     "iopub.execute_input": "2025-07-30T19:50:43.204699Z",
     "iopub.status.busy": "2025-07-30T19:50:43.204399Z",
     "iopub.status.idle": "2025-07-30T19:50:45.516073Z",
     "shell.execute_reply": "2025-07-30T19:50:45.515055Z"
    },
    "papermill": {
     "duration": 2.32789,
     "end_time": "2025-07-30T19:50:45.517792",
     "exception": false,
     "start_time": "2025-07-30T19:50:43.189902",
     "status": "completed"
    },
    "tags": []
   },
   "outputs": [],
   "source": [
    "example_universe = universe.copy()\n",
    "example_universe[\"cutoff\"] = example_universe[\"cutoff\"][0]\n",
    "example_universe[\"eval_fairness_grouping\"] = example_universe[\"eval_fairness_grouping\"][0]\n",
    "fairness_dict, metric_frame = universe_analysis.compute_metrics(\n",
    "    example_universe,\n",
    "    y_pred_prob=probs_test,\n",
    "    y_test=y_true,\n",
    "    org_test=org_test,\n",
    ")"
   ]
  },
  {
   "cell_type": "markdown",
   "id": "f95d4e02",
   "metadata": {
    "papermill": {
     "duration": 0.025103,
     "end_time": "2025-07-30T19:50:45.570184",
     "exception": false,
     "start_time": "2025-07-30T19:50:45.545081",
     "status": "completed"
    },
    "tags": []
   },
   "source": [
    "# Overall"
   ]
  },
  {
   "cell_type": "markdown",
   "id": "bdee4871",
   "metadata": {
    "papermill": {
     "duration": 0.013449,
     "end_time": "2025-07-30T19:50:45.618967",
     "exception": false,
     "start_time": "2025-07-30T19:50:45.605518",
     "status": "completed"
    },
    "tags": []
   },
   "source": [
    "Fairness\n",
    "Main fairness target: Equalized Odds. Seems to be a better fit than equal opportunity, since we're not only interested in Y = 1. Seems to be a better fit than demographic parity, since we also care about accuracy, not just equal distribution of preds.\n",
    "\n",
    "Pick column for computation of fairness metrics\n",
    "\n",
    "Performance\n",
    "Overall performance measures, most interesting in relation to the measures split by group below"
   ]
  },
  {
   "cell_type": "code",
   "execution_count": 74,
   "id": "c4e067c6",
   "metadata": {
    "execution": {
     "iopub.execute_input": "2025-07-30T19:50:45.651249Z",
     "iopub.status.busy": "2025-07-30T19:50:45.650703Z",
     "iopub.status.idle": "2025-07-30T19:50:45.658022Z",
     "shell.execute_reply": "2025-07-30T19:50:45.657360Z"
    },
    "papermill": {
     "duration": 0.027024,
     "end_time": "2025-07-30T19:50:45.659382",
     "exception": false,
     "start_time": "2025-07-30T19:50:45.632358",
     "status": "completed"
    },
    "tags": []
   },
   "outputs": [
    {
     "data": {
      "text/plain": [
       "accuracy                   0.225404\n",
       "balanced accuracy          0.550928\n",
       "f1                         0.246707\n",
       "precision                  0.140936\n",
       "false positive rate        0.886934\n",
       "false negative rate        0.011210\n",
       "selection rate             0.900000\n",
       "count                  89710.000000\n",
       "dtype: float64"
      ]
     },
     "execution_count": 74,
     "metadata": {},
     "output_type": "execute_result"
    }
   ],
   "source": [
    "metric_frame.overall"
   ]
  },
  {
   "cell_type": "markdown",
   "id": "e968fe9d",
   "metadata": {
    "papermill": {
     "duration": 0.014529,
     "end_time": "2025-07-30T19:50:45.687768",
     "exception": false,
     "start_time": "2025-07-30T19:50:45.673239",
     "status": "completed"
    },
    "tags": []
   },
   "source": [
    "By Group"
   ]
  },
  {
   "cell_type": "code",
   "execution_count": 75,
   "id": "ec325bce",
   "metadata": {
    "execution": {
     "iopub.execute_input": "2025-07-30T19:50:45.720824Z",
     "iopub.status.busy": "2025-07-30T19:50:45.720317Z",
     "iopub.status.idle": "2025-07-30T19:50:45.732275Z",
     "shell.execute_reply": "2025-07-30T19:50:45.731481Z"
    },
    "papermill": {
     "duration": 0.030136,
     "end_time": "2025-07-30T19:50:45.733664",
     "exception": false,
     "start_time": "2025-07-30T19:50:45.703528",
     "status": "completed"
    },
    "tags": []
   },
   "outputs": [
    {
     "data": {
      "text/html": [
       "<div>\n",
       "<style scoped>\n",
       "    .dataframe tbody tr th:only-of-type {\n",
       "        vertical-align: middle;\n",
       "    }\n",
       "\n",
       "    .dataframe tbody tr th {\n",
       "        vertical-align: top;\n",
       "    }\n",
       "\n",
       "    .dataframe thead th {\n",
       "        text-align: right;\n",
       "    }\n",
       "</style>\n",
       "<table border=\"1\" class=\"dataframe\">\n",
       "  <thead>\n",
       "    <tr style=\"text-align: right;\">\n",
       "      <th></th>\n",
       "      <th>accuracy</th>\n",
       "      <th>balanced accuracy</th>\n",
       "      <th>f1</th>\n",
       "      <th>precision</th>\n",
       "      <th>false positive rate</th>\n",
       "      <th>false negative rate</th>\n",
       "      <th>selection rate</th>\n",
       "      <th>count</th>\n",
       "    </tr>\n",
       "    <tr>\n",
       "      <th>majmin</th>\n",
       "      <th></th>\n",
       "      <th></th>\n",
       "      <th></th>\n",
       "      <th></th>\n",
       "      <th></th>\n",
       "      <th></th>\n",
       "      <th></th>\n",
       "      <th></th>\n",
       "    </tr>\n",
       "  </thead>\n",
       "  <tbody>\n",
       "    <tr>\n",
       "      <th>majority</th>\n",
       "      <td>0.24648</td>\n",
       "      <td>0.560635</td>\n",
       "      <td>0.257271</td>\n",
       "      <td>0.147899</td>\n",
       "      <td>0.866367</td>\n",
       "      <td>0.012363</td>\n",
       "      <td>0.882391</td>\n",
       "      <td>69170.0</td>\n",
       "    </tr>\n",
       "    <tr>\n",
       "      <th>minority</th>\n",
       "      <td>0.15443</td>\n",
       "      <td>0.519184</td>\n",
       "      <td>0.213121</td>\n",
       "      <td>0.119367</td>\n",
       "      <td>0.954876</td>\n",
       "      <td>0.006757</td>\n",
       "      <td>0.959299</td>\n",
       "      <td>20540.0</td>\n",
       "    </tr>\n",
       "  </tbody>\n",
       "</table>\n",
       "</div>"
      ],
      "text/plain": [
       "          accuracy  balanced accuracy        f1  precision  \\\n",
       "majmin                                                       \n",
       "majority   0.24648           0.560635  0.257271   0.147899   \n",
       "minority   0.15443           0.519184  0.213121   0.119367   \n",
       "\n",
       "          false positive rate  false negative rate  selection rate    count  \n",
       "majmin                                                                       \n",
       "majority             0.866367             0.012363        0.882391  69170.0  \n",
       "minority             0.954876             0.006757        0.959299  20540.0  "
      ]
     },
     "execution_count": 75,
     "metadata": {},
     "output_type": "execute_result"
    }
   ],
   "source": [
    "metric_frame.by_group"
   ]
  },
  {
   "cell_type": "code",
   "execution_count": 76,
   "id": "a9ddbe63",
   "metadata": {
    "execution": {
     "iopub.execute_input": "2025-07-30T19:50:45.762999Z",
     "iopub.status.busy": "2025-07-30T19:50:45.762649Z",
     "iopub.status.idle": "2025-07-30T19:50:47.968926Z",
     "shell.execute_reply": "2025-07-30T19:50:47.967946Z"
    },
    "papermill": {
     "duration": 2.222375,
     "end_time": "2025-07-30T19:50:47.970532",
     "exception": false,
     "start_time": "2025-07-30T19:50:45.748157",
     "status": "completed"
    },
    "tags": []
   },
   "outputs": [
    {
     "data": {
      "text/plain": [
       "array([[<Axes: title={'center': 'accuracy'}, xlabel='majmin'>,\n",
       "        <Axes: title={'center': 'balanced accuracy'}, xlabel='majmin'>,\n",
       "        <Axes: title={'center': 'f1'}, xlabel='majmin'>],\n",
       "       [<Axes: title={'center': 'precision'}, xlabel='majmin'>,\n",
       "        <Axes: title={'center': 'false positive rate'}, xlabel='majmin'>,\n",
       "        <Axes: title={'center': 'false negative rate'}, xlabel='majmin'>],\n",
       "       [<Axes: title={'center': 'selection rate'}, xlabel='majmin'>,\n",
       "        <Axes: title={'center': 'count'}, xlabel='majmin'>,\n",
       "        <Axes: xlabel='majmin'>]], dtype=object)"
      ]
     },
     "execution_count": 76,
     "metadata": {},
     "output_type": "execute_result"
    },
    {
     "data": {
      "image/png": "[encoded data removed]",
      "text/plain": [
       "<Figure size 1200x800 with 9 Axes>"
      ]
     },
     "metadata": {},
     "output_type": "display_data"
    }
   ],
   "source": [
    "# In a graphic\n",
    "metric_frame.by_group.plot.bar(\n",
    "    subplots=True,\n",
    "    layout=[3, 3],\n",
    "    legend=False,\n",
    "    figsize=[12, 8],\n",
    "    title=\"Show all metrics\",\n",
    ")"
   ]
  },
  {
   "cell_type": "markdown",
   "id": "f57a0bac",
   "metadata": {
    "papermill": {
     "duration": 0.024736,
     "end_time": "2025-07-30T19:50:48.025978",
     "exception": false,
     "start_time": "2025-07-30T19:50:48.001242",
     "status": "completed"
    },
    "tags": []
   },
   "source": [
    "# Final Output"
   ]
  },
  {
   "cell_type": "code",
   "execution_count": 77,
   "id": "96d280a3",
   "metadata": {
    "execution": {
     "iopub.execute_input": "2025-07-30T19:50:48.057744Z",
     "iopub.status.busy": "2025-07-30T19:50:48.057056Z",
     "iopub.status.idle": "2025-07-30T19:50:48.065835Z",
     "shell.execute_reply": "2025-07-30T19:50:48.065172Z"
    },
    "papermill": {
     "duration": 0.026194,
     "end_time": "2025-07-30T19:50:48.067014",
     "exception": false,
     "start_time": "2025-07-30T19:50:48.040820",
     "status": "completed"
    },
    "tags": []
   },
   "outputs": [
    {
     "data": {
      "text/plain": [
       "4"
      ]
     },
     "execution_count": 77,
     "metadata": {},
     "output_type": "execute_result"
    }
   ],
   "source": [
    "sub_universes = universe_analysis.generate_sub_universes()\n",
    "len(sub_universes)"
   ]
  },
  {
   "cell_type": "code",
   "execution_count": 78,
   "id": "92adf7ba",
   "metadata": {
    "execution": {
     "iopub.execute_input": "2025-07-30T19:50:48.102715Z",
     "iopub.status.busy": "2025-07-30T19:50:48.102020Z",
     "iopub.status.idle": "2025-07-30T19:50:48.107239Z",
     "shell.execute_reply": "2025-07-30T19:50:48.106562Z"
    },
    "papermill": {
     "duration": 0.02293,
     "end_time": "2025-07-30T19:50:48.108592",
     "exception": false,
     "start_time": "2025-07-30T19:50:48.085662",
     "status": "completed"
    },
    "tags": []
   },
   "outputs": [],
   "source": [
    "def filter_sub_universe_data(sub_universe, org_test):\n",
    "    # Keep all rows — no filtering\n",
    "    keep_rows_mask = np.ones(org_test.shape[0], dtype=bool)\n",
    "\n",
    "    print(f\"[INFO] Keeping all rows: {keep_rows_mask.sum()} rows retained.\")\n",
    "    return keep_rows_mask"
   ]
  },
  {
   "cell_type": "code",
   "execution_count": 79,
   "id": "4a759155",
   "metadata": {
    "execution": {
     "iopub.execute_input": "2025-07-30T19:50:48.141935Z",
     "iopub.status.busy": "2025-07-30T19:50:48.141374Z",
     "iopub.status.idle": "2025-07-30T19:50:57.797912Z",
     "shell.execute_reply": "2025-07-30T19:50:57.796947Z"
    },
    "papermill": {
     "duration": 9.675548,
     "end_time": "2025-07-30T19:50:57.799552",
     "exception": false,
     "start_time": "2025-07-30T19:50:48.124004",
     "status": "completed"
    },
    "tags": []
   },
   "outputs": [
    {
     "name": "stdout",
     "output_type": "stream",
     "text": [
      "Stopping execution_time clock.\n",
      "[INFO] Keeping all rows: 89710 rows retained.\n"
     ]
    },
    {
     "name": "stdout",
     "output_type": "stream",
     "text": [
      "[INFO] Keeping all rows: 89710 rows retained.\n"
     ]
    },
    {
     "name": "stdout",
     "output_type": "stream",
     "text": [
      "[INFO] Keeping all rows: 89710 rows retained.\n"
     ]
    },
    {
     "name": "stdout",
     "output_type": "stream",
     "text": [
      "[INFO] Keeping all rows: 89710 rows retained.\n"
     ]
    },
    {
     "data": {
      "text/html": [
       "<div>\n",
       "<style scoped>\n",
       "    .dataframe tbody tr th:only-of-type {\n",
       "        vertical-align: middle;\n",
       "    }\n",
       "\n",
       "    .dataframe tbody tr th {\n",
       "        vertical-align: top;\n",
       "    }\n",
       "\n",
       "    .dataframe thead th {\n",
       "        text-align: right;\n",
       "    }\n",
       "</style>\n",
       "<table border=\"1\" class=\"dataframe\">\n",
       "  <thead>\n",
       "    <tr style=\"text-align: right;\">\n",
       "      <th></th>\n",
       "      <th>run_no</th>\n",
       "      <th>universe_id</th>\n",
       "      <th>universe_settings</th>\n",
       "      <th>execution_time</th>\n",
       "      <th>test_size_n</th>\n",
       "      <th>test_size_frac</th>\n",
       "      <th>fair_main_equalized_odds_difference</th>\n",
       "      <th>fair_main_equalized_odds_ratio</th>\n",
       "      <th>fair_main_demographic_parity_difference</th>\n",
       "      <th>fair_main_demographic_parity_ratio</th>\n",
       "      <th>...</th>\n",
       "      <th>perf_grp_precision_0</th>\n",
       "      <th>perf_grp_precision_1</th>\n",
       "      <th>perf_grp_false positive rate_0</th>\n",
       "      <th>perf_grp_false positive rate_1</th>\n",
       "      <th>perf_grp_false negative rate_0</th>\n",
       "      <th>perf_grp_false negative rate_1</th>\n",
       "      <th>perf_grp_selection rate_0</th>\n",
       "      <th>perf_grp_selection rate_1</th>\n",
       "      <th>perf_grp_count_0</th>\n",
       "      <th>perf_grp_count_1</th>\n",
       "    </tr>\n",
       "  </thead>\n",
       "  <tbody>\n",
       "    <tr>\n",
       "      <th>0</th>\n",
       "      <td>14</td>\n",
       "      <td>d03d8713fe2b99cd5beb275da1751339</td>\n",
       "      <td>{\"cutoff\": \"quantile_0.1\", \"eval_fairness_grou...</td>\n",
       "      <td>24.837202</td>\n",
       "      <td>89710</td>\n",
       "      <td>1.0</td>\n",
       "      <td>0.088509</td>\n",
       "      <td>0.907309</td>\n",
       "      <td>0.076908</td>\n",
       "      <td>0.919829</td>\n",
       "      <td>...</td>\n",
       "      <td>NaN</td>\n",
       "      <td>NaN</td>\n",
       "      <td>NaN</td>\n",
       "      <td>NaN</td>\n",
       "      <td>NaN</td>\n",
       "      <td>NaN</td>\n",
       "      <td>NaN</td>\n",
       "      <td>NaN</td>\n",
       "      <td>NaN</td>\n",
       "      <td>NaN</td>\n",
       "    </tr>\n",
       "    <tr>\n",
       "      <th>0</th>\n",
       "      <td>14</td>\n",
       "      <td>d03d8713fe2b99cd5beb275da1751339</td>\n",
       "      <td>{\"cutoff\": \"quantile_0.1\", \"eval_fairness_grou...</td>\n",
       "      <td>24.837202</td>\n",
       "      <td>89710</td>\n",
       "      <td>1.0</td>\n",
       "      <td>0.088509</td>\n",
       "      <td>0.907309</td>\n",
       "      <td>0.076908</td>\n",
       "      <td>0.919829</td>\n",
       "      <td>...</td>\n",
       "      <td>0.119367</td>\n",
       "      <td>0.147899</td>\n",
       "      <td>0.954876</td>\n",
       "      <td>0.866367</td>\n",
       "      <td>0.006757</td>\n",
       "      <td>0.012363</td>\n",
       "      <td>0.959299</td>\n",
       "      <td>0.882391</td>\n",
       "      <td>20540.0</td>\n",
       "      <td>69170.0</td>\n",
       "    </tr>\n",
       "    <tr>\n",
       "      <th>0</th>\n",
       "      <td>14</td>\n",
       "      <td>d03d8713fe2b99cd5beb275da1751339</td>\n",
       "      <td>{\"cutoff\": \"quantile_0.25\", \"eval_fairness_gro...</td>\n",
       "      <td>24.837202</td>\n",
       "      <td>89710</td>\n",
       "      <td>1.0</td>\n",
       "      <td>0.157205</td>\n",
       "      <td>0.813103</td>\n",
       "      <td>0.135638</td>\n",
       "      <td>0.841281</td>\n",
       "      <td>...</td>\n",
       "      <td>NaN</td>\n",
       "      <td>NaN</td>\n",
       "      <td>NaN</td>\n",
       "      <td>NaN</td>\n",
       "      <td>NaN</td>\n",
       "      <td>NaN</td>\n",
       "      <td>NaN</td>\n",
       "      <td>NaN</td>\n",
       "      <td>NaN</td>\n",
       "      <td>NaN</td>\n",
       "    </tr>\n",
       "    <tr>\n",
       "      <th>0</th>\n",
       "      <td>14</td>\n",
       "      <td>d03d8713fe2b99cd5beb275da1751339</td>\n",
       "      <td>{\"cutoff\": \"quantile_0.25\", \"eval_fairness_gro...</td>\n",
       "      <td>24.837202</td>\n",
       "      <td>89710</td>\n",
       "      <td>1.0</td>\n",
       "      <td>0.157205</td>\n",
       "      <td>0.813103</td>\n",
       "      <td>0.135638</td>\n",
       "      <td>0.841281</td>\n",
       "      <td>...</td>\n",
       "      <td>0.129209</td>\n",
       "      <td>0.174405</td>\n",
       "      <td>0.841129</td>\n",
       "      <td>0.683925</td>\n",
       "      <td>0.042230</td>\n",
       "      <td>0.051094</td>\n",
       "      <td>0.854576</td>\n",
       "      <td>0.718939</td>\n",
       "      <td>20540.0</td>\n",
       "      <td>69170.0</td>\n",
       "    </tr>\n",
       "  </tbody>\n",
       "</table>\n",
       "<p>4 rows × 50 columns</p>\n",
       "</div>"
      ],
      "text/plain": [
       "  run_no                       universe_id  \\\n",
       "0     14  d03d8713fe2b99cd5beb275da1751339   \n",
       "0     14  d03d8713fe2b99cd5beb275da1751339   \n",
       "0     14  d03d8713fe2b99cd5beb275da1751339   \n",
       "0     14  d03d8713fe2b99cd5beb275da1751339   \n",
       "\n",
       "                                   universe_settings  execution_time  \\\n",
       "0  {\"cutoff\": \"quantile_0.1\", \"eval_fairness_grou...       24.837202   \n",
       "0  {\"cutoff\": \"quantile_0.1\", \"eval_fairness_grou...       24.837202   \n",
       "0  {\"cutoff\": \"quantile_0.25\", \"eval_fairness_gro...       24.837202   \n",
       "0  {\"cutoff\": \"quantile_0.25\", \"eval_fairness_gro...       24.837202   \n",
       "\n",
       "   test_size_n  test_size_frac  fair_main_equalized_odds_difference  \\\n",
       "0        89710             1.0                             0.088509   \n",
       "0        89710             1.0                             0.088509   \n",
       "0        89710             1.0                             0.157205   \n",
       "0        89710             1.0                             0.157205   \n",
       "\n",
       "   fair_main_equalized_odds_ratio  fair_main_demographic_parity_difference  \\\n",
       "0                        0.907309                                 0.076908   \n",
       "0                        0.907309                                 0.076908   \n",
       "0                        0.813103                                 0.135638   \n",
       "0                        0.813103                                 0.135638   \n",
       "\n",
       "   fair_main_demographic_parity_ratio  ...  perf_grp_precision_0  \\\n",
       "0                            0.919829  ...                   NaN   \n",
       "0                            0.919829  ...              0.119367   \n",
       "0                            0.841281  ...                   NaN   \n",
       "0                            0.841281  ...              0.129209   \n",
       "\n",
       "   perf_grp_precision_1  perf_grp_false positive rate_0  \\\n",
       "0                   NaN                             NaN   \n",
       "0              0.147899                        0.954876   \n",
       "0                   NaN                             NaN   \n",
       "0              0.174405                        0.841129   \n",
       "\n",
       "   perf_grp_false positive rate_1  perf_grp_false negative rate_0  \\\n",
       "0                             NaN                             NaN   \n",
       "0                        0.866367                        0.006757   \n",
       "0                             NaN                             NaN   \n",
       "0                        0.683925                        0.042230   \n",
       "\n",
       "   perf_grp_false negative rate_1  perf_grp_selection rate_0  \\\n",
       "0                             NaN                        NaN   \n",
       "0                        0.012363                   0.959299   \n",
       "0                             NaN                        NaN   \n",
       "0                        0.051094                   0.854576   \n",
       "\n",
       "   perf_grp_selection rate_1  perf_grp_count_0  perf_grp_count_1  \n",
       "0                        NaN               NaN               NaN  \n",
       "0                   0.882391           20540.0           69170.0  \n",
       "0                        NaN               NaN               NaN  \n",
       "0                   0.718939           20540.0           69170.0  \n",
       "\n",
       "[4 rows x 50 columns]"
      ]
     },
     "execution_count": 79,
     "metadata": {},
     "output_type": "execute_result"
    }
   ],
   "source": [
    "final_output = universe_analysis.generate_final_output(\n",
    "    y_pred_prob=probs_test,\n",
    "    y_test=y_true,\n",
    "    org_test=org_test,\n",
    "    filter_data=filter_sub_universe_data,\n",
    "    cp_metrics_df=cp_metrics_df,\n",
    "    save=True,\n",
    ")\n",
    "final_output"
   ]
  },
  {
   "cell_type": "code",
   "execution_count": null,
   "id": "721ff514-cb11-46f8-b6fc-50392f74b5cb",
   "metadata": {
    "papermill": {
     "duration": 0.027404,
     "end_time": "2025-07-30T19:50:57.858662",
     "exception": false,
     "start_time": "2025-07-30T19:50:57.831258",
     "status": "completed"
    },
    "tags": []
   },
   "outputs": [],
   "source": []
  }
 ],
 "metadata": {
  "celltoolbar": "Tags",
  "kernelspec": {
   "display_name": "Python (CMA Fairness)",
   "language": "python",
   "name": "cma_fair_env"
  },
  "language_info": {
   "codemirror_mode": {
    "name": "ipython",
    "version": 3
   },
   "file_extension": ".py",
   "mimetype": "text/x-python",
   "name": "python",
   "nbconvert_exporter": "python",
   "pygments_lexer": "ipython3",
   "version": "3.10.12"
  },
  "papermill": {
   "default_parameters": {},
   "duration": 39.636839,
   "end_time": "2025-07-30T19:50:58.606892",
   "environment_variables": {},
   "exception": null,
   "input_path": "universe_analysis.ipynb",
   "output_path": "output/runs/14/notebooks/m_14-d03d8713fe2b99cd5beb275da1751339.ipynb",
   "parameters": {
    "output_dir": "output",
    "run_no": "14",
    "seed": "2023",
    "universe": "{\"cutoff\": [\"quantile_0.1\", \"quantile_0.25\"], \"eval_fairness_grouping\": [\"majority-minority\", \"nationality-all\"], \"exclude_features\": \"sex\", \"exclude_subgroups\": \"drop-non-german\", \"model\": \"logreg\", \"scale\": \"scale\", \"training_size\": \"25k\", \"training_year\": \"2014\"}",
    "universe_id": "d03d8713fe2b99cd5beb275da1751339"
   },
   "start_time": "2025-07-30T19:50:18.970053",
   "version": "2.6.0"
  }
 },
 "nbformat": 4,
 "nbformat_minor": 5
}