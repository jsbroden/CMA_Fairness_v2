{
 "cells": [
  {
   "cell_type": "code",
   "execution_count": 1,
   "id": "f159f837-637b-42ba-96b5-ec9a68c44524",
   "metadata": {
    "execution": {
     "iopub.execute_input": "2025-07-30T19:57:45.143054Z",
     "iopub.status.busy": "2025-07-30T19:57:45.142569Z",
     "iopub.status.idle": "2025-07-30T19:57:45.156311Z",
     "shell.execute_reply": "2025-07-30T19:57:45.155257Z"
    },
    "papermill": {
     "duration": 0.037197,
     "end_time": "2025-07-30T19:57:45.157923",
     "exception": false,
     "start_time": "2025-07-30T19:57:45.120726",
     "status": "completed"
    },
    "tags": []
   },
   "outputs": [
    {
     "name": "stdout",
     "output_type": "stream",
     "text": [
      "/dss/dsshome1/0C/ra93lal2/cma/CMA_Fairness_v2\n"
     ]
    },
    {
     "name": "stderr",
     "output_type": "stream",
     "text": [
      "/dss/dsshome1/0C/ra93lal2/.local/share/virtualenvs/CMA_Fairness_v2-3j10GkSs/lib/python3.10/site-packages/IPython/core/magics/osm.py:393: UserWarning: This is now an optional IPython functionality, using bookmarks requires you to install the `pickleshare` library.\n",
      "  bkms = self.shell.db.get('bookmarks', {})\n",
      "/dss/dsshome1/0C/ra93lal2/.local/share/virtualenvs/CMA_Fairness_v2-3j10GkSs/lib/python3.10/site-packages/IPython/core/magics/osm.py:417: UserWarning: This is now an optional IPython functionality, setting dhist requires you to install the `pickleshare` library.\n",
      "  self.shell.db['dhist'] = compress_dhist(dhist)[-100:]\n"
     ]
    }
   ],
   "source": [
    "%cd ~/cma/CMA_Fairness_v2"
   ]
  },
  {
   "cell_type": "markdown",
   "id": "de2603b9",
   "metadata": {
    "papermill": {
     "duration": 0.020318,
     "end_time": "2025-07-30T19:57:45.198431",
     "exception": false,
     "start_time": "2025-07-30T19:57:45.178113",
     "status": "completed"
    },
    "tags": []
   },
   "source": [
    "The following cell holds the definition of our parameters, these values can be overriden by rendering the with e.g. the following command:\n",
    "\n",
    "papermill -p alpha 0.2 -p ratio 0.3 universe_analysis.ipynb output/test_run.ipynb"
   ]
  },
  {
   "cell_type": "code",
   "execution_count": 2,
   "id": "a80968a0-40bb-4fa9-85ef-2d5eefb01975",
   "metadata": {
    "execution": {
     "iopub.execute_input": "2025-07-30T19:57:45.239989Z",
     "iopub.status.busy": "2025-07-30T19:57:45.239294Z",
     "iopub.status.idle": "2025-07-30T19:57:45.244737Z",
     "shell.execute_reply": "2025-07-30T19:57:45.243774Z"
    },
    "papermill": {
     "duration": 0.027854,
     "end_time": "2025-07-30T19:57:45.246370",
     "exception": false,
     "start_time": "2025-07-30T19:57:45.218516",
     "status": "completed"
    },
    "tags": []
   },
   "outputs": [
    {
     "name": "stdout",
     "output_type": "stream",
     "text": [
      "Current working directory: /dss/dsshome1/0C/ra93lal2/cma/CMA_Fairness_v2\n"
     ]
    }
   ],
   "source": [
    "import os\n",
    "print(\"Current working directory:\", os.getcwd())"
   ]
  },
  {
   "cell_type": "code",
   "execution_count": 3,
   "id": "2dce4c03",
   "metadata": {
    "execution": {
     "iopub.execute_input": "2025-07-30T19:57:45.289093Z",
     "iopub.status.busy": "2025-07-30T19:57:45.288454Z",
     "iopub.status.idle": "2025-07-30T19:57:45.294822Z",
     "shell.execute_reply": "2025-07-30T19:57:45.293834Z"
    },
    "papermill": {
     "duration": 0.029031,
     "end_time": "2025-07-30T19:57:45.296575",
     "exception": false,
     "start_time": "2025-07-30T19:57:45.267544",
     "status": "completed"
    },
    "tags": [
     "parameters"
    ]
   },
   "outputs": [],
   "source": [
    "run_no = 0\n",
    "universe_id = \"test\"\n",
    "universe = {\n",
    "    \"training_size\": \"25k\", # \"25k\", \"5k\", \"1k\"\n",
    "    \"training_year\": \"2014\", # \"2014\", \"2012_14\", \"2010_14\"\n",
    "    \"scale\": \"scale\", # \"scale\", \"do-not-scale\",\n",
    "    #\"stratify_split\": \"target\", # \"none\", \"target\", \"protected-attribute\", \"both\",\n",
    "    \"model\": \"elasticnet\", # \"logreg\", \"penalized_logreg\", \"rf\", \"gbm\", \"elasticnet\"\n",
    "    \"cutoff\": [\"quantile_0.15\", \"quantile_0.30\"],\n",
    "    \"exclude_features\": \"age\", # \"none\", \"nationality\", \"sex\", \"nationality-sex\", \"age\"\n",
    "    \"exclude_subgroups\": \"keep-all\", # \"keep-all\", \"drop-non-german\"\n",
    "    \"eval_fairness_grouping\": [\"majority-minority\", \"nationality-all\"]\n",
    "}\n",
    "\n",
    "output_dir=\"./output\"\n",
    "seed=0"
   ]
  },
  {
   "cell_type": "code",
   "execution_count": 4,
   "id": "c409413f",
   "metadata": {
    "execution": {
     "iopub.execute_input": "2025-07-30T19:57:45.338721Z",
     "iopub.status.busy": "2025-07-30T19:57:45.338256Z",
     "iopub.status.idle": "2025-07-30T19:57:45.343810Z",
     "shell.execute_reply": "2025-07-30T19:57:45.342882Z"
    },
    "papermill": {
     "duration": 0.028573,
     "end_time": "2025-07-30T19:57:45.345422",
     "exception": false,
     "start_time": "2025-07-30T19:57:45.316849",
     "status": "completed"
    },
    "tags": [
     "injected-parameters"
    ]
   },
   "outputs": [],
   "source": [
    "# Parameters\n",
    "universe_id = \"98747486137f37cf92985a39255d4805\"\n",
    "run_no = \"14\"\n",
    "universe = \"{\\\"cutoff\\\": [\\\"quantile_0.1\\\", \\\"quantile_0.25\\\"], \\\"eval_fairness_grouping\\\": [\\\"majority-minority\\\", \\\"nationality-all\\\"], \\\"exclude_features\\\": \\\"nationality\\\", \\\"exclude_subgroups\\\": \\\"keep-all\\\", \\\"model\\\": \\\"penalized_logreg\\\", \\\"scale\\\": \\\"do-not-scale\\\", \\\"training_size\\\": \\\"25k\\\", \\\"training_year\\\": \\\"2014\\\"}\"\n",
    "output_dir = \"output\"\n",
    "seed = \"2023\"\n"
   ]
  },
  {
   "cell_type": "code",
   "execution_count": 5,
   "id": "1650acaf",
   "metadata": {
    "execution": {
     "iopub.execute_input": "2025-07-30T19:57:45.387886Z",
     "iopub.status.busy": "2025-07-30T19:57:45.387097Z",
     "iopub.status.idle": "2025-07-30T19:57:45.392571Z",
     "shell.execute_reply": "2025-07-30T19:57:45.391498Z"
    },
    "papermill": {
     "duration": 0.028552,
     "end_time": "2025-07-30T19:57:45.394336",
     "exception": false,
     "start_time": "2025-07-30T19:57:45.365784",
     "status": "completed"
    },
    "tags": []
   },
   "outputs": [],
   "source": [
    "import json\n",
    "# Parse universe into dict if it is passed as a string\n",
    "if isinstance(universe, str):\n",
    "    universe = json.loads(universe)"
   ]
  },
  {
   "cell_type": "code",
   "execution_count": 6,
   "id": "16620c48",
   "metadata": {
    "execution": {
     "iopub.execute_input": "2025-07-30T19:57:45.436588Z",
     "iopub.status.busy": "2025-07-30T19:57:45.436085Z",
     "iopub.status.idle": "2025-07-30T19:57:45.481507Z",
     "shell.execute_reply": "2025-07-30T19:57:45.480591Z"
    },
    "papermill": {
     "duration": 0.068091,
     "end_time": "2025-07-30T19:57:45.483380",
     "exception": false,
     "start_time": "2025-07-30T19:57:45.415289",
     "status": "completed"
    },
    "tags": []
   },
   "outputs": [],
   "source": [
    "# Auto-reload the custom package\n",
    "%load_ext autoreload\n",
    "%autoreload 1\n",
    "%aimport fairness_multiverse"
   ]
  },
  {
   "cell_type": "code",
   "execution_count": 7,
   "id": "01c5c9f3",
   "metadata": {
    "execution": {
     "iopub.execute_input": "2025-07-30T19:57:45.526074Z",
     "iopub.status.busy": "2025-07-30T19:57:45.525230Z",
     "iopub.status.idle": "2025-07-30T19:57:47.521945Z",
     "shell.execute_reply": "2025-07-30T19:57:47.520776Z"
    },
    "papermill": {
     "duration": 2.021021,
     "end_time": "2025-07-30T19:57:47.524544",
     "exception": false,
     "start_time": "2025-07-30T19:57:45.503523",
     "status": "completed"
    },
    "tags": []
   },
   "outputs": [],
   "source": [
    "from fairness_multiverse.universe import UniverseAnalysis\n",
    "\n",
    "universe_analysis = UniverseAnalysis(\n",
    "    run_no = run_no,\n",
    "    universe_id = universe_id,\n",
    "    universe = universe,\n",
    "    output_dir=output_dir,\n",
    ")"
   ]
  },
  {
   "cell_type": "code",
   "execution_count": 8,
   "id": "106241f5",
   "metadata": {
    "execution": {
     "iopub.execute_input": "2025-07-30T19:57:47.584568Z",
     "iopub.status.busy": "2025-07-30T19:57:47.583760Z",
     "iopub.status.idle": "2025-07-30T19:57:47.590578Z",
     "shell.execute_reply": "2025-07-30T19:57:47.589691Z"
    },
    "papermill": {
     "duration": 0.038577,
     "end_time": "2025-07-30T19:57:47.592689",
     "exception": false,
     "start_time": "2025-07-30T19:57:47.554112",
     "status": "completed"
    },
    "tags": []
   },
   "outputs": [
    {
     "name": "stdout",
     "output_type": "stream",
     "text": [
      "Using Seed: 2023\n"
     ]
    }
   ],
   "source": [
    "import numpy as np\n",
    "parsed_seed = int(seed)\n",
    "np.random.seed(parsed_seed)\n",
    "print(f\"Using Seed: {parsed_seed}\")"
   ]
  },
  {
   "cell_type": "markdown",
   "id": "e0ebdc57",
   "metadata": {
    "papermill": {
     "duration": 0.019335,
     "end_time": "2025-07-30T19:57:47.637451",
     "exception": false,
     "start_time": "2025-07-30T19:57:47.618116",
     "status": "completed"
    },
    "tags": []
   },
   "source": [
    "# Loading Data"
   ]
  },
  {
   "cell_type": "markdown",
   "id": "681925a3",
   "metadata": {
    "papermill": {
     "duration": 0.009872,
     "end_time": "2025-07-30T19:57:47.660708",
     "exception": false,
     "start_time": "2025-07-30T19:57:47.650836",
     "status": "completed"
    },
    "tags": []
   },
   "source": [
    "Load siab_train, siab_test, siab_calib and/or \n",
    "load siab_train_features, siab_train_labels"
   ]
  },
  {
   "cell_type": "code",
   "execution_count": 9,
   "id": "f0496b8a",
   "metadata": {
    "execution": {
     "iopub.execute_input": "2025-07-30T19:57:47.685499Z",
     "iopub.status.busy": "2025-07-30T19:57:47.685071Z",
     "iopub.status.idle": "2025-07-30T19:58:00.239699Z",
     "shell.execute_reply": "2025-07-30T19:58:00.238389Z"
    },
    "papermill": {
     "duration": 12.567887,
     "end_time": "2025-07-30T19:58:00.241944",
     "exception": false,
     "start_time": "2025-07-30T19:57:47.674057",
     "status": "completed"
    },
    "tags": []
   },
   "outputs": [
    {
     "name": "stdout",
     "output_type": "stream",
     "text": [
      "Loading SIAB data from cache: data/siab_cached.csv.gz\n"
     ]
    },
    {
     "name": "stdout",
     "output_type": "stream",
     "text": [
      "(643690, 164)\n"
     ]
    }
   ],
   "source": [
    "from pathlib import Path\n",
    "import pandas as pd\n",
    "\n",
    "# File paths\n",
    "raw_file = Path(\"data/raw/siab.csv\")\n",
    "cache_file = Path(\"data/siab_cached.csv.gz\")\n",
    "\n",
    "# Ensure cache directory exists\n",
    "cache_file.parent.mkdir(parents=True, exist_ok=True)\n",
    "\n",
    "# Load with simple caching\n",
    "if cache_file.exists():\n",
    "    print(f\"Loading SIAB data from cache: {cache_file}\")\n",
    "    siab = pd.read_csv(cache_file, compression='gzip')\n",
    "else:\n",
    "    print(f\"Cache not found. Reading raw SIAB data: {raw_file}\")\n",
    "    siab = pd.read_csv(raw_file)\n",
    "    siab.to_csv(cache_file, index=False, compression='gzip')\n",
    "    print(f\"Cached SIAB data to: {cache_file}\")\n",
    "\n",
    "# Now use `siab` DataFrame as needed\n",
    "print(siab.shape)"
   ]
  },
  {
   "cell_type": "code",
   "execution_count": 10,
   "id": "db0ca512-5f53-4dba-abdb-a2888bca41ba",
   "metadata": {
    "execution": {
     "iopub.execute_input": "2025-07-30T19:58:00.287928Z",
     "iopub.status.busy": "2025-07-30T19:58:00.287086Z",
     "iopub.status.idle": "2025-07-30T19:58:00.293586Z",
     "shell.execute_reply": "2025-07-30T19:58:00.292482Z"
    },
    "papermill": {
     "duration": 0.029829,
     "end_time": "2025-07-30T19:58:00.295383",
     "exception": false,
     "start_time": "2025-07-30T19:58:00.265554",
     "status": "completed"
    },
    "tags": []
   },
   "outputs": [],
   "source": [
    "#siab"
   ]
  },
  {
   "cell_type": "code",
   "execution_count": 11,
   "id": "a0edb063",
   "metadata": {
    "execution": {
     "iopub.execute_input": "2025-07-30T19:58:00.342075Z",
     "iopub.status.busy": "2025-07-30T19:58:00.341556Z",
     "iopub.status.idle": "2025-07-30T19:58:00.346881Z",
     "shell.execute_reply": "2025-07-30T19:58:00.345851Z"
    },
    "papermill": {
     "duration": 0.03168,
     "end_time": "2025-07-30T19:58:00.348832",
     "exception": false,
     "start_time": "2025-07-30T19:58:00.317152",
     "status": "completed"
    },
    "tags": []
   },
   "outputs": [],
   "source": [
    "#import pandas as pd\n",
    "#\n",
    "#X_train = pd.read_csv(\"./data/X_train.csv\")\n",
    "#y_train = pd.read_csv(\"./data/y_train.csv\")"
   ]
  },
  {
   "cell_type": "code",
   "execution_count": 12,
   "id": "63d08085",
   "metadata": {
    "execution": {
     "iopub.execute_input": "2025-07-30T19:58:00.391231Z",
     "iopub.status.busy": "2025-07-30T19:58:00.390730Z",
     "iopub.status.idle": "2025-07-30T19:58:00.395899Z",
     "shell.execute_reply": "2025-07-30T19:58:00.394892Z"
    },
    "papermill": {
     "duration": 0.027235,
     "end_time": "2025-07-30T19:58:00.397930",
     "exception": false,
     "start_time": "2025-07-30T19:58:00.370695",
     "status": "completed"
    },
    "tags": []
   },
   "outputs": [],
   "source": [
    "#X_test = pd.read_csv(\"./data/X_test.csv\")\n",
    "#y_true = pd.read_csv(\"./data/y_test.csv\")"
   ]
  },
  {
   "cell_type": "code",
   "execution_count": 13,
   "id": "98a8d0fa-1d3d-4ed8-bb2c-281470e24add",
   "metadata": {
    "execution": {
     "iopub.execute_input": "2025-07-30T19:58:00.447030Z",
     "iopub.status.busy": "2025-07-30T19:58:00.446558Z",
     "iopub.status.idle": "2025-07-30T19:58:00.451864Z",
     "shell.execute_reply": "2025-07-30T19:58:00.450889Z"
    },
    "papermill": {
     "duration": 0.032592,
     "end_time": "2025-07-30T19:58:00.453411",
     "exception": false,
     "start_time": "2025-07-30T19:58:00.420819",
     "status": "completed"
    },
    "tags": []
   },
   "outputs": [],
   "source": [
    "# Calibration data for conformal\n",
    "#X_calib = pd.read_csv(\"./data/X_calib.csv\")\n",
    "#y_calib = pd.read_csv(\"./data/y_calib.csv\")"
   ]
  },
  {
   "cell_type": "markdown",
   "id": "997051c5-15bd-4b69-9786-c3001a3ce484",
   "metadata": {
    "papermill": {
     "duration": 0.020882,
     "end_time": "2025-07-30T19:58:00.496265",
     "exception": false,
     "start_time": "2025-07-30T19:58:00.475383",
     "status": "completed"
    },
    "tags": []
   },
   "source": [
    "# Splitting Data and Setting Training Data Size"
   ]
  },
  {
   "cell_type": "code",
   "execution_count": 14,
   "id": "e993b61f-042d-41a6-8c81-f55681f86335",
   "metadata": {
    "execution": {
     "iopub.execute_input": "2025-07-30T19:58:00.540187Z",
     "iopub.status.busy": "2025-07-30T19:58:00.539500Z",
     "iopub.status.idle": "2025-07-30T19:58:00.550872Z",
     "shell.execute_reply": "2025-07-30T19:58:00.549959Z"
    },
    "papermill": {
     "duration": 0.035611,
     "end_time": "2025-07-30T19:58:00.552365",
     "exception": false,
     "start_time": "2025-07-30T19:58:00.516754",
     "status": "completed"
    },
    "tags": []
   },
   "outputs": [],
   "source": [
    "def sample_by_year_size(df,\n",
    "                        training_year: str,\n",
    "                        training_size: str,\n",
    "                        random_state: int = 42):\n",
    "    # --- parse training_year into a list of int years ---\n",
    "    if \"_\" in training_year:\n",
    "        start_str, end_str = training_year.split(\"_\", 1)\n",
    "        start = int(start_str)\n",
    "        end   = int(end_str) if len(end_str) == 4 else (int(end_str) + (start // 100)*100)\n",
    "        years = list(range(start, end + 1))\n",
    "    else:\n",
    "        years = [int(training_year)]\n",
    "\n",
    "    df = df[df[\"year\"].isin(years)].reset_index(drop=True)\n",
    "\n",
    "    # --- map training_size to total number of samples ---\n",
    "    total_map = {\"25k\": 25_000, \"5k\": 5_000, \"1k\": 1_000}\n",
    "    if training_size not in total_map:\n",
    "        return df  # e.g. \"all\"\n",
    "\n",
    "    total_samples = total_map[training_size]\n",
    "    n_years       = len(years)\n",
    "    base          = total_samples // n_years\n",
    "    remainder     = total_samples % n_years\n",
    "\n",
    "    # --- build a dict: year -> how many to sample ---\n",
    "    # give +1 to the first `remainder` years in ascending order\n",
    "    quotas = {\n",
    "        year: base + (1 if idx < remainder else 0)\n",
    "        for idx, year in enumerate(sorted(years))\n",
    "    }\n",
    "\n",
    "    # --- sample per‐year according to the quota dict ---\n",
    "    sampled = (\n",
    "        df\n",
    "        .groupby(\"year\", group_keys=False)\n",
    "        .apply(lambda grp: grp.sample(\n",
    "            n=min(len(grp), quotas[grp.name]),\n",
    "            random_state=random_state))\n",
    "        .reset_index(drop=True)\n",
    "    )\n",
    "\n",
    "    return sampled"
   ]
  },
  {
   "cell_type": "code",
   "execution_count": 15,
   "id": "c0ccd338-0e02-41f3-a09d-f56f9266e3fb",
   "metadata": {
    "execution": {
     "iopub.execute_input": "2025-07-30T19:58:00.575470Z",
     "iopub.status.busy": "2025-07-30T19:58:00.574975Z",
     "iopub.status.idle": "2025-07-30T19:58:00.579357Z",
     "shell.execute_reply": "2025-07-30T19:58:00.578594Z"
    },
    "papermill": {
     "duration": 0.016775,
     "end_time": "2025-07-30T19:58:00.580771",
     "exception": false,
     "start_time": "2025-07-30T19:58:00.563996",
     "status": "completed"
    },
    "tags": []
   },
   "outputs": [],
   "source": [
    "#universe[\"training_size\"]"
   ]
  },
  {
   "cell_type": "code",
   "execution_count": 16,
   "id": "ca707fd7-8047-4acd-bfa5-66248fbbf8e6",
   "metadata": {
    "execution": {
     "iopub.execute_input": "2025-07-30T19:58:00.603620Z",
     "iopub.status.busy": "2025-07-30T19:58:00.603136Z",
     "iopub.status.idle": "2025-07-30T19:58:00.606854Z",
     "shell.execute_reply": "2025-07-30T19:58:00.606111Z"
    },
    "papermill": {
     "duration": 0.016038,
     "end_time": "2025-07-30T19:58:00.608219",
     "exception": false,
     "start_time": "2025-07-30T19:58:00.592181",
     "status": "completed"
    },
    "tags": []
   },
   "outputs": [],
   "source": [
    "#universe[\"training_year\"]"
   ]
  },
  {
   "cell_type": "code",
   "execution_count": 17,
   "id": "aea9c6ef-6f46-42c8-85eb-5a62025c1508",
   "metadata": {
    "execution": {
     "iopub.execute_input": "2025-07-30T19:58:00.630663Z",
     "iopub.status.busy": "2025-07-30T19:58:00.630175Z",
     "iopub.status.idle": "2025-07-30T19:58:00.897352Z",
     "shell.execute_reply": "2025-07-30T19:58:00.896364Z"
    },
    "papermill": {
     "duration": 0.279604,
     "end_time": "2025-07-30T19:58:00.898926",
     "exception": false,
     "start_time": "2025-07-30T19:58:00.619322",
     "status": "completed"
    },
    "tags": []
   },
   "outputs": [],
   "source": [
    "siab_train = sample_by_year_size(siab,\n",
    "                               training_year=universe[\"training_year\"],\n",
    "                               training_size=universe[\"training_size\"])"
   ]
  },
  {
   "cell_type": "code",
   "execution_count": 18,
   "id": "8d3afb32-789d-442c-8d5d-9f5aa8dd2eed",
   "metadata": {
    "execution": {
     "iopub.execute_input": "2025-07-30T19:58:00.940506Z",
     "iopub.status.busy": "2025-07-30T19:58:00.939917Z",
     "iopub.status.idle": "2025-07-30T19:58:00.944310Z",
     "shell.execute_reply": "2025-07-30T19:58:00.943451Z"
    },
    "papermill": {
     "duration": 0.027926,
     "end_time": "2025-07-30T19:58:00.946030",
     "exception": false,
     "start_time": "2025-07-30T19:58:00.918104",
     "status": "completed"
    },
    "tags": []
   },
   "outputs": [],
   "source": [
    "#siab_train.shape"
   ]
  },
  {
   "cell_type": "code",
   "execution_count": 19,
   "id": "d582db68-1a4c-47fb-84fc-08518dc1975a",
   "metadata": {
    "execution": {
     "iopub.execute_input": "2025-07-30T19:58:00.991215Z",
     "iopub.status.busy": "2025-07-30T19:58:00.990803Z",
     "iopub.status.idle": "2025-07-30T19:58:00.995634Z",
     "shell.execute_reply": "2025-07-30T19:58:00.994598Z"
    },
    "papermill": {
     "duration": 0.029765,
     "end_time": "2025-07-30T19:58:00.997498",
     "exception": false,
     "start_time": "2025-07-30T19:58:00.967733",
     "status": "completed"
    },
    "tags": []
   },
   "outputs": [],
   "source": [
    "#display(siab_train.groupby(\"year\").size())"
   ]
  },
  {
   "cell_type": "code",
   "execution_count": 20,
   "id": "a561edb4-d032-42cb-8256-22eac1111c64",
   "metadata": {
    "execution": {
     "iopub.execute_input": "2025-07-30T19:58:01.043995Z",
     "iopub.status.busy": "2025-07-30T19:58:01.043188Z",
     "iopub.status.idle": "2025-07-30T19:58:01.253896Z",
     "shell.execute_reply": "2025-07-30T19:58:01.252876Z"
    },
    "papermill": {
     "duration": 0.235186,
     "end_time": "2025-07-30T19:58:01.255730",
     "exception": false,
     "start_time": "2025-07-30T19:58:01.020544",
     "status": "completed"
    },
    "tags": []
   },
   "outputs": [],
   "source": [
    "#siab_train = siab_s[siab_s.year < 2015]\n",
    "siab_calib = siab[siab.year == 2015]\n",
    "siab_test = siab[siab.year == 2016]"
   ]
  },
  {
   "cell_type": "code",
   "execution_count": 21,
   "id": "472de16f-c3db-4916-846b-1f0de9cf1746",
   "metadata": {
    "execution": {
     "iopub.execute_input": "2025-07-30T19:58:01.302386Z",
     "iopub.status.busy": "2025-07-30T19:58:01.301919Z",
     "iopub.status.idle": "2025-07-30T19:58:01.317361Z",
     "shell.execute_reply": "2025-07-30T19:58:01.316162Z"
    },
    "papermill": {
     "duration": 0.040737,
     "end_time": "2025-07-30T19:58:01.319177",
     "exception": false,
     "start_time": "2025-07-30T19:58:01.278440",
     "status": "completed"
    },
    "tags": []
   },
   "outputs": [],
   "source": [
    "X_train = siab_train.iloc[:,4:164]\n",
    "y_train = siab_train.iloc[:, [3]]"
   ]
  },
  {
   "cell_type": "code",
   "execution_count": 22,
   "id": "828c96af-f43a-4ed6-ba47-8ac73a47d56c",
   "metadata": {
    "execution": {
     "iopub.execute_input": "2025-07-30T19:58:01.367768Z",
     "iopub.status.busy": "2025-07-30T19:58:01.367096Z",
     "iopub.status.idle": "2025-07-30T19:58:01.419523Z",
     "shell.execute_reply": "2025-07-30T19:58:01.418392Z"
    },
    "papermill": {
     "duration": 0.079292,
     "end_time": "2025-07-30T19:58:01.421548",
     "exception": false,
     "start_time": "2025-07-30T19:58:01.342256",
     "status": "completed"
    },
    "tags": []
   },
   "outputs": [],
   "source": [
    "X_calib = siab_calib.iloc[:,4:164]\n",
    "y_calib = siab_calib.iloc[:, [3]]"
   ]
  },
  {
   "cell_type": "code",
   "execution_count": 23,
   "id": "c34be9c3-6bd6-476e-acd3-845840e303be",
   "metadata": {
    "execution": {
     "iopub.execute_input": "2025-07-30T19:58:01.471900Z",
     "iopub.status.busy": "2025-07-30T19:58:01.471242Z",
     "iopub.status.idle": "2025-07-30T19:58:01.529689Z",
     "shell.execute_reply": "2025-07-30T19:58:01.528552Z"
    },
    "papermill": {
     "duration": 0.085056,
     "end_time": "2025-07-30T19:58:01.531702",
     "exception": false,
     "start_time": "2025-07-30T19:58:01.446646",
     "status": "completed"
    },
    "tags": []
   },
   "outputs": [],
   "source": [
    "X_test = siab_test.iloc[:,4:164]\n",
    "y_true = siab_test.iloc[:, [3]]"
   ]
  },
  {
   "cell_type": "markdown",
   "id": "9901737e-04df-44f0-9100-f5ad144ed040",
   "metadata": {
    "papermill": {
     "duration": 0.021282,
     "end_time": "2025-07-30T19:58:01.574646",
     "exception": false,
     "start_time": "2025-07-30T19:58:01.553364",
     "status": "completed"
    },
    "tags": []
   },
   "source": [
    "# Splitting Data and Setting Training Data Size OLD VERSION"
   ]
  },
  {
   "cell_type": "code",
   "execution_count": 24,
   "id": "acbc8f7d-8fc8-4e86-8c59-5dcb0f58384b",
   "metadata": {
    "execution": {
     "iopub.execute_input": "2025-07-30T19:58:01.618257Z",
     "iopub.status.busy": "2025-07-30T19:58:01.615699Z",
     "iopub.status.idle": "2025-07-30T19:58:01.623266Z",
     "shell.execute_reply": "2025-07-30T19:58:01.622233Z"
    },
    "papermill": {
     "duration": 0.031043,
     "end_time": "2025-07-30T19:58:01.625038",
     "exception": false,
     "start_time": "2025-07-30T19:58:01.593995",
     "status": "completed"
    },
    "tags": []
   },
   "outputs": [],
   "source": [
    "#def sample_by_year(df, training_size, random_state=42):\n",
    "#    if training_size == \"2014\":\n",
    "#        return df[df[\"year\"] == 2014].reset_index(drop=True)\n",
    "#    \n",
    "#    size_map = {\n",
    "#        \"25k\": 5000,\n",
    "#        \"5k\": 1000,\n",
    "#        \"1k\": 200\n",
    "#    }\n",
    "#\n",
    "#    if training_size not in size_map:\n",
    "#        return df.reset_index(drop=True)  # use all data\n",
    "#\n",
    "#    n_per_year = size_map[training_size]\n",
    "#    grouped = df.groupby(\"year\")\n",
    "#    sampled = grouped.apply(lambda x: x.sample(n=min(n_per_year, len(x)), random_state=random_state))\n",
    "#    return sampled.reset_index(drop=True)"
   ]
  },
  {
   "cell_type": "code",
   "execution_count": 25,
   "id": "6d931f52-beaf-43ff-9e78-9d44a448d54e",
   "metadata": {
    "execution": {
     "iopub.execute_input": "2025-07-30T19:58:01.670760Z",
     "iopub.status.busy": "2025-07-30T19:58:01.670325Z",
     "iopub.status.idle": "2025-07-30T19:58:01.675675Z",
     "shell.execute_reply": "2025-07-30T19:58:01.674622Z"
    },
    "papermill": {
     "duration": 0.031009,
     "end_time": "2025-07-30T19:58:01.677337",
     "exception": false,
     "start_time": "2025-07-30T19:58:01.646328",
     "status": "completed"
    },
    "tags": []
   },
   "outputs": [],
   "source": [
    "#siab_s = sample_by_year(siab, universe[\"training_size\"])"
   ]
  },
  {
   "cell_type": "code",
   "execution_count": 26,
   "id": "5db0a40e-a4e2-4920-be85-b12ae061d70d",
   "metadata": {
    "execution": {
     "iopub.execute_input": "2025-07-30T19:58:01.722765Z",
     "iopub.status.busy": "2025-07-30T19:58:01.722319Z",
     "iopub.status.idle": "2025-07-30T19:58:01.727775Z",
     "shell.execute_reply": "2025-07-30T19:58:01.726755Z"
    },
    "papermill": {
     "duration": 0.030537,
     "end_time": "2025-07-30T19:58:01.729529",
     "exception": false,
     "start_time": "2025-07-30T19:58:01.698992",
     "status": "completed"
    },
    "tags": []
   },
   "outputs": [],
   "source": [
    "#display(siab_s.groupby(\"year\").size())"
   ]
  },
  {
   "cell_type": "code",
   "execution_count": 27,
   "id": "e6c733c5",
   "metadata": {
    "execution": {
     "iopub.execute_input": "2025-07-30T19:58:01.774876Z",
     "iopub.status.busy": "2025-07-30T19:58:01.774196Z",
     "iopub.status.idle": "2025-07-30T19:58:01.872843Z",
     "shell.execute_reply": "2025-07-30T19:58:01.871767Z"
    },
    "papermill": {
     "duration": 0.124217,
     "end_time": "2025-07-30T19:58:01.874959",
     "exception": false,
     "start_time": "2025-07-30T19:58:01.750742",
     "status": "completed"
    },
    "tags": []
   },
   "outputs": [],
   "source": [
    "# Auxiliary data needed downstream in the pipeline\n",
    "\n",
    "org_train = X_train.copy()\n",
    "org_test = X_test.copy()\n",
    "org_calib = X_calib.copy()"
   ]
  },
  {
   "cell_type": "code",
   "execution_count": 28,
   "id": "1466abac-c6da-4492-a62f-4240ae3783af",
   "metadata": {
    "execution": {
     "iopub.execute_input": "2025-07-30T19:58:01.922406Z",
     "iopub.status.busy": "2025-07-30T19:58:01.921751Z",
     "iopub.status.idle": "2025-07-30T19:58:01.927702Z",
     "shell.execute_reply": "2025-07-30T19:58:01.926702Z"
    },
    "papermill": {
     "duration": 0.030167,
     "end_time": "2025-07-30T19:58:01.929190",
     "exception": false,
     "start_time": "2025-07-30T19:58:01.899023",
     "status": "completed"
    },
    "tags": []
   },
   "outputs": [],
   "source": [
    "# put in other script?\n",
    "# Group sizes\n",
    "\n",
    "#def calculate_percentages(df, df_name):\n",
    "#    total_entries = len(df)\n",
    "#\n",
    "#    female_pct = (df['frau1'] == 1).mean() * 100\n",
    "#    non_german_pct = ((df['maxdeutsch1'] == 0) & (df['maxdeutsch.Missing.'] == 0)).mean() * 100\n",
    "#    non_german_male_pct = ((df['frau1'] == 0) & (df['maxdeutsch1'] == 0) & (df['maxdeutsch.Missing.'] == 0)).mean() * 100\n",
    "#    non_german_female_pct = ((df['frau1'] == 1) & (df['maxdeutsch1'] == 0) & (df['maxdeutsch.Missing.'] == 0)).mean() * 100\n",
    "#\n",
    "#    print(f\"--- {df_name} ---\")\n",
    "#    print(f\"Female: {female_pct:.2f}%\")\n",
    "#    print(f\"Non-German: {non_german_pct:.2f}%\")\n",
    "#    print(f\"Non-German Male: {non_german_male_pct:.2f}%\")\n",
    "#    print(f\"Non-German Female: {non_german_female_pct:.2f}%\\n\")\n",
    "#\n",
    "## Calculate for each DataFrame\n",
    "#calculate_percentages(siab_calib, \"siab_calib\")\n",
    "#calculate_percentages(siab_test, \"siab_test\")\n",
    "#calculate_percentages(siab_train, \"siab_train\")"
   ]
  },
  {
   "cell_type": "markdown",
   "id": "0a4a1b33",
   "metadata": {
    "papermill": {
     "duration": 0.020443,
     "end_time": "2025-07-30T19:58:01.971315",
     "exception": false,
     "start_time": "2025-07-30T19:58:01.950872",
     "status": "completed"
    },
    "tags": []
   },
   "source": [
    "# Preprocessing Data"
   ]
  },
  {
   "cell_type": "code",
   "execution_count": 29,
   "id": "ca879031",
   "metadata": {
    "execution": {
     "iopub.execute_input": "2025-07-30T19:58:02.014784Z",
     "iopub.status.busy": "2025-07-30T19:58:02.014226Z",
     "iopub.status.idle": "2025-07-30T19:58:02.021001Z",
     "shell.execute_reply": "2025-07-30T19:58:02.019849Z"
    },
    "papermill": {
     "duration": 0.030758,
     "end_time": "2025-07-30T19:58:02.022571",
     "exception": false,
     "start_time": "2025-07-30T19:58:01.991813",
     "status": "completed"
    },
    "tags": []
   },
   "outputs": [],
   "source": [
    "# EXCLUDE PROTECTED FEATURES\n",
    "# ----------------------\n",
    "# \"exclude_features\": \"none\", # \"nationality\", \"sex\", \"nationality-sex\"\n",
    "\n",
    "excluded_features = universe[\"exclude_features\"].split(\"-\") # split, e.g.: \"nationality-sex\" -> [\"nationality\", \"sex\"]\n",
    "excluded_features_dictionary = {\n",
    "    \"nationality\": [\"maxdeutsch1\", \"maxdeutsch.Missing.\"],\n",
    "    \"sex\": [\"frau1\"],\n",
    "    \"age\": [\"age\"],\n",
    "}\n"
   ]
  },
  {
   "cell_type": "code",
   "execution_count": 30,
   "id": "b745ac60",
   "metadata": {
    "execution": {
     "iopub.execute_input": "2025-07-30T19:58:02.067952Z",
     "iopub.status.busy": "2025-07-30T19:58:02.067085Z",
     "iopub.status.idle": "2025-07-30T19:58:02.085843Z",
     "shell.execute_reply": "2025-07-30T19:58:02.084991Z"
    },
    "papermill": {
     "duration": 0.043536,
     "end_time": "2025-07-30T19:58:02.088256",
     "exception": false,
     "start_time": "2025-07-30T19:58:02.044720",
     "status": "completed"
    },
    "tags": []
   },
   "outputs": [],
   "source": [
    "# Code nice names to column names\n",
    "\n",
    "excluded_features_columns = [\n",
    "    excluded_features_dictionary[f] for f in excluded_features if len(f) > 0 and f != \"none\"\n",
    "]"
   ]
  },
  {
   "cell_type": "code",
   "execution_count": 31,
   "id": "f84f73a2",
   "metadata": {
    "execution": {
     "iopub.execute_input": "2025-07-30T19:58:02.133768Z",
     "iopub.status.busy": "2025-07-30T19:58:02.132544Z",
     "iopub.status.idle": "2025-07-30T19:58:02.140106Z",
     "shell.execute_reply": "2025-07-30T19:58:02.139091Z"
    },
    "papermill": {
     "duration": 0.032643,
     "end_time": "2025-07-30T19:58:02.142260",
     "exception": false,
     "start_time": "2025-07-30T19:58:02.109617",
     "status": "completed"
    },
    "tags": []
   },
   "outputs": [],
   "source": [
    "from utils import flatten_once\n",
    "\n",
    "excluded_features_columns = flatten_once(excluded_features_columns)"
   ]
  },
  {
   "cell_type": "code",
   "execution_count": 32,
   "id": "884dea22",
   "metadata": {
    "execution": {
     "iopub.execute_input": "2025-07-30T19:58:02.186363Z",
     "iopub.status.busy": "2025-07-30T19:58:02.185755Z",
     "iopub.status.idle": "2025-07-30T19:58:02.200576Z",
     "shell.execute_reply": "2025-07-30T19:58:02.199633Z"
    },
    "papermill": {
     "duration": 0.038647,
     "end_time": "2025-07-30T19:58:02.202096",
     "exception": false,
     "start_time": "2025-07-30T19:58:02.163449",
     "status": "completed"
    },
    "tags": []
   },
   "outputs": [
    {
     "name": "stdout",
     "output_type": "stream",
     "text": [
      "Dropping features: ['maxdeutsch1', 'maxdeutsch.Missing.']\n"
     ]
    }
   ],
   "source": [
    "if len(excluded_features_columns) > 0:\n",
    "    print(f\"Dropping features: {excluded_features_columns}\")\n",
    "    X_train.drop(excluded_features_columns, axis=1, inplace=True)"
   ]
  },
  {
   "cell_type": "code",
   "execution_count": 33,
   "id": "95ab8b16",
   "metadata": {
    "execution": {
     "iopub.execute_input": "2025-07-30T19:58:02.247095Z",
     "iopub.status.busy": "2025-07-30T19:58:02.246389Z",
     "iopub.status.idle": "2025-07-30T19:58:02.299932Z",
     "shell.execute_reply": "2025-07-30T19:58:02.298989Z"
    },
    "papermill": {
     "duration": 0.077618,
     "end_time": "2025-07-30T19:58:02.301803",
     "exception": false,
     "start_time": "2025-07-30T19:58:02.224185",
     "status": "completed"
    },
    "tags": []
   },
   "outputs": [
    {
     "name": "stdout",
     "output_type": "stream",
     "text": [
      "Dropping features: ['maxdeutsch1', 'maxdeutsch.Missing.']\n"
     ]
    }
   ],
   "source": [
    "if len(excluded_features_columns) > 0:\n",
    "    print(f\"Dropping features: {excluded_features_columns}\")\n",
    "    X_test.drop(excluded_features_columns, axis=1, inplace=True)"
   ]
  },
  {
   "cell_type": "code",
   "execution_count": 34,
   "id": "1853aaf5-fb9f-46cb-a2b5-8ea4ae2237e4",
   "metadata": {
    "execution": {
     "iopub.execute_input": "2025-07-30T19:58:02.347556Z",
     "iopub.status.busy": "2025-07-30T19:58:02.347068Z",
     "iopub.status.idle": "2025-07-30T19:58:02.398033Z",
     "shell.execute_reply": "2025-07-30T19:58:02.397135Z"
    },
    "papermill": {
     "duration": 0.07501,
     "end_time": "2025-07-30T19:58:02.399857",
     "exception": false,
     "start_time": "2025-07-30T19:58:02.324847",
     "status": "completed"
    },
    "tags": []
   },
   "outputs": [
    {
     "name": "stdout",
     "output_type": "stream",
     "text": [
      "Dropping features: ['maxdeutsch1', 'maxdeutsch.Missing.']\n"
     ]
    }
   ],
   "source": [
    "if len(excluded_features_columns) > 0:\n",
    "    print(f\"Dropping features: {excluded_features_columns}\")\n",
    "    X_calib.drop(excluded_features_columns, axis=1, inplace=True)"
   ]
  },
  {
   "cell_type": "code",
   "execution_count": 35,
   "id": "6727d079-03e5-481e-9d38-292a90b7a0a8",
   "metadata": {
    "execution": {
     "iopub.execute_input": "2025-07-30T19:58:02.447480Z",
     "iopub.status.busy": "2025-07-30T19:58:02.446971Z",
     "iopub.status.idle": "2025-07-30T19:58:02.452272Z",
     "shell.execute_reply": "2025-07-30T19:58:02.451112Z"
    },
    "papermill": {
     "duration": 0.030942,
     "end_time": "2025-07-30T19:58:02.454188",
     "exception": false,
     "start_time": "2025-07-30T19:58:02.423246",
     "status": "completed"
    },
    "tags": []
   },
   "outputs": [],
   "source": [
    "# SPLIT & STRATIFY DATA\n",
    "# ----------------------"
   ]
  },
  {
   "cell_type": "code",
   "execution_count": 36,
   "id": "76c4dc6d",
   "metadata": {
    "execution": {
     "iopub.execute_input": "2025-07-30T19:58:02.500479Z",
     "iopub.status.busy": "2025-07-30T19:58:02.500039Z",
     "iopub.status.idle": "2025-07-30T19:58:02.505138Z",
     "shell.execute_reply": "2025-07-30T19:58:02.504167Z"
    },
    "papermill": {
     "duration": 0.029873,
     "end_time": "2025-07-30T19:58:02.507164",
     "exception": false,
     "start_time": "2025-07-30T19:58:02.477291",
     "status": "completed"
    },
    "tags": []
   },
   "outputs": [],
   "source": [
    "# EXCLUDE CERTAIN SUBGROUPS\n",
    "# ----------------------\n",
    "\n",
    "mode = universe.get(\"exclude_subgroups\", \"keep-all\") \n",
    "# Fetches the exclude_subgroups setting from the universe dict.\n",
    "# Defaults to \"keep-all\" if the key is missing."
   ]
  },
  {
   "cell_type": "code",
   "execution_count": 37,
   "id": "21994072",
   "metadata": {
    "execution": {
     "iopub.execute_input": "2025-07-30T19:58:02.555016Z",
     "iopub.status.busy": "2025-07-30T19:58:02.554149Z",
     "iopub.status.idle": "2025-07-30T19:58:02.560588Z",
     "shell.execute_reply": "2025-07-30T19:58:02.559743Z"
    },
    "papermill": {
     "duration": 0.032248,
     "end_time": "2025-07-30T19:58:02.562123",
     "exception": false,
     "start_time": "2025-07-30T19:58:02.529875",
     "status": "completed"
    },
    "tags": []
   },
   "outputs": [],
   "source": [
    "if mode == \"keep-all\":\n",
    "    keep_mask = pd.Series(True, index=org_train.index)\n",
    "\n",
    "# org_train contains the original feature columns from features_org (in Simson)\n",
    "# features_org contains unprocessed features, for me X_train at beginning ???\n",
    "# For keep-all, creates a boolean Series (keep_mask) of all True, so no rows are removed.\n",
    "\n",
    "elif mode == \"drop-non-german\":\n",
    "    keep_mask = org_train[\"maxdeutsch1\"] == 1 # ??? what about missing values?\n",
    "\n",
    "else:\n",
    "    raise ValueError(f\"Unsupported mode for exclude_subgroups: {mode}\")\n"
   ]
  },
  {
   "cell_type": "code",
   "execution_count": 38,
   "id": "71651440",
   "metadata": {
    "execution": {
     "iopub.execute_input": "2025-07-30T19:58:02.610713Z",
     "iopub.status.busy": "2025-07-30T19:58:02.609019Z",
     "iopub.status.idle": "2025-07-30T19:58:02.616709Z",
     "shell.execute_reply": "2025-07-30T19:58:02.615707Z"
    },
    "papermill": {
     "duration": 0.03396,
     "end_time": "2025-07-30T19:58:02.618307",
     "exception": false,
     "start_time": "2025-07-30T19:58:02.584347",
     "status": "completed"
    },
    "tags": []
   },
   "outputs": [],
   "source": [
    "n_drop = (~keep_mask).sum() # Calculates how many rows are set to be dropped\n",
    "if n_drop > 0:\n",
    "    pct = n_drop / len(keep_mask) * 100\n",
    "    print(f\"Dropping {n_drop} rows ({pct:.2f}%) where mode='{mode}'\")"
   ]
  },
  {
   "cell_type": "code",
   "execution_count": 39,
   "id": "5fb8eee5",
   "metadata": {
    "execution": {
     "iopub.execute_input": "2025-07-30T19:58:02.664821Z",
     "iopub.status.busy": "2025-07-30T19:58:02.663930Z",
     "iopub.status.idle": "2025-07-30T19:58:02.680702Z",
     "shell.execute_reply": "2025-07-30T19:58:02.679637Z"
    },
    "papermill": {
     "duration": 0.041048,
     "end_time": "2025-07-30T19:58:02.682595",
     "exception": false,
     "start_time": "2025-07-30T19:58:02.641547",
     "status": "completed"
    },
    "tags": []
   },
   "outputs": [],
   "source": [
    "X_train = X_train[keep_mask]"
   ]
  },
  {
   "cell_type": "code",
   "execution_count": 40,
   "id": "b202bb3a",
   "metadata": {
    "execution": {
     "iopub.execute_input": "2025-07-30T19:58:02.727803Z",
     "iopub.status.busy": "2025-07-30T19:58:02.726932Z",
     "iopub.status.idle": "2025-07-30T19:58:02.733294Z",
     "shell.execute_reply": "2025-07-30T19:58:02.732361Z"
    },
    "papermill": {
     "duration": 0.030325,
     "end_time": "2025-07-30T19:58:02.734937",
     "exception": false,
     "start_time": "2025-07-30T19:58:02.704612",
     "status": "completed"
    },
    "tags": []
   },
   "outputs": [],
   "source": [
    "y_train = y_train[keep_mask]"
   ]
  },
  {
   "cell_type": "markdown",
   "id": "493e2ac3",
   "metadata": {
    "papermill": {
     "duration": 0.021273,
     "end_time": "2025-07-30T19:58:02.778957",
     "exception": false,
     "start_time": "2025-07-30T19:58:02.757684",
     "status": "completed"
    },
    "tags": []
   },
   "source": [
    "# Model Training"
   ]
  },
  {
   "cell_type": "code",
   "execution_count": 41,
   "id": "679e1268",
   "metadata": {
    "execution": {
     "iopub.execute_input": "2025-07-30T19:58:02.822908Z",
     "iopub.status.busy": "2025-07-30T19:58:02.822160Z",
     "iopub.status.idle": "2025-07-30T19:58:02.925488Z",
     "shell.execute_reply": "2025-07-30T19:58:02.924470Z"
    },
    "papermill": {
     "duration": 0.127151,
     "end_time": "2025-07-30T19:58:02.927731",
     "exception": false,
     "start_time": "2025-07-30T19:58:02.800580",
     "status": "completed"
    },
    "tags": []
   },
   "outputs": [],
   "source": [
    "from sklearn.linear_model import LogisticRegression\n",
    "from sklearn.ensemble import GradientBoostingClassifier, RandomForestClassifier\n",
    "\n",
    "if (universe[\"model\"] == \"logreg\"):\n",
    "    model = LogisticRegression() #penalty=\"none\") #, solver=\"newton-cg\", max_iter=1) # include random_state=19 ?\n",
    "elif (universe[\"model\"] == \"penalized_logreg\"):\n",
    "    model = LogisticRegression(penalty=\"l2\", C=1.0) #, solver=\"newton-cg\", max_iter=1)\n",
    "elif (universe[\"model\"] == \"rf\"):\n",
    "    model = RandomForestClassifier(n_estimators=100, n_jobs=-1)\n",
    "elif (universe[\"model\"] == \"gbm\"):\n",
    "    model = GradientBoostingClassifier()\n",
    "elif (universe[\"model\"] == \"elasticnet\"):\n",
    "    model = LogisticRegression(penalty = 'elasticnet', solver = 'saga', l1_ratio = 0.5, max_iter=5000) # which solver to use?\n",
    "else:\n",
    "    raise \"Unsupported universe.model\""
   ]
  },
  {
   "cell_type": "code",
   "execution_count": 42,
   "id": "0cc8f744",
   "metadata": {
    "execution": {
     "iopub.execute_input": "2025-07-30T19:58:02.973061Z",
     "iopub.status.busy": "2025-07-30T19:58:02.972134Z",
     "iopub.status.idle": "2025-07-30T19:58:02.978336Z",
     "shell.execute_reply": "2025-07-30T19:58:02.977315Z"
    },
    "papermill": {
     "duration": 0.03078,
     "end_time": "2025-07-30T19:58:02.980210",
     "exception": false,
     "start_time": "2025-07-30T19:58:02.949430",
     "status": "completed"
    },
    "tags": []
   },
   "outputs": [],
   "source": [
    "import numpy as np\n",
    "from sklearn.pipeline import Pipeline\n",
    "from sklearn.preprocessing import StandardScaler\n",
    "\n",
    "model = Pipeline([\n",
    "    #(\"continuous_processor\", continuous_processor),\n",
    "    #(\"categorical_preprocessor\", categorical_preprocessor),\n",
    "    (\"scale\", StandardScaler() if universe[\"scale\"] == \"scale\" else None), \n",
    "    (\"model\", model),\n",
    "])"
   ]
  },
  {
   "cell_type": "code",
   "execution_count": 43,
   "id": "9442c04d",
   "metadata": {
    "execution": {
     "iopub.execute_input": "2025-07-30T19:58:03.031880Z",
     "iopub.status.busy": "2025-07-30T19:58:03.031236Z",
     "iopub.status.idle": "2025-07-30T19:58:03.651357Z",
     "shell.execute_reply": "2025-07-30T19:58:03.650470Z"
    },
    "papermill": {
     "duration": 0.647788,
     "end_time": "2025-07-30T19:58:03.653062",
     "exception": false,
     "start_time": "2025-07-30T19:58:03.005274",
     "status": "completed"
    },
    "tags": []
   },
   "outputs": [
    {
     "name": "stderr",
     "output_type": "stream",
     "text": [
      "/dss/dsshome1/0C/ra93lal2/.local/share/virtualenvs/CMA_Fairness_v2-3j10GkSs/lib/python3.10/site-packages/sklearn/linear_model/_logistic.py:444: ConvergenceWarning: lbfgs failed to converge (status=1):\n",
      "STOP: TOTAL NO. of ITERATIONS REACHED LIMIT.\n",
      "\n",
      "Increase the number of iterations (max_iter) or scale the data as shown in:\n",
      "    https://scikit-learn.org/stable/modules/preprocessing.html\n",
      "Please also refer to the documentation for alternative solver options:\n",
      "    https://scikit-learn.org/stable/modules/linear_model.html#logistic-regression\n",
      "  n_iter_i = _check_optimize_result(\n"
     ]
    },
    {
     "data": {
      "text/html": [
       "<style>#sk-container-id-1 {color: black;background-color: white;}#sk-container-id-1 pre{padding: 0;}#sk-container-id-1 div.sk-toggleable {background-color: white;}#sk-container-id-1 label.sk-toggleable__label {cursor: pointer;display: block;width: 100%;margin-bottom: 0;padding: 0.3em;box-sizing: border-box;text-align: center;}#sk-container-id-1 label.sk-toggleable__label-arrow:before {content: \"▸\";float: left;margin-right: 0.25em;color: #696969;}#sk-container-id-1 label.sk-toggleable__label-arrow:hover:before {color: black;}#sk-container-id-1 div.sk-estimator:hover label.sk-toggleable__label-arrow:before {color: black;}#sk-container-id-1 div.sk-toggleable__content {max-height: 0;max-width: 0;overflow: hidden;text-align: left;background-color: #f0f8ff;}#sk-container-id-1 div.sk-toggleable__content pre {margin: 0.2em;color: black;border-radius: 0.25em;background-color: #f0f8ff;}#sk-container-id-1 input.sk-toggleable__control:checked~div.sk-toggleable__content {max-height: 200px;max-width: 100%;overflow: auto;}#sk-container-id-1 input.sk-toggleable__control:checked~label.sk-toggleable__label-arrow:before {content: \"▾\";}#sk-container-id-1 div.sk-estimator input.sk-toggleable__control:checked~label.sk-toggleable__label {background-color: #d4ebff;}#sk-container-id-1 div.sk-label input.sk-toggleable__control:checked~label.sk-toggleable__label {background-color: #d4ebff;}#sk-container-id-1 input.sk-hidden--visually {border: 0;clip: rect(1px 1px 1px 1px);clip: rect(1px, 1px, 1px, 1px);height: 1px;margin: -1px;overflow: hidden;padding: 0;position: absolute;width: 1px;}#sk-container-id-1 div.sk-estimator {font-family: monospace;background-color: #f0f8ff;border: 1px dotted black;border-radius: 0.25em;box-sizing: border-box;margin-bottom: 0.5em;}#sk-container-id-1 div.sk-estimator:hover {background-color: #d4ebff;}#sk-container-id-1 div.sk-parallel-item::after {content: \"\";width: 100%;border-bottom: 1px solid gray;flex-grow: 1;}#sk-container-id-1 div.sk-label:hover label.sk-toggleable__label {background-color: #d4ebff;}#sk-container-id-1 div.sk-serial::before {content: \"\";position: absolute;border-left: 1px solid gray;box-sizing: border-box;top: 0;bottom: 0;left: 50%;z-index: 0;}#sk-container-id-1 div.sk-serial {display: flex;flex-direction: column;align-items: center;background-color: white;padding-right: 0.2em;padding-left: 0.2em;position: relative;}#sk-container-id-1 div.sk-item {position: relative;z-index: 1;}#sk-container-id-1 div.sk-parallel {display: flex;align-items: stretch;justify-content: center;background-color: white;position: relative;}#sk-container-id-1 div.sk-item::before, #sk-container-id-1 div.sk-parallel-item::before {content: \"\";position: absolute;border-left: 1px solid gray;box-sizing: border-box;top: 0;bottom: 0;left: 50%;z-index: -1;}#sk-container-id-1 div.sk-parallel-item {display: flex;flex-direction: column;z-index: 1;position: relative;background-color: white;}#sk-container-id-1 div.sk-parallel-item:first-child::after {align-self: flex-end;width: 50%;}#sk-container-id-1 div.sk-parallel-item:last-child::after {align-self: flex-start;width: 50%;}#sk-container-id-1 div.sk-parallel-item:only-child::after {width: 0;}#sk-container-id-1 div.sk-dashed-wrapped {border: 1px dashed gray;margin: 0 0.4em 0.5em 0.4em;box-sizing: border-box;padding-bottom: 0.4em;background-color: white;}#sk-container-id-1 div.sk-label label {font-family: monospace;font-weight: bold;display: inline-block;line-height: 1.2em;}#sk-container-id-1 div.sk-label-container {text-align: center;}#sk-container-id-1 div.sk-container {/* jupyter's `normalize.less` sets `[hidden] { display: none; }` but bootstrap.min.css set `[hidden] { display: none !important; }` so we also need the `!important` here to be able to override the default hidden behavior on the sphinx rendered scikit-learn.org. See: https://github.com/scikit-learn/scikit-learn/issues/21755 */display: inline-block !important;position: relative;}#sk-container-id-1 div.sk-text-repr-fallback {display: none;}</style><div id=\"sk-container-id-1\" class=\"sk-top-container\"><div class=\"sk-text-repr-fallback\"><pre>Pipeline(steps=[(&#x27;scale&#x27;, None), (&#x27;model&#x27;, LogisticRegression())])</pre><b>In a Jupyter environment, please rerun this cell to show the HTML representation or trust the notebook. <br />On GitHub, the HTML representation is unable to render, please try loading this page with nbviewer.org.</b></div><div class=\"sk-container\" hidden><div class=\"sk-item sk-dashed-wrapped\"><div class=\"sk-label-container\"><div class=\"sk-label sk-toggleable\"><input class=\"sk-toggleable__control sk-hidden--visually\" id=\"sk-estimator-id-1\" type=\"checkbox\" ><label for=\"sk-estimator-id-1\" class=\"sk-toggleable__label sk-toggleable__label-arrow\">Pipeline</label><div class=\"sk-toggleable__content\"><pre>Pipeline(steps=[(&#x27;scale&#x27;, None), (&#x27;model&#x27;, LogisticRegression())])</pre></div></div></div><div class=\"sk-serial\"><div class=\"sk-item\"><div class=\"sk-estimator sk-toggleable\"><input class=\"sk-toggleable__control sk-hidden--visually\" id=\"sk-estimator-id-2\" type=\"checkbox\" ><label for=\"sk-estimator-id-2\" class=\"sk-toggleable__label sk-toggleable__label-arrow\">None</label><div class=\"sk-toggleable__content\"><pre>None</pre></div></div></div><div class=\"sk-item\"><div class=\"sk-estimator sk-toggleable\"><input class=\"sk-toggleable__control sk-hidden--visually\" id=\"sk-estimator-id-3\" type=\"checkbox\" ><label for=\"sk-estimator-id-3\" class=\"sk-toggleable__label sk-toggleable__label-arrow\">LogisticRegression</label><div class=\"sk-toggleable__content\"><pre>LogisticRegression()</pre></div></div></div></div></div></div></div>"
      ],
      "text/plain": [
       "Pipeline(steps=[('scale', None), ('model', LogisticRegression())])"
      ]
     },
     "execution_count": 43,
     "metadata": {},
     "output_type": "execute_result"
    }
   ],
   "source": [
    "model.fit(X_train, y_train.values.ravel())"
   ]
  },
  {
   "cell_type": "code",
   "execution_count": 44,
   "id": "af59f8c0",
   "metadata": {
    "execution": {
     "iopub.execute_input": "2025-07-30T19:58:03.706445Z",
     "iopub.status.busy": "2025-07-30T19:58:03.706101Z",
     "iopub.status.idle": "2025-07-30T19:58:03.712086Z",
     "shell.execute_reply": "2025-07-30T19:58:03.710135Z"
    },
    "papermill": {
     "duration": 0.033048,
     "end_time": "2025-07-30T19:58:03.714415",
     "exception": false,
     "start_time": "2025-07-30T19:58:03.681367",
     "status": "completed"
    },
    "tags": []
   },
   "outputs": [],
   "source": [
    "from fairness_multiverse.universe import predict_w_threshold"
   ]
  },
  {
   "cell_type": "code",
   "execution_count": 45,
   "id": "a7cf2e16",
   "metadata": {
    "execution": {
     "iopub.execute_input": "2025-07-30T19:58:03.752194Z",
     "iopub.status.busy": "2025-07-30T19:58:03.751810Z",
     "iopub.status.idle": "2025-07-30T19:58:03.846899Z",
     "shell.execute_reply": "2025-07-30T19:58:03.845919Z"
    },
    "papermill": {
     "duration": 0.112779,
     "end_time": "2025-07-30T19:58:03.848587",
     "exception": false,
     "start_time": "2025-07-30T19:58:03.735808",
     "status": "completed"
    },
    "tags": []
   },
   "outputs": [
    {
     "data": {
      "text/plain": [
       "0.8634377438412663"
      ]
     },
     "execution_count": 45,
     "metadata": {},
     "output_type": "execute_result"
    }
   ],
   "source": [
    "probs_test = model.predict_proba(X_test)\n",
    "\n",
    "'''\n",
    "Below code returns a boolean array (or binary 0/1 array depending on how it’s used) where each element \n",
    "is True if the probability of class 1 is greater than or equal to the threshold, and False otherwise.\n",
    "'''\n",
    "y_pred_default = predict_w_threshold(probs_test, 0.5)\n",
    "\n",
    "from sklearn.metrics import accuracy_score\n",
    "\n",
    "# Naive prediction\n",
    "accuracy_score(y_true = y_true, y_pred = y_pred_default)"
   ]
  },
  {
   "cell_type": "code",
   "execution_count": 46,
   "id": "081964c3",
   "metadata": {
    "execution": {
     "iopub.execute_input": "2025-07-30T19:58:03.901721Z",
     "iopub.status.busy": "2025-07-30T19:58:03.900890Z",
     "iopub.status.idle": "2025-07-30T19:58:03.992038Z",
     "shell.execute_reply": "2025-07-30T19:58:03.991057Z"
    },
    "papermill": {
     "duration": 0.120448,
     "end_time": "2025-07-30T19:58:03.993603",
     "exception": false,
     "start_time": "2025-07-30T19:58:03.873155",
     "status": "completed"
    },
    "tags": []
   },
   "outputs": [
    {
     "data": {
      "text/plain": [
       "array([0, 0, 0, ..., 0, 0, 0])"
      ]
     },
     "execution_count": 46,
     "metadata": {},
     "output_type": "execute_result"
    }
   ],
   "source": [
    "model.predict(X_test)"
   ]
  },
  {
   "cell_type": "markdown",
   "id": "56c9705b",
   "metadata": {
    "papermill": {
     "duration": 0.023547,
     "end_time": "2025-07-30T19:58:04.040154",
     "exception": false,
     "start_time": "2025-07-30T19:58:04.016607",
     "status": "completed"
    },
    "tags": []
   },
   "source": [
    "# Conformal Prediction"
   ]
  },
  {
   "cell_type": "code",
   "execution_count": 47,
   "id": "160ec6ff",
   "metadata": {
    "execution": {
     "iopub.execute_input": "2025-07-30T19:58:04.088410Z",
     "iopub.status.busy": "2025-07-30T19:58:04.087888Z",
     "iopub.status.idle": "2025-07-30T19:58:04.093752Z",
     "shell.execute_reply": "2025-07-30T19:58:04.092602Z"
    },
    "papermill": {
     "duration": 0.030725,
     "end_time": "2025-07-30T19:58:04.095708",
     "exception": false,
     "start_time": "2025-07-30T19:58:04.064983",
     "status": "completed"
    },
    "tags": []
   },
   "outputs": [],
   "source": [
    "# Miscoverage level for conformal prediction (10% allowed error rate => 90% target coverage)\n",
    "alpha = 0.1"
   ]
  },
  {
   "cell_type": "code",
   "execution_count": 48,
   "id": "eadf4555-3dd3-440e-8e35-f82a4ad9f855",
   "metadata": {
    "execution": {
     "iopub.execute_input": "2025-07-30T19:58:04.147912Z",
     "iopub.status.busy": "2025-07-30T19:58:04.147564Z",
     "iopub.status.idle": "2025-07-30T19:58:04.220671Z",
     "shell.execute_reply": "2025-07-30T19:58:04.219840Z"
    },
    "papermill": {
     "duration": 0.100926,
     "end_time": "2025-07-30T19:58:04.222117",
     "exception": false,
     "start_time": "2025-07-30T19:58:04.121191",
     "status": "completed"
    },
    "tags": []
   },
   "outputs": [],
   "source": [
    "probs_calib = model.predict_proba(X_calib)"
   ]
  },
  {
   "cell_type": "code",
   "execution_count": 49,
   "id": "2ed93547-6d5d-4983-9b36-1ecb300da49a",
   "metadata": {
    "execution": {
     "iopub.execute_input": "2025-07-30T19:58:04.248497Z",
     "iopub.status.busy": "2025-07-30T19:58:04.247668Z",
     "iopub.status.idle": "2025-07-30T19:58:04.252525Z",
     "shell.execute_reply": "2025-07-30T19:58:04.251667Z"
    },
    "papermill": {
     "duration": 0.019186,
     "end_time": "2025-07-30T19:58:04.254053",
     "exception": false,
     "start_time": "2025-07-30T19:58:04.234867",
     "status": "completed"
    },
    "tags": []
   },
   "outputs": [],
   "source": [
    "y_calib = y_calib.values.ravel().astype(int)"
   ]
  },
  {
   "cell_type": "code",
   "execution_count": 50,
   "id": "65d1320d-f588-4b38-9072-62af1ae97f7d",
   "metadata": {
    "execution": {
     "iopub.execute_input": "2025-07-30T19:58:04.286690Z",
     "iopub.status.busy": "2025-07-30T19:58:04.286406Z",
     "iopub.status.idle": "2025-07-30T19:58:04.292560Z",
     "shell.execute_reply": "2025-07-30T19:58:04.291739Z"
    },
    "papermill": {
     "duration": 0.024638,
     "end_time": "2025-07-30T19:58:04.294001",
     "exception": false,
     "start_time": "2025-07-30T19:58:04.269363",
     "status": "completed"
    },
    "tags": []
   },
   "outputs": [],
   "source": [
    "from fairness_multiverse.conformal import compute_nc_scores\n",
    "\n",
    "# Compute nonconformity scores on calibration set (1 - probability of true class)\n",
    "nc_scores = compute_nc_scores(probs_calib, y_calib)"
   ]
  },
  {
   "cell_type": "code",
   "execution_count": 51,
   "id": "df3b8ca3-53b7-43d5-9667-7c85da7aeda2",
   "metadata": {
    "execution": {
     "iopub.execute_input": "2025-07-30T19:58:04.320498Z",
     "iopub.status.busy": "2025-07-30T19:58:04.319920Z",
     "iopub.status.idle": "2025-07-30T19:58:04.325216Z",
     "shell.execute_reply": "2025-07-30T19:58:04.324482Z"
    },
    "papermill": {
     "duration": 0.019456,
     "end_time": "2025-07-30T19:58:04.326589",
     "exception": false,
     "start_time": "2025-07-30T19:58:04.307133",
     "status": "completed"
    },
    "tags": []
   },
   "outputs": [],
   "source": [
    "from fairness_multiverse.conformal import find_threshold\n",
    "\n",
    "# Find conformal threshold q_hat for the given alpha (split conformal method)\n",
    "q_hat = find_threshold(nc_scores, alpha)"
   ]
  },
  {
   "cell_type": "code",
   "execution_count": 52,
   "id": "4d29e6c1-0ef6-4aa4-b8fe-4fe79b0d033a",
   "metadata": {
    "execution": {
     "iopub.execute_input": "2025-07-30T19:58:04.353913Z",
     "iopub.status.busy": "2025-07-30T19:58:04.353102Z",
     "iopub.status.idle": "2025-07-30T19:58:04.359709Z",
     "shell.execute_reply": "2025-07-30T19:58:04.358744Z"
    },
    "papermill": {
     "duration": 0.021326,
     "end_time": "2025-07-30T19:58:04.361157",
     "exception": false,
     "start_time": "2025-07-30T19:58:04.339831",
     "status": "completed"
    },
    "tags": []
   },
   "outputs": [
    {
     "data": {
      "text/plain": [
       "0.6782422413743783"
      ]
     },
     "execution_count": 52,
     "metadata": {},
     "output_type": "execute_result"
    }
   ],
   "source": [
    "q_hat"
   ]
  },
  {
   "cell_type": "code",
   "execution_count": 53,
   "id": "92460794-cdac-4be2-ba28-f28c0515a6fb",
   "metadata": {
    "execution": {
     "iopub.execute_input": "2025-07-30T19:58:04.387722Z",
     "iopub.status.busy": "2025-07-30T19:58:04.387201Z",
     "iopub.status.idle": "2025-07-30T19:58:05.007516Z",
     "shell.execute_reply": "2025-07-30T19:58:05.006481Z"
    },
    "papermill": {
     "duration": 0.634841,
     "end_time": "2025-07-30T19:58:05.009174",
     "exception": false,
     "start_time": "2025-07-30T19:58:04.374333",
     "status": "completed"
    },
    "tags": []
   },
   "outputs": [],
   "source": [
    "from fairness_multiverse.conformal import predict_conformal_sets\n",
    "\n",
    "# Generate prediction sets for each test example\n",
    "pred_sets = predict_conformal_sets(model, X_test, q_hat)"
   ]
  },
  {
   "cell_type": "code",
   "execution_count": 54,
   "id": "d90c9a65-e6db-4f5d-80cd-e68fb7e46829",
   "metadata": {
    "execution": {
     "iopub.execute_input": "2025-07-30T19:58:05.057665Z",
     "iopub.status.busy": "2025-07-30T19:58:05.057089Z",
     "iopub.status.idle": "2025-07-30T19:58:05.062912Z",
     "shell.execute_reply": "2025-07-30T19:58:05.061858Z"
    },
    "papermill": {
     "duration": 0.033141,
     "end_time": "2025-07-30T19:58:05.064864",
     "exception": false,
     "start_time": "2025-07-30T19:58:05.031723",
     "status": "completed"
    },
    "tags": []
   },
   "outputs": [],
   "source": [
    "y_true = y_true.squeeze()"
   ]
  },
  {
   "cell_type": "code",
   "execution_count": 55,
   "id": "3a58a54a-1e68-46b9-927a-df01f18aebc8",
   "metadata": {
    "execution": {
     "iopub.execute_input": "2025-07-30T19:58:05.121692Z",
     "iopub.status.busy": "2025-07-30T19:58:05.121190Z",
     "iopub.status.idle": "2025-07-30T19:58:06.175719Z",
     "shell.execute_reply": "2025-07-30T19:58:06.174721Z"
    },
    "papermill": {
     "duration": 1.084897,
     "end_time": "2025-07-30T19:58:06.177768",
     "exception": false,
     "start_time": "2025-07-30T19:58:05.092871",
     "status": "completed"
    },
    "tags": []
   },
   "outputs": [],
   "source": [
    "from fairness_multiverse.conformal import evaluate_sets\n",
    "\n",
    "# Evaluate coverage and average set size on test data\n",
    "metrics = evaluate_sets(pred_sets, y_true)"
   ]
  },
  {
   "cell_type": "markdown",
   "id": "2b569c12-9aaa-4c88-98c9-bbcd0cf3ebb8",
   "metadata": {
    "papermill": {
     "duration": 0.024417,
     "end_time": "2025-07-30T19:58:06.228075",
     "exception": false,
     "start_time": "2025-07-30T19:58:06.203658",
     "status": "completed"
    },
    "tags": []
   },
   "source": [
    "# CP Metrics"
   ]
  },
  {
   "cell_type": "code",
   "execution_count": 56,
   "id": "5ce0a5cb-201f-45a0-ade5-94c7f0bd6095",
   "metadata": {
    "execution": {
     "iopub.execute_input": "2025-07-30T19:58:06.269947Z",
     "iopub.status.busy": "2025-07-30T19:58:06.269119Z",
     "iopub.status.idle": "2025-07-30T19:58:06.275109Z",
     "shell.execute_reply": "2025-07-30T19:58:06.274406Z"
    },
    "papermill": {
     "duration": 0.022954,
     "end_time": "2025-07-30T19:58:06.276432",
     "exception": false,
     "start_time": "2025-07-30T19:58:06.253478",
     "status": "completed"
    },
    "tags": []
   },
   "outputs": [
    {
     "data": {
      "text/plain": [
       "{'coverage': 0.9119050273102218, 'avg_size': 1.199788206442983}"
      ]
     },
     "execution_count": 56,
     "metadata": {},
     "output_type": "execute_result"
    }
   ],
   "source": [
    "metrics"
   ]
  },
  {
   "cell_type": "code",
   "execution_count": 57,
   "id": "9b9a838d-31c9-430b-ae14-12baee460d17",
   "metadata": {
    "execution": {
     "iopub.execute_input": "2025-07-30T19:58:06.305901Z",
     "iopub.status.busy": "2025-07-30T19:58:06.305156Z",
     "iopub.status.idle": "2025-07-30T19:58:06.310574Z",
     "shell.execute_reply": "2025-07-30T19:58:06.309876Z"
    },
    "papermill": {
     "duration": 0.021796,
     "end_time": "2025-07-30T19:58:06.312042",
     "exception": false,
     "start_time": "2025-07-30T19:58:06.290246",
     "status": "completed"
    },
    "tags": []
   },
   "outputs": [],
   "source": [
    "example_universe = universe.copy()\n",
    "universe_training_year = example_universe.get(\"training_year\")\n",
    "universe_training_size = example_universe.get(\"training_size\")\n",
    "universe_scale = example_universe.get(\"scale\")\n",
    "universe_model = example_universe.get(\"model\")\n",
    "universe_exclude_features = example_universe.get(\"exclude_features\")\n",
    "universe_exclude_subgroups = example_universe.get(\"exclude_subgroups\")"
   ]
  },
  {
   "cell_type": "code",
   "execution_count": 58,
   "id": "f4b6a8ac-9dc0-4245-8a91-5b3b5999c4f9",
   "metadata": {
    "execution": {
     "iopub.execute_input": "2025-07-30T19:58:06.345050Z",
     "iopub.status.busy": "2025-07-30T19:58:06.344486Z",
     "iopub.status.idle": "2025-07-30T19:58:06.349707Z",
     "shell.execute_reply": "2025-07-30T19:58:06.348846Z"
    },
    "papermill": {
     "duration": 0.020733,
     "end_time": "2025-07-30T19:58:06.351106",
     "exception": false,
     "start_time": "2025-07-30T19:58:06.330373",
     "status": "completed"
    },
    "tags": []
   },
   "outputs": [],
   "source": [
    "cp_metrics_dict = {\n",
    "    \"universe_id\": [universe_id],\n",
    "    \"universe_training_year\": [universe_training_year],\n",
    "    \"universe_training_size\": [universe_training_size],\n",
    "    \"universe_scale\": [universe_scale],\n",
    "    \"universe_model\": [universe_model],\n",
    "    \"universe_exclude_features\": [universe_exclude_features],\n",
    "    \"universe_exclude_subgroups\": [universe_exclude_subgroups],\n",
    "    \"q_hat\": [q_hat],\n",
    "    \"coverage\": [metrics[\"coverage\"]],\n",
    "    \"avg_size\": [metrics[\"avg_size\"]],\n",
    "}"
   ]
  },
  {
   "cell_type": "code",
   "execution_count": 59,
   "id": "908acbb1-0371-4915-85ca-3fa520d2efe2",
   "metadata": {
    "execution": {
     "iopub.execute_input": "2025-07-30T19:58:06.379838Z",
     "iopub.status.busy": "2025-07-30T19:58:06.379198Z",
     "iopub.status.idle": "2025-07-30T19:58:06.385537Z",
     "shell.execute_reply": "2025-07-30T19:58:06.384725Z"
    },
    "papermill": {
     "duration": 0.02164,
     "end_time": "2025-07-30T19:58:06.386971",
     "exception": false,
     "start_time": "2025-07-30T19:58:06.365331",
     "status": "completed"
    },
    "tags": []
   },
   "outputs": [
    {
     "data": {
      "text/plain": [
       "{'universe_id': ['98747486137f37cf92985a39255d4805'],\n",
       " 'universe_training_year': ['2014'],\n",
       " 'universe_training_size': ['25k'],\n",
       " 'universe_scale': ['do-not-scale'],\n",
       " 'universe_model': ['penalized_logreg'],\n",
       " 'universe_exclude_features': ['nationality'],\n",
       " 'universe_exclude_subgroups': ['keep-all'],\n",
       " 'q_hat': [0.6782422413743783],\n",
       " 'coverage': [0.9119050273102218],\n",
       " 'avg_size': [1.199788206442983]}"
      ]
     },
     "execution_count": 59,
     "metadata": {},
     "output_type": "execute_result"
    }
   ],
   "source": [
    "cp_metrics_dict"
   ]
  },
  {
   "cell_type": "code",
   "execution_count": 60,
   "id": "33007efc-14e9-4ec6-97ac-56a455c82265",
   "metadata": {
    "execution": {
     "iopub.execute_input": "2025-07-30T19:58:06.448778Z",
     "iopub.status.busy": "2025-07-30T19:58:06.448251Z",
     "iopub.status.idle": "2025-07-30T19:58:06.455335Z",
     "shell.execute_reply": "2025-07-30T19:58:06.454270Z"
    },
    "papermill": {
     "duration": 0.044809,
     "end_time": "2025-07-30T19:58:06.457322",
     "exception": false,
     "start_time": "2025-07-30T19:58:06.412513",
     "status": "completed"
    },
    "tags": []
   },
   "outputs": [],
   "source": [
    "cp_metrics_df = pd.DataFrame(cp_metrics_dict)"
   ]
  },
  {
   "cell_type": "code",
   "execution_count": 61,
   "id": "db12611b-57b2-4910-b9d0-355adfd6e7bf",
   "metadata": {
    "execution": {
     "iopub.execute_input": "2025-07-30T19:58:06.513819Z",
     "iopub.status.busy": "2025-07-30T19:58:06.513139Z",
     "iopub.status.idle": "2025-07-30T19:58:06.536396Z",
     "shell.execute_reply": "2025-07-30T19:58:06.535245Z"
    },
    "papermill": {
     "duration": 0.051537,
     "end_time": "2025-07-30T19:58:06.538075",
     "exception": false,
     "start_time": "2025-07-30T19:58:06.486538",
     "status": "completed"
    },
    "tags": []
   },
   "outputs": [
    {
     "data": {
      "text/html": [
       "<div>\n",
       "<style scoped>\n",
       "    .dataframe tbody tr th:only-of-type {\n",
       "        vertical-align: middle;\n",
       "    }\n",
       "\n",
       "    .dataframe tbody tr th {\n",
       "        vertical-align: top;\n",
       "    }\n",
       "\n",
       "    .dataframe thead th {\n",
       "        text-align: right;\n",
       "    }\n",
       "</style>\n",
       "<table border=\"1\" class=\"dataframe\">\n",
       "  <thead>\n",
       "    <tr style=\"text-align: right;\">\n",
       "      <th></th>\n",
       "      <th>universe_id</th>\n",
       "      <th>universe_training_year</th>\n",
       "      <th>universe_training_size</th>\n",
       "      <th>universe_scale</th>\n",
       "      <th>universe_model</th>\n",
       "      <th>universe_exclude_features</th>\n",
       "      <th>universe_exclude_subgroups</th>\n",
       "      <th>q_hat</th>\n",
       "      <th>coverage</th>\n",
       "      <th>avg_size</th>\n",
       "    </tr>\n",
       "  </thead>\n",
       "  <tbody>\n",
       "    <tr>\n",
       "      <th>0</th>\n",
       "      <td>98747486137f37cf92985a39255d4805</td>\n",
       "      <td>2014</td>\n",
       "      <td>25k</td>\n",
       "      <td>do-not-scale</td>\n",
       "      <td>penalized_logreg</td>\n",
       "      <td>nationality</td>\n",
       "      <td>keep-all</td>\n",
       "      <td>0.678242</td>\n",
       "      <td>0.911905</td>\n",
       "      <td>1.199788</td>\n",
       "    </tr>\n",
       "  </tbody>\n",
       "</table>\n",
       "</div>"
      ],
      "text/plain": [
       "                        universe_id universe_training_year  \\\n",
       "0  98747486137f37cf92985a39255d4805                   2014   \n",
       "\n",
       "  universe_training_size universe_scale    universe_model  \\\n",
       "0                    25k   do-not-scale  penalized_logreg   \n",
       "\n",
       "  universe_exclude_features universe_exclude_subgroups     q_hat  coverage  \\\n",
       "0               nationality                   keep-all  0.678242  0.911905   \n",
       "\n",
       "   avg_size  \n",
       "0  1.199788  "
      ]
     },
     "execution_count": 61,
     "metadata": {},
     "output_type": "execute_result"
    }
   ],
   "source": [
    "cp_metrics_df"
   ]
  },
  {
   "cell_type": "code",
   "execution_count": 62,
   "id": "b7fbde55-a0a1-47e4-9af6-fe4a17fa8c61",
   "metadata": {
    "execution": {
     "iopub.execute_input": "2025-07-30T19:58:06.591538Z",
     "iopub.status.busy": "2025-07-30T19:58:06.590776Z",
     "iopub.status.idle": "2025-07-30T19:58:06.597381Z",
     "shell.execute_reply": "2025-07-30T19:58:06.596197Z"
    },
    "papermill": {
     "duration": 0.03581,
     "end_time": "2025-07-30T19:58:06.599101",
     "exception": false,
     "start_time": "2025-07-30T19:58:06.563291",
     "status": "completed"
    },
    "tags": []
   },
   "outputs": [],
   "source": [
    "# Conditional Coverage & looking at subgroups"
   ]
  },
  {
   "cell_type": "code",
   "execution_count": 63,
   "id": "027ae886-68dd-4141-96c7-805a5450e1ef",
   "metadata": {
    "execution": {
     "iopub.execute_input": "2025-07-30T19:58:06.652669Z",
     "iopub.status.busy": "2025-07-30T19:58:06.651868Z",
     "iopub.status.idle": "2025-07-30T19:58:06.924488Z",
     "shell.execute_reply": "2025-07-30T19:58:06.923294Z"
    },
    "papermill": {
     "duration": 0.301513,
     "end_time": "2025-07-30T19:58:06.926969",
     "exception": false,
     "start_time": "2025-07-30T19:58:06.625456",
     "status": "completed"
    },
    "tags": []
   },
   "outputs": [],
   "source": [
    "from fairness_multiverse.conformal import build_cp_groups\n",
    "\n",
    "cp_groups_df = build_cp_groups(pred_sets, y_true, X_test.index, org_test)\n",
    "#needs universe_id and setting"
   ]
  },
  {
   "cell_type": "code",
   "execution_count": 64,
   "id": "01d5802c-663a-4d1f-9d69-e036faaffbf7",
   "metadata": {
    "execution": {
     "iopub.execute_input": "2025-07-30T19:58:06.993737Z",
     "iopub.status.busy": "2025-07-30T19:58:06.993030Z",
     "iopub.status.idle": "2025-07-30T19:58:06.999225Z",
     "shell.execute_reply": "2025-07-30T19:58:06.998070Z"
    },
    "papermill": {
     "duration": 0.041432,
     "end_time": "2025-07-30T19:58:07.001047",
     "exception": false,
     "start_time": "2025-07-30T19:58:06.959615",
     "status": "completed"
    },
    "tags": []
   },
   "outputs": [],
   "source": [
    "#delete\n",
    "#cp_groups_df"
   ]
  },
  {
   "cell_type": "code",
   "execution_count": 65,
   "id": "fa424af1-d1eb-443d-b717-2d279ada8408",
   "metadata": {
    "execution": {
     "iopub.execute_input": "2025-07-30T19:58:07.055143Z",
     "iopub.status.busy": "2025-07-30T19:58:07.054396Z",
     "iopub.status.idle": "2025-07-30T19:58:07.064262Z",
     "shell.execute_reply": "2025-07-30T19:58:07.063127Z"
    },
    "papermill": {
     "duration": 0.038441,
     "end_time": "2025-07-30T19:58:07.066036",
     "exception": false,
     "start_time": "2025-07-30T19:58:07.027595",
     "status": "completed"
    },
    "tags": []
   },
   "outputs": [],
   "source": [
    "#delete\n",
    "#percentage = (cp_groups_df['nongerman_female'] == 1).mean() * 100\n",
    "#print(percentage)\n"
   ]
  },
  {
   "cell_type": "code",
   "execution_count": 66,
   "id": "6cbdab96-b2b2-45af-ad54-d0516db2e28d",
   "metadata": {
    "execution": {
     "iopub.execute_input": "2025-07-30T19:58:07.118719Z",
     "iopub.status.busy": "2025-07-30T19:58:07.118051Z",
     "iopub.status.idle": "2025-07-30T19:58:08.680599Z",
     "shell.execute_reply": "2025-07-30T19:58:08.679682Z"
    },
    "papermill": {
     "duration": 1.590904,
     "end_time": "2025-07-30T19:58:08.682424",
     "exception": false,
     "start_time": "2025-07-30T19:58:07.091520",
     "status": "completed"
    },
    "tags": []
   },
   "outputs": [],
   "source": [
    "# Define covered = 1 if true_label is in the predicted set\n",
    "cp_groups_df['covered'] = cp_groups_df.apply(\n",
    "    lambda r: int(r['true_label'] in r['pred_set']),\n",
    "    axis=1\n",
    ")"
   ]
  },
  {
   "cell_type": "code",
   "execution_count": 67,
   "id": "338ff529-1a6b-4b87-a931-8e4788d52aad",
   "metadata": {
    "execution": {
     "iopub.execute_input": "2025-07-30T19:58:08.736097Z",
     "iopub.status.busy": "2025-07-30T19:58:08.735416Z",
     "iopub.status.idle": "2025-07-30T19:58:08.740597Z",
     "shell.execute_reply": "2025-07-30T19:58:08.739675Z"
    },
    "papermill": {
     "duration": 0.034305,
     "end_time": "2025-07-30T19:58:08.742499",
     "exception": false,
     "start_time": "2025-07-30T19:58:08.708194",
     "status": "completed"
    },
    "tags": []
   },
   "outputs": [],
   "source": [
    "#cp_groups_df"
   ]
  },
  {
   "cell_type": "code",
   "execution_count": 68,
   "id": "90032e27-66df-4540-9169-4e89cfbaa758",
   "metadata": {
    "execution": {
     "iopub.execute_input": "2025-07-30T19:58:08.796752Z",
     "iopub.status.busy": "2025-07-30T19:58:08.796272Z",
     "iopub.status.idle": "2025-07-30T19:58:08.807494Z",
     "shell.execute_reply": "2025-07-30T19:58:08.806473Z"
    },
    "papermill": {
     "duration": 0.040102,
     "end_time": "2025-07-30T19:58:08.809364",
     "exception": false,
     "start_time": "2025-07-30T19:58:08.769262",
     "status": "completed"
    },
    "tags": []
   },
   "outputs": [],
   "source": [
    "subgroups = ['frau1','nongerman','nongerman_male','nongerman_female']\n",
    "\n",
    "# Conditional coverage for subgroup==1\n",
    "cond_coverage = {\n",
    "    g: cp_groups_df.loc[cp_groups_df[g]==1, 'covered'].mean()\n",
    "    for g in subgroups\n",
    "}"
   ]
  },
  {
   "cell_type": "code",
   "execution_count": 69,
   "id": "1e348fb1-b9c3-45bc-ba23-f016827a7e0d",
   "metadata": {
    "execution": {
     "iopub.execute_input": "2025-07-30T19:58:08.869532Z",
     "iopub.status.busy": "2025-07-30T19:58:08.868451Z",
     "iopub.status.idle": "2025-07-30T19:58:08.875866Z",
     "shell.execute_reply": "2025-07-30T19:58:08.874933Z"
    },
    "papermill": {
     "duration": 0.040729,
     "end_time": "2025-07-30T19:58:08.877420",
     "exception": false,
     "start_time": "2025-07-30T19:58:08.836691",
     "status": "completed"
    },
    "tags": []
   },
   "outputs": [
    {
     "data": {
      "text/plain": [
       "{'frau1': 0.9105270252055533,\n",
       " 'nongerman': 0.9291528658844664,\n",
       " 'nongerman_male': 0.9428082500225164,\n",
       " 'nongerman_female': 0.9065573770491804}"
      ]
     },
     "execution_count": 69,
     "metadata": {},
     "output_type": "execute_result"
    }
   ],
   "source": [
    "cond_coverage"
   ]
  },
  {
   "cell_type": "code",
   "execution_count": 70,
   "id": "f5093324-c3dd-4d63-bc4c-8d945e5c8bbb",
   "metadata": {
    "execution": {
     "iopub.execute_input": "2025-07-30T19:58:08.927680Z",
     "iopub.status.busy": "2025-07-30T19:58:08.926938Z",
     "iopub.status.idle": "2025-07-30T19:58:08.934472Z",
     "shell.execute_reply": "2025-07-30T19:58:08.933415Z"
    },
    "papermill": {
     "duration": 0.034355,
     "end_time": "2025-07-30T19:58:08.936127",
     "exception": false,
     "start_time": "2025-07-30T19:58:08.901772",
     "status": "completed"
    },
    "tags": []
   },
   "outputs": [],
   "source": [
    "for subgroup, cov in cond_coverage.items():\n",
    "    cp_metrics_df[f\"cov_{subgroup}\"] = cov"
   ]
  },
  {
   "cell_type": "code",
   "execution_count": 71,
   "id": "6e872e10-dbe5-49e8-b554-5030c98ff75d",
   "metadata": {
    "execution": {
     "iopub.execute_input": "2025-07-30T19:58:08.987680Z",
     "iopub.status.busy": "2025-07-30T19:58:08.986932Z",
     "iopub.status.idle": "2025-07-30T19:58:09.009449Z",
     "shell.execute_reply": "2025-07-30T19:58:09.008307Z"
    },
    "papermill": {
     "duration": 0.061102,
     "end_time": "2025-07-30T19:58:09.022880",
     "exception": false,
     "start_time": "2025-07-30T19:58:08.961778",
     "status": "completed"
    },
    "tags": []
   },
   "outputs": [
    {
     "data": {
      "text/html": [
       "<div>\n",
       "<style scoped>\n",
       "    .dataframe tbody tr th:only-of-type {\n",
       "        vertical-align: middle;\n",
       "    }\n",
       "\n",
       "    .dataframe tbody tr th {\n",
       "        vertical-align: top;\n",
       "    }\n",
       "\n",
       "    .dataframe thead th {\n",
       "        text-align: right;\n",
       "    }\n",
       "</style>\n",
       "<table border=\"1\" class=\"dataframe\">\n",
       "  <thead>\n",
       "    <tr style=\"text-align: right;\">\n",
       "      <th></th>\n",
       "      <th>universe_id</th>\n",
       "      <th>universe_training_year</th>\n",
       "      <th>universe_training_size</th>\n",
       "      <th>universe_scale</th>\n",
       "      <th>universe_model</th>\n",
       "      <th>universe_exclude_features</th>\n",
       "      <th>universe_exclude_subgroups</th>\n",
       "      <th>q_hat</th>\n",
       "      <th>coverage</th>\n",
       "      <th>avg_size</th>\n",
       "      <th>cov_frau1</th>\n",
       "      <th>cov_nongerman</th>\n",
       "      <th>cov_nongerman_male</th>\n",
       "      <th>cov_nongerman_female</th>\n",
       "    </tr>\n",
       "  </thead>\n",
       "  <tbody>\n",
       "    <tr>\n",
       "      <th>0</th>\n",
       "      <td>98747486137f37cf92985a39255d4805</td>\n",
       "      <td>2014</td>\n",
       "      <td>25k</td>\n",
       "      <td>do-not-scale</td>\n",
       "      <td>penalized_logreg</td>\n",
       "      <td>nationality</td>\n",
       "      <td>keep-all</td>\n",
       "      <td>0.678242</td>\n",
       "      <td>0.911905</td>\n",
       "      <td>1.199788</td>\n",
       "      <td>0.910527</td>\n",
       "      <td>0.929153</td>\n",
       "      <td>0.942808</td>\n",
       "      <td>0.906557</td>\n",
       "    </tr>\n",
       "  </tbody>\n",
       "</table>\n",
       "</div>"
      ],
      "text/plain": [
       "                        universe_id universe_training_year  \\\n",
       "0  98747486137f37cf92985a39255d4805                   2014   \n",
       "\n",
       "  universe_training_size universe_scale    universe_model  \\\n",
       "0                    25k   do-not-scale  penalized_logreg   \n",
       "\n",
       "  universe_exclude_features universe_exclude_subgroups     q_hat  coverage  \\\n",
       "0               nationality                   keep-all  0.678242  0.911905   \n",
       "\n",
       "   avg_size  cov_frau1  cov_nongerman  cov_nongerman_male  \\\n",
       "0  1.199788   0.910527       0.929153            0.942808   \n",
       "\n",
       "   cov_nongerman_female  \n",
       "0              0.906557  "
      ]
     },
     "execution_count": 71,
     "metadata": {},
     "output_type": "execute_result"
    }
   ],
   "source": [
    "cp_metrics_df"
   ]
  },
  {
   "cell_type": "markdown",
   "id": "33774451",
   "metadata": {
    "papermill": {
     "duration": 0.025698,
     "end_time": "2025-07-30T19:58:09.167993",
     "exception": false,
     "start_time": "2025-07-30T19:58:09.142295",
     "status": "completed"
    },
    "tags": []
   },
   "source": [
    "# (Fairness) Metrics"
   ]
  },
  {
   "cell_type": "code",
   "execution_count": 72,
   "id": "debc5d62",
   "metadata": {
    "execution": {
     "iopub.execute_input": "2025-07-30T19:58:09.221428Z",
     "iopub.status.busy": "2025-07-30T19:58:09.220700Z",
     "iopub.status.idle": "2025-07-30T19:58:09.244904Z",
     "shell.execute_reply": "2025-07-30T19:58:09.243883Z"
    },
    "papermill": {
     "duration": 0.052716,
     "end_time": "2025-07-30T19:58:09.246740",
     "exception": false,
     "start_time": "2025-07-30T19:58:09.194024",
     "status": "completed"
    },
    "tags": []
   },
   "outputs": [],
   "source": [
    "# do I need to include maxdeutsch1.missing?\n",
    "\n",
    "import numpy as np\n",
    "\n",
    "colname_to_bin = \"maxdeutsch1\"\n",
    "majority_value = org_train[colname_to_bin].mode()[0]\n",
    "\n",
    "org_test[\"majmin\"] = np.where(org_test[colname_to_bin] == majority_value, \"majority\", \"minority\")"
   ]
  },
  {
   "cell_type": "code",
   "execution_count": 73,
   "id": "06a50de5",
   "metadata": {
    "execution": {
     "iopub.execute_input": "2025-07-30T19:58:09.301769Z",
     "iopub.status.busy": "2025-07-30T19:58:09.301254Z",
     "iopub.status.idle": "2025-07-30T19:58:12.104655Z",
     "shell.execute_reply": "2025-07-30T19:58:12.103659Z"
    },
    "papermill": {
     "duration": 2.834493,
     "end_time": "2025-07-30T19:58:12.106681",
     "exception": false,
     "start_time": "2025-07-30T19:58:09.272188",
     "status": "completed"
    },
    "tags": []
   },
   "outputs": [],
   "source": [
    "example_universe = universe.copy()\n",
    "example_universe[\"cutoff\"] = example_universe[\"cutoff\"][0]\n",
    "example_universe[\"eval_fairness_grouping\"] = example_universe[\"eval_fairness_grouping\"][0]\n",
    "fairness_dict, metric_frame = universe_analysis.compute_metrics(\n",
    "    example_universe,\n",
    "    y_pred_prob=probs_test,\n",
    "    y_test=y_true,\n",
    "    org_test=org_test,\n",
    ")"
   ]
  },
  {
   "cell_type": "markdown",
   "id": "f95d4e02",
   "metadata": {
    "papermill": {
     "duration": 0.029722,
     "end_time": "2025-07-30T19:58:12.168639",
     "exception": false,
     "start_time": "2025-07-30T19:58:12.138917",
     "status": "completed"
    },
    "tags": []
   },
   "source": [
    "# Overall"
   ]
  },
  {
   "cell_type": "markdown",
   "id": "bdee4871",
   "metadata": {
    "papermill": {
     "duration": 0.025702,
     "end_time": "2025-07-30T19:58:12.221982",
     "exception": false,
     "start_time": "2025-07-30T19:58:12.196280",
     "status": "completed"
    },
    "tags": []
   },
   "source": [
    "Fairness\n",
    "Main fairness target: Equalized Odds. Seems to be a better fit than equal opportunity, since we're not only interested in Y = 1. Seems to be a better fit than demographic parity, since we also care about accuracy, not just equal distribution of preds.\n",
    "\n",
    "Pick column for computation of fairness metrics\n",
    "\n",
    "Performance\n",
    "Overall performance measures, most interesting in relation to the measures split by group below"
   ]
  },
  {
   "cell_type": "code",
   "execution_count": 74,
   "id": "c4e067c6",
   "metadata": {
    "execution": {
     "iopub.execute_input": "2025-07-30T19:58:12.274209Z",
     "iopub.status.busy": "2025-07-30T19:58:12.273797Z",
     "iopub.status.idle": "2025-07-30T19:58:12.282695Z",
     "shell.execute_reply": "2025-07-30T19:58:12.281748Z"
    },
    "papermill": {
     "duration": 0.035398,
     "end_time": "2025-07-30T19:58:12.284501",
     "exception": false,
     "start_time": "2025-07-30T19:58:12.249103",
     "status": "completed"
    },
    "tags": []
   },
   "outputs": [
    {
     "data": {
      "text/plain": [
       "accuracy                   0.217022\n",
       "balanced accuracy          0.532188\n",
       "f1                         0.238555\n",
       "precision                  0.136279\n",
       "false positive rate        0.891742\n",
       "false negative rate        0.043883\n",
       "selection rate             0.900000\n",
       "count                  89710.000000\n",
       "dtype: float64"
      ]
     },
     "execution_count": 74,
     "metadata": {},
     "output_type": "execute_result"
    }
   ],
   "source": [
    "metric_frame.overall"
   ]
  },
  {
   "cell_type": "markdown",
   "id": "e968fe9d",
   "metadata": {
    "papermill": {
     "duration": 0.024226,
     "end_time": "2025-07-30T19:58:12.337644",
     "exception": false,
     "start_time": "2025-07-30T19:58:12.313418",
     "status": "completed"
    },
    "tags": []
   },
   "source": [
    "By Group"
   ]
  },
  {
   "cell_type": "code",
   "execution_count": 75,
   "id": "ec325bce",
   "metadata": {
    "execution": {
     "iopub.execute_input": "2025-07-30T19:58:12.386178Z",
     "iopub.status.busy": "2025-07-30T19:58:12.385788Z",
     "iopub.status.idle": "2025-07-30T19:58:12.398632Z",
     "shell.execute_reply": "2025-07-30T19:58:12.397828Z"
    },
    "papermill": {
     "duration": 0.032595,
     "end_time": "2025-07-30T19:58:12.400001",
     "exception": false,
     "start_time": "2025-07-30T19:58:12.367406",
     "status": "completed"
    },
    "tags": []
   },
   "outputs": [
    {
     "data": {
      "text/html": [
       "<div>\n",
       "<style scoped>\n",
       "    .dataframe tbody tr th:only-of-type {\n",
       "        vertical-align: middle;\n",
       "    }\n",
       "\n",
       "    .dataframe tbody tr th {\n",
       "        vertical-align: top;\n",
       "    }\n",
       "\n",
       "    .dataframe thead th {\n",
       "        text-align: right;\n",
       "    }\n",
       "</style>\n",
       "<table border=\"1\" class=\"dataframe\">\n",
       "  <thead>\n",
       "    <tr style=\"text-align: right;\">\n",
       "      <th></th>\n",
       "      <th>accuracy</th>\n",
       "      <th>balanced accuracy</th>\n",
       "      <th>f1</th>\n",
       "      <th>precision</th>\n",
       "      <th>false positive rate</th>\n",
       "      <th>false negative rate</th>\n",
       "      <th>selection rate</th>\n",
       "      <th>count</th>\n",
       "    </tr>\n",
       "    <tr>\n",
       "      <th>majmin</th>\n",
       "      <th></th>\n",
       "      <th></th>\n",
       "      <th></th>\n",
       "      <th></th>\n",
       "      <th></th>\n",
       "      <th></th>\n",
       "      <th></th>\n",
       "      <th></th>\n",
       "    </tr>\n",
       "  </thead>\n",
       "  <tbody>\n",
       "    <tr>\n",
       "      <th>majority</th>\n",
       "      <td>0.238875</td>\n",
       "      <td>0.539605</td>\n",
       "      <td>0.247717</td>\n",
       "      <td>0.142465</td>\n",
       "      <td>0.869149</td>\n",
       "      <td>0.051641</td>\n",
       "      <td>0.879615</td>\n",
       "      <td>69170.0</td>\n",
       "    </tr>\n",
       "    <tr>\n",
       "      <th>minority</th>\n",
       "      <td>0.143427</td>\n",
       "      <td>0.509844</td>\n",
       "      <td>0.209756</td>\n",
       "      <td>0.117360</td>\n",
       "      <td>0.966377</td>\n",
       "      <td>0.013936</td>\n",
       "      <td>0.968647</td>\n",
       "      <td>20540.0</td>\n",
       "    </tr>\n",
       "  </tbody>\n",
       "</table>\n",
       "</div>"
      ],
      "text/plain": [
       "          accuracy  balanced accuracy        f1  precision  \\\n",
       "majmin                                                       \n",
       "majority  0.238875           0.539605  0.247717   0.142465   \n",
       "minority  0.143427           0.509844  0.209756   0.117360   \n",
       "\n",
       "          false positive rate  false negative rate  selection rate    count  \n",
       "majmin                                                                       \n",
       "majority             0.869149             0.051641        0.879615  69170.0  \n",
       "minority             0.966377             0.013936        0.968647  20540.0  "
      ]
     },
     "execution_count": 75,
     "metadata": {},
     "output_type": "execute_result"
    }
   ],
   "source": [
    "metric_frame.by_group"
   ]
  },
  {
   "cell_type": "code",
   "execution_count": 76,
   "id": "a9ddbe63",
   "metadata": {
    "execution": {
     "iopub.execute_input": "2025-07-30T19:58:12.430261Z",
     "iopub.status.busy": "2025-07-30T19:58:12.429581Z",
     "iopub.status.idle": "2025-07-30T19:58:14.572543Z",
     "shell.execute_reply": "2025-07-30T19:58:14.571384Z"
    },
    "papermill": {
     "duration": 2.15931,
     "end_time": "2025-07-30T19:58:14.574350",
     "exception": false,
     "start_time": "2025-07-30T19:58:12.415040",
     "status": "completed"
    },
    "tags": []
   },
   "outputs": [
    {
     "data": {
      "text/plain": [
       "array([[<Axes: title={'center': 'accuracy'}, xlabel='majmin'>,\n",
       "        <Axes: title={'center': 'balanced accuracy'}, xlabel='majmin'>,\n",
       "        <Axes: title={'center': 'f1'}, xlabel='majmin'>],\n",
       "       [<Axes: title={'center': 'precision'}, xlabel='majmin'>,\n",
       "        <Axes: title={'center': 'false positive rate'}, xlabel='majmin'>,\n",
       "        <Axes: title={'center': 'false negative rate'}, xlabel='majmin'>],\n",
       "       [<Axes: title={'center': 'selection rate'}, xlabel='majmin'>,\n",
       "        <Axes: title={'center': 'count'}, xlabel='majmin'>,\n",
       "        <Axes: xlabel='majmin'>]], dtype=object)"
      ]
     },
     "execution_count": 76,
     "metadata": {},
     "output_type": "execute_result"
    },
    {
     "data": {
      "image/png": "[encoded data removed]",
      "text/plain": [
       "<Figure size 1200x800 with 9 Axes>"
      ]
     },
     "metadata": {},
     "output_type": "display_data"
    }
   ],
   "source": [
    "# In a graphic\n",
    "metric_frame.by_group.plot.bar(\n",
    "    subplots=True,\n",
    "    layout=[3, 3],\n",
    "    legend=False,\n",
    "    figsize=[12, 8],\n",
    "    title=\"Show all metrics\",\n",
    ")"
   ]
  },
  {
   "cell_type": "markdown",
   "id": "f57a0bac",
   "metadata": {
    "papermill": {
     "duration": 0.031426,
     "end_time": "2025-07-30T19:58:14.640497",
     "exception": false,
     "start_time": "2025-07-30T19:58:14.609071",
     "status": "completed"
    },
    "tags": []
   },
   "source": [
    "# Final Output"
   ]
  },
  {
   "cell_type": "code",
   "execution_count": 77,
   "id": "96d280a3",
   "metadata": {
    "execution": {
     "iopub.execute_input": "2025-07-30T19:58:14.704471Z",
     "iopub.status.busy": "2025-07-30T19:58:14.703771Z",
     "iopub.status.idle": "2025-07-30T19:58:14.713133Z",
     "shell.execute_reply": "2025-07-30T19:58:14.712061Z"
    },
    "papermill": {
     "duration": 0.043394,
     "end_time": "2025-07-30T19:58:14.714757",
     "exception": false,
     "start_time": "2025-07-30T19:58:14.671363",
     "status": "completed"
    },
    "tags": []
   },
   "outputs": [
    {
     "data": {
      "text/plain": [
       "4"
      ]
     },
     "execution_count": 77,
     "metadata": {},
     "output_type": "execute_result"
    }
   ],
   "source": [
    "sub_universes = universe_analysis.generate_sub_universes()\n",
    "len(sub_universes)"
   ]
  },
  {
   "cell_type": "code",
   "execution_count": 78,
   "id": "92adf7ba",
   "metadata": {
    "execution": {
     "iopub.execute_input": "2025-07-30T19:58:14.775290Z",
     "iopub.status.busy": "2025-07-30T19:58:14.774802Z",
     "iopub.status.idle": "2025-07-30T19:58:14.779914Z",
     "shell.execute_reply": "2025-07-30T19:58:14.778877Z"
    },
    "papermill": {
     "duration": 0.034928,
     "end_time": "2025-07-30T19:58:14.781609",
     "exception": false,
     "start_time": "2025-07-30T19:58:14.746681",
     "status": "completed"
    },
    "tags": []
   },
   "outputs": [],
   "source": [
    "def filter_sub_universe_data(sub_universe, org_test):\n",
    "    # Keep all rows — no filtering\n",
    "    keep_rows_mask = np.ones(org_test.shape[0], dtype=bool)\n",
    "\n",
    "    print(f\"[INFO] Keeping all rows: {keep_rows_mask.sum()} rows retained.\")\n",
    "    return keep_rows_mask"
   ]
  },
  {
   "cell_type": "code",
   "execution_count": 79,
   "id": "4a759155",
   "metadata": {
    "execution": {
     "iopub.execute_input": "2025-07-30T19:58:14.818672Z",
     "iopub.status.busy": "2025-07-30T19:58:14.818222Z",
     "iopub.status.idle": "2025-07-30T19:58:24.645377Z",
     "shell.execute_reply": "2025-07-30T19:58:24.643260Z"
    },
    "papermill": {
     "duration": 9.845728,
     "end_time": "2025-07-30T19:58:24.647082",
     "exception": false,
     "start_time": "2025-07-30T19:58:14.801354",
     "status": "completed"
    },
    "tags": []
   },
   "outputs": [
    {
     "name": "stdout",
     "output_type": "stream",
     "text": [
      "Stopping execution_time clock.\n",
      "[INFO] Keeping all rows: 89710 rows retained.\n"
     ]
    },
    {
     "name": "stdout",
     "output_type": "stream",
     "text": [
      "[INFO] Keeping all rows: 89710 rows retained.\n"
     ]
    },
    {
     "name": "stdout",
     "output_type": "stream",
     "text": [
      "[INFO] Keeping all rows: 89710 rows retained.\n"
     ]
    },
    {
     "name": "stdout",
     "output_type": "stream",
     "text": [
      "[INFO] Keeping all rows: 89710 rows retained.\n"
     ]
    },
    {
     "data": {
      "text/html": [
       "<div>\n",
       "<style scoped>\n",
       "    .dataframe tbody tr th:only-of-type {\n",
       "        vertical-align: middle;\n",
       "    }\n",
       "\n",
       "    .dataframe tbody tr th {\n",
       "        vertical-align: top;\n",
       "    }\n",
       "\n",
       "    .dataframe thead th {\n",
       "        text-align: right;\n",
       "    }\n",
       "</style>\n",
       "<table border=\"1\" class=\"dataframe\">\n",
       "  <thead>\n",
       "    <tr style=\"text-align: right;\">\n",
       "      <th></th>\n",
       "      <th>run_no</th>\n",
       "      <th>universe_id</th>\n",
       "      <th>universe_settings</th>\n",
       "      <th>execution_time</th>\n",
       "      <th>test_size_n</th>\n",
       "      <th>test_size_frac</th>\n",
       "      <th>fair_main_equalized_odds_difference</th>\n",
       "      <th>fair_main_equalized_odds_ratio</th>\n",
       "      <th>fair_main_demographic_parity_difference</th>\n",
       "      <th>fair_main_demographic_parity_ratio</th>\n",
       "      <th>...</th>\n",
       "      <th>perf_grp_precision_0</th>\n",
       "      <th>perf_grp_precision_1</th>\n",
       "      <th>perf_grp_false positive rate_0</th>\n",
       "      <th>perf_grp_false positive rate_1</th>\n",
       "      <th>perf_grp_false negative rate_0</th>\n",
       "      <th>perf_grp_false negative rate_1</th>\n",
       "      <th>perf_grp_selection rate_0</th>\n",
       "      <th>perf_grp_selection rate_1</th>\n",
       "      <th>perf_grp_count_0</th>\n",
       "      <th>perf_grp_count_1</th>\n",
       "    </tr>\n",
       "  </thead>\n",
       "  <tbody>\n",
       "    <tr>\n",
       "      <th>0</th>\n",
       "      <td>14</td>\n",
       "      <td>98747486137f37cf92985a39255d4805</td>\n",
       "      <td>{\"cutoff\": \"quantile_0.1\", \"eval_fairness_grou...</td>\n",
       "      <td>27.359235</td>\n",
       "      <td>89710</td>\n",
       "      <td>1.0</td>\n",
       "      <td>0.097228</td>\n",
       "      <td>0.899389</td>\n",
       "      <td>0.089031</td>\n",
       "      <td>0.908087</td>\n",
       "      <td>...</td>\n",
       "      <td>NaN</td>\n",
       "      <td>NaN</td>\n",
       "      <td>NaN</td>\n",
       "      <td>NaN</td>\n",
       "      <td>NaN</td>\n",
       "      <td>NaN</td>\n",
       "      <td>NaN</td>\n",
       "      <td>NaN</td>\n",
       "      <td>NaN</td>\n",
       "      <td>NaN</td>\n",
       "    </tr>\n",
       "    <tr>\n",
       "      <th>0</th>\n",
       "      <td>14</td>\n",
       "      <td>98747486137f37cf92985a39255d4805</td>\n",
       "      <td>{\"cutoff\": \"quantile_0.1\", \"eval_fairness_grou...</td>\n",
       "      <td>27.359235</td>\n",
       "      <td>89710</td>\n",
       "      <td>1.0</td>\n",
       "      <td>0.097228</td>\n",
       "      <td>0.899389</td>\n",
       "      <td>0.089031</td>\n",
       "      <td>0.908087</td>\n",
       "      <td>...</td>\n",
       "      <td>0.117360</td>\n",
       "      <td>0.142465</td>\n",
       "      <td>0.966377</td>\n",
       "      <td>0.869149</td>\n",
       "      <td>0.013936</td>\n",
       "      <td>0.051641</td>\n",
       "      <td>0.968647</td>\n",
       "      <td>0.879615</td>\n",
       "      <td>20540.0</td>\n",
       "      <td>69170.0</td>\n",
       "    </tr>\n",
       "    <tr>\n",
       "      <th>0</th>\n",
       "      <td>14</td>\n",
       "      <td>98747486137f37cf92985a39255d4805</td>\n",
       "      <td>{\"cutoff\": \"quantile_0.25\", \"eval_fairness_gro...</td>\n",
       "      <td>27.359235</td>\n",
       "      <td>89710</td>\n",
       "      <td>1.0</td>\n",
       "      <td>0.213323</td>\n",
       "      <td>0.761299</td>\n",
       "      <td>0.195434</td>\n",
       "      <td>0.783016</td>\n",
       "      <td>...</td>\n",
       "      <td>NaN</td>\n",
       "      <td>NaN</td>\n",
       "      <td>NaN</td>\n",
       "      <td>NaN</td>\n",
       "      <td>NaN</td>\n",
       "      <td>NaN</td>\n",
       "      <td>NaN</td>\n",
       "      <td>NaN</td>\n",
       "      <td>NaN</td>\n",
       "      <td>NaN</td>\n",
       "    </tr>\n",
       "    <tr>\n",
       "      <th>0</th>\n",
       "      <td>14</td>\n",
       "      <td>98747486137f37cf92985a39255d4805</td>\n",
       "      <td>{\"cutoff\": \"quantile_0.25\", \"eval_fairness_gro...</td>\n",
       "      <td>27.359235</td>\n",
       "      <td>89710</td>\n",
       "      <td>1.0</td>\n",
       "      <td>0.213323</td>\n",
       "      <td>0.761299</td>\n",
       "      <td>0.195434</td>\n",
       "      <td>0.783016</td>\n",
       "      <td>...</td>\n",
       "      <td>0.122162</td>\n",
       "      <td>0.162765</td>\n",
       "      <td>0.893683</td>\n",
       "      <td>0.680360</td>\n",
       "      <td>0.045608</td>\n",
       "      <td>0.131291</td>\n",
       "      <td>0.900682</td>\n",
       "      <td>0.705248</td>\n",
       "      <td>20540.0</td>\n",
       "      <td>69170.0</td>\n",
       "    </tr>\n",
       "  </tbody>\n",
       "</table>\n",
       "<p>4 rows × 50 columns</p>\n",
       "</div>"
      ],
      "text/plain": [
       "  run_no                       universe_id  \\\n",
       "0     14  98747486137f37cf92985a39255d4805   \n",
       "0     14  98747486137f37cf92985a39255d4805   \n",
       "0     14  98747486137f37cf92985a39255d4805   \n",
       "0     14  98747486137f37cf92985a39255d4805   \n",
       "\n",
       "                                   universe_settings  execution_time  \\\n",
       "0  {\"cutoff\": \"quantile_0.1\", \"eval_fairness_grou...       27.359235   \n",
       "0  {\"cutoff\": \"quantile_0.1\", \"eval_fairness_grou...       27.359235   \n",
       "0  {\"cutoff\": \"quantile_0.25\", \"eval_fairness_gro...       27.359235   \n",
       "0  {\"cutoff\": \"quantile_0.25\", \"eval_fairness_gro...       27.359235   \n",
       "\n",
       "   test_size_n  test_size_frac  fair_main_equalized_odds_difference  \\\n",
       "0        89710             1.0                             0.097228   \n",
       "0        89710             1.0                             0.097228   \n",
       "0        89710             1.0                             0.213323   \n",
       "0        89710             1.0                             0.213323   \n",
       "\n",
       "   fair_main_equalized_odds_ratio  fair_main_demographic_parity_difference  \\\n",
       "0                        0.899389                                 0.089031   \n",
       "0                        0.899389                                 0.089031   \n",
       "0                        0.761299                                 0.195434   \n",
       "0                        0.761299                                 0.195434   \n",
       "\n",
       "   fair_main_demographic_parity_ratio  ...  perf_grp_precision_0  \\\n",
       "0                            0.908087  ...                   NaN   \n",
       "0                            0.908087  ...              0.117360   \n",
       "0                            0.783016  ...                   NaN   \n",
       "0                            0.783016  ...              0.122162   \n",
       "\n",
       "   perf_grp_precision_1  perf_grp_false positive rate_0  \\\n",
       "0                   NaN                             NaN   \n",
       "0              0.142465                        0.966377   \n",
       "0                   NaN                             NaN   \n",
       "0              0.162765                        0.893683   \n",
       "\n",
       "   perf_grp_false positive rate_1  perf_grp_false negative rate_0  \\\n",
       "0                             NaN                             NaN   \n",
       "0                        0.869149                        0.013936   \n",
       "0                             NaN                             NaN   \n",
       "0                        0.680360                        0.045608   \n",
       "\n",
       "   perf_grp_false negative rate_1  perf_grp_selection rate_0  \\\n",
       "0                             NaN                        NaN   \n",
       "0                        0.051641                   0.968647   \n",
       "0                             NaN                        NaN   \n",
       "0                        0.131291                   0.900682   \n",
       "\n",
       "   perf_grp_selection rate_1  perf_grp_count_0  perf_grp_count_1  \n",
       "0                        NaN               NaN               NaN  \n",
       "0                   0.879615           20540.0           69170.0  \n",
       "0                        NaN               NaN               NaN  \n",
       "0                   0.705248           20540.0           69170.0  \n",
       "\n",
       "[4 rows x 50 columns]"
      ]
     },
     "execution_count": 79,
     "metadata": {},
     "output_type": "execute_result"
    }
   ],
   "source": [
    "final_output = universe_analysis.generate_final_output(\n",
    "    y_pred_prob=probs_test,\n",
    "    y_test=y_true,\n",
    "    org_test=org_test,\n",
    "    filter_data=filter_sub_universe_data,\n",
    "    cp_metrics_df=cp_metrics_df,\n",
    "    save=True,\n",
    ")\n",
    "final_output"
   ]
  },
  {
   "cell_type": "code",
   "execution_count": null,
   "id": "721ff514-cb11-46f8-b6fc-50392f74b5cb",
   "metadata": {
    "papermill": {
     "duration": 0.030623,
     "end_time": "2025-07-30T19:58:24.713262",
     "exception": false,
     "start_time": "2025-07-30T19:58:24.682639",
     "status": "completed"
    },
    "tags": []
   },
   "outputs": [],
   "source": []
  }
 ],
 "metadata": {
  "celltoolbar": "Tags",
  "kernelspec": {
   "display_name": "Python (CMA Fairness)",
   "language": "python",
   "name": "cma_fair_env"
  },
  "language_info": {
   "codemirror_mode": {
    "name": "ipython",
    "version": 3
   },
   "file_extension": ".py",
   "mimetype": "text/x-python",
   "name": "python",
   "nbconvert_exporter": "python",
   "pygments_lexer": "ipython3",
   "version": "3.10.12"
  },
  "papermill": {
   "default_parameters": {},
   "duration": 41.486784,
   "end_time": "2025-07-30T19:58:25.464725",
   "environment_variables": {},
   "exception": null,
   "input_path": "universe_analysis.ipynb",
   "output_path": "output/runs/14/notebooks/m_14-98747486137f37cf92985a39255d4805.ipynb",
   "parameters": {
    "output_dir": "output",
    "run_no": "14",
    "seed": "2023",
    "universe": "{\"cutoff\": [\"quantile_0.1\", \"quantile_0.25\"], \"eval_fairness_grouping\": [\"majority-minority\", \"nationality-all\"], \"exclude_features\": \"nationality\", \"exclude_subgroups\": \"keep-all\", \"model\": \"penalized_logreg\", \"scale\": \"do-not-scale\", \"training_size\": \"25k\", \"training_year\": \"2014\"}",
    "universe_id": "98747486137f37cf92985a39255d4805"
   },
   "start_time": "2025-07-30T19:57:43.977941",
   "version": "2.6.0"
  }
 },
 "nbformat": 4,
 "nbformat_minor": 5
}