{
 "cells": [
  {
   "cell_type": "code",
   "execution_count": 1,
   "id": "f159f837-637b-42ba-96b5-ec9a68c44524",
   "metadata": {
    "execution": {
     "iopub.execute_input": "2025-07-30T21:52:24.536916Z",
     "iopub.status.busy": "2025-07-30T21:52:24.536279Z",
     "iopub.status.idle": "2025-07-30T21:52:24.549073Z",
     "shell.execute_reply": "2025-07-30T21:52:24.548117Z"
    },
    "papermill": {
     "duration": 0.044818,
     "end_time": "2025-07-30T21:52:24.550807",
     "exception": false,
     "start_time": "2025-07-30T21:52:24.505989",
     "status": "completed"
    },
    "tags": []
   },
   "outputs": [
    {
     "name": "stdout",
     "output_type": "stream",
     "text": [
      "/dss/dsshome1/0C/ra93lal2/cma/CMA_Fairness_v2\n"
     ]
    },
    {
     "name": "stderr",
     "output_type": "stream",
     "text": [
      "/dss/dsshome1/0C/ra93lal2/.local/share/virtualenvs/CMA_Fairness_v2-3j10GkSs/lib/python3.10/site-packages/IPython/core/magics/osm.py:393: UserWarning: This is now an optional IPython functionality, using bookmarks requires you to install the `pickleshare` library.\n",
      "  bkms = self.shell.db.get('bookmarks', {})\n",
      "/dss/dsshome1/0C/ra93lal2/.local/share/virtualenvs/CMA_Fairness_v2-3j10GkSs/lib/python3.10/site-packages/IPython/core/magics/osm.py:417: UserWarning: This is now an optional IPython functionality, setting dhist requires you to install the `pickleshare` library.\n",
      "  self.shell.db['dhist'] = compress_dhist(dhist)[-100:]\n"
     ]
    }
   ],
   "source": [
    "%cd ~/cma/CMA_Fairness_v2"
   ]
  },
  {
   "cell_type": "markdown",
   "id": "de2603b9",
   "metadata": {
    "papermill": {
     "duration": 0.019406,
     "end_time": "2025-07-30T21:52:24.590760",
     "exception": false,
     "start_time": "2025-07-30T21:52:24.571354",
     "status": "completed"
    },
    "tags": []
   },
   "source": [
    "The following cell holds the definition of our parameters, these values can be overriden by rendering the with e.g. the following command:\n",
    "\n",
    "papermill -p alpha 0.2 -p ratio 0.3 universe_analysis.ipynb output/test_run.ipynb"
   ]
  },
  {
   "cell_type": "code",
   "execution_count": 2,
   "id": "a80968a0-40bb-4fa9-85ef-2d5eefb01975",
   "metadata": {
    "execution": {
     "iopub.execute_input": "2025-07-30T21:52:24.631790Z",
     "iopub.status.busy": "2025-07-30T21:52:24.631343Z",
     "iopub.status.idle": "2025-07-30T21:52:24.636745Z",
     "shell.execute_reply": "2025-07-30T21:52:24.635897Z"
    },
    "papermill": {
     "duration": 0.028069,
     "end_time": "2025-07-30T21:52:24.638407",
     "exception": false,
     "start_time": "2025-07-30T21:52:24.610338",
     "status": "completed"
    },
    "tags": []
   },
   "outputs": [
    {
     "name": "stdout",
     "output_type": "stream",
     "text": [
      "Current working directory: /dss/dsshome1/0C/ra93lal2/cma/CMA_Fairness_v2\n"
     ]
    }
   ],
   "source": [
    "import os\n",
    "print(\"Current working directory:\", os.getcwd())"
   ]
  },
  {
   "cell_type": "code",
   "execution_count": 3,
   "id": "2dce4c03",
   "metadata": {
    "execution": {
     "iopub.execute_input": "2025-07-30T21:52:24.662071Z",
     "iopub.status.busy": "2025-07-30T21:52:24.661737Z",
     "iopub.status.idle": "2025-07-30T21:52:24.666253Z",
     "shell.execute_reply": "2025-07-30T21:52:24.665615Z"
    },
    "papermill": {
     "duration": 0.016952,
     "end_time": "2025-07-30T21:52:24.667510",
     "exception": false,
     "start_time": "2025-07-30T21:52:24.650558",
     "status": "completed"
    },
    "tags": [
     "parameters"
    ]
   },
   "outputs": [],
   "source": [
    "run_no = 0\n",
    "universe_id = \"test\"\n",
    "universe = {\n",
    "    \"training_size\": \"25k\", # \"25k\", \"5k\", \"1k\"\n",
    "    \"training_year\": \"2014\", # \"2014\", \"2012_14\", \"2010_14\"\n",
    "    \"scale\": \"scale\", # \"scale\", \"do-not-scale\",\n",
    "    #\"stratify_split\": \"target\", # \"none\", \"target\", \"protected-attribute\", \"both\",\n",
    "    \"model\": \"elasticnet\", # \"logreg\", \"penalized_logreg\", \"rf\", \"gbm\", \"elasticnet\"\n",
    "    \"cutoff\": [\"quantile_0.15\", \"quantile_0.30\"],\n",
    "    \"exclude_features\": \"age\", # \"none\", \"nationality\", \"sex\", \"nationality-sex\", \"age\"\n",
    "    \"exclude_subgroups\": \"keep-all\", # \"keep-all\", \"drop-non-german\"\n",
    "    \"eval_fairness_grouping\": [\"majority-minority\", \"nationality-all\"]\n",
    "}\n",
    "\n",
    "output_dir=\"./output\"\n",
    "seed=0"
   ]
  },
  {
   "cell_type": "code",
   "execution_count": 4,
   "id": "b30f2495",
   "metadata": {
    "execution": {
     "iopub.execute_input": "2025-07-30T21:52:24.705574Z",
     "iopub.status.busy": "2025-07-30T21:52:24.705132Z",
     "iopub.status.idle": "2025-07-30T21:52:24.710621Z",
     "shell.execute_reply": "2025-07-30T21:52:24.709706Z"
    },
    "papermill": {
     "duration": 0.029817,
     "end_time": "2025-07-30T21:52:24.712565",
     "exception": false,
     "start_time": "2025-07-30T21:52:24.682748",
     "status": "completed"
    },
    "tags": [
     "injected-parameters"
    ]
   },
   "outputs": [],
   "source": [
    "# Parameters\n",
    "universe_id = \"d74c06dd221fed0fdcd1ba1fda29a978\"\n",
    "run_no = \"14\"\n",
    "universe = \"{\\\"cutoff\\\": [\\\"quantile_0.1\\\", \\\"quantile_0.25\\\"], \\\"eval_fairness_grouping\\\": [\\\"majority-minority\\\", \\\"nationality-all\\\"], \\\"exclude_features\\\": \\\"sex\\\", \\\"exclude_subgroups\\\": \\\"drop-non-german\\\", \\\"model\\\": \\\"gbm\\\", \\\"scale\\\": \\\"do-not-scale\\\", \\\"training_size\\\": \\\"1k\\\", \\\"training_year\\\": \\\"2010_14\\\"}\"\n",
    "output_dir = \"output\"\n",
    "seed = \"2023\"\n"
   ]
  },
  {
   "cell_type": "code",
   "execution_count": 5,
   "id": "1650acaf",
   "metadata": {
    "execution": {
     "iopub.execute_input": "2025-07-30T21:52:24.751952Z",
     "iopub.status.busy": "2025-07-30T21:52:24.751503Z",
     "iopub.status.idle": "2025-07-30T21:52:24.756445Z",
     "shell.execute_reply": "2025-07-30T21:52:24.755387Z"
    },
    "papermill": {
     "duration": 0.028832,
     "end_time": "2025-07-30T21:52:24.758241",
     "exception": false,
     "start_time": "2025-07-30T21:52:24.729409",
     "status": "completed"
    },
    "tags": []
   },
   "outputs": [],
   "source": [
    "import json\n",
    "# Parse universe into dict if it is passed as a string\n",
    "if isinstance(universe, str):\n",
    "    universe = json.loads(universe)"
   ]
  },
  {
   "cell_type": "code",
   "execution_count": 6,
   "id": "16620c48",
   "metadata": {
    "execution": {
     "iopub.execute_input": "2025-07-30T21:52:24.798602Z",
     "iopub.status.busy": "2025-07-30T21:52:24.798161Z",
     "iopub.status.idle": "2025-07-30T21:52:24.833926Z",
     "shell.execute_reply": "2025-07-30T21:52:24.833222Z"
    },
    "papermill": {
     "duration": 0.059048,
     "end_time": "2025-07-30T21:52:24.835294",
     "exception": false,
     "start_time": "2025-07-30T21:52:24.776246",
     "status": "completed"
    },
    "tags": []
   },
   "outputs": [],
   "source": [
    "# Auto-reload the custom package\n",
    "%load_ext autoreload\n",
    "%autoreload 1\n",
    "%aimport fairness_multiverse"
   ]
  },
  {
   "cell_type": "code",
   "execution_count": 7,
   "id": "01c5c9f3",
   "metadata": {
    "execution": {
     "iopub.execute_input": "2025-07-30T21:52:24.858142Z",
     "iopub.status.busy": "2025-07-30T21:52:24.857665Z",
     "iopub.status.idle": "2025-07-30T21:52:26.821625Z",
     "shell.execute_reply": "2025-07-30T21:52:26.820571Z"
    },
    "papermill": {
     "duration": 1.977457,
     "end_time": "2025-07-30T21:52:26.823416",
     "exception": false,
     "start_time": "2025-07-30T21:52:24.845959",
     "status": "completed"
    },
    "tags": []
   },
   "outputs": [],
   "source": [
    "from fairness_multiverse.universe import UniverseAnalysis\n",
    "\n",
    "universe_analysis = UniverseAnalysis(\n",
    "    run_no = run_no,\n",
    "    universe_id = universe_id,\n",
    "    universe = universe,\n",
    "    output_dir=output_dir,\n",
    ")"
   ]
  },
  {
   "cell_type": "code",
   "execution_count": 8,
   "id": "106241f5",
   "metadata": {
    "execution": {
     "iopub.execute_input": "2025-07-30T21:52:26.862721Z",
     "iopub.status.busy": "2025-07-30T21:52:26.862281Z",
     "iopub.status.idle": "2025-07-30T21:52:26.869475Z",
     "shell.execute_reply": "2025-07-30T21:52:26.868140Z"
    },
    "papermill": {
     "duration": 0.026136,
     "end_time": "2025-07-30T21:52:26.871840",
     "exception": false,
     "start_time": "2025-07-30T21:52:26.845704",
     "status": "completed"
    },
    "tags": []
   },
   "outputs": [
    {
     "name": "stdout",
     "output_type": "stream",
     "text": [
      "Using Seed: 2023\n"
     ]
    }
   ],
   "source": [
    "import numpy as np\n",
    "parsed_seed = int(seed)\n",
    "np.random.seed(parsed_seed)\n",
    "print(f\"Using Seed: {parsed_seed}\")"
   ]
  },
  {
   "cell_type": "markdown",
   "id": "e0ebdc57",
   "metadata": {
    "papermill": {
     "duration": 0.021225,
     "end_time": "2025-07-30T21:52:26.914437",
     "exception": false,
     "start_time": "2025-07-30T21:52:26.893212",
     "status": "completed"
    },
    "tags": []
   },
   "source": [
    "# Loading Data"
   ]
  },
  {
   "cell_type": "markdown",
   "id": "681925a3",
   "metadata": {
    "papermill": {
     "duration": 0.021215,
     "end_time": "2025-07-30T21:52:26.957128",
     "exception": false,
     "start_time": "2025-07-30T21:52:26.935913",
     "status": "completed"
    },
    "tags": []
   },
   "source": [
    "Load siab_train, siab_test, siab_calib and/or \n",
    "load siab_train_features, siab_train_labels"
   ]
  },
  {
   "cell_type": "code",
   "execution_count": 9,
   "id": "f0496b8a",
   "metadata": {
    "execution": {
     "iopub.execute_input": "2025-07-30T21:52:27.000384Z",
     "iopub.status.busy": "2025-07-30T21:52:26.999927Z",
     "iopub.status.idle": "2025-07-30T21:52:38.849180Z",
     "shell.execute_reply": "2025-07-30T21:52:38.847954Z"
    },
    "papermill": {
     "duration": 11.872953,
     "end_time": "2025-07-30T21:52:38.851042",
     "exception": false,
     "start_time": "2025-07-30T21:52:26.978089",
     "status": "completed"
    },
    "tags": []
   },
   "outputs": [
    {
     "name": "stdout",
     "output_type": "stream",
     "text": [
      "Loading SIAB data from cache: data/siab_cached.csv.gz\n"
     ]
    },
    {
     "name": "stdout",
     "output_type": "stream",
     "text": [
      "(643690, 164)\n"
     ]
    }
   ],
   "source": [
    "from pathlib import Path\n",
    "import pandas as pd\n",
    "\n",
    "# File paths\n",
    "raw_file = Path(\"data/raw/siab.csv\")\n",
    "cache_file = Path(\"data/siab_cached.csv.gz\")\n",
    "\n",
    "# Ensure cache directory exists\n",
    "cache_file.parent.mkdir(parents=True, exist_ok=True)\n",
    "\n",
    "# Load with simple caching\n",
    "if cache_file.exists():\n",
    "    print(f\"Loading SIAB data from cache: {cache_file}\")\n",
    "    siab = pd.read_csv(cache_file, compression='gzip')\n",
    "else:\n",
    "    print(f\"Cache not found. Reading raw SIAB data: {raw_file}\")\n",
    "    siab = pd.read_csv(raw_file)\n",
    "    siab.to_csv(cache_file, index=False, compression='gzip')\n",
    "    print(f\"Cached SIAB data to: {cache_file}\")\n",
    "\n",
    "# Now use `siab` DataFrame as needed\n",
    "print(siab.shape)"
   ]
  },
  {
   "cell_type": "code",
   "execution_count": 10,
   "id": "db0ca512-5f53-4dba-abdb-a2888bca41ba",
   "metadata": {
    "execution": {
     "iopub.execute_input": "2025-07-30T21:52:38.898358Z",
     "iopub.status.busy": "2025-07-30T21:52:38.897767Z",
     "iopub.status.idle": "2025-07-30T21:52:38.904325Z",
     "shell.execute_reply": "2025-07-30T21:52:38.903307Z"
    },
    "papermill": {
     "duration": 0.031338,
     "end_time": "2025-07-30T21:52:38.906248",
     "exception": false,
     "start_time": "2025-07-30T21:52:38.874910",
     "status": "completed"
    },
    "tags": []
   },
   "outputs": [],
   "source": [
    "#siab"
   ]
  },
  {
   "cell_type": "code",
   "execution_count": 11,
   "id": "a0edb063",
   "metadata": {
    "execution": {
     "iopub.execute_input": "2025-07-30T21:52:38.952442Z",
     "iopub.status.busy": "2025-07-30T21:52:38.951646Z",
     "iopub.status.idle": "2025-07-30T21:52:38.957054Z",
     "shell.execute_reply": "2025-07-30T21:52:38.955998Z"
    },
    "papermill": {
     "duration": 0.029973,
     "end_time": "2025-07-30T21:52:38.958917",
     "exception": false,
     "start_time": "2025-07-30T21:52:38.928944",
     "status": "completed"
    },
    "tags": []
   },
   "outputs": [],
   "source": [
    "#import pandas as pd\n",
    "#\n",
    "#X_train = pd.read_csv(\"./data/X_train.csv\")\n",
    "#y_train = pd.read_csv(\"./data/y_train.csv\")"
   ]
  },
  {
   "cell_type": "code",
   "execution_count": 12,
   "id": "63d08085",
   "metadata": {
    "execution": {
     "iopub.execute_input": "2025-07-30T21:52:39.004331Z",
     "iopub.status.busy": "2025-07-30T21:52:39.003669Z",
     "iopub.status.idle": "2025-07-30T21:52:39.008502Z",
     "shell.execute_reply": "2025-07-30T21:52:39.007612Z"
    },
    "papermill": {
     "duration": 0.029461,
     "end_time": "2025-07-30T21:52:39.010166",
     "exception": false,
     "start_time": "2025-07-30T21:52:38.980705",
     "status": "completed"
    },
    "tags": []
   },
   "outputs": [],
   "source": [
    "#X_test = pd.read_csv(\"./data/X_test.csv\")\n",
    "#y_true = pd.read_csv(\"./data/y_test.csv\")"
   ]
  },
  {
   "cell_type": "code",
   "execution_count": 13,
   "id": "98a8d0fa-1d3d-4ed8-bb2c-281470e24add",
   "metadata": {
    "execution": {
     "iopub.execute_input": "2025-07-30T21:52:39.055793Z",
     "iopub.status.busy": "2025-07-30T21:52:39.055275Z",
     "iopub.status.idle": "2025-07-30T21:52:39.060655Z",
     "shell.execute_reply": "2025-07-30T21:52:39.059625Z"
    },
    "papermill": {
     "duration": 0.029979,
     "end_time": "2025-07-30T21:52:39.062310",
     "exception": false,
     "start_time": "2025-07-30T21:52:39.032331",
     "status": "completed"
    },
    "tags": []
   },
   "outputs": [],
   "source": [
    "# Calibration data for conformal\n",
    "#X_calib = pd.read_csv(\"./data/X_calib.csv\")\n",
    "#y_calib = pd.read_csv(\"./data/y_calib.csv\")"
   ]
  },
  {
   "cell_type": "markdown",
   "id": "997051c5-15bd-4b69-9786-c3001a3ce484",
   "metadata": {
    "papermill": {
     "duration": 0.021401,
     "end_time": "2025-07-30T21:52:39.106023",
     "exception": false,
     "start_time": "2025-07-30T21:52:39.084622",
     "status": "completed"
    },
    "tags": []
   },
   "source": [
    "# Splitting Data and Setting Training Data Size"
   ]
  },
  {
   "cell_type": "code",
   "execution_count": 14,
   "id": "e993b61f-042d-41a6-8c81-f55681f86335",
   "metadata": {
    "execution": {
     "iopub.execute_input": "2025-07-30T21:52:39.152044Z",
     "iopub.status.busy": "2025-07-30T21:52:39.150983Z",
     "iopub.status.idle": "2025-07-30T21:52:39.167340Z",
     "shell.execute_reply": "2025-07-30T21:52:39.166053Z"
    },
    "papermill": {
     "duration": 0.042085,
     "end_time": "2025-07-30T21:52:39.169541",
     "exception": false,
     "start_time": "2025-07-30T21:52:39.127456",
     "status": "completed"
    },
    "tags": []
   },
   "outputs": [],
   "source": [
    "def sample_by_year_size(df,\n",
    "                        training_year: str,\n",
    "                        training_size: str,\n",
    "                        random_state: int = 42):\n",
    "    # --- parse training_year into a list of int years ---\n",
    "    if \"_\" in training_year:\n",
    "        start_str, end_str = training_year.split(\"_\", 1)\n",
    "        start = int(start_str)\n",
    "        end   = int(end_str) if len(end_str) == 4 else (int(end_str) + (start // 100)*100)\n",
    "        years = list(range(start, end + 1))\n",
    "    else:\n",
    "        years = [int(training_year)]\n",
    "\n",
    "    df = df[df[\"year\"].isin(years)].reset_index(drop=True)\n",
    "\n",
    "    # --- map training_size to total number of samples ---\n",
    "    total_map = {\"25k\": 25_000, \"5k\": 5_000, \"1k\": 1_000}\n",
    "    if training_size not in total_map:\n",
    "        return df  # e.g. \"all\"\n",
    "\n",
    "    total_samples = total_map[training_size]\n",
    "    n_years       = len(years)\n",
    "    base          = total_samples // n_years\n",
    "    remainder     = total_samples % n_years\n",
    "\n",
    "    # --- build a dict: year -> how many to sample ---\n",
    "    # give +1 to the first `remainder` years in ascending order\n",
    "    quotas = {\n",
    "        year: base + (1 if idx < remainder else 0)\n",
    "        for idx, year in enumerate(sorted(years))\n",
    "    }\n",
    "\n",
    "    # --- sample per‐year according to the quota dict ---\n",
    "    sampled = (\n",
    "        df\n",
    "        .groupby(\"year\", group_keys=False)\n",
    "        .apply(lambda grp: grp.sample(\n",
    "            n=min(len(grp), quotas[grp.name]),\n",
    "            random_state=random_state))\n",
    "        .reset_index(drop=True)\n",
    "    )\n",
    "\n",
    "    return sampled"
   ]
  },
  {
   "cell_type": "code",
   "execution_count": 15,
   "id": "c0ccd338-0e02-41f3-a09d-f56f9266e3fb",
   "metadata": {
    "execution": {
     "iopub.execute_input": "2025-07-30T21:52:39.216094Z",
     "iopub.status.busy": "2025-07-30T21:52:39.215265Z",
     "iopub.status.idle": "2025-07-30T21:52:39.221319Z",
     "shell.execute_reply": "2025-07-30T21:52:39.220095Z"
    },
    "papermill": {
     "duration": 0.031546,
     "end_time": "2025-07-30T21:52:39.223056",
     "exception": false,
     "start_time": "2025-07-30T21:52:39.191510",
     "status": "completed"
    },
    "tags": []
   },
   "outputs": [],
   "source": [
    "#universe[\"training_size\"]"
   ]
  },
  {
   "cell_type": "code",
   "execution_count": 16,
   "id": "ca707fd7-8047-4acd-bfa5-66248fbbf8e6",
   "metadata": {
    "execution": {
     "iopub.execute_input": "2025-07-30T21:52:39.268671Z",
     "iopub.status.busy": "2025-07-30T21:52:39.267791Z",
     "iopub.status.idle": "2025-07-30T21:52:39.273892Z",
     "shell.execute_reply": "2025-07-30T21:52:39.272623Z"
    },
    "papermill": {
     "duration": 0.030917,
     "end_time": "2025-07-30T21:52:39.275722",
     "exception": false,
     "start_time": "2025-07-30T21:52:39.244805",
     "status": "completed"
    },
    "tags": []
   },
   "outputs": [],
   "source": [
    "#universe[\"training_year\"]"
   ]
  },
  {
   "cell_type": "code",
   "execution_count": 17,
   "id": "aea9c6ef-6f46-42c8-85eb-5a62025c1508",
   "metadata": {
    "execution": {
     "iopub.execute_input": "2025-07-30T21:52:39.326374Z",
     "iopub.status.busy": "2025-07-30T21:52:39.325529Z",
     "iopub.status.idle": "2025-07-30T21:52:40.739461Z",
     "shell.execute_reply": "2025-07-30T21:52:40.738355Z"
    },
    "papermill": {
     "duration": 1.443285,
     "end_time": "2025-07-30T21:52:40.741630",
     "exception": false,
     "start_time": "2025-07-30T21:52:39.298345",
     "status": "completed"
    },
    "tags": []
   },
   "outputs": [],
   "source": [
    "siab_train = sample_by_year_size(siab,\n",
    "                               training_year=universe[\"training_year\"],\n",
    "                               training_size=universe[\"training_size\"])"
   ]
  },
  {
   "cell_type": "code",
   "execution_count": 18,
   "id": "8d3afb32-789d-442c-8d5d-9f5aa8dd2eed",
   "metadata": {
    "execution": {
     "iopub.execute_input": "2025-07-30T21:52:40.792314Z",
     "iopub.status.busy": "2025-07-30T21:52:40.791287Z",
     "iopub.status.idle": "2025-07-30T21:52:40.797322Z",
     "shell.execute_reply": "2025-07-30T21:52:40.796274Z"
    },
    "papermill": {
     "duration": 0.033871,
     "end_time": "2025-07-30T21:52:40.799219",
     "exception": false,
     "start_time": "2025-07-30T21:52:40.765348",
     "status": "completed"
    },
    "tags": []
   },
   "outputs": [],
   "source": [
    "#siab_train.shape"
   ]
  },
  {
   "cell_type": "code",
   "execution_count": 19,
   "id": "d582db68-1a4c-47fb-84fc-08518dc1975a",
   "metadata": {
    "execution": {
     "iopub.execute_input": "2025-07-30T21:52:40.850124Z",
     "iopub.status.busy": "2025-07-30T21:52:40.849189Z",
     "iopub.status.idle": "2025-07-30T21:52:40.855001Z",
     "shell.execute_reply": "2025-07-30T21:52:40.853874Z"
    },
    "papermill": {
     "duration": 0.033407,
     "end_time": "2025-07-30T21:52:40.857192",
     "exception": false,
     "start_time": "2025-07-30T21:52:40.823785",
     "status": "completed"
    },
    "tags": []
   },
   "outputs": [],
   "source": [
    "#display(siab_train.groupby(\"year\").size())"
   ]
  },
  {
   "cell_type": "code",
   "execution_count": 20,
   "id": "a561edb4-d032-42cb-8256-22eac1111c64",
   "metadata": {
    "execution": {
     "iopub.execute_input": "2025-07-30T21:52:40.916693Z",
     "iopub.status.busy": "2025-07-30T21:52:40.915942Z",
     "iopub.status.idle": "2025-07-30T21:52:41.157000Z",
     "shell.execute_reply": "2025-07-30T21:52:41.155909Z"
    },
    "papermill": {
     "duration": 0.272918,
     "end_time": "2025-07-30T21:52:41.159392",
     "exception": false,
     "start_time": "2025-07-30T21:52:40.886474",
     "status": "completed"
    },
    "tags": []
   },
   "outputs": [],
   "source": [
    "#siab_train = siab_s[siab_s.year < 2015]\n",
    "siab_calib = siab[siab.year == 2015]\n",
    "siab_test = siab[siab.year == 2016]"
   ]
  },
  {
   "cell_type": "code",
   "execution_count": 21,
   "id": "472de16f-c3db-4916-846b-1f0de9cf1746",
   "metadata": {
    "execution": {
     "iopub.execute_input": "2025-07-30T21:52:41.217980Z",
     "iopub.status.busy": "2025-07-30T21:52:41.217535Z",
     "iopub.status.idle": "2025-07-30T21:52:41.225017Z",
     "shell.execute_reply": "2025-07-30T21:52:41.223796Z"
    },
    "papermill": {
     "duration": 0.033924,
     "end_time": "2025-07-30T21:52:41.226748",
     "exception": false,
     "start_time": "2025-07-30T21:52:41.192824",
     "status": "completed"
    },
    "tags": []
   },
   "outputs": [],
   "source": [
    "X_train = siab_train.iloc[:,4:164]\n",
    "y_train = siab_train.iloc[:, [3]]"
   ]
  },
  {
   "cell_type": "code",
   "execution_count": 22,
   "id": "828c96af-f43a-4ed6-ba47-8ac73a47d56c",
   "metadata": {
    "execution": {
     "iopub.execute_input": "2025-07-30T21:52:41.266013Z",
     "iopub.status.busy": "2025-07-30T21:52:41.265667Z",
     "iopub.status.idle": "2025-07-30T21:52:41.319172Z",
     "shell.execute_reply": "2025-07-30T21:52:41.318466Z"
    },
    "papermill": {
     "duration": 0.069887,
     "end_time": "2025-07-30T21:52:41.320829",
     "exception": false,
     "start_time": "2025-07-30T21:52:41.250942",
     "status": "completed"
    },
    "tags": []
   },
   "outputs": [],
   "source": [
    "X_calib = siab_calib.iloc[:,4:164]\n",
    "y_calib = siab_calib.iloc[:, [3]]"
   ]
  },
  {
   "cell_type": "code",
   "execution_count": 23,
   "id": "c34be9c3-6bd6-476e-acd3-845840e303be",
   "metadata": {
    "execution": {
     "iopub.execute_input": "2025-07-30T21:52:41.352471Z",
     "iopub.status.busy": "2025-07-30T21:52:41.352001Z",
     "iopub.status.idle": "2025-07-30T21:52:41.412877Z",
     "shell.execute_reply": "2025-07-30T21:52:41.411924Z"
    },
    "papermill": {
     "duration": 0.081295,
     "end_time": "2025-07-30T21:52:41.414738",
     "exception": false,
     "start_time": "2025-07-30T21:52:41.333443",
     "status": "completed"
    },
    "tags": []
   },
   "outputs": [],
   "source": [
    "X_test = siab_test.iloc[:,4:164]\n",
    "y_true = siab_test.iloc[:, [3]]"
   ]
  },
  {
   "cell_type": "markdown",
   "id": "9901737e-04df-44f0-9100-f5ad144ed040",
   "metadata": {
    "papermill": {
     "duration": 0.017887,
     "end_time": "2025-07-30T21:52:41.447466",
     "exception": false,
     "start_time": "2025-07-30T21:52:41.429579",
     "status": "completed"
    },
    "tags": []
   },
   "source": [
    "# Splitting Data and Setting Training Data Size OLD VERSION"
   ]
  },
  {
   "cell_type": "code",
   "execution_count": 24,
   "id": "acbc8f7d-8fc8-4e86-8c59-5dcb0f58384b",
   "metadata": {
    "execution": {
     "iopub.execute_input": "2025-07-30T21:52:41.496923Z",
     "iopub.status.busy": "2025-07-30T21:52:41.496380Z",
     "iopub.status.idle": "2025-07-30T21:52:41.523540Z",
     "shell.execute_reply": "2025-07-30T21:52:41.522275Z"
    },
    "papermill": {
     "duration": 0.054668,
     "end_time": "2025-07-30T21:52:41.526401",
     "exception": false,
     "start_time": "2025-07-30T21:52:41.471733",
     "status": "completed"
    },
    "tags": []
   },
   "outputs": [],
   "source": [
    "#def sample_by_year(df, training_size, random_state=42):\n",
    "#    if training_size == \"2014\":\n",
    "#        return df[df[\"year\"] == 2014].reset_index(drop=True)\n",
    "#    \n",
    "#    size_map = {\n",
    "#        \"25k\": 5000,\n",
    "#        \"5k\": 1000,\n",
    "#        \"1k\": 200\n",
    "#    }\n",
    "#\n",
    "#    if training_size not in size_map:\n",
    "#        return df.reset_index(drop=True)  # use all data\n",
    "#\n",
    "#    n_per_year = size_map[training_size]\n",
    "#    grouped = df.groupby(\"year\")\n",
    "#    sampled = grouped.apply(lambda x: x.sample(n=min(n_per_year, len(x)), random_state=random_state))\n",
    "#    return sampled.reset_index(drop=True)"
   ]
  },
  {
   "cell_type": "code",
   "execution_count": 25,
   "id": "6d931f52-beaf-43ff-9e78-9d44a448d54e",
   "metadata": {
    "execution": {
     "iopub.execute_input": "2025-07-30T21:52:41.566261Z",
     "iopub.status.busy": "2025-07-30T21:52:41.565758Z",
     "iopub.status.idle": "2025-07-30T21:52:41.570121Z",
     "shell.execute_reply": "2025-07-30T21:52:41.569408Z"
    },
    "papermill": {
     "duration": 0.019039,
     "end_time": "2025-07-30T21:52:41.571444",
     "exception": false,
     "start_time": "2025-07-30T21:52:41.552405",
     "status": "completed"
    },
    "tags": []
   },
   "outputs": [],
   "source": [
    "#siab_s = sample_by_year(siab, universe[\"training_size\"])"
   ]
  },
  {
   "cell_type": "code",
   "execution_count": 26,
   "id": "5db0a40e-a4e2-4920-be85-b12ae061d70d",
   "metadata": {
    "execution": {
     "iopub.execute_input": "2025-07-30T21:52:41.619886Z",
     "iopub.status.busy": "2025-07-30T21:52:41.619375Z",
     "iopub.status.idle": "2025-07-30T21:52:41.636681Z",
     "shell.execute_reply": "2025-07-30T21:52:41.635466Z"
    },
    "papermill": {
     "duration": 0.052718,
     "end_time": "2025-07-30T21:52:41.646070",
     "exception": false,
     "start_time": "2025-07-30T21:52:41.593352",
     "status": "completed"
    },
    "tags": []
   },
   "outputs": [],
   "source": [
    "#display(siab_s.groupby(\"year\").size())"
   ]
  },
  {
   "cell_type": "code",
   "execution_count": 27,
   "id": "e6c733c5",
   "metadata": {
    "execution": {
     "iopub.execute_input": "2025-07-30T21:52:41.699123Z",
     "iopub.status.busy": "2025-07-30T21:52:41.698636Z",
     "iopub.status.idle": "2025-07-30T21:52:41.810139Z",
     "shell.execute_reply": "2025-07-30T21:52:41.808932Z"
    },
    "papermill": {
     "duration": 0.140997,
     "end_time": "2025-07-30T21:52:41.811709",
     "exception": false,
     "start_time": "2025-07-30T21:52:41.670712",
     "status": "completed"
    },
    "tags": []
   },
   "outputs": [],
   "source": [
    "# Auxiliary data needed downstream in the pipeline\n",
    "\n",
    "org_train = X_train.copy()\n",
    "org_test = X_test.copy()\n",
    "org_calib = X_calib.copy()"
   ]
  },
  {
   "cell_type": "code",
   "execution_count": 28,
   "id": "1466abac-c6da-4492-a62f-4240ae3783af",
   "metadata": {
    "execution": {
     "iopub.execute_input": "2025-07-30T21:52:41.857111Z",
     "iopub.status.busy": "2025-07-30T21:52:41.856616Z",
     "iopub.status.idle": "2025-07-30T21:52:41.864234Z",
     "shell.execute_reply": "2025-07-30T21:52:41.862998Z"
    },
    "papermill": {
     "duration": 0.035344,
     "end_time": "2025-07-30T21:52:41.865944",
     "exception": false,
     "start_time": "2025-07-30T21:52:41.830600",
     "status": "completed"
    },
    "tags": []
   },
   "outputs": [],
   "source": [
    "# put in other script?\n",
    "# Group sizes\n",
    "\n",
    "#def calculate_percentages(df, df_name):\n",
    "#    total_entries = len(df)\n",
    "#\n",
    "#    female_pct = (df['frau1'] == 1).mean() * 100\n",
    "#    non_german_pct = ((df['maxdeutsch1'] == 0) & (df['maxdeutsch.Missing.'] == 0)).mean() * 100\n",
    "#    non_german_male_pct = ((df['frau1'] == 0) & (df['maxdeutsch1'] == 0) & (df['maxdeutsch.Missing.'] == 0)).mean() * 100\n",
    "#    non_german_female_pct = ((df['frau1'] == 1) & (df['maxdeutsch1'] == 0) & (df['maxdeutsch.Missing.'] == 0)).mean() * 100\n",
    "#\n",
    "#    print(f\"--- {df_name} ---\")\n",
    "#    print(f\"Female: {female_pct:.2f}%\")\n",
    "#    print(f\"Non-German: {non_german_pct:.2f}%\")\n",
    "#    print(f\"Non-German Male: {non_german_male_pct:.2f}%\")\n",
    "#    print(f\"Non-German Female: {non_german_female_pct:.2f}%\\n\")\n",
    "#\n",
    "## Calculate for each DataFrame\n",
    "#calculate_percentages(siab_calib, \"siab_calib\")\n",
    "#calculate_percentages(siab_test, \"siab_test\")\n",
    "#calculate_percentages(siab_train, \"siab_train\")"
   ]
  },
  {
   "cell_type": "markdown",
   "id": "0a4a1b33",
   "metadata": {
    "papermill": {
     "duration": 0.025287,
     "end_time": "2025-07-30T21:52:41.916391",
     "exception": false,
     "start_time": "2025-07-30T21:52:41.891104",
     "status": "completed"
    },
    "tags": []
   },
   "source": [
    "# Preprocessing Data"
   ]
  },
  {
   "cell_type": "code",
   "execution_count": 29,
   "id": "ca879031",
   "metadata": {
    "execution": {
     "iopub.execute_input": "2025-07-30T21:52:41.966910Z",
     "iopub.status.busy": "2025-07-30T21:52:41.966424Z",
     "iopub.status.idle": "2025-07-30T21:52:41.973104Z",
     "shell.execute_reply": "2025-07-30T21:52:41.971915Z"
    },
    "papermill": {
     "duration": 0.034738,
     "end_time": "2025-07-30T21:52:41.975228",
     "exception": false,
     "start_time": "2025-07-30T21:52:41.940490",
     "status": "completed"
    },
    "tags": []
   },
   "outputs": [],
   "source": [
    "# EXCLUDE PROTECTED FEATURES\n",
    "# ----------------------\n",
    "# \"exclude_features\": \"none\", # \"nationality\", \"sex\", \"nationality-sex\"\n",
    "\n",
    "excluded_features = universe[\"exclude_features\"].split(\"-\") # split, e.g.: \"nationality-sex\" -> [\"nationality\", \"sex\"]\n",
    "excluded_features_dictionary = {\n",
    "    \"nationality\": [\"maxdeutsch1\", \"maxdeutsch.Missing.\"],\n",
    "    \"sex\": [\"frau1\"],\n",
    "    \"age\": [\"age\"],\n",
    "}\n"
   ]
  },
  {
   "cell_type": "code",
   "execution_count": 30,
   "id": "b745ac60",
   "metadata": {
    "execution": {
     "iopub.execute_input": "2025-07-30T21:52:42.021714Z",
     "iopub.status.busy": "2025-07-30T21:52:42.021295Z",
     "iopub.status.idle": "2025-07-30T21:52:42.026997Z",
     "shell.execute_reply": "2025-07-30T21:52:42.026140Z"
    },
    "papermill": {
     "duration": 0.028646,
     "end_time": "2025-07-30T21:52:42.028895",
     "exception": false,
     "start_time": "2025-07-30T21:52:42.000249",
     "status": "completed"
    },
    "tags": []
   },
   "outputs": [],
   "source": [
    "# Code nice names to column names\n",
    "\n",
    "excluded_features_columns = [\n",
    "    excluded_features_dictionary[f] for f in excluded_features if len(f) > 0 and f != \"none\"\n",
    "]"
   ]
  },
  {
   "cell_type": "code",
   "execution_count": 31,
   "id": "f84f73a2",
   "metadata": {
    "execution": {
     "iopub.execute_input": "2025-07-30T21:52:42.085439Z",
     "iopub.status.busy": "2025-07-30T21:52:42.084892Z",
     "iopub.status.idle": "2025-07-30T21:52:42.091949Z",
     "shell.execute_reply": "2025-07-30T21:52:42.090771Z"
    },
    "papermill": {
     "duration": 0.036965,
     "end_time": "2025-07-30T21:52:42.094020",
     "exception": false,
     "start_time": "2025-07-30T21:52:42.057055",
     "status": "completed"
    },
    "tags": []
   },
   "outputs": [],
   "source": [
    "from utils import flatten_once\n",
    "\n",
    "excluded_features_columns = flatten_once(excluded_features_columns)"
   ]
  },
  {
   "cell_type": "code",
   "execution_count": 32,
   "id": "884dea22",
   "metadata": {
    "execution": {
     "iopub.execute_input": "2025-07-30T21:52:42.147120Z",
     "iopub.status.busy": "2025-07-30T21:52:42.146598Z",
     "iopub.status.idle": "2025-07-30T21:52:42.155974Z",
     "shell.execute_reply": "2025-07-30T21:52:42.154928Z"
    },
    "papermill": {
     "duration": 0.03819,
     "end_time": "2025-07-30T21:52:42.157724",
     "exception": false,
     "start_time": "2025-07-30T21:52:42.119534",
     "status": "completed"
    },
    "tags": []
   },
   "outputs": [
    {
     "name": "stdout",
     "output_type": "stream",
     "text": [
      "Dropping features: ['frau1']\n"
     ]
    }
   ],
   "source": [
    "if len(excluded_features_columns) > 0:\n",
    "    print(f\"Dropping features: {excluded_features_columns}\")\n",
    "    X_train.drop(excluded_features_columns, axis=1, inplace=True)"
   ]
  },
  {
   "cell_type": "code",
   "execution_count": 33,
   "id": "95ab8b16",
   "metadata": {
    "execution": {
     "iopub.execute_input": "2025-07-30T21:52:42.211451Z",
     "iopub.status.busy": "2025-07-30T21:52:42.210451Z",
     "iopub.status.idle": "2025-07-30T21:52:42.287506Z",
     "shell.execute_reply": "2025-07-30T21:52:42.286534Z"
    },
    "papermill": {
     "duration": 0.105355,
     "end_time": "2025-07-30T21:52:42.289186",
     "exception": false,
     "start_time": "2025-07-30T21:52:42.183831",
     "status": "completed"
    },
    "tags": []
   },
   "outputs": [
    {
     "name": "stdout",
     "output_type": "stream",
     "text": [
      "Dropping features: ['frau1']\n"
     ]
    }
   ],
   "source": [
    "if len(excluded_features_columns) > 0:\n",
    "    print(f\"Dropping features: {excluded_features_columns}\")\n",
    "    X_test.drop(excluded_features_columns, axis=1, inplace=True)"
   ]
  },
  {
   "cell_type": "code",
   "execution_count": 34,
   "id": "1853aaf5-fb9f-46cb-a2b5-8ea4ae2237e4",
   "metadata": {
    "execution": {
     "iopub.execute_input": "2025-07-30T21:52:42.315756Z",
     "iopub.status.busy": "2025-07-30T21:52:42.315387Z",
     "iopub.status.idle": "2025-07-30T21:52:42.373026Z",
     "shell.execute_reply": "2025-07-30T21:52:42.370335Z"
    },
    "papermill": {
     "duration": 0.073703,
     "end_time": "2025-07-30T21:52:42.375452",
     "exception": false,
     "start_time": "2025-07-30T21:52:42.301749",
     "status": "completed"
    },
    "tags": []
   },
   "outputs": [
    {
     "name": "stdout",
     "output_type": "stream",
     "text": [
      "Dropping features: ['frau1']\n"
     ]
    }
   ],
   "source": [
    "if len(excluded_features_columns) > 0:\n",
    "    print(f\"Dropping features: {excluded_features_columns}\")\n",
    "    X_calib.drop(excluded_features_columns, axis=1, inplace=True)"
   ]
  },
  {
   "cell_type": "code",
   "execution_count": 35,
   "id": "6727d079-03e5-481e-9d38-292a90b7a0a8",
   "metadata": {
    "execution": {
     "iopub.execute_input": "2025-07-30T21:52:42.423869Z",
     "iopub.status.busy": "2025-07-30T21:52:42.422778Z",
     "iopub.status.idle": "2025-07-30T21:52:42.428797Z",
     "shell.execute_reply": "2025-07-30T21:52:42.427545Z"
    },
    "papermill": {
     "duration": 0.034045,
     "end_time": "2025-07-30T21:52:42.430945",
     "exception": false,
     "start_time": "2025-07-30T21:52:42.396900",
     "status": "completed"
    },
    "tags": []
   },
   "outputs": [],
   "source": [
    "# SPLIT & STRATIFY DATA\n",
    "# ----------------------"
   ]
  },
  {
   "cell_type": "code",
   "execution_count": 36,
   "id": "76c4dc6d",
   "metadata": {
    "execution": {
     "iopub.execute_input": "2025-07-30T21:52:42.480200Z",
     "iopub.status.busy": "2025-07-30T21:52:42.479619Z",
     "iopub.status.idle": "2025-07-30T21:52:42.487047Z",
     "shell.execute_reply": "2025-07-30T21:52:42.485720Z"
    },
    "papermill": {
     "duration": 0.036188,
     "end_time": "2025-07-30T21:52:42.489268",
     "exception": false,
     "start_time": "2025-07-30T21:52:42.453080",
     "status": "completed"
    },
    "tags": []
   },
   "outputs": [],
   "source": [
    "# EXCLUDE CERTAIN SUBGROUPS\n",
    "# ----------------------\n",
    "\n",
    "mode = universe.get(\"exclude_subgroups\", \"keep-all\") \n",
    "# Fetches the exclude_subgroups setting from the universe dict.\n",
    "# Defaults to \"keep-all\" if the key is missing."
   ]
  },
  {
   "cell_type": "code",
   "execution_count": 37,
   "id": "21994072",
   "metadata": {
    "execution": {
     "iopub.execute_input": "2025-07-30T21:52:42.541301Z",
     "iopub.status.busy": "2025-07-30T21:52:42.540617Z",
     "iopub.status.idle": "2025-07-30T21:52:42.550409Z",
     "shell.execute_reply": "2025-07-30T21:52:42.549069Z"
    },
    "papermill": {
     "duration": 0.037232,
     "end_time": "2025-07-30T21:52:42.551839",
     "exception": false,
     "start_time": "2025-07-30T21:52:42.514607",
     "status": "completed"
    },
    "tags": []
   },
   "outputs": [],
   "source": [
    "if mode == \"keep-all\":\n",
    "    keep_mask = pd.Series(True, index=org_train.index)\n",
    "\n",
    "# org_train contains the original feature columns from features_org (in Simson)\n",
    "# features_org contains unprocessed features, for me X_train at beginning ???\n",
    "# For keep-all, creates a boolean Series (keep_mask) of all True, so no rows are removed.\n",
    "\n",
    "elif mode == \"drop-non-german\":\n",
    "    keep_mask = org_train[\"maxdeutsch1\"] == 1 # ??? what about missing values?\n",
    "\n",
    "else:\n",
    "    raise ValueError(f\"Unsupported mode for exclude_subgroups: {mode}\")\n"
   ]
  },
  {
   "cell_type": "code",
   "execution_count": 38,
   "id": "71651440",
   "metadata": {
    "execution": {
     "iopub.execute_input": "2025-07-30T21:52:42.580687Z",
     "iopub.status.busy": "2025-07-30T21:52:42.580173Z",
     "iopub.status.idle": "2025-07-30T21:52:42.587356Z",
     "shell.execute_reply": "2025-07-30T21:52:42.586323Z"
    },
    "papermill": {
     "duration": 0.022289,
     "end_time": "2025-07-30T21:52:42.589370",
     "exception": false,
     "start_time": "2025-07-30T21:52:42.567081",
     "status": "completed"
    },
    "tags": []
   },
   "outputs": [
    {
     "name": "stdout",
     "output_type": "stream",
     "text": [
      "Dropping 131 rows (13.10%) where mode='drop-non-german'\n"
     ]
    }
   ],
   "source": [
    "n_drop = (~keep_mask).sum() # Calculates how many rows are set to be dropped\n",
    "if n_drop > 0:\n",
    "    pct = n_drop / len(keep_mask) * 100\n",
    "    print(f\"Dropping {n_drop} rows ({pct:.2f}%) where mode='{mode}'\")"
   ]
  },
  {
   "cell_type": "code",
   "execution_count": 39,
   "id": "5fb8eee5",
   "metadata": {
    "execution": {
     "iopub.execute_input": "2025-07-30T21:52:42.637438Z",
     "iopub.status.busy": "2025-07-30T21:52:42.637011Z",
     "iopub.status.idle": "2025-07-30T21:52:42.643323Z",
     "shell.execute_reply": "2025-07-30T21:52:42.642363Z"
    },
    "papermill": {
     "duration": 0.03279,
     "end_time": "2025-07-30T21:52:42.646247",
     "exception": false,
     "start_time": "2025-07-30T21:52:42.613457",
     "status": "completed"
    },
    "tags": []
   },
   "outputs": [],
   "source": [
    "X_train = X_train[keep_mask]"
   ]
  },
  {
   "cell_type": "code",
   "execution_count": 40,
   "id": "b202bb3a",
   "metadata": {
    "execution": {
     "iopub.execute_input": "2025-07-30T21:52:42.700132Z",
     "iopub.status.busy": "2025-07-30T21:52:42.699572Z",
     "iopub.status.idle": "2025-07-30T21:52:42.705978Z",
     "shell.execute_reply": "2025-07-30T21:52:42.704956Z"
    },
    "papermill": {
     "duration": 0.035259,
     "end_time": "2025-07-30T21:52:42.707826",
     "exception": false,
     "start_time": "2025-07-30T21:52:42.672567",
     "status": "completed"
    },
    "tags": []
   },
   "outputs": [],
   "source": [
    "y_train = y_train[keep_mask]"
   ]
  },
  {
   "cell_type": "markdown",
   "id": "493e2ac3",
   "metadata": {
    "papermill": {
     "duration": 0.026427,
     "end_time": "2025-07-30T21:52:42.760772",
     "exception": false,
     "start_time": "2025-07-30T21:52:42.734345",
     "status": "completed"
    },
    "tags": []
   },
   "source": [
    "# Model Training"
   ]
  },
  {
   "cell_type": "code",
   "execution_count": 41,
   "id": "679e1268",
   "metadata": {
    "execution": {
     "iopub.execute_input": "2025-07-30T21:52:42.817013Z",
     "iopub.status.busy": "2025-07-30T21:52:42.816438Z",
     "iopub.status.idle": "2025-07-30T21:52:42.942184Z",
     "shell.execute_reply": "2025-07-30T21:52:42.940964Z"
    },
    "papermill": {
     "duration": 0.156328,
     "end_time": "2025-07-30T21:52:42.944260",
     "exception": false,
     "start_time": "2025-07-30T21:52:42.787932",
     "status": "completed"
    },
    "tags": []
   },
   "outputs": [],
   "source": [
    "from sklearn.linear_model import LogisticRegression\n",
    "from sklearn.ensemble import GradientBoostingClassifier, RandomForestClassifier\n",
    "\n",
    "if (universe[\"model\"] == \"logreg\"):\n",
    "    model = LogisticRegression() #penalty=\"none\") #, solver=\"newton-cg\", max_iter=1) # include random_state=19 ?\n",
    "elif (universe[\"model\"] == \"penalized_logreg\"):\n",
    "    model = LogisticRegression(penalty=\"l2\", C=1.0) #, solver=\"newton-cg\", max_iter=1)\n",
    "elif (universe[\"model\"] == \"rf\"):\n",
    "    model = RandomForestClassifier(n_estimators=100, n_jobs=-1)\n",
    "elif (universe[\"model\"] == \"gbm\"):\n",
    "    model = GradientBoostingClassifier()\n",
    "elif (universe[\"model\"] == \"elasticnet\"):\n",
    "    model = LogisticRegression(penalty = 'elasticnet', solver = 'saga', l1_ratio = 0.5, max_iter=5000) # which solver to use?\n",
    "else:\n",
    "    raise \"Unsupported universe.model\""
   ]
  },
  {
   "cell_type": "code",
   "execution_count": 42,
   "id": "0cc8f744",
   "metadata": {
    "execution": {
     "iopub.execute_input": "2025-07-30T21:52:42.998157Z",
     "iopub.status.busy": "2025-07-30T21:52:42.997796Z",
     "iopub.status.idle": "2025-07-30T21:52:43.003298Z",
     "shell.execute_reply": "2025-07-30T21:52:43.002489Z"
    },
    "papermill": {
     "duration": 0.034124,
     "end_time": "2025-07-30T21:52:43.004730",
     "exception": false,
     "start_time": "2025-07-30T21:52:42.970606",
     "status": "completed"
    },
    "tags": []
   },
   "outputs": [],
   "source": [
    "import numpy as np\n",
    "from sklearn.pipeline import Pipeline\n",
    "from sklearn.preprocessing import StandardScaler\n",
    "\n",
    "model = Pipeline([\n",
    "    #(\"continuous_processor\", continuous_processor),\n",
    "    #(\"categorical_preprocessor\", categorical_preprocessor),\n",
    "    (\"scale\", StandardScaler() if universe[\"scale\"] == \"scale\" else None), \n",
    "    (\"model\", model),\n",
    "])"
   ]
  },
  {
   "cell_type": "code",
   "execution_count": 43,
   "id": "9442c04d",
   "metadata": {
    "execution": {
     "iopub.execute_input": "2025-07-30T21:52:43.044988Z",
     "iopub.status.busy": "2025-07-30T21:52:43.044700Z",
     "iopub.status.idle": "2025-07-30T21:52:43.886576Z",
     "shell.execute_reply": "2025-07-30T21:52:43.885846Z"
    },
    "papermill": {
     "duration": 0.871331,
     "end_time": "2025-07-30T21:52:43.889714",
     "exception": false,
     "start_time": "2025-07-30T21:52:43.018383",
     "status": "completed"
    },
    "tags": []
   },
   "outputs": [
    {
     "data": {
      "text/html": [
       "<style>#sk-container-id-1 {color: black;background-color: white;}#sk-container-id-1 pre{padding: 0;}#sk-container-id-1 div.sk-toggleable {background-color: white;}#sk-container-id-1 label.sk-toggleable__label {cursor: pointer;display: block;width: 100%;margin-bottom: 0;padding: 0.3em;box-sizing: border-box;text-align: center;}#sk-container-id-1 label.sk-toggleable__label-arrow:before {content: \"▸\";float: left;margin-right: 0.25em;color: #696969;}#sk-container-id-1 label.sk-toggleable__label-arrow:hover:before {color: black;}#sk-container-id-1 div.sk-estimator:hover label.sk-toggleable__label-arrow:before {color: black;}#sk-container-id-1 div.sk-toggleable__content {max-height: 0;max-width: 0;overflow: hidden;text-align: left;background-color: #f0f8ff;}#sk-container-id-1 div.sk-toggleable__content pre {margin: 0.2em;color: black;border-radius: 0.25em;background-color: #f0f8ff;}#sk-container-id-1 input.sk-toggleable__control:checked~div.sk-toggleable__content {max-height: 200px;max-width: 100%;overflow: auto;}#sk-container-id-1 input.sk-toggleable__control:checked~label.sk-toggleable__label-arrow:before {content: \"▾\";}#sk-container-id-1 div.sk-estimator input.sk-toggleable__control:checked~label.sk-toggleable__label {background-color: #d4ebff;}#sk-container-id-1 div.sk-label input.sk-toggleable__control:checked~label.sk-toggleable__label {background-color: #d4ebff;}#sk-container-id-1 input.sk-hidden--visually {border: 0;clip: rect(1px 1px 1px 1px);clip: rect(1px, 1px, 1px, 1px);height: 1px;margin: -1px;overflow: hidden;padding: 0;position: absolute;width: 1px;}#sk-container-id-1 div.sk-estimator {font-family: monospace;background-color: #f0f8ff;border: 1px dotted black;border-radius: 0.25em;box-sizing: border-box;margin-bottom: 0.5em;}#sk-container-id-1 div.sk-estimator:hover {background-color: #d4ebff;}#sk-container-id-1 div.sk-parallel-item::after {content: \"\";width: 100%;border-bottom: 1px solid gray;flex-grow: 1;}#sk-container-id-1 div.sk-label:hover label.sk-toggleable__label {background-color: #d4ebff;}#sk-container-id-1 div.sk-serial::before {content: \"\";position: absolute;border-left: 1px solid gray;box-sizing: border-box;top: 0;bottom: 0;left: 50%;z-index: 0;}#sk-container-id-1 div.sk-serial {display: flex;flex-direction: column;align-items: center;background-color: white;padding-right: 0.2em;padding-left: 0.2em;position: relative;}#sk-container-id-1 div.sk-item {position: relative;z-index: 1;}#sk-container-id-1 div.sk-parallel {display: flex;align-items: stretch;justify-content: center;background-color: white;position: relative;}#sk-container-id-1 div.sk-item::before, #sk-container-id-1 div.sk-parallel-item::before {content: \"\";position: absolute;border-left: 1px solid gray;box-sizing: border-box;top: 0;bottom: 0;left: 50%;z-index: -1;}#sk-container-id-1 div.sk-parallel-item {display: flex;flex-direction: column;z-index: 1;position: relative;background-color: white;}#sk-container-id-1 div.sk-parallel-item:first-child::after {align-self: flex-end;width: 50%;}#sk-container-id-1 div.sk-parallel-item:last-child::after {align-self: flex-start;width: 50%;}#sk-container-id-1 div.sk-parallel-item:only-child::after {width: 0;}#sk-container-id-1 div.sk-dashed-wrapped {border: 1px dashed gray;margin: 0 0.4em 0.5em 0.4em;box-sizing: border-box;padding-bottom: 0.4em;background-color: white;}#sk-container-id-1 div.sk-label label {font-family: monospace;font-weight: bold;display: inline-block;line-height: 1.2em;}#sk-container-id-1 div.sk-label-container {text-align: center;}#sk-container-id-1 div.sk-container {/* jupyter's `normalize.less` sets `[hidden] { display: none; }` but bootstrap.min.css set `[hidden] { display: none !important; }` so we also need the `!important` here to be able to override the default hidden behavior on the sphinx rendered scikit-learn.org. See: https://github.com/scikit-learn/scikit-learn/issues/21755 */display: inline-block !important;position: relative;}#sk-container-id-1 div.sk-text-repr-fallback {display: none;}</style><div id=\"sk-container-id-1\" class=\"sk-top-container\"><div class=\"sk-text-repr-fallback\"><pre>Pipeline(steps=[(&#x27;scale&#x27;, None), (&#x27;model&#x27;, GradientBoostingClassifier())])</pre><b>In a Jupyter environment, please rerun this cell to show the HTML representation or trust the notebook. <br />On GitHub, the HTML representation is unable to render, please try loading this page with nbviewer.org.</b></div><div class=\"sk-container\" hidden><div class=\"sk-item sk-dashed-wrapped\"><div class=\"sk-label-container\"><div class=\"sk-label sk-toggleable\"><input class=\"sk-toggleable__control sk-hidden--visually\" id=\"sk-estimator-id-1\" type=\"checkbox\" ><label for=\"sk-estimator-id-1\" class=\"sk-toggleable__label sk-toggleable__label-arrow\">Pipeline</label><div class=\"sk-toggleable__content\"><pre>Pipeline(steps=[(&#x27;scale&#x27;, None), (&#x27;model&#x27;, GradientBoostingClassifier())])</pre></div></div></div><div class=\"sk-serial\"><div class=\"sk-item\"><div class=\"sk-estimator sk-toggleable\"><input class=\"sk-toggleable__control sk-hidden--visually\" id=\"sk-estimator-id-2\" type=\"checkbox\" ><label for=\"sk-estimator-id-2\" class=\"sk-toggleable__label sk-toggleable__label-arrow\">None</label><div class=\"sk-toggleable__content\"><pre>None</pre></div></div></div><div class=\"sk-item\"><div class=\"sk-estimator sk-toggleable\"><input class=\"sk-toggleable__control sk-hidden--visually\" id=\"sk-estimator-id-3\" type=\"checkbox\" ><label for=\"sk-estimator-id-3\" class=\"sk-toggleable__label sk-toggleable__label-arrow\">GradientBoostingClassifier</label><div class=\"sk-toggleable__content\"><pre>GradientBoostingClassifier()</pre></div></div></div></div></div></div></div>"
      ],
      "text/plain": [
       "Pipeline(steps=[('scale', None), ('model', GradientBoostingClassifier())])"
      ]
     },
     "execution_count": 43,
     "metadata": {},
     "output_type": "execute_result"
    }
   ],
   "source": [
    "model.fit(X_train, y_train.values.ravel())"
   ]
  },
  {
   "cell_type": "code",
   "execution_count": 44,
   "id": "af59f8c0",
   "metadata": {
    "execution": {
     "iopub.execute_input": "2025-07-30T21:52:43.942743Z",
     "iopub.status.busy": "2025-07-30T21:52:43.942319Z",
     "iopub.status.idle": "2025-07-30T21:52:43.948052Z",
     "shell.execute_reply": "2025-07-30T21:52:43.947312Z"
    },
    "papermill": {
     "duration": 0.03431,
     "end_time": "2025-07-30T21:52:43.949823",
     "exception": false,
     "start_time": "2025-07-30T21:52:43.915513",
     "status": "completed"
    },
    "tags": []
   },
   "outputs": [],
   "source": [
    "from fairness_multiverse.universe import predict_w_threshold"
   ]
  },
  {
   "cell_type": "code",
   "execution_count": 45,
   "id": "a7cf2e16",
   "metadata": {
    "execution": {
     "iopub.execute_input": "2025-07-30T21:52:44.003183Z",
     "iopub.status.busy": "2025-07-30T21:52:44.002875Z",
     "iopub.status.idle": "2025-07-30T21:52:44.741857Z",
     "shell.execute_reply": "2025-07-30T21:52:44.740286Z"
    },
    "papermill": {
     "duration": 0.766913,
     "end_time": "2025-07-30T21:52:44.743364",
     "exception": false,
     "start_time": "2025-07-30T21:52:43.976451",
     "status": "completed"
    },
    "tags": []
   },
   "outputs": [
    {
     "data": {
      "text/plain": [
       "0.8251588451677628"
      ]
     },
     "execution_count": 45,
     "metadata": {},
     "output_type": "execute_result"
    }
   ],
   "source": [
    "probs_test = model.predict_proba(X_test)\n",
    "\n",
    "'''\n",
    "Below code returns a boolean array (or binary 0/1 array depending on how it’s used) where each element \n",
    "is True if the probability of class 1 is greater than or equal to the threshold, and False otherwise.\n",
    "'''\n",
    "y_pred_default = predict_w_threshold(probs_test, 0.5)\n",
    "\n",
    "from sklearn.metrics import accuracy_score\n",
    "\n",
    "# Naive prediction\n",
    "accuracy_score(y_true = y_true, y_pred = y_pred_default)"
   ]
  },
  {
   "cell_type": "code",
   "execution_count": 46,
   "id": "081964c3",
   "metadata": {
    "execution": {
     "iopub.execute_input": "2025-07-30T21:52:44.771085Z",
     "iopub.status.busy": "2025-07-30T21:52:44.770729Z",
     "iopub.status.idle": "2025-07-30T21:52:45.339625Z",
     "shell.execute_reply": "2025-07-30T21:52:45.338654Z"
    },
    "papermill": {
     "duration": 0.584377,
     "end_time": "2025-07-30T21:52:45.341385",
     "exception": false,
     "start_time": "2025-07-30T21:52:44.757008",
     "status": "completed"
    },
    "tags": []
   },
   "outputs": [
    {
     "data": {
      "text/plain": [
       "array([0, 0, 0, ..., 1, 0, 0])"
      ]
     },
     "execution_count": 46,
     "metadata": {},
     "output_type": "execute_result"
    }
   ],
   "source": [
    "model.predict(X_test)"
   ]
  },
  {
   "cell_type": "markdown",
   "id": "56c9705b",
   "metadata": {
    "papermill": {
     "duration": 0.024557,
     "end_time": "2025-07-30T21:52:45.392249",
     "exception": false,
     "start_time": "2025-07-30T21:52:45.367692",
     "status": "completed"
    },
    "tags": []
   },
   "source": [
    "# Conformal Prediction"
   ]
  },
  {
   "cell_type": "code",
   "execution_count": 47,
   "id": "160ec6ff",
   "metadata": {
    "execution": {
     "iopub.execute_input": "2025-07-30T21:52:45.442905Z",
     "iopub.status.busy": "2025-07-30T21:52:45.442215Z",
     "iopub.status.idle": "2025-07-30T21:52:45.447677Z",
     "shell.execute_reply": "2025-07-30T21:52:45.446682Z"
    },
    "papermill": {
     "duration": 0.032791,
     "end_time": "2025-07-30T21:52:45.449511",
     "exception": false,
     "start_time": "2025-07-30T21:52:45.416720",
     "status": "completed"
    },
    "tags": []
   },
   "outputs": [],
   "source": [
    "# Miscoverage level for conformal prediction (10% allowed error rate => 90% target coverage)\n",
    "alpha = 0.1"
   ]
  },
  {
   "cell_type": "code",
   "execution_count": 48,
   "id": "eadf4555-3dd3-440e-8e35-f82a4ad9f855",
   "metadata": {
    "execution": {
     "iopub.execute_input": "2025-07-30T21:52:45.500567Z",
     "iopub.status.busy": "2025-07-30T21:52:45.499880Z",
     "iopub.status.idle": "2025-07-30T21:52:46.133170Z",
     "shell.execute_reply": "2025-07-30T21:52:46.132143Z"
    },
    "papermill": {
     "duration": 0.660289,
     "end_time": "2025-07-30T21:52:46.134742",
     "exception": false,
     "start_time": "2025-07-30T21:52:45.474453",
     "status": "completed"
    },
    "tags": []
   },
   "outputs": [],
   "source": [
    "probs_calib = model.predict_proba(X_calib)"
   ]
  },
  {
   "cell_type": "code",
   "execution_count": 49,
   "id": "2ed93547-6d5d-4983-9b36-1ecb300da49a",
   "metadata": {
    "execution": {
     "iopub.execute_input": "2025-07-30T21:52:46.206619Z",
     "iopub.status.busy": "2025-07-30T21:52:46.206079Z",
     "iopub.status.idle": "2025-07-30T21:52:46.212830Z",
     "shell.execute_reply": "2025-07-30T21:52:46.211614Z"
    },
    "papermill": {
     "duration": 0.048026,
     "end_time": "2025-07-30T21:52:46.215149",
     "exception": false,
     "start_time": "2025-07-30T21:52:46.167123",
     "status": "completed"
    },
    "tags": []
   },
   "outputs": [],
   "source": [
    "y_calib = y_calib.values.ravel().astype(int)"
   ]
  },
  {
   "cell_type": "code",
   "execution_count": 50,
   "id": "65d1320d-f588-4b38-9072-62af1ae97f7d",
   "metadata": {
    "execution": {
     "iopub.execute_input": "2025-07-30T21:52:46.275235Z",
     "iopub.status.busy": "2025-07-30T21:52:46.274651Z",
     "iopub.status.idle": "2025-07-30T21:52:46.284337Z",
     "shell.execute_reply": "2025-07-30T21:52:46.283080Z"
    },
    "papermill": {
     "duration": 0.039073,
     "end_time": "2025-07-30T21:52:46.286537",
     "exception": false,
     "start_time": "2025-07-30T21:52:46.247464",
     "status": "completed"
    },
    "tags": []
   },
   "outputs": [],
   "source": [
    "from fairness_multiverse.conformal import compute_nc_scores\n",
    "\n",
    "# Compute nonconformity scores on calibration set (1 - probability of true class)\n",
    "nc_scores = compute_nc_scores(probs_calib, y_calib)"
   ]
  },
  {
   "cell_type": "code",
   "execution_count": 51,
   "id": "df3b8ca3-53b7-43d5-9667-7c85da7aeda2",
   "metadata": {
    "execution": {
     "iopub.execute_input": "2025-07-30T21:52:46.345116Z",
     "iopub.status.busy": "2025-07-30T21:52:46.344293Z",
     "iopub.status.idle": "2025-07-30T21:52:46.352773Z",
     "shell.execute_reply": "2025-07-30T21:52:46.351571Z"
    },
    "papermill": {
     "duration": 0.038959,
     "end_time": "2025-07-30T21:52:46.354845",
     "exception": false,
     "start_time": "2025-07-30T21:52:46.315886",
     "status": "completed"
    },
    "tags": []
   },
   "outputs": [],
   "source": [
    "from fairness_multiverse.conformal import find_threshold\n",
    "\n",
    "# Find conformal threshold q_hat for the given alpha (split conformal method)\n",
    "q_hat = find_threshold(nc_scores, alpha)"
   ]
  },
  {
   "cell_type": "code",
   "execution_count": 52,
   "id": "4d29e6c1-0ef6-4aa4-b8fe-4fe79b0d033a",
   "metadata": {
    "execution": {
     "iopub.execute_input": "2025-07-30T21:52:46.409369Z",
     "iopub.status.busy": "2025-07-30T21:52:46.408597Z",
     "iopub.status.idle": "2025-07-30T21:52:46.417522Z",
     "shell.execute_reply": "2025-07-30T21:52:46.416329Z"
    },
    "papermill": {
     "duration": 0.038974,
     "end_time": "2025-07-30T21:52:46.419458",
     "exception": false,
     "start_time": "2025-07-30T21:52:46.380484",
     "status": "completed"
    },
    "tags": []
   },
   "outputs": [
    {
     "data": {
      "text/plain": [
       "0.7862141719179068"
      ]
     },
     "execution_count": 52,
     "metadata": {},
     "output_type": "execute_result"
    }
   ],
   "source": [
    "q_hat"
   ]
  },
  {
   "cell_type": "code",
   "execution_count": 53,
   "id": "92460794-cdac-4be2-ba28-f28c0515a6fb",
   "metadata": {
    "execution": {
     "iopub.execute_input": "2025-07-30T21:52:46.472358Z",
     "iopub.status.busy": "2025-07-30T21:52:46.471586Z",
     "iopub.status.idle": "2025-07-30T21:52:48.004675Z",
     "shell.execute_reply": "2025-07-30T21:52:48.003565Z"
    },
    "papermill": {
     "duration": 1.561172,
     "end_time": "2025-07-30T21:52:48.006548",
     "exception": false,
     "start_time": "2025-07-30T21:52:46.445376",
     "status": "completed"
    },
    "tags": []
   },
   "outputs": [],
   "source": [
    "from fairness_multiverse.conformal import predict_conformal_sets\n",
    "\n",
    "# Generate prediction sets for each test example\n",
    "pred_sets = predict_conformal_sets(model, X_test, q_hat)"
   ]
  },
  {
   "cell_type": "code",
   "execution_count": 54,
   "id": "d90c9a65-e6db-4f5d-80cd-e68fb7e46829",
   "metadata": {
    "execution": {
     "iopub.execute_input": "2025-07-30T21:52:48.056701Z",
     "iopub.status.busy": "2025-07-30T21:52:48.055912Z",
     "iopub.status.idle": "2025-07-30T21:52:48.062167Z",
     "shell.execute_reply": "2025-07-30T21:52:48.061178Z"
    },
    "papermill": {
     "duration": 0.033298,
     "end_time": "2025-07-30T21:52:48.064277",
     "exception": false,
     "start_time": "2025-07-30T21:52:48.030979",
     "status": "completed"
    },
    "tags": []
   },
   "outputs": [],
   "source": [
    "y_true = y_true.squeeze()"
   ]
  },
  {
   "cell_type": "code",
   "execution_count": 55,
   "id": "3a58a54a-1e68-46b9-927a-df01f18aebc8",
   "metadata": {
    "execution": {
     "iopub.execute_input": "2025-07-30T21:52:48.128572Z",
     "iopub.status.busy": "2025-07-30T21:52:48.127475Z",
     "iopub.status.idle": "2025-07-30T21:52:49.060854Z",
     "shell.execute_reply": "2025-07-30T21:52:49.060090Z"
    },
    "papermill": {
     "duration": 0.973902,
     "end_time": "2025-07-30T21:52:49.062682",
     "exception": false,
     "start_time": "2025-07-30T21:52:48.088780",
     "status": "completed"
    },
    "tags": []
   },
   "outputs": [],
   "source": [
    "from fairness_multiverse.conformal import evaluate_sets\n",
    "\n",
    "# Evaluate coverage and average set size on test data\n",
    "metrics = evaluate_sets(pred_sets, y_true)"
   ]
  },
  {
   "cell_type": "markdown",
   "id": "2b569c12-9aaa-4c88-98c9-bbcd0cf3ebb8",
   "metadata": {
    "papermill": {
     "duration": 0.018098,
     "end_time": "2025-07-30T21:52:49.116688",
     "exception": false,
     "start_time": "2025-07-30T21:52:49.098590",
     "status": "completed"
    },
    "tags": []
   },
   "source": [
    "# CP Metrics"
   ]
  },
  {
   "cell_type": "code",
   "execution_count": 56,
   "id": "5ce0a5cb-201f-45a0-ade5-94c7f0bd6095",
   "metadata": {
    "execution": {
     "iopub.execute_input": "2025-07-30T21:52:49.144088Z",
     "iopub.status.busy": "2025-07-30T21:52:49.143241Z",
     "iopub.status.idle": "2025-07-30T21:52:49.150699Z",
     "shell.execute_reply": "2025-07-30T21:52:49.149748Z"
    },
    "papermill": {
     "duration": 0.0227,
     "end_time": "2025-07-30T21:52:49.152711",
     "exception": false,
     "start_time": "2025-07-30T21:52:49.130011",
     "status": "completed"
    },
    "tags": []
   },
   "outputs": [
    {
     "data": {
      "text/plain": [
       "{'coverage': 0.9077248913164642, 'avg_size': 1.202285141009921}"
      ]
     },
     "execution_count": 56,
     "metadata": {},
     "output_type": "execute_result"
    }
   ],
   "source": [
    "metrics"
   ]
  },
  {
   "cell_type": "code",
   "execution_count": 57,
   "id": "9b9a838d-31c9-430b-ae14-12baee460d17",
   "metadata": {
    "execution": {
     "iopub.execute_input": "2025-07-30T21:52:49.208717Z",
     "iopub.status.busy": "2025-07-30T21:52:49.208318Z",
     "iopub.status.idle": "2025-07-30T21:52:49.214631Z",
     "shell.execute_reply": "2025-07-30T21:52:49.213639Z"
    },
    "papermill": {
     "duration": 0.035721,
     "end_time": "2025-07-30T21:52:49.216260",
     "exception": false,
     "start_time": "2025-07-30T21:52:49.180539",
     "status": "completed"
    },
    "tags": []
   },
   "outputs": [],
   "source": [
    "example_universe = universe.copy()\n",
    "universe_training_year = example_universe.get(\"training_year\")\n",
    "universe_training_size = example_universe.get(\"training_size\")\n",
    "universe_scale = example_universe.get(\"scale\")\n",
    "universe_model = example_universe.get(\"model\")\n",
    "universe_exclude_features = example_universe.get(\"exclude_features\")\n",
    "universe_exclude_subgroups = example_universe.get(\"exclude_subgroups\")"
   ]
  },
  {
   "cell_type": "code",
   "execution_count": 58,
   "id": "f4b6a8ac-9dc0-4245-8a91-5b3b5999c4f9",
   "metadata": {
    "execution": {
     "iopub.execute_input": "2025-07-30T21:52:49.272638Z",
     "iopub.status.busy": "2025-07-30T21:52:49.272126Z",
     "iopub.status.idle": "2025-07-30T21:52:49.278967Z",
     "shell.execute_reply": "2025-07-30T21:52:49.278046Z"
    },
    "papermill": {
     "duration": 0.036875,
     "end_time": "2025-07-30T21:52:49.280616",
     "exception": false,
     "start_time": "2025-07-30T21:52:49.243741",
     "status": "completed"
    },
    "tags": []
   },
   "outputs": [],
   "source": [
    "cp_metrics_dict = {\n",
    "    \"universe_id\": [universe_id],\n",
    "    \"universe_training_year\": [universe_training_year],\n",
    "    \"universe_training_size\": [universe_training_size],\n",
    "    \"universe_scale\": [universe_scale],\n",
    "    \"universe_model\": [universe_model],\n",
    "    \"universe_exclude_features\": [universe_exclude_features],\n",
    "    \"universe_exclude_subgroups\": [universe_exclude_subgroups],\n",
    "    \"q_hat\": [q_hat],\n",
    "    \"coverage\": [metrics[\"coverage\"]],\n",
    "    \"avg_size\": [metrics[\"avg_size\"]],\n",
    "}"
   ]
  },
  {
   "cell_type": "code",
   "execution_count": 59,
   "id": "908acbb1-0371-4915-85ca-3fa520d2efe2",
   "metadata": {
    "execution": {
     "iopub.execute_input": "2025-07-30T21:52:49.339061Z",
     "iopub.status.busy": "2025-07-30T21:52:49.338370Z",
     "iopub.status.idle": "2025-07-30T21:52:49.398286Z",
     "shell.execute_reply": "2025-07-30T21:52:49.397194Z"
    },
    "papermill": {
     "duration": 0.091065,
     "end_time": "2025-07-30T21:52:49.400015",
     "exception": false,
     "start_time": "2025-07-30T21:52:49.308950",
     "status": "completed"
    },
    "tags": []
   },
   "outputs": [
    {
     "data": {
      "text/plain": [
       "{'universe_id': ['d74c06dd221fed0fdcd1ba1fda29a978'],\n",
       " 'universe_training_year': ['2010_14'],\n",
       " 'universe_training_size': ['1k'],\n",
       " 'universe_scale': ['do-not-scale'],\n",
       " 'universe_model': ['gbm'],\n",
       " 'universe_exclude_features': ['sex'],\n",
       " 'universe_exclude_subgroups': ['drop-non-german'],\n",
       " 'q_hat': [0.7862141719179068],\n",
       " 'coverage': [0.9077248913164642],\n",
       " 'avg_size': [1.202285141009921]}"
      ]
     },
     "execution_count": 59,
     "metadata": {},
     "output_type": "execute_result"
    }
   ],
   "source": [
    "cp_metrics_dict"
   ]
  },
  {
   "cell_type": "code",
   "execution_count": 60,
   "id": "33007efc-14e9-4ec6-97ac-56a455c82265",
   "metadata": {
    "execution": {
     "iopub.execute_input": "2025-07-30T21:52:49.457909Z",
     "iopub.status.busy": "2025-07-30T21:52:49.457470Z",
     "iopub.status.idle": "2025-07-30T21:52:49.464861Z",
     "shell.execute_reply": "2025-07-30T21:52:49.463738Z"
    },
    "papermill": {
     "duration": 0.037044,
     "end_time": "2025-07-30T21:52:49.466473",
     "exception": false,
     "start_time": "2025-07-30T21:52:49.429429",
     "status": "completed"
    },
    "tags": []
   },
   "outputs": [],
   "source": [
    "cp_metrics_df = pd.DataFrame(cp_metrics_dict)"
   ]
  },
  {
   "cell_type": "code",
   "execution_count": 61,
   "id": "db12611b-57b2-4910-b9d0-355adfd6e7bf",
   "metadata": {
    "execution": {
     "iopub.execute_input": "2025-07-30T21:52:49.522991Z",
     "iopub.status.busy": "2025-07-30T21:52:49.522332Z",
     "iopub.status.idle": "2025-07-30T21:52:49.538524Z",
     "shell.execute_reply": "2025-07-30T21:52:49.537825Z"
    },
    "papermill": {
     "duration": 0.045988,
     "end_time": "2025-07-30T21:52:49.540218",
     "exception": false,
     "start_time": "2025-07-30T21:52:49.494230",
     "status": "completed"
    },
    "tags": []
   },
   "outputs": [
    {
     "data": {
      "text/html": [
       "<div>\n",
       "<style scoped>\n",
       "    .dataframe tbody tr th:only-of-type {\n",
       "        vertical-align: middle;\n",
       "    }\n",
       "\n",
       "    .dataframe tbody tr th {\n",
       "        vertical-align: top;\n",
       "    }\n",
       "\n",
       "    .dataframe thead th {\n",
       "        text-align: right;\n",
       "    }\n",
       "</style>\n",
       "<table border=\"1\" class=\"dataframe\">\n",
       "  <thead>\n",
       "    <tr style=\"text-align: right;\">\n",
       "      <th></th>\n",
       "      <th>universe_id</th>\n",
       "      <th>universe_training_year</th>\n",
       "      <th>universe_training_size</th>\n",
       "      <th>universe_scale</th>\n",
       "      <th>universe_model</th>\n",
       "      <th>universe_exclude_features</th>\n",
       "      <th>universe_exclude_subgroups</th>\n",
       "      <th>q_hat</th>\n",
       "      <th>coverage</th>\n",
       "      <th>avg_size</th>\n",
       "    </tr>\n",
       "  </thead>\n",
       "  <tbody>\n",
       "    <tr>\n",
       "      <th>0</th>\n",
       "      <td>d74c06dd221fed0fdcd1ba1fda29a978</td>\n",
       "      <td>2010_14</td>\n",
       "      <td>1k</td>\n",
       "      <td>do-not-scale</td>\n",
       "      <td>gbm</td>\n",
       "      <td>sex</td>\n",
       "      <td>drop-non-german</td>\n",
       "      <td>0.786214</td>\n",
       "      <td>0.907725</td>\n",
       "      <td>1.202285</td>\n",
       "    </tr>\n",
       "  </tbody>\n",
       "</table>\n",
       "</div>"
      ],
      "text/plain": [
       "                        universe_id universe_training_year  \\\n",
       "0  d74c06dd221fed0fdcd1ba1fda29a978                2010_14   \n",
       "\n",
       "  universe_training_size universe_scale universe_model  \\\n",
       "0                     1k   do-not-scale            gbm   \n",
       "\n",
       "  universe_exclude_features universe_exclude_subgroups     q_hat  coverage  \\\n",
       "0                       sex            drop-non-german  0.786214  0.907725   \n",
       "\n",
       "   avg_size  \n",
       "0  1.202285  "
      ]
     },
     "execution_count": 61,
     "metadata": {},
     "output_type": "execute_result"
    }
   ],
   "source": [
    "cp_metrics_df"
   ]
  },
  {
   "cell_type": "code",
   "execution_count": 62,
   "id": "b7fbde55-a0a1-47e4-9af6-fe4a17fa8c61",
   "metadata": {
    "execution": {
     "iopub.execute_input": "2025-07-30T21:52:49.599668Z",
     "iopub.status.busy": "2025-07-30T21:52:49.599181Z",
     "iopub.status.idle": "2025-07-30T21:52:49.604828Z",
     "shell.execute_reply": "2025-07-30T21:52:49.603741Z"
    },
    "papermill": {
     "duration": 0.037977,
     "end_time": "2025-07-30T21:52:49.606744",
     "exception": false,
     "start_time": "2025-07-30T21:52:49.568767",
     "status": "completed"
    },
    "tags": []
   },
   "outputs": [],
   "source": [
    "# Conditional Coverage & looking at subgroups"
   ]
  },
  {
   "cell_type": "code",
   "execution_count": 63,
   "id": "027ae886-68dd-4141-96c7-805a5450e1ef",
   "metadata": {
    "execution": {
     "iopub.execute_input": "2025-07-30T21:52:49.663210Z",
     "iopub.status.busy": "2025-07-30T21:52:49.662672Z",
     "iopub.status.idle": "2025-07-30T21:52:49.929206Z",
     "shell.execute_reply": "2025-07-30T21:52:49.928196Z"
    },
    "papermill": {
     "duration": 0.296838,
     "end_time": "2025-07-30T21:52:49.931420",
     "exception": false,
     "start_time": "2025-07-30T21:52:49.634582",
     "status": "completed"
    },
    "tags": []
   },
   "outputs": [],
   "source": [
    "from fairness_multiverse.conformal import build_cp_groups\n",
    "\n",
    "cp_groups_df = build_cp_groups(pred_sets, y_true, X_test.index, org_test)\n",
    "#needs universe_id and setting"
   ]
  },
  {
   "cell_type": "code",
   "execution_count": 64,
   "id": "01d5802c-663a-4d1f-9d69-e036faaffbf7",
   "metadata": {
    "execution": {
     "iopub.execute_input": "2025-07-30T21:52:49.990115Z",
     "iopub.status.busy": "2025-07-30T21:52:49.989438Z",
     "iopub.status.idle": "2025-07-30T21:52:49.994506Z",
     "shell.execute_reply": "2025-07-30T21:52:49.993537Z"
    },
    "papermill": {
     "duration": 0.035341,
     "end_time": "2025-07-30T21:52:49.996434",
     "exception": false,
     "start_time": "2025-07-30T21:52:49.961093",
     "status": "completed"
    },
    "tags": []
   },
   "outputs": [],
   "source": [
    "#delete\n",
    "#cp_groups_df"
   ]
  },
  {
   "cell_type": "code",
   "execution_count": 65,
   "id": "fa424af1-d1eb-443d-b717-2d279ada8408",
   "metadata": {
    "execution": {
     "iopub.execute_input": "2025-07-30T21:52:50.053158Z",
     "iopub.status.busy": "2025-07-30T21:52:50.052723Z",
     "iopub.status.idle": "2025-07-30T21:52:50.057857Z",
     "shell.execute_reply": "2025-07-30T21:52:50.056863Z"
    },
    "papermill": {
     "duration": 0.035153,
     "end_time": "2025-07-30T21:52:50.059798",
     "exception": false,
     "start_time": "2025-07-30T21:52:50.024645",
     "status": "completed"
    },
    "tags": []
   },
   "outputs": [],
   "source": [
    "#delete\n",
    "#percentage = (cp_groups_df['nongerman_female'] == 1).mean() * 100\n",
    "#print(percentage)\n"
   ]
  },
  {
   "cell_type": "code",
   "execution_count": 66,
   "id": "6cbdab96-b2b2-45af-ad54-d0516db2e28d",
   "metadata": {
    "execution": {
     "iopub.execute_input": "2025-07-30T21:52:50.116808Z",
     "iopub.status.busy": "2025-07-30T21:52:50.116136Z",
     "iopub.status.idle": "2025-07-30T21:52:51.676727Z",
     "shell.execute_reply": "2025-07-30T21:52:51.675748Z"
    },
    "papermill": {
     "duration": 1.590551,
     "end_time": "2025-07-30T21:52:51.678448",
     "exception": false,
     "start_time": "2025-07-30T21:52:50.087897",
     "status": "completed"
    },
    "tags": []
   },
   "outputs": [],
   "source": [
    "# Define covered = 1 if true_label is in the predicted set\n",
    "cp_groups_df['covered'] = cp_groups_df.apply(\n",
    "    lambda r: int(r['true_label'] in r['pred_set']),\n",
    "    axis=1\n",
    ")"
   ]
  },
  {
   "cell_type": "code",
   "execution_count": 67,
   "id": "338ff529-1a6b-4b87-a931-8e4788d52aad",
   "metadata": {
    "execution": {
     "iopub.execute_input": "2025-07-30T21:52:51.732532Z",
     "iopub.status.busy": "2025-07-30T21:52:51.731567Z",
     "iopub.status.idle": "2025-07-30T21:52:51.736520Z",
     "shell.execute_reply": "2025-07-30T21:52:51.735705Z"
    },
    "papermill": {
     "duration": 0.035188,
     "end_time": "2025-07-30T21:52:51.738293",
     "exception": false,
     "start_time": "2025-07-30T21:52:51.703105",
     "status": "completed"
    },
    "tags": []
   },
   "outputs": [],
   "source": [
    "#cp_groups_df"
   ]
  },
  {
   "cell_type": "code",
   "execution_count": 68,
   "id": "90032e27-66df-4540-9169-4e89cfbaa758",
   "metadata": {
    "execution": {
     "iopub.execute_input": "2025-07-30T21:52:51.832175Z",
     "iopub.status.busy": "2025-07-30T21:52:51.831712Z",
     "iopub.status.idle": "2025-07-30T21:52:51.842883Z",
     "shell.execute_reply": "2025-07-30T21:52:51.841953Z"
    },
    "papermill": {
     "duration": 0.080555,
     "end_time": "2025-07-30T21:52:51.844439",
     "exception": false,
     "start_time": "2025-07-30T21:52:51.763884",
     "status": "completed"
    },
    "tags": []
   },
   "outputs": [],
   "source": [
    "subgroups = ['frau1','nongerman','nongerman_male','nongerman_female']\n",
    "\n",
    "# Conditional coverage for subgroup==1\n",
    "cond_coverage = {\n",
    "    g: cp_groups_df.loc[cp_groups_df[g]==1, 'covered'].mean()\n",
    "    for g in subgroups\n",
    "}"
   ]
  },
  {
   "cell_type": "code",
   "execution_count": 69,
   "id": "1e348fb1-b9c3-45bc-ba23-f016827a7e0d",
   "metadata": {
    "execution": {
     "iopub.execute_input": "2025-07-30T21:52:51.897397Z",
     "iopub.status.busy": "2025-07-30T21:52:51.896623Z",
     "iopub.status.idle": "2025-07-30T21:52:51.904518Z",
     "shell.execute_reply": "2025-07-30T21:52:51.903365Z"
    },
    "papermill": {
     "duration": 0.035145,
     "end_time": "2025-07-30T21:52:51.906197",
     "exception": false,
     "start_time": "2025-07-30T21:52:51.871052",
     "status": "completed"
    },
    "tags": []
   },
   "outputs": [
    {
     "data": {
      "text/plain": [
       "{'frau1': 0.9063485644965629,\n",
       " 'nongerman': 0.9065850783135913,\n",
       " 'nongerman_male': 0.9236242456993605,\n",
       " 'nongerman_female': 0.8783904619970194}"
      ]
     },
     "execution_count": 69,
     "metadata": {},
     "output_type": "execute_result"
    }
   ],
   "source": [
    "cond_coverage"
   ]
  },
  {
   "cell_type": "code",
   "execution_count": 70,
   "id": "f5093324-c3dd-4d63-bc4c-8d945e5c8bbb",
   "metadata": {
    "execution": {
     "iopub.execute_input": "2025-07-30T21:52:51.958842Z",
     "iopub.status.busy": "2025-07-30T21:52:51.957963Z",
     "iopub.status.idle": "2025-07-30T21:52:51.965455Z",
     "shell.execute_reply": "2025-07-30T21:52:51.964429Z"
    },
    "papermill": {
     "duration": 0.035074,
     "end_time": "2025-07-30T21:52:51.967083",
     "exception": false,
     "start_time": "2025-07-30T21:52:51.932009",
     "status": "completed"
    },
    "tags": []
   },
   "outputs": [],
   "source": [
    "for subgroup, cov in cond_coverage.items():\n",
    "    cp_metrics_df[f\"cov_{subgroup}\"] = cov"
   ]
  },
  {
   "cell_type": "code",
   "execution_count": 71,
   "id": "6e872e10-dbe5-49e8-b554-5030c98ff75d",
   "metadata": {
    "execution": {
     "iopub.execute_input": "2025-07-30T21:52:52.019290Z",
     "iopub.status.busy": "2025-07-30T21:52:52.018489Z",
     "iopub.status.idle": "2025-07-30T21:52:52.037302Z",
     "shell.execute_reply": "2025-07-30T21:52:52.036205Z"
    },
    "papermill": {
     "duration": 0.046649,
     "end_time": "2025-07-30T21:52:52.039200",
     "exception": false,
     "start_time": "2025-07-30T21:52:51.992551",
     "status": "completed"
    },
    "tags": []
   },
   "outputs": [
    {
     "data": {
      "text/html": [
       "<div>\n",
       "<style scoped>\n",
       "    .dataframe tbody tr th:only-of-type {\n",
       "        vertical-align: middle;\n",
       "    }\n",
       "\n",
       "    .dataframe tbody tr th {\n",
       "        vertical-align: top;\n",
       "    }\n",
       "\n",
       "    .dataframe thead th {\n",
       "        text-align: right;\n",
       "    }\n",
       "</style>\n",
       "<table border=\"1\" class=\"dataframe\">\n",
       "  <thead>\n",
       "    <tr style=\"text-align: right;\">\n",
       "      <th></th>\n",
       "      <th>universe_id</th>\n",
       "      <th>universe_training_year</th>\n",
       "      <th>universe_training_size</th>\n",
       "      <th>universe_scale</th>\n",
       "      <th>universe_model</th>\n",
       "      <th>universe_exclude_features</th>\n",
       "      <th>universe_exclude_subgroups</th>\n",
       "      <th>q_hat</th>\n",
       "      <th>coverage</th>\n",
       "      <th>avg_size</th>\n",
       "      <th>cov_frau1</th>\n",
       "      <th>cov_nongerman</th>\n",
       "      <th>cov_nongerman_male</th>\n",
       "      <th>cov_nongerman_female</th>\n",
       "    </tr>\n",
       "  </thead>\n",
       "  <tbody>\n",
       "    <tr>\n",
       "      <th>0</th>\n",
       "      <td>d74c06dd221fed0fdcd1ba1fda29a978</td>\n",
       "      <td>2010_14</td>\n",
       "      <td>1k</td>\n",
       "      <td>do-not-scale</td>\n",
       "      <td>gbm</td>\n",
       "      <td>sex</td>\n",
       "      <td>drop-non-german</td>\n",
       "      <td>0.786214</td>\n",
       "      <td>0.907725</td>\n",
       "      <td>1.202285</td>\n",
       "      <td>0.906349</td>\n",
       "      <td>0.906585</td>\n",
       "      <td>0.923624</td>\n",
       "      <td>0.87839</td>\n",
       "    </tr>\n",
       "  </tbody>\n",
       "</table>\n",
       "</div>"
      ],
      "text/plain": [
       "                        universe_id universe_training_year  \\\n",
       "0  d74c06dd221fed0fdcd1ba1fda29a978                2010_14   \n",
       "\n",
       "  universe_training_size universe_scale universe_model  \\\n",
       "0                     1k   do-not-scale            gbm   \n",
       "\n",
       "  universe_exclude_features universe_exclude_subgroups     q_hat  coverage  \\\n",
       "0                       sex            drop-non-german  0.786214  0.907725   \n",
       "\n",
       "   avg_size  cov_frau1  cov_nongerman  cov_nongerman_male  \\\n",
       "0  1.202285   0.906349       0.906585            0.923624   \n",
       "\n",
       "   cov_nongerman_female  \n",
       "0               0.87839  "
      ]
     },
     "execution_count": 71,
     "metadata": {},
     "output_type": "execute_result"
    }
   ],
   "source": [
    "cp_metrics_df"
   ]
  },
  {
   "cell_type": "markdown",
   "id": "33774451",
   "metadata": {
    "papermill": {
     "duration": 0.024212,
     "end_time": "2025-07-30T21:52:52.089782",
     "exception": false,
     "start_time": "2025-07-30T21:52:52.065570",
     "status": "completed"
    },
    "tags": []
   },
   "source": [
    "# (Fairness) Metrics"
   ]
  },
  {
   "cell_type": "code",
   "execution_count": 72,
   "id": "debc5d62",
   "metadata": {
    "execution": {
     "iopub.execute_input": "2025-07-30T21:52:52.139617Z",
     "iopub.status.busy": "2025-07-30T21:52:52.138960Z",
     "iopub.status.idle": "2025-07-30T21:52:52.161098Z",
     "shell.execute_reply": "2025-07-30T21:52:52.160164Z"
    },
    "papermill": {
     "duration": 0.049062,
     "end_time": "2025-07-30T21:52:52.162857",
     "exception": false,
     "start_time": "2025-07-30T21:52:52.113795",
     "status": "completed"
    },
    "tags": []
   },
   "outputs": [],
   "source": [
    "# do I need to include maxdeutsch1.missing?\n",
    "\n",
    "import numpy as np\n",
    "\n",
    "colname_to_bin = \"maxdeutsch1\"\n",
    "majority_value = org_train[colname_to_bin].mode()[0]\n",
    "\n",
    "org_test[\"majmin\"] = np.where(org_test[colname_to_bin] == majority_value, \"majority\", \"minority\")"
   ]
  },
  {
   "cell_type": "code",
   "execution_count": 73,
   "id": "06a50de5",
   "metadata": {
    "execution": {
     "iopub.execute_input": "2025-07-30T21:52:52.216561Z",
     "iopub.status.busy": "2025-07-30T21:52:52.215651Z",
     "iopub.status.idle": "2025-07-30T21:52:55.113242Z",
     "shell.execute_reply": "2025-07-30T21:52:55.112086Z"
    },
    "papermill": {
     "duration": 2.925336,
     "end_time": "2025-07-30T21:52:55.115377",
     "exception": false,
     "start_time": "2025-07-30T21:52:52.190041",
     "status": "completed"
    },
    "tags": []
   },
   "outputs": [],
   "source": [
    "example_universe = universe.copy()\n",
    "example_universe[\"cutoff\"] = example_universe[\"cutoff\"][0]\n",
    "example_universe[\"eval_fairness_grouping\"] = example_universe[\"eval_fairness_grouping\"][0]\n",
    "fairness_dict, metric_frame = universe_analysis.compute_metrics(\n",
    "    example_universe,\n",
    "    y_pred_prob=probs_test,\n",
    "    y_test=y_true,\n",
    "    org_test=org_test,\n",
    ")"
   ]
  },
  {
   "cell_type": "markdown",
   "id": "f95d4e02",
   "metadata": {
    "papermill": {
     "duration": 0.031708,
     "end_time": "2025-07-30T21:52:55.178038",
     "exception": false,
     "start_time": "2025-07-30T21:52:55.146330",
     "status": "completed"
    },
    "tags": []
   },
   "source": [
    "# Overall"
   ]
  },
  {
   "cell_type": "markdown",
   "id": "bdee4871",
   "metadata": {
    "papermill": {
     "duration": 0.030424,
     "end_time": "2025-07-30T21:52:55.240582",
     "exception": false,
     "start_time": "2025-07-30T21:52:55.210158",
     "status": "completed"
    },
    "tags": []
   },
   "source": [
    "Fairness\n",
    "Main fairness target: Equalized Odds. Seems to be a better fit than equal opportunity, since we're not only interested in Y = 1. Seems to be a better fit than demographic parity, since we also care about accuracy, not just equal distribution of preds.\n",
    "\n",
    "Pick column for computation of fairness metrics\n",
    "\n",
    "Performance\n",
    "Overall performance measures, most interesting in relation to the measures split by group below"
   ]
  },
  {
   "cell_type": "code",
   "execution_count": 74,
   "id": "c4e067c6",
   "metadata": {
    "execution": {
     "iopub.execute_input": "2025-07-30T21:52:55.302295Z",
     "iopub.status.busy": "2025-07-30T21:52:55.301812Z",
     "iopub.status.idle": "2025-07-30T21:52:55.311247Z",
     "shell.execute_reply": "2025-07-30T21:52:55.310067Z"
    },
    "papermill": {
     "duration": 0.042782,
     "end_time": "2025-07-30T21:52:55.313338",
     "exception": false,
     "start_time": "2025-07-30T21:52:55.270556",
     "status": "completed"
    },
    "tags": []
   },
   "outputs": [
    {
     "data": {
      "text/plain": [
       "accuracy                   0.222684\n",
       "balanced accuracy          0.544848\n",
       "f1                         0.244062\n",
       "precision                  0.139425\n",
       "false positive rate        0.888494\n",
       "false negative rate        0.021811\n",
       "selection rate             0.900000\n",
       "count                  89710.000000\n",
       "dtype: float64"
      ]
     },
     "execution_count": 74,
     "metadata": {},
     "output_type": "execute_result"
    }
   ],
   "source": [
    "metric_frame.overall"
   ]
  },
  {
   "cell_type": "markdown",
   "id": "e968fe9d",
   "metadata": {
    "papermill": {
     "duration": 0.030775,
     "end_time": "2025-07-30T21:52:55.376236",
     "exception": false,
     "start_time": "2025-07-30T21:52:55.345461",
     "status": "completed"
    },
    "tags": []
   },
   "source": [
    "By Group"
   ]
  },
  {
   "cell_type": "code",
   "execution_count": 75,
   "id": "ec325bce",
   "metadata": {
    "execution": {
     "iopub.execute_input": "2025-07-30T21:52:55.442045Z",
     "iopub.status.busy": "2025-07-30T21:52:55.441597Z",
     "iopub.status.idle": "2025-07-30T21:52:55.460715Z",
     "shell.execute_reply": "2025-07-30T21:52:55.459446Z"
    },
    "papermill": {
     "duration": 0.054771,
     "end_time": "2025-07-30T21:52:55.462608",
     "exception": false,
     "start_time": "2025-07-30T21:52:55.407837",
     "status": "completed"
    },
    "tags": []
   },
   "outputs": [
    {
     "data": {
      "text/html": [
       "<div>\n",
       "<style scoped>\n",
       "    .dataframe tbody tr th:only-of-type {\n",
       "        vertical-align: middle;\n",
       "    }\n",
       "\n",
       "    .dataframe tbody tr th {\n",
       "        vertical-align: top;\n",
       "    }\n",
       "\n",
       "    .dataframe thead th {\n",
       "        text-align: right;\n",
       "    }\n",
       "</style>\n",
       "<table border=\"1\" class=\"dataframe\">\n",
       "  <thead>\n",
       "    <tr style=\"text-align: right;\">\n",
       "      <th></th>\n",
       "      <th>accuracy</th>\n",
       "      <th>balanced accuracy</th>\n",
       "      <th>f1</th>\n",
       "      <th>precision</th>\n",
       "      <th>false positive rate</th>\n",
       "      <th>false negative rate</th>\n",
       "      <th>selection rate</th>\n",
       "      <th>count</th>\n",
       "    </tr>\n",
       "    <tr>\n",
       "      <th>majmin</th>\n",
       "      <th></th>\n",
       "      <th></th>\n",
       "      <th></th>\n",
       "      <th></th>\n",
       "      <th></th>\n",
       "      <th></th>\n",
       "      <th></th>\n",
       "      <th></th>\n",
       "    </tr>\n",
       "  </thead>\n",
       "  <tbody>\n",
       "    <tr>\n",
       "      <th>majority</th>\n",
       "      <td>0.239670</td>\n",
       "      <td>0.551657</td>\n",
       "      <td>0.253252</td>\n",
       "      <td>0.145510</td>\n",
       "      <td>0.872397</td>\n",
       "      <td>0.024289</td>\n",
       "      <td>0.886049</td>\n",
       "      <td>69170.0</td>\n",
       "    </tr>\n",
       "    <tr>\n",
       "      <th>minority</th>\n",
       "      <td>0.165482</td>\n",
       "      <td>0.523042</td>\n",
       "      <td>0.214400</td>\n",
       "      <td>0.120251</td>\n",
       "      <td>0.941669</td>\n",
       "      <td>0.012247</td>\n",
       "      <td>0.946981</td>\n",
       "      <td>20540.0</td>\n",
       "    </tr>\n",
       "  </tbody>\n",
       "</table>\n",
       "</div>"
      ],
      "text/plain": [
       "          accuracy  balanced accuracy        f1  precision  \\\n",
       "majmin                                                       \n",
       "majority  0.239670           0.551657  0.253252   0.145510   \n",
       "minority  0.165482           0.523042  0.214400   0.120251   \n",
       "\n",
       "          false positive rate  false negative rate  selection rate    count  \n",
       "majmin                                                                       \n",
       "majority             0.872397             0.024289        0.886049  69170.0  \n",
       "minority             0.941669             0.012247        0.946981  20540.0  "
      ]
     },
     "execution_count": 75,
     "metadata": {},
     "output_type": "execute_result"
    }
   ],
   "source": [
    "metric_frame.by_group"
   ]
  },
  {
   "cell_type": "code",
   "execution_count": 76,
   "id": "a9ddbe63",
   "metadata": {
    "execution": {
     "iopub.execute_input": "2025-07-30T21:52:55.530432Z",
     "iopub.status.busy": "2025-07-30T21:52:55.529796Z",
     "iopub.status.idle": "2025-07-30T21:52:57.805483Z",
     "shell.execute_reply": "2025-07-30T21:52:57.804647Z"
    },
    "papermill": {
     "duration": 2.311049,
     "end_time": "2025-07-30T21:52:57.807169",
     "exception": false,
     "start_time": "2025-07-30T21:52:55.496120",
     "status": "completed"
    },
    "tags": []
   },
   "outputs": [
    {
     "data": {
      "text/plain": [
       "array([[<Axes: title={'center': 'accuracy'}, xlabel='majmin'>,\n",
       "        <Axes: title={'center': 'balanced accuracy'}, xlabel='majmin'>,\n",
       "        <Axes: title={'center': 'f1'}, xlabel='majmin'>],\n",
       "       [<Axes: title={'center': 'precision'}, xlabel='majmin'>,\n",
       "        <Axes: title={'center': 'false positive rate'}, xlabel='majmin'>,\n",
       "        <Axes: title={'center': 'false negative rate'}, xlabel='majmin'>],\n",
       "       [<Axes: title={'center': 'selection rate'}, xlabel='majmin'>,\n",
       "        <Axes: title={'center': 'count'}, xlabel='majmin'>,\n",
       "        <Axes: xlabel='majmin'>]], dtype=object)"
      ]
     },
     "execution_count": 76,
     "metadata": {},
     "output_type": "execute_result"
    },
    {
     "data": {
      "image/png": "[encoded data removed]",
      "text/plain": [
       "<Figure size 1200x800 with 9 Axes>"
      ]
     },
     "metadata": {},
     "output_type": "display_data"
    }
   ],
   "source": [
    "# In a graphic\n",
    "metric_frame.by_group.plot.bar(\n",
    "    subplots=True,\n",
    "    layout=[3, 3],\n",
    "    legend=False,\n",
    "    figsize=[12, 8],\n",
    "    title=\"Show all metrics\",\n",
    ")"
   ]
  },
  {
   "cell_type": "markdown",
   "id": "f57a0bac",
   "metadata": {
    "papermill": {
     "duration": 0.027499,
     "end_time": "2025-07-30T21:52:57.865815",
     "exception": false,
     "start_time": "2025-07-30T21:52:57.838316",
     "status": "completed"
    },
    "tags": []
   },
   "source": [
    "# Final Output"
   ]
  },
  {
   "cell_type": "code",
   "execution_count": 77,
   "id": "96d280a3",
   "metadata": {
    "execution": {
     "iopub.execute_input": "2025-07-30T21:52:57.924691Z",
     "iopub.status.busy": "2025-07-30T21:52:57.924025Z",
     "iopub.status.idle": "2025-07-30T21:52:57.932262Z",
     "shell.execute_reply": "2025-07-30T21:52:57.931360Z"
    },
    "papermill": {
     "duration": 0.039153,
     "end_time": "2025-07-30T21:52:57.933730",
     "exception": false,
     "start_time": "2025-07-30T21:52:57.894577",
     "status": "completed"
    },
    "tags": []
   },
   "outputs": [
    {
     "data": {
      "text/plain": [
       "4"
      ]
     },
     "execution_count": 77,
     "metadata": {},
     "output_type": "execute_result"
    }
   ],
   "source": [
    "sub_universes = universe_analysis.generate_sub_universes()\n",
    "len(sub_universes)"
   ]
  },
  {
   "cell_type": "code",
   "execution_count": 78,
   "id": "92adf7ba",
   "metadata": {
    "execution": {
     "iopub.execute_input": "2025-07-30T21:52:57.992772Z",
     "iopub.status.busy": "2025-07-30T21:52:57.992144Z",
     "iopub.status.idle": "2025-07-30T21:52:57.998233Z",
     "shell.execute_reply": "2025-07-30T21:52:57.997334Z"
    },
    "papermill": {
     "duration": 0.038784,
     "end_time": "2025-07-30T21:52:57.999884",
     "exception": false,
     "start_time": "2025-07-30T21:52:57.961100",
     "status": "completed"
    },
    "tags": []
   },
   "outputs": [],
   "source": [
    "def filter_sub_universe_data(sub_universe, org_test):\n",
    "    # Keep all rows — no filtering\n",
    "    keep_rows_mask = np.ones(org_test.shape[0], dtype=bool)\n",
    "\n",
    "    print(f\"[INFO] Keeping all rows: {keep_rows_mask.sum()} rows retained.\")\n",
    "    return keep_rows_mask"
   ]
  },
  {
   "cell_type": "code",
   "execution_count": 79,
   "id": "4a759155",
   "metadata": {
    "execution": {
     "iopub.execute_input": "2025-07-30T21:52:58.059763Z",
     "iopub.status.busy": "2025-07-30T21:52:58.059264Z",
     "iopub.status.idle": "2025-07-30T21:53:05.602487Z",
     "shell.execute_reply": "2025-07-30T21:53:05.601465Z"
    },
    "papermill": {
     "duration": 7.573624,
     "end_time": "2025-07-30T21:53:05.604130",
     "exception": false,
     "start_time": "2025-07-30T21:52:58.030506",
     "status": "completed"
    },
    "tags": []
   },
   "outputs": [
    {
     "name": "stdout",
     "output_type": "stream",
     "text": [
      "Stopping execution_time clock.\n",
      "[INFO] Keeping all rows: 89710 rows retained.\n"
     ]
    },
    {
     "name": "stdout",
     "output_type": "stream",
     "text": [
      "[INFO] Keeping all rows: 89710 rows retained.\n"
     ]
    },
    {
     "name": "stdout",
     "output_type": "stream",
     "text": [
      "[INFO] Keeping all rows: 89710 rows retained.\n"
     ]
    },
    {
     "name": "stdout",
     "output_type": "stream",
     "text": [
      "[INFO] Keeping all rows: 89710 rows retained.\n"
     ]
    },
    {
     "data": {
      "text/html": [
       "<div>\n",
       "<style scoped>\n",
       "    .dataframe tbody tr th:only-of-type {\n",
       "        vertical-align: middle;\n",
       "    }\n",
       "\n",
       "    .dataframe tbody tr th {\n",
       "        vertical-align: top;\n",
       "    }\n",
       "\n",
       "    .dataframe thead th {\n",
       "        text-align: right;\n",
       "    }\n",
       "</style>\n",
       "<table border=\"1\" class=\"dataframe\">\n",
       "  <thead>\n",
       "    <tr style=\"text-align: right;\">\n",
       "      <th></th>\n",
       "      <th>run_no</th>\n",
       "      <th>universe_id</th>\n",
       "      <th>universe_settings</th>\n",
       "      <th>execution_time</th>\n",
       "      <th>test_size_n</th>\n",
       "      <th>test_size_frac</th>\n",
       "      <th>fair_main_equalized_odds_difference</th>\n",
       "      <th>fair_main_equalized_odds_ratio</th>\n",
       "      <th>fair_main_demographic_parity_difference</th>\n",
       "      <th>fair_main_demographic_parity_ratio</th>\n",
       "      <th>...</th>\n",
       "      <th>perf_grp_precision_0</th>\n",
       "      <th>perf_grp_precision_1</th>\n",
       "      <th>perf_grp_false positive rate_0</th>\n",
       "      <th>perf_grp_false positive rate_1</th>\n",
       "      <th>perf_grp_false negative rate_0</th>\n",
       "      <th>perf_grp_false negative rate_1</th>\n",
       "      <th>perf_grp_selection rate_0</th>\n",
       "      <th>perf_grp_selection rate_1</th>\n",
       "      <th>perf_grp_count_0</th>\n",
       "      <th>perf_grp_count_1</th>\n",
       "    </tr>\n",
       "  </thead>\n",
       "  <tbody>\n",
       "    <tr>\n",
       "      <th>0</th>\n",
       "      <td>14</td>\n",
       "      <td>d74c06dd221fed0fdcd1ba1fda29a978</td>\n",
       "      <td>{\"cutoff\": \"quantile_0.1\", \"eval_fairness_grou...</td>\n",
       "      <td>31.302819</td>\n",
       "      <td>89710</td>\n",
       "      <td>1.0</td>\n",
       "      <td>0.069271</td>\n",
       "      <td>0.926438</td>\n",
       "      <td>0.060933</td>\n",
       "      <td>0.935656</td>\n",
       "      <td>...</td>\n",
       "      <td>NaN</td>\n",
       "      <td>NaN</td>\n",
       "      <td>NaN</td>\n",
       "      <td>NaN</td>\n",
       "      <td>NaN</td>\n",
       "      <td>NaN</td>\n",
       "      <td>NaN</td>\n",
       "      <td>NaN</td>\n",
       "      <td>NaN</td>\n",
       "      <td>NaN</td>\n",
       "    </tr>\n",
       "    <tr>\n",
       "      <th>0</th>\n",
       "      <td>14</td>\n",
       "      <td>d74c06dd221fed0fdcd1ba1fda29a978</td>\n",
       "      <td>{\"cutoff\": \"quantile_0.1\", \"eval_fairness_grou...</td>\n",
       "      <td>31.302819</td>\n",
       "      <td>89710</td>\n",
       "      <td>1.0</td>\n",
       "      <td>0.069271</td>\n",
       "      <td>0.926438</td>\n",
       "      <td>0.060933</td>\n",
       "      <td>0.935656</td>\n",
       "      <td>...</td>\n",
       "      <td>0.120251</td>\n",
       "      <td>0.145510</td>\n",
       "      <td>0.941669</td>\n",
       "      <td>0.872397</td>\n",
       "      <td>0.012247</td>\n",
       "      <td>0.024289</td>\n",
       "      <td>0.946981</td>\n",
       "      <td>0.886049</td>\n",
       "      <td>20540.0</td>\n",
       "      <td>69170.0</td>\n",
       "    </tr>\n",
       "    <tr>\n",
       "      <th>0</th>\n",
       "      <td>14</td>\n",
       "      <td>d74c06dd221fed0fdcd1ba1fda29a978</td>\n",
       "      <td>{\"cutoff\": \"quantile_0.25\", \"eval_fairness_gro...</td>\n",
       "      <td>31.302819</td>\n",
       "      <td>89710</td>\n",
       "      <td>1.0</td>\n",
       "      <td>0.150093</td>\n",
       "      <td>0.821253</td>\n",
       "      <td>0.133918</td>\n",
       "      <td>0.843051</td>\n",
       "      <td>...</td>\n",
       "      <td>NaN</td>\n",
       "      <td>NaN</td>\n",
       "      <td>NaN</td>\n",
       "      <td>NaN</td>\n",
       "      <td>NaN</td>\n",
       "      <td>NaN</td>\n",
       "      <td>NaN</td>\n",
       "      <td>NaN</td>\n",
       "      <td>NaN</td>\n",
       "      <td>NaN</td>\n",
       "    </tr>\n",
       "    <tr>\n",
       "      <th>0</th>\n",
       "      <td>14</td>\n",
       "      <td>d74c06dd221fed0fdcd1ba1fda29a978</td>\n",
       "      <td>{\"cutoff\": \"quantile_0.25\", \"eval_fairness_gro...</td>\n",
       "      <td>31.302819</td>\n",
       "      <td>89710</td>\n",
       "      <td>1.0</td>\n",
       "      <td>0.150093</td>\n",
       "      <td>0.821253</td>\n",
       "      <td>0.133918</td>\n",
       "      <td>0.843051</td>\n",
       "      <td>...</td>\n",
       "      <td>0.129351</td>\n",
       "      <td>0.168017</td>\n",
       "      <td>0.839698</td>\n",
       "      <td>0.689605</td>\n",
       "      <td>0.042652</td>\n",
       "      <td>0.085339</td>\n",
       "      <td>0.853262</td>\n",
       "      <td>0.719344</td>\n",
       "      <td>20540.0</td>\n",
       "      <td>69170.0</td>\n",
       "    </tr>\n",
       "  </tbody>\n",
       "</table>\n",
       "<p>4 rows × 50 columns</p>\n",
       "</div>"
      ],
      "text/plain": [
       "  run_no                       universe_id  \\\n",
       "0     14  d74c06dd221fed0fdcd1ba1fda29a978   \n",
       "0     14  d74c06dd221fed0fdcd1ba1fda29a978   \n",
       "0     14  d74c06dd221fed0fdcd1ba1fda29a978   \n",
       "0     14  d74c06dd221fed0fdcd1ba1fda29a978   \n",
       "\n",
       "                                   universe_settings  execution_time  \\\n",
       "0  {\"cutoff\": \"quantile_0.1\", \"eval_fairness_grou...       31.302819   \n",
       "0  {\"cutoff\": \"quantile_0.1\", \"eval_fairness_grou...       31.302819   \n",
       "0  {\"cutoff\": \"quantile_0.25\", \"eval_fairness_gro...       31.302819   \n",
       "0  {\"cutoff\": \"quantile_0.25\", \"eval_fairness_gro...       31.302819   \n",
       "\n",
       "   test_size_n  test_size_frac  fair_main_equalized_odds_difference  \\\n",
       "0        89710             1.0                             0.069271   \n",
       "0        89710             1.0                             0.069271   \n",
       "0        89710             1.0                             0.150093   \n",
       "0        89710             1.0                             0.150093   \n",
       "\n",
       "   fair_main_equalized_odds_ratio  fair_main_demographic_parity_difference  \\\n",
       "0                        0.926438                                 0.060933   \n",
       "0                        0.926438                                 0.060933   \n",
       "0                        0.821253                                 0.133918   \n",
       "0                        0.821253                                 0.133918   \n",
       "\n",
       "   fair_main_demographic_parity_ratio  ...  perf_grp_precision_0  \\\n",
       "0                            0.935656  ...                   NaN   \n",
       "0                            0.935656  ...              0.120251   \n",
       "0                            0.843051  ...                   NaN   \n",
       "0                            0.843051  ...              0.129351   \n",
       "\n",
       "   perf_grp_precision_1  perf_grp_false positive rate_0  \\\n",
       "0                   NaN                             NaN   \n",
       "0              0.145510                        0.941669   \n",
       "0                   NaN                             NaN   \n",
       "0              0.168017                        0.839698   \n",
       "\n",
       "   perf_grp_false positive rate_1  perf_grp_false negative rate_0  \\\n",
       "0                             NaN                             NaN   \n",
       "0                        0.872397                        0.012247   \n",
       "0                             NaN                             NaN   \n",
       "0                        0.689605                        0.042652   \n",
       "\n",
       "   perf_grp_false negative rate_1  perf_grp_selection rate_0  \\\n",
       "0                             NaN                        NaN   \n",
       "0                        0.024289                   0.946981   \n",
       "0                             NaN                        NaN   \n",
       "0                        0.085339                   0.853262   \n",
       "\n",
       "   perf_grp_selection rate_1  perf_grp_count_0  perf_grp_count_1  \n",
       "0                        NaN               NaN               NaN  \n",
       "0                   0.886049           20540.0           69170.0  \n",
       "0                        NaN               NaN               NaN  \n",
       "0                   0.719344           20540.0           69170.0  \n",
       "\n",
       "[4 rows x 50 columns]"
      ]
     },
     "execution_count": 79,
     "metadata": {},
     "output_type": "execute_result"
    }
   ],
   "source": [
    "final_output = universe_analysis.generate_final_output(\n",
    "    y_pred_prob=probs_test,\n",
    "    y_test=y_true,\n",
    "    org_test=org_test,\n",
    "    filter_data=filter_sub_universe_data,\n",
    "    cp_metrics_df=cp_metrics_df,\n",
    "    save=True,\n",
    ")\n",
    "final_output"
   ]
  },
  {
   "cell_type": "code",
   "execution_count": null,
   "id": "721ff514-cb11-46f8-b6fc-50392f74b5cb",
   "metadata": {
    "papermill": {
     "duration": 0.028635,
     "end_time": "2025-07-30T21:53:05.663938",
     "exception": false,
     "start_time": "2025-07-30T21:53:05.635303",
     "status": "completed"
    },
    "tags": []
   },
   "outputs": [],
   "source": []
  }
 ],
 "metadata": {
  "celltoolbar": "Tags",
  "kernelspec": {
   "display_name": "Python (CMA Fairness)",
   "language": "python",
   "name": "cma_fair_env"
  },
  "language_info": {
   "codemirror_mode": {
    "name": "ipython",
    "version": 3
   },
   "file_extension": ".py",
   "mimetype": "text/x-python",
   "name": "python",
   "nbconvert_exporter": "python",
   "pygments_lexer": "ipython3",
   "version": "3.10.12"
  },
  "papermill": {
   "default_parameters": {},
   "duration": 43.194185,
   "end_time": "2025-07-30T21:53:06.524666",
   "environment_variables": {},
   "exception": null,
   "input_path": "universe_analysis.ipynb",
   "output_path": "output/runs/14/notebooks/m_14-d74c06dd221fed0fdcd1ba1fda29a978.ipynb",
   "parameters": {
    "output_dir": "output",
    "run_no": "14",
    "seed": "2023",
    "universe": "{\"cutoff\": [\"quantile_0.1\", \"quantile_0.25\"], \"eval_fairness_grouping\": [\"majority-minority\", \"nationality-all\"], \"exclude_features\": \"sex\", \"exclude_subgroups\": \"drop-non-german\", \"model\": \"gbm\", \"scale\": \"do-not-scale\", \"training_size\": \"1k\", \"training_year\": \"2010_14\"}",
    "universe_id": "d74c06dd221fed0fdcd1ba1fda29a978"
   },
   "start_time": "2025-07-30T21:52:23.330481",
   "version": "2.6.0"
  }
 },
 "nbformat": 4,
 "nbformat_minor": 5
}