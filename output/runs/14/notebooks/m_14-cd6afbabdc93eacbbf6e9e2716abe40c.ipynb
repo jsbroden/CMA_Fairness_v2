{
 "cells": [
  {
   "cell_type": "code",
   "execution_count": 1,
   "id": "f159f837-637b-42ba-96b5-ec9a68c44524",
   "metadata": {
    "execution": {
     "iopub.execute_input": "2025-07-30T21:14:29.464018Z",
     "iopub.status.busy": "2025-07-30T21:14:29.463363Z",
     "iopub.status.idle": "2025-07-30T21:14:29.476742Z",
     "shell.execute_reply": "2025-07-30T21:14:29.475637Z"
    },
    "papermill": {
     "duration": 0.036973,
     "end_time": "2025-07-30T21:14:29.479014",
     "exception": false,
     "start_time": "2025-07-30T21:14:29.442041",
     "status": "completed"
    },
    "tags": []
   },
   "outputs": [
    {
     "name": "stdout",
     "output_type": "stream",
     "text": [
      "/dss/dsshome1/0C/ra93lal2/cma/CMA_Fairness_v2\n"
     ]
    },
    {
     "name": "stderr",
     "output_type": "stream",
     "text": [
      "/dss/dsshome1/0C/ra93lal2/.local/share/virtualenvs/CMA_Fairness_v2-3j10GkSs/lib/python3.10/site-packages/IPython/core/magics/osm.py:393: UserWarning: This is now an optional IPython functionality, using bookmarks requires you to install the `pickleshare` library.\n",
      "  bkms = self.shell.db.get('bookmarks', {})\n",
      "/dss/dsshome1/0C/ra93lal2/.local/share/virtualenvs/CMA_Fairness_v2-3j10GkSs/lib/python3.10/site-packages/IPython/core/magics/osm.py:417: UserWarning: This is now an optional IPython functionality, setting dhist requires you to install the `pickleshare` library.\n",
      "  self.shell.db['dhist'] = compress_dhist(dhist)[-100:]\n"
     ]
    }
   ],
   "source": [
    "%cd ~/cma/CMA_Fairness_v2"
   ]
  },
  {
   "cell_type": "markdown",
   "id": "de2603b9",
   "metadata": {
    "papermill": {
     "duration": 0.018673,
     "end_time": "2025-07-30T21:14:29.518937",
     "exception": false,
     "start_time": "2025-07-30T21:14:29.500264",
     "status": "completed"
    },
    "tags": []
   },
   "source": [
    "The following cell holds the definition of our parameters, these values can be overriden by rendering the with e.g. the following command:\n",
    "\n",
    "papermill -p alpha 0.2 -p ratio 0.3 universe_analysis.ipynb output/test_run.ipynb"
   ]
  },
  {
   "cell_type": "code",
   "execution_count": 2,
   "id": "a80968a0-40bb-4fa9-85ef-2d5eefb01975",
   "metadata": {
    "execution": {
     "iopub.execute_input": "2025-07-30T21:14:29.559468Z",
     "iopub.status.busy": "2025-07-30T21:14:29.559020Z",
     "iopub.status.idle": "2025-07-30T21:14:29.564521Z",
     "shell.execute_reply": "2025-07-30T21:14:29.563557Z"
    },
    "papermill": {
     "duration": 0.028213,
     "end_time": "2025-07-30T21:14:29.566545",
     "exception": false,
     "start_time": "2025-07-30T21:14:29.538332",
     "status": "completed"
    },
    "tags": []
   },
   "outputs": [
    {
     "name": "stdout",
     "output_type": "stream",
     "text": [
      "Current working directory: /dss/dsshome1/0C/ra93lal2/cma/CMA_Fairness_v2\n"
     ]
    }
   ],
   "source": [
    "import os\n",
    "print(\"Current working directory:\", os.getcwd())"
   ]
  },
  {
   "cell_type": "code",
   "execution_count": 3,
   "id": "2dce4c03",
   "metadata": {
    "execution": {
     "iopub.execute_input": "2025-07-30T21:14:29.609387Z",
     "iopub.status.busy": "2025-07-30T21:14:29.608749Z",
     "iopub.status.idle": "2025-07-30T21:14:29.614936Z",
     "shell.execute_reply": "2025-07-30T21:14:29.613951Z"
    },
    "papermill": {
     "duration": 0.02936,
     "end_time": "2025-07-30T21:14:29.616577",
     "exception": false,
     "start_time": "2025-07-30T21:14:29.587217",
     "status": "completed"
    },
    "tags": [
     "parameters"
    ]
   },
   "outputs": [],
   "source": [
    "run_no = 0\n",
    "universe_id = \"test\"\n",
    "universe = {\n",
    "    \"training_size\": \"25k\", # \"25k\", \"5k\", \"1k\"\n",
    "    \"training_year\": \"2014\", # \"2014\", \"2012_14\", \"2010_14\"\n",
    "    \"scale\": \"scale\", # \"scale\", \"do-not-scale\",\n",
    "    #\"stratify_split\": \"target\", # \"none\", \"target\", \"protected-attribute\", \"both\",\n",
    "    \"model\": \"elasticnet\", # \"logreg\", \"penalized_logreg\", \"rf\", \"gbm\", \"elasticnet\"\n",
    "    \"cutoff\": [\"quantile_0.15\", \"quantile_0.30\"],\n",
    "    \"exclude_features\": \"age\", # \"none\", \"nationality\", \"sex\", \"nationality-sex\", \"age\"\n",
    "    \"exclude_subgroups\": \"keep-all\", # \"keep-all\", \"drop-non-german\"\n",
    "    \"eval_fairness_grouping\": [\"majority-minority\", \"nationality-all\"]\n",
    "}\n",
    "\n",
    "output_dir=\"./output\"\n",
    "seed=0"
   ]
  },
  {
   "cell_type": "code",
   "execution_count": 4,
   "id": "dccd1184",
   "metadata": {
    "execution": {
     "iopub.execute_input": "2025-07-30T21:14:29.659864Z",
     "iopub.status.busy": "2025-07-30T21:14:29.659230Z",
     "iopub.status.idle": "2025-07-30T21:14:29.664477Z",
     "shell.execute_reply": "2025-07-30T21:14:29.663539Z"
    },
    "papermill": {
     "duration": 0.028105,
     "end_time": "2025-07-30T21:14:29.666144",
     "exception": false,
     "start_time": "2025-07-30T21:14:29.638039",
     "status": "completed"
    },
    "tags": [
     "injected-parameters"
    ]
   },
   "outputs": [],
   "source": [
    "# Parameters\n",
    "universe_id = \"cd6afbabdc93eacbbf6e9e2716abe40c\"\n",
    "run_no = \"14\"\n",
    "universe = \"{\\\"cutoff\\\": [\\\"quantile_0.1\\\", \\\"quantile_0.25\\\"], \\\"eval_fairness_grouping\\\": [\\\"majority-minority\\\", \\\"nationality-all\\\"], \\\"exclude_features\\\": \\\"nationality-sex\\\", \\\"exclude_subgroups\\\": \\\"keep-all\\\", \\\"model\\\": \\\"elasticnet\\\", \\\"scale\\\": \\\"scale\\\", \\\"training_size\\\": \\\"5k\\\", \\\"training_year\\\": \\\"2010_14\\\"}\"\n",
    "output_dir = \"output\"\n",
    "seed = \"2023\"\n"
   ]
  },
  {
   "cell_type": "code",
   "execution_count": 5,
   "id": "1650acaf",
   "metadata": {
    "execution": {
     "iopub.execute_input": "2025-07-30T21:14:29.709436Z",
     "iopub.status.busy": "2025-07-30T21:14:29.708821Z",
     "iopub.status.idle": "2025-07-30T21:14:29.713964Z",
     "shell.execute_reply": "2025-07-30T21:14:29.712910Z"
    },
    "papermill": {
     "duration": 0.028576,
     "end_time": "2025-07-30T21:14:29.715605",
     "exception": false,
     "start_time": "2025-07-30T21:14:29.687029",
     "status": "completed"
    },
    "tags": []
   },
   "outputs": [],
   "source": [
    "import json\n",
    "# Parse universe into dict if it is passed as a string\n",
    "if isinstance(universe, str):\n",
    "    universe = json.loads(universe)"
   ]
  },
  {
   "cell_type": "code",
   "execution_count": 6,
   "id": "16620c48",
   "metadata": {
    "execution": {
     "iopub.execute_input": "2025-07-30T21:14:29.757262Z",
     "iopub.status.busy": "2025-07-30T21:14:29.756626Z",
     "iopub.status.idle": "2025-07-30T21:14:29.802555Z",
     "shell.execute_reply": "2025-07-30T21:14:29.801528Z"
    },
    "papermill": {
     "duration": 0.069185,
     "end_time": "2025-07-30T21:14:29.804854",
     "exception": false,
     "start_time": "2025-07-30T21:14:29.735669",
     "status": "completed"
    },
    "tags": []
   },
   "outputs": [],
   "source": [
    "# Auto-reload the custom package\n",
    "%load_ext autoreload\n",
    "%autoreload 1\n",
    "%aimport fairness_multiverse"
   ]
  },
  {
   "cell_type": "code",
   "execution_count": 7,
   "id": "01c5c9f3",
   "metadata": {
    "execution": {
     "iopub.execute_input": "2025-07-30T21:14:29.861720Z",
     "iopub.status.busy": "2025-07-30T21:14:29.861004Z",
     "iopub.status.idle": "2025-07-30T21:14:31.768609Z",
     "shell.execute_reply": "2025-07-30T21:14:31.767508Z"
    },
    "papermill": {
     "duration": 1.938079,
     "end_time": "2025-07-30T21:14:31.770580",
     "exception": false,
     "start_time": "2025-07-30T21:14:29.832501",
     "status": "completed"
    },
    "tags": []
   },
   "outputs": [],
   "source": [
    "from fairness_multiverse.universe import UniverseAnalysis\n",
    "\n",
    "universe_analysis = UniverseAnalysis(\n",
    "    run_no = run_no,\n",
    "    universe_id = universe_id,\n",
    "    universe = universe,\n",
    "    output_dir=output_dir,\n",
    ")"
   ]
  },
  {
   "cell_type": "code",
   "execution_count": 8,
   "id": "106241f5",
   "metadata": {
    "execution": {
     "iopub.execute_input": "2025-07-30T21:14:31.814861Z",
     "iopub.status.busy": "2025-07-30T21:14:31.814424Z",
     "iopub.status.idle": "2025-07-30T21:14:31.821220Z",
     "shell.execute_reply": "2025-07-30T21:14:31.820286Z"
    },
    "papermill": {
     "duration": 0.030127,
     "end_time": "2025-07-30T21:14:31.822867",
     "exception": false,
     "start_time": "2025-07-30T21:14:31.792740",
     "status": "completed"
    },
    "tags": []
   },
   "outputs": [
    {
     "name": "stdout",
     "output_type": "stream",
     "text": [
      "Using Seed: 2023\n"
     ]
    }
   ],
   "source": [
    "import numpy as np\n",
    "parsed_seed = int(seed)\n",
    "np.random.seed(parsed_seed)\n",
    "print(f\"Using Seed: {parsed_seed}\")"
   ]
  },
  {
   "cell_type": "markdown",
   "id": "e0ebdc57",
   "metadata": {
    "papermill": {
     "duration": 0.018817,
     "end_time": "2025-07-30T21:14:31.861818",
     "exception": false,
     "start_time": "2025-07-30T21:14:31.843001",
     "status": "completed"
    },
    "tags": []
   },
   "source": [
    "# Loading Data"
   ]
  },
  {
   "cell_type": "markdown",
   "id": "681925a3",
   "metadata": {
    "papermill": {
     "duration": 0.018505,
     "end_time": "2025-07-30T21:14:31.898635",
     "exception": false,
     "start_time": "2025-07-30T21:14:31.880130",
     "status": "completed"
    },
    "tags": []
   },
   "source": [
    "Load siab_train, siab_test, siab_calib and/or \n",
    "load siab_train_features, siab_train_labels"
   ]
  },
  {
   "cell_type": "code",
   "execution_count": 9,
   "id": "f0496b8a",
   "metadata": {
    "execution": {
     "iopub.execute_input": "2025-07-30T21:14:31.939196Z",
     "iopub.status.busy": "2025-07-30T21:14:31.938739Z",
     "iopub.status.idle": "2025-07-30T21:14:45.070549Z",
     "shell.execute_reply": "2025-07-30T21:14:45.069549Z"
    },
    "papermill": {
     "duration": 13.154109,
     "end_time": "2025-07-30T21:14:45.071875",
     "exception": false,
     "start_time": "2025-07-30T21:14:31.917766",
     "status": "completed"
    },
    "tags": []
   },
   "outputs": [
    {
     "name": "stdout",
     "output_type": "stream",
     "text": [
      "Loading SIAB data from cache: data/siab_cached.csv.gz\n"
     ]
    },
    {
     "name": "stdout",
     "output_type": "stream",
     "text": [
      "(643690, 164)\n"
     ]
    }
   ],
   "source": [
    "from pathlib import Path\n",
    "import pandas as pd\n",
    "\n",
    "# File paths\n",
    "raw_file = Path(\"data/raw/siab.csv\")\n",
    "cache_file = Path(\"data/siab_cached.csv.gz\")\n",
    "\n",
    "# Ensure cache directory exists\n",
    "cache_file.parent.mkdir(parents=True, exist_ok=True)\n",
    "\n",
    "# Load with simple caching\n",
    "if cache_file.exists():\n",
    "    print(f\"Loading SIAB data from cache: {cache_file}\")\n",
    "    siab = pd.read_csv(cache_file, compression='gzip')\n",
    "else:\n",
    "    print(f\"Cache not found. Reading raw SIAB data: {raw_file}\")\n",
    "    siab = pd.read_csv(raw_file)\n",
    "    siab.to_csv(cache_file, index=False, compression='gzip')\n",
    "    print(f\"Cached SIAB data to: {cache_file}\")\n",
    "\n",
    "# Now use `siab` DataFrame as needed\n",
    "print(siab.shape)"
   ]
  },
  {
   "cell_type": "code",
   "execution_count": 10,
   "id": "db0ca512-5f53-4dba-abdb-a2888bca41ba",
   "metadata": {
    "execution": {
     "iopub.execute_input": "2025-07-30T21:14:45.099097Z",
     "iopub.status.busy": "2025-07-30T21:14:45.098507Z",
     "iopub.status.idle": "2025-07-30T21:14:45.103881Z",
     "shell.execute_reply": "2025-07-30T21:14:45.103001Z"
    },
    "papermill": {
     "duration": 0.019345,
     "end_time": "2025-07-30T21:14:45.105382",
     "exception": false,
     "start_time": "2025-07-30T21:14:45.086037",
     "status": "completed"
    },
    "tags": []
   },
   "outputs": [],
   "source": [
    "#siab"
   ]
  },
  {
   "cell_type": "code",
   "execution_count": 11,
   "id": "a0edb063",
   "metadata": {
    "execution": {
     "iopub.execute_input": "2025-07-30T21:14:45.130606Z",
     "iopub.status.busy": "2025-07-30T21:14:45.130109Z",
     "iopub.status.idle": "2025-07-30T21:14:45.134611Z",
     "shell.execute_reply": "2025-07-30T21:14:45.133766Z"
    },
    "papermill": {
     "duration": 0.017491,
     "end_time": "2025-07-30T21:14:45.135870",
     "exception": false,
     "start_time": "2025-07-30T21:14:45.118379",
     "status": "completed"
    },
    "tags": []
   },
   "outputs": [],
   "source": [
    "#import pandas as pd\n",
    "#\n",
    "#X_train = pd.read_csv(\"./data/X_train.csv\")\n",
    "#y_train = pd.read_csv(\"./data/y_train.csv\")"
   ]
  },
  {
   "cell_type": "code",
   "execution_count": 12,
   "id": "63d08085",
   "metadata": {
    "execution": {
     "iopub.execute_input": "2025-07-30T21:14:45.166672Z",
     "iopub.status.busy": "2025-07-30T21:14:45.165958Z",
     "iopub.status.idle": "2025-07-30T21:14:45.171218Z",
     "shell.execute_reply": "2025-07-30T21:14:45.170276Z"
    },
    "papermill": {
     "duration": 0.0248,
     "end_time": "2025-07-30T21:14:45.172976",
     "exception": false,
     "start_time": "2025-07-30T21:14:45.148176",
     "status": "completed"
    },
    "tags": []
   },
   "outputs": [],
   "source": [
    "#X_test = pd.read_csv(\"./data/X_test.csv\")\n",
    "#y_true = pd.read_csv(\"./data/y_test.csv\")"
   ]
  },
  {
   "cell_type": "code",
   "execution_count": 13,
   "id": "98a8d0fa-1d3d-4ed8-bb2c-281470e24add",
   "metadata": {
    "execution": {
     "iopub.execute_input": "2025-07-30T21:14:45.214412Z",
     "iopub.status.busy": "2025-07-30T21:14:45.213940Z",
     "iopub.status.idle": "2025-07-30T21:14:45.219187Z",
     "shell.execute_reply": "2025-07-30T21:14:45.218255Z"
    },
    "papermill": {
     "duration": 0.025664,
     "end_time": "2025-07-30T21:14:45.220952",
     "exception": false,
     "start_time": "2025-07-30T21:14:45.195288",
     "status": "completed"
    },
    "tags": []
   },
   "outputs": [],
   "source": [
    "# Calibration data for conformal\n",
    "#X_calib = pd.read_csv(\"./data/X_calib.csv\")\n",
    "#y_calib = pd.read_csv(\"./data/y_calib.csv\")"
   ]
  },
  {
   "cell_type": "markdown",
   "id": "997051c5-15bd-4b69-9786-c3001a3ce484",
   "metadata": {
    "papermill": {
     "duration": 0.021394,
     "end_time": "2025-07-30T21:14:45.265332",
     "exception": false,
     "start_time": "2025-07-30T21:14:45.243938",
     "status": "completed"
    },
    "tags": []
   },
   "source": [
    "# Splitting Data and Setting Training Data Size"
   ]
  },
  {
   "cell_type": "code",
   "execution_count": 14,
   "id": "e993b61f-042d-41a6-8c81-f55681f86335",
   "metadata": {
    "execution": {
     "iopub.execute_input": "2025-07-30T21:14:45.307110Z",
     "iopub.status.busy": "2025-07-30T21:14:45.306681Z",
     "iopub.status.idle": "2025-07-30T21:14:45.316683Z",
     "shell.execute_reply": "2025-07-30T21:14:45.315744Z"
    },
    "papermill": {
     "duration": 0.03143,
     "end_time": "2025-07-30T21:14:45.318182",
     "exception": false,
     "start_time": "2025-07-30T21:14:45.286752",
     "status": "completed"
    },
    "tags": []
   },
   "outputs": [],
   "source": [
    "def sample_by_year_size(df,\n",
    "                        training_year: str,\n",
    "                        training_size: str,\n",
    "                        random_state: int = 42):\n",
    "    # --- parse training_year into a list of int years ---\n",
    "    if \"_\" in training_year:\n",
    "        start_str, end_str = training_year.split(\"_\", 1)\n",
    "        start = int(start_str)\n",
    "        end   = int(end_str) if len(end_str) == 4 else (int(end_str) + (start // 100)*100)\n",
    "        years = list(range(start, end + 1))\n",
    "    else:\n",
    "        years = [int(training_year)]\n",
    "\n",
    "    df = df[df[\"year\"].isin(years)].reset_index(drop=True)\n",
    "\n",
    "    # --- map training_size to total number of samples ---\n",
    "    total_map = {\"25k\": 25_000, \"5k\": 5_000, \"1k\": 1_000}\n",
    "    if training_size not in total_map:\n",
    "        return df  # e.g. \"all\"\n",
    "\n",
    "    total_samples = total_map[training_size]\n",
    "    n_years       = len(years)\n",
    "    base          = total_samples // n_years\n",
    "    remainder     = total_samples % n_years\n",
    "\n",
    "    # --- build a dict: year -> how many to sample ---\n",
    "    # give +1 to the first `remainder` years in ascending order\n",
    "    quotas = {\n",
    "        year: base + (1 if idx < remainder else 0)\n",
    "        for idx, year in enumerate(sorted(years))\n",
    "    }\n",
    "\n",
    "    # --- sample per‐year according to the quota dict ---\n",
    "    sampled = (\n",
    "        df\n",
    "        .groupby(\"year\", group_keys=False)\n",
    "        .apply(lambda grp: grp.sample(\n",
    "            n=min(len(grp), quotas[grp.name]),\n",
    "            random_state=random_state))\n",
    "        .reset_index(drop=True)\n",
    "    )\n",
    "\n",
    "    return sampled"
   ]
  },
  {
   "cell_type": "code",
   "execution_count": 15,
   "id": "c0ccd338-0e02-41f3-a09d-f56f9266e3fb",
   "metadata": {
    "execution": {
     "iopub.execute_input": "2025-07-30T21:14:45.342344Z",
     "iopub.status.busy": "2025-07-30T21:14:45.341592Z",
     "iopub.status.idle": "2025-07-30T21:14:45.346342Z",
     "shell.execute_reply": "2025-07-30T21:14:45.345474Z"
    },
    "papermill": {
     "duration": 0.017798,
     "end_time": "2025-07-30T21:14:45.347752",
     "exception": false,
     "start_time": "2025-07-30T21:14:45.329954",
     "status": "completed"
    },
    "tags": []
   },
   "outputs": [],
   "source": [
    "#universe[\"training_size\"]"
   ]
  },
  {
   "cell_type": "code",
   "execution_count": 16,
   "id": "ca707fd7-8047-4acd-bfa5-66248fbbf8e6",
   "metadata": {
    "execution": {
     "iopub.execute_input": "2025-07-30T21:14:45.376846Z",
     "iopub.status.busy": "2025-07-30T21:14:45.376086Z",
     "iopub.status.idle": "2025-07-30T21:14:45.380736Z",
     "shell.execute_reply": "2025-07-30T21:14:45.379869Z"
    },
    "papermill": {
     "duration": 0.018472,
     "end_time": "2025-07-30T21:14:45.382094",
     "exception": false,
     "start_time": "2025-07-30T21:14:45.363622",
     "status": "completed"
    },
    "tags": []
   },
   "outputs": [],
   "source": [
    "#universe[\"training_year\"]"
   ]
  },
  {
   "cell_type": "code",
   "execution_count": 17,
   "id": "aea9c6ef-6f46-42c8-85eb-5a62025c1508",
   "metadata": {
    "execution": {
     "iopub.execute_input": "2025-07-30T21:14:45.407458Z",
     "iopub.status.busy": "2025-07-30T21:14:45.406821Z",
     "iopub.status.idle": "2025-07-30T21:14:46.467780Z",
     "shell.execute_reply": "2025-07-30T21:14:46.466770Z"
    },
    "papermill": {
     "duration": 1.075288,
     "end_time": "2025-07-30T21:14:46.469952",
     "exception": false,
     "start_time": "2025-07-30T21:14:45.394664",
     "status": "completed"
    },
    "tags": []
   },
   "outputs": [],
   "source": [
    "siab_train = sample_by_year_size(siab,\n",
    "                               training_year=universe[\"training_year\"],\n",
    "                               training_size=universe[\"training_size\"])"
   ]
  },
  {
   "cell_type": "code",
   "execution_count": 18,
   "id": "8d3afb32-789d-442c-8d5d-9f5aa8dd2eed",
   "metadata": {
    "execution": {
     "iopub.execute_input": "2025-07-30T21:14:46.514196Z",
     "iopub.status.busy": "2025-07-30T21:14:46.513500Z",
     "iopub.status.idle": "2025-07-30T21:14:46.518693Z",
     "shell.execute_reply": "2025-07-30T21:14:46.517791Z"
    },
    "papermill": {
     "duration": 0.029075,
     "end_time": "2025-07-30T21:14:46.520271",
     "exception": false,
     "start_time": "2025-07-30T21:14:46.491196",
     "status": "completed"
    },
    "tags": []
   },
   "outputs": [],
   "source": [
    "#siab_train.shape"
   ]
  },
  {
   "cell_type": "code",
   "execution_count": 19,
   "id": "d582db68-1a4c-47fb-84fc-08518dc1975a",
   "metadata": {
    "execution": {
     "iopub.execute_input": "2025-07-30T21:14:46.562112Z",
     "iopub.status.busy": "2025-07-30T21:14:46.561489Z",
     "iopub.status.idle": "2025-07-30T21:14:46.566750Z",
     "shell.execute_reply": "2025-07-30T21:14:46.565807Z"
    },
    "papermill": {
     "duration": 0.027394,
     "end_time": "2025-07-30T21:14:46.568373",
     "exception": false,
     "start_time": "2025-07-30T21:14:46.540979",
     "status": "completed"
    },
    "tags": []
   },
   "outputs": [],
   "source": [
    "#display(siab_train.groupby(\"year\").size())"
   ]
  },
  {
   "cell_type": "code",
   "execution_count": 20,
   "id": "a561edb4-d032-42cb-8256-22eac1111c64",
   "metadata": {
    "execution": {
     "iopub.execute_input": "2025-07-30T21:14:46.609746Z",
     "iopub.status.busy": "2025-07-30T21:14:46.609153Z",
     "iopub.status.idle": "2025-07-30T21:14:46.830115Z",
     "shell.execute_reply": "2025-07-30T21:14:46.829027Z"
    },
    "papermill": {
     "duration": 0.243513,
     "end_time": "2025-07-30T21:14:46.832201",
     "exception": false,
     "start_time": "2025-07-30T21:14:46.588688",
     "status": "completed"
    },
    "tags": []
   },
   "outputs": [],
   "source": [
    "#siab_train = siab_s[siab_s.year < 2015]\n",
    "siab_calib = siab[siab.year == 2015]\n",
    "siab_test = siab[siab.year == 2016]"
   ]
  },
  {
   "cell_type": "code",
   "execution_count": 21,
   "id": "472de16f-c3db-4916-846b-1f0de9cf1746",
   "metadata": {
    "execution": {
     "iopub.execute_input": "2025-07-30T21:14:46.874480Z",
     "iopub.status.busy": "2025-07-30T21:14:46.873995Z",
     "iopub.status.idle": "2025-07-30T21:14:46.882515Z",
     "shell.execute_reply": "2025-07-30T21:14:46.881570Z"
    },
    "papermill": {
     "duration": 0.031328,
     "end_time": "2025-07-30T21:14:46.884267",
     "exception": false,
     "start_time": "2025-07-30T21:14:46.852939",
     "status": "completed"
    },
    "tags": []
   },
   "outputs": [],
   "source": [
    "X_train = siab_train.iloc[:,4:164]\n",
    "y_train = siab_train.iloc[:, [3]]"
   ]
  },
  {
   "cell_type": "code",
   "execution_count": 22,
   "id": "828c96af-f43a-4ed6-ba47-8ac73a47d56c",
   "metadata": {
    "execution": {
     "iopub.execute_input": "2025-07-30T21:14:46.926207Z",
     "iopub.status.busy": "2025-07-30T21:14:46.925535Z",
     "iopub.status.idle": "2025-07-30T21:14:46.975999Z",
     "shell.execute_reply": "2025-07-30T21:14:46.974989Z"
    },
    "papermill": {
     "duration": 0.07302,
     "end_time": "2025-07-30T21:14:46.977875",
     "exception": false,
     "start_time": "2025-07-30T21:14:46.904855",
     "status": "completed"
    },
    "tags": []
   },
   "outputs": [],
   "source": [
    "X_calib = siab_calib.iloc[:,4:164]\n",
    "y_calib = siab_calib.iloc[:, [3]]"
   ]
  },
  {
   "cell_type": "code",
   "execution_count": 23,
   "id": "c34be9c3-6bd6-476e-acd3-845840e303be",
   "metadata": {
    "execution": {
     "iopub.execute_input": "2025-07-30T21:14:47.021039Z",
     "iopub.status.busy": "2025-07-30T21:14:47.020353Z",
     "iopub.status.idle": "2025-07-30T21:14:47.071704Z",
     "shell.execute_reply": "2025-07-30T21:14:47.070447Z"
    },
    "papermill": {
     "duration": 0.074091,
     "end_time": "2025-07-30T21:14:47.073373",
     "exception": false,
     "start_time": "2025-07-30T21:14:46.999282",
     "status": "completed"
    },
    "tags": []
   },
   "outputs": [],
   "source": [
    "X_test = siab_test.iloc[:,4:164]\n",
    "y_true = siab_test.iloc[:, [3]]"
   ]
  },
  {
   "cell_type": "markdown",
   "id": "9901737e-04df-44f0-9100-f5ad144ed040",
   "metadata": {
    "papermill": {
     "duration": 0.019763,
     "end_time": "2025-07-30T21:14:47.114031",
     "exception": false,
     "start_time": "2025-07-30T21:14:47.094268",
     "status": "completed"
    },
    "tags": []
   },
   "source": [
    "# Splitting Data and Setting Training Data Size OLD VERSION"
   ]
  },
  {
   "cell_type": "code",
   "execution_count": 24,
   "id": "acbc8f7d-8fc8-4e86-8c59-5dcb0f58384b",
   "metadata": {
    "execution": {
     "iopub.execute_input": "2025-07-30T21:14:47.155396Z",
     "iopub.status.busy": "2025-07-30T21:14:47.154753Z",
     "iopub.status.idle": "2025-07-30T21:14:47.160685Z",
     "shell.execute_reply": "2025-07-30T21:14:47.159652Z"
    },
    "papermill": {
     "duration": 0.028667,
     "end_time": "2025-07-30T21:14:47.162301",
     "exception": false,
     "start_time": "2025-07-30T21:14:47.133634",
     "status": "completed"
    },
    "tags": []
   },
   "outputs": [],
   "source": [
    "#def sample_by_year(df, training_size, random_state=42):\n",
    "#    if training_size == \"2014\":\n",
    "#        return df[df[\"year\"] == 2014].reset_index(drop=True)\n",
    "#    \n",
    "#    size_map = {\n",
    "#        \"25k\": 5000,\n",
    "#        \"5k\": 1000,\n",
    "#        \"1k\": 200\n",
    "#    }\n",
    "#\n",
    "#    if training_size not in size_map:\n",
    "#        return df.reset_index(drop=True)  # use all data\n",
    "#\n",
    "#    n_per_year = size_map[training_size]\n",
    "#    grouped = df.groupby(\"year\")\n",
    "#    sampled = grouped.apply(lambda x: x.sample(n=min(n_per_year, len(x)), random_state=random_state))\n",
    "#    return sampled.reset_index(drop=True)"
   ]
  },
  {
   "cell_type": "code",
   "execution_count": 25,
   "id": "6d931f52-beaf-43ff-9e78-9d44a448d54e",
   "metadata": {
    "execution": {
     "iopub.execute_input": "2025-07-30T21:14:47.204850Z",
     "iopub.status.busy": "2025-07-30T21:14:47.204190Z",
     "iopub.status.idle": "2025-07-30T21:14:47.209413Z",
     "shell.execute_reply": "2025-07-30T21:14:47.208195Z"
    },
    "papermill": {
     "duration": 0.027974,
     "end_time": "2025-07-30T21:14:47.211090",
     "exception": false,
     "start_time": "2025-07-30T21:14:47.183116",
     "status": "completed"
    },
    "tags": []
   },
   "outputs": [],
   "source": [
    "#siab_s = sample_by_year(siab, universe[\"training_size\"])"
   ]
  },
  {
   "cell_type": "code",
   "execution_count": 26,
   "id": "5db0a40e-a4e2-4920-be85-b12ae061d70d",
   "metadata": {
    "execution": {
     "iopub.execute_input": "2025-07-30T21:14:47.254347Z",
     "iopub.status.busy": "2025-07-30T21:14:47.253697Z",
     "iopub.status.idle": "2025-07-30T21:14:47.258670Z",
     "shell.execute_reply": "2025-07-30T21:14:47.257758Z"
    },
    "papermill": {
     "duration": 0.028014,
     "end_time": "2025-07-30T21:14:47.260377",
     "exception": false,
     "start_time": "2025-07-30T21:14:47.232363",
     "status": "completed"
    },
    "tags": []
   },
   "outputs": [],
   "source": [
    "#display(siab_s.groupby(\"year\").size())"
   ]
  },
  {
   "cell_type": "code",
   "execution_count": 27,
   "id": "e6c733c5",
   "metadata": {
    "execution": {
     "iopub.execute_input": "2025-07-30T21:14:47.303149Z",
     "iopub.status.busy": "2025-07-30T21:14:47.302507Z",
     "iopub.status.idle": "2025-07-30T21:14:47.396786Z",
     "shell.execute_reply": "2025-07-30T21:14:47.395646Z"
    },
    "papermill": {
     "duration": 0.117306,
     "end_time": "2025-07-30T21:14:47.398602",
     "exception": false,
     "start_time": "2025-07-30T21:14:47.281296",
     "status": "completed"
    },
    "tags": []
   },
   "outputs": [],
   "source": [
    "# Auxiliary data needed downstream in the pipeline\n",
    "\n",
    "org_train = X_train.copy()\n",
    "org_test = X_test.copy()\n",
    "org_calib = X_calib.copy()"
   ]
  },
  {
   "cell_type": "code",
   "execution_count": 28,
   "id": "1466abac-c6da-4492-a62f-4240ae3783af",
   "metadata": {
    "execution": {
     "iopub.execute_input": "2025-07-30T21:14:47.440603Z",
     "iopub.status.busy": "2025-07-30T21:14:47.439938Z",
     "iopub.status.idle": "2025-07-30T21:14:47.446132Z",
     "shell.execute_reply": "2025-07-30T21:14:47.445208Z"
    },
    "papermill": {
     "duration": 0.028758,
     "end_time": "2025-07-30T21:14:47.447853",
     "exception": false,
     "start_time": "2025-07-30T21:14:47.419095",
     "status": "completed"
    },
    "tags": []
   },
   "outputs": [],
   "source": [
    "# put in other script?\n",
    "# Group sizes\n",
    "\n",
    "#def calculate_percentages(df, df_name):\n",
    "#    total_entries = len(df)\n",
    "#\n",
    "#    female_pct = (df['frau1'] == 1).mean() * 100\n",
    "#    non_german_pct = ((df['maxdeutsch1'] == 0) & (df['maxdeutsch.Missing.'] == 0)).mean() * 100\n",
    "#    non_german_male_pct = ((df['frau1'] == 0) & (df['maxdeutsch1'] == 0) & (df['maxdeutsch.Missing.'] == 0)).mean() * 100\n",
    "#    non_german_female_pct = ((df['frau1'] == 1) & (df['maxdeutsch1'] == 0) & (df['maxdeutsch.Missing.'] == 0)).mean() * 100\n",
    "#\n",
    "#    print(f\"--- {df_name} ---\")\n",
    "#    print(f\"Female: {female_pct:.2f}%\")\n",
    "#    print(f\"Non-German: {non_german_pct:.2f}%\")\n",
    "#    print(f\"Non-German Male: {non_german_male_pct:.2f}%\")\n",
    "#    print(f\"Non-German Female: {non_german_female_pct:.2f}%\\n\")\n",
    "#\n",
    "## Calculate for each DataFrame\n",
    "#calculate_percentages(siab_calib, \"siab_calib\")\n",
    "#calculate_percentages(siab_test, \"siab_test\")\n",
    "#calculate_percentages(siab_train, \"siab_train\")"
   ]
  },
  {
   "cell_type": "markdown",
   "id": "0a4a1b33",
   "metadata": {
    "papermill": {
     "duration": 0.019568,
     "end_time": "2025-07-30T21:14:47.488640",
     "exception": false,
     "start_time": "2025-07-30T21:14:47.469072",
     "status": "completed"
    },
    "tags": []
   },
   "source": [
    "# Preprocessing Data"
   ]
  },
  {
   "cell_type": "code",
   "execution_count": 29,
   "id": "ca879031",
   "metadata": {
    "execution": {
     "iopub.execute_input": "2025-07-30T21:14:47.529496Z",
     "iopub.status.busy": "2025-07-30T21:14:47.529040Z",
     "iopub.status.idle": "2025-07-30T21:14:47.534787Z",
     "shell.execute_reply": "2025-07-30T21:14:47.533865Z"
    },
    "papermill": {
     "duration": 0.028085,
     "end_time": "2025-07-30T21:14:47.536497",
     "exception": false,
     "start_time": "2025-07-30T21:14:47.508412",
     "status": "completed"
    },
    "tags": []
   },
   "outputs": [],
   "source": [
    "# EXCLUDE PROTECTED FEATURES\n",
    "# ----------------------\n",
    "# \"exclude_features\": \"none\", # \"nationality\", \"sex\", \"nationality-sex\"\n",
    "\n",
    "excluded_features = universe[\"exclude_features\"].split(\"-\") # split, e.g.: \"nationality-sex\" -> [\"nationality\", \"sex\"]\n",
    "excluded_features_dictionary = {\n",
    "    \"nationality\": [\"maxdeutsch1\", \"maxdeutsch.Missing.\"],\n",
    "    \"sex\": [\"frau1\"],\n",
    "    \"age\": [\"age\"],\n",
    "}\n"
   ]
  },
  {
   "cell_type": "code",
   "execution_count": 30,
   "id": "b745ac60",
   "metadata": {
    "execution": {
     "iopub.execute_input": "2025-07-30T21:14:47.579099Z",
     "iopub.status.busy": "2025-07-30T21:14:47.578484Z",
     "iopub.status.idle": "2025-07-30T21:14:47.584341Z",
     "shell.execute_reply": "2025-07-30T21:14:47.583171Z"
    },
    "papermill": {
     "duration": 0.028424,
     "end_time": "2025-07-30T21:14:47.585967",
     "exception": false,
     "start_time": "2025-07-30T21:14:47.557543",
     "status": "completed"
    },
    "tags": []
   },
   "outputs": [],
   "source": [
    "# Code nice names to column names\n",
    "\n",
    "excluded_features_columns = [\n",
    "    excluded_features_dictionary[f] for f in excluded_features if len(f) > 0 and f != \"none\"\n",
    "]"
   ]
  },
  {
   "cell_type": "code",
   "execution_count": 31,
   "id": "f84f73a2",
   "metadata": {
    "execution": {
     "iopub.execute_input": "2025-07-30T21:14:47.628520Z",
     "iopub.status.busy": "2025-07-30T21:14:47.627842Z",
     "iopub.status.idle": "2025-07-30T21:14:47.634104Z",
     "shell.execute_reply": "2025-07-30T21:14:47.633300Z"
    },
    "papermill": {
     "duration": 0.028734,
     "end_time": "2025-07-30T21:14:47.635614",
     "exception": false,
     "start_time": "2025-07-30T21:14:47.606880",
     "status": "completed"
    },
    "tags": []
   },
   "outputs": [],
   "source": [
    "from utils import flatten_once\n",
    "\n",
    "excluded_features_columns = flatten_once(excluded_features_columns)"
   ]
  },
  {
   "cell_type": "code",
   "execution_count": 32,
   "id": "884dea22",
   "metadata": {
    "execution": {
     "iopub.execute_input": "2025-07-30T21:14:47.678863Z",
     "iopub.status.busy": "2025-07-30T21:14:47.677924Z",
     "iopub.status.idle": "2025-07-30T21:14:47.687118Z",
     "shell.execute_reply": "2025-07-30T21:14:47.686035Z"
    },
    "papermill": {
     "duration": 0.032007,
     "end_time": "2025-07-30T21:14:47.688696",
     "exception": false,
     "start_time": "2025-07-30T21:14:47.656689",
     "status": "completed"
    },
    "tags": []
   },
   "outputs": [
    {
     "name": "stdout",
     "output_type": "stream",
     "text": [
      "Dropping features: ['maxdeutsch1', 'maxdeutsch.Missing.', 'frau1']\n"
     ]
    }
   ],
   "source": [
    "if len(excluded_features_columns) > 0:\n",
    "    print(f\"Dropping features: {excluded_features_columns}\")\n",
    "    X_train.drop(excluded_features_columns, axis=1, inplace=True)"
   ]
  },
  {
   "cell_type": "code",
   "execution_count": 33,
   "id": "95ab8b16",
   "metadata": {
    "execution": {
     "iopub.execute_input": "2025-07-30T21:14:47.735149Z",
     "iopub.status.busy": "2025-07-30T21:14:47.734309Z",
     "iopub.status.idle": "2025-07-30T21:14:47.788660Z",
     "shell.execute_reply": "2025-07-30T21:14:47.787378Z"
    },
    "papermill": {
     "duration": 0.078542,
     "end_time": "2025-07-30T21:14:47.790357",
     "exception": false,
     "start_time": "2025-07-30T21:14:47.711815",
     "status": "completed"
    },
    "tags": []
   },
   "outputs": [
    {
     "name": "stdout",
     "output_type": "stream",
     "text": [
      "Dropping features: ['maxdeutsch1', 'maxdeutsch.Missing.', 'frau1']\n"
     ]
    }
   ],
   "source": [
    "if len(excluded_features_columns) > 0:\n",
    "    print(f\"Dropping features: {excluded_features_columns}\")\n",
    "    X_test.drop(excluded_features_columns, axis=1, inplace=True)"
   ]
  },
  {
   "cell_type": "code",
   "execution_count": 34,
   "id": "1853aaf5-fb9f-46cb-a2b5-8ea4ae2237e4",
   "metadata": {
    "execution": {
     "iopub.execute_input": "2025-07-30T21:14:47.835266Z",
     "iopub.status.busy": "2025-07-30T21:14:47.834583Z",
     "iopub.status.idle": "2025-07-30T21:14:47.887253Z",
     "shell.execute_reply": "2025-07-30T21:14:47.886273Z"
    },
    "papermill": {
     "duration": 0.076394,
     "end_time": "2025-07-30T21:14:47.889191",
     "exception": false,
     "start_time": "2025-07-30T21:14:47.812797",
     "status": "completed"
    },
    "tags": []
   },
   "outputs": [
    {
     "name": "stdout",
     "output_type": "stream",
     "text": [
      "Dropping features: ['maxdeutsch1', 'maxdeutsch.Missing.', 'frau1']\n"
     ]
    }
   ],
   "source": [
    "if len(excluded_features_columns) > 0:\n",
    "    print(f\"Dropping features: {excluded_features_columns}\")\n",
    "    X_calib.drop(excluded_features_columns, axis=1, inplace=True)"
   ]
  },
  {
   "cell_type": "code",
   "execution_count": 35,
   "id": "6727d079-03e5-481e-9d38-292a90b7a0a8",
   "metadata": {
    "execution": {
     "iopub.execute_input": "2025-07-30T21:14:47.936789Z",
     "iopub.status.busy": "2025-07-30T21:14:47.936090Z",
     "iopub.status.idle": "2025-07-30T21:14:47.941069Z",
     "shell.execute_reply": "2025-07-30T21:14:47.940010Z"
    },
    "papermill": {
     "duration": 0.030012,
     "end_time": "2025-07-30T21:14:47.943002",
     "exception": false,
     "start_time": "2025-07-30T21:14:47.912990",
     "status": "completed"
    },
    "tags": []
   },
   "outputs": [],
   "source": [
    "# SPLIT & STRATIFY DATA\n",
    "# ----------------------"
   ]
  },
  {
   "cell_type": "code",
   "execution_count": 36,
   "id": "76c4dc6d",
   "metadata": {
    "execution": {
     "iopub.execute_input": "2025-07-30T21:14:47.991799Z",
     "iopub.status.busy": "2025-07-30T21:14:47.991145Z",
     "iopub.status.idle": "2025-07-30T21:14:47.996672Z",
     "shell.execute_reply": "2025-07-30T21:14:47.995607Z"
    },
    "papermill": {
     "duration": 0.030572,
     "end_time": "2025-07-30T21:14:47.998183",
     "exception": false,
     "start_time": "2025-07-30T21:14:47.967611",
     "status": "completed"
    },
    "tags": []
   },
   "outputs": [],
   "source": [
    "# EXCLUDE CERTAIN SUBGROUPS\n",
    "# ----------------------\n",
    "\n",
    "mode = universe.get(\"exclude_subgroups\", \"keep-all\") \n",
    "# Fetches the exclude_subgroups setting from the universe dict.\n",
    "# Defaults to \"keep-all\" if the key is missing."
   ]
  },
  {
   "cell_type": "code",
   "execution_count": 37,
   "id": "21994072",
   "metadata": {
    "execution": {
     "iopub.execute_input": "2025-07-30T21:14:48.047004Z",
     "iopub.status.busy": "2025-07-30T21:14:48.046378Z",
     "iopub.status.idle": "2025-07-30T21:14:48.053909Z",
     "shell.execute_reply": "2025-07-30T21:14:48.052960Z"
    },
    "papermill": {
     "duration": 0.033395,
     "end_time": "2025-07-30T21:14:48.055853",
     "exception": false,
     "start_time": "2025-07-30T21:14:48.022458",
     "status": "completed"
    },
    "tags": []
   },
   "outputs": [],
   "source": [
    "if mode == \"keep-all\":\n",
    "    keep_mask = pd.Series(True, index=org_train.index)\n",
    "\n",
    "# org_train contains the original feature columns from features_org (in Simson)\n",
    "# features_org contains unprocessed features, for me X_train at beginning ???\n",
    "# For keep-all, creates a boolean Series (keep_mask) of all True, so no rows are removed.\n",
    "\n",
    "elif mode == \"drop-non-german\":\n",
    "    keep_mask = org_train[\"maxdeutsch1\"] == 1 # ??? what about missing values?\n",
    "\n",
    "else:\n",
    "    raise ValueError(f\"Unsupported mode for exclude_subgroups: {mode}\")\n"
   ]
  },
  {
   "cell_type": "code",
   "execution_count": 38,
   "id": "71651440",
   "metadata": {
    "execution": {
     "iopub.execute_input": "2025-07-30T21:14:48.103009Z",
     "iopub.status.busy": "2025-07-30T21:14:48.102568Z",
     "iopub.status.idle": "2025-07-30T21:14:48.108960Z",
     "shell.execute_reply": "2025-07-30T21:14:48.108074Z"
    },
    "papermill": {
     "duration": 0.031475,
     "end_time": "2025-07-30T21:14:48.110486",
     "exception": false,
     "start_time": "2025-07-30T21:14:48.079011",
     "status": "completed"
    },
    "tags": []
   },
   "outputs": [],
   "source": [
    "n_drop = (~keep_mask).sum() # Calculates how many rows are set to be dropped\n",
    "if n_drop > 0:\n",
    "    pct = n_drop / len(keep_mask) * 100\n",
    "    print(f\"Dropping {n_drop} rows ({pct:.2f}%) where mode='{mode}'\")"
   ]
  },
  {
   "cell_type": "code",
   "execution_count": 39,
   "id": "5fb8eee5",
   "metadata": {
    "execution": {
     "iopub.execute_input": "2025-07-30T21:14:48.156826Z",
     "iopub.status.busy": "2025-07-30T21:14:48.156088Z",
     "iopub.status.idle": "2025-07-30T21:14:48.164261Z",
     "shell.execute_reply": "2025-07-30T21:14:48.163305Z"
    },
    "papermill": {
     "duration": 0.032374,
     "end_time": "2025-07-30T21:14:48.166012",
     "exception": false,
     "start_time": "2025-07-30T21:14:48.133638",
     "status": "completed"
    },
    "tags": []
   },
   "outputs": [],
   "source": [
    "X_train = X_train[keep_mask]"
   ]
  },
  {
   "cell_type": "code",
   "execution_count": 40,
   "id": "b202bb3a",
   "metadata": {
    "execution": {
     "iopub.execute_input": "2025-07-30T21:14:48.211799Z",
     "iopub.status.busy": "2025-07-30T21:14:48.210959Z",
     "iopub.status.idle": "2025-07-30T21:14:48.217835Z",
     "shell.execute_reply": "2025-07-30T21:14:48.216875Z"
    },
    "papermill": {
     "duration": 0.031239,
     "end_time": "2025-07-30T21:14:48.219555",
     "exception": false,
     "start_time": "2025-07-30T21:14:48.188316",
     "status": "completed"
    },
    "tags": []
   },
   "outputs": [],
   "source": [
    "y_train = y_train[keep_mask]"
   ]
  },
  {
   "cell_type": "markdown",
   "id": "493e2ac3",
   "metadata": {
    "papermill": {
     "duration": 0.023582,
     "end_time": "2025-07-30T21:14:48.266136",
     "exception": false,
     "start_time": "2025-07-30T21:14:48.242554",
     "status": "completed"
    },
    "tags": []
   },
   "source": [
    "# Model Training"
   ]
  },
  {
   "cell_type": "code",
   "execution_count": 41,
   "id": "679e1268",
   "metadata": {
    "execution": {
     "iopub.execute_input": "2025-07-30T21:14:48.310956Z",
     "iopub.status.busy": "2025-07-30T21:14:48.310084Z",
     "iopub.status.idle": "2025-07-30T21:14:48.399317Z",
     "shell.execute_reply": "2025-07-30T21:14:48.398306Z"
    },
    "papermill": {
     "duration": 0.11338,
     "end_time": "2025-07-30T21:14:48.401288",
     "exception": false,
     "start_time": "2025-07-30T21:14:48.287908",
     "status": "completed"
    },
    "tags": []
   },
   "outputs": [],
   "source": [
    "from sklearn.linear_model import LogisticRegression\n",
    "from sklearn.ensemble import GradientBoostingClassifier, RandomForestClassifier\n",
    "\n",
    "if (universe[\"model\"] == \"logreg\"):\n",
    "    model = LogisticRegression() #penalty=\"none\") #, solver=\"newton-cg\", max_iter=1) # include random_state=19 ?\n",
    "elif (universe[\"model\"] == \"penalized_logreg\"):\n",
    "    model = LogisticRegression(penalty=\"l2\", C=1.0) #, solver=\"newton-cg\", max_iter=1)\n",
    "elif (universe[\"model\"] == \"rf\"):\n",
    "    model = RandomForestClassifier(n_estimators=100, n_jobs=-1)\n",
    "elif (universe[\"model\"] == \"gbm\"):\n",
    "    model = GradientBoostingClassifier()\n",
    "elif (universe[\"model\"] == \"elasticnet\"):\n",
    "    model = LogisticRegression(penalty = 'elasticnet', solver = 'saga', l1_ratio = 0.5, max_iter=5000) # which solver to use?\n",
    "else:\n",
    "    raise \"Unsupported universe.model\""
   ]
  },
  {
   "cell_type": "code",
   "execution_count": 42,
   "id": "0cc8f744",
   "metadata": {
    "execution": {
     "iopub.execute_input": "2025-07-30T21:14:48.455335Z",
     "iopub.status.busy": "2025-07-30T21:14:48.454796Z",
     "iopub.status.idle": "2025-07-30T21:14:48.461971Z",
     "shell.execute_reply": "2025-07-30T21:14:48.460866Z"
    },
    "papermill": {
     "duration": 0.034963,
     "end_time": "2025-07-30T21:14:48.464003",
     "exception": false,
     "start_time": "2025-07-30T21:14:48.429040",
     "status": "completed"
    },
    "tags": []
   },
   "outputs": [],
   "source": [
    "import numpy as np\n",
    "from sklearn.pipeline import Pipeline\n",
    "from sklearn.preprocessing import StandardScaler\n",
    "\n",
    "model = Pipeline([\n",
    "    #(\"continuous_processor\", continuous_processor),\n",
    "    #(\"categorical_preprocessor\", categorical_preprocessor),\n",
    "    (\"scale\", StandardScaler() if universe[\"scale\"] == \"scale\" else None), \n",
    "    (\"model\", model),\n",
    "])"
   ]
  },
  {
   "cell_type": "code",
   "execution_count": 43,
   "id": "9442c04d",
   "metadata": {
    "execution": {
     "iopub.execute_input": "2025-07-30T21:14:48.515475Z",
     "iopub.status.busy": "2025-07-30T21:14:48.514946Z",
     "iopub.status.idle": "2025-07-30T21:15:02.983517Z",
     "shell.execute_reply": "2025-07-30T21:15:02.982410Z"
    },
    "papermill": {
     "duration": 14.495499,
     "end_time": "2025-07-30T21:15:02.985206",
     "exception": false,
     "start_time": "2025-07-30T21:14:48.489707",
     "status": "completed"
    },
    "tags": []
   },
   "outputs": [
    {
     "data": {
      "text/html": [
       "<style>#sk-container-id-1 {color: black;background-color: white;}#sk-container-id-1 pre{padding: 0;}#sk-container-id-1 div.sk-toggleable {background-color: white;}#sk-container-id-1 label.sk-toggleable__label {cursor: pointer;display: block;width: 100%;margin-bottom: 0;padding: 0.3em;box-sizing: border-box;text-align: center;}#sk-container-id-1 label.sk-toggleable__label-arrow:before {content: \"▸\";float: left;margin-right: 0.25em;color: #696969;}#sk-container-id-1 label.sk-toggleable__label-arrow:hover:before {color: black;}#sk-container-id-1 div.sk-estimator:hover label.sk-toggleable__label-arrow:before {color: black;}#sk-container-id-1 div.sk-toggleable__content {max-height: 0;max-width: 0;overflow: hidden;text-align: left;background-color: #f0f8ff;}#sk-container-id-1 div.sk-toggleable__content pre {margin: 0.2em;color: black;border-radius: 0.25em;background-color: #f0f8ff;}#sk-container-id-1 input.sk-toggleable__control:checked~div.sk-toggleable__content {max-height: 200px;max-width: 100%;overflow: auto;}#sk-container-id-1 input.sk-toggleable__control:checked~label.sk-toggleable__label-arrow:before {content: \"▾\";}#sk-container-id-1 div.sk-estimator input.sk-toggleable__control:checked~label.sk-toggleable__label {background-color: #d4ebff;}#sk-container-id-1 div.sk-label input.sk-toggleable__control:checked~label.sk-toggleable__label {background-color: #d4ebff;}#sk-container-id-1 input.sk-hidden--visually {border: 0;clip: rect(1px 1px 1px 1px);clip: rect(1px, 1px, 1px, 1px);height: 1px;margin: -1px;overflow: hidden;padding: 0;position: absolute;width: 1px;}#sk-container-id-1 div.sk-estimator {font-family: monospace;background-color: #f0f8ff;border: 1px dotted black;border-radius: 0.25em;box-sizing: border-box;margin-bottom: 0.5em;}#sk-container-id-1 div.sk-estimator:hover {background-color: #d4ebff;}#sk-container-id-1 div.sk-parallel-item::after {content: \"\";width: 100%;border-bottom: 1px solid gray;flex-grow: 1;}#sk-container-id-1 div.sk-label:hover label.sk-toggleable__label {background-color: #d4ebff;}#sk-container-id-1 div.sk-serial::before {content: \"\";position: absolute;border-left: 1px solid gray;box-sizing: border-box;top: 0;bottom: 0;left: 50%;z-index: 0;}#sk-container-id-1 div.sk-serial {display: flex;flex-direction: column;align-items: center;background-color: white;padding-right: 0.2em;padding-left: 0.2em;position: relative;}#sk-container-id-1 div.sk-item {position: relative;z-index: 1;}#sk-container-id-1 div.sk-parallel {display: flex;align-items: stretch;justify-content: center;background-color: white;position: relative;}#sk-container-id-1 div.sk-item::before, #sk-container-id-1 div.sk-parallel-item::before {content: \"\";position: absolute;border-left: 1px solid gray;box-sizing: border-box;top: 0;bottom: 0;left: 50%;z-index: -1;}#sk-container-id-1 div.sk-parallel-item {display: flex;flex-direction: column;z-index: 1;position: relative;background-color: white;}#sk-container-id-1 div.sk-parallel-item:first-child::after {align-self: flex-end;width: 50%;}#sk-container-id-1 div.sk-parallel-item:last-child::after {align-self: flex-start;width: 50%;}#sk-container-id-1 div.sk-parallel-item:only-child::after {width: 0;}#sk-container-id-1 div.sk-dashed-wrapped {border: 1px dashed gray;margin: 0 0.4em 0.5em 0.4em;box-sizing: border-box;padding-bottom: 0.4em;background-color: white;}#sk-container-id-1 div.sk-label label {font-family: monospace;font-weight: bold;display: inline-block;line-height: 1.2em;}#sk-container-id-1 div.sk-label-container {text-align: center;}#sk-container-id-1 div.sk-container {/* jupyter's `normalize.less` sets `[hidden] { display: none; }` but bootstrap.min.css set `[hidden] { display: none !important; }` so we also need the `!important` here to be able to override the default hidden behavior on the sphinx rendered scikit-learn.org. See: https://github.com/scikit-learn/scikit-learn/issues/21755 */display: inline-block !important;position: relative;}#sk-container-id-1 div.sk-text-repr-fallback {display: none;}</style><div id=\"sk-container-id-1\" class=\"sk-top-container\"><div class=\"sk-text-repr-fallback\"><pre>Pipeline(steps=[(&#x27;scale&#x27;, StandardScaler()),\n",
       "                (&#x27;model&#x27;,\n",
       "                 LogisticRegression(l1_ratio=0.5, max_iter=5000,\n",
       "                                    penalty=&#x27;elasticnet&#x27;, solver=&#x27;saga&#x27;))])</pre><b>In a Jupyter environment, please rerun this cell to show the HTML representation or trust the notebook. <br />On GitHub, the HTML representation is unable to render, please try loading this page with nbviewer.org.</b></div><div class=\"sk-container\" hidden><div class=\"sk-item sk-dashed-wrapped\"><div class=\"sk-label-container\"><div class=\"sk-label sk-toggleable\"><input class=\"sk-toggleable__control sk-hidden--visually\" id=\"sk-estimator-id-1\" type=\"checkbox\" ><label for=\"sk-estimator-id-1\" class=\"sk-toggleable__label sk-toggleable__label-arrow\">Pipeline</label><div class=\"sk-toggleable__content\"><pre>Pipeline(steps=[(&#x27;scale&#x27;, StandardScaler()),\n",
       "                (&#x27;model&#x27;,\n",
       "                 LogisticRegression(l1_ratio=0.5, max_iter=5000,\n",
       "                                    penalty=&#x27;elasticnet&#x27;, solver=&#x27;saga&#x27;))])</pre></div></div></div><div class=\"sk-serial\"><div class=\"sk-item\"><div class=\"sk-estimator sk-toggleable\"><input class=\"sk-toggleable__control sk-hidden--visually\" id=\"sk-estimator-id-2\" type=\"checkbox\" ><label for=\"sk-estimator-id-2\" class=\"sk-toggleable__label sk-toggleable__label-arrow\">StandardScaler</label><div class=\"sk-toggleable__content\"><pre>StandardScaler()</pre></div></div></div><div class=\"sk-item\"><div class=\"sk-estimator sk-toggleable\"><input class=\"sk-toggleable__control sk-hidden--visually\" id=\"sk-estimator-id-3\" type=\"checkbox\" ><label for=\"sk-estimator-id-3\" class=\"sk-toggleable__label sk-toggleable__label-arrow\">LogisticRegression</label><div class=\"sk-toggleable__content\"><pre>LogisticRegression(l1_ratio=0.5, max_iter=5000, penalty=&#x27;elasticnet&#x27;,\n",
       "                   solver=&#x27;saga&#x27;)</pre></div></div></div></div></div></div></div>"
      ],
      "text/plain": [
       "Pipeline(steps=[('scale', StandardScaler()),\n",
       "                ('model',\n",
       "                 LogisticRegression(l1_ratio=0.5, max_iter=5000,\n",
       "                                    penalty='elasticnet', solver='saga'))])"
      ]
     },
     "execution_count": 43,
     "metadata": {},
     "output_type": "execute_result"
    }
   ],
   "source": [
    "model.fit(X_train, y_train.values.ravel())"
   ]
  },
  {
   "cell_type": "code",
   "execution_count": 44,
   "id": "af59f8c0",
   "metadata": {
    "execution": {
     "iopub.execute_input": "2025-07-30T21:15:03.046248Z",
     "iopub.status.busy": "2025-07-30T21:15:03.045590Z",
     "iopub.status.idle": "2025-07-30T21:15:03.053444Z",
     "shell.execute_reply": "2025-07-30T21:15:03.052241Z"
    },
    "papermill": {
     "duration": 0.045486,
     "end_time": "2025-07-30T21:15:03.055301",
     "exception": false,
     "start_time": "2025-07-30T21:15:03.009815",
     "status": "completed"
    },
    "tags": []
   },
   "outputs": [],
   "source": [
    "from fairness_multiverse.universe import predict_w_threshold"
   ]
  },
  {
   "cell_type": "code",
   "execution_count": 45,
   "id": "a7cf2e16",
   "metadata": {
    "execution": {
     "iopub.execute_input": "2025-07-30T21:15:03.102939Z",
     "iopub.status.busy": "2025-07-30T21:15:03.102156Z",
     "iopub.status.idle": "2025-07-30T21:15:03.431653Z",
     "shell.execute_reply": "2025-07-30T21:15:03.430777Z"
    },
    "papermill": {
     "duration": 0.354911,
     "end_time": "2025-07-30T21:15:03.433443",
     "exception": false,
     "start_time": "2025-07-30T21:15:03.078532",
     "status": "completed"
    },
    "tags": []
   },
   "outputs": [
    {
     "data": {
      "text/plain": [
       "0.8532159179578642"
      ]
     },
     "execution_count": 45,
     "metadata": {},
     "output_type": "execute_result"
    }
   ],
   "source": [
    "probs_test = model.predict_proba(X_test)\n",
    "\n",
    "'''\n",
    "Below code returns a boolean array (or binary 0/1 array depending on how it’s used) where each element \n",
    "is True if the probability of class 1 is greater than or equal to the threshold, and False otherwise.\n",
    "'''\n",
    "y_pred_default = predict_w_threshold(probs_test, 0.5)\n",
    "\n",
    "from sklearn.metrics import accuracy_score\n",
    "\n",
    "# Naive prediction\n",
    "accuracy_score(y_true = y_true, y_pred = y_pred_default)"
   ]
  },
  {
   "cell_type": "code",
   "execution_count": 46,
   "id": "081964c3",
   "metadata": {
    "execution": {
     "iopub.execute_input": "2025-07-30T21:15:03.486190Z",
     "iopub.status.busy": "2025-07-30T21:15:03.485682Z",
     "iopub.status.idle": "2025-07-30T21:15:03.684972Z",
     "shell.execute_reply": "2025-07-30T21:15:03.683979Z"
    },
    "papermill": {
     "duration": 0.225754,
     "end_time": "2025-07-30T21:15:03.686602",
     "exception": false,
     "start_time": "2025-07-30T21:15:03.460848",
     "status": "completed"
    },
    "tags": []
   },
   "outputs": [
    {
     "data": {
      "text/plain": [
       "array([0, 0, 0, ..., 0, 0, 0])"
      ]
     },
     "execution_count": 46,
     "metadata": {},
     "output_type": "execute_result"
    }
   ],
   "source": [
    "model.predict(X_test)"
   ]
  },
  {
   "cell_type": "markdown",
   "id": "56c9705b",
   "metadata": {
    "papermill": {
     "duration": 0.021818,
     "end_time": "2025-07-30T21:15:03.730890",
     "exception": false,
     "start_time": "2025-07-30T21:15:03.709072",
     "status": "completed"
    },
    "tags": []
   },
   "source": [
    "# Conformal Prediction"
   ]
  },
  {
   "cell_type": "code",
   "execution_count": 47,
   "id": "160ec6ff",
   "metadata": {
    "execution": {
     "iopub.execute_input": "2025-07-30T21:15:03.777982Z",
     "iopub.status.busy": "2025-07-30T21:15:03.777485Z",
     "iopub.status.idle": "2025-07-30T21:15:03.782492Z",
     "shell.execute_reply": "2025-07-30T21:15:03.781532Z"
    },
    "papermill": {
     "duration": 0.031212,
     "end_time": "2025-07-30T21:15:03.784152",
     "exception": false,
     "start_time": "2025-07-30T21:15:03.752940",
     "status": "completed"
    },
    "tags": []
   },
   "outputs": [],
   "source": [
    "# Miscoverage level for conformal prediction (10% allowed error rate => 90% target coverage)\n",
    "alpha = 0.1"
   ]
  },
  {
   "cell_type": "code",
   "execution_count": 48,
   "id": "eadf4555-3dd3-440e-8e35-f82a4ad9f855",
   "metadata": {
    "execution": {
     "iopub.execute_input": "2025-07-30T21:15:03.831558Z",
     "iopub.status.busy": "2025-07-30T21:15:03.831123Z",
     "iopub.status.idle": "2025-07-30T21:15:04.021967Z",
     "shell.execute_reply": "2025-07-30T21:15:04.020901Z"
    },
    "papermill": {
     "duration": 0.216955,
     "end_time": "2025-07-30T21:15:04.023979",
     "exception": false,
     "start_time": "2025-07-30T21:15:03.807024",
     "status": "completed"
    },
    "tags": []
   },
   "outputs": [],
   "source": [
    "probs_calib = model.predict_proba(X_calib)"
   ]
  },
  {
   "cell_type": "code",
   "execution_count": 49,
   "id": "2ed93547-6d5d-4983-9b36-1ecb300da49a",
   "metadata": {
    "execution": {
     "iopub.execute_input": "2025-07-30T21:15:04.073210Z",
     "iopub.status.busy": "2025-07-30T21:15:04.072170Z",
     "iopub.status.idle": "2025-07-30T21:15:04.079085Z",
     "shell.execute_reply": "2025-07-30T21:15:04.078099Z"
    },
    "papermill": {
     "duration": 0.033495,
     "end_time": "2025-07-30T21:15:04.081021",
     "exception": false,
     "start_time": "2025-07-30T21:15:04.047526",
     "status": "completed"
    },
    "tags": []
   },
   "outputs": [],
   "source": [
    "y_calib = y_calib.values.ravel().astype(int)"
   ]
  },
  {
   "cell_type": "code",
   "execution_count": 50,
   "id": "65d1320d-f588-4b38-9072-62af1ae97f7d",
   "metadata": {
    "execution": {
     "iopub.execute_input": "2025-07-30T21:15:04.129698Z",
     "iopub.status.busy": "2025-07-30T21:15:04.129046Z",
     "iopub.status.idle": "2025-07-30T21:15:04.137148Z",
     "shell.execute_reply": "2025-07-30T21:15:04.135957Z"
    },
    "papermill": {
     "duration": 0.034753,
     "end_time": "2025-07-30T21:15:04.139390",
     "exception": false,
     "start_time": "2025-07-30T21:15:04.104637",
     "status": "completed"
    },
    "tags": []
   },
   "outputs": [],
   "source": [
    "from fairness_multiverse.conformal import compute_nc_scores\n",
    "\n",
    "# Compute nonconformity scores on calibration set (1 - probability of true class)\n",
    "nc_scores = compute_nc_scores(probs_calib, y_calib)"
   ]
  },
  {
   "cell_type": "code",
   "execution_count": 51,
   "id": "df3b8ca3-53b7-43d5-9667-7c85da7aeda2",
   "metadata": {
    "execution": {
     "iopub.execute_input": "2025-07-30T21:15:04.203268Z",
     "iopub.status.busy": "2025-07-30T21:15:04.202546Z",
     "iopub.status.idle": "2025-07-30T21:15:04.210441Z",
     "shell.execute_reply": "2025-07-30T21:15:04.209413Z"
    },
    "papermill": {
     "duration": 0.041861,
     "end_time": "2025-07-30T21:15:04.212485",
     "exception": false,
     "start_time": "2025-07-30T21:15:04.170624",
     "status": "completed"
    },
    "tags": []
   },
   "outputs": [],
   "source": [
    "from fairness_multiverse.conformal import find_threshold\n",
    "\n",
    "# Find conformal threshold q_hat for the given alpha (split conformal method)\n",
    "q_hat = find_threshold(nc_scores, alpha)"
   ]
  },
  {
   "cell_type": "code",
   "execution_count": 52,
   "id": "4d29e6c1-0ef6-4aa4-b8fe-4fe79b0d033a",
   "metadata": {
    "execution": {
     "iopub.execute_input": "2025-07-30T21:15:04.262457Z",
     "iopub.status.busy": "2025-07-30T21:15:04.261551Z",
     "iopub.status.idle": "2025-07-30T21:15:04.269164Z",
     "shell.execute_reply": "2025-07-30T21:15:04.268104Z"
    },
    "papermill": {
     "duration": 0.034524,
     "end_time": "2025-07-30T21:15:04.271231",
     "exception": false,
     "start_time": "2025-07-30T21:15:04.236707",
     "status": "completed"
    },
    "tags": []
   },
   "outputs": [
    {
     "data": {
      "text/plain": [
       "0.6786989417444598"
      ]
     },
     "execution_count": 52,
     "metadata": {},
     "output_type": "execute_result"
    }
   ],
   "source": [
    "q_hat"
   ]
  },
  {
   "cell_type": "code",
   "execution_count": 53,
   "id": "92460794-cdac-4be2-ba28-f28c0515a6fb",
   "metadata": {
    "execution": {
     "iopub.execute_input": "2025-07-30T21:15:04.335886Z",
     "iopub.status.busy": "2025-07-30T21:15:04.335171Z",
     "iopub.status.idle": "2025-07-30T21:15:05.216040Z",
     "shell.execute_reply": "2025-07-30T21:15:05.214917Z"
    },
    "papermill": {
     "duration": 0.915254,
     "end_time": "2025-07-30T21:15:05.218003",
     "exception": false,
     "start_time": "2025-07-30T21:15:04.302749",
     "status": "completed"
    },
    "tags": []
   },
   "outputs": [],
   "source": [
    "from fairness_multiverse.conformal import predict_conformal_sets\n",
    "\n",
    "# Generate prediction sets for each test example\n",
    "pred_sets = predict_conformal_sets(model, X_test, q_hat)"
   ]
  },
  {
   "cell_type": "code",
   "execution_count": 54,
   "id": "d90c9a65-e6db-4f5d-80cd-e68fb7e46829",
   "metadata": {
    "execution": {
     "iopub.execute_input": "2025-07-30T21:15:05.266770Z",
     "iopub.status.busy": "2025-07-30T21:15:05.265944Z",
     "iopub.status.idle": "2025-07-30T21:15:05.272469Z",
     "shell.execute_reply": "2025-07-30T21:15:05.271346Z"
    },
    "papermill": {
     "duration": 0.032655,
     "end_time": "2025-07-30T21:15:05.274058",
     "exception": false,
     "start_time": "2025-07-30T21:15:05.241403",
     "status": "completed"
    },
    "tags": []
   },
   "outputs": [],
   "source": [
    "y_true = y_true.squeeze()"
   ]
  },
  {
   "cell_type": "code",
   "execution_count": 55,
   "id": "3a58a54a-1e68-46b9-927a-df01f18aebc8",
   "metadata": {
    "execution": {
     "iopub.execute_input": "2025-07-30T21:15:05.323539Z",
     "iopub.status.busy": "2025-07-30T21:15:05.322941Z",
     "iopub.status.idle": "2025-07-30T21:15:06.185543Z",
     "shell.execute_reply": "2025-07-30T21:15:06.184386Z"
    },
    "papermill": {
     "duration": 0.889018,
     "end_time": "2025-07-30T21:15:06.187529",
     "exception": false,
     "start_time": "2025-07-30T21:15:05.298511",
     "status": "completed"
    },
    "tags": []
   },
   "outputs": [],
   "source": [
    "from fairness_multiverse.conformal import evaluate_sets\n",
    "\n",
    "# Evaluate coverage and average set size on test data\n",
    "metrics = evaluate_sets(pred_sets, y_true)"
   ]
  },
  {
   "cell_type": "markdown",
   "id": "2b569c12-9aaa-4c88-98c9-bbcd0cf3ebb8",
   "metadata": {
    "papermill": {
     "duration": 0.023678,
     "end_time": "2025-07-30T21:15:06.236427",
     "exception": false,
     "start_time": "2025-07-30T21:15:06.212749",
     "status": "completed"
    },
    "tags": []
   },
   "source": [
    "# CP Metrics"
   ]
  },
  {
   "cell_type": "code",
   "execution_count": 56,
   "id": "5ce0a5cb-201f-45a0-ade5-94c7f0bd6095",
   "metadata": {
    "execution": {
     "iopub.execute_input": "2025-07-30T21:15:06.285469Z",
     "iopub.status.busy": "2025-07-30T21:15:06.284755Z",
     "iopub.status.idle": "2025-07-30T21:15:06.292637Z",
     "shell.execute_reply": "2025-07-30T21:15:06.291702Z"
    },
    "papermill": {
     "duration": 0.034301,
     "end_time": "2025-07-30T21:15:06.294328",
     "exception": false,
     "start_time": "2025-07-30T21:15:06.260027",
     "status": "completed"
    },
    "tags": []
   },
   "outputs": [
    {
     "data": {
      "text/plain": [
       "{'coverage': 0.9110021179355702, 'avg_size': 1.144955969234199}"
      ]
     },
     "execution_count": 56,
     "metadata": {},
     "output_type": "execute_result"
    }
   ],
   "source": [
    "metrics"
   ]
  },
  {
   "cell_type": "code",
   "execution_count": 57,
   "id": "9b9a838d-31c9-430b-ae14-12baee460d17",
   "metadata": {
    "execution": {
     "iopub.execute_input": "2025-07-30T21:15:06.344834Z",
     "iopub.status.busy": "2025-07-30T21:15:06.344372Z",
     "iopub.status.idle": "2025-07-30T21:15:06.354225Z",
     "shell.execute_reply": "2025-07-30T21:15:06.353133Z"
    },
    "papermill": {
     "duration": 0.037199,
     "end_time": "2025-07-30T21:15:06.355914",
     "exception": false,
     "start_time": "2025-07-30T21:15:06.318715",
     "status": "completed"
    },
    "tags": []
   },
   "outputs": [],
   "source": [
    "example_universe = universe.copy()\n",
    "universe_training_year = example_universe.get(\"training_year\")\n",
    "universe_training_size = example_universe.get(\"training_size\")\n",
    "universe_scale = example_universe.get(\"scale\")\n",
    "universe_model = example_universe.get(\"model\")\n",
    "universe_exclude_features = example_universe.get(\"exclude_features\")\n",
    "universe_exclude_subgroups = example_universe.get(\"exclude_subgroups\")"
   ]
  },
  {
   "cell_type": "code",
   "execution_count": 58,
   "id": "f4b6a8ac-9dc0-4245-8a91-5b3b5999c4f9",
   "metadata": {
    "execution": {
     "iopub.execute_input": "2025-07-30T21:15:06.405585Z",
     "iopub.status.busy": "2025-07-30T21:15:06.405093Z",
     "iopub.status.idle": "2025-07-30T21:15:06.411970Z",
     "shell.execute_reply": "2025-07-30T21:15:06.411143Z"
    },
    "papermill": {
     "duration": 0.033333,
     "end_time": "2025-07-30T21:15:06.413528",
     "exception": false,
     "start_time": "2025-07-30T21:15:06.380195",
     "status": "completed"
    },
    "tags": []
   },
   "outputs": [],
   "source": [
    "cp_metrics_dict = {\n",
    "    \"universe_id\": [universe_id],\n",
    "    \"universe_training_year\": [universe_training_year],\n",
    "    \"universe_training_size\": [universe_training_size],\n",
    "    \"universe_scale\": [universe_scale],\n",
    "    \"universe_model\": [universe_model],\n",
    "    \"universe_exclude_features\": [universe_exclude_features],\n",
    "    \"universe_exclude_subgroups\": [universe_exclude_subgroups],\n",
    "    \"q_hat\": [q_hat],\n",
    "    \"coverage\": [metrics[\"coverage\"]],\n",
    "    \"avg_size\": [metrics[\"avg_size\"]],\n",
    "}"
   ]
  },
  {
   "cell_type": "code",
   "execution_count": 59,
   "id": "908acbb1-0371-4915-85ca-3fa520d2efe2",
   "metadata": {
    "execution": {
     "iopub.execute_input": "2025-07-30T21:15:06.465000Z",
     "iopub.status.busy": "2025-07-30T21:15:06.464337Z",
     "iopub.status.idle": "2025-07-30T21:15:06.471439Z",
     "shell.execute_reply": "2025-07-30T21:15:06.470580Z"
    },
    "papermill": {
     "duration": 0.033979,
     "end_time": "2025-07-30T21:15:06.472986",
     "exception": false,
     "start_time": "2025-07-30T21:15:06.439007",
     "status": "completed"
    },
    "tags": []
   },
   "outputs": [
    {
     "data": {
      "text/plain": [
       "{'universe_id': ['cd6afbabdc93eacbbf6e9e2716abe40c'],\n",
       " 'universe_training_year': ['2010_14'],\n",
       " 'universe_training_size': ['5k'],\n",
       " 'universe_scale': ['scale'],\n",
       " 'universe_model': ['elasticnet'],\n",
       " 'universe_exclude_features': ['nationality-sex'],\n",
       " 'universe_exclude_subgroups': ['keep-all'],\n",
       " 'q_hat': [0.6786989417444598],\n",
       " 'coverage': [0.9110021179355702],\n",
       " 'avg_size': [1.144955969234199]}"
      ]
     },
     "execution_count": 59,
     "metadata": {},
     "output_type": "execute_result"
    }
   ],
   "source": [
    "cp_metrics_dict"
   ]
  },
  {
   "cell_type": "code",
   "execution_count": 60,
   "id": "33007efc-14e9-4ec6-97ac-56a455c82265",
   "metadata": {
    "execution": {
     "iopub.execute_input": "2025-07-30T21:15:06.523849Z",
     "iopub.status.busy": "2025-07-30T21:15:06.523365Z",
     "iopub.status.idle": "2025-07-30T21:15:06.530614Z",
     "shell.execute_reply": "2025-07-30T21:15:06.529531Z"
    },
    "papermill": {
     "duration": 0.034766,
     "end_time": "2025-07-30T21:15:06.532632",
     "exception": false,
     "start_time": "2025-07-30T21:15:06.497866",
     "status": "completed"
    },
    "tags": []
   },
   "outputs": [],
   "source": [
    "cp_metrics_df = pd.DataFrame(cp_metrics_dict)"
   ]
  },
  {
   "cell_type": "code",
   "execution_count": 61,
   "id": "db12611b-57b2-4910-b9d0-355adfd6e7bf",
   "metadata": {
    "execution": {
     "iopub.execute_input": "2025-07-30T21:15:06.613207Z",
     "iopub.status.busy": "2025-07-30T21:15:06.612742Z",
     "iopub.status.idle": "2025-07-30T21:15:06.635178Z",
     "shell.execute_reply": "2025-07-30T21:15:06.634331Z"
    },
    "papermill": {
     "duration": 0.050151,
     "end_time": "2025-07-30T21:15:06.637961",
     "exception": false,
     "start_time": "2025-07-30T21:15:06.587810",
     "status": "completed"
    },
    "tags": []
   },
   "outputs": [
    {
     "data": {
      "text/html": [
       "<div>\n",
       "<style scoped>\n",
       "    .dataframe tbody tr th:only-of-type {\n",
       "        vertical-align: middle;\n",
       "    }\n",
       "\n",
       "    .dataframe tbody tr th {\n",
       "        vertical-align: top;\n",
       "    }\n",
       "\n",
       "    .dataframe thead th {\n",
       "        text-align: right;\n",
       "    }\n",
       "</style>\n",
       "<table border=\"1\" class=\"dataframe\">\n",
       "  <thead>\n",
       "    <tr style=\"text-align: right;\">\n",
       "      <th></th>\n",
       "      <th>universe_id</th>\n",
       "      <th>universe_training_year</th>\n",
       "      <th>universe_training_size</th>\n",
       "      <th>universe_scale</th>\n",
       "      <th>universe_model</th>\n",
       "      <th>universe_exclude_features</th>\n",
       "      <th>universe_exclude_subgroups</th>\n",
       "      <th>q_hat</th>\n",
       "      <th>coverage</th>\n",
       "      <th>avg_size</th>\n",
       "    </tr>\n",
       "  </thead>\n",
       "  <tbody>\n",
       "    <tr>\n",
       "      <th>0</th>\n",
       "      <td>cd6afbabdc93eacbbf6e9e2716abe40c</td>\n",
       "      <td>2010_14</td>\n",
       "      <td>5k</td>\n",
       "      <td>scale</td>\n",
       "      <td>elasticnet</td>\n",
       "      <td>nationality-sex</td>\n",
       "      <td>keep-all</td>\n",
       "      <td>0.678699</td>\n",
       "      <td>0.911002</td>\n",
       "      <td>1.144956</td>\n",
       "    </tr>\n",
       "  </tbody>\n",
       "</table>\n",
       "</div>"
      ],
      "text/plain": [
       "                        universe_id universe_training_year  \\\n",
       "0  cd6afbabdc93eacbbf6e9e2716abe40c                2010_14   \n",
       "\n",
       "  universe_training_size universe_scale universe_model  \\\n",
       "0                     5k          scale     elasticnet   \n",
       "\n",
       "  universe_exclude_features universe_exclude_subgroups     q_hat  coverage  \\\n",
       "0           nationality-sex                   keep-all  0.678699  0.911002   \n",
       "\n",
       "   avg_size  \n",
       "0  1.144956  "
      ]
     },
     "execution_count": 61,
     "metadata": {},
     "output_type": "execute_result"
    }
   ],
   "source": [
    "cp_metrics_df"
   ]
  },
  {
   "cell_type": "code",
   "execution_count": 62,
   "id": "b7fbde55-a0a1-47e4-9af6-fe4a17fa8c61",
   "metadata": {
    "execution": {
     "iopub.execute_input": "2025-07-30T21:15:06.687489Z",
     "iopub.status.busy": "2025-07-30T21:15:06.686825Z",
     "iopub.status.idle": "2025-07-30T21:15:06.691843Z",
     "shell.execute_reply": "2025-07-30T21:15:06.691007Z"
    },
    "papermill": {
     "duration": 0.031322,
     "end_time": "2025-07-30T21:15:06.693659",
     "exception": false,
     "start_time": "2025-07-30T21:15:06.662337",
     "status": "completed"
    },
    "tags": []
   },
   "outputs": [],
   "source": [
    "# Conditional Coverage & looking at subgroups"
   ]
  },
  {
   "cell_type": "code",
   "execution_count": 63,
   "id": "027ae886-68dd-4141-96c7-805a5450e1ef",
   "metadata": {
    "execution": {
     "iopub.execute_input": "2025-07-30T21:15:06.744901Z",
     "iopub.status.busy": "2025-07-30T21:15:06.744417Z",
     "iopub.status.idle": "2025-07-30T21:15:07.024774Z",
     "shell.execute_reply": "2025-07-30T21:15:07.023193Z"
    },
    "papermill": {
     "duration": 0.307931,
     "end_time": "2025-07-30T21:15:07.026775",
     "exception": false,
     "start_time": "2025-07-30T21:15:06.718844",
     "status": "completed"
    },
    "tags": []
   },
   "outputs": [],
   "source": [
    "from fairness_multiverse.conformal import build_cp_groups\n",
    "\n",
    "cp_groups_df = build_cp_groups(pred_sets, y_true, X_test.index, org_test)\n",
    "#needs universe_id and setting"
   ]
  },
  {
   "cell_type": "code",
   "execution_count": 64,
   "id": "01d5802c-663a-4d1f-9d69-e036faaffbf7",
   "metadata": {
    "execution": {
     "iopub.execute_input": "2025-07-30T21:15:07.080484Z",
     "iopub.status.busy": "2025-07-30T21:15:07.079474Z",
     "iopub.status.idle": "2025-07-30T21:15:07.085127Z",
     "shell.execute_reply": "2025-07-30T21:15:07.084101Z"
    },
    "papermill": {
     "duration": 0.034521,
     "end_time": "2025-07-30T21:15:07.086738",
     "exception": false,
     "start_time": "2025-07-30T21:15:07.052217",
     "status": "completed"
    },
    "tags": []
   },
   "outputs": [],
   "source": [
    "#delete\n",
    "#cp_groups_df"
   ]
  },
  {
   "cell_type": "code",
   "execution_count": 65,
   "id": "fa424af1-d1eb-443d-b717-2d279ada8408",
   "metadata": {
    "execution": {
     "iopub.execute_input": "2025-07-30T21:15:07.141774Z",
     "iopub.status.busy": "2025-07-30T21:15:07.141028Z",
     "iopub.status.idle": "2025-07-30T21:15:07.147162Z",
     "shell.execute_reply": "2025-07-30T21:15:07.145980Z"
    },
    "papermill": {
     "duration": 0.035347,
     "end_time": "2025-07-30T21:15:07.149684",
     "exception": false,
     "start_time": "2025-07-30T21:15:07.114337",
     "status": "completed"
    },
    "tags": []
   },
   "outputs": [],
   "source": [
    "#delete\n",
    "#percentage = (cp_groups_df['nongerman_female'] == 1).mean() * 100\n",
    "#print(percentage)\n"
   ]
  },
  {
   "cell_type": "code",
   "execution_count": 66,
   "id": "6cbdab96-b2b2-45af-ad54-d0516db2e28d",
   "metadata": {
    "execution": {
     "iopub.execute_input": "2025-07-30T21:15:07.223073Z",
     "iopub.status.busy": "2025-07-30T21:15:07.222375Z",
     "iopub.status.idle": "2025-07-30T21:15:08.839654Z",
     "shell.execute_reply": "2025-07-30T21:15:08.838704Z"
    },
    "papermill": {
     "duration": 1.655836,
     "end_time": "2025-07-30T21:15:08.841683",
     "exception": false,
     "start_time": "2025-07-30T21:15:07.185847",
     "status": "completed"
    },
    "tags": []
   },
   "outputs": [],
   "source": [
    "# Define covered = 1 if true_label is in the predicted set\n",
    "cp_groups_df['covered'] = cp_groups_df.apply(\n",
    "    lambda r: int(r['true_label'] in r['pred_set']),\n",
    "    axis=1\n",
    ")"
   ]
  },
  {
   "cell_type": "code",
   "execution_count": 67,
   "id": "338ff529-1a6b-4b87-a931-8e4788d52aad",
   "metadata": {
    "execution": {
     "iopub.execute_input": "2025-07-30T21:15:08.898863Z",
     "iopub.status.busy": "2025-07-30T21:15:08.898081Z",
     "iopub.status.idle": "2025-07-30T21:15:08.902765Z",
     "shell.execute_reply": "2025-07-30T21:15:08.901898Z"
    },
    "papermill": {
     "duration": 0.035591,
     "end_time": "2025-07-30T21:15:08.905150",
     "exception": false,
     "start_time": "2025-07-30T21:15:08.869559",
     "status": "completed"
    },
    "tags": []
   },
   "outputs": [],
   "source": [
    "#cp_groups_df"
   ]
  },
  {
   "cell_type": "code",
   "execution_count": 68,
   "id": "90032e27-66df-4540-9169-4e89cfbaa758",
   "metadata": {
    "execution": {
     "iopub.execute_input": "2025-07-30T21:15:08.959530Z",
     "iopub.status.busy": "2025-07-30T21:15:08.959116Z",
     "iopub.status.idle": "2025-07-30T21:15:08.969674Z",
     "shell.execute_reply": "2025-07-30T21:15:08.968683Z"
    },
    "papermill": {
     "duration": 0.039147,
     "end_time": "2025-07-30T21:15:08.971638",
     "exception": false,
     "start_time": "2025-07-30T21:15:08.932491",
     "status": "completed"
    },
    "tags": []
   },
   "outputs": [],
   "source": [
    "subgroups = ['frau1','nongerman','nongerman_male','nongerman_female']\n",
    "\n",
    "# Conditional coverage for subgroup==1\n",
    "cond_coverage = {\n",
    "    g: cp_groups_df.loc[cp_groups_df[g]==1, 'covered'].mean()\n",
    "    for g in subgroups\n",
    "}"
   ]
  },
  {
   "cell_type": "code",
   "execution_count": 69,
   "id": "1e348fb1-b9c3-45bc-ba23-f016827a7e0d",
   "metadata": {
    "execution": {
     "iopub.execute_input": "2025-07-30T21:15:09.026271Z",
     "iopub.status.busy": "2025-07-30T21:15:09.025930Z",
     "iopub.status.idle": "2025-07-30T21:15:09.032422Z",
     "shell.execute_reply": "2025-07-30T21:15:09.031564Z"
    },
    "papermill": {
     "duration": 0.034804,
     "end_time": "2025-07-30T21:15:09.034326",
     "exception": false,
     "start_time": "2025-07-30T21:15:08.999522",
     "status": "completed"
    },
    "tags": []
   },
   "outputs": [
    {
     "data": {
      "text/plain": [
       "{'frau1': 0.909502628386575,\n",
       " 'nongerman': 0.9110761803177455,\n",
       " 'nongerman_male': 0.9265964153832298,\n",
       " 'nongerman_female': 0.8853949329359165}"
      ]
     },
     "execution_count": 69,
     "metadata": {},
     "output_type": "execute_result"
    }
   ],
   "source": [
    "cond_coverage"
   ]
  },
  {
   "cell_type": "code",
   "execution_count": 70,
   "id": "f5093324-c3dd-4d63-bc4c-8d945e5c8bbb",
   "metadata": {
    "execution": {
     "iopub.execute_input": "2025-07-30T21:15:09.065974Z",
     "iopub.status.busy": "2025-07-30T21:15:09.065565Z",
     "iopub.status.idle": "2025-07-30T21:15:09.071342Z",
     "shell.execute_reply": "2025-07-30T21:15:09.070649Z"
    },
    "papermill": {
     "duration": 0.022469,
     "end_time": "2025-07-30T21:15:09.072684",
     "exception": false,
     "start_time": "2025-07-30T21:15:09.050215",
     "status": "completed"
    },
    "tags": []
   },
   "outputs": [],
   "source": [
    "for subgroup, cov in cond_coverage.items():\n",
    "    cp_metrics_df[f\"cov_{subgroup}\"] = cov"
   ]
  },
  {
   "cell_type": "code",
   "execution_count": 71,
   "id": "6e872e10-dbe5-49e8-b554-5030c98ff75d",
   "metadata": {
    "execution": {
     "iopub.execute_input": "2025-07-30T21:15:09.104588Z",
     "iopub.status.busy": "2025-07-30T21:15:09.104121Z",
     "iopub.status.idle": "2025-07-30T21:15:09.118338Z",
     "shell.execute_reply": "2025-07-30T21:15:09.117466Z"
    },
    "papermill": {
     "duration": 0.031689,
     "end_time": "2025-07-30T21:15:09.119753",
     "exception": false,
     "start_time": "2025-07-30T21:15:09.088064",
     "status": "completed"
    },
    "tags": []
   },
   "outputs": [
    {
     "data": {
      "text/html": [
       "<div>\n",
       "<style scoped>\n",
       "    .dataframe tbody tr th:only-of-type {\n",
       "        vertical-align: middle;\n",
       "    }\n",
       "\n",
       "    .dataframe tbody tr th {\n",
       "        vertical-align: top;\n",
       "    }\n",
       "\n",
       "    .dataframe thead th {\n",
       "        text-align: right;\n",
       "    }\n",
       "</style>\n",
       "<table border=\"1\" class=\"dataframe\">\n",
       "  <thead>\n",
       "    <tr style=\"text-align: right;\">\n",
       "      <th></th>\n",
       "      <th>universe_id</th>\n",
       "      <th>universe_training_year</th>\n",
       "      <th>universe_training_size</th>\n",
       "      <th>universe_scale</th>\n",
       "      <th>universe_model</th>\n",
       "      <th>universe_exclude_features</th>\n",
       "      <th>universe_exclude_subgroups</th>\n",
       "      <th>q_hat</th>\n",
       "      <th>coverage</th>\n",
       "      <th>avg_size</th>\n",
       "      <th>cov_frau1</th>\n",
       "      <th>cov_nongerman</th>\n",
       "      <th>cov_nongerman_male</th>\n",
       "      <th>cov_nongerman_female</th>\n",
       "    </tr>\n",
       "  </thead>\n",
       "  <tbody>\n",
       "    <tr>\n",
       "      <th>0</th>\n",
       "      <td>cd6afbabdc93eacbbf6e9e2716abe40c</td>\n",
       "      <td>2010_14</td>\n",
       "      <td>5k</td>\n",
       "      <td>scale</td>\n",
       "      <td>elasticnet</td>\n",
       "      <td>nationality-sex</td>\n",
       "      <td>keep-all</td>\n",
       "      <td>0.678699</td>\n",
       "      <td>0.911002</td>\n",
       "      <td>1.144956</td>\n",
       "      <td>0.909503</td>\n",
       "      <td>0.911076</td>\n",
       "      <td>0.926596</td>\n",
       "      <td>0.885395</td>\n",
       "    </tr>\n",
       "  </tbody>\n",
       "</table>\n",
       "</div>"
      ],
      "text/plain": [
       "                        universe_id universe_training_year  \\\n",
       "0  cd6afbabdc93eacbbf6e9e2716abe40c                2010_14   \n",
       "\n",
       "  universe_training_size universe_scale universe_model  \\\n",
       "0                     5k          scale     elasticnet   \n",
       "\n",
       "  universe_exclude_features universe_exclude_subgroups     q_hat  coverage  \\\n",
       "0           nationality-sex                   keep-all  0.678699  0.911002   \n",
       "\n",
       "   avg_size  cov_frau1  cov_nongerman  cov_nongerman_male  \\\n",
       "0  1.144956   0.909503       0.911076            0.926596   \n",
       "\n",
       "   cov_nongerman_female  \n",
       "0              0.885395  "
      ]
     },
     "execution_count": 71,
     "metadata": {},
     "output_type": "execute_result"
    }
   ],
   "source": [
    "cp_metrics_df"
   ]
  },
  {
   "cell_type": "markdown",
   "id": "33774451",
   "metadata": {
    "papermill": {
     "duration": 0.026554,
     "end_time": "2025-07-30T21:15:09.161480",
     "exception": false,
     "start_time": "2025-07-30T21:15:09.134926",
     "status": "completed"
    },
    "tags": []
   },
   "source": [
    "# (Fairness) Metrics"
   ]
  },
  {
   "cell_type": "code",
   "execution_count": 72,
   "id": "debc5d62",
   "metadata": {
    "execution": {
     "iopub.execute_input": "2025-07-30T21:15:09.205652Z",
     "iopub.status.busy": "2025-07-30T21:15:09.205333Z",
     "iopub.status.idle": "2025-07-30T21:15:09.218587Z",
     "shell.execute_reply": "2025-07-30T21:15:09.217815Z"
    },
    "papermill": {
     "duration": 0.031992,
     "end_time": "2025-07-30T21:15:09.219880",
     "exception": false,
     "start_time": "2025-07-30T21:15:09.187888",
     "status": "completed"
    },
    "tags": []
   },
   "outputs": [],
   "source": [
    "# do I need to include maxdeutsch1.missing?\n",
    "\n",
    "import numpy as np\n",
    "\n",
    "colname_to_bin = \"maxdeutsch1\"\n",
    "majority_value = org_train[colname_to_bin].mode()[0]\n",
    "\n",
    "org_test[\"majmin\"] = np.where(org_test[colname_to_bin] == majority_value, \"majority\", \"minority\")"
   ]
  },
  {
   "cell_type": "code",
   "execution_count": 73,
   "id": "06a50de5",
   "metadata": {
    "execution": {
     "iopub.execute_input": "2025-07-30T21:15:09.261898Z",
     "iopub.status.busy": "2025-07-30T21:15:09.261473Z",
     "iopub.status.idle": "2025-07-30T21:15:11.577426Z",
     "shell.execute_reply": "2025-07-30T21:15:11.576293Z"
    },
    "papermill": {
     "duration": 2.34454,
     "end_time": "2025-07-30T21:15:11.579433",
     "exception": false,
     "start_time": "2025-07-30T21:15:09.234893",
     "status": "completed"
    },
    "tags": []
   },
   "outputs": [],
   "source": [
    "example_universe = universe.copy()\n",
    "example_universe[\"cutoff\"] = example_universe[\"cutoff\"][0]\n",
    "example_universe[\"eval_fairness_grouping\"] = example_universe[\"eval_fairness_grouping\"][0]\n",
    "fairness_dict, metric_frame = universe_analysis.compute_metrics(\n",
    "    example_universe,\n",
    "    y_pred_prob=probs_test,\n",
    "    y_test=y_true,\n",
    "    org_test=org_test,\n",
    ")"
   ]
  },
  {
   "cell_type": "markdown",
   "id": "f95d4e02",
   "metadata": {
    "papermill": {
     "duration": 0.025515,
     "end_time": "2025-07-30T21:15:11.633852",
     "exception": false,
     "start_time": "2025-07-30T21:15:11.608337",
     "status": "completed"
    },
    "tags": []
   },
   "source": [
    "# Overall"
   ]
  },
  {
   "cell_type": "markdown",
   "id": "bdee4871",
   "metadata": {
    "papermill": {
     "duration": 0.02547,
     "end_time": "2025-07-30T21:15:11.685088",
     "exception": false,
     "start_time": "2025-07-30T21:15:11.659618",
     "status": "completed"
    },
    "tags": []
   },
   "source": [
    "Fairness\n",
    "Main fairness target: Equalized Odds. Seems to be a better fit than equal opportunity, since we're not only interested in Y = 1. Seems to be a better fit than demographic parity, since we also care about accuracy, not just equal distribution of preds.\n",
    "\n",
    "Pick column for computation of fairness metrics\n",
    "\n",
    "Performance\n",
    "Overall performance measures, most interesting in relation to the measures split by group below"
   ]
  },
  {
   "cell_type": "code",
   "execution_count": 74,
   "id": "c4e067c6",
   "metadata": {
    "execution": {
     "iopub.execute_input": "2025-07-30T21:15:11.739784Z",
     "iopub.status.busy": "2025-07-30T21:15:11.738858Z",
     "iopub.status.idle": "2025-07-30T21:15:11.749167Z",
     "shell.execute_reply": "2025-07-30T21:15:11.747965Z"
    },
    "papermill": {
     "duration": 0.039522,
     "end_time": "2025-07-30T21:15:11.750967",
     "exception": false,
     "start_time": "2025-07-30T21:15:11.711445",
     "status": "completed"
    },
    "tags": []
   },
   "outputs": [
    {
     "data": {
      "text/plain": [
       "accuracy                   0.223509\n",
       "balanced accuracy          0.546692\n",
       "f1                         0.244864\n",
       "precision                  0.139883\n",
       "false positive rate        0.888021\n",
       "false negative rate        0.018596\n",
       "selection rate             0.900000\n",
       "count                  89710.000000\n",
       "dtype: float64"
      ]
     },
     "execution_count": 74,
     "metadata": {},
     "output_type": "execute_result"
    }
   ],
   "source": [
    "metric_frame.overall"
   ]
  },
  {
   "cell_type": "markdown",
   "id": "e968fe9d",
   "metadata": {
    "papermill": {
     "duration": 0.024611,
     "end_time": "2025-07-30T21:15:11.801977",
     "exception": false,
     "start_time": "2025-07-30T21:15:11.777366",
     "status": "completed"
    },
    "tags": []
   },
   "source": [
    "By Group"
   ]
  },
  {
   "cell_type": "code",
   "execution_count": 75,
   "id": "ec325bce",
   "metadata": {
    "execution": {
     "iopub.execute_input": "2025-07-30T21:15:11.853757Z",
     "iopub.status.busy": "2025-07-30T21:15:11.853066Z",
     "iopub.status.idle": "2025-07-30T21:15:11.869504Z",
     "shell.execute_reply": "2025-07-30T21:15:11.868596Z"
    },
    "papermill": {
     "duration": 0.043418,
     "end_time": "2025-07-30T21:15:11.871097",
     "exception": false,
     "start_time": "2025-07-30T21:15:11.827679",
     "status": "completed"
    },
    "tags": []
   },
   "outputs": [
    {
     "data": {
      "text/html": [
       "<div>\n",
       "<style scoped>\n",
       "    .dataframe tbody tr th:only-of-type {\n",
       "        vertical-align: middle;\n",
       "    }\n",
       "\n",
       "    .dataframe tbody tr th {\n",
       "        vertical-align: top;\n",
       "    }\n",
       "\n",
       "    .dataframe thead th {\n",
       "        text-align: right;\n",
       "    }\n",
       "</style>\n",
       "<table border=\"1\" class=\"dataframe\">\n",
       "  <thead>\n",
       "    <tr style=\"text-align: right;\">\n",
       "      <th></th>\n",
       "      <th>accuracy</th>\n",
       "      <th>balanced accuracy</th>\n",
       "      <th>f1</th>\n",
       "      <th>precision</th>\n",
       "      <th>false positive rate</th>\n",
       "      <th>false negative rate</th>\n",
       "      <th>selection rate</th>\n",
       "      <th>count</th>\n",
       "    </tr>\n",
       "    <tr>\n",
       "      <th>majmin</th>\n",
       "      <th></th>\n",
       "      <th></th>\n",
       "      <th></th>\n",
       "      <th></th>\n",
       "      <th></th>\n",
       "      <th></th>\n",
       "      <th></th>\n",
       "      <th></th>\n",
       "    </tr>\n",
       "  </thead>\n",
       "  <tbody>\n",
       "    <tr>\n",
       "      <th>majority</th>\n",
       "      <td>0.245164</td>\n",
       "      <td>0.556723</td>\n",
       "      <td>0.255497</td>\n",
       "      <td>0.146893</td>\n",
       "      <td>0.866750</td>\n",
       "      <td>0.019803</td>\n",
       "      <td>0.881741</td>\n",
       "      <td>69170.0</td>\n",
       "    </tr>\n",
       "    <tr>\n",
       "      <th>minority</th>\n",
       "      <td>0.150584</td>\n",
       "      <td>0.513888</td>\n",
       "      <td>0.211150</td>\n",
       "      <td>0.118234</td>\n",
       "      <td>0.958287</td>\n",
       "      <td>0.013936</td>\n",
       "      <td>0.961490</td>\n",
       "      <td>20540.0</td>\n",
       "    </tr>\n",
       "  </tbody>\n",
       "</table>\n",
       "</div>"
      ],
      "text/plain": [
       "          accuracy  balanced accuracy        f1  precision  \\\n",
       "majmin                                                       \n",
       "majority  0.245164           0.556723  0.255497   0.146893   \n",
       "minority  0.150584           0.513888  0.211150   0.118234   \n",
       "\n",
       "          false positive rate  false negative rate  selection rate    count  \n",
       "majmin                                                                       \n",
       "majority             0.866750             0.019803        0.881741  69170.0  \n",
       "minority             0.958287             0.013936        0.961490  20540.0  "
      ]
     },
     "execution_count": 75,
     "metadata": {},
     "output_type": "execute_result"
    }
   ],
   "source": [
    "metric_frame.by_group"
   ]
  },
  {
   "cell_type": "code",
   "execution_count": 76,
   "id": "a9ddbe63",
   "metadata": {
    "execution": {
     "iopub.execute_input": "2025-07-30T21:15:11.926641Z",
     "iopub.status.busy": "2025-07-30T21:15:11.925881Z",
     "iopub.status.idle": "2025-07-30T21:15:14.336310Z",
     "shell.execute_reply": "2025-07-30T21:15:14.335431Z"
    },
    "papermill": {
     "duration": 2.441254,
     "end_time": "2025-07-30T21:15:14.337998",
     "exception": false,
     "start_time": "2025-07-30T21:15:11.896744",
     "status": "completed"
    },
    "tags": []
   },
   "outputs": [
    {
     "data": {
      "text/plain": [
       "array([[<Axes: title={'center': 'accuracy'}, xlabel='majmin'>,\n",
       "        <Axes: title={'center': 'balanced accuracy'}, xlabel='majmin'>,\n",
       "        <Axes: title={'center': 'f1'}, xlabel='majmin'>],\n",
       "       [<Axes: title={'center': 'precision'}, xlabel='majmin'>,\n",
       "        <Axes: title={'center': 'false positive rate'}, xlabel='majmin'>,\n",
       "        <Axes: title={'center': 'false negative rate'}, xlabel='majmin'>],\n",
       "       [<Axes: title={'center': 'selection rate'}, xlabel='majmin'>,\n",
       "        <Axes: title={'center': 'count'}, xlabel='majmin'>,\n",
       "        <Axes: xlabel='majmin'>]], dtype=object)"
      ]
     },
     "execution_count": 76,
     "metadata": {},
     "output_type": "execute_result"
    },
    {
     "data": {
      "image/png": "[encoded data removed]",
      "text/plain": [
       "<Figure size 1200x800 with 9 Axes>"
      ]
     },
     "metadata": {},
     "output_type": "display_data"
    }
   ],
   "source": [
    "# In a graphic\n",
    "metric_frame.by_group.plot.bar(\n",
    "    subplots=True,\n",
    "    layout=[3, 3],\n",
    "    legend=False,\n",
    "    figsize=[12, 8],\n",
    "    title=\"Show all metrics\",\n",
    ")"
   ]
  },
  {
   "cell_type": "markdown",
   "id": "f57a0bac",
   "metadata": {
    "papermill": {
     "duration": 0.026088,
     "end_time": "2025-07-30T21:15:14.393864",
     "exception": false,
     "start_time": "2025-07-30T21:15:14.367776",
     "status": "completed"
    },
    "tags": []
   },
   "source": [
    "# Final Output"
   ]
  },
  {
   "cell_type": "code",
   "execution_count": 77,
   "id": "96d280a3",
   "metadata": {
    "execution": {
     "iopub.execute_input": "2025-07-30T21:15:14.452573Z",
     "iopub.status.busy": "2025-07-30T21:15:14.451886Z",
     "iopub.status.idle": "2025-07-30T21:15:14.460751Z",
     "shell.execute_reply": "2025-07-30T21:15:14.459762Z"
    },
    "papermill": {
     "duration": 0.037739,
     "end_time": "2025-07-30T21:15:14.462215",
     "exception": false,
     "start_time": "2025-07-30T21:15:14.424476",
     "status": "completed"
    },
    "tags": []
   },
   "outputs": [
    {
     "data": {
      "text/plain": [
       "4"
      ]
     },
     "execution_count": 77,
     "metadata": {},
     "output_type": "execute_result"
    }
   ],
   "source": [
    "sub_universes = universe_analysis.generate_sub_universes()\n",
    "len(sub_universes)"
   ]
  },
  {
   "cell_type": "code",
   "execution_count": 78,
   "id": "92adf7ba",
   "metadata": {
    "execution": {
     "iopub.execute_input": "2025-07-30T21:15:14.518572Z",
     "iopub.status.busy": "2025-07-30T21:15:14.517714Z",
     "iopub.status.idle": "2025-07-30T21:15:14.524234Z",
     "shell.execute_reply": "2025-07-30T21:15:14.523348Z"
    },
    "papermill": {
     "duration": 0.037022,
     "end_time": "2025-07-30T21:15:14.525908",
     "exception": false,
     "start_time": "2025-07-30T21:15:14.488886",
     "status": "completed"
    },
    "tags": []
   },
   "outputs": [],
   "source": [
    "def filter_sub_universe_data(sub_universe, org_test):\n",
    "    # Keep all rows — no filtering\n",
    "    keep_rows_mask = np.ones(org_test.shape[0], dtype=bool)\n",
    "\n",
    "    print(f\"[INFO] Keeping all rows: {keep_rows_mask.sum()} rows retained.\")\n",
    "    return keep_rows_mask"
   ]
  },
  {
   "cell_type": "code",
   "execution_count": 79,
   "id": "4a759155",
   "metadata": {
    "execution": {
     "iopub.execute_input": "2025-07-30T21:15:14.585931Z",
     "iopub.status.busy": "2025-07-30T21:15:14.585431Z",
     "iopub.status.idle": "2025-07-30T21:15:23.708279Z",
     "shell.execute_reply": "2025-07-30T21:15:23.707372Z"
    },
    "papermill": {
     "duration": 9.154201,
     "end_time": "2025-07-30T21:15:23.709961",
     "exception": false,
     "start_time": "2025-07-30T21:15:14.555760",
     "status": "completed"
    },
    "tags": []
   },
   "outputs": [
    {
     "name": "stdout",
     "output_type": "stream",
     "text": [
      "Stopping execution_time clock.\n",
      "[INFO] Keeping all rows: 89710 rows retained.\n"
     ]
    },
    {
     "name": "stdout",
     "output_type": "stream",
     "text": [
      "[INFO] Keeping all rows: 89710 rows retained.\n"
     ]
    },
    {
     "name": "stdout",
     "output_type": "stream",
     "text": [
      "[INFO] Keeping all rows: 89710 rows retained.\n"
     ]
    },
    {
     "name": "stdout",
     "output_type": "stream",
     "text": [
      "[INFO] Keeping all rows: 89710 rows retained.\n"
     ]
    },
    {
     "data": {
      "text/html": [
       "<div>\n",
       "<style scoped>\n",
       "    .dataframe tbody tr th:only-of-type {\n",
       "        vertical-align: middle;\n",
       "    }\n",
       "\n",
       "    .dataframe tbody tr th {\n",
       "        vertical-align: top;\n",
       "    }\n",
       "\n",
       "    .dataframe thead th {\n",
       "        text-align: right;\n",
       "    }\n",
       "</style>\n",
       "<table border=\"1\" class=\"dataframe\">\n",
       "  <thead>\n",
       "    <tr style=\"text-align: right;\">\n",
       "      <th></th>\n",
       "      <th>run_no</th>\n",
       "      <th>universe_id</th>\n",
       "      <th>universe_settings</th>\n",
       "      <th>execution_time</th>\n",
       "      <th>test_size_n</th>\n",
       "      <th>test_size_frac</th>\n",
       "      <th>fair_main_equalized_odds_difference</th>\n",
       "      <th>fair_main_equalized_odds_ratio</th>\n",
       "      <th>fair_main_demographic_parity_difference</th>\n",
       "      <th>fair_main_demographic_parity_ratio</th>\n",
       "      <th>...</th>\n",
       "      <th>perf_grp_precision_0</th>\n",
       "      <th>perf_grp_precision_1</th>\n",
       "      <th>perf_grp_false positive rate_0</th>\n",
       "      <th>perf_grp_false positive rate_1</th>\n",
       "      <th>perf_grp_false negative rate_0</th>\n",
       "      <th>perf_grp_false negative rate_1</th>\n",
       "      <th>perf_grp_selection rate_0</th>\n",
       "      <th>perf_grp_selection rate_1</th>\n",
       "      <th>perf_grp_count_0</th>\n",
       "      <th>perf_grp_count_1</th>\n",
       "    </tr>\n",
       "  </thead>\n",
       "  <tbody>\n",
       "    <tr>\n",
       "      <th>0</th>\n",
       "      <td>14</td>\n",
       "      <td>cd6afbabdc93eacbbf6e9e2716abe40c</td>\n",
       "      <td>{\"cutoff\": \"quantile_0.1\", \"eval_fairness_grou...</td>\n",
       "      <td>42.878622</td>\n",
       "      <td>89710</td>\n",
       "      <td>1.0</td>\n",
       "      <td>0.091538</td>\n",
       "      <td>0.904478</td>\n",
       "      <td>0.079749</td>\n",
       "      <td>0.917057</td>\n",
       "      <td>...</td>\n",
       "      <td>NaN</td>\n",
       "      <td>NaN</td>\n",
       "      <td>NaN</td>\n",
       "      <td>NaN</td>\n",
       "      <td>NaN</td>\n",
       "      <td>NaN</td>\n",
       "      <td>NaN</td>\n",
       "      <td>NaN</td>\n",
       "      <td>NaN</td>\n",
       "      <td>NaN</td>\n",
       "    </tr>\n",
       "    <tr>\n",
       "      <th>0</th>\n",
       "      <td>14</td>\n",
       "      <td>cd6afbabdc93eacbbf6e9e2716abe40c</td>\n",
       "      <td>{\"cutoff\": \"quantile_0.1\", \"eval_fairness_grou...</td>\n",
       "      <td>42.878622</td>\n",
       "      <td>89710</td>\n",
       "      <td>1.0</td>\n",
       "      <td>0.091538</td>\n",
       "      <td>0.904478</td>\n",
       "      <td>0.079749</td>\n",
       "      <td>0.917057</td>\n",
       "      <td>...</td>\n",
       "      <td>0.118234</td>\n",
       "      <td>0.146893</td>\n",
       "      <td>0.958287</td>\n",
       "      <td>0.866750</td>\n",
       "      <td>0.013936</td>\n",
       "      <td>0.019803</td>\n",
       "      <td>0.961490</td>\n",
       "      <td>0.881741</td>\n",
       "      <td>20540.0</td>\n",
       "      <td>69170.0</td>\n",
       "    </tr>\n",
       "    <tr>\n",
       "      <th>0</th>\n",
       "      <td>14</td>\n",
       "      <td>cd6afbabdc93eacbbf6e9e2716abe40c</td>\n",
       "      <td>{\"cutoff\": \"quantile_0.25\", \"eval_fairness_gro...</td>\n",
       "      <td>42.878622</td>\n",
       "      <td>89710</td>\n",
       "      <td>1.0</td>\n",
       "      <td>0.173064</td>\n",
       "      <td>0.797781</td>\n",
       "      <td>0.151613</td>\n",
       "      <td>0.825108</td>\n",
       "      <td>...</td>\n",
       "      <td>NaN</td>\n",
       "      <td>NaN</td>\n",
       "      <td>NaN</td>\n",
       "      <td>NaN</td>\n",
       "      <td>NaN</td>\n",
       "      <td>NaN</td>\n",
       "      <td>NaN</td>\n",
       "      <td>NaN</td>\n",
       "      <td>NaN</td>\n",
       "      <td>NaN</td>\n",
       "    </tr>\n",
       "    <tr>\n",
       "      <th>0</th>\n",
       "      <td>14</td>\n",
       "      <td>cd6afbabdc93eacbbf6e9e2716abe40c</td>\n",
       "      <td>{\"cutoff\": \"quantile_0.25\", \"eval_fairness_gro...</td>\n",
       "      <td>42.878622</td>\n",
       "      <td>89710</td>\n",
       "      <td>1.0</td>\n",
       "      <td>0.173064</td>\n",
       "      <td>0.797781</td>\n",
       "      <td>0.151613</td>\n",
       "      <td>0.825108</td>\n",
       "      <td>...</td>\n",
       "      <td>0.126587</td>\n",
       "      <td>0.171598</td>\n",
       "      <td>0.855822</td>\n",
       "      <td>0.682759</td>\n",
       "      <td>0.048142</td>\n",
       "      <td>0.071116</td>\n",
       "      <td>0.866894</td>\n",
       "      <td>0.715281</td>\n",
       "      <td>20540.0</td>\n",
       "      <td>69170.0</td>\n",
       "    </tr>\n",
       "  </tbody>\n",
       "</table>\n",
       "<p>4 rows × 50 columns</p>\n",
       "</div>"
      ],
      "text/plain": [
       "  run_no                       universe_id  \\\n",
       "0     14  cd6afbabdc93eacbbf6e9e2716abe40c   \n",
       "0     14  cd6afbabdc93eacbbf6e9e2716abe40c   \n",
       "0     14  cd6afbabdc93eacbbf6e9e2716abe40c   \n",
       "0     14  cd6afbabdc93eacbbf6e9e2716abe40c   \n",
       "\n",
       "                                   universe_settings  execution_time  \\\n",
       "0  {\"cutoff\": \"quantile_0.1\", \"eval_fairness_grou...       42.878622   \n",
       "0  {\"cutoff\": \"quantile_0.1\", \"eval_fairness_grou...       42.878622   \n",
       "0  {\"cutoff\": \"quantile_0.25\", \"eval_fairness_gro...       42.878622   \n",
       "0  {\"cutoff\": \"quantile_0.25\", \"eval_fairness_gro...       42.878622   \n",
       "\n",
       "   test_size_n  test_size_frac  fair_main_equalized_odds_difference  \\\n",
       "0        89710             1.0                             0.091538   \n",
       "0        89710             1.0                             0.091538   \n",
       "0        89710             1.0                             0.173064   \n",
       "0        89710             1.0                             0.173064   \n",
       "\n",
       "   fair_main_equalized_odds_ratio  fair_main_demographic_parity_difference  \\\n",
       "0                        0.904478                                 0.079749   \n",
       "0                        0.904478                                 0.079749   \n",
       "0                        0.797781                                 0.151613   \n",
       "0                        0.797781                                 0.151613   \n",
       "\n",
       "   fair_main_demographic_parity_ratio  ...  perf_grp_precision_0  \\\n",
       "0                            0.917057  ...                   NaN   \n",
       "0                            0.917057  ...              0.118234   \n",
       "0                            0.825108  ...                   NaN   \n",
       "0                            0.825108  ...              0.126587   \n",
       "\n",
       "   perf_grp_precision_1  perf_grp_false positive rate_0  \\\n",
       "0                   NaN                             NaN   \n",
       "0              0.146893                        0.958287   \n",
       "0                   NaN                             NaN   \n",
       "0              0.171598                        0.855822   \n",
       "\n",
       "   perf_grp_false positive rate_1  perf_grp_false negative rate_0  \\\n",
       "0                             NaN                             NaN   \n",
       "0                        0.866750                        0.013936   \n",
       "0                             NaN                             NaN   \n",
       "0                        0.682759                        0.048142   \n",
       "\n",
       "   perf_grp_false negative rate_1  perf_grp_selection rate_0  \\\n",
       "0                             NaN                        NaN   \n",
       "0                        0.019803                   0.961490   \n",
       "0                             NaN                        NaN   \n",
       "0                        0.071116                   0.866894   \n",
       "\n",
       "   perf_grp_selection rate_1  perf_grp_count_0  perf_grp_count_1  \n",
       "0                        NaN               NaN               NaN  \n",
       "0                   0.881741           20540.0           69170.0  \n",
       "0                        NaN               NaN               NaN  \n",
       "0                   0.715281           20540.0           69170.0  \n",
       "\n",
       "[4 rows x 50 columns]"
      ]
     },
     "execution_count": 79,
     "metadata": {},
     "output_type": "execute_result"
    }
   ],
   "source": [
    "final_output = universe_analysis.generate_final_output(\n",
    "    y_pred_prob=probs_test,\n",
    "    y_test=y_true,\n",
    "    org_test=org_test,\n",
    "    filter_data=filter_sub_universe_data,\n",
    "    cp_metrics_df=cp_metrics_df,\n",
    "    save=True,\n",
    ")\n",
    "final_output"
   ]
  },
  {
   "cell_type": "code",
   "execution_count": null,
   "id": "721ff514-cb11-46f8-b6fc-50392f74b5cb",
   "metadata": {
    "papermill": {
     "duration": 0.030156,
     "end_time": "2025-07-30T21:15:23.773321",
     "exception": false,
     "start_time": "2025-07-30T21:15:23.743165",
     "status": "completed"
    },
    "tags": []
   },
   "outputs": [],
   "source": []
  }
 ],
 "metadata": {
  "celltoolbar": "Tags",
  "kernelspec": {
   "display_name": "Python (CMA Fairness)",
   "language": "python",
   "name": "cma_fair_env"
  },
  "language_info": {
   "codemirror_mode": {
    "name": "ipython",
    "version": 3
   },
   "file_extension": ".py",
   "mimetype": "text/x-python",
   "name": "python",
   "nbconvert_exporter": "python",
   "pygments_lexer": "ipython3",
   "version": "3.10.12"
  },
  "papermill": {
   "default_parameters": {},
   "duration": 56.222588,
   "end_time": "2025-07-30T21:15:24.525091",
   "environment_variables": {},
   "exception": null,
   "input_path": "universe_analysis.ipynb",
   "output_path": "output/runs/14/notebooks/m_14-cd6afbabdc93eacbbf6e9e2716abe40c.ipynb",
   "parameters": {
    "output_dir": "output",
    "run_no": "14",
    "seed": "2023",
    "universe": "{\"cutoff\": [\"quantile_0.1\", \"quantile_0.25\"], \"eval_fairness_grouping\": [\"majority-minority\", \"nationality-all\"], \"exclude_features\": \"nationality-sex\", \"exclude_subgroups\": \"keep-all\", \"model\": \"elasticnet\", \"scale\": \"scale\", \"training_size\": \"5k\", \"training_year\": \"2010_14\"}",
    "universe_id": "cd6afbabdc93eacbbf6e9e2716abe40c"
   },
   "start_time": "2025-07-30T21:14:28.302503",
   "version": "2.6.0"
  }
 },
 "nbformat": 4,
 "nbformat_minor": 5
}