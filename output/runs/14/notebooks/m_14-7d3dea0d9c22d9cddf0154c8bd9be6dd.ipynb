{
 "cells": [
  {
   "cell_type": "code",
   "execution_count": 1,
   "id": "f159f837-637b-42ba-96b5-ec9a68c44524",
   "metadata": {
    "execution": {
     "iopub.execute_input": "2025-07-30T20:15:41.433819Z",
     "iopub.status.busy": "2025-07-30T20:15:41.433371Z",
     "iopub.status.idle": "2025-07-30T20:15:41.447007Z",
     "shell.execute_reply": "2025-07-30T20:15:41.445881Z"
    },
    "papermill": {
     "duration": 0.038593,
     "end_time": "2025-07-30T20:15:41.448996",
     "exception": false,
     "start_time": "2025-07-30T20:15:41.410403",
     "status": "completed"
    },
    "tags": []
   },
   "outputs": [
    {
     "name": "stdout",
     "output_type": "stream",
     "text": [
      "/dss/dsshome1/0C/ra93lal2/cma/CMA_Fairness_v2\n"
     ]
    },
    {
     "name": "stderr",
     "output_type": "stream",
     "text": [
      "/dss/dsshome1/0C/ra93lal2/.local/share/virtualenvs/CMA_Fairness_v2-3j10GkSs/lib/python3.10/site-packages/IPython/core/magics/osm.py:393: UserWarning: This is now an optional IPython functionality, using bookmarks requires you to install the `pickleshare` library.\n",
      "  bkms = self.shell.db.get('bookmarks', {})\n",
      "/dss/dsshome1/0C/ra93lal2/.local/share/virtualenvs/CMA_Fairness_v2-3j10GkSs/lib/python3.10/site-packages/IPython/core/magics/osm.py:417: UserWarning: This is now an optional IPython functionality, setting dhist requires you to install the `pickleshare` library.\n",
      "  self.shell.db['dhist'] = compress_dhist(dhist)[-100:]\n"
     ]
    }
   ],
   "source": [
    "%cd ~/cma/CMA_Fairness_v2"
   ]
  },
  {
   "cell_type": "markdown",
   "id": "de2603b9",
   "metadata": {
    "papermill": {
     "duration": 0.020415,
     "end_time": "2025-07-30T20:15:41.490603",
     "exception": false,
     "start_time": "2025-07-30T20:15:41.470188",
     "status": "completed"
    },
    "tags": []
   },
   "source": [
    "The following cell holds the definition of our parameters, these values can be overriden by rendering the with e.g. the following command:\n",
    "\n",
    "papermill -p alpha 0.2 -p ratio 0.3 universe_analysis.ipynb output/test_run.ipynb"
   ]
  },
  {
   "cell_type": "code",
   "execution_count": 2,
   "id": "a80968a0-40bb-4fa9-85ef-2d5eefb01975",
   "metadata": {
    "execution": {
     "iopub.execute_input": "2025-07-30T20:15:41.534447Z",
     "iopub.status.busy": "2025-07-30T20:15:41.533996Z",
     "iopub.status.idle": "2025-07-30T20:15:41.540080Z",
     "shell.execute_reply": "2025-07-30T20:15:41.538940Z"
    },
    "papermill": {
     "duration": 0.031004,
     "end_time": "2025-07-30T20:15:41.541976",
     "exception": false,
     "start_time": "2025-07-30T20:15:41.510972",
     "status": "completed"
    },
    "tags": []
   },
   "outputs": [
    {
     "name": "stdout",
     "output_type": "stream",
     "text": [
      "Current working directory: /dss/dsshome1/0C/ra93lal2/cma/CMA_Fairness_v2\n"
     ]
    }
   ],
   "source": [
    "import os\n",
    "print(\"Current working directory:\", os.getcwd())"
   ]
  },
  {
   "cell_type": "code",
   "execution_count": 3,
   "id": "2dce4c03",
   "metadata": {
    "execution": {
     "iopub.execute_input": "2025-07-30T20:15:41.587993Z",
     "iopub.status.busy": "2025-07-30T20:15:41.587475Z",
     "iopub.status.idle": "2025-07-30T20:15:41.594510Z",
     "shell.execute_reply": "2025-07-30T20:15:41.593476Z"
    },
    "papermill": {
     "duration": 0.03251,
     "end_time": "2025-07-30T20:15:41.596262",
     "exception": false,
     "start_time": "2025-07-30T20:15:41.563752",
     "status": "completed"
    },
    "tags": [
     "parameters"
    ]
   },
   "outputs": [],
   "source": [
    "run_no = 0\n",
    "universe_id = \"test\"\n",
    "universe = {\n",
    "    \"training_size\": \"25k\", # \"25k\", \"5k\", \"1k\"\n",
    "    \"training_year\": \"2014\", # \"2014\", \"2012_14\", \"2010_14\"\n",
    "    \"scale\": \"scale\", # \"scale\", \"do-not-scale\",\n",
    "    #\"stratify_split\": \"target\", # \"none\", \"target\", \"protected-attribute\", \"both\",\n",
    "    \"model\": \"elasticnet\", # \"logreg\", \"penalized_logreg\", \"rf\", \"gbm\", \"elasticnet\"\n",
    "    \"cutoff\": [\"quantile_0.15\", \"quantile_0.30\"],\n",
    "    \"exclude_features\": \"age\", # \"none\", \"nationality\", \"sex\", \"nationality-sex\", \"age\"\n",
    "    \"exclude_subgroups\": \"keep-all\", # \"keep-all\", \"drop-non-german\"\n",
    "    \"eval_fairness_grouping\": [\"majority-minority\", \"nationality-all\"]\n",
    "}\n",
    "\n",
    "output_dir=\"./output\"\n",
    "seed=0"
   ]
  },
  {
   "cell_type": "code",
   "execution_count": 4,
   "id": "f0084a52",
   "metadata": {
    "execution": {
     "iopub.execute_input": "2025-07-30T20:15:41.642482Z",
     "iopub.status.busy": "2025-07-30T20:15:41.641485Z",
     "iopub.status.idle": "2025-07-30T20:15:41.647000Z",
     "shell.execute_reply": "2025-07-30T20:15:41.645968Z"
    },
    "papermill": {
     "duration": 0.030213,
     "end_time": "2025-07-30T20:15:41.649008",
     "exception": false,
     "start_time": "2025-07-30T20:15:41.618795",
     "status": "completed"
    },
    "tags": [
     "injected-parameters"
    ]
   },
   "outputs": [],
   "source": [
    "# Parameters\n",
    "universe_id = \"7d3dea0d9c22d9cddf0154c8bd9be6dd\"\n",
    "run_no = \"14\"\n",
    "universe = \"{\\\"cutoff\\\": [\\\"quantile_0.1\\\", \\\"quantile_0.25\\\"], \\\"eval_fairness_grouping\\\": [\\\"majority-minority\\\", \\\"nationality-all\\\"], \\\"exclude_features\\\": \\\"nationality\\\", \\\"exclude_subgroups\\\": \\\"drop-non-german\\\", \\\"model\\\": \\\"logreg\\\", \\\"scale\\\": \\\"do-not-scale\\\", \\\"training_size\\\": \\\"25k\\\", \\\"training_year\\\": \\\"2012_14\\\"}\"\n",
    "output_dir = \"output\"\n",
    "seed = \"2023\"\n"
   ]
  },
  {
   "cell_type": "code",
   "execution_count": 5,
   "id": "1650acaf",
   "metadata": {
    "execution": {
     "iopub.execute_input": "2025-07-30T20:15:41.695731Z",
     "iopub.status.busy": "2025-07-30T20:15:41.695104Z",
     "iopub.status.idle": "2025-07-30T20:15:41.700090Z",
     "shell.execute_reply": "2025-07-30T20:15:41.699098Z"
    },
    "papermill": {
     "duration": 0.029417,
     "end_time": "2025-07-30T20:15:41.701997",
     "exception": false,
     "start_time": "2025-07-30T20:15:41.672580",
     "status": "completed"
    },
    "tags": []
   },
   "outputs": [],
   "source": [
    "import json\n",
    "# Parse universe into dict if it is passed as a string\n",
    "if isinstance(universe, str):\n",
    "    universe = json.loads(universe)"
   ]
  },
  {
   "cell_type": "code",
   "execution_count": 6,
   "id": "16620c48",
   "metadata": {
    "execution": {
     "iopub.execute_input": "2025-07-30T20:15:41.748608Z",
     "iopub.status.busy": "2025-07-30T20:15:41.747898Z",
     "iopub.status.idle": "2025-07-30T20:15:41.795181Z",
     "shell.execute_reply": "2025-07-30T20:15:41.793986Z"
    },
    "papermill": {
     "duration": 0.072551,
     "end_time": "2025-07-30T20:15:41.797187",
     "exception": false,
     "start_time": "2025-07-30T20:15:41.724636",
     "status": "completed"
    },
    "tags": []
   },
   "outputs": [],
   "source": [
    "# Auto-reload the custom package\n",
    "%load_ext autoreload\n",
    "%autoreload 1\n",
    "%aimport fairness_multiverse"
   ]
  },
  {
   "cell_type": "code",
   "execution_count": 7,
   "id": "01c5c9f3",
   "metadata": {
    "execution": {
     "iopub.execute_input": "2025-07-30T20:15:41.845125Z",
     "iopub.status.busy": "2025-07-30T20:15:41.844156Z",
     "iopub.status.idle": "2025-07-30T20:15:43.761608Z",
     "shell.execute_reply": "2025-07-30T20:15:43.760545Z"
    },
    "papermill": {
     "duration": 1.943267,
     "end_time": "2025-07-30T20:15:43.763562",
     "exception": false,
     "start_time": "2025-07-30T20:15:41.820295",
     "status": "completed"
    },
    "tags": []
   },
   "outputs": [],
   "source": [
    "from fairness_multiverse.universe import UniverseAnalysis\n",
    "\n",
    "universe_analysis = UniverseAnalysis(\n",
    "    run_no = run_no,\n",
    "    universe_id = universe_id,\n",
    "    universe = universe,\n",
    "    output_dir=output_dir,\n",
    ")"
   ]
  },
  {
   "cell_type": "code",
   "execution_count": 8,
   "id": "106241f5",
   "metadata": {
    "execution": {
     "iopub.execute_input": "2025-07-30T20:15:43.804615Z",
     "iopub.status.busy": "2025-07-30T20:15:43.804064Z",
     "iopub.status.idle": "2025-07-30T20:15:43.810747Z",
     "shell.execute_reply": "2025-07-30T20:15:43.809745Z"
    },
    "papermill": {
     "duration": 0.031172,
     "end_time": "2025-07-30T20:15:43.812979",
     "exception": false,
     "start_time": "2025-07-30T20:15:43.781807",
     "status": "completed"
    },
    "tags": []
   },
   "outputs": [
    {
     "name": "stdout",
     "output_type": "stream",
     "text": [
      "Using Seed: 2023\n"
     ]
    }
   ],
   "source": [
    "import numpy as np\n",
    "parsed_seed = int(seed)\n",
    "np.random.seed(parsed_seed)\n",
    "print(f\"Using Seed: {parsed_seed}\")"
   ]
  },
  {
   "cell_type": "markdown",
   "id": "e0ebdc57",
   "metadata": {
    "papermill": {
     "duration": 0.010637,
     "end_time": "2025-07-30T20:15:43.840762",
     "exception": false,
     "start_time": "2025-07-30T20:15:43.830125",
     "status": "completed"
    },
    "tags": []
   },
   "source": [
    "# Loading Data"
   ]
  },
  {
   "cell_type": "markdown",
   "id": "681925a3",
   "metadata": {
    "papermill": {
     "duration": 0.009914,
     "end_time": "2025-07-30T20:15:43.860746",
     "exception": false,
     "start_time": "2025-07-30T20:15:43.850832",
     "status": "completed"
    },
    "tags": []
   },
   "source": [
    "Load siab_train, siab_test, siab_calib and/or \n",
    "load siab_train_features, siab_train_labels"
   ]
  },
  {
   "cell_type": "code",
   "execution_count": 9,
   "id": "f0496b8a",
   "metadata": {
    "execution": {
     "iopub.execute_input": "2025-07-30T20:15:43.897543Z",
     "iopub.status.busy": "2025-07-30T20:15:43.896712Z",
     "iopub.status.idle": "2025-07-30T20:15:56.249852Z",
     "shell.execute_reply": "2025-07-30T20:15:56.248502Z"
    },
    "papermill": {
     "duration": 12.377338,
     "end_time": "2025-07-30T20:15:56.252307",
     "exception": false,
     "start_time": "2025-07-30T20:15:43.874969",
     "status": "completed"
    },
    "tags": []
   },
   "outputs": [
    {
     "name": "stdout",
     "output_type": "stream",
     "text": [
      "Loading SIAB data from cache: data/siab_cached.csv.gz\n"
     ]
    },
    {
     "name": "stdout",
     "output_type": "stream",
     "text": [
      "(643690, 164)\n"
     ]
    }
   ],
   "source": [
    "from pathlib import Path\n",
    "import pandas as pd\n",
    "\n",
    "# File paths\n",
    "raw_file = Path(\"data/raw/siab.csv\")\n",
    "cache_file = Path(\"data/siab_cached.csv.gz\")\n",
    "\n",
    "# Ensure cache directory exists\n",
    "cache_file.parent.mkdir(parents=True, exist_ok=True)\n",
    "\n",
    "# Load with simple caching\n",
    "if cache_file.exists():\n",
    "    print(f\"Loading SIAB data from cache: {cache_file}\")\n",
    "    siab = pd.read_csv(cache_file, compression='gzip')\n",
    "else:\n",
    "    print(f\"Cache not found. Reading raw SIAB data: {raw_file}\")\n",
    "    siab = pd.read_csv(raw_file)\n",
    "    siab.to_csv(cache_file, index=False, compression='gzip')\n",
    "    print(f\"Cached SIAB data to: {cache_file}\")\n",
    "\n",
    "# Now use `siab` DataFrame as needed\n",
    "print(siab.shape)"
   ]
  },
  {
   "cell_type": "code",
   "execution_count": 10,
   "id": "db0ca512-5f53-4dba-abdb-a2888bca41ba",
   "metadata": {
    "execution": {
     "iopub.execute_input": "2025-07-30T20:15:56.296664Z",
     "iopub.status.busy": "2025-07-30T20:15:56.295597Z",
     "iopub.status.idle": "2025-07-30T20:15:56.301315Z",
     "shell.execute_reply": "2025-07-30T20:15:56.300364Z"
    },
    "papermill": {
     "duration": 0.028993,
     "end_time": "2025-07-30T20:15:56.303241",
     "exception": false,
     "start_time": "2025-07-30T20:15:56.274248",
     "status": "completed"
    },
    "tags": []
   },
   "outputs": [],
   "source": [
    "#siab"
   ]
  },
  {
   "cell_type": "code",
   "execution_count": 11,
   "id": "a0edb063",
   "metadata": {
    "execution": {
     "iopub.execute_input": "2025-07-30T20:15:56.347909Z",
     "iopub.status.busy": "2025-07-30T20:15:56.347250Z",
     "iopub.status.idle": "2025-07-30T20:15:56.352714Z",
     "shell.execute_reply": "2025-07-30T20:15:56.351537Z"
    },
    "papermill": {
     "duration": 0.028891,
     "end_time": "2025-07-30T20:15:56.354402",
     "exception": false,
     "start_time": "2025-07-30T20:15:56.325511",
     "status": "completed"
    },
    "tags": []
   },
   "outputs": [],
   "source": [
    "#import pandas as pd\n",
    "#\n",
    "#X_train = pd.read_csv(\"./data/X_train.csv\")\n",
    "#y_train = pd.read_csv(\"./data/y_train.csv\")"
   ]
  },
  {
   "cell_type": "code",
   "execution_count": 12,
   "id": "63d08085",
   "metadata": {
    "execution": {
     "iopub.execute_input": "2025-07-30T20:15:56.397209Z",
     "iopub.status.busy": "2025-07-30T20:15:56.396253Z",
     "iopub.status.idle": "2025-07-30T20:15:56.401460Z",
     "shell.execute_reply": "2025-07-30T20:15:56.400434Z"
    },
    "papermill": {
     "duration": 0.028383,
     "end_time": "2025-07-30T20:15:56.403413",
     "exception": false,
     "start_time": "2025-07-30T20:15:56.375030",
     "status": "completed"
    },
    "tags": []
   },
   "outputs": [],
   "source": [
    "#X_test = pd.read_csv(\"./data/X_test.csv\")\n",
    "#y_true = pd.read_csv(\"./data/y_test.csv\")"
   ]
  },
  {
   "cell_type": "code",
   "execution_count": 13,
   "id": "98a8d0fa-1d3d-4ed8-bb2c-281470e24add",
   "metadata": {
    "execution": {
     "iopub.execute_input": "2025-07-30T20:15:56.447339Z",
     "iopub.status.busy": "2025-07-30T20:15:56.446836Z",
     "iopub.status.idle": "2025-07-30T20:15:56.452247Z",
     "shell.execute_reply": "2025-07-30T20:15:56.451098Z"
    },
    "papermill": {
     "duration": 0.029076,
     "end_time": "2025-07-30T20:15:56.454178",
     "exception": false,
     "start_time": "2025-07-30T20:15:56.425102",
     "status": "completed"
    },
    "tags": []
   },
   "outputs": [],
   "source": [
    "# Calibration data for conformal\n",
    "#X_calib = pd.read_csv(\"./data/X_calib.csv\")\n",
    "#y_calib = pd.read_csv(\"./data/y_calib.csv\")"
   ]
  },
  {
   "cell_type": "markdown",
   "id": "997051c5-15bd-4b69-9786-c3001a3ce484",
   "metadata": {
    "papermill": {
     "duration": 0.020552,
     "end_time": "2025-07-30T20:15:56.496172",
     "exception": false,
     "start_time": "2025-07-30T20:15:56.475620",
     "status": "completed"
    },
    "tags": []
   },
   "source": [
    "# Splitting Data and Setting Training Data Size"
   ]
  },
  {
   "cell_type": "code",
   "execution_count": 14,
   "id": "e993b61f-042d-41a6-8c81-f55681f86335",
   "metadata": {
    "execution": {
     "iopub.execute_input": "2025-07-30T20:15:56.537317Z",
     "iopub.status.busy": "2025-07-30T20:15:56.536768Z",
     "iopub.status.idle": "2025-07-30T20:15:56.550416Z",
     "shell.execute_reply": "2025-07-30T20:15:56.549448Z"
    },
    "papermill": {
     "duration": 0.036338,
     "end_time": "2025-07-30T20:15:56.552255",
     "exception": false,
     "start_time": "2025-07-30T20:15:56.515917",
     "status": "completed"
    },
    "tags": []
   },
   "outputs": [],
   "source": [
    "def sample_by_year_size(df,\n",
    "                        training_year: str,\n",
    "                        training_size: str,\n",
    "                        random_state: int = 42):\n",
    "    # --- parse training_year into a list of int years ---\n",
    "    if \"_\" in training_year:\n",
    "        start_str, end_str = training_year.split(\"_\", 1)\n",
    "        start = int(start_str)\n",
    "        end   = int(end_str) if len(end_str) == 4 else (int(end_str) + (start // 100)*100)\n",
    "        years = list(range(start, end + 1))\n",
    "    else:\n",
    "        years = [int(training_year)]\n",
    "\n",
    "    df = df[df[\"year\"].isin(years)].reset_index(drop=True)\n",
    "\n",
    "    # --- map training_size to total number of samples ---\n",
    "    total_map = {\"25k\": 25_000, \"5k\": 5_000, \"1k\": 1_000}\n",
    "    if training_size not in total_map:\n",
    "        return df  # e.g. \"all\"\n",
    "\n",
    "    total_samples = total_map[training_size]\n",
    "    n_years       = len(years)\n",
    "    base          = total_samples // n_years\n",
    "    remainder     = total_samples % n_years\n",
    "\n",
    "    # --- build a dict: year -> how many to sample ---\n",
    "    # give +1 to the first `remainder` years in ascending order\n",
    "    quotas = {\n",
    "        year: base + (1 if idx < remainder else 0)\n",
    "        for idx, year in enumerate(sorted(years))\n",
    "    }\n",
    "\n",
    "    # --- sample per‐year according to the quota dict ---\n",
    "    sampled = (\n",
    "        df\n",
    "        .groupby(\"year\", group_keys=False)\n",
    "        .apply(lambda grp: grp.sample(\n",
    "            n=min(len(grp), quotas[grp.name]),\n",
    "            random_state=random_state))\n",
    "        .reset_index(drop=True)\n",
    "    )\n",
    "\n",
    "    return sampled"
   ]
  },
  {
   "cell_type": "code",
   "execution_count": 15,
   "id": "c0ccd338-0e02-41f3-a09d-f56f9266e3fb",
   "metadata": {
    "execution": {
     "iopub.execute_input": "2025-07-30T20:15:56.595482Z",
     "iopub.status.busy": "2025-07-30T20:15:56.594643Z",
     "iopub.status.idle": "2025-07-30T20:15:56.600176Z",
     "shell.execute_reply": "2025-07-30T20:15:56.599160Z"
    },
    "papermill": {
     "duration": 0.028613,
     "end_time": "2025-07-30T20:15:56.601966",
     "exception": false,
     "start_time": "2025-07-30T20:15:56.573353",
     "status": "completed"
    },
    "tags": []
   },
   "outputs": [],
   "source": [
    "#universe[\"training_size\"]"
   ]
  },
  {
   "cell_type": "code",
   "execution_count": 16,
   "id": "ca707fd7-8047-4acd-bfa5-66248fbbf8e6",
   "metadata": {
    "execution": {
     "iopub.execute_input": "2025-07-30T20:15:56.644541Z",
     "iopub.status.busy": "2025-07-30T20:15:56.643593Z",
     "iopub.status.idle": "2025-07-30T20:15:56.648869Z",
     "shell.execute_reply": "2025-07-30T20:15:56.647918Z"
    },
    "papermill": {
     "duration": 0.027855,
     "end_time": "2025-07-30T20:15:56.650602",
     "exception": false,
     "start_time": "2025-07-30T20:15:56.622747",
     "status": "completed"
    },
    "tags": []
   },
   "outputs": [],
   "source": [
    "#universe[\"training_year\"]"
   ]
  },
  {
   "cell_type": "code",
   "execution_count": 17,
   "id": "aea9c6ef-6f46-42c8-85eb-5a62025c1508",
   "metadata": {
    "execution": {
     "iopub.execute_input": "2025-07-30T20:15:56.693972Z",
     "iopub.status.busy": "2025-07-30T20:15:56.693355Z",
     "iopub.status.idle": "2025-07-30T20:15:57.404782Z",
     "shell.execute_reply": "2025-07-30T20:15:57.403787Z"
    },
    "papermill": {
     "duration": 0.734934,
     "end_time": "2025-07-30T20:15:57.407009",
     "exception": false,
     "start_time": "2025-07-30T20:15:56.672075",
     "status": "completed"
    },
    "tags": []
   },
   "outputs": [],
   "source": [
    "siab_train = sample_by_year_size(siab,\n",
    "                               training_year=universe[\"training_year\"],\n",
    "                               training_size=universe[\"training_size\"])"
   ]
  },
  {
   "cell_type": "code",
   "execution_count": 18,
   "id": "8d3afb32-789d-442c-8d5d-9f5aa8dd2eed",
   "metadata": {
    "execution": {
     "iopub.execute_input": "2025-07-30T20:15:57.451231Z",
     "iopub.status.busy": "2025-07-30T20:15:57.450379Z",
     "iopub.status.idle": "2025-07-30T20:15:57.455909Z",
     "shell.execute_reply": "2025-07-30T20:15:57.454875Z"
    },
    "papermill": {
     "duration": 0.028558,
     "end_time": "2025-07-30T20:15:57.458387",
     "exception": false,
     "start_time": "2025-07-30T20:15:57.429829",
     "status": "completed"
    },
    "tags": []
   },
   "outputs": [],
   "source": [
    "#siab_train.shape"
   ]
  },
  {
   "cell_type": "code",
   "execution_count": 19,
   "id": "d582db68-1a4c-47fb-84fc-08518dc1975a",
   "metadata": {
    "execution": {
     "iopub.execute_input": "2025-07-30T20:15:57.504680Z",
     "iopub.status.busy": "2025-07-30T20:15:57.503716Z",
     "iopub.status.idle": "2025-07-30T20:15:57.509063Z",
     "shell.execute_reply": "2025-07-30T20:15:57.508027Z"
    },
    "papermill": {
     "duration": 0.028733,
     "end_time": "2025-07-30T20:15:57.510782",
     "exception": false,
     "start_time": "2025-07-30T20:15:57.482049",
     "status": "completed"
    },
    "tags": []
   },
   "outputs": [],
   "source": [
    "#display(siab_train.groupby(\"year\").size())"
   ]
  },
  {
   "cell_type": "code",
   "execution_count": 20,
   "id": "a561edb4-d032-42cb-8256-22eac1111c64",
   "metadata": {
    "execution": {
     "iopub.execute_input": "2025-07-30T20:15:57.548906Z",
     "iopub.status.busy": "2025-07-30T20:15:57.548442Z",
     "iopub.status.idle": "2025-07-30T20:15:57.797169Z",
     "shell.execute_reply": "2025-07-30T20:15:57.796131Z"
    },
    "papermill": {
     "duration": 0.266007,
     "end_time": "2025-07-30T20:15:57.799245",
     "exception": false,
     "start_time": "2025-07-30T20:15:57.533238",
     "status": "completed"
    },
    "tags": []
   },
   "outputs": [],
   "source": [
    "#siab_train = siab_s[siab_s.year < 2015]\n",
    "siab_calib = siab[siab.year == 2015]\n",
    "siab_test = siab[siab.year == 2016]"
   ]
  },
  {
   "cell_type": "code",
   "execution_count": 21,
   "id": "472de16f-c3db-4916-846b-1f0de9cf1746",
   "metadata": {
    "execution": {
     "iopub.execute_input": "2025-07-30T20:15:57.845128Z",
     "iopub.status.busy": "2025-07-30T20:15:57.844166Z",
     "iopub.status.idle": "2025-07-30T20:15:57.859404Z",
     "shell.execute_reply": "2025-07-30T20:15:57.858327Z"
    },
    "papermill": {
     "duration": 0.039072,
     "end_time": "2025-07-30T20:15:57.861728",
     "exception": false,
     "start_time": "2025-07-30T20:15:57.822656",
     "status": "completed"
    },
    "tags": []
   },
   "outputs": [],
   "source": [
    "X_train = siab_train.iloc[:,4:164]\n",
    "y_train = siab_train.iloc[:, [3]]"
   ]
  },
  {
   "cell_type": "code",
   "execution_count": 22,
   "id": "828c96af-f43a-4ed6-ba47-8ac73a47d56c",
   "metadata": {
    "execution": {
     "iopub.execute_input": "2025-07-30T20:15:57.909636Z",
     "iopub.status.busy": "2025-07-30T20:15:57.909076Z",
     "iopub.status.idle": "2025-07-30T20:15:57.962096Z",
     "shell.execute_reply": "2025-07-30T20:15:57.960955Z"
    },
    "papermill": {
     "duration": 0.078488,
     "end_time": "2025-07-30T20:15:57.963885",
     "exception": false,
     "start_time": "2025-07-30T20:15:57.885397",
     "status": "completed"
    },
    "tags": []
   },
   "outputs": [],
   "source": [
    "X_calib = siab_calib.iloc[:,4:164]\n",
    "y_calib = siab_calib.iloc[:, [3]]"
   ]
  },
  {
   "cell_type": "code",
   "execution_count": 23,
   "id": "c34be9c3-6bd6-476e-acd3-845840e303be",
   "metadata": {
    "execution": {
     "iopub.execute_input": "2025-07-30T20:15:58.012448Z",
     "iopub.status.busy": "2025-07-30T20:15:58.011511Z",
     "iopub.status.idle": "2025-07-30T20:15:58.066961Z",
     "shell.execute_reply": "2025-07-30T20:15:58.065822Z"
    },
    "papermill": {
     "duration": 0.081227,
     "end_time": "2025-07-30T20:15:58.068613",
     "exception": false,
     "start_time": "2025-07-30T20:15:57.987386",
     "status": "completed"
    },
    "tags": []
   },
   "outputs": [],
   "source": [
    "X_test = siab_test.iloc[:,4:164]\n",
    "y_true = siab_test.iloc[:, [3]]"
   ]
  },
  {
   "cell_type": "markdown",
   "id": "9901737e-04df-44f0-9100-f5ad144ed040",
   "metadata": {
    "papermill": {
     "duration": 0.011466,
     "end_time": "2025-07-30T20:15:58.092794",
     "exception": false,
     "start_time": "2025-07-30T20:15:58.081328",
     "status": "completed"
    },
    "tags": []
   },
   "source": [
    "# Splitting Data and Setting Training Data Size OLD VERSION"
   ]
  },
  {
   "cell_type": "code",
   "execution_count": 24,
   "id": "acbc8f7d-8fc8-4e86-8c59-5dcb0f58384b",
   "metadata": {
    "execution": {
     "iopub.execute_input": "2025-07-30T20:15:58.116696Z",
     "iopub.status.busy": "2025-07-30T20:15:58.115953Z",
     "iopub.status.idle": "2025-07-30T20:15:58.121819Z",
     "shell.execute_reply": "2025-07-30T20:15:58.121050Z"
    },
    "papermill": {
     "duration": 0.021802,
     "end_time": "2025-07-30T20:15:58.125365",
     "exception": false,
     "start_time": "2025-07-30T20:15:58.103563",
     "status": "completed"
    },
    "tags": []
   },
   "outputs": [],
   "source": [
    "#def sample_by_year(df, training_size, random_state=42):\n",
    "#    if training_size == \"2014\":\n",
    "#        return df[df[\"year\"] == 2014].reset_index(drop=True)\n",
    "#    \n",
    "#    size_map = {\n",
    "#        \"25k\": 5000,\n",
    "#        \"5k\": 1000,\n",
    "#        \"1k\": 200\n",
    "#    }\n",
    "#\n",
    "#    if training_size not in size_map:\n",
    "#        return df.reset_index(drop=True)  # use all data\n",
    "#\n",
    "#    n_per_year = size_map[training_size]\n",
    "#    grouped = df.groupby(\"year\")\n",
    "#    sampled = grouped.apply(lambda x: x.sample(n=min(n_per_year, len(x)), random_state=random_state))\n",
    "#    return sampled.reset_index(drop=True)"
   ]
  },
  {
   "cell_type": "code",
   "execution_count": 25,
   "id": "6d931f52-beaf-43ff-9e78-9d44a448d54e",
   "metadata": {
    "execution": {
     "iopub.execute_input": "2025-07-30T20:15:58.172982Z",
     "iopub.status.busy": "2025-07-30T20:15:58.172496Z",
     "iopub.status.idle": "2025-07-30T20:15:58.177948Z",
     "shell.execute_reply": "2025-07-30T20:15:58.176747Z"
    },
    "papermill": {
     "duration": 0.030834,
     "end_time": "2025-07-30T20:15:58.179780",
     "exception": false,
     "start_time": "2025-07-30T20:15:58.148946",
     "status": "completed"
    },
    "tags": []
   },
   "outputs": [],
   "source": [
    "#siab_s = sample_by_year(siab, universe[\"training_size\"])"
   ]
  },
  {
   "cell_type": "code",
   "execution_count": 26,
   "id": "5db0a40e-a4e2-4920-be85-b12ae061d70d",
   "metadata": {
    "execution": {
     "iopub.execute_input": "2025-07-30T20:15:58.228949Z",
     "iopub.status.busy": "2025-07-30T20:15:58.228384Z",
     "iopub.status.idle": "2025-07-30T20:15:58.233856Z",
     "shell.execute_reply": "2025-07-30T20:15:58.232832Z"
    },
    "papermill": {
     "duration": 0.031775,
     "end_time": "2025-07-30T20:15:58.235591",
     "exception": false,
     "start_time": "2025-07-30T20:15:58.203816",
     "status": "completed"
    },
    "tags": []
   },
   "outputs": [],
   "source": [
    "#display(siab_s.groupby(\"year\").size())"
   ]
  },
  {
   "cell_type": "code",
   "execution_count": 27,
   "id": "e6c733c5",
   "metadata": {
    "execution": {
     "iopub.execute_input": "2025-07-30T20:15:58.283365Z",
     "iopub.status.busy": "2025-07-30T20:15:58.282846Z",
     "iopub.status.idle": "2025-07-30T20:15:58.383758Z",
     "shell.execute_reply": "2025-07-30T20:15:58.382743Z"
    },
    "papermill": {
     "duration": 0.127082,
     "end_time": "2025-07-30T20:15:58.385937",
     "exception": false,
     "start_time": "2025-07-30T20:15:58.258855",
     "status": "completed"
    },
    "tags": []
   },
   "outputs": [],
   "source": [
    "# Auxiliary data needed downstream in the pipeline\n",
    "\n",
    "org_train = X_train.copy()\n",
    "org_test = X_test.copy()\n",
    "org_calib = X_calib.copy()"
   ]
  },
  {
   "cell_type": "code",
   "execution_count": 28,
   "id": "1466abac-c6da-4492-a62f-4240ae3783af",
   "metadata": {
    "execution": {
     "iopub.execute_input": "2025-07-30T20:15:58.433646Z",
     "iopub.status.busy": "2025-07-30T20:15:58.432937Z",
     "iopub.status.idle": "2025-07-30T20:15:58.438894Z",
     "shell.execute_reply": "2025-07-30T20:15:58.437991Z"
    },
    "papermill": {
     "duration": 0.031132,
     "end_time": "2025-07-30T20:15:58.440551",
     "exception": false,
     "start_time": "2025-07-30T20:15:58.409419",
     "status": "completed"
    },
    "tags": []
   },
   "outputs": [],
   "source": [
    "# put in other script?\n",
    "# Group sizes\n",
    "\n",
    "#def calculate_percentages(df, df_name):\n",
    "#    total_entries = len(df)\n",
    "#\n",
    "#    female_pct = (df['frau1'] == 1).mean() * 100\n",
    "#    non_german_pct = ((df['maxdeutsch1'] == 0) & (df['maxdeutsch.Missing.'] == 0)).mean() * 100\n",
    "#    non_german_male_pct = ((df['frau1'] == 0) & (df['maxdeutsch1'] == 0) & (df['maxdeutsch.Missing.'] == 0)).mean() * 100\n",
    "#    non_german_female_pct = ((df['frau1'] == 1) & (df['maxdeutsch1'] == 0) & (df['maxdeutsch.Missing.'] == 0)).mean() * 100\n",
    "#\n",
    "#    print(f\"--- {df_name} ---\")\n",
    "#    print(f\"Female: {female_pct:.2f}%\")\n",
    "#    print(f\"Non-German: {non_german_pct:.2f}%\")\n",
    "#    print(f\"Non-German Male: {non_german_male_pct:.2f}%\")\n",
    "#    print(f\"Non-German Female: {non_german_female_pct:.2f}%\\n\")\n",
    "#\n",
    "## Calculate for each DataFrame\n",
    "#calculate_percentages(siab_calib, \"siab_calib\")\n",
    "#calculate_percentages(siab_test, \"siab_test\")\n",
    "#calculate_percentages(siab_train, \"siab_train\")"
   ]
  },
  {
   "cell_type": "markdown",
   "id": "0a4a1b33",
   "metadata": {
    "papermill": {
     "duration": 0.023096,
     "end_time": "2025-07-30T20:15:58.487235",
     "exception": false,
     "start_time": "2025-07-30T20:15:58.464139",
     "status": "completed"
    },
    "tags": []
   },
   "source": [
    "# Preprocessing Data"
   ]
  },
  {
   "cell_type": "code",
   "execution_count": 29,
   "id": "ca879031",
   "metadata": {
    "execution": {
     "iopub.execute_input": "2025-07-30T20:15:58.533636Z",
     "iopub.status.busy": "2025-07-30T20:15:58.532979Z",
     "iopub.status.idle": "2025-07-30T20:15:58.539443Z",
     "shell.execute_reply": "2025-07-30T20:15:58.538396Z"
    },
    "papermill": {
     "duration": 0.031709,
     "end_time": "2025-07-30T20:15:58.541273",
     "exception": false,
     "start_time": "2025-07-30T20:15:58.509564",
     "status": "completed"
    },
    "tags": []
   },
   "outputs": [],
   "source": [
    "# EXCLUDE PROTECTED FEATURES\n",
    "# ----------------------\n",
    "# \"exclude_features\": \"none\", # \"nationality\", \"sex\", \"nationality-sex\"\n",
    "\n",
    "excluded_features = universe[\"exclude_features\"].split(\"-\") # split, e.g.: \"nationality-sex\" -> [\"nationality\", \"sex\"]\n",
    "excluded_features_dictionary = {\n",
    "    \"nationality\": [\"maxdeutsch1\", \"maxdeutsch.Missing.\"],\n",
    "    \"sex\": [\"frau1\"],\n",
    "    \"age\": [\"age\"],\n",
    "}\n"
   ]
  },
  {
   "cell_type": "code",
   "execution_count": 30,
   "id": "b745ac60",
   "metadata": {
    "execution": {
     "iopub.execute_input": "2025-07-30T20:15:58.589847Z",
     "iopub.status.busy": "2025-07-30T20:15:58.589335Z",
     "iopub.status.idle": "2025-07-30T20:15:58.595015Z",
     "shell.execute_reply": "2025-07-30T20:15:58.594107Z"
    },
    "papermill": {
     "duration": 0.031743,
     "end_time": "2025-07-30T20:15:58.597358",
     "exception": false,
     "start_time": "2025-07-30T20:15:58.565615",
     "status": "completed"
    },
    "tags": []
   },
   "outputs": [],
   "source": [
    "# Code nice names to column names\n",
    "\n",
    "excluded_features_columns = [\n",
    "    excluded_features_dictionary[f] for f in excluded_features if len(f) > 0 and f != \"none\"\n",
    "]"
   ]
  },
  {
   "cell_type": "code",
   "execution_count": 31,
   "id": "f84f73a2",
   "metadata": {
    "execution": {
     "iopub.execute_input": "2025-07-30T20:15:58.646973Z",
     "iopub.status.busy": "2025-07-30T20:15:58.646297Z",
     "iopub.status.idle": "2025-07-30T20:15:58.652592Z",
     "shell.execute_reply": "2025-07-30T20:15:58.651555Z"
    },
    "papermill": {
     "duration": 0.032744,
     "end_time": "2025-07-30T20:15:58.654251",
     "exception": false,
     "start_time": "2025-07-30T20:15:58.621507",
     "status": "completed"
    },
    "tags": []
   },
   "outputs": [],
   "source": [
    "from utils import flatten_once\n",
    "\n",
    "excluded_features_columns = flatten_once(excluded_features_columns)"
   ]
  },
  {
   "cell_type": "code",
   "execution_count": 32,
   "id": "884dea22",
   "metadata": {
    "execution": {
     "iopub.execute_input": "2025-07-30T20:15:58.702861Z",
     "iopub.status.busy": "2025-07-30T20:15:58.702370Z",
     "iopub.status.idle": "2025-07-30T20:15:58.727789Z",
     "shell.execute_reply": "2025-07-30T20:15:58.726850Z"
    },
    "papermill": {
     "duration": 0.051253,
     "end_time": "2025-07-30T20:15:58.729416",
     "exception": false,
     "start_time": "2025-07-30T20:15:58.678163",
     "status": "completed"
    },
    "tags": []
   },
   "outputs": [
    {
     "name": "stdout",
     "output_type": "stream",
     "text": [
      "Dropping features: ['maxdeutsch1', 'maxdeutsch.Missing.']\n"
     ]
    }
   ],
   "source": [
    "if len(excluded_features_columns) > 0:\n",
    "    print(f\"Dropping features: {excluded_features_columns}\")\n",
    "    X_train.drop(excluded_features_columns, axis=1, inplace=True)"
   ]
  },
  {
   "cell_type": "code",
   "execution_count": 33,
   "id": "95ab8b16",
   "metadata": {
    "execution": {
     "iopub.execute_input": "2025-07-30T20:15:58.778363Z",
     "iopub.status.busy": "2025-07-30T20:15:58.777846Z",
     "iopub.status.idle": "2025-07-30T20:15:58.835819Z",
     "shell.execute_reply": "2025-07-30T20:15:58.834681Z"
    },
    "papermill": {
     "duration": 0.084689,
     "end_time": "2025-07-30T20:15:58.837534",
     "exception": false,
     "start_time": "2025-07-30T20:15:58.752845",
     "status": "completed"
    },
    "tags": []
   },
   "outputs": [
    {
     "name": "stdout",
     "output_type": "stream",
     "text": [
      "Dropping features: ['maxdeutsch1', 'maxdeutsch.Missing.']\n"
     ]
    }
   ],
   "source": [
    "if len(excluded_features_columns) > 0:\n",
    "    print(f\"Dropping features: {excluded_features_columns}\")\n",
    "    X_test.drop(excluded_features_columns, axis=1, inplace=True)"
   ]
  },
  {
   "cell_type": "code",
   "execution_count": 34,
   "id": "1853aaf5-fb9f-46cb-a2b5-8ea4ae2237e4",
   "metadata": {
    "execution": {
     "iopub.execute_input": "2025-07-30T20:15:58.885925Z",
     "iopub.status.busy": "2025-07-30T20:15:58.885539Z",
     "iopub.status.idle": "2025-07-30T20:15:58.934291Z",
     "shell.execute_reply": "2025-07-30T20:15:58.933082Z"
    },
    "papermill": {
     "duration": 0.074698,
     "end_time": "2025-07-30T20:15:58.936107",
     "exception": false,
     "start_time": "2025-07-30T20:15:58.861409",
     "status": "completed"
    },
    "tags": []
   },
   "outputs": [
    {
     "name": "stdout",
     "output_type": "stream",
     "text": [
      "Dropping features: ['maxdeutsch1', 'maxdeutsch.Missing.']\n"
     ]
    }
   ],
   "source": [
    "if len(excluded_features_columns) > 0:\n",
    "    print(f\"Dropping features: {excluded_features_columns}\")\n",
    "    X_calib.drop(excluded_features_columns, axis=1, inplace=True)"
   ]
  },
  {
   "cell_type": "code",
   "execution_count": 35,
   "id": "6727d079-03e5-481e-9d38-292a90b7a0a8",
   "metadata": {
    "execution": {
     "iopub.execute_input": "2025-07-30T20:15:58.987086Z",
     "iopub.status.busy": "2025-07-30T20:15:58.986645Z",
     "iopub.status.idle": "2025-07-30T20:15:58.991945Z",
     "shell.execute_reply": "2025-07-30T20:15:58.990880Z"
    },
    "papermill": {
     "duration": 0.033502,
     "end_time": "2025-07-30T20:15:58.994280",
     "exception": false,
     "start_time": "2025-07-30T20:15:58.960778",
     "status": "completed"
    },
    "tags": []
   },
   "outputs": [],
   "source": [
    "# SPLIT & STRATIFY DATA\n",
    "# ----------------------"
   ]
  },
  {
   "cell_type": "code",
   "execution_count": 36,
   "id": "76c4dc6d",
   "metadata": {
    "execution": {
     "iopub.execute_input": "2025-07-30T20:15:59.060615Z",
     "iopub.status.busy": "2025-07-30T20:15:59.060187Z",
     "iopub.status.idle": "2025-07-30T20:15:59.066503Z",
     "shell.execute_reply": "2025-07-30T20:15:59.065250Z"
    },
    "papermill": {
     "duration": 0.042955,
     "end_time": "2025-07-30T20:15:59.068740",
     "exception": false,
     "start_time": "2025-07-30T20:15:59.025785",
     "status": "completed"
    },
    "tags": []
   },
   "outputs": [],
   "source": [
    "# EXCLUDE CERTAIN SUBGROUPS\n",
    "# ----------------------\n",
    "\n",
    "mode = universe.get(\"exclude_subgroups\", \"keep-all\") \n",
    "# Fetches the exclude_subgroups setting from the universe dict.\n",
    "# Defaults to \"keep-all\" if the key is missing."
   ]
  },
  {
   "cell_type": "code",
   "execution_count": 37,
   "id": "21994072",
   "metadata": {
    "execution": {
     "iopub.execute_input": "2025-07-30T20:15:59.138676Z",
     "iopub.status.busy": "2025-07-30T20:15:59.138061Z",
     "iopub.status.idle": "2025-07-30T20:15:59.146405Z",
     "shell.execute_reply": "2025-07-30T20:15:59.145205Z"
    },
    "papermill": {
     "duration": 0.051444,
     "end_time": "2025-07-30T20:15:59.153795",
     "exception": false,
     "start_time": "2025-07-30T20:15:59.102351",
     "status": "completed"
    },
    "tags": []
   },
   "outputs": [],
   "source": [
    "if mode == \"keep-all\":\n",
    "    keep_mask = pd.Series(True, index=org_train.index)\n",
    "\n",
    "# org_train contains the original feature columns from features_org (in Simson)\n",
    "# features_org contains unprocessed features, for me X_train at beginning ???\n",
    "# For keep-all, creates a boolean Series (keep_mask) of all True, so no rows are removed.\n",
    "\n",
    "elif mode == \"drop-non-german\":\n",
    "    keep_mask = org_train[\"maxdeutsch1\"] == 1 # ??? what about missing values?\n",
    "\n",
    "else:\n",
    "    raise ValueError(f\"Unsupported mode for exclude_subgroups: {mode}\")\n"
   ]
  },
  {
   "cell_type": "code",
   "execution_count": 38,
   "id": "71651440",
   "metadata": {
    "execution": {
     "iopub.execute_input": "2025-07-30T20:15:59.224597Z",
     "iopub.status.busy": "2025-07-30T20:15:59.223949Z",
     "iopub.status.idle": "2025-07-30T20:15:59.233227Z",
     "shell.execute_reply": "2025-07-30T20:15:59.232372Z"
    },
    "papermill": {
     "duration": 0.046889,
     "end_time": "2025-07-30T20:15:59.234592",
     "exception": false,
     "start_time": "2025-07-30T20:15:59.187703",
     "status": "completed"
    },
    "tags": []
   },
   "outputs": [
    {
     "name": "stdout",
     "output_type": "stream",
     "text": [
      "Dropping 3481 rows (13.92%) where mode='drop-non-german'\n"
     ]
    }
   ],
   "source": [
    "n_drop = (~keep_mask).sum() # Calculates how many rows are set to be dropped\n",
    "if n_drop > 0:\n",
    "    pct = n_drop / len(keep_mask) * 100\n",
    "    print(f\"Dropping {n_drop} rows ({pct:.2f}%) where mode='{mode}'\")"
   ]
  },
  {
   "cell_type": "code",
   "execution_count": 39,
   "id": "5fb8eee5",
   "metadata": {
    "execution": {
     "iopub.execute_input": "2025-07-30T20:15:59.280796Z",
     "iopub.status.busy": "2025-07-30T20:15:59.279958Z",
     "iopub.status.idle": "2025-07-30T20:15:59.302081Z",
     "shell.execute_reply": "2025-07-30T20:15:59.301119Z"
    },
    "papermill": {
     "duration": 0.050044,
     "end_time": "2025-07-30T20:15:59.304017",
     "exception": false,
     "start_time": "2025-07-30T20:15:59.253973",
     "status": "completed"
    },
    "tags": []
   },
   "outputs": [],
   "source": [
    "X_train = X_train[keep_mask]"
   ]
  },
  {
   "cell_type": "code",
   "execution_count": 40,
   "id": "b202bb3a",
   "metadata": {
    "execution": {
     "iopub.execute_input": "2025-07-30T20:15:59.356264Z",
     "iopub.status.busy": "2025-07-30T20:15:59.354772Z",
     "iopub.status.idle": "2025-07-30T20:15:59.362950Z",
     "shell.execute_reply": "2025-07-30T20:15:59.361883Z"
    },
    "papermill": {
     "duration": 0.036103,
     "end_time": "2025-07-30T20:15:59.364868",
     "exception": false,
     "start_time": "2025-07-30T20:15:59.328765",
     "status": "completed"
    },
    "tags": []
   },
   "outputs": [],
   "source": [
    "y_train = y_train[keep_mask]"
   ]
  },
  {
   "cell_type": "markdown",
   "id": "493e2ac3",
   "metadata": {
    "papermill": {
     "duration": 0.023075,
     "end_time": "2025-07-30T20:15:59.411898",
     "exception": false,
     "start_time": "2025-07-30T20:15:59.388823",
     "status": "completed"
    },
    "tags": []
   },
   "source": [
    "# Model Training"
   ]
  },
  {
   "cell_type": "code",
   "execution_count": 41,
   "id": "679e1268",
   "metadata": {
    "execution": {
     "iopub.execute_input": "2025-07-30T20:15:59.459787Z",
     "iopub.status.busy": "2025-07-30T20:15:59.459002Z",
     "iopub.status.idle": "2025-07-30T20:15:59.598324Z",
     "shell.execute_reply": "2025-07-30T20:15:59.597105Z"
    },
    "papermill": {
     "duration": 0.166033,
     "end_time": "2025-07-30T20:15:59.600413",
     "exception": false,
     "start_time": "2025-07-30T20:15:59.434380",
     "status": "completed"
    },
    "tags": []
   },
   "outputs": [],
   "source": [
    "from sklearn.linear_model import LogisticRegression\n",
    "from sklearn.ensemble import GradientBoostingClassifier, RandomForestClassifier\n",
    "\n",
    "if (universe[\"model\"] == \"logreg\"):\n",
    "    model = LogisticRegression() #penalty=\"none\") #, solver=\"newton-cg\", max_iter=1) # include random_state=19 ?\n",
    "elif (universe[\"model\"] == \"penalized_logreg\"):\n",
    "    model = LogisticRegression(penalty=\"l2\", C=1.0) #, solver=\"newton-cg\", max_iter=1)\n",
    "elif (universe[\"model\"] == \"rf\"):\n",
    "    model = RandomForestClassifier(n_estimators=100, n_jobs=-1)\n",
    "elif (universe[\"model\"] == \"gbm\"):\n",
    "    model = GradientBoostingClassifier()\n",
    "elif (universe[\"model\"] == \"elasticnet\"):\n",
    "    model = LogisticRegression(penalty = 'elasticnet', solver = 'saga', l1_ratio = 0.5, max_iter=5000) # which solver to use?\n",
    "else:\n",
    "    raise \"Unsupported universe.model\""
   ]
  },
  {
   "cell_type": "code",
   "execution_count": 42,
   "id": "0cc8f744",
   "metadata": {
    "execution": {
     "iopub.execute_input": "2025-07-30T20:15:59.652780Z",
     "iopub.status.busy": "2025-07-30T20:15:59.651776Z",
     "iopub.status.idle": "2025-07-30T20:15:59.659998Z",
     "shell.execute_reply": "2025-07-30T20:15:59.658922Z"
    },
    "papermill": {
     "duration": 0.036629,
     "end_time": "2025-07-30T20:15:59.662081",
     "exception": false,
     "start_time": "2025-07-30T20:15:59.625452",
     "status": "completed"
    },
    "tags": []
   },
   "outputs": [],
   "source": [
    "import numpy as np\n",
    "from sklearn.pipeline import Pipeline\n",
    "from sklearn.preprocessing import StandardScaler\n",
    "\n",
    "model = Pipeline([\n",
    "    #(\"continuous_processor\", continuous_processor),\n",
    "    #(\"categorical_preprocessor\", categorical_preprocessor),\n",
    "    (\"scale\", StandardScaler() if universe[\"scale\"] == \"scale\" else None), \n",
    "    (\"model\", model),\n",
    "])"
   ]
  },
  {
   "cell_type": "code",
   "execution_count": 43,
   "id": "9442c04d",
   "metadata": {
    "execution": {
     "iopub.execute_input": "2025-07-30T20:15:59.713944Z",
     "iopub.status.busy": "2025-07-30T20:15:59.713131Z",
     "iopub.status.idle": "2025-07-30T20:16:00.597195Z",
     "shell.execute_reply": "2025-07-30T20:16:00.596288Z"
    },
    "papermill": {
     "duration": 0.911254,
     "end_time": "2025-07-30T20:16:00.598631",
     "exception": false,
     "start_time": "2025-07-30T20:15:59.687377",
     "status": "completed"
    },
    "tags": []
   },
   "outputs": [
    {
     "name": "stderr",
     "output_type": "stream",
     "text": [
      "/dss/dsshome1/0C/ra93lal2/.local/share/virtualenvs/CMA_Fairness_v2-3j10GkSs/lib/python3.10/site-packages/sklearn/linear_model/_logistic.py:444: ConvergenceWarning: lbfgs failed to converge (status=1):\n",
      "STOP: TOTAL NO. of ITERATIONS REACHED LIMIT.\n",
      "\n",
      "Increase the number of iterations (max_iter) or scale the data as shown in:\n",
      "    https://scikit-learn.org/stable/modules/preprocessing.html\n",
      "Please also refer to the documentation for alternative solver options:\n",
      "    https://scikit-learn.org/stable/modules/linear_model.html#logistic-regression\n",
      "  n_iter_i = _check_optimize_result(\n"
     ]
    },
    {
     "data": {
      "text/html": [
       "<style>#sk-container-id-1 {color: black;background-color: white;}#sk-container-id-1 pre{padding: 0;}#sk-container-id-1 div.sk-toggleable {background-color: white;}#sk-container-id-1 label.sk-toggleable__label {cursor: pointer;display: block;width: 100%;margin-bottom: 0;padding: 0.3em;box-sizing: border-box;text-align: center;}#sk-container-id-1 label.sk-toggleable__label-arrow:before {content: \"▸\";float: left;margin-right: 0.25em;color: #696969;}#sk-container-id-1 label.sk-toggleable__label-arrow:hover:before {color: black;}#sk-container-id-1 div.sk-estimator:hover label.sk-toggleable__label-arrow:before {color: black;}#sk-container-id-1 div.sk-toggleable__content {max-height: 0;max-width: 0;overflow: hidden;text-align: left;background-color: #f0f8ff;}#sk-container-id-1 div.sk-toggleable__content pre {margin: 0.2em;color: black;border-radius: 0.25em;background-color: #f0f8ff;}#sk-container-id-1 input.sk-toggleable__control:checked~div.sk-toggleable__content {max-height: 200px;max-width: 100%;overflow: auto;}#sk-container-id-1 input.sk-toggleable__control:checked~label.sk-toggleable__label-arrow:before {content: \"▾\";}#sk-container-id-1 div.sk-estimator input.sk-toggleable__control:checked~label.sk-toggleable__label {background-color: #d4ebff;}#sk-container-id-1 div.sk-label input.sk-toggleable__control:checked~label.sk-toggleable__label {background-color: #d4ebff;}#sk-container-id-1 input.sk-hidden--visually {border: 0;clip: rect(1px 1px 1px 1px);clip: rect(1px, 1px, 1px, 1px);height: 1px;margin: -1px;overflow: hidden;padding: 0;position: absolute;width: 1px;}#sk-container-id-1 div.sk-estimator {font-family: monospace;background-color: #f0f8ff;border: 1px dotted black;border-radius: 0.25em;box-sizing: border-box;margin-bottom: 0.5em;}#sk-container-id-1 div.sk-estimator:hover {background-color: #d4ebff;}#sk-container-id-1 div.sk-parallel-item::after {content: \"\";width: 100%;border-bottom: 1px solid gray;flex-grow: 1;}#sk-container-id-1 div.sk-label:hover label.sk-toggleable__label {background-color: #d4ebff;}#sk-container-id-1 div.sk-serial::before {content: \"\";position: absolute;border-left: 1px solid gray;box-sizing: border-box;top: 0;bottom: 0;left: 50%;z-index: 0;}#sk-container-id-1 div.sk-serial {display: flex;flex-direction: column;align-items: center;background-color: white;padding-right: 0.2em;padding-left: 0.2em;position: relative;}#sk-container-id-1 div.sk-item {position: relative;z-index: 1;}#sk-container-id-1 div.sk-parallel {display: flex;align-items: stretch;justify-content: center;background-color: white;position: relative;}#sk-container-id-1 div.sk-item::before, #sk-container-id-1 div.sk-parallel-item::before {content: \"\";position: absolute;border-left: 1px solid gray;box-sizing: border-box;top: 0;bottom: 0;left: 50%;z-index: -1;}#sk-container-id-1 div.sk-parallel-item {display: flex;flex-direction: column;z-index: 1;position: relative;background-color: white;}#sk-container-id-1 div.sk-parallel-item:first-child::after {align-self: flex-end;width: 50%;}#sk-container-id-1 div.sk-parallel-item:last-child::after {align-self: flex-start;width: 50%;}#sk-container-id-1 div.sk-parallel-item:only-child::after {width: 0;}#sk-container-id-1 div.sk-dashed-wrapped {border: 1px dashed gray;margin: 0 0.4em 0.5em 0.4em;box-sizing: border-box;padding-bottom: 0.4em;background-color: white;}#sk-container-id-1 div.sk-label label {font-family: monospace;font-weight: bold;display: inline-block;line-height: 1.2em;}#sk-container-id-1 div.sk-label-container {text-align: center;}#sk-container-id-1 div.sk-container {/* jupyter's `normalize.less` sets `[hidden] { display: none; }` but bootstrap.min.css set `[hidden] { display: none !important; }` so we also need the `!important` here to be able to override the default hidden behavior on the sphinx rendered scikit-learn.org. See: https://github.com/scikit-learn/scikit-learn/issues/21755 */display: inline-block !important;position: relative;}#sk-container-id-1 div.sk-text-repr-fallback {display: none;}</style><div id=\"sk-container-id-1\" class=\"sk-top-container\"><div class=\"sk-text-repr-fallback\"><pre>Pipeline(steps=[(&#x27;scale&#x27;, None), (&#x27;model&#x27;, LogisticRegression())])</pre><b>In a Jupyter environment, please rerun this cell to show the HTML representation or trust the notebook. <br />On GitHub, the HTML representation is unable to render, please try loading this page with nbviewer.org.</b></div><div class=\"sk-container\" hidden><div class=\"sk-item sk-dashed-wrapped\"><div class=\"sk-label-container\"><div class=\"sk-label sk-toggleable\"><input class=\"sk-toggleable__control sk-hidden--visually\" id=\"sk-estimator-id-1\" type=\"checkbox\" ><label for=\"sk-estimator-id-1\" class=\"sk-toggleable__label sk-toggleable__label-arrow\">Pipeline</label><div class=\"sk-toggleable__content\"><pre>Pipeline(steps=[(&#x27;scale&#x27;, None), (&#x27;model&#x27;, LogisticRegression())])</pre></div></div></div><div class=\"sk-serial\"><div class=\"sk-item\"><div class=\"sk-estimator sk-toggleable\"><input class=\"sk-toggleable__control sk-hidden--visually\" id=\"sk-estimator-id-2\" type=\"checkbox\" ><label for=\"sk-estimator-id-2\" class=\"sk-toggleable__label sk-toggleable__label-arrow\">None</label><div class=\"sk-toggleable__content\"><pre>None</pre></div></div></div><div class=\"sk-item\"><div class=\"sk-estimator sk-toggleable\"><input class=\"sk-toggleable__control sk-hidden--visually\" id=\"sk-estimator-id-3\" type=\"checkbox\" ><label for=\"sk-estimator-id-3\" class=\"sk-toggleable__label sk-toggleable__label-arrow\">LogisticRegression</label><div class=\"sk-toggleable__content\"><pre>LogisticRegression()</pre></div></div></div></div></div></div></div>"
      ],
      "text/plain": [
       "Pipeline(steps=[('scale', None), ('model', LogisticRegression())])"
      ]
     },
     "execution_count": 43,
     "metadata": {},
     "output_type": "execute_result"
    }
   ],
   "source": [
    "model.fit(X_train, y_train.values.ravel())"
   ]
  },
  {
   "cell_type": "code",
   "execution_count": 44,
   "id": "af59f8c0",
   "metadata": {
    "execution": {
     "iopub.execute_input": "2025-07-30T20:16:00.648656Z",
     "iopub.status.busy": "2025-07-30T20:16:00.648078Z",
     "iopub.status.idle": "2025-07-30T20:16:00.654194Z",
     "shell.execute_reply": "2025-07-30T20:16:00.653126Z"
    },
    "papermill": {
     "duration": 0.032565,
     "end_time": "2025-07-30T20:16:00.656173",
     "exception": false,
     "start_time": "2025-07-30T20:16:00.623608",
     "status": "completed"
    },
    "tags": []
   },
   "outputs": [],
   "source": [
    "from fairness_multiverse.universe import predict_w_threshold"
   ]
  },
  {
   "cell_type": "code",
   "execution_count": 45,
   "id": "a7cf2e16",
   "metadata": {
    "execution": {
     "iopub.execute_input": "2025-07-30T20:16:00.693404Z",
     "iopub.status.busy": "2025-07-30T20:16:00.692879Z",
     "iopub.status.idle": "2025-07-30T20:16:00.795961Z",
     "shell.execute_reply": "2025-07-30T20:16:00.794998Z"
    },
    "papermill": {
     "duration": 0.119278,
     "end_time": "2025-07-30T20:16:00.797790",
     "exception": false,
     "start_time": "2025-07-30T20:16:00.678512",
     "status": "completed"
    },
    "tags": []
   },
   "outputs": [
    {
     "data": {
      "text/plain": [
       "0.8606844276000446"
      ]
     },
     "execution_count": 45,
     "metadata": {},
     "output_type": "execute_result"
    }
   ],
   "source": [
    "probs_test = model.predict_proba(X_test)\n",
    "\n",
    "'''\n",
    "Below code returns a boolean array (or binary 0/1 array depending on how it’s used) where each element \n",
    "is True if the probability of class 1 is greater than or equal to the threshold, and False otherwise.\n",
    "'''\n",
    "y_pred_default = predict_w_threshold(probs_test, 0.5)\n",
    "\n",
    "from sklearn.metrics import accuracy_score\n",
    "\n",
    "# Naive prediction\n",
    "accuracy_score(y_true = y_true, y_pred = y_pred_default)"
   ]
  },
  {
   "cell_type": "code",
   "execution_count": 46,
   "id": "081964c3",
   "metadata": {
    "execution": {
     "iopub.execute_input": "2025-07-30T20:16:00.861437Z",
     "iopub.status.busy": "2025-07-30T20:16:00.860896Z",
     "iopub.status.idle": "2025-07-30T20:16:00.950717Z",
     "shell.execute_reply": "2025-07-30T20:16:00.949699Z"
    },
    "papermill": {
     "duration": 0.130382,
     "end_time": "2025-07-30T20:16:00.952700",
     "exception": false,
     "start_time": "2025-07-30T20:16:00.822318",
     "status": "completed"
    },
    "tags": []
   },
   "outputs": [
    {
     "data": {
      "text/plain": [
       "array([0, 0, 0, ..., 0, 0, 0])"
      ]
     },
     "execution_count": 46,
     "metadata": {},
     "output_type": "execute_result"
    }
   ],
   "source": [
    "model.predict(X_test)"
   ]
  },
  {
   "cell_type": "markdown",
   "id": "56c9705b",
   "metadata": {
    "papermill": {
     "duration": 0.023138,
     "end_time": "2025-07-30T20:16:01.000360",
     "exception": false,
     "start_time": "2025-07-30T20:16:00.977222",
     "status": "completed"
    },
    "tags": []
   },
   "source": [
    "# Conformal Prediction"
   ]
  },
  {
   "cell_type": "code",
   "execution_count": 47,
   "id": "160ec6ff",
   "metadata": {
    "execution": {
     "iopub.execute_input": "2025-07-30T20:16:01.050609Z",
     "iopub.status.busy": "2025-07-30T20:16:01.050095Z",
     "iopub.status.idle": "2025-07-30T20:16:01.056077Z",
     "shell.execute_reply": "2025-07-30T20:16:01.055103Z"
    },
    "papermill": {
     "duration": 0.032934,
     "end_time": "2025-07-30T20:16:01.058017",
     "exception": false,
     "start_time": "2025-07-30T20:16:01.025083",
     "status": "completed"
    },
    "tags": []
   },
   "outputs": [],
   "source": [
    "# Miscoverage level for conformal prediction (10% allowed error rate => 90% target coverage)\n",
    "alpha = 0.1"
   ]
  },
  {
   "cell_type": "code",
   "execution_count": 48,
   "id": "eadf4555-3dd3-440e-8e35-f82a4ad9f855",
   "metadata": {
    "execution": {
     "iopub.execute_input": "2025-07-30T20:16:01.110099Z",
     "iopub.status.busy": "2025-07-30T20:16:01.109595Z",
     "iopub.status.idle": "2025-07-30T20:16:01.194509Z",
     "shell.execute_reply": "2025-07-30T20:16:01.193374Z"
    },
    "papermill": {
     "duration": 0.125805,
     "end_time": "2025-07-30T20:16:01.209473",
     "exception": false,
     "start_time": "2025-07-30T20:16:01.083668",
     "status": "completed"
    },
    "tags": []
   },
   "outputs": [],
   "source": [
    "probs_calib = model.predict_proba(X_calib)"
   ]
  },
  {
   "cell_type": "code",
   "execution_count": 49,
   "id": "2ed93547-6d5d-4983-9b36-1ecb300da49a",
   "metadata": {
    "execution": {
     "iopub.execute_input": "2025-07-30T20:16:01.261221Z",
     "iopub.status.busy": "2025-07-30T20:16:01.260307Z",
     "iopub.status.idle": "2025-07-30T20:16:01.266729Z",
     "shell.execute_reply": "2025-07-30T20:16:01.265703Z"
    },
    "papermill": {
     "duration": 0.033347,
     "end_time": "2025-07-30T20:16:01.268755",
     "exception": false,
     "start_time": "2025-07-30T20:16:01.235408",
     "status": "completed"
    },
    "tags": []
   },
   "outputs": [],
   "source": [
    "y_calib = y_calib.values.ravel().astype(int)"
   ]
  },
  {
   "cell_type": "code",
   "execution_count": 50,
   "id": "65d1320d-f588-4b38-9072-62af1ae97f7d",
   "metadata": {
    "execution": {
     "iopub.execute_input": "2025-07-30T20:16:01.321301Z",
     "iopub.status.busy": "2025-07-30T20:16:01.320764Z",
     "iopub.status.idle": "2025-07-30T20:16:01.329035Z",
     "shell.execute_reply": "2025-07-30T20:16:01.327660Z"
    },
    "papermill": {
     "duration": 0.036282,
     "end_time": "2025-07-30T20:16:01.331249",
     "exception": false,
     "start_time": "2025-07-30T20:16:01.294967",
     "status": "completed"
    },
    "tags": []
   },
   "outputs": [],
   "source": [
    "from fairness_multiverse.conformal import compute_nc_scores\n",
    "\n",
    "# Compute nonconformity scores on calibration set (1 - probability of true class)\n",
    "nc_scores = compute_nc_scores(probs_calib, y_calib)"
   ]
  },
  {
   "cell_type": "code",
   "execution_count": 51,
   "id": "df3b8ca3-53b7-43d5-9667-7c85da7aeda2",
   "metadata": {
    "execution": {
     "iopub.execute_input": "2025-07-30T20:16:01.384876Z",
     "iopub.status.busy": "2025-07-30T20:16:01.384145Z",
     "iopub.status.idle": "2025-07-30T20:16:01.391405Z",
     "shell.execute_reply": "2025-07-30T20:16:01.390140Z"
    },
    "papermill": {
     "duration": 0.03517,
     "end_time": "2025-07-30T20:16:01.393299",
     "exception": false,
     "start_time": "2025-07-30T20:16:01.358129",
     "status": "completed"
    },
    "tags": []
   },
   "outputs": [],
   "source": [
    "from fairness_multiverse.conformal import find_threshold\n",
    "\n",
    "# Find conformal threshold q_hat for the given alpha (split conformal method)\n",
    "q_hat = find_threshold(nc_scores, alpha)"
   ]
  },
  {
   "cell_type": "code",
   "execution_count": 52,
   "id": "4d29e6c1-0ef6-4aa4-b8fe-4fe79b0d033a",
   "metadata": {
    "execution": {
     "iopub.execute_input": "2025-07-30T20:16:01.424869Z",
     "iopub.status.busy": "2025-07-30T20:16:01.424365Z",
     "iopub.status.idle": "2025-07-30T20:16:01.432505Z",
     "shell.execute_reply": "2025-07-30T20:16:01.431270Z"
    },
    "papermill": {
     "duration": 0.024331,
     "end_time": "2025-07-30T20:16:01.434484",
     "exception": false,
     "start_time": "2025-07-30T20:16:01.410153",
     "status": "completed"
    },
    "tags": []
   },
   "outputs": [
    {
     "data": {
      "text/plain": [
       "0.6643006505604478"
      ]
     },
     "execution_count": 52,
     "metadata": {},
     "output_type": "execute_result"
    }
   ],
   "source": [
    "q_hat"
   ]
  },
  {
   "cell_type": "code",
   "execution_count": 53,
   "id": "92460794-cdac-4be2-ba28-f28c0515a6fb",
   "metadata": {
    "execution": {
     "iopub.execute_input": "2025-07-30T20:16:01.490006Z",
     "iopub.status.busy": "2025-07-30T20:16:01.489215Z",
     "iopub.status.idle": "2025-07-30T20:16:02.292323Z",
     "shell.execute_reply": "2025-07-30T20:16:02.290957Z"
    },
    "papermill": {
     "duration": 0.833354,
     "end_time": "2025-07-30T20:16:02.294385",
     "exception": false,
     "start_time": "2025-07-30T20:16:01.461031",
     "status": "completed"
    },
    "tags": []
   },
   "outputs": [],
   "source": [
    "from fairness_multiverse.conformal import predict_conformal_sets\n",
    "\n",
    "# Generate prediction sets for each test example\n",
    "pred_sets = predict_conformal_sets(model, X_test, q_hat)"
   ]
  },
  {
   "cell_type": "code",
   "execution_count": 54,
   "id": "d90c9a65-e6db-4f5d-80cd-e68fb7e46829",
   "metadata": {
    "execution": {
     "iopub.execute_input": "2025-07-30T20:16:02.351960Z",
     "iopub.status.busy": "2025-07-30T20:16:02.351370Z",
     "iopub.status.idle": "2025-07-30T20:16:02.358639Z",
     "shell.execute_reply": "2025-07-30T20:16:02.357316Z"
    },
    "papermill": {
     "duration": 0.038767,
     "end_time": "2025-07-30T20:16:02.361122",
     "exception": false,
     "start_time": "2025-07-30T20:16:02.322355",
     "status": "completed"
    },
    "tags": []
   },
   "outputs": [],
   "source": [
    "y_true = y_true.squeeze()"
   ]
  },
  {
   "cell_type": "code",
   "execution_count": 55,
   "id": "3a58a54a-1e68-46b9-927a-df01f18aebc8",
   "metadata": {
    "execution": {
     "iopub.execute_input": "2025-07-30T20:16:02.436247Z",
     "iopub.status.busy": "2025-07-30T20:16:02.435743Z",
     "iopub.status.idle": "2025-07-30T20:16:03.374028Z",
     "shell.execute_reply": "2025-07-30T20:16:03.372998Z"
    },
    "papermill": {
     "duration": 0.967851,
     "end_time": "2025-07-30T20:16:03.375608",
     "exception": false,
     "start_time": "2025-07-30T20:16:02.407757",
     "status": "completed"
    },
    "tags": []
   },
   "outputs": [],
   "source": [
    "from fairness_multiverse.conformal import evaluate_sets\n",
    "\n",
    "# Evaluate coverage and average set size on test data\n",
    "metrics = evaluate_sets(pred_sets, y_true)"
   ]
  },
  {
   "cell_type": "markdown",
   "id": "2b569c12-9aaa-4c88-98c9-bbcd0cf3ebb8",
   "metadata": {
    "papermill": {
     "duration": 0.027752,
     "end_time": "2025-07-30T20:16:03.428984",
     "exception": false,
     "start_time": "2025-07-30T20:16:03.401232",
     "status": "completed"
    },
    "tags": []
   },
   "source": [
    "# CP Metrics"
   ]
  },
  {
   "cell_type": "code",
   "execution_count": 56,
   "id": "5ce0a5cb-201f-45a0-ade5-94c7f0bd6095",
   "metadata": {
    "execution": {
     "iopub.execute_input": "2025-07-30T20:16:03.530325Z",
     "iopub.status.busy": "2025-07-30T20:16:03.529837Z",
     "iopub.status.idle": "2025-07-30T20:16:03.537307Z",
     "shell.execute_reply": "2025-07-30T20:16:03.536123Z"
    },
    "papermill": {
     "duration": 0.036051,
     "end_time": "2025-07-30T20:16:03.539207",
     "exception": false,
     "start_time": "2025-07-30T20:16:03.503156",
     "status": "completed"
    },
    "tags": []
   },
   "outputs": [
    {
     "data": {
      "text/plain": [
       "{'coverage': 0.9114479991082377, 'avg_size': 1.217812952848066}"
      ]
     },
     "execution_count": 56,
     "metadata": {},
     "output_type": "execute_result"
    }
   ],
   "source": [
    "metrics"
   ]
  },
  {
   "cell_type": "code",
   "execution_count": 57,
   "id": "9b9a838d-31c9-430b-ae14-12baee460d17",
   "metadata": {
    "execution": {
     "iopub.execute_input": "2025-07-30T20:16:03.594047Z",
     "iopub.status.busy": "2025-07-30T20:16:03.593361Z",
     "iopub.status.idle": "2025-07-30T20:16:03.602441Z",
     "shell.execute_reply": "2025-07-30T20:16:03.601174Z"
    },
    "papermill": {
     "duration": 0.037632,
     "end_time": "2025-07-30T20:16:03.604436",
     "exception": false,
     "start_time": "2025-07-30T20:16:03.566804",
     "status": "completed"
    },
    "tags": []
   },
   "outputs": [],
   "source": [
    "example_universe = universe.copy()\n",
    "universe_training_year = example_universe.get(\"training_year\")\n",
    "universe_training_size = example_universe.get(\"training_size\")\n",
    "universe_scale = example_universe.get(\"scale\")\n",
    "universe_model = example_universe.get(\"model\")\n",
    "universe_exclude_features = example_universe.get(\"exclude_features\")\n",
    "universe_exclude_subgroups = example_universe.get(\"exclude_subgroups\")"
   ]
  },
  {
   "cell_type": "code",
   "execution_count": 58,
   "id": "f4b6a8ac-9dc0-4245-8a91-5b3b5999c4f9",
   "metadata": {
    "execution": {
     "iopub.execute_input": "2025-07-30T20:16:03.660565Z",
     "iopub.status.busy": "2025-07-30T20:16:03.659677Z",
     "iopub.status.idle": "2025-07-30T20:16:03.666980Z",
     "shell.execute_reply": "2025-07-30T20:16:03.665798Z"
    },
    "papermill": {
     "duration": 0.038316,
     "end_time": "2025-07-30T20:16:03.671130",
     "exception": false,
     "start_time": "2025-07-30T20:16:03.632814",
     "status": "completed"
    },
    "tags": []
   },
   "outputs": [],
   "source": [
    "cp_metrics_dict = {\n",
    "    \"universe_id\": [universe_id],\n",
    "    \"universe_training_year\": [universe_training_year],\n",
    "    \"universe_training_size\": [universe_training_size],\n",
    "    \"universe_scale\": [universe_scale],\n",
    "    \"universe_model\": [universe_model],\n",
    "    \"universe_exclude_features\": [universe_exclude_features],\n",
    "    \"universe_exclude_subgroups\": [universe_exclude_subgroups],\n",
    "    \"q_hat\": [q_hat],\n",
    "    \"coverage\": [metrics[\"coverage\"]],\n",
    "    \"avg_size\": [metrics[\"avg_size\"]],\n",
    "}"
   ]
  },
  {
   "cell_type": "code",
   "execution_count": 59,
   "id": "908acbb1-0371-4915-85ca-3fa520d2efe2",
   "metadata": {
    "execution": {
     "iopub.execute_input": "2025-07-30T20:16:03.744123Z",
     "iopub.status.busy": "2025-07-30T20:16:03.743006Z",
     "iopub.status.idle": "2025-07-30T20:16:03.751283Z",
     "shell.execute_reply": "2025-07-30T20:16:03.750160Z"
    },
    "papermill": {
     "duration": 0.046641,
     "end_time": "2025-07-30T20:16:03.753312",
     "exception": false,
     "start_time": "2025-07-30T20:16:03.706671",
     "status": "completed"
    },
    "tags": []
   },
   "outputs": [
    {
     "data": {
      "text/plain": [
       "{'universe_id': ['7d3dea0d9c22d9cddf0154c8bd9be6dd'],\n",
       " 'universe_training_year': ['2012_14'],\n",
       " 'universe_training_size': ['25k'],\n",
       " 'universe_scale': ['do-not-scale'],\n",
       " 'universe_model': ['logreg'],\n",
       " 'universe_exclude_features': ['nationality'],\n",
       " 'universe_exclude_subgroups': ['drop-non-german'],\n",
       " 'q_hat': [0.6643006505604478],\n",
       " 'coverage': [0.9114479991082377],\n",
       " 'avg_size': [1.217812952848066]}"
      ]
     },
     "execution_count": 59,
     "metadata": {},
     "output_type": "execute_result"
    }
   ],
   "source": [
    "cp_metrics_dict"
   ]
  },
  {
   "cell_type": "code",
   "execution_count": 60,
   "id": "33007efc-14e9-4ec6-97ac-56a455c82265",
   "metadata": {
    "execution": {
     "iopub.execute_input": "2025-07-30T20:16:03.811694Z",
     "iopub.status.busy": "2025-07-30T20:16:03.810867Z",
     "iopub.status.idle": "2025-07-30T20:16:03.819114Z",
     "shell.execute_reply": "2025-07-30T20:16:03.818060Z"
    },
    "papermill": {
     "duration": 0.039376,
     "end_time": "2025-07-30T20:16:03.821198",
     "exception": false,
     "start_time": "2025-07-30T20:16:03.781822",
     "status": "completed"
    },
    "tags": []
   },
   "outputs": [],
   "source": [
    "cp_metrics_df = pd.DataFrame(cp_metrics_dict)"
   ]
  },
  {
   "cell_type": "code",
   "execution_count": 61,
   "id": "db12611b-57b2-4910-b9d0-355adfd6e7bf",
   "metadata": {
    "execution": {
     "iopub.execute_input": "2025-07-30T20:16:03.879850Z",
     "iopub.status.busy": "2025-07-30T20:16:03.879172Z",
     "iopub.status.idle": "2025-07-30T20:16:03.899013Z",
     "shell.execute_reply": "2025-07-30T20:16:03.898052Z"
    },
    "papermill": {
     "duration": 0.049926,
     "end_time": "2025-07-30T20:16:03.900662",
     "exception": false,
     "start_time": "2025-07-30T20:16:03.850736",
     "status": "completed"
    },
    "tags": []
   },
   "outputs": [
    {
     "data": {
      "text/html": [
       "<div>\n",
       "<style scoped>\n",
       "    .dataframe tbody tr th:only-of-type {\n",
       "        vertical-align: middle;\n",
       "    }\n",
       "\n",
       "    .dataframe tbody tr th {\n",
       "        vertical-align: top;\n",
       "    }\n",
       "\n",
       "    .dataframe thead th {\n",
       "        text-align: right;\n",
       "    }\n",
       "</style>\n",
       "<table border=\"1\" class=\"dataframe\">\n",
       "  <thead>\n",
       "    <tr style=\"text-align: right;\">\n",
       "      <th></th>\n",
       "      <th>universe_id</th>\n",
       "      <th>universe_training_year</th>\n",
       "      <th>universe_training_size</th>\n",
       "      <th>universe_scale</th>\n",
       "      <th>universe_model</th>\n",
       "      <th>universe_exclude_features</th>\n",
       "      <th>universe_exclude_subgroups</th>\n",
       "      <th>q_hat</th>\n",
       "      <th>coverage</th>\n",
       "      <th>avg_size</th>\n",
       "    </tr>\n",
       "  </thead>\n",
       "  <tbody>\n",
       "    <tr>\n",
       "      <th>0</th>\n",
       "      <td>7d3dea0d9c22d9cddf0154c8bd9be6dd</td>\n",
       "      <td>2012_14</td>\n",
       "      <td>25k</td>\n",
       "      <td>do-not-scale</td>\n",
       "      <td>logreg</td>\n",
       "      <td>nationality</td>\n",
       "      <td>drop-non-german</td>\n",
       "      <td>0.664301</td>\n",
       "      <td>0.911448</td>\n",
       "      <td>1.217813</td>\n",
       "    </tr>\n",
       "  </tbody>\n",
       "</table>\n",
       "</div>"
      ],
      "text/plain": [
       "                        universe_id universe_training_year  \\\n",
       "0  7d3dea0d9c22d9cddf0154c8bd9be6dd                2012_14   \n",
       "\n",
       "  universe_training_size universe_scale universe_model  \\\n",
       "0                    25k   do-not-scale         logreg   \n",
       "\n",
       "  universe_exclude_features universe_exclude_subgroups     q_hat  coverage  \\\n",
       "0               nationality            drop-non-german  0.664301  0.911448   \n",
       "\n",
       "   avg_size  \n",
       "0  1.217813  "
      ]
     },
     "execution_count": 61,
     "metadata": {},
     "output_type": "execute_result"
    }
   ],
   "source": [
    "cp_metrics_df"
   ]
  },
  {
   "cell_type": "code",
   "execution_count": 62,
   "id": "b7fbde55-a0a1-47e4-9af6-fe4a17fa8c61",
   "metadata": {
    "execution": {
     "iopub.execute_input": "2025-07-30T20:16:03.958382Z",
     "iopub.status.busy": "2025-07-30T20:16:03.957868Z",
     "iopub.status.idle": "2025-07-30T20:16:03.963376Z",
     "shell.execute_reply": "2025-07-30T20:16:03.962396Z"
    },
    "papermill": {
     "duration": 0.038223,
     "end_time": "2025-07-30T20:16:03.965489",
     "exception": false,
     "start_time": "2025-07-30T20:16:03.927266",
     "status": "completed"
    },
    "tags": []
   },
   "outputs": [],
   "source": [
    "# Conditional Coverage & looking at subgroups"
   ]
  },
  {
   "cell_type": "code",
   "execution_count": 63,
   "id": "027ae886-68dd-4141-96c7-805a5450e1ef",
   "metadata": {
    "execution": {
     "iopub.execute_input": "2025-07-30T20:16:04.027027Z",
     "iopub.status.busy": "2025-07-30T20:16:04.026520Z",
     "iopub.status.idle": "2025-07-30T20:16:04.323884Z",
     "shell.execute_reply": "2025-07-30T20:16:04.322525Z"
    },
    "papermill": {
     "duration": 0.330839,
     "end_time": "2025-07-30T20:16:04.326451",
     "exception": false,
     "start_time": "2025-07-30T20:16:03.995612",
     "status": "completed"
    },
    "tags": []
   },
   "outputs": [],
   "source": [
    "from fairness_multiverse.conformal import build_cp_groups\n",
    "\n",
    "cp_groups_df = build_cp_groups(pred_sets, y_true, X_test.index, org_test)\n",
    "#needs universe_id and setting"
   ]
  },
  {
   "cell_type": "code",
   "execution_count": 64,
   "id": "01d5802c-663a-4d1f-9d69-e036faaffbf7",
   "metadata": {
    "execution": {
     "iopub.execute_input": "2025-07-30T20:16:04.389738Z",
     "iopub.status.busy": "2025-07-30T20:16:04.389210Z",
     "iopub.status.idle": "2025-07-30T20:16:04.395115Z",
     "shell.execute_reply": "2025-07-30T20:16:04.394021Z"
    },
    "papermill": {
     "duration": 0.04028,
     "end_time": "2025-07-30T20:16:04.397392",
     "exception": false,
     "start_time": "2025-07-30T20:16:04.357112",
     "status": "completed"
    },
    "tags": []
   },
   "outputs": [],
   "source": [
    "#delete\n",
    "#cp_groups_df"
   ]
  },
  {
   "cell_type": "code",
   "execution_count": 65,
   "id": "fa424af1-d1eb-443d-b717-2d279ada8408",
   "metadata": {
    "execution": {
     "iopub.execute_input": "2025-07-30T20:16:04.457747Z",
     "iopub.status.busy": "2025-07-30T20:16:04.457269Z",
     "iopub.status.idle": "2025-07-30T20:16:04.462656Z",
     "shell.execute_reply": "2025-07-30T20:16:04.461525Z"
    },
    "papermill": {
     "duration": 0.037403,
     "end_time": "2025-07-30T20:16:04.464552",
     "exception": false,
     "start_time": "2025-07-30T20:16:04.427149",
     "status": "completed"
    },
    "tags": []
   },
   "outputs": [],
   "source": [
    "#delete\n",
    "#percentage = (cp_groups_df['nongerman_female'] == 1).mean() * 100\n",
    "#print(percentage)\n"
   ]
  },
  {
   "cell_type": "code",
   "execution_count": 66,
   "id": "6cbdab96-b2b2-45af-ad54-d0516db2e28d",
   "metadata": {
    "execution": {
     "iopub.execute_input": "2025-07-30T20:16:04.527961Z",
     "iopub.status.busy": "2025-07-30T20:16:04.527260Z",
     "iopub.status.idle": "2025-07-30T20:16:05.817370Z",
     "shell.execute_reply": "2025-07-30T20:16:05.816347Z"
    },
    "papermill": {
     "duration": 1.323572,
     "end_time": "2025-07-30T20:16:05.819238",
     "exception": false,
     "start_time": "2025-07-30T20:16:04.495666",
     "status": "completed"
    },
    "tags": []
   },
   "outputs": [],
   "source": [
    "# Define covered = 1 if true_label is in the predicted set\n",
    "cp_groups_df['covered'] = cp_groups_df.apply(\n",
    "    lambda r: int(r['true_label'] in r['pred_set']),\n",
    "    axis=1\n",
    ")"
   ]
  },
  {
   "cell_type": "code",
   "execution_count": 67,
   "id": "338ff529-1a6b-4b87-a931-8e4788d52aad",
   "metadata": {
    "execution": {
     "iopub.execute_input": "2025-07-30T20:16:05.874886Z",
     "iopub.status.busy": "2025-07-30T20:16:05.873961Z",
     "iopub.status.idle": "2025-07-30T20:16:05.879345Z",
     "shell.execute_reply": "2025-07-30T20:16:05.878333Z"
    },
    "papermill": {
     "duration": 0.037622,
     "end_time": "2025-07-30T20:16:05.881115",
     "exception": false,
     "start_time": "2025-07-30T20:16:05.843493",
     "status": "completed"
    },
    "tags": []
   },
   "outputs": [],
   "source": [
    "#cp_groups_df"
   ]
  },
  {
   "cell_type": "code",
   "execution_count": 68,
   "id": "90032e27-66df-4540-9169-4e89cfbaa758",
   "metadata": {
    "execution": {
     "iopub.execute_input": "2025-07-30T20:16:05.934584Z",
     "iopub.status.busy": "2025-07-30T20:16:05.933999Z",
     "iopub.status.idle": "2025-07-30T20:16:05.951090Z",
     "shell.execute_reply": "2025-07-30T20:16:05.950387Z"
    },
    "papermill": {
     "duration": 0.047039,
     "end_time": "2025-07-30T20:16:05.952325",
     "exception": false,
     "start_time": "2025-07-30T20:16:05.905286",
     "status": "completed"
    },
    "tags": []
   },
   "outputs": [],
   "source": [
    "subgroups = ['frau1','nongerman','nongerman_male','nongerman_female']\n",
    "\n",
    "# Conditional coverage for subgroup==1\n",
    "cond_coverage = {\n",
    "    g: cp_groups_df.loc[cp_groups_df[g]==1, 'covered'].mean()\n",
    "    for g in subgroups\n",
    "}"
   ]
  },
  {
   "cell_type": "code",
   "execution_count": 69,
   "id": "1e348fb1-b9c3-45bc-ba23-f016827a7e0d",
   "metadata": {
    "execution": {
     "iopub.execute_input": "2025-07-30T20:16:05.986317Z",
     "iopub.status.busy": "2025-07-30T20:16:05.985583Z",
     "iopub.status.idle": "2025-07-30T20:16:05.992403Z",
     "shell.execute_reply": "2025-07-30T20:16:05.991180Z"
    },
    "papermill": {
     "duration": 0.02267,
     "end_time": "2025-07-30T20:16:05.994099",
     "exception": false,
     "start_time": "2025-07-30T20:16:05.971429",
     "status": "completed"
    },
    "tags": []
   },
   "outputs": [
    {
     "data": {
      "text/plain": [
       "{'frau1': 0.9097722064968324,\n",
       " 'nongerman': 0.9385280413181384,\n",
       " 'nongerman_male': 0.9501936413581915,\n",
       " 'nongerman_female': 0.9192250372578241}"
      ]
     },
     "execution_count": 69,
     "metadata": {},
     "output_type": "execute_result"
    }
   ],
   "source": [
    "cond_coverage"
   ]
  },
  {
   "cell_type": "code",
   "execution_count": 70,
   "id": "f5093324-c3dd-4d63-bc4c-8d945e5c8bbb",
   "metadata": {
    "execution": {
     "iopub.execute_input": "2025-07-30T20:16:06.050466Z",
     "iopub.status.busy": "2025-07-30T20:16:06.049710Z",
     "iopub.status.idle": "2025-07-30T20:16:06.058948Z",
     "shell.execute_reply": "2025-07-30T20:16:06.057661Z"
    },
    "papermill": {
     "duration": 0.039083,
     "end_time": "2025-07-30T20:16:06.060963",
     "exception": false,
     "start_time": "2025-07-30T20:16:06.021880",
     "status": "completed"
    },
    "tags": []
   },
   "outputs": [],
   "source": [
    "for subgroup, cov in cond_coverage.items():\n",
    "    cp_metrics_df[f\"cov_{subgroup}\"] = cov"
   ]
  },
  {
   "cell_type": "code",
   "execution_count": 71,
   "id": "6e872e10-dbe5-49e8-b554-5030c98ff75d",
   "metadata": {
    "execution": {
     "iopub.execute_input": "2025-07-30T20:16:06.116621Z",
     "iopub.status.busy": "2025-07-30T20:16:06.115831Z",
     "iopub.status.idle": "2025-07-30T20:16:06.136203Z",
     "shell.execute_reply": "2025-07-30T20:16:06.135121Z"
    },
    "papermill": {
     "duration": 0.049366,
     "end_time": "2025-07-30T20:16:06.138050",
     "exception": false,
     "start_time": "2025-07-30T20:16:06.088684",
     "status": "completed"
    },
    "tags": []
   },
   "outputs": [
    {
     "data": {
      "text/html": [
       "<div>\n",
       "<style scoped>\n",
       "    .dataframe tbody tr th:only-of-type {\n",
       "        vertical-align: middle;\n",
       "    }\n",
       "\n",
       "    .dataframe tbody tr th {\n",
       "        vertical-align: top;\n",
       "    }\n",
       "\n",
       "    .dataframe thead th {\n",
       "        text-align: right;\n",
       "    }\n",
       "</style>\n",
       "<table border=\"1\" class=\"dataframe\">\n",
       "  <thead>\n",
       "    <tr style=\"text-align: right;\">\n",
       "      <th></th>\n",
       "      <th>universe_id</th>\n",
       "      <th>universe_training_year</th>\n",
       "      <th>universe_training_size</th>\n",
       "      <th>universe_scale</th>\n",
       "      <th>universe_model</th>\n",
       "      <th>universe_exclude_features</th>\n",
       "      <th>universe_exclude_subgroups</th>\n",
       "      <th>q_hat</th>\n",
       "      <th>coverage</th>\n",
       "      <th>avg_size</th>\n",
       "      <th>cov_frau1</th>\n",
       "      <th>cov_nongerman</th>\n",
       "      <th>cov_nongerman_male</th>\n",
       "      <th>cov_nongerman_female</th>\n",
       "    </tr>\n",
       "  </thead>\n",
       "  <tbody>\n",
       "    <tr>\n",
       "      <th>0</th>\n",
       "      <td>7d3dea0d9c22d9cddf0154c8bd9be6dd</td>\n",
       "      <td>2012_14</td>\n",
       "      <td>25k</td>\n",
       "      <td>do-not-scale</td>\n",
       "      <td>logreg</td>\n",
       "      <td>nationality</td>\n",
       "      <td>drop-non-german</td>\n",
       "      <td>0.664301</td>\n",
       "      <td>0.911448</td>\n",
       "      <td>1.217813</td>\n",
       "      <td>0.909772</td>\n",
       "      <td>0.938528</td>\n",
       "      <td>0.950194</td>\n",
       "      <td>0.919225</td>\n",
       "    </tr>\n",
       "  </tbody>\n",
       "</table>\n",
       "</div>"
      ],
      "text/plain": [
       "                        universe_id universe_training_year  \\\n",
       "0  7d3dea0d9c22d9cddf0154c8bd9be6dd                2012_14   \n",
       "\n",
       "  universe_training_size universe_scale universe_model  \\\n",
       "0                    25k   do-not-scale         logreg   \n",
       "\n",
       "  universe_exclude_features universe_exclude_subgroups     q_hat  coverage  \\\n",
       "0               nationality            drop-non-german  0.664301  0.911448   \n",
       "\n",
       "   avg_size  cov_frau1  cov_nongerman  cov_nongerman_male  \\\n",
       "0  1.217813   0.909772       0.938528            0.950194   \n",
       "\n",
       "   cov_nongerman_female  \n",
       "0              0.919225  "
      ]
     },
     "execution_count": 71,
     "metadata": {},
     "output_type": "execute_result"
    }
   ],
   "source": [
    "cp_metrics_df"
   ]
  },
  {
   "cell_type": "markdown",
   "id": "33774451",
   "metadata": {
    "papermill": {
     "duration": 0.02821,
     "end_time": "2025-07-30T20:16:06.194750",
     "exception": false,
     "start_time": "2025-07-30T20:16:06.166540",
     "status": "completed"
    },
    "tags": []
   },
   "source": [
    "# (Fairness) Metrics"
   ]
  },
  {
   "cell_type": "code",
   "execution_count": 72,
   "id": "debc5d62",
   "metadata": {
    "execution": {
     "iopub.execute_input": "2025-07-30T20:16:06.251186Z",
     "iopub.status.busy": "2025-07-30T20:16:06.250270Z",
     "iopub.status.idle": "2025-07-30T20:16:06.272306Z",
     "shell.execute_reply": "2025-07-30T20:16:06.271332Z"
    },
    "papermill": {
     "duration": 0.051784,
     "end_time": "2025-07-30T20:16:06.274245",
     "exception": false,
     "start_time": "2025-07-30T20:16:06.222461",
     "status": "completed"
    },
    "tags": []
   },
   "outputs": [],
   "source": [
    "# do I need to include maxdeutsch1.missing?\n",
    "\n",
    "import numpy as np\n",
    "\n",
    "colname_to_bin = \"maxdeutsch1\"\n",
    "majority_value = org_train[colname_to_bin].mode()[0]\n",
    "\n",
    "org_test[\"majmin\"] = np.where(org_test[colname_to_bin] == majority_value, \"majority\", \"minority\")"
   ]
  },
  {
   "cell_type": "code",
   "execution_count": 73,
   "id": "06a50de5",
   "metadata": {
    "execution": {
     "iopub.execute_input": "2025-07-30T20:16:06.329581Z",
     "iopub.status.busy": "2025-07-30T20:16:06.329104Z",
     "iopub.status.idle": "2025-07-30T20:16:08.105384Z",
     "shell.execute_reply": "2025-07-30T20:16:08.104281Z"
    },
    "papermill": {
     "duration": 1.806302,
     "end_time": "2025-07-30T20:16:08.107769",
     "exception": false,
     "start_time": "2025-07-30T20:16:06.301467",
     "status": "completed"
    },
    "tags": []
   },
   "outputs": [],
   "source": [
    "example_universe = universe.copy()\n",
    "example_universe[\"cutoff\"] = example_universe[\"cutoff\"][0]\n",
    "example_universe[\"eval_fairness_grouping\"] = example_universe[\"eval_fairness_grouping\"][0]\n",
    "fairness_dict, metric_frame = universe_analysis.compute_metrics(\n",
    "    example_universe,\n",
    "    y_pred_prob=probs_test,\n",
    "    y_test=y_true,\n",
    "    org_test=org_test,\n",
    ")"
   ]
  },
  {
   "cell_type": "markdown",
   "id": "f95d4e02",
   "metadata": {
    "papermill": {
     "duration": 0.028417,
     "end_time": "2025-07-30T20:16:08.167708",
     "exception": false,
     "start_time": "2025-07-30T20:16:08.139291",
     "status": "completed"
    },
    "tags": []
   },
   "source": [
    "# Overall"
   ]
  },
  {
   "cell_type": "markdown",
   "id": "bdee4871",
   "metadata": {
    "papermill": {
     "duration": 0.030232,
     "end_time": "2025-07-30T20:16:08.226994",
     "exception": false,
     "start_time": "2025-07-30T20:16:08.196762",
     "status": "completed"
    },
    "tags": []
   },
   "source": [
    "Fairness\n",
    "Main fairness target: Equalized Odds. Seems to be a better fit than equal opportunity, since we're not only interested in Y = 1. Seems to be a better fit than demographic parity, since we also care about accuracy, not just equal distribution of preds.\n",
    "\n",
    "Pick column for computation of fairness metrics\n",
    "\n",
    "Performance\n",
    "Overall performance measures, most interesting in relation to the measures split by group below"
   ]
  },
  {
   "cell_type": "code",
   "execution_count": 74,
   "id": "c4e067c6",
   "metadata": {
    "execution": {
     "iopub.execute_input": "2025-07-30T20:16:08.284540Z",
     "iopub.status.busy": "2025-07-30T20:16:08.284017Z",
     "iopub.status.idle": "2025-07-30T20:16:08.293417Z",
     "shell.execute_reply": "2025-07-30T20:16:08.292349Z"
    },
    "papermill": {
     "duration": 0.041595,
     "end_time": "2025-07-30T20:16:08.295173",
     "exception": false,
     "start_time": "2025-07-30T20:16:08.253578",
     "status": "completed"
    },
    "tags": []
   },
   "outputs": [
    {
     "data": {
      "text/plain": [
       "accuracy                   0.218136\n",
       "balanced accuracy          0.534680\n",
       "f1                         0.239639\n",
       "precision                  0.136898\n",
       "false positive rate        0.891103\n",
       "false negative rate        0.039538\n",
       "selection rate             0.900000\n",
       "count                  89710.000000\n",
       "dtype: float64"
      ]
     },
     "execution_count": 74,
     "metadata": {},
     "output_type": "execute_result"
    }
   ],
   "source": [
    "metric_frame.overall"
   ]
  },
  {
   "cell_type": "markdown",
   "id": "e968fe9d",
   "metadata": {
    "papermill": {
     "duration": 0.028073,
     "end_time": "2025-07-30T20:16:08.348712",
     "exception": false,
     "start_time": "2025-07-30T20:16:08.320639",
     "status": "completed"
    },
    "tags": []
   },
   "source": [
    "By Group"
   ]
  },
  {
   "cell_type": "code",
   "execution_count": 75,
   "id": "ec325bce",
   "metadata": {
    "execution": {
     "iopub.execute_input": "2025-07-30T20:16:08.405682Z",
     "iopub.status.busy": "2025-07-30T20:16:08.405143Z",
     "iopub.status.idle": "2025-07-30T20:16:08.422587Z",
     "shell.execute_reply": "2025-07-30T20:16:08.421509Z"
    },
    "papermill": {
     "duration": 0.048159,
     "end_time": "2025-07-30T20:16:08.424550",
     "exception": false,
     "start_time": "2025-07-30T20:16:08.376391",
     "status": "completed"
    },
    "tags": []
   },
   "outputs": [
    {
     "data": {
      "text/html": [
       "<div>\n",
       "<style scoped>\n",
       "    .dataframe tbody tr th:only-of-type {\n",
       "        vertical-align: middle;\n",
       "    }\n",
       "\n",
       "    .dataframe tbody tr th {\n",
       "        vertical-align: top;\n",
       "    }\n",
       "\n",
       "    .dataframe thead th {\n",
       "        text-align: right;\n",
       "    }\n",
       "</style>\n",
       "<table border=\"1\" class=\"dataframe\">\n",
       "  <thead>\n",
       "    <tr style=\"text-align: right;\">\n",
       "      <th></th>\n",
       "      <th>accuracy</th>\n",
       "      <th>balanced accuracy</th>\n",
       "      <th>f1</th>\n",
       "      <th>precision</th>\n",
       "      <th>false positive rate</th>\n",
       "      <th>false negative rate</th>\n",
       "      <th>selection rate</th>\n",
       "      <th>count</th>\n",
       "    </tr>\n",
       "    <tr>\n",
       "      <th>majmin</th>\n",
       "      <th></th>\n",
       "      <th></th>\n",
       "      <th></th>\n",
       "      <th></th>\n",
       "      <th></th>\n",
       "      <th></th>\n",
       "      <th></th>\n",
       "      <th></th>\n",
       "    </tr>\n",
       "  </thead>\n",
       "  <tbody>\n",
       "    <tr>\n",
       "      <th>majority</th>\n",
       "      <td>0.240726</td>\n",
       "      <td>0.543129</td>\n",
       "      <td>0.249310</td>\n",
       "      <td>0.143388</td>\n",
       "      <td>0.867899</td>\n",
       "      <td>0.045842</td>\n",
       "      <td>0.879297</td>\n",
       "      <td>69170.0</td>\n",
       "    </tr>\n",
       "    <tr>\n",
       "      <th>minority</th>\n",
       "      <td>0.142064</td>\n",
       "      <td>0.508522</td>\n",
       "      <td>0.209279</td>\n",
       "      <td>0.117080</td>\n",
       "      <td>0.967753</td>\n",
       "      <td>0.015203</td>\n",
       "      <td>0.969718</td>\n",
       "      <td>20540.0</td>\n",
       "    </tr>\n",
       "  </tbody>\n",
       "</table>\n",
       "</div>"
      ],
      "text/plain": [
       "          accuracy  balanced accuracy        f1  precision  \\\n",
       "majmin                                                       \n",
       "majority  0.240726           0.543129  0.249310   0.143388   \n",
       "minority  0.142064           0.508522  0.209279   0.117080   \n",
       "\n",
       "          false positive rate  false negative rate  selection rate    count  \n",
       "majmin                                                                       \n",
       "majority             0.867899             0.045842        0.879297  69170.0  \n",
       "minority             0.967753             0.015203        0.969718  20540.0  "
      ]
     },
     "execution_count": 75,
     "metadata": {},
     "output_type": "execute_result"
    }
   ],
   "source": [
    "metric_frame.by_group"
   ]
  },
  {
   "cell_type": "code",
   "execution_count": 76,
   "id": "a9ddbe63",
   "metadata": {
    "execution": {
     "iopub.execute_input": "2025-07-30T20:16:08.482914Z",
     "iopub.status.busy": "2025-07-30T20:16:08.482175Z",
     "iopub.status.idle": "2025-07-30T20:16:10.882862Z",
     "shell.execute_reply": "2025-07-30T20:16:10.881486Z"
    },
    "papermill": {
     "duration": 2.432062,
     "end_time": "2025-07-30T20:16:10.884667",
     "exception": false,
     "start_time": "2025-07-30T20:16:08.452605",
     "status": "completed"
    },
    "tags": []
   },
   "outputs": [
    {
     "data": {
      "text/plain": [
       "array([[<Axes: title={'center': 'accuracy'}, xlabel='majmin'>,\n",
       "        <Axes: title={'center': 'balanced accuracy'}, xlabel='majmin'>,\n",
       "        <Axes: title={'center': 'f1'}, xlabel='majmin'>],\n",
       "       [<Axes: title={'center': 'precision'}, xlabel='majmin'>,\n",
       "        <Axes: title={'center': 'false positive rate'}, xlabel='majmin'>,\n",
       "        <Axes: title={'center': 'false negative rate'}, xlabel='majmin'>],\n",
       "       [<Axes: title={'center': 'selection rate'}, xlabel='majmin'>,\n",
       "        <Axes: title={'center': 'count'}, xlabel='majmin'>,\n",
       "        <Axes: xlabel='majmin'>]], dtype=object)"
      ]
     },
     "execution_count": 76,
     "metadata": {},
     "output_type": "execute_result"
    },
    {
     "data": {
      "image/png": "[encoded data removed]",
      "text/plain": [
       "<Figure size 1200x800 with 9 Axes>"
      ]
     },
     "metadata": {},
     "output_type": "display_data"
    }
   ],
   "source": [
    "# In a graphic\n",
    "metric_frame.by_group.plot.bar(\n",
    "    subplots=True,\n",
    "    layout=[3, 3],\n",
    "    legend=False,\n",
    "    figsize=[12, 8],\n",
    "    title=\"Show all metrics\",\n",
    ")"
   ]
  },
  {
   "cell_type": "markdown",
   "id": "f57a0bac",
   "metadata": {
    "papermill": {
     "duration": 0.029814,
     "end_time": "2025-07-30T20:16:10.943660",
     "exception": false,
     "start_time": "2025-07-30T20:16:10.913846",
     "status": "completed"
    },
    "tags": []
   },
   "source": [
    "# Final Output"
   ]
  },
  {
   "cell_type": "code",
   "execution_count": 77,
   "id": "96d280a3",
   "metadata": {
    "execution": {
     "iopub.execute_input": "2025-07-30T20:16:11.004917Z",
     "iopub.status.busy": "2025-07-30T20:16:11.003916Z",
     "iopub.status.idle": "2025-07-30T20:16:11.013258Z",
     "shell.execute_reply": "2025-07-30T20:16:11.012111Z"
    },
    "papermill": {
     "duration": 0.041727,
     "end_time": "2025-07-30T20:16:11.014983",
     "exception": false,
     "start_time": "2025-07-30T20:16:10.973256",
     "status": "completed"
    },
    "tags": []
   },
   "outputs": [
    {
     "data": {
      "text/plain": [
       "4"
      ]
     },
     "execution_count": 77,
     "metadata": {},
     "output_type": "execute_result"
    }
   ],
   "source": [
    "sub_universes = universe_analysis.generate_sub_universes()\n",
    "len(sub_universes)"
   ]
  },
  {
   "cell_type": "code",
   "execution_count": 78,
   "id": "92adf7ba",
   "metadata": {
    "execution": {
     "iopub.execute_input": "2025-07-30T20:16:11.072738Z",
     "iopub.status.busy": "2025-07-30T20:16:11.071933Z",
     "iopub.status.idle": "2025-07-30T20:16:11.078404Z",
     "shell.execute_reply": "2025-07-30T20:16:11.077477Z"
    },
    "papermill": {
     "duration": 0.03775,
     "end_time": "2025-07-30T20:16:11.080127",
     "exception": false,
     "start_time": "2025-07-30T20:16:11.042377",
     "status": "completed"
    },
    "tags": []
   },
   "outputs": [],
   "source": [
    "def filter_sub_universe_data(sub_universe, org_test):\n",
    "    # Keep all rows — no filtering\n",
    "    keep_rows_mask = np.ones(org_test.shape[0], dtype=bool)\n",
    "\n",
    "    print(f\"[INFO] Keeping all rows: {keep_rows_mask.sum()} rows retained.\")\n",
    "    return keep_rows_mask"
   ]
  },
  {
   "cell_type": "code",
   "execution_count": 79,
   "id": "4a759155",
   "metadata": {
    "execution": {
     "iopub.execute_input": "2025-07-30T20:16:11.138343Z",
     "iopub.status.busy": "2025-07-30T20:16:11.137693Z",
     "iopub.status.idle": "2025-07-30T20:16:20.759375Z",
     "shell.execute_reply": "2025-07-30T20:16:20.758589Z"
    },
    "papermill": {
     "duration": 9.65259,
     "end_time": "2025-07-30T20:16:20.760963",
     "exception": false,
     "start_time": "2025-07-30T20:16:11.108373",
     "status": "completed"
    },
    "tags": []
   },
   "outputs": [
    {
     "name": "stdout",
     "output_type": "stream",
     "text": [
      "Stopping execution_time clock.\n",
      "[INFO] Keeping all rows: 89710 rows retained.\n"
     ]
    },
    {
     "name": "stdout",
     "output_type": "stream",
     "text": [
      "[INFO] Keeping all rows: 89710 rows retained.\n"
     ]
    },
    {
     "name": "stdout",
     "output_type": "stream",
     "text": [
      "[INFO] Keeping all rows: 89710 rows retained.\n"
     ]
    },
    {
     "name": "stdout",
     "output_type": "stream",
     "text": [
      "[INFO] Keeping all rows: 89710 rows retained.\n"
     ]
    },
    {
     "data": {
      "text/html": [
       "<div>\n",
       "<style scoped>\n",
       "    .dataframe tbody tr th:only-of-type {\n",
       "        vertical-align: middle;\n",
       "    }\n",
       "\n",
       "    .dataframe tbody tr th {\n",
       "        vertical-align: top;\n",
       "    }\n",
       "\n",
       "    .dataframe thead th {\n",
       "        text-align: right;\n",
       "    }\n",
       "</style>\n",
       "<table border=\"1\" class=\"dataframe\">\n",
       "  <thead>\n",
       "    <tr style=\"text-align: right;\">\n",
       "      <th></th>\n",
       "      <th>run_no</th>\n",
       "      <th>universe_id</th>\n",
       "      <th>universe_settings</th>\n",
       "      <th>execution_time</th>\n",
       "      <th>test_size_n</th>\n",
       "      <th>test_size_frac</th>\n",
       "      <th>fair_main_equalized_odds_difference</th>\n",
       "      <th>fair_main_equalized_odds_ratio</th>\n",
       "      <th>fair_main_demographic_parity_difference</th>\n",
       "      <th>fair_main_demographic_parity_ratio</th>\n",
       "      <th>...</th>\n",
       "      <th>perf_grp_precision_0</th>\n",
       "      <th>perf_grp_precision_1</th>\n",
       "      <th>perf_grp_false positive rate_0</th>\n",
       "      <th>perf_grp_false positive rate_1</th>\n",
       "      <th>perf_grp_false negative rate_0</th>\n",
       "      <th>perf_grp_false negative rate_1</th>\n",
       "      <th>perf_grp_selection rate_0</th>\n",
       "      <th>perf_grp_selection rate_1</th>\n",
       "      <th>perf_grp_count_0</th>\n",
       "      <th>perf_grp_count_1</th>\n",
       "    </tr>\n",
       "  </thead>\n",
       "  <tbody>\n",
       "    <tr>\n",
       "      <th>0</th>\n",
       "      <td>14</td>\n",
       "      <td>7d3dea0d9c22d9cddf0154c8bd9be6dd</td>\n",
       "      <td>{\"cutoff\": \"quantile_0.1\", \"eval_fairness_grou...</td>\n",
       "      <td>27.438042</td>\n",
       "      <td>89710</td>\n",
       "      <td>1.0</td>\n",
       "      <td>0.099853</td>\n",
       "      <td>0.896819</td>\n",
       "      <td>0.090420</td>\n",
       "      <td>0.906756</td>\n",
       "      <td>...</td>\n",
       "      <td>NaN</td>\n",
       "      <td>NaN</td>\n",
       "      <td>NaN</td>\n",
       "      <td>NaN</td>\n",
       "      <td>NaN</td>\n",
       "      <td>NaN</td>\n",
       "      <td>NaN</td>\n",
       "      <td>NaN</td>\n",
       "      <td>NaN</td>\n",
       "      <td>NaN</td>\n",
       "    </tr>\n",
       "    <tr>\n",
       "      <th>0</th>\n",
       "      <td>14</td>\n",
       "      <td>7d3dea0d9c22d9cddf0154c8bd9be6dd</td>\n",
       "      <td>{\"cutoff\": \"quantile_0.1\", \"eval_fairness_grou...</td>\n",
       "      <td>27.438042</td>\n",
       "      <td>89710</td>\n",
       "      <td>1.0</td>\n",
       "      <td>0.099853</td>\n",
       "      <td>0.896819</td>\n",
       "      <td>0.090420</td>\n",
       "      <td>0.906756</td>\n",
       "      <td>...</td>\n",
       "      <td>0.11708</td>\n",
       "      <td>0.143388</td>\n",
       "      <td>0.967753</td>\n",
       "      <td>0.867899</td>\n",
       "      <td>0.015203</td>\n",
       "      <td>0.045842</td>\n",
       "      <td>0.969718</td>\n",
       "      <td>0.879297</td>\n",
       "      <td>20540.0</td>\n",
       "      <td>69170.0</td>\n",
       "    </tr>\n",
       "    <tr>\n",
       "      <th>0</th>\n",
       "      <td>14</td>\n",
       "      <td>7d3dea0d9c22d9cddf0154c8bd9be6dd</td>\n",
       "      <td>{\"cutoff\": \"quantile_0.25\", \"eval_fairness_gro...</td>\n",
       "      <td>27.438042</td>\n",
       "      <td>89710</td>\n",
       "      <td>1.0</td>\n",
       "      <td>0.224603</td>\n",
       "      <td>0.751159</td>\n",
       "      <td>0.205915</td>\n",
       "      <td>0.773412</td>\n",
       "      <td>...</td>\n",
       "      <td>NaN</td>\n",
       "      <td>NaN</td>\n",
       "      <td>NaN</td>\n",
       "      <td>NaN</td>\n",
       "      <td>NaN</td>\n",
       "      <td>NaN</td>\n",
       "      <td>NaN</td>\n",
       "      <td>NaN</td>\n",
       "      <td>NaN</td>\n",
       "      <td>NaN</td>\n",
       "    </tr>\n",
       "    <tr>\n",
       "      <th>0</th>\n",
       "      <td>14</td>\n",
       "      <td>7d3dea0d9c22d9cddf0154c8bd9be6dd</td>\n",
       "      <td>{\"cutoff\": \"quantile_0.25\", \"eval_fairness_gro...</td>\n",
       "      <td>27.438042</td>\n",
       "      <td>89710</td>\n",
       "      <td>1.0</td>\n",
       "      <td>0.224603</td>\n",
       "      <td>0.751159</td>\n",
       "      <td>0.205915</td>\n",
       "      <td>0.773412</td>\n",
       "      <td>...</td>\n",
       "      <td>0.12129</td>\n",
       "      <td>0.162827</td>\n",
       "      <td>0.902597</td>\n",
       "      <td>0.677994</td>\n",
       "      <td>0.043919</td>\n",
       "      <td>0.133917</td>\n",
       "      <td>0.908763</td>\n",
       "      <td>0.702848</td>\n",
       "      <td>20540.0</td>\n",
       "      <td>69170.0</td>\n",
       "    </tr>\n",
       "  </tbody>\n",
       "</table>\n",
       "<p>4 rows × 50 columns</p>\n",
       "</div>"
      ],
      "text/plain": [
       "  run_no                       universe_id  \\\n",
       "0     14  7d3dea0d9c22d9cddf0154c8bd9be6dd   \n",
       "0     14  7d3dea0d9c22d9cddf0154c8bd9be6dd   \n",
       "0     14  7d3dea0d9c22d9cddf0154c8bd9be6dd   \n",
       "0     14  7d3dea0d9c22d9cddf0154c8bd9be6dd   \n",
       "\n",
       "                                   universe_settings  execution_time  \\\n",
       "0  {\"cutoff\": \"quantile_0.1\", \"eval_fairness_grou...       27.438042   \n",
       "0  {\"cutoff\": \"quantile_0.1\", \"eval_fairness_grou...       27.438042   \n",
       "0  {\"cutoff\": \"quantile_0.25\", \"eval_fairness_gro...       27.438042   \n",
       "0  {\"cutoff\": \"quantile_0.25\", \"eval_fairness_gro...       27.438042   \n",
       "\n",
       "   test_size_n  test_size_frac  fair_main_equalized_odds_difference  \\\n",
       "0        89710             1.0                             0.099853   \n",
       "0        89710             1.0                             0.099853   \n",
       "0        89710             1.0                             0.224603   \n",
       "0        89710             1.0                             0.224603   \n",
       "\n",
       "   fair_main_equalized_odds_ratio  fair_main_demographic_parity_difference  \\\n",
       "0                        0.896819                                 0.090420   \n",
       "0                        0.896819                                 0.090420   \n",
       "0                        0.751159                                 0.205915   \n",
       "0                        0.751159                                 0.205915   \n",
       "\n",
       "   fair_main_demographic_parity_ratio  ...  perf_grp_precision_0  \\\n",
       "0                            0.906756  ...                   NaN   \n",
       "0                            0.906756  ...               0.11708   \n",
       "0                            0.773412  ...                   NaN   \n",
       "0                            0.773412  ...               0.12129   \n",
       "\n",
       "   perf_grp_precision_1  perf_grp_false positive rate_0  \\\n",
       "0                   NaN                             NaN   \n",
       "0              0.143388                        0.967753   \n",
       "0                   NaN                             NaN   \n",
       "0              0.162827                        0.902597   \n",
       "\n",
       "   perf_grp_false positive rate_1  perf_grp_false negative rate_0  \\\n",
       "0                             NaN                             NaN   \n",
       "0                        0.867899                        0.015203   \n",
       "0                             NaN                             NaN   \n",
       "0                        0.677994                        0.043919   \n",
       "\n",
       "   perf_grp_false negative rate_1  perf_grp_selection rate_0  \\\n",
       "0                             NaN                        NaN   \n",
       "0                        0.045842                   0.969718   \n",
       "0                             NaN                        NaN   \n",
       "0                        0.133917                   0.908763   \n",
       "\n",
       "   perf_grp_selection rate_1  perf_grp_count_0  perf_grp_count_1  \n",
       "0                        NaN               NaN               NaN  \n",
       "0                   0.879297           20540.0           69170.0  \n",
       "0                        NaN               NaN               NaN  \n",
       "0                   0.702848           20540.0           69170.0  \n",
       "\n",
       "[4 rows x 50 columns]"
      ]
     },
     "execution_count": 79,
     "metadata": {},
     "output_type": "execute_result"
    }
   ],
   "source": [
    "final_output = universe_analysis.generate_final_output(\n",
    "    y_pred_prob=probs_test,\n",
    "    y_test=y_true,\n",
    "    org_test=org_test,\n",
    "    filter_data=filter_sub_universe_data,\n",
    "    cp_metrics_df=cp_metrics_df,\n",
    "    save=True,\n",
    ")\n",
    "final_output"
   ]
  },
  {
   "cell_type": "code",
   "execution_count": null,
   "id": "721ff514-cb11-46f8-b6fc-50392f74b5cb",
   "metadata": {
    "papermill": {
     "duration": 0.030587,
     "end_time": "2025-07-30T20:16:20.824252",
     "exception": false,
     "start_time": "2025-07-30T20:16:20.793665",
     "status": "completed"
    },
    "tags": []
   },
   "outputs": [],
   "source": []
  }
 ],
 "metadata": {
  "celltoolbar": "Tags",
  "kernelspec": {
   "display_name": "Python (CMA Fairness)",
   "language": "python",
   "name": "cma_fair_env"
  },
  "language_info": {
   "codemirror_mode": {
    "name": "ipython",
    "version": 3
   },
   "file_extension": ".py",
   "mimetype": "text/x-python",
   "name": "python",
   "nbconvert_exporter": "python",
   "pygments_lexer": "ipython3",
   "version": "3.10.12"
  },
  "papermill": {
   "default_parameters": {},
   "duration": 41.597101,
   "end_time": "2025-07-30T20:16:21.673083",
   "environment_variables": {},
   "exception": null,
   "input_path": "universe_analysis.ipynb",
   "output_path": "output/runs/14/notebooks/m_14-7d3dea0d9c22d9cddf0154c8bd9be6dd.ipynb",
   "parameters": {
    "output_dir": "output",
    "run_no": "14",
    "seed": "2023",
    "universe": "{\"cutoff\": [\"quantile_0.1\", \"quantile_0.25\"], \"eval_fairness_grouping\": [\"majority-minority\", \"nationality-all\"], \"exclude_features\": \"nationality\", \"exclude_subgroups\": \"drop-non-german\", \"model\": \"logreg\", \"scale\": \"do-not-scale\", \"training_size\": \"25k\", \"training_year\": \"2012_14\"}",
    "universe_id": "7d3dea0d9c22d9cddf0154c8bd9be6dd"
   },
   "start_time": "2025-07-30T20:15:40.075982",
   "version": "2.6.0"
  }
 },
 "nbformat": 4,
 "nbformat_minor": 5
}